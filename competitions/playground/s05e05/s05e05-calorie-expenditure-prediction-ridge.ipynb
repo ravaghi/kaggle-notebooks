{
 "cells": [
  {
   "cell_type": "code",
   "execution_count": 1,
   "id": "f20af04c",
   "metadata": {
    "_kg_hide-output": true,
    "execution": {
     "iopub.execute_input": "2025-05-04T20:34:45.075712Z",
     "iopub.status.busy": "2025-05-04T20:34:45.074814Z",
     "iopub.status.idle": "2025-05-04T20:34:53.925119Z",
     "shell.execute_reply": "2025-05-04T20:34:53.924226Z"
    },
    "papermill": {
     "duration": 8.859192,
     "end_time": "2025-05-04T20:34:53.926785",
     "exception": false,
     "start_time": "2025-05-04T20:34:45.067593",
     "status": "completed"
    },
    "scrolled": true,
    "tags": []
   },
   "outputs": [
    {
     "name": "stdout",
     "output_type": "stream",
     "text": [
      "Collecting koolbox\r\n",
      "  Downloading koolbox-0.1.2-py3-none-any.whl.metadata (2.4 kB)\r\n",
      "Collecting scikit-learn==1.5.2\r\n",
      "  Downloading scikit_learn-1.5.2-cp311-cp311-manylinux_2_17_x86_64.manylinux2014_x86_64.whl.metadata (13 kB)\r\n",
      "Requirement already satisfied: numpy>=1.19.5 in /usr/local/lib/python3.11/dist-packages (from scikit-learn==1.5.2) (1.26.4)\r\n",
      "Requirement already satisfied: scipy>=1.6.0 in /usr/local/lib/python3.11/dist-packages (from scikit-learn==1.5.2) (1.15.2)\r\n",
      "Requirement already satisfied: joblib>=1.2.0 in /usr/local/lib/python3.11/dist-packages (from scikit-learn==1.5.2) (1.4.2)\r\n",
      "Requirement already satisfied: threadpoolctl>=3.1.0 in /usr/local/lib/python3.11/dist-packages (from scikit-learn==1.5.2) (3.6.0)\r\n",
      "Requirement already satisfied: pandas>=1.0.0 in /usr/local/lib/python3.11/dist-packages (from koolbox) (2.2.3)\r\n",
      "Requirement already satisfied: mkl_fft in /usr/local/lib/python3.11/dist-packages (from numpy>=1.19.5->scikit-learn==1.5.2) (1.3.8)\r\n",
      "Requirement already satisfied: mkl_random in /usr/local/lib/python3.11/dist-packages (from numpy>=1.19.5->scikit-learn==1.5.2) (1.2.4)\r\n",
      "Requirement already satisfied: mkl_umath in /usr/local/lib/python3.11/dist-packages (from numpy>=1.19.5->scikit-learn==1.5.2) (0.1.1)\r\n",
      "Requirement already satisfied: mkl in /usr/local/lib/python3.11/dist-packages (from numpy>=1.19.5->scikit-learn==1.5.2) (2025.1.0)\r\n",
      "Requirement already satisfied: tbb4py in /usr/local/lib/python3.11/dist-packages (from numpy>=1.19.5->scikit-learn==1.5.2) (2022.1.0)\r\n",
      "Requirement already satisfied: mkl-service in /usr/local/lib/python3.11/dist-packages (from numpy>=1.19.5->scikit-learn==1.5.2) (2.4.1)\r\n",
      "Requirement already satisfied: python-dateutil>=2.8.2 in /usr/local/lib/python3.11/dist-packages (from pandas>=1.0.0->koolbox) (2.9.0.post0)\r\n",
      "Requirement already satisfied: pytz>=2020.1 in /usr/local/lib/python3.11/dist-packages (from pandas>=1.0.0->koolbox) (2025.2)\r\n",
      "Requirement already satisfied: tzdata>=2022.7 in /usr/local/lib/python3.11/dist-packages (from pandas>=1.0.0->koolbox) (2025.2)\r\n",
      "Requirement already satisfied: six>=1.5 in /usr/local/lib/python3.11/dist-packages (from python-dateutil>=2.8.2->pandas>=1.0.0->koolbox) (1.17.0)\r\n",
      "Requirement already satisfied: intel-openmp<2026,>=2024 in /usr/local/lib/python3.11/dist-packages (from mkl->numpy>=1.19.5->scikit-learn==1.5.2) (2024.2.0)\r\n",
      "Requirement already satisfied: tbb==2022.* in /usr/local/lib/python3.11/dist-packages (from mkl->numpy>=1.19.5->scikit-learn==1.5.2) (2022.1.0)\r\n",
      "Requirement already satisfied: tcmlib==1.* in /usr/local/lib/python3.11/dist-packages (from tbb==2022.*->mkl->numpy>=1.19.5->scikit-learn==1.5.2) (1.2.0)\r\n",
      "Requirement already satisfied: intel-cmplr-lib-rt in /usr/local/lib/python3.11/dist-packages (from mkl_umath->numpy>=1.19.5->scikit-learn==1.5.2) (2024.2.0)\r\n",
      "Requirement already satisfied: intel-cmplr-lib-ur==2024.2.0 in /usr/local/lib/python3.11/dist-packages (from intel-openmp<2026,>=2024->mkl->numpy>=1.19.5->scikit-learn==1.5.2) (2024.2.0)\r\n",
      "Downloading scikit_learn-1.5.2-cp311-cp311-manylinux_2_17_x86_64.manylinux2014_x86_64.whl (13.3 MB)\r\n",
      "\u001b[2K   \u001b[90m━━━━━━━━━━━━━━━━━━━━━━━━━━━━━━━━━━━━━━━━\u001b[0m \u001b[32m13.3/13.3 MB\u001b[0m \u001b[31m65.2 MB/s\u001b[0m eta \u001b[36m0:00:00\u001b[0m\r\n",
      "\u001b[?25hDownloading koolbox-0.1.2-py3-none-any.whl (11 kB)\r\n",
      "Installing collected packages: scikit-learn, koolbox\r\n",
      "  Attempting uninstall: scikit-learn\r\n",
      "    Found existing installation: scikit-learn 1.2.2\r\n",
      "    Uninstalling scikit-learn-1.2.2:\r\n",
      "      Successfully uninstalled scikit-learn-1.2.2\r\n",
      "\u001b[31mERROR: pip's dependency resolver does not currently take into account all the packages that are installed. This behaviour is the source of the following dependency conflicts.\r\n",
      "bigframes 1.36.0 requires rich<14,>=12.4.4, but you have rich 14.0.0 which is incompatible.\u001b[0m\u001b[31m\r\n",
      "\u001b[0mSuccessfully installed koolbox-0.1.2 scikit-learn-1.5.2\r\n"
     ]
    }
   ],
   "source": [
    "!pip install koolbox scikit-learn==1.5.2"
   ]
  },
  {
   "cell_type": "markdown",
   "id": "e83b1537",
   "metadata": {
    "papermill": {
     "duration": 0.005512,
     "end_time": "2025-05-04T20:34:53.938517",
     "exception": false,
     "start_time": "2025-05-04T20:34:53.933005",
     "status": "completed"
    },
    "tags": []
   },
   "source": [
    "# Imports and configs"
   ]
  },
  {
   "cell_type": "code",
   "execution_count": 2,
   "id": "8023772f",
   "metadata": {
    "_kg_hide-output": true,
    "execution": {
     "iopub.execute_input": "2025-05-04T20:34:53.950932Z",
     "iopub.status.busy": "2025-05-04T20:34:53.950600Z",
     "iopub.status.idle": "2025-05-04T20:35:03.007166Z",
     "shell.execute_reply": "2025-05-04T20:35:03.006222Z"
    },
    "papermill": {
     "duration": 9.064948,
     "end_time": "2025-05-04T20:35:03.009031",
     "exception": false,
     "start_time": "2025-05-04T20:34:53.944083",
     "status": "completed"
    },
    "tags": []
   },
   "outputs": [],
   "source": [
    "from sklearn.ensemble import HistGradientBoostingRegressor\n",
    "from sklearn.feature_selection import mutual_info_regression\n",
    "from sklearn.metrics import root_mean_squared_error\n",
    "from sklearn.model_selection import KFold\n",
    "from sklearn.linear_model import Ridge\n",
    "from lightgbm import LGBMRegressor, early_stopping, log_evaluation\n",
    "from catboost import CatBoostRegressor\n",
    "from xgboost import XGBRegressor\n",
    "from koolbox import Trainer\n",
    "import matplotlib.pyplot as plt\n",
    "import seaborn as sns\n",
    "import pandas as pd\n",
    "import numpy as np\n",
    "import warnings\n",
    "import joblib\n",
    "import shutil\n",
    "import optuna\n",
    "import json\n",
    "import glob\n",
    "\n",
    "warnings.filterwarnings(\"ignore\")"
   ]
  },
  {
   "cell_type": "code",
   "execution_count": 3,
   "id": "da8d1f24",
   "metadata": {
    "execution": {
     "iopub.execute_input": "2025-05-04T20:35:03.027970Z",
     "iopub.status.busy": "2025-05-04T20:35:03.027407Z",
     "iopub.status.idle": "2025-05-04T20:35:03.032740Z",
     "shell.execute_reply": "2025-05-04T20:35:03.031975Z"
    },
    "papermill": {
     "duration": 0.014464,
     "end_time": "2025-05-04T20:35:03.034154",
     "exception": false,
     "start_time": "2025-05-04T20:35:03.019690",
     "status": "completed"
    },
    "tags": []
   },
   "outputs": [],
   "source": [
    "class CFG:\n",
    "    train_path = \"/kaggle/input/playground-series-s5e5/train.csv\"\n",
    "    test_path = \"/kaggle/input/playground-series-s5e5/test.csv\"\n",
    "    sample_sub_path = \"/kaggle/input/playground-series-s5e5/sample_submission.csv\"\n",
    "    \n",
    "    original_path = \"/kaggle/input/calories-burnt-prediction/calories.csv\"\n",
    "\n",
    "    metric = root_mean_squared_error\n",
    "    target = \"Calories\"\n",
    "    n_folds = 5\n",
    "    seed = 42\n",
    "\n",
    "    cv = KFold(n_splits=n_folds, random_state=seed, shuffle=True)\n",
    "\n",
    "    run_optuna = True\n",
    "    n_optuna_trials = 250"
   ]
  },
  {
   "cell_type": "markdown",
   "id": "116eaeac",
   "metadata": {
    "papermill": {
     "duration": 0.005611,
     "end_time": "2025-05-04T20:35:03.045644",
     "exception": false,
     "start_time": "2025-05-04T20:35:03.040033",
     "status": "completed"
    },
    "tags": []
   },
   "source": [
    "# Data loading and preprocessing"
   ]
  },
  {
   "cell_type": "code",
   "execution_count": 4,
   "id": "7d63ed91",
   "metadata": {
    "execution": {
     "iopub.execute_input": "2025-05-04T20:35:03.058852Z",
     "iopub.status.busy": "2025-05-04T20:35:03.057848Z",
     "iopub.status.idle": "2025-05-04T20:35:04.485874Z",
     "shell.execute_reply": "2025-05-04T20:35:04.484633Z"
    },
    "papermill": {
     "duration": 1.436436,
     "end_time": "2025-05-04T20:35:04.487647",
     "exception": false,
     "start_time": "2025-05-04T20:35:03.051211",
     "status": "completed"
    },
    "tags": []
   },
   "outputs": [],
   "source": [
    "train = pd.read_csv(CFG.train_path, index_col=\"id\")\n",
    "test = pd.read_csv(CFG.test_path, index_col=\"id\")\n",
    "\n",
    "train[\"Sex\"] = train[\"Sex\"].map({\"male\": 0, \"female\": 1})\n",
    "test[\"Sex\"] = test[\"Sex\"].map({\"male\": 0, \"female\": 1})\n",
    "\n",
    "X = train.drop(CFG.target, axis=1)\n",
    "y = np.log1p(train[CFG.target])\n",
    "X_test = test"
   ]
  },
  {
   "cell_type": "code",
   "execution_count": 5,
   "id": "cddc6d89",
   "metadata": {
    "execution": {
     "iopub.execute_input": "2025-05-04T20:35:04.503830Z",
     "iopub.status.busy": "2025-05-04T20:35:04.503520Z",
     "iopub.status.idle": "2025-05-04T20:35:04.538471Z",
     "shell.execute_reply": "2025-05-04T20:35:04.537764Z"
    },
    "papermill": {
     "duration": 0.043529,
     "end_time": "2025-05-04T20:35:04.540002",
     "exception": false,
     "start_time": "2025-05-04T20:35:04.496473",
     "status": "completed"
    },
    "tags": []
   },
   "outputs": [],
   "source": [
    "original = pd.read_csv(CFG.original_path, index_col=\"User_ID\")\n",
    "original[\"Gender\"] = original[\"Gender\"].map({\"male\": 0, \"female\": 1})\n",
    "original = original.rename(columns={\"Gender\": \"Sex\"})\n",
    "\n",
    "X_original = original.drop(CFG.target, axis=1)\n",
    "y_original = np.log1p(original[CFG.target])"
   ]
  },
  {
   "cell_type": "code",
   "execution_count": 6,
   "id": "1ebbf054",
   "metadata": {
    "execution": {
     "iopub.execute_input": "2025-05-04T20:35:04.553008Z",
     "iopub.status.busy": "2025-05-04T20:35:04.552724Z",
     "iopub.status.idle": "2025-05-04T20:36:19.043537Z",
     "shell.execute_reply": "2025-05-04T20:36:19.042790Z"
    },
    "papermill": {
     "duration": 74.504845,
     "end_time": "2025-05-04T20:36:19.050855",
     "exception": false,
     "start_time": "2025-05-04T20:35:04.546010",
     "status": "completed"
    },
    "tags": []
   },
   "outputs": [
    {
     "data": {
      "text/html": [
       "<style type=\"text/css\">\n",
       "#T_df7e0_row0_col0 {\n",
       "  width: 10em;\n",
       "  background: linear-gradient(90deg, #006837 100.0%, transparent 100.0%);\n",
       "}\n",
       "#T_df7e0_row1_col0 {\n",
       "  width: 10em;\n",
       "  background: linear-gradient(90deg, #afdd70 68.3%, transparent 68.3%);\n",
       "}\n",
       "#T_df7e0_row2_col0 {\n",
       "  width: 10em;\n",
       "  background: linear-gradient(90deg, #daf08d 59.6%, transparent 59.6%);\n",
       "}\n",
       "#T_df7e0_row3_col0 {\n",
       "  width: 10em;\n",
       "  background: linear-gradient(90deg, #c21c27 6.0%, transparent 6.0%);\n",
       "}\n",
       "#T_df7e0_row4_col0, #T_df7e0_row5_col0 {\n",
       "  width: 10em;\n",
       "  background: linear-gradient(90deg, #b50f26 3.4%, transparent 3.4%);\n",
       "}\n",
       "#T_df7e0_row6_col0 {\n",
       "  width: 10em;\n",
       "  background: linear-gradient(90deg, #a90426 1.0%, transparent 1.0%);\n",
       "}\n",
       "</style>\n",
       "<table id=\"T_df7e0\">\n",
       "  <thead>\n",
       "    <tr>\n",
       "      <th class=\"blank level0\" >&nbsp;</th>\n",
       "      <th id=\"T_df7e0_level0_col0\" class=\"col_heading level0 col0\" >Mutual Information</th>\n",
       "    </tr>\n",
       "  </thead>\n",
       "  <tbody>\n",
       "    <tr>\n",
       "      <th id=\"T_df7e0_level0_row0\" class=\"row_heading level0 row0\" >Duration</th>\n",
       "      <td id=\"T_df7e0_row0_col0\" class=\"data row0 col0\" >1.640567</td>\n",
       "    </tr>\n",
       "    <tr>\n",
       "      <th id=\"T_df7e0_level0_row1\" class=\"row_heading level0 row1\" >Body_Temp</th>\n",
       "      <td id=\"T_df7e0_row1_col0\" class=\"data row1 col0\" >1.120766</td>\n",
       "    </tr>\n",
       "    <tr>\n",
       "      <th id=\"T_df7e0_level0_row2\" class=\"row_heading level0 row2\" >Heart_Rate</th>\n",
       "      <td id=\"T_df7e0_row2_col0\" class=\"data row2 col0\" >0.976966</td>\n",
       "    </tr>\n",
       "    <tr>\n",
       "      <th id=\"T_df7e0_level0_row3\" class=\"row_heading level0 row3\" >Age</th>\n",
       "      <td id=\"T_df7e0_row3_col0\" class=\"data row3 col0\" >0.098387</td>\n",
       "    </tr>\n",
       "    <tr>\n",
       "      <th id=\"T_df7e0_level0_row4\" class=\"row_heading level0 row4\" >Height</th>\n",
       "      <td id=\"T_df7e0_row4_col0\" class=\"data row4 col0\" >0.056501</td>\n",
       "    </tr>\n",
       "    <tr>\n",
       "      <th id=\"T_df7e0_level0_row5\" class=\"row_heading level0 row5\" >Weight</th>\n",
       "      <td id=\"T_df7e0_row5_col0\" class=\"data row5 col0\" >0.055709</td>\n",
       "    </tr>\n",
       "    <tr>\n",
       "      <th id=\"T_df7e0_level0_row6\" class=\"row_heading level0 row6\" >Sex</th>\n",
       "      <td id=\"T_df7e0_row6_col0\" class=\"data row6 col0\" >0.017174</td>\n",
       "    </tr>\n",
       "  </tbody>\n",
       "</table>\n"
      ],
      "text/plain": [
       "<pandas.io.formats.style.Styler at 0x78c30bfc8150>"
      ]
     },
     "execution_count": 6,
     "metadata": {},
     "output_type": "execute_result"
    }
   ],
   "source": [
    "mutual_info = mutual_info_regression(X, y, random_state=CFG.seed)\n",
    "\n",
    "mutual_info = pd.Series(mutual_info)\n",
    "mutual_info.index = X.columns\n",
    "mutual_info = pd.DataFrame(mutual_info.sort_values(ascending=False), columns=['Mutual Information'])\n",
    "mutual_info.style.bar(subset=['Mutual Information'], cmap='RdYlGn')"
   ]
  },
  {
   "cell_type": "code",
   "execution_count": 7,
   "id": "391ed226",
   "metadata": {
    "execution": {
     "iopub.execute_input": "2025-05-04T20:36:19.064641Z",
     "iopub.status.busy": "2025-05-04T20:36:19.063967Z",
     "iopub.status.idle": "2025-05-04T20:36:19.771826Z",
     "shell.execute_reply": "2025-05-04T20:36:19.770963Z"
    },
    "papermill": {
     "duration": 0.716394,
     "end_time": "2025-05-04T20:36:19.773147",
     "exception": false,
     "start_time": "2025-05-04T20:36:19.056753",
     "status": "completed"
    },
    "tags": []
   },
   "outputs": [
    {
     "data": {
      "text/html": [
       "<style type=\"text/css\">\n",
       "#T_0eef3_row0_col0 {\n",
       "  width: 10em;\n",
       "  background: linear-gradient(90deg, #006837 100.0%, transparent 100.0%);\n",
       "}\n",
       "#T_0eef3_row1_col0 {\n",
       "  width: 10em;\n",
       "  background: linear-gradient(90deg, #bbe278 66.0%, transparent 66.0%);\n",
       "}\n",
       "#T_0eef3_row2_col0 {\n",
       "  width: 10em;\n",
       "  background: linear-gradient(90deg, #e0f295 57.9%, transparent 57.9%);\n",
       "}\n",
       "#T_0eef3_row3_col0 {\n",
       "  width: 10em;\n",
       "  background: linear-gradient(90deg, #b10b26 2.4%, transparent 2.4%);\n",
       "}\n",
       "#T_0eef3_row4_col0 {\n",
       "  width: 10em;\n",
       "  background: linear-gradient(90deg, #ab0626 1.4%, transparent 1.4%);\n",
       "}\n",
       "#T_0eef3_row5_col0 {\n",
       "  width: 10em;\n",
       "  background: linear-gradient(90deg, #a90426 1.1%, transparent 1.1%);\n",
       "}\n",
       "#T_0eef3_row6_col0 {\n",
       "  width: 10em;\n",
       "  background: linear-gradient(90deg, #a50026 0.3%, transparent 0.3%);\n",
       "}\n",
       "</style>\n",
       "<table id=\"T_0eef3\">\n",
       "  <thead>\n",
       "    <tr>\n",
       "      <th class=\"blank level0\" >&nbsp;</th>\n",
       "      <th id=\"T_0eef3_level0_col0\" class=\"col_heading level0 col0\" >Mutual Information</th>\n",
       "    </tr>\n",
       "  </thead>\n",
       "  <tbody>\n",
       "    <tr>\n",
       "      <th id=\"T_0eef3_level0_row0\" class=\"row_heading level0 row0\" >Duration</th>\n",
       "      <td id=\"T_0eef3_row0_col0\" class=\"data row0 col0\" >1.494968</td>\n",
       "    </tr>\n",
       "    <tr>\n",
       "      <th id=\"T_0eef3_level0_row1\" class=\"row_heading level0 row1\" >Body_Temp</th>\n",
       "      <td id=\"T_0eef3_row1_col0\" class=\"data row1 col0\" >0.986528</td>\n",
       "    </tr>\n",
       "    <tr>\n",
       "      <th id=\"T_0eef3_level0_row2\" class=\"row_heading level0 row2\" >Heart_Rate</th>\n",
       "      <td id=\"T_0eef3_row2_col0\" class=\"data row2 col0\" >0.866243</td>\n",
       "    </tr>\n",
       "    <tr>\n",
       "      <th id=\"T_0eef3_level0_row3\" class=\"row_heading level0 row3\" >Age</th>\n",
       "      <td id=\"T_0eef3_row3_col0\" class=\"data row3 col0\" >0.035208</td>\n",
       "    </tr>\n",
       "    <tr>\n",
       "      <th id=\"T_0eef3_level0_row4\" class=\"row_heading level0 row4\" >Weight</th>\n",
       "      <td id=\"T_0eef3_row4_col0\" class=\"data row4 col0\" >0.020520</td>\n",
       "    </tr>\n",
       "    <tr>\n",
       "      <th id=\"T_0eef3_level0_row5\" class=\"row_heading level0 row5\" >Sex</th>\n",
       "      <td id=\"T_0eef3_row5_col0\" class=\"data row5 col0\" >0.016184</td>\n",
       "    </tr>\n",
       "    <tr>\n",
       "      <th id=\"T_0eef3_level0_row6\" class=\"row_heading level0 row6\" >Height</th>\n",
       "      <td id=\"T_0eef3_row6_col0\" class=\"data row6 col0\" >0.005213</td>\n",
       "    </tr>\n",
       "  </tbody>\n",
       "</table>\n"
      ],
      "text/plain": [
       "<pandas.io.formats.style.Styler at 0x78c35ff11090>"
      ]
     },
     "execution_count": 7,
     "metadata": {},
     "output_type": "execute_result"
    }
   ],
   "source": [
    "mutual_info = mutual_info_regression(X_original, y_original, random_state=CFG.seed)\n",
    "\n",
    "mutual_info = pd.Series(mutual_info)\n",
    "mutual_info.index = X_original.columns\n",
    "mutual_info = pd.DataFrame(mutual_info.sort_values(ascending=False), columns=['Mutual Information'])\n",
    "mutual_info.style.bar(subset=['Mutual Information'], cmap='RdYlGn')"
   ]
  },
  {
   "cell_type": "code",
   "execution_count": 8,
   "id": "b1409a9a",
   "metadata": {
    "execution": {
     "iopub.execute_input": "2025-05-04T20:36:19.786621Z",
     "iopub.status.busy": "2025-05-04T20:36:19.786266Z",
     "iopub.status.idle": "2025-05-04T20:36:20.943383Z",
     "shell.execute_reply": "2025-05-04T20:36:20.942491Z"
    },
    "papermill": {
     "duration": 1.165482,
     "end_time": "2025-05-04T20:36:20.944797",
     "exception": false,
     "start_time": "2025-05-04T20:36:19.779315",
     "status": "completed"
    },
    "tags": []
   },
   "outputs": [
    {
     "data": {
      "image/png": "[encoded data removed]",
      "text/plain": [
       "<Figure size 1600x600 with 4 Axes>"
      ]
     },
     "metadata": {},
     "output_type": "display_data"
    }
   ],
   "source": [
    "sns.set_style(\"white\")\n",
    "fig, axes = plt.subplots(1, 2, figsize=(16, 6))\n",
    "\n",
    "corr_train = train.corr()\n",
    "mask_train = np.triu(np.ones_like(corr_train, dtype=bool), k=1)\n",
    "sns.heatmap(\n",
    "    data=corr_train,\n",
    "    annot=True,\n",
    "    fmt='.2f',\n",
    "    mask=mask_train,\n",
    "    square=True,\n",
    "    cmap='coolwarm',\n",
    "    cbar_kws={'shrink': .7, 'format': '%.2f'},   \n",
    "    annot_kws={'size': 8},\n",
    "    center=0,\n",
    "    ax=axes[0]\n",
    ")\n",
    "axes[0].set_title('Train')\n",
    "axes[0].tick_params(axis='both', which='major', labelsize=8)\n",
    "\n",
    "corr_orig = original.corr()\n",
    "mask_orig = np.triu(np.ones_like(corr_orig, dtype=bool), k=1)\n",
    "sns.heatmap(\n",
    "    data=corr_orig,\n",
    "    annot=True,\n",
    "    fmt='.2f',\n",
    "    mask=mask_orig,\n",
    "    square=True,\n",
    "    cmap='coolwarm',\n",
    "    cbar_kws={'shrink': .7, 'format': '%.2f'},   \n",
    "    annot_kws={'size': 8},\n",
    "    center=0,\n",
    "    ax=axes[1]\n",
    ")\n",
    "axes[1].set_title('Original')\n",
    "axes[1].tick_params(axis='both', which='major', labelsize=8)\n",
    "\n",
    "plt.tight_layout()\n",
    "plt.show()"
   ]
  },
  {
   "cell_type": "markdown",
   "id": "1f6a262e",
   "metadata": {
    "papermill": {
     "duration": 0.007117,
     "end_time": "2025-05-04T20:36:20.959613",
     "exception": false,
     "start_time": "2025-05-04T20:36:20.952496",
     "status": "completed"
    },
    "tags": []
   },
   "source": [
    "# Training base models"
   ]
  },
  {
   "cell_type": "code",
   "execution_count": 9,
   "id": "7400471a",
   "metadata": {
    "_kg_hide-input": true,
    "_kg_hide-output": true,
    "execution": {
     "iopub.execute_input": "2025-05-04T20:36:20.975437Z",
     "iopub.status.busy": "2025-05-04T20:36:20.975084Z",
     "iopub.status.idle": "2025-05-04T20:36:20.985399Z",
     "shell.execute_reply": "2025-05-04T20:36:20.984432Z"
    },
    "papermill": {
     "duration": 0.020104,
     "end_time": "2025-05-04T20:36:20.986873",
     "exception": false,
     "start_time": "2025-05-04T20:36:20.966769",
     "status": "completed"
    },
    "tags": []
   },
   "outputs": [],
   "source": [
    "histgb_params = {\n",
    "    \"l2_regularization\": 10.412017522533768,\n",
    "    \"learning_rate\": 0.011702680619474444,\n",
    "    \"max_depth\": 59,\n",
    "    \"max_features\": 0.30616140080552673,\n",
    "    \"max_iter\": 4454,\n",
    "    \"max_leaf_nodes\": 385,\n",
    "    \"min_samples_leaf\": 50,\n",
    "    \"random_state\": 42\n",
    "}\n",
    "\n",
    "lgbm_params = {\n",
    "    \"boosting_type\": \"gbdt\",\n",
    "    \"colsample_bytree\": 0.8213924491907012,\n",
    "    \"learning_rate\": 0.059976685297931195,\n",
    "    \"min_child_samples\": 10,\n",
    "    \"min_child_weight\": 0.5425237767880097,\n",
    "    \"n_estimators\": 50000,\n",
    "    \"n_jobs\": -1,\n",
    "    \"num_leaves\": 89,\n",
    "    \"random_state\": 42,\n",
    "    \"reg_alpha\": 2.0325709613371545,\n",
    "    \"reg_lambda\": 87.27971117911044,\n",
    "    \"subsample\": 0.6452823633939004,\n",
    "    \"verbose\": -1\n",
    "}\n",
    "\n",
    "lgbm_goss_params = {\n",
    "    \"boosting_type\": \"goss\",\n",
    "    \"colsample_bytree\": 0.9068724002629094,\n",
    "    \"learning_rate\": 0.06459027654473874,\n",
    "    \"min_child_samples\": 39,\n",
    "    \"min_child_weight\": 0.5337673729810578,\n",
    "    \"n_estimators\": 50000,\n",
    "    \"n_jobs\": -1,\n",
    "    \"num_leaves\": 13,\n",
    "    \"random_state\": 42,\n",
    "    \"reg_alpha\": 1.603969498256519,\n",
    "    \"reg_lambda\": 10.806488455621444,\n",
    "    \"subsample\": 0.5966412222358356,\n",
    "    \"verbose\": -1\n",
    "}\n",
    "\n",
    "xgb_params = {\n",
    "    \"colsample_bylevel\": 0.8606487417581108,\n",
    "    \"colsample_bynode\": 0.9410596660335436,\n",
    "    \"colsample_bytree\": 0.9407540036296737,\n",
    "    \"early_stopping_rounds\": 100,\n",
    "    \"eval_metric\": \"rmse\",\n",
    "    \"gamma\": 0.023260595738991977,\n",
    "    \"learning_rate\": 0.03669372905801298,\n",
    "    \"max_depth\": 11,\n",
    "    \"max_leaves\": 51,\n",
    "    \"min_child_weight\": 96,\n",
    "    \"n_estimators\": 50000,\n",
    "    \"n_jobs\": -1,\n",
    "    \"random_state\": 42,\n",
    "    \"reg_alpha\": 2.953205886504917,\n",
    "    \"reg_lambda\": 67.64147033446291,\n",
    "    \"subsample\": 0.6973241930754311,\n",
    "    \"verbosity\": 0\n",
    "}\n",
    "\n",
    "cb_params = {\n",
    "    \"border_count\": 88,\n",
    "    \"colsample_bylevel\": 0.7903437608890396,\n",
    "    \"depth\": 8,\n",
    "    \"eval_metric\": \"RMSE\",\n",
    "    \"iterations\": 50000,\n",
    "    \"l2_leaf_reg\": 6.065104074215131,\n",
    "    \"learning_rate\": 0.030946464122148992,\n",
    "    \"min_child_samples\": 138,\n",
    "    \"random_state\": 42,\n",
    "    \"random_strength\": 0.035251008593976785,\n",
    "    \"verbose\": False\n",
    "}"
   ]
  },
  {
   "cell_type": "code",
   "execution_count": 10,
   "id": "d53062ea",
   "metadata": {
    "execution": {
     "iopub.execute_input": "2025-05-04T20:36:21.003212Z",
     "iopub.status.busy": "2025-05-04T20:36:21.002446Z",
     "iopub.status.idle": "2025-05-04T20:36:21.006656Z",
     "shell.execute_reply": "2025-05-04T20:36:21.005732Z"
    },
    "papermill": {
     "duration": 0.014386,
     "end_time": "2025-05-04T20:36:21.008544",
     "exception": false,
     "start_time": "2025-05-04T20:36:20.994158",
     "status": "completed"
    },
    "tags": []
   },
   "outputs": [],
   "source": [
    "scores = {}\n",
    "oof_preds = {}\n",
    "test_preds = {}"
   ]
  },
  {
   "cell_type": "markdown",
   "id": "18283ea2",
   "metadata": {
    "papermill": {
     "duration": 0.007141,
     "end_time": "2025-05-04T20:36:21.023204",
     "exception": false,
     "start_time": "2025-05-04T20:36:21.016063",
     "status": "completed"
    },
    "tags": []
   },
   "source": [
    "## HistGradientBoosting"
   ]
  },
  {
   "cell_type": "code",
   "execution_count": 11,
   "id": "fe8279f9",
   "metadata": {
    "execution": {
     "iopub.execute_input": "2025-05-04T20:36:21.038895Z",
     "iopub.status.busy": "2025-05-04T20:36:21.038577Z",
     "iopub.status.idle": "2025-05-04T20:44:03.486383Z",
     "shell.execute_reply": "2025-05-04T20:44:03.485386Z"
    },
    "papermill": {
     "duration": 462.458019,
     "end_time": "2025-05-04T20:44:03.488426",
     "exception": false,
     "start_time": "2025-05-04T20:36:21.030407",
     "status": "completed"
    },
    "tags": []
   },
   "outputs": [
    {
     "name": "stdout",
     "output_type": "stream",
     "text": [
      "Training HistGradientBoostingRegressor\n",
      "\n",
      "--- Fold 0 - root_mean_squared_error: 0.0594 - Time: 80.71 s\n",
      "--- Fold 1 - root_mean_squared_error: 0.0605 - Time: 75.15 s\n",
      "--- Fold 2 - root_mean_squared_error: 0.0597 - Time: 78.37 s\n",
      "--- Fold 3 - root_mean_squared_error: 0.0601 - Time: 71.79 s\n",
      "--- Fold 4 - root_mean_squared_error: 0.0593 - Time: 75.84 s\n",
      "\n",
      "------ Overall root_mean_squared_error: 0.0598 - Mean root_mean_squared_error: 0.0598 ± 0.0004 - Time: 382.73 s\n"
     ]
    }
   ],
   "source": [
    "histgb_trainer = Trainer(\n",
    "    HistGradientBoostingRegressor(**histgb_params),\n",
    "    cv=CFG.cv,\n",
    "    metric=CFG.metric,\n",
    "    task=\"regression\"\n",
    ")\n",
    "\n",
    "histgb_trainer.fit(X, y, extra_X=X_original, extra_y=y_original)\n",
    "\n",
    "scores[\"HistGB\"] = histgb_trainer.fold_scores\n",
    "oof_preds[\"HistGB\"] = histgb_trainer.oof_preds\n",
    "test_preds[\"HistGB\"] = histgb_trainer.predict(X_test)"
   ]
  },
  {
   "cell_type": "markdown",
   "id": "637fbbca",
   "metadata": {
    "papermill": {
     "duration": 0.007556,
     "end_time": "2025-05-04T20:44:03.504523",
     "exception": false,
     "start_time": "2025-05-04T20:44:03.496967",
     "status": "completed"
    },
    "tags": []
   },
   "source": [
    "## LightGBM (gbdt)"
   ]
  },
  {
   "cell_type": "code",
   "execution_count": 12,
   "id": "0890a033",
   "metadata": {
    "execution": {
     "iopub.execute_input": "2025-05-04T20:44:03.521797Z",
     "iopub.status.busy": "2025-05-04T20:44:03.521111Z",
     "iopub.status.idle": "2025-05-04T20:48:32.886028Z",
     "shell.execute_reply": "2025-05-04T20:48:32.885167Z"
    },
    "papermill": {
     "duration": 269.37629,
     "end_time": "2025-05-04T20:48:32.888799",
     "exception": false,
     "start_time": "2025-05-04T20:44:03.512509",
     "status": "completed"
    },
    "tags": []
   },
   "outputs": [
    {
     "name": "stdout",
     "output_type": "stream",
     "text": [
      "Training LGBMRegressor\n",
      "\n",
      "Training until validation scores don't improve for 100 rounds\n",
      "Early stopping, best iteration is:\n",
      "[791]\tvalid_0's rmse: 0.0596226\tvalid_0's l2: 0.00355485\n",
      "--- Fold 0 - root_mean_squared_error: 0.0596 - Time: 27.03 s\n",
      "\n",
      "Training until validation scores don't improve for 100 rounds\n",
      "[1000]\tvalid_0's rmse: 0.0603528\tvalid_0's l2: 0.00364246\n",
      "Early stopping, best iteration is:\n",
      "[1369]\tvalid_0's rmse: 0.0603066\tvalid_0's l2: 0.00363688\n",
      "--- Fold 1 - root_mean_squared_error: 0.0603 - Time: 40.30 s\n",
      "\n",
      "Training until validation scores don't improve for 100 rounds\n",
      "[1000]\tvalid_0's rmse: 0.0596239\tvalid_0's l2: 0.00355501\n",
      "Early stopping, best iteration is:\n",
      "[1406]\tvalid_0's rmse: 0.0595985\tvalid_0's l2: 0.00355198\n",
      "--- Fold 2 - root_mean_squared_error: 0.0596 - Time: 41.43 s\n",
      "\n",
      "Training until validation scores don't improve for 100 rounds\n",
      "[1000]\tvalid_0's rmse: 0.0601725\tvalid_0's l2: 0.00362073\n",
      "[2000]\tvalid_0's rmse: 0.060028\tvalid_0's l2: 0.00360336\n",
      "Early stopping, best iteration is:\n",
      "[1918]\tvalid_0's rmse: 0.0600226\tvalid_0's l2: 0.00360271\n",
      "--- Fold 3 - root_mean_squared_error: 0.0600 - Time: 51.65 s\n",
      "\n",
      "Training until validation scores don't improve for 100 rounds\n",
      "[1000]\tvalid_0's rmse: 0.0594362\tvalid_0's l2: 0.00353266\n",
      "Early stopping, best iteration is:\n",
      "[1376]\tvalid_0's rmse: 0.0593934\tvalid_0's l2: 0.00352758\n",
      "--- Fold 4 - root_mean_squared_error: 0.0594 - Time: 40.29 s\n",
      "\n",
      "\n",
      "------ Overall root_mean_squared_error: 0.0598 - Mean root_mean_squared_error: 0.0598 ± 0.0003 - Time: 201.56 s\n"
     ]
    }
   ],
   "source": [
    "lgbm_trainer = Trainer(\n",
    "    LGBMRegressor(**lgbm_params),\n",
    "    cv=CFG.cv,\n",
    "    metric=CFG.metric,\n",
    "    use_early_stopping=True,\n",
    "    task=\"regression\"\n",
    ")\n",
    "\n",
    "fit_args = {\n",
    "    \"eval_metric\": \"rmse\",\n",
    "    \"callbacks\": [\n",
    "        log_evaluation(period=1000), \n",
    "        early_stopping(stopping_rounds=100)\n",
    "    ]\n",
    "}\n",
    "\n",
    "lgbm_trainer.fit(X, y, fit_args=fit_args, extra_X=X_original, extra_y=y_original)\n",
    "\n",
    "scores[\"LightGBM (gbdt)\"] = lgbm_trainer.fold_scores\n",
    "oof_preds[\"LightGBM (gbdt)\"] = lgbm_trainer.oof_preds\n",
    "test_preds[\"LightGBM (gbdt)\"] = lgbm_trainer.predict(X_test)"
   ]
  },
  {
   "cell_type": "markdown",
   "id": "c6e932ad",
   "metadata": {
    "papermill": {
     "duration": 0.008633,
     "end_time": "2025-05-04T20:48:32.908735",
     "exception": false,
     "start_time": "2025-05-04T20:48:32.900102",
     "status": "completed"
    },
    "tags": []
   },
   "source": [
    "## LightGBM (goss)"
   ]
  },
  {
   "cell_type": "code",
   "execution_count": 13,
   "id": "039bc773",
   "metadata": {
    "execution": {
     "iopub.execute_input": "2025-05-04T20:48:32.927784Z",
     "iopub.status.busy": "2025-05-04T20:48:32.926963Z",
     "iopub.status.idle": "2025-05-04T20:59:19.868280Z",
     "shell.execute_reply": "2025-05-04T20:59:19.867411Z"
    },
    "papermill": {
     "duration": 646.952935,
     "end_time": "2025-05-04T20:59:19.870438",
     "exception": false,
     "start_time": "2025-05-04T20:48:32.917503",
     "status": "completed"
    },
    "tags": []
   },
   "outputs": [
    {
     "name": "stdout",
     "output_type": "stream",
     "text": [
      "Training LGBMRegressor\n",
      "\n",
      "Training until validation scores don't improve for 100 rounds\n",
      "[1000]\tvalid_0's rmse: 0.0600588\tvalid_0's l2: 0.00360706\n",
      "[2000]\tvalid_0's rmse: 0.0597145\tvalid_0's l2: 0.00356582\n",
      "[3000]\tvalid_0's rmse: 0.0596177\tvalid_0's l2: 0.00355427\n",
      "Early stopping, best iteration is:\n",
      "[3424]\tvalid_0's rmse: 0.0595945\tvalid_0's l2: 0.0035515\n",
      "--- Fold 0 - root_mean_squared_error: 0.0596 - Time: 96.76 s\n",
      "\n",
      "Training until validation scores don't improve for 100 rounds\n",
      "[1000]\tvalid_0's rmse: 0.0607929\tvalid_0's l2: 0.00369577\n",
      "[2000]\tvalid_0's rmse: 0.0604315\tvalid_0's l2: 0.00365197\n",
      "[3000]\tvalid_0's rmse: 0.0603068\tvalid_0's l2: 0.00363691\n",
      "Early stopping, best iteration is:\n",
      "[3299]\tvalid_0's rmse: 0.0602872\tvalid_0's l2: 0.00363454\n",
      "--- Fold 1 - root_mean_squared_error: 0.0603 - Time: 92.01 s\n",
      "\n",
      "Training until validation scores don't improve for 100 rounds\n",
      "[1000]\tvalid_0's rmse: 0.0600734\tvalid_0's l2: 0.00360881\n",
      "[2000]\tvalid_0's rmse: 0.0597328\tvalid_0's l2: 0.00356801\n",
      "[3000]\tvalid_0's rmse: 0.0596015\tvalid_0's l2: 0.00355234\n",
      "[4000]\tvalid_0's rmse: 0.0595402\tvalid_0's l2: 0.00354503\n",
      "Early stopping, best iteration is:\n",
      "[4508]\tvalid_0's rmse: 0.0595248\tvalid_0's l2: 0.00354321\n",
      "--- Fold 2 - root_mean_squared_error: 0.0595 - Time: 125.80 s\n",
      "\n",
      "Training until validation scores don't improve for 100 rounds\n",
      "[1000]\tvalid_0's rmse: 0.0606943\tvalid_0's l2: 0.0036838\n",
      "[2000]\tvalid_0's rmse: 0.0602788\tvalid_0's l2: 0.00363353\n",
      "[3000]\tvalid_0's rmse: 0.0601248\tvalid_0's l2: 0.00361499\n",
      "[4000]\tvalid_0's rmse: 0.060043\tvalid_0's l2: 0.00360516\n",
      "Early stopping, best iteration is:\n",
      "[4559]\tvalid_0's rmse: 0.0600092\tvalid_0's l2: 0.00360111\n",
      "--- Fold 3 - root_mean_squared_error: 0.0600 - Time: 128.17 s\n",
      "\n",
      "Training until validation scores don't improve for 100 rounds\n",
      "[1000]\tvalid_0's rmse: 0.0597776\tvalid_0's l2: 0.00357336\n",
      "[2000]\tvalid_0's rmse: 0.0594386\tvalid_0's l2: 0.00353295\n",
      "[3000]\tvalid_0's rmse: 0.0593427\tvalid_0's l2: 0.00352156\n",
      "Early stopping, best iteration is:\n",
      "[3301]\tvalid_0's rmse: 0.0593269\tvalid_0's l2: 0.00351968\n",
      "--- Fold 4 - root_mean_squared_error: 0.0593 - Time: 92.57 s\n",
      "\n",
      "\n",
      "------ Overall root_mean_squared_error: 0.0597 - Mean root_mean_squared_error: 0.0597 ± 0.0003 - Time: 536.18 s\n"
     ]
    }
   ],
   "source": [
    "lgbm_goss_trainer = Trainer(\n",
    "    LGBMRegressor(**lgbm_goss_params),\n",
    "    cv=CFG.cv,\n",
    "    metric=CFG.metric,\n",
    "    use_early_stopping=True,\n",
    "    task=\"regression\"\n",
    ")\n",
    "\n",
    "fit_args = {\n",
    "    \"eval_metric\": \"rmse\",\n",
    "    \"callbacks\": [\n",
    "        log_evaluation(period=1000), \n",
    "        early_stopping(stopping_rounds=100)\n",
    "    ]\n",
    "}\n",
    "\n",
    "lgbm_goss_trainer.fit(X, y, fit_args=fit_args, extra_X=X_original, extra_y=y_original)\n",
    "\n",
    "scores[\"LightGBM (goss)\"] = lgbm_goss_trainer.fold_scores\n",
    "oof_preds[\"LightGBM (goss)\"] = lgbm_goss_trainer.oof_preds\n",
    "test_preds[\"LightGBM (goss)\"] = lgbm_goss_trainer.predict(X_test)"
   ]
  },
  {
   "cell_type": "markdown",
   "id": "dfd2f861",
   "metadata": {
    "papermill": {
     "duration": 0.010053,
     "end_time": "2025-05-04T20:59:19.893993",
     "exception": false,
     "start_time": "2025-05-04T20:59:19.883940",
     "status": "completed"
    },
    "tags": []
   },
   "source": [
    "## XGBoost"
   ]
  },
  {
   "cell_type": "code",
   "execution_count": 14,
   "id": "c64c9905",
   "metadata": {
    "execution": {
     "iopub.execute_input": "2025-05-04T20:59:19.915493Z",
     "iopub.status.busy": "2025-05-04T20:59:19.915140Z",
     "iopub.status.idle": "2025-05-04T21:05:19.547142Z",
     "shell.execute_reply": "2025-05-04T21:05:19.546388Z"
    },
    "papermill": {
     "duration": 359.644841,
     "end_time": "2025-05-04T21:05:19.548860",
     "exception": false,
     "start_time": "2025-05-04T20:59:19.904019",
     "status": "completed"
    },
    "tags": []
   },
   "outputs": [
    {
     "name": "stdout",
     "output_type": "stream",
     "text": [
      "Training XGBRegressor\n",
      "\n",
      "[0]\tvalidation_0-rmse:0.92856\n",
      "[1000]\tvalidation_0-rmse:0.06015\n",
      "[2000]\tvalidation_0-rmse:0.06009\n",
      "[3000]\tvalidation_0-rmse:0.06007\n",
      "[3123]\tvalidation_0-rmse:0.06006\n",
      "--- Fold 0 - root_mean_squared_error: 0.0601 - Time: 79.68 s\n",
      "\n",
      "[0]\tvalidation_0-rmse:0.93096\n",
      "[1000]\tvalidation_0-rmse:0.06137\n",
      "[2000]\tvalidation_0-rmse:0.06128\n",
      "[3000]\tvalidation_0-rmse:0.06123\n",
      "[3071]\tvalidation_0-rmse:0.06123\n",
      "--- Fold 1 - root_mean_squared_error: 0.0612 - Time: 80.42 s\n",
      "\n",
      "[0]\tvalidation_0-rmse:0.92964\n",
      "[1000]\tvalidation_0-rmse:0.06065\n",
      "[2000]\tvalidation_0-rmse:0.06056\n",
      "[3000]\tvalidation_0-rmse:0.06053\n",
      "[3092]\tvalidation_0-rmse:0.06053\n",
      "--- Fold 2 - root_mean_squared_error: 0.0605 - Time: 79.22 s\n",
      "\n",
      "[0]\tvalidation_0-rmse:0.92813\n",
      "[1000]\tvalidation_0-rmse:0.06097\n",
      "[1244]\tvalidation_0-rmse:0.06096\n",
      "--- Fold 3 - root_mean_squared_error: 0.0610 - Time: 37.54 s\n",
      "\n",
      "[0]\tvalidation_0-rmse:0.92887\n",
      "[1000]\tvalidation_0-rmse:0.06014\n",
      "[2000]\tvalidation_0-rmse:0.06007\n",
      "[2596]\tvalidation_0-rmse:0.06005\n",
      "--- Fold 4 - root_mean_squared_error: 0.0601 - Time: 68.07 s\n",
      "\n",
      "\n",
      "------ Overall root_mean_squared_error: 0.0606 - Mean root_mean_squared_error: 0.0606 ± 0.0005 - Time: 345.78 s\n"
     ]
    }
   ],
   "source": [
    "xgb_trainer = Trainer(\n",
    "    XGBRegressor(**xgb_params),\n",
    "    cv=CFG.cv,\n",
    "    metric=CFG.metric,\n",
    "    use_early_stopping=True,\n",
    "    task=\"regression\"\n",
    ")\n",
    "\n",
    "fit_args = {\n",
    "    \"verbose\": 1000\n",
    "}\n",
    "\n",
    "xgb_trainer.fit(X, y, fit_args=fit_args, extra_X=X_original, extra_y=y_original)\n",
    "\n",
    "scores[\"XGBoost\"] = xgb_trainer.fold_scores\n",
    "oof_preds[\"XGBoost\"] = xgb_trainer.oof_preds\n",
    "test_preds[\"XGBoost\"] = xgb_trainer.predict(X_test)"
   ]
  },
  {
   "cell_type": "markdown",
   "id": "a62b18d6",
   "metadata": {
    "papermill": {
     "duration": 0.011697,
     "end_time": "2025-05-04T21:05:19.575547",
     "exception": false,
     "start_time": "2025-05-04T21:05:19.563850",
     "status": "completed"
    },
    "tags": []
   },
   "source": [
    "## CatBoost"
   ]
  },
  {
   "cell_type": "code",
   "execution_count": 15,
   "id": "666042c5",
   "metadata": {
    "execution": {
     "iopub.execute_input": "2025-05-04T21:05:19.600712Z",
     "iopub.status.busy": "2025-05-04T21:05:19.599964Z",
     "iopub.status.idle": "2025-05-04T21:17:10.887581Z",
     "shell.execute_reply": "2025-05-04T21:17:10.886561Z"
    },
    "papermill": {
     "duration": 711.302471,
     "end_time": "2025-05-04T21:17:10.889555",
     "exception": false,
     "start_time": "2025-05-04T21:05:19.587084",
     "status": "completed"
    },
    "tags": []
   },
   "outputs": [
    {
     "name": "stdout",
     "output_type": "stream",
     "text": [
      "Training CatBoostRegressor\n",
      "\n",
      "0:\tlearn: 0.9348709\ttest: 0.9341488\tbest: 0.9341488 (0)\ttotal: 124ms\tremaining: 1h 43m 20s\n",
      "1000:\tlearn: 0.0571087\ttest: 0.0593244\tbest: 0.0593244 (1000)\ttotal: 51.6s\tremaining: 42m 4s\n",
      "2000:\tlearn: 0.0560120\ttest: 0.0591679\tbest: 0.0591679 (2000)\ttotal: 1m 42s\tremaining: 41m\n",
      "Stopped by overfitting detector  (100 iterations wait)\n",
      "\n",
      "bestTest = 0.05911377754\n",
      "bestIteration = 2824\n",
      "\n",
      "Shrink model to first 2825 iterations.\n",
      "--- Fold 0 - root_mean_squared_error: 0.0591 - Time: 150.30 s\n",
      "\n",
      "0:\tlearn: 0.9342850\ttest: 0.9365766\tbest: 0.9365766 (0)\ttotal: 65.8ms\tremaining: 54m 48s\n",
      "1000:\tlearn: 0.0571036\ttest: 0.0598252\tbest: 0.0598252 (1000)\ttotal: 52s\tremaining: 42m 27s\n",
      "Stopped by overfitting detector  (100 iterations wait)\n",
      "\n",
      "bestTest = 0.05966835269\n",
      "bestIteration = 1741\n",
      "\n",
      "Shrink model to first 1742 iterations.\n",
      "--- Fold 1 - root_mean_squared_error: 0.0597 - Time: 95.40 s\n",
      "\n",
      "0:\tlearn: 0.9346164\ttest: 0.9352198\tbest: 0.9352198 (0)\ttotal: 63.8ms\tremaining: 53m 7s\n",
      "1000:\tlearn: 0.0570640\ttest: 0.0593004\tbest: 0.0593004 (1000)\ttotal: 51.8s\tremaining: 42m 14s\n",
      "2000:\tlearn: 0.0559380\ttest: 0.0590550\tbest: 0.0590543 (1996)\ttotal: 1m 42s\tremaining: 40m 50s\n",
      "3000:\tlearn: 0.0551639\ttest: 0.0589824\tbest: 0.0589822 (2994)\ttotal: 2m 32s\tremaining: 39m 53s\n",
      "Stopped by overfitting detector  (100 iterations wait)\n",
      "\n",
      "bestTest = 0.05895750885\n",
      "bestIteration = 3703\n",
      "\n",
      "Shrink model to first 3704 iterations.\n",
      "--- Fold 2 - root_mean_squared_error: 0.0590 - Time: 194.31 s\n",
      "\n",
      "0:\tlearn: 0.9349691\ttest: 0.9337102\tbest: 0.9337102 (0)\ttotal: 64.9ms\tremaining: 54m 3s\n",
      "1000:\tlearn: 0.0570599\ttest: 0.0597373\tbest: 0.0597373 (1000)\ttotal: 51.8s\tremaining: 42m 18s\n",
      "2000:\tlearn: 0.0560408\ttest: 0.0595997\tbest: 0.0595980 (1976)\ttotal: 1m 42s\tremaining: 40m 47s\n",
      "3000:\tlearn: 0.0552776\ttest: 0.0595437\tbest: 0.0595417 (2940)\ttotal: 2m 33s\tremaining: 39m 57s\n",
      "Stopped by overfitting detector  (100 iterations wait)\n",
      "\n",
      "bestTest = 0.0595416905\n",
      "bestIteration = 2940\n",
      "\n",
      "Shrink model to first 2941 iterations.\n",
      "--- Fold 3 - root_mean_squared_error: 0.0595 - Time: 156.24 s\n",
      "\n",
      "0:\tlearn: 0.9347914\ttest: 0.9344284\tbest: 0.9344284 (0)\ttotal: 69.9ms\tremaining: 58m 15s\n",
      "1000:\tlearn: 0.0572454\ttest: 0.0590697\tbest: 0.0590697 (1000)\ttotal: 52.1s\tremaining: 42m 29s\n",
      "2000:\tlearn: 0.0561135\ttest: 0.0589142\tbest: 0.0589119 (1987)\ttotal: 1m 42s\tremaining: 40m 56s\n",
      "Stopped by overfitting detector  (100 iterations wait)\n",
      "\n",
      "bestTest = 0.05891120084\n",
      "bestIteration = 2077\n",
      "\n",
      "Shrink model to first 2078 iterations.\n",
      "--- Fold 4 - root_mean_squared_error: 0.0589 - Time: 112.04 s\n",
      "\n",
      "\n",
      "------ Overall root_mean_squared_error: 0.0592 - Mean root_mean_squared_error: 0.0592 ± 0.0003 - Time: 709.17 s\n"
     ]
    }
   ],
   "source": [
    "cb_trainer = Trainer(\n",
    "    CatBoostRegressor(**cb_params),\n",
    "    cv=CFG.cv,\n",
    "    metric=CFG.metric,\n",
    "    use_early_stopping=True,\n",
    "    task=\"regression\"\n",
    ")\n",
    "\n",
    "fit_args = {\n",
    "    \"verbose\": 1000,\n",
    "    \"early_stopping_rounds\": 100,\n",
    "    \"use_best_model\": True\n",
    "}\n",
    "\n",
    "cb_trainer.fit(X, y, fit_args=fit_args, extra_X=X_original, extra_y=y_original)\n",
    "\n",
    "scores[\"CatBoost\"] = cb_trainer.fold_scores\n",
    "oof_preds[\"CatBoost\"] = cb_trainer.oof_preds\n",
    "test_preds[\"CatBoost\"] = cb_trainer.predict(X_test)"
   ]
  },
  {
   "cell_type": "markdown",
   "id": "747b9baf",
   "metadata": {
    "papermill": {
     "duration": 0.020509,
     "end_time": "2025-05-04T21:17:10.932941",
     "exception": false,
     "start_time": "2025-05-04T21:17:10.912432",
     "status": "completed"
    },
    "tags": []
   },
   "source": [
    "## AutoGluon"
   ]
  },
  {
   "cell_type": "code",
   "execution_count": 16,
   "id": "76519d89",
   "metadata": {
    "execution": {
     "iopub.execute_input": "2025-05-04T21:17:10.960328Z",
     "iopub.status.busy": "2025-05-04T21:17:10.960013Z",
     "iopub.status.idle": "2025-05-04T21:17:11.270039Z",
     "shell.execute_reply": "2025-05-04T21:17:11.269195Z"
    },
    "papermill": {
     "duration": 0.325612,
     "end_time": "2025-05-04T21:17:11.271747",
     "exception": false,
     "start_time": "2025-05-04T21:17:10.946135",
     "status": "completed"
    },
    "tags": []
   },
   "outputs": [],
   "source": [
    "oof_preds_files = glob.glob(f'/kaggle/input/s05e05-calorie-expenditure-prediction-automl/*_oof_preds_*.pkl')\n",
    "test_preds_files = glob.glob(f'/kaggle/input/s05e05-calorie-expenditure-prediction-automl/*_test_preds_*.pkl')\n",
    "\n",
    "ag_oof_preds = np.log1p(joblib.load(oof_preds_files[0]))\n",
    "ag_test_preds = np.log1p(joblib.load(test_preds_files[0]))\n",
    "\n",
    "ag_scores = []\n",
    "split = KFold(n_splits=CFG.n_folds, random_state=CFG.seed, shuffle=True).split(X, y)\n",
    "for _, val_idx in split:\n",
    "    y_val = y[val_idx]\n",
    "    y_preds = ag_oof_preds[val_idx]   \n",
    "    score = root_mean_squared_error(y_preds, y_val)\n",
    "    ag_scores.append(score)\n",
    "    \n",
    "oof_preds[\"AutoGluon\"], test_preds[\"AutoGluon\"], scores[\"AutoGluon\"] = ag_oof_preds, ag_test_preds, ag_scores"
   ]
  },
  {
   "cell_type": "markdown",
   "id": "fb4785c9",
   "metadata": {
    "papermill": {
     "duration": 0.013416,
     "end_time": "2025-05-04T21:17:11.298335",
     "exception": false,
     "start_time": "2025-05-04T21:17:11.284919",
     "status": "completed"
    },
    "tags": []
   },
   "source": [
    "# Ensembling with Ridge"
   ]
  },
  {
   "cell_type": "code",
   "execution_count": 17,
   "id": "c0935ffb",
   "metadata": {
    "_kg_hide-input": true,
    "execution": {
     "iopub.execute_input": "2025-05-04T21:17:11.326707Z",
     "iopub.status.busy": "2025-05-04T21:17:11.326376Z",
     "iopub.status.idle": "2025-05-04T21:17:11.333946Z",
     "shell.execute_reply": "2025-05-04T21:17:11.333158Z"
    },
    "papermill": {
     "duration": 0.024107,
     "end_time": "2025-05-04T21:17:11.335384",
     "exception": false,
     "start_time": "2025-05-04T21:17:11.311277",
     "status": "completed"
    },
    "tags": []
   },
   "outputs": [],
   "source": [
    "def plot_weights(weights, title):\n",
    "    sorted_indices = np.argsort(weights[0])[::-1]\n",
    "    sorted_coeffs = np.array(weights[0])[sorted_indices]\n",
    "    sorted_model_names = np.array(list(oof_preds.keys()))[sorted_indices]\n",
    "\n",
    "    plt.figure(figsize=(10, weights.shape[1] * 0.5))\n",
    "    ax = sns.barplot(x=sorted_coeffs, y=sorted_model_names, palette=\"RdYlGn_r\")\n",
    "\n",
    "    for i, (value, name) in enumerate(zip(sorted_coeffs, sorted_model_names)):\n",
    "        if value >= 0:\n",
    "            ax.text(value, i, f\"{value:.3f}\", va=\"center\", ha=\"left\", color=\"black\")\n",
    "        else:\n",
    "            ax.text(value, i, f\"{value:.3f}\", va=\"center\", ha=\"right\", color=\"black\")\n",
    "\n",
    "    xlim = ax.get_xlim()\n",
    "    ax.set_xlim(xlim[0] - 0.1 * abs(xlim[0]), xlim[1] + 0.1 * abs(xlim[1]))\n",
    "\n",
    "    plt.title(title)\n",
    "    plt.xlabel(\"\")\n",
    "    plt.ylabel(\"\")\n",
    "    plt.tight_layout()\n",
    "    plt.show()"
   ]
  },
  {
   "cell_type": "code",
   "execution_count": 18,
   "id": "db0e2fad",
   "metadata": {
    "execution": {
     "iopub.execute_input": "2025-05-04T21:17:11.364183Z",
     "iopub.status.busy": "2025-05-04T21:17:11.363288Z",
     "iopub.status.idle": "2025-05-04T21:17:11.387239Z",
     "shell.execute_reply": "2025-05-04T21:17:11.386250Z"
    },
    "papermill": {
     "duration": 0.040284,
     "end_time": "2025-05-04T21:17:11.389185",
     "exception": false,
     "start_time": "2025-05-04T21:17:11.348901",
     "status": "completed"
    },
    "tags": []
   },
   "outputs": [],
   "source": [
    "X = pd.DataFrame(oof_preds)\n",
    "X_test = pd.DataFrame(test_preds)"
   ]
  },
  {
   "cell_type": "code",
   "execution_count": 19,
   "id": "ab3a6a9a",
   "metadata": {
    "execution": {
     "iopub.execute_input": "2025-05-04T21:17:11.423193Z",
     "iopub.status.busy": "2025-05-04T21:17:11.422306Z",
     "iopub.status.idle": "2025-05-04T21:17:11.489492Z",
     "shell.execute_reply": "2025-05-04T21:17:11.488596Z"
    },
    "papermill": {
     "duration": 0.082369,
     "end_time": "2025-05-04T21:17:11.490940",
     "exception": false,
     "start_time": "2025-05-04T21:17:11.408571",
     "status": "completed"
    },
    "tags": []
   },
   "outputs": [
    {
     "data": {
      "text/plain": [
       "['test_preds.pkl']"
      ]
     },
     "execution_count": 19,
     "metadata": {},
     "output_type": "execute_result"
    }
   ],
   "source": [
    "joblib.dump(X, \"oof_preds.pkl\")\n",
    "joblib.dump(X_test, \"test_preds.pkl\")"
   ]
  },
  {
   "cell_type": "code",
   "execution_count": 20,
   "id": "f9cdb3d2",
   "metadata": {
    "_kg_hide-output": true,
    "execution": {
     "iopub.execute_input": "2025-05-04T21:17:11.519261Z",
     "iopub.status.busy": "2025-05-04T21:17:11.518493Z",
     "iopub.status.idle": "2025-05-04T21:21:35.672498Z",
     "shell.execute_reply": "2025-05-04T21:21:35.671579Z"
    },
    "papermill": {
     "duration": 264.169841,
     "end_time": "2025-05-04T21:21:35.674107",
     "exception": false,
     "start_time": "2025-05-04T21:17:11.504266",
     "status": "completed"
    },
    "scrolled": true,
    "tags": []
   },
   "outputs": [
    {
     "name": "stderr",
     "output_type": "stream",
     "text": [
      "[I 2025-05-04 21:17:11,526] A new study created in memory with name: no-name-783d63e0-69f0-4276-bd1e-7bd4a031c1f7\n",
      "[I 2025-05-04 21:17:15,416] Trial 0 finished with value: 0.058987017333837106 and parameters: {'alpha': 3.239416557048359, 'tol': 0.002811661011431112}. Best is trial 0 with value: 0.058987017333837106.\n",
      "[I 2025-05-04 21:17:15,584] Trial 2 finished with value: 0.0589876031553557 and parameters: {'alpha': 4.5111126680030145, 'tol': 0.009634659714605488}. Best is trial 0 with value: 0.058987017333837106.\n",
      "[I 2025-05-04 21:17:16,025] Trial 3 finished with value: 0.058986968247549385 and parameters: {'alpha': 3.091136220718458, 'tol': 0.0076438861305584685}. Best is trial 3 with value: 0.058986968247549385.\n",
      "[I 2025-05-04 21:17:16,026] Trial 1 finished with value: 0.0589867702536126 and parameters: {'alpha': 2.050972347245695, 'tol': 0.000555997961389335}. Best is trial 1 with value: 0.0589867702536126.\n",
      "[I 2025-05-04 21:17:19,742] Trial 4 finished with value: 0.058986804549414344 and parameters: {'alpha': 2.394272732586985, 'tol': 1.215724174209732e-05}. Best is trial 1 with value: 0.0589867702536126.\n",
      "[I 2025-05-04 21:17:19,749] Trial 5 finished with value: 0.05899109883322983 and parameters: {'alpha': 9.010787043811979, 'tol': 0.0032155648992840567}. Best is trial 1 with value: 0.0589867702536126.\n",
      "[I 2025-05-04 21:17:20,191] Trial 6 finished with value: 0.05898678962186996 and parameters: {'alpha': 2.2817239993373475, 'tol': 0.0026674743498855125}. Best is trial 1 with value: 0.0589867702536126.\n",
      "[I 2025-05-04 21:17:20,192] Trial 7 finished with value: 0.05898709315675192 and parameters: {'alpha': 3.445999515279554, 'tol': 0.008200844915055388}. Best is trial 1 with value: 0.0589867702536126.\n",
      "[I 2025-05-04 21:17:23,874] Trial 9 finished with value: 0.05898873605158976 and parameters: {'alpha': 6.220296653468055, 'tol': 0.006643391706836334}. Best is trial 1 with value: 0.0589867702536126.\n",
      "[I 2025-05-04 21:17:23,877] Trial 8 finished with value: 0.05899003072123716 and parameters: {'alpha': 7.8176019835068935, 'tol': 0.009143860278483825}. Best is trial 1 with value: 0.0589867702536126.\n",
      "[I 2025-05-04 21:17:24,339] Trial 10 finished with value: 0.058986772025669175 and parameters: {'alpha': 1.7027710124135753, 'tol': 0.0008463160309514714}. Best is trial 1 with value: 0.0589867702536126.\n",
      "[I 2025-05-04 21:17:24,355] Trial 11 finished with value: 0.058989512391633504 and parameters: {'alpha': 7.204143915771091, 'tol': 0.0012906183988500555}. Best is trial 1 with value: 0.0589867702536126.\n",
      "[I 2025-05-04 21:17:28,081] Trial 13 finished with value: 0.05898856637813097 and parameters: {'alpha': 5.9908904107125505, 'tol': 0.0003089498665564184}. Best is trial 1 with value: 0.0589867702536126.\n",
      "[I 2025-05-04 21:17:28,087] Trial 12 finished with value: 0.058988907997935984 and parameters: {'alpha': 6.446715077442406, 'tol': 0.0007341746100042647}. Best is trial 1 with value: 0.0589867702536126.\n",
      "[I 2025-05-04 21:17:28,386] Trial 14 finished with value: 0.058987439338927354 and parameters: {'alpha': 0.0709606204771247, 'tol': 0.0007258832644501429}. Best is trial 1 with value: 0.0589867702536126.\n",
      "[I 2025-05-04 21:17:28,595] Trial 15 finished with value: 0.05898724766303761 and parameters: {'alpha': 0.3238120630452026, 'tol': 0.004667198462023959}. Best is trial 1 with value: 0.0589867702536126.\n",
      "[I 2025-05-04 21:17:32,320] Trial 16 finished with value: 0.058987126471750154 and parameters: {'alpha': 0.5170558176693876, 'tol': 0.004261387914918609}. Best is trial 1 with value: 0.0589867702536126.\n",
      "[I 2025-05-04 21:17:32,333] Trial 17 finished with value: 0.0589872128093262 and parameters: {'alpha': 0.37608168775656203, 'tol': 0.004741500582306726}. Best is trial 1 with value: 0.0589867702536126.\n",
      "[I 2025-05-04 21:17:32,776] Trial 18 finished with value: 0.058986969590612184 and parameters: {'alpha': 3.0953880694450806, 'tol': 0.004768201134932498}. Best is trial 1 with value: 0.0589867702536126.\n",
      "[I 2025-05-04 21:17:32,792] Trial 19 finished with value: 0.058988044815647706 and parameters: {'alpha': 5.237235097480932, 'tol': 0.0034835369666992595}. Best is trial 1 with value: 0.0589867702536126.\n",
      "[I 2025-05-04 21:17:36,252] Trial 20 finished with value: 0.05898738500819911 and parameters: {'alpha': 0.137574712380645, 'tol': 0.008580966624103788}. Best is trial 1 with value: 0.0589867702536126.\n",
      "[I 2025-05-04 21:17:36,535] Trial 21 finished with value: 0.058987979913939496 and parameters: {'alpha': 5.136844403987913, 'tol': 0.0038074597629380843}. Best is trial 1 with value: 0.0589867702536126.\n",
      "[I 2025-05-04 21:17:36,745] Trial 22 finished with value: 0.05898712848509118 and parameters: {'alpha': 3.535285523044145, 'tol': 0.00021346589771353304}. Best is trial 1 with value: 0.0589867702536126.\n",
      "[I 2025-05-04 21:17:37,141] Trial 23 finished with value: 0.058986827681516606 and parameters: {'alpha': 2.5332850112893484, 'tol': 0.0010793668601704128}. Best is trial 1 with value: 0.0589867702536126.\n",
      "[I 2025-05-04 21:17:40,425] Trial 24 finished with value: 0.05898676737189738 and parameters: {'alpha': 1.9759826373415443, 'tol': 0.0017468249822699996}. Best is trial 24 with value: 0.05898676737189738.\n",
      "[I 2025-05-04 21:17:40,675] Trial 25 finished with value: 0.058986782194037225 and parameters: {'alpha': 2.2125177347626135, 'tol': 0.002152059096782868}. Best is trial 24 with value: 0.05898676737189738.\n",
      "[I 2025-05-04 21:17:41,302] Trial 27 finished with value: 0.05898678525145024 and parameters: {'alpha': 2.2425567519389142, 'tol': 0.00225621647337959}. Best is trial 24 with value: 0.05898676737189738.\n",
      "[I 2025-05-04 21:17:41,319] Trial 26 finished with value: 0.05898678187903258 and parameters: {'alpha': 1.5840804326602695, 'tol': 0.0024454039294641203}. Best is trial 24 with value: 0.05898676737189738.\n",
      "[I 2025-05-04 21:17:44,412] Trial 28 finished with value: 0.05898694307157899 and parameters: {'alpha': 0.9030944991388581, 'tol': 0.0016881512838701337}. Best is trial 24 with value: 0.05898676737189738.\n",
      "[I 2025-05-04 21:17:45,000] Trial 29 finished with value: 0.05898719946063733 and parameters: {'alpha': 0.3967468460518848, 'tol': 0.0015445321650037064}. Best is trial 24 with value: 0.05898676737189738.\n",
      "[I 2025-05-04 21:17:45,442] Trial 30 finished with value: 0.05898740128525686 and parameters: {'alpha': 0.11725097570063925, 'tol': 0.00041884418995351367}. Best is trial 24 with value: 0.05898676737189738.\n",
      "[I 2025-05-04 21:17:45,874] Trial 31 finished with value: 0.05898738388202049 and parameters: {'alpha': 0.1389929973424775, 'tol': 0.0015319894760794381}. Best is trial 24 with value: 0.05898676737189738.\n",
      "[I 2025-05-04 21:17:48,721] Trial 32 finished with value: 0.0589867702471568 and parameters: {'alpha': 1.7339433524684535, 'tol': 0.00016904138856407326}. Best is trial 24 with value: 0.05898676737189738.\n",
      "[I 2025-05-04 21:17:49,185] Trial 33 finished with value: 0.05898733316439287 and parameters: {'alpha': 3.9953544923756175, 'tol': 0.0001244351139484184}. Best is trial 24 with value: 0.05898676737189738.\n",
      "[I 2025-05-04 21:17:49,454] Trial 34 finished with value: 0.05898705406669046 and parameters: {'alpha': 3.34236793068649, 'tol': 0.002096743797905784}. Best is trial 24 with value: 0.05898676737189738.\n",
      "[I 2025-05-04 21:17:49,877] Trial 35 finished with value: 0.05898721688539507 and parameters: {'alpha': 3.7442330568368463, 'tol': 0.0020324260269778916}. Best is trial 24 with value: 0.05898676737189738.\n",
      "[I 2025-05-04 21:17:52,897] Trial 36 finished with value: 0.05898680487581303 and parameters: {'alpha': 2.3964740367301562, 'tol': 0.0004840362948441404}. Best is trial 24 with value: 0.05898676737189738.\n",
      "[I 2025-05-04 21:17:53,323] Trial 37 finished with value: 0.05898715299931441 and parameters: {'alpha': 3.5951365752417783, 'tol': 0.001885663515507846}. Best is trial 24 with value: 0.05898676737189738.\n",
      "[I 2025-05-04 21:17:53,763] Trial 38 finished with value: 0.05898676669170531 and parameters: {'alpha': 1.945134663932907, 'tol': 0.0009191084595596899}. Best is trial 38 with value: 0.05898676669170531.\n",
      "[I 2025-05-04 21:17:54,202] Trial 39 finished with value: 0.05898678118226298 and parameters: {'alpha': 2.201976332959019, 'tol': 0.00017788885257253272}. Best is trial 38 with value: 0.05898676669170531.\n",
      "[I 2025-05-04 21:17:57,062] Trial 40 finished with value: 0.058986767159538996 and parameters: {'alpha': 1.814834208355569, 'tol': 0.000287707890292831}. Best is trial 38 with value: 0.05898676669170531.\n",
      "[I 2025-05-04 21:17:57,511] Trial 41 finished with value: 0.05898677085313843 and parameters: {'alpha': 2.0625806092769845, 'tol': 8.282483294935977e-05}. Best is trial 38 with value: 0.05898676669170531.\n",
      "[I 2025-05-04 21:17:57,778] Trial 42 finished with value: 0.058986877545230035 and parameters: {'alpha': 2.7665701803348295, 'tol': 0.00018737405081433952}. Best is trial 38 with value: 0.05898676669170531.\n",
      "[I 2025-05-04 21:17:58,211] Trial 43 finished with value: 0.05898681975875471 and parameters: {'alpha': 2.48897980192786, 'tol': 0.0005130949864828203}. Best is trial 38 with value: 0.05898676669170531.\n",
      "[I 2025-05-04 21:18:01,296] Trial 44 finished with value: 0.0589867662380032 and parameters: {'alpha': 1.881386998728949, 'tol': 0.00037023332205056317}. Best is trial 44 with value: 0.0589867662380032.\n",
      "[I 2025-05-04 21:18:01,733] Trial 45 finished with value: 0.05898677960274214 and parameters: {'alpha': 1.6068689369772717, 'tol': 0.0005954886030233313}. Best is trial 44 with value: 0.0589867662380032.\n",
      "[I 2025-05-04 21:18:02,021] Trial 46 finished with value: 0.058986768768819114 and parameters: {'alpha': 2.0178704734607957, 'tol': 0.0008147368915121251}. Best is trial 44 with value: 0.0589867662380032.\n",
      "[I 2025-05-04 21:18:02,452] Trial 47 finished with value: 0.05899046114053654 and parameters: {'alpha': 8.308195246516878, 'tol': 0.005826118162459862}. Best is trial 44 with value: 0.0589867662380032.\n",
      "[I 2025-05-04 21:18:05,503] Trial 48 finished with value: 0.058986797566534833 and parameters: {'alpha': 1.4600546607796967, 'tol': 0.0003280869035196792}. Best is trial 44 with value: 0.0589867662380032.\n",
      "[I 2025-05-04 21:18:05,932] Trial 49 finished with value: 0.058987048130920754 and parameters: {'alpha': 0.6634378329028545, 'tol': 6.722731725394946e-05}. Best is trial 44 with value: 0.0589867662380032.\n",
      "[I 2025-05-04 21:18:06,220] Trial 50 finished with value: 0.058986770996315524 and parameters: {'alpha': 2.0652418031340587, 'tol': 0.0022678420294375626}. Best is trial 44 with value: 0.0589867662380032.\n",
      "[I 2025-05-04 21:18:06,811] Trial 51 finished with value: 0.058991597240807915 and parameters: {'alpha': 9.543855695613198, 'tol': 0.009692039067211769}. Best is trial 44 with value: 0.0589867662380032.\n",
      "[I 2025-05-04 21:18:09,720] Trial 52 finished with value: 0.05898677253828455 and parameters: {'alpha': 1.6947309098218244, 'tol': 0.002622379623589388}. Best is trial 44 with value: 0.0589867662380032.\n",
      "[I 2025-05-04 21:18:10,158] Trial 53 finished with value: 0.058986779123585825 and parameters: {'alpha': 2.1794065166016714, 'tol': 0.002222181853163174}. Best is trial 44 with value: 0.0589867662380032.\n",
      "[I 2025-05-04 21:18:10,437] Trial 54 finished with value: 0.058986767800305186 and parameters: {'alpha': 1.9906804552101147, 'tol': 0.0016929450608173559}. Best is trial 44 with value: 0.0589867662380032.\n",
      "[I 2025-05-04 21:18:10,865] Trial 55 finished with value: 0.058986766689562715 and parameters: {'alpha': 1.9450100364772904, 'tol': 0.0014815335411342766}. Best is trial 44 with value: 0.0589867662380032.\n",
      "[I 2025-05-04 21:18:13,922] Trial 56 finished with value: 0.05898676676432689 and parameters: {'alpha': 1.8330199608332765, 'tol': 0.00018690246150272562}. Best is trial 44 with value: 0.0589867662380032.\n",
      "[I 2025-05-04 21:18:14,362] Trial 57 finished with value: 0.05898679086547387 and parameters: {'alpha': 2.2922138598797552, 'tol': 0.0007383283846286502}. Best is trial 44 with value: 0.0589867662380032.\n",
      "[I 2025-05-04 21:18:14,810] Trial 58 finished with value: 0.05898684846789134 and parameters: {'alpha': 2.6383309115528313, 'tol': 0.0020367240625274808}. Best is trial 44 with value: 0.0589867662380032.\n",
      "[I 2025-05-04 21:18:15,130] Trial 59 finished with value: 0.05898676789291773 and parameters: {'alpha': 1.7894667980692276, 'tol': 0.0025694993108528407}. Best is trial 44 with value: 0.0589867662380032.\n",
      "[I 2025-05-04 21:18:18,250] Trial 60 finished with value: 0.058986840434872095 and parameters: {'alpha': 2.599375078720878, 'tol': 0.0002010529765291816}. Best is trial 44 with value: 0.0589867662380032.\n",
      "[I 2025-05-04 21:18:18,690] Trial 61 finished with value: 0.058988643684842086 and parameters: {'alpha': 6.096203747460565, 'tol': 0.008818310934864784}. Best is trial 44 with value: 0.0589867662380032.\n",
      "[I 2025-05-04 21:18:19,159] Trial 62 finished with value: 0.05898676689217251 and parameters: {'alpha': 1.9557504746397008, 'tol': 3.0817841458075676e-05}. Best is trial 44 with value: 0.0589867662380032.\n",
      "[I 2025-05-04 21:18:19,594] Trial 63 finished with value: 0.05898689244831672 and parameters: {'alpha': 2.8263581923522363, 'tol': 1.1909030957834926e-05}. Best is trial 44 with value: 0.0589867662380032.\n",
      "[I 2025-05-04 21:18:22,446] Trial 64 finished with value: 0.05898677916820522 and parameters: {'alpha': 2.1799134104022935, 'tol': 0.001955695368855244}. Best is trial 44 with value: 0.0589867662380032.\n",
      "[I 2025-05-04 21:18:22,879] Trial 65 finished with value: 0.05898693108594985 and parameters: {'alpha': 0.9351523103648487, 'tol': 0.0021563798314425445}. Best is trial 44 with value: 0.0589867662380032.\n",
      "[I 2025-05-04 21:18:23,157] Trial 66 finished with value: 0.05898702431581415 and parameters: {'alpha': 0.7125480414516305, 'tol': 0.0001251770624290905}. Best is trial 44 with value: 0.0589867662380032.\n",
      "[I 2025-05-04 21:18:23,756] Trial 67 finished with value: 0.05898686112629244 and parameters: {'alpha': 1.1553807067958735, 'tol': 0.00042062739759208824}. Best is trial 44 with value: 0.0589867662380032.\n",
      "[I 2025-05-04 21:18:26,603] Trial 68 finished with value: 0.058986814156722 and parameters: {'alpha': 1.3613444329705227, 'tol': 5.62269680265794e-05}. Best is trial 44 with value: 0.0589867662380032.\n",
      "[I 2025-05-04 21:18:27,031] Trial 69 finished with value: 0.05898676834470823 and parameters: {'alpha': 2.006736688409133, 'tol': 0.00021403410961265442}. Best is trial 44 with value: 0.0589867662380032.\n",
      "[I 2025-05-04 21:18:27,473] Trial 70 finished with value: 0.058986781569937544 and parameters: {'alpha': 1.5870691845004128, 'tol': 8.432841497072515e-05}. Best is trial 44 with value: 0.0589867662380032.\n",
      "[I 2025-05-04 21:18:27,920] Trial 71 finished with value: 0.0589868301147013 and parameters: {'alpha': 1.2825255989825473, 'tol': 0.00020582281185732045}. Best is trial 44 with value: 0.0589867662380032.\n",
      "[I 2025-05-04 21:18:30,800] Trial 72 finished with value: 0.058987483869079566 and parameters: {'alpha': 4.292500550285444, 'tol': 0.00028390955737105507}. Best is trial 44 with value: 0.0589867662380032.\n",
      "[I 2025-05-04 21:18:31,230] Trial 73 finished with value: 0.05898731587637726 and parameters: {'alpha': 3.9594081314099405, 'tol': 0.00027150872511047297}. Best is trial 44 with value: 0.0589867662380032.\n",
      "[I 2025-05-04 21:18:31,671] Trial 74 finished with value: 0.05898689075018113 and parameters: {'alpha': 2.8197119975625413, 'tol': 0.0017605077816184775}. Best is trial 44 with value: 0.0589867662380032.\n",
      "[I 2025-05-04 21:18:32,103] Trial 75 finished with value: 0.05898759248794639 and parameters: {'alpha': 4.492057935658897, 'tol': 0.0016321155669464116}. Best is trial 44 with value: 0.0589867662380032.\n",
      "[I 2025-05-04 21:18:34,940] Trial 76 finished with value: 0.05898677558806697 and parameters: {'alpha': 2.136103315753222, 'tol': 0.002245989861317198}. Best is trial 44 with value: 0.0589867662380032.\n",
      "[I 2025-05-04 21:18:35,367] Trial 77 finished with value: 0.05899140709792802 and parameters: {'alpha': 9.341946663840787, 'tol': 0.0008252553402506874}. Best is trial 44 with value: 0.0589867662380032.\n",
      "[I 2025-05-04 21:18:35,806] Trial 78 finished with value: 0.058986786155006736 and parameters: {'alpha': 2.250981647298084, 'tol': 0.004561968608772268}. Best is trial 44 with value: 0.0589867662380032.\n",
      "[I 2025-05-04 21:18:36,240] Trial 79 finished with value: 0.05898678203309451 and parameters: {'alpha': 1.582602180093283, 'tol': 0.0016610823061368326}. Best is trial 44 with value: 0.0589867662380032.\n",
      "[I 2025-05-04 21:18:39,120] Trial 80 finished with value: 0.058991607518966656 and parameters: {'alpha': 9.554721946647254, 'tol': 0.003994009242286213}. Best is trial 44 with value: 0.0589867662380032.\n",
      "[I 2025-05-04 21:18:39,565] Trial 81 finished with value: 0.05898698859396327 and parameters: {'alpha': 0.7913659995769515, 'tol': 0.0021008996319356833}. Best is trial 44 with value: 0.0589867662380032.\n",
      "[I 2025-05-04 21:18:40,009] Trial 82 finished with value: 0.05898731939201137 and parameters: {'alpha': 0.2230159303748971, 'tol': 0.0028756692655969264}. Best is trial 44 with value: 0.0589867662380032.\n",
      "[I 2025-05-04 21:18:40,459] Trial 83 finished with value: 0.05898722301568004 and parameters: {'alpha': 0.3605292836326133, 'tol': 0.0025443811947519234}. Best is trial 44 with value: 0.0589867662380032.\n",
      "[I 2025-05-04 21:18:43,307] Trial 84 finished with value: 0.058986813833378095 and parameters: {'alpha': 1.3630765924911448, 'tol': 0.0026807139044238435}. Best is trial 44 with value: 0.0589867662380032.\n",
      "[I 2025-05-04 21:18:43,759] Trial 85 finished with value: 0.058987097576791984 and parameters: {'alpha': 3.4573824148937704, 'tol': 0.003651806186669457}. Best is trial 44 with value: 0.0589867662380032.\n",
      "[I 2025-05-04 21:18:44,181] Trial 86 finished with value: 0.05898699569607876 and parameters: {'alpha': 3.175751217823786, 'tol': 0.0028986519895585704}. Best is trial 44 with value: 0.0589867662380032.\n",
      "[I 2025-05-04 21:18:44,478] Trial 87 finished with value: 0.05898682985673789 and parameters: {'alpha': 2.5449771140230646, 'tol': 0.003635536741153998}. Best is trial 44 with value: 0.0589867662380032.\n",
      "[I 2025-05-04 21:18:47,393] Trial 88 finished with value: 0.05898680632651042 and parameters: {'alpha': 2.4061536091196056, 'tol': 0.002944368395829921}. Best is trial 44 with value: 0.0589867662380032.\n",
      "[I 2025-05-04 21:18:48,038] Trial 89 finished with value: 0.05898682447453928 and parameters: {'alpha': 2.5156910762337854, 'tol': 0.001609615669410396}. Best is trial 44 with value: 0.0589867662380032.\n",
      "[I 2025-05-04 21:18:48,328] Trial 90 finished with value: 0.0589871130668449 and parameters: {'alpha': 3.496784328908293, 'tol': 0.006527733307876917}. Best is trial 44 with value: 0.0589867662380032.\n",
      "[I 2025-05-04 21:18:48,753] Trial 91 finished with value: 0.05898678146483263 and parameters: {'alpha': 2.204954033327674, 'tol': 0.0017470610811933026}. Best is trial 44 with value: 0.0589867662380032.\n",
      "[I 2025-05-04 21:18:51,839] Trial 92 finished with value: 0.05898709639123976 and parameters: {'alpha': 3.4543355113682406, 'tol': 0.0067968208087590114}. Best is trial 44 with value: 0.0589867662380032.\n",
      "[I 2025-05-04 21:18:52,285] Trial 93 finished with value: 0.058986767619291634 and parameters: {'alpha': 1.9847470147261999, 'tol': 0.001702835287321622}. Best is trial 44 with value: 0.0589867662380032.\n",
      "[I 2025-05-04 21:18:52,722] Trial 94 finished with value: 0.0589867914576096 and parameters: {'alpha': 2.2971196937188996, 'tol': 0.0010358913813380804}. Best is trial 44 with value: 0.0589867662380032.\n",
      "[I 2025-05-04 21:18:53,160] Trial 95 finished with value: 0.058986825475973455 and parameters: {'alpha': 2.521232309666005, 'tol': 0.0002966791030993637}. Best is trial 44 with value: 0.0589867662380032.\n",
      "[I 2025-05-04 21:18:56,023] Trial 96 finished with value: 0.0589867977374888 and parameters: {'alpha': 2.346118513311258, 'tol': 3.7973392185754315e-05}. Best is trial 44 with value: 0.0589867662380032.\n",
      "[I 2025-05-04 21:18:56,475] Trial 97 finished with value: 0.0589867797174462 and parameters: {'alpha': 2.186085194629998, 'tol': 0.0008415361607350058}. Best is trial 44 with value: 0.0589867662380032.\n",
      "[I 2025-05-04 21:18:56,743] Trial 98 finished with value: 0.058986766272118955 and parameters: {'alpha': 1.8735035646004063, 'tol': 0.0016427343040334537}. Best is trial 44 with value: 0.0589867662380032.\n",
      "[I 2025-05-04 21:18:57,345] Trial 99 finished with value: 0.0589868532782197 and parameters: {'alpha': 1.18511465686916, 'tol': 0.001353272782266201}. Best is trial 44 with value: 0.0589867662380032.\n",
      "[I 2025-05-04 21:19:00,260] Trial 100 finished with value: 0.05898687735105407 and parameters: {'alpha': 1.0979073786639781, 'tol': 0.0015187049503782067}. Best is trial 44 with value: 0.0589867662380032.\n",
      "[I 2025-05-04 21:19:00,710] Trial 101 finished with value: 0.058986843625104965 and parameters: {'alpha': 1.2237619088357155, 'tol': 0.001811231699601805}. Best is trial 44 with value: 0.0589867662380032.\n",
      "[I 2025-05-04 21:19:00,981] Trial 102 finished with value: 0.058987203389579836 and parameters: {'alpha': 0.3906253805085891, 'tol': 0.001454614134731017}. Best is trial 44 with value: 0.0589867662380032.\n",
      "[I 2025-05-04 21:19:01,395] Trial 103 finished with value: 0.05898683284292231 and parameters: {'alpha': 1.2701555363925827, 'tol': 0.0015871123473035756}. Best is trial 44 with value: 0.0589867662380032.\n",
      "[I 2025-05-04 21:19:04,449] Trial 104 finished with value: 0.058986773038519194 and parameters: {'alpha': 2.0996405600807067, 'tol': 0.0018235759291809765}. Best is trial 44 with value: 0.0589867662380032.\n",
      "[I 2025-05-04 21:19:04,885] Trial 105 finished with value: 0.05898676716805833 and parameters: {'alpha': 1.9680285933682176, 'tol': 0.00170593044190315}. Best is trial 44 with value: 0.0589867662380032.\n",
      "[I 2025-05-04 21:19:05,173] Trial 106 finished with value: 0.058986976620057925 and parameters: {'alpha': 3.1174458866389996, 'tol': 0.0016598045305836007}. Best is trial 44 with value: 0.0589867662380032.\n",
      "[I 2025-05-04 21:19:05,763] Trial 107 finished with value: 0.05898688102520706 and parameters: {'alpha': 2.7808383442632545, 'tol': 0.0019066943870926333}. Best is trial 44 with value: 0.0589867662380032.\n",
      "[I 2025-05-04 21:19:08,643] Trial 108 finished with value: 0.058986907975600224 and parameters: {'alpha': 2.8853714842893217, 'tol': 0.0024191517766570395}. Best is trial 44 with value: 0.0589867662380032.\n",
      "[I 2025-05-04 21:19:09,104] Trial 109 finished with value: 0.058987065282361896 and parameters: {'alpha': 3.3726755611148604, 'tol': 0.0014382291606257328}. Best is trial 44 with value: 0.0589867662380032.\n",
      "[I 2025-05-04 21:19:09,545] Trial 110 finished with value: 0.05898700191542733 and parameters: {'alpha': 3.194304752046681, 'tol': 0.0015158221677972297}. Best is trial 44 with value: 0.0589867662380032.\n",
      "[I 2025-05-04 21:19:09,995] Trial 111 finished with value: 0.058987019610894205 and parameters: {'alpha': 3.24597724716514, 'tol': 0.0011573098946537062}. Best is trial 44 with value: 0.0589867662380032.\n",
      "[I 2025-05-04 21:19:12,855] Trial 112 finished with value: 0.058986867818435366 and parameters: {'alpha': 2.7255824964221214, 'tol': 0.0012011055203298405}. Best is trial 44 with value: 0.0589867662380032.\n",
      "[I 2025-05-04 21:19:13,119] Trial 113 finished with value: 0.05898683339477666 and parameters: {'alpha': 2.563606346509287, 'tol': 8.367652359455926e-05}. Best is trial 44 with value: 0.0589867662380032.\n",
      "[I 2025-05-04 21:19:13,575] Trial 114 finished with value: 0.058986770630617615 and parameters: {'alpha': 1.726705295262476, 'tol': 0.0012414822064452263}. Best is trial 44 with value: 0.0589867662380032.\n",
      "[I 2025-05-04 21:19:14,268] Trial 115 finished with value: 0.05898678752586962 and parameters: {'alpha': 1.53408822550596, 'tol': 0.0032890802212665335}. Best is trial 44 with value: 0.0589867662380032.\n",
      "[I 2025-05-04 21:19:16,874] Trial 116 finished with value: 0.058986821497571645 and parameters: {'alpha': 1.3235781397068087, 'tol': 0.00019813264778320442}. Best is trial 44 with value: 0.0589867662380032.\n",
      "[I 2025-05-04 21:19:17,300] Trial 117 finished with value: 0.058986831990888215 and parameters: {'alpha': 1.2739890043187785, 'tol': 0.0015675396690726635}. Best is trial 44 with value: 0.0589867662380032.\n",
      "[I 2025-05-04 21:19:17,924] Trial 118 finished with value: 0.05898681778095021 and parameters: {'alpha': 1.342340208840731, 'tol': 0.003133923009260955}. Best is trial 44 with value: 0.0589867662380032.\n",
      "[I 2025-05-04 21:19:18,617] Trial 119 finished with value: 0.05898676720069341 and parameters: {'alpha': 1.8131874883838976, 'tol': 0.0017564678808790573}. Best is trial 44 with value: 0.0589867662380032.\n",
      "[I 2025-05-04 21:19:21,040] Trial 120 finished with value: 0.05898679838490321 and parameters: {'alpha': 1.4546126674714277, 'tol': 0.002070153550650645}. Best is trial 44 with value: 0.0589867662380032.\n",
      "[I 2025-05-04 21:19:21,656] Trial 121 finished with value: 0.058986828642245054 and parameters: {'alpha': 1.2893200310033897, 'tol': 0.0036504745124076813}. Best is trial 44 with value: 0.0589867662380032.\n",
      "[I 2025-05-04 21:19:22,304] Trial 122 finished with value: 0.05898676945995336 and parameters: {'alpha': 1.749997495276442, 'tol': 0.0013714424331202962}. Best is trial 44 with value: 0.0589867662380032.\n",
      "[I 2025-05-04 21:19:22,973] Trial 123 finished with value: 0.05899190300880939 and parameters: {'alpha': 9.865142853560307, 'tol': 0.007677095597501226}. Best is trial 44 with value: 0.0589867662380032.\n",
      "[I 2025-05-04 21:19:25,214] Trial 124 finished with value: 0.05898678220407862 and parameters: {'alpha': 1.580970269473497, 'tol': 0.002009048285444773}. Best is trial 44 with value: 0.0589867662380032.\n",
      "[I 2025-05-04 21:19:25,854] Trial 125 finished with value: 0.05898692698955882 and parameters: {'alpha': 0.946407166020458, 'tol': 0.00013647442067409336}. Best is trial 44 with value: 0.0589867662380032.\n",
      "[I 2025-05-04 21:19:26,493] Trial 126 finished with value: 0.058986780034678936 and parameters: {'alpha': 1.6023987552312566, 'tol': 0.0014511489955837502}. Best is trial 44 with value: 0.0589867662380032.\n",
      "[I 2025-05-04 21:19:27,184] Trial 127 finished with value: 0.058986983613722115 and parameters: {'alpha': 0.8029150726521748, 'tol': 0.00036548781762178}. Best is trial 44 with value: 0.0589867662380032.\n",
      "[I 2025-05-04 21:19:29,443] Trial 128 finished with value: 0.05898685042674729 and parameters: {'alpha': 1.196277627339415, 'tol': 0.00013703915393813311}. Best is trial 44 with value: 0.0589867662380032.\n",
      "[I 2025-05-04 21:19:30,105] Trial 129 finished with value: 0.05898678571156603 and parameters: {'alpha': 2.2468703424077527, 'tol': 0.00248232350640536}. Best is trial 44 with value: 0.0589867662380032.\n",
      "[I 2025-05-04 21:19:30,716] Trial 130 finished with value: 0.058988721247308314 and parameters: {'alpha': 6.200529181451549, 'tol': 0.0049154225201810805}. Best is trial 44 with value: 0.0589867662380032.\n",
      "[I 2025-05-04 21:19:31,414] Trial 131 finished with value: 0.05898680344962234 and parameters: {'alpha': 2.3867896575003944, 'tol': 0.001336641094352439}. Best is trial 44 with value: 0.0589867662380032.\n",
      "[I 2025-05-04 21:19:33,638] Trial 132 finished with value: 0.058986802460881976 and parameters: {'alpha': 2.3799726739984197, 'tol': 0.002654316087583832}. Best is trial 44 with value: 0.0589867662380032.\n",
      "[I 2025-05-04 21:19:34,299] Trial 133 finished with value: 0.05898685973772815 and parameters: {'alpha': 2.6901576691863154, 'tol': 0.0011446583354581285}. Best is trial 44 with value: 0.0589867662380032.\n",
      "[I 2025-05-04 21:19:34,904] Trial 134 finished with value: 0.05898683391191392 and parameters: {'alpha': 2.566290910567158, 'tol': 0.00013562690359815937}. Best is trial 44 with value: 0.0589867662380032.\n",
      "[I 2025-05-04 21:19:35,599] Trial 135 finished with value: 0.05898679414470387 and parameters: {'alpha': 2.3187232207452997, 'tol': 0.0001080306810596419}. Best is trial 44 with value: 0.0589867662380032.\n",
      "[I 2025-05-04 21:19:37,819] Trial 136 finished with value: 0.058986773968229406 and parameters: {'alpha': 2.1136023466693286, 'tol': 0.001279053307378695}. Best is trial 44 with value: 0.0589867662380032.\n",
      "[I 2025-05-04 21:19:38,484] Trial 137 finished with value: 0.05898680304393185 and parameters: {'alpha': 2.384003041531729, 'tol': 0.00017156303752490672}. Best is trial 44 with value: 0.0589867662380032.\n",
      "[I 2025-05-04 21:19:39,105] Trial 138 finished with value: 0.058986766662270686 and parameters: {'alpha': 1.9433974108765535, 'tol': 0.0011477301544938145}. Best is trial 44 with value: 0.0589867662380032.\n",
      "[I 2025-05-04 21:19:39,956] Trial 139 finished with value: 0.05898698059593963 and parameters: {'alpha': 3.129780523563877, 'tol': 7.611306031906967e-05}. Best is trial 44 with value: 0.0589867662380032.\n",
      "[I 2025-05-04 21:19:42,032] Trial 140 finished with value: 0.058986766231105686 and parameters: {'alpha': 1.8840018842620005, 'tol': 0.00028141239197004343}. Best is trial 140 with value: 0.058986766231105686.\n",
      "[I 2025-05-04 21:19:42,696] Trial 141 finished with value: 0.058986766343606514 and parameters: {'alpha': 1.918336068441718, 'tol': 0.0015817865140038078}. Best is trial 140 with value: 0.058986766231105686.\n",
      "[I 2025-05-04 21:19:43,305] Trial 142 finished with value: 0.05898680106015635 and parameters: {'alpha': 1.437314244754383, 'tol': 0.0022529981036373673}. Best is trial 140 with value: 0.058986766231105686.\n",
      "[I 2025-05-04 21:19:43,985] Trial 143 finished with value: 0.05898676951959986 and parameters: {'alpha': 2.0355346490765607, 'tol': 0.0017640810919955171}. Best is trial 140 with value: 0.058986766231105686.\n",
      "[I 2025-05-04 21:19:46,218] Trial 144 finished with value: 0.05898679382352399 and parameters: {'alpha': 1.4859530529067615, 'tol': 0.0012332570613703443}. Best is trial 140 with value: 0.058986766231105686.\n",
      "[I 2025-05-04 21:19:46,900] Trial 145 finished with value: 0.058986886954508926 and parameters: {'alpha': 1.0660436681106749, 'tol': 0.0011620909786213287}. Best is trial 140 with value: 0.058986766231105686.\n",
      "[I 2025-05-04 21:19:47,503] Trial 146 finished with value: 0.058987482626515174 and parameters: {'alpha': 0.0202377314785398, 'tol': 0.001141330798173149}. Best is trial 140 with value: 0.058986766231105686.\n",
      "[I 2025-05-04 21:19:48,207] Trial 147 finished with value: 0.058987381875770975 and parameters: {'alpha': 0.14152357293367124, 'tol': 0.0012672553268702745}. Best is trial 140 with value: 0.058986766231105686.\n",
      "[I 2025-05-04 21:19:50,448] Trial 148 finished with value: 0.05898749096062451 and parameters: {'alpha': 0.010693182144273727, 'tol': 9.547613835755571e-05}. Best is trial 140 with value: 0.058986766231105686.\n",
      "[I 2025-05-04 21:19:51,387] Trial 149 finished with value: 0.058987478822000436 and parameters: {'alpha': 0.024617868797219167, 'tol': 6.79215584756052e-05}. Best is trial 140 with value: 0.058986766231105686.\n",
      "[I 2025-05-04 21:19:51,649] Trial 150 finished with value: 0.058986783838019176 and parameters: {'alpha': 1.56581150134053, 'tol': 5.405976043577139e-05}. Best is trial 140 with value: 0.058986766231105686.\n",
      "[I 2025-05-04 21:19:52,565] Trial 151 finished with value: 0.05898707363197353 and parameters: {'alpha': 3.3949288885114033, 'tol': 0.0014736983016640198}. Best is trial 140 with value: 0.058986766231105686.\n",
      "[I 2025-05-04 21:19:54,566] Trial 152 finished with value: 0.05898715938008277 and parameters: {'alpha': 3.6104572599676494, 'tol': 0.0018458357771714928}. Best is trial 140 with value: 0.058986766231105686.\n",
      "[I 2025-05-04 21:19:55,640] Trial 153 finished with value: 0.058987153474606674 and parameters: {'alpha': 3.5962813376581675, 'tol': 0.002543055985371992}. Best is trial 140 with value: 0.058986766231105686.\n",
      "[I 2025-05-04 21:19:56,057] Trial 154 finished with value: 0.05898689653115788 and parameters: {'alpha': 2.8421757443019944, 'tol': 0.002583260369665056}. Best is trial 140 with value: 0.058986766231105686.\n",
      "[I 2025-05-04 21:19:56,744] Trial 155 finished with value: 0.058986779746451085 and parameters: {'alpha': 2.1864077169503187, 'tol': 0.0027519268375497006}. Best is trial 140 with value: 0.058986766231105686.\n",
      "[I 2025-05-04 21:19:58,977] Trial 156 finished with value: 0.05898678271983401 and parameters: {'alpha': 2.217868867477449, 'tol': 0.0022151279297091177}. Best is trial 140 with value: 0.058986766231105686.\n",
      "[I 2025-05-04 21:19:59,655] Trial 157 finished with value: 0.05898677050871655 and parameters: {'alpha': 2.056008679483058, 'tol': 0.0027349284159600184}. Best is trial 140 with value: 0.058986766231105686.\n",
      "[I 2025-05-04 21:20:00,258] Trial 158 finished with value: 0.05898954250867217 and parameters: {'alpha': 7.240584946514947, 'tol': 0.0029403072979370766}. Best is trial 140 with value: 0.058986766231105686.\n",
      "[I 2025-05-04 21:20:01,129] Trial 159 finished with value: 0.05898691690740949 and parameters: {'alpha': 2.9180140145370492, 'tol': 0.009961137760100738}. Best is trial 140 with value: 0.058986766231105686.\n",
      "[I 2025-05-04 21:20:03,183] Trial 160 finished with value: 0.05898676782653897 and parameters: {'alpha': 1.9915118334109938, 'tol': 0.0019115554832985736}. Best is trial 140 with value: 0.058986766231105686.\n",
      "[I 2025-05-04 21:20:04,046] Trial 161 finished with value: 0.05898676657253532 and parameters: {'alpha': 1.9377087879112322, 'tol': 0.001402092679345274}. Best is trial 140 with value: 0.058986766231105686.\n",
      "[I 2025-05-04 21:20:04,460] Trial 162 finished with value: 0.0589868150764494 and parameters: {'alpha': 2.461349142398383, 'tol': 0.0013041141236472776}. Best is trial 140 with value: 0.058986766231105686.\n",
      "[I 2025-05-04 21:20:05,144] Trial 163 finished with value: 0.05898676623717018 and parameters: {'alpha': 1.8816635144559952, 'tol': 0.001004863549394095}. Best is trial 140 with value: 0.058986766231105686.\n",
      "[I 2025-05-04 21:20:07,181] Trial 164 finished with value: 0.05898676677864269 and parameters: {'alpha': 1.9499707638772905, 'tol': 0.0011880489834381108}. Best is trial 140 with value: 0.058986766231105686.\n",
      "[I 2025-05-04 21:20:08,610] Trial 165 finished with value: 0.05898676693732382 and parameters: {'alpha': 1.9579120980783185, 'tol': 0.0015210633649416906}. Best is trial 140 with value: 0.058986766231105686.\n",
      "[I 2025-05-04 21:20:08,614] Trial 166 finished with value: 0.0589867738325916 and parameters: {'alpha': 1.6758079709024654, 'tol': 0.0011813525528801814}. Best is trial 140 with value: 0.058986766231105686.\n",
      "[I 2025-05-04 21:20:09,173] Trial 167 finished with value: 0.05898677176342933 and parameters: {'alpha': 1.7070247667499179, 'tol': 0.0011258461962136194}. Best is trial 140 with value: 0.058986766231105686.\n",
      "[I 2025-05-04 21:20:11,406] Trial 168 finished with value: 0.0589867725717793 and parameters: {'alpha': 2.0922805712826973, 'tol': 0.0008174248492562272}. Best is trial 140 with value: 0.058986766231105686.\n",
      "[I 2025-05-04 21:20:12,728] Trial 170 finished with value: 0.05898676956694181 and parameters: {'alpha': 2.0365783779556157, 'tol': 0.0003966972931777235}. Best is trial 140 with value: 0.058986766231105686.\n",
      "[I 2025-05-04 21:20:12,916] Trial 169 finished with value: 0.05898687222617259 and parameters: {'alpha': 2.7443666128781894, 'tol': 0.0005052639079868354}. Best is trial 140 with value: 0.058986766231105686.\n",
      "[I 2025-05-04 21:20:13,352] Trial 171 finished with value: 0.05898685289299146 and parameters: {'alpha': 2.659045327887407, 'tol': 2.2894365206068486e-05}. Best is trial 140 with value: 0.058986766231105686.\n",
      "[I 2025-05-04 21:20:15,681] Trial 172 finished with value: 0.05898676650181834 and parameters: {'alpha': 1.8493398554884724, 'tol': 0.0007223251192592583}. Best is trial 140 with value: 0.058986766231105686.\n",
      "[I 2025-05-04 21:20:17,108] Trial 173 finished with value: 0.058986771686575276 and parameters: {'alpha': 2.077555340648331, 'tol': 2.2746433550849686e-05}. Best is trial 140 with value: 0.058986766231105686.\n",
      "[I 2025-05-04 21:20:17,123] Trial 174 finished with value: 0.05898677251033949 and parameters: {'alpha': 1.6951604185238267, 'tol': 0.0014735530638484095}. Best is trial 140 with value: 0.058986766231105686.\n",
      "[I 2025-05-04 21:20:17,554] Trial 175 finished with value: 0.05898678939704788 and parameters: {'alpha': 1.5190885280463728, 'tol': 0.0012641390305509466}. Best is trial 140 with value: 0.058986766231105686.\n",
      "[I 2025-05-04 21:20:19,929] Trial 176 finished with value: 0.05898677221380859 and parameters: {'alpha': 1.6997794840373854, 'tol': 0.0008962629425148304}. Best is trial 140 with value: 0.058986766231105686.\n",
      "[I 2025-05-04 21:20:21,375] Trial 178 finished with value: 0.05898678739471835 and parameters: {'alpha': 1.5351648862788334, 'tol': 0.000886507527708706}. Best is trial 140 with value: 0.058986766231105686.\n",
      "[I 2025-05-04 21:20:21,376] Trial 177 finished with value: 0.05898677902807281 and parameters: {'alpha': 1.6129336158976013, 'tol': 0.0007419397094631388}. Best is trial 140 with value: 0.058986766231105686.\n",
      "[I 2025-05-04 21:20:21,820] Trial 179 finished with value: 0.05898677139447913 and parameters: {'alpha': 1.7131876510598831, 'tol': 0.0008647400584086687}. Best is trial 140 with value: 0.058986766231105686.\n",
      "[I 2025-05-04 21:20:24,076] Trial 180 finished with value: 0.0589868046153445 and parameters: {'alpha': 1.415377512811227, 'tol': 0.0011718456164666754}. Best is trial 140 with value: 0.058986766231105686.\n",
      "[I 2025-05-04 21:20:25,533] Trial 182 finished with value: 0.058986998116115595 and parameters: {'alpha': 3.1829960399786703, 'tol': 0.0009752473133141565}. Best is trial 140 with value: 0.058986766231105686.\n",
      "[I 2025-05-04 21:20:25,992] Trial 181 finished with value: 0.05898693796563172 and parameters: {'alpha': 2.9917458225568887, 'tol': 0.0013211234152183853}. Best is trial 140 with value: 0.058986766231105686.\n",
      "[I 2025-05-04 21:20:26,175] Trial 183 finished with value: 0.05898717266922407 and parameters: {'alpha': 3.6420427969844527, 'tol': 0.00048666333316319714}. Best is trial 140 with value: 0.058986766231105686.\n",
      "[I 2025-05-04 21:20:28,313] Trial 184 finished with value: 0.058987024950548764 and parameters: {'alpha': 3.261264045646965, 'tol': 0.0012506346730985132}. Best is trial 140 with value: 0.058986766231105686.\n",
      "[I 2025-05-04 21:20:29,752] Trial 185 finished with value: 0.058986838547550366 and parameters: {'alpha': 1.2451431841247382, 'tol': 0.00198320683202832}. Best is trial 140 with value: 0.058986766231105686.\n",
      "[I 2025-05-04 21:20:30,437] Trial 187 finished with value: 0.058986959893295554 and parameters: {'alpha': 0.8600984121190081, 'tol': 0.002658327194375651}. Best is trial 140 with value: 0.058986766231105686.\n",
      "[I 2025-05-04 21:20:30,440] Trial 186 finished with value: 0.058987053188948965 and parameters: {'alpha': 0.653319394686702, 'tol': 0.00226501198619288}. Best is trial 140 with value: 0.058986766231105686.\n",
      "[I 2025-05-04 21:20:32,536] Trial 188 finished with value: 0.05898684215548419 and parameters: {'alpha': 1.229870358914607, 'tol': 0.002023467599087569}. Best is trial 140 with value: 0.058986766231105686.\n",
      "[I 2025-05-04 21:20:33,624] Trial 189 finished with value: 0.05898687852333676 and parameters: {'alpha': 1.0939387079630671, 'tol': 0.0020262645024706942}. Best is trial 140 with value: 0.058986766231105686.\n",
      "[I 2025-05-04 21:20:34,678] Trial 191 finished with value: 0.058986767538065074 and parameters: {'alpha': 1.800830394911245, 'tol': 8.244184542746624e-05}. Best is trial 140 with value: 0.058986766231105686.\n",
      "[I 2025-05-04 21:20:34,884] Trial 190 finished with value: 0.05898680242838295 and parameters: {'alpha': 2.3797471224479008, 'tol': 0.0017455729683106503}. Best is trial 140 with value: 0.058986766231105686.\n",
      "[I 2025-05-04 21:20:36,564] Trial 192 finished with value: 0.05898682932996509 and parameters: {'alpha': 2.5421628484764627, 'tol': 0.0016495138821484713}. Best is trial 140 with value: 0.058986766231105686.\n",
      "[I 2025-05-04 21:20:37,788] Trial 193 finished with value: 0.058986769801386355 and parameters: {'alpha': 1.742814730701491, 'tol': 0.00022713197940252305}. Best is trial 140 with value: 0.058986766231105686.\n",
      "[I 2025-05-04 21:20:39,211] Trial 195 finished with value: 0.05898679429777776 and parameters: {'alpha': 2.3199234271680735, 'tol': 4.953856629232468e-05}. Best is trial 140 with value: 0.058986766231105686.\n",
      "[I 2025-05-04 21:20:39,228] Trial 194 finished with value: 0.058989250153698235 and parameters: {'alpha': 6.8820075206378934, 'tol': 0.007238333244805828}. Best is trial 140 with value: 0.058986766231105686.\n",
      "[I 2025-05-04 21:20:40,566] Trial 196 finished with value: 0.05898680381858592 and parameters: {'alpha': 1.4201972092264614, 'tol': 0.0004427426871430096}. Best is trial 140 with value: 0.058986766231105686.\n",
      "[I 2025-05-04 21:20:41,983] Trial 197 finished with value: 0.0589867698255589 and parameters: {'alpha': 2.042156116376637, 'tol': 1.9210093192581758e-05}. Best is trial 140 with value: 0.058986766231105686.\n",
      "[I 2025-05-04 21:20:43,632] Trial 198 finished with value: 0.05898677322905258 and parameters: {'alpha': 1.6844078722869376, 'tol': 0.00031159555603752366}. Best is trial 140 with value: 0.058986766231105686.\n",
      "[I 2025-05-04 21:20:43,638] Trial 199 finished with value: 0.058986795835983236 and parameters: {'alpha': 1.4718141606748323, 'tol': 2.151590755264816e-06}. Best is trial 140 with value: 0.058986766231105686.\n",
      "[I 2025-05-04 21:20:44,726] Trial 200 finished with value: 0.058986776706790575 and parameters: {'alpha': 2.1505515966686524, 'tol': 0.00017563592582723402}. Best is trial 140 with value: 0.058986766231105686.\n",
      "[I 2025-05-04 21:20:45,803] Trial 201 finished with value: 0.058986766224614656 and parameters: {'alpha': 1.8936119300289391, 'tol': 0.0014547093888298912}. Best is trial 201 with value: 0.058986766224614656.\n",
      "[I 2025-05-04 21:20:48,019] Trial 202 finished with value: 0.05898681123261839 and parameters: {'alpha': 2.437726543712021, 'tol': 0.0016195200954753036}. Best is trial 201 with value: 0.058986766224614656.\n",
      "[I 2025-05-04 21:20:48,022] Trial 203 finished with value: 0.058986966392094844 and parameters: {'alpha': 3.085241995350595, 'tol': 0.001628595860689027}. Best is trial 201 with value: 0.058986766224614656.\n",
      "[I 2025-05-04 21:20:48,573] Trial 204 finished with value: 0.058986862380113775 and parameters: {'alpha': 2.7018893459156574, 'tol': 0.0016304873419241124}. Best is trial 201 with value: 0.058986766224614656.\n",
      "[I 2025-05-04 21:20:50,018] Trial 205 finished with value: 0.058986806720118114 and parameters: {'alpha': 2.4087513456078447, 'tol': 0.002054597998960126}. Best is trial 201 with value: 0.058986766224614656.\n",
      "[I 2025-05-04 21:20:52,275] Trial 207 finished with value: 0.05898676914587923 and parameters: {'alpha': 2.0270219087074723, 'tol': 0.0019146687509394552}. Best is trial 201 with value: 0.058986766224614656.\n",
      "[I 2025-05-04 21:20:52,288] Trial 206 finished with value: 0.05898676627734682 and parameters: {'alpha': 1.8725935039161599, 'tol': 0.0015891739646373359}. Best is trial 201 with value: 0.058986766224614656.\n",
      "[I 2025-05-04 21:20:52,750] Trial 208 finished with value: 0.05898679245919464 and parameters: {'alpha': 1.4958484638245266, 'tol': 0.0015593227620507824}. Best is trial 201 with value: 0.058986766224614656.\n",
      "[I 2025-05-04 21:20:54,420] Trial 209 finished with value: 0.058986766912310654 and parameters: {'alpha': 1.9567232341822334, 'tol': 0.0018899844623832644}. Best is trial 201 with value: 0.058986766224614656.\n",
      "[I 2025-05-04 21:20:56,394] Trial 211 finished with value: 0.058986781580497694 and parameters: {'alpha': 1.5869665602000416, 'tol': 0.0013215524531413193}. Best is trial 201 with value: 0.058986766224614656.\n",
      "[I 2025-05-04 21:20:56,696] Trial 210 finished with value: 0.058986871203501184 and parameters: {'alpha': 1.1191057998331861, 'tol': 0.0013057664349640332}. Best is trial 201 with value: 0.058986766224614656.\n",
      "[I 2025-05-04 21:20:56,874] Trial 212 finished with value: 0.058986946103471806 and parameters: {'alpha': 0.8951799988764605, 'tol': 0.0010037341817968743}. Best is trial 201 with value: 0.058986766224614656.\n",
      "[I 2025-05-04 21:20:58,731] Trial 213 finished with value: 0.0589868397479529 and parameters: {'alpha': 1.2400169671737984, 'tol': 0.0020429384538111113}. Best is trial 201 with value: 0.058986766224614656.\n",
      "[I 2025-05-04 21:21:00,626] Trial 214 finished with value: 0.05898684358603351 and parameters: {'alpha': 1.2239234933918683, 'tol': 0.0012939720864901293}. Best is trial 201 with value: 0.058986766224614656.\n",
      "[I 2025-05-04 21:21:00,918] Trial 215 finished with value: 0.05898676625616342 and parameters: {'alpha': 1.9052108686071498, 'tol': 0.002030730011501048}. Best is trial 201 with value: 0.058986766224614656.\n",
      "[I 2025-05-04 21:21:01,114] Trial 216 finished with value: 0.058986775050332396 and parameters: {'alpha': 2.1288602916267556, 'tol': 0.00172175931990487}. Best is trial 201 with value: 0.058986766224614656.\n",
      "[I 2025-05-04 21:21:02,820] Trial 217 finished with value: 0.058986812070155215 and parameters: {'alpha': 2.4429518198944917, 'tol': 0.001370559598660464}. Best is trial 201 with value: 0.058986766224614656.\n",
      "[I 2025-05-04 21:21:04,857] Trial 218 finished with value: 0.05898677007736019 and parameters: {'alpha': 2.0474007754390566, 'tol': 0.003191689540778547}. Best is trial 201 with value: 0.058986766224614656.\n",
      "[I 2025-05-04 21:21:05,128] Trial 219 finished with value: 0.05898677027395514 and parameters: {'alpha': 2.0513795884240325, 'tol': 0.0037308727266236238}. Best is trial 201 with value: 0.058986766224614656.\n",
      "[I 2025-05-04 21:21:05,730] Trial 220 finished with value: 0.05898698748936924 and parameters: {'alpha': 3.1509344661539807, 'tol': 0.0033096335402904376}. Best is trial 201 with value: 0.058986766224614656.\n",
      "[I 2025-05-04 21:21:07,214] Trial 221 finished with value: 0.05898677008037775 and parameters: {'alpha': 1.73720084892008, 'tol': 0.0035352847325926}. Best is trial 201 with value: 0.058986766224614656.\n",
      "[I 2025-05-04 21:21:08,897] Trial 222 finished with value: 0.05898711453266217 and parameters: {'alpha': 3.5004747058794825, 'tol': 0.0035739737956039528}. Best is trial 201 with value: 0.058986766224614656.\n",
      "[I 2025-05-04 21:21:09,290] Trial 223 finished with value: 0.05898679046332368 and parameters: {'alpha': 2.288849932540894, 'tol': 0.0023807143493737993}. Best is trial 201 with value: 0.058986766224614656.\n",
      "[I 2025-05-04 21:21:09,758] Trial 224 finished with value: 0.058986862386259116 and parameters: {'alpha': 2.701916459313116, 'tol': 0.0012402098309871532}. Best is trial 201 with value: 0.058986766224614656.\n",
      "[I 2025-05-04 21:21:11,232] Trial 225 finished with value: 0.05898683254182522 and parameters: {'alpha': 2.559157554938667, 'tol': 0.001342602709810442}. Best is trial 201 with value: 0.058986766224614656.\n",
      "[I 2025-05-04 21:21:13,466] Trial 227 finished with value: 0.0589868772019305 and parameters: {'alpha': 2.7651517988846566, 'tol': 0.000966310221018418}. Best is trial 201 with value: 0.058986766224614656.\n",
      "[I 2025-05-04 21:21:13,471] Trial 226 finished with value: 0.05898678027091482 and parameters: {'alpha': 2.192182949164272, 'tol': 0.0018249362373353385}. Best is trial 201 with value: 0.058986766224614656.\n",
      "[I 2025-05-04 21:21:14,029] Trial 228 finished with value: 0.0589867779457347 and parameters: {'alpha': 1.624750471843305, 'tol': 0.001496848619822041}. Best is trial 201 with value: 0.058986766224614656.\n",
      "[I 2025-05-04 21:21:15,421] Trial 229 finished with value: 0.0589869609815763 and parameters: {'alpha': 3.06791726518043, 'tol': 0.00023382544395069414}. Best is trial 201 with value: 0.058986766224614656.\n",
      "[I 2025-05-04 21:21:17,364] Trial 230 finished with value: 0.05898683143617913 and parameters: {'alpha': 1.2764991242399122, 'tol': 0.0001465027805790311}. Best is trial 201 with value: 0.058986766224614656.\n",
      "[I 2025-05-04 21:21:17,743] Trial 231 finished with value: 0.05898679742455799 and parameters: {'alpha': 1.4610063577363332, 'tol': 0.0006779972893821565}. Best is trial 201 with value: 0.058986766224614656.\n",
      "[I 2025-05-04 21:21:18,419] Trial 232 finished with value: 0.05898679790914245 and parameters: {'alpha': 1.457767387969624, 'tol': 0.0003496711565644467}. Best is trial 201 with value: 0.058986766224614656.\n",
      "[I 2025-05-04 21:21:19,690] Trial 233 finished with value: 0.05898685501475014 and parameters: {'alpha': 1.1784136244976535, 'tol': 0.0002841840216542405}. Best is trial 201 with value: 0.058986766224614656.\n",
      "[I 2025-05-04 21:21:21,358] Trial 234 finished with value: 0.058986797766616354 and parameters: {'alpha': 1.4587173113512077, 'tol': 0.0015826710847284776}. Best is trial 201 with value: 0.058986766224614656.\n",
      "[I 2025-05-04 21:21:22,044] Trial 235 finished with value: 0.05898684814986331 and parameters: {'alpha': 1.2053394307967493, 'tol': 0.0026398901850199245}. Best is trial 201 with value: 0.058986766224614656.\n",
      "[I 2025-05-04 21:21:22,605] Trial 236 finished with value: 0.058986794046749835 and parameters: {'alpha': 1.4843586313630395, 'tol': 0.007966146799221535}. Best is trial 201 with value: 0.058986766224614656.\n",
      "[I 2025-05-04 21:21:23,917] Trial 237 finished with value: 0.05898689077988115 and parameters: {'alpha': 1.053741531100469, 'tol': 0.0024022811614426544}. Best is trial 201 with value: 0.058986766224614656.\n",
      "[I 2025-05-04 21:21:25,351] Trial 238 finished with value: 0.058986766381286186 and parameters: {'alpha': 1.9223506189617752, 'tol': 0.0023392030230778684}. Best is trial 201 with value: 0.058986766224614656.\n",
      "[I 2025-05-04 21:21:26,764] Trial 240 finished with value: 0.05898682898858246 and parameters: {'alpha': 2.5403332139737493, 'tol': 0.0017701313387629802}. Best is trial 201 with value: 0.058986766224614656.\n",
      "[I 2025-05-04 21:21:26,774] Trial 239 finished with value: 0.05898680478925681 and parameters: {'alpha': 2.395891138525636, 'tol': 0.002094088993824538}. Best is trial 201 with value: 0.058986766224614656.\n",
      "[I 2025-05-04 21:21:28,838] Trial 241 finished with value: 0.058986849911520665 and parameters: {'alpha': 2.645143530437943, 'tol': 0.002070809666920343}. Best is trial 201 with value: 0.058986766224614656.\n",
      "[I 2025-05-04 21:21:29,160] Trial 242 finished with value: 0.058986879160546464 and parameters: {'alpha': 2.773217730103659, 'tol': 0.001954300840673684}. Best is trial 201 with value: 0.058986766224614656.\n",
      "[I 2025-05-04 21:21:30,981] Trial 244 finished with value: 0.05898676622351256 and parameters: {'alpha': 1.8915548872922532, 'tol': 0.002109548192343526}. Best is trial 244 with value: 0.05898676622351256.\n",
      "[I 2025-05-04 21:21:31,408] Trial 243 finished with value: 0.05898711400828601 and parameters: {'alpha': 3.4991552649635684, 'tol': 6.34052349386312e-05}. Best is trial 244 with value: 0.05898676622351256.\n",
      "[I 2025-05-04 21:21:33,053] Trial 245 finished with value: 0.05898678627839737 and parameters: {'alpha': 1.544473509855651, 'tol': 0.0020526609339981614}. Best is trial 244 with value: 0.05898676622351256.\n",
      "[I 2025-05-04 21:21:33,490] Trial 246 finished with value: 0.05898681676724221 and parameters: {'alpha': 1.3475819953204489, 'tol': 0.002125488406469548}. Best is trial 244 with value: 0.05898676622351256.\n",
      "[I 2025-05-04 21:21:34,761] Trial 248 finished with value: 0.058986876685999806 and parameters: {'alpha': 1.1001690972101592, 'tol': 0.0022798149221259414}. Best is trial 244 with value: 0.05898676622351256.\n",
      "[I 2025-05-04 21:21:34,927] Trial 247 finished with value: 0.058986919473399284 and parameters: {'alpha': 0.9674826158588408, 'tol': 0.002558755986935584}. Best is trial 244 with value: 0.05898676622351256.\n",
      "[I 2025-05-04 21:21:35,668] Trial 249 finished with value: 0.05899000710502811 and parameters: {'alpha': 7.790232391028031, 'tol': 0.00969856658568102}. Best is trial 244 with value: 0.05898676622351256.\n"
     ]
    }
   ],
   "source": [
    "def objective(trial):    \n",
    "    params = {\n",
    "        \"random_state\": CFG.seed,\n",
    "        \"alpha\": trial.suggest_float(\"alpha\", 0, 10),\n",
    "        \"tol\": trial.suggest_float(\"tol\", 1e-6, 1e-2)\n",
    "    }\n",
    "    \n",
    "    trainer = Trainer(\n",
    "        Ridge(**params),\n",
    "        cv=CFG.cv,\n",
    "        metric=CFG.metric,\n",
    "        task=\"regression\",\n",
    "        verbose=False\n",
    "    )\n",
    "    trainer.fit(X, y)\n",
    "    \n",
    "    return trainer.overall_score\n",
    "\n",
    "if CFG.run_optuna:\n",
    "    sampler = optuna.samplers.TPESampler(seed=CFG.seed, multivariate=True)\n",
    "    study = optuna.create_study(direction=\"minimize\", sampler=sampler)\n",
    "    study.optimize(objective, n_trials=CFG.n_optuna_trials, n_jobs=-1, catch=(ValueError,))\n",
    "    best_params = study.best_params\n",
    "\n",
    "    ridge_params = {\n",
    "        \"random_state\": CFG.seed,\n",
    "        \"alpha\": best_params[\"alpha\"],\n",
    "        \"tol\": best_params[\"tol\"]\n",
    "    }\n",
    "else:\n",
    "    ridge_params = {\n",
    "        \"random_state\": CFG.seed\n",
    "    }"
   ]
  },
  {
   "cell_type": "code",
   "execution_count": 21,
   "id": "b78d4b0c",
   "metadata": {
    "execution": {
     "iopub.execute_input": "2025-05-04T21:21:35.724427Z",
     "iopub.status.busy": "2025-05-04T21:21:35.724084Z",
     "iopub.status.idle": "2025-05-04T21:21:35.728703Z",
     "shell.execute_reply": "2025-05-04T21:21:35.727796Z"
    },
    "papermill": {
     "duration": 0.031143,
     "end_time": "2025-05-04T21:21:35.729976",
     "exception": false,
     "start_time": "2025-05-04T21:21:35.698833",
     "status": "completed"
    },
    "tags": []
   },
   "outputs": [
    {
     "name": "stdout",
     "output_type": "stream",
     "text": [
      "{\n",
      "  \"random_state\": 42,\n",
      "  \"alpha\": 1.8915548872922532,\n",
      "  \"tol\": 0.002109548192343526\n",
      "}\n"
     ]
    }
   ],
   "source": [
    "print(json.dumps(ridge_params, indent=2))"
   ]
  },
  {
   "cell_type": "code",
   "execution_count": 22,
   "id": "3ca34d44",
   "metadata": {
    "execution": {
     "iopub.execute_input": "2025-05-04T21:21:35.780224Z",
     "iopub.status.busy": "2025-05-04T21:21:35.779886Z",
     "iopub.status.idle": "2025-05-04T21:21:37.225508Z",
     "shell.execute_reply": "2025-05-04T21:21:37.224524Z"
    },
    "papermill": {
     "duration": 1.47228,
     "end_time": "2025-05-04T21:21:37.226935",
     "exception": false,
     "start_time": "2025-05-04T21:21:35.754655",
     "status": "completed"
    },
    "tags": []
   },
   "outputs": [
    {
     "name": "stdout",
     "output_type": "stream",
     "text": [
      "Training Ridge\n",
      "\n",
      "--- Fold 0 - root_mean_squared_error: 0.0589 - Time: 0.13 s\n",
      "--- Fold 1 - root_mean_squared_error: 0.0595 - Time: 0.11 s\n",
      "--- Fold 2 - root_mean_squared_error: 0.0589 - Time: 0.11 s\n",
      "--- Fold 3 - root_mean_squared_error: 0.0592 - Time: 0.11 s\n",
      "--- Fold 4 - root_mean_squared_error: 0.0585 - Time: 0.11 s\n",
      "\n",
      "------ Overall root_mean_squared_error: 0.0590 - Mean root_mean_squared_error: 0.0590 ± 0.0003 - Time: 1.40 s\n"
     ]
    }
   ],
   "source": [
    "ridge_trainer = Trainer(\n",
    "    Ridge(**ridge_params),\n",
    "    cv=CFG.cv,\n",
    "    metric=CFG.metric,\n",
    "    task=\"regression\"\n",
    ")\n",
    "\n",
    "ridge_trainer.fit(X, y)\n",
    "\n",
    "scores[\"Ridge (ensemble)\"] = ridge_trainer.fold_scores\n",
    "ridge_test_preds = np.expm1(ridge_trainer.predict(X_test))"
   ]
  },
  {
   "cell_type": "code",
   "execution_count": 23,
   "id": "ee092d05",
   "metadata": {
    "execution": {
     "iopub.execute_input": "2025-05-04T21:21:37.279775Z",
     "iopub.status.busy": "2025-05-04T21:21:37.278968Z",
     "iopub.status.idle": "2025-05-04T21:21:37.546792Z",
     "shell.execute_reply": "2025-05-04T21:21:37.545948Z"
    },
    "papermill": {
     "duration": 0.295265,
     "end_time": "2025-05-04T21:21:37.548258",
     "exception": false,
     "start_time": "2025-05-04T21:21:37.252993",
     "status": "completed"
    },
    "tags": []
   },
   "outputs": [
    {
     "data": {
      "image/png": "[encoded data removed]",
      "text/plain": [
       "<Figure size 1000x300 with 1 Axes>"
      ]
     },
     "metadata": {},
     "output_type": "display_data"
    }
   ],
   "source": [
    "ridge_coeffs = np.zeros((1, X.shape[1]))\n",
    "for m in ridge_trainer.estimators:\n",
    "    ridge_coeffs += m.coef_\n",
    "ridge_coeffs = ridge_coeffs / len(ridge_trainer.estimators)\n",
    "\n",
    "plot_weights(ridge_coeffs, \"Ridge Coefficients\")"
   ]
  },
  {
   "cell_type": "markdown",
   "id": "4e838ee3",
   "metadata": {
    "papermill": {
     "duration": 0.025274,
     "end_time": "2025-05-04T21:21:37.599447",
     "exception": false,
     "start_time": "2025-05-04T21:21:37.574173",
     "status": "completed"
    },
    "tags": []
   },
   "source": [
    "# Submission"
   ]
  },
  {
   "cell_type": "code",
   "execution_count": 24,
   "id": "f3e2e1e0",
   "metadata": {
    "execution": {
     "iopub.execute_input": "2025-05-04T21:21:37.654449Z",
     "iopub.status.busy": "2025-05-04T21:21:37.654108Z",
     "iopub.status.idle": "2025-05-04T21:21:38.308871Z",
     "shell.execute_reply": "2025-05-04T21:21:38.308093Z"
    },
    "papermill": {
     "duration": 0.683328,
     "end_time": "2025-05-04T21:21:38.310260",
     "exception": false,
     "start_time": "2025-05-04T21:21:37.626932",
     "status": "completed"
    },
    "tags": []
   },
   "outputs": [
    {
     "data": {
      "text/html": [
       "<div>\n",
       "<style scoped>\n",
       "    .dataframe tbody tr th:only-of-type {\n",
       "        vertical-align: middle;\n",
       "    }\n",
       "\n",
       "    .dataframe tbody tr th {\n",
       "        vertical-align: top;\n",
       "    }\n",
       "\n",
       "    .dataframe thead th {\n",
       "        text-align: right;\n",
       "    }\n",
       "</style>\n",
       "<table border=\"1\" class=\"dataframe\">\n",
       "  <thead>\n",
       "    <tr style=\"text-align: right;\">\n",
       "      <th></th>\n",
       "      <th>id</th>\n",
       "      <th>Calories</th>\n",
       "    </tr>\n",
       "  </thead>\n",
       "  <tbody>\n",
       "    <tr>\n",
       "      <th>0</th>\n",
       "      <td>750000</td>\n",
       "      <td>27.209918</td>\n",
       "    </tr>\n",
       "    <tr>\n",
       "      <th>1</th>\n",
       "      <td>750001</td>\n",
       "      <td>107.740870</td>\n",
       "    </tr>\n",
       "    <tr>\n",
       "      <th>2</th>\n",
       "      <td>750002</td>\n",
       "      <td>87.144620</td>\n",
       "    </tr>\n",
       "    <tr>\n",
       "      <th>3</th>\n",
       "      <td>750003</td>\n",
       "      <td>125.802552</td>\n",
       "    </tr>\n",
       "    <tr>\n",
       "      <th>4</th>\n",
       "      <td>750004</td>\n",
       "      <td>76.020594</td>\n",
       "    </tr>\n",
       "  </tbody>\n",
       "</table>\n",
       "</div>"
      ],
      "text/plain": [
       "       id    Calories\n",
       "0  750000   27.209918\n",
       "1  750001  107.740870\n",
       "2  750002   87.144620\n",
       "3  750003  125.802552\n",
       "4  750004   76.020594"
      ]
     },
     "execution_count": 24,
     "metadata": {},
     "output_type": "execute_result"
    }
   ],
   "source": [
    "sub = pd.read_csv(CFG.sample_sub_path)\n",
    "sub[CFG.target] = ridge_test_preds\n",
    "sub.to_csv(f\"sub_ridge_{np.mean(scores['Ridge (ensemble)']):.6f}.csv\", index=False)\n",
    "sub.head()"
   ]
  },
  {
   "cell_type": "markdown",
   "id": "c1ca5c6a",
   "metadata": {
    "papermill": {
     "duration": 0.02574,
     "end_time": "2025-05-04T21:21:38.362464",
     "exception": false,
     "start_time": "2025-05-04T21:21:38.336724",
     "status": "completed"
    },
    "tags": []
   },
   "source": [
    "# Results"
   ]
  },
  {
   "cell_type": "code",
   "execution_count": 25,
   "id": "f8725af5",
   "metadata": {
    "execution": {
     "iopub.execute_input": "2025-05-04T21:21:38.415654Z",
     "iopub.status.busy": "2025-05-04T21:21:38.415285Z",
     "iopub.status.idle": "2025-05-04T21:21:38.952649Z",
     "shell.execute_reply": "2025-05-04T21:21:38.951759Z"
    },
    "papermill": {
     "duration": 0.565609,
     "end_time": "2025-05-04T21:21:38.954076",
     "exception": false,
     "start_time": "2025-05-04T21:21:38.388467",
     "status": "completed"
    },
    "tags": []
   },
   "outputs": [
    {
     "data": {
      "image/png": "[encoded data removed]",
      "text/plain": [
       "<Figure size 1500x210 with 2 Axes>"
      ]
     },
     "metadata": {},
     "output_type": "display_data"
    }
   ],
   "source": [
    "scores = pd.DataFrame(scores)\n",
    "mean_scores = scores.mean().sort_values(ascending=True)\n",
    "order = scores.mean().sort_values(ascending=True).index.tolist()\n",
    "\n",
    "min_score = mean_scores.min()\n",
    "max_score = mean_scores.max()\n",
    "padding = (max_score - min_score) * 0.5\n",
    "lower_limit = min_score - padding\n",
    "upper_limit = max_score + padding\n",
    "\n",
    "fig, axs = plt.subplots(1, 2, figsize=(15, scores.shape[1] * 0.3))\n",
    "\n",
    "boxplot = sns.boxplot(data=scores, order=order, ax=axs[0], orient=\"h\", color=\"grey\")\n",
    "axs[0].set_title(f\"Fold {CFG.metric.__name__}\")\n",
    "axs[0].set_xlabel(\"\")\n",
    "axs[0].set_ylabel(\"\")\n",
    "\n",
    "barplot = sns.barplot(x=mean_scores.values, y=mean_scores.index, ax=axs[1], color=\"grey\")\n",
    "axs[1].set_title(f\"Average {CFG.metric.__name__}\")\n",
    "axs[1].set_xlabel(\"\")\n",
    "axs[1].set_xlim(left=lower_limit, right=upper_limit)\n",
    "axs[1].set_ylabel(\"\")\n",
    "\n",
    "for i, (score, model) in enumerate(zip(mean_scores.values, mean_scores.index)):\n",
    "    color = \"cyan\" if \"ensemble\" in model.lower() else \"grey\"\n",
    "    barplot.patches[i].set_facecolor(color)\n",
    "    boxplot.patches[i].set_facecolor(color)\n",
    "    barplot.text(score, i, round(score, 6), va=\"center\")\n",
    "\n",
    "plt.tight_layout()\n",
    "plt.show()"
   ]
  },
  {
   "cell_type": "code",
   "execution_count": 26,
   "id": "ed72547a",
   "metadata": {
    "execution": {
     "iopub.execute_input": "2025-05-04T21:21:39.010312Z",
     "iopub.status.busy": "2025-05-04T21:21:39.009996Z",
     "iopub.status.idle": "2025-05-04T21:21:39.015657Z",
     "shell.execute_reply": "2025-05-04T21:21:39.014767Z"
    },
    "papermill": {
     "duration": 0.035108,
     "end_time": "2025-05-04T21:21:39.017058",
     "exception": false,
     "start_time": "2025-05-04T21:21:38.981950",
     "status": "completed"
    },
    "tags": []
   },
   "outputs": [],
   "source": [
    "shutil.rmtree(\"catboost_info\", ignore_errors=True)"
   ]
  }
 ],
 "metadata": {
  "kaggle": {
   "accelerator": "none",
   "dataSources": [
    {
     "databundleVersionId": 11893428,
     "sourceId": 91716,
     "sourceType": "competition"
    },
    {
     "datasetId": 6512323,
     "sourceId": 10522392,
     "sourceType": "datasetVersion"
    },
    {
     "sourceId": 237456322,
     "sourceType": "kernelVersion"
    }
   ],
   "dockerImageVersionId": 31012,
   "isGpuEnabled": false,
   "isInternetEnabled": true,
   "language": "python",
   "sourceType": "notebook"
  },
  "kernelspec": {
   "display_name": "Python 3",
   "language": "python",
   "name": "python3"
  },
  "language_info": {
   "codemirror_mode": {
    "name": "ipython",
    "version": 3
   },
   "file_extension": ".py",
   "mimetype": "text/x-python",
   "name": "python",
   "nbconvert_exporter": "python",
   "pygments_lexer": "ipython3",
   "version": "3.11.11"
  },
  "papermill": {
   "default_parameters": {},
   "duration": 2819.804456,
   "end_time": "2025-05-04T21:21:40.269174",
   "environment_variables": {},
   "exception": null,
   "input_path": "__notebook__.ipynb",
   "output_path": "__notebook__.ipynb",
   "parameters": {},
   "start_time": "2025-05-04T20:34:40.464718",
   "version": "2.6.0"
  }
 },
 "nbformat": 4,
 "nbformat_minor": 5
}
