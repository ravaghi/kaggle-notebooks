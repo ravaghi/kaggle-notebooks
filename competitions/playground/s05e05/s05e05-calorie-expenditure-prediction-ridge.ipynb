{
 "cells": [
  {
   "cell_type": "code",
   "execution_count": 1,
   "id": "a444df19",
   "metadata": {
    "_kg_hide-output": true,
    "execution": {
     "iopub.execute_input": "2025-05-01T08:52:51.902481Z",
     "iopub.status.busy": "2025-05-01T08:52:51.900944Z",
     "iopub.status.idle": "2025-05-01T08:53:07.743026Z",
     "shell.execute_reply": "2025-05-01T08:53:07.741048Z"
    },
    "papermill": {
     "duration": 15.856326,
     "end_time": "2025-05-01T08:53:07.746518",
     "exception": false,
     "start_time": "2025-05-01T08:52:51.890192",
     "status": "completed"
    },
    "scrolled": true,
    "tags": []
   },
   "outputs": [
    {
     "name": "stdout",
     "output_type": "stream",
     "text": [
      "Requirement already satisfied: ydf in /usr/local/lib/python3.11/dist-packages (0.9.0)\r\n",
      "Collecting koolbox\r\n",
      "  Downloading koolbox-0.1.1-py3-none-any.whl.metadata (2.4 kB)\r\n",
      "Collecting scikit-learn==1.5.2\r\n",
      "  Downloading scikit_learn-1.5.2-cp311-cp311-manylinux_2_17_x86_64.manylinux2014_x86_64.whl.metadata (13 kB)\r\n",
      "Requirement already satisfied: numpy>=1.19.5 in /usr/local/lib/python3.11/dist-packages (from scikit-learn==1.5.2) (1.26.4)\r\n",
      "Requirement already satisfied: scipy>=1.6.0 in /usr/local/lib/python3.11/dist-packages (from scikit-learn==1.5.2) (1.15.2)\r\n",
      "Requirement already satisfied: joblib>=1.2.0 in /usr/local/lib/python3.11/dist-packages (from scikit-learn==1.5.2) (1.4.2)\r\n",
      "Requirement already satisfied: threadpoolctl>=3.1.0 in /usr/local/lib/python3.11/dist-packages (from scikit-learn==1.5.2) (3.6.0)\r\n",
      "Requirement already satisfied: absl_py in /usr/local/lib/python3.11/dist-packages (from ydf) (1.4.0)\r\n",
      "Requirement already satisfied: protobuf>=3.14 in /usr/local/lib/python3.11/dist-packages (from ydf) (3.20.3)\r\n",
      "Requirement already satisfied: pandas>=1.0.0 in /usr/local/lib/python3.11/dist-packages (from koolbox) (2.2.3)\r\n",
      "Requirement already satisfied: mkl_fft in /usr/local/lib/python3.11/dist-packages (from numpy>=1.19.5->scikit-learn==1.5.2) (1.3.8)\r\n",
      "Requirement already satisfied: mkl_random in /usr/local/lib/python3.11/dist-packages (from numpy>=1.19.5->scikit-learn==1.5.2) (1.2.4)\r\n",
      "Requirement already satisfied: mkl_umath in /usr/local/lib/python3.11/dist-packages (from numpy>=1.19.5->scikit-learn==1.5.2) (0.1.1)\r\n",
      "Requirement already satisfied: mkl in /usr/local/lib/python3.11/dist-packages (from numpy>=1.19.5->scikit-learn==1.5.2) (2025.1.0)\r\n",
      "Requirement already satisfied: tbb4py in /usr/local/lib/python3.11/dist-packages (from numpy>=1.19.5->scikit-learn==1.5.2) (2022.1.0)\r\n",
      "Requirement already satisfied: mkl-service in /usr/local/lib/python3.11/dist-packages (from numpy>=1.19.5->scikit-learn==1.5.2) (2.4.1)\r\n",
      "Requirement already satisfied: python-dateutil>=2.8.2 in /usr/local/lib/python3.11/dist-packages (from pandas>=1.0.0->koolbox) (2.9.0.post0)\r\n",
      "Requirement already satisfied: pytz>=2020.1 in /usr/local/lib/python3.11/dist-packages (from pandas>=1.0.0->koolbox) (2025.2)\r\n",
      "Requirement already satisfied: tzdata>=2022.7 in /usr/local/lib/python3.11/dist-packages (from pandas>=1.0.0->koolbox) (2025.2)\r\n",
      "Requirement already satisfied: six>=1.5 in /usr/local/lib/python3.11/dist-packages (from python-dateutil>=2.8.2->pandas>=1.0.0->koolbox) (1.17.0)\r\n",
      "Requirement already satisfied: intel-openmp<2026,>=2024 in /usr/local/lib/python3.11/dist-packages (from mkl->numpy>=1.19.5->scikit-learn==1.5.2) (2024.2.0)\r\n",
      "Requirement already satisfied: tbb==2022.* in /usr/local/lib/python3.11/dist-packages (from mkl->numpy>=1.19.5->scikit-learn==1.5.2) (2022.1.0)\r\n",
      "Requirement already satisfied: tcmlib==1.* in /usr/local/lib/python3.11/dist-packages (from tbb==2022.*->mkl->numpy>=1.19.5->scikit-learn==1.5.2) (1.2.0)\r\n",
      "Requirement already satisfied: intel-cmplr-lib-rt in /usr/local/lib/python3.11/dist-packages (from mkl_umath->numpy>=1.19.5->scikit-learn==1.5.2) (2024.2.0)\r\n",
      "Requirement already satisfied: intel-cmplr-lib-ur==2024.2.0 in /usr/local/lib/python3.11/dist-packages (from intel-openmp<2026,>=2024->mkl->numpy>=1.19.5->scikit-learn==1.5.2) (2024.2.0)\r\n",
      "Downloading scikit_learn-1.5.2-cp311-cp311-manylinux_2_17_x86_64.manylinux2014_x86_64.whl (13.3 MB)\r\n",
      "\u001b[2K   \u001b[90m━━━━━━━━━━━━━━━━━━━━━━━━━━━━━━━━━━━━━━━━\u001b[0m \u001b[32m13.3/13.3 MB\u001b[0m \u001b[31m63.0 MB/s\u001b[0m eta \u001b[36m0:00:00\u001b[0m\r\n",
      "\u001b[?25hDownloading koolbox-0.1.1-py3-none-any.whl (10 kB)\r\n",
      "Installing collected packages: scikit-learn, koolbox\r\n",
      "  Attempting uninstall: scikit-learn\r\n",
      "    Found existing installation: scikit-learn 1.2.2\r\n",
      "    Uninstalling scikit-learn-1.2.2:\r\n",
      "      Successfully uninstalled scikit-learn-1.2.2\r\n",
      "\u001b[31mERROR: pip's dependency resolver does not currently take into account all the packages that are installed. This behaviour is the source of the following dependency conflicts.\r\n",
      "bigframes 1.36.0 requires rich<14,>=12.4.4, but you have rich 14.0.0 which is incompatible.\u001b[0m\u001b[31m\r\n",
      "\u001b[0mSuccessfully installed koolbox-0.1.1 scikit-learn-1.5.2\r\n",
      "Collecting scikeras\r\n",
      "  Downloading scikeras-0.13.0-py3-none-any.whl.metadata (3.1 kB)\r\n",
      "Downloading scikeras-0.13.0-py3-none-any.whl (26 kB)\r\n",
      "Installing collected packages: scikeras\r\n",
      "Successfully installed scikeras-0.13.0\r\n"
     ]
    }
   ],
   "source": [
    "!pip install ydf koolbox scikit-learn==1.5.2 && pip install --no-deps scikeras"
   ]
  },
  {
   "cell_type": "markdown",
   "id": "61358a1c",
   "metadata": {
    "papermill": {
     "duration": 0.009603,
     "end_time": "2025-05-01T08:53:07.766238",
     "exception": false,
     "start_time": "2025-05-01T08:53:07.756635",
     "status": "completed"
    },
    "tags": []
   },
   "source": [
    "# Imports and configs"
   ]
  },
  {
   "cell_type": "code",
   "execution_count": 2,
   "id": "3ac604ea",
   "metadata": {
    "_kg_hide-output": true,
    "execution": {
     "iopub.execute_input": "2025-05-01T08:53:07.785866Z",
     "iopub.status.busy": "2025-05-01T08:53:07.785283Z",
     "iopub.status.idle": "2025-05-01T08:53:46.912224Z",
     "shell.execute_reply": "2025-05-01T08:53:46.910476Z"
    },
    "papermill": {
     "duration": 39.13991,
     "end_time": "2025-05-01T08:53:46.914419",
     "exception": false,
     "start_time": "2025-05-01T08:53:07.774509",
     "status": "completed"
    },
    "tags": []
   },
   "outputs": [
    {
     "name": "stderr",
     "output_type": "stream",
     "text": [
      "2025-05-01 08:53:16.520665: E external/local_xla/xla/stream_executor/cuda/cuda_fft.cc:477] Unable to register cuFFT factory: Attempting to register factory for plugin cuFFT when one has already been registered\n",
      "WARNING: All log messages before absl::InitializeLog() is called are written to STDERR\n",
      "E0000 00:00:1746089596.910369      13 cuda_dnn.cc:8310] Unable to register cuDNN factory: Attempting to register factory for plugin cuDNN when one has already been registered\n",
      "E0000 00:00:1746089597.010174      13 cuda_blas.cc:1418] Unable to register cuBLAS factory: Attempting to register factory for plugin cuBLAS when one has already been registered\n"
     ]
    }
   ],
   "source": [
    "from sklearn.preprocessing import StandardScaler\n",
    "from sklearn.ensemble import HistGradientBoostingRegressor, BaggingRegressor\n",
    "from sklearn.base import BaseEstimator, RegressorMixin\n",
    "from sklearn.metrics import root_mean_squared_log_error\n",
    "from sklearn.feature_selection import mutual_info_regression\n",
    "from sklearn.linear_model import Ridge\n",
    "from sklearn.model_selection import KFold\n",
    "from scikeras.wrappers import KerasRegressor\n",
    "from lightgbm import LGBMRegressor, early_stopping, log_evaluation\n",
    "from ydf import GradientBoostedTreesLearner\n",
    "from catboost import CatBoostRegressor\n",
    "from xgboost import XGBRegressor\n",
    "from koolbox import Trainer\n",
    "import matplotlib.pyplot as plt\n",
    "import contextlib, io\n",
    "import seaborn as sns\n",
    "import pandas as pd\n",
    "import numpy as np\n",
    "import warnings\n",
    "import joblib\n",
    "import shutil\n",
    "import optuna\n",
    "import keras\n",
    "import json\n",
    "import glob\n",
    "import ydf\n",
    "\n",
    "ydf.verbose(2)\n",
    "warnings.filterwarnings(\"ignore\")"
   ]
  },
  {
   "cell_type": "code",
   "execution_count": 3,
   "id": "5364980d",
   "metadata": {
    "execution": {
     "iopub.execute_input": "2025-05-01T08:53:46.935261Z",
     "iopub.status.busy": "2025-05-01T08:53:46.934313Z",
     "iopub.status.idle": "2025-05-01T08:53:46.941584Z",
     "shell.execute_reply": "2025-05-01T08:53:46.940309Z"
    },
    "papermill": {
     "duration": 0.020704,
     "end_time": "2025-05-01T08:53:46.943980",
     "exception": false,
     "start_time": "2025-05-01T08:53:46.923276",
     "status": "completed"
    },
    "tags": []
   },
   "outputs": [],
   "source": [
    "class CFG:\n",
    "    train_path = \"/kaggle/input/playground-series-s5e5/train.csv\"\n",
    "    test_path = \"/kaggle/input/playground-series-s5e5/test.csv\"\n",
    "    sample_sub_path = \"/kaggle/input/playground-series-s5e5/sample_submission.csv\"\n",
    "\n",
    "    metric = root_mean_squared_log_error\n",
    "    target = \"Calories\"\n",
    "    n_folds = 5\n",
    "    seed = 42\n",
    "\n",
    "    run_optuna = True\n",
    "    n_optuna_trials = 250"
   ]
  },
  {
   "cell_type": "markdown",
   "id": "498a89c3",
   "metadata": {
    "papermill": {
     "duration": 0.008236,
     "end_time": "2025-05-01T08:53:46.961208",
     "exception": false,
     "start_time": "2025-05-01T08:53:46.952972",
     "status": "completed"
    },
    "tags": []
   },
   "source": [
    "# Data loading and preprocessing"
   ]
  },
  {
   "cell_type": "code",
   "execution_count": 4,
   "id": "0dd993d9",
   "metadata": {
    "execution": {
     "iopub.execute_input": "2025-05-01T08:53:46.981439Z",
     "iopub.status.busy": "2025-05-01T08:53:46.981006Z",
     "iopub.status.idle": "2025-05-01T08:53:48.724390Z",
     "shell.execute_reply": "2025-05-01T08:53:48.723061Z"
    },
    "papermill": {
     "duration": 1.756875,
     "end_time": "2025-05-01T08:53:48.726981",
     "exception": false,
     "start_time": "2025-05-01T08:53:46.970106",
     "status": "completed"
    },
    "tags": []
   },
   "outputs": [],
   "source": [
    "train = pd.read_csv(CFG.train_path, index_col=\"id\")\n",
    "test = pd.read_csv(CFG.test_path, index_col=\"id\")\n",
    "\n",
    "train = pd.get_dummies(train, columns=[\"Sex\"])\n",
    "test = pd.get_dummies(test, columns=[\"Sex\"])\n",
    "\n",
    "X = train.drop(CFG.target, axis=1)\n",
    "y = train[CFG.target]\n",
    "X_test = test"
   ]
  },
  {
   "cell_type": "code",
   "execution_count": 5,
   "id": "39cb0e19",
   "metadata": {
    "execution": {
     "iopub.execute_input": "2025-05-01T08:53:48.747015Z",
     "iopub.status.busy": "2025-05-01T08:53:48.746347Z",
     "iopub.status.idle": "2025-05-01T08:55:45.882574Z",
     "shell.execute_reply": "2025-05-01T08:55:45.881407Z"
    },
    "papermill": {
     "duration": 117.155892,
     "end_time": "2025-05-01T08:55:45.891181",
     "exception": false,
     "start_time": "2025-05-01T08:53:48.735289",
     "status": "completed"
    },
    "tags": []
   },
   "outputs": [
    {
     "data": {
      "text/html": [
       "<style type=\"text/css\">\n",
       "#T_1e4eb_row0_col0 {\n",
       "  width: 10em;\n",
       "  background: linear-gradient(90deg, #006837 100.0%, transparent 100.0%);\n",
       "}\n",
       "#T_1e4eb_row1_col0 {\n",
       "  width: 10em;\n",
       "  background: linear-gradient(90deg, #addc6f 68.4%, transparent 68.4%);\n",
       "}\n",
       "#T_1e4eb_row2_col0 {\n",
       "  width: 10em;\n",
       "  background: linear-gradient(90deg, #daf08d 59.6%, transparent 59.6%);\n",
       "}\n",
       "#T_1e4eb_row3_col0 {\n",
       "  width: 10em;\n",
       "  background: linear-gradient(90deg, #c21c27 5.9%, transparent 5.9%);\n",
       "}\n",
       "#T_1e4eb_row4_col0, #T_1e4eb_row5_col0 {\n",
       "  width: 10em;\n",
       "  background: linear-gradient(90deg, #b50f26 3.4%, transparent 3.4%);\n",
       "}\n",
       "#T_1e4eb_row6_col0, #T_1e4eb_row7_col0 {\n",
       "  width: 10em;\n",
       "  background: linear-gradient(90deg, #a90426 1.0%, transparent 1.0%);\n",
       "}\n",
       "</style>\n",
       "<table id=\"T_1e4eb\">\n",
       "  <thead>\n",
       "    <tr>\n",
       "      <th class=\"blank level0\" >&nbsp;</th>\n",
       "      <th id=\"T_1e4eb_level0_col0\" class=\"col_heading level0 col0\" >Mutual Information</th>\n",
       "    </tr>\n",
       "  </thead>\n",
       "  <tbody>\n",
       "    <tr>\n",
       "      <th id=\"T_1e4eb_level0_row0\" class=\"row_heading level0 row0\" >Duration</th>\n",
       "      <td id=\"T_1e4eb_row0_col0\" class=\"data row0 col0\" >1.640712</td>\n",
       "    </tr>\n",
       "    <tr>\n",
       "      <th id=\"T_1e4eb_level0_row1\" class=\"row_heading level0 row1\" >Body_Temp</th>\n",
       "      <td id=\"T_1e4eb_row1_col0\" class=\"data row1 col0\" >1.122022</td>\n",
       "    </tr>\n",
       "    <tr>\n",
       "      <th id=\"T_1e4eb_level0_row2\" class=\"row_heading level0 row2\" >Heart_Rate</th>\n",
       "      <td id=\"T_1e4eb_row2_col0\" class=\"data row2 col0\" >0.978673</td>\n",
       "    </tr>\n",
       "    <tr>\n",
       "      <th id=\"T_1e4eb_level0_row3\" class=\"row_heading level0 row3\" >Age</th>\n",
       "      <td id=\"T_1e4eb_row3_col0\" class=\"data row3 col0\" >0.097134</td>\n",
       "    </tr>\n",
       "    <tr>\n",
       "      <th id=\"T_1e4eb_level0_row4\" class=\"row_heading level0 row4\" >Height</th>\n",
       "      <td id=\"T_1e4eb_row4_col0\" class=\"data row4 col0\" >0.056504</td>\n",
       "    </tr>\n",
       "    <tr>\n",
       "      <th id=\"T_1e4eb_level0_row5\" class=\"row_heading level0 row5\" >Weight</th>\n",
       "      <td id=\"T_1e4eb_row5_col0\" class=\"data row5 col0\" >0.056289</td>\n",
       "    </tr>\n",
       "    <tr>\n",
       "      <th id=\"T_1e4eb_level0_row6\" class=\"row_heading level0 row6\" >Sex_male</th>\n",
       "      <td id=\"T_1e4eb_row6_col0\" class=\"data row6 col0\" >0.016809</td>\n",
       "    </tr>\n",
       "    <tr>\n",
       "      <th id=\"T_1e4eb_level0_row7\" class=\"row_heading level0 row7\" >Sex_female</th>\n",
       "      <td id=\"T_1e4eb_row7_col0\" class=\"data row7 col0\" >0.016040</td>\n",
       "    </tr>\n",
       "  </tbody>\n",
       "</table>\n"
      ],
      "text/plain": [
       "<pandas.io.formats.style.Styler at 0x7c9c1d332110>"
      ]
     },
     "execution_count": 5,
     "metadata": {},
     "output_type": "execute_result"
    }
   ],
   "source": [
    "mutual_info = mutual_info_regression(X, y, random_state=CFG.seed)\n",
    "\n",
    "mutual_info = pd.Series(mutual_info)\n",
    "mutual_info.index = X.columns\n",
    "mutual_info = pd.DataFrame(mutual_info.sort_values(ascending=False), columns=['Mutual Information'])\n",
    "mutual_info.style.bar(subset=['Mutual Information'], cmap='RdYlGn')"
   ]
  },
  {
   "cell_type": "code",
   "execution_count": 6,
   "id": "1026be8f",
   "metadata": {
    "execution": {
     "iopub.execute_input": "2025-05-01T08:55:45.910852Z",
     "iopub.status.busy": "2025-05-01T08:55:45.909977Z",
     "iopub.status.idle": "2025-05-01T08:55:46.951697Z",
     "shell.execute_reply": "2025-05-01T08:55:46.950003Z"
    },
    "papermill": {
     "duration": 1.054224,
     "end_time": "2025-05-01T08:55:46.954390",
     "exception": false,
     "start_time": "2025-05-01T08:55:45.900166",
     "status": "completed"
    },
    "tags": []
   },
   "outputs": [
    {
     "data": {
      "image/png": "[encoded data removed]",
      "text/plain": [
       "<Figure size 1000x1000 with 2 Axes>"
      ]
     },
     "metadata": {},
     "output_type": "display_data"
    }
   ],
   "source": [
    "sns.set_style(\"white\")\n",
    "\n",
    "fig, ax = plt.subplots(figsize=(10, 10))\n",
    "\n",
    "corr_train = train.corr()\n",
    "mask_train = np.triu(np.ones_like(corr_train, dtype=bool), k=1)\n",
    "\n",
    "sns.heatmap(\n",
    "    data=corr_train,\n",
    "    annot=True,\n",
    "    fmt='.2f',\n",
    "    mask=mask_train,\n",
    "    square=True,\n",
    "    cmap='coolwarm',\n",
    "    cbar_kws={'shrink': .7, 'format': '%.2f'},   \n",
    "    annot_kws={'size': 8},\n",
    "    center=0,\n",
    "    ax=ax\n",
    ")\n",
    "\n",
    "ax.set_title('Train Correlation Matrix')\n",
    "ax.tick_params(axis='both', which='major', labelsize=8)\n",
    "plt.tight_layout()\n",
    "plt.show()"
   ]
  },
  {
   "cell_type": "markdown",
   "id": "c877e2fe",
   "metadata": {
    "papermill": {
     "duration": 0.009733,
     "end_time": "2025-05-01T08:55:46.975702",
     "exception": false,
     "start_time": "2025-05-01T08:55:46.965969",
     "status": "completed"
    },
    "tags": []
   },
   "source": [
    "# Training base models"
   ]
  },
  {
   "cell_type": "code",
   "execution_count": 7,
   "id": "0ff2e507",
   "metadata": {
    "_kg_hide-input": true,
    "_kg_hide-output": true,
    "execution": {
     "iopub.execute_input": "2025-05-01T08:55:46.999507Z",
     "iopub.status.busy": "2025-05-01T08:55:46.998913Z",
     "iopub.status.idle": "2025-05-01T08:55:47.012475Z",
     "shell.execute_reply": "2025-05-01T08:55:47.011051Z"
    },
    "papermill": {
     "duration": 0.028952,
     "end_time": "2025-05-01T08:55:47.015182",
     "exception": false,
     "start_time": "2025-05-01T08:55:46.986230",
     "status": "completed"
    },
    "tags": []
   },
   "outputs": [],
   "source": [
    "histgb_params = {\n",
    "    \"l2_regularization\": 83.89023753261954,\n",
    "    \"learning_rate\": 0.014076263018504506,\n",
    "    \"max_depth\": 167,\n",
    "    \"max_features\": 0.35671906170746404,\n",
    "    \"max_iter\": 2175,\n",
    "    \"max_leaf_nodes\": 441,\n",
    "    \"min_samples_leaf\": 41,\n",
    "    \"random_state\": 42\n",
    "}\n",
    "\n",
    "lgbm_params = {\n",
    "    \"boosting_type\": \"gbdt\",\n",
    "    \"colsample_bytree\": 0.5099047573235393,\n",
    "    \"learning_rate\": 0.04655222942419148,\n",
    "    \"min_child_samples\": 39,\n",
    "    \"min_child_weight\": 0.5763597850247795,\n",
    "    \"n_estimators\": 10000,\n",
    "    \"n_jobs\": -1,\n",
    "    \"num_leaves\": 94,\n",
    "    \"random_state\": 42,\n",
    "    \"reg_alpha\": 13.37124947203867,\n",
    "    \"reg_lambda\": 3.4607082189282656,\n",
    "    \"subsample\": 0.8594971769419172,\n",
    "    \"verbose\": -1\n",
    "}\n",
    "\n",
    "lgbm_goss_params = {\n",
    "    \"boosting_type\": \"goss\",\n",
    "    \"colsample_bytree\": 0.44242724444333914,\n",
    "    \"learning_rate\": 0.02648790357768195,\n",
    "    \"min_child_samples\": 31,\n",
    "    \"min_child_weight\": 0.565923097348698,\n",
    "    \"n_estimators\": 10000,\n",
    "    \"n_jobs\": -1,\n",
    "    \"num_leaves\": 91,\n",
    "    \"random_state\": 42,\n",
    "    \"reg_alpha\": 14.802741846604295,\n",
    "    \"reg_lambda\": 3.285199583781151,\n",
    "    \"subsample\": 0.4765616561570595,\n",
    "    \"verbose\": -1\n",
    "}\n",
    "\n",
    "xgb_params = {\n",
    "    \"colsample_bylevel\": 0.562776356802306,\n",
    "    \"colsample_bynode\": 0.9612908685331664,\n",
    "    \"colsample_bytree\": 0.6576899092549643,\n",
    "    \"early_stopping_rounds\": 100,\n",
    "    \"eval_metric\": \"rmse\",\n",
    "    \"gamma\": 6.906307575453604,\n",
    "    \"learning_rate\": 0.035818175355750034,\n",
    "    \"max_depth\": 79,\n",
    "    \"max_leaves\": 94,\n",
    "    \"min_child_weight\": 54,\n",
    "    \"n_estimators\": 10000,\n",
    "    \"n_jobs\": -1,\n",
    "    \"random_state\": 42,\n",
    "    \"reg_alpha\": 40.48896149819585,\n",
    "    \"reg_lambda\": 50.48291846164928,\n",
    "    \"subsample\": 0.987369044259711,\n",
    "    \"verbosity\": 0\n",
    "}\n",
    "\n",
    "cb_params = {\n",
    "    \"border_count\": 197,\n",
    "    \"colsample_bylevel\": 0.5512194940746528,\n",
    "    \"depth\": 10,\n",
    "    \"eval_metric\": \"RMSE\",\n",
    "    \"iterations\": 5000,\n",
    "    \"l2_leaf_reg\": 0.8315140039900148,\n",
    "    \"learning_rate\": 0.04835894985543038,\n",
    "    \"min_child_samples\": 248,\n",
    "    \"random_state\": 42,\n",
    "    \"random_strength\": 0.269215705791639,\n",
    "    \"verbose\": False\n",
    "}\n",
    "\n",
    "ydf_params = {\n",
    "    \"num_trees\": 1000,\n",
    "    \"max_depth\": 8\n",
    "}"
   ]
  },
  {
   "cell_type": "code",
   "execution_count": 8,
   "id": "4122756c",
   "metadata": {
    "execution": {
     "iopub.execute_input": "2025-05-01T08:55:47.044056Z",
     "iopub.status.busy": "2025-05-01T08:55:47.043591Z",
     "iopub.status.idle": "2025-05-01T08:55:47.050196Z",
     "shell.execute_reply": "2025-05-01T08:55:47.049023Z"
    },
    "papermill": {
     "duration": 0.024868,
     "end_time": "2025-05-01T08:55:47.052298",
     "exception": false,
     "start_time": "2025-05-01T08:55:47.027430",
     "status": "completed"
    },
    "tags": []
   },
   "outputs": [],
   "source": [
    "scores = {}\n",
    "oof_preds = {}\n",
    "test_preds = {}"
   ]
  },
  {
   "cell_type": "markdown",
   "id": "129f63be",
   "metadata": {
    "papermill": {
     "duration": 0.010469,
     "end_time": "2025-05-01T08:55:47.073845",
     "exception": false,
     "start_time": "2025-05-01T08:55:47.063376",
     "status": "completed"
    },
    "tags": []
   },
   "source": [
    "## HistGradientBoosting"
   ]
  },
  {
   "cell_type": "code",
   "execution_count": 9,
   "id": "6d86e03e",
   "metadata": {
    "execution": {
     "iopub.execute_input": "2025-05-01T08:55:47.094896Z",
     "iopub.status.busy": "2025-05-01T08:55:47.094472Z",
     "iopub.status.idle": "2025-05-01T09:14:07.233052Z",
     "shell.execute_reply": "2025-05-01T09:14:07.231616Z"
    },
    "papermill": {
     "duration": 1100.151913,
     "end_time": "2025-05-01T09:14:07.235446",
     "exception": false,
     "start_time": "2025-05-01T08:55:47.083533",
     "status": "completed"
    },
    "tags": []
   },
   "outputs": [
    {
     "name": "stdout",
     "output_type": "stream",
     "text": [
      "Training HistGradientBoostingRegressor\n",
      "\n",
      "--- Fold 0 - root_mean_squared_log_error: 0.0610 - Time: 182.18 s\n",
      "--- Fold 1 - root_mean_squared_log_error: 0.0616 - Time: 167.69 s\n",
      "--- Fold 2 - root_mean_squared_log_error: 0.0608 - Time: 191.77 s\n",
      "--- Fold 3 - root_mean_squared_log_error: 0.0621 - Time: 175.76 s\n",
      "--- Fold 4 - root_mean_squared_log_error: 0.0609 - Time: 180.83 s\n",
      "\n",
      "------ Overall root_mean_squared_log_error: 0.0613 - Mean root_mean_squared_log_error: 0.0613 ± 0.0005 - Time: 900.37 s\n"
     ]
    }
   ],
   "source": [
    "histgb_trainer = Trainer(\n",
    "    HistGradientBoostingRegressor(**histgb_params),\n",
    "    cv=KFold(n_splits=CFG.n_folds, random_state=CFG.seed, shuffle=True),\n",
    "    metric=CFG.metric,\n",
    "    task=\"regression\"\n",
    ")\n",
    "\n",
    "histgb_trainer.fit(X, y)\n",
    "\n",
    "scores[\"HistGB\"] = histgb_trainer.fold_scores\n",
    "oof_preds[\"HistGB\"] = histgb_trainer.oof_preds\n",
    "test_preds[\"HistGB\"] = histgb_trainer.predict(X_test)"
   ]
  },
  {
   "cell_type": "markdown",
   "id": "ebd4be6e",
   "metadata": {
    "papermill": {
     "duration": 0.012269,
     "end_time": "2025-05-01T09:14:07.258681",
     "exception": false,
     "start_time": "2025-05-01T09:14:07.246412",
     "status": "completed"
    },
    "tags": []
   },
   "source": [
    "## LightGBM (gbdt)"
   ]
  },
  {
   "cell_type": "code",
   "execution_count": 10,
   "id": "aa38b977",
   "metadata": {
    "execution": {
     "iopub.execute_input": "2025-05-01T09:14:07.283831Z",
     "iopub.status.busy": "2025-05-01T09:14:07.283347Z",
     "iopub.status.idle": "2025-05-01T09:20:29.373349Z",
     "shell.execute_reply": "2025-05-01T09:20:29.372623Z"
    },
    "papermill": {
     "duration": 382.104289,
     "end_time": "2025-05-01T09:20:29.375194",
     "exception": false,
     "start_time": "2025-05-01T09:14:07.270905",
     "status": "completed"
    },
    "tags": []
   },
   "outputs": [
    {
     "name": "stdout",
     "output_type": "stream",
     "text": [
      "Training LGBMRegressor\n",
      "\n",
      "Training until validation scores don't improve for 100 rounds\n",
      "[500]\tvalid_0's rmse: 3.68917\tvalid_0's l2: 13.6099\n",
      "[1000]\tvalid_0's rmse: 3.59052\tvalid_0's l2: 12.8918\n",
      "[1500]\tvalid_0's rmse: 3.57998\tvalid_0's l2: 12.8163\n",
      "Early stopping, best iteration is:\n",
      "[1459]\tvalid_0's rmse: 3.57961\tvalid_0's l2: 12.8136\n",
      "--- Fold 0 - root_mean_squared_log_error: 0.0630 - Time: 63.93 s\n",
      "\n",
      "Training until validation scores don't improve for 100 rounds\n",
      "[500]\tvalid_0's rmse: 3.74369\tvalid_0's l2: 14.0152\n",
      "[1000]\tvalid_0's rmse: 3.64049\tvalid_0's l2: 13.2532\n",
      "Early stopping, best iteration is:\n",
      "[1334]\tvalid_0's rmse: 3.63397\tvalid_0's l2: 13.2057\n",
      "--- Fold 1 - root_mean_squared_log_error: 0.0637 - Time: 58.76 s\n",
      "\n",
      "Training until validation scores don't improve for 100 rounds\n",
      "[500]\tvalid_0's rmse: 3.69722\tvalid_0's l2: 13.6694\n",
      "[1000]\tvalid_0's rmse: 3.58717\tvalid_0's l2: 12.8678\n",
      "Early stopping, best iteration is:\n",
      "[1330]\tvalid_0's rmse: 3.57881\tvalid_0's l2: 12.8079\n",
      "--- Fold 2 - root_mean_squared_log_error: 0.0633 - Time: 57.43 s\n",
      "\n",
      "Training until validation scores don't improve for 100 rounds\n",
      "[500]\tvalid_0's rmse: 3.65355\tvalid_0's l2: 13.3484\n",
      "[1000]\tvalid_0's rmse: 3.55186\tvalid_0's l2: 12.6157\n",
      "[1500]\tvalid_0's rmse: 3.54198\tvalid_0's l2: 12.5456\n",
      "Early stopping, best iteration is:\n",
      "[1426]\tvalid_0's rmse: 3.54192\tvalid_0's l2: 12.5452\n",
      "--- Fold 3 - root_mean_squared_log_error: 0.0641 - Time: 62.82 s\n",
      "\n",
      "Training until validation scores don't improve for 100 rounds\n",
      "[500]\tvalid_0's rmse: 3.69766\tvalid_0's l2: 13.6727\n",
      "[1000]\tvalid_0's rmse: 3.60464\tvalid_0's l2: 12.9934\n",
      "Early stopping, best iteration is:\n",
      "[1278]\tvalid_0's rmse: 3.60125\tvalid_0's l2: 12.969\n",
      "--- Fold 4 - root_mean_squared_log_error: 0.0635 - Time: 54.41 s\n",
      "\n",
      "\n",
      "------ Overall root_mean_squared_log_error: 0.0635 - Mean root_mean_squared_log_error: 0.0635 ± 0.0004 - Time: 299.27 s\n"
     ]
    }
   ],
   "source": [
    "lgbm_trainer = Trainer(\n",
    "    LGBMRegressor(**lgbm_params),\n",
    "    cv=KFold(n_splits=CFG.n_folds, random_state=CFG.seed, shuffle=True),\n",
    "    metric=CFG.metric,\n",
    "    use_early_stopping=True,\n",
    "    task=\"regression\"\n",
    ")\n",
    "\n",
    "fit_args = {\n",
    "    \"eval_metric\": \"rmse\",\n",
    "    \"callbacks\": [\n",
    "        log_evaluation(period=500), \n",
    "        early_stopping(stopping_rounds=100)\n",
    "    ]\n",
    "}\n",
    "\n",
    "lgbm_trainer.fit(X, y, fit_args)\n",
    "\n",
    "scores[\"LightGBM (gbdt)\"] = lgbm_trainer.fold_scores\n",
    "oof_preds[\"LightGBM (gbdt)\"] = lgbm_trainer.oof_preds\n",
    "test_preds[\"LightGBM (gbdt)\"] = lgbm_trainer.predict(X_test)"
   ]
  },
  {
   "cell_type": "markdown",
   "id": "66291d76",
   "metadata": {
    "papermill": {
     "duration": 0.010965,
     "end_time": "2025-05-01T09:20:29.398947",
     "exception": false,
     "start_time": "2025-05-01T09:20:29.387982",
     "status": "completed"
    },
    "tags": []
   },
   "source": [
    "## LightGBM (goss)"
   ]
  },
  {
   "cell_type": "code",
   "execution_count": 11,
   "id": "530bcb36",
   "metadata": {
    "execution": {
     "iopub.execute_input": "2025-05-01T09:20:29.423366Z",
     "iopub.status.busy": "2025-05-01T09:20:29.423039Z",
     "iopub.status.idle": "2025-05-01T09:35:46.001078Z",
     "shell.execute_reply": "2025-05-01T09:35:45.997549Z"
    },
    "papermill": {
     "duration": 916.592612,
     "end_time": "2025-05-01T09:35:46.003128",
     "exception": false,
     "start_time": "2025-05-01T09:20:29.410516",
     "status": "completed"
    },
    "tags": []
   },
   "outputs": [
    {
     "name": "stdout",
     "output_type": "stream",
     "text": [
      "Training LGBMRegressor\n",
      "\n",
      "Training until validation scores don't improve for 100 rounds\n",
      "[500]\tvalid_0's rmse: 4.06984\tvalid_0's l2: 16.5636\n",
      "[1000]\tvalid_0's rmse: 3.65283\tvalid_0's l2: 13.3431\n",
      "[1500]\tvalid_0's rmse: 3.59207\tvalid_0's l2: 12.903\n",
      "[2000]\tvalid_0's rmse: 3.57827\tvalid_0's l2: 12.804\n",
      "[2500]\tvalid_0's rmse: 3.5742\tvalid_0's l2: 12.7749\n",
      "Early stopping, best iteration is:\n",
      "[2437]\tvalid_0's rmse: 3.57393\tvalid_0's l2: 12.773\n",
      "--- Fold 0 - root_mean_squared_log_error: 0.0629 - Time: 152.09 s\n",
      "\n",
      "Training until validation scores don't improve for 100 rounds\n",
      "[500]\tvalid_0's rmse: 4.12554\tvalid_0's l2: 17.0201\n",
      "[1000]\tvalid_0's rmse: 3.70652\tvalid_0's l2: 13.7383\n",
      "[1500]\tvalid_0's rmse: 3.64828\tvalid_0's l2: 13.31\n",
      "[2000]\tvalid_0's rmse: 3.63576\tvalid_0's l2: 13.2187\n",
      "[2500]\tvalid_0's rmse: 3.63146\tvalid_0's l2: 13.1875\n",
      "Early stopping, best iteration is:\n",
      "[2487]\tvalid_0's rmse: 3.63131\tvalid_0's l2: 13.1864\n",
      "--- Fold 1 - root_mean_squared_log_error: 0.0634 - Time: 156.05 s\n",
      "\n",
      "Training until validation scores don't improve for 100 rounds\n",
      "[500]\tvalid_0's rmse: 4.0927\tvalid_0's l2: 16.7502\n",
      "[1000]\tvalid_0's rmse: 3.65908\tvalid_0's l2: 13.3888\n",
      "[1500]\tvalid_0's rmse: 3.59343\tvalid_0's l2: 12.9128\n",
      "[2000]\tvalid_0's rmse: 3.58003\tvalid_0's l2: 12.8166\n",
      "[2500]\tvalid_0's rmse: 3.57612\tvalid_0's l2: 12.7886\n",
      "Early stopping, best iteration is:\n",
      "[2434]\tvalid_0's rmse: 3.57584\tvalid_0's l2: 12.7866\n",
      "--- Fold 2 - root_mean_squared_log_error: 0.0629 - Time: 150.70 s\n",
      "\n",
      "Training until validation scores don't improve for 100 rounds\n",
      "[500]\tvalid_0's rmse: 4.04229\tvalid_0's l2: 16.3401\n",
      "[1000]\tvalid_0's rmse: 3.61328\tvalid_0's l2: 13.0558\n",
      "[1500]\tvalid_0's rmse: 3.55026\tvalid_0's l2: 12.6043\n",
      "[2000]\tvalid_0's rmse: 3.53584\tvalid_0's l2: 12.5021\n",
      "[2500]\tvalid_0's rmse: 3.53109\tvalid_0's l2: 12.4686\n",
      "Early stopping, best iteration is:\n",
      "[2447]\tvalid_0's rmse: 3.53081\tvalid_0's l2: 12.4666\n",
      "--- Fold 3 - root_mean_squared_log_error: 0.0638 - Time: 154.63 s\n",
      "\n",
      "Training until validation scores don't improve for 100 rounds\n",
      "[500]\tvalid_0's rmse: 4.08214\tvalid_0's l2: 16.6638\n",
      "[1000]\tvalid_0's rmse: 3.66574\tvalid_0's l2: 13.4377\n",
      "[1500]\tvalid_0's rmse: 3.60942\tvalid_0's l2: 13.0279\n",
      "[2000]\tvalid_0's rmse: 3.60021\tvalid_0's l2: 12.9615\n",
      "Early stopping, best iteration is:\n",
      "[2276]\tvalid_0's rmse: 3.59672\tvalid_0's l2: 12.9364\n",
      "--- Fold 4 - root_mean_squared_log_error: 0.0630 - Time: 141.24 s\n",
      "\n",
      "\n",
      "------ Overall root_mean_squared_log_error: 0.0632 - Mean root_mean_squared_log_error: 0.0632 ± 0.0003 - Time: 756.62 s\n"
     ]
    }
   ],
   "source": [
    "lgbm_goss_trainer = Trainer(\n",
    "    LGBMRegressor(**lgbm_goss_params),\n",
    "    cv=KFold(n_splits=CFG.n_folds, random_state=CFG.seed, shuffle=True),\n",
    "    metric=CFG.metric,\n",
    "    use_early_stopping=True,\n",
    "    task=\"regression\"\n",
    ")\n",
    "\n",
    "fit_args = {\n",
    "    \"eval_metric\": \"rmse\",\n",
    "    \"callbacks\": [\n",
    "        log_evaluation(period=500), \n",
    "        early_stopping(stopping_rounds=100)\n",
    "    ]\n",
    "}\n",
    "\n",
    "lgbm_goss_trainer.fit(X, y, fit_args)\n",
    "\n",
    "scores[\"LightGBM (goss)\"] = lgbm_goss_trainer.fold_scores\n",
    "oof_preds[\"LightGBM (goss)\"] = lgbm_goss_trainer.oof_preds\n",
    "test_preds[\"LightGBM (goss)\"] = lgbm_goss_trainer.predict(X_test)"
   ]
  },
  {
   "cell_type": "markdown",
   "id": "f413faac",
   "metadata": {
    "papermill": {
     "duration": 0.013297,
     "end_time": "2025-05-01T09:35:46.030608",
     "exception": false,
     "start_time": "2025-05-01T09:35:46.017311",
     "status": "completed"
    },
    "tags": []
   },
   "source": [
    "## XGBoost"
   ]
  },
  {
   "cell_type": "code",
   "execution_count": 12,
   "id": "c7ff565d",
   "metadata": {
    "execution": {
     "iopub.execute_input": "2025-05-01T09:35:46.058677Z",
     "iopub.status.busy": "2025-05-01T09:35:46.058374Z",
     "iopub.status.idle": "2025-05-01T10:00:16.200013Z",
     "shell.execute_reply": "2025-05-01T10:00:16.198690Z"
    },
    "papermill": {
     "duration": 1470.15834,
     "end_time": "2025-05-01T10:00:16.202522",
     "exception": false,
     "start_time": "2025-05-01T09:35:46.044182",
     "status": "completed"
    },
    "tags": []
   },
   "outputs": [
    {
     "name": "stdout",
     "output_type": "stream",
     "text": [
      "Training XGBRegressor\n",
      "\n",
      "[0]\tvalidation_0-rmse:60.46275\n",
      "[500]\tvalidation_0-rmse:4.31327\n",
      "[1000]\tvalidation_0-rmse:3.79500\n",
      "[1500]\tvalidation_0-rmse:3.68366\n",
      "[2000]\tvalidation_0-rmse:3.64937\n",
      "[2500]\tvalidation_0-rmse:3.63668\n",
      "[3000]\tvalidation_0-rmse:3.62759\n",
      "[3500]\tvalidation_0-rmse:3.62096\n",
      "[4000]\tvalidation_0-rmse:3.61769\n",
      "[4500]\tvalidation_0-rmse:3.61513\n",
      "[5000]\tvalidation_0-rmse:3.61233\n",
      "[5500]\tvalidation_0-rmse:3.61108\n",
      "[6000]\tvalidation_0-rmse:3.61061\n",
      "[6500]\tvalidation_0-rmse:3.60992\n",
      "[7000]\tvalidation_0-rmse:3.60955\n",
      "[7267]\tvalidation_0-rmse:3.60914\n",
      "--- Fold 0 - root_mean_squared_log_error: 0.0638 - Time: 314.62 s\n",
      "\n",
      "[0]\tvalidation_0-rmse:60.55821\n",
      "[500]\tvalidation_0-rmse:4.34605\n",
      "[1000]\tvalidation_0-rmse:3.89895\n",
      "[1500]\tvalidation_0-rmse:3.77782\n",
      "[2000]\tvalidation_0-rmse:3.73711\n",
      "[2500]\tvalidation_0-rmse:3.71525\n",
      "[3000]\tvalidation_0-rmse:3.70643\n",
      "[3500]\tvalidation_0-rmse:3.70014\n",
      "[4000]\tvalidation_0-rmse:3.69444\n",
      "[4500]\tvalidation_0-rmse:3.69102\n",
      "[5000]\tvalidation_0-rmse:3.68831\n",
      "[5500]\tvalidation_0-rmse:3.68691\n",
      "[6000]\tvalidation_0-rmse:3.68583\n",
      "[6500]\tvalidation_0-rmse:3.68540\n",
      "[7000]\tvalidation_0-rmse:3.68466\n",
      "[7500]\tvalidation_0-rmse:3.68405\n",
      "[8000]\tvalidation_0-rmse:3.68386\n",
      "[8204]\tvalidation_0-rmse:3.68370\n",
      "--- Fold 1 - root_mean_squared_log_error: 0.0644 - Time: 340.00 s\n",
      "\n",
      "[0]\tvalidation_0-rmse:60.64493\n",
      "[500]\tvalidation_0-rmse:4.49822\n",
      "[1000]\tvalidation_0-rmse:3.94889\n",
      "[1500]\tvalidation_0-rmse:3.79126\n",
      "[2000]\tvalidation_0-rmse:3.73413\n",
      "[2500]\tvalidation_0-rmse:3.70528\n",
      "[3000]\tvalidation_0-rmse:3.68863\n",
      "[3500]\tvalidation_0-rmse:3.67711\n",
      "[4000]\tvalidation_0-rmse:3.67119\n",
      "[4500]\tvalidation_0-rmse:3.66568\n",
      "[5000]\tvalidation_0-rmse:3.66116\n",
      "[5500]\tvalidation_0-rmse:3.65784\n",
      "[6000]\tvalidation_0-rmse:3.65611\n",
      "[6500]\tvalidation_0-rmse:3.65409\n",
      "[6960]\tvalidation_0-rmse:3.65367\n",
      "--- Fold 2 - root_mean_squared_log_error: 0.0649 - Time: 305.11 s\n",
      "\n",
      "[0]\tvalidation_0-rmse:60.58818\n",
      "[500]\tvalidation_0-rmse:4.27473\n",
      "[1000]\tvalidation_0-rmse:3.78537\n",
      "[1500]\tvalidation_0-rmse:3.67584\n",
      "[2000]\tvalidation_0-rmse:3.63847\n",
      "[2500]\tvalidation_0-rmse:3.62248\n",
      "[3000]\tvalidation_0-rmse:3.61206\n",
      "[3500]\tvalidation_0-rmse:3.60392\n",
      "[4000]\tvalidation_0-rmse:3.60051\n",
      "[4500]\tvalidation_0-rmse:3.59726\n",
      "[4599]\tvalidation_0-rmse:3.59736\n",
      "--- Fold 3 - root_mean_squared_log_error: 0.0662 - Time: 216.27 s\n",
      "\n",
      "[0]\tvalidation_0-rmse:60.42578\n",
      "[500]\tvalidation_0-rmse:4.21562\n",
      "[1000]\tvalidation_0-rmse:3.81599\n",
      "[1500]\tvalidation_0-rmse:3.70144\n",
      "[2000]\tvalidation_0-rmse:3.66331\n",
      "[2500]\tvalidation_0-rmse:3.64640\n",
      "[3000]\tvalidation_0-rmse:3.63563\n",
      "[3500]\tvalidation_0-rmse:3.63031\n",
      "[4000]\tvalidation_0-rmse:3.62597\n",
      "[4500]\tvalidation_0-rmse:3.62344\n",
      "[5000]\tvalidation_0-rmse:3.62142\n",
      "[5357]\tvalidation_0-rmse:3.62091\n",
      "--- Fold 4 - root_mean_squared_log_error: 0.0641 - Time: 231.64 s\n",
      "\n",
      "\n",
      "------ Overall root_mean_squared_log_error: 0.0647 - Mean root_mean_squared_log_error: 0.0647 ± 0.0008 - Time: 1409.83 s\n"
     ]
    }
   ],
   "source": [
    "xgb_trainer = Trainer(\n",
    "    XGBRegressor(**xgb_params),\n",
    "    cv=KFold(n_splits=CFG.n_folds, random_state=CFG.seed, shuffle=True),\n",
    "    metric=CFG.metric,\n",
    "    use_early_stopping=True,\n",
    "    task=\"regression\"\n",
    ")\n",
    "\n",
    "fit_args = {\n",
    "    \"verbose\": 500\n",
    "}\n",
    "\n",
    "xgb_trainer.fit(X, y, fit_args)\n",
    "\n",
    "scores[\"XGBoost\"] = xgb_trainer.fold_scores\n",
    "oof_preds[\"XGBoost\"] = xgb_trainer.oof_preds\n",
    "test_preds[\"XGBoost\"] = xgb_trainer.predict(X_test)"
   ]
  },
  {
   "cell_type": "markdown",
   "id": "55fb774b",
   "metadata": {
    "papermill": {
     "duration": 0.018292,
     "end_time": "2025-05-01T10:00:16.239923",
     "exception": false,
     "start_time": "2025-05-01T10:00:16.221631",
     "status": "completed"
    },
    "tags": []
   },
   "source": [
    "## CatBoost"
   ]
  },
  {
   "cell_type": "code",
   "execution_count": 13,
   "id": "f06929a8",
   "metadata": {
    "execution": {
     "iopub.execute_input": "2025-05-01T10:00:16.280511Z",
     "iopub.status.busy": "2025-05-01T10:00:16.279887Z",
     "iopub.status.idle": "2025-05-01T10:00:20.576630Z",
     "shell.execute_reply": "2025-05-01T10:00:20.575386Z"
    },
    "papermill": {
     "duration": 4.320686,
     "end_time": "2025-05-01T10:00:20.578987",
     "exception": false,
     "start_time": "2025-05-01T10:00:16.258301",
     "status": "completed"
    },
    "tags": []
   },
   "outputs": [],
   "source": [
    "X_cb = X.copy()\n",
    "X_test_cb = X_test.copy()\n",
    "\n",
    "for col in X.columns.tolist():\n",
    "    X_cb[f\"{col}_cat\"] = X[col].astype(str).astype(\"category\")\n",
    "    X_test_cb[f\"{col}_cat\"] = X_test[col].astype(str).astype(\"category\")\n",
    "\n",
    "cat_cols = [f + \"_cat\" for f in X.columns.tolist()]"
   ]
  },
  {
   "cell_type": "code",
   "execution_count": 14,
   "id": "5100f15c",
   "metadata": {
    "execution": {
     "iopub.execute_input": "2025-05-01T10:00:20.620135Z",
     "iopub.status.busy": "2025-05-01T10:00:20.619691Z",
     "iopub.status.idle": "2025-05-01T11:20:04.957851Z",
     "shell.execute_reply": "2025-05-01T11:20:04.955885Z"
    },
    "papermill": {
     "duration": 4784.362032,
     "end_time": "2025-05-01T11:20:04.960812",
     "exception": false,
     "start_time": "2025-05-01T10:00:20.598780",
     "status": "completed"
    },
    "tags": []
   },
   "outputs": [
    {
     "name": "stdout",
     "output_type": "stream",
     "text": [
      "Training CatBoostRegressor\n",
      "\n",
      "0:\tlearn: 59.5382887\ttest: 59.3680389\tbest: 59.3680389 (0)\ttotal: 739ms\tremaining: 1h 1m 35s\n",
      "500:\tlearn: 3.3285891\ttest: 3.5521158\tbest: 3.5519622 (499)\ttotal: 5m 51s\tremaining: 52m 33s\n",
      "1000:\tlearn: 3.2002093\ttest: 3.5397440\tbest: 3.5393984 (943)\ttotal: 12m 3s\tremaining: 48m 10s\n",
      "Stopped by overfitting detector  (100 iterations wait)\n",
      "\n",
      "bestTest = 3.53887922\n",
      "bestIteration = 1037\n",
      "\n",
      "Shrink model to first 1038 iterations.\n",
      "--- Fold 0 - root_mean_squared_log_error: 0.0605 - Time: 837.04 s\n",
      "\n",
      "0:\tlearn: 59.4964051\ttest: 59.5458698\tbest: 59.5458698 (0)\ttotal: 570ms\tremaining: 47m 29s\n",
      "500:\tlearn: 3.3221075\ttest: 3.5988879\tbest: 3.5988879 (500)\ttotal: 5m 50s\tremaining: 52m 26s\n",
      "1000:\tlearn: 3.1931975\ttest: 3.5842724\tbest: 3.5839947 (986)\ttotal: 12m 4s\tremaining: 48m 12s\n",
      "Stopped by overfitting detector  (100 iterations wait)\n",
      "\n",
      "bestTest = 3.583644068\n",
      "bestIteration = 1109\n",
      "\n",
      "Shrink model to first 1110 iterations.\n",
      "--- Fold 1 - root_mean_squared_log_error: 0.0608 - Time: 895.95 s\n",
      "\n",
      "0:\tlearn: 59.4754201\ttest: 59.6251116\tbest: 59.6251116 (0)\ttotal: 572ms\tremaining: 47m 38s\n",
      "500:\tlearn: 3.3245612\ttest: 3.5429827\tbest: 3.5429617 (499)\ttotal: 5m 50s\tremaining: 52m 30s\n",
      "1000:\tlearn: 3.1966097\ttest: 3.5288795\tbest: 3.5286975 (995)\ttotal: 12m 10s\tremaining: 48m 39s\n",
      "Stopped by overfitting detector  (100 iterations wait)\n",
      "\n",
      "bestTest = 3.527314006\n",
      "bestIteration = 1382\n",
      "\n",
      "Shrink model to first 1383 iterations.\n",
      "--- Fold 2 - root_mean_squared_log_error: 0.0603 - Time: 1114.22 s\n",
      "\n",
      "0:\tlearn: 59.4896888\ttest: 59.5686606\tbest: 59.5686606 (0)\ttotal: 574ms\tremaining: 47m 47s\n",
      "500:\tlearn: 3.3218751\ttest: 3.4989657\tbest: 3.4989109 (498)\ttotal: 5m 56s\tremaining: 53m 23s\n",
      "1000:\tlearn: 3.1983278\ttest: 3.4915960\tbest: 3.4915960 (1000)\ttotal: 12m 13s\tremaining: 48m 48s\n",
      "Stopped by overfitting detector  (100 iterations wait)\n",
      "\n",
      "bestTest = 3.490814641\n",
      "bestIteration = 1060\n",
      "\n",
      "Shrink model to first 1061 iterations.\n",
      "--- Fold 3 - root_mean_squared_log_error: 0.0613 - Time: 864.60 s\n",
      "\n",
      "0:\tlearn: 59.5267819\ttest: 59.4200928\tbest: 59.4200928 (0)\ttotal: 570ms\tremaining: 47m 27s\n",
      "500:\tlearn: 3.3214326\ttest: 3.5649335\tbest: 3.5648151 (498)\ttotal: 5m 49s\tremaining: 52m 19s\n",
      "1000:\tlearn: 3.1897728\ttest: 3.5514165\tbest: 3.5514165 (1000)\ttotal: 12m 3s\tremaining: 48m 10s\n",
      "Stopped by overfitting detector  (100 iterations wait)\n",
      "\n",
      "bestTest = 3.548609187\n",
      "bestIteration = 1320\n",
      "\n",
      "Shrink model to first 1321 iterations.\n",
      "--- Fold 4 - root_mean_squared_log_error: 0.0606 - Time: 1055.67 s\n",
      "\n",
      "\n",
      "------ Overall root_mean_squared_log_error: 0.0607 - Mean root_mean_squared_log_error: 0.0607 ± 0.0004 - Time: 4769.58 s\n"
     ]
    }
   ],
   "source": [
    "cb_trainer = Trainer(\n",
    "    CatBoostRegressor(**cb_params, cat_features=cat_cols),\n",
    "    cv=KFold(n_splits=CFG.n_folds, random_state=CFG.seed, shuffle=True),\n",
    "    metric=CFG.metric,\n",
    "    use_early_stopping=True,\n",
    "    task=\"regression\"\n",
    ")\n",
    "\n",
    "fit_args = {\n",
    "    \"verbose\": 500,\n",
    "    \"early_stopping_rounds\": 100,\n",
    "    \"use_best_model\": True\n",
    "}\n",
    "\n",
    "cb_trainer.fit(X_cb, y, fit_args)\n",
    "\n",
    "scores[\"CatBoost\"] = cb_trainer.fold_scores\n",
    "oof_preds[\"CatBoost\"] = cb_trainer.oof_preds\n",
    "test_preds[\"CatBoost\"] = cb_trainer.predict(X_test_cb)"
   ]
  },
  {
   "cell_type": "markdown",
   "id": "d131bf41",
   "metadata": {
    "papermill": {
     "duration": 0.022527,
     "end_time": "2025-05-01T11:20:05.005439",
     "exception": false,
     "start_time": "2025-05-01T11:20:04.982912",
     "status": "completed"
    },
    "tags": []
   },
   "source": [
    "## Yggdrasil"
   ]
  },
  {
   "cell_type": "code",
   "execution_count": 15,
   "id": "07ac7174",
   "metadata": {
    "execution": {
     "iopub.execute_input": "2025-05-01T11:20:05.049133Z",
     "iopub.status.busy": "2025-05-01T11:20:05.048689Z",
     "iopub.status.idle": "2025-05-01T11:20:05.059467Z",
     "shell.execute_reply": "2025-05-01T11:20:05.057335Z"
    },
    "papermill": {
     "duration": 0.035591,
     "end_time": "2025-05-01T11:20:05.061768",
     "exception": false,
     "start_time": "2025-05-01T11:20:05.026177",
     "status": "completed"
    },
    "tags": []
   },
   "outputs": [],
   "source": [
    "def YDFRegressor(learner_class):\n",
    "\n",
    "    class YDFXRegressor(BaseEstimator, RegressorMixin):\n",
    "\n",
    "        def __init__(self, params={}):\n",
    "            self.params = params\n",
    "\n",
    "        def fit(self, X, y):\n",
    "            assert isinstance(X, pd.DataFrame)\n",
    "            assert isinstance(y, pd.Series)\n",
    "            target = y.name\n",
    "            params = self.params.copy()\n",
    "            params['label'] = target\n",
    "            params['task'] = ydf.Task.REGRESSION\n",
    "            X = pd.concat([X, y], axis=1)\n",
    "            with contextlib.redirect_stderr(io.StringIO()), contextlib.redirect_stdout(io.StringIO()):\n",
    "                self.model = learner_class(**params).train(X)\n",
    "            return self\n",
    "\n",
    "        def predict(self, X):\n",
    "            assert isinstance(X, pd.DataFrame)\n",
    "            with contextlib.redirect_stderr(io.StringIO()), contextlib.redirect_stdout(io.StringIO()):\n",
    "                return self.model.predict(X)\n",
    "\n",
    "    return YDFXRegressor"
   ]
  },
  {
   "cell_type": "code",
   "execution_count": 16,
   "id": "57b79607",
   "metadata": {
    "execution": {
     "iopub.execute_input": "2025-05-01T11:20:05.105483Z",
     "iopub.status.busy": "2025-05-01T11:20:05.105055Z",
     "iopub.status.idle": "2025-05-01T11:33:06.248609Z",
     "shell.execute_reply": "2025-05-01T11:33:06.247194Z"
    },
    "papermill": {
     "duration": 781.16806,
     "end_time": "2025-05-01T11:33:06.250855",
     "exception": false,
     "start_time": "2025-05-01T11:20:05.082795",
     "status": "completed"
    },
    "tags": []
   },
   "outputs": [
    {
     "name": "stdout",
     "output_type": "stream",
     "text": [
      "Training YDFXRegressor\n",
      "\n",
      "--- Fold 0 - root_mean_squared_log_error: 0.0621 - Time: 128.34 s\n",
      "--- Fold 1 - root_mean_squared_log_error: 0.0619 - Time: 183.78 s\n",
      "--- Fold 2 - root_mean_squared_log_error: 0.0621 - Time: 97.42 s\n",
      "--- Fold 3 - root_mean_squared_log_error: 0.0637 - Time: 234.10 s\n",
      "--- Fold 4 - root_mean_squared_log_error: 0.0626 - Time: 120.77 s\n",
      "\n",
      "------ Overall root_mean_squared_log_error: 0.0625 - Mean root_mean_squared_log_error: 0.0625 ± 0.0006 - Time: 766.64 s\n"
     ]
    }
   ],
   "source": [
    "ydf_trainer = Trainer(\n",
    "    YDFRegressor(GradientBoostedTreesLearner)(ydf_params),\n",
    "    cv=KFold(n_splits=CFG.n_folds, random_state=CFG.seed, shuffle=True),\n",
    "    metric=CFG.metric,\n",
    "    task=\"regression\"\n",
    ")\n",
    "\n",
    "ydf_trainer.fit(X, y)\n",
    "\n",
    "scores[\"Yggdrasil\"] = ydf_trainer.fold_scores\n",
    "oof_preds[\"Yggdrasil\"] = ydf_trainer.oof_preds\n",
    "test_preds[\"Yggdrasil\"] = ydf_trainer.predict(X_test)"
   ]
  },
  {
   "cell_type": "markdown",
   "id": "36aca433",
   "metadata": {
    "papermill": {
     "duration": 0.02212,
     "end_time": "2025-05-01T11:33:06.295161",
     "exception": false,
     "start_time": "2025-05-01T11:33:06.273041",
     "status": "completed"
    },
    "tags": []
   },
   "source": [
    "## Neural networks"
   ]
  },
  {
   "cell_type": "code",
   "execution_count": 17,
   "id": "6ab1ba75",
   "metadata": {
    "execution": {
     "iopub.execute_input": "2025-05-01T11:33:06.341464Z",
     "iopub.status.busy": "2025-05-01T11:33:06.340954Z",
     "iopub.status.idle": "2025-05-01T11:33:07.272133Z",
     "shell.execute_reply": "2025-05-01T11:33:07.271106Z"
    },
    "papermill": {
     "duration": 0.956125,
     "end_time": "2025-05-01T11:33:07.273951",
     "exception": false,
     "start_time": "2025-05-01T11:33:06.317826",
     "status": "completed"
    },
    "tags": []
   },
   "outputs": [],
   "source": [
    "train = pd.read_csv(CFG.train_path, index_col=\"id\")\n",
    "test = pd.read_csv(CFG.test_path, index_col=\"id\")\n",
    "\n",
    "train = pd.get_dummies(train, columns=[\"Sex\"])\n",
    "test = pd.get_dummies(test, columns=[\"Sex\"])\n",
    "\n",
    "X = train.drop(CFG.target, axis=1)\n",
    "y = train[CFG.target]\n",
    "X_test = test"
   ]
  },
  {
   "cell_type": "code",
   "execution_count": 18,
   "id": "59444794",
   "metadata": {
    "execution": {
     "iopub.execute_input": "2025-05-01T11:33:07.316202Z",
     "iopub.status.busy": "2025-05-01T11:33:07.315789Z",
     "iopub.status.idle": "2025-05-01T11:33:07.921345Z",
     "shell.execute_reply": "2025-05-01T11:33:07.920269Z"
    },
    "papermill": {
     "duration": 0.62893,
     "end_time": "2025-05-01T11:33:07.923377",
     "exception": false,
     "start_time": "2025-05-01T11:33:07.294447",
     "status": "completed"
    },
    "tags": []
   },
   "outputs": [],
   "source": [
    "scaler = StandardScaler().set_output(transform=\"pandas\")\n",
    "\n",
    "X = scaler.fit_transform(X)\n",
    "X_test = scaler.transform(X_test)"
   ]
  },
  {
   "cell_type": "code",
   "execution_count": 19,
   "id": "05fdf6dc",
   "metadata": {
    "execution": {
     "iopub.execute_input": "2025-05-01T11:33:07.966816Z",
     "iopub.status.busy": "2025-05-01T11:33:07.966391Z",
     "iopub.status.idle": "2025-05-01T11:33:07.974929Z",
     "shell.execute_reply": "2025-05-01T11:33:07.973326Z"
    },
    "papermill": {
     "duration": 0.032434,
     "end_time": "2025-05-01T11:33:07.977058",
     "exception": false,
     "start_time": "2025-05-01T11:33:07.944624",
     "status": "completed"
    },
    "tags": []
   },
   "outputs": [],
   "source": [
    "def get_model(meta):\n",
    "    model = keras.models.Sequential()\n",
    "    model.add(keras.layers.Input(meta[\"X_shape_\"][1:]))\n",
    "    model.add(keras.layers.Dense(256, kernel_initializer='lecun_normal', activation='selu'))\n",
    "    model.add(keras.layers.Dense(128, kernel_initializer='lecun_normal', activation='selu'))\n",
    "    model.add(keras.layers.Dense(64, kernel_initializer='lecun_normal', activation='selu'))\n",
    "    model.add(keras.layers.Dense(1))\n",
    "    return model"
   ]
  },
  {
   "cell_type": "code",
   "execution_count": 20,
   "id": "438f723f",
   "metadata": {
    "execution": {
     "iopub.execute_input": "2025-05-01T11:33:08.023767Z",
     "iopub.status.busy": "2025-05-01T11:33:08.023332Z",
     "iopub.status.idle": "2025-05-01T11:33:08.107948Z",
     "shell.execute_reply": "2025-05-01T11:33:08.106511Z"
    },
    "papermill": {
     "duration": 0.111047,
     "end_time": "2025-05-01T11:33:08.109921",
     "exception": false,
     "start_time": "2025-05-01T11:33:07.998874",
     "status": "completed"
    },
    "tags": []
   },
   "outputs": [
    {
     "name": "stderr",
     "output_type": "stream",
     "text": [
      "2025-05-01 11:33:08.034099: E external/local_xla/xla/stream_executor/cuda/cuda_driver.cc:152] failed call to cuInit: INTERNAL: CUDA error: Failed call to cuInit: UNKNOWN ERROR (303)\n"
     ]
    }
   ],
   "source": [
    "def scheduler(epoch, lr):    \n",
    "    if epoch % 3 == 0 and epoch:\n",
    "        return lr / 2\n",
    "    return lr\n",
    "\n",
    "nn_model = KerasRegressor(\n",
    "    get_model,\n",
    "    loss=\"mean_squared_error\",\n",
    "    random_state=CFG.seed,\n",
    "    metrics=[keras.metrics.RootMeanSquaredError(name='rmse')],\n",
    "    optimizer=keras.optimizers.AdamW(learning_rate=0.01),\n",
    "    validation_batch_size=65536,\n",
    "    validation_split=0.1,\n",
    "    batch_size=1024,\n",
    "    epochs=50, \n",
    "    verbose=0,\n",
    "    callbacks=[\n",
    "        keras.callbacks.EarlyStopping(monitor='val_rmse', patience=7, restore_best_weights=True),\n",
    "        keras.callbacks.LearningRateScheduler(scheduler)\n",
    "    ]\n",
    ")"
   ]
  },
  {
   "cell_type": "code",
   "execution_count": 21,
   "id": "f1f49f46",
   "metadata": {
    "execution": {
     "iopub.execute_input": "2025-05-01T11:33:08.158553Z",
     "iopub.status.busy": "2025-05-01T11:33:08.158123Z",
     "iopub.status.idle": "2025-05-01T11:33:08.163932Z",
     "shell.execute_reply": "2025-05-01T11:33:08.162813Z"
    },
    "papermill": {
     "duration": 0.032724,
     "end_time": "2025-05-01T11:33:08.165871",
     "exception": false,
     "start_time": "2025-05-01T11:33:08.133147",
     "status": "completed"
    },
    "tags": []
   },
   "outputs": [],
   "source": [
    "nn_bag = BaggingRegressor(\n",
    "    nn_model,\n",
    "    n_estimators=5,\n",
    "    random_state=CFG.seed,\n",
    ")"
   ]
  },
  {
   "cell_type": "code",
   "execution_count": 22,
   "id": "fac7e628",
   "metadata": {
    "execution": {
     "iopub.execute_input": "2025-05-01T11:33:08.215443Z",
     "iopub.status.busy": "2025-05-01T11:33:08.214994Z",
     "iopub.status.idle": "2025-05-01T12:32:02.524309Z",
     "shell.execute_reply": "2025-05-01T12:32:02.523127Z"
    },
    "papermill": {
     "duration": 3534.339491,
     "end_time": "2025-05-01T12:32:02.526632",
     "exception": false,
     "start_time": "2025-05-01T11:33:08.187141",
     "status": "completed"
    },
    "tags": []
   },
   "outputs": [
    {
     "name": "stdout",
     "output_type": "stream",
     "text": [
      "Training BaggingRegressor\n",
      "\n"
     ]
    },
    {
     "name": "stderr",
     "output_type": "stream",
     "text": [
      "2025-05-01 11:33:08.875846: E tensorflow/core/framework/node_def_util.cc:676] NodeDef mentions attribute use_unbounded_threadpool which is not in the op definition: Op<name=MapDataset; signature=input_dataset:variant, other_arguments: -> handle:variant; attr=f:func; attr=Targuments:list(type),min=0; attr=output_types:list(type),min=1; attr=output_shapes:list(shape),min=1; attr=use_inter_op_parallelism:bool,default=true; attr=preserve_cardinality:bool,default=false; attr=force_synchronous:bool,default=false; attr=metadata:string,default=\"\"> This may be expected if your graph generating binary is newer  than this binary. Unknown attributes will be ignored. NodeDef: {{node ParallelMapDatasetV2/_16}}\n",
      "2025-05-01 11:33:15.147589: E tensorflow/core/framework/node_def_util.cc:676] NodeDef mentions attribute use_unbounded_threadpool which is not in the op definition: Op<name=MapDataset; signature=input_dataset:variant, other_arguments: -> handle:variant; attr=f:func; attr=Targuments:list(type),min=0; attr=output_types:list(type),min=1; attr=output_shapes:list(shape),min=1; attr=use_inter_op_parallelism:bool,default=true; attr=preserve_cardinality:bool,default=false; attr=force_synchronous:bool,default=false; attr=metadata:string,default=\"\"> This may be expected if your graph generating binary is newer  than this binary. Unknown attributes will be ignored. NodeDef: {{node ParallelMapDatasetV2/_16}}\n",
      "2025-05-01 11:36:11.634004: E tensorflow/core/framework/node_def_util.cc:676] NodeDef mentions attribute use_unbounded_threadpool which is not in the op definition: Op<name=MapDataset; signature=input_dataset:variant, other_arguments: -> handle:variant; attr=f:func; attr=Targuments:list(type),min=0; attr=output_types:list(type),min=1; attr=output_shapes:list(shape),min=1; attr=use_inter_op_parallelism:bool,default=true; attr=preserve_cardinality:bool,default=false; attr=force_synchronous:bool,default=false; attr=metadata:string,default=\"\"> This may be expected if your graph generating binary is newer  than this binary. Unknown attributes will be ignored. NodeDef: {{node ParallelMapDatasetV2/_16}}\n",
      "2025-05-01 11:36:17.786393: E tensorflow/core/framework/node_def_util.cc:676] NodeDef mentions attribute use_unbounded_threadpool which is not in the op definition: Op<name=MapDataset; signature=input_dataset:variant, other_arguments: -> handle:variant; attr=f:func; attr=Targuments:list(type),min=0; attr=output_types:list(type),min=1; attr=output_shapes:list(shape),min=1; attr=use_inter_op_parallelism:bool,default=true; attr=preserve_cardinality:bool,default=false; attr=force_synchronous:bool,default=false; attr=metadata:string,default=\"\"> This may be expected if your graph generating binary is newer  than this binary. Unknown attributes will be ignored. NodeDef: {{node ParallelMapDatasetV2/_16}}\n",
      "2025-05-01 11:39:16.533247: E tensorflow/core/framework/node_def_util.cc:676] NodeDef mentions attribute use_unbounded_threadpool which is not in the op definition: Op<name=MapDataset; signature=input_dataset:variant, other_arguments: -> handle:variant; attr=f:func; attr=Targuments:list(type),min=0; attr=output_types:list(type),min=1; attr=output_shapes:list(shape),min=1; attr=use_inter_op_parallelism:bool,default=true; attr=preserve_cardinality:bool,default=false; attr=force_synchronous:bool,default=false; attr=metadata:string,default=\"\"> This may be expected if your graph generating binary is newer  than this binary. Unknown attributes will be ignored. NodeDef: {{node ParallelMapDatasetV2/_16}}\n",
      "2025-05-01 11:39:23.228299: E tensorflow/core/framework/node_def_util.cc:676] NodeDef mentions attribute use_unbounded_threadpool which is not in the op definition: Op<name=MapDataset; signature=input_dataset:variant, other_arguments: -> handle:variant; attr=f:func; attr=Targuments:list(type),min=0; attr=output_types:list(type),min=1; attr=output_shapes:list(shape),min=1; attr=use_inter_op_parallelism:bool,default=true; attr=preserve_cardinality:bool,default=false; attr=force_synchronous:bool,default=false; attr=metadata:string,default=\"\"> This may be expected if your graph generating binary is newer  than this binary. Unknown attributes will be ignored. NodeDef: {{node ParallelMapDatasetV2/_16}}\n",
      "2025-05-01 11:40:04.648351: E tensorflow/core/framework/node_def_util.cc:676] NodeDef mentions attribute use_unbounded_threadpool which is not in the op definition: Op<name=MapDataset; signature=input_dataset:variant, other_arguments: -> handle:variant; attr=f:func; attr=Targuments:list(type),min=0; attr=output_types:list(type),min=1; attr=output_shapes:list(shape),min=1; attr=use_inter_op_parallelism:bool,default=true; attr=preserve_cardinality:bool,default=false; attr=force_synchronous:bool,default=false; attr=metadata:string,default=\"\"> This may be expected if your graph generating binary is newer  than this binary. Unknown attributes will be ignored. NodeDef: {{node ParallelMapDatasetV2/_16}}\n",
      "2025-05-01 11:40:11.012163: E tensorflow/core/framework/node_def_util.cc:676] NodeDef mentions attribute use_unbounded_threadpool which is not in the op definition: Op<name=MapDataset; signature=input_dataset:variant, other_arguments: -> handle:variant; attr=f:func; attr=Targuments:list(type),min=0; attr=output_types:list(type),min=1; attr=output_shapes:list(shape),min=1; attr=use_inter_op_parallelism:bool,default=true; attr=preserve_cardinality:bool,default=false; attr=force_synchronous:bool,default=false; attr=metadata:string,default=\"\"> This may be expected if your graph generating binary is newer  than this binary. Unknown attributes will be ignored. NodeDef: {{node ParallelMapDatasetV2/_16}}\n",
      "2025-05-01 11:43:12.640656: E tensorflow/core/framework/node_def_util.cc:676] NodeDef mentions attribute use_unbounded_threadpool which is not in the op definition: Op<name=MapDataset; signature=input_dataset:variant, other_arguments: -> handle:variant; attr=f:func; attr=Targuments:list(type),min=0; attr=output_types:list(type),min=1; attr=output_shapes:list(shape),min=1; attr=use_inter_op_parallelism:bool,default=true; attr=preserve_cardinality:bool,default=false; attr=force_synchronous:bool,default=false; attr=metadata:string,default=\"\"> This may be expected if your graph generating binary is newer  than this binary. Unknown attributes will be ignored. NodeDef: {{node ParallelMapDatasetV2/_16}}\n",
      "2025-05-01 11:43:18.829126: E tensorflow/core/framework/node_def_util.cc:676] NodeDef mentions attribute use_unbounded_threadpool which is not in the op definition: Op<name=MapDataset; signature=input_dataset:variant, other_arguments: -> handle:variant; attr=f:func; attr=Targuments:list(type),min=0; attr=output_types:list(type),min=1; attr=output_shapes:list(shape),min=1; attr=use_inter_op_parallelism:bool,default=true; attr=preserve_cardinality:bool,default=false; attr=force_synchronous:bool,default=false; attr=metadata:string,default=\"\"> This may be expected if your graph generating binary is newer  than this binary. Unknown attributes will be ignored. NodeDef: {{node ParallelMapDatasetV2/_16}}\n",
      "2025-05-01 11:45:29.101204: E tensorflow/core/framework/node_def_util.cc:676] NodeDef mentions attribute use_unbounded_threadpool which is not in the op definition: Op<name=MapDataset; signature=input_dataset:variant, other_arguments: -> handle:variant; attr=f:func; attr=Targuments:list(type),min=0; attr=output_types:list(type),min=1; attr=output_shapes:list(shape),min=1; attr=use_inter_op_parallelism:bool,default=true; attr=preserve_cardinality:bool,default=false; attr=force_synchronous:bool,default=false; attr=metadata:string,default=\"\"> This may be expected if your graph generating binary is newer  than this binary. Unknown attributes will be ignored. NodeDef: {{node ParallelMapDatasetV2/_14}}\n"
     ]
    },
    {
     "name": "stdout",
     "output_type": "stream",
     "text": [
      "--- Fold 0 - root_mean_squared_log_error: 0.0611 - Time: 746.52 s\n"
     ]
    },
    {
     "name": "stderr",
     "output_type": "stream",
     "text": [
      "2025-05-01 11:45:35.857200: E tensorflow/core/framework/node_def_util.cc:676] NodeDef mentions attribute use_unbounded_threadpool which is not in the op definition: Op<name=MapDataset; signature=input_dataset:variant, other_arguments: -> handle:variant; attr=f:func; attr=Targuments:list(type),min=0; attr=output_types:list(type),min=1; attr=output_shapes:list(shape),min=1; attr=use_inter_op_parallelism:bool,default=true; attr=preserve_cardinality:bool,default=false; attr=force_synchronous:bool,default=false; attr=metadata:string,default=\"\"> This may be expected if your graph generating binary is newer  than this binary. Unknown attributes will be ignored. NodeDef: {{node ParallelMapDatasetV2/_16}}\n",
      "2025-05-01 11:45:42.040888: E tensorflow/core/framework/node_def_util.cc:676] NodeDef mentions attribute use_unbounded_threadpool which is not in the op definition: Op<name=MapDataset; signature=input_dataset:variant, other_arguments: -> handle:variant; attr=f:func; attr=Targuments:list(type),min=0; attr=output_types:list(type),min=1; attr=output_shapes:list(shape),min=1; attr=use_inter_op_parallelism:bool,default=true; attr=preserve_cardinality:bool,default=false; attr=force_synchronous:bool,default=false; attr=metadata:string,default=\"\"> This may be expected if your graph generating binary is newer  than this binary. Unknown attributes will be ignored. NodeDef: {{node ParallelMapDatasetV2/_16}}\n",
      "2025-05-01 11:48:36.864960: E tensorflow/core/framework/node_def_util.cc:676] NodeDef mentions attribute use_unbounded_threadpool which is not in the op definition: Op<name=MapDataset; signature=input_dataset:variant, other_arguments: -> handle:variant; attr=f:func; attr=Targuments:list(type),min=0; attr=output_types:list(type),min=1; attr=output_shapes:list(shape),min=1; attr=use_inter_op_parallelism:bool,default=true; attr=preserve_cardinality:bool,default=false; attr=force_synchronous:bool,default=false; attr=metadata:string,default=\"\"> This may be expected if your graph generating binary is newer  than this binary. Unknown attributes will be ignored. NodeDef: {{node ParallelMapDatasetV2/_16}}\n",
      "2025-05-01 11:48:43.058414: E tensorflow/core/framework/node_def_util.cc:676] NodeDef mentions attribute use_unbounded_threadpool which is not in the op definition: Op<name=MapDataset; signature=input_dataset:variant, other_arguments: -> handle:variant; attr=f:func; attr=Targuments:list(type),min=0; attr=output_types:list(type),min=1; attr=output_shapes:list(shape),min=1; attr=use_inter_op_parallelism:bool,default=true; attr=preserve_cardinality:bool,default=false; attr=force_synchronous:bool,default=false; attr=metadata:string,default=\"\"> This may be expected if your graph generating binary is newer  than this binary. Unknown attributes will be ignored. NodeDef: {{node ParallelMapDatasetV2/_16}}\n",
      "2025-05-01 11:50:44.599824: E tensorflow/core/framework/node_def_util.cc:676] NodeDef mentions attribute use_unbounded_threadpool which is not in the op definition: Op<name=MapDataset; signature=input_dataset:variant, other_arguments: -> handle:variant; attr=f:func; attr=Targuments:list(type),min=0; attr=output_types:list(type),min=1; attr=output_shapes:list(shape),min=1; attr=use_inter_op_parallelism:bool,default=true; attr=preserve_cardinality:bool,default=false; attr=force_synchronous:bool,default=false; attr=metadata:string,default=\"\"> This may be expected if your graph generating binary is newer  than this binary. Unknown attributes will be ignored. NodeDef: {{node ParallelMapDatasetV2/_16}}\n",
      "2025-05-01 11:50:51.548873: E tensorflow/core/framework/node_def_util.cc:676] NodeDef mentions attribute use_unbounded_threadpool which is not in the op definition: Op<name=MapDataset; signature=input_dataset:variant, other_arguments: -> handle:variant; attr=f:func; attr=Targuments:list(type),min=0; attr=output_types:list(type),min=1; attr=output_shapes:list(shape),min=1; attr=use_inter_op_parallelism:bool,default=true; attr=preserve_cardinality:bool,default=false; attr=force_synchronous:bool,default=false; attr=metadata:string,default=\"\"> This may be expected if your graph generating binary is newer  than this binary. Unknown attributes will be ignored. NodeDef: {{node ParallelMapDatasetV2/_16}}\n",
      "2025-05-01 11:51:44.245132: E tensorflow/core/framework/node_def_util.cc:676] NodeDef mentions attribute use_unbounded_threadpool which is not in the op definition: Op<name=MapDataset; signature=input_dataset:variant, other_arguments: -> handle:variant; attr=f:func; attr=Targuments:list(type),min=0; attr=output_types:list(type),min=1; attr=output_shapes:list(shape),min=1; attr=use_inter_op_parallelism:bool,default=true; attr=preserve_cardinality:bool,default=false; attr=force_synchronous:bool,default=false; attr=metadata:string,default=\"\"> This may be expected if your graph generating binary is newer  than this binary. Unknown attributes will be ignored. NodeDef: {{node ParallelMapDatasetV2/_16}}\n",
      "2025-05-01 11:51:51.373698: E tensorflow/core/framework/node_def_util.cc:676] NodeDef mentions attribute use_unbounded_threadpool which is not in the op definition: Op<name=MapDataset; signature=input_dataset:variant, other_arguments: -> handle:variant; attr=f:func; attr=Targuments:list(type),min=0; attr=output_types:list(type),min=1; attr=output_shapes:list(shape),min=1; attr=use_inter_op_parallelism:bool,default=true; attr=preserve_cardinality:bool,default=false; attr=force_synchronous:bool,default=false; attr=metadata:string,default=\"\"> This may be expected if your graph generating binary is newer  than this binary. Unknown attributes will be ignored. NodeDef: {{node ParallelMapDatasetV2/_16}}\n",
      "2025-05-01 11:53:32.431594: E tensorflow/core/framework/node_def_util.cc:676] NodeDef mentions attribute use_unbounded_threadpool which is not in the op definition: Op<name=MapDataset; signature=input_dataset:variant, other_arguments: -> handle:variant; attr=f:func; attr=Targuments:list(type),min=0; attr=output_types:list(type),min=1; attr=output_shapes:list(shape),min=1; attr=use_inter_op_parallelism:bool,default=true; attr=preserve_cardinality:bool,default=false; attr=force_synchronous:bool,default=false; attr=metadata:string,default=\"\"> This may be expected if your graph generating binary is newer  than this binary. Unknown attributes will be ignored. NodeDef: {{node ParallelMapDatasetV2/_16}}\n",
      "2025-05-01 11:53:38.702149: E tensorflow/core/framework/node_def_util.cc:676] NodeDef mentions attribute use_unbounded_threadpool which is not in the op definition: Op<name=MapDataset; signature=input_dataset:variant, other_arguments: -> handle:variant; attr=f:func; attr=Targuments:list(type),min=0; attr=output_types:list(type),min=1; attr=output_shapes:list(shape),min=1; attr=use_inter_op_parallelism:bool,default=true; attr=preserve_cardinality:bool,default=false; attr=force_synchronous:bool,default=false; attr=metadata:string,default=\"\"> This may be expected if your graph generating binary is newer  than this binary. Unknown attributes will be ignored. NodeDef: {{node ParallelMapDatasetV2/_16}}\n",
      "2025-05-01 11:54:51.247690: E tensorflow/core/framework/node_def_util.cc:676] NodeDef mentions attribute use_unbounded_threadpool which is not in the op definition: Op<name=MapDataset; signature=input_dataset:variant, other_arguments: -> handle:variant; attr=f:func; attr=Targuments:list(type),min=0; attr=output_types:list(type),min=1; attr=output_shapes:list(shape),min=1; attr=use_inter_op_parallelism:bool,default=true; attr=preserve_cardinality:bool,default=false; attr=force_synchronous:bool,default=false; attr=metadata:string,default=\"\"> This may be expected if your graph generating binary is newer  than this binary. Unknown attributes will be ignored. NodeDef: {{node ParallelMapDatasetV2/_14}}\n"
     ]
    },
    {
     "name": "stdout",
     "output_type": "stream",
     "text": [
      "--- Fold 1 - root_mean_squared_log_error: 0.0628 - Time: 561.45 s\n"
     ]
    },
    {
     "name": "stderr",
     "output_type": "stream",
     "text": [
      "2025-05-01 11:54:57.919431: E tensorflow/core/framework/node_def_util.cc:676] NodeDef mentions attribute use_unbounded_threadpool which is not in the op definition: Op<name=MapDataset; signature=input_dataset:variant, other_arguments: -> handle:variant; attr=f:func; attr=Targuments:list(type),min=0; attr=output_types:list(type),min=1; attr=output_shapes:list(shape),min=1; attr=use_inter_op_parallelism:bool,default=true; attr=preserve_cardinality:bool,default=false; attr=force_synchronous:bool,default=false; attr=metadata:string,default=\"\"> This may be expected if your graph generating binary is newer  than this binary. Unknown attributes will be ignored. NodeDef: {{node ParallelMapDatasetV2/_16}}\n",
      "2025-05-01 11:55:03.774982: E tensorflow/core/framework/node_def_util.cc:676] NodeDef mentions attribute use_unbounded_threadpool which is not in the op definition: Op<name=MapDataset; signature=input_dataset:variant, other_arguments: -> handle:variant; attr=f:func; attr=Targuments:list(type),min=0; attr=output_types:list(type),min=1; attr=output_shapes:list(shape),min=1; attr=use_inter_op_parallelism:bool,default=true; attr=preserve_cardinality:bool,default=false; attr=force_synchronous:bool,default=false; attr=metadata:string,default=\"\"> This may be expected if your graph generating binary is newer  than this binary. Unknown attributes will be ignored. NodeDef: {{node ParallelMapDatasetV2/_16}}\n",
      "2025-05-01 11:57:46.569599: E tensorflow/core/framework/node_def_util.cc:676] NodeDef mentions attribute use_unbounded_threadpool which is not in the op definition: Op<name=MapDataset; signature=input_dataset:variant, other_arguments: -> handle:variant; attr=f:func; attr=Targuments:list(type),min=0; attr=output_types:list(type),min=1; attr=output_shapes:list(shape),min=1; attr=use_inter_op_parallelism:bool,default=true; attr=preserve_cardinality:bool,default=false; attr=force_synchronous:bool,default=false; attr=metadata:string,default=\"\"> This may be expected if your graph generating binary is newer  than this binary. Unknown attributes will be ignored. NodeDef: {{node ParallelMapDatasetV2/_16}}\n",
      "2025-05-01 11:57:52.441644: E tensorflow/core/framework/node_def_util.cc:676] NodeDef mentions attribute use_unbounded_threadpool which is not in the op definition: Op<name=MapDataset; signature=input_dataset:variant, other_arguments: -> handle:variant; attr=f:func; attr=Targuments:list(type),min=0; attr=output_types:list(type),min=1; attr=output_shapes:list(shape),min=1; attr=use_inter_op_parallelism:bool,default=true; attr=preserve_cardinality:bool,default=false; attr=force_synchronous:bool,default=false; attr=metadata:string,default=\"\"> This may be expected if your graph generating binary is newer  than this binary. Unknown attributes will be ignored. NodeDef: {{node ParallelMapDatasetV2/_16}}\n",
      "2025-05-01 12:00:19.225123: E tensorflow/core/framework/node_def_util.cc:676] NodeDef mentions attribute use_unbounded_threadpool which is not in the op definition: Op<name=MapDataset; signature=input_dataset:variant, other_arguments: -> handle:variant; attr=f:func; attr=Targuments:list(type),min=0; attr=output_types:list(type),min=1; attr=output_shapes:list(shape),min=1; attr=use_inter_op_parallelism:bool,default=true; attr=preserve_cardinality:bool,default=false; attr=force_synchronous:bool,default=false; attr=metadata:string,default=\"\"> This may be expected if your graph generating binary is newer  than this binary. Unknown attributes will be ignored. NodeDef: {{node ParallelMapDatasetV2/_16}}\n",
      "2025-05-01 12:00:25.247605: E tensorflow/core/framework/node_def_util.cc:676] NodeDef mentions attribute use_unbounded_threadpool which is not in the op definition: Op<name=MapDataset; signature=input_dataset:variant, other_arguments: -> handle:variant; attr=f:func; attr=Targuments:list(type),min=0; attr=output_types:list(type),min=1; attr=output_shapes:list(shape),min=1; attr=use_inter_op_parallelism:bool,default=true; attr=preserve_cardinality:bool,default=false; attr=force_synchronous:bool,default=false; attr=metadata:string,default=\"\"> This may be expected if your graph generating binary is newer  than this binary. Unknown attributes will be ignored. NodeDef: {{node ParallelMapDatasetV2/_16}}\n",
      "2025-05-01 12:00:54.595635: E tensorflow/core/framework/node_def_util.cc:676] NodeDef mentions attribute use_unbounded_threadpool which is not in the op definition: Op<name=MapDataset; signature=input_dataset:variant, other_arguments: -> handle:variant; attr=f:func; attr=Targuments:list(type),min=0; attr=output_types:list(type),min=1; attr=output_shapes:list(shape),min=1; attr=use_inter_op_parallelism:bool,default=true; attr=preserve_cardinality:bool,default=false; attr=force_synchronous:bool,default=false; attr=metadata:string,default=\"\"> This may be expected if your graph generating binary is newer  than this binary. Unknown attributes will be ignored. NodeDef: {{node ParallelMapDatasetV2/_16}}\n",
      "2025-05-01 12:01:00.565907: E tensorflow/core/framework/node_def_util.cc:676] NodeDef mentions attribute use_unbounded_threadpool which is not in the op definition: Op<name=MapDataset; signature=input_dataset:variant, other_arguments: -> handle:variant; attr=f:func; attr=Targuments:list(type),min=0; attr=output_types:list(type),min=1; attr=output_shapes:list(shape),min=1; attr=use_inter_op_parallelism:bool,default=true; attr=preserve_cardinality:bool,default=false; attr=force_synchronous:bool,default=false; attr=metadata:string,default=\"\"> This may be expected if your graph generating binary is newer  than this binary. Unknown attributes will be ignored. NodeDef: {{node ParallelMapDatasetV2/_16}}\n",
      "2025-05-01 12:03:55.114106: E tensorflow/core/framework/node_def_util.cc:676] NodeDef mentions attribute use_unbounded_threadpool which is not in the op definition: Op<name=MapDataset; signature=input_dataset:variant, other_arguments: -> handle:variant; attr=f:func; attr=Targuments:list(type),min=0; attr=output_types:list(type),min=1; attr=output_shapes:list(shape),min=1; attr=use_inter_op_parallelism:bool,default=true; attr=preserve_cardinality:bool,default=false; attr=force_synchronous:bool,default=false; attr=metadata:string,default=\"\"> This may be expected if your graph generating binary is newer  than this binary. Unknown attributes will be ignored. NodeDef: {{node ParallelMapDatasetV2/_16}}\n",
      "2025-05-01 12:04:02.030934: E tensorflow/core/framework/node_def_util.cc:676] NodeDef mentions attribute use_unbounded_threadpool which is not in the op definition: Op<name=MapDataset; signature=input_dataset:variant, other_arguments: -> handle:variant; attr=f:func; attr=Targuments:list(type),min=0; attr=output_types:list(type),min=1; attr=output_shapes:list(shape),min=1; attr=use_inter_op_parallelism:bool,default=true; attr=preserve_cardinality:bool,default=false; attr=force_synchronous:bool,default=false; attr=metadata:string,default=\"\"> This may be expected if your graph generating binary is newer  than this binary. Unknown attributes will be ignored. NodeDef: {{node ParallelMapDatasetV2/_16}}\n",
      "2025-05-01 12:04:47.776413: E tensorflow/core/framework/node_def_util.cc:676] NodeDef mentions attribute use_unbounded_threadpool which is not in the op definition: Op<name=MapDataset; signature=input_dataset:variant, other_arguments: -> handle:variant; attr=f:func; attr=Targuments:list(type),min=0; attr=output_types:list(type),min=1; attr=output_shapes:list(shape),min=1; attr=use_inter_op_parallelism:bool,default=true; attr=preserve_cardinality:bool,default=false; attr=force_synchronous:bool,default=false; attr=metadata:string,default=\"\"> This may be expected if your graph generating binary is newer  than this binary. Unknown attributes will be ignored. NodeDef: {{node ParallelMapDatasetV2/_14}}\n"
     ]
    },
    {
     "name": "stdout",
     "output_type": "stream",
     "text": [
      "--- Fold 2 - root_mean_squared_log_error: 0.0621 - Time: 595.95 s\n"
     ]
    },
    {
     "name": "stderr",
     "output_type": "stream",
     "text": [
      "2025-05-01 12:04:54.640044: E tensorflow/core/framework/node_def_util.cc:676] NodeDef mentions attribute use_unbounded_threadpool which is not in the op definition: Op<name=MapDataset; signature=input_dataset:variant, other_arguments: -> handle:variant; attr=f:func; attr=Targuments:list(type),min=0; attr=output_types:list(type),min=1; attr=output_shapes:list(shape),min=1; attr=use_inter_op_parallelism:bool,default=true; attr=preserve_cardinality:bool,default=false; attr=force_synchronous:bool,default=false; attr=metadata:string,default=\"\"> This may be expected if your graph generating binary is newer  than this binary. Unknown attributes will be ignored. NodeDef: {{node ParallelMapDatasetV2/_16}}\n",
      "2025-05-01 12:05:00.564121: E tensorflow/core/framework/node_def_util.cc:676] NodeDef mentions attribute use_unbounded_threadpool which is not in the op definition: Op<name=MapDataset; signature=input_dataset:variant, other_arguments: -> handle:variant; attr=f:func; attr=Targuments:list(type),min=0; attr=output_types:list(type),min=1; attr=output_shapes:list(shape),min=1; attr=use_inter_op_parallelism:bool,default=true; attr=preserve_cardinality:bool,default=false; attr=force_synchronous:bool,default=false; attr=metadata:string,default=\"\"> This may be expected if your graph generating binary is newer  than this binary. Unknown attributes will be ignored. NodeDef: {{node ParallelMapDatasetV2/_16}}\n",
      "2025-05-01 12:07:46.358158: E tensorflow/core/framework/node_def_util.cc:676] NodeDef mentions attribute use_unbounded_threadpool which is not in the op definition: Op<name=MapDataset; signature=input_dataset:variant, other_arguments: -> handle:variant; attr=f:func; attr=Targuments:list(type),min=0; attr=output_types:list(type),min=1; attr=output_shapes:list(shape),min=1; attr=use_inter_op_parallelism:bool,default=true; attr=preserve_cardinality:bool,default=false; attr=force_synchronous:bool,default=false; attr=metadata:string,default=\"\"> This may be expected if your graph generating binary is newer  than this binary. Unknown attributes will be ignored. NodeDef: {{node ParallelMapDatasetV2/_16}}\n",
      "2025-05-01 12:07:52.831826: E tensorflow/core/framework/node_def_util.cc:676] NodeDef mentions attribute use_unbounded_threadpool which is not in the op definition: Op<name=MapDataset; signature=input_dataset:variant, other_arguments: -> handle:variant; attr=f:func; attr=Targuments:list(type),min=0; attr=output_types:list(type),min=1; attr=output_shapes:list(shape),min=1; attr=use_inter_op_parallelism:bool,default=true; attr=preserve_cardinality:bool,default=false; attr=force_synchronous:bool,default=false; attr=metadata:string,default=\"\"> This may be expected if your graph generating binary is newer  than this binary. Unknown attributes will be ignored. NodeDef: {{node ParallelMapDatasetV2/_16}}\n",
      "2025-05-01 12:10:50.429566: E tensorflow/core/framework/node_def_util.cc:676] NodeDef mentions attribute use_unbounded_threadpool which is not in the op definition: Op<name=MapDataset; signature=input_dataset:variant, other_arguments: -> handle:variant; attr=f:func; attr=Targuments:list(type),min=0; attr=output_types:list(type),min=1; attr=output_shapes:list(shape),min=1; attr=use_inter_op_parallelism:bool,default=true; attr=preserve_cardinality:bool,default=false; attr=force_synchronous:bool,default=false; attr=metadata:string,default=\"\"> This may be expected if your graph generating binary is newer  than this binary. Unknown attributes will be ignored. NodeDef: {{node ParallelMapDatasetV2/_16}}\n",
      "2025-05-01 12:10:56.674633: E tensorflow/core/framework/node_def_util.cc:676] NodeDef mentions attribute use_unbounded_threadpool which is not in the op definition: Op<name=MapDataset; signature=input_dataset:variant, other_arguments: -> handle:variant; attr=f:func; attr=Targuments:list(type),min=0; attr=output_types:list(type),min=1; attr=output_shapes:list(shape),min=1; attr=use_inter_op_parallelism:bool,default=true; attr=preserve_cardinality:bool,default=false; attr=force_synchronous:bool,default=false; attr=metadata:string,default=\"\"> This may be expected if your graph generating binary is newer  than this binary. Unknown attributes will be ignored. NodeDef: {{node ParallelMapDatasetV2/_16}}\n",
      "2025-05-01 12:13:22.618389: E tensorflow/core/framework/node_def_util.cc:676] NodeDef mentions attribute use_unbounded_threadpool which is not in the op definition: Op<name=MapDataset; signature=input_dataset:variant, other_arguments: -> handle:variant; attr=f:func; attr=Targuments:list(type),min=0; attr=output_types:list(type),min=1; attr=output_shapes:list(shape),min=1; attr=use_inter_op_parallelism:bool,default=true; attr=preserve_cardinality:bool,default=false; attr=force_synchronous:bool,default=false; attr=metadata:string,default=\"\"> This may be expected if your graph generating binary is newer  than this binary. Unknown attributes will be ignored. NodeDef: {{node ParallelMapDatasetV2/_16}}\n",
      "2025-05-01 12:13:29.399947: E tensorflow/core/framework/node_def_util.cc:676] NodeDef mentions attribute use_unbounded_threadpool which is not in the op definition: Op<name=MapDataset; signature=input_dataset:variant, other_arguments: -> handle:variant; attr=f:func; attr=Targuments:list(type),min=0; attr=output_types:list(type),min=1; attr=output_shapes:list(shape),min=1; attr=use_inter_op_parallelism:bool,default=true; attr=preserve_cardinality:bool,default=false; attr=force_synchronous:bool,default=false; attr=metadata:string,default=\"\"> This may be expected if your graph generating binary is newer  than this binary. Unknown attributes will be ignored. NodeDef: {{node ParallelMapDatasetV2/_16}}\n",
      "2025-05-01 12:15:17.861495: E tensorflow/core/framework/node_def_util.cc:676] NodeDef mentions attribute use_unbounded_threadpool which is not in the op definition: Op<name=MapDataset; signature=input_dataset:variant, other_arguments: -> handle:variant; attr=f:func; attr=Targuments:list(type),min=0; attr=output_types:list(type),min=1; attr=output_shapes:list(shape),min=1; attr=use_inter_op_parallelism:bool,default=true; attr=preserve_cardinality:bool,default=false; attr=force_synchronous:bool,default=false; attr=metadata:string,default=\"\"> This may be expected if your graph generating binary is newer  than this binary. Unknown attributes will be ignored. NodeDef: {{node ParallelMapDatasetV2/_16}}\n",
      "2025-05-01 12:15:25.320327: E tensorflow/core/framework/node_def_util.cc:676] NodeDef mentions attribute use_unbounded_threadpool which is not in the op definition: Op<name=MapDataset; signature=input_dataset:variant, other_arguments: -> handle:variant; attr=f:func; attr=Targuments:list(type),min=0; attr=output_types:list(type),min=1; attr=output_shapes:list(shape),min=1; attr=use_inter_op_parallelism:bool,default=true; attr=preserve_cardinality:bool,default=false; attr=force_synchronous:bool,default=false; attr=metadata:string,default=\"\"> This may be expected if your graph generating binary is newer  than this binary. Unknown attributes will be ignored. NodeDef: {{node ParallelMapDatasetV2/_16}}\n",
      "2025-05-01 12:18:06.739022: E tensorflow/core/framework/node_def_util.cc:676] NodeDef mentions attribute use_unbounded_threadpool which is not in the op definition: Op<name=MapDataset; signature=input_dataset:variant, other_arguments: -> handle:variant; attr=f:func; attr=Targuments:list(type),min=0; attr=output_types:list(type),min=1; attr=output_shapes:list(shape),min=1; attr=use_inter_op_parallelism:bool,default=true; attr=preserve_cardinality:bool,default=false; attr=force_synchronous:bool,default=false; attr=metadata:string,default=\"\"> This may be expected if your graph generating binary is newer  than this binary. Unknown attributes will be ignored. NodeDef: {{node ParallelMapDatasetV2/_14}}\n",
      "2025-05-01 12:18:11.953620: E tensorflow/core/framework/node_def_util.cc:676] NodeDef mentions attribute use_unbounded_threadpool which is not in the op definition: Op<name=MapDataset; signature=input_dataset:variant, other_arguments: -> handle:variant; attr=f:func; attr=Targuments:list(type),min=0; attr=output_types:list(type),min=1; attr=output_shapes:list(shape),min=1; attr=use_inter_op_parallelism:bool,default=true; attr=preserve_cardinality:bool,default=false; attr=force_synchronous:bool,default=false; attr=metadata:string,default=\"\"> This may be expected if your graph generating binary is newer  than this binary. Unknown attributes will be ignored. NodeDef: {{node ParallelMapDatasetV2/_14}}\n"
     ]
    },
    {
     "name": "stdout",
     "output_type": "stream",
     "text": [
      "--- Fold 3 - root_mean_squared_log_error: 0.0620 - Time: 799.20 s\n"
     ]
    },
    {
     "name": "stderr",
     "output_type": "stream",
     "text": [
      "2025-05-01 12:18:21.375169: E tensorflow/core/framework/node_def_util.cc:676] NodeDef mentions attribute use_unbounded_threadpool which is not in the op definition: Op<name=MapDataset; signature=input_dataset:variant, other_arguments: -> handle:variant; attr=f:func; attr=Targuments:list(type),min=0; attr=output_types:list(type),min=1; attr=output_shapes:list(shape),min=1; attr=use_inter_op_parallelism:bool,default=true; attr=preserve_cardinality:bool,default=false; attr=force_synchronous:bool,default=false; attr=metadata:string,default=\"\"> This may be expected if your graph generating binary is newer  than this binary. Unknown attributes will be ignored. NodeDef: {{node ParallelMapDatasetV2/_16}}\n",
      "2025-05-01 12:21:21.804202: E tensorflow/core/framework/node_def_util.cc:676] NodeDef mentions attribute use_unbounded_threadpool which is not in the op definition: Op<name=MapDataset; signature=input_dataset:variant, other_arguments: -> handle:variant; attr=f:func; attr=Targuments:list(type),min=0; attr=output_types:list(type),min=1; attr=output_shapes:list(shape),min=1; attr=use_inter_op_parallelism:bool,default=true; attr=preserve_cardinality:bool,default=false; attr=force_synchronous:bool,default=false; attr=metadata:string,default=\"\"> This may be expected if your graph generating binary is newer  than this binary. Unknown attributes will be ignored. NodeDef: {{node ParallelMapDatasetV2/_16}}\n",
      "2025-05-01 12:21:27.913358: E tensorflow/core/framework/node_def_util.cc:676] NodeDef mentions attribute use_unbounded_threadpool which is not in the op definition: Op<name=MapDataset; signature=input_dataset:variant, other_arguments: -> handle:variant; attr=f:func; attr=Targuments:list(type),min=0; attr=output_types:list(type),min=1; attr=output_shapes:list(shape),min=1; attr=use_inter_op_parallelism:bool,default=true; attr=preserve_cardinality:bool,default=false; attr=force_synchronous:bool,default=false; attr=metadata:string,default=\"\"> This may be expected if your graph generating binary is newer  than this binary. Unknown attributes will be ignored. NodeDef: {{node ParallelMapDatasetV2/_16}}\n",
      "2025-05-01 12:24:14.446557: E tensorflow/core/framework/node_def_util.cc:676] NodeDef mentions attribute use_unbounded_threadpool which is not in the op definition: Op<name=MapDataset; signature=input_dataset:variant, other_arguments: -> handle:variant; attr=f:func; attr=Targuments:list(type),min=0; attr=output_types:list(type),min=1; attr=output_shapes:list(shape),min=1; attr=use_inter_op_parallelism:bool,default=true; attr=preserve_cardinality:bool,default=false; attr=force_synchronous:bool,default=false; attr=metadata:string,default=\"\"> This may be expected if your graph generating binary is newer  than this binary. Unknown attributes will be ignored. NodeDef: {{node ParallelMapDatasetV2/_16}}\n",
      "2025-05-01 12:24:20.751360: E tensorflow/core/framework/node_def_util.cc:676] NodeDef mentions attribute use_unbounded_threadpool which is not in the op definition: Op<name=MapDataset; signature=input_dataset:variant, other_arguments: -> handle:variant; attr=f:func; attr=Targuments:list(type),min=0; attr=output_types:list(type),min=1; attr=output_shapes:list(shape),min=1; attr=use_inter_op_parallelism:bool,default=true; attr=preserve_cardinality:bool,default=false; attr=force_synchronous:bool,default=false; attr=metadata:string,default=\"\"> This may be expected if your graph generating binary is newer  than this binary. Unknown attributes will be ignored. NodeDef: {{node ParallelMapDatasetV2/_16}}\n",
      "2025-05-01 12:27:16.607314: E tensorflow/core/framework/node_def_util.cc:676] NodeDef mentions attribute use_unbounded_threadpool which is not in the op definition: Op<name=MapDataset; signature=input_dataset:variant, other_arguments: -> handle:variant; attr=f:func; attr=Targuments:list(type),min=0; attr=output_types:list(type),min=1; attr=output_shapes:list(shape),min=1; attr=use_inter_op_parallelism:bool,default=true; attr=preserve_cardinality:bool,default=false; attr=force_synchronous:bool,default=false; attr=metadata:string,default=\"\"> This may be expected if your graph generating binary is newer  than this binary. Unknown attributes will be ignored. NodeDef: {{node ParallelMapDatasetV2/_16}}\n",
      "2025-05-01 12:27:22.774149: E tensorflow/core/framework/node_def_util.cc:676] NodeDef mentions attribute use_unbounded_threadpool which is not in the op definition: Op<name=MapDataset; signature=input_dataset:variant, other_arguments: -> handle:variant; attr=f:func; attr=Targuments:list(type),min=0; attr=output_types:list(type),min=1; attr=output_shapes:list(shape),min=1; attr=use_inter_op_parallelism:bool,default=true; attr=preserve_cardinality:bool,default=false; attr=force_synchronous:bool,default=false; attr=metadata:string,default=\"\"> This may be expected if your graph generating binary is newer  than this binary. Unknown attributes will be ignored. NodeDef: {{node ParallelMapDatasetV2/_16}}\n",
      "2025-05-01 12:30:16.683496: E tensorflow/core/framework/node_def_util.cc:676] NodeDef mentions attribute use_unbounded_threadpool which is not in the op definition: Op<name=MapDataset; signature=input_dataset:variant, other_arguments: -> handle:variant; attr=f:func; attr=Targuments:list(type),min=0; attr=output_types:list(type),min=1; attr=output_shapes:list(shape),min=1; attr=use_inter_op_parallelism:bool,default=true; attr=preserve_cardinality:bool,default=false; attr=force_synchronous:bool,default=false; attr=metadata:string,default=\"\"> This may be expected if your graph generating binary is newer  than this binary. Unknown attributes will be ignored. NodeDef: {{node ParallelMapDatasetV2/_16}}\n",
      "2025-05-01 12:30:22.772570: E tensorflow/core/framework/node_def_util.cc:676] NodeDef mentions attribute use_unbounded_threadpool which is not in the op definition: Op<name=MapDataset; signature=input_dataset:variant, other_arguments: -> handle:variant; attr=f:func; attr=Targuments:list(type),min=0; attr=output_types:list(type),min=1; attr=output_shapes:list(shape),min=1; attr=use_inter_op_parallelism:bool,default=true; attr=preserve_cardinality:bool,default=false; attr=force_synchronous:bool,default=false; attr=metadata:string,default=\"\"> This may be expected if your graph generating binary is newer  than this binary. Unknown attributes will be ignored. NodeDef: {{node ParallelMapDatasetV2/_16}}\n",
      "2025-05-01 12:31:13.038698: E tensorflow/core/framework/node_def_util.cc:676] NodeDef mentions attribute use_unbounded_threadpool which is not in the op definition: Op<name=MapDataset; signature=input_dataset:variant, other_arguments: -> handle:variant; attr=f:func; attr=Targuments:list(type),min=0; attr=output_types:list(type),min=1; attr=output_shapes:list(shape),min=1; attr=use_inter_op_parallelism:bool,default=true; attr=preserve_cardinality:bool,default=false; attr=force_synchronous:bool,default=false; attr=metadata:string,default=\"\"> This may be expected if your graph generating binary is newer  than this binary. Unknown attributes will be ignored. NodeDef: {{node ParallelMapDatasetV2/_14}}\n"
     ]
    },
    {
     "name": "stdout",
     "output_type": "stream",
     "text": [
      "--- Fold 4 - root_mean_squared_log_error: 0.0611 - Time: 784.51 s\n",
      "\n",
      "------ Overall root_mean_squared_log_error: 0.0618 - Mean root_mean_squared_log_error: 0.0618 ± 0.0007 - Time: 3491.73 s\n"
     ]
    },
    {
     "name": "stderr",
     "output_type": "stream",
     "text": [
      "2025-05-01 12:31:20.069437: E tensorflow/core/framework/node_def_util.cc:676] NodeDef mentions attribute use_unbounded_threadpool which is not in the op definition: Op<name=MapDataset; signature=input_dataset:variant, other_arguments: -> handle:variant; attr=f:func; attr=Targuments:list(type),min=0; attr=output_types:list(type),min=1; attr=output_shapes:list(shape),min=1; attr=use_inter_op_parallelism:bool,default=true; attr=preserve_cardinality:bool,default=false; attr=force_synchronous:bool,default=false; attr=metadata:string,default=\"\"> This may be expected if your graph generating binary is newer  than this binary. Unknown attributes will be ignored. NodeDef: {{node ParallelMapDatasetV2/_14}}\n",
      "2025-05-01 12:31:25.168053: E tensorflow/core/framework/node_def_util.cc:676] NodeDef mentions attribute use_unbounded_threadpool which is not in the op definition: Op<name=MapDataset; signature=input_dataset:variant, other_arguments: -> handle:variant; attr=f:func; attr=Targuments:list(type),min=0; attr=output_types:list(type),min=1; attr=output_shapes:list(shape),min=1; attr=use_inter_op_parallelism:bool,default=true; attr=preserve_cardinality:bool,default=false; attr=force_synchronous:bool,default=false; attr=metadata:string,default=\"\"> This may be expected if your graph generating binary is newer  than this binary. Unknown attributes will be ignored. NodeDef: {{node ParallelMapDatasetV2/_14}}\n",
      "2025-05-01 12:31:31.797802: E tensorflow/core/framework/node_def_util.cc:676] NodeDef mentions attribute use_unbounded_threadpool which is not in the op definition: Op<name=MapDataset; signature=input_dataset:variant, other_arguments: -> handle:variant; attr=f:func; attr=Targuments:list(type),min=0; attr=output_types:list(type),min=1; attr=output_shapes:list(shape),min=1; attr=use_inter_op_parallelism:bool,default=true; attr=preserve_cardinality:bool,default=false; attr=force_synchronous:bool,default=false; attr=metadata:string,default=\"\"> This may be expected if your graph generating binary is newer  than this binary. Unknown attributes will be ignored. NodeDef: {{node ParallelMapDatasetV2/_14}}\n",
      "2025-05-01 12:31:36.953228: E tensorflow/core/framework/node_def_util.cc:676] NodeDef mentions attribute use_unbounded_threadpool which is not in the op definition: Op<name=MapDataset; signature=input_dataset:variant, other_arguments: -> handle:variant; attr=f:func; attr=Targuments:list(type),min=0; attr=output_types:list(type),min=1; attr=output_shapes:list(shape),min=1; attr=use_inter_op_parallelism:bool,default=true; attr=preserve_cardinality:bool,default=false; attr=force_synchronous:bool,default=false; attr=metadata:string,default=\"\"> This may be expected if your graph generating binary is newer  than this binary. Unknown attributes will be ignored. NodeDef: {{node ParallelMapDatasetV2/_14}}\n",
      "2025-05-01 12:31:42.036584: E tensorflow/core/framework/node_def_util.cc:676] NodeDef mentions attribute use_unbounded_threadpool which is not in the op definition: Op<name=MapDataset; signature=input_dataset:variant, other_arguments: -> handle:variant; attr=f:func; attr=Targuments:list(type),min=0; attr=output_types:list(type),min=1; attr=output_shapes:list(shape),min=1; attr=use_inter_op_parallelism:bool,default=true; attr=preserve_cardinality:bool,default=false; attr=force_synchronous:bool,default=false; attr=metadata:string,default=\"\"> This may be expected if your graph generating binary is newer  than this binary. Unknown attributes will be ignored. NodeDef: {{node ParallelMapDatasetV2/_14}}\n",
      "2025-05-01 12:31:47.358863: E tensorflow/core/framework/node_def_util.cc:676] NodeDef mentions attribute use_unbounded_threadpool which is not in the op definition: Op<name=MapDataset; signature=input_dataset:variant, other_arguments: -> handle:variant; attr=f:func; attr=Targuments:list(type),min=0; attr=output_types:list(type),min=1; attr=output_shapes:list(shape),min=1; attr=use_inter_op_parallelism:bool,default=true; attr=preserve_cardinality:bool,default=false; attr=force_synchronous:bool,default=false; attr=metadata:string,default=\"\"> This may be expected if your graph generating binary is newer  than this binary. Unknown attributes will be ignored. NodeDef: {{node ParallelMapDatasetV2/_14}}\n",
      "2025-05-01 12:31:52.595813: E tensorflow/core/framework/node_def_util.cc:676] NodeDef mentions attribute use_unbounded_threadpool which is not in the op definition: Op<name=MapDataset; signature=input_dataset:variant, other_arguments: -> handle:variant; attr=f:func; attr=Targuments:list(type),min=0; attr=output_types:list(type),min=1; attr=output_shapes:list(shape),min=1; attr=use_inter_op_parallelism:bool,default=true; attr=preserve_cardinality:bool,default=false; attr=force_synchronous:bool,default=false; attr=metadata:string,default=\"\"> This may be expected if your graph generating binary is newer  than this binary. Unknown attributes will be ignored. NodeDef: {{node ParallelMapDatasetV2/_14}}\n",
      "2025-05-01 12:31:57.665323: E tensorflow/core/framework/node_def_util.cc:676] NodeDef mentions attribute use_unbounded_threadpool which is not in the op definition: Op<name=MapDataset; signature=input_dataset:variant, other_arguments: -> handle:variant; attr=f:func; attr=Targuments:list(type),min=0; attr=output_types:list(type),min=1; attr=output_shapes:list(shape),min=1; attr=use_inter_op_parallelism:bool,default=true; attr=preserve_cardinality:bool,default=false; attr=force_synchronous:bool,default=false; attr=metadata:string,default=\"\"> This may be expected if your graph generating binary is newer  than this binary. Unknown attributes will be ignored. NodeDef: {{node ParallelMapDatasetV2/_14}}\n"
     ]
    }
   ],
   "source": [
    "nn_trainer = Trainer(\n",
    "    nn_bag,\n",
    "    cv=KFold(n_splits=CFG.n_folds, random_state=CFG.seed, shuffle=True),\n",
    "    metric=root_mean_squared_log_error,\n",
    "    task=\"regression\"\n",
    ")\n",
    "\n",
    "nn_trainer.fit(X, y)\n",
    "\n",
    "scores[\"KerasANN\"] = nn_trainer.fold_scores\n",
    "oof_preds[\"KerasANN\"] = nn_trainer.oof_preds\n",
    "test_preds[\"KerasANN\"] = nn_trainer.predict(X_test)"
   ]
  },
  {
   "cell_type": "markdown",
   "id": "8a74dd68",
   "metadata": {
    "papermill": {
     "duration": 0.024597,
     "end_time": "2025-05-01T12:32:02.576902",
     "exception": false,
     "start_time": "2025-05-01T12:32:02.552305",
     "status": "completed"
    },
    "tags": []
   },
   "source": [
    "# Ensembling with Ridge"
   ]
  },
  {
   "cell_type": "code",
   "execution_count": 23,
   "id": "b4626809",
   "metadata": {
    "_kg_hide-input": true,
    "execution": {
     "iopub.execute_input": "2025-05-01T12:32:02.632273Z",
     "iopub.status.busy": "2025-05-01T12:32:02.630776Z",
     "iopub.status.idle": "2025-05-01T12:32:02.642003Z",
     "shell.execute_reply": "2025-05-01T12:32:02.640022Z"
    },
    "papermill": {
     "duration": 0.040605,
     "end_time": "2025-05-01T12:32:02.644246",
     "exception": false,
     "start_time": "2025-05-01T12:32:02.603641",
     "status": "completed"
    },
    "tags": []
   },
   "outputs": [],
   "source": [
    "def plot_weights(weights, title):\n",
    "    sorted_indices = np.argsort(weights[0])[::-1]\n",
    "    sorted_coeffs = np.array(weights[0])[sorted_indices]\n",
    "    sorted_model_names = np.array(list(oof_preds.keys()))[sorted_indices]\n",
    "\n",
    "    plt.figure(figsize=(10, weights.shape[1] * 0.5))\n",
    "    ax = sns.barplot(x=sorted_coeffs, y=sorted_model_names, palette=\"RdYlGn_r\")\n",
    "\n",
    "    for i, (value, name) in enumerate(zip(sorted_coeffs, sorted_model_names)):\n",
    "        if value >= 0:\n",
    "            ax.text(value, i, f\"{value:.3f}\", va=\"center\", ha=\"left\", color=\"black\")\n",
    "        else:\n",
    "            ax.text(value, i, f\"{value:.3f}\", va=\"center\", ha=\"right\", color=\"black\")\n",
    "\n",
    "    xlim = ax.get_xlim()\n",
    "    ax.set_xlim(xlim[0] - 0.1 * abs(xlim[0]), xlim[1] + 0.1 * abs(xlim[1]))\n",
    "\n",
    "    plt.title(title)\n",
    "    plt.xlabel(\"\")\n",
    "    plt.ylabel(\"\")\n",
    "    plt.tight_layout()\n",
    "    plt.show()"
   ]
  },
  {
   "cell_type": "code",
   "execution_count": 24,
   "id": "1718b5a7",
   "metadata": {
    "execution": {
     "iopub.execute_input": "2025-05-01T12:32:02.702357Z",
     "iopub.status.busy": "2025-05-01T12:32:02.701939Z",
     "iopub.status.idle": "2025-05-01T12:32:02.725475Z",
     "shell.execute_reply": "2025-05-01T12:32:02.724161Z"
    },
    "papermill": {
     "duration": 0.054415,
     "end_time": "2025-05-01T12:32:02.727601",
     "exception": false,
     "start_time": "2025-05-01T12:32:02.673186",
     "status": "completed"
    },
    "tags": []
   },
   "outputs": [],
   "source": [
    "X = pd.DataFrame(oof_preds)\n",
    "X_test = pd.DataFrame(test_preds)"
   ]
  },
  {
   "cell_type": "code",
   "execution_count": 25,
   "id": "0bb64125",
   "metadata": {
    "_kg_hide-output": true,
    "execution": {
     "iopub.execute_input": "2025-05-01T12:32:02.782769Z",
     "iopub.status.busy": "2025-05-01T12:32:02.782316Z",
     "iopub.status.idle": "2025-05-01T12:54:13.075939Z",
     "shell.execute_reply": "2025-05-01T12:54:13.073699Z"
    },
    "papermill": {
     "duration": 1330.324697,
     "end_time": "2025-05-01T12:54:13.078537",
     "exception": false,
     "start_time": "2025-05-01T12:32:02.753840",
     "status": "completed"
    },
    "scrolled": true,
    "tags": []
   },
   "outputs": [
    {
     "name": "stderr",
     "output_type": "stream",
     "text": [
      "[I 2025-05-01 12:32:02,788] A new study created in memory with name: no-name-50e842b5-f359-4ef9-9300-12a72d39b331\n",
      "[I 2025-05-01 12:32:21,899] Trial 1 finished with value: 0.06021372154194561 and parameters: {'alpha': 0.8761434602311702, 'tol': 0.004074040233107818}. Best is trial 1 with value: 0.06021372154194561.\n",
      "[I 2025-05-01 12:32:21,911] Trial 2 finished with value: 0.06021372139073503 and parameters: {'alpha': 1.6766483011004174, 'tol': 0.0020618949071524438}. Best is trial 2 with value: 0.06021372139073503.\n",
      "[I 2025-05-01 12:32:21,913] Trial 0 finished with value: 0.06021372080640926 and parameters: {'alpha': 4.771097772232059, 'tol': 0.004190500325811632}. Best is trial 0 with value: 0.06021372080640926.\n",
      "[I 2025-05-01 12:32:21,915] Trial 3 finished with value: 0.0602137208276238 and parameters: {'alpha': 4.658726969326214, 'tol': 0.0020007753653906277}. Best is trial 0 with value: 0.06021372080640926.\n",
      "[I 2025-05-01 12:32:41,811] Trial 6 finished with value: 0.060213721223155714 and parameters: {'alpha': 2.5639396249460287, 'tol': 0.0051261851143042545}. Best is trial 0 with value: 0.06021372080640926.\n",
      "[I 2025-05-01 12:32:41,816] Trial 5 finished with value: 0.060213721660294206 and parameters: {'alpha': 0.2496903424334096, 'tol': 0.0011875805235697224}. Best is trial 0 with value: 0.06021372080640926.\n",
      "[I 2025-05-01 12:32:41,875] Trial 7 finished with value: 0.06021371993426182 and parameters: {'alpha': 9.392901669773599, 'tol': 0.008621101740201557}. Best is trial 7 with value: 0.06021371993426182.\n",
      "[I 2025-05-01 12:32:41,916] Trial 4 finished with value: 0.06021371999645614 and parameters: {'alpha': 9.063187746448019, 'tol': 0.004792802446118415}. Best is trial 7 with value: 0.06021371993426182.\n",
      "[I 2025-05-01 12:33:01,305] Trial 11 finished with value: 0.060213721527591364 and parameters: {'alpha': 0.9521344073189009, 'tol': 0.0045593641963338205}. Best is trial 7 with value: 0.06021371993426182.\n",
      "[I 2025-05-01 12:33:01,306] Trial 8 finished with value: 0.06021372057118751 and parameters: {'alpha': 6.017247348410671, 'tol': 0.0015602368248103103}. Best is trial 7 with value: 0.06021371993426182.\n",
      "[I 2025-05-01 12:33:01,309] Trial 9 finished with value: 0.060213720078399376 and parameters: {'alpha': 8.628809085481198, 'tol': 0.0076431945572478606}. Best is trial 7 with value: 0.06021371993426182.\n",
      "[I 2025-05-01 12:33:01,314] Trial 10 finished with value: 0.06021372107146254 and parameters: {'alpha': 3.367237845488135, 'tol': 0.00888758379890474}. Best is trial 7 with value: 0.06021371993426182.\n",
      "[I 2025-05-01 12:33:19,923] Trial 15 finished with value: 0.060213720121293786 and parameters: {'alpha': 8.401437620018879, 'tol': 0.005105510207832608}. Best is trial 7 with value: 0.06021371993426182.\n",
      "[I 2025-05-01 12:33:19,950] Trial 12 finished with value: 0.06021371994259729 and parameters: {'alpha': 9.348710676511837, 'tol': 0.004665621503793166}. Best is trial 7 with value: 0.06021371993426182.\n",
      "[I 2025-05-01 12:33:19,988] Trial 13 finished with value: 0.060213719970649816 and parameters: {'alpha': 9.1999908556763, 'tol': 0.0033841344490455907}. Best is trial 7 with value: 0.06021371993426182.\n",
      "[I 2025-05-01 12:33:19,989] Trial 14 finished with value: 0.06021371984510579 and parameters: {'alpha': 9.865579791218307, 'tol': 0.004162296380369705}. Best is trial 14 with value: 0.06021371984510579.\n",
      "[I 2025-05-01 12:33:39,440] Trial 17 finished with value: 0.06021372026637768 and parameters: {'alpha': 7.632466290441933, 'tol': 0.009743801440711256}. Best is trial 14 with value: 0.06021371984510579.\n",
      "[I 2025-05-01 12:33:42,686] Trial 16 finished with value: 0.060213719837563656 and parameters: {'alpha': 9.905561807330624, 'tol': 0.009766515916005091}. Best is trial 16 with value: 0.060213719837563656.\n",
      "[I 2025-05-01 12:33:42,692] Trial 19 finished with value: 0.0602137203744579 and parameters: {'alpha': 7.059688497279955, 'tol': 0.00999313403873486}. Best is trial 16 with value: 0.060213719837563656.\n",
      "[I 2025-05-01 12:33:42,797] Trial 18 finished with value: 0.06021372006781019 and parameters: {'alpha': 8.68493855154003, 'tol': 0.009214237888278038}. Best is trial 16 with value: 0.060213719837563656.\n",
      "[I 2025-05-01 12:33:59,887] Trial 20 finished with value: 0.060213720522925056 and parameters: {'alpha': 6.272969299816626, 'tol': 0.007218373747154751}. Best is trial 16 with value: 0.060213719837563656.\n",
      "[I 2025-05-01 12:34:03,109] Trial 21 finished with value: 0.06021371994166453 and parameters: {'alpha': 9.35365135171765, 'tol': 0.0012603782027992912}. Best is trial 16 with value: 0.060213719837563656.\n",
      "[I 2025-05-01 12:34:03,174] Trial 23 finished with value: 0.06021372077200397 and parameters: {'alpha': 4.953353036716963, 'tol': 0.006373840438606554}. Best is trial 16 with value: 0.060213719837563656.\n",
      "[I 2025-05-01 12:34:03,237] Trial 22 finished with value: 0.06021372051724204 and parameters: {'alpha': 6.303083231687429, 'tol': 0.006401661099640075}. Best is trial 16 with value: 0.060213719837563656.\n",
      "[I 2025-05-01 12:34:21,446] Trial 24 finished with value: 0.060213719844307186 and parameters: {'alpha': 9.869809914216171, 'tol': 0.00991431953755477}. Best is trial 16 with value: 0.060213719837563656.\n",
      "[I 2025-05-01 12:34:23,841] Trial 27 finished with value: 0.060213719871707726 and parameters: {'alpha': 9.724541956397186, 'tol': 0.008425124501609434}. Best is trial 16 with value: 0.060213719837563656.\n",
      "[I 2025-05-01 12:34:23,845] Trial 26 finished with value: 0.06021371986696444 and parameters: {'alpha': 9.749686421469491, 'tol': 0.008969696001378945}. Best is trial 16 with value: 0.060213719837563656.\n",
      "[I 2025-05-01 12:34:23,862] Trial 25 finished with value: 0.060213719923033523 and parameters: {'alpha': 9.452426379438032, 'tol': 0.008259889335347341}. Best is trial 16 with value: 0.060213719837563656.\n",
      "[I 2025-05-01 12:34:40,303] Trial 28 finished with value: 0.06021371983144083 and parameters: {'alpha': 9.938022905275915, 'tol': 0.009345008043990691}. Best is trial 28 with value: 0.06021371983144083.\n",
      "[I 2025-05-01 12:34:43,883] Trial 30 finished with value: 0.060213719984165075 and parameters: {'alpha': 9.128346487060904, 'tol': 0.00986607824756505}. Best is trial 28 with value: 0.06021371983144083.\n",
      "[I 2025-05-01 12:34:43,906] Trial 31 finished with value: 0.06021371987682372 and parameters: {'alpha': 9.697412975174162, 'tol': 0.00942217593332088}. Best is trial 28 with value: 0.06021371983144083.\n",
      "[I 2025-05-01 12:34:43,919] Trial 29 finished with value: 0.060213719908368483 and parameters: {'alpha': 9.530176257878642, 'tol': 0.009492631244310256}. Best is trial 28 with value: 0.06021371983144083.\n",
      "[I 2025-05-01 12:34:58,827] Trial 32 finished with value: 0.06021371983867791 and parameters: {'alpha': 9.899659215761837, 'tol': 0.009833344866553266}. Best is trial 28 with value: 0.06021371983144083.\n",
      "[I 2025-05-01 12:35:02,401] Trial 33 finished with value: 0.06021371986261498 and parameters: {'alpha': 9.772751521451692, 'tol': 0.009814503511582733}. Best is trial 28 with value: 0.06021371983144083.\n",
      "[I 2025-05-01 12:35:02,403] Trial 34 finished with value: 0.0602137198642541 and parameters: {'alpha': 9.764056433445537, 'tol': 0.00987454097635366}. Best is trial 28 with value: 0.06021371983144083.\n",
      "[I 2025-05-01 12:35:02,407] Trial 35 finished with value: 0.060213719864197816 and parameters: {'alpha': 9.76435298376667, 'tol': 0.009313158629017031}. Best is trial 28 with value: 0.06021371983144083.\n",
      "[I 2025-05-01 12:35:18,343] Trial 36 finished with value: 0.06021371983090229 and parameters: {'alpha': 9.940877476372993, 'tol': 0.0095393504589998}. Best is trial 36 with value: 0.06021371983090229.\n",
      "[I 2025-05-01 12:35:21,655] Trial 37 finished with value: 0.06021371983793362 and parameters: {'alpha': 9.903604902654825, 'tol': 0.009631209966326704}. Best is trial 36 with value: 0.06021371983090229.\n",
      "[I 2025-05-01 12:35:21,704] Trial 39 finished with value: 0.06021372029413598 and parameters: {'alpha': 7.485354948117392, 'tol': 0.00997141555244926}. Best is trial 36 with value: 0.06021371983090229.\n",
      "[I 2025-05-01 12:35:21,743] Trial 38 finished with value: 0.06021371982780054 and parameters: {'alpha': 9.95732723976931, 'tol': 0.009845940344726266}. Best is trial 38 with value: 0.06021371982780054.\n",
      "[I 2025-05-01 12:35:38,051] Trial 40 finished with value: 0.06021371983749817 and parameters: {'alpha': 9.905912332337078, 'tol': 0.008017663312472341}. Best is trial 38 with value: 0.06021371982780054.\n",
      "[I 2025-05-01 12:35:39,277] Trial 41 finished with value: 0.06021372003477534 and parameters: {'alpha': 8.86005002325648, 'tol': 0.006458277272359021}. Best is trial 38 with value: 0.06021371982780054.\n",
      "[I 2025-05-01 12:35:42,772] Trial 42 finished with value: 0.06021372164047122 and parameters: {'alpha': 0.3546151026754094, 'tol': 0.007947388515599663}. Best is trial 38 with value: 0.06021371982780054.\n",
      "[I 2025-05-01 12:35:42,774] Trial 43 finished with value: 0.060213719838794755 and parameters: {'alpha': 9.899040148436757, 'tol': 0.006915766386408395}. Best is trial 38 with value: 0.06021371982780054.\n",
      "[I 2025-05-01 12:35:57,881] Trial 44 finished with value: 0.06021372007441555 and parameters: {'alpha': 8.649926549643132, 'tol': 0.00672775598228045}. Best is trial 38 with value: 0.06021371982780054.\n",
      "[I 2025-05-01 12:36:01,267] Trial 45 finished with value: 0.060213721574024784 and parameters: {'alpha': 0.7063336031463683, 'tol': 0.008660158480140387}. Best is trial 38 with value: 0.06021371982780054.\n",
      "[I 2025-05-01 12:36:03,593] Trial 47 finished with value: 0.06021371993442824 and parameters: {'alpha': 9.392017274362125, 'tol': 0.007134956940127717}. Best is trial 38 with value: 0.06021371982780054.\n",
      "[I 2025-05-01 12:36:05,945] Trial 46 finished with value: 0.06021371984808586 and parameters: {'alpha': 9.849772885680254, 'tol': 0.007067141541999725}. Best is trial 38 with value: 0.06021371982780054.\n",
      "[I 2025-05-01 12:36:20,548] Trial 48 finished with value: 0.06021371986212547 and parameters: {'alpha': 9.775338998211204, 'tol': 0.007788460534540098}. Best is trial 38 with value: 0.06021371982780054.\n",
      "[I 2025-05-01 12:36:24,094] Trial 49 finished with value: 0.0602137210525329 and parameters: {'alpha': 3.4674870470978174, 'tol': 0.0001296344356769806}. Best is trial 38 with value: 0.06021371982780054.\n",
      "[I 2025-05-01 12:36:26,250] Trial 50 finished with value: 0.06021371984100912 and parameters: {'alpha': 9.887296055947626, 'tol': 0.007995432794442531}. Best is trial 38 with value: 0.06021371982780054.\n",
      "[I 2025-05-01 12:36:27,557] Trial 51 finished with value: 0.060213719908765014 and parameters: {'alpha': 9.528070517470129, 'tol': 0.0077481035080576716}. Best is trial 38 with value: 0.06021371982780054.\n",
      "[I 2025-05-01 12:36:44,736] Trial 52 finished with value: 0.06021371982289366 and parameters: {'alpha': 9.983344506592967, 'tol': 0.008527852440739135}. Best is trial 52 with value: 0.06021371982289366.\n",
      "[I 2025-05-01 12:36:47,131] Trial 53 finished with value: 0.06021372005644468 and parameters: {'alpha': 8.745190537090117, 'tol': 0.00847227705498161}. Best is trial 52 with value: 0.06021371982289366.\n",
      "[I 2025-05-01 12:36:49,465] Trial 54 finished with value: 0.06021371986526366 and parameters: {'alpha': 9.758700508945509, 'tol': 0.009958135118071459}. Best is trial 52 with value: 0.06021371982289366.\n",
      "[I 2025-05-01 12:36:50,724] Trial 55 finished with value: 0.060213719828300025 and parameters: {'alpha': 9.954682042982204, 'tol': 0.009459412911978276}. Best is trial 52 with value: 0.06021371982289366.\n",
      "[I 2025-05-01 12:37:08,079] Trial 56 finished with value: 0.06021372021035217 and parameters: {'alpha': 7.929403543993956, 'tol': 0.008297742326918977}. Best is trial 52 with value: 0.06021371982289366.\n",
      "[I 2025-05-01 12:37:11,649] Trial 58 finished with value: 0.06021372022533265 and parameters: {'alpha': 7.850003695437337, 'tol': 0.007585833058536296}. Best is trial 52 with value: 0.06021371982289366.\n",
      "[I 2025-05-01 12:37:11,682] Trial 57 finished with value: 0.060213719822585464 and parameters: {'alpha': 9.98497906167275, 'tol': 0.008417197686694472}. Best is trial 57 with value: 0.060213719822585464.\n",
      "[I 2025-05-01 12:37:12,975] Trial 59 finished with value: 0.060213719857804174 and parameters: {'alpha': 9.798247025267058, 'tol': 0.008296068213419414}. Best is trial 57 with value: 0.060213719822585464.\n",
      "[I 2025-05-01 12:37:30,526] Trial 60 finished with value: 0.06021372029669603 and parameters: {'alpha': 7.471782766992195, 'tol': 0.008556328066015598}. Best is trial 57 with value: 0.060213719822585464.\n",
      "[I 2025-05-01 12:37:34,084] Trial 62 finished with value: 0.06021371982785171 and parameters: {'alpha': 9.957059737385379, 'tol': 0.008447903630500221}. Best is trial 57 with value: 0.060213719822585464.\n",
      "[I 2025-05-01 12:37:34,089] Trial 63 finished with value: 0.06021372015342212 and parameters: {'alpha': 8.231144593562572, 'tol': 0.0088085073861015}. Best is trial 57 with value: 0.060213719822585464.\n",
      "[I 2025-05-01 12:37:34,117] Trial 61 finished with value: 0.0602137198317997 and parameters: {'alpha': 9.936129490539996, 'tol': 0.008717926591538288}. Best is trial 57 with value: 0.060213719822585464.\n",
      "[I 2025-05-01 12:37:51,678] Trial 64 finished with value: 0.06021371983508155 and parameters: {'alpha': 9.918723371823173, 'tol': 0.007611138402734798}. Best is trial 57 with value: 0.060213719822585464.\n",
      "[I 2025-05-01 12:37:55,082] Trial 66 finished with value: 0.060213719832557674 and parameters: {'alpha': 9.932111937820215, 'tol': 0.008277259075319782}. Best is trial 57 with value: 0.060213719822585464.\n",
      "[I 2025-05-01 12:37:55,088] Trial 67 finished with value: 0.06021371987177325 and parameters: {'alpha': 9.724192540052696, 'tol': 0.008702991870601938}. Best is trial 57 with value: 0.060213719822585464.\n",
      "[I 2025-05-01 12:37:55,092] Trial 65 finished with value: 0.06021371983790253 and parameters: {'alpha': 9.903763487702859, 'tol': 0.008499945318133086}. Best is trial 57 with value: 0.060213719822585464.\n",
      "[I 2025-05-01 12:38:12,403] Trial 68 finished with value: 0.06021372122305408 and parameters: {'alpha': 2.564473051287219, 'tol': 0.003186152822947929}. Best is trial 57 with value: 0.060213719822585464.\n",
      "[I 2025-05-01 12:38:15,988] Trial 70 finished with value: 0.06021372103209965 and parameters: {'alpha': 3.5757011537842724, 'tol': 0.0037175546572277953}. Best is trial 57 with value: 0.060213719822585464.\n",
      "[I 2025-05-01 12:38:15,996] Trial 71 finished with value: 0.060213720581044024 and parameters: {'alpha': 5.9650261552164165, 'tol': 0.0035520219671156877}. Best is trial 57 with value: 0.060213719822585464.\n",
      "[I 2025-05-01 12:38:16,047] Trial 69 finished with value: 0.06021372020884844 and parameters: {'alpha': 7.937366188737687, 'tol': 0.009985044905143613}. Best is trial 57 with value: 0.060213719822585464.\n",
      "[I 2025-05-01 12:38:33,344] Trial 72 finished with value: 0.06021371996683246 and parameters: {'alpha': 9.220224315414017, 'tol': 0.009987016810954541}. Best is trial 57 with value: 0.060213719822585464.\n",
      "[I 2025-05-01 12:38:36,886] Trial 75 finished with value: 0.0602137198199942 and parameters: {'alpha': 9.99871442082055, 'tol': 0.009117090469102631}. Best is trial 75 with value: 0.0602137198199942.\n",
      "[I 2025-05-01 12:38:36,889] Trial 74 finished with value: 0.060213720072602235 and parameters: {'alpha': 8.6595407377384, 'tol': 0.009551995900992295}. Best is trial 75 with value: 0.0602137198199942.\n",
      "[I 2025-05-01 12:38:36,890] Trial 73 finished with value: 0.06021372005825878 and parameters: {'alpha': 8.735568596612326, 'tol': 0.00991679718997899}. Best is trial 75 with value: 0.0602137198199942.\n",
      "[I 2025-05-01 12:38:54,077] Trial 76 finished with value: 0.06021371982295045 and parameters: {'alpha': 9.983043332618726, 'tol': 0.009831486674622695}. Best is trial 75 with value: 0.0602137198199942.\n",
      "[I 2025-05-01 12:38:57,593] Trial 79 finished with value: 0.060213719831049346 and parameters: {'alpha': 9.940103132083086, 'tol': 0.009293456098606656}. Best is trial 75 with value: 0.0602137198199942.\n",
      "[I 2025-05-01 12:38:57,610] Trial 77 finished with value: 0.06021371984924188 and parameters: {'alpha': 9.843643387947251, 'tol': 0.008609530379188936}. Best is trial 75 with value: 0.0602137198199942.\n",
      "[I 2025-05-01 12:38:57,637] Trial 78 finished with value: 0.060213719865570156 and parameters: {'alpha': 9.757079174104124, 'tol': 0.009175570105546456}. Best is trial 75 with value: 0.0602137198199942.\n",
      "[I 2025-05-01 12:39:14,913] Trial 80 finished with value: 0.06021371988683421 and parameters: {'alpha': 9.644337866275283, 'tol': 0.009139266364712614}. Best is trial 75 with value: 0.0602137198199942.\n",
      "[I 2025-05-01 12:39:17,355] Trial 81 finished with value: 0.060213719871158394 and parameters: {'alpha': 9.727449816387331, 'tol': 0.008646756456140096}. Best is trial 75 with value: 0.0602137198199942.\n",
      "[I 2025-05-01 12:39:17,358] Trial 83 finished with value: 0.06021371987167406 and parameters: {'alpha': 9.724715973814279, 'tol': 0.009968705148648374}. Best is trial 75 with value: 0.0602137198199942.\n",
      "[I 2025-05-01 12:39:18,487] Trial 82 finished with value: 0.060213719825941904 and parameters: {'alpha': 9.967185132058617, 'tol': 0.008516377132427297}. Best is trial 75 with value: 0.0602137198199942.\n",
      "[I 2025-05-01 12:39:36,172] Trial 84 finished with value: 0.06021371985994397 and parameters: {'alpha': 9.786905035837847, 'tol': 0.009625839188238994}. Best is trial 75 with value: 0.0602137198199942.\n",
      "[I 2025-05-01 12:39:37,481] Trial 85 finished with value: 0.06021371984438764 and parameters: {'alpha': 9.869388418389038, 'tol': 0.00887519867635131}. Best is trial 75 with value: 0.0602137198199942.\n",
      "[I 2025-05-01 12:39:40,876] Trial 87 finished with value: 0.0602137205851213 and parameters: {'alpha': 5.94342344642423, 'tol': 0.0002925955460920185}. Best is trial 75 with value: 0.0602137198199942.\n",
      "[I 2025-05-01 12:39:40,877] Trial 86 finished with value: 0.06021371982487083 and parameters: {'alpha': 9.972861570336331, 'tol': 0.00946855139943998}. Best is trial 75 with value: 0.0602137198199942.\n",
      "[I 2025-05-01 12:39:59,810] Trial 88 finished with value: 0.06021371982958774 and parameters: {'alpha': 9.947851127082469, 'tol': 0.00878364663022373}. Best is trial 75 with value: 0.0602137198199942.\n",
      "[I 2025-05-01 12:40:00,942] Trial 89 finished with value: 0.06021372020662915 and parameters: {'alpha': 7.949135094475148, 'tol': 0.008142438351147563}. Best is trial 75 with value: 0.0602137198199942.\n",
      "[I 2025-05-01 12:40:03,201] Trial 90 finished with value: 0.06021372014988637 and parameters: {'alpha': 8.249890198524986, 'tol': 0.007907908017215878}. Best is trial 75 with value: 0.0602137198199942.\n",
      "[I 2025-05-01 12:40:03,243] Trial 91 finished with value: 0.060213720136706075 and parameters: {'alpha': 8.319745832100796, 'tol': 0.007844202950515916}. Best is trial 75 with value: 0.0602137198199942.\n",
      "[I 2025-05-01 12:40:20,543] Trial 92 finished with value: 0.060213720149434435 and parameters: {'alpha': 8.252281552348407, 'tol': 0.007778132585094979}. Best is trial 75 with value: 0.0602137198199942.\n",
      "[I 2025-05-01 12:40:24,105] Trial 93 finished with value: 0.06021372155902533 and parameters: {'alpha': 0.7857352816403402, 'tol': 0.00023338250821093847}. Best is trial 75 with value: 0.0602137198199942.\n",
      "[I 2025-05-01 12:40:27,448] Trial 94 finished with value: 0.060213719834213836 and parameters: {'alpha': 9.923328470297761, 'tol': 0.009774217211262858}. Best is trial 75 with value: 0.0602137198199942.\n",
      "[I 2025-05-01 12:40:27,524] Trial 95 finished with value: 0.06021371983175471 and parameters: {'alpha': 9.93635820868659, 'tol': 0.007497488068773558}. Best is trial 75 with value: 0.0602137198199942.\n",
      "[I 2025-05-01 12:40:43,708] Trial 96 finished with value: 0.06021372076944577 and parameters: {'alpha': 4.966913472422185, 'tol': 0.009917745209533042}. Best is trial 75 with value: 0.0602137198199942.\n",
      "[I 2025-05-01 12:40:47,177] Trial 97 finished with value: 0.06021371982954973 and parameters: {'alpha': 9.948054572907374, 'tol': 0.009925419989809897}. Best is trial 75 with value: 0.0602137198199942.\n",
      "[I 2025-05-01 12:40:50,730] Trial 98 finished with value: 0.0602137210537454 and parameters: {'alpha': 3.4610600858523615, 'tol': 0.006968932346730793}. Best is trial 75 with value: 0.0602137198199942.\n",
      "[I 2025-05-01 12:40:50,734] Trial 99 finished with value: 0.06021371985464335 and parameters: {'alpha': 9.81501014717183, 'tol': 0.007734652615740464}. Best is trial 75 with value: 0.0602137198199942.\n",
      "[I 2025-05-01 12:41:06,183] Trial 100 finished with value: 0.06021371982880461 and parameters: {'alpha': 9.95200672374494, 'tol': 0.007267404883289149}. Best is trial 75 with value: 0.0602137198199942.\n",
      "[I 2025-05-01 12:41:07,256] Trial 101 finished with value: 0.06021371983160266 and parameters: {'alpha': 9.937169029007583, 'tol': 0.00994177865406086}. Best is trial 75 with value: 0.0602137198199942.\n",
      "[I 2025-05-01 12:41:14,025] Trial 103 finished with value: 0.0602137200616386 and parameters: {'alpha': 8.717655034587088, 'tol': 0.009651245850843785}. Best is trial 75 with value: 0.0602137198199942.\n",
      "[I 2025-05-01 12:41:14,058] Trial 102 finished with value: 0.06021372013633148 and parameters: {'alpha': 8.321730343312899, 'tol': 0.009924392758713034}. Best is trial 75 with value: 0.0602137198199942.\n",
      "[I 2025-05-01 12:41:29,328] Trial 104 finished with value: 0.0602137198576885 and parameters: {'alpha': 9.79886414862957, 'tol': 0.006814970528741136}. Best is trial 75 with value: 0.0602137198199942.\n",
      "[I 2025-05-01 12:41:30,561] Trial 105 finished with value: 0.06021371994542818 and parameters: {'alpha': 9.333704173221363, 'tol': 0.006656021659594379}. Best is trial 75 with value: 0.0602137198199942.\n",
      "[I 2025-05-01 12:41:37,427] Trial 107 finished with value: 0.06021371994555263 and parameters: {'alpha': 9.333039416787212, 'tol': 0.0066654163337226315}. Best is trial 75 with value: 0.0602137198199942.\n",
      "[I 2025-05-01 12:41:37,452] Trial 106 finished with value: 0.060213719836081155 and parameters: {'alpha': 9.91342467260463, 'tol': 0.007742233041519815}. Best is trial 75 with value: 0.0602137198199942.\n",
      "[I 2025-05-01 12:41:51,394] Trial 108 finished with value: 0.06021371981996745 and parameters: {'alpha': 9.998860571323196, 'tol': 0.006283068184338029}. Best is trial 108 with value: 0.06021371981996745.\n",
      "[I 2025-05-01 12:41:52,696] Trial 109 finished with value: 0.06021371985752292 and parameters: {'alpha': 9.799741748635782, 'tol': 0.007658110429640442}. Best is trial 108 with value: 0.06021371981996745.\n",
      "[I 2025-05-01 12:41:59,597] Trial 111 finished with value: 0.06021371985889821 and parameters: {'alpha': 9.792450569769443, 'tol': 0.008134898072208963}. Best is trial 108 with value: 0.06021371981996745.\n",
      "[I 2025-05-01 12:41:59,643] Trial 110 finished with value: 0.06021371985765105 and parameters: {'alpha': 9.799061133586354, 'tol': 0.008489592140719699}. Best is trial 108 with value: 0.06021371981996745.\n",
      "[I 2025-05-01 12:42:14,443] Trial 112 finished with value: 0.06021371986583675 and parameters: {'alpha': 9.755663242690153, 'tol': 0.005357904415507293}. Best is trial 108 with value: 0.06021371981996745.\n",
      "[I 2025-05-01 12:42:15,658] Trial 113 finished with value: 0.06021371982735573 and parameters: {'alpha': 9.95968658543236, 'tol': 0.006055514368134694}. Best is trial 108 with value: 0.06021371981996745.\n",
      "[I 2025-05-01 12:42:21,624] Trial 114 finished with value: 0.0602137199076354 and parameters: {'alpha': 9.534065460167065, 'tol': 0.009329691468876716}. Best is trial 108 with value: 0.06021371981996745.\n",
      "[I 2025-05-01 12:42:21,625] Trial 115 finished with value: 0.060213719850690406 and parameters: {'alpha': 9.835969179784225, 'tol': 0.004843799663243628}. Best is trial 108 with value: 0.06021371981996745.\n",
      "[I 2025-05-01 12:42:34,601] Trial 116 finished with value: 0.060213720181676526 and parameters: {'alpha': 8.08138720029427, 'tol': 0.005481759630241767}. Best is trial 108 with value: 0.06021371981996745.\n",
      "[I 2025-05-01 12:42:38,027] Trial 117 finished with value: 0.06021372009741827 and parameters: {'alpha': 8.527996683953068, 'tol': 0.005999164559476124}. Best is trial 108 with value: 0.06021371981996745.\n",
      "[I 2025-05-01 12:42:47,191] Trial 118 finished with value: 0.06021371991688282 and parameters: {'alpha': 9.485032436817953, 'tol': 0.005562048952519335}. Best is trial 108 with value: 0.06021371981996745.\n",
      "[I 2025-05-01 12:42:47,266] Trial 119 finished with value: 0.06021371988062097 and parameters: {'alpha': 9.677283118502167, 'tol': 0.005865373224249884}. Best is trial 108 with value: 0.06021371981996745.\n",
      "[I 2025-05-01 12:42:55,301] Trial 120 finished with value: 0.06021371988368716 and parameters: {'alpha': 9.661026498708377, 'tol': 0.00535318397223377}. Best is trial 108 with value: 0.06021371981996745.\n",
      "[I 2025-05-01 12:42:57,659] Trial 121 finished with value: 0.06021371994962707 and parameters: {'alpha': 9.311437887105962, 'tol': 0.0060780499962975465}. Best is trial 108 with value: 0.06021371981996745.\n",
      "[I 2025-05-01 12:43:05,815] Trial 122 finished with value: 0.06021371982298022 and parameters: {'alpha': 9.982890833489078, 'tol': 0.0053187953569833945}. Best is trial 108 with value: 0.06021371981996745.\n",
      "[I 2025-05-01 12:43:08,252] Trial 123 finished with value: 0.06021371982058671 and parameters: {'alpha': 9.99557409562603, 'tol': 0.0063641774276751864}. Best is trial 108 with value: 0.06021371981996745.\n",
      "[I 2025-05-01 12:43:17,492] Trial 124 finished with value: 0.060213719820830916 and parameters: {'alpha': 9.994284148006981, 'tol': 0.008531178773068212}. Best is trial 108 with value: 0.06021371981996745.\n",
      "[I 2025-05-01 12:43:19,747] Trial 125 finished with value: 0.060213719834803996 and parameters: {'alpha': 9.920199664087638, 'tol': 0.009536366734460096}. Best is trial 108 with value: 0.06021371981996745.\n",
      "[I 2025-05-01 12:43:27,641] Trial 126 finished with value: 0.06021371984603455 and parameters: {'alpha': 9.860654421167766, 'tol': 0.005405465682741779}. Best is trial 108 with value: 0.06021371981996745.\n",
      "[I 2025-05-01 12:43:29,950] Trial 127 finished with value: 0.06021372023279111 and parameters: {'alpha': 7.810470505512355, 'tol': 0.003513641656839355}. Best is trial 108 with value: 0.06021371981996745.\n",
      "[I 2025-05-01 12:43:41,242] Trial 128 finished with value: 0.06021371989820928 and parameters: {'alpha': 9.584035961733736, 'tol': 0.005643984946451837}. Best is trial 108 with value: 0.06021371981996745.\n",
      "[I 2025-05-01 12:43:43,593] Trial 129 finished with value: 0.06021372022062345 and parameters: {'alpha': 7.874964664142178, 'tol': 0.004297842734229902}. Best is trial 108 with value: 0.06021371981996745.\n",
      "[I 2025-05-01 12:43:50,420] Trial 130 finished with value: 0.06021371993572342 and parameters: {'alpha': 9.385151074131853, 'tol': 0.005986591775734979}. Best is trial 108 with value: 0.06021371981996745.\n",
      "[I 2025-05-01 12:43:51,665] Trial 131 finished with value: 0.060213719910138915 and parameters: {'alpha': 9.520785023009813, 'tol': 0.003972306144944118}. Best is trial 108 with value: 0.06021371981996745.\n",
      "[I 2025-05-01 12:44:02,045] Trial 132 finished with value: 0.06021371985782639 and parameters: {'alpha': 9.798134875818157, 'tol': 0.006507741317862315}. Best is trial 108 with value: 0.06021371981996745.\n",
      "[I 2025-05-01 12:44:05,480] Trial 133 finished with value: 0.060213719886172565 and parameters: {'alpha': 9.64785050818898, 'tol': 0.0034699750255244455}. Best is trial 108 with value: 0.06021371981996745.\n",
      "[I 2025-05-01 12:44:12,058] Trial 134 finished with value: 0.06021371986039675 and parameters: {'alpha': 9.784507942904394, 'tol': 0.008190901063931506}. Best is trial 108 with value: 0.06021371981996745.\n",
      "[I 2025-05-01 12:44:13,183] Trial 135 finished with value: 0.06021371986080899 and parameters: {'alpha': 9.782324291038146, 'tol': 0.00842145472243437}. Best is trial 108 with value: 0.06021371981996745.\n",
      "[I 2025-05-01 12:44:25,537] Trial 136 finished with value: 0.06021372014984842 and parameters: {'alpha': 8.25008514392551, 'tol': 0.008405888990706569}. Best is trial 108 with value: 0.06021371981996745.\n",
      "[I 2025-05-01 12:44:29,033] Trial 137 finished with value: 0.060213719819883056 and parameters: {'alpha': 9.999306800728691, 'tol': 0.0063510698401865445}. Best is trial 137 with value: 0.060213719819883056.\n",
      "[I 2025-05-01 12:44:32,530] Trial 138 finished with value: 0.060213720137350386 and parameters: {'alpha': 8.316333000593737, 'tol': 0.008198654089011246}. Best is trial 137 with value: 0.060213719819883056.\n",
      "[I 2025-05-01 12:44:35,874] Trial 139 finished with value: 0.06021372012894176 and parameters: {'alpha': 8.360900134308933, 'tol': 0.008121297796276137}. Best is trial 137 with value: 0.060213719819883056.\n",
      "[I 2025-05-01 12:44:49,674] Trial 140 finished with value: 0.06021371983035737 and parameters: {'alpha': 9.943775971539283, 'tol': 0.008305392105297602}. Best is trial 137 with value: 0.060213719819883056.\n",
      "[I 2025-05-01 12:44:53,404] Trial 141 finished with value: 0.06021372009073064 and parameters: {'alpha': 8.563444528927779, 'tol': 2.959925958564459e-06}. Best is trial 137 with value: 0.060213719819883056.\n",
      "[I 2025-05-01 12:44:55,755] Trial 142 finished with value: 0.060213720236813074 and parameters: {'alpha': 7.789162263544979, 'tol': 0.006149166290805346}. Best is trial 137 with value: 0.060213719819883056.\n",
      "[I 2025-05-01 12:44:56,889] Trial 143 finished with value: 0.060213719823019235 and parameters: {'alpha': 9.982676568496466, 'tol': 0.007099181835380242}. Best is trial 137 with value: 0.060213719819883056.\n",
      "[I 2025-05-01 12:45:11,438] Trial 144 finished with value: 0.060213719867177724 and parameters: {'alpha': 9.748554892371812, 'tol': 0.006387716265902308}. Best is trial 137 with value: 0.060213719819883056.\n",
      "[I 2025-05-01 12:45:15,221] Trial 145 finished with value: 0.06021371986143592 and parameters: {'alpha': 9.77899683205305, 'tol': 0.006831203557597272}. Best is trial 137 with value: 0.060213719819883056.\n",
      "[I 2025-05-01 12:45:17,579] Trial 146 finished with value: 0.06021371983509608 and parameters: {'alpha': 9.918644861284267, 'tol': 0.0068557343457411315}. Best is trial 137 with value: 0.060213719819883056.\n",
      "[I 2025-05-01 12:45:18,703] Trial 147 finished with value: 0.060213719842337796 and parameters: {'alpha': 9.880252122447992, 'tol': 0.0069743848530289705}. Best is trial 137 with value: 0.060213719819883056.\n",
      "[I 2025-05-01 12:45:33,105] Trial 148 finished with value: 0.06021371983925165 and parameters: {'alpha': 9.896618076818571, 'tol': 0.007291948937410059}. Best is trial 137 with value: 0.060213719819883056.\n",
      "[I 2025-05-01 12:45:36,843] Trial 149 finished with value: 0.060213719875260814 and parameters: {'alpha': 9.705707858431433, 'tol': 0.006767262715612472}. Best is trial 137 with value: 0.060213719819883056.\n",
      "[I 2025-05-01 12:45:36,849] Trial 150 finished with value: 0.0602137198496361 and parameters: {'alpha': 9.841555974704812, 'tol': 0.007473015427072419}. Best is trial 137 with value: 0.060213719819883056.\n",
      "[I 2025-05-01 12:45:39,353] Trial 151 finished with value: 0.06021371983139565 and parameters: {'alpha': 9.938264061449356, 'tol': 0.00798621242378593}. Best is trial 137 with value: 0.060213719819883056.\n",
      "[I 2025-05-01 12:45:57,599] Trial 152 finished with value: 0.060213719836699264 and parameters: {'alpha': 9.910147911913418, 'tol': 0.005783161869867979}. Best is trial 137 with value: 0.060213719819883056.\n",
      "[I 2025-05-01 12:46:01,186] Trial 155 finished with value: 0.060213719852322385 and parameters: {'alpha': 9.827311226862408, 'tol': 0.009057999017729123}. Best is trial 137 with value: 0.060213719819883056.\n",
      "[I 2025-05-01 12:46:01,188] Trial 153 finished with value: 0.06021371983576124 and parameters: {'alpha': 9.915117214337451, 'tol': 0.008081236801787111}. Best is trial 137 with value: 0.060213719819883056.\n",
      "[I 2025-05-01 12:46:01,230] Trial 154 finished with value: 0.060213720058155666 and parameters: {'alpha': 8.736121568715681, 'tol': 0.008667347064211175}. Best is trial 137 with value: 0.060213719819883056.\n",
      "[I 2025-05-01 12:46:17,321] Trial 156 finished with value: 0.060213719851946804 and parameters: {'alpha': 9.829307524066417, 'tol': 0.00999851042317462}. Best is trial 137 with value: 0.060213719819883056.\n",
      "[I 2025-05-01 12:46:18,522] Trial 158 finished with value: 0.06021371985957527 and parameters: {'alpha': 9.788859269857051, 'tol': 0.00997111184089223}. Best is trial 137 with value: 0.060213719819883056.\n",
      "[I 2025-05-01 12:46:18,533] Trial 157 finished with value: 0.06021372010770703 and parameters: {'alpha': 8.4734595953298, 'tol': 0.0090905610144386}. Best is trial 137 with value: 0.060213719819883056.\n",
      "[I 2025-05-01 12:46:20,857] Trial 159 finished with value: 0.06021371988859744 and parameters: {'alpha': 9.634989188344225, 'tol': 0.00959620554062251}. Best is trial 137 with value: 0.060213719819883056.\n",
      "[I 2025-05-01 12:46:38,378] Trial 160 finished with value: 0.060213720129674 and parameters: {'alpha': 8.357026727560138, 'tol': 0.009478488917453494}. Best is trial 137 with value: 0.060213719819883056.\n",
      "[I 2025-05-01 12:46:40,516] Trial 162 finished with value: 0.060213719822764446 and parameters: {'alpha': 9.984029810870233, 'tol': 0.008142275597668622}. Best is trial 137 with value: 0.060213719819883056.\n",
      "[I 2025-05-01 12:46:40,527] Trial 161 finished with value: 0.06021371984166837 and parameters: {'alpha': 9.883802769733675, 'tol': 0.008298919107431512}. Best is trial 137 with value: 0.060213719819883056.\n",
      "[I 2025-05-01 12:46:42,848] Trial 163 finished with value: 0.060213720219255126 and parameters: {'alpha': 7.882213710121808, 'tol': 0.006687209162405189}. Best is trial 137 with value: 0.060213719819883056.\n",
      "[I 2025-05-01 12:47:00,448] Trial 164 finished with value: 0.060213719848028535 and parameters: {'alpha': 9.850080188149722, 'tol': 0.005551483874577869}. Best is trial 137 with value: 0.060213719819883056.\n",
      "[I 2025-05-01 12:47:02,618] Trial 166 finished with value: 0.060213719850425416 and parameters: {'alpha': 9.837371113240032, 'tol': 0.005417024606865692}. Best is trial 137 with value: 0.060213719819883056.\n",
      "[I 2025-05-01 12:47:02,643] Trial 165 finished with value: 0.060213721362469795 and parameters: {'alpha': 1.8263002440832543, 'tol': 0.00619541956270626}. Best is trial 137 with value: 0.060213719819883056.\n",
      "[I 2025-05-01 12:47:03,867] Trial 167 finished with value: 0.06021371982828284 and parameters: {'alpha': 9.954776400041645, 'tol': 0.008527626158920235}. Best is trial 137 with value: 0.060213719819883056.\n",
      "[I 2025-05-01 12:47:22,328] Trial 168 finished with value: 0.060213719855904096 and parameters: {'alpha': 9.808324850830436, 'tol': 0.008587809519369497}. Best is trial 137 with value: 0.060213719819883056.\n",
      "[I 2025-05-01 12:47:24,628] Trial 169 finished with value: 0.06021371982436154 and parameters: {'alpha': 9.975557118536075, 'tol': 0.008172270022155047}. Best is trial 137 with value: 0.060213719819883056.\n",
      "[I 2025-05-01 12:47:24,630] Trial 170 finished with value: 0.06021371982562251 and parameters: {'alpha': 9.968872410869368, 'tol': 0.009120932117451526}. Best is trial 137 with value: 0.060213719819883056.\n",
      "[I 2025-05-01 12:47:25,801] Trial 171 finished with value: 0.06021372155528217 and parameters: {'alpha': 0.8055478243812617, 'tol': 0.0025512090208311767}. Best is trial 137 with value: 0.060213719819883056.\n",
      "[I 2025-05-01 12:47:42,854] Trial 172 finished with value: 0.06021372008172108 and parameters: {'alpha': 8.611200397780932, 'tol': 0.008331823938426764}. Best is trial 137 with value: 0.060213719819883056.\n",
      "[I 2025-05-01 12:47:46,362] Trial 175 finished with value: 0.06021371982542004 and parameters: {'alpha': 9.969948587693084, 'tol': 0.007654402795547365}. Best is trial 137 with value: 0.060213719819883056.\n",
      "[I 2025-05-01 12:47:46,366] Trial 174 finished with value: 0.0602137198273837 and parameters: {'alpha': 9.959536598440213, 'tol': 0.008605470181619904}. Best is trial 137 with value: 0.060213719819883056.\n",
      "[I 2025-05-01 12:47:46,386] Trial 173 finished with value: 0.06021371982930363 and parameters: {'alpha': 9.949359831623827, 'tol': 0.008432186311737373}. Best is trial 137 with value: 0.060213719819883056.\n",
      "[I 2025-05-01 12:48:03,177] Trial 176 finished with value: 0.06021371984282215 and parameters: {'alpha': 9.87768538928453, 'tol': 0.007988015773095776}. Best is trial 137 with value: 0.060213719819883056.\n",
      "[I 2025-05-01 12:48:06,686] Trial 178 finished with value: 0.06021372014662911 and parameters: {'alpha': 8.267148979716879, 'tol': 0.007124471617823215}. Best is trial 137 with value: 0.060213719819883056.\n",
      "[I 2025-05-01 12:48:06,687] Trial 179 finished with value: 0.06021371982969813 and parameters: {'alpha': 9.947268213065229, 'tol': 0.006502333928831644}. Best is trial 137 with value: 0.060213719819883056.\n",
      "[I 2025-05-01 12:48:06,705] Trial 177 finished with value: 0.0602137198204669 and parameters: {'alpha': 9.996212874189903, 'tol': 0.007790432964488269}. Best is trial 137 with value: 0.060213719819883056.\n",
      "[I 2025-05-01 12:48:24,010] Trial 180 finished with value: 0.06021371984469117 and parameters: {'alpha': 9.867776829533941, 'tol': 0.007859642069601658}. Best is trial 137 with value: 0.060213719819883056.\n",
      "[I 2025-05-01 12:48:27,552] Trial 181 finished with value: 0.06021371983249941 and parameters: {'alpha': 9.932413868531304, 'tol': 0.007498407774828146}. Best is trial 137 with value: 0.060213719819883056.\n",
      "[I 2025-05-01 12:48:27,576] Trial 183 finished with value: 0.060213720095823896 and parameters: {'alpha': 8.536446768529894, 'tol': 0.006892730402722201}. Best is trial 137 with value: 0.060213719819883056.\n",
      "[I 2025-05-01 12:48:27,620] Trial 182 finished with value: 0.060213720139151564 and parameters: {'alpha': 8.30678637471799, 'tol': 0.006828605606052827}. Best is trial 137 with value: 0.060213719819883056.\n",
      "[I 2025-05-01 12:48:47,144] Trial 184 finished with value: 0.060213720028625885 and parameters: {'alpha': 8.892650118063285, 'tol': 0.007275606022589384}. Best is trial 137 with value: 0.060213719819883056.\n",
      "[I 2025-05-01 12:48:49,408] Trial 185 finished with value: 0.06021372010971735 and parameters: {'alpha': 8.462803614358469, 'tol': 0.006750133669191526}. Best is trial 137 with value: 0.060213719819883056.\n",
      "[I 2025-05-01 12:48:49,418] Trial 187 finished with value: 0.06021371983003572 and parameters: {'alpha': 9.945474118510498, 'tol': 0.006200842508377061}. Best is trial 137 with value: 0.060213719819883056.\n",
      "[I 2025-05-01 12:48:50,729] Trial 186 finished with value: 0.06021371982675007 and parameters: {'alpha': 9.962892662733843, 'tol': 0.006397997898039182}. Best is trial 137 with value: 0.060213719819883056.\n",
      "[I 2025-05-01 12:49:09,604] Trial 188 finished with value: 0.06021371982237821 and parameters: {'alpha': 9.986078829114204, 'tol': 0.006905147772498165}. Best is trial 137 with value: 0.060213719819883056.\n",
      "[I 2025-05-01 12:49:10,774] Trial 190 finished with value: 0.06021371982058241 and parameters: {'alpha': 9.99559936674188, 'tol': 0.007799908351496455}. Best is trial 137 with value: 0.060213719819883056.\n",
      "[I 2025-05-01 12:49:12,048] Trial 189 finished with value: 0.06021371982988545 and parameters: {'alpha': 9.946274693152708, 'tol': 0.007989889699425838}. Best is trial 137 with value: 0.060213719819883056.\n",
      "[I 2025-05-01 12:49:13,218] Trial 191 finished with value: 0.060213719861214744 and parameters: {'alpha': 9.780173306168086, 'tol': 0.006768480005782113}. Best is trial 137 with value: 0.060213719819883056.\n",
      "[I 2025-05-01 12:49:31,354] Trial 192 finished with value: 0.06021371984580719 and parameters: {'alpha': 9.861856071917076, 'tol': 0.007183588618005883}. Best is trial 137 with value: 0.060213719819883056.\n",
      "[I 2025-05-01 12:49:31,357] Trial 193 finished with value: 0.06021371984523519 and parameters: {'alpha': 9.864888465403633, 'tol': 0.0074362815186003114}. Best is trial 137 with value: 0.060213719819883056.\n",
      "[I 2025-05-01 12:49:32,442] Trial 194 finished with value: 0.0602137198894562 and parameters: {'alpha': 9.630439391307469, 'tol': 0.006637922361542998}. Best is trial 137 with value: 0.060213719819883056.\n",
      "[I 2025-05-01 12:49:33,640] Trial 195 finished with value: 0.060213719839650195 and parameters: {'alpha': 9.894503258519212, 'tol': 0.006421463997450443}. Best is trial 137 with value: 0.060213719819883056.\n",
      "[I 2025-05-01 12:49:54,458] Trial 197 finished with value: 0.06021371984025175 and parameters: {'alpha': 9.891310889553594, 'tol': 0.007240566788427033}. Best is trial 137 with value: 0.060213719819883056.\n",
      "[I 2025-05-01 12:49:54,482] Trial 196 finished with value: 0.06021371982633421 and parameters: {'alpha': 9.965098666840163, 'tol': 0.006850219101322302}. Best is trial 137 with value: 0.060213719819883056.\n",
      "[I 2025-05-01 12:49:54,506] Trial 198 finished with value: 0.06021372006979249 and parameters: {'alpha': 8.674435791195105, 'tol': 0.00793401537272199}. Best is trial 137 with value: 0.060213719819883056.\n",
      "[I 2025-05-01 12:49:55,642] Trial 199 finished with value: 0.060213719830318355 and parameters: {'alpha': 9.943978095483667, 'tol': 0.007747828421582227}. Best is trial 137 with value: 0.060213719819883056.\n",
      "[I 2025-05-01 12:50:14,251] Trial 200 finished with value: 0.06021372128874878 and parameters: {'alpha': 2.2166290058229396, 'tol': 0.009566776401967948}. Best is trial 137 with value: 0.060213719819883056.\n",
      "[I 2025-05-01 12:50:14,258] Trial 201 finished with value: 0.06021372013615826 and parameters: {'alpha': 8.322654715039585, 'tol': 0.008383458208987771}. Best is trial 137 with value: 0.060213719819883056.\n",
      "[I 2025-05-01 12:50:14,292] Trial 202 finished with value: 0.060213720100218485 and parameters: {'alpha': 8.51315231857625, 'tol': 0.008464570718411422}. Best is trial 137 with value: 0.060213719819883056.\n",
      "[I 2025-05-01 12:50:15,467] Trial 203 finished with value: 0.06021372013646621 and parameters: {'alpha': 8.32101802895141, 'tol': 0.008334710534642423}. Best is trial 137 with value: 0.060213719819883056.\n",
      "[I 2025-05-01 12:50:34,165] Trial 205 finished with value: 0.06021371982236762 and parameters: {'alpha': 9.986135905945508, 'tol': 0.007310833791939749}. Best is trial 137 with value: 0.060213719819883056.\n",
      "[I 2025-05-01 12:50:34,168] Trial 206 finished with value: 0.06021371982215394 and parameters: {'alpha': 9.987269961203111, 'tol': 0.006533888240223659}. Best is trial 137 with value: 0.060213719819883056.\n",
      "[I 2025-05-01 12:50:34,184] Trial 204 finished with value: 0.060213719845734495 and parameters: {'alpha': 9.862239914834284, 'tol': 0.005513661188303954}. Best is trial 137 with value: 0.060213719819883056.\n",
      "[I 2025-05-01 12:50:35,551] Trial 207 finished with value: 0.06021371986288841 and parameters: {'alpha': 9.771294574260258, 'tol': 0.007196481897195827}. Best is trial 137 with value: 0.060213719819883056.\n",
      "[I 2025-05-01 12:50:53,307] Trial 209 finished with value: 0.06021371983950129 and parameters: {'alpha': 9.895294457038803, 'tol': 0.008482210728219109}. Best is trial 137 with value: 0.060213719819883056.\n",
      "[I 2025-05-01 12:50:53,308] Trial 208 finished with value: 0.060213719825490494 and parameters: {'alpha': 9.969575987482903, 'tol': 0.008309692836918412}. Best is trial 137 with value: 0.060213719819883056.\n",
      "[I 2025-05-01 12:50:53,330] Trial 210 finished with value: 0.060213719821277885 and parameters: {'alpha': 9.991908315690699, 'tol': 0.008051014531288135}. Best is trial 137 with value: 0.060213719819883056.\n",
      "[I 2025-05-01 12:50:54,591] Trial 211 finished with value: 0.06021371982252524 and parameters: {'alpha': 9.985298231481938, 'tol': 0.007817929398380845}. Best is trial 137 with value: 0.060213719819883056.\n",
      "[I 2025-05-01 12:51:15,247] Trial 214 finished with value: 0.06021371984693727 and parameters: {'alpha': 9.85586463727385, 'tol': 0.008962310181973337}. Best is trial 137 with value: 0.060213719819883056.\n",
      "[I 2025-05-01 12:51:15,249] Trial 212 finished with value: 0.060213719842634794 and parameters: {'alpha': 9.878677264102192, 'tol': 0.008447699132656122}. Best is trial 137 with value: 0.060213719819883056.\n",
      "[I 2025-05-01 12:51:15,285] Trial 213 finished with value: 0.060213719844872754 and parameters: {'alpha': 9.866818883779573, 'tol': 0.008500443780786807}. Best is trial 137 with value: 0.060213719819883056.\n",
      "[I 2025-05-01 12:51:16,576] Trial 215 finished with value: 0.060213720104366084 and parameters: {'alpha': 8.491161708101892, 'tol': 0.007624323580568127}. Best is trial 137 with value: 0.060213719819883056.\n",
      "[I 2025-05-01 12:51:36,454] Trial 216 finished with value: 0.06021371983805408 and parameters: {'alpha': 9.902962238833425, 'tol': 0.007357174736130117}. Best is trial 137 with value: 0.060213719819883056.\n",
      "[I 2025-05-01 12:51:36,465] Trial 218 finished with value: 0.06021371983231595 and parameters: {'alpha': 9.933386290277829, 'tol': 0.007228515804257833}. Best is trial 137 with value: 0.060213719819883056.\n",
      "[I 2025-05-01 12:51:36,474] Trial 217 finished with value: 0.06021371982585004 and parameters: {'alpha': 9.96766520209465, 'tol': 0.007374305926174741}. Best is trial 137 with value: 0.060213719819883056.\n",
      "[I 2025-05-01 12:51:37,746] Trial 219 finished with value: 0.06021372005641076 and parameters: {'alpha': 8.74536380268719, 'tol': 0.007054832289834517}. Best is trial 137 with value: 0.060213719819883056.\n",
      "[I 2025-05-01 12:51:58,519] Trial 220 finished with value: 0.060213719865835263 and parameters: {'alpha': 9.755671629506365, 'tol': 0.007453162251200726}. Best is trial 137 with value: 0.060213719819883056.\n",
      "[I 2025-05-01 12:51:58,522] Trial 221 finished with value: 0.06021372014915655 and parameters: {'alpha': 8.253756829297823, 'tol': 0.005366890530402442}. Best is trial 137 with value: 0.060213719819883056.\n",
      "[I 2025-05-01 12:51:58,550] Trial 223 finished with value: 0.060213719841354846 and parameters: {'alpha': 9.885461671851976, 'tol': 0.0075516398395185395}. Best is trial 137 with value: 0.060213719819883056.\n",
      "[I 2025-05-01 12:51:58,572] Trial 222 finished with value: 0.06021372014175597 and parameters: {'alpha': 8.292982533119032, 'tol': 0.006706483754892098}. Best is trial 137 with value: 0.060213719819883056.\n",
      "[I 2025-05-01 12:52:18,062] Trial 226 finished with value: 0.06021371984295083 and parameters: {'alpha': 9.877002055453282, 'tol': 0.00893916542984522}. Best is trial 137 with value: 0.060213719819883056.\n",
      "[I 2025-05-01 12:52:18,071] Trial 224 finished with value: 0.06021371982006392 and parameters: {'alpha': 9.998343400124114, 'tol': 0.008070261288391424}. Best is trial 137 with value: 0.060213719819883056.\n",
      "[I 2025-05-01 12:52:18,088] Trial 227 finished with value: 0.060213719823229615 and parameters: {'alpha': 9.981565146352596, 'tol': 0.009410306987007051}. Best is trial 137 with value: 0.060213719819883056.\n",
      "[I 2025-05-01 12:52:18,099] Trial 225 finished with value: 0.06021371986301217 and parameters: {'alpha': 9.770638734826319, 'tol': 0.00886533603634119}. Best is trial 137 with value: 0.060213719819883056.\n",
      "[I 2025-05-01 12:52:38,800] Trial 229 finished with value: 0.06021372008814282 and parameters: {'alpha': 8.577161492485665, 'tol': 0.008013200680037566}. Best is trial 137 with value: 0.060213719819883056.\n",
      "[I 2025-05-01 12:52:38,833] Trial 228 finished with value: 0.06021371982693538 and parameters: {'alpha': 9.961914836119954, 'tol': 0.008135741297127042}. Best is trial 137 with value: 0.060213719819883056.\n",
      "[I 2025-05-01 12:52:38,838] Trial 230 finished with value: 0.06021371982725804 and parameters: {'alpha': 9.96020042673115, 'tol': 0.0053739263140941155}. Best is trial 137 with value: 0.060213719819883056.\n",
      "[I 2025-05-01 12:52:38,839] Trial 231 finished with value: 0.06021371982988835 and parameters: {'alpha': 9.946258608087955, 'tol': 0.008355320597783985}. Best is trial 137 with value: 0.060213719819883056.\n",
      "[I 2025-05-01 12:53:00,020] Trial 235 finished with value: 0.06021371982003682 and parameters: {'alpha': 9.998486615222218, 'tol': 0.007747972961566373}. Best is trial 137 with value: 0.060213719819883056.\n",
      "[I 2025-05-01 12:53:00,023] Trial 232 finished with value: 0.060213719832828284 and parameters: {'alpha': 9.930673575336414, 'tol': 0.009048206091682599}. Best is trial 137 with value: 0.060213719819883056.\n",
      "[I 2025-05-01 12:53:00,033] Trial 234 finished with value: 0.060213719836901755 and parameters: {'alpha': 9.909075814128053, 'tol': 0.008737216619383656}. Best is trial 137 with value: 0.060213719819883056.\n",
      "[I 2025-05-01 12:53:00,045] Trial 233 finished with value: 0.06021372005487831 and parameters: {'alpha': 8.753484199629233, 'tol': 0.00862116693158017}. Best is trial 137 with value: 0.060213719819883056.\n",
      "[I 2025-05-01 12:53:21,562] Trial 237 finished with value: 0.060213720100938596 and parameters: {'alpha': 8.509333610500397, 'tol': 0.00786574927705037}. Best is trial 137 with value: 0.060213719819883056.\n",
      "[I 2025-05-01 12:53:21,565] Trial 236 finished with value: 0.06021371984203051 and parameters: {'alpha': 9.881881337862392, 'tol': 0.007271994479750439}. Best is trial 137 with value: 0.060213719819883056.\n",
      "[I 2025-05-01 12:53:21,566] Trial 238 finished with value: 0.06021371984471037 and parameters: {'alpha': 9.86767534575826, 'tol': 0.006818093722407029}. Best is trial 137 with value: 0.060213719819883056.\n",
      "[I 2025-05-01 12:53:21,571] Trial 239 finished with value: 0.06021371985495094 and parameters: {'alpha': 9.813378143768066, 'tol': 0.006188637294828488}. Best is trial 137 with value: 0.060213719819883056.\n",
      "[I 2025-05-01 12:53:40,499] Trial 241 finished with value: 0.060213719828837074 and parameters: {'alpha': 9.951833272686859, 'tol': 0.0068217992657307915}. Best is trial 137 with value: 0.060213719819883056.\n",
      "[I 2025-05-01 12:53:40,513] Trial 240 finished with value: 0.06021372008000768 and parameters: {'alpha': 8.620281338398511, 'tol': 0.0060350607591775265}. Best is trial 137 with value: 0.060213719819883056.\n",
      "[I 2025-05-01 12:53:40,526] Trial 243 finished with value: 0.06021372007061265 and parameters: {'alpha': 8.670086098162626, 'tol': 0.007407846705798037}. Best is trial 137 with value: 0.060213719819883056.\n",
      "[I 2025-05-01 12:53:40,527] Trial 242 finished with value: 0.06021371983259958 and parameters: {'alpha': 9.931880245991993, 'tol': 0.006993242175848908}. Best is trial 137 with value: 0.060213719819883056.\n",
      "[I 2025-05-01 12:54:01,821] Trial 247 finished with value: 0.060213719822558076 and parameters: {'alpha': 9.985121951655376, 'tol': 0.007441890361821896}. Best is trial 137 with value: 0.060213719819883056.\n",
      "[I 2025-05-01 12:54:01,823] Trial 246 finished with value: 0.06021372068166112 and parameters: {'alpha': 5.431948381494805, 'tol': 0.008105957954588086}. Best is trial 137 with value: 0.060213719819883056.\n",
      "[I 2025-05-01 12:54:01,843] Trial 245 finished with value: 0.06021372004193551 and parameters: {'alpha': 8.822100113187812, 'tol': 0.00812875993902748}. Best is trial 137 with value: 0.060213719819883056.\n",
      "[I 2025-05-01 12:54:01,856] Trial 244 finished with value: 0.06021371983717062 and parameters: {'alpha': 9.907647823910125, 'tol': 0.007872611441517524}. Best is trial 137 with value: 0.060213719819883056.\n",
      "[I 2025-05-01 12:54:13,053] Trial 249 finished with value: 0.06021371983198793 and parameters: {'alpha': 9.935129373383605, 'tol': 0.009894889026653418}. Best is trial 137 with value: 0.060213719819883056.\n",
      "[I 2025-05-01 12:54:13,065] Trial 248 finished with value: 0.060213719833860084 and parameters: {'alpha': 9.925200095535677, 'tol': 0.007262646829576801}. Best is trial 137 with value: 0.060213719819883056.\n"
     ]
    }
   ],
   "source": [
    "def objective(trial):    \n",
    "    params = {\n",
    "        \"random_state\": CFG.seed,\n",
    "        \"alpha\": trial.suggest_float(\"alpha\", 0, 10),\n",
    "        \"tol\": trial.suggest_float(\"tol\", 1e-6, 1e-2)\n",
    "    }\n",
    "    \n",
    "    trainer = Trainer(\n",
    "        Ridge(**params),\n",
    "        cv=KFold(n_splits=CFG.n_folds, random_state=CFG.seed, shuffle=True),\n",
    "        metric=CFG.metric,\n",
    "        task=\"regression\",\n",
    "        verbose=False\n",
    "    )\n",
    "    trainer.fit(X, y)\n",
    "    \n",
    "    return trainer.overall_score\n",
    "\n",
    "if CFG.run_optuna:\n",
    "    sampler = optuna.samplers.TPESampler(seed=CFG.seed, multivariate=True)\n",
    "    study = optuna.create_study(direction=\"minimize\", sampler=sampler)\n",
    "    study.optimize(objective, n_trials=CFG.n_optuna_trials, n_jobs=-1, catch=(ValueError,))\n",
    "    best_params = study.best_params\n",
    "\n",
    "    ridge_params = {\n",
    "        \"random_state\": CFG.seed,\n",
    "        \"alpha\": best_params[\"alpha\"],\n",
    "        \"tol\": best_params[\"tol\"]\n",
    "    }\n",
    "else:\n",
    "    ridge_params = {\n",
    "        \"random_state\": CFG.seed\n",
    "    }"
   ]
  },
  {
   "cell_type": "code",
   "execution_count": 26,
   "id": "8ba20f1a",
   "metadata": {
    "execution": {
     "iopub.execute_input": "2025-05-01T12:54:13.163434Z",
     "iopub.status.busy": "2025-05-01T12:54:13.162985Z",
     "iopub.status.idle": "2025-05-01T12:54:13.168943Z",
     "shell.execute_reply": "2025-05-01T12:54:13.167622Z"
    },
    "papermill": {
     "duration": 0.048944,
     "end_time": "2025-05-01T12:54:13.171025",
     "exception": false,
     "start_time": "2025-05-01T12:54:13.122081",
     "status": "completed"
    },
    "tags": []
   },
   "outputs": [
    {
     "name": "stdout",
     "output_type": "stream",
     "text": [
      "{\n",
      "  \"random_state\": 42,\n",
      "  \"alpha\": 9.999306800728691,\n",
      "  \"tol\": 0.0063510698401865445\n",
      "}\n"
     ]
    }
   ],
   "source": [
    "print(json.dumps(ridge_params, indent=2))"
   ]
  },
  {
   "cell_type": "code",
   "execution_count": 27,
   "id": "af5f16f6",
   "metadata": {
    "execution": {
     "iopub.execute_input": "2025-05-01T12:54:13.253970Z",
     "iopub.status.busy": "2025-05-01T12:54:13.253519Z",
     "iopub.status.idle": "2025-05-01T12:54:19.826321Z",
     "shell.execute_reply": "2025-05-01T12:54:19.823764Z"
    },
    "papermill": {
     "duration": 6.618758,
     "end_time": "2025-05-01T12:54:19.830474",
     "exception": false,
     "start_time": "2025-05-01T12:54:13.211716",
     "status": "completed"
    },
    "tags": []
   },
   "outputs": [
    {
     "name": "stdout",
     "output_type": "stream",
     "text": [
      "Training Ridge\n",
      "\n",
      "--- Fold 0 - root_mean_squared_log_error: 0.0598 - Time: 0.15 s\n",
      "--- Fold 1 - root_mean_squared_log_error: 0.0606 - Time: 0.14 s\n",
      "--- Fold 2 - root_mean_squared_log_error: 0.0597 - Time: 0.14 s\n",
      "--- Fold 3 - root_mean_squared_log_error: 0.0610 - Time: 0.13 s\n",
      "--- Fold 4 - root_mean_squared_log_error: 0.0599 - Time: 0.19 s\n",
      "\n",
      "------ Overall root_mean_squared_log_error: 0.0602 - Mean root_mean_squared_log_error: 0.0602 ± 0.0005 - Time: 6.52 s\n"
     ]
    }
   ],
   "source": [
    "ridge_trainer = Trainer(\n",
    "    Ridge(**ridge_params),\n",
    "    cv=KFold(n_splits=CFG.n_folds, random_state=CFG.seed, shuffle=True),\n",
    "    metric=CFG.metric,\n",
    "    task=\"regression\"\n",
    ")\n",
    "\n",
    "ridge_trainer.fit(X, y)\n",
    "\n",
    "scores[\"Ridge (ensemble)\"] = ridge_trainer.fold_scores\n",
    "ridge_test_preds = ridge_trainer.predict(X_test)"
   ]
  },
  {
   "cell_type": "code",
   "execution_count": 28,
   "id": "88a3be1e",
   "metadata": {
    "execution": {
     "iopub.execute_input": "2025-05-01T12:54:19.960951Z",
     "iopub.status.busy": "2025-05-01T12:54:19.959215Z",
     "iopub.status.idle": "2025-05-01T12:54:20.389421Z",
     "shell.execute_reply": "2025-05-01T12:54:20.387648Z"
    },
    "papermill": {
     "duration": 0.492023,
     "end_time": "2025-05-01T12:54:20.391626",
     "exception": false,
     "start_time": "2025-05-01T12:54:19.899603",
     "status": "completed"
    },
    "tags": []
   },
   "outputs": [
    {
     "data": {
      "image/png": "[encoded data removed]",
      "text/plain": [
       "<Figure size 1000x350 with 1 Axes>"
      ]
     },
     "metadata": {},
     "output_type": "display_data"
    }
   ],
   "source": [
    "ridge_coeffs = np.zeros((1, X.shape[1]))\n",
    "for m in ridge_trainer.estimators:\n",
    "    ridge_coeffs += m.coef_\n",
    "ridge_coeffs = ridge_coeffs / len(ridge_trainer.estimators)\n",
    "\n",
    "plot_weights(ridge_coeffs, \"Ridge Coefficients\")"
   ]
  },
  {
   "cell_type": "markdown",
   "id": "c94957aa",
   "metadata": {
    "papermill": {
     "duration": 0.044566,
     "end_time": "2025-05-01T12:54:20.481188",
     "exception": false,
     "start_time": "2025-05-01T12:54:20.436622",
     "status": "completed"
    },
    "tags": []
   },
   "source": [
    "# Submission"
   ]
  },
  {
   "cell_type": "code",
   "execution_count": 29,
   "id": "6777632d",
   "metadata": {
    "execution": {
     "iopub.execute_input": "2025-05-01T12:54:20.576545Z",
     "iopub.status.busy": "2025-05-01T12:54:20.576084Z",
     "iopub.status.idle": "2025-05-01T12:54:21.393331Z",
     "shell.execute_reply": "2025-05-01T12:54:21.392280Z"
    },
    "papermill": {
     "duration": 0.866664,
     "end_time": "2025-05-01T12:54:21.395475",
     "exception": false,
     "start_time": "2025-05-01T12:54:20.528811",
     "status": "completed"
    },
    "tags": []
   },
   "outputs": [
    {
     "data": {
      "text/html": [
       "<div>\n",
       "<style scoped>\n",
       "    .dataframe tbody tr th:only-of-type {\n",
       "        vertical-align: middle;\n",
       "    }\n",
       "\n",
       "    .dataframe tbody tr th {\n",
       "        vertical-align: top;\n",
       "    }\n",
       "\n",
       "    .dataframe thead th {\n",
       "        text-align: right;\n",
       "    }\n",
       "</style>\n",
       "<table border=\"1\" class=\"dataframe\">\n",
       "  <thead>\n",
       "    <tr style=\"text-align: right;\">\n",
       "      <th></th>\n",
       "      <th>id</th>\n",
       "      <th>Calories</th>\n",
       "    </tr>\n",
       "  </thead>\n",
       "  <tbody>\n",
       "    <tr>\n",
       "      <th>0</th>\n",
       "      <td>750000</td>\n",
       "      <td>27.135743</td>\n",
       "    </tr>\n",
       "    <tr>\n",
       "      <th>1</th>\n",
       "      <td>750001</td>\n",
       "      <td>108.254707</td>\n",
       "    </tr>\n",
       "    <tr>\n",
       "      <th>2</th>\n",
       "      <td>750002</td>\n",
       "      <td>86.944837</td>\n",
       "    </tr>\n",
       "    <tr>\n",
       "      <th>3</th>\n",
       "      <td>750003</td>\n",
       "      <td>125.590980</td>\n",
       "    </tr>\n",
       "    <tr>\n",
       "      <th>4</th>\n",
       "      <td>750004</td>\n",
       "      <td>76.179024</td>\n",
       "    </tr>\n",
       "  </tbody>\n",
       "</table>\n",
       "</div>"
      ],
      "text/plain": [
       "       id    Calories\n",
       "0  750000   27.135743\n",
       "1  750001  108.254707\n",
       "2  750002   86.944837\n",
       "3  750003  125.590980\n",
       "4  750004   76.179024"
      ]
     },
     "execution_count": 29,
     "metadata": {},
     "output_type": "execute_result"
    }
   ],
   "source": [
    "sub = pd.read_csv(CFG.sample_sub_path)\n",
    "sub[CFG.target] = ridge_test_preds\n",
    "sub.to_csv(f\"sub_ridge_{np.mean(scores['Ridge (ensemble)']):.6f}.csv\", index=False)\n",
    "sub.head()"
   ]
  },
  {
   "cell_type": "markdown",
   "id": "cdbe0bd1",
   "metadata": {
    "papermill": {
     "duration": 0.045259,
     "end_time": "2025-05-01T12:54:21.485028",
     "exception": false,
     "start_time": "2025-05-01T12:54:21.439769",
     "status": "completed"
    },
    "tags": []
   },
   "source": [
    "# Results"
   ]
  },
  {
   "cell_type": "code",
   "execution_count": 30,
   "id": "74e9f82e",
   "metadata": {
    "execution": {
     "iopub.execute_input": "2025-05-01T12:54:21.577857Z",
     "iopub.status.busy": "2025-05-01T12:54:21.577413Z",
     "iopub.status.idle": "2025-05-01T12:54:22.394768Z",
     "shell.execute_reply": "2025-05-01T12:54:22.393065Z"
    },
    "papermill": {
     "duration": 0.868682,
     "end_time": "2025-05-01T12:54:22.397065",
     "exception": false,
     "start_time": "2025-05-01T12:54:21.528383",
     "status": "completed"
    },
    "tags": []
   },
   "outputs": [
    {
     "data": {
      "image/png": "[encoded data removed]",
      "text/plain": [
       "<Figure size 1500x240 with 2 Axes>"
      ]
     },
     "metadata": {},
     "output_type": "display_data"
    }
   ],
   "source": [
    "scores = pd.DataFrame(scores)\n",
    "mean_scores = scores.mean().sort_values(ascending=True)\n",
    "order = scores.mean().sort_values(ascending=True).index.tolist()\n",
    "\n",
    "min_score = mean_scores.min()\n",
    "max_score = mean_scores.max()\n",
    "padding = (max_score - min_score) * 0.5\n",
    "lower_limit = min_score - padding\n",
    "upper_limit = max_score + padding\n",
    "\n",
    "fig, axs = plt.subplots(1, 2, figsize=(15, scores.shape[1] * 0.3))\n",
    "\n",
    "boxplot = sns.boxplot(data=scores, order=order, ax=axs[0], orient=\"h\", color=\"grey\")\n",
    "axs[0].set_title(f\"Fold {CFG.metric.__name__}\")\n",
    "axs[0].set_xlabel(\"\")\n",
    "axs[0].set_ylabel(\"\")\n",
    "\n",
    "barplot = sns.barplot(x=mean_scores.values, y=mean_scores.index, ax=axs[1], color=\"grey\")\n",
    "axs[1].set_title(f\"Average {CFG.metric.__name__}\")\n",
    "axs[1].set_xlabel(\"\")\n",
    "axs[1].set_xlim(left=lower_limit, right=upper_limit)\n",
    "axs[1].set_ylabel(\"\")\n",
    "\n",
    "for i, (score, model) in enumerate(zip(mean_scores.values, mean_scores.index)):\n",
    "    color = \"cyan\" if \"ensemble\" in model.lower() else \"grey\"\n",
    "    barplot.patches[i].set_facecolor(color)\n",
    "    boxplot.patches[i].set_facecolor(color)\n",
    "    barplot.text(score, i, round(score, 6), va=\"center\")\n",
    "\n",
    "plt.tight_layout()\n",
    "plt.show()"
   ]
  }
 ],
 "metadata": {
  "kaggle": {
   "accelerator": "none",
   "dataSources": [
    {
     "databundleVersionId": 11893428,
     "sourceId": 91716,
     "sourceType": "competition"
    }
   ],
   "dockerImageVersionId": 31012,
   "isGpuEnabled": false,
   "isInternetEnabled": true,
   "language": "python",
   "sourceType": "notebook"
  },
  "kernelspec": {
   "display_name": "Python 3",
   "language": "python",
   "name": "python3"
  },
  "language_info": {
   "codemirror_mode": {
    "name": "ipython",
    "version": 3
   },
   "file_extension": ".py",
   "mimetype": "text/x-python",
   "name": "python",
   "nbconvert_exporter": "python",
   "pygments_lexer": "ipython3",
   "version": "3.11.11"
  },
  "papermill": {
   "default_parameters": {},
   "duration": 14500.731373,
   "end_time": "2025-05-01T12:54:26.119438",
   "environment_variables": {},
   "exception": null,
   "input_path": "__notebook__.ipynb",
   "output_path": "__notebook__.ipynb",
   "parameters": {},
   "start_time": "2025-05-01T08:52:45.388065",
   "version": "2.6.0"
  }
 },
 "nbformat": 4,
 "nbformat_minor": 5
}
