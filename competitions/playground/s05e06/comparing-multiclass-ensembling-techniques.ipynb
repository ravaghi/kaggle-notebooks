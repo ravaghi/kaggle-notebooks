{
 "cells": [
  {
   "cell_type": "markdown",
   "id": "b9cf0613",
   "metadata": {
    "papermill": {
     "duration": 0.005528,
     "end_time": "2025-06-20T02:17:39.224159",
     "exception": false,
     "start_time": "2025-06-20T02:17:39.218631",
     "status": "completed"
    },
    "tags": []
   },
   "source": [
    "# Imports and configs"
   ]
  },
  {
   "cell_type": "code",
   "execution_count": 1,
   "id": "f0acb772",
   "metadata": {
    "_kg_hide-output": true,
    "execution": {
     "iopub.execute_input": "2025-06-20T02:17:39.235235Z",
     "iopub.status.busy": "2025-06-20T02:17:39.234864Z",
     "iopub.status.idle": "2025-06-20T02:17:49.073577Z",
     "shell.execute_reply": "2025-06-20T02:17:49.072330Z"
    },
    "papermill": {
     "duration": 9.846939,
     "end_time": "2025-06-20T02:17:49.075964",
     "exception": false,
     "start_time": "2025-06-20T02:17:39.229025",
     "status": "completed"
    },
    "tags": []
   },
   "outputs": [
    {
     "name": "stdout",
     "output_type": "stream",
     "text": [
      "\u001b[2K   \u001b[90m━━━━━━━━━━━━━━━━━━━━━━━━━━━━━━━━━━━━━━━━\u001b[0m \u001b[32m13.3/13.3 MB\u001b[0m \u001b[31m87.0 MB/s\u001b[0m eta \u001b[36m0:00:00\u001b[0m\r\n",
      "\u001b[?25h\u001b[31mERROR: pip's dependency resolver does not currently take into account all the packages that are installed. This behaviour is the source of the following dependency conflicts.\r\n",
      "cesium 0.12.4 requires numpy<3.0,>=2.0, but you have numpy 1.26.4 which is incompatible.\u001b[0m\u001b[31m\r\n",
      "\u001b[0m"
     ]
    }
   ],
   "source": [
    "!pip install -q scikit-learn==1.5.2"
   ]
  },
  {
   "cell_type": "code",
   "execution_count": 2,
   "id": "1a4756b7",
   "metadata": {
    "execution": {
     "iopub.execute_input": "2025-06-20T02:17:49.088258Z",
     "iopub.status.busy": "2025-06-20T02:17:49.087535Z",
     "iopub.status.idle": "2025-06-20T02:17:53.946896Z",
     "shell.execute_reply": "2025-06-20T02:17:53.945427Z"
    },
    "papermill": {
     "duration": 4.867998,
     "end_time": "2025-06-20T02:17:53.949127",
     "exception": false,
     "start_time": "2025-06-20T02:17:49.081129",
     "status": "completed"
    },
    "tags": []
   },
   "outputs": [],
   "source": [
    "from sklearn.ensemble import StackingClassifier, VotingClassifier\n",
    "from sklearn.base import BaseEstimator, ClassifierMixin, clone\n",
    "from sklearn.model_selection import StratifiedKFold\n",
    "from sklearn.linear_model import LogisticRegression\n",
    "from sklearn.preprocessing import LabelEncoder\n",
    "from sklearn.utils import check_array\n",
    "import matplotlib.pyplot as plt\n",
    "import seaborn as sns\n",
    "import pandas as pd\n",
    "import numpy as np\n",
    "import warnings\n",
    "import joblib\n",
    "import optuna\n",
    "import shutil\n",
    "import json\n",
    "import gc\n",
    "\n",
    "warnings.filterwarnings(\"ignore\")"
   ]
  },
  {
   "cell_type": "code",
   "execution_count": 3,
   "id": "ca25ec91",
   "metadata": {
    "execution": {
     "iopub.execute_input": "2025-06-20T02:17:53.962201Z",
     "iopub.status.busy": "2025-06-20T02:17:53.961061Z",
     "iopub.status.idle": "2025-06-20T02:17:53.967398Z",
     "shell.execute_reply": "2025-06-20T02:17:53.966136Z"
    },
    "papermill": {
     "duration": 0.014339,
     "end_time": "2025-06-20T02:17:53.968960",
     "exception": false,
     "start_time": "2025-06-20T02:17:53.954621",
     "status": "completed"
    },
    "tags": []
   },
   "outputs": [],
   "source": [
    "class CFG:\n",
    "    train_path = \"/kaggle/input/playground-series-s5e6/train.csv\"\n",
    "    test_path = \"/kaggle/input/playground-series-s5e6/test.csv\"\n",
    "    sample_sub_path = \"/kaggle/input/playground-series-s5e6/sample_submission.csv\"\n",
    "    \n",
    "    target = \"Fertilizer Name\"\n",
    "    n_folds = 5\n",
    "    seed = 42"
   ]
  },
  {
   "cell_type": "markdown",
   "id": "03acfe0c",
   "metadata": {
    "papermill": {
     "duration": 0.004502,
     "end_time": "2025-06-20T02:17:53.978508",
     "exception": false,
     "start_time": "2025-06-20T02:17:53.974006",
     "status": "completed"
    },
    "tags": []
   },
   "source": [
    "# Data loading"
   ]
  },
  {
   "cell_type": "code",
   "execution_count": 4,
   "id": "4571096c",
   "metadata": {
    "execution": {
     "iopub.execute_input": "2025-06-20T02:17:53.989767Z",
     "iopub.status.busy": "2025-06-20T02:17:53.988864Z",
     "iopub.status.idle": "2025-06-20T02:17:55.562081Z",
     "shell.execute_reply": "2025-06-20T02:17:55.560984Z"
    },
    "papermill": {
     "duration": 1.580913,
     "end_time": "2025-06-20T02:17:55.564076",
     "exception": false,
     "start_time": "2025-06-20T02:17:53.983163",
     "status": "completed"
    },
    "tags": []
   },
   "outputs": [],
   "source": [
    "train = pd.read_csv(CFG.train_path, index_col=\"id\")\n",
    "test = pd.read_csv(CFG.test_path, index_col=\"id\")\n",
    "\n",
    "label_encoder = LabelEncoder()\n",
    "train[CFG.target] = label_encoder.fit_transform(train[CFG.target])\n",
    "\n",
    "X = train.drop(CFG.target, axis=1)\n",
    "y = train[CFG.target]\n",
    "X_test = test"
   ]
  },
  {
   "cell_type": "code",
   "execution_count": 5,
   "id": "4059b963",
   "metadata": {
    "_kg_hide-input": true,
    "execution": {
     "iopub.execute_input": "2025-06-20T02:17:55.576749Z",
     "iopub.status.busy": "2025-06-20T02:17:55.576365Z",
     "iopub.status.idle": "2025-06-20T02:17:55.586462Z",
     "shell.execute_reply": "2025-06-20T02:17:55.585422Z"
    },
    "papermill": {
     "duration": 0.018185,
     "end_time": "2025-06-20T02:17:55.588109",
     "exception": false,
     "start_time": "2025-06-20T02:17:55.569924",
     "status": "completed"
    },
    "tags": []
   },
   "outputs": [],
   "source": [
    "def map3(y_true, y_pred_probs):\n",
    "    y_true = [[x] for x in y_true]\n",
    "    y_pred_probs = np.argsort(y_pred_probs, axis=1)[:, -3:][:, ::-1].tolist()\n",
    "    \n",
    "    def ap3(y_true, y_pred_probs):\n",
    "        y_pred_probs = y_pred_probs[:3]\n",
    "\n",
    "        score = 0.0\n",
    "        num_hits = 0.0\n",
    "\n",
    "        for i,p in enumerate(y_pred_probs):\n",
    "            if p in y_true and p not in y_pred_probs[:i]:\n",
    "                num_hits += 1.0\n",
    "                score += num_hits / (i+1.0)\n",
    "\n",
    "        if not y_true:\n",
    "            return 0.0\n",
    "\n",
    "        return score\n",
    "    \n",
    "    return np.mean([ap3(a,p) for a,p in zip(y_true, y_pred_probs)])"
   ]
  },
  {
   "cell_type": "code",
   "execution_count": 6,
   "id": "7b60562d",
   "metadata": {
    "execution": {
     "iopub.execute_input": "2025-06-20T02:17:55.600140Z",
     "iopub.status.busy": "2025-06-20T02:17:55.599430Z",
     "iopub.status.idle": "2025-06-20T02:18:10.829032Z",
     "shell.execute_reply": "2025-06-20T02:18:10.828001Z"
    },
    "papermill": {
     "duration": 15.237452,
     "end_time": "2025-06-20T02:18:10.830800",
     "exception": false,
     "start_time": "2025-06-20T02:17:55.593348",
     "status": "completed"
    },
    "tags": []
   },
   "outputs": [],
   "source": [
    "scores = {}\n",
    "\n",
    "oof_pred_probs = joblib.load(\"/kaggle/input/s05e06-fertilizer-optimization-ensemble/oof_pred_probs.pkl\")\n",
    "test_pred_probs = joblib.load(\"/kaggle/input/s05e06-fertilizer-optimization-ensemble/test_pred_probs.pkl\")\n",
    "\n",
    "start_idx = 0\n",
    "models = [\"LightGBM (gbdt)\", \"LightGBM (goss)\", \"XGBoost\", \"AutoGluon\"]\n",
    "for model in models:\n",
    "    fold_scores = []        \n",
    "    \n",
    "    skf = StratifiedKFold(n_splits=CFG.n_folds, random_state=CFG.seed, shuffle=True)\n",
    "    for _, val_idx in skf.split(X, y):   \n",
    "        fold_score = map3(y[val_idx], oof_pred_probs.iloc[val_idx, start_idx:start_idx+7])\n",
    "        fold_scores.append(fold_score)\n",
    "        \n",
    "    scores[model] = fold_scores\n",
    "    start_idx += 7"
   ]
  },
  {
   "cell_type": "code",
   "execution_count": 7,
   "id": "19c8ddf3",
   "metadata": {
    "_kg_hide-input": true,
    "execution": {
     "iopub.execute_input": "2025-06-20T02:18:10.842335Z",
     "iopub.status.busy": "2025-06-20T02:18:10.842019Z",
     "iopub.status.idle": "2025-06-20T02:18:10.853364Z",
     "shell.execute_reply": "2025-06-20T02:18:10.852500Z"
    },
    "papermill": {
     "duration": 0.019263,
     "end_time": "2025-06-20T02:18:10.855211",
     "exception": false,
     "start_time": "2025-06-20T02:18:10.835948",
     "status": "completed"
    },
    "tags": []
   },
   "outputs": [],
   "source": [
    "class Trainer:\n",
    "    def __init__(self, model, config=CFG):\n",
    "        self.model = model\n",
    "        self.config = config\n",
    "\n",
    "    def fit_predict(self, X, y, X_test):\n",
    "        print(f\"Training {self.model.__class__.__name__}\\n\")\n",
    "        \n",
    "        scores = []        \n",
    "        oof_pred_probs = np.zeros((X.shape[0], y.nunique()))\n",
    "        test_pred_probs = np.zeros((X_test.shape[0], y.nunique()))\n",
    "        \n",
    "        skf = StratifiedKFold(n_splits=self.config.n_folds, random_state=self.config.seed, shuffle=True)\n",
    "        for fold_idx, (train_idx, val_idx) in enumerate(skf.split(X, y)):\n",
    "            X_train, X_val = X.iloc[train_idx], X.iloc[val_idx]\n",
    "            y_train, y_val = y[train_idx], y[val_idx]\n",
    "            \n",
    "            model = clone(self.model)\n",
    "            model.fit(X_train, y_train)\n",
    "            \n",
    "            y_pred_probs = model.predict_proba(X_val)\n",
    "            oof_pred_probs[val_idx] = y_pred_probs\n",
    "            \n",
    "            temp_test_pred_probs = model.predict_proba(X_test)\n",
    "            test_pred_probs += temp_test_pred_probs / self.config.n_folds\n",
    "            \n",
    "            score = map3(y_val, y_pred_probs)\n",
    "            scores.append(score)\n",
    "            \n",
    "            del model, X_train, y_train, X_val, y_val, y_pred_probs\n",
    "            gc.collect()\n",
    "        \n",
    "            print(f\"--- Fold {fold_idx + 1} - MAP@3: {score:.6f}\")\n",
    "                            \n",
    "        overall_score = map3(y, oof_pred_probs)\n",
    "            \n",
    "        print(f\"\\n------ Overall MAP@3: {overall_score:.6f} | Average MAP@3: {np.mean(scores):.6f} ± {np.std(scores):.6f}\")\n",
    "        \n",
    "        return oof_pred_probs, test_pred_probs, scores\n",
    "\n",
    "    def tune(self, X, y):        \n",
    "        scores = []        \n",
    "        \n",
    "        skf = StratifiedKFold(n_splits=self.config.n_folds, random_state=self.config.seed, shuffle=True)\n",
    "        for train_idx, val_idx in skf.split(X, y):\n",
    "            X_train, X_val = X.iloc[train_idx], X.iloc[val_idx]\n",
    "            y_train, y_val = y[train_idx], y[val_idx]\n",
    "            \n",
    "            model = clone(self.model)\n",
    "            model.fit(X_train, y_train)\n",
    "            \n",
    "            y_pred_probs = model.predict_proba(X_val)            \n",
    "            score = map3(y_val, y_pred_probs)\n",
    "            scores.append(score)\n",
    "            \n",
    "            del model, X_train, y_train, X_val, y_val, y_pred_probs\n",
    "            gc.collect()\n",
    "            \n",
    "        return np.mean(scores)"
   ]
  },
  {
   "cell_type": "markdown",
   "id": "d0705451",
   "metadata": {
    "papermill": {
     "duration": 0.004819,
     "end_time": "2025-06-20T02:18:10.865992",
     "exception": false,
     "start_time": "2025-06-20T02:18:10.861173",
     "status": "completed"
    },
    "tags": []
   },
   "source": [
    "# Ensembling"
   ]
  },
  {
   "cell_type": "code",
   "execution_count": 8,
   "id": "7b9e4ed8",
   "metadata": {
    "execution": {
     "iopub.execute_input": "2025-06-20T02:18:10.877524Z",
     "iopub.status.busy": "2025-06-20T02:18:10.877139Z",
     "iopub.status.idle": "2025-06-20T02:18:10.885134Z",
     "shell.execute_reply": "2025-06-20T02:18:10.883902Z"
    },
    "papermill": {
     "duration": 0.016056,
     "end_time": "2025-06-20T02:18:10.887046",
     "exception": false,
     "start_time": "2025-06-20T02:18:10.870990",
     "status": "completed"
    },
    "tags": []
   },
   "outputs": [],
   "source": [
    "X = oof_pred_probs\n",
    "X_test = test_pred_probs"
   ]
  },
  {
   "cell_type": "code",
   "execution_count": 9,
   "id": "7b381532",
   "metadata": {
    "execution": {
     "iopub.execute_input": "2025-06-20T02:18:10.898941Z",
     "iopub.status.busy": "2025-06-20T02:18:10.898520Z",
     "iopub.status.idle": "2025-06-20T02:18:10.905161Z",
     "shell.execute_reply": "2025-06-20T02:18:10.904120Z"
    },
    "papermill": {
     "duration": 0.014454,
     "end_time": "2025-06-20T02:18:10.906914",
     "exception": false,
     "start_time": "2025-06-20T02:18:10.892460",
     "status": "completed"
    },
    "tags": []
   },
   "outputs": [],
   "source": [
    "def create_submission(model, test_pred_probs, score):\n",
    "    final_predictions = []\n",
    "    for i in np.argsort(test_pred_probs)[:, -3:][:, ::-1]:\n",
    "        prediction = label_encoder.inverse_transform(i)\n",
    "        final_predictions.append(\" \".join(prediction))\n",
    "\n",
    "    sub = pd.read_csv(CFG.sample_sub_path)\n",
    "    sub[CFG.target] = final_predictions\n",
    "    sub.to_csv(f\"sub_{model}_{score:.6f}.csv\", index=False)\n",
    "    \n",
    "    return sub"
   ]
  },
  {
   "cell_type": "markdown",
   "id": "b3486adf",
   "metadata": {
    "papermill": {
     "duration": 0.004859,
     "end_time": "2025-06-20T02:18:10.916846",
     "exception": false,
     "start_time": "2025-06-20T02:18:10.911987",
     "status": "completed"
    },
    "tags": []
   },
   "source": [
    "## LogisticRegression"
   ]
  },
  {
   "cell_type": "code",
   "execution_count": 10,
   "id": "b5f266be",
   "metadata": {
    "execution": {
     "iopub.execute_input": "2025-06-20T02:18:10.928641Z",
     "iopub.status.busy": "2025-06-20T02:18:10.928199Z",
     "iopub.status.idle": "2025-06-20T02:21:34.130751Z",
     "shell.execute_reply": "2025-06-20T02:21:34.129342Z"
    },
    "papermill": {
     "duration": 203.210404,
     "end_time": "2025-06-20T02:21:34.132477",
     "exception": false,
     "start_time": "2025-06-20T02:18:10.922073",
     "status": "completed"
    },
    "tags": []
   },
   "outputs": [
    {
     "name": "stdout",
     "output_type": "stream",
     "text": [
      "Training LogisticRegression\n",
      "\n",
      "--- Fold 1 - MAP@3: 0.376488\n",
      "--- Fold 2 - MAP@3: 0.376413\n",
      "--- Fold 3 - MAP@3: 0.378596\n",
      "--- Fold 4 - MAP@3: 0.375833\n",
      "--- Fold 5 - MAP@3: 0.377406\n",
      "\n",
      "------ Overall MAP@3: 0.376947 | Average MAP@3: 0.376947 ± 0.000966\n"
     ]
    }
   ],
   "source": [
    "lr_model = LogisticRegression(**{\n",
    "    'solver': 'liblinear', \n",
    "    'penalty': 'l2', \n",
    "    'C': 0.5538874808008591, \n",
    "    'tol': 0.002149319742014671, \n",
    "    'fit_intercept': True, \n",
    "    'class_weight': None\n",
    "}) \n",
    "\n",
    "lr_trainer = Trainer(lr_model)\n",
    "_, lr_test_pred_probs, scores[\"LogisticRegression\"] = lr_trainer.fit_predict(X, y, X_test)"
   ]
  },
  {
   "cell_type": "code",
   "execution_count": 11,
   "id": "8b67266f",
   "metadata": {
    "execution": {
     "iopub.execute_input": "2025-06-20T02:21:34.145265Z",
     "iopub.status.busy": "2025-06-20T02:21:34.144891Z",
     "iopub.status.idle": "2025-06-20T02:22:00.741716Z",
     "shell.execute_reply": "2025-06-20T02:22:00.740397Z"
    },
    "papermill": {
     "duration": 26.605235,
     "end_time": "2025-06-20T02:22:00.743476",
     "exception": false,
     "start_time": "2025-06-20T02:21:34.138241",
     "status": "completed"
    },
    "tags": []
   },
   "outputs": [
    {
     "data": {
      "text/html": [
       "<div>\n",
       "<style scoped>\n",
       "    .dataframe tbody tr th:only-of-type {\n",
       "        vertical-align: middle;\n",
       "    }\n",
       "\n",
       "    .dataframe tbody tr th {\n",
       "        vertical-align: top;\n",
       "    }\n",
       "\n",
       "    .dataframe thead th {\n",
       "        text-align: right;\n",
       "    }\n",
       "</style>\n",
       "<table border=\"1\" class=\"dataframe\">\n",
       "  <thead>\n",
       "    <tr style=\"text-align: right;\">\n",
       "      <th></th>\n",
       "      <th>id</th>\n",
       "      <th>Fertilizer Name</th>\n",
       "    </tr>\n",
       "  </thead>\n",
       "  <tbody>\n",
       "    <tr>\n",
       "      <th>0</th>\n",
       "      <td>750000</td>\n",
       "      <td>10-26-26 20-20 DAP</td>\n",
       "    </tr>\n",
       "    <tr>\n",
       "      <th>1</th>\n",
       "      <td>750001</td>\n",
       "      <td>17-17-17 28-28 10-26-26</td>\n",
       "    </tr>\n",
       "    <tr>\n",
       "      <th>2</th>\n",
       "      <td>750002</td>\n",
       "      <td>20-20 Urea DAP</td>\n",
       "    </tr>\n",
       "    <tr>\n",
       "      <th>3</th>\n",
       "      <td>750003</td>\n",
       "      <td>14-35-14 17-17-17 Urea</td>\n",
       "    </tr>\n",
       "    <tr>\n",
       "      <th>4</th>\n",
       "      <td>750004</td>\n",
       "      <td>Urea 20-20 28-28</td>\n",
       "    </tr>\n",
       "  </tbody>\n",
       "</table>\n",
       "</div>"
      ],
      "text/plain": [
       "       id          Fertilizer Name\n",
       "0  750000       10-26-26 20-20 DAP\n",
       "1  750001  17-17-17 28-28 10-26-26\n",
       "2  750002           20-20 Urea DAP\n",
       "3  750003   14-35-14 17-17-17 Urea\n",
       "4  750004         Urea 20-20 28-28"
      ]
     },
     "execution_count": 11,
     "metadata": {},
     "output_type": "execute_result"
    }
   ],
   "source": [
    "create_submission(\"logistic-regression\", lr_test_pred_probs, np.mean(scores[\"LogisticRegression\"])).head()"
   ]
  },
  {
   "cell_type": "markdown",
   "id": "93700627",
   "metadata": {
    "papermill": {
     "duration": 0.005217,
     "end_time": "2025-06-20T02:22:00.754614",
     "exception": false,
     "start_time": "2025-06-20T02:22:00.749397",
     "status": "completed"
    },
    "tags": []
   },
   "source": [
    "## StackingClassifier"
   ]
  },
  {
   "cell_type": "code",
   "execution_count": 12,
   "id": "c9897ffc",
   "metadata": {
    "_kg_hide-input": true,
    "execution": {
     "iopub.execute_input": "2025-06-20T02:22:00.767603Z",
     "iopub.status.busy": "2025-06-20T02:22:00.766722Z",
     "iopub.status.idle": "2025-06-20T02:22:00.773515Z",
     "shell.execute_reply": "2025-06-20T02:22:00.772699Z"
    },
    "papermill": {
     "duration": 0.014893,
     "end_time": "2025-06-20T02:22:00.775091",
     "exception": false,
     "start_time": "2025-06-20T02:22:00.760198",
     "status": "completed"
    },
    "tags": []
   },
   "outputs": [],
   "source": [
    "# This is just a trick to avoid refitting all base models from scratch, which is what StackingClassifier and VotingClassifier do by default\n",
    "\n",
    "class PassThroughClassifier(BaseEstimator, ClassifierMixin):\n",
    "    def __init__(self, idx_cols):\n",
    "        self.idx_cols = idx_cols\n",
    "        self.is_fitted_ = True\n",
    "\n",
    "    def fit(self, X, y=None):\n",
    "        return self\n",
    "\n",
    "    def predict_proba(self, X):\n",
    "        return check_array(X)[:, self.idx_cols]\n",
    "\n",
    "\n",
    "estimators = [\n",
    "    ('LightGBM (gbdt)', PassThroughClassifier(list(range(0, 7)))),\n",
    "    ('LightGBM (goss)', PassThroughClassifier(list(range(7, 14)))),\n",
    "    ('XGBoost', PassThroughClassifier(list(range(14, 21)))),\n",
    "    ('AutoGluon', PassThroughClassifier(list(range(21, 28)))),\n",
    "]"
   ]
  },
  {
   "cell_type": "code",
   "execution_count": 13,
   "id": "e1bbbfb1",
   "metadata": {
    "execution": {
     "iopub.execute_input": "2025-06-20T02:22:00.788488Z",
     "iopub.status.busy": "2025-06-20T02:22:00.788136Z",
     "iopub.status.idle": "2025-06-20T02:24:48.256640Z",
     "shell.execute_reply": "2025-06-20T02:24:48.255446Z"
    },
    "papermill": {
     "duration": 167.477248,
     "end_time": "2025-06-20T02:24:48.258409",
     "exception": false,
     "start_time": "2025-06-20T02:22:00.781161",
     "status": "completed"
    },
    "tags": []
   },
   "outputs": [
    {
     "name": "stdout",
     "output_type": "stream",
     "text": [
      "Training StackingClassifier\n",
      "\n",
      "--- Fold 1 - MAP@3: 0.367878\n",
      "--- Fold 2 - MAP@3: 0.368612\n",
      "--- Fold 3 - MAP@3: 0.369847\n",
      "--- Fold 4 - MAP@3: 0.367181\n",
      "--- Fold 5 - MAP@3: 0.368498\n",
      "\n",
      "------ Overall MAP@3: 0.368403 | Average MAP@3: 0.368403 ± 0.000884\n"
     ]
    }
   ],
   "source": [
    "stacking_model = StackingClassifier(estimators, cv='prefit', n_jobs=-1, final_estimator=clone(lr_model))\n",
    "stacking_trainer = Trainer(stacking_model)\n",
    "_, stacking_test_pred_probs, scores[\"StackingClassifier\"] = stacking_trainer.fit_predict(X, y, X_test)"
   ]
  },
  {
   "cell_type": "code",
   "execution_count": 14,
   "id": "6a35f849",
   "metadata": {
    "execution": {
     "iopub.execute_input": "2025-06-20T02:24:48.272651Z",
     "iopub.status.busy": "2025-06-20T02:24:48.272257Z",
     "iopub.status.idle": "2025-06-20T02:25:14.876846Z",
     "shell.execute_reply": "2025-06-20T02:25:14.875833Z"
    },
    "papermill": {
     "duration": 26.613754,
     "end_time": "2025-06-20T02:25:14.878732",
     "exception": false,
     "start_time": "2025-06-20T02:24:48.264978",
     "status": "completed"
    },
    "tags": []
   },
   "outputs": [
    {
     "data": {
      "text/html": [
       "<div>\n",
       "<style scoped>\n",
       "    .dataframe tbody tr th:only-of-type {\n",
       "        vertical-align: middle;\n",
       "    }\n",
       "\n",
       "    .dataframe tbody tr th {\n",
       "        vertical-align: top;\n",
       "    }\n",
       "\n",
       "    .dataframe thead th {\n",
       "        text-align: right;\n",
       "    }\n",
       "</style>\n",
       "<table border=\"1\" class=\"dataframe\">\n",
       "  <thead>\n",
       "    <tr style=\"text-align: right;\">\n",
       "      <th></th>\n",
       "      <th>id</th>\n",
       "      <th>Fertilizer Name</th>\n",
       "    </tr>\n",
       "  </thead>\n",
       "  <tbody>\n",
       "    <tr>\n",
       "      <th>0</th>\n",
       "      <td>750000</td>\n",
       "      <td>10-26-26 20-20 DAP</td>\n",
       "    </tr>\n",
       "    <tr>\n",
       "      <th>1</th>\n",
       "      <td>750001</td>\n",
       "      <td>17-17-17 10-26-26 28-28</td>\n",
       "    </tr>\n",
       "    <tr>\n",
       "      <th>2</th>\n",
       "      <td>750002</td>\n",
       "      <td>20-20 28-28 Urea</td>\n",
       "    </tr>\n",
       "    <tr>\n",
       "      <th>3</th>\n",
       "      <td>750003</td>\n",
       "      <td>14-35-14 10-26-26 17-17-17</td>\n",
       "    </tr>\n",
       "    <tr>\n",
       "      <th>4</th>\n",
       "      <td>750004</td>\n",
       "      <td>Urea 20-20 28-28</td>\n",
       "    </tr>\n",
       "  </tbody>\n",
       "</table>\n",
       "</div>"
      ],
      "text/plain": [
       "       id             Fertilizer Name\n",
       "0  750000          10-26-26 20-20 DAP\n",
       "1  750001     17-17-17 10-26-26 28-28\n",
       "2  750002            20-20 28-28 Urea\n",
       "3  750003  14-35-14 10-26-26 17-17-17\n",
       "4  750004            Urea 20-20 28-28"
      ]
     },
     "execution_count": 14,
     "metadata": {},
     "output_type": "execute_result"
    }
   ],
   "source": [
    "create_submission(\"stacking-classifier\", stacking_test_pred_probs, np.mean(scores[\"StackingClassifier\"])).head()"
   ]
  },
  {
   "cell_type": "markdown",
   "id": "5edea7c6",
   "metadata": {
    "papermill": {
     "duration": 0.006231,
     "end_time": "2025-06-20T02:25:14.891764",
     "exception": false,
     "start_time": "2025-06-20T02:25:14.885533",
     "status": "completed"
    },
    "tags": []
   },
   "source": [
    "## VotingClassifier"
   ]
  },
  {
   "cell_type": "code",
   "execution_count": 15,
   "id": "121d78e2",
   "metadata": {
    "execution": {
     "iopub.execute_input": "2025-06-20T02:25:14.905981Z",
     "iopub.status.busy": "2025-06-20T02:25:14.905643Z",
     "iopub.status.idle": "2025-06-20T02:25:26.436150Z",
     "shell.execute_reply": "2025-06-20T02:25:26.434582Z"
    },
    "papermill": {
     "duration": 11.540033,
     "end_time": "2025-06-20T02:25:26.438115",
     "exception": false,
     "start_time": "2025-06-20T02:25:14.898082",
     "status": "completed"
    },
    "tags": []
   },
   "outputs": [
    {
     "name": "stdout",
     "output_type": "stream",
     "text": [
      "Training VotingClassifier\n",
      "\n",
      "--- Fold 1 - MAP@3: 0.367171\n",
      "--- Fold 2 - MAP@3: 0.368163\n",
      "--- Fold 3 - MAP@3: 0.369600\n",
      "--- Fold 4 - MAP@3: 0.366991\n",
      "--- Fold 5 - MAP@3: 0.367563\n",
      "\n",
      "------ Overall MAP@3: 0.367898 | Average MAP@3: 0.367898 ± 0.000941\n"
     ]
    }
   ],
   "source": [
    "voting_model = VotingClassifier(estimators, n_jobs=-1, voting='soft')\n",
    "voting_trainer = Trainer(voting_model)\n",
    "_, voting_test_pred_probs, scores[\"VotingClassifier\"] = voting_trainer.fit_predict(X, y, X_test)"
   ]
  },
  {
   "cell_type": "code",
   "execution_count": 16,
   "id": "7181e1cc",
   "metadata": {
    "execution": {
     "iopub.execute_input": "2025-06-20T02:25:26.454033Z",
     "iopub.status.busy": "2025-06-20T02:25:26.453153Z",
     "iopub.status.idle": "2025-06-20T02:25:53.343417Z",
     "shell.execute_reply": "2025-06-20T02:25:53.342469Z"
    },
    "papermill": {
     "duration": 26.899792,
     "end_time": "2025-06-20T02:25:53.344944",
     "exception": false,
     "start_time": "2025-06-20T02:25:26.445152",
     "status": "completed"
    },
    "tags": []
   },
   "outputs": [
    {
     "data": {
      "text/html": [
       "<div>\n",
       "<style scoped>\n",
       "    .dataframe tbody tr th:only-of-type {\n",
       "        vertical-align: middle;\n",
       "    }\n",
       "\n",
       "    .dataframe tbody tr th {\n",
       "        vertical-align: top;\n",
       "    }\n",
       "\n",
       "    .dataframe thead th {\n",
       "        text-align: right;\n",
       "    }\n",
       "</style>\n",
       "<table border=\"1\" class=\"dataframe\">\n",
       "  <thead>\n",
       "    <tr style=\"text-align: right;\">\n",
       "      <th></th>\n",
       "      <th>id</th>\n",
       "      <th>Fertilizer Name</th>\n",
       "    </tr>\n",
       "  </thead>\n",
       "  <tbody>\n",
       "    <tr>\n",
       "      <th>0</th>\n",
       "      <td>750000</td>\n",
       "      <td>10-26-26 20-20 DAP</td>\n",
       "    </tr>\n",
       "    <tr>\n",
       "      <th>1</th>\n",
       "      <td>750001</td>\n",
       "      <td>17-17-17 10-26-26 28-28</td>\n",
       "    </tr>\n",
       "    <tr>\n",
       "      <th>2</th>\n",
       "      <td>750002</td>\n",
       "      <td>20-20 28-28 Urea</td>\n",
       "    </tr>\n",
       "    <tr>\n",
       "      <th>3</th>\n",
       "      <td>750003</td>\n",
       "      <td>14-35-14 10-26-26 17-17-17</td>\n",
       "    </tr>\n",
       "    <tr>\n",
       "      <th>4</th>\n",
       "      <td>750004</td>\n",
       "      <td>Urea 20-20 28-28</td>\n",
       "    </tr>\n",
       "  </tbody>\n",
       "</table>\n",
       "</div>"
      ],
      "text/plain": [
       "       id             Fertilizer Name\n",
       "0  750000          10-26-26 20-20 DAP\n",
       "1  750001     17-17-17 10-26-26 28-28\n",
       "2  750002            20-20 28-28 Urea\n",
       "3  750003  14-35-14 10-26-26 17-17-17\n",
       "4  750004            Urea 20-20 28-28"
      ]
     },
     "execution_count": 16,
     "metadata": {},
     "output_type": "execute_result"
    }
   ],
   "source": [
    "create_submission(\"voting-classifier\", voting_test_pred_probs, np.mean(scores[\"VotingClassifier\"])).head()"
   ]
  },
  {
   "cell_type": "markdown",
   "id": "873c19ee",
   "metadata": {
    "papermill": {
     "duration": 0.006395,
     "end_time": "2025-06-20T02:25:53.358330",
     "exception": false,
     "start_time": "2025-06-20T02:25:53.351935",
     "status": "completed"
    },
    "tags": []
   },
   "source": [
    "## Weighted averaging"
   ]
  },
  {
   "cell_type": "code",
   "execution_count": 17,
   "id": "a704b7a5",
   "metadata": {
    "_kg_hide-output": true,
    "execution": {
     "iopub.execute_input": "2025-06-20T02:25:53.373782Z",
     "iopub.status.busy": "2025-06-20T02:25:53.372898Z",
     "iopub.status.idle": "2025-06-20T02:33:14.109664Z",
     "shell.execute_reply": "2025-06-20T02:33:14.108527Z"
    },
    "papermill": {
     "duration": 440.746748,
     "end_time": "2025-06-20T02:33:14.111724",
     "exception": false,
     "start_time": "2025-06-20T02:25:53.364976",
     "status": "completed"
    },
    "scrolled": true,
    "tags": []
   },
   "outputs": [
    {
     "name": "stderr",
     "output_type": "stream",
     "text": [
      "[I 2025-06-20 02:25:53,377] A new study created in memory with name: no-name-c726a302-1c4f-43c7-8bac-2fb22b980354\n",
      "[I 2025-06-20 02:26:00,389] Trial 1 finished with value: 0.3676495555555557 and parameters: {'LightGBM (gbdt)': 0.6996248097264034, 'LightGBM (goss)': 0.6469040828953044, 'XGBoost': 0.2539768957235311, 'AutoGluon': 0.3640773182879776}. Best is trial 1 with value: 0.3676495555555557.\n",
      "[I 2025-06-20 02:26:00,603] Trial 3 finished with value: 0.3672757777777779 and parameters: {'LightGBM (gbdt)': 0.8805492411939269, 'LightGBM (goss)': 0.05785664086417386, 'XGBoost': 0.8806700327717711, 'AutoGluon': 0.9766799213805226}. Best is trial 1 with value: 0.3676495555555557.\n",
      "[I 2025-06-20 02:26:00,671] Trial 0 finished with value: 0.366038 and parameters: {'LightGBM (gbdt)': 0.008140806843792703, 'LightGBM (goss)': 0.4576037235624699, 'XGBoost': 0.7980360718439603, 'AutoGluon': 0.8397051177419393}. Best is trial 1 with value: 0.3676495555555557.\n",
      "[I 2025-06-20 02:26:01,165] Trial 2 finished with value: 0.3661279999999999 and parameters: {'LightGBM (gbdt)': 0.16793536397910547, 'LightGBM (goss)': 0.48747776871035153, 'XGBoost': 0.21658939356391216, 'AutoGluon': 0.5455716939412559}. Best is trial 1 with value: 0.3676495555555557.\n",
      "[I 2025-06-20 02:26:08,016] Trial 7 finished with value: 0.3673028888888889 and parameters: {'LightGBM (gbdt)': 0.5823140139498933, 'LightGBM (goss)': 0.7962518355884045, 'XGBoost': 0.4989750550093184, 'AutoGluon': 0.8735627763450605}. Best is trial 1 with value: 0.3676495555555557.\n",
      "[I 2025-06-20 02:26:08,627] Trial 4 finished with value: 0.3668657777777776 and parameters: {'LightGBM (gbdt)': 0.2627204868345989, 'LightGBM (goss)': 0.9255830137138683, 'XGBoost': 0.21000296308710753, 'AutoGluon': 0.023367498901820882}. Best is trial 1 with value: 0.3676495555555557.\n",
      "[I 2025-06-20 02:26:08,744] Trial 6 finished with value: 0.36772800000000005 and parameters: {'LightGBM (gbdt)': 0.9612134386024469, 'LightGBM (goss)': 0.5437774260227812, 'XGBoost': 0.3482740002826862, 'AutoGluon': 0.17594302609508106}. Best is trial 6 with value: 0.36772800000000005.\n",
      "[I 2025-06-20 02:26:09,227] Trial 5 finished with value: 0.367417111111111 and parameters: {'LightGBM (gbdt)': 0.6364337848853385, 'LightGBM (goss)': 0.954307989690068, 'XGBoost': 0.473269575880493, 'AutoGluon': 0.000263814060869616}. Best is trial 6 with value: 0.36772800000000005.\n",
      "[I 2025-06-20 02:26:14,812] Trial 8 finished with value: 0.3676857777777778 and parameters: {'LightGBM (gbdt)': 0.5854107754000982, 'LightGBM (goss)': 0.9079568329711531, 'XGBoost': 0.5297695915960775, 'AutoGluon': 0.151331242720101}. Best is trial 6 with value: 0.36772800000000005.\n",
      "[I 2025-06-20 02:26:15,100] Trial 9 finished with value: 0.3675548888888888 and parameters: {'LightGBM (gbdt)': 0.43030319306643006, 'LightGBM (goss)': 0.8229473320489681, 'XGBoost': 0.6776873689439951, 'AutoGluon': 0.7273826834399869}. Best is trial 6 with value: 0.36772800000000005.\n",
      "[I 2025-06-20 02:26:15,728] Trial 11 finished with value: 0.367373111111111 and parameters: {'LightGBM (gbdt)': 0.5630462502438234, 'LightGBM (goss)': 0.16921080374992004, 'XGBoost': 0.9816434592354899, 'AutoGluon': 0.8417237439025612}. Best is trial 6 with value: 0.36772800000000005.\n",
      "[I 2025-06-20 02:26:16,013] Trial 10 finished with value: 0.3683695555555555 and parameters: {'LightGBM (gbdt)': 0.4494231407236615, 'LightGBM (goss)': 0.1311650637851972, 'XGBoost': 0.7287566633991438, 'AutoGluon': 0.22794255137997932}. Best is trial 10 with value: 0.3683695555555555.\n",
      "[I 2025-06-20 02:26:20,389] Trial 12 finished with value: 0.3678539999999999 and parameters: {'LightGBM (gbdt)': 0.5124165732848154, 'LightGBM (goss)': 0.5163916626508984, 'XGBoost': 0.2803336934684274, 'AutoGluon': 0.15245548303596246}. Best is trial 10 with value: 0.3683695555555555.\n",
      "[I 2025-06-20 02:26:21,000] Trial 13 finished with value: 0.36722355555555564 and parameters: {'LightGBM (gbdt)': 0.9172400320342955, 'LightGBM (goss)': 0.28738350685521236, 'XGBoost': 0.04672904110021947, 'AutoGluon': 0.35779963202954973}. Best is trial 10 with value: 0.3683695555555555.\n",
      "[I 2025-06-20 02:26:21,751] Trial 14 finished with value: 0.36788866666666664 and parameters: {'LightGBM (gbdt)': 0.9999012101240197, 'LightGBM (goss)': 0.3676914032365546, 'XGBoost': 0.38884216639150027, 'AutoGluon': 0.2117124540493942}. Best is trial 10 with value: 0.3683695555555555.\n",
      "[I 2025-06-20 02:26:23,736] Trial 15 finished with value: 0.36717644444444447 and parameters: {'LightGBM (gbdt)': 0.9958437615548833, 'LightGBM (goss)': 0.30154098787609895, 'XGBoost': 0.002191537672742272, 'AutoGluon': 0.2878783825093623}. Best is trial 10 with value: 0.3683695555555555.\n",
      "[I 2025-06-20 02:26:25,654] Trial 16 finished with value: 0.36703755555555556 and parameters: {'LightGBM (gbdt)': 0.3772643270254193, 'LightGBM (goss)': 0.2916480261048803, 'XGBoost': 0.09057431667940102, 'AutoGluon': 0.35617164261681317}. Best is trial 10 with value: 0.3683695555555555.\n",
      "[I 2025-06-20 02:26:27,406] Trial 17 finished with value: 0.3682784444444444 and parameters: {'LightGBM (gbdt)': 0.3662242026020723, 'LightGBM (goss)': 0.2984201623100716, 'XGBoost': 0.7550216929433728, 'AutoGluon': 0.28363640090031195}. Best is trial 10 with value: 0.3683695555555555.\n",
      "[I 2025-06-20 02:26:29,995] Trial 18 finished with value: 0.3683186666666667 and parameters: {'LightGBM (gbdt)': 0.7607753679395711, 'LightGBM (goss)': 0.30294112620668184, 'XGBoost': 0.6815381302690362, 'AutoGluon': 0.33672442611833775}. Best is trial 10 with value: 0.3683695555555555.\n",
      "[I 2025-06-20 02:26:30,469] Trial 19 finished with value: 0.36789066666666664 and parameters: {'LightGBM (gbdt)': 0.7722722856960619, 'LightGBM (goss)': 0.017892274579017542, 'XGBoost': 0.6780604715582144, 'AutoGluon': 0.541585668242576}. Best is trial 10 with value: 0.3683695555555555.\n",
      "[I 2025-06-20 02:26:32,733] Trial 20 finished with value: 0.367858 and parameters: {'LightGBM (gbdt)': 0.7773226282423448, 'LightGBM (goss)': 0.06949073990640497, 'XGBoost': 0.6768629388581621, 'AutoGluon': 0.5635012759594257}. Best is trial 10 with value: 0.3683695555555555.\n",
      "[I 2025-06-20 02:26:34,943] Trial 21 finished with value: 0.3670320000000001 and parameters: {'LightGBM (gbdt)': 0.2807646536410978, 'LightGBM (goss)': 0.026324491481900303, 'XGBoost': 0.6783907304894449, 'AutoGluon': 0.5040374615783266}. Best is trial 10 with value: 0.3683695555555555.\n",
      "[I 2025-06-20 02:26:35,486] Trial 22 finished with value: 0.36794311111111117 and parameters: {'LightGBM (gbdt)': 0.7822264652927107, 'LightGBM (goss)': 0.020542746497330344, 'XGBoost': 0.6956857854245215, 'AutoGluon': 0.5283758314512453}. Best is trial 10 with value: 0.3683695555555555.\n",
      "[I 2025-06-20 02:26:36,669] Trial 23 finished with value: 0.36805333333333334 and parameters: {'LightGBM (gbdt)': 0.7936343642952415, 'LightGBM (goss)': 0.17129412491115548, 'XGBoost': 0.5889040229005916, 'AutoGluon': 0.45946099122290013}. Best is trial 10 with value: 0.3683695555555555.\n",
      "[I 2025-06-20 02:26:40,857] Trial 25 finished with value: 0.3681322222222222 and parameters: {'LightGBM (gbdt)': 0.4347117450463929, 'LightGBM (goss)': 0.18817215315587343, 'XGBoost': 0.8402487810270575, 'AutoGluon': 0.4286601864974504}. Best is trial 10 with value: 0.3683695555555555.\n",
      "[I 2025-06-20 02:26:41,942] Trial 24 finished with value: 0.36795177777777766 and parameters: {'LightGBM (gbdt)': 0.3389365215683404, 'LightGBM (goss)': 0.1827000718009046, 'XGBoost': 0.7645070472050138, 'AutoGluon': 0.43782185353746667}. Best is trial 10 with value: 0.3683695555555555.\n",
      "[I 2025-06-20 02:26:42,540] Trial 26 finished with value: 0.36809888888888875 and parameters: {'LightGBM (gbdt)': 0.4075915070207363, 'LightGBM (goss)': 0.18127594033231298, 'XGBoost': 0.8086908571930236, 'AutoGluon': 0.4321827918081177}. Best is trial 10 with value: 0.3683695555555555.\n",
      "[I 2025-06-20 02:26:44,688] Trial 27 finished with value: 0.3682813333333335 and parameters: {'LightGBM (gbdt)': 0.3871730481151538, 'LightGBM (goss)': 0.16167995818759734, 'XGBoost': 0.7964105596269068, 'AutoGluon': 0.27555481973764706}. Best is trial 10 with value: 0.3683695555555555.\n",
      "[I 2025-06-20 02:26:47,541] Trial 28 finished with value: 0.3682606666666667 and parameters: {'LightGBM (gbdt)': 0.2618416091387239, 'LightGBM (goss)': 0.4041203998919604, 'XGBoost': 0.7583056041435453, 'AutoGluon': 0.23989036122984947}. Best is trial 10 with value: 0.3683695555555555.\n",
      "[I 2025-06-20 02:26:47,847] Trial 29 finished with value: 0.3681182222222222 and parameters: {'LightGBM (gbdt)': 0.1654228536531137, 'LightGBM (goss)': 0.3851585526555331, 'XGBoost': 0.9192704609129082, 'AutoGluon': 0.2600756675104085}. Best is trial 10 with value: 0.3683695555555555.\n",
      "[I 2025-06-20 02:26:49,706] Trial 30 finished with value: 0.36803911111111093 and parameters: {'LightGBM (gbdt)': 0.11099171263585539, 'LightGBM (goss)': 0.37537087644345146, 'XGBoost': 0.9600542317928886, 'AutoGluon': 0.24403716274549025}. Best is trial 10 with value: 0.3683695555555555.\n",
      "[I 2025-06-20 02:26:51,812] Trial 31 finished with value: 0.36804111111111115 and parameters: {'LightGBM (gbdt)': 0.16460408127795828, 'LightGBM (goss)': 0.37549698102502993, 'XGBoost': 0.9394539840564823, 'AutoGluon': 0.07627729779414882}. Best is trial 10 with value: 0.3683695555555555.\n",
      "[I 2025-06-20 02:26:54,180] Trial 32 finished with value: 0.3678724444444444 and parameters: {'LightGBM (gbdt)': 0.03297030757883462, 'LightGBM (goss)': 0.40154436796701953, 'XGBoost': 0.9317534240151395, 'AutoGluon': 0.09834273060707935}. Best is trial 10 with value: 0.3683695555555555.\n",
      "[I 2025-06-20 02:26:55,911] Trial 33 finished with value: 0.3652600000000001 and parameters: {'LightGBM (gbdt)': 0.08880042666508503, 'LightGBM (goss)': 0.11604047911886886, 'XGBoost': 0.5958749891152002, 'AutoGluon': 0.6506656938047961}. Best is trial 10 with value: 0.3683695555555555.\n",
      "[I 2025-06-20 02:26:56,875] Trial 34 finished with value: 0.36820066666666673 and parameters: {'LightGBM (gbdt)': 0.5004771063556774, 'LightGBM (goss)': 0.11299666262138316, 'XGBoost': 0.5725958027849347, 'AutoGluon': 0.11267620233504302}. Best is trial 10 with value: 0.3683695555555555.\n",
      "[I 2025-06-20 02:26:57,163] Trial 35 finished with value: 0.368175111111111 and parameters: {'LightGBM (gbdt)': 0.3285116501216275, 'LightGBM (goss)': 0.11804602730045298, 'XGBoost': 0.6196217571878049, 'AutoGluon': 0.30848552076257163}. Best is trial 10 with value: 0.3683695555555555.\n",
      "[I 2025-06-20 02:27:00,568] Trial 36 finished with value: 0.3683033333333334 and parameters: {'LightGBM (gbdt)': 0.4894749067501572, 'LightGBM (goss)': 0.12873696685466218, 'XGBoost': 0.5892726712493386, 'AutoGluon': 0.3146869336047529}. Best is trial 10 with value: 0.3683695555555555.\n",
      "[I 2025-06-20 02:27:01,359] Trial 37 finished with value: 0.36832733333333323 and parameters: {'LightGBM (gbdt)': 0.49480531042291565, 'LightGBM (goss)': 0.2379857624652899, 'XGBoost': 0.7556957090620113, 'AutoGluon': 0.30732777720409427}. Best is trial 10 with value: 0.3683695555555555.\n",
      "[I 2025-06-20 02:27:04,824] Trial 39 finished with value: 0.36839266666666665 and parameters: {'LightGBM (gbdt)': 0.6632912827739383, 'LightGBM (goss)': 0.2419582789870099, 'XGBoost': 0.8497644181727152, 'AutoGluon': 0.34520626635128693}. Best is trial 39 with value: 0.36839266666666665.\n",
      "[I 2025-06-20 02:27:05,872] Trial 38 finished with value: 0.368222 and parameters: {'LightGBM (gbdt)': 0.30330041187752615, 'LightGBM (goss)': 0.25490421323144113, 'XGBoost': 0.8556875558804783, 'AutoGluon': 0.3018227731190415}. Best is trial 39 with value: 0.36839266666666665.\n",
      "[I 2025-06-20 02:27:07,504] Trial 40 finished with value: 0.3683555555555556 and parameters: {'LightGBM (gbdt)': 0.6380882484374788, 'LightGBM (goss)': 0.2589246359941647, 'XGBoost': 0.8568137615917442, 'AutoGluon': 0.3312821040799684}. Best is trial 39 with value: 0.36839266666666665.\n",
      "[I 2025-06-20 02:27:07,770] Trial 41 finished with value: 0.368018888888889 and parameters: {'LightGBM (gbdt)': 0.6896445285075321, 'LightGBM (goss)': 0.22649259529801283, 'XGBoost': 0.43455883229729975, 'AutoGluon': 0.3735037796094234}. Best is trial 39 with value: 0.36839266666666665.\n",
      "[I 2025-06-20 02:27:11,014] Trial 42 finished with value: 0.3683462222222222 and parameters: {'LightGBM (gbdt)': 0.6575242189117547, 'LightGBM (goss)': 0.21994854999225627, 'XGBoost': 0.8753755057472392, 'AutoGluon': 0.357721552048537}. Best is trial 39 with value: 0.36839266666666665.\n",
      "[I 2025-06-20 02:27:13,628] Trial 43 finished with value: 0.368331111111111 and parameters: {'LightGBM (gbdt)': 0.6849972118309576, 'LightGBM (goss)': 0.23618581699147861, 'XGBoost': 0.8939642152068991, 'AutoGluon': 0.376928705154645}. Best is trial 39 with value: 0.36839266666666665.\n",
      "[I 2025-06-20 02:27:15,187] Trial 45 finished with value: 0.368246 and parameters: {'LightGBM (gbdt)': 0.6552929731732189, 'LightGBM (goss)': 0.4514809734492112, 'XGBoost': 0.8861691644369921, 'AutoGluon': 0.18711329535647825}. Best is trial 39 with value: 0.36839266666666665.\n",
      "[I 2025-06-20 02:27:15,187] Trial 44 finished with value: 0.3683522222222222 and parameters: {'LightGBM (gbdt)': 0.6689408727578492, 'LightGBM (goss)': 0.2479584351921095, 'XGBoost': 0.8826157844107755, 'AutoGluon': 0.3826459507599415}. Best is trial 39 with value: 0.36839266666666665.\n",
      "[I 2025-06-20 02:27:16,811] Trial 46 finished with value: 0.36823400000000006 and parameters: {'LightGBM (gbdt)': 0.6358804348818351, 'LightGBM (goss)': 0.45283315695795795, 'XGBoost': 0.8937746398064026, 'AutoGluon': 0.20419437814164723}. Best is trial 39 with value: 0.36839266666666665.\n",
      "[I 2025-06-20 02:27:20,863] Trial 47 finished with value: 0.3682146666666667 and parameters: {'LightGBM (gbdt)': 0.6375935565802767, 'LightGBM (goss)': 0.6569199703230011, 'XGBoost': 0.8939757838854144, 'AutoGluon': 0.3956722117054349}. Best is trial 39 with value: 0.36839266666666665.\n",
      "[I 2025-06-20 02:27:21,719] Trial 48 finished with value: 0.3681477777777777 and parameters: {'LightGBM (gbdt)': 0.6188947853973599, 'LightGBM (goss)': 0.6168258387592707, 'XGBoost': 0.9883019074494678, 'AutoGluon': 0.6075757642396563}. Best is trial 39 with value: 0.36839266666666665.\n",
      "[I 2025-06-20 02:27:22,048] Trial 49 finished with value: 0.36832622222222217 and parameters: {'LightGBM (gbdt)': 0.6352321382473971, 'LightGBM (goss)': 0.3425076941573849, 'XGBoost': 0.9940469955236262, 'AutoGluon': 0.392767414226325}. Best is trial 39 with value: 0.36839266666666665.\n",
      "[I 2025-06-20 02:27:26,859] Trial 50 finished with value: 0.36806066666666665 and parameters: {'LightGBM (gbdt)': 0.5632131621978083, 'LightGBM (goss)': 0.7000446078768696, 'XGBoost': 0.9928182572126822, 'AutoGluon': 0.5887906928612634}. Best is trial 39 with value: 0.36839266666666665.\n",
      "[I 2025-06-20 02:27:27,108] Trial 51 finished with value: 0.3681566666666667 and parameters: {'LightGBM (gbdt)': 0.8514565575036278, 'LightGBM (goss)': 0.6076764478689247, 'XGBoost': 0.9803914060903525, 'AutoGluon': 0.6288752818425457}. Best is trial 39 with value: 0.36839266666666665.\n",
      "[I 2025-06-20 02:27:27,514] Trial 53 finished with value: 0.3682455555555555 and parameters: {'LightGBM (gbdt)': 0.549980690159293, 'LightGBM (goss)': 0.09186982362131213, 'XGBoost': 0.8207366581313711, 'AutoGluon': 0.14564409761737396}. Best is trial 39 with value: 0.36839266666666665.\n",
      "[I 2025-06-20 02:27:28,487] Trial 52 finished with value: 0.36824800000000013 and parameters: {'LightGBM (gbdt)': 0.8447628761966897, 'LightGBM (goss)': 0.06582335201339021, 'XGBoost': 0.8320380311140263, 'AutoGluon': 0.4618509676919858}. Best is trial 39 with value: 0.36839266666666665.\n",
      "[I 2025-06-20 02:27:32,696] Trial 54 finished with value: 0.3682760000000001 and parameters: {'LightGBM (gbdt)': 0.7170740004780773, 'LightGBM (goss)': 0.2265627141493125, 'XGBoost': 0.8539568385071853, 'AutoGluon': 0.4758049442698849}. Best is trial 39 with value: 0.36839266666666665.\n",
      "[I 2025-06-20 02:27:32,957] Trial 55 finished with value: 0.36825844444444444 and parameters: {'LightGBM (gbdt)': 0.7111832454952083, 'LightGBM (goss)': 0.2296683551709303, 'XGBoost': 0.8457738182901411, 'AutoGluon': 0.4798562911026188}. Best is trial 39 with value: 0.36839266666666665.\n",
      "[I 2025-06-20 02:27:35,107] Trial 56 finished with value: 0.3683193333333333 and parameters: {'LightGBM (gbdt)': 0.7386948717576105, 'LightGBM (goss)': 0.21659946311151676, 'XGBoost': 0.8538609003935479, 'AutoGluon': 0.46581748143471435}. Best is trial 39 with value: 0.36839266666666665.\n",
      "[I 2025-06-20 02:27:37,826] Trial 57 finished with value: 0.3682137777777778 and parameters: {'LightGBM (gbdt)': 0.6837190921568533, 'LightGBM (goss)': 0.2671678638001803, 'XGBoost': 0.8648654566440973, 'AutoGluon': 0.4879854034844434}. Best is trial 39 with value: 0.36839266666666665.\n",
      "[I 2025-06-20 02:27:39,418] Trial 58 finished with value: 0.368372 and parameters: {'LightGBM (gbdt)': 0.714819214030242, 'LightGBM (goss)': 0.2657735915833892, 'XGBoost': 0.7802881594574476, 'AutoGluon': 0.34694984286688224}. Best is trial 39 with value: 0.36839266666666665.\n",
      "[I 2025-06-20 02:27:39,502] Trial 59 finished with value: 0.3683551111111111 and parameters: {'LightGBM (gbdt)': 0.5966027493783757, 'LightGBM (goss)': 0.3323814180913313, 'XGBoost': 0.7887343912275574, 'AutoGluon': 0.34333135977455453}. Best is trial 39 with value: 0.36839266666666665.\n",
      "[I 2025-06-20 02:27:44,734] Trial 60 finished with value: 0.3670875555555555 and parameters: {'LightGBM (gbdt)': 0.6748908546379196, 'LightGBM (goss)': 0.3274003978370412, 'XGBoost': 0.7163921362463075, 'AutoGluon': 0.9634308177907278}. Best is trial 39 with value: 0.36839266666666665.\n",
      "[I 2025-06-20 02:27:45,990] Trial 63 finished with value: 0.3683262222222221 and parameters: {'LightGBM (gbdt)': 0.6053975821406307, 'LightGBM (goss)': 0.3394685865964775, 'XGBoost': 0.7098641652095042, 'AutoGluon': 0.33502645828140276}. Best is trial 39 with value: 0.36839266666666665.\n",
      "[I 2025-06-20 02:27:46,151] Trial 62 finished with value: 0.36828511111111106 and parameters: {'LightGBM (gbdt)': 0.5996923684594291, 'LightGBM (goss)': 0.31322536140243223, 'XGBoost': 0.7233204124357464, 'AutoGluon': 0.22884624907399265}. Best is trial 39 with value: 0.36839266666666665.\n",
      "[I 2025-06-20 02:27:46,446] Trial 61 finished with value: 0.36687933333333334 and parameters: {'LightGBM (gbdt)': 0.5840432581858642, 'LightGBM (goss)': 0.32737941467354265, 'XGBoost': 0.7916223591612261, 'AutoGluon': 0.9971456335478462}. Best is trial 39 with value: 0.36839266666666665.\n",
      "[I 2025-06-20 02:27:50,838] Trial 64 finished with value: 0.3683142222222223 and parameters: {'LightGBM (gbdt)': 0.6042910988268188, 'LightGBM (goss)': 0.31468768246235956, 'XGBoost': 0.7241329939006296, 'AutoGluon': 0.33970871032019845}. Best is trial 39 with value: 0.36839266666666665.\n",
      "[I 2025-06-20 02:27:52,204] Trial 65 finished with value: 0.3682873333333334 and parameters: {'LightGBM (gbdt)': 0.5410636305829716, 'LightGBM (goss)': 0.14805376638452358, 'XGBoost': 0.8050769913653303, 'AutoGluon': 0.410917545626956}. Best is trial 39 with value: 0.36839266666666665.\n",
      "[I 2025-06-20 02:27:52,331] Trial 66 finished with value: 0.36823888888888884 and parameters: {'LightGBM (gbdt)': 0.5502156910684886, 'LightGBM (goss)': 0.27479218184038046, 'XGBoost': 0.7966212533796536, 'AutoGluon': 0.4147730519674693}. Best is trial 39 with value: 0.36839266666666665.\n",
      "[I 2025-06-20 02:27:52,767] Trial 67 finished with value: 0.36823088888888894 and parameters: {'LightGBM (gbdt)': 0.5371904856500028, 'LightGBM (goss)': 0.27404337984432775, 'XGBoost': 0.7932716458417451, 'AutoGluon': 0.42169995150474754}. Best is trial 39 with value: 0.36839266666666665.\n",
      "[I 2025-06-20 02:27:58,567] Trial 70 finished with value: 0.36834177777777777 and parameters: {'LightGBM (gbdt)': 0.4583892307173456, 'LightGBM (goss)': 0.2011247646034953, 'XGBoost': 0.6560165859526028, 'AutoGluon': 0.27324981523089}. Best is trial 39 with value: 0.36839266666666665.\n",
      "[I 2025-06-20 02:27:58,726] Trial 68 finished with value: 0.36820444444444433 and parameters: {'LightGBM (gbdt)': 0.5277436340749899, 'LightGBM (goss)': 0.1955323767508303, 'XGBoost': 0.785870505013397, 'AutoGluon': 0.41147670884478293}. Best is trial 39 with value: 0.36839266666666665.\n",
      "[I 2025-06-20 02:27:59,320] Trial 71 finished with value: 0.36840022222222224 and parameters: {'LightGBM (gbdt)': 0.7431956093627388, 'LightGBM (goss)': 0.1952949078734665, 'XGBoost': 0.9206715283642907, 'AutoGluon': 0.3482231269579286}. Best is trial 71 with value: 0.36840022222222224.\n",
      "[I 2025-06-20 02:27:59,735] Trial 69 finished with value: 0.36831355555555567 and parameters: {'LightGBM (gbdt)': 0.4575991322114188, 'LightGBM (goss)': 0.2762381727216885, 'XGBoost': 0.6399516940760954, 'AutoGluon': 0.2735292975907288}. Best is trial 71 with value: 0.36840022222222224.\n",
      "[I 2025-06-20 02:28:06,174] Trial 72 finished with value: 0.36825044444444444 and parameters: {'LightGBM (gbdt)': 0.803262271109171, 'LightGBM (goss)': 0.48266579504760604, 'XGBoost': 0.9208906895648237, 'AutoGluon': 0.3539676952199443}. Best is trial 71 with value: 0.36840022222222224.\n",
      "[I 2025-06-20 02:28:06,754] Trial 73 finished with value: 0.36838599999999994 and parameters: {'LightGBM (gbdt)': 0.8041327113510668, 'LightGBM (goss)': 0.15127139829630948, 'XGBoost': 0.9211830575098099, 'AutoGluon': 0.35007339090142986}. Best is trial 71 with value: 0.36840022222222224.\n",
      "[I 2025-06-20 02:28:06,962] Trial 74 finished with value: 0.368395111111111 and parameters: {'LightGBM (gbdt)': 0.8228972529959296, 'LightGBM (goss)': 0.15068992763511085, 'XGBoost': 0.9571812538250836, 'AutoGluon': 0.3442666104964642}. Best is trial 71 with value: 0.36840022222222224.\n",
      "[I 2025-06-20 02:28:07,233] Trial 75 finished with value: 0.36837577777777797 and parameters: {'LightGBM (gbdt)': 0.8173192686133797, 'LightGBM (goss)': 0.15234094855598623, 'XGBoost': 0.9442406115512872, 'AutoGluon': 0.35489568669445837}. Best is trial 71 with value: 0.36840022222222224.\n",
      "[I 2025-06-20 02:28:14,109] Trial 77 finished with value: 0.3673491111111112 and parameters: {'LightGBM (gbdt)': 0.736374566248204, 'LightGBM (goss)': 0.14849434913166698, 'XGBoost': 0.14803111302720984, 'AutoGluon': 0.3308634236082884}. Best is trial 71 with value: 0.36840022222222224.\n",
      "[I 2025-06-20 02:28:14,178] Trial 78 finished with value: 0.3684037777777776 and parameters: {'LightGBM (gbdt)': 0.8205820425048436, 'LightGBM (goss)': 0.046401467211791045, 'XGBoost': 0.9223864796168315, 'AutoGluon': 0.3167674888970824}. Best is trial 78 with value: 0.3684037777777776.\n",
      "[I 2025-06-20 02:28:14,682] Trial 79 finished with value: 0.36828422222222207 and parameters: {'LightGBM (gbdt)': 0.9331642319081745, 'LightGBM (goss)': 0.1538403496450086, 'XGBoost': 0.9347650841888792, 'AutoGluon': 0.5210599131351261}. Best is trial 78 with value: 0.3684037777777776.\n",
      "[I 2025-06-20 02:28:14,875] Trial 76 finished with value: 0.368351777777778 and parameters: {'LightGBM (gbdt)': 0.7541400679072157, 'LightGBM (goss)': 0.13732518358523776, 'XGBoost': 0.9417453706887767, 'AutoGluon': 0.3363256364932567}. Best is trial 78 with value: 0.3684037777777776.\n",
      "[I 2025-06-20 02:28:20,715] Trial 81 finished with value: 0.3682404444444446 and parameters: {'LightGBM (gbdt)': 0.938220533813824, 'LightGBM (goss)': 0.04140837803434941, 'XGBoost': 0.9560938668445902, 'AutoGluon': 0.251424207809704}. Best is trial 78 with value: 0.3684037777777776.\n",
      "[I 2025-06-20 02:28:21,740] Trial 82 finished with value: 0.3682586666666667 and parameters: {'LightGBM (gbdt)': 0.8288983396855797, 'LightGBM (goss)': 0.09464614144369027, 'XGBoost': 0.9526230523784154, 'AutoGluon': 0.2512983412305037}. Best is trial 78 with value: 0.3684037777777776.\n",
      "[I 2025-06-20 02:28:21,930] Trial 83 finished with value: 0.3681331111111114 and parameters: {'LightGBM (gbdt)': 0.8208956963721721, 'LightGBM (goss)': 0.033611761940725335, 'XGBoost': 0.9628571241380931, 'AutoGluon': 0.16040537064902272}. Best is trial 78 with value: 0.3684037777777776.\n",
      "[I 2025-06-20 02:28:22,121] Trial 80 finished with value: 0.3682324444444445 and parameters: {'LightGBM (gbdt)': 0.9263177790658288, 'LightGBM (goss)': 0.03556817032836143, 'XGBoost': 0.9584781321201852, 'AutoGluon': 0.24837071569437968}. Best is trial 78 with value: 0.3684037777777776.\n",
      "[I 2025-06-20 02:28:28,760] Trial 84 finished with value: 0.3683222222222221 and parameters: {'LightGBM (gbdt)': 0.8171383687361778, 'LightGBM (goss)': 0.00453857402873744, 'XGBoost': 0.9567629234307058, 'AutoGluon': 0.30960605141309594}. Best is trial 78 with value: 0.3684037777777776.\n",
      "[I 2025-06-20 02:28:28,848] Trial 87 finished with value: 0.36838733333333323 and parameters: {'LightGBM (gbdt)': 0.8931823844261655, 'LightGBM (goss)': 0.08335380546742938, 'XGBoost': 0.9104960540273511, 'AutoGluon': 0.29956920217465816}. Best is trial 78 with value: 0.3684037777777776.\n",
      "[I 2025-06-20 02:28:29,271] Trial 85 finished with value: 0.36833088888888893 and parameters: {'LightGBM (gbdt)': 0.8746722672369661, 'LightGBM (goss)': 0.006133337164648624, 'XGBoost': 0.9706366727812902, 'AutoGluon': 0.3112684128326088}. Best is trial 78 with value: 0.3684037777777776.\n",
      "[I 2025-06-20 02:28:29,544] Trial 86 finished with value: 0.3683564444444445 and parameters: {'LightGBM (gbdt)': 0.8855687632529049, 'LightGBM (goss)': 0.002703994930021998, 'XGBoost': 0.911254857162035, 'AutoGluon': 0.29754397437269314}. Best is trial 78 with value: 0.3684037777777776.\n",
      "[I 2025-06-20 02:28:34,965] Trial 89 finished with value: 0.36818711111111124 and parameters: {'LightGBM (gbdt)': 0.8750563091499246, 'LightGBM (goss)': 0.07677948539139204, 'XGBoost': 0.9074285209746726, 'AutoGluon': 0.20589286278271768}. Best is trial 78 with value: 0.3684037777777776.\n",
      "[I 2025-06-20 02:28:35,728] Trial 91 finished with value: 0.3682231111111111 and parameters: {'LightGBM (gbdt)': 0.7810983501891665, 'LightGBM (goss)': 0.09097252987147736, 'XGBoost': 0.9010734785762747, 'AutoGluon': 0.21901021349439626}. Best is trial 78 with value: 0.3684037777777776.\n",
      "[I 2025-06-20 02:28:35,729] Trial 88 finished with value: 0.3681806666666666 and parameters: {'LightGBM (gbdt)': 0.8866054943064515, 'LightGBM (goss)': 0.09138432710720998, 'XGBoost': 0.9182146682067664, 'AutoGluon': 0.22422508460027996}. Best is trial 78 with value: 0.3684037777777776.\n",
      "[I 2025-06-20 02:28:36,114] Trial 90 finished with value: 0.36817422222222224 and parameters: {'LightGBM (gbdt)': 0.8899591721893159, 'LightGBM (goss)': 0.06463408817892188, 'XGBoost': 0.9096601167013875, 'AutoGluon': 0.20736034791488486}. Best is trial 78 with value: 0.3684037777777776.\n",
      "[I 2025-06-20 02:28:43,286] Trial 94 finished with value: 0.3683737777777777 and parameters: {'LightGBM (gbdt)': 0.9031559037969392, 'LightGBM (goss)': 0.048736670352868855, 'XGBoost': 0.8331383310874227, 'AutoGluon': 0.28959730514663556}. Best is trial 78 with value: 0.3684037777777776.\n",
      "[I 2025-06-20 02:28:43,482] Trial 92 finished with value: 0.3682893333333332 and parameters: {'LightGBM (gbdt)': 0.7824523273450362, 'LightGBM (goss)': 0.09756920854134853, 'XGBoost': 0.829584909198365, 'AutoGluon': 0.37456199026260156}. Best is trial 78 with value: 0.3684037777777776.\n",
      "[I 2025-06-20 02:28:43,552] Trial 93 finished with value: 0.3683753333333333 and parameters: {'LightGBM (gbdt)': 0.8880389415241368, 'LightGBM (goss)': 0.05939475317943214, 'XGBoost': 0.829597433072654, 'AutoGluon': 0.2935913476642973}. Best is trial 78 with value: 0.3684037777777776.\n",
      "[I 2025-06-20 02:28:43,755] Trial 95 finished with value: 0.3682126666666667 and parameters: {'LightGBM (gbdt)': 0.96369248261803, 'LightGBM (goss)': 0.17769796204794358, 'XGBoost': 0.8268261909150615, 'AutoGluon': 0.2821466200282938}. Best is trial 78 with value: 0.3684037777777776.\n",
      "[I 2025-06-20 02:28:49,402] Trial 98 finished with value: 0.36767866666666665 and parameters: {'LightGBM (gbdt)': 0.8517342355103676, 'LightGBM (goss)': 0.05321699995239064, 'XGBoost': 0.751574379591335, 'AutoGluon': 0.7311445550102087}. Best is trial 78 with value: 0.3684037777777776.\n",
      "[I 2025-06-20 02:28:49,687] Trial 99 finished with value: 0.3682428888888889 and parameters: {'LightGBM (gbdt)': 0.9738624433927863, 'LightGBM (goss)': 0.12335678019838384, 'XGBoost': 0.8735117667116168, 'AutoGluon': 0.43927377611167506}. Best is trial 78 with value: 0.3684037777777776.\n",
      "[I 2025-06-20 02:28:49,874] Trial 96 finished with value: 0.3683353333333334 and parameters: {'LightGBM (gbdt)': 0.9535460976223422, 'LightGBM (goss)': 0.1150605780592205, 'XGBoost': 0.8740982259682574, 'AutoGluon': 0.38040925033096207}. Best is trial 78 with value: 0.3684037777777776.\n",
      "[I 2025-06-20 02:28:50,123] Trial 97 finished with value: 0.3682479999999999 and parameters: {'LightGBM (gbdt)': 0.9598637355722754, 'LightGBM (goss)': 0.1656107834014267, 'XGBoost': 0.8768996906105877, 'AutoGluon': 0.285347979180998}. Best is trial 78 with value: 0.3684037777777776.\n",
      "[I 2025-06-20 02:28:56,092] Trial 103 finished with value: 0.3676855555555555 and parameters: {'LightGBM (gbdt)': 0.9018093437723681, 'LightGBM (goss)': 0.2033873274802269, 'XGBoost': 0.25477510995995634, 'AutoGluon': 0.36181164838436775}. Best is trial 78 with value: 0.3684037777777776.\n",
      "[I 2025-06-20 02:28:56,738] Trial 100 finished with value: 0.3682784444444445 and parameters: {'LightGBM (gbdt)': 0.9094047163295587, 'LightGBM (goss)': 0.11656270533921749, 'XGBoost': 0.8823539968527239, 'AutoGluon': 0.4439908961322177}. Best is trial 78 with value: 0.3684037777777776.\n",
      "[I 2025-06-20 02:28:56,913] Trial 102 finished with value: 0.36838199999999993 and parameters: {'LightGBM (gbdt)': 0.7572618823830136, 'LightGBM (goss)': 0.16125675228823513, 'XGBoost': 0.9980740671935338, 'AutoGluon': 0.3627778653190744}. Best is trial 78 with value: 0.3684037777777776.\n",
      "[I 2025-06-20 02:28:57,122] Trial 101 finished with value: 0.3684079999999999 and parameters: {'LightGBM (gbdt)': 0.915038044516773, 'LightGBM (goss)': 0.16353323420442686, 'XGBoost': 0.9975972470061353, 'AutoGluon': 0.3574969740484688}. Best is trial 101 with value: 0.3684079999999999.\n",
      "[I 2025-06-20 02:29:04,387] Trial 106 finished with value: 0.3684082222222222 and parameters: {'LightGBM (gbdt)': 0.7567332379430445, 'LightGBM (goss)': 0.056532404410915366, 'XGBoost': 0.9372545738004645, 'AutoGluon': 0.32409235376617823}. Best is trial 106 with value: 0.3684082222222222.\n",
      "[I 2025-06-20 02:29:04,891] Trial 105 finished with value: 0.3682744444444444 and parameters: {'LightGBM (gbdt)': 0.855844652314274, 'LightGBM (goss)': 0.13806057188774204, 'XGBoost': 0.9312659359425526, 'AutoGluon': 0.26401525757188715}. Best is trial 106 with value: 0.3684082222222222.\n",
      "[I 2025-06-20 02:29:05,128] Trial 104 finished with value: 0.3682831111111112 and parameters: {'LightGBM (gbdt)': 0.8586410897177253, 'LightGBM (goss)': 0.05269503590243486, 'XGBoost': 0.9321718642469043, 'AutoGluon': 0.26461150287110113}. Best is trial 106 with value: 0.3684082222222222.\n",
      "[I 2025-06-20 02:29:05,208] Trial 107 finished with value: 0.36835955555555566 and parameters: {'LightGBM (gbdt)': 0.8586725907965015, 'LightGBM (goss)': 0.0527624711715657, 'XGBoost': 0.9934152992911629, 'AutoGluon': 0.3979268581713935}. Best is trial 106 with value: 0.3684082222222222.\n",
      "[I 2025-06-20 02:29:11,619] Trial 109 finished with value: 0.36836422222222215 and parameters: {'LightGBM (gbdt)': 0.7939786260822476, 'LightGBM (goss)': 0.17148575161527482, 'XGBoost': 0.988408354196005, 'AutoGluon': 0.3180773181439325}. Best is trial 106 with value: 0.3684082222222222.\n",
      "[I 2025-06-20 02:29:12,023] Trial 111 finished with value: 0.3683424444444446 and parameters: {'LightGBM (gbdt)': 0.8015118925425215, 'LightGBM (goss)': 0.1915601816695572, 'XGBoost': 0.998316499160779, 'AutoGluon': 0.31424317134487106}. Best is trial 106 with value: 0.3684082222222222.\n",
      "[I 2025-06-20 02:29:12,519] Trial 108 finished with value: 0.36836266666666684 and parameters: {'LightGBM (gbdt)': 0.7527542905453177, 'LightGBM (goss)': 0.07472194516553504, 'XGBoost': 0.9814978692796859, 'AutoGluon': 0.39340202497713395}. Best is trial 106 with value: 0.3684082222222222.\n",
      "[I 2025-06-20 02:29:12,519] Trial 110 finished with value: 0.3683555555555555 and parameters: {'LightGBM (gbdt)': 0.7535630631906837, 'LightGBM (goss)': 0.07584735916147899, 'XGBoost': 0.9833738818341735, 'AutoGluon': 0.3187312020040331}. Best is trial 106 with value: 0.3684082222222222.\n",
      "[I 2025-06-20 02:29:19,623] Trial 112 finished with value: 0.3676317777777778 and parameters: {'LightGBM (gbdt)': 0.760419116177793, 'LightGBM (goss)': 0.980465948533864, 'XGBoost': 0.35148567529056585, 'AutoGluon': 0.3615919532511681}. Best is trial 106 with value: 0.3684082222222222.\n",
      "[I 2025-06-20 02:29:19,652] Trial 115 finished with value: 0.36836088888888874 and parameters: {'LightGBM (gbdt)': 0.7280479710335013, 'LightGBM (goss)': 0.02273261121123002, 'XGBoost': 0.932528967342662, 'AutoGluon': 0.36631670689076357}. Best is trial 106 with value: 0.3684082222222222.\n",
      "[I 2025-06-20 02:29:19,890] Trial 114 finished with value: 0.3678144444444445 and parameters: {'LightGBM (gbdt)': 0.8251269816779376, 'LightGBM (goss)': 0.027253856754540465, 'XGBoost': 0.324482094262713, 'AutoGluon': 0.35810608128631144}. Best is trial 106 with value: 0.3684082222222222.\n",
      "[I 2025-06-20 02:29:20,074] Trial 113 finished with value: 0.3683522222222222 and parameters: {'LightGBM (gbdt)': 0.7515589241389145, 'LightGBM (goss)': 0.10442976027517892, 'XGBoost': 0.9779919467592635, 'AutoGluon': 0.3654477673393431}. Best is trial 106 with value: 0.3684082222222222.\n",
      "[I 2025-06-20 02:29:25,587] Trial 117 finished with value: 0.3683319999999998 and parameters: {'LightGBM (gbdt)': 0.8342136133963971, 'LightGBM (goss)': 0.10977372557238763, 'XGBoost': 0.9465393817333019, 'AutoGluon': 0.28713084649804566}. Best is trial 106 with value: 0.3684082222222222.\n",
      "[I 2025-06-20 02:29:26,327] Trial 119 finished with value: 0.3682991111111111 and parameters: {'LightGBM (gbdt)': 0.9884764875378571, 'LightGBM (goss)': 0.14941473806939465, 'XGBoost': 0.9429676665486776, 'AutoGluon': 0.2849972282250044}. Best is trial 106 with value: 0.3684082222222222.\n",
      "[I 2025-06-20 02:29:26,447] Trial 116 finished with value: 0.3683597777777776 and parameters: {'LightGBM (gbdt)': 0.8350319717808475, 'LightGBM (goss)': 0.10354630034031397, 'XGBoost': 0.9453464716365686, 'AutoGluon': 0.289784809783004}. Best is trial 106 with value: 0.3684082222222222.\n",
      "[I 2025-06-20 02:29:26,447] Trial 118 finished with value: 0.3680895555555555 and parameters: {'LightGBM (gbdt)': 0.9862295328896064, 'LightGBM (goss)': 0.13669522524561548, 'XGBoost': 0.5149514463936058, 'AutoGluon': 0.290086635413659}. Best is trial 106 with value: 0.3684082222222222.\n",
      "[I 2025-06-20 02:29:32,608] Trial 120 finished with value: 0.3682951111111111 and parameters: {'LightGBM (gbdt)': 0.9888176691323245, 'LightGBM (goss)': 0.13812546814023893, 'XGBoost': 0.899705919968463, 'AutoGluon': 0.29623515803049266}. Best is trial 106 with value: 0.3684082222222222.\n",
      "[I 2025-06-20 02:29:32,880] Trial 123 finished with value: 0.36841311111111114 and parameters: {'LightGBM (gbdt)': 0.8081206542658873, 'LightGBM (goss)': 0.16116933667054625, 'XGBoost': 0.8961843435724689, 'AutoGluon': 0.3307700314692439}. Best is trial 123 with value: 0.36841311111111114.\n",
      "[I 2025-06-20 02:29:33,344] Trial 121 finished with value: 0.3683275555555554 and parameters: {'LightGBM (gbdt)': 0.9116809971004639, 'LightGBM (goss)': 0.20500453822623496, 'XGBoost': 0.8486882350933473, 'AutoGluon': 0.3297425336277665}. Best is trial 123 with value: 0.36841311111111114.\n",
      "[I 2025-06-20 02:29:33,393] Trial 122 finished with value: 0.36832777777777775 and parameters: {'LightGBM (gbdt)': 0.9189773149752716, 'LightGBM (goss)': 0.17215726378526797, 'XGBoost': 0.846118399688182, 'AutoGluon': 0.33179155967446683}. Best is trial 123 with value: 0.36841311111111114.\n",
      "[I 2025-06-20 02:29:38,619] Trial 125 finished with value: 0.36836888888888886 and parameters: {'LightGBM (gbdt)': 0.7000179835273338, 'LightGBM (goss)': 0.16593281163281504, 'XGBoost': 0.8473859884728577, 'AutoGluon': 0.3260754358482356}. Best is trial 123 with value: 0.36841311111111114.\n",
      "[I 2025-06-20 02:29:39,057] Trial 127 finished with value: 0.3682857777777778 and parameters: {'LightGBM (gbdt)': 0.81297980893107, 'LightGBM (goss)': 0.0710440182556999, 'XGBoost': 0.9162415070335638, 'AutoGluon': 0.39584720092461495}. Best is trial 123 with value: 0.36841311111111114.\n",
      "[I 2025-06-20 02:29:39,400] Trial 124 finished with value: 0.3683179999999999 and parameters: {'LightGBM (gbdt)': 0.8062154076086684, 'LightGBM (goss)': 0.2489539024588039, 'XGBoost': 0.8449109865242252, 'AutoGluon': 0.3385272497800055}. Best is trial 123 with value: 0.36841311111111114.\n",
      "[I 2025-06-20 02:29:39,895] Trial 126 finished with value: 0.36836088888888885 and parameters: {'LightGBM (gbdt)': 0.8057984699574632, 'LightGBM (goss)': 0.1626441586661331, 'XGBoost': 0.9697169749757221, 'AutoGluon': 0.40113842379784564}. Best is trial 123 with value: 0.36841311111111114.\n",
      "[I 2025-06-20 02:29:46,718] Trial 128 finished with value: 0.36830755555555555 and parameters: {'LightGBM (gbdt)': 0.7775466372456548, 'LightGBM (goss)': 0.07310549033695429, 'XGBoost': 0.9055778732557231, 'AutoGluon': 0.3944785203260282}. Best is trial 123 with value: 0.36841311111111114.\n",
      "[I 2025-06-20 02:29:46,720] Trial 129 finished with value: 0.36834911111111124 and parameters: {'LightGBM (gbdt)': 0.8703067127336522, 'LightGBM (goss)': 0.21557806130016505, 'XGBoost': 0.9681009936339982, 'AutoGluon': 0.34471196475734867}. Best is trial 123 with value: 0.36841311111111114.\n",
      "[I 2025-06-20 02:29:47,648] Trial 131 finished with value: 0.3681824444444444 and parameters: {'LightGBM (gbdt)': 0.7790247011057496, 'LightGBM (goss)': 0.04153581769468055, 'XGBoost': 0.8911903324278444, 'AutoGluon': 0.18684513744302078}. Best is trial 123 with value: 0.36841311111111114.\n",
      "[I 2025-06-20 02:29:47,803] Trial 130 finished with value: 0.3683582222222221 and parameters: {'LightGBM (gbdt)': 0.7747173490559173, 'LightGBM (goss)': 0.12714439645620954, 'XGBoost': 0.901675603107129, 'AutoGluon': 0.4171856840310786}. Best is trial 123 with value: 0.36841311111111114.\n",
      "[I 2025-06-20 02:29:53,501] Trial 132 finished with value: 0.36822844444444425 and parameters: {'LightGBM (gbdt)': 0.9400862277031831, 'LightGBM (goss)': 0.04171986206331074, 'XGBoost': 0.8918435746579977, 'AutoGluon': 0.2423680249305646}. Best is trial 123 with value: 0.36841311111111114.\n",
      "[I 2025-06-20 02:29:53,891] Trial 133 finished with value: 0.3680428888888889 and parameters: {'LightGBM (gbdt)': 0.895049906865715, 'LightGBM (goss)': 0.12997981564834854, 'XGBoost': 0.4510691123589221, 'AutoGluon': 0.18005191761344466}. Best is trial 123 with value: 0.36841311111111114.\n",
      "[I 2025-06-20 02:29:54,155] Trial 134 finished with value: 0.36813777777777784 and parameters: {'LightGBM (gbdt)': 0.712851562917633, 'LightGBM (goss)': 0.8431562562180811, 'XGBoost': 0.8139256852962169, 'AutoGluon': 0.3496949939052372}. Best is trial 123 with value: 0.36841311111111114.\n",
      "[I 2025-06-20 02:29:54,332] Trial 135 finished with value: 0.3683862222222225 and parameters: {'LightGBM (gbdt)': 0.7186294525634254, 'LightGBM (goss)': 0.18172711867485408, 'XGBoost': 0.7763504109500369, 'AutoGluon': 0.34545775893588915}. Best is trial 123 with value: 0.36841311111111114.\n",
      "[I 2025-06-20 02:29:59,781] Trial 136 finished with value: 0.3683646666666667 and parameters: {'LightGBM (gbdt)': 0.7300216824536285, 'LightGBM (goss)': 0.24431339022076567, 'XGBoost': 0.9268779238671195, 'AutoGluon': 0.3531212990953684}. Best is trial 123 with value: 0.36841311111111114.\n",
      "[I 2025-06-20 02:30:00,497] Trial 139 finished with value: 0.36833022222222217 and parameters: {'LightGBM (gbdt)': 0.7344616253896337, 'LightGBM (goss)': 0.08364993325938441, 'XGBoost': 0.8658941729612878, 'AutoGluon': 0.37631897865791836}. Best is trial 123 with value: 0.36841311111111114.\n",
      "[I 2025-06-20 02:30:00,804] Trial 138 finished with value: 0.3683617777777779 and parameters: {'LightGBM (gbdt)': 0.7434914636911678, 'LightGBM (goss)': 0.18172159828020337, 'XGBoost': 0.871824457156406, 'AutoGluon': 0.3073239780627759}. Best is trial 123 with value: 0.36841311111111114.\n",
      "[I 2025-06-20 02:30:01,175] Trial 137 finished with value: 0.3683457777777778 and parameters: {'LightGBM (gbdt)': 0.7185748409525979, 'LightGBM (goss)': 0.184247894861935, 'XGBoost': 0.8178538676602325, 'AutoGluon': 0.3485165382012243}. Best is trial 123 with value: 0.36841311111111114.\n",
      "[I 2025-06-20 02:30:08,384] Trial 140 finished with value: 0.36832733333333323 and parameters: {'LightGBM (gbdt)': 0.8434979046369743, 'LightGBM (goss)': 0.18599931878136047, 'XGBoost': 0.8680528880981885, 'AutoGluon': 0.37766949974389974}. Best is trial 123 with value: 0.36841311111111114.\n",
      "[I 2025-06-20 02:30:08,856] Trial 141 finished with value: 0.3682864444444444 and parameters: {'LightGBM (gbdt)': 0.8298072988317671, 'LightGBM (goss)': 0.1981254327409262, 'XGBoost': 0.8189970832497533, 'AutoGluon': 0.26213646490664944}. Best is trial 123 with value: 0.36841311111111114.\n",
      "[I 2025-06-20 02:30:08,948] Trial 143 finished with value: 0.368218 and parameters: {'LightGBM (gbdt)': 0.8396323669659973, 'LightGBM (goss)': 0.5310562634471822, 'XGBoost': 0.9502531502883909, 'AutoGluon': 0.26637728665601196}. Best is trial 123 with value: 0.36841311111111114.\n",
      "[I 2025-06-20 02:30:09,175] Trial 142 finished with value: 0.3683495555555556 and parameters: {'LightGBM (gbdt)': 0.6973240991678238, 'LightGBM (goss)': 0.19479264617892744, 'XGBoost': 0.9581063118590472, 'AutoGluon': 0.44091290263224986}. Best is trial 123 with value: 0.36841311111111114.\n",
      "[I 2025-06-20 02:30:14,841] Trial 144 finished with value: 0.3683779999999999 and parameters: {'LightGBM (gbdt)': 0.695122693216597, 'LightGBM (goss)': 0.22503507587474814, 'XGBoost': 0.7673343304889754, 'AutoGluon': 0.3091834541242165}. Best is trial 123 with value: 0.36841311111111114.\n",
      "[I 2025-06-20 02:30:15,895] Trial 145 finished with value: 0.36838711111111133 and parameters: {'LightGBM (gbdt)': 0.6917735200793892, 'LightGBM (goss)': 0.22211146432382717, 'XGBoost': 0.7708943482350336, 'AutoGluon': 0.30787432506772316}. Best is trial 123 with value: 0.36841311111111114.\n",
      "[I 2025-06-20 02:30:15,917] Trial 147 finished with value: 0.36825555555555567 and parameters: {'LightGBM (gbdt)': 0.7973369023169284, 'LightGBM (goss)': 0.22065021112857358, 'XGBoost': 0.5602885002698019, 'AutoGluon': 0.3092561119735395}. Best is trial 123 with value: 0.36841311111111114.\n",
      "[I 2025-06-20 02:30:16,530] Trial 146 finished with value: 0.3682346666666666 and parameters: {'LightGBM (gbdt)': 0.7035191287597218, 'LightGBM (goss)': 0.15696972156962843, 'XGBoost': 0.5523446222020709, 'AutoGluon': 0.30946226520706477}. Best is trial 123 with value: 0.36841311111111114.\n",
      "[I 2025-06-20 02:30:22,261] Trial 148 finished with value: 0.3683782222222223 and parameters: {'LightGBM (gbdt)': 0.6653924652263012, 'LightGBM (goss)': 0.21649726576530082, 'XGBoost': 0.7678051971014694, 'AutoGluon': 0.3060556310414656}. Best is trial 123 with value: 0.36841311111111114.\n",
      "[I 2025-06-20 02:30:22,344] Trial 150 finished with value: 0.36835911111111114 and parameters: {'LightGBM (gbdt)': 0.6850665908889497, 'LightGBM (goss)': 0.1490774125862655, 'XGBoost': 0.7634895777651516, 'AutoGluon': 0.3246648907151913}. Best is trial 123 with value: 0.36841311111111114.\n",
      "[I 2025-06-20 02:30:22,963] Trial 149 finished with value: 0.36831755555555556 and parameters: {'LightGBM (gbdt)': 0.6513378316012702, 'LightGBM (goss)': 0.15426245925338913, 'XGBoost': 0.7453500870163721, 'AutoGluon': 0.3223991493912209}. Best is trial 123 with value: 0.36841311111111114.\n",
      "[I 2025-06-20 02:30:23,249] Trial 151 finished with value: 0.3683891111111111 and parameters: {'LightGBM (gbdt)': 0.6615180926425401, 'LightGBM (goss)': 0.22791990495332942, 'XGBoost': 0.7525083838708174, 'AutoGluon': 0.32738811664021966}. Best is trial 123 with value: 0.36841311111111114.\n",
      "[I 2025-06-20 02:30:28,140] Trial 152 finished with value: 0.3682468888888889 and parameters: {'LightGBM (gbdt)': 0.6669471517227112, 'LightGBM (goss)': 0.29529584853816526, 'XGBoost': 0.7630947276534549, 'AutoGluon': 0.23166585838665443}. Best is trial 123 with value: 0.36841311111111114.\n",
      "[I 2025-06-20 02:30:28,567] Trial 153 finished with value: 0.36833066666666664 and parameters: {'LightGBM (gbdt)': 0.6391185537822498, 'LightGBM (goss)': 0.22954794323510114, 'XGBoost': 0.751159843551049, 'AutoGluon': 0.37762765958377226}. Best is trial 123 with value: 0.36841311111111114.\n",
      "[I 2025-06-20 02:30:29,129] Trial 155 finished with value: 0.3683446666666666 and parameters: {'LightGBM (gbdt)': 0.6687085948974023, 'LightGBM (goss)': 0.22723067684023035, 'XGBoost': 0.7091962343579012, 'AutoGluon': 0.36542005640897823}. Best is trial 123 with value: 0.36841311111111114.\n",
      "[I 2025-06-20 02:30:29,634] Trial 154 finished with value: 0.368312 and parameters: {'LightGBM (gbdt)': 0.6725246273779016, 'LightGBM (goss)': 0.29194964857689376, 'XGBoost': 0.7862444162151779, 'AutoGluon': 0.3757138274257161}. Best is trial 123 with value: 0.36841311111111114.\n",
      "[I 2025-06-20 02:30:35,747] Trial 157 finished with value: 0.3683511111111111 and parameters: {'LightGBM (gbdt)': 0.6235510704891125, 'LightGBM (goss)': 0.25830018378353214, 'XGBoost': 0.7428844093959891, 'AutoGluon': 0.3413231119864881}. Best is trial 123 with value: 0.36841311111111114.\n",
      "[I 2025-06-20 02:30:36,036] Trial 156 finished with value: 0.3682884444444446 and parameters: {'LightGBM (gbdt)': 0.6161983066199502, 'LightGBM (goss)': 0.230505168258728, 'XGBoost': 0.6986408965899125, 'AutoGluon': 0.3833740342563048}. Best is trial 123 with value: 0.36841311111111114.\n",
      "[I 2025-06-20 02:30:36,784] Trial 158 finished with value: 0.368370222222222 and parameters: {'LightGBM (gbdt)': 0.6243807213448272, 'LightGBM (goss)': 0.2567394846665994, 'XGBoost': 0.7866346635978951, 'AutoGluon': 0.34137715513721906}. Best is trial 123 with value: 0.36841311111111114.\n",
      "[I 2025-06-20 02:30:36,943] Trial 159 finished with value: 0.368391111111111 and parameters: {'LightGBM (gbdt)': 0.691773174233988, 'LightGBM (goss)': 0.21413530962226912, 'XGBoost': 0.9210524792978779, 'AutoGluon': 0.34153065725106696}. Best is trial 123 with value: 0.36841311111111114.\n",
      "[I 2025-06-20 02:30:42,767] Trial 161 finished with value: 0.36835200000000007 and parameters: {'LightGBM (gbdt)': 0.7654934411160359, 'LightGBM (goss)': 0.2111755314563024, 'XGBoost': 0.9253891406284478, 'AutoGluon': 0.3026186700523977}. Best is trial 123 with value: 0.36841311111111114.\n",
      "[I 2025-06-20 02:30:43,704] Trial 160 finished with value: 0.3679759999999999 and parameters: {'LightGBM (gbdt)': 0.7694079941461948, 'LightGBM (goss)': 0.2514047801821061, 'XGBoost': 0.7757215495203741, 'AutoGluon': 0.012073173957095618}. Best is trial 123 with value: 0.36841311111111114.\n",
      "[I 2025-06-20 02:30:43,984] Trial 162 finished with value: 0.36835488888888873 and parameters: {'LightGBM (gbdt)': 0.7666442722351025, 'LightGBM (goss)': 0.20938717388935135, 'XGBoost': 0.9214805092614258, 'AutoGluon': 0.30983064133294014}. Best is trial 123 with value: 0.36841311111111114.\n",
      "[I 2025-06-20 02:30:44,367] Trial 163 finished with value: 0.3683475555555555 and parameters: {'LightGBM (gbdt)': 0.6832961771116872, 'LightGBM (goss)': 0.21145550861243362, 'XGBoost': 0.9225475188745326, 'AutoGluon': 0.30427098902348926}. Best is trial 123 with value: 0.36841311111111114.\n",
      "[I 2025-06-20 02:30:50,038] Trial 164 finished with value: 0.3683504444444444 and parameters: {'LightGBM (gbdt)': 0.7007374704006377, 'LightGBM (goss)': 0.20129089475033984, 'XGBoost': 0.9338551385239395, 'AutoGluon': 0.3222299217563602}. Best is trial 123 with value: 0.36841311111111114.\n",
      "[I 2025-06-20 02:30:50,467] Trial 165 finished with value: 0.36837600000000015 and parameters: {'LightGBM (gbdt)': 0.6933761917806361, 'LightGBM (goss)': 0.17605339642606718, 'XGBoost': 0.9659493403054704, 'AutoGluon': 0.32729123746550093}. Best is trial 123 with value: 0.36841311111111114.\n",
      "[I 2025-06-20 02:30:50,474] Trial 166 finished with value: 0.36838666666666675 and parameters: {'LightGBM (gbdt)': 0.6841584575211153, 'LightGBM (goss)': 0.17963859653003225, 'XGBoost': 0.9981548457297936, 'AutoGluon': 0.3316738977195288}. Best is trial 123 with value: 0.36841311111111114.\n",
      "[I 2025-06-20 02:30:51,311] Trial 167 finished with value: 0.3683086666666667 and parameters: {'LightGBM (gbdt)': 0.7234489682766702, 'LightGBM (goss)': 0.18670315883292973, 'XGBoost': 0.9993373727717841, 'AutoGluon': 0.2727499100886665}. Best is trial 123 with value: 0.36841311111111114.\n",
      "[I 2025-06-20 02:30:56,655] Trial 168 finished with value: 0.3684093333333335 and parameters: {'LightGBM (gbdt)': 0.7304897820049342, 'LightGBM (goss)': 0.1857970193844662, 'XGBoost': 0.967151533425741, 'AutoGluon': 0.3526320292264195}. Best is trial 123 with value: 0.36841311111111114.\n",
      "[I 2025-06-20 02:30:57,000] Trial 169 finished with value: 0.3683248888888888 and parameters: {'LightGBM (gbdt)': 0.6535260819425512, 'LightGBM (goss)': 0.17995193118259778, 'XGBoost': 0.9930186083782454, 'AutoGluon': 0.27795112338238304}. Best is trial 123 with value: 0.36841311111111114.\n",
      "[I 2025-06-20 02:30:57,440] Trial 170 finished with value: 0.3683039999999999 and parameters: {'LightGBM (gbdt)': 0.6534230230114018, 'LightGBM (goss)': 0.18174920584399493, 'XGBoost': 0.9988814633464927, 'AutoGluon': 0.27626880139268617}. Best is trial 123 with value: 0.36841311111111114.\n",
      "[I 2025-06-20 02:30:57,729] Trial 171 finished with value: 0.3683708888888889 and parameters: {'LightGBM (gbdt)': 0.6518367656693721, 'LightGBM (goss)': 0.238263647593291, 'XGBoost': 0.7297951313382949, 'AutoGluon': 0.35265998963022777}. Best is trial 123 with value: 0.36841311111111114.\n",
      "[I 2025-06-20 02:31:04,240] Trial 174 finished with value: 0.36838177777777775 and parameters: {'LightGBM (gbdt)': 0.7227849717863172, 'LightGBM (goss)': 0.23643263828503877, 'XGBoost': 0.9568337876723896, 'AutoGluon': 0.34903298011436096}. Best is trial 123 with value: 0.36841311111111114.\n",
      "[I 2025-06-20 02:31:04,524] Trial 172 finished with value: 0.36841377777777773 and parameters: {'LightGBM (gbdt)': 0.7317384117585966, 'LightGBM (goss)': 0.13123002463234998, 'XGBoost': 0.9713532320347718, 'AutoGluon': 0.40812203968383054}. Best is trial 172 with value: 0.36841377777777773.\n",
      "[I 2025-06-20 02:31:04,584] Trial 173 finished with value: 0.3684113333333334 and parameters: {'LightGBM (gbdt)': 0.7406688276024821, 'LightGBM (goss)': 0.1229892519255925, 'XGBoost': 0.9719652261764824, 'AutoGluon': 0.41794729235983646}. Best is trial 172 with value: 0.36841377777777773.\n",
      "[I 2025-06-20 02:31:04,899] Trial 175 finished with value: 0.3683411111111112 and parameters: {'LightGBM (gbdt)': 0.7367690522882719, 'LightGBM (goss)': 0.1316783463432969, 'XGBoost': 0.9736817138462958, 'AutoGluon': 0.33111465602371204}. Best is trial 172 with value: 0.36841377777777773.\n",
      "[I 2025-06-20 02:31:11,445] Trial 179 finished with value: 0.3683848888888888 and parameters: {'LightGBM (gbdt)': 0.7464043542160763, 'LightGBM (goss)': 0.10227618032766041, 'XGBoost': 0.9775141620322596, 'AutoGluon': 0.42517071659536315}. Best is trial 172 with value: 0.36841377777777773.\n",
      "[I 2025-06-20 02:31:11,859] Trial 177 finished with value: 0.36840977777777784 and parameters: {'LightGBM (gbdt)': 0.7425090281288232, 'LightGBM (goss)': 0.11819132457934961, 'XGBoost': 0.9614488064802971, 'AutoGluon': 0.4143336455553678}. Best is trial 172 with value: 0.36841377777777773.\n",
      "[I 2025-06-20 02:31:12,102] Trial 178 finished with value: 0.36840911111111124 and parameters: {'LightGBM (gbdt)': 0.7507959352497019, 'LightGBM (goss)': 0.11958235735596859, 'XGBoost': 0.9742742710681692, 'AutoGluon': 0.41913767808645497}. Best is trial 172 with value: 0.36841377777777773.\n",
      "[I 2025-06-20 02:31:12,281] Trial 176 finished with value: 0.3684004444444444 and parameters: {'LightGBM (gbdt)': 0.7402734893450371, 'LightGBM (goss)': 0.13425834191757133, 'XGBoost': 0.9626628029192645, 'AutoGluon': 0.42684943042182916}. Best is trial 172 with value: 0.36841377777777773.\n",
      "[I 2025-06-20 02:31:17,623] Trial 180 finished with value: 0.36840511111111107 and parameters: {'LightGBM (gbdt)': 0.7361233903852202, 'LightGBM (goss)': 0.10388549345092801, 'XGBoost': 0.9444579335936291, 'AutoGluon': 0.41385259185950124}. Best is trial 172 with value: 0.36841377777777773.\n",
      "[I 2025-06-20 02:31:18,076] Trial 183 finished with value: 0.3683528888888889 and parameters: {'LightGBM (gbdt)': 0.789916921727071, 'LightGBM (goss)': 0.1186410553576858, 'XGBoost': 0.9692643436819436, 'AutoGluon': 0.44867776571162465}. Best is trial 172 with value: 0.36841377777777773.\n",
      "[I 2025-06-20 02:31:18,666] Trial 181 finished with value: 0.36830955555555567 and parameters: {'LightGBM (gbdt)': 0.71363542444785, 'LightGBM (goss)': 0.12081913400944169, 'XGBoost': 0.9490843551269925, 'AutoGluon': 0.4536548937060253}. Best is trial 172 with value: 0.36841377777777773.\n",
      "[I 2025-06-20 02:31:19,111] Trial 182 finished with value: 0.3683193333333333 and parameters: {'LightGBM (gbdt)': 0.7362031916421976, 'LightGBM (goss)': 0.11721087392722013, 'XGBoost': 0.9519419086778167, 'AutoGluon': 0.464488579227183}. Best is trial 172 with value: 0.36841377777777773.\n",
      "[I 2025-06-20 02:31:24,767] Trial 185 finished with value: 0.36825288888888874 and parameters: {'LightGBM (gbdt)': 0.7402603355193534, 'LightGBM (goss)': 0.0974454678237078, 'XGBoost': 0.948325700534194, 'AutoGluon': 0.4956386457609824}. Best is trial 172 with value: 0.36841377777777773.\n",
      "[I 2025-06-20 02:31:25,012] Trial 184 finished with value: 0.3683331111111111 and parameters: {'LightGBM (gbdt)': 0.7415183296077118, 'LightGBM (goss)': 0.11832788585751039, 'XGBoost': 0.9499067834062246, 'AutoGluon': 0.45315510950842247}. Best is trial 172 with value: 0.36841377777777773.\n",
      "[I 2025-06-20 02:31:25,617] Trial 186 finished with value: 0.36826422222222216 and parameters: {'LightGBM (gbdt)': 0.7404874089889627, 'LightGBM (goss)': 0.09419416119091804, 'XGBoost': 0.9455290596695567, 'AutoGluon': 0.5039249478497879}. Best is trial 172 with value: 0.36841377777777773.\n",
      "[I 2025-06-20 02:31:26,071] Trial 187 finished with value: 0.368392888888889 and parameters: {'LightGBM (gbdt)': 0.7566550074680544, 'LightGBM (goss)': 0.09175752700702716, 'XGBoost': 0.9744124591246734, 'AutoGluon': 0.4202751292317168}. Best is trial 172 with value: 0.36841377777777773.\n",
      "[I 2025-06-20 02:31:31,070] Trial 188 finished with value: 0.368361777777778 and parameters: {'LightGBM (gbdt)': 0.750491589703469, 'LightGBM (goss)': 0.1486832224724853, 'XGBoost': 0.9062867565413446, 'AutoGluon': 0.42538445561455457}. Best is trial 172 with value: 0.36841377777777773.\n",
      "[I 2025-06-20 02:31:31,424] Trial 189 finished with value: 0.3683786666666667 and parameters: {'LightGBM (gbdt)': 0.7662434539324211, 'LightGBM (goss)': 0.08587865390485988, 'XGBoost': 0.9739265380236485, 'AutoGluon': 0.4099505951853183}. Best is trial 172 with value: 0.36841377777777773.\n",
      "[I 2025-06-20 02:31:31,885] Trial 190 finished with value: 0.36841088888888884 and parameters: {'LightGBM (gbdt)': 0.7100675463318888, 'LightGBM (goss)': 0.1399651813025119, 'XGBoost': 0.9798139591400985, 'AutoGluon': 0.41106972596913843}. Best is trial 172 with value: 0.36841377777777773.\n",
      "[I 2025-06-20 02:31:32,179] Trial 191 finished with value: 0.3683308888888888 and parameters: {'LightGBM (gbdt)': 0.7661791298980392, 'LightGBM (goss)': 0.08667047828920352, 'XGBoost': 0.9072060569430811, 'AutoGluon': 0.3924389712263044}. Best is trial 172 with value: 0.36841377777777773.\n",
      "[I 2025-06-20 02:31:37,947] Trial 193 finished with value: 0.3683482222222222 and parameters: {'LightGBM (gbdt)': 0.7895097950468377, 'LightGBM (goss)': 0.06610591005697719, 'XGBoost': 0.9154568633276396, 'AutoGluon': 0.4102600414571571}. Best is trial 172 with value: 0.36841377777777773.\n",
      "[I 2025-06-20 02:31:38,500] Trial 192 finished with value: 0.3683493333333333 and parameters: {'LightGBM (gbdt)': 0.7874171731601185, 'LightGBM (goss)': 0.08384477819870456, 'XGBoost': 0.9749676457898794, 'AutoGluon': 0.4103466341370788}. Best is trial 172 with value: 0.36841377777777773.\n",
      "[I 2025-06-20 02:31:38,735] Trial 194 finished with value: 0.36839044444444435 and parameters: {'LightGBM (gbdt)': 0.7819738183982052, 'LightGBM (goss)': 0.13137473160487723, 'XGBoost': 0.9743069612856962, 'AutoGluon': 0.4269482151082711}. Best is trial 172 with value: 0.36841377777777773.\n",
      "[I 2025-06-20 02:31:38,939] Trial 195 finished with value: 0.3684226666666667 and parameters: {'LightGBM (gbdt)': 0.7108206258195746, 'LightGBM (goss)': 0.1399847633424302, 'XGBoost': 0.9708118191720546, 'AutoGluon': 0.40978143759854374}. Best is trial 195 with value: 0.3684226666666667.\n",
      "[I 2025-06-20 02:31:45,189] Trial 199 finished with value: 0.36838888888888877 and parameters: {'LightGBM (gbdt)': 0.7166679347292078, 'LightGBM (goss)': 0.13641166028811705, 'XGBoost': 0.9739803787604477, 'AutoGluon': 0.4297425146942963}. Best is trial 195 with value: 0.3684226666666667.\n",
      "[I 2025-06-20 02:31:45,524] Trial 197 finished with value: 0.36836999999999986 and parameters: {'LightGBM (gbdt)': 0.7175001045367632, 'LightGBM (goss)': 0.14158916999688545, 'XGBoost': 0.9345511506965538, 'AutoGluon': 0.42384065999477183}. Best is trial 195 with value: 0.3684226666666667.\n",
      "[I 2025-06-20 02:31:45,629] Trial 196 finished with value: 0.3683935555555556 and parameters: {'LightGBM (gbdt)': 0.7138179709528045, 'LightGBM (goss)': 0.14135066007376978, 'XGBoost': 0.9732127630738623, 'AutoGluon': 0.4327935365210137}. Best is trial 195 with value: 0.3684226666666667.\n",
      "[I 2025-06-20 02:31:45,761] Trial 198 finished with value: 0.3683891111111111 and parameters: {'LightGBM (gbdt)': 0.7138144338028385, 'LightGBM (goss)': 0.13907395864617553, 'XGBoost': 0.9700275460762272, 'AutoGluon': 0.43100062638065967}. Best is trial 195 with value: 0.3684226666666667.\n",
      "[I 2025-06-20 02:31:52,251] Trial 200 finished with value: 0.3683702222222221 and parameters: {'LightGBM (gbdt)': 0.7566649732710327, 'LightGBM (goss)': 0.13782209087717365, 'XGBoost': 0.9371417583519337, 'AutoGluon': 0.42459179134640823}. Best is trial 195 with value: 0.3684226666666667.\n",
      "[I 2025-06-20 02:31:52,536] Trial 201 finished with value: 0.3683206666666667 and parameters: {'LightGBM (gbdt)': 0.7642267924334548, 'LightGBM (goss)': 0.11173844728886832, 'XGBoost': 0.9650443261323693, 'AutoGluon': 0.4693782940916851}. Best is trial 195 with value: 0.3684226666666667.\n",
      "[I 2025-06-20 02:31:53,083] Trial 203 finished with value: 0.36833755555555553 and parameters: {'LightGBM (gbdt)': 0.755767841865787, 'LightGBM (goss)': 0.1080790282600034, 'XGBoost': 0.979729262197749, 'AutoGluon': 0.47054648661961745}. Best is trial 195 with value: 0.3684226666666667.\n",
      "[I 2025-06-20 02:31:53,275] Trial 202 finished with value: 0.3683835555555555 and parameters: {'LightGBM (gbdt)': 0.7620747347470724, 'LightGBM (goss)': 0.10920316564731392, 'XGBoost': 0.961122178315175, 'AutoGluon': 0.40065612909644877}. Best is trial 195 with value: 0.3684226666666667.\n",
      "[I 2025-06-20 02:31:59,532] Trial 206 finished with value: 0.3683604444444445 and parameters: {'LightGBM (gbdt)': 0.7306079368023245, 'LightGBM (goss)': 0.15929073802575022, 'XGBoost': 0.960580757918477, 'AutoGluon': 0.3967778676479761}. Best is trial 195 with value: 0.3684226666666667.\n",
      "[I 2025-06-20 02:31:59,746] Trial 204 finished with value: 0.3683326666666668 and parameters: {'LightGBM (gbdt)': 0.779714262703607, 'LightGBM (goss)': 0.10405067245986085, 'XGBoost': 0.9825967376875827, 'AutoGluon': 0.46449596047865327}. Best is trial 195 with value: 0.3684226666666667.\n",
      "[I 2025-06-20 02:32:00,199] Trial 205 finished with value: 0.3682897777777778 and parameters: {'LightGBM (gbdt)': 0.7309335890036451, 'LightGBM (goss)': 0.10918188015686942, 'XGBoost': 0.9856462308524792, 'AutoGluon': 0.4793845411892876}. Best is trial 195 with value: 0.3684226666666667.\n",
      "[I 2025-06-20 02:32:00,371] Trial 207 finished with value: 0.36841533333333343 and parameters: {'LightGBM (gbdt)': 0.7267657506097225, 'LightGBM (goss)': 0.15648552454837902, 'XGBoost': 0.9867411533927196, 'AutoGluon': 0.3859843708005878}. Best is trial 195 with value: 0.3684226666666667.\n",
      "[I 2025-06-20 02:32:06,784] Trial 208 finished with value: 0.36836088888888874 and parameters: {'LightGBM (gbdt)': 0.8015731254050807, 'LightGBM (goss)': 0.15416322053546597, 'XGBoost': 0.9340644121442329, 'AutoGluon': 0.3862327046617484}. Best is trial 195 with value: 0.3684226666666667.\n",
      "[I 2025-06-20 02:32:07,357] Trial 211 finished with value: 0.3683668888888889 and parameters: {'LightGBM (gbdt)': 0.6989922605505072, 'LightGBM (goss)': 0.16371033256300133, 'XGBoost': 0.9981664749993249, 'AutoGluon': 0.43949012485774863}. Best is trial 195 with value: 0.3684226666666667.\n",
      "[I 2025-06-20 02:32:07,434] Trial 210 finished with value: 0.3683777777777777 and parameters: {'LightGBM (gbdt)': 0.7110521937912659, 'LightGBM (goss)': 0.16195014024697918, 'XGBoost': 0.9347519288507026, 'AutoGluon': 0.3835115515561644}. Best is trial 195 with value: 0.3684226666666667.\n",
      "[I 2025-06-20 02:32:07,677] Trial 209 finished with value: 0.3683646666666669 and parameters: {'LightGBM (gbdt)': 0.7031396051105847, 'LightGBM (goss)': 0.16052860556253576, 'XGBoost': 0.9324102961974406, 'AutoGluon': 0.38299212638947866}. Best is trial 195 with value: 0.3684226666666667.\n",
      "[I 2025-06-20 02:32:14,510] Trial 212 finished with value: 0.3682913333333334 and parameters: {'LightGBM (gbdt)': 0.6938397876025768, 'LightGBM (goss)': 0.4298417058644066, 'XGBoost': 0.9989047581615, 'AutoGluon': 0.4402134155479386}. Best is trial 195 with value: 0.3684226666666667.\n",
      "[I 2025-06-20 02:32:14,511] Trial 215 finished with value: 0.3678497777777778 and parameters: {'LightGBM (gbdt)': 0.22724393564447254, 'LightGBM (goss)': 0.13029106383099082, 'XGBoost': 0.9585269142794167, 'AutoGluon': 0.41026010178763406}. Best is trial 195 with value: 0.3684226666666667.\n",
      "[I 2025-06-20 02:32:15,018] Trial 214 finished with value: 0.36840555555555565 and parameters: {'LightGBM (gbdt)': 0.68080644642506, 'LightGBM (goss)': 0.13233930920148623, 'XGBoost': 0.954602162906371, 'AutoGluon': 0.41399185058929056}. Best is trial 195 with value: 0.3684226666666667.\n",
      "[I 2025-06-20 02:32:15,268] Trial 213 finished with value: 0.36837355555555557 and parameters: {'LightGBM (gbdt)': 0.7417086374145151, 'LightGBM (goss)': 0.13500558309622548, 'XGBoost': 0.9563785945124986, 'AutoGluon': 0.4049997227473422}. Best is trial 195 with value: 0.3684226666666667.\n",
      "[I 2025-06-20 02:32:20,674] Trial 216 finished with value: 0.3683646666666667 and parameters: {'LightGBM (gbdt)': 0.8178918848277437, 'LightGBM (goss)': 0.12600146488620803, 'XGBoost': 0.9790744896288406, 'AutoGluon': 0.36864000197428404}. Best is trial 195 with value: 0.3684226666666667.\n",
      "[I 2025-06-20 02:32:20,840] Trial 217 finished with value: 0.3683726666666667 and parameters: {'LightGBM (gbdt)': 0.7383948715016386, 'LightGBM (goss)': 0.12712709212505038, 'XGBoost': 0.9571550081295359, 'AutoGluon': 0.3698851020384338}. Best is trial 195 with value: 0.3684226666666667.\n",
      "[I 2025-06-20 02:32:21,057] Trial 218 finished with value: 0.3684186666666666 and parameters: {'LightGBM (gbdt)': 0.7321899774548598, 'LightGBM (goss)': 0.12659393896623822, 'XGBoost': 0.955276395842112, 'AutoGluon': 0.40765318146135016}. Best is trial 195 with value: 0.3684226666666667.\n",
      "[I 2025-06-20 02:32:21,782] Trial 219 finished with value: 0.3683713333333333 and parameters: {'LightGBM (gbdt)': 0.8164717632375121, 'LightGBM (goss)': 0.13353983477608683, 'XGBoost': 0.9795666510317975, 'AutoGluon': 0.3705617692615626}. Best is trial 195 with value: 0.3684226666666667.\n",
      "[I 2025-06-20 02:32:27,113] Trial 220 finished with value: 0.368266888888889 and parameters: {'LightGBM (gbdt)': 0.7867893194152478, 'LightGBM (goss)': 0.5622015199402084, 'XGBoost': 0.9222641844896657, 'AutoGluon': 0.44541233738310954}. Best is trial 195 with value: 0.3684226666666667.\n",
      "[I 2025-06-20 02:32:27,455] Trial 221 finished with value: 0.3681771111111112 and parameters: {'LightGBM (gbdt)': 0.7892322521491115, 'LightGBM (goss)': 0.7275523844137812, 'XGBoost': 0.9787435885953526, 'AutoGluon': 0.4137872339946683}. Best is trial 195 with value: 0.3684226666666667.\n",
      "[I 2025-06-20 02:32:27,945] Trial 222 finished with value: 0.368334 and parameters: {'LightGBM (gbdt)': 0.7225131246488764, 'LightGBM (goss)': 0.056826320043129305, 'XGBoost': 0.8910316314387727, 'AutoGluon': 0.4024396720549373}. Best is trial 195 with value: 0.3684226666666667.\n",
      "[I 2025-06-20 02:32:28,261] Trial 223 finished with value: 0.3683519999999999 and parameters: {'LightGBM (gbdt)': 0.6782301868189976, 'LightGBM (goss)': 0.054925216296229554, 'XGBoost': 0.9243373840992692, 'AutoGluon': 0.4069302688944275}. Best is trial 195 with value: 0.3684226666666667.\n",
      "[I 2025-06-20 02:32:34,973] Trial 225 finished with value: 0.36836955555555567 and parameters: {'LightGBM (gbdt)': 0.724018164127008, 'LightGBM (goss)': 0.0564770742928753, 'XGBoost': 0.9450862300281488, 'AutoGluon': 0.3968786503710266}. Best is trial 195 with value: 0.3684226666666667.\n",
      "[I 2025-06-20 02:32:35,343] Trial 227 finished with value: 0.368356 and parameters: {'LightGBM (gbdt)': 0.7518886440733294, 'LightGBM (goss)': 0.16502956237495733, 'XGBoost': 0.9454465128563139, 'AutoGluon': 0.4250756752191899}. Best is trial 195 with value: 0.3684226666666667.\n",
      "[I 2025-06-20 02:32:35,565] Trial 224 finished with value: 0.36840177777777766 and parameters: {'LightGBM (gbdt)': 0.7227208774307503, 'LightGBM (goss)': 0.14952118468001682, 'XGBoost': 0.9431038860637385, 'AutoGluon': 0.4124292729985716}. Best is trial 195 with value: 0.3684226666666667.\n",
      "[I 2025-06-20 02:32:36,070] Trial 226 finished with value: 0.3683595555555556 and parameters: {'LightGBM (gbdt)': 0.7499537548607519, 'LightGBM (goss)': 0.14778254243581612, 'XGBoost': 0.9409844768427389, 'AutoGluon': 0.42553293760228994}. Best is trial 195 with value: 0.3684226666666667.\n",
      "[I 2025-06-20 02:32:42,226] Trial 230 finished with value: 0.3683986666666666 and parameters: {'LightGBM (gbdt)': 0.7135233442245134, 'LightGBM (goss)': 0.15129657321037004, 'XGBoost': 0.9556905834932505, 'AutoGluon': 0.37752083754815635}. Best is trial 195 with value: 0.3684226666666667.\n",
      "[I 2025-06-20 02:32:42,403] Trial 228 finished with value: 0.36837555555555557 and parameters: {'LightGBM (gbdt)': 0.7473191007523192, 'LightGBM (goss)': 0.14454447430691805, 'XGBoost': 0.9609246106380318, 'AutoGluon': 0.4383299966386901}. Best is trial 195 with value: 0.3684226666666667.\n",
      "[I 2025-06-20 02:32:42,618] Trial 229 finished with value: 0.3683875555555555 and parameters: {'LightGBM (gbdt)': 0.7029524752069185, 'LightGBM (goss)': 0.1502448885835901, 'XGBoost': 0.9639574596968055, 'AutoGluon': 0.4331388055311401}. Best is trial 195 with value: 0.3684226666666667.\n",
      "[I 2025-06-20 02:32:42,837] Trial 231 finished with value: 0.36837155555555556 and parameters: {'LightGBM (gbdt)': 0.7101803574700656, 'LightGBM (goss)': 0.17081233097138662, 'XGBoost': 0.9639441385353367, 'AutoGluon': 0.3896572360496195}. Best is trial 195 with value: 0.3684226666666667.\n",
      "[I 2025-06-20 02:32:48,467] Trial 235 finished with value: 0.368325111111111 and parameters: {'LightGBM (gbdt)': 0.6860120225197489, 'LightGBM (goss)': 0.08953273018686383, 'XGBoost': 0.9993773147317209, 'AutoGluon': 0.3600493548957664}. Best is trial 195 with value: 0.3684226666666667.\n",
      "[I 2025-06-20 02:32:48,540] Trial 234 finished with value: 0.3683713333333333 and parameters: {'LightGBM (gbdt)': 0.6820562460003453, 'LightGBM (goss)': 0.1702196805536255, 'XGBoost': 0.9125553562480794, 'AutoGluon': 0.38301519893579483}. Best is trial 195 with value: 0.3684226666666667.\n",
      "[I 2025-06-20 02:32:49,330] Trial 233 finished with value: 0.3683548888888887 and parameters: {'LightGBM (gbdt)': 0.712106029515796, 'LightGBM (goss)': 0.08880618648488071, 'XGBoost': 0.9977230020868701, 'AutoGluon': 0.3878754475791417}. Best is trial 195 with value: 0.3684226666666667.\n",
      "[I 2025-06-20 02:32:49,463] Trial 232 finished with value: 0.36837533333333333 and parameters: {'LightGBM (gbdt)': 0.7061855624797668, 'LightGBM (goss)': 0.08517128969332874, 'XGBoost': 0.9604535974370827, 'AutoGluon': 0.3863078644335307}. Best is trial 195 with value: 0.3684226666666667.\n",
      "[I 2025-06-20 02:32:55,371] Trial 237 finished with value: 0.3683755555555555 and parameters: {'LightGBM (gbdt)': 0.7292186599366763, 'LightGBM (goss)': 0.19187750874861134, 'XGBoost': 0.9392875957671832, 'AutoGluon': 0.3679695009322426}. Best is trial 195 with value: 0.3684226666666667.\n",
      "[I 2025-06-20 02:32:55,571] Trial 239 finished with value: 0.3683684444444445 and parameters: {'LightGBM (gbdt)': 0.731552166564176, 'LightGBM (goss)': 0.11391655832693817, 'XGBoost': 0.935066200174992, 'AutoGluon': 0.359862963445382}. Best is trial 195 with value: 0.3684226666666667.\n",
      "[I 2025-06-20 02:32:55,967] Trial 236 finished with value: 0.36839111111111095 and parameters: {'LightGBM (gbdt)': 0.7187579069118017, 'LightGBM (goss)': 0.19476374907578156, 'XGBoost': 0.9381718533877998, 'AutoGluon': 0.365843534301464}. Best is trial 195 with value: 0.3684226666666667.\n",
      "[I 2025-06-20 02:32:56,241] Trial 238 finished with value: 0.3683688888888889 and parameters: {'LightGBM (gbdt)': 0.7320530058811162, 'LightGBM (goss)': 0.11510371653961424, 'XGBoost': 0.9398423181438756, 'AutoGluon': 0.3655274849731542}. Best is trial 195 with value: 0.3684226666666667.\n",
      "[I 2025-06-20 02:33:03,411] Trial 241 finished with value: 0.3683053333333333 and parameters: {'LightGBM (gbdt)': 0.7283543372247623, 'LightGBM (goss)': 0.11507071263515137, 'XGBoost': 0.8933881444920463, 'AutoGluon': 0.4544547832153979}. Best is trial 195 with value: 0.3684226666666667.\n",
      "[I 2025-06-20 02:33:03,900] Trial 242 finished with value: 0.36827666666666675 and parameters: {'LightGBM (gbdt)': 0.7629902695006451, 'LightGBM (goss)': 0.12001381989197758, 'XGBoost': 0.8972635757261778, 'AutoGluon': 0.4569112553966502}. Best is trial 195 with value: 0.3684226666666667.\n",
      "[I 2025-06-20 02:33:04,185] Trial 243 finished with value: 0.36835111111111124 and parameters: {'LightGBM (gbdt)': 0.7622278517513634, 'LightGBM (goss)': 0.15467819527236878, 'XGBoost': 0.9032002641858985, 'AutoGluon': 0.45803521529385566}. Best is trial 195 with value: 0.3684226666666667.\n",
      "[I 2025-06-20 02:33:04,186] Trial 240 finished with value: 0.36836911111111115 and parameters: {'LightGBM (gbdt)': 0.7294823163637641, 'LightGBM (goss)': 0.10902344567443796, 'XGBoost': 0.9200414266798663, 'AutoGluon': 0.41131661547945975}. Best is trial 195 with value: 0.3684226666666667.\n",
      "[I 2025-06-20 02:33:10,478] Trial 244 finished with value: 0.3674228888888889 and parameters: {'LightGBM (gbdt)': 0.7692577784603093, 'LightGBM (goss)': 0.18860195517595463, 'XGBoost': 0.18419605345387602, 'AutoGluon': 0.41345655917390556}. Best is trial 195 with value: 0.3684226666666667.\n",
      "[I 2025-06-20 02:33:10,542] Trial 245 finished with value: 0.36835066666666677 and parameters: {'LightGBM (gbdt)': 0.6924966995190965, 'LightGBM (goss)': 0.19603564648230443, 'XGBoost': 0.9177542106701266, 'AutoGluon': 0.41226482928778996}. Best is trial 195 with value: 0.3684226666666667.\n",
      "[I 2025-06-20 02:33:10,892] Trial 247 finished with value: 0.3684091111111111 and parameters: {'LightGBM (gbdt)': 0.7019526865413254, 'LightGBM (goss)': 0.18988545447169922, 'XGBoost': 0.9790537164419597, 'AutoGluon': 0.3432616015950058}. Best is trial 195 with value: 0.3684226666666667.\n",
      "[I 2025-06-20 02:33:11,131] Trial 246 finished with value: 0.36841933333333327 and parameters: {'LightGBM (gbdt)': 0.6968635087774342, 'LightGBM (goss)': 0.190856016360218, 'XGBoost': 0.9779424878323051, 'AutoGluon': 0.3480687454261986}. Best is trial 195 with value: 0.3684226666666667.\n",
      "[I 2025-06-20 02:33:14,102] Trial 248 finished with value: 0.366978 and parameters: {'LightGBM (gbdt)': 0.70771209488544, 'LightGBM (goss)': 0.16923929535999818, 'XGBoost': 0.034416036742482725, 'AutoGluon': 0.348791237415116}. Best is trial 195 with value: 0.3684226666666667.\n",
      "[I 2025-06-20 02:33:14,102] Trial 249 finished with value: 0.3674668888888889 and parameters: {'LightGBM (gbdt)': 0.008211598954017352, 'LightGBM (goss)': 0.17006399724307406, 'XGBoost': 0.9774369314589075, 'AutoGluon': 0.3442034337984751}. Best is trial 195 with value: 0.3684226666666667.\n"
     ]
    }
   ],
   "source": [
    "def objective(trial):\n",
    "    weights = [trial.suggest_float(model, 0, 1) for model in models]\n",
    "    weights /= np.sum(weights)\n",
    "\n",
    "    idxs = [0, 7, 14, 21]\n",
    "    pred_probs = np.zeros((X.shape[0], 7))\n",
    "    for idx, weight in zip(idxs, weights):\n",
    "        pred_probs += X.iloc[:, idx:idx+7].values * weight\n",
    "        \n",
    "    return map3(y, pred_probs)\n",
    "\n",
    "sampler = optuna.samplers.TPESampler(seed=CFG.seed)\n",
    "study = optuna.create_study(direction='maximize', sampler=sampler)\n",
    "study.optimize(objective, n_trials=250, n_jobs=-1)"
   ]
  },
  {
   "cell_type": "code",
   "execution_count": 18,
   "id": "97e220d9",
   "metadata": {
    "execution": {
     "iopub.execute_input": "2025-06-20T02:33:14.151895Z",
     "iopub.status.busy": "2025-06-20T02:33:14.151439Z",
     "iopub.status.idle": "2025-06-20T02:33:14.249593Z",
     "shell.execute_reply": "2025-06-20T02:33:14.248581Z"
    },
    "papermill": {
     "duration": 0.120283,
     "end_time": "2025-06-20T02:33:14.251517",
     "exception": false,
     "start_time": "2025-06-20T02:33:14.131234",
     "status": "completed"
    },
    "tags": []
   },
   "outputs": [],
   "source": [
    "scores['WeightedEnsemble'] = [study.best_value] * CFG.n_folds\n",
    "\n",
    "best_weights = [study.best_params[model] for model in models]\n",
    "best_weights /= np.sum(best_weights)\n",
    "\n",
    "idxs = [0, 7, 14, 21]\n",
    "weighted_test_preds = np.zeros((X_test.shape[0], 7))\n",
    "for idx, weight in zip(idxs, best_weights):\n",
    "    weighted_test_preds += X_test.iloc[:, idx:idx+7].values * weight"
   ]
  },
  {
   "cell_type": "code",
   "execution_count": 19,
   "id": "78e8afdc",
   "metadata": {
    "execution": {
     "iopub.execute_input": "2025-06-20T02:33:14.293172Z",
     "iopub.status.busy": "2025-06-20T02:33:14.292818Z",
     "iopub.status.idle": "2025-06-20T02:33:41.132814Z",
     "shell.execute_reply": "2025-06-20T02:33:41.131510Z"
    },
    "papermill": {
     "duration": 26.862803,
     "end_time": "2025-06-20T02:33:41.134734",
     "exception": false,
     "start_time": "2025-06-20T02:33:14.271931",
     "status": "completed"
    },
    "tags": []
   },
   "outputs": [
    {
     "data": {
      "text/html": [
       "<div>\n",
       "<style scoped>\n",
       "    .dataframe tbody tr th:only-of-type {\n",
       "        vertical-align: middle;\n",
       "    }\n",
       "\n",
       "    .dataframe tbody tr th {\n",
       "        vertical-align: top;\n",
       "    }\n",
       "\n",
       "    .dataframe thead th {\n",
       "        text-align: right;\n",
       "    }\n",
       "</style>\n",
       "<table border=\"1\" class=\"dataframe\">\n",
       "  <thead>\n",
       "    <tr style=\"text-align: right;\">\n",
       "      <th></th>\n",
       "      <th>id</th>\n",
       "      <th>Fertilizer Name</th>\n",
       "    </tr>\n",
       "  </thead>\n",
       "  <tbody>\n",
       "    <tr>\n",
       "      <th>0</th>\n",
       "      <td>750000</td>\n",
       "      <td>10-26-26 DAP 20-20</td>\n",
       "    </tr>\n",
       "    <tr>\n",
       "      <th>1</th>\n",
       "      <td>750001</td>\n",
       "      <td>17-17-17 10-26-26 28-28</td>\n",
       "    </tr>\n",
       "    <tr>\n",
       "      <th>2</th>\n",
       "      <td>750002</td>\n",
       "      <td>20-20 28-28 Urea</td>\n",
       "    </tr>\n",
       "    <tr>\n",
       "      <th>3</th>\n",
       "      <td>750003</td>\n",
       "      <td>14-35-14 10-26-26 17-17-17</td>\n",
       "    </tr>\n",
       "    <tr>\n",
       "      <th>4</th>\n",
       "      <td>750004</td>\n",
       "      <td>Urea 20-20 28-28</td>\n",
       "    </tr>\n",
       "  </tbody>\n",
       "</table>\n",
       "</div>"
      ],
      "text/plain": [
       "       id             Fertilizer Name\n",
       "0  750000          10-26-26 DAP 20-20\n",
       "1  750001     17-17-17 10-26-26 28-28\n",
       "2  750002            20-20 28-28 Urea\n",
       "3  750003  14-35-14 10-26-26 17-17-17\n",
       "4  750004            Urea 20-20 28-28"
      ]
     },
     "execution_count": 19,
     "metadata": {},
     "output_type": "execute_result"
    }
   ],
   "source": [
    "create_submission(\"weighted-ensemble\", weighted_test_preds, np.mean(scores[\"WeightedEnsemble\"])).head()"
   ]
  },
  {
   "cell_type": "markdown",
   "id": "8b638974",
   "metadata": {
    "papermill": {
     "duration": 0.019437,
     "end_time": "2025-06-20T02:33:41.173611",
     "exception": false,
     "start_time": "2025-06-20T02:33:41.154174",
     "status": "completed"
    },
    "tags": []
   },
   "source": [
    "## Weighted VotingClassifier"
   ]
  },
  {
   "cell_type": "code",
   "execution_count": 20,
   "id": "2a4be8cf",
   "metadata": {
    "execution": {
     "iopub.execute_input": "2025-06-20T02:33:41.221751Z",
     "iopub.status.busy": "2025-06-20T02:33:41.221314Z",
     "iopub.status.idle": "2025-06-20T02:33:52.970382Z",
     "shell.execute_reply": "2025-06-20T02:33:52.969233Z"
    },
    "papermill": {
     "duration": 11.771215,
     "end_time": "2025-06-20T02:33:52.972100",
     "exception": false,
     "start_time": "2025-06-20T02:33:41.200885",
     "status": "completed"
    },
    "tags": []
   },
   "outputs": [
    {
     "name": "stdout",
     "output_type": "stream",
     "text": [
      "Training VotingClassifier\n",
      "\n",
      "--- Fold 1 - MAP@3: 0.367656\n",
      "--- Fold 2 - MAP@3: 0.368616\n",
      "--- Fold 3 - MAP@3: 0.369890\n",
      "--- Fold 4 - MAP@3: 0.367603\n",
      "--- Fold 5 - MAP@3: 0.368349\n",
      "\n",
      "------ Overall MAP@3: 0.368423 | Average MAP@3: 0.368423 ± 0.000831\n"
     ]
    }
   ],
   "source": [
    "weighted_voting_model = VotingClassifier(estimators, n_jobs=-1, voting='soft', weights=best_weights)\n",
    "weighted_voting_trainer = Trainer(weighted_voting_model)\n",
    "_, weighted_voting_test_pred_probs, scores[\"VotingClassifier (weighted)\"] = weighted_voting_trainer.fit_predict(X, y, X_test)"
   ]
  },
  {
   "cell_type": "code",
   "execution_count": 21,
   "id": "de470b3e",
   "metadata": {
    "execution": {
     "iopub.execute_input": "2025-06-20T02:33:53.014265Z",
     "iopub.status.busy": "2025-06-20T02:33:53.012426Z",
     "iopub.status.idle": "2025-06-20T02:34:20.538169Z",
     "shell.execute_reply": "2025-06-20T02:34:20.537097Z"
    },
    "papermill": {
     "duration": 27.548757,
     "end_time": "2025-06-20T02:34:20.540438",
     "exception": false,
     "start_time": "2025-06-20T02:33:52.991681",
     "status": "completed"
    },
    "tags": []
   },
   "outputs": [
    {
     "data": {
      "text/html": [
       "<div>\n",
       "<style scoped>\n",
       "    .dataframe tbody tr th:only-of-type {\n",
       "        vertical-align: middle;\n",
       "    }\n",
       "\n",
       "    .dataframe tbody tr th {\n",
       "        vertical-align: top;\n",
       "    }\n",
       "\n",
       "    .dataframe thead th {\n",
       "        text-align: right;\n",
       "    }\n",
       "</style>\n",
       "<table border=\"1\" class=\"dataframe\">\n",
       "  <thead>\n",
       "    <tr style=\"text-align: right;\">\n",
       "      <th></th>\n",
       "      <th>id</th>\n",
       "      <th>Fertilizer Name</th>\n",
       "    </tr>\n",
       "  </thead>\n",
       "  <tbody>\n",
       "    <tr>\n",
       "      <th>0</th>\n",
       "      <td>750000</td>\n",
       "      <td>10-26-26 DAP 20-20</td>\n",
       "    </tr>\n",
       "    <tr>\n",
       "      <th>1</th>\n",
       "      <td>750001</td>\n",
       "      <td>17-17-17 10-26-26 28-28</td>\n",
       "    </tr>\n",
       "    <tr>\n",
       "      <th>2</th>\n",
       "      <td>750002</td>\n",
       "      <td>20-20 28-28 Urea</td>\n",
       "    </tr>\n",
       "    <tr>\n",
       "      <th>3</th>\n",
       "      <td>750003</td>\n",
       "      <td>14-35-14 10-26-26 17-17-17</td>\n",
       "    </tr>\n",
       "    <tr>\n",
       "      <th>4</th>\n",
       "      <td>750004</td>\n",
       "      <td>Urea 20-20 28-28</td>\n",
       "    </tr>\n",
       "  </tbody>\n",
       "</table>\n",
       "</div>"
      ],
      "text/plain": [
       "       id             Fertilizer Name\n",
       "0  750000          10-26-26 DAP 20-20\n",
       "1  750001     17-17-17 10-26-26 28-28\n",
       "2  750002            20-20 28-28 Urea\n",
       "3  750003  14-35-14 10-26-26 17-17-17\n",
       "4  750004            Urea 20-20 28-28"
      ]
     },
     "execution_count": 21,
     "metadata": {},
     "output_type": "execute_result"
    }
   ],
   "source": [
    "create_submission(\"weighted-voting-classifier\", weighted_voting_test_pred_probs, np.mean(scores[\"VotingClassifier (weighted)\"])).head()"
   ]
  },
  {
   "cell_type": "markdown",
   "id": "33200feb",
   "metadata": {
    "papermill": {
     "duration": 0.019886,
     "end_time": "2025-06-20T02:34:20.583373",
     "exception": false,
     "start_time": "2025-06-20T02:34:20.563487",
     "status": "completed"
    },
    "tags": []
   },
   "source": [
    "# Results"
   ]
  },
  {
   "cell_type": "code",
   "execution_count": 22,
   "id": "46dfd9ca",
   "metadata": {
    "execution": {
     "iopub.execute_input": "2025-06-20T02:34:20.627258Z",
     "iopub.status.busy": "2025-06-20T02:34:20.626950Z",
     "iopub.status.idle": "2025-06-20T02:34:21.202757Z",
     "shell.execute_reply": "2025-06-20T02:34:21.201660Z"
    },
    "papermill": {
     "duration": 0.600743,
     "end_time": "2025-06-20T02:34:21.204485",
     "exception": false,
     "start_time": "2025-06-20T02:34:20.603742",
     "status": "completed"
    },
    "tags": []
   },
   "outputs": [
    {
     "data": {
      "image/png": "[encoded data removed]",
      "text/plain": [
       "<Figure size 1500x360 with 2 Axes>"
      ]
     },
     "metadata": {},
     "output_type": "display_data"
    }
   ],
   "source": [
    "scores = pd.DataFrame(scores)\n",
    "mean_scores = scores.mean().sort_values(ascending=False)\n",
    "order = scores.mean().sort_values(ascending=False).index.tolist()\n",
    "\n",
    "min_score = mean_scores.min()\n",
    "max_score = mean_scores.max()\n",
    "padding = (max_score - min_score) * 0.5\n",
    "lower_limit = min_score - padding\n",
    "upper_limit = max_score + padding\n",
    "\n",
    "fig, axs = plt.subplots(1, 2, figsize=(15, scores.shape[1] * 0.4))\n",
    "\n",
    "boxplot = sns.boxplot(data=scores, order=order, ax=axs[0], orient=\"h\", palette=\"RdYlGn_r\")\n",
    "axs[0].set_title(f\"Fold MAP@3\")\n",
    "axs[0].set_xlabel(\"\")\n",
    "axs[0].set_ylabel(\"\")\n",
    "\n",
    "barplot = sns.barplot(x=mean_scores.values, y=mean_scores.index, ax=axs[1], palette=\"RdYlGn_r\")\n",
    "axs[1].set_title(f\"Mean MAP@3\")\n",
    "axs[1].set_xlabel(\"\")\n",
    "axs[1].set_xlim(left=lower_limit, right=upper_limit)\n",
    "axs[1].set_ylabel(\"\")\n",
    "\n",
    "for i, score in enumerate(mean_scores.values):\n",
    "    barplot.text(score, i, round(score, 6), va=\"center\")\n",
    "\n",
    "plt.tight_layout()\n",
    "plt.show()"
   ]
  }
 ],
 "metadata": {
  "kaggle": {
   "accelerator": "none",
   "dataSources": [
    {
     "databundleVersionId": 12184666,
     "isSourceIdPinned": false,
     "sourceId": 91717,
     "sourceType": "competition"
    },
    {
     "sourceId": 244411248,
     "sourceType": "kernelVersion"
    }
   ],
   "dockerImageVersionId": 31040,
   "isGpuEnabled": false,
   "isInternetEnabled": true,
   "language": "python",
   "sourceType": "notebook"
  },
  "kernelspec": {
   "display_name": "Python 3",
   "language": "python",
   "name": "python3"
  },
  "language_info": {
   "codemirror_mode": {
    "name": "ipython",
    "version": 3
   },
   "file_extension": ".py",
   "mimetype": "text/x-python",
   "name": "python",
   "nbconvert_exporter": "python",
   "pygments_lexer": "ipython3",
   "version": "3.11.11"
  },
  "papermill": {
   "default_parameters": {},
   "duration": 1009.862948,
   "end_time": "2025-06-20T02:34:23.953869",
   "environment_variables": {},
   "exception": null,
   "input_path": "__notebook__.ipynb",
   "output_path": "__notebook__.ipynb",
   "parameters": {},
   "start_time": "2025-06-20T02:17:34.090921",
   "version": "2.6.0"
  }
 },
 "nbformat": 4,
 "nbformat_minor": 5
}
