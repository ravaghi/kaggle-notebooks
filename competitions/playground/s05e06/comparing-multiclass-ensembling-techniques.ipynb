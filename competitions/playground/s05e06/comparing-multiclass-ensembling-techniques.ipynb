{
 "cells": [
  {
   "cell_type": "markdown",
   "id": "d560bcad",
   "metadata": {
    "papermill": {
     "duration": 0.005894,
     "end_time": "2025-06-13T06:59:11.075760",
     "exception": false,
     "start_time": "2025-06-13T06:59:11.069866",
     "status": "completed"
    },
    "tags": []
   },
   "source": [
    "# Imports and configs"
   ]
  },
  {
   "cell_type": "code",
   "execution_count": 1,
   "id": "3ac2e542",
   "metadata": {
    "_kg_hide-output": true,
    "execution": {
     "iopub.execute_input": "2025-06-13T06:59:11.086877Z",
     "iopub.status.busy": "2025-06-13T06:59:11.086495Z",
     "iopub.status.idle": "2025-06-13T06:59:20.716251Z",
     "shell.execute_reply": "2025-06-13T06:59:20.714978Z"
    },
    "papermill": {
     "duration": 9.637465,
     "end_time": "2025-06-13T06:59:20.718140",
     "exception": false,
     "start_time": "2025-06-13T06:59:11.080675",
     "status": "completed"
    },
    "tags": []
   },
   "outputs": [
    {
     "name": "stdout",
     "output_type": "stream",
     "text": [
      "\u001b[2K   \u001b[90m━━━━━━━━━━━━━━━━━━━━━━━━━━━━━━━━━━━━━━━━\u001b[0m \u001b[32m13.3/13.3 MB\u001b[0m \u001b[31m74.7 MB/s\u001b[0m eta \u001b[36m0:00:00\u001b[0m\r\n",
      "\u001b[?25h\u001b[31mERROR: pip's dependency resolver does not currently take into account all the packages that are installed. This behaviour is the source of the following dependency conflicts.\r\n",
      "cesium 0.12.4 requires numpy<3.0,>=2.0, but you have numpy 1.26.4 which is incompatible.\u001b[0m\u001b[31m\r\n",
      "\u001b[0m"
     ]
    }
   ],
   "source": [
    "!pip install -q scikit-learn==1.5.2"
   ]
  },
  {
   "cell_type": "code",
   "execution_count": 2,
   "id": "f78fcc38",
   "metadata": {
    "execution": {
     "iopub.execute_input": "2025-06-13T06:59:20.731554Z",
     "iopub.status.busy": "2025-06-13T06:59:20.730487Z",
     "iopub.status.idle": "2025-06-13T06:59:25.346147Z",
     "shell.execute_reply": "2025-06-13T06:59:25.345032Z"
    },
    "papermill": {
     "duration": 4.624293,
     "end_time": "2025-06-13T06:59:25.347964",
     "exception": false,
     "start_time": "2025-06-13T06:59:20.723671",
     "status": "completed"
    },
    "tags": []
   },
   "outputs": [],
   "source": [
    "from sklearn.ensemble import StackingClassifier, VotingClassifier\n",
    "from sklearn.base import BaseEstimator, ClassifierMixin, clone\n",
    "from sklearn.model_selection import StratifiedKFold\n",
    "from sklearn.linear_model import LogisticRegression\n",
    "from sklearn.preprocessing import LabelEncoder\n",
    "from sklearn.utils import check_array\n",
    "import matplotlib.pyplot as plt\n",
    "import seaborn as sns\n",
    "import pandas as pd\n",
    "import numpy as np\n",
    "import warnings\n",
    "import joblib\n",
    "import optuna\n",
    "import shutil\n",
    "import gc\n",
    "\n",
    "warnings.filterwarnings(\"ignore\")"
   ]
  },
  {
   "cell_type": "code",
   "execution_count": 3,
   "id": "ca8aec75",
   "metadata": {
    "execution": {
     "iopub.execute_input": "2025-06-13T06:59:25.361366Z",
     "iopub.status.busy": "2025-06-13T06:59:25.360053Z",
     "iopub.status.idle": "2025-06-13T06:59:25.366229Z",
     "shell.execute_reply": "2025-06-13T06:59:25.365218Z"
    },
    "papermill": {
     "duration": 0.014517,
     "end_time": "2025-06-13T06:59:25.367831",
     "exception": false,
     "start_time": "2025-06-13T06:59:25.353314",
     "status": "completed"
    },
    "tags": []
   },
   "outputs": [],
   "source": [
    "class CFG:\n",
    "    train_path = \"/kaggle/input/playground-series-s5e6/train.csv\"\n",
    "    test_path = \"/kaggle/input/playground-series-s5e6/test.csv\"\n",
    "    sample_sub_path = \"/kaggle/input/playground-series-s5e6/sample_submission.csv\"\n",
    "    \n",
    "    target = \"Fertilizer Name\"\n",
    "    n_folds = 5\n",
    "    seed = 42"
   ]
  },
  {
   "cell_type": "markdown",
   "id": "8a36f59c",
   "metadata": {
    "papermill": {
     "duration": 0.005556,
     "end_time": "2025-06-13T06:59:25.380441",
     "exception": false,
     "start_time": "2025-06-13T06:59:25.374885",
     "status": "completed"
    },
    "tags": []
   },
   "source": [
    "# Data loading"
   ]
  },
  {
   "cell_type": "code",
   "execution_count": 4,
   "id": "293fc652",
   "metadata": {
    "execution": {
     "iopub.execute_input": "2025-06-13T06:59:25.393162Z",
     "iopub.status.busy": "2025-06-13T06:59:25.392162Z",
     "iopub.status.idle": "2025-06-13T06:59:27.129270Z",
     "shell.execute_reply": "2025-06-13T06:59:27.128289Z"
    },
    "papermill": {
     "duration": 1.745198,
     "end_time": "2025-06-13T06:59:27.131160",
     "exception": false,
     "start_time": "2025-06-13T06:59:25.385962",
     "status": "completed"
    },
    "tags": []
   },
   "outputs": [],
   "source": [
    "train = pd.read_csv(CFG.train_path, index_col=\"id\")\n",
    "test = pd.read_csv(CFG.test_path, index_col=\"id\")\n",
    "\n",
    "label_encoder = LabelEncoder()\n",
    "train[CFG.target] = label_encoder.fit_transform(train[CFG.target])\n",
    "\n",
    "X = train.drop(CFG.target, axis=1)\n",
    "y = train[CFG.target]\n",
    "X_test = test"
   ]
  },
  {
   "cell_type": "code",
   "execution_count": 5,
   "id": "ba12d0e3",
   "metadata": {
    "_kg_hide-input": true,
    "execution": {
     "iopub.execute_input": "2025-06-13T06:59:27.143749Z",
     "iopub.status.busy": "2025-06-13T06:59:27.143414Z",
     "iopub.status.idle": "2025-06-13T06:59:27.150533Z",
     "shell.execute_reply": "2025-06-13T06:59:27.149572Z"
    },
    "papermill": {
     "duration": 0.015505,
     "end_time": "2025-06-13T06:59:27.152322",
     "exception": false,
     "start_time": "2025-06-13T06:59:27.136817",
     "status": "completed"
    },
    "tags": []
   },
   "outputs": [],
   "source": [
    "def map3(y_true, y_pred_probs):\n",
    "    y_true = [[x] for x in y_true]\n",
    "    y_pred_probs = np.argsort(y_pred_probs, axis=1)[:, -3:][:, ::-1].tolist()\n",
    "    \n",
    "    def ap3(y_true, y_pred_probs):\n",
    "        y_pred_probs = y_pred_probs[:3]\n",
    "\n",
    "        score = 0.0\n",
    "        num_hits = 0.0\n",
    "\n",
    "        for i,p in enumerate(y_pred_probs):\n",
    "            if p in y_true and p not in y_pred_probs[:i]:\n",
    "                num_hits += 1.0\n",
    "                score += num_hits / (i+1.0)\n",
    "\n",
    "        if not y_true:\n",
    "            return 0.0\n",
    "\n",
    "        return score\n",
    "    \n",
    "    return np.mean([ap3(a,p) for a,p in zip(y_true, y_pred_probs)])"
   ]
  },
  {
   "cell_type": "code",
   "execution_count": 6,
   "id": "74bba918",
   "metadata": {
    "execution": {
     "iopub.execute_input": "2025-06-13T06:59:27.166407Z",
     "iopub.status.busy": "2025-06-13T06:59:27.165988Z",
     "iopub.status.idle": "2025-06-13T06:59:44.000955Z",
     "shell.execute_reply": "2025-06-13T06:59:43.999840Z"
    },
    "papermill": {
     "duration": 16.845297,
     "end_time": "2025-06-13T06:59:44.003256",
     "exception": false,
     "start_time": "2025-06-13T06:59:27.157959",
     "status": "completed"
    },
    "tags": []
   },
   "outputs": [],
   "source": [
    "scores = {}\n",
    "\n",
    "oof_pred_probs = joblib.load(\"/kaggle/input/s05e06-fertilizer-optimization-ensemble/oof_pred_probs.pkl\")\n",
    "test_pred_probs = joblib.load(\"/kaggle/input/s05e06-fertilizer-optimization-ensemble/test_pred_probs.pkl\")\n",
    "\n",
    "start_idx = 0\n",
    "models = [\"LightGBM (gbdt)\", \"LightGBM (goss)\", \"XGBoost\", \"AutoGluon\"]\n",
    "for model in models:\n",
    "    fold_scores = []        \n",
    "    \n",
    "    skf = StratifiedKFold(n_splits=CFG.n_folds, random_state=CFG.seed, shuffle=True)\n",
    "    for _, val_idx in skf.split(X, y):   \n",
    "        fold_score = map3(y[val_idx], oof_pred_probs.iloc[val_idx, start_idx:start_idx+7])\n",
    "        fold_scores.append(fold_score)\n",
    "        \n",
    "    scores[model] = fold_scores\n",
    "    start_idx += 7"
   ]
  },
  {
   "cell_type": "code",
   "execution_count": 7,
   "id": "399b91f2",
   "metadata": {
    "_kg_hide-input": true,
    "execution": {
     "iopub.execute_input": "2025-06-13T06:59:44.023278Z",
     "iopub.status.busy": "2025-06-13T06:59:44.022876Z",
     "iopub.status.idle": "2025-06-13T06:59:44.035416Z",
     "shell.execute_reply": "2025-06-13T06:59:44.034251Z"
    },
    "papermill": {
     "duration": 0.02485,
     "end_time": "2025-06-13T06:59:44.037702",
     "exception": false,
     "start_time": "2025-06-13T06:59:44.012852",
     "status": "completed"
    },
    "tags": []
   },
   "outputs": [],
   "source": [
    "class Trainer:\n",
    "    def __init__(self, model, config=CFG):\n",
    "        self.model = model\n",
    "        self.config = config\n",
    "\n",
    "    def fit_predict(self, X, y, X_test):\n",
    "        print(f\"Training {self.model.__class__.__name__}\\n\")\n",
    "        \n",
    "        scores = []        \n",
    "        oof_pred_probs = np.zeros((X.shape[0], y.nunique()))\n",
    "        test_pred_probs = np.zeros((X_test.shape[0], y.nunique()))\n",
    "        \n",
    "        skf = StratifiedKFold(n_splits=self.config.n_folds, random_state=self.config.seed, shuffle=True)\n",
    "        for fold_idx, (train_idx, val_idx) in enumerate(skf.split(X, y)):\n",
    "            X_train, X_val = X.iloc[train_idx], X.iloc[val_idx]\n",
    "            y_train, y_val = y[train_idx], y[val_idx]\n",
    "            \n",
    "            model = clone(self.model)\n",
    "            model.fit(X_train, y_train)\n",
    "            \n",
    "            y_pred_probs = model.predict_proba(X_val)\n",
    "            oof_pred_probs[val_idx] = y_pred_probs\n",
    "            \n",
    "            temp_test_pred_probs = model.predict_proba(X_test)\n",
    "            test_pred_probs += temp_test_pred_probs / self.config.n_folds\n",
    "            \n",
    "            score = map3(y_val, y_pred_probs)\n",
    "            scores.append(score)\n",
    "            \n",
    "            del model, X_train, y_train, X_val, y_val, y_pred_probs\n",
    "            gc.collect()\n",
    "        \n",
    "            print(f\"--- Fold {fold_idx + 1} - MAP@3: {score:.6f}\")\n",
    "                            \n",
    "        overall_score = map3(y, oof_pred_probs)\n",
    "            \n",
    "        print(f\"\\n------ Overall MAP@3: {overall_score:.6f} | Average MAP@3: {np.mean(scores):.6f} ± {np.std(scores):.6f}\")\n",
    "        \n",
    "        return oof_pred_probs, test_pred_probs, scores\n",
    "\n",
    "    def tune(self, X, y):        \n",
    "        scores = []        \n",
    "        \n",
    "        skf = StratifiedKFold(n_splits=self.config.n_folds, random_state=self.config.seed, shuffle=True)\n",
    "        for train_idx, val_idx in skf.split(X, y):\n",
    "            X_train, X_val = X.iloc[train_idx], X.iloc[val_idx]\n",
    "            y_train, y_val = y[train_idx], y[val_idx]\n",
    "            \n",
    "            model = clone(self.model)\n",
    "            model.fit(X_train, y_train)\n",
    "            \n",
    "            y_pred_probs = model.predict_proba(X_val)            \n",
    "            score = map3(y_val, y_pred_probs)\n",
    "            scores.append(score)\n",
    "            \n",
    "            del model, X_train, y_train, X_val, y_val, y_pred_probs\n",
    "            gc.collect()\n",
    "            \n",
    "        return np.mean(scores)"
   ]
  },
  {
   "cell_type": "markdown",
   "id": "b56fe92b",
   "metadata": {
    "papermill": {
     "duration": 0.008759,
     "end_time": "2025-06-13T06:59:44.055698",
     "exception": false,
     "start_time": "2025-06-13T06:59:44.046939",
     "status": "completed"
    },
    "tags": []
   },
   "source": [
    "# Ensembling"
   ]
  },
  {
   "cell_type": "code",
   "execution_count": 8,
   "id": "d267b438",
   "metadata": {
    "execution": {
     "iopub.execute_input": "2025-06-13T06:59:44.068693Z",
     "iopub.status.busy": "2025-06-13T06:59:44.068313Z",
     "iopub.status.idle": "2025-06-13T06:59:44.077035Z",
     "shell.execute_reply": "2025-06-13T06:59:44.075818Z"
    },
    "papermill": {
     "duration": 0.017481,
     "end_time": "2025-06-13T06:59:44.078655",
     "exception": false,
     "start_time": "2025-06-13T06:59:44.061174",
     "status": "completed"
    },
    "tags": []
   },
   "outputs": [],
   "source": [
    "X = oof_pred_probs\n",
    "X_test = test_pred_probs"
   ]
  },
  {
   "cell_type": "code",
   "execution_count": 9,
   "id": "7986ab62",
   "metadata": {
    "execution": {
     "iopub.execute_input": "2025-06-13T06:59:44.091004Z",
     "iopub.status.busy": "2025-06-13T06:59:44.090603Z",
     "iopub.status.idle": "2025-06-13T06:59:44.098378Z",
     "shell.execute_reply": "2025-06-13T06:59:44.097354Z"
    },
    "papermill": {
     "duration": 0.015971,
     "end_time": "2025-06-13T06:59:44.100121",
     "exception": false,
     "start_time": "2025-06-13T06:59:44.084150",
     "status": "completed"
    },
    "tags": []
   },
   "outputs": [],
   "source": [
    "def create_submission(model, test_pred_probs, score):\n",
    "    final_predictions = []\n",
    "    for i in np.argsort(test_pred_probs)[:, -3:][:, ::-1]:\n",
    "        prediction = label_encoder.inverse_transform(i)\n",
    "        final_predictions.append(\" \".join(prediction))\n",
    "\n",
    "    sub = pd.read_csv(CFG.sample_sub_path)\n",
    "    sub[CFG.target] = final_predictions\n",
    "    sub.to_csv(f\"sub_{model}_{score:.6f}.csv\", index=False)\n",
    "    \n",
    "    return sub"
   ]
  },
  {
   "cell_type": "markdown",
   "id": "98a980da",
   "metadata": {
    "papermill": {
     "duration": 0.005216,
     "end_time": "2025-06-13T06:59:44.110902",
     "exception": false,
     "start_time": "2025-06-13T06:59:44.105686",
     "status": "completed"
    },
    "tags": []
   },
   "source": [
    "## LogisticRegression"
   ]
  },
  {
   "cell_type": "code",
   "execution_count": 10,
   "id": "095ba13f",
   "metadata": {
    "execution": {
     "iopub.execute_input": "2025-06-13T06:59:44.122921Z",
     "iopub.status.busy": "2025-06-13T06:59:44.122530Z",
     "iopub.status.idle": "2025-06-13T07:00:59.457644Z",
     "shell.execute_reply": "2025-06-13T07:00:59.456525Z"
    },
    "papermill": {
     "duration": 75.34341,
     "end_time": "2025-06-13T07:00:59.459530",
     "exception": false,
     "start_time": "2025-06-13T06:59:44.116120",
     "status": "completed"
    },
    "tags": []
   },
   "outputs": [
    {
     "name": "stdout",
     "output_type": "stream",
     "text": [
      "Training LogisticRegression\n",
      "\n",
      "--- Fold 1 - MAP@3: 0.364527\n",
      "--- Fold 2 - MAP@3: 0.365799\n",
      "--- Fold 3 - MAP@3: 0.368257\n",
      "--- Fold 4 - MAP@3: 0.366017\n",
      "--- Fold 5 - MAP@3: 0.366110\n",
      "\n",
      "------ Overall MAP@3: 0.366142 | Average MAP@3: 0.366142 ± 0.001201\n"
     ]
    }
   ],
   "source": [
    "lr_model = LogisticRegression(\n",
    "    max_iter=5000,\n",
    "    random_state=42\n",
    ") \n",
    "\n",
    "lr_trainer = Trainer(lr_model)\n",
    "_, lr_test_pred_probs, scores[\"LogisticRegression\"] = lr_trainer.fit_predict(X, y, X_test)"
   ]
  },
  {
   "cell_type": "code",
   "execution_count": 11,
   "id": "b8b822ee",
   "metadata": {
    "execution": {
     "iopub.execute_input": "2025-06-13T07:00:59.472373Z",
     "iopub.status.busy": "2025-06-13T07:00:59.472005Z",
     "iopub.status.idle": "2025-06-13T07:01:25.425802Z",
     "shell.execute_reply": "2025-06-13T07:01:25.424754Z"
    },
    "papermill": {
     "duration": 25.962172,
     "end_time": "2025-06-13T07:01:25.427394",
     "exception": false,
     "start_time": "2025-06-13T07:00:59.465222",
     "status": "completed"
    },
    "tags": []
   },
   "outputs": [
    {
     "data": {
      "text/html": [
       "<div>\n",
       "<style scoped>\n",
       "    .dataframe tbody tr th:only-of-type {\n",
       "        vertical-align: middle;\n",
       "    }\n",
       "\n",
       "    .dataframe tbody tr th {\n",
       "        vertical-align: top;\n",
       "    }\n",
       "\n",
       "    .dataframe thead th {\n",
       "        text-align: right;\n",
       "    }\n",
       "</style>\n",
       "<table border=\"1\" class=\"dataframe\">\n",
       "  <thead>\n",
       "    <tr style=\"text-align: right;\">\n",
       "      <th></th>\n",
       "      <th>id</th>\n",
       "      <th>Fertilizer Name</th>\n",
       "    </tr>\n",
       "  </thead>\n",
       "  <tbody>\n",
       "    <tr>\n",
       "      <th>0</th>\n",
       "      <td>750000</td>\n",
       "      <td>10-26-26 20-20 DAP</td>\n",
       "    </tr>\n",
       "    <tr>\n",
       "      <th>1</th>\n",
       "      <td>750001</td>\n",
       "      <td>17-17-17 10-26-26 20-20</td>\n",
       "    </tr>\n",
       "    <tr>\n",
       "      <th>2</th>\n",
       "      <td>750002</td>\n",
       "      <td>20-20 28-28 Urea</td>\n",
       "    </tr>\n",
       "    <tr>\n",
       "      <th>3</th>\n",
       "      <td>750003</td>\n",
       "      <td>14-35-14 DAP 17-17-17</td>\n",
       "    </tr>\n",
       "    <tr>\n",
       "      <th>4</th>\n",
       "      <td>750004</td>\n",
       "      <td>20-20 Urea 10-26-26</td>\n",
       "    </tr>\n",
       "  </tbody>\n",
       "</table>\n",
       "</div>"
      ],
      "text/plain": [
       "       id          Fertilizer Name\n",
       "0  750000       10-26-26 20-20 DAP\n",
       "1  750001  17-17-17 10-26-26 20-20\n",
       "2  750002         20-20 28-28 Urea\n",
       "3  750003    14-35-14 DAP 17-17-17\n",
       "4  750004      20-20 Urea 10-26-26"
      ]
     },
     "execution_count": 11,
     "metadata": {},
     "output_type": "execute_result"
    }
   ],
   "source": [
    "create_submission(\"logistic-regression\", lr_test_pred_probs, np.mean(scores[\"LogisticRegression\"])).head()"
   ]
  },
  {
   "cell_type": "markdown",
   "id": "2fa903a3",
   "metadata": {
    "papermill": {
     "duration": 0.005178,
     "end_time": "2025-06-13T07:01:25.438886",
     "exception": false,
     "start_time": "2025-06-13T07:01:25.433708",
     "status": "completed"
    },
    "tags": []
   },
   "source": [
    "## StackingClassifier"
   ]
  },
  {
   "cell_type": "code",
   "execution_count": 12,
   "id": "860fb6be",
   "metadata": {
    "_kg_hide-input": true,
    "execution": {
     "iopub.execute_input": "2025-06-13T07:01:25.452018Z",
     "iopub.status.busy": "2025-06-13T07:01:25.451718Z",
     "iopub.status.idle": "2025-06-13T07:01:25.458642Z",
     "shell.execute_reply": "2025-06-13T07:01:25.457629Z"
    },
    "papermill": {
     "duration": 0.015378,
     "end_time": "2025-06-13T07:01:25.460103",
     "exception": false,
     "start_time": "2025-06-13T07:01:25.444725",
     "status": "completed"
    },
    "tags": []
   },
   "outputs": [],
   "source": [
    "# This is just a trick to avoid refitting all base models from scratch, which is what StackingClassifier and VotingClassifier do by default\n",
    "\n",
    "class PassThroughClassifier(BaseEstimator, ClassifierMixin):\n",
    "    def __init__(self, idx_cols):\n",
    "        self.idx_cols = idx_cols\n",
    "        self.is_fitted_ = True\n",
    "\n",
    "    def fit(self, X, y=None):\n",
    "        return self\n",
    "\n",
    "    def predict_proba(self, X):\n",
    "        return check_array(X)[:, self.idx_cols]\n",
    "\n",
    "\n",
    "estimators = [\n",
    "    ('LightGBM (gbdt)', PassThroughClassifier(list(range(0, 7)))),\n",
    "    ('LightGBM (goss)', PassThroughClassifier(list(range(7, 14)))),\n",
    "    ('XGBoost', PassThroughClassifier(list(range(14, 21)))),\n",
    "    ('AutoGluon', PassThroughClassifier(list(range(21, 28)))),\n",
    "]"
   ]
  },
  {
   "cell_type": "code",
   "execution_count": 13,
   "id": "60d65377",
   "metadata": {
    "execution": {
     "iopub.execute_input": "2025-06-13T07:01:25.473248Z",
     "iopub.status.busy": "2025-06-13T07:01:25.472934Z",
     "iopub.status.idle": "2025-06-13T07:02:46.639834Z",
     "shell.execute_reply": "2025-06-13T07:02:46.638444Z"
    },
    "papermill": {
     "duration": 81.175639,
     "end_time": "2025-06-13T07:02:46.641644",
     "exception": false,
     "start_time": "2025-06-13T07:01:25.466005",
     "status": "completed"
    },
    "tags": []
   },
   "outputs": [
    {
     "name": "stdout",
     "output_type": "stream",
     "text": [
      "Training StackingClassifier\n",
      "\n",
      "--- Fold 1 - MAP@3: 0.364527\n",
      "--- Fold 2 - MAP@3: 0.365799\n",
      "--- Fold 3 - MAP@3: 0.368257\n",
      "--- Fold 4 - MAP@3: 0.366017\n",
      "--- Fold 5 - MAP@3: 0.366110\n",
      "\n",
      "------ Overall MAP@3: 0.366142 | Average MAP@3: 0.366142 ± 0.001201\n"
     ]
    }
   ],
   "source": [
    "stacking_model = StackingClassifier(estimators, cv='prefit', n_jobs=-1, final_estimator=clone(lr_model))\n",
    "stacking_trainer = Trainer(stacking_model)\n",
    "_, stacking_test_pred_probs, scores[\"StackingClassifier\"] = stacking_trainer.fit_predict(X, y, X_test)"
   ]
  },
  {
   "cell_type": "code",
   "execution_count": 14,
   "id": "e7c1eae6",
   "metadata": {
    "execution": {
     "iopub.execute_input": "2025-06-13T07:02:46.655105Z",
     "iopub.status.busy": "2025-06-13T07:02:46.654783Z",
     "iopub.status.idle": "2025-06-13T07:03:12.312990Z",
     "shell.execute_reply": "2025-06-13T07:03:12.311985Z"
    },
    "papermill": {
     "duration": 25.666739,
     "end_time": "2025-06-13T07:03:12.314610",
     "exception": false,
     "start_time": "2025-06-13T07:02:46.647871",
     "status": "completed"
    },
    "tags": []
   },
   "outputs": [
    {
     "data": {
      "text/html": [
       "<div>\n",
       "<style scoped>\n",
       "    .dataframe tbody tr th:only-of-type {\n",
       "        vertical-align: middle;\n",
       "    }\n",
       "\n",
       "    .dataframe tbody tr th {\n",
       "        vertical-align: top;\n",
       "    }\n",
       "\n",
       "    .dataframe thead th {\n",
       "        text-align: right;\n",
       "    }\n",
       "</style>\n",
       "<table border=\"1\" class=\"dataframe\">\n",
       "  <thead>\n",
       "    <tr style=\"text-align: right;\">\n",
       "      <th></th>\n",
       "      <th>id</th>\n",
       "      <th>Fertilizer Name</th>\n",
       "    </tr>\n",
       "  </thead>\n",
       "  <tbody>\n",
       "    <tr>\n",
       "      <th>0</th>\n",
       "      <td>750000</td>\n",
       "      <td>10-26-26 20-20 DAP</td>\n",
       "    </tr>\n",
       "    <tr>\n",
       "      <th>1</th>\n",
       "      <td>750001</td>\n",
       "      <td>17-17-17 10-26-26 20-20</td>\n",
       "    </tr>\n",
       "    <tr>\n",
       "      <th>2</th>\n",
       "      <td>750002</td>\n",
       "      <td>20-20 28-28 Urea</td>\n",
       "    </tr>\n",
       "    <tr>\n",
       "      <th>3</th>\n",
       "      <td>750003</td>\n",
       "      <td>14-35-14 DAP 17-17-17</td>\n",
       "    </tr>\n",
       "    <tr>\n",
       "      <th>4</th>\n",
       "      <td>750004</td>\n",
       "      <td>20-20 Urea 10-26-26</td>\n",
       "    </tr>\n",
       "  </tbody>\n",
       "</table>\n",
       "</div>"
      ],
      "text/plain": [
       "       id          Fertilizer Name\n",
       "0  750000       10-26-26 20-20 DAP\n",
       "1  750001  17-17-17 10-26-26 20-20\n",
       "2  750002         20-20 28-28 Urea\n",
       "3  750003    14-35-14 DAP 17-17-17\n",
       "4  750004      20-20 Urea 10-26-26"
      ]
     },
     "execution_count": 14,
     "metadata": {},
     "output_type": "execute_result"
    }
   ],
   "source": [
    "create_submission(\"stacking-classifier\", stacking_test_pred_probs, np.mean(scores[\"StackingClassifier\"])).head()"
   ]
  },
  {
   "cell_type": "markdown",
   "id": "3aa72800",
   "metadata": {
    "papermill": {
     "duration": 0.005942,
     "end_time": "2025-06-13T07:03:12.327065",
     "exception": false,
     "start_time": "2025-06-13T07:03:12.321123",
     "status": "completed"
    },
    "tags": []
   },
   "source": [
    "## VotingClassifier"
   ]
  },
  {
   "cell_type": "code",
   "execution_count": 15,
   "id": "4717a448",
   "metadata": {
    "execution": {
     "iopub.execute_input": "2025-06-13T07:03:12.340779Z",
     "iopub.status.busy": "2025-06-13T07:03:12.340385Z",
     "iopub.status.idle": "2025-06-13T07:03:25.837178Z",
     "shell.execute_reply": "2025-06-13T07:03:25.835872Z"
    },
    "papermill": {
     "duration": 13.505782,
     "end_time": "2025-06-13T07:03:25.838898",
     "exception": false,
     "start_time": "2025-06-13T07:03:12.333116",
     "status": "completed"
    },
    "tags": []
   },
   "outputs": [
    {
     "name": "stdout",
     "output_type": "stream",
     "text": [
      "Training VotingClassifier\n",
      "\n",
      "--- Fold 1 - MAP@3: 0.362856\n",
      "--- Fold 2 - MAP@3: 0.363509\n",
      "--- Fold 3 - MAP@3: 0.365732\n",
      "--- Fold 4 - MAP@3: 0.363687\n",
      "--- Fold 5 - MAP@3: 0.363853\n",
      "\n",
      "------ Overall MAP@3: 0.363927 | Average MAP@3: 0.363927 ± 0.000964\n"
     ]
    }
   ],
   "source": [
    "voting_model = VotingClassifier(estimators, n_jobs=-1, voting='soft')\n",
    "voting_trainer = Trainer(voting_model)\n",
    "_, voting_test_pred_probs, scores[\"VotingClassifier\"] = voting_trainer.fit_predict(X, y, X_test)"
   ]
  },
  {
   "cell_type": "code",
   "execution_count": 16,
   "id": "285ced9b",
   "metadata": {
    "execution": {
     "iopub.execute_input": "2025-06-13T07:03:25.853950Z",
     "iopub.status.busy": "2025-06-13T07:03:25.853196Z",
     "iopub.status.idle": "2025-06-13T07:03:51.653044Z",
     "shell.execute_reply": "2025-06-13T07:03:51.652000Z"
    },
    "papermill": {
     "duration": 25.809163,
     "end_time": "2025-06-13T07:03:51.654757",
     "exception": false,
     "start_time": "2025-06-13T07:03:25.845594",
     "status": "completed"
    },
    "tags": []
   },
   "outputs": [
    {
     "data": {
      "text/html": [
       "<div>\n",
       "<style scoped>\n",
       "    .dataframe tbody tr th:only-of-type {\n",
       "        vertical-align: middle;\n",
       "    }\n",
       "\n",
       "    .dataframe tbody tr th {\n",
       "        vertical-align: top;\n",
       "    }\n",
       "\n",
       "    .dataframe thead th {\n",
       "        text-align: right;\n",
       "    }\n",
       "</style>\n",
       "<table border=\"1\" class=\"dataframe\">\n",
       "  <thead>\n",
       "    <tr style=\"text-align: right;\">\n",
       "      <th></th>\n",
       "      <th>id</th>\n",
       "      <th>Fertilizer Name</th>\n",
       "    </tr>\n",
       "  </thead>\n",
       "  <tbody>\n",
       "    <tr>\n",
       "      <th>0</th>\n",
       "      <td>750000</td>\n",
       "      <td>10-26-26 DAP 20-20</td>\n",
       "    </tr>\n",
       "    <tr>\n",
       "      <th>1</th>\n",
       "      <td>750001</td>\n",
       "      <td>17-17-17 10-26-26 20-20</td>\n",
       "    </tr>\n",
       "    <tr>\n",
       "      <th>2</th>\n",
       "      <td>750002</td>\n",
       "      <td>20-20 28-28 17-17-17</td>\n",
       "    </tr>\n",
       "    <tr>\n",
       "      <th>3</th>\n",
       "      <td>750003</td>\n",
       "      <td>14-35-14 DAP Urea</td>\n",
       "    </tr>\n",
       "    <tr>\n",
       "      <th>4</th>\n",
       "      <td>750004</td>\n",
       "      <td>20-20 Urea 10-26-26</td>\n",
       "    </tr>\n",
       "  </tbody>\n",
       "</table>\n",
       "</div>"
      ],
      "text/plain": [
       "       id          Fertilizer Name\n",
       "0  750000       10-26-26 DAP 20-20\n",
       "1  750001  17-17-17 10-26-26 20-20\n",
       "2  750002     20-20 28-28 17-17-17\n",
       "3  750003        14-35-14 DAP Urea\n",
       "4  750004      20-20 Urea 10-26-26"
      ]
     },
     "execution_count": 16,
     "metadata": {},
     "output_type": "execute_result"
    }
   ],
   "source": [
    "create_submission(\"voting-classifier\", voting_test_pred_probs, np.mean(scores[\"VotingClassifier\"])).head()"
   ]
  },
  {
   "cell_type": "markdown",
   "id": "348bcca1",
   "metadata": {
    "papermill": {
     "duration": 0.006584,
     "end_time": "2025-06-13T07:03:51.668352",
     "exception": false,
     "start_time": "2025-06-13T07:03:51.661768",
     "status": "completed"
    },
    "tags": []
   },
   "source": [
    "## Weighted averaging"
   ]
  },
  {
   "cell_type": "code",
   "execution_count": 17,
   "id": "c398e964",
   "metadata": {
    "_kg_hide-output": true,
    "execution": {
     "iopub.execute_input": "2025-06-13T07:03:51.683262Z",
     "iopub.status.busy": "2025-06-13T07:03:51.682923Z",
     "iopub.status.idle": "2025-06-13T07:11:25.623942Z",
     "shell.execute_reply": "2025-06-13T07:11:25.622906Z"
    },
    "papermill": {
     "duration": 453.950869,
     "end_time": "2025-06-13T07:11:25.625882",
     "exception": false,
     "start_time": "2025-06-13T07:03:51.675013",
     "status": "completed"
    },
    "scrolled": true,
    "tags": []
   },
   "outputs": [
    {
     "name": "stderr",
     "output_type": "stream",
     "text": [
      "[I 2025-06-13 07:03:51,687] A new study created in memory with name: no-name-afceea58-adda-4b35-b267-8e2487998e89\n",
      "[I 2025-06-13 07:03:58,949] Trial 1 finished with value: 0.3623455555555555 and parameters: {'LightGBM (gbdt)': 0.13203641151686896, 'LightGBM (goss)': 0.15720890780082974, 'XGBoost': 0.7729718156929071, 'AutoGluon': 0.7714487221345078}. Best is trial 1 with value: 0.3623455555555555.\n",
      "[I 2025-06-13 07:03:59,211] Trial 0 finished with value: 0.3618877777777777 and parameters: {'LightGBM (gbdt)': 0.15768500280638775, 'LightGBM (goss)': 0.7268572395523208, 'XGBoost': 0.5507388437833218, 'AutoGluon': 0.901305490782998}. Best is trial 1 with value: 0.3623455555555555.\n",
      "[I 2025-06-13 07:03:59,749] Trial 3 finished with value: 0.3647875555555554 and parameters: {'LightGBM (gbdt)': 0.41978565416022884, 'LightGBM (goss)': 0.9680717485820535, 'XGBoost': 0.7562093564594089, 'AutoGluon': 0.1545852045111451}. Best is trial 3 with value: 0.3647875555555554.\n",
      "[I 2025-06-13 07:03:59,751] Trial 2 finished with value: 0.36475866666666656 and parameters: {'LightGBM (gbdt)': 0.6187936801766377, 'LightGBM (goss)': 0.4830431413918178, 'XGBoost': 0.42891152919412034, 'AutoGluon': 0.1660366400722152}. Best is trial 3 with value: 0.3647875555555554.\n",
      "[I 2025-06-13 07:04:07,554] Trial 5 finished with value: 0.3607091111111111 and parameters: {'LightGBM (gbdt)': 0.47547008701369065, 'LightGBM (goss)': 0.8843889523360762, 'XGBoost': 0.06062161252144649, 'AutoGluon': 0.8100183154060355}. Best is trial 3 with value: 0.3647875555555554.\n",
      "[I 2025-06-13 07:04:07,810] Trial 6 finished with value: 0.36416022222222216 and parameters: {'LightGBM (gbdt)': 0.8036180353879785, 'LightGBM (goss)': 0.8716761234005226, 'XGBoost': 0.9100139804457835, 'AutoGluon': 0.7727762186661994}. Best is trial 3 with value: 0.3647875555555554.\n",
      "[I 2025-06-13 07:04:07,932] Trial 4 finished with value: 0.3619648888888888 and parameters: {'LightGBM (gbdt)': 0.3052610770676255, 'LightGBM (goss)': 0.7399851955288294, 'XGBoost': 0.058386398948493956, 'AutoGluon': 0.3803036320962885}. Best is trial 3 with value: 0.3647875555555554.\n",
      "[I 2025-06-13 07:04:08,294] Trial 7 finished with value: 0.3619264444444443 and parameters: {'LightGBM (gbdt)': 0.39850587414791916, 'LightGBM (goss)': 0.5754606036921469, 'XGBoost': 0.1486836615922077, 'AutoGluon': 0.525000970443817}. Best is trial 3 with value: 0.3647875555555554.\n",
      "[I 2025-06-13 07:04:13,691] Trial 8 finished with value: 0.36539422222222223 and parameters: {'LightGBM (gbdt)': 0.759997561732755, 'LightGBM (goss)': 0.39792018379928096, 'XGBoost': 0.8837246832288167, 'AutoGluon': 0.22230576957416137}. Best is trial 8 with value: 0.36539422222222223.\n",
      "[I 2025-06-13 07:04:14,329] Trial 9 finished with value: 0.3648813333333335 and parameters: {'LightGBM (gbdt)': 0.5165465890230553, 'LightGBM (goss)': 0.22849677933192492, 'XGBoost': 0.4938623277250862, 'AutoGluon': 0.24685008804416864}. Best is trial 8 with value: 0.36539422222222223.\n",
      "[I 2025-06-13 07:04:15,288] Trial 11 finished with value: 0.3640684444444444 and parameters: {'LightGBM (gbdt)': 0.8045374315924031, 'LightGBM (goss)': 0.8806561383284399, 'XGBoost': 0.40668318874921316, 'AutoGluon': 0.28558997034169953}. Best is trial 8 with value: 0.36539422222222223.\n",
      "[I 2025-06-13 07:04:15,473] Trial 10 finished with value: 0.363859111111111 and parameters: {'LightGBM (gbdt)': 0.9840979819594444, 'LightGBM (goss)': 0.8826941097853351, 'XGBoost': 0.5852746790032995, 'AutoGluon': 0.6453788429571682}. Best is trial 8 with value: 0.36539422222222223.\n",
      "[I 2025-06-13 07:04:20,632] Trial 12 finished with value: 0.362277111111111 and parameters: {'LightGBM (gbdt)': 0.43850225020560074, 'LightGBM (goss)': 0.28522664046769164, 'XGBoost': 0.21317276865841395, 'AutoGluon': 0.49525915921207975}. Best is trial 8 with value: 0.36539422222222223.\n",
      "[I 2025-06-13 07:04:21,931] Trial 15 finished with value: 0.3646995555555555 and parameters: {'LightGBM (gbdt)': 0.652990119793381, 'LightGBM (goss)': 0.21243210000924045, 'XGBoost': 0.2840738982311724, 'AutoGluon': 0.05439114478883689}. Best is trial 8 with value: 0.36539422222222223.\n",
      "[I 2025-06-13 07:04:22,039] Trial 13 finished with value: 0.3656724444444444 and parameters: {'LightGBM (gbdt)': 0.9653565492378995, 'LightGBM (goss)': 0.3262021361337245, 'XGBoost': 0.9894622140167315, 'AutoGluon': 0.03391333948860897}. Best is trial 13 with value: 0.3656724444444444.\n",
      "[I 2025-06-13 07:04:23,919] Trial 14 finished with value: 0.36511022222222234 and parameters: {'LightGBM (gbdt)': 0.9924441864077742, 'LightGBM (goss)': 0.20463367791852038, 'XGBoost': 0.6052692841206851, 'AutoGluon': 0.02978184456931221}. Best is trial 13 with value: 0.3656724444444444.\n",
      "[I 2025-06-13 07:04:27,158] Trial 16 finished with value: 0.36617755555555564 and parameters: {'LightGBM (gbdt)': 0.6410534025428409, 'LightGBM (goss)': 0.023891033211946633, 'XGBoost': 0.9347609568289441, 'AutoGluon': 0.007195355288672933}. Best is trial 16 with value: 0.36617755555555564.\n",
      "[I 2025-06-13 07:04:28,566] Trial 17 finished with value: 0.36565066666666673 and parameters: {'LightGBM (gbdt)': 0.6292743963505394, 'LightGBM (goss)': 0.044877261191757445, 'XGBoost': 0.9866832489552326, 'AutoGluon': 0.30739423426963586}. Best is trial 16 with value: 0.36617755555555564.\n",
      "[I 2025-06-13 07:04:29,629] Trial 18 finished with value: 0.36593799999999993 and parameters: {'LightGBM (gbdt)': 0.9632948803593773, 'LightGBM (goss)': 0.006776401152055023, 'XGBoost': 0.9874191897982739, 'AutoGluon': 0.003213302241091176}. Best is trial 16 with value: 0.36617755555555564.\n",
      "[I 2025-06-13 07:04:30,686] Trial 19 finished with value: 0.36532088888888875 and parameters: {'LightGBM (gbdt)': 0.8312691945442993, 'LightGBM (goss)': 0.024147233239344867, 'XGBoost': 0.9662634138317475, 'AutoGluon': 0.3644589375279471}. Best is trial 16 with value: 0.36617755555555564.\n",
      "[I 2025-06-13 07:04:34,860] Trial 21 finished with value: 0.36563222222222225 and parameters: {'LightGBM (gbdt)': 0.9230328815348707, 'LightGBM (goss)': 0.002376895059359896, 'XGBoost': 0.7285756286409756, 'AutoGluon': 0.028978228295928617}. Best is trial 16 with value: 0.36617755555555564.\n",
      "[I 2025-06-13 07:04:35,286] Trial 22 finished with value: 0.36478133333333324 and parameters: {'LightGBM (gbdt)': 0.8746382172719783, 'LightGBM (goss)': 0.006801951452531624, 'XGBoost': 0.7093951829004661, 'AutoGluon': 0.41324362620811683}. Best is trial 16 with value: 0.36617755555555564.\n",
      "[I 2025-06-13 07:04:35,561] Trial 20 finished with value: 0.36598733333333333 and parameters: {'LightGBM (gbdt)': 0.8856026693966574, 'LightGBM (goss)': 0.015400995391928685, 'XGBoost': 0.9865143534787308, 'AutoGluon': 0.014201083830991315}. Best is trial 16 with value: 0.36617755555555564.\n",
      "[I 2025-06-13 07:04:40,459] Trial 23 finished with value: 0.3657111111111111 and parameters: {'LightGBM (gbdt)': 0.7090887890735558, 'LightGBM (goss)': 0.0984791242188767, 'XGBoost': 0.7389921820986178, 'AutoGluon': 0.12357558119437984}. Best is trial 16 with value: 0.36617755555555564.\n",
      "[I 2025-06-13 07:04:41,067] Trial 24 finished with value: 0.3656480000000001 and parameters: {'LightGBM (gbdt)': 0.8736381831962986, 'LightGBM (goss)': 0.1101736192114412, 'XGBoost': 0.8369741367704636, 'AutoGluon': 0.12455071186268883}. Best is trial 16 with value: 0.36617755555555564.\n",
      "[I 2025-06-13 07:04:41,777] Trial 26 finished with value: 0.3657782222222221 and parameters: {'LightGBM (gbdt)': 0.7229866052338312, 'LightGBM (goss)': 0.10549006297471164, 'XGBoost': 0.8350553841690075, 'AutoGluon': 0.126094431531444}. Best is trial 16 with value: 0.36617755555555564.\n",
      "[I 2025-06-13 07:04:42,656] Trial 25 finished with value: 0.36583177777777776 and parameters: {'LightGBM (gbdt)': 0.01932333020299193, 'LightGBM (goss)': 0.12027221167955093, 'XGBoost': 0.8501672018502235, 'AutoGluon': 0.12082224499978148}. Best is trial 16 with value: 0.36617755555555564.\n",
      "[I 2025-06-13 07:04:47,304] Trial 27 finished with value: 0.3657595555555555 and parameters: {'LightGBM (gbdt)': 0.8812653781064064, 'LightGBM (goss)': 0.12347213340126727, 'XGBoost': 0.8719257358014021, 'AutoGluon': 0.10882032097435045}. Best is trial 16 with value: 0.36617755555555564.\n",
      "[I 2025-06-13 07:04:47,613] Trial 28 finished with value: 0.3660526666666666 and parameters: {'LightGBM (gbdt)': 0.5517630107563998, 'LightGBM (goss)': 0.09767448772605014, 'XGBoost': 0.838415879123133, 'AutoGluon': 0.09819825140674261}. Best is trial 16 with value: 0.36617755555555564.\n",
      "[I 2025-06-13 07:04:49,032] Trial 29 finished with value: 0.365894888888889 and parameters: {'LightGBM (gbdt)': 0.5589395953161593, 'LightGBM (goss)': 0.3492414314869192, 'XGBoost': 0.8919601187620955, 'AutoGluon': 0.011610587904511171}. Best is trial 16 with value: 0.36617755555555564.\n",
      "[I 2025-06-13 07:04:50,262] Trial 30 finished with value: 0.3655784444444445 and parameters: {'LightGBM (gbdt)': 0.5806575701289088, 'LightGBM (goss)': 0.3209845197336651, 'XGBoost': 0.9201757023579819, 'AutoGluon': 0.21124157326240245}. Best is trial 16 with value: 0.36617755555555564.\n",
      "[I 2025-06-13 07:04:53,326] Trial 32 finished with value: 0.3652695555555554 and parameters: {'LightGBM (gbdt)': 0.5470501764974723, 'LightGBM (goss)': 0.3679149680976377, 'XGBoost': 0.683790807318671, 'AutoGluon': 0.2022328143479322}. Best is trial 16 with value: 0.36617755555555564.\n",
      "[I 2025-06-13 07:04:54,994] Trial 31 finished with value: 0.3653455555555555 and parameters: {'LightGBM (gbdt)': 0.2800731394861675, 'LightGBM (goss)': 0.33972124151092065, 'XGBoost': 0.6487046336467157, 'AutoGluon': 0.20652850587422852}. Best is trial 16 with value: 0.36617755555555564.\n",
      "[I 2025-06-13 07:04:56,408] Trial 34 finished with value: 0.3661544444444445 and parameters: {'LightGBM (gbdt)': 0.3475796515958894, 'LightGBM (goss)': 0.06180696352667526, 'XGBoost': 0.6552775301319334, 'AutoGluon': 0.06499235113708887}. Best is trial 16 with value: 0.36617755555555564.\n",
      "[I 2025-06-13 07:04:57,277] Trial 33 finished with value: 0.3623666666666666 and parameters: {'LightGBM (gbdt)': 0.3023651207114079, 'LightGBM (goss)': 0.6334346934306794, 'XGBoost': 0.6624108003110243, 'AutoGluon': 0.9656996291818171}. Best is trial 16 with value: 0.36617755555555564.\n",
      "[I 2025-06-13 07:04:59,442] Trial 35 finished with value: 0.36626444444444434 and parameters: {'LightGBM (gbdt)': 0.27388569286397774, 'LightGBM (goss)': 0.05306482367775933, 'XGBoost': 0.808495245632594, 'AutoGluon': 0.07207337915802908}. Best is trial 35 with value: 0.36626444444444434.\n",
      "[I 2025-06-13 07:05:01,599] Trial 36 finished with value: 0.36299288888888875 and parameters: {'LightGBM (gbdt)': 0.6864590570441824, 'LightGBM (goss)': 0.0704940666847055, 'XGBoost': 0.8002988485170799, 'AutoGluon': 0.9563858572968059}. Best is trial 35 with value: 0.36626444444444434.\n",
      "[I 2025-06-13 07:05:03,658] Trial 38 finished with value: 0.3660820000000003 and parameters: {'LightGBM (gbdt)': 0.3511992200652228, 'LightGBM (goss)': 0.17800402805477025, 'XGBoost': 0.7889808989700509, 'AutoGluon': 0.0732773254173336}. Best is trial 35 with value: 0.36626444444444434.\n",
      "[I 2025-06-13 07:05:05,054] Trial 37 finished with value: 0.3661402222222223 and parameters: {'LightGBM (gbdt)': 0.307451626011579, 'LightGBM (goss)': 0.1666018373442135, 'XGBoost': 0.7932135908074965, 'AutoGluon': 0.05956157224265161}. Best is trial 35 with value: 0.36626444444444434.\n",
      "[I 2025-06-13 07:05:06,270] Trial 39 finished with value: 0.3661833333333334 and parameters: {'LightGBM (gbdt)': 0.19368548235705071, 'LightGBM (goss)': 0.1816389498862827, 'XGBoost': 0.8006226919779561, 'AutoGluon': 0.08069654427797324}. Best is trial 35 with value: 0.36626444444444434.\n",
      "[I 2025-06-13 07:05:06,617] Trial 40 finished with value: 0.36616511111111094 and parameters: {'LightGBM (gbdt)': 0.23194973148878067, 'LightGBM (goss)': 0.17205831758270615, 'XGBoost': 0.7894590821945274, 'AutoGluon': 0.08359579787545379}. Best is trial 35 with value: 0.36626444444444434.\n",
      "[I 2025-06-13 07:05:11,770] Trial 42 finished with value: 0.3647435555555555 and parameters: {'LightGBM (gbdt)': 0.21157401718015842, 'LightGBM (goss)': 0.26123790269367986, 'XGBoost': 0.5383372936500644, 'AutoGluon': 0.3157525785012537}. Best is trial 35 with value: 0.36626444444444434.\n",
      "[I 2025-06-13 07:05:11,929] Trial 41 finished with value: 0.36619488888888874 and parameters: {'LightGBM (gbdt)': 0.19043459915106256, 'LightGBM (goss)': 0.16988590570785503, 'XGBoost': 0.7882124600779623, 'AutoGluon': 0.07086499499576711}. Best is trial 35 with value: 0.36626444444444434.\n",
      "[I 2025-06-13 07:05:12,835] Trial 44 finished with value: 0.365708 and parameters: {'LightGBM (gbdt)': 0.1869495263410933, 'LightGBM (goss)': 0.4645691426470633, 'XGBoost': 0.9293630547408765, 'AutoGluon': 0.17805567950397194}. Best is trial 35 with value: 0.36626444444444434.\n",
      "[I 2025-06-13 07:05:13,193] Trial 43 finished with value: 0.3650573333333334 and parameters: {'LightGBM (gbdt)': 0.20164580131945467, 'LightGBM (goss)': 0.4642468742709277, 'XGBoost': 0.5111361035635922, 'AutoGluon': 0.15334828444286472}. Best is trial 35 with value: 0.36626444444444434.\n",
      "[I 2025-06-13 07:05:20,221] Trial 46 finished with value: 0.365542888888889 and parameters: {'LightGBM (gbdt)': 0.12942576742044334, 'LightGBM (goss)': 0.4204182741940415, 'XGBoost': 0.7631007680343793, 'AutoGluon': 0.1639182939746268}. Best is trial 35 with value: 0.36626444444444434.\n",
      "[I 2025-06-13 07:05:20,599] Trial 45 finished with value: 0.36550822222222223 and parameters: {'LightGBM (gbdt)': 0.11745599589310064, 'LightGBM (goss)': 0.43691667321204347, 'XGBoost': 0.7581831915763724, 'AutoGluon': 0.16897203431294855}. Best is trial 35 with value: 0.36626444444444434.\n",
      "[I 2025-06-13 07:05:20,855] Trial 47 finished with value: 0.3657657777777777 and parameters: {'LightGBM (gbdt)': 0.12261746036996395, 'LightGBM (goss)': 0.2626359046742912, 'XGBoost': 0.7603683436741349, 'AutoGluon': 0.16246930793456116}. Best is trial 35 with value: 0.36626444444444434.\n",
      "[I 2025-06-13 07:05:20,940] Trial 48 finished with value: 0.3653246666666666 and parameters: {'LightGBM (gbdt)': 0.05970686410588488, 'LightGBM (goss)': 0.2743389478833236, 'XGBoost': 0.7714911656466236, 'AutoGluon': 0.2552814760502575}. Best is trial 35 with value: 0.36626444444444434.\n",
      "[I 2025-06-13 07:05:26,737] Trial 51 finished with value: 0.36201644444444436 and parameters: {'LightGBM (gbdt)': 0.24683281850552588, 'LightGBM (goss)': 0.17154487616508027, 'XGBoost': 0.4085190634948798, 'AutoGluon': 0.5963537563542496}. Best is trial 35 with value: 0.36626444444444434.\n",
      "[I 2025-06-13 07:05:27,112] Trial 49 finished with value: 0.36117022222222234 and parameters: {'LightGBM (gbdt)': 0.06253453165156356, 'LightGBM (goss)': 0.26038864127042094, 'XGBoost': 0.45551028247325237, 'AutoGluon': 0.6466488467594087}. Best is trial 35 with value: 0.36626444444444434.\n",
      "[I 2025-06-13 07:05:27,444] Trial 50 finished with value: 0.36539400000000005 and parameters: {'LightGBM (gbdt)': 0.0365398294809334, 'LightGBM (goss)': 0.15048199195691547, 'XGBoost': 0.9429518819035594, 'AutoGluon': 0.26496841078673156}. Best is trial 35 with value: 0.36626444444444434.\n",
      "[I 2025-06-13 07:05:27,667] Trial 52 finished with value: 0.36433911111111106 and parameters: {'LightGBM (gbdt)': 0.24818242250545142, 'LightGBM (goss)': 0.5359493609699102, 'XGBoost': 0.9347607319729647, 'AutoGluon': 0.6148721696630058}. Best is trial 35 with value: 0.36626444444444434.\n",
      "[I 2025-06-13 07:05:34,399] Trial 54 finished with value: 0.3660813333333333 and parameters: {'LightGBM (gbdt)': 0.3870009150533439, 'LightGBM (goss)': 0.06331907918274149, 'XGBoost': 0.6214573427564105, 'AutoGluon': 0.09029338727458401}. Best is trial 35 with value: 0.36626444444444434.\n",
      "[I 2025-06-13 07:05:34,801] Trial 55 finished with value: 0.36600977777777777 and parameters: {'LightGBM (gbdt)': 0.4487979037754509, 'LightGBM (goss)': 0.06200522422498466, 'XGBoost': 0.6120705126850057, 'AutoGluon': 0.07714127882815484}. Best is trial 35 with value: 0.36626444444444434.\n",
      "[I 2025-06-13 07:05:35,035] Trial 56 finished with value: 0.3660913333333333 and parameters: {'LightGBM (gbdt)': 0.3856307619779539, 'LightGBM (goss)': 0.056391011950932185, 'XGBoost': 0.6397583361474527, 'AutoGluon': 0.07437442014100684}. Best is trial 35 with value: 0.36626444444444434.\n",
      "[I 2025-06-13 07:05:35,332] Trial 53 finished with value: 0.3571573333333335 and parameters: {'LightGBM (gbdt)': 0.07894330077558759, 'LightGBM (goss)': 0.5379199248605646, 'XGBoost': 0.005882971177134322, 'AutoGluon': 0.6711948750507539}. Best is trial 35 with value: 0.36626444444444434.\n",
      "[I 2025-06-13 07:05:42,042] Trial 59 finished with value: 0.3661768888888888 and parameters: {'LightGBM (gbdt)': 0.16501794475257625, 'LightGBM (goss)': 0.20841171199314407, 'XGBoost': 0.7071404497906179, 'AutoGluon': 0.04375498068490501}. Best is trial 35 with value: 0.36626444444444434.\n",
      "[I 2025-06-13 07:05:42,649] Trial 60 finished with value: 0.36606488888888894 and parameters: {'LightGBM (gbdt)': 0.16154574326524473, 'LightGBM (goss)': 0.2145977469403969, 'XGBoost': 0.7075363777143993, 'AutoGluon': 0.00505262870894195}. Best is trial 35 with value: 0.36626444444444434.\n",
      "[I 2025-06-13 07:05:42,805] Trial 58 finished with value: 0.366004 and parameters: {'LightGBM (gbdt)': 0.34671192785170063, 'LightGBM (goss)': 0.19854950872133642, 'XGBoost': 0.7039624546350576, 'AutoGluon': 0.0380753082798059}. Best is trial 35 with value: 0.36626444444444434.\n",
      "[I 2025-06-13 07:05:43,170] Trial 57 finished with value: 0.36613733333333326 and parameters: {'LightGBM (gbdt)': 0.3541887610430354, 'LightGBM (goss)': 0.05768820923066986, 'XGBoost': 0.690021232348748, 'AutoGluon': 0.0691757073584347}. Best is trial 35 with value: 0.36626444444444434.\n",
      "[I 2025-06-13 07:05:49,230] Trial 64 finished with value: 0.36616511111111116 and parameters: {'LightGBM (gbdt)': 0.24750094727244487, 'LightGBM (goss)': 0.1397888169002559, 'XGBoost': 0.808984152040712, 'AutoGluon': 0.04294653597189267}. Best is trial 35 with value: 0.36626444444444434.\n",
      "[I 2025-06-13 07:05:49,310] Trial 62 finished with value: 0.36193377777777774 and parameters: {'LightGBM (gbdt)': 0.16539676468874173, 'LightGBM (goss)': 0.12783653993569322, 'XGBoost': 0.811277445930519, 'AutoGluon': 0.8721214107129962}. Best is trial 35 with value: 0.36626444444444434.\n",
      "[I 2025-06-13 07:05:49,548] Trial 63 finished with value: 0.3615206666666668 and parameters: {'LightGBM (gbdt)': 0.23871162257045406, 'LightGBM (goss)': 0.812748796078333, 'XGBoost': 0.33644913061345466, 'AutoGluon': 0.8209375246383256}. Best is trial 35 with value: 0.36626444444444434.\n",
      "[I 2025-06-13 07:05:49,793] Trial 61 finished with value: 0.365685111111111 and parameters: {'LightGBM (gbdt)': 0.239463938486672, 'LightGBM (goss)': 0.15080832643389808, 'XGBoost': 0.33090823701596567, 'AutoGluon': 0.04136702762810507}. Best is trial 35 with value: 0.36626444444444434.\n",
      "[I 2025-06-13 07:05:56,435] Trial 68 finished with value: 0.3660095555555556 and parameters: {'LightGBM (gbdt)': 0.28860521752793555, 'LightGBM (goss)': 0.1977631259383349, 'XGBoost': 0.8683761150356907, 'AutoGluon': 0.12200132862450336}. Best is trial 35 with value: 0.36626444444444434.\n",
      "[I 2025-06-13 07:05:57,260] Trial 67 finished with value: 0.36613133333333325 and parameters: {'LightGBM (gbdt)': 0.10177671315206789, 'LightGBM (goss)': 0.1412483361857971, 'XGBoost': 0.8676678120125789, 'AutoGluon': 0.0014178354938379906}. Best is trial 35 with value: 0.36626444444444434.\n",
      "[I 2025-06-13 07:05:57,445] Trial 66 finished with value: 0.3661304444444443 and parameters: {'LightGBM (gbdt)': 0.23415670931615998, 'LightGBM (goss)': 0.23144300337361648, 'XGBoost': 0.8679713027036444, 'AutoGluon': 0.037557776191593256}. Best is trial 35 with value: 0.36626444444444434.\n",
      "[I 2025-06-13 07:05:57,980] Trial 65 finished with value: 0.3661055555555554 and parameters: {'LightGBM (gbdt)': 0.24099703529380195, 'LightGBM (goss)': 0.23810932841025825, 'XGBoost': 0.8883092450984224, 'AutoGluon': 0.00022577618043454883}. Best is trial 35 with value: 0.36626444444444434.\n",
      "[I 2025-06-13 07:06:04,186] Trial 70 finished with value: 0.365879111111111 and parameters: {'LightGBM (gbdt)': 0.4795046738143002, 'LightGBM (goss)': 0.3026858924088765, 'XGBoost': 0.8974568959594045, 'AutoGluon': 0.13874965488184776}. Best is trial 35 with value: 0.36626444444444434.\n",
      "[I 2025-06-13 07:06:04,321] Trial 69 finished with value: 0.3658757777777777 and parameters: {'LightGBM (gbdt)': 0.09596138886362698, 'LightGBM (goss)': 0.24319706960704704, 'XGBoost': 0.8979926020646798, 'AutoGluon': 0.14001519125608095}. Best is trial 35 with value: 0.36626444444444434.\n",
      "[I 2025-06-13 07:06:04,926] Trial 72 finished with value: 0.3660939999999999 and parameters: {'LightGBM (gbdt)': 0.4887887798194736, 'LightGBM (goss)': 0.08850833006411492, 'XGBoost': 0.8179876247061203, 'AutoGluon': 0.10389395188620885}. Best is trial 35 with value: 0.36626444444444434.\n",
      "[I 2025-06-13 07:06:05,167] Trial 71 finished with value: 0.3657142222222223 and parameters: {'LightGBM (gbdt)': 0.48978797160846754, 'LightGBM (goss)': 0.3001994376852892, 'XGBoost': 0.8140659328149449, 'AutoGluon': 0.14277961998681066}. Best is trial 35 with value: 0.36626444444444434.\n",
      "[I 2025-06-13 07:06:09,669] Trial 73 finished with value: 0.36613066666666666 and parameters: {'LightGBM (gbdt)': 0.1664027260575792, 'LightGBM (goss)': 0.09226236082084306, 'XGBoost': 0.5759404148937076, 'AutoGluon': 0.09321543018521518}. Best is trial 35 with value: 0.36626444444444434.\n",
      "[I 2025-06-13 07:06:10,848] Trial 74 finished with value: 0.3661057777777779 and parameters: {'LightGBM (gbdt)': 0.3277404736469373, 'LightGBM (goss)': 0.0911083436542771, 'XGBoost': 0.7348632947310185, 'AutoGluon': 0.10570604780533917}. Best is trial 35 with value: 0.36626444444444434.\n",
      "[I 2025-06-13 07:06:11,488] Trial 75 finished with value: 0.3662515555555555 and parameters: {'LightGBM (gbdt)': 0.17151845296107596, 'LightGBM (goss)': 0.09104216411074488, 'XGBoost': 0.7322973177578096, 'AutoGluon': 0.05939621008040949}. Best is trial 35 with value: 0.36626444444444434.\n",
      "[I 2025-06-13 07:06:11,973] Trial 76 finished with value: 0.36625533333333343 and parameters: {'LightGBM (gbdt)': 0.1774935652383583, 'LightGBM (goss)': 0.041250499751245326, 'XGBoost': 0.7252812053679024, 'AutoGluon': 0.051572144978093454}. Best is trial 35 with value: 0.36626444444444434.\n",
      "[I 2025-06-13 07:06:17,410] Trial 77 finished with value: 0.3658497777777776 and parameters: {'LightGBM (gbdt)': 0.20580087615281012, 'LightGBM (goss)': 0.03756575589439698, 'XGBoost': 0.7447951647626492, 'AutoGluon': 0.1912086611607589}. Best is trial 35 with value: 0.36626444444444434.\n",
      "[I 2025-06-13 07:06:18,685] Trial 79 finished with value: 0.3663055555555556 and parameters: {'LightGBM (gbdt)': 0.2700878318555735, 'LightGBM (goss)': 0.02865382459798449, 'XGBoost': 0.7322888549158314, 'AutoGluon': 0.04949370904920299}. Best is trial 79 with value: 0.3663055555555556.\n",
      "[I 2025-06-13 07:06:18,896] Trial 78 finished with value: 0.36626955555555557 and parameters: {'LightGBM (gbdt)': 0.20472520235458957, 'LightGBM (goss)': 0.029172243442087253, 'XGBoost': 0.7411857139970741, 'AutoGluon': 0.053566018461637596}. Best is trial 79 with value: 0.3663055555555556.\n",
      "[I 2025-06-13 07:06:19,960] Trial 80 finished with value: 0.36625511111111103 and parameters: {'LightGBM (gbdt)': 0.18820368251180075, 'LightGBM (goss)': 0.027595973367206948, 'XGBoost': 0.7287692238642366, 'AutoGluon': 0.044843392622813553}. Best is trial 79 with value: 0.3663055555555556.\n",
      "[I 2025-06-13 07:06:23,339] Trial 81 finished with value: 0.3660826666666666 and parameters: {'LightGBM (gbdt)': 0.1446106736986139, 'LightGBM (goss)': 0.02721046850433943, 'XGBoost': 0.962105914458197, 'AutoGluon': 0.047867518578466155}. Best is trial 79 with value: 0.3663055555555556.\n",
      "[I 2025-06-13 07:06:24,123] Trial 82 finished with value: 0.3662633333333335 and parameters: {'LightGBM (gbdt)': 0.18273070805686525, 'LightGBM (goss)': 0.0387054412918779, 'XGBoost': 0.6723757931756272, 'AutoGluon': 0.05202156626130021}. Best is trial 79 with value: 0.3663055555555556.\n",
      "[I 2025-06-13 07:06:25,601] Trial 83 finished with value: 0.36448866666666657 and parameters: {'LightGBM (gbdt)': 0.14086923598376244, 'LightGBM (goss)': 0.0321953124503236, 'XGBoost': 0.6715683275671449, 'AutoGluon': 0.35657647840656603}. Best is trial 79 with value: 0.3663055555555556.\n",
      "[I 2025-06-13 07:06:30,142] Trial 84 finished with value: 0.366132 and parameters: {'LightGBM (gbdt)': 0.13823635958169367, 'LightGBM (goss)': 0.021881718754046674, 'XGBoost': 0.6791829598312019, 'AutoGluon': 0.021743119473264492}. Best is trial 79 with value: 0.3663055555555556.\n",
      "[I 2025-06-13 07:06:30,742] Trial 86 finished with value: 0.3655537777777779 and parameters: {'LightGBM (gbdt)': 0.2674250019526372, 'LightGBM (goss)': 0.0018183702484650711, 'XGBoost': 0.674101037241242, 'AutoGluon': 0.23276056560534833}. Best is trial 79 with value: 0.3663055555555556.\n",
      "[I 2025-06-13 07:06:31,109] Trial 85 finished with value: 0.366173111111111 and parameters: {'LightGBM (gbdt)': 0.1883912905603965, 'LightGBM (goss)': 0.005605645697300179, 'XGBoost': 0.6733872701667616, 'AutoGluon': 0.057334744943966724}. Best is trial 79 with value: 0.3663055555555556.\n",
      "[I 2025-06-13 07:06:32,227] Trial 87 finished with value: 0.36385800000000007 and parameters: {'LightGBM (gbdt)': 0.1844863849497643, 'LightGBM (goss)': 0.003486592498698135, 'XGBoost': 0.7287321051939496, 'AutoGluon': 0.4740430092219702}. Best is trial 79 with value: 0.3663055555555556.\n",
      "[I 2025-06-13 07:06:36,861] Trial 88 finished with value: 0.36627622222222234 and parameters: {'LightGBM (gbdt)': 0.27335411535632537, 'LightGBM (goss)': 0.0042359291156107495, 'XGBoost': 0.7450300569646213, 'AutoGluon': 0.06309534549280027}. Best is trial 79 with value: 0.3663055555555556.\n",
      "[I 2025-06-13 07:06:38,079] Trial 89 finished with value: 0.36444511111111116 and parameters: {'LightGBM (gbdt)': 0.18887772599896455, 'LightGBM (goss)': 0.07929881418921798, 'XGBoost': 0.7215968595563497, 'AutoGluon': 0.4217680162426263}. Best is trial 79 with value: 0.3663055555555556.\n",
      "[I 2025-06-13 07:06:38,662] Trial 90 finished with value: 0.364216 and parameters: {'LightGBM (gbdt)': 0.21041493464528904, 'LightGBM (goss)': 0.08058394355638598, 'XGBoost': 0.7260344380187177, 'AutoGluon': 0.4685327117062444}. Best is trial 79 with value: 0.3663055555555556.\n",
      "[I 2025-06-13 07:06:41,431] Trial 91 finished with value: 0.36622666666666664 and parameters: {'LightGBM (gbdt)': 0.21392591951808068, 'LightGBM (goss)': 0.07691347956096117, 'XGBoost': 0.7729521893757513, 'AutoGluon': 0.1001148488535838}. Best is trial 79 with value: 0.3663055555555556.\n",
      "[I 2025-06-13 07:06:43,867] Trial 92 finished with value: 0.3657008888888887 and parameters: {'LightGBM (gbdt)': 0.0007622132018921812, 'LightGBM (goss)': 0.07867965650567502, 'XGBoost': 0.779795465900113, 'AutoGluon': 0.11667604996126026}. Best is trial 79 with value: 0.3663055555555556.\n",
      "[I 2025-06-13 07:06:44,261] Trial 94 finished with value: 0.3649908888888889 and parameters: {'LightGBM (gbdt)': 0.31800142760192984, 'LightGBM (goss)': 0.9731150261162278, 'XGBoost': 0.7687531161386773, 'AutoGluon': 0.09369854603589621}. Best is trial 79 with value: 0.3663055555555556.\n",
      "[I 2025-06-13 07:06:44,390] Trial 93 finished with value: 0.3661386666666667 and parameters: {'LightGBM (gbdt)': 0.2790575607323404, 'LightGBM (goss)': 0.1092280366873197, 'XGBoost': 0.7775212903383216, 'AutoGluon': 0.10310379013664753}. Best is trial 79 with value: 0.3663055555555556.\n",
      "[I 2025-06-13 07:06:49,615] Trial 95 finished with value: 0.36611844444444436 and parameters: {'LightGBM (gbdt)': 0.27162597647850867, 'LightGBM (goss)': 0.11384003617077665, 'XGBoost': 0.7792882776818723, 'AutoGluon': 0.10943612158039298}. Best is trial 79 with value: 0.3663055555555556.\n",
      "[I 2025-06-13 07:06:50,695] Trial 98 finished with value: 0.36624844444444443 and parameters: {'LightGBM (gbdt)': 0.2695219110301121, 'LightGBM (goss)': 0.04424870179457608, 'XGBoost': 0.8416795705125925, 'AutoGluon': 0.024826863029247748}. Best is trial 79 with value: 0.3663055555555556.\n",
      "[I 2025-06-13 07:06:50,899] Trial 97 finished with value: 0.36626733333333333 and parameters: {'LightGBM (gbdt)': 0.2835696421682974, 'LightGBM (goss)': 0.04039171038448422, 'XGBoost': 0.8469469815571975, 'AutoGluon': 0.057711856630465644}. Best is trial 79 with value: 0.3663055555555556.\n",
      "[I 2025-06-13 07:06:51,157] Trial 96 finished with value: 0.3661673333333335 and parameters: {'LightGBM (gbdt)': 0.312129874862424, 'LightGBM (goss)': 0.1173222523334216, 'XGBoost': 0.8361439434978852, 'AutoGluon': 0.02411650340414909}. Best is trial 79 with value: 0.3663055555555556.\n",
      "[I 2025-06-13 07:06:57,751] Trial 101 finished with value: 0.3662395555555556 and parameters: {'LightGBM (gbdt)': 0.2937562587027253, 'LightGBM (goss)': 0.042454247825405654, 'XGBoost': 0.8359314470046244, 'AutoGluon': 0.02106678892192737}. Best is trial 79 with value: 0.3663055555555556.\n",
      "[I 2025-06-13 07:06:58,098] Trial 102 finished with value: 0.3660764444444445 and parameters: {'LightGBM (gbdt)': 0.4175907418810514, 'LightGBM (goss)': 0.037784896422923965, 'XGBoost': 0.6363709397134392, 'AutoGluon': 0.06164714916708764}. Best is trial 79 with value: 0.3663055555555556.\n",
      "[I 2025-06-13 07:06:58,268] Trial 100 finished with value: 0.36618888888888884 and parameters: {'LightGBM (gbdt)': 0.2241858727539772, 'LightGBM (goss)': 0.04515895744282478, 'XGBoost': 0.8326087428920788, 'AutoGluon': 0.02027685200778255}. Best is trial 79 with value: 0.3663055555555556.\n",
      "[I 2025-06-13 07:06:58,469] Trial 99 finished with value: 0.36611777777777765 and parameters: {'LightGBM (gbdt)': 0.10297288440125311, 'LightGBM (goss)': 0.041987023657653395, 'XGBoost': 0.6292223143160502, 'AutoGluon': 0.06099291131159467}. Best is trial 79 with value: 0.3663055555555556.\n",
      "[I 2025-06-13 07:07:05,225] Trial 105 finished with value: 0.36622577777777776 and parameters: {'LightGBM (gbdt)': 0.2599015254477535, 'LightGBM (goss)': 0.04513926972785943, 'XGBoost': 0.7557913845022614, 'AutoGluon': 0.023743958101893066}. Best is trial 79 with value: 0.3663055555555556.\n",
      "[I 2025-06-13 07:07:05,377] Trial 106 finished with value: 0.36630711111111103 and parameters: {'LightGBM (gbdt)': 0.2609545381492906, 'LightGBM (goss)': 0.020865239171752994, 'XGBoost': 0.8541174667994251, 'AutoGluon': 0.028107315899642934}. Best is trial 106 with value: 0.36630711111111103.\n",
      "[I 2025-06-13 07:07:05,708] Trial 104 finished with value: 0.36621 and parameters: {'LightGBM (gbdt)': 0.26226655943585986, 'LightGBM (goss)': 0.047966882117887355, 'XGBoost': 0.850215690389353, 'AutoGluon': 0.02921913345269007}. Best is trial 106 with value: 0.36630711111111103.\n",
      "[I 2025-06-13 07:07:05,857] Trial 103 finished with value: 0.36618866666666666 and parameters: {'LightGBM (gbdt)': 0.261883259946758, 'LightGBM (goss)': 0.046700964836321066, 'XGBoost': 0.6451294261813109, 'AutoGluon': 0.0590991507505778}. Best is trial 106 with value: 0.36630711111111103.\n",
      "[I 2025-06-13 07:07:12,558] Trial 109 finished with value: 0.3651615555555555 and parameters: {'LightGBM (gbdt)': 0.3664720968339873, 'LightGBM (goss)': 0.690696782683758, 'XGBoost': 0.6963298036164677, 'AutoGluon': 0.08373385768265353}. Best is trial 106 with value: 0.36630711111111103.\n",
      "[I 2025-06-13 07:07:12,828] Trial 110 finished with value: 0.3648226666666666 and parameters: {'LightGBM (gbdt)': 0.3295314973438446, 'LightGBM (goss)': 0.020293736897283744, 'XGBoost': 0.17862778366350518, 'AutoGluon': 0.08350855165038443}. Best is trial 106 with value: 0.36630711111111103.\n",
      "[I 2025-06-13 07:07:13,389] Trial 108 finished with value: 0.36625911111111115 and parameters: {'LightGBM (gbdt)': 0.3327404028222504, 'LightGBM (goss)': 0.017081238277150496, 'XGBoost': 0.857770273979397, 'AutoGluon': 0.07947516125511433}. Best is trial 106 with value: 0.36630711111111103.\n",
      "[I 2025-06-13 07:07:13,546] Trial 107 finished with value: 0.36630933333333326 and parameters: {'LightGBM (gbdt)': 0.29806516063317107, 'LightGBM (goss)': 0.02072557937596251, 'XGBoost': 0.848182263308453, 'AutoGluon': 0.08179606944095141}. Best is trial 107 with value: 0.36630933333333326.\n",
      "[I 2025-06-13 07:07:20,342] Trial 111 finished with value: 0.36594933333333324 and parameters: {'LightGBM (gbdt)': 0.30134738071448874, 'LightGBM (goss)': 0.02026798741887397, 'XGBoost': 0.7207465746625537, 'AutoGluon': 0.18220325286552874}. Best is trial 107 with value: 0.36630933333333326.\n",
      "[I 2025-06-13 07:07:20,580] Trial 114 finished with value: 0.36611400000000005 and parameters: {'LightGBM (gbdt)': 0.29520240707149975, 'LightGBM (goss)': 0.02091846099090383, 'XGBoost': 0.7488500855518644, 'AutoGluon': 0.13945166915414653}. Best is trial 107 with value: 0.36630933333333326.\n",
      "[I 2025-06-13 07:07:20,934] Trial 112 finished with value: 0.3659024444444445 and parameters: {'LightGBM (gbdt)': 0.21970094730369447, 'LightGBM (goss)': 0.02325654101806147, 'XGBoost': 0.7465702412647104, 'AutoGluon': 0.18384741204992922}. Best is trial 107 with value: 0.36630933333333326.\n",
      "[I 2025-06-13 07:07:21,177] Trial 113 finished with value: 0.3660637777777778 and parameters: {'LightGBM (gbdt)': 0.17377791108162172, 'LightGBM (goss)': 0.06703896576860457, 'XGBoost': 0.7443485048328459, 'AutoGluon': 0.13452861837021018}. Best is trial 107 with value: 0.36630933333333326.\n",
      "[I 2025-06-13 07:07:27,595] Trial 115 finished with value: 0.3661808888888888 and parameters: {'LightGBM (gbdt)': 0.3322191570177877, 'LightGBM (goss)': 0.06535558323934654, 'XGBoost': 0.8600788196940025, 'AutoGluon': 0.1299100450230155}. Best is trial 107 with value: 0.36630933333333326.\n",
      "[I 2025-06-13 07:07:28,533] Trial 117 finished with value: 0.36622422222222223 and parameters: {'LightGBM (gbdt)': 0.17273318082483965, 'LightGBM (goss)': 0.0657334757326059, 'XGBoost': 0.8577437849894665, 'AutoGluon': 0.04702494391618598}. Best is trial 107 with value: 0.36630933333333326.\n",
      "[I 2025-06-13 07:07:28,798] Trial 118 finished with value: 0.36628466666666665 and parameters: {'LightGBM (gbdt)': 0.3263691025403357, 'LightGBM (goss)': 0.0015100046316268434, 'XGBoost': 0.9091407110890314, 'AutoGluon': 0.049370473880444216}. Best is trial 107 with value: 0.36630933333333326.\n",
      "[I 2025-06-13 07:07:28,971] Trial 116 finished with value: 0.3662235555555554 and parameters: {'LightGBM (gbdt)': 0.22450058288697203, 'LightGBM (goss)': 0.06332242571642557, 'XGBoost': 0.8209493439386706, 'AutoGluon': 0.04723103359647654}. Best is trial 107 with value: 0.36630933333333326.\n",
      "[I 2025-06-13 07:07:34,080] Trial 119 finished with value: 0.3661913333333333 and parameters: {'LightGBM (gbdt)': 0.14628736462223801, 'LightGBM (goss)': 0.10069132081784411, 'XGBoost': 0.9186794294164646, 'AutoGluon': 0.047839413663432515}. Best is trial 107 with value: 0.36630933333333326.\n",
      "[I 2025-06-13 07:07:35,304] Trial 121 finished with value: 0.3653233333333334 and parameters: {'LightGBM (gbdt)': 0.3731071068017997, 'LightGBM (goss)': 0.9368458390442235, 'XGBoost': 0.9043026835544291, 'AutoGluon': 0.00033955063437998007}. Best is trial 107 with value: 0.36630933333333326.\n",
      "[I 2025-06-13 07:07:36,063] Trial 120 finished with value: 0.36617266666666676 and parameters: {'LightGBM (gbdt)': 0.37417749503607944, 'LightGBM (goss)': 0.0006704727394346299, 'XGBoost': 0.9192227197390914, 'AutoGluon': 0.1562262580388908}. Best is trial 107 with value: 0.36630933333333326.\n",
      "[I 2025-06-13 07:07:36,121] Trial 122 finished with value: 0.36628066666666664 and parameters: {'LightGBM (gbdt)': 0.37155765972945515, 'LightGBM (goss)': 0.0018738766667190584, 'XGBoost': 0.9181617846931491, 'AutoGluon': 0.00459023504625216}. Best is trial 107 with value: 0.36630933333333326.\n",
      "[I 2025-06-13 07:07:42,091] Trial 126 finished with value: 0.3662546666666667 and parameters: {'LightGBM (gbdt)': 0.4122922263585185, 'LightGBM (goss)': 0.0026083106121913484, 'XGBoost': 0.9578941673656143, 'AutoGluon': 0.0755270926962882}. Best is trial 107 with value: 0.36630933333333326.\n",
      "[I 2025-06-13 07:07:42,563] Trial 123 finished with value: 0.3652133333333333 and parameters: {'LightGBM (gbdt)': 0.37705576613272135, 'LightGBM (goss)': 0.9250914936087025, 'XGBoost': 0.9619434071215744, 'AutoGluon': 0.15421076659440433}. Best is trial 107 with value: 0.36630933333333326.\n",
      "[I 2025-06-13 07:07:42,808] Trial 124 finished with value: 0.36626977777777775 and parameters: {'LightGBM (gbdt)': 0.2880529905674906, 'LightGBM (goss)': 0.005939013765937487, 'XGBoost': 0.7961609745332219, 'AutoGluon': 0.07694563497493091}. Best is trial 107 with value: 0.36630933333333326.\n",
      "[I 2025-06-13 07:07:45,179] Trial 125 finished with value: 0.36628311111111117 and parameters: {'LightGBM (gbdt)': 0.3483715690130218, 'LightGBM (goss)': 0.015102179389015848, 'XGBoost': 0.9593706570840379, 'AutoGluon': 0.07711666924160554}. Best is trial 107 with value: 0.36630933333333326.\n",
      "[I 2025-06-13 07:07:48,111] Trial 127 finished with value: 0.3662844444444446 and parameters: {'LightGBM (gbdt)': 0.28735564456223184, 'LightGBM (goss)': 0.023727903502950943, 'XGBoost': 0.8865216425090008, 'AutoGluon': 0.07807872873017463}. Best is trial 107 with value: 0.36630933333333326.\n",
      "[I 2025-06-13 07:07:48,845] Trial 128 finished with value: 0.3662855555555556 and parameters: {'LightGBM (gbdt)': 0.3399447479322938, 'LightGBM (goss)': 0.024211119370496973, 'XGBoost': 0.8838134928238618, 'AutoGluon': 0.07910016936441547}. Best is trial 107 with value: 0.36630933333333326.\n",
      "[I 2025-06-13 07:07:48,904] Trial 129 finished with value: 0.36628599999999983 and parameters: {'LightGBM (gbdt)': 0.33904926546647635, 'LightGBM (goss)': 0.01871235981019012, 'XGBoost': 0.8760880130612573, 'AutoGluon': 0.07699456115668082}. Best is trial 107 with value: 0.36630933333333326.\n",
      "[I 2025-06-13 07:07:55,924] Trial 130 finished with value: 0.36630933333333343 and parameters: {'LightGBM (gbdt)': 0.40282148967231396, 'LightGBM (goss)': 0.0010396953431039933, 'XGBoost': 0.9885318296214831, 'AutoGluon': 0.07629232726033242}. Best is trial 130 with value: 0.36630933333333343.\n",
      "[I 2025-06-13 07:07:56,195] Trial 131 finished with value: 0.3638035555555555 and parameters: {'LightGBM (gbdt)': 0.4475085635812588, 'LightGBM (goss)': 0.01623038122412358, 'XGBoost': 0.940749563502925, 'AutoGluon': 0.7188232314703474}. Best is trial 130 with value: 0.36630933333333343.\n",
      "[I 2025-06-13 07:07:56,631] Trial 133 finished with value: 0.3662193333333334 and parameters: {'LightGBM (gbdt)': 0.45317780047025963, 'LightGBM (goss)': 0.0030192332723602867, 'XGBoost': 0.9882527323602279, 'AutoGluon': 0.11178977034573456}. Best is trial 130 with value: 0.36630933333333343.\n",
      "[I 2025-06-13 07:07:57,403] Trial 132 finished with value: 0.36624088888888884 and parameters: {'LightGBM (gbdt)': 0.34898865506796134, 'LightGBM (goss)': 0.004270322653902638, 'XGBoost': 0.8853041736788041, 'AutoGluon': 0.10808809786206781}. Best is trial 130 with value: 0.36630933333333343.\n",
      "[I 2025-06-13 07:08:01,773] Trial 134 finished with value: 0.3662226666666666 and parameters: {'LightGBM (gbdt)': 0.45069691165785253, 'LightGBM (goss)': 0.00048620924059927404, 'XGBoost': 0.9771376001627108, 'AutoGluon': 0.10997976339695573}. Best is trial 130 with value: 0.36630933333333343.\n",
      "[I 2025-06-13 07:08:02,646] Trial 135 finished with value: 0.3662584444444445 and parameters: {'LightGBM (gbdt)': 0.3520889911131617, 'LightGBM (goss)': 0.01351274959784252, 'XGBoost': 0.8954670551695346, 'AutoGluon': 0.09628474707601985}. Best is trial 130 with value: 0.36630933333333343.\n",
      "[I 2025-06-13 07:08:02,832] Trial 136 finished with value: 0.3644948888888888 and parameters: {'LightGBM (gbdt)': 0.39428466790050015, 'LightGBM (goss)': 0.02500520970880464, 'XGBoost': 0.8935763463489589, 'AutoGluon': 0.5501429450143911}. Best is trial 130 with value: 0.36630933333333343.\n",
      "[I 2025-06-13 07:08:08,182] Trial 137 finished with value: 0.36618888888888884 and parameters: {'LightGBM (gbdt)': 0.40860018431388645, 'LightGBM (goss)': 0.06784910788223171, 'XGBoost': 0.8806643379509898, 'AutoGluon': 0.09037127879113938}. Best is trial 130 with value: 0.36630933333333343.\n",
      "[I 2025-06-13 07:08:09,133] Trial 139 finished with value: 0.36621 and parameters: {'LightGBM (gbdt)': 0.40043547583349487, 'LightGBM (goss)': 0.06067099012191521, 'XGBoost': 0.882379932830455, 'AutoGluon': 0.0029576731839233428}. Best is trial 130 with value: 0.36630933333333343.\n",
      "[I 2025-06-13 07:08:09,453] Trial 138 finished with value: 0.3662195555555556 and parameters: {'LightGBM (gbdt)': 0.40930450849804434, 'LightGBM (goss)': 0.02815519813169378, 'XGBoost': 0.8862617492167065, 'AutoGluon': 0.08901116062081704}. Best is trial 130 with value: 0.36630933333333343.\n",
      "[I 2025-06-13 07:08:09,813] Trial 140 finished with value: 0.36621599999999993 and parameters: {'LightGBM (gbdt)': 0.3100045473493945, 'LightGBM (goss)': 0.058206832287156826, 'XGBoost': 0.9557934361619802, 'AutoGluon': 0.011481269914559833}. Best is trial 130 with value: 0.36630933333333343.\n",
      "[I 2025-06-13 07:08:14,877] Trial 141 finished with value: 0.3662253333333335 and parameters: {'LightGBM (gbdt)': 0.313258400324397, 'LightGBM (goss)': 0.10026363537423952, 'XGBoost': 0.9292192621779416, 'AutoGluon': 0.008996795669583363}. Best is trial 130 with value: 0.36630933333333343.\n",
      "[I 2025-06-13 07:08:15,807] Trial 142 finished with value: 0.36619377777777773 and parameters: {'LightGBM (gbdt)': 0.3117559558570677, 'LightGBM (goss)': 0.08851738273869014, 'XGBoost': 0.9446215559805972, 'AutoGluon': 0.030863670817724533}. Best is trial 130 with value: 0.36630933333333343.\n",
      "[I 2025-06-13 07:08:16,528] Trial 144 finished with value: 0.36626044444444456 and parameters: {'LightGBM (gbdt)': 0.28723382433630645, 'LightGBM (goss)': 0.03254814496404805, 'XGBoost': 0.9294606743314967, 'AutoGluon': 0.06874307159226513}. Best is trial 130 with value: 0.36630933333333343.\n",
      "[I 2025-06-13 07:08:16,688] Trial 143 finished with value: 0.3662068888888889 and parameters: {'LightGBM (gbdt)': 0.3111001621852102, 'LightGBM (goss)': 0.10249025593504216, 'XGBoost': 0.934885772092629, 'AutoGluon': 0.03237974869161725}. Best is trial 130 with value: 0.36630933333333343.\n",
      "[I 2025-06-13 07:08:24,470] Trial 147 finished with value: 0.3662600000000001 and parameters: {'LightGBM (gbdt)': 0.2828656717834981, 'LightGBM (goss)': 0.05104663481601492, 'XGBoost': 0.8038660191650017, 'AutoGluon': 0.06876649450141999}. Best is trial 130 with value: 0.36630933333333343.\n",
      "[I 2025-06-13 07:08:24,669] Trial 148 finished with value: 0.36617133333333324 and parameters: {'LightGBM (gbdt)': 0.33699516499065035, 'LightGBM (goss)': 0.12942866100679576, 'XGBoost': 0.8078211787995104, 'AutoGluon': 0.06874564162082203}. Best is trial 130 with value: 0.36630933333333343.\n",
      "[I 2025-06-13 07:08:24,836] Trial 145 finished with value: 0.36628466666666665 and parameters: {'LightGBM (gbdt)': 0.28520807175865126, 'LightGBM (goss)': 0.029097781395240562, 'XGBoost': 0.800480937565226, 'AutoGluon': 0.07225590671567206}. Best is trial 130 with value: 0.36630933333333343.\n",
      "[I 2025-06-13 07:08:25,132] Trial 146 finished with value: 0.3662224444444445 and parameters: {'LightGBM (gbdt)': 0.3387120286912267, 'LightGBM (goss)': 0.0329602721301978, 'XGBoost': 0.8015200257387296, 'AutoGluon': 0.06893909954434398}. Best is trial 130 with value: 0.36630933333333343.\n",
      "[I 2025-06-13 07:08:31,610] Trial 151 finished with value: 0.36624533333333326 and parameters: {'LightGBM (gbdt)': 0.3581492018540212, 'LightGBM (goss)': 0.030251730490413384, 'XGBoost': 0.9989578761166331, 'AutoGluon': 0.12810110473307854}. Best is trial 130 with value: 0.36630933333333343.\n",
      "[I 2025-06-13 07:08:31,711] Trial 150 finished with value: 0.36629133333333325 and parameters: {'LightGBM (gbdt)': 0.3539437453864472, 'LightGBM (goss)': 0.029806247545328388, 'XGBoost': 0.9080682710375408, 'AutoGluon': 0.03843577836639453}. Best is trial 130 with value: 0.36630933333333343.\n",
      "[I 2025-06-13 07:08:32,100] Trial 149 finished with value: 0.366276 and parameters: {'LightGBM (gbdt)': 0.3579544187095901, 'LightGBM (goss)': 0.028644288658183574, 'XGBoost': 0.9084386965317058, 'AutoGluon': 0.03443782314322403}. Best is trial 130 with value: 0.36630933333333343.\n",
      "[I 2025-06-13 07:08:32,519] Trial 152 finished with value: 0.3662273333333334 and parameters: {'LightGBM (gbdt)': 0.36201886137953376, 'LightGBM (goss)': 0.0015053694609290652, 'XGBoost': 0.9978367650394158, 'AutoGluon': 0.12383049997318334}. Best is trial 130 with value: 0.36630933333333343.\n",
      "[I 2025-06-13 07:08:39,196] Trial 154 finished with value: 0.3662499999999999 and parameters: {'LightGBM (gbdt)': 0.251319451321774, 'LightGBM (goss)': 0.0019848920658910338, 'XGBoost': 0.9059905108199563, 'AutoGluon': 0.031462810221601}. Best is trial 130 with value: 0.36630933333333343.\n",
      "[I 2025-06-13 07:08:39,310] Trial 153 finished with value: 0.3661999999999999 and parameters: {'LightGBM (gbdt)': 0.25212786153396816, 'LightGBM (goss)': 0.07527913094366415, 'XGBoost': 0.9112303104703617, 'AutoGluon': 0.029334698605537328}. Best is trial 130 with value: 0.36630933333333343.\n",
      "[I 2025-06-13 07:08:39,318] Trial 155 finished with value: 0.36633488888888893 and parameters: {'LightGBM (gbdt)': 0.36055340402622943, 'LightGBM (goss)': 0.0021326538201284946, 'XGBoost': 0.9086852678745259, 'AutoGluon': 0.02932094668290399}. Best is trial 155 with value: 0.36633488888888893.\n",
      "[I 2025-06-13 07:08:39,556] Trial 156 finished with value: 0.366223111111111 and parameters: {'LightGBM (gbdt)': 0.3871834255100701, 'LightGBM (goss)': 0.08238398547701375, 'XGBoost': 0.9167261648596491, 'AutoGluon': 0.03237064221441947}. Best is trial 155 with value: 0.36633488888888893.\n",
      "[I 2025-06-13 07:08:45,095] Trial 157 finished with value: 0.3662324444444446 and parameters: {'LightGBM (gbdt)': 0.38882960639137665, 'LightGBM (goss)': 0.04953277281198398, 'XGBoost': 0.9734185268707689, 'AutoGluon': 0.0888731157640765}. Best is trial 155 with value: 0.36633488888888893.\n",
      "[I 2025-06-13 07:08:45,459] Trial 158 finished with value: 0.36625822222222226 and parameters: {'LightGBM (gbdt)': 0.3287762670819927, 'LightGBM (goss)': 0.054321300264857576, 'XGBoost': 0.9735170875911949, 'AutoGluon': 0.0815233509388826}. Best is trial 155 with value: 0.36633488888888893.\n",
      "[I 2025-06-13 07:08:46,155] Trial 159 finished with value: 0.3662535555555555 and parameters: {'LightGBM (gbdt)': 0.4287293541788739, 'LightGBM (goss)': 0.05029085932197527, 'XGBoost': 0.9689026166297106, 'AutoGluon': 0.07999890611087045}. Best is trial 155 with value: 0.36633488888888893.\n",
      "[I 2025-06-13 07:08:46,426] Trial 160 finished with value: 0.3662755555555556 and parameters: {'LightGBM (gbdt)': 0.2974706860843426, 'LightGBM (goss)': 0.052727246896000855, 'XGBoost': 0.9735484027671669, 'AutoGluon': 0.08514700759881956}. Best is trial 155 with value: 0.36633488888888893.\n",
      "[I 2025-06-13 07:08:52,973] Trial 161 finished with value: 0.3662506666666666 and parameters: {'LightGBM (gbdt)': 0.4340797591976225, 'LightGBM (goss)': 0.019308971017779158, 'XGBoost': 0.8672925285326794, 'AutoGluon': 0.04528311700239432}. Best is trial 155 with value: 0.36633488888888893.\n",
      "[I 2025-06-13 07:08:53,669] Trial 162 finished with value: 0.3662851111111112 and parameters: {'LightGBM (gbdt)': 0.2970540385088799, 'LightGBM (goss)': 0.022348530039067425, 'XGBoost': 0.869568493012679, 'AutoGluon': 0.044553430762740535}. Best is trial 155 with value: 0.36633488888888893.\n",
      "[I 2025-06-13 07:08:54,133] Trial 164 finished with value: 0.3663008888888889 and parameters: {'LightGBM (gbdt)': 0.29415134164895707, 'LightGBM (goss)': 0.01858658828222977, 'XGBoost': 0.8687379618286012, 'AutoGluon': 0.048606355250796505}. Best is trial 155 with value: 0.36633488888888893.\n",
      "[I 2025-06-13 07:08:54,647] Trial 163 finished with value: 0.3662399999999999 and parameters: {'LightGBM (gbdt)': 0.3001458416765922, 'LightGBM (goss)': 0.021164595135104533, 'XGBoost': 0.8735637115553095, 'AutoGluon': 0.001817967737438031}. Best is trial 155 with value: 0.36633488888888893.\n",
      "[I 2025-06-13 07:08:58,878] Trial 165 finished with value: 0.3662624444444445 and parameters: {'LightGBM (gbdt)': 0.29854728969477395, 'LightGBM (goss)': 0.020397294695379695, 'XGBoost': 0.946819767044175, 'AutoGluon': 0.01779828984176287}. Best is trial 155 with value: 0.36633488888888893.\n",
      "[I 2025-06-13 07:08:59,541] Trial 166 finished with value: 0.3662628888888889 and parameters: {'LightGBM (gbdt)': 0.35053002744117334, 'LightGBM (goss)': 0.019773143123641965, 'XGBoost': 0.9087820791146904, 'AutoGluon': 0.004826763619588843}. Best is trial 155 with value: 0.36633488888888893.\n",
      "[I 2025-06-13 07:09:00,502] Trial 167 finished with value: 0.366252888888889 and parameters: {'LightGBM (gbdt)': 0.35780926588648726, 'LightGBM (goss)': 0.023795102397509434, 'XGBoost': 0.8700963146904824, 'AutoGluon': 0.022414933384800557}. Best is trial 155 with value: 0.36633488888888893.\n",
      "[I 2025-06-13 07:09:01,657] Trial 168 finished with value: 0.365422888888889 and parameters: {'LightGBM (gbdt)': 0.35178655509603957, 'LightGBM (goss)': 0.7938406983268679, 'XGBoost': 0.8310591710518886, 'AutoGluon': 0.01796281092647585}. Best is trial 155 with value: 0.36633488888888893.\n",
      "[I 2025-06-13 07:09:05,807] Trial 169 finished with value: 0.3662700000000001 and parameters: {'LightGBM (gbdt)': 0.3556294346334943, 'LightGBM (goss)': 0.035578789336978146, 'XGBoost': 0.9034456636155658, 'AutoGluon': 0.050611967935254895}. Best is trial 155 with value: 0.36633488888888893.\n",
      "[I 2025-06-13 07:09:06,647] Trial 171 finished with value: 0.3662702222222221 and parameters: {'LightGBM (gbdt)': 0.33306786203662425, 'LightGBM (goss)': 0.03835071405150425, 'XGBoost': 0.8326729133755472, 'AutoGluon': 0.049859938687586036}. Best is trial 155 with value: 0.36633488888888893.\n",
      "[I 2025-06-13 07:09:07,472] Trial 170 finished with value: 0.3654075555555554 and parameters: {'LightGBM (gbdt)': 0.33300469118714376, 'LightGBM (goss)': 0.8035722568176694, 'XGBoost': 0.8316901860677118, 'AutoGluon': 0.0444632039552754}. Best is trial 155 with value: 0.36633488888888893.\n",
      "[I 2025-06-13 07:09:10,049] Trial 172 finished with value: 0.36575088888888885 and parameters: {'LightGBM (gbdt)': 0.31684800507934624, 'LightGBM (goss)': 0.5905802465779467, 'XGBoost': 0.8513214779634778, 'AutoGluon': 0.0474822512709421}. Best is trial 155 with value: 0.36633488888888893.\n",
      "[I 2025-06-13 07:09:12,251] Trial 173 finished with value: 0.3659715555555555 and parameters: {'LightGBM (gbdt)': 0.32990187912362834, 'LightGBM (goss)': 0.38060172950240023, 'XGBoost': 0.8533772266311938, 'AutoGluon': 0.04341544211193362}. Best is trial 155 with value: 0.36633488888888893.\n",
      "[I 2025-06-13 07:09:12,804] Trial 174 finished with value: 0.3662617777777777 and parameters: {'LightGBM (gbdt)': 0.2690327581628661, 'LightGBM (goss)': 0.001229481846021549, 'XGBoost': 0.926706512596523, 'AutoGluon': 0.06006070128982049}. Best is trial 155 with value: 0.36633488888888893.\n",
      "[I 2025-06-13 07:09:13,103] Trial 175 finished with value: 0.3661895555555556 and parameters: {'LightGBM (gbdt)': 0.2707420110655583, 'LightGBM (goss)': 0.0014802909466484805, 'XGBoost': 0.9241207310149608, 'AutoGluon': 0.10214597126039368}. Best is trial 155 with value: 0.36633488888888893.\n",
      "[I 2025-06-13 07:09:18,951] Trial 176 finished with value: 0.36625266666666684 and parameters: {'LightGBM (gbdt)': 0.27906892265438316, 'LightGBM (goss)': 0.05983247945879687, 'XGBoost': 0.9469397133808848, 'AutoGluon': 0.10362024008861702}. Best is trial 155 with value: 0.36633488888888893.\n",
      "[I 2025-06-13 07:09:19,128] Trial 177 finished with value: 0.3662055555555555 and parameters: {'LightGBM (gbdt)': 0.2755399241388283, 'LightGBM (goss)': 0.0008217544650946245, 'XGBoost': 0.9275870114241273, 'AutoGluon': 0.0967644178383315}. Best is trial 155 with value: 0.36633488888888893.\n",
      "[I 2025-06-13 07:09:19,549] Trial 179 finished with value: 0.36618111111111107 and parameters: {'LightGBM (gbdt)': 0.37538055238251666, 'LightGBM (goss)': 0.07190696725573827, 'XGBoost': 0.9500507133595131, 'AutoGluon': 0.09436071138381408}. Best is trial 155 with value: 0.36633488888888893.\n",
      "[I 2025-06-13 07:09:19,847] Trial 178 finished with value: 0.36625422222222226 and parameters: {'LightGBM (gbdt)': 0.2788616234692697, 'LightGBM (goss)': 0.07044497049105868, 'XGBoost': 0.9413564156535239, 'AutoGluon': 0.10000699554490042}. Best is trial 155 with value: 0.36633488888888893.\n",
      "[I 2025-06-13 07:09:26,246] Trial 182 finished with value: 0.36628755555555564 and parameters: {'LightGBM (gbdt)': 0.3008377068010408, 'LightGBM (goss)': 0.04232855859517122, 'XGBoost': 0.8824242215483542, 'AutoGluon': 0.06700265178840753}. Best is trial 155 with value: 0.36633488888888893.\n",
      "[I 2025-06-13 07:09:26,560] Trial 180 finished with value: 0.3662197777777776 and parameters: {'LightGBM (gbdt)': 0.3787785437056619, 'LightGBM (goss)': 0.07457988309449252, 'XGBoost': 0.8904139456043381, 'AutoGluon': 0.06651757951915785}. Best is trial 155 with value: 0.36633488888888893.\n",
      "[I 2025-06-13 07:09:26,772] Trial 181 finished with value: 0.3662304444444446 and parameters: {'LightGBM (gbdt)': 0.3728901011560186, 'LightGBM (goss)': 0.06805147000076425, 'XGBoost': 0.8967908103910875, 'AutoGluon': 0.0683858659150414}. Best is trial 155 with value: 0.36633488888888893.\n",
      "[I 2025-06-13 07:09:27,304] Trial 183 finished with value: 0.3662455555555556 and parameters: {'LightGBM (gbdt)': 0.301431348509547, 'LightGBM (goss)': 0.04250998842594321, 'XGBoost': 0.8839640970626232, 'AutoGluon': 0.07165978768156993}. Best is trial 155 with value: 0.36633488888888893.\n",
      "[I 2025-06-13 07:09:33,493] Trial 185 finished with value: 0.366274 and parameters: {'LightGBM (gbdt)': 0.3125107149916776, 'LightGBM (goss)': 0.043110512013583194, 'XGBoost': 0.8880140207363346, 'AutoGluon': 0.06617394938030041}. Best is trial 155 with value: 0.36633488888888893.\n",
      "[I 2025-06-13 07:09:34,280] Trial 187 finished with value: 0.3663037777777779 and parameters: {'LightGBM (gbdt)': 0.3173589445530119, 'LightGBM (goss)': 0.02936849935680447, 'XGBoost': 0.8684887219180081, 'AutoGluon': 0.031638678827578204}. Best is trial 155 with value: 0.36633488888888893.\n",
      "[I 2025-06-13 07:09:34,472] Trial 184 finished with value: 0.3662600000000001 and parameters: {'LightGBM (gbdt)': 0.3099386980477094, 'LightGBM (goss)': 0.04652816034980736, 'XGBoost': 0.8762501777928111, 'AutoGluon': 0.06870103007398815}. Best is trial 155 with value: 0.36633488888888893.\n",
      "[I 2025-06-13 07:09:34,644] Trial 186 finished with value: 0.36629133333333336 and parameters: {'LightGBM (gbdt)': 0.31372339398473864, 'LightGBM (goss)': 0.0412079569524959, 'XGBoost': 0.8740528153958339, 'AutoGluon': 0.03195143500975697}. Best is trial 155 with value: 0.36633488888888893.\n",
      "[I 2025-06-13 07:09:40,878] Trial 189 finished with value: 0.36624977777777806 and parameters: {'LightGBM (gbdt)': 0.23882306225107441, 'LightGBM (goss)': 0.020737394998557257, 'XGBoost': 0.8605409975442996, 'AutoGluon': 0.021159040482793386}. Best is trial 155 with value: 0.36633488888888893.\n",
      "[I 2025-06-13 07:09:41,016] Trial 188 finished with value: 0.3661893333333335 and parameters: {'LightGBM (gbdt)': 0.520046874488754, 'LightGBM (goss)': 0.025854547454645212, 'XGBoost': 0.8714873634820142, 'AutoGluon': 0.033031362775604096}. Best is trial 155 with value: 0.36633488888888893.\n",
      "[I 2025-06-13 07:09:41,681] Trial 191 finished with value: 0.36626266666666685 and parameters: {'LightGBM (gbdt)': 0.33897401549094563, 'LightGBM (goss)': 0.028878105424547613, 'XGBoost': 0.8577948385147304, 'AutoGluon': 0.024151059932820712}. Best is trial 155 with value: 0.36633488888888893.\n",
      "[I 2025-06-13 07:09:42,276] Trial 190 finished with value: 0.36629 and parameters: {'LightGBM (gbdt)': 0.3242298088063713, 'LightGBM (goss)': 0.023953504506324556, 'XGBoost': 0.851289370827189, 'AutoGluon': 0.027848062575617095}. Best is trial 155 with value: 0.36633488888888893.\n",
      "[I 2025-06-13 07:09:47,967] Trial 192 finished with value: 0.3661771111111112 and parameters: {'LightGBM (gbdt)': 0.3225984996762778, 'LightGBM (goss)': 0.018223015214646088, 'XGBoost': 0.8450273222774352, 'AutoGluon': 0.12219299658706169}. Best is trial 155 with value: 0.36633488888888893.\n",
      "[I 2025-06-13 07:09:48,172] Trial 193 finished with value: 0.3662435555555555 and parameters: {'LightGBM (gbdt)': 0.2551523296304216, 'LightGBM (goss)': 0.017658526922400015, 'XGBoost': 0.8528605449991289, 'AutoGluon': 0.11790188577576588}. Best is trial 155 with value: 0.36633488888888893.\n",
      "[I 2025-06-13 07:09:48,692] Trial 194 finished with value: 0.3662871111111112 and parameters: {'LightGBM (gbdt)': 0.32206258211142086, 'LightGBM (goss)': 0.017995442991785772, 'XGBoost': 0.9144358662238421, 'AutoGluon': 0.03591748771857925}. Best is trial 155 with value: 0.36633488888888893.\n",
      "[I 2025-06-13 07:09:49,094] Trial 195 finished with value: 0.3663004444444445 and parameters: {'LightGBM (gbdt)': 0.31939572133352967, 'LightGBM (goss)': 0.015648634386581393, 'XGBoost': 0.8424645554250902, 'AutoGluon': 0.04338865782228947}. Best is trial 155 with value: 0.36633488888888893.\n",
      "[I 2025-06-13 07:09:54,657] Trial 198 finished with value: 0.3662777777777778 and parameters: {'LightGBM (gbdt)': 0.3230855860816919, 'LightGBM (goss)': 0.0004585455766498714, 'XGBoost': 0.8227516367591315, 'AutoGluon': 0.04544086619863682}. Best is trial 155 with value: 0.36633488888888893.\n",
      "[I 2025-06-13 07:09:55,094] Trial 196 finished with value: 0.36622822222222223 and parameters: {'LightGBM (gbdt)': 0.2911108642930609, 'LightGBM (goss)': 0.015154293962435863, 'XGBoost': 0.9080762458831759, 'AutoGluon': 0.002022106053696758}. Best is trial 155 with value: 0.36633488888888893.\n",
      "[I 2025-06-13 07:09:55,764] Trial 197 finished with value: 0.3662335555555555 and parameters: {'LightGBM (gbdt)': 0.29592527657933976, 'LightGBM (goss)': 0.047080465875762034, 'XGBoost': 0.8231247806830331, 'AutoGluon': 0.03962181159736001}. Best is trial 155 with value: 0.36633488888888893.\n",
      "[I 2025-06-13 07:09:55,962] Trial 199 finished with value: 0.36625488888888885 and parameters: {'LightGBM (gbdt)': 0.32215028522503514, 'LightGBM (goss)': 0.05010197101680629, 'XGBoost': 0.8148842758972459, 'AutoGluon': 0.04452422441094309}. Best is trial 155 with value: 0.36633488888888893.\n",
      "[I 2025-06-13 07:10:01,242] Trial 200 finished with value: 0.3662164444444445 and parameters: {'LightGBM (gbdt)': 0.2901662989979486, 'LightGBM (goss)': 0.05053162596294661, 'XGBoost': 0.8740732399329033, 'AutoGluon': 0.0380720711445111}. Best is trial 155 with value: 0.36633488888888893.\n",
      "[I 2025-06-13 07:10:02,065] Trial 201 finished with value: 0.3662240000000001 and parameters: {'LightGBM (gbdt)': 0.3233040093750125, 'LightGBM (goss)': 0.052540925047046785, 'XGBoost': 0.8800061063239476, 'AutoGluon': 0.03926778424364873}. Best is trial 155 with value: 0.36633488888888893.\n",
      "[I 2025-06-13 07:10:02,499] Trial 203 finished with value: 0.3662515555555556 and parameters: {'LightGBM (gbdt)': 0.3387119953470322, 'LightGBM (goss)': 0.03918552352154109, 'XGBoost': 0.8769092632140764, 'AutoGluon': 0.05692798541836648}. Best is trial 155 with value: 0.36633488888888893.\n",
      "[I 2025-06-13 07:10:02,686] Trial 202 finished with value: 0.36622933333333324 and parameters: {'LightGBM (gbdt)': 0.3222401083796171, 'LightGBM (goss)': 0.09309783795136439, 'XGBoost': 0.8736678678503437, 'AutoGluon': 0.052924798130979264}. Best is trial 155 with value: 0.36633488888888893.\n",
      "[I 2025-06-13 07:10:08,959] Trial 207 finished with value: 0.36630155555555566 and parameters: {'LightGBM (gbdt)': 0.3477592488185658, 'LightGBM (goss)': 7.263582263181828e-05, 'XGBoost': 0.9021070091051293, 'AutoGluon': 0.015494895269073288}. Best is trial 155 with value: 0.36633488888888893.\n",
      "[I 2025-06-13 07:10:09,240] Trial 206 finished with value: 0.36626422222222216 and parameters: {'LightGBM (gbdt)': 0.34350453341504295, 'LightGBM (goss)': 0.028822079249796934, 'XGBoost': 0.8998661636485217, 'AutoGluon': 0.01646448389433585}. Best is trial 155 with value: 0.36633488888888893.\n",
      "[I 2025-06-13 07:10:09,843] Trial 204 finished with value: 0.3662542222222223 and parameters: {'LightGBM (gbdt)': 0.33926673525991113, 'LightGBM (goss)': 0.03334636676400556, 'XGBoost': 0.897124212740913, 'AutoGluon': 0.011119935608764103}. Best is trial 155 with value: 0.36633488888888893.\n",
      "[I 2025-06-13 07:10:10,170] Trial 205 finished with value: 0.3662604444444445 and parameters: {'LightGBM (gbdt)': 0.34583433644408595, 'LightGBM (goss)': 0.026305763928044616, 'XGBoost': 0.9066480353118674, 'AutoGluon': 0.0010132354037684435}. Best is trial 155 with value: 0.36633488888888893.\n",
      "[I 2025-06-13 07:10:16,844] Trial 208 finished with value: 0.3618066666666669 and parameters: {'LightGBM (gbdt)': 0.34255805978194354, 'LightGBM (goss)': 0.027349471541253556, 'XGBoost': 0.8460576865873191, 'AutoGluon': 0.9992710182543305}. Best is trial 155 with value: 0.36633488888888893.\n",
      "[I 2025-06-13 07:10:17,312] Trial 209 finished with value: 0.36628688888888894 and parameters: {'LightGBM (gbdt)': 0.3019354976899526, 'LightGBM (goss)': 0.018554005055825648, 'XGBoost': 0.8408146774893068, 'AutoGluon': 0.0834518784829213}. Best is trial 155 with value: 0.36633488888888893.\n",
      "[I 2025-06-13 07:10:17,625] Trial 210 finished with value: 0.36627888888888893 and parameters: {'LightGBM (gbdt)': 0.3093342482164676, 'LightGBM (goss)': 0.01993667103645971, 'XGBoost': 0.844462218070233, 'AutoGluon': 0.08386517685832384}. Best is trial 155 with value: 0.36633488888888893.\n",
      "[I 2025-06-13 07:10:17,976] Trial 211 finished with value: 0.366276 and parameters: {'LightGBM (gbdt)': 0.30839692391782114, 'LightGBM (goss)': 0.0012257030287370387, 'XGBoost': 0.8453431684368082, 'AutoGluon': 0.06850997641340126}. Best is trial 155 with value: 0.36633488888888893.\n",
      "[I 2025-06-13 07:10:24,517] Trial 212 finished with value: 0.366283111111111 and parameters: {'LightGBM (gbdt)': 0.302559943981178, 'LightGBM (goss)': 0.0002819985682492032, 'XGBoost': 0.8438501265216615, 'AutoGluon': 0.08255581038338937}. Best is trial 155 with value: 0.36633488888888893.\n",
      "[I 2025-06-13 07:10:24,883] Trial 215 finished with value: 0.36623066666666676 and parameters: {'LightGBM (gbdt)': 0.25703445866078267, 'LightGBM (goss)': 0.0010380395054176944, 'XGBoost': 0.4870073772693381, 'AutoGluon': 0.028260401754653955}. Best is trial 155 with value: 0.36633488888888893.\n",
      "[I 2025-06-13 07:10:25,173] Trial 213 finished with value: 0.3654095555555556 and parameters: {'LightGBM (gbdt)': 0.2546220909519081, 'LightGBM (goss)': 0.00021397808768308657, 'XGBoost': 0.846111756552198, 'AutoGluon': 0.28483951749566727}. Best is trial 155 with value: 0.36633488888888893.\n",
      "[I 2025-06-13 07:10:25,434] Trial 214 finished with value: 0.36626288888888897 and parameters: {'LightGBM (gbdt)': 0.30395507866590565, 'LightGBM (goss)': 0.000571748659899208, 'XGBoost': 0.8560757159507042, 'AutoGluon': 0.06440334484141935}. Best is trial 155 with value: 0.36633488888888893.\n",
      "[I 2025-06-13 07:10:32,028] Trial 219 finished with value: 0.36622644444444424 and parameters: {'LightGBM (gbdt)': 0.2822513651771415, 'LightGBM (goss)': 0.06413384257754995, 'XGBoost': 0.9237478840561724, 'AutoGluon': 0.030148157182932615}. Best is trial 155 with value: 0.36633488888888893.\n",
      "[I 2025-06-13 07:10:32,383] Trial 218 finished with value: 0.36608422222222226 and parameters: {'LightGBM (gbdt)': 0.6080869041321872, 'LightGBM (goss)': 0.06363258799674729, 'XGBoost': 0.8636865731014497, 'AutoGluon': 0.062072666675448585}. Best is trial 155 with value: 0.36633488888888893.\n",
      "[I 2025-06-13 07:10:32,656] Trial 216 finished with value: 0.3662862222222222 and parameters: {'LightGBM (gbdt)': 0.29088027204220374, 'LightGBM (goss)': 0.06210398038845033, 'XGBoost': 0.8664888680845836, 'AutoGluon': 0.056925684446922135}. Best is trial 155 with value: 0.36633488888888893.\n",
      "[I 2025-06-13 07:10:32,865] Trial 217 finished with value: 0.36621911111111133 and parameters: {'LightGBM (gbdt)': 0.2830343872405753, 'LightGBM (goss)': 0.059422422718520614, 'XGBoost': 0.8623378269054418, 'AutoGluon': 0.029740364772119554}. Best is trial 155 with value: 0.36633488888888893.\n",
      "[I 2025-06-13 07:10:38,549] Trial 221 finished with value: 0.36623400000000017 and parameters: {'LightGBM (gbdt)': 0.360983213867382, 'LightGBM (goss)': 0.036200276054493406, 'XGBoost': 0.8925873791441631, 'AutoGluon': 0.08653797149184674}. Best is trial 155 with value: 0.36633488888888893.\n",
      "[I 2025-06-13 07:10:38,870] Trial 222 finished with value: 0.3645460000000001 and parameters: {'LightGBM (gbdt)': 0.28020232657584127, 'LightGBM (goss)': 0.03731805841111248, 'XGBoost': 0.09265561777842724, 'AutoGluon': 0.028401676274953647}. Best is trial 155 with value: 0.36633488888888893.\n",
      "[I 2025-06-13 07:10:39,180] Trial 220 finished with value: 0.3642357777777776 and parameters: {'LightGBM (gbdt)': 0.3575922623714767, 'LightGBM (goss)': 0.038078747601211216, 'XGBoost': 0.08777709727978988, 'AutoGluon': 0.053984126807743685}. Best is trial 155 with value: 0.36633488888888893.\n",
      "[I 2025-06-13 07:10:39,610] Trial 223 finished with value: 0.3662617777777777 and parameters: {'LightGBM (gbdt)': 0.23442898485834296, 'LightGBM (goss)': 0.03957859946091378, 'XGBoost': 0.8273861378739245, 'AutoGluon': 0.05442983754128493}. Best is trial 155 with value: 0.36633488888888893.\n",
      "[I 2025-06-13 07:10:44,914] Trial 224 finished with value: 0.3663084444444445 and parameters: {'LightGBM (gbdt)': 0.3201823929642058, 'LightGBM (goss)': 0.03264518057559401, 'XGBoost': 0.8861733951061584, 'AutoGluon': 0.0533897000438045}. Best is trial 155 with value: 0.36633488888888893.\n",
      "[I 2025-06-13 07:10:45,259] Trial 227 finished with value: 0.36628666666666665 and parameters: {'LightGBM (gbdt)': 0.3205068397461036, 'LightGBM (goss)': 0.022173107405013402, 'XGBoost': 0.8796311910223703, 'AutoGluon': 0.0775783014156903}. Best is trial 155 with value: 0.36633488888888893.\n",
      "[I 2025-06-13 07:10:45,759] Trial 225 finished with value: 0.36630466666666667 and parameters: {'LightGBM (gbdt)': 0.3175370159076459, 'LightGBM (goss)': 0.018703145712915228, 'XGBoost': 0.8246070241196084, 'AutoGluon': 0.05122412496301232}. Best is trial 155 with value: 0.36633488888888893.\n",
      "[I 2025-06-13 07:10:46,032] Trial 226 finished with value: 0.3663219999999999 and parameters: {'LightGBM (gbdt)': 0.3169216036569792, 'LightGBM (goss)': 0.021534302309259942, 'XGBoost': 0.8834335968620788, 'AutoGluon': 0.05371124593133278}. Best is trial 155 with value: 0.36633488888888893.\n",
      "[I 2025-06-13 07:10:52,514] Trial 229 finished with value: 0.36622422222222223 and parameters: {'LightGBM (gbdt)': 0.32153550326251734, 'LightGBM (goss)': 0.0872077661093483, 'XGBoost': 0.8778884087771767, 'AutoGluon': 0.046872546100513966}. Best is trial 155 with value: 0.36633488888888893.\n",
      "[I 2025-06-13 07:10:52,902] Trial 230 finished with value: 0.36618999999999985 and parameters: {'LightGBM (gbdt)': 0.32148380229854145, 'LightGBM (goss)': 0.08290341066105868, 'XGBoost': 0.8735355067112156, 'AutoGluon': 0.018120345488379153}. Best is trial 155 with value: 0.36633488888888893.\n",
      "[I 2025-06-13 07:10:53,131] Trial 228 finished with value: 0.36630266666666667 and parameters: {'LightGBM (gbdt)': 0.32531731221001636, 'LightGBM (goss)': 0.019537629042406433, 'XGBoost': 0.8731170237047637, 'AutoGluon': 0.04786579677280302}. Best is trial 155 with value: 0.36633488888888893.\n",
      "[I 2025-06-13 07:10:53,495] Trial 231 finished with value: 0.3662055555555557 and parameters: {'LightGBM (gbdt)': 0.31746501025509727, 'LightGBM (goss)': 0.07976946674100971, 'XGBoost': 0.8805552124868224, 'AutoGluon': 0.01691950581533954}. Best is trial 155 with value: 0.36633488888888893.\n",
      "[I 2025-06-13 07:11:00,118] Trial 233 finished with value: 0.36631311111111103 and parameters: {'LightGBM (gbdt)': 0.3054001098650142, 'LightGBM (goss)': 0.021637438061632583, 'XGBoost': 0.8268302005708248, 'AutoGluon': 0.022615154270947617}. Best is trial 155 with value: 0.36633488888888893.\n",
      "[I 2025-06-13 07:11:00,452] Trial 232 finished with value: 0.36624155555555543 and parameters: {'LightGBM (gbdt)': 0.3932226889284896, 'LightGBM (goss)': 0.021198083470881913, 'XGBoost': 0.8914772133454626, 'AutoGluon': 0.01922488124549211}. Best is trial 155 with value: 0.36633488888888893.\n",
      "[I 2025-06-13 07:11:00,614] Trial 235 finished with value: 0.36630133333333326 and parameters: {'LightGBM (gbdt)': 0.29910722395489625, 'LightGBM (goss)': 0.01934312871355095, 'XGBoost': 0.8610313403011637, 'AutoGluon': 0.038073083179272}. Best is trial 155 with value: 0.36633488888888893.\n",
      "[I 2025-06-13 07:11:01,511] Trial 234 finished with value: 0.36630711111111114 and parameters: {'LightGBM (gbdt)': 0.306984292644875, 'LightGBM (goss)': 0.020598272077501197, 'XGBoost': 0.86242874340107, 'AutoGluon': 0.03800929547629071}. Best is trial 155 with value: 0.36633488888888893.\n",
      "[I 2025-06-13 07:11:05,857] Trial 237 finished with value: 0.3662235555555554 and parameters: {'LightGBM (gbdt)': 0.30204295694129557, 'LightGBM (goss)': 0.049769643690508236, 'XGBoost': 0.8234734299659189, 'AutoGluon': 0.037366661741360586}. Best is trial 155 with value: 0.36633488888888893.\n",
      "[I 2025-06-13 07:11:05,869] Trial 238 finished with value: 0.3662628888888891 and parameters: {'LightGBM (gbdt)': 0.3051702428765165, 'LightGBM (goss)': 0.04476512820867711, 'XGBoost': 0.8198293768569553, 'AutoGluon': 0.03386846756534125}. Best is trial 155 with value: 0.36633488888888893.\n",
      "[I 2025-06-13 07:11:06,339] Trial 236 finished with value: 0.3662995555555557 and parameters: {'LightGBM (gbdt)': 0.3043692515475619, 'LightGBM (goss)': 0.02000004262536608, 'XGBoost': 0.8302483529967551, 'AutoGluon': 0.03455586117680185}. Best is trial 155 with value: 0.36633488888888893.\n",
      "[I 2025-06-13 07:11:09,833] Trial 239 finished with value: 0.36624844444444427 and parameters: {'LightGBM (gbdt)': 0.3012011756425508, 'LightGBM (goss)': 0.05172112328648701, 'XGBoost': 0.8265269307293912, 'AutoGluon': 0.026806612971341834}. Best is trial 155 with value: 0.36633488888888893.\n",
      "[I 2025-06-13 07:11:12,383] Trial 240 finished with value: 0.36620111111111114 and parameters: {'LightGBM (gbdt)': 0.26670942688005883, 'LightGBM (goss)': 0.02271488479723759, 'XGBoost': 0.8326499999919531, 'AutoGluon': 0.004224513071030889}. Best is trial 155 with value: 0.36633488888888893.\n",
      "[I 2025-06-13 07:11:13,125] Trial 242 finished with value: 0.36623466666666676 and parameters: {'LightGBM (gbdt)': 0.2694755936711327, 'LightGBM (goss)': 0.016963240624365713, 'XGBoost': 0.8337251793464843, 'AutoGluon': 0.004125671180207471}. Best is trial 155 with value: 0.36633488888888893.\n",
      "[I 2025-06-13 07:11:13,244] Trial 241 finished with value: 0.3662557777777779 and parameters: {'LightGBM (gbdt)': 0.27064141840341654, 'LightGBM (goss)': 0.020277064162703272, 'XGBoost': 0.8435867294246103, 'AutoGluon': 0.016902018418556358}. Best is trial 155 with value: 0.36633488888888893.\n",
      "[I 2025-06-13 07:11:18,885] Trial 243 finished with value: 0.3662737777777778 and parameters: {'LightGBM (gbdt)': 0.26859442636306335, 'LightGBM (goss)': 0.01832049562738898, 'XGBoost': 0.842069637939777, 'AutoGluon': 0.012058387654656048}. Best is trial 155 with value: 0.36633488888888893.\n",
      "[I 2025-06-13 07:11:19,338] Trial 244 finished with value: 0.36630977777777773 and parameters: {'LightGBM (gbdt)': 0.3221597213631796, 'LightGBM (goss)': 0.015744313109059025, 'XGBoost': 0.8558398030006317, 'AutoGluon': 0.05439548184391688}. Best is trial 155 with value: 0.36633488888888893.\n",
      "[I 2025-06-13 07:11:19,490] Trial 245 finished with value: 0.3662462222222221 and parameters: {'LightGBM (gbdt)': 0.32381299844194417, 'LightGBM (goss)': 0.045587725779163396, 'XGBoost': 0.8020813695205399, 'AutoGluon': 0.053882931032589926}. Best is trial 155 with value: 0.36633488888888893.\n",
      "[I 2025-06-13 07:11:19,859] Trial 246 finished with value: 0.3662906666666668 and parameters: {'LightGBM (gbdt)': 0.31608471950801453, 'LightGBM (goss)': 0.036771573131068436, 'XGBoost': 0.8580253988719617, 'AutoGluon': 0.05281199098678478}. Best is trial 155 with value: 0.36633488888888893.\n",
      "[I 2025-06-13 07:11:25,206] Trial 247 finished with value: 0.36625888888888897 and parameters: {'LightGBM (gbdt)': 0.3252657310238008, 'LightGBM (goss)': 0.04313129904092483, 'XGBoost': 0.8582094786638146, 'AutoGluon': 0.04139388765781949}. Best is trial 155 with value: 0.36633488888888893.\n",
      "[I 2025-06-13 07:11:25,358] Trial 248 finished with value: 0.365838 and parameters: {'LightGBM (gbdt)': 0.328746418138559, 'LightGBM (goss)': 0.49741778838244183, 'XGBoost': 0.8565124416270614, 'AutoGluon': 0.040214071047580846}. Best is trial 155 with value: 0.36633488888888893.\n",
      "[I 2025-06-13 07:11:25,619] Trial 249 finished with value: 0.36628311111111106 and parameters: {'LightGBM (gbdt)': 0.3229199753143477, 'LightGBM (goss)': 0.03427249132664979, 'XGBoost': 0.7943573974104462, 'AutoGluon': 0.03852804222970625}. Best is trial 155 with value: 0.36633488888888893.\n"
     ]
    }
   ],
   "source": [
    "def objective(trial):\n",
    "    weights = [trial.suggest_float(model, 0, 1) for model in models]\n",
    "    weights /= np.sum(weights)\n",
    "\n",
    "    idxs = [0, 7, 14, 21]\n",
    "    pred_probs = np.zeros((X.shape[0], 7))\n",
    "    for idx, weight in zip(idxs, weights):\n",
    "        pred_probs += X.iloc[:, idx:idx+7].values * weight\n",
    "        \n",
    "    return map3(y, pred_probs)\n",
    "\n",
    "sampler = optuna.samplers.TPESampler(seed=CFG.seed)\n",
    "study = optuna.create_study(direction='maximize', sampler=sampler)\n",
    "study.optimize(objective, n_trials=250, n_jobs=-1)"
   ]
  },
  {
   "cell_type": "code",
   "execution_count": 18,
   "id": "7f14094d",
   "metadata": {
    "execution": {
     "iopub.execute_input": "2025-06-13T07:11:25.666166Z",
     "iopub.status.busy": "2025-06-13T07:11:25.665860Z",
     "iopub.status.idle": "2025-06-13T07:11:25.746420Z",
     "shell.execute_reply": "2025-06-13T07:11:25.745494Z"
    },
    "papermill": {
     "duration": 0.102652,
     "end_time": "2025-06-13T07:11:25.748129",
     "exception": false,
     "start_time": "2025-06-13T07:11:25.645477",
     "status": "completed"
    },
    "tags": []
   },
   "outputs": [],
   "source": [
    "scores['WeightedEnsemble'] = [study.best_value] * CFG.n_folds\n",
    "\n",
    "best_weights = [study.best_params[model] for model in models]\n",
    "best_weights /= np.sum(best_weights)\n",
    "\n",
    "idxs = [0, 7, 14, 21]\n",
    "weighted_test_preds = np.zeros((X_test.shape[0], 7))\n",
    "for idx, weight in zip(idxs, best_weights):\n",
    "    weighted_test_preds += X_test.iloc[:, idx:idx+7].values * weight"
   ]
  },
  {
   "cell_type": "code",
   "execution_count": 19,
   "id": "331a855d",
   "metadata": {
    "execution": {
     "iopub.execute_input": "2025-06-13T07:11:25.789887Z",
     "iopub.status.busy": "2025-06-13T07:11:25.789497Z",
     "iopub.status.idle": "2025-06-13T07:11:51.691779Z",
     "shell.execute_reply": "2025-06-13T07:11:51.690631Z"
    },
    "papermill": {
     "duration": 25.924786,
     "end_time": "2025-06-13T07:11:51.693405",
     "exception": false,
     "start_time": "2025-06-13T07:11:25.768619",
     "status": "completed"
    },
    "tags": []
   },
   "outputs": [
    {
     "data": {
      "text/html": [
       "<div>\n",
       "<style scoped>\n",
       "    .dataframe tbody tr th:only-of-type {\n",
       "        vertical-align: middle;\n",
       "    }\n",
       "\n",
       "    .dataframe tbody tr th {\n",
       "        vertical-align: top;\n",
       "    }\n",
       "\n",
       "    .dataframe thead th {\n",
       "        text-align: right;\n",
       "    }\n",
       "</style>\n",
       "<table border=\"1\" class=\"dataframe\">\n",
       "  <thead>\n",
       "    <tr style=\"text-align: right;\">\n",
       "      <th></th>\n",
       "      <th>id</th>\n",
       "      <th>Fertilizer Name</th>\n",
       "    </tr>\n",
       "  </thead>\n",
       "  <tbody>\n",
       "    <tr>\n",
       "      <th>0</th>\n",
       "      <td>750000</td>\n",
       "      <td>10-26-26 20-20 DAP</td>\n",
       "    </tr>\n",
       "    <tr>\n",
       "      <th>1</th>\n",
       "      <td>750001</td>\n",
       "      <td>17-17-17 10-26-26 20-20</td>\n",
       "    </tr>\n",
       "    <tr>\n",
       "      <th>2</th>\n",
       "      <td>750002</td>\n",
       "      <td>20-20 28-28 Urea</td>\n",
       "    </tr>\n",
       "    <tr>\n",
       "      <th>3</th>\n",
       "      <td>750003</td>\n",
       "      <td>14-35-14 DAP 17-17-17</td>\n",
       "    </tr>\n",
       "    <tr>\n",
       "      <th>4</th>\n",
       "      <td>750004</td>\n",
       "      <td>20-20 Urea 10-26-26</td>\n",
       "    </tr>\n",
       "  </tbody>\n",
       "</table>\n",
       "</div>"
      ],
      "text/plain": [
       "       id          Fertilizer Name\n",
       "0  750000       10-26-26 20-20 DAP\n",
       "1  750001  17-17-17 10-26-26 20-20\n",
       "2  750002         20-20 28-28 Urea\n",
       "3  750003    14-35-14 DAP 17-17-17\n",
       "4  750004      20-20 Urea 10-26-26"
      ]
     },
     "execution_count": 19,
     "metadata": {},
     "output_type": "execute_result"
    }
   ],
   "source": [
    "create_submission(\"weighted-ensemble\", weighted_test_preds, np.mean(scores[\"WeightedEnsemble\"])).head()"
   ]
  },
  {
   "cell_type": "markdown",
   "id": "cbc3649c",
   "metadata": {
    "papermill": {
     "duration": 0.019773,
     "end_time": "2025-06-13T07:11:51.732468",
     "exception": false,
     "start_time": "2025-06-13T07:11:51.712695",
     "status": "completed"
    },
    "tags": []
   },
   "source": [
    "## Weighted VotingClassifier"
   ]
  },
  {
   "cell_type": "code",
   "execution_count": 20,
   "id": "7f6c02d1",
   "metadata": {
    "execution": {
     "iopub.execute_input": "2025-06-13T07:11:51.773770Z",
     "iopub.status.busy": "2025-06-13T07:11:51.773415Z",
     "iopub.status.idle": "2025-06-13T07:12:03.355042Z",
     "shell.execute_reply": "2025-06-13T07:12:03.353974Z"
    },
    "papermill": {
     "duration": 11.603935,
     "end_time": "2025-06-13T07:12:03.356831",
     "exception": false,
     "start_time": "2025-06-13T07:11:51.752896",
     "status": "completed"
    },
    "tags": []
   },
   "outputs": [
    {
     "name": "stdout",
     "output_type": "stream",
     "text": [
      "Training VotingClassifier\n",
      "\n",
      "--- Fold 1 - MAP@3: 0.364880\n",
      "--- Fold 2 - MAP@3: 0.365228\n",
      "--- Fold 3 - MAP@3: 0.368557\n",
      "--- Fold 4 - MAP@3: 0.366302\n",
      "--- Fold 5 - MAP@3: 0.366708\n",
      "\n",
      "------ Overall MAP@3: 0.366335 | Average MAP@3: 0.366335 ± 0.001298\n"
     ]
    }
   ],
   "source": [
    "weighted_voting_model = VotingClassifier(estimators, n_jobs=-1, voting='soft', weights=best_weights)\n",
    "weighted_voting_trainer = Trainer(weighted_voting_model)\n",
    "_, weighted_voting_test_pred_probs, scores[\"VotingClassifier (weighted)\"] = weighted_voting_trainer.fit_predict(X, y, X_test)"
   ]
  },
  {
   "cell_type": "code",
   "execution_count": 21,
   "id": "b3b1a958",
   "metadata": {
    "execution": {
     "iopub.execute_input": "2025-06-13T07:12:03.397799Z",
     "iopub.status.busy": "2025-06-13T07:12:03.397475Z",
     "iopub.status.idle": "2025-06-13T07:12:29.038040Z",
     "shell.execute_reply": "2025-06-13T07:12:29.036567Z"
    },
    "papermill": {
     "duration": 25.66286,
     "end_time": "2025-06-13T07:12:29.039771",
     "exception": false,
     "start_time": "2025-06-13T07:12:03.376911",
     "status": "completed"
    },
    "tags": []
   },
   "outputs": [
    {
     "data": {
      "text/html": [
       "<div>\n",
       "<style scoped>\n",
       "    .dataframe tbody tr th:only-of-type {\n",
       "        vertical-align: middle;\n",
       "    }\n",
       "\n",
       "    .dataframe tbody tr th {\n",
       "        vertical-align: top;\n",
       "    }\n",
       "\n",
       "    .dataframe thead th {\n",
       "        text-align: right;\n",
       "    }\n",
       "</style>\n",
       "<table border=\"1\" class=\"dataframe\">\n",
       "  <thead>\n",
       "    <tr style=\"text-align: right;\">\n",
       "      <th></th>\n",
       "      <th>id</th>\n",
       "      <th>Fertilizer Name</th>\n",
       "    </tr>\n",
       "  </thead>\n",
       "  <tbody>\n",
       "    <tr>\n",
       "      <th>0</th>\n",
       "      <td>750000</td>\n",
       "      <td>10-26-26 20-20 DAP</td>\n",
       "    </tr>\n",
       "    <tr>\n",
       "      <th>1</th>\n",
       "      <td>750001</td>\n",
       "      <td>17-17-17 10-26-26 20-20</td>\n",
       "    </tr>\n",
       "    <tr>\n",
       "      <th>2</th>\n",
       "      <td>750002</td>\n",
       "      <td>20-20 28-28 Urea</td>\n",
       "    </tr>\n",
       "    <tr>\n",
       "      <th>3</th>\n",
       "      <td>750003</td>\n",
       "      <td>14-35-14 DAP 17-17-17</td>\n",
       "    </tr>\n",
       "    <tr>\n",
       "      <th>4</th>\n",
       "      <td>750004</td>\n",
       "      <td>20-20 Urea 10-26-26</td>\n",
       "    </tr>\n",
       "  </tbody>\n",
       "</table>\n",
       "</div>"
      ],
      "text/plain": [
       "       id          Fertilizer Name\n",
       "0  750000       10-26-26 20-20 DAP\n",
       "1  750001  17-17-17 10-26-26 20-20\n",
       "2  750002         20-20 28-28 Urea\n",
       "3  750003    14-35-14 DAP 17-17-17\n",
       "4  750004      20-20 Urea 10-26-26"
      ]
     },
     "execution_count": 21,
     "metadata": {},
     "output_type": "execute_result"
    }
   ],
   "source": [
    "create_submission(\"weighted-voting-classifier\", weighted_voting_test_pred_probs, np.mean(scores[\"VotingClassifier (weighted)\"])).head()"
   ]
  },
  {
   "cell_type": "markdown",
   "id": "6661b655",
   "metadata": {
    "papermill": {
     "duration": 0.018382,
     "end_time": "2025-06-13T07:12:29.077653",
     "exception": false,
     "start_time": "2025-06-13T07:12:29.059271",
     "status": "completed"
    },
    "tags": []
   },
   "source": [
    "# Results"
   ]
  },
  {
   "cell_type": "code",
   "execution_count": 22,
   "id": "5e568211",
   "metadata": {
    "execution": {
     "iopub.execute_input": "2025-06-13T07:12:29.116765Z",
     "iopub.status.busy": "2025-06-13T07:12:29.116436Z",
     "iopub.status.idle": "2025-06-13T07:12:29.707263Z",
     "shell.execute_reply": "2025-06-13T07:12:29.706150Z"
    },
    "papermill": {
     "duration": 0.612402,
     "end_time": "2025-06-13T07:12:29.708905",
     "exception": false,
     "start_time": "2025-06-13T07:12:29.096503",
     "status": "completed"
    },
    "tags": []
   },
   "outputs": [
    {
     "data": {
      "image/png": "[encoded data removed]",
      "text/plain": [
       "<Figure size 1500x360 with 2 Axes>"
      ]
     },
     "metadata": {},
     "output_type": "display_data"
    }
   ],
   "source": [
    "scores = pd.DataFrame(scores)\n",
    "mean_scores = scores.mean().sort_values(ascending=False)\n",
    "order = scores.mean().sort_values(ascending=False).index.tolist()\n",
    "\n",
    "min_score = mean_scores.min()\n",
    "max_score = mean_scores.max()\n",
    "padding = (max_score - min_score) * 0.5\n",
    "lower_limit = min_score - padding\n",
    "upper_limit = max_score + padding\n",
    "\n",
    "fig, axs = plt.subplots(1, 2, figsize=(15, scores.shape[1] * 0.4))\n",
    "\n",
    "boxplot = sns.boxplot(data=scores, order=order, ax=axs[0], orient=\"h\", palette=\"RdYlGn_r\")\n",
    "axs[0].set_title(f\"Fold MAP@3\")\n",
    "axs[0].set_xlabel(\"\")\n",
    "axs[0].set_ylabel(\"\")\n",
    "\n",
    "barplot = sns.barplot(x=mean_scores.values, y=mean_scores.index, ax=axs[1], palette=\"RdYlGn_r\")\n",
    "axs[1].set_title(f\"Mean MAP@3\")\n",
    "axs[1].set_xlabel(\"\")\n",
    "axs[1].set_xlim(left=lower_limit, right=upper_limit)\n",
    "axs[1].set_ylabel(\"\")\n",
    "\n",
    "for i, score in enumerate(mean_scores.values):\n",
    "    barplot.text(score, i, round(score, 6), va=\"center\")\n",
    "\n",
    "plt.tight_layout()\n",
    "plt.show()"
   ]
  }
 ],
 "metadata": {
  "kaggle": {
   "accelerator": "none",
   "dataSources": [
    {
     "databundleVersionId": 12184666,
     "isSourceIdPinned": false,
     "sourceId": 91717,
     "sourceType": "competition"
    },
    {
     "sourceId": 244411248,
     "sourceType": "kernelVersion"
    }
   ],
   "dockerImageVersionId": 31040,
   "isGpuEnabled": false,
   "isInternetEnabled": true,
   "language": "python",
   "sourceType": "notebook"
  },
  "kernelspec": {
   "display_name": "Python 3",
   "language": "python",
   "name": "python3"
  },
  "language_info": {
   "codemirror_mode": {
    "name": "ipython",
    "version": 3
   },
   "file_extension": ".py",
   "mimetype": "text/x-python",
   "name": "python",
   "nbconvert_exporter": "python",
   "pygments_lexer": "ipython3",
   "version": "3.11.11"
  },
  "papermill": {
   "default_parameters": {},
   "duration": 806.522422,
   "end_time": "2025-06-13T07:12:32.451994",
   "environment_variables": {},
   "exception": null,
   "input_path": "__notebook__.ipynb",
   "output_path": "__notebook__.ipynb",
   "parameters": {},
   "start_time": "2025-06-13T06:59:05.929572",
   "version": "2.6.0"
  }
 },
 "nbformat": 4,
 "nbformat_minor": 5
}
