{
 "cells": [
  {
   "cell_type": "markdown",
   "id": "ffa85b36",
   "metadata": {
    "papermill": {
     "duration": 0.004935,
     "end_time": "2025-06-20T09:02:07.015070",
     "exception": false,
     "start_time": "2025-06-20T09:02:07.010135",
     "status": "completed"
    },
    "tags": []
   },
   "source": [
    "# Imports and configs"
   ]
  },
  {
   "cell_type": "code",
   "execution_count": 1,
   "id": "c6a2ca38",
   "metadata": {
    "_kg_hide-output": true,
    "execution": {
     "iopub.execute_input": "2025-06-20T09:02:07.025494Z",
     "iopub.status.busy": "2025-06-20T09:02:07.024665Z",
     "iopub.status.idle": "2025-06-20T09:02:16.314803Z",
     "shell.execute_reply": "2025-06-20T09:02:16.313825Z"
    },
    "papermill": {
     "duration": 9.297054,
     "end_time": "2025-06-20T09:02:16.316492",
     "exception": false,
     "start_time": "2025-06-20T09:02:07.019438",
     "status": "completed"
    },
    "tags": []
   },
   "outputs": [
    {
     "name": "stdout",
     "output_type": "stream",
     "text": [
      "\u001b[2K   \u001b[90m━━━━━━━━━━━━━━━━━━━━━━━━━━━━━━━━━━━━━━━━\u001b[0m \u001b[32m13.3/13.3 MB\u001b[0m \u001b[31m84.7 MB/s\u001b[0m eta \u001b[36m0:00:00\u001b[0m\r\n",
      "\u001b[?25h\u001b[31mERROR: pip's dependency resolver does not currently take into account all the packages that are installed. This behaviour is the source of the following dependency conflicts.\r\n",
      "cesium 0.12.4 requires numpy<3.0,>=2.0, but you have numpy 1.26.4 which is incompatible.\u001b[0m\u001b[31m\r\n",
      "\u001b[0m"
     ]
    }
   ],
   "source": [
    "!pip install -q scikit-learn==1.5.2"
   ]
  },
  {
   "cell_type": "code",
   "execution_count": 2,
   "id": "b14aea2d",
   "metadata": {
    "execution": {
     "iopub.execute_input": "2025-06-20T09:02:16.327368Z",
     "iopub.status.busy": "2025-06-20T09:02:16.327048Z",
     "iopub.status.idle": "2025-06-20T09:02:20.912090Z",
     "shell.execute_reply": "2025-06-20T09:02:20.911058Z"
    },
    "papermill": {
     "duration": 4.592526,
     "end_time": "2025-06-20T09:02:20.913776",
     "exception": false,
     "start_time": "2025-06-20T09:02:16.321250",
     "status": "completed"
    },
    "tags": []
   },
   "outputs": [],
   "source": [
    "from sklearn.ensemble import StackingClassifier, VotingClassifier\n",
    "from sklearn.base import BaseEstimator, ClassifierMixin, clone\n",
    "from sklearn.model_selection import StratifiedKFold\n",
    "from sklearn.linear_model import LogisticRegression\n",
    "from sklearn.preprocessing import LabelEncoder\n",
    "from sklearn.utils import check_array\n",
    "import matplotlib.pyplot as plt\n",
    "import seaborn as sns\n",
    "import pandas as pd\n",
    "import numpy as np\n",
    "import warnings\n",
    "import joblib\n",
    "import optuna\n",
    "import shutil\n",
    "import json\n",
    "import gc\n",
    "\n",
    "warnings.filterwarnings(\"ignore\")"
   ]
  },
  {
   "cell_type": "code",
   "execution_count": 3,
   "id": "ce8e0a35",
   "metadata": {
    "execution": {
     "iopub.execute_input": "2025-06-20T09:02:20.925008Z",
     "iopub.status.busy": "2025-06-20T09:02:20.924045Z",
     "iopub.status.idle": "2025-06-20T09:02:20.929213Z",
     "shell.execute_reply": "2025-06-20T09:02:20.928407Z"
    },
    "papermill": {
     "duration": 0.012216,
     "end_time": "2025-06-20T09:02:20.930732",
     "exception": false,
     "start_time": "2025-06-20T09:02:20.918516",
     "status": "completed"
    },
    "tags": []
   },
   "outputs": [],
   "source": [
    "class CFG:\n",
    "    train_path = \"/kaggle/input/playground-series-s5e6/train.csv\"\n",
    "    test_path = \"/kaggle/input/playground-series-s5e6/test.csv\"\n",
    "    sample_sub_path = \"/kaggle/input/playground-series-s5e6/sample_submission.csv\"\n",
    "    \n",
    "    target = \"Fertilizer Name\"\n",
    "    n_folds = 5\n",
    "    seed = 42"
   ]
  },
  {
   "cell_type": "markdown",
   "id": "9a742e29",
   "metadata": {
    "papermill": {
     "duration": 0.004295,
     "end_time": "2025-06-20T09:02:20.939619",
     "exception": false,
     "start_time": "2025-06-20T09:02:20.935324",
     "status": "completed"
    },
    "tags": []
   },
   "source": [
    "# Data loading"
   ]
  },
  {
   "cell_type": "code",
   "execution_count": 4,
   "id": "4e7f5e87",
   "metadata": {
    "execution": {
     "iopub.execute_input": "2025-06-20T09:02:20.949847Z",
     "iopub.status.busy": "2025-06-20T09:02:20.949538Z",
     "iopub.status.idle": "2025-06-20T09:02:22.454275Z",
     "shell.execute_reply": "2025-06-20T09:02:22.453418Z"
    },
    "papermill": {
     "duration": 1.511793,
     "end_time": "2025-06-20T09:02:22.455941",
     "exception": false,
     "start_time": "2025-06-20T09:02:20.944148",
     "status": "completed"
    },
    "tags": []
   },
   "outputs": [],
   "source": [
    "train = pd.read_csv(CFG.train_path, index_col=\"id\")\n",
    "test = pd.read_csv(CFG.test_path, index_col=\"id\")\n",
    "\n",
    "label_encoder = LabelEncoder()\n",
    "train[CFG.target] = label_encoder.fit_transform(train[CFG.target])\n",
    "\n",
    "X = train.drop(CFG.target, axis=1)\n",
    "y = train[CFG.target]\n",
    "X_test = test"
   ]
  },
  {
   "cell_type": "code",
   "execution_count": 5,
   "id": "e99e5cb0",
   "metadata": {
    "_kg_hide-input": true,
    "execution": {
     "iopub.execute_input": "2025-06-20T09:02:22.467103Z",
     "iopub.status.busy": "2025-06-20T09:02:22.466440Z",
     "iopub.status.idle": "2025-06-20T09:02:22.473149Z",
     "shell.execute_reply": "2025-06-20T09:02:22.472218Z"
    },
    "papermill": {
     "duration": 0.013816,
     "end_time": "2025-06-20T09:02:22.474697",
     "exception": false,
     "start_time": "2025-06-20T09:02:22.460881",
     "status": "completed"
    },
    "tags": []
   },
   "outputs": [],
   "source": [
    "def map3(y_true, y_pred_probs):\n",
    "    y_true = [[x] for x in y_true]\n",
    "    y_pred_probs = np.argsort(y_pred_probs, axis=1)[:, -3:][:, ::-1].tolist()\n",
    "    \n",
    "    def ap3(y_true, y_pred_probs):\n",
    "        y_pred_probs = y_pred_probs[:3]\n",
    "\n",
    "        score = 0.0\n",
    "        num_hits = 0.0\n",
    "\n",
    "        for i,p in enumerate(y_pred_probs):\n",
    "            if p in y_true and p not in y_pred_probs[:i]:\n",
    "                num_hits += 1.0\n",
    "                score += num_hits / (i+1.0)\n",
    "\n",
    "        if not y_true:\n",
    "            return 0.0\n",
    "\n",
    "        return score\n",
    "    \n",
    "    return np.mean([ap3(a,p) for a,p in zip(y_true, y_pred_probs)])"
   ]
  },
  {
   "cell_type": "code",
   "execution_count": 6,
   "id": "ba9687d6",
   "metadata": {
    "execution": {
     "iopub.execute_input": "2025-06-20T09:02:22.485603Z",
     "iopub.status.busy": "2025-06-20T09:02:22.484878Z",
     "iopub.status.idle": "2025-06-20T09:02:39.194669Z",
     "shell.execute_reply": "2025-06-20T09:02:39.193622Z"
    },
    "papermill": {
     "duration": 16.717073,
     "end_time": "2025-06-20T09:02:39.196555",
     "exception": false,
     "start_time": "2025-06-20T09:02:22.479482",
     "status": "completed"
    },
    "tags": []
   },
   "outputs": [],
   "source": [
    "scores = {}\n",
    "\n",
    "oof_pred_probs = joblib.load(\"/kaggle/input/s05e06-fertilizer-optimization-ensemble/oof_pred_probs.pkl\")\n",
    "test_pred_probs = joblib.load(\"/kaggle/input/s05e06-fertilizer-optimization-ensemble/test_pred_probs.pkl\")\n",
    "\n",
    "start_idx = 0\n",
    "models = [\"LightGBM (gbdt)\", \"LightGBM (goss)\", \"XGBoost\", \"AutoGluon\", \"LogisticRegression\"]\n",
    "for model in models:\n",
    "    fold_scores = []        \n",
    "    \n",
    "    skf = StratifiedKFold(n_splits=CFG.n_folds, random_state=CFG.seed, shuffle=True)\n",
    "    for _, val_idx in skf.split(X, y):   \n",
    "        fold_score = map3(y[val_idx], oof_pred_probs.iloc[val_idx, start_idx:start_idx+7])\n",
    "        fold_scores.append(fold_score)\n",
    "        \n",
    "    scores[model] = fold_scores\n",
    "    start_idx += 7"
   ]
  },
  {
   "cell_type": "code",
   "execution_count": 7,
   "id": "cd3d5f0c",
   "metadata": {
    "_kg_hide-input": true,
    "execution": {
     "iopub.execute_input": "2025-06-20T09:02:39.207957Z",
     "iopub.status.busy": "2025-06-20T09:02:39.207567Z",
     "iopub.status.idle": "2025-06-20T09:02:39.223196Z",
     "shell.execute_reply": "2025-06-20T09:02:39.222173Z"
    },
    "papermill": {
     "duration": 0.023253,
     "end_time": "2025-06-20T09:02:39.224964",
     "exception": false,
     "start_time": "2025-06-20T09:02:39.201711",
     "status": "completed"
    },
    "tags": []
   },
   "outputs": [],
   "source": [
    "class Trainer:\n",
    "    def __init__(self, model, config=CFG):\n",
    "        self.model = model\n",
    "        self.config = config\n",
    "\n",
    "    def fit_predict(self, X, y, X_test):\n",
    "        print(f\"Training {self.model.__class__.__name__}\\n\")\n",
    "        \n",
    "        scores = []        \n",
    "        oof_pred_probs = np.zeros((X.shape[0], y.nunique()))\n",
    "        test_pred_probs = np.zeros((X_test.shape[0], y.nunique()))\n",
    "        \n",
    "        skf = StratifiedKFold(n_splits=self.config.n_folds, random_state=self.config.seed, shuffle=True)\n",
    "        for fold_idx, (train_idx, val_idx) in enumerate(skf.split(X, y)):\n",
    "            X_train, X_val = X.iloc[train_idx], X.iloc[val_idx]\n",
    "            y_train, y_val = y[train_idx], y[val_idx]\n",
    "            \n",
    "            model = clone(self.model)\n",
    "            model.fit(X_train, y_train)\n",
    "            \n",
    "            y_pred_probs = model.predict_proba(X_val)\n",
    "            oof_pred_probs[val_idx] = y_pred_probs\n",
    "            \n",
    "            temp_test_pred_probs = model.predict_proba(X_test)\n",
    "            test_pred_probs += temp_test_pred_probs / self.config.n_folds\n",
    "            \n",
    "            score = map3(y_val, y_pred_probs)\n",
    "            scores.append(score)\n",
    "            \n",
    "            del model, X_train, y_train, X_val, y_val, y_pred_probs\n",
    "            gc.collect()\n",
    "        \n",
    "            print(f\"--- Fold {fold_idx + 1} - MAP@3: {score:.6f}\")\n",
    "                            \n",
    "        overall_score = map3(y, oof_pred_probs)\n",
    "            \n",
    "        print(f\"\\n------ Overall MAP@3: {overall_score:.6f} | Average MAP@3: {np.mean(scores):.6f} ± {np.std(scores):.6f}\")\n",
    "        \n",
    "        return oof_pred_probs, test_pred_probs, scores\n",
    "\n",
    "    def tune(self, X, y):        \n",
    "        scores = []        \n",
    "        \n",
    "        skf = StratifiedKFold(n_splits=self.config.n_folds, random_state=self.config.seed, shuffle=True)\n",
    "        for train_idx, val_idx in skf.split(X, y):\n",
    "            X_train, X_val = X.iloc[train_idx], X.iloc[val_idx]\n",
    "            y_train, y_val = y[train_idx], y[val_idx]\n",
    "            \n",
    "            model = clone(self.model)\n",
    "            model.fit(X_train, y_train)\n",
    "            \n",
    "            y_pred_probs = model.predict_proba(X_val)            \n",
    "            score = map3(y_val, y_pred_probs)\n",
    "            scores.append(score)\n",
    "            \n",
    "            del model, X_train, y_train, X_val, y_val, y_pred_probs\n",
    "            gc.collect()\n",
    "            \n",
    "        return np.mean(scores)"
   ]
  },
  {
   "cell_type": "markdown",
   "id": "e104d528",
   "metadata": {
    "papermill": {
     "duration": 0.004634,
     "end_time": "2025-06-20T09:02:39.235133",
     "exception": false,
     "start_time": "2025-06-20T09:02:39.230499",
     "status": "completed"
    },
    "tags": []
   },
   "source": [
    "# Ensembling"
   ]
  },
  {
   "cell_type": "code",
   "execution_count": 8,
   "id": "ed6e53c4",
   "metadata": {
    "execution": {
     "iopub.execute_input": "2025-06-20T09:02:39.246033Z",
     "iopub.status.busy": "2025-06-20T09:02:39.245673Z",
     "iopub.status.idle": "2025-06-20T09:02:39.254297Z",
     "shell.execute_reply": "2025-06-20T09:02:39.253373Z"
    },
    "papermill": {
     "duration": 0.016007,
     "end_time": "2025-06-20T09:02:39.255879",
     "exception": false,
     "start_time": "2025-06-20T09:02:39.239872",
     "status": "completed"
    },
    "tags": []
   },
   "outputs": [],
   "source": [
    "X = oof_pred_probs\n",
    "X_test = test_pred_probs"
   ]
  },
  {
   "cell_type": "code",
   "execution_count": 9,
   "id": "d32a1d03",
   "metadata": {
    "execution": {
     "iopub.execute_input": "2025-06-20T09:02:39.267158Z",
     "iopub.status.busy": "2025-06-20T09:02:39.266757Z",
     "iopub.status.idle": "2025-06-20T09:02:39.273676Z",
     "shell.execute_reply": "2025-06-20T09:02:39.272729Z"
    },
    "papermill": {
     "duration": 0.014179,
     "end_time": "2025-06-20T09:02:39.275147",
     "exception": false,
     "start_time": "2025-06-20T09:02:39.260968",
     "status": "completed"
    },
    "tags": []
   },
   "outputs": [],
   "source": [
    "def create_submission(model, test_pred_probs, score):\n",
    "    final_predictions = []\n",
    "    for i in np.argsort(test_pred_probs)[:, -3:][:, ::-1]:\n",
    "        prediction = label_encoder.inverse_transform(i)\n",
    "        final_predictions.append(\" \".join(prediction))\n",
    "\n",
    "    sub = pd.read_csv(CFG.sample_sub_path)\n",
    "    sub[CFG.target] = final_predictions\n",
    "    sub.to_csv(f\"sub_{model}_{score:.6f}.csv\", index=False)\n",
    "    \n",
    "    return sub"
   ]
  },
  {
   "cell_type": "markdown",
   "id": "d5ffae5d",
   "metadata": {
    "papermill": {
     "duration": 0.004523,
     "end_time": "2025-06-20T09:02:39.284652",
     "exception": false,
     "start_time": "2025-06-20T09:02:39.280129",
     "status": "completed"
    },
    "tags": []
   },
   "source": [
    "## LogisticRegression"
   ]
  },
  {
   "cell_type": "code",
   "execution_count": 10,
   "id": "7c004bf2",
   "metadata": {
    "execution": {
     "iopub.execute_input": "2025-06-20T09:02:39.315461Z",
     "iopub.status.busy": "2025-06-20T09:02:39.314991Z",
     "iopub.status.idle": "2025-06-20T09:28:30.304630Z",
     "shell.execute_reply": "2025-06-20T09:28:30.303659Z"
    },
    "papermill": {
     "duration": 1551.015969,
     "end_time": "2025-06-20T09:28:30.306051",
     "exception": false,
     "start_time": "2025-06-20T09:02:39.290082",
     "status": "completed"
    },
    "tags": []
   },
   "outputs": [
    {
     "name": "stdout",
     "output_type": "stream",
     "text": [
      "Training LogisticRegression\n",
      "\n",
      "--- Fold 1 - MAP@3: 0.376696\n",
      "--- Fold 2 - MAP@3: 0.376559\n",
      "--- Fold 3 - MAP@3: 0.378480\n",
      "--- Fold 4 - MAP@3: 0.375800\n",
      "--- Fold 5 - MAP@3: 0.377288\n",
      "\n",
      "------ Overall MAP@3: 0.376964 | Average MAP@3: 0.376964 ± 0.000894\n"
     ]
    }
   ],
   "source": [
    "lr_model = LogisticRegression(**{\n",
    "    'solver': 'liblinear',\n",
    "    'penalty': 'l1',\n",
    "    'C': 5.629397048239153, \n",
    "    'tol': 0.00011987826963558092, \n",
    "    'fit_intercept': True, \n",
    "    'class_weight': None,\n",
    "    'max_iter': 10_000,\n",
    "    'random_state': 42\n",
    "}) \n",
    "\n",
    "lr_trainer = Trainer(lr_model)\n",
    "_, lr_test_pred_probs, scores[\"LogisticRegression (ensemble)\"] = lr_trainer.fit_predict(X, y, X_test)"
   ]
  },
  {
   "cell_type": "code",
   "execution_count": 11,
   "id": "2397a96a",
   "metadata": {
    "execution": {
     "iopub.execute_input": "2025-06-20T09:28:30.317221Z",
     "iopub.status.busy": "2025-06-20T09:28:30.316954Z",
     "iopub.status.idle": "2025-06-20T09:28:55.458600Z",
     "shell.execute_reply": "2025-06-20T09:28:55.457692Z"
    },
    "papermill": {
     "duration": 25.148996,
     "end_time": "2025-06-20T09:28:55.460163",
     "exception": false,
     "start_time": "2025-06-20T09:28:30.311167",
     "status": "completed"
    },
    "tags": []
   },
   "outputs": [
    {
     "data": {
      "text/html": [
       "<div>\n",
       "<style scoped>\n",
       "    .dataframe tbody tr th:only-of-type {\n",
       "        vertical-align: middle;\n",
       "    }\n",
       "\n",
       "    .dataframe tbody tr th {\n",
       "        vertical-align: top;\n",
       "    }\n",
       "\n",
       "    .dataframe thead th {\n",
       "        text-align: right;\n",
       "    }\n",
       "</style>\n",
       "<table border=\"1\" class=\"dataframe\">\n",
       "  <thead>\n",
       "    <tr style=\"text-align: right;\">\n",
       "      <th></th>\n",
       "      <th>id</th>\n",
       "      <th>Fertilizer Name</th>\n",
       "    </tr>\n",
       "  </thead>\n",
       "  <tbody>\n",
       "    <tr>\n",
       "      <th>0</th>\n",
       "      <td>750000</td>\n",
       "      <td>10-26-26 20-20 DAP</td>\n",
       "    </tr>\n",
       "    <tr>\n",
       "      <th>1</th>\n",
       "      <td>750001</td>\n",
       "      <td>17-17-17 28-28 10-26-26</td>\n",
       "    </tr>\n",
       "    <tr>\n",
       "      <th>2</th>\n",
       "      <td>750002</td>\n",
       "      <td>20-20 Urea DAP</td>\n",
       "    </tr>\n",
       "    <tr>\n",
       "      <th>3</th>\n",
       "      <td>750003</td>\n",
       "      <td>14-35-14 17-17-17 Urea</td>\n",
       "    </tr>\n",
       "    <tr>\n",
       "      <th>4</th>\n",
       "      <td>750004</td>\n",
       "      <td>Urea 20-20 28-28</td>\n",
       "    </tr>\n",
       "  </tbody>\n",
       "</table>\n",
       "</div>"
      ],
      "text/plain": [
       "       id          Fertilizer Name\n",
       "0  750000       10-26-26 20-20 DAP\n",
       "1  750001  17-17-17 28-28 10-26-26\n",
       "2  750002           20-20 Urea DAP\n",
       "3  750003   14-35-14 17-17-17 Urea\n",
       "4  750004         Urea 20-20 28-28"
      ]
     },
     "execution_count": 11,
     "metadata": {},
     "output_type": "execute_result"
    }
   ],
   "source": [
    "create_submission(\"logistic-regression\", lr_test_pred_probs, np.mean(scores[\"LogisticRegression (ensemble)\"])).head()"
   ]
  },
  {
   "cell_type": "markdown",
   "id": "cf36f59e",
   "metadata": {
    "papermill": {
     "duration": 0.004957,
     "end_time": "2025-06-20T09:28:55.470624",
     "exception": false,
     "start_time": "2025-06-20T09:28:55.465667",
     "status": "completed"
    },
    "tags": []
   },
   "source": [
    "## StackingClassifier"
   ]
  },
  {
   "cell_type": "code",
   "execution_count": 12,
   "id": "22f86a75",
   "metadata": {
    "_kg_hide-input": true,
    "execution": {
     "iopub.execute_input": "2025-06-20T09:28:55.482622Z",
     "iopub.status.busy": "2025-06-20T09:28:55.482265Z",
     "iopub.status.idle": "2025-06-20T09:28:55.488605Z",
     "shell.execute_reply": "2025-06-20T09:28:55.487794Z"
    },
    "papermill": {
     "duration": 0.013816,
     "end_time": "2025-06-20T09:28:55.489904",
     "exception": false,
     "start_time": "2025-06-20T09:28:55.476088",
     "status": "completed"
    },
    "tags": []
   },
   "outputs": [],
   "source": [
    "# This is just a trick to avoid refitting all base models from scratch, which is what StackingClassifier and VotingClassifier do by default\n",
    "\n",
    "class PassThroughClassifier(BaseEstimator, ClassifierMixin):\n",
    "    def __init__(self, idx_cols):\n",
    "        self.idx_cols = idx_cols\n",
    "        self.is_fitted_ = True\n",
    "\n",
    "    def fit(self, X, y=None):\n",
    "        return self\n",
    "\n",
    "    def predict_proba(self, X):\n",
    "        return check_array(X)[:, self.idx_cols]\n",
    "\n",
    "\n",
    "estimators = [\n",
    "    ('LightGBM (gbdt)', PassThroughClassifier(list(range(0, 7)))),\n",
    "    ('LightGBM (goss)', PassThroughClassifier(list(range(7, 14)))),\n",
    "    ('XGBoost', PassThroughClassifier(list(range(14, 21)))),\n",
    "    ('AutoGluon', PassThroughClassifier(list(range(21, 28)))),\n",
    "    ('LogisticRegression', PassThroughClassifier(list(range(28, 35)))),\n",
    "]"
   ]
  },
  {
   "cell_type": "code",
   "execution_count": 13,
   "id": "807f2737",
   "metadata": {
    "execution": {
     "iopub.execute_input": "2025-06-20T09:28:55.501579Z",
     "iopub.status.busy": "2025-06-20T09:28:55.501250Z",
     "iopub.status.idle": "2025-06-20T09:54:33.147337Z",
     "shell.execute_reply": "2025-06-20T09:54:33.146299Z"
    },
    "papermill": {
     "duration": 1537.653553,
     "end_time": "2025-06-20T09:54:33.148797",
     "exception": false,
     "start_time": "2025-06-20T09:28:55.495244",
     "status": "completed"
    },
    "tags": []
   },
   "outputs": [
    {
     "name": "stdout",
     "output_type": "stream",
     "text": [
      "Training StackingClassifier\n",
      "\n",
      "--- Fold 1 - MAP@3: 0.376696\n",
      "--- Fold 2 - MAP@3: 0.376559\n",
      "--- Fold 3 - MAP@3: 0.378480\n",
      "--- Fold 4 - MAP@3: 0.375800\n",
      "--- Fold 5 - MAP@3: 0.377288\n",
      "\n",
      "------ Overall MAP@3: 0.376964 | Average MAP@3: 0.376964 ± 0.000894\n"
     ]
    }
   ],
   "source": [
    "stacking_model = StackingClassifier(estimators, cv='prefit', n_jobs=-1, final_estimator=clone(lr_model))\n",
    "stacking_trainer = Trainer(stacking_model)\n",
    "_, stacking_test_pred_probs, scores[\"StackingClassifier\"] = stacking_trainer.fit_predict(X, y, X_test)"
   ]
  },
  {
   "cell_type": "code",
   "execution_count": 14,
   "id": "6aedddbb",
   "metadata": {
    "execution": {
     "iopub.execute_input": "2025-06-20T09:54:33.162071Z",
     "iopub.status.busy": "2025-06-20T09:54:33.161270Z",
     "iopub.status.idle": "2025-06-20T09:54:58.390420Z",
     "shell.execute_reply": "2025-06-20T09:54:58.389602Z"
    },
    "papermill": {
     "duration": 25.23726,
     "end_time": "2025-06-20T09:54:58.391932",
     "exception": false,
     "start_time": "2025-06-20T09:54:33.154672",
     "status": "completed"
    },
    "tags": []
   },
   "outputs": [
    {
     "data": {
      "text/html": [
       "<div>\n",
       "<style scoped>\n",
       "    .dataframe tbody tr th:only-of-type {\n",
       "        vertical-align: middle;\n",
       "    }\n",
       "\n",
       "    .dataframe tbody tr th {\n",
       "        vertical-align: top;\n",
       "    }\n",
       "\n",
       "    .dataframe thead th {\n",
       "        text-align: right;\n",
       "    }\n",
       "</style>\n",
       "<table border=\"1\" class=\"dataframe\">\n",
       "  <thead>\n",
       "    <tr style=\"text-align: right;\">\n",
       "      <th></th>\n",
       "      <th>id</th>\n",
       "      <th>Fertilizer Name</th>\n",
       "    </tr>\n",
       "  </thead>\n",
       "  <tbody>\n",
       "    <tr>\n",
       "      <th>0</th>\n",
       "      <td>750000</td>\n",
       "      <td>10-26-26 20-20 DAP</td>\n",
       "    </tr>\n",
       "    <tr>\n",
       "      <th>1</th>\n",
       "      <td>750001</td>\n",
       "      <td>17-17-17 28-28 10-26-26</td>\n",
       "    </tr>\n",
       "    <tr>\n",
       "      <th>2</th>\n",
       "      <td>750002</td>\n",
       "      <td>20-20 Urea DAP</td>\n",
       "    </tr>\n",
       "    <tr>\n",
       "      <th>3</th>\n",
       "      <td>750003</td>\n",
       "      <td>14-35-14 17-17-17 Urea</td>\n",
       "    </tr>\n",
       "    <tr>\n",
       "      <th>4</th>\n",
       "      <td>750004</td>\n",
       "      <td>Urea 20-20 28-28</td>\n",
       "    </tr>\n",
       "  </tbody>\n",
       "</table>\n",
       "</div>"
      ],
      "text/plain": [
       "       id          Fertilizer Name\n",
       "0  750000       10-26-26 20-20 DAP\n",
       "1  750001  17-17-17 28-28 10-26-26\n",
       "2  750002           20-20 Urea DAP\n",
       "3  750003   14-35-14 17-17-17 Urea\n",
       "4  750004         Urea 20-20 28-28"
      ]
     },
     "execution_count": 14,
     "metadata": {},
     "output_type": "execute_result"
    }
   ],
   "source": [
    "create_submission(\"stacking-classifier\", stacking_test_pred_probs, np.mean(scores[\"StackingClassifier\"])).head()"
   ]
  },
  {
   "cell_type": "markdown",
   "id": "ead3505e",
   "metadata": {
    "papermill": {
     "duration": 0.005612,
     "end_time": "2025-06-20T09:54:58.403505",
     "exception": false,
     "start_time": "2025-06-20T09:54:58.397893",
     "status": "completed"
    },
    "tags": []
   },
   "source": [
    "## VotingClassifier"
   ]
  },
  {
   "cell_type": "code",
   "execution_count": 15,
   "id": "7ff511c6",
   "metadata": {
    "execution": {
     "iopub.execute_input": "2025-06-20T09:54:58.416486Z",
     "iopub.status.busy": "2025-06-20T09:54:58.415803Z",
     "iopub.status.idle": "2025-06-20T09:55:08.933222Z",
     "shell.execute_reply": "2025-06-20T09:55:08.932255Z"
    },
    "papermill": {
     "duration": 10.525632,
     "end_time": "2025-06-20T09:55:08.934785",
     "exception": false,
     "start_time": "2025-06-20T09:54:58.409153",
     "status": "completed"
    },
    "tags": []
   },
   "outputs": [
    {
     "name": "stdout",
     "output_type": "stream",
     "text": [
      "Training VotingClassifier\n",
      "\n",
      "--- Fold 1 - MAP@3: 0.372964\n",
      "--- Fold 2 - MAP@3: 0.373240\n",
      "--- Fold 3 - MAP@3: 0.374519\n",
      "--- Fold 4 - MAP@3: 0.372252\n",
      "--- Fold 5 - MAP@3: 0.373658\n",
      "\n",
      "------ Overall MAP@3: 0.373327 | Average MAP@3: 0.373327 ± 0.000752\n"
     ]
    }
   ],
   "source": [
    "voting_model = VotingClassifier(estimators, n_jobs=-1, voting='soft')\n",
    "voting_trainer = Trainer(voting_model)\n",
    "_, voting_test_pred_probs, scores[\"VotingClassifier\"] = voting_trainer.fit_predict(X, y, X_test)"
   ]
  },
  {
   "cell_type": "code",
   "execution_count": 16,
   "id": "a48543e4",
   "metadata": {
    "execution": {
     "iopub.execute_input": "2025-06-20T09:55:08.948124Z",
     "iopub.status.busy": "2025-06-20T09:55:08.947856Z",
     "iopub.status.idle": "2025-06-20T09:55:34.338983Z",
     "shell.execute_reply": "2025-06-20T09:55:34.338191Z"
    },
    "papermill": {
     "duration": 25.399369,
     "end_time": "2025-06-20T09:55:34.340395",
     "exception": false,
     "start_time": "2025-06-20T09:55:08.941026",
     "status": "completed"
    },
    "tags": []
   },
   "outputs": [
    {
     "data": {
      "text/html": [
       "<div>\n",
       "<style scoped>\n",
       "    .dataframe tbody tr th:only-of-type {\n",
       "        vertical-align: middle;\n",
       "    }\n",
       "\n",
       "    .dataframe tbody tr th {\n",
       "        vertical-align: top;\n",
       "    }\n",
       "\n",
       "    .dataframe thead th {\n",
       "        text-align: right;\n",
       "    }\n",
       "</style>\n",
       "<table border=\"1\" class=\"dataframe\">\n",
       "  <thead>\n",
       "    <tr style=\"text-align: right;\">\n",
       "      <th></th>\n",
       "      <th>id</th>\n",
       "      <th>Fertilizer Name</th>\n",
       "    </tr>\n",
       "  </thead>\n",
       "  <tbody>\n",
       "    <tr>\n",
       "      <th>0</th>\n",
       "      <td>750000</td>\n",
       "      <td>10-26-26 20-20 DAP</td>\n",
       "    </tr>\n",
       "    <tr>\n",
       "      <th>1</th>\n",
       "      <td>750001</td>\n",
       "      <td>17-17-17 28-28 10-26-26</td>\n",
       "    </tr>\n",
       "    <tr>\n",
       "      <th>2</th>\n",
       "      <td>750002</td>\n",
       "      <td>20-20 Urea DAP</td>\n",
       "    </tr>\n",
       "    <tr>\n",
       "      <th>3</th>\n",
       "      <td>750003</td>\n",
       "      <td>14-35-14 17-17-17 10-26-26</td>\n",
       "    </tr>\n",
       "    <tr>\n",
       "      <th>4</th>\n",
       "      <td>750004</td>\n",
       "      <td>Urea 20-20 28-28</td>\n",
       "    </tr>\n",
       "  </tbody>\n",
       "</table>\n",
       "</div>"
      ],
      "text/plain": [
       "       id             Fertilizer Name\n",
       "0  750000          10-26-26 20-20 DAP\n",
       "1  750001     17-17-17 28-28 10-26-26\n",
       "2  750002              20-20 Urea DAP\n",
       "3  750003  14-35-14 17-17-17 10-26-26\n",
       "4  750004            Urea 20-20 28-28"
      ]
     },
     "execution_count": 16,
     "metadata": {},
     "output_type": "execute_result"
    }
   ],
   "source": [
    "create_submission(\"voting-classifier\", voting_test_pred_probs, np.mean(scores[\"VotingClassifier\"])).head()"
   ]
  },
  {
   "cell_type": "markdown",
   "id": "625c632e",
   "metadata": {
    "papermill": {
     "duration": 0.006001,
     "end_time": "2025-06-20T09:55:34.352868",
     "exception": false,
     "start_time": "2025-06-20T09:55:34.346867",
     "status": "completed"
    },
    "tags": []
   },
   "source": [
    "## Weighted averaging"
   ]
  },
  {
   "cell_type": "code",
   "execution_count": 17,
   "id": "c54fc8a4",
   "metadata": {
    "_kg_hide-output": true,
    "execution": {
     "iopub.execute_input": "2025-06-20T09:55:34.368407Z",
     "iopub.status.busy": "2025-06-20T09:55:34.367822Z",
     "iopub.status.idle": "2025-06-20T10:01:58.209842Z",
     "shell.execute_reply": "2025-06-20T10:01:58.208899Z"
    },
    "papermill": {
     "duration": 383.85158,
     "end_time": "2025-06-20T10:01:58.211354",
     "exception": false,
     "start_time": "2025-06-20T09:55:34.359774",
     "status": "completed"
    },
    "scrolled": true,
    "tags": []
   },
   "outputs": [
    {
     "name": "stderr",
     "output_type": "stream",
     "text": [
      "[I 2025-06-20 09:55:34,371] A new study created in memory with name: no-name-22206bd7-5372-456a-a1d5-ea52c36e6be6\n",
      "[I 2025-06-20 09:55:40,011] Trial 3 finished with value: 0.37325111111111103 and parameters: {'LightGBM (gbdt)': 0.876824573969938, 'LightGBM (goss)': 0.7018823397380995, 'XGBoost': 0.9188543290290572, 'AutoGluon': 0.8336446163132999, 'LogisticRegression': 0.7895375683026851}. Best is trial 3 with value: 0.37325111111111103.\n",
      "[I 2025-06-20 09:55:40,136] Trial 2 finished with value: 0.3725906666666667 and parameters: {'LightGBM (gbdt)': 0.9253820479545999, 'LightGBM (goss)': 0.96297556100427, 'XGBoost': 0.8680053118130187, 'AutoGluon': 0.02720903946630615, 'LogisticRegression': 0.789101243007981}. Best is trial 3 with value: 0.37325111111111103.\n",
      "[I 2025-06-20 09:55:40,454] Trial 0 finished with value: 0.3691286666666666 and parameters: {'LightGBM (gbdt)': 0.30398798871388666, 'LightGBM (goss)': 0.5181135823816784, 'XGBoost': 0.4967463385998131, 'AutoGluon': 0.36918764927941194, 'LogisticRegression': 0.064138504769371}. Best is trial 3 with value: 0.37325111111111103.\n",
      "[I 2025-06-20 09:55:41,097] Trial 1 finished with value: 0.3721011111111111 and parameters: {'LightGBM (gbdt)': 0.13915465921413994, 'LightGBM (goss)': 0.33987728622649094, 'XGBoost': 0.057439828925920255, 'AutoGluon': 0.9815660299239627, 'LogisticRegression': 0.4232833051365752}. Best is trial 3 with value: 0.37325111111111103.\n",
      "[I 2025-06-20 09:55:46,383] Trial 5 finished with value: 0.36795200000000006 and parameters: {'LightGBM (gbdt)': 0.8656188908176071, 'LightGBM (goss)': 0.9067478878156179, 'XGBoost': 0.9957708426155211, 'AutoGluon': 0.8101980788175809, 'LogisticRegression': 0.0027956803215535286}. Best is trial 3 with value: 0.37325111111111103.\n",
      "[I 2025-06-20 09:55:46,587] Trial 4 finished with value: 0.37325511111111115 and parameters: {'LightGBM (gbdt)': 0.9189288573233168, 'LightGBM (goss)': 0.6387392851896263, 'XGBoost': 0.30161270876497337, 'AutoGluon': 0.10495647234288297, 'LogisticRegression': 0.6920871370795898}. Best is trial 4 with value: 0.37325511111111115.\n",
      "[I 2025-06-20 09:55:47,526] Trial 7 finished with value: 0.372812 and parameters: {'LightGBM (gbdt)': 0.7415037448077404, 'LightGBM (goss)': 0.3370359214520994, 'XGBoost': 0.7286668037550476, 'AutoGluon': 0.051404965284288284, 'LogisticRegression': 0.5535752743076306}. Best is trial 4 with value: 0.37325511111111115.\n",
      "[I 2025-06-20 09:55:47,678] Trial 6 finished with value: 0.37099133333333323 and parameters: {'LightGBM (gbdt)': 0.9498282496225948, 'LightGBM (goss)': 0.965498819150629, 'XGBoost': 0.6315967453019803, 'AutoGluon': 0.19816276659134502, 'LogisticRegression': 0.37641341188128097}. Best is trial 4 with value: 0.37325511111111115.\n",
      "[I 2025-06-20 09:55:52,678] Trial 10 finished with value: 0.3723593333333333 and parameters: {'LightGBM (gbdt)': 0.2742988635639183, 'LightGBM (goss)': 0.7366665952103021, 'XGBoost': 0.5717109909766107, 'AutoGluon': 0.12878486765172947, 'LogisticRegression': 0.3929121041877297}. Best is trial 4 with value: 0.37325511111111115.\n",
      "[I 2025-06-20 09:55:52,896] Trial 11 finished with value: 0.3710431111111111 and parameters: {'LightGBM (gbdt)': 0.24697706792696406, 'LightGBM (goss)': 0.19827492544824488, 'XGBoost': 0.38089525144457514, 'AutoGluon': 0.1389353661219319, 'LogisticRegression': 0.10256438619387387}. Best is trial 4 with value: 0.37325511111111115.\n",
      "[I 2025-06-20 09:55:53,126] Trial 9 finished with value: 0.3736717777777779 and parameters: {'LightGBM (gbdt)': 0.482722815053204, 'LightGBM (goss)': 0.1075710223404236, 'XGBoost': 0.7569331510565246, 'AutoGluon': 0.17159702076277172, 'LogisticRegression': 0.5028410740309782}. Best is trial 9 with value: 0.3736717777777779.\n",
      "[I 2025-06-20 09:55:53,389] Trial 8 finished with value: 0.37227622222222234 and parameters: {'LightGBM (gbdt)': 0.42045796256128565, 'LightGBM (goss)': 0.04284232491577533, 'XGBoost': 0.9983788302144317, 'AutoGluon': 0.15956898676372555, 'LogisticRegression': 0.35263611869229783}. Best is trial 9 with value: 0.3736717777777779.\n",
      "[I 2025-06-20 09:55:59,148] Trial 14 finished with value: 0.3752777777777778 and parameters: {'LightGBM (gbdt)': 0.5689479586773301, 'LightGBM (goss)': 0.028777753676158674, 'XGBoost': 0.2527043050668636, 'AutoGluon': 0.38372753186364217, 'LogisticRegression': 0.6214645411333124}. Best is trial 14 with value: 0.3752777777777778.\n",
      "[I 2025-06-20 09:55:59,226] Trial 12 finished with value: 0.36802977777777773 and parameters: {'LightGBM (gbdt)': 0.943743513545539, 'LightGBM (goss)': 0.06460383933431046, 'XGBoost': 0.1366485045219542, 'AutoGluon': 0.655872147071805, 'LogisticRegression': 0.06264631340589832}. Best is trial 14 with value: 0.3752777777777778.\n",
      "[I 2025-06-20 09:55:59,775] Trial 15 finished with value: 0.3736928888888889 and parameters: {'LightGBM (gbdt)': 0.6743418531969416, 'LightGBM (goss)': 0.5654240279137918, 'XGBoost': 0.25934457444923387, 'AutoGluon': 0.4255506000520862, 'LogisticRegression': 0.5936019163087634}. Best is trial 14 with value: 0.3752777777777778.\n",
      "[I 2025-06-20 09:56:00,021] Trial 13 finished with value: 0.3761300000000001 and parameters: {'LightGBM (gbdt)': 0.5866026659645778, 'LightGBM (goss)': 0.06014479235230841, 'XGBoost': 0.1993592733817163, 'AutoGluon': 0.504749562558673, 'LogisticRegression': 0.9984069732428925}. Best is trial 13 with value: 0.3761300000000001.\n",
      "[I 2025-06-20 09:56:04,921] Trial 17 finished with value: 0.3755419999999998 and parameters: {'LightGBM (gbdt)': 0.6022967047364032, 'LightGBM (goss)': 0.23495534948109964, 'XGBoost': 0.24003073701941888, 'AutoGluon': 0.3798015005531522, 'LogisticRegression': 0.9309750593537862}. Best is trial 13 with value: 0.3761300000000001.\n",
      "[I 2025-06-20 09:56:05,534] Trial 18 finished with value: 0.3753022222222223 and parameters: {'LightGBM (gbdt)': 0.653348633997294, 'LightGBM (goss)': 0.41022047959029584, 'XGBoost': 0.2312395379961425, 'AutoGluon': 0.4337802084152039, 'LogisticRegression': 0.9795674110643151}. Best is trial 13 with value: 0.3761300000000001.\n",
      "[I 2025-06-20 09:56:05,747] Trial 16 finished with value: 0.37561844444444425 and parameters: {'LightGBM (gbdt)': 0.599160919221407, 'LightGBM (goss)': 0.20322508856207064, 'XGBoost': 0.2415490782665255, 'AutoGluon': 0.3841284774525373, 'LogisticRegression': 0.9732823974525326}. Best is trial 13 with value: 0.3761300000000001.\n",
      "[I 2025-06-20 09:56:07,465] Trial 19 finished with value: 0.3756566666666668 and parameters: {'LightGBM (gbdt)': 0.6725712493355196, 'LightGBM (goss)': 0.2828600628912288, 'XGBoost': 0.18474556231113293, 'AutoGluon': 0.5604086918369702, 'LogisticRegression': 0.9960937070725424}. Best is trial 13 with value: 0.3761300000000001.\n",
      "[I 2025-06-20 09:56:09,964] Trial 20 finished with value: 0.37589666666666677 and parameters: {'LightGBM (gbdt)': 0.6265575474373827, 'LightGBM (goss)': 0.2717923905764568, 'XGBoost': 0.0001822810852948331, 'AutoGluon': 0.5498015941983201, 'LogisticRegression': 0.9936275657285478}. Best is trial 13 with value: 0.3761300000000001.\n",
      "[I 2025-06-20 09:56:11,509] Trial 21 finished with value: 0.3755380000000001 and parameters: {'LightGBM (gbdt)': 0.7441237711416764, 'LightGBM (goss)': 0.1878350299294288, 'XGBoost': 0.0044373793229292025, 'AutoGluon': 0.5759951238457108, 'LogisticRegression': 0.8717208676559248}. Best is trial 13 with value: 0.3761300000000001.\n",
      "[I 2025-06-20 09:56:11,509] Trial 22 finished with value: 0.3756264444444443 and parameters: {'LightGBM (gbdt)': 0.7479244931401945, 'LightGBM (goss)': 0.1582588450979395, 'XGBoost': 0.004222583474804309, 'AutoGluon': 0.5653546405029674, 'LogisticRegression': 0.8922918701802831}. Best is trial 13 with value: 0.3761300000000001.\n",
      "[I 2025-06-20 09:56:13,036] Trial 23 finished with value: 0.37503022222222226 and parameters: {'LightGBM (gbdt)': 0.7796173960260249, 'LightGBM (goss)': 0.40777075597576073, 'XGBoost': 0.004952136672720986, 'AutoGluon': 0.6064031373742874, 'LogisticRegression': 0.845891299059204}. Best is trial 13 with value: 0.3761300000000001.\n",
      "[I 2025-06-20 09:56:16,085] Trial 24 finished with value: 0.3749611111111112 and parameters: {'LightGBM (gbdt)': 0.7722026432666517, 'LightGBM (goss)': 0.40081050338504853, 'XGBoost': 0.008751498037874714, 'AutoGluon': 0.5421002777917521, 'LogisticRegression': 0.8586743187551927}. Best is trial 13 with value: 0.3761300000000001.\n",
      "[I 2025-06-20 09:56:17,535] Trial 25 finished with value: 0.375312 and parameters: {'LightGBM (gbdt)': 0.42400448058223267, 'LightGBM (goss)': 0.30412796766546235, 'XGBoost': 0.15264824125980858, 'AutoGluon': 0.6888254382515923, 'LogisticRegression': 0.77835726677918}. Best is trial 13 with value: 0.3761300000000001.\n",
      "[I 2025-06-20 09:56:18,307] Trial 26 finished with value: 0.37541688888888897 and parameters: {'LightGBM (gbdt)': 0.46588002584704663, 'LightGBM (goss)': 0.2774501319761097, 'XGBoost': 0.13919972204388484, 'AutoGluon': 0.7060627302911213, 'LogisticRegression': 0.8244731373123553}. Best is trial 13 with value: 0.3761300000000001.\n",
      "[I 2025-06-20 09:56:18,511] Trial 27 finished with value: 0.3751359999999999 and parameters: {'LightGBM (gbdt)': 0.41316467677951974, 'LightGBM (goss)': 0.31018145081448534, 'XGBoost': 0.11892300196469624, 'AutoGluon': 0.6945689776973729, 'LogisticRegression': 0.7028168452270543}. Best is trial 13 with value: 0.3761300000000001.\n",
      "[I 2025-06-20 09:56:22,535] Trial 28 finished with value: 0.37518400000000024 and parameters: {'LightGBM (gbdt)': 0.43045084551277496, 'LightGBM (goss)': 0.27981752686343364, 'XGBoost': 0.11013081613134718, 'AutoGluon': 0.7066974991113341, 'LogisticRegression': 0.7126914338599444}. Best is trial 13 with value: 0.3761300000000001.\n",
      "[I 2025-06-20 09:56:23,569] Trial 31 finished with value: 0.37564688888888875 and parameters: {'LightGBM (gbdt)': 0.544562272007781, 'LightGBM (goss)': 0.10599852324793307, 'XGBoost': 0.38693978494383097, 'AutoGluon': 0.2790605535056673, 'LogisticRegression': 0.9742512223031607}. Best is trial 13 with value: 0.3761300000000001.\n",
      "[I 2025-06-20 09:56:23,812] Trial 29 finished with value: 0.3754102222222223 and parameters: {'LightGBM (gbdt)': 0.5353597795024869, 'LightGBM (goss)': 0.273290051027597, 'XGBoost': 0.39961447063869815, 'AutoGluon': 0.2762365800581059, 'LogisticRegression': 0.9969379944032755}. Best is trial 13 with value: 0.3761300000000001.\n",
      "[I 2025-06-20 09:56:23,947] Trial 30 finished with value: 0.3756626666666666 and parameters: {'LightGBM (gbdt)': 0.543835054159855, 'LightGBM (goss)': 0.11711815338099311, 'XGBoost': 0.39715896487392094, 'AutoGluon': 0.2895711956198686, 'LogisticRegression': 0.9967283086633042}. Best is trial 13 with value: 0.3761300000000001.\n",
      "[I 2025-06-20 09:56:29,581] Trial 32 finished with value: 0.3724246666666667 and parameters: {'LightGBM (gbdt)': 0.5385760550568547, 'LightGBM (goss)': 0.11981646195973483, 'XGBoost': 0.40267111664305555, 'AutoGluon': 0.2715563502942609, 'LogisticRegression': 0.24307832044224909}. Best is trial 13 with value: 0.3761300000000001.\n",
      "[I 2025-06-20 09:56:30,107] Trial 34 finished with value: 0.3758866666666666 and parameters: {'LightGBM (gbdt)': 0.3422311902413102, 'LightGBM (goss)': 0.12277602010762151, 'XGBoost': 0.4674787599386221, 'AutoGluon': 0.4851879065502338, 'LogisticRegression': 0.9146889538410237}. Best is trial 13 with value: 0.3761300000000001.\n",
      "[I 2025-06-20 09:56:30,334] Trial 35 finished with value: 0.3759013333333333 and parameters: {'LightGBM (gbdt)': 0.3413318890226866, 'LightGBM (goss)': 0.10998336842568787, 'XGBoost': 0.4516097099498741, 'AutoGluon': 0.46152402333380244, 'LogisticRegression': 0.9190319425231283}. Best is trial 13 with value: 0.3761300000000001.\n",
      "[I 2025-06-20 09:56:30,947] Trial 33 finished with value: 0.37539200000000006 and parameters: {'LightGBM (gbdt)': 0.3371365567124775, 'LightGBM (goss)': 0.47358763123243147, 'XGBoost': 0.41953223840097953, 'AutoGluon': 0.49204254792007307, 'LogisticRegression': 0.9215918991986334}. Best is trial 13 with value: 0.3761300000000001.\n",
      "[I 2025-06-20 09:56:35,546] Trial 36 finished with value: 0.3746055555555555 and parameters: {'LightGBM (gbdt)': 0.6643587042297134, 'LightGBM (goss)': 0.5094452943875434, 'XGBoost': 0.4771083957079997, 'AutoGluon': 0.5058217771204856, 'LogisticRegression': 0.9172418111810103}. Best is trial 13 with value: 0.3761300000000001.\n",
      "[I 2025-06-20 09:56:35,968] Trial 37 finished with value: 0.3761211111111112 and parameters: {'LightGBM (gbdt)': 0.35258078113995966, 'LightGBM (goss)': 0.00962205450144786, 'XGBoost': 0.4894215614312625, 'AutoGluon': 0.4631745437557905, 'LogisticRegression': 0.9219855857302728}. Best is trial 13 with value: 0.3761300000000001.\n",
      "[I 2025-06-20 09:56:36,319] Trial 38 finished with value: 0.3764184444444445 and parameters: {'LightGBM (gbdt)': 0.09060309311246312, 'LightGBM (goss)': 0.003014983368775981, 'XGBoost': 0.487408742262731, 'AutoGluon': 0.49317259231615, 'LogisticRegression': 0.9167323467228417}. Best is trial 38 with value: 0.3764184444444445.\n",
      "[I 2025-06-20 09:56:36,561] Trial 39 finished with value: 0.3759862222222222 and parameters: {'LightGBM (gbdt)': 0.08196247203326201, 'LightGBM (goss)': 0.03916199956227526, 'XGBoost': 0.5067130585296319, 'AutoGluon': 0.4882441984916354, 'LogisticRegression': 0.7506607496264847}. Best is trial 38 with value: 0.3764184444444445.\n",
      "[I 2025-06-20 09:56:41,270] Trial 40 finished with value: 0.376100888888889 and parameters: {'LightGBM (gbdt)': 0.09783075468585911, 'LightGBM (goss)': 0.0055545998954093095, 'XGBoost': 0.5294597895662657, 'AutoGluon': 0.45998798692140724, 'LogisticRegression': 0.7715181672993606}. Best is trial 38 with value: 0.3764184444444445.\n",
      "[I 2025-06-20 09:56:42,079] Trial 41 finished with value: 0.3757559999999999 and parameters: {'LightGBM (gbdt)': 0.06843686435891388, 'LightGBM (goss)': 0.013128402410760727, 'XGBoost': 0.3188784572647022, 'AutoGluon': 0.7983569196445361, 'LogisticRegression': 0.7800021354416132}. Best is trial 38 with value: 0.3764184444444445.\n",
      "[I 2025-06-20 09:56:42,152] Trial 42 finished with value: 0.3749062222222222 and parameters: {'LightGBM (gbdt)': 0.005149096773430284, 'LightGBM (goss)': 0.023476034871699553, 'XGBoost': 0.5779828513325448, 'AutoGluon': 0.9885969851759493, 'LogisticRegression': 0.760980578179816}. Best is trial 38 with value: 0.3764184444444445.\n",
      "[I 2025-06-20 09:56:42,398] Trial 43 finished with value: 0.37488888888888894 and parameters: {'LightGBM (gbdt)': 0.0018918179456300643, 'LightGBM (goss)': 0.0021098886711057308, 'XGBoost': 0.5441797335567383, 'AutoGluon': 0.9919852021985571, 'LogisticRegression': 0.761625228962231}. Best is trial 38 with value: 0.3764184444444445.\n",
      "[I 2025-06-20 09:56:48,678] Trial 45 finished with value: 0.37545888888888884 and parameters: {'LightGBM (gbdt)': 0.18098359701949046, 'LightGBM (goss)': 0.06730657622684215, 'XGBoost': 0.5407360814374774, 'AutoGluon': 0.3369100348085806, 'LogisticRegression': 0.6592333495648477}. Best is trial 38 with value: 0.3764184444444445.\n",
      "[I 2025-06-20 09:56:48,940] Trial 46 finished with value: 0.37564355555555556 and parameters: {'LightGBM (gbdt)': 0.16883405923322597, 'LightGBM (goss)': 0.054945145182542204, 'XGBoost': 0.6737475128765603, 'AutoGluon': 0.33969878035912926, 'LogisticRegression': 0.8118727613711288}. Best is trial 38 with value: 0.3764184444444445.\n",
      "[I 2025-06-20 09:56:49,080] Trial 44 finished with value: 0.37626911111111117 and parameters: {'LightGBM (gbdt)': 0.014243131872530387, 'LightGBM (goss)': 0.01710811315448442, 'XGBoost': 0.5471689365014951, 'AutoGluon': 0.3225002587222894, 'LogisticRegression': 0.7890702575075077}. Best is trial 38 with value: 0.3764184444444445.\n",
      "[I 2025-06-20 09:56:49,310] Trial 47 finished with value: 0.375670888888889 and parameters: {'LightGBM (gbdt)': 0.17531442967047428, 'LightGBM (goss)': 0.06649494126004295, 'XGBoost': 0.6594907981558513, 'AutoGluon': 0.33329496568780853, 'LogisticRegression': 0.8214248065216412}. Best is trial 38 with value: 0.3764184444444445.\n",
      "[I 2025-06-20 09:56:54,635] Trial 48 finished with value: 0.375627777777778 and parameters: {'LightGBM (gbdt)': 0.1397754429960937, 'LightGBM (goss)': 0.07059669280963515, 'XGBoost': 0.6573522812374195, 'AutoGluon': 0.618297929091798, 'LogisticRegression': 0.8184774671240912}. Best is trial 38 with value: 0.3764184444444445.\n",
      "[I 2025-06-20 09:56:54,788] Trial 49 finished with value: 0.3739402222222222 and parameters: {'LightGBM (gbdt)': 0.10591151224093058, 'LightGBM (goss)': 0.8857171753468754, 'XGBoost': 0.6348541818372531, 'AutoGluon': 0.6285668474847754, 'LogisticRegression': 0.7232915510867546}. Best is trial 38 with value: 0.3764184444444445.\n",
      "[I 2025-06-20 09:56:55,242] Trial 51 finished with value: 0.37376399999999993 and parameters: {'LightGBM (gbdt)': 0.10044747718167875, 'LightGBM (goss)': 0.16033642961106936, 'XGBoost': 0.8188799819769899, 'AutoGluon': 0.6136239205660382, 'LogisticRegression': 0.45867123131340604}. Best is trial 38 with value: 0.3764184444444445.\n",
      "[I 2025-06-20 09:56:55,666] Trial 50 finished with value: 0.37265666666666675 and parameters: {'LightGBM (gbdt)': 0.09112852015761672, 'LightGBM (goss)': 0.7905621204447337, 'XGBoost': 0.7927396380585874, 'AutoGluon': 0.6297085490149072, 'LogisticRegression': 0.4697257190150537}. Best is trial 38 with value: 0.3764184444444445.\n",
      "[I 2025-06-20 09:57:00,674] Trial 52 finished with value: 0.3738422222222222 and parameters: {'LightGBM (gbdt)': 0.2262092361404591, 'LightGBM (goss)': 0.0021734444179416375, 'XGBoost': 0.8327162276870439, 'AutoGluon': 0.20997138858864967, 'LogisticRegression': 0.4447291794077887}. Best is trial 38 with value: 0.3764184444444445.\n",
      "[I 2025-06-20 09:57:01,176] Trial 53 finished with value: 0.3741037777777777 and parameters: {'LightGBM (gbdt)': 0.2231050444329622, 'LightGBM (goss)': 0.1529981502275562, 'XGBoost': 0.776462468645922, 'AutoGluon': 0.20938898205667425, 'LogisticRegression': 0.5078493008198148}. Best is trial 38 with value: 0.3764184444444445.\n",
      "[I 2025-06-20 09:57:01,498] Trial 54 finished with value: 0.37555222222222207 and parameters: {'LightGBM (gbdt)': 0.23129967851555083, 'LightGBM (goss)': 0.007251263239842312, 'XGBoost': 0.5075951237110095, 'AutoGluon': 0.43080058461815446, 'LogisticRegression': 0.6413468263295168}. Best is trial 38 with value: 0.3764184444444445.\n",
      "[I 2025-06-20 09:57:01,655] Trial 55 finished with value: 0.37605066666666676 and parameters: {'LightGBM (gbdt)': 0.22028061705456042, 'LightGBM (goss)': 0.0038141297994997887, 'XGBoost': 0.3336906810127307, 'AutoGluon': 0.42682609107972425, 'LogisticRegression': 0.6500447929279973}. Best is trial 38 with value: 0.3764184444444445.\n",
      "[I 2025-06-20 09:57:06,569] Trial 57 finished with value: 0.37601777777777773 and parameters: {'LightGBM (gbdt)': 0.05797024522125738, 'LightGBM (goss)': 0.08430301647004729, 'XGBoost': 0.32763123328840127, 'AutoGluon': 0.4248632265681491, 'LogisticRegression': 0.5887241534241615}. Best is trial 38 with value: 0.3764184444444445.\n",
      "[I 2025-06-20 09:57:06,648] Trial 58 finished with value: 0.37648622222222233 and parameters: {'LightGBM (gbdt)': 0.038062486507211196, 'LightGBM (goss)': 0.07777998698931426, 'XGBoost': 0.3357367400734572, 'AutoGluon': 0.5229183955821073, 'LogisticRegression': 0.947172782116253}. Best is trial 58 with value: 0.37648622222222233.\n",
      "[I 2025-06-20 09:57:07,122] Trial 59 finished with value: 0.37603488888888886 and parameters: {'LightGBM (gbdt)': 0.05199381253525459, 'LightGBM (goss)': 0.07846314050856397, 'XGBoost': 0.33531689763744965, 'AutoGluon': 0.4027876926454475, 'LogisticRegression': 0.5735783984871484}. Best is trial 58 with value: 0.37648622222222233.\n",
      "[I 2025-06-20 09:57:07,276] Trial 56 finished with value: 0.37591088888888885 and parameters: {'LightGBM (gbdt)': 0.04860118849380496, 'LightGBM (goss)': 0.1603248837917679, 'XGBoost': 0.333924608965617, 'AutoGluon': 0.42720347655448687, 'LogisticRegression': 0.6138158014820768}. Best is trial 58 with value: 0.37648622222222233.\n",
      "[I 2025-06-20 09:57:13,193] Trial 62 finished with value: 0.3755728888888889 and parameters: {'LightGBM (gbdt)': 0.030412554650226256, 'LightGBM (goss)': 0.2088248146516739, 'XGBoost': 0.5992542818339738, 'AutoGluon': 0.07996842868821918, 'LogisticRegression': 0.8793191237184156}. Best is trial 58 with value: 0.37648622222222233.\n",
      "[I 2025-06-20 09:57:13,349] Trial 63 finished with value: 0.37601533333333326 and parameters: {'LightGBM (gbdt)': 0.02680584916660982, 'LightGBM (goss)': 0.2222927606552766, 'XGBoost': 0.5980071176281705, 'AutoGluon': 0.5191755542806422, 'LogisticRegression': 0.952198673387032}. Best is trial 58 with value: 0.37648622222222233.\n",
      "[I 2025-06-20 09:57:13,788] Trial 61 finished with value: 0.3760491111111111 and parameters: {'LightGBM (gbdt)': 0.04263390512217424, 'LightGBM (goss)': 0.19884233753423286, 'XGBoost': 0.5905750392834834, 'AutoGluon': 0.5262846167841756, 'LogisticRegression': 0.9439172441350869}. Best is trial 58 with value: 0.37648622222222233.\n",
      "[I 2025-06-20 09:57:14,035] Trial 60 finished with value: 0.37599466666666664 and parameters: {'LightGBM (gbdt)': 0.045028595770940025, 'LightGBM (goss)': 0.22083784228505515, 'XGBoost': 0.5943124330113018, 'AutoGluon': 0.5356529161075145, 'LogisticRegression': 0.9500661545150079}. Best is trial 58 with value: 0.37648622222222233.\n",
      "[I 2025-06-20 09:57:18,979] Trial 64 finished with value: 0.3753008888888889 and parameters: {'LightGBM (gbdt)': 0.29441157318001276, 'LightGBM (goss)': 0.6512108314947899, 'XGBoost': 0.28134666152136945, 'AutoGluon': 0.5330916488237718, 'LogisticRegression': 0.9508459956888812}. Best is trial 58 with value: 0.37648622222222233.\n",
      "[I 2025-06-20 09:57:19,060] Trial 66 finished with value: 0.37650133333333335 and parameters: {'LightGBM (gbdt)': 0.12944152477029225, 'LightGBM (goss)': 0.03869466585686429, 'XGBoost': 0.2750635044784745, 'AutoGluon': 0.45170881437554666, 'LogisticRegression': 0.8891193524299188}. Best is trial 66 with value: 0.37650133333333335.\n",
      "[I 2025-06-20 09:57:19,773] Trial 67 finished with value: 0.3765486666666668 and parameters: {'LightGBM (gbdt)': 0.13476301662892542, 'LightGBM (goss)': 0.042311387222596135, 'XGBoost': 0.20389035923012178, 'AutoGluon': 0.36935632325640794, 'LogisticRegression': 0.8545037728204203}. Best is trial 67 with value: 0.3765486666666668.\n",
      "[I 2025-06-20 09:57:20,006] Trial 65 finished with value: 0.3754353333333334 and parameters: {'LightGBM (gbdt)': 0.29318172254809965, 'LightGBM (goss)': 0.625729008500554, 'XGBoost': 0.19181675313715085, 'AutoGluon': 0.45975649101104676, 'LogisticRegression': 0.9489812158720256}. Best is trial 67 with value: 0.3765486666666668.\n",
      "[I 2025-06-20 09:57:25,303] Trial 70 finished with value: 0.3765191111111111 and parameters: {'LightGBM (gbdt)': 0.14802078179134748, 'LightGBM (goss)': 0.0512326865852432, 'XGBoost': 0.20229014317610436, 'AutoGluon': 0.3665673507173982, 'LogisticRegression': 0.8514879437602929}. Best is trial 67 with value: 0.3765486666666668.\n",
      "[I 2025-06-20 09:57:25,575] Trial 68 finished with value: 0.37660022222222234 and parameters: {'LightGBM (gbdt)': 0.13527616123629668, 'LightGBM (goss)': 0.046746475132991405, 'XGBoost': 0.18739627063553327, 'AutoGluon': 0.46659532411523674, 'LogisticRegression': 0.8608222315395285}. Best is trial 68 with value: 0.37660022222222234.\n",
      "[I 2025-06-20 09:57:25,795] Trial 69 finished with value: 0.3763993333333334 and parameters: {'LightGBM (gbdt)': 0.13319939701354985, 'LightGBM (goss)': 0.05016623512004781, 'XGBoost': 0.43379602287026137, 'AutoGluon': 0.4616926197658136, 'LogisticRegression': 0.8834854465517973}. Best is trial 68 with value: 0.37660022222222234.\n",
      "[I 2025-06-20 09:57:26,039] Trial 71 finished with value: 0.37654933333333335 and parameters: {'LightGBM (gbdt)': 0.14515386505486244, 'LightGBM (goss)': 0.042255560927833, 'XGBoost': 0.22254510165115154, 'AutoGluon': 0.38235018461949505, 'LogisticRegression': 0.8906956984132888}. Best is trial 68 with value: 0.37660022222222234.\n",
      "[I 2025-06-20 09:57:31,590] Trial 73 finished with value: 0.3767020000000001 and parameters: {'LightGBM (gbdt)': 0.12315127309146012, 'LightGBM (goss)': 0.04215605477368385, 'XGBoost': 0.08362125437541215, 'AutoGluon': 0.3120998092527695, 'LogisticRegression': 0.8571985589848593}. Best is trial 73 with value: 0.3767020000000001.\n",
      "[I 2025-06-20 09:57:32,086] Trial 75 finished with value: 0.37677533333333324 and parameters: {'LightGBM (gbdt)': 0.13634723127801515, 'LightGBM (goss)': 0.04505267593623193, 'XGBoost': 0.08407120983750685, 'AutoGluon': 0.3706805172237705, 'LogisticRegression': 0.8483114292567288}. Best is trial 75 with value: 0.37677533333333324.\n",
      "[I 2025-06-20 09:57:32,313] Trial 72 finished with value: 0.3765868888888889 and parameters: {'LightGBM (gbdt)': 0.15433590416838966, 'LightGBM (goss)': 0.14257280113745593, 'XGBoost': 0.07560725023665124, 'AutoGluon': 0.36142926713772033, 'LogisticRegression': 0.8875260814516167}. Best is trial 75 with value: 0.37677533333333324.\n",
      "[I 2025-06-20 09:57:32,621] Trial 74 finished with value: 0.37660333333333335 and parameters: {'LightGBM (gbdt)': 0.13912372358373046, 'LightGBM (goss)': 0.04288304373310035, 'XGBoost': 0.21144883311954696, 'AutoGluon': 0.3593152896690212, 'LogisticRegression': 0.8845406071782553}. Best is trial 75 with value: 0.37677533333333324.\n",
      "[I 2025-06-20 09:57:37,646] Trial 78 finished with value: 0.37655400000000006 and parameters: {'LightGBM (gbdt)': 0.14301023655239603, 'LightGBM (goss)': 0.1423685483311246, 'XGBoost': 0.0723520713678032, 'AutoGluon': 0.36982638240878357, 'LogisticRegression': 0.8767809573265988}. Best is trial 75 with value: 0.37677533333333324.\n",
      "[I 2025-06-20 09:57:37,947] Trial 76 finished with value: 0.37656977777777784 and parameters: {'LightGBM (gbdt)': 0.14012625000411916, 'LightGBM (goss)': 0.1398317275926479, 'XGBoost': 0.06690279842129684, 'AutoGluon': 0.373412606971799, 'LogisticRegression': 0.8410028179624992}. Best is trial 75 with value: 0.37677533333333324.\n",
      "[I 2025-06-20 09:57:38,137] Trial 77 finished with value: 0.376623111111111 and parameters: {'LightGBM (gbdt)': 0.14377741558971205, 'LightGBM (goss)': 0.10315173300867109, 'XGBoost': 0.07791784389493889, 'AutoGluon': 0.3572533264655956, 'LogisticRegression': 0.8489944590346099}. Best is trial 75 with value: 0.37677533333333324.\n",
      "[I 2025-06-20 09:57:38,553] Trial 79 finished with value: 0.3765295555555555 and parameters: {'LightGBM (gbdt)': 0.19423233108881965, 'LightGBM (goss)': 0.1374494651599118, 'XGBoost': 0.06657235408620141, 'AutoGluon': 0.24163058896748202, 'LogisticRegression': 0.8531281269315474}. Best is trial 75 with value: 0.37677533333333324.\n",
      "[I 2025-06-20 09:57:43,250] Trial 81 finished with value: 0.376368888888889 and parameters: {'LightGBM (gbdt)': 0.19951409589994237, 'LightGBM (goss)': 0.14871879936439975, 'XGBoost': 0.0691569507056161, 'AutoGluon': 0.24629386126115882, 'LogisticRegression': 0.7377657108486628}. Best is trial 75 with value: 0.37677533333333324.\n",
      "[I 2025-06-20 09:57:43,430] Trial 80 finished with value: 0.37630866666666657 and parameters: {'LightGBM (gbdt)': 0.26086913875777173, 'LightGBM (goss)': 0.14895050859282005, 'XGBoost': 0.07258612695831125, 'AutoGluon': 0.24043538985215374, 'LogisticRegression': 0.8415703824980745}. Best is trial 75 with value: 0.37677533333333324.\n",
      "[I 2025-06-20 09:57:44,189] Trial 82 finished with value: 0.3764164444444443 and parameters: {'LightGBM (gbdt)': 0.20111092435535738, 'LightGBM (goss)': 0.14987542150480893, 'XGBoost': 0.07105818446547385, 'AutoGluon': 0.2968909706032244, 'LogisticRegression': 0.7369435079723797}. Best is trial 75 with value: 0.37677533333333324.\n",
      "[I 2025-06-20 09:57:44,487] Trial 83 finished with value: 0.3736255555555556 and parameters: {'LightGBM (gbdt)': 0.27044454869326356, 'LightGBM (goss)': 0.18005110566873167, 'XGBoost': 0.068650277346686, 'AutoGluon': 0.3084174378036773, 'LogisticRegression': 0.22938796890877988}. Best is trial 75 with value: 0.37677533333333324.\n",
      "[I 2025-06-20 09:57:49,132] Trial 84 finished with value: 0.3753111111111111 and parameters: {'LightGBM (gbdt)': 0.15913207368405963, 'LightGBM (goss)': 0.09530196529583086, 'XGBoost': 0.03913737546771973, 'AutoGluon': 0.3047729288063941, 'LogisticRegression': 0.28513126665866034}. Best is trial 75 with value: 0.37677533333333324.\n",
      "[I 2025-06-20 09:57:49,589] Trial 86 finished with value: 0.3766784444444445 and parameters: {'LightGBM (gbdt)': 0.1622347130672529, 'LightGBM (goss)': 0.10369621777745067, 'XGBoost': 0.03640223924108428, 'AutoGluon': 0.3042166703999807, 'LogisticRegression': 0.8086485265642074}. Best is trial 75 with value: 0.37677533333333324.\n",
      "[I 2025-06-20 09:57:49,643] Trial 85 finished with value: 0.37665888888888904 and parameters: {'LightGBM (gbdt)': 0.15803810787532308, 'LightGBM (goss)': 0.09946178258460983, 'XGBoost': 0.10772636136612604, 'AutoGluon': 0.30604039116344034, 'LogisticRegression': 0.8982470717347477}. Best is trial 75 with value: 0.37677533333333324.\n",
      "[I 2025-06-20 09:57:49,989] Trial 87 finished with value: 0.3767075555555557 and parameters: {'LightGBM (gbdt)': 0.14874813212500748, 'LightGBM (goss)': 0.10732505229479215, 'XGBoost': 0.04029698359352227, 'AutoGluon': 0.3889497961375374, 'LogisticRegression': 0.7998410008042551}. Best is trial 75 with value: 0.37677533333333324.\n",
      "[I 2025-06-20 09:57:55,473] Trial 88 finished with value: 0.3764131111111111 and parameters: {'LightGBM (gbdt)': 0.12517581622495796, 'LightGBM (goss)': 0.24260277705930694, 'XGBoost': 0.10166999031654976, 'AutoGluon': 0.39246444039684375, 'LogisticRegression': 0.7998702802834654}. Best is trial 75 with value: 0.37677533333333324.\n",
      "[I 2025-06-20 09:57:55,649] Trial 91 finished with value: 0.3765164444444446 and parameters: {'LightGBM (gbdt)': 0.11969079401778032, 'LightGBM (goss)': 0.09897443313984575, 'XGBoost': 0.16191853023354835, 'AutoGluon': 0.3962583425073362, 'LogisticRegression': 0.8090747753578674}. Best is trial 75 with value: 0.37677533333333324.\n",
      "[I 2025-06-20 09:57:56,212] Trial 89 finished with value: 0.3766411111111113 and parameters: {'LightGBM (gbdt)': 0.10773525940931372, 'LightGBM (goss)': 0.10583150026101822, 'XGBoost': 0.11225439899630162, 'AutoGluon': 0.3471642384920612, 'LogisticRegression': 0.8092763473382178}. Best is trial 75 with value: 0.37677533333333324.\n",
      "[I 2025-06-20 09:57:56,389] Trial 90 finished with value: 0.3750795555555559 and parameters: {'LightGBM (gbdt)': 0.860462169481684, 'LightGBM (goss)': 0.09978176102165459, 'XGBoost': 0.16356488524170248, 'AutoGluon': 0.3574177085547252, 'LogisticRegression': 0.7984341479242331}. Best is trial 75 with value: 0.37677533333333324.\n",
      "[I 2025-06-20 09:58:01,880] Trial 93 finished with value: 0.3766999999999999 and parameters: {'LightGBM (gbdt)': 0.08022710523102056, 'LightGBM (goss)': 0.11017462089301086, 'XGBoost': 0.037615341284143414, 'AutoGluon': 0.34591194126017033, 'LogisticRegression': 0.8991265164946923}. Best is trial 75 with value: 0.37677533333333324.\n",
      "[I 2025-06-20 09:58:02,198] Trial 92 finished with value: 0.3763057777777776 and parameters: {'LightGBM (gbdt)': 0.07539135347982777, 'LightGBM (goss)': 0.12342792992834864, 'XGBoost': 0.10445517243161377, 'AutoGluon': 0.17072682370709638, 'LogisticRegression': 0.902466060520617}. Best is trial 75 with value: 0.37677533333333324.\n",
      "[I 2025-06-20 09:58:02,676] Trial 95 finished with value: 0.37658244444444433 and parameters: {'LightGBM (gbdt)': 0.07204056034718967, 'LightGBM (goss)': 0.12012321521831945, 'XGBoost': 0.03419682559748573, 'AutoGluon': 0.26109870144472197, 'LogisticRegression': 0.9079407293880822}. Best is trial 75 with value: 0.37677533333333324.\n",
      "[I 2025-06-20 09:58:02,946] Trial 94 finished with value: 0.3766182222222222 and parameters: {'LightGBM (gbdt)': 0.07457483129356933, 'LightGBM (goss)': 0.11111498254176282, 'XGBoost': 0.10450560984685701, 'AutoGluon': 0.35114019445616257, 'LogisticRegression': 0.6899098699350428}. Best is trial 75 with value: 0.37677533333333324.\n",
      "[I 2025-06-20 09:58:07,638] Trial 97 finished with value: 0.37660466666666664 and parameters: {'LightGBM (gbdt)': 0.1117492063566651, 'LightGBM (goss)': 0.1740531110830159, 'XGBoost': 0.03852928766598415, 'AutoGluon': 0.26612109574534715, 'LogisticRegression': 0.8321289759011313}. Best is trial 75 with value: 0.37677533333333324.\n",
      "[I 2025-06-20 09:58:07,950] Trial 98 finished with value: 0.37671311111111117 and parameters: {'LightGBM (gbdt)': 0.10744445611790691, 'LightGBM (goss)': 0.07790695158771618, 'XGBoost': 0.13182082362834063, 'AutoGluon': 0.3189528325210187, 'LogisticRegression': 0.865054095798215}. Best is trial 75 with value: 0.37677533333333324.\n",
      "[I 2025-06-20 09:58:08,093] Trial 96 finished with value: 0.37669622222222215 and parameters: {'LightGBM (gbdt)': 0.07628885997755736, 'LightGBM (goss)': 0.11509620164047571, 'XGBoost': 0.031308896819510254, 'AutoGluon': 0.3211157320857215, 'LogisticRegression': 0.908166632149369}. Best is trial 75 with value: 0.37677533333333324.\n",
      "[I 2025-06-20 09:58:08,840] Trial 99 finished with value: 0.376318 and parameters: {'LightGBM (gbdt)': 0.10814946517282897, 'LightGBM (goss)': 0.18052874137998987, 'XGBoost': 0.13000406869449393, 'AutoGluon': 0.33546200444508234, 'LogisticRegression': 0.676810535971343}. Best is trial 75 with value: 0.37677533333333324.\n",
      "[I 2025-06-20 09:58:12,584] Trial 100 finished with value: 0.37653422222222216 and parameters: {'LightGBM (gbdt)': 0.109038598432416, 'LightGBM (goss)': 0.17172481182609056, 'XGBoost': 0.034161757060406715, 'AutoGluon': 0.32224444653503614, 'LogisticRegression': 0.6762263939139724}. Best is trial 75 with value: 0.37677533333333324.\n",
      "[I 2025-06-20 09:58:12,590] Trial 102 finished with value: 0.3762364444444443 and parameters: {'LightGBM (gbdt)': 0.17384437235266703, 'LightGBM (goss)': 0.36178243633852175, 'XGBoost': 0.13141703531206345, 'AutoGluon': 0.3209138547329461, 'LogisticRegression': 0.972473290293246}. Best is trial 75 with value: 0.37677533333333324.\n",
      "[I 2025-06-20 09:58:13,796] Trial 101 finished with value: 0.37606977777777784 and parameters: {'LightGBM (gbdt)': 0.183696788892188, 'LightGBM (goss)': 0.24446212094721764, 'XGBoost': 0.12862612630407488, 'AutoGluon': 0.32494285459485733, 'LogisticRegression': 0.6702027977301626}. Best is trial 75 with value: 0.37677533333333324.\n",
      "[I 2025-06-20 09:58:16,509] Trial 103 finished with value: 0.37666577777777766 and parameters: {'LightGBM (gbdt)': 0.17488309075114417, 'LightGBM (goss)': 0.08567830205692911, 'XGBoost': 0.026269651885920082, 'AutoGluon': 0.32150271118102125, 'LogisticRegression': 0.9762984075769003}. Best is trial 75 with value: 0.37677533333333324.\n",
      "[I 2025-06-20 09:58:16,930] Trial 104 finished with value: 0.37669377777777774 and parameters: {'LightGBM (gbdt)': 0.07304618538671223, 'LightGBM (goss)': 0.08866382405603919, 'XGBoost': 0.09606015204613295, 'AutoGluon': 0.28638083316846413, 'LogisticRegression': 0.783533273492181}. Best is trial 75 with value: 0.37677533333333324.\n",
      "[I 2025-06-20 09:58:18,191] Trial 105 finished with value: 0.3765377777777777 and parameters: {'LightGBM (gbdt)': 0.1932793029203871, 'LightGBM (goss)': 0.08357264101831324, 'XGBoost': 0.1016784585303675, 'AutoGluon': 0.2911780210456486, 'LogisticRegression': 0.776512820307165}. Best is trial 75 with value: 0.37677533333333324.\n",
      "[I 2025-06-20 09:58:19,807] Trial 106 finished with value: 0.3767444444444443 and parameters: {'LightGBM (gbdt)': 0.07617730262930919, 'LightGBM (goss)': 0.08854102423549344, 'XGBoost': 0.09527429938300544, 'AutoGluon': 0.40595042582197055, 'LogisticRegression': 0.7736134044215947}. Best is trial 75 with value: 0.37677533333333324.\n",
      "[I 2025-06-20 09:58:22,564] Trial 109 finished with value: 0.376753111111111 and parameters: {'LightGBM (gbdt)': 0.08747193342306943, 'LightGBM (goss)': 0.07008926187039317, 'XGBoost': 0.012048180444148904, 'AutoGluon': 0.4091364339575786, 'LogisticRegression': 0.9772954400661789}. Best is trial 75 with value: 0.37677533333333324.\n",
      "[I 2025-06-20 09:58:22,928] Trial 107 finished with value: 0.3766233333333333 and parameters: {'LightGBM (gbdt)': 0.2018332824500748, 'LightGBM (goss)': 0.08955593668633707, 'XGBoost': 0.02122993481225643, 'AutoGluon': 0.29036001454212734, 'LogisticRegression': 0.777694684769303}. Best is trial 75 with value: 0.37677533333333324.\n",
      "[I 2025-06-20 09:58:23,282] Trial 108 finished with value: 0.37674022222222214 and parameters: {'LightGBM (gbdt)': 0.09453236814431801, 'LightGBM (goss)': 0.08538132660606791, 'XGBoost': 0.09219135381964524, 'AutoGluon': 0.28616769887883553, 'LogisticRegression': 0.783192942516798}. Best is trial 75 with value: 0.37677533333333324.\n",
      "[I 2025-06-20 09:58:28,623] Trial 110 finished with value: 0.37610977777777765 and parameters: {'LightGBM (gbdt)': 0.01771992241805792, 'LightGBM (goss)': 0.4771074619984359, 'XGBoost': 0.012454257418136737, 'AutoGluon': 0.22058993883549016, 'LogisticRegression': 0.9309960035155063}. Best is trial 75 with value: 0.37677533333333324.\n",
      "[I 2025-06-20 09:58:28,950] Trial 111 finished with value: 0.3767575555555557 and parameters: {'LightGBM (gbdt)': 0.0850602757704951, 'LightGBM (goss)': 0.06792691196949938, 'XGBoost': 0.0006060850946664649, 'AutoGluon': 0.40708286772973246, 'LogisticRegression': 0.9671325853450963}. Best is trial 75 with value: 0.37677533333333324.\n",
      "[I 2025-06-20 09:58:29,097] Trial 112 finished with value: 0.3762295555555555 and parameters: {'LightGBM (gbdt)': 0.012371970465330895, 'LightGBM (goss)': 0.06266915482310653, 'XGBoost': 0.047489760184909593, 'AutoGluon': 0.2043999007991954, 'LogisticRegression': 0.9822859333672933}. Best is trial 75 with value: 0.37677533333333324.\n",
      "[I 2025-06-20 09:58:29,478] Trial 113 finished with value: 0.376556 and parameters: {'LightGBM (gbdt)': 0.022155758827313216, 'LightGBM (goss)': 0.02726144435911213, 'XGBoost': 0.04813606203793913, 'AutoGluon': 0.22433717658428098, 'LogisticRegression': 0.7183364440319326}. Best is trial 75 with value: 0.37677533333333324.\n",
      "[I 2025-06-20 09:58:34,780] Trial 117 finished with value: 0.37675377777777774 and parameters: {'LightGBM (gbdt)': 0.08804459980820188, 'LightGBM (goss)': 0.06704493200885359, 'XGBoost': 0.0909337631453186, 'AutoGluon': 0.41613470001868175, 'LogisticRegression': 0.7416179024118138}. Best is trial 75 with value: 0.37677533333333324.\n",
      "[I 2025-06-20 09:58:35,195] Trial 115 finished with value: 0.3768317777777778 and parameters: {'LightGBM (gbdt)': 0.08720621973596543, 'LightGBM (goss)': 0.02871776289162098, 'XGBoost': 0.05071432020056901, 'AutoGluon': 0.4091253396846306, 'LogisticRegression': 0.7574746585256005}. Best is trial 115 with value: 0.3768317777777778.\n",
      "[I 2025-06-20 09:58:35,383] Trial 114 finished with value: 0.3768351111111112 and parameters: {'LightGBM (gbdt)': 0.08871799851622147, 'LightGBM (goss)': 0.024160182743822835, 'XGBoost': 0.04305500894202956, 'AutoGluon': 0.41048614978237397, 'LogisticRegression': 0.8282341422828527}. Best is trial 114 with value: 0.3768351111111112.\n",
      "[I 2025-06-20 09:58:35,999] Trial 116 finished with value: 0.3767460000000001 and parameters: {'LightGBM (gbdt)': 0.08693568612299453, 'LightGBM (goss)': 0.031457234292596684, 'XGBoost': 0.0005722427181152345, 'AutoGluon': 0.4114573342044287, 'LogisticRegression': 0.718505767679464}. Best is trial 114 with value: 0.3768351111111112.\n",
      "[I 2025-06-20 09:58:41,445] Trial 119 finished with value: 0.37667822222222225 and parameters: {'LightGBM (gbdt)': 0.08915257466678025, 'LightGBM (goss)': 0.023715719679162583, 'XGBoost': 0.14517089212671425, 'AutoGluon': 0.4226510508560871, 'LogisticRegression': 0.7327617348146399}. Best is trial 114 with value: 0.3768351111111112.\n",
      "[I 2025-06-20 09:58:41,771] Trial 120 finished with value: 0.376703111111111 and parameters: {'LightGBM (gbdt)': 0.09389790818853122, 'LightGBM (goss)': 0.024500725327236336, 'XGBoost': 0.15093555531789937, 'AutoGluon': 0.41467312909588977, 'LogisticRegression': 0.8256192358169303}. Best is trial 114 with value: 0.3768351111111112.\n",
      "[I 2025-06-20 09:58:41,962] Trial 118 finished with value: 0.3748177777777778 and parameters: {'LightGBM (gbdt)': 0.08763728211401531, 'LightGBM (goss)': 0.027618645040508476, 'XGBoost': 0.0040738967910053415, 'AutoGluon': 0.948428381293418, 'LogisticRegression': 0.7406745561970806}. Best is trial 114 with value: 0.3768351111111112.\n",
      "[I 2025-06-20 09:58:42,029] Trial 121 finished with value: 0.3767477777777777 and parameters: {'LightGBM (gbdt)': 0.06025302378385579, 'LightGBM (goss)': 0.030037674972233412, 'XGBoost': 0.0007806933872071195, 'AutoGluon': 0.408850250626743, 'LogisticRegression': 0.7511858433008834}. Best is trial 114 with value: 0.3768351111111112.\n",
      "[I 2025-06-20 09:58:46,994] Trial 122 finished with value: 0.3767862222222222 and parameters: {'LightGBM (gbdt)': 0.0641497393326059, 'LightGBM (goss)': 0.0689782626262582, 'XGBoost': 0.005662609860883723, 'AutoGluon': 0.4061119158711553, 'LogisticRegression': 0.7542611440585577}. Best is trial 114 with value: 0.3768351111111112.\n",
      "[I 2025-06-20 09:58:47,325] Trial 123 finished with value: 0.37665444444444457 and parameters: {'LightGBM (gbdt)': 0.047933257077014575, 'LightGBM (goss)': 0.022496394988397138, 'XGBoost': 0.1750591528088478, 'AutoGluon': 0.40779487323635016, 'LogisticRegression': 0.7513934846944832}. Best is trial 114 with value: 0.3768351111111112.\n",
      "[I 2025-06-20 09:58:47,581] Trial 124 finished with value: 0.37673244444444465 and parameters: {'LightGBM (gbdt)': 0.05808824411219157, 'LightGBM (goss)': 0.06394056702798626, 'XGBoost': 0.08822706112652477, 'AutoGluon': 0.4102082658568889, 'LogisticRegression': 0.7578224104333369}. Best is trial 114 with value: 0.3768351111111112.\n",
      "[I 2025-06-20 09:58:47,979] Trial 125 finished with value: 0.37675733333333333 and parameters: {'LightGBM (gbdt)': 0.056239607473374496, 'LightGBM (goss)': 0.07065359779159873, 'XGBoost': 0.004329865298909934, 'AutoGluon': 0.41106458218115516, 'LogisticRegression': 0.7603305731132394}. Best is trial 114 with value: 0.3768351111111112.\n",
      "[I 2025-06-20 09:58:52,783] Trial 126 finished with value: 0.3749517777777779 and parameters: {'LightGBM (gbdt)': 0.060942322332309604, 'LightGBM (goss)': 0.07277583487757865, 'XGBoost': 0.9391876555794804, 'AutoGluon': 0.4434968818937059, 'LogisticRegression': 0.7093427897801753}. Best is trial 114 with value: 0.3768351111111112.\n",
      "[I 2025-06-20 09:58:53,288] Trial 128 finished with value: 0.3767104444444445 and parameters: {'LightGBM (gbdt)': 0.05520891819533859, 'LightGBM (goss)': 0.06613983835110368, 'XGBoost': 0.012031374594687802, 'AutoGluon': 0.48506722981529843, 'LogisticRegression': 0.765500412615429}. Best is trial 114 with value: 0.3768351111111112.\n",
      "[I 2025-06-20 09:58:53,652] Trial 129 finished with value: 0.376624 and parameters: {'LightGBM (gbdt)': 0.04730346653314604, 'LightGBM (goss)': 0.06371529491318598, 'XGBoost': 0.0051404664618421025, 'AutoGluon': 0.47997442424583003, 'LogisticRegression': 0.707735245221033}. Best is trial 114 with value: 0.3768351111111112.\n",
      "[I 2025-06-20 09:58:53,710] Trial 127 finished with value: 0.37674577777777785 and parameters: {'LightGBM (gbdt)': 0.056183012314883, 'LightGBM (goss)': 0.06234211922265616, 'XGBoost': 0.012010952908811256, 'AutoGluon': 0.44365701076573216, 'LogisticRegression': 0.7057713871111666}. Best is trial 114 with value: 0.3768351111111112.\n",
      "[I 2025-06-20 09:58:59,409] Trial 130 finished with value: 0.37664177777777774 and parameters: {'LightGBM (gbdt)': 0.03146790973438636, 'LightGBM (goss)': 0.04933204755216765, 'XGBoost': 0.001874219347855947, 'AutoGluon': 0.4380935110186498, 'LogisticRegression': 0.694676602758816}. Best is trial 114 with value: 0.3768351111111112.\n",
      "[I 2025-06-20 09:58:59,466] Trial 131 finished with value: 0.3766995555555555 and parameters: {'LightGBM (gbdt)': 0.034978505585019165, 'LightGBM (goss)': 0.0706102385844089, 'XGBoost': 0.056640400253395264, 'AutoGluon': 0.442027290519658, 'LogisticRegression': 0.6899710628874739}. Best is trial 114 with value: 0.3768351111111112.\n",
      "[I 2025-06-20 09:58:59,831] Trial 133 finished with value: 0.3766397777777777 and parameters: {'LightGBM (gbdt)': 0.01099273126556824, 'LightGBM (goss)': 0.0019005916843740367, 'XGBoost': 0.056077722699611185, 'AutoGluon': 0.44009634182382573, 'LogisticRegression': 0.7028832516440725}. Best is trial 114 with value: 0.3768351111111112.\n",
      "[I 2025-06-20 09:59:00,278] Trial 132 finished with value: 0.3766799999999999 and parameters: {'LightGBM (gbdt)': 0.03781771254839157, 'LightGBM (goss)': 0.04079345630567466, 'XGBoost': 0.05515224987005602, 'AutoGluon': 0.4509745791023353, 'LogisticRegression': 0.7211998110091506}. Best is trial 114 with value: 0.3768351111111112.\n",
      "[I 2025-06-20 09:59:05,267] Trial 135 finished with value: 0.3766851111111111 and parameters: {'LightGBM (gbdt)': 0.06365238141527785, 'LightGBM (goss)': 0.0017279541404123452, 'XGBoost': 0.02216842848343613, 'AutoGluon': 0.4099793027309347, 'LogisticRegression': 0.6318056825174423}. Best is trial 114 with value: 0.3768351111111112.\n",
      "[I 2025-06-20 09:59:05,823] Trial 136 finished with value: 0.376735111111111 and parameters: {'LightGBM (gbdt)': 0.004175791802701258, 'LightGBM (goss)': 0.034127967162248155, 'XGBoost': 0.08757738549386226, 'AutoGluon': 0.39925789120305666, 'LogisticRegression': 0.7627866176744154}. Best is trial 114 with value: 0.3768351111111112.\n",
      "[I 2025-06-20 09:59:06,033] Trial 134 finished with value: 0.3766919999999999 and parameters: {'LightGBM (gbdt)': 0.0008223863751836077, 'LightGBM (goss)': 0.00417945790990264, 'XGBoost': 0.08625473498570035, 'AutoGluon': 0.4105304099877393, 'LogisticRegression': 0.757097875580072}. Best is trial 114 with value: 0.3768351111111112.\n",
      "[I 2025-06-20 09:59:06,485] Trial 137 finished with value: 0.3767544444444444 and parameters: {'LightGBM (gbdt)': 0.060599337971325544, 'LightGBM (goss)': 0.0569272462866016, 'XGBoost': 0.08704579511046241, 'AutoGluon': 0.4087860018042188, 'LogisticRegression': 0.7588626127959169}. Best is trial 114 with value: 0.3768351111111112.\n",
      "[I 2025-06-20 09:59:11,814] Trial 139 finished with value: 0.37666488888888877 and parameters: {'LightGBM (gbdt)': 0.0004879850619734505, 'LightGBM (goss)': 0.0554901594619589, 'XGBoost': 0.0017102272512073413, 'AutoGluon': 0.38360698302302504, 'LogisticRegression': 0.7532108811700432}. Best is trial 114 with value: 0.3768351111111112.\n",
      "[I 2025-06-20 09:59:12,039] Trial 140 finished with value: 0.37658844444444434 and parameters: {'LightGBM (gbdt)': 0.09240282244406635, 'LightGBM (goss)': 0.030697764446262654, 'XGBoost': 0.020513090290169775, 'AutoGluon': 0.38469758439346385, 'LogisticRegression': 0.5278906385135805}. Best is trial 114 with value: 0.3768351111111112.\n",
      "[I 2025-06-20 09:59:12,159] Trial 141 finished with value: 0.3766997777777777 and parameters: {'LightGBM (gbdt)': 0.0898012756675917, 'LightGBM (goss)': 0.04690931434733711, 'XGBoost': 0.022307736463773695, 'AutoGluon': 0.504316441460526, 'LogisticRegression': 0.7337841636368693}. Best is trial 114 with value: 0.3768351111111112.\n",
      "[I 2025-06-20 09:59:12,210] Trial 138 finished with value: 0.37672577777777777 and parameters: {'LightGBM (gbdt)': 0.0006906719311333687, 'LightGBM (goss)': 0.053907016013752015, 'XGBoost': 0.08812950256286738, 'AutoGluon': 0.39636926633050695, 'LogisticRegression': 0.7578319791623025}. Best is trial 114 with value: 0.3768351111111112.\n",
      "[I 2025-06-20 09:59:17,570] Trial 142 finished with value: 0.37672244444444436 and parameters: {'LightGBM (gbdt)': 0.08858643653534969, 'LightGBM (goss)': 0.12887471644697124, 'XGBoost': 0.021951532067447238, 'AutoGluon': 0.47400541860669215, 'LogisticRegression': 0.7900245700479076}. Best is trial 114 with value: 0.3768351111111112.\n",
      "[I 2025-06-20 09:59:17,587] Trial 144 finished with value: 0.37671199999999994 and parameters: {'LightGBM (gbdt)': 0.06277691723339321, 'LightGBM (goss)': 0.02757017050421793, 'XGBoost': 0.05346569972223105, 'AutoGluon': 0.4767875547125625, 'LogisticRegression': 0.7777647859900502}. Best is trial 114 with value: 0.3768351111111112.\n",
      "[I 2025-06-20 09:59:17,712] Trial 145 finished with value: 0.37671044444444435 and parameters: {'LightGBM (gbdt)': 0.03040408566045407, 'LightGBM (goss)': 0.12662371943624454, 'XGBoost': 0.06016845240819719, 'AutoGluon': 0.47232293521771146, 'LogisticRegression': 0.7896368277027153}. Best is trial 114 with value: 0.3768351111111112.\n",
      "[I 2025-06-20 09:59:18,328] Trial 143 finished with value: 0.3766584444444444 and parameters: {'LightGBM (gbdt)': 0.028782831675769026, 'LightGBM (goss)': 0.024853041580843574, 'XGBoost': 0.056994921860298337, 'AutoGluon': 0.473474195096664, 'LogisticRegression': 0.7929728556104955}. Best is trial 114 with value: 0.3768351111111112.\n",
      "[I 2025-06-20 09:59:23,862] Trial 148 finished with value: 0.3754086666666666 and parameters: {'LightGBM (gbdt)': 0.11963652198712586, 'LightGBM (goss)': 0.7877246159714022, 'XGBoost': 0.0009662892463891959, 'AutoGluon': 0.42496343404578674, 'LogisticRegression': 0.825168453598816}. Best is trial 114 with value: 0.3768351111111112.\n",
      "[I 2025-06-20 09:59:23,904] Trial 147 finished with value: 0.3751102222222222 and parameters: {'LightGBM (gbdt)': 0.1153364212732353, 'LightGBM (goss)': 0.835437315914717, 'XGBoost': 0.1202127268933548, 'AutoGluon': 0.42549221613938004, 'LogisticRegression': 0.8258828432582791}. Best is trial 114 with value: 0.3768351111111112.\n",
      "[I 2025-06-20 09:59:24,212] Trial 146 finished with value: 0.376755111111111 and parameters: {'LightGBM (gbdt)': 0.12152824897226305, 'LightGBM (goss)': 0.07464107069492398, 'XGBoost': 0.04925460019060675, 'AutoGluon': 0.425525434299713, 'LogisticRegression': 0.7266450973818711}. Best is trial 114 with value: 0.3768351111111112.\n",
      "[I 2025-06-20 09:59:24,374] Trial 149 finished with value: 0.3757855555555555 and parameters: {'LightGBM (gbdt)': 0.12267563106816388, 'LightGBM (goss)': 0.5475877451100292, 'XGBoost': 0.11646036929362412, 'AutoGluon': 0.4255469063424939, 'LogisticRegression': 0.8261731546399095}. Best is trial 114 with value: 0.3768351111111112.\n",
      "[I 2025-06-20 09:59:29,815] Trial 150 finished with value: 0.3748684444444445 and parameters: {'LightGBM (gbdt)': 0.9779215483357974, 'LightGBM (goss)': 0.07569139209359267, 'XGBoost': 0.040336692838406796, 'AutoGluon': 0.3995630569284979, 'LogisticRegression': 0.7290721353483287}. Best is trial 114 with value: 0.3768351111111112.\n",
      "[I 2025-06-20 09:59:29,816] Trial 152 finished with value: 0.3741173333333334 and parameters: {'LightGBM (gbdt)': 0.715235285258154, 'LightGBM (goss)': 0.5718559357358606, 'XGBoost': 0.036662089748431534, 'AutoGluon': 0.3772433306230417, 'LogisticRegression': 0.6558123644262293}. Best is trial 114 with value: 0.3768351111111112.\n",
      "[I 2025-06-20 09:59:30,727] Trial 151 finished with value: 0.37677311111111106 and parameters: {'LightGBM (gbdt)': 0.0614668528352171, 'LightGBM (goss)': 0.08145110059557531, 'XGBoost': 0.08619703709149759, 'AutoGluon': 0.375731293736484, 'LogisticRegression': 0.7203520754697345}. Best is trial 114 with value: 0.3768351111111112.\n",
      "[I 2025-06-20 09:59:30,890] Trial 153 finished with value: 0.37680955555555556 and parameters: {'LightGBM (gbdt)': 0.07058842404768362, 'LightGBM (goss)': 0.07990149222994546, 'XGBoost': 0.04098570636939472, 'AutoGluon': 0.37557681701045464, 'LogisticRegression': 0.7292326705704806}. Best is trial 114 with value: 0.3768351111111112.\n",
      "[I 2025-06-20 09:59:35,240] Trial 155 finished with value: 0.37624622222222226 and parameters: {'LightGBM (gbdt)': 0.3789398746980248, 'LightGBM (goss)': 0.08459601002397626, 'XGBoost': 0.08098683941836868, 'AutoGluon': 0.45163525162832485, 'LogisticRegression': 0.7400949083136931}. Best is trial 114 with value: 0.3768351111111112.\n",
      "[I 2025-06-20 09:59:35,513] Trial 157 finished with value: 0.374440888888889 and parameters: {'LightGBM (gbdt)': 0.06587474372705983, 'LightGBM (goss)': 0.989849670654532, 'XGBoost': 0.02300178904637408, 'AutoGluon': 0.45105839375327444, 'LogisticRegression': 0.7123585415042675}. Best is trial 114 with value: 0.3768351111111112.\n",
      "[I 2025-06-20 09:59:36,276] Trial 154 finished with value: 0.3767473333333335 and parameters: {'LightGBM (gbdt)': 0.06411198356044193, 'LightGBM (goss)': 0.08710540529006688, 'XGBoost': 0.08233426636327426, 'AutoGluon': 0.44879453371135536, 'LogisticRegression': 0.7440176142337681}. Best is trial 114 with value: 0.3768351111111112.\n",
      "[I 2025-06-20 09:59:36,385] Trial 156 finished with value: 0.37534666666666666 and parameters: {'LightGBM (gbdt)': 0.06528456673434267, 'LightGBM (goss)': 0.08670630010677315, 'XGBoost': 0.7165305263648414, 'AutoGluon': 0.4519288426924464, 'LogisticRegression': 0.7230116033608454}. Best is trial 114 with value: 0.3768351111111112.\n",
      "[I 2025-06-20 09:59:41,244] Trial 159 finished with value: 0.37679111111111124 and parameters: {'LightGBM (gbdt)': 0.05072519471922121, 'LightGBM (goss)': 0.061756466124778225, 'XGBoost': 0.052089397119637254, 'AutoGluon': 0.37061513065080837, 'LogisticRegression': 0.6814559831750202}. Best is trial 114 with value: 0.3768351111111112.\n",
      "[I 2025-06-20 09:59:41,542] Trial 158 finished with value: 0.3768251111111111 and parameters: {'LightGBM (gbdt)': 0.06862400992522084, 'LightGBM (goss)': 0.05513631495245877, 'XGBoost': 0.01655456249385996, 'AutoGluon': 0.3850027830775852, 'LogisticRegression': 0.7109184138883572}. Best is trial 114 with value: 0.3768351111111112.\n",
      "[I 2025-06-20 09:59:42,048] Trial 160 finished with value: 0.376751111111111 and parameters: {'LightGBM (gbdt)': 0.04818586677539625, 'LightGBM (goss)': 0.06005257700233173, 'XGBoost': 0.05161144966534489, 'AutoGluon': 0.38185107941124274, 'LogisticRegression': 0.6792917679940141}. Best is trial 114 with value: 0.3768351111111112.\n",
      "[I 2025-06-20 09:59:42,613] Trial 161 finished with value: 0.3768175555555557 and parameters: {'LightGBM (gbdt)': 0.049688083366533305, 'LightGBM (goss)': 0.0531538902938598, 'XGBoost': 0.04892154232070749, 'AutoGluon': 0.35772646749566067, 'LogisticRegression': 0.6943857144215592}. Best is trial 114 with value: 0.3768351111111112.\n",
      "[I 2025-06-20 09:59:48,016] Trial 163 finished with value: 0.3757324444444445 and parameters: {'LightGBM (gbdt)': 0.5047399684615903, 'LightGBM (goss)': 0.05198241228035699, 'XGBoost': 0.06396604579839882, 'AutoGluon': 0.3578091541203991, 'LogisticRegression': 0.608658277711458}. Best is trial 114 with value: 0.3768351111111112.\n",
      "[I 2025-06-20 09:59:48,428] Trial 164 finished with value: 0.37581111111111115 and parameters: {'LightGBM (gbdt)': 0.49148138526364027, 'LightGBM (goss)': 0.05397672676098426, 'XGBoost': 0.056602405699054656, 'AutoGluon': 0.3695599041186044, 'LogisticRegression': 0.6186892230687897}. Best is trial 114 with value: 0.3768351111111112.\n",
      "[I 2025-06-20 09:59:48,489] Trial 162 finished with value: 0.376756 and parameters: {'LightGBM (gbdt)': 0.04356961613115316, 'LightGBM (goss)': 0.05364374838520877, 'XGBoost': 0.05125066107505881, 'AutoGluon': 0.3652246002810012, 'LogisticRegression': 0.6119639951769533}. Best is trial 114 with value: 0.3768351111111112.\n",
      "[I 2025-06-20 09:59:48,771] Trial 165 finished with value: 0.376730888888889 and parameters: {'LightGBM (gbdt)': 0.04267825601325276, 'LightGBM (goss)': 0.056087129084696055, 'XGBoost': 0.052979700661722945, 'AutoGluon': 0.3660179519792175, 'LogisticRegression': 0.614938711386843}. Best is trial 114 with value: 0.3768351111111112.\n",
      "[I 2025-06-20 09:59:53,833] Trial 168 finished with value: 0.3768180000000001 and parameters: {'LightGBM (gbdt)': 0.0390327183359261, 'LightGBM (goss)': 0.0652986994936939, 'XGBoost': 0.04369335878435375, 'AutoGluon': 0.3439468921067191, 'LogisticRegression': 0.669790913436715}. Best is trial 114 with value: 0.3768351111111112.\n",
      "[I 2025-06-20 09:59:54,555] Trial 166 finished with value: 0.3767173333333334 and parameters: {'LightGBM (gbdt)': 0.03797446978351442, 'LightGBM (goss)': 0.017952045726034156, 'XGBoost': 0.047322099926720075, 'AutoGluon': 0.3826675829648111, 'LogisticRegression': 0.6773656871632192}. Best is trial 114 with value: 0.3768351111111112.\n",
      "[I 2025-06-20 09:59:54,708] Trial 167 finished with value: 0.37676422222222217 and parameters: {'LightGBM (gbdt)': 0.03526164663526574, 'LightGBM (goss)': 0.06721161996822184, 'XGBoost': 0.044876940809581364, 'AutoGluon': 0.34645165049865645, 'LogisticRegression': 0.6634081424961243}. Best is trial 114 with value: 0.3768351111111112.\n",
      "[I 2025-06-20 09:59:55,056] Trial 169 finished with value: 0.37670044444444434 and parameters: {'LightGBM (gbdt)': 0.10075333934471149, 'LightGBM (goss)': 0.11460082561250358, 'XGBoost': 0.039805266027003086, 'AutoGluon': 0.3831994660025872, 'LogisticRegression': 0.6740016771956404}. Best is trial 114 with value: 0.3768351111111112.\n",
      "[I 2025-06-20 10:00:00,467] Trial 173 finished with value: 0.3766984444444445 and parameters: {'LightGBM (gbdt)': 0.01893863989925991, 'LightGBM (goss)': 0.1296794407175143, 'XGBoost': 0.02652981284417997, 'AutoGluon': 0.3453252575279505, 'LogisticRegression': 0.6546058927421786}. Best is trial 114 with value: 0.3768351111111112.\n",
      "[I 2025-06-20 10:00:00,680] Trial 172 finished with value: 0.3766535555555556 and parameters: {'LightGBM (gbdt)': 0.02105119577623918, 'LightGBM (goss)': 0.12193350195055497, 'XGBoost': 0.07255119499255458, 'AutoGluon': 0.35409478963017127, 'LogisticRegression': 0.6516524832051147}. Best is trial 114 with value: 0.3768351111111112.\n",
      "[I 2025-06-20 10:00:00,910] Trial 171 finished with value: 0.3766326666666665 and parameters: {'LightGBM (gbdt)': 0.10035072455416245, 'LightGBM (goss)': 0.11831388585094876, 'XGBoost': 0.033563698201421396, 'AutoGluon': 0.34148888904375047, 'LogisticRegression': 0.6310676017885711}. Best is trial 114 with value: 0.3768351111111112.\n",
      "[I 2025-06-20 10:00:01,173] Trial 170 finished with value: 0.3766515555555557 and parameters: {'LightGBM (gbdt)': 0.1042711161478059, 'LightGBM (goss)': 0.11815325406828756, 'XGBoost': 0.035375360564580155, 'AutoGluon': 0.3356985724969188, 'LogisticRegression': 0.6655534022281796}. Best is trial 114 with value: 0.3768351111111112.\n",
      "[I 2025-06-20 10:00:07,053] Trial 177 finished with value: 0.375884 and parameters: {'LightGBM (gbdt)': 0.08356173576362505, 'LightGBM (goss)': 0.07470328170398595, 'XGBoost': 0.36804549481694204, 'AutoGluon': 0.36681093501796186, 'LogisticRegression': 0.5574031632515748}. Best is trial 114 with value: 0.3768351111111112.\n",
      "[I 2025-06-20 10:00:07,076] Trial 175 finished with value: 0.37677488888888894 and parameters: {'LightGBM (gbdt)': 0.07562646614670877, 'LightGBM (goss)': 0.07349778619148485, 'XGBoost': 0.07198114191219739, 'AutoGluon': 0.34136794462906717, 'LogisticRegression': 0.6929200498227653}. Best is trial 114 with value: 0.3768351111111112.\n",
      "[I 2025-06-20 10:00:07,137] Trial 174 finished with value: 0.376724888888889 and parameters: {'LightGBM (gbdt)': 0.07636958842341669, 'LightGBM (goss)': 0.07662049460027948, 'XGBoost': 0.0712841118077297, 'AutoGluon': 0.3424855708763494, 'LogisticRegression': 0.6437385979949097}. Best is trial 114 with value: 0.3768351111111112.\n",
      "[I 2025-06-20 10:00:07,427] Trial 176 finished with value: 0.3766424444444445 and parameters: {'LightGBM (gbdt)': 0.0791049259352396, 'LightGBM (goss)': 0.07430591217226169, 'XGBoost': 0.07201562454323965, 'AutoGluon': 0.35094918524581276, 'LogisticRegression': 0.5810273713089125}. Best is trial 114 with value: 0.3768351111111112.\n",
      "[I 2025-06-20 10:00:12,047] Trial 178 finished with value: 0.376685111111111 and parameters: {'LightGBM (gbdt)': 0.046104006514645864, 'LightGBM (goss)': 0.10032944800524246, 'XGBoost': 0.10947749158229161, 'AutoGluon': 0.38978285725176576, 'LogisticRegression': 0.6938702555016173}. Best is trial 114 with value: 0.3768351111111112.\n",
      "[I 2025-06-20 10:00:12,631] Trial 180 finished with value: 0.37674111111111125 and parameters: {'LightGBM (gbdt)': 0.03544739979745635, 'LightGBM (goss)': 0.0415330603790896, 'XGBoost': 0.1050903743463126, 'AutoGluon': 0.3908460015223544, 'LogisticRegression': 0.6959193594766762}. Best is trial 114 with value: 0.3768351111111112.\n",
      "[I 2025-06-20 10:00:12,812] Trial 181 finished with value: 0.376664888888889 and parameters: {'LightGBM (gbdt)': 0.03630135807749823, 'LightGBM (goss)': 0.09728663066951493, 'XGBoost': 0.1142878749215664, 'AutoGluon': 0.39005095392076733, 'LogisticRegression': 0.6893289989584753}. Best is trial 114 with value: 0.3768351111111112.\n",
      "[I 2025-06-20 10:00:12,975] Trial 179 finished with value: 0.3767835555555555 and parameters: {'LightGBM (gbdt)': 0.04531826749505463, 'LightGBM (goss)': 0.04628447392853638, 'XGBoost': 0.09175491657279426, 'AutoGluon': 0.3599719497976111, 'LogisticRegression': 0.6818568422951689}. Best is trial 114 with value: 0.3768351111111112.\n",
      "[I 2025-06-20 10:00:18,185] Trial 185 finished with value: 0.3767704444444444 and parameters: {'LightGBM (gbdt)': 0.057682236504054615, 'LightGBM (goss)': 0.04521105693701599, 'XGBoost': 0.08664983867150305, 'AutoGluon': 0.37015139882351555, 'LogisticRegression': 0.7178804862169097}. Best is trial 114 with value: 0.3768351111111112.\n",
      "[I 2025-06-20 10:00:18,423] Trial 182 finished with value: 0.376744 and parameters: {'LightGBM (gbdt)': 0.03398255788068157, 'LightGBM (goss)': 0.04128433498475699, 'XGBoost': 0.09685134990722602, 'AutoGluon': 0.36971276337895154, 'LogisticRegression': 0.7245007132546051}. Best is trial 114 with value: 0.3768351111111112.\n",
      "[I 2025-06-20 10:00:18,765] Trial 183 finished with value: 0.3767279999999999 and parameters: {'LightGBM (gbdt)': 0.12416315164208327, 'LightGBM (goss)': 0.044697630413263204, 'XGBoost': 0.08985433294650874, 'AutoGluon': 0.36779911711824503, 'LogisticRegression': 0.6892506335672157}. Best is trial 114 with value: 0.3768351111111112.\n",
      "[I 2025-06-20 10:00:19,444] Trial 184 finished with value: 0.3767644444444445 and parameters: {'LightGBM (gbdt)': 0.05783579397839178, 'LightGBM (goss)': 0.04318770989654856, 'XGBoost': 0.01938726904715922, 'AutoGluon': 0.36820904311852637, 'LogisticRegression': 0.7230464695665936}. Best is trial 114 with value: 0.3768351111111112.\n",
      "[I 2025-06-20 10:00:23,592] Trial 187 finished with value: 0.37682422222222217 and parameters: {'LightGBM (gbdt)': 0.057183811518564893, 'LightGBM (goss)': 0.021455694273622296, 'XGBoost': 0.06253044555866182, 'AutoGluon': 0.33233657965227165, 'LogisticRegression': 0.6657267952342596}. Best is trial 114 with value: 0.3768351111111112.\n",
      "[I 2025-06-20 10:00:23,810] Trial 186 finished with value: 0.3767831111111112 and parameters: {'LightGBM (gbdt)': 0.05012795763069483, 'LightGBM (goss)': 0.03892808479473288, 'XGBoost': 0.06669260402225832, 'AutoGluon': 0.36922867094811257, 'LogisticRegression': 0.7190117576416206}. Best is trial 114 with value: 0.3768351111111112.\n",
      "[I 2025-06-20 10:00:24,376] Trial 188 finished with value: 0.37680733333333344 and parameters: {'LightGBM (gbdt)': 0.0555238167650792, 'LightGBM (goss)': 0.014933068341131547, 'XGBoost': 0.04959420457275586, 'AutoGluon': 0.3322320200900114, 'LogisticRegression': 0.7105225392868784}. Best is trial 114 with value: 0.3768351111111112.\n",
      "[I 2025-06-20 10:00:25,835] Trial 189 finished with value: 0.37678755555555565 and parameters: {'LightGBM (gbdt)': 0.056652078088123316, 'LightGBM (goss)': 0.018325645610270412, 'XGBoost': 0.02385467364424985, 'AutoGluon': 0.3315073590409741, 'LogisticRegression': 0.6631449359749098}. Best is trial 114 with value: 0.3768351111111112.\n",
      "[I 2025-06-20 10:00:29,515] Trial 191 finished with value: 0.3766488888888889 and parameters: {'LightGBM (gbdt)': 0.016069684388451806, 'LightGBM (goss)': 0.006760640490153541, 'XGBoost': 0.024066511940262283, 'AutoGluon': 0.33079788892136913, 'LogisticRegression': 0.6617662599475892}. Best is trial 114 with value: 0.3768351111111112.\n",
      "[I 2025-06-20 10:00:29,561] Trial 190 finished with value: 0.3767117777777777 and parameters: {'LightGBM (gbdt)': 0.022522675538282688, 'LightGBM (goss)': 0.015528886821123647, 'XGBoost': 0.026305808797303147, 'AutoGluon': 0.3310521059220329, 'LogisticRegression': 0.663480543800509}. Best is trial 114 with value: 0.3768351111111112.\n",
      "[I 2025-06-20 10:00:30,489] Trial 192 finished with value: 0.37515733333333323 and parameters: {'LightGBM (gbdt)': 0.01909064558782738, 'LightGBM (goss)': 0.00025394162739033124, 'XGBoost': 0.027636506595238995, 'AutoGluon': 0.021727199793619922, 'LogisticRegression': 0.6571028628900896}. Best is trial 114 with value: 0.3768351111111112.\n",
      "[I 2025-06-20 10:00:34,708] Trial 195 finished with value: 0.3768235555555556 and parameters: {'LightGBM (gbdt)': 0.07161385655341221, 'LightGBM (goss)': 0.017549054430783473, 'XGBoost': 0.06883956344774556, 'AutoGluon': 0.3075169391775272, 'LogisticRegression': 0.7059441332888451}. Best is trial 114 with value: 0.3768351111111112.\n",
      "[I 2025-06-20 10:00:34,830] Trial 193 finished with value: 0.3767313333333333 and parameters: {'LightGBM (gbdt)': 0.020895616159894312, 'LightGBM (goss)': 5.803589750817337e-05, 'XGBoost': 0.06932571017958836, 'AutoGluon': 0.3268009411157541, 'LogisticRegression': 0.659904603855442}. Best is trial 114 with value: 0.3768351111111112.\n",
      "[I 2025-06-20 10:00:34,911] Trial 194 finished with value: 0.37683355555555564 and parameters: {'LightGBM (gbdt)': 0.06940803764196166, 'LightGBM (goss)': 0.018350562866494845, 'XGBoost': 0.0637060651963951, 'AutoGluon': 0.30922158219416485, 'LogisticRegression': 0.7062743556588864}. Best is trial 114 with value: 0.3768351111111112.\n",
      "[I 2025-06-20 10:00:39,176] Trial 196 finished with value: 0.37679977777777773 and parameters: {'LightGBM (gbdt)': 0.0714528005267771, 'LightGBM (goss)': 0.023089933586913074, 'XGBoost': 0.06702515901823798, 'AutoGluon': 0.30728060802761825, 'LogisticRegression': 0.703452379244161}. Best is trial 114 with value: 0.3768351111111112.\n",
      "[I 2025-06-20 10:00:40,197] Trial 199 finished with value: 0.37681533333333317 and parameters: {'LightGBM (gbdt)': 0.06618202844092708, 'LightGBM (goss)': 0.023749407773544024, 'XGBoost': 0.06694830159735461, 'AutoGluon': 0.30595088211374455, 'LogisticRegression': 0.7083414910987269}. Best is trial 114 with value: 0.3768351111111112.\n",
      "[I 2025-06-20 10:00:40,359] Trial 197 finished with value: 0.37681377777777775 and parameters: {'LightGBM (gbdt)': 0.06457985817983591, 'LightGBM (goss)': 0.025404719376068446, 'XGBoost': 0.0673755819611471, 'AutoGluon': 0.3165730980441656, 'LogisticRegression': 0.7036418858950462}. Best is trial 114 with value: 0.3768351111111112.\n",
      "[I 2025-06-20 10:00:40,483] Trial 198 finished with value: 0.37680511111111115 and parameters: {'LightGBM (gbdt)': 0.06056406718435116, 'LightGBM (goss)': 0.02592194978586734, 'XGBoost': 0.06515148868627069, 'AutoGluon': 0.31143468954541526, 'LogisticRegression': 0.7091704617671902}. Best is trial 114 with value: 0.3768351111111112.\n",
      "[I 2025-06-20 10:00:46,647] Trial 203 finished with value: 0.3766722222222222 and parameters: {'LightGBM (gbdt)': 0.10546003387940756, 'LightGBM (goss)': 0.016489797298469354, 'XGBoost': 0.13686536380894396, 'AutoGluon': 0.29728562348624393, 'LogisticRegression': 0.7017570210097741}. Best is trial 114 with value: 0.3768351111111112.\n",
      "[I 2025-06-20 10:00:46,837] Trial 200 finished with value: 0.37668799999999986 and parameters: {'LightGBM (gbdt)': 0.06718195281626056, 'LightGBM (goss)': 0.025059266277629944, 'XGBoost': 0.13537616571602323, 'AutoGluon': 0.27490679182955685, 'LogisticRegression': 0.705920357620009}. Best is trial 114 with value: 0.3768351111111112.\n",
      "[I 2025-06-20 10:00:47,164] Trial 202 finished with value: 0.3767388888888889 and parameters: {'LightGBM (gbdt)': 0.07007611453164658, 'LightGBM (goss)': 0.014498479979629603, 'XGBoost': 0.06408820992248389, 'AutoGluon': 0.2614551473085191, 'LogisticRegression': 0.6980752266152987}. Best is trial 114 with value: 0.3768351111111112.\n",
      "[I 2025-06-20 10:00:47,291] Trial 201 finished with value: 0.37670444444444434 and parameters: {'LightGBM (gbdt)': 0.071752919535401, 'LightGBM (goss)': 0.023701837857609147, 'XGBoost': 0.13800912073593036, 'AutoGluon': 0.2643278773684002, 'LogisticRegression': 0.6849375753592397}. Best is trial 114 with value: 0.3768351111111112.\n",
      "[I 2025-06-20 10:00:52,287] Trial 204 finished with value: 0.3767444444444445 and parameters: {'LightGBM (gbdt)': 0.08105777987844999, 'LightGBM (goss)': 0.017669367969024682, 'XGBoost': 0.06736300530130754, 'AutoGluon': 0.2673209615436227, 'LogisticRegression': 0.6879161859164389}. Best is trial 114 with value: 0.3768351111111112.\n",
      "[I 2025-06-20 10:00:52,687] Trial 205 finished with value: 0.3767955555555555 and parameters: {'LightGBM (gbdt)': 0.07481853424395793, 'LightGBM (goss)': 0.021910802210816566, 'XGBoost': 0.06678233935197747, 'AutoGluon': 0.3053233905765733, 'LogisticRegression': 0.6841561156078947}. Best is trial 114 with value: 0.3768351111111112.\n",
      "[I 2025-06-20 10:00:53,011] Trial 207 finished with value: 0.37677133333333335 and parameters: {'LightGBM (gbdt)': 0.0819765319396053, 'LightGBM (goss)': 0.029981440489570292, 'XGBoost': 0.07132246978555781, 'AutoGluon': 0.30607856046552895, 'LogisticRegression': 0.6821842262350268}. Best is trial 114 with value: 0.3768351111111112.\n",
      "[I 2025-06-20 10:00:53,175] Trial 206 finished with value: 0.3767560000000001 and parameters: {'LightGBM (gbdt)': 0.07642445222036161, 'LightGBM (goss)': 0.0325470243098958, 'XGBoost': 0.06616122768475714, 'AutoGluon': 0.30252447815978795, 'LogisticRegression': 0.6814928300632062}. Best is trial 114 with value: 0.3768351111111112.\n",
      "[I 2025-06-20 10:00:58,438] Trial 208 finished with value: 0.3767786666666665 and parameters: {'LightGBM (gbdt)': 0.043049165445505834, 'LightGBM (goss)': 0.031671342942458554, 'XGBoost': 0.04935687556347151, 'AutoGluon': 0.3095150751610063, 'LogisticRegression': 0.6390506407083131}. Best is trial 114 with value: 0.3768351111111112.\n",
      "[I 2025-06-20 10:00:58,507] Trial 210 finished with value: 0.3766877777777779 and parameters: {'LightGBM (gbdt)': 0.04594957128155297, 'LightGBM (goss)': 0.029155091253568653, 'XGBoost': 0.04697600069523481, 'AutoGluon': 0.30359706541669335, 'LogisticRegression': 0.709588403896493}. Best is trial 114 with value: 0.3768351111111112.\n",
      "[I 2025-06-20 10:00:58,838] Trial 209 finished with value: 0.3767586666666667 and parameters: {'LightGBM (gbdt)': 0.047662645692633385, 'LightGBM (goss)': 0.03143660672922474, 'XGBoost': 0.048704210150557356, 'AutoGluon': 0.3026910871230026, 'LogisticRegression': 0.6355390713354758}. Best is trial 114 with value: 0.3768351111111112.\n",
      "[I 2025-06-20 10:00:59,114] Trial 211 finished with value: 0.3767284444444445 and parameters: {'LightGBM (gbdt)': 0.05007041511862776, 'LightGBM (goss)': 0.00178244741571576, 'XGBoost': 0.055654299451037594, 'AutoGluon': 0.3073509581526366, 'LogisticRegression': 0.7042549487715909}. Best is trial 114 with value: 0.3768351111111112.\n",
      "[I 2025-06-20 10:01:04,776] Trial 213 finished with value: 0.3767297777777778 and parameters: {'LightGBM (gbdt)': 0.04474283618990009, 'LightGBM (goss)': 0.01185584192215516, 'XGBoost': 0.05193861643256305, 'AutoGluon': 0.2851260702662799, 'LogisticRegression': 0.6306633687139123}. Best is trial 114 with value: 0.3768351111111112.\n",
      "[I 2025-06-20 10:01:05,320] Trial 215 finished with value: 0.376856 and parameters: {'LightGBM (gbdt)': 0.10469638496995505, 'LightGBM (goss)': 0.01508127241973434, 'XGBoost': 0.034037417850468606, 'AutoGluon': 0.32470578221633045, 'LogisticRegression': 0.6424892134639508}. Best is trial 215 with value: 0.376856.\n",
      "[I 2025-06-20 10:01:05,394] Trial 212 finished with value: 0.37675755555555557 and parameters: {'LightGBM (gbdt)': 0.04740070672098799, 'LightGBM (goss)': 0.009378421284337001, 'XGBoost': 0.04051689516638676, 'AutoGluon': 0.28105615607808104, 'LogisticRegression': 0.6324299702871882}. Best is trial 215 with value: 0.376856.\n",
      "[I 2025-06-20 10:01:05,509] Trial 214 finished with value: 0.3768366666666668 and parameters: {'LightGBM (gbdt)': 0.09996253255770135, 'LightGBM (goss)': 0.0019041516357759004, 'XGBoost': 0.04016527318986145, 'AutoGluon': 0.28444314843318935, 'LogisticRegression': 0.6401576598848363}. Best is trial 215 with value: 0.376856.\n",
      "[I 2025-06-20 10:01:10,807] Trial 217 finished with value: 0.3768273333333334 and parameters: {'LightGBM (gbdt)': 0.10512440338080159, 'LightGBM (goss)': 0.0027838108579906276, 'XGBoost': 0.025178325883284593, 'AutoGluon': 0.33794938778672523, 'LogisticRegression': 0.6720317660915384}. Best is trial 215 with value: 0.376856.\n",
      "[I 2025-06-20 10:01:11,425] Trial 216 finished with value: 0.37679577777777773 and parameters: {'LightGBM (gbdt)': 0.10727123344334885, 'LightGBM (goss)': 0.04338757065196443, 'XGBoost': 0.03587478477434578, 'AutoGluon': 0.3244520288008834, 'LogisticRegression': 0.7382447005290033}. Best is trial 215 with value: 0.376856.\n",
      "[I 2025-06-20 10:01:11,705] Trial 218 finished with value: 0.3767086666666666 and parameters: {'LightGBM (gbdt)': 0.09867431806237227, 'LightGBM (goss)': 0.021278075218154932, 'XGBoost': 0.027105178823073534, 'AutoGluon': 0.24718387624442795, 'LogisticRegression': 0.6735955807004808}. Best is trial 215 with value: 0.376856.\n",
      "[I 2025-06-20 10:01:11,935] Trial 219 finished with value: 0.36490533333333336 and parameters: {'LightGBM (gbdt)': 0.1068586882567521, 'LightGBM (goss)': 0.0182562488249007, 'XGBoost': 0.02340130515042417, 'AutoGluon': 0.32204462502111997, 'LogisticRegression': 0.051777328304392745}. Best is trial 215 with value: 0.376856.\n",
      "[I 2025-06-20 10:01:16,929] Trial 222 finished with value: 0.3768266666666669 and parameters: {'LightGBM (gbdt)': 0.11078792240475976, 'LightGBM (goss)': 0.0077248292006994596, 'XGBoost': 0.0211740818340049, 'AutoGluon': 0.31952225804319445, 'LogisticRegression': 0.739852293081937}. Best is trial 215 with value: 0.376856.\n",
      "[I 2025-06-20 10:01:17,147] Trial 221 finished with value: 0.3768257777777778 and parameters: {'LightGBM (gbdt)': 0.11108541456645998, 'LightGBM (goss)': 0.0030943948474622114, 'XGBoost': 0.02377218432948, 'AutoGluon': 0.24494695222020033, 'LogisticRegression': 0.598554249711781}. Best is trial 215 with value: 0.376856.\n",
      "[I 2025-06-20 10:01:17,279] Trial 223 finished with value: 0.37682199999999993 and parameters: {'LightGBM (gbdt)': 0.11672882734305774, 'LightGBM (goss)': 0.0031550750707149376, 'XGBoost': 0.034483066146341335, 'AutoGluon': 0.3251063840818623, 'LogisticRegression': 0.6006201781944561}. Best is trial 215 with value: 0.376856.\n",
      "[I 2025-06-20 10:01:17,499] Trial 220 finished with value: 0.37687844444444424 and parameters: {'LightGBM (gbdt)': 0.10514430533486493, 'LightGBM (goss)': 0.016557092822335542, 'XGBoost': 0.025491031323443776, 'AutoGluon': 0.31923787413571303, 'LogisticRegression': 0.6745316239640345}. Best is trial 220 with value: 0.37687844444444424.\n",
      "[I 2025-06-20 10:01:22,360] Trial 224 finished with value: 0.3768628888888889 and parameters: {'LightGBM (gbdt)': 0.12072403656863775, 'LightGBM (goss)': 0.003542856035902764, 'XGBoost': 0.03240771729670202, 'AutoGluon': 0.3149864647439913, 'LogisticRegression': 0.7336271401224577}. Best is trial 220 with value: 0.37687844444444424.\n",
      "[I 2025-06-20 10:01:23,165] Trial 226 finished with value: 0.3767568888888889 and parameters: {'LightGBM (gbdt)': 0.1375471971285192, 'LightGBM (goss)': 0.0012151033894479586, 'XGBoost': 0.03700484931655605, 'AutoGluon': 0.2783069781652448, 'LogisticRegression': 0.7391154409074892}. Best is trial 220 with value: 0.37687844444444424.\n",
      "[I 2025-06-20 10:01:23,356] Trial 227 finished with value: 0.37680555555555556 and parameters: {'LightGBM (gbdt)': 0.12579250654619337, 'LightGBM (goss)': 0.00030526471583336955, 'XGBoost': 0.033515166892846476, 'AutoGluon': 0.24104521006560292, 'LogisticRegression': 0.6020582765952094}. Best is trial 220 with value: 0.37687844444444424.\n",
      "[I 2025-06-20 10:01:23,539] Trial 225 finished with value: 0.376762888888889 and parameters: {'LightGBM (gbdt)': 0.12077756306669173, 'LightGBM (goss)': 0.0009139334608227571, 'XGBoost': 0.03529249469610684, 'AutoGluon': 0.24013807432080975, 'LogisticRegression': 0.6488288002444257}. Best is trial 220 with value: 0.37687844444444424.\n",
      "[I 2025-06-20 10:01:29,447] Trial 228 finished with value: 0.37676577777777776 and parameters: {'LightGBM (gbdt)': 0.13042371856528873, 'LightGBM (goss)': 0.0008190683185638342, 'XGBoost': 0.035704604172389534, 'AutoGluon': 0.3214586558303763, 'LogisticRegression': 0.5661382557190269}. Best is trial 220 with value: 0.37687844444444424.\n",
      "[I 2025-06-20 10:01:29,586] Trial 231 finished with value: 0.37664044444444444 and parameters: {'LightGBM (gbdt)': 0.13245668433127994, 'LightGBM (goss)': 0.0003343481718525998, 'XGBoost': 0.015025997738549464, 'AutoGluon': 0.18532372098279748, 'LogisticRegression': 0.5998506504546521}. Best is trial 220 with value: 0.37687844444444424.\n",
      "[I 2025-06-20 10:01:29,957] Trial 230 finished with value: 0.37681222222222216 and parameters: {'LightGBM (gbdt)': 0.12934330069242406, 'LightGBM (goss)': 0.0012744575920689213, 'XGBoost': 0.019405137129957596, 'AutoGluon': 0.25363661604421817, 'LogisticRegression': 0.5995272122352238}. Best is trial 220 with value: 0.37687844444444424.\n",
      "[I 2025-06-20 10:01:30,083] Trial 229 finished with value: 0.3767864444444444 and parameters: {'LightGBM (gbdt)': 0.12378483497837398, 'LightGBM (goss)': 0.002168382001660543, 'XGBoost': 0.01800834994461733, 'AutoGluon': 0.2514187584210653, 'LogisticRegression': 0.6459335732057916}. Best is trial 220 with value: 0.37687844444444424.\n",
      "[I 2025-06-20 10:01:35,933] Trial 234 finished with value: 0.37677288888888893 and parameters: {'LightGBM (gbdt)': 0.10828776930336514, 'LightGBM (goss)': 0.01955218765857144, 'XGBoost': 0.01709229195556385, 'AutoGluon': 0.24811564679548473, 'LogisticRegression': 0.5842990012787715}. Best is trial 220 with value: 0.37687844444444424.\n",
      "[I 2025-06-20 10:01:36,346] Trial 232 finished with value: 0.37560911111111145 and parameters: {'LightGBM (gbdt)': 0.1522366923991436, 'LightGBM (goss)': 0.42493681558076096, 'XGBoost': 0.01667782629874711, 'AutoGluon': 0.23311593465936142, 'LogisticRegression': 0.5819889497269026}. Best is trial 220 with value: 0.37687844444444424.\n",
      "[I 2025-06-20 10:01:36,418] Trial 235 finished with value: 0.3767193333333332 and parameters: {'LightGBM (gbdt)': 0.09915496839345354, 'LightGBM (goss)': 0.02195360862336648, 'XGBoost': 0.01615677096910554, 'AutoGluon': 0.2310857454246897, 'LogisticRegression': 0.594108203809237}. Best is trial 220 with value: 0.37687844444444424.\n",
      "[I 2025-06-20 10:01:36,540] Trial 233 finished with value: 0.3767706666666666 and parameters: {'LightGBM (gbdt)': 0.1629598064763212, 'LightGBM (goss)': 0.020145093144985613, 'XGBoost': 0.017460034170991245, 'AutoGluon': 0.25507234799468387, 'LogisticRegression': 0.5908097673039702}. Best is trial 220 with value: 0.37687844444444424.\n",
      "[I 2025-06-20 10:01:42,160] Trial 238 finished with value: 0.37666599999999995 and parameters: {'LightGBM (gbdt)': 0.15922621066178833, 'LightGBM (goss)': 0.03533394886669298, 'XGBoost': 0.0470301546772385, 'AutoGluon': 0.2819897001036158, 'LogisticRegression': 0.6124579498652044}. Best is trial 220 with value: 0.37687844444444424.\n",
      "[I 2025-06-20 10:01:42,469] Trial 239 finished with value: 0.3768071111111111 and parameters: {'LightGBM (gbdt)': 0.09393043192891323, 'LightGBM (goss)': 0.03776991494255931, 'XGBoost': 0.045466385248581306, 'AutoGluon': 0.2778314204760117, 'LogisticRegression': 0.5314046597130403}. Best is trial 220 with value: 0.37687844444444424.\n",
      "[I 2025-06-20 10:01:42,813] Trial 237 finished with value: 0.3767853333333334 and parameters: {'LightGBM (gbdt)': 0.16647957816374462, 'LightGBM (goss)': 0.03638194643342685, 'XGBoost': 0.0003463258787381254, 'AutoGluon': 0.2825928711748409, 'LogisticRegression': 0.6100289726653858}. Best is trial 220 with value: 0.37687844444444424.\n",
      "[I 2025-06-20 10:01:43,010] Trial 236 finished with value: 0.37671066666666675 and parameters: {'LightGBM (gbdt)': 0.1570788691487035, 'LightGBM (goss)': 0.03133637571205512, 'XGBoost': 0.0014802870686934366, 'AutoGluon': 0.2269263488032849, 'LogisticRegression': 0.5413933648198596}. Best is trial 220 with value: 0.37687844444444424.\n",
      "[I 2025-06-20 10:01:47,596] Trial 242 finished with value: 0.37675733333333333 and parameters: {'LightGBM (gbdt)': 0.09658672098695333, 'LightGBM (goss)': 0.004072610890534165, 'XGBoost': 0.04131862333626386, 'AutoGluon': 0.28752996163483613, 'LogisticRegression': 0.4882876034719641}. Best is trial 220 with value: 0.37687844444444424.\n",
      "[I 2025-06-20 10:01:48,128] Trial 243 finished with value: 0.37680733333333344 and parameters: {'LightGBM (gbdt)': 0.09739291630959497, 'LightGBM (goss)': 0.0031705320892573205, 'XGBoost': 0.042632360015348994, 'AutoGluon': 0.28964823704991566, 'LogisticRegression': 0.5307486284969}. Best is trial 220 with value: 0.37687844444444424.\n",
      "[I 2025-06-20 10:01:48,252] Trial 240 finished with value: 0.3768413333333334 and parameters: {'LightGBM (gbdt)': 0.09656019948219582, 'LightGBM (goss)': 0.03968671319669711, 'XGBoost': 0.0022983211107513238, 'AutoGluon': 0.29216756704198366, 'LogisticRegression': 0.5205595104141252}. Best is trial 220 with value: 0.37687844444444424.\n",
      "[I 2025-06-20 10:01:48,612] Trial 241 finished with value: 0.37683222222222235 and parameters: {'LightGBM (gbdt)': 0.11331983715828377, 'LightGBM (goss)': 0.0007130726073627546, 'XGBoost': 5.4918636508572566e-05, 'AutoGluon': 0.28556089895411485, 'LogisticRegression': 0.5477862267958719}. Best is trial 220 with value: 0.37687844444444424.\n",
      "[I 2025-06-20 10:01:53,910] Trial 244 finished with value: 0.3763384444444445 and parameters: {'LightGBM (gbdt)': 0.11349806247409171, 'LightGBM (goss)': 0.044151091638127776, 'XGBoost': 0.059055328499187196, 'AutoGluon': 0.3159149027039206, 'LogisticRegression': 0.4101123717807387}. Best is trial 220 with value: 0.37687844444444424.\n",
      "[I 2025-06-20 10:01:54,447] Trial 245 finished with value: 0.37668733333333315 and parameters: {'LightGBM (gbdt)': 0.11628093243675697, 'LightGBM (goss)': 0.046618849718356954, 'XGBoost': 0.03528221683907901, 'AutoGluon': 0.2678720551030518, 'LogisticRegression': 0.488517828879569}. Best is trial 220 with value: 0.37687844444444424.\n",
      "[I 2025-06-20 10:01:54,586] Trial 246 finished with value: 0.3767839999999999 and parameters: {'LightGBM (gbdt)': 0.11523872702786399, 'LightGBM (goss)': 0.0010660697349733112, 'XGBoost': 0.03372647614618717, 'AutoGluon': 0.27513652456811377, 'LogisticRegression': 0.5082953842574316}. Best is trial 220 with value: 0.37687844444444424.\n",
      "[I 2025-06-20 10:01:54,647] Trial 247 finished with value: 0.3767635555555557 and parameters: {'LightGBM (gbdt)': 0.1140082512890723, 'LightGBM (goss)': 0.04794918425762201, 'XGBoost': 0.00012986812528072156, 'AutoGluon': 0.2877771292539373, 'LogisticRegression': 0.52917428427097}. Best is trial 220 with value: 0.37687844444444424.\n",
      "[I 2025-06-20 10:01:58,039] Trial 248 finished with value: 0.37682199999999993 and parameters: {'LightGBM (gbdt)': 0.09528971576210951, 'LightGBM (goss)': 0.0010306647195774284, 'XGBoost': 4.9673137319086735e-05, 'AutoGluon': 0.2651453070432654, 'LogisticRegression': 0.4996222392339182}. Best is trial 220 with value: 0.37687844444444424.\n",
      "[I 2025-06-20 10:01:58,205] Trial 249 finished with value: 0.37677333333333335 and parameters: {'LightGBM (gbdt)': 0.09433989307088417, 'LightGBM (goss)': 0.02077691363506121, 'XGBoost': 3.3992491049499723e-05, 'AutoGluon': 0.3380909056754037, 'LogisticRegression': 0.5589298411160758}. Best is trial 220 with value: 0.37687844444444424.\n"
     ]
    }
   ],
   "source": [
    "def objective(trial):\n",
    "    weights = [trial.suggest_float(model, 0, 1) for model in models]\n",
    "    weights /= np.sum(weights)\n",
    "\n",
    "    idxs = [0, 7, 14, 21, 28]\n",
    "    pred_probs = np.zeros((X.shape[0], 7))\n",
    "    for idx, weight in zip(idxs, weights):\n",
    "        pred_probs += X.iloc[:, idx:idx+7].values * weight\n",
    "        \n",
    "    return map3(y, pred_probs)\n",
    "\n",
    "sampler = optuna.samplers.TPESampler(seed=CFG.seed)\n",
    "study = optuna.create_study(direction='maximize', sampler=sampler)\n",
    "study.optimize(objective, n_trials=250, n_jobs=-1)"
   ]
  },
  {
   "cell_type": "code",
   "execution_count": 18,
   "id": "53dade27",
   "metadata": {
    "execution": {
     "iopub.execute_input": "2025-06-20T10:01:58.248408Z",
     "iopub.status.busy": "2025-06-20T10:01:58.248067Z",
     "iopub.status.idle": "2025-06-20T10:01:58.326835Z",
     "shell.execute_reply": "2025-06-20T10:01:58.325943Z"
    },
    "papermill": {
     "duration": 0.099114,
     "end_time": "2025-06-20T10:01:58.328513",
     "exception": false,
     "start_time": "2025-06-20T10:01:58.229399",
     "status": "completed"
    },
    "tags": []
   },
   "outputs": [],
   "source": [
    "scores['WeightedEnsemble'] = [study.best_value] * CFG.n_folds\n",
    "\n",
    "best_weights = [study.best_params[model] for model in models]\n",
    "best_weights /= np.sum(best_weights)\n",
    "\n",
    "idxs = [0, 7, 14, 21, 28]\n",
    "weighted_test_preds = np.zeros((X_test.shape[0], 7))\n",
    "for idx, weight in zip(idxs, best_weights):\n",
    "    weighted_test_preds += X_test.iloc[:, idx:idx+7].values * weight"
   ]
  },
  {
   "cell_type": "code",
   "execution_count": 19,
   "id": "73018ff9",
   "metadata": {
    "execution": {
     "iopub.execute_input": "2025-06-20T10:01:58.366224Z",
     "iopub.status.busy": "2025-06-20T10:01:58.365931Z",
     "iopub.status.idle": "2025-06-20T10:02:23.661985Z",
     "shell.execute_reply": "2025-06-20T10:02:23.661218Z"
    },
    "papermill": {
     "duration": 25.316357,
     "end_time": "2025-06-20T10:02:23.663297",
     "exception": false,
     "start_time": "2025-06-20T10:01:58.346940",
     "status": "completed"
    },
    "tags": []
   },
   "outputs": [
    {
     "data": {
      "text/html": [
       "<div>\n",
       "<style scoped>\n",
       "    .dataframe tbody tr th:only-of-type {\n",
       "        vertical-align: middle;\n",
       "    }\n",
       "\n",
       "    .dataframe tbody tr th {\n",
       "        vertical-align: top;\n",
       "    }\n",
       "\n",
       "    .dataframe thead th {\n",
       "        text-align: right;\n",
       "    }\n",
       "</style>\n",
       "<table border=\"1\" class=\"dataframe\">\n",
       "  <thead>\n",
       "    <tr style=\"text-align: right;\">\n",
       "      <th></th>\n",
       "      <th>id</th>\n",
       "      <th>Fertilizer Name</th>\n",
       "    </tr>\n",
       "  </thead>\n",
       "  <tbody>\n",
       "    <tr>\n",
       "      <th>0</th>\n",
       "      <td>750000</td>\n",
       "      <td>10-26-26 20-20 DAP</td>\n",
       "    </tr>\n",
       "    <tr>\n",
       "      <th>1</th>\n",
       "      <td>750001</td>\n",
       "      <td>17-17-17 28-28 10-26-26</td>\n",
       "    </tr>\n",
       "    <tr>\n",
       "      <th>2</th>\n",
       "      <td>750002</td>\n",
       "      <td>20-20 Urea DAP</td>\n",
       "    </tr>\n",
       "    <tr>\n",
       "      <th>3</th>\n",
       "      <td>750003</td>\n",
       "      <td>14-35-14 17-17-17 Urea</td>\n",
       "    </tr>\n",
       "    <tr>\n",
       "      <th>4</th>\n",
       "      <td>750004</td>\n",
       "      <td>Urea 20-20 28-28</td>\n",
       "    </tr>\n",
       "  </tbody>\n",
       "</table>\n",
       "</div>"
      ],
      "text/plain": [
       "       id          Fertilizer Name\n",
       "0  750000       10-26-26 20-20 DAP\n",
       "1  750001  17-17-17 28-28 10-26-26\n",
       "2  750002           20-20 Urea DAP\n",
       "3  750003   14-35-14 17-17-17 Urea\n",
       "4  750004         Urea 20-20 28-28"
      ]
     },
     "execution_count": 19,
     "metadata": {},
     "output_type": "execute_result"
    }
   ],
   "source": [
    "create_submission(\"weighted-ensemble\", weighted_test_preds, np.mean(scores[\"WeightedEnsemble\"])).head()"
   ]
  },
  {
   "cell_type": "markdown",
   "id": "85f30112",
   "metadata": {
    "papermill": {
     "duration": 0.017537,
     "end_time": "2025-06-20T10:02:23.699065",
     "exception": false,
     "start_time": "2025-06-20T10:02:23.681528",
     "status": "completed"
    },
    "tags": []
   },
   "source": [
    "## Weighted VotingClassifier"
   ]
  },
  {
   "cell_type": "code",
   "execution_count": 20,
   "id": "82be7830",
   "metadata": {
    "execution": {
     "iopub.execute_input": "2025-06-20T10:02:23.736123Z",
     "iopub.status.busy": "2025-06-20T10:02:23.735853Z",
     "iopub.status.idle": "2025-06-20T10:02:34.391164Z",
     "shell.execute_reply": "2025-06-20T10:02:34.390349Z"
    },
    "papermill": {
     "duration": 10.675479,
     "end_time": "2025-06-20T10:02:34.392557",
     "exception": false,
     "start_time": "2025-06-20T10:02:23.717078",
     "status": "completed"
    },
    "tags": []
   },
   "outputs": [
    {
     "name": "stdout",
     "output_type": "stream",
     "text": [
      "Training VotingClassifier\n",
      "\n",
      "--- Fold 1 - MAP@3: 0.376452\n",
      "--- Fold 2 - MAP@3: 0.376602\n",
      "--- Fold 3 - MAP@3: 0.378389\n",
      "--- Fold 4 - MAP@3: 0.375652\n",
      "--- Fold 5 - MAP@3: 0.377297\n",
      "\n",
      "------ Overall MAP@3: 0.376878 | Average MAP@3: 0.376878 ± 0.000918\n"
     ]
    }
   ],
   "source": [
    "weighted_voting_model = VotingClassifier(estimators, n_jobs=-1, voting='soft', weights=best_weights)\n",
    "weighted_voting_trainer = Trainer(weighted_voting_model)\n",
    "_, weighted_voting_test_pred_probs, scores[\"VotingClassifier (weighted)\"] = weighted_voting_trainer.fit_predict(X, y, X_test)"
   ]
  },
  {
   "cell_type": "code",
   "execution_count": 21,
   "id": "faf6890f",
   "metadata": {
    "execution": {
     "iopub.execute_input": "2025-06-20T10:02:34.431471Z",
     "iopub.status.busy": "2025-06-20T10:02:34.431139Z",
     "iopub.status.idle": "2025-06-20T10:02:59.934787Z",
     "shell.execute_reply": "2025-06-20T10:02:59.933844Z"
    },
    "papermill": {
     "duration": 25.524729,
     "end_time": "2025-06-20T10:02:59.936351",
     "exception": false,
     "start_time": "2025-06-20T10:02:34.411622",
     "status": "completed"
    },
    "tags": []
   },
   "outputs": [
    {
     "data": {
      "text/html": [
       "<div>\n",
       "<style scoped>\n",
       "    .dataframe tbody tr th:only-of-type {\n",
       "        vertical-align: middle;\n",
       "    }\n",
       "\n",
       "    .dataframe tbody tr th {\n",
       "        vertical-align: top;\n",
       "    }\n",
       "\n",
       "    .dataframe thead th {\n",
       "        text-align: right;\n",
       "    }\n",
       "</style>\n",
       "<table border=\"1\" class=\"dataframe\">\n",
       "  <thead>\n",
       "    <tr style=\"text-align: right;\">\n",
       "      <th></th>\n",
       "      <th>id</th>\n",
       "      <th>Fertilizer Name</th>\n",
       "    </tr>\n",
       "  </thead>\n",
       "  <tbody>\n",
       "    <tr>\n",
       "      <th>0</th>\n",
       "      <td>750000</td>\n",
       "      <td>10-26-26 20-20 DAP</td>\n",
       "    </tr>\n",
       "    <tr>\n",
       "      <th>1</th>\n",
       "      <td>750001</td>\n",
       "      <td>17-17-17 28-28 10-26-26</td>\n",
       "    </tr>\n",
       "    <tr>\n",
       "      <th>2</th>\n",
       "      <td>750002</td>\n",
       "      <td>20-20 Urea DAP</td>\n",
       "    </tr>\n",
       "    <tr>\n",
       "      <th>3</th>\n",
       "      <td>750003</td>\n",
       "      <td>14-35-14 17-17-17 Urea</td>\n",
       "    </tr>\n",
       "    <tr>\n",
       "      <th>4</th>\n",
       "      <td>750004</td>\n",
       "      <td>Urea 20-20 28-28</td>\n",
       "    </tr>\n",
       "  </tbody>\n",
       "</table>\n",
       "</div>"
      ],
      "text/plain": [
       "       id          Fertilizer Name\n",
       "0  750000       10-26-26 20-20 DAP\n",
       "1  750001  17-17-17 28-28 10-26-26\n",
       "2  750002           20-20 Urea DAP\n",
       "3  750003   14-35-14 17-17-17 Urea\n",
       "4  750004         Urea 20-20 28-28"
      ]
     },
     "execution_count": 21,
     "metadata": {},
     "output_type": "execute_result"
    }
   ],
   "source": [
    "create_submission(\"weighted-voting-classifier\", weighted_voting_test_pred_probs, np.mean(scores[\"VotingClassifier (weighted)\"])).head()"
   ]
  },
  {
   "cell_type": "markdown",
   "id": "239a2cfd",
   "metadata": {
    "papermill": {
     "duration": 0.018029,
     "end_time": "2025-06-20T10:02:59.973600",
     "exception": false,
     "start_time": "2025-06-20T10:02:59.955571",
     "status": "completed"
    },
    "tags": []
   },
   "source": [
    "# Results"
   ]
  },
  {
   "cell_type": "code",
   "execution_count": 22,
   "id": "e3eb4862",
   "metadata": {
    "execution": {
     "iopub.execute_input": "2025-06-20T10:03:00.011971Z",
     "iopub.status.busy": "2025-06-20T10:03:00.011645Z",
     "iopub.status.idle": "2025-06-20T10:03:00.629356Z",
     "shell.execute_reply": "2025-06-20T10:03:00.628321Z"
    },
    "papermill": {
     "duration": 0.639216,
     "end_time": "2025-06-20T10:03:00.630876",
     "exception": false,
     "start_time": "2025-06-20T10:02:59.991660",
     "status": "completed"
    },
    "tags": []
   },
   "outputs": [
    {
     "data": {
      "image/png": "[encoded data removed]",
      "text/plain": [
       "<Figure size 1500x400 with 2 Axes>"
      ]
     },
     "metadata": {},
     "output_type": "display_data"
    }
   ],
   "source": [
    "scores = pd.DataFrame(scores)\n",
    "mean_scores = scores.mean().sort_values(ascending=False)\n",
    "order = scores.mean().sort_values(ascending=False).index.tolist()\n",
    "\n",
    "min_score = mean_scores.min()\n",
    "max_score = mean_scores.max()\n",
    "padding = (max_score - min_score) * 0.5\n",
    "lower_limit = min_score - padding\n",
    "upper_limit = max_score + padding\n",
    "\n",
    "fig, axs = plt.subplots(1, 2, figsize=(15, scores.shape[1] * 0.4))\n",
    "\n",
    "boxplot = sns.boxplot(data=scores, order=order, ax=axs[0], orient=\"h\", palette=\"RdYlGn_r\")\n",
    "axs[0].set_title(f\"Fold MAP@3\")\n",
    "axs[0].set_xlabel(\"\")\n",
    "axs[0].set_ylabel(\"\")\n",
    "\n",
    "barplot = sns.barplot(x=mean_scores.values, y=mean_scores.index, ax=axs[1], palette=\"RdYlGn_r\")\n",
    "axs[1].set_title(f\"Mean MAP@3\")\n",
    "axs[1].set_xlabel(\"\")\n",
    "axs[1].set_xlim(left=lower_limit, right=upper_limit)\n",
    "axs[1].set_ylabel(\"\")\n",
    "\n",
    "for i, score in enumerate(mean_scores.values):\n",
    "    barplot.text(score, i, round(score, 6), va=\"center\")\n",
    "\n",
    "plt.tight_layout()\n",
    "plt.show()"
   ]
  }
 ],
 "metadata": {
  "kaggle": {
   "accelerator": "none",
   "dataSources": [
    {
     "databundleVersionId": 12184666,
     "isSourceIdPinned": false,
     "sourceId": 91717,
     "sourceType": "competition"
    },
    {
     "sourceId": 246349609,
     "sourceType": "kernelVersion"
    }
   ],
   "dockerImageVersionId": 31040,
   "isGpuEnabled": false,
   "isInternetEnabled": true,
   "language": "python",
   "sourceType": "notebook"
  },
  "kernelspec": {
   "display_name": "Python 3",
   "language": "python",
   "name": "python3"
  },
  "language_info": {
   "codemirror_mode": {
    "name": "ipython",
    "version": 3
   },
   "file_extension": ".py",
   "mimetype": "text/x-python",
   "name": "python",
   "nbconvert_exporter": "python",
   "pygments_lexer": "ipython3",
   "version": "3.11.11"
  },
  "papermill": {
   "default_parameters": {},
   "duration": 3661.055333,
   "end_time": "2025-06-20T10:03:03.277729",
   "environment_variables": {},
   "exception": null,
   "input_path": "__notebook__.ipynb",
   "output_path": "__notebook__.ipynb",
   "parameters": {},
   "start_time": "2025-06-20T09:02:02.222396",
   "version": "2.6.0"
  }
 },
 "nbformat": 4,
 "nbformat_minor": 5
}
