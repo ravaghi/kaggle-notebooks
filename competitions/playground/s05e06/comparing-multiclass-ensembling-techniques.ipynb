{
 "cells": [
  {
   "cell_type": "markdown",
   "id": "01503c2c",
   "metadata": {
    "papermill": {
     "duration": 0.005766,
     "end_time": "2025-06-29T15:03:03.833583",
     "exception": false,
     "start_time": "2025-06-29T15:03:03.827817",
     "status": "completed"
    },
    "tags": []
   },
   "source": [
    "# Imports and configs"
   ]
  },
  {
   "cell_type": "code",
   "execution_count": 1,
   "id": "8f283efc",
   "metadata": {
    "_kg_hide-output": true,
    "execution": {
     "iopub.execute_input": "2025-06-29T15:03:03.844031Z",
     "iopub.status.busy": "2025-06-29T15:03:03.843641Z",
     "iopub.status.idle": "2025-06-29T15:03:13.505465Z",
     "shell.execute_reply": "2025-06-29T15:03:13.504300Z"
    },
    "papermill": {
     "duration": 9.669347,
     "end_time": "2025-06-29T15:03:13.507519",
     "exception": false,
     "start_time": "2025-06-29T15:03:03.838172",
     "status": "completed"
    },
    "tags": []
   },
   "outputs": [
    {
     "name": "stdout",
     "output_type": "stream",
     "text": [
      "\u001b[2K   \u001b[90m━━━━━━━━━━━━━━━━━━━━━━━━━━━━━━━━━━━━━━━━\u001b[0m \u001b[32m13.3/13.3 MB\u001b[0m \u001b[31m75.7 MB/s\u001b[0m eta \u001b[36m0:00:00\u001b[0m\r\n",
      "\u001b[?25h\u001b[31mERROR: pip's dependency resolver does not currently take into account all the packages that are installed. This behaviour is the source of the following dependency conflicts.\r\n",
      "cesium 0.12.4 requires numpy<3.0,>=2.0, but you have numpy 1.26.4 which is incompatible.\u001b[0m\u001b[31m\r\n",
      "\u001b[0m"
     ]
    }
   ],
   "source": [
    "!pip install -q scikit-learn==1.5.2"
   ]
  },
  {
   "cell_type": "code",
   "execution_count": 2,
   "id": "45635193",
   "metadata": {
    "execution": {
     "iopub.execute_input": "2025-06-29T15:03:13.518793Z",
     "iopub.status.busy": "2025-06-29T15:03:13.518417Z",
     "iopub.status.idle": "2025-06-29T15:03:18.059569Z",
     "shell.execute_reply": "2025-06-29T15:03:18.058614Z"
    },
    "papermill": {
     "duration": 4.548955,
     "end_time": "2025-06-29T15:03:18.061349",
     "exception": false,
     "start_time": "2025-06-29T15:03:13.512394",
     "status": "completed"
    },
    "tags": []
   },
   "outputs": [],
   "source": [
    "from sklearn.ensemble import StackingClassifier, VotingClassifier\n",
    "from sklearn.base import BaseEstimator, ClassifierMixin, clone\n",
    "from sklearn.model_selection import StratifiedKFold\n",
    "from sklearn.linear_model import LogisticRegression\n",
    "from sklearn.preprocessing import LabelEncoder\n",
    "from sklearn.utils import check_array\n",
    "import matplotlib.pyplot as plt\n",
    "import seaborn as sns\n",
    "import pandas as pd\n",
    "import numpy as np\n",
    "import warnings\n",
    "import joblib\n",
    "import optuna\n",
    "import shutil\n",
    "import json\n",
    "import gc\n",
    "\n",
    "warnings.filterwarnings(\"ignore\")"
   ]
  },
  {
   "cell_type": "code",
   "execution_count": 3,
   "id": "eeefe60f",
   "metadata": {
    "execution": {
     "iopub.execute_input": "2025-06-29T15:03:18.072496Z",
     "iopub.status.busy": "2025-06-29T15:03:18.072046Z",
     "iopub.status.idle": "2025-06-29T15:03:18.077014Z",
     "shell.execute_reply": "2025-06-29T15:03:18.076136Z"
    },
    "papermill": {
     "duration": 0.012071,
     "end_time": "2025-06-29T15:03:18.078429",
     "exception": false,
     "start_time": "2025-06-29T15:03:18.066358",
     "status": "completed"
    },
    "tags": []
   },
   "outputs": [],
   "source": [
    "class CFG:\n",
    "    train_path = \"/kaggle/input/playground-series-s5e6/train.csv\"\n",
    "    test_path = \"/kaggle/input/playground-series-s5e6/test.csv\"\n",
    "    sample_sub_path = \"/kaggle/input/playground-series-s5e6/sample_submission.csv\"\n",
    "    \n",
    "    target = \"Fertilizer Name\"\n",
    "    n_folds = 5\n",
    "    seed = 42"
   ]
  },
  {
   "cell_type": "markdown",
   "id": "6ae63818",
   "metadata": {
    "papermill": {
     "duration": 0.004461,
     "end_time": "2025-06-29T15:03:18.087782",
     "exception": false,
     "start_time": "2025-06-29T15:03:18.083321",
     "status": "completed"
    },
    "tags": []
   },
   "source": [
    "# Data loading"
   ]
  },
  {
   "cell_type": "code",
   "execution_count": 4,
   "id": "a1406fb1",
   "metadata": {
    "execution": {
     "iopub.execute_input": "2025-06-29T15:03:18.098704Z",
     "iopub.status.busy": "2025-06-29T15:03:18.098335Z",
     "iopub.status.idle": "2025-06-29T15:03:19.669049Z",
     "shell.execute_reply": "2025-06-29T15:03:19.668214Z"
    },
    "papermill": {
     "duration": 1.578263,
     "end_time": "2025-06-29T15:03:19.670782",
     "exception": false,
     "start_time": "2025-06-29T15:03:18.092519",
     "status": "completed"
    },
    "tags": []
   },
   "outputs": [],
   "source": [
    "train = pd.read_csv(CFG.train_path, index_col=\"id\")\n",
    "test = pd.read_csv(CFG.test_path, index_col=\"id\")\n",
    "\n",
    "label_encoder = LabelEncoder()\n",
    "train[CFG.target] = label_encoder.fit_transform(train[CFG.target])\n",
    "\n",
    "X = train.drop(CFG.target, axis=1)\n",
    "y = train[CFG.target]\n",
    "X_test = test"
   ]
  },
  {
   "cell_type": "code",
   "execution_count": 5,
   "id": "6eb69d50",
   "metadata": {
    "_kg_hide-input": true,
    "execution": {
     "iopub.execute_input": "2025-06-29T15:03:19.681869Z",
     "iopub.status.busy": "2025-06-29T15:03:19.681526Z",
     "iopub.status.idle": "2025-06-29T15:03:19.688553Z",
     "shell.execute_reply": "2025-06-29T15:03:19.687753Z"
    },
    "papermill": {
     "duration": 0.014274,
     "end_time": "2025-06-29T15:03:19.690100",
     "exception": false,
     "start_time": "2025-06-29T15:03:19.675826",
     "status": "completed"
    },
    "tags": []
   },
   "outputs": [],
   "source": [
    "def map3(y_true, y_pred_probs):\n",
    "    y_true = [[x] for x in y_true]\n",
    "    y_pred_probs = np.argsort(y_pred_probs, axis=1)[:, -3:][:, ::-1].tolist()\n",
    "    \n",
    "    def ap3(y_true, y_pred_probs):\n",
    "        y_pred_probs = y_pred_probs[:3]\n",
    "\n",
    "        score = 0.0\n",
    "        num_hits = 0.0\n",
    "\n",
    "        for i,p in enumerate(y_pred_probs):\n",
    "            if p in y_true and p not in y_pred_probs[:i]:\n",
    "                num_hits += 1.0\n",
    "                score += num_hits / (i+1.0)\n",
    "\n",
    "        if not y_true:\n",
    "            return 0.0\n",
    "\n",
    "        return score\n",
    "    \n",
    "    return np.mean([ap3(a,p) for a,p in zip(y_true, y_pred_probs)])"
   ]
  },
  {
   "cell_type": "code",
   "execution_count": 6,
   "id": "2ae10cb9",
   "metadata": {
    "execution": {
     "iopub.execute_input": "2025-06-29T15:03:19.701106Z",
     "iopub.status.busy": "2025-06-29T15:03:19.700781Z",
     "iopub.status.idle": "2025-06-29T15:03:35.494019Z",
     "shell.execute_reply": "2025-06-29T15:03:35.493214Z"
    },
    "papermill": {
     "duration": 15.80055,
     "end_time": "2025-06-29T15:03:35.495685",
     "exception": false,
     "start_time": "2025-06-29T15:03:19.695135",
     "status": "completed"
    },
    "tags": []
   },
   "outputs": [],
   "source": [
    "scores = {}\n",
    "\n",
    "oof_pred_probs = joblib.load(\"/kaggle/input/s05e06-fertilizer-optimization-ensemble/oof_pred_probs.pkl\")\n",
    "test_pred_probs = joblib.load(\"/kaggle/input/s05e06-fertilizer-optimization-ensemble/test_pred_probs.pkl\")\n",
    "\n",
    "start_idx = 0\n",
    "models = [\"LightGBM (gbdt)\", \"LightGBM (goss)\", \"XGBoost\", \"AutoGluon\", \"LogisticRegression\"]\n",
    "for model in models:\n",
    "    fold_scores = []        \n",
    "    \n",
    "    skf = StratifiedKFold(n_splits=CFG.n_folds, random_state=CFG.seed, shuffle=True)\n",
    "    for _, val_idx in skf.split(X, y):   \n",
    "        fold_score = map3(y[val_idx], oof_pred_probs.iloc[val_idx, start_idx:start_idx+7])\n",
    "        fold_scores.append(fold_score)\n",
    "        \n",
    "    scores[model] = fold_scores\n",
    "    start_idx += 7"
   ]
  },
  {
   "cell_type": "code",
   "execution_count": 7,
   "id": "8072ac18",
   "metadata": {
    "_kg_hide-input": true,
    "execution": {
     "iopub.execute_input": "2025-06-29T15:03:35.507399Z",
     "iopub.status.busy": "2025-06-29T15:03:35.506700Z",
     "iopub.status.idle": "2025-06-29T15:03:35.517521Z",
     "shell.execute_reply": "2025-06-29T15:03:35.516630Z"
    },
    "papermill": {
     "duration": 0.018191,
     "end_time": "2025-06-29T15:03:35.519059",
     "exception": false,
     "start_time": "2025-06-29T15:03:35.500868",
     "status": "completed"
    },
    "tags": []
   },
   "outputs": [],
   "source": [
    "class Trainer:\n",
    "    def __init__(self, model, config=CFG):\n",
    "        self.model = model\n",
    "        self.config = config\n",
    "\n",
    "    def fit_predict(self, X, y, X_test):\n",
    "        print(f\"Training {self.model.__class__.__name__}\\n\")\n",
    "        \n",
    "        scores = []        \n",
    "        oof_pred_probs = np.zeros((X.shape[0], y.nunique()))\n",
    "        test_pred_probs = np.zeros((X_test.shape[0], y.nunique()))\n",
    "        \n",
    "        skf = StratifiedKFold(n_splits=self.config.n_folds, random_state=self.config.seed, shuffle=True)\n",
    "        for fold_idx, (train_idx, val_idx) in enumerate(skf.split(X, y)):\n",
    "            X_train, X_val = X.iloc[train_idx], X.iloc[val_idx]\n",
    "            y_train, y_val = y[train_idx], y[val_idx]\n",
    "            \n",
    "            model = clone(self.model)\n",
    "            model.fit(X_train, y_train)\n",
    "            \n",
    "            y_pred_probs = model.predict_proba(X_val)\n",
    "            oof_pred_probs[val_idx] = y_pred_probs\n",
    "            \n",
    "            temp_test_pred_probs = model.predict_proba(X_test)\n",
    "            test_pred_probs += temp_test_pred_probs / self.config.n_folds\n",
    "            \n",
    "            score = map3(y_val, y_pred_probs)\n",
    "            scores.append(score)\n",
    "            \n",
    "            del model, X_train, y_train, X_val, y_val, y_pred_probs\n",
    "            gc.collect()\n",
    "        \n",
    "            print(f\"--- Fold {fold_idx + 1} - MAP@3: {score:.6f}\")\n",
    "                            \n",
    "        overall_score = map3(y, oof_pred_probs)\n",
    "            \n",
    "        print(f\"\\n------ Overall MAP@3: {overall_score:.6f} | Average MAP@3: {np.mean(scores):.6f} ± {np.std(scores):.6f}\")\n",
    "        \n",
    "        return oof_pred_probs, test_pred_probs, scores\n",
    "\n",
    "    def tune(self, X, y):        \n",
    "        scores = []        \n",
    "        \n",
    "        skf = StratifiedKFold(n_splits=self.config.n_folds, random_state=self.config.seed, shuffle=True)\n",
    "        for train_idx, val_idx in skf.split(X, y):\n",
    "            X_train, X_val = X.iloc[train_idx], X.iloc[val_idx]\n",
    "            y_train, y_val = y[train_idx], y[val_idx]\n",
    "            \n",
    "            model = clone(self.model)\n",
    "            model.fit(X_train, y_train)\n",
    "            \n",
    "            y_pred_probs = model.predict_proba(X_val)            \n",
    "            score = map3(y_val, y_pred_probs)\n",
    "            scores.append(score)\n",
    "            \n",
    "            del model, X_train, y_train, X_val, y_val, y_pred_probs\n",
    "            gc.collect()\n",
    "            \n",
    "        return np.mean(scores)"
   ]
  },
  {
   "cell_type": "markdown",
   "id": "d76ccc6a",
   "metadata": {
    "papermill": {
     "duration": 0.004524,
     "end_time": "2025-06-29T15:03:35.529308",
     "exception": false,
     "start_time": "2025-06-29T15:03:35.524784",
     "status": "completed"
    },
    "tags": []
   },
   "source": [
    "# Ensembling"
   ]
  },
  {
   "cell_type": "code",
   "execution_count": 8,
   "id": "c5d13078",
   "metadata": {
    "execution": {
     "iopub.execute_input": "2025-06-29T15:03:35.539981Z",
     "iopub.status.busy": "2025-06-29T15:03:35.539686Z",
     "iopub.status.idle": "2025-06-29T15:03:35.546189Z",
     "shell.execute_reply": "2025-06-29T15:03:35.545301Z"
    },
    "papermill": {
     "duration": 0.01367,
     "end_time": "2025-06-29T15:03:35.547670",
     "exception": false,
     "start_time": "2025-06-29T15:03:35.534000",
     "status": "completed"
    },
    "tags": []
   },
   "outputs": [],
   "source": [
    "X = oof_pred_probs\n",
    "X_test = test_pred_probs"
   ]
  },
  {
   "cell_type": "code",
   "execution_count": 9,
   "id": "34209db3",
   "metadata": {
    "execution": {
     "iopub.execute_input": "2025-06-29T15:03:35.558824Z",
     "iopub.status.busy": "2025-06-29T15:03:35.558492Z",
     "iopub.status.idle": "2025-06-29T15:03:35.563907Z",
     "shell.execute_reply": "2025-06-29T15:03:35.563031Z"
    },
    "papermill": {
     "duration": 0.012718,
     "end_time": "2025-06-29T15:03:35.565495",
     "exception": false,
     "start_time": "2025-06-29T15:03:35.552777",
     "status": "completed"
    },
    "tags": []
   },
   "outputs": [],
   "source": [
    "def create_submission(model, test_pred_probs, score):\n",
    "    final_predictions = []\n",
    "    for i in np.argsort(test_pred_probs)[:, -3:][:, ::-1]:\n",
    "        prediction = label_encoder.inverse_transform(i)\n",
    "        final_predictions.append(\" \".join(prediction))\n",
    "\n",
    "    sub = pd.read_csv(CFG.sample_sub_path)\n",
    "    sub[CFG.target] = final_predictions\n",
    "    sub.to_csv(f\"sub_{model}_{score:.6f}.csv\", index=False)\n",
    "    \n",
    "    return sub"
   ]
  },
  {
   "cell_type": "markdown",
   "id": "e1f7c56a",
   "metadata": {
    "papermill": {
     "duration": 0.004899,
     "end_time": "2025-06-29T15:03:35.575600",
     "exception": false,
     "start_time": "2025-06-29T15:03:35.570701",
     "status": "completed"
    },
    "tags": []
   },
   "source": [
    "## LogisticRegression"
   ]
  },
  {
   "cell_type": "code",
   "execution_count": 10,
   "id": "a65bb842",
   "metadata": {
    "execution": {
     "iopub.execute_input": "2025-06-29T15:03:35.586969Z",
     "iopub.status.busy": "2025-06-29T15:03:35.586650Z",
     "iopub.status.idle": "2025-06-29T15:06:53.459244Z",
     "shell.execute_reply": "2025-06-29T15:06:53.458202Z"
    },
    "papermill": {
     "duration": 197.880129,
     "end_time": "2025-06-29T15:06:53.460824",
     "exception": false,
     "start_time": "2025-06-29T15:03:35.580695",
     "status": "completed"
    },
    "tags": []
   },
   "outputs": [
    {
     "name": "stdout",
     "output_type": "stream",
     "text": [
      "Training LogisticRegression\n",
      "\n",
      "--- Fold 1 - MAP@3: 0.376682\n",
      "--- Fold 2 - MAP@3: 0.376606\n",
      "--- Fold 3 - MAP@3: 0.378680\n",
      "--- Fold 4 - MAP@3: 0.375892\n",
      "--- Fold 5 - MAP@3: 0.377308\n",
      "\n",
      "------ Overall MAP@3: 0.377034 | Average MAP@3: 0.377034 ± 0.000938\n"
     ]
    }
   ],
   "source": [
    "lr_model = LogisticRegression(**{\n",
    "    'random_state': CFG.seed,\n",
    "    'max_iter': 10000,\n",
    "    'solver': 'liblinear',\n",
    "    'penalty': 'l2',\n",
    "    'C': 8.258833245228981, \n",
    "    'tol': 0.0013820006449731708, \n",
    "    'fit_intercept': True, \n",
    "    'class_weight': None\n",
    "}) \n",
    "\n",
    "lr_trainer = Trainer(lr_model)\n",
    "_, lr_test_pred_probs, scores[\"LogisticRegression (ensemble)\"] = lr_trainer.fit_predict(X, y, X_test)"
   ]
  },
  {
   "cell_type": "code",
   "execution_count": 11,
   "id": "4943f292",
   "metadata": {
    "execution": {
     "iopub.execute_input": "2025-06-29T15:06:53.474199Z",
     "iopub.status.busy": "2025-06-29T15:06:53.473863Z",
     "iopub.status.idle": "2025-06-29T15:07:19.868419Z",
     "shell.execute_reply": "2025-06-29T15:07:19.867426Z"
    },
    "papermill": {
     "duration": 26.402913,
     "end_time": "2025-06-29T15:07:19.870189",
     "exception": false,
     "start_time": "2025-06-29T15:06:53.467276",
     "status": "completed"
    },
    "tags": []
   },
   "outputs": [
    {
     "data": {
      "text/html": [
       "<div>\n",
       "<style scoped>\n",
       "    .dataframe tbody tr th:only-of-type {\n",
       "        vertical-align: middle;\n",
       "    }\n",
       "\n",
       "    .dataframe tbody tr th {\n",
       "        vertical-align: top;\n",
       "    }\n",
       "\n",
       "    .dataframe thead th {\n",
       "        text-align: right;\n",
       "    }\n",
       "</style>\n",
       "<table border=\"1\" class=\"dataframe\">\n",
       "  <thead>\n",
       "    <tr style=\"text-align: right;\">\n",
       "      <th></th>\n",
       "      <th>id</th>\n",
       "      <th>Fertilizer Name</th>\n",
       "    </tr>\n",
       "  </thead>\n",
       "  <tbody>\n",
       "    <tr>\n",
       "      <th>0</th>\n",
       "      <td>750000</td>\n",
       "      <td>10-26-26 20-20 DAP</td>\n",
       "    </tr>\n",
       "    <tr>\n",
       "      <th>1</th>\n",
       "      <td>750001</td>\n",
       "      <td>17-17-17 28-28 10-26-26</td>\n",
       "    </tr>\n",
       "    <tr>\n",
       "      <th>2</th>\n",
       "      <td>750002</td>\n",
       "      <td>20-20 Urea DAP</td>\n",
       "    </tr>\n",
       "    <tr>\n",
       "      <th>3</th>\n",
       "      <td>750003</td>\n",
       "      <td>14-35-14 17-17-17 Urea</td>\n",
       "    </tr>\n",
       "    <tr>\n",
       "      <th>4</th>\n",
       "      <td>750004</td>\n",
       "      <td>Urea 20-20 28-28</td>\n",
       "    </tr>\n",
       "  </tbody>\n",
       "</table>\n",
       "</div>"
      ],
      "text/plain": [
       "       id          Fertilizer Name\n",
       "0  750000       10-26-26 20-20 DAP\n",
       "1  750001  17-17-17 28-28 10-26-26\n",
       "2  750002           20-20 Urea DAP\n",
       "3  750003   14-35-14 17-17-17 Urea\n",
       "4  750004         Urea 20-20 28-28"
      ]
     },
     "execution_count": 11,
     "metadata": {},
     "output_type": "execute_result"
    }
   ],
   "source": [
    "create_submission(\"logistic-regression\", lr_test_pred_probs, np.mean(scores[\"LogisticRegression (ensemble)\"])).head()"
   ]
  },
  {
   "cell_type": "markdown",
   "id": "5758a6fa",
   "metadata": {
    "papermill": {
     "duration": 0.005263,
     "end_time": "2025-06-29T15:07:19.881445",
     "exception": false,
     "start_time": "2025-06-29T15:07:19.876182",
     "status": "completed"
    },
    "tags": []
   },
   "source": [
    "## StackingClassifier"
   ]
  },
  {
   "cell_type": "code",
   "execution_count": 12,
   "id": "fc972ac2",
   "metadata": {
    "_kg_hide-input": true,
    "execution": {
     "iopub.execute_input": "2025-06-29T15:07:19.893627Z",
     "iopub.status.busy": "2025-06-29T15:07:19.893279Z",
     "iopub.status.idle": "2025-06-29T15:07:19.900067Z",
     "shell.execute_reply": "2025-06-29T15:07:19.899066Z"
    },
    "papermill": {
     "duration": 0.01509,
     "end_time": "2025-06-29T15:07:19.901857",
     "exception": false,
     "start_time": "2025-06-29T15:07:19.886767",
     "status": "completed"
    },
    "tags": []
   },
   "outputs": [],
   "source": [
    "# This is just a trick to avoid refitting all base models from scratch, which is what StackingClassifier and VotingClassifier do by default\n",
    "\n",
    "class PassThroughClassifier(BaseEstimator, ClassifierMixin):\n",
    "    def __init__(self, idx_cols):\n",
    "        self.idx_cols = idx_cols\n",
    "        self.is_fitted_ = True\n",
    "\n",
    "    def fit(self, X, y=None):\n",
    "        return self\n",
    "\n",
    "    def predict_proba(self, X):\n",
    "        return check_array(X)[:, self.idx_cols]\n",
    "\n",
    "\n",
    "estimators = [\n",
    "    ('LightGBM (gbdt)', PassThroughClassifier(list(range(0, 7)))),\n",
    "    ('LightGBM (goss)', PassThroughClassifier(list(range(7, 14)))),\n",
    "    ('XGBoost', PassThroughClassifier(list(range(14, 21)))),\n",
    "    ('AutoGluon', PassThroughClassifier(list(range(21, 28)))),\n",
    "    ('LogisticRegression', PassThroughClassifier(list(range(28, 35)))),\n",
    "]"
   ]
  },
  {
   "cell_type": "code",
   "execution_count": 13,
   "id": "c8f5bb9c",
   "metadata": {
    "execution": {
     "iopub.execute_input": "2025-06-29T15:07:19.914258Z",
     "iopub.status.busy": "2025-06-29T15:07:19.913941Z",
     "iopub.status.idle": "2025-06-29T15:10:39.187343Z",
     "shell.execute_reply": "2025-06-29T15:10:39.186208Z"
    },
    "papermill": {
     "duration": 199.281334,
     "end_time": "2025-06-29T15:10:39.188947",
     "exception": false,
     "start_time": "2025-06-29T15:07:19.907613",
     "status": "completed"
    },
    "tags": []
   },
   "outputs": [
    {
     "name": "stdout",
     "output_type": "stream",
     "text": [
      "Training StackingClassifier\n",
      "\n",
      "--- Fold 1 - MAP@3: 0.376682\n",
      "--- Fold 2 - MAP@3: 0.376606\n",
      "--- Fold 3 - MAP@3: 0.378680\n",
      "--- Fold 4 - MAP@3: 0.375892\n",
      "--- Fold 5 - MAP@3: 0.377308\n",
      "\n",
      "------ Overall MAP@3: 0.377034 | Average MAP@3: 0.377034 ± 0.000938\n"
     ]
    }
   ],
   "source": [
    "stacking_model = StackingClassifier(estimators, cv='prefit', n_jobs=-1, final_estimator=clone(lr_model))\n",
    "stacking_trainer = Trainer(stacking_model)\n",
    "_, stacking_test_pred_probs, scores[\"StackingClassifier\"] = stacking_trainer.fit_predict(X, y, X_test)"
   ]
  },
  {
   "cell_type": "code",
   "execution_count": 14,
   "id": "9076814a",
   "metadata": {
    "execution": {
     "iopub.execute_input": "2025-06-29T15:10:39.202965Z",
     "iopub.status.busy": "2025-06-29T15:10:39.202649Z",
     "iopub.status.idle": "2025-06-29T15:11:05.628728Z",
     "shell.execute_reply": "2025-06-29T15:11:05.627613Z"
    },
    "papermill": {
     "duration": 26.435503,
     "end_time": "2025-06-29T15:11:05.630931",
     "exception": false,
     "start_time": "2025-06-29T15:10:39.195428",
     "status": "completed"
    },
    "tags": []
   },
   "outputs": [
    {
     "data": {
      "text/html": [
       "<div>\n",
       "<style scoped>\n",
       "    .dataframe tbody tr th:only-of-type {\n",
       "        vertical-align: middle;\n",
       "    }\n",
       "\n",
       "    .dataframe tbody tr th {\n",
       "        vertical-align: top;\n",
       "    }\n",
       "\n",
       "    .dataframe thead th {\n",
       "        text-align: right;\n",
       "    }\n",
       "</style>\n",
       "<table border=\"1\" class=\"dataframe\">\n",
       "  <thead>\n",
       "    <tr style=\"text-align: right;\">\n",
       "      <th></th>\n",
       "      <th>id</th>\n",
       "      <th>Fertilizer Name</th>\n",
       "    </tr>\n",
       "  </thead>\n",
       "  <tbody>\n",
       "    <tr>\n",
       "      <th>0</th>\n",
       "      <td>750000</td>\n",
       "      <td>10-26-26 20-20 DAP</td>\n",
       "    </tr>\n",
       "    <tr>\n",
       "      <th>1</th>\n",
       "      <td>750001</td>\n",
       "      <td>17-17-17 28-28 10-26-26</td>\n",
       "    </tr>\n",
       "    <tr>\n",
       "      <th>2</th>\n",
       "      <td>750002</td>\n",
       "      <td>20-20 Urea DAP</td>\n",
       "    </tr>\n",
       "    <tr>\n",
       "      <th>3</th>\n",
       "      <td>750003</td>\n",
       "      <td>14-35-14 17-17-17 Urea</td>\n",
       "    </tr>\n",
       "    <tr>\n",
       "      <th>4</th>\n",
       "      <td>750004</td>\n",
       "      <td>Urea 20-20 28-28</td>\n",
       "    </tr>\n",
       "  </tbody>\n",
       "</table>\n",
       "</div>"
      ],
      "text/plain": [
       "       id          Fertilizer Name\n",
       "0  750000       10-26-26 20-20 DAP\n",
       "1  750001  17-17-17 28-28 10-26-26\n",
       "2  750002           20-20 Urea DAP\n",
       "3  750003   14-35-14 17-17-17 Urea\n",
       "4  750004         Urea 20-20 28-28"
      ]
     },
     "execution_count": 14,
     "metadata": {},
     "output_type": "execute_result"
    }
   ],
   "source": [
    "create_submission(\"stacking-classifier\", stacking_test_pred_probs, np.mean(scores[\"StackingClassifier\"])).head()"
   ]
  },
  {
   "cell_type": "markdown",
   "id": "b2617c31",
   "metadata": {
    "papermill": {
     "duration": 0.006657,
     "end_time": "2025-06-29T15:11:05.650157",
     "exception": false,
     "start_time": "2025-06-29T15:11:05.643500",
     "status": "completed"
    },
    "tags": []
   },
   "source": [
    "## VotingClassifier"
   ]
  },
  {
   "cell_type": "code",
   "execution_count": 15,
   "id": "b4e6eb9d",
   "metadata": {
    "execution": {
     "iopub.execute_input": "2025-06-29T15:11:05.664861Z",
     "iopub.status.busy": "2025-06-29T15:11:05.664431Z",
     "iopub.status.idle": "2025-06-29T15:11:17.176779Z",
     "shell.execute_reply": "2025-06-29T15:11:17.175450Z"
    },
    "papermill": {
     "duration": 11.52206,
     "end_time": "2025-06-29T15:11:17.178475",
     "exception": false,
     "start_time": "2025-06-29T15:11:05.656415",
     "status": "completed"
    },
    "tags": []
   },
   "outputs": [
    {
     "name": "stdout",
     "output_type": "stream",
     "text": [
      "Training VotingClassifier\n",
      "\n",
      "--- Fold 1 - MAP@3: 0.372964\n",
      "--- Fold 2 - MAP@3: 0.373240\n",
      "--- Fold 3 - MAP@3: 0.374519\n",
      "--- Fold 4 - MAP@3: 0.372252\n",
      "--- Fold 5 - MAP@3: 0.373658\n",
      "\n",
      "------ Overall MAP@3: 0.373327 | Average MAP@3: 0.373327 ± 0.000752\n"
     ]
    }
   ],
   "source": [
    "voting_model = VotingClassifier(estimators, n_jobs=-1, voting='soft')\n",
    "voting_trainer = Trainer(voting_model)\n",
    "_, voting_test_pred_probs, scores[\"VotingClassifier\"] = voting_trainer.fit_predict(X, y, X_test)"
   ]
  },
  {
   "cell_type": "code",
   "execution_count": 16,
   "id": "9720e8a4",
   "metadata": {
    "execution": {
     "iopub.execute_input": "2025-06-29T15:11:17.193202Z",
     "iopub.status.busy": "2025-06-29T15:11:17.192499Z",
     "iopub.status.idle": "2025-06-29T15:11:43.128481Z",
     "shell.execute_reply": "2025-06-29T15:11:43.127510Z"
    },
    "papermill": {
     "duration": 25.944846,
     "end_time": "2025-06-29T15:11:43.130029",
     "exception": false,
     "start_time": "2025-06-29T15:11:17.185183",
     "status": "completed"
    },
    "tags": []
   },
   "outputs": [
    {
     "data": {
      "text/html": [
       "<div>\n",
       "<style scoped>\n",
       "    .dataframe tbody tr th:only-of-type {\n",
       "        vertical-align: middle;\n",
       "    }\n",
       "\n",
       "    .dataframe tbody tr th {\n",
       "        vertical-align: top;\n",
       "    }\n",
       "\n",
       "    .dataframe thead th {\n",
       "        text-align: right;\n",
       "    }\n",
       "</style>\n",
       "<table border=\"1\" class=\"dataframe\">\n",
       "  <thead>\n",
       "    <tr style=\"text-align: right;\">\n",
       "      <th></th>\n",
       "      <th>id</th>\n",
       "      <th>Fertilizer Name</th>\n",
       "    </tr>\n",
       "  </thead>\n",
       "  <tbody>\n",
       "    <tr>\n",
       "      <th>0</th>\n",
       "      <td>750000</td>\n",
       "      <td>10-26-26 20-20 DAP</td>\n",
       "    </tr>\n",
       "    <tr>\n",
       "      <th>1</th>\n",
       "      <td>750001</td>\n",
       "      <td>17-17-17 28-28 10-26-26</td>\n",
       "    </tr>\n",
       "    <tr>\n",
       "      <th>2</th>\n",
       "      <td>750002</td>\n",
       "      <td>20-20 Urea DAP</td>\n",
       "    </tr>\n",
       "    <tr>\n",
       "      <th>3</th>\n",
       "      <td>750003</td>\n",
       "      <td>14-35-14 17-17-17 10-26-26</td>\n",
       "    </tr>\n",
       "    <tr>\n",
       "      <th>4</th>\n",
       "      <td>750004</td>\n",
       "      <td>Urea 20-20 28-28</td>\n",
       "    </tr>\n",
       "  </tbody>\n",
       "</table>\n",
       "</div>"
      ],
      "text/plain": [
       "       id             Fertilizer Name\n",
       "0  750000          10-26-26 20-20 DAP\n",
       "1  750001     17-17-17 28-28 10-26-26\n",
       "2  750002              20-20 Urea DAP\n",
       "3  750003  14-35-14 17-17-17 10-26-26\n",
       "4  750004            Urea 20-20 28-28"
      ]
     },
     "execution_count": 16,
     "metadata": {},
     "output_type": "execute_result"
    }
   ],
   "source": [
    "create_submission(\"voting-classifier\", voting_test_pred_probs, np.mean(scores[\"VotingClassifier\"])).head()"
   ]
  },
  {
   "cell_type": "markdown",
   "id": "5c901376",
   "metadata": {
    "papermill": {
     "duration": 0.006199,
     "end_time": "2025-06-29T15:11:43.143049",
     "exception": false,
     "start_time": "2025-06-29T15:11:43.136850",
     "status": "completed"
    },
    "tags": []
   },
   "source": [
    "## Weighted averaging"
   ]
  },
  {
   "cell_type": "code",
   "execution_count": 17,
   "id": "cfbee011",
   "metadata": {
    "_kg_hide-output": true,
    "execution": {
     "iopub.execute_input": "2025-06-29T15:11:43.158203Z",
     "iopub.status.busy": "2025-06-29T15:11:43.157231Z",
     "iopub.status.idle": "2025-06-29T15:18:26.877261Z",
     "shell.execute_reply": "2025-06-29T15:18:26.876331Z"
    },
    "papermill": {
     "duration": 403.72976,
     "end_time": "2025-06-29T15:18:26.879246",
     "exception": false,
     "start_time": "2025-06-29T15:11:43.149486",
     "status": "completed"
    },
    "scrolled": true,
    "tags": []
   },
   "outputs": [
    {
     "name": "stderr",
     "output_type": "stream",
     "text": [
      "[I 2025-06-29 15:11:43,162] A new study created in memory with name: no-name-cc5bbbf8-f20d-416a-a663-48043f8ba402\n",
      "[I 2025-06-29 15:11:49,266] Trial 1 finished with value: 0.37526999999999994 and parameters: {'LightGBM (gbdt)': -0.9476435475048219, 'LightGBM (goss)': 0.8999872271496969, 'XGBoost': 0.39722580591835355, 'AutoGluon': 0.38773323125788695, 'LogisticRegression': 0.8839968610286677}. Best is trial 1 with value: 0.37526999999999994.\n",
      "[I 2025-06-29 15:11:49,882] Trial 0 finished with value: 0.36767866666666676 and parameters: {'LightGBM (gbdt)': 0.9152516202223473, 'LightGBM (goss)': 0.7052545270872024, 'XGBoost': 0.6990403612733598, 'AutoGluon': 0.45262750752721903, 'LogisticRegression': -0.0348730714121237}. Best is trial 1 with value: 0.37526999999999994.\n",
      "[I 2025-06-29 15:11:49,882] Trial 3 finished with value: 0.369713777777778 and parameters: {'LightGBM (gbdt)': -0.6462240241656501, 'LightGBM (goss)': 0.17313011929817823, 'XGBoost': -0.9892572548246936, 'AutoGluon': 0.599017442023543, 'LogisticRegression': -0.4179332294146396}. Best is trial 1 with value: 0.37526999999999994.\n",
      "[I 2025-06-29 15:11:50,300] Trial 2 finished with value: 0.31345111111111107 and parameters: {'LightGBM (gbdt)': 0.3384229946694872, 'LightGBM (goss)': 0.3092522728674554, 'XGBoost': 0.27939842856981545, 'AutoGluon': -0.46853231391550065, 'LogisticRegression': -0.3635824850978515}. Best is trial 1 with value: 0.37526999999999994.\n",
      "[I 2025-06-29 15:11:56,311] Trial 5 finished with value: 0.3188286666666667 and parameters: {'LightGBM (gbdt)': -0.9430213187920125, 'LightGBM (goss)': -0.8160026089947849, 'XGBoost': 0.11230047451145153, 'AutoGluon': 0.4590115907374568, 'LogisticRegression': 0.6961436501908447}. Best is trial 1 with value: 0.37526999999999994.\n",
      "[I 2025-06-29 15:11:56,457] Trial 4 finished with value: 0.22645111111111102 and parameters: {'LightGBM (gbdt)': 0.676379084489674, 'LightGBM (goss)': 0.5477400033042741, 'XGBoost': -0.952110187968364, 'AutoGluon': 0.4533802803651297, 'LogisticRegression': -0.6114399901057435}. Best is trial 1 with value: 0.37526999999999994.\n",
      "[I 2025-06-29 15:11:56,606] Trial 7 finished with value: 0.3385526666666667 and parameters: {'LightGBM (gbdt)': 0.5796257281604567, 'LightGBM (goss)': 0.03240794691146265, 'XGBoost': 0.713536743233878, 'AutoGluon': 0.8339980201305388, 'LogisticRegression': -0.5729253015950644}. Best is trial 1 with value: 0.37526999999999994.\n",
      "[I 2025-06-29 15:11:57,109] Trial 6 finished with value: 0.2824082222222222 and parameters: {'LightGBM (gbdt)': -0.3134354849086982, 'LightGBM (goss)': -0.05371752564653609, 'XGBoost': -0.18136091143068622, 'AutoGluon': 0.1545112869005003, 'LogisticRegression': 0.3202436842378453}. Best is trial 1 with value: 0.37526999999999994.\n",
      "[I 2025-06-29 15:12:01,256] Trial 8 finished with value: 0.2997166666666667 and parameters: {'LightGBM (gbdt)': 0.13171901331828684, 'LightGBM (goss)': -0.07107797863504617, 'XGBoost': 0.6230266147184853, 'AutoGluon': -0.590690771494363, 'LogisticRegression': -0.3537069258176415}. Best is trial 1 with value: 0.37526999999999994.\n",
      "[I 2025-06-29 15:12:02,285] Trial 10 finished with value: 0.36548600000000014 and parameters: {'LightGBM (gbdt)': 0.9885779275606219, 'LightGBM (goss)': 0.4906060921049147, 'XGBoost': 0.32411438536144876, 'AutoGluon': -0.008008863262568777, 'LogisticRegression': -0.11253949419175457}. Best is trial 1 with value: 0.37526999999999994.\n",
      "[I 2025-06-29 15:12:02,363] Trial 9 finished with value: 0.2567511111111112 and parameters: {'LightGBM (gbdt)': -0.04458830685140658, 'LightGBM (goss)': 0.27436588557075026, 'XGBoost': 0.08112881917554615, 'AutoGluon': -0.993940912780432, 'LogisticRegression': 0.13466764594744318}. Best is trial 1 with value: 0.37526999999999994.\n",
      "[I 2025-06-29 15:12:04,614] Trial 11 finished with value: 0.3715744444444443 and parameters: {'LightGBM (gbdt)': -0.06590919629628678, 'LightGBM (goss)': 0.7712891226706948, 'XGBoost': 0.9778664352902797, 'AutoGluon': -0.3825359161322235, 'LogisticRegression': 0.5218736213742565}. Best is trial 1 with value: 0.37526999999999994.\n",
      "[I 2025-06-29 15:12:07,164] Trial 12 finished with value: 0.36573111111111095 and parameters: {'LightGBM (gbdt)': -0.7562923334008205, 'LightGBM (goss)': -0.042658074938098034, 'XGBoost': 0.5947749599603891, 'AutoGluon': -0.08350283367682354, 'LogisticRegression': 0.6704220437261155}. Best is trial 1 with value: 0.37526999999999994.\n",
      "[I 2025-06-29 15:12:08,422] Trial 14 finished with value: 0.3694062222222221 and parameters: {'LightGBM (gbdt)': -0.9949812205448181, 'LightGBM (goss)': 0.9245135828285456, 'XGBoost': -0.9595888148365174, 'AutoGluon': 0.8525658904240285, 'LogisticRegression': -0.9697891573310562}. Best is trial 1 with value: 0.37526999999999994.\n",
      "[I 2025-06-29 15:12:08,630] Trial 13 finished with value: 0.3166413333333334 and parameters: {'LightGBM (gbdt)': -0.9254885623404385, 'LightGBM (goss)': -0.49166801444612274, 'XGBoost': -0.9641042373051277, 'AutoGluon': 0.9556669339449805, 'LogisticRegression': 0.9802578861688407}. Best is trial 1 with value: 0.37526999999999994.\n",
      "[I 2025-06-29 15:12:12,178] Trial 15 finished with value: 0.3718353333333332 and parameters: {'LightGBM (gbdt)': -0.38633162762267004, 'LightGBM (goss)': 0.8851196602334284, 'XGBoost': -0.3968213154675009, 'AutoGluon': -0.206475401503873, 'LogisticRegression': 0.9838116684533049}. Best is trial 1 with value: 0.37526999999999994.\n",
      "[I 2025-06-29 15:12:13,280] Trial 16 finished with value: 0.3720322222222221 and parameters: {'LightGBM (gbdt)': -0.33796335177983083, 'LightGBM (goss)': 0.9860990816767319, 'XGBoost': -0.27105104950474457, 'AutoGluon': -0.3432482446245912, 'LogisticRegression': 0.9990228565501953}. Best is trial 1 with value: 0.37526999999999994.\n",
      "[I 2025-06-29 15:12:14,234] Trial 17 finished with value: 0.3731515555555554 and parameters: {'LightGBM (gbdt)': -0.32858848493241694, 'LightGBM (goss)': 0.9651884718118118, 'XGBoost': 0.9947278882625425, 'AutoGluon': -0.35536817174582785, 'LogisticRegression': 0.9183978735112024}. Best is trial 1 with value: 0.37526999999999994.\n",
      "[I 2025-06-29 15:12:15,395] Trial 18 finished with value: 0.3717286666666666 and parameters: {'LightGBM (gbdt)': -0.4003527827343907, 'LightGBM (goss)': 0.9932061042788312, 'XGBoost': 0.984260953694676, 'AutoGluon': -0.32167834902313075, 'LogisticRegression': 0.5290496356723687}. Best is trial 1 with value: 0.37526999999999994.\n",
      "[I 2025-06-29 15:12:18,390] Trial 19 finished with value: 0.3741431111111111 and parameters: {'LightGBM (gbdt)': -0.5082798837483757, 'LightGBM (goss)': 0.9226072718704615, 'XGBoost': -0.40475714042223404, 'AutoGluon': 0.13561594540496436, 'LogisticRegression': 0.956804175647372}. Best is trial 1 with value: 0.37526999999999994.\n",
      "[I 2025-06-29 15:12:18,697] Trial 20 finished with value: 0.3737160000000001 and parameters: {'LightGBM (gbdt)': -0.4049271966407605, 'LightGBM (goss)': 0.9700344158264954, 'XGBoost': -0.5087704469005514, 'AutoGluon': 0.1793021346679885, 'LogisticRegression': 0.7755468998047528}. Best is trial 1 with value: 0.37526999999999994.\n",
      "[I 2025-06-29 15:12:20,721] Trial 21 finished with value: 0.36533888888888894 and parameters: {'LightGBM (gbdt)': -0.5983759840404049, 'LightGBM (goss)': -0.36480582190421107, 'XGBoost': 0.9126198880852912, 'AutoGluon': 0.1910636393869004, 'LogisticRegression': 0.4148009047888679}. Best is trial 1 with value: 0.37526999999999994.\n",
      "[I 2025-06-29 15:12:23,170] Trial 23 finished with value: 0.33320577777777777 and parameters: {'LightGBM (gbdt)': -0.6644631031844324, 'LightGBM (goss)': 0.5237595602583568, 'XGBoost': -0.6125751813898521, 'AutoGluon': 0.1826536270517613, 'LogisticRegression': 0.26586202266398384}. Best is trial 1 with value: 0.37526999999999994.\n",
      "[I 2025-06-29 15:12:23,271] Trial 22 finished with value: 0.25286400000000003 and parameters: {'LightGBM (gbdt)': -0.6574568195354884, 'LightGBM (goss)': -0.38404444766243073, 'XGBoost': 0.45003498633865563, 'AutoGluon': -0.7300424434013435, 'LogisticRegression': 0.7623576571863316}. Best is trial 1 with value: 0.37526999999999994.\n",
      "[I 2025-06-29 15:12:23,517] Trial 24 finished with value: 0.3547891111111111 and parameters: {'LightGBM (gbdt)': -0.6510744011244584, 'LightGBM (goss)': 0.6186550008102134, 'XGBoost': -0.6268390680093916, 'AutoGluon': 0.09302704377746576, 'LogisticRegression': 0.7820569455194691}. Best is trial 1 with value: 0.37526999999999994.\n",
      "[I 2025-06-29 15:12:28,354] Trial 25 finished with value: 0.364267111111111 and parameters: {'LightGBM (gbdt)': -0.6094236899945734, 'LightGBM (goss)': 0.6736127206821775, 'XGBoost': -0.5991951741433185, 'AutoGluon': 0.19059207395221248, 'LogisticRegression': 0.7750229964294555}. Best is trial 1 with value: 0.37526999999999994.\n",
      "[I 2025-06-29 15:12:29,117] Trial 26 finished with value: 0.36889066666666653 and parameters: {'LightGBM (gbdt)': -0.5227184679241025, 'LightGBM (goss)': 0.7561818295457852, 'XGBoost': -0.637537371607438, 'AutoGluon': 0.2863856768833677, 'LogisticRegression': 0.7453996817559403}. Best is trial 1 with value: 0.37526999999999994.\n",
      "[I 2025-06-29 15:12:29,565] Trial 27 finished with value: 0.37422311111111123 and parameters: {'LightGBM (gbdt)': -0.1052203282161363, 'LightGBM (goss)': 0.6993680698782757, 'XGBoost': -0.6118842942830944, 'AutoGluon': 0.23415325229947503, 'LogisticRegression': 0.7711429281736528}. Best is trial 1 with value: 0.37526999999999994.\n",
      "[I 2025-06-29 15:12:31,274] Trial 28 finished with value: 0.3737675555555555 and parameters: {'LightGBM (gbdt)': -0.13275182776816996, 'LightGBM (goss)': 0.7775743904217695, 'XGBoost': -0.549286702358513, 'AutoGluon': 0.31260259178655714, 'LogisticRegression': 0.586457599289939}. Best is trial 1 with value: 0.37526999999999994.\n",
      "[I 2025-06-29 15:12:33,929] Trial 29 finished with value: 0.37473488888888884 and parameters: {'LightGBM (gbdt)': -0.17086795046601577, 'LightGBM (goss)': 0.7891942520012318, 'XGBoost': -0.17920641849916988, 'AutoGluon': 0.31261252366574654, 'LogisticRegression': 0.53094697245666}. Best is trial 1 with value: 0.37526999999999994.\n",
      "[I 2025-06-29 15:12:34,509] Trial 30 finished with value: 0.3744406666666666 and parameters: {'LightGBM (gbdt)': -0.16448362164334995, 'LightGBM (goss)': 0.8124120987214094, 'XGBoost': -0.11791512693186867, 'AutoGluon': 0.6481717395865508, 'LogisticRegression': 0.574246069792696}. Best is trial 1 with value: 0.37526999999999994.\n",
      "[I 2025-06-29 15:12:35,955] Trial 31 finished with value: 0.3750131111111111 and parameters: {'LightGBM (gbdt)': -0.15019047343003483, 'LightGBM (goss)': 0.4173132795676008, 'XGBoost': -0.09391727377352699, 'AutoGluon': 0.6241424123163485, 'LogisticRegression': 0.5366987404757222}. Best is trial 1 with value: 0.37526999999999994.\n",
      "[I 2025-06-29 15:12:38,698] Trial 32 finished with value: 0.2567791111111112 and parameters: {'LightGBM (gbdt)': -0.8079509199602952, 'LightGBM (goss)': 0.3928695537434144, 'XGBoost': -0.05986313144902122, 'AutoGluon': 0.6570813471245827, 'LogisticRegression': 0.09934640368587166}. Best is trial 1 with value: 0.37526999999999994.\n",
      "[I 2025-06-29 15:12:39,792] Trial 33 finished with value: 0.3624315555555555 and parameters: {'LightGBM (gbdt)': 0.20127510992291753, 'LightGBM (goss)': 0.3926690071581241, 'XGBoost': -0.13937083736455785, 'AutoGluon': 0.5909065411447203, 'LogisticRegression': 0.030203009950546478}. Best is trial 1 with value: 0.37526999999999994.\n",
      "[I 2025-06-29 15:12:40,569] Trial 34 finished with value: 0.37393244444444435 and parameters: {'LightGBM (gbdt)': 0.11447005677189187, 'LightGBM (goss)': 0.3655027916277942, 'XGBoost': -0.0950773420134033, 'AutoGluon': 0.6277104170159384, 'LogisticRegression': 0.3999441695886605}. Best is trial 1 with value: 0.37526999999999994.\n",
      "[I 2025-06-29 15:12:43,246] Trial 35 finished with value: 0.3644871111111111 and parameters: {'LightGBM (gbdt)': 0.14570872875406854, 'LightGBM (goss)': 0.4580835365906518, 'XGBoost': -0.10183973927818396, 'AutoGluon': 0.6286049332480271, 'LogisticRegression': 0.060527391014983875}. Best is trial 1 with value: 0.37526999999999994.\n",
      "[I 2025-06-29 15:12:44,907] Trial 36 finished with value: 0.3740760000000001 and parameters: {'LightGBM (gbdt)': 0.1539397763619193, 'LightGBM (goss)': 0.43011931818501553, 'XGBoost': -0.05260757691216164, 'AutoGluon': 0.6241406888616075, 'LogisticRegression': 0.4251401253933911}. Best is trial 1 with value: 0.37526999999999994.\n",
      "[I 2025-06-29 15:12:45,214] Trial 37 finished with value: 0.3726797777777778 and parameters: {'LightGBM (gbdt)': -0.19035775870883706, 'LightGBM (goss)': 0.8298530898728662, 'XGBoost': 0.2150044979716899, 'AutoGluon': 0.6557212577474945, 'LogisticRegression': 0.4008439527523237}. Best is trial 1 with value: 0.37526999999999994.\n",
      "[I 2025-06-29 15:12:47,479] Trial 38 finished with value: 0.37630377777777785 and parameters: {'LightGBM (gbdt)': -0.20358616296437293, 'LightGBM (goss)': 0.1531767719453705, 'XGBoost': 0.2039716258609396, 'AutoGluon': 0.41189999857798176, 'LogisticRegression': 0.5846916184047648}. Best is trial 38 with value: 0.37630377777777785.\n",
      "[I 2025-06-29 15:12:49,273] Trial 39 finished with value: 0.3755928888888888 and parameters: {'LightGBM (gbdt)': 0.29513637214192057, 'LightGBM (goss)': 0.1754743899970911, 'XGBoost': 0.19927800138518018, 'AutoGluon': 0.39447212696836076, 'LogisticRegression': 0.5846597559076602}. Best is trial 38 with value: 0.37630377777777785.\n",
      "[I 2025-06-29 15:12:50,363] Trial 40 finished with value: 0.371104222222222 and parameters: {'LightGBM (gbdt)': -0.21231401063385089, 'LightGBM (goss)': 0.17661754452696077, 'XGBoost': 0.18894870479673487, 'AutoGluon': 0.48378917947535, 'LogisticRegression': 0.22039906443607898}. Best is trial 38 with value: 0.37630377777777785.\n",
      "[I 2025-06-29 15:12:51,459] Trial 41 finished with value: 0.349508 and parameters: {'LightGBM (gbdt)': 0.3226084797552903, 'LightGBM (goss)': 0.12445000690028934, 'XGBoost': 0.07006680198826881, 'AutoGluon': 0.38488511689610877, 'LogisticRegression': -0.16081753461563209}. Best is trial 38 with value: 0.37630377777777785.\n",
      "[I 2025-06-29 15:12:55,594] Trial 42 finished with value: 0.3734208888888889 and parameters: {'LightGBM (gbdt)': 0.4284548759556627, 'LightGBM (goss)': 0.14838111345586036, 'XGBoost': 0.05805014398569408, 'AutoGluon': 0.3805628633799151, 'LogisticRegression': 0.27168563943092294}. Best is trial 38 with value: 0.37630377777777785.\n",
      "[I 2025-06-29 15:12:55,926] Trial 43 finished with value: 0.3628173333333333 and parameters: {'LightGBM (gbdt)': 0.5026784245838218, 'LightGBM (goss)': 0.13325167442221625, 'XGBoost': 0.3784149293831741, 'AutoGluon': 0.44691240491120715, 'LogisticRegression': -0.13342263131035442}. Best is trial 38 with value: 0.37630377777777785.\n",
      "[I 2025-06-29 15:12:56,514] Trial 44 finished with value: 0.37506711111111124 and parameters: {'LightGBM (gbdt)': 0.47049058552438294, 'LightGBM (goss)': 0.11830901527768395, 'XGBoost': 0.3561166257266619, 'AutoGluon': 0.3582852630838732, 'LogisticRegression': 0.6056136477089423}. Best is trial 38 with value: 0.37630377777777785.\n",
      "[I 2025-06-29 15:12:56,702] Trial 45 finished with value: 0.374613111111111 and parameters: {'LightGBM (gbdt)': 0.5773736491570909, 'LightGBM (goss)': 0.23501805767752926, 'XGBoost': 0.39925609016955343, 'AutoGluon': 0.3445811571169554, 'LogisticRegression': 0.6406308919514822}. Best is trial 38 with value: 0.37630377777777785.\n",
      "[I 2025-06-29 15:13:02,265] Trial 48 finished with value: 0.37537355555555535 and parameters: {'LightGBM (gbdt)': 0.706085258894498, 'LightGBM (goss)': -0.12055872182021507, 'XGBoost': 0.4761075932550482, 'AutoGluon': 0.7648375259474641, 'LogisticRegression': 0.8686856038244783}. Best is trial 38 with value: 0.37630377777777785.\n",
      "[I 2025-06-29 15:13:02,491] Trial 49 finished with value: 0.37528066666666665 and parameters: {'LightGBM (gbdt)': 0.7830588432389476, 'LightGBM (goss)': -0.17120021509418287, 'XGBoost': 0.542954902361054, 'AutoGluon': 0.7840472217679163, 'LogisticRegression': 0.8948839185166511}. Best is trial 38 with value: 0.37630377777777785.\n",
      "[I 2025-06-29 15:13:03,038] Trial 46 finished with value: 0.375150888888889 and parameters: {'LightGBM (gbdt)': 0.6926070374240405, 'LightGBM (goss)': -0.15016085948408842, 'XGBoost': 0.3572284940408879, 'AutoGluon': 0.5199456355126807, 'LogisticRegression': 0.6526855035014874}. Best is trial 38 with value: 0.37630377777777785.\n",
      "[I 2025-06-29 15:13:03,262] Trial 47 finished with value: 0.375007111111111 and parameters: {'LightGBM (gbdt)': 0.06178516143331783, 'LightGBM (goss)': -0.20993202813831757, 'XGBoost': 0.43248033240123407, 'AutoGluon': 0.7854870991413808, 'LogisticRegression': 0.6580967787993286}. Best is trial 38 with value: 0.37630377777777785.\n",
      "[I 2025-06-29 15:13:08,901] Trial 51 finished with value: 0.37520933333333323 and parameters: {'LightGBM (gbdt)': 0.7793409825080561, 'LightGBM (goss)': -0.17422313751418744, 'XGBoost': 0.5549509222762908, 'AutoGluon': 0.7680763976920437, 'LogisticRegression': 0.8660972953299931}. Best is trial 38 with value: 0.37630377777777785.\n",
      "[I 2025-06-29 15:13:09,381] Trial 50 finished with value: 0.3752431111111111 and parameters: {'LightGBM (gbdt)': 0.8422368983470244, 'LightGBM (goss)': -0.16089655317853493, 'XGBoost': 0.4978182765377055, 'AutoGluon': 0.7605996624708671, 'LogisticRegression': 0.8779831393742947}. Best is trial 38 with value: 0.37630377777777785.\n",
      "[I 2025-06-29 15:13:09,450] Trial 53 finished with value: 0.37483399999999995 and parameters: {'LightGBM (gbdt)': 0.8117918033573019, 'LightGBM (goss)': -0.17962154852576423, 'XGBoost': 0.5326222146520544, 'AutoGluon': 0.9991211626236908, 'LogisticRegression': 0.885141840450994}. Best is trial 38 with value: 0.37630377777777785.\n",
      "[I 2025-06-29 15:13:09,886] Trial 52 finished with value: 0.37511533333333325 and parameters: {'LightGBM (gbdt)': 0.8139607060577064, 'LightGBM (goss)': -0.18284058794504363, 'XGBoost': 0.5471633542924345, 'AutoGluon': 0.819895022986959, 'LogisticRegression': 0.8782444297655893}. Best is trial 38 with value: 0.37630377777777785.\n",
      "[I 2025-06-29 15:13:14,476] Trial 54 finished with value: 0.37485977777777774 and parameters: {'LightGBM (gbdt)': 0.8137658129512774, 'LightGBM (goss)': -0.24180650445738988, 'XGBoost': 0.5599321226511588, 'AutoGluon': 0.9955684819657282, 'LogisticRegression': 0.8964868011692553}. Best is trial 38 with value: 0.37630377777777785.\n",
      "[I 2025-06-29 15:13:15,356] Trial 56 finished with value: 0.3747791111111112 and parameters: {'LightGBM (gbdt)': 0.9762761431655145, 'LightGBM (goss)': -0.644575641017737, 'XGBoost': 0.7278808058391704, 'AutoGluon': 0.8889571220834609, 'LogisticRegression': 0.8607436954269938}. Best is trial 38 with value: 0.37630377777777785.\n",
      "[I 2025-06-29 15:13:15,438] Trial 55 finished with value: 0.3749122222222221 and parameters: {'LightGBM (gbdt)': 0.9373095718139705, 'LightGBM (goss)': -0.8254245957643528, 'XGBoost': 0.7337196759304425, 'AutoGluon': 0.750420516210886, 'LogisticRegression': 0.8601148853820149}. Best is trial 38 with value: 0.37630377777777785.\n",
      "[I 2025-06-29 15:13:16,144] Trial 57 finished with value: 0.37489266666666665 and parameters: {'LightGBM (gbdt)': 0.9334851734009266, 'LightGBM (goss)': -0.7724918010159109, 'XGBoost': 0.2543023071536123, 'AutoGluon': 0.9091286888860972, 'LogisticRegression': 0.8302354749206444}. Best is trial 38 with value: 0.37630377777777785.\n",
      "[I 2025-06-29 15:13:20,584] Trial 58 finished with value: 0.374622888888889 and parameters: {'LightGBM (gbdt)': 0.9724319299305457, 'LightGBM (goss)': -0.5844374257274902, 'XGBoost': 0.6675641623177111, 'AutoGluon': 0.9081189637501602, 'LogisticRegression': 0.8214519319464262}. Best is trial 38 with value: 0.37630377777777785.\n",
      "[I 2025-06-29 15:13:21,450] Trial 59 finished with value: 0.37473355555555565 and parameters: {'LightGBM (gbdt)': 0.717249257964777, 'LightGBM (goss)': 0.024873810559330578, 'XGBoost': 0.1946973690358872, 'AutoGluon': 0.8960095205579539, 'LogisticRegression': 0.7228777419903146}. Best is trial 38 with value: 0.37630377777777785.\n",
      "[I 2025-06-29 15:13:21,801] Trial 60 finished with value: 0.3745566666666666 and parameters: {'LightGBM (gbdt)': 0.7042010054639618, 'LightGBM (goss)': 0.005018042005879802, 'XGBoost': 0.26738070912422784, 'AutoGluon': 0.9126190417218782, 'LogisticRegression': 0.6985028312831827}. Best is trial 38 with value: 0.37630377777777785.\n",
      "[I 2025-06-29 15:13:22,526] Trial 61 finished with value: 0.3747617777777776 and parameters: {'LightGBM (gbdt)': 0.6598267702272338, 'LightGBM (goss)': 0.0021533104986274643, 'XGBoost': 0.8454949554459072, 'AutoGluon': 0.04412440411771841, 'LogisticRegression': 0.996699859081708}. Best is trial 38 with value: 0.37630377777777785.\n",
      "[I 2025-06-29 15:13:26,573] Trial 63 finished with value: 0.24869400000000008 and parameters: {'LightGBM (gbdt)': 0.6147667442936489, 'LightGBM (goss)': -0.32854935729832846, 'XGBoost': 0.8123942555900978, 'AutoGluon': 0.058990742775986094, 'LogisticRegression': -0.9316773539241503}. Best is trial 38 with value: 0.37630377777777785.\n",
      "[I 2025-06-29 15:13:26,885] Trial 62 finished with value: 0.3737675555555557 and parameters: {'LightGBM (gbdt)': 0.6902765215160804, 'LightGBM (goss)': -0.010003044272854103, 'XGBoost': 0.8418700767478988, 'AutoGluon': -0.02111719229214496, 'LogisticRegression': 0.7097372782289799}. Best is trial 38 with value: 0.37630377777777785.\n",
      "[I 2025-06-29 15:13:27,886] Trial 64 finished with value: 0.3755077777777778 and parameters: {'LightGBM (gbdt)': 0.6033161466062678, 'LightGBM (goss)': -0.3027044491472569, 'XGBoost': 0.8261856743615381, 'AutoGluon': 0.7292709229002556, 'LogisticRegression': 0.9881934520802198}. Best is trial 38 with value: 0.37630377777777785.\n",
      "[I 2025-06-29 15:13:31,464] Trial 65 finished with value: 0.37617133333333336 and parameters: {'LightGBM (gbdt)': 0.34367985679098445, 'LightGBM (goss)': -0.29301027780783795, 'XGBoost': 0.49452579208713277, 'AutoGluon': 0.732301464184776, 'LogisticRegression': 0.9391540511230286}. Best is trial 38 with value: 0.37630377777777785.\n",
      "[I 2025-06-29 15:13:32,861] Trial 66 finished with value: 0.3753408888888889 and parameters: {'LightGBM (gbdt)': 0.8639426244762465, 'LightGBM (goss)': -0.1252518695776761, 'XGBoost': 0.4891203472864283, 'AutoGluon': 0.7402060947633922, 'LogisticRegression': 0.923562815759831}. Best is trial 38 with value: 0.37630377777777785.\n",
      "[I 2025-06-29 15:13:32,914] Trial 68 finished with value: 0.3761922222222223 and parameters: {'LightGBM (gbdt)': 0.2728103546495405, 'LightGBM (goss)': -0.08509806656094054, 'XGBoost': 0.45638937846891214, 'AutoGluon': 0.7443474251509581, 'LogisticRegression': 0.9603502195156028}. Best is trial 38 with value: 0.37630377777777785.\n",
      "[I 2025-06-29 15:13:32,978] Trial 67 finished with value: 0.3753019999999999 and parameters: {'LightGBM (gbdt)': 0.8562170876896409, 'LightGBM (goss)': -0.11062981801875515, 'XGBoost': 0.48093003679931656, 'AutoGluon': 0.7257098351536146, 'LogisticRegression': 0.9006515150138891}. Best is trial 38 with value: 0.37630377777777785.\n",
      "[I 2025-06-29 15:13:38,480] Trial 69 finished with value: 0.376364 and parameters: {'LightGBM (gbdt)': 0.2679448014959344, 'LightGBM (goss)': -0.44441230514011953, 'XGBoost': 0.15101693983120645, 'AutoGluon': 0.5370817713449654, 'LogisticRegression': 0.9446970160200948}. Best is trial 69 with value: 0.376364.\n",
      "[I 2025-06-29 15:13:38,885] Trial 71 finished with value: 0.3760980000000001 and parameters: {'LightGBM (gbdt)': 0.34353191743680533, 'LightGBM (goss)': -0.2633640572190551, 'XGBoost': 0.6360831915568427, 'AutoGluon': 0.5351202030232467, 'LogisticRegression': 0.9501489304482398}. Best is trial 69 with value: 0.376364.\n",
      "[I 2025-06-29 15:13:39,503] Trial 70 finished with value: 0.37624466666666667 and parameters: {'LightGBM (gbdt)': 0.28667055855948004, 'LightGBM (goss)': -0.2814614018049944, 'XGBoost': 0.6417437442853188, 'AutoGluon': 0.5281963589637267, 'LogisticRegression': 0.9612844483084706}. Best is trial 69 with value: 0.376364.\n",
      "[I 2025-06-29 15:13:39,711] Trial 72 finished with value: 0.3766895555555555 and parameters: {'LightGBM (gbdt)': 0.2678953986771879, 'LightGBM (goss)': -0.3013619452273325, 'XGBoost': 0.12515062259431986, 'AutoGluon': 0.5315914456219935, 'LogisticRegression': 0.941180776420998}. Best is trial 72 with value: 0.3766895555555555.\n",
      "[I 2025-06-29 15:13:45,776] Trial 75 finished with value: 0.37671577777777776 and parameters: {'LightGBM (gbdt)': 0.2773170301945589, 'LightGBM (goss)': -0.2816413288363564, 'XGBoost': 0.1372807511500384, 'AutoGluon': 0.5458846419428182, 'LogisticRegression': 0.9460162406655289}. Best is trial 75 with value: 0.37671577777777776.\n",
      "[I 2025-06-29 15:13:46,471] Trial 74 finished with value: 0.37676377777777775 and parameters: {'LightGBM (gbdt)': 0.2769984376662343, 'LightGBM (goss)': -0.28388427455612164, 'XGBoost': 0.146035903153639, 'AutoGluon': 0.5372884811485437, 'LogisticRegression': 0.9531032338078116}. Best is trial 74 with value: 0.37676377777777775.\n",
      "[I 2025-06-29 15:13:46,914] Trial 73 finished with value: 0.376697111111111 and parameters: {'LightGBM (gbdt)': 0.2747641669391367, 'LightGBM (goss)': -0.2984452368899051, 'XGBoost': 0.14243313808895997, 'AutoGluon': 0.5578214231037529, 'LogisticRegression': 0.9555175420504431}. Best is trial 74 with value: 0.37676377777777775.\n",
      "[I 2025-06-29 15:13:47,386] Trial 76 finished with value: 0.37635533333333343 and parameters: {'LightGBM (gbdt)': 0.2735018821690373, 'LightGBM (goss)': -0.4486600764972126, 'XGBoost': 0.13357086943366725, 'AutoGluon': 0.5505405604103557, 'LogisticRegression': 0.9472061234797718}. Best is trial 74 with value: 0.37676377777777775.\n",
      "[I 2025-06-29 15:13:51,320] Trial 77 finished with value: 0.37611022222222235 and parameters: {'LightGBM (gbdt)': 0.2753381119626196, 'LightGBM (goss)': -0.4904110560107231, 'XGBoost': 0.1263588570688139, 'AutoGluon': 0.47823667061370384, 'LogisticRegression': 0.9574931999734283}. Best is trial 74 with value: 0.37676377777777775.\n",
      "[I 2025-06-29 15:13:52,476] Trial 79 finished with value: 0.37576222222222216 and parameters: {'LightGBM (gbdt)': 0.2310265931102712, 'LightGBM (goss)': -0.418534296542845, 'XGBoost': 0.009285061851280252, 'AutoGluon': 0.5523853118301805, 'LogisticRegression': 0.8049239251024941}. Best is trial 74 with value: 0.37676377777777775.\n",
      "[I 2025-06-29 15:13:52,926] Trial 78 finished with value: 0.3760964444444445 and parameters: {'LightGBM (gbdt)': 0.25062614634874053, 'LightGBM (goss)': -0.43391243108881283, 'XGBoost': 0.13261438173615298, 'AutoGluon': 0.5472661132605978, 'LogisticRegression': 0.7888643685102771}. Best is trial 74 with value: 0.37676377777777775.\n",
      "[I 2025-06-29 15:13:53,618] Trial 80 finished with value: 0.37439711111111124 and parameters: {'LightGBM (gbdt)': 0.0031825614727962748, 'LightGBM (goss)': -0.42844492180982807, 'XGBoost': 0.11965774627179779, 'AutoGluon': 0.5427439408662825, 'LogisticRegression': 0.767331696701839}. Best is trial 74 with value: 0.37676377777777775.\n",
      "[I 2025-06-29 15:13:58,557] Trial 83 finished with value: 0.37544133333333335 and parameters: {'LightGBM (gbdt)': 0.3857128448953643, 'LightGBM (goss)': -0.5922044410668521, 'XGBoost': 0.011032118608730435, 'AutoGluon': 0.43085526139415464, 'LogisticRegression': 0.9980526502943519}. Best is trial 74 with value: 0.37676377777777775.\n",
      "[I 2025-06-29 15:13:58,708] Trial 81 finished with value: 0.3749682222222223 and parameters: {'LightGBM (gbdt)': 0.017538042127655085, 'LightGBM (goss)': -0.41631296760345415, 'XGBoost': 0.12927871725444792, 'AutoGluon': 0.5564103761238278, 'LogisticRegression': 0.8098446734843059}. Best is trial 74 with value: 0.37676377777777775.\n",
      "[I 2025-06-29 15:13:58,852] Trial 82 finished with value: 0.37352599999999986 and parameters: {'LightGBM (gbdt)': 0.015990100321858103, 'LightGBM (goss)': -0.4526372927380581, 'XGBoost': 0.1323734534777446, 'AutoGluon': 0.25215022482324495, 'LogisticRegression': 0.792260026342714}. Best is trial 74 with value: 0.37676377777777775.\n",
      "[I 2025-06-29 15:13:59,551] Trial 84 finished with value: 0.376278 and parameters: {'LightGBM (gbdt)': 0.39890511045372556, 'LightGBM (goss)': -0.5547745297035365, 'XGBoost': 0.2945743225412006, 'AutoGluon': 0.4443231359546988, 'LogisticRegression': 0.9958933792234533}. Best is trial 74 with value: 0.37676377777777775.\n",
      "[I 2025-06-29 15:14:04,997] Trial 86 finished with value: 0.37598511111111094 and parameters: {'LightGBM (gbdt)': 0.21238512565355044, 'LightGBM (goss)': -0.35995817516633777, 'XGBoost': 0.27855037140081573, 'AutoGluon': 0.24402224759775126, 'LogisticRegression': 0.9320076430169729}. Best is trial 74 with value: 0.37676377777777775.\n",
      "[I 2025-06-29 15:14:05,551] Trial 85 finished with value: 0.37595377777777766 and parameters: {'LightGBM (gbdt)': 0.19736772386295176, 'LightGBM (goss)': -0.49306683071438895, 'XGBoost': 0.27758383907352646, 'AutoGluon': 0.6766115889043374, 'LogisticRegression': 0.9326051309052253}. Best is trial 74 with value: 0.37676377777777775.\n",
      "[I 2025-06-29 15:14:05,618] Trial 87 finished with value: 0.3765322222222223 and parameters: {'LightGBM (gbdt)': 0.20265804989009822, 'LightGBM (goss)': -0.3569954799587116, 'XGBoost': 0.3231738901350912, 'AutoGluon': 0.4850392222795466, 'LogisticRegression': 0.9188471760175578}. Best is trial 74 with value: 0.37676377777777775.\n",
      "[I 2025-06-29 15:14:06,143] Trial 88 finished with value: 0.330739111111111 and parameters: {'LightGBM (gbdt)': 0.20354773403981224, 'LightGBM (goss)': -0.36346476521487137, 'XGBoost': 0.28888656180563943, 'AutoGluon': 0.42029677059671217, 'LogisticRegression': -0.06049488205552522}. Best is trial 74 with value: 0.37676377777777775.\n",
      "[I 2025-06-29 15:14:11,699] Trial 92 finished with value: 0.37472600000000006 and parameters: {'LightGBM (gbdt)': 0.4952348174601723, 'LightGBM (goss)': -0.5505067103647225, 'XGBoost': 0.32546594475567364, 'AutoGluon': 0.460329724684624, 'LogisticRegression': 0.468515688029284}. Best is trial 74 with value: 0.37676377777777775.\n",
      "[I 2025-06-29 15:14:12,106] Trial 89 finished with value: 0.37623222222222225 and parameters: {'LightGBM (gbdt)': 0.39357216003775786, 'LightGBM (goss)': -0.5438022042878204, 'XGBoost': 0.3210384107982448, 'AutoGluon': 0.42410018589278986, 'LogisticRegression': 0.9278077842834717}. Best is trial 74 with value: 0.37676377777777775.\n",
      "[I 2025-06-29 15:14:12,244] Trial 91 finished with value: 0.27554000000000006 and parameters: {'LightGBM (gbdt)': 0.40549751906570447, 'LightGBM (goss)': -0.5305152516336116, 'XGBoost': 0.3208387376199268, 'AutoGluon': 0.4555613778353288, 'LogisticRegression': -0.25864047269391377}. Best is trial 74 with value: 0.37676377777777775.\n",
      "[I 2025-06-29 15:14:12,390] Trial 90 finished with value: 0.34812711111111133 and parameters: {'LightGBM (gbdt)': 0.10235415626806824, 'LightGBM (goss)': -0.7227653367233642, 'XGBoost': 0.05908803702344327, 'AutoGluon': 0.4127451012033314, 'LogisticRegression': 0.46652633552448075}. Best is trial 74 with value: 0.37676377777777775.\n",
      "[I 2025-06-29 15:14:16,779] Trial 93 finished with value: 0.36964155555555556 and parameters: {'LightGBM (gbdt)': 0.10236085273270051, 'LightGBM (goss)': -0.6815002877832721, 'XGBoost': 0.06421958327979956, 'AutoGluon': 0.5997976940595401, 'LogisticRegression': 0.7293610598826475}. Best is trial 74 with value: 0.37676377777777775.\n",
      "[I 2025-06-29 15:14:17,786] Trial 94 finished with value: 0.37260911111111117 and parameters: {'LightGBM (gbdt)': 0.10002633941896563, 'LightGBM (goss)': -0.6305229499130695, 'XGBoost': 0.05446127331188309, 'AutoGluon': 0.5938314708522144, 'LogisticRegression': 0.8426720585640487}. Best is trial 74 with value: 0.37676377777777775.\n",
      "[I 2025-06-29 15:14:18,968] Trial 95 finished with value: 0.37055800000000005 and parameters: {'LightGBM (gbdt)': 0.08081875044136458, 'LightGBM (goss)': -0.6871682771539493, 'XGBoost': 0.03583410929319057, 'AutoGluon': 0.5884820190479527, 'LogisticRegression': 0.8354076927567106}. Best is trial 74 with value: 0.37676377777777775.\n",
      "[I 2025-06-29 15:14:19,229] Trial 96 finished with value: 0.371877111111111 and parameters: {'LightGBM (gbdt)': 0.45924903729663413, 'LightGBM (goss)': -0.9011865982990805, 'XGBoost': -0.02253357724279087, 'AutoGluon': 0.5886749965648013, 'LogisticRegression': 0.8409732230375737}. Best is trial 74 with value: 0.37676377777777775.\n",
      "[I 2025-06-29 15:14:23,799] Trial 97 finished with value: 0.37255799999999983 and parameters: {'LightGBM (gbdt)': 0.4459581432764437, 'LightGBM (goss)': -0.9615251068528881, 'XGBoost': 0.22709011889047362, 'AutoGluon': 0.3397427495149178, 'LogisticRegression': 0.8379186333359966}. Best is trial 74 with value: 0.37676377777777775.\n",
      "[I 2025-06-29 15:14:24,019] Trial 98 finished with value: 0.3721388888888887 and parameters: {'LightGBM (gbdt)': -0.2628734148262571, 'LightGBM (goss)': -0.3129678933582938, 'XGBoost': -0.03590232958448378, 'AutoGluon': 0.5123852882783839, 'LogisticRegression': 0.9923576703494185}. Best is trial 74 with value: 0.37676377777777775.\n",
      "[I 2025-06-29 15:14:25,126] Trial 99 finished with value: 0.3698184444444445 and parameters: {'LightGBM (gbdt)': 0.16248367283832915, 'LightGBM (goss)': -0.9191110703448316, 'XGBoost': -0.042022485337949556, 'AutoGluon': 0.4945494802601754, 'LogisticRegression': -0.5292340720758768}. Best is trial 74 with value: 0.37676377777777775.\n",
      "[I 2025-06-29 15:14:25,128] Trial 100 finished with value: 0.3757135555555556 and parameters: {'LightGBM (gbdt)': 0.15265624328635205, 'LightGBM (goss)': -0.25478045257990983, 'XGBoost': -0.21587088200742882, 'AutoGluon': 0.5022016525509905, 'LogisticRegression': 0.971199807644868}. Best is trial 74 with value: 0.37676377777777775.\n",
      "[I 2025-06-29 15:14:31,493] Trial 102 finished with value: 0.26725533333333323 and parameters: {'LightGBM (gbdt)': 0.3126994589066029, 'LightGBM (goss)': 0.07578317372341373, 'XGBoost': 0.16811519420189988, 'AutoGluon': 0.694713627571096, 'LogisticRegression': -0.607145162944259}. Best is trial 74 with value: 0.37676377777777775.\n",
      "[I 2025-06-29 15:14:31,734] Trial 104 finished with value: 0.3763173333333335 and parameters: {'LightGBM (gbdt)': 0.3756011574383854, 'LightGBM (goss)': -0.3725732211231521, 'XGBoost': 0.4049403065878824, 'AutoGluon': 0.6827919865702985, 'LogisticRegression': 0.9176111878634372}. Best is trial 74 with value: 0.37676377777777775.\n",
      "[I 2025-06-29 15:14:31,735] Trial 103 finished with value: 0.37624 and parameters: {'LightGBM (gbdt)': 0.533459750916609, 'LightGBM (goss)': -0.48257505380827337, 'XGBoost': 0.1577771690706333, 'AutoGluon': 0.6871458362995078, 'LogisticRegression': 0.9224040622067082}. Best is trial 74 with value: 0.37676377777777775.\n",
      "[I 2025-06-29 15:14:31,907] Trial 101 finished with value: 0.3765075555555556 and parameters: {'LightGBM (gbdt)': 0.5286862837598536, 'LightGBM (goss)': -0.25467546921833184, 'XGBoost': 0.18508858224229038, 'AutoGluon': 0.5035245292142101, 'LogisticRegression': 0.9769046381495913}. Best is trial 74 with value: 0.37676377777777775.\n",
      "[I 2025-06-29 15:14:37,873] Trial 108 finished with value: 0.37581644444444434 and parameters: {'LightGBM (gbdt)': -0.0631331769318278, 'LightGBM (goss)': -0.2171531732146743, 'XGBoost': 0.21870817080494348, 'AutoGluon': 0.2842606744408611, 'LogisticRegression': 0.896572542858549}. Best is trial 74 with value: 0.37676377777777775.\n",
      "[I 2025-06-29 15:14:37,941] Trial 105 finished with value: 0.37616222222222223 and parameters: {'LightGBM (gbdt)': 0.37547867332887225, 'LightGBM (goss)': -0.4776403546288125, 'XGBoost': 0.17893274860303968, 'AutoGluon': 0.2991077322313407, 'LogisticRegression': 0.9145585607638257}. Best is trial 74 with value: 0.37676377777777775.\n",
      "[I 2025-06-29 15:14:38,351] Trial 107 finished with value: 0.3765524444444446 and parameters: {'LightGBM (gbdt)': 0.35640441409376233, 'LightGBM (goss)': -0.36941915096633793, 'XGBoost': 0.23318437982356405, 'AutoGluon': 0.37340955215298904, 'LogisticRegression': 0.8881863056723487}. Best is trial 74 with value: 0.37676377777777775.\n",
      "[I 2025-06-29 15:14:38,989] Trial 106 finished with value: 0.3735399999999999 and parameters: {'LightGBM (gbdt)': 0.30313030506586797, 'LightGBM (goss)': -0.3807091041498647, 'XGBoost': 0.41823796923927503, 'AutoGluon': -0.1991707706008985, 'LogisticRegression': 0.894425408077463}. Best is trial 74 with value: 0.37676377777777775.\n",
      "[I 2025-06-29 15:14:43,724] Trial 111 finished with value: 0.37625800000000015 and parameters: {'LightGBM (gbdt)': 0.25491575862457355, 'LightGBM (goss)': -0.374978642763276, 'XGBoost': 0.08890549001828096, 'AutoGluon': 0.37906173112992436, 'LogisticRegression': 0.6981985008907472}. Best is trial 74 with value: 0.37676377777777775.\n",
      "[I 2025-06-29 15:14:43,969] Trial 110 finished with value: 0.3601742222222222 and parameters: {'LightGBM (gbdt)': 0.36746596703149637, 'LightGBM (goss)': -0.3703592385294513, 'XGBoost': 0.4179857672542586, 'AutoGluon': -0.9873065798807379, 'LogisticRegression': 0.7480861816025142}. Best is trial 74 with value: 0.37676377777777775.\n",
      "[I 2025-06-29 15:14:44,245] Trial 109 finished with value: 0.3629906666666667 and parameters: {'LightGBM (gbdt)': 0.361419724332045, 'LightGBM (goss)': -0.38896584924836936, 'XGBoost': 0.39804209215212355, 'AutoGluon': -0.8410502846811816, 'LogisticRegression': 0.7508065005711835}. Best is trial 74 with value: 0.37676377777777775.\n",
      "[I 2025-06-29 15:14:44,468] Trial 112 finished with value: 0.3764348888888888 and parameters: {'LightGBM (gbdt)': 0.5380007682739776, 'LightGBM (goss)': -0.31547109196783885, 'XGBoost': 0.08218063575389388, 'AutoGluon': 0.3816327159442777, 'LogisticRegression': 0.7468701917342324}. Best is trial 74 with value: 0.37676377777777775.\n",
      "[I 2025-06-29 15:14:50,920] Trial 116 finished with value: 0.37630911111111126 and parameters: {'LightGBM (gbdt)': 0.4894163775370235, 'LightGBM (goss)': -0.313929649053481, 'XGBoost': 0.24067697235885854, 'AutoGluon': 0.6380918108309866, 'LogisticRegression': 0.8762694003237855}. Best is trial 74 with value: 0.37676377777777775.\n",
      "[I 2025-06-29 15:14:51,488] Trial 114 finished with value: 0.3765675555555555 and parameters: {'LightGBM (gbdt)': 0.5068938210265524, 'LightGBM (goss)': -0.32810252439751375, 'XGBoost': 0.24453496261500368, 'AutoGluon': 0.6489942952290171, 'LogisticRegression': 0.9937806327398948}. Best is trial 74 with value: 0.37676377777777775.\n",
      "[I 2025-06-29 15:14:51,745] Trial 113 finished with value: 0.3759193333333333 and parameters: {'LightGBM (gbdt)': 0.5363001015502122, 'LightGBM (goss)': -0.33943582100365427, 'XGBoost': 0.23885039059861052, 'AutoGluon': 0.642759881693822, 'LogisticRegression': 0.7517056499440252}. Best is trial 74 with value: 0.37676377777777775.\n",
      "[I 2025-06-29 15:14:51,994] Trial 115 finished with value: 0.37647511111111126 and parameters: {'LightGBM (gbdt)': 0.5191714037472901, 'LightGBM (goss)': -0.3268639696006136, 'XGBoost': 0.23494972015780957, 'AutoGluon': 0.6291772009643783, 'LogisticRegression': 0.9614826520500124}. Best is trial 74 with value: 0.37676377777777775.\n",
      "[I 2025-06-29 15:14:56,773] Trial 117 finished with value: 0.37618933333333343 and parameters: {'LightGBM (gbdt)': 0.5461327255854045, 'LightGBM (goss)': -0.3258410091273071, 'XGBoost': 0.2399668628471564, 'AutoGluon': 0.6406424851299202, 'LogisticRegression': 0.8704624982354794}. Best is trial 74 with value: 0.37676377777777775.\n",
      "[I 2025-06-29 15:14:57,733] Trial 120 finished with value: 0.376396 and parameters: {'LightGBM (gbdt)': 0.635504342351611, 'LightGBM (goss)': -0.2229963825264043, 'XGBoost': 0.16308981256768396, 'AutoGluon': 0.5754267146424953, 'LogisticRegression': 0.9641043011175909}. Best is trial 74 with value: 0.37676377777777775.\n",
      "[I 2025-06-29 15:14:58,040] Trial 119 finished with value: 0.37605133333333335 and parameters: {'LightGBM (gbdt)': 0.5605156398547144, 'LightGBM (goss)': -0.22551945873048082, 'XGBoost': 0.09615462915691615, 'AutoGluon': 0.8315461302374717, 'LogisticRegression': 0.9493013111613574}. Best is trial 74 with value: 0.37676377777777775.\n",
      "[I 2025-06-29 15:14:58,041] Trial 118 finished with value: 0.37604311111111116 and parameters: {'LightGBM (gbdt)': 0.5499898593154446, 'LightGBM (goss)': -0.3461593892726333, 'XGBoost': 0.16338049554832673, 'AutoGluon': 0.8097321650570797, 'LogisticRegression': 0.9364825765853089}. Best is trial 74 with value: 0.37676377777777775.\n",
      "[I 2025-06-29 15:15:03,852] Trial 124 finished with value: 0.37652288888888885 and parameters: {'LightGBM (gbdt)': 0.631501368422829, 'LightGBM (goss)': -0.27669840662104783, 'XGBoost': 0.015631328899102834, 'AutoGluon': 0.5695783465632922, 'LogisticRegression': 0.9666001354329511}. Best is trial 74 with value: 0.37676377777777775.\n",
      "[I 2025-06-29 15:15:03,971] Trial 122 finished with value: 0.37645755555555566 and parameters: {'LightGBM (gbdt)': 0.6148127478652071, 'LightGBM (goss)': -0.21977672376959081, 'XGBoost': 0.0959585718115903, 'AutoGluon': 0.5788445976678083, 'LogisticRegression': 0.9597855812988754}. Best is trial 74 with value: 0.37676377777777775.\n",
      "[I 2025-06-29 15:15:04,142] Trial 121 finished with value: 0.3762913333333334 and parameters: {'LightGBM (gbdt)': 0.4350775809208885, 'LightGBM (goss)': -0.2378169302324024, 'XGBoost': 0.10525096589128408, 'AutoGluon': 0.8234689239185671, 'LogisticRegression': 0.9729994100491052}. Best is trial 74 with value: 0.37676377777777775.\n",
      "[I 2025-06-29 15:15:04,436] Trial 123 finished with value: 0.3738639999999999 and parameters: {'LightGBM (gbdt)': 0.6606270722195128, 'LightGBM (goss)': -0.25975529072984926, 'XGBoost': -0.7893551282326252, 'AutoGluon': 0.48788687393433544, 'LogisticRegression': 0.9637738329343503}. Best is trial 74 with value: 0.37676377777777775.\n",
      "[I 2025-06-29 15:15:10,467] Trial 125 finished with value: 0.37619511111111115 and parameters: {'LightGBM (gbdt)': 0.6273620775585621, 'LightGBM (goss)': -0.26428719720198257, 'XGBoost': 0.3490702346784885, 'AutoGluon': 0.5757320070136824, 'LogisticRegression': 0.9897986002615783}. Best is trial 74 with value: 0.37676377777777775.\n",
      "[I 2025-06-29 15:15:10,622] Trial 126 finished with value: 0.37310244444444435 and parameters: {'LightGBM (gbdt)': 0.6690736108475672, 'LightGBM (goss)': -0.050070371192853236, 'XGBoost': -0.90112155731079, 'AutoGluon': 0.48710755245595616, 'LogisticRegression': 0.8001975338952667}. Best is trial 74 with value: 0.37676377777777775.\n",
      "[I 2025-06-29 15:15:10,920] Trial 127 finished with value: 0.36914266666666673 and parameters: {'LightGBM (gbdt)': 0.5982827988515977, 'LightGBM (goss)': -0.2839403855450145, 'XGBoost': -0.8811612177981631, 'AutoGluon': 0.48200653870049603, 'LogisticRegression': 0.8153049040279402}. Best is trial 74 with value: 0.37676377777777775.\n",
      "[I 2025-06-29 15:15:11,257] Trial 128 finished with value: 0.3759913333333335 and parameters: {'LightGBM (gbdt)': 0.6132498118533799, 'LightGBM (goss)': -0.050762681634450774, 'XGBoost': 0.3542044120059206, 'AutoGluon': 0.5764831550135481, 'LogisticRegression': 0.9982087780087908}. Best is trial 74 with value: 0.37676377777777775.\n",
      "[I 2025-06-29 15:15:17,209] Trial 132 finished with value: 0.3761517777777778 and parameters: {'LightGBM (gbdt)': 0.7367654892970255, 'LightGBM (goss)': -0.20090831944443577, 'XGBoost': 0.02897995339120843, 'AutoGluon': 0.3410273058816636, 'LogisticRegression': 0.8669862301192746}. Best is trial 74 with value: 0.37676377777777775.\n",
      "[I 2025-06-29 15:15:17,261] Trial 129 finished with value: 0.3763015555555557 and parameters: {'LightGBM (gbdt)': 0.6232763136442399, 'LightGBM (goss)': -0.19768408199983695, 'XGBoost': 0.015522785662234754, 'AutoGluon': 0.6135798814750412, 'LogisticRegression': 0.8893557278724645}. Best is trial 74 with value: 0.37676377777777775.\n",
      "[I 2025-06-29 15:15:17,551] Trial 130 finished with value: 0.3761535555555557 and parameters: {'LightGBM (gbdt)': 0.7505241987262903, 'LightGBM (goss)': -0.19410940260180862, 'XGBoost': 0.02677045515768145, 'AutoGluon': 0.5982533650038357, 'LogisticRegression': 0.8658945827985393}. Best is trial 74 with value: 0.37676377777777775.\n",
      "[I 2025-06-29 15:15:18,345] Trial 131 finished with value: 0.36952022222222203 and parameters: {'LightGBM (gbdt)': 0.47888459805300876, 'LightGBM (goss)': -0.18967169715060347, 'XGBoost': 0.00278090309888801, 'AutoGluon': -0.5352780890211359, 'LogisticRegression': 0.8567417619626752}. Best is trial 74 with value: 0.37676377777777775.\n",
      "[I 2025-06-29 15:15:23,115] Trial 135 finished with value: 0.3764128888888891 and parameters: {'LightGBM (gbdt)': 0.5040137537928657, 'LightGBM (goss)': -0.13887972533083665, 'XGBoost': 0.17547540240232096, 'AutoGluon': 0.5375929386556405, 'LogisticRegression': 0.9098444245130253}. Best is trial 74 with value: 0.37676377777777775.\n",
      "[I 2025-06-29 15:15:23,446] Trial 133 finished with value: 0.3763577777777779 and parameters: {'LightGBM (gbdt)': 0.5157167899130146, 'LightGBM (goss)': -0.13335456593116662, 'XGBoost': 0.19808250574261974, 'AutoGluon': 0.5233376096215848, 'LogisticRegression': 0.9173872587627504}. Best is trial 74 with value: 0.37676377777777775.\n",
      "[I 2025-06-29 15:15:23,702] Trial 134 finished with value: 0.3763871111111112 and parameters: {'LightGBM (gbdt)': 0.5089865509151884, 'LightGBM (goss)': -0.15048562770728327, 'XGBoost': 0.19366065038554586, 'AutoGluon': 0.5342684005540372, 'LogisticRegression': 0.9176314223461433}. Best is trial 74 with value: 0.37676377777777775.\n",
      "[I 2025-06-29 15:15:24,387] Trial 136 finished with value: 0.37639355555555537 and parameters: {'LightGBM (gbdt)': 0.5158910543067048, 'LightGBM (goss)': -0.11843779304528124, 'XGBoost': 0.1730326095875811, 'AutoGluon': 0.5276093477293109, 'LogisticRegression': 0.9094665007062025}. Best is trial 74 with value: 0.37676377777777775.\n",
      "[I 2025-06-29 15:15:29,621] Trial 138 finished with value: 0.37636022222222226 and parameters: {'LightGBM (gbdt)': 0.47336179483874563, 'LightGBM (goss)': -0.1057337010980201, 'XGBoost': 0.08804521716815376, 'AutoGluon': 0.6928003989946905, 'LogisticRegression': 0.9126902061907224}. Best is trial 74 with value: 0.37676377777777775.\n",
      "[I 2025-06-29 15:15:29,692] Trial 139 finished with value: 0.36845822222222224 and parameters: {'LightGBM (gbdt)': 0.5763836560352354, 'LightGBM (goss)': -0.2774220739625473, 'XGBoost': 0.08990106122479967, 'AutoGluon': 0.7021720160361091, 'LogisticRegression': 0.18536315219956767}. Best is trial 74 with value: 0.37676377777777775.\n",
      "[I 2025-06-29 15:15:29,916] Trial 140 finished with value: 0.36764155555555567 and parameters: {'LightGBM (gbdt)': 0.42847702544034627, 'LightGBM (goss)': -0.28499168561956745, 'XGBoost': 0.30004419257844384, 'AutoGluon': 0.7098686882097128, 'LogisticRegression': 0.14610895360688714}. Best is trial 74 with value: 0.37676377777777775.\n",
      "[I 2025-06-29 15:15:30,048] Trial 137 finished with value: 0.3674237777777777 and parameters: {'LightGBM (gbdt)': 0.5150470560799032, 'LightGBM (goss)': -0.29636958950334713, 'XGBoost': 0.0925560055554012, 'AutoGluon': 0.6961445471577025, 'LogisticRegression': 0.17503239615604915}. Best is trial 74 with value: 0.37676377777777775.\n",
      "[I 2025-06-29 15:15:36,440] Trial 142 finished with value: 0.3764257777777778 and parameters: {'LightGBM (gbdt)': 0.6421430779769607, 'LightGBM (goss)': -0.32836829733349965, 'XGBoost': -0.07268724803925353, 'AutoGluon': 0.3944949699663467, 'LogisticRegression': 0.8154032714915984}. Best is trial 74 with value: 0.37676377777777775.\n",
      "[I 2025-06-29 15:15:36,440] Trial 143 finished with value: 0.3763055555555555 and parameters: {'LightGBM (gbdt)': 0.5715338909253157, 'LightGBM (goss)': -0.2302943670693715, 'XGBoost': 0.26064917718741165, 'AutoGluon': 0.4526466247516762, 'LogisticRegression': 0.9995823303591309}. Best is trial 74 with value: 0.37676377777777775.\n",
      "[I 2025-06-29 15:15:36,625] Trial 141 finished with value: 0.37647911111111115 and parameters: {'LightGBM (gbdt)': 0.4345523399630381, 'LightGBM (goss)': -0.2978002292754723, 'XGBoost': 0.26916170520066246, 'AutoGluon': 0.38727219599094365, 'LogisticRegression': 0.9986659172555296}. Best is trial 74 with value: 0.37676377777777775.\n",
      "[I 2025-06-29 15:15:36,840] Trial 144 finished with value: 0.37636044444444455 and parameters: {'LightGBM (gbdt)': 0.6441975387406417, 'LightGBM (goss)': -0.23511938841759772, 'XGBoost': 0.165995781557253, 'AutoGluon': 0.44609074057431636, 'LogisticRegression': 0.9624036474604848}. Best is trial 74 with value: 0.37676377777777775.\n",
      "[I 2025-06-29 15:15:42,955] Trial 147 finished with value: 0.37582377777777776 and parameters: {'LightGBM (gbdt)': 0.31886393531757035, 'LightGBM (goss)': -0.4147391172694477, 'XGBoost': -0.07261934925485843, 'AutoGluon': 0.39317505072485515, 'LogisticRegression': 0.8399388680967979}. Best is trial 74 with value: 0.37676377777777775.\n",
      "[I 2025-06-29 15:15:43,132] Trial 146 finished with value: 0.3691473333333333 and parameters: {'LightGBM (gbdt)': 0.32781930925344543, 'LightGBM (goss)': -0.33097873829267777, 'XGBoost': -0.08856604909322685, 'AutoGluon': 0.3884911372831609, 'LogisticRegression': -0.7951688657882954}. Best is trial 74 with value: 0.37676377777777775.\n",
      "[I 2025-06-29 15:15:43,328] Trial 145 finished with value: 0.375922 and parameters: {'LightGBM (gbdt)': 0.33495413534446283, 'LightGBM (goss)': -0.32321021895528357, 'XGBoost': -0.18441979251341045, 'AutoGluon': 0.3768708468195158, 'LogisticRegression': 0.8154793585163375}. Best is trial 74 with value: 0.37676377777777775.\n",
      "[I 2025-06-29 15:15:43,596] Trial 148 finished with value: 0.3758484444444445 and parameters: {'LightGBM (gbdt)': 0.3305352366255044, 'LightGBM (goss)': -0.4015006654642339, 'XGBoost': -0.09754032855253619, 'AutoGluon': 0.3958522293343951, 'LogisticRegression': 0.8276112830047959}. Best is trial 74 with value: 0.37676377777777775.\n",
      "[I 2025-06-29 15:15:48,618] Trial 151 finished with value: 0.3747182222222224 and parameters: {'LightGBM (gbdt)': 0.42431394058300853, 'LightGBM (goss)': -0.4015740665771006, 'XGBoost': 0.22108863805413664, 'AutoGluon': 0.3342802202360654, 'LogisticRegression': 0.33955473547753806}. Best is trial 74 with value: 0.37676377777777775.\n",
      "[I 2025-06-29 15:15:49,154] Trial 150 finished with value: 0.3743146666666664 and parameters: {'LightGBM (gbdt)': 0.422006716189689, 'LightGBM (goss)': -0.3996639252498578, 'XGBoost': -0.32208830479751305, 'AutoGluon': 0.3290204321429904, 'LogisticRegression': 0.7805162527542426}. Best is trial 74 with value: 0.37676377777777775.\n",
      "[I 2025-06-29 15:15:49,351] Trial 152 finished with value: 0.3757699999999998 and parameters: {'LightGBM (gbdt)': 0.412278659197659, 'LightGBM (goss)': -0.3459380020866808, 'XGBoost': 0.23770280847295688, 'AutoGluon': 0.14229884419728825, 'LogisticRegression': 0.9495098714044167}. Best is trial 74 with value: 0.37676377777777775.\n",
      "[I 2025-06-29 15:15:49,474] Trial 149 finished with value: 0.37574777777777785 and parameters: {'LightGBM (gbdt)': 0.41489445820622073, 'LightGBM (goss)': -0.39947117790605796, 'XGBoost': -0.12089774694896109, 'AutoGluon': 0.2712395975263166, 'LogisticRegression': 0.8011890089163825}. Best is trial 74 with value: 0.37676377777777775.\n",
      "[I 2025-06-29 15:15:55,483] Trial 155 finished with value: 0.3764637777777779 and parameters: {'LightGBM (gbdt)': 0.5887224918250505, 'LightGBM (goss)': -0.25835946386387904, 'XGBoost': 0.12969841988258118, 'AutoGluon': 0.5694868412134825, 'LogisticRegression': 0.9591889879988044}. Best is trial 74 with value: 0.37676377777777775.\n",
      "[I 2025-06-29 15:15:55,607] Trial 153 finished with value: 0.37608088888888874 and parameters: {'LightGBM (gbdt)': 0.19429053558188691, 'LightGBM (goss)': -0.3457946273201836, 'XGBoost': 0.26042482242345355, 'AutoGluon': 0.6514302888535051, 'LogisticRegression': 0.7792271762063432}. Best is trial 74 with value: 0.37676377777777775.\n",
      "[I 2025-06-29 15:15:55,884] Trial 154 finished with value: 0.376596888888889 and parameters: {'LightGBM (gbdt)': 0.18989186770867067, 'LightGBM (goss)': -0.3044426481526059, 'XGBoost': 0.14881863794007982, 'AutoGluon': 0.5726966484802007, 'LogisticRegression': 0.9599117018672143}. Best is trial 74 with value: 0.37676377777777775.\n",
      "[I 2025-06-29 15:15:56,087] Trial 156 finished with value: 0.37586644444444434 and parameters: {'LightGBM (gbdt)': 0.23667954250978537, 'LightGBM (goss)': -0.3000067924201061, 'XGBoost': 0.13625997275142168, 'AutoGluon': 0.20865698350099082, 'LogisticRegression': 0.99997436024906}. Best is trial 74 with value: 0.37676377777777775.\n",
      "[I 2025-06-29 15:16:02,145] Trial 157 finished with value: 0.3764046666666666 and parameters: {'LightGBM (gbdt)': 0.1740072240357588, 'LightGBM (goss)': -0.28153238475955994, 'XGBoost': 0.13021893795012685, 'AutoGluon': 0.6278669339007914, 'LogisticRegression': 0.8899638652594427}. Best is trial 74 with value: 0.37676377777777775.\n",
      "[I 2025-06-29 15:16:02,386] Trial 160 finished with value: 0.3764508888888888 and parameters: {'LightGBM (gbdt)': 0.1773173968623838, 'LightGBM (goss)': -0.2611075751194666, 'XGBoost': -0.022089140578487744, 'AutoGluon': 0.6238656665556076, 'LogisticRegression': 0.9497147768128154}. Best is trial 74 with value: 0.37676377777777775.\n",
      "[I 2025-06-29 15:16:02,766] Trial 158 finished with value: 0.37659933333333323 and parameters: {'LightGBM (gbdt)': 0.23193517424933577, 'LightGBM (goss)': -0.2832569317852545, 'XGBoost': 0.11415463304121395, 'AutoGluon': 0.6197190461201685, 'LogisticRegression': 0.9568075072721853}. Best is trial 74 with value: 0.37676377777777775.\n",
      "[I 2025-06-29 15:16:02,994] Trial 159 finished with value: 0.37653555555555557 and parameters: {'LightGBM (gbdt)': 0.23124863899934156, 'LightGBM (goss)': -0.30331118258684775, 'XGBoost': 0.05022678503115188, 'AutoGluon': 0.5094824978729743, 'LogisticRegression': 0.9982324364574473}. Best is trial 74 with value: 0.37676377777777775.\n",
      "[I 2025-06-29 15:16:08,517] Trial 161 finished with value: 0.3766617777777778 and parameters: {'LightGBM (gbdt)': 0.24311748023452825, 'LightGBM (goss)': -0.2534065013648434, 'XGBoost': -0.034549974203465394, 'AutoGluon': 0.484512077446416, 'LogisticRegression': 0.9652324496956368}. Best is trial 74 with value: 0.37676377777777775.\n",
      "[I 2025-06-29 15:16:08,996] Trial 162 finished with value: 0.3766584444444444 and parameters: {'LightGBM (gbdt)': 0.2372380219612168, 'LightGBM (goss)': -0.2538800955874839, 'XGBoost': -0.012998507946376608, 'AutoGluon': 0.5680945780377009, 'LogisticRegression': 0.9595313797144805}. Best is trial 74 with value: 0.37676377777777775.\n",
      "[I 2025-06-29 15:16:09,732] Trial 164 finished with value: 0.376588 and parameters: {'LightGBM (gbdt)': 0.23020811964215235, 'LightGBM (goss)': -0.256614077786244, 'XGBoost': -0.022119455381572367, 'AutoGluon': 0.6029561997004682, 'LogisticRegression': 0.9578202968254823}. Best is trial 74 with value: 0.37676377777777775.\n",
      "[I 2025-06-29 15:16:09,780] Trial 163 finished with value: 0.37634777777777784 and parameters: {'LightGBM (gbdt)': 0.12994486994241805, 'LightGBM (goss)': -0.2559730493153755, 'XGBoost': -0.022529800156480574, 'AutoGluon': 0.6121410847594705, 'LogisticRegression': 0.9421252686211217}. Best is trial 74 with value: 0.37676377777777775.\n",
      "[I 2025-06-29 15:16:15,160] Trial 165 finished with value: 0.37672955555555565 and parameters: {'LightGBM (gbdt)': 0.22076114931911658, 'LightGBM (goss)': -0.2458882154449608, 'XGBoost': 0.06457313460975976, 'AutoGluon': 0.49876416605693746, 'LogisticRegression': 0.9990449068449047}. Best is trial 74 with value: 0.37676377777777775.\n",
      "[I 2025-06-29 15:16:15,975] Trial 166 finished with value: 0.37666311111111106 and parameters: {'LightGBM (gbdt)': 0.22840463648245773, 'LightGBM (goss)': -0.25903307468460346, 'XGBoost': 0.051812954668523245, 'AutoGluon': 0.4930348923846135, 'LogisticRegression': 0.9990052285530984}. Best is trial 74 with value: 0.37676377777777775.\n",
      "[I 2025-06-29 15:16:16,215] Trial 167 finished with value: 0.3768446666666666 and parameters: {'LightGBM (gbdt)': 0.2267944181369224, 'LightGBM (goss)': -0.16572788481279813, 'XGBoost': 0.05055383359982764, 'AutoGluon': 0.5064352483147048, 'LogisticRegression': 0.984326938991076}. Best is trial 167 with value: 0.3768446666666666.\n",
      "[I 2025-06-29 15:16:16,514] Trial 168 finished with value: 0.3759522222222223 and parameters: {'LightGBM (gbdt)': 0.2343985939827238, 'LightGBM (goss)': -0.4478734824614068, 'XGBoost': 0.02732754778013497, 'AutoGluon': 0.47360231764046384, 'LogisticRegression': 0.998877902193529}. Best is trial 167 with value: 0.3768446666666666.\n",
      "[I 2025-06-29 15:16:22,156] Trial 169 finished with value: 0.3767377777777776 and parameters: {'LightGBM (gbdt)': 0.2216666174226637, 'LightGBM (goss)': -0.17914318075842822, 'XGBoost': 0.038726187873239226, 'AutoGluon': 0.47581021611093954, 'LogisticRegression': 0.9942925991916267}. Best is trial 167 with value: 0.3768446666666666.\n",
      "[I 2025-06-29 15:16:22,195] Trial 171 finished with value: 0.3765004444444444 and parameters: {'LightGBM (gbdt)': 0.05383224879676901, 'LightGBM (goss)': -0.1816168595642425, 'XGBoost': 0.046386852992860286, 'AutoGluon': 0.48598069065784233, 'LogisticRegression': 0.9996347442302618}. Best is trial 167 with value: 0.3768446666666666.\n",
      "[I 2025-06-29 15:16:22,503] Trial 170 finished with value: 0.37681999999999993 and parameters: {'LightGBM (gbdt)': 0.19749718320712414, 'LightGBM (goss)': -0.16042943032208884, 'XGBoost': 0.03725824536931001, 'AutoGluon': 0.49354333648710297, 'LogisticRegression': 0.8879631741864225}. Best is trial 167 with value: 0.3768446666666666.\n",
      "[I 2025-06-29 15:16:22,571] Trial 172 finished with value: 0.37682577777777776 and parameters: {'LightGBM (gbdt)': 0.22668708358635126, 'LightGBM (goss)': -0.17049452913851226, 'XGBoost': 0.054305674710023205, 'AutoGluon': 0.4930588373838329, 'LogisticRegression': 0.8935627410885911}. Best is trial 167 with value: 0.3768446666666666.\n",
      "[I 2025-06-29 15:16:28,307] Trial 175 finished with value: 0.376812 and parameters: {'LightGBM (gbdt)': 0.2524170459198267, 'LightGBM (goss)': -0.16848812327493018, 'XGBoost': -0.025448627009742056, 'AutoGluon': 0.43371621405284866, 'LogisticRegression': 0.8907221939292441}. Best is trial 167 with value: 0.3768446666666666.\n",
      "[I 2025-06-29 15:16:28,584] Trial 176 finished with value: 0.3767357777777777 and parameters: {'LightGBM (gbdt)': 0.2764848583192927, 'LightGBM (goss)': -0.1549083245114941, 'XGBoost': -0.15155143711896962, 'AutoGluon': 0.4395034493816633, 'LogisticRegression': 0.8830904024384505}. Best is trial 167 with value: 0.3768446666666666.\n",
      "[I 2025-06-29 15:16:28,901] Trial 174 finished with value: 0.3766615555555554 and parameters: {'LightGBM (gbdt)': 0.2295079930881342, 'LightGBM (goss)': -0.1606255206399141, 'XGBoost': -0.14991737118206702, 'AutoGluon': 0.5154539960623816, 'LogisticRegression': 0.9095700190115462}. Best is trial 167 with value: 0.3768446666666666.\n",
      "[I 2025-06-29 15:16:29,034] Trial 173 finished with value: 0.3767835555555556 and parameters: {'LightGBM (gbdt)': 0.2207180546573235, 'LightGBM (goss)': -0.16098408625197808, 'XGBoost': -0.030285730584872834, 'AutoGluon': 0.5145311485516773, 'LogisticRegression': 0.8964225684087634}. Best is trial 167 with value: 0.3768446666666666.\n",
      "[I 2025-06-29 15:16:34,175] Trial 178 finished with value: 0.3768262222222222 and parameters: {'LightGBM (gbdt)': 0.25975867044177453, 'LightGBM (goss)': -0.17769991572669497, 'XGBoost': -0.05072650304672299, 'AutoGluon': 0.46246210666298077, 'LogisticRegression': 0.8722208197065818}. Best is trial 167 with value: 0.3768446666666666.\n",
      "[I 2025-06-29 15:16:34,752] Trial 179 finished with value: 0.3768613333333333 and parameters: {'LightGBM (gbdt)': 0.28225426945893417, 'LightGBM (goss)': -0.07779484534106312, 'XGBoost': -0.15823261166123365, 'AutoGluon': 0.4477624741672368, 'LogisticRegression': 0.8757457423368441}. Best is trial 179 with value: 0.3768613333333333.\n",
      "[I 2025-06-29 15:16:35,002] Trial 180 finished with value: 0.3768331111111112 and parameters: {'LightGBM (gbdt)': 0.29002458513533197, 'LightGBM (goss)': -0.08554824851300277, 'XGBoost': -0.1542049241114866, 'AutoGluon': 0.43174392443663634, 'LogisticRegression': 0.8714254165870962}. Best is trial 179 with value: 0.3768613333333333.\n",
      "[I 2025-06-29 15:16:35,261] Trial 177 finished with value: 0.37686488888888875 and parameters: {'LightGBM (gbdt)': 0.27656842387898817, 'LightGBM (goss)': -0.08266665309245955, 'XGBoost': -0.151526446813639, 'AutoGluon': 0.4237085715912306, 'LogisticRegression': 0.8657003979003877}. Best is trial 177 with value: 0.37686488888888875.\n",
      "[I 2025-06-29 15:16:40,800] Trial 182 finished with value: 0.37683377777777793 and parameters: {'LightGBM (gbdt)': 0.28402833760493995, 'LightGBM (goss)': -0.09433492458030772, 'XGBoost': -0.16705846834822624, 'AutoGluon': 0.43777825548054045, 'LogisticRegression': 0.8576188068465525}. Best is trial 177 with value: 0.37686488888888875.\n",
      "[I 2025-06-29 15:16:40,854] Trial 181 finished with value: 0.3768473333333333 and parameters: {'LightGBM (gbdt)': 0.2854620496061816, 'LightGBM (goss)': -0.06453731352048205, 'XGBoost': -0.12561467615858762, 'AutoGluon': 0.43724167702175587, 'LogisticRegression': 0.8659773606145686}. Best is trial 177 with value: 0.37686488888888875.\n",
      "[I 2025-06-29 15:16:41,182] Trial 184 finished with value: 0.37685200000000013 and parameters: {'LightGBM (gbdt)': 0.2858393328386669, 'LightGBM (goss)': -0.0699137546809655, 'XGBoost': -0.1661253794760199, 'AutoGluon': 0.45385399436154034, 'LogisticRegression': 0.8597546670508319}. Best is trial 177 with value: 0.37686488888888875.\n",
      "[I 2025-06-29 15:16:41,319] Trial 183 finished with value: 0.3765617777777778 and parameters: {'LightGBM (gbdt)': 0.278167334674544, 'LightGBM (goss)': -0.09928807800955586, 'XGBoost': -0.24663641625718696, 'AutoGluon': 0.43620640445459374, 'LogisticRegression': 0.8682128556344564}. Best is trial 177 with value: 0.37686488888888875.\n",
      "[I 2025-06-29 15:16:46,808] Trial 188 finished with value: 0.3768382222222224 and parameters: {'LightGBM (gbdt)': 0.3044872825886264, 'LightGBM (goss)': -0.031239284712787654, 'XGBoost': -0.15147221852997297, 'AutoGluon': 0.43881505239591717, 'LogisticRegression': 0.8492690593638902}. Best is trial 177 with value: 0.37686488888888875.\n",
      "[I 2025-06-29 15:16:47,051] Trial 187 finished with value: 0.3766551111111111 and parameters: {'LightGBM (gbdt)': 0.2998402897983014, 'LightGBM (goss)': -0.08150333565265122, 'XGBoost': -0.25417573384643105, 'AutoGluon': 0.43770439157889657, 'LogisticRegression': 0.8502873754140252}. Best is trial 177 with value: 0.37686488888888875.\n",
      "[I 2025-06-29 15:16:47,269] Trial 186 finished with value: 0.3768033333333333 and parameters: {'LightGBM (gbdt)': 0.2847895833543239, 'LightGBM (goss)': -0.01945598552809162, 'XGBoost': -0.2199051636963037, 'AutoGluon': 0.4364711372545409, 'LogisticRegression': 0.8717827429211354}. Best is trial 177 with value: 0.37686488888888875.\n",
      "[I 2025-06-29 15:16:47,543] Trial 185 finished with value: 0.37661066666666676 and parameters: {'LightGBM (gbdt)': 0.3022260203521076, 'LightGBM (goss)': -0.08852900907564559, 'XGBoost': -0.24527352765399646, 'AutoGluon': 0.43028048914992056, 'LogisticRegression': 0.864050581709232}. Best is trial 177 with value: 0.37686488888888875.\n",
      "[I 2025-06-29 15:16:53,536] Trial 189 finished with value: 0.37679266666666666 and parameters: {'LightGBM (gbdt)': 0.30339911017632537, 'LightGBM (goss)': -0.019800172916511136, 'XGBoost': -0.18892305818323646, 'AutoGluon': 0.44106752912975034, 'LogisticRegression': 0.8470407313982949}. Best is trial 177 with value: 0.37686488888888875.\n",
      "[I 2025-06-29 15:16:53,695] Trial 191 finished with value: 0.37665044444444434 and parameters: {'LightGBM (gbdt)': 0.13571063971976705, 'LightGBM (goss)': -0.02822162130293318, 'XGBoost': -0.17255789451485454, 'AutoGluon': 0.4404287439942739, 'LogisticRegression': 0.8521867902594507}. Best is trial 177 with value: 0.37686488888888875.\n",
      "[I 2025-06-29 15:16:53,980] Trial 192 finished with value: 0.37683666666666665 and parameters: {'LightGBM (gbdt)': 0.2868807961059301, 'LightGBM (goss)': -0.02159775080146195, 'XGBoost': -0.16402622226089947, 'AutoGluon': 0.42834301411732073, 'LogisticRegression': 0.8345848135722274}. Best is trial 177 with value: 0.37686488888888875.\n",
      "[I 2025-06-29 15:16:54,122] Trial 190 finished with value: 0.3768148888888891 and parameters: {'LightGBM (gbdt)': 0.2905140360544128, 'LightGBM (goss)': -0.012302589705574712, 'XGBoost': -0.16675108167200517, 'AutoGluon': 0.4417280136561965, 'LogisticRegression': 0.8504568692251759}. Best is trial 177 with value: 0.37686488888888875.\n",
      "[I 2025-06-29 15:16:59,936] Trial 194 finished with value: 0.3767893333333333 and parameters: {'LightGBM (gbdt)': 0.29945897773711727, 'LightGBM (goss)': 0.04584689353499671, 'XGBoost': -0.19423644443764437, 'AutoGluon': 0.41819629512077944, 'LogisticRegression': 0.8222379554444459}. Best is trial 177 with value: 0.37686488888888875.\n",
      "[I 2025-06-29 15:17:00,459] Trial 193 finished with value: 0.37638555555555553 and parameters: {'LightGBM (gbdt)': 0.1223797468872481, 'LightGBM (goss)': 0.07781384843834188, 'XGBoost': -0.32040652855646334, 'AutoGluon': 0.4356673957803543, 'LogisticRegression': 0.8333462591722044}. Best is trial 177 with value: 0.37686488888888875.\n",
      "[I 2025-06-29 15:17:00,700] Trial 195 finished with value: 0.37651777777777784 and parameters: {'LightGBM (gbdt)': 0.28950549045747914, 'LightGBM (goss)': -0.004448106131378152, 'XGBoost': -0.3088294748056167, 'AutoGluon': 0.4268933642718187, 'LogisticRegression': 0.8268400297020856}. Best is trial 177 with value: 0.37686488888888875.\n",
      "[I 2025-06-29 15:17:00,919] Trial 196 finished with value: 0.37660888888888877 and parameters: {'LightGBM (gbdt)': 0.2906196224186095, 'LightGBM (goss)': 0.04477635562904994, 'XGBoost': -0.29268040575813437, 'AutoGluon': 0.41681800460508317, 'LogisticRegression': 0.7885907400214575}. Best is trial 177 with value: 0.37686488888888875.\n",
      "[I 2025-06-29 15:17:05,268] Trial 197 finished with value: 0.37648622222222217 and parameters: {'LightGBM (gbdt)': 0.35049273719023794, 'LightGBM (goss)': 0.06318528949583133, 'XGBoost': -0.33988616702797525, 'AutoGluon': 0.35094601236984957, 'LogisticRegression': 0.7982678125837857}. Best is trial 177 with value: 0.37686488888888875.\n",
      "[I 2025-06-29 15:17:05,934] Trial 198 finished with value: 0.37659022222222216 and parameters: {'LightGBM (gbdt)': 0.3085094255279025, 'LightGBM (goss)': 0.015329295574038546, 'XGBoost': -0.20670656115551478, 'AutoGluon': 0.4137481949571617, 'LogisticRegression': 0.668337943268286}. Best is trial 177 with value: 0.37686488888888875.\n",
      "[I 2025-06-29 15:17:06,530] Trial 200 finished with value: 0.37678088888888883 and parameters: {'LightGBM (gbdt)': 0.3484736394485747, 'LightGBM (goss)': -0.04735252326977579, 'XGBoost': -0.18282765461539582, 'AutoGluon': 0.33784233318898027, 'LogisticRegression': 0.7163564788741067}. Best is trial 177 with value: 0.37686488888888875.\n",
      "[I 2025-06-29 15:17:06,714] Trial 199 finished with value: 0.37670133333333333 and parameters: {'LightGBM (gbdt)': 0.3422454571035121, 'LightGBM (goss)': 0.050964983088550436, 'XGBoost': -0.1996917699809406, 'AutoGluon': 0.3557425715619411, 'LogisticRegression': 0.7705687388243071}. Best is trial 177 with value: 0.37686488888888875.\n",
      "[I 2025-06-29 15:17:12,672] Trial 203 finished with value: 0.3765584444444444 and parameters: {'LightGBM (gbdt)': 0.3690815396903431, 'LightGBM (goss)': -0.04640073627345001, 'XGBoost': -0.20293879293431571, 'AutoGluon': 0.30161853024214824, 'LogisticRegression': 0.8416647039256887}. Best is trial 177 with value: 0.37686488888888875.\n",
      "[I 2025-06-29 15:17:12,917] Trial 202 finished with value: 0.3765833333333335 and parameters: {'LightGBM (gbdt)': 0.34286350636666807, 'LightGBM (goss)': -0.06101793466395488, 'XGBoost': -0.20548705226983832, 'AutoGluon': 0.305042718245401, 'LogisticRegression': 0.7187883162277792}. Best is trial 177 with value: 0.37686488888888875.\n",
      "[I 2025-06-29 15:17:12,928] Trial 204 finished with value: 0.37664511111111126 and parameters: {'LightGBM (gbdt)': 0.15828344074614548, 'LightGBM (goss)': -0.028344418297016845, 'XGBoost': -0.1372778517268527, 'AutoGluon': 0.3114134099930268, 'LogisticRegression': 0.725599484453278}. Best is trial 177 with value: 0.37686488888888875.\n",
      "[I 2025-06-29 15:17:13,063] Trial 201 finished with value: 0.3765371111111111 and parameters: {'LightGBM (gbdt)': 0.3314062731800593, 'LightGBM (goss)': -0.057025389588745826, 'XGBoost': -0.19972868874248464, 'AutoGluon': 0.29555681672462475, 'LogisticRegression': 0.7187499308595402}. Best is trial 177 with value: 0.37686488888888875.\n",
      "[I 2025-06-29 15:17:18,999] Trial 205 finished with value: 0.3768699999999999 and parameters: {'LightGBM (gbdt)': 0.2638744991314495, 'LightGBM (goss)': -0.08213781606076054, 'XGBoost': -0.10858429874095363, 'AutoGluon': 0.46748665414743495, 'LogisticRegression': 0.8782474691168025}. Best is trial 205 with value: 0.3768699999999999.\n",
      "[I 2025-06-29 15:17:19,578] Trial 206 finished with value: 0.376837111111111 and parameters: {'LightGBM (gbdt)': 0.27284327343026155, 'LightGBM (goss)': -0.06323541145852689, 'XGBoost': -0.12359442974787985, 'AutoGluon': 0.45559544125534185, 'LogisticRegression': 0.8894629398219503}. Best is trial 205 with value: 0.3768699999999999.\n",
      "[I 2025-06-29 15:17:19,759] Trial 208 finished with value: 0.3768191111111112 and parameters: {'LightGBM (gbdt)': 0.2630733944296831, 'LightGBM (goss)': -0.0016016449684140201, 'XGBoost': -0.1127454533007329, 'AutoGluon': 0.3642305919457417, 'LogisticRegression': 0.8855422165601773}. Best is trial 205 with value: 0.3768699999999999.\n",
      "[I 2025-06-29 15:17:20,033] Trial 207 finished with value: 0.37679955555555555 and parameters: {'LightGBM (gbdt)': 0.26000918184046984, 'LightGBM (goss)': -0.005958262233232661, 'XGBoost': -0.12213814741751339, 'AutoGluon': 0.4747268954946913, 'LogisticRegression': 0.9007702565579019}. Best is trial 205 with value: 0.3768699999999999.\n",
      "[I 2025-06-29 15:17:25,458] Trial 210 finished with value: 0.3768137777777778 and parameters: {'LightGBM (gbdt)': 0.2658727655019986, 'LightGBM (goss)': 0.0006503210231121326, 'XGBoost': -0.1233897069012895, 'AutoGluon': 0.46289187219317623, 'LogisticRegression': 0.8808743674301316}. Best is trial 205 with value: 0.3768699999999999.\n",
      "[I 2025-06-29 15:17:25,895] Trial 209 finished with value: 0.3768231111111112 and parameters: {'LightGBM (gbdt)': 0.27181596887360315, 'LightGBM (goss)': -0.0023299491450597815, 'XGBoost': -0.12057033564488606, 'AutoGluon': 0.45810588036170696, 'LogisticRegression': 0.8748978835928946}. Best is trial 205 with value: 0.3768699999999999.\n",
      "[I 2025-06-29 15:17:26,378] Trial 212 finished with value: 0.37674177777777784 and parameters: {'LightGBM (gbdt)': 0.26650852169927847, 'LightGBM (goss)': 0.09978104899519767, 'XGBoost': -0.11118588913801279, 'AutoGluon': 0.46766277799156464, 'LogisticRegression': 0.8712898645443754}. Best is trial 205 with value: 0.3768699999999999.\n",
      "[I 2025-06-29 15:17:26,587] Trial 211 finished with value: 0.3768031111111111 and parameters: {'LightGBM (gbdt)': 0.2764692589962029, 'LightGBM (goss)': 0.005978280331563751, 'XGBoost': -0.12818829250286037, 'AutoGluon': 0.4614289406127178, 'LogisticRegression': 0.8700040469583223}. Best is trial 205 with value: 0.3768699999999999.\n",
      "[I 2025-06-29 15:17:32,830] Trial 213 finished with value: 0.3768015555555555 and parameters: {'LightGBM (gbdt)': 0.2659935649715912, 'LightGBM (goss)': 0.0025796558197353665, 'XGBoost': -0.11973219768405068, 'AutoGluon': 0.45896445772836786, 'LogisticRegression': 0.8696080348250619}. Best is trial 205 with value: 0.3768699999999999.\n",
      "[I 2025-06-29 15:17:32,830] Trial 216 finished with value: 0.3768055555555555 and parameters: {'LightGBM (gbdt)': 0.17111625154223814, 'LightGBM (goss)': 0.01331178333632136, 'XGBoost': -0.12242051110586835, 'AutoGluon': 0.45674493336199073, 'LogisticRegression': 0.8859291019752095}. Best is trial 205 with value: 0.3768699999999999.\n",
      "[I 2025-06-29 15:17:33,042] Trial 214 finished with value: 0.3768137777777777 and parameters: {'LightGBM (gbdt)': 0.2642446031772759, 'LightGBM (goss)': -0.0031591829478049677, 'XGBoost': -0.11234713935448948, 'AutoGluon': 0.460820024486525, 'LogisticRegression': 0.870512723387579}. Best is trial 205 with value: 0.3768699999999999.\n",
      "[I 2025-06-29 15:17:33,195] Trial 215 finished with value: 0.3768531111111111 and parameters: {'LightGBM (gbdt)': 0.17448930967753948, 'LightGBM (goss)': 0.0006464571586306369, 'XGBoost': -0.13181974918773698, 'AutoGluon': 0.46008435856435, 'LogisticRegression': 0.8827873646961026}. Best is trial 205 with value: 0.3768699999999999.\n",
      "[I 2025-06-29 15:17:38,475] Trial 219 finished with value: 0.37677422222222223 and parameters: {'LightGBM (gbdt)': 0.17697504244664475, 'LightGBM (goss)': -0.09334581481820037, 'XGBoost': -0.09719555059586682, 'AutoGluon': 0.38891726997838827, 'LogisticRegression': 0.8110646476705552}. Best is trial 205 with value: 0.3768699999999999.\n",
      "[I 2025-06-29 15:17:39,233] Trial 220 finished with value: 0.37677733333333335 and parameters: {'LightGBM (gbdt)': 0.18484709133401434, 'LightGBM (goss)': -0.1096629486137509, 'XGBoost': -0.07708481405438979, 'AutoGluon': 0.37526682655675414, 'LogisticRegression': 0.806060969968472}. Best is trial 205 with value: 0.3768699999999999.\n",
      "[I 2025-06-29 15:17:39,440] Trial 217 finished with value: 0.37672933333333336 and parameters: {'LightGBM (gbdt)': 0.16413448489040544, 'LightGBM (goss)': -0.0855844276217749, 'XGBoost': -0.08164044790470684, 'AutoGluon': 0.37913877233305915, 'LogisticRegression': 0.8102249443799744}. Best is trial 205 with value: 0.3768699999999999.\n",
      "[I 2025-06-29 15:17:39,733] Trial 218 finished with value: 0.37678511111111107 and parameters: {'LightGBM (gbdt)': 0.1736966153036676, 'LightGBM (goss)': -0.0919168255927103, 'XGBoost': -0.07237944571784151, 'AutoGluon': 0.3757526482244899, 'LogisticRegression': 0.7994129090501165}. Best is trial 205 with value: 0.3768699999999999.\n",
      "[I 2025-06-29 15:17:45,907] Trial 222 finished with value: 0.3766064444444444 and parameters: {'LightGBM (gbdt)': 0.18767920952733597, 'LightGBM (goss)': -0.0767059040860261, 'XGBoost': -0.15462824038684236, 'AutoGluon': 0.39426536605556306, 'LogisticRegression': 0.9112792392621221}. Best is trial 205 with value: 0.3768699999999999.\n",
      "[I 2025-06-29 15:17:46,153] Trial 223 finished with value: 0.3768162222222221 and parameters: {'LightGBM (gbdt)': 0.19398614770700814, 'LightGBM (goss)': 0.030714757238672164, 'XGBoost': -0.061690776022720065, 'AutoGluon': 0.4077734328821842, 'LogisticRegression': 0.913562240881326}. Best is trial 205 with value: 0.3768699999999999.\n",
      "[I 2025-06-29 15:17:46,407] Trial 221 finished with value: 0.37674955555555556 and parameters: {'LightGBM (gbdt)': 0.18876371214129195, 'LightGBM (goss)': -0.08021456302369345, 'XGBoost': -0.07389453377850824, 'AutoGluon': 0.36167097844698065, 'LogisticRegression': 0.7873013104709246}. Best is trial 205 with value: 0.3768699999999999.\n",
      "[I 2025-06-29 15:17:46,556] Trial 224 finished with value: 0.3768531111111111 and parameters: {'LightGBM (gbdt)': 0.25137260753243007, 'LightGBM (goss)': 0.029237516508822285, 'XGBoost': -0.15751376452507027, 'AutoGluon': 0.41091921611665194, 'LogisticRegression': 0.8951027299638457}. Best is trial 205 with value: 0.3768699999999999.\n",
      "[I 2025-06-29 15:17:52,107] Trial 227 finished with value: 0.3767942222222222 and parameters: {'LightGBM (gbdt)': 0.2503558967359385, 'LightGBM (goss)': 0.024580153795126583, 'XGBoost': -0.13234024451497176, 'AutoGluon': 0.4707584797671559, 'LogisticRegression': 0.90383625956747}. Best is trial 205 with value: 0.3768699999999999.\n",
      "[I 2025-06-29 15:17:52,354] Trial 226 finished with value: 0.3767453333333333 and parameters: {'LightGBM (gbdt)': 0.2522136732770062, 'LightGBM (goss)': 0.033476864915584534, 'XGBoost': -0.135199288320856, 'AutoGluon': 0.4707962975925159, 'LogisticRegression': 0.8967376775509535}. Best is trial 205 with value: 0.3768699999999999.\n",
      "[I 2025-06-29 15:17:52,631] Trial 228 finished with value: 0.3767426666666666 and parameters: {'LightGBM (gbdt)': 0.2635989079534183, 'LightGBM (goss)': 0.029092353904358506, 'XGBoost': -0.137523874785318, 'AutoGluon': 0.503930266592644, 'LogisticRegression': 0.9028322942636458}. Best is trial 205 with value: 0.3768699999999999.\n",
      "[I 2025-06-29 15:17:52,696] Trial 225 finished with value: 0.37680088888888885 and parameters: {'LightGBM (gbdt)': 0.3181393151996672, 'LightGBM (goss)': 0.024811479646374764, 'XGBoost': -0.15089048391134768, 'AutoGluon': 0.4613258082046608, 'LogisticRegression': 0.8868961553504235}. Best is trial 205 with value: 0.3768699999999999.\n",
      "[I 2025-06-29 15:17:58,414] Trial 229 finished with value: 0.3766251111111111 and parameters: {'LightGBM (gbdt)': 0.3122368850262869, 'LightGBM (goss)': 0.11314333705441225, 'XGBoost': -0.1605389525480782, 'AutoGluon': 0.5126869330222514, 'LogisticRegression': 0.8456658361495875}. Best is trial 205 with value: 0.3768699999999999.\n",
      "[I 2025-06-29 15:17:58,581] Trial 232 finished with value: 0.37677555555555564 and parameters: {'LightGBM (gbdt)': 0.2124866646656379, 'LightGBM (goss)': -0.1363906561034376, 'XGBoost': -0.05675967988296041, 'AutoGluon': 0.5138656720541326, 'LogisticRegression': 0.8489153020207344}. Best is trial 205 with value: 0.3768699999999999.\n",
      "[I 2025-06-29 15:17:58,649] Trial 230 finished with value: 0.37669555555555556 and parameters: {'LightGBM (gbdt)': 0.32360147456403615, 'LightGBM (goss)': 0.09045575512080051, 'XGBoost': -0.16276364304882382, 'AutoGluon': 0.41455785370025366, 'LogisticRegression': 0.8398959696592331}. Best is trial 205 with value: 0.3768699999999999.\n",
      "[I 2025-06-29 15:17:58,861] Trial 231 finished with value: 0.3766486666666667 and parameters: {'LightGBM (gbdt)': 0.3050400881813232, 'LightGBM (goss)': 0.0878447027318729, 'XGBoost': -0.0563738248204132, 'AutoGluon': 0.40919321050723334, 'LogisticRegression': 0.8615427773260917}. Best is trial 205 with value: 0.3768699999999999.\n",
      "[I 2025-06-29 15:18:05,043] Trial 235 finished with value: 0.37680511111111104 and parameters: {'LightGBM (gbdt)': 0.20849334156803415, 'LightGBM (goss)': -0.042678127647511485, 'XGBoost': -0.052872477771103876, 'AutoGluon': 0.41478649196375444, 'LogisticRegression': 0.9259954469526368}. Best is trial 205 with value: 0.3768699999999999.\n",
      "[I 2025-06-29 15:18:05,408] Trial 236 finished with value: 0.376770888888889 and parameters: {'LightGBM (gbdt)': 0.20502947014370118, 'LightGBM (goss)': -0.04990792129172536, 'XGBoost': -0.10182144527819285, 'AutoGluon': 0.42211347901445345, 'LogisticRegression': 0.9169690438832403}. Best is trial 205 with value: 0.3768699999999999.\n",
      "[I 2025-06-29 15:18:05,767] Trial 233 finished with value: 0.3766826666666666 and parameters: {'LightGBM (gbdt)': 0.12927114723608527, 'LightGBM (goss)': -0.04252368009664126, 'XGBoost': -0.1033856074962073, 'AutoGluon': 0.41501774710873307, 'LogisticRegression': 0.91542504208925}. Best is trial 205 with value: 0.3768699999999999.\n",
      "[I 2025-06-29 15:18:05,943] Trial 234 finished with value: 0.37669422222222226 and parameters: {'LightGBM (gbdt)': 0.13844257004180877, 'LightGBM (goss)': -0.036617029163701575, 'XGBoost': -0.10072201102828056, 'AutoGluon': 0.4454965784283047, 'LogisticRegression': 0.918545711687685}. Best is trial 205 with value: 0.3768699999999999.\n",
      "[I 2025-06-29 15:18:11,787] Trial 240 finished with value: 0.3736375555555555 and parameters: {'LightGBM (gbdt)': 0.05682720800296334, 'LightGBM (goss)': 0.20796510260048598, 'XGBoost': -0.2392172153166648, 'AutoGluon': -0.10327980314099738, 'LogisticRegression': 0.878811220403067}. Best is trial 205 with value: 0.3768699999999999.\n",
      "[I 2025-06-29 15:18:12,219] Trial 237 finished with value: 0.37675377777777785 and parameters: {'LightGBM (gbdt)': 0.13409380209524657, 'LightGBM (goss)': -0.02703544371676344, 'XGBoost': -0.1031826354760408, 'AutoGluon': 0.4585404552100985, 'LogisticRegression': 0.9187924513517556}. Best is trial 205 with value: 0.3768699999999999.\n",
      "[I 2025-06-29 15:18:12,364] Trial 238 finished with value: 0.37681555555555574 and parameters: {'LightGBM (gbdt)': 0.25700997891468164, 'LightGBM (goss)': -0.02712160105186147, 'XGBoost': -0.10346780817480032, 'AutoGluon': 0.46002474154180406, 'LogisticRegression': 0.8815734575939883}. Best is trial 205 with value: 0.3768699999999999.\n",
      "[I 2025-06-29 15:18:12,632] Trial 239 finished with value: 0.37655133333333335 and parameters: {'LightGBM (gbdt)': 0.25501652192801344, 'LightGBM (goss)': -0.12096819249088414, 'XGBoost': -0.2265307989790788, 'AutoGluon': 0.463795870300297, 'LogisticRegression': 0.875088036392024}. Best is trial 205 with value: 0.3768699999999999.\n",
      "[I 2025-06-29 15:18:18,001] Trial 243 finished with value: 0.37674622222222226 and parameters: {'LightGBM (gbdt)': 0.2540195215188755, 'LightGBM (goss)': -0.12374967308991211, 'XGBoost': -0.15609757267677987, 'AutoGluon': 0.5104312818884699, 'LogisticRegression': 0.835547550241241}. Best is trial 205 with value: 0.3768699999999999.\n",
      "[I 2025-06-29 15:18:18,198] Trial 242 finished with value: 0.37646888888888885 and parameters: {'LightGBM (gbdt)': 0.25564619277835615, 'LightGBM (goss)': -0.11931356500710916, 'XGBoost': -0.25397569669425196, 'AutoGluon': 0.48769909226270736, 'LogisticRegression': 0.8400661679814573}. Best is trial 205 with value: 0.3768699999999999.\n",
      "[I 2025-06-29 15:18:18,573] Trial 244 finished with value: 0.37665866666666653 and parameters: {'LightGBM (gbdt)': 0.2526168854897042, 'LightGBM (goss)': -0.1306678799337726, 'XGBoost': -0.16522197111240783, 'AutoGluon': 0.5002066761657177, 'LogisticRegression': 0.8320709632352375}. Best is trial 205 with value: 0.3768699999999999.\n",
      "[I 2025-06-29 15:18:18,758] Trial 241 finished with value: 0.3764548888888888 and parameters: {'LightGBM (gbdt)': 0.2567756039763764, 'LightGBM (goss)': -0.12581811578188234, 'XGBoost': -0.2560098454018086, 'AutoGluon': 0.4680875172646552, 'LogisticRegression': 0.8395098224403867}. Best is trial 205 with value: 0.3768699999999999.\n",
      "[I 2025-06-29 15:18:23,841] Trial 245 finished with value: 0.3767095555555556 and parameters: {'LightGBM (gbdt)': 0.3728546476297373, 'LightGBM (goss)': -0.008329981074086702, 'XGBoost': -0.1655535084400144, 'AutoGluon': 0.3547837848526231, 'LogisticRegression': 0.7674951806725107}. Best is trial 205 with value: 0.3768699999999999.\n",
      "[I 2025-06-29 15:18:24,260] Trial 246 finished with value: 0.3767295555555556 and parameters: {'LightGBM (gbdt)': 0.28990723796415924, 'LightGBM (goss)': -0.0011534053588507578, 'XGBoost': -0.16585456498604542, 'AutoGluon': 0.3513757250247318, 'LogisticRegression': 0.8723164072748548}. Best is trial 205 with value: 0.3768699999999999.\n",
      "[I 2025-06-29 15:18:24,656] Trial 248 finished with value: 0.3767862222222222 and parameters: {'LightGBM (gbdt)': 0.20946714803087751, 'LightGBM (goss)': 0.0009316630402495334, 'XGBoost': -0.05623657380939562, 'AutoGluon': 0.3549433111984604, 'LogisticRegression': 0.8901271271579617}. Best is trial 205 with value: 0.3768699999999999.\n",
      "[I 2025-06-29 15:18:24,825] Trial 247 finished with value: 0.3766935555555555 and parameters: {'LightGBM (gbdt)': 0.36058855301198844, 'LightGBM (goss)': 0.0038546765644938766, 'XGBoost': -0.1764167333378071, 'AutoGluon': 0.3528062901886257, 'LogisticRegression': 0.7626222948936782}. Best is trial 205 with value: 0.3768699999999999.\n",
      "[I 2025-06-29 15:18:26,869] Trial 249 finished with value: 0.3768695555555555 and parameters: {'LightGBM (gbdt)': 0.20027314171816651, 'LightGBM (goss)': 0.057075615501944385, 'XGBoost': -0.044003309212100716, 'AutoGluon': 0.40881395546976335, 'LogisticRegression': 0.8833414519191978}. Best is trial 205 with value: 0.3768699999999999.\n"
     ]
    }
   ],
   "source": [
    "def objective(trial):\n",
    "    weights = [trial.suggest_float(model, -1, 1) for model in models]\n",
    "    weights /= np.sum(weights)\n",
    "\n",
    "    idxs = [0, 7, 14, 21, 28]\n",
    "    pred_probs = np.zeros((X.shape[0], 7))\n",
    "    for idx, weight in zip(idxs, weights):\n",
    "        pred_probs += X.iloc[:, idx:idx+7].values * weight\n",
    "        \n",
    "    return map3(y, pred_probs)\n",
    "\n",
    "sampler = optuna.samplers.TPESampler(seed=CFG.seed)\n",
    "study = optuna.create_study(direction='maximize', sampler=sampler)\n",
    "study.optimize(objective, n_trials=250, n_jobs=-1)"
   ]
  },
  {
   "cell_type": "code",
   "execution_count": 18,
   "id": "699f8f2e",
   "metadata": {
    "execution": {
     "iopub.execute_input": "2025-06-29T15:18:26.918563Z",
     "iopub.status.busy": "2025-06-29T15:18:26.918183Z",
     "iopub.status.idle": "2025-06-29T15:18:26.998816Z",
     "shell.execute_reply": "2025-06-29T15:18:26.997868Z"
    },
    "papermill": {
     "duration": 0.101978,
     "end_time": "2025-06-29T15:18:27.000433",
     "exception": false,
     "start_time": "2025-06-29T15:18:26.898455",
     "status": "completed"
    },
    "tags": []
   },
   "outputs": [],
   "source": [
    "scores['WeightedEnsemble'] = [study.best_value] * CFG.n_folds\n",
    "\n",
    "best_weights = [study.best_params[model] for model in models]\n",
    "best_weights /= np.sum(best_weights)\n",
    "\n",
    "idxs = [0, 7, 14, 21, 28]\n",
    "weighted_test_preds = np.zeros((X_test.shape[0], 7))\n",
    "for idx, weight in zip(idxs, best_weights):\n",
    "    weighted_test_preds += X_test.iloc[:, idx:idx+7].values * weight"
   ]
  },
  {
   "cell_type": "code",
   "execution_count": 19,
   "id": "7e3ee144",
   "metadata": {
    "execution": {
     "iopub.execute_input": "2025-06-29T15:18:27.040403Z",
     "iopub.status.busy": "2025-06-29T15:18:27.040042Z",
     "iopub.status.idle": "2025-06-29T15:18:53.397438Z",
     "shell.execute_reply": "2025-06-29T15:18:53.396558Z"
    },
    "papermill": {
     "duration": 26.3789,
     "end_time": "2025-06-29T15:18:53.399134",
     "exception": false,
     "start_time": "2025-06-29T15:18:27.020234",
     "status": "completed"
    },
    "tags": []
   },
   "outputs": [
    {
     "data": {
      "text/html": [
       "<div>\n",
       "<style scoped>\n",
       "    .dataframe tbody tr th:only-of-type {\n",
       "        vertical-align: middle;\n",
       "    }\n",
       "\n",
       "    .dataframe tbody tr th {\n",
       "        vertical-align: top;\n",
       "    }\n",
       "\n",
       "    .dataframe thead th {\n",
       "        text-align: right;\n",
       "    }\n",
       "</style>\n",
       "<table border=\"1\" class=\"dataframe\">\n",
       "  <thead>\n",
       "    <tr style=\"text-align: right;\">\n",
       "      <th></th>\n",
       "      <th>id</th>\n",
       "      <th>Fertilizer Name</th>\n",
       "    </tr>\n",
       "  </thead>\n",
       "  <tbody>\n",
       "    <tr>\n",
       "      <th>0</th>\n",
       "      <td>750000</td>\n",
       "      <td>10-26-26 20-20 DAP</td>\n",
       "    </tr>\n",
       "    <tr>\n",
       "      <th>1</th>\n",
       "      <td>750001</td>\n",
       "      <td>17-17-17 28-28 Urea</td>\n",
       "    </tr>\n",
       "    <tr>\n",
       "      <th>2</th>\n",
       "      <td>750002</td>\n",
       "      <td>20-20 Urea DAP</td>\n",
       "    </tr>\n",
       "    <tr>\n",
       "      <th>3</th>\n",
       "      <td>750003</td>\n",
       "      <td>14-35-14 17-17-17 Urea</td>\n",
       "    </tr>\n",
       "    <tr>\n",
       "      <th>4</th>\n",
       "      <td>750004</td>\n",
       "      <td>Urea 20-20 10-26-26</td>\n",
       "    </tr>\n",
       "  </tbody>\n",
       "</table>\n",
       "</div>"
      ],
      "text/plain": [
       "       id         Fertilizer Name\n",
       "0  750000      10-26-26 20-20 DAP\n",
       "1  750001     17-17-17 28-28 Urea\n",
       "2  750002          20-20 Urea DAP\n",
       "3  750003  14-35-14 17-17-17 Urea\n",
       "4  750004     Urea 20-20 10-26-26"
      ]
     },
     "execution_count": 19,
     "metadata": {},
     "output_type": "execute_result"
    }
   ],
   "source": [
    "create_submission(\"weighted-ensemble\", weighted_test_preds, np.mean(scores[\"WeightedEnsemble\"])).head()"
   ]
  },
  {
   "cell_type": "markdown",
   "id": "65421796",
   "metadata": {
    "papermill": {
     "duration": 0.020506,
     "end_time": "2025-06-29T15:18:53.438947",
     "exception": false,
     "start_time": "2025-06-29T15:18:53.418441",
     "status": "completed"
    },
    "tags": []
   },
   "source": [
    "## Weighted VotingClassifier"
   ]
  },
  {
   "cell_type": "code",
   "execution_count": 20,
   "id": "d4f35618",
   "metadata": {
    "execution": {
     "iopub.execute_input": "2025-06-29T15:18:53.480828Z",
     "iopub.status.busy": "2025-06-29T15:18:53.480473Z",
     "iopub.status.idle": "2025-06-29T15:19:04.705969Z",
     "shell.execute_reply": "2025-06-29T15:19:04.704871Z"
    },
    "papermill": {
     "duration": 11.248174,
     "end_time": "2025-06-29T15:19:04.707512",
     "exception": false,
     "start_time": "2025-06-29T15:18:53.459338",
     "status": "completed"
    },
    "tags": []
   },
   "outputs": [
    {
     "name": "stdout",
     "output_type": "stream",
     "text": [
      "Training VotingClassifier\n",
      "\n",
      "--- Fold 1 - MAP@3: 0.376384\n",
      "--- Fold 2 - MAP@3: 0.376521\n",
      "--- Fold 3 - MAP@3: 0.378446\n",
      "--- Fold 4 - MAP@3: 0.375606\n",
      "--- Fold 5 - MAP@3: 0.377393\n",
      "\n",
      "------ Overall MAP@3: 0.376870 | Average MAP@3: 0.376870 ± 0.000971\n"
     ]
    }
   ],
   "source": [
    "weighted_voting_model = VotingClassifier(estimators, n_jobs=-1, voting='soft', weights=best_weights)\n",
    "weighted_voting_trainer = Trainer(weighted_voting_model)\n",
    "_, weighted_voting_test_pred_probs, scores[\"VotingClassifier (weighted)\"] = weighted_voting_trainer.fit_predict(X, y, X_test)"
   ]
  },
  {
   "cell_type": "code",
   "execution_count": 21,
   "id": "95b8dc09",
   "metadata": {
    "execution": {
     "iopub.execute_input": "2025-06-29T15:19:04.747699Z",
     "iopub.status.busy": "2025-06-29T15:19:04.747348Z",
     "iopub.status.idle": "2025-06-29T15:19:30.894699Z",
     "shell.execute_reply": "2025-06-29T15:19:30.893794Z"
    },
    "papermill": {
     "duration": 26.169098,
     "end_time": "2025-06-29T15:19:30.896266",
     "exception": false,
     "start_time": "2025-06-29T15:19:04.727168",
     "status": "completed"
    },
    "tags": []
   },
   "outputs": [
    {
     "data": {
      "text/html": [
       "<div>\n",
       "<style scoped>\n",
       "    .dataframe tbody tr th:only-of-type {\n",
       "        vertical-align: middle;\n",
       "    }\n",
       "\n",
       "    .dataframe tbody tr th {\n",
       "        vertical-align: top;\n",
       "    }\n",
       "\n",
       "    .dataframe thead th {\n",
       "        text-align: right;\n",
       "    }\n",
       "</style>\n",
       "<table border=\"1\" class=\"dataframe\">\n",
       "  <thead>\n",
       "    <tr style=\"text-align: right;\">\n",
       "      <th></th>\n",
       "      <th>id</th>\n",
       "      <th>Fertilizer Name</th>\n",
       "    </tr>\n",
       "  </thead>\n",
       "  <tbody>\n",
       "    <tr>\n",
       "      <th>0</th>\n",
       "      <td>750000</td>\n",
       "      <td>10-26-26 20-20 DAP</td>\n",
       "    </tr>\n",
       "    <tr>\n",
       "      <th>1</th>\n",
       "      <td>750001</td>\n",
       "      <td>17-17-17 28-28 Urea</td>\n",
       "    </tr>\n",
       "    <tr>\n",
       "      <th>2</th>\n",
       "      <td>750002</td>\n",
       "      <td>20-20 Urea DAP</td>\n",
       "    </tr>\n",
       "    <tr>\n",
       "      <th>3</th>\n",
       "      <td>750003</td>\n",
       "      <td>14-35-14 17-17-17 Urea</td>\n",
       "    </tr>\n",
       "    <tr>\n",
       "      <th>4</th>\n",
       "      <td>750004</td>\n",
       "      <td>Urea 20-20 10-26-26</td>\n",
       "    </tr>\n",
       "  </tbody>\n",
       "</table>\n",
       "</div>"
      ],
      "text/plain": [
       "       id         Fertilizer Name\n",
       "0  750000      10-26-26 20-20 DAP\n",
       "1  750001     17-17-17 28-28 Urea\n",
       "2  750002          20-20 Urea DAP\n",
       "3  750003  14-35-14 17-17-17 Urea\n",
       "4  750004     Urea 20-20 10-26-26"
      ]
     },
     "execution_count": 21,
     "metadata": {},
     "output_type": "execute_result"
    }
   ],
   "source": [
    "create_submission(\"weighted-voting-classifier\", weighted_voting_test_pred_probs, np.mean(scores[\"VotingClassifier (weighted)\"])).head()"
   ]
  },
  {
   "cell_type": "markdown",
   "id": "1963b59e",
   "metadata": {
    "papermill": {
     "duration": 0.019443,
     "end_time": "2025-06-29T15:19:30.935285",
     "exception": false,
     "start_time": "2025-06-29T15:19:30.915842",
     "status": "completed"
    },
    "tags": []
   },
   "source": [
    "# Results"
   ]
  },
  {
   "cell_type": "code",
   "execution_count": 22,
   "id": "d5bc326f",
   "metadata": {
    "execution": {
     "iopub.execute_input": "2025-06-29T15:19:30.976518Z",
     "iopub.status.busy": "2025-06-29T15:19:30.976222Z",
     "iopub.status.idle": "2025-06-29T15:19:31.529422Z",
     "shell.execute_reply": "2025-06-29T15:19:31.528431Z"
    },
    "papermill": {
     "duration": 0.576369,
     "end_time": "2025-06-29T15:19:31.531048",
     "exception": false,
     "start_time": "2025-06-29T15:19:30.954679",
     "status": "completed"
    },
    "tags": []
   },
   "outputs": [
    {
     "data": {
      "image/png": "[encoded data removed]",
      "text/plain": [
       "<Figure size 1500x400 with 2 Axes>"
      ]
     },
     "metadata": {},
     "output_type": "display_data"
    }
   ],
   "source": [
    "scores = pd.DataFrame(scores)\n",
    "mean_scores = scores.mean().sort_values(ascending=False)\n",
    "order = scores.mean().sort_values(ascending=False).index.tolist()\n",
    "\n",
    "min_score = mean_scores.min()\n",
    "max_score = mean_scores.max()\n",
    "padding = (max_score - min_score) * 0.5\n",
    "lower_limit = min_score - padding\n",
    "upper_limit = max_score + padding\n",
    "\n",
    "fig, axs = plt.subplots(1, 2, figsize=(15, scores.shape[1] * 0.4))\n",
    "\n",
    "boxplot = sns.boxplot(data=scores, order=order, ax=axs[0], orient=\"h\", palette=\"RdYlGn_r\")\n",
    "axs[0].set_title(f\"Fold MAP@3\")\n",
    "axs[0].set_xlabel(\"\")\n",
    "axs[0].set_ylabel(\"\")\n",
    "\n",
    "barplot = sns.barplot(x=mean_scores.values, y=mean_scores.index, ax=axs[1], palette=\"RdYlGn_r\")\n",
    "axs[1].set_title(f\"Mean MAP@3\")\n",
    "axs[1].set_xlabel(\"\")\n",
    "axs[1].set_xlim(left=lower_limit, right=upper_limit)\n",
    "axs[1].set_ylabel(\"\")\n",
    "\n",
    "for i, score in enumerate(mean_scores.values):\n",
    "    barplot.text(score, i, round(score, 6), va=\"center\")\n",
    "\n",
    "plt.tight_layout()\n",
    "plt.show()"
   ]
  }
 ],
 "metadata": {
  "kaggle": {
   "accelerator": "none",
   "dataSources": [
    {
     "databundleVersionId": 12184666,
     "isSourceIdPinned": false,
     "sourceId": 91717,
     "sourceType": "competition"
    },
    {
     "sourceId": 246349609,
     "sourceType": "kernelVersion"
    }
   ],
   "dockerImageVersionId": 31040,
   "isGpuEnabled": false,
   "isInternetEnabled": true,
   "language": "python",
   "sourceType": "notebook"
  },
  "kernelspec": {
   "display_name": "Python 3",
   "language": "python",
   "name": "python3"
  },
  "language_info": {
   "codemirror_mode": {
    "name": "ipython",
    "version": 3
   },
   "file_extension": ".py",
   "mimetype": "text/x-python",
   "name": "python",
   "nbconvert_exporter": "python",
   "pygments_lexer": "ipython3",
   "version": "3.11.11"
  },
  "papermill": {
   "default_parameters": {},
   "duration": 995.407706,
   "end_time": "2025-06-29T15:19:34.273576",
   "environment_variables": {},
   "exception": null,
   "input_path": "__notebook__.ipynb",
   "output_path": "__notebook__.ipynb",
   "parameters": {},
   "start_time": "2025-06-29T15:02:58.865870",
   "version": "2.6.0"
  }
 },
 "nbformat": 4,
 "nbformat_minor": 5
}
