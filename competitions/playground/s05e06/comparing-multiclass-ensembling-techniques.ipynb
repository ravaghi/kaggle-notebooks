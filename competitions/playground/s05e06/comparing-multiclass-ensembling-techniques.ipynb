{
 "cells": [
  {
   "cell_type": "markdown",
   "id": "a7d29b88",
   "metadata": {
    "papermill": {
     "duration": 0.00486,
     "end_time": "2025-06-25T15:31:24.053441",
     "exception": false,
     "start_time": "2025-06-25T15:31:24.048581",
     "status": "completed"
    },
    "tags": []
   },
   "source": [
    "# Imports and configs"
   ]
  },
  {
   "cell_type": "code",
   "execution_count": 1,
   "id": "96f4a630",
   "metadata": {
    "_kg_hide-output": true,
    "execution": {
     "iopub.execute_input": "2025-06-25T15:31:24.063143Z",
     "iopub.status.busy": "2025-06-25T15:31:24.062849Z",
     "iopub.status.idle": "2025-06-25T15:31:33.521935Z",
     "shell.execute_reply": "2025-06-25T15:31:33.520877Z"
    },
    "papermill": {
     "duration": 9.465963,
     "end_time": "2025-06-25T15:31:33.523721",
     "exception": false,
     "start_time": "2025-06-25T15:31:24.057758",
     "status": "completed"
    },
    "tags": []
   },
   "outputs": [
    {
     "name": "stdout",
     "output_type": "stream",
     "text": [
      "\u001b[2K   \u001b[90m━━━━━━━━━━━━━━━━━━━━━━━━━━━━━━━━━━━━━━━━\u001b[0m \u001b[32m13.3/13.3 MB\u001b[0m \u001b[31m85.2 MB/s\u001b[0m eta \u001b[36m0:00:00\u001b[0m\r\n",
      "\u001b[?25h\u001b[31mERROR: pip's dependency resolver does not currently take into account all the packages that are installed. This behaviour is the source of the following dependency conflicts.\r\n",
      "cesium 0.12.4 requires numpy<3.0,>=2.0, but you have numpy 1.26.4 which is incompatible.\u001b[0m\u001b[31m\r\n",
      "\u001b[0m"
     ]
    }
   ],
   "source": [
    "!pip install -q scikit-learn==1.5.2"
   ]
  },
  {
   "cell_type": "code",
   "execution_count": 2,
   "id": "0fefb816",
   "metadata": {
    "execution": {
     "iopub.execute_input": "2025-06-25T15:31:33.535432Z",
     "iopub.status.busy": "2025-06-25T15:31:33.535056Z",
     "iopub.status.idle": "2025-06-25T15:31:38.154204Z",
     "shell.execute_reply": "2025-06-25T15:31:38.153451Z"
    },
    "papermill": {
     "duration": 4.626994,
     "end_time": "2025-06-25T15:31:38.155845",
     "exception": false,
     "start_time": "2025-06-25T15:31:33.528851",
     "status": "completed"
    },
    "tags": []
   },
   "outputs": [],
   "source": [
    "from sklearn.ensemble import StackingClassifier, VotingClassifier\n",
    "from sklearn.base import BaseEstimator, ClassifierMixin, clone\n",
    "from sklearn.model_selection import StratifiedKFold\n",
    "from sklearn.linear_model import LogisticRegression\n",
    "from sklearn.preprocessing import LabelEncoder\n",
    "from sklearn.utils import check_array\n",
    "import matplotlib.pyplot as plt\n",
    "import seaborn as sns\n",
    "import pandas as pd\n",
    "import numpy as np\n",
    "import warnings\n",
    "import joblib\n",
    "import optuna\n",
    "import shutil\n",
    "import json\n",
    "import gc\n",
    "\n",
    "warnings.filterwarnings(\"ignore\")"
   ]
  },
  {
   "cell_type": "code",
   "execution_count": 3,
   "id": "a07c4e2d",
   "metadata": {
    "execution": {
     "iopub.execute_input": "2025-06-25T15:31:38.167151Z",
     "iopub.status.busy": "2025-06-25T15:31:38.166257Z",
     "iopub.status.idle": "2025-06-25T15:31:38.171594Z",
     "shell.execute_reply": "2025-06-25T15:31:38.170729Z"
    },
    "papermill": {
     "duration": 0.012226,
     "end_time": "2025-06-25T15:31:38.172968",
     "exception": false,
     "start_time": "2025-06-25T15:31:38.160742",
     "status": "completed"
    },
    "tags": []
   },
   "outputs": [],
   "source": [
    "class CFG:\n",
    "    train_path = \"/kaggle/input/playground-series-s5e6/train.csv\"\n",
    "    test_path = \"/kaggle/input/playground-series-s5e6/test.csv\"\n",
    "    sample_sub_path = \"/kaggle/input/playground-series-s5e6/sample_submission.csv\"\n",
    "    \n",
    "    target = \"Fertilizer Name\"\n",
    "    n_folds = 5\n",
    "    seed = 42"
   ]
  },
  {
   "cell_type": "markdown",
   "id": "c79641e3",
   "metadata": {
    "papermill": {
     "duration": 0.004282,
     "end_time": "2025-06-25T15:31:38.181979",
     "exception": false,
     "start_time": "2025-06-25T15:31:38.177697",
     "status": "completed"
    },
    "tags": []
   },
   "source": [
    "# Data loading"
   ]
  },
  {
   "cell_type": "code",
   "execution_count": 4,
   "id": "84965a01",
   "metadata": {
    "execution": {
     "iopub.execute_input": "2025-06-25T15:31:38.192589Z",
     "iopub.status.busy": "2025-06-25T15:31:38.192194Z",
     "iopub.status.idle": "2025-06-25T15:31:39.836519Z",
     "shell.execute_reply": "2025-06-25T15:31:39.835463Z"
    },
    "papermill": {
     "duration": 1.651541,
     "end_time": "2025-06-25T15:31:39.838266",
     "exception": false,
     "start_time": "2025-06-25T15:31:38.186725",
     "status": "completed"
    },
    "tags": []
   },
   "outputs": [],
   "source": [
    "train = pd.read_csv(CFG.train_path, index_col=\"id\")\n",
    "test = pd.read_csv(CFG.test_path, index_col=\"id\")\n",
    "\n",
    "label_encoder = LabelEncoder()\n",
    "train[CFG.target] = label_encoder.fit_transform(train[CFG.target])\n",
    "\n",
    "X = train.drop(CFG.target, axis=1)\n",
    "y = train[CFG.target]\n",
    "X_test = test"
   ]
  },
  {
   "cell_type": "code",
   "execution_count": 5,
   "id": "028c526c",
   "metadata": {
    "_kg_hide-input": true,
    "execution": {
     "iopub.execute_input": "2025-06-25T15:31:39.849480Z",
     "iopub.status.busy": "2025-06-25T15:31:39.849123Z",
     "iopub.status.idle": "2025-06-25T15:31:39.855772Z",
     "shell.execute_reply": "2025-06-25T15:31:39.854939Z"
    },
    "papermill": {
     "duration": 0.013728,
     "end_time": "2025-06-25T15:31:39.857098",
     "exception": false,
     "start_time": "2025-06-25T15:31:39.843370",
     "status": "completed"
    },
    "tags": []
   },
   "outputs": [],
   "source": [
    "def map3(y_true, y_pred_probs):\n",
    "    y_true = [[x] for x in y_true]\n",
    "    y_pred_probs = np.argsort(y_pred_probs, axis=1)[:, -3:][:, ::-1].tolist()\n",
    "    \n",
    "    def ap3(y_true, y_pred_probs):\n",
    "        y_pred_probs = y_pred_probs[:3]\n",
    "\n",
    "        score = 0.0\n",
    "        num_hits = 0.0\n",
    "\n",
    "        for i,p in enumerate(y_pred_probs):\n",
    "            if p in y_true and p not in y_pred_probs[:i]:\n",
    "                num_hits += 1.0\n",
    "                score += num_hits / (i+1.0)\n",
    "\n",
    "        if not y_true:\n",
    "            return 0.0\n",
    "\n",
    "        return score\n",
    "    \n",
    "    return np.mean([ap3(a,p) for a,p in zip(y_true, y_pred_probs)])"
   ]
  },
  {
   "cell_type": "code",
   "execution_count": 6,
   "id": "4b98db29",
   "metadata": {
    "execution": {
     "iopub.execute_input": "2025-06-25T15:31:39.868064Z",
     "iopub.status.busy": "2025-06-25T15:31:39.867436Z",
     "iopub.status.idle": "2025-06-25T15:31:56.213441Z",
     "shell.execute_reply": "2025-06-25T15:31:56.212533Z"
    },
    "papermill": {
     "duration": 16.353191,
     "end_time": "2025-06-25T15:31:56.215046",
     "exception": false,
     "start_time": "2025-06-25T15:31:39.861855",
     "status": "completed"
    },
    "tags": []
   },
   "outputs": [],
   "source": [
    "scores = {}\n",
    "\n",
    "oof_pred_probs = joblib.load(\"/kaggle/input/s05e06-fertilizer-optimization-ensemble/oof_pred_probs.pkl\")\n",
    "test_pred_probs = joblib.load(\"/kaggle/input/s05e06-fertilizer-optimization-ensemble/test_pred_probs.pkl\")\n",
    "\n",
    "start_idx = 0\n",
    "models = [\"LightGBM (gbdt)\", \"LightGBM (goss)\", \"XGBoost\", \"AutoGluon\", \"LogisticRegression\"]\n",
    "for model in models:\n",
    "    fold_scores = []        \n",
    "    \n",
    "    skf = StratifiedKFold(n_splits=CFG.n_folds, random_state=CFG.seed, shuffle=True)\n",
    "    for _, val_idx in skf.split(X, y):   \n",
    "        fold_score = map3(y[val_idx], oof_pred_probs.iloc[val_idx, start_idx:start_idx+7])\n",
    "        fold_scores.append(fold_score)\n",
    "        \n",
    "    scores[model] = fold_scores\n",
    "    start_idx += 7"
   ]
  },
  {
   "cell_type": "code",
   "execution_count": 7,
   "id": "b2ed4d60",
   "metadata": {
    "_kg_hide-input": true,
    "execution": {
     "iopub.execute_input": "2025-06-25T15:31:56.225894Z",
     "iopub.status.busy": "2025-06-25T15:31:56.225604Z",
     "iopub.status.idle": "2025-06-25T15:31:56.236115Z",
     "shell.execute_reply": "2025-06-25T15:31:56.235345Z"
    },
    "papermill": {
     "duration": 0.017559,
     "end_time": "2025-06-25T15:31:56.237614",
     "exception": false,
     "start_time": "2025-06-25T15:31:56.220055",
     "status": "completed"
    },
    "tags": []
   },
   "outputs": [],
   "source": [
    "class Trainer:\n",
    "    def __init__(self, model, config=CFG):\n",
    "        self.model = model\n",
    "        self.config = config\n",
    "\n",
    "    def fit_predict(self, X, y, X_test):\n",
    "        print(f\"Training {self.model.__class__.__name__}\\n\")\n",
    "        \n",
    "        scores = []        \n",
    "        oof_pred_probs = np.zeros((X.shape[0], y.nunique()))\n",
    "        test_pred_probs = np.zeros((X_test.shape[0], y.nunique()))\n",
    "        \n",
    "        skf = StratifiedKFold(n_splits=self.config.n_folds, random_state=self.config.seed, shuffle=True)\n",
    "        for fold_idx, (train_idx, val_idx) in enumerate(skf.split(X, y)):\n",
    "            X_train, X_val = X.iloc[train_idx], X.iloc[val_idx]\n",
    "            y_train, y_val = y[train_idx], y[val_idx]\n",
    "            \n",
    "            model = clone(self.model)\n",
    "            model.fit(X_train, y_train)\n",
    "            \n",
    "            y_pred_probs = model.predict_proba(X_val)\n",
    "            oof_pred_probs[val_idx] = y_pred_probs\n",
    "            \n",
    "            temp_test_pred_probs = model.predict_proba(X_test)\n",
    "            test_pred_probs += temp_test_pred_probs / self.config.n_folds\n",
    "            \n",
    "            score = map3(y_val, y_pred_probs)\n",
    "            scores.append(score)\n",
    "            \n",
    "            del model, X_train, y_train, X_val, y_val, y_pred_probs\n",
    "            gc.collect()\n",
    "        \n",
    "            print(f\"--- Fold {fold_idx + 1} - MAP@3: {score:.6f}\")\n",
    "                            \n",
    "        overall_score = map3(y, oof_pred_probs)\n",
    "            \n",
    "        print(f\"\\n------ Overall MAP@3: {overall_score:.6f} | Average MAP@3: {np.mean(scores):.6f} ± {np.std(scores):.6f}\")\n",
    "        \n",
    "        return oof_pred_probs, test_pred_probs, scores\n",
    "\n",
    "    def tune(self, X, y):        \n",
    "        scores = []        \n",
    "        \n",
    "        skf = StratifiedKFold(n_splits=self.config.n_folds, random_state=self.config.seed, shuffle=True)\n",
    "        for train_idx, val_idx in skf.split(X, y):\n",
    "            X_train, X_val = X.iloc[train_idx], X.iloc[val_idx]\n",
    "            y_train, y_val = y[train_idx], y[val_idx]\n",
    "            \n",
    "            model = clone(self.model)\n",
    "            model.fit(X_train, y_train)\n",
    "            \n",
    "            y_pred_probs = model.predict_proba(X_val)            \n",
    "            score = map3(y_val, y_pred_probs)\n",
    "            scores.append(score)\n",
    "            \n",
    "            del model, X_train, y_train, X_val, y_val, y_pred_probs\n",
    "            gc.collect()\n",
    "            \n",
    "        return np.mean(scores)"
   ]
  },
  {
   "cell_type": "markdown",
   "id": "6329a7c1",
   "metadata": {
    "papermill": {
     "duration": 0.004431,
     "end_time": "2025-06-25T15:31:56.247754",
     "exception": false,
     "start_time": "2025-06-25T15:31:56.243323",
     "status": "completed"
    },
    "tags": []
   },
   "source": [
    "# Ensembling"
   ]
  },
  {
   "cell_type": "code",
   "execution_count": 8,
   "id": "4a39a111",
   "metadata": {
    "execution": {
     "iopub.execute_input": "2025-06-25T15:31:56.258041Z",
     "iopub.status.busy": "2025-06-25T15:31:56.257748Z",
     "iopub.status.idle": "2025-06-25T15:31:56.264248Z",
     "shell.execute_reply": "2025-06-25T15:31:56.263359Z"
    },
    "papermill": {
     "duration": 0.013582,
     "end_time": "2025-06-25T15:31:56.265828",
     "exception": false,
     "start_time": "2025-06-25T15:31:56.252246",
     "status": "completed"
    },
    "tags": []
   },
   "outputs": [],
   "source": [
    "X = oof_pred_probs\n",
    "X_test = test_pred_probs"
   ]
  },
  {
   "cell_type": "code",
   "execution_count": 9,
   "id": "ee43fc01",
   "metadata": {
    "execution": {
     "iopub.execute_input": "2025-06-25T15:31:56.277300Z",
     "iopub.status.busy": "2025-06-25T15:31:56.276930Z",
     "iopub.status.idle": "2025-06-25T15:31:56.282457Z",
     "shell.execute_reply": "2025-06-25T15:31:56.281682Z"
    },
    "papermill": {
     "duration": 0.012888,
     "end_time": "2025-06-25T15:31:56.283967",
     "exception": false,
     "start_time": "2025-06-25T15:31:56.271079",
     "status": "completed"
    },
    "tags": []
   },
   "outputs": [],
   "source": [
    "def create_submission(model, test_pred_probs, score):\n",
    "    final_predictions = []\n",
    "    for i in np.argsort(test_pred_probs)[:, -3:][:, ::-1]:\n",
    "        prediction = label_encoder.inverse_transform(i)\n",
    "        final_predictions.append(\" \".join(prediction))\n",
    "\n",
    "    sub = pd.read_csv(CFG.sample_sub_path)\n",
    "    sub[CFG.target] = final_predictions\n",
    "    sub.to_csv(f\"sub_{model}_{score:.6f}.csv\", index=False)\n",
    "    \n",
    "    return sub"
   ]
  },
  {
   "cell_type": "markdown",
   "id": "69ccb14c",
   "metadata": {
    "papermill": {
     "duration": 0.004332,
     "end_time": "2025-06-25T15:31:56.293202",
     "exception": false,
     "start_time": "2025-06-25T15:31:56.288870",
     "status": "completed"
    },
    "tags": []
   },
   "source": [
    "## LogisticRegression"
   ]
  },
  {
   "cell_type": "code",
   "execution_count": 10,
   "id": "372bdc23",
   "metadata": {
    "execution": {
     "iopub.execute_input": "2025-06-25T15:31:56.303679Z",
     "iopub.status.busy": "2025-06-25T15:31:56.303370Z",
     "iopub.status.idle": "2025-06-25T15:35:11.592109Z",
     "shell.execute_reply": "2025-06-25T15:35:11.591243Z"
    },
    "papermill": {
     "duration": 195.29561,
     "end_time": "2025-06-25T15:35:11.593509",
     "exception": false,
     "start_time": "2025-06-25T15:31:56.297899",
     "status": "completed"
    },
    "tags": []
   },
   "outputs": [
    {
     "name": "stdout",
     "output_type": "stream",
     "text": [
      "Training LogisticRegression\n",
      "\n",
      "--- Fold 1 - MAP@3: 0.376682\n",
      "--- Fold 2 - MAP@3: 0.376606\n",
      "--- Fold 3 - MAP@3: 0.378680\n",
      "--- Fold 4 - MAP@3: 0.375892\n",
      "--- Fold 5 - MAP@3: 0.377308\n",
      "\n",
      "------ Overall MAP@3: 0.377034 | Average MAP@3: 0.377034 ± 0.000938\n"
     ]
    }
   ],
   "source": [
    "lr_model = LogisticRegression(**{\n",
    "    'random_state': CFG.seed,\n",
    "    'max_iter': 10000,\n",
    "    'solver': 'liblinear',\n",
    "    'penalty': 'l2',\n",
    "    'C': 8.258833245228981, \n",
    "    'tol': 0.0013820006449731708, \n",
    "    'fit_intercept': True, \n",
    "    'class_weight': None\n",
    "}) \n",
    "\n",
    "lr_trainer = Trainer(lr_model)\n",
    "_, lr_test_pred_probs, scores[\"LogisticRegression (ensemble)\"] = lr_trainer.fit_predict(X, y, X_test)"
   ]
  },
  {
   "cell_type": "code",
   "execution_count": 11,
   "id": "635ebd13",
   "metadata": {
    "execution": {
     "iopub.execute_input": "2025-06-25T15:35:11.605601Z",
     "iopub.status.busy": "2025-06-25T15:35:11.605267Z",
     "iopub.status.idle": "2025-06-25T15:35:36.679217Z",
     "shell.execute_reply": "2025-06-25T15:35:36.678358Z"
    },
    "papermill": {
     "duration": 25.082051,
     "end_time": "2025-06-25T15:35:36.680972",
     "exception": false,
     "start_time": "2025-06-25T15:35:11.598921",
     "status": "completed"
    },
    "tags": []
   },
   "outputs": [
    {
     "data": {
      "text/html": [
       "<div>\n",
       "<style scoped>\n",
       "    .dataframe tbody tr th:only-of-type {\n",
       "        vertical-align: middle;\n",
       "    }\n",
       "\n",
       "    .dataframe tbody tr th {\n",
       "        vertical-align: top;\n",
       "    }\n",
       "\n",
       "    .dataframe thead th {\n",
       "        text-align: right;\n",
       "    }\n",
       "</style>\n",
       "<table border=\"1\" class=\"dataframe\">\n",
       "  <thead>\n",
       "    <tr style=\"text-align: right;\">\n",
       "      <th></th>\n",
       "      <th>id</th>\n",
       "      <th>Fertilizer Name</th>\n",
       "    </tr>\n",
       "  </thead>\n",
       "  <tbody>\n",
       "    <tr>\n",
       "      <th>0</th>\n",
       "      <td>750000</td>\n",
       "      <td>10-26-26 20-20 DAP</td>\n",
       "    </tr>\n",
       "    <tr>\n",
       "      <th>1</th>\n",
       "      <td>750001</td>\n",
       "      <td>17-17-17 28-28 10-26-26</td>\n",
       "    </tr>\n",
       "    <tr>\n",
       "      <th>2</th>\n",
       "      <td>750002</td>\n",
       "      <td>20-20 Urea DAP</td>\n",
       "    </tr>\n",
       "    <tr>\n",
       "      <th>3</th>\n",
       "      <td>750003</td>\n",
       "      <td>14-35-14 17-17-17 Urea</td>\n",
       "    </tr>\n",
       "    <tr>\n",
       "      <th>4</th>\n",
       "      <td>750004</td>\n",
       "      <td>Urea 20-20 28-28</td>\n",
       "    </tr>\n",
       "  </tbody>\n",
       "</table>\n",
       "</div>"
      ],
      "text/plain": [
       "       id          Fertilizer Name\n",
       "0  750000       10-26-26 20-20 DAP\n",
       "1  750001  17-17-17 28-28 10-26-26\n",
       "2  750002           20-20 Urea DAP\n",
       "3  750003   14-35-14 17-17-17 Urea\n",
       "4  750004         Urea 20-20 28-28"
      ]
     },
     "execution_count": 11,
     "metadata": {},
     "output_type": "execute_result"
    }
   ],
   "source": [
    "create_submission(\"logistic-regression\", lr_test_pred_probs, np.mean(scores[\"LogisticRegression (ensemble)\"])).head()"
   ]
  },
  {
   "cell_type": "markdown",
   "id": "b3265920",
   "metadata": {
    "papermill": {
     "duration": 0.005077,
     "end_time": "2025-06-25T15:35:36.691723",
     "exception": false,
     "start_time": "2025-06-25T15:35:36.686646",
     "status": "completed"
    },
    "tags": []
   },
   "source": [
    "## StackingClassifier"
   ]
  },
  {
   "cell_type": "code",
   "execution_count": 12,
   "id": "10d3e86e",
   "metadata": {
    "_kg_hide-input": true,
    "execution": {
     "iopub.execute_input": "2025-06-25T15:35:36.703659Z",
     "iopub.status.busy": "2025-06-25T15:35:36.702925Z",
     "iopub.status.idle": "2025-06-25T15:35:36.709229Z",
     "shell.execute_reply": "2025-06-25T15:35:36.708520Z"
    },
    "papermill": {
     "duration": 0.013701,
     "end_time": "2025-06-25T15:35:36.710609",
     "exception": false,
     "start_time": "2025-06-25T15:35:36.696908",
     "status": "completed"
    },
    "tags": []
   },
   "outputs": [],
   "source": [
    "# This is just a trick to avoid refitting all base models from scratch, which is what StackingClassifier and VotingClassifier do by default\n",
    "\n",
    "class PassThroughClassifier(BaseEstimator, ClassifierMixin):\n",
    "    def __init__(self, idx_cols):\n",
    "        self.idx_cols = idx_cols\n",
    "        self.is_fitted_ = True\n",
    "\n",
    "    def fit(self, X, y=None):\n",
    "        return self\n",
    "\n",
    "    def predict_proba(self, X):\n",
    "        return check_array(X)[:, self.idx_cols]\n",
    "\n",
    "\n",
    "estimators = [\n",
    "    ('LightGBM (gbdt)', PassThroughClassifier(list(range(0, 7)))),\n",
    "    ('LightGBM (goss)', PassThroughClassifier(list(range(7, 14)))),\n",
    "    ('XGBoost', PassThroughClassifier(list(range(14, 21)))),\n",
    "    ('AutoGluon', PassThroughClassifier(list(range(21, 28)))),\n",
    "    ('LogisticRegression', PassThroughClassifier(list(range(28, 35)))),\n",
    "]"
   ]
  },
  {
   "cell_type": "code",
   "execution_count": 13,
   "id": "fa14881d",
   "metadata": {
    "execution": {
     "iopub.execute_input": "2025-06-25T15:35:36.722142Z",
     "iopub.status.busy": "2025-06-25T15:35:36.721863Z",
     "iopub.status.idle": "2025-06-25T15:38:53.945312Z",
     "shell.execute_reply": "2025-06-25T15:38:53.944327Z"
    },
    "papermill": {
     "duration": 197.231011,
     "end_time": "2025-06-25T15:38:53.946789",
     "exception": false,
     "start_time": "2025-06-25T15:35:36.715778",
     "status": "completed"
    },
    "tags": []
   },
   "outputs": [
    {
     "name": "stdout",
     "output_type": "stream",
     "text": [
      "Training StackingClassifier\n",
      "\n",
      "--- Fold 1 - MAP@3: 0.376682\n",
      "--- Fold 2 - MAP@3: 0.376606\n",
      "--- Fold 3 - MAP@3: 0.378680\n",
      "--- Fold 4 - MAP@3: 0.375892\n",
      "--- Fold 5 - MAP@3: 0.377308\n",
      "\n",
      "------ Overall MAP@3: 0.377034 | Average MAP@3: 0.377034 ± 0.000938\n"
     ]
    }
   ],
   "source": [
    "stacking_model = StackingClassifier(estimators, cv='prefit', n_jobs=-1, final_estimator=clone(lr_model))\n",
    "stacking_trainer = Trainer(stacking_model)\n",
    "_, stacking_test_pred_probs, scores[\"StackingClassifier\"] = stacking_trainer.fit_predict(X, y, X_test)"
   ]
  },
  {
   "cell_type": "code",
   "execution_count": 14,
   "id": "0e368b28",
   "metadata": {
    "execution": {
     "iopub.execute_input": "2025-06-25T15:38:53.959348Z",
     "iopub.status.busy": "2025-06-25T15:38:53.959035Z",
     "iopub.status.idle": "2025-06-25T15:39:19.197168Z",
     "shell.execute_reply": "2025-06-25T15:39:19.196403Z"
    },
    "papermill": {
     "duration": 25.24613,
     "end_time": "2025-06-25T15:39:19.198745",
     "exception": false,
     "start_time": "2025-06-25T15:38:53.952615",
     "status": "completed"
    },
    "tags": []
   },
   "outputs": [
    {
     "data": {
      "text/html": [
       "<div>\n",
       "<style scoped>\n",
       "    .dataframe tbody tr th:only-of-type {\n",
       "        vertical-align: middle;\n",
       "    }\n",
       "\n",
       "    .dataframe tbody tr th {\n",
       "        vertical-align: top;\n",
       "    }\n",
       "\n",
       "    .dataframe thead th {\n",
       "        text-align: right;\n",
       "    }\n",
       "</style>\n",
       "<table border=\"1\" class=\"dataframe\">\n",
       "  <thead>\n",
       "    <tr style=\"text-align: right;\">\n",
       "      <th></th>\n",
       "      <th>id</th>\n",
       "      <th>Fertilizer Name</th>\n",
       "    </tr>\n",
       "  </thead>\n",
       "  <tbody>\n",
       "    <tr>\n",
       "      <th>0</th>\n",
       "      <td>750000</td>\n",
       "      <td>10-26-26 20-20 DAP</td>\n",
       "    </tr>\n",
       "    <tr>\n",
       "      <th>1</th>\n",
       "      <td>750001</td>\n",
       "      <td>17-17-17 28-28 10-26-26</td>\n",
       "    </tr>\n",
       "    <tr>\n",
       "      <th>2</th>\n",
       "      <td>750002</td>\n",
       "      <td>20-20 Urea DAP</td>\n",
       "    </tr>\n",
       "    <tr>\n",
       "      <th>3</th>\n",
       "      <td>750003</td>\n",
       "      <td>14-35-14 17-17-17 Urea</td>\n",
       "    </tr>\n",
       "    <tr>\n",
       "      <th>4</th>\n",
       "      <td>750004</td>\n",
       "      <td>Urea 20-20 28-28</td>\n",
       "    </tr>\n",
       "  </tbody>\n",
       "</table>\n",
       "</div>"
      ],
      "text/plain": [
       "       id          Fertilizer Name\n",
       "0  750000       10-26-26 20-20 DAP\n",
       "1  750001  17-17-17 28-28 10-26-26\n",
       "2  750002           20-20 Urea DAP\n",
       "3  750003   14-35-14 17-17-17 Urea\n",
       "4  750004         Urea 20-20 28-28"
      ]
     },
     "execution_count": 14,
     "metadata": {},
     "output_type": "execute_result"
    }
   ],
   "source": [
    "create_submission(\"stacking-classifier\", stacking_test_pred_probs, np.mean(scores[\"StackingClassifier\"])).head()"
   ]
  },
  {
   "cell_type": "markdown",
   "id": "e34fd6d6",
   "metadata": {
    "papermill": {
     "duration": 0.005826,
     "end_time": "2025-06-25T15:39:19.210913",
     "exception": false,
     "start_time": "2025-06-25T15:39:19.205087",
     "status": "completed"
    },
    "tags": []
   },
   "source": [
    "## VotingClassifier"
   ]
  },
  {
   "cell_type": "code",
   "execution_count": 15,
   "id": "485f864c",
   "metadata": {
    "execution": {
     "iopub.execute_input": "2025-06-25T15:39:19.224850Z",
     "iopub.status.busy": "2025-06-25T15:39:19.224129Z",
     "iopub.status.idle": "2025-06-25T15:39:29.866113Z",
     "shell.execute_reply": "2025-06-25T15:39:29.865144Z"
    },
    "papermill": {
     "duration": 10.650671,
     "end_time": "2025-06-25T15:39:29.867588",
     "exception": false,
     "start_time": "2025-06-25T15:39:19.216917",
     "status": "completed"
    },
    "tags": []
   },
   "outputs": [
    {
     "name": "stdout",
     "output_type": "stream",
     "text": [
      "Training VotingClassifier\n",
      "\n",
      "--- Fold 1 - MAP@3: 0.372964\n",
      "--- Fold 2 - MAP@3: 0.373240\n",
      "--- Fold 3 - MAP@3: 0.374519\n",
      "--- Fold 4 - MAP@3: 0.372252\n",
      "--- Fold 5 - MAP@3: 0.373658\n",
      "\n",
      "------ Overall MAP@3: 0.373327 | Average MAP@3: 0.373327 ± 0.000752\n"
     ]
    }
   ],
   "source": [
    "voting_model = VotingClassifier(estimators, n_jobs=-1, voting='soft')\n",
    "voting_trainer = Trainer(voting_model)\n",
    "_, voting_test_pred_probs, scores[\"VotingClassifier\"] = voting_trainer.fit_predict(X, y, X_test)"
   ]
  },
  {
   "cell_type": "code",
   "execution_count": 16,
   "id": "8e86e3a8",
   "metadata": {
    "execution": {
     "iopub.execute_input": "2025-06-25T15:39:29.881690Z",
     "iopub.status.busy": "2025-06-25T15:39:29.881383Z",
     "iopub.status.idle": "2025-06-25T15:39:54.859159Z",
     "shell.execute_reply": "2025-06-25T15:39:54.858347Z"
    },
    "papermill": {
     "duration": 24.986599,
     "end_time": "2025-06-25T15:39:54.860536",
     "exception": false,
     "start_time": "2025-06-25T15:39:29.873937",
     "status": "completed"
    },
    "tags": []
   },
   "outputs": [
    {
     "data": {
      "text/html": [
       "<div>\n",
       "<style scoped>\n",
       "    .dataframe tbody tr th:only-of-type {\n",
       "        vertical-align: middle;\n",
       "    }\n",
       "\n",
       "    .dataframe tbody tr th {\n",
       "        vertical-align: top;\n",
       "    }\n",
       "\n",
       "    .dataframe thead th {\n",
       "        text-align: right;\n",
       "    }\n",
       "</style>\n",
       "<table border=\"1\" class=\"dataframe\">\n",
       "  <thead>\n",
       "    <tr style=\"text-align: right;\">\n",
       "      <th></th>\n",
       "      <th>id</th>\n",
       "      <th>Fertilizer Name</th>\n",
       "    </tr>\n",
       "  </thead>\n",
       "  <tbody>\n",
       "    <tr>\n",
       "      <th>0</th>\n",
       "      <td>750000</td>\n",
       "      <td>10-26-26 20-20 DAP</td>\n",
       "    </tr>\n",
       "    <tr>\n",
       "      <th>1</th>\n",
       "      <td>750001</td>\n",
       "      <td>17-17-17 28-28 10-26-26</td>\n",
       "    </tr>\n",
       "    <tr>\n",
       "      <th>2</th>\n",
       "      <td>750002</td>\n",
       "      <td>20-20 Urea DAP</td>\n",
       "    </tr>\n",
       "    <tr>\n",
       "      <th>3</th>\n",
       "      <td>750003</td>\n",
       "      <td>14-35-14 17-17-17 10-26-26</td>\n",
       "    </tr>\n",
       "    <tr>\n",
       "      <th>4</th>\n",
       "      <td>750004</td>\n",
       "      <td>Urea 20-20 28-28</td>\n",
       "    </tr>\n",
       "  </tbody>\n",
       "</table>\n",
       "</div>"
      ],
      "text/plain": [
       "       id             Fertilizer Name\n",
       "0  750000          10-26-26 20-20 DAP\n",
       "1  750001     17-17-17 28-28 10-26-26\n",
       "2  750002              20-20 Urea DAP\n",
       "3  750003  14-35-14 17-17-17 10-26-26\n",
       "4  750004            Urea 20-20 28-28"
      ]
     },
     "execution_count": 16,
     "metadata": {},
     "output_type": "execute_result"
    }
   ],
   "source": [
    "create_submission(\"voting-classifier\", voting_test_pred_probs, np.mean(scores[\"VotingClassifier\"])).head()"
   ]
  },
  {
   "cell_type": "markdown",
   "id": "35192964",
   "metadata": {
    "papermill": {
     "duration": 0.005913,
     "end_time": "2025-06-25T15:39:54.873007",
     "exception": false,
     "start_time": "2025-06-25T15:39:54.867094",
     "status": "completed"
    },
    "tags": []
   },
   "source": [
    "## Weighted averaging"
   ]
  },
  {
   "cell_type": "code",
   "execution_count": 17,
   "id": "3cf77c4b",
   "metadata": {
    "_kg_hide-output": true,
    "execution": {
     "iopub.execute_input": "2025-06-25T15:39:54.886834Z",
     "iopub.status.busy": "2025-06-25T15:39:54.886536Z",
     "iopub.status.idle": "2025-06-25T15:46:26.215570Z",
     "shell.execute_reply": "2025-06-25T15:46:26.214653Z"
    },
    "papermill": {
     "duration": 391.337898,
     "end_time": "2025-06-25T15:46:26.217077",
     "exception": false,
     "start_time": "2025-06-25T15:39:54.879179",
     "status": "completed"
    },
    "scrolled": true,
    "tags": []
   },
   "outputs": [
    {
     "name": "stderr",
     "output_type": "stream",
     "text": [
      "[I 2025-06-25 15:39:54,890] A new study created in memory with name: no-name-11175fb1-3753-46d3-bc2b-582ae0ea23ac\n",
      "[I 2025-06-25 15:40:00,674] Trial 2 finished with value: 0.37103755555555556 and parameters: {'LightGBM (gbdt)': 0.9116700684964671, 'LightGBM (goss)': 0.7321933456840433, 'XGBoost': 0.4368402541983847, 'AutoGluon': 0.4850616787293133, 'LogisticRegression': 0.3003769834357265}. Best is trial 2 with value: 0.37103755555555556.\n",
      "[I 2025-06-25 15:40:01,165] Trial 0 finished with value: 0.37382511111111116 and parameters: {'LightGBM (gbdt)': 0.2773553072770769, 'LightGBM (goss)': 0.36803825862149653, 'XGBoost': 0.8039850873221763, 'AutoGluon': 0.7583255075426769, 'LogisticRegression': 0.6011119508099774}. Best is trial 0 with value: 0.37382511111111116.\n",
      "[I 2025-06-25 15:40:01,304] Trial 3 finished with value: 0.37004688888888876 and parameters: {'LightGBM (gbdt)': 0.9838443252094267, 'LightGBM (goss)': 0.9890817531885766, 'XGBoost': 0.19061641236260252, 'AutoGluon': 0.1969281762792775, 'LogisticRegression': 0.2582985175854131}. Best is trial 0 with value: 0.37382511111111116.\n",
      "[I 2025-06-25 15:40:01,980] Trial 1 finished with value: 0.3750293333333333 and parameters: {'LightGBM (gbdt)': 0.8298007788307933, 'LightGBM (goss)': 0.018430463749517845, 'XGBoost': 0.27720453599121964, 'AutoGluon': 0.15841395460975327, 'LogisticRegression': 0.8515605213317706}. Best is trial 1 with value: 0.3750293333333333.\n",
      "[I 2025-06-25 15:40:06,720] Trial 4 finished with value: 0.37278399999999995 and parameters: {'LightGBM (gbdt)': 0.946261699567115, 'LightGBM (goss)': 0.5213019977441221, 'XGBoost': 0.9822810608902319, 'AutoGluon': 0.6453582639187542, 'LogisticRegression': 0.6398833573614465}. Best is trial 1 with value: 0.3750293333333333.\n",
      "[I 2025-06-25 15:40:07,216] Trial 5 finished with value: 0.3682888888888889 and parameters: {'LightGBM (gbdt)': 0.02849003709063691, 'LightGBM (goss)': 0.7021828231679654, 'XGBoost': 0.9992632342620266, 'AutoGluon': 0.11349721180329675, 'LogisticRegression': 0.033002149847158546}. Best is trial 1 with value: 0.3750293333333333.\n",
      "[I 2025-06-25 15:40:07,557] Trial 6 finished with value: 0.36902200000000007 and parameters: {'LightGBM (gbdt)': 0.8921515148895789, 'LightGBM (goss)': 0.288344647439423, 'XGBoost': 0.7850811804451066, 'AutoGluon': 0.26808851097338016, 'LogisticRegression': 0.05927762762378763}. Best is trial 1 with value: 0.3750293333333333.\n",
      "[I 2025-06-25 15:40:07,984] Trial 7 finished with value: 0.37139666666666676 and parameters: {'LightGBM (gbdt)': 0.07385336170588208, 'LightGBM (goss)': 0.9706374932676983, 'XGBoost': 0.7656320756385528, 'AutoGluon': 0.5924307872477539, 'LogisticRegression': 0.34907503798172324}. Best is trial 1 with value: 0.3750293333333333.\n",
      "[I 2025-06-25 15:40:12,614] Trial 8 finished with value: 0.3749188888888889 and parameters: {'LightGBM (gbdt)': 0.49952347804432706, 'LightGBM (goss)': 0.2317644285245527, 'XGBoost': 0.5034925855687175, 'AutoGluon': 0.9498198290565082, 'LogisticRegression': 0.8705229992581318}. Best is trial 1 with value: 0.3750293333333333.\n",
      "[I 2025-06-25 15:40:13,782] Trial 9 finished with value: 0.37453088888888886 and parameters: {'LightGBM (gbdt)': 0.6388376306414029, 'LightGBM (goss)': 0.06586238597398908, 'XGBoost': 0.9251843685727131, 'AutoGluon': 0.3973013389378619, 'LogisticRegression': 0.859481112270753}. Best is trial 1 with value: 0.3750293333333333.\n",
      "[I 2025-06-25 15:40:13,872] Trial 10 finished with value: 0.36088222222222227 and parameters: {'LightGBM (gbdt)': 0.2651036680455222, 'LightGBM (goss)': 0.014282964035435497, 'XGBoost': 0.1248771220955881, 'AutoGluon': 0.6245210262762594, 'LogisticRegression': 0.00849812277181028}. Best is trial 1 with value: 0.3750293333333333.\n",
      "[I 2025-06-25 15:40:15,238] Trial 11 finished with value: 0.37285866666666667 and parameters: {'LightGBM (gbdt)': 0.9169334222569697, 'LightGBM (goss)': 0.10323253286697998, 'XGBoost': 0.7264800942679951, 'AutoGluon': 0.7279219197078148, 'LogisticRegression': 0.5147060262578651}. Best is trial 1 with value: 0.3750293333333333.\n",
      "[I 2025-06-25 15:40:18,098] Trial 12 finished with value: 0.3709191111111111 and parameters: {'LightGBM (gbdt)': 0.036902882488199396, 'LightGBM (goss)': 0.3771602026118809, 'XGBoost': 0.6555825585927448, 'AutoGluon': 0.6742737929432837, 'LogisticRegression': 0.21645254431255334}. Best is trial 1 with value: 0.3750293333333333.\n",
      "[I 2025-06-25 15:40:19,000] Trial 13 finished with value: 0.37514177777777774 and parameters: {'LightGBM (gbdt)': 0.6267554337686541, 'LightGBM (goss)': 0.19121150387992392, 'XGBoost': 0.4436790943719641, 'AutoGluon': 0.9948633806721106, 'LogisticRegression': 0.9859665433510805}. Best is trial 13 with value: 0.37514177777777774.\n",
      "[I 2025-06-25 15:40:19,492] Trial 14 finished with value: 0.3752026666666667 and parameters: {'LightGBM (gbdt)': 0.620123191867671, 'LightGBM (goss)': 0.19511037902582057, 'XGBoost': 0.367189394129428, 'AutoGluon': 0.9983759261561617, 'LogisticRegression': 0.983702994852895}. Best is trial 14 with value: 0.3752026666666667.\n",
      "[I 2025-06-25 15:40:24,131] Trial 15 finished with value: 0.37502311111111114 and parameters: {'LightGBM (gbdt)': 0.6135535823744949, 'LightGBM (goss)': 0.22598105482479358, 'XGBoost': 0.4162424670149726, 'AutoGluon': 0.9732102713704947, 'LogisticRegression': 0.9162649146823821}. Best is trial 14 with value: 0.3752026666666667.\n",
      "[I 2025-06-25 15:40:24,876] Trial 17 finished with value: 0.3752955555555555 and parameters: {'LightGBM (gbdt)': 0.7051760166665166, 'LightGBM (goss)': 0.16160711643426834, 'XGBoost': 0.32738347667447387, 'AutoGluon': 0.9475682776040355, 'LogisticRegression': 0.9918199168637906}. Best is trial 17 with value: 0.3752955555555555.\n",
      "[I 2025-06-25 15:40:24,977] Trial 16 finished with value: 0.37522488888888883 and parameters: {'LightGBM (gbdt)': 0.6575715857781501, 'LightGBM (goss)': 0.20357880711215565, 'XGBoost': 0.35970871215724054, 'AutoGluon': 0.9698519064863993, 'LogisticRegression': 0.9809247373439034}. Best is trial 17 with value: 0.3752955555555555.\n",
      "[I 2025-06-25 15:40:25,180] Trial 18 finished with value: 0.3751333333333333 and parameters: {'LightGBM (gbdt)': 0.6763466151305483, 'LightGBM (goss)': 0.1926597494972551, 'XGBoost': 0.4240989601281443, 'AutoGluon': 0.9810886488103717, 'LogisticRegression': 0.9945347475646564}. Best is trial 17 with value: 0.3752955555555555.\n",
      "[I 2025-06-25 15:40:30,340] Trial 19 finished with value: 0.3750193333333336 and parameters: {'LightGBM (gbdt)': 0.6793526607765658, 'LightGBM (goss)': 0.570759972479891, 'XGBoost': 0.030848398700210833, 'AutoGluon': 0.8698143682605075, 'LogisticRegression': 0.9969750988358956}. Best is trial 17 with value: 0.3752955555555555.\n",
      "[I 2025-06-25 15:40:30,939] Trial 22 finished with value: 0.37480733333333327 and parameters: {'LightGBM (gbdt)': 0.4374180711473352, 'LightGBM (goss)': 0.516996056143642, 'XGBoost': 0.048123099289155924, 'AutoGluon': 0.8602812257579385, 'LogisticRegression': 0.7605690179308959}. Best is trial 17 with value: 0.3752955555555555.\n",
      "[I 2025-06-25 15:40:31,128] Trial 20 finished with value: 0.37422799999999995 and parameters: {'LightGBM (gbdt)': 0.7469578207318959, 'LightGBM (goss)': 0.5055673448416553, 'XGBoost': 0.009416883713774804, 'AutoGluon': 0.8386132296488185, 'LogisticRegression': 0.7338446462110754}. Best is trial 17 with value: 0.3752955555555555.\n",
      "[I 2025-06-25 15:40:31,586] Trial 21 finished with value: 0.3742184444444444 and parameters: {'LightGBM (gbdt)': 0.7666393324315491, 'LightGBM (goss)': 0.523859755380463, 'XGBoost': 0.029362822583101966, 'AutoGluon': 0.8393987672768802, 'LogisticRegression': 0.74265080889441}. Best is trial 17 with value: 0.3752955555555555.\n",
      "[I 2025-06-25 15:40:36,115] Trial 25 finished with value: 0.3743217777777778 and parameters: {'LightGBM (gbdt)': 0.7834827466396982, 'LightGBM (goss)': 0.3412172946084427, 'XGBoost': 0.3106817291470011, 'AutoGluon': 0.7977241532139266, 'LogisticRegression': 0.7704570336827554}. Best is trial 17 with value: 0.3752955555555555.\n",
      "[I 2025-06-25 15:40:36,979] Trial 24 finished with value: 0.37426533333333334 and parameters: {'LightGBM (gbdt)': 0.7624456881668432, 'LightGBM (goss)': 0.37087062927109504, 'XGBoost': 0.3019260823763204, 'AutoGluon': 0.8273789029649515, 'LogisticRegression': 0.7608619265784721}. Best is trial 17 with value: 0.3752955555555555.\n",
      "[I 2025-06-25 15:40:37,215] Trial 23 finished with value: 0.3740566666666668 and parameters: {'LightGBM (gbdt)': 0.46985704530515976, 'LightGBM (goss)': 0.3832433486302396, 'XGBoost': 0.5521873668690995, 'AutoGluon': 0.008618087580049227, 'LogisticRegression': 0.734802874777909}. Best is trial 17 with value: 0.3752955555555555.\n",
      "[I 2025-06-25 15:40:37,963] Trial 26 finished with value: 0.374634 and parameters: {'LightGBM (gbdt)': 0.529506482884951, 'LightGBM (goss)': 0.34713323708404353, 'XGBoost': 0.29154760279582226, 'AutoGluon': 0.008515358922883243, 'LogisticRegression': 0.8015632928404236}. Best is trial 17 with value: 0.3752955555555555.\n",
      "[I 2025-06-25 15:40:41,726] Trial 27 finished with value: 0.3752033333333333 and parameters: {'LightGBM (gbdt)': 0.5139496276782194, 'LightGBM (goss)': 0.11933802456930509, 'XGBoost': 0.5443687041522025, 'AutoGluon': 0.912108468904474, 'LogisticRegression': 0.9179938670257126}. Best is trial 17 with value: 0.3752955555555555.\n",
      "[I 2025-06-25 15:40:43,190] Trial 29 finished with value: 0.3754311111111111 and parameters: {'LightGBM (gbdt)': 0.5630721046552415, 'LightGBM (goss)': 0.11662722342769405, 'XGBoost': 0.21472125706068879, 'AutoGluon': 0.9269763729384917, 'LogisticRegression': 0.9175340627734586}. Best is trial 29 with value: 0.3754311111111111.\n",
      "[I 2025-06-25 15:40:43,262] Trial 28 finished with value: 0.37515422222222217 and parameters: {'LightGBM (gbdt)': 0.5339508952788543, 'LightGBM (goss)': 0.11538414380926962, 'XGBoost': 0.5501419533788171, 'AutoGluon': 0.9220411317833545, 'LogisticRegression': 0.9140924776968246}. Best is trial 29 with value: 0.3754311111111111.\n",
      "[I 2025-06-25 15:40:44,142] Trial 30 finished with value: 0.37524911111111114 and parameters: {'LightGBM (gbdt)': 0.39911205889456913, 'LightGBM (goss)': 0.12338461516559343, 'XGBoost': 0.5811490182452155, 'AutoGluon': 0.9126646942372932, 'LogisticRegression': 0.9202924741236135}. Best is trial 29 with value: 0.3754311111111111.\n",
      "[I 2025-06-25 15:40:48,484] Trial 31 finished with value: 0.3752195555555556 and parameters: {'LightGBM (gbdt)': 0.3880829018357122, 'LightGBM (goss)': 0.11563698751749335, 'XGBoost': 0.6054837420807607, 'AutoGluon': 0.9280049077917247, 'LogisticRegression': 0.9154441713020811}. Best is trial 29 with value: 0.3754311111111111.\n",
      "[I 2025-06-25 15:40:49,313] Trial 32 finished with value: 0.3752626666666667 and parameters: {'LightGBM (gbdt)': 0.3901228212719266, 'LightGBM (goss)': 0.12035887121981481, 'XGBoost': 0.19747604193140875, 'AutoGluon': 0.7012499654384228, 'LogisticRegression': 0.6564408423314767}. Best is trial 29 with value: 0.3754311111111111.\n",
      "[I 2025-06-25 15:40:49,645] Trial 33 finished with value: 0.37466822222222224 and parameters: {'LightGBM (gbdt)': 0.401949437902592, 'LightGBM (goss)': 0.277977491113439, 'XGBoost': 0.20035696469652975, 'AutoGluon': 0.7648678281281621, 'LogisticRegression': 0.5995658670201988}. Best is trial 29 with value: 0.3754311111111111.\n",
      "[I 2025-06-25 15:40:50,458] Trial 34 finished with value: 0.37470422222222216 and parameters: {'LightGBM (gbdt)': 0.39677327092481957, 'LightGBM (goss)': 0.2719384807486669, 'XGBoost': 0.18996060992993366, 'AutoGluon': 0.7496878090104404, 'LogisticRegression': 0.5922089008039165}. Best is trial 29 with value: 0.3754311111111111.\n",
      "[I 2025-06-25 15:40:54,622] Trial 36 finished with value: 0.3755964444444445 and parameters: {'LightGBM (gbdt)': 0.2841653896523846, 'LightGBM (goss)': 0.00405512148285847, 'XGBoost': 0.17842309471683981, 'AutoGluon': 0.7100451023484398, 'LogisticRegression': 0.6761664066097123}. Best is trial 36 with value: 0.3755964444444445.\n",
      "[I 2025-06-25 15:40:54,634] Trial 35 finished with value: 0.37458377777777785 and parameters: {'LightGBM (gbdt)': 0.34525299729895287, 'LightGBM (goss)': 0.2649051335945943, 'XGBoost': 0.19542936458805704, 'AutoGluon': 0.8957266099321247, 'LogisticRegression': 0.6444976564906051}. Best is trial 36 with value: 0.3755964444444445.\n",
      "[I 2025-06-25 15:40:55,254] Trial 37 finished with value: 0.3753800000000001 and parameters: {'LightGBM (gbdt)': 0.2870321503880076, 'LightGBM (goss)': 0.0508208991447721, 'XGBoost': 0.21683088750275478, 'AutoGluon': 0.7139214691530769, 'LogisticRegression': 0.6380515411848199}. Best is trial 36 with value: 0.3755964444444445.\n",
      "[I 2025-06-25 15:40:59,696] Trial 38 finished with value: 0.3763404444444445 and parameters: {'LightGBM (gbdt)': 0.25685649629807733, 'LightGBM (goss)': 0.047522113106359606, 'XGBoost': 0.21070158810168504, 'AutoGluon': 0.47233743162943703, 'LogisticRegression': 0.8258668708461607}. Best is trial 38 with value: 0.3763404444444445.\n",
      "[I 2025-06-25 15:41:00,490] Trial 41 finished with value: 0.3749904444444444 and parameters: {'LightGBM (gbdt)': 0.20365871195573582, 'LightGBM (goss)': 0.002091600639135667, 'XGBoost': 0.11909313949494954, 'AutoGluon': 0.5366185068649796, 'LogisticRegression': 0.4122107410566599}. Best is trial 38 with value: 0.3763404444444445.\n",
      "[I 2025-06-25 15:41:00,559] Trial 39 finished with value: 0.37613666666666656 and parameters: {'LightGBM (gbdt)': 0.2839381018610804, 'LightGBM (goss)': 0.009446870625069076, 'XGBoost': 0.1152172866267471, 'AutoGluon': 0.5562831394694912, 'LogisticRegression': 0.670770833897845}. Best is trial 38 with value: 0.3763404444444445.\n",
      "[I 2025-06-25 15:41:01,309] Trial 40 finished with value: 0.3752722222222222 and parameters: {'LightGBM (gbdt)': 0.22866072290897424, 'LightGBM (goss)': 0.047156499731379864, 'XGBoost': 0.1210498817328482, 'AutoGluon': 0.43428773803314813, 'LogisticRegression': 0.3885550515648687}. Best is trial 38 with value: 0.3763404444444445.\n",
      "[I 2025-06-25 15:41:05,261] Trial 44 finished with value: 0.3761184444444444 and parameters: {'LightGBM (gbdt)': 0.16476742310271114, 'LightGBM (goss)': 0.05998829266916202, 'XGBoost': 0.10819471365503568, 'AutoGluon': 0.42706513133831986, 'LogisticRegression': 0.5196958563643675}. Best is trial 38 with value: 0.3763404444444445.\n",
      "[I 2025-06-25 15:41:05,568] Trial 42 finished with value: 0.37530533333333344 and parameters: {'LightGBM (gbdt)': 0.15981957859955948, 'LightGBM (goss)': 0.0013393241307100463, 'XGBoost': 0.1189215083309666, 'AutoGluon': 0.5334761411432132, 'LogisticRegression': 0.4464118773273734}. Best is trial 38 with value: 0.3763404444444445.\n",
      "[I 2025-06-25 15:41:06,535] Trial 43 finished with value: 0.3758359999999998 and parameters: {'LightGBM (gbdt)': 0.15429711994100623, 'LightGBM (goss)': 0.06147001218642259, 'XGBoost': 0.2456349374131591, 'AutoGluon': 0.4353028509332774, 'LogisticRegression': 0.5253153525138602}. Best is trial 38 with value: 0.3763404444444445.\n",
      "[I 2025-06-25 15:41:08,448] Trial 45 finished with value: 0.3755657777777776 and parameters: {'LightGBM (gbdt)': 0.15241080917022873, 'LightGBM (goss)': 0.04412511487144462, 'XGBoost': 0.2613803579334965, 'AutoGluon': 0.5448207227834874, 'LogisticRegression': 0.5355236000268363}. Best is trial 38 with value: 0.3763404444444445.\n",
      "[I 2025-06-25 15:41:12,429] Trial 48 finished with value: 0.37638666666666676 and parameters: {'LightGBM (gbdt)': 0.12205621673024672, 'LightGBM (goss)': 0.06959187067749271, 'XGBoost': 0.07329741231388573, 'AutoGluon': 0.34758775618697074, 'LogisticRegression': 0.52924867938269}. Best is trial 48 with value: 0.37638666666666676.\n",
      "[I 2025-06-25 15:41:12,436] Trial 46 finished with value: 0.37627000000000016 and parameters: {'LightGBM (gbdt)': 0.11121970392437741, 'LightGBM (goss)': 0.06712612605740283, 'XGBoost': 0.09077841266413561, 'AutoGluon': 0.39670476158385976, 'LogisticRegression': 0.5194485767685537}. Best is trial 48 with value: 0.37638666666666676.\n",
      "[I 2025-06-25 15:41:12,597] Trial 47 finished with value: 0.3763957777777776 and parameters: {'LightGBM (gbdt)': 0.13995198346872428, 'LightGBM (goss)': 0.059719682738454925, 'XGBoost': 0.0728646554306863, 'AutoGluon': 0.34272381737105406, 'LogisticRegression': 0.5362406401932513}. Best is trial 47 with value: 0.3763957777777776.\n",
      "[I 2025-06-25 15:41:13,541] Trial 49 finished with value: 0.3766822222222222 and parameters: {'LightGBM (gbdt)': 0.09424394901850311, 'LightGBM (goss)': 0.0808972346928597, 'XGBoost': 0.08496659119508784, 'AutoGluon': 0.32521054059807464, 'LogisticRegression': 0.692271132795265}. Best is trial 49 with value: 0.3766822222222222.\n",
      "[I 2025-06-25 15:41:17,690] Trial 50 finished with value: 0.37384977777777767 and parameters: {'LightGBM (gbdt)': 0.08552512006245011, 'LightGBM (goss)': 0.7524088866640213, 'XGBoost': 0.07107858654497434, 'AutoGluon': 0.3143937854261885, 'LogisticRegression': 0.47326656050326693}. Best is trial 49 with value: 0.3766822222222222.\n",
      "[I 2025-06-25 15:41:18,438] Trial 52 finished with value: 0.3739308888888889 and parameters: {'LightGBM (gbdt)': 0.09038954829207532, 'LightGBM (goss)': 0.7374857255621581, 'XGBoost': 0.07487892756312783, 'AutoGluon': 0.3184959774147261, 'LogisticRegression': 0.4757049734382181}. Best is trial 49 with value: 0.3766822222222222.\n",
      "[I 2025-06-25 15:41:19,181] Trial 51 finished with value: 0.3742720000000001 and parameters: {'LightGBM (gbdt)': 0.08783827476050018, 'LightGBM (goss)': 0.6301635298110025, 'XGBoost': 0.06805489861312417, 'AutoGluon': 0.3312385282817585, 'LogisticRegression': 0.45515476371399066}. Best is trial 49 with value: 0.3766822222222222.\n",
      "[I 2025-06-25 15:41:22,086] Trial 53 finished with value: 0.37216377777777765 and parameters: {'LightGBM (gbdt)': 0.07889445278120122, 'LightGBM (goss)': 0.94062909434931, 'XGBoost': 0.06979583802768141, 'AutoGluon': 0.32445362355768803, 'LogisticRegression': 0.32998329735015897}. Best is trial 49 with value: 0.3766822222222222.\n",
      "[I 2025-06-25 15:41:23,446] Trial 54 finished with value: 0.37635222222222214 and parameters: {'LightGBM (gbdt)': 0.10110512192714002, 'LightGBM (goss)': 0.17140292583878947, 'XGBoost': 0.08536312699962917, 'AutoGluon': 0.31936354819144996, 'LogisticRegression': 0.5764396833438529}. Best is trial 49 with value: 0.3766822222222222.\n",
      "[I 2025-06-25 15:41:23,829] Trial 55 finished with value: 0.3764751111111111 and parameters: {'LightGBM (gbdt)': 0.0004030757055302203, 'LightGBM (goss)': 0.17169424110567771, 'XGBoost': 0.08155196212048132, 'AutoGluon': 0.36208711699249213, 'LogisticRegression': 0.5702727585898755}. Best is trial 49 with value: 0.3766822222222222.\n",
      "[I 2025-06-25 15:41:25,138] Trial 56 finished with value: 0.3767433333333333 and parameters: {'LightGBM (gbdt)': 0.03916719442863037, 'LightGBM (goss)': 0.08531255929549314, 'XGBoost': 0.00391404857455438, 'AutoGluon': 0.24361322240684993, 'LogisticRegression': 0.5545607872442848}. Best is trial 56 with value: 0.3767433333333333.\n",
      "[I 2025-06-25 15:41:28,130] Trial 57 finished with value: 0.37656355555555543 and parameters: {'LightGBM (gbdt)': 0.009596576523350914, 'LightGBM (goss)': 0.0846127606288325, 'XGBoost': 0.15014352168282788, 'AutoGluon': 0.2304626816281946, 'LogisticRegression': 0.5826822837332823}. Best is trial 56 with value: 0.3767433333333333.\n",
      "[I 2025-06-25 15:41:28,487] Trial 58 finished with value: 0.3764046666666665 and parameters: {'LightGBM (gbdt)': 0.010993893114936065, 'LightGBM (goss)': 0.16152606698919858, 'XGBoost': 0.1515129088881336, 'AutoGluon': 0.22831464107271096, 'LogisticRegression': 0.5641217982471002}. Best is trial 56 with value: 0.3767433333333333.\n",
      "[I 2025-06-25 15:41:29,346] Trial 59 finished with value: 0.37660911111111117 and parameters: {'LightGBM (gbdt)': 0.0072359374795913645, 'LightGBM (goss)': 0.17527184590664618, 'XGBoost': 0.0014083706985114075, 'AutoGluon': 0.2092701684181143, 'LogisticRegression': 0.5611142642105919}. Best is trial 56 with value: 0.3767433333333333.\n",
      "[I 2025-06-25 15:41:31,610] Trial 60 finished with value: 0.37658066666666684 and parameters: {'LightGBM (gbdt)': 0.0036983836480489196, 'LightGBM (goss)': 0.16318214168197664, 'XGBoost': 0.004298959587169082, 'AutoGluon': 0.20831432841912606, 'LogisticRegression': 0.5618754952449394}. Best is trial 56 with value: 0.3767433333333333.\n",
      "[I 2025-06-25 15:41:34,012] Trial 61 finished with value: 0.37638911111111106 and parameters: {'LightGBM (gbdt)': 0.011869214627268032, 'LightGBM (goss)': 0.14705428098411732, 'XGBoost': 0.15233896442082331, 'AutoGluon': 0.1711271278303605, 'LogisticRegression': 0.5740127782980824}. Best is trial 56 with value: 0.3767433333333333.\n",
      "[I 2025-06-25 15:41:34,420] Trial 62 finished with value: 0.37640177777777784 and parameters: {'LightGBM (gbdt)': 0.009644526841672392, 'LightGBM (goss)': 0.14802737779882266, 'XGBoost': 0.15947370599316646, 'AutoGluon': 0.2009844157633693, 'LogisticRegression': 0.565613437282207}. Best is trial 56 with value: 0.3767433333333333.\n",
      "[I 2025-06-25 15:41:35,487] Trial 63 finished with value: 0.3760008888888888 and parameters: {'LightGBM (gbdt)': 0.0134134302546304, 'LightGBM (goss)': 0.44008763537906465, 'XGBoost': 0.02589477895064326, 'AutoGluon': 0.23387776670074104, 'LogisticRegression': 0.699803217377528}. Best is trial 56 with value: 0.3767433333333333.\n",
      "[I 2025-06-25 15:41:38,310] Trial 64 finished with value: 0.3765895555555554 and parameters: {'LightGBM (gbdt)': 0.010351352555336358, 'LightGBM (goss)': 0.1585897456108462, 'XGBoost': 0.0005520852408534647, 'AutoGluon': 0.22307703498414574, 'LogisticRegression': 0.6960604359441729}. Best is trial 56 with value: 0.3767433333333333.\n",
      "[I 2025-06-25 15:41:40,101] Trial 67 finished with value: 0.37622066666666665 and parameters: {'LightGBM (gbdt)': 0.04916909888299493, 'LightGBM (goss)': 0.24117284356740015, 'XGBoost': 0.005415365617026255, 'AutoGluon': 0.11282116685743693, 'LogisticRegression': 0.631721497830528}. Best is trial 56 with value: 0.3767433333333333.\n",
      "[I 2025-06-25 15:41:40,408] Trial 65 finished with value: 0.3765277777777777 and parameters: {'LightGBM (gbdt)': 0.04076542971142576, 'LightGBM (goss)': 0.24059358217263227, 'XGBoost': 0.008672446515578636, 'AutoGluon': 0.23209435808097098, 'LogisticRegression': 0.6987059502910153}. Best is trial 56 with value: 0.3767433333333333.\n",
      "[I 2025-06-25 15:41:40,516] Trial 66 finished with value: 0.3765615555555556 and parameters: {'LightGBM (gbdt)': 0.049554470338607284, 'LightGBM (goss)': 0.2433249381666383, 'XGBoost': 0.0005475228952681358, 'AutoGluon': 0.24006447350838087, 'LogisticRegression': 0.7013721683876326}. Best is trial 56 with value: 0.3767433333333333.\n",
      "[I 2025-06-25 15:41:45,457] Trial 70 finished with value: 0.3760773333333333 and parameters: {'LightGBM (gbdt)': 0.060827355448820786, 'LightGBM (goss)': 0.21217975313710274, 'XGBoost': 0.04352344495347362, 'AutoGluon': 0.07406485424120043, 'LogisticRegression': 0.6203889852449902}. Best is trial 56 with value: 0.3767433333333333.\n",
      "[I 2025-06-25 15:41:45,535] Trial 68 finished with value: 0.3761524444444445 and parameters: {'LightGBM (gbdt)': 0.05415093080751368, 'LightGBM (goss)': 0.2358652766852135, 'XGBoost': 0.007327800475636637, 'AutoGluon': 0.09464593770020302, 'LogisticRegression': 0.6189102318696864}. Best is trial 56 with value: 0.3767433333333333.\n",
      "[I 2025-06-25 15:41:46,309] Trial 69 finished with value: 0.3761448888888889 and parameters: {'LightGBM (gbdt)': 0.038149398586612204, 'LightGBM (goss)': 0.2213123881858677, 'XGBoost': 0.03883604297699682, 'AutoGluon': 0.10243427308634084, 'LogisticRegression': 0.7067016175182134}. Best is trial 56 with value: 0.3767433333333333.\n",
      "[I 2025-06-25 15:41:47,058] Trial 71 finished with value: 0.3732017777777777 and parameters: {'LightGBM (gbdt)': 0.050265302849063026, 'LightGBM (goss)': 0.30105869027646803, 'XGBoost': 0.04558063818815153, 'AutoGluon': 0.07657823960667229, 'LogisticRegression': 0.15420811993454842}. Best is trial 56 with value: 0.3767433333333333.\n",
      "[I 2025-06-25 15:41:51,512] Trial 74 finished with value: 0.376334888888889 and parameters: {'LightGBM (gbdt)': 0.04314868397053974, 'LightGBM (goss)': 0.3153758881083797, 'XGBoost': 0.004233382754957788, 'AutoGluon': 0.2739563854474034, 'LogisticRegression': 0.7067507472201447}. Best is trial 56 with value: 0.3767433333333333.\n",
      "[I 2025-06-25 15:41:51,663] Trial 73 finished with value: 0.3696333333333334 and parameters: {'LightGBM (gbdt)': 0.19289478445132602, 'LightGBM (goss)': 0.32096453416659654, 'XGBoost': 0.9265365272971566, 'AutoGluon': 0.27604778795981194, 'LogisticRegression': 0.0879055110256367}. Best is trial 56 with value: 0.3767433333333333.\n",
      "[I 2025-06-25 15:41:51,828] Trial 72 finished with value: 0.37672933333333336 and parameters: {'LightGBM (gbdt)': 0.04407771141317243, 'LightGBM (goss)': 0.09574849663467404, 'XGBoost': 0.041918352160963436, 'AutoGluon': 0.2734608976862495, 'LogisticRegression': 0.6901440046221646}. Best is trial 56 with value: 0.3767433333333333.\n",
      "[I 2025-06-25 15:41:55,724] Trial 75 finished with value: 0.3767275555555556 and parameters: {'LightGBM (gbdt)': 0.03675074962493075, 'LightGBM (goss)': 0.09446827357796868, 'XGBoost': 0.0039197893306094555, 'AutoGluon': 0.268687007094372, 'LogisticRegression': 0.7063986712786049}. Best is trial 56 with value: 0.3767433333333333.\n",
      "[I 2025-06-25 15:41:57,241] Trial 77 finished with value: 0.37639711111111124 and parameters: {'LightGBM (gbdt)': 0.12352328610956512, 'LightGBM (goss)': 0.0925269845214865, 'XGBoost': 0.004821770493187799, 'AutoGluon': 0.17418445025562743, 'LogisticRegression': 0.7940954363924153}. Best is trial 56 with value: 0.3767433333333333.\n",
      "[I 2025-06-25 15:41:57,585] Trial 78 finished with value: 0.3762508888888891 and parameters: {'LightGBM (gbdt)': 0.11898562236781739, 'LightGBM (goss)': 0.09415103014407396, 'XGBoost': 0.043436490802289035, 'AutoGluon': 0.14257877435914773, 'LogisticRegression': 0.7908608347799082}. Best is trial 56 with value: 0.3767433333333333.\n",
      "[I 2025-06-25 15:41:58,044] Trial 76 finished with value: 0.3759511111111109 and parameters: {'LightGBM (gbdt)': 0.12014453277346876, 'LightGBM (goss)': 0.4090286712976794, 'XGBoost': 0.004156083956144521, 'AutoGluon': 0.13774880502048573, 'LogisticRegression': 0.7759853975396784}. Best is trial 56 with value: 0.3767433333333333.\n",
      "[I 2025-06-25 15:42:02,672] Trial 79 finished with value: 0.3762715555555556 and parameters: {'LightGBM (gbdt)': 0.12836985079336416, 'LightGBM (goss)': 0.08062880497221044, 'XGBoost': 0.03838972378548973, 'AutoGluon': 0.1478728993439068, 'LogisticRegression': 0.806016585371456}. Best is trial 56 with value: 0.3767433333333333.\n",
      "[I 2025-06-25 15:42:03,007] Trial 80 finished with value: 0.37634288888888884 and parameters: {'LightGBM (gbdt)': 0.07742178892089291, 'LightGBM (goss)': 0.0863641102420171, 'XGBoost': 0.038981340636003114, 'AutoGluon': 0.13290623433517418, 'LogisticRegression': 0.673871539111179}. Best is trial 56 with value: 0.3767433333333333.\n",
      "[I 2025-06-25 15:42:04,034] Trial 81 finished with value: 0.3765124444444444 and parameters: {'LightGBM (gbdt)': 0.024559194772855786, 'LightGBM (goss)': 0.13905361086293422, 'XGBoost': 0.1356128526680976, 'AutoGluon': 0.28809063791188944, 'LogisticRegression': 0.6619154344368947}. Best is trial 56 with value: 0.3767433333333333.\n",
      "[I 2025-06-25 15:42:04,034] Trial 82 finished with value: 0.3762175555555555 and parameters: {'LightGBM (gbdt)': 0.1845068587907554, 'LightGBM (goss)': 0.14028503392783903, 'XGBoost': 0.13592665499203385, 'AutoGluon': 0.19651633649813258, 'LogisticRegression': 0.6675040579394227}. Best is trial 56 with value: 0.3767433333333333.\n",
      "[I 2025-06-25 15:42:09,245] Trial 84 finished with value: 0.3764866666666666 and parameters: {'LightGBM (gbdt)': 0.029345758939808116, 'LightGBM (goss)': 0.1439117263098309, 'XGBoost': 0.14985654004816906, 'AutoGluon': 0.20653186096643608, 'LogisticRegression': 0.6525497558361304}. Best is trial 56 with value: 0.3767433333333333.\n",
      "[I 2025-06-25 15:42:09,308] Trial 83 finished with value: 0.3764782222222221 and parameters: {'LightGBM (gbdt)': 0.07131212862574458, 'LightGBM (goss)': 0.13790967506291013, 'XGBoost': 0.14629239241409636, 'AutoGluon': 0.20031004655894452, 'LogisticRegression': 0.7409962739867839}. Best is trial 56 with value: 0.3767433333333333.\n",
      "[I 2025-06-25 15:42:10,081] Trial 85 finished with value: 0.3764693333333333 and parameters: {'LightGBM (gbdt)': 0.0013772553862308051, 'LightGBM (goss)': 0.19131861104835268, 'XGBoost': 0.11048923935886976, 'AutoGluon': 0.24515407816824172, 'LogisticRegression': 0.7312157965193432}. Best is trial 56 with value: 0.3767433333333333.\n",
      "[I 2025-06-25 15:42:10,411] Trial 86 finished with value: 0.37651066666666677 and parameters: {'LightGBM (gbdt)': 0.06712475388693102, 'LightGBM (goss)': 0.1886606642454824, 'XGBoost': 0.10883646042835339, 'AutoGluon': 0.240852733491721, 'LogisticRegression': 0.7364680023852632}. Best is trial 56 with value: 0.3767433333333333.\n",
      "[I 2025-06-25 15:42:15,529] Trial 90 finished with value: 0.37642822222222216 and parameters: {'LightGBM (gbdt)': 0.030410294608952906, 'LightGBM (goss)': 0.027175502788746815, 'XGBoost': 0.46604847499882757, 'AutoGluon': 0.2883130559033738, 'LogisticRegression': 0.8448088054402272}. Best is trial 56 with value: 0.3767433333333333.\n",
      "[I 2025-06-25 15:42:15,937] Trial 89 finished with value: 0.37539688888888884 and parameters: {'LightGBM (gbdt)': 0.8570159180281286, 'LightGBM (goss)': 0.03348358766106935, 'XGBoost': 0.056377641418440635, 'AutoGluon': 0.2976116450822233, 'LogisticRegression': 0.8479625932440402}. Best is trial 56 with value: 0.3767433333333333.\n",
      "[I 2025-06-25 15:42:16,236] Trial 88 finished with value: 0.3761986666666667 and parameters: {'LightGBM (gbdt)': 0.06434870160955361, 'LightGBM (goss)': 0.1932417909101523, 'XGBoost': 0.09980135294420259, 'AutoGluon': 0.25159699356171616, 'LogisticRegression': 0.49600122801500923}. Best is trial 56 with value: 0.3767433333333333.\n",
      "[I 2025-06-25 15:42:16,457] Trial 87 finished with value: 0.37653266666666674 and parameters: {'LightGBM (gbdt)': 0.0012969249600285199, 'LightGBM (goss)': 0.19059257724172862, 'XGBoost': 0.09992554680822528, 'AutoGluon': 0.25223119058631044, 'LogisticRegression': 0.7227560802350966}. Best is trial 56 with value: 0.3767433333333333.\n",
      "[I 2025-06-25 15:42:22,142] Trial 91 finished with value: 0.37459644444444434 and parameters: {'LightGBM (gbdt)': 0.8388128201003741, 'LightGBM (goss)': 0.11000904895012194, 'XGBoost': 0.055251324837935836, 'AutoGluon': 0.25668948941177194, 'LogisticRegression': 0.6058195234805902}. Best is trial 56 with value: 0.3767433333333333.\n",
      "[I 2025-06-25 15:42:22,734] Trial 93 finished with value: 0.374597111111111 and parameters: {'LightGBM (gbdt)': 0.2315073428529266, 'LightGBM (goss)': 0.10228505076758179, 'XGBoost': 0.6949056994182381, 'AutoGluon': 0.16950799346368023, 'LogisticRegression': 0.6051749295827972}. Best is trial 56 with value: 0.3767433333333333.\n",
      "[I 2025-06-25 15:42:23,046] Trial 92 finished with value: 0.37483488888888883 and parameters: {'LightGBM (gbdt)': 0.09081147737362272, 'LightGBM (goss)': 0.10225737584694414, 'XGBoost': 0.7428075804330136, 'AutoGluon': 0.2560156939017061, 'LogisticRegression': 0.5935077662173096}. Best is trial 56 with value: 0.3767433333333333.\n",
      "[I 2025-06-25 15:42:23,233] Trial 94 finished with value: 0.37659533333333334 and parameters: {'LightGBM (gbdt)': 0.09930908722191077, 'LightGBM (goss)': 0.10525778272809214, 'XGBoost': 0.03281870987224015, 'AutoGluon': 0.25989027361251416, 'LogisticRegression': 0.6096010964018159}. Best is trial 56 with value: 0.3767433333333333.\n",
      "[I 2025-06-25 15:42:28,701] Trial 97 finished with value: 0.3743824444444444 and parameters: {'LightGBM (gbdt)': 0.9955510119251697, 'LightGBM (goss)': 0.2568791847321307, 'XGBoost': 0.030888440487178745, 'AutoGluon': 0.36695581548965145, 'LogisticRegression': 0.6886831397104762}. Best is trial 56 with value: 0.3767433333333333.\n",
      "[I 2025-06-25 15:42:29,506] Trial 96 finished with value: 0.3764348888888888 and parameters: {'LightGBM (gbdt)': 0.10169832314182323, 'LightGBM (goss)': 0.26128916508936184, 'XGBoost': 0.03180206280086374, 'AutoGluon': 0.363640071938265, 'LogisticRegression': 0.7203807101265274}. Best is trial 56 with value: 0.3767433333333333.\n",
      "[I 2025-06-25 15:42:29,556] Trial 95 finished with value: 0.3765595555555555 and parameters: {'LightGBM (gbdt)': 0.09930962349664274, 'LightGBM (goss)': 0.17269490222549444, 'XGBoost': 0.035514256449828106, 'AutoGluon': 0.2204776738147455, 'LogisticRegression': 0.6987747647612169}. Best is trial 56 with value: 0.3767433333333333.\n",
      "[I 2025-06-25 15:42:29,732] Trial 98 finished with value: 0.3748264444444446 and parameters: {'LightGBM (gbdt)': 0.0297616642583479, 'LightGBM (goss)': 0.1658625626505652, 'XGBoost': 0.8278684322469715, 'AutoGluon': 0.3687097262729918, 'LogisticRegression': 0.642151508567582}. Best is trial 56 with value: 0.3767433333333333.\n",
      "[I 2025-06-25 15:42:34,997] Trial 100 finished with value: 0.37472733333333336 and parameters: {'LightGBM (gbdt)': 0.02747362925235819, 'LightGBM (goss)': 0.02571556799220226, 'XGBoost': 0.8121010522691829, 'AutoGluon': 0.17844095426597306, 'LogisticRegression': 0.5448580517205162}. Best is trial 56 with value: 0.3767433333333333.\n",
      "[I 2025-06-25 15:42:35,151] Trial 101 finished with value: 0.37597044444444444 and parameters: {'LightGBM (gbdt)': 0.02956917959294242, 'LightGBM (goss)': 0.12242328936293803, 'XGBoost': 0.37000013722620895, 'AutoGluon': 0.17890508046352072, 'LogisticRegression': 0.5477121061361857}. Best is trial 56 with value: 0.3767433333333333.\n",
      "[I 2025-06-25 15:42:35,596] Trial 99 finished with value: 0.3763666666666667 and parameters: {'LightGBM (gbdt)': 0.10325217845593013, 'LightGBM (goss)': 0.16383113149501152, 'XGBoost': 0.022728598460475445, 'AutoGluon': 0.39290500839326037, 'LogisticRegression': 0.5564875421355193}. Best is trial 56 with value: 0.3767433333333333.\n",
      "[I 2025-06-25 15:42:35,798] Trial 102 finished with value: 0.37588555555555575 and parameters: {'LightGBM (gbdt)': 0.05941899784383202, 'LightGBM (goss)': 0.025502634991845394, 'XGBoost': 0.38461109943268307, 'AutoGluon': 0.29828790110118514, 'LogisticRegression': 0.4914432063826603}. Best is trial 56 with value: 0.3767433333333333.\n",
      "[I 2025-06-25 15:42:40,987] Trial 105 finished with value: 0.37661666666666666 and parameters: {'LightGBM (gbdt)': 0.1439258867807089, 'LightGBM (goss)': 0.07717807003593825, 'XGBoost': 0.059745851775847174, 'AutoGluon': 0.22478203063601787, 'LogisticRegression': 0.7648709827518412}. Best is trial 56 with value: 0.3767433333333333.\n",
      "[I 2025-06-25 15:42:41,114] Trial 106 finished with value: 0.37650533333333325 and parameters: {'LightGBM (gbdt)': 0.16903250226344615, 'LightGBM (goss)': 0.1244774072953736, 'XGBoost': 0.0592160499344232, 'AutoGluon': 0.21228131544075338, 'LogisticRegression': 0.7628824434611103}. Best is trial 56 with value: 0.3767433333333333.\n",
      "[I 2025-06-25 15:42:41,521] Trial 104 finished with value: 0.3766637777777778 and parameters: {'LightGBM (gbdt)': 0.06037503284616977, 'LightGBM (goss)': 0.08399942686784342, 'XGBoost': 0.020406642628884045, 'AutoGluon': 0.2986985053025782, 'LogisticRegression': 0.48669850308103}. Best is trial 56 with value: 0.3767433333333333.\n",
      "[I 2025-06-25 15:42:42,011] Trial 103 finished with value: 0.37648355555555557 and parameters: {'LightGBM (gbdt)': 0.06277818611627728, 'LightGBM (goss)': 0.15997557536010354, 'XGBoost': 0.01747925364649991, 'AutoGluon': 0.20742113276711632, 'LogisticRegression': 0.7606233598242464}. Best is trial 56 with value: 0.3767433333333333.\n",
      "[I 2025-06-25 15:42:46,519] Trial 107 finished with value: 0.37646888888888885 and parameters: {'LightGBM (gbdt)': 0.14215526975283932, 'LightGBM (goss)': 0.08338434981195575, 'XGBoost': 0.08784688583530913, 'AutoGluon': 0.3030411084878836, 'LogisticRegression': 0.6244808012755408}. Best is trial 56 with value: 0.3767433333333333.\n",
      "[I 2025-06-25 15:42:47,481] Trial 108 finished with value: 0.3764248888888891 and parameters: {'LightGBM (gbdt)': 0.32825929480547406, 'LightGBM (goss)': 0.07705795228479156, 'XGBoost': 0.01941818292570166, 'AutoGluon': 0.2706346783774733, 'LogisticRegression': 0.8780527631364812}. Best is trial 56 with value: 0.3767433333333333.\n",
      "[I 2025-06-25 15:42:47,799] Trial 109 finished with value: 0.3762480000000001 and parameters: {'LightGBM (gbdt)': 0.1456673888682955, 'LightGBM (goss)': 0.08240675331635358, 'XGBoost': 0.08923051764118353, 'AutoGluon': 0.27463032638295987, 'LogisticRegression': 0.44696990647668455}. Best is trial 56 with value: 0.3767433333333333.\n",
      "[I 2025-06-25 15:42:48,362] Trial 110 finished with value: 0.37618466666666667 and parameters: {'LightGBM (gbdt)': 0.14708237930982943, 'LightGBM (goss)': 0.07714694334024257, 'XGBoost': 0.17490605075528695, 'AutoGluon': 0.2700961726967361, 'LogisticRegression': 0.5041412528172915}. Best is trial 56 with value: 0.3767433333333333.\n",
      "[I 2025-06-25 15:42:54,047] Trial 111 finished with value: 0.3761213333333336 and parameters: {'LightGBM (gbdt)': 0.08046725480219055, 'LightGBM (goss)': 0.07099782772749906, 'XGBoost': 0.17285654304929893, 'AutoGluon': 0.2734869689616334, 'LogisticRegression': 0.41326556329827013}. Best is trial 56 with value: 0.3767433333333333.\n",
      "[I 2025-06-25 15:42:54,263] Trial 113 finished with value: 0.37679222222222225 and parameters: {'LightGBM (gbdt)': 0.08466428432777201, 'LightGBM (goss)': 0.044112715119492676, 'XGBoost': 0.05756438699588313, 'AutoGluon': 0.345445931524093, 'LogisticRegression': 0.5799512158890071}. Best is trial 113 with value: 0.37679222222222225.\n",
      "[I 2025-06-25 15:42:54,331] Trial 112 finished with value: 0.37626533333333334 and parameters: {'LightGBM (gbdt)': 0.08248585333681882, 'LightGBM (goss)': 0.04455894376951641, 'XGBoost': 0.06434192546992731, 'AutoGluon': 0.33934195115383786, 'LogisticRegression': 0.40889476041945316}. Best is trial 113 with value: 0.37679222222222225.\n",
      "[I 2025-06-25 15:42:54,921] Trial 114 finished with value: 0.37676444444444435 and parameters: {'LightGBM (gbdt)': 0.04809246547086143, 'LightGBM (goss)': 0.04508942191163093, 'XGBoost': 0.059720365467665695, 'AutoGluon': 0.338439519237042, 'LogisticRegression': 0.5890064159454069}. Best is trial 113 with value: 0.37679222222222225.\n",
      "[I 2025-06-25 15:43:00,195] Trial 117 finished with value: 0.3743573333333333 and parameters: {'LightGBM (gbdt)': 0.9563628827578948, 'LightGBM (goss)': 0.04066089797775386, 'XGBoost': 0.05229809842095636, 'AutoGluon': 0.31300657633134776, 'LogisticRegression': 0.5903491008102144}. Best is trial 113 with value: 0.37679222222222225.\n",
      "[I 2025-06-25 15:43:00,480] Trial 118 finished with value: 0.37678511111111107 and parameters: {'LightGBM (gbdt)': 0.048855044327157725, 'LightGBM (goss)': 0.04776335183386524, 'XGBoost': 0.05498486942255738, 'AutoGluon': 0.31581589382717795, 'LogisticRegression': 0.585756999971682}. Best is trial 113 with value: 0.37679222222222225.\n",
      "[I 2025-06-25 15:43:00,529] Trial 115 finished with value: 0.37671377777777765 and parameters: {'LightGBM (gbdt)': 0.042077499395361234, 'LightGBM (goss)': 0.04224286615407018, 'XGBoost': 0.06022841368226604, 'AutoGluon': 0.22814556972659467, 'LogisticRegression': 0.5800210221816082}. Best is trial 113 with value: 0.37679222222222225.\n",
      "[I 2025-06-25 15:43:00,725] Trial 116 finished with value: 0.37668311111111114 and parameters: {'LightGBM (gbdt)': 0.01746957938964617, 'LightGBM (goss)': 0.04726876875611313, 'XGBoost': 0.055843330037435926, 'AutoGluon': 0.22548524916319085, 'LogisticRegression': 0.5814940962497069}. Best is trial 113 with value: 0.37679222222222225.\n",
      "[I 2025-06-25 15:43:06,039] Trial 122 finished with value: 0.37626866666666664 and parameters: {'LightGBM (gbdt)': 0.0443243934628315, 'LightGBM (goss)': 0.012939349671505396, 'XGBoost': 0.08029671153752141, 'AutoGluon': 0.40511444812626307, 'LogisticRegression': 0.46389854013656456}. Best is trial 113 with value: 0.37679222222222225.\n",
      "[I 2025-06-25 15:43:06,378] Trial 120 finished with value: 0.3760617777777779 and parameters: {'LightGBM (gbdt)': 0.1081686921254176, 'LightGBM (goss)': 0.014444507427962591, 'XGBoost': 0.07843930894645998, 'AutoGluon': 0.45809509815006677, 'LogisticRegression': 0.470696205165272}. Best is trial 113 with value: 0.37679222222222225.\n",
      "[I 2025-06-25 15:43:06,757] Trial 119 finished with value: 0.37635866666666673 and parameters: {'LightGBM (gbdt)': 0.04859201069315539, 'LightGBM (goss)': 0.05622311806207661, 'XGBoost': 0.02125438079468707, 'AutoGluon': 0.38036838077212587, 'LogisticRegression': 0.4672554770932411}. Best is trial 113 with value: 0.37679222222222225.\n",
      "[I 2025-06-25 15:43:06,814] Trial 121 finished with value: 0.375890888888889 and parameters: {'LightGBM (gbdt)': 0.11440427203965327, 'LightGBM (goss)': 0.0012301929960463198, 'XGBoost': 0.12365041592504805, 'AutoGluon': 0.4730890253446068, 'LogisticRegression': 0.47643484230450156}. Best is trial 113 with value: 0.37679222222222225.\n",
      "[I 2025-06-25 15:43:11,675] Trial 126 finished with value: 0.37670666666666675 and parameters: {'LightGBM (gbdt)': 0.07828481757147697, 'LightGBM (goss)': 0.049968324620050186, 'XGBoost': 0.05606285629746106, 'AutoGluon': 0.32960509366737323, 'LogisticRegression': 0.533062445334468}. Best is trial 113 with value: 0.37679222222222225.\n",
      "[I 2025-06-25 15:43:12,422] Trial 124 finished with value: 0.37674022222222214 and parameters: {'LightGBM (gbdt)': 0.0703897052667098, 'LightGBM (goss)': 0.05474761496092086, 'XGBoost': 0.05413371297601879, 'AutoGluon': 0.3489239714089956, 'LogisticRegression': 0.6142653447526265}. Best is trial 113 with value: 0.37679222222222225.\n",
      "[I 2025-06-25 15:43:12,555] Trial 125 finished with value: 0.37666200000000005 and parameters: {'LightGBM (gbdt)': 0.07390634363574888, 'LightGBM (goss)': 0.053745099649805075, 'XGBoost': 0.06308087529169687, 'AutoGluon': 0.3191176434943082, 'LogisticRegression': 0.5163920470114767}. Best is trial 113 with value: 0.37679222222222225.\n",
      "[I 2025-06-25 15:43:12,721] Trial 123 finished with value: 0.3767604444444445 and parameters: {'LightGBM (gbdt)': 0.07192952179898618, 'LightGBM (goss)': 0.057559422267052074, 'XGBoost': 0.0574124948354608, 'AutoGluon': 0.3493062058995318, 'LogisticRegression': 0.6049762167143728}. Best is trial 113 with value: 0.37679222222222225.\n",
      "[I 2025-06-25 15:43:18,452] Trial 127 finished with value: 0.3766177777777778 and parameters: {'LightGBM (gbdt)': 0.07198063584802948, 'LightGBM (goss)': 0.056392869997253584, 'XGBoost': 0.056510109798675184, 'AutoGluon': 0.3464128400394866, 'LogisticRegression': 0.5290434066386633}. Best is trial 113 with value: 0.37679222222222225.\n",
      "[I 2025-06-25 15:43:19,038] Trial 128 finished with value: 0.37657866666666656 and parameters: {'LightGBM (gbdt)': 0.05995970305556116, 'LightGBM (goss)': 0.0488310763608695, 'XGBoost': 0.09930885334812808, 'AutoGluon': 0.3358180291556555, 'LogisticRegression': 0.5175845863080397}. Best is trial 113 with value: 0.37679222222222225.\n",
      "[I 2025-06-25 15:43:19,102] Trial 130 finished with value: 0.3766884444444443 and parameters: {'LightGBM (gbdt)': 0.06702621595668079, 'LightGBM (goss)': 0.0320593167719293, 'XGBoost': 0.10950407713161553, 'AutoGluon': 0.34121000573451904, 'LogisticRegression': 0.5825239517021066}. Best is trial 113 with value: 0.37679222222222225.\n",
      "[I 2025-06-25 15:43:19,306] Trial 129 finished with value: 0.3766542222222222 and parameters: {'LightGBM (gbdt)': 0.06780306639729045, 'LightGBM (goss)': 0.03580192979156923, 'XGBoost': 0.1061529851978372, 'AutoGluon': 0.3423987091539251, 'LogisticRegression': 0.5360577696475847}. Best is trial 113 with value: 0.37679222222222225.\n",
      "[I 2025-06-25 15:43:25,409] Trial 131 finished with value: 0.3764862222222221 and parameters: {'LightGBM (gbdt)': 0.17116035458573672, 'LightGBM (goss)': 0.03470022499957744, 'XGBoost': 0.09556393781961531, 'AutoGluon': 0.3382291881101744, 'LogisticRegression': 0.5779713688895458}. Best is trial 113 with value: 0.37679222222222225.\n",
      "[I 2025-06-25 15:43:25,547] Trial 134 finished with value: 0.3765975555555556 and parameters: {'LightGBM (gbdt)': 0.02793022852138377, 'LightGBM (goss)': 0.025845033577009555, 'XGBoost': 0.08568570633576517, 'AutoGluon': 0.40157198930660964, 'LogisticRegression': 0.5764493480226721}. Best is trial 113 with value: 0.37679222222222225.\n",
      "[I 2025-06-25 15:43:25,699] Trial 132 finished with value: 0.3766515555555557 and parameters: {'LightGBM (gbdt)': 0.03290114288766767, 'LightGBM (goss)': 0.030709517168478733, 'XGBoost': 0.1326912201105226, 'AutoGluon': 0.4154538260838421, 'LogisticRegression': 0.6391871699384032}. Best is trial 113 with value: 0.37679222222222225.\n",
      "[I 2025-06-25 15:43:26,056] Trial 133 finished with value: 0.3766995555555555 and parameters: {'LightGBM (gbdt)': 0.02392305555549193, 'LightGBM (goss)': 0.03098427948047792, 'XGBoost': 0.1293827228297046, 'AutoGluon': 0.42034811907929975, 'LogisticRegression': 0.6390360354157834}. Best is trial 113 with value: 0.37679222222222225.\n",
      "[I 2025-06-25 15:43:31,083] Trial 137 finished with value: 0.3765313333333333 and parameters: {'LightGBM (gbdt)': 0.12839610400892348, 'LightGBM (goss)': 0.10242875674890672, 'XGBoost': 0.04567151442764651, 'AutoGluon': 0.38122731291070977, 'LogisticRegression': 0.6221999306581677}. Best is trial 113 with value: 0.37679222222222225.\n",
      "[I 2025-06-25 15:43:31,293] Trial 136 finished with value: 0.37661533333333347 and parameters: {'LightGBM (gbdt)': 0.09417481115253332, 'LightGBM (goss)': 0.00041067949818558713, 'XGBoost': 0.12416648614346866, 'AutoGluon': 0.29942080112860625, 'LogisticRegression': 0.6350259525786737}. Best is trial 113 with value: 0.37679222222222225.\n",
      "[I 2025-06-25 15:43:31,939] Trial 138 finished with value: 0.37634733333333326 and parameters: {'LightGBM (gbdt)': 0.09440757065288308, 'LightGBM (goss)': 0.002517788940144282, 'XGBoost': 0.1169280095224583, 'AutoGluon': 0.49636036461379573, 'LogisticRegression': 0.6167197038528373}. Best is trial 113 with value: 0.37679222222222225.\n",
      "[I 2025-06-25 15:43:32,142] Trial 135 finished with value: 0.3766751111111109 and parameters: {'LightGBM (gbdt)': 0.024830440455514934, 'LightGBM (goss)': 0.025342830607884767, 'XGBoost': 0.1252395033520972, 'AutoGluon': 0.40234245186192646, 'LogisticRegression': 0.6368461099287716}. Best is trial 113 with value: 0.37679222222222225.\n",
      "[I 2025-06-25 15:43:36,705] Trial 139 finished with value: 0.37667111111111107 and parameters: {'LightGBM (gbdt)': 0.04567421558037925, 'LightGBM (goss)': 0.005111771781979149, 'XGBoost': 0.1195995983140199, 'AutoGluon': 0.44728188684827097, 'LogisticRegression': 0.6503565729042518}. Best is trial 113 with value: 0.37679222222222225.\n",
      "[I 2025-06-25 15:43:37,624] Trial 141 finished with value: 0.3766677777777778 and parameters: {'LightGBM (gbdt)': 0.044773425733103875, 'LightGBM (goss)': 0.05895321639119028, 'XGBoost': 0.07630897098052158, 'AutoGluon': 0.4343805995602831, 'LogisticRegression': 0.6524310119945649}. Best is trial 113 with value: 0.37679222222222225.\n",
      "[I 2025-06-25 15:43:37,811] Trial 142 finished with value: 0.37675066666666684 and parameters: {'LightGBM (gbdt)': 0.040235741844843326, 'LightGBM (goss)': 0.06405359713668357, 'XGBoost': 0.06951984471592065, 'AutoGluon': 0.3702447243223206, 'LogisticRegression': 0.6600739331888047}. Best is trial 113 with value: 0.37679222222222225.\n",
      "[I 2025-06-25 15:43:38,126] Trial 140 finished with value: 0.37639222222222224 and parameters: {'LightGBM (gbdt)': 0.04317525913997676, 'LightGBM (goss)': 0.06993538909068013, 'XGBoost': 0.23438570553724764, 'AutoGluon': 0.4295548429526577, 'LogisticRegression': 0.6525113555859741}. Best is trial 113 with value: 0.37679222222222225.\n",
      "[I 2025-06-25 15:43:43,181] Trial 146 finished with value: 0.3766417777777779 and parameters: {'LightGBM (gbdt)': 0.0178653818970948, 'LightGBM (goss)': 0.11612517206745888, 'XGBoost': 0.06709793830504505, 'AutoGluon': 0.3561234603588681, 'LogisticRegression': 0.5986623095060647}. Best is trial 113 with value: 0.37679222222222225.\n",
      "[I 2025-06-25 15:43:43,455] Trial 143 finished with value: 0.37390466666666666 and parameters: {'LightGBM (gbdt)': 0.47255741290390485, 'LightGBM (goss)': 0.852735710072693, 'XGBoost': 0.07663514761353714, 'AutoGluon': 0.3614347326938834, 'LogisticRegression': 0.6758051277142552}. Best is trial 113 with value: 0.37679222222222225.\n",
      "[I 2025-06-25 15:43:43,763] Trial 145 finished with value: 0.37674222222222215 and parameters: {'LightGBM (gbdt)': 0.020155830465439672, 'LightGBM (goss)': 0.06259269022295724, 'XGBoost': 0.04781210024861637, 'AutoGluon': 0.36178028254582295, 'LogisticRegression': 0.6811525905558434}. Best is trial 113 with value: 0.37679222222222225.\n",
      "[I 2025-06-25 15:43:44,104] Trial 144 finished with value: 0.3742055555555554 and parameters: {'LightGBM (gbdt)': 0.019753151059879553, 'LightGBM (goss)': 0.8392689397545284, 'XGBoost': 0.2366814312788592, 'AutoGluon': 0.36167032096777435, 'LogisticRegression': 0.592971457301132}. Best is trial 113 with value: 0.37679222222222225.\n",
      "[I 2025-06-25 15:43:48,983] Trial 147 finished with value: 0.37491133333333326 and parameters: {'LightGBM (gbdt)': 9.154119279125572e-07, 'LightGBM (goss)': 0.8001694887618673, 'XGBoost': 0.052209847261643634, 'AutoGluon': 0.31551128135037043, 'LogisticRegression': 0.6693000256935824}. Best is trial 113 with value: 0.37679222222222225.\n",
      "[I 2025-06-25 15:43:49,452] Trial 149 finished with value: 0.3766331111111111 and parameters: {'LightGBM (gbdt)': 0.0033967743643985027, 'LightGBM (goss)': 0.052554919477255366, 'XGBoost': 0.04995019918715325, 'AutoGluon': 0.38118735622622113, 'LogisticRegression': 0.5948444773612076}. Best is trial 113 with value: 0.37679222222222225.\n",
      "[I 2025-06-25 15:43:49,452] Trial 148 finished with value: 0.3767668888888888 and parameters: {'LightGBM (gbdt)': 0.08021887633772153, 'LightGBM (goss)': 0.06003789301402729, 'XGBoost': 0.04025897184505599, 'AutoGluon': 0.3148176762792495, 'LogisticRegression': 0.5492720328788439}. Best is trial 113 with value: 0.37679222222222225.\n",
      "[I 2025-06-25 15:43:49,826] Trial 150 finished with value: 0.37670066666666674 and parameters: {'LightGBM (gbdt)': 0.0017973763916736794, 'LightGBM (goss)': 0.05392211562497766, 'XGBoost': 0.04435864685087023, 'AutoGluon': 0.3149583343224667, 'LogisticRegression': 0.5564969064739363}. Best is trial 113 with value: 0.37679222222222225.\n",
      "[I 2025-06-25 15:43:55,194] Trial 152 finished with value: 0.3766535555555556 and parameters: {'LightGBM (gbdt)': 0.07891329671767548, 'LightGBM (goss)': 0.09367571727189779, 'XGBoost': 0.026988520329365596, 'AutoGluon': 0.32600115263351137, 'LogisticRegression': 0.5488831576863417}. Best is trial 113 with value: 0.37679222222222225.\n",
      "[I 2025-06-25 15:43:55,528] Trial 153 finished with value: 0.37663177777777784 and parameters: {'LightGBM (gbdt)': 0.07981085850488621, 'LightGBM (goss)': 0.09669643663952196, 'XGBoost': 0.03290805718245456, 'AutoGluon': 0.33013736390803744, 'LogisticRegression': 0.5553359556970119}. Best is trial 113 with value: 0.37679222222222225.\n",
      "[I 2025-06-25 15:43:56,146] Trial 151 finished with value: 0.37521422222222234 and parameters: {'LightGBM (gbdt)': 0.07957755420248509, 'LightGBM (goss)': 0.5488331631006725, 'XGBoost': 0.02425494852323614, 'AutoGluon': 0.38266482904494825, 'LogisticRegression': 0.559201682854896}. Best is trial 113 with value: 0.37679222222222225.\n",
      "[I 2025-06-25 15:43:56,921] Trial 154 finished with value: 0.37660155555555563 and parameters: {'LightGBM (gbdt)': 0.07853322805481319, 'LightGBM (goss)': 0.09970919139540643, 'XGBoost': 0.02557098691575602, 'AutoGluon': 0.3285421425031445, 'LogisticRegression': 0.5506199454302673}. Best is trial 113 with value: 0.37679222222222225.\n",
      "[I 2025-06-25 15:44:00,631] Trial 156 finished with value: 0.3752446666666666 and parameters: {'LightGBM (gbdt)': 0.0484206755519167, 'LightGBM (goss)': 0.6271053359157619, 'XGBoost': 0.024085059096601292, 'AutoGluon': 0.28502402176628194, 'LogisticRegression': 0.6123850549821566}. Best is trial 113 with value: 0.37679222222222225.\n",
      "[I 2025-06-25 15:44:00,794] Trial 155 finished with value: 0.3765639999999999 and parameters: {'LightGBM (gbdt)': 0.05007623741419055, 'LightGBM (goss)': 0.12705436777345325, 'XGBoost': 0.032450368359156025, 'AutoGluon': 0.34882473999360253, 'LogisticRegression': 0.5518101421950049}. Best is trial 113 with value: 0.37679222222222225.\n",
      "[I 2025-06-25 15:44:02,355] Trial 157 finished with value: 0.37562977777777784 and parameters: {'LightGBM (gbdt)': 0.055066148556196765, 'LightGBM (goss)': 0.47554024327583283, 'XGBoost': 0.09465460127888306, 'AutoGluon': 0.283807687185801, 'LogisticRegression': 0.6144908334997948}. Best is trial 113 with value: 0.37679222222222225.\n",
      "[I 2025-06-25 15:44:04,812] Trial 158 finished with value: 0.37671333333333323 and parameters: {'LightGBM (gbdt)': 0.054184404215004416, 'LightGBM (goss)': 0.06388001242495484, 'XGBoost': 0.09622902470565745, 'AutoGluon': 0.2810803934267133, 'LogisticRegression': 0.6233754078745097}. Best is trial 113 with value: 0.37679222222222225.\n",
      "[I 2025-06-25 15:44:05,661] Trial 160 finished with value: 0.37647577777777785 and parameters: {'LightGBM (gbdt)': 0.12128841466087416, 'LightGBM (goss)': 0.07136701232532247, 'XGBoost': 0.09923264721957026, 'AutoGluon': 0.307263753917235, 'LogisticRegression': 0.5779905643731883}. Best is trial 113 with value: 0.37679222222222225.\n",
      "[I 2025-06-25 15:44:05,709] Trial 159 finished with value: 0.37675222222222227 and parameters: {'LightGBM (gbdt)': 0.053651640922121754, 'LightGBM (goss)': 0.05963402047121357, 'XGBoost': 0.08989601077874046, 'AutoGluon': 0.30492336247127133, 'LogisticRegression': 0.681320632061949}. Best is trial 113 with value: 0.37679222222222225.\n",
      "[I 2025-06-25 15:44:11,204] Trial 161 finished with value: 0.37543177777777775 and parameters: {'LightGBM (gbdt)': 0.5572968360185168, 'LightGBM (goss)': 0.06856871431605333, 'XGBoost': 0.07036968741010469, 'AutoGluon': 0.3001941617798519, 'LogisticRegression': 0.5710425596291004}. Best is trial 113 with value: 0.37679222222222225.\n",
      "[I 2025-06-25 15:44:11,279] Trial 163 finished with value: 0.3767222222222222 and parameters: {'LightGBM (gbdt)': 0.03239630736717799, 'LightGBM (goss)': 0.06438010074478752, 'XGBoost': 0.07068157256279943, 'AutoGluon': 0.30596212594856514, 'LogisticRegression': 0.6818719970873397}. Best is trial 113 with value: 0.37679222222222225.\n",
      "[I 2025-06-25 15:44:11,642] Trial 162 finished with value: 0.37672 and parameters: {'LightGBM (gbdt)': 0.03379388909085413, 'LightGBM (goss)': 0.0689810995943714, 'XGBoost': 0.06633933529091228, 'AutoGluon': 0.30806226765850137, 'LogisticRegression': 0.6779246655763901}. Best is trial 113 with value: 0.37679222222222225.\n",
      "[I 2025-06-25 15:44:11,904] Trial 164 finished with value: 0.37678777777777767 and parameters: {'LightGBM (gbdt)': 0.028625490722707047, 'LightGBM (goss)': 0.06328961624117306, 'XGBoost': 0.06688687929401772, 'AutoGluon': 0.30566944146645486, 'LogisticRegression': 0.6870352344957998}. Best is trial 113 with value: 0.37679222222222225.\n",
      "[I 2025-06-25 15:44:17,917] Trial 166 finished with value: 0.376166 and parameters: {'LightGBM (gbdt)': 0.03228114327468823, 'LightGBM (goss)': 0.06149815435155776, 'XGBoost': 0.04734762646238088, 'AutoGluon': 0.6422296278058081, 'LogisticRegression': 0.7237096499638958}. Best is trial 113 with value: 0.37679222222222225.\n",
      "[I 2025-06-25 15:44:18,242] Trial 165 finished with value: 0.37672533333333336 and parameters: {'LightGBM (gbdt)': 0.039744062359453575, 'LightGBM (goss)': 0.06219236889167784, 'XGBoost': 0.047446139082709025, 'AutoGluon': 0.25514285473490944, 'LogisticRegression': 0.6735936304693207}. Best is trial 113 with value: 0.37679222222222225.\n",
      "[I 2025-06-25 15:44:18,446] Trial 167 finished with value: 0.3766891111111111 and parameters: {'LightGBM (gbdt)': 0.03694326423149473, 'LightGBM (goss)': 0.06627159587698055, 'XGBoost': 0.0687365718750331, 'AutoGluon': 0.2576759393913362, 'LogisticRegression': 0.6643312956745335}. Best is trial 113 with value: 0.37679222222222225.\n",
      "[I 2025-06-25 15:44:18,590] Trial 168 finished with value: 0.375322 and parameters: {'LightGBM (gbdt)': 0.7179529609626448, 'LightGBM (goss)': 0.1317608488121233, 'XGBoost': 0.0010667479299557858, 'AutoGluon': 0.26753474515771164, 'LogisticRegression': 0.6952549948416105}. Best is trial 113 with value: 0.37679222222222225.\n",
      "[I 2025-06-25 15:44:23,457] Trial 169 finished with value: 0.37666577777777793 and parameters: {'LightGBM (gbdt)': 0.03490472856565885, 'LightGBM (goss)': 0.12157414999213446, 'XGBoost': 0.003976232218484579, 'AutoGluon': 0.2639636573265399, 'LogisticRegression': 0.684725899138965}. Best is trial 113 with value: 0.37679222222222225.\n",
      "[I 2025-06-25 15:44:23,847] Trial 171 finished with value: 0.3766675555555556 and parameters: {'LightGBM (gbdt)': 0.10589218155649294, 'LightGBM (goss)': 0.11282321982404891, 'XGBoost': 0.0029448776754402335, 'AutoGluon': 0.2559320306601376, 'LogisticRegression': 0.7071477859777908}. Best is trial 113 with value: 0.37679222222222225.\n",
      "[I 2025-06-25 15:44:24,045] Trial 170 finished with value: 0.37671733333333335 and parameters: {'LightGBM (gbdt)': 0.03365779820831982, 'LightGBM (goss)': 0.11716558096380318, 'XGBoost': 0.07232569712771413, 'AutoGluon': 0.25568942450954857, 'LogisticRegression': 0.6844629589936185}. Best is trial 113 with value: 0.37679222222222225.\n",
      "[I 2025-06-25 15:44:24,383] Trial 172 finished with value: 0.37671266666666664 and parameters: {'LightGBM (gbdt)': 0.10646476047664996, 'LightGBM (goss)': 0.09332264457373296, 'XGBoost': 0.0003570519361641017, 'AutoGluon': 0.2890533805264147, 'LogisticRegression': 0.6789642092585527}. Best is trial 113 with value: 0.37679222222222225.\n",
      "[I 2025-06-25 15:44:30,150] Trial 173 finished with value: 0.37628088888888894 and parameters: {'LightGBM (gbdt)': 0.10576298371419653, 'LightGBM (goss)': 0.09568703364780813, 'XGBoost': 0.0841898918604225, 'AutoGluon': 0.5863781700021671, 'LogisticRegression': 0.7201641793323228}. Best is trial 113 with value: 0.37679222222222225.\n",
      "[I 2025-06-25 15:44:30,680] Trial 174 finished with value: 0.37674911111111126 and parameters: {'LightGBM (gbdt)': 0.058966187404910185, 'LightGBM (goss)': 0.08890623959405344, 'XGBoost': 0.08252093102468298, 'AutoGluon': 0.3068009931959017, 'LogisticRegression': 0.7135190590187103}. Best is trial 113 with value: 0.37679222222222225.\n",
      "[I 2025-06-25 15:44:30,928] Trial 175 finished with value: 0.3767182222222222 and parameters: {'LightGBM (gbdt)': 0.020705725726232235, 'LightGBM (goss)': 0.0899429291617889, 'XGBoost': 0.07299188374977063, 'AutoGluon': 0.29593686663620655, 'LogisticRegression': 0.6752491646617521}. Best is trial 113 with value: 0.37679222222222225.\n",
      "[I 2025-06-25 15:44:31,231] Trial 176 finished with value: 0.37675066666666657 and parameters: {'LightGBM (gbdt)': 0.057525327376107924, 'LightGBM (goss)': 0.08724164483884095, 'XGBoost': 0.07488142772510188, 'AutoGluon': 0.30697400936559077, 'LogisticRegression': 0.7065176080584338}. Best is trial 113 with value: 0.37679222222222225.\n",
      "[I 2025-06-25 15:44:36,932] Trial 177 finished with value: 0.3767384444444445 and parameters: {'LightGBM (gbdt)': 0.05918269500743081, 'LightGBM (goss)': 0.03889517149987862, 'XGBoost': 0.04521202920528988, 'AutoGluon': 0.24105451146565096, 'LogisticRegression': 0.6830772906215122}. Best is trial 113 with value: 0.37679222222222225.\n",
      "[I 2025-06-25 15:44:37,218] Trial 178 finished with value: 0.37675222222222216 and parameters: {'LightGBM (gbdt)': 0.06314337939627093, 'LightGBM (goss)': 0.0846826455500442, 'XGBoost': 0.04187064148953402, 'AutoGluon': 0.3068632565770966, 'LogisticRegression': 0.7415512292410664}. Best is trial 113 with value: 0.37679222222222225.\n",
      "[I 2025-06-25 15:44:37,539] Trial 180 finished with value: 0.3767471111111111 and parameters: {'LightGBM (gbdt)': 0.06219583303387685, 'LightGBM (goss)': 0.08111744734239729, 'XGBoost': 0.04193160617502284, 'AutoGluon': 0.3081859975778114, 'LogisticRegression': 0.7361476425287482}. Best is trial 113 with value: 0.37679222222222225.\n",
      "[I 2025-06-25 15:44:38,000] Trial 179 finished with value: 0.3764282222222223 and parameters: {'LightGBM (gbdt)': 0.05847668541586974, 'LightGBM (goss)': 0.08275235194020272, 'XGBoost': 0.32799967928351226, 'AutoGluon': 0.30799373992740614, 'LogisticRegression': 0.7402583000118294}. Best is trial 113 with value: 0.37679222222222225.\n",
      "[I 2025-06-25 15:44:42,883] Trial 183 finished with value: 0.37678444444444437 and parameters: {'LightGBM (gbdt)': 0.06175167096932519, 'LightGBM (goss)': 0.014863029912265194, 'XGBoost': 0.03900475959595168, 'AutoGluon': 0.35691432500113623, 'LogisticRegression': 0.7431034353482794}. Best is trial 113 with value: 0.37679222222222225.\n",
      "[I 2025-06-25 15:44:43,214] Trial 184 finished with value: 0.3768068888888889 and parameters: {'LightGBM (gbdt)': 0.06554262072861052, 'LightGBM (goss)': 0.017062806330517204, 'XGBoost': 0.042509549001001165, 'AutoGluon': 0.35685944235875067, 'LogisticRegression': 0.7182246792172929}. Best is trial 184 with value: 0.3768068888888889.\n",
      "[I 2025-06-25 15:44:43,589] Trial 182 finished with value: 0.376808 and parameters: {'LightGBM (gbdt)': 0.06430775340183585, 'LightGBM (goss)': 0.021439595863004896, 'XGBoost': 0.03954843516095932, 'AutoGluon': 0.36003526462387403, 'LogisticRegression': 0.7516986444325782}. Best is trial 182 with value: 0.376808.\n",
      "[I 2025-06-25 15:44:43,646] Trial 181 finished with value: 0.3768099999999999 and parameters: {'LightGBM (gbdt)': 0.06768593113190498, 'LightGBM (goss)': 0.03235908235014608, 'XGBoost': 0.042912656185677564, 'AutoGluon': 0.35743438193041027, 'LogisticRegression': 0.7374840361863755}. Best is trial 181 with value: 0.3768099999999999.\n",
      "[I 2025-06-25 15:44:49,258] Trial 187 finished with value: 0.3768233333333334 and parameters: {'LightGBM (gbdt)': 0.07908263908869795, 'LightGBM (goss)': 0.01799024876543992, 'XGBoost': 0.030066978799910694, 'AutoGluon': 0.37931433021858424, 'LogisticRegression': 0.7800799457081932}. Best is trial 187 with value: 0.3768233333333334.\n",
      "[I 2025-06-25 15:44:50,053] Trial 188 finished with value: 0.37680044444444455 and parameters: {'LightGBM (gbdt)': 0.08721308812120002, 'LightGBM (goss)': 0.014111019048592972, 'XGBoost': 0.029479280448137746, 'AutoGluon': 0.36161746578621007, 'LogisticRegression': 0.7802707951478517}. Best is trial 187 with value: 0.3768233333333334.\n",
      "[I 2025-06-25 15:44:50,215] Trial 185 finished with value: 0.37683333333333324 and parameters: {'LightGBM (gbdt)': 0.06749103158774265, 'LightGBM (goss)': 0.022269951862406098, 'XGBoost': 0.04016839293135736, 'AutoGluon': 0.367631694923544, 'LogisticRegression': 0.7528281973404518}. Best is trial 185 with value: 0.37683333333333324.\n",
      "[I 2025-06-25 15:44:50,327] Trial 186 finished with value: 0.37682044444444457 and parameters: {'LightGBM (gbdt)': 0.08886171485298341, 'LightGBM (goss)': 0.0150521416056889, 'XGBoost': 0.03843558566070604, 'AutoGluon': 0.36635622278638086, 'LogisticRegression': 0.7446617335581901}. Best is trial 185 with value: 0.37683333333333324.\n",
      "[I 2025-06-25 15:44:55,766] Trial 191 finished with value: 0.37684177777777766 and parameters: {'LightGBM (gbdt)': 0.1219641280142236, 'LightGBM (goss)': 0.0015108347139445883, 'XGBoost': 0.029593346827471754, 'AutoGluon': 0.38503480326022393, 'LogisticRegression': 0.783660905787049}. Best is trial 191 with value: 0.37684177777777766.\n",
      "[I 2025-06-25 15:44:55,997] Trial 189 finished with value: 0.3768173333333334 and parameters: {'LightGBM (gbdt)': 0.09535512415582298, 'LightGBM (goss)': 0.0013351660112268515, 'XGBoost': 0.02488033329210451, 'AutoGluon': 0.37682465538932447, 'LogisticRegression': 0.7818563032437637}. Best is trial 191 with value: 0.37684177777777766.\n",
      "[I 2025-06-25 15:44:56,672] Trial 190 finished with value: 0.37681111111111093 and parameters: {'LightGBM (gbdt)': 0.0944461881853898, 'LightGBM (goss)': 0.018961355480351053, 'XGBoost': 0.022036418344723883, 'AutoGluon': 0.3894017459654352, 'LogisticRegression': 0.7948830465684892}. Best is trial 191 with value: 0.37684177777777766.\n",
      "[I 2025-06-25 15:44:56,803] Trial 192 finished with value: 0.37688266666666675 and parameters: {'LightGBM (gbdt)': 0.13297927054219483, 'LightGBM (goss)': 0.01470485808474968, 'XGBoost': 0.02371686317139714, 'AutoGluon': 0.3809181593913487, 'LogisticRegression': 0.7940835027466457}. Best is trial 192 with value: 0.37688266666666675.\n",
      "[I 2025-06-25 15:45:02,443] Trial 194 finished with value: 0.3768835555555555 and parameters: {'LightGBM (gbdt)': 0.1318811530419996, 'LightGBM (goss)': 0.016573389934795346, 'XGBoost': 0.0248512206921946, 'AutoGluon': 0.38317243796848655, 'LogisticRegression': 0.811231025293929}. Best is trial 194 with value: 0.3768835555555555.\n",
      "[I 2025-06-25 15:45:02,976] Trial 195 finished with value: 0.37687844444444457 and parameters: {'LightGBM (gbdt)': 0.12922753550030291, 'LightGBM (goss)': 0.016762946897419313, 'XGBoost': 0.022744592400916325, 'AutoGluon': 0.3904786296798296, 'LogisticRegression': 0.8210765345952807}. Best is trial 194 with value: 0.3768835555555555.\n",
      "[I 2025-06-25 15:45:03,035] Trial 193 finished with value: 0.3768780000000001 and parameters: {'LightGBM (gbdt)': 0.1307064751464415, 'LightGBM (goss)': 0.015616621112883372, 'XGBoost': 0.022948747685071966, 'AutoGluon': 0.3843139026540668, 'LogisticRegression': 0.8003547131459329}. Best is trial 194 with value: 0.3768835555555555.\n",
      "[I 2025-06-25 15:45:03,165] Trial 196 finished with value: 0.3768937777777778 and parameters: {'LightGBM (gbdt)': 0.1344234003663822, 'LightGBM (goss)': 0.014294447089813875, 'XGBoost': 0.02323410183259353, 'AutoGluon': 0.39428942359052593, 'LogisticRegression': 0.8228514602616127}. Best is trial 196 with value: 0.3768937777777778.\n",
      "[I 2025-06-25 15:45:08,714] Trial 199 finished with value: 0.3768766666666667 and parameters: {'LightGBM (gbdt)': 0.13493858967340172, 'LightGBM (goss)': 0.015209658563696646, 'XGBoost': 0.017041347639847673, 'AutoGluon': 0.3956239148766246, 'LogisticRegression': 0.8202374158451694}. Best is trial 196 with value: 0.3768937777777778.\n",
      "[I 2025-06-25 15:45:09,127] Trial 200 finished with value: 0.3769004444444446 and parameters: {'LightGBM (gbdt)': 0.13498404835390584, 'LightGBM (goss)': 0.017006207104837166, 'XGBoost': 0.0338305873833789, 'AutoGluon': 0.39662900511971805, 'LogisticRegression': 0.8194617252833893}. Best is trial 200 with value: 0.3769004444444446.\n",
      "[I 2025-06-25 15:45:09,337] Trial 198 finished with value: 0.37687866666666653 and parameters: {'LightGBM (gbdt)': 0.132923961114115, 'LightGBM (goss)': 0.016399891113351522, 'XGBoost': 0.020522406852153098, 'AutoGluon': 0.3971866732581011, 'LogisticRegression': 0.8089461979940626}. Best is trial 200 with value: 0.3769004444444446.\n",
      "[I 2025-06-25 15:45:09,398] Trial 197 finished with value: 0.3768675555555557 and parameters: {'LightGBM (gbdt)': 0.13378508289575802, 'LightGBM (goss)': 0.014128770839248532, 'XGBoost': 0.0258490691775271, 'AutoGluon': 0.41157864695301144, 'LogisticRegression': 0.8205641653051058}. Best is trial 200 with value: 0.3769004444444446.\n",
      "[I 2025-06-25 15:45:14,675] Trial 203 finished with value: 0.3768342222222222 and parameters: {'LightGBM (gbdt)': 0.1833044099222147, 'LightGBM (goss)': 0.01544101191720505, 'XGBoost': 0.018219270626262142, 'AutoGluon': 0.40362985041911603, 'LogisticRegression': 0.8172955870563628}. Best is trial 200 with value: 0.3769004444444446.\n",
      "[I 2025-06-25 15:45:15,453] Trial 204 finished with value: 0.3768351111111112 and parameters: {'LightGBM (gbdt)': 0.202137762254415, 'LightGBM (goss)': 0.01585664913121202, 'XGBoost': 0.021654461145932967, 'AutoGluon': 0.4027673814827524, 'LogisticRegression': 0.8089850151277372}. Best is trial 200 with value: 0.3769004444444446.\n",
      "[I 2025-06-25 15:45:15,663] Trial 202 finished with value: 0.3768444444444443 and parameters: {'LightGBM (gbdt)': 0.21302511806927338, 'LightGBM (goss)': 0.015693471617615914, 'XGBoost': 0.02029696630828073, 'AutoGluon': 0.3962203070412067, 'LogisticRegression': 0.822393294186431}. Best is trial 200 with value: 0.3769004444444446.\n",
      "[I 2025-06-25 15:45:15,777] Trial 201 finished with value: 0.3768502222222223 and parameters: {'LightGBM (gbdt)': 0.20638846378385828, 'LightGBM (goss)': 0.0009386227386122634, 'XGBoost': 0.018780676218397713, 'AutoGluon': 0.3978981643880055, 'LogisticRegression': 0.8204985479325694}. Best is trial 200 with value: 0.3769004444444446.\n",
      "[I 2025-06-25 15:45:21,349] Trial 206 finished with value: 0.37685622222222226 and parameters: {'LightGBM (gbdt)': 0.16667452335616117, 'LightGBM (goss)': 0.001658192505125262, 'XGBoost': 0.023112078973472897, 'AutoGluon': 0.4111071155741445, 'LogisticRegression': 0.8274886348026063}. Best is trial 200 with value: 0.3769004444444446.\n",
      "[I 2025-06-25 15:45:21,710] Trial 205 finished with value: 0.37688666666666665 and parameters: {'LightGBM (gbdt)': 0.1739108699856475, 'LightGBM (goss)': 0.0010831074516783248, 'XGBoost': 0.019964184165210206, 'AutoGluon': 0.4015971586538685, 'LogisticRegression': 0.822736163131337}. Best is trial 200 with value: 0.3769004444444446.\n",
      "[I 2025-06-25 15:45:21,996] Trial 208 finished with value: 0.3768728888888889 and parameters: {'LightGBM (gbdt)': 0.20987204286529143, 'LightGBM (goss)': 0.004869362093719505, 'XGBoost': 0.019371848696420287, 'AutoGluon': 0.4025956465594766, 'LogisticRegression': 0.8200107873464763}. Best is trial 200 with value: 0.3769004444444446.\n",
      "[I 2025-06-25 15:45:22,327] Trial 207 finished with value: 0.37686888888888886 and parameters: {'LightGBM (gbdt)': 0.21697879885367546, 'LightGBM (goss)': 0.004519654611022822, 'XGBoost': 0.017020330874589193, 'AutoGluon': 0.40291517024245393, 'LogisticRegression': 0.8119332702756117}. Best is trial 200 with value: 0.3769004444444446.\n",
      "[I 2025-06-25 15:45:27,630] Trial 209 finished with value: 0.37685533333333354 and parameters: {'LightGBM (gbdt)': 0.21540052558460476, 'LightGBM (goss)': 0.004958951899910129, 'XGBoost': 0.01663522434983567, 'AutoGluon': 0.4091003276289722, 'LogisticRegression': 0.8148395269870959}. Best is trial 200 with value: 0.3769004444444446.\n",
      "[I 2025-06-25 15:45:28,072] Trial 210 finished with value: 0.37688111111111117 and parameters: {'LightGBM (gbdt)': 0.21076872746699427, 'LightGBM (goss)': 0.004056647026495189, 'XGBoost': 0.015059475145237703, 'AutoGluon': 0.41240606050888357, 'LogisticRegression': 0.8225075140149561}. Best is trial 200 with value: 0.3769004444444446.\n",
      "[I 2025-06-25 15:45:28,490] Trial 211 finished with value: 0.376836 and parameters: {'LightGBM (gbdt)': 0.2355946851923102, 'LightGBM (goss)': 0.007436380548490445, 'XGBoost': 0.01681155211689333, 'AutoGluon': 0.413095389112603, 'LogisticRegression': 0.8229112328028071}. Best is trial 200 with value: 0.3769004444444446.\n",
      "[I 2025-06-25 15:45:28,843] Trial 212 finished with value: 0.3768542222222223 and parameters: {'LightGBM (gbdt)': 0.22431392429888836, 'LightGBM (goss)': 0.003876612105829822, 'XGBoost': 0.014909114480061523, 'AutoGluon': 0.41319004808483906, 'LogisticRegression': 0.8228307475002916}. Best is trial 200 with value: 0.3769004444444446.\n",
      "[I 2025-06-25 15:45:34,495] Trial 214 finished with value: 0.37687399999999993 and parameters: {'LightGBM (gbdt)': 0.21535286427354222, 'LightGBM (goss)': 0.0035676439269349165, 'XGBoost': 0.01372249399127247, 'AutoGluon': 0.4142561588780465, 'LogisticRegression': 0.8299092363508058}. Best is trial 200 with value: 0.3769004444444446.\n",
      "[I 2025-06-25 15:45:34,647] Trial 216 finished with value: 0.3767460000000001 and parameters: {'LightGBM (gbdt)': 0.21621719306542692, 'LightGBM (goss)': 0.01011103727898738, 'XGBoost': 0.018493355548081986, 'AutoGluon': 0.4577829923048842, 'LogisticRegression': 0.8329262670336847}. Best is trial 200 with value: 0.3769004444444446.\n",
      "[I 2025-06-25 15:45:34,811] Trial 215 finished with value: 0.3768295555555556 and parameters: {'LightGBM (gbdt)': 0.23284117374838478, 'LightGBM (goss)': 0.005886326899543336, 'XGBoost': 0.013725898673385884, 'AutoGluon': 0.41381072357851256, 'LogisticRegression': 0.8272911640885388}. Best is trial 200 with value: 0.3769004444444446.\n",
      "[I 2025-06-25 15:45:34,990] Trial 213 finished with value: 0.3768617777777779 and parameters: {'LightGBM (gbdt)': 0.20975248238590372, 'LightGBM (goss)': 0.00038520887431244856, 'XGBoost': 0.013497833379932449, 'AutoGluon': 0.41487262138534414, 'LogisticRegression': 0.8166347244757598}. Best is trial 200 with value: 0.3769004444444446.\n",
      "[I 2025-06-25 15:45:40,145] Trial 219 finished with value: 0.3768428888888888 and parameters: {'LightGBM (gbdt)': 0.2084933708922317, 'LightGBM (goss)': 0.006282606805479988, 'XGBoost': 0.0026106471823512806, 'AutoGluon': 0.44374665774437827, 'LogisticRegression': 0.8727927496190234}. Best is trial 200 with value: 0.3769004444444446.\n",
      "[I 2025-06-25 15:45:40,315] Trial 218 finished with value: 0.3768728888888889 and parameters: {'LightGBM (gbdt)': 0.24862629194120336, 'LightGBM (goss)': 0.0033661830705451826, 'XGBoost': 0.013679430889401722, 'AutoGluon': 0.41476424690542607, 'LogisticRegression': 0.8690559324012102}. Best is trial 200 with value: 0.3769004444444446.\n",
      "[I 2025-06-25 15:45:40,647] Trial 217 finished with value: 0.37690399999999985 and parameters: {'LightGBM (gbdt)': 0.2533410943177691, 'LightGBM (goss)': 0.0018358097122896568, 'XGBoost': 0.012469030765395957, 'AutoGluon': 0.4153803356794832, 'LogisticRegression': 0.8855289749040529}. Best is trial 217 with value: 0.37690399999999985.\n",
      "[I 2025-06-25 15:45:40,989] Trial 220 finished with value: 0.3768504444444445 and parameters: {'LightGBM (gbdt)': 0.2633093997509406, 'LightGBM (goss)': 0.001389965618256086, 'XGBoost': 0.0009577269917958285, 'AutoGluon': 0.43668687437091924, 'LogisticRegression': 0.8728202731680818}. Best is trial 217 with value: 0.37690399999999985.\n",
      "[I 2025-06-25 15:45:47,216] Trial 222 finished with value: 0.37685422222222226 and parameters: {'LightGBM (gbdt)': 0.25775670346150437, 'LightGBM (goss)': 0.0007638601320336669, 'XGBoost': 0.00012541523064567295, 'AutoGluon': 0.4443796855252146, 'LogisticRegression': 0.8755172945754605}. Best is trial 217 with value: 0.37690399999999985.\n",
      "[I 2025-06-25 15:45:47,516] Trial 221 finished with value: 0.3768422222222224 and parameters: {'LightGBM (gbdt)': 0.26295258706945074, 'LightGBM (goss)': 0.0009003319932270168, 'XGBoost': 0.00952957274910105, 'AutoGluon': 0.43693976599109097, 'LogisticRegression': 0.8782284670785834}. Best is trial 217 with value: 0.37690399999999985.\n",
      "[I 2025-06-25 15:45:47,742] Trial 224 finished with value: 0.3768182222222222 and parameters: {'LightGBM (gbdt)': 0.2605596615087681, 'LightGBM (goss)': 0.030714012192254926, 'XGBoost': 0.0010751057732516882, 'AutoGluon': 0.4285566871746963, 'LogisticRegression': 0.8973175589528182}. Best is trial 217 with value: 0.37690399999999985.\n",
      "[I 2025-06-25 15:45:47,802] Trial 223 finished with value: 0.37683333333333335 and parameters: {'LightGBM (gbdt)': 0.24748146362945667, 'LightGBM (goss)': 0.0323850319301542, 'XGBoost': 0.000770253944224801, 'AutoGluon': 0.43015282572953434, 'LogisticRegression': 0.8877753412080289}. Best is trial 217 with value: 0.37690399999999985.\n",
      "[I 2025-06-25 15:45:52,587] Trial 225 finished with value: 0.37686022222222226 and parameters: {'LightGBM (gbdt)': 0.1761966071886909, 'LightGBM (goss)': 0.03270906703600205, 'XGBoost': 0.006761924050318849, 'AutoGluon': 0.4290398567378471, 'LogisticRegression': 0.8996639025914778}. Best is trial 217 with value: 0.37690399999999985.\n",
      "[I 2025-06-25 15:45:53,252] Trial 226 finished with value: 0.37677222222222223 and parameters: {'LightGBM (gbdt)': 0.24957442200284732, 'LightGBM (goss)': 0.031592872465070906, 'XGBoost': 0.005765397095557949, 'AutoGluon': 0.47910463461129815, 'LogisticRegression': 0.8961097998828412}. Best is trial 217 with value: 0.37690399999999985.\n",
      "[I 2025-06-25 15:45:53,560] Trial 227 finished with value: 0.37662466666666666 and parameters: {'LightGBM (gbdt)': 0.3159270126154684, 'LightGBM (goss)': 0.0332215138321948, 'XGBoost': 0.005718509188379543, 'AutoGluon': 0.4793537537016823, 'LogisticRegression': 0.8513431022870291}. Best is trial 217 with value: 0.37690399999999985.\n",
      "[I 2025-06-25 15:45:53,743] Trial 228 finished with value: 0.3767368888888889 and parameters: {'LightGBM (gbdt)': 0.28987059291745765, 'LightGBM (goss)': 0.030596719230718897, 'XGBoost': 0.0013243295541196763, 'AutoGluon': 0.46602786676825575, 'LogisticRegression': 0.8553538479328068}. Best is trial 217 with value: 0.37690399999999985.\n",
      "[I 2025-06-25 15:45:59,427] Trial 232 finished with value: 0.3768506666666665 and parameters: {'LightGBM (gbdt)': 0.16207373698626318, 'LightGBM (goss)': 0.0011585240516314797, 'XGBoost': 0.021289475292529326, 'AutoGluon': 0.4179263465863478, 'LogisticRegression': 0.9458526480064103}. Best is trial 217 with value: 0.37690399999999985.\n",
      "[I 2025-06-25 15:45:59,687] Trial 230 finished with value: 0.3767288888888888 and parameters: {'LightGBM (gbdt)': 0.31055279803070446, 'LightGBM (goss)': 0.0009356196905950619, 'XGBoost': 0.018053252304694224, 'AutoGluon': 0.45888536640923283, 'LogisticRegression': 0.8554013127987271}. Best is trial 217 with value: 0.37690399999999985.\n",
      "[I 2025-06-25 15:45:59,978] Trial 229 finished with value: 0.37666622222222235 and parameters: {'LightGBM (gbdt)': 0.30164812803628505, 'LightGBM (goss)': 0.03550252733528507, 'XGBoost': 0.0010743999494830306, 'AutoGluon': 0.4732564717428968, 'LogisticRegression': 0.853087766253704}. Best is trial 217 with value: 0.37690399999999985.\n",
      "[I 2025-06-25 15:46:00,198] Trial 231 finished with value: 0.37687022222222233 and parameters: {'LightGBM (gbdt)': 0.1684253425132933, 'LightGBM (goss)': 0.0025295389091262305, 'XGBoost': 0.00011549609697904598, 'AutoGluon': 0.4565674092984796, 'LogisticRegression': 0.9385174211378303}. Best is trial 217 with value: 0.37690399999999985.\n",
      "[I 2025-06-25 15:46:05,132] Trial 233 finished with value: 0.3768415555555554 and parameters: {'LightGBM (gbdt)': 0.17500660036135685, 'LightGBM (goss)': 0.00024905633287726123, 'XGBoost': 0.019819246887045363, 'AutoGluon': 0.4163879014948894, 'LogisticRegression': 0.9384377450635653}. Best is trial 217 with value: 0.37690399999999985.\n",
      "[I 2025-06-25 15:46:05,609] Trial 235 finished with value: 0.376816 and parameters: {'LightGBM (gbdt)': 0.1696928697767985, 'LightGBM (goss)': 0.0009463222329254817, 'XGBoost': 0.022008241282138675, 'AutoGluon': 0.42148447085342744, 'LogisticRegression': 0.9326547666934684}. Best is trial 217 with value: 0.37690399999999985.\n",
      "[I 2025-06-25 15:46:06,158] Trial 234 finished with value: 0.3764386666666668 and parameters: {'LightGBM (gbdt)': 0.16559232422299275, 'LightGBM (goss)': 0.0004634887074772536, 'XGBoost': 0.5158820069263962, 'AutoGluon': 0.42022230137959654, 'LogisticRegression': 0.95727428622077}. Best is trial 217 with value: 0.37690399999999985.\n",
      "[I 2025-06-25 15:46:06,461] Trial 236 finished with value: 0.3768162222222221 and parameters: {'LightGBM (gbdt)': 0.17563934753316238, 'LightGBM (goss)': 0.02646778284081005, 'XGBoost': 0.023194556581883543, 'AutoGluon': 0.42181583124914485, 'LogisticRegression': 0.9479470030553423}. Best is trial 217 with value: 0.37690399999999985.\n",
      "[I 2025-06-25 15:46:11,531] Trial 237 finished with value: 0.3768473333333333 and parameters: {'LightGBM (gbdt)': 0.15879028711036608, 'LightGBM (goss)': 0.02902646174120893, 'XGBoost': 0.028476676514771645, 'AutoGluon': 0.41880308938401567, 'LogisticRegression': 0.8397491657819077}. Best is trial 217 with value: 0.37690399999999985.\n",
      "[I 2025-06-25 15:46:11,724] Trial 239 finished with value: 0.3767002222222223 and parameters: {'LightGBM (gbdt)': 0.1894059834810797, 'LightGBM (goss)': 0.027537552749014586, 'XGBoost': 0.026272163902273122, 'AutoGluon': 0.44881107719269003, 'LogisticRegression': 0.8047859817664649}. Best is trial 217 with value: 0.37690399999999985.\n",
      "[I 2025-06-25 15:46:12,159] Trial 240 finished with value: 0.37588822222222207 and parameters: {'LightGBM (gbdt)': 0.14936168176454326, 'LightGBM (goss)': 0.035180590812369475, 'XGBoost': 0.6058508407988851, 'AutoGluon': 0.4490414608994483, 'LogisticRegression': 0.8036793667138381}. Best is trial 217 with value: 0.37690399999999985.\n",
      "[I 2025-06-25 15:46:12,341] Trial 238 finished with value: 0.3768206666666667 and parameters: {'LightGBM (gbdt)': 0.1561985438305311, 'LightGBM (goss)': 0.02671713456432926, 'XGBoost': 0.03172752257785753, 'AutoGluon': 0.44484351501112457, 'LogisticRegression': 0.8348536836782798}. Best is trial 217 with value: 0.37690399999999985.\n",
      "[I 2025-06-25 15:46:17,730] Trial 243 finished with value: 0.3768431111111111 and parameters: {'LightGBM (gbdt)': 0.19257100927144313, 'LightGBM (goss)': 0.02159332517362664, 'XGBoost': 0.024078318313624513, 'AutoGluon': 0.3974880910515645, 'LogisticRegression': 0.8378514005405888}. Best is trial 217 with value: 0.37690399999999985.\n",
      "[I 2025-06-25 15:46:17,736] Trial 242 finished with value: 0.37681311111111127 and parameters: {'LightGBM (gbdt)': 0.1425410473862666, 'LightGBM (goss)': 0.03946066925055948, 'XGBoost': 0.029960737413625173, 'AutoGluon': 0.3963107267120577, 'LogisticRegression': 0.802132600570568}. Best is trial 217 with value: 0.37690399999999985.\n",
      "[I 2025-06-25 15:46:18,045] Trial 241 finished with value: 0.3767053333333334 and parameters: {'LightGBM (gbdt)': 0.140425039166171, 'LightGBM (goss)': 0.03574026797672559, 'XGBoost': 0.02752834679653687, 'AutoGluon': 0.518381866534488, 'LogisticRegression': 0.8030328621619117}. Best is trial 217 with value: 0.37690399999999985.\n",
      "[I 2025-06-25 15:46:18,313] Trial 244 finished with value: 0.37683377777777766 and parameters: {'LightGBM (gbdt)': 0.22944732988330685, 'LightGBM (goss)': 0.0002336868865562662, 'XGBoost': 0.016930546224474298, 'AutoGluon': 0.39949686704080634, 'LogisticRegression': 0.911124836992368}. Best is trial 217 with value: 0.37690399999999985.\n",
      "[I 2025-06-25 15:46:23,180] Trial 245 finished with value: 0.37682177777777776 and parameters: {'LightGBM (gbdt)': 0.21624077523500504, 'LightGBM (goss)': 0.0004558464891874954, 'XGBoost': 0.003054500496868496, 'AutoGluon': 0.521171469234041, 'LogisticRegression': 0.9060891790478274}. Best is trial 217 with value: 0.37690399999999985.\n",
      "[I 2025-06-25 15:46:23,512] Trial 247 finished with value: 0.376852 and parameters: {'LightGBM (gbdt)': 0.22785862781834207, 'LightGBM (goss)': 0.0002920814617296775, 'XGBoost': 0.004526944036695204, 'AutoGluon': 0.4372890209495877, 'LogisticRegression': 0.904006282027309}. Best is trial 217 with value: 0.37690399999999985.\n",
      "[I 2025-06-25 15:46:23,771] Trial 246 finished with value: 0.3767657777777779 and parameters: {'LightGBM (gbdt)': 0.2236292832235981, 'LightGBM (goss)': 0.01870211434342575, 'XGBoost': 0.0014911938086692895, 'AutoGluon': 0.5013618725801026, 'LogisticRegression': 0.910449958679099}. Best is trial 217 with value: 0.37690399999999985.\n",
      "[I 2025-06-25 15:46:23,965] Trial 248 finished with value: 0.3768035555555555 and parameters: {'LightGBM (gbdt)': 0.2751969113422705, 'LightGBM (goss)': 0.019253507838960394, 'XGBoost': 0.003553935404471036, 'AutoGluon': 0.43436412634611404, 'LogisticRegression': 0.8682161068929332}. Best is trial 217 with value: 0.37690399999999985.\n",
      "[I 2025-06-25 15:46:26,211] Trial 249 finished with value: 0.37684533333333325 and parameters: {'LightGBM (gbdt)': 0.18945502788371632, 'LightGBM (goss)': 0.0002620031441871312, 'XGBoost': 8.384579422837657e-05, 'AutoGluon': 0.43621532296601556, 'LogisticRegression': 0.9690833449778266}. Best is trial 217 with value: 0.37690399999999985.\n"
     ]
    }
   ],
   "source": [
    "def objective(trial):\n",
    "    weights = [trial.suggest_float(model, 0, 1) for model in models]\n",
    "    weights /= np.sum(weights)\n",
    "\n",
    "    idxs = [0, 7, 14, 21, 28]\n",
    "    pred_probs = np.zeros((X.shape[0], 7))\n",
    "    for idx, weight in zip(idxs, weights):\n",
    "        pred_probs += X.iloc[:, idx:idx+7].values * weight\n",
    "        \n",
    "    return map3(y, pred_probs)\n",
    "\n",
    "sampler = optuna.samplers.TPESampler(seed=CFG.seed)\n",
    "study = optuna.create_study(direction='maximize', sampler=sampler)\n",
    "study.optimize(objective, n_trials=250, n_jobs=-1)"
   ]
  },
  {
   "cell_type": "code",
   "execution_count": 18,
   "id": "33abe47d",
   "metadata": {
    "execution": {
     "iopub.execute_input": "2025-06-25T15:46:26.254504Z",
     "iopub.status.busy": "2025-06-25T15:46:26.253837Z",
     "iopub.status.idle": "2025-06-25T15:46:26.353176Z",
     "shell.execute_reply": "2025-06-25T15:46:26.352457Z"
    },
    "papermill": {
     "duration": 0.119492,
     "end_time": "2025-06-25T15:46:26.354708",
     "exception": false,
     "start_time": "2025-06-25T15:46:26.235216",
     "status": "completed"
    },
    "tags": []
   },
   "outputs": [],
   "source": [
    "scores['WeightedEnsemble'] = [study.best_value] * CFG.n_folds\n",
    "\n",
    "best_weights = [study.best_params[model] for model in models]\n",
    "best_weights /= np.sum(best_weights)\n",
    "\n",
    "idxs = [0, 7, 14, 21, 28]\n",
    "weighted_test_preds = np.zeros((X_test.shape[0], 7))\n",
    "for idx, weight in zip(idxs, best_weights):\n",
    "    weighted_test_preds += X_test.iloc[:, idx:idx+7].values * weight"
   ]
  },
  {
   "cell_type": "code",
   "execution_count": 19,
   "id": "ef5678af",
   "metadata": {
    "execution": {
     "iopub.execute_input": "2025-06-25T15:46:26.392914Z",
     "iopub.status.busy": "2025-06-25T15:46:26.392273Z",
     "iopub.status.idle": "2025-06-25T15:46:51.682562Z",
     "shell.execute_reply": "2025-06-25T15:46:51.681712Z"
    },
    "papermill": {
     "duration": 25.310735,
     "end_time": "2025-06-25T15:46:51.683934",
     "exception": false,
     "start_time": "2025-06-25T15:46:26.373199",
     "status": "completed"
    },
    "tags": []
   },
   "outputs": [
    {
     "data": {
      "text/html": [
       "<div>\n",
       "<style scoped>\n",
       "    .dataframe tbody tr th:only-of-type {\n",
       "        vertical-align: middle;\n",
       "    }\n",
       "\n",
       "    .dataframe tbody tr th {\n",
       "        vertical-align: top;\n",
       "    }\n",
       "\n",
       "    .dataframe thead th {\n",
       "        text-align: right;\n",
       "    }\n",
       "</style>\n",
       "<table border=\"1\" class=\"dataframe\">\n",
       "  <thead>\n",
       "    <tr style=\"text-align: right;\">\n",
       "      <th></th>\n",
       "      <th>id</th>\n",
       "      <th>Fertilizer Name</th>\n",
       "    </tr>\n",
       "  </thead>\n",
       "  <tbody>\n",
       "    <tr>\n",
       "      <th>0</th>\n",
       "      <td>750000</td>\n",
       "      <td>10-26-26 20-20 DAP</td>\n",
       "    </tr>\n",
       "    <tr>\n",
       "      <th>1</th>\n",
       "      <td>750001</td>\n",
       "      <td>17-17-17 28-28 10-26-26</td>\n",
       "    </tr>\n",
       "    <tr>\n",
       "      <th>2</th>\n",
       "      <td>750002</td>\n",
       "      <td>20-20 Urea DAP</td>\n",
       "    </tr>\n",
       "    <tr>\n",
       "      <th>3</th>\n",
       "      <td>750003</td>\n",
       "      <td>14-35-14 17-17-17 Urea</td>\n",
       "    </tr>\n",
       "    <tr>\n",
       "      <th>4</th>\n",
       "      <td>750004</td>\n",
       "      <td>Urea 20-20 28-28</td>\n",
       "    </tr>\n",
       "  </tbody>\n",
       "</table>\n",
       "</div>"
      ],
      "text/plain": [
       "       id          Fertilizer Name\n",
       "0  750000       10-26-26 20-20 DAP\n",
       "1  750001  17-17-17 28-28 10-26-26\n",
       "2  750002           20-20 Urea DAP\n",
       "3  750003   14-35-14 17-17-17 Urea\n",
       "4  750004         Urea 20-20 28-28"
      ]
     },
     "execution_count": 19,
     "metadata": {},
     "output_type": "execute_result"
    }
   ],
   "source": [
    "create_submission(\"weighted-ensemble\", weighted_test_preds, np.mean(scores[\"WeightedEnsemble\"])).head()"
   ]
  },
  {
   "cell_type": "markdown",
   "id": "09812db1",
   "metadata": {
    "papermill": {
     "duration": 0.017817,
     "end_time": "2025-06-25T15:46:51.719996",
     "exception": false,
     "start_time": "2025-06-25T15:46:51.702179",
     "status": "completed"
    },
    "tags": []
   },
   "source": [
    "## Weighted VotingClassifier"
   ]
  },
  {
   "cell_type": "code",
   "execution_count": 20,
   "id": "b5e10f3c",
   "metadata": {
    "execution": {
     "iopub.execute_input": "2025-06-25T15:46:51.758261Z",
     "iopub.status.busy": "2025-06-25T15:46:51.757245Z",
     "iopub.status.idle": "2025-06-25T15:47:02.296809Z",
     "shell.execute_reply": "2025-06-25T15:47:02.295744Z"
    },
    "papermill": {
     "duration": 10.560327,
     "end_time": "2025-06-25T15:47:02.298586",
     "exception": false,
     "start_time": "2025-06-25T15:46:51.738259",
     "status": "completed"
    },
    "tags": []
   },
   "outputs": [
    {
     "name": "stdout",
     "output_type": "stream",
     "text": [
      "Training VotingClassifier\n",
      "\n",
      "--- Fold 1 - MAP@3: 0.376527\n",
      "--- Fold 2 - MAP@3: 0.376570\n",
      "--- Fold 3 - MAP@3: 0.378557\n",
      "--- Fold 4 - MAP@3: 0.375628\n",
      "--- Fold 5 - MAP@3: 0.377239\n",
      "\n",
      "------ Overall MAP@3: 0.376904 | Average MAP@3: 0.376904 ± 0.000972\n"
     ]
    }
   ],
   "source": [
    "weighted_voting_model = VotingClassifier(estimators, n_jobs=-1, voting='soft', weights=best_weights)\n",
    "weighted_voting_trainer = Trainer(weighted_voting_model)\n",
    "_, weighted_voting_test_pred_probs, scores[\"VotingClassifier (weighted)\"] = weighted_voting_trainer.fit_predict(X, y, X_test)"
   ]
  },
  {
   "cell_type": "code",
   "execution_count": 21,
   "id": "fc466846",
   "metadata": {
    "execution": {
     "iopub.execute_input": "2025-06-25T15:47:02.337359Z",
     "iopub.status.busy": "2025-06-25T15:47:02.337037Z",
     "iopub.status.idle": "2025-06-25T15:47:27.511873Z",
     "shell.execute_reply": "2025-06-25T15:47:27.510711Z"
    },
    "papermill": {
     "duration": 25.195972,
     "end_time": "2025-06-25T15:47:27.513557",
     "exception": false,
     "start_time": "2025-06-25T15:47:02.317585",
     "status": "completed"
    },
    "tags": []
   },
   "outputs": [
    {
     "data": {
      "text/html": [
       "<div>\n",
       "<style scoped>\n",
       "    .dataframe tbody tr th:only-of-type {\n",
       "        vertical-align: middle;\n",
       "    }\n",
       "\n",
       "    .dataframe tbody tr th {\n",
       "        vertical-align: top;\n",
       "    }\n",
       "\n",
       "    .dataframe thead th {\n",
       "        text-align: right;\n",
       "    }\n",
       "</style>\n",
       "<table border=\"1\" class=\"dataframe\">\n",
       "  <thead>\n",
       "    <tr style=\"text-align: right;\">\n",
       "      <th></th>\n",
       "      <th>id</th>\n",
       "      <th>Fertilizer Name</th>\n",
       "    </tr>\n",
       "  </thead>\n",
       "  <tbody>\n",
       "    <tr>\n",
       "      <th>0</th>\n",
       "      <td>750000</td>\n",
       "      <td>10-26-26 20-20 DAP</td>\n",
       "    </tr>\n",
       "    <tr>\n",
       "      <th>1</th>\n",
       "      <td>750001</td>\n",
       "      <td>17-17-17 28-28 10-26-26</td>\n",
       "    </tr>\n",
       "    <tr>\n",
       "      <th>2</th>\n",
       "      <td>750002</td>\n",
       "      <td>20-20 Urea DAP</td>\n",
       "    </tr>\n",
       "    <tr>\n",
       "      <th>3</th>\n",
       "      <td>750003</td>\n",
       "      <td>14-35-14 17-17-17 Urea</td>\n",
       "    </tr>\n",
       "    <tr>\n",
       "      <th>4</th>\n",
       "      <td>750004</td>\n",
       "      <td>Urea 20-20 28-28</td>\n",
       "    </tr>\n",
       "  </tbody>\n",
       "</table>\n",
       "</div>"
      ],
      "text/plain": [
       "       id          Fertilizer Name\n",
       "0  750000       10-26-26 20-20 DAP\n",
       "1  750001  17-17-17 28-28 10-26-26\n",
       "2  750002           20-20 Urea DAP\n",
       "3  750003   14-35-14 17-17-17 Urea\n",
       "4  750004         Urea 20-20 28-28"
      ]
     },
     "execution_count": 21,
     "metadata": {},
     "output_type": "execute_result"
    }
   ],
   "source": [
    "create_submission(\"weighted-voting-classifier\", weighted_voting_test_pred_probs, np.mean(scores[\"VotingClassifier (weighted)\"])).head()"
   ]
  },
  {
   "cell_type": "markdown",
   "id": "677b1d23",
   "metadata": {
    "papermill": {
     "duration": 0.018304,
     "end_time": "2025-06-25T15:47:27.551728",
     "exception": false,
     "start_time": "2025-06-25T15:47:27.533424",
     "status": "completed"
    },
    "tags": []
   },
   "source": [
    "# Results"
   ]
  },
  {
   "cell_type": "code",
   "execution_count": 22,
   "id": "76f9465f",
   "metadata": {
    "execution": {
     "iopub.execute_input": "2025-06-25T15:47:27.590216Z",
     "iopub.status.busy": "2025-06-25T15:47:27.589550Z",
     "iopub.status.idle": "2025-06-25T15:47:28.205646Z",
     "shell.execute_reply": "2025-06-25T15:47:28.204648Z"
    },
    "papermill": {
     "duration": 0.637017,
     "end_time": "2025-06-25T15:47:28.207226",
     "exception": false,
     "start_time": "2025-06-25T15:47:27.570209",
     "status": "completed"
    },
    "tags": []
   },
   "outputs": [
    {
     "data": {
      "image/png": "[encoded data removed]",
      "text/plain": [
       "<Figure size 1500x400 with 2 Axes>"
      ]
     },
     "metadata": {},
     "output_type": "display_data"
    }
   ],
   "source": [
    "scores = pd.DataFrame(scores)\n",
    "mean_scores = scores.mean().sort_values(ascending=False)\n",
    "order = scores.mean().sort_values(ascending=False).index.tolist()\n",
    "\n",
    "min_score = mean_scores.min()\n",
    "max_score = mean_scores.max()\n",
    "padding = (max_score - min_score) * 0.5\n",
    "lower_limit = min_score - padding\n",
    "upper_limit = max_score + padding\n",
    "\n",
    "fig, axs = plt.subplots(1, 2, figsize=(15, scores.shape[1] * 0.4))\n",
    "\n",
    "boxplot = sns.boxplot(data=scores, order=order, ax=axs[0], orient=\"h\", palette=\"RdYlGn_r\")\n",
    "axs[0].set_title(f\"Fold MAP@3\")\n",
    "axs[0].set_xlabel(\"\")\n",
    "axs[0].set_ylabel(\"\")\n",
    "\n",
    "barplot = sns.barplot(x=mean_scores.values, y=mean_scores.index, ax=axs[1], palette=\"RdYlGn_r\")\n",
    "axs[1].set_title(f\"Mean MAP@3\")\n",
    "axs[1].set_xlabel(\"\")\n",
    "axs[1].set_xlim(left=lower_limit, right=upper_limit)\n",
    "axs[1].set_ylabel(\"\")\n",
    "\n",
    "for i, score in enumerate(mean_scores.values):\n",
    "    barplot.text(score, i, round(score, 6), va=\"center\")\n",
    "\n",
    "plt.tight_layout()\n",
    "plt.show()"
   ]
  }
 ],
 "metadata": {
  "kaggle": {
   "accelerator": "none",
   "dataSources": [
    {
     "databundleVersionId": 12184666,
     "isSourceIdPinned": false,
     "sourceId": 91717,
     "sourceType": "competition"
    },
    {
     "sourceId": 246349609,
     "sourceType": "kernelVersion"
    }
   ],
   "dockerImageVersionId": 31040,
   "isGpuEnabled": false,
   "isInternetEnabled": true,
   "language": "python",
   "sourceType": "notebook"
  },
  "kernelspec": {
   "display_name": "Python 3",
   "language": "python",
   "name": "python3"
  },
  "language_info": {
   "codemirror_mode": {
    "name": "ipython",
    "version": 3
   },
   "file_extension": ".py",
   "mimetype": "text/x-python",
   "name": "python",
   "nbconvert_exporter": "python",
   "pygments_lexer": "ipython3",
   "version": "3.11.11"
  },
  "papermill": {
   "default_parameters": {},
   "duration": 971.748891,
   "end_time": "2025-06-25T15:47:30.949643",
   "environment_variables": {},
   "exception": null,
   "input_path": "__notebook__.ipynb",
   "output_path": "__notebook__.ipynb",
   "parameters": {},
   "start_time": "2025-06-25T15:31:19.200752",
   "version": "2.6.0"
  }
 },
 "nbformat": 4,
 "nbformat_minor": 5
}
