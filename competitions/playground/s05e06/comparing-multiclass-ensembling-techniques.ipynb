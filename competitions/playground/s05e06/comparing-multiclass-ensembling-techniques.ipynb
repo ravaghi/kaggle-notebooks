{
 "cells": [
  {
   "cell_type": "markdown",
   "id": "2e7edf69",
   "metadata": {
    "papermill": {
     "duration": 0.005185,
     "end_time": "2025-06-10T07:27:41.834093",
     "exception": false,
     "start_time": "2025-06-10T07:27:41.828908",
     "status": "completed"
    },
    "tags": []
   },
   "source": [
    "# Imports and configs"
   ]
  },
  {
   "cell_type": "code",
   "execution_count": 1,
   "id": "3cee9d5d",
   "metadata": {
    "_kg_hide-output": true,
    "execution": {
     "iopub.execute_input": "2025-06-10T07:27:41.844598Z",
     "iopub.status.busy": "2025-06-10T07:27:41.844285Z",
     "iopub.status.idle": "2025-06-10T07:27:51.315901Z",
     "shell.execute_reply": "2025-06-10T07:27:51.314653Z"
    },
    "papermill": {
     "duration": 9.478865,
     "end_time": "2025-06-10T07:27:51.317743",
     "exception": false,
     "start_time": "2025-06-10T07:27:41.838878",
     "status": "completed"
    },
    "tags": []
   },
   "outputs": [
    {
     "name": "stdout",
     "output_type": "stream",
     "text": [
      "\u001b[2K   \u001b[90m━━━━━━━━━━━━━━━━━━━━━━━━━━━━━━━━━━━━━━━━\u001b[0m \u001b[32m13.3/13.3 MB\u001b[0m \u001b[31m76.0 MB/s\u001b[0m eta \u001b[36m0:00:00\u001b[0m\r\n",
      "\u001b[?25h\u001b[31mERROR: pip's dependency resolver does not currently take into account all the packages that are installed. This behaviour is the source of the following dependency conflicts.\r\n",
      "cesium 0.12.4 requires numpy<3.0,>=2.0, but you have numpy 1.26.4 which is incompatible.\u001b[0m\u001b[31m\r\n",
      "\u001b[0m"
     ]
    }
   ],
   "source": [
    "!pip install -q scikit-learn==1.5.2"
   ]
  },
  {
   "cell_type": "code",
   "execution_count": 2,
   "id": "f6e25523",
   "metadata": {
    "execution": {
     "iopub.execute_input": "2025-06-10T07:27:51.328836Z",
     "iopub.status.busy": "2025-06-10T07:27:51.328546Z",
     "iopub.status.idle": "2025-06-10T07:27:55.877152Z",
     "shell.execute_reply": "2025-06-10T07:27:55.876231Z"
    },
    "papermill": {
     "duration": 4.556211,
     "end_time": "2025-06-10T07:27:55.878922",
     "exception": false,
     "start_time": "2025-06-10T07:27:51.322711",
     "status": "completed"
    },
    "tags": []
   },
   "outputs": [],
   "source": [
    "from sklearn.ensemble import StackingClassifier, VotingClassifier\n",
    "from sklearn.base import BaseEstimator, ClassifierMixin, clone\n",
    "from sklearn.model_selection import StratifiedKFold\n",
    "from sklearn.linear_model import LogisticRegression\n",
    "from sklearn.preprocessing import LabelEncoder\n",
    "from sklearn.utils import check_array\n",
    "import matplotlib.pyplot as plt\n",
    "import seaborn as sns\n",
    "import pandas as pd\n",
    "import numpy as np\n",
    "import warnings\n",
    "import joblib\n",
    "import optuna\n",
    "import shutil\n",
    "import gc\n",
    "\n",
    "warnings.filterwarnings(\"ignore\")"
   ]
  },
  {
   "cell_type": "code",
   "execution_count": 3,
   "id": "71067d75",
   "metadata": {
    "execution": {
     "iopub.execute_input": "2025-06-10T07:27:55.890437Z",
     "iopub.status.busy": "2025-06-10T07:27:55.889938Z",
     "iopub.status.idle": "2025-06-10T07:27:55.895140Z",
     "shell.execute_reply": "2025-06-10T07:27:55.894234Z"
    },
    "papermill": {
     "duration": 0.012618,
     "end_time": "2025-06-10T07:27:55.896704",
     "exception": false,
     "start_time": "2025-06-10T07:27:55.884086",
     "status": "completed"
    },
    "tags": []
   },
   "outputs": [],
   "source": [
    "class CFG:\n",
    "    train_path = \"/kaggle/input/playground-series-s5e6/train.csv\"\n",
    "    test_path = \"/kaggle/input/playground-series-s5e6/test.csv\"\n",
    "    sample_sub_path = \"/kaggle/input/playground-series-s5e6/sample_submission.csv\"\n",
    "    \n",
    "    target = \"Fertilizer Name\"\n",
    "    n_folds = 5\n",
    "    seed = 42"
   ]
  },
  {
   "cell_type": "markdown",
   "id": "a2d9f324",
   "metadata": {
    "papermill": {
     "duration": 0.004436,
     "end_time": "2025-06-10T07:27:55.905920",
     "exception": false,
     "start_time": "2025-06-10T07:27:55.901484",
     "status": "completed"
    },
    "tags": []
   },
   "source": [
    "# Data loading"
   ]
  },
  {
   "cell_type": "code",
   "execution_count": 4,
   "id": "e327ab5a",
   "metadata": {
    "execution": {
     "iopub.execute_input": "2025-06-10T07:27:55.916302Z",
     "iopub.status.busy": "2025-06-10T07:27:55.915959Z",
     "iopub.status.idle": "2025-06-10T07:27:57.620978Z",
     "shell.execute_reply": "2025-06-10T07:27:57.619972Z"
    },
    "papermill": {
     "duration": 1.712331,
     "end_time": "2025-06-10T07:27:57.622835",
     "exception": false,
     "start_time": "2025-06-10T07:27:55.910504",
     "status": "completed"
    },
    "tags": []
   },
   "outputs": [],
   "source": [
    "train = pd.read_csv(CFG.train_path, index_col=\"id\")\n",
    "test = pd.read_csv(CFG.test_path, index_col=\"id\")\n",
    "\n",
    "label_encoder = LabelEncoder()\n",
    "train[CFG.target] = label_encoder.fit_transform(train[CFG.target])\n",
    "\n",
    "X = train.drop(CFG.target, axis=1)\n",
    "y = train[CFG.target]\n",
    "X_test = test"
   ]
  },
  {
   "cell_type": "code",
   "execution_count": 5,
   "id": "c30831e9",
   "metadata": {
    "_kg_hide-input": true,
    "execution": {
     "iopub.execute_input": "2025-06-10T07:27:57.634475Z",
     "iopub.status.busy": "2025-06-10T07:27:57.634148Z",
     "iopub.status.idle": "2025-06-10T07:27:57.641441Z",
     "shell.execute_reply": "2025-06-10T07:27:57.640520Z"
    },
    "papermill": {
     "duration": 0.01528,
     "end_time": "2025-06-10T07:27:57.643065",
     "exception": false,
     "start_time": "2025-06-10T07:27:57.627785",
     "status": "completed"
    },
    "tags": []
   },
   "outputs": [],
   "source": [
    "def map3(y_true, y_pred_probs):\n",
    "    y_true = [[x] for x in y_true]\n",
    "    y_pred_probs = np.argsort(y_pred_probs, axis=1)[:, -3:][:, ::-1].tolist()\n",
    "    \n",
    "    def ap3(y_true, y_pred_probs):\n",
    "        y_pred_probs = y_pred_probs[:3]\n",
    "\n",
    "        score = 0.0\n",
    "        num_hits = 0.0\n",
    "\n",
    "        for i,p in enumerate(y_pred_probs):\n",
    "            if p in y_true and p not in y_pred_probs[:i]:\n",
    "                num_hits += 1.0\n",
    "                score += num_hits / (i+1.0)\n",
    "\n",
    "        if not y_true:\n",
    "            return 0.0\n",
    "\n",
    "        return score\n",
    "    \n",
    "    return np.mean([ap3(a,p) for a,p in zip(y_true, y_pred_probs)])"
   ]
  },
  {
   "cell_type": "code",
   "execution_count": 6,
   "id": "5bf8699f",
   "metadata": {
    "execution": {
     "iopub.execute_input": "2025-06-10T07:27:57.655235Z",
     "iopub.status.busy": "2025-06-10T07:27:57.654829Z",
     "iopub.status.idle": "2025-06-10T07:28:10.465408Z",
     "shell.execute_reply": "2025-06-10T07:28:10.464507Z"
    },
    "papermill": {
     "duration": 12.818429,
     "end_time": "2025-06-10T07:28:10.467081",
     "exception": false,
     "start_time": "2025-06-10T07:27:57.648652",
     "status": "completed"
    },
    "tags": []
   },
   "outputs": [],
   "source": [
    "scores = {}\n",
    "\n",
    "oof_pred_probs = joblib.load(\"/kaggle/input/s05e06-fertilizer-optimization-ensemble/oof_pred_probs.pkl\")\n",
    "test_pred_probs = joblib.load(\"/kaggle/input/s05e06-fertilizer-optimization-ensemble/test_pred_probs.pkl\")\n",
    "\n",
    "start_idx = 0\n",
    "models = [\"LightGBM (gbdt)\", \"LightGBM (goss)\", \"XGBoost\", \"AutoGluon\"]\n",
    "for model in models:\n",
    "    fold_scores = []        \n",
    "    \n",
    "    skf = StratifiedKFold(n_splits=CFG.n_folds, random_state=CFG.seed, shuffle=True)\n",
    "    for _, val_idx in skf.split(X, y):   \n",
    "        fold_score = map3(y[val_idx], oof_pred_probs.iloc[val_idx, start_idx:start_idx+7])\n",
    "        fold_scores.append(fold_score)\n",
    "        \n",
    "    scores[model] = fold_scores\n",
    "    start_idx += 7"
   ]
  },
  {
   "cell_type": "code",
   "execution_count": 7,
   "id": "77bd0473",
   "metadata": {
    "_kg_hide-input": true,
    "execution": {
     "iopub.execute_input": "2025-06-10T07:28:10.479381Z",
     "iopub.status.busy": "2025-06-10T07:28:10.479025Z",
     "iopub.status.idle": "2025-06-10T07:28:10.489493Z",
     "shell.execute_reply": "2025-06-10T07:28:10.488506Z"
    },
    "papermill": {
     "duration": 0.018017,
     "end_time": "2025-06-10T07:28:10.490969",
     "exception": false,
     "start_time": "2025-06-10T07:28:10.472952",
     "status": "completed"
    },
    "tags": []
   },
   "outputs": [],
   "source": [
    "class Trainer:\n",
    "    def __init__(self, model, config=CFG):\n",
    "        self.model = model\n",
    "        self.config = config\n",
    "\n",
    "    def fit_predict(self, X, y, X_test):\n",
    "        print(f\"Training {self.model.__class__.__name__}\\n\")\n",
    "        \n",
    "        scores = []        \n",
    "        oof_pred_probs = np.zeros((X.shape[0], y.nunique()))\n",
    "        test_pred_probs = np.zeros((X_test.shape[0], y.nunique()))\n",
    "        \n",
    "        skf = StratifiedKFold(n_splits=self.config.n_folds, random_state=self.config.seed, shuffle=True)\n",
    "        for fold_idx, (train_idx, val_idx) in enumerate(skf.split(X, y)):\n",
    "            X_train, X_val = X.iloc[train_idx], X.iloc[val_idx]\n",
    "            y_train, y_val = y[train_idx], y[val_idx]\n",
    "            \n",
    "            model = clone(self.model)\n",
    "            model.fit(X_train, y_train)\n",
    "            \n",
    "            y_pred_probs = model.predict_proba(X_val)\n",
    "            oof_pred_probs[val_idx] = y_pred_probs\n",
    "            \n",
    "            temp_test_pred_probs = model.predict_proba(X_test)\n",
    "            test_pred_probs += temp_test_pred_probs / self.config.n_folds\n",
    "            \n",
    "            score = map3(y_val, y_pred_probs)\n",
    "            scores.append(score)\n",
    "            \n",
    "            del model, X_train, y_train, X_val, y_val, y_pred_probs\n",
    "            gc.collect()\n",
    "        \n",
    "            print(f\"--- Fold {fold_idx + 1} - MAP@3: {score:.6f}\")\n",
    "                            \n",
    "        overall_score = map3(y, oof_pred_probs)\n",
    "            \n",
    "        print(f\"\\n------ Overall MAP@3: {overall_score:.6f} | Average MAP@3: {np.mean(scores):.6f} ± {np.std(scores):.6f}\")\n",
    "        \n",
    "        return oof_pred_probs, test_pred_probs, scores\n",
    "\n",
    "    def tune(self, X, y):        \n",
    "        scores = []        \n",
    "        \n",
    "        skf = StratifiedKFold(n_splits=self.config.n_folds, random_state=self.config.seed, shuffle=True)\n",
    "        for train_idx, val_idx in skf.split(X, y):\n",
    "            X_train, X_val = X.iloc[train_idx], X.iloc[val_idx]\n",
    "            y_train, y_val = y[train_idx], y[val_idx]\n",
    "            \n",
    "            model = clone(self.model)\n",
    "            model.fit(X_train, y_train)\n",
    "            \n",
    "            y_pred_probs = model.predict_proba(X_val)            \n",
    "            score = map3(y_val, y_pred_probs)\n",
    "            scores.append(score)\n",
    "            \n",
    "            del model, X_train, y_train, X_val, y_val, y_pred_probs\n",
    "            gc.collect()\n",
    "            \n",
    "        return np.mean(scores)"
   ]
  },
  {
   "cell_type": "markdown",
   "id": "05bd1361",
   "metadata": {
    "papermill": {
     "duration": 0.004596,
     "end_time": "2025-06-10T07:28:10.500871",
     "exception": false,
     "start_time": "2025-06-10T07:28:10.496275",
     "status": "completed"
    },
    "tags": []
   },
   "source": [
    "# Ensembling"
   ]
  },
  {
   "cell_type": "code",
   "execution_count": 8,
   "id": "a81435be",
   "metadata": {
    "execution": {
     "iopub.execute_input": "2025-06-10T07:28:10.511685Z",
     "iopub.status.busy": "2025-06-10T07:28:10.511348Z",
     "iopub.status.idle": "2025-06-10T07:28:10.518430Z",
     "shell.execute_reply": "2025-06-10T07:28:10.517366Z"
    },
    "papermill": {
     "duration": 0.014196,
     "end_time": "2025-06-10T07:28:10.519837",
     "exception": false,
     "start_time": "2025-06-10T07:28:10.505641",
     "status": "completed"
    },
    "tags": []
   },
   "outputs": [],
   "source": [
    "X = oof_pred_probs\n",
    "X_test = test_pred_probs"
   ]
  },
  {
   "cell_type": "code",
   "execution_count": 9,
   "id": "bb871341",
   "metadata": {
    "execution": {
     "iopub.execute_input": "2025-06-10T07:28:10.530779Z",
     "iopub.status.busy": "2025-06-10T07:28:10.530481Z",
     "iopub.status.idle": "2025-06-10T07:28:10.535863Z",
     "shell.execute_reply": "2025-06-10T07:28:10.534995Z"
    },
    "papermill": {
     "duration": 0.012526,
     "end_time": "2025-06-10T07:28:10.537352",
     "exception": false,
     "start_time": "2025-06-10T07:28:10.524826",
     "status": "completed"
    },
    "tags": []
   },
   "outputs": [],
   "source": [
    "def create_submission(model, test_pred_probs, score):\n",
    "    final_predictions = []\n",
    "    for i in np.argsort(test_pred_probs)[:, -3:][:, ::-1]:\n",
    "        prediction = label_encoder.inverse_transform(i)\n",
    "        final_predictions.append(\" \".join(prediction))\n",
    "\n",
    "    sub = pd.read_csv(CFG.sample_sub_path)\n",
    "    sub[CFG.target] = final_predictions\n",
    "    sub.to_csv(f\"sub_{model}_{score:.6f}.csv\", index=False)\n",
    "    \n",
    "    return sub"
   ]
  },
  {
   "cell_type": "markdown",
   "id": "8e0584b2",
   "metadata": {
    "papermill": {
     "duration": 0.004534,
     "end_time": "2025-06-10T07:28:10.546894",
     "exception": false,
     "start_time": "2025-06-10T07:28:10.542360",
     "status": "completed"
    },
    "tags": []
   },
   "source": [
    "## LogisticRegression"
   ]
  },
  {
   "cell_type": "code",
   "execution_count": 10,
   "id": "8d39b795",
   "metadata": {
    "execution": {
     "iopub.execute_input": "2025-06-10T07:28:10.557698Z",
     "iopub.status.busy": "2025-06-10T07:28:10.557419Z",
     "iopub.status.idle": "2025-06-10T07:30:53.340734Z",
     "shell.execute_reply": "2025-06-10T07:30:53.339525Z"
    },
    "papermill": {
     "duration": 162.790638,
     "end_time": "2025-06-10T07:30:53.342441",
     "exception": false,
     "start_time": "2025-06-10T07:28:10.551803",
     "status": "completed"
    },
    "tags": []
   },
   "outputs": [
    {
     "name": "stdout",
     "output_type": "stream",
     "text": [
      "Training LogisticRegression\n",
      "\n",
      "--- Fold 1 - MAP@3: 0.364479\n",
      "--- Fold 2 - MAP@3: 0.366130\n",
      "--- Fold 3 - MAP@3: 0.368653\n",
      "--- Fold 4 - MAP@3: 0.366407\n",
      "--- Fold 5 - MAP@3: 0.366622\n",
      "\n",
      "------ Overall MAP@3: 0.366458 | Average MAP@3: 0.366458 ± 0.001332\n"
     ]
    }
   ],
   "source": [
    "lr_model = LogisticRegression(\n",
    "    random_state=42, \n",
    "    max_iter=703,\n",
    "    C=564.2906638367206,\n",
    "    fit_intercept=False,\n",
    "    tol=0.001316189139590751,\n",
    "    solver=\"liblinear\",\n",
    "    penalty=\"l2\"\n",
    ") \n",
    "\n",
    "lr_trainer = Trainer(lr_model)\n",
    "_, lr_test_pred_probs, scores[\"LogisticRegression\"] = lr_trainer.fit_predict(X, y, X_test)"
   ]
  },
  {
   "cell_type": "code",
   "execution_count": 11,
   "id": "5dd286b1",
   "metadata": {
    "execution": {
     "iopub.execute_input": "2025-06-10T07:30:53.355171Z",
     "iopub.status.busy": "2025-06-10T07:30:53.354859Z",
     "iopub.status.idle": "2025-06-10T07:31:19.489921Z",
     "shell.execute_reply": "2025-06-10T07:31:19.488958Z"
    },
    "papermill": {
     "duration": 26.143683,
     "end_time": "2025-06-10T07:31:19.491633",
     "exception": false,
     "start_time": "2025-06-10T07:30:53.347950",
     "status": "completed"
    },
    "tags": []
   },
   "outputs": [
    {
     "data": {
      "text/html": [
       "<div>\n",
       "<style scoped>\n",
       "    .dataframe tbody tr th:only-of-type {\n",
       "        vertical-align: middle;\n",
       "    }\n",
       "\n",
       "    .dataframe tbody tr th {\n",
       "        vertical-align: top;\n",
       "    }\n",
       "\n",
       "    .dataframe thead th {\n",
       "        text-align: right;\n",
       "    }\n",
       "</style>\n",
       "<table border=\"1\" class=\"dataframe\">\n",
       "  <thead>\n",
       "    <tr style=\"text-align: right;\">\n",
       "      <th></th>\n",
       "      <th>id</th>\n",
       "      <th>Fertilizer Name</th>\n",
       "    </tr>\n",
       "  </thead>\n",
       "  <tbody>\n",
       "    <tr>\n",
       "      <th>0</th>\n",
       "      <td>750000</td>\n",
       "      <td>10-26-26 20-20 DAP</td>\n",
       "    </tr>\n",
       "    <tr>\n",
       "      <th>1</th>\n",
       "      <td>750001</td>\n",
       "      <td>17-17-17 10-26-26 20-20</td>\n",
       "    </tr>\n",
       "    <tr>\n",
       "      <th>2</th>\n",
       "      <td>750002</td>\n",
       "      <td>20-20 28-28 Urea</td>\n",
       "    </tr>\n",
       "    <tr>\n",
       "      <th>3</th>\n",
       "      <td>750003</td>\n",
       "      <td>14-35-14 DAP 17-17-17</td>\n",
       "    </tr>\n",
       "    <tr>\n",
       "      <th>4</th>\n",
       "      <td>750004</td>\n",
       "      <td>20-20 Urea 10-26-26</td>\n",
       "    </tr>\n",
       "  </tbody>\n",
       "</table>\n",
       "</div>"
      ],
      "text/plain": [
       "       id          Fertilizer Name\n",
       "0  750000       10-26-26 20-20 DAP\n",
       "1  750001  17-17-17 10-26-26 20-20\n",
       "2  750002         20-20 28-28 Urea\n",
       "3  750003    14-35-14 DAP 17-17-17\n",
       "4  750004      20-20 Urea 10-26-26"
      ]
     },
     "execution_count": 11,
     "metadata": {},
     "output_type": "execute_result"
    }
   ],
   "source": [
    "create_submission(\"logistic-regression\", lr_test_pred_probs, np.mean(scores[\"LogisticRegression\"])).head()"
   ]
  },
  {
   "cell_type": "markdown",
   "id": "b35f306e",
   "metadata": {
    "papermill": {
     "duration": 0.005125,
     "end_time": "2025-06-10T07:31:19.502488",
     "exception": false,
     "start_time": "2025-06-10T07:31:19.497363",
     "status": "completed"
    },
    "tags": []
   },
   "source": [
    "## StackingClassifier"
   ]
  },
  {
   "cell_type": "code",
   "execution_count": 12,
   "id": "d72d7259",
   "metadata": {
    "_kg_hide-input": true,
    "execution": {
     "iopub.execute_input": "2025-06-10T07:31:19.514489Z",
     "iopub.status.busy": "2025-06-10T07:31:19.514186Z",
     "iopub.status.idle": "2025-06-10T07:31:19.520733Z",
     "shell.execute_reply": "2025-06-10T07:31:19.519612Z"
    },
    "papermill": {
     "duration": 0.014743,
     "end_time": "2025-06-10T07:31:19.522462",
     "exception": false,
     "start_time": "2025-06-10T07:31:19.507719",
     "status": "completed"
    },
    "tags": []
   },
   "outputs": [],
   "source": [
    "# This is just a trick to avoid refitting all base models from scratch, which is what StackingClassifier and VotingClassifier do by default\n",
    "\n",
    "class PassThroughClassifier(BaseEstimator, ClassifierMixin):\n",
    "    def __init__(self, idx_cols):\n",
    "        self.idx_cols = idx_cols\n",
    "        self.is_fitted_ = True\n",
    "\n",
    "    def fit(self, X, y=None):\n",
    "        return self\n",
    "\n",
    "    def predict_proba(self, X):\n",
    "        return check_array(X)[:, self.idx_cols]\n",
    "\n",
    "\n",
    "estimators = [\n",
    "    ('LightGBM (gbdt)', PassThroughClassifier(list(range(0, 7)))),\n",
    "    ('LightGBM (goss)', PassThroughClassifier(list(range(7, 14)))),\n",
    "    ('XGBoost', PassThroughClassifier(list(range(14, 21)))),\n",
    "    ('AutoGluon', PassThroughClassifier(list(range(21, 28)))),\n",
    "]"
   ]
  },
  {
   "cell_type": "code",
   "execution_count": 13,
   "id": "1e8df297",
   "metadata": {
    "execution": {
     "iopub.execute_input": "2025-06-10T07:31:19.534718Z",
     "iopub.status.busy": "2025-06-10T07:31:19.534431Z",
     "iopub.status.idle": "2025-06-10T07:34:04.583331Z",
     "shell.execute_reply": "2025-06-10T07:34:04.582186Z"
    },
    "papermill": {
     "duration": 165.05678,
     "end_time": "2025-06-10T07:34:04.584904",
     "exception": false,
     "start_time": "2025-06-10T07:31:19.528124",
     "status": "completed"
    },
    "tags": []
   },
   "outputs": [
    {
     "name": "stdout",
     "output_type": "stream",
     "text": [
      "Training StackingClassifier\n",
      "\n",
      "--- Fold 1 - MAP@3: 0.364479\n",
      "--- Fold 2 - MAP@3: 0.366130\n",
      "--- Fold 3 - MAP@3: 0.368653\n",
      "--- Fold 4 - MAP@3: 0.366407\n",
      "--- Fold 5 - MAP@3: 0.366622\n",
      "\n",
      "------ Overall MAP@3: 0.366458 | Average MAP@3: 0.366458 ± 0.001332\n"
     ]
    }
   ],
   "source": [
    "stacking_model = StackingClassifier(estimators, cv='prefit', n_jobs=-1, final_estimator=clone(lr_model))\n",
    "stacking_trainer = Trainer(stacking_model)\n",
    "_, stacking_test_pred_probs, scores[\"StackingClassifier\"] = stacking_trainer.fit_predict(X, y, X_test)"
   ]
  },
  {
   "cell_type": "code",
   "execution_count": 14,
   "id": "9df343ad",
   "metadata": {
    "execution": {
     "iopub.execute_input": "2025-06-10T07:34:04.597927Z",
     "iopub.status.busy": "2025-06-10T07:34:04.597629Z",
     "iopub.status.idle": "2025-06-10T07:34:30.622005Z",
     "shell.execute_reply": "2025-06-10T07:34:30.620958Z"
    },
    "papermill": {
     "duration": 26.032643,
     "end_time": "2025-06-10T07:34:30.623602",
     "exception": false,
     "start_time": "2025-06-10T07:34:04.590959",
     "status": "completed"
    },
    "tags": []
   },
   "outputs": [
    {
     "data": {
      "text/html": [
       "<div>\n",
       "<style scoped>\n",
       "    .dataframe tbody tr th:only-of-type {\n",
       "        vertical-align: middle;\n",
       "    }\n",
       "\n",
       "    .dataframe tbody tr th {\n",
       "        vertical-align: top;\n",
       "    }\n",
       "\n",
       "    .dataframe thead th {\n",
       "        text-align: right;\n",
       "    }\n",
       "</style>\n",
       "<table border=\"1\" class=\"dataframe\">\n",
       "  <thead>\n",
       "    <tr style=\"text-align: right;\">\n",
       "      <th></th>\n",
       "      <th>id</th>\n",
       "      <th>Fertilizer Name</th>\n",
       "    </tr>\n",
       "  </thead>\n",
       "  <tbody>\n",
       "    <tr>\n",
       "      <th>0</th>\n",
       "      <td>750000</td>\n",
       "      <td>10-26-26 20-20 DAP</td>\n",
       "    </tr>\n",
       "    <tr>\n",
       "      <th>1</th>\n",
       "      <td>750001</td>\n",
       "      <td>17-17-17 10-26-26 20-20</td>\n",
       "    </tr>\n",
       "    <tr>\n",
       "      <th>2</th>\n",
       "      <td>750002</td>\n",
       "      <td>20-20 28-28 Urea</td>\n",
       "    </tr>\n",
       "    <tr>\n",
       "      <th>3</th>\n",
       "      <td>750003</td>\n",
       "      <td>14-35-14 DAP 17-17-17</td>\n",
       "    </tr>\n",
       "    <tr>\n",
       "      <th>4</th>\n",
       "      <td>750004</td>\n",
       "      <td>20-20 Urea 10-26-26</td>\n",
       "    </tr>\n",
       "  </tbody>\n",
       "</table>\n",
       "</div>"
      ],
      "text/plain": [
       "       id          Fertilizer Name\n",
       "0  750000       10-26-26 20-20 DAP\n",
       "1  750001  17-17-17 10-26-26 20-20\n",
       "2  750002         20-20 28-28 Urea\n",
       "3  750003    14-35-14 DAP 17-17-17\n",
       "4  750004      20-20 Urea 10-26-26"
      ]
     },
     "execution_count": 14,
     "metadata": {},
     "output_type": "execute_result"
    }
   ],
   "source": [
    "create_submission(\"stacking-classifier\", stacking_test_pred_probs, np.mean(scores[\"StackingClassifier\"])).head()"
   ]
  },
  {
   "cell_type": "markdown",
   "id": "1f3e395b",
   "metadata": {
    "papermill": {
     "duration": 0.005648,
     "end_time": "2025-06-10T07:34:30.635601",
     "exception": false,
     "start_time": "2025-06-10T07:34:30.629953",
     "status": "completed"
    },
    "tags": []
   },
   "source": [
    "## VotingClassifier"
   ]
  },
  {
   "cell_type": "code",
   "execution_count": 15,
   "id": "29d79eca",
   "metadata": {
    "execution": {
     "iopub.execute_input": "2025-06-10T07:34:30.648728Z",
     "iopub.status.busy": "2025-06-10T07:34:30.648422Z",
     "iopub.status.idle": "2025-06-10T07:34:41.309315Z",
     "shell.execute_reply": "2025-06-10T07:34:41.308339Z"
    },
    "papermill": {
     "duration": 10.669347,
     "end_time": "2025-06-10T07:34:41.310850",
     "exception": false,
     "start_time": "2025-06-10T07:34:30.641503",
     "status": "completed"
    },
    "tags": []
   },
   "outputs": [
    {
     "name": "stdout",
     "output_type": "stream",
     "text": [
      "Training VotingClassifier\n",
      "\n",
      "--- Fold 1 - MAP@3: 0.362856\n",
      "--- Fold 2 - MAP@3: 0.363509\n",
      "--- Fold 3 - MAP@3: 0.365732\n",
      "--- Fold 4 - MAP@3: 0.363687\n",
      "--- Fold 5 - MAP@3: 0.363853\n",
      "\n",
      "------ Overall MAP@3: 0.363927 | Average MAP@3: 0.363927 ± 0.000964\n"
     ]
    }
   ],
   "source": [
    "voting_model = VotingClassifier(estimators, n_jobs=-1, voting='soft')\n",
    "voting_trainer = Trainer(voting_model)\n",
    "_, voting_test_pred_probs, scores[\"VotingClassifier\"] = voting_trainer.fit_predict(X, y, X_test)"
   ]
  },
  {
   "cell_type": "code",
   "execution_count": 16,
   "id": "9757c2c0",
   "metadata": {
    "execution": {
     "iopub.execute_input": "2025-06-10T07:34:41.325177Z",
     "iopub.status.busy": "2025-06-10T07:34:41.324692Z",
     "iopub.status.idle": "2025-06-10T07:35:07.887745Z",
     "shell.execute_reply": "2025-06-10T07:35:07.886886Z"
    },
    "papermill": {
     "duration": 26.57186,
     "end_time": "2025-06-10T07:35:07.889280",
     "exception": false,
     "start_time": "2025-06-10T07:34:41.317420",
     "status": "completed"
    },
    "tags": []
   },
   "outputs": [
    {
     "data": {
      "text/html": [
       "<div>\n",
       "<style scoped>\n",
       "    .dataframe tbody tr th:only-of-type {\n",
       "        vertical-align: middle;\n",
       "    }\n",
       "\n",
       "    .dataframe tbody tr th {\n",
       "        vertical-align: top;\n",
       "    }\n",
       "\n",
       "    .dataframe thead th {\n",
       "        text-align: right;\n",
       "    }\n",
       "</style>\n",
       "<table border=\"1\" class=\"dataframe\">\n",
       "  <thead>\n",
       "    <tr style=\"text-align: right;\">\n",
       "      <th></th>\n",
       "      <th>id</th>\n",
       "      <th>Fertilizer Name</th>\n",
       "    </tr>\n",
       "  </thead>\n",
       "  <tbody>\n",
       "    <tr>\n",
       "      <th>0</th>\n",
       "      <td>750000</td>\n",
       "      <td>10-26-26 DAP 20-20</td>\n",
       "    </tr>\n",
       "    <tr>\n",
       "      <th>1</th>\n",
       "      <td>750001</td>\n",
       "      <td>17-17-17 10-26-26 20-20</td>\n",
       "    </tr>\n",
       "    <tr>\n",
       "      <th>2</th>\n",
       "      <td>750002</td>\n",
       "      <td>20-20 28-28 17-17-17</td>\n",
       "    </tr>\n",
       "    <tr>\n",
       "      <th>3</th>\n",
       "      <td>750003</td>\n",
       "      <td>14-35-14 DAP Urea</td>\n",
       "    </tr>\n",
       "    <tr>\n",
       "      <th>4</th>\n",
       "      <td>750004</td>\n",
       "      <td>20-20 Urea 10-26-26</td>\n",
       "    </tr>\n",
       "  </tbody>\n",
       "</table>\n",
       "</div>"
      ],
      "text/plain": [
       "       id          Fertilizer Name\n",
       "0  750000       10-26-26 DAP 20-20\n",
       "1  750001  17-17-17 10-26-26 20-20\n",
       "2  750002     20-20 28-28 17-17-17\n",
       "3  750003        14-35-14 DAP Urea\n",
       "4  750004      20-20 Urea 10-26-26"
      ]
     },
     "execution_count": 16,
     "metadata": {},
     "output_type": "execute_result"
    }
   ],
   "source": [
    "create_submission(\"voting-classifier\", voting_test_pred_probs, np.mean(scores[\"VotingClassifier\"])).head()"
   ]
  },
  {
   "cell_type": "markdown",
   "id": "df4bc077",
   "metadata": {
    "papermill": {
     "duration": 0.006427,
     "end_time": "2025-06-10T07:35:07.902324",
     "exception": false,
     "start_time": "2025-06-10T07:35:07.895897",
     "status": "completed"
    },
    "tags": []
   },
   "source": [
    "## Weighted averaging"
   ]
  },
  {
   "cell_type": "code",
   "execution_count": 17,
   "id": "31385523",
   "metadata": {
    "_kg_hide-output": true,
    "execution": {
     "iopub.execute_input": "2025-06-10T07:35:07.916813Z",
     "iopub.status.busy": "2025-06-10T07:35:07.916506Z",
     "iopub.status.idle": "2025-06-10T07:41:49.629363Z",
     "shell.execute_reply": "2025-06-10T07:41:49.628230Z"
    },
    "papermill": {
     "duration": 401.722118,
     "end_time": "2025-06-10T07:41:49.630877",
     "exception": false,
     "start_time": "2025-06-10T07:35:07.908759",
     "status": "completed"
    },
    "scrolled": true,
    "tags": []
   },
   "outputs": [
    {
     "name": "stderr",
     "output_type": "stream",
     "text": [
      "[I 2025-06-10 07:35:07,920] A new study created in memory with name: no-name-7226b127-26db-4a19-b988-5d868baea2af\n",
      "[I 2025-06-10 07:35:13,962] Trial 2 finished with value: 0.3630008888888891 and parameters: {'LightGBM (gbdt)': 0.5685550001678326, 'LightGBM (goss)': 0.0947925573208458, 'XGBoost': 0.729503731327875, 'AutoGluon': 0.860155216272999}. Best is trial 2 with value: 0.3630008888888891.\n",
      "[I 2025-06-10 07:35:14,025] Trial 0 finished with value: 0.35790088888888894 and parameters: {'LightGBM (gbdt)': 0.02038881306050022, 'LightGBM (goss)': 0.021288473725659895, 'XGBoost': 0.48926620295061163, 'AutoGluon': 0.7480083136238421}. Best is trial 2 with value: 0.3630008888888891.\n",
      "[I 2025-06-10 07:35:14,770] Trial 1 finished with value: 0.3642722222222223 and parameters: {'LightGBM (gbdt)': 0.9486241571548493, 'LightGBM (goss)': 0.5025633947607714, 'XGBoost': 0.3330078848723511, 'AutoGluon': 0.16914013563304187}. Best is trial 1 with value: 0.3642722222222223.\n",
      "[I 2025-06-10 07:35:15,042] Trial 3 finished with value: 0.3630968888888889 and parameters: {'LightGBM (gbdt)': 0.10027879091808622, 'LightGBM (goss)': 0.9170986758849929, 'XGBoost': 0.8575853623128578, 'AutoGluon': 0.9091396824764975}. Best is trial 1 with value: 0.3642722222222223.\n",
      "[I 2025-06-10 07:35:20,890] Trial 6 finished with value: 0.3652984444444445 and parameters: {'LightGBM (gbdt)': 0.5335854170123824, 'LightGBM (goss)': 0.3809511653793958, 'XGBoost': 0.8974782346260356, 'AutoGluon': 0.3239883187179632}. Best is trial 6 with value: 0.3652984444444445.\n",
      "[I 2025-06-10 07:35:21,454] Trial 4 finished with value: 0.3631117777777778 and parameters: {'LightGBM (gbdt)': 0.01657717130426939, 'LightGBM (goss)': 0.7213325447317307, 'XGBoost': 0.9862121742586222, 'AutoGluon': 0.9128120504006016}. Best is trial 6 with value: 0.3652984444444445.\n",
      "[I 2025-06-10 07:35:21,518] Trial 7 finished with value: 0.3619231111111113 and parameters: {'LightGBM (gbdt)': 0.0964571410159023, 'LightGBM (goss)': 0.027793304760030058, 'XGBoost': 0.5658678344461088, 'AutoGluon': 0.5557285250307368}. Best is trial 6 with value: 0.3652984444444445.\n",
      "[I 2025-06-10 07:35:21,922] Trial 5 finished with value: 0.3612577777777777 and parameters: {'LightGBM (gbdt)': 0.8044991091915771, 'LightGBM (goss)': 0.4130768364578672, 'XGBoost': 0.13306753149483286, 'AutoGluon': 0.8085473129974445}. Best is trial 6 with value: 0.3652984444444445.\n",
      "[I 2025-06-10 07:35:27,119] Trial 11 finished with value: 0.3645737777777779 and parameters: {'LightGBM (gbdt)': 0.414582572129498, 'LightGBM (goss)': 0.9242482577387399, 'XGBoost': 0.5411829084151951, 'AutoGluon': 0.09040815793581158}. Best is trial 6 with value: 0.3652984444444445.\n",
      "[I 2025-06-10 07:35:27,442] Trial 8 finished with value: 0.36470222222222226 and parameters: {'LightGBM (gbdt)': 0.07831736216040197, 'LightGBM (goss)': 0.3735117811466454, 'XGBoost': 0.5898678317825904, 'AutoGluon': 0.2916356605639795}. Best is trial 6 with value: 0.3652984444444445.\n",
      "[I 2025-06-10 07:35:27,530] Trial 9 finished with value: 0.36458044444444443 and parameters: {'LightGBM (gbdt)': 0.6664224965706549, 'LightGBM (goss)': 0.36906167413339686, 'XGBoost': 0.3909107253026364, 'AutoGluon': 0.23981676445835987}. Best is trial 6 with value: 0.3652984444444445.\n",
      "[I 2025-06-10 07:35:31,391] Trial 10 finished with value: 0.3648244444444445 and parameters: {'LightGBM (gbdt)': 0.27292634875190946, 'LightGBM (goss)': 0.6774361886734963, 'XGBoost': 0.8408714999389202, 'AutoGluon': 0.3951531821649462}. Best is trial 6 with value: 0.3652984444444445.\n",
      "[I 2025-06-10 07:35:32,026] Trial 12 finished with value: 0.36053666666666667 and parameters: {'LightGBM (gbdt)': 0.22922674979404134, 'LightGBM (goss)': 0.5277135776748489, 'XGBoost': 0.30532545640317477, 'AutoGluon': 0.8381024470300443}. Best is trial 6 with value: 0.3652984444444445.\n",
      "[I 2025-06-10 07:35:32,807] Trial 13 finished with value: 0.36514555555555556 and parameters: {'LightGBM (gbdt)': 0.4230831437667675, 'LightGBM (goss)': 0.2670110356446494, 'XGBoost': 0.9981528558017144, 'AutoGluon': 0.4474495256779968}. Best is trial 6 with value: 0.3652984444444445.\n",
      "[I 2025-06-10 07:35:33,158] Trial 14 finished with value: 0.3648295555555557 and parameters: {'LightGBM (gbdt)': 0.2659998750875051, 'LightGBM (goss)': 0.2503686910522672, 'XGBoost': 0.7473627756458211, 'AutoGluon': 0.38925524515754273}. Best is trial 6 with value: 0.3652984444444445.\n",
      "[I 2025-06-10 07:35:38,396] Trial 15 finished with value: 0.36498533333333333 and parameters: {'LightGBM (gbdt)': 0.33534594927687894, 'LightGBM (goss)': 0.7042230024166671, 'XGBoost': 0.9936599884960892, 'AutoGluon': 0.4310067760174832}. Best is trial 6 with value: 0.3652984444444445.\n",
      "[I 2025-06-10 07:35:38,748] Trial 16 finished with value: 0.36506 and parameters: {'LightGBM (gbdt)': 0.36151407359838816, 'LightGBM (goss)': 0.6161176048573322, 'XGBoost': 0.9923034243764872, 'AutoGluon': 0.4313284740792056}. Best is trial 6 with value: 0.3652984444444445.\n",
      "[I 2025-06-10 07:35:39,096] Trial 17 finished with value: 0.36465088888888897 and parameters: {'LightGBM (gbdt)': 0.4365109351325781, 'LightGBM (goss)': 0.2172568064208417, 'XGBoost': 0.9851576740699949, 'AutoGluon': 0.582487112657182}. Best is trial 6 with value: 0.3652984444444445.\n",
      "[I 2025-06-10 07:35:40,501] Trial 18 finished with value: 0.3647115555555557 and parameters: {'LightGBM (gbdt)': 0.46511008870983966, 'LightGBM (goss)': 0.24735867135424727, 'XGBoost': 0.9778481630575929, 'AutoGluon': 0.5701747069822469}. Best is trial 6 with value: 0.3652984444444445.\n",
      "[I 2025-06-10 07:35:43,433] Trial 19 finished with value: 0.3644177777777779 and parameters: {'LightGBM (gbdt)': 0.5380098286563887, 'LightGBM (goss)': 0.20590263155564742, 'XGBoost': 0.8675380030225768, 'AutoGluon': 0.6171297035945135}. Best is trial 6 with value: 0.3652984444444445.\n",
      "[I 2025-06-10 07:35:43,660] Trial 21 finished with value: 0.36584111111111095 and parameters: {'LightGBM (gbdt)': 0.6083072456209437, 'LightGBM (goss)': 0.28452040614319374, 'XGBoost': 0.82151121893507, 'AutoGluon': 0.04663529719550075}. Best is trial 21 with value: 0.36584111111111095.\n",
      "[I 2025-06-10 07:35:46,107] Trial 20 finished with value: 0.36439088888888893 and parameters: {'LightGBM (gbdt)': 0.5295479409868397, 'LightGBM (goss)': 0.21793229838598693, 'XGBoost': 0.8429836647350412, 'AutoGluon': 0.6143350607472994}. Best is trial 21 with value: 0.36584111111111095.\n",
      "[I 2025-06-10 07:35:48,338] Trial 22 finished with value: 0.36578 and parameters: {'LightGBM (gbdt)': 0.599299641141668, 'LightGBM (goss)': 0.2013077194147848, 'XGBoost': 0.6910354311816106, 'AutoGluon': 0.020115692892701764}. Best is trial 21 with value: 0.36584111111111095.\n",
      "[I 2025-06-10 07:35:49,882] Trial 23 finished with value: 0.365731111111111 and parameters: {'LightGBM (gbdt)': 0.6462413189912055, 'LightGBM (goss)': 0.31780119255479067, 'XGBoost': 0.7685399988829501, 'AutoGluon': 0.049302316920175504}. Best is trial 21 with value: 0.36584111111111095.\n",
      "[I 2025-06-10 07:35:50,048] Trial 24 finished with value: 0.36577955555555564 and parameters: {'LightGBM (gbdt)': 0.6680911233855108, 'LightGBM (goss)': 0.3248070406828251, 'XGBoost': 0.7626468024356653, 'AutoGluon': 0.008726487661650628}. Best is trial 21 with value: 0.36584111111111095.\n",
      "[I 2025-06-10 07:35:51,455] Trial 25 finished with value: 0.3656057777777778 and parameters: {'LightGBM (gbdt)': 0.6718893859940304, 'LightGBM (goss)': 0.35127967341534516, 'XGBoost': 0.7059441458930852, 'AutoGluon': 0.0279934577981206}. Best is trial 21 with value: 0.36584111111111095.\n",
      "[I 2025-06-10 07:35:54,680] Trial 28 finished with value: 0.36564177777777773 and parameters: {'LightGBM (gbdt)': 0.7604260450920652, 'LightGBM (goss)': 0.1311201530444399, 'XGBoost': 0.6617871962592039, 'AutoGluon': 0.0008410900101732642}. Best is trial 21 with value: 0.36584111111111095.\n",
      "[I 2025-06-10 07:35:54,871] Trial 26 finished with value: 0.36583799999999994 and parameters: {'LightGBM (gbdt)': 0.6670306102308177, 'LightGBM (goss)': 0.11906497912202907, 'XGBoost': 0.6806479503161609, 'AutoGluon': 0.0034965480227416162}. Best is trial 21 with value: 0.36584111111111095.\n",
      "[I 2025-06-10 07:35:55,693] Trial 27 finished with value: 0.3657684444444444 and parameters: {'LightGBM (gbdt)': 0.6839059983375206, 'LightGBM (goss)': 0.1654606753762785, 'XGBoost': 0.7102151360874093, 'AutoGluon': 0.020009395505190927}. Best is trial 21 with value: 0.36584111111111095.\n",
      "[I 2025-06-10 07:36:00,535] Trial 30 finished with value: 0.3653688888888889 and parameters: {'LightGBM (gbdt)': 0.8216967492027857, 'LightGBM (goss)': 0.12940482063865638, 'XGBoost': 0.6545178237406917, 'AutoGluon': 0.15183739477149247}. Best is trial 21 with value: 0.36584111111111095.\n",
      "[I 2025-06-10 07:36:00,850] Trial 29 finished with value: 0.3653977777777778 and parameters: {'LightGBM (gbdt)': 0.773769235864085, 'LightGBM (goss)': 0.12906615507757724, 'XGBoost': 0.6317757039780107, 'AutoGluon': 0.14004194392834973}. Best is trial 21 with value: 0.36584111111111095.\n",
      "[I 2025-06-10 07:36:01,710] Trial 31 finished with value: 0.3654082222222223 and parameters: {'LightGBM (gbdt)': 0.8055418850792766, 'LightGBM (goss)': 0.13905533461032327, 'XGBoost': 0.6398629759617107, 'AutoGluon': 0.13903797452287403}. Best is trial 21 with value: 0.36584111111111095.\n",
      "[I 2025-06-10 07:36:01,998] Trial 32 finished with value: 0.36502777777777773 and parameters: {'LightGBM (gbdt)': 0.8606953341347623, 'LightGBM (goss)': 0.007857480667536748, 'XGBoost': 0.4378004352622431, 'AutoGluon': 0.13685593337515947}. Best is trial 21 with value: 0.36584111111111095.\n",
      "[I 2025-06-10 07:36:06,636] Trial 33 finished with value: 0.36479311111111107 and parameters: {'LightGBM (gbdt)': 0.9313192308625521, 'LightGBM (goss)': 0.44099410513995574, 'XGBoost': 0.4806553037228696, 'AutoGluon': 0.13250947311447958}. Best is trial 21 with value: 0.36584111111111095.\n",
      "[I 2025-06-10 07:36:07,829] Trial 35 finished with value: 0.3648066666666667 and parameters: {'LightGBM (gbdt)': 0.9040802617655954, 'LightGBM (goss)': 0.004486185508817964, 'XGBoost': 0.48099963688409353, 'AutoGluon': 0.2419611209665699}. Best is trial 21 with value: 0.36584111111111095.\n",
      "[I 2025-06-10 07:36:07,829] Trial 34 finished with value: 0.36550377777777776 and parameters: {'LightGBM (gbdt)': 0.6012048777181728, 'LightGBM (goss)': 0.0031263098198652806, 'XGBoost': 0.49445402135937233, 'AutoGluon': 0.10059184139397573}. Best is trial 21 with value: 0.36584111111111095.\n",
      "[I 2025-06-10 07:36:08,116] Trial 36 finished with value: 0.3655415555555555 and parameters: {'LightGBM (gbdt)': 0.6042352051894244, 'LightGBM (goss)': 0.45429923206109624, 'XGBoost': 0.7643669269111191, 'AutoGluon': 0.08359327121698529}. Best is trial 21 with value: 0.36584111111111095.\n",
      "[I 2025-06-10 07:36:12,699] Trial 37 finished with value: 0.36521555555555557 and parameters: {'LightGBM (gbdt)': 0.5967421526725857, 'LightGBM (goss)': 0.4748164142751482, 'XGBoost': 0.7502625285990063, 'AutoGluon': 0.22390265440544932}. Best is trial 21 with value: 0.36584111111111095.\n",
      "[I 2025-06-10 07:36:13,167] Trial 40 finished with value: 0.36543066666666674 and parameters: {'LightGBM (gbdt)': 0.6937988278155947, 'LightGBM (goss)': 0.3038696755615893, 'XGBoost': 0.8075371937938974, 'AutoGluon': 0.21976984506306474}. Best is trial 21 with value: 0.36584111111111095.\n",
      "[I 2025-06-10 07:36:13,815] Trial 38 finished with value: 0.3653822222222224 and parameters: {'LightGBM (gbdt)': 0.7265136309155718, 'LightGBM (goss)': 0.30714894401251946, 'XGBoost': 0.7642096508381705, 'AutoGluon': 0.20975962127973136}. Best is trial 21 with value: 0.36584111111111095.\n",
      "[I 2025-06-10 07:36:14,016] Trial 39 finished with value: 0.36550022222222234 and parameters: {'LightGBM (gbdt)': 0.6130411937558579, 'LightGBM (goss)': 0.30614612509251504, 'XGBoost': 0.7978660538847747, 'AutoGluon': 0.19302544170596952}. Best is trial 21 with value: 0.36584111111111095.\n",
      "[I 2025-06-10 07:36:20,118] Trial 44 finished with value: 0.36620377777777785 and parameters: {'LightGBM (gbdt)': 0.4903690939268525, 'LightGBM (goss)': 0.06576730469623546, 'XGBoost': 0.9141497994971638, 'AutoGluon': 0.04177537190537462}. Best is trial 44 with value: 0.36620377777777785.\n",
      "[I 2025-06-10 07:36:20,467] Trial 43 finished with value: 0.36617355555555553 and parameters: {'LightGBM (gbdt)': 0.49866509951636184, 'LightGBM (goss)': 0.07872700063963955, 'XGBoost': 0.9171591114569793, 'AutoGluon': 0.06324595494515159}. Best is trial 44 with value: 0.36620377777777785.\n",
      "[I 2025-06-10 07:36:20,542] Trial 42 finished with value: 0.3660315555555555 and parameters: {'LightGBM (gbdt)': 0.7332808347840158, 'LightGBM (goss)': 0.06645251755824198, 'XGBoost': 0.909403715026581, 'AutoGluon': 0.05818865655315273}. Best is trial 44 with value: 0.36620377777777785.\n",
      "[I 2025-06-10 07:36:20,800] Trial 41 finished with value: 0.3633477777777779 and parameters: {'LightGBM (gbdt)': 0.7368343248769974, 'LightGBM (goss)': 0.07647861397489597, 'XGBoost': 0.91643644028616, 'AutoGluon': 0.9961035787865381}. Best is trial 44 with value: 0.36620377777777785.\n",
      "[I 2025-06-10 07:36:27,450] Trial 45 finished with value: 0.36448866666666674 and parameters: {'LightGBM (gbdt)': 0.4975738943504828, 'LightGBM (goss)': 0.0853799674529393, 'XGBoost': 0.16137779136224195, 'AutoGluon': 0.06262925275222998}. Best is trial 44 with value: 0.36620377777777785.\n",
      "[I 2025-06-10 07:36:27,674] Trial 46 finished with value: 0.3661266666666666 and parameters: {'LightGBM (gbdt)': 0.5386757511011699, 'LightGBM (goss)': 0.08839373960170055, 'XGBoost': 0.9062729125639883, 'AutoGluon': 0.06960991576299783}. Best is trial 44 with value: 0.36620377777777785.\n",
      "[I 2025-06-10 07:36:27,892] Trial 47 finished with value: 0.36618444444444437 and parameters: {'LightGBM (gbdt)': 0.4778156270204802, 'LightGBM (goss)': 0.06267721759643252, 'XGBoost': 0.9259101640658535, 'AutoGluon': 0.07071696679185574}. Best is trial 44 with value: 0.36620377777777785.\n",
      "[I 2025-06-10 07:36:27,964] Trial 48 finished with value: 0.3657495555555555 and parameters: {'LightGBM (gbdt)': 0.9891191481449487, 'LightGBM (goss)': 0.07131544120618717, 'XGBoost': 0.9273058556217416, 'AutoGluon': 0.07479421444137657}. Best is trial 44 with value: 0.36620377777777785.\n",
      "[I 2025-06-10 07:36:33,303] Trial 50 finished with value: 0.3656588888888889 and parameters: {'LightGBM (gbdt)': 0.48613765865305203, 'LightGBM (goss)': 0.04898002822595274, 'XGBoost': 0.9052310934447045, 'AutoGluon': 0.2900602117361535}. Best is trial 44 with value: 0.36620377777777785.\n",
      "[I 2025-06-10 07:36:33,716] Trial 52 finished with value: 0.3662404444444444 and parameters: {'LightGBM (gbdt)': 0.3620337298892419, 'LightGBM (goss)': 0.04524812020365765, 'XGBoost': 0.89290807615542, 'AutoGluon': 0.09827708333780497}. Best is trial 52 with value: 0.3662404444444444.\n",
      "[I 2025-06-10 07:36:33,928] Trial 51 finished with value: 0.36567911111111107 and parameters: {'LightGBM (gbdt)': 0.36289288133185443, 'LightGBM (goss)': 0.04179685986919586, 'XGBoost': 0.9378831489516228, 'AutoGluon': 0.2878803838176931}. Best is trial 52 with value: 0.3662404444444444.\n",
      "[I 2025-06-10 07:36:34,066] Trial 49 finished with value: 0.3652393333333332 and parameters: {'LightGBM (gbdt)': 0.9927285832984957, 'LightGBM (goss)': 0.06633471892905846, 'XGBoost': 0.9141295412036975, 'AutoGluon': 0.3340503217738818}. Best is trial 52 with value: 0.3662404444444444.\n",
      "[I 2025-06-10 07:36:40,012] Trial 54 finished with value: 0.36625155555555583 and parameters: {'LightGBM (gbdt)': 0.38160788487690933, 'LightGBM (goss)': 0.04883507940052301, 'XGBoost': 0.94874050051707, 'AutoGluon': 0.10482291941402601}. Best is trial 54 with value: 0.36625155555555583.\n",
      "[I 2025-06-10 07:36:40,201] Trial 53 finished with value: 0.36551333333333325 and parameters: {'LightGBM (gbdt)': 0.35048987672582443, 'LightGBM (goss)': 0.7996222664122647, 'XGBoost': 0.9465273797907637, 'AutoGluon': 0.10048926804525422}. Best is trial 54 with value: 0.36625155555555583.\n",
      "[I 2025-06-10 07:36:40,887] Trial 56 finished with value: 0.36323133333333324 and parameters: {'LightGBM (gbdt)': 0.17548816599600198, 'LightGBM (goss)': 0.17276341344921164, 'XGBoost': 0.8768863653819485, 'AutoGluon': 0.7385530274936736}. Best is trial 54 with value: 0.36625155555555583.\n",
      "[I 2025-06-10 07:36:41,157] Trial 55 finished with value: 0.365222 and parameters: {'LightGBM (gbdt)': 0.3997106315435296, 'LightGBM (goss)': 0.8623967908517801, 'XGBoost': 0.8886036978203729, 'AutoGluon': 0.10282261646509355}. Best is trial 54 with value: 0.36625155555555583.\n",
      "[I 2025-06-10 07:36:46,414] Trial 57 finished with value: 0.3639411111111111 and parameters: {'LightGBM (gbdt)': 0.3946938001674954, 'LightGBM (goss)': 0.16540676210648128, 'XGBoost': 0.8673269897686482, 'AutoGluon': 0.6811085574152692}. Best is trial 54 with value: 0.36625155555555583.\n",
      "[I 2025-06-10 07:36:46,995] Trial 58 finished with value: 0.36595666666666665 and parameters: {'LightGBM (gbdt)': 0.2036829949897505, 'LightGBM (goss)': 0.1029985549552521, 'XGBoost': 0.866450969211283, 'AutoGluon': 0.1896219970771537}. Best is trial 54 with value: 0.36625155555555583.\n",
      "[I 2025-06-10 07:36:47,430] Trial 60 finished with value: 0.3659846666666667 and parameters: {'LightGBM (gbdt)': 0.3136714800295344, 'LightGBM (goss)': 0.10067261737971722, 'XGBoost': 0.8442246114583696, 'AutoGluon': 0.18538980845610842}. Best is trial 54 with value: 0.36625155555555583.\n",
      "[I 2025-06-10 07:36:47,962] Trial 59 finished with value: 0.3659415555555555 and parameters: {'LightGBM (gbdt)': 0.30293782975954237, 'LightGBM (goss)': 0.16947597467760925, 'XGBoost': 0.8691605507800003, 'AutoGluon': 0.18407969562522591}. Best is trial 54 with value: 0.36625155555555583.\n",
      "[I 2025-06-10 07:36:52,103] Trial 61 finished with value: 0.3617537777777779 and parameters: {'LightGBM (gbdt)': 0.31198001533891345, 'LightGBM (goss)': 0.03427267116220181, 'XGBoost': 0.022781258163486418, 'AutoGluon': 0.19506009620367668}. Best is trial 54 with value: 0.36625155555555583.\n",
      "[I 2025-06-10 07:36:52,203] Trial 63 finished with value: 0.36492733333333316 and parameters: {'LightGBM (gbdt)': 0.4534300566921301, 'LightGBM (goss)': 0.0348731969893649, 'XGBoost': 0.9579019634333724, 'AutoGluon': 0.50902448035288}. Best is trial 54 with value: 0.36625155555555583.\n",
      "[I 2025-06-10 07:36:53,564] Trial 62 finished with value: 0.366164 and parameters: {'LightGBM (gbdt)': 0.3050641261191785, 'LightGBM (goss)': 0.035443268808373195, 'XGBoost': 0.9677107504985872, 'AutoGluon': 0.16784403309804755}. Best is trial 54 with value: 0.36625155555555583.\n",
      "[I 2025-06-10 07:36:56,481] Trial 64 finished with value: 0.36626111111111115 and parameters: {'LightGBM (gbdt)': 0.4442752559147226, 'LightGBM (goss)': 0.038555662070305856, 'XGBoost': 0.9560924945415559, 'AutoGluon': 0.05077780121231627}. Best is trial 64 with value: 0.36626111111111115.\n",
      "[I 2025-06-10 07:36:57,427] Trial 66 finished with value: 0.3662084444444444 and parameters: {'LightGBM (gbdt)': 0.4748849846009812, 'LightGBM (goss)': 0.06352664596337296, 'XGBoost': 0.9607925156763352, 'AutoGluon': 0.044381510094722396}. Best is trial 64 with value: 0.36626111111111115.\n",
      "[I 2025-06-10 07:36:58,617] Trial 65 finished with value: 0.36625688888888897 and parameters: {'LightGBM (gbdt)': 0.4433547380392728, 'LightGBM (goss)': 0.038933305076236796, 'XGBoost': 0.9573595138099897, 'AutoGluon': 0.05611228752064795}. Best is trial 64 with value: 0.36626111111111115.\n",
      "[I 2025-06-10 07:37:01,610] Trial 67 finished with value: 0.36613622222222225 and parameters: {'LightGBM (gbdt)': 0.5501577317401363, 'LightGBM (goss)': 0.0975521066938724, 'XGBoost': 0.9587847683853713, 'AutoGluon': 0.037211045439578545}. Best is trial 64 with value: 0.36626111111111115.\n",
      "[I 2025-06-10 07:37:01,699] Trial 68 finished with value: 0.3657237777777778 and parameters: {'LightGBM (gbdt)': 0.2599834680883652, 'LightGBM (goss)': 0.5790203112173291, 'XGBoost': 0.9697004634246125, 'AutoGluon': 0.11439839626524351}. Best is trial 64 with value: 0.36626111111111115.\n",
      "[I 2025-06-10 07:37:04,273] Trial 69 finished with value: 0.3659017777777778 and parameters: {'LightGBM (gbdt)': 0.43035387368184713, 'LightGBM (goss)': 0.5432772353106361, 'XGBoost': 0.9977055861378363, 'AutoGluon': 0.038889188653069215}. Best is trial 64 with value: 0.36626111111111115.\n",
      "[I 2025-06-10 07:37:05,786] Trial 70 finished with value: 0.3658 and parameters: {'LightGBM (gbdt)': 0.3882209623851457, 'LightGBM (goss)': 0.5996005570033675, 'XGBoost': 0.9988895443911876, 'AutoGluon': 0.11166919176872017}. Best is trial 64 with value: 0.36626111111111115.\n",
      "[I 2025-06-10 07:37:06,857] Trial 72 finished with value: 0.36518066666666665 and parameters: {'LightGBM (gbdt)': 0.43409658892371894, 'LightGBM (goss)': 0.9765627536474696, 'XGBoost': 0.9947097102889029, 'AutoGluon': 0.12495505109694362}. Best is trial 64 with value: 0.36626111111111115.\n",
      "[I 2025-06-10 07:37:07,058] Trial 71 finished with value: 0.36597222222222203 and parameters: {'LightGBM (gbdt)': 0.456744598101892, 'LightGBM (goss)': 0.23973102916839206, 'XGBoost': 0.8262549757951763, 'AutoGluon': 0.11306443174460504}. Best is trial 64 with value: 0.36626111111111115.\n",
      "[I 2025-06-10 07:37:10,112] Trial 73 finished with value: 0.3654855555555557 and parameters: {'LightGBM (gbdt)': 0.4738012981927247, 'LightGBM (goss)': 0.23963618978521367, 'XGBoost': 0.8198378572249987, 'AutoGluon': 0.2609670720141943}. Best is trial 64 with value: 0.36626111111111115.\n",
      "[I 2025-06-10 07:37:10,894] Trial 74 finished with value: 0.3650142222222222 and parameters: {'LightGBM (gbdt)': 0.4760698721371226, 'LightGBM (goss)': 0.9749472837691818, 'XGBoost': 0.8122132471107225, 'AutoGluon': 0.07376664632908266}. Best is trial 64 with value: 0.36626111111111115.\n",
      "[I 2025-06-10 07:37:14,788] Trial 75 finished with value: 0.36617933333333325 and parameters: {'LightGBM (gbdt)': 0.48373832214069146, 'LightGBM (goss)': 0.15046485582264796, 'XGBoost': 0.9448478973782083, 'AutoGluon': 0.0008571272874704841}. Best is trial 64 with value: 0.36626111111111115.\n",
      "[I 2025-06-10 07:37:15,391] Trial 76 finished with value: 0.3661704444444446 and parameters: {'LightGBM (gbdt)': 0.4931740992271238, 'LightGBM (goss)': 0.14749487251640203, 'XGBoost': 0.9343289964056553, 'AutoGluon': 0.0038775912053780406}. Best is trial 64 with value: 0.36626111111111115.\n",
      "[I 2025-06-10 07:37:15,912] Trial 77 finished with value: 0.36621933333333334 and parameters: {'LightGBM (gbdt)': 0.4980419685484451, 'LightGBM (goss)': 0.00034774067838252987, 'XGBoost': 0.9367857368954002, 'AutoGluon': 0.026270718681775766}. Best is trial 64 with value: 0.36626111111111115.\n",
      "[I 2025-06-10 07:37:16,176] Trial 78 finished with value: 0.3662386666666666 and parameters: {'LightGBM (gbdt)': 0.5005306342007153, 'LightGBM (goss)': 0.0032485498452460015, 'XGBoost': 0.9408075720917521, 'AutoGluon': 0.00098206209715955}. Best is trial 64 with value: 0.36626111111111115.\n",
      "[I 2025-06-10 07:37:21,350] Trial 80 finished with value: 0.3648648888888887 and parameters: {'LightGBM (gbdt)': 0.517587739787554, 'LightGBM (goss)': 0.004341905307060696, 'XGBoost': 0.2991793356671953, 'AutoGluon': 0.1583522848937001}. Best is trial 64 with value: 0.36626111111111115.\n",
      "[I 2025-06-10 07:37:21,740] Trial 82 finished with value: 0.3661568888888887 and parameters: {'LightGBM (gbdt)': 0.5237353530165249, 'LightGBM (goss)': 0.004512113525090791, 'XGBoost': 0.7855987571777127, 'AutoGluon': 0.03174344955830834}. Best is trial 64 with value: 0.36626111111111115.\n",
      "[I 2025-06-10 07:37:22,310] Trial 79 finished with value: 0.36614244444444444 and parameters: {'LightGBM (gbdt)': 0.5158346112101612, 'LightGBM (goss)': 0.1497779848919391, 'XGBoost': 0.9440558423218692, 'AutoGluon': 0.002593805016343126}. Best is trial 64 with value: 0.36626111111111115.\n",
      "[I 2025-06-10 07:37:22,517] Trial 81 finished with value: 0.3653806666666667 and parameters: {'LightGBM (gbdt)': 0.5230236195970636, 'LightGBM (goss)': 0.014238916249061734, 'XGBoost': 0.3479413815987685, 'AutoGluon': 0.035517089501642604}. Best is trial 64 with value: 0.36626111111111115.\n",
      "[I 2025-06-10 07:37:27,803] Trial 83 finished with value: 0.3661313333333334 and parameters: {'LightGBM (gbdt)': 0.5655504927935335, 'LightGBM (goss)': 0.02134195106229386, 'XGBoost': 0.7919294454110767, 'AutoGluon': 0.02704736968996772}. Best is trial 64 with value: 0.36626111111111115.\n",
      "[I 2025-06-10 07:37:27,990] Trial 86 finished with value: 0.3662768888888888 and parameters: {'LightGBM (gbdt)': 0.3771649851707889, 'LightGBM (goss)': 0.0528278618282151, 'XGBoost': 0.8896285461729572, 'AutoGluon': 0.04799463761617056}. Best is trial 86 with value: 0.3662768888888888.\n",
      "[I 2025-06-10 07:37:28,232] Trial 85 finished with value: 0.36622311111111117 and parameters: {'LightGBM (gbdt)': 0.41225778346693814, 'LightGBM (goss)': 0.05038679829632866, 'XGBoost': 0.8817037480723302, 'AutoGluon': 0.04470644319072252}. Best is trial 86 with value: 0.3662768888888888.\n",
      "[I 2025-06-10 07:37:28,696] Trial 84 finished with value: 0.3662815555555555 and parameters: {'LightGBM (gbdt)': 0.37471160299546596, 'LightGBM (goss)': 0.04144403614098905, 'XGBoost': 0.9641459218899188, 'AutoGluon': 0.03659060200051742}. Best is trial 84 with value: 0.3662815555555555.\n",
      "[I 2025-06-10 07:37:34,573] Trial 88 finished with value: 0.3662368888888889 and parameters: {'LightGBM (gbdt)': 0.3710449296739798, 'LightGBM (goss)': 0.11506165915932354, 'XGBoost': 0.8886480158025712, 'AutoGluon': 0.0437726629439197}. Best is trial 84 with value: 0.3662815555555555.\n",
      "[I 2025-06-10 07:37:34,788] Trial 89 finished with value: 0.36618266666666666 and parameters: {'LightGBM (gbdt)': 0.3701172723980914, 'LightGBM (goss)': 0.1160103882498832, 'XGBoost': 0.8548073178690284, 'AutoGluon': 0.08156270418233774}. Best is trial 84 with value: 0.3662815555555555.\n",
      "[I 2025-06-10 07:37:35,043] Trial 90 finished with value: 0.3662324444444446 and parameters: {'LightGBM (gbdt)': 0.3752603426043738, 'LightGBM (goss)': 0.10196450963312441, 'XGBoost': 0.8888600900045667, 'AutoGluon': 0.08271465003627734}. Best is trial 84 with value: 0.3662815555555555.\n",
      "[I 2025-06-10 07:37:35,300] Trial 87 finished with value: 0.36620644444444456 and parameters: {'LightGBM (gbdt)': 0.3734468626456894, 'LightGBM (goss)': 0.11246547142016469, 'XGBoost': 0.8831227080708872, 'AutoGluon': 0.08658320858968988}. Best is trial 84 with value: 0.3662815555555555.\n",
      "[I 2025-06-10 07:37:40,768] Trial 93 finished with value: 0.3660911111111111 and parameters: {'LightGBM (gbdt)': 0.3394504162334674, 'LightGBM (goss)': 0.11840715576884556, 'XGBoost': 0.8938820999673437, 'AutoGluon': 0.14956758019315014}. Best is trial 84 with value: 0.3662815555555555.\n",
      "[I 2025-06-10 07:37:41,287] Trial 91 finished with value: 0.36614777777777785 and parameters: {'LightGBM (gbdt)': 0.37008672910750173, 'LightGBM (goss)': 0.12071233658724126, 'XGBoost': 0.842798897461276, 'AutoGluon': 0.09331865456824469}. Best is trial 84 with value: 0.3662815555555555.\n",
      "[I 2025-06-10 07:37:41,553] Trial 94 finished with value: 0.36618622222222225 and parameters: {'LightGBM (gbdt)': 0.3343969729308228, 'LightGBM (goss)': 0.046439568049272885, 'XGBoost': 0.8906575732809805, 'AutoGluon': 0.12940870714495337}. Best is trial 84 with value: 0.3662815555555555.\n",
      "[I 2025-06-10 07:37:41,735] Trial 92 finished with value: 0.36626288888888886 and parameters: {'LightGBM (gbdt)': 0.3351746324345829, 'LightGBM (goss)': 0.04630078950619637, 'XGBoost': 0.8830366794327222, 'AutoGluon': 0.09225568832501177}. Best is trial 84 with value: 0.3662815555555555.\n",
      "[I 2025-06-10 07:37:46,587] Trial 96 finished with value: 0.36625777777777774 and parameters: {'LightGBM (gbdt)': 0.4053608589982993, 'LightGBM (goss)': 0.03697264931820017, 'XGBoost': 0.9773055365921198, 'AutoGluon': 0.06116644503861622}. Best is trial 84 with value: 0.3662815555555555.\n",
      "[I 2025-06-10 07:37:46,993] Trial 97 finished with value: 0.3662695555555557 and parameters: {'LightGBM (gbdt)': 0.41582254251961237, 'LightGBM (goss)': 0.0501647976331586, 'XGBoost': 0.9759286751380869, 'AutoGluon': 0.05449374775054078}. Best is trial 84 with value: 0.3662815555555555.\n",
      "[I 2025-06-10 07:37:47,290] Trial 98 finished with value: 0.36618200000000006 and parameters: {'LightGBM (gbdt)': 0.27352960881830296, 'LightGBM (goss)': 0.19758704628072815, 'XGBoost': 0.9776945688494046, 'AutoGluon': 0.06956357542002058}. Best is trial 84 with value: 0.3662815555555555.\n",
      "[I 2025-06-10 07:37:47,919] Trial 95 finished with value: 0.36623111111111106 and parameters: {'LightGBM (gbdt)': 0.4106471467650643, 'LightGBM (goss)': 0.05559718718236829, 'XGBoost': 0.8352703824774667, 'AutoGluon': 0.05549085367342026}. Best is trial 84 with value: 0.3662815555555555.\n",
      "[I 2025-06-10 07:37:53,000] Trial 101 finished with value: 0.3661784444444444 and parameters: {'LightGBM (gbdt)': 0.41930506379001825, 'LightGBM (goss)': 0.03266687636636593, 'XGBoost': 0.9699590062669469, 'AutoGluon': 0.15275684697744882}. Best is trial 84 with value: 0.3662815555555555.\n",
      "[I 2025-06-10 07:37:53,389] Trial 99 finished with value: 0.366156 and parameters: {'LightGBM (gbdt)': 0.41055659926168464, 'LightGBM (goss)': 0.19293826059789493, 'XGBoost': 0.9738216206357077, 'AutoGluon': 0.06010615250895683}. Best is trial 84 with value: 0.3662815555555555.\n",
      "[I 2025-06-10 07:37:53,797] Trial 102 finished with value: 0.36613822222222214 and parameters: {'LightGBM (gbdt)': 0.44697706200181436, 'LightGBM (goss)': 0.025448476194161462, 'XGBoost': 0.9814311636527271, 'AutoGluon': 0.16181841484836956}. Best is trial 84 with value: 0.3662815555555555.\n",
      "[I 2025-06-10 07:37:53,877] Trial 100 finished with value: 0.3662417777777775 and parameters: {'LightGBM (gbdt)': 0.26984020513897145, 'LightGBM (goss)': 0.03204971170484768, 'XGBoost': 0.9764871001409191, 'AutoGluon': 0.06187194246479913}. Best is trial 84 with value: 0.3662815555555555.\n",
      "[I 2025-06-10 07:38:00,214] Trial 106 finished with value: 0.3662004444444445 and parameters: {'LightGBM (gbdt)': 0.2878776063162255, 'LightGBM (goss)': 0.08373010785055612, 'XGBoost': 0.9214326331338542, 'AutoGluon': 0.016986964145124996}. Best is trial 84 with value: 0.3662815555555555.\n",
      "[I 2025-06-10 07:38:00,509] Trial 103 finished with value: 0.36620155555555545 and parameters: {'LightGBM (gbdt)': 0.4423544433486868, 'LightGBM (goss)': 0.08373556133658419, 'XGBoost': 0.9228388774756081, 'AutoGluon': 0.01709921109604621}. Best is trial 84 with value: 0.3662815555555555.\n",
      "[I 2025-06-10 07:38:00,680] Trial 105 finished with value: 0.36606422222222207 and parameters: {'LightGBM (gbdt)': 0.2853880554152314, 'LightGBM (goss)': 0.0834408511491442, 'XGBoost': 0.5766054569333027, 'AutoGluon': 0.09612939117475543}. Best is trial 84 with value: 0.3662815555555555.\n",
      "[I 2025-06-10 07:38:00,916] Trial 104 finished with value: 0.3661377777777776 and parameters: {'LightGBM (gbdt)': 0.4477524985544992, 'LightGBM (goss)': 0.08346599469874841, 'XGBoost': 0.9208607318833767, 'AutoGluon': 0.09852923849247841}. Best is trial 84 with value: 0.3662815555555555.\n",
      "[I 2025-06-10 07:38:07,055] Trial 107 finished with value: 0.3662124444444444 and parameters: {'LightGBM (gbdt)': 0.2237083274981382, 'LightGBM (goss)': 0.080216625898962, 'XGBoost': 0.9558323688861553, 'AutoGluon': 0.10312317239857016}. Best is trial 84 with value: 0.3662815555555555.\n",
      "[I 2025-06-10 07:38:07,247] Trial 108 finished with value: 0.3663204444444444 and parameters: {'LightGBM (gbdt)': 0.3270719534265858, 'LightGBM (goss)': 0.028261987325920307, 'XGBoost': 0.9467565731113462, 'AutoGluon': 0.09774187635732015}. Best is trial 108 with value: 0.3663204444444444.\n",
      "[I 2025-06-10 07:38:07,545] Trial 109 finished with value: 0.3661655555555555 and parameters: {'LightGBM (gbdt)': 0.24878250159659418, 'LightGBM (goss)': 0.021150002039330762, 'XGBoost': 0.9676807627357807, 'AutoGluon': 0.11698994977356292}. Best is trial 108 with value: 0.3663204444444444.\n",
      "[I 2025-06-10 07:38:07,694] Trial 110 finished with value: 0.36613177777777783 and parameters: {'LightGBM (gbdt)': 0.23196005150331458, 'LightGBM (goss)': 0.02157566368796686, 'XGBoost': 0.9396620116070925, 'AutoGluon': 0.13217350858279364}. Best is trial 108 with value: 0.3663204444444444.\n",
      "[I 2025-06-10 07:38:13,277] Trial 114 finished with value: 0.36625511111111114 and parameters: {'LightGBM (gbdt)': 0.3237784571747441, 'LightGBM (goss)': 0.050999830333388944, 'XGBoost': 0.9986473437960885, 'AutoGluon': 0.057912520871849574}. Best is trial 108 with value: 0.3663204444444444.\n",
      "[I 2025-06-10 07:38:13,449] Trial 111 finished with value: 0.3662453333333335 and parameters: {'LightGBM (gbdt)': 0.3281280857574641, 'LightGBM (goss)': 0.0510902278596727, 'XGBoost': 0.9835152305741508, 'AutoGluon': 0.12825970337032588}. Best is trial 108 with value: 0.3663204444444444.\n",
      "[I 2025-06-10 07:38:13,694] Trial 113 finished with value: 0.3662166666666666 and parameters: {'LightGBM (gbdt)': 0.3347007874999031, 'LightGBM (goss)': 0.050835226850446676, 'XGBoost': 0.9963291492218087, 'AutoGluon': 0.13385671361063592}. Best is trial 108 with value: 0.3663204444444444.\n",
      "[I 2025-06-10 07:38:14,160] Trial 112 finished with value: 0.36587777777777775 and parameters: {'LightGBM (gbdt)': 0.33309054695659895, 'LightGBM (goss)': 0.050266131870807036, 'XGBoost': 0.5431488935688382, 'AutoGluon': 0.12225700618849782}. Best is trial 108 with value: 0.3663204444444444.\n",
      "[I 2025-06-10 07:38:19,464] Trial 117 finished with value: 0.36625355555555555 and parameters: {'LightGBM (gbdt)': 0.3161451637716949, 'LightGBM (goss)': 0.06140777338858376, 'XGBoost': 0.9814142542312557, 'AutoGluon': 0.05752922461253762}. Best is trial 108 with value: 0.3663204444444444.\n",
      "[I 2025-06-10 07:38:19,782] Trial 115 finished with value: 0.36626777777777775 and parameters: {'LightGBM (gbdt)': 0.328598070830591, 'LightGBM (goss)': 0.05745662178044232, 'XGBoost': 0.9839207431924291, 'AutoGluon': 0.058487464867351714}. Best is trial 108 with value: 0.3663204444444444.\n",
      "[I 2025-06-10 07:38:19,954] Trial 116 finished with value: 0.3662726666666665 and parameters: {'LightGBM (gbdt)': 0.3253138309015584, 'LightGBM (goss)': 0.0570934793637156, 'XGBoost': 0.9980872416577009, 'AutoGluon': 0.06587662449339865}. Best is trial 108 with value: 0.3663204444444444.\n",
      "[I 2025-06-10 07:38:20,861] Trial 118 finished with value: 0.3657524444444445 and parameters: {'LightGBM (gbdt)': 0.16423924091995368, 'LightGBM (goss)': 0.6602285201298825, 'XGBoost': 0.9786927674808007, 'AutoGluon': 0.06220828825865305}. Best is trial 108 with value: 0.3663204444444444.\n",
      "[I 2025-06-10 07:38:24,226] Trial 120 finished with value: 0.3662353333333334 and parameters: {'LightGBM (gbdt)': 0.3961317148792099, 'LightGBM (goss)': 0.09554725029027636, 'XGBoost': 0.9503346124202099, 'AutoGluon': 0.053596471848926165}. Best is trial 108 with value: 0.3663204444444444.\n",
      "[I 2025-06-10 07:38:24,503] Trial 119 finished with value: 0.36626133333333327 and parameters: {'LightGBM (gbdt)': 0.3939111004309607, 'LightGBM (goss)': 0.06259692020074402, 'XGBoost': 0.9541269185161506, 'AutoGluon': 0.05535997870459434}. Best is trial 108 with value: 0.3663204444444444.\n",
      "[I 2025-06-10 07:38:25,841] Trial 121 finished with value: 0.3657402222222221 and parameters: {'LightGBM (gbdt)': 0.3493836789771636, 'LightGBM (goss)': 0.6508613830054307, 'XGBoost': 0.953527610111077, 'AutoGluon': 0.05830334081076321}. Best is trial 108 with value: 0.3663204444444444.\n",
      "[I 2025-06-10 07:38:28,760] Trial 122 finished with value: 0.36310177777777786 and parameters: {'LightGBM (gbdt)': 0.34721473976016676, 'LightGBM (goss)': 0.14207410610536625, 'XGBoost': 0.9578169965934139, 'AutoGluon': 0.8952961911874769}. Best is trial 108 with value: 0.3663204444444444.\n",
      "[I 2025-06-10 07:38:30,234] Trial 123 finished with value: 0.36323822222222224 and parameters: {'LightGBM (gbdt)': 0.30397180914319144, 'LightGBM (goss)': 0.1375018917738916, 'XGBoost': 0.9951028735338815, 'AutoGluon': 0.8714673448572673}. Best is trial 108 with value: 0.3663204444444444.\n",
      "[I 2025-06-10 07:38:30,519] Trial 124 finished with value: 0.36628377777777793 and parameters: {'LightGBM (gbdt)': 0.3120126043572084, 'LightGBM (goss)': 0.06703458015170519, 'XGBoost': 0.9956622753664474, 'AutoGluon': 0.08018629897178092}. Best is trial 108 with value: 0.3663204444444444.\n",
      "[I 2025-06-10 07:38:31,101] Trial 125 finished with value: 0.3654826666666667 and parameters: {'LightGBM (gbdt)': 0.3101454431920403, 'LightGBM (goss)': 0.06687675995290333, 'XGBoost': 0.9969324858191151, 'AutoGluon': 0.34606108206546193}. Best is trial 108 with value: 0.3663204444444444.\n",
      "[I 2025-06-10 07:38:36,319] Trial 126 finished with value: 0.3662828888888888 and parameters: {'LightGBM (gbdt)': 0.3163443896235776, 'LightGBM (goss)': 0.06528104902748977, 'XGBoost': 0.999330926091989, 'AutoGluon': 0.08189775992692797}. Best is trial 108 with value: 0.3663204444444444.\n",
      "[I 2025-06-10 07:38:36,734] Trial 127 finished with value: 0.36619977777777774 and parameters: {'LightGBM (gbdt)': 0.294223170364985, 'LightGBM (goss)': 0.07131860607482499, 'XGBoost': 0.9109268294226114, 'AutoGluon': 0.020762119275913017}. Best is trial 108 with value: 0.3663204444444444.\n",
      "[I 2025-06-10 07:38:37,173] Trial 129 finished with value: 0.36625799999999986 and parameters: {'LightGBM (gbdt)': 0.3911773450418621, 'LightGBM (goss)': 0.024335445302272822, 'XGBoost': 0.9082155761378387, 'AutoGluon': 0.08341116255086611}. Best is trial 108 with value: 0.3663204444444444.\n",
      "[I 2025-06-10 07:38:37,482] Trial 128 finished with value: 0.366230888888889 and parameters: {'LightGBM (gbdt)': 0.39323428445722874, 'LightGBM (goss)': 0.06626069137693838, 'XGBoost': 0.9162445163740834, 'AutoGluon': 0.07716415046129185}. Best is trial 108 with value: 0.3663204444444444.\n",
      "[I 2025-06-10 07:38:42,143] Trial 130 finished with value: 0.3662597777777779 and parameters: {'LightGBM (gbdt)': 0.3889582403075344, 'LightGBM (goss)': 0.024816777109424013, 'XGBoost': 0.9070023896183366, 'AutoGluon': 0.08817726643870746}. Best is trial 108 with value: 0.3663204444444444.\n",
      "[I 2025-06-10 07:38:42,203] Trial 131 finished with value: 0.3662720000000001 and parameters: {'LightGBM (gbdt)': 0.3936298150448603, 'LightGBM (goss)': 0.023594476816448155, 'XGBoost': 0.937091343787245, 'AutoGluon': 0.08168676883982413}. Best is trial 108 with value: 0.3663204444444444.\n",
      "[I 2025-06-10 07:38:43,150] Trial 133 finished with value: 0.36628199999999983 and parameters: {'LightGBM (gbdt)': 0.357511310784164, 'LightGBM (goss)': 0.022817627719763797, 'XGBoost': 0.9313418677148372, 'AutoGluon': 0.08338628460376746}. Best is trial 108 with value: 0.3663204444444444.\n",
      "[I 2025-06-10 07:38:43,282] Trial 132 finished with value: 0.3662251111111111 and parameters: {'LightGBM (gbdt)': 0.38712977230806933, 'LightGBM (goss)': 0.018728232890757833, 'XGBoost': 0.8602897783010606, 'AutoGluon': 0.08431566718083022}. Best is trial 108 with value: 0.3663204444444444.\n",
      "[I 2025-06-10 07:38:48,799] Trial 134 finished with value: 0.36626133333333344 and parameters: {'LightGBM (gbdt)': 0.3528855802778223, 'LightGBM (goss)': 0.012228548513923604, 'XGBoost': 0.8593048864167139, 'AutoGluon': 0.09004997634920062}. Best is trial 108 with value: 0.3663204444444444.\n",
      "[I 2025-06-10 07:38:49,145] Trial 136 finished with value: 0.366130888888889 and parameters: {'LightGBM (gbdt)': 0.34762038677191076, 'LightGBM (goss)': 0.0008740763245965871, 'XGBoost': 0.9344380917300636, 'AutoGluon': 0.17309445630757425}. Best is trial 108 with value: 0.3663204444444444.\n",
      "[I 2025-06-10 07:38:49,557] Trial 135 finished with value: 0.36622533333333335 and parameters: {'LightGBM (gbdt)': 0.42594474834680696, 'LightGBM (goss)': 0.02178512742075277, 'XGBoost': 0.8580646727551089, 'AutoGluon': 0.07975439259064968}. Best is trial 108 with value: 0.3663204444444444.\n",
      "[I 2025-06-10 07:38:50,806] Trial 137 finished with value: 0.3662053333333333 and parameters: {'LightGBM (gbdt)': 0.35507904687340025, 'LightGBM (goss)': 0.09781684087914082, 'XGBoost': 0.9279305135590399, 'AutoGluon': 0.033761093993163}. Best is trial 108 with value: 0.3663204444444444.\n",
      "[I 2025-06-10 07:38:54,879] Trial 138 finished with value: 0.3662095555555557 and parameters: {'LightGBM (gbdt)': 0.2550295459719698, 'LightGBM (goss)': 0.11134110509090483, 'XGBoost': 0.9318503028562162, 'AutoGluon': 0.030569949179461}. Best is trial 108 with value: 0.3663204444444444.\n",
      "[I 2025-06-10 07:38:55,513] Trial 140 finished with value: 0.3655737777777778 and parameters: {'LightGBM (gbdt)': 0.3571388559701041, 'LightGBM (goss)': 0.7818678334292366, 'XGBoost': 0.9317812609427376, 'AutoGluon': 0.031082333715487867}. Best is trial 108 with value: 0.3663204444444444.\n",
      "[I 2025-06-10 07:38:55,741] Trial 139 finished with value: 0.36618888888888906 and parameters: {'LightGBM (gbdt)': 0.35919006750335997, 'LightGBM (goss)': 0.1011360661749535, 'XGBoost': 0.9414913758577089, 'AutoGluon': 0.032290931192357285}. Best is trial 108 with value: 0.3663204444444444.\n",
      "[I 2025-06-10 07:38:56,462] Trial 141 finished with value: 0.36510777777777775 and parameters: {'LightGBM (gbdt)': 0.2866229158172155, 'LightGBM (goss)': 0.7390059130359735, 'XGBoost': 0.6172615648780908, 'AutoGluon': 0.025117533861202704}. Best is trial 108 with value: 0.3663204444444444.\n",
      "[I 2025-06-10 07:39:01,278] Trial 143 finished with value: 0.36624977777777773 and parameters: {'LightGBM (gbdt)': 0.3180286233196736, 'LightGBM (goss)': 0.0010040586936578, 'XGBoost': 0.9014052716631089, 'AutoGluon': 0.11115727631306514}. Best is trial 108 with value: 0.3663204444444444.\n",
      "[I 2025-06-10 07:39:01,916] Trial 144 finished with value: 0.36626444444444434 and parameters: {'LightGBM (gbdt)': 0.289838588747236, 'LightGBM (goss)': 0.039502905695183145, 'XGBoost': 0.8936219857135074, 'AutoGluon': 0.11407667308077113}. Best is trial 108 with value: 0.3663204444444444.\n",
      "[I 2025-06-10 07:39:02,192] Trial 142 finished with value: 0.3646842222222222 and parameters: {'LightGBM (gbdt)': 0.28858415492311934, 'LightGBM (goss)': 0.7885785440618722, 'XGBoost': 0.9571275405161351, 'AutoGluon': 0.4982406511382099}. Best is trial 108 with value: 0.3663204444444444.\n",
      "[I 2025-06-10 07:39:03,648] Trial 145 finished with value: 0.3662533333333333 and parameters: {'LightGBM (gbdt)': 0.3229898601359217, 'LightGBM (goss)': 0.0007500186050943825, 'XGBoost': 0.8983220569685657, 'AutoGluon': 0.10629068080926504}. Best is trial 108 with value: 0.3663204444444444.\n",
      "[I 2025-06-10 07:39:07,261] Trial 146 finished with value: 0.36488466666666675 and parameters: {'LightGBM (gbdt)': 0.3766192208300149, 'LightGBM (goss)': 0.03407613773329444, 'XGBoost': 0.9576032667440179, 'AutoGluon': 0.49263389963114745}. Best is trial 108 with value: 0.3663204444444444.\n",
      "[I 2025-06-10 07:39:08,486] Trial 148 finished with value: 0.36612199999999995 and parameters: {'LightGBM (gbdt)': 0.24541368699216942, 'LightGBM (goss)': 0.06575726819959117, 'XGBoost': 0.8808095644062237, 'AutoGluon': 0.14898096982778897}. Best is trial 108 with value: 0.3663204444444444.\n",
      "[I 2025-06-10 07:39:08,553] Trial 147 finished with value: 0.36595399999999995 and parameters: {'LightGBM (gbdt)': 0.27246015246518823, 'LightGBM (goss)': 0.3832765955394095, 'XGBoost': 0.960429323941458, 'AutoGluon': 0.14187679066980458}. Best is trial 108 with value: 0.3663204444444444.\n",
      "[I 2025-06-10 07:39:11,918] Trial 149 finished with value: 0.36619288888888873 and parameters: {'LightGBM (gbdt)': 0.2357105693453755, 'LightGBM (goss)': 0.07077978673673427, 'XGBoost': 0.9592473815357259, 'AutoGluon': 0.14687564985884816}. Best is trial 108 with value: 0.3663204444444444.\n",
      "[I 2025-06-10 07:39:13,020] Trial 151 finished with value: 0.36618333333333325 and parameters: {'LightGBM (gbdt)': 0.4193321245755592, 'LightGBM (goss)': 0.0814141308702073, 'XGBoost': 0.9785716532489663, 'AutoGluon': 0.11519442560879181}. Best is trial 108 with value: 0.3663204444444444.\n",
      "[I 2025-06-10 07:39:13,554] Trial 150 finished with value: 0.36608622222222226 and parameters: {'LightGBM (gbdt)': 0.42136975266246146, 'LightGBM (goss)': 0.07613841191044032, 'XGBoost': 0.8713616959322698, 'AutoGluon': 0.13942290979477717}. Best is trial 108 with value: 0.3663204444444444.\n",
      "[I 2025-06-10 07:39:13,694] Trial 152 finished with value: 0.365819111111111 and parameters: {'LightGBM (gbdt)': 0.04618232517738252, 'LightGBM (goss)': 0.07384795157819213, 'XGBoost': 0.8681981480879253, 'AutoGluon': 0.11410431397113913}. Best is trial 108 with value: 0.3663204444444444.\n",
      "[I 2025-06-10 07:39:19,769] Trial 153 finished with value: 0.3661844444444444 and parameters: {'LightGBM (gbdt)': 0.4169592343993042, 'LightGBM (goss)': 0.04033698933078703, 'XGBoost': 0.8675858656931493, 'AutoGluon': 0.09620116128114567}. Best is trial 108 with value: 0.3663204444444444.\n",
      "[I 2025-06-10 07:39:20,226] Trial 155 finished with value: 0.3662566666666667 and parameters: {'LightGBM (gbdt)': 0.34133050342256044, 'LightGBM (goss)': 0.041550494677814256, 'XGBoost': 0.9046012883659558, 'AutoGluon': 0.09500853496032435}. Best is trial 108 with value: 0.3663204444444444.\n",
      "[I 2025-06-10 07:39:20,430] Trial 154 finished with value: 0.36502688888888885 and parameters: {'LightGBM (gbdt)': 0.34075774538230963, 'LightGBM (goss)': 0.03707724653233058, 'XGBoost': 0.2168780687934858, 'AutoGluon': 0.09105063068845645}. Best is trial 108 with value: 0.3663204444444444.\n",
      "[I 2025-06-10 07:39:20,494] Trial 156 finished with value: 0.36625422222222226 and parameters: {'LightGBM (gbdt)': 0.3352830846020665, 'LightGBM (goss)': 0.03514390260584624, 'XGBoost': 0.9999756424778496, 'AutoGluon': 0.08438979034449627}. Best is trial 108 with value: 0.3663204444444444.\n",
      "[I 2025-06-10 07:39:25,708] Trial 159 finished with value: 0.3662493333333333 and parameters: {'LightGBM (gbdt)': 0.37490054933885403, 'LightGBM (goss)': 0.024569793522574844, 'XGBoost': 0.838355970695936, 'AutoGluon': 0.07197927379086282}. Best is trial 108 with value: 0.3663204444444444.\n",
      "[I 2025-06-10 07:39:25,976] Trial 157 finished with value: 0.3662655555555557 and parameters: {'LightGBM (gbdt)': 0.3378548185970091, 'LightGBM (goss)': 0.02731265466724021, 'XGBoost': 0.9024478871645056, 'AutoGluon': 0.0828121824684313}. Best is trial 108 with value: 0.3663204444444444.\n",
      "[I 2025-06-10 07:39:26,212] Trial 158 finished with value: 0.36631022222222215 and parameters: {'LightGBM (gbdt)': 0.37299780259726195, 'LightGBM (goss)': 0.012656225671683402, 'XGBoost': 0.9997616481017475, 'AutoGluon': 0.07160207210396163}. Best is trial 108 with value: 0.3663204444444444.\n",
      "[I 2025-06-10 07:39:26,383] Trial 160 finished with value: 0.366282 and parameters: {'LightGBM (gbdt)': 0.38202192812298696, 'LightGBM (goss)': 0.024374140400009403, 'XGBoost': 0.923158618052059, 'AutoGluon': 0.04635702711294746}. Best is trial 108 with value: 0.3663204444444444.\n",
      "[I 2025-06-10 07:39:31,518] Trial 163 finished with value: 0.3662322222222222 and parameters: {'LightGBM (gbdt)': 0.30730509650174276, 'LightGBM (goss)': 0.05836467034549643, 'XGBoost': 0.7320005319969771, 'AutoGluon': 0.04710793902504415}. Best is trial 108 with value: 0.3663204444444444.\n",
      "[I 2025-06-10 07:39:32,307] Trial 162 finished with value: 0.3660515555555557 and parameters: {'LightGBM (gbdt)': 0.2970054325334145, 'LightGBM (goss)': 0.05543728097507357, 'XGBoost': 0.4578322094854048, 'AutoGluon': 0.048477771387602286}. Best is trial 108 with value: 0.3663204444444444.\n",
      "[I 2025-06-10 07:39:32,508] Trial 164 finished with value: 0.366284 and parameters: {'LightGBM (gbdt)': 0.30068100797276226, 'LightGBM (goss)': 0.015046079232559356, 'XGBoost': 0.9762334164766244, 'AutoGluon': 0.043347383098932615}. Best is trial 108 with value: 0.3663204444444444.\n",
      "[I 2025-06-10 07:39:32,760] Trial 161 finished with value: 0.36631555555555567 and parameters: {'LightGBM (gbdt)': 0.30419749918788297, 'LightGBM (goss)': 0.017178641607506637, 'XGBoost': 0.9218119943140026, 'AutoGluon': 0.04453503988603394}. Best is trial 108 with value: 0.3663204444444444.\n",
      "[I 2025-06-10 07:39:39,712] Trial 165 finished with value: 0.3663080000000001 and parameters: {'LightGBM (gbdt)': 0.3659912108588353, 'LightGBM (goss)': 0.01844800325072603, 'XGBoost': 0.9394995948909594, 'AutoGluon': 0.07122782919751988}. Best is trial 108 with value: 0.3663204444444444.\n",
      "[I 2025-06-10 07:39:39,827] Trial 166 finished with value: 0.3663317777777778 and parameters: {'LightGBM (gbdt)': 0.36115725263997056, 'LightGBM (goss)': 0.022214076606147833, 'XGBoost': 0.9756485414859861, 'AutoGluon': 0.07018102279077212}. Best is trial 166 with value: 0.3663317777777778.\n",
      "[I 2025-06-10 07:39:39,980] Trial 167 finished with value: 0.36628177777777776 and parameters: {'LightGBM (gbdt)': 0.36160759737568593, 'LightGBM (goss)': 0.01694626457369212, 'XGBoost': 0.978136916474821, 'AutoGluon': 0.004454553804967343}. Best is trial 166 with value: 0.3663317777777778.\n",
      "[I 2025-06-10 07:39:40,060] Trial 168 finished with value: 0.3661744444444444 and parameters: {'LightGBM (gbdt)': 0.2642646051885264, 'LightGBM (goss)': 0.015552368738029676, 'XGBoost': 0.9736020678028107, 'AutoGluon': 0.010334115216684231}. Best is trial 166 with value: 0.3663317777777778.\n",
      "[I 2025-06-10 07:39:45,870] Trial 170 finished with value: 0.3663117777777777 and parameters: {'LightGBM (gbdt)': 0.3629786245400806, 'LightGBM (goss)': 0.0008590945497611788, 'XGBoost': 0.9801637246757784, 'AutoGluon': 0.02492208912984882}. Best is trial 166 with value: 0.3663317777777778.\n",
      "[I 2025-06-10 07:39:46,207] Trial 169 finished with value: 0.3663008888888888 and parameters: {'LightGBM (gbdt)': 0.3695455036639283, 'LightGBM (goss)': 0.009161281404486849, 'XGBoost': 0.98144970521132, 'AutoGluon': 0.0223093620780308}. Best is trial 166 with value: 0.3663317777777778.\n",
      "[I 2025-06-10 07:39:46,343] Trial 171 finished with value: 0.3662686666666666 and parameters: {'LightGBM (gbdt)': 0.3634912690093539, 'LightGBM (goss)': 0.013281358924077377, 'XGBoost': 0.9828393235810108, 'AutoGluon': 0.009748069952100313}. Best is trial 166 with value: 0.3663317777777778.\n",
      "[I 2025-06-10 07:39:46,715] Trial 172 finished with value: 0.3662637777777776 and parameters: {'LightGBM (gbdt)': 0.3614858957333313, 'LightGBM (goss)': 0.004164497119855334, 'XGBoost': 0.999092674864674, 'AutoGluon': 0.0019505202989839043}. Best is trial 166 with value: 0.3663317777777778.\n",
      "[I 2025-06-10 07:39:52,181] Trial 173 finished with value: 0.3662764444444445 and parameters: {'LightGBM (gbdt)': 0.3725071041383616, 'LightGBM (goss)': 0.0035951570847358918, 'XGBoost': 0.9738632081347122, 'AutoGluon': 0.0028455469008246415}. Best is trial 166 with value: 0.3663317777777778.\n",
      "[I 2025-06-10 07:39:52,419] Trial 175 finished with value: 0.3662837777777778 and parameters: {'LightGBM (gbdt)': 0.38071758358933006, 'LightGBM (goss)': 0.013581016196764096, 'XGBoost': 0.997340862646831, 'AutoGluon': 0.0007641040681386005}. Best is trial 166 with value: 0.3663317777777778.\n",
      "[I 2025-06-10 07:39:52,616] Trial 174 finished with value: 0.3662600000000001 and parameters: {'LightGBM (gbdt)': 0.36895532293626265, 'LightGBM (goss)': 0.0055679203519464, 'XGBoost': 0.9976942726718524, 'AutoGluon': 0.00012837686863940295}. Best is trial 166 with value: 0.3663317777777778.\n",
      "[I 2025-06-10 07:39:52,785] Trial 176 finished with value: 0.3662973333333334 and parameters: {'LightGBM (gbdt)': 0.3782343576533989, 'LightGBM (goss)': 6.596327216162878e-05, 'XGBoost': 0.9440770724518961, 'AutoGluon': 0.02185905503067578}. Best is trial 166 with value: 0.3663317777777778.\n",
      "[I 2025-06-10 07:39:57,633] Trial 179 finished with value: 0.36629422222222224 and parameters: {'LightGBM (gbdt)': 0.3155473747600007, 'LightGBM (goss)': 0.0015360108890563155, 'XGBoost': 0.9716617143637019, 'AutoGluon': 0.02407997517845603}. Best is trial 166 with value: 0.3663317777777778.\n",
      "[I 2025-06-10 07:39:58,324] Trial 178 finished with value: 0.3663048888888889 and parameters: {'LightGBM (gbdt)': 0.3756658913740559, 'LightGBM (goss)': 0.007758597311412767, 'XGBoost': 0.968404936602729, 'AutoGluon': 0.02100905147113184}. Best is trial 166 with value: 0.3663317777777778.\n",
      "[I 2025-06-10 07:39:58,399] Trial 177 finished with value: 0.3663086666666667 and parameters: {'LightGBM (gbdt)': 0.3781500766587844, 'LightGBM (goss)': 0.001168385916924905, 'XGBoost': 0.9714797995114371, 'AutoGluon': 0.02830474781505625}. Best is trial 166 with value: 0.3663317777777778.\n",
      "[I 2025-06-10 07:39:58,620] Trial 180 finished with value: 0.36631822222222227 and parameters: {'LightGBM (gbdt)': 0.37872388505643884, 'LightGBM (goss)': 0.01686764117390794, 'XGBoost': 0.9687615012266256, 'AutoGluon': 0.03982534814907684}. Best is trial 166 with value: 0.3663317777777778.\n",
      "[I 2025-06-10 07:40:03,652] Trial 181 finished with value: 0.3662631111111111 and parameters: {'LightGBM (gbdt)': 0.3096409600562592, 'LightGBM (goss)': 0.002415231479188925, 'XGBoost': 0.9426683001403332, 'AutoGluon': 0.03188452647048199}. Best is trial 166 with value: 0.3663317777777778.\n",
      "[I 2025-06-10 07:40:04,756] Trial 184 finished with value: 0.36629977777777767 and parameters: {'LightGBM (gbdt)': 0.31263645820685027, 'LightGBM (goss)': 0.0016902664984584058, 'XGBoost': 0.9430377497263616, 'AutoGluon': 0.024498249925271654}. Best is trial 166 with value: 0.3663317777777778.\n",
      "[I 2025-06-10 07:40:04,826] Trial 182 finished with value: 0.36628800000000006 and parameters: {'LightGBM (gbdt)': 0.3075663290248415, 'LightGBM (goss)': 0.018059872936875915, 'XGBoost': 0.9452849569530726, 'AutoGluon': 0.024509645538412755}. Best is trial 166 with value: 0.3663317777777778.\n",
      "[I 2025-06-10 07:40:05,050] Trial 183 finished with value: 0.36629288888888883 and parameters: {'LightGBM (gbdt)': 0.31145269136171244, 'LightGBM (goss)': 0.0013425286688724814, 'XGBoost': 0.9452068193639327, 'AutoGluon': 0.021092351708858606}. Best is trial 166 with value: 0.3663317777777778.\n",
      "[I 2025-06-10 07:40:10,861] Trial 185 finished with value: 0.3662395555555556 and parameters: {'LightGBM (gbdt)': 0.4041666236299237, 'LightGBM (goss)': 0.022163883592403053, 'XGBoost': 0.9678142084319658, 'AutoGluon': 0.019027442075336576}. Best is trial 166 with value: 0.3663317777777778.\n",
      "[I 2025-06-10 07:40:11,024] Trial 188 finished with value: 0.36629911111111124 and parameters: {'LightGBM (gbdt)': 0.3125795022425265, 'LightGBM (goss)': 0.0035775556012551217, 'XGBoost': 0.9632762811565174, 'AutoGluon': 0.023412760784648594}. Best is trial 166 with value: 0.3663317777777778.\n",
      "[I 2025-06-10 07:40:11,622] Trial 187 finished with value: 0.3661111111111112 and parameters: {'LightGBM (gbdt)': 0.20733626240559397, 'LightGBM (goss)': 0.020430277821276543, 'XGBoost': 0.9522921142585242, 'AutoGluon': 0.02101353420156575}. Best is trial 166 with value: 0.3663317777777778.\n",
      "[I 2025-06-10 07:40:11,826] Trial 186 finished with value: 0.36628688888888883 and parameters: {'LightGBM (gbdt)': 0.3162783020113943, 'LightGBM (goss)': 0.024763400437900696, 'XGBoost': 0.963554115973241, 'AutoGluon': 0.023461080038963716}. Best is trial 166 with value: 0.3663317777777778.\n",
      "[I 2025-06-10 07:40:15,913] Trial 190 finished with value: 0.3662304444444444 and parameters: {'LightGBM (gbdt)': 0.2702171795592147, 'LightGBM (goss)': 0.0007592158786456204, 'XGBoost': 0.9476906999839559, 'AutoGluon': 0.022282419954298003}. Best is trial 166 with value: 0.3663317777777778.\n",
      "[I 2025-06-10 07:40:17,197] Trial 192 finished with value: 0.36627177777777775 and parameters: {'LightGBM (gbdt)': 0.26953664518436954, 'LightGBM (goss)': 0.006458909583435178, 'XGBoost': 0.9478017075116782, 'AutoGluon': 0.030186053204895126}. Best is trial 166 with value: 0.3663317777777778.\n",
      "[I 2025-06-10 07:40:17,660] Trial 189 finished with value: 0.36625311111111125 and parameters: {'LightGBM (gbdt)': 0.2816965443146398, 'LightGBM (goss)': 0.004300009089261985, 'XGBoost': 0.9474393722766814, 'AutoGluon': 0.022706309811386025}. Best is trial 166 with value: 0.3663317777777778.\n",
      "[I 2025-06-10 07:40:17,716] Trial 191 finished with value: 0.3662422222222222 and parameters: {'LightGBM (gbdt)': 0.26914187714089755, 'LightGBM (goss)': 0.004221164494934666, 'XGBoost': 0.9464116398408076, 'AutoGluon': 0.026116067348096163}. Best is trial 166 with value: 0.3663317777777778.\n",
      "[I 2025-06-10 07:40:22,894] Trial 195 finished with value: 0.36628066666666653 and parameters: {'LightGBM (gbdt)': 0.3024185101161343, 'LightGBM (goss)': 0.00019729200461887295, 'XGBoost': 0.974557726757048, 'AutoGluon': 0.04088115160503278}. Best is trial 166 with value: 0.3663317777777778.\n",
      "[I 2025-06-10 07:40:23,398] Trial 194 finished with value: 0.366286 and parameters: {'LightGBM (gbdt)': 0.30006484343324646, 'LightGBM (goss)': 0.034997100734790176, 'XGBoost': 0.9694669767457385, 'AutoGluon': 0.03752720950390686}. Best is trial 166 with value: 0.3663317777777778.\n",
      "[I 2025-06-10 07:40:23,579] Trial 193 finished with value: 0.3663028888888889 and parameters: {'LightGBM (gbdt)': 0.29890364100070277, 'LightGBM (goss)': 0.0016051912852360925, 'XGBoost': 0.9410176809980398, 'AutoGluon': 0.03708894479063111}. Best is trial 166 with value: 0.3663317777777778.\n",
      "[I 2025-06-10 07:40:23,912] Trial 196 finished with value: 0.36334355555555553 and parameters: {'LightGBM (gbdt)': 0.30622029190813066, 'LightGBM (goss)': 0.03616941968565608, 'XGBoost': 0.9723064772577964, 'AutoGluon': 0.800120178583633}. Best is trial 166 with value: 0.3663317777777778.\n",
      "[I 2025-06-10 07:40:29,923] Trial 199 finished with value: 0.36627911111111117 and parameters: {'LightGBM (gbdt)': 0.31878121562119305, 'LightGBM (goss)': 0.03733585645328159, 'XGBoost': 0.9248906314859648, 'AutoGluon': 0.04215196615935312}. Best is trial 166 with value: 0.3663317777777778.\n",
      "[I 2025-06-10 07:40:30,361] Trial 198 finished with value: 0.36627933333333323 and parameters: {'LightGBM (gbdt)': 0.3189471279549365, 'LightGBM (goss)': 0.034200173415771605, 'XGBoost': 0.9251979882122549, 'AutoGluon': 0.04237663151243654}. Best is trial 166 with value: 0.3663317777777778.\n",
      "[I 2025-06-10 07:40:30,368] Trial 197 finished with value: 0.36630466666666683 and parameters: {'LightGBM (gbdt)': 0.30862043798412103, 'LightGBM (goss)': 0.030924150954812143, 'XGBoost': 0.973559320503661, 'AutoGluon': 0.03708043594353651}. Best is trial 166 with value: 0.3663317777777778.\n",
      "[I 2025-06-10 07:40:30,566] Trial 200 finished with value: 0.3628908888888888 and parameters: {'LightGBM (gbdt)': 0.32519794039391403, 'LightGBM (goss)': 0.03436295820115369, 'XGBoost': 4.973847437705903e-05, 'AutoGluon': 0.042475086977755996}. Best is trial 166 with value: 0.3663317777777778.\n",
      "[I 2025-06-10 07:40:36,094] Trial 203 finished with value: 0.3662655555555554 and parameters: {'LightGBM (gbdt)': 0.33984687709777445, 'LightGBM (goss)': 0.039194266399872515, 'XGBoost': 0.9640112211921411, 'AutoGluon': 0.02007300288919324}. Best is trial 166 with value: 0.3663317777777778.\n",
      "[I 2025-06-10 07:40:36,454] Trial 202 finished with value: 0.3662540000000001 and parameters: {'LightGBM (gbdt)': 0.3415906984583076, 'LightGBM (goss)': 0.039191286448943, 'XGBoost': 0.9616244311819336, 'AutoGluon': 0.01894831832582407}. Best is trial 166 with value: 0.3663317777777778.\n",
      "[I 2025-06-10 07:40:36,825] Trial 204 finished with value: 0.36626111111111115 and parameters: {'LightGBM (gbdt)': 0.2863999437622494, 'LightGBM (goss)': 0.025307365104634747, 'XGBoost': 0.9644208904761091, 'AutoGluon': 0.020032157834797927}. Best is trial 166 with value: 0.3663317777777778.\n",
      "[I 2025-06-10 07:40:37,140] Trial 201 finished with value: 0.36630222222222225 and parameters: {'LightGBM (gbdt)': 0.34266086457971473, 'LightGBM (goss)': 0.022581686032581826, 'XGBoost': 0.9648973242584605, 'AutoGluon': 0.024732809598598186}. Best is trial 166 with value: 0.3663317777777778.\n",
      "[I 2025-06-10 07:40:42,520] Trial 207 finished with value: 0.36626444444444456 and parameters: {'LightGBM (gbdt)': 0.2953376562473114, 'LightGBM (goss)': 0.021193297909395115, 'XGBoost': 0.9294585177070749, 'AutoGluon': 0.06398502054754471}. Best is trial 166 with value: 0.3663317777777778.\n",
      "[I 2025-06-10 07:40:42,812] Trial 208 finished with value: 0.36632999999999993 and parameters: {'LightGBM (gbdt)': 0.3464556377929115, 'LightGBM (goss)': 0.02183403777898506, 'XGBoost': 0.930833806965943, 'AutoGluon': 0.061258954877978694}. Best is trial 166 with value: 0.3663317777777778.\n",
      "[I 2025-06-10 07:40:43,681] Trial 205 finished with value: 0.36625577777777774 and parameters: {'LightGBM (gbdt)': 0.2897502451021989, 'LightGBM (goss)': 0.019634626057763324, 'XGBoost': 0.9651921025360986, 'AutoGluon': 0.01928601719356883}. Best is trial 166 with value: 0.3663317777777778.\n",
      "[I 2025-06-10 07:40:43,837] Trial 206 finished with value: 0.3662757777777778 and parameters: {'LightGBM (gbdt)': 0.28891374753492294, 'LightGBM (goss)': 0.02392022101315837, 'XGBoost': 0.9334150668627487, 'AutoGluon': 0.060557698952498615}. Best is trial 166 with value: 0.3663317777777778.\n",
      "[I 2025-06-10 07:40:49,537] Trial 211 finished with value: 0.3663 and parameters: {'LightGBM (gbdt)': 0.35192789607175556, 'LightGBM (goss)': 0.004745049619183381, 'XGBoost': 0.9379732127786791, 'AutoGluon': 0.06388072514594853}. Best is trial 166 with value: 0.3663317777777778.\n",
      "[I 2025-06-10 07:40:49,744] Trial 210 finished with value: 0.36627822222222217 and parameters: {'LightGBM (gbdt)': 0.34522660369485214, 'LightGBM (goss)': 0.0016476818857298486, 'XGBoost': 0.9418776923784802, 'AutoGluon': 0.06430966271150568}. Best is trial 166 with value: 0.3663317777777778.\n",
      "[I 2025-06-10 07:40:50,088] Trial 209 finished with value: 0.3662797777777779 and parameters: {'LightGBM (gbdt)': 0.3502020229015087, 'LightGBM (goss)': 0.0007128319637054632, 'XGBoost': 0.9398811153139165, 'AutoGluon': 0.058059181031192564}. Best is trial 166 with value: 0.3663317777777778.\n",
      "[I 2025-06-10 07:40:50,223] Trial 212 finished with value: 0.3662939999999999 and parameters: {'LightGBM (gbdt)': 0.34513687858428577, 'LightGBM (goss)': 0.0009587928339151244, 'XGBoost': 0.9193659526161369, 'AutoGluon': 0.06543194274653236}. Best is trial 166 with value: 0.3663317777777778.\n",
      "[I 2025-06-10 07:40:55,568] Trial 216 finished with value: 0.36624688888888884 and parameters: {'LightGBM (gbdt)': 0.33274045380387074, 'LightGBM (goss)': 0.04986071509683093, 'XGBoost': 0.9168854594795165, 'AutoGluon': 0.04113507858274805}. Best is trial 166 with value: 0.3663317777777778.\n",
      "[I 2025-06-10 07:40:56,057] Trial 215 finished with value: 0.36626199999999987 and parameters: {'LightGBM (gbdt)': 0.3362281990986512, 'LightGBM (goss)': 0.0010206876718054474, 'XGBoost': 0.9159284692841748, 'AutoGluon': 0.0007005184068022349}. Best is trial 166 with value: 0.3663317777777778.\n",
      "[I 2025-06-10 07:40:56,057] Trial 214 finished with value: 0.3662891111111112 and parameters: {'LightGBM (gbdt)': 0.35275524785862544, 'LightGBM (goss)': 0.0013269676121767824, 'XGBoost': 0.9105255712442483, 'AutoGluon': 0.04546798998506476}. Best is trial 166 with value: 0.3663317777777778.\n",
      "[I 2025-06-10 07:40:56,686] Trial 213 finished with value: 0.3662968888888889 and parameters: {'LightGBM (gbdt)': 0.34563927745879564, 'LightGBM (goss)': 0.0005375911478492115, 'XGBoost': 0.9153301998752605, 'AutoGluon': 0.06600711236382707}. Best is trial 166 with value: 0.3663317777777778.\n",
      "[I 2025-06-10 07:41:01,333] Trial 217 finished with value: 0.3662293333333334 and parameters: {'LightGBM (gbdt)': 0.35437694281409243, 'LightGBM (goss)': 0.04890980214572907, 'XGBoost': 0.9147542475054685, 'AutoGluon': 0.000831892352012524}. Best is trial 166 with value: 0.3663317777777778.\n",
      "[I 2025-06-10 07:41:01,676] Trial 218 finished with value: 0.3622444444444444 and parameters: {'LightGBM (gbdt)': 0.35590890417868265, 'LightGBM (goss)': 0.0008593583488704597, 'XGBoost': 0.913019849798215, 'AutoGluon': 0.9723388295765348}. Best is trial 166 with value: 0.3663317777777778.\n",
      "[I 2025-06-10 07:41:01,925] Trial 220 finished with value: 0.36623866666666666 and parameters: {'LightGBM (gbdt)': 0.3936994800383736, 'LightGBM (goss)': 0.05023455241026349, 'XGBoost': 0.9200299373102301, 'AutoGluon': 0.07246855492563015}. Best is trial 166 with value: 0.3663317777777778.\n",
      "[I 2025-06-10 07:41:02,176] Trial 219 finished with value: 0.36631333333333327 and parameters: {'LightGBM (gbdt)': 0.3588329309518625, 'LightGBM (goss)': 0.00047710942075421405, 'XGBoost': 0.9213216354087924, 'AutoGluon': 0.06734713617481826}. Best is trial 166 with value: 0.3663317777777778.\n",
      "[I 2025-06-10 07:41:07,926] Trial 222 finished with value: 0.3640531111111111 and parameters: {'LightGBM (gbdt)': 0.3880426147030438, 'LightGBM (goss)': 0.04826648594516129, 'XGBoost': 0.9374180070438669, 'AutoGluon': 0.6622983276548706}. Best is trial 166 with value: 0.3663317777777778.\n",
      "[I 2025-06-10 07:41:08,359] Trial 223 finished with value: 0.36410466666666674 and parameters: {'LightGBM (gbdt)': 0.3811930351925964, 'LightGBM (goss)': 0.0193296934318229, 'XGBoost': 0.9441925814620344, 'AutoGluon': 0.6516825851562282}. Best is trial 166 with value: 0.3663317777777778.\n",
      "[I 2025-06-10 07:41:08,433] Trial 224 finished with value: 0.36627977777777776 and parameters: {'LightGBM (gbdt)': 0.37460749263318815, 'LightGBM (goss)': 0.021969240377310472, 'XGBoost': 0.9418320828144879, 'AutoGluon': 0.0614037539778887}. Best is trial 166 with value: 0.3663317777777778.\n",
      "[I 2025-06-10 07:41:08,674] Trial 221 finished with value: 0.36625955555555545 and parameters: {'LightGBM (gbdt)': 0.39214290902449733, 'LightGBM (goss)': 0.022406788775138204, 'XGBoost': 0.9348627093658071, 'AutoGluon': 0.06846483191306688}. Best is trial 166 with value: 0.3663317777777778.\n",
      "[I 2025-06-10 07:41:14,716] Trial 226 finished with value: 0.3663366666666666 and parameters: {'LightGBM (gbdt)': 0.36600730139260057, 'LightGBM (goss)': 0.019649582763227758, 'XGBoost': 0.9790169924398062, 'AutoGluon': 0.06634043239600497}. Best is trial 226 with value: 0.3663366666666666.\n",
      "[I 2025-06-10 07:41:14,769] Trial 227 finished with value: 0.36626555555555557 and parameters: {'LightGBM (gbdt)': 0.3283962201333902, 'LightGBM (goss)': 0.023058183954367244, 'XGBoost': 0.9819942098477655, 'AutoGluon': 0.06873197970582483}. Best is trial 226 with value: 0.3663366666666666.\n",
      "[I 2025-06-10 07:41:14,940] Trial 228 finished with value: 0.36629177777777777 and parameters: {'LightGBM (gbdt)': 0.32778484004323477, 'LightGBM (goss)': 0.000621050474365699, 'XGBoost': 0.9822384650027827, 'AutoGluon': 0.04281000990220524}. Best is trial 226 with value: 0.3663366666666666.\n",
      "[I 2025-06-10 07:41:15,478] Trial 225 finished with value: 0.36632733333333334 and parameters: {'LightGBM (gbdt)': 0.36781680974925857, 'LightGBM (goss)': 0.024300056007130467, 'XGBoost': 0.9824253246606365, 'AutoGluon': 0.06557475406823805}. Best is trial 226 with value: 0.3663366666666666.\n",
      "[I 2025-06-10 07:41:20,961] Trial 232 finished with value: 0.3662635555555557 and parameters: {'LightGBM (gbdt)': 0.37067680437874817, 'LightGBM (goss)': 0.041909982167509637, 'XGBoost': 0.9802240528486866, 'AutoGluon': 0.045888767297811786}. Best is trial 226 with value: 0.3663366666666666.\n",
      "[I 2025-06-10 07:41:21,335] Trial 230 finished with value: 0.3662706666666666 and parameters: {'LightGBM (gbdt)': 0.36302600979188515, 'LightGBM (goss)': 0.040955279936052615, 'XGBoost': 0.9600498508353101, 'AutoGluon': 0.05031224637087985}. Best is trial 226 with value: 0.3663366666666666.\n",
      "[I 2025-06-10 07:41:21,514] Trial 231 finished with value: 0.3662659999999999 and parameters: {'LightGBM (gbdt)': 0.36028941744284826, 'LightGBM (goss)': 0.03901577113713629, 'XGBoost': 0.9627318824083001, 'AutoGluon': 0.051257726379664595}. Best is trial 226 with value: 0.3663366666666666.\n",
      "[I 2025-06-10 07:41:21,667] Trial 229 finished with value: 0.36626377777777785 and parameters: {'LightGBM (gbdt)': 0.3644061793302811, 'LightGBM (goss)': 0.042426864556859345, 'XGBoost': 0.9841718054112432, 'AutoGluon': 0.04646132756264505}. Best is trial 226 with value: 0.3663366666666666.\n",
      "[I 2025-06-10 07:41:27,464] Trial 235 finished with value: 0.3662842222222222 and parameters: {'LightGBM (gbdt)': 0.4050308374404195, 'LightGBM (goss)': 0.019345344134224576, 'XGBoost': 0.9837879227379898, 'AutoGluon': 0.07448364195371499}. Best is trial 226 with value: 0.3663366666666666.\n",
      "[I 2025-06-10 07:41:28,103] Trial 236 finished with value: 0.3662871111111112 and parameters: {'LightGBM (gbdt)': 0.4024553150007557, 'LightGBM (goss)': 0.01918053750784777, 'XGBoost': 0.9827686611426458, 'AutoGluon': 0.07492485413656799}. Best is trial 226 with value: 0.3663366666666666.\n",
      "[I 2025-06-10 07:41:28,277] Trial 233 finished with value: 0.36628377777777793 and parameters: {'LightGBM (gbdt)': 0.3631581748184974, 'LightGBM (goss)': 0.03550162188427587, 'XGBoost': 0.9622272449145169, 'AutoGluon': 0.04751940677070174}. Best is trial 226 with value: 0.3663366666666666.\n",
      "[I 2025-06-10 07:41:28,805] Trial 234 finished with value: 0.366254888888889 and parameters: {'LightGBM (gbdt)': 0.4037871542196516, 'LightGBM (goss)': 0.025732475452516383, 'XGBoost': 0.9830772504921924, 'AutoGluon': 0.06583244167179629}. Best is trial 226 with value: 0.3663366666666666.\n",
      "[I 2025-06-10 07:41:33,225] Trial 237 finished with value: 0.3651953333333333 and parameters: {'LightGBM (gbdt)': 0.3495731800916273, 'LightGBM (goss)': 0.0002117793567685183, 'XGBoost': 0.9557867423581689, 'AutoGluon': 0.4169696548158086}. Best is trial 226 with value: 0.3663366666666666.\n",
      "[I 2025-06-10 07:41:33,642] Trial 240 finished with value: 0.3658824444444445 and parameters: {'LightGBM (gbdt)': 0.34231090932227776, 'LightGBM (goss)': 0.4829587253794681, 'XGBoost': 0.9519019869145909, 'AutoGluon': 0.023215077937618067}. Best is trial 226 with value: 0.3663366666666666.\n",
      "[I 2025-06-10 07:41:34,165] Trial 239 finished with value: 0.36529044444444425 and parameters: {'LightGBM (gbdt)': 0.3419872826924659, 'LightGBM (goss)': 0.020823091615950515, 'XGBoost': 0.9519516492267373, 'AutoGluon': 0.3814955848981241}. Best is trial 226 with value: 0.3663366666666666.\n",
      "[I 2025-06-10 07:41:34,530] Trial 238 finished with value: 0.36629355555555576 and parameters: {'LightGBM (gbdt)': 0.34452983646064866, 'LightGBM (goss)': 0.0006032654685828235, 'XGBoost': 0.9601816650172903, 'AutoGluon': 0.033443746344408595}. Best is trial 226 with value: 0.3663366666666666.\n",
      "[I 2025-06-10 07:41:40,097] Trial 243 finished with value: 0.3662262222222222 and parameters: {'LightGBM (gbdt)': 0.37865500951621334, 'LightGBM (goss)': 0.06296179427629923, 'XGBoost': 0.9265839877763928, 'AutoGluon': 0.10258581277310268}. Best is trial 226 with value: 0.3663366666666666.\n",
      "[I 2025-06-10 07:41:40,723] Trial 241 finished with value: 0.3662153333333335 and parameters: {'LightGBM (gbdt)': 0.33999119878118, 'LightGBM (goss)': 0.05817300063407968, 'XGBoost': 0.9983278788427884, 'AutoGluon': 0.030948831375282246}. Best is trial 226 with value: 0.3663366666666666.\n",
      "[I 2025-06-10 07:41:40,880] Trial 242 finished with value: 0.36628933333333336 and parameters: {'LightGBM (gbdt)': 0.33113509975263156, 'LightGBM (goss)': 0.001205147486571228, 'XGBoost': 0.9978137476497013, 'AutoGluon': 0.09642550656031426}. Best is trial 226 with value: 0.3663366666666666.\n",
      "[I 2025-06-10 07:41:41,080] Trial 244 finished with value: 0.36631622222222227 and parameters: {'LightGBM (gbdt)': 0.37925234023217735, 'LightGBM (goss)': 0.01727054192746911, 'XGBoost': 0.9980332946511377, 'AutoGluon': 0.033052819400166134}. Best is trial 226 with value: 0.3663366666666666.\n",
      "[I 2025-06-10 07:41:47,556] Trial 247 finished with value: 0.3663131111111109 and parameters: {'LightGBM (gbdt)': 0.3785086813326657, 'LightGBM (goss)': 0.019976914337767514, 'XGBoost': 0.9670624786926322, 'AutoGluon': 0.033994135239974396}. Best is trial 226 with value: 0.3663366666666666.\n",
      "[I 2025-06-10 07:41:47,818] Trial 245 finished with value: 0.36628400000000005 and parameters: {'LightGBM (gbdt)': 0.3313071198185893, 'LightGBM (goss)': 0.015799011635313213, 'XGBoost': 0.999661930610202, 'AutoGluon': 0.03295442046316298}. Best is trial 226 with value: 0.3663366666666666.\n",
      "[I 2025-06-10 07:41:48,074] Trial 248 finished with value: 0.3663008888888889 and parameters: {'LightGBM (gbdt)': 0.3821173276408502, 'LightGBM (goss)': 0.02148077040939323, 'XGBoost': 0.9726076666290187, 'AutoGluon': 0.06847825790334244}. Best is trial 226 with value: 0.3663366666666666.\n",
      "[I 2025-06-10 07:41:48,137] Trial 246 finished with value: 0.36626333333333355 and parameters: {'LightGBM (gbdt)': 0.321526681790575, 'LightGBM (goss)': 0.0029659500333003904, 'XGBoost': 0.9664105855429433, 'AutoGluon': 0.035366156775186994}. Best is trial 226 with value: 0.3663366666666666.\n",
      "[I 2025-06-10 07:41:49,625] Trial 249 finished with value: 0.3638948888888888 and parameters: {'LightGBM (gbdt)': 0.3802891995491839, 'LightGBM (goss)': 0.024083807860673146, 'XGBoost': 0.0667514108601176, 'AutoGluon': 0.019979789411762}. Best is trial 226 with value: 0.3663366666666666.\n"
     ]
    }
   ],
   "source": [
    "def objective(trial):\n",
    "    weights = [trial.suggest_float(model, 0, 1) for model in models]\n",
    "    weights /= np.sum(weights)\n",
    "\n",
    "    idxs = [0, 7, 14, 21]\n",
    "    pred_probs = np.zeros((X.shape[0], 7))\n",
    "    for idx, weight in zip(idxs, weights):\n",
    "        pred_probs += X.iloc[:, idx:idx+7].values * weight\n",
    "        \n",
    "    return map3(y, pred_probs)\n",
    "\n",
    "sampler = optuna.samplers.TPESampler(seed=CFG.seed)\n",
    "study = optuna.create_study(direction='maximize', sampler=sampler)\n",
    "study.optimize(objective, n_trials=250, n_jobs=-1)"
   ]
  },
  {
   "cell_type": "code",
   "execution_count": 18,
   "id": "2215e74c",
   "metadata": {
    "execution": {
     "iopub.execute_input": "2025-06-10T07:41:49.669817Z",
     "iopub.status.busy": "2025-06-10T07:41:49.669492Z",
     "iopub.status.idle": "2025-06-10T07:41:49.738696Z",
     "shell.execute_reply": "2025-06-10T07:41:49.737870Z"
    },
    "papermill": {
     "duration": 0.090378,
     "end_time": "2025-06-10T07:41:49.740329",
     "exception": false,
     "start_time": "2025-06-10T07:41:49.649951",
     "status": "completed"
    },
    "tags": []
   },
   "outputs": [],
   "source": [
    "scores['WeightedEnsemble'] = [study.best_value] * CFG.n_folds\n",
    "\n",
    "best_weights = [study.best_params[model] for model in models]\n",
    "best_weights /= np.sum(best_weights)\n",
    "\n",
    "idxs = [0, 7, 14, 21]\n",
    "weighted_test_preds = np.zeros((X_test.shape[0], 7))\n",
    "for idx, weight in zip(idxs, best_weights):\n",
    "    weighted_test_preds += X_test.iloc[:, idx:idx+7].values * weight"
   ]
  },
  {
   "cell_type": "code",
   "execution_count": 19,
   "id": "3f54139f",
   "metadata": {
    "execution": {
     "iopub.execute_input": "2025-06-10T07:41:49.780301Z",
     "iopub.status.busy": "2025-06-10T07:41:49.779956Z",
     "iopub.status.idle": "2025-06-10T07:42:15.634608Z",
     "shell.execute_reply": "2025-06-10T07:42:15.633782Z"
    },
    "papermill": {
     "duration": 25.875703,
     "end_time": "2025-06-10T07:42:15.635946",
     "exception": false,
     "start_time": "2025-06-10T07:41:49.760243",
     "status": "completed"
    },
    "tags": []
   },
   "outputs": [
    {
     "data": {
      "text/html": [
       "<div>\n",
       "<style scoped>\n",
       "    .dataframe tbody tr th:only-of-type {\n",
       "        vertical-align: middle;\n",
       "    }\n",
       "\n",
       "    .dataframe tbody tr th {\n",
       "        vertical-align: top;\n",
       "    }\n",
       "\n",
       "    .dataframe thead th {\n",
       "        text-align: right;\n",
       "    }\n",
       "</style>\n",
       "<table border=\"1\" class=\"dataframe\">\n",
       "  <thead>\n",
       "    <tr style=\"text-align: right;\">\n",
       "      <th></th>\n",
       "      <th>id</th>\n",
       "      <th>Fertilizer Name</th>\n",
       "    </tr>\n",
       "  </thead>\n",
       "  <tbody>\n",
       "    <tr>\n",
       "      <th>0</th>\n",
       "      <td>750000</td>\n",
       "      <td>10-26-26 20-20 DAP</td>\n",
       "    </tr>\n",
       "    <tr>\n",
       "      <th>1</th>\n",
       "      <td>750001</td>\n",
       "      <td>17-17-17 10-26-26 20-20</td>\n",
       "    </tr>\n",
       "    <tr>\n",
       "      <th>2</th>\n",
       "      <td>750002</td>\n",
       "      <td>20-20 28-28 Urea</td>\n",
       "    </tr>\n",
       "    <tr>\n",
       "      <th>3</th>\n",
       "      <td>750003</td>\n",
       "      <td>14-35-14 DAP 17-17-17</td>\n",
       "    </tr>\n",
       "    <tr>\n",
       "      <th>4</th>\n",
       "      <td>750004</td>\n",
       "      <td>20-20 Urea 10-26-26</td>\n",
       "    </tr>\n",
       "  </tbody>\n",
       "</table>\n",
       "</div>"
      ],
      "text/plain": [
       "       id          Fertilizer Name\n",
       "0  750000       10-26-26 20-20 DAP\n",
       "1  750001  17-17-17 10-26-26 20-20\n",
       "2  750002         20-20 28-28 Urea\n",
       "3  750003    14-35-14 DAP 17-17-17\n",
       "4  750004      20-20 Urea 10-26-26"
      ]
     },
     "execution_count": 19,
     "metadata": {},
     "output_type": "execute_result"
    }
   ],
   "source": [
    "create_submission(\"weighted-ensemble\", weighted_test_preds, np.mean(scores[\"WeightedEnsemble\"])).head()"
   ]
  },
  {
   "cell_type": "markdown",
   "id": "d67c1ed8",
   "metadata": {
    "papermill": {
     "duration": 0.018529,
     "end_time": "2025-06-10T07:42:15.673530",
     "exception": false,
     "start_time": "2025-06-10T07:42:15.655001",
     "status": "completed"
    },
    "tags": []
   },
   "source": [
    "## Weighted VotingClassifier"
   ]
  },
  {
   "cell_type": "code",
   "execution_count": 20,
   "id": "2686ea67",
   "metadata": {
    "execution": {
     "iopub.execute_input": "2025-06-10T07:42:15.712489Z",
     "iopub.status.busy": "2025-06-10T07:42:15.711721Z",
     "iopub.status.idle": "2025-06-10T07:42:26.286506Z",
     "shell.execute_reply": "2025-06-10T07:42:26.284956Z"
    },
    "papermill": {
     "duration": 10.595986,
     "end_time": "2025-06-10T07:42:26.288187",
     "exception": false,
     "start_time": "2025-06-10T07:42:15.692201",
     "status": "completed"
    },
    "tags": []
   },
   "outputs": [
    {
     "name": "stdout",
     "output_type": "stream",
     "text": [
      "Training VotingClassifier\n",
      "\n",
      "--- Fold 1 - MAP@3: 0.364913\n",
      "--- Fold 2 - MAP@3: 0.365308\n",
      "--- Fold 3 - MAP@3: 0.368599\n",
      "--- Fold 4 - MAP@3: 0.366173\n",
      "--- Fold 5 - MAP@3: 0.366690\n",
      "\n",
      "------ Overall MAP@3: 0.366337 | Average MAP@3: 0.366337 ± 0.001293\n"
     ]
    }
   ],
   "source": [
    "weighted_voting_model = VotingClassifier(estimators, n_jobs=-1, voting='soft', weights=best_weights)\n",
    "weighted_voting_trainer = Trainer(weighted_voting_model)\n",
    "_, weighted_voting_test_pred_probs, scores[\"VotingClassifier (weighted)\"] = weighted_voting_trainer.fit_predict(X, y, X_test)"
   ]
  },
  {
   "cell_type": "code",
   "execution_count": 21,
   "id": "f51e4c40",
   "metadata": {
    "execution": {
     "iopub.execute_input": "2025-06-10T07:42:26.328635Z",
     "iopub.status.busy": "2025-06-10T07:42:26.328320Z",
     "iopub.status.idle": "2025-06-10T07:42:52.314908Z",
     "shell.execute_reply": "2025-06-10T07:42:52.314018Z"
    },
    "papermill": {
     "duration": 26.008742,
     "end_time": "2025-06-10T07:42:52.316474",
     "exception": false,
     "start_time": "2025-06-10T07:42:26.307732",
     "status": "completed"
    },
    "tags": []
   },
   "outputs": [
    {
     "data": {
      "text/html": [
       "<div>\n",
       "<style scoped>\n",
       "    .dataframe tbody tr th:only-of-type {\n",
       "        vertical-align: middle;\n",
       "    }\n",
       "\n",
       "    .dataframe tbody tr th {\n",
       "        vertical-align: top;\n",
       "    }\n",
       "\n",
       "    .dataframe thead th {\n",
       "        text-align: right;\n",
       "    }\n",
       "</style>\n",
       "<table border=\"1\" class=\"dataframe\">\n",
       "  <thead>\n",
       "    <tr style=\"text-align: right;\">\n",
       "      <th></th>\n",
       "      <th>id</th>\n",
       "      <th>Fertilizer Name</th>\n",
       "    </tr>\n",
       "  </thead>\n",
       "  <tbody>\n",
       "    <tr>\n",
       "      <th>0</th>\n",
       "      <td>750000</td>\n",
       "      <td>10-26-26 20-20 DAP</td>\n",
       "    </tr>\n",
       "    <tr>\n",
       "      <th>1</th>\n",
       "      <td>750001</td>\n",
       "      <td>17-17-17 10-26-26 20-20</td>\n",
       "    </tr>\n",
       "    <tr>\n",
       "      <th>2</th>\n",
       "      <td>750002</td>\n",
       "      <td>20-20 28-28 Urea</td>\n",
       "    </tr>\n",
       "    <tr>\n",
       "      <th>3</th>\n",
       "      <td>750003</td>\n",
       "      <td>14-35-14 DAP 17-17-17</td>\n",
       "    </tr>\n",
       "    <tr>\n",
       "      <th>4</th>\n",
       "      <td>750004</td>\n",
       "      <td>20-20 Urea 10-26-26</td>\n",
       "    </tr>\n",
       "  </tbody>\n",
       "</table>\n",
       "</div>"
      ],
      "text/plain": [
       "       id          Fertilizer Name\n",
       "0  750000       10-26-26 20-20 DAP\n",
       "1  750001  17-17-17 10-26-26 20-20\n",
       "2  750002         20-20 28-28 Urea\n",
       "3  750003    14-35-14 DAP 17-17-17\n",
       "4  750004      20-20 Urea 10-26-26"
      ]
     },
     "execution_count": 21,
     "metadata": {},
     "output_type": "execute_result"
    }
   ],
   "source": [
    "create_submission(\"weighted-voting-classifier\", weighted_voting_test_pred_probs, np.mean(scores[\"VotingClassifier (weighted)\"])).head()"
   ]
  },
  {
   "cell_type": "markdown",
   "id": "368125b4",
   "metadata": {
    "papermill": {
     "duration": 0.018796,
     "end_time": "2025-06-10T07:42:52.354673",
     "exception": false,
     "start_time": "2025-06-10T07:42:52.335877",
     "status": "completed"
    },
    "tags": []
   },
   "source": [
    "# Results"
   ]
  },
  {
   "cell_type": "code",
   "execution_count": 22,
   "id": "e53b4f55",
   "metadata": {
    "execution": {
     "iopub.execute_input": "2025-06-10T07:42:52.394563Z",
     "iopub.status.busy": "2025-06-10T07:42:52.393962Z",
     "iopub.status.idle": "2025-06-10T07:42:52.938972Z",
     "shell.execute_reply": "2025-06-10T07:42:52.938025Z"
    },
    "papermill": {
     "duration": 0.566944,
     "end_time": "2025-06-10T07:42:52.940627",
     "exception": false,
     "start_time": "2025-06-10T07:42:52.373683",
     "status": "completed"
    },
    "tags": []
   },
   "outputs": [
    {
     "data": {
      "image/png": "[encoded data removed]",
      "text/plain": [
       "<Figure size 1500x360 with 2 Axes>"
      ]
     },
     "metadata": {},
     "output_type": "display_data"
    }
   ],
   "source": [
    "scores = pd.DataFrame(scores)\n",
    "mean_scores = scores.mean().sort_values(ascending=False)\n",
    "order = scores.mean().sort_values(ascending=False).index.tolist()\n",
    "\n",
    "min_score = mean_scores.min()\n",
    "max_score = mean_scores.max()\n",
    "padding = (max_score - min_score) * 0.5\n",
    "lower_limit = min_score - padding\n",
    "upper_limit = max_score + padding\n",
    "\n",
    "fig, axs = plt.subplots(1, 2, figsize=(15, scores.shape[1] * 0.4))\n",
    "\n",
    "boxplot = sns.boxplot(data=scores, order=order, ax=axs[0], orient=\"h\", palette=\"RdYlGn_r\")\n",
    "axs[0].set_title(f\"Fold MAP@3\")\n",
    "axs[0].set_xlabel(\"\")\n",
    "axs[0].set_ylabel(\"\")\n",
    "\n",
    "barplot = sns.barplot(x=mean_scores.values, y=mean_scores.index, ax=axs[1], palette=\"RdYlGn_r\")\n",
    "axs[1].set_title(f\"Mean MAP@3\")\n",
    "axs[1].set_xlabel(\"\")\n",
    "axs[1].set_xlim(left=lower_limit, right=upper_limit)\n",
    "axs[1].set_ylabel(\"\")\n",
    "\n",
    "for i, score in enumerate(mean_scores.values):\n",
    "    barplot.text(score, i, round(score, 6), va=\"center\")\n",
    "\n",
    "plt.tight_layout()\n",
    "plt.show()"
   ]
  }
 ],
 "metadata": {
  "kaggle": {
   "accelerator": "none",
   "dataSources": [
    {
     "databundleVersionId": 12184666,
     "isSourceIdPinned": false,
     "sourceId": 91717,
     "sourceType": "competition"
    },
    {
     "sourceId": 244411248,
     "sourceType": "kernelVersion"
    }
   ],
   "dockerImageVersionId": 31040,
   "isGpuEnabled": false,
   "isInternetEnabled": true,
   "language": "python",
   "sourceType": "notebook"
  },
  "kernelspec": {
   "display_name": "Python 3",
   "language": "python",
   "name": "python3"
  },
  "language_info": {
   "codemirror_mode": {
    "name": "ipython",
    "version": 3
   },
   "file_extension": ".py",
   "mimetype": "text/x-python",
   "name": "python",
   "nbconvert_exporter": "python",
   "pygments_lexer": "ipython3",
   "version": "3.11.11"
  },
  "papermill": {
   "default_parameters": {},
   "duration": 918.905933,
   "end_time": "2025-06-10T07:42:55.683521",
   "environment_variables": {},
   "exception": null,
   "input_path": "__notebook__.ipynb",
   "output_path": "__notebook__.ipynb",
   "parameters": {},
   "start_time": "2025-06-10T07:27:36.777588",
   "version": "2.6.0"
  }
 },
 "nbformat": 4,
 "nbformat_minor": 5
}
