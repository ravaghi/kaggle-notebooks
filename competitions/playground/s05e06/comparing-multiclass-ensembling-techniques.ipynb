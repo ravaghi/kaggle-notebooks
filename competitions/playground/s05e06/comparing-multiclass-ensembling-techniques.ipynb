{
 "cells": [
  {
   "cell_type": "markdown",
   "id": "ab7f6828",
   "metadata": {
    "papermill": {
     "duration": 0.005109,
     "end_time": "2025-06-13T07:15:41.701474",
     "exception": false,
     "start_time": "2025-06-13T07:15:41.696365",
     "status": "completed"
    },
    "tags": []
   },
   "source": [
    "# Imports and configs"
   ]
  },
  {
   "cell_type": "code",
   "execution_count": 1,
   "id": "3e8cd480",
   "metadata": {
    "_kg_hide-output": true,
    "execution": {
     "iopub.execute_input": "2025-06-13T07:15:41.712081Z",
     "iopub.status.busy": "2025-06-13T07:15:41.711681Z",
     "iopub.status.idle": "2025-06-13T07:15:52.064539Z",
     "shell.execute_reply": "2025-06-13T07:15:52.063424Z"
    },
    "papermill": {
     "duration": 10.360958,
     "end_time": "2025-06-13T07:15:52.067335",
     "exception": false,
     "start_time": "2025-06-13T07:15:41.706377",
     "status": "completed"
    },
    "tags": []
   },
   "outputs": [
    {
     "name": "stdout",
     "output_type": "stream",
     "text": [
      "\u001b[2K   \u001b[90m━━━━━━━━━━━━━━━━━━━━━━━━━━━━━━━━━━━━━━━━\u001b[0m \u001b[32m13.3/13.3 MB\u001b[0m \u001b[31m75.2 MB/s\u001b[0m eta \u001b[36m0:00:00\u001b[0m\r\n",
      "\u001b[?25h\u001b[31mERROR: pip's dependency resolver does not currently take into account all the packages that are installed. This behaviour is the source of the following dependency conflicts.\r\n",
      "cesium 0.12.4 requires numpy<3.0,>=2.0, but you have numpy 1.26.4 which is incompatible.\u001b[0m\u001b[31m\r\n",
      "\u001b[0m"
     ]
    }
   ],
   "source": [
    "!pip install -q scikit-learn==1.5.2"
   ]
  },
  {
   "cell_type": "code",
   "execution_count": 2,
   "id": "7e89bdd5",
   "metadata": {
    "execution": {
     "iopub.execute_input": "2025-06-13T07:15:52.079424Z",
     "iopub.status.busy": "2025-06-13T07:15:52.079074Z",
     "iopub.status.idle": "2025-06-13T07:15:57.259479Z",
     "shell.execute_reply": "2025-06-13T07:15:57.258393Z"
    },
    "papermill": {
     "duration": 5.188442,
     "end_time": "2025-06-13T07:15:57.261215",
     "exception": false,
     "start_time": "2025-06-13T07:15:52.072773",
     "status": "completed"
    },
    "tags": []
   },
   "outputs": [],
   "source": [
    "from sklearn.ensemble import StackingClassifier, VotingClassifier\n",
    "from sklearn.base import BaseEstimator, ClassifierMixin, clone\n",
    "from sklearn.model_selection import StratifiedKFold\n",
    "from sklearn.linear_model import LogisticRegression\n",
    "from sklearn.preprocessing import LabelEncoder\n",
    "from sklearn.utils import check_array\n",
    "import matplotlib.pyplot as plt\n",
    "import seaborn as sns\n",
    "import pandas as pd\n",
    "import numpy as np\n",
    "import warnings\n",
    "import joblib\n",
    "import optuna\n",
    "import shutil\n",
    "import gc\n",
    "\n",
    "warnings.filterwarnings(\"ignore\")"
   ]
  },
  {
   "cell_type": "code",
   "execution_count": 3,
   "id": "d76176cd",
   "metadata": {
    "execution": {
     "iopub.execute_input": "2025-06-13T07:15:57.273675Z",
     "iopub.status.busy": "2025-06-13T07:15:57.273233Z",
     "iopub.status.idle": "2025-06-13T07:15:57.278713Z",
     "shell.execute_reply": "2025-06-13T07:15:57.277732Z"
    },
    "papermill": {
     "duration": 0.013777,
     "end_time": "2025-06-13T07:15:57.280605",
     "exception": false,
     "start_time": "2025-06-13T07:15:57.266828",
     "status": "completed"
    },
    "tags": []
   },
   "outputs": [],
   "source": [
    "class CFG:\n",
    "    train_path = \"/kaggle/input/playground-series-s5e6/train.csv\"\n",
    "    test_path = \"/kaggle/input/playground-series-s5e6/test.csv\"\n",
    "    sample_sub_path = \"/kaggle/input/playground-series-s5e6/sample_submission.csv\"\n",
    "    \n",
    "    target = \"Fertilizer Name\"\n",
    "    n_folds = 5\n",
    "    seed = 42"
   ]
  },
  {
   "cell_type": "markdown",
   "id": "f259c84f",
   "metadata": {
    "papermill": {
     "duration": 0.004585,
     "end_time": "2025-06-13T07:15:57.290232",
     "exception": false,
     "start_time": "2025-06-13T07:15:57.285647",
     "status": "completed"
    },
    "tags": []
   },
   "source": [
    "# Data loading"
   ]
  },
  {
   "cell_type": "code",
   "execution_count": 4,
   "id": "7b8e0eec",
   "metadata": {
    "execution": {
     "iopub.execute_input": "2025-06-13T07:15:57.301120Z",
     "iopub.status.busy": "2025-06-13T07:15:57.300733Z",
     "iopub.status.idle": "2025-06-13T07:15:58.849502Z",
     "shell.execute_reply": "2025-06-13T07:15:58.848457Z"
    },
    "papermill": {
     "duration": 1.556265,
     "end_time": "2025-06-13T07:15:58.851221",
     "exception": false,
     "start_time": "2025-06-13T07:15:57.294956",
     "status": "completed"
    },
    "tags": []
   },
   "outputs": [],
   "source": [
    "train = pd.read_csv(CFG.train_path, index_col=\"id\")\n",
    "test = pd.read_csv(CFG.test_path, index_col=\"id\")\n",
    "\n",
    "label_encoder = LabelEncoder()\n",
    "train[CFG.target] = label_encoder.fit_transform(train[CFG.target])\n",
    "\n",
    "X = train.drop(CFG.target, axis=1)\n",
    "y = train[CFG.target]\n",
    "X_test = test"
   ]
  },
  {
   "cell_type": "code",
   "execution_count": 5,
   "id": "6a25e2f0",
   "metadata": {
    "_kg_hide-input": true,
    "execution": {
     "iopub.execute_input": "2025-06-13T07:15:58.862332Z",
     "iopub.status.busy": "2025-06-13T07:15:58.861973Z",
     "iopub.status.idle": "2025-06-13T07:15:58.868625Z",
     "shell.execute_reply": "2025-06-13T07:15:58.867805Z"
    },
    "papermill": {
     "duration": 0.013811,
     "end_time": "2025-06-13T07:15:58.870023",
     "exception": false,
     "start_time": "2025-06-13T07:15:58.856212",
     "status": "completed"
    },
    "tags": []
   },
   "outputs": [],
   "source": [
    "def map3(y_true, y_pred_probs):\n",
    "    y_true = [[x] for x in y_true]\n",
    "    y_pred_probs = np.argsort(y_pred_probs, axis=1)[:, -3:][:, ::-1].tolist()\n",
    "    \n",
    "    def ap3(y_true, y_pred_probs):\n",
    "        y_pred_probs = y_pred_probs[:3]\n",
    "\n",
    "        score = 0.0\n",
    "        num_hits = 0.0\n",
    "\n",
    "        for i,p in enumerate(y_pred_probs):\n",
    "            if p in y_true and p not in y_pred_probs[:i]:\n",
    "                num_hits += 1.0\n",
    "                score += num_hits / (i+1.0)\n",
    "\n",
    "        if not y_true:\n",
    "            return 0.0\n",
    "\n",
    "        return score\n",
    "    \n",
    "    return np.mean([ap3(a,p) for a,p in zip(y_true, y_pred_probs)])"
   ]
  },
  {
   "cell_type": "code",
   "execution_count": 6,
   "id": "41acaaee",
   "metadata": {
    "execution": {
     "iopub.execute_input": "2025-06-13T07:15:58.881434Z",
     "iopub.status.busy": "2025-06-13T07:15:58.880601Z",
     "iopub.status.idle": "2025-06-13T07:16:11.775086Z",
     "shell.execute_reply": "2025-06-13T07:16:11.774298Z"
    },
    "papermill": {
     "duration": 12.901982,
     "end_time": "2025-06-13T07:16:11.776852",
     "exception": false,
     "start_time": "2025-06-13T07:15:58.874870",
     "status": "completed"
    },
    "tags": []
   },
   "outputs": [],
   "source": [
    "scores = {}\n",
    "\n",
    "oof_pred_probs = joblib.load(\"/kaggle/input/s05e06-fertilizer-optimization-ensemble/oof_pred_probs.pkl\")\n",
    "test_pred_probs = joblib.load(\"/kaggle/input/s05e06-fertilizer-optimization-ensemble/test_pred_probs.pkl\")\n",
    "\n",
    "start_idx = 0\n",
    "models = [\"LightGBM (gbdt)\", \"LightGBM (goss)\", \"XGBoost\", \"AutoGluon\"]\n",
    "for model in models:\n",
    "    fold_scores = []        \n",
    "    \n",
    "    skf = StratifiedKFold(n_splits=CFG.n_folds, random_state=CFG.seed, shuffle=True)\n",
    "    for _, val_idx in skf.split(X, y):   \n",
    "        fold_score = map3(y[val_idx], oof_pred_probs.iloc[val_idx, start_idx:start_idx+7])\n",
    "        fold_scores.append(fold_score)\n",
    "        \n",
    "    scores[model] = fold_scores\n",
    "    start_idx += 7"
   ]
  },
  {
   "cell_type": "code",
   "execution_count": 7,
   "id": "2a30228c",
   "metadata": {
    "_kg_hide-input": true,
    "execution": {
     "iopub.execute_input": "2025-06-13T07:16:11.789200Z",
     "iopub.status.busy": "2025-06-13T07:16:11.788848Z",
     "iopub.status.idle": "2025-06-13T07:16:11.799713Z",
     "shell.execute_reply": "2025-06-13T07:16:11.798558Z"
    },
    "papermill": {
     "duration": 0.018446,
     "end_time": "2025-06-13T07:16:11.801307",
     "exception": false,
     "start_time": "2025-06-13T07:16:11.782861",
     "status": "completed"
    },
    "tags": []
   },
   "outputs": [],
   "source": [
    "class Trainer:\n",
    "    def __init__(self, model, config=CFG):\n",
    "        self.model = model\n",
    "        self.config = config\n",
    "\n",
    "    def fit_predict(self, X, y, X_test):\n",
    "        print(f\"Training {self.model.__class__.__name__}\\n\")\n",
    "        \n",
    "        scores = []        \n",
    "        oof_pred_probs = np.zeros((X.shape[0], y.nunique()))\n",
    "        test_pred_probs = np.zeros((X_test.shape[0], y.nunique()))\n",
    "        \n",
    "        skf = StratifiedKFold(n_splits=self.config.n_folds, random_state=self.config.seed, shuffle=True)\n",
    "        for fold_idx, (train_idx, val_idx) in enumerate(skf.split(X, y)):\n",
    "            X_train, X_val = X.iloc[train_idx], X.iloc[val_idx]\n",
    "            y_train, y_val = y[train_idx], y[val_idx]\n",
    "            \n",
    "            model = clone(self.model)\n",
    "            model.fit(X_train, y_train)\n",
    "            \n",
    "            y_pred_probs = model.predict_proba(X_val)\n",
    "            oof_pred_probs[val_idx] = y_pred_probs\n",
    "            \n",
    "            temp_test_pred_probs = model.predict_proba(X_test)\n",
    "            test_pred_probs += temp_test_pred_probs / self.config.n_folds\n",
    "            \n",
    "            score = map3(y_val, y_pred_probs)\n",
    "            scores.append(score)\n",
    "            \n",
    "            del model, X_train, y_train, X_val, y_val, y_pred_probs\n",
    "            gc.collect()\n",
    "        \n",
    "            print(f\"--- Fold {fold_idx + 1} - MAP@3: {score:.6f}\")\n",
    "                            \n",
    "        overall_score = map3(y, oof_pred_probs)\n",
    "            \n",
    "        print(f\"\\n------ Overall MAP@3: {overall_score:.6f} | Average MAP@3: {np.mean(scores):.6f} ± {np.std(scores):.6f}\")\n",
    "        \n",
    "        return oof_pred_probs, test_pred_probs, scores\n",
    "\n",
    "    def tune(self, X, y):        \n",
    "        scores = []        \n",
    "        \n",
    "        skf = StratifiedKFold(n_splits=self.config.n_folds, random_state=self.config.seed, shuffle=True)\n",
    "        for train_idx, val_idx in skf.split(X, y):\n",
    "            X_train, X_val = X.iloc[train_idx], X.iloc[val_idx]\n",
    "            y_train, y_val = y[train_idx], y[val_idx]\n",
    "            \n",
    "            model = clone(self.model)\n",
    "            model.fit(X_train, y_train)\n",
    "            \n",
    "            y_pred_probs = model.predict_proba(X_val)            \n",
    "            score = map3(y_val, y_pred_probs)\n",
    "            scores.append(score)\n",
    "            \n",
    "            del model, X_train, y_train, X_val, y_val, y_pred_probs\n",
    "            gc.collect()\n",
    "            \n",
    "        return np.mean(scores)"
   ]
  },
  {
   "cell_type": "markdown",
   "id": "26b9febf",
   "metadata": {
    "papermill": {
     "duration": 0.004702,
     "end_time": "2025-06-13T07:16:11.810983",
     "exception": false,
     "start_time": "2025-06-13T07:16:11.806281",
     "status": "completed"
    },
    "tags": []
   },
   "source": [
    "# Ensembling"
   ]
  },
  {
   "cell_type": "code",
   "execution_count": 8,
   "id": "6d24ce56",
   "metadata": {
    "execution": {
     "iopub.execute_input": "2025-06-13T07:16:11.822168Z",
     "iopub.status.busy": "2025-06-13T07:16:11.821527Z",
     "iopub.status.idle": "2025-06-13T07:16:11.828781Z",
     "shell.execute_reply": "2025-06-13T07:16:11.827843Z"
    },
    "papermill": {
     "duration": 0.01462,
     "end_time": "2025-06-13T07:16:11.830321",
     "exception": false,
     "start_time": "2025-06-13T07:16:11.815701",
     "status": "completed"
    },
    "tags": []
   },
   "outputs": [],
   "source": [
    "X = oof_pred_probs\n",
    "X_test = test_pred_probs"
   ]
  },
  {
   "cell_type": "code",
   "execution_count": 9,
   "id": "79a21e25",
   "metadata": {
    "execution": {
     "iopub.execute_input": "2025-06-13T07:16:11.841594Z",
     "iopub.status.busy": "2025-06-13T07:16:11.841272Z",
     "iopub.status.idle": "2025-06-13T07:16:11.846955Z",
     "shell.execute_reply": "2025-06-13T07:16:11.845977Z"
    },
    "papermill": {
     "duration": 0.013136,
     "end_time": "2025-06-13T07:16:11.848547",
     "exception": false,
     "start_time": "2025-06-13T07:16:11.835411",
     "status": "completed"
    },
    "tags": []
   },
   "outputs": [],
   "source": [
    "def create_submission(model, test_pred_probs, score):\n",
    "    final_predictions = []\n",
    "    for i in np.argsort(test_pred_probs)[:, -3:][:, ::-1]:\n",
    "        prediction = label_encoder.inverse_transform(i)\n",
    "        final_predictions.append(\" \".join(prediction))\n",
    "\n",
    "    sub = pd.read_csv(CFG.sample_sub_path)\n",
    "    sub[CFG.target] = final_predictions\n",
    "    sub.to_csv(f\"sub_{model}_{score:.6f}.csv\", index=False)\n",
    "    \n",
    "    return sub"
   ]
  },
  {
   "cell_type": "markdown",
   "id": "51d1a806",
   "metadata": {
    "papermill": {
     "duration": 0.004633,
     "end_time": "2025-06-13T07:16:11.858139",
     "exception": false,
     "start_time": "2025-06-13T07:16:11.853506",
     "status": "completed"
    },
    "tags": []
   },
   "source": [
    "## LogisticRegression"
   ]
  },
  {
   "cell_type": "code",
   "execution_count": 10,
   "id": "b77aa5b6",
   "metadata": {
    "execution": {
     "iopub.execute_input": "2025-06-13T07:16:11.869392Z",
     "iopub.status.busy": "2025-06-13T07:16:11.869020Z",
     "iopub.status.idle": "2025-06-13T07:18:56.890515Z",
     "shell.execute_reply": "2025-06-13T07:18:56.889512Z"
    },
    "papermill": {
     "duration": 165.028843,
     "end_time": "2025-06-13T07:18:56.892016",
     "exception": false,
     "start_time": "2025-06-13T07:16:11.863173",
     "status": "completed"
    },
    "tags": []
   },
   "outputs": [
    {
     "name": "stdout",
     "output_type": "stream",
     "text": [
      "Training LogisticRegression\n",
      "\n",
      "--- Fold 1 - MAP@3: 0.364690\n",
      "--- Fold 2 - MAP@3: 0.366060\n",
      "--- Fold 3 - MAP@3: 0.368714\n",
      "--- Fold 4 - MAP@3: 0.366521\n",
      "--- Fold 5 - MAP@3: 0.366541\n",
      "\n",
      "------ Overall MAP@3: 0.366505 | Average MAP@3: 0.366505 ± 0.001294\n"
     ]
    }
   ],
   "source": [
    "lr_model = LogisticRegression(\n",
    "    C=0.3691232889729139,\n",
    "    fit_intercept=True,\n",
    "    max_iter=10000,\n",
    "    random_state=42,\n",
    "    tol=0.0021938847672756667,\n",
    "    solver=\"liblinear\",\n",
    "    penalty=\"l2\"\n",
    ") \n",
    "\n",
    "lr_trainer = Trainer(lr_model)\n",
    "_, lr_test_pred_probs, scores[\"LogisticRegression\"] = lr_trainer.fit_predict(X, y, X_test)"
   ]
  },
  {
   "cell_type": "code",
   "execution_count": 11,
   "id": "48896194",
   "metadata": {
    "execution": {
     "iopub.execute_input": "2025-06-13T07:18:56.904331Z",
     "iopub.status.busy": "2025-06-13T07:18:56.903660Z",
     "iopub.status.idle": "2025-06-13T07:19:22.461574Z",
     "shell.execute_reply": "2025-06-13T07:19:22.460463Z"
    },
    "papermill": {
     "duration": 25.565806,
     "end_time": "2025-06-13T07:19:22.463263",
     "exception": false,
     "start_time": "2025-06-13T07:18:56.897457",
     "status": "completed"
    },
    "tags": []
   },
   "outputs": [
    {
     "data": {
      "text/html": [
       "<div>\n",
       "<style scoped>\n",
       "    .dataframe tbody tr th:only-of-type {\n",
       "        vertical-align: middle;\n",
       "    }\n",
       "\n",
       "    .dataframe tbody tr th {\n",
       "        vertical-align: top;\n",
       "    }\n",
       "\n",
       "    .dataframe thead th {\n",
       "        text-align: right;\n",
       "    }\n",
       "</style>\n",
       "<table border=\"1\" class=\"dataframe\">\n",
       "  <thead>\n",
       "    <tr style=\"text-align: right;\">\n",
       "      <th></th>\n",
       "      <th>id</th>\n",
       "      <th>Fertilizer Name</th>\n",
       "    </tr>\n",
       "  </thead>\n",
       "  <tbody>\n",
       "    <tr>\n",
       "      <th>0</th>\n",
       "      <td>750000</td>\n",
       "      <td>10-26-26 20-20 DAP</td>\n",
       "    </tr>\n",
       "    <tr>\n",
       "      <th>1</th>\n",
       "      <td>750001</td>\n",
       "      <td>17-17-17 10-26-26 20-20</td>\n",
       "    </tr>\n",
       "    <tr>\n",
       "      <th>2</th>\n",
       "      <td>750002</td>\n",
       "      <td>20-20 28-28 Urea</td>\n",
       "    </tr>\n",
       "    <tr>\n",
       "      <th>3</th>\n",
       "      <td>750003</td>\n",
       "      <td>14-35-14 DAP 17-17-17</td>\n",
       "    </tr>\n",
       "    <tr>\n",
       "      <th>4</th>\n",
       "      <td>750004</td>\n",
       "      <td>20-20 Urea 10-26-26</td>\n",
       "    </tr>\n",
       "  </tbody>\n",
       "</table>\n",
       "</div>"
      ],
      "text/plain": [
       "       id          Fertilizer Name\n",
       "0  750000       10-26-26 20-20 DAP\n",
       "1  750001  17-17-17 10-26-26 20-20\n",
       "2  750002         20-20 28-28 Urea\n",
       "3  750003    14-35-14 DAP 17-17-17\n",
       "4  750004      20-20 Urea 10-26-26"
      ]
     },
     "execution_count": 11,
     "metadata": {},
     "output_type": "execute_result"
    }
   ],
   "source": [
    "create_submission(\"logistic-regression\", lr_test_pred_probs, np.mean(scores[\"LogisticRegression\"])).head()"
   ]
  },
  {
   "cell_type": "markdown",
   "id": "02c0a4d1",
   "metadata": {
    "papermill": {
     "duration": 0.005287,
     "end_time": "2025-06-13T07:19:22.474257",
     "exception": false,
     "start_time": "2025-06-13T07:19:22.468970",
     "status": "completed"
    },
    "tags": []
   },
   "source": [
    "## StackingClassifier"
   ]
  },
  {
   "cell_type": "code",
   "execution_count": 12,
   "id": "7c5c624c",
   "metadata": {
    "_kg_hide-input": true,
    "execution": {
     "iopub.execute_input": "2025-06-13T07:19:22.486123Z",
     "iopub.status.busy": "2025-06-13T07:19:22.485801Z",
     "iopub.status.idle": "2025-06-13T07:19:22.491964Z",
     "shell.execute_reply": "2025-06-13T07:19:22.491134Z"
    },
    "papermill": {
     "duration": 0.014046,
     "end_time": "2025-06-13T07:19:22.493555",
     "exception": false,
     "start_time": "2025-06-13T07:19:22.479509",
     "status": "completed"
    },
    "tags": []
   },
   "outputs": [],
   "source": [
    "# This is just a trick to avoid refitting all base models from scratch, which is what StackingClassifier and VotingClassifier do by default\n",
    "\n",
    "class PassThroughClassifier(BaseEstimator, ClassifierMixin):\n",
    "    def __init__(self, idx_cols):\n",
    "        self.idx_cols = idx_cols\n",
    "        self.is_fitted_ = True\n",
    "\n",
    "    def fit(self, X, y=None):\n",
    "        return self\n",
    "\n",
    "    def predict_proba(self, X):\n",
    "        return check_array(X)[:, self.idx_cols]\n",
    "\n",
    "\n",
    "estimators = [\n",
    "    ('LightGBM (gbdt)', PassThroughClassifier(list(range(0, 7)))),\n",
    "    ('LightGBM (goss)', PassThroughClassifier(list(range(7, 14)))),\n",
    "    ('XGBoost', PassThroughClassifier(list(range(14, 21)))),\n",
    "    ('AutoGluon', PassThroughClassifier(list(range(21, 28)))),\n",
    "]"
   ]
  },
  {
   "cell_type": "code",
   "execution_count": 13,
   "id": "529e0f37",
   "metadata": {
    "execution": {
     "iopub.execute_input": "2025-06-13T07:19:22.505901Z",
     "iopub.status.busy": "2025-06-13T07:19:22.505595Z",
     "iopub.status.idle": "2025-06-13T07:22:06.149925Z",
     "shell.execute_reply": "2025-06-13T07:22:06.148866Z"
    },
    "papermill": {
     "duration": 163.652494,
     "end_time": "2025-06-13T07:22:06.151619",
     "exception": false,
     "start_time": "2025-06-13T07:19:22.499125",
     "status": "completed"
    },
    "tags": []
   },
   "outputs": [
    {
     "name": "stdout",
     "output_type": "stream",
     "text": [
      "Training StackingClassifier\n",
      "\n",
      "--- Fold 1 - MAP@3: 0.364690\n",
      "--- Fold 2 - MAP@3: 0.366060\n",
      "--- Fold 3 - MAP@3: 0.368714\n",
      "--- Fold 4 - MAP@3: 0.366521\n",
      "--- Fold 5 - MAP@3: 0.366541\n",
      "\n",
      "------ Overall MAP@3: 0.366505 | Average MAP@3: 0.366505 ± 0.001294\n"
     ]
    }
   ],
   "source": [
    "stacking_model = StackingClassifier(estimators, cv='prefit', n_jobs=-1, final_estimator=clone(lr_model))\n",
    "stacking_trainer = Trainer(stacking_model)\n",
    "_, stacking_test_pred_probs, scores[\"StackingClassifier\"] = stacking_trainer.fit_predict(X, y, X_test)"
   ]
  },
  {
   "cell_type": "code",
   "execution_count": 14,
   "id": "0b340456",
   "metadata": {
    "execution": {
     "iopub.execute_input": "2025-06-13T07:22:06.164590Z",
     "iopub.status.busy": "2025-06-13T07:22:06.164269Z",
     "iopub.status.idle": "2025-06-13T07:22:31.921902Z",
     "shell.execute_reply": "2025-06-13T07:22:31.921090Z"
    },
    "papermill": {
     "duration": 25.76579,
     "end_time": "2025-06-13T07:22:31.923329",
     "exception": false,
     "start_time": "2025-06-13T07:22:06.157539",
     "status": "completed"
    },
    "tags": []
   },
   "outputs": [
    {
     "data": {
      "text/html": [
       "<div>\n",
       "<style scoped>\n",
       "    .dataframe tbody tr th:only-of-type {\n",
       "        vertical-align: middle;\n",
       "    }\n",
       "\n",
       "    .dataframe tbody tr th {\n",
       "        vertical-align: top;\n",
       "    }\n",
       "\n",
       "    .dataframe thead th {\n",
       "        text-align: right;\n",
       "    }\n",
       "</style>\n",
       "<table border=\"1\" class=\"dataframe\">\n",
       "  <thead>\n",
       "    <tr style=\"text-align: right;\">\n",
       "      <th></th>\n",
       "      <th>id</th>\n",
       "      <th>Fertilizer Name</th>\n",
       "    </tr>\n",
       "  </thead>\n",
       "  <tbody>\n",
       "    <tr>\n",
       "      <th>0</th>\n",
       "      <td>750000</td>\n",
       "      <td>10-26-26 20-20 DAP</td>\n",
       "    </tr>\n",
       "    <tr>\n",
       "      <th>1</th>\n",
       "      <td>750001</td>\n",
       "      <td>17-17-17 10-26-26 20-20</td>\n",
       "    </tr>\n",
       "    <tr>\n",
       "      <th>2</th>\n",
       "      <td>750002</td>\n",
       "      <td>20-20 28-28 Urea</td>\n",
       "    </tr>\n",
       "    <tr>\n",
       "      <th>3</th>\n",
       "      <td>750003</td>\n",
       "      <td>14-35-14 DAP 17-17-17</td>\n",
       "    </tr>\n",
       "    <tr>\n",
       "      <th>4</th>\n",
       "      <td>750004</td>\n",
       "      <td>20-20 Urea 10-26-26</td>\n",
       "    </tr>\n",
       "  </tbody>\n",
       "</table>\n",
       "</div>"
      ],
      "text/plain": [
       "       id          Fertilizer Name\n",
       "0  750000       10-26-26 20-20 DAP\n",
       "1  750001  17-17-17 10-26-26 20-20\n",
       "2  750002         20-20 28-28 Urea\n",
       "3  750003    14-35-14 DAP 17-17-17\n",
       "4  750004      20-20 Urea 10-26-26"
      ]
     },
     "execution_count": 14,
     "metadata": {},
     "output_type": "execute_result"
    }
   ],
   "source": [
    "create_submission(\"stacking-classifier\", stacking_test_pred_probs, np.mean(scores[\"StackingClassifier\"])).head()"
   ]
  },
  {
   "cell_type": "markdown",
   "id": "707d141a",
   "metadata": {
    "papermill": {
     "duration": 0.005482,
     "end_time": "2025-06-13T07:22:31.934875",
     "exception": false,
     "start_time": "2025-06-13T07:22:31.929393",
     "status": "completed"
    },
    "tags": []
   },
   "source": [
    "## VotingClassifier"
   ]
  },
  {
   "cell_type": "code",
   "execution_count": 15,
   "id": "83453c50",
   "metadata": {
    "execution": {
     "iopub.execute_input": "2025-06-13T07:22:31.948106Z",
     "iopub.status.busy": "2025-06-13T07:22:31.947260Z",
     "iopub.status.idle": "2025-06-13T07:22:42.595195Z",
     "shell.execute_reply": "2025-06-13T07:22:42.594180Z"
    },
    "papermill": {
     "duration": 10.65604,
     "end_time": "2025-06-13T07:22:42.596574",
     "exception": false,
     "start_time": "2025-06-13T07:22:31.940534",
     "status": "completed"
    },
    "tags": []
   },
   "outputs": [
    {
     "name": "stdout",
     "output_type": "stream",
     "text": [
      "Training VotingClassifier\n",
      "\n",
      "--- Fold 1 - MAP@3: 0.362856\n",
      "--- Fold 2 - MAP@3: 0.363509\n",
      "--- Fold 3 - MAP@3: 0.365732\n",
      "--- Fold 4 - MAP@3: 0.363687\n",
      "--- Fold 5 - MAP@3: 0.363853\n",
      "\n",
      "------ Overall MAP@3: 0.363927 | Average MAP@3: 0.363927 ± 0.000964\n"
     ]
    }
   ],
   "source": [
    "voting_model = VotingClassifier(estimators, n_jobs=-1, voting='soft')\n",
    "voting_trainer = Trainer(voting_model)\n",
    "_, voting_test_pred_probs, scores[\"VotingClassifier\"] = voting_trainer.fit_predict(X, y, X_test)"
   ]
  },
  {
   "cell_type": "code",
   "execution_count": 16,
   "id": "3651af13",
   "metadata": {
    "execution": {
     "iopub.execute_input": "2025-06-13T07:22:42.610600Z",
     "iopub.status.busy": "2025-06-13T07:22:42.610324Z",
     "iopub.status.idle": "2025-06-13T07:23:09.184857Z",
     "shell.execute_reply": "2025-06-13T07:23:09.184098Z"
    },
    "papermill": {
     "duration": 26.583445,
     "end_time": "2025-06-13T07:23:09.186594",
     "exception": false,
     "start_time": "2025-06-13T07:22:42.603149",
     "status": "completed"
    },
    "tags": []
   },
   "outputs": [
    {
     "data": {
      "text/html": [
       "<div>\n",
       "<style scoped>\n",
       "    .dataframe tbody tr th:only-of-type {\n",
       "        vertical-align: middle;\n",
       "    }\n",
       "\n",
       "    .dataframe tbody tr th {\n",
       "        vertical-align: top;\n",
       "    }\n",
       "\n",
       "    .dataframe thead th {\n",
       "        text-align: right;\n",
       "    }\n",
       "</style>\n",
       "<table border=\"1\" class=\"dataframe\">\n",
       "  <thead>\n",
       "    <tr style=\"text-align: right;\">\n",
       "      <th></th>\n",
       "      <th>id</th>\n",
       "      <th>Fertilizer Name</th>\n",
       "    </tr>\n",
       "  </thead>\n",
       "  <tbody>\n",
       "    <tr>\n",
       "      <th>0</th>\n",
       "      <td>750000</td>\n",
       "      <td>10-26-26 DAP 20-20</td>\n",
       "    </tr>\n",
       "    <tr>\n",
       "      <th>1</th>\n",
       "      <td>750001</td>\n",
       "      <td>17-17-17 10-26-26 20-20</td>\n",
       "    </tr>\n",
       "    <tr>\n",
       "      <th>2</th>\n",
       "      <td>750002</td>\n",
       "      <td>20-20 28-28 17-17-17</td>\n",
       "    </tr>\n",
       "    <tr>\n",
       "      <th>3</th>\n",
       "      <td>750003</td>\n",
       "      <td>14-35-14 DAP Urea</td>\n",
       "    </tr>\n",
       "    <tr>\n",
       "      <th>4</th>\n",
       "      <td>750004</td>\n",
       "      <td>20-20 Urea 10-26-26</td>\n",
       "    </tr>\n",
       "  </tbody>\n",
       "</table>\n",
       "</div>"
      ],
      "text/plain": [
       "       id          Fertilizer Name\n",
       "0  750000       10-26-26 DAP 20-20\n",
       "1  750001  17-17-17 10-26-26 20-20\n",
       "2  750002     20-20 28-28 17-17-17\n",
       "3  750003        14-35-14 DAP Urea\n",
       "4  750004      20-20 Urea 10-26-26"
      ]
     },
     "execution_count": 16,
     "metadata": {},
     "output_type": "execute_result"
    }
   ],
   "source": [
    "create_submission(\"voting-classifier\", voting_test_pred_probs, np.mean(scores[\"VotingClassifier\"])).head()"
   ]
  },
  {
   "cell_type": "markdown",
   "id": "222563cf",
   "metadata": {
    "papermill": {
     "duration": 0.00604,
     "end_time": "2025-06-13T07:23:09.199203",
     "exception": false,
     "start_time": "2025-06-13T07:23:09.193163",
     "status": "completed"
    },
    "tags": []
   },
   "source": [
    "## Weighted averaging"
   ]
  },
  {
   "cell_type": "code",
   "execution_count": 17,
   "id": "6775ad51",
   "metadata": {
    "_kg_hide-output": true,
    "execution": {
     "iopub.execute_input": "2025-06-13T07:23:09.213008Z",
     "iopub.status.busy": "2025-06-13T07:23:09.212725Z",
     "iopub.status.idle": "2025-06-13T07:30:00.218291Z",
     "shell.execute_reply": "2025-06-13T07:30:00.216686Z"
    },
    "papermill": {
     "duration": 411.014759,
     "end_time": "2025-06-13T07:30:00.220183",
     "exception": false,
     "start_time": "2025-06-13T07:23:09.205424",
     "status": "completed"
    },
    "scrolled": true,
    "tags": []
   },
   "outputs": [
    {
     "name": "stderr",
     "output_type": "stream",
     "text": [
      "[I 2025-06-13 07:23:09,217] A new study created in memory with name: no-name-2b8f54c1-4681-4e47-b943-c852a791a24d\n",
      "[I 2025-06-13 07:23:15,333] Trial 1 finished with value: 0.3610815555555555 and parameters: {'LightGBM (gbdt)': 0.06913767634738277, 'LightGBM (goss)': 0.12472322770015343, 'XGBoost': 0.3651068106277433, 'AutoGluon': 0.4928090311338207}. Best is trial 1 with value: 0.3610815555555555.\n",
      "[I 2025-06-13 07:23:15,679] Trial 0 finished with value: 0.3637 and parameters: {'LightGBM (gbdt)': 0.8857085100072501, 'LightGBM (goss)': 0.47893640879662003, 'XGBoost': 0.3470764345711279, 'AutoGluon': 0.42452134319773716}. Best is trial 0 with value: 0.3637.\n",
      "[I 2025-06-13 07:23:16,017] Trial 2 finished with value: 0.3619364444444445 and parameters: {'LightGBM (gbdt)': 0.9352768632642752, 'LightGBM (goss)': 0.5680704766847753, 'XGBoost': 0.100295286578161, 'AutoGluon': 0.6866211652517454}. Best is trial 0 with value: 0.3637.\n",
      "[I 2025-06-13 07:23:16,185] Trial 3 finished with value: 0.36504777777777775 and parameters: {'LightGBM (gbdt)': 0.925867405006503, 'LightGBM (goss)': 0.8206711903855605, 'XGBoost': 0.9886219608241446, 'AutoGluon': 0.31446195139753674}. Best is trial 3 with value: 0.36504777777777775.\n",
      "[I 2025-06-13 07:23:22,723] Trial 7 finished with value: 0.3653553333333334 and parameters: {'LightGBM (gbdt)': 0.9719094863003328, 'LightGBM (goss)': 0.7922826970086408, 'XGBoost': 0.9954039665946675, 'AutoGluon': 0.11060622525318642}. Best is trial 7 with value: 0.3653553333333334.\n",
      "[I 2025-06-13 07:23:23,065] Trial 4 finished with value: 0.3640051111111111 and parameters: {'LightGBM (gbdt)': 0.6024629379169233, 'LightGBM (goss)': 0.31233341459716135, 'XGBoost': 0.3662648400303957, 'AutoGluon': 0.37395890024831147}. Best is trial 7 with value: 0.3653553333333334.\n",
      "[I 2025-06-13 07:23:23,386] Trial 6 finished with value: 0.36345866666666676 and parameters: {'LightGBM (gbdt)': 0.7955943982460493, 'LightGBM (goss)': 0.4842346527242042, 'XGBoost': 0.40277852671210734, 'AutoGluon': 0.5524813229281064}. Best is trial 7 with value: 0.3653553333333334.\n",
      "[I 2025-06-13 07:23:23,934] Trial 5 finished with value: 0.3635511111111111 and parameters: {'LightGBM (gbdt)': 0.5048181202101415, 'LightGBM (goss)': 0.2476055619300992, 'XGBoost': 0.6752363363455973, 'AutoGluon': 0.7167858761759764}. Best is trial 7 with value: 0.3653553333333334.\n",
      "[I 2025-06-13 07:23:28,251] Trial 8 finished with value: 0.36285666666666666 and parameters: {'LightGBM (gbdt)': 0.673490966515124, 'LightGBM (goss)': 0.9395336690078616, 'XGBoost': 0.09060369429202353, 'AutoGluon': 0.30983737818965507}. Best is trial 7 with value: 0.3653553333333334.\n",
      "[I 2025-06-13 07:23:28,683] Trial 9 finished with value: 0.3643253333333334 and parameters: {'LightGBM (gbdt)': 0.6273173087194011, 'LightGBM (goss)': 0.9154918143023412, 'XGBoost': 0.6643331868747844, 'AutoGluon': 0.4629695914348052}. Best is trial 7 with value: 0.3653553333333334.\n",
      "[I 2025-06-13 07:23:29,941] Trial 11 finished with value: 0.3652924444444444 and parameters: {'LightGBM (gbdt)': 0.4562106704065576, 'LightGBM (goss)': 0.4038605648372142, 'XGBoost': 0.9006534510261964, 'AutoGluon': 0.32332016237967054}. Best is trial 7 with value: 0.3653553333333334.\n",
      "[I 2025-06-13 07:23:30,116] Trial 10 finished with value: 0.36413288888888906 and parameters: {'LightGBM (gbdt)': 0.6498369306572386, 'LightGBM (goss)': 0.9942723153357662, 'XGBoost': 0.6162996625220319, 'AutoGluon': 0.46864717681723533}. Best is trial 7 with value: 0.3653553333333334.\n",
      "[I 2025-06-13 07:23:33,762] Trial 12 finished with value: 0.3646508888888889 and parameters: {'LightGBM (gbdt)': 0.17024256939808924, 'LightGBM (goss)': 0.38440149818862657, 'XGBoost': 0.37715263497179763, 'AutoGluon': 0.1963386188727423}. Best is trial 7 with value: 0.3653553333333334.\n",
      "[I 2025-06-13 07:23:35,929] Trial 13 finished with value: 0.36575866666666657 and parameters: {'LightGBM (gbdt)': 0.26475487697322864, 'LightGBM (goss)': 0.7000844924748054, 'XGBoost': 0.995546868519542, 'AutoGluon': 0.00577701321646075}. Best is trial 13 with value: 0.36575866666666657.\n",
      "[I 2025-06-13 07:23:36,482] Trial 15 finished with value: 0.3656873333333333 and parameters: {'LightGBM (gbdt)': 0.2653691336912103, 'LightGBM (goss)': 0.7086517516471861, 'XGBoost': 0.9542824758345905, 'AutoGluon': 0.03587224843379877}. Best is trial 13 with value: 0.36575866666666657.\n",
      "[I 2025-06-13 07:23:36,483] Trial 14 finished with value: 0.36570511111111115 and parameters: {'LightGBM (gbdt)': 0.26797845550828825, 'LightGBM (goss)': 0.7263947459626481, 'XGBoost': 0.9783953774891022, 'AutoGluon': 0.025074057174236053}. Best is trial 13 with value: 0.36575866666666657.\n",
      "[I 2025-06-13 07:23:40,466] Trial 16 finished with value: 0.36576044444444455 and parameters: {'LightGBM (gbdt)': 0.3229502934601243, 'LightGBM (goss)': 0.6743370814413695, 'XGBoost': 0.9878434551422814, 'AutoGluon': 0.0522924202642836}. Best is trial 16 with value: 0.36576044444444455.\n",
      "[I 2025-06-13 07:23:41,755] Trial 17 finished with value: 0.36556422222222223 and parameters: {'LightGBM (gbdt)': 0.2993662703447624, 'LightGBM (goss)': 0.6940645198865596, 'XGBoost': 0.8222605026942558, 'AutoGluon': 0.02427866207364618}. Best is trial 16 with value: 0.36576044444444455.\n",
      "[I 2025-06-13 07:23:42,066] Trial 19 finished with value: 0.36295088888888893 and parameters: {'LightGBM (gbdt)': 0.32424365586514775, 'LightGBM (goss)': 0.6667097627274119, 'XGBoost': 0.8364340109762995, 'AutoGluon': 0.9892677801146865}. Best is trial 16 with value: 0.36576044444444455.\n",
      "[I 2025-06-13 07:23:45,717] Trial 18 finished with value: 0.3631137777777778 and parameters: {'LightGBM (gbdt)': 0.29874950084769536, 'LightGBM (goss)': 0.6442713813632672, 'XGBoost': 0.8314914927774597, 'AutoGluon': 0.9123749712287367}. Best is trial 16 with value: 0.36576044444444455.\n",
      "[I 2025-06-13 07:23:46,989] Trial 21 finished with value: 0.3633815555555555 and parameters: {'LightGBM (gbdt)': 0.4034698338733997, 'LightGBM (goss)': 0.6319159485535711, 'XGBoost': 0.8012368891664517, 'AutoGluon': 0.870278815488436}. Best is trial 16 with value: 0.36576044444444455.\n",
      "[I 2025-06-13 07:23:47,096] Trial 20 finished with value: 0.36305533333333334 and parameters: {'LightGBM (gbdt)': 0.3469447403028141, 'LightGBM (goss)': 0.6021658622333717, 'XGBoost': 0.7950519673543519, 'AutoGluon': 0.9179686856832941}. Best is trial 16 with value: 0.36576044444444455.\n",
      "[I 2025-06-13 07:23:47,596] Trial 22 finished with value: 0.36528111111111117 and parameters: {'LightGBM (gbdt)': 0.016517477184229412, 'LightGBM (goss)': 0.588998866697371, 'XGBoost': 0.7734589304127936, 'AutoGluon': 0.1797661622121807}. Best is trial 16 with value: 0.36576044444444455.\n",
      "[I 2025-06-13 07:23:53,643] Trial 24 finished with value: 0.3653591111111112 and parameters: {'LightGBM (gbdt)': 0.17572688464937103, 'LightGBM (goss)': 0.7964539437859671, 'XGBoost': 0.9123101229198214, 'AutoGluon': 0.16282917991625312}. Best is trial 16 with value: 0.36576044444444455.\n",
      "[I 2025-06-13 07:23:53,931] Trial 23 finished with value: 0.365274888888889 and parameters: {'LightGBM (gbdt)': 0.06484880841655521, 'LightGBM (goss)': 0.574401458278298, 'XGBoost': 0.7402721615847019, 'AutoGluon': 0.1742695291833028}. Best is trial 16 with value: 0.36576044444444455.\n",
      "[I 2025-06-13 07:23:54,239] Trial 25 finished with value: 0.3646051111111111 and parameters: {'LightGBM (gbdt)': 0.0050375356492824985, 'LightGBM (goss)': 0.7899496095292072, 'XGBoost': 0.5886167492333646, 'AutoGluon': 0.14713535933358954}. Best is trial 16 with value: 0.36576044444444455.\n",
      "[I 2025-06-13 07:23:54,858] Trial 26 finished with value: 0.36535333333333325 and parameters: {'LightGBM (gbdt)': 0.18694636446685392, 'LightGBM (goss)': 0.7970137997989876, 'XGBoost': 0.9130789254829207, 'AutoGluon': 0.16041366721928868}. Best is trial 16 with value: 0.36576044444444455.\n",
      "[I 2025-06-13 07:24:00,863] Trial 28 finished with value: 0.36492022222222215 and parameters: {'LightGBM (gbdt)': 0.18420706869193726, 'LightGBM (goss)': 0.7544895280340903, 'XGBoost': 0.5633548861555282, 'AutoGluon': 0.08086077711371703}. Best is trial 16 with value: 0.36576044444444455.\n",
      "[I 2025-06-13 07:24:01,010] Trial 27 finished with value: 0.36552866666666667 and parameters: {'LightGBM (gbdt)': 0.21291962488444122, 'LightGBM (goss)': 0.7685726823098816, 'XGBoost': 0.9074561081813646, 'AutoGluon': 0.01147361157615745}. Best is trial 16 with value: 0.36576044444444455.\n",
      "[I 2025-06-13 07:24:01,626] Trial 30 finished with value: 0.36459333333333327 and parameters: {'LightGBM (gbdt)': 0.5204299437588504, 'LightGBM (goss)': 0.8708619116264682, 'XGBoost': 0.5187325673940024, 'AutoGluon': 0.08106309063186841}. Best is trial 16 with value: 0.36576044444444455.\n",
      "[I 2025-06-13 07:24:01,627] Trial 29 finished with value: 0.36542911111111115 and parameters: {'LightGBM (gbdt)': 0.19014431147997418, 'LightGBM (goss)': 0.8565654733120269, 'XGBoost': 0.8998656885019714, 'AutoGluon': 0.0056660901240839084}. Best is trial 16 with value: 0.36576044444444455.\n",
      "[I 2025-06-13 07:24:06,055] Trial 31 finished with value: 0.3646284444444444 and parameters: {'LightGBM (gbdt)': 0.5211549253646655, 'LightGBM (goss)': 0.9087039813264116, 'XGBoost': 0.4896086790139193, 'AutoGluon': 0.005569619609620158}. Best is trial 16 with value: 0.36576044444444455.\n",
      "[I 2025-06-13 07:24:06,787] Trial 32 finished with value: 0.36356822222222224 and parameters: {'LightGBM (gbdt)': 0.5270168861457145, 'LightGBM (goss)': 0.8866491176349272, 'XGBoost': 0.2508692083532273, 'AutoGluon': 0.2365539224032086}. Best is trial 16 with value: 0.36576044444444455.\n",
      "[I 2025-06-13 07:24:07,420] Trial 34 finished with value: 0.365348 and parameters: {'LightGBM (gbdt)': 0.24879055018056345, 'LightGBM (goss)': 0.7102184053410014, 'XGBoost': 0.9996906044929263, 'AutoGluon': 0.24830306227627894}. Best is trial 16 with value: 0.36576044444444455.\n",
      "[I 2025-06-13 07:24:11,339] Trial 33 finished with value: 0.3653475555555554 and parameters: {'LightGBM (gbdt)': 0.2470315144882249, 'LightGBM (goss)': 0.7143925055413112, 'XGBoost': 0.9949300022560038, 'AutoGluon': 0.2454917617819346}. Best is trial 16 with value: 0.36576044444444455.\n",
      "[I 2025-06-13 07:24:12,425] Trial 37 finished with value: 0.36586177777777784 and parameters: {'LightGBM (gbdt)': 0.39622248983124136, 'LightGBM (goss)': 0.5328838745452817, 'XGBoost': 0.9450971268888939, 'AutoGluon': 0.0720316065269912}. Best is trial 37 with value: 0.36586177777777784.\n",
      "[I 2025-06-13 07:24:12,667] Trial 36 finished with value: 0.36531555555555567 and parameters: {'LightGBM (gbdt)': 0.25615145853705734, 'LightGBM (goss)': 0.7103648138104566, 'XGBoost': 0.9759356324508314, 'AutoGluon': 0.24691637307808284}. Best is trial 37 with value: 0.36586177777777784.\n",
      "[I 2025-06-13 07:24:13,019] Trial 35 finished with value: 0.36536911111111103 and parameters: {'LightGBM (gbdt)': 0.254167215485683, 'LightGBM (goss)': 0.7070276192376976, 'XGBoost': 0.9929238027584724, 'AutoGluon': 0.23577217280427498}. Best is trial 37 with value: 0.36586177777777784.\n",
      "[I 2025-06-13 07:24:17,938] Trial 38 finished with value: 0.36582933333333334 and parameters: {'LightGBM (gbdt)': 0.41156350802477126, 'LightGBM (goss)': 0.5236557595886728, 'XGBoost': 0.9357598315548054, 'AutoGluon': 0.08950972046989619}. Best is trial 37 with value: 0.36586177777777784.\n",
      "[I 2025-06-13 07:24:18,307] Trial 39 finished with value: 0.3655773333333332 and parameters: {'LightGBM (gbdt)': 0.415438361302929, 'LightGBM (goss)': 0.5260201245350608, 'XGBoost': 0.7189476619106254, 'AutoGluon': 0.09012847726363472}. Best is trial 37 with value: 0.36586177777777784.\n",
      "[I 2025-06-13 07:24:18,960] Trial 40 finished with value: 0.3640702222222222 and parameters: {'LightGBM (gbdt)': 0.3906248123062013, 'LightGBM (goss)': 0.5314874458640189, 'XGBoost': 0.20216821447508282, 'AutoGluon': 0.08148283307107781}. Best is trial 37 with value: 0.36586177777777784.\n",
      "[I 2025-06-13 07:24:19,204] Trial 41 finished with value: 0.36434200000000005 and parameters: {'LightGBM (gbdt)': 0.3785065354866214, 'LightGBM (goss)': 0.06313858883424972, 'XGBoost': 0.8645607342426741, 'AutoGluon': 0.5535391194813566}. Best is trial 37 with value: 0.36586177777777784.\n",
      "[I 2025-06-13 07:24:25,526] Trial 43 finished with value: 0.36411866666666676 and parameters: {'LightGBM (gbdt)': 0.3774859942557637, 'LightGBM (goss)': 0.030382127335949027, 'XGBoost': 0.8598312313062625, 'AutoGluon': 0.5913458611706335}. Best is trial 37 with value: 0.36586177777777784.\n",
      "[I 2025-06-13 07:24:25,804] Trial 42 finished with value: 0.36421333333333317 and parameters: {'LightGBM (gbdt)': 0.4030985442339964, 'LightGBM (goss)': 0.5009924002567079, 'XGBoost': 0.7129275599601808, 'AutoGluon': 0.5446908243990516}. Best is trial 37 with value: 0.36586177777777784.\n",
      "[I 2025-06-13 07:24:26,169] Trial 45 finished with value: 0.36585088888888884 and parameters: {'LightGBM (gbdt)': 0.4543272613594122, 'LightGBM (goss)': 0.4288437634734922, 'XGBoost': 0.9418839245405993, 'AutoGluon': 0.12585152479831427}. Best is trial 37 with value: 0.36586177777777784.\n",
      "[I 2025-06-13 07:24:26,684] Trial 44 finished with value: 0.36579066666666676 and parameters: {'LightGBM (gbdt)': 0.4678389026125728, 'LightGBM (goss)': 0.43669430903372153, 'XGBoost': 0.8642312079437704, 'AutoGluon': 0.113954974996024}. Best is trial 37 with value: 0.36586177777777784.\n",
      "[I 2025-06-13 07:24:31,528] Trial 47 finished with value: 0.36582177777777775 and parameters: {'LightGBM (gbdt)': 0.11387639809870062, 'LightGBM (goss)': 0.43867089384277147, 'XGBoost': 0.9195065701776216, 'AutoGluon': 0.1192336519756264}. Best is trial 37 with value: 0.36586177777777784.\n",
      "[I 2025-06-13 07:24:31,773] Trial 46 finished with value: 0.36580977777777784 and parameters: {'LightGBM (gbdt)': 0.4602775493127202, 'LightGBM (goss)': 0.4547098978102961, 'XGBoost': 0.9419029950470783, 'AutoGluon': 0.12059577072895263}. Best is trial 37 with value: 0.36586177777777784.\n",
      "[I 2025-06-13 07:24:32,329] Trial 48 finished with value: 0.36573533333333325 and parameters: {'LightGBM (gbdt)': 0.5793136138267898, 'LightGBM (goss)': 0.45459048503787386, 'XGBoost': 0.941866687940778, 'AutoGluon': 0.1254483253536241}. Best is trial 37 with value: 0.36586177777777784.\n",
      "[I 2025-06-13 07:24:32,634] Trial 49 finished with value: 0.36516533333333334 and parameters: {'LightGBM (gbdt)': 0.5824808195645446, 'LightGBM (goss)': 0.42728438471928054, 'XGBoost': 0.9445653203003279, 'AutoGluon': 0.39167950846304755}. Best is trial 37 with value: 0.36586177777777784.\n",
      "[I 2025-06-13 07:24:38,493] Trial 51 finished with value: 0.36187066666666684 and parameters: {'LightGBM (gbdt)': 0.573708889356117, 'LightGBM (goss)': 0.29382596266485683, 'XGBoost': 0.0033063042108919527, 'AutoGluon': 0.3450059911952738}. Best is trial 37 with value: 0.36586177777777784.\n",
      "[I 2025-06-13 07:24:39,147] Trial 52 finished with value: 0.36234377777777776 and parameters: {'LightGBM (gbdt)': 0.7653847064902662, 'LightGBM (goss)': 0.24099117532931874, 'XGBoost': 0.047149174268711236, 'AutoGluon': 0.4002242695335205}. Best is trial 37 with value: 0.36586177777777784.\n",
      "[I 2025-06-13 07:24:39,266] Trial 53 finished with value: 0.3649211111111111 and parameters: {'LightGBM (gbdt)': 0.7227004402747907, 'LightGBM (goss)': 0.3371025156239945, 'XGBoost': 0.6611800361903604, 'AutoGluon': 0.31277878571900747}. Best is trial 37 with value: 0.36586177777777784.\n",
      "[I 2025-06-13 07:24:39,348] Trial 50 finished with value: 0.3653297777777779 and parameters: {'LightGBM (gbdt)': 0.5831352526672089, 'LightGBM (goss)': 0.22825899251762216, 'XGBoost': 0.9326090614698936, 'AutoGluon': 0.3741394128958611}. Best is trial 37 with value: 0.36586177777777784.\n",
      "[I 2025-06-13 07:24:44,928] Trial 56 finished with value: 0.36584577777777766 and parameters: {'LightGBM (gbdt)': 0.4624488257490134, 'LightGBM (goss)': 0.3744496021629591, 'XGBoost': 0.8626198740705077, 'AutoGluon': 0.10967817720573052}. Best is trial 37 with value: 0.36586177777777784.\n",
      "[I 2025-06-13 07:24:45,274] Trial 55 finished with value: 0.36581022222222226 and parameters: {'LightGBM (gbdt)': 0.4756745809850193, 'LightGBM (goss)': 0.37463371088574027, 'XGBoost': 0.866839149888744, 'AutoGluon': 0.11727165496131514}. Best is trial 37 with value: 0.36586177777777784.\n",
      "[I 2025-06-13 07:24:45,609] Trial 54 finished with value: 0.3656231111111112 and parameters: {'LightGBM (gbdt)': 0.8095306140817627, 'LightGBM (goss)': 0.35185637744091985, 'XGBoost': 0.8693877549965554, 'AutoGluon': 0.12280973557101624}. Best is trial 37 with value: 0.36586177777777784.\n",
      "[I 2025-06-13 07:24:45,886] Trial 57 finished with value: 0.36582 and parameters: {'LightGBM (gbdt)': 0.4597936117938705, 'LightGBM (goss)': 0.3858742095101375, 'XGBoost': 0.869672595726279, 'AutoGluon': 0.11799416207978773}. Best is trial 37 with value: 0.36586177777777784.\n",
      "[I 2025-06-13 07:24:51,366] Trial 58 finished with value: 0.3657666666666667 and parameters: {'LightGBM (gbdt)': 0.46491792089455025, 'LightGBM (goss)': 0.39858471711726007, 'XGBoost': 0.8805853048327744, 'AutoGluon': 0.1306544824593194}. Best is trial 37 with value: 0.36586177777777784.\n",
      "[I 2025-06-13 07:24:51,544] Trial 60 finished with value: 0.3654122222222222 and parameters: {'LightGBM (gbdt)': 0.09922623534176311, 'LightGBM (goss)': 0.38891084033345746, 'XGBoost': 0.7971473694112624, 'AutoGluon': 0.20978451933085637}. Best is trial 37 with value: 0.36586177777777784.\n",
      "[I 2025-06-13 07:24:52,055] Trial 59 finished with value: 0.3651597777777778 and parameters: {'LightGBM (gbdt)': 0.11519586770263726, 'LightGBM (goss)': 0.3707183741427307, 'XGBoost': 0.7653080564939523, 'AutoGluon': 0.2851881838461589}. Best is trial 37 with value: 0.36586177777777784.\n",
      "[I 2025-06-13 07:24:52,362] Trial 61 finished with value: 0.36559777777777785 and parameters: {'LightGBM (gbdt)': 0.13501457864892477, 'LightGBM (goss)': 0.2827915416695058, 'XGBoost': 0.7675473042880919, 'AutoGluon': 0.20157741021796977}. Best is trial 37 with value: 0.36586177777777784.\n",
      "[I 2025-06-13 07:24:57,960] Trial 63 finished with value: 0.36579533333333347 and parameters: {'LightGBM (gbdt)': 0.6320584705410934, 'LightGBM (goss)': 0.17012032831456292, 'XGBoost': 0.7401058829607281, 'AutoGluon': 0.05202081587519056}. Best is trial 37 with value: 0.36586177777777784.\n",
      "[I 2025-06-13 07:24:58,140] Trial 62 finished with value: 0.3657662222222221 and parameters: {'LightGBM (gbdt)': 0.6446331825870097, 'LightGBM (goss)': 0.19070991954074956, 'XGBoost': 0.7469347996735429, 'AutoGluon': 0.05866702580706003}. Best is trial 37 with value: 0.36586177777777784.\n",
      "[I 2025-06-13 07:24:58,811] Trial 65 finished with value: 0.36583422222222217 and parameters: {'LightGBM (gbdt)': 0.4260735745177334, 'LightGBM (goss)': 0.48654106535107317, 'XGBoost': 0.8433792757587087, 'AutoGluon': 0.0558981516985916}. Best is trial 37 with value: 0.36586177777777784.\n",
      "[I 2025-06-13 07:24:59,187] Trial 64 finished with value: 0.36592222222222226 and parameters: {'LightGBM (gbdt)': 0.4387422868383645, 'LightGBM (goss)': 0.2744882560193773, 'XGBoost': 0.8233903742970381, 'AutoGluon': 0.05862113451796885}. Best is trial 64 with value: 0.36592222222222226.\n",
      "[I 2025-06-13 07:25:03,881] Trial 66 finished with value: 0.3654997777777777 and parameters: {'LightGBM (gbdt)': 0.4951480830001874, 'LightGBM (goss)': 0.48135535394305257, 'XGBoost': 0.8319304898502501, 'AutoGluon': 0.15629395654552328}. Best is trial 64 with value: 0.36592222222222226.\n",
      "[I 2025-06-13 07:25:04,244] Trial 67 finished with value: 0.36574400000000007 and parameters: {'LightGBM (gbdt)': 0.43396540227469704, 'LightGBM (goss)': 0.538469788468135, 'XGBoost': 0.8293537463137709, 'AutoGluon': 0.051506093168334974}. Best is trial 64 with value: 0.36592222222222226.\n",
      "[I 2025-06-13 07:25:04,651] Trial 68 finished with value: 0.3658760000000001 and parameters: {'LightGBM (gbdt)': 0.35187934550216965, 'LightGBM (goss)': 0.4941568386188667, 'XGBoost': 0.8319960879474272, 'AutoGluon': 0.05016447953396431}. Best is trial 64 with value: 0.36592222222222226.\n",
      "[I 2025-06-13 07:25:05,221] Trial 69 finished with value: 0.3654286666666667 and parameters: {'LightGBM (gbdt)': 0.4233301084014805, 'LightGBM (goss)': 0.5461103364934233, 'XGBoost': 0.8243777288197274, 'AutoGluon': 0.1648636764646796}. Best is trial 64 with value: 0.36592222222222226.\n",
      "[I 2025-06-13 07:25:10,612] Trial 71 finished with value: 0.36584555555555565 and parameters: {'LightGBM (gbdt)': 0.36091799235991195, 'LightGBM (goss)': 0.6117555152368113, 'XGBoost': 0.9590903756661175, 'AutoGluon': 0.0359791622790269}. Best is trial 64 with value: 0.36592222222222226.\n",
      "[I 2025-06-13 07:25:11,137] Trial 73 finished with value: 0.36585377777777783 and parameters: {'LightGBM (gbdt)': 0.3475272334061778, 'LightGBM (goss)': 0.6142406449521165, 'XGBoost': 0.9642963909348239, 'AutoGluon': 0.031080842168724553}. Best is trial 64 with value: 0.36592222222222226.\n",
      "[I 2025-06-13 07:25:11,347] Trial 72 finished with value: 0.36564622222222215 and parameters: {'LightGBM (gbdt)': 0.3425079294476956, 'LightGBM (goss)': 0.624655876874262, 'XGBoost': 0.8033298631230885, 'AutoGluon': 0.04316830248261823}. Best is trial 64 with value: 0.36592222222222226.\n",
      "[I 2025-06-13 07:25:11,875] Trial 70 finished with value: 0.3657575555555555 and parameters: {'LightGBM (gbdt)': 0.42729918722323146, 'LightGBM (goss)': 0.5314870641616241, 'XGBoost': 0.8276741055953474, 'AutoGluon': 0.04429585551764616}. Best is trial 64 with value: 0.36592222222222226.\n",
      "[I 2025-06-13 07:25:17,966] Trial 76 finished with value: 0.3658828888888889 and parameters: {'LightGBM (gbdt)': 0.34365781560886965, 'LightGBM (goss)': 0.6066364599420095, 'XGBoost': 0.9633224349663657, 'AutoGluon': 0.030025647869235846}. Best is trial 64 with value: 0.36592222222222226.\n",
      "[I 2025-06-13 07:25:18,178] Trial 74 finished with value: 0.3658415555555556 and parameters: {'LightGBM (gbdt)': 0.3573800341408621, 'LightGBM (goss)': 0.6168211333583584, 'XGBoost': 0.9637765537183625, 'AutoGluon': 0.03248010433867207}. Best is trial 64 with value: 0.36592222222222226.\n",
      "[I 2025-06-13 07:25:18,266] Trial 77 finished with value: 0.36588044444444434 and parameters: {'LightGBM (gbdt)': 0.29470478029321734, 'LightGBM (goss)': 0.5775216689939777, 'XGBoost': 0.9622475500939658, 'AutoGluon': 0.0037082420002157723}. Best is trial 64 with value: 0.36592222222222226.\n",
      "[I 2025-06-13 07:25:18,413] Trial 75 finished with value: 0.365872 and parameters: {'LightGBM (gbdt)': 0.34364721548330357, 'LightGBM (goss)': 0.6003694616248285, 'XGBoost': 0.969561082622759, 'AutoGluon': 0.03148270137586479}. Best is trial 64 with value: 0.36592222222222226.\n",
      "[I 2025-06-13 07:25:23,979] Trial 78 finished with value: 0.3657204444444444 and parameters: {'LightGBM (gbdt)': 0.30450493666573153, 'LightGBM (goss)': 0.6615206330702524, 'XGBoost': 0.9002689732866719, 'AutoGluon': 0.0059252323097147425}. Best is trial 64 with value: 0.36592222222222226.\n",
      "[I 2025-06-13 07:25:24,407] Trial 81 finished with value: 0.3658517777777778 and parameters: {'LightGBM (gbdt)': 0.30585287773624475, 'LightGBM (goss)': 0.5758440796503965, 'XGBoost': 0.902058173937695, 'AutoGluon': 0.006589924417663678}. Best is trial 64 with value: 0.36592222222222226.\n",
      "[I 2025-06-13 07:25:24,538] Trial 80 finished with value: 0.36573177777777793 and parameters: {'LightGBM (gbdt)': 0.29407264118295606, 'LightGBM (goss)': 0.6501059565839525, 'XGBoost': 0.8996965562165806, 'AutoGluon': 0.006163784529364794}. Best is trial 64 with value: 0.36592222222222226.\n",
      "[I 2025-06-13 07:25:24,723] Trial 79 finished with value: 0.36587622222222227 and parameters: {'LightGBM (gbdt)': 0.32351604638039544, 'LightGBM (goss)': 0.5692255705001622, 'XGBoost': 0.8926856890002656, 'AutoGluon': 0.004459932747346511}. Best is trial 64 with value: 0.36592222222222226.\n",
      "[I 2025-06-13 07:25:30,438] Trial 84 finished with value: 0.3657851111111112 and parameters: {'LightGBM (gbdt)': 0.22080600588433769, 'LightGBM (goss)': 0.5679918932150673, 'XGBoost': 0.9651983135729378, 'AutoGluon': 0.08826733176551038}. Best is trial 64 with value: 0.36592222222222226.\n",
      "[I 2025-06-13 07:25:30,823] Trial 83 finished with value: 0.36579844444444426 and parameters: {'LightGBM (gbdt)': 0.3198823136785021, 'LightGBM (goss)': 0.5664859333289448, 'XGBoost': 0.9672301910643276, 'AutoGluon': 0.08161677446657206}. Best is trial 64 with value: 0.36592222222222226.\n",
      "[I 2025-06-13 07:25:31,003] Trial 82 finished with value: 0.3657713333333333 and parameters: {'LightGBM (gbdt)': 0.30989354427938276, 'LightGBM (goss)': 0.5805242011918041, 'XGBoost': 0.9675852185362621, 'AutoGluon': 0.08103063803981284}. Best is trial 64 with value: 0.36592222222222226.\n",
      "[I 2025-06-13 07:25:31,244] Trial 85 finished with value: 0.3658057777777776 and parameters: {'LightGBM (gbdt)': 0.21958299040364992, 'LightGBM (goss)': 0.5711029957543137, 'XGBoost': 0.968491635493228, 'AutoGluon': 0.0791413728886615}. Best is trial 64 with value: 0.36592222222222226.\n",
      "[I 2025-06-13 07:25:37,708] Trial 88 finished with value: 0.36588799999999994 and parameters: {'LightGBM (gbdt)': 0.2859542772288898, 'LightGBM (goss)': 0.5052677188125507, 'XGBoost': 0.8936899443800377, 'AutoGluon': 0.022563749829592663}. Best is trial 64 with value: 0.36592222222222226.\n",
      "[I 2025-06-13 07:25:37,841] Trial 86 finished with value: 0.36396800000000007 and parameters: {'LightGBM (gbdt)': 0.2786243026399412, 'LightGBM (goss)': 0.5789739164249113, 'XGBoost': 0.8924760080472711, 'AutoGluon': 0.7236189756711664}. Best is trial 64 with value: 0.36592222222222226.\n",
      "[I 2025-06-13 07:25:37,868] Trial 89 finished with value: 0.3658595555555556 and parameters: {'LightGBM (gbdt)': 0.2877937902530181, 'LightGBM (goss)': 0.5064716699437296, 'XGBoost': 0.8956192423440423, 'AutoGluon': 0.002507760778370811}. Best is trial 64 with value: 0.36592222222222226.\n",
      "[I 2025-06-13 07:25:38,319] Trial 87 finished with value: 0.36384644444444436 and parameters: {'LightGBM (gbdt)': 0.2831895571643111, 'LightGBM (goss)': 0.5869756932643082, 'XGBoost': 0.8941429313098646, 'AutoGluon': 0.7565278821060345}. Best is trial 64 with value: 0.36592222222222226.\n",
      "[I 2025-06-13 07:25:43,988] Trial 93 finished with value: 0.3658855555555555 and parameters: {'LightGBM (gbdt)': 0.37902999321389036, 'LightGBM (goss)': 0.5051522391744121, 'XGBoost': 0.9263987032194066, 'AutoGluon': 0.06496570464396652}. Best is trial 64 with value: 0.36592222222222226.\n",
      "[I 2025-06-13 07:25:44,399] Trial 90 finished with value: 0.365599111111111 and parameters: {'LightGBM (gbdt)': 0.3377227173286387, 'LightGBM (goss)': 0.74664175809694, 'XGBoost': 0.925009886640315, 'AutoGluon': 0.026289696566420002}. Best is trial 64 with value: 0.36592222222222226.\n",
      "[I 2025-06-13 07:25:44,703] Trial 91 finished with value: 0.36453733333333344 and parameters: {'LightGBM (gbdt)': 0.34796041853344534, 'LightGBM (goss)': 0.6365010514086029, 'XGBoost': 0.331626853500975, 'AutoGluon': 0.03290460088933373}. Best is trial 64 with value: 0.36592222222222226.\n",
      "[I 2025-06-13 07:25:45,781] Trial 92 finished with value: 0.3656724444444445 and parameters: {'LightGBM (gbdt)': 0.3765618956315032, 'LightGBM (goss)': 0.6853846788394418, 'XGBoost': 0.9258734003179218, 'AutoGluon': 0.06095070389676677}. Best is trial 64 with value: 0.36592222222222226.\n",
      "[I 2025-06-13 07:25:48,213] Trial 94 finished with value: 0.3658882222222222 and parameters: {'LightGBM (gbdt)': 0.3865216005490068, 'LightGBM (goss)': 0.5159750508792358, 'XGBoost': 0.9171383093974212, 'AutoGluon': 0.022392367547979387}. Best is trial 64 with value: 0.36592222222222226.\n",
      "[I 2025-06-13 07:25:49,130] Trial 95 finished with value: 0.36593644444444456 and parameters: {'LightGBM (gbdt)': 0.38442268639186605, 'LightGBM (goss)': 0.5054993010641867, 'XGBoost': 0.9997018127653832, 'AutoGluon': 0.06141005648227216}. Best is trial 95 with value: 0.36593644444444456.\n",
      "[I 2025-06-13 07:25:50,145] Trial 96 finished with value: 0.3659117777777777 and parameters: {'LightGBM (gbdt)': 0.3794156966862138, 'LightGBM (goss)': 0.4909746813525028, 'XGBoost': 0.9232036803026863, 'AutoGluon': 0.06838268978345322}. Best is trial 95 with value: 0.36593644444444456.\n",
      "[I 2025-06-13 07:25:52,623] Trial 97 finished with value: 0.36587422222222227 and parameters: {'LightGBM (gbdt)': 0.3920209769504163, 'LightGBM (goss)': 0.5098667869138728, 'XGBoost': 0.9977120150943196, 'AutoGluon': 0.0021398528527246177}. Best is trial 95 with value: 0.36593644444444456.\n",
      "[I 2025-06-13 07:25:54,836] Trial 98 finished with value: 0.3659402222222225 and parameters: {'LightGBM (gbdt)': 0.3856939625211634, 'LightGBM (goss)': 0.4670725661087701, 'XGBoost': 0.9837464533525467, 'AutoGluon': 0.06701546849047146}. Best is trial 98 with value: 0.3659402222222225.\n",
      "[I 2025-06-13 07:25:55,152] Trial 100 finished with value: 0.36595733333333336 and parameters: {'LightGBM (gbdt)': 0.3822811630142735, 'LightGBM (goss)': 0.46873965546351976, 'XGBoost': 0.9974689076901364, 'AutoGluon': 0.09518700070253253}. Best is trial 100 with value: 0.36595733333333336.\n",
      "[I 2025-06-13 07:25:55,844] Trial 99 finished with value: 0.36595511111111123 and parameters: {'LightGBM (gbdt)': 0.37930401146424875, 'LightGBM (goss)': 0.4578524028429072, 'XGBoost': 0.9997802328725351, 'AutoGluon': 0.09744442385219725}. Best is trial 100 with value: 0.36595733333333336.\n",
      "[I 2025-06-13 07:25:59,551] Trial 101 finished with value: 0.36585555555555543 and parameters: {'LightGBM (gbdt)': 0.32562500707372255, 'LightGBM (goss)': 0.46109166412140035, 'XGBoost': 0.8515818755184765, 'AutoGluon': 0.09923456392167462}. Best is trial 100 with value: 0.36595733333333336.\n",
      "[I 2025-06-13 07:25:59,724] Trial 102 finished with value: 0.36584644444444436 and parameters: {'LightGBM (gbdt)': 0.49325905461661507, 'LightGBM (goss)': 0.47407477073436344, 'XGBoost': 0.9228590213175272, 'AutoGluon': 0.09816155314329736}. Best is trial 100 with value: 0.36595733333333336.\n",
      "[I 2025-06-13 07:26:01,375] Trial 103 finished with value: 0.3656573333333335 and parameters: {'LightGBM (gbdt)': 0.49926355937709654, 'LightGBM (goss)': 0.4650125678404618, 'XGBoost': 0.9874867561955984, 'AutoGluon': 0.18467494879963192}. Best is trial 100 with value: 0.36595733333333336.\n",
      "[I 2025-06-13 07:26:04,873] Trial 104 finished with value: 0.36583466666666664 and parameters: {'LightGBM (gbdt)': 0.37252638666462684, 'LightGBM (goss)': 0.4620070728444663, 'XGBoost': 0.9991090123562183, 'AutoGluon': 0.14398467646508495}. Best is trial 100 with value: 0.36595733333333336.\n",
      "[I 2025-06-13 07:26:04,929] Trial 106 finished with value: 0.36575022222222225 and parameters: {'LightGBM (gbdt)': 0.3731029934860203, 'LightGBM (goss)': 0.5467210746482332, 'XGBoost': 0.9954602950998404, 'AutoGluon': 0.15109369205956075}. Best is trial 100 with value: 0.36595733333333336.\n",
      "[I 2025-06-13 07:26:05,100] Trial 105 finished with value: 0.365833111111111 and parameters: {'LightGBM (gbdt)': 0.49571824753517335, 'LightGBM (goss)': 0.41631436000324873, 'XGBoost': 0.9855098463514183, 'AutoGluon': 0.14191305755736777}. Best is trial 100 with value: 0.36595733333333336.\n",
      "[I 2025-06-13 07:26:10,093] Trial 107 finished with value: 0.3658139999999999 and parameters: {'LightGBM (gbdt)': 0.5475309198742997, 'LightGBM (goss)': 0.41544131832709574, 'XGBoost': 0.9970788984804304, 'AutoGluon': 0.14482104673935367}. Best is trial 100 with value: 0.36595733333333336.\n",
      "[I 2025-06-13 07:26:10,814] Trial 110 finished with value: 0.3658760000000001 and parameters: {'LightGBM (gbdt)': 0.40322619263816306, 'LightGBM (goss)': 0.5091843191028815, 'XGBoost': 0.9460147994107024, 'AutoGluon': 0.06743408542538508}. Best is trial 100 with value: 0.36595733333333336.\n",
      "[I 2025-06-13 07:26:11,070] Trial 109 finished with value: 0.36590999999999985 and parameters: {'LightGBM (gbdt)': 0.43914429188449133, 'LightGBM (goss)': 0.5097606340153169, 'XGBoost': 0.9455441310693079, 'AutoGluon': 0.06376552771058681}. Best is trial 100 with value: 0.36595733333333336.\n",
      "[I 2025-06-13 07:26:11,228] Trial 108 finished with value: 0.3660000000000001 and parameters: {'LightGBM (gbdt)': 0.4376655685648575, 'LightGBM (goss)': 0.41303863907149185, 'XGBoost': 0.9461870133846433, 'AutoGluon': 0.0664726495682269}. Best is trial 108 with value: 0.3660000000000001.\n",
      "[I 2025-06-13 07:26:17,320] Trial 111 finished with value: 0.36592377777777796 and parameters: {'LightGBM (gbdt)': 0.4417038280222787, 'LightGBM (goss)': 0.5140599838407613, 'XGBoost': 0.9432827797957707, 'AutoGluon': 0.0664013161272323}. Best is trial 108 with value: 0.3660000000000001.\n",
      "[I 2025-06-13 07:26:17,502] Trial 112 finished with value: 0.3658728888888889 and parameters: {'LightGBM (gbdt)': 0.44096562594448796, 'LightGBM (goss)': 0.44711792236860554, 'XGBoost': 0.9180429498361744, 'AutoGluon': 0.10230254761535124}. Best is trial 108 with value: 0.3660000000000001.\n",
      "[I 2025-06-13 07:26:17,924] Trial 113 finished with value: 0.3651959999999999 and parameters: {'LightGBM (gbdt)': 0.4345860408286369, 'LightGBM (goss)': 0.34158260095979676, 'XGBoost': 0.4461405410321656, 'AutoGluon': 0.10177103399152879}. Best is trial 108 with value: 0.3660000000000001.\n",
      "[I 2025-06-13 07:26:18,567] Trial 114 finished with value: 0.3659259999999999 and parameters: {'LightGBM (gbdt)': 0.4461008704289661, 'LightGBM (goss)': 0.44784605523038257, 'XGBoost': 0.9194882745428491, 'AutoGluon': 0.06645787096606857}. Best is trial 108 with value: 0.3660000000000001.\n",
      "[I 2025-06-13 07:26:23,240] Trial 115 finished with value: 0.36588599999999993 and parameters: {'LightGBM (gbdt)': 0.40860540098962655, 'LightGBM (goss)': 0.442078210056389, 'XGBoost': 0.9256161179546507, 'AutoGluon': 0.1015801358108515}. Best is trial 108 with value: 0.3660000000000001.\n",
      "[I 2025-06-13 07:26:23,805] Trial 117 finished with value: 0.365889111111111 and parameters: {'LightGBM (gbdt)': 0.4085468246133984, 'LightGBM (goss)': 0.4914221382554916, 'XGBoost': 0.9342344034642964, 'AutoGluon': 0.0708133272074644}. Best is trial 108 with value: 0.3660000000000001.\n",
      "[I 2025-06-13 07:26:23,897] Trial 116 finished with value: 0.3658897777777779 and parameters: {'LightGBM (gbdt)': 0.40815497074122964, 'LightGBM (goss)': 0.4895531969979993, 'XGBoost': 0.9303171814395415, 'AutoGluon': 0.06898659021958904}. Best is trial 108 with value: 0.3660000000000001.\n",
      "[I 2025-06-13 07:26:24,483] Trial 118 finished with value: 0.3658504444444446 and parameters: {'LightGBM (gbdt)': 0.5211195378028372, 'LightGBM (goss)': 0.48540890772721, 'XGBoost': 0.942188457078291, 'AutoGluon': 0.07300912751379844}. Best is trial 108 with value: 0.3660000000000001.\n",
      "[I 2025-06-13 07:26:30,154] Trial 119 finished with value: 0.3656157777777778 and parameters: {'LightGBM (gbdt)': 0.5354834574394598, 'LightGBM (goss)': 0.31127115576252673, 'XGBoost': 0.9419221937073254, 'AutoGluon': 0.21729064141887314}. Best is trial 108 with value: 0.3660000000000001.\n",
      "[I 2025-06-13 07:26:30,853] Trial 121 finished with value: 0.3658497777777778 and parameters: {'LightGBM (gbdt)': 0.5484109340897976, 'LightGBM (goss)': 0.4049045605352586, 'XGBoost': 0.9465838602696499, 'AutoGluon': 0.07016174579524183}. Best is trial 108 with value: 0.3660000000000001.\n",
      "[I 2025-06-13 07:26:31,053] Trial 120 finished with value: 0.36550688888888866 and parameters: {'LightGBM (gbdt)': 0.545063598795814, 'LightGBM (goss)': 0.4811524615542071, 'XGBoost': 0.9453524472229546, 'AutoGluon': 0.21564239356875986}. Best is trial 108 with value: 0.3660000000000001.\n",
      "[I 2025-06-13 07:26:31,426] Trial 122 finished with value: 0.36569288888888885 and parameters: {'LightGBM (gbdt)': 0.44560068089744564, 'LightGBM (goss)': 0.31479067820892037, 'XGBoost': 0.9492098043143514, 'AutoGluon': 0.22136456168454965}. Best is trial 108 with value: 0.3660000000000001.\n",
      "[I 2025-06-13 07:26:37,338] Trial 123 finished with value: 0.365612 and parameters: {'LightGBM (gbdt)': 0.4800925348261424, 'LightGBM (goss)': 0.4030145806465423, 'XGBoost': 0.8825402140964567, 'AutoGluon': 0.1709183548142274}. Best is trial 108 with value: 0.3660000000000001.\n",
      "[I 2025-06-13 07:26:37,666] Trial 124 finished with value: 0.3655631111111112 and parameters: {'LightGBM (gbdt)': 0.4469641356163706, 'LightGBM (goss)': 0.4770587757012845, 'XGBoost': 0.8806287089894158, 'AutoGluon': 0.17512433087702522}. Best is trial 108 with value: 0.3660000000000001.\n",
      "[I 2025-06-13 07:26:38,017] Trial 125 finished with value: 0.36546155555555565 and parameters: {'LightGBM (gbdt)': 0.47931207102642054, 'LightGBM (goss)': 0.5524596902998671, 'XGBoost': 0.8771722774374053, 'AutoGluon': 0.17529514605493673}. Best is trial 108 with value: 0.3660000000000001.\n",
      "[I 2025-06-13 07:26:38,329] Trial 126 finished with value: 0.3655586666666666 and parameters: {'LightGBM (gbdt)': 0.4766336877455698, 'LightGBM (goss)': 0.5520709362112293, 'XGBoost': 0.9788954134840429, 'AutoGluon': 0.17975212978434707}. Best is trial 108 with value: 0.3660000000000001.\n",
      "[I 2025-06-13 07:26:43,158] Trial 128 finished with value: 0.365794 and parameters: {'LightGBM (gbdt)': 0.41286714287835496, 'LightGBM (goss)': 0.52144936025701, 'XGBoost': 0.9801831356360394, 'AutoGluon': 0.13078824577317105}. Best is trial 108 with value: 0.3660000000000001.\n",
      "[I 2025-06-13 07:26:43,517] Trial 127 finished with value: 0.36597622222222226 and parameters: {'LightGBM (gbdt)': 0.4153584428474538, 'LightGBM (goss)': 0.42957797168581613, 'XGBoost': 0.9754581885574821, 'AutoGluon': 0.0512551564968307}. Best is trial 108 with value: 0.3660000000000001.\n",
      "[I 2025-06-13 07:26:43,947] Trial 130 finished with value: 0.3658864444444445 and parameters: {'LightGBM (gbdt)': 0.40968765076416863, 'LightGBM (goss)': 0.520720142150619, 'XGBoost': 0.9150924688681271, 'AutoGluon': 0.04727507258692061}. Best is trial 108 with value: 0.3660000000000001.\n",
      "[I 2025-06-13 07:26:44,522] Trial 129 finished with value: 0.36598822222222216 and parameters: {'LightGBM (gbdt)': 0.41695732780028955, 'LightGBM (goss)': 0.4274502875163328, 'XGBoost': 0.9800337068935443, 'AutoGluon': 0.05160968723933896}. Best is trial 108 with value: 0.3660000000000001.\n",
      "[I 2025-06-13 07:26:50,009] Trial 131 finished with value: 0.3659644444444444 and parameters: {'LightGBM (gbdt)': 0.4223916083282561, 'LightGBM (goss)': 0.4329474955954918, 'XGBoost': 0.9774041228960486, 'AutoGluon': 0.05070070771029993}. Best is trial 108 with value: 0.3660000000000001.\n",
      "[I 2025-06-13 07:26:50,501] Trial 133 finished with value: 0.36501177777777777 and parameters: {'LightGBM (gbdt)': 0.4284407095529495, 'LightGBM (goss)': 0.4221775588134712, 'XGBoost': 0.9566672409023615, 'AutoGluon': 0.4731624089417609}. Best is trial 108 with value: 0.3660000000000001.\n",
      "[I 2025-06-13 07:26:50,677] Trial 132 finished with value: 0.36362466666666676 and parameters: {'LightGBM (gbdt)': 0.41678645212684934, 'LightGBM (goss)': 0.4313797141386235, 'XGBoost': 0.6293189395260608, 'AutoGluon': 0.6378694529795457}. Best is trial 108 with value: 0.3660000000000001.\n",
      "[I 2025-06-13 07:26:51,143] Trial 134 finished with value: 0.3660135555555556 and parameters: {'LightGBM (gbdt)': 0.42145305419611867, 'LightGBM (goss)': 0.4220194962488956, 'XGBoost': 0.9761558925248263, 'AutoGluon': 0.05754932479240929}. Best is trial 134 with value: 0.3660135555555556.\n",
      "[I 2025-06-13 07:26:57,231] Trial 136 finished with value: 0.3659779999999999 and parameters: {'LightGBM (gbdt)': 0.44816185525186614, 'LightGBM (goss)': 0.43435097236252235, 'XGBoost': 0.9781910155392254, 'AutoGluon': 0.045839894535766056}. Best is trial 134 with value: 0.3660135555555556.\n",
      "[I 2025-06-13 07:26:57,407] Trial 137 finished with value: 0.36595466666666643 and parameters: {'LightGBM (gbdt)': 0.45172806702477225, 'LightGBM (goss)': 0.4461132099868274, 'XGBoost': 0.9722080185120758, 'AutoGluon': 0.059478341716866834}. Best is trial 134 with value: 0.3660135555555556.\n",
      "[I 2025-06-13 07:26:57,632] Trial 135 finished with value: 0.3660144444444445 and parameters: {'LightGBM (gbdt)': 0.42914447989356586, 'LightGBM (goss)': 0.42066435329722385, 'XGBoost': 0.976490367755823, 'AutoGluon': 0.05196500661493316}. Best is trial 135 with value: 0.3660144444444445.\n",
      "[I 2025-06-13 07:26:57,984] Trial 138 finished with value: 0.3660433333333334 and parameters: {'LightGBM (gbdt)': 0.4474992479928741, 'LightGBM (goss)': 0.36502421585727324, 'XGBoost': 0.976105559461998, 'AutoGluon': 0.04554521739165257}. Best is trial 138 with value: 0.3660433333333334.\n",
      "[I 2025-06-13 07:27:02,895] Trial 140 finished with value: 0.36601355555555576 and parameters: {'LightGBM (gbdt)': 0.4559598724792614, 'LightGBM (goss)': 0.3594088197234484, 'XGBoost': 0.9803350429819071, 'AutoGluon': 0.04511884597729282}. Best is trial 138 with value: 0.3660433333333334.\n",
      "[I 2025-06-13 07:27:03,462] Trial 141 finished with value: 0.36603577777777785 and parameters: {'LightGBM (gbdt)': 0.4508470260455224, 'LightGBM (goss)': 0.3648707204834481, 'XGBoost': 0.9794655990056649, 'AutoGluon': 0.04316757915030897}. Best is trial 138 with value: 0.3660433333333334.\n",
      "[I 2025-06-13 07:27:03,841] Trial 139 finished with value: 0.3659797777777779 and parameters: {'LightGBM (gbdt)': 0.46255841545810195, 'LightGBM (goss)': 0.35882558501198336, 'XGBoost': 0.9836879075355556, 'AutoGluon': 0.09165417153821351}. Best is trial 138 with value: 0.3660433333333334.\n",
      "[I 2025-06-13 07:27:04,744] Trial 142 finished with value: 0.3659642222222223 and parameters: {'LightGBM (gbdt)': 0.4676540321366214, 'LightGBM (goss)': 0.36919391301528337, 'XGBoost': 0.9734950610341571, 'AutoGluon': 0.09088687955442212}. Best is trial 138 with value: 0.3660433333333334.\n",
      "[I 2025-06-13 07:27:09,839] Trial 144 finished with value: 0.366014 and parameters: {'LightGBM (gbdt)': 0.45797951412789223, 'LightGBM (goss)': 0.36030810759354426, 'XGBoost': 0.9822481043409754, 'AutoGluon': 0.04661640348018761}. Best is trial 138 with value: 0.3660433333333334.\n",
      "[I 2025-06-13 07:27:10,008] Trial 145 finished with value: 0.36600911111111106 and parameters: {'LightGBM (gbdt)': 0.46531189977514587, 'LightGBM (goss)': 0.3711789230043018, 'XGBoost': 0.9841605240779622, 'AutoGluon': 0.042885261211846215}. Best is trial 138 with value: 0.3660433333333334.\n",
      "[I 2025-06-13 07:27:10,304] Trial 143 finished with value: 0.36601466666666677 and parameters: {'LightGBM (gbdt)': 0.4602055326144442, 'LightGBM (goss)': 0.35416581272776515, 'XGBoost': 0.9789810701152196, 'AutoGluon': 0.04438378922939652}. Best is trial 138 with value: 0.3660433333333334.\n",
      "[I 2025-06-13 07:27:12,187] Trial 146 finished with value: 0.3659922222222223 and parameters: {'LightGBM (gbdt)': 0.5059120251254723, 'LightGBM (goss)': 0.3639597495529662, 'XGBoost': 0.9766060277531418, 'AutoGluon': 0.039562226716540264}. Best is trial 138 with value: 0.3660433333333334.\n",
      "[I 2025-06-13 07:27:15,122] Trial 147 finished with value: 0.3659966666666667 and parameters: {'LightGBM (gbdt)': 0.4759330140256309, 'LightGBM (goss)': 0.36126572809718166, 'XGBoost': 0.9798880847887156, 'AutoGluon': 0.04127099715770274}. Best is trial 138 with value: 0.3660433333333334.\n",
      "[I 2025-06-13 07:27:15,631] Trial 148 finished with value: 0.3660235555555555 and parameters: {'LightGBM (gbdt)': 0.4689513583386231, 'LightGBM (goss)': 0.35398227635787505, 'XGBoost': 0.9814837570018619, 'AutoGluon': 0.0329910482262339}. Best is trial 138 with value: 0.3660433333333334.\n",
      "[I 2025-06-13 07:27:16,004] Trial 149 finished with value: 0.36597977777777774 and parameters: {'LightGBM (gbdt)': 0.5060833201341564, 'LightGBM (goss)': 0.35923775486530735, 'XGBoost': 0.9780359850932702, 'AutoGluon': 0.02607991762086329}. Best is trial 138 with value: 0.3660433333333334.\n",
      "[I 2025-06-13 07:27:20,764] Trial 150 finished with value: 0.36598955555555573 and parameters: {'LightGBM (gbdt)': 0.5090885017121037, 'LightGBM (goss)': 0.35330874080366637, 'XGBoost': 0.9747398954879167, 'AutoGluon': 0.03430404395455734}. Best is trial 138 with value: 0.3660433333333334.\n",
      "[I 2025-06-13 07:27:20,834] Trial 151 finished with value: 0.3659535555555556 and parameters: {'LightGBM (gbdt)': 0.5174430488570413, 'LightGBM (goss)': 0.35323952854339896, 'XGBoost': 0.9640401293863314, 'AutoGluon': 0.02508216975539826}. Best is trial 138 with value: 0.3660433333333334.\n",
      "[I 2025-06-13 07:27:21,285] Trial 153 finished with value: 0.3640759999999999 and parameters: {'LightGBM (gbdt)': 0.5096935537795577, 'LightGBM (goss)': 0.35961001468258763, 'XGBoost': 0.1531536160702205, 'AutoGluon': 0.03065118521477917}. Best is trial 138 with value: 0.3660433333333334.\n",
      "[I 2025-06-13 07:27:22,672] Trial 152 finished with value: 0.3659728888888889 and parameters: {'LightGBM (gbdt)': 0.513217213313019, 'LightGBM (goss)': 0.3525233789362607, 'XGBoost': 0.9632682454429067, 'AutoGluon': 0.021176393748809422}. Best is trial 138 with value: 0.3660433333333334.\n",
      "[I 2025-06-13 07:27:26,555] Trial 154 finished with value: 0.36598377777777785 and parameters: {'LightGBM (gbdt)': 0.5081051753008603, 'LightGBM (goss)': 0.32429154195042176, 'XGBoost': 0.9597859067605015, 'AutoGluon': 0.02216710553136871}. Best is trial 138 with value: 0.3660433333333334.\n",
      "[I 2025-06-13 07:27:26,728] Trial 155 finished with value: 0.36600088888888876 and parameters: {'LightGBM (gbdt)': 0.49078197275161245, 'LightGBM (goss)': 0.33066248472951926, 'XGBoost': 0.9584756547713036, 'AutoGluon': 0.024209874338608633}. Best is trial 138 with value: 0.3660433333333334.\n",
      "[I 2025-06-13 07:27:27,804] Trial 156 finished with value: 0.3659931111111112 and parameters: {'LightGBM (gbdt)': 0.49300808692404946, 'LightGBM (goss)': 0.3311787629977136, 'XGBoost': 0.9591493685541356, 'AutoGluon': 0.016337362057145262}. Best is trial 138 with value: 0.3660433333333334.\n",
      "[I 2025-06-13 07:27:30,919] Trial 157 finished with value: 0.3659659999999999 and parameters: {'LightGBM (gbdt)': 0.5665738396013392, 'LightGBM (goss)': 0.31225897591140006, 'XGBoost': 0.9571391171859605, 'AutoGluon': 0.03934582375933899}. Best is trial 138 with value: 0.3660433333333334.\n",
      "[I 2025-06-13 07:27:32,515] Trial 158 finished with value: 0.3660117777777778 and parameters: {'LightGBM (gbdt)': 0.48169279446563645, 'LightGBM (goss)': 0.3109151366557219, 'XGBoost': 0.9527109111014694, 'AutoGluon': 0.03847727818681271}. Best is trial 138 with value: 0.3660433333333334.\n",
      "[I 2025-06-13 07:27:32,916] Trial 159 finished with value: 0.36600355555555536 and parameters: {'LightGBM (gbdt)': 0.4884213142228365, 'LightGBM (goss)': 0.3260286446390631, 'XGBoost': 0.9524225813423515, 'AutoGluon': 0.0398739014007013}. Best is trial 138 with value: 0.3660433333333334.\n",
      "[I 2025-06-13 07:27:33,892] Trial 160 finished with value: 0.3659722222222223 and parameters: {'LightGBM (gbdt)': 0.5602621384010323, 'LightGBM (goss)': 0.29223412085220396, 'XGBoost': 0.951531244820456, 'AutoGluon': 0.03933434688080672}. Best is trial 138 with value: 0.3660433333333334.\n",
      "[I 2025-06-13 07:27:38,035] Trial 161 finished with value: 0.36572755555555553 and parameters: {'LightGBM (gbdt)': 0.992892900922395, 'LightGBM (goss)': 0.2858366404806557, 'XGBoost': 0.9978049171725368, 'AutoGluon': 0.005659270808358922}. Best is trial 138 with value: 0.3660433333333334.\n",
      "[I 2025-06-13 07:27:38,454] Trial 163 finished with value: 0.3660522222222222 and parameters: {'LightGBM (gbdt)': 0.48459099831216246, 'LightGBM (goss)': 0.26940875204221926, 'XGBoost': 0.9515952792573392, 'AutoGluon': 0.013341187717151426}. Best is trial 163 with value: 0.3660522222222222.\n",
      "[I 2025-06-13 07:27:38,604] Trial 162 finished with value: 0.3660486666666668 and parameters: {'LightGBM (gbdt)': 0.49347842116632096, 'LightGBM (goss)': 0.26171485558406904, 'XGBoost': 0.9528782087202529, 'AutoGluon': 0.011402856135688547}. Best is trial 163 with value: 0.3660522222222222.\n",
      "[I 2025-06-13 07:27:42,991] Trial 164 finished with value: 0.3660326666666667 and parameters: {'LightGBM (gbdt)': 0.4891393188343149, 'LightGBM (goss)': 0.2702601455489304, 'XGBoost': 0.9067043732772075, 'AutoGluon': 0.0012426575149534422}. Best is trial 163 with value: 0.3660522222222222.\n",
      "[I 2025-06-13 07:27:43,988] Trial 167 finished with value: 0.36605555555555536 and parameters: {'LightGBM (gbdt)': 0.48776365724234827, 'LightGBM (goss)': 0.2659644207353312, 'XGBoost': 0.9151349228400122, 'AutoGluon': 0.00023405427328062473}. Best is trial 167 with value: 0.36605555555555536.\n",
      "[I 2025-06-13 07:27:44,594] Trial 165 finished with value: 0.3658860000000001 and parameters: {'LightGBM (gbdt)': 0.6096292210099087, 'LightGBM (goss)': 0.3310224748787727, 'XGBoost': 0.9060744423592827, 'AutoGluon': 0.019415854500194618}. Best is trial 167 with value: 0.36605555555555536.\n",
      "[I 2025-06-13 07:27:44,740] Trial 166 finished with value: 0.366064 and parameters: {'LightGBM (gbdt)': 0.4864070097772374, 'LightGBM (goss)': 0.2642917441870847, 'XGBoost': 0.9377374719312681, 'AutoGluon': 0.01419126444143801}. Best is trial 166 with value: 0.366064.\n",
      "[I 2025-06-13 07:27:49,417] Trial 168 finished with value: 0.36604911111111116 and parameters: {'LightGBM (gbdt)': 0.47670627324873976, 'LightGBM (goss)': 0.24732612061271336, 'XGBoost': 0.9337458095462796, 'AutoGluon': 0.0033496950835453345}. Best is trial 166 with value: 0.366064.\n",
      "[I 2025-06-13 07:27:50,155] Trial 171 finished with value: 0.36606000000000005 and parameters: {'LightGBM (gbdt)': 0.4815131214525307, 'LightGBM (goss)': 0.26846265574854655, 'XGBoost': 0.9312074197815415, 'AutoGluon': 0.0021845624340871006}. Best is trial 166 with value: 0.366064.\n",
      "[I 2025-06-13 07:27:50,603] Trial 170 finished with value: 0.3660451111111111 and parameters: {'LightGBM (gbdt)': 0.4767934862634146, 'LightGBM (goss)': 0.2547927025225012, 'XGBoost': 0.9084191462968918, 'AutoGluon': 0.012263677431489435}. Best is trial 166 with value: 0.366064.\n",
      "[I 2025-06-13 07:27:50,899] Trial 169 finished with value: 0.3659864444444445 and parameters: {'LightGBM (gbdt)': 0.6042272166912148, 'LightGBM (goss)': 0.21576368945118252, 'XGBoost': 0.9025992996906811, 'AutoGluon': 0.0018271852391892683}. Best is trial 166 with value: 0.366064.\n",
      "[I 2025-06-13 07:27:56,584] Trial 172 finished with value: 0.3660124444444446 and parameters: {'LightGBM (gbdt)': 0.536979202338277, 'LightGBM (goss)': 0.25948610608412254, 'XGBoost': 0.9066104821504379, 'AutoGluon': 0.008685876047876365}. Best is trial 166 with value: 0.366064.\n",
      "[I 2025-06-13 07:27:57,237] Trial 174 finished with value: 0.36605666666666675 and parameters: {'LightGBM (gbdt)': 0.46797996791597996, 'LightGBM (goss)': 0.2619961951268021, 'XGBoost': 0.9094039281874492, 'AutoGluon': 0.0010967189668515953}. Best is trial 166 with value: 0.366064.\n",
      "[I 2025-06-13 07:27:57,591] Trial 173 finished with value: 0.3659906666666666 and parameters: {'LightGBM (gbdt)': 0.535200584886004, 'LightGBM (goss)': 0.26029139335891793, 'XGBoost': 0.9018331449314033, 'AutoGluon': 0.011876177348891027}. Best is trial 166 with value: 0.366064.\n",
      "[I 2025-06-13 07:27:58,259] Trial 175 finished with value: 0.366046 and parameters: {'LightGBM (gbdt)': 0.46439336675630816, 'LightGBM (goss)': 0.2533542221507059, 'XGBoost': 0.9309990558904658, 'AutoGluon': 0.0008288894024969587}. Best is trial 166 with value: 0.366064.\n",
      "[I 2025-06-13 07:28:02,945] Trial 178 finished with value: 0.36607666666666666 and parameters: {'LightGBM (gbdt)': 0.462418371085677, 'LightGBM (goss)': 0.2121444542704413, 'XGBoost': 0.9260709782114573, 'AutoGluon': 0.0005962110506352938}. Best is trial 178 with value: 0.36607666666666666.\n",
      "[I 2025-06-13 07:28:03,120] Trial 176 finished with value: 0.3660253333333333 and parameters: {'LightGBM (gbdt)': 0.5308635806905531, 'LightGBM (goss)': 0.2553958877598444, 'XGBoost': 0.9116323963248527, 'AutoGluon': 0.001554179746121348}. Best is trial 178 with value: 0.36607666666666666.\n",
      "[I 2025-06-13 07:28:03,573] Trial 177 finished with value: 0.3659404444444443 and parameters: {'LightGBM (gbdt)': 0.5241301341146831, 'LightGBM (goss)': 0.2537886902344298, 'XGBoost': 0.848985725050776, 'AutoGluon': 0.00043512434624583436}. Best is trial 178 with value: 0.36607666666666666.\n",
      "[I 2025-06-13 07:28:04,126] Trial 179 finished with value: 0.3660597777777778 and parameters: {'LightGBM (gbdt)': 0.4660796401819262, 'LightGBM (goss)': 0.21502722685669023, 'XGBoost': 0.9301062250570497, 'AutoGluon': 0.0018533349204883278}. Best is trial 178 with value: 0.36607666666666666.\n",
      "[I 2025-06-13 07:28:10,356] Trial 181 finished with value: 0.36605177777777775 and parameters: {'LightGBM (gbdt)': 0.4669481443832226, 'LightGBM (goss)': 0.22695993311216311, 'XGBoost': 0.8762522100702677, 'AutoGluon': 0.00020958397822041326}. Best is trial 178 with value: 0.36607666666666666.\n",
      "[I 2025-06-13 07:28:10,691] Trial 180 finished with value: 0.36603866666666657 and parameters: {'LightGBM (gbdt)': 0.4661117880950161, 'LightGBM (goss)': 0.21487127785877425, 'XGBoost': 0.8524099937261296, 'AutoGluon': 0.001978442962871453}. Best is trial 178 with value: 0.36607666666666666.\n",
      "[I 2025-06-13 07:28:10,931] Trial 182 finished with value: 0.3657146666666667 and parameters: {'LightGBM (gbdt)': 0.8973590960810643, 'LightGBM (goss)': 0.21396767771076813, 'XGBoost': 0.8726400821348755, 'AutoGluon': 0.0004731279568905058}. Best is trial 178 with value: 0.36607666666666666.\n",
      "[I 2025-06-13 07:28:11,143] Trial 183 finished with value: 0.36604377777777786 and parameters: {'LightGBM (gbdt)': 0.4774339245637334, 'LightGBM (goss)': 0.19906974548252793, 'XGBoost': 0.880598428899106, 'AutoGluon': 0.00028354801330600723}. Best is trial 178 with value: 0.36607666666666666.\n",
      "[I 2025-06-13 07:28:17,668] Trial 184 finished with value: 0.3660335555555555 and parameters: {'LightGBM (gbdt)': 0.4716814669345576, 'LightGBM (goss)': 0.20454602949471126, 'XGBoost': 0.8718756730513239, 'AutoGluon': 0.0012727706578042667}. Best is trial 178 with value: 0.36607666666666666.\n",
      "[I 2025-06-13 07:28:18,054] Trial 185 finished with value: 0.3660380000000001 and parameters: {'LightGBM (gbdt)': 0.4739500178189269, 'LightGBM (goss)': 0.20906165975071808, 'XGBoost': 0.863228431774154, 'AutoGluon': 0.0011594477417813877}. Best is trial 178 with value: 0.36607666666666666.\n",
      "[I 2025-06-13 07:28:18,264] Trial 186 finished with value: 0.366132888888889 and parameters: {'LightGBM (gbdt)': 0.47012250682167783, 'LightGBM (goss)': 0.13906395691707985, 'XGBoost': 0.8569141478364337, 'AutoGluon': 0.0018081324119671796}. Best is trial 186 with value: 0.366132888888889.\n",
      "[I 2025-06-13 07:28:18,448] Trial 187 finished with value: 0.3660917777777779 and parameters: {'LightGBM (gbdt)': 0.4951321404759014, 'LightGBM (goss)': 0.15507275672296175, 'XGBoost': 0.8549523822324849, 'AutoGluon': 0.004288080329087774}. Best is trial 186 with value: 0.366132888888889.\n",
      "[I 2025-06-13 07:28:23,822] Trial 190 finished with value: 0.3660908888888889 and parameters: {'LightGBM (gbdt)': 0.4796143767447121, 'LightGBM (goss)': 0.15011554917455547, 'XGBoost': 0.8493759807898819, 'AutoGluon': 0.017097397486862415}. Best is trial 186 with value: 0.366132888888889.\n",
      "[I 2025-06-13 07:28:24,031] Trial 191 finished with value: 0.3660797777777779 and parameters: {'LightGBM (gbdt)': 0.48806566891902087, 'LightGBM (goss)': 0.16355491065492572, 'XGBoost': 0.849368392143454, 'AutoGluon': 0.01885578869600152}. Best is trial 186 with value: 0.366132888888889.\n",
      "[I 2025-06-13 07:28:24,420] Trial 189 finished with value: 0.3660748888888889 and parameters: {'LightGBM (gbdt)': 0.4936670791608041, 'LightGBM (goss)': 0.159644198486094, 'XGBoost': 0.8474327449660767, 'AutoGluon': 0.002114173278790789}. Best is trial 186 with value: 0.366132888888889.\n",
      "[I 2025-06-13 07:28:24,607] Trial 188 finished with value: 0.3661166666666666 and parameters: {'LightGBM (gbdt)': 0.4869708989087738, 'LightGBM (goss)': 0.1479851134741318, 'XGBoost': 0.862090928778522, 'AutoGluon': 0.002537020419796237}. Best is trial 186 with value: 0.366132888888889.\n",
      "[I 2025-06-13 07:28:30,983] Trial 195 finished with value: 0.3660660000000002 and parameters: {'LightGBM (gbdt)': 0.4976354316165473, 'LightGBM (goss)': 0.13993124205754728, 'XGBoost': 0.8057673096800884, 'AutoGluon': 0.01921658059768482}. Best is trial 186 with value: 0.366132888888889.\n",
      "[I 2025-06-13 07:28:31,087] Trial 194 finished with value: 0.3660142222222221 and parameters: {'LightGBM (gbdt)': 0.4965824933633632, 'LightGBM (goss)': 0.1487518280863726, 'XGBoost': 0.8042822755960237, 'AutoGluon': 0.017871213869421632}. Best is trial 186 with value: 0.366132888888889.\n",
      "[I 2025-06-13 07:28:31,276] Trial 192 finished with value: 0.36607000000000006 and parameters: {'LightGBM (gbdt)': 0.4882539833437372, 'LightGBM (goss)': 0.14038781552048796, 'XGBoost': 0.8090408529459341, 'AutoGluon': 0.017714290313715953}. Best is trial 186 with value: 0.366132888888889.\n",
      "[I 2025-06-13 07:28:31,622] Trial 193 finished with value: 0.3660955555555557 and parameters: {'LightGBM (gbdt)': 0.4896585001811068, 'LightGBM (goss)': 0.14252687320142746, 'XGBoost': 0.8475879801371748, 'AutoGluon': 0.019966956405684518}. Best is trial 186 with value: 0.366132888888889.\n",
      "[I 2025-06-13 07:28:37,978] Trial 199 finished with value: 0.3660931111111111 and parameters: {'LightGBM (gbdt)': 0.5219054446947046, 'LightGBM (goss)': 0.10845603021625935, 'XGBoost': 0.7838265461193177, 'AutoGluon': 0.02076334567602539}. Best is trial 186 with value: 0.366132888888889.\n",
      "[I 2025-06-13 07:28:38,257] Trial 198 finished with value: 0.3661586666666666 and parameters: {'LightGBM (gbdt)': 0.4936978969705024, 'LightGBM (goss)': 0.09576367025395739, 'XGBoost': 0.8122277077987036, 'AutoGluon': 0.020357587917037397}. Best is trial 198 with value: 0.3661586666666666.\n",
      "[I 2025-06-13 07:28:38,494] Trial 197 finished with value: 0.3661382222222221 and parameters: {'LightGBM (gbdt)': 0.5224055884893237, 'LightGBM (goss)': 0.09276196480575177, 'XGBoost': 0.8131473610170381, 'AutoGluon': 0.022730447872316505}. Best is trial 198 with value: 0.3661586666666666.\n",
      "[I 2025-06-13 07:28:38,692] Trial 196 finished with value: 0.3661424444444443 and parameters: {'LightGBM (gbdt)': 0.49146629313561596, 'LightGBM (goss)': 0.11205772017546799, 'XGBoost': 0.8100222737697726, 'AutoGluon': 0.019940612974478397}. Best is trial 198 with value: 0.3661586666666666.\n",
      "[I 2025-06-13 07:28:44,573] Trial 200 finished with value: 0.36614822222222215 and parameters: {'LightGBM (gbdt)': 0.5224052978063203, 'LightGBM (goss)': 0.084409733654186, 'XGBoost': 0.7896556593357414, 'AutoGluon': 0.024617398985431978}. Best is trial 198 with value: 0.3661586666666666.\n",
      "[I 2025-06-13 07:28:44,903] Trial 202 finished with value: 0.3660933333333335 and parameters: {'LightGBM (gbdt)': 0.560802469824673, 'LightGBM (goss)': 0.09772164047493642, 'XGBoost': 0.8053661694426699, 'AutoGluon': 0.02433814985679961}. Best is trial 198 with value: 0.3661586666666666.\n",
      "[I 2025-06-13 07:28:45,020] Trial 201 finished with value: 0.36609444444444433 and parameters: {'LightGBM (gbdt)': 0.5196390325860746, 'LightGBM (goss)': 0.10834911877879674, 'XGBoost': 0.7782019925788869, 'AutoGluon': 0.02395292996614333}. Best is trial 198 with value: 0.3661586666666666.\n",
      "[I 2025-06-13 07:28:45,366] Trial 203 finished with value: 0.3661095555555554 and parameters: {'LightGBM (gbdt)': 0.5567460908495152, 'LightGBM (goss)': 0.08643453989504775, 'XGBoost': 0.7844137741424285, 'AutoGluon': 0.025870188635266217}. Best is trial 198 with value: 0.3661586666666666.\n",
      "[I 2025-06-13 07:28:50,871] Trial 206 finished with value: 0.3661042222222223 and parameters: {'LightGBM (gbdt)': 0.5540407592230461, 'LightGBM (goss)': 0.08636686261835783, 'XGBoost': 0.7836482812082569, 'AutoGluon': 0.02700464686797031}. Best is trial 198 with value: 0.3661586666666666.\n",
      "[I 2025-06-13 07:28:51,557] Trial 204 finished with value: 0.36610244444444456 and parameters: {'LightGBM (gbdt)': 0.5594173501891385, 'LightGBM (goss)': 0.08396062412815321, 'XGBoost': 0.7774933115198778, 'AutoGluon': 0.02256863647851353}. Best is trial 198 with value: 0.3661586666666666.\n",
      "[I 2025-06-13 07:28:51,793] Trial 207 finished with value: 0.36607377777777783 and parameters: {'LightGBM (gbdt)': 0.5655965855894581, 'LightGBM (goss)': 0.091045346284751, 'XGBoost': 0.771372332766153, 'AutoGluon': 0.025923734853122223}. Best is trial 198 with value: 0.3661586666666666.\n",
      "[I 2025-06-13 07:28:51,857] Trial 205 finished with value: 0.3660904444444445 and parameters: {'LightGBM (gbdt)': 0.5558880313322045, 'LightGBM (goss)': 0.09196546449818753, 'XGBoost': 0.7814717943830567, 'AutoGluon': 0.022465078351313512}. Best is trial 198 with value: 0.3661586666666666.\n",
      "[I 2025-06-13 07:28:57,886] Trial 209 finished with value: 0.36607422222222225 and parameters: {'LightGBM (gbdt)': 0.5612010876788754, 'LightGBM (goss)': 0.09935335678854684, 'XGBoost': 0.7808859259381944, 'AutoGluon': 0.02791259336197788}. Best is trial 198 with value: 0.3661586666666666.\n",
      "[I 2025-06-13 07:28:58,170] Trial 210 finished with value: 0.3660755555555556 and parameters: {'LightGBM (gbdt)': 0.5619315790294391, 'LightGBM (goss)': 0.09293000119212877, 'XGBoost': 0.7772945482743745, 'AutoGluon': 0.0272698751871328}. Best is trial 198 with value: 0.3661586666666666.\n",
      "[I 2025-06-13 07:28:58,422] Trial 208 finished with value: 0.3660008888888888 and parameters: {'LightGBM (gbdt)': 0.5855621116721264, 'LightGBM (goss)': 0.08802521693940266, 'XGBoost': 0.7751737017473186, 'AutoGluon': 0.027111272499452964}. Best is trial 198 with value: 0.3661586666666666.\n",
      "[I 2025-06-13 07:28:58,622] Trial 211 finished with value: 0.3660228888888889 and parameters: {'LightGBM (gbdt)': 0.583353527135826, 'LightGBM (goss)': 0.08357064390936064, 'XGBoost': 0.7654370247131116, 'AutoGluon': 0.027127339832306124}. Best is trial 198 with value: 0.3661586666666666.\n",
      "[I 2025-06-13 07:29:04,262] Trial 212 finished with value: 0.3660515555555556 and parameters: {'LightGBM (gbdt)': 0.579820124244059, 'LightGBM (goss)': 0.10174003084368519, 'XGBoost': 0.7867221184499549, 'AutoGluon': 0.030315102428176175}. Best is trial 198 with value: 0.3661586666666666.\n",
      "[I 2025-06-13 07:29:05,156] Trial 214 finished with value: 0.3660555555555556 and parameters: {'LightGBM (gbdt)': 0.5652650373988665, 'LightGBM (goss)': 0.10284531835852297, 'XGBoost': 0.7818434966927877, 'AutoGluon': 0.029689087593037063}. Best is trial 198 with value: 0.3661586666666666.\n",
      "[I 2025-06-13 07:29:05,271] Trial 215 finished with value: 0.36603266666666684 and parameters: {'LightGBM (gbdt)': 0.5592285498807861, 'LightGBM (goss)': 0.10336264146086219, 'XGBoost': 0.7807547443868375, 'AutoGluon': 0.03456293366315451}. Best is trial 198 with value: 0.3661586666666666.\n",
      "[I 2025-06-13 07:29:05,332] Trial 213 finished with value: 0.36603422222222215 and parameters: {'LightGBM (gbdt)': 0.587678818767425, 'LightGBM (goss)': 0.09177683995166397, 'XGBoost': 0.7838623836912899, 'AutoGluon': 0.029709969774440733}. Best is trial 198 with value: 0.3661586666666666.\n",
      "[I 2025-06-13 07:29:11,424] Trial 218 finished with value: 0.3629711111111112 and parameters: {'LightGBM (gbdt)': 0.5460526456568399, 'LightGBM (goss)': 0.04045169989052505, 'XGBoost': 0.7459318890049443, 'AutoGluon': 0.8436395062942336}. Best is trial 198 with value: 0.3661586666666666.\n",
      "[I 2025-06-13 07:29:11,426] Trial 216 finished with value: 0.3660515555555554 and parameters: {'LightGBM (gbdt)': 0.5482806303316641, 'LightGBM (goss)': 0.03962107040833647, 'XGBoost': 0.7165113045411464, 'AutoGluon': 0.028002648452939427}. Best is trial 198 with value: 0.3661586666666666.\n",
      "[I 2025-06-13 07:29:12,085] Trial 217 finished with value: 0.3660135555555555 and parameters: {'LightGBM (gbdt)': 0.5521728024963201, 'LightGBM (goss)': 0.03660692570514308, 'XGBoost': 0.7438577627896124, 'AutoGluon': 0.07732947204535273}. Best is trial 198 with value: 0.3661586666666666.\n",
      "[I 2025-06-13 07:29:12,139] Trial 219 finished with value: 0.3660557777777778 and parameters: {'LightGBM (gbdt)': 0.5465362709331903, 'LightGBM (goss)': 0.061064740705120815, 'XGBoost': 0.7436872181262756, 'AutoGluon': 0.057175063339915594}. Best is trial 198 with value: 0.3661586666666666.\n",
      "[I 2025-06-13 07:29:17,514] Trial 221 finished with value: 0.36597977777777785 and parameters: {'LightGBM (gbdt)': 0.617487287596528, 'LightGBM (goss)': 0.12219169338346715, 'XGBoost': 0.8285874537544469, 'AutoGluon': 0.07954018799861759}. Best is trial 198 with value: 0.3661586666666666.\n",
      "[I 2025-06-13 07:29:17,849] Trial 222 finished with value: 0.36589177777777776 and parameters: {'LightGBM (gbdt)': 0.6286232595566378, 'LightGBM (goss)': 0.16869864554853692, 'XGBoost': 0.8195469992018279, 'AutoGluon': 0.055759138716844486}. Best is trial 198 with value: 0.3661586666666666.\n",
      "[I 2025-06-13 07:29:18,208] Trial 223 finished with value: 0.3660355555555555 and parameters: {'LightGBM (gbdt)': 0.5222096889860643, 'LightGBM (goss)': 0.1780956355117186, 'XGBoost': 0.8276122129876416, 'AutoGluon': 0.05457318918674568}. Best is trial 198 with value: 0.3661586666666666.\n",
      "[I 2025-06-13 07:29:18,363] Trial 220 finished with value: 0.3659691111111112 and parameters: {'LightGBM (gbdt)': 0.6202821792722086, 'LightGBM (goss)': 0.12652338736208738, 'XGBoost': 0.8190928653164474, 'AutoGluon': 0.07783900851729655}. Best is trial 198 with value: 0.3661586666666666.\n",
      "[I 2025-06-13 07:29:23,831] Trial 224 finished with value: 0.366022 and parameters: {'LightGBM (gbdt)': 0.5249497435842456, 'LightGBM (goss)': 0.1692067165885376, 'XGBoost': 0.8159959814670914, 'AutoGluon': 0.028753113389261297}. Best is trial 198 with value: 0.3661586666666666.\n",
      "[I 2025-06-13 07:29:24,280] Trial 225 finished with value: 0.36611422222222234 and parameters: {'LightGBM (gbdt)': 0.5232631206949852, 'LightGBM (goss)': 0.1217118744446161, 'XGBoost': 0.8102556515806567, 'AutoGluon': 0.025523264078998686}. Best is trial 198 with value: 0.3661586666666666.\n",
      "[I 2025-06-13 07:29:24,356] Trial 226 finished with value: 0.36609133333333327 and parameters: {'LightGBM (gbdt)': 0.526782803491935, 'LightGBM (goss)': 0.12405844800790151, 'XGBoost': 0.8081766290414897, 'AutoGluon': 0.02331174510071297}. Best is trial 198 with value: 0.3661586666666666.\n",
      "[I 2025-06-13 07:29:24,597] Trial 227 finished with value: 0.3661993333333333 and parameters: {'LightGBM (gbdt)': 0.5260531679240024, 'LightGBM (goss)': 0.0712044927217799, 'XGBoost': 0.8047655334669114, 'AutoGluon': 0.02367686558338046}. Best is trial 227 with value: 0.3661993333333333.\n",
      "[I 2025-06-13 07:29:31,178] Trial 231 finished with value: 0.3662059999999999 and parameters: {'LightGBM (gbdt)': 0.5318899465054183, 'LightGBM (goss)': 0.06391782284153168, 'XGBoost': 0.8392911188394012, 'AutoGluon': 0.04825049610902882}. Best is trial 231 with value: 0.3662059999999999.\n",
      "[I 2025-06-13 07:29:31,256] Trial 228 finished with value: 0.3661346666666667 and parameters: {'LightGBM (gbdt)': 0.5679506172459344, 'LightGBM (goss)': 0.07346611932337911, 'XGBoost': 0.7967602153622985, 'AutoGluon': 0.02808523512735151}. Best is trial 231 with value: 0.3662059999999999.\n",
      "[I 2025-06-13 07:29:31,582] Trial 229 finished with value: 0.3661451111111111 and parameters: {'LightGBM (gbdt)': 0.5331424801297957, 'LightGBM (goss)': 0.06699966736922197, 'XGBoost': 0.7595913366266858, 'AutoGluon': 0.02476727524047605}. Best is trial 231 with value: 0.3662059999999999.\n",
      "[I 2025-06-13 07:29:31,635] Trial 230 finished with value: 0.36531777777777785 and parameters: {'LightGBM (gbdt)': 0.519539182012712, 'LightGBM (goss)': 0.06553106929858803, 'XGBoost': 0.6961661277507591, 'AutoGluon': 0.2766062140545325}. Best is trial 231 with value: 0.3662059999999999.\n",
      "[I 2025-06-13 07:29:37,052] Trial 232 finished with value: 0.3661560000000001 and parameters: {'LightGBM (gbdt)': 0.5314150288616919, 'LightGBM (goss)': 0.06412517650681929, 'XGBoost': 0.8004822499323238, 'AutoGluon': 0.05237322283838497}. Best is trial 231 with value: 0.3662059999999999.\n",
      "[I 2025-06-13 07:29:37,257] Trial 235 finished with value: 0.3660733333333333 and parameters: {'LightGBM (gbdt)': 0.5260256354620895, 'LightGBM (goss)': 0.12115097632573768, 'XGBoost': 0.798918394832975, 'AutoGluon': 0.04651576116556153}. Best is trial 231 with value: 0.3662059999999999.\n",
      "[I 2025-06-13 07:29:37,610] Trial 234 finished with value: 0.3661506666666667 and parameters: {'LightGBM (gbdt)': 0.5295173761664892, 'LightGBM (goss)': 0.002814121833924821, 'XGBoost': 0.8037831876012436, 'AutoGluon': 0.04410339450959544}. Best is trial 231 with value: 0.3662059999999999.\n",
      "[I 2025-06-13 07:29:37,787] Trial 233 finished with value: 0.3661577777777777 and parameters: {'LightGBM (gbdt)': 0.528447599153214, 'LightGBM (goss)': 0.0646702420271722, 'XGBoost': 0.8029333427648437, 'AutoGluon': 0.05249083470946589}. Best is trial 231 with value: 0.3662059999999999.\n",
      "[I 2025-06-13 07:29:43,951] Trial 237 finished with value: 0.3661557777777778 and parameters: {'LightGBM (gbdt)': 0.5300527145081285, 'LightGBM (goss)': 0.005538345823247179, 'XGBoost': 0.8427501363174807, 'AutoGluon': 0.05138035488710192}. Best is trial 231 with value: 0.3662059999999999.\n",
      "[I 2025-06-13 07:29:44,108] Trial 236 finished with value: 0.36612533333333336 and parameters: {'LightGBM (gbdt)': 0.5340515094342748, 'LightGBM (goss)': 0.11990082541130515, 'XGBoost': 0.8383078632200073, 'AutoGluon': 0.054072396618089325}. Best is trial 231 with value: 0.3662059999999999.\n",
      "[I 2025-06-13 07:29:44,596] Trial 238 finished with value: 0.3661128888888888 and parameters: {'LightGBM (gbdt)': 0.5349780488976751, 'LightGBM (goss)': 0.009724685744740488, 'XGBoost': 0.8000622952868062, 'AutoGluon': 0.05591191390441364}. Best is trial 231 with value: 0.3662059999999999.\n",
      "[I 2025-06-13 07:29:44,769] Trial 239 finished with value: 0.36611511111111106 and parameters: {'LightGBM (gbdt)': 0.5320041387929523, 'LightGBM (goss)': 0.01416656398200223, 'XGBoost': 0.8006287897757663, 'AutoGluon': 0.054294205783694816}. Best is trial 231 with value: 0.3662059999999999.\n",
      "[I 2025-06-13 07:29:50,369] Trial 242 finished with value: 0.36609133333333327 and parameters: {'LightGBM (gbdt)': 0.5360019083424271, 'LightGBM (goss)': 0.012165156072073819, 'XGBoost': 0.8317590372130873, 'AutoGluon': 0.0655357030382878}. Best is trial 231 with value: 0.3662059999999999.\n",
      "[I 2025-06-13 07:29:50,442] Trial 240 finished with value: 0.36613200000000007 and parameters: {'LightGBM (gbdt)': 0.5346905975490218, 'LightGBM (goss)': 0.05838704166549544, 'XGBoost': 0.8050351887873769, 'AutoGluon': 0.06026076247827117}. Best is trial 231 with value: 0.3662059999999999.\n",
      "[I 2025-06-13 07:29:50,506] Trial 241 finished with value: 0.3660684444444445 and parameters: {'LightGBM (gbdt)': 0.5333242525360967, 'LightGBM (goss)': 0.06320533564255498, 'XGBoost': 0.7560343704524146, 'AutoGluon': 0.06531927375158125}. Best is trial 231 with value: 0.3662059999999999.\n",
      "[I 2025-06-13 07:29:51,209] Trial 243 finished with value: 0.3660528888888889 and parameters: {'LightGBM (gbdt)': 0.537259993451745, 'LightGBM (goss)': 0.004051582898671882, 'XGBoost': 0.7553515688276995, 'AutoGluon': 0.06841330497457578}. Best is trial 231 with value: 0.3662059999999999.\n",
      "[I 2025-06-13 07:29:56,556] Trial 245 finished with value: 0.36601600000000023 and parameters: {'LightGBM (gbdt)': 0.542302604121388, 'LightGBM (goss)': 0.008365943092817772, 'XGBoost': 0.8015527873789843, 'AutoGluon': 0.08683312948840766}. Best is trial 231 with value: 0.3662059999999999.\n",
      "[I 2025-06-13 07:29:56,643] Trial 246 finished with value: 0.3659833333333333 and parameters: {'LightGBM (gbdt)': 0.5991923762072145, 'LightGBM (goss)': 0.01049539574616503, 'XGBoost': 0.8020319256822489, 'AutoGluon': 0.08616958742319751}. Best is trial 231 with value: 0.3662059999999999.\n",
      "[I 2025-06-13 07:29:56,899] Trial 244 finished with value: 0.3660271111111111 and parameters: {'LightGBM (gbdt)': 0.5964576656128271, 'LightGBM (goss)': 0.004068652006218159, 'XGBoost': 0.7986871971084056, 'AutoGluon': 0.07751815082990318}. Best is trial 231 with value: 0.3662059999999999.\n",
      "[I 2025-06-13 07:29:57,194] Trial 247 finished with value: 0.36608266666666667 and parameters: {'LightGBM (gbdt)': 0.5911531895714407, 'LightGBM (goss)': 0.01916708093804094, 'XGBoost': 0.8007608665005632, 'AutoGluon': 0.048972271376474516}. Best is trial 231 with value: 0.3662059999999999.\n",
      "[I 2025-06-13 07:30:00,207] Trial 248 finished with value: 0.36615022222222227 and parameters: {'LightGBM (gbdt)': 0.5724863558540374, 'LightGBM (goss)': 0.06017566114156903, 'XGBoost': 0.8353265306533777, 'AutoGluon': 0.05005392366811736}. Best is trial 231 with value: 0.3662059999999999.\n",
      "[I 2025-06-13 07:30:00,208] Trial 249 finished with value: 0.3661333333333333 and parameters: {'LightGBM (gbdt)': 0.5715246759689584, 'LightGBM (goss)': 0.06787981644053116, 'XGBoost': 0.8309220566552956, 'AutoGluon': 0.05212644234710696}. Best is trial 231 with value: 0.3662059999999999.\n"
     ]
    }
   ],
   "source": [
    "def objective(trial):\n",
    "    weights = [trial.suggest_float(model, 0, 1) for model in models]\n",
    "    weights /= np.sum(weights)\n",
    "\n",
    "    idxs = [0, 7, 14, 21]\n",
    "    pred_probs = np.zeros((X.shape[0], 7))\n",
    "    for idx, weight in zip(idxs, weights):\n",
    "        pred_probs += X.iloc[:, idx:idx+7].values * weight\n",
    "        \n",
    "    return map3(y, pred_probs)\n",
    "\n",
    "sampler = optuna.samplers.TPESampler(seed=CFG.seed)\n",
    "study = optuna.create_study(direction='maximize', sampler=sampler)\n",
    "study.optimize(objective, n_trials=250, n_jobs=-1)"
   ]
  },
  {
   "cell_type": "code",
   "execution_count": 18,
   "id": "c0a47b38",
   "metadata": {
    "execution": {
     "iopub.execute_input": "2025-06-13T07:30:00.261004Z",
     "iopub.status.busy": "2025-06-13T07:30:00.260687Z",
     "iopub.status.idle": "2025-06-13T07:30:00.338524Z",
     "shell.execute_reply": "2025-06-13T07:30:00.337338Z"
    },
    "papermill": {
     "duration": 0.099695,
     "end_time": "2025-06-13T07:30:00.340412",
     "exception": false,
     "start_time": "2025-06-13T07:30:00.240717",
     "status": "completed"
    },
    "tags": []
   },
   "outputs": [],
   "source": [
    "scores['WeightedEnsemble'] = [study.best_value] * CFG.n_folds\n",
    "\n",
    "best_weights = [study.best_params[model] for model in models]\n",
    "best_weights /= np.sum(best_weights)\n",
    "\n",
    "idxs = [0, 7, 14, 21]\n",
    "weighted_test_preds = np.zeros((X_test.shape[0], 7))\n",
    "for idx, weight in zip(idxs, best_weights):\n",
    "    weighted_test_preds += X_test.iloc[:, idx:idx+7].values * weight"
   ]
  },
  {
   "cell_type": "code",
   "execution_count": 19,
   "id": "5a95e266",
   "metadata": {
    "execution": {
     "iopub.execute_input": "2025-06-13T07:30:00.381712Z",
     "iopub.status.busy": "2025-06-13T07:30:00.381375Z",
     "iopub.status.idle": "2025-06-13T07:30:26.702453Z",
     "shell.execute_reply": "2025-06-13T07:30:26.701573Z"
    },
    "papermill": {
     "duration": 26.343258,
     "end_time": "2025-06-13T07:30:26.703984",
     "exception": false,
     "start_time": "2025-06-13T07:30:00.360726",
     "status": "completed"
    },
    "tags": []
   },
   "outputs": [
    {
     "data": {
      "text/html": [
       "<div>\n",
       "<style scoped>\n",
       "    .dataframe tbody tr th:only-of-type {\n",
       "        vertical-align: middle;\n",
       "    }\n",
       "\n",
       "    .dataframe tbody tr th {\n",
       "        vertical-align: top;\n",
       "    }\n",
       "\n",
       "    .dataframe thead th {\n",
       "        text-align: right;\n",
       "    }\n",
       "</style>\n",
       "<table border=\"1\" class=\"dataframe\">\n",
       "  <thead>\n",
       "    <tr style=\"text-align: right;\">\n",
       "      <th></th>\n",
       "      <th>id</th>\n",
       "      <th>Fertilizer Name</th>\n",
       "    </tr>\n",
       "  </thead>\n",
       "  <tbody>\n",
       "    <tr>\n",
       "      <th>0</th>\n",
       "      <td>750000</td>\n",
       "      <td>10-26-26 20-20 DAP</td>\n",
       "    </tr>\n",
       "    <tr>\n",
       "      <th>1</th>\n",
       "      <td>750001</td>\n",
       "      <td>17-17-17 10-26-26 20-20</td>\n",
       "    </tr>\n",
       "    <tr>\n",
       "      <th>2</th>\n",
       "      <td>750002</td>\n",
       "      <td>20-20 28-28 Urea</td>\n",
       "    </tr>\n",
       "    <tr>\n",
       "      <th>3</th>\n",
       "      <td>750003</td>\n",
       "      <td>14-35-14 DAP 17-17-17</td>\n",
       "    </tr>\n",
       "    <tr>\n",
       "      <th>4</th>\n",
       "      <td>750004</td>\n",
       "      <td>20-20 Urea 10-26-26</td>\n",
       "    </tr>\n",
       "  </tbody>\n",
       "</table>\n",
       "</div>"
      ],
      "text/plain": [
       "       id          Fertilizer Name\n",
       "0  750000       10-26-26 20-20 DAP\n",
       "1  750001  17-17-17 10-26-26 20-20\n",
       "2  750002         20-20 28-28 Urea\n",
       "3  750003    14-35-14 DAP 17-17-17\n",
       "4  750004      20-20 Urea 10-26-26"
      ]
     },
     "execution_count": 19,
     "metadata": {},
     "output_type": "execute_result"
    }
   ],
   "source": [
    "create_submission(\"weighted-ensemble\", weighted_test_preds, np.mean(scores[\"WeightedEnsemble\"])).head()"
   ]
  },
  {
   "cell_type": "markdown",
   "id": "4747a2d1",
   "metadata": {
    "papermill": {
     "duration": 0.019893,
     "end_time": "2025-06-13T07:30:26.743115",
     "exception": false,
     "start_time": "2025-06-13T07:30:26.723222",
     "status": "completed"
    },
    "tags": []
   },
   "source": [
    "## Weighted VotingClassifier"
   ]
  },
  {
   "cell_type": "code",
   "execution_count": 20,
   "id": "fe40f652",
   "metadata": {
    "execution": {
     "iopub.execute_input": "2025-06-13T07:30:26.785626Z",
     "iopub.status.busy": "2025-06-13T07:30:26.784494Z",
     "iopub.status.idle": "2025-06-13T07:30:37.577502Z",
     "shell.execute_reply": "2025-06-13T07:30:37.576278Z"
    },
    "papermill": {
     "duration": 10.816695,
     "end_time": "2025-06-13T07:30:37.579039",
     "exception": false,
     "start_time": "2025-06-13T07:30:26.762344",
     "status": "completed"
    },
    "tags": []
   },
   "outputs": [
    {
     "name": "stdout",
     "output_type": "stream",
     "text": [
      "Training VotingClassifier\n",
      "\n",
      "--- Fold 1 - MAP@3: 0.364699\n",
      "--- Fold 2 - MAP@3: 0.365329\n",
      "--- Fold 3 - MAP@3: 0.368409\n",
      "--- Fold 4 - MAP@3: 0.366204\n",
      "--- Fold 5 - MAP@3: 0.366389\n",
      "\n",
      "------ Overall MAP@3: 0.366206 | Average MAP@3: 0.366206 ± 0.001259\n"
     ]
    }
   ],
   "source": [
    "weighted_voting_model = VotingClassifier(estimators, n_jobs=-1, voting='soft', weights=best_weights)\n",
    "weighted_voting_trainer = Trainer(weighted_voting_model)\n",
    "_, weighted_voting_test_pred_probs, scores[\"VotingClassifier (weighted)\"] = weighted_voting_trainer.fit_predict(X, y, X_test)"
   ]
  },
  {
   "cell_type": "code",
   "execution_count": 21,
   "id": "e058c3b7",
   "metadata": {
    "execution": {
     "iopub.execute_input": "2025-06-13T07:30:37.619275Z",
     "iopub.status.busy": "2025-06-13T07:30:37.618859Z",
     "iopub.status.idle": "2025-06-13T07:31:03.958237Z",
     "shell.execute_reply": "2025-06-13T07:31:03.957206Z"
    },
    "papermill": {
     "duration": 26.36133,
     "end_time": "2025-06-13T07:31:03.959923",
     "exception": false,
     "start_time": "2025-06-13T07:30:37.598593",
     "status": "completed"
    },
    "tags": []
   },
   "outputs": [
    {
     "data": {
      "text/html": [
       "<div>\n",
       "<style scoped>\n",
       "    .dataframe tbody tr th:only-of-type {\n",
       "        vertical-align: middle;\n",
       "    }\n",
       "\n",
       "    .dataframe tbody tr th {\n",
       "        vertical-align: top;\n",
       "    }\n",
       "\n",
       "    .dataframe thead th {\n",
       "        text-align: right;\n",
       "    }\n",
       "</style>\n",
       "<table border=\"1\" class=\"dataframe\">\n",
       "  <thead>\n",
       "    <tr style=\"text-align: right;\">\n",
       "      <th></th>\n",
       "      <th>id</th>\n",
       "      <th>Fertilizer Name</th>\n",
       "    </tr>\n",
       "  </thead>\n",
       "  <tbody>\n",
       "    <tr>\n",
       "      <th>0</th>\n",
       "      <td>750000</td>\n",
       "      <td>10-26-26 20-20 DAP</td>\n",
       "    </tr>\n",
       "    <tr>\n",
       "      <th>1</th>\n",
       "      <td>750001</td>\n",
       "      <td>17-17-17 10-26-26 20-20</td>\n",
       "    </tr>\n",
       "    <tr>\n",
       "      <th>2</th>\n",
       "      <td>750002</td>\n",
       "      <td>20-20 28-28 Urea</td>\n",
       "    </tr>\n",
       "    <tr>\n",
       "      <th>3</th>\n",
       "      <td>750003</td>\n",
       "      <td>14-35-14 DAP 17-17-17</td>\n",
       "    </tr>\n",
       "    <tr>\n",
       "      <th>4</th>\n",
       "      <td>750004</td>\n",
       "      <td>20-20 Urea 10-26-26</td>\n",
       "    </tr>\n",
       "  </tbody>\n",
       "</table>\n",
       "</div>"
      ],
      "text/plain": [
       "       id          Fertilizer Name\n",
       "0  750000       10-26-26 20-20 DAP\n",
       "1  750001  17-17-17 10-26-26 20-20\n",
       "2  750002         20-20 28-28 Urea\n",
       "3  750003    14-35-14 DAP 17-17-17\n",
       "4  750004      20-20 Urea 10-26-26"
      ]
     },
     "execution_count": 21,
     "metadata": {},
     "output_type": "execute_result"
    }
   ],
   "source": [
    "create_submission(\"weighted-voting-classifier\", weighted_voting_test_pred_probs, np.mean(scores[\"VotingClassifier (weighted)\"])).head()"
   ]
  },
  {
   "cell_type": "markdown",
   "id": "2323b3dd",
   "metadata": {
    "papermill": {
     "duration": 0.020039,
     "end_time": "2025-06-13T07:31:04.000336",
     "exception": false,
     "start_time": "2025-06-13T07:31:03.980297",
     "status": "completed"
    },
    "tags": []
   },
   "source": [
    "# Results"
   ]
  },
  {
   "cell_type": "code",
   "execution_count": 22,
   "id": "1d9a90be",
   "metadata": {
    "execution": {
     "iopub.execute_input": "2025-06-13T07:31:04.040661Z",
     "iopub.status.busy": "2025-06-13T07:31:04.040323Z",
     "iopub.status.idle": "2025-06-13T07:31:04.694211Z",
     "shell.execute_reply": "2025-06-13T07:31:04.692963Z"
    },
    "papermill": {
     "duration": 0.676065,
     "end_time": "2025-06-13T07:31:04.696092",
     "exception": false,
     "start_time": "2025-06-13T07:31:04.020027",
     "status": "completed"
    },
    "tags": []
   },
   "outputs": [
    {
     "data": {
      "image/png": "[encoded data removed]",
      "text/plain": [
       "<Figure size 1500x360 with 2 Axes>"
      ]
     },
     "metadata": {},
     "output_type": "display_data"
    }
   ],
   "source": [
    "scores = pd.DataFrame(scores)\n",
    "mean_scores = scores.mean().sort_values(ascending=False)\n",
    "order = scores.mean().sort_values(ascending=False).index.tolist()\n",
    "\n",
    "min_score = mean_scores.min()\n",
    "max_score = mean_scores.max()\n",
    "padding = (max_score - min_score) * 0.5\n",
    "lower_limit = min_score - padding\n",
    "upper_limit = max_score + padding\n",
    "\n",
    "fig, axs = plt.subplots(1, 2, figsize=(15, scores.shape[1] * 0.4))\n",
    "\n",
    "boxplot = sns.boxplot(data=scores, order=order, ax=axs[0], orient=\"h\", palette=\"RdYlGn_r\")\n",
    "axs[0].set_title(f\"Fold MAP@3\")\n",
    "axs[0].set_xlabel(\"\")\n",
    "axs[0].set_ylabel(\"\")\n",
    "\n",
    "barplot = sns.barplot(x=mean_scores.values, y=mean_scores.index, ax=axs[1], palette=\"RdYlGn_r\")\n",
    "axs[1].set_title(f\"Mean MAP@3\")\n",
    "axs[1].set_xlabel(\"\")\n",
    "axs[1].set_xlim(left=lower_limit, right=upper_limit)\n",
    "axs[1].set_ylabel(\"\")\n",
    "\n",
    "for i, score in enumerate(mean_scores.values):\n",
    "    barplot.text(score, i, round(score, 6), va=\"center\")\n",
    "\n",
    "plt.tight_layout()\n",
    "plt.show()"
   ]
  }
 ],
 "metadata": {
  "kaggle": {
   "accelerator": "none",
   "dataSources": [
    {
     "databundleVersionId": 12184666,
     "isSourceIdPinned": false,
     "sourceId": 91717,
     "sourceType": "competition"
    },
    {
     "sourceId": 244411248,
     "sourceType": "kernelVersion"
    }
   ],
   "dockerImageVersionId": 31040,
   "isGpuEnabled": false,
   "isInternetEnabled": true,
   "language": "python",
   "sourceType": "notebook"
  },
  "kernelspec": {
   "display_name": "Python 3",
   "language": "python",
   "name": "python3"
  },
  "language_info": {
   "codemirror_mode": {
    "name": "ipython",
    "version": 3
   },
   "file_extension": ".py",
   "mimetype": "text/x-python",
   "name": "python",
   "nbconvert_exporter": "python",
   "pygments_lexer": "ipython3",
   "version": "3.11.11"
  },
  "papermill": {
   "default_parameters": {},
   "duration": 930.972806,
   "end_time": "2025-06-13T07:31:07.440340",
   "environment_variables": {},
   "exception": null,
   "input_path": "__notebook__.ipynb",
   "output_path": "__notebook__.ipynb",
   "parameters": {},
   "start_time": "2025-06-13T07:15:36.467534",
   "version": "2.6.0"
  }
 },
 "nbformat": 4,
 "nbformat_minor": 5
}
