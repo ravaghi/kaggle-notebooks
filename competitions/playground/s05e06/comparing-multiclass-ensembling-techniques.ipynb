{
 "cells": [
  {
   "cell_type": "markdown",
   "id": "3530f733",
   "metadata": {
    "papermill": {
     "duration": 0.005738,
     "end_time": "2025-06-13T07:15:08.884808",
     "exception": false,
     "start_time": "2025-06-13T07:15:08.879070",
     "status": "completed"
    },
    "tags": []
   },
   "source": [
    "# Imports and configs"
   ]
  },
  {
   "cell_type": "code",
   "execution_count": 1,
   "id": "a38454fd",
   "metadata": {
    "_kg_hide-output": true,
    "execution": {
     "iopub.execute_input": "2025-06-13T07:15:08.895332Z",
     "iopub.status.busy": "2025-06-13T07:15:08.894931Z",
     "iopub.status.idle": "2025-06-13T07:15:18.334656Z",
     "shell.execute_reply": "2025-06-13T07:15:18.333674Z"
    },
    "papermill": {
     "duration": 9.447156,
     "end_time": "2025-06-13T07:15:18.336602",
     "exception": false,
     "start_time": "2025-06-13T07:15:08.889446",
     "status": "completed"
    },
    "tags": []
   },
   "outputs": [
    {
     "name": "stdout",
     "output_type": "stream",
     "text": [
      "\u001b[2K   \u001b[90m━━━━━━━━━━━━━━━━━━━━━━━━━━━━━━━━━━━━━━━━\u001b[0m \u001b[32m13.3/13.3 MB\u001b[0m \u001b[31m87.6 MB/s\u001b[0m eta \u001b[36m0:00:00\u001b[0m\r\n",
      "\u001b[?25h\u001b[31mERROR: pip's dependency resolver does not currently take into account all the packages that are installed. This behaviour is the source of the following dependency conflicts.\r\n",
      "cesium 0.12.4 requires numpy<3.0,>=2.0, but you have numpy 1.26.4 which is incompatible.\u001b[0m\u001b[31m\r\n",
      "\u001b[0m"
     ]
    }
   ],
   "source": [
    "!pip install -q scikit-learn==1.5.2"
   ]
  },
  {
   "cell_type": "code",
   "execution_count": 2,
   "id": "87a51954",
   "metadata": {
    "execution": {
     "iopub.execute_input": "2025-06-13T07:15:18.348471Z",
     "iopub.status.busy": "2025-06-13T07:15:18.348136Z",
     "iopub.status.idle": "2025-06-13T07:15:22.840398Z",
     "shell.execute_reply": "2025-06-13T07:15:22.839624Z"
    },
    "papermill": {
     "duration": 4.500246,
     "end_time": "2025-06-13T07:15:22.842031",
     "exception": false,
     "start_time": "2025-06-13T07:15:18.341785",
     "status": "completed"
    },
    "tags": []
   },
   "outputs": [],
   "source": [
    "from sklearn.ensemble import StackingClassifier, VotingClassifier\n",
    "from sklearn.base import BaseEstimator, ClassifierMixin, clone\n",
    "from sklearn.model_selection import StratifiedKFold\n",
    "from sklearn.linear_model import LogisticRegression\n",
    "from sklearn.preprocessing import LabelEncoder\n",
    "from sklearn.utils import check_array\n",
    "import matplotlib.pyplot as plt\n",
    "import seaborn as sns\n",
    "import pandas as pd\n",
    "import numpy as np\n",
    "import warnings\n",
    "import joblib\n",
    "import optuna\n",
    "import shutil\n",
    "import gc\n",
    "\n",
    "warnings.filterwarnings(\"ignore\")"
   ]
  },
  {
   "cell_type": "code",
   "execution_count": 3,
   "id": "8bf9ff3c",
   "metadata": {
    "execution": {
     "iopub.execute_input": "2025-06-13T07:15:22.853574Z",
     "iopub.status.busy": "2025-06-13T07:15:22.853148Z",
     "iopub.status.idle": "2025-06-13T07:15:22.858465Z",
     "shell.execute_reply": "2025-06-13T07:15:22.857661Z"
    },
    "papermill": {
     "duration": 0.012682,
     "end_time": "2025-06-13T07:15:22.859757",
     "exception": false,
     "start_time": "2025-06-13T07:15:22.847075",
     "status": "completed"
    },
    "tags": []
   },
   "outputs": [],
   "source": [
    "class CFG:\n",
    "    train_path = \"/kaggle/input/playground-series-s5e6/train.csv\"\n",
    "    test_path = \"/kaggle/input/playground-series-s5e6/test.csv\"\n",
    "    sample_sub_path = \"/kaggle/input/playground-series-s5e6/sample_submission.csv\"\n",
    "    \n",
    "    target = \"Fertilizer Name\"\n",
    "    n_folds = 5\n",
    "    seed = 42"
   ]
  },
  {
   "cell_type": "markdown",
   "id": "87df7de3",
   "metadata": {
    "papermill": {
     "duration": 0.004816,
     "end_time": "2025-06-13T07:15:22.869939",
     "exception": false,
     "start_time": "2025-06-13T07:15:22.865123",
     "status": "completed"
    },
    "tags": []
   },
   "source": [
    "# Data loading"
   ]
  },
  {
   "cell_type": "code",
   "execution_count": 4,
   "id": "6efb683f",
   "metadata": {
    "execution": {
     "iopub.execute_input": "2025-06-13T07:15:22.881516Z",
     "iopub.status.busy": "2025-06-13T07:15:22.880715Z",
     "iopub.status.idle": "2025-06-13T07:15:24.398988Z",
     "shell.execute_reply": "2025-06-13T07:15:24.398029Z"
    },
    "papermill": {
     "duration": 1.525907,
     "end_time": "2025-06-13T07:15:24.400656",
     "exception": false,
     "start_time": "2025-06-13T07:15:22.874749",
     "status": "completed"
    },
    "tags": []
   },
   "outputs": [],
   "source": [
    "train = pd.read_csv(CFG.train_path, index_col=\"id\")\n",
    "test = pd.read_csv(CFG.test_path, index_col=\"id\")\n",
    "\n",
    "label_encoder = LabelEncoder()\n",
    "train[CFG.target] = label_encoder.fit_transform(train[CFG.target])\n",
    "\n",
    "X = train.drop(CFG.target, axis=1)\n",
    "y = train[CFG.target]\n",
    "X_test = test"
   ]
  },
  {
   "cell_type": "code",
   "execution_count": 5,
   "id": "b6b35bba",
   "metadata": {
    "_kg_hide-input": true,
    "execution": {
     "iopub.execute_input": "2025-06-13T07:15:24.412310Z",
     "iopub.status.busy": "2025-06-13T07:15:24.411585Z",
     "iopub.status.idle": "2025-06-13T07:15:24.418447Z",
     "shell.execute_reply": "2025-06-13T07:15:24.417735Z"
    },
    "papermill": {
     "duration": 0.014142,
     "end_time": "2025-06-13T07:15:24.419926",
     "exception": false,
     "start_time": "2025-06-13T07:15:24.405784",
     "status": "completed"
    },
    "tags": []
   },
   "outputs": [],
   "source": [
    "def map3(y_true, y_pred_probs):\n",
    "    y_true = [[x] for x in y_true]\n",
    "    y_pred_probs = np.argsort(y_pred_probs, axis=1)[:, -3:][:, ::-1].tolist()\n",
    "    \n",
    "    def ap3(y_true, y_pred_probs):\n",
    "        y_pred_probs = y_pred_probs[:3]\n",
    "\n",
    "        score = 0.0\n",
    "        num_hits = 0.0\n",
    "\n",
    "        for i,p in enumerate(y_pred_probs):\n",
    "            if p in y_true and p not in y_pred_probs[:i]:\n",
    "                num_hits += 1.0\n",
    "                score += num_hits / (i+1.0)\n",
    "\n",
    "        if not y_true:\n",
    "            return 0.0\n",
    "\n",
    "        return score\n",
    "    \n",
    "    return np.mean([ap3(a,p) for a,p in zip(y_true, y_pred_probs)])"
   ]
  },
  {
   "cell_type": "code",
   "execution_count": 6,
   "id": "e228b2d2",
   "metadata": {
    "execution": {
     "iopub.execute_input": "2025-06-13T07:15:24.431748Z",
     "iopub.status.busy": "2025-06-13T07:15:24.431447Z",
     "iopub.status.idle": "2025-06-13T07:15:36.574992Z",
     "shell.execute_reply": "2025-06-13T07:15:36.574175Z"
    },
    "papermill": {
     "duration": 12.151584,
     "end_time": "2025-06-13T07:15:36.576582",
     "exception": false,
     "start_time": "2025-06-13T07:15:24.424998",
     "status": "completed"
    },
    "tags": []
   },
   "outputs": [],
   "source": [
    "scores = {}\n",
    "\n",
    "oof_pred_probs = joblib.load(\"/kaggle/input/s05e06-fertilizer-optimization-ensemble/oof_pred_probs.pkl\")\n",
    "test_pred_probs = joblib.load(\"/kaggle/input/s05e06-fertilizer-optimization-ensemble/test_pred_probs.pkl\")\n",
    "\n",
    "start_idx = 0\n",
    "models = [\"LightGBM (gbdt)\", \"LightGBM (goss)\", \"XGBoost\", \"AutoGluon\"]\n",
    "for model in models:\n",
    "    fold_scores = []        \n",
    "    \n",
    "    skf = StratifiedKFold(n_splits=CFG.n_folds, random_state=CFG.seed, shuffle=True)\n",
    "    for _, val_idx in skf.split(X, y):   \n",
    "        fold_score = map3(y[val_idx], oof_pred_probs.iloc[val_idx, start_idx:start_idx+7])\n",
    "        fold_scores.append(fold_score)\n",
    "        \n",
    "    scores[model] = fold_scores\n",
    "    start_idx += 7"
   ]
  },
  {
   "cell_type": "code",
   "execution_count": 7,
   "id": "e47f2bae",
   "metadata": {
    "_kg_hide-input": true,
    "execution": {
     "iopub.execute_input": "2025-06-13T07:15:36.588679Z",
     "iopub.status.busy": "2025-06-13T07:15:36.588355Z",
     "iopub.status.idle": "2025-06-13T07:15:36.599191Z",
     "shell.execute_reply": "2025-06-13T07:15:36.598364Z"
    },
    "papermill": {
     "duration": 0.018723,
     "end_time": "2025-06-13T07:15:36.600635",
     "exception": false,
     "start_time": "2025-06-13T07:15:36.581912",
     "status": "completed"
    },
    "tags": []
   },
   "outputs": [],
   "source": [
    "class Trainer:\n",
    "    def __init__(self, model, config=CFG):\n",
    "        self.model = model\n",
    "        self.config = config\n",
    "\n",
    "    def fit_predict(self, X, y, X_test):\n",
    "        print(f\"Training {self.model.__class__.__name__}\\n\")\n",
    "        \n",
    "        scores = []        \n",
    "        oof_pred_probs = np.zeros((X.shape[0], y.nunique()))\n",
    "        test_pred_probs = np.zeros((X_test.shape[0], y.nunique()))\n",
    "        \n",
    "        skf = StratifiedKFold(n_splits=self.config.n_folds, random_state=self.config.seed, shuffle=True)\n",
    "        for fold_idx, (train_idx, val_idx) in enumerate(skf.split(X, y)):\n",
    "            X_train, X_val = X.iloc[train_idx], X.iloc[val_idx]\n",
    "            y_train, y_val = y[train_idx], y[val_idx]\n",
    "            \n",
    "            model = clone(self.model)\n",
    "            model.fit(X_train, y_train)\n",
    "            \n",
    "            y_pred_probs = model.predict_proba(X_val)\n",
    "            oof_pred_probs[val_idx] = y_pred_probs\n",
    "            \n",
    "            temp_test_pred_probs = model.predict_proba(X_test)\n",
    "            test_pred_probs += temp_test_pred_probs / self.config.n_folds\n",
    "            \n",
    "            score = map3(y_val, y_pred_probs)\n",
    "            scores.append(score)\n",
    "            \n",
    "            del model, X_train, y_train, X_val, y_val, y_pred_probs\n",
    "            gc.collect()\n",
    "        \n",
    "            print(f\"--- Fold {fold_idx + 1} - MAP@3: {score:.6f}\")\n",
    "                            \n",
    "        overall_score = map3(y, oof_pred_probs)\n",
    "            \n",
    "        print(f\"\\n------ Overall MAP@3: {overall_score:.6f} | Average MAP@3: {np.mean(scores):.6f} ± {np.std(scores):.6f}\")\n",
    "        \n",
    "        return oof_pred_probs, test_pred_probs, scores\n",
    "\n",
    "    def tune(self, X, y):        \n",
    "        scores = []        \n",
    "        \n",
    "        skf = StratifiedKFold(n_splits=self.config.n_folds, random_state=self.config.seed, shuffle=True)\n",
    "        for train_idx, val_idx in skf.split(X, y):\n",
    "            X_train, X_val = X.iloc[train_idx], X.iloc[val_idx]\n",
    "            y_train, y_val = y[train_idx], y[val_idx]\n",
    "            \n",
    "            model = clone(self.model)\n",
    "            model.fit(X_train, y_train)\n",
    "            \n",
    "            y_pred_probs = model.predict_proba(X_val)            \n",
    "            score = map3(y_val, y_pred_probs)\n",
    "            scores.append(score)\n",
    "            \n",
    "            del model, X_train, y_train, X_val, y_val, y_pred_probs\n",
    "            gc.collect()\n",
    "            \n",
    "        return np.mean(scores)"
   ]
  },
  {
   "cell_type": "markdown",
   "id": "50ccee05",
   "metadata": {
    "papermill": {
     "duration": 0.004818,
     "end_time": "2025-06-13T07:15:36.610860",
     "exception": false,
     "start_time": "2025-06-13T07:15:36.606042",
     "status": "completed"
    },
    "tags": []
   },
   "source": [
    "# Ensembling"
   ]
  },
  {
   "cell_type": "code",
   "execution_count": 8,
   "id": "f380d6df",
   "metadata": {
    "execution": {
     "iopub.execute_input": "2025-06-13T07:15:36.623068Z",
     "iopub.status.busy": "2025-06-13T07:15:36.622664Z",
     "iopub.status.idle": "2025-06-13T07:15:36.629397Z",
     "shell.execute_reply": "2025-06-13T07:15:36.628450Z"
    },
    "papermill": {
     "duration": 0.01408,
     "end_time": "2025-06-13T07:15:36.630806",
     "exception": false,
     "start_time": "2025-06-13T07:15:36.616726",
     "status": "completed"
    },
    "tags": []
   },
   "outputs": [],
   "source": [
    "X = oof_pred_probs\n",
    "X_test = test_pred_probs"
   ]
  },
  {
   "cell_type": "code",
   "execution_count": 9,
   "id": "70078b05",
   "metadata": {
    "execution": {
     "iopub.execute_input": "2025-06-13T07:15:36.642230Z",
     "iopub.status.busy": "2025-06-13T07:15:36.641906Z",
     "iopub.status.idle": "2025-06-13T07:15:36.647567Z",
     "shell.execute_reply": "2025-06-13T07:15:36.646660Z"
    },
    "papermill": {
     "duration": 0.013201,
     "end_time": "2025-06-13T07:15:36.649116",
     "exception": false,
     "start_time": "2025-06-13T07:15:36.635915",
     "status": "completed"
    },
    "tags": []
   },
   "outputs": [],
   "source": [
    "def create_submission(model, test_pred_probs, score):\n",
    "    final_predictions = []\n",
    "    for i in np.argsort(test_pred_probs)[:, -3:][:, ::-1]:\n",
    "        prediction = label_encoder.inverse_transform(i)\n",
    "        final_predictions.append(\" \".join(prediction))\n",
    "\n",
    "    sub = pd.read_csv(CFG.sample_sub_path)\n",
    "    sub[CFG.target] = final_predictions\n",
    "    sub.to_csv(f\"sub_{model}_{score:.6f}.csv\", index=False)\n",
    "    \n",
    "    return sub"
   ]
  },
  {
   "cell_type": "markdown",
   "id": "ef665a1e",
   "metadata": {
    "papermill": {
     "duration": 0.004794,
     "end_time": "2025-06-13T07:15:36.659118",
     "exception": false,
     "start_time": "2025-06-13T07:15:36.654324",
     "status": "completed"
    },
    "tags": []
   },
   "source": [
    "## LogisticRegression"
   ]
  },
  {
   "cell_type": "code",
   "execution_count": 10,
   "id": "804d50c6",
   "metadata": {
    "execution": {
     "iopub.execute_input": "2025-06-13T07:15:36.670809Z",
     "iopub.status.busy": "2025-06-13T07:15:36.670495Z",
     "iopub.status.idle": "2025-06-13T07:15:36.674285Z",
     "shell.execute_reply": "2025-06-13T07:15:36.673484Z"
    },
    "papermill": {
     "duration": 0.011328,
     "end_time": "2025-06-13T07:15:36.675527",
     "exception": false,
     "start_time": "2025-06-13T07:15:36.664199",
     "status": "completed"
    },
    "tags": []
   },
   "outputs": [],
   "source": [
    "from scipy.special import logit"
   ]
  },
  {
   "cell_type": "code",
   "execution_count": 11,
   "id": "622e6ed7",
   "metadata": {
    "execution": {
     "iopub.execute_input": "2025-06-13T07:15:36.687136Z",
     "iopub.status.busy": "2025-06-13T07:15:36.686797Z",
     "iopub.status.idle": "2025-06-13T07:15:37.055974Z",
     "shell.execute_reply": "2025-06-13T07:15:37.055106Z"
    },
    "papermill": {
     "duration": 0.377255,
     "end_time": "2025-06-13T07:15:37.057898",
     "exception": false,
     "start_time": "2025-06-13T07:15:36.680643",
     "status": "completed"
    },
    "tags": []
   },
   "outputs": [],
   "source": [
    "X = logit(X)\n",
    "X_test = logit(X_test)"
   ]
  },
  {
   "cell_type": "code",
   "execution_count": 12,
   "id": "98672baa",
   "metadata": {
    "execution": {
     "iopub.execute_input": "2025-06-13T07:15:37.069480Z",
     "iopub.status.busy": "2025-06-13T07:15:37.069171Z",
     "iopub.status.idle": "2025-06-13T07:18:27.613822Z",
     "shell.execute_reply": "2025-06-13T07:18:27.612915Z"
    },
    "papermill": {
     "duration": 170.552181,
     "end_time": "2025-06-13T07:18:27.615357",
     "exception": false,
     "start_time": "2025-06-13T07:15:37.063176",
     "status": "completed"
    },
    "tags": []
   },
   "outputs": [
    {
     "name": "stdout",
     "output_type": "stream",
     "text": [
      "Training LogisticRegression\n",
      "\n",
      "--- Fold 1 - MAP@3: 0.364598\n",
      "--- Fold 2 - MAP@3: 0.365627\n",
      "--- Fold 3 - MAP@3: 0.368621\n",
      "--- Fold 4 - MAP@3: 0.366249\n",
      "--- Fold 5 - MAP@3: 0.366710\n",
      "\n",
      "------ Overall MAP@3: 0.366361 | Average MAP@3: 0.366361 ± 0.001333\n"
     ]
    }
   ],
   "source": [
    "lr_model = LogisticRegression(\n",
    "    C=0.3691232889729139,\n",
    "    fit_intercept=True,\n",
    "    max_iter=5000,\n",
    "    random_state=42,\n",
    "    tol=0.0021938847672756667,\n",
    "    solver=\"liblinear\",\n",
    "    penalty=\"l2\"\n",
    ") \n",
    "\n",
    "lr_trainer = Trainer(lr_model)\n",
    "_, lr_test_pred_probs, scores[\"LogisticRegression\"] = lr_trainer.fit_predict(X, y, X_test)"
   ]
  },
  {
   "cell_type": "code",
   "execution_count": 13,
   "id": "9ad6ca49",
   "metadata": {
    "execution": {
     "iopub.execute_input": "2025-06-13T07:18:27.627955Z",
     "iopub.status.busy": "2025-06-13T07:18:27.627161Z",
     "iopub.status.idle": "2025-06-13T07:18:54.430573Z",
     "shell.execute_reply": "2025-06-13T07:18:54.429600Z"
    },
    "papermill": {
     "duration": 26.811254,
     "end_time": "2025-06-13T07:18:54.432118",
     "exception": false,
     "start_time": "2025-06-13T07:18:27.620864",
     "status": "completed"
    },
    "tags": []
   },
   "outputs": [
    {
     "data": {
      "text/html": [
       "<div>\n",
       "<style scoped>\n",
       "    .dataframe tbody tr th:only-of-type {\n",
       "        vertical-align: middle;\n",
       "    }\n",
       "\n",
       "    .dataframe tbody tr th {\n",
       "        vertical-align: top;\n",
       "    }\n",
       "\n",
       "    .dataframe thead th {\n",
       "        text-align: right;\n",
       "    }\n",
       "</style>\n",
       "<table border=\"1\" class=\"dataframe\">\n",
       "  <thead>\n",
       "    <tr style=\"text-align: right;\">\n",
       "      <th></th>\n",
       "      <th>id</th>\n",
       "      <th>Fertilizer Name</th>\n",
       "    </tr>\n",
       "  </thead>\n",
       "  <tbody>\n",
       "    <tr>\n",
       "      <th>0</th>\n",
       "      <td>750000</td>\n",
       "      <td>10-26-26 20-20 DAP</td>\n",
       "    </tr>\n",
       "    <tr>\n",
       "      <th>1</th>\n",
       "      <td>750001</td>\n",
       "      <td>17-17-17 10-26-26 20-20</td>\n",
       "    </tr>\n",
       "    <tr>\n",
       "      <th>2</th>\n",
       "      <td>750002</td>\n",
       "      <td>20-20 28-28 Urea</td>\n",
       "    </tr>\n",
       "    <tr>\n",
       "      <th>3</th>\n",
       "      <td>750003</td>\n",
       "      <td>14-35-14 DAP 17-17-17</td>\n",
       "    </tr>\n",
       "    <tr>\n",
       "      <th>4</th>\n",
       "      <td>750004</td>\n",
       "      <td>20-20 Urea 10-26-26</td>\n",
       "    </tr>\n",
       "  </tbody>\n",
       "</table>\n",
       "</div>"
      ],
      "text/plain": [
       "       id          Fertilizer Name\n",
       "0  750000       10-26-26 20-20 DAP\n",
       "1  750001  17-17-17 10-26-26 20-20\n",
       "2  750002         20-20 28-28 Urea\n",
       "3  750003    14-35-14 DAP 17-17-17\n",
       "4  750004      20-20 Urea 10-26-26"
      ]
     },
     "execution_count": 13,
     "metadata": {},
     "output_type": "execute_result"
    }
   ],
   "source": [
    "create_submission(\"logistic-regression\", lr_test_pred_probs, np.mean(scores[\"LogisticRegression\"])).head()"
   ]
  },
  {
   "cell_type": "markdown",
   "id": "7d28a6eb",
   "metadata": {
    "papermill": {
     "duration": 0.005663,
     "end_time": "2025-06-13T07:18:54.443641",
     "exception": false,
     "start_time": "2025-06-13T07:18:54.437978",
     "status": "completed"
    },
    "tags": []
   },
   "source": [
    "## StackingClassifier"
   ]
  },
  {
   "cell_type": "code",
   "execution_count": 14,
   "id": "26feac98",
   "metadata": {
    "_kg_hide-input": true,
    "execution": {
     "iopub.execute_input": "2025-06-13T07:18:54.456878Z",
     "iopub.status.busy": "2025-06-13T07:18:54.456236Z",
     "iopub.status.idle": "2025-06-13T07:18:54.462176Z",
     "shell.execute_reply": "2025-06-13T07:18:54.461485Z"
    },
    "papermill": {
     "duration": 0.014363,
     "end_time": "2025-06-13T07:18:54.463514",
     "exception": false,
     "start_time": "2025-06-13T07:18:54.449151",
     "status": "completed"
    },
    "tags": []
   },
   "outputs": [],
   "source": [
    "# This is just a trick to avoid refitting all base models from scratch, which is what StackingClassifier and VotingClassifier do by default\n",
    "\n",
    "class PassThroughClassifier(BaseEstimator, ClassifierMixin):\n",
    "    def __init__(self, idx_cols):\n",
    "        self.idx_cols = idx_cols\n",
    "        self.is_fitted_ = True\n",
    "\n",
    "    def fit(self, X, y=None):\n",
    "        return self\n",
    "\n",
    "    def predict_proba(self, X):\n",
    "        return check_array(X)[:, self.idx_cols]\n",
    "\n",
    "\n",
    "estimators = [\n",
    "    ('LightGBM (gbdt)', PassThroughClassifier(list(range(0, 7)))),\n",
    "    ('LightGBM (goss)', PassThroughClassifier(list(range(7, 14)))),\n",
    "    ('XGBoost', PassThroughClassifier(list(range(14, 21)))),\n",
    "    ('AutoGluon', PassThroughClassifier(list(range(21, 28)))),\n",
    "]"
   ]
  },
  {
   "cell_type": "code",
   "execution_count": 15,
   "id": "8e6da21f",
   "metadata": {
    "execution": {
     "iopub.execute_input": "2025-06-13T07:18:54.476309Z",
     "iopub.status.busy": "2025-06-13T07:18:54.476003Z",
     "iopub.status.idle": "2025-06-13T07:21:46.776951Z",
     "shell.execute_reply": "2025-06-13T07:21:46.775912Z"
    },
    "papermill": {
     "duration": 172.309199,
     "end_time": "2025-06-13T07:21:46.778425",
     "exception": false,
     "start_time": "2025-06-13T07:18:54.469226",
     "status": "completed"
    },
    "tags": []
   },
   "outputs": [
    {
     "name": "stdout",
     "output_type": "stream",
     "text": [
      "Training StackingClassifier\n",
      "\n",
      "--- Fold 1 - MAP@3: 0.364598\n",
      "--- Fold 2 - MAP@3: 0.365627\n",
      "--- Fold 3 - MAP@3: 0.368621\n",
      "--- Fold 4 - MAP@3: 0.366249\n",
      "--- Fold 5 - MAP@3: 0.366710\n",
      "\n",
      "------ Overall MAP@3: 0.366361 | Average MAP@3: 0.366361 ± 0.001333\n"
     ]
    }
   ],
   "source": [
    "stacking_model = StackingClassifier(estimators, cv='prefit', n_jobs=-1, final_estimator=clone(lr_model))\n",
    "stacking_trainer = Trainer(stacking_model)\n",
    "_, stacking_test_pred_probs, scores[\"StackingClassifier\"] = stacking_trainer.fit_predict(X, y, X_test)"
   ]
  },
  {
   "cell_type": "code",
   "execution_count": 16,
   "id": "29a2f24e",
   "metadata": {
    "execution": {
     "iopub.execute_input": "2025-06-13T07:21:46.792337Z",
     "iopub.status.busy": "2025-06-13T07:21:46.791631Z",
     "iopub.status.idle": "2025-06-13T07:22:13.403112Z",
     "shell.execute_reply": "2025-06-13T07:22:13.402285Z"
    },
    "papermill": {
     "duration": 26.620019,
     "end_time": "2025-06-13T07:22:13.404567",
     "exception": false,
     "start_time": "2025-06-13T07:21:46.784548",
     "status": "completed"
    },
    "tags": []
   },
   "outputs": [
    {
     "data": {
      "text/html": [
       "<div>\n",
       "<style scoped>\n",
       "    .dataframe tbody tr th:only-of-type {\n",
       "        vertical-align: middle;\n",
       "    }\n",
       "\n",
       "    .dataframe tbody tr th {\n",
       "        vertical-align: top;\n",
       "    }\n",
       "\n",
       "    .dataframe thead th {\n",
       "        text-align: right;\n",
       "    }\n",
       "</style>\n",
       "<table border=\"1\" class=\"dataframe\">\n",
       "  <thead>\n",
       "    <tr style=\"text-align: right;\">\n",
       "      <th></th>\n",
       "      <th>id</th>\n",
       "      <th>Fertilizer Name</th>\n",
       "    </tr>\n",
       "  </thead>\n",
       "  <tbody>\n",
       "    <tr>\n",
       "      <th>0</th>\n",
       "      <td>750000</td>\n",
       "      <td>10-26-26 20-20 DAP</td>\n",
       "    </tr>\n",
       "    <tr>\n",
       "      <th>1</th>\n",
       "      <td>750001</td>\n",
       "      <td>17-17-17 10-26-26 20-20</td>\n",
       "    </tr>\n",
       "    <tr>\n",
       "      <th>2</th>\n",
       "      <td>750002</td>\n",
       "      <td>20-20 28-28 Urea</td>\n",
       "    </tr>\n",
       "    <tr>\n",
       "      <th>3</th>\n",
       "      <td>750003</td>\n",
       "      <td>14-35-14 DAP 17-17-17</td>\n",
       "    </tr>\n",
       "    <tr>\n",
       "      <th>4</th>\n",
       "      <td>750004</td>\n",
       "      <td>20-20 Urea 10-26-26</td>\n",
       "    </tr>\n",
       "  </tbody>\n",
       "</table>\n",
       "</div>"
      ],
      "text/plain": [
       "       id          Fertilizer Name\n",
       "0  750000       10-26-26 20-20 DAP\n",
       "1  750001  17-17-17 10-26-26 20-20\n",
       "2  750002         20-20 28-28 Urea\n",
       "3  750003    14-35-14 DAP 17-17-17\n",
       "4  750004      20-20 Urea 10-26-26"
      ]
     },
     "execution_count": 16,
     "metadata": {},
     "output_type": "execute_result"
    }
   ],
   "source": [
    "create_submission(\"stacking-classifier\", stacking_test_pred_probs, np.mean(scores[\"StackingClassifier\"])).head()"
   ]
  },
  {
   "cell_type": "markdown",
   "id": "979a50fb",
   "metadata": {
    "papermill": {
     "duration": 0.006256,
     "end_time": "2025-06-13T07:22:13.417399",
     "exception": false,
     "start_time": "2025-06-13T07:22:13.411143",
     "status": "completed"
    },
    "tags": []
   },
   "source": [
    "## VotingClassifier"
   ]
  },
  {
   "cell_type": "code",
   "execution_count": 17,
   "id": "5b9fccb8",
   "metadata": {
    "execution": {
     "iopub.execute_input": "2025-06-13T07:22:13.431682Z",
     "iopub.status.busy": "2025-06-13T07:22:13.431378Z",
     "iopub.status.idle": "2025-06-13T07:22:23.612522Z",
     "shell.execute_reply": "2025-06-13T07:22:23.611459Z"
    },
    "papermill": {
     "duration": 10.190267,
     "end_time": "2025-06-13T07:22:23.614195",
     "exception": false,
     "start_time": "2025-06-13T07:22:13.423928",
     "status": "completed"
    },
    "tags": []
   },
   "outputs": [
    {
     "name": "stdout",
     "output_type": "stream",
     "text": [
      "Training VotingClassifier\n",
      "\n",
      "--- Fold 1 - MAP@3: 0.362812\n",
      "--- Fold 2 - MAP@3: 0.363271\n",
      "--- Fold 3 - MAP@3: 0.365469\n",
      "--- Fold 4 - MAP@3: 0.363524\n",
      "--- Fold 5 - MAP@3: 0.363708\n",
      "\n",
      "------ Overall MAP@3: 0.363757 | Average MAP@3: 0.363757 ± 0.000907\n"
     ]
    }
   ],
   "source": [
    "voting_model = VotingClassifier(estimators, n_jobs=-1, voting='soft')\n",
    "voting_trainer = Trainer(voting_model)\n",
    "_, voting_test_pred_probs, scores[\"VotingClassifier\"] = voting_trainer.fit_predict(X, y, X_test)"
   ]
  },
  {
   "cell_type": "code",
   "execution_count": 18,
   "id": "72485198",
   "metadata": {
    "execution": {
     "iopub.execute_input": "2025-06-13T07:22:23.629368Z",
     "iopub.status.busy": "2025-06-13T07:22:23.629073Z",
     "iopub.status.idle": "2025-06-13T07:22:50.551949Z",
     "shell.execute_reply": "2025-06-13T07:22:50.550899Z"
    },
    "papermill": {
     "duration": 26.932045,
     "end_time": "2025-06-13T07:22:50.553560",
     "exception": false,
     "start_time": "2025-06-13T07:22:23.621515",
     "status": "completed"
    },
    "tags": []
   },
   "outputs": [
    {
     "data": {
      "text/html": [
       "<div>\n",
       "<style scoped>\n",
       "    .dataframe tbody tr th:only-of-type {\n",
       "        vertical-align: middle;\n",
       "    }\n",
       "\n",
       "    .dataframe tbody tr th {\n",
       "        vertical-align: top;\n",
       "    }\n",
       "\n",
       "    .dataframe thead th {\n",
       "        text-align: right;\n",
       "    }\n",
       "</style>\n",
       "<table border=\"1\" class=\"dataframe\">\n",
       "  <thead>\n",
       "    <tr style=\"text-align: right;\">\n",
       "      <th></th>\n",
       "      <th>id</th>\n",
       "      <th>Fertilizer Name</th>\n",
       "    </tr>\n",
       "  </thead>\n",
       "  <tbody>\n",
       "    <tr>\n",
       "      <th>0</th>\n",
       "      <td>750000</td>\n",
       "      <td>10-26-26 DAP 20-20</td>\n",
       "    </tr>\n",
       "    <tr>\n",
       "      <th>1</th>\n",
       "      <td>750001</td>\n",
       "      <td>17-17-17 10-26-26 20-20</td>\n",
       "    </tr>\n",
       "    <tr>\n",
       "      <th>2</th>\n",
       "      <td>750002</td>\n",
       "      <td>20-20 28-28 17-17-17</td>\n",
       "    </tr>\n",
       "    <tr>\n",
       "      <th>3</th>\n",
       "      <td>750003</td>\n",
       "      <td>14-35-14 DAP Urea</td>\n",
       "    </tr>\n",
       "    <tr>\n",
       "      <th>4</th>\n",
       "      <td>750004</td>\n",
       "      <td>20-20 Urea 10-26-26</td>\n",
       "    </tr>\n",
       "  </tbody>\n",
       "</table>\n",
       "</div>"
      ],
      "text/plain": [
       "       id          Fertilizer Name\n",
       "0  750000       10-26-26 DAP 20-20\n",
       "1  750001  17-17-17 10-26-26 20-20\n",
       "2  750002     20-20 28-28 17-17-17\n",
       "3  750003        14-35-14 DAP Urea\n",
       "4  750004      20-20 Urea 10-26-26"
      ]
     },
     "execution_count": 18,
     "metadata": {},
     "output_type": "execute_result"
    }
   ],
   "source": [
    "create_submission(\"voting-classifier\", voting_test_pred_probs, np.mean(scores[\"VotingClassifier\"])).head()"
   ]
  },
  {
   "cell_type": "markdown",
   "id": "ffa5c6f7",
   "metadata": {
    "papermill": {
     "duration": 0.006632,
     "end_time": "2025-06-13T07:22:50.567397",
     "exception": false,
     "start_time": "2025-06-13T07:22:50.560765",
     "status": "completed"
    },
    "tags": []
   },
   "source": [
    "## Weighted averaging"
   ]
  },
  {
   "cell_type": "code",
   "execution_count": 19,
   "id": "8ac21771",
   "metadata": {
    "_kg_hide-output": true,
    "execution": {
     "iopub.execute_input": "2025-06-13T07:22:50.582270Z",
     "iopub.status.busy": "2025-06-13T07:22:50.581957Z",
     "iopub.status.idle": "2025-06-13T07:29:18.470520Z",
     "shell.execute_reply": "2025-06-13T07:29:18.469646Z"
    },
    "papermill": {
     "duration": 387.897859,
     "end_time": "2025-06-13T07:29:18.472017",
     "exception": false,
     "start_time": "2025-06-13T07:22:50.574158",
     "status": "completed"
    },
    "scrolled": true,
    "tags": []
   },
   "outputs": [
    {
     "name": "stderr",
     "output_type": "stream",
     "text": [
      "[I 2025-06-13 07:22:50,586] A new study created in memory with name: no-name-6bcc1585-48b7-42c5-8409-777cb16e18ae\n",
      "[I 2025-06-13 07:22:56,581] Trial 1 finished with value: 0.36472866666666665 and parameters: {'LightGBM (gbdt)': 0.8730257216304076, 'LightGBM (goss)': 0.9392765186354727, 'XGBoost': 0.7081905203812355, 'AutoGluon': 0.19213801077060277}. Best is trial 1 with value: 0.36472866666666665.\n",
      "[I 2025-06-13 07:22:56,837] Trial 3 finished with value: 0.3632868888888888 and parameters: {'LightGBM (gbdt)': 0.4592936172837222, 'LightGBM (goss)': 0.007936851185486482, 'XGBoost': 0.6146132537084318, 'AutoGluon': 0.5983778648755398}. Best is trial 1 with value: 0.36472866666666665.\n",
      "[I 2025-06-13 07:22:57,108] Trial 0 finished with value: 0.3643511111111112 and parameters: {'LightGBM (gbdt)': 0.9545015251980973, 'LightGBM (goss)': 0.4988805526518211, 'XGBoost': 0.7721081207753662, 'AutoGluon': 0.5788826304240672}. Best is trial 1 with value: 0.36472866666666665.\n",
      "[I 2025-06-13 07:22:57,440] Trial 2 finished with value: 0.36404622222222227 and parameters: {'LightGBM (gbdt)': 0.49990313523498686, 'LightGBM (goss)': 0.8872882272637402, 'XGBoost': 0.3816480649843905, 'AutoGluon': 0.20331828777826433}. Best is trial 1 with value: 0.36472866666666665.\n",
      "[I 2025-06-13 07:23:03,084] Trial 5 finished with value: 0.3640984444444445 and parameters: {'LightGBM (gbdt)': 0.38438879953439475, 'LightGBM (goss)': 0.5235320303885127, 'XGBoost': 0.3948609217493494, 'AutoGluon': 0.3327873961226707}. Best is trial 1 with value: 0.36472866666666665.\n",
      "[I 2025-06-13 07:23:03,362] Trial 6 finished with value: 0.35596733333333325 and parameters: {'LightGBM (gbdt)': 0.4177417302370138, 'LightGBM (goss)': 0.17622514428726066, 'XGBoost': 0.06336680096697034, 'AutoGluon': 0.9418577706242565}. Best is trial 1 with value: 0.36472866666666665.\n",
      "[I 2025-06-13 07:23:03,554] Trial 4 finished with value: 0.362635111111111 and parameters: {'LightGBM (gbdt)': 0.9459448136971386, 'LightGBM (goss)': 0.2345424054650157, 'XGBoost': 0.617487962551782, 'AutoGluon': 0.9673294461687906}. Best is trial 1 with value: 0.36472866666666665.\n",
      "[I 2025-06-13 07:23:04,112] Trial 7 finished with value: 0.3613877777777778 and parameters: {'LightGBM (gbdt)': 0.608513933822694, 'LightGBM (goss)': 0.1336342462558462, 'XGBoost': 0.19896803470534707, 'AutoGluon': 0.6102851912449784}. Best is trial 1 with value: 0.36472866666666665.\n",
      "[I 2025-06-13 07:23:08,505] Trial 8 finished with value: 0.3660306666666667 and parameters: {'LightGBM (gbdt)': 0.13554600455823163, 'LightGBM (goss)': 0.2714746168587302, 'XGBoost': 0.8410595870482961, 'AutoGluon': 0.09037342038258378}. Best is trial 8 with value: 0.3660306666666667.\n",
      "[I 2025-06-13 07:23:08,667] Trial 10 finished with value: 0.3646746666666666 and parameters: {'LightGBM (gbdt)': 0.20321040509734256, 'LightGBM (goss)': 0.0021528870251336096, 'XGBoost': 0.6581062458195072, 'AutoGluon': 0.31670407625067576}. Best is trial 8 with value: 0.3660306666666667.\n",
      "[I 2025-06-13 07:23:09,008] Trial 9 finished with value: 0.3609820000000001 and parameters: {'LightGBM (gbdt)': 0.3310455977749569, 'LightGBM (goss)': 0.27969338342961747, 'XGBoost': 0.22588714649693153, 'AutoGluon': 0.5911051406064688}. Best is trial 8 with value: 0.3660306666666667.\n",
      "[I 2025-06-13 07:23:13,300] Trial 11 finished with value: 0.36474955555555566 and parameters: {'LightGBM (gbdt)': 0.7972660338807924, 'LightGBM (goss)': 0.8933796448100019, 'XGBoost': 0.8070184897851256, 'AutoGluon': 0.285265857636089}. Best is trial 8 with value: 0.3660306666666667.\n",
      "[I 2025-06-13 07:23:13,946] Trial 12 finished with value: 0.3623544444444445 and parameters: {'LightGBM (gbdt)': 0.8700684953391234, 'LightGBM (goss)': 0.2866884486211644, 'XGBoost': 0.10236185330961489, 'AutoGluon': 0.48586934366356915}. Best is trial 8 with value: 0.3660306666666667.\n",
      "[I 2025-06-13 07:23:14,244] Trial 13 finished with value: 0.3653240000000001 and parameters: {'LightGBM (gbdt)': 0.018565060010993478, 'LightGBM (goss)': 0.9864900521123764, 'XGBoost': 0.9728498347422165, 'AutoGluon': 0.012105496097012225}. Best is trial 8 with value: 0.3660306666666667.\n",
      "[I 2025-06-13 07:23:15,400] Trial 14 finished with value: 0.36551422222222224 and parameters: {'LightGBM (gbdt)': 0.009462225243599742, 'LightGBM (goss)': 0.7984147456014817, 'XGBoost': 0.9378931844448306, 'AutoGluon': 0.02554709855708967}. Best is trial 8 with value: 0.3660306666666667.\n",
      "[I 2025-06-13 07:23:18,634] Trial 15 finished with value: 0.36551488888888883 and parameters: {'LightGBM (gbdt)': 0.0024370682098669993, 'LightGBM (goss)': 0.7157241425217945, 'XGBoost': 0.9691955662307002, 'AutoGluon': 0.0928891669296632}. Best is trial 8 with value: 0.3660306666666667.\n",
      "[I 2025-06-13 07:23:19,343] Trial 16 finished with value: 0.36565000000000014 and parameters: {'LightGBM (gbdt)': 0.08934534243312879, 'LightGBM (goss)': 0.7542274972129123, 'XGBoost': 0.9780871731385549, 'AutoGluon': 0.0006916390333537858}. Best is trial 8 with value: 0.3660306666666667.\n",
      "[I 2025-06-13 07:23:19,938] Trial 17 finished with value: 0.3655751111111111 and parameters: {'LightGBM (gbdt)': 0.006049004054098223, 'LightGBM (goss)': 0.7095925825052939, 'XGBoost': 0.9107241475674656, 'AutoGluon': 0.005139486707752945}. Best is trial 8 with value: 0.3660306666666667.\n",
      "[I 2025-06-13 07:23:23,175] Trial 18 finished with value: 0.36558822222222215 and parameters: {'LightGBM (gbdt)': 0.030753825156936254, 'LightGBM (goss)': 0.6973888293946506, 'XGBoost': 0.9597909256050607, 'AutoGluon': 0.060431823775684915}. Best is trial 8 with value: 0.3660306666666667.\n",
      "[I 2025-06-13 07:23:24,306] Trial 19 finished with value: 0.3655453333333333 and parameters: {'LightGBM (gbdt)': 0.15995809719490173, 'LightGBM (goss)': 0.6583815307137921, 'XGBoost': 0.915946453359159, 'AutoGluon': 0.14146311915688276}. Best is trial 8 with value: 0.3660306666666667.\n",
      "[I 2025-06-13 07:23:25,133] Trial 21 finished with value: 0.36568000000000006 and parameters: {'LightGBM (gbdt)': 0.17681180224540016, 'LightGBM (goss)': 0.4555466441336464, 'XGBoost': 0.8724180646068032, 'AutoGluon': 0.14945223714880135}. Best is trial 8 with value: 0.3660306666666667.\n",
      "[I 2025-06-13 07:23:25,239] Trial 20 finished with value: 0.36562111111111106 and parameters: {'LightGBM (gbdt)': 0.1666521698686055, 'LightGBM (goss)': 0.46288672825126836, 'XGBoost': 0.8477143408713617, 'AutoGluon': 0.14633287703074985}. Best is trial 8 with value: 0.3660306666666667.\n",
      "[I 2025-06-13 07:23:29,364] Trial 22 finished with value: 0.3645673333333334 and parameters: {'LightGBM (gbdt)': 0.19526116814922723, 'LightGBM (goss)': 0.4469785456783724, 'XGBoost': 0.834797195816824, 'AutoGluon': 0.44514713203876644}. Best is trial 8 with value: 0.3660306666666667.\n",
      "[I 2025-06-13 07:23:29,926] Trial 23 finished with value: 0.3646508888888889 and parameters: {'LightGBM (gbdt)': 0.23171915436998636, 'LightGBM (goss)': 0.4242110028326954, 'XGBoost': 0.8212537811876924, 'AutoGluon': 0.4265384775293999}. Best is trial 8 with value: 0.3660306666666667.\n",
      "[I 2025-06-13 07:23:30,722] Trial 24 finished with value: 0.3653851111111111 and parameters: {'LightGBM (gbdt)': 0.19553342938890017, 'LightGBM (goss)': 0.4135750340553224, 'XGBoost': 0.8290940539802749, 'AutoGluon': 0.2285381362293895}. Best is trial 8 with value: 0.3660306666666667.\n",
      "[I 2025-06-13 07:23:31,928] Trial 25 finished with value: 0.3645044444444446 and parameters: {'LightGBM (gbdt)': 0.2239654137289844, 'LightGBM (goss)': 0.3698561715317785, 'XGBoost': 0.7457605760964718, 'AutoGluon': 0.43085479534612486}. Best is trial 8 with value: 0.3660306666666667.\n",
      "[I 2025-06-13 07:23:35,290] Trial 26 finished with value: 0.36179066666666676 and parameters: {'LightGBM (gbdt)': 0.31381151511921823, 'LightGBM (goss)': 0.35881620042666124, 'XGBoost': 0.5139872154009325, 'AutoGluon': 0.803481602654863}. Best is trial 8 with value: 0.3660306666666667.\n",
      "[I 2025-06-13 07:23:36,093] Trial 27 finished with value: 0.36171644444444434 and parameters: {'LightGBM (gbdt)': 0.30861141397307346, 'LightGBM (goss)': 0.37034971500326663, 'XGBoost': 0.5211136270002756, 'AutoGluon': 0.8190107705957617}. Best is trial 8 with value: 0.3660306666666667.\n",
      "[I 2025-06-13 07:23:36,756] Trial 29 finished with value: 0.3620868888888889 and parameters: {'LightGBM (gbdt)': 0.2980279168933218, 'LightGBM (goss)': 0.5946286632722746, 'XGBoost': 0.5043675907777048, 'AutoGluon': 0.8095342302990888}. Best is trial 8 with value: 0.3660306666666667.\n",
      "[I 2025-06-13 07:23:37,205] Trial 28 finished with value: 0.363424888888889 and parameters: {'LightGBM (gbdt)': 0.34095237030382464, 'LightGBM (goss)': 0.6103251790004274, 'XGBoost': 0.7193113042779435, 'AutoGluon': 0.7236512635412518}. Best is trial 8 with value: 0.3660306666666667.\n",
      "[I 2025-06-13 07:23:42,574] Trial 30 finished with value: 0.3653673333333333 and parameters: {'LightGBM (gbdt)': 0.10291055126976506, 'LightGBM (goss)': 0.5753610678277581, 'XGBoost': 0.6897324392295623, 'AutoGluon': 0.11274341424710912}. Best is trial 8 with value: 0.3660306666666667.\n",
      "[I 2025-06-13 07:23:42,955] Trial 31 finished with value: 0.3656520000000001 and parameters: {'LightGBM (gbdt)': 0.08578665455061567, 'LightGBM (goss)': 0.5604396326008934, 'XGBoost': 0.9978378980704811, 'AutoGluon': 0.12569785780616707}. Best is trial 8 with value: 0.3660306666666667.\n",
      "[I 2025-06-13 07:23:43,251] Trial 32 finished with value: 0.36544888888888877 and parameters: {'LightGBM (gbdt)': 0.11531218701322454, 'LightGBM (goss)': 0.5806936277140585, 'XGBoost': 0.7277976171901777, 'AutoGluon': 0.10362889986567853}. Best is trial 8 with value: 0.3660306666666667.\n",
      "[I 2025-06-13 07:23:43,749] Trial 33 finished with value: 0.36556688888888883 and parameters: {'LightGBM (gbdt)': 0.5624997266147752, 'LightGBM (goss)': 0.5397949835498566, 'XGBoost': 0.8833828283235743, 'AutoGluon': 0.10958388257039911}. Best is trial 8 with value: 0.3660306666666667.\n",
      "[I 2025-06-13 07:23:48,469] Trial 34 finished with value: 0.3655964444444445 and parameters: {'LightGBM (gbdt)': 0.14164364106423258, 'LightGBM (goss)': 0.5039713399483098, 'XGBoost': 0.8799451145964464, 'AutoGluon': 0.13913766144948284}. Best is trial 8 with value: 0.3660306666666667.\n",
      "[I 2025-06-13 07:23:48,842] Trial 35 finished with value: 0.3653344444444444 and parameters: {'LightGBM (gbdt)': 0.08708427631135579, 'LightGBM (goss)': 0.5344602223803508, 'XGBoost': 0.9955695358141283, 'AutoGluon': 0.2640582549859913}. Best is trial 8 with value: 0.3660306666666667.\n",
      "[I 2025-06-13 07:23:49,528] Trial 36 finished with value: 0.36520222222222215 and parameters: {'LightGBM (gbdt)': 0.07511814560342621, 'LightGBM (goss)': 0.7770073241032801, 'XGBoost': 0.9962775653587848, 'AutoGluon': 0.2348791156010317}. Best is trial 8 with value: 0.3660306666666667.\n",
      "[I 2025-06-13 07:23:49,666] Trial 37 finished with value: 0.36509133333333327 and parameters: {'LightGBM (gbdt)': 0.10043608247722349, 'LightGBM (goss)': 0.7653183745241757, 'XGBoost': 0.9002785607302999, 'AutoGluon': 0.2361722338418514}. Best is trial 8 with value: 0.3660306666666667.\n",
      "[I 2025-06-13 07:23:55,227] Trial 39 finished with value: 0.36508022222222225 and parameters: {'LightGBM (gbdt)': 0.2549697637181375, 'LightGBM (goss)': 0.8154649519781049, 'XGBoost': 0.7912326749230771, 'AutoGluon': 0.17396136721429756}. Best is trial 8 with value: 0.3660306666666667.\n",
      "[I 2025-06-13 07:23:55,421] Trial 40 finished with value: 0.3657962222222223 and parameters: {'LightGBM (gbdt)': 0.2503509404482412, 'LightGBM (goss)': 0.16459693354682803, 'XGBoost': 0.7671783126306242, 'AutoGluon': 0.17520745790725445}. Best is trial 8 with value: 0.3660306666666667.\n",
      "[I 2025-06-13 07:23:55,776] Trial 41 finished with value: 0.3650493333333334 and parameters: {'LightGBM (gbdt)': 0.24556241326442824, 'LightGBM (goss)': 0.0962393178773443, 'XGBoost': 0.7798706303457442, 'AutoGluon': 0.33978919200129654}. Best is trial 8 with value: 0.3660306666666667.\n",
      "[I 2025-06-13 07:23:56,086] Trial 38 finished with value: 0.36500133333333323 and parameters: {'LightGBM (gbdt)': 0.07285471723030598, 'LightGBM (goss)': 0.7824580961525407, 'XGBoost': 0.7786244148109409, 'AutoGluon': 0.19805470595216085}. Best is trial 8 with value: 0.3660306666666667.\n",
      "[I 2025-06-13 07:24:00,716] Trial 42 finished with value: 0.365189111111111 and parameters: {'LightGBM (gbdt)': 0.6599937040169558, 'LightGBM (goss)': 0.1595545855246841, 'XGBoost': 0.4091066418734357, 'AutoGluon': 0.053767140242525296}. Best is trial 8 with value: 0.3660306666666667.\n",
      "[I 2025-06-13 07:24:00,977] Trial 45 finished with value: 0.3658248888888889 and parameters: {'LightGBM (gbdt)': 0.43357185237800694, 'LightGBM (goss)': 0.21024102203577016, 'XGBoost': 0.6524436414652748, 'AutoGluon': 0.08598915454771544}. Best is trial 8 with value: 0.3660306666666667.\n",
      "[I 2025-06-13 07:24:01,579] Trial 43 finished with value: 0.3646377777777777 and parameters: {'LightGBM (gbdt)': 0.4226953364077495, 'LightGBM (goss)': 0.08649394934466581, 'XGBoost': 0.5884291790167859, 'AutoGluon': 0.35694317216776}. Best is trial 8 with value: 0.3660306666666667.\n",
      "[I 2025-06-13 07:24:01,920] Trial 44 finished with value: 0.36596777777777784 and parameters: {'LightGBM (gbdt)': 0.06056624024688195, 'LightGBM (goss)': 0.23408832083306014, 'XGBoost': 0.6188743229065037, 'AutoGluon': 0.045662928651986956}. Best is trial 8 with value: 0.3660306666666667.\n",
      "[I 2025-06-13 07:24:05,398] Trial 46 finished with value: 0.3658011111111109 and parameters: {'LightGBM (gbdt)': 0.16483074048640484, 'LightGBM (goss)': 0.32676739348488104, 'XGBoost': 0.6023116803349369, 'AutoGluon': 0.06437315027752069}. Best is trial 8 with value: 0.3660306666666667.\n",
      "[I 2025-06-13 07:24:06,781] Trial 47 finished with value: 0.36462244444444447 and parameters: {'LightGBM (gbdt)': 0.4254242079265288, 'LightGBM (goss)': 0.22733471266110292, 'XGBoost': 0.5962380479717644, 'AutoGluon': 0.36575005855364706}. Best is trial 8 with value: 0.3660306666666667.\n",
      "[I 2025-06-13 07:24:09,202] Trial 48 finished with value: 0.3658159999999999 and parameters: {'LightGBM (gbdt)': 0.37370601232371303, 'LightGBM (goss)': 0.29722771050881, 'XGBoost': 0.650917862389081, 'AutoGluon': 0.06476324291021732}. Best is trial 8 with value: 0.3660306666666667.\n",
      "[I 2025-06-13 07:24:09,907] Trial 49 finished with value: 0.365853111111111 and parameters: {'LightGBM (gbdt)': 0.37864556486231654, 'LightGBM (goss)': 0.2288412469877258, 'XGBoost': 0.6354385619581251, 'AutoGluon': 0.0665818243125134}. Best is trial 8 with value: 0.3660306666666667.\n",
      "[I 2025-06-13 07:24:10,644] Trial 50 finished with value: 0.36576355555555573 and parameters: {'LightGBM (gbdt)': 0.4964392211264013, 'LightGBM (goss)': 0.2112040296399026, 'XGBoost': 0.5848886214021122, 'AutoGluon': 0.04212295017598493}. Best is trial 8 with value: 0.3660306666666667.\n",
      "[I 2025-06-13 07:24:11,087] Trial 51 finished with value: 0.3655484444444444 and parameters: {'LightGBM (gbdt)': 0.7126260211855004, 'LightGBM (goss)': 0.2811648280041474, 'XGBoost': 0.6666495430966534, 'AutoGluon': 0.06205294825509489}. Best is trial 8 with value: 0.3660306666666667.\n",
      "[I 2025-06-13 07:24:15,409] Trial 53 finished with value: 0.36540533333333336 and parameters: {'LightGBM (gbdt)': 0.5093819447580861, 'LightGBM (goss)': 0.22476049561814715, 'XGBoost': 0.4351286742482195, 'AutoGluon': 0.04954640930497055}. Best is trial 8 with value: 0.3660306666666667.\n",
      "[I 2025-06-13 07:24:16,084] Trial 52 finished with value: 0.3656715555555555 and parameters: {'LightGBM (gbdt)': 0.5000475880295809, 'LightGBM (goss)': 0.28444171119799216, 'XGBoost': 0.6398734984454896, 'AutoGluon': 0.06456287537445127}. Best is trial 8 with value: 0.3660306666666667.\n",
      "[I 2025-06-13 07:24:16,681] Trial 54 finished with value: 0.3658575555555557 and parameters: {'LightGBM (gbdt)': 0.37283737038633474, 'LightGBM (goss)': 0.2785060922380525, 'XGBoost': 0.6521476256494507, 'AutoGluon': 0.07178935653020406}. Best is trial 8 with value: 0.3660306666666667.\n",
      "[I 2025-06-13 07:24:17,286] Trial 55 finished with value: 0.36539511111111106 and parameters: {'LightGBM (gbdt)': 0.35855024535330926, 'LightGBM (goss)': 0.3200657680147344, 'XGBoost': 0.45614609074361795, 'AutoGluon': 0.0678988691294207}. Best is trial 8 with value: 0.3660306666666667.\n",
      "[I 2025-06-13 07:24:21,662] Trial 58 finished with value: 0.366120888888889 and parameters: {'LightGBM (gbdt)': 0.38113272195844766, 'LightGBM (goss)': 0.04958480392109821, 'XGBoost': 0.548742863270229, 'AutoGluon': 0.0024080604222796315}. Best is trial 58 with value: 0.366120888888889.\n",
      "[I 2025-06-13 07:24:21,742] Trial 57 finished with value: 0.3657153333333333 and parameters: {'LightGBM (gbdt)': 0.38947860305884885, 'LightGBM (goss)': 0.3281332206058434, 'XGBoost': 0.55520744715724, 'AutoGluon': 0.0008113667048625789}. Best is trial 58 with value: 0.366120888888889.\n",
      "[I 2025-06-13 07:24:21,955] Trial 56 finished with value: 0.36546599999999985 and parameters: {'LightGBM (gbdt)': 0.37139984897903694, 'LightGBM (goss)': 0.33400839211408384, 'XGBoost': 0.5448663204708938, 'AutoGluon': 0.0856993994309775}. Best is trial 58 with value: 0.366120888888889.\n",
      "[I 2025-06-13 07:24:26,243] Trial 59 finished with value: 0.36599022222222233 and parameters: {'LightGBM (gbdt)': 0.3997771570207179, 'LightGBM (goss)': 0.09912443668374887, 'XGBoost': 0.5497519984819883, 'AutoGluon': 0.011684015099473116}. Best is trial 58 with value: 0.366120888888889.\n",
      "[I 2025-06-13 07:24:26,674] Trial 61 finished with value: 0.36567355555555553 and parameters: {'LightGBM (gbdt)': 0.45504497737694594, 'LightGBM (goss)': 0.11924591357236147, 'XGBoost': 0.5425580945010541, 'AutoGluon': 0.09727327547864946}. Best is trial 58 with value: 0.366120888888889.\n",
      "[I 2025-06-13 07:24:26,874] Trial 60 finished with value: 0.36333844444444435 and parameters: {'LightGBM (gbdt)': 0.46777121296712004, 'LightGBM (goss)': 0.040384270342367634, 'XGBoost': 0.5421464356494743, 'AutoGluon': 0.5569951770546743}. Best is trial 58 with value: 0.366120888888889.\n",
      "[I 2025-06-13 07:24:27,668] Trial 62 finished with value: 0.3641311111111112 and parameters: {'LightGBM (gbdt)': 0.46579976940525586, 'LightGBM (goss)': 0.04190941645756944, 'XGBoost': 0.336386182154527, 'AutoGluon': 0.2875555331575378}. Best is trial 58 with value: 0.366120888888889.\n",
      "[I 2025-06-13 07:24:31,697] Trial 64 finished with value: 0.36583866666666676 and parameters: {'LightGBM (gbdt)': 0.45529528501333943, 'LightGBM (goss)': 0.057994722615649336, 'XGBoost': 0.48037394678748135, 'AutoGluon': 0.024210644287414356}. Best is trial 58 with value: 0.366120888888889.\n",
      "[I 2025-06-13 07:24:32,143] Trial 65 finished with value: 0.36520177777777785 and parameters: {'LightGBM (gbdt)': 0.5510373632188461, 'LightGBM (goss)': 0.05494139867912362, 'XGBoost': 0.32722958506003136, 'AutoGluon': 0.01953863728937422}. Best is trial 58 with value: 0.366120888888889.\n",
      "[I 2025-06-13 07:24:32,831] Trial 63 finished with value: 0.36519711111111125 and parameters: {'LightGBM (gbdt)': 0.543034350340861, 'LightGBM (goss)': 0.04734061393019532, 'XGBoost': 0.3213632955867125, 'AutoGluon': 0.02171186176809535}. Best is trial 58 with value: 0.366120888888889.\n",
      "[I 2025-06-13 07:24:34,210] Trial 66 finished with value: 0.36550822222222235 and parameters: {'LightGBM (gbdt)': 0.2772232383558296, 'LightGBM (goss)': 0.19645644299441306, 'XGBoost': 0.3262339323229376, 'AutoGluon': 0.02338933054106175}. Best is trial 58 with value: 0.366120888888889.\n",
      "[I 2025-06-13 07:24:38,512] Trial 67 finished with value: 0.3652413333333334 and parameters: {'LightGBM (gbdt)': 0.5523748542564758, 'LightGBM (goss)': 0.029762173362034905, 'XGBoost': 0.32772919603775175, 'AutoGluon': 0.026996272563324798}. Best is trial 58 with value: 0.366120888888889.\n",
      "[I 2025-06-13 07:24:38,934] Trial 69 finished with value: 0.36538177777777775 and parameters: {'LightGBM (gbdt)': 0.9933592138955416, 'LightGBM (goss)': 0.0034509212473199796, 'XGBoost': 0.685887480003322, 'AutoGluon': 0.15822044066675506}. Best is trial 58 with value: 0.366120888888889.\n",
      "[I 2025-06-13 07:24:39,162] Trial 68 finished with value: 0.36594311111111116 and parameters: {'LightGBM (gbdt)': 0.2740730847812521, 'LightGBM (goss)': 0.13131790759871892, 'XGBoost': 0.45887798928536944, 'AutoGluon': 0.02604773780351793}. Best is trial 58 with value: 0.366120888888889.\n",
      "[I 2025-06-13 07:24:41,907] Trial 70 finished with value: 0.36528511111111106 and parameters: {'LightGBM (gbdt)': 0.3985158637889852, 'LightGBM (goss)': 0.0008247413577058826, 'XGBoost': 0.4821345440624092, 'AutoGluon': 0.17938054313907154}. Best is trial 58 with value: 0.366120888888889.\n",
      "[I 2025-06-13 07:24:43,300] Trial 71 finished with value: 0.36586111111111125 and parameters: {'LightGBM (gbdt)': 0.39709346271146656, 'LightGBM (goss)': 0.2570830120515782, 'XGBoost': 0.6264870435751135, 'AutoGluon': 0.000640184706826849}. Best is trial 58 with value: 0.366120888888889.\n",
      "[I 2025-06-13 07:24:43,545] Trial 72 finished with value: 0.3652355555555554 and parameters: {'LightGBM (gbdt)': 0.39787506335094547, 'LightGBM (goss)': 0.2531676398674886, 'XGBoost': 0.4524517162041811, 'AutoGluon': 0.12723234691682583}. Best is trial 58 with value: 0.366120888888889.\n",
      "[I 2025-06-13 07:24:44,213] Trial 73 finished with value: 0.3655102222222222 and parameters: {'LightGBM (gbdt)': 0.3375926527304628, 'LightGBM (goss)': 0.1328163055079673, 'XGBoost': 0.4809615418310813, 'AutoGluon': 0.12813419843247453}. Best is trial 58 with value: 0.366120888888889.\n",
      "[I 2025-06-13 07:24:48,177] Trial 74 finished with value: 0.3658424444444444 and parameters: {'LightGBM (gbdt)': 0.28784639241097354, 'LightGBM (goss)': 0.2537382154429517, 'XGBoost': 0.4721829909267365, 'AutoGluon': 4.362004211301562e-05}. Best is trial 58 with value: 0.366120888888889.\n",
      "[I 2025-06-13 07:24:49,090] Trial 76 finished with value: 0.3659686666666667 and parameters: {'LightGBM (gbdt)': 0.33939540569486015, 'LightGBM (goss)': 0.2539567889829665, 'XGBoost': 0.6223633875137954, 'AutoGluon': 0.004827248386671922}. Best is trial 58 with value: 0.366120888888889.\n",
      "[I 2025-06-13 07:24:49,351] Trial 75 finished with value: 0.3657868888888888 and parameters: {'LightGBM (gbdt)': 0.35004215600838556, 'LightGBM (goss)': 0.14627293997280988, 'XGBoost': 0.6243713684947592, 'AutoGluon': 0.1261098861538229}. Best is trial 58 with value: 0.366120888888889.\n",
      "[I 2025-06-13 07:24:51,163] Trial 77 finished with value: 0.3660475555555559 and parameters: {'LightGBM (gbdt)': 0.2894712616659384, 'LightGBM (goss)': 0.18007702862591124, 'XGBoost': 0.6282697000094034, 'AutoGluon': 0.0050914447916300815}. Best is trial 58 with value: 0.366120888888889.\n",
      "[I 2025-06-13 07:24:53,818] Trial 78 finished with value: 0.36595 and parameters: {'LightGBM (gbdt)': 0.05458848637560891, 'LightGBM (goss)': 0.16858924087758936, 'XGBoost': 0.7428156386479604, 'AutoGluon': 0.0883246294525266}. Best is trial 58 with value: 0.366120888888889.\n",
      "[I 2025-06-13 07:24:53,825] Trial 79 finished with value: 0.36576777777777775 and parameters: {'LightGBM (gbdt)': 0.04726962703578766, 'LightGBM (goss)': 0.18702326508735356, 'XGBoost': 0.5698695040015938, 'AutoGluon': 0.09990624674545663}. Best is trial 58 with value: 0.366120888888889.\n",
      "[I 2025-06-13 07:24:55,736] Trial 80 finished with value: 0.3616086666666666 and parameters: {'LightGBM (gbdt)': 0.20512106668299698, 'LightGBM (goss)': 0.08627841642438527, 'XGBoost': 0.5658135657565851, 'AutoGluon': 0.6694235214502408}. Best is trial 58 with value: 0.366120888888889.\n",
      "[I 2025-06-13 07:24:58,588] Trial 81 finished with value: 0.3660293333333333 and parameters: {'LightGBM (gbdt)': 0.04433080319018126, 'LightGBM (goss)': 0.18460742291822863, 'XGBoost': 0.6979993836069418, 'AutoGluon': 0.03781626591181314}. Best is trial 58 with value: 0.366120888888889.\n",
      "[I 2025-06-13 07:24:59,752] Trial 82 finished with value: 0.3655213333333333 and parameters: {'LightGBM (gbdt)': 0.13788474739855608, 'LightGBM (goss)': 0.11289391813806114, 'XGBoost': 0.7433386269862088, 'AutoGluon': 0.21157773910206626}. Best is trial 58 with value: 0.366120888888889.\n",
      "[I 2025-06-13 07:24:59,753] Trial 83 finished with value: 0.3653853333333332 and parameters: {'LightGBM (gbdt)': 0.040126037454590285, 'LightGBM (goss)': 0.10595138597944052, 'XGBoost': 0.7322341469038287, 'AutoGluon': 0.2088639652110581}. Best is trial 58 with value: 0.366120888888889.\n",
      "[I 2025-06-13 07:25:02,007] Trial 84 finished with value: 0.3659997777777776 and parameters: {'LightGBM (gbdt)': 0.04010798325416861, 'LightGBM (goss)': 0.11044466804352175, 'XGBoost': 0.6972364866837397, 'AutoGluon': 0.029729887717468543}. Best is trial 58 with value: 0.366120888888889.\n",
      "[I 2025-06-13 07:25:04,116] Trial 87 finished with value: 0.36604999999999993 and parameters: {'LightGBM (gbdt)': 0.06387546385937992, 'LightGBM (goss)': 0.17383980093240228, 'XGBoost': 0.7055988533981651, 'AutoGluon': 0.03607073638977198}. Best is trial 58 with value: 0.366120888888889.\n",
      "[I 2025-06-13 07:25:04,408] Trial 85 finished with value: 0.36599155555555557 and parameters: {'LightGBM (gbdt)': 0.0415382252062918, 'LightGBM (goss)': 0.11798200472842237, 'XGBoost': 0.7460474991841668, 'AutoGluon': 0.03775563472518914}. Best is trial 58 with value: 0.366120888888889.\n",
      "[I 2025-06-13 07:25:04,733] Trial 86 finished with value: 0.36614088888888874 and parameters: {'LightGBM (gbdt)': 0.12543095741348126, 'LightGBM (goss)': 0.17413614321122595, 'XGBoost': 0.7004657601431973, 'AutoGluon': 0.0440346272601964}. Best is trial 86 with value: 0.36614088888888874.\n",
      "[I 2025-06-13 07:25:09,924] Trial 90 finished with value: 0.3658679999999999 and parameters: {'LightGBM (gbdt)': 0.014630964134698776, 'LightGBM (goss)': 0.06995516350095785, 'XGBoost': 0.6832765681669307, 'AutoGluon': 0.03792123522218628}. Best is trial 86 with value: 0.36614088888888874.\n",
      "[I 2025-06-13 07:25:10,130] Trial 91 finished with value: 0.35926955555555556 and parameters: {'LightGBM (gbdt)': 0.1243210855456116, 'LightGBM (goss)': 0.07535809284132787, 'XGBoost': 0.6958908777796694, 'AutoGluon': 0.9861722715330408}. Best is trial 86 with value: 0.36614088888888874.\n",
      "[I 2025-06-13 07:25:10,446] Trial 88 finished with value: 0.36599822222222217 and parameters: {'LightGBM (gbdt)': 0.054167704959449184, 'LightGBM (goss)': 0.17731327396919608, 'XGBoost': 0.6985363885470472, 'AutoGluon': 0.047863311913947146}. Best is trial 86 with value: 0.36614088888888874.\n",
      "[I 2025-06-13 07:25:10,572] Trial 89 finished with value: 0.36581844444444445 and parameters: {'LightGBM (gbdt)': 0.0013733081539629433, 'LightGBM (goss)': 0.17807232703758827, 'XGBoost': 0.703356064210866, 'AutoGluon': 0.041489509877787635}. Best is trial 86 with value: 0.36614088888888874.\n",
      "[I 2025-06-13 07:25:16,197] Trial 94 finished with value: 0.3657906666666668 and parameters: {'LightGBM (gbdt)': 0.030902366092844337, 'LightGBM (goss)': 0.15536972342566874, 'XGBoost': 0.8092986101527166, 'AutoGluon': 0.10524311819901983}. Best is trial 86 with value: 0.36614088888888874.\n",
      "[I 2025-06-13 07:25:16,927] Trial 93 finished with value: 0.36594555555555563 and parameters: {'LightGBM (gbdt)': 0.03294917592878026, 'LightGBM (goss)': 0.184884749298944, 'XGBoost': 0.8056760158798161, 'AutoGluon': 0.043379355763701936}. Best is trial 86 with value: 0.36614088888888874.\n",
      "[I 2025-06-13 07:25:16,992] Trial 92 finished with value: 0.3604173333333335 and parameters: {'LightGBM (gbdt)': 0.13626448140894667, 'LightGBM (goss)': 0.18158572705998377, 'XGBoost': 0.707166109842041, 'AutoGluon': 0.9628070619090442}. Best is trial 86 with value: 0.36614088888888874.\n",
      "[I 2025-06-13 07:25:17,210] Trial 95 finished with value: 0.3658064444444445 and parameters: {'LightGBM (gbdt)': 0.026176637296323635, 'LightGBM (goss)': 0.14554579978606066, 'XGBoost': 0.8096306261764695, 'AutoGluon': 0.105382456915867}. Best is trial 86 with value: 0.36614088888888874.\n",
      "[I 2025-06-13 07:25:23,257] Trial 98 finished with value: 0.36579466666666666 and parameters: {'LightGBM (gbdt)': 0.09143544573277415, 'LightGBM (goss)': 0.1452092657195297, 'XGBoost': 0.7650504520604399, 'AutoGluon': 0.15345304238305607}. Best is trial 86 with value: 0.36614088888888874.\n",
      "[I 2025-06-13 07:25:23,845] Trial 99 finished with value: 0.3660955555555555 and parameters: {'LightGBM (gbdt)': 0.10476295080008072, 'LightGBM (goss)': 0.1009687931821623, 'XGBoost': 0.8519099040619355, 'AutoGluon': 0.08137201112613782}. Best is trial 86 with value: 0.36614088888888874.\n",
      "[I 2025-06-13 07:25:23,918] Trial 96 finished with value: 0.36575622222222226 and parameters: {'LightGBM (gbdt)': 0.11002802554560703, 'LightGBM (goss)': 0.19618171542458201, 'XGBoost': 0.7116647856650757, 'AutoGluon': 0.15689207161351765}. Best is trial 86 with value: 0.36614088888888874.\n",
      "[I 2025-06-13 07:25:24,084] Trial 97 finished with value: 0.3657948888888888 and parameters: {'LightGBM (gbdt)': 0.10043959305296454, 'LightGBM (goss)': 0.1327170784502114, 'XGBoost': 0.7627350985203317, 'AutoGluon': 0.15606951523806228}. Best is trial 86 with value: 0.36614088888888874.\n",
      "[I 2025-06-13 07:25:29,368] Trial 102 finished with value: 0.36599822222222234 and parameters: {'LightGBM (gbdt)': 0.06795551125608959, 'LightGBM (goss)': 0.11482271664628474, 'XGBoost': 0.8615756861748082, 'AutoGluon': 0.08114244877187507}. Best is trial 86 with value: 0.36614088888888874.\n",
      "[I 2025-06-13 07:25:29,456] Trial 100 finished with value: 0.3662264444444445 and parameters: {'LightGBM (gbdt)': 0.18133964003361672, 'LightGBM (goss)': 0.10635868130857955, 'XGBoost': 0.8495566377408171, 'AutoGluon': 0.06980185240235871}. Best is trial 100 with value: 0.3662264444444445.\n",
      "[I 2025-06-13 07:25:29,627] Trial 101 finished with value: 0.366218 and parameters: {'LightGBM (gbdt)': 0.179860472980595, 'LightGBM (goss)': 0.116860130232004, 'XGBoost': 0.8474039715440728, 'AutoGluon': 0.07779637099181969}. Best is trial 100 with value: 0.3662264444444445.\n",
      "[I 2025-06-13 07:25:29,976] Trial 103 finished with value: 0.36613955555555544 and parameters: {'LightGBM (gbdt)': 0.16329750824165126, 'LightGBM (goss)': 0.21013527388247322, 'XGBoost': 0.9291610413832474, 'AutoGluon': 0.07806121848458941}. Best is trial 100 with value: 0.3662264444444445.\n",
      "[I 2025-06-13 07:25:35,184] Trial 104 finished with value: 0.3658102222222221 and parameters: {'LightGBM (gbdt)': 0.07430396147664188, 'LightGBM (goss)': 0.026903174545419517, 'XGBoost': 0.8497261849256763, 'AutoGluon': 0.0851695538780365}. Best is trial 100 with value: 0.3662264444444445.\n",
      "[I 2025-06-13 07:25:35,739] Trial 106 finished with value: 0.3662631111111111 and parameters: {'LightGBM (gbdt)': 0.18350977915666775, 'LightGBM (goss)': 0.07235456595381537, 'XGBoost': 0.8495217488191333, 'AutoGluon': 0.07735839672268426}. Best is trial 106 with value: 0.3662631111111111.\n",
      "[I 2025-06-13 07:25:36,397] Trial 107 finished with value: 0.3660666666666666 and parameters: {'LightGBM (gbdt)': 0.18086020632705624, 'LightGBM (goss)': 0.02416283057828117, 'XGBoost': 0.9570600254302892, 'AutoGluon': 0.07880526987748528}. Best is trial 106 with value: 0.3662631111111111.\n",
      "[I 2025-06-13 07:25:36,546] Trial 105 finished with value: 0.3660715555555555 and parameters: {'LightGBM (gbdt)': 0.18128529548852645, 'LightGBM (goss)': 0.024658840194365858, 'XGBoost': 0.9199608546804275, 'AutoGluon': 0.0728169102218984}. Best is trial 106 with value: 0.3662631111111111.\n",
      "[I 2025-06-13 07:25:42,302] Trial 108 finished with value: 0.3661342222222221 and parameters: {'LightGBM (gbdt)': 0.18206567920485706, 'LightGBM (goss)': 0.07158582241037384, 'XGBoost': 0.9379984020374752, 'AutoGluon': 0.11573039160599355}. Best is trial 106 with value: 0.3662631111111111.\n",
      "[I 2025-06-13 07:25:42,560] Trial 110 finished with value: 0.36607222222222224 and parameters: {'LightGBM (gbdt)': 0.1797560039808313, 'LightGBM (goss)': 0.018684821758016668, 'XGBoost': 0.9162230481363567, 'AutoGluon': 0.0764014969544435}. Best is trial 106 with value: 0.3662631111111111.\n",
      "[I 2025-06-13 07:25:42,811] Trial 109 finished with value: 0.362148888888889 and parameters: {'LightGBM (gbdt)': 0.18003860912214603, 'LightGBM (goss)': 0.21296577947841044, 'XGBoost': 0.9112378074079546, 'AutoGluon': 0.9114495637117647}. Best is trial 106 with value: 0.3662631111111111.\n",
      "[I 2025-06-13 07:25:43,125] Trial 111 finished with value: 0.3660213333333334 and parameters: {'LightGBM (gbdt)': 0.1884009190406395, 'LightGBM (goss)': 0.019796901272461268, 'XGBoost': 0.9528463636083413, 'AutoGluon': 0.1266728223022308}. Best is trial 106 with value: 0.3662631111111111.\n",
      "[I 2025-06-13 07:25:47,799] Trial 113 finished with value: 0.3661335555555556 and parameters: {'LightGBM (gbdt)': 0.18819695790635313, 'LightGBM (goss)': 0.06446386779541417, 'XGBoost': 0.9329570919017163, 'AutoGluon': 0.11855231851710943}. Best is trial 106 with value: 0.3662631111111111.\n",
      "[I 2025-06-13 07:25:48,262] Trial 112 finished with value: 0.365997111111111 and parameters: {'LightGBM (gbdt)': 0.22080759890031262, 'LightGBM (goss)': 0.0258423173563882, 'XGBoost': 0.9361815452935, 'AutoGluon': 0.17365585106755246}. Best is trial 106 with value: 0.3662631111111111.\n",
      "[I 2025-06-13 07:25:48,464] Trial 114 finished with value: 0.36610399999999993 and parameters: {'LightGBM (gbdt)': 0.21318034655153964, 'LightGBM (goss)': 0.02326669573991709, 'XGBoost': 0.9380353898544124, 'AutoGluon': 0.11020198185359799}. Best is trial 106 with value: 0.3662631111111111.\n",
      "[I 2025-06-13 07:25:48,879] Trial 115 finished with value: 0.3661524444444444 and parameters: {'LightGBM (gbdt)': 0.2141507659752699, 'LightGBM (goss)': 0.027047542618632056, 'XGBoost': 0.9425426002584645, 'AutoGluon': 0.07195727252486718}. Best is trial 106 with value: 0.3662631111111111.\n",
      "[I 2025-06-13 07:25:54,494] Trial 116 finished with value: 0.3662202222222221 and parameters: {'LightGBM (gbdt)': 0.23775477486451618, 'LightGBM (goss)': 0.06387606718205703, 'XGBoost': 0.9311650681540112, 'AutoGluon': 0.11127519025704828}. Best is trial 106 with value: 0.3662631111111111.\n",
      "[I 2025-06-13 07:25:54,784] Trial 117 finished with value: 0.36608777777777773 and parameters: {'LightGBM (gbdt)': 0.15242382094007023, 'LightGBM (goss)': 0.06716524499838711, 'XGBoost': 0.8942604227498115, 'AutoGluon': 0.11206380047750267}. Best is trial 106 with value: 0.3662631111111111.\n",
      "[I 2025-06-13 07:25:55,318] Trial 118 finished with value: 0.3661226666666668 and parameters: {'LightGBM (gbdt)': 0.15864573200948362, 'LightGBM (goss)': 0.0695835309864055, 'XGBoost': 0.891198263224642, 'AutoGluon': 0.10579408101298787}. Best is trial 106 with value: 0.3662631111111111.\n",
      "[I 2025-06-13 07:25:55,589] Trial 119 finished with value: 0.3660742222222221 and parameters: {'LightGBM (gbdt)': 0.16033482092769258, 'LightGBM (goss)': 0.06752625462939135, 'XGBoost': 0.8791422404579645, 'AutoGluon': 0.12357221835589302}. Best is trial 106 with value: 0.3662631111111111.\n",
      "[I 2025-06-13 07:26:00,453] Trial 120 finished with value: 0.3660744444444445 and parameters: {'LightGBM (gbdt)': 0.1616422749330086, 'LightGBM (goss)': 0.06575421947405685, 'XGBoost': 0.8892902485183596, 'AutoGluon': 0.11631653902607003}. Best is trial 106 with value: 0.3662631111111111.\n",
      "[I 2025-06-13 07:26:01,001] Trial 122 finished with value: 0.3661144444444445 and parameters: {'LightGBM (gbdt)': 0.21120706868644223, 'LightGBM (goss)': 0.08217797673962512, 'XGBoost': 0.886570285200032, 'AutoGluon': 0.13551665754383913}. Best is trial 106 with value: 0.3662631111111111.\n",
      "[I 2025-06-13 07:26:01,585] Trial 121 finished with value: 0.36611244444444435 and parameters: {'LightGBM (gbdt)': 0.2215042795609835, 'LightGBM (goss)': 0.08033889663153049, 'XGBoost': 0.8705098447209518, 'AutoGluon': 0.13863152208340523}. Best is trial 106 with value: 0.3662631111111111.\n",
      "[I 2025-06-13 07:26:01,973] Trial 123 finished with value: 0.3660908888888889 and parameters: {'LightGBM (gbdt)': 0.22940007321582098, 'LightGBM (goss)': 0.08495170333256685, 'XGBoost': 0.9806882636864573, 'AutoGluon': 0.14737199595060863}. Best is trial 106 with value: 0.3662631111111111.\n",
      "[I 2025-06-13 07:26:07,259] Trial 124 finished with value: 0.36587533333333316 and parameters: {'LightGBM (gbdt)': 0.22043057759720372, 'LightGBM (goss)': 0.043419244620851526, 'XGBoost': 0.9366637480172184, 'AutoGluon': 0.18860425396724928}. Best is trial 106 with value: 0.3662631111111111.\n",
      "[I 2025-06-13 07:26:07,737] Trial 125 finished with value: 0.3660784444444445 and parameters: {'LightGBM (gbdt)': 0.21288157338989183, 'LightGBM (goss)': 0.05166207468769893, 'XGBoost': 0.9379286301732361, 'AutoGluon': 0.14394670143687915}. Best is trial 106 with value: 0.3662631111111111.\n",
      "[I 2025-06-13 07:26:07,845] Trial 127 finished with value: 0.36596111111111107 and parameters: {'LightGBM (gbdt)': 0.25364104317546876, 'LightGBM (goss)': 0.052414208062367115, 'XGBoost': 0.8338486683020543, 'AutoGluon': 0.174574780601273}. Best is trial 106 with value: 0.3662631111111111.\n",
      "[I 2025-06-13 07:26:08,154] Trial 126 finished with value: 0.36599533333333323 and parameters: {'LightGBM (gbdt)': 0.2384364125127934, 'LightGBM (goss)': 0.08671283276698664, 'XGBoost': 0.9351788670803579, 'AutoGluon': 0.18541316703671604}. Best is trial 106 with value: 0.3662631111111111.\n",
      "[I 2025-06-13 07:26:13,264] Trial 129 finished with value: 0.3662344444444444 and parameters: {'LightGBM (gbdt)': 0.25287721120175943, 'LightGBM (goss)': 0.08594520903885784, 'XGBoost': 0.8396679296014046, 'AutoGluon': 0.05877557583929807}. Best is trial 106 with value: 0.3662631111111111.\n",
      "[I 2025-06-13 07:26:13,942] Trial 128 finished with value: 0.3655295555555556 and parameters: {'LightGBM (gbdt)': 0.2542334368130937, 'LightGBM (goss)': 0.05461212072767241, 'XGBoost': 0.8291798731815634, 'AutoGluon': 0.25635237130561195}. Best is trial 106 with value: 0.3662631111111111.\n",
      "[I 2025-06-13 07:26:14,027] Trial 131 finished with value: 0.3660991111111111 and parameters: {'LightGBM (gbdt)': 0.3128847675962154, 'LightGBM (goss)': 0.0896355407880186, 'XGBoost': 0.8657594242313813, 'AutoGluon': 0.13801882914999553}. Best is trial 106 with value: 0.3662631111111111.\n",
      "[I 2025-06-13 07:26:14,144] Trial 130 finished with value: 0.3662284444444444 and parameters: {'LightGBM (gbdt)': 0.2411734696861308, 'LightGBM (goss)': 0.08784147236859349, 'XGBoost': 0.980634987462472, 'AutoGluon': 0.09608408271325056}. Best is trial 106 with value: 0.3662631111111111.\n",
      "[I 2025-06-13 07:26:20,105] Trial 132 finished with value: 0.3651331111111112 and parameters: {'LightGBM (gbdt)': 0.3138395237945215, 'LightGBM (goss)': 0.09379739637949558, 'XGBoost': 0.9745866819290723, 'AutoGluon': 0.39613330023512217}. Best is trial 106 with value: 0.3662631111111111.\n",
      "[I 2025-06-13 07:26:20,494] Trial 133 finished with value: 0.36623400000000006 and parameters: {'LightGBM (gbdt)': 0.2010308312702154, 'LightGBM (goss)': 0.12632713684954286, 'XGBoost': 0.9714032476240043, 'AutoGluon': 0.06032698816061745}. Best is trial 106 with value: 0.3662631111111111.\n",
      "[I 2025-06-13 07:26:20,861] Trial 134 finished with value: 0.36624977777777784 and parameters: {'LightGBM (gbdt)': 0.19516558273708465, 'LightGBM (goss)': 0.128617686692698, 'XGBoost': 0.9790240927732647, 'AutoGluon': 0.09762362267213852}. Best is trial 106 with value: 0.3662631111111111.\n",
      "[I 2025-06-13 07:26:21,018] Trial 135 finished with value: 0.366238 and parameters: {'LightGBM (gbdt)': 0.19641748226927525, 'LightGBM (goss)': 0.12498320158583286, 'XGBoost': 0.9923959861997178, 'AutoGluon': 0.057831511037062924}. Best is trial 106 with value: 0.3662631111111111.\n",
      "[I 2025-06-13 07:26:25,995] Trial 139 finished with value: 0.36623222222222235 and parameters: {'LightGBM (gbdt)': 0.19521074125529564, 'LightGBM (goss)': 0.12942248839914874, 'XGBoost': 0.9899752269353879, 'AutoGluon': 0.060671036798584876}. Best is trial 106 with value: 0.3662631111111111.\n",
      "[I 2025-06-13 07:26:26,434] Trial 138 finished with value: 0.36624911111111114 and parameters: {'LightGBM (gbdt)': 0.26918387231437657, 'LightGBM (goss)': 0.12956321493555256, 'XGBoost': 0.9755782397242063, 'AutoGluon': 0.0952642564916005}. Best is trial 106 with value: 0.3662631111111111.\n",
      "[I 2025-06-13 07:26:26,767] Trial 136 finished with value: 0.3662262222222221 and parameters: {'LightGBM (gbdt)': 0.19772811197881457, 'LightGBM (goss)': 0.13467785842389715, 'XGBoost': 0.9967065914185192, 'AutoGluon': 0.05689486345880701}. Best is trial 106 with value: 0.3662631111111111.\n",
      "[I 2025-06-13 07:26:27,064] Trial 137 finished with value: 0.3662217777777776 and parameters: {'LightGBM (gbdt)': 0.269841209272338, 'LightGBM (goss)': 0.12464100907029602, 'XGBoost': 0.994937440087919, 'AutoGluon': 0.059771575317517325}. Best is trial 106 with value: 0.3662631111111111.\n",
      "[I 2025-06-13 07:26:31,740] Trial 140 finished with value: 0.36623199999999995 and parameters: {'LightGBM (gbdt)': 0.27372222732278007, 'LightGBM (goss)': 0.13107979623038923, 'XGBoost': 0.9931919871710839, 'AutoGluon': 0.05910233210203446}. Best is trial 106 with value: 0.3662631111111111.\n",
      "[I 2025-06-13 07:26:32,285] Trial 141 finished with value: 0.36622755555555575 and parameters: {'LightGBM (gbdt)': 0.2708728044900831, 'LightGBM (goss)': 0.13985964921696425, 'XGBoost': 0.9981798523619954, 'AutoGluon': 0.05871187461168935}. Best is trial 106 with value: 0.3662631111111111.\n",
      "[I 2025-06-13 07:26:32,968] Trial 142 finished with value: 0.36621622222222217 and parameters: {'LightGBM (gbdt)': 0.2694139501837866, 'LightGBM (goss)': 0.13049780508215386, 'XGBoost': 0.9970065040169523, 'AutoGluon': 0.05764928782532402}. Best is trial 106 with value: 0.3662631111111111.\n",
      "[I 2025-06-13 07:26:33,040] Trial 143 finished with value: 0.3662237777777778 and parameters: {'LightGBM (gbdt)': 0.26700655694468406, 'LightGBM (goss)': 0.12937850567072062, 'XGBoost': 0.9841441752015051, 'AutoGluon': 0.05922936321574133}. Best is trial 106 with value: 0.3662631111111111.\n",
      "[I 2025-06-13 07:26:36,573] Trial 144 finished with value: 0.36625422222222226 and parameters: {'LightGBM (gbdt)': 0.2691871336365025, 'LightGBM (goss)': 0.1289395163614505, 'XGBoost': 0.9917397597650128, 'AutoGluon': 0.06789216528320519}. Best is trial 106 with value: 0.3662631111111111.\n",
      "[I 2025-06-13 07:26:37,154] Trial 145 finished with value: 0.36620777777777774 and parameters: {'LightGBM (gbdt)': 0.26935178305463275, 'LightGBM (goss)': 0.1266040322171501, 'XGBoost': 0.9986912414790321, 'AutoGluon': 0.0584435096211876}. Best is trial 106 with value: 0.3662631111111111.\n",
      "[I 2025-06-13 07:26:41,020] Trial 146 finished with value: 0.3662371111111112 and parameters: {'LightGBM (gbdt)': 0.26386249665070616, 'LightGBM (goss)': 0.1500932507510287, 'XGBoost': 0.97687342980757, 'AutoGluon': 0.053133795410250824}. Best is trial 106 with value: 0.3662631111111111.\n",
      "[I 2025-06-13 07:26:41,095] Trial 147 finished with value: 0.3662204444444444 and parameters: {'LightGBM (gbdt)': 0.262007630750959, 'LightGBM (goss)': 0.15210684646726202, 'XGBoost': 0.975814196191298, 'AutoGluon': 0.06174856830763069}. Best is trial 106 with value: 0.3662631111111111.\n",
      "[I 2025-06-13 07:26:42,586] Trial 148 finished with value: 0.36621622222222217 and parameters: {'LightGBM (gbdt)': 0.28762281221464536, 'LightGBM (goss)': 0.14769148294395246, 'XGBoost': 0.976954400406898, 'AutoGluon': 0.055687242296808534}. Best is trial 106 with value: 0.3662631111111111.\n",
      "[I 2025-06-13 07:26:42,816] Trial 149 finished with value: 0.3662137777777777 and parameters: {'LightGBM (gbdt)': 0.2861159317342057, 'LightGBM (goss)': 0.15039221461643315, 'XGBoost': 0.9721086316838501, 'AutoGluon': 0.05601030059147421}. Best is trial 106 with value: 0.3662631111111111.\n",
      "[I 2025-06-13 07:26:48,063] Trial 150 finished with value: 0.36473311111111134 and parameters: {'LightGBM (gbdt)': 0.2920320527703011, 'LightGBM (goss)': 0.1477319377115305, 'XGBoost': 0.9653822802111891, 'AutoGluon': 0.47681960438129145}. Best is trial 106 with value: 0.3662631111111111.\n",
      "[I 2025-06-13 07:26:48,222] Trial 152 finished with value: 0.36621666666666675 and parameters: {'LightGBM (gbdt)': 0.2980283271375442, 'LightGBM (goss)': 0.15110767745622977, 'XGBoost': 0.9664413638252114, 'AutoGluon': 0.09381520851241573}. Best is trial 106 with value: 0.3662631111111111.\n",
      "[I 2025-06-13 07:26:48,396] Trial 151 finished with value: 0.36620333333333344 and parameters: {'LightGBM (gbdt)': 0.30051916334994344, 'LightGBM (goss)': 0.15291930319446703, 'XGBoost': 0.9671964017449955, 'AutoGluon': 0.0949917499267475}. Best is trial 106 with value: 0.3662631111111111.\n",
      "[I 2025-06-13 07:26:49,034] Trial 153 finished with value: 0.3662133333333333 and parameters: {'LightGBM (gbdt)': 0.3034164549182018, 'LightGBM (goss)': 0.10317672152096621, 'XGBoost': 0.9586090931205605, 'AutoGluon': 0.018394390837918717}. Best is trial 106 with value: 0.3662631111111111.\n",
      "[I 2025-06-13 07:26:54,994] Trial 154 finished with value: 0.36623044444444447 and parameters: {'LightGBM (gbdt)': 0.3248096480923168, 'LightGBM (goss)': 0.110265908222933, 'XGBoost': 0.9975312886591047, 'AutoGluon': 0.029062318346001807}. Best is trial 106 with value: 0.3662631111111111.\n",
      "[I 2025-06-13 07:26:55,136] Trial 155 finished with value: 0.3661837777777778 and parameters: {'LightGBM (gbdt)': 0.32679282310166075, 'LightGBM (goss)': 0.11990555959701664, 'XGBoost': 0.9956451098800668, 'AutoGluon': 0.027164631257326453}. Best is trial 106 with value: 0.3662631111111111.\n",
      "[I 2025-06-13 07:26:55,456] Trial 157 finished with value: 0.36615533333333333 and parameters: {'LightGBM (gbdt)': 0.23735307830474556, 'LightGBM (goss)': 0.12189965860061523, 'XGBoost': 0.9943021325075212, 'AutoGluon': 0.025561261525229376}. Best is trial 106 with value: 0.3662631111111111.\n",
      "[I 2025-06-13 07:26:55,639] Trial 156 finished with value: 0.3661826666666666 and parameters: {'LightGBM (gbdt)': 0.2454329227441926, 'LightGBM (goss)': 0.10856599246220944, 'XGBoost': 0.9980614310347031, 'AutoGluon': 0.02169926191022046}. Best is trial 106 with value: 0.3662631111111111.\n",
      "[I 2025-06-13 07:27:00,356] Trial 159 finished with value: 0.3654328888888889 and parameters: {'LightGBM (gbdt)': 0.24415945428789018, 'LightGBM (goss)': 0.9195729373662658, 'XGBoost': 0.9834702036906728, 'AutoGluon': 0.022282039487674737}. Best is trial 106 with value: 0.3662631111111111.\n",
      "[I 2025-06-13 07:27:00,758] Trial 160 finished with value: 0.3644617777777778 and parameters: {'LightGBM (gbdt)': 0.24670976452620166, 'LightGBM (goss)': 0.09879798004025213, 'XGBoost': 0.10215328881750552, 'AutoGluon': 0.045222442591750706}. Best is trial 106 with value: 0.3662631111111111.\n",
      "[I 2025-06-13 07:27:01,272] Trial 161 finished with value: 0.36527644444444435 and parameters: {'LightGBM (gbdt)': 0.1934568160247212, 'LightGBM (goss)': 0.9831526927449133, 'XGBoost': 0.95460842824228, 'AutoGluon': 0.08959654331496504}. Best is trial 106 with value: 0.3662631111111111.\n",
      "[I 2025-06-13 07:27:01,322] Trial 158 finished with value: 0.36619066666666644 and parameters: {'LightGBM (gbdt)': 0.2424008965397142, 'LightGBM (goss)': 0.10571237000081804, 'XGBoost': 0.9907261581953317, 'AutoGluon': 0.029219335078128347}. Best is trial 106 with value: 0.3662631111111111.\n",
      "[I 2025-06-13 07:27:07,093] Trial 165 finished with value: 0.36626866666666674 and parameters: {'LightGBM (gbdt)': 0.2746743125422475, 'LightGBM (goss)': 0.13187636672563796, 'XGBoost': 0.9589466480017961, 'AutoGluon': 0.06338797181478549}. Best is trial 165 with value: 0.36626866666666674.\n",
      "[I 2025-06-13 07:27:07,681] Trial 162 finished with value: 0.3662264444444444 and parameters: {'LightGBM (gbdt)': 0.19498425689769944, 'LightGBM (goss)': 0.1055088744528549, 'XGBoost': 0.9588219412663367, 'AutoGluon': 0.09314896610846143}. Best is trial 165 with value: 0.36626866666666674.\n",
      "[I 2025-06-13 07:27:07,747] Trial 164 finished with value: 0.36623577777777777 and parameters: {'LightGBM (gbdt)': 0.2717693163231243, 'LightGBM (goss)': 0.1286348033173279, 'XGBoost': 0.9539784595749795, 'AutoGluon': 0.05885693438254761}. Best is trial 165 with value: 0.36626866666666674.\n",
      "[I 2025-06-13 07:27:07,981] Trial 163 finished with value: 0.36623422222222207 and parameters: {'LightGBM (gbdt)': 0.2031472352138524, 'LightGBM (goss)': 0.1326644051958857, 'XGBoost': 0.9548184611167307, 'AutoGluon': 0.09226653146397792}. Best is trial 165 with value: 0.36626866666666674.\n",
      "[I 2025-06-13 07:27:13,338] Trial 167 finished with value: 0.3661784444444445 and parameters: {'LightGBM (gbdt)': 0.3218629703271554, 'LightGBM (goss)': 0.16543640142295166, 'XGBoost': 0.9054143765066934, 'AutoGluon': 0.08834673499654498}. Best is trial 165 with value: 0.36626866666666674.\n",
      "[I 2025-06-13 07:27:13,617] Trial 166 finished with value: 0.36622 and parameters: {'LightGBM (gbdt)': 0.20179968794870978, 'LightGBM (goss)': 0.16545545718892662, 'XGBoost': 0.9680036888349617, 'AutoGluon': 0.08856579976642262}. Best is trial 165 with value: 0.36626866666666674.\n",
      "[I 2025-06-13 07:27:13,951] Trial 169 finished with value: 0.3661511111111113 and parameters: {'LightGBM (gbdt)': 0.3221009938143802, 'LightGBM (goss)': 0.1644581265657181, 'XGBoost': 0.90885972394997, 'AutoGluon': 0.07744469617881317}. Best is trial 165 with value: 0.36626866666666674.\n",
      "[I 2025-06-13 07:27:14,664] Trial 168 finished with value: 0.36566933333333324 and parameters: {'LightGBM (gbdt)': 0.20416755234090497, 'LightGBM (goss)': 0.6448063140414962, 'XGBoost': 0.9551024789099626, 'AutoGluon': 0.09727788192810732}. Best is trial 165 with value: 0.36626866666666674.\n",
      "[I 2025-06-13 07:27:18,433] Trial 172 finished with value: 0.3662208888888891 and parameters: {'LightGBM (gbdt)': 0.3533443390773192, 'LightGBM (goss)': 0.13696018356537948, 'XGBoost': 0.9505424883923259, 'AutoGluon': 0.04244733930851893}. Best is trial 165 with value: 0.36626866666666674.\n",
      "[I 2025-06-13 07:27:18,602] Trial 170 finished with value: 0.3661828888888889 and parameters: {'LightGBM (gbdt)': 0.14377622981636506, 'LightGBM (goss)': 0.1391295388624582, 'XGBoost': 0.9136211709592152, 'AutoGluon': 0.04338011343296853}. Best is trial 165 with value: 0.36626866666666674.\n",
      "[I 2025-06-13 07:27:20,073] Trial 171 finished with value: 0.3654431111111112 and parameters: {'LightGBM (gbdt)': 0.22649069067158578, 'LightGBM (goss)': 0.8315984066526928, 'XGBoost': 0.9160666952634208, 'AutoGluon': 0.04151151993049417}. Best is trial 165 with value: 0.36626866666666674.\n",
      "[I 2025-06-13 07:27:23,543] Trial 173 finished with value: 0.3638295555555556 and parameters: {'LightGBM (gbdt)': 0.14724507636166428, 'LightGBM (goss)': 0.13493838562932076, 'XGBoost': 0.9216031713697571, 'AutoGluon': 0.5698313173622459}. Best is trial 165 with value: 0.36626866666666674.\n",
      "[I 2025-06-13 07:27:24,802] Trial 175 finished with value: 0.365912 and parameters: {'LightGBM (gbdt)': 0.8688839087780185, 'LightGBM (goss)': 0.09863575433023772, 'XGBoost': 0.9562240541574044, 'AutoGluon': 0.0717276208863751}. Best is trial 165 with value: 0.36626866666666674.\n",
      "[I 2025-06-13 07:27:25,189] Trial 176 finished with value: 0.36626200000000014 and parameters: {'LightGBM (gbdt)': 0.27014366631837944, 'LightGBM (goss)': 0.1112654120996355, 'XGBoost': 0.9550756673973583, 'AutoGluon': 0.0707910812666414}. Best is trial 165 with value: 0.36626866666666674.\n",
      "[I 2025-06-13 07:27:25,628] Trial 174 finished with value: 0.3662715555555554 and parameters: {'LightGBM (gbdt)': 0.22707595463498298, 'LightGBM (goss)': 0.09947354012832511, 'XGBoost': 0.9556952303436753, 'AutoGluon': 0.07190969235589084}. Best is trial 174 with value: 0.3662715555555554.\n",
      "[I 2025-06-13 07:27:29,255] Trial 177 finished with value: 0.3662471111111111 and parameters: {'LightGBM (gbdt)': 0.27299419495001487, 'LightGBM (goss)': 0.10128629623374433, 'XGBoost': 0.9579630619022856, 'AutoGluon': 0.07359769940107715}. Best is trial 174 with value: 0.3662715555555554.\n",
      "[I 2025-06-13 07:27:30,950] Trial 178 finished with value: 0.36617488888888905 and parameters: {'LightGBM (gbdt)': 0.27780165160215886, 'LightGBM (goss)': 0.19687841760111552, 'XGBoost': 0.9728201716142595, 'AutoGluon': 0.09967370830642475}. Best is trial 174 with value: 0.3662715555555554.\n",
      "[I 2025-06-13 07:27:31,128] Trial 179 finished with value: 0.3661724444444444 and parameters: {'LightGBM (gbdt)': 0.2767164966080258, 'LightGBM (goss)': 0.08972633130390123, 'XGBoost': 0.9760325894842986, 'AutoGluon': 0.0011367444933997328}. Best is trial 174 with value: 0.3662715555555554.\n",
      "[I 2025-06-13 07:27:32,746] Trial 180 finished with value: 0.36616733333333323 and parameters: {'LightGBM (gbdt)': 0.27300280675892324, 'LightGBM (goss)': 0.1950767126173891, 'XGBoost': 0.975617521520422, 'AutoGluon': 0.10304836479486179}. Best is trial 174 with value: 0.3662715555555554.\n",
      "[I 2025-06-13 07:27:35,346] Trial 181 finished with value: 0.3661742222222222 and parameters: {'LightGBM (gbdt)': 0.258599185110882, 'LightGBM (goss)': 0.19947946631124464, 'XGBoost': 0.9738268458975438, 'AutoGluon': 0.1035187382395475}. Best is trial 174 with value: 0.3662715555555554.\n",
      "[I 2025-06-13 07:27:36,769] Trial 182 finished with value: 0.36618466666666666 and parameters: {'LightGBM (gbdt)': 0.2529097539611397, 'LightGBM (goss)': 0.08518028463551101, 'XGBoost': 0.9531234973025478, 'AutoGluon': 0.007472306539125867}. Best is trial 174 with value: 0.3662715555555554.\n",
      "[I 2025-06-13 07:27:37,185] Trial 183 finished with value: 0.3661735555555556 and parameters: {'LightGBM (gbdt)': 0.22845378971016977, 'LightGBM (goss)': 0.08168447290420969, 'XGBoost': 0.9494425170233611, 'AutoGluon': 0.11836128930131756}. Best is trial 174 with value: 0.3662715555555554.\n",
      "[I 2025-06-13 07:27:38,779] Trial 184 finished with value: 0.36628466666666665 and parameters: {'LightGBM (gbdt)': 0.2550000184373981, 'LightGBM (goss)': 0.08660920590849921, 'XGBoost': 0.946450100251837, 'AutoGluon': 0.0676940388694729}. Best is trial 184 with value: 0.36628466666666665.\n",
      "[I 2025-06-13 07:27:41,556] Trial 185 finished with value: 0.36505733333333334 and parameters: {'LightGBM (gbdt)': 0.22340748283211675, 'LightGBM (goss)': 0.11749176684932207, 'XGBoost': 0.19846593945565616, 'AutoGluon': 0.06739988204624776}. Best is trial 184 with value: 0.36628466666666665.\n",
      "[I 2025-06-13 07:27:42,917] Trial 186 finished with value: 0.36624022222222224 and parameters: {'LightGBM (gbdt)': 0.22744198340035893, 'LightGBM (goss)': 0.11084939933910527, 'XGBoost': 0.9435400886004369, 'AutoGluon': 0.06809745572838667}. Best is trial 184 with value: 0.36628466666666665.\n",
      "[I 2025-06-13 07:27:43,510] Trial 188 finished with value: 0.3662779999999998 and parameters: {'LightGBM (gbdt)': 0.22771818086041773, 'LightGBM (goss)': 0.11584330813874671, 'XGBoost': 0.9414157967225683, 'AutoGluon': 0.07397357496053741}. Best is trial 184 with value: 0.36628466666666665.\n",
      "[I 2025-06-13 07:27:43,763] Trial 187 finished with value: 0.3662437777777778 and parameters: {'LightGBM (gbdt)': 0.23214763423065998, 'LightGBM (goss)': 0.11860891053628242, 'XGBoost': 0.9419096011364002, 'AutoGluon': 0.06817825700279745}. Best is trial 184 with value: 0.36628466666666665.\n",
      "[I 2025-06-13 07:27:48,267] Trial 189 finished with value: 0.3662175555555555 and parameters: {'LightGBM (gbdt)': 0.2896553851348657, 'LightGBM (goss)': 0.11181933828115921, 'XGBoost': 0.9406721665642772, 'AutoGluon': 0.042727453542185524}. Best is trial 184 with value: 0.36628466666666665.\n",
      "[I 2025-06-13 07:27:48,752] Trial 191 finished with value: 0.3662288888888888 and parameters: {'LightGBM (gbdt)': 0.20858958772599334, 'LightGBM (goss)': 0.12104289921784475, 'XGBoost': 0.9282569660583175, 'AutoGluon': 0.0736813838586743}. Best is trial 184 with value: 0.36628466666666665.\n",
      "[I 2025-06-13 07:27:49,087] Trial 190 finished with value: 0.3662080000000001 and parameters: {'LightGBM (gbdt)': 0.2097273442361171, 'LightGBM (goss)': 0.12096062050486919, 'XGBoost': 0.929471752111889, 'AutoGluon': 0.04456680932430425}. Best is trial 184 with value: 0.36628466666666665.\n",
      "[I 2025-06-13 07:27:49,970] Trial 192 finished with value: 0.3658808888888886 and parameters: {'LightGBM (gbdt)': 0.20776409182800903, 'LightGBM (goss)': 0.4819019260209199, 'XGBoost': 0.9269097834249971, 'AutoGluon': 0.07442905882470095}. Best is trial 184 with value: 0.36628466666666665.\n",
      "[I 2025-06-13 07:27:54,117] Trial 195 finished with value: 0.36625444444444444 and parameters: {'LightGBM (gbdt)': 0.23181732332032406, 'LightGBM (goss)': 0.14150786126408815, 'XGBoost': 0.9478288770865825, 'AutoGluon': 0.07718675227531172}. Best is trial 184 with value: 0.36628466666666665.\n",
      "[I 2025-06-13 07:27:54,373] Trial 193 finished with value: 0.36623711111111107 and parameters: {'LightGBM (gbdt)': 0.2267684706631082, 'LightGBM (goss)': 0.15606542504283905, 'XGBoost': 0.9236958399450463, 'AutoGluon': 0.07628721628243436}. Best is trial 184 with value: 0.36628466666666665.\n",
      "[I 2025-06-13 07:27:54,563] Trial 194 finished with value: 0.36622 and parameters: {'LightGBM (gbdt)': 0.2291009124219478, 'LightGBM (goss)': 0.1707232103676722, 'XGBoost': 0.9067257552392279, 'AutoGluon': 0.07828031106079639}. Best is trial 184 with value: 0.36628466666666665.\n",
      "[I 2025-06-13 07:27:59,967] Trial 196 finished with value: 0.36624777777777784 and parameters: {'LightGBM (gbdt)': 0.2274826695787333, 'LightGBM (goss)': 0.15155974924238103, 'XGBoost': 0.8949994323566041, 'AutoGluon': 0.06532808950889422}. Best is trial 184 with value: 0.36628466666666665.\n",
      "[I 2025-06-13 07:28:00,344] Trial 198 finished with value: 0.36393266666666657 and parameters: {'LightGBM (gbdt)': 0.2371206114121736, 'LightGBM (goss)': 0.16712599174534665, 'XGBoost': 0.9498616670700457, 'AutoGluon': 0.6248877800857726}. Best is trial 184 with value: 0.36628466666666665.\n",
      "[I 2025-06-13 07:28:00,458] Trial 197 finished with value: 0.36626511111111115 and parameters: {'LightGBM (gbdt)': 0.2314273801223034, 'LightGBM (goss)': 0.166278993288066, 'XGBoost': 0.9011403674375805, 'AutoGluon': 0.0864542115687516}. Best is trial 184 with value: 0.36628466666666665.\n",
      "[I 2025-06-13 07:28:01,100] Trial 199 finished with value: 0.36388577777777775 and parameters: {'LightGBM (gbdt)': 0.25190586689862116, 'LightGBM (goss)': 0.16164192904263322, 'XGBoost': 0.9447693725170138, 'AutoGluon': 0.6427502755440251}. Best is trial 184 with value: 0.36628466666666665.\n",
      "[I 2025-06-13 07:28:06,154] Trial 201 finished with value: 0.3661524444444445 and parameters: {'LightGBM (gbdt)': 0.2560780734657822, 'LightGBM (goss)': 0.16020840884183363, 'XGBoost': 0.8929641056592044, 'AutoGluon': 0.1226998568435906}. Best is trial 184 with value: 0.36628466666666665.\n",
      "[I 2025-06-13 07:28:06,403] Trial 200 finished with value: 0.3658539999999999 and parameters: {'LightGBM (gbdt)': 0.25470896281155925, 'LightGBM (goss)': 0.39389895760377336, 'XGBoost': 0.8989925053965572, 'AutoGluon': 0.12406535441633676}. Best is trial 184 with value: 0.36628466666666665.\n",
      "[I 2025-06-13 07:28:06,588] Trial 202 finished with value: 0.3658075555555555 and parameters: {'LightGBM (gbdt)': 0.25602366708263646, 'LightGBM (goss)': 0.42793241736846144, 'XGBoost': 0.8935808495226508, 'AutoGluon': 0.12675206287352483}. Best is trial 184 with value: 0.36628466666666665.\n",
      "[I 2025-06-13 07:28:06,850] Trial 203 finished with value: 0.366262 and parameters: {'LightGBM (gbdt)': 0.25592591478350846, 'LightGBM (goss)': 0.09283165997158875, 'XGBoost': 0.8930661847142145, 'AutoGluon': 0.07860566919976338}. Best is trial 184 with value: 0.36628466666666665.\n",
      "[I 2025-06-13 07:28:12,513] Trial 205 finished with value: 0.3662404444444444 and parameters: {'LightGBM (gbdt)': 0.22523784815893386, 'LightGBM (goss)': 0.09674318926001127, 'XGBoost': 0.9192886622847659, 'AutoGluon': 0.08117323616864351}. Best is trial 184 with value: 0.36628466666666665.\n",
      "[I 2025-06-13 07:28:12,970] Trial 206 finished with value: 0.3662386666666665 and parameters: {'LightGBM (gbdt)': 0.2254346002880167, 'LightGBM (goss)': 0.09440622180943538, 'XGBoost': 0.875450812323783, 'AutoGluon': 0.08122666701512896}. Best is trial 184 with value: 0.36628466666666665.\n",
      "[I 2025-06-13 07:28:13,303] Trial 204 finished with value: 0.36269644444444443 and parameters: {'LightGBM (gbdt)': 0.22567578316712303, 'LightGBM (goss)': 0.09877452528045184, 'XGBoost': 0.8693377331192638, 'AutoGluon': 0.7658767454016409}. Best is trial 184 with value: 0.36628466666666665.\n",
      "[I 2025-06-13 07:28:13,529] Trial 207 finished with value: 0.3659953333333332 and parameters: {'LightGBM (gbdt)': 0.630352026082269, 'LightGBM (goss)': 0.09184324024522826, 'XGBoost': 0.8655070401336545, 'AutoGluon': 0.08359562705602575}. Best is trial 184 with value: 0.36628466666666665.\n",
      "[I 2025-06-13 07:28:18,364] Trial 208 finished with value: 0.3641344444444444 and parameters: {'LightGBM (gbdt)': 0.2328738453306562, 'LightGBM (goss)': 0.09899162544462747, 'XGBoost': 0.8806516125368522, 'AutoGluon': 0.5293137287051141}. Best is trial 184 with value: 0.36628466666666665.\n",
      "[I 2025-06-13 07:28:18,857] Trial 210 finished with value: 0.36625666666666684 and parameters: {'LightGBM (gbdt)': 0.23136447226976295, 'LightGBM (goss)': 0.06996896369800282, 'XGBoost': 0.8821267671166763, 'AutoGluon': 0.08468307905050056}. Best is trial 184 with value: 0.36628466666666665.\n",
      "[I 2025-06-13 07:28:19,384] Trial 209 finished with value: 0.3662477777777777 and parameters: {'LightGBM (gbdt)': 0.22328006190590188, 'LightGBM (goss)': 0.07158200510978668, 'XGBoost': 0.867248967328719, 'AutoGluon': 0.08484030472571799}. Best is trial 184 with value: 0.36628466666666665.\n",
      "[I 2025-06-13 07:28:19,585] Trial 211 finished with value: 0.366208 and parameters: {'LightGBM (gbdt)': 0.1696162569020353, 'LightGBM (goss)': 0.07514531935059149, 'XGBoost': 0.9180702370885101, 'AutoGluon': 0.08411059214839141}. Best is trial 184 with value: 0.36628466666666665.\n",
      "[I 2025-06-13 07:28:24,592] Trial 212 finished with value: 0.36203777777777785 and parameters: {'LightGBM (gbdt)': 0.1719613494211284, 'LightGBM (goss)': 0.06513429783718647, 'XGBoost': 0.013286784657861261, 'AutoGluon': 0.10339886038116218}. Best is trial 184 with value: 0.36628466666666665.\n",
      "[I 2025-06-13 07:28:25,167] Trial 213 finished with value: 0.36609511111111115 and parameters: {'LightGBM (gbdt)': 0.1697221186688928, 'LightGBM (goss)': 0.05119895654192804, 'XGBoost': 0.9132749071854309, 'AutoGluon': 0.09824819793023593}. Best is trial 184 with value: 0.36628466666666665.\n",
      "[I 2025-06-13 07:28:25,538] Trial 215 finished with value: 0.3661617777777777 and parameters: {'LightGBM (gbdt)': 0.22439275306604722, 'LightGBM (goss)': 0.04129187955988281, 'XGBoost': 0.9034217463930062, 'AutoGluon': 0.11027533948600589}. Best is trial 184 with value: 0.36628466666666665.\n",
      "[I 2025-06-13 07:28:25,714] Trial 214 finished with value: 0.3660939999999999 and parameters: {'LightGBM (gbdt)': 0.16914695990830864, 'LightGBM (goss)': 0.04834618833036901, 'XGBoost': 0.9061122313307473, 'AutoGluon': 0.10793480111860498}. Best is trial 184 with value: 0.36628466666666665.\n",
      "[I 2025-06-13 07:28:30,829] Trial 218 finished with value: 0.3662784444444444 and parameters: {'LightGBM (gbdt)': 0.29743632883571813, 'LightGBM (goss)': 0.06764618457729198, 'XGBoost': 0.8731652089958809, 'AutoGluon': 0.07767210077036257}. Best is trial 184 with value: 0.36628466666666665.\n",
      "[I 2025-06-13 07:28:31,361] Trial 219 finished with value: 0.3662815555555555 and parameters: {'LightGBM (gbdt)': 0.29511283855129106, 'LightGBM (goss)': 0.06848696067120218, 'XGBoost': 0.8770462070545819, 'AutoGluon': 0.07658878201797928}. Best is trial 184 with value: 0.36628466666666665.\n",
      "[I 2025-06-13 07:28:31,635] Trial 216 finished with value: 0.36619533333333343 and parameters: {'LightGBM (gbdt)': 0.22175945146750273, 'LightGBM (goss)': 0.046248431376834445, 'XGBoost': 0.8818983449368503, 'AutoGluon': 0.10830960611560816}. Best is trial 184 with value: 0.36628466666666665.\n",
      "[I 2025-06-13 07:28:31,894] Trial 217 finished with value: 0.36616866666666675 and parameters: {'LightGBM (gbdt)': 0.2239675947715896, 'LightGBM (goss)': 0.07060335456906253, 'XGBoost': 0.8887214663624792, 'AutoGluon': 0.1093372820136884}. Best is trial 184 with value: 0.36628466666666665.\n",
      "[I 2025-06-13 07:28:36,536] Trial 220 finished with value: 0.36627711111111116 and parameters: {'LightGBM (gbdt)': 0.2948416824283254, 'LightGBM (goss)': 0.06893040635174202, 'XGBoost': 0.8772726511548132, 'AutoGluon': 0.07922964760602952}. Best is trial 184 with value: 0.36628466666666665.\n",
      "[I 2025-06-13 07:28:37,027] Trial 223 finished with value: 0.3662462222222222 and parameters: {'LightGBM (gbdt)': 0.29040173456952467, 'LightGBM (goss)': 0.08095795764862967, 'XGBoost': 0.8526855723945382, 'AutoGluon': 0.07625839157532578}. Best is trial 184 with value: 0.36628466666666665.\n",
      "[I 2025-06-13 07:28:37,436] Trial 221 finished with value: 0.36624711111111125 and parameters: {'LightGBM (gbdt)': 0.3015017042093664, 'LightGBM (goss)': 0.0752432160304854, 'XGBoost': 0.8743276032469454, 'AutoGluon': 0.08299665692738267}. Best is trial 184 with value: 0.36628466666666665.\n",
      "[I 2025-06-13 07:28:37,824] Trial 222 finished with value: 0.3662591111111111 and parameters: {'LightGBM (gbdt)': 0.3013529954912678, 'LightGBM (goss)': 0.0713966056743567, 'XGBoost': 0.8638637911617405, 'AutoGluon': 0.0802823173956313}. Best is trial 184 with value: 0.36628466666666665.\n",
      "[I 2025-06-13 07:28:43,031] Trial 225 finished with value: 0.36625066666666667 and parameters: {'LightGBM (gbdt)': 0.3089923247069762, 'LightGBM (goss)': 0.06629591447660281, 'XGBoost': 0.8557960762210046, 'AutoGluon': 0.07680211742673139}. Best is trial 184 with value: 0.36628466666666665.\n",
      "[I 2025-06-13 07:28:43,032] Trial 226 finished with value: 0.36625355555555544 and parameters: {'LightGBM (gbdt)': 0.30548084628421446, 'LightGBM (goss)': 0.06501827889521654, 'XGBoost': 0.8527860687275696, 'AutoGluon': 0.0833658038001744}. Best is trial 184 with value: 0.36628466666666665.\n",
      "[I 2025-06-13 07:28:43,620] Trial 224 finished with value: 0.3662295555555556 and parameters: {'LightGBM (gbdt)': 0.3016713578839301, 'LightGBM (goss)': 0.07340233272754848, 'XGBoost': 0.8563596371206922, 'AutoGluon': 0.08088429426541295}. Best is trial 184 with value: 0.36628466666666665.\n",
      "[I 2025-06-13 07:28:44,068] Trial 227 finished with value: 0.366222 and parameters: {'LightGBM (gbdt)': 0.30619472944636406, 'LightGBM (goss)': 0.06534214476112976, 'XGBoost': 0.8483827371475537, 'AutoGluon': 0.09029069160850568}. Best is trial 184 with value: 0.36628466666666665.\n",
      "[I 2025-06-13 07:28:49,258] Trial 228 finished with value: 0.36614711111111115 and parameters: {'LightGBM (gbdt)': 0.30528355448598216, 'LightGBM (goss)': 0.004002771164138774, 'XGBoost': 0.8379478989813874, 'AutoGluon': 0.13379278189394433}. Best is trial 184 with value: 0.36628466666666665.\n",
      "[I 2025-06-13 07:28:49,887] Trial 229 finished with value: 0.3661224444444445 and parameters: {'LightGBM (gbdt)': 0.3428399963359796, 'LightGBM (goss)': 0.062065389932384335, 'XGBoost': 0.8361948737569983, 'AutoGluon': 0.1297017438785359}. Best is trial 184 with value: 0.36628466666666665.\n",
      "[I 2025-06-13 07:28:50,114] Trial 231 finished with value: 0.3652948888888889 and parameters: {'LightGBM (gbdt)': 0.3418040666595762, 'LightGBM (goss)': 0.02162057699010781, 'XGBoost': 0.7988907672693124, 'AutoGluon': 0.30968130196344906}. Best is trial 184 with value: 0.36628466666666665.\n",
      "[I 2025-06-13 07:28:50,240] Trial 230 finished with value: 0.3660919999999999 and parameters: {'LightGBM (gbdt)': 0.342047149596675, 'LightGBM (goss)': 0.035839187244581114, 'XGBoost': 0.8171515059639229, 'AutoGluon': 0.1399583839623766}. Best is trial 184 with value: 0.36628466666666665.\n",
      "[I 2025-06-13 07:28:54,984] Trial 235 finished with value: 0.3662297777777778 and parameters: {'LightGBM (gbdt)': 0.28808480063397773, 'LightGBM (goss)': 0.07694587933601849, 'XGBoost': 0.8577674821561221, 'AutoGluon': 0.04714444548773859}. Best is trial 184 with value: 0.36628466666666665.\n",
      "[I 2025-06-13 07:28:55,560] Trial 233 finished with value: 0.36626666666666674 and parameters: {'LightGBM (gbdt)': 0.29322243497897604, 'LightGBM (goss)': 0.03992419739765627, 'XGBoost': 0.8204780969310209, 'AutoGluon': 0.0480117685245279}. Best is trial 184 with value: 0.36628466666666665.\n",
      "[I 2025-06-13 07:28:55,632] Trial 232 finished with value: 0.366268888888889 and parameters: {'LightGBM (gbdt)': 0.3420689682305147, 'LightGBM (goss)': 0.030945154404130905, 'XGBoost': 0.8229566298832184, 'AutoGluon': 0.04586670680750916}. Best is trial 184 with value: 0.36628466666666665.\n",
      "[I 2025-06-13 07:28:55,910] Trial 234 finished with value: 0.3662895555555555 and parameters: {'LightGBM (gbdt)': 0.2855685542070597, 'LightGBM (goss)': 0.038503388538984246, 'XGBoost': 0.8187472459149564, 'AutoGluon': 0.05005263880345344}. Best is trial 234 with value: 0.3662895555555555.\n",
      "[I 2025-06-13 07:29:01,310] Trial 238 finished with value: 0.3662486666666667 and parameters: {'LightGBM (gbdt)': 0.3133840272393217, 'LightGBM (goss)': 0.039417421599839714, 'XGBoost': 0.8745196281133794, 'AutoGluon': 0.03682241013604918}. Best is trial 234 with value: 0.3662895555555555.\n",
      "[I 2025-06-13 07:29:01,839] Trial 236 finished with value: 0.36627711111111116 and parameters: {'LightGBM (gbdt)': 0.2946431123955265, 'LightGBM (goss)': 0.05263443924304144, 'XGBoost': 0.8689720548424157, 'AutoGluon': 0.08741963726395008}. Best is trial 234 with value: 0.3662895555555555.\n",
      "[I 2025-06-13 07:29:01,974] Trial 237 finished with value: 0.3662784444444444 and parameters: {'LightGBM (gbdt)': 0.31062529516229026, 'LightGBM (goss)': 0.044751331528122315, 'XGBoost': 0.8257565924948772, 'AutoGluon': 0.03680049440443195}. Best is trial 234 with value: 0.3662895555555555.\n",
      "[I 2025-06-13 07:29:02,118] Trial 239 finished with value: 0.366284888888889 and parameters: {'LightGBM (gbdt)': 0.31691311552897916, 'LightGBM (goss)': 0.04395454870297556, 'XGBoost': 0.821988371949459, 'AutoGluon': 0.03222190175348883}. Best is trial 234 with value: 0.3662895555555555.\n",
      "[I 2025-06-13 07:29:07,911] Trial 243 finished with value: 0.3663257777777777 and parameters: {'LightGBM (gbdt)': 0.32487077533508385, 'LightGBM (goss)': 0.002972850645949765, 'XGBoost': 0.7899857475273373, 'AutoGluon': 0.0300014621598264}. Best is trial 243 with value: 0.3663257777777777.\n",
      "[I 2025-06-13 07:29:08,598] Trial 241 finished with value: 0.36628288888888894 and parameters: {'LightGBM (gbdt)': 0.33129452998658193, 'LightGBM (goss)': 0.034203959755250146, 'XGBoost': 0.8285690556442882, 'AutoGluon': 0.03819916196490375}. Best is trial 243 with value: 0.3663257777777777.\n",
      "[I 2025-06-13 07:29:08,644] Trial 242 finished with value: 0.3662753333333334 and parameters: {'LightGBM (gbdt)': 0.28706187988442144, 'LightGBM (goss)': 0.03585944955281811, 'XGBoost': 0.7852490453429337, 'AutoGluon': 0.03260622421345053}. Best is trial 243 with value: 0.3663257777777777.\n",
      "[I 2025-06-13 07:29:08,764] Trial 240 finished with value: 0.36627911111111117 and parameters: {'LightGBM (gbdt)': 0.3145210818153902, 'LightGBM (goss)': 0.03954674366020085, 'XGBoost': 0.8113724784934944, 'AutoGluon': 0.0328032924044507}. Best is trial 243 with value: 0.3663257777777777.\n",
      "[I 2025-06-13 07:29:14,054] Trial 247 finished with value: 0.36624822222222225 and parameters: {'LightGBM (gbdt)': 0.32513701854839755, 'LightGBM (goss)': 0.02278753912704281, 'XGBoost': 0.786407335101295, 'AutoGluon': 0.017782096742814522}. Best is trial 243 with value: 0.3663257777777777.\n",
      "[I 2025-06-13 07:29:14,729] Trial 245 finished with value: 0.36630088888888884 and parameters: {'LightGBM (gbdt)': 0.32683787345016124, 'LightGBM (goss)': 0.017094463417051866, 'XGBoost': 0.8217401029940344, 'AutoGluon': 0.019507236995004888}. Best is trial 243 with value: 0.3663257777777777.\n",
      "[I 2025-06-13 07:29:14,902] Trial 244 finished with value: 0.3663142222222221 and parameters: {'LightGBM (gbdt)': 0.327494790864647, 'LightGBM (goss)': 0.00982822242590643, 'XGBoost': 0.7797800826652526, 'AutoGluon': 0.03380197278973519}. Best is trial 243 with value: 0.3663257777777777.\n",
      "[I 2025-06-13 07:29:15,121] Trial 246 finished with value: 0.3662244444444444 and parameters: {'LightGBM (gbdt)': 0.36811905485971835, 'LightGBM (goss)': 0.0167952423628804, 'XGBoost': 0.7802338439186458, 'AutoGluon': 0.018327840934876896}. Best is trial 243 with value: 0.3663257777777777.\n",
      "[I 2025-06-13 07:29:18,465] Trial 249 finished with value: 0.3663148888888889 and parameters: {'LightGBM (gbdt)': 0.3355024902194737, 'LightGBM (goss)': 0.0053160954130591145, 'XGBoost': 0.8193907671666026, 'AutoGluon': 0.022988229193958692}. Best is trial 243 with value: 0.3663257777777777.\n",
      "[I 2025-06-13 07:29:18,465] Trial 248 finished with value: 0.3663053333333334 and parameters: {'LightGBM (gbdt)': 0.3253730799357945, 'LightGBM (goss)': 0.01047025298668524, 'XGBoost': 0.8193173322239347, 'AutoGluon': 0.023872532921065955}. Best is trial 243 with value: 0.3663257777777777.\n"
     ]
    }
   ],
   "source": [
    "def objective(trial):\n",
    "    weights = [trial.suggest_float(model, 0, 1) for model in models]\n",
    "    weights /= np.sum(weights)\n",
    "\n",
    "    idxs = [0, 7, 14, 21]\n",
    "    pred_probs = np.zeros((X.shape[0], 7))\n",
    "    for idx, weight in zip(idxs, weights):\n",
    "        pred_probs += X.iloc[:, idx:idx+7].values * weight\n",
    "        \n",
    "    return map3(y, pred_probs)\n",
    "\n",
    "sampler = optuna.samplers.TPESampler(seed=CFG.seed)\n",
    "study = optuna.create_study(direction='maximize', sampler=sampler)\n",
    "study.optimize(objective, n_trials=250, n_jobs=-1)"
   ]
  },
  {
   "cell_type": "code",
   "execution_count": 20,
   "id": "321b2a38",
   "metadata": {
    "execution": {
     "iopub.execute_input": "2025-06-13T07:29:18.511773Z",
     "iopub.status.busy": "2025-06-13T07:29:18.511457Z",
     "iopub.status.idle": "2025-06-13T07:29:18.625671Z",
     "shell.execute_reply": "2025-06-13T07:29:18.624634Z"
    },
    "papermill": {
     "duration": 0.136274,
     "end_time": "2025-06-13T07:29:18.627376",
     "exception": false,
     "start_time": "2025-06-13T07:29:18.491102",
     "status": "completed"
    },
    "tags": []
   },
   "outputs": [],
   "source": [
    "scores['WeightedEnsemble'] = [study.best_value] * CFG.n_folds\n",
    "\n",
    "best_weights = [study.best_params[model] for model in models]\n",
    "best_weights /= np.sum(best_weights)\n",
    "\n",
    "idxs = [0, 7, 14, 21]\n",
    "weighted_test_preds = np.zeros((X_test.shape[0], 7))\n",
    "for idx, weight in zip(idxs, best_weights):\n",
    "    weighted_test_preds += X_test.iloc[:, idx:idx+7].values * weight"
   ]
  },
  {
   "cell_type": "code",
   "execution_count": 21,
   "id": "8abba3e3",
   "metadata": {
    "execution": {
     "iopub.execute_input": "2025-06-13T07:29:18.667776Z",
     "iopub.status.busy": "2025-06-13T07:29:18.667461Z",
     "iopub.status.idle": "2025-06-13T07:29:45.519255Z",
     "shell.execute_reply": "2025-06-13T07:29:45.518279Z"
    },
    "papermill": {
     "duration": 26.873203,
     "end_time": "2025-06-13T07:29:45.520762",
     "exception": false,
     "start_time": "2025-06-13T07:29:18.647559",
     "status": "completed"
    },
    "tags": []
   },
   "outputs": [
    {
     "data": {
      "text/html": [
       "<div>\n",
       "<style scoped>\n",
       "    .dataframe tbody tr th:only-of-type {\n",
       "        vertical-align: middle;\n",
       "    }\n",
       "\n",
       "    .dataframe tbody tr th {\n",
       "        vertical-align: top;\n",
       "    }\n",
       "\n",
       "    .dataframe thead th {\n",
       "        text-align: right;\n",
       "    }\n",
       "</style>\n",
       "<table border=\"1\" class=\"dataframe\">\n",
       "  <thead>\n",
       "    <tr style=\"text-align: right;\">\n",
       "      <th></th>\n",
       "      <th>id</th>\n",
       "      <th>Fertilizer Name</th>\n",
       "    </tr>\n",
       "  </thead>\n",
       "  <tbody>\n",
       "    <tr>\n",
       "      <th>0</th>\n",
       "      <td>750000</td>\n",
       "      <td>10-26-26 20-20 DAP</td>\n",
       "    </tr>\n",
       "    <tr>\n",
       "      <th>1</th>\n",
       "      <td>750001</td>\n",
       "      <td>17-17-17 10-26-26 20-20</td>\n",
       "    </tr>\n",
       "    <tr>\n",
       "      <th>2</th>\n",
       "      <td>750002</td>\n",
       "      <td>20-20 28-28 Urea</td>\n",
       "    </tr>\n",
       "    <tr>\n",
       "      <th>3</th>\n",
       "      <td>750003</td>\n",
       "      <td>14-35-14 DAP 17-17-17</td>\n",
       "    </tr>\n",
       "    <tr>\n",
       "      <th>4</th>\n",
       "      <td>750004</td>\n",
       "      <td>20-20 Urea 10-26-26</td>\n",
       "    </tr>\n",
       "  </tbody>\n",
       "</table>\n",
       "</div>"
      ],
      "text/plain": [
       "       id          Fertilizer Name\n",
       "0  750000       10-26-26 20-20 DAP\n",
       "1  750001  17-17-17 10-26-26 20-20\n",
       "2  750002         20-20 28-28 Urea\n",
       "3  750003    14-35-14 DAP 17-17-17\n",
       "4  750004      20-20 Urea 10-26-26"
      ]
     },
     "execution_count": 21,
     "metadata": {},
     "output_type": "execute_result"
    }
   ],
   "source": [
    "create_submission(\"weighted-ensemble\", weighted_test_preds, np.mean(scores[\"WeightedEnsemble\"])).head()"
   ]
  },
  {
   "cell_type": "markdown",
   "id": "61be10c5",
   "metadata": {
    "papermill": {
     "duration": 0.018871,
     "end_time": "2025-06-13T07:29:45.559687",
     "exception": false,
     "start_time": "2025-06-13T07:29:45.540816",
     "status": "completed"
    },
    "tags": []
   },
   "source": [
    "## Weighted VotingClassifier"
   ]
  },
  {
   "cell_type": "code",
   "execution_count": 22,
   "id": "8a7914d2",
   "metadata": {
    "execution": {
     "iopub.execute_input": "2025-06-13T07:29:45.600464Z",
     "iopub.status.busy": "2025-06-13T07:29:45.600173Z",
     "iopub.status.idle": "2025-06-13T07:29:55.836567Z",
     "shell.execute_reply": "2025-06-13T07:29:55.835585Z"
    },
    "papermill": {
     "duration": 10.258484,
     "end_time": "2025-06-13T07:29:55.838066",
     "exception": false,
     "start_time": "2025-06-13T07:29:45.579582",
     "status": "completed"
    },
    "tags": []
   },
   "outputs": [
    {
     "name": "stdout",
     "output_type": "stream",
     "text": [
      "Training VotingClassifier\n",
      "\n",
      "--- Fold 1 - MAP@3: 0.364803\n",
      "--- Fold 2 - MAP@3: 0.365313\n",
      "--- Fold 3 - MAP@3: 0.368552\n",
      "--- Fold 4 - MAP@3: 0.366226\n",
      "--- Fold 5 - MAP@3: 0.366734\n",
      "\n",
      "------ Overall MAP@3: 0.366326 | Average MAP@3: 0.366326 ± 0.001302\n"
     ]
    }
   ],
   "source": [
    "weighted_voting_model = VotingClassifier(estimators, n_jobs=-1, voting='soft', weights=best_weights)\n",
    "weighted_voting_trainer = Trainer(weighted_voting_model)\n",
    "_, weighted_voting_test_pred_probs, scores[\"VotingClassifier (weighted)\"] = weighted_voting_trainer.fit_predict(X, y, X_test)"
   ]
  },
  {
   "cell_type": "code",
   "execution_count": 23,
   "id": "3c8f3823",
   "metadata": {
    "execution": {
     "iopub.execute_input": "2025-06-13T07:29:55.878015Z",
     "iopub.status.busy": "2025-06-13T07:29:55.877578Z",
     "iopub.status.idle": "2025-06-13T07:30:22.638099Z",
     "shell.execute_reply": "2025-06-13T07:30:22.637228Z"
    },
    "papermill": {
     "duration": 26.782203,
     "end_time": "2025-06-13T07:30:22.639718",
     "exception": false,
     "start_time": "2025-06-13T07:29:55.857515",
     "status": "completed"
    },
    "tags": []
   },
   "outputs": [
    {
     "data": {
      "text/html": [
       "<div>\n",
       "<style scoped>\n",
       "    .dataframe tbody tr th:only-of-type {\n",
       "        vertical-align: middle;\n",
       "    }\n",
       "\n",
       "    .dataframe tbody tr th {\n",
       "        vertical-align: top;\n",
       "    }\n",
       "\n",
       "    .dataframe thead th {\n",
       "        text-align: right;\n",
       "    }\n",
       "</style>\n",
       "<table border=\"1\" class=\"dataframe\">\n",
       "  <thead>\n",
       "    <tr style=\"text-align: right;\">\n",
       "      <th></th>\n",
       "      <th>id</th>\n",
       "      <th>Fertilizer Name</th>\n",
       "    </tr>\n",
       "  </thead>\n",
       "  <tbody>\n",
       "    <tr>\n",
       "      <th>0</th>\n",
       "      <td>750000</td>\n",
       "      <td>10-26-26 20-20 DAP</td>\n",
       "    </tr>\n",
       "    <tr>\n",
       "      <th>1</th>\n",
       "      <td>750001</td>\n",
       "      <td>17-17-17 10-26-26 20-20</td>\n",
       "    </tr>\n",
       "    <tr>\n",
       "      <th>2</th>\n",
       "      <td>750002</td>\n",
       "      <td>20-20 28-28 Urea</td>\n",
       "    </tr>\n",
       "    <tr>\n",
       "      <th>3</th>\n",
       "      <td>750003</td>\n",
       "      <td>14-35-14 DAP 17-17-17</td>\n",
       "    </tr>\n",
       "    <tr>\n",
       "      <th>4</th>\n",
       "      <td>750004</td>\n",
       "      <td>20-20 Urea 10-26-26</td>\n",
       "    </tr>\n",
       "  </tbody>\n",
       "</table>\n",
       "</div>"
      ],
      "text/plain": [
       "       id          Fertilizer Name\n",
       "0  750000       10-26-26 20-20 DAP\n",
       "1  750001  17-17-17 10-26-26 20-20\n",
       "2  750002         20-20 28-28 Urea\n",
       "3  750003    14-35-14 DAP 17-17-17\n",
       "4  750004      20-20 Urea 10-26-26"
      ]
     },
     "execution_count": 23,
     "metadata": {},
     "output_type": "execute_result"
    }
   ],
   "source": [
    "create_submission(\"weighted-voting-classifier\", weighted_voting_test_pred_probs, np.mean(scores[\"VotingClassifier (weighted)\"])).head()"
   ]
  },
  {
   "cell_type": "markdown",
   "id": "3550f6ca",
   "metadata": {
    "papermill": {
     "duration": 0.019522,
     "end_time": "2025-06-13T07:30:22.678999",
     "exception": false,
     "start_time": "2025-06-13T07:30:22.659477",
     "status": "completed"
    },
    "tags": []
   },
   "source": [
    "# Results"
   ]
  },
  {
   "cell_type": "code",
   "execution_count": 24,
   "id": "d45f7fea",
   "metadata": {
    "execution": {
     "iopub.execute_input": "2025-06-13T07:30:22.720745Z",
     "iopub.status.busy": "2025-06-13T07:30:22.719976Z",
     "iopub.status.idle": "2025-06-13T07:30:23.378378Z",
     "shell.execute_reply": "2025-06-13T07:30:23.377510Z"
    },
    "papermill": {
     "duration": 0.680381,
     "end_time": "2025-06-13T07:30:23.379822",
     "exception": false,
     "start_time": "2025-06-13T07:30:22.699441",
     "status": "completed"
    },
    "tags": []
   },
   "outputs": [
    {
     "data": {
      "image/png": "[encoded data removed]",
      "text/plain": [
       "<Figure size 1500x360 with 2 Axes>"
      ]
     },
     "metadata": {},
     "output_type": "display_data"
    }
   ],
   "source": [
    "scores = pd.DataFrame(scores)\n",
    "mean_scores = scores.mean().sort_values(ascending=False)\n",
    "order = scores.mean().sort_values(ascending=False).index.tolist()\n",
    "\n",
    "min_score = mean_scores.min()\n",
    "max_score = mean_scores.max()\n",
    "padding = (max_score - min_score) * 0.5\n",
    "lower_limit = min_score - padding\n",
    "upper_limit = max_score + padding\n",
    "\n",
    "fig, axs = plt.subplots(1, 2, figsize=(15, scores.shape[1] * 0.4))\n",
    "\n",
    "boxplot = sns.boxplot(data=scores, order=order, ax=axs[0], orient=\"h\", palette=\"RdYlGn_r\")\n",
    "axs[0].set_title(f\"Fold MAP@3\")\n",
    "axs[0].set_xlabel(\"\")\n",
    "axs[0].set_ylabel(\"\")\n",
    "\n",
    "barplot = sns.barplot(x=mean_scores.values, y=mean_scores.index, ax=axs[1], palette=\"RdYlGn_r\")\n",
    "axs[1].set_title(f\"Mean MAP@3\")\n",
    "axs[1].set_xlabel(\"\")\n",
    "axs[1].set_xlim(left=lower_limit, right=upper_limit)\n",
    "axs[1].set_ylabel(\"\")\n",
    "\n",
    "for i, score in enumerate(mean_scores.values):\n",
    "    barplot.text(score, i, round(score, 6), va=\"center\")\n",
    "\n",
    "plt.tight_layout()\n",
    "plt.show()"
   ]
  }
 ],
 "metadata": {
  "kaggle": {
   "accelerator": "none",
   "dataSources": [
    {
     "databundleVersionId": 12184666,
     "isSourceIdPinned": false,
     "sourceId": 91717,
     "sourceType": "competition"
    },
    {
     "sourceId": 244411248,
     "sourceType": "kernelVersion"
    }
   ],
   "dockerImageVersionId": 31040,
   "isGpuEnabled": false,
   "isInternetEnabled": true,
   "language": "python",
   "sourceType": "notebook"
  },
  "kernelspec": {
   "display_name": "Python 3",
   "language": "python",
   "name": "python3"
  },
  "language_info": {
   "codemirror_mode": {
    "name": "ipython",
    "version": 3
   },
   "file_extension": ".py",
   "mimetype": "text/x-python",
   "name": "python",
   "nbconvert_exporter": "python",
   "pygments_lexer": "ipython3",
   "version": "3.11.11"
  },
  "papermill": {
   "default_parameters": {},
   "duration": 921.947098,
   "end_time": "2025-06-13T07:30:26.022055",
   "environment_variables": {},
   "exception": null,
   "input_path": "__notebook__.ipynb",
   "output_path": "__notebook__.ipynb",
   "parameters": {},
   "start_time": "2025-06-13T07:15:04.074957",
   "version": "2.6.0"
  }
 },
 "nbformat": 4,
 "nbformat_minor": 5
}
