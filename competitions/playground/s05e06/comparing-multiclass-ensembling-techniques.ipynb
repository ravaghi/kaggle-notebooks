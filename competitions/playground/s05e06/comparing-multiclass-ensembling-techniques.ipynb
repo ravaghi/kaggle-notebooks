{
 "cells": [
  {
   "cell_type": "markdown",
   "id": "4adaced5",
   "metadata": {
    "papermill": {
     "duration": 0.005191,
     "end_time": "2025-06-18T09:28:32.322588",
     "exception": false,
     "start_time": "2025-06-18T09:28:32.317397",
     "status": "completed"
    },
    "tags": []
   },
   "source": [
    "# Imports and configs"
   ]
  },
  {
   "cell_type": "code",
   "execution_count": 1,
   "id": "d158e44b",
   "metadata": {
    "_kg_hide-output": true,
    "execution": {
     "iopub.execute_input": "2025-06-18T09:28:32.333276Z",
     "iopub.status.busy": "2025-06-18T09:28:32.332965Z",
     "iopub.status.idle": "2025-06-18T09:28:42.567358Z",
     "shell.execute_reply": "2025-06-18T09:28:42.566113Z"
    },
    "papermill": {
     "duration": 10.241827,
     "end_time": "2025-06-18T09:28:42.569208",
     "exception": false,
     "start_time": "2025-06-18T09:28:32.327381",
     "status": "completed"
    },
    "tags": []
   },
   "outputs": [
    {
     "name": "stdout",
     "output_type": "stream",
     "text": [
      "\u001b[2K   \u001b[90m━━━━━━━━━━━━━━━━━━━━━━━━━━━━━━━━━━━━━━━━\u001b[0m \u001b[32m13.3/13.3 MB\u001b[0m \u001b[31m73.9 MB/s\u001b[0m eta \u001b[36m0:00:00\u001b[0m\r\n",
      "\u001b[?25h\u001b[31mERROR: pip's dependency resolver does not currently take into account all the packages that are installed. This behaviour is the source of the following dependency conflicts.\r\n",
      "cesium 0.12.4 requires numpy<3.0,>=2.0, but you have numpy 1.26.4 which is incompatible.\u001b[0m\u001b[31m\r\n",
      "\u001b[0m"
     ]
    }
   ],
   "source": [
    "!pip install -q scikit-learn==1.5.2"
   ]
  },
  {
   "cell_type": "code",
   "execution_count": 2,
   "id": "576a88d0",
   "metadata": {
    "execution": {
     "iopub.execute_input": "2025-06-18T09:28:42.580788Z",
     "iopub.status.busy": "2025-06-18T09:28:42.580436Z",
     "iopub.status.idle": "2025-06-18T09:28:47.643460Z",
     "shell.execute_reply": "2025-06-18T09:28:47.642415Z"
    },
    "papermill": {
     "duration": 5.070962,
     "end_time": "2025-06-18T09:28:47.645208",
     "exception": false,
     "start_time": "2025-06-18T09:28:42.574246",
     "status": "completed"
    },
    "tags": []
   },
   "outputs": [],
   "source": [
    "from sklearn.ensemble import StackingClassifier, VotingClassifier\n",
    "from sklearn.base import BaseEstimator, ClassifierMixin, clone\n",
    "from sklearn.model_selection import StratifiedKFold\n",
    "from sklearn.linear_model import LogisticRegression\n",
    "from sklearn.preprocessing import LabelEncoder\n",
    "from sklearn.utils import check_array\n",
    "import matplotlib.pyplot as plt\n",
    "import seaborn as sns\n",
    "import pandas as pd\n",
    "import numpy as np\n",
    "import warnings\n",
    "import joblib\n",
    "import optuna\n",
    "import shutil\n",
    "import json\n",
    "import gc\n",
    "\n",
    "warnings.filterwarnings(\"ignore\")"
   ]
  },
  {
   "cell_type": "code",
   "execution_count": 3,
   "id": "3587f92c",
   "metadata": {
    "execution": {
     "iopub.execute_input": "2025-06-18T09:28:47.657291Z",
     "iopub.status.busy": "2025-06-18T09:28:47.656674Z",
     "iopub.status.idle": "2025-06-18T09:28:47.662714Z",
     "shell.execute_reply": "2025-06-18T09:28:47.661769Z"
    },
    "papermill": {
     "duration": 0.014018,
     "end_time": "2025-06-18T09:28:47.664398",
     "exception": false,
     "start_time": "2025-06-18T09:28:47.650380",
     "status": "completed"
    },
    "tags": []
   },
   "outputs": [],
   "source": [
    "class CFG:\n",
    "    train_path = \"/kaggle/input/playground-series-s5e6/train.csv\"\n",
    "    test_path = \"/kaggle/input/playground-series-s5e6/test.csv\"\n",
    "    sample_sub_path = \"/kaggle/input/playground-series-s5e6/sample_submission.csv\"\n",
    "    \n",
    "    target = \"Fertilizer Name\"\n",
    "    n_folds = 5\n",
    "    seed = 42"
   ]
  },
  {
   "cell_type": "markdown",
   "id": "1a9726d8",
   "metadata": {
    "papermill": {
     "duration": 0.005071,
     "end_time": "2025-06-18T09:28:47.674674",
     "exception": false,
     "start_time": "2025-06-18T09:28:47.669603",
     "status": "completed"
    },
    "tags": []
   },
   "source": [
    "# Data loading"
   ]
  },
  {
   "cell_type": "code",
   "execution_count": 4,
   "id": "055fc9f3",
   "metadata": {
    "execution": {
     "iopub.execute_input": "2025-06-18T09:28:47.686036Z",
     "iopub.status.busy": "2025-06-18T09:28:47.685663Z",
     "iopub.status.idle": "2025-06-18T09:28:49.259374Z",
     "shell.execute_reply": "2025-06-18T09:28:49.258390Z"
    },
    "papermill": {
     "duration": 1.581686,
     "end_time": "2025-06-18T09:28:49.261250",
     "exception": false,
     "start_time": "2025-06-18T09:28:47.679564",
     "status": "completed"
    },
    "tags": []
   },
   "outputs": [],
   "source": [
    "train = pd.read_csv(CFG.train_path, index_col=\"id\")\n",
    "test = pd.read_csv(CFG.test_path, index_col=\"id\")\n",
    "\n",
    "label_encoder = LabelEncoder()\n",
    "train[CFG.target] = label_encoder.fit_transform(train[CFG.target])\n",
    "\n",
    "X = train.drop(CFG.target, axis=1)\n",
    "y = train[CFG.target]\n",
    "X_test = test"
   ]
  },
  {
   "cell_type": "code",
   "execution_count": 5,
   "id": "6c79120d",
   "metadata": {
    "_kg_hide-input": true,
    "execution": {
     "iopub.execute_input": "2025-06-18T09:28:49.272635Z",
     "iopub.status.busy": "2025-06-18T09:28:49.272302Z",
     "iopub.status.idle": "2025-06-18T09:28:49.280170Z",
     "shell.execute_reply": "2025-06-18T09:28:49.279161Z"
    },
    "papermill": {
     "duration": 0.015576,
     "end_time": "2025-06-18T09:28:49.281830",
     "exception": false,
     "start_time": "2025-06-18T09:28:49.266254",
     "status": "completed"
    },
    "tags": []
   },
   "outputs": [],
   "source": [
    "def map3(y_true, y_pred_probs):\n",
    "    y_true = [[x] for x in y_true]\n",
    "    y_pred_probs = np.argsort(y_pred_probs, axis=1)[:, -3:][:, ::-1].tolist()\n",
    "    \n",
    "    def ap3(y_true, y_pred_probs):\n",
    "        y_pred_probs = y_pred_probs[:3]\n",
    "\n",
    "        score = 0.0\n",
    "        num_hits = 0.0\n",
    "\n",
    "        for i,p in enumerate(y_pred_probs):\n",
    "            if p in y_true and p not in y_pred_probs[:i]:\n",
    "                num_hits += 1.0\n",
    "                score += num_hits / (i+1.0)\n",
    "\n",
    "        if not y_true:\n",
    "            return 0.0\n",
    "\n",
    "        return score\n",
    "    \n",
    "    return np.mean([ap3(a,p) for a,p in zip(y_true, y_pred_probs)])"
   ]
  },
  {
   "cell_type": "code",
   "execution_count": 6,
   "id": "9464221a",
   "metadata": {
    "execution": {
     "iopub.execute_input": "2025-06-18T09:28:49.293056Z",
     "iopub.status.busy": "2025-06-18T09:28:49.292641Z",
     "iopub.status.idle": "2025-06-18T09:29:02.691541Z",
     "shell.execute_reply": "2025-06-18T09:29:02.690234Z"
    },
    "papermill": {
     "duration": 13.406501,
     "end_time": "2025-06-18T09:29:02.693369",
     "exception": false,
     "start_time": "2025-06-18T09:28:49.286868",
     "status": "completed"
    },
    "tags": []
   },
   "outputs": [],
   "source": [
    "scores = {}\n",
    "\n",
    "oof_pred_probs = joblib.load(\"/kaggle/input/s05e06-fertilizer-optimization-ensemble/oof_pred_probs.pkl\")\n",
    "test_pred_probs = joblib.load(\"/kaggle/input/s05e06-fertilizer-optimization-ensemble/test_pred_probs.pkl\")\n",
    "\n",
    "start_idx = 0\n",
    "models = [\"LightGBM (gbdt)\", \"LightGBM (goss)\", \"XGBoost\", \"AutoGluon\"]\n",
    "for model in models:\n",
    "    fold_scores = []        \n",
    "    \n",
    "    skf = StratifiedKFold(n_splits=CFG.n_folds, random_state=CFG.seed, shuffle=True)\n",
    "    for _, val_idx in skf.split(X, y):   \n",
    "        fold_score = map3(y[val_idx], oof_pred_probs.iloc[val_idx, start_idx:start_idx+7])\n",
    "        fold_scores.append(fold_score)\n",
    "        \n",
    "    scores[model] = fold_scores\n",
    "    start_idx += 7"
   ]
  },
  {
   "cell_type": "code",
   "execution_count": 7,
   "id": "01eb259f",
   "metadata": {
    "_kg_hide-input": true,
    "execution": {
     "iopub.execute_input": "2025-06-18T09:29:02.705519Z",
     "iopub.status.busy": "2025-06-18T09:29:02.705221Z",
     "iopub.status.idle": "2025-06-18T09:29:02.715814Z",
     "shell.execute_reply": "2025-06-18T09:29:02.715012Z"
    },
    "papermill": {
     "duration": 0.018898,
     "end_time": "2025-06-18T09:29:02.717596",
     "exception": false,
     "start_time": "2025-06-18T09:29:02.698698",
     "status": "completed"
    },
    "tags": []
   },
   "outputs": [],
   "source": [
    "class Trainer:\n",
    "    def __init__(self, model, config=CFG):\n",
    "        self.model = model\n",
    "        self.config = config\n",
    "\n",
    "    def fit_predict(self, X, y, X_test):\n",
    "        print(f\"Training {self.model.__class__.__name__}\\n\")\n",
    "        \n",
    "        scores = []        \n",
    "        oof_pred_probs = np.zeros((X.shape[0], y.nunique()))\n",
    "        test_pred_probs = np.zeros((X_test.shape[0], y.nunique()))\n",
    "        \n",
    "        skf = StratifiedKFold(n_splits=self.config.n_folds, random_state=self.config.seed, shuffle=True)\n",
    "        for fold_idx, (train_idx, val_idx) in enumerate(skf.split(X, y)):\n",
    "            X_train, X_val = X.iloc[train_idx], X.iloc[val_idx]\n",
    "            y_train, y_val = y[train_idx], y[val_idx]\n",
    "            \n",
    "            model = clone(self.model)\n",
    "            model.fit(X_train, y_train)\n",
    "            \n",
    "            y_pred_probs = model.predict_proba(X_val)\n",
    "            oof_pred_probs[val_idx] = y_pred_probs\n",
    "            \n",
    "            temp_test_pred_probs = model.predict_proba(X_test)\n",
    "            test_pred_probs += temp_test_pred_probs / self.config.n_folds\n",
    "            \n",
    "            score = map3(y_val, y_pred_probs)\n",
    "            scores.append(score)\n",
    "            \n",
    "            del model, X_train, y_train, X_val, y_val, y_pred_probs\n",
    "            gc.collect()\n",
    "        \n",
    "            print(f\"--- Fold {fold_idx + 1} - MAP@3: {score:.6f}\")\n",
    "                            \n",
    "        overall_score = map3(y, oof_pred_probs)\n",
    "            \n",
    "        print(f\"\\n------ Overall MAP@3: {overall_score:.6f} | Average MAP@3: {np.mean(scores):.6f} ± {np.std(scores):.6f}\")\n",
    "        \n",
    "        return oof_pred_probs, test_pred_probs, scores\n",
    "\n",
    "    def tune(self, X, y):        \n",
    "        scores = []        \n",
    "        \n",
    "        skf = StratifiedKFold(n_splits=self.config.n_folds, random_state=self.config.seed, shuffle=True)\n",
    "        for train_idx, val_idx in skf.split(X, y):\n",
    "            X_train, X_val = X.iloc[train_idx], X.iloc[val_idx]\n",
    "            y_train, y_val = y[train_idx], y[val_idx]\n",
    "            \n",
    "            model = clone(self.model)\n",
    "            model.fit(X_train, y_train)\n",
    "            \n",
    "            y_pred_probs = model.predict_proba(X_val)            \n",
    "            score = map3(y_val, y_pred_probs)\n",
    "            scores.append(score)\n",
    "            \n",
    "            del model, X_train, y_train, X_val, y_val, y_pred_probs\n",
    "            gc.collect()\n",
    "            \n",
    "        return np.mean(scores)"
   ]
  },
  {
   "cell_type": "markdown",
   "id": "920f8004",
   "metadata": {
    "papermill": {
     "duration": 0.005172,
     "end_time": "2025-06-18T09:29:02.728375",
     "exception": false,
     "start_time": "2025-06-18T09:29:02.723203",
     "status": "completed"
    },
    "tags": []
   },
   "source": [
    "# Ensembling"
   ]
  },
  {
   "cell_type": "code",
   "execution_count": 8,
   "id": "ca68a169",
   "metadata": {
    "execution": {
     "iopub.execute_input": "2025-06-18T09:29:02.740377Z",
     "iopub.status.busy": "2025-06-18T09:29:02.740026Z",
     "iopub.status.idle": "2025-06-18T09:29:02.749136Z",
     "shell.execute_reply": "2025-06-18T09:29:02.748151Z"
    },
    "papermill": {
     "duration": 0.017192,
     "end_time": "2025-06-18T09:29:02.750736",
     "exception": false,
     "start_time": "2025-06-18T09:29:02.733544",
     "status": "completed"
    },
    "tags": []
   },
   "outputs": [],
   "source": [
    "X = oof_pred_probs\n",
    "X_test = test_pred_probs"
   ]
  },
  {
   "cell_type": "code",
   "execution_count": 9,
   "id": "8555affe",
   "metadata": {
    "execution": {
     "iopub.execute_input": "2025-06-18T09:29:02.763451Z",
     "iopub.status.busy": "2025-06-18T09:29:02.763150Z",
     "iopub.status.idle": "2025-06-18T09:29:02.769934Z",
     "shell.execute_reply": "2025-06-18T09:29:02.768907Z"
    },
    "papermill": {
     "duration": 0.01519,
     "end_time": "2025-06-18T09:29:02.771854",
     "exception": false,
     "start_time": "2025-06-18T09:29:02.756664",
     "status": "completed"
    },
    "tags": []
   },
   "outputs": [],
   "source": [
    "def create_submission(model, test_pred_probs, score):\n",
    "    final_predictions = []\n",
    "    for i in np.argsort(test_pred_probs)[:, -3:][:, ::-1]:\n",
    "        prediction = label_encoder.inverse_transform(i)\n",
    "        final_predictions.append(\" \".join(prediction))\n",
    "\n",
    "    sub = pd.read_csv(CFG.sample_sub_path)\n",
    "    sub[CFG.target] = final_predictions\n",
    "    sub.to_csv(f\"sub_{model}_{score:.6f}.csv\", index=False)\n",
    "    \n",
    "    return sub"
   ]
  },
  {
   "cell_type": "markdown",
   "id": "ae8bfc6e",
   "metadata": {
    "papermill": {
     "duration": 0.004796,
     "end_time": "2025-06-18T09:29:02.782130",
     "exception": false,
     "start_time": "2025-06-18T09:29:02.777334",
     "status": "completed"
    },
    "tags": []
   },
   "source": [
    "## LogisticRegression"
   ]
  },
  {
   "cell_type": "code",
   "execution_count": 10,
   "id": "3665b5a8",
   "metadata": {
    "execution": {
     "iopub.execute_input": "2025-06-18T09:29:02.794907Z",
     "iopub.status.busy": "2025-06-18T09:29:02.794547Z",
     "iopub.status.idle": "2025-06-18T09:31:57.012368Z",
     "shell.execute_reply": "2025-06-18T09:31:57.011095Z"
    },
    "papermill": {
     "duration": 174.225757,
     "end_time": "2025-06-18T09:31:57.013964",
     "exception": false,
     "start_time": "2025-06-18T09:29:02.788207",
     "status": "completed"
    },
    "tags": []
   },
   "outputs": [
    {
     "name": "stdout",
     "output_type": "stream",
     "text": [
      "Training LogisticRegression\n",
      "\n",
      "--- Fold 1 - MAP@3: 0.364636\n",
      "--- Fold 2 - MAP@3: 0.366104\n",
      "--- Fold 3 - MAP@3: 0.368734\n",
      "--- Fold 4 - MAP@3: 0.366564\n",
      "--- Fold 5 - MAP@3: 0.366599\n",
      "\n",
      "------ Overall MAP@3: 0.366528 | Average MAP@3: 0.366528 ± 0.001314\n"
     ]
    }
   ],
   "source": [
    "lr_model = LogisticRegression(**{\n",
    "    'solver': 'liblinear', \n",
    "    'penalty': 'l2', \n",
    "    'C': 0.5538874808008591, \n",
    "    'tol': 0.002149319742014671, \n",
    "    'fit_intercept': True, \n",
    "    'class_weight': None\n",
    "}) \n",
    "\n",
    "lr_trainer = Trainer(lr_model)\n",
    "_, lr_test_pred_probs, scores[\"LogisticRegression\"] = lr_trainer.fit_predict(X, y, X_test)"
   ]
  },
  {
   "cell_type": "code",
   "execution_count": 11,
   "id": "0f37f6b2",
   "metadata": {
    "execution": {
     "iopub.execute_input": "2025-06-18T09:31:57.026627Z",
     "iopub.status.busy": "2025-06-18T09:31:57.026318Z",
     "iopub.status.idle": "2025-06-18T09:32:23.875696Z",
     "shell.execute_reply": "2025-06-18T09:32:23.874550Z"
    },
    "papermill": {
     "duration": 26.85755,
     "end_time": "2025-06-18T09:32:23.877423",
     "exception": false,
     "start_time": "2025-06-18T09:31:57.019873",
     "status": "completed"
    },
    "tags": []
   },
   "outputs": [
    {
     "data": {
      "text/html": [
       "<div>\n",
       "<style scoped>\n",
       "    .dataframe tbody tr th:only-of-type {\n",
       "        vertical-align: middle;\n",
       "    }\n",
       "\n",
       "    .dataframe tbody tr th {\n",
       "        vertical-align: top;\n",
       "    }\n",
       "\n",
       "    .dataframe thead th {\n",
       "        text-align: right;\n",
       "    }\n",
       "</style>\n",
       "<table border=\"1\" class=\"dataframe\">\n",
       "  <thead>\n",
       "    <tr style=\"text-align: right;\">\n",
       "      <th></th>\n",
       "      <th>id</th>\n",
       "      <th>Fertilizer Name</th>\n",
       "    </tr>\n",
       "  </thead>\n",
       "  <tbody>\n",
       "    <tr>\n",
       "      <th>0</th>\n",
       "      <td>750000</td>\n",
       "      <td>10-26-26 20-20 DAP</td>\n",
       "    </tr>\n",
       "    <tr>\n",
       "      <th>1</th>\n",
       "      <td>750001</td>\n",
       "      <td>17-17-17 10-26-26 20-20</td>\n",
       "    </tr>\n",
       "    <tr>\n",
       "      <th>2</th>\n",
       "      <td>750002</td>\n",
       "      <td>20-20 28-28 Urea</td>\n",
       "    </tr>\n",
       "    <tr>\n",
       "      <th>3</th>\n",
       "      <td>750003</td>\n",
       "      <td>14-35-14 DAP 17-17-17</td>\n",
       "    </tr>\n",
       "    <tr>\n",
       "      <th>4</th>\n",
       "      <td>750004</td>\n",
       "      <td>20-20 Urea 10-26-26</td>\n",
       "    </tr>\n",
       "  </tbody>\n",
       "</table>\n",
       "</div>"
      ],
      "text/plain": [
       "       id          Fertilizer Name\n",
       "0  750000       10-26-26 20-20 DAP\n",
       "1  750001  17-17-17 10-26-26 20-20\n",
       "2  750002         20-20 28-28 Urea\n",
       "3  750003    14-35-14 DAP 17-17-17\n",
       "4  750004      20-20 Urea 10-26-26"
      ]
     },
     "execution_count": 11,
     "metadata": {},
     "output_type": "execute_result"
    }
   ],
   "source": [
    "create_submission(\"logistic-regression\", lr_test_pred_probs, np.mean(scores[\"LogisticRegression\"])).head()"
   ]
  },
  {
   "cell_type": "markdown",
   "id": "06d8b770",
   "metadata": {
    "papermill": {
     "duration": 0.005521,
     "end_time": "2025-06-18T09:32:23.889054",
     "exception": false,
     "start_time": "2025-06-18T09:32:23.883533",
     "status": "completed"
    },
    "tags": []
   },
   "source": [
    "## StackingClassifier"
   ]
  },
  {
   "cell_type": "code",
   "execution_count": 12,
   "id": "3fab82af",
   "metadata": {
    "_kg_hide-input": true,
    "execution": {
     "iopub.execute_input": "2025-06-18T09:32:23.901969Z",
     "iopub.status.busy": "2025-06-18T09:32:23.901601Z",
     "iopub.status.idle": "2025-06-18T09:32:23.909016Z",
     "shell.execute_reply": "2025-06-18T09:32:23.907808Z"
    },
    "papermill": {
     "duration": 0.015794,
     "end_time": "2025-06-18T09:32:23.910646",
     "exception": false,
     "start_time": "2025-06-18T09:32:23.894852",
     "status": "completed"
    },
    "tags": []
   },
   "outputs": [],
   "source": [
    "# This is just a trick to avoid refitting all base models from scratch, which is what StackingClassifier and VotingClassifier do by default\n",
    "\n",
    "class PassThroughClassifier(BaseEstimator, ClassifierMixin):\n",
    "    def __init__(self, idx_cols):\n",
    "        self.idx_cols = idx_cols\n",
    "        self.is_fitted_ = True\n",
    "\n",
    "    def fit(self, X, y=None):\n",
    "        return self\n",
    "\n",
    "    def predict_proba(self, X):\n",
    "        return check_array(X)[:, self.idx_cols]\n",
    "\n",
    "\n",
    "estimators = [\n",
    "    ('LightGBM (gbdt)', PassThroughClassifier(list(range(0, 7)))),\n",
    "    ('LightGBM (goss)', PassThroughClassifier(list(range(7, 14)))),\n",
    "    ('XGBoost', PassThroughClassifier(list(range(14, 21)))),\n",
    "    ('AutoGluon', PassThroughClassifier(list(range(21, 28)))),\n",
    "]"
   ]
  },
  {
   "cell_type": "code",
   "execution_count": 13,
   "id": "e50728d0",
   "metadata": {
    "execution": {
     "iopub.execute_input": "2025-06-18T09:32:23.923267Z",
     "iopub.status.busy": "2025-06-18T09:32:23.922943Z",
     "iopub.status.idle": "2025-06-18T09:35:18.844117Z",
     "shell.execute_reply": "2025-06-18T09:35:18.842908Z"
    },
    "papermill": {
     "duration": 174.929296,
     "end_time": "2025-06-18T09:35:18.845668",
     "exception": false,
     "start_time": "2025-06-18T09:32:23.916372",
     "status": "completed"
    },
    "tags": []
   },
   "outputs": [
    {
     "name": "stdout",
     "output_type": "stream",
     "text": [
      "Training StackingClassifier\n",
      "\n",
      "--- Fold 1 - MAP@3: 0.364636\n",
      "--- Fold 2 - MAP@3: 0.366104\n",
      "--- Fold 3 - MAP@3: 0.368734\n",
      "--- Fold 4 - MAP@3: 0.366564\n",
      "--- Fold 5 - MAP@3: 0.366599\n",
      "\n",
      "------ Overall MAP@3: 0.366528 | Average MAP@3: 0.366528 ± 0.001314\n"
     ]
    }
   ],
   "source": [
    "stacking_model = StackingClassifier(estimators, cv='prefit', n_jobs=-1, final_estimator=clone(lr_model))\n",
    "stacking_trainer = Trainer(stacking_model)\n",
    "_, stacking_test_pred_probs, scores[\"StackingClassifier\"] = stacking_trainer.fit_predict(X, y, X_test)"
   ]
  },
  {
   "cell_type": "code",
   "execution_count": 14,
   "id": "6f9791ba",
   "metadata": {
    "execution": {
     "iopub.execute_input": "2025-06-18T09:35:18.859077Z",
     "iopub.status.busy": "2025-06-18T09:35:18.858686Z",
     "iopub.status.idle": "2025-06-18T09:35:45.443784Z",
     "shell.execute_reply": "2025-06-18T09:35:45.442719Z"
    },
    "papermill": {
     "duration": 26.593605,
     "end_time": "2025-06-18T09:35:45.445405",
     "exception": false,
     "start_time": "2025-06-18T09:35:18.851800",
     "status": "completed"
    },
    "tags": []
   },
   "outputs": [
    {
     "data": {
      "text/html": [
       "<div>\n",
       "<style scoped>\n",
       "    .dataframe tbody tr th:only-of-type {\n",
       "        vertical-align: middle;\n",
       "    }\n",
       "\n",
       "    .dataframe tbody tr th {\n",
       "        vertical-align: top;\n",
       "    }\n",
       "\n",
       "    .dataframe thead th {\n",
       "        text-align: right;\n",
       "    }\n",
       "</style>\n",
       "<table border=\"1\" class=\"dataframe\">\n",
       "  <thead>\n",
       "    <tr style=\"text-align: right;\">\n",
       "      <th></th>\n",
       "      <th>id</th>\n",
       "      <th>Fertilizer Name</th>\n",
       "    </tr>\n",
       "  </thead>\n",
       "  <tbody>\n",
       "    <tr>\n",
       "      <th>0</th>\n",
       "      <td>750000</td>\n",
       "      <td>10-26-26 20-20 DAP</td>\n",
       "    </tr>\n",
       "    <tr>\n",
       "      <th>1</th>\n",
       "      <td>750001</td>\n",
       "      <td>17-17-17 10-26-26 20-20</td>\n",
       "    </tr>\n",
       "    <tr>\n",
       "      <th>2</th>\n",
       "      <td>750002</td>\n",
       "      <td>20-20 28-28 Urea</td>\n",
       "    </tr>\n",
       "    <tr>\n",
       "      <th>3</th>\n",
       "      <td>750003</td>\n",
       "      <td>14-35-14 DAP 17-17-17</td>\n",
       "    </tr>\n",
       "    <tr>\n",
       "      <th>4</th>\n",
       "      <td>750004</td>\n",
       "      <td>20-20 Urea 10-26-26</td>\n",
       "    </tr>\n",
       "  </tbody>\n",
       "</table>\n",
       "</div>"
      ],
      "text/plain": [
       "       id          Fertilizer Name\n",
       "0  750000       10-26-26 20-20 DAP\n",
       "1  750001  17-17-17 10-26-26 20-20\n",
       "2  750002         20-20 28-28 Urea\n",
       "3  750003    14-35-14 DAP 17-17-17\n",
       "4  750004      20-20 Urea 10-26-26"
      ]
     },
     "execution_count": 14,
     "metadata": {},
     "output_type": "execute_result"
    }
   ],
   "source": [
    "create_submission(\"stacking-classifier\", stacking_test_pred_probs, np.mean(scores[\"StackingClassifier\"])).head()"
   ]
  },
  {
   "cell_type": "markdown",
   "id": "a5e6edfe",
   "metadata": {
    "papermill": {
     "duration": 0.005816,
     "end_time": "2025-06-18T09:35:45.457866",
     "exception": false,
     "start_time": "2025-06-18T09:35:45.452050",
     "status": "completed"
    },
    "tags": []
   },
   "source": [
    "## VotingClassifier"
   ]
  },
  {
   "cell_type": "code",
   "execution_count": 15,
   "id": "2a82539f",
   "metadata": {
    "execution": {
     "iopub.execute_input": "2025-06-18T09:35:45.471958Z",
     "iopub.status.busy": "2025-06-18T09:35:45.471614Z",
     "iopub.status.idle": "2025-06-18T09:35:56.479120Z",
     "shell.execute_reply": "2025-06-18T09:35:56.478103Z"
    },
    "papermill": {
     "duration": 11.016711,
     "end_time": "2025-06-18T09:35:56.481049",
     "exception": false,
     "start_time": "2025-06-18T09:35:45.464338",
     "status": "completed"
    },
    "tags": []
   },
   "outputs": [
    {
     "name": "stdout",
     "output_type": "stream",
     "text": [
      "Training VotingClassifier\n",
      "\n",
      "--- Fold 1 - MAP@3: 0.362856\n",
      "--- Fold 2 - MAP@3: 0.363509\n",
      "--- Fold 3 - MAP@3: 0.365732\n",
      "--- Fold 4 - MAP@3: 0.363687\n",
      "--- Fold 5 - MAP@3: 0.363853\n",
      "\n",
      "------ Overall MAP@3: 0.363927 | Average MAP@3: 0.363927 ± 0.000964\n"
     ]
    }
   ],
   "source": [
    "voting_model = VotingClassifier(estimators, n_jobs=-1, voting='soft')\n",
    "voting_trainer = Trainer(voting_model)\n",
    "_, voting_test_pred_probs, scores[\"VotingClassifier\"] = voting_trainer.fit_predict(X, y, X_test)"
   ]
  },
  {
   "cell_type": "code",
   "execution_count": 16,
   "id": "ecab3271",
   "metadata": {
    "execution": {
     "iopub.execute_input": "2025-06-18T09:35:56.495404Z",
     "iopub.status.busy": "2025-06-18T09:35:56.495099Z",
     "iopub.status.idle": "2025-06-18T09:36:23.189804Z",
     "shell.execute_reply": "2025-06-18T09:36:23.188802Z"
    },
    "papermill": {
     "duration": 26.70382,
     "end_time": "2025-06-18T09:36:23.191626",
     "exception": false,
     "start_time": "2025-06-18T09:35:56.487806",
     "status": "completed"
    },
    "tags": []
   },
   "outputs": [
    {
     "data": {
      "text/html": [
       "<div>\n",
       "<style scoped>\n",
       "    .dataframe tbody tr th:only-of-type {\n",
       "        vertical-align: middle;\n",
       "    }\n",
       "\n",
       "    .dataframe tbody tr th {\n",
       "        vertical-align: top;\n",
       "    }\n",
       "\n",
       "    .dataframe thead th {\n",
       "        text-align: right;\n",
       "    }\n",
       "</style>\n",
       "<table border=\"1\" class=\"dataframe\">\n",
       "  <thead>\n",
       "    <tr style=\"text-align: right;\">\n",
       "      <th></th>\n",
       "      <th>id</th>\n",
       "      <th>Fertilizer Name</th>\n",
       "    </tr>\n",
       "  </thead>\n",
       "  <tbody>\n",
       "    <tr>\n",
       "      <th>0</th>\n",
       "      <td>750000</td>\n",
       "      <td>10-26-26 DAP 20-20</td>\n",
       "    </tr>\n",
       "    <tr>\n",
       "      <th>1</th>\n",
       "      <td>750001</td>\n",
       "      <td>17-17-17 10-26-26 20-20</td>\n",
       "    </tr>\n",
       "    <tr>\n",
       "      <th>2</th>\n",
       "      <td>750002</td>\n",
       "      <td>20-20 28-28 17-17-17</td>\n",
       "    </tr>\n",
       "    <tr>\n",
       "      <th>3</th>\n",
       "      <td>750003</td>\n",
       "      <td>14-35-14 DAP Urea</td>\n",
       "    </tr>\n",
       "    <tr>\n",
       "      <th>4</th>\n",
       "      <td>750004</td>\n",
       "      <td>20-20 Urea 10-26-26</td>\n",
       "    </tr>\n",
       "  </tbody>\n",
       "</table>\n",
       "</div>"
      ],
      "text/plain": [
       "       id          Fertilizer Name\n",
       "0  750000       10-26-26 DAP 20-20\n",
       "1  750001  17-17-17 10-26-26 20-20\n",
       "2  750002     20-20 28-28 17-17-17\n",
       "3  750003        14-35-14 DAP Urea\n",
       "4  750004      20-20 Urea 10-26-26"
      ]
     },
     "execution_count": 16,
     "metadata": {},
     "output_type": "execute_result"
    }
   ],
   "source": [
    "create_submission(\"voting-classifier\", voting_test_pred_probs, np.mean(scores[\"VotingClassifier\"])).head()"
   ]
  },
  {
   "cell_type": "markdown",
   "id": "d8d38ae5",
   "metadata": {
    "papermill": {
     "duration": 0.006436,
     "end_time": "2025-06-18T09:36:23.204928",
     "exception": false,
     "start_time": "2025-06-18T09:36:23.198492",
     "status": "completed"
    },
    "tags": []
   },
   "source": [
    "## Weighted averaging"
   ]
  },
  {
   "cell_type": "code",
   "execution_count": 17,
   "id": "303bcfdb",
   "metadata": {
    "_kg_hide-output": true,
    "execution": {
     "iopub.execute_input": "2025-06-18T09:36:23.219361Z",
     "iopub.status.busy": "2025-06-18T09:36:23.219044Z",
     "iopub.status.idle": "2025-06-18T09:43:19.934023Z",
     "shell.execute_reply": "2025-06-18T09:43:19.933029Z"
    },
    "papermill": {
     "duration": 416.724368,
     "end_time": "2025-06-18T09:43:19.935785",
     "exception": false,
     "start_time": "2025-06-18T09:36:23.211417",
     "status": "completed"
    },
    "scrolled": true,
    "tags": []
   },
   "outputs": [
    {
     "name": "stderr",
     "output_type": "stream",
     "text": [
      "[I 2025-06-18 09:36:23,223] A new study created in memory with name: no-name-4651a76f-2375-4497-a760-76ccef373f73\n",
      "[I 2025-06-18 09:36:29,500] Trial 0 finished with value: 0.3616568888888889 and parameters: {'LightGBM (gbdt)': 0.03964873215533449, 'LightGBM (goss)': 0.6797014161899743, 'XGBoost': 0.4909293091918624, 'AutoGluon': 0.7841194293390624}. Best is trial 0 with value: 0.3616568888888889.\n",
      "[I 2025-06-18 09:36:29,702] Trial 2 finished with value: 0.3638995555555554 and parameters: {'LightGBM (gbdt)': 0.35569723267220066, 'LightGBM (goss)': 0.8358374560728298, 'XGBoost': 0.6564604532096584, 'AutoGluon': 0.5714329617394055}. Best is trial 2 with value: 0.3638995555555554.\n",
      "[I 2025-06-18 09:36:30,309] Trial 3 finished with value: 0.36396688888888884 and parameters: {'LightGBM (gbdt)': 0.5043061509618967, 'LightGBM (goss)': 0.11347939545683539, 'XGBoost': 0.5762057438510195, 'AutoGluon': 0.5250091015086532}. Best is trial 3 with value: 0.36396688888888884.\n",
      "[I 2025-06-18 09:36:32,188] Trial 1 finished with value: 0.3619188888888889 and parameters: {'LightGBM (gbdt)': 0.22414241512018762, 'LightGBM (goss)': 0.5139667155370887, 'XGBoost': 0.45254898442054226, 'AutoGluon': 0.7582669608063772}. Best is trial 3 with value: 0.36396688888888884.\n",
      "[I 2025-06-18 09:36:36,222] Trial 4 finished with value: 0.3571184444444445 and parameters: {'LightGBM (gbdt)': 0.3344852360379448, 'LightGBM (goss)': 0.2002823159578756, 'XGBoost': 0.17187922484816365, 'AutoGluon': 0.9617335210046383}. Best is trial 3 with value: 0.36396688888888884.\n",
      "[I 2025-06-18 09:36:36,965] Trial 5 finished with value: 0.361666 and parameters: {'LightGBM (gbdt)': 0.9950398621045947, 'LightGBM (goss)': 0.7285241400986783, 'XGBoost': 0.16805888684416814, 'AutoGluon': 0.9664458386354454}. Best is trial 3 with value: 0.36396688888888884.\n",
      "[I 2025-06-18 09:36:37,309] Trial 7 finished with value: 0.3621459999999999 and parameters: {'LightGBM (gbdt)': 0.4647690643875816, 'LightGBM (goss)': 0.9686911987263908, 'XGBoost': 0.4736057057130565, 'AutoGluon': 0.9802401523068306}. Best is trial 3 with value: 0.36396688888888884.\n",
      "[I 2025-06-18 09:36:37,465] Trial 6 finished with value: 0.3622766666666667 and parameters: {'LightGBM (gbdt)': 0.5228020972003724, 'LightGBM (goss)': 0.017173418473163893, 'XGBoost': 0.5321122403689132, 'AutoGluon': 0.7669553776488712}. Best is trial 3 with value: 0.36396688888888884.\n",
      "[I 2025-06-18 09:36:43,161] Trial 9 finished with value: 0.3646384444444443 and parameters: {'LightGBM (gbdt)': 0.04015004427355573, 'LightGBM (goss)': 0.6996110695934291, 'XGBoost': 0.7405032199408023, 'AutoGluon': 0.33424104548354694}. Best is trial 9 with value: 0.3646384444444443.\n",
      "[I 2025-06-18 09:36:43,400] Trial 8 finished with value: 0.3601666666666667 and parameters: {'LightGBM (gbdt)': 0.11963072414874965, 'LightGBM (goss)': 0.9538824271650355, 'XGBoost': 0.19838886909261544, 'AutoGluon': 0.8689782495314364}. Best is trial 9 with value: 0.3646384444444443.\n",
      "[I 2025-06-18 09:36:43,619] Trial 11 finished with value: 0.3642059999999999 and parameters: {'LightGBM (gbdt)': 0.4519450913273575, 'LightGBM (goss)': 0.29083561373685207, 'XGBoost': 0.8537981021017038, 'AutoGluon': 0.6702038188093927}. Best is trial 9 with value: 0.3646384444444443.\n",
      "[I 2025-06-18 09:36:45,571] Trial 10 finished with value: 0.36460177777777775 and parameters: {'LightGBM (gbdt)': 0.45921282447228395, 'LightGBM (goss)': 0.2875945888645821, 'XGBoost': 0.5302413971472483, 'AutoGluon': 0.3396402397358914}. Best is trial 9 with value: 0.3646384444444443.\n",
      "[I 2025-06-18 09:36:48,445] Trial 12 finished with value: 0.36139022222222217 and parameters: {'LightGBM (gbdt)': 0.7548623918430706, 'LightGBM (goss)': 0.9834869112934747, 'XGBoost': 0.10949030414957939, 'AutoGluon': 0.9276276548517579}. Best is trial 9 with value: 0.3646384444444443.\n",
      "[I 2025-06-18 09:36:49,830] Trial 13 finished with value: 0.36569288888888885 and parameters: {'LightGBM (gbdt)': 0.7949308419792668, 'LightGBM (goss)': 0.3595643118409831, 'XGBoost': 0.9198491861390592, 'AutoGluon': 0.10136897676711532}. Best is trial 13 with value: 0.36569288888888885.\n",
      "[I 2025-06-18 09:36:50,162] Trial 14 finished with value: 0.36576822222222216 and parameters: {'LightGBM (gbdt)': 0.7235401818635809, 'LightGBM (goss)': 0.3328620217346522, 'XGBoost': 0.9641567589422826, 'AutoGluon': 0.09747006921326529}. Best is trial 14 with value: 0.36576822222222216.\n",
      "[I 2025-06-18 09:36:54,061] Trial 15 finished with value: 0.3654522222222222 and parameters: {'LightGBM (gbdt)': 0.7349445871317455, 'LightGBM (goss)': 0.413726602795937, 'XGBoost': 0.9707285329638997, 'AutoGluon': 0.24360490282980057}. Best is trial 14 with value: 0.36576822222222216.\n",
      "[I 2025-06-18 09:36:54,258] Trial 16 finished with value: 0.36542422222222243 and parameters: {'LightGBM (gbdt)': 0.7144125857740542, 'LightGBM (goss)': 0.44453604800589996, 'XGBoost': 0.9651358978260977, 'AutoGluon': 0.24866981166813198}. Best is trial 14 with value: 0.36576822222222216.\n",
      "[I 2025-06-18 09:36:55,226] Trial 17 finished with value: 0.36574933333333326 and parameters: {'LightGBM (gbdt)': 0.740184766480904, 'LightGBM (goss)': 0.4845345582853204, 'XGBoost': 0.9183923286995918, 'AutoGluon': 8.398312771967786e-05}. Best is trial 14 with value: 0.36576822222222216.\n",
      "[I 2025-06-18 09:36:56,230] Trial 18 finished with value: 0.36584688888888883 and parameters: {'LightGBM (gbdt)': 0.7310333665887856, 'LightGBM (goss)': 0.45882949934548306, 'XGBoost': 0.9835731233491257, 'AutoGluon': 0.004527722580585869}. Best is trial 18 with value: 0.36584688888888883.\n",
      "[I 2025-06-18 09:37:00,729] Trial 19 finished with value: 0.36578777777777793 and parameters: {'LightGBM (gbdt)': 0.7501945298745742, 'LightGBM (goss)': 0.49182010452767827, 'XGBoost': 0.9986507977584224, 'AutoGluon': 0.0002528586145186251}. Best is trial 18 with value: 0.36584688888888883.\n",
      "[I 2025-06-18 09:37:00,984] Trial 20 finished with value: 0.36550222222222234 and parameters: {'LightGBM (gbdt)': 0.9659499332539973, 'LightGBM (goss)': 0.3408010800312972, 'XGBoost': 0.8094987709647212, 'AutoGluon': 0.005686206178736192}. Best is trial 18 with value: 0.36584688888888883.\n",
      "[I 2025-06-18 09:37:01,843] Trial 21 finished with value: 0.36541444444444443 and parameters: {'LightGBM (gbdt)': 0.9146862571189297, 'LightGBM (goss)': 0.5648493308674666, 'XGBoost': 0.803660834028226, 'AutoGluon': 0.021867651729142845}. Best is trial 18 with value: 0.36584688888888883.\n",
      "[I 2025-06-18 09:37:02,401] Trial 22 finished with value: 0.365384888888889 and parameters: {'LightGBM (gbdt)': 0.9045394450246032, 'LightGBM (goss)': 0.6210032294403571, 'XGBoost': 0.8095901031655708, 'AutoGluon': 0.00498921228199295}. Best is trial 18 with value: 0.36584688888888883.\n",
      "[I 2025-06-18 09:37:06,944] Trial 23 finished with value: 0.3654095555555556 and parameters: {'LightGBM (gbdt)': 0.873999997422794, 'LightGBM (goss)': 0.5890091494144916, 'XGBoost': 0.7876646003844492, 'AutoGluon': 0.001968016782877946}. Best is trial 18 with value: 0.36584688888888883.\n",
      "[I 2025-06-18 09:37:08,000] Trial 24 finished with value: 0.36539266666666664 and parameters: {'LightGBM (gbdt)': 0.6190514722610085, 'LightGBM (goss)': 0.552006187348303, 'XGBoost': 0.7815449422484537, 'AutoGluon': 0.1290628474189937}. Best is trial 18 with value: 0.36584688888888883.\n",
      "[I 2025-06-18 09:37:08,089] Trial 25 finished with value: 0.3644046666666666 and parameters: {'LightGBM (gbdt)': 0.6364098969939024, 'LightGBM (goss)': 0.5966526613428664, 'XGBoost': 0.3278320034801269, 'AutoGluon': 0.10717819737026381}. Best is trial 18 with value: 0.36584688888888883.\n",
      "[I 2025-06-18 09:37:08,960] Trial 26 finished with value: 0.3660148888888889 and parameters: {'LightGBM (gbdt)': 0.6265983193894664, 'LightGBM (goss)': 0.21116816404785171, 'XGBoost': 0.9992427170785517, 'AutoGluon': 0.12872558586903282}. Best is trial 26 with value: 0.3660148888888889.\n",
      "[I 2025-06-18 09:37:13,681] Trial 29 finished with value: 0.36573355555555565 and parameters: {'LightGBM (gbdt)': 0.6356591551631595, 'LightGBM (goss)': 0.22661289441994759, 'XGBoost': 0.985949478328723, 'AutoGluon': 0.21500994260935344}. Best is trial 26 with value: 0.3660148888888889.\n",
      "[I 2025-06-18 09:37:14,394] Trial 28 finished with value: 0.36541977777777773 and parameters: {'LightGBM (gbdt)': 0.6182873907118873, 'LightGBM (goss)': 0.20335481974622877, 'XGBoost': 0.6589754883937444, 'AutoGluon': 0.1831825559650745}. Best is trial 26 with value: 0.3660148888888889.\n",
      "[I 2025-06-18 09:37:14,747] Trial 27 finished with value: 0.3654626666666666 and parameters: {'LightGBM (gbdt)': 0.618917734931336, 'LightGBM (goss)': 0.1918138897416365, 'XGBoost': 0.6617016771807996, 'AutoGluon': 0.17409457755912303}. Best is trial 26 with value: 0.3660148888888889.\n",
      "[I 2025-06-18 09:37:18,456] Trial 30 finished with value: 0.3654708888888889 and parameters: {'LightGBM (gbdt)': 0.6097103700729835, 'LightGBM (goss)': 0.161529941679453, 'XGBoost': 0.6826298001272102, 'AutoGluon': 0.19035616971275238}. Best is trial 26 with value: 0.3660148888888889.\n",
      "[I 2025-06-18 09:37:19,084] Trial 32 finished with value: 0.36525022222222225 and parameters: {'LightGBM (gbdt)': 0.8286638400508901, 'LightGBM (goss)': 0.09249953017565421, 'XGBoost': 0.8921718940502943, 'AutoGluon': 0.3558519845040482}. Best is trial 26 with value: 0.3660148888888889.\n",
      "[I 2025-06-18 09:37:19,330] Trial 31 finished with value: 0.36487444444444433 and parameters: {'LightGBM (gbdt)': 0.8243047201493557, 'LightGBM (goss)': 0.13122239893324017, 'XGBoost': 0.7111882259849259, 'AutoGluon': 0.38770124042153387}. Best is trial 26 with value: 0.3660148888888889.\n",
      "[I 2025-06-18 09:37:21,232] Trial 33 finished with value: 0.36511399999999994 and parameters: {'LightGBM (gbdt)': 0.8140120072674841, 'LightGBM (goss)': 0.0914268429787618, 'XGBoost': 0.8776406991602959, 'AutoGluon': 0.3872590093617142}. Best is trial 26 with value: 0.3660148888888889.\n",
      "[I 2025-06-18 09:37:24,391] Trial 34 finished with value: 0.3650768888888889 and parameters: {'LightGBM (gbdt)': 0.8585205811521811, 'LightGBM (goss)': 0.3892663935483746, 'XGBoost': 0.8880556634355121, 'AutoGluon': 0.3308433595716342}. Best is trial 26 with value: 0.3660148888888889.\n",
      "[I 2025-06-18 09:37:25,408] Trial 36 finished with value: 0.3658066666666667 and parameters: {'LightGBM (gbdt)': 0.6955305976730354, 'LightGBM (goss)': 0.41582271130278453, 'XGBoost': 0.9913472508432439, 'AutoGluon': 0.07385064845849475}. Best is trial 26 with value: 0.3660148888888889.\n",
      "[I 2025-06-18 09:37:25,985] Trial 35 finished with value: 0.3657526666666666 and parameters: {'LightGBM (gbdt)': 0.6886011658167307, 'LightGBM (goss)': 0.3789143477368194, 'XGBoost': 0.9863478904391825, 'AutoGluon': 0.10895056396643384}. Best is trial 26 with value: 0.3660148888888889.\n",
      "[I 2025-06-18 09:37:27,610] Trial 37 finished with value: 0.3658168888888889 and parameters: {'LightGBM (gbdt)': 0.6853461741670865, 'LightGBM (goss)': 0.37455546798995504, 'XGBoost': 0.9981173998921314, 'AutoGluon': 0.09509341551138553}. Best is trial 26 with value: 0.3660148888888889.\n",
      "[I 2025-06-18 09:37:32,452] Trial 38 finished with value: 0.36586977777777785 and parameters: {'LightGBM (gbdt)': 0.6835712172328908, 'LightGBM (goss)': 0.30070595645856274, 'XGBoost': 0.9873971831926386, 'AutoGluon': 0.10430024433577481}. Best is trial 26 with value: 0.3660148888888889.\n",
      "[I 2025-06-18 09:37:32,905] Trial 41 finished with value: 0.363682 and parameters: {'LightGBM (gbdt)': 0.5365037528070925, 'LightGBM (goss)': 0.2953126626578335, 'XGBoost': 0.3938394252536809, 'AutoGluon': 0.4594218574349107}. Best is trial 26 with value: 0.3660148888888889.\n",
      "[I 2025-06-18 09:37:33,206] Trial 40 finished with value: 0.3646642222222221 and parameters: {'LightGBM (gbdt)': 0.5472411053171371, 'LightGBM (goss)': 0.49727724743095697, 'XGBoost': 0.3441160079477757, 'AutoGluon': 0.06549001855976487}. Best is trial 26 with value: 0.3660148888888889.\n",
      "[I 2025-06-18 09:37:33,291] Trial 39 finished with value: 0.36572444444444435 and parameters: {'LightGBM (gbdt)': 0.6974603482095377, 'LightGBM (goss)': 0.49479468377931884, 'XGBoost': 0.977432685931552, 'AutoGluon': 0.06828194976491789}. Best is trial 26 with value: 0.3660148888888889.\n",
      "[I 2025-06-18 09:37:39,020] Trial 44 finished with value: 0.3659362222222223 and parameters: {'LightGBM (gbdt)': 0.3224503134225255, 'LightGBM (goss)': 0.2532297635473107, 'XGBoost': 0.9363882313328836, 'AutoGluon': 0.1638190499407999}. Best is trial 26 with value: 0.3660148888888889.\n",
      "[I 2025-06-18 09:37:39,242] Trial 42 finished with value: 0.36527444444444435 and parameters: {'LightGBM (gbdt)': 0.37249300784882927, 'LightGBM (goss)': 0.02701624159258309, 'XGBoost': 0.6093401286965303, 'AutoGluon': 0.2662485943461717}. Best is trial 26 with value: 0.3660148888888889.\n",
      "[I 2025-06-18 09:37:39,661] Trial 43 finished with value: 0.36511022222222217 and parameters: {'LightGBM (gbdt)': 0.32995425799668204, 'LightGBM (goss)': 0.0008432645881216727, 'XGBoost': 0.6067676201132035, 'AutoGluon': 0.2900716538160613}. Best is trial 26 with value: 0.3660148888888889.\n",
      "[I 2025-06-18 09:37:39,939] Trial 45 finished with value: 0.36555444444444457 and parameters: {'LightGBM (gbdt)': 0.5644631803406135, 'LightGBM (goss)': 0.2547448683254559, 'XGBoost': 0.9348765790324902, 'AutoGluon': 0.26843072077723673}. Best is trial 26 with value: 0.3660148888888889.\n",
      "[I 2025-06-18 09:37:44,988] Trial 46 finished with value: 0.36504511111111126 and parameters: {'LightGBM (gbdt)': 0.28774593781474117, 'LightGBM (goss)': 0.2702421434699368, 'XGBoost': 0.5996155247418613, 'AutoGluon': 0.2832217932169592}. Best is trial 26 with value: 0.3660148888888889.\n",
      "[I 2025-06-18 09:37:45,434] Trial 47 finished with value: 0.3659568888888889 and parameters: {'LightGBM (gbdt)': 0.33049580639217846, 'LightGBM (goss)': 0.2376905809627975, 'XGBoost': 0.8535733745881847, 'AutoGluon': 0.1462438971574484}. Best is trial 26 with value: 0.3660148888888889.\n",
      "[I 2025-06-18 09:37:46,204] Trial 49 finished with value: 0.36587355555555556 and parameters: {'LightGBM (gbdt)': 0.2024395514520333, 'LightGBM (goss)': 0.31144786430551935, 'XGBoost': 0.8435311188197748, 'AutoGluon': 0.14960740644752926}. Best is trial 26 with value: 0.3660148888888889.\n",
      "[I 2025-06-18 09:37:46,600] Trial 48 finished with value: 0.36592511111111126 and parameters: {'LightGBM (gbdt)': 0.2900938211065975, 'LightGBM (goss)': 0.26486934822408836, 'XGBoost': 0.9231602417626225, 'AutoGluon': 0.1611710365880038}. Best is trial 26 with value: 0.3660148888888889.\n",
      "[I 2025-06-18 09:37:51,369] Trial 50 finished with value: 0.36587911111111093 and parameters: {'LightGBM (gbdt)': 0.23852668049318126, 'LightGBM (goss)': 0.3260686630640133, 'XGBoost': 0.8616962816137554, 'AutoGluon': 0.1503031600994365}. Best is trial 26 with value: 0.3660148888888889.\n",
      "[I 2025-06-18 09:37:52,401] Trial 51 finished with value: 0.3658877777777779 and parameters: {'LightGBM (gbdt)': 0.16341470044475975, 'LightGBM (goss)': 0.3106511997244926, 'XGBoost': 0.8464836197017185, 'AutoGluon': 0.15082626599152618}. Best is trial 26 with value: 0.3660148888888889.\n",
      "[I 2025-06-18 09:37:53,149] Trial 52 finished with value: 0.3658573333333335 and parameters: {'LightGBM (gbdt)': 0.17598878494477058, 'LightGBM (goss)': 0.3197952952900897, 'XGBoost': 0.8359072033921218, 'AutoGluon': 0.15401700802950208}. Best is trial 26 with value: 0.3660148888888889.\n",
      "[I 2025-06-18 09:37:54,494] Trial 53 finished with value: 0.3659759999999999 and parameters: {'LightGBM (gbdt)': 0.16393050890788965, 'LightGBM (goss)': 0.15106266813500951, 'XGBoost': 0.8491818391936936, 'AutoGluon': 0.1597537020826043}. Best is trial 26 with value: 0.3660148888888889.\n",
      "[I 2025-06-18 09:37:57,707] Trial 54 finished with value: 0.3659573333333334 and parameters: {'LightGBM (gbdt)': 0.17766614508603046, 'LightGBM (goss)': 0.24077182214678194, 'XGBoost': 0.8283049993539996, 'AutoGluon': 0.1507567648226041}. Best is trial 26 with value: 0.3660148888888889.\n",
      "[I 2025-06-18 09:37:58,996] Trial 56 finished with value: 0.36569733333333326 and parameters: {'LightGBM (gbdt)': 0.10709436912004128, 'LightGBM (goss)': 0.23553490530759813, 'XGBoost': 0.9257219929554092, 'AutoGluon': 0.22095050502093794}. Best is trial 26 with value: 0.3660148888888889.\n",
      "[I 2025-06-18 09:37:59,193] Trial 55 finished with value: 0.36576222222222227 and parameters: {'LightGBM (gbdt)': 0.17649561309345102, 'LightGBM (goss)': 0.2462882536465592, 'XGBoost': 0.7398317884454899, 'AutoGluon': 0.16528126663712805}. Best is trial 26 with value: 0.3660148888888889.\n",
      "[I 2025-06-18 09:38:00,980] Trial 57 finished with value: 0.3633235555555554 and parameters: {'LightGBM (gbdt)': 0.12034516686020968, 'LightGBM (goss)': 0.23707565604895456, 'XGBoost': 0.7416868998080616, 'AutoGluon': 0.6110052360689164}. Best is trial 26 with value: 0.3660148888888889.\n",
      "[I 2025-06-18 09:38:04,480] Trial 59 finished with value: 0.3638797777777777 and parameters: {'LightGBM (gbdt)': 0.39454598827809173, 'LightGBM (goss)': 0.16054589694493182, 'XGBoost': 0.7382592929715956, 'AutoGluon': 0.6125838100366043}. Best is trial 26 with value: 0.3660148888888889.\n",
      "[I 2025-06-18 09:38:04,554] Trial 60 finished with value: 0.36356533333333324 and parameters: {'LightGBM (gbdt)': 0.40391116286580914, 'LightGBM (goss)': 0.14560974006093821, 'XGBoost': 0.7559631150861772, 'AutoGluon': 0.6846823465227819}. Best is trial 26 with value: 0.3660148888888889.\n",
      "[I 2025-06-18 09:38:04,817] Trial 58 finished with value: 0.36345511111111123 and parameters: {'LightGBM (gbdt)': 0.4216864450465076, 'LightGBM (goss)': 0.1526995632798356, 'XGBoost': 0.7400039631662376, 'AutoGluon': 0.7180537370646402}. Best is trial 26 with value: 0.3660148888888889.\n",
      "[I 2025-06-18 09:38:09,924] Trial 61 finished with value: 0.3632477777777777 and parameters: {'LightGBM (gbdt)': 0.40226073941512613, 'LightGBM (goss)': 0.05314853081819043, 'XGBoost': 0.9266088918776171, 'AutoGluon': 0.8325290821299015}. Best is trial 26 with value: 0.3660148888888889.\n",
      "[I 2025-06-18 09:38:10,921] Trial 63 finished with value: 0.3658599999999999 and parameters: {'LightGBM (gbdt)': 0.03256552044248395, 'LightGBM (goss)': 0.06824705412799753, 'XGBoost': 0.9417597568962643, 'AutoGluon': 0.047223059552640945}. Best is trial 26 with value: 0.3660148888888889.\n",
      "[I 2025-06-18 09:38:11,134] Trial 62 finished with value: 0.3659351111111111 and parameters: {'LightGBM (gbdt)': 0.2705301490711167, 'LightGBM (goss)': 0.049277781783815366, 'XGBoost': 0.9320648170925616, 'AutoGluon': 0.21904223601449033}. Best is trial 26 with value: 0.3660148888888889.\n",
      "[I 2025-06-18 09:38:11,302] Trial 64 finished with value: 0.365951111111111 and parameters: {'LightGBM (gbdt)': 0.28201106057587383, 'LightGBM (goss)': 0.049198476296168414, 'XGBoost': 0.9303706516033381, 'AutoGluon': 0.21394243695255588}. Best is trial 26 with value: 0.3660148888888889.\n",
      "[I 2025-06-18 09:38:16,645] Trial 65 finished with value: 0.36611866666666665 and parameters: {'LightGBM (gbdt)': 0.2678776535543064, 'LightGBM (goss)': 0.18889892496621763, 'XGBoost': 0.8265306299164612, 'AutoGluon': 0.039485280788601154}. Best is trial 65 with value: 0.36611866666666665.\n",
      "[I 2025-06-18 09:38:17,311] Trial 66 finished with value: 0.36571599999999993 and parameters: {'LightGBM (gbdt)': 0.2707991937145651, 'LightGBM (goss)': 0.20602889145387976, 'XGBoost': 0.8351527339053388, 'AutoGluon': 0.20578938064131758}. Best is trial 65 with value: 0.36611866666666665.\n",
      "[I 2025-06-18 09:38:17,539] Trial 67 finished with value: 0.362247777777778 and parameters: {'LightGBM (gbdt)': 0.2610278480500934, 'LightGBM (goss)': 0.7707750163186815, 'XGBoost': 0.018610249163425907, 'AutoGluon': 0.20829239272664815}. Best is trial 65 with value: 0.36611866666666665.\n",
      "[I 2025-06-18 09:38:17,806] Trial 68 finished with value: 0.36591511111111114 and parameters: {'LightGBM (gbdt)': 0.2519456921421, 'LightGBM (goss)': 0.10603955431962414, 'XGBoost': 0.8894784489673763, 'AutoGluon': 0.20722056208700756}. Best is trial 65 with value: 0.36611866666666665.\n",
      "[I 2025-06-18 09:38:23,361] Trial 69 finished with value: 0.36336 and parameters: {'LightGBM (gbdt)': 0.330828750270804, 'LightGBM (goss)': 0.1832418805889954, 'XGBoost': 0.02533380364298954, 'AutoGluon': 0.04404059313361369}. Best is trial 65 with value: 0.36611866666666665.\n",
      "[I 2025-06-18 09:38:23,586] Trial 71 finished with value: 0.36603311111111103 and parameters: {'LightGBM (gbdt)': 0.33375106435352503, 'LightGBM (goss)': 0.17979201866228905, 'XGBoost': 0.88706938954291, 'AutoGluon': 0.13411676970187453}. Best is trial 65 with value: 0.36611866666666665.\n",
      "[I 2025-06-18 09:38:23,711] Trial 72 finished with value: 0.3660997777777777 and parameters: {'LightGBM (gbdt)': 0.34186625954932626, 'LightGBM (goss)': 0.18072162725571755, 'XGBoost': 0.7943357003174442, 'AutoGluon': 0.048102339606891496}. Best is trial 65 with value: 0.36611866666666665.\n",
      "[I 2025-06-18 09:38:24,264] Trial 70 finished with value: 0.36620777777777785 and parameters: {'LightGBM (gbdt)': 0.3271905878434869, 'LightGBM (goss)': 0.10237065126649758, 'XGBoost': 0.891231515442288, 'AutoGluon': 0.04177096195889152}. Best is trial 70 with value: 0.36620777777777785.\n",
      "[I 2025-06-18 09:38:29,824] Trial 75 finished with value: 0.3661244444444444 and parameters: {'LightGBM (gbdt)': 0.4768617926737466, 'LightGBM (goss)': 0.1149305309722393, 'XGBoost': 0.7787261656585192, 'AutoGluon': 0.03669089155112164}. Best is trial 70 with value: 0.36620777777777785.\n",
      "[I 2025-06-18 09:38:30,744] Trial 76 finished with value: 0.36610644444444435 and parameters: {'LightGBM (gbdt)': 0.47113012258212283, 'LightGBM (goss)': 0.12529057330229246, 'XGBoost': 0.7913475875904318, 'AutoGluon': 0.04682967797889095}. Best is trial 70 with value: 0.36620777777777785.\n",
      "[I 2025-06-18 09:38:30,819] Trial 73 finished with value: 0.36600599999999994 and parameters: {'LightGBM (gbdt)': 0.4829837388917605, 'LightGBM (goss)': 0.12374860648297639, 'XGBoost': 0.7906516488012199, 'AutoGluon': 0.13222424836013524}. Best is trial 70 with value: 0.36620777777777785.\n",
      "[I 2025-06-18 09:38:31,142] Trial 74 finished with value: 0.36610888888888893 and parameters: {'LightGBM (gbdt)': 0.4848712530246827, 'LightGBM (goss)': 0.12846049349039507, 'XGBoost': 0.8938297615968627, 'AutoGluon': 0.12255738138063463}. Best is trial 70 with value: 0.36620777777777785.\n",
      "[I 2025-06-18 09:38:37,101] Trial 77 finished with value: 0.36610733333333334 and parameters: {'LightGBM (gbdt)': 0.48290899655194375, 'LightGBM (goss)': 0.12107542621455694, 'XGBoost': 0.7752328087522464, 'AutoGluon': 0.04397612178259386}. Best is trial 70 with value: 0.36620777777777785.\n",
      "[I 2025-06-18 09:38:37,587] Trial 80 finished with value: 0.3661031111111113 and parameters: {'LightGBM (gbdt)': 0.5031668686221559, 'LightGBM (goss)': 0.08319829070721124, 'XGBoost': 0.7104322836680856, 'AutoGluon': 0.02953957241478852}. Best is trial 70 with value: 0.36620777777777785.\n",
      "[I 2025-06-18 09:38:37,680] Trial 78 finished with value: 0.3660866666666667 and parameters: {'LightGBM (gbdt)': 0.45020430146254775, 'LightGBM (goss)': 0.12021634486380935, 'XGBoost': 0.7926221058672213, 'AutoGluon': 0.03538731164101819}. Best is trial 70 with value: 0.36620777777777785.\n",
      "[I 2025-06-18 09:38:38,228] Trial 79 finished with value: 0.366120222222222 and parameters: {'LightGBM (gbdt)': 0.4941109081233567, 'LightGBM (goss)': 0.10793426625669625, 'XGBoost': 0.7902379425590845, 'AutoGluon': 0.035874236499092785}. Best is trial 70 with value: 0.36620777777777785.\n",
      "[I 2025-06-18 09:38:44,067] Trial 81 finished with value: 0.36604844444444457 and parameters: {'LightGBM (gbdt)': 0.5043502704322469, 'LightGBM (goss)': 0.08832885039593297, 'XGBoost': 0.7032681369601682, 'AutoGluon': 0.0302552575458308}. Best is trial 70 with value: 0.36620777777777785.\n",
      "[I 2025-06-18 09:38:44,543] Trial 84 finished with value: 0.3660468888888889 and parameters: {'LightGBM (gbdt)': 0.4916633548132269, 'LightGBM (goss)': 0.07921918638414178, 'XGBoost': 0.702301063804142, 'AutoGluon': 0.07189999405047226}. Best is trial 70 with value: 0.36620777777777785.\n",
      "[I 2025-06-18 09:38:45,002] Trial 82 finished with value: 0.36602511111111125 and parameters: {'LightGBM (gbdt)': 0.5063936598050235, 'LightGBM (goss)': 0.08060168278556562, 'XGBoost': 0.6985022885346741, 'AutoGluon': 0.07167738454954321}. Best is trial 70 with value: 0.36620777777777785.\n",
      "[I 2025-06-18 09:38:45,829] Trial 83 finished with value: 0.36601400000000006 and parameters: {'LightGBM (gbdt)': 0.5110777675992653, 'LightGBM (goss)': 0.08255438314210208, 'XGBoost': 0.6974536981833108, 'AutoGluon': 0.07799160504836727}. Best is trial 70 with value: 0.36620777777777785.\n",
      "[I 2025-06-18 09:38:49,453] Trial 86 finished with value: 0.3659957777777777 and parameters: {'LightGBM (gbdt)': 0.566193416927924, 'LightGBM (goss)': 0.028796890853394957, 'XGBoost': 0.7637496295367153, 'AutoGluon': 0.07943380926980473}. Best is trial 70 with value: 0.36620777777777785.\n",
      "[I 2025-06-18 09:38:50,253] Trial 85 finished with value: 0.3661186666666668 and parameters: {'LightGBM (gbdt)': 0.4353703059652161, 'LightGBM (goss)': 0.03662687782286729, 'XGBoost': 0.7723417373193547, 'AutoGluon': 0.08648008812344882}. Best is trial 70 with value: 0.36620777777777785.\n",
      "[I 2025-06-18 09:38:50,866] Trial 87 finished with value: 0.3661948888888889 and parameters: {'LightGBM (gbdt)': 0.43832080457508116, 'LightGBM (goss)': 0.027025945237944132, 'XGBoost': 0.7643479023573149, 'AutoGluon': 0.024425144159375058}. Best is trial 70 with value: 0.36620777777777785.\n",
      "[I 2025-06-18 09:38:54,293] Trial 88 finished with value: 0.3662011111111111 and parameters: {'LightGBM (gbdt)': 0.43326062702777374, 'LightGBM (goss)': 0.014954985470156057, 'XGBoost': 0.7765145134186423, 'AutoGluon': 0.02385609303721299}. Best is trial 70 with value: 0.36620777777777785.\n",
      "[I 2025-06-18 09:38:55,872] Trial 91 finished with value: 0.366107111111111 and parameters: {'LightGBM (gbdt)': 0.43980601932617863, 'LightGBM (goss)': 0.008478796818840367, 'XGBoost': 0.8170579577647993, 'AutoGluon': 0.11150077851434977}. Best is trial 70 with value: 0.36620777777777785.\n",
      "[I 2025-06-18 09:38:56,139] Trial 89 finished with value: 0.36622777777777765 and parameters: {'LightGBM (gbdt)': 0.44667351846905134, 'LightGBM (goss)': 0.001980229943110312, 'XGBoost': 0.8097605164090748, 'AutoGluon': 0.02090323366795729}. Best is trial 89 with value: 0.36622777777777765.\n",
      "[I 2025-06-18 09:38:56,195] Trial 90 finished with value: 0.3662119999999999 and parameters: {'LightGBM (gbdt)': 0.4420316940746371, 'LightGBM (goss)': 0.017874381618371196, 'XGBoost': 0.8168345056194225, 'AutoGluon': 0.02412437793341389}. Best is trial 89 with value: 0.36622777777777765.\n",
      "[I 2025-06-18 09:39:02,213] Trial 93 finished with value: 0.36614 and parameters: {'LightGBM (gbdt)': 0.369805369431474, 'LightGBM (goss)': 0.029301662526905095, 'XGBoost': 0.5167790473697272, 'AutoGluon': 0.021055730248988436}. Best is trial 89 with value: 0.36622777777777765.\n",
      "[I 2025-06-18 09:39:02,742] Trial 92 finished with value: 0.3660511111111111 and parameters: {'LightGBM (gbdt)': 0.4421326448890408, 'LightGBM (goss)': 0.0020985210622968334, 'XGBoost': 0.7675163896629592, 'AutoGluon': 0.1154473004358472}. Best is trial 89 with value: 0.36622777777777765.\n",
      "[I 2025-06-18 09:39:02,909] Trial 94 finished with value: 0.36619244444444443 and parameters: {'LightGBM (gbdt)': 0.3744508846555392, 'LightGBM (goss)': 0.030538293118431023, 'XGBoost': 0.5401920682798265, 'AutoGluon': 0.013498124489918693}. Best is trial 89 with value: 0.36622777777777765.\n",
      "[I 2025-06-18 09:39:03,099] Trial 95 finished with value: 0.3662480000000001 and parameters: {'LightGBM (gbdt)': 0.3677776486519799, 'LightGBM (goss)': 0.029590046952321016, 'XGBoost': 0.8733503171367626, 'AutoGluon': 0.017019244234911444}. Best is trial 95 with value: 0.3662480000000001.\n",
      "[I 2025-06-18 09:39:09,233] Trial 96 finished with value: 0.36619466666666683 and parameters: {'LightGBM (gbdt)': 0.3770683454658607, 'LightGBM (goss)': 0.022905276462190517, 'XGBoost': 0.6386295495567671, 'AutoGluon': 0.009392833759329075}. Best is trial 95 with value: 0.3662480000000001.\n",
      "[I 2025-06-18 09:39:09,890] Trial 98 finished with value: 0.36612888888888884 and parameters: {'LightGBM (gbdt)': 0.3667380895669581, 'LightGBM (goss)': 0.041544424769920305, 'XGBoost': 0.5082810507065637, 'AutoGluon': 0.017184599739438314}. Best is trial 95 with value: 0.3662480000000001.\n",
      "[I 2025-06-18 09:39:09,965] Trial 99 finished with value: 0.36623755555555576 and parameters: {'LightGBM (gbdt)': 0.3661926129409887, 'LightGBM (goss)': 0.0216578492704688, 'XGBoost': 0.5510975199730561, 'AutoGluon': 0.014024254049143495}. Best is trial 95 with value: 0.3662480000000001.\n",
      "[I 2025-06-18 09:39:10,556] Trial 97 finished with value: 0.3661864444444444 and parameters: {'LightGBM (gbdt)': 0.36692216172070474, 'LightGBM (goss)': 0.028880892285939194, 'XGBoost': 0.5261598905577436, 'AutoGluon': 0.012324415270251535}. Best is trial 95 with value: 0.3662480000000001.\n",
      "[I 2025-06-18 09:39:16,499] Trial 100 finished with value: 0.3660786666666666 and parameters: {'LightGBM (gbdt)': 0.37388053982322456, 'LightGBM (goss)': 0.0270546413687335, 'XGBoost': 0.49040674791111605, 'AutoGluon': 0.007857635558835842}. Best is trial 95 with value: 0.3662480000000001.\n",
      "[I 2025-06-18 09:39:16,702] Trial 101 finished with value: 0.3662244444444444 and parameters: {'LightGBM (gbdt)': 0.3047334270154287, 'LightGBM (goss)': 0.017067394409025376, 'XGBoost': 0.44376723395055195, 'AutoGluon': 0.009017160107357095}. Best is trial 95 with value: 0.3662480000000001.\n",
      "[I 2025-06-18 09:39:17,059] Trial 102 finished with value: 0.36600466666666676 and parameters: {'LightGBM (gbdt)': 0.38616492032688604, 'LightGBM (goss)': 0.023547017730571423, 'XGBoost': 0.4591991258185484, 'AutoGluon': 0.007244630058616657}. Best is trial 95 with value: 0.3662480000000001.\n",
      "[I 2025-06-18 09:39:17,465] Trial 103 finished with value: 0.3646537777777779 and parameters: {'LightGBM (gbdt)': 0.3061390877995297, 'LightGBM (goss)': 0.925825297716292, 'XGBoost': 0.5565279677951731, 'AutoGluon': 0.06175757341639651}. Best is trial 95 with value: 0.3662480000000001.\n",
      "[I 2025-06-18 09:39:23,445] Trial 105 finished with value: 0.36594666666666664 and parameters: {'LightGBM (gbdt)': 0.31007792349253144, 'LightGBM (goss)': 0.06340437163558882, 'XGBoost': 0.4469084103011826, 'AutoGluon': 0.0628321420372511}. Best is trial 95 with value: 0.3662480000000001.\n",
      "[I 2025-06-18 09:39:23,462] Trial 104 finished with value: 0.36621177777777775 and parameters: {'LightGBM (gbdt)': 0.30910295858547476, 'LightGBM (goss)': 0.01807489644466958, 'XGBoost': 0.5597250244709203, 'AutoGluon': 0.021030780198658446}. Best is trial 95 with value: 0.3662480000000001.\n",
      "[I 2025-06-18 09:39:23,893] Trial 107 finished with value: 0.3661902222222222 and parameters: {'LightGBM (gbdt)': 0.35349564350479323, 'LightGBM (goss)': 0.06078177591311938, 'XGBoost': 0.6348144030295391, 'AutoGluon': 0.00032049025002006334}. Best is trial 95 with value: 0.3662480000000001.\n",
      "[I 2025-06-18 09:39:24,045] Trial 106 finished with value: 0.3661215555555555 and parameters: {'LightGBM (gbdt)': 0.3044400731608083, 'LightGBM (goss)': 0.05930063327998899, 'XGBoost': 0.5494899587685754, 'AutoGluon': 0.05758879188640624}. Best is trial 95 with value: 0.3662480000000001.\n",
      "[I 2025-06-18 09:39:29,601] Trial 108 finished with value: 0.36614511111111103 and parameters: {'LightGBM (gbdt)': 0.41108426559560035, 'LightGBM (goss)': 0.0010848216061327097, 'XGBoost': 0.550141097118566, 'AutoGluon': 0.0009551882381558102}. Best is trial 95 with value: 0.3662480000000001.\n",
      "[I 2025-06-18 09:39:30,007] Trial 109 finished with value: 0.36593355555555557 and parameters: {'LightGBM (gbdt)': 0.413587214373127, 'LightGBM (goss)': 0.0033093850842358004, 'XGBoost': 0.5548121878424842, 'AutoGluon': 0.09520710078186922}. Best is trial 95 with value: 0.3662480000000001.\n",
      "[I 2025-06-18 09:39:30,503] Trial 111 finished with value: 0.36569911111111114 and parameters: {'LightGBM (gbdt)': 0.40644595199236877, 'LightGBM (goss)': 0.004335377059086536, 'XGBoost': 0.43660482242191295, 'AutoGluon': 0.09513949321924917}. Best is trial 95 with value: 0.3662480000000001.\n",
      "[I 2025-06-18 09:39:30,755] Trial 110 finished with value: 0.3659315555555557 and parameters: {'LightGBM (gbdt)': 0.4173647647999258, 'LightGBM (goss)': 0.002637089478348783, 'XGBoost': 0.5532349832426543, 'AutoGluon': 0.09186208813744663}. Best is trial 95 with value: 0.3662480000000001.\n",
      "[I 2025-06-18 09:39:36,336] Trial 112 finished with value: 0.3659457777777778 and parameters: {'LightGBM (gbdt)': 0.42116079316228244, 'LightGBM (goss)': 0.01436612352993452, 'XGBoost': 0.5865736265194461, 'AutoGluon': 0.09548182508711982}. Best is trial 95 with value: 0.3662480000000001.\n",
      "[I 2025-06-18 09:39:36,597] Trial 114 finished with value: 0.3661793333333331 and parameters: {'LightGBM (gbdt)': 0.34990419884516527, 'LightGBM (goss)': 0.058452170558696864, 'XGBoost': 0.6517889682971449, 'AutoGluon': 0.00031950350375228056}. Best is trial 95 with value: 0.3662480000000001.\n",
      "[I 2025-06-18 09:39:36,735] Trial 113 finished with value: 0.3656124444444444 and parameters: {'LightGBM (gbdt)': 0.4253868510416284, 'LightGBM (goss)': 0.044466929769120214, 'XGBoost': 0.4235869796587134, 'AutoGluon': 0.08998037913340862}. Best is trial 95 with value: 0.3662480000000001.\n",
      "[I 2025-06-18 09:39:36,969] Trial 115 finished with value: 0.3661773333333332 and parameters: {'LightGBM (gbdt)': 0.355749082204644, 'LightGBM (goss)': 0.06822313603611481, 'XGBoost': 0.6471141419359685, 'AutoGluon': 0.016109412479457432}. Best is trial 95 with value: 0.3662480000000001.\n",
      "[I 2025-06-18 09:39:43,220] Trial 119 finished with value: 0.36617688888888894 and parameters: {'LightGBM (gbdt)': 0.2359040648070263, 'LightGBM (goss)': 0.0973083414939182, 'XGBoost': 0.6383117191527266, 'AutoGluon': 0.02442410649054917}. Best is trial 95 with value: 0.3662480000000001.\n",
      "[I 2025-06-18 09:39:43,459] Trial 118 finished with value: 0.36612688888888906 and parameters: {'LightGBM (gbdt)': 0.3524942043794066, 'LightGBM (goss)': 0.06639842720060574, 'XGBoost': 0.6231128291569469, 'AutoGluon': 0.029998925754706515}. Best is trial 95 with value: 0.3662480000000001.\n",
      "[I 2025-06-18 09:39:43,699] Trial 117 finished with value: 0.366218 and parameters: {'LightGBM (gbdt)': 0.22251163893865616, 'LightGBM (goss)': 0.06780630904535026, 'XGBoost': 0.6435385397117649, 'AutoGluon': 0.02965232981368203}. Best is trial 95 with value: 0.3662480000000001.\n",
      "[I 2025-06-18 09:39:44,077] Trial 116 finished with value: 0.3661311111111112 and parameters: {'LightGBM (gbdt)': 0.346029484690278, 'LightGBM (goss)': 0.06147112566461728, 'XGBoost': 0.6324332866503052, 'AutoGluon': 0.021065989262173734}. Best is trial 95 with value: 0.3662480000000001.\n",
      "[I 2025-06-18 09:39:50,027] Trial 122 finished with value: 0.36620044444444444 and parameters: {'LightGBM (gbdt)': 0.21198370638290648, 'LightGBM (goss)': 0.04118086614098866, 'XGBoost': 0.48609332936899485, 'AutoGluon': 0.04913919645201632}. Best is trial 95 with value: 0.3662480000000001.\n",
      "[I 2025-06-18 09:39:50,223] Trial 123 finished with value: 0.36620488888888886 and parameters: {'LightGBM (gbdt)': 0.2111532299356273, 'LightGBM (goss)': 0.03719345851416672, 'XGBoost': 0.48269521941139004, 'AutoGluon': 0.056550796368107455}. Best is trial 95 with value: 0.3662480000000001.\n",
      "[I 2025-06-18 09:39:50,436] Trial 120 finished with value: 0.3660842222222221 and parameters: {'LightGBM (gbdt)': 0.3847941563515546, 'LightGBM (goss)': 0.040895093256234034, 'XGBoost': 0.6242499045891241, 'AutoGluon': 0.058690938195284176}. Best is trial 95 with value: 0.3662480000000001.\n",
      "[I 2025-06-18 09:39:51,020] Trial 121 finished with value: 0.36570111111111114 and parameters: {'LightGBM (gbdt)': 0.3883093905644171, 'LightGBM (goss)': 0.040310117261053664, 'XGBoost': 0.3823124563705812, 'AutoGluon': 0.058379990247658456}. Best is trial 95 with value: 0.3662480000000001.\n",
      "[I 2025-06-18 09:39:55,588] Trial 126 finished with value: 0.36302888888888885 and parameters: {'LightGBM (gbdt)': 0.20672537161353288, 'LightGBM (goss)': 0.0971620423164993, 'XGBoost': 0.48869305686679243, 'AutoGluon': 0.4913091562950374}. Best is trial 95 with value: 0.3662480000000001.\n",
      "[I 2025-06-18 09:39:56,208] Trial 125 finished with value: 0.3619897777777779 and parameters: {'LightGBM (gbdt)': 0.22491832361578765, 'LightGBM (goss)': 0.046387548365742715, 'XGBoost': 0.361601270951543, 'AutoGluon': 0.48367744053121775}. Best is trial 95 with value: 0.3662480000000001.\n",
      "[I 2025-06-18 09:39:56,499] Trial 127 finished with value: 0.36270511111111126 and parameters: {'LightGBM (gbdt)': 0.20908342704905244, 'LightGBM (goss)': 0.09897303022179312, 'XGBoost': 0.4859415492735876, 'AutoGluon': 0.5310941438371636}. Best is trial 95 with value: 0.3662480000000001.\n",
      "[I 2025-06-18 09:39:56,674] Trial 124 finished with value: 0.36615177777777774 and parameters: {'LightGBM (gbdt)': 0.20875968507336332, 'LightGBM (goss)': 0.04278278672475216, 'XGBoost': 0.48558501446825963, 'AutoGluon': 0.06064175806815818}. Best is trial 95 with value: 0.3662480000000001.\n",
      "[I 2025-06-18 09:40:03,422] Trial 131 finished with value: 0.35643466666666657 and parameters: {'LightGBM (gbdt)': 0.1251978331826103, 'LightGBM (goss)': 0.07995002824612274, 'XGBoost': 0.4100199800820565, 'AutoGluon': 0.9957763889912439}. Best is trial 95 with value: 0.3662480000000001.\n",
      "[I 2025-06-18 09:40:03,633] Trial 128 finished with value: 0.36625955555555545 and parameters: {'LightGBM (gbdt)': 0.2037556669638451, 'LightGBM (goss)': 0.02039463954864556, 'XGBoost': 0.5766166046862091, 'AutoGluon': 0.04853457335309215}. Best is trial 128 with value: 0.36625955555555545.\n",
      "[I 2025-06-18 09:40:03,790] Trial 129 finished with value: 0.36490111111111095 and parameters: {'LightGBM (gbdt)': 0.20116026205333232, 'LightGBM (goss)': 0.6375097790570952, 'XGBoost': 0.4743197420723132, 'AutoGluon': 0.05131129279227577}. Best is trial 128 with value: 0.36625955555555545.\n",
      "[I 2025-06-18 09:40:04,045] Trial 130 finished with value: 0.35629866666666665 and parameters: {'LightGBM (gbdt)': 0.13676992247752412, 'LightGBM (goss)': 0.01846830720428478, 'XGBoost': 0.40934148643580615, 'AutoGluon': 0.9439481595330239}. Best is trial 128 with value: 0.36625955555555545.\n",
      "[I 2025-06-18 09:40:09,990] Trial 135 finished with value: 0.3662653333333334 and parameters: {'LightGBM (gbdt)': 0.24879345539610292, 'LightGBM (goss)': 0.01793456903997786, 'XGBoost': 0.8648672967065214, 'AutoGluon': 0.037215595008962696}. Best is trial 135 with value: 0.3662653333333334.\n",
      "[I 2025-06-18 09:40:10,380] Trial 133 finished with value: 0.36625777777777774 and parameters: {'LightGBM (gbdt)': 0.23939455489702133, 'LightGBM (goss)': 0.020324485091170727, 'XGBoost': 0.575375630714729, 'AutoGluon': 0.03271826328623455}. Best is trial 135 with value: 0.3662653333333334.\n",
      "[I 2025-06-18 09:40:10,583] Trial 132 finished with value: 0.3651055555555553 and parameters: {'LightGBM (gbdt)': 0.15195185301387115, 'LightGBM (goss)': 0.6557343337743929, 'XGBoost': 0.5790161192015227, 'AutoGluon': 0.045232875965650586}. Best is trial 135 with value: 0.3662653333333334.\n",
      "[I 2025-06-18 09:40:10,733] Trial 134 finished with value: 0.3660797777777776 and parameters: {'LightGBM (gbdt)': 0.14455828362666448, 'LightGBM (goss)': 0.01912096461856632, 'XGBoost': 0.8667110637348657, 'AutoGluon': 0.0364394067613415}. Best is trial 135 with value: 0.3662653333333334.\n",
      "[I 2025-06-18 09:40:16,261] Trial 139 finished with value: 0.3662117777777778 and parameters: {'LightGBM (gbdt)': 0.2350459072848787, 'LightGBM (goss)': 0.07268466371576471, 'XGBoost': 0.904057379726099, 'AutoGluon': 0.11353459300258927}. Best is trial 135 with value: 0.3662653333333334.\n",
      "[I 2025-06-18 09:40:16,573] Trial 137 finished with value: 0.3661882222222223 and parameters: {'LightGBM (gbdt)': 0.24772344304195226, 'LightGBM (goss)': 0.015465502700892312, 'XGBoost': 0.5829038764549835, 'AutoGluon': 0.07914684384213606}. Best is trial 135 with value: 0.3662653333333334.\n",
      "[I 2025-06-18 09:40:17,290] Trial 136 finished with value: 0.3662524444444443 and parameters: {'LightGBM (gbdt)': 0.24609663226610223, 'LightGBM (goss)': 0.02133873710836849, 'XGBoost': 0.8698337834935511, 'AutoGluon': 0.03945020928323522}. Best is trial 135 with value: 0.3662653333333334.\n",
      "[I 2025-06-18 09:40:17,478] Trial 138 finished with value: 0.3661664444444445 and parameters: {'LightGBM (gbdt)': 0.24896190413730435, 'LightGBM (goss)': 0.0004755451278948761, 'XGBoost': 0.8673921488907547, 'AutoGluon': 0.07841916292945224}. Best is trial 135 with value: 0.3662653333333334.\n",
      "[I 2025-06-18 09:40:23,667] Trial 142 finished with value: 0.3657217777777778 and parameters: {'LightGBM (gbdt)': 0.18565199789269352, 'LightGBM (goss)': 0.5218197506856805, 'XGBoost': 0.9076415417138427, 'AutoGluon': 0.12152622804789201}. Best is trial 135 with value: 0.3662653333333334.\n",
      "[I 2025-06-18 09:40:23,981] Trial 140 finished with value: 0.36620533333333344 and parameters: {'LightGBM (gbdt)': 0.28978011445069385, 'LightGBM (goss)': 0.08033688620247378, 'XGBoost': 0.9507762990085771, 'AutoGluon': 0.1199980533508877}. Best is trial 135 with value: 0.3662653333333334.\n",
      "[I 2025-06-18 09:40:24,290] Trial 141 finished with value: 0.3662000000000001 and parameters: {'LightGBM (gbdt)': 0.2901899582908564, 'LightGBM (goss)': 0.07764204979242022, 'XGBoost': 0.9499892504668382, 'AutoGluon': 0.12304958786087151}. Best is trial 135 with value: 0.3662653333333334.\n",
      "[I 2025-06-18 09:40:24,371] Trial 143 finished with value: 0.3657104444444444 and parameters: {'LightGBM (gbdt)': 0.2882698596376282, 'LightGBM (goss)': 0.5338839683758787, 'XGBoost': 0.9037679209129319, 'AutoGluon': 0.12571983379166868}. Best is trial 135 with value: 0.3662653333333334.\n",
      "[I 2025-06-18 09:40:30,055] Trial 146 finished with value: 0.36592933333333333 and parameters: {'LightGBM (gbdt)': 0.06679681286628009, 'LightGBM (goss)': 0.14200083105973899, 'XGBoost': 0.910439457915956, 'AutoGluon': 0.10545084952023062}. Best is trial 135 with value: 0.3662653333333334.\n",
      "[I 2025-06-18 09:40:30,399] Trial 147 finished with value: 0.366062 and parameters: {'LightGBM (gbdt)': 0.09694120566170628, 'LightGBM (goss)': 0.14520391820645834, 'XGBoost': 0.9605317523555973, 'AutoGluon': 0.07097709582833792}. Best is trial 135 with value: 0.3662653333333334.\n",
      "[I 2025-06-18 09:40:30,474] Trial 145 finished with value: 0.3662408888888889 and parameters: {'LightGBM (gbdt)': 0.29389887146093036, 'LightGBM (goss)': 0.07922601449194414, 'XGBoost': 0.9705012733046025, 'AutoGluon': 0.10809835259946209}. Best is trial 135 with value: 0.3662653333333334.\n",
      "[I 2025-06-18 09:40:30,906] Trial 144 finished with value: 0.3656 and parameters: {'LightGBM (gbdt)': 0.28710891089725665, 'LightGBM (goss)': 0.0694048801490621, 'XGBoost': 0.2609235605673366, 'AutoGluon': 0.03225397791945164}. Best is trial 135 with value: 0.3662653333333334.\n",
      "[I 2025-06-18 09:40:36,248] Trial 150 finished with value: 0.36621777777777775 and parameters: {'LightGBM (gbdt)': 0.27123658556053065, 'LightGBM (goss)': 0.10399907471352865, 'XGBoost': 0.96011569085293, 'AutoGluon': 0.03802504396449543}. Best is trial 135 with value: 0.3662653333333334.\n",
      "[I 2025-06-18 09:40:36,624] Trial 148 finished with value: 0.36537488888888897 and parameters: {'LightGBM (gbdt)': 0.2273477584856988, 'LightGBM (goss)': 0.05917404957218514, 'XGBoost': 0.23590548299567848, 'AutoGluon': 0.0717750105079131}. Best is trial 135 with value: 0.3662653333333334.\n",
      "[I 2025-06-18 09:40:36,909] Trial 149 finished with value: 0.3651966666666666 and parameters: {'LightGBM (gbdt)': 0.3226328178788652, 'LightGBM (goss)': 0.10386209451980247, 'XGBoost': 0.9668166400703992, 'AutoGluon': 0.41207255596312214}. Best is trial 135 with value: 0.3662653333333334.\n",
      "[I 2025-06-18 09:40:37,252] Trial 151 finished with value: 0.36623 and parameters: {'LightGBM (gbdt)': 0.3160362637696846, 'LightGBM (goss)': 0.10759687556752646, 'XGBoost': 0.9629466456217036, 'AutoGluon': 0.04202237534799749}. Best is trial 135 with value: 0.3662653333333334.\n",
      "[I 2025-06-18 09:40:42,208] Trial 152 finished with value: 0.366235111111111 and parameters: {'LightGBM (gbdt)': 0.3126069991472211, 'LightGBM (goss)': 0.11065083699075866, 'XGBoost': 0.9714937706293061, 'AutoGluon': 0.03833891570680201}. Best is trial 135 with value: 0.3662653333333334.\n",
      "[I 2025-06-18 09:40:42,807] Trial 155 finished with value: 0.3662533333333333 and parameters: {'LightGBM (gbdt)': 0.25853364271547674, 'LightGBM (goss)': 0.10413475551759699, 'XGBoost': 0.8845776555113973, 'AutoGluon': 0.03710390208082359}. Best is trial 135 with value: 0.3662653333333334.\n",
      "[I 2025-06-18 09:40:43,134] Trial 154 finished with value: 0.3662220000000001 and parameters: {'LightGBM (gbdt)': 0.2698679432102243, 'LightGBM (goss)': 0.09312009263905306, 'XGBoost': 0.9481996955726533, 'AutoGluon': 0.03917135550791573}. Best is trial 135 with value: 0.3662653333333334.\n",
      "[I 2025-06-18 09:40:43,196] Trial 153 finished with value: 0.3662099999999999 and parameters: {'LightGBM (gbdt)': 0.3143865806220183, 'LightGBM (goss)': 0.10027306965076564, 'XGBoost': 0.8760521716779878, 'AutoGluon': 0.036590231394563855}. Best is trial 135 with value: 0.3662653333333334.\n",
      "[I 2025-06-18 09:40:48,984] Trial 156 finished with value: 0.3661986666666667 and parameters: {'LightGBM (gbdt)': 0.2660409056462819, 'LightGBM (goss)': 0.05439276005563143, 'XGBoost': 0.9767267890570016, 'AutoGluon': 0.033687493511355124}. Best is trial 135 with value: 0.3662653333333334.\n",
      "[I 2025-06-18 09:40:49,136] Trial 159 finished with value: 0.36616555555555536 and parameters: {'LightGBM (gbdt)': 0.26725539111187624, 'LightGBM (goss)': 0.16675829430105835, 'XGBoost': 0.9649674878261928, 'AutoGluon': 0.0018712656141348025}. Best is trial 135 with value: 0.3662653333333334.\n",
      "[I 2025-06-18 09:40:49,792] Trial 157 finished with value: 0.36619177777777784 and parameters: {'LightGBM (gbdt)': 0.2621255974668554, 'LightGBM (goss)': 0.13005744027899477, 'XGBoost': 0.9726150728260655, 'AutoGluon': 0.038018849192213364}. Best is trial 135 with value: 0.3662653333333334.\n",
      "[I 2025-06-18 09:40:50,335] Trial 158 finished with value: 0.3661633333333332 and parameters: {'LightGBM (gbdt)': 0.2633682081306929, 'LightGBM (goss)': 0.053144558230437566, 'XGBoost': 0.9898827428104278, 'AutoGluon': 0.000428871554968388}. Best is trial 135 with value: 0.3662653333333334.\n",
      "[I 2025-06-18 09:40:56,476] Trial 161 finished with value: 0.3662571111111111 and parameters: {'LightGBM (gbdt)': 0.2533375890772874, 'LightGBM (goss)': 0.1255039912076753, 'XGBoost': 0.9386491287233446, 'AutoGluon': 0.07772789440460694}. Best is trial 135 with value: 0.3662653333333334.\n",
      "[I 2025-06-18 09:40:56,660] Trial 160 finished with value: 0.36614622222222226 and parameters: {'LightGBM (gbdt)': 0.2596362468449561, 'LightGBM (goss)': 0.17225141808211783, 'XGBoost': 0.9970894539018951, 'AutoGluon': 0.003588542338751749}. Best is trial 135 with value: 0.3662653333333334.\n",
      "[I 2025-06-18 09:40:56,895] Trial 163 finished with value: 0.36623577777777766 and parameters: {'LightGBM (gbdt)': 0.24438662084365212, 'LightGBM (goss)': 0.120212601740387, 'XGBoost': 0.9367817568630421, 'AutoGluon': 0.06303402476694375}. Best is trial 135 with value: 0.3662653333333334.\n",
      "[I 2025-06-18 09:40:57,145] Trial 162 finished with value: 0.3662508888888889 and parameters: {'LightGBM (gbdt)': 0.2469664656407257, 'LightGBM (goss)': 0.12728065740779054, 'XGBoost': 0.9951158271921412, 'AutoGluon': 0.08018162519475816}. Best is trial 135 with value: 0.3662653333333334.\n",
      "[I 2025-06-18 09:41:02,224] Trial 165 finished with value: 0.3662313333333334 and parameters: {'LightGBM (gbdt)': 0.24240046929738246, 'LightGBM (goss)': 0.1156497630721426, 'XGBoost': 0.9418106511822741, 'AutoGluon': 0.06020048993737953}. Best is trial 135 with value: 0.3662653333333334.\n",
      "[I 2025-06-18 09:41:03,056] Trial 167 finished with value: 0.36623533333333347 and parameters: {'LightGBM (gbdt)': 0.2393503593901522, 'LightGBM (goss)': 0.12428132096406563, 'XGBoost': 0.9325666662224257, 'AutoGluon': 0.07902029007919333}. Best is trial 135 with value: 0.3662653333333334.\n",
      "[I 2025-06-18 09:41:03,179] Trial 164 finished with value: 0.3662504444444445 and parameters: {'LightGBM (gbdt)': 0.2508016516661572, 'LightGBM (goss)': 0.12219461517980004, 'XGBoost': 0.9377920148959824, 'AutoGluon': 0.07980489787940966}. Best is trial 135 with value: 0.3662653333333334.\n",
      "[I 2025-06-18 09:41:03,333] Trial 166 finished with value: 0.36628355555555564 and parameters: {'LightGBM (gbdt)': 0.18613627982589664, 'LightGBM (goss)': 0.11644235625261029, 'XGBoost': 0.9214408654795488, 'AutoGluon': 0.0816090849627869}. Best is trial 166 with value: 0.36628355555555564.\n",
      "[I 2025-06-18 09:41:08,439] Trial 168 finished with value: 0.3662115555555555 and parameters: {'LightGBM (gbdt)': 0.19113308684495048, 'LightGBM (goss)': 0.14013604628192963, 'XGBoost': 0.9363836738576015, 'AutoGluon': 0.08331177815682816}. Best is trial 166 with value: 0.36628355555555564.\n",
      "[I 2025-06-18 09:41:09,313] Trial 170 finished with value: 0.36625222222222226 and parameters: {'LightGBM (gbdt)': 0.1800901984343466, 'LightGBM (goss)': 0.13894590939552776, 'XGBoost': 0.926264819927656, 'AutoGluon': 0.08189515563659684}. Best is trial 166 with value: 0.36628355555555564.\n",
      "[I 2025-06-18 09:41:09,671] Trial 171 finished with value: 0.3661913333333333 and parameters: {'LightGBM (gbdt)': 0.18897959614870266, 'LightGBM (goss)': 0.13618847678145707, 'XGBoost': 0.9170463738967781, 'AutoGluon': 0.09258204581976612}. Best is trial 166 with value: 0.36628355555555564.\n",
      "[I 2025-06-18 09:41:09,818] Trial 169 finished with value: 0.3661988888888889 and parameters: {'LightGBM (gbdt)': 0.18965971559616385, 'LightGBM (goss)': 0.13913868769547347, 'XGBoost': 0.9203359000204905, 'AutoGluon': 0.08946202305727241}. Best is trial 166 with value: 0.36628355555555564.\n",
      "[I 2025-06-18 09:41:15,356] Trial 173 finished with value: 0.36622688888888877 and parameters: {'LightGBM (gbdt)': 0.23056898296847128, 'LightGBM (goss)': 0.1547683879657305, 'XGBoost': 0.9266739157291847, 'AutoGluon': 0.09597616397586863}. Best is trial 166 with value: 0.36628355555555564.\n",
      "[I 2025-06-18 09:41:15,484] Trial 172 finished with value: 0.3662628888888887 and parameters: {'LightGBM (gbdt)': 0.24276113033706784, 'LightGBM (goss)': 0.12628332388221614, 'XGBoost': 0.9216174990372226, 'AutoGluon': 0.09996128985685675}. Best is trial 166 with value: 0.36628355555555564.\n",
      "[I 2025-06-18 09:41:16,176] Trial 175 finished with value: 0.36623644444444436 and parameters: {'LightGBM (gbdt)': 0.2436905307182827, 'LightGBM (goss)': 0.15901194937027788, 'XGBoost': 0.9394439454036947, 'AutoGluon': 0.06761492287826407}. Best is trial 166 with value: 0.36628355555555564.\n",
      "[I 2025-06-18 09:41:16,854] Trial 174 finished with value: 0.36616466666666675 and parameters: {'LightGBM (gbdt)': 0.1667255767876069, 'LightGBM (goss)': 0.21592240037108965, 'XGBoost': 0.9324056674997886, 'AutoGluon': 0.0688141229592728}. Best is trial 166 with value: 0.36628355555555564.\n",
      "[I 2025-06-18 09:41:21,291] Trial 176 finished with value: 0.36624955555555566 and parameters: {'LightGBM (gbdt)': 0.24771398261728167, 'LightGBM (goss)': 0.12228580941340418, 'XGBoost': 0.9469485768862447, 'AutoGluon': 0.06728430525519423}. Best is trial 166 with value: 0.36628355555555564.\n",
      "[I 2025-06-18 09:41:22,037] Trial 177 finished with value: 0.36609311111111115 and parameters: {'LightGBM (gbdt)': 0.16658332469389092, 'LightGBM (goss)': 0.11855875883216142, 'XGBoost': 0.882670247692385, 'AutoGluon': 0.1386438788699124}. Best is trial 166 with value: 0.36628355555555564.\n",
      "[I 2025-06-18 09:41:22,804] Trial 178 finished with value: 0.3661580000000001 and parameters: {'LightGBM (gbdt)': 0.16616824368915506, 'LightGBM (goss)': 0.21757601244752728, 'XGBoost': 0.895538099551005, 'AutoGluon': 0.07221598412723389}. Best is trial 166 with value: 0.36628355555555564.\n",
      "[I 2025-06-18 09:41:26,765] Trial 179 finished with value: 0.3660864444444443 and parameters: {'LightGBM (gbdt)': 0.23988143457121264, 'LightGBM (goss)': 0.1577456137274676, 'XGBoost': 0.8872003440532408, 'AutoGluon': 0.14282699370755497}. Best is trial 166 with value: 0.36628355555555564.\n",
      "[I 2025-06-18 09:41:27,592] Trial 180 finished with value: 0.36611800000000005 and parameters: {'LightGBM (gbdt)': 0.23790096597586738, 'LightGBM (goss)': 0.15373555693379654, 'XGBoost': 0.8874750265805187, 'AutoGluon': 0.14257468942853796}. Best is trial 166 with value: 0.36628355555555564.\n",
      "[I 2025-06-18 09:41:27,999] Trial 182 finished with value: 0.3659762222222223 and parameters: {'LightGBM (gbdt)': 0.2384405568812168, 'LightGBM (goss)': 0.16497649367851652, 'XGBoost': 0.8587375822579737, 'AutoGluon': 0.17767430579369342}. Best is trial 166 with value: 0.36628355555555564.\n",
      "[I 2025-06-18 09:41:28,348] Trial 181 finished with value: 0.36608844444444455 and parameters: {'LightGBM (gbdt)': 0.24637750447666382, 'LightGBM (goss)': 0.19705465308463715, 'XGBoost': 0.8478666036283214, 'AutoGluon': 0.10638569658116129}. Best is trial 166 with value: 0.36628355555555564.\n",
      "[I 2025-06-18 09:41:33,352] Trial 183 finished with value: 0.3659106666666665 and parameters: {'LightGBM (gbdt)': 0.2160973693705429, 'LightGBM (goss)': 0.19067347112762217, 'XGBoost': 0.8558766087710616, 'AutoGluon': 0.1795186940915705}. Best is trial 166 with value: 0.36628355555555564.\n",
      "[I 2025-06-18 09:41:33,658] Trial 186 finished with value: 0.3662417777777776 and parameters: {'LightGBM (gbdt)': 0.21095831183176678, 'LightGBM (goss)': 0.1228285525084173, 'XGBoost': 0.9456354876556882, 'AutoGluon': 0.07938272862664716}. Best is trial 166 with value: 0.36628355555555564.\n",
      "[I 2025-06-18 09:41:33,868] Trial 185 finished with value: 0.3661808888888889 and parameters: {'LightGBM (gbdt)': 0.21238890064963173, 'LightGBM (goss)': 0.1906820977874778, 'XGBoost': 0.9991900195260545, 'AutoGluon': 0.10748314368423828}. Best is trial 166 with value: 0.36628355555555564.\n",
      "[I 2025-06-18 09:41:34,154] Trial 184 finished with value: 0.36606733333333336 and parameters: {'LightGBM (gbdt)': 0.2198834048667326, 'LightGBM (goss)': 0.12572868270782478, 'XGBoost': 0.9995505318366574, 'AutoGluon': 0.17846300971855128}. Best is trial 166 with value: 0.36628355555555564.\n",
      "[I 2025-06-18 09:41:39,820] Trial 189 finished with value: 0.366252888888889 and parameters: {'LightGBM (gbdt)': 0.19054569945887326, 'LightGBM (goss)': 0.12839280223230526, 'XGBoost': 0.9176797007111738, 'AutoGluon': 0.06736410116794296}. Best is trial 166 with value: 0.36628355555555564.\n",
      "[I 2025-06-18 09:41:40,746] Trial 190 finished with value: 0.3662533333333333 and parameters: {'LightGBM (gbdt)': 0.1874426714537194, 'LightGBM (goss)': 0.13364509093865265, 'XGBoost': 0.947218351120855, 'AutoGluon': 0.07619652909164026}. Best is trial 166 with value: 0.36628355555555564.\n",
      "[I 2025-06-18 09:41:40,912] Trial 188 finished with value: 0.36626466666666657 and parameters: {'LightGBM (gbdt)': 0.2194422323465435, 'LightGBM (goss)': 0.12479926765043149, 'XGBoost': 0.9463835605754247, 'AutoGluon': 0.10692961712479108}. Best is trial 166 with value: 0.36628355555555564.\n",
      "[I 2025-06-18 09:41:41,132] Trial 187 finished with value: 0.36624577777777767 and parameters: {'LightGBM (gbdt)': 0.21842503029696994, 'LightGBM (goss)': 0.13110786446455905, 'XGBoost': 0.9814970373561487, 'AutoGluon': 0.07899096768708255}. Best is trial 166 with value: 0.36628355555555564.\n",
      "[I 2025-06-18 09:41:47,384] Trial 191 finished with value: 0.36630466666666683 and parameters: {'LightGBM (gbdt)': 0.18916536291752262, 'LightGBM (goss)': 0.08866570609990487, 'XGBoost': 0.9179264572257165, 'AutoGluon': 0.06587259101018589}. Best is trial 191 with value: 0.36630466666666683.\n",
      "[I 2025-06-18 09:41:47,889] Trial 192 finished with value: 0.36618911111111124 and parameters: {'LightGBM (gbdt)': 0.19143377595163114, 'LightGBM (goss)': 0.1722738185695955, 'XGBoost': 0.9143889244748378, 'AutoGluon': 0.08328818224696297}. Best is trial 191 with value: 0.36630466666666683.\n",
      "[I 2025-06-18 09:41:47,972] Trial 194 finished with value: 0.36620777777777785 and parameters: {'LightGBM (gbdt)': 0.18996333706801263, 'LightGBM (goss)': 0.1408743604696728, 'XGBoost': 0.9134650614500697, 'AutoGluon': 0.10304111471841376}. Best is trial 191 with value: 0.36630466666666683.\n",
      "[I 2025-06-18 09:41:48,306] Trial 193 finished with value: 0.3662471111111111 and parameters: {'LightGBM (gbdt)': 0.19629129504772377, 'LightGBM (goss)': 0.0866021303105233, 'XGBoost': 0.910542122217841, 'AutoGluon': 0.1047815921560889}. Best is trial 191 with value: 0.36630466666666683.\n",
      "[I 2025-06-18 09:41:53,637] Trial 195 finished with value: 0.36620866666666674 and parameters: {'LightGBM (gbdt)': 0.18718439541076773, 'LightGBM (goss)': 0.138578335478027, 'XGBoost': 0.9187818800703581, 'AutoGluon': 0.10501697990353648}. Best is trial 191 with value: 0.36630466666666683.\n",
      "[I 2025-06-18 09:41:54,051] Trial 196 finished with value: 0.36613844444444443 and parameters: {'LightGBM (gbdt)': 0.1522452251715036, 'LightGBM (goss)': 0.07991383706273245, 'XGBoost': 0.9546119883627932, 'AutoGluon': 0.10789319274395882}. Best is trial 191 with value: 0.36630466666666683.\n",
      "[I 2025-06-18 09:41:54,274] Trial 197 finished with value: 0.36608755555555555 and parameters: {'LightGBM (gbdt)': 0.14180534911773562, 'LightGBM (goss)': 0.09279552091295679, 'XGBoost': 0.9775847458989263, 'AutoGluon': 0.11168611651758029}. Best is trial 191 with value: 0.36630466666666683.\n",
      "[I 2025-06-18 09:41:54,490] Trial 198 finished with value: 0.3662295555555556 and parameters: {'LightGBM (gbdt)': 0.14946898261207234, 'LightGBM (goss)': 0.08875206521106757, 'XGBoost': 0.9081190082238759, 'AutoGluon': 0.05772196767180837}. Best is trial 191 with value: 0.36630466666666683.\n",
      "[I 2025-06-18 09:42:01,362] Trial 200 finished with value: 0.3662751111111112 and parameters: {'LightGBM (gbdt)': 0.1695560956275227, 'LightGBM (goss)': 0.09462758752460163, 'XGBoost': 0.9040613163576191, 'AutoGluon': 0.05859216268639355}. Best is trial 191 with value: 0.36630466666666683.\n",
      "[I 2025-06-18 09:42:01,418] Trial 201 finished with value: 0.3662526666666666 and parameters: {'LightGBM (gbdt)': 0.1763595650381608, 'LightGBM (goss)': 0.11947821229405998, 'XGBoost': 0.9074058437585693, 'AutoGluon': 0.061445058630559574}. Best is trial 191 with value: 0.36630466666666683.\n",
      "[I 2025-06-18 09:42:01,574] Trial 202 finished with value: 0.3662744444444444 and parameters: {'LightGBM (gbdt)': 0.17416377756864254, 'LightGBM (goss)': 0.10925617523476186, 'XGBoost': 0.8781477964151404, 'AutoGluon': 0.08733835168293433}. Best is trial 191 with value: 0.36630466666666683.\n",
      "[I 2025-06-18 09:42:01,643] Trial 199 finished with value: 0.3662122222222223 and parameters: {'LightGBM (gbdt)': 0.1369102187248985, 'LightGBM (goss)': 0.09080533105861402, 'XGBoost': 0.9558719286621999, 'AutoGluon': 0.058027089072267765}. Best is trial 191 with value: 0.36630466666666683.\n",
      "[I 2025-06-18 09:42:07,724] Trial 203 finished with value: 0.36625777777777785 and parameters: {'LightGBM (gbdt)': 0.1776782825116642, 'LightGBM (goss)': 0.11087789197110758, 'XGBoost': 0.8748133395327059, 'AutoGluon': 0.05622956959468297}. Best is trial 191 with value: 0.36630466666666683.\n",
      "[I 2025-06-18 09:42:08,045] Trial 204 finished with value: 0.3662644444444444 and parameters: {'LightGBM (gbdt)': 0.17305973473534722, 'LightGBM (goss)': 0.11055069967817335, 'XGBoost': 0.8783632427383673, 'AutoGluon': 0.05896105826474602}. Best is trial 191 with value: 0.36630466666666683.\n",
      "[I 2025-06-18 09:42:08,480] Trial 206 finished with value: 0.36615511111111115 and parameters: {'LightGBM (gbdt)': 0.0993910314882589, 'LightGBM (goss)': 0.11262370886810508, 'XGBoost': 0.8699589158693564, 'AutoGluon': 0.05533232732312206}. Best is trial 191 with value: 0.36630466666666683.\n",
      "[I 2025-06-18 09:42:08,549] Trial 205 finished with value: 0.36626266666666674 and parameters: {'LightGBM (gbdt)': 0.17209219613937216, 'LightGBM (goss)': 0.10904829633927138, 'XGBoost': 0.8701813926191251, 'AutoGluon': 0.054835455734195654}. Best is trial 191 with value: 0.36630466666666683.\n",
      "[I 2025-06-18 09:42:14,334] Trial 210 finished with value: 0.3662786666666666 and parameters: {'LightGBM (gbdt)': 0.1717568413634961, 'LightGBM (goss)': 0.10733600741516376, 'XGBoost': 0.8902011157912497, 'AutoGluon': 0.08690924994927496}. Best is trial 191 with value: 0.36630466666666683.\n",
      "[I 2025-06-18 09:42:14,918] Trial 207 finished with value: 0.36625777777777774 and parameters: {'LightGBM (gbdt)': 0.17140364560060556, 'LightGBM (goss)': 0.11097909399827344, 'XGBoost': 0.8354402743375968, 'AutoGluon': 0.05426674480606587}. Best is trial 191 with value: 0.36630466666666683.\n",
      "[I 2025-06-18 09:42:15,053] Trial 209 finished with value: 0.36621933333333334 and parameters: {'LightGBM (gbdt)': 0.17262309243902849, 'LightGBM (goss)': 0.14669749203967006, 'XGBoost': 0.8356250772484319, 'AutoGluon': 0.05489175240663423}. Best is trial 191 with value: 0.36630466666666683.\n",
      "[I 2025-06-18 09:42:15,284] Trial 208 finished with value: 0.36612333333333336 and parameters: {'LightGBM (gbdt)': 0.11063726729720946, 'LightGBM (goss)': 0.1144170387274248, 'XGBoost': 0.8725934013281686, 'AutoGluon': 0.05290415625121534}. Best is trial 191 with value: 0.36630466666666683.\n",
      "[I 2025-06-18 09:42:20,930] Trial 213 finished with value: 0.36550888888888877 and parameters: {'LightGBM (gbdt)': 0.11628181748949994, 'LightGBM (goss)': 0.7690980208482493, 'XGBoost': 0.8741288711723221, 'AutoGluon': 0.05244542287804336}. Best is trial 191 with value: 0.36630466666666683.\n",
      "[I 2025-06-18 09:42:21,490] Trial 214 finished with value: 0.36628688888888883 and parameters: {'LightGBM (gbdt)': 0.16949189728737504, 'LightGBM (goss)': 0.10630852884098871, 'XGBoost': 0.8830970033080756, 'AutoGluon': 0.08996173809904956}. Best is trial 191 with value: 0.36630466666666683.\n",
      "[I 2025-06-18 09:42:21,654] Trial 212 finished with value: 0.36627133333333334 and parameters: {'LightGBM (gbdt)': 0.16928250148702126, 'LightGBM (goss)': 0.10555140607662052, 'XGBoost': 0.836042535276975, 'AutoGluon': 0.05240180458060651}. Best is trial 191 with value: 0.36630466666666683.\n",
      "[I 2025-06-18 09:42:21,953] Trial 211 finished with value: 0.3661853333333331 and parameters: {'LightGBM (gbdt)': 0.17008005511476337, 'LightGBM (goss)': 0.15155060602007622, 'XGBoost': 0.831994943932178, 'AutoGluon': 0.08463905705397333}. Best is trial 191 with value: 0.36630466666666683.\n",
      "[I 2025-06-18 09:42:27,772] Trial 215 finished with value: 0.3628148888888889 and parameters: {'LightGBM (gbdt)': 0.17322518287011548, 'LightGBM (goss)': 0.10622501737904945, 'XGBoost': 0.8894214315209534, 'AutoGluon': 0.7858472577576382}. Best is trial 191 with value: 0.36630466666666683.\n",
      "[I 2025-06-18 09:42:28,468] Trial 218 finished with value: 0.3662559999999999 and parameters: {'LightGBM (gbdt)': 0.15563488581041335, 'LightGBM (goss)': 0.09853032979840812, 'XGBoost': 0.8486191194832696, 'AutoGluon': 0.05133536034572984}. Best is trial 191 with value: 0.36630466666666683.\n",
      "[I 2025-06-18 09:42:28,641] Trial 217 finished with value: 0.36626622222222216 and parameters: {'LightGBM (gbdt)': 0.15999771277758548, 'LightGBM (goss)': 0.10273110426445736, 'XGBoost': 0.8433229229884277, 'AutoGluon': 0.04771915589341243}. Best is trial 191 with value: 0.36630466666666683.\n",
      "[I 2025-06-18 09:42:28,842] Trial 216 finished with value: 0.3661917777777777 and parameters: {'LightGBM (gbdt)': 0.1706428644426709, 'LightGBM (goss)': 0.1497131075844829, 'XGBoost': 0.8425515793772391, 'AutoGluon': 0.09240735474479143}. Best is trial 191 with value: 0.36630466666666683.\n",
      "[I 2025-06-18 09:42:34,600] Trial 219 finished with value: 0.36621066666666674 and parameters: {'LightGBM (gbdt)': 0.14612525160069237, 'LightGBM (goss)': 0.09801847907326429, 'XGBoost': 0.8523404741300804, 'AutoGluon': 0.04731000690342084}. Best is trial 191 with value: 0.36630466666666683.\n",
      "[I 2025-06-18 09:42:34,947] Trial 221 finished with value: 0.3658546666666667 and parameters: {'LightGBM (gbdt)': 0.00499089131540309, 'LightGBM (goss)': 0.09649089546179243, 'XGBoost': 0.849816002928496, 'AutoGluon': 0.04839289347924734}. Best is trial 191 with value: 0.36630466666666683.\n",
      "[I 2025-06-18 09:42:35,415] Trial 220 finished with value: 0.36528133333333335 and parameters: {'LightGBM (gbdt)': 0.15207850974321888, 'LightGBM (goss)': 0.09377818701800081, 'XGBoost': 0.8341197745924066, 'AutoGluon': 0.30864372462931483}. Best is trial 191 with value: 0.36630466666666683.\n",
      "[I 2025-06-18 09:42:35,683] Trial 222 finished with value: 0.3660942222222223 and parameters: {'LightGBM (gbdt)': 0.13359297961970248, 'LightGBM (goss)': 0.10018796522534146, 'XGBoost': 0.8074551428215316, 'AutoGluon': 0.13227410139514756}. Best is trial 191 with value: 0.36630466666666683.\n",
      "[I 2025-06-18 09:42:41,481] Trial 224 finished with value: 0.3662104444444444 and parameters: {'LightGBM (gbdt)': 0.13329305296791694, 'LightGBM (goss)': 0.10419646470131355, 'XGBoost': 0.8100874805353839, 'AutoGluon': 0.06599506310074504}. Best is trial 191 with value: 0.36630466666666683.\n",
      "[I 2025-06-18 09:42:41,874] Trial 225 finished with value: 0.3662251111111111 and parameters: {'LightGBM (gbdt)': 0.12281911521115456, 'LightGBM (goss)': 0.10982424368583486, 'XGBoost': 0.8169829326960879, 'AutoGluon': 0.0746339193779648}. Best is trial 191 with value: 0.36630466666666683.\n",
      "[I 2025-06-18 09:42:42,398] Trial 223 finished with value: 0.3662453333333335 and parameters: {'LightGBM (gbdt)': 0.15622066394705408, 'LightGBM (goss)': 0.1058729368153901, 'XGBoost': 0.8161478373885607, 'AutoGluon': 0.06715785193968124}. Best is trial 191 with value: 0.36630466666666683.\n",
      "[I 2025-06-18 09:42:42,569] Trial 226 finished with value: 0.3662515555555555 and parameters: {'LightGBM (gbdt)': 0.15736944707166328, 'LightGBM (goss)': 0.07526738681298745, 'XGBoost': 0.8953377533128979, 'AutoGluon': 0.06516318320687917}. Best is trial 191 with value: 0.36630466666666683.\n",
      "[I 2025-06-18 09:42:48,230] Trial 229 finished with value: 0.3661866666666666 and parameters: {'LightGBM (gbdt)': 0.1993126969666916, 'LightGBM (goss)': 0.07058238181911425, 'XGBoost': 0.8961777687325264, 'AutoGluon': 0.024936939206894153}. Best is trial 191 with value: 0.36630466666666683.\n",
      "[I 2025-06-18 09:42:48,406] Trial 227 finished with value: 0.36625733333333343 and parameters: {'LightGBM (gbdt)': 0.15621692932521827, 'LightGBM (goss)': 0.0712113347562876, 'XGBoost': 0.8835460774161448, 'AutoGluon': 0.06583348054529717}. Best is trial 191 with value: 0.36630466666666683.\n",
      "[I 2025-06-18 09:42:48,733] Trial 230 finished with value: 0.36619822222222226 and parameters: {'LightGBM (gbdt)': 0.19548122763249273, 'LightGBM (goss)': 0.06766112110676209, 'XGBoost': 0.8970489558119793, 'AutoGluon': 0.030194457792391213}. Best is trial 191 with value: 0.36630466666666683.\n",
      "[I 2025-06-18 09:42:48,855] Trial 228 finished with value: 0.3660126666666668 and parameters: {'LightGBM (gbdt)': 0.07967124466433485, 'LightGBM (goss)': 0.07429772040088448, 'XGBoost': 0.8945442439669512, 'AutoGluon': 0.0314661688672155}. Best is trial 191 with value: 0.36630466666666683.\n",
      "[I 2025-06-18 09:42:53,885] Trial 233 finished with value: 0.3661162222222222 and parameters: {'LightGBM (gbdt)': 0.16175960739306477, 'LightGBM (goss)': 0.05469597855411766, 'XGBoost': 0.8782995073400788, 'AutoGluon': 0.08970017380530185}. Best is trial 191 with value: 0.36630466666666683.\n",
      "[I 2025-06-18 09:42:54,514] Trial 231 finished with value: 0.36617977777777777 and parameters: {'LightGBM (gbdt)': 0.18210075827179178, 'LightGBM (goss)': 0.1271945911417528, 'XGBoost': 0.8749399347421154, 'AutoGluon': 0.029609474014207236}. Best is trial 191 with value: 0.36630466666666683.\n",
      "[I 2025-06-18 09:42:54,857] Trial 234 finished with value: 0.3662053333333333 and parameters: {'LightGBM (gbdt)': 0.17846227412480176, 'LightGBM (goss)': 0.1314973093973849, 'XGBoost': 0.866816891810422, 'AutoGluon': 0.09534809112025484}. Best is trial 191 with value: 0.36630466666666683.\n",
      "[I 2025-06-18 09:42:55,708] Trial 232 finished with value: 0.3659635555555555 and parameters: {'LightGBM (gbdt)': 0.07878378439892368, 'LightGBM (goss)': 0.060657990861383036, 'XGBoost': 0.8636615248233955, 'AutoGluon': 0.09495639996796054}. Best is trial 191 with value: 0.36630466666666683.\n",
      "[I 2025-06-18 09:43:01,591] Trial 237 finished with value: 0.3662604444444445 and parameters: {'LightGBM (gbdt)': 0.20275390228557819, 'LightGBM (goss)': 0.08634721807260826, 'XGBoost': 0.9068641065622943, 'AutoGluon': 0.054571742698198644}. Best is trial 191 with value: 0.36630466666666683.\n",
      "[I 2025-06-18 09:43:01,639] Trial 235 finished with value: 0.36621377777777775 and parameters: {'LightGBM (gbdt)': 0.17923927507436924, 'LightGBM (goss)': 0.1272253397531943, 'XGBoost': 0.8617902304415719, 'AutoGluon': 0.04774820267947261}. Best is trial 191 with value: 0.36630466666666683.\n",
      "[I 2025-06-18 09:43:02,460] Trial 236 finished with value: 0.3662435555555556 and parameters: {'LightGBM (gbdt)': 0.1751595597584189, 'LightGBM (goss)': 0.11561371078976719, 'XGBoost': 0.851186659982297, 'AutoGluon': 0.05003638116203463}. Best is trial 191 with value: 0.36630466666666683.\n",
      "[I 2025-06-18 09:43:02,617] Trial 238 finished with value: 0.3662748888888888 and parameters: {'LightGBM (gbdt)': 0.1994758693952905, 'LightGBM (goss)': 0.08995220638789406, 'XGBoost': 0.8498946459090526, 'AutoGluon': 0.04865855580010427}. Best is trial 191 with value: 0.36630466666666683.\n",
      "[I 2025-06-18 09:43:07,503] Trial 239 finished with value: 0.3659173333333334 and parameters: {'LightGBM (gbdt)': 0.20532406153371244, 'LightGBM (goss)': 0.4189825758467902, 'XGBoost': 0.83781953753961, 'AutoGluon': 0.047536760491418695}. Best is trial 191 with value: 0.36630466666666683.\n",
      "[I 2025-06-18 09:43:07,985] Trial 240 finished with value: 0.3658648888888889 and parameters: {'LightGBM (gbdt)': 0.20304367831067996, 'LightGBM (goss)': 0.4688838386107929, 'XGBoost': 0.8352574213240748, 'AutoGluon': 0.0458358442826258}. Best is trial 191 with value: 0.36630466666666683.\n",
      "[I 2025-06-18 09:43:08,990] Trial 241 finished with value: 0.36626999999999993 and parameters: {'LightGBM (gbdt)': 0.2050416853049175, 'LightGBM (goss)': 0.08644644805717816, 'XGBoost': 0.8911446956726121, 'AutoGluon': 0.07242729927980558}. Best is trial 191 with value: 0.36630466666666683.\n",
      "[I 2025-06-18 09:43:09,074] Trial 242 finished with value: 0.3662453333333333 and parameters: {'LightGBM (gbdt)': 0.20905496547631258, 'LightGBM (goss)': 0.08550158410583772, 'XGBoost': 0.8369806907497013, 'AutoGluon': 0.04377418580021927}. Best is trial 191 with value: 0.36630466666666683.\n",
      "[I 2025-06-18 09:43:14,401] Trial 244 finished with value: 0.36622822222222223 and parameters: {'LightGBM (gbdt)': 0.14851183055107442, 'LightGBM (goss)': 0.08652826965063559, 'XGBoost': 0.8856331534620115, 'AutoGluon': 0.07343268257692265}. Best is trial 191 with value: 0.36630466666666683.\n",
      "[I 2025-06-18 09:43:14,955] Trial 246 finished with value: 0.3662499999999999 and parameters: {'LightGBM (gbdt)': 0.15537370932324976, 'LightGBM (goss)': 0.08867303482268801, 'XGBoost': 0.8833261866720771, 'AutoGluon': 0.07902321577466456}. Best is trial 191 with value: 0.36630466666666683.\n",
      "[I 2025-06-18 09:43:15,319] Trial 243 finished with value: 0.3661873333333334 and parameters: {'LightGBM (gbdt)': 0.2098088885993025, 'LightGBM (goss)': 0.08560629022087121, 'XGBoost': 0.8831947303774327, 'AutoGluon': 0.022705739172418807}. Best is trial 191 with value: 0.36630466666666683.\n",
      "[I 2025-06-18 09:43:15,527] Trial 245 finished with value: 0.36623977777777783 and parameters: {'LightGBM (gbdt)': 0.15457168557297443, 'LightGBM (goss)': 0.08648858347257415, 'XGBoost': 0.8831469584346014, 'AutoGluon': 0.08091813886495448}. Best is trial 191 with value: 0.36630466666666683.\n",
      "[I 2025-06-18 09:43:19,512] Trial 248 finished with value: 0.3661953333333335 and parameters: {'LightGBM (gbdt)': 0.2190027336953041, 'LightGBM (goss)': 0.09686007220096896, 'XGBoost': 0.8968834017303924, 'AutoGluon': 0.12606517728828606}. Best is trial 191 with value: 0.36630466666666683.\n",
      "[I 2025-06-18 09:43:19,718] Trial 247 finished with value: 0.3662386666666666 and parameters: {'LightGBM (gbdt)': 0.16157418260019246, 'LightGBM (goss)': 0.08943761592182702, 'XGBoost': 0.8823780213440082, 'AutoGluon': 0.0879931745610369}. Best is trial 191 with value: 0.36630466666666683.\n",
      "[I 2025-06-18 09:43:19,929] Trial 249 finished with value: 0.3662504444444443 and parameters: {'LightGBM (gbdt)': 0.2188361457700342, 'LightGBM (goss)': 0.10451927677338842, 'XGBoost': 0.9043984427354597, 'AutoGluon': 0.08989769943931065}. Best is trial 191 with value: 0.36630466666666683.\n"
     ]
    }
   ],
   "source": [
    "def objective(trial):\n",
    "    weights = [trial.suggest_float(model, 0, 1) for model in models]\n",
    "    weights /= np.sum(weights)\n",
    "\n",
    "    idxs = [0, 7, 14, 21]\n",
    "    pred_probs = np.zeros((X.shape[0], 7))\n",
    "    for idx, weight in zip(idxs, weights):\n",
    "        pred_probs += X.iloc[:, idx:idx+7].values * weight\n",
    "        \n",
    "    return map3(y, pred_probs)\n",
    "\n",
    "sampler = optuna.samplers.TPESampler(seed=CFG.seed)\n",
    "study = optuna.create_study(direction='maximize', sampler=sampler)\n",
    "study.optimize(objective, n_trials=250, n_jobs=-1)"
   ]
  },
  {
   "cell_type": "code",
   "execution_count": 18,
   "id": "385ec17a",
   "metadata": {
    "execution": {
     "iopub.execute_input": "2025-06-18T09:43:19.975871Z",
     "iopub.status.busy": "2025-06-18T09:43:19.975499Z",
     "iopub.status.idle": "2025-06-18T09:43:20.047869Z",
     "shell.execute_reply": "2025-06-18T09:43:20.047009Z"
    },
    "papermill": {
     "duration": 0.094043,
     "end_time": "2025-06-18T09:43:20.049667",
     "exception": false,
     "start_time": "2025-06-18T09:43:19.955624",
     "status": "completed"
    },
    "tags": []
   },
   "outputs": [],
   "source": [
    "scores['WeightedEnsemble'] = [study.best_value] * CFG.n_folds\n",
    "\n",
    "best_weights = [study.best_params[model] for model in models]\n",
    "best_weights /= np.sum(best_weights)\n",
    "\n",
    "idxs = [0, 7, 14, 21]\n",
    "weighted_test_preds = np.zeros((X_test.shape[0], 7))\n",
    "for idx, weight in zip(idxs, best_weights):\n",
    "    weighted_test_preds += X_test.iloc[:, idx:idx+7].values * weight"
   ]
  },
  {
   "cell_type": "code",
   "execution_count": 19,
   "id": "e88661b0",
   "metadata": {
    "execution": {
     "iopub.execute_input": "2025-06-18T09:43:20.089938Z",
     "iopub.status.busy": "2025-06-18T09:43:20.089559Z",
     "iopub.status.idle": "2025-06-18T09:43:46.733731Z",
     "shell.execute_reply": "2025-06-18T09:43:46.732679Z"
    },
    "papermill": {
     "duration": 26.666897,
     "end_time": "2025-06-18T09:43:46.735512",
     "exception": false,
     "start_time": "2025-06-18T09:43:20.068615",
     "status": "completed"
    },
    "tags": []
   },
   "outputs": [
    {
     "data": {
      "text/html": [
       "<div>\n",
       "<style scoped>\n",
       "    .dataframe tbody tr th:only-of-type {\n",
       "        vertical-align: middle;\n",
       "    }\n",
       "\n",
       "    .dataframe tbody tr th {\n",
       "        vertical-align: top;\n",
       "    }\n",
       "\n",
       "    .dataframe thead th {\n",
       "        text-align: right;\n",
       "    }\n",
       "</style>\n",
       "<table border=\"1\" class=\"dataframe\">\n",
       "  <thead>\n",
       "    <tr style=\"text-align: right;\">\n",
       "      <th></th>\n",
       "      <th>id</th>\n",
       "      <th>Fertilizer Name</th>\n",
       "    </tr>\n",
       "  </thead>\n",
       "  <tbody>\n",
       "    <tr>\n",
       "      <th>0</th>\n",
       "      <td>750000</td>\n",
       "      <td>10-26-26 20-20 DAP</td>\n",
       "    </tr>\n",
       "    <tr>\n",
       "      <th>1</th>\n",
       "      <td>750001</td>\n",
       "      <td>17-17-17 10-26-26 20-20</td>\n",
       "    </tr>\n",
       "    <tr>\n",
       "      <th>2</th>\n",
       "      <td>750002</td>\n",
       "      <td>20-20 28-28 Urea</td>\n",
       "    </tr>\n",
       "    <tr>\n",
       "      <th>3</th>\n",
       "      <td>750003</td>\n",
       "      <td>14-35-14 DAP 17-17-17</td>\n",
       "    </tr>\n",
       "    <tr>\n",
       "      <th>4</th>\n",
       "      <td>750004</td>\n",
       "      <td>20-20 Urea 10-26-26</td>\n",
       "    </tr>\n",
       "  </tbody>\n",
       "</table>\n",
       "</div>"
      ],
      "text/plain": [
       "       id          Fertilizer Name\n",
       "0  750000       10-26-26 20-20 DAP\n",
       "1  750001  17-17-17 10-26-26 20-20\n",
       "2  750002         20-20 28-28 Urea\n",
       "3  750003    14-35-14 DAP 17-17-17\n",
       "4  750004      20-20 Urea 10-26-26"
      ]
     },
     "execution_count": 19,
     "metadata": {},
     "output_type": "execute_result"
    }
   ],
   "source": [
    "create_submission(\"weighted-ensemble\", weighted_test_preds, np.mean(scores[\"WeightedEnsemble\"])).head()"
   ]
  },
  {
   "cell_type": "markdown",
   "id": "c4ec9a47",
   "metadata": {
    "papermill": {
     "duration": 0.019119,
     "end_time": "2025-06-18T09:43:46.774575",
     "exception": false,
     "start_time": "2025-06-18T09:43:46.755456",
     "status": "completed"
    },
    "tags": []
   },
   "source": [
    "## Weighted VotingClassifier"
   ]
  },
  {
   "cell_type": "code",
   "execution_count": 20,
   "id": "4e0d0b8f",
   "metadata": {
    "execution": {
     "iopub.execute_input": "2025-06-18T09:43:46.814400Z",
     "iopub.status.busy": "2025-06-18T09:43:46.814042Z",
     "iopub.status.idle": "2025-06-18T09:43:57.656053Z",
     "shell.execute_reply": "2025-06-18T09:43:57.654727Z"
    },
    "papermill": {
     "duration": 10.864766,
     "end_time": "2025-06-18T09:43:57.658183",
     "exception": false,
     "start_time": "2025-06-18T09:43:46.793417",
     "status": "completed"
    },
    "tags": []
   },
   "outputs": [
    {
     "name": "stdout",
     "output_type": "stream",
     "text": [
      "Training VotingClassifier\n",
      "\n",
      "--- Fold 1 - MAP@3: 0.364827\n",
      "--- Fold 2 - MAP@3: 0.365372\n",
      "--- Fold 3 - MAP@3: 0.368512\n",
      "--- Fold 4 - MAP@3: 0.366114\n",
      "--- Fold 5 - MAP@3: 0.366698\n",
      "\n",
      "------ Overall MAP@3: 0.366305 | Average MAP@3: 0.366305 ± 0.001274\n"
     ]
    }
   ],
   "source": [
    "weighted_voting_model = VotingClassifier(estimators, n_jobs=-1, voting='soft', weights=best_weights)\n",
    "weighted_voting_trainer = Trainer(weighted_voting_model)\n",
    "_, weighted_voting_test_pred_probs, scores[\"VotingClassifier (weighted)\"] = weighted_voting_trainer.fit_predict(X, y, X_test)"
   ]
  },
  {
   "cell_type": "code",
   "execution_count": 21,
   "id": "45253abe",
   "metadata": {
    "execution": {
     "iopub.execute_input": "2025-06-18T09:43:57.700937Z",
     "iopub.status.busy": "2025-06-18T09:43:57.700597Z",
     "iopub.status.idle": "2025-06-18T09:44:24.492433Z",
     "shell.execute_reply": "2025-06-18T09:44:24.491396Z"
    },
    "papermill": {
     "duration": 26.8157,
     "end_time": "2025-06-18T09:44:24.494184",
     "exception": false,
     "start_time": "2025-06-18T09:43:57.678484",
     "status": "completed"
    },
    "tags": []
   },
   "outputs": [
    {
     "data": {
      "text/html": [
       "<div>\n",
       "<style scoped>\n",
       "    .dataframe tbody tr th:only-of-type {\n",
       "        vertical-align: middle;\n",
       "    }\n",
       "\n",
       "    .dataframe tbody tr th {\n",
       "        vertical-align: top;\n",
       "    }\n",
       "\n",
       "    .dataframe thead th {\n",
       "        text-align: right;\n",
       "    }\n",
       "</style>\n",
       "<table border=\"1\" class=\"dataframe\">\n",
       "  <thead>\n",
       "    <tr style=\"text-align: right;\">\n",
       "      <th></th>\n",
       "      <th>id</th>\n",
       "      <th>Fertilizer Name</th>\n",
       "    </tr>\n",
       "  </thead>\n",
       "  <tbody>\n",
       "    <tr>\n",
       "      <th>0</th>\n",
       "      <td>750000</td>\n",
       "      <td>10-26-26 20-20 DAP</td>\n",
       "    </tr>\n",
       "    <tr>\n",
       "      <th>1</th>\n",
       "      <td>750001</td>\n",
       "      <td>17-17-17 10-26-26 20-20</td>\n",
       "    </tr>\n",
       "    <tr>\n",
       "      <th>2</th>\n",
       "      <td>750002</td>\n",
       "      <td>20-20 28-28 Urea</td>\n",
       "    </tr>\n",
       "    <tr>\n",
       "      <th>3</th>\n",
       "      <td>750003</td>\n",
       "      <td>14-35-14 DAP 17-17-17</td>\n",
       "    </tr>\n",
       "    <tr>\n",
       "      <th>4</th>\n",
       "      <td>750004</td>\n",
       "      <td>20-20 Urea 10-26-26</td>\n",
       "    </tr>\n",
       "  </tbody>\n",
       "</table>\n",
       "</div>"
      ],
      "text/plain": [
       "       id          Fertilizer Name\n",
       "0  750000       10-26-26 20-20 DAP\n",
       "1  750001  17-17-17 10-26-26 20-20\n",
       "2  750002         20-20 28-28 Urea\n",
       "3  750003    14-35-14 DAP 17-17-17\n",
       "4  750004      20-20 Urea 10-26-26"
      ]
     },
     "execution_count": 21,
     "metadata": {},
     "output_type": "execute_result"
    }
   ],
   "source": [
    "create_submission(\"weighted-voting-classifier\", weighted_voting_test_pred_probs, np.mean(scores[\"VotingClassifier (weighted)\"])).head()"
   ]
  },
  {
   "cell_type": "markdown",
   "id": "aebd944d",
   "metadata": {
    "papermill": {
     "duration": 0.020511,
     "end_time": "2025-06-18T09:44:24.534655",
     "exception": false,
     "start_time": "2025-06-18T09:44:24.514144",
     "status": "completed"
    },
    "tags": []
   },
   "source": [
    "# Results"
   ]
  },
  {
   "cell_type": "code",
   "execution_count": 22,
   "id": "0dead784",
   "metadata": {
    "execution": {
     "iopub.execute_input": "2025-06-18T09:44:24.593830Z",
     "iopub.status.busy": "2025-06-18T09:44:24.593428Z",
     "iopub.status.idle": "2025-06-18T09:44:25.232210Z",
     "shell.execute_reply": "2025-06-18T09:44:25.231314Z"
    },
    "papermill": {
     "duration": 0.67762,
     "end_time": "2025-06-18T09:44:25.233777",
     "exception": false,
     "start_time": "2025-06-18T09:44:24.556157",
     "status": "completed"
    },
    "tags": []
   },
   "outputs": [
    {
     "data": {
      "image/png": "[encoded data removed]",
      "text/plain": [
       "<Figure size 1500x360 with 2 Axes>"
      ]
     },
     "metadata": {},
     "output_type": "display_data"
    }
   ],
   "source": [
    "scores = pd.DataFrame(scores)\n",
    "mean_scores = scores.mean().sort_values(ascending=False)\n",
    "order = scores.mean().sort_values(ascending=False).index.tolist()\n",
    "\n",
    "min_score = mean_scores.min()\n",
    "max_score = mean_scores.max()\n",
    "padding = (max_score - min_score) * 0.5\n",
    "lower_limit = min_score - padding\n",
    "upper_limit = max_score + padding\n",
    "\n",
    "fig, axs = plt.subplots(1, 2, figsize=(15, scores.shape[1] * 0.4))\n",
    "\n",
    "boxplot = sns.boxplot(data=scores, order=order, ax=axs[0], orient=\"h\", palette=\"RdYlGn_r\")\n",
    "axs[0].set_title(f\"Fold MAP@3\")\n",
    "axs[0].set_xlabel(\"\")\n",
    "axs[0].set_ylabel(\"\")\n",
    "\n",
    "barplot = sns.barplot(x=mean_scores.values, y=mean_scores.index, ax=axs[1], palette=\"RdYlGn_r\")\n",
    "axs[1].set_title(f\"Mean MAP@3\")\n",
    "axs[1].set_xlabel(\"\")\n",
    "axs[1].set_xlim(left=lower_limit, right=upper_limit)\n",
    "axs[1].set_ylabel(\"\")\n",
    "\n",
    "for i, score in enumerate(mean_scores.values):\n",
    "    barplot.text(score, i, round(score, 6), va=\"center\")\n",
    "\n",
    "plt.tight_layout()\n",
    "plt.show()"
   ]
  }
 ],
 "metadata": {
  "kaggle": {
   "accelerator": "none",
   "dataSources": [
    {
     "databundleVersionId": 12184666,
     "isSourceIdPinned": false,
     "sourceId": 91717,
     "sourceType": "competition"
    },
    {
     "sourceId": 244411248,
     "sourceType": "kernelVersion"
    }
   ],
   "dockerImageVersionId": 31040,
   "isGpuEnabled": false,
   "isInternetEnabled": true,
   "language": "python",
   "sourceType": "notebook"
  },
  "kernelspec": {
   "display_name": "Python 3",
   "language": "python",
   "name": "python3"
  },
  "language_info": {
   "codemirror_mode": {
    "name": "ipython",
    "version": 3
   },
   "file_extension": ".py",
   "mimetype": "text/x-python",
   "name": "python",
   "nbconvert_exporter": "python",
   "pygments_lexer": "ipython3",
   "version": "3.11.11"
  },
  "papermill": {
   "default_parameters": {},
   "duration": 960.833936,
   "end_time": "2025-06-18T09:44:27.978386",
   "environment_variables": {},
   "exception": null,
   "input_path": "__notebook__.ipynb",
   "output_path": "__notebook__.ipynb",
   "parameters": {},
   "start_time": "2025-06-18T09:28:27.144450",
   "version": "2.6.0"
  }
 },
 "nbformat": 4,
 "nbformat_minor": 5
}
