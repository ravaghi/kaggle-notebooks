{
 "cells": [
  {
   "cell_type": "markdown",
   "id": "73657d21",
   "metadata": {
    "papermill": {
     "duration": 0.005145,
     "end_time": "2025-06-13T06:52:45.642063",
     "exception": false,
     "start_time": "2025-06-13T06:52:45.636918",
     "status": "completed"
    },
    "tags": []
   },
   "source": [
    "# Imports and configs"
   ]
  },
  {
   "cell_type": "code",
   "execution_count": 1,
   "id": "fbc7984a",
   "metadata": {
    "_kg_hide-output": true,
    "execution": {
     "iopub.execute_input": "2025-06-13T06:52:45.652356Z",
     "iopub.status.busy": "2025-06-13T06:52:45.652018Z",
     "iopub.status.idle": "2025-06-13T06:52:56.101483Z",
     "shell.execute_reply": "2025-06-13T06:52:56.100049Z"
    },
    "papermill": {
     "duration": 10.456818,
     "end_time": "2025-06-13T06:52:56.103386",
     "exception": false,
     "start_time": "2025-06-13T06:52:45.646568",
     "status": "completed"
    },
    "tags": []
   },
   "outputs": [
    {
     "name": "stdout",
     "output_type": "stream",
     "text": [
      "\u001b[2K   \u001b[90m━━━━━━━━━━━━━━━━━━━━━━━━━━━━━━━━━━━━━━━━\u001b[0m \u001b[32m13.3/13.3 MB\u001b[0m \u001b[31m79.7 MB/s\u001b[0m eta \u001b[36m0:00:00\u001b[0m\r\n",
      "\u001b[?25h\u001b[31mERROR: pip's dependency resolver does not currently take into account all the packages that are installed. This behaviour is the source of the following dependency conflicts.\r\n",
      "cesium 0.12.4 requires numpy<3.0,>=2.0, but you have numpy 1.26.4 which is incompatible.\u001b[0m\u001b[31m\r\n",
      "\u001b[0m"
     ]
    }
   ],
   "source": [
    "!pip install -q scikit-learn==1.5.2"
   ]
  },
  {
   "cell_type": "code",
   "execution_count": 2,
   "id": "0d36d47d",
   "metadata": {
    "execution": {
     "iopub.execute_input": "2025-06-13T06:52:56.115134Z",
     "iopub.status.busy": "2025-06-13T06:52:56.114755Z",
     "iopub.status.idle": "2025-06-13T06:53:01.508912Z",
     "shell.execute_reply": "2025-06-13T06:53:01.507225Z"
    },
    "papermill": {
     "duration": 5.402117,
     "end_time": "2025-06-13T06:53:01.510629",
     "exception": false,
     "start_time": "2025-06-13T06:52:56.108512",
     "status": "completed"
    },
    "tags": []
   },
   "outputs": [],
   "source": [
    "from sklearn.ensemble import StackingClassifier, VotingClassifier\n",
    "from sklearn.base import BaseEstimator, ClassifierMixin, clone\n",
    "from sklearn.model_selection import StratifiedKFold\n",
    "from sklearn.linear_model import LogisticRegression\n",
    "from sklearn.preprocessing import LabelEncoder\n",
    "from sklearn.utils import check_array\n",
    "import matplotlib.pyplot as plt\n",
    "import seaborn as sns\n",
    "import pandas as pd\n",
    "import numpy as np\n",
    "import warnings\n",
    "import joblib\n",
    "import optuna\n",
    "import shutil\n",
    "import gc\n",
    "\n",
    "warnings.filterwarnings(\"ignore\")"
   ]
  },
  {
   "cell_type": "code",
   "execution_count": 3,
   "id": "eec239a2",
   "metadata": {
    "execution": {
     "iopub.execute_input": "2025-06-13T06:53:01.527342Z",
     "iopub.status.busy": "2025-06-13T06:53:01.526810Z",
     "iopub.status.idle": "2025-06-13T06:53:01.533657Z",
     "shell.execute_reply": "2025-06-13T06:53:01.532051Z"
    },
    "papermill": {
     "duration": 0.018745,
     "end_time": "2025-06-13T06:53:01.535337",
     "exception": false,
     "start_time": "2025-06-13T06:53:01.516592",
     "status": "completed"
    },
    "tags": []
   },
   "outputs": [],
   "source": [
    "class CFG:\n",
    "    train_path = \"/kaggle/input/playground-series-s5e6/train.csv\"\n",
    "    test_path = \"/kaggle/input/playground-series-s5e6/test.csv\"\n",
    "    sample_sub_path = \"/kaggle/input/playground-series-s5e6/sample_submission.csv\"\n",
    "    \n",
    "    target = \"Fertilizer Name\"\n",
    "    n_folds = 5\n",
    "    seed = 42"
   ]
  },
  {
   "cell_type": "markdown",
   "id": "f69ca3ea",
   "metadata": {
    "papermill": {
     "duration": 0.009861,
     "end_time": "2025-06-13T06:53:01.552049",
     "exception": false,
     "start_time": "2025-06-13T06:53:01.542188",
     "status": "completed"
    },
    "tags": []
   },
   "source": [
    "# Data loading"
   ]
  },
  {
   "cell_type": "code",
   "execution_count": 4,
   "id": "cee5dc3a",
   "metadata": {
    "execution": {
     "iopub.execute_input": "2025-06-13T06:53:01.565797Z",
     "iopub.status.busy": "2025-06-13T06:53:01.565087Z",
     "iopub.status.idle": "2025-06-13T06:53:03.298056Z",
     "shell.execute_reply": "2025-06-13T06:53:03.296804Z"
    },
    "papermill": {
     "duration": 1.741859,
     "end_time": "2025-06-13T06:53:03.300258",
     "exception": false,
     "start_time": "2025-06-13T06:53:01.558399",
     "status": "completed"
    },
    "tags": []
   },
   "outputs": [],
   "source": [
    "train = pd.read_csv(CFG.train_path, index_col=\"id\")\n",
    "test = pd.read_csv(CFG.test_path, index_col=\"id\")\n",
    "\n",
    "label_encoder = LabelEncoder()\n",
    "train[CFG.target] = label_encoder.fit_transform(train[CFG.target])\n",
    "\n",
    "X = train.drop(CFG.target, axis=1)\n",
    "y = train[CFG.target]\n",
    "X_test = test"
   ]
  },
  {
   "cell_type": "code",
   "execution_count": 5,
   "id": "1dd0951d",
   "metadata": {
    "_kg_hide-input": true,
    "execution": {
     "iopub.execute_input": "2025-06-13T06:53:03.312760Z",
     "iopub.status.busy": "2025-06-13T06:53:03.312406Z",
     "iopub.status.idle": "2025-06-13T06:53:03.320329Z",
     "shell.execute_reply": "2025-06-13T06:53:03.318840Z"
    },
    "papermill": {
     "duration": 0.015994,
     "end_time": "2025-06-13T06:53:03.322220",
     "exception": false,
     "start_time": "2025-06-13T06:53:03.306226",
     "status": "completed"
    },
    "tags": []
   },
   "outputs": [],
   "source": [
    "def map3(y_true, y_pred_probs):\n",
    "    y_true = [[x] for x in y_true]\n",
    "    y_pred_probs = np.argsort(y_pred_probs, axis=1)[:, -3:][:, ::-1].tolist()\n",
    "    \n",
    "    def ap3(y_true, y_pred_probs):\n",
    "        y_pred_probs = y_pred_probs[:3]\n",
    "\n",
    "        score = 0.0\n",
    "        num_hits = 0.0\n",
    "\n",
    "        for i,p in enumerate(y_pred_probs):\n",
    "            if p in y_true and p not in y_pred_probs[:i]:\n",
    "                num_hits += 1.0\n",
    "                score += num_hits / (i+1.0)\n",
    "\n",
    "        if not y_true:\n",
    "            return 0.0\n",
    "\n",
    "        return score\n",
    "    \n",
    "    return np.mean([ap3(a,p) for a,p in zip(y_true, y_pred_probs)])"
   ]
  },
  {
   "cell_type": "code",
   "execution_count": 6,
   "id": "092b4563",
   "metadata": {
    "execution": {
     "iopub.execute_input": "2025-06-13T06:53:03.335542Z",
     "iopub.status.busy": "2025-06-13T06:53:03.334526Z",
     "iopub.status.idle": "2025-06-13T06:53:17.314273Z",
     "shell.execute_reply": "2025-06-13T06:53:17.313157Z"
    },
    "papermill": {
     "duration": 13.98913,
     "end_time": "2025-06-13T06:53:17.316696",
     "exception": false,
     "start_time": "2025-06-13T06:53:03.327566",
     "status": "completed"
    },
    "tags": []
   },
   "outputs": [],
   "source": [
    "scores = {}\n",
    "\n",
    "oof_pred_probs = joblib.load(\"/kaggle/input/s05e06-fertilizer-optimization-ensemble/oof_pred_probs.pkl\")\n",
    "test_pred_probs = joblib.load(\"/kaggle/input/s05e06-fertilizer-optimization-ensemble/test_pred_probs.pkl\")\n",
    "\n",
    "start_idx = 0\n",
    "models = [\"LightGBM (gbdt)\", \"LightGBM (goss)\", \"XGBoost\", \"AutoGluon\"]\n",
    "for model in models:\n",
    "    fold_scores = []        \n",
    "    \n",
    "    skf = StratifiedKFold(n_splits=CFG.n_folds, random_state=CFG.seed, shuffle=True)\n",
    "    for _, val_idx in skf.split(X, y):   \n",
    "        fold_score = map3(y[val_idx], oof_pred_probs.iloc[val_idx, start_idx:start_idx+7])\n",
    "        fold_scores.append(fold_score)\n",
    "        \n",
    "    scores[model] = fold_scores\n",
    "    start_idx += 7"
   ]
  },
  {
   "cell_type": "code",
   "execution_count": 7,
   "id": "ab1bd450",
   "metadata": {
    "_kg_hide-input": true,
    "execution": {
     "iopub.execute_input": "2025-06-13T06:53:17.331286Z",
     "iopub.status.busy": "2025-06-13T06:53:17.330806Z",
     "iopub.status.idle": "2025-06-13T06:53:17.344436Z",
     "shell.execute_reply": "2025-06-13T06:53:17.343070Z"
    },
    "papermill": {
     "duration": 0.023567,
     "end_time": "2025-06-13T06:53:17.346415",
     "exception": false,
     "start_time": "2025-06-13T06:53:17.322848",
     "status": "completed"
    },
    "tags": []
   },
   "outputs": [],
   "source": [
    "class Trainer:\n",
    "    def __init__(self, model, config=CFG):\n",
    "        self.model = model\n",
    "        self.config = config\n",
    "\n",
    "    def fit_predict(self, X, y, X_test):\n",
    "        print(f\"Training {self.model.__class__.__name__}\\n\")\n",
    "        \n",
    "        scores = []        \n",
    "        oof_pred_probs = np.zeros((X.shape[0], y.nunique()))\n",
    "        test_pred_probs = np.zeros((X_test.shape[0], y.nunique()))\n",
    "        \n",
    "        skf = StratifiedKFold(n_splits=self.config.n_folds, random_state=self.config.seed, shuffle=True)\n",
    "        for fold_idx, (train_idx, val_idx) in enumerate(skf.split(X, y)):\n",
    "            X_train, X_val = X.iloc[train_idx], X.iloc[val_idx]\n",
    "            y_train, y_val = y[train_idx], y[val_idx]\n",
    "            \n",
    "            model = clone(self.model)\n",
    "            model.fit(X_train, y_train)\n",
    "            \n",
    "            y_pred_probs = model.predict_proba(X_val)\n",
    "            oof_pred_probs[val_idx] = y_pred_probs\n",
    "            \n",
    "            temp_test_pred_probs = model.predict_proba(X_test)\n",
    "            test_pred_probs += temp_test_pred_probs / self.config.n_folds\n",
    "            \n",
    "            score = map3(y_val, y_pred_probs)\n",
    "            scores.append(score)\n",
    "            \n",
    "            del model, X_train, y_train, X_val, y_val, y_pred_probs\n",
    "            gc.collect()\n",
    "        \n",
    "            print(f\"--- Fold {fold_idx + 1} - MAP@3: {score:.6f}\")\n",
    "                            \n",
    "        overall_score = map3(y, oof_pred_probs)\n",
    "            \n",
    "        print(f\"\\n------ Overall MAP@3: {overall_score:.6f} | Average MAP@3: {np.mean(scores):.6f} ± {np.std(scores):.6f}\")\n",
    "        \n",
    "        return oof_pred_probs, test_pred_probs, scores\n",
    "\n",
    "    def tune(self, X, y):        \n",
    "        scores = []        \n",
    "        \n",
    "        skf = StratifiedKFold(n_splits=self.config.n_folds, random_state=self.config.seed, shuffle=True)\n",
    "        for train_idx, val_idx in skf.split(X, y):\n",
    "            X_train, X_val = X.iloc[train_idx], X.iloc[val_idx]\n",
    "            y_train, y_val = y[train_idx], y[val_idx]\n",
    "            \n",
    "            model = clone(self.model)\n",
    "            model.fit(X_train, y_train)\n",
    "            \n",
    "            y_pred_probs = model.predict_proba(X_val)            \n",
    "            score = map3(y_val, y_pred_probs)\n",
    "            scores.append(score)\n",
    "            \n",
    "            del model, X_train, y_train, X_val, y_val, y_pred_probs\n",
    "            gc.collect()\n",
    "            \n",
    "        return np.mean(scores)"
   ]
  },
  {
   "cell_type": "markdown",
   "id": "aee4253b",
   "metadata": {
    "papermill": {
     "duration": 0.004638,
     "end_time": "2025-06-13T06:53:17.356485",
     "exception": false,
     "start_time": "2025-06-13T06:53:17.351847",
     "status": "completed"
    },
    "tags": []
   },
   "source": [
    "# Ensembling"
   ]
  },
  {
   "cell_type": "code",
   "execution_count": 8,
   "id": "8bd71337",
   "metadata": {
    "execution": {
     "iopub.execute_input": "2025-06-13T06:53:17.367785Z",
     "iopub.status.busy": "2025-06-13T06:53:17.367434Z",
     "iopub.status.idle": "2025-06-13T06:53:17.377562Z",
     "shell.execute_reply": "2025-06-13T06:53:17.376037Z"
    },
    "papermill": {
     "duration": 0.018391,
     "end_time": "2025-06-13T06:53:17.379744",
     "exception": false,
     "start_time": "2025-06-13T06:53:17.361353",
     "status": "completed"
    },
    "tags": []
   },
   "outputs": [],
   "source": [
    "X = oof_pred_probs\n",
    "X_test = test_pred_probs"
   ]
  },
  {
   "cell_type": "code",
   "execution_count": 9,
   "id": "b7d68b69",
   "metadata": {
    "execution": {
     "iopub.execute_input": "2025-06-13T06:53:17.391875Z",
     "iopub.status.busy": "2025-06-13T06:53:17.391524Z",
     "iopub.status.idle": "2025-06-13T06:53:17.398254Z",
     "shell.execute_reply": "2025-06-13T06:53:17.397212Z"
    },
    "papermill": {
     "duration": 0.015065,
     "end_time": "2025-06-13T06:53:17.400308",
     "exception": false,
     "start_time": "2025-06-13T06:53:17.385243",
     "status": "completed"
    },
    "tags": []
   },
   "outputs": [],
   "source": [
    "def create_submission(model, test_pred_probs, score):\n",
    "    final_predictions = []\n",
    "    for i in np.argsort(test_pred_probs)[:, -3:][:, ::-1]:\n",
    "        prediction = label_encoder.inverse_transform(i)\n",
    "        final_predictions.append(\" \".join(prediction))\n",
    "\n",
    "    sub = pd.read_csv(CFG.sample_sub_path)\n",
    "    sub[CFG.target] = final_predictions\n",
    "    sub.to_csv(f\"sub_{model}_{score:.6f}.csv\", index=False)\n",
    "    \n",
    "    return sub"
   ]
  },
  {
   "cell_type": "markdown",
   "id": "386eb2fb",
   "metadata": {
    "papermill": {
     "duration": 0.004793,
     "end_time": "2025-06-13T06:53:17.410286",
     "exception": false,
     "start_time": "2025-06-13T06:53:17.405493",
     "status": "completed"
    },
    "tags": []
   },
   "source": [
    "## LogisticRegression"
   ]
  },
  {
   "cell_type": "code",
   "execution_count": 10,
   "id": "14ca8fac",
   "metadata": {
    "execution": {
     "iopub.execute_input": "2025-06-13T06:53:17.421683Z",
     "iopub.status.busy": "2025-06-13T06:53:17.421390Z",
     "iopub.status.idle": "2025-06-13T06:56:05.301145Z",
     "shell.execute_reply": "2025-06-13T06:56:05.300069Z"
    },
    "papermill": {
     "duration": 167.887536,
     "end_time": "2025-06-13T06:56:05.302847",
     "exception": false,
     "start_time": "2025-06-13T06:53:17.415311",
     "status": "completed"
    },
    "tags": []
   },
   "outputs": [
    {
     "name": "stdout",
     "output_type": "stream",
     "text": [
      "Training LogisticRegression\n",
      "\n",
      "--- Fold 1 - MAP@3: 0.364690\n",
      "--- Fold 2 - MAP@3: 0.366060\n",
      "--- Fold 3 - MAP@3: 0.368714\n",
      "--- Fold 4 - MAP@3: 0.366521\n",
      "--- Fold 5 - MAP@3: 0.366541\n",
      "\n",
      "------ Overall MAP@3: 0.366505 | Average MAP@3: 0.366505 ± 0.001294\n"
     ]
    }
   ],
   "source": [
    "lr_model = LogisticRegression(\n",
    "    C=0.3691232889729139,\n",
    "    fit_intercept=True,\n",
    "    max_iter=5000,\n",
    "    random_state=42,\n",
    "    tol=0.0021938847672756667,\n",
    "    solver=\"liblinear\",\n",
    "    penalty=\"l2\"\n",
    ") \n",
    "\n",
    "lr_trainer = Trainer(lr_model)\n",
    "_, lr_test_pred_probs, scores[\"LogisticRegression\"] = lr_trainer.fit_predict(X, y, X_test)"
   ]
  },
  {
   "cell_type": "code",
   "execution_count": 11,
   "id": "577d9b79",
   "metadata": {
    "execution": {
     "iopub.execute_input": "2025-06-13T06:56:05.317831Z",
     "iopub.status.busy": "2025-06-13T06:56:05.317388Z",
     "iopub.status.idle": "2025-06-13T06:56:32.068614Z",
     "shell.execute_reply": "2025-06-13T06:56:32.067643Z"
    },
    "papermill": {
     "duration": 26.760669,
     "end_time": "2025-06-13T06:56:32.070270",
     "exception": false,
     "start_time": "2025-06-13T06:56:05.309601",
     "status": "completed"
    },
    "tags": []
   },
   "outputs": [
    {
     "data": {
      "text/html": [
       "<div>\n",
       "<style scoped>\n",
       "    .dataframe tbody tr th:only-of-type {\n",
       "        vertical-align: middle;\n",
       "    }\n",
       "\n",
       "    .dataframe tbody tr th {\n",
       "        vertical-align: top;\n",
       "    }\n",
       "\n",
       "    .dataframe thead th {\n",
       "        text-align: right;\n",
       "    }\n",
       "</style>\n",
       "<table border=\"1\" class=\"dataframe\">\n",
       "  <thead>\n",
       "    <tr style=\"text-align: right;\">\n",
       "      <th></th>\n",
       "      <th>id</th>\n",
       "      <th>Fertilizer Name</th>\n",
       "    </tr>\n",
       "  </thead>\n",
       "  <tbody>\n",
       "    <tr>\n",
       "      <th>0</th>\n",
       "      <td>750000</td>\n",
       "      <td>10-26-26 20-20 DAP</td>\n",
       "    </tr>\n",
       "    <tr>\n",
       "      <th>1</th>\n",
       "      <td>750001</td>\n",
       "      <td>17-17-17 10-26-26 20-20</td>\n",
       "    </tr>\n",
       "    <tr>\n",
       "      <th>2</th>\n",
       "      <td>750002</td>\n",
       "      <td>20-20 28-28 Urea</td>\n",
       "    </tr>\n",
       "    <tr>\n",
       "      <th>3</th>\n",
       "      <td>750003</td>\n",
       "      <td>14-35-14 DAP 17-17-17</td>\n",
       "    </tr>\n",
       "    <tr>\n",
       "      <th>4</th>\n",
       "      <td>750004</td>\n",
       "      <td>20-20 Urea 10-26-26</td>\n",
       "    </tr>\n",
       "  </tbody>\n",
       "</table>\n",
       "</div>"
      ],
      "text/plain": [
       "       id          Fertilizer Name\n",
       "0  750000       10-26-26 20-20 DAP\n",
       "1  750001  17-17-17 10-26-26 20-20\n",
       "2  750002         20-20 28-28 Urea\n",
       "3  750003    14-35-14 DAP 17-17-17\n",
       "4  750004      20-20 Urea 10-26-26"
      ]
     },
     "execution_count": 11,
     "metadata": {},
     "output_type": "execute_result"
    }
   ],
   "source": [
    "create_submission(\"logistic-regression\", lr_test_pred_probs, np.mean(scores[\"LogisticRegression\"])).head()"
   ]
  },
  {
   "cell_type": "markdown",
   "id": "088bc763",
   "metadata": {
    "papermill": {
     "duration": 0.005337,
     "end_time": "2025-06-13T06:56:32.081482",
     "exception": false,
     "start_time": "2025-06-13T06:56:32.076145",
     "status": "completed"
    },
    "tags": []
   },
   "source": [
    "## StackingClassifier"
   ]
  },
  {
   "cell_type": "code",
   "execution_count": 12,
   "id": "9a6f1c2b",
   "metadata": {
    "_kg_hide-input": true,
    "execution": {
     "iopub.execute_input": "2025-06-13T06:56:32.094085Z",
     "iopub.status.busy": "2025-06-13T06:56:32.093589Z",
     "iopub.status.idle": "2025-06-13T06:56:32.100956Z",
     "shell.execute_reply": "2025-06-13T06:56:32.099916Z"
    },
    "papermill": {
     "duration": 0.015609,
     "end_time": "2025-06-13T06:56:32.102583",
     "exception": false,
     "start_time": "2025-06-13T06:56:32.086974",
     "status": "completed"
    },
    "tags": []
   },
   "outputs": [],
   "source": [
    "# This is just a trick to avoid refitting all base models from scratch, which is what StackingClassifier and VotingClassifier do by default\n",
    "\n",
    "class PassThroughClassifier(BaseEstimator, ClassifierMixin):\n",
    "    def __init__(self, idx_cols):\n",
    "        self.idx_cols = idx_cols\n",
    "        self.is_fitted_ = True\n",
    "\n",
    "    def fit(self, X, y=None):\n",
    "        return self\n",
    "\n",
    "    def predict_proba(self, X):\n",
    "        return check_array(X)[:, self.idx_cols]\n",
    "\n",
    "\n",
    "estimators = [\n",
    "    ('LightGBM (gbdt)', PassThroughClassifier(list(range(0, 7)))),\n",
    "    ('LightGBM (goss)', PassThroughClassifier(list(range(7, 14)))),\n",
    "    ('XGBoost', PassThroughClassifier(list(range(14, 21)))),\n",
    "    ('AutoGluon', PassThroughClassifier(list(range(21, 28)))),\n",
    "]"
   ]
  },
  {
   "cell_type": "code",
   "execution_count": 13,
   "id": "062fb067",
   "metadata": {
    "execution": {
     "iopub.execute_input": "2025-06-13T06:56:32.115769Z",
     "iopub.status.busy": "2025-06-13T06:56:32.115434Z",
     "iopub.status.idle": "2025-06-13T06:59:20.585030Z",
     "shell.execute_reply": "2025-06-13T06:59:20.584064Z"
    },
    "papermill": {
     "duration": 168.478237,
     "end_time": "2025-06-13T06:59:20.586737",
     "exception": false,
     "start_time": "2025-06-13T06:56:32.108500",
     "status": "completed"
    },
    "tags": []
   },
   "outputs": [
    {
     "name": "stdout",
     "output_type": "stream",
     "text": [
      "Training StackingClassifier\n",
      "\n",
      "--- Fold 1 - MAP@3: 0.364690\n",
      "--- Fold 2 - MAP@3: 0.366060\n",
      "--- Fold 3 - MAP@3: 0.368714\n",
      "--- Fold 4 - MAP@3: 0.366521\n",
      "--- Fold 5 - MAP@3: 0.366541\n",
      "\n",
      "------ Overall MAP@3: 0.366505 | Average MAP@3: 0.366505 ± 0.001294\n"
     ]
    }
   ],
   "source": [
    "stacking_model = StackingClassifier(estimators, cv='prefit', n_jobs=-1, final_estimator=clone(lr_model))\n",
    "stacking_trainer = Trainer(stacking_model)\n",
    "_, stacking_test_pred_probs, scores[\"StackingClassifier\"] = stacking_trainer.fit_predict(X, y, X_test)"
   ]
  },
  {
   "cell_type": "code",
   "execution_count": 14,
   "id": "10ecbff7",
   "metadata": {
    "execution": {
     "iopub.execute_input": "2025-06-13T06:59:20.600266Z",
     "iopub.status.busy": "2025-06-13T06:59:20.599949Z",
     "iopub.status.idle": "2025-06-13T06:59:46.778094Z",
     "shell.execute_reply": "2025-06-13T06:59:46.776976Z"
    },
    "papermill": {
     "duration": 26.186988,
     "end_time": "2025-06-13T06:59:46.780218",
     "exception": false,
     "start_time": "2025-06-13T06:59:20.593230",
     "status": "completed"
    },
    "tags": []
   },
   "outputs": [
    {
     "data": {
      "text/html": [
       "<div>\n",
       "<style scoped>\n",
       "    .dataframe tbody tr th:only-of-type {\n",
       "        vertical-align: middle;\n",
       "    }\n",
       "\n",
       "    .dataframe tbody tr th {\n",
       "        vertical-align: top;\n",
       "    }\n",
       "\n",
       "    .dataframe thead th {\n",
       "        text-align: right;\n",
       "    }\n",
       "</style>\n",
       "<table border=\"1\" class=\"dataframe\">\n",
       "  <thead>\n",
       "    <tr style=\"text-align: right;\">\n",
       "      <th></th>\n",
       "      <th>id</th>\n",
       "      <th>Fertilizer Name</th>\n",
       "    </tr>\n",
       "  </thead>\n",
       "  <tbody>\n",
       "    <tr>\n",
       "      <th>0</th>\n",
       "      <td>750000</td>\n",
       "      <td>10-26-26 20-20 DAP</td>\n",
       "    </tr>\n",
       "    <tr>\n",
       "      <th>1</th>\n",
       "      <td>750001</td>\n",
       "      <td>17-17-17 10-26-26 20-20</td>\n",
       "    </tr>\n",
       "    <tr>\n",
       "      <th>2</th>\n",
       "      <td>750002</td>\n",
       "      <td>20-20 28-28 Urea</td>\n",
       "    </tr>\n",
       "    <tr>\n",
       "      <th>3</th>\n",
       "      <td>750003</td>\n",
       "      <td>14-35-14 DAP 17-17-17</td>\n",
       "    </tr>\n",
       "    <tr>\n",
       "      <th>4</th>\n",
       "      <td>750004</td>\n",
       "      <td>20-20 Urea 10-26-26</td>\n",
       "    </tr>\n",
       "  </tbody>\n",
       "</table>\n",
       "</div>"
      ],
      "text/plain": [
       "       id          Fertilizer Name\n",
       "0  750000       10-26-26 20-20 DAP\n",
       "1  750001  17-17-17 10-26-26 20-20\n",
       "2  750002         20-20 28-28 Urea\n",
       "3  750003    14-35-14 DAP 17-17-17\n",
       "4  750004      20-20 Urea 10-26-26"
      ]
     },
     "execution_count": 14,
     "metadata": {},
     "output_type": "execute_result"
    }
   ],
   "source": [
    "create_submission(\"stacking-classifier\", stacking_test_pred_probs, np.mean(scores[\"StackingClassifier\"])).head()"
   ]
  },
  {
   "cell_type": "markdown",
   "id": "3b74fcca",
   "metadata": {
    "papermill": {
     "duration": 0.005908,
     "end_time": "2025-06-13T06:59:46.797851",
     "exception": false,
     "start_time": "2025-06-13T06:59:46.791943",
     "status": "completed"
    },
    "tags": []
   },
   "source": [
    "## VotingClassifier"
   ]
  },
  {
   "cell_type": "code",
   "execution_count": 15,
   "id": "66fc7758",
   "metadata": {
    "execution": {
     "iopub.execute_input": "2025-06-13T06:59:46.811230Z",
     "iopub.status.busy": "2025-06-13T06:59:46.810823Z",
     "iopub.status.idle": "2025-06-13T06:59:57.753597Z",
     "shell.execute_reply": "2025-06-13T06:59:57.752675Z"
    },
    "papermill": {
     "duration": 10.951638,
     "end_time": "2025-06-13T06:59:57.755357",
     "exception": false,
     "start_time": "2025-06-13T06:59:46.803719",
     "status": "completed"
    },
    "tags": []
   },
   "outputs": [
    {
     "name": "stdout",
     "output_type": "stream",
     "text": [
      "Training VotingClassifier\n",
      "\n",
      "--- Fold 1 - MAP@3: 0.362856\n",
      "--- Fold 2 - MAP@3: 0.363509\n",
      "--- Fold 3 - MAP@3: 0.365732\n",
      "--- Fold 4 - MAP@3: 0.363687\n",
      "--- Fold 5 - MAP@3: 0.363853\n",
      "\n",
      "------ Overall MAP@3: 0.363927 | Average MAP@3: 0.363927 ± 0.000964\n"
     ]
    }
   ],
   "source": [
    "voting_model = VotingClassifier(estimators, n_jobs=-1, voting='soft')\n",
    "voting_trainer = Trainer(voting_model)\n",
    "_, voting_test_pred_probs, scores[\"VotingClassifier\"] = voting_trainer.fit_predict(X, y, X_test)"
   ]
  },
  {
   "cell_type": "code",
   "execution_count": 16,
   "id": "abec197a",
   "metadata": {
    "execution": {
     "iopub.execute_input": "2025-06-13T06:59:57.770036Z",
     "iopub.status.busy": "2025-06-13T06:59:57.769753Z",
     "iopub.status.idle": "2025-06-13T07:00:24.511933Z",
     "shell.execute_reply": "2025-06-13T07:00:24.511022Z"
    },
    "papermill": {
     "duration": 26.751516,
     "end_time": "2025-06-13T07:00:24.513783",
     "exception": false,
     "start_time": "2025-06-13T06:59:57.762267",
     "status": "completed"
    },
    "tags": []
   },
   "outputs": [
    {
     "data": {
      "text/html": [
       "<div>\n",
       "<style scoped>\n",
       "    .dataframe tbody tr th:only-of-type {\n",
       "        vertical-align: middle;\n",
       "    }\n",
       "\n",
       "    .dataframe tbody tr th {\n",
       "        vertical-align: top;\n",
       "    }\n",
       "\n",
       "    .dataframe thead th {\n",
       "        text-align: right;\n",
       "    }\n",
       "</style>\n",
       "<table border=\"1\" class=\"dataframe\">\n",
       "  <thead>\n",
       "    <tr style=\"text-align: right;\">\n",
       "      <th></th>\n",
       "      <th>id</th>\n",
       "      <th>Fertilizer Name</th>\n",
       "    </tr>\n",
       "  </thead>\n",
       "  <tbody>\n",
       "    <tr>\n",
       "      <th>0</th>\n",
       "      <td>750000</td>\n",
       "      <td>10-26-26 DAP 20-20</td>\n",
       "    </tr>\n",
       "    <tr>\n",
       "      <th>1</th>\n",
       "      <td>750001</td>\n",
       "      <td>17-17-17 10-26-26 20-20</td>\n",
       "    </tr>\n",
       "    <tr>\n",
       "      <th>2</th>\n",
       "      <td>750002</td>\n",
       "      <td>20-20 28-28 17-17-17</td>\n",
       "    </tr>\n",
       "    <tr>\n",
       "      <th>3</th>\n",
       "      <td>750003</td>\n",
       "      <td>14-35-14 DAP Urea</td>\n",
       "    </tr>\n",
       "    <tr>\n",
       "      <th>4</th>\n",
       "      <td>750004</td>\n",
       "      <td>20-20 Urea 10-26-26</td>\n",
       "    </tr>\n",
       "  </tbody>\n",
       "</table>\n",
       "</div>"
      ],
      "text/plain": [
       "       id          Fertilizer Name\n",
       "0  750000       10-26-26 DAP 20-20\n",
       "1  750001  17-17-17 10-26-26 20-20\n",
       "2  750002     20-20 28-28 17-17-17\n",
       "3  750003        14-35-14 DAP Urea\n",
       "4  750004      20-20 Urea 10-26-26"
      ]
     },
     "execution_count": 16,
     "metadata": {},
     "output_type": "execute_result"
    }
   ],
   "source": [
    "create_submission(\"voting-classifier\", voting_test_pred_probs, np.mean(scores[\"VotingClassifier\"])).head()"
   ]
  },
  {
   "cell_type": "markdown",
   "id": "504704ac",
   "metadata": {
    "papermill": {
     "duration": 0.006384,
     "end_time": "2025-06-13T07:00:24.527021",
     "exception": false,
     "start_time": "2025-06-13T07:00:24.520637",
     "status": "completed"
    },
    "tags": []
   },
   "source": [
    "## Weighted averaging"
   ]
  },
  {
   "cell_type": "code",
   "execution_count": 17,
   "id": "dbb8aabc",
   "metadata": {
    "_kg_hide-output": true,
    "execution": {
     "iopub.execute_input": "2025-06-13T07:00:24.542551Z",
     "iopub.status.busy": "2025-06-13T07:00:24.542232Z",
     "iopub.status.idle": "2025-06-13T07:07:07.818423Z",
     "shell.execute_reply": "2025-06-13T07:07:07.817420Z"
    },
    "papermill": {
     "duration": 403.285922,
     "end_time": "2025-06-13T07:07:07.820093",
     "exception": false,
     "start_time": "2025-06-13T07:00:24.534171",
     "status": "completed"
    },
    "scrolled": true,
    "tags": []
   },
   "outputs": [
    {
     "name": "stderr",
     "output_type": "stream",
     "text": [
      "[I 2025-06-13 07:00:24,546] A new study created in memory with name: no-name-1d4e7b96-9e67-4b85-aa9f-dd85607414a1\n",
      "[I 2025-06-13 07:00:30,868] Trial 1 finished with value: 0.3635866666666666 and parameters: {'LightGBM (gbdt)': 0.2568112331014972, 'LightGBM (goss)': 0.205634117573272, 'XGBoost': 0.7548810348478012, 'AutoGluon': 0.6389472417481791}. Best is trial 1 with value: 0.3635866666666666.\n",
      "[I 2025-06-13 07:00:31,275] Trial 2 finished with value: 0.36516133333333334 and parameters: {'LightGBM (gbdt)': 0.7081993023596851, 'LightGBM (goss)': 0.7889962201752712, 'XGBoost': 0.9935949675650669, 'AutoGluon': 0.2661547627472125}. Best is trial 2 with value: 0.36516133333333334.\n",
      "[I 2025-06-13 07:00:31,342] Trial 3 finished with value: 0.3570546666666667 and parameters: {'LightGBM (gbdt)': 0.27055250465024683, 'LightGBM (goss)': 0.21222451509137108, 'XGBoost': 0.11210874699879037, 'AutoGluon': 0.7845607412163126}. Best is trial 2 with value: 0.36516133333333334.\n",
      "[I 2025-06-13 07:00:31,698] Trial 0 finished with value: 0.36260311111111115 and parameters: {'LightGBM (gbdt)': 0.8363044869746435, 'LightGBM (goss)': 0.3242954713311541, 'XGBoost': 0.021055318232920395, 'AutoGluon': 0.3529933845124875}. Best is trial 2 with value: 0.36516133333333334.\n",
      "[I 2025-06-13 07:00:37,498] Trial 4 finished with value: 0.36403955555555556 and parameters: {'LightGBM (gbdt)': 0.5250840830467269, 'LightGBM (goss)': 0.27003902007934155, 'XGBoost': 0.21824165431826759, 'AutoGluon': 0.2139952695738907}. Best is trial 2 with value: 0.36516133333333334.\n",
      "[I 2025-06-13 07:00:38,044] Trial 5 finished with value: 0.36539933333333324 and parameters: {'LightGBM (gbdt)': 0.35637656915180616, 'LightGBM (goss)': 0.1814617726779113, 'XGBoost': 0.6075255949050459, 'AutoGluon': 0.22038259058708098}. Best is trial 5 with value: 0.36539933333333324.\n",
      "[I 2025-06-13 07:00:38,352] Trial 7 finished with value: 0.3644691111111111 and parameters: {'LightGBM (gbdt)': 0.4109741452167466, 'LightGBM (goss)': 0.6347466688493844, 'XGBoost': 0.9669331641533692, 'AutoGluon': 0.6313652405089444}. Best is trial 5 with value: 0.36539933333333324.\n",
      "[I 2025-06-13 07:00:39,935] Trial 6 finished with value: 0.36407622222222225 and parameters: {'LightGBM (gbdt)': 0.8845156454313039, 'LightGBM (goss)': 0.8858269753332317, 'XGBoost': 0.34289550365188426, 'AutoGluon': 0.1625368369251018}. Best is trial 5 with value: 0.36539933333333324.\n",
      "[I 2025-06-13 07:00:43,241] Trial 8 finished with value: 0.36062711111111106 and parameters: {'LightGBM (gbdt)': 0.6607801883816687, 'LightGBM (goss)': 0.12802629568645496, 'XGBoost': 0.2641722308274994, 'AutoGluon': 0.8769421249653022}. Best is trial 5 with value: 0.36539933333333324.\n",
      "[I 2025-06-13 07:00:43,879] Trial 9 finished with value: 0.3647413333333333 and parameters: {'LightGBM (gbdt)': 0.55757670514619, 'LightGBM (goss)': 0.7888886439138748, 'XGBoost': 0.979763821719384, 'AutoGluon': 0.5483465787380549}. Best is trial 5 with value: 0.36539933333333324.\n",
      "[I 2025-06-13 07:00:44,330] Trial 10 finished with value: 0.3646100000000001 and parameters: {'LightGBM (gbdt)': 0.9600781623846468, 'LightGBM (goss)': 0.38456620504002903, 'XGBoost': 0.8189225193246972, 'AutoGluon': 0.5098384500355924}. Best is trial 5 with value: 0.36539933333333324.\n",
      "[I 2025-06-13 07:00:45,637] Trial 11 finished with value: 0.36001511111111134 and parameters: {'LightGBM (gbdt)': 0.04639976476542085, 'LightGBM (goss)': 0.37856988557335514, 'XGBoost': 0.10237002959313635, 'AutoGluon': 0.3897593689853617}. Best is trial 5 with value: 0.36539933333333324.\n",
      "[I 2025-06-13 07:00:48,638] Trial 12 finished with value: 0.361963111111111 and parameters: {'LightGBM (gbdt)': 0.3351782135515752, 'LightGBM (goss)': 0.6259797271074129, 'XGBoost': 0.489787016409686, 'AutoGluon': 0.899891818391313}. Best is trial 5 with value: 0.36539933333333324.\n",
      "[I 2025-06-13 07:00:50,453] Trial 14 finished with value: 0.36543222222222227 and parameters: {'LightGBM (gbdt)': 0.09253866222321194, 'LightGBM (goss)': 0.5691673513354374, 'XGBoost': 0.614637374757884, 'AutoGluon': 0.021894578884106175}. Best is trial 14 with value: 0.36543222222222227.\n",
      "[I 2025-06-13 07:00:51,029] Trial 13 finished with value: 0.3656055555555554 and parameters: {'LightGBM (gbdt)': 0.02144357647610351, 'LightGBM (goss)': 0.4690552574578127, 'XGBoost': 0.5934584635506316, 'AutoGluon': 0.03318369049343606}. Best is trial 13 with value: 0.3656055555555554.\n",
      "[I 2025-06-13 07:00:52,424] Trial 15 finished with value: 0.3651313333333334 and parameters: {'LightGBM (gbdt)': 0.7170165126118765, 'LightGBM (goss)': 0.6129653053994925, 'XGBoost': 0.5807286369066437, 'AutoGluon': 0.027238838054954695}. Best is trial 13 with value: 0.3656055555555554.\n",
      "[I 2025-06-13 07:00:55,322] Trial 16 finished with value: 0.36582933333333323 and parameters: {'LightGBM (gbdt)': 0.6805912412401763, 'LightGBM (goss)': 0.001311194837774865, 'XGBoost': 0.6384369218329424, 'AutoGluon': 0.01460129973837676}. Best is trial 16 with value: 0.36582933333333323.\n",
      "[I 2025-06-13 07:00:55,974] Trial 17 finished with value: 0.3659657777777778 and parameters: {'LightGBM (gbdt)': 0.033671349952559715, 'LightGBM (goss)': 0.05862519411074174, 'XGBoost': 0.6033649404939909, 'AutoGluon': 0.014883914292942259}. Best is trial 17 with value: 0.3659657777777778.\n",
      "[I 2025-06-13 07:00:57,522] Trial 18 finished with value: 0.3653288888888888 and parameters: {'LightGBM (gbdt)': 0.01403150371105455, 'LightGBM (goss)': 0.5374708053455372, 'XGBoost': 0.5370113139376459, 'AutoGluon': 0.014191092003636312}. Best is trial 17 with value: 0.3659657777777778.\n",
      "[I 2025-06-13 07:00:59,656] Trial 19 finished with value: 0.3650544444444444 and parameters: {'LightGBM (gbdt)': 0.05201340109488565, 'LightGBM (goss)': 0.494286886119518, 'XGBoost': 0.4392048878755692, 'AutoGluon': 0.06130424271970632}. Best is trial 17 with value: 0.3659657777777778.\n",
      "[I 2025-06-13 07:01:01,232] Trial 20 finished with value: 0.36600666666666676 and parameters: {'LightGBM (gbdt)': 0.17936153698137064, 'LightGBM (goss)': 0.028577066150357086, 'XGBoost': 0.4575243571005845, 'AutoGluon': 0.10031783384427098}. Best is trial 20 with value: 0.36600666666666676.\n",
      "[I 2025-06-13 07:01:02,993] Trial 21 finished with value: 0.36528133333333324 and parameters: {'LightGBM (gbdt)': 0.6241107109660554, 'LightGBM (goss)': 0.028492725687628014, 'XGBoost': 0.4064035046700613, 'AutoGluon': 0.11748463899392245}. Best is trial 20 with value: 0.36600666666666676.\n",
      "[I 2025-06-13 07:01:03,570] Trial 22 finished with value: 0.3658635555555556 and parameters: {'LightGBM (gbdt)': 0.14060477000955357, 'LightGBM (goss)': 0.0006672951252032489, 'XGBoost': 0.7313766750858124, 'AutoGluon': 0.14888192213323154}. Best is trial 20 with value: 0.36600666666666676.\n",
      "[I 2025-06-13 07:01:04,949] Trial 23 finished with value: 0.3659655555555555 and parameters: {'LightGBM (gbdt)': 0.18197324178927024, 'LightGBM (goss)': 0.025442581915994945, 'XGBoost': 0.7333606545092126, 'AutoGluon': 0.15097885699309282}. Best is trial 20 with value: 0.36600666666666676.\n",
      "[I 2025-06-13 07:01:07,296] Trial 24 finished with value: 0.36615777777777775 and parameters: {'LightGBM (gbdt)': 0.17516275445458115, 'LightGBM (goss)': 0.0309186043863421, 'XGBoost': 0.733224404028993, 'AutoGluon': 0.10885521345703719}. Best is trial 24 with value: 0.36615777777777775.\n",
      "[I 2025-06-13 07:01:09,254] Trial 26 finished with value: 0.3650164444444444 and parameters: {'LightGBM (gbdt)': 0.1744336458404632, 'LightGBM (goss)': 0.08739516879261465, 'XGBoost': 0.7295985796360747, 'AutoGluon': 0.3232467199972457}. Best is trial 24 with value: 0.36615777777777775.\n",
      "[I 2025-06-13 07:01:09,601] Trial 25 finished with value: 0.36598755555555557 and parameters: {'LightGBM (gbdt)': 0.14853174067938582, 'LightGBM (goss)': 0.001779641820848516, 'XGBoost': 0.762001383898789, 'AutoGluon': 0.13359145998018096}. Best is trial 24 with value: 0.36615777777777775.\n",
      "[I 2025-06-13 07:01:11,069] Trial 27 finished with value: 0.36490311111111107 and parameters: {'LightGBM (gbdt)': 0.20242670356131107, 'LightGBM (goss)': 0.08725511872024033, 'XGBoost': 0.6839294041749293, 'AutoGluon': 0.3390916662729111}. Best is trial 24 with value: 0.36615777777777775.\n",
      "[I 2025-06-13 07:01:12,877] Trial 28 finished with value: 0.36529577777777783 and parameters: {'LightGBM (gbdt)': 0.19820938287637657, 'LightGBM (goss)': 0.12202875810161816, 'XGBoost': 0.8605546067631611, 'AutoGluon': 0.32354197891478936}. Best is trial 24 with value: 0.36615777777777775.\n",
      "[I 2025-06-13 07:01:14,303] Trial 29 finished with value: 0.36481555555555567 and parameters: {'LightGBM (gbdt)': 0.2277299785541514, 'LightGBM (goss)': 0.1209977517290367, 'XGBoost': 0.8103381554654128, 'AutoGluon': 0.4156542081399103}. Best is trial 24 with value: 0.36615777777777775.\n",
      "[I 2025-06-13 07:01:16,289] Trial 30 finished with value: 0.36509955555555534 and parameters: {'LightGBM (gbdt)': 0.44298283756819035, 'LightGBM (goss)': 0.14289767869480574, 'XGBoost': 0.8685227684103737, 'AutoGluon': 0.40485788416979196}. Best is trial 24 with value: 0.36615777777777775.\n",
      "[I 2025-06-13 07:01:18,438] Trial 31 finished with value: 0.3651026666666667 and parameters: {'LightGBM (gbdt)': 0.38241846776918914, 'LightGBM (goss)': 0.14226876482726825, 'XGBoost': 0.871607889063384, 'AutoGluon': 0.40362140899039123}. Best is trial 24 with value: 0.36615777777777775.\n",
      "[I 2025-06-13 07:01:18,879] Trial 32 finished with value: 0.3650502222222222 and parameters: {'LightGBM (gbdt)': 0.43880372721798355, 'LightGBM (goss)': 0.2852966885360153, 'XGBoost': 0.858295892652274, 'AutoGluon': 0.4222831959458634}. Best is trial 24 with value: 0.36615777777777775.\n",
      "[I 2025-06-13 07:01:19,151] Trial 33 finished with value: 0.3655468888888889 and parameters: {'LightGBM (gbdt)': 0.4327194190332413, 'LightGBM (goss)': 0.3438676070072642, 'XGBoost': 0.8976270547221956, 'AutoGluon': 0.25088927452064846}. Best is trial 24 with value: 0.36615777777777775.\n",
      "[I 2025-06-13 07:01:25,192] Trial 36 finished with value: 0.3660473333333334 and parameters: {'LightGBM (gbdt)': 0.11370274670521537, 'LightGBM (goss)': 0.06680216673026704, 'XGBoost': 0.5325306084413154, 'AutoGluon': 0.09688205240393646}. Best is trial 24 with value: 0.36615777777777775.\n",
      "[I 2025-06-13 07:01:25,395] Trial 34 finished with value: 0.3656553333333334 and parameters: {'LightGBM (gbdt)': 0.11417324652439594, 'LightGBM (goss)': 0.2774272188256699, 'XGBoost': 0.5107980839183764, 'AutoGluon': 0.09812616155263784}. Best is trial 24 with value: 0.36615777777777775.\n",
      "[I 2025-06-13 07:01:25,746] Trial 37 finished with value: 0.3655811111111111 and parameters: {'LightGBM (gbdt)': 0.30588474716376063, 'LightGBM (goss)': 0.2236457071766914, 'XGBoost': 0.5294742376671921, 'AutoGluon': 0.11053966789113229}. Best is trial 24 with value: 0.36615777777777775.\n",
      "[I 2025-06-13 07:01:26,016] Trial 35 finished with value: 0.36583600000000005 and parameters: {'LightGBM (gbdt)': 0.11757638713680857, 'LightGBM (goss)': 0.2209285713834785, 'XGBoost': 0.5029440482531613, 'AutoGluon': 0.09224677159151914}. Best is trial 24 with value: 0.36615777777777775.\n",
      "[I 2025-06-13 07:01:31,209] Trial 40 finished with value: 0.3648593333333333 and parameters: {'LightGBM (gbdt)': 0.27023650116295883, 'LightGBM (goss)': 0.18496999460024466, 'XGBoost': 0.36174882162786215, 'AutoGluon': 0.19858376054216276}. Best is trial 24 with value: 0.36615777777777775.\n",
      "[I 2025-06-13 07:01:31,694] Trial 38 finished with value: 0.364657111111111 and parameters: {'LightGBM (gbdt)': 0.2709567761489318, 'LightGBM (goss)': 0.21281331596689082, 'XGBoost': 0.3404361961850847, 'AutoGluon': 0.20993129040468955}. Best is trial 24 with value: 0.36615777777777775.\n",
      "[I 2025-06-13 07:01:31,974] Trial 39 finished with value: 0.3649186666666667 and parameters: {'LightGBM (gbdt)': 0.3025594267575973, 'LightGBM (goss)': 0.2126877021543459, 'XGBoost': 0.39093069332048186, 'AutoGluon': 0.19772952235472102}. Best is trial 24 with value: 0.36615777777777775.\n",
      "[I 2025-06-13 07:01:32,425] Trial 41 finished with value: 0.3646139999999998 and parameters: {'LightGBM (gbdt)': 0.2796775316469354, 'LightGBM (goss)': 0.18245904840713129, 'XGBoost': 0.30944972822903577, 'AutoGluon': 0.1997054567516502}. Best is trial 24 with value: 0.36615777777777775.\n",
      "[I 2025-06-13 07:01:36,954] Trial 42 finished with value: 0.3653066666666666 and parameters: {'LightGBM (gbdt)': 0.27584456666035945, 'LightGBM (goss)': 0.07220474497012998, 'XGBoost': 0.6788304314605007, 'AutoGluon': 0.26990111784019133}. Best is trial 24 with value: 0.36615777777777775.\n",
      "[I 2025-06-13 07:01:37,873] Trial 43 finished with value: 0.364842888888889 and parameters: {'LightGBM (gbdt)': 0.08764788238088596, 'LightGBM (goss)': 0.05589148596888542, 'XGBoost': 0.6569868424264719, 'AutoGluon': 0.29034071262166855}. Best is trial 24 with value: 0.36615777777777775.\n",
      "[I 2025-06-13 07:01:38,524] Trial 45 finished with value: 0.3658700000000001 and parameters: {'LightGBM (gbdt)': 0.144100310738901, 'LightGBM (goss)': 0.06629501503254481, 'XGBoost': 0.664132037955705, 'AutoGluon': 0.14783172862159114}. Best is trial 24 with value: 0.36615777777777775.\n",
      "[I 2025-06-13 07:01:38,524] Trial 44 finished with value: 0.3648528888888889 and parameters: {'LightGBM (gbdt)': 0.07748372776827207, 'LightGBM (goss)': 0.06358006494273655, 'XGBoost': 0.6697350304577792, 'AutoGluon': 0.28872662147495476}. Best is trial 24 with value: 0.36615777777777775.\n",
      "[I 2025-06-13 07:01:43,253] Trial 46 finished with value: 0.36597244444444443 and parameters: {'LightGBM (gbdt)': 0.07297603932412218, 'LightGBM (goss)': 0.035493374895004016, 'XGBoost': 0.681353643422541, 'AutoGluon': 0.06504049427854244}. Best is trial 24 with value: 0.36615777777777775.\n",
      "[I 2025-06-13 07:01:43,802] Trial 47 finished with value: 0.3606402222222221 and parameters: {'LightGBM (gbdt)': 0.14254712445705436, 'LightGBM (goss)': 0.06173264586620114, 'XGBoost': 0.7907033999476107, 'AutoGluon': 0.9782227243525935}. Best is trial 24 with value: 0.36615777777777775.\n",
      "[I 2025-06-13 07:01:44,097] Trial 48 finished with value: 0.36573688888888883 and parameters: {'LightGBM (gbdt)': 0.009048906745927815, 'LightGBM (goss)': 0.11103176853230257, 'XGBoost': 0.4564530154034034, 'AutoGluon': 0.07596386214376769}. Best is trial 24 with value: 0.36615777777777775.\n",
      "[I 2025-06-13 07:01:44,819] Trial 49 finished with value: 0.3621944444444445 and parameters: {'LightGBM (gbdt)': 0.220343210744979, 'LightGBM (goss)': 0.7645269753380818, 'XGBoost': 0.45369058674086354, 'AutoGluon': 0.7926861121975561}. Best is trial 24 with value: 0.36615777777777775.\n",
      "[I 2025-06-13 07:01:49,593] Trial 50 finished with value: 0.3654395555555556 and parameters: {'LightGBM (gbdt)': 0.1522144917592249, 'LightGBM (goss)': 0.7153322726593085, 'XGBoost': 0.7881299561275872, 'AutoGluon': 0.07348567497885222}. Best is trial 24 with value: 0.36615777777777775.\n",
      "[I 2025-06-13 07:01:50,494] Trial 51 finished with value: 0.3640997777777777 and parameters: {'LightGBM (gbdt)': 0.21313584363921143, 'LightGBM (goss)': 0.8270549793454514, 'XGBoost': 0.9270091534302725, 'AutoGluon': 0.6479243645865389}. Best is trial 24 with value: 0.36615777777777775.\n",
      "[I 2025-06-13 07:01:50,838] Trial 53 finished with value: 0.36483977777777776 and parameters: {'LightGBM (gbdt)': 0.48761479315455436, 'LightGBM (goss)': 0.0002539347533548897, 'XGBoost': 0.21034162604748874, 'AutoGluon': 0.07176442498176491}. Best is trial 24 with value: 0.36615777777777775.\n",
      "[I 2025-06-13 07:01:52,073] Trial 52 finished with value: 0.36139111111111116 and parameters: {'LightGBM (gbdt)': 0.2382597259284906, 'LightGBM (goss)': 0.7308392508338943, 'XGBoost': 0.20208635840907263, 'AutoGluon': 0.6503662158745261}. Best is trial 24 with value: 0.36615777777777775.\n",
      "[I 2025-06-13 07:01:55,011] Trial 54 finished with value: 0.3647713333333335 and parameters: {'LightGBM (gbdt)': 0.05298190825789706, 'LightGBM (goss)': 0.9221446182656085, 'XGBoost': 0.6077893037404489, 'AutoGluon': 0.05768730008799441}. Best is trial 24 with value: 0.36615777777777775.\n",
      "[I 2025-06-13 07:01:55,601] Trial 56 finished with value: 0.3660731111111112 and parameters: {'LightGBM (gbdt)': 0.06736346001518052, 'LightGBM (goss)': 0.1634483817532234, 'XGBoost': 0.5693093493832121, 'AutoGluon': 0.03939808396915653}. Best is trial 24 with value: 0.36615777777777775.\n",
      "[I 2025-06-13 07:01:56,784] Trial 55 finished with value: 0.36471533333333317 and parameters: {'LightGBM (gbdt)': 0.05958400927027643, 'LightGBM (goss)': 0.9475644774302735, 'XGBoost': 0.5850928948907617, 'AutoGluon': 0.042093903398536414}. Best is trial 24 with value: 0.36615777777777775.\n",
      "[I 2025-06-13 07:02:00,013] Trial 59 finished with value: 0.3656695555555555 and parameters: {'LightGBM (gbdt)': 0.08042150084823661, 'LightGBM (goss)': 0.022307400343760105, 'XGBoost': 0.5525469474282383, 'AutoGluon': 0.13037954329697526}. Best is trial 24 with value: 0.36615777777777775.\n",
      "[I 2025-06-13 07:02:00,155] Trial 57 finished with value: 0.36603533333333327 and parameters: {'LightGBM (gbdt)': 0.06269205168741533, 'LightGBM (goss)': 0.04191660041448287, 'XGBoost': 0.5839021378072492, 'AutoGluon': 0.0488866972867023}. Best is trial 24 with value: 0.36615777777777775.\n",
      "[I 2025-06-13 07:02:01,221] Trial 58 finished with value: 0.36545844444444464 and parameters: {'LightGBM (gbdt)': 0.7975498754710214, 'LightGBM (goss)': 0.03170792924696836, 'XGBoost': 0.5596882236381034, 'AutoGluon': 0.009437977295165684}. Best is trial 24 with value: 0.36615777777777775.\n",
      "[I 2025-06-13 07:02:05,492] Trial 60 finished with value: 0.36508 and parameters: {'LightGBM (gbdt)': 0.7579888296468591, 'LightGBM (goss)': 0.43304865600198494, 'XGBoost': 0.5581070343744433, 'AutoGluon': 0.12051698430360498}. Best is trial 24 with value: 0.36615777777777775.\n",
      "[I 2025-06-13 07:02:05,888] Trial 61 finished with value: 0.3658242222222223 and parameters: {'LightGBM (gbdt)': 0.34030208843477044, 'LightGBM (goss)': 0.15186032763548366, 'XGBoost': 0.7621192288523586, 'AutoGluon': 0.1810946759478119}. Best is trial 24 with value: 0.36615777777777775.\n",
      "[I 2025-06-13 07:02:06,559] Trial 62 finished with value: 0.3650195555555556 and parameters: {'LightGBM (gbdt)': 0.840176702097547, 'LightGBM (goss)': 0.15819256763038178, 'XGBoost': 0.47713660712924577, 'AutoGluon': 0.15871061788403834}. Best is trial 24 with value: 0.36615777777777775.\n",
      "[I 2025-06-13 07:02:07,249] Trial 63 finished with value: 0.36586244444444443 and parameters: {'LightGBM (gbdt)': 0.1157056485931838, 'LightGBM (goss)': 0.1605363792010844, 'XGBoost': 0.7107275019493402, 'AutoGluon': 0.15510155365749292}. Best is trial 24 with value: 0.36615777777777775.\n",
      "[I 2025-06-13 07:02:10,634] Trial 65 finished with value: 0.36590977777777783 and parameters: {'LightGBM (gbdt)': 0.008793635729452923, 'LightGBM (goss)': 0.10692219340360871, 'XGBoost': 0.627465942163316, 'AutoGluon': 0.0003956756755462143}. Best is trial 24 with value: 0.36615777777777775.\n",
      "[I 2025-06-13 07:02:11,453] Trial 64 finished with value: 0.36576133333333344 and parameters: {'LightGBM (gbdt)': 0.1112455199851095, 'LightGBM (goss)': 0.15269792675113084, 'XGBoost': 0.7099137881144874, 'AutoGluon': 0.1705281250126997}. Best is trial 24 with value: 0.36615777777777775.\n",
      "[I 2025-06-13 07:02:12,465] Trial 66 finished with value: 0.36395844444444425 and parameters: {'LightGBM (gbdt)': 0.0006105799899810277, 'LightGBM (goss)': 0.09517003553433699, 'XGBoost': 0.4173140612131467, 'AutoGluon': 0.24474347118567952}. Best is trial 24 with value: 0.36615777777777775.\n",
      "[I 2025-06-13 07:02:15,382] Trial 67 finished with value: 0.36520466666666657 and parameters: {'LightGBM (gbdt)': 0.031430344099517976, 'LightGBM (goss)': 0.10102650001927915, 'XGBoost': 0.7030865026523907, 'AutoGluon': 0.2386983675486183}. Best is trial 24 with value: 0.36615777777777775.\n",
      "[I 2025-06-13 07:02:17,005] Trial 68 finished with value: 0.3662497777777776 and parameters: {'LightGBM (gbdt)': 0.18606113538202307, 'LightGBM (goss)': 0.03195626904210345, 'XGBoost': 0.7028527277187282, 'AutoGluon': 0.10061871125893351}. Best is trial 68 with value: 0.3662497777777776.\n",
      "[I 2025-06-13 07:02:17,081] Trial 69 finished with value: 0.3662524444444445 and parameters: {'LightGBM (gbdt)': 0.17109334679827626, 'LightGBM (goss)': 0.09969571552439058, 'XGBoost': 0.7603851841671994, 'AutoGluon': 0.04713760566312644}. Best is trial 69 with value: 0.3662524444444445.\n",
      "[I 2025-06-13 07:02:18,144] Trial 70 finished with value: 0.36344777777777776 and parameters: {'LightGBM (gbdt)': 0.17241198130433216, 'LightGBM (goss)': 0.039692583422494085, 'XGBoost': 0.01677758523155637, 'AutoGluon': 0.03999417160846107}. Best is trial 69 with value: 0.3662524444444445.\n",
      "[I 2025-06-13 07:02:22,008] Trial 71 finished with value: 0.3662173333333335 and parameters: {'LightGBM (gbdt)': 0.17124109102629442, 'LightGBM (goss)': 0.03627218906350238, 'XGBoost': 0.7745827887465897, 'AutoGluon': 0.04358686103366864}. Best is trial 69 with value: 0.3662524444444445.\n",
      "[I 2025-06-13 07:02:23,271] Trial 72 finished with value: 0.366138 and parameters: {'LightGBM (gbdt)': 0.18255343485144002, 'LightGBM (goss)': 0.000605863030428519, 'XGBoost': 0.7579753946392728, 'AutoGluon': 0.09444470039518685}. Best is trial 69 with value: 0.3662524444444445.\n",
      "[I 2025-06-13 07:02:23,716] Trial 73 finished with value: 0.36603977777777774 and parameters: {'LightGBM (gbdt)': 0.1834940360822807, 'LightGBM (goss)': 0.2535977701475771, 'XGBoost': 0.6372434457005264, 'AutoGluon': 0.03555580292338334}. Best is trial 69 with value: 0.3662524444444445.\n",
      "[I 2025-06-13 07:02:25,291] Trial 74 finished with value: 0.36612600000000006 and parameters: {'LightGBM (gbdt)': 0.17462151769390938, 'LightGBM (goss)': 0.0032273462702408044, 'XGBoost': 0.7565770418429304, 'AutoGluon': 0.10101805552895306}. Best is trial 69 with value: 0.3662524444444445.\n",
      "[I 2025-06-13 07:02:27,998] Trial 75 finished with value: 0.3662504444444445 and parameters: {'LightGBM (gbdt)': 0.1803850809283774, 'LightGBM (goss)': 0.09146268134362417, 'XGBoost': 0.8362626386196661, 'AutoGluon': 0.09462187685894129}. Best is trial 69 with value: 0.3662524444444445.\n",
      "[I 2025-06-13 07:02:28,760] Trial 77 finished with value: 0.36621 and parameters: {'LightGBM (gbdt)': 0.24664720473562157, 'LightGBM (goss)': 0.08621299449643605, 'XGBoost': 0.8217644062820361, 'AutoGluon': 0.10198957661439151}. Best is trial 69 with value: 0.3662524444444445.\n",
      "[I 2025-06-13 07:02:29,985] Trial 76 finished with value: 0.36611599999999994 and parameters: {'LightGBM (gbdt)': 0.2408291613812672, 'LightGBM (goss)': 0.24995039160754334, 'XGBoost': 0.750535112488851, 'AutoGluon': 0.03517675038758718}. Best is trial 69 with value: 0.3662524444444445.\n",
      "[I 2025-06-13 07:02:32,582] Trial 78 finished with value: 0.3661844444444444 and parameters: {'LightGBM (gbdt)': 0.23959219364138806, 'LightGBM (goss)': 0.009995333326896935, 'XGBoost': 0.8325199338547342, 'AutoGluon': 0.09334664338173082}. Best is trial 69 with value: 0.3662524444444445.\n",
      "[I 2025-06-13 07:02:34,305] Trial 79 finished with value: 0.36620688888888875 and parameters: {'LightGBM (gbdt)': 0.2489927638619903, 'LightGBM (goss)': 0.00013419810479752665, 'XGBoost': 0.8273822000597341, 'AutoGluon': 0.09285270869082039}. Best is trial 69 with value: 0.3662524444444445.\n",
      "[I 2025-06-13 07:02:34,841] Trial 80 finished with value: 0.36438822222222217 and parameters: {'LightGBM (gbdt)': 0.2390300271497493, 'LightGBM (goss)': 0.0007204437066857805, 'XGBoost': 0.8178660268427004, 'AutoGluon': 0.46598738585501176}. Best is trial 69 with value: 0.3662524444444445.\n",
      "[I 2025-06-13 07:02:37,575] Trial 81 finished with value: 0.3661004444444444 and parameters: {'LightGBM (gbdt)': 0.3816444887064548, 'LightGBM (goss)': 0.12411485930941646, 'XGBoost': 0.830201223168385, 'AutoGluon': 0.11445286860322201}. Best is trial 69 with value: 0.3662524444444445.\n",
      "[I 2025-06-13 07:02:39,321] Trial 82 finished with value: 0.36404177777777785 and parameters: {'LightGBM (gbdt)': 0.3048445904210475, 'LightGBM (goss)': 0.09114309911971878, 'XGBoost': 0.8397350634702395, 'AutoGluon': 0.6030058756704274}. Best is trial 69 with value: 0.3662524444444445.\n",
      "[I 2025-06-13 07:02:39,888] Trial 84 finished with value: 0.3661688888888888 and parameters: {'LightGBM (gbdt)': 0.31264003615902475, 'LightGBM (goss)': 0.0867259726372786, 'XGBoost': 0.8449911499314887, 'AutoGluon': 0.12554408772874473}. Best is trial 69 with value: 0.3662524444444445.\n",
      "[I 2025-06-13 07:02:39,941] Trial 83 finished with value: 0.36605711111111117 and parameters: {'LightGBM (gbdt)': 0.3096023025101834, 'LightGBM (goss)': 0.12290479730974588, 'XGBoost': 0.832877376371904, 'AutoGluon': 0.13844934194653413}. Best is trial 69 with value: 0.3662524444444445.\n",
      "[I 2025-06-13 07:02:44,251] Trial 85 finished with value: 0.3642844444444444 and parameters: {'LightGBM (gbdt)': 0.3093459087381128, 'LightGBM (goss)': 0.08014409176159076, 'XGBoost': 0.9433059938561199, 'AutoGluon': 0.5941697411938016}. Best is trial 69 with value: 0.3662524444444445.\n",
      "[I 2025-06-13 07:02:45,272] Trial 88 finished with value: 0.36625955555555567 and parameters: {'LightGBM (gbdt)': 0.2574353109285784, 'LightGBM (goss)': 0.08582207013217136, 'XGBoost': 0.9472746422843248, 'AutoGluon': 0.08358249303642137}. Best is trial 88 with value: 0.36625955555555567.\n",
      "[I 2025-06-13 07:02:45,693] Trial 86 finished with value: 0.3663060000000001 and parameters: {'LightGBM (gbdt)': 0.20088802881097856, 'LightGBM (goss)': 0.0732242967712774, 'XGBoost': 0.9295821740009134, 'AutoGluon': 0.08009711608937602}. Best is trial 86 with value: 0.3663060000000001.\n",
      "[I 2025-06-13 07:02:45,869] Trial 87 finished with value: 0.3660444444444444 and parameters: {'LightGBM (gbdt)': 0.2598652456706735, 'LightGBM (goss)': 0.0818493527667123, 'XGBoost': 0.9390654290123491, 'AutoGluon': 0.18355999216904245}. Best is trial 86 with value: 0.3663060000000001.\n",
      "[I 2025-06-13 07:02:51,751] Trial 92 finished with value: 0.36626311111111115 and parameters: {'LightGBM (gbdt)': 0.20022858404876198, 'LightGBM (goss)': 0.04592913974911723, 'XGBoost': 0.8906795555751422, 'AutoGluon': 0.0664299583251236}. Best is trial 86 with value: 0.3663060000000001.\n",
      "[I 2025-06-13 07:02:52,272] Trial 90 finished with value: 0.3659497777777778 and parameters: {'LightGBM (gbdt)': 0.21020093242382676, 'LightGBM (goss)': 0.04982536257105815, 'XGBoost': 0.900641452669229, 'AutoGluon': 0.181281791775489}. Best is trial 86 with value: 0.3663060000000001.\n",
      "[I 2025-06-13 07:02:52,657] Trial 89 finished with value: 0.3659326666666667 and parameters: {'LightGBM (gbdt)': 0.20636887660864722, 'LightGBM (goss)': 0.04916074123918208, 'XGBoost': 0.8969550057065493, 'AutoGluon': 0.1857995449338053}. Best is trial 86 with value: 0.3663060000000001.\n",
      "[I 2025-06-13 07:02:52,712] Trial 91 finished with value: 0.3662002222222223 and parameters: {'LightGBM (gbdt)': 0.20877022619456356, 'LightGBM (goss)': 0.1885467841201327, 'XGBoost': 0.9990933919592352, 'AutoGluon': 0.07954842642681725}. Best is trial 86 with value: 0.3663060000000001.\n",
      "[I 2025-06-13 07:02:58,803] Trial 93 finished with value: 0.36619799999999986 and parameters: {'LightGBM (gbdt)': 0.20578932420276447, 'LightGBM (goss)': 0.19087673248912065, 'XGBoost': 0.8910164713427996, 'AutoGluon': 0.07437063148192469}. Best is trial 86 with value: 0.3663060000000001.\n",
      "[I 2025-06-13 07:02:58,988] Trial 96 finished with value: 0.36609777777777774 and parameters: {'LightGBM (gbdt)': 0.15619987035539246, 'LightGBM (goss)': 0.18347469778484937, 'XGBoost': 0.9806559278704843, 'AutoGluon': 0.018015064814029723}. Best is trial 86 with value: 0.3663060000000001.\n",
      "[I 2025-06-13 07:02:59,302] Trial 94 finished with value: 0.36613466666666683 and parameters: {'LightGBM (gbdt)': 0.20341311068636692, 'LightGBM (goss)': 0.022913399202895274, 'XGBoost': 0.9719151604449094, 'AutoGluon': 0.08197251430059802}. Best is trial 86 with value: 0.3663060000000001.\n",
      "[I 2025-06-13 07:02:59,824] Trial 95 finished with value: 0.3661564444444444 and parameters: {'LightGBM (gbdt)': 0.15316181770541282, 'LightGBM (goss)': 0.18203216953320003, 'XGBoost': 0.979640127296832, 'AutoGluon': 0.07647213459012389}. Best is trial 86 with value: 0.3663060000000001.\n",
      "[I 2025-06-13 07:03:04,953] Trial 98 finished with value: 0.36612600000000006 and parameters: {'LightGBM (gbdt)': 0.1319830457397918, 'LightGBM (goss)': 0.13061682262389163, 'XGBoost': 0.999686642864628, 'AutoGluon': 0.061379897205780076}. Best is trial 86 with value: 0.3663060000000001.\n",
      "[I 2025-06-13 07:03:05,465] Trial 100 finished with value: 0.3662208888888888 and parameters: {'LightGBM (gbdt)': 0.28244411051425555, 'LightGBM (goss)': 0.13664757665837812, 'XGBoost': 0.9207592729032797, 'AutoGluon': 0.06038180800379314}. Best is trial 86 with value: 0.3663060000000001.\n",
      "[I 2025-06-13 07:03:05,535] Trial 97 finished with value: 0.36622466666666675 and parameters: {'LightGBM (gbdt)': 0.250554597354672, 'LightGBM (goss)': 0.1369500978224013, 'XGBoost': 0.962442884993372, 'AutoGluon': 0.05904597157866195}. Best is trial 86 with value: 0.3663060000000001.\n",
      "[I 2025-06-13 07:03:06,202] Trial 99 finished with value: 0.3661735555555556 and parameters: {'LightGBM (gbdt)': 0.3680517712770994, 'LightGBM (goss)': 0.13477002482249376, 'XGBoost': 0.9941900596498685, 'AutoGluon': 0.0029582807225586455}. Best is trial 86 with value: 0.3663060000000001.\n",
      "[I 2025-06-13 07:03:11,104] Trial 101 finished with value: 0.3656537777777776 and parameters: {'LightGBM (gbdt)': 0.9824577067163961, 'LightGBM (goss)': 0.06502117465511012, 'XGBoost': 0.7905121847376985, 'AutoGluon': 0.001413520089008788}. Best is trial 86 with value: 0.3663060000000001.\n",
      "[I 2025-06-13 07:03:11,602] Trial 103 finished with value: 0.36581777777777785 and parameters: {'LightGBM (gbdt)': 0.9703156326373632, 'LightGBM (goss)': 0.1324216352665163, 'XGBoost': 0.9190875365737476, 'AutoGluon': 0.004977899302398087}. Best is trial 86 with value: 0.3663060000000001.\n",
      "[I 2025-06-13 07:03:11,807] Trial 102 finished with value: 0.366193111111111 and parameters: {'LightGBM (gbdt)': 0.2928495983495469, 'LightGBM (goss)': 0.13929141223603303, 'XGBoost': 0.9156831536854089, 'AutoGluon': 0.01650849499829536}. Best is trial 86 with value: 0.3663060000000001.\n",
      "[I 2025-06-13 07:03:12,445] Trial 104 finished with value: 0.3662602222222221 and parameters: {'LightGBM (gbdt)': 0.28922176650791065, 'LightGBM (goss)': 0.06749181195332002, 'XGBoost': 0.9211506031983002, 'AutoGluon': 0.05377054922256222}. Best is trial 86 with value: 0.3663060000000001.\n",
      "[I 2025-06-13 07:03:17,217] Trial 105 finished with value: 0.366236 and parameters: {'LightGBM (gbdt)': 0.2818472628715294, 'LightGBM (goss)': 0.11066772504111842, 'XGBoost': 0.95113171481893, 'AutoGluon': 0.058652380906370004}. Best is trial 86 with value: 0.3663060000000001.\n",
      "[I 2025-06-13 07:03:18,017] Trial 107 finished with value: 0.3662384444444444 and parameters: {'LightGBM (gbdt)': 0.25965985569239214, 'LightGBM (goss)': 0.10746013727525075, 'XGBoost': 0.87299993184999, 'AutoGluon': 0.05869844391971389}. Best is trial 86 with value: 0.3663060000000001.\n",
      "[I 2025-06-13 07:03:18,094] Trial 106 finished with value: 0.36613977777777784 and parameters: {'LightGBM (gbdt)': 0.5748334615880899, 'LightGBM (goss)': 0.1109177386537614, 'XGBoost': 0.8775967140520775, 'AutoGluon': 0.04887415781825158}. Best is trial 86 with value: 0.3663060000000001.\n",
      "[I 2025-06-13 07:03:19,116] Trial 108 finished with value: 0.3662060000000001 and parameters: {'LightGBM (gbdt)': 0.3388865970689625, 'LightGBM (goss)': 0.11132538378427427, 'XGBoost': 0.9504332361719973, 'AutoGluon': 0.046511499956777586}. Best is trial 86 with value: 0.3663060000000001.\n",
      "[I 2025-06-13 07:03:22,532] Trial 109 finished with value: 0.3662655555555554 and parameters: {'LightGBM (gbdt)': 0.33474362793779544, 'LightGBM (goss)': 0.056642007858201115, 'XGBoost': 0.9498212973926943, 'AutoGluon': 0.053996452994131916}. Best is trial 86 with value: 0.3663060000000001.\n",
      "[I 2025-06-13 07:03:23,797] Trial 110 finished with value: 0.36613955555555544 and parameters: {'LightGBM (gbdt)': 0.3294290313588168, 'LightGBM (goss)': 0.10041894563762244, 'XGBoost': 0.9488838427076086, 'AutoGluon': 0.1435309925977023}. Best is trial 86 with value: 0.3663060000000001.\n",
      "[I 2025-06-13 07:03:24,406] Trial 111 finished with value: 0.36617377777777793 and parameters: {'LightGBM (gbdt)': 0.33038590992844064, 'LightGBM (goss)': 0.10791296671671839, 'XGBoost': 0.9569045437859897, 'AutoGluon': 0.13713153141647932}. Best is trial 86 with value: 0.3663060000000001.\n",
      "[I 2025-06-13 07:03:24,776] Trial 112 finished with value: 0.3660515555555555 and parameters: {'LightGBM (gbdt)': 0.28405547262746966, 'LightGBM (goss)': 0.2327055413615786, 'XGBoost': 0.9564272458088093, 'AutoGluon': 0.1328675295307058}. Best is trial 86 with value: 0.3663060000000001.\n",
      "[I 2025-06-13 07:03:29,706] Trial 113 finished with value: 0.36621911111111116 and parameters: {'LightGBM (gbdt)': 0.26519996356293624, 'LightGBM (goss)': 0.062162617573173554, 'XGBoost': 0.9599172173918992, 'AutoGluon': 0.140133931168696}. Best is trial 86 with value: 0.3663060000000001.\n",
      "[I 2025-06-13 07:03:30,414] Trial 116 finished with value: 0.36600777777777777 and parameters: {'LightGBM (gbdt)': 0.4111101197870267, 'LightGBM (goss)': 0.3080303318701594, 'XGBoost': 0.8608393038354504, 'AutoGluon': 0.06367668080343282}. Best is trial 86 with value: 0.3663060000000001.\n",
      "[I 2025-06-13 07:03:30,532] Trial 115 finished with value: 0.3662611111111111 and parameters: {'LightGBM (gbdt)': 0.2795661026346391, 'LightGBM (goss)': 0.06622296943808581, 'XGBoost': 0.92394915278389, 'AutoGluon': 0.05807284986521766}. Best is trial 86 with value: 0.3663060000000001.\n",
      "[I 2025-06-13 07:03:30,775] Trial 114 finished with value: 0.36626177777777774 and parameters: {'LightGBM (gbdt)': 0.35634082660318245, 'LightGBM (goss)': 0.05968300237100575, 'XGBoost': 0.9585327606711209, 'AutoGluon': 0.0640663268493719}. Best is trial 86 with value: 0.3663060000000001.\n",
      "[I 2025-06-13 07:03:36,315] Trial 117 finished with value: 0.36628266666666665 and parameters: {'LightGBM (gbdt)': 0.2277574710453139, 'LightGBM (goss)': 0.0691785560338289, 'XGBoost': 0.8777816696771246, 'AutoGluon': 0.06031261621627483}. Best is trial 86 with value: 0.3663060000000001.\n",
      "[I 2025-06-13 07:03:36,985] Trial 118 finished with value: 0.36620977777777786 and parameters: {'LightGBM (gbdt)': 0.22852851560099718, 'LightGBM (goss)': 0.07318391387873738, 'XGBoost': 0.9249106755859602, 'AutoGluon': 0.1140737391442383}. Best is trial 86 with value: 0.3663060000000001.\n",
      "[I 2025-06-13 07:03:37,360] Trial 119 finished with value: 0.36568577777777783 and parameters: {'LightGBM (gbdt)': 0.23163819428076854, 'LightGBM (goss)': 0.5727635815702756, 'XGBoost': 0.8793749301787884, 'AutoGluon': 0.11467583955612864}. Best is trial 86 with value: 0.3663060000000001.\n",
      "[I 2025-06-13 07:03:37,515] Trial 120 finished with value: 0.36619511111111086 and parameters: {'LightGBM (gbdt)': 0.22474079011681708, 'LightGBM (goss)': 0.04469245001067907, 'XGBoost': 0.8801453328871361, 'AutoGluon': 0.022498810439251622}. Best is trial 86 with value: 0.3663060000000001.\n",
      "[I 2025-06-13 07:03:42,940] Trial 121 finished with value: 0.36617933333333336 and parameters: {'LightGBM (gbdt)': 0.2273547023993785, 'LightGBM (goss)': 0.05533836863679985, 'XGBoost': 0.8773902290193112, 'AutoGluon': 0.027519297684429588}. Best is trial 86 with value: 0.3663060000000001.\n",
      "[I 2025-06-13 07:03:43,587] Trial 123 finished with value: 0.36627977777777754 and parameters: {'LightGBM (gbdt)': 0.35814531770512364, 'LightGBM (goss)': 0.023866428768668325, 'XGBoost': 0.9010729262346648, 'AutoGluon': 0.025450077383118275}. Best is trial 86 with value: 0.3663060000000001.\n",
      "[I 2025-06-13 07:03:43,776] Trial 122 finished with value: 0.36619422222222225 and parameters: {'LightGBM (gbdt)': 0.4900189360513671, 'LightGBM (goss)': 0.0480250548362853, 'XGBoost': 0.8857374333349503, 'AutoGluon': 0.03065686004510659}. Best is trial 86 with value: 0.3663060000000001.\n",
      "[I 2025-06-13 07:03:43,949] Trial 124 finished with value: 0.36622933333333335 and parameters: {'LightGBM (gbdt)': 0.4667869847227324, 'LightGBM (goss)': 0.04803026576617859, 'XGBoost': 0.9034513190855534, 'AutoGluon': 0.026295258319350687}. Best is trial 86 with value: 0.3663060000000001.\n",
      "[I 2025-06-13 07:03:49,689] Trial 125 finished with value: 0.3662720000000001 and parameters: {'LightGBM (gbdt)': 0.36052533145936705, 'LightGBM (goss)': 0.03269163353099843, 'XGBoost': 0.9009017647517169, 'AutoGluon': 0.07911569651363978}. Best is trial 86 with value: 0.3663060000000001.\n",
      "[I 2025-06-13 07:03:50,100] Trial 127 finished with value: 0.36615044444444433 and parameters: {'LightGBM (gbdt)': 0.46544618742719845, 'LightGBM (goss)': 0.025847778071652727, 'XGBoost': 0.857463401972198, 'AutoGluon': 0.08505318547929941}. Best is trial 86 with value: 0.3663060000000001.\n",
      "[I 2025-06-13 07:03:50,354] Trial 128 finished with value: 0.36624844444444443 and parameters: {'LightGBM (gbdt)': 0.34675624218928813, 'LightGBM (goss)': 0.025072202677951898, 'XGBoost': 0.8519338647458273, 'AutoGluon': 0.08916659629920302}. Best is trial 86 with value: 0.3663060000000001.\n",
      "[I 2025-06-13 07:03:50,483] Trial 126 finished with value: 0.36618599999999984 and parameters: {'LightGBM (gbdt)': 0.4788110126867651, 'LightGBM (goss)': 0.02651513035474794, 'XGBoost': 0.9089065604892654, 'AutoGluon': 0.02734263362514853}. Best is trial 86 with value: 0.3663060000000001.\n",
      "[I 2025-06-13 07:03:55,562] Trial 129 finished with value: 0.3636751111111112 and parameters: {'LightGBM (gbdt)': 0.40222110667809463, 'LightGBM (goss)': 0.026026022970316032, 'XGBoost': 0.9341488022665619, 'AutoGluon': 0.7434809890759557}. Best is trial 86 with value: 0.3663060000000001.\n",
      "[I 2025-06-13 07:03:55,821] Trial 132 finished with value: 0.36580888888888885 and parameters: {'LightGBM (gbdt)': 0.4084518509449406, 'LightGBM (goss)': 0.0675570119270999, 'XGBoost': 0.809835878288261, 'AutoGluon': 0.2205479160553047}. Best is trial 86 with value: 0.3663060000000001.\n",
      "[I 2025-06-13 07:03:56,284] Trial 131 finished with value: 0.3661753333333332 and parameters: {'LightGBM (gbdt)': 0.39515279156402106, 'LightGBM (goss)': 0.07677660909492486, 'XGBoost': 0.9142690943602736, 'AutoGluon': 0.10857451916871087}. Best is trial 86 with value: 0.3663060000000001.\n",
      "[I 2025-06-13 07:03:56,616] Trial 130 finished with value: 0.36615 and parameters: {'LightGBM (gbdt)': 0.358389711985787, 'LightGBM (goss)': 0.025414505739328408, 'XGBoost': 0.9288511334962485, 'AutoGluon': 0.16444218375549538}. Best is trial 86 with value: 0.3663060000000001.\n",
      "[I 2025-06-13 07:04:02,661] Trial 133 finished with value: 0.3661284444444444 and parameters: {'LightGBM (gbdt)': 0.3723480115517015, 'LightGBM (goss)': 0.07136104966863582, 'XGBoost': 0.9281151174829321, 'AutoGluon': 0.16253986486343186}. Best is trial 86 with value: 0.3663060000000001.\n",
      "[I 2025-06-13 07:04:02,736] Trial 134 finished with value: 0.366164 and parameters: {'LightGBM (gbdt)': 0.3651566410990086, 'LightGBM (goss)': 0.08006229392365546, 'XGBoost': 0.8528337610613022, 'AutoGluon': 0.10084074194894066}. Best is trial 86 with value: 0.3663060000000001.\n",
      "[I 2025-06-13 07:04:02,991] Trial 135 finished with value: 0.36626022222222215 and parameters: {'LightGBM (gbdt)': 0.3529248094205301, 'LightGBM (goss)': 0.023373299788514355, 'XGBoost': 0.9291499182319272, 'AutoGluon': 0.08569072194591976}. Best is trial 86 with value: 0.3663060000000001.\n",
      "[I 2025-06-13 07:04:03,163] Trial 136 finished with value: 0.3662026666666667 and parameters: {'LightGBM (gbdt)': 0.34985897483086953, 'LightGBM (goss)': 0.08615344144863984, 'XGBoost': 0.8525783575362392, 'AutoGluon': 0.08808676721127053}. Best is trial 86 with value: 0.3663060000000001.\n",
      "[I 2025-06-13 07:04:09,131] Trial 137 finished with value: 0.3662873333333334 and parameters: {'LightGBM (gbdt)': 0.35041618531220614, 'LightGBM (goss)': 0.01605694086218458, 'XGBoost': 0.975562755030956, 'AutoGluon': 0.08119522378931367}. Best is trial 86 with value: 0.3663060000000001.\n",
      "[I 2025-06-13 07:04:09,224] Trial 138 finished with value: 0.3662724444444445 and parameters: {'LightGBM (gbdt)': 0.3429058721911993, 'LightGBM (goss)': 0.01833049143867893, 'XGBoost': 0.8071370538032229, 'AutoGluon': 0.07796711458234169}. Best is trial 86 with value: 0.3663060000000001.\n",
      "[I 2025-06-13 07:04:09,925] Trial 139 finished with value: 0.3662639999999999 and parameters: {'LightGBM (gbdt)': 0.3231417725725518, 'LightGBM (goss)': 0.0464889634305207, 'XGBoost': 0.9711586456324265, 'AutoGluon': 0.07382462044616953}. Best is trial 86 with value: 0.3663060000000001.\n",
      "[I 2025-06-13 07:04:10,140] Trial 140 finished with value: 0.36624688888888884 and parameters: {'LightGBM (gbdt)': 0.313780844943968, 'LightGBM (goss)': 0.04695095986855727, 'XGBoost': 0.9036695242838865, 'AutoGluon': 0.07143921650246432}. Best is trial 86 with value: 0.3663060000000001.\n",
      "[I 2025-06-13 07:04:15,672] Trial 143 finished with value: 0.36626044444444444 and parameters: {'LightGBM (gbdt)': 0.32062155686053834, 'LightGBM (goss)': 0.04860869718766903, 'XGBoost': 0.9761779107457561, 'AutoGluon': 0.07205165475501236}. Best is trial 86 with value: 0.3663060000000001.\n",
      "[I 2025-06-13 07:04:15,908] Trial 141 finished with value: 0.3660711111111113 and parameters: {'LightGBM (gbdt)': 0.3177947963625901, 'LightGBM (goss)': 0.4107380768513447, 'XGBoost': 0.9773066153333315, 'AutoGluon': 0.04541771677937509}. Best is trial 86 with value: 0.3663060000000001.\n",
      "[I 2025-06-13 07:04:16,153] Trial 142 finished with value: 0.36605933333333324 and parameters: {'LightGBM (gbdt)': 0.32355984989460224, 'LightGBM (goss)': 0.3942208647337484, 'XGBoost': 0.9769490923655165, 'AutoGluon': 0.07069856433968955}. Best is trial 86 with value: 0.3663060000000001.\n",
      "[I 2025-06-13 07:04:16,311] Trial 144 finished with value: 0.3663066666666666 and parameters: {'LightGBM (gbdt)': 0.3194725086485041, 'LightGBM (goss)': 0.014250034444469206, 'XGBoost': 0.974060665111306, 'AutoGluon': 0.04531252531698081}. Best is trial 144 with value: 0.3663066666666666.\n",
      "[I 2025-06-13 07:04:21,662] Trial 148 finished with value: 0.3662175555555557 and parameters: {'LightGBM (gbdt)': 0.43235634308655047, 'LightGBM (goss)': 0.04429301634186304, 'XGBoost': 0.9796261949611003, 'AutoGluon': 0.11648111813056802}. Best is trial 144 with value: 0.3663066666666666.\n",
      "[I 2025-06-13 07:04:21,874] Trial 145 finished with value: 0.3662231111111112 and parameters: {'LightGBM (gbdt)': 0.3848099061653659, 'LightGBM (goss)': 0.012480384958987092, 'XGBoost': 0.9684846947654026, 'AutoGluon': 0.12083603201677103}. Best is trial 144 with value: 0.3663066666666666.\n",
      "[I 2025-06-13 07:04:22,205] Trial 147 finished with value: 0.3662402222222222 and parameters: {'LightGBM (gbdt)': 0.42114435676908774, 'LightGBM (goss)': 0.007755662315026342, 'XGBoost': 0.9791478607759753, 'AutoGluon': 0.11878830315652741}. Best is trial 144 with value: 0.3663066666666666.\n",
      "[I 2025-06-13 07:04:22,437] Trial 146 finished with value: 0.3662184444444445 and parameters: {'LightGBM (gbdt)': 0.4214992254193147, 'LightGBM (goss)': 0.018018820989682112, 'XGBoost': 0.9842071874313122, 'AutoGluon': 0.1185809236224368}. Best is trial 144 with value: 0.3663066666666666.\n",
      "[I 2025-06-13 07:04:28,383] Trial 151 finished with value: 0.36630488888888885 and parameters: {'LightGBM (gbdt)': 0.3537175210708893, 'LightGBM (goss)': 0.017911056443257974, 'XGBoost': 0.9371004989119296, 'AutoGluon': 0.03878523278135268}. Best is trial 144 with value: 0.3663066666666666.\n",
      "[I 2025-06-13 07:04:28,592] Trial 149 finished with value: 0.3662984444444445 and parameters: {'LightGBM (gbdt)': 0.37658021445690365, 'LightGBM (goss)': 0.013896377742069551, 'XGBoost': 0.9331094530091183, 'AutoGluon': 0.04860725908073946}. Best is trial 144 with value: 0.3663066666666666.\n",
      "[I 2025-06-13 07:04:29,016] Trial 150 finished with value: 0.3637895555555555 and parameters: {'LightGBM (gbdt)': 0.35681650782431457, 'LightGBM (goss)': 0.017048909781784014, 'XGBoost': 0.059164893497064885, 'AutoGluon': 0.03885486678800855}. Best is trial 144 with value: 0.3663066666666666.\n",
      "[I 2025-06-13 07:04:29,104] Trial 152 finished with value: 0.3662455555555556 and parameters: {'LightGBM (gbdt)': 0.35452325517898803, 'LightGBM (goss)': 0.06037535807232757, 'XGBoost': 0.9399991395307342, 'AutoGluon': 0.04245637755213076}. Best is trial 144 with value: 0.3663066666666666.\n",
      "[I 2025-06-13 07:04:35,823] Trial 155 finished with value: 0.36626577777777797 and parameters: {'LightGBM (gbdt)': 0.3823995138655485, 'LightGBM (goss)': 0.042871697793640015, 'XGBoost': 0.9395911829071402, 'AutoGluon': 0.07062873186776315}. Best is trial 144 with value: 0.3663066666666666.\n",
      "[I 2025-06-13 07:04:36,178] Trial 156 finished with value: 0.3662173333333334 and parameters: {'LightGBM (gbdt)': 0.3287251403853174, 'LightGBM (goss)': 0.03611668994963167, 'XGBoost': 0.9979365408994751, 'AutoGluon': 0.012789920828371958}. Best is trial 144 with value: 0.3663066666666666.\n",
      "[I 2025-06-13 07:04:36,253] Trial 153 finished with value: 0.36537822222222227 and parameters: {'LightGBM (gbdt)': 0.3591223709808221, 'LightGBM (goss)': 0.03929590178196908, 'XGBoost': 0.938457599340283, 'AutoGluon': 0.36322569608023175}. Best is trial 144 with value: 0.3663066666666666.\n",
      "[I 2025-06-13 07:04:36,394] Trial 154 finished with value: 0.3662222222222222 and parameters: {'LightGBM (gbdt)': 0.3852925156652878, 'LightGBM (goss)': 0.041370186603713215, 'XGBoost': 0.9421945601377489, 'AutoGluon': 0.020461250152428626}. Best is trial 144 with value: 0.3663066666666666.\n",
      "[I 2025-06-13 07:04:41,791] Trial 158 finished with value: 0.3662499999999999 and parameters: {'LightGBM (gbdt)': 0.3869095767526162, 'LightGBM (goss)': 0.056637436687654676, 'XGBoost': 0.8946735698059621, 'AutoGluon': 0.06979141058487132}. Best is trial 144 with value: 0.3663066666666666.\n",
      "[I 2025-06-13 07:04:41,877] Trial 157 finished with value: 0.3651957777777777 and parameters: {'LightGBM (gbdt)': 0.3848737435142352, 'LightGBM (goss)': 0.9959694824008313, 'XGBoost': 0.8967470100823905, 'AutoGluon': 0.0193044488607671}. Best is trial 144 with value: 0.3663066666666666.\n",
      "[I 2025-06-13 07:04:42,092] Trial 160 finished with value: 0.3662753333333334 and parameters: {'LightGBM (gbdt)': 0.38370517755413297, 'LightGBM (goss)': 0.006892637114441635, 'XGBoost': 0.8947231610228682, 'AutoGluon': 0.06471311306320585}. Best is trial 144 with value: 0.3663066666666666.\n",
      "[I 2025-06-13 07:04:42,641] Trial 159 finished with value: 0.3662733333333334 and parameters: {'LightGBM (gbdt)': 0.39185281653900456, 'LightGBM (goss)': 0.0055914005380886846, 'XGBoost': 0.8976410444448458, 'AutoGluon': 0.06641936613078975}. Best is trial 144 with value: 0.3663066666666666.\n",
      "[I 2025-06-13 07:04:48,632] Trial 162 finished with value: 0.36627733333333323 and parameters: {'LightGBM (gbdt)': 0.3035202105247322, 'LightGBM (goss)': 0.013287915847270099, 'XGBoost': 0.9662801379367255, 'AutoGluon': 0.05508434201071355}. Best is trial 144 with value: 0.3663066666666666.\n",
      "[I 2025-06-13 07:04:48,787] Trial 163 finished with value: 0.36516333333333334 and parameters: {'LightGBM (gbdt)': 0.2947029659648366, 'LightGBM (goss)': 0.0014677737677264765, 'XGBoost': 0.17320557137178083, 'AutoGluon': 0.05221494888565398}. Best is trial 144 with value: 0.3663066666666666.\n",
      "[I 2025-06-13 07:04:48,998] Trial 161 finished with value: 0.3662411111111112 and parameters: {'LightGBM (gbdt)': 0.2955885463988289, 'LightGBM (goss)': 0.00911016739305456, 'XGBoost': 0.9609234075447917, 'AutoGluon': 0.0020113741315122974}. Best is trial 144 with value: 0.3663066666666666.\n",
      "[I 2025-06-13 07:04:49,229] Trial 164 finished with value: 0.3662708888888887 and parameters: {'LightGBM (gbdt)': 0.4483245570809451, 'LightGBM (goss)': 0.0024561217431809373, 'XGBoost': 0.9598312516688164, 'AutoGluon': 0.04946071915366698}. Best is trial 144 with value: 0.3663066666666666.\n",
      "[I 2025-06-13 07:04:56,044] Trial 168 finished with value: 0.366281111111111 and parameters: {'LightGBM (gbdt)': 0.441011844813169, 'LightGBM (goss)': 0.004501196962165205, 'XGBoost': 0.8981690081158377, 'AutoGluon': 0.03783668356246661}. Best is trial 144 with value: 0.3663066666666666.\n",
      "[I 2025-06-13 07:04:56,110] Trial 165 finished with value: 0.366278888888889 and parameters: {'LightGBM (gbdt)': 0.3418730845939357, 'LightGBM (goss)': 0.0008591599555502465, 'XGBoost': 0.958590271928355, 'AutoGluon': 0.043986194852373026}. Best is trial 144 with value: 0.3663066666666666.\n",
      "[I 2025-06-13 07:04:56,311] Trial 166 finished with value: 0.36629000000000006 and parameters: {'LightGBM (gbdt)': 0.3435722542093897, 'LightGBM (goss)': 0.004777724075956481, 'XGBoost': 0.9603155529668764, 'AutoGluon': 0.043986179458934946}. Best is trial 144 with value: 0.3663066666666666.\n",
      "[I 2025-06-13 07:04:56,526] Trial 167 finished with value: 0.366301111111111 and parameters: {'LightGBM (gbdt)': 0.33609229469128044, 'LightGBM (goss)': 0.001057672819833778, 'XGBoost': 0.9091296953118168, 'AutoGluon': 0.031678204569387025}. Best is trial 144 with value: 0.3663066666666666.\n",
      "[I 2025-06-13 07:05:01,634] Trial 172 finished with value: 0.3662591111111111 and parameters: {'LightGBM (gbdt)': 0.40481123578949063, 'LightGBM (goss)': 0.00010097768416154028, 'XGBoost': 0.9129810373421229, 'AutoGluon': 0.03364930461155541}. Best is trial 144 with value: 0.3663066666666666.\n",
      "[I 2025-06-13 07:05:01,923] Trial 169 finished with value: 0.36628888888888894 and parameters: {'LightGBM (gbdt)': 0.44316795392294095, 'LightGBM (goss)': 0.0051033335738699245, 'XGBoost': 0.9121357837313621, 'AutoGluon': 0.03626670638724559}. Best is trial 144 with value: 0.3663066666666666.\n",
      "[I 2025-06-13 07:05:02,354] Trial 171 finished with value: 0.3662726666666666 and parameters: {'LightGBM (gbdt)': 0.4399024841743522, 'LightGBM (goss)': 0.001524300607089371, 'XGBoost': 0.9005441049421528, 'AutoGluon': 0.02884037840467604}. Best is trial 144 with value: 0.3663066666666666.\n",
      "[I 2025-06-13 07:05:02,647] Trial 170 finished with value: 0.3662606666666667 and parameters: {'LightGBM (gbdt)': 0.45046457463289624, 'LightGBM (goss)': 0.004123904892288286, 'XGBoost': 0.9151786324534479, 'AutoGluon': 0.029274966572375816}. Best is trial 144 with value: 0.3663066666666666.\n",
      "[I 2025-06-13 07:05:08,993] Trial 175 finished with value: 0.3662499999999999 and parameters: {'LightGBM (gbdt)': 0.4434088796369747, 'LightGBM (goss)': 0.020233797718609208, 'XGBoost': 0.8749688013327466, 'AutoGluon': 0.0030299349670763545}. Best is trial 144 with value: 0.3663066666666666.\n",
      "[I 2025-06-13 07:05:09,292] Trial 176 finished with value: 0.3662151111111111 and parameters: {'LightGBM (gbdt)': 0.4233970707904232, 'LightGBM (goss)': 0.02062781849209114, 'XGBoost': 0.8787508708558714, 'AutoGluon': 0.0014220826529556252}. Best is trial 144 with value: 0.3663066666666666.\n",
      "[I 2025-06-13 07:05:09,298] Trial 174 finished with value: 0.3661766666666666 and parameters: {'LightGBM (gbdt)': 0.5241551326111473, 'LightGBM (goss)': 0.00043859085851081364, 'XGBoost': 0.9004580015747592, 'AutoGluon': 0.03332396462070997}. Best is trial 144 with value: 0.3663066666666666.\n",
      "[I 2025-06-13 07:05:09,571] Trial 173 finished with value: 0.36618066666666677 and parameters: {'LightGBM (gbdt)': 0.5147736369382243, 'LightGBM (goss)': 0.0015486312788378562, 'XGBoost': 0.9055522299456875, 'AutoGluon': 0.033146677257478635}. Best is trial 144 with value: 0.3663066666666666.\n",
      "[I 2025-06-13 07:05:15,453] Trial 177 finished with value: 0.3662075555555555 and parameters: {'LightGBM (gbdt)': 0.5274522229335273, 'LightGBM (goss)': 0.02265227719362843, 'XGBoost': 0.8974795532437174, 'AutoGluon': 0.02381900090448698}. Best is trial 144 with value: 0.3663066666666666.\n",
      "[I 2025-06-13 07:05:15,583] Trial 179 finished with value: 0.3657191111111112 and parameters: {'LightGBM (gbdt)': 0.4049079556275297, 'LightGBM (goss)': 0.67346468578451, 'XGBoost': 0.9158929876069302, 'AutoGluon': 0.025952342264931382}. Best is trial 144 with value: 0.3663066666666666.\n",
      "[I 2025-06-13 07:05:15,810] Trial 178 finished with value: 0.36560666666666675 and parameters: {'LightGBM (gbdt)': 0.5223897813866466, 'LightGBM (goss)': 0.6756963917548847, 'XGBoost': 0.905484729109833, 'AutoGluon': 0.03678840736471264}. Best is trial 144 with value: 0.3663066666666666.\n",
      "[I 2025-06-13 07:05:16,457] Trial 180 finished with value: 0.3662106666666667 and parameters: {'LightGBM (gbdt)': 0.40076515197880164, 'LightGBM (goss)': 0.02373572662441623, 'XGBoost': 0.8701370528180313, 'AutoGluon': 0.024305296914178834}. Best is trial 144 with value: 0.3663066666666666.\n",
      "[I 2025-06-13 07:05:22,011] Trial 183 finished with value: 0.3662151111111111 and parameters: {'LightGBM (gbdt)': 0.37283925069460266, 'LightGBM (goss)': 0.022826227445393858, 'XGBoost': 0.8632405872690816, 'AutoGluon': 0.09467736068148556}. Best is trial 144 with value: 0.3663066666666666.\n",
      "[I 2025-06-13 07:05:22,104] Trial 181 finished with value: 0.36450177777777776 and parameters: {'LightGBM (gbdt)': 0.34560963136266604, 'LightGBM (goss)': 0.028644410554371155, 'XGBoost': 0.863968220160632, 'AutoGluon': 0.5190727553845788}. Best is trial 144 with value: 0.3663066666666666.\n",
      "[I 2025-06-13 07:05:22,255] Trial 182 finished with value: 0.3662882222222222 and parameters: {'LightGBM (gbdt)': 0.3420646150189227, 'LightGBM (goss)': 0.030800059729847215, 'XGBoost': 0.930705866553785, 'AutoGluon': 0.09686672101428177}. Best is trial 144 with value: 0.3663066666666666.\n",
      "[I 2025-06-13 07:05:22,583] Trial 184 finished with value: 0.36622422222222223 and parameters: {'LightGBM (gbdt)': 0.45878195111579867, 'LightGBM (goss)': 0.027824610635252413, 'XGBoost': 0.9475749521592256, 'AutoGluon': 0.09028561706071737}. Best is trial 144 with value: 0.3663066666666666.\n",
      "[I 2025-06-13 07:05:28,099] Trial 188 finished with value: 0.3662957777777778 and parameters: {'LightGBM (gbdt)': 0.33841619911510357, 'LightGBM (goss)': 0.03416482992913736, 'XGBoost': 0.9309572994357184, 'AutoGluon': 0.04836452407680582}. Best is trial 144 with value: 0.3663066666666666.\n",
      "[I 2025-06-13 07:05:28,455] Trial 186 finished with value: 0.36629355555555543 and parameters: {'LightGBM (gbdt)': 0.4584497814149433, 'LightGBM (goss)': 0.0016907348186883872, 'XGBoost': 0.9538914112352028, 'AutoGluon': 0.04871445797140346}. Best is trial 144 with value: 0.3663066666666666.\n",
      "[I 2025-06-13 07:05:28,855] Trial 187 finished with value: 0.36629288888888883 and parameters: {'LightGBM (gbdt)': 0.33429028672208155, 'LightGBM (goss)': 0.032707948978557014, 'XGBoost': 0.9307525475514266, 'AutoGluon': 0.047496656455751796}. Best is trial 144 with value: 0.3663066666666666.\n",
      "[I 2025-06-13 07:05:29,129] Trial 185 finished with value: 0.36628022222222223 and parameters: {'LightGBM (gbdt)': 0.4422451123277591, 'LightGBM (goss)': 0.0005123611542880028, 'XGBoost': 0.9999030629647792, 'AutoGluon': 0.051600990650868726}. Best is trial 144 with value: 0.3663066666666666.\n",
      "[I 2025-06-13 07:05:34,760] Trial 189 finished with value: 0.3662702222222223 and parameters: {'LightGBM (gbdt)': 0.3407555788668947, 'LightGBM (goss)': 0.0019680911213247883, 'XGBoost': 0.9997208928262081, 'AutoGluon': 0.051925036291523806}. Best is trial 144 with value: 0.3663066666666666.\n",
      "[I 2025-06-13 07:05:35,157] Trial 190 finished with value: 0.36628688888888894 and parameters: {'LightGBM (gbdt)': 0.4299308444744483, 'LightGBM (goss)': 0.0012229076433421687, 'XGBoost': 0.9991374250878671, 'AutoGluon': 0.05006542678737262}. Best is trial 144 with value: 0.3663066666666666.\n",
      "[I 2025-06-13 07:05:35,494] Trial 192 finished with value: 0.36625177777777773 and parameters: {'LightGBM (gbdt)': 0.48007275071888317, 'LightGBM (goss)': 0.03565306663957984, 'XGBoost': 0.997717388698057, 'AutoGluon': 0.04979578248227268}. Best is trial 144 with value: 0.3663066666666666.\n",
      "[I 2025-06-13 07:05:35,687] Trial 191 finished with value: 0.36605355555555563 and parameters: {'LightGBM (gbdt)': 0.37143485120565634, 'LightGBM (goss)': 0.3524346605767528, 'XGBoost': 0.9995080782606444, 'AutoGluon': 0.05356232866972959}. Best is trial 144 with value: 0.3663066666666666.\n",
      "[I 2025-06-13 07:05:41,684] Trial 195 finished with value: 0.3662695555555555 and parameters: {'LightGBM (gbdt)': 0.4289191897524058, 'LightGBM (goss)': 0.048152795093443786, 'XGBoost': 0.9620053545353285, 'AutoGluon': 0.04720564417013447}. Best is trial 144 with value: 0.3663066666666666.\n",
      "[I 2025-06-13 07:05:42,351] Trial 193 finished with value: 0.366238888888889 and parameters: {'LightGBM (gbdt)': 0.5007324215442608, 'LightGBM (goss)': 0.038951799497805646, 'XGBoost': 0.9370818618441278, 'AutoGluon': 0.050883070023005766}. Best is trial 144 with value: 0.3663066666666666.\n",
      "[I 2025-06-13 07:05:42,417] Trial 196 finished with value: 0.36625 and parameters: {'LightGBM (gbdt)': 0.4164699763916308, 'LightGBM (goss)': 0.03701493148277982, 'XGBoost': 0.9615872566291599, 'AutoGluon': 0.04671503653611603}. Best is trial 144 with value: 0.3663066666666666.\n",
      "[I 2025-06-13 07:05:42,533] Trial 194 finished with value: 0.366252888888889 and parameters: {'LightGBM (gbdt)': 0.5007490192122753, 'LightGBM (goss)': 0.03539319513305597, 'XGBoost': 0.9654928871045193, 'AutoGluon': 0.04960910767960701}. Best is trial 144 with value: 0.3663066666666666.\n",
      "[I 2025-06-13 07:05:48,679] Trial 198 finished with value: 0.3662639999999999 and parameters: {'LightGBM (gbdt)': 0.3101923533773821, 'LightGBM (goss)': 0.017810852862436145, 'XGBoost': 0.9348229100873917, 'AutoGluon': 0.011763486938825611}. Best is trial 144 with value: 0.3663066666666666.\n",
      "[I 2025-06-13 07:05:48,973] Trial 200 finished with value: 0.36619911111111114 and parameters: {'LightGBM (gbdt)': 0.3066905512666063, 'LightGBM (goss)': 0.06671851888973575, 'XGBoost': 0.9333408425910579, 'AutoGluon': 0.010290345708151318}. Best is trial 144 with value: 0.3663066666666666.\n",
      "[I 2025-06-13 07:05:49,172] Trial 197 finished with value: 0.3662344444444445 and parameters: {'LightGBM (gbdt)': 0.30682324133495753, 'LightGBM (goss)': 0.03436738456707908, 'XGBoost': 0.9356036767672171, 'AutoGluon': 0.007129220615124096}. Best is trial 144 with value: 0.3663066666666666.\n",
      "[I 2025-06-13 07:05:49,328] Trial 199 finished with value: 0.3662822222222222 and parameters: {'LightGBM (gbdt)': 0.3039782133869026, 'LightGBM (goss)': 0.019022607007704806, 'XGBoost': 0.9313713658307217, 'AutoGluon': 0.015215769525167351}. Best is trial 144 with value: 0.3663066666666666.\n",
      "[I 2025-06-13 07:05:54,369] Trial 201 finished with value: 0.3662437777777778 and parameters: {'LightGBM (gbdt)': 0.4596477679475481, 'LightGBM (goss)': 0.06786130540597983, 'XGBoost': 0.9813264203476637, 'AutoGluon': 0.0004643444624287396}. Best is trial 144 with value: 0.3663066666666666.\n",
      "[I 2025-06-13 07:05:54,863] Trial 204 finished with value: 0.3663071111111111 and parameters: {'LightGBM (gbdt)': 0.34360590538113683, 'LightGBM (goss)': 0.01617054495650585, 'XGBoost': 0.9785467216563047, 'AutoGluon': 0.09165352275914206}. Best is trial 204 with value: 0.3663071111111111.\n",
      "[I 2025-06-13 07:05:55,341] Trial 202 finished with value: 0.3659128888888889 and parameters: {'LightGBM (gbdt)': 0.33465164291039257, 'LightGBM (goss)': 0.4989105100462294, 'XGBoost': 0.9748362515386324, 'AutoGluon': 0.09632532070427688}. Best is trial 204 with value: 0.3663071111111111.\n",
      "[I 2025-06-13 07:05:55,535] Trial 203 finished with value: 0.3659108888888888 and parameters: {'LightGBM (gbdt)': 0.4627353733406815, 'LightGBM (goss)': 0.482125019366846, 'XGBoost': 0.9809001575703941, 'AutoGluon': 0.09896164924779303}. Best is trial 204 with value: 0.3663071111111111.\n",
      "[I 2025-06-13 07:06:00,375] Trial 205 finished with value: 0.36237866666666657 and parameters: {'LightGBM (gbdt)': 0.32855291324023855, 'LightGBM (goss)': 0.019913124436528838, 'XGBoost': 0.9550066346299575, 'AutoGluon': 0.976133142900187}. Best is trial 204 with value: 0.3663071111111111.\n",
      "[I 2025-06-13 07:06:01,083] Trial 208 finished with value: 0.36631088888888885 and parameters: {'LightGBM (gbdt)': 0.33704086671072403, 'LightGBM (goss)': 0.01991623740310607, 'XGBoost': 0.9532665939836796, 'AutoGluon': 0.08300282149336441}. Best is trial 208 with value: 0.36631088888888885.\n",
      "[I 2025-06-13 07:06:01,403] Trial 207 finished with value: 0.3662764444444445 and parameters: {'LightGBM (gbdt)': 0.3261897604600703, 'LightGBM (goss)': 0.018654849663938832, 'XGBoost': 0.9560308054320487, 'AutoGluon': 0.0816467408159211}. Best is trial 208 with value: 0.36631088888888885.\n",
      "[I 2025-06-13 07:06:01,584] Trial 206 finished with value: 0.36631244444444433 and parameters: {'LightGBM (gbdt)': 0.33354447959308686, 'LightGBM (goss)': 0.017409277221328904, 'XGBoost': 0.9735777104484951, 'AutoGluon': 0.10086234928053947}. Best is trial 206 with value: 0.36631244444444433.\n",
      "[I 2025-06-13 07:06:07,515] Trial 211 finished with value: 0.3638855555555555 and parameters: {'LightGBM (gbdt)': 0.3700882501508669, 'LightGBM (goss)': 0.053190789420882165, 'XGBoost': 0.9300817373799485, 'AutoGluon': 0.6936911011948774}. Best is trial 206 with value: 0.36631244444444433.\n",
      "[I 2025-06-13 07:06:08,413] Trial 210 finished with value: 0.3662586666666667 and parameters: {'LightGBM (gbdt)': 0.3667831487436216, 'LightGBM (goss)': 0.05253206056579023, 'XGBoost': 0.948543638988848, 'AutoGluon': 0.08263983151363974}. Best is trial 206 with value: 0.36631244444444433.\n",
      "[I 2025-06-13 07:06:08,663] Trial 209 finished with value: 0.3662602222222221 and parameters: {'LightGBM (gbdt)': 0.3628875146669913, 'LightGBM (goss)': 0.056829467598782796, 'XGBoost': 0.9466384352000515, 'AutoGluon': 0.0773848603249036}. Best is trial 206 with value: 0.36631244444444433.\n",
      "[I 2025-06-13 07:06:08,797] Trial 212 finished with value: 0.36622822222222223 and parameters: {'LightGBM (gbdt)': 0.36796013003605765, 'LightGBM (goss)': 0.05592497244837347, 'XGBoost': 0.92454891126166, 'AutoGluon': 0.07797396384300367}. Best is trial 206 with value: 0.36631244444444433.\n",
      "[I 2025-06-13 07:06:13,605] Trial 213 finished with value: 0.36625844444444444 and parameters: {'LightGBM (gbdt)': 0.36798768243083946, 'LightGBM (goss)': 0.05627766243600134, 'XGBoost': 0.9827851411419027, 'AutoGluon': 0.08113219237283273}. Best is trial 206 with value: 0.36631244444444433.\n",
      "[I 2025-06-13 07:06:14,253] Trial 215 finished with value: 0.36628355555555553 and parameters: {'LightGBM (gbdt)': 0.34316322870980015, 'LightGBM (goss)': 0.0023455358501795493, 'XGBoost': 0.982051413340527, 'AutoGluon': 0.040747185152132895}. Best is trial 206 with value: 0.36631244444444433.\n",
      "[I 2025-06-13 07:06:14,566] Trial 214 finished with value: 0.3662982222222221 and parameters: {'LightGBM (gbdt)': 0.3401661835040431, 'LightGBM (goss)': 0.02392428075855496, 'XGBoost': 0.9879587561986221, 'AutoGluon': 0.033655620779241294}. Best is trial 206 with value: 0.36631244444444433.\n",
      "[I 2025-06-13 07:06:14,881] Trial 216 finished with value: 0.36503222222222226 and parameters: {'LightGBM (gbdt)': 0.3417438813871121, 'LightGBM (goss)': 0.0019360943833709602, 'XGBoost': 0.9849562332474611, 'AutoGluon': 0.4577966775525843}. Best is trial 206 with value: 0.36631244444444433.\n",
      "[I 2025-06-13 07:06:20,862] Trial 217 finished with value: 0.3662626666666667 and parameters: {'LightGBM (gbdt)': 0.34366490060133287, 'LightGBM (goss)': 0.0002813885958940146, 'XGBoost': 0.9875096073153896, 'AutoGluon': 0.03379504171899078}. Best is trial 206 with value: 0.36631244444444433.\n",
      "[I 2025-06-13 07:06:21,150] Trial 220 finished with value: 0.36626088888888886 and parameters: {'LightGBM (gbdt)': 0.2835664287897484, 'LightGBM (goss)': 0.032700462015386664, 'XGBoost': 0.9859289073304178, 'AutoGluon': 0.035169155050589165}. Best is trial 206 with value: 0.36631244444444433.\n",
      "[I 2025-06-13 07:06:21,410] Trial 218 finished with value: 0.36629111111111107 and parameters: {'LightGBM (gbdt)': 0.3477132491775234, 'LightGBM (goss)': 0.02608705714341693, 'XGBoost': 0.9985464878233605, 'AutoGluon': 0.027846698087799472}. Best is trial 206 with value: 0.36631244444444433.\n",
      "[I 2025-06-13 07:06:21,549] Trial 219 finished with value: 0.36629222222222224 and parameters: {'LightGBM (gbdt)': 0.3387938607838356, 'LightGBM (goss)': 0.03223898070614322, 'XGBoost': 0.9886518450892383, 'AutoGluon': 0.031238179910188457}. Best is trial 206 with value: 0.36631244444444433.\n",
      "[I 2025-06-13 07:06:27,067] Trial 222 finished with value: 0.36629755555555543 and parameters: {'LightGBM (gbdt)': 0.325471441062305, 'LightGBM (goss)': 0.024919488189479203, 'XGBoost': 0.9661056097133331, 'AutoGluon': 0.10944615898040795}. Best is trial 206 with value: 0.36631244444444433.\n",
      "[I 2025-06-13 07:06:27,401] Trial 223 finished with value: 0.3659264444444445 and parameters: {'LightGBM (gbdt)': 0.9200996700818155, 'LightGBM (goss)': 0.029863141635930967, 'XGBoost': 0.9675423700523205, 'AutoGluon': 0.02187943229366418}. Best is trial 206 with value: 0.36631244444444433.\n",
      "[I 2025-06-13 07:06:27,740] Trial 221 finished with value: 0.36551066666666665 and parameters: {'LightGBM (gbdt)': 0.32797706474718047, 'LightGBM (goss)': 0.8237762024819173, 'XGBoost': 0.9986503444377206, 'AutoGluon': 0.1061883661290767}. Best is trial 206 with value: 0.36631244444444433.\n",
      "[I 2025-06-13 07:06:27,823] Trial 224 finished with value: 0.366272 and parameters: {'LightGBM (gbdt)': 0.32386370156975125, 'LightGBM (goss)': 0.03478546892176586, 'XGBoost': 0.9671140451654526, 'AutoGluon': 0.022182147281830662}. Best is trial 206 with value: 0.36631244444444433.\n",
      "[I 2025-06-13 07:06:33,595] Trial 226 finished with value: 0.3654377777777779 and parameters: {'LightGBM (gbdt)': 0.3262997811046311, 'LightGBM (goss)': 0.8595155970028138, 'XGBoost': 0.9688741519535327, 'AutoGluon': 0.10321461501816884}. Best is trial 206 with value: 0.36631244444444433.\n",
      "[I 2025-06-13 07:06:33,682] Trial 228 finished with value: 0.3662408888888889 and parameters: {'LightGBM (gbdt)': 0.3073446195422529, 'LightGBM (goss)': 0.07955042729164921, 'XGBoost': 0.9413666969128747, 'AutoGluon': 0.06436440641316095}. Best is trial 206 with value: 0.36631244444444433.\n",
      "[I 2025-06-13 07:06:33,830] Trial 227 finished with value: 0.3662257777777778 and parameters: {'LightGBM (gbdt)': 0.3213908339517978, 'LightGBM (goss)': 0.0783627734824972, 'XGBoost': 0.9747579259541869, 'AutoGluon': 0.05959363969173036}. Best is trial 206 with value: 0.36631244444444433.\n",
      "[I 2025-06-13 07:06:34,202] Trial 225 finished with value: 0.36630711111111103 and parameters: {'LightGBM (gbdt)': 0.3238081568062334, 'LightGBM (goss)': 0.032722518841948545, 'XGBoost': 0.9702402926513058, 'AutoGluon': 0.10581959686497933}. Best is trial 206 with value: 0.36631244444444433.\n",
      "[I 2025-06-13 07:06:39,364] Trial 232 finished with value: 0.3661784444444445 and parameters: {'LightGBM (gbdt)': 0.3452198122528879, 'LightGBM (goss)': 0.04253631524022658, 'XGBoost': 0.9555767442678145, 'AutoGluon': 0.1374191111960606}. Best is trial 206 with value: 0.36631244444444433.\n",
      "[I 2025-06-13 07:06:39,695] Trial 231 finished with value: 0.3662495555555556 and parameters: {'LightGBM (gbdt)': 0.29022978629141843, 'LightGBM (goss)': 0.024888150096891028, 'XGBoost': 0.9471550757189953, 'AutoGluon': 0.13340561746403717}. Best is trial 206 with value: 0.36631244444444433.\n",
      "[I 2025-06-13 07:06:40,290] Trial 230 finished with value: 0.3663013333333332 and parameters: {'LightGBM (gbdt)': 0.3463106598974859, 'LightGBM (goss)': 0.021756826862162536, 'XGBoost': 0.9526504895988259, 'AutoGluon': 0.07159198812774509}. Best is trial 206 with value: 0.36631244444444433.\n",
      "[I 2025-06-13 07:06:40,739] Trial 229 finished with value: 0.36623022222222235 and parameters: {'LightGBM (gbdt)': 0.3013350372235651, 'LightGBM (goss)': 0.08574312648706037, 'XGBoost': 0.9440546738802738, 'AutoGluon': 0.06473294159354193}. Best is trial 206 with value: 0.36631244444444433.\n",
      "[I 2025-06-13 07:06:45,315] Trial 234 finished with value: 0.3663317777777779 and parameters: {'LightGBM (gbdt)': 0.3432126574840527, 'LightGBM (goss)': 0.021174346693970687, 'XGBoost': 0.9267572776562073, 'AutoGluon': 0.06751697601595186}. Best is trial 234 with value: 0.3663317777777779.\n",
      "[I 2025-06-13 07:06:45,823] Trial 235 finished with value: 0.3663011111111112 and parameters: {'LightGBM (gbdt)': 0.3473534954770568, 'LightGBM (goss)': 0.037855231304247595, 'XGBoost': 0.9996130460080501, 'AutoGluon': 0.06771856877536021}. Best is trial 234 with value: 0.3663317777777779.\n",
      "[I 2025-06-13 07:06:46,211] Trial 233 finished with value: 0.36620355555555567 and parameters: {'LightGBM (gbdt)': 0.2709002928527737, 'LightGBM (goss)': 0.025861744011874646, 'XGBoost': 0.982569429655427, 'AutoGluon': 0.12628451879614147}. Best is trial 234 with value: 0.3663317777777779.\n",
      "[I 2025-06-13 07:06:46,353] Trial 236 finished with value: 0.3662764444444445 and parameters: {'LightGBM (gbdt)': 0.3463150017979892, 'LightGBM (goss)': 0.038803382548570575, 'XGBoost': 0.9743826741008035, 'AutoGluon': 0.11233640653213772}. Best is trial 234 with value: 0.3663317777777779.\n",
      "[I 2025-06-13 07:06:51,991] Trial 240 finished with value: 0.3662235555555556 and parameters: {'LightGBM (gbdt)': 0.39182103969694343, 'LightGBM (goss)': 0.03972046642598825, 'XGBoost': 0.9587609636625639, 'AutoGluon': 0.098152204792783}. Best is trial 234 with value: 0.3663317777777779.\n",
      "[I 2025-06-13 07:06:52,434] Trial 237 finished with value: 0.3662995555555556 and parameters: {'LightGBM (gbdt)': 0.3502709710106325, 'LightGBM (goss)': 0.02233014227611627, 'XGBoost': 0.984622109916319, 'AutoGluon': 0.10954212916767378}. Best is trial 234 with value: 0.3663317777777779.\n",
      "[I 2025-06-13 07:06:52,760] Trial 238 finished with value: 0.36630511111111125 and parameters: {'LightGBM (gbdt)': 0.3507829298445524, 'LightGBM (goss)': 0.03822930277439203, 'XGBoost': 0.9994950063320569, 'AutoGluon': 0.11111394673679603}. Best is trial 234 with value: 0.3663317777777779.\n",
      "[I 2025-06-13 07:06:53,625] Trial 239 finished with value: 0.3663064444444446 and parameters: {'LightGBM (gbdt)': 0.35054919280387875, 'LightGBM (goss)': 0.04186286022295662, 'XGBoost': 0.9970373055436351, 'AutoGluon': 0.10568723846420719}. Best is trial 234 with value: 0.3663317777777779.\n",
      "[I 2025-06-13 07:06:57,746] Trial 241 finished with value: 0.36629022222222224 and parameters: {'LightGBM (gbdt)': 0.3594440354127337, 'LightGBM (goss)': 0.020659579877535965, 'XGBoost': 0.9931659743623664, 'AutoGluon': 0.09707362161796232}. Best is trial 234 with value: 0.3663317777777779.\n",
      "[I 2025-06-13 07:06:58,643] Trial 242 finished with value: 0.36625511111111114 and parameters: {'LightGBM (gbdt)': 0.3514392654245874, 'LightGBM (goss)': 0.050817986354182804, 'XGBoost': 0.9219497438623125, 'AutoGluon': 0.09434210844170239}. Best is trial 234 with value: 0.3663317777777779.\n",
      "[I 2025-06-13 07:06:59,308] Trial 243 finished with value: 0.36624822222222225 and parameters: {'LightGBM (gbdt)': 0.35891957769822874, 'LightGBM (goss)': 0.05654535218566524, 'XGBoost': 0.9997834651561545, 'AutoGluon': 0.11577487635850978}. Best is trial 234 with value: 0.3663317777777779.\n",
      "[I 2025-06-13 07:07:00,704] Trial 244 finished with value: 0.36631133333333327 and parameters: {'LightGBM (gbdt)': 0.3318710995252378, 'LightGBM (goss)': 0.05015727958776518, 'XGBoost': 0.9974822578127276, 'AutoGluon': 0.10779994020860856}. Best is trial 234 with value: 0.3663317777777779.\n",
      "[I 2025-06-13 07:07:04,212] Trial 247 finished with value: 0.36624155555555565 and parameters: {'LightGBM (gbdt)': 0.3222912622806195, 'LightGBM (goss)': 0.023885525344635575, 'XGBoost': 0.9978630719981005, 'AutoGluon': 0.1506386126765364}. Best is trial 234 with value: 0.3663317777777779.\n",
      "[I 2025-06-13 07:07:04,593] Trial 246 finished with value: 0.36625177777777784 and parameters: {'LightGBM (gbdt)': 0.3748500749824465, 'LightGBM (goss)': 0.02233954452928203, 'XGBoost': 0.9948707967882429, 'AutoGluon': 0.11910847234649653}. Best is trial 234 with value: 0.3663317777777779.\n",
      "[I 2025-06-13 07:07:04,763] Trial 245 finished with value: 0.3662217777777778 and parameters: {'LightGBM (gbdt)': 0.3670673341266209, 'LightGBM (goss)': 0.052012663744408855, 'XGBoost': 0.9989616044456945, 'AutoGluon': 0.13002784226508596}. Best is trial 234 with value: 0.3663317777777779.\n",
      "[I 2025-06-13 07:07:07,331] Trial 248 finished with value: 0.366164888888889 and parameters: {'LightGBM (gbdt)': 0.3229296612381181, 'LightGBM (goss)': 0.04187518294790287, 'XGBoost': 0.9996019758685348, 'AutoGluon': 0.15969544024237958}. Best is trial 234 with value: 0.3663317777777779.\n",
      "[I 2025-06-13 07:07:07,813] Trial 249 finished with value: 0.36605511111111116 and parameters: {'LightGBM (gbdt)': 0.5768945870669545, 'LightGBM (goss)': 0.04484290814452388, 'XGBoost': 0.9707404045234986, 'AutoGluon': 0.12845424410978334}. Best is trial 234 with value: 0.3663317777777779.\n"
     ]
    }
   ],
   "source": [
    "def objective(trial):\n",
    "    weights = [trial.suggest_float(model, 0, 1) for model in models]\n",
    "    weights /= np.sum(weights)\n",
    "\n",
    "    idxs = [0, 7, 14, 21]\n",
    "    pred_probs = np.zeros((X.shape[0], 7))\n",
    "    for idx, weight in zip(idxs, weights):\n",
    "        pred_probs += X.iloc[:, idx:idx+7].values * weight\n",
    "        \n",
    "    return map3(y, pred_probs)\n",
    "\n",
    "sampler = optuna.samplers.TPESampler(seed=CFG.seed)\n",
    "study = optuna.create_study(direction='maximize', sampler=sampler)\n",
    "study.optimize(objective, n_trials=250, n_jobs=-1)"
   ]
  },
  {
   "cell_type": "code",
   "execution_count": 18,
   "id": "70577fb0",
   "metadata": {
    "execution": {
     "iopub.execute_input": "2025-06-13T07:07:07.861189Z",
     "iopub.status.busy": "2025-06-13T07:07:07.860835Z",
     "iopub.status.idle": "2025-06-13T07:07:07.980149Z",
     "shell.execute_reply": "2025-06-13T07:07:07.979197Z"
    },
    "papermill": {
     "duration": 0.141579,
     "end_time": "2025-06-13T07:07:07.981927",
     "exception": false,
     "start_time": "2025-06-13T07:07:07.840348",
     "status": "completed"
    },
    "tags": []
   },
   "outputs": [],
   "source": [
    "scores['WeightedEnsemble'] = [study.best_value] * CFG.n_folds\n",
    "\n",
    "best_weights = [study.best_params[model] for model in models]\n",
    "best_weights /= np.sum(best_weights)\n",
    "\n",
    "idxs = [0, 7, 14, 21]\n",
    "weighted_test_preds = np.zeros((X_test.shape[0], 7))\n",
    "for idx, weight in zip(idxs, best_weights):\n",
    "    weighted_test_preds += X_test.iloc[:, idx:idx+7].values * weight"
   ]
  },
  {
   "cell_type": "code",
   "execution_count": 19,
   "id": "f90b5f0a",
   "metadata": {
    "execution": {
     "iopub.execute_input": "2025-06-13T07:07:08.023405Z",
     "iopub.status.busy": "2025-06-13T07:07:08.022522Z",
     "iopub.status.idle": "2025-06-13T07:07:34.237200Z",
     "shell.execute_reply": "2025-06-13T07:07:34.236158Z"
    },
    "papermill": {
     "duration": 26.237026,
     "end_time": "2025-06-13T07:07:34.238989",
     "exception": false,
     "start_time": "2025-06-13T07:07:08.001963",
     "status": "completed"
    },
    "tags": []
   },
   "outputs": [
    {
     "data": {
      "text/html": [
       "<div>\n",
       "<style scoped>\n",
       "    .dataframe tbody tr th:only-of-type {\n",
       "        vertical-align: middle;\n",
       "    }\n",
       "\n",
       "    .dataframe tbody tr th {\n",
       "        vertical-align: top;\n",
       "    }\n",
       "\n",
       "    .dataframe thead th {\n",
       "        text-align: right;\n",
       "    }\n",
       "</style>\n",
       "<table border=\"1\" class=\"dataframe\">\n",
       "  <thead>\n",
       "    <tr style=\"text-align: right;\">\n",
       "      <th></th>\n",
       "      <th>id</th>\n",
       "      <th>Fertilizer Name</th>\n",
       "    </tr>\n",
       "  </thead>\n",
       "  <tbody>\n",
       "    <tr>\n",
       "      <th>0</th>\n",
       "      <td>750000</td>\n",
       "      <td>10-26-26 20-20 DAP</td>\n",
       "    </tr>\n",
       "    <tr>\n",
       "      <th>1</th>\n",
       "      <td>750001</td>\n",
       "      <td>17-17-17 10-26-26 20-20</td>\n",
       "    </tr>\n",
       "    <tr>\n",
       "      <th>2</th>\n",
       "      <td>750002</td>\n",
       "      <td>20-20 28-28 Urea</td>\n",
       "    </tr>\n",
       "    <tr>\n",
       "      <th>3</th>\n",
       "      <td>750003</td>\n",
       "      <td>14-35-14 DAP 17-17-17</td>\n",
       "    </tr>\n",
       "    <tr>\n",
       "      <th>4</th>\n",
       "      <td>750004</td>\n",
       "      <td>20-20 Urea 10-26-26</td>\n",
       "    </tr>\n",
       "  </tbody>\n",
       "</table>\n",
       "</div>"
      ],
      "text/plain": [
       "       id          Fertilizer Name\n",
       "0  750000       10-26-26 20-20 DAP\n",
       "1  750001  17-17-17 10-26-26 20-20\n",
       "2  750002         20-20 28-28 Urea\n",
       "3  750003    14-35-14 DAP 17-17-17\n",
       "4  750004      20-20 Urea 10-26-26"
      ]
     },
     "execution_count": 19,
     "metadata": {},
     "output_type": "execute_result"
    }
   ],
   "source": [
    "create_submission(\"weighted-ensemble\", weighted_test_preds, np.mean(scores[\"WeightedEnsemble\"])).head()"
   ]
  },
  {
   "cell_type": "markdown",
   "id": "777f970f",
   "metadata": {
    "papermill": {
     "duration": 0.019463,
     "end_time": "2025-06-13T07:07:34.278184",
     "exception": false,
     "start_time": "2025-06-13T07:07:34.258721",
     "status": "completed"
    },
    "tags": []
   },
   "source": [
    "## Weighted VotingClassifier"
   ]
  },
  {
   "cell_type": "code",
   "execution_count": 20,
   "id": "24d23997",
   "metadata": {
    "execution": {
     "iopub.execute_input": "2025-06-13T07:07:34.317862Z",
     "iopub.status.busy": "2025-06-13T07:07:34.317569Z",
     "iopub.status.idle": "2025-06-13T07:07:45.018980Z",
     "shell.execute_reply": "2025-06-13T07:07:45.017930Z"
    },
    "papermill": {
     "duration": 10.723709,
     "end_time": "2025-06-13T07:07:45.021189",
     "exception": false,
     "start_time": "2025-06-13T07:07:34.297480",
     "status": "completed"
    },
    "tags": []
   },
   "outputs": [
    {
     "name": "stdout",
     "output_type": "stream",
     "text": [
      "Training VotingClassifier\n",
      "\n",
      "--- Fold 1 - MAP@3: 0.364890\n",
      "--- Fold 2 - MAP@3: 0.365314\n",
      "--- Fold 3 - MAP@3: 0.368541\n",
      "--- Fold 4 - MAP@3: 0.366194\n",
      "--- Fold 5 - MAP@3: 0.366719\n",
      "\n",
      "------ Overall MAP@3: 0.366332 | Average MAP@3: 0.366332 ± 0.001278\n"
     ]
    }
   ],
   "source": [
    "weighted_voting_model = VotingClassifier(estimators, n_jobs=-1, voting='soft', weights=best_weights)\n",
    "weighted_voting_trainer = Trainer(weighted_voting_model)\n",
    "_, weighted_voting_test_pred_probs, scores[\"VotingClassifier (weighted)\"] = weighted_voting_trainer.fit_predict(X, y, X_test)"
   ]
  },
  {
   "cell_type": "code",
   "execution_count": 21,
   "id": "dbaee236",
   "metadata": {
    "execution": {
     "iopub.execute_input": "2025-06-13T07:07:45.061570Z",
     "iopub.status.busy": "2025-06-13T07:07:45.061280Z",
     "iopub.status.idle": "2025-06-13T07:08:11.560869Z",
     "shell.execute_reply": "2025-06-13T07:08:11.559624Z"
    },
    "papermill": {
     "duration": 26.522061,
     "end_time": "2025-06-13T07:08:11.562863",
     "exception": false,
     "start_time": "2025-06-13T07:07:45.040802",
     "status": "completed"
    },
    "tags": []
   },
   "outputs": [
    {
     "data": {
      "text/html": [
       "<div>\n",
       "<style scoped>\n",
       "    .dataframe tbody tr th:only-of-type {\n",
       "        vertical-align: middle;\n",
       "    }\n",
       "\n",
       "    .dataframe tbody tr th {\n",
       "        vertical-align: top;\n",
       "    }\n",
       "\n",
       "    .dataframe thead th {\n",
       "        text-align: right;\n",
       "    }\n",
       "</style>\n",
       "<table border=\"1\" class=\"dataframe\">\n",
       "  <thead>\n",
       "    <tr style=\"text-align: right;\">\n",
       "      <th></th>\n",
       "      <th>id</th>\n",
       "      <th>Fertilizer Name</th>\n",
       "    </tr>\n",
       "  </thead>\n",
       "  <tbody>\n",
       "    <tr>\n",
       "      <th>0</th>\n",
       "      <td>750000</td>\n",
       "      <td>10-26-26 20-20 DAP</td>\n",
       "    </tr>\n",
       "    <tr>\n",
       "      <th>1</th>\n",
       "      <td>750001</td>\n",
       "      <td>17-17-17 10-26-26 20-20</td>\n",
       "    </tr>\n",
       "    <tr>\n",
       "      <th>2</th>\n",
       "      <td>750002</td>\n",
       "      <td>20-20 28-28 Urea</td>\n",
       "    </tr>\n",
       "    <tr>\n",
       "      <th>3</th>\n",
       "      <td>750003</td>\n",
       "      <td>14-35-14 DAP 17-17-17</td>\n",
       "    </tr>\n",
       "    <tr>\n",
       "      <th>4</th>\n",
       "      <td>750004</td>\n",
       "      <td>20-20 Urea 10-26-26</td>\n",
       "    </tr>\n",
       "  </tbody>\n",
       "</table>\n",
       "</div>"
      ],
      "text/plain": [
       "       id          Fertilizer Name\n",
       "0  750000       10-26-26 20-20 DAP\n",
       "1  750001  17-17-17 10-26-26 20-20\n",
       "2  750002         20-20 28-28 Urea\n",
       "3  750003    14-35-14 DAP 17-17-17\n",
       "4  750004      20-20 Urea 10-26-26"
      ]
     },
     "execution_count": 21,
     "metadata": {},
     "output_type": "execute_result"
    }
   ],
   "source": [
    "create_submission(\"weighted-voting-classifier\", weighted_voting_test_pred_probs, np.mean(scores[\"VotingClassifier (weighted)\"])).head()"
   ]
  },
  {
   "cell_type": "markdown",
   "id": "837e9971",
   "metadata": {
    "papermill": {
     "duration": 0.019878,
     "end_time": "2025-06-13T07:08:11.602431",
     "exception": false,
     "start_time": "2025-06-13T07:08:11.582553",
     "status": "completed"
    },
    "tags": []
   },
   "source": [
    "# Results"
   ]
  },
  {
   "cell_type": "code",
   "execution_count": 22,
   "id": "3d7df18c",
   "metadata": {
    "execution": {
     "iopub.execute_input": "2025-06-13T07:08:11.643565Z",
     "iopub.status.busy": "2025-06-13T07:08:11.642620Z",
     "iopub.status.idle": "2025-06-13T07:08:12.275278Z",
     "shell.execute_reply": "2025-06-13T07:08:12.274158Z"
    },
    "papermill": {
     "duration": 0.655533,
     "end_time": "2025-06-13T07:08:12.277585",
     "exception": false,
     "start_time": "2025-06-13T07:08:11.622052",
     "status": "completed"
    },
    "tags": []
   },
   "outputs": [
    {
     "data": {
      "image/png": "[encoded data removed]",
      "text/plain": [
       "<Figure size 1500x360 with 2 Axes>"
      ]
     },
     "metadata": {},
     "output_type": "display_data"
    }
   ],
   "source": [
    "scores = pd.DataFrame(scores)\n",
    "mean_scores = scores.mean().sort_values(ascending=False)\n",
    "order = scores.mean().sort_values(ascending=False).index.tolist()\n",
    "\n",
    "min_score = mean_scores.min()\n",
    "max_score = mean_scores.max()\n",
    "padding = (max_score - min_score) * 0.5\n",
    "lower_limit = min_score - padding\n",
    "upper_limit = max_score + padding\n",
    "\n",
    "fig, axs = plt.subplots(1, 2, figsize=(15, scores.shape[1] * 0.4))\n",
    "\n",
    "boxplot = sns.boxplot(data=scores, order=order, ax=axs[0], orient=\"h\", palette=\"RdYlGn_r\")\n",
    "axs[0].set_title(f\"Fold MAP@3\")\n",
    "axs[0].set_xlabel(\"\")\n",
    "axs[0].set_ylabel(\"\")\n",
    "\n",
    "barplot = sns.barplot(x=mean_scores.values, y=mean_scores.index, ax=axs[1], palette=\"RdYlGn_r\")\n",
    "axs[1].set_title(f\"Mean MAP@3\")\n",
    "axs[1].set_xlabel(\"\")\n",
    "axs[1].set_xlim(left=lower_limit, right=upper_limit)\n",
    "axs[1].set_ylabel(\"\")\n",
    "\n",
    "for i, score in enumerate(mean_scores.values):\n",
    "    barplot.text(score, i, round(score, 6), va=\"center\")\n",
    "\n",
    "plt.tight_layout()\n",
    "plt.show()"
   ]
  }
 ],
 "metadata": {
  "kaggle": {
   "accelerator": "none",
   "dataSources": [
    {
     "databundleVersionId": 12184666,
     "isSourceIdPinned": false,
     "sourceId": 91717,
     "sourceType": "competition"
    },
    {
     "sourceId": 244411248,
     "sourceType": "kernelVersion"
    }
   ],
   "dockerImageVersionId": 31040,
   "isGpuEnabled": false,
   "isInternetEnabled": true,
   "language": "python",
   "sourceType": "notebook"
  },
  "kernelspec": {
   "display_name": "Python 3",
   "language": "python",
   "name": "python3"
  },
  "language_info": {
   "codemirror_mode": {
    "name": "ipython",
    "version": 3
   },
   "file_extension": ".py",
   "mimetype": "text/x-python",
   "name": "python",
   "nbconvert_exporter": "python",
   "pygments_lexer": "ipython3",
   "version": "3.11.11"
  },
  "papermill": {
   "default_parameters": {},
   "duration": 934.674037,
   "end_time": "2025-06-13T07:08:15.022755",
   "environment_variables": {},
   "exception": null,
   "input_path": "__notebook__.ipynb",
   "output_path": "__notebook__.ipynb",
   "parameters": {},
   "start_time": "2025-06-13T06:52:40.348718",
   "version": "2.6.0"
  }
 },
 "nbformat": 4,
 "nbformat_minor": 5
}
