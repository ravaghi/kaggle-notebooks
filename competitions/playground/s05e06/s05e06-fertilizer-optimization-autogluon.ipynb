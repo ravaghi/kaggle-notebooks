{
 "cells": [
  {
   "cell_type": "markdown",
   "id": "25ce9974",
   "metadata": {
    "papermill": {
     "duration": 0.00413,
     "end_time": "2025-06-03T06:40:09.018819",
     "exception": false,
     "start_time": "2025-06-03T06:40:09.014689",
     "status": "completed"
    },
    "tags": []
   },
   "source": [
    "# Imports and configs"
   ]
  },
  {
   "cell_type": "code",
   "execution_count": 1,
   "id": "bb1342da",
   "metadata": {
    "_cell_guid": "b1076dfc-b9ad-4769-8c92-a6c4dae69d19",
    "_kg_hide-output": true,
    "_uuid": "8f2839f25d086af736a60e9eeb907d3b93b6e0e5",
    "execution": {
     "iopub.execute_input": "2025-06-03T06:40:09.026592Z",
     "iopub.status.busy": "2025-06-03T06:40:09.026276Z",
     "iopub.status.idle": "2025-06-03T06:40:22.694584Z",
     "shell.execute_reply": "2025-06-03T06:40:22.693622Z"
    },
    "papermill": {
     "duration": 13.673993,
     "end_time": "2025-06-03T06:40:22.696256",
     "exception": false,
     "start_time": "2025-06-03T06:40:09.022263",
     "status": "completed"
    },
    "tags": []
   },
   "outputs": [
    {
     "name": "stdout",
     "output_type": "stream",
     "text": [
      "\u001b[2K   \u001b[90m━━━━━━━━━━━━━━━━━━━━━━━━━━━━━━━━━━━━━━━━\u001b[0m \u001b[32m13.3/13.3 MB\u001b[0m \u001b[31m60.0 MB/s\u001b[0m eta \u001b[36m0:00:00\u001b[0m\r\n",
      "\u001b[2K   \u001b[90m━━━━━━━━━━━━━━━━━━━━━━━━━━━━━━━━━━━━━━━━\u001b[0m \u001b[32m382.4/382.4 kB\u001b[0m \u001b[31m17.1 MB/s\u001b[0m eta \u001b[36m0:00:00\u001b[0m\r\n",
      "\u001b[2K   \u001b[90m━━━━━━━━━━━━━━━━━━━━━━━━━━━━━━━━━━━━━━━━\u001b[0m \u001b[32m222.7/222.7 kB\u001b[0m \u001b[31m8.5 MB/s\u001b[0m eta \u001b[36m0:00:00\u001b[0m\r\n",
      "\u001b[2K   \u001b[90m━━━━━━━━━━━━━━━━━━━━━━━━━━━━━━━━━━━━━━━━\u001b[0m \u001b[32m64.2/64.2 kB\u001b[0m \u001b[31m3.2 MB/s\u001b[0m eta \u001b[36m0:00:00\u001b[0m\r\n",
      "\u001b[2K   \u001b[90m━━━━━━━━━━━━━━━━━━━━━━━━━━━━━━━━━━━━━━━━\u001b[0m \u001b[32m69.1/69.1 kB\u001b[0m \u001b[31m3.8 MB/s\u001b[0m eta \u001b[36m0:00:00\u001b[0m\r\n",
      "\u001b[?25h\u001b[31mERROR: pip's dependency resolver does not currently take into account all the packages that are installed. This behaviour is the source of the following dependency conflicts.\r\n",
      "cesium 0.12.4 requires numpy<3.0,>=2.0, but you have numpy 1.26.4 which is incompatible.\u001b[0m\u001b[31m\r\n",
      "\u001b[0m"
     ]
    }
   ],
   "source": [
    "!pip install -q autogluon.tabular ray scikit-learn==1.5.2"
   ]
  },
  {
   "cell_type": "code",
   "execution_count": 2,
   "id": "d251ba71",
   "metadata": {
    "execution": {
     "iopub.execute_input": "2025-06-03T06:40:22.705678Z",
     "iopub.status.busy": "2025-06-03T06:40:22.705338Z",
     "iopub.status.idle": "2025-06-03T06:40:27.596010Z",
     "shell.execute_reply": "2025-06-03T06:40:27.595259Z"
    },
    "papermill": {
     "duration": 4.897235,
     "end_time": "2025-06-03T06:40:27.597618",
     "exception": false,
     "start_time": "2025-06-03T06:40:22.700383",
     "status": "completed"
    },
    "tags": []
   },
   "outputs": [],
   "source": [
    "from sklearn.model_selection import StratifiedKFold\n",
    "from sklearn.preprocessing import LabelEncoder\n",
    "from autogluon.core.metrics import make_scorer\n",
    "from autogluon.tabular import TabularPredictor\n",
    "import matplotlib.pyplot as plt\n",
    "import seaborn as sns\n",
    "import pandas as pd\n",
    "import numpy as np\n",
    "import warnings\n",
    "import pickle\n",
    "import shutil\n",
    "import os\n",
    "\n",
    "warnings.filterwarnings(\"ignore\")"
   ]
  },
  {
   "cell_type": "code",
   "execution_count": 3,
   "id": "d5177255",
   "metadata": {
    "execution": {
     "iopub.execute_input": "2025-06-03T06:40:27.606977Z",
     "iopub.status.busy": "2025-06-03T06:40:27.606483Z",
     "iopub.status.idle": "2025-06-03T06:40:27.611129Z",
     "shell.execute_reply": "2025-06-03T06:40:27.610438Z"
    },
    "papermill": {
     "duration": 0.010913,
     "end_time": "2025-06-03T06:40:27.612560",
     "exception": false,
     "start_time": "2025-06-03T06:40:27.601647",
     "status": "completed"
    },
    "tags": []
   },
   "outputs": [],
   "source": [
    "class CFG:\n",
    "    train_path = \"/kaggle/input/playground-series-s5e6/train.csv\"\n",
    "    test_path = \"/kaggle/input/playground-series-s5e6/test.csv\"\n",
    "    sample_sub_path = \"/kaggle/input/playground-series-s5e6/sample_submission.csv\"\n",
    "    \n",
    "    target = \"Fertilizer Name\"\n",
    "    n_folds = 5\n",
    "    seed = 42\n",
    "    time_limit = 3600 * 10"
   ]
  },
  {
   "cell_type": "markdown",
   "id": "defdb136",
   "metadata": {
    "papermill": {
     "duration": 0.003435,
     "end_time": "2025-06-03T06:40:27.619976",
     "exception": false,
     "start_time": "2025-06-03T06:40:27.616541",
     "status": "completed"
    },
    "tags": []
   },
   "source": [
    "# Loading data and defining folds"
   ]
  },
  {
   "cell_type": "code",
   "execution_count": 4,
   "id": "5525eed5",
   "metadata": {
    "execution": {
     "iopub.execute_input": "2025-06-03T06:40:27.628425Z",
     "iopub.status.busy": "2025-06-03T06:40:27.628120Z",
     "iopub.status.idle": "2025-06-03T06:40:29.257056Z",
     "shell.execute_reply": "2025-06-03T06:40:29.256283Z"
    },
    "papermill": {
     "duration": 1.635079,
     "end_time": "2025-06-03T06:40:29.258651",
     "exception": false,
     "start_time": "2025-06-03T06:40:27.623572",
     "status": "completed"
    },
    "tags": []
   },
   "outputs": [],
   "source": [
    "train = pd.read_csv(CFG.train_path, index_col=\"id\")\n",
    "test = pd.read_csv(CFG.test_path, index_col=\"id\")\n",
    "\n",
    "label_encoder = LabelEncoder()\n",
    "train[CFG.target] = label_encoder.fit_transform(train[CFG.target])"
   ]
  },
  {
   "cell_type": "code",
   "execution_count": 5,
   "id": "fde39bf0",
   "metadata": {
    "execution": {
     "iopub.execute_input": "2025-06-03T06:40:29.268044Z",
     "iopub.status.busy": "2025-06-03T06:40:29.267356Z",
     "iopub.status.idle": "2025-06-03T06:40:29.560198Z",
     "shell.execute_reply": "2025-06-03T06:40:29.559332Z"
    },
    "papermill": {
     "duration": 0.299137,
     "end_time": "2025-06-03T06:40:29.561925",
     "exception": false,
     "start_time": "2025-06-03T06:40:29.262788",
     "status": "completed"
    },
    "tags": []
   },
   "outputs": [],
   "source": [
    "skf = StratifiedKFold(n_splits=CFG.n_folds, random_state=CFG.seed, shuffle=True)\n",
    "split = skf.split(train, train[CFG.target])\n",
    "for i, (_, val_index) in enumerate(split):\n",
    "    train.loc[val_index, \"fold\"] = i"
   ]
  },
  {
   "cell_type": "markdown",
   "id": "4ad2e588",
   "metadata": {
    "papermill": {
     "duration": 0.003601,
     "end_time": "2025-06-03T06:40:29.569823",
     "exception": false,
     "start_time": "2025-06-03T06:40:29.566222",
     "status": "completed"
    },
    "tags": []
   },
   "source": [
    "# Fitting the predictor"
   ]
  },
  {
   "cell_type": "code",
   "execution_count": 6,
   "id": "df7f47f8",
   "metadata": {
    "execution": {
     "iopub.execute_input": "2025-06-03T06:40:29.578689Z",
     "iopub.status.busy": "2025-06-03T06:40:29.578391Z",
     "iopub.status.idle": "2025-06-03T06:40:29.584885Z",
     "shell.execute_reply": "2025-06-03T06:40:29.584169Z"
    },
    "papermill": {
     "duration": 0.012517,
     "end_time": "2025-06-03T06:40:29.586228",
     "exception": false,
     "start_time": "2025-06-03T06:40:29.573711",
     "status": "completed"
    },
    "tags": []
   },
   "outputs": [],
   "source": [
    "def map3(y_true, y_pred_probs):\n",
    "    y_true = [[x] for x in y_true]\n",
    "    y_pred_probs = np.argsort(y_pred_probs, axis=1)[:, -3:][:, ::-1].tolist()\n",
    "    \n",
    "    def ap3(y_true, y_pred_probs):\n",
    "        y_pred_probs = y_pred_probs[:3]\n",
    "\n",
    "        score = 0.0\n",
    "        num_hits = 0.0\n",
    "\n",
    "        for i,p in enumerate(y_pred_probs):\n",
    "            if p in y_true and p not in y_pred_probs[:i]:\n",
    "                num_hits += 1.0\n",
    "                score += num_hits / (i+1.0)\n",
    "\n",
    "        if not y_true:\n",
    "            return 0.0\n",
    "\n",
    "        return score\n",
    "    \n",
    "    return np.mean([ap3(a,p) for a,p in zip(y_true, y_pred_probs)])\n",
    "\n",
    "ag_map3 = make_scorer(\n",
    "    name='map3',\n",
    "    score_func=map3,\n",
    "    optimum=1,\n",
    "    needs_proba=True,\n",
    "    greater_is_better=True\n",
    ")"
   ]
  },
  {
   "cell_type": "code",
   "execution_count": 7,
   "id": "b96c317b",
   "metadata": {
    "execution": {
     "iopub.execute_input": "2025-06-03T06:40:29.595270Z",
     "iopub.status.busy": "2025-06-03T06:40:29.594919Z",
     "iopub.status.idle": "2025-06-03T06:40:29.599759Z",
     "shell.execute_reply": "2025-06-03T06:40:29.599117Z"
    },
    "papermill": {
     "duration": 0.010768,
     "end_time": "2025-06-03T06:40:29.601038",
     "exception": false,
     "start_time": "2025-06-03T06:40:29.590270",
     "status": "completed"
    },
    "tags": []
   },
   "outputs": [],
   "source": [
    "predictor = TabularPredictor(\n",
    "    path=\"/logs\",\n",
    "    problem_type=\"multiclass\",\n",
    "    eval_metric='roc_auc_ovr_weighted',\n",
    "    label=CFG.target,\n",
    "    groups=\"fold\",\n",
    "    verbosity=2\n",
    ")"
   ]
  },
  {
   "cell_type": "code",
   "execution_count": 8,
   "id": "83f97331",
   "metadata": {
    "_kg_hide-output": true,
    "execution": {
     "iopub.execute_input": "2025-06-03T06:40:29.610551Z",
     "iopub.status.busy": "2025-06-03T06:40:29.609634Z",
     "iopub.status.idle": "2025-06-03T16:48:22.868615Z",
     "shell.execute_reply": "2025-06-03T16:48:22.867602Z"
    },
    "papermill": {
     "duration": 36473.265397,
     "end_time": "2025-06-03T16:48:22.870481",
     "exception": false,
     "start_time": "2025-06-03T06:40:29.605084",
     "status": "completed"
    },
    "scrolled": true,
    "tags": []
   },
   "outputs": [
    {
     "name": "stderr",
     "output_type": "stream",
     "text": [
      "Verbosity: 2 (Standard Logging)\n",
      "=================== System Info ===================\n",
      "AutoGluon Version:  1.3.1\n",
      "Python Version:     3.11.11\n",
      "Operating System:   Linux\n",
      "Platform Machine:   x86_64\n",
      "Platform Version:   #1 SMP PREEMPT_DYNAMIC Sun Nov 10 10:07:59 UTC 2024\n",
      "CPU Count:          4\n",
      "Memory Avail:       30.10 GB / 31.35 GB (96.0%)\n",
      "Disk Space Avail:   1704.25 GB / 8062.39 GB (21.1%)\n",
      "===================================================\n",
      "Presets specified: ['best_quality']\n",
      "Setting dynamic_stacking from 'auto' to True. Reason: Enable dynamic_stacking when use_bag_holdout is disabled. (use_bag_holdout=False)\n",
      "Stack configuration (auto_stack=True): num_stack_levels=1, num_bag_folds=8, num_bag_sets=1\n",
      "DyStack is enabled (dynamic_stacking=True). AutoGluon will try to determine whether the input data is affected by stacked overfitting and enable or disable stacking as a consequence.\n",
      "\tThis is used to identify the optimal `num_stack_levels` value. Copies of AutoGluon will be fit on subsets of the data. Then holdout validation data is used to detect stacked overfitting.\n",
      "\tRunning DyStack for up to 9000s of the 36000s of remaining time (25%).\n",
      "\t\tContext path: \"/logs/ds_sub_fit/sub_fit_ho\"\n",
      "Running DyStack sub-fit ...\n",
      "Values in column 'fold' used as split folds instead of being automatically set. Bagged models will have 5 splits.\n",
      "Beginning AutoGluon training ... Time limit = 8999s\n",
      "AutoGluon will save models to \"/logs/ds_sub_fit/sub_fit_ho\"\n",
      "Train Data Rows:    666666\n",
      "Train Data Columns: 9\n",
      "Label Column:       Fertilizer Name\n",
      "Problem Type:       multiclass\n",
      "Preprocessing data ...\n",
      "Train Data Class Count: 7\n",
      "Using Feature Generators to preprocess the data ...\n",
      "Fitting AutoMLPipelineFeatureGenerator...\n",
      "\tAvailable Memory:                    30753.38 MB\n",
      "\tTrain Data (Original)  Memory Usage: 110.38 MB (0.4% of available memory)\n",
      "\tInferring data type of each feature based on column values. Set feature_metadata_in to manually specify special dtypes of the features.\n",
      "\tStage 1 Generators:\n",
      "\t\tFitting AsTypeFeatureGenerator...\n",
      "\tStage 2 Generators:\n",
      "\t\tFitting FillNaFeatureGenerator...\n",
      "\tStage 3 Generators:\n",
      "\t\tFitting IdentityFeatureGenerator...\n",
      "\t\tFitting CategoryFeatureGenerator...\n",
      "\t\t\tFitting CategoryMemoryMinimizeFeatureGenerator...\n",
      "\tStage 4 Generators:\n",
      "\t\tFitting DropUniqueFeatureGenerator...\n",
      "\tStage 5 Generators:\n",
      "\t\tFitting DropDuplicatesFeatureGenerator...\n",
      "\tTypes of features in original data (raw dtype, special dtypes):\n",
      "\t\t('int', [])    : 6 | ['Temparature', 'Humidity', 'Moisture', 'Nitrogen', 'Potassium', ...]\n",
      "\t\t('object', []) : 2 | ['Soil Type', 'Crop Type']\n",
      "\tTypes of features in processed data (raw dtype, special dtypes):\n",
      "\t\t('category', []) : 2 | ['Soil Type', 'Crop Type']\n",
      "\t\t('int', [])      : 6 | ['Temparature', 'Humidity', 'Moisture', 'Nitrogen', 'Potassium', ...]\n",
      "\t1.6s = Fit runtime\n",
      "\t8 features in original data used to generate 8 features in processed data.\n",
      "\tTrain Data (Processed) Memory Usage: 31.79 MB (0.1% of available memory)\n",
      "Data preprocessing and feature engineering runtime = 1.91s ...\n",
      "AutoGluon will gauge predictive performance using evaluation metric: 'roc_auc_ovr_weighted'\n",
      "\tThis metric expects predicted probabilities rather than predicted class labels, so you'll need to use predict_proba() instead of predict()\n",
      "\tTo change this, specify the eval_metric parameter of Predictor()\n",
      "Large model count detected (112 configs) ... Only displaying the first 3 models of each family. To see all, set `verbosity=3`.\n",
      "User-specified model hyperparameters to be fit:\n",
      "{\n",
      "\t'NN_TORCH': [{}, {'activation': 'elu', 'dropout_prob': 0.10077639529843717, 'hidden_size': 108, 'learning_rate': 0.002735937344002146, 'num_layers': 4, 'use_batchnorm': True, 'weight_decay': 1.356433327634438e-12, 'ag_args': {'name_suffix': '_r79', 'priority': -2}}, {'activation': 'elu', 'dropout_prob': 0.11897478034205347, 'hidden_size': 213, 'learning_rate': 0.0010474382260641949, 'num_layers': 4, 'use_batchnorm': False, 'weight_decay': 5.594471067786272e-10, 'ag_args': {'name_suffix': '_r22', 'priority': -7}}],\n",
      "\t'GBM': [{'extra_trees': True, 'ag_args': {'name_suffix': 'XT'}}, {}, {'learning_rate': 0.03, 'num_leaves': 128, 'feature_fraction': 0.9, 'min_data_in_leaf': 3, 'ag_args': {'name_suffix': 'Large', 'priority': 0, 'hyperparameter_tune_kwargs': None}}],\n",
      "\t'CAT': [{}, {'depth': 6, 'grow_policy': 'SymmetricTree', 'l2_leaf_reg': 2.1542798306067823, 'learning_rate': 0.06864209415792857, 'max_ctr_complexity': 4, 'one_hot_max_size': 10, 'ag_args': {'name_suffix': '_r177', 'priority': -1}}, {'depth': 8, 'grow_policy': 'Depthwise', 'l2_leaf_reg': 2.7997999596449104, 'learning_rate': 0.031375015734637225, 'max_ctr_complexity': 2, 'one_hot_max_size': 3, 'ag_args': {'name_suffix': '_r9', 'priority': -5}}],\n",
      "\t'XGB': [{}, {'colsample_bytree': 0.6917311125174739, 'enable_categorical': False, 'learning_rate': 0.018063876087523967, 'max_depth': 10, 'min_child_weight': 0.6028633586934382, 'ag_args': {'name_suffix': '_r33', 'priority': -8}}, {'colsample_bytree': 0.6628423832084077, 'enable_categorical': False, 'learning_rate': 0.08775715546881824, 'max_depth': 5, 'min_child_weight': 0.6294123374222513, 'ag_args': {'name_suffix': '_r89', 'priority': -16}}],\n",
      "\t'FASTAI': [{}, {'bs': 256, 'emb_drop': 0.5411770367537934, 'epochs': 43, 'layers': [800, 400], 'lr': 0.01519848858318159, 'ps': 0.23782946566604385, 'ag_args': {'name_suffix': '_r191', 'priority': -4}}, {'bs': 2048, 'emb_drop': 0.05070411322605811, 'epochs': 29, 'layers': [200, 100], 'lr': 0.08974235041576624, 'ps': 0.10393466140748028, 'ag_args': {'name_suffix': '_r102', 'priority': -11}}],\n",
      "\t'RF': [{'criterion': 'gini', 'ag_args': {'name_suffix': 'Gini', 'problem_types': ['binary', 'multiclass']}}, {'criterion': 'entropy', 'ag_args': {'name_suffix': 'Entr', 'problem_types': ['binary', 'multiclass']}}, {'criterion': 'squared_error', 'ag_args': {'name_suffix': 'MSE', 'problem_types': ['regression', 'quantile']}}],\n",
      "\t'XT': [{'criterion': 'gini', 'ag_args': {'name_suffix': 'Gini', 'problem_types': ['binary', 'multiclass']}}, {'criterion': 'entropy', 'ag_args': {'name_suffix': 'Entr', 'problem_types': ['binary', 'multiclass']}}, {'criterion': 'squared_error', 'ag_args': {'name_suffix': 'MSE', 'problem_types': ['regression', 'quantile']}}],\n",
      "\t'KNN': [{'weights': 'uniform', 'ag_args': {'name_suffix': 'Unif'}}, {'weights': 'distance', 'ag_args': {'name_suffix': 'Dist'}}],\n",
      "}\n",
      "AutoGluon will fit 2 stack levels (L1 to L2) ...\n",
      "Excluded models: ['KNN'] (Specified by `excluded_model_types`)\n",
      "Fitting 108 L1 models, fit_strategy=\"sequential\" ...\n",
      "Fitting model: NeuralNetFastAI_BAG_L1 ... Training model for up to 5996.35s of the 8996.76s of remaining time.\n",
      "Will use sequential fold fitting strategy because import of ray failed. Reason: ray==2.46.0 detected. 2.10.0 <= ray < 2.45.0 is required. You can use pip to install certain version of ray `pip install \"ray>=2.10.0,<2.45.0\"`\n",
      "\tFitting 5 child models (S1F1 - S1F5) | Fitting with SequentialLocalFoldFittingStrategy\n",
      "Metric roc_auc_ovr_weighted is not supported by this model - using log_loss instead\n",
      "Metric roc_auc_ovr_weighted is not supported by this model - using log_loss instead\n",
      "Metric roc_auc_ovr_weighted is not supported by this model - using log_loss instead\n",
      "Metric roc_auc_ovr_weighted is not supported by this model - using log_loss instead\n",
      "Metric roc_auc_ovr_weighted is not supported by this model - using log_loss instead\n",
      "\t0.5315\t = Validation score   (roc_auc_ovr_weighted)\n",
      "\t2283.69s\t = Training   runtime\n",
      "\t5.34s\t = Validation runtime\n",
      "Fitting model: LightGBMXT_BAG_L1 ... Training model for up to 3698.19s of the 6698.60s of remaining time.\n",
      "\tFitting 5 child models (S1F1 - S1F5) | Fitting with SequentialLocalFoldFittingStrategy\n"
     ]
    },
    {
     "name": "stdout",
     "output_type": "stream",
     "text": [
      "[1000]\tvalid_set's multi_logloss: 1.92412\tvalid_set's roc_auc_ovr_weighted: 0.562655\n"
     ]
    },
    {
     "name": "stderr",
     "output_type": "stream",
     "text": [
      "\tRan out of time, early stopping on iteration 1302. Best iteration is:\n",
      "\t[1302]\tvalid_set's multi_logloss: 1.92366\tvalid_set's roc_auc_ovr_weighted: 0.563582\n"
     ]
    },
    {
     "name": "stdout",
     "output_type": "stream",
     "text": [
      "[1000]\tvalid_set's multi_logloss: 1.92445\tvalid_set's roc_auc_ovr_weighted: 0.562126\n"
     ]
    },
    {
     "name": "stderr",
     "output_type": "stream",
     "text": [
      "\tRan out of time, early stopping on iteration 1328. Best iteration is:\n",
      "\t[1313]\tvalid_set's multi_logloss: 1.92398\tvalid_set's roc_auc_ovr_weighted: 0.563187\n"
     ]
    },
    {
     "name": "stdout",
     "output_type": "stream",
     "text": [
      "[1000]\tvalid_set's multi_logloss: 1.92406\tvalid_set's roc_auc_ovr_weighted: 0.562728\n"
     ]
    },
    {
     "name": "stderr",
     "output_type": "stream",
     "text": [
      "\tRan out of time, early stopping on iteration 1381. Best iteration is:\n",
      "\t[1380]\tvalid_set's multi_logloss: 1.92345\tvalid_set's roc_auc_ovr_weighted: 0.563839\n"
     ]
    },
    {
     "name": "stdout",
     "output_type": "stream",
     "text": [
      "[1000]\tvalid_set's multi_logloss: 1.92461\tvalid_set's roc_auc_ovr_weighted: 0.561745\n"
     ]
    },
    {
     "name": "stderr",
     "output_type": "stream",
     "text": [
      "\tRan out of time, early stopping on iteration 1454. Best iteration is:\n",
      "\t[1454]\tvalid_set's multi_logloss: 1.92397\tvalid_set's roc_auc_ovr_weighted: 0.563333\n"
     ]
    },
    {
     "name": "stdout",
     "output_type": "stream",
     "text": [
      "[1000]\tvalid_set's multi_logloss: 1.92466\tvalid_set's roc_auc_ovr_weighted: 0.561632\n"
     ]
    },
    {
     "name": "stderr",
     "output_type": "stream",
     "text": [
      "\tRan out of time, early stopping on iteration 1594. Best iteration is:\n",
      "\t[1586]\tvalid_set's multi_logloss: 1.924\tvalid_set's roc_auc_ovr_weighted: 0.563383\n",
      "\t0.5635\t = Validation score   (roc_auc_ovr_weighted)\n",
      "\t3217.45s\t = Training   runtime\n",
      "\t392.3s\t = Validation runtime\n",
      "Fitting model: LightGBM_BAG_L1 ... Training model for up to 81.09s of the 3081.51s of remaining time.\n",
      "\tFitting 5 child models (S1F1 - S1F5) | Fitting with SequentialLocalFoldFittingStrategy\n",
      "\tRan out of time, early stopping on iteration 24. Best iteration is:\n",
      "\t[24]\tvalid_set's multi_logloss: 1.93588\tvalid_set's roc_auc_ovr_weighted: 0.543387\n",
      "\tRan out of time, early stopping on iteration 23. Best iteration is:\n",
      "\t[23]\tvalid_set's multi_logloss: 1.9361\tvalid_set's roc_auc_ovr_weighted: 0.543075\n",
      "\tRan out of time, early stopping on iteration 25. Best iteration is:\n",
      "\t[25]\tvalid_set's multi_logloss: 1.93586\tvalid_set's roc_auc_ovr_weighted: 0.543069\n",
      "\tRan out of time, early stopping on iteration 25. Best iteration is:\n",
      "\t[25]\tvalid_set's multi_logloss: 1.93595\tvalid_set's roc_auc_ovr_weighted: 0.542847\n",
      "\tRan out of time, early stopping on iteration 29. Best iteration is:\n",
      "\t[29]\tvalid_set's multi_logloss: 1.93535\tvalid_set's roc_auc_ovr_weighted: 0.543674\n",
      "\t0.5431\t = Validation score   (roc_auc_ovr_weighted)\n",
      "\t71.18s\t = Training   runtime\n",
      "\t6.36s\t = Validation runtime\n",
      "Fitting model: RandomForestGini_BAG_L1 ... Training model for up to 0.48s of the 3000.89s of remaining time.\n",
      "\tForcing `use_child_oof=False` because `groups` is specified\n",
      "\tFitting 5 child models (S1F1 - S1F5) | Fitting with SequentialLocalFoldFittingStrategy\n",
      "\tWarning: Model is expected to require 145.3s to train, which exceeds the maximum time limit of 0.0s, skipping model...\n",
      "\tTime limit exceeded... Skipping RandomForestGini_BAG_L1.\n",
      "Fitting model: WeightedEnsemble_L2 ... Training model for up to 599.63s of the 2991.11s of remaining time.\n",
      "\tEnsemble Weights: {'LightGBMXT_BAG_L1': 0.778, 'LightGBM_BAG_L1': 0.222}\n",
      "\t0.5636\t = Validation score   (roc_auc_ovr_weighted)\n",
      "\t119.13s\t = Training   runtime\n",
      "\t1.44s\t = Validation runtime\n",
      "Excluded models: ['KNN'] (Specified by `excluded_model_types`)\n",
      "Fitting 108 L2 models, fit_strategy=\"sequential\" ...\n",
      "Fitting model: NeuralNetFastAI_BAG_L2 ... Training model for up to 2870.36s of the 2869.97s of remaining time.\n",
      "\tFitting 5 child models (S1F1 - S1F5) | Fitting with SequentialLocalFoldFittingStrategy\n",
      "Metric roc_auc_ovr_weighted is not supported by this model - using log_loss instead\n",
      "Metric roc_auc_ovr_weighted is not supported by this model - using log_loss instead\n",
      "Metric roc_auc_ovr_weighted is not supported by this model - using log_loss instead\n",
      "Metric roc_auc_ovr_weighted is not supported by this model - using log_loss instead\n",
      "Metric roc_auc_ovr_weighted is not supported by this model - using log_loss instead\n",
      "No improvement since epoch 4: early stopping\n",
      "\t0.5603\t = Validation score   (roc_auc_ovr_weighted)\n",
      "\t2036.88s\t = Training   runtime\n",
      "\t5.76s\t = Validation runtime\n",
      "Fitting model: LightGBMXT_BAG_L2 ... Training model for up to 822.40s of the 822.01s of remaining time.\n",
      "\tFitting 5 child models (S1F1 - S1F5) | Fitting with SequentialLocalFoldFittingStrategy\n",
      "\t0.563\t = Validation score   (roc_auc_ovr_weighted)\n",
      "\t307.23s\t = Training   runtime\n",
      "\t10.83s\t = Validation runtime\n",
      "Fitting model: LightGBM_BAG_L2 ... Training model for up to 500.03s of the 499.64s of remaining time.\n",
      "\tFitting 5 child models (S1F1 - S1F5) | Fitting with SequentialLocalFoldFittingStrategy\n",
      "\t0.5631\t = Validation score   (roc_auc_ovr_weighted)\n",
      "\t278.29s\t = Training   runtime\n",
      "\t8.08s\t = Validation runtime\n",
      "Fitting model: RandomForestGini_BAG_L2 ... Training model for up to 209.39s of the 209.00s of remaining time.\n",
      "\tForcing `use_child_oof=False` because `groups` is specified\n",
      "\tFitting 5 child models (S1F1 - S1F5) | Fitting with SequentialLocalFoldFittingStrategy\n",
      "\tWarning: Model is expected to require 594.7s to train, which exceeds the maximum time limit of 32.9s, skipping model...\n",
      "\tTime limit exceeded... Skipping RandomForestGini_BAG_L2.\n",
      "Fitting model: RandomForestEntr_BAG_L2 ... Training model for up to 199.32s of the 198.94s of remaining time.\n",
      "\tForcing `use_child_oof=False` because `groups` is specified\n",
      "\tFitting 5 child models (S1F1 - S1F5) | Fitting with SequentialLocalFoldFittingStrategy\n",
      "\tWarning: Model is expected to require 1159.8s to train, which exceeds the maximum time limit of 31.2s, skipping model...\n",
      "\tTime limit exceeded... Skipping RandomForestEntr_BAG_L2.\n",
      "Fitting model: CatBoost_BAG_L2 ... Training model for up to 181.71s of the 181.32s of remaining time.\n",
      "\tFitting 5 child models (S1F1 - S1F5) | Fitting with SequentialLocalFoldFittingStrategy\n",
      "\tRan out of time, early stopping on iteration 8.\n",
      "\tRan out of time, early stopping on iteration 7.\n",
      "\tRan out of time, early stopping on iteration 9.\n",
      "\tRan out of time, early stopping on iteration 12.\n",
      "\tRan out of time, early stopping on iteration 15.\n",
      "\t0.5573\t = Validation score   (roc_auc_ovr_weighted)\n",
      "\t160.21s\t = Training   runtime\n",
      "\t0.29s\t = Validation runtime\n",
      "Fitting model: ExtraTreesGini_BAG_L2 ... Training model for up to 16.19s of the 15.81s of remaining time.\n",
      "\tForcing `use_child_oof=False` because `groups` is specified\n",
      "\tFitting 5 child models (S1F1 - S1F5) | Fitting with SequentialLocalFoldFittingStrategy\n",
      "\tWarning: Model is expected to require 107.0s to train, which exceeds the maximum time limit of 2.0s, skipping model...\n",
      "\tTime limit exceeded... Skipping ExtraTreesGini_BAG_L2.\n",
      "Fitting model: ExtraTreesEntr_BAG_L2 ... Training model for up to 12.54s of the 12.15s of remaining time.\n",
      "\tForcing `use_child_oof=False` because `groups` is specified\n",
      "\tFitting 5 child models (S1F1 - S1F5) | Fitting with SequentialLocalFoldFittingStrategy\n",
      "\tWarning: Model is expected to require 127.2s to train, which exceeds the maximum time limit of 1.4s, skipping model...\n",
      "\tTime limit exceeded... Skipping ExtraTreesEntr_BAG_L2.\n",
      "Fitting model: WeightedEnsemble_L3 ... Training model for up to 360.00s of the -3.02s of remaining time.\n",
      "\tEnsemble Weights: {'LightGBMXT_BAG_L1': 0.458, 'LightGBM_BAG_L2': 0.25, 'LightGBM_BAG_L1': 0.167, 'NeuralNetFastAI_BAG_L2': 0.083, 'LightGBMXT_BAG_L2': 0.042}\n",
      "\t0.5637\t = Validation score   (roc_auc_ovr_weighted)\n",
      "\t277.88s\t = Training   runtime\n",
      "\t1.39s\t = Validation runtime\n",
      "AutoGluon training complete, total runtime = 9281.44s ... Best model: WeightedEnsemble_L3 | Estimated inference throughput: 310.8 rows/s (133334 batch size)\n",
      "TabularPredictor saved. To load, use: predictor = TabularPredictor.load(\"/logs/ds_sub_fit/sub_fit_ho\")\n",
      "Deleting DyStack predictor artifacts (clean_up_fits=True) ...\n",
      "Leaderboard on holdout data (DyStack):\n",
      "                    model  score_holdout  score_val           eval_metric  pred_time_test  pred_time_val     fit_time  pred_time_test_marginal  pred_time_val_marginal  fit_time_marginal  stack_level  can_infer  fit_order\n",
      "0         LightGBM_BAG_L2       0.566332   0.563135  roc_auc_ovr_weighted      284.667670     412.082695  5850.613009                 5.219585                8.083729         278.286151            2       True          7\n",
      "1     WeightedEnsemble_L3       0.566015   0.563735  roc_auc_ovr_weighted      295.580689     430.065186  8472.609394                 0.022063                1.389106         277.884875            3       True          9\n",
      "2       LightGBMXT_BAG_L2       0.565947   0.562993  roc_auc_ovr_weighted      286.309217     414.828548  5879.556023                 6.861132               10.829583         307.229165            2       True          6\n",
      "3  NeuralNetFastAI_BAG_L2       0.565843   0.560343  roc_auc_ovr_weighted      283.477907     409.762769  7609.209203                 4.029822                5.763803        2036.882345            2       True          5\n",
      "4       LightGBMXT_BAG_L1       0.565821   0.563450  roc_auc_ovr_weighted      271.685090     392.296935  3217.454836               271.685090              392.296935        3217.454836            1       True          2\n",
      "5     WeightedEnsemble_L2       0.565594   0.563612  roc_auc_ovr_weighted      275.677641     400.095334  3407.765856                 0.009016                1.439870         119.133871            2       True          4\n",
      "6         CatBoost_BAG_L2       0.562726   0.557289  roc_auc_ovr_weighted      280.296273     404.293202  5732.539506                 0.848188                0.294237         160.212648            2       True          8\n",
      "7         LightGBM_BAG_L1       0.542822   0.543118  roc_auc_ovr_weighted        3.983536       6.358529    71.177149                 3.983536                6.358529          71.177149            1       True          3\n",
      "8  NeuralNetFastAI_BAG_L1       0.534671   0.531478  roc_auc_ovr_weighted        3.779460       5.343502  2283.694873                 3.779460                5.343502        2283.694873            1       True          1\n",
      "\t1\t = Optimal   num_stack_levels (Stacked Overfitting Occurred: False)\n",
      "\t9581s\t = DyStack   runtime |\t26419s\t = Remaining runtime\n",
      "Starting main fit with num_stack_levels=1.\n",
      "\tFor future fit calls on this dataset, you can skip DyStack to save time: `predictor.fit(..., dynamic_stacking=False, num_stack_levels=1)`\n",
      "Values in column 'fold' used as split folds instead of being automatically set. Bagged models will have 5 splits.\n",
      "Beginning AutoGluon training ... Time limit = 26419s\n",
      "AutoGluon will save models to \"/logs\"\n",
      "Train Data Rows:    750000\n",
      "Train Data Columns: 9\n",
      "Label Column:       Fertilizer Name\n",
      "Problem Type:       multiclass\n",
      "Preprocessing data ...\n",
      "Train Data Class Count: 7\n",
      "Using Feature Generators to preprocess the data ...\n",
      "Fitting AutoMLPipelineFeatureGenerator...\n",
      "\tAvailable Memory:                    29060.59 MB\n",
      "\tTrain Data (Original)  Memory Usage: 124.18 MB (0.4% of available memory)\n",
      "\tInferring data type of each feature based on column values. Set feature_metadata_in to manually specify special dtypes of the features.\n",
      "\tStage 1 Generators:\n",
      "\t\tFitting AsTypeFeatureGenerator...\n",
      "\tStage 2 Generators:\n",
      "\t\tFitting FillNaFeatureGenerator...\n",
      "\tStage 3 Generators:\n",
      "\t\tFitting IdentityFeatureGenerator...\n",
      "\t\tFitting CategoryFeatureGenerator...\n",
      "\t\t\tFitting CategoryMemoryMinimizeFeatureGenerator...\n",
      "\tStage 4 Generators:\n",
      "\t\tFitting DropUniqueFeatureGenerator...\n",
      "\tStage 5 Generators:\n",
      "\t\tFitting DropDuplicatesFeatureGenerator...\n",
      "\tTypes of features in original data (raw dtype, special dtypes):\n",
      "\t\t('int', [])    : 6 | ['Temparature', 'Humidity', 'Moisture', 'Nitrogen', 'Potassium', ...]\n",
      "\t\t('object', []) : 2 | ['Soil Type', 'Crop Type']\n",
      "\tTypes of features in processed data (raw dtype, special dtypes):\n",
      "\t\t('category', []) : 2 | ['Soil Type', 'Crop Type']\n",
      "\t\t('int', [])      : 6 | ['Temparature', 'Humidity', 'Moisture', 'Nitrogen', 'Potassium', ...]\n",
      "\t1.8s = Fit runtime\n",
      "\t8 features in original data used to generate 8 features in processed data.\n",
      "\tTrain Data (Processed) Memory Usage: 35.76 MB (0.1% of available memory)\n",
      "Data preprocessing and feature engineering runtime = 2.18s ...\n",
      "AutoGluon will gauge predictive performance using evaluation metric: 'roc_auc_ovr_weighted'\n",
      "\tThis metric expects predicted probabilities rather than predicted class labels, so you'll need to use predict_proba() instead of predict()\n",
      "\tTo change this, specify the eval_metric parameter of Predictor()\n",
      "Large model count detected (112 configs) ... Only displaying the first 3 models of each family. To see all, set `verbosity=3`.\n",
      "User-specified model hyperparameters to be fit:\n",
      "{\n",
      "\t'NN_TORCH': [{}, {'activation': 'elu', 'dropout_prob': 0.10077639529843717, 'hidden_size': 108, 'learning_rate': 0.002735937344002146, 'num_layers': 4, 'use_batchnorm': True, 'weight_decay': 1.356433327634438e-12, 'ag_args': {'name_suffix': '_r79', 'priority': -2}}, {'activation': 'elu', 'dropout_prob': 0.11897478034205347, 'hidden_size': 213, 'learning_rate': 0.0010474382260641949, 'num_layers': 4, 'use_batchnorm': False, 'weight_decay': 5.594471067786272e-10, 'ag_args': {'name_suffix': '_r22', 'priority': -7}}],\n",
      "\t'GBM': [{'extra_trees': True, 'ag_args': {'name_suffix': 'XT'}}, {}, {'learning_rate': 0.03, 'num_leaves': 128, 'feature_fraction': 0.9, 'min_data_in_leaf': 3, 'ag_args': {'name_suffix': 'Large', 'priority': 0, 'hyperparameter_tune_kwargs': None}}],\n",
      "\t'CAT': [{}, {'depth': 6, 'grow_policy': 'SymmetricTree', 'l2_leaf_reg': 2.1542798306067823, 'learning_rate': 0.06864209415792857, 'max_ctr_complexity': 4, 'one_hot_max_size': 10, 'ag_args': {'name_suffix': '_r177', 'priority': -1}}, {'depth': 8, 'grow_policy': 'Depthwise', 'l2_leaf_reg': 2.7997999596449104, 'learning_rate': 0.031375015734637225, 'max_ctr_complexity': 2, 'one_hot_max_size': 3, 'ag_args': {'name_suffix': '_r9', 'priority': -5}}],\n",
      "\t'XGB': [{}, {'colsample_bytree': 0.6917311125174739, 'enable_categorical': False, 'learning_rate': 0.018063876087523967, 'max_depth': 10, 'min_child_weight': 0.6028633586934382, 'ag_args': {'name_suffix': '_r33', 'priority': -8}}, {'colsample_bytree': 0.6628423832084077, 'enable_categorical': False, 'learning_rate': 0.08775715546881824, 'max_depth': 5, 'min_child_weight': 0.6294123374222513, 'ag_args': {'name_suffix': '_r89', 'priority': -16}}],\n",
      "\t'FASTAI': [{}, {'bs': 256, 'emb_drop': 0.5411770367537934, 'epochs': 43, 'layers': [800, 400], 'lr': 0.01519848858318159, 'ps': 0.23782946566604385, 'ag_args': {'name_suffix': '_r191', 'priority': -4}}, {'bs': 2048, 'emb_drop': 0.05070411322605811, 'epochs': 29, 'layers': [200, 100], 'lr': 0.08974235041576624, 'ps': 0.10393466140748028, 'ag_args': {'name_suffix': '_r102', 'priority': -11}}],\n",
      "\t'RF': [{'criterion': 'gini', 'ag_args': {'name_suffix': 'Gini', 'problem_types': ['binary', 'multiclass']}}, {'criterion': 'entropy', 'ag_args': {'name_suffix': 'Entr', 'problem_types': ['binary', 'multiclass']}}, {'criterion': 'squared_error', 'ag_args': {'name_suffix': 'MSE', 'problem_types': ['regression', 'quantile']}}],\n",
      "\t'XT': [{'criterion': 'gini', 'ag_args': {'name_suffix': 'Gini', 'problem_types': ['binary', 'multiclass']}}, {'criterion': 'entropy', 'ag_args': {'name_suffix': 'Entr', 'problem_types': ['binary', 'multiclass']}}, {'criterion': 'squared_error', 'ag_args': {'name_suffix': 'MSE', 'problem_types': ['regression', 'quantile']}}],\n",
      "\t'KNN': [{'weights': 'uniform', 'ag_args': {'name_suffix': 'Unif'}}, {'weights': 'distance', 'ag_args': {'name_suffix': 'Dist'}}],\n",
      "}\n",
      "AutoGluon will fit 2 stack levels (L1 to L2) ...\n",
      "Excluded models: ['KNN'] (Specified by `excluded_model_types`)\n",
      "Fitting 108 L1 models, fit_strategy=\"sequential\" ...\n",
      "Fitting model: NeuralNetFastAI_BAG_L1 ... Training model for up to 17606.56s of the 26416.43s of remaining time.\n",
      "\tFitting 5 child models (S1F1 - S1F5) | Fitting with SequentialLocalFoldFittingStrategy\n",
      "Metric roc_auc_ovr_weighted is not supported by this model - using log_loss instead\n",
      "Metric roc_auc_ovr_weighted is not supported by this model - using log_loss instead\n",
      "Metric roc_auc_ovr_weighted is not supported by this model - using log_loss instead\n",
      "Metric roc_auc_ovr_weighted is not supported by this model - using log_loss instead\n",
      "Metric roc_auc_ovr_weighted is not supported by this model - using log_loss instead\n",
      "\t0.5327\t = Validation score   (roc_auc_ovr_weighted)\n",
      "\t2091.54s\t = Training   runtime\n",
      "\t6.11s\t = Validation runtime\n",
      "Fitting model: LightGBMXT_BAG_L1 ... Training model for up to 15504.06s of the 24313.93s of remaining time.\n",
      "\tFitting 5 child models (S1F1 - S1F5) | Fitting with SequentialLocalFoldFittingStrategy\n"
     ]
    },
    {
     "name": "stdout",
     "output_type": "stream",
     "text": [
      "[1000]\tvalid_set's multi_logloss: 1.92355\tvalid_set's roc_auc_ovr_weighted: 0.563548\n",
      "[2000]\tvalid_set's multi_logloss: 1.92279\tvalid_set's roc_auc_ovr_weighted: 0.565688\n",
      "[3000]\tvalid_set's multi_logloss: 1.92373\tvalid_set's roc_auc_ovr_weighted: 0.566253\n",
      "[4000]\tvalid_set's multi_logloss: 1.92531\tvalid_set's roc_auc_ovr_weighted: 0.566377\n",
      "[1000]\tvalid_set's multi_logloss: 1.92371\tvalid_set's roc_auc_ovr_weighted: 0.563302\n",
      "[2000]\tvalid_set's multi_logloss: 1.9227\tvalid_set's roc_auc_ovr_weighted: 0.565586\n",
      "[3000]\tvalid_set's multi_logloss: 1.92356\tvalid_set's roc_auc_ovr_weighted: 0.566272\n",
      "[1000]\tvalid_set's multi_logloss: 1.92366\tvalid_set's roc_auc_ovr_weighted: 0.563222\n",
      "[2000]\tvalid_set's multi_logloss: 1.92253\tvalid_set's roc_auc_ovr_weighted: 0.56598\n",
      "[3000]\tvalid_set's multi_logloss: 1.92325\tvalid_set's roc_auc_ovr_weighted: 0.566753\n",
      "[4000]\tvalid_set's multi_logloss: 1.92472\tvalid_set's roc_auc_ovr_weighted: 0.56699\n",
      "[5000]\tvalid_set's multi_logloss: 1.9268\tvalid_set's roc_auc_ovr_weighted: 0.566737\n",
      "[1000]\tvalid_set's multi_logloss: 1.92373\tvalid_set's roc_auc_ovr_weighted: 0.563106\n",
      "[2000]\tvalid_set's multi_logloss: 1.92271\tvalid_set's roc_auc_ovr_weighted: 0.565562\n",
      "[3000]\tvalid_set's multi_logloss: 1.9235\tvalid_set's roc_auc_ovr_weighted: 0.56634\n",
      "[4000]\tvalid_set's multi_logloss: 1.92497\tvalid_set's roc_auc_ovr_weighted: 0.566551\n",
      "[5000]\tvalid_set's multi_logloss: 1.92683\tvalid_set's roc_auc_ovr_weighted: 0.566504\n",
      "[1000]\tvalid_set's multi_logloss: 1.9237\tvalid_set's roc_auc_ovr_weighted: 0.563303\n",
      "[2000]\tvalid_set's multi_logloss: 1.9226\tvalid_set's roc_auc_ovr_weighted: 0.565845\n",
      "[3000]\tvalid_set's multi_logloss: 1.92328\tvalid_set's roc_auc_ovr_weighted: 0.566563\n",
      "[4000]\tvalid_set's multi_logloss: 1.92486\tvalid_set's roc_auc_ovr_weighted: 0.566617\n"
     ]
    },
    {
     "name": "stderr",
     "output_type": "stream",
     "text": [
      "\t0.5666\t = Validation score   (roc_auc_ovr_weighted)\n",
      "\t11451.89s\t = Training   runtime\n",
      "\t1692.53s\t = Validation runtime\n",
      "Fitting model: LightGBM_BAG_L1 ... Training model for up to 2343.83s of the 11153.70s of remaining time.\n",
      "\tFitting 5 child models (S1F1 - S1F5) | Fitting with SequentialLocalFoldFittingStrategy\n",
      "\tRan out of time, early stopping on iteration 776. Best iteration is:\n",
      "\t[776]\tvalid_set's multi_logloss: 1.91869\tvalid_set's roc_auc_ovr_weighted: 0.571558\n",
      "\tRan out of time, early stopping on iteration 805. Best iteration is:\n",
      "\t[805]\tvalid_set's multi_logloss: 1.91863\tvalid_set's roc_auc_ovr_weighted: 0.571501\n",
      "\tRan out of time, early stopping on iteration 840. Best iteration is:\n",
      "\t[834]\tvalid_set's multi_logloss: 1.91841\tvalid_set's roc_auc_ovr_weighted: 0.571751\n",
      "\tRan out of time, early stopping on iteration 893. Best iteration is:\n",
      "\t[880]\tvalid_set's multi_logloss: 1.91879\tvalid_set's roc_auc_ovr_weighted: 0.571254\n"
     ]
    },
    {
     "name": "stdout",
     "output_type": "stream",
     "text": [
      "[1000]\tvalid_set's multi_logloss: 1.91764\tvalid_set's roc_auc_ovr_weighted: 0.572653\n"
     ]
    },
    {
     "name": "stderr",
     "output_type": "stream",
     "text": [
      "\tRan out of time, early stopping on iteration 1012. Best iteration is:\n",
      "\t[1012]\tvalid_set's multi_logloss: 1.9176\tvalid_set's roc_auc_ovr_weighted: 0.572732\n",
      "\t0.5717\t = Validation score   (roc_auc_ovr_weighted)\n",
      "\t2077.7s\t = Training   runtime\n",
      "\t185.94s\t = Validation runtime\n",
      "Fitting model: RandomForestGini_BAG_L1 ... Training model for up to 74.38s of the 8884.25s of remaining time.\n",
      "\tForcing `use_child_oof=False` because `groups` is specified\n",
      "\tFitting 5 child models (S1F1 - S1F5) | Fitting with SequentialLocalFoldFittingStrategy\n",
      "\tWarning: Model is expected to require 169.3s to train, which exceeds the maximum time limit of 11.8s, skipping model...\n",
      "\tTime limit exceeded... Skipping RandomForestGini_BAG_L1.\n",
      "Fitting model: RandomForestEntr_BAG_L1 ... Training model for up to 71.48s of the 8881.35s of remaining time.\n",
      "\tForcing `use_child_oof=False` because `groups` is specified\n",
      "\tFitting 5 child models (S1F1 - S1F5) | Fitting with SequentialLocalFoldFittingStrategy\n",
      "\tWarning: Model is expected to require 180.7s to train, which exceeds the maximum time limit of 11.4s, skipping model...\n",
      "\tTime limit exceeded... Skipping RandomForestEntr_BAG_L1.\n",
      "Fitting model: CatBoost_BAG_L1 ... Training model for up to 68.44s of the 8878.32s of remaining time.\n",
      "\tFitting 5 child models (S1F1 - S1F5) | Fitting with SequentialLocalFoldFittingStrategy\n",
      "\tRan out of time, early stopping on iteration 1.\n",
      "\tRan out of time, early stopping on iteration 4.\n",
      "\tRan out of time, early stopping on iteration 5.\n",
      "\tRan out of time, early stopping on iteration 6.\n",
      "\tRan out of time, early stopping on iteration 10.\n",
      "\t0.513\t = Validation score   (roc_auc_ovr_weighted)\n",
      "\t58.31s\t = Training   runtime\n",
      "\t0.32s\t = Validation runtime\n",
      "Fitting model: ExtraTreesGini_BAG_L1 ... Training model for up to 6.19s of the 8816.07s of remaining time.\n",
      "\tForcing `use_child_oof=False` because `groups` is specified\n",
      "\tFitting 5 child models (S1F1 - S1F5) | Fitting with SequentialLocalFoldFittingStrategy\n",
      "\tWarning: Model is expected to require 68.8s to train, which exceeds the maximum time limit of 0.9s, skipping model...\n",
      "\tTime limit exceeded... Skipping ExtraTreesGini_BAG_L1.\n",
      "Fitting model: ExtraTreesEntr_BAG_L1 ... Training model for up to 4.66s of the 8814.53s of remaining time.\n",
      "\tForcing `use_child_oof=False` because `groups` is specified\n",
      "\tFitting 5 child models (S1F1 - S1F5) | Fitting with SequentialLocalFoldFittingStrategy\n",
      "\tWarning: Model is expected to require 69.6s to train, which exceeds the maximum time limit of 0.7s, skipping model...\n",
      "\tTime limit exceeded... Skipping ExtraTreesEntr_BAG_L1.\n",
      "Fitting model: XGBoost_BAG_L1 ... Training model for up to 3.12s of the 8812.99s of remaining time.\n",
      "\tFitting 5 child models (S1F1 - S1F5) | Fitting with SequentialLocalFoldFittingStrategy\n",
      "\tTime limit exceeded... Skipping XGBoost_BAG_L1.\n",
      "Fitting model: WeightedEnsemble_L2 ... Training model for up to 1760.66s of the 8790.01s of remaining time.\n",
      "\tEnsemble Weights: {'LightGBM_BAG_L1': 0.6, 'LightGBMXT_BAG_L1': 0.24, 'CatBoost_BAG_L1': 0.16}\n",
      "\t0.5738\t = Validation score   (roc_auc_ovr_weighted)\n",
      "\t175.89s\t = Training   runtime\n",
      "\t1.58s\t = Validation runtime\n",
      "Excluded models: ['KNN'] (Specified by `excluded_model_types`)\n",
      "Fitting 108 L2 models, fit_strategy=\"sequential\" ...\n",
      "Fitting model: NeuralNetFastAI_BAG_L2 ... Training model for up to 8612.32s of the 8611.91s of remaining time.\n",
      "\tFitting 5 child models (S1F1 - S1F5) | Fitting with SequentialLocalFoldFittingStrategy\n",
      "Metric roc_auc_ovr_weighted is not supported by this model - using log_loss instead\n",
      "No improvement since epoch 8: early stopping\n",
      "Metric roc_auc_ovr_weighted is not supported by this model - using log_loss instead\n",
      "Metric roc_auc_ovr_weighted is not supported by this model - using log_loss instead\n",
      "Metric roc_auc_ovr_weighted is not supported by this model - using log_loss instead\n",
      "No improvement since epoch 4: early stopping\n",
      "Metric roc_auc_ovr_weighted is not supported by this model - using log_loss instead\n",
      "\t0.5704\t = Validation score   (roc_auc_ovr_weighted)\n",
      "\t2187.85s\t = Training   runtime\n",
      "\t6.83s\t = Validation runtime\n",
      "Fitting model: LightGBMXT_BAG_L2 ... Training model for up to 6411.38s of the 6410.97s of remaining time.\n",
      "\tFitting 5 child models (S1F1 - S1F5) | Fitting with SequentialLocalFoldFittingStrategy\n",
      "\t0.5735\t = Validation score   (roc_auc_ovr_weighted)\n",
      "\t402.48s\t = Training   runtime\n",
      "\t13.28s\t = Validation runtime\n",
      "Fitting model: LightGBM_BAG_L2 ... Training model for up to 5990.41s of the 5990.00s of remaining time.\n",
      "\tFitting 5 child models (S1F1 - S1F5) | Fitting with SequentialLocalFoldFittingStrategy\n",
      "\t0.5725\t = Validation score   (roc_auc_ovr_weighted)\n",
      "\t263.53s\t = Training   runtime\n",
      "\t6.11s\t = Validation runtime\n",
      "Fitting model: RandomForestGini_BAG_L2 ... Training model for up to 5715.69s of the 5715.28s of remaining time.\n",
      "\tForcing `use_child_oof=False` because `groups` is specified\n",
      "\tFitting 5 child models (S1F1 - S1F5) | Fitting with SequentialLocalFoldFittingStrategy\n",
      "\t0.5688\t = Validation score   (roc_auc_ovr_weighted)\n",
      "\t3974.66s\t = Training   runtime\n",
      "\t24.76s\t = Validation runtime\n",
      "Fitting model: RandomForestEntr_BAG_L2 ... Training model for up to 1693.10s of the 1692.69s of remaining time.\n",
      "\tForcing `use_child_oof=False` because `groups` is specified\n",
      "\tFitting 5 child models (S1F1 - S1F5) | Fitting with SequentialLocalFoldFittingStrategy\n",
      "\tWarning: Model is expected to require 2594.8s to train, which exceeds the maximum time limit of 270.0s, skipping model...\n",
      "\tTime limit exceeded... Skipping RandomForestEntr_BAG_L2.\n",
      "Fitting model: CatBoost_BAG_L2 ... Training model for up to 1655.33s of the 1654.92s of remaining time.\n",
      "\tFitting 5 child models (S1F1 - S1F5) | Fitting with SequentialLocalFoldFittingStrategy\n",
      "\tRan out of time, early stopping on iteration 78.\n",
      "\tRan out of time, early stopping on iteration 83.\n",
      "\tRan out of time, early stopping on iteration 86.\n",
      "\tRan out of time, early stopping on iteration 98.\n",
      "\tRan out of time, early stopping on iteration 120.\n",
      "\t0.573\t = Validation score   (roc_auc_ovr_weighted)\n",
      "\t1548.31s\t = Training   runtime\n",
      "\t0.66s\t = Validation runtime\n",
      "Fitting model: ExtraTreesGini_BAG_L2 ... Training model for up to 100.36s of the 99.95s of remaining time.\n",
      "\tForcing `use_child_oof=False` because `groups` is specified\n",
      "\tFitting 5 child models (S1F1 - S1F5) | Fitting with SequentialLocalFoldFittingStrategy\n",
      "\tWarning: Model is expected to require 176.4s to train, which exceeds the maximum time limit of 15.2s, skipping model...\n",
      "\tTime limit exceeded... Skipping ExtraTreesGini_BAG_L2.\n",
      "Fitting model: ExtraTreesEntr_BAG_L2 ... Training model for up to 95.11s of the 94.70s of remaining time.\n",
      "\tForcing `use_child_oof=False` because `groups` is specified\n",
      "\tFitting 5 child models (S1F1 - S1F5) | Fitting with SequentialLocalFoldFittingStrategy\n",
      "\tWarning: Model is expected to require 178.0s to train, which exceeds the maximum time limit of 14.3s, skipping model...\n",
      "\tTime limit exceeded... Skipping ExtraTreesEntr_BAG_L2.\n",
      "Fitting model: XGBoost_BAG_L2 ... Training model for up to 89.86s of the 89.45s of remaining time.\n",
      "\tFitting 5 child models (S1F1 - S1F5) | Fitting with SequentialLocalFoldFittingStrategy\n",
      "\tTime limit exceeded... Skipping XGBoost_BAG_L2.\n",
      "Fitting model: NeuralNetTorch_BAG_L2 ... Training model for up to 70.95s of the 70.54s of remaining time.\n",
      "\tFitting 5 child models (S1F1 - S1F5) | Fitting with SequentialLocalFoldFittingStrategy\n",
      "\tTime limit exceeded... Skipping NeuralNetTorch_BAG_L2.\n",
      "Fitting model: LightGBMLarge_BAG_L2 ... Training model for up to 53.77s of the 53.36s of remaining time.\n",
      "\tFitting 5 child models (S1F1 - S1F5) | Fitting with SequentialLocalFoldFittingStrategy\n",
      "\tRan out of time, early stopping on iteration 6. Best iteration is:\n",
      "\t[4]\tvalid_set's multi_logloss: 1.93693\tvalid_set's roc_auc_ovr_weighted: 0.569593\n",
      "\tRan out of time, early stopping on iteration 5. Best iteration is:\n",
      "\t[5]\tvalid_set's multi_logloss: 1.93627\tvalid_set's roc_auc_ovr_weighted: 0.571438\n",
      "\tRan out of time, early stopping on iteration 6. Best iteration is:\n",
      "\t[6]\tvalid_set's multi_logloss: 1.93485\tvalid_set's roc_auc_ovr_weighted: 0.57298\n",
      "\tRan out of time, early stopping on iteration 7. Best iteration is:\n",
      "\t[7]\tvalid_set's multi_logloss: 1.93371\tvalid_set's roc_auc_ovr_weighted: 0.572428\n",
      "\tRan out of time, early stopping on iteration 7. Best iteration is:\n",
      "\t[6]\tvalid_set's multi_logloss: 1.93447\tvalid_set's roc_auc_ovr_weighted: 0.571601\n",
      "\t0.5711\t = Validation score   (roc_auc_ovr_weighted)\n",
      "\t47.58s\t = Training   runtime\n",
      "\t1.39s\t = Validation runtime\n",
      "Fitting model: WeightedEnsemble_L3 ... Training model for up to 861.23s of the -12.69s of remaining time.\n",
      "\tEnsemble Weights: {'LightGBM_BAG_L1': 0.32, 'LightGBMXT_BAG_L2': 0.2, 'LightGBMLarge_BAG_L2': 0.2, 'LightGBMXT_BAG_L1': 0.12, 'CatBoost_BAG_L2': 0.08, 'NeuralNetFastAI_BAG_L2': 0.04, 'LightGBM_BAG_L2': 0.04}\n",
      "\t0.5739\t = Validation score   (roc_auc_ovr_weighted)\n",
      "\t450.15s\t = Training   runtime\n",
      "\t1.56s\t = Validation runtime\n",
      "AutoGluon training complete, total runtime = 26883.65s ... Best model: WeightedEnsemble_L3 | Estimated inference throughput: 78.4 rows/s (150000 batch size)\n",
      "TabularPredictor saved. To load, use: predictor = TabularPredictor.load(\"/logs\")\n"
     ]
    },
    {
     "data": {
      "text/plain": [
       "<autogluon.tabular.predictor.predictor.TabularPredictor at 0x7c69a638a250>"
      ]
     },
     "execution_count": 8,
     "metadata": {},
     "output_type": "execute_result"
    }
   ],
   "source": [
    "predictor.fit(\n",
    "    train_data=train,\n",
    "    time_limit=CFG.time_limit,\n",
    "    presets=\"best_quality\",\n",
    "    excluded_model_types = [\"KNN\"]\n",
    ")"
   ]
  },
  {
   "cell_type": "code",
   "execution_count": 9,
   "id": "0adbaf9e",
   "metadata": {
    "execution": {
     "iopub.execute_input": "2025-06-03T16:48:22.916310Z",
     "iopub.status.busy": "2025-06-03T16:48:22.915372Z",
     "iopub.status.idle": "2025-06-03T16:48:23.005505Z",
     "shell.execute_reply": "2025-06-03T16:48:23.004559Z"
    },
    "papermill": {
     "duration": 0.114647,
     "end_time": "2025-06-03T16:48:23.007116",
     "exception": false,
     "start_time": "2025-06-03T16:48:22.892469",
     "status": "completed"
    },
    "tags": []
   },
   "outputs": [
    {
     "data": {
      "text/html": [
       "<style type=\"text/css\">\n",
       "#T_45309_row0_col1, #T_45309_row1_col1 {\n",
       "  background-color: #006837;\n",
       "  color: #f1f1f1;\n",
       "}\n",
       "#T_45309_row2_col1 {\n",
       "  background-color: #016a38;\n",
       "  color: #f1f1f1;\n",
       "}\n",
       "#T_45309_row3_col1 {\n",
       "  background-color: #036e3a;\n",
       "  color: #f1f1f1;\n",
       "}\n",
       "#T_45309_row4_col1 {\n",
       "  background-color: #05713c;\n",
       "  color: #f1f1f1;\n",
       "}\n",
       "#T_45309_row5_col1 {\n",
       "  background-color: #097940;\n",
       "  color: #f1f1f1;\n",
       "}\n",
       "#T_45309_row6_col1 {\n",
       "  background-color: #0c7f43;\n",
       "  color: #f1f1f1;\n",
       "}\n",
       "#T_45309_row7_col1 {\n",
       "  background-color: #0e8245;\n",
       "  color: #f1f1f1;\n",
       "}\n",
       "#T_45309_row8_col1 {\n",
       "  background-color: #15904c;\n",
       "  color: #f1f1f1;\n",
       "}\n",
       "#T_45309_row9_col1 {\n",
       "  background-color: #279f53;\n",
       "  color: #f1f1f1;\n",
       "}\n",
       "#T_45309_row10_col1 {\n",
       "  background-color: #fdb96a;\n",
       "  color: #000000;\n",
       "}\n",
       "#T_45309_row11_col1 {\n",
       "  background-color: #a50026;\n",
       "  color: #f1f1f1;\n",
       "}\n",
       "</style>\n",
       "<table id=\"T_45309\">\n",
       "  <thead>\n",
       "    <tr>\n",
       "      <th class=\"blank level0\" >&nbsp;</th>\n",
       "      <th id=\"T_45309_level0_col0\" class=\"col_heading level0 col0\" >model</th>\n",
       "      <th id=\"T_45309_level0_col1\" class=\"col_heading level0 col1\" >score_val</th>\n",
       "      <th id=\"T_45309_level0_col2\" class=\"col_heading level0 col2\" >eval_metric</th>\n",
       "      <th id=\"T_45309_level0_col3\" class=\"col_heading level0 col3\" >pred_time_val</th>\n",
       "      <th id=\"T_45309_level0_col4\" class=\"col_heading level0 col4\" >fit_time</th>\n",
       "      <th id=\"T_45309_level0_col5\" class=\"col_heading level0 col5\" >pred_time_val_marginal</th>\n",
       "      <th id=\"T_45309_level0_col6\" class=\"col_heading level0 col6\" >fit_time_marginal</th>\n",
       "      <th id=\"T_45309_level0_col7\" class=\"col_heading level0 col7\" >stack_level</th>\n",
       "      <th id=\"T_45309_level0_col8\" class=\"col_heading level0 col8\" >can_infer</th>\n",
       "      <th id=\"T_45309_level0_col9\" class=\"col_heading level0 col9\" >fit_order</th>\n",
       "    </tr>\n",
       "  </thead>\n",
       "  <tbody>\n",
       "    <tr>\n",
       "      <th id=\"T_45309_level0_row0\" class=\"row_heading level0 row0\" >0</th>\n",
       "      <td id=\"T_45309_row0_col0\" class=\"data row0 col0\" >WeightedEnsemble_L3</td>\n",
       "      <td id=\"T_45309_row0_col1\" class=\"data row0 col1\" >0.573920</td>\n",
       "      <td id=\"T_45309_row0_col2\" class=\"data row0 col2\" >roc_auc_ovr_weighted</td>\n",
       "      <td id=\"T_45309_row0_col3\" class=\"data row0 col3\" >1914.733661</td>\n",
       "      <td id=\"T_45309_row0_col4\" class=\"data row0 col4\" >20579.340746</td>\n",
       "      <td id=\"T_45309_row0_col5\" class=\"data row0 col5\" >1.562542</td>\n",
       "      <td id=\"T_45309_row0_col6\" class=\"data row0 col6\" >450.148175</td>\n",
       "      <td id=\"T_45309_row0_col7\" class=\"data row0 col7\" >3</td>\n",
       "      <td id=\"T_45309_row0_col8\" class=\"data row0 col8\" >True</td>\n",
       "      <td id=\"T_45309_row0_col9\" class=\"data row0 col9\" >12</td>\n",
       "    </tr>\n",
       "    <tr>\n",
       "      <th id=\"T_45309_level0_row1\" class=\"row_heading level0 row1\" >1</th>\n",
       "      <td id=\"T_45309_row1_col0\" class=\"data row1 col0\" >WeightedEnsemble_L2</td>\n",
       "      <td id=\"T_45309_row1_col1\" class=\"data row1 col1\" >0.573793</td>\n",
       "      <td id=\"T_45309_row1_col2\" class=\"data row1 col2\" >roc_auc_ovr_weighted</td>\n",
       "      <td id=\"T_45309_row1_col3\" class=\"data row1 col3\" >1880.370033</td>\n",
       "      <td id=\"T_45309_row1_col4\" class=\"data row1 col4\" >13763.789044</td>\n",
       "      <td id=\"T_45309_row1_col5\" class=\"data row1 col5\" >1.576608</td>\n",
       "      <td id=\"T_45309_row1_col6\" class=\"data row1 col6\" >175.892917</td>\n",
       "      <td id=\"T_45309_row1_col7\" class=\"data row1 col7\" >2</td>\n",
       "      <td id=\"T_45309_row1_col8\" class=\"data row1 col8\" >True</td>\n",
       "      <td id=\"T_45309_row1_col9\" class=\"data row1 col9\" >5</td>\n",
       "    </tr>\n",
       "    <tr>\n",
       "      <th id=\"T_45309_level0_row2\" class=\"row_heading level0 row2\" >2</th>\n",
       "      <td id=\"T_45309_row2_col0\" class=\"data row2 col0\" >LightGBMXT_BAG_L2</td>\n",
       "      <td id=\"T_45309_row2_col1\" class=\"data row2 col1\" >0.573484</td>\n",
       "      <td id=\"T_45309_row2_col2\" class=\"data row2 col2\" >roc_auc_ovr_weighted</td>\n",
       "      <td id=\"T_45309_row2_col3\" class=\"data row2 col3\" >1898.182846</td>\n",
       "      <td id=\"T_45309_row2_col4\" class=\"data row2 col4\" >16081.918742</td>\n",
       "      <td id=\"T_45309_row2_col5\" class=\"data row2 col5\" >13.279684</td>\n",
       "      <td id=\"T_45309_row2_col6\" class=\"data row2 col6\" >402.478220</td>\n",
       "      <td id=\"T_45309_row2_col7\" class=\"data row2 col7\" >2</td>\n",
       "      <td id=\"T_45309_row2_col8\" class=\"data row2 col8\" >True</td>\n",
       "      <td id=\"T_45309_row2_col9\" class=\"data row2 col9\" >7</td>\n",
       "    </tr>\n",
       "    <tr>\n",
       "      <th id=\"T_45309_level0_row3\" class=\"row_heading level0 row3\" >3</th>\n",
       "      <td id=\"T_45309_row3_col0\" class=\"data row3 col0\" >CatBoost_BAG_L2</td>\n",
       "      <td id=\"T_45309_row3_col1\" class=\"data row3 col1\" >0.573037</td>\n",
       "      <td id=\"T_45309_row3_col2\" class=\"data row3 col2\" >roc_auc_ovr_weighted</td>\n",
       "      <td id=\"T_45309_row3_col3\" class=\"data row3 col3\" >1885.560132</td>\n",
       "      <td id=\"T_45309_row3_col4\" class=\"data row3 col4\" >17227.751958</td>\n",
       "      <td id=\"T_45309_row3_col5\" class=\"data row3 col5\" >0.656969</td>\n",
       "      <td id=\"T_45309_row3_col6\" class=\"data row3 col6\" >1548.311435</td>\n",
       "      <td id=\"T_45309_row3_col7\" class=\"data row3 col7\" >2</td>\n",
       "      <td id=\"T_45309_row3_col8\" class=\"data row3 col8\" >True</td>\n",
       "      <td id=\"T_45309_row3_col9\" class=\"data row3 col9\" >10</td>\n",
       "    </tr>\n",
       "    <tr>\n",
       "      <th id=\"T_45309_level0_row4\" class=\"row_heading level0 row4\" >4</th>\n",
       "      <td id=\"T_45309_row4_col0\" class=\"data row4 col0\" >LightGBM_BAG_L2</td>\n",
       "      <td id=\"T_45309_row4_col1\" class=\"data row4 col1\" >0.572539</td>\n",
       "      <td id=\"T_45309_row4_col2\" class=\"data row4 col2\" >roc_auc_ovr_weighted</td>\n",
       "      <td id=\"T_45309_row4_col3\" class=\"data row4 col3\" >1891.015460</td>\n",
       "      <td id=\"T_45309_row4_col4\" class=\"data row4 col4\" >15942.972588</td>\n",
       "      <td id=\"T_45309_row4_col5\" class=\"data row4 col5\" >6.112298</td>\n",
       "      <td id=\"T_45309_row4_col6\" class=\"data row4 col6\" >263.532066</td>\n",
       "      <td id=\"T_45309_row4_col7\" class=\"data row4 col7\" >2</td>\n",
       "      <td id=\"T_45309_row4_col8\" class=\"data row4 col8\" >True</td>\n",
       "      <td id=\"T_45309_row4_col9\" class=\"data row4 col9\" >8</td>\n",
       "    </tr>\n",
       "    <tr>\n",
       "      <th id=\"T_45309_level0_row5\" class=\"row_heading level0 row5\" >5</th>\n",
       "      <td id=\"T_45309_row5_col0\" class=\"data row5 col0\" >LightGBM_BAG_L1</td>\n",
       "      <td id=\"T_45309_row5_col1\" class=\"data row5 col1\" >0.571748</td>\n",
       "      <td id=\"T_45309_row5_col2\" class=\"data row5 col2\" >roc_auc_ovr_weighted</td>\n",
       "      <td id=\"T_45309_row5_col3\" class=\"data row5 col3\" >185.936316</td>\n",
       "      <td id=\"T_45309_row5_col4\" class=\"data row5 col4\" >2077.696648</td>\n",
       "      <td id=\"T_45309_row5_col5\" class=\"data row5 col5\" >185.936316</td>\n",
       "      <td id=\"T_45309_row5_col6\" class=\"data row5 col6\" >2077.696648</td>\n",
       "      <td id=\"T_45309_row5_col7\" class=\"data row5 col7\" >1</td>\n",
       "      <td id=\"T_45309_row5_col8\" class=\"data row5 col8\" >True</td>\n",
       "      <td id=\"T_45309_row5_col9\" class=\"data row5 col9\" >3</td>\n",
       "    </tr>\n",
       "    <tr>\n",
       "      <th id=\"T_45309_level0_row6\" class=\"row_heading level0 row6\" >6</th>\n",
       "      <td id=\"T_45309_row6_col0\" class=\"data row6 col0\" >LightGBMLarge_BAG_L2</td>\n",
       "      <td id=\"T_45309_row6_col1\" class=\"data row6 col1\" >0.571057</td>\n",
       "      <td id=\"T_45309_row6_col2\" class=\"data row6 col2\" >roc_auc_ovr_weighted</td>\n",
       "      <td id=\"T_45309_row6_col3\" class=\"data row6 col3\" >1886.292025</td>\n",
       "      <td id=\"T_45309_row6_col4\" class=\"data row6 col4\" >15727.019367</td>\n",
       "      <td id=\"T_45309_row6_col5\" class=\"data row6 col5\" >1.388863</td>\n",
       "      <td id=\"T_45309_row6_col6\" class=\"data row6 col6\" >47.578845</td>\n",
       "      <td id=\"T_45309_row6_col7\" class=\"data row6 col7\" >2</td>\n",
       "      <td id=\"T_45309_row6_col8\" class=\"data row6 col8\" >True</td>\n",
       "      <td id=\"T_45309_row6_col9\" class=\"data row6 col9\" >11</td>\n",
       "    </tr>\n",
       "    <tr>\n",
       "      <th id=\"T_45309_level0_row7\" class=\"row_heading level0 row7\" >7</th>\n",
       "      <td id=\"T_45309_row7_col0\" class=\"data row7 col0\" >NeuralNetFastAI_BAG_L2</td>\n",
       "      <td id=\"T_45309_row7_col1\" class=\"data row7 col1\" >0.570397</td>\n",
       "      <td id=\"T_45309_row7_col2\" class=\"data row7 col2\" >roc_auc_ovr_weighted</td>\n",
       "      <td id=\"T_45309_row7_col3\" class=\"data row7 col3\" >1891.733305</td>\n",
       "      <td id=\"T_45309_row7_col4\" class=\"data row7 col4\" >17867.292005</td>\n",
       "      <td id=\"T_45309_row7_col5\" class=\"data row7 col5\" >6.830142</td>\n",
       "      <td id=\"T_45309_row7_col6\" class=\"data row7 col6\" >2187.851483</td>\n",
       "      <td id=\"T_45309_row7_col7\" class=\"data row7 col7\" >2</td>\n",
       "      <td id=\"T_45309_row7_col8\" class=\"data row7 col8\" >True</td>\n",
       "      <td id=\"T_45309_row7_col9\" class=\"data row7 col9\" >6</td>\n",
       "    </tr>\n",
       "    <tr>\n",
       "      <th id=\"T_45309_level0_row8\" class=\"row_heading level0 row8\" >8</th>\n",
       "      <td id=\"T_45309_row8_col0\" class=\"data row8 col0\" >RandomForestGini_BAG_L2</td>\n",
       "      <td id=\"T_45309_row8_col1\" class=\"data row8 col1\" >0.568848</td>\n",
       "      <td id=\"T_45309_row8_col2\" class=\"data row8 col2\" >roc_auc_ovr_weighted</td>\n",
       "      <td id=\"T_45309_row8_col3\" class=\"data row8 col3\" >1909.662453</td>\n",
       "      <td id=\"T_45309_row8_col4\" class=\"data row8 col4\" >19654.099668</td>\n",
       "      <td id=\"T_45309_row8_col5\" class=\"data row8 col5\" >24.759290</td>\n",
       "      <td id=\"T_45309_row8_col6\" class=\"data row8 col6\" >3974.659146</td>\n",
       "      <td id=\"T_45309_row8_col7\" class=\"data row8 col7\" >2</td>\n",
       "      <td id=\"T_45309_row8_col8\" class=\"data row8 col8\" >True</td>\n",
       "      <td id=\"T_45309_row8_col9\" class=\"data row8 col9\" >9</td>\n",
       "    </tr>\n",
       "    <tr>\n",
       "      <th id=\"T_45309_level0_row9\" class=\"row_heading level0 row9\" >9</th>\n",
       "      <td id=\"T_45309_row9_col0\" class=\"data row9 col0\" >LightGBMXT_BAG_L1</td>\n",
       "      <td id=\"T_45309_row9_col1\" class=\"data row9 col1\" >0.566613</td>\n",
       "      <td id=\"T_45309_row9_col2\" class=\"data row9 col2\" >roc_auc_ovr_weighted</td>\n",
       "      <td id=\"T_45309_row9_col3\" class=\"data row9 col3\" >1692.533124</td>\n",
       "      <td id=\"T_45309_row9_col4\" class=\"data row9 col4\" >11451.889295</td>\n",
       "      <td id=\"T_45309_row9_col5\" class=\"data row9 col5\" >1692.533124</td>\n",
       "      <td id=\"T_45309_row9_col6\" class=\"data row9 col6\" >11451.889295</td>\n",
       "      <td id=\"T_45309_row9_col7\" class=\"data row9 col7\" >1</td>\n",
       "      <td id=\"T_45309_row9_col8\" class=\"data row9 col8\" >True</td>\n",
       "      <td id=\"T_45309_row9_col9\" class=\"data row9 col9\" >2</td>\n",
       "    </tr>\n",
       "    <tr>\n",
       "      <th id=\"T_45309_level0_row10\" class=\"row_heading level0 row10\" >10</th>\n",
       "      <td id=\"T_45309_row10_col0\" class=\"data row10 col0\" >NeuralNetFastAI_BAG_L1</td>\n",
       "      <td id=\"T_45309_row10_col1\" class=\"data row10 col1\" >0.532668</td>\n",
       "      <td id=\"T_45309_row10_col2\" class=\"data row10 col2\" >roc_auc_ovr_weighted</td>\n",
       "      <td id=\"T_45309_row10_col3\" class=\"data row10 col3\" >6.109737</td>\n",
       "      <td id=\"T_45309_row10_col4\" class=\"data row10 col4\" >2091.544395</td>\n",
       "      <td id=\"T_45309_row10_col5\" class=\"data row10 col5\" >6.109737</td>\n",
       "      <td id=\"T_45309_row10_col6\" class=\"data row10 col6\" >2091.544395</td>\n",
       "      <td id=\"T_45309_row10_col7\" class=\"data row10 col7\" >1</td>\n",
       "      <td id=\"T_45309_row10_col8\" class=\"data row10 col8\" >True</td>\n",
       "      <td id=\"T_45309_row10_col9\" class=\"data row10 col9\" >1</td>\n",
       "    </tr>\n",
       "    <tr>\n",
       "      <th id=\"T_45309_level0_row11\" class=\"row_heading level0 row11\" >11</th>\n",
       "      <td id=\"T_45309_row11_col0\" class=\"data row11 col0\" >CatBoost_BAG_L1</td>\n",
       "      <td id=\"T_45309_row11_col1\" class=\"data row11 col1\" >0.512973</td>\n",
       "      <td id=\"T_45309_row11_col2\" class=\"data row11 col2\" >roc_auc_ovr_weighted</td>\n",
       "      <td id=\"T_45309_row11_col3\" class=\"data row11 col3\" >0.323985</td>\n",
       "      <td id=\"T_45309_row11_col4\" class=\"data row11 col4\" >58.310184</td>\n",
       "      <td id=\"T_45309_row11_col5\" class=\"data row11 col5\" >0.323985</td>\n",
       "      <td id=\"T_45309_row11_col6\" class=\"data row11 col6\" >58.310184</td>\n",
       "      <td id=\"T_45309_row11_col7\" class=\"data row11 col7\" >1</td>\n",
       "      <td id=\"T_45309_row11_col8\" class=\"data row11 col8\" >True</td>\n",
       "      <td id=\"T_45309_row11_col9\" class=\"data row11 col9\" >4</td>\n",
       "    </tr>\n",
       "  </tbody>\n",
       "</table>\n"
      ],
      "text/plain": [
       "<pandas.io.formats.style.Styler at 0x7c688711f8d0>"
      ]
     },
     "execution_count": 9,
     "metadata": {},
     "output_type": "execute_result"
    }
   ],
   "source": [
    "predictor.leaderboard(silent=True).style.background_gradient(subset=[\"score_val\"], cmap=\"RdYlGn\")"
   ]
  },
  {
   "cell_type": "code",
   "execution_count": 10,
   "id": "f6e3c67c",
   "metadata": {
    "execution": {
     "iopub.execute_input": "2025-06-03T16:48:23.084968Z",
     "iopub.status.busy": "2025-06-03T16:48:23.051751Z",
     "iopub.status.idle": "2025-06-03T16:48:23.090345Z",
     "shell.execute_reply": "2025-06-03T16:48:23.089407Z"
    },
    "papermill": {
     "duration": 0.062857,
     "end_time": "2025-06-03T16:48:23.092042",
     "exception": false,
     "start_time": "2025-06-03T16:48:23.029185",
     "status": "completed"
    },
    "tags": []
   },
   "outputs": [],
   "source": [
    "def get_ensemble_weights(predictor):\n",
    "    info = predictor.info()\n",
    "    ensemble_weights = {}\n",
    "    for model_name, values in info[\"model_info\"].items():\n",
    "        if \"Ensemble\" in model_name:\n",
    "            children_info = values[\"children_info\"]\n",
    "            ensemble_weights[model_name] = values[\"children_info\"][list(children_info.keys())[0]][\"model_weights\"]\n",
    "    return ensemble_weights"
   ]
  },
  {
   "cell_type": "code",
   "execution_count": 11,
   "id": "5e0f6d5c",
   "metadata": {
    "execution": {
     "iopub.execute_input": "2025-06-03T16:48:23.137173Z",
     "iopub.status.busy": "2025-06-03T16:48:23.136795Z",
     "iopub.status.idle": "2025-06-03T16:50:14.478377Z",
     "shell.execute_reply": "2025-06-03T16:50:14.477435Z"
    },
    "papermill": {
     "duration": 111.365717,
     "end_time": "2025-06-03T16:50:14.479893",
     "exception": false,
     "start_time": "2025-06-03T16:48:23.114176",
     "status": "completed"
    },
    "tags": []
   },
   "outputs": [
    {
     "data": {
      "image/png": "[encoded data removed]",
      "text/plain": [
       "<Figure size 800x800 with 1 Axes>"
      ]
     },
     "metadata": {},
     "output_type": "display_data"
    },
    {
     "data": {
      "image/png": "[encoded data removed]",
      "text/plain": [
       "<Figure size 800x800 with 1 Axes>"
      ]
     },
     "metadata": {},
     "output_type": "display_data"
    }
   ],
   "source": [
    "ensemble_weights = get_ensemble_weights(predictor)\n",
    "\n",
    "for key, value in ensemble_weights.items():\n",
    "    plt.figure(figsize=(8, 8))\n",
    "    plt.pie(value.values(), labels=value.keys(), autopct=\"%1.1f%%\", colors=sns.color_palette(\"Set2\", len(value)))\n",
    "    plt.title(key)\n",
    "    plt.tight_layout()\n",
    "    plt.show()"
   ]
  },
  {
   "cell_type": "markdown",
   "id": "be2296a6",
   "metadata": {
    "papermill": {
     "duration": 0.023578,
     "end_time": "2025-06-03T16:50:14.527656",
     "exception": false,
     "start_time": "2025-06-03T16:50:14.504078",
     "status": "completed"
    },
    "tags": []
   },
   "source": [
    "# Saving OOF files and creating a submission file"
   ]
  },
  {
   "cell_type": "code",
   "execution_count": 12,
   "id": "35d4b7b1",
   "metadata": {
    "execution": {
     "iopub.execute_input": "2025-06-03T16:50:14.577261Z",
     "iopub.status.busy": "2025-06-03T16:50:14.576904Z",
     "iopub.status.idle": "2025-06-03T16:50:14.584448Z",
     "shell.execute_reply": "2025-06-03T16:50:14.583709Z"
    },
    "papermill": {
     "duration": 0.034363,
     "end_time": "2025-06-03T16:50:14.585962",
     "exception": false,
     "start_time": "2025-06-03T16:50:14.551599",
     "status": "completed"
    },
    "tags": []
   },
   "outputs": [],
   "source": [
    "def save_pred_probs(pred_probs, cv_score, name, type, is_ensemble):\n",
    "    base_path = \"oof_pred_probs\" if type == \"oof\" else \"test_pred_probs\"\n",
    "    base_path = \".\" if is_ensemble else base_path\n",
    "    with open(f\"{base_path}/{name}_{type}_pred_probs_{cv_score:.6f}.pkl\", \"wb\") as f:\n",
    "        pickle.dump(pred_probs, f)\n",
    "\n",
    "def save_submission(test_pred_probs, score):\n",
    "    final_predictions = []\n",
    "    for i in np.argsort(test_pred_probs, axis=1)[:, -3:][:, ::-1]:\n",
    "        prediction = label_encoder.inverse_transform(i)\n",
    "        final_predictions.append(\" \".join(prediction))\n",
    "        \n",
    "    sub = pd.read_csv(CFG.sample_sub_path)\n",
    "    sub[CFG.target] = final_predictions\n",
    "    sub.to_csv(f\"sub_autogluon_{score:.6f}.csv\", index=False)\n",
    "    \n",
    "os.makedirs(\"oof_pred_probs\", exist_ok=True)\n",
    "os.makedirs(\"test_pred_probs\", exist_ok=True)"
   ]
  },
  {
   "cell_type": "code",
   "execution_count": 13,
   "id": "9208a371",
   "metadata": {
    "execution": {
     "iopub.execute_input": "2025-06-03T16:50:14.635559Z",
     "iopub.status.busy": "2025-06-03T16:50:14.635231Z",
     "iopub.status.idle": "2025-06-03T16:50:14.639411Z",
     "shell.execute_reply": "2025-06-03T16:50:14.638542Z"
    },
    "papermill": {
     "duration": 0.030829,
     "end_time": "2025-06-03T16:50:14.640852",
     "exception": false,
     "start_time": "2025-06-03T16:50:14.610023",
     "status": "completed"
    },
    "tags": []
   },
   "outputs": [],
   "source": [
    "oof_pred_probs = {}\n",
    "test_pred_probs = {}"
   ]
  },
  {
   "cell_type": "code",
   "execution_count": 14,
   "id": "04238110",
   "metadata": {
    "_kg_hide-output": true,
    "execution": {
     "iopub.execute_input": "2025-06-03T16:50:14.691092Z",
     "iopub.status.busy": "2025-06-03T16:50:14.690388Z",
     "iopub.status.idle": "2025-06-03T17:47:28.157976Z",
     "shell.execute_reply": "2025-06-03T17:47:28.157076Z"
    },
    "papermill": {
     "duration": 3433.501771,
     "end_time": "2025-06-03T17:47:28.166972",
     "exception": false,
     "start_time": "2025-06-03T16:50:14.665201",
     "status": "completed"
    },
    "tags": []
   },
   "outputs": [],
   "source": [
    "best_model = predictor.model_best\n",
    "test_pred_probs = predictor.predict_proba_multi(test)\n",
    "for model in predictor.model_names():\n",
    "    model_oof_pred_probs = predictor.predict_proba_oof(model).values\n",
    "    model_test_pred_probs = test_pred_probs[model].values\n",
    "    \n",
    "    cv_score = map3(train[CFG.target], model_oof_pred_probs)\n",
    "    if model != best_model:\n",
    "        save_pred_probs(model_oof_pred_probs, cv_score, model, \"oof\", False)\n",
    "        save_pred_probs(model_test_pred_probs, cv_score, model, \"test\", False)\n",
    "    else:\n",
    "        save_pred_probs(model_oof_pred_probs, cv_score, model, \"oof\", True)\n",
    "        save_pred_probs(model_test_pred_probs, cv_score, model, \"test\", True)\n",
    "        save_submission(model_test_pred_probs, cv_score)\n",
    "        \n",
    "    oof_pred_probs[model] = model_oof_pred_probs\n",
    "    test_pred_probs[model] = model_test_pred_probs"
   ]
  },
  {
   "cell_type": "markdown",
   "id": "fb65140f",
   "metadata": {
    "papermill": {
     "duration": 0.024037,
     "end_time": "2025-06-03T17:47:28.237397",
     "exception": false,
     "start_time": "2025-06-03T17:47:28.213360",
     "status": "completed"
    },
    "tags": []
   },
   "source": [
    "# Visualizing the results"
   ]
  },
  {
   "cell_type": "code",
   "execution_count": 15,
   "id": "0e21e055",
   "metadata": {
    "execution": {
     "iopub.execute_input": "2025-06-03T17:47:28.289728Z",
     "iopub.status.busy": "2025-06-03T17:47:28.289399Z",
     "iopub.status.idle": "2025-06-03T17:48:07.587188Z",
     "shell.execute_reply": "2025-06-03T17:48:07.586217Z"
    },
    "papermill": {
     "duration": 39.326662,
     "end_time": "2025-06-03T17:48:07.588915",
     "exception": false,
     "start_time": "2025-06-03T17:47:28.262253",
     "status": "completed"
    },
    "tags": []
   },
   "outputs": [],
   "source": [
    "scores = {}\n",
    "split = StratifiedKFold(n_splits=CFG.n_folds, random_state=CFG.seed, shuffle=True).split(train, train[CFG.target])\n",
    "for fold_idx, (train_index, val_index) in enumerate(split):\n",
    "    for model in predictor.model_names():\n",
    "        fold_score = map3(train.loc[val_index, CFG.target], oof_pred_probs[model][val_index])\n",
    "        if model not in scores:\n",
    "            scores[model] = []\n",
    "        scores[model].append(fold_score)"
   ]
  },
  {
   "cell_type": "code",
   "execution_count": 16,
   "id": "a3f5dc94",
   "metadata": {
    "execution": {
     "iopub.execute_input": "2025-06-03T17:48:07.643973Z",
     "iopub.status.busy": "2025-06-03T17:48:07.643624Z",
     "iopub.status.idle": "2025-06-03T17:48:08.207884Z",
     "shell.execute_reply": "2025-06-03T17:48:08.206773Z"
    },
    "papermill": {
     "duration": 0.598562,
     "end_time": "2025-06-03T17:48:08.213406",
     "exception": false,
     "start_time": "2025-06-03T17:48:07.614844",
     "status": "completed"
    },
    "tags": []
   },
   "outputs": [
    {
     "data": {
      "image/png": "[encoded data removed]",
      "text/plain": [
       "<Figure size 1500x480 with 2 Axes>"
      ]
     },
     "metadata": {},
     "output_type": "display_data"
    }
   ],
   "source": [
    "scores = pd.DataFrame(scores)\n",
    "mean_scores = scores.mean().sort_values(ascending=False)\n",
    "order = scores.mean().sort_values(ascending=False).index.tolist()\n",
    "\n",
    "min_score = mean_scores.min()\n",
    "max_score = mean_scores.max()\n",
    "padding = (max_score - min_score) * 0.5\n",
    "lower_limit = min_score - padding\n",
    "upper_limit = max_score + padding\n",
    "\n",
    "fig, axs = plt.subplots(1, 2, figsize=(15, scores.shape[1] * 0.4))\n",
    "\n",
    "sns.boxplot(data=scores, order=order, ax=axs[0], orient=\"h\", palette=\"RdYlGn_r\")\n",
    "axs[0].set_title(\"Fold MAP@3\")\n",
    "axs[0].set_xlabel(\"\")\n",
    "axs[0].set_ylabel(\"\")\n",
    "\n",
    "barplot = sns.barplot(x=mean_scores.values, y=mean_scores.index, ax=axs[1], palette=\"RdYlGn_r\")\n",
    "axs[1].set_title(\"Average MAP@3\")\n",
    "axs[1].set_xlabel(\"\")\n",
    "axs[1].set_xlim(left=lower_limit, right=upper_limit)\n",
    "axs[1].set_ylabel(\"\")\n",
    "\n",
    "for i, score in enumerate(mean_scores.values):\n",
    "    barplot.text(score, i, round(score, 6), va=\"center\")\n",
    "\n",
    "plt.tight_layout()\n",
    "plt.show()"
   ]
  }
 ],
 "metadata": {
  "kaggle": {
   "accelerator": "none",
   "dataSources": [
    {
     "databundleVersionId": 12184666,
     "sourceId": 91717,
     "sourceType": "competition"
    }
   ],
   "dockerImageVersionId": 31041,
   "isGpuEnabled": false,
   "isInternetEnabled": true,
   "language": "python",
   "sourceType": "notebook"
  },
  "kernelspec": {
   "display_name": "Python 3",
   "language": "python",
   "name": "python3"
  },
  "language_info": {
   "codemirror_mode": {
    "name": "ipython",
    "version": 3
   },
   "file_extension": ".py",
   "mimetype": "text/x-python",
   "name": "python",
   "nbconvert_exporter": "python",
   "pygments_lexer": "ipython3",
   "version": "3.11.11"
  },
  "papermill": {
   "default_parameters": {},
   "duration": 40086.834189,
   "end_time": "2025-06-03T17:48:11.115132",
   "environment_variables": {},
   "exception": null,
   "input_path": "__notebook__.ipynb",
   "output_path": "__notebook__.ipynb",
   "parameters": {},
   "start_time": "2025-06-03T06:40:04.280943",
   "version": "2.6.0"
  }
 },
 "nbformat": 4,
 "nbformat_minor": 5
}
