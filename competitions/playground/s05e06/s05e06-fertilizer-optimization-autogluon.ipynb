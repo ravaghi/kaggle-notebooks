{
 "cells": [
  {
   "cell_type": "markdown",
   "id": "f3e3ebe5",
   "metadata": {
    "papermill": {
     "duration": 0.003357,
     "end_time": "2025-06-02T09:47:57.626929",
     "exception": false,
     "start_time": "2025-06-02T09:47:57.623572",
     "status": "completed"
    },
    "tags": []
   },
   "source": [
    "# Imports and configs"
   ]
  },
  {
   "cell_type": "code",
   "execution_count": 1,
   "id": "88a21dde",
   "metadata": {
    "_cell_guid": "b1076dfc-b9ad-4769-8c92-a6c4dae69d19",
    "_kg_hide-output": true,
    "_uuid": "8f2839f25d086af736a60e9eeb907d3b93b6e0e5",
    "execution": {
     "iopub.execute_input": "2025-06-02T09:47:57.634205Z",
     "iopub.status.busy": "2025-06-02T09:47:57.633484Z",
     "iopub.status.idle": "2025-06-02T09:48:09.356128Z",
     "shell.execute_reply": "2025-06-02T09:48:09.355359Z"
    },
    "papermill": {
     "duration": 11.727921,
     "end_time": "2025-06-02T09:48:09.357781",
     "exception": false,
     "start_time": "2025-06-02T09:47:57.629860",
     "status": "completed"
    },
    "tags": []
   },
   "outputs": [
    {
     "name": "stdout",
     "output_type": "stream",
     "text": [
      "\u001b[2K   \u001b[90m━━━━━━━━━━━━━━━━━━━━━━━━━━━━━━━━━━━━━━━━\u001b[0m \u001b[32m13.3/13.3 MB\u001b[0m \u001b[31m68.8 MB/s\u001b[0m eta \u001b[36m0:00:00\u001b[0m\r\n",
      "\u001b[2K   \u001b[90m━━━━━━━━━━━━━━━━━━━━━━━━━━━━━━━━━━━━━━━━\u001b[0m \u001b[32m382.4/382.4 kB\u001b[0m \u001b[31m22.5 MB/s\u001b[0m eta \u001b[36m0:00:00\u001b[0m\r\n",
      "\u001b[2K   \u001b[90m━━━━━━━━━━━━━━━━━━━━━━━━━━━━━━━━━━━━━━━━\u001b[0m \u001b[32m222.7/222.7 kB\u001b[0m \u001b[31m13.5 MB/s\u001b[0m eta \u001b[36m0:00:00\u001b[0m\r\n",
      "\u001b[2K   \u001b[90m━━━━━━━━━━━━━━━━━━━━━━━━━━━━━━━━━━━━━━━━\u001b[0m \u001b[32m64.2/64.2 kB\u001b[0m \u001b[31m4.5 MB/s\u001b[0m eta \u001b[36m0:00:00\u001b[0m\r\n",
      "\u001b[2K   \u001b[90m━━━━━━━━━━━━━━━━━━━━━━━━━━━━━━━━━━━━━━━━\u001b[0m \u001b[32m69.1/69.1 kB\u001b[0m \u001b[31m4.6 MB/s\u001b[0m eta \u001b[36m0:00:00\u001b[0m\r\n",
      "\u001b[?25h\u001b[31mERROR: pip's dependency resolver does not currently take into account all the packages that are installed. This behaviour is the source of the following dependency conflicts.\r\n",
      "cesium 0.12.4 requires numpy<3.0,>=2.0, but you have numpy 1.26.4 which is incompatible.\u001b[0m\u001b[31m\r\n",
      "\u001b[0m"
     ]
    }
   ],
   "source": [
    "!pip install -q autogluon.tabular ray scikit-learn==1.5.2"
   ]
  },
  {
   "cell_type": "code",
   "execution_count": 2,
   "id": "6f1727fc",
   "metadata": {
    "execution": {
     "iopub.execute_input": "2025-06-02T09:48:09.365603Z",
     "iopub.status.busy": "2025-06-02T09:48:09.365293Z",
     "iopub.status.idle": "2025-06-02T09:48:13.615034Z",
     "shell.execute_reply": "2025-06-02T09:48:13.614217Z"
    },
    "papermill": {
     "duration": 4.255416,
     "end_time": "2025-06-02T09:48:13.616836",
     "exception": false,
     "start_time": "2025-06-02T09:48:09.361420",
     "status": "completed"
    },
    "tags": []
   },
   "outputs": [],
   "source": [
    "from sklearn.model_selection import StratifiedKFold\n",
    "from sklearn.preprocessing import LabelEncoder\n",
    "from autogluon.core.metrics import make_scorer\n",
    "from autogluon.tabular import TabularPredictor\n",
    "import matplotlib.pyplot as plt\n",
    "import seaborn as sns\n",
    "import pandas as pd\n",
    "import numpy as np\n",
    "import warnings\n",
    "import pickle\n",
    "import shutil\n",
    "import os\n",
    "\n",
    "warnings.filterwarnings(\"ignore\")"
   ]
  },
  {
   "cell_type": "code",
   "execution_count": 3,
   "id": "8d331a97",
   "metadata": {
    "execution": {
     "iopub.execute_input": "2025-06-02T09:48:13.625013Z",
     "iopub.status.busy": "2025-06-02T09:48:13.624058Z",
     "iopub.status.idle": "2025-06-02T09:48:13.628260Z",
     "shell.execute_reply": "2025-06-02T09:48:13.627731Z"
    },
    "papermill": {
     "duration": 0.009077,
     "end_time": "2025-06-02T09:48:13.629281",
     "exception": false,
     "start_time": "2025-06-02T09:48:13.620204",
     "status": "completed"
    },
    "tags": []
   },
   "outputs": [],
   "source": [
    "class CFG:\n",
    "    train_path = \"/kaggle/input/playground-series-s5e6/train.csv\"\n",
    "    test_path = \"/kaggle/input/playground-series-s5e6/test.csv\"\n",
    "    sample_sub_path = \"/kaggle/input/playground-series-s5e6/sample_submission.csv\"\n",
    "    \n",
    "    target = \"Fertilizer Name\"\n",
    "    n_folds = 5\n",
    "    seed = 42\n",
    "    time_limit = 3600 * 10"
   ]
  },
  {
   "cell_type": "markdown",
   "id": "c2503f98",
   "metadata": {
    "papermill": {
     "duration": 0.00293,
     "end_time": "2025-06-02T09:48:13.635531",
     "exception": false,
     "start_time": "2025-06-02T09:48:13.632601",
     "status": "completed"
    },
    "tags": []
   },
   "source": [
    "# Loading data and defining folds"
   ]
  },
  {
   "cell_type": "code",
   "execution_count": 4,
   "id": "da0838f7",
   "metadata": {
    "execution": {
     "iopub.execute_input": "2025-06-02T09:48:13.642563Z",
     "iopub.status.busy": "2025-06-02T09:48:13.642264Z",
     "iopub.status.idle": "2025-06-02T09:48:15.046638Z",
     "shell.execute_reply": "2025-06-02T09:48:15.045886Z"
    },
    "papermill": {
     "duration": 1.409446,
     "end_time": "2025-06-02T09:48:15.048038",
     "exception": false,
     "start_time": "2025-06-02T09:48:13.638592",
     "status": "completed"
    },
    "tags": []
   },
   "outputs": [],
   "source": [
    "train = pd.read_csv(CFG.train_path, index_col=\"id\")\n",
    "test = pd.read_csv(CFG.test_path, index_col=\"id\")\n",
    "\n",
    "label_encoder = LabelEncoder()\n",
    "train[CFG.target] = label_encoder.fit_transform(train[CFG.target])"
   ]
  },
  {
   "cell_type": "code",
   "execution_count": 5,
   "id": "dd24af63",
   "metadata": {
    "execution": {
     "iopub.execute_input": "2025-06-02T09:48:15.058650Z",
     "iopub.status.busy": "2025-06-02T09:48:15.058299Z",
     "iopub.status.idle": "2025-06-02T09:48:15.290042Z",
     "shell.execute_reply": "2025-06-02T09:48:15.289295Z"
    },
    "papermill": {
     "duration": 0.238143,
     "end_time": "2025-06-02T09:48:15.291533",
     "exception": false,
     "start_time": "2025-06-02T09:48:15.053390",
     "status": "completed"
    },
    "tags": []
   },
   "outputs": [],
   "source": [
    "skf = StratifiedKFold(n_splits=CFG.n_folds, random_state=CFG.seed, shuffle=True)\n",
    "split = skf.split(train, train[CFG.target])\n",
    "for i, (_, val_index) in enumerate(split):\n",
    "    train.loc[val_index, \"fold\"] = i"
   ]
  },
  {
   "cell_type": "markdown",
   "id": "c544935e",
   "metadata": {
    "papermill": {
     "duration": 0.003104,
     "end_time": "2025-06-02T09:48:15.298116",
     "exception": false,
     "start_time": "2025-06-02T09:48:15.295012",
     "status": "completed"
    },
    "tags": []
   },
   "source": [
    "# Fitting the predictor"
   ]
  },
  {
   "cell_type": "code",
   "execution_count": 6,
   "id": "e7dbb76b",
   "metadata": {
    "execution": {
     "iopub.execute_input": "2025-06-02T09:48:15.306048Z",
     "iopub.status.busy": "2025-06-02T09:48:15.305269Z",
     "iopub.status.idle": "2025-06-02T09:48:15.311206Z",
     "shell.execute_reply": "2025-06-02T09:48:15.310519Z"
    },
    "papermill": {
     "duration": 0.010985,
     "end_time": "2025-06-02T09:48:15.312403",
     "exception": false,
     "start_time": "2025-06-02T09:48:15.301418",
     "status": "completed"
    },
    "tags": []
   },
   "outputs": [],
   "source": [
    "def map3(y_true, y_pred_probs):\n",
    "    y_true = [[x] for x in y_true]\n",
    "    y_pred_probs = np.argsort(y_pred_probs, axis=1)[:, -3:][:, ::-1].tolist()\n",
    "    \n",
    "    def ap3(y_true, y_pred_probs):\n",
    "        y_pred_probs = y_pred_probs[:3]\n",
    "\n",
    "        score = 0.0\n",
    "        num_hits = 0.0\n",
    "\n",
    "        for i,p in enumerate(y_pred_probs):\n",
    "            if p in y_true and p not in y_pred_probs[:i]:\n",
    "                num_hits += 1.0\n",
    "                score += num_hits / (i+1.0)\n",
    "\n",
    "        if not y_true:\n",
    "            return 0.0\n",
    "\n",
    "        return score\n",
    "    \n",
    "    return np.mean([ap3(a,p) for a,p in zip(y_true, y_pred_probs)])\n",
    "\n",
    "ag_map3 = make_scorer(\n",
    "    name='map3',\n",
    "    score_func=map3,\n",
    "    optimum=1,\n",
    "    needs_proba=True,\n",
    "    greater_is_better=True\n",
    ")"
   ]
  },
  {
   "cell_type": "code",
   "execution_count": 7,
   "id": "75d589fa",
   "metadata": {
    "execution": {
     "iopub.execute_input": "2025-06-02T09:48:15.320282Z",
     "iopub.status.busy": "2025-06-02T09:48:15.319704Z",
     "iopub.status.idle": "2025-06-02T09:48:15.324950Z",
     "shell.execute_reply": "2025-06-02T09:48:15.324352Z"
    },
    "papermill": {
     "duration": 0.010429,
     "end_time": "2025-06-02T09:48:15.326198",
     "exception": false,
     "start_time": "2025-06-02T09:48:15.315769",
     "status": "completed"
    },
    "tags": []
   },
   "outputs": [],
   "source": [
    "predictor = TabularPredictor(\n",
    "    path=\"/logs\",\n",
    "    problem_type=\"multiclass\",\n",
    "    eval_metric=ag_map3,\n",
    "    label=CFG.target,\n",
    "    groups=\"fold\",\n",
    "    verbosity=2\n",
    ")"
   ]
  },
  {
   "cell_type": "code",
   "execution_count": 8,
   "id": "502e5210",
   "metadata": {
    "_kg_hide-output": true,
    "execution": {
     "iopub.execute_input": "2025-06-02T09:48:15.333887Z",
     "iopub.status.busy": "2025-06-02T09:48:15.333627Z",
     "iopub.status.idle": "2025-06-02T20:02:51.313600Z",
     "shell.execute_reply": "2025-06-02T20:02:51.312953Z"
    },
    "papermill": {
     "duration": 36875.985099,
     "end_time": "2025-06-02T20:02:51.314770",
     "exception": false,
     "start_time": "2025-06-02T09:48:15.329671",
     "status": "completed"
    },
    "scrolled": true,
    "tags": []
   },
   "outputs": [
    {
     "name": "stderr",
     "output_type": "stream",
     "text": [
      "Verbosity: 2 (Standard Logging)\n",
      "=================== System Info ===================\n",
      "AutoGluon Version:  1.3.1\n",
      "Python Version:     3.11.11\n",
      "Operating System:   Linux\n",
      "Platform Machine:   x86_64\n",
      "Platform Version:   #1 SMP PREEMPT_DYNAMIC Sun Nov 10 10:07:59 UTC 2024\n",
      "CPU Count:          4\n",
      "Memory Avail:       30.00 GB / 31.35 GB (95.7%)\n",
      "Disk Space Avail:   1704.25 GB / 8062.39 GB (21.1%)\n",
      "===================================================\n",
      "Presets specified: ['best_quality']\n",
      "Setting dynamic_stacking from 'auto' to True. Reason: Enable dynamic_stacking when use_bag_holdout is disabled. (use_bag_holdout=False)\n",
      "Stack configuration (auto_stack=True): num_stack_levels=1, num_bag_folds=8, num_bag_sets=1\n",
      "DyStack is enabled (dynamic_stacking=True). AutoGluon will try to determine whether the input data is affected by stacked overfitting and enable or disable stacking as a consequence.\n",
      "\tThis is used to identify the optimal `num_stack_levels` value. Copies of AutoGluon will be fit on subsets of the data. Then holdout validation data is used to detect stacked overfitting.\n",
      "\tRunning DyStack for up to 9000s of the 36000s of remaining time (25%).\n",
      "\t\tContext path: \"/logs/ds_sub_fit/sub_fit_ho\"\n",
      "Running DyStack sub-fit ...\n",
      "Values in column 'fold' used as split folds instead of being automatically set. Bagged models will have 5 splits.\n",
      "Beginning AutoGluon training ... Time limit = 8999s\n",
      "AutoGluon will save models to \"/logs/ds_sub_fit/sub_fit_ho\"\n",
      "Train Data Rows:    666666\n",
      "Train Data Columns: 9\n",
      "Label Column:       Fertilizer Name\n",
      "Problem Type:       multiclass\n",
      "Preprocessing data ...\n",
      "Train Data Class Count: 7\n",
      "Using Feature Generators to preprocess the data ...\n",
      "Fitting AutoMLPipelineFeatureGenerator...\n",
      "\tAvailable Memory:                    30630.88 MB\n",
      "\tTrain Data (Original)  Memory Usage: 110.38 MB (0.4% of available memory)\n",
      "\tInferring data type of each feature based on column values. Set feature_metadata_in to manually specify special dtypes of the features.\n",
      "\tStage 1 Generators:\n",
      "\t\tFitting AsTypeFeatureGenerator...\n",
      "\tStage 2 Generators:\n",
      "\t\tFitting FillNaFeatureGenerator...\n",
      "\tStage 3 Generators:\n",
      "\t\tFitting IdentityFeatureGenerator...\n",
      "\t\tFitting CategoryFeatureGenerator...\n",
      "\t\t\tFitting CategoryMemoryMinimizeFeatureGenerator...\n",
      "\tStage 4 Generators:\n",
      "\t\tFitting DropUniqueFeatureGenerator...\n",
      "\tStage 5 Generators:\n",
      "\t\tFitting DropDuplicatesFeatureGenerator...\n",
      "\tTypes of features in original data (raw dtype, special dtypes):\n",
      "\t\t('int', [])    : 6 | ['Temparature', 'Humidity', 'Moisture', 'Nitrogen', 'Potassium', ...]\n",
      "\t\t('object', []) : 2 | ['Soil Type', 'Crop Type']\n",
      "\tTypes of features in processed data (raw dtype, special dtypes):\n",
      "\t\t('category', []) : 2 | ['Soil Type', 'Crop Type']\n",
      "\t\t('int', [])      : 6 | ['Temparature', 'Humidity', 'Moisture', 'Nitrogen', 'Potassium', ...]\n",
      "\t1.4s = Fit runtime\n",
      "\t8 features in original data used to generate 8 features in processed data.\n",
      "\tTrain Data (Processed) Memory Usage: 31.79 MB (0.1% of available memory)\n",
      "Data preprocessing and feature engineering runtime = 1.63s ...\n",
      "AutoGluon will gauge predictive performance using evaluation metric: 'map3'\n",
      "\tThis metric expects predicted probabilities rather than predicted class labels, so you'll need to use predict_proba() instead of predict()\n",
      "\tTo change this, specify the eval_metric parameter of Predictor()\n",
      "Large model count detected (112 configs) ... Only displaying the first 3 models of each family. To see all, set `verbosity=3`.\n",
      "User-specified model hyperparameters to be fit:\n",
      "{\n",
      "\t'NN_TORCH': [{}, {'activation': 'elu', 'dropout_prob': 0.10077639529843717, 'hidden_size': 108, 'learning_rate': 0.002735937344002146, 'num_layers': 4, 'use_batchnorm': True, 'weight_decay': 1.356433327634438e-12, 'ag_args': {'name_suffix': '_r79', 'priority': -2}}, {'activation': 'elu', 'dropout_prob': 0.11897478034205347, 'hidden_size': 213, 'learning_rate': 0.0010474382260641949, 'num_layers': 4, 'use_batchnorm': False, 'weight_decay': 5.594471067786272e-10, 'ag_args': {'name_suffix': '_r22', 'priority': -7}}],\n",
      "\t'GBM': [{'extra_trees': True, 'ag_args': {'name_suffix': 'XT'}}, {}, {'learning_rate': 0.03, 'num_leaves': 128, 'feature_fraction': 0.9, 'min_data_in_leaf': 3, 'ag_args': {'name_suffix': 'Large', 'priority': 0, 'hyperparameter_tune_kwargs': None}}],\n",
      "\t'CAT': [{}, {'depth': 6, 'grow_policy': 'SymmetricTree', 'l2_leaf_reg': 2.1542798306067823, 'learning_rate': 0.06864209415792857, 'max_ctr_complexity': 4, 'one_hot_max_size': 10, 'ag_args': {'name_suffix': '_r177', 'priority': -1}}, {'depth': 8, 'grow_policy': 'Depthwise', 'l2_leaf_reg': 2.7997999596449104, 'learning_rate': 0.031375015734637225, 'max_ctr_complexity': 2, 'one_hot_max_size': 3, 'ag_args': {'name_suffix': '_r9', 'priority': -5}}],\n",
      "\t'XGB': [{}, {'colsample_bytree': 0.6917311125174739, 'enable_categorical': False, 'learning_rate': 0.018063876087523967, 'max_depth': 10, 'min_child_weight': 0.6028633586934382, 'ag_args': {'name_suffix': '_r33', 'priority': -8}}, {'colsample_bytree': 0.6628423832084077, 'enable_categorical': False, 'learning_rate': 0.08775715546881824, 'max_depth': 5, 'min_child_weight': 0.6294123374222513, 'ag_args': {'name_suffix': '_r89', 'priority': -16}}],\n",
      "\t'FASTAI': [{}, {'bs': 256, 'emb_drop': 0.5411770367537934, 'epochs': 43, 'layers': [800, 400], 'lr': 0.01519848858318159, 'ps': 0.23782946566604385, 'ag_args': {'name_suffix': '_r191', 'priority': -4}}, {'bs': 2048, 'emb_drop': 0.05070411322605811, 'epochs': 29, 'layers': [200, 100], 'lr': 0.08974235041576624, 'ps': 0.10393466140748028, 'ag_args': {'name_suffix': '_r102', 'priority': -11}}],\n",
      "\t'RF': [{'criterion': 'gini', 'ag_args': {'name_suffix': 'Gini', 'problem_types': ['binary', 'multiclass']}}, {'criterion': 'entropy', 'ag_args': {'name_suffix': 'Entr', 'problem_types': ['binary', 'multiclass']}}, {'criterion': 'squared_error', 'ag_args': {'name_suffix': 'MSE', 'problem_types': ['regression', 'quantile']}}],\n",
      "\t'XT': [{'criterion': 'gini', 'ag_args': {'name_suffix': 'Gini', 'problem_types': ['binary', 'multiclass']}}, {'criterion': 'entropy', 'ag_args': {'name_suffix': 'Entr', 'problem_types': ['binary', 'multiclass']}}, {'criterion': 'squared_error', 'ag_args': {'name_suffix': 'MSE', 'problem_types': ['regression', 'quantile']}}],\n",
      "\t'KNN': [{'weights': 'uniform', 'ag_args': {'name_suffix': 'Unif'}}, {'weights': 'distance', 'ag_args': {'name_suffix': 'Dist'}}],\n",
      "}\n",
      "AutoGluon will fit 2 stack levels (L1 to L2) ...\n",
      "Excluded models: ['KNN'] (Specified by `excluded_model_types`)\n",
      "Fitting 108 L1 models, fit_strategy=\"sequential\" ...\n",
      "Fitting model: NeuralNetFastAI_BAG_L1 ... Training model for up to 5996.57s of the 8997.10s of remaining time.\n",
      "Will use sequential fold fitting strategy because import of ray failed. Reason: ray==2.46.0 detected. 2.10.0 <= ray < 2.45.0 is required. You can use pip to install certain version of ray `pip install \"ray>=2.10.0,<2.45.0\"`\n",
      "\tFitting 5 child models (S1F1 - S1F5) | Fitting with SequentialLocalFoldFittingStrategy\n",
      "Metric map3 is not supported by this model - using log_loss instead\n",
      "Metric map3 is not supported by this model - using log_loss instead\n",
      "Metric map3 is not supported by this model - using log_loss instead\n",
      "Metric map3 is not supported by this model - using log_loss instead\n",
      "Metric map3 is not supported by this model - using log_loss instead\n",
      "\t0.2939\t = Validation score   (map3)\n",
      "\t1925.63s\t = Training   runtime\n",
      "\t4.39s\t = Validation runtime\n",
      "Fitting model: LightGBMXT_BAG_L1 ... Training model for up to 4060.25s of the 7060.77s of remaining time.\n",
      "\tFitting 5 child models (S1F1 - S1F5) | Fitting with SequentialLocalFoldFittingStrategy\n",
      "\tRan out of time, early stopping on iteration 483. Best iteration is:\n",
      "\t[468]\tvalid_set's multi_logloss: 1.92668\tvalid_set's map3: 0.318891\n",
      "\tRan out of time, early stopping on iteration 505. Best iteration is:\n",
      "\t[503]\tvalid_set's multi_logloss: 1.92678\tvalid_set's map3: 0.318619\n",
      "\tRan out of time, early stopping on iteration 532. Best iteration is:\n",
      "\t[532]\tvalid_set's multi_logloss: 1.92605\tvalid_set's map3: 0.319542\n",
      "\tRan out of time, early stopping on iteration 578. Best iteration is:\n",
      "\t[577]\tvalid_set's multi_logloss: 1.92629\tvalid_set's map3: 0.319553\n",
      "\tRan out of time, early stopping on iteration 681. Best iteration is:\n",
      "\t[678]\tvalid_set's multi_logloss: 1.92569\tvalid_set's map3: 0.31944\n",
      "\t0.3192\t = Validation score   (map3)\n",
      "\t3729.2s\t = Training   runtime\n",
      "\t133.54s\t = Validation runtime\n",
      "Fitting model: LightGBM_BAG_L1 ... Training model for up to 191.60s of the 3192.13s of remaining time.\n",
      "\tFitting 5 child models (S1F1 - S1F5) | Fitting with SequentialLocalFoldFittingStrategy\n",
      "\tRan out of time, early stopping on iteration 22. Best iteration is:\n",
      "\t[22]\tvalid_set's multi_logloss: 1.93625\tvalid_set's map3: 0.303247\n",
      "\tRan out of time, early stopping on iteration 23. Best iteration is:\n",
      "\t[23]\tvalid_set's multi_logloss: 1.9361\tvalid_set's map3: 0.303704\n",
      "\tRan out of time, early stopping on iteration 24. Best iteration is:\n",
      "\t[24]\tvalid_set's multi_logloss: 1.93602\tvalid_set's map3: 0.302321\n",
      "\tRan out of time, early stopping on iteration 26. Best iteration is:\n",
      "\t[26]\tvalid_set's multi_logloss: 1.93576\tvalid_set's map3: 0.303205\n",
      "\tRan out of time, early stopping on iteration 30. Best iteration is:\n",
      "\t[30]\tvalid_set's multi_logloss: 1.93519\tvalid_set's map3: 0.305111\n",
      "\t0.3035\t = Validation score   (map3)\n",
      "\t175.7s\t = Training   runtime\n",
      "\t5.07s\t = Validation runtime\n",
      "Fitting model: RandomForestGini_BAG_L1 ... Training model for up to 6.29s of the 3006.81s of remaining time.\n",
      "\tForcing `use_child_oof=False` because `groups` is specified\n",
      "\tFitting 5 child models (S1F1 - S1F5) | Fitting with SequentialLocalFoldFittingStrategy\n",
      "\tWarning: Model is expected to require 99.2s to train, which exceeds the maximum time limit of 1.0s, skipping model...\n",
      "\tTime limit exceeded... Skipping RandomForestGini_BAG_L1.\n",
      "Fitting model: RandomForestEntr_BAG_L1 ... Training model for up to 4.47s of the 3004.99s of remaining time.\n",
      "\tForcing `use_child_oof=False` because `groups` is specified\n",
      "\tFitting 5 child models (S1F1 - S1F5) | Fitting with SequentialLocalFoldFittingStrategy\n",
      "\tWarning: Model is expected to require 95.9s to train, which exceeds the maximum time limit of 0.7s, skipping model...\n",
      "\tTime limit exceeded... Skipping RandomForestEntr_BAG_L1.\n",
      "Fitting model: CatBoost_BAG_L1 ... Training model for up to 2.71s of the 3003.23s of remaining time.\n",
      "\tFitting 5 child models (S1F1 - S1F5) | Fitting with SequentialLocalFoldFittingStrategy\n",
      "\tTime limit exceeded... Skipping CatBoost_BAG_L1.\n",
      "Fitting model: ExtraTreesGini_BAG_L1 ... Training model for up to 1.57s of the 3002.10s of remaining time.\n",
      "\tForcing `use_child_oof=False` because `groups` is specified\n",
      "\tFitting 5 child models (S1F1 - S1F5) | Fitting with SequentialLocalFoldFittingStrategy\n",
      "\tWarning: Model is expected to require 37.9s to train, which exceeds the maximum time limit of 0.2s, skipping model...\n",
      "\tTime limit exceeded... Skipping ExtraTreesGini_BAG_L1.\n",
      "Fitting model: ExtraTreesEntr_BAG_L1 ... Training model for up to 0.58s of the 3001.10s of remaining time.\n",
      "\tForcing `use_child_oof=False` because `groups` is specified\n",
      "\tFitting 5 child models (S1F1 - S1F5) | Fitting with SequentialLocalFoldFittingStrategy\n",
      "\tWarning: Model is expected to require 40.9s to train, which exceeds the maximum time limit of 0.0s, skipping model...\n",
      "\tTime limit exceeded... Skipping ExtraTreesEntr_BAG_L1.\n",
      "Fitting model: WeightedEnsemble_L2 ... Training model for up to 599.66s of the 2996.47s of remaining time.\n",
      "\tEnsemble Weights: {'LightGBMXT_BAG_L1': 0.84, 'LightGBM_BAG_L1': 0.16}\n",
      "\t0.3193\t = Validation score   (map3)\n",
      "\t364.96s\t = Training   runtime\n",
      "\t1.74s\t = Validation runtime\n",
      "Excluded models: ['KNN'] (Specified by `excluded_model_types`)\n",
      "Fitting 108 L2 models, fit_strategy=\"sequential\" ...\n",
      "Fitting model: NeuralNetFastAI_BAG_L2 ... Training model for up to 2629.62s of the 2629.37s of remaining time.\n",
      "\tFitting 5 child models (S1F1 - S1F5) | Fitting with SequentialLocalFoldFittingStrategy\n",
      "Metric map3 is not supported by this model - using log_loss instead\n",
      "Metric map3 is not supported by this model - using log_loss instead\n",
      "Metric map3 is not supported by this model - using log_loss instead\n",
      "No improvement since epoch 4: early stopping\n",
      "Metric map3 is not supported by this model - using log_loss instead\n",
      "No improvement since epoch 4: early stopping\n",
      "Metric map3 is not supported by this model - using log_loss instead\n",
      "No improvement since epoch 4: early stopping\n",
      "\t0.3166\t = Validation score   (map3)\n",
      "\t1689.64s\t = Training   runtime\n",
      "\t4.75s\t = Validation runtime\n",
      "Fitting model: LightGBMXT_BAG_L2 ... Training model for up to 927.98s of the 927.74s of remaining time.\n",
      "\tFitting 5 child models (S1F1 - S1F5) | Fitting with SequentialLocalFoldFittingStrategy\n",
      "\tRan out of time, early stopping on iteration 100. Best iteration is:\n",
      "\t[70]\tvalid_set's multi_logloss: 1.92665\tvalid_set's map3: 0.318934\n",
      "\tRan out of time, early stopping on iteration 139. Best iteration is:\n",
      "\t[129]\tvalid_set's multi_logloss: 1.92653\tvalid_set's map3: 0.319389\n",
      "\t0.3194\t = Validation score   (map3)\n",
      "\t783.49s\t = Training   runtime\n",
      "\t13.31s\t = Validation runtime\n",
      "Fitting model: LightGBM_BAG_L2 ... Training model for up to 125.09s of the 124.85s of remaining time.\n",
      "\tFitting 5 child models (S1F1 - S1F5) | Fitting with SequentialLocalFoldFittingStrategy\n",
      "\tRan out of time, early stopping on iteration 12. Best iteration is:\n",
      "\t[12]\tvalid_set's multi_logloss: 1.93147\tvalid_set's map3: 0.316232\n",
      "\tRan out of time, early stopping on iteration 13. Best iteration is:\n",
      "\t[13]\tvalid_set's multi_logloss: 1.93085\tvalid_set's map3: 0.31651\n",
      "\tRan out of time, early stopping on iteration 13. Best iteration is:\n",
      "\t[13]\tvalid_set's multi_logloss: 1.93046\tvalid_set's map3: 0.31731\n",
      "\tRan out of time, early stopping on iteration 14. Best iteration is:\n",
      "\t[14]\tvalid_set's multi_logloss: 1.92993\tvalid_set's map3: 0.317531\n",
      "\tRan out of time, early stopping on iteration 16. Best iteration is:\n",
      "\t[16]\tvalid_set's multi_logloss: 1.92842\tvalid_set's map3: 0.319488\n",
      "\t0.3174\t = Validation score   (map3)\n",
      "\t114.01s\t = Training   runtime\n",
      "\t1.98s\t = Validation runtime\n",
      "Fitting model: WeightedEnsemble_L3 ... Training model for up to 360.00s of the -4.17s of remaining time.\n",
      "Warning: Ensemble Selection ran out of time, early stopping at iteration 13. This may mean that the time_limit specified is very small for this problem.\n",
      "\tEnsemble Weights: {'LightGBMXT_BAG_L1': 0.4, 'LightGBMXT_BAG_L2': 0.4, 'NeuralNetFastAI_BAG_L2': 0.1, 'LightGBM_BAG_L2': 0.1}\n",
      "\t0.3197\t = Validation score   (map3)\n",
      "\t376.35s\t = Training   runtime\n",
      "\t1.74s\t = Validation runtime\n",
      "AutoGluon training complete, total runtime = 9381.36s ... Best model: WeightedEnsemble_L3 | Estimated inference throughput: 816.1 rows/s (133334 batch size)\n",
      "TabularPredictor saved. To load, use: predictor = TabularPredictor.load(\"/logs/ds_sub_fit/sub_fit_ho\")\n",
      "Deleting DyStack predictor artifacts (clean_up_fits=True) ...\n",
      "Leaderboard on holdout data (DyStack):\n",
      "                    model  score_holdout  score_val eval_metric  pred_time_test  pred_time_val     fit_time  pred_time_test_marginal  pred_time_val_marginal  fit_time_marginal  stack_level  can_infer  fit_order\n",
      "0       LightGBMXT_BAG_L2       0.321731   0.319360        map3      101.361957     156.302649  6614.025939                 8.496358               13.308377         783.490532            2       True          6\n",
      "1     WeightedEnsemble_L3       0.321465   0.319669        map3      105.831418     164.770851  8794.018556                 0.015138                1.737158         376.345421            3       True          8\n",
      "2  NeuralNetFastAI_BAG_L2       0.321405   0.316578        map3       96.073170     147.745533  7520.172115                 3.207572                4.751262        1689.636708            2       True          5\n",
      "3       LightGBMXT_BAG_L1       0.320123   0.319209        map3       86.206522     133.535960  3729.201234                86.206522              133.535960        3729.201234            1       True          2\n",
      "4     WeightedEnsemble_L2       0.319705   0.319254        map3       89.486208     140.344475  4269.865447                 0.007579                1.737358         364.962114            2       True          4\n",
      "5         LightGBM_BAG_L2       0.319223   0.317414        map3       94.112351     144.974054  5944.545895                 1.246752                1.979783         114.010489            2       True          7\n",
      "6         LightGBM_BAG_L1       0.304104   0.303517        map3        3.272107       5.071157   175.702099                 3.272107                5.071157         175.702099            1       True          3\n",
      "7  NeuralNetFastAI_BAG_L1       0.295664   0.293934        map3        3.386969       4.387155  1925.632074                 3.386969                4.387155        1925.632074            1       True          1\n",
      "\t1\t = Optimal   num_stack_levels (Stacked Overfitting Occurred: False)\n",
      "\t9492s\t = DyStack   runtime |\t26508s\t = Remaining runtime\n",
      "Starting main fit with num_stack_levels=1.\n",
      "\tFor future fit calls on this dataset, you can skip DyStack to save time: `predictor.fit(..., dynamic_stacking=False, num_stack_levels=1)`\n",
      "Values in column 'fold' used as split folds instead of being automatically set. Bagged models will have 5 splits.\n",
      "Beginning AutoGluon training ... Time limit = 26508s\n",
      "AutoGluon will save models to \"/logs\"\n",
      "Train Data Rows:    750000\n",
      "Train Data Columns: 9\n",
      "Label Column:       Fertilizer Name\n",
      "Problem Type:       multiclass\n",
      "Preprocessing data ...\n",
      "Train Data Class Count: 7\n",
      "Using Feature Generators to preprocess the data ...\n",
      "Fitting AutoMLPipelineFeatureGenerator...\n",
      "\tAvailable Memory:                    29592.36 MB\n",
      "\tTrain Data (Original)  Memory Usage: 124.18 MB (0.4% of available memory)\n",
      "\tInferring data type of each feature based on column values. Set feature_metadata_in to manually specify special dtypes of the features.\n",
      "\tStage 1 Generators:\n",
      "\t\tFitting AsTypeFeatureGenerator...\n",
      "\tStage 2 Generators:\n",
      "\t\tFitting FillNaFeatureGenerator...\n",
      "\tStage 3 Generators:\n",
      "\t\tFitting IdentityFeatureGenerator...\n",
      "\t\tFitting CategoryFeatureGenerator...\n",
      "\t\t\tFitting CategoryMemoryMinimizeFeatureGenerator...\n",
      "\tStage 4 Generators:\n",
      "\t\tFitting DropUniqueFeatureGenerator...\n",
      "\tStage 5 Generators:\n",
      "\t\tFitting DropDuplicatesFeatureGenerator...\n",
      "\tTypes of features in original data (raw dtype, special dtypes):\n",
      "\t\t('int', [])    : 6 | ['Temparature', 'Humidity', 'Moisture', 'Nitrogen', 'Potassium', ...]\n",
      "\t\t('object', []) : 2 | ['Soil Type', 'Crop Type']\n",
      "\tTypes of features in processed data (raw dtype, special dtypes):\n",
      "\t\t('category', []) : 2 | ['Soil Type', 'Crop Type']\n",
      "\t\t('int', [])      : 6 | ['Temparature', 'Humidity', 'Moisture', 'Nitrogen', 'Potassium', ...]\n",
      "\t1.3s = Fit runtime\n",
      "\t8 features in original data used to generate 8 features in processed data.\n",
      "\tTrain Data (Processed) Memory Usage: 35.76 MB (0.1% of available memory)\n",
      "Data preprocessing and feature engineering runtime = 1.48s ...\n",
      "AutoGluon will gauge predictive performance using evaluation metric: 'map3'\n",
      "\tThis metric expects predicted probabilities rather than predicted class labels, so you'll need to use predict_proba() instead of predict()\n",
      "\tTo change this, specify the eval_metric parameter of Predictor()\n",
      "Large model count detected (112 configs) ... Only displaying the first 3 models of each family. To see all, set `verbosity=3`.\n",
      "User-specified model hyperparameters to be fit:\n",
      "{\n",
      "\t'NN_TORCH': [{}, {'activation': 'elu', 'dropout_prob': 0.10077639529843717, 'hidden_size': 108, 'learning_rate': 0.002735937344002146, 'num_layers': 4, 'use_batchnorm': True, 'weight_decay': 1.356433327634438e-12, 'ag_args': {'name_suffix': '_r79', 'priority': -2}}, {'activation': 'elu', 'dropout_prob': 0.11897478034205347, 'hidden_size': 213, 'learning_rate': 0.0010474382260641949, 'num_layers': 4, 'use_batchnorm': False, 'weight_decay': 5.594471067786272e-10, 'ag_args': {'name_suffix': '_r22', 'priority': -7}}],\n",
      "\t'GBM': [{'extra_trees': True, 'ag_args': {'name_suffix': 'XT'}}, {}, {'learning_rate': 0.03, 'num_leaves': 128, 'feature_fraction': 0.9, 'min_data_in_leaf': 3, 'ag_args': {'name_suffix': 'Large', 'priority': 0, 'hyperparameter_tune_kwargs': None}}],\n",
      "\t'CAT': [{}, {'depth': 6, 'grow_policy': 'SymmetricTree', 'l2_leaf_reg': 2.1542798306067823, 'learning_rate': 0.06864209415792857, 'max_ctr_complexity': 4, 'one_hot_max_size': 10, 'ag_args': {'name_suffix': '_r177', 'priority': -1}}, {'depth': 8, 'grow_policy': 'Depthwise', 'l2_leaf_reg': 2.7997999596449104, 'learning_rate': 0.031375015734637225, 'max_ctr_complexity': 2, 'one_hot_max_size': 3, 'ag_args': {'name_suffix': '_r9', 'priority': -5}}],\n",
      "\t'XGB': [{}, {'colsample_bytree': 0.6917311125174739, 'enable_categorical': False, 'learning_rate': 0.018063876087523967, 'max_depth': 10, 'min_child_weight': 0.6028633586934382, 'ag_args': {'name_suffix': '_r33', 'priority': -8}}, {'colsample_bytree': 0.6628423832084077, 'enable_categorical': False, 'learning_rate': 0.08775715546881824, 'max_depth': 5, 'min_child_weight': 0.6294123374222513, 'ag_args': {'name_suffix': '_r89', 'priority': -16}}],\n",
      "\t'FASTAI': [{}, {'bs': 256, 'emb_drop': 0.5411770367537934, 'epochs': 43, 'layers': [800, 400], 'lr': 0.01519848858318159, 'ps': 0.23782946566604385, 'ag_args': {'name_suffix': '_r191', 'priority': -4}}, {'bs': 2048, 'emb_drop': 0.05070411322605811, 'epochs': 29, 'layers': [200, 100], 'lr': 0.08974235041576624, 'ps': 0.10393466140748028, 'ag_args': {'name_suffix': '_r102', 'priority': -11}}],\n",
      "\t'RF': [{'criterion': 'gini', 'ag_args': {'name_suffix': 'Gini', 'problem_types': ['binary', 'multiclass']}}, {'criterion': 'entropy', 'ag_args': {'name_suffix': 'Entr', 'problem_types': ['binary', 'multiclass']}}, {'criterion': 'squared_error', 'ag_args': {'name_suffix': 'MSE', 'problem_types': ['regression', 'quantile']}}],\n",
      "\t'XT': [{'criterion': 'gini', 'ag_args': {'name_suffix': 'Gini', 'problem_types': ['binary', 'multiclass']}}, {'criterion': 'entropy', 'ag_args': {'name_suffix': 'Entr', 'problem_types': ['binary', 'multiclass']}}, {'criterion': 'squared_error', 'ag_args': {'name_suffix': 'MSE', 'problem_types': ['regression', 'quantile']}}],\n",
      "\t'KNN': [{'weights': 'uniform', 'ag_args': {'name_suffix': 'Unif'}}, {'weights': 'distance', 'ag_args': {'name_suffix': 'Dist'}}],\n",
      "}\n",
      "AutoGluon will fit 2 stack levels (L1 to L2) ...\n",
      "Excluded models: ['KNN'] (Specified by `excluded_model_types`)\n",
      "Fitting 108 L1 models, fit_strategy=\"sequential\" ...\n",
      "Fitting model: NeuralNetFastAI_BAG_L1 ... Training model for up to 17666.69s of the 26506.66s of remaining time.\n",
      "\tFitting 5 child models (S1F1 - S1F5) | Fitting with SequentialLocalFoldFittingStrategy\n",
      "Metric map3 is not supported by this model - using log_loss instead\n",
      "Metric map3 is not supported by this model - using log_loss instead\n",
      "Metric map3 is not supported by this model - using log_loss instead\n",
      "Metric map3 is not supported by this model - using log_loss instead\n",
      "Metric map3 is not supported by this model - using log_loss instead\n",
      "\t0.2945\t = Validation score   (map3)\n",
      "\t1719.29s\t = Training   runtime\n",
      "\t5.02s\t = Validation runtime\n",
      "Fitting model: LightGBMXT_BAG_L1 ... Training model for up to 15935.23s of the 24775.19s of remaining time.\n",
      "\tFitting 5 child models (S1F1 - S1F5) | Fitting with SequentialLocalFoldFittingStrategy\n"
     ]
    },
    {
     "name": "stdout",
     "output_type": "stream",
     "text": [
      "[1000]\tvalid_set's multi_logloss: 1.92355\tvalid_set's map3: 0.324137\n"
     ]
    },
    {
     "name": "stderr",
     "output_type": "stream",
     "text": [
      "\tRan out of time, early stopping on iteration 1726. Best iteration is:\n",
      "\t[1691]\tvalid_set's multi_logloss: 1.92278\tvalid_set's map3: 0.326448\n"
     ]
    },
    {
     "name": "stdout",
     "output_type": "stream",
     "text": [
      "[1000]\tvalid_set's multi_logloss: 1.92371\tvalid_set's map3: 0.322978\n"
     ]
    },
    {
     "name": "stderr",
     "output_type": "stream",
     "text": [
      "\tRan out of time, early stopping on iteration 1811. Best iteration is:\n",
      "\t[1739]\tvalid_set's multi_logloss: 1.9227\tvalid_set's map3: 0.32543\n"
     ]
    },
    {
     "name": "stdout",
     "output_type": "stream",
     "text": [
      "[1000]\tvalid_set's multi_logloss: 1.92366\tvalid_set's map3: 0.322648\n"
     ]
    },
    {
     "name": "stderr",
     "output_type": "stream",
     "text": [
      "\tRan out of time, early stopping on iteration 1896. Best iteration is:\n",
      "\t[1896]\tvalid_set's multi_logloss: 1.92252\tvalid_set's map3: 0.325414\n"
     ]
    },
    {
     "name": "stdout",
     "output_type": "stream",
     "text": [
      "[1000]\tvalid_set's multi_logloss: 1.92373\tvalid_set's map3: 0.323483\n",
      "[2000]\tvalid_set's multi_logloss: 1.92271\tvalid_set's map3: 0.325721\n"
     ]
    },
    {
     "name": "stderr",
     "output_type": "stream",
     "text": [
      "\tRan out of time, early stopping on iteration 2094. Best iteration is:\n",
      "\t[1919]\tvalid_set's multi_logloss: 1.92267\tvalid_set's map3: 0.325952\n"
     ]
    },
    {
     "name": "stdout",
     "output_type": "stream",
     "text": [
      "[1000]\tvalid_set's multi_logloss: 1.9237\tvalid_set's map3: 0.323581\n",
      "[2000]\tvalid_set's multi_logloss: 1.9226\tvalid_set's map3: 0.32575\n"
     ]
    },
    {
     "name": "stderr",
     "output_type": "stream",
     "text": [
      "\tRan out of time, early stopping on iteration 2457. Best iteration is:\n",
      "\t[2329]\tvalid_set's multi_logloss: 1.92263\tvalid_set's map3: 0.326857\n",
      "\t0.326\t = Validation score   (map3)\n",
      "\t14677.51s\t = Training   runtime\n",
      "\t477.05s\t = Validation runtime\n",
      "Fitting model: LightGBM_BAG_L1 ... Training model for up to 769.93s of the 9609.90s of remaining time.\n",
      "\tFitting 5 child models (S1F1 - S1F5) | Fitting with SequentialLocalFoldFittingStrategy\n",
      "\tRan out of time, early stopping on iteration 81. Best iteration is:\n",
      "\t[81]\tvalid_set's multi_logloss: 1.92894\tvalid_set's map3: 0.318431\n",
      "\tRan out of time, early stopping on iteration 84. Best iteration is:\n",
      "\t[83]\tvalid_set's multi_logloss: 1.9288\tvalid_set's map3: 0.318773\n",
      "\tRan out of time, early stopping on iteration 89. Best iteration is:\n",
      "\t[88]\tvalid_set's multi_logloss: 1.92884\tvalid_set's map3: 0.317928\n",
      "\tRan out of time, early stopping on iteration 97. Best iteration is:\n",
      "\t[95]\tvalid_set's multi_logloss: 1.92843\tvalid_set's map3: 0.31985\n",
      "\tRan out of time, early stopping on iteration 114. Best iteration is:\n",
      "\t[114]\tvalid_set's multi_logloss: 1.9273\tvalid_set's map3: 0.321016\n",
      "\t0.3192\t = Validation score   (map3)\n",
      "\t708.74s\t = Training   runtime\n",
      "\t24.23s\t = Validation runtime\n",
      "Fitting model: RandomForestGini_BAG_L1 ... Training model for up to 32.06s of the 8872.02s of remaining time.\n",
      "\tForcing `use_child_oof=False` because `groups` is specified\n",
      "\tFitting 5 child models (S1F1 - S1F5) | Fitting with SequentialLocalFoldFittingStrategy\n",
      "\tWarning: Model is expected to require 109.3s to train, which exceeds the maximum time limit of 5.1s, skipping model...\n",
      "\tTime limit exceeded... Skipping RandomForestGini_BAG_L1.\n",
      "Fitting model: RandomForestEntr_BAG_L1 ... Training model for up to 30.12s of the 8870.08s of remaining time.\n",
      "\tForcing `use_child_oof=False` because `groups` is specified\n",
      "\tFitting 5 child models (S1F1 - S1F5) | Fitting with SequentialLocalFoldFittingStrategy\n",
      "\tWarning: Model is expected to require 124.3s to train, which exceeds the maximum time limit of 4.8s, skipping model...\n",
      "\tTime limit exceeded... Skipping RandomForestEntr_BAG_L1.\n",
      "Fitting model: CatBoost_BAG_L1 ... Training model for up to 27.95s of the 8867.92s of remaining time.\n",
      "\tFitting 5 child models (S1F1 - S1F5) | Fitting with SequentialLocalFoldFittingStrategy\n",
      "\tRan out of time, early stopping on iteration 1.\n",
      "\tRan out of time, early stopping on iteration 1.\n",
      "\tRan out of time, early stopping on iteration 1.\n",
      "\tRan out of time, early stopping on iteration 1.\n",
      "\tRan out of time, early stopping on iteration 5.\n",
      "\t0.2816\t = Validation score   (map3)\n",
      "\t20.69s\t = Training   runtime\n",
      "\t0.19s\t = Validation runtime\n",
      "Fitting model: ExtraTreesGini_BAG_L1 ... Training model for up to 1.42s of the 8841.38s of remaining time.\n",
      "\tForcing `use_child_oof=False` because `groups` is specified\n",
      "\tFitting 5 child models (S1F1 - S1F5) | Fitting with SequentialLocalFoldFittingStrategy\n",
      "\tWarning: Model is expected to require 41.9s to train, which exceeds the maximum time limit of 0.2s, skipping model...\n",
      "\tTime limit exceeded... Skipping ExtraTreesGini_BAG_L1.\n",
      "Fitting model: ExtraTreesEntr_BAG_L1 ... Training model for up to 0.37s of the 8840.33s of remaining time.\n",
      "\tForcing `use_child_oof=False` because `groups` is specified\n",
      "\tFitting 5 child models (S1F1 - S1F5) | Fitting with SequentialLocalFoldFittingStrategy\n",
      "\tWarning: Model has no time left to train, skipping model... (Time Left = -0.0s)\n",
      "\tTime limit exceeded... Skipping ExtraTreesEntr_BAG_L1.\n",
      "Fitting model: WeightedEnsemble_L2 ... Training model for up to 1766.67s of the 8834.90s of remaining time.\n",
      "\tEnsemble Weights: {'LightGBMXT_BAG_L1': 0.429, 'LightGBM_BAG_L1': 0.286, 'CatBoost_BAG_L1': 0.286}\n",
      "\t0.327\t = Validation score   (map3)\n",
      "\t530.67s\t = Training   runtime\n",
      "\t2.14s\t = Validation runtime\n",
      "Excluded models: ['KNN'] (Specified by `excluded_model_types`)\n",
      "Fitting 108 L2 models, fit_strategy=\"sequential\" ...\n",
      "Fitting model: NeuralNetFastAI_BAG_L2 ... Training model for up to 8301.87s of the 8301.38s of remaining time.\n",
      "\tFitting 5 child models (S1F1 - S1F5) | Fitting with SequentialLocalFoldFittingStrategy\n",
      "Metric map3 is not supported by this model - using log_loss instead\n",
      "Metric map3 is not supported by this model - using log_loss instead\n",
      "Metric map3 is not supported by this model - using log_loss instead\n",
      "Metric map3 is not supported by this model - using log_loss instead\n",
      "No improvement since epoch 4: early stopping\n",
      "Metric map3 is not supported by this model - using log_loss instead\n",
      "No improvement since epoch 5: early stopping\n",
      "\t0.3242\t = Validation score   (map3)\n",
      "\t1616.08s\t = Training   runtime\n",
      "\t5.29s\t = Validation runtime\n",
      "Fitting model: LightGBMXT_BAG_L2 ... Training model for up to 6672.80s of the 6672.31s of remaining time.\n",
      "\tFitting 5 child models (S1F1 - S1F5) | Fitting with SequentialLocalFoldFittingStrategy\n",
      "\t0.3273\t = Validation score   (map3)\n",
      "\t950.52s\t = Training   runtime\n",
      "\t14.68s\t = Validation runtime\n",
      "Fitting model: LightGBM_BAG_L2 ... Training model for up to 5701.38s of the 5700.89s of remaining time.\n",
      "\tFitting 5 child models (S1F1 - S1F5) | Fitting with SequentialLocalFoldFittingStrategy\n",
      "\t0.327\t = Validation score   (map3)\n",
      "\t575.67s\t = Training   runtime\n",
      "\t5.93s\t = Validation runtime\n",
      "Fitting model: RandomForestGini_BAG_L2 ... Training model for up to 5113.25s of the 5112.76s of remaining time.\n",
      "\tForcing `use_child_oof=False` because `groups` is specified\n",
      "\tFitting 5 child models (S1F1 - S1F5) | Fitting with SequentialLocalFoldFittingStrategy\n",
      "\t0.3233\t = Validation score   (map3)\n",
      "\t3002.37s\t = Training   runtime\n",
      "\t20.39s\t = Validation runtime\n",
      "Fitting model: RandomForestEntr_BAG_L2 ... Training model for up to 2075.90s of the 2075.42s of remaining time.\n",
      "\tForcing `use_child_oof=False` because `groups` is specified\n",
      "\tFitting 5 child models (S1F1 - S1F5) | Fitting with SequentialLocalFoldFittingStrategy\n",
      "\tWarning: Reducing model 'n_estimators' from 300 -> 89 due to low time. Expected time usage reduced from 1112.1s -> 331.5s...\n",
      "\tWarning: Reducing model 'n_estimators' from 300 -> 93 due to low time. Expected time usage reduced from 1117.1s -> 349.0s...\n",
      "\tWarning: Reducing model 'n_estimators' from 300 -> 104 due to low time. Expected time usage reduced from 1078.4s -> 374.9s...\n",
      "\tWarning: Reducing model 'n_estimators' from 300 -> 111 due to low time. Expected time usage reduced from 1098.4s -> 410.0s...\n",
      "\tWarning: Reducing model 'n_estimators' from 300 -> 141 due to low time. Expected time usage reduced from 1057.2s -> 497.0s...\n",
      "\t0.3197\t = Validation score   (map3)\n",
      "\t1946.99s\t = Training   runtime\n",
      "\t7.69s\t = Validation runtime\n",
      "Fitting model: CatBoost_BAG_L2 ... Training model for up to 112.82s of the 112.33s of remaining time.\n",
      "\tFitting 5 child models (S1F1 - S1F5) | Fitting with SequentialLocalFoldFittingStrategy\n",
      "\tRan out of time, early stopping on iteration 4.\n",
      "\tRan out of time, early stopping on iteration 4.\n",
      "\tRan out of time, early stopping on iteration 5.\n",
      "\tRan out of time, early stopping on iteration 7.\n",
      "\tRan out of time, early stopping on iteration 11.\n",
      "\t0.3212\t = Validation score   (map3)\n",
      "\t96.9s\t = Training   runtime\n",
      "\t0.22s\t = Validation runtime\n",
      "Fitting model: WeightedEnsemble_L3 ... Training model for up to 830.19s of the 0.67s of remaining time.\n",
      "Warning: Ensemble Selection ran out of time, early stopping at iteration 16. This may mean that the time_limit specified is very small for this problem.\n",
      "\tEnsemble Weights: {'LightGBMXT_BAG_L2': 0.667, 'LightGBMXT_BAG_L1': 0.111, 'CatBoost_BAG_L1': 0.111, 'LightGBM_BAG_L2': 0.111}\n",
      "\t0.3274\t = Validation score   (map3)\n",
      "\t854.89s\t = Training   runtime\n",
      "\t1.84s\t = Validation runtime\n",
      "AutoGluon training complete, total runtime = 27364.75s ... Best model: WeightedEnsemble_L3 | Estimated inference throughput: 284.4 rows/s (150000 batch size)\n",
      "TabularPredictor saved. To load, use: predictor = TabularPredictor.load(\"/logs\")\n"
     ]
    },
    {
     "data": {
      "text/plain": [
       "<autogluon.tabular.predictor.predictor.TabularPredictor at 0x7df12ae89410>"
      ]
     },
     "execution_count": 8,
     "metadata": {},
     "output_type": "execute_result"
    }
   ],
   "source": [
    "predictor.fit(\n",
    "    train_data=train,\n",
    "    time_limit=CFG.time_limit,\n",
    "    presets=\"best_quality\",\n",
    "    excluded_model_types = [\"KNN\"]\n",
    ")"
   ]
  },
  {
   "cell_type": "code",
   "execution_count": 9,
   "id": "240a7112",
   "metadata": {
    "execution": {
     "iopub.execute_input": "2025-06-02T20:02:51.354073Z",
     "iopub.status.busy": "2025-06-02T20:02:51.352241Z",
     "iopub.status.idle": "2025-06-02T20:02:51.461742Z",
     "shell.execute_reply": "2025-06-02T20:02:51.460828Z"
    },
    "papermill": {
     "duration": 0.131451,
     "end_time": "2025-06-02T20:02:51.463150",
     "exception": false,
     "start_time": "2025-06-02T20:02:51.331699",
     "status": "completed"
    },
    "tags": []
   },
   "outputs": [
    {
     "data": {
      "text/html": [
       "<style type=\"text/css\">\n",
       "#T_bafe9_row0_col1, #T_bafe9_row1_col1 {\n",
       "  background-color: #006837;\n",
       "  color: #f1f1f1;\n",
       "}\n",
       "#T_bafe9_row2_col1, #T_bafe9_row3_col1 {\n",
       "  background-color: #026c39;\n",
       "  color: #f1f1f1;\n",
       "}\n",
       "#T_bafe9_row4_col1 {\n",
       "  background-color: #07753e;\n",
       "  color: #f1f1f1;\n",
       "}\n",
       "#T_bafe9_row5_col1 {\n",
       "  background-color: #118848;\n",
       "  color: #f1f1f1;\n",
       "}\n",
       "#T_bafe9_row6_col1 {\n",
       "  background-color: #17934e;\n",
       "  color: #f1f1f1;\n",
       "}\n",
       "#T_bafe9_row7_col1 {\n",
       "  background-color: #33a456;\n",
       "  color: #f1f1f1;\n",
       "}\n",
       "#T_bafe9_row8_col1 {\n",
       "  background-color: #4bb05c;\n",
       "  color: #f1f1f1;\n",
       "}\n",
       "#T_bafe9_row9_col1 {\n",
       "  background-color: #57b65f;\n",
       "  color: #f1f1f1;\n",
       "}\n",
       "#T_bafe9_row10_col1 {\n",
       "  background-color: #fba35c;\n",
       "  color: #000000;\n",
       "}\n",
       "#T_bafe9_row11_col1 {\n",
       "  background-color: #a50026;\n",
       "  color: #f1f1f1;\n",
       "}\n",
       "</style>\n",
       "<table id=\"T_bafe9\">\n",
       "  <thead>\n",
       "    <tr>\n",
       "      <th class=\"blank level0\" >&nbsp;</th>\n",
       "      <th id=\"T_bafe9_level0_col0\" class=\"col_heading level0 col0\" >model</th>\n",
       "      <th id=\"T_bafe9_level0_col1\" class=\"col_heading level0 col1\" >score_val</th>\n",
       "      <th id=\"T_bafe9_level0_col2\" class=\"col_heading level0 col2\" >eval_metric</th>\n",
       "      <th id=\"T_bafe9_level0_col3\" class=\"col_heading level0 col3\" >pred_time_val</th>\n",
       "      <th id=\"T_bafe9_level0_col4\" class=\"col_heading level0 col4\" >fit_time</th>\n",
       "      <th id=\"T_bafe9_level0_col5\" class=\"col_heading level0 col5\" >pred_time_val_marginal</th>\n",
       "      <th id=\"T_bafe9_level0_col6\" class=\"col_heading level0 col6\" >fit_time_marginal</th>\n",
       "      <th id=\"T_bafe9_level0_col7\" class=\"col_heading level0 col7\" >stack_level</th>\n",
       "      <th id=\"T_bafe9_level0_col8\" class=\"col_heading level0 col8\" >can_infer</th>\n",
       "      <th id=\"T_bafe9_level0_col9\" class=\"col_heading level0 col9\" >fit_order</th>\n",
       "    </tr>\n",
       "  </thead>\n",
       "  <tbody>\n",
       "    <tr>\n",
       "      <th id=\"T_bafe9_level0_row0\" class=\"row_heading level0 row0\" >0</th>\n",
       "      <td id=\"T_bafe9_row0_col0\" class=\"data row0 col0\" >WeightedEnsemble_L3</td>\n",
       "      <td id=\"T_bafe9_row0_col1\" class=\"data row0 col1\" >0.327436</td>\n",
       "      <td id=\"T_bafe9_row0_col2\" class=\"data row0 col2\" >map3</td>\n",
       "      <td id=\"T_bafe9_row0_col3\" class=\"data row0 col3\" >528.942981</td>\n",
       "      <td id=\"T_bafe9_row0_col4\" class=\"data row0 col4\" >19507.317013</td>\n",
       "      <td id=\"T_bafe9_row0_col5\" class=\"data row0 col5\" >1.840857</td>\n",
       "      <td id=\"T_bafe9_row0_col6\" class=\"data row0 col6\" >854.894270</td>\n",
       "      <td id=\"T_bafe9_row0_col7\" class=\"data row0 col7\" >3</td>\n",
       "      <td id=\"T_bafe9_row0_col8\" class=\"data row0 col8\" >True</td>\n",
       "      <td id=\"T_bafe9_row0_col9\" class=\"data row0 col9\" >12</td>\n",
       "    </tr>\n",
       "    <tr>\n",
       "      <th id=\"T_bafe9_level0_row1\" class=\"row_heading level0 row1\" >1</th>\n",
       "      <td id=\"T_bafe9_row1_col0\" class=\"data row1 col0\" >LightGBMXT_BAG_L2</td>\n",
       "      <td id=\"T_bafe9_row1_col1\" class=\"data row1 col1\" >0.327331</td>\n",
       "      <td id=\"T_bafe9_row1_col2\" class=\"data row1 col2\" >map3</td>\n",
       "      <td id=\"T_bafe9_row1_col3\" class=\"data row1 col3\" >521.167736</td>\n",
       "      <td id=\"T_bafe9_row1_col4\" class=\"data row1 col4\" >18076.751038</td>\n",
       "      <td id=\"T_bafe9_row1_col5\" class=\"data row1 col5\" >14.680293</td>\n",
       "      <td id=\"T_bafe9_row1_col6\" class=\"data row1 col6\" >950.521770</td>\n",
       "      <td id=\"T_bafe9_row1_col7\" class=\"data row1 col7\" >2</td>\n",
       "      <td id=\"T_bafe9_row1_col8\" class=\"data row1 col8\" >True</td>\n",
       "      <td id=\"T_bafe9_row1_col9\" class=\"data row1 col9\" >7</td>\n",
       "    </tr>\n",
       "    <tr>\n",
       "      <th id=\"T_bafe9_level0_row2\" class=\"row_heading level0 row2\" >2</th>\n",
       "      <td id=\"T_bafe9_row2_col0\" class=\"data row2 col0\" >LightGBM_BAG_L2</td>\n",
       "      <td id=\"T_bafe9_row2_col1\" class=\"data row2 col1\" >0.326992</td>\n",
       "      <td id=\"T_bafe9_row2_col2\" class=\"data row2 col2\" >map3</td>\n",
       "      <td id=\"T_bafe9_row2_col3\" class=\"data row2 col3\" >512.421831</td>\n",
       "      <td id=\"T_bafe9_row2_col4\" class=\"data row2 col4\" >17701.900974</td>\n",
       "      <td id=\"T_bafe9_row2_col5\" class=\"data row2 col5\" >5.934388</td>\n",
       "      <td id=\"T_bafe9_row2_col6\" class=\"data row2 col6\" >575.671706</td>\n",
       "      <td id=\"T_bafe9_row2_col7\" class=\"data row2 col7\" >2</td>\n",
       "      <td id=\"T_bafe9_row2_col8\" class=\"data row2 col8\" >True</td>\n",
       "      <td id=\"T_bafe9_row2_col9\" class=\"data row2 col9\" >8</td>\n",
       "    </tr>\n",
       "    <tr>\n",
       "      <th id=\"T_bafe9_level0_row3\" class=\"row_heading level0 row3\" >3</th>\n",
       "      <td id=\"T_bafe9_row3_col0\" class=\"data row3 col0\" >WeightedEnsemble_L2</td>\n",
       "      <td id=\"T_bafe9_row3_col1\" class=\"data row3 col1\" >0.326957</td>\n",
       "      <td id=\"T_bafe9_row3_col2\" class=\"data row3 col2\" >map3</td>\n",
       "      <td id=\"T_bafe9_row3_col3\" class=\"data row3 col3\" >503.599527</td>\n",
       "      <td id=\"T_bafe9_row3_col4\" class=\"data row3 col4\" >15937.611235</td>\n",
       "      <td id=\"T_bafe9_row3_col5\" class=\"data row3 col5\" >2.136896</td>\n",
       "      <td id=\"T_bafe9_row3_col6\" class=\"data row3 col6\" >530.673695</td>\n",
       "      <td id=\"T_bafe9_row3_col7\" class=\"data row3 col7\" >2</td>\n",
       "      <td id=\"T_bafe9_row3_col8\" class=\"data row3 col8\" >True</td>\n",
       "      <td id=\"T_bafe9_row3_col9\" class=\"data row3 col9\" >5</td>\n",
       "    </tr>\n",
       "    <tr>\n",
       "      <th id=\"T_bafe9_level0_row4\" class=\"row_heading level0 row4\" >4</th>\n",
       "      <td id=\"T_bafe9_row4_col0\" class=\"data row4 col0\" >LightGBMXT_BAG_L1</td>\n",
       "      <td id=\"T_bafe9_row4_col1\" class=\"data row4 col1\" >0.326020</td>\n",
       "      <td id=\"T_bafe9_row4_col2\" class=\"data row4 col2\" >map3</td>\n",
       "      <td id=\"T_bafe9_row4_col3\" class=\"data row4 col3\" >477.049836</td>\n",
       "      <td id=\"T_bafe9_row4_col4\" class=\"data row4 col4\" >14677.509000</td>\n",
       "      <td id=\"T_bafe9_row4_col5\" class=\"data row4 col5\" >477.049836</td>\n",
       "      <td id=\"T_bafe9_row4_col6\" class=\"data row4 col6\" >14677.509000</td>\n",
       "      <td id=\"T_bafe9_row4_col7\" class=\"data row4 col7\" >1</td>\n",
       "      <td id=\"T_bafe9_row4_col8\" class=\"data row4 col8\" >True</td>\n",
       "      <td id=\"T_bafe9_row4_col9\" class=\"data row4 col9\" >2</td>\n",
       "    </tr>\n",
       "    <tr>\n",
       "      <th id=\"T_bafe9_level0_row5\" class=\"row_heading level0 row5\" >5</th>\n",
       "      <td id=\"T_bafe9_row5_col0\" class=\"data row5 col0\" >NeuralNetFastAI_BAG_L2</td>\n",
       "      <td id=\"T_bafe9_row5_col1\" class=\"data row5 col1\" >0.324235</td>\n",
       "      <td id=\"T_bafe9_row5_col2\" class=\"data row5 col2\" >map3</td>\n",
       "      <td id=\"T_bafe9_row5_col3\" class=\"data row5 col3\" >511.776491</td>\n",
       "      <td id=\"T_bafe9_row5_col4\" class=\"data row5 col4\" >18742.305878</td>\n",
       "      <td id=\"T_bafe9_row5_col5\" class=\"data row5 col5\" >5.289048</td>\n",
       "      <td id=\"T_bafe9_row5_col6\" class=\"data row5 col6\" >1616.076610</td>\n",
       "      <td id=\"T_bafe9_row5_col7\" class=\"data row5 col7\" >2</td>\n",
       "      <td id=\"T_bafe9_row5_col8\" class=\"data row5 col8\" >True</td>\n",
       "      <td id=\"T_bafe9_row5_col9\" class=\"data row5 col9\" >6</td>\n",
       "    </tr>\n",
       "    <tr>\n",
       "      <th id=\"T_bafe9_level0_row6\" class=\"row_heading level0 row6\" >6</th>\n",
       "      <td id=\"T_bafe9_row6_col0\" class=\"data row6 col0\" >RandomForestGini_BAG_L2</td>\n",
       "      <td id=\"T_bafe9_row6_col1\" class=\"data row6 col1\" >0.323282</td>\n",
       "      <td id=\"T_bafe9_row6_col2\" class=\"data row6 col2\" >map3</td>\n",
       "      <td id=\"T_bafe9_row6_col3\" class=\"data row6 col3\" >526.872608</td>\n",
       "      <td id=\"T_bafe9_row6_col4\" class=\"data row6 col4\" >20128.601100</td>\n",
       "      <td id=\"T_bafe9_row6_col5\" class=\"data row6 col5\" >20.385165</td>\n",
       "      <td id=\"T_bafe9_row6_col6\" class=\"data row6 col6\" >3002.371832</td>\n",
       "      <td id=\"T_bafe9_row6_col7\" class=\"data row6 col7\" >2</td>\n",
       "      <td id=\"T_bafe9_row6_col8\" class=\"data row6 col8\" >True</td>\n",
       "      <td id=\"T_bafe9_row6_col9\" class=\"data row6 col9\" >9</td>\n",
       "    </tr>\n",
       "    <tr>\n",
       "      <th id=\"T_bafe9_level0_row7\" class=\"row_heading level0 row7\" >7</th>\n",
       "      <td id=\"T_bafe9_row7_col0\" class=\"data row7 col0\" >CatBoost_BAG_L2</td>\n",
       "      <td id=\"T_bafe9_row7_col1\" class=\"data row7 col1\" >0.321224</td>\n",
       "      <td id=\"T_bafe9_row7_col2\" class=\"data row7 col2\" >map3</td>\n",
       "      <td id=\"T_bafe9_row7_col3\" class=\"data row7 col3\" >506.704794</td>\n",
       "      <td id=\"T_bafe9_row7_col4\" class=\"data row7 col4\" >17223.130293</td>\n",
       "      <td id=\"T_bafe9_row7_col5\" class=\"data row7 col5\" >0.217351</td>\n",
       "      <td id=\"T_bafe9_row7_col6\" class=\"data row7 col6\" >96.901024</td>\n",
       "      <td id=\"T_bafe9_row7_col7\" class=\"data row7 col7\" >2</td>\n",
       "      <td id=\"T_bafe9_row7_col8\" class=\"data row7 col8\" >True</td>\n",
       "      <td id=\"T_bafe9_row7_col9\" class=\"data row7 col9\" >11</td>\n",
       "    </tr>\n",
       "    <tr>\n",
       "      <th id=\"T_bafe9_level0_row8\" class=\"row_heading level0 row8\" >8</th>\n",
       "      <td id=\"T_bafe9_row8_col0\" class=\"data row8 col0\" >RandomForestEntr_BAG_L2</td>\n",
       "      <td id=\"T_bafe9_row8_col1\" class=\"data row8 col1\" >0.319745</td>\n",
       "      <td id=\"T_bafe9_row8_col2\" class=\"data row8 col2\" >map3</td>\n",
       "      <td id=\"T_bafe9_row8_col3\" class=\"data row8 col3\" >514.179877</td>\n",
       "      <td id=\"T_bafe9_row8_col4\" class=\"data row8 col4\" >19073.216811</td>\n",
       "      <td id=\"T_bafe9_row8_col5\" class=\"data row8 col5\" >7.692434</td>\n",
       "      <td id=\"T_bafe9_row8_col6\" class=\"data row8 col6\" >1946.987543</td>\n",
       "      <td id=\"T_bafe9_row8_col7\" class=\"data row8 col7\" >2</td>\n",
       "      <td id=\"T_bafe9_row8_col8\" class=\"data row8 col8\" >True</td>\n",
       "      <td id=\"T_bafe9_row8_col9\" class=\"data row8 col9\" >10</td>\n",
       "    </tr>\n",
       "    <tr>\n",
       "      <th id=\"T_bafe9_level0_row9\" class=\"row_heading level0 row9\" >9</th>\n",
       "      <td id=\"T_bafe9_row9_col0\" class=\"data row9 col0\" >LightGBM_BAG_L1</td>\n",
       "      <td id=\"T_bafe9_row9_col1\" class=\"data row9 col1\" >0.319200</td>\n",
       "      <td id=\"T_bafe9_row9_col2\" class=\"data row9 col2\" >map3</td>\n",
       "      <td id=\"T_bafe9_row9_col3\" class=\"data row9 col3\" >24.226607</td>\n",
       "      <td id=\"T_bafe9_row9_col4\" class=\"data row9 col4\" >708.735132</td>\n",
       "      <td id=\"T_bafe9_row9_col5\" class=\"data row9 col5\" >24.226607</td>\n",
       "      <td id=\"T_bafe9_row9_col6\" class=\"data row9 col6\" >708.735132</td>\n",
       "      <td id=\"T_bafe9_row9_col7\" class=\"data row9 col7\" >1</td>\n",
       "      <td id=\"T_bafe9_row9_col8\" class=\"data row9 col8\" >True</td>\n",
       "      <td id=\"T_bafe9_row9_col9\" class=\"data row9 col9\" >3</td>\n",
       "    </tr>\n",
       "    <tr>\n",
       "      <th id=\"T_bafe9_level0_row10\" class=\"row_heading level0 row10\" >10</th>\n",
       "      <td id=\"T_bafe9_row10_col0\" class=\"data row10 col0\" >NeuralNetFastAI_BAG_L1</td>\n",
       "      <td id=\"T_bafe9_row10_col1\" class=\"data row10 col1\" >0.294529</td>\n",
       "      <td id=\"T_bafe9_row10_col2\" class=\"data row10 col2\" >map3</td>\n",
       "      <td id=\"T_bafe9_row10_col3\" class=\"data row10 col3\" >5.024812</td>\n",
       "      <td id=\"T_bafe9_row10_col4\" class=\"data row10 col4\" >1719.291728</td>\n",
       "      <td id=\"T_bafe9_row10_col5\" class=\"data row10 col5\" >5.024812</td>\n",
       "      <td id=\"T_bafe9_row10_col6\" class=\"data row10 col6\" >1719.291728</td>\n",
       "      <td id=\"T_bafe9_row10_col7\" class=\"data row10 col7\" >1</td>\n",
       "      <td id=\"T_bafe9_row10_col8\" class=\"data row10 col8\" >True</td>\n",
       "      <td id=\"T_bafe9_row10_col9\" class=\"data row10 col9\" >1</td>\n",
       "    </tr>\n",
       "    <tr>\n",
       "      <th id=\"T_bafe9_level0_row11\" class=\"row_heading level0 row11\" >11</th>\n",
       "      <td id=\"T_bafe9_row11_col0\" class=\"data row11 col0\" >CatBoost_BAG_L1</td>\n",
       "      <td id=\"T_bafe9_row11_col1\" class=\"data row11 col1\" >0.281599</td>\n",
       "      <td id=\"T_bafe9_row11_col2\" class=\"data row11 col2\" >map3</td>\n",
       "      <td id=\"T_bafe9_row11_col3\" class=\"data row11 col3\" >0.186189</td>\n",
       "      <td id=\"T_bafe9_row11_col4\" class=\"data row11 col4\" >20.693408</td>\n",
       "      <td id=\"T_bafe9_row11_col5\" class=\"data row11 col5\" >0.186189</td>\n",
       "      <td id=\"T_bafe9_row11_col6\" class=\"data row11 col6\" >20.693408</td>\n",
       "      <td id=\"T_bafe9_row11_col7\" class=\"data row11 col7\" >1</td>\n",
       "      <td id=\"T_bafe9_row11_col8\" class=\"data row11 col8\" >True</td>\n",
       "      <td id=\"T_bafe9_row11_col9\" class=\"data row11 col9\" >4</td>\n",
       "    </tr>\n",
       "  </tbody>\n",
       "</table>\n"
      ],
      "text/plain": [
       "<pandas.io.formats.style.Styler at 0x7df020efd010>"
      ]
     },
     "execution_count": 9,
     "metadata": {},
     "output_type": "execute_result"
    }
   ],
   "source": [
    "predictor.leaderboard(silent=True).style.background_gradient(subset=[\"score_val\"], cmap=\"RdYlGn\")"
   ]
  },
  {
   "cell_type": "code",
   "execution_count": 10,
   "id": "f3c90183",
   "metadata": {
    "execution": {
     "iopub.execute_input": "2025-06-02T20:02:51.499177Z",
     "iopub.status.busy": "2025-06-02T20:02:51.498897Z",
     "iopub.status.idle": "2025-06-02T20:02:51.503517Z",
     "shell.execute_reply": "2025-06-02T20:02:51.502794Z"
    },
    "papermill": {
     "duration": 0.023531,
     "end_time": "2025-06-02T20:02:51.504888",
     "exception": false,
     "start_time": "2025-06-02T20:02:51.481357",
     "status": "completed"
    },
    "tags": []
   },
   "outputs": [],
   "source": [
    "def get_ensemble_weights(predictor):\n",
    "    info = predictor.info()\n",
    "    ensemble_weights = {}\n",
    "    for model_name, values in info[\"model_info\"].items():\n",
    "        if \"Ensemble\" in model_name:\n",
    "            children_info = values[\"children_info\"]\n",
    "            ensemble_weights[model_name] = values[\"children_info\"][list(children_info.keys())[0]][\"model_weights\"]\n",
    "    return ensemble_weights"
   ]
  },
  {
   "cell_type": "code",
   "execution_count": 11,
   "id": "df9e17d5",
   "metadata": {
    "execution": {
     "iopub.execute_input": "2025-06-02T20:02:51.547130Z",
     "iopub.status.busy": "2025-06-02T20:02:51.546355Z",
     "iopub.status.idle": "2025-06-02T20:03:44.095347Z",
     "shell.execute_reply": "2025-06-02T20:03:44.094519Z"
    },
    "papermill": {
     "duration": 52.567993,
     "end_time": "2025-06-02T20:03:44.096610",
     "exception": false,
     "start_time": "2025-06-02T20:02:51.528617",
     "status": "completed"
    },
    "tags": []
   },
   "outputs": [
    {
     "data": {
      "image/png": "[encoded data removed]",
      "text/plain": [
       "<Figure size 800x800 with 1 Axes>"
      ]
     },
     "metadata": {},
     "output_type": "display_data"
    },
    {
     "data": {
      "image/png": "[encoded data removed]",
      "text/plain": [
       "<Figure size 800x800 with 1 Axes>"
      ]
     },
     "metadata": {},
     "output_type": "display_data"
    }
   ],
   "source": [
    "ensemble_weights = get_ensemble_weights(predictor)\n",
    "\n",
    "for key, value in ensemble_weights.items():\n",
    "    plt.figure(figsize=(8, 8))\n",
    "    plt.pie(value.values(), labels=value.keys(), autopct=\"%1.1f%%\", colors=sns.color_palette(\"Set2\", len(value)))\n",
    "    plt.title(key)\n",
    "    plt.tight_layout()\n",
    "    plt.show()"
   ]
  },
  {
   "cell_type": "markdown",
   "id": "36b704f7",
   "metadata": {
    "papermill": {
     "duration": 0.017434,
     "end_time": "2025-06-02T20:03:44.132079",
     "exception": false,
     "start_time": "2025-06-02T20:03:44.114645",
     "status": "completed"
    },
    "tags": []
   },
   "source": [
    "# Saving OOF files and creating a submission file"
   ]
  },
  {
   "cell_type": "code",
   "execution_count": 12,
   "id": "49f6dda1",
   "metadata": {
    "execution": {
     "iopub.execute_input": "2025-06-02T20:03:44.168508Z",
     "iopub.status.busy": "2025-06-02T20:03:44.168129Z",
     "iopub.status.idle": "2025-06-02T20:03:44.174109Z",
     "shell.execute_reply": "2025-06-02T20:03:44.173421Z"
    },
    "papermill": {
     "duration": 0.025623,
     "end_time": "2025-06-02T20:03:44.175236",
     "exception": false,
     "start_time": "2025-06-02T20:03:44.149613",
     "status": "completed"
    },
    "tags": []
   },
   "outputs": [],
   "source": [
    "def save_pred_probs(pred_probs, cv_score, name, type, is_ensemble):\n",
    "    base_path = \"oof_pred_probs\" if type == \"oof\" else \"test_pred_probs\"\n",
    "    base_path = \".\" if is_ensemble else base_path\n",
    "    with open(f\"{base_path}/{name}_{type}_pred_probs_{cv_score:.6f}.pkl\", \"wb\") as f:\n",
    "        pickle.dump(pred_probs, f)\n",
    "\n",
    "def save_submission(test_pred_probs, score):\n",
    "    final_predictions = []\n",
    "    for i in np.argsort(test_pred_probs, axis=1)[:, -3:][:, ::-1]:\n",
    "        prediction = label_encoder.inverse_transform(i)\n",
    "        final_predictions.append(\" \".join(prediction))\n",
    "        \n",
    "    sub = pd.read_csv(CFG.sample_sub_path)\n",
    "    sub[CFG.target] = final_predictions\n",
    "    sub.to_csv(f\"sub_autogluon_{score:.6f}.csv\", index=False)\n",
    "    \n",
    "os.makedirs(\"oof_pred_probs\", exist_ok=True)\n",
    "os.makedirs(\"test_pred_probs\", exist_ok=True)"
   ]
  },
  {
   "cell_type": "code",
   "execution_count": 13,
   "id": "675efb7a",
   "metadata": {
    "execution": {
     "iopub.execute_input": "2025-06-02T20:03:44.211540Z",
     "iopub.status.busy": "2025-06-02T20:03:44.210864Z",
     "iopub.status.idle": "2025-06-02T20:03:44.214163Z",
     "shell.execute_reply": "2025-06-02T20:03:44.213646Z"
    },
    "papermill": {
     "duration": 0.02249,
     "end_time": "2025-06-02T20:03:44.215239",
     "exception": false,
     "start_time": "2025-06-02T20:03:44.192749",
     "status": "completed"
    },
    "tags": []
   },
   "outputs": [],
   "source": [
    "oof_pred_probs = {}\n",
    "test_pred_probs = {}"
   ]
  },
  {
   "cell_type": "code",
   "execution_count": 14,
   "id": "725ae3ec",
   "metadata": {
    "_kg_hide-output": true,
    "execution": {
     "iopub.execute_input": "2025-06-02T20:03:44.252261Z",
     "iopub.status.busy": "2025-06-02T20:03:44.251747Z",
     "iopub.status.idle": "2025-06-02T20:20:51.344364Z",
     "shell.execute_reply": "2025-06-02T20:20:51.343547Z"
    },
    "papermill": {
     "duration": 1027.112549,
     "end_time": "2025-06-02T20:20:51.345981",
     "exception": false,
     "start_time": "2025-06-02T20:03:44.233432",
     "status": "completed"
    },
    "tags": []
   },
   "outputs": [],
   "source": [
    "best_model = predictor.model_best\n",
    "test_pred_probs = predictor.predict_proba_multi(test)\n",
    "for model in predictor.model_names():\n",
    "    model_oof_pred_probs = predictor.predict_proba_oof(model).values\n",
    "    model_test_pred_probs = test_pred_probs[model].values\n",
    "    \n",
    "    cv_score = map3(train[CFG.target], model_oof_pred_probs)\n",
    "    if model != best_model:\n",
    "        save_pred_probs(model_oof_pred_probs, cv_score, model, \"oof\", False)\n",
    "        save_pred_probs(model_test_pred_probs, cv_score, model, \"test\", False)\n",
    "    else:\n",
    "        save_pred_probs(model_oof_pred_probs, cv_score, model, \"oof\", True)\n",
    "        save_pred_probs(model_test_pred_probs, cv_score, model, \"test\", True)\n",
    "        save_submission(model_test_pred_probs, cv_score)\n",
    "        \n",
    "    oof_pred_probs[model] = model_oof_pred_probs\n",
    "    test_pred_probs[model] = model_test_pred_probs"
   ]
  },
  {
   "cell_type": "markdown",
   "id": "5108dc26",
   "metadata": {
    "papermill": {
     "duration": 0.017108,
     "end_time": "2025-06-02T20:20:51.381531",
     "exception": false,
     "start_time": "2025-06-02T20:20:51.364423",
     "status": "completed"
    },
    "tags": []
   },
   "source": [
    "# Visualizing the results"
   ]
  },
  {
   "cell_type": "code",
   "execution_count": 15,
   "id": "b33503d3",
   "metadata": {
    "execution": {
     "iopub.execute_input": "2025-06-02T20:20:51.418179Z",
     "iopub.status.busy": "2025-06-02T20:20:51.417664Z",
     "iopub.status.idle": "2025-06-02T20:21:25.215767Z",
     "shell.execute_reply": "2025-06-02T20:21:25.215149Z"
    },
    "papermill": {
     "duration": 33.817806,
     "end_time": "2025-06-02T20:21:25.217090",
     "exception": false,
     "start_time": "2025-06-02T20:20:51.399284",
     "status": "completed"
    },
    "tags": []
   },
   "outputs": [],
   "source": [
    "scores = {}\n",
    "split = StratifiedKFold(n_splits=CFG.n_folds, random_state=CFG.seed, shuffle=True).split(train, train[CFG.target])\n",
    "for fold_idx, (train_index, val_index) in enumerate(split):\n",
    "    for model in predictor.model_names():\n",
    "        fold_score = map3(train.loc[val_index, CFG.target], oof_pred_probs[model][val_index])\n",
    "        if model not in scores:\n",
    "            scores[model] = []\n",
    "        scores[model].append(fold_score)"
   ]
  },
  {
   "cell_type": "code",
   "execution_count": 16,
   "id": "02219ba8",
   "metadata": {
    "execution": {
     "iopub.execute_input": "2025-06-02T20:21:25.253352Z",
     "iopub.status.busy": "2025-06-02T20:21:25.253065Z",
     "iopub.status.idle": "2025-06-02T20:21:25.704425Z",
     "shell.execute_reply": "2025-06-02T20:21:25.703657Z"
    },
    "papermill": {
     "duration": 0.471332,
     "end_time": "2025-06-02T20:21:25.706263",
     "exception": false,
     "start_time": "2025-06-02T20:21:25.234931",
     "status": "completed"
    },
    "tags": []
   },
   "outputs": [
    {
     "data": {
      "image/png": "[encoded data removed]",
      "text/plain": [
       "<Figure size 1500x480 with 2 Axes>"
      ]
     },
     "metadata": {},
     "output_type": "display_data"
    }
   ],
   "source": [
    "scores = pd.DataFrame(scores)\n",
    "mean_scores = scores.mean().sort_values(ascending=False)\n",
    "order = scores.mean().sort_values(ascending=False).index.tolist()\n",
    "\n",
    "min_score = mean_scores.min()\n",
    "max_score = mean_scores.max()\n",
    "padding = (max_score - min_score) * 0.5\n",
    "lower_limit = min_score - padding\n",
    "upper_limit = max_score + padding\n",
    "\n",
    "fig, axs = plt.subplots(1, 2, figsize=(15, scores.shape[1] * 0.4))\n",
    "\n",
    "sns.boxplot(data=scores, order=order, ax=axs[0], orient=\"h\", palette=\"RdYlGn_r\")\n",
    "axs[0].set_title(\"Fold MAP@3\")\n",
    "axs[0].set_xlabel(\"\")\n",
    "axs[0].set_ylabel(\"\")\n",
    "\n",
    "barplot = sns.barplot(x=mean_scores.values, y=mean_scores.index, ax=axs[1], palette=\"RdYlGn_r\")\n",
    "axs[1].set_title(\"Average MAP@3\")\n",
    "axs[1].set_xlabel(\"\")\n",
    "axs[1].set_xlim(left=lower_limit, right=upper_limit)\n",
    "axs[1].set_ylabel(\"\")\n",
    "\n",
    "for i, score in enumerate(mean_scores.values):\n",
    "    barplot.text(score, i, round(score, 6), va=\"center\")\n",
    "\n",
    "plt.tight_layout()\n",
    "plt.show()"
   ]
  }
 ],
 "metadata": {
  "kaggle": {
   "accelerator": "gpu",
   "dataSources": [
    {
     "databundleVersionId": 12184666,
     "sourceId": 91717,
     "sourceType": "competition"
    }
   ],
   "dockerImageVersionId": 31041,
   "isGpuEnabled": true,
   "isInternetEnabled": true,
   "language": "python",
   "sourceType": "notebook"
  },
  "kernelspec": {
   "display_name": "Python 3",
   "language": "python",
   "name": "python3"
  },
  "language_info": {
   "codemirror_mode": {
    "name": "ipython",
    "version": 3
   },
   "file_extension": ".py",
   "mimetype": "text/x-python",
   "name": "python",
   "nbconvert_exporter": "python",
   "pygments_lexer": "ipython3",
   "version": "3.11.11"
  },
  "papermill": {
   "default_parameters": {},
   "duration": 38015.153886,
   "end_time": "2025-06-02T20:21:28.478532",
   "environment_variables": {},
   "exception": null,
   "input_path": "__notebook__.ipynb",
   "output_path": "__notebook__.ipynb",
   "parameters": {},
   "start_time": "2025-06-02T09:47:53.324646",
   "version": "2.6.0"
  }
 },
 "nbformat": 4,
 "nbformat_minor": 5
}
