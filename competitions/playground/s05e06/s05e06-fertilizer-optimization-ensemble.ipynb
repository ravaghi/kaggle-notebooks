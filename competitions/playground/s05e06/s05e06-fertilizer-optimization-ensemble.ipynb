{
 "cells": [
  {
   "cell_type": "markdown",
   "id": "7b59b838",
   "metadata": {
    "papermill": {
     "duration": 0.003562,
     "end_time": "2025-06-01T18:45:25.239413",
     "exception": false,
     "start_time": "2025-06-01T18:45:25.235851",
     "status": "completed"
    },
    "tags": []
   },
   "source": [
    "# Imports and configs"
   ]
  },
  {
   "cell_type": "code",
   "execution_count": 1,
   "id": "b7a68884",
   "metadata": {
    "_kg_hide-output": true,
    "execution": {
     "iopub.execute_input": "2025-06-01T18:45:25.246443Z",
     "iopub.status.busy": "2025-06-01T18:45:25.246158Z",
     "iopub.status.idle": "2025-06-01T18:45:32.766999Z",
     "shell.execute_reply": "2025-06-01T18:45:32.766193Z"
    },
    "papermill": {
     "duration": 7.525943,
     "end_time": "2025-06-01T18:45:32.768434",
     "exception": false,
     "start_time": "2025-06-01T18:45:25.242491",
     "status": "completed"
    },
    "tags": []
   },
   "outputs": [
    {
     "name": "stdout",
     "output_type": "stream",
     "text": [
      "\u001b[2K   \u001b[90m━━━━━━━━━━━━━━━━━━━━━━━━━━━━━━━━━━━━━━━━\u001b[0m \u001b[32m13.3/13.3 MB\u001b[0m \u001b[31m104.5 MB/s\u001b[0m eta \u001b[36m0:00:00\u001b[0m\r\n",
      "\u001b[?25h\u001b[31mERROR: pip's dependency resolver does not currently take into account all the packages that are installed. This behaviour is the source of the following dependency conflicts.\r\n",
      "cesium 0.12.4 requires numpy<3.0,>=2.0, but you have numpy 1.26.4 which is incompatible.\u001b[0m\u001b[31m\r\n",
      "\u001b[0m"
     ]
    }
   ],
   "source": [
    "!pip install -q scikit-learn==1.5.2"
   ]
  },
  {
   "cell_type": "code",
   "execution_count": 2,
   "id": "aa691f5e",
   "metadata": {
    "execution": {
     "iopub.execute_input": "2025-06-01T18:45:32.776299Z",
     "iopub.status.busy": "2025-06-01T18:45:32.776055Z",
     "iopub.status.idle": "2025-06-01T18:45:40.192228Z",
     "shell.execute_reply": "2025-06-01T18:45:40.191653Z"
    },
    "papermill": {
     "duration": 7.421651,
     "end_time": "2025-06-01T18:45:40.193696",
     "exception": false,
     "start_time": "2025-06-01T18:45:32.772045",
     "status": "completed"
    },
    "tags": []
   },
   "outputs": [],
   "source": [
    "from lightgbm import LGBMClassifier, log_evaluation, early_stopping\n",
    "from sklearn.linear_model import LogisticRegression\n",
    "from sklearn.model_selection import StratifiedKFold\n",
    "from sklearn.preprocessing import LabelEncoder\n",
    "from sklearn.metrics import accuracy_score\n",
    "from sklearn.base import clone\n",
    "from catboost import CatBoostClassifier\n",
    "from xgboost import XGBClassifier\n",
    "import matplotlib.pyplot as plt\n",
    "import seaborn as sns\n",
    "import pandas as pd\n",
    "import numpy as np\n",
    "import warnings\n",
    "import joblib\n",
    "import optuna\n",
    "import json\n",
    "import gc\n",
    "\n",
    "warnings.filterwarnings(\"ignore\")"
   ]
  },
  {
   "cell_type": "code",
   "execution_count": 3,
   "id": "00b298b7",
   "metadata": {
    "execution": {
     "iopub.execute_input": "2025-06-01T18:45:40.201086Z",
     "iopub.status.busy": "2025-06-01T18:45:40.200683Z",
     "iopub.status.idle": "2025-06-01T18:45:40.204488Z",
     "shell.execute_reply": "2025-06-01T18:45:40.203805Z"
    },
    "papermill": {
     "duration": 0.008662,
     "end_time": "2025-06-01T18:45:40.205622",
     "exception": false,
     "start_time": "2025-06-01T18:45:40.196960",
     "status": "completed"
    },
    "tags": []
   },
   "outputs": [],
   "source": [
    "class CFG:\n",
    "    train_path = \"/kaggle/input/playground-series-s5e6/train.csv\"\n",
    "    test_path = \"/kaggle/input/playground-series-s5e6/test.csv\"\n",
    "    sample_sub_path = \"/kaggle/input/playground-series-s5e6/sample_submission.csv\"\n",
    "    \n",
    "    target = \"Fertilizer Name\"\n",
    "    n_folds = 5\n",
    "    seed = 42"
   ]
  },
  {
   "cell_type": "markdown",
   "id": "aa490aa0",
   "metadata": {
    "papermill": {
     "duration": 0.002775,
     "end_time": "2025-06-01T18:45:40.211444",
     "exception": false,
     "start_time": "2025-06-01T18:45:40.208669",
     "status": "completed"
    },
    "tags": []
   },
   "source": [
    "# Data loading and preprocessing"
   ]
  },
  {
   "cell_type": "code",
   "execution_count": 4,
   "id": "e7b03d0d",
   "metadata": {
    "execution": {
     "iopub.execute_input": "2025-06-01T18:45:40.217990Z",
     "iopub.status.busy": "2025-06-01T18:45:40.217792Z",
     "iopub.status.idle": "2025-06-01T18:45:41.634336Z",
     "shell.execute_reply": "2025-06-01T18:45:41.633497Z"
    },
    "papermill": {
     "duration": 1.421593,
     "end_time": "2025-06-01T18:45:41.635918",
     "exception": false,
     "start_time": "2025-06-01T18:45:40.214325",
     "status": "completed"
    },
    "tags": []
   },
   "outputs": [],
   "source": [
    "train = pd.read_csv(CFG.train_path, index_col=\"id\")\n",
    "test = pd.read_csv(CFG.test_path, index_col=\"id\")\n",
    "\n",
    "cat_cols = train.select_dtypes(include=\"object\").columns.tolist()\n",
    "cat_cols = [c for c in cat_cols if c != CFG.target]\n",
    "train[cat_cols] = train[cat_cols].astype(str).astype(\"category\")\n",
    "test[cat_cols] = test[cat_cols].astype(str).astype(\"category\")\n",
    "\n",
    "label_encoder = LabelEncoder()\n",
    "train[CFG.target] = label_encoder.fit_transform(train[CFG.target])\n",
    "\n",
    "X = train.drop(CFG.target, axis=1)\n",
    "y = train[CFG.target]\n",
    "X_test = test"
   ]
  },
  {
   "cell_type": "markdown",
   "id": "90a6ce2f",
   "metadata": {
    "papermill": {
     "duration": 0.002992,
     "end_time": "2025-06-01T18:45:41.642268",
     "exception": false,
     "start_time": "2025-06-01T18:45:41.639276",
     "status": "completed"
    },
    "tags": []
   },
   "source": [
    "# Training base models"
   ]
  },
  {
   "cell_type": "code",
   "execution_count": 5,
   "id": "14076098",
   "metadata": {
    "execution": {
     "iopub.execute_input": "2025-06-01T18:45:41.649435Z",
     "iopub.status.busy": "2025-06-01T18:45:41.649176Z",
     "iopub.status.idle": "2025-06-01T18:45:41.653398Z",
     "shell.execute_reply": "2025-06-01T18:45:41.652635Z"
    },
    "papermill": {
     "duration": 0.009268,
     "end_time": "2025-06-01T18:45:41.654657",
     "exception": false,
     "start_time": "2025-06-01T18:45:41.645389",
     "status": "completed"
    },
    "tags": []
   },
   "outputs": [],
   "source": [
    "def map3(y_true, y_pred_probs):\n",
    "    y_preds = np.argsort(y_pred_probs, axis=1)[:, ::-1][:, :3]\n",
    "\n",
    "    score = 0\n",
    "    for i in range(3):\n",
    "        score += accuracy_score(y_true, y_preds[:, i]) / (i+1)\n",
    "\n",
    "    return score"
   ]
  },
  {
   "cell_type": "code",
   "execution_count": 6,
   "id": "93218543",
   "metadata": {
    "execution": {
     "iopub.execute_input": "2025-06-01T18:45:41.662258Z",
     "iopub.status.busy": "2025-06-01T18:45:41.661591Z",
     "iopub.status.idle": "2025-06-01T18:45:41.795712Z",
     "shell.execute_reply": "2025-06-01T18:45:41.794904Z"
    },
    "papermill": {
     "duration": 0.139345,
     "end_time": "2025-06-01T18:45:41.797144",
     "exception": false,
     "start_time": "2025-06-01T18:45:41.657799",
     "status": "completed"
    },
    "tags": []
   },
   "outputs": [],
   "source": [
    "class Trainer:\n",
    "    def __init__(self, model, config=CFG):\n",
    "        self.model = model\n",
    "        self.config = config\n",
    "\n",
    "    def fit_predict(self, X, y, X_test, fit_args={}):\n",
    "        print(f\"Training {self.model.__class__.__name__}\\n\")\n",
    "        \n",
    "        scores = []        \n",
    "        oof_pred_probs = np.zeros((X.shape[0], y.nunique()))\n",
    "        test_pred_probs = np.zeros((X_test.shape[0], y.nunique()))\n",
    "        \n",
    "        skf = StratifiedKFold(n_splits=self.config.n_folds, random_state=self.config.seed, shuffle=True)\n",
    "        for fold_idx, (train_idx, val_idx) in enumerate(skf.split(X, y)):\n",
    "            X_train, X_val = X.iloc[train_idx], X.iloc[val_idx]\n",
    "            y_train, y_val = y[train_idx], y[val_idx]\n",
    "            \n",
    "            model = clone(self.model)\n",
    "            \n",
    "            if fit_args:\n",
    "                model.fit(X_train, y_train, **fit_args, eval_set=[(X_val, y_val)])\n",
    "            else:\n",
    "                model.fit(X_train, y_train)\n",
    "            \n",
    "            y_pred_probs = model.predict_proba(X_val)\n",
    "            oof_pred_probs[val_idx] = y_pred_probs\n",
    "            \n",
    "            temp_test_pred_probs = model.predict_proba(X_test)\n",
    "            test_pred_probs += temp_test_pred_probs / self.config.n_folds\n",
    "            \n",
    "            score = map3(y_val, y_pred_probs)\n",
    "            scores.append(score)\n",
    "            \n",
    "            del model, X_train, y_train, X_val, y_val, y_pred_probs\n",
    "            gc.collect()\n",
    "            \n",
    "            if fit_args:\n",
    "                print(f\"\\n--- Fold {fold_idx + 1} - MAP@3: {score:.6f}\\n\\n\")\n",
    "            else:\n",
    "                print(f\"--- Fold {fold_idx + 1} - MAP@3: {score:.6f}\")\n",
    "                            \n",
    "        overall_score = map3(y, oof_pred_probs)\n",
    "            \n",
    "        print(f\"\\n------ Overall MAP@3: {overall_score:.6f} | Average MAP@3: {np.mean(scores):.6f} ± {np.std(scores):.6f}\")\n",
    "        \n",
    "        return oof_pred_probs, test_pred_probs, scores\n",
    "\n",
    "    def tune(self, X, y):        \n",
    "        scores = []        \n",
    "        \n",
    "        skf = StratifiedKFold(n_splits=self.config.n_folds, random_state=self.config.seed, shuffle=True)\n",
    "        for fold_idx, (train_idx, val_idx) in enumerate(skf.split(X, y)):\n",
    "            X_train, X_val = X.iloc[train_idx], X.iloc[val_idx]\n",
    "            y_train, y_val = y[train_idx], y[val_idx]\n",
    "            \n",
    "            model = clone(self.model)\n",
    "            model.fit(X_train, y_train)\n",
    "            \n",
    "            y_pred_probs = model.predict_proba(X_val)            \n",
    "            score = map3(y_val, y_pred_probs)\n",
    "            scores.append(score)\n",
    "            \n",
    "            del model, X_train, y_train, X_val, y_val, y_pred_probs\n",
    "            gc.collect()\n",
    "            \n",
    "        return np.mean(scores)"
   ]
  },
  {
   "cell_type": "code",
   "execution_count": 7,
   "id": "cd9615ed",
   "metadata": {
    "_kg_hide-input": true,
    "execution": {
     "iopub.execute_input": "2025-06-01T18:45:41.805095Z",
     "iopub.status.busy": "2025-06-01T18:45:41.804868Z",
     "iopub.status.idle": "2025-06-01T18:45:41.809412Z",
     "shell.execute_reply": "2025-06-01T18:45:41.808867Z"
    },
    "papermill": {
     "duration": 0.00952,
     "end_time": "2025-06-01T18:45:41.810450",
     "exception": false,
     "start_time": "2025-06-01T18:45:41.800930",
     "status": "completed"
    },
    "tags": []
   },
   "outputs": [],
   "source": [
    "lgbm_params = {\n",
    "    \"boosting_type\": \"gbdt\",\n",
    "    \"device\": \"gpu\",\n",
    "    \"colsample_bytree\": 0.5,\n",
    "    \"n_estimators\": 5000,\n",
    "    \"n_jobs\": -1,\n",
    "    \"verbose\": -1\n",
    "}\n",
    "\n",
    "lgbm_goss_params = {\n",
    "    \"boosting_type\": \"goss\",\n",
    "    \"device\": \"gpu\",\n",
    "    \"colsample_bytree\": 0.5,\n",
    "    \"n_estimators\": 5000,\n",
    "    \"n_jobs\": -1,\n",
    "    \"verbose\": -1\n",
    "}\n",
    "\n",
    "xgb_params = {\n",
    "    \"early_stopping_rounds\": 100,\n",
    "    \"device\": \"cuda\",\n",
    "    \"enable_categorical\": True,\n",
    "    \"learning_rate\": 0.08,\n",
    "    \"colsample_bytree\": 0.6,\n",
    "    \"subsample\": 0.9,\n",
    "    \"gamma\": 0.2,\n",
    "    \"reg_lambda\": 0.2,\n",
    "    \"n_estimators\": 5000,\n",
    "    \"n_jobs\": -1,\n",
    "    \"verbosity\": 0\n",
    "}\n",
    "\n",
    "cb_params = {\n",
    "    \"iterations\": 5000,\n",
    "    \"task_type\": \"GPU\",\n",
    "    \"verbose\": False\n",
    "}"
   ]
  },
  {
   "cell_type": "code",
   "execution_count": 8,
   "id": "1c862b84",
   "metadata": {
    "execution": {
     "iopub.execute_input": "2025-06-01T18:45:41.817853Z",
     "iopub.status.busy": "2025-06-01T18:45:41.817632Z",
     "iopub.status.idle": "2025-06-01T18:45:41.820931Z",
     "shell.execute_reply": "2025-06-01T18:45:41.820369Z"
    },
    "papermill": {
     "duration": 0.008092,
     "end_time": "2025-06-01T18:45:41.821954",
     "exception": false,
     "start_time": "2025-06-01T18:45:41.813862",
     "status": "completed"
    },
    "tags": []
   },
   "outputs": [],
   "source": [
    "scores = {}\n",
    "oof_pred_probs = {}\n",
    "test_pred_probs = {}"
   ]
  },
  {
   "cell_type": "code",
   "execution_count": 9,
   "id": "266f45e5",
   "metadata": {
    "execution": {
     "iopub.execute_input": "2025-06-01T18:45:41.829212Z",
     "iopub.status.busy": "2025-06-01T18:45:41.829014Z",
     "iopub.status.idle": "2025-06-01T19:01:21.490913Z",
     "shell.execute_reply": "2025-06-01T19:01:21.490214Z"
    },
    "papermill": {
     "duration": 939.671901,
     "end_time": "2025-06-01T19:01:21.497065",
     "exception": false,
     "start_time": "2025-06-01T18:45:41.825164",
     "status": "completed"
    },
    "tags": []
   },
   "outputs": [
    {
     "name": "stdout",
     "output_type": "stream",
     "text": [
      "Training LGBMClassifier\n",
      "\n"
     ]
    },
    {
     "name": "stderr",
     "output_type": "stream",
     "text": [
      "1 warning generated.\n",
      "1 warning generated.\n",
      "1 warning generated.\n",
      "1 warning generated.\n",
      "1 warning generated.\n",
      "1 warning generated.\n",
      "1 warning generated.\n",
      "1 warning generated.\n",
      "1 warning generated.\n",
      "1 warning generated.\n",
      "1 warning generated.\n",
      "1 warning generated.\n",
      "1 warning generated.\n",
      "1 warning generated.\n",
      "1 warning generated.\n",
      "1 warning generated.\n",
      "1 warning generated.\n",
      "1 warning generated.\n",
      "1 warning generated.\n",
      "1 warning generated.\n",
      "1 warning generated.\n",
      "1 warning generated.\n",
      "1 warning generated.\n",
      "1 warning generated.\n",
      "1 warning generated.\n",
      "1 warning generated.\n",
      "1 warning generated.\n",
      "1 warning generated.\n",
      "1 warning generated.\n",
      "1 warning generated.\n",
      "1 warning generated.\n",
      "1 warning generated.\n",
      "1 warning generated.\n"
     ]
    },
    {
     "name": "stdout",
     "output_type": "stream",
     "text": [
      "Training until validation scores don't improve for 100 rounds\n",
      "[250]\tvalid_0's multi_logloss: 1.9188\n",
      "[500]\tvalid_0's multi_logloss: 1.91577\n",
      "[750]\tvalid_0's multi_logloss: 1.91429\n",
      "[1000]\tvalid_0's multi_logloss: 1.91401\n",
      "Early stopping, best iteration is:\n",
      "[980]\tvalid_0's multi_logloss: 1.91391\n",
      "\n",
      "--- Fold 1 - MAP@3: 0.338383\n",
      "\n",
      "\n",
      "Training until validation scores don't improve for 100 rounds\n",
      "[250]\tvalid_0's multi_logloss: 1.9183\n",
      "[500]\tvalid_0's multi_logloss: 1.91532\n",
      "[750]\tvalid_0's multi_logloss: 1.91394\n",
      "[1000]\tvalid_0's multi_logloss: 1.91342\n",
      "Early stopping, best iteration is:\n",
      "[910]\tvalid_0's multi_logloss: 1.91338\n",
      "\n",
      "--- Fold 2 - MAP@3: 0.338827\n",
      "\n",
      "\n",
      "Training until validation scores don't improve for 100 rounds\n",
      "[250]\tvalid_0's multi_logloss: 1.91827\n",
      "[500]\tvalid_0's multi_logloss: 1.915\n",
      "[750]\tvalid_0's multi_logloss: 1.91378\n",
      "Early stopping, best iteration is:\n",
      "[848]\tvalid_0's multi_logloss: 1.91362\n",
      "\n",
      "--- Fold 3 - MAP@3: 0.338499\n",
      "\n",
      "\n",
      "Training until validation scores don't improve for 100 rounds\n",
      "[250]\tvalid_0's multi_logloss: 1.91921\n",
      "[500]\tvalid_0's multi_logloss: 1.91631\n",
      "[750]\tvalid_0's multi_logloss: 1.91493\n",
      "[1000]\tvalid_0's multi_logloss: 1.9144\n",
      "Early stopping, best iteration is:\n",
      "[1063]\tvalid_0's multi_logloss: 1.91436\n",
      "\n",
      "--- Fold 4 - MAP@3: 0.338972\n",
      "\n",
      "\n",
      "Training until validation scores don't improve for 100 rounds\n",
      "[250]\tvalid_0's multi_logloss: 1.91878\n",
      "[500]\tvalid_0's multi_logloss: 1.91547\n",
      "[750]\tvalid_0's multi_logloss: 1.9142\n",
      "[1000]\tvalid_0's multi_logloss: 1.91379\n",
      "Early stopping, best iteration is:\n",
      "[1010]\tvalid_0's multi_logloss: 1.91375\n",
      "\n",
      "--- Fold 5 - MAP@3: 0.339100\n",
      "\n",
      "\n",
      "\n",
      "------ Overall MAP@3: 0.338756 | Average MAP@3: 0.338756 ± 0.000274\n"
     ]
    }
   ],
   "source": [
    "lgbm_model = LGBMClassifier(**lgbm_params)\n",
    "lgbm_trainer = Trainer(lgbm_model)\n",
    "\n",
    "fit_args = {\n",
    "    \"callbacks\": [\n",
    "        log_evaluation(period=250), \n",
    "        early_stopping(stopping_rounds=100)\n",
    "    ]\n",
    "}\n",
    "\n",
    "oof_pred_probs[\"LightGBM (gbdt)\"], test_pred_probs[\"LightGBM (gbdt)\"], scores[\"LightGBM (gbdt)\"] = lgbm_trainer.fit_predict(X, y, X_test, fit_args)"
   ]
  },
  {
   "cell_type": "code",
   "execution_count": 10,
   "id": "00b4b263",
   "metadata": {
    "execution": {
     "iopub.execute_input": "2025-06-01T19:01:21.507891Z",
     "iopub.status.busy": "2025-06-01T19:01:21.507653Z",
     "iopub.status.idle": "2025-06-01T19:08:27.592425Z",
     "shell.execute_reply": "2025-06-01T19:08:27.591748Z"
    },
    "papermill": {
     "duration": 426.097593,
     "end_time": "2025-06-01T19:08:27.599664",
     "exception": false,
     "start_time": "2025-06-01T19:01:21.502071",
     "status": "completed"
    },
    "tags": []
   },
   "outputs": [
    {
     "name": "stdout",
     "output_type": "stream",
     "text": [
      "Training LGBMClassifier\n",
      "\n",
      "Training until validation scores don't improve for 100 rounds\n",
      "[250]\tvalid_0's multi_logloss: 1.92664\n",
      "Early stopping, best iteration is:\n",
      "[204]\tvalid_0's multi_logloss: 1.92609\n",
      "\n",
      "--- Fold 1 - MAP@3: 0.320374\n",
      "\n",
      "\n",
      "Training until validation scores don't improve for 100 rounds\n",
      "[250]\tvalid_0's multi_logloss: 1.92607\n",
      "Early stopping, best iteration is:\n",
      "[235]\tvalid_0's multi_logloss: 1.92594\n",
      "\n",
      "--- Fold 2 - MAP@3: 0.320868\n",
      "\n",
      "\n",
      "Training until validation scores don't improve for 100 rounds\n",
      "[250]\tvalid_0's multi_logloss: 1.92572\n",
      "Early stopping, best iteration is:\n",
      "[208]\tvalid_0's multi_logloss: 1.92537\n",
      "\n",
      "--- Fold 3 - MAP@3: 0.321777\n",
      "\n",
      "\n",
      "Training until validation scores don't improve for 100 rounds\n",
      "[250]\tvalid_0's multi_logloss: 1.92613\n",
      "Early stopping, best iteration is:\n",
      "[267]\tvalid_0's multi_logloss: 1.92605\n",
      "\n",
      "--- Fold 4 - MAP@3: 0.321146\n",
      "\n",
      "\n",
      "Training until validation scores don't improve for 100 rounds\n",
      "[250]\tvalid_0's multi_logloss: 1.92645\n",
      "Early stopping, best iteration is:\n",
      "[216]\tvalid_0's multi_logloss: 1.92624\n",
      "\n",
      "--- Fold 5 - MAP@3: 0.319686\n",
      "\n",
      "\n",
      "\n",
      "------ Overall MAP@3: 0.320770 | Average MAP@3: 0.320770 ± 0.000707\n"
     ]
    }
   ],
   "source": [
    "lgb_goss_model = LGBMClassifier(**lgbm_goss_params)\n",
    "lgb_goss_trainer = Trainer(lgb_goss_model)\n",
    "\n",
    "fit_args = {\n",
    "    \"callbacks\": [\n",
    "        log_evaluation(period=250), \n",
    "        early_stopping(stopping_rounds=100)\n",
    "    ]\n",
    "}\n",
    "\n",
    "oof_pred_probs[\"LightGBM (goss)\"], test_pred_probs[\"LightGBM (goss)\"], scores[\"LightGBM (goss)\"] = lgb_goss_trainer.fit_predict(X, y, X_test, fit_args)"
   ]
  },
  {
   "cell_type": "code",
   "execution_count": 11,
   "id": "a304ae6b",
   "metadata": {
    "execution": {
     "iopub.execute_input": "2025-06-01T19:08:27.612250Z",
     "iopub.status.busy": "2025-06-01T19:08:27.612020Z",
     "iopub.status.idle": "2025-06-01T19:16:02.594673Z",
     "shell.execute_reply": "2025-06-01T19:16:02.593893Z"
    },
    "papermill": {
     "duration": 454.990489,
     "end_time": "2025-06-01T19:16:02.595970",
     "exception": false,
     "start_time": "2025-06-01T19:08:27.605481",
     "status": "completed"
    },
    "tags": []
   },
   "outputs": [
    {
     "name": "stdout",
     "output_type": "stream",
     "text": [
      "Training XGBClassifier\n",
      "\n",
      "[0]\tvalidation_0-mlogloss:1.94530\n",
      "[250]\tvalidation_0-mlogloss:1.91917\n",
      "[500]\tvalidation_0-mlogloss:1.91304\n",
      "[750]\tvalidation_0-mlogloss:1.91050\n",
      "[1000]\tvalidation_0-mlogloss:1.90931\n",
      "[1250]\tvalidation_0-mlogloss:1.90881\n",
      "[1491]\tvalidation_0-mlogloss:1.90888\n",
      "\n",
      "--- Fold 1 - MAP@3: 0.345898\n",
      "\n",
      "\n",
      "[0]\tvalidation_0-mlogloss:1.94529\n",
      "[250]\tvalidation_0-mlogloss:1.91891\n",
      "[500]\tvalidation_0-mlogloss:1.91248\n",
      "[750]\tvalidation_0-mlogloss:1.90958\n",
      "[1000]\tvalidation_0-mlogloss:1.90824\n",
      "[1250]\tvalidation_0-mlogloss:1.90766\n",
      "[1500]\tvalidation_0-mlogloss:1.90751\n",
      "[1652]\tvalidation_0-mlogloss:1.90753\n",
      "\n",
      "--- Fold 2 - MAP@3: 0.346788\n",
      "\n",
      "\n",
      "[0]\tvalidation_0-mlogloss:1.94529\n",
      "[250]\tvalidation_0-mlogloss:1.91860\n",
      "[500]\tvalidation_0-mlogloss:1.91218\n",
      "[750]\tvalidation_0-mlogloss:1.90938\n",
      "[1000]\tvalidation_0-mlogloss:1.90788\n",
      "[1250]\tvalidation_0-mlogloss:1.90729\n",
      "[1375]\tvalidation_0-mlogloss:1.90726\n",
      "\n",
      "--- Fold 3 - MAP@3: 0.347116\n",
      "\n",
      "\n",
      "[0]\tvalidation_0-mlogloss:1.94529\n",
      "[250]\tvalidation_0-mlogloss:1.91934\n",
      "[500]\tvalidation_0-mlogloss:1.91349\n",
      "[750]\tvalidation_0-mlogloss:1.91084\n",
      "[1000]\tvalidation_0-mlogloss:1.90965\n",
      "[1250]\tvalidation_0-mlogloss:1.90920\n",
      "[1500]\tvalidation_0-mlogloss:1.90901\n",
      "[1523]\tvalidation_0-mlogloss:1.90904\n",
      "\n",
      "--- Fold 4 - MAP@3: 0.346136\n",
      "\n",
      "\n",
      "[0]\tvalidation_0-mlogloss:1.94527\n",
      "[250]\tvalidation_0-mlogloss:1.91874\n",
      "[500]\tvalidation_0-mlogloss:1.91255\n",
      "[750]\tvalidation_0-mlogloss:1.90970\n",
      "[1000]\tvalidation_0-mlogloss:1.90832\n",
      "[1250]\tvalidation_0-mlogloss:1.90793\n",
      "[1380]\tvalidation_0-mlogloss:1.90790\n",
      "\n",
      "--- Fold 5 - MAP@3: 0.346366\n",
      "\n",
      "\n",
      "\n",
      "------ Overall MAP@3: 0.346460 | Average MAP@3: 0.346460 ± 0.000440\n"
     ]
    }
   ],
   "source": [
    "xgb_model = XGBClassifier(**xgb_params)\n",
    "xgb_trainer = Trainer(xgb_model)\n",
    "\n",
    "fit_args = {\n",
    "    \"verbose\": 250\n",
    "}\n",
    "\n",
    "oof_pred_probs[\"XGBoost\"], test_pred_probs[\"XGBoost\"], scores[\"XGBoost\"] = xgb_trainer.fit_predict(X, y, X_test, fit_args)"
   ]
  },
  {
   "cell_type": "code",
   "execution_count": 12,
   "id": "6020afcc",
   "metadata": {
    "execution": {
     "iopub.execute_input": "2025-06-01T19:16:02.612133Z",
     "iopub.status.busy": "2025-06-01T19:16:02.611930Z",
     "iopub.status.idle": "2025-06-01T19:19:36.128344Z",
     "shell.execute_reply": "2025-06-01T19:19:36.127446Z"
    },
    "papermill": {
     "duration": 213.526067,
     "end_time": "2025-06-01T19:19:36.129677",
     "exception": false,
     "start_time": "2025-06-01T19:16:02.603610",
     "status": "completed"
    },
    "tags": []
   },
   "outputs": [
    {
     "name": "stdout",
     "output_type": "stream",
     "text": [
      "Training CatBoostClassifier\n",
      "\n",
      "Learning rate set to 0.099306\n",
      "0:\tlearn: 1.9450552\ttest: 1.9451515\tbest: 1.9451515 (0)\ttotal: 5.74s\tremaining: 7h 57m 49s\n",
      "250:\tlearn: 1.9191413\ttest: 1.9295237\tbest: 1.9295237 (250)\ttotal: 10.2s\tremaining: 3m 13s\n",
      "500:\tlearn: 1.9070171\ttest: 1.9260567\tbest: 1.9260567 (500)\ttotal: 14.8s\tremaining: 2m 13s\n",
      "750:\tlearn: 1.8975367\ttest: 1.9243106\tbest: 1.9243106 (750)\ttotal: 19.4s\tremaining: 1m 49s\n",
      "1000:\tlearn: 1.8883185\ttest: 1.9231883\tbest: 1.9231883 (1000)\ttotal: 23.9s\tremaining: 1m 35s\n",
      "1250:\tlearn: 1.8797275\ttest: 1.9225358\tbest: 1.9225358 (1250)\ttotal: 28.5s\tremaining: 1m 25s\n",
      "1500:\tlearn: 1.8716469\ttest: 1.9221613\tbest: 1.9221356 (1489)\ttotal: 33.1s\tremaining: 1m 17s\n",
      "bestTest = 1.922132292\n",
      "bestIteration = 1538\n",
      "Shrink model to first 1539 iterations.\n",
      "\n",
      "--- Fold 1 - MAP@3: 0.326094\n",
      "\n",
      "\n",
      "Learning rate set to 0.099306\n",
      "0:\tlearn: 1.9450490\ttest: 1.9450992\tbest: 1.9450992 (0)\ttotal: 19.7ms\tremaining: 1m 38s\n",
      "250:\tlearn: 1.9195323\ttest: 1.9293210\tbest: 1.9293210 (250)\ttotal: 4.53s\tremaining: 1m 25s\n",
      "500:\tlearn: 1.9078608\ttest: 1.9259606\tbest: 1.9259606 (500)\ttotal: 9.13s\tremaining: 1m 21s\n",
      "750:\tlearn: 1.8978842\ttest: 1.9241669\tbest: 1.9241669 (750)\ttotal: 13.7s\tremaining: 1m 17s\n",
      "1000:\tlearn: 1.8888990\ttest: 1.9231444\tbest: 1.9231387 (995)\ttotal: 18.2s\tremaining: 1m 12s\n",
      "1250:\tlearn: 1.8805785\ttest: 1.9226569\tbest: 1.9226387 (1220)\ttotal: 22.9s\tremaining: 1m 8s\n",
      "1500:\tlearn: 1.8726929\ttest: 1.9223460\tbest: 1.9223460 (1500)\ttotal: 27.4s\tremaining: 1m 3s\n",
      "1750:\tlearn: 1.8650527\ttest: 1.9221965\tbest: 1.9221965 (1750)\ttotal: 32s\tremaining: 59.4s\n",
      "bestTest = 1.922196458\n",
      "bestIteration = 1750\n",
      "Shrink model to first 1751 iterations.\n",
      "\n",
      "--- Fold 2 - MAP@3: 0.326876\n",
      "\n",
      "\n",
      "Learning rate set to 0.099306\n",
      "0:\tlearn: 1.9450754\ttest: 1.9451235\tbest: 1.9451235 (0)\ttotal: 19.5ms\tremaining: 1m 37s\n",
      "250:\tlearn: 1.9193385\ttest: 1.9291690\tbest: 1.9291690 (250)\ttotal: 4.53s\tremaining: 1m 25s\n",
      "500:\tlearn: 1.9070304\ttest: 1.9255058\tbest: 1.9255058 (500)\ttotal: 8.99s\tremaining: 1m 20s\n",
      "750:\tlearn: 1.8968740\ttest: 1.9234350\tbest: 1.9234350 (750)\ttotal: 13.5s\tremaining: 1m 16s\n",
      "1000:\tlearn: 1.8877090\ttest: 1.9223146\tbest: 1.9223060 (999)\ttotal: 18.1s\tremaining: 1m 12s\n",
      "1250:\tlearn: 1.8792004\ttest: 1.9217960\tbest: 1.9217948 (1249)\ttotal: 22.6s\tremaining: 1m 7s\n",
      "1500:\tlearn: 1.8712865\ttest: 1.9215344\tbest: 1.9215202 (1489)\ttotal: 27.2s\tremaining: 1m 3s\n",
      "1750:\tlearn: 1.8636281\ttest: 1.9212271\tbest: 1.9212096 (1733)\ttotal: 31.8s\tremaining: 59s\n",
      "bestTest = 1.921114375\n",
      "bestIteration = 1872\n",
      "Shrink model to first 1873 iterations.\n",
      "\n",
      "--- Fold 3 - MAP@3: 0.328448\n",
      "\n",
      "\n",
      "Learning rate set to 0.099306\n",
      "0:\tlearn: 1.9450463\ttest: 1.9451185\tbest: 1.9451185 (0)\ttotal: 19.8ms\tremaining: 1m 39s\n",
      "250:\tlearn: 1.9196513\ttest: 1.9295540\tbest: 1.9295540 (250)\ttotal: 4.53s\tremaining: 1m 25s\n",
      "500:\tlearn: 1.9077688\ttest: 1.9260631\tbest: 1.9260623 (499)\ttotal: 9.05s\tremaining: 1m 21s\n",
      "750:\tlearn: 1.8981577\ttest: 1.9243717\tbest: 1.9243717 (750)\ttotal: 13.6s\tremaining: 1m 17s\n",
      "1000:\tlearn: 1.8890952\ttest: 1.9231944\tbest: 1.9231910 (999)\ttotal: 18.1s\tremaining: 1m 12s\n",
      "1250:\tlearn: 1.8806627\ttest: 1.9226138\tbest: 1.9226138 (1250)\ttotal: 22.7s\tremaining: 1m 7s\n",
      "1500:\tlearn: 1.8725446\ttest: 1.9222571\tbest: 1.9222290 (1447)\ttotal: 27.2s\tremaining: 1m 3s\n",
      "1750:\tlearn: 1.8647842\ttest: 1.9221217\tbest: 1.9221156 (1744)\ttotal: 31.9s\tremaining: 59.2s\n",
      "2000:\tlearn: 1.8575056\ttest: 1.9220400\tbest: 1.9220121 (1986)\ttotal: 36.5s\tremaining: 54.7s\n",
      "bestTest = 1.922012083\n",
      "bestIteration = 1986\n",
      "Shrink model to first 1987 iterations.\n",
      "\n",
      "--- Fold 4 - MAP@3: 0.327638\n",
      "\n",
      "\n",
      "Learning rate set to 0.099306\n",
      "0:\tlearn: 1.9450408\ttest: 1.9450888\tbest: 1.9450888 (0)\ttotal: 20.2ms\tremaining: 1m 40s\n",
      "250:\tlearn: 1.9191873\ttest: 1.9295742\tbest: 1.9295742 (250)\ttotal: 4.47s\tremaining: 1m 24s\n",
      "500:\tlearn: 1.9077369\ttest: 1.9259544\tbest: 1.9259544 (500)\ttotal: 8.96s\tremaining: 1m 20s\n",
      "750:\tlearn: 1.8980227\ttest: 1.9239062\tbest: 1.9238994 (749)\ttotal: 13.4s\tremaining: 1m 16s\n",
      "1000:\tlearn: 1.8891419\ttest: 1.9227527\tbest: 1.9227527 (1000)\ttotal: 18s\tremaining: 1m 12s\n",
      "1250:\tlearn: 1.8810573\ttest: 1.9221715\tbest: 1.9221629 (1228)\ttotal: 22.7s\tremaining: 1m 7s\n",
      "1500:\tlearn: 1.8732546\ttest: 1.9218133\tbest: 1.9217969 (1485)\ttotal: 27.2s\tremaining: 1m 3s\n",
      "1750:\tlearn: 1.8659394\ttest: 1.9215998\tbest: 1.9215587 (1678)\ttotal: 31.8s\tremaining: 59s\n",
      "bestTest = 1.92155875\n",
      "bestIteration = 1678\n",
      "Shrink model to first 1679 iterations.\n",
      "\n",
      "--- Fold 5 - MAP@3: 0.327584\n",
      "\n",
      "\n",
      "\n",
      "------ Overall MAP@3: 0.327328 | Average MAP@3: 0.327328 ± 0.000793\n"
     ]
    }
   ],
   "source": [
    "cb_model = CatBoostClassifier(**cb_params)\n",
    "cb_trainer = Trainer(cb_model)\n",
    "\n",
    "fit_args = {\n",
    "    \"verbose\": 250,\n",
    "    \"early_stopping_rounds\": 100,\n",
    "    \"use_best_model\": True,\n",
    "    \"cat_features\": cat_cols\n",
    "}\n",
    "\n",
    "oof_pred_probs[\"CatBoost\"], test_pred_probs[\"CatBoost\"], scores[\"CatBoost\"] = cb_trainer.fit_predict(X, y, X_test, fit_args)"
   ]
  },
  {
   "cell_type": "markdown",
   "id": "f9fdc2a3",
   "metadata": {
    "papermill": {
     "duration": 0.009212,
     "end_time": "2025-06-01T19:19:36.148954",
     "exception": false,
     "start_time": "2025-06-01T19:19:36.139742",
     "status": "completed"
    },
    "tags": []
   },
   "source": [
    "# Ensembling with LogisticRegression"
   ]
  },
  {
   "cell_type": "code",
   "execution_count": 13,
   "id": "eb130972",
   "metadata": {
    "execution": {
     "iopub.execute_input": "2025-06-01T19:19:36.168835Z",
     "iopub.status.busy": "2025-06-01T19:19:36.168132Z",
     "iopub.status.idle": "2025-06-01T19:19:36.307872Z",
     "shell.execute_reply": "2025-06-01T19:19:36.307281Z"
    },
    "papermill": {
     "duration": 0.150973,
     "end_time": "2025-06-01T19:19:36.309171",
     "exception": false,
     "start_time": "2025-06-01T19:19:36.158198",
     "status": "completed"
    },
    "tags": []
   },
   "outputs": [],
   "source": [
    "X = pd.DataFrame(np.concatenate(list(oof_pred_probs.values()), axis=1))\n",
    "X_test = pd.DataFrame(np.concatenate(list(test_pred_probs.values()), axis=1))"
   ]
  },
  {
   "cell_type": "code",
   "execution_count": 14,
   "id": "662537a0",
   "metadata": {
    "execution": {
     "iopub.execute_input": "2025-06-01T19:19:36.329775Z",
     "iopub.status.busy": "2025-06-01T19:19:36.329127Z",
     "iopub.status.idle": "2025-06-01T19:19:36.533773Z",
     "shell.execute_reply": "2025-06-01T19:19:36.533061Z"
    },
    "papermill": {
     "duration": 0.215913,
     "end_time": "2025-06-01T19:19:36.534886",
     "exception": false,
     "start_time": "2025-06-01T19:19:36.318973",
     "status": "completed"
    },
    "tags": []
   },
   "outputs": [
    {
     "data": {
      "text/plain": [
       "['test_pred_probs.pkl']"
      ]
     },
     "execution_count": 14,
     "metadata": {},
     "output_type": "execute_result"
    }
   ],
   "source": [
    "joblib.dump(X, \"oof_pred_probs.pkl\")\n",
    "joblib.dump(X_test, \"test_pred_probs.pkl\")"
   ]
  },
  {
   "cell_type": "code",
   "execution_count": 15,
   "id": "9e2a18f7",
   "metadata": {
    "execution": {
     "iopub.execute_input": "2025-06-01T19:19:36.555167Z",
     "iopub.status.busy": "2025-06-01T19:19:36.554789Z",
     "iopub.status.idle": "2025-06-01T19:21:49.185822Z",
     "shell.execute_reply": "2025-06-01T19:21:49.184949Z"
    },
    "papermill": {
     "duration": 132.64238,
     "end_time": "2025-06-01T19:21:49.187113",
     "exception": false,
     "start_time": "2025-06-01T19:19:36.544733",
     "status": "completed"
    },
    "tags": []
   },
   "outputs": [
    {
     "name": "stdout",
     "output_type": "stream",
     "text": [
      "Training LogisticRegression\n",
      "\n",
      "--- Fold 1 - MAP@3: 0.345780\n",
      "--- Fold 2 - MAP@3: 0.346832\n",
      "--- Fold 3 - MAP@3: 0.347506\n",
      "--- Fold 4 - MAP@3: 0.346663\n",
      "--- Fold 5 - MAP@3: 0.346476\n",
      "\n",
      "------ Overall MAP@3: 0.346651 | Average MAP@3: 0.346651 ± 0.000557\n"
     ]
    }
   ],
   "source": [
    "lr_model = LogisticRegression(**{\n",
    "    'random_state': CFG.seed,\n",
    "    'max_iter': 500,\n",
    "    'C': 2.241899603250816,\n",
    "    'tol': 0.0025920949567029227,\n",
    "    'fit_intercept': True,\n",
    "    'class_weight': None,\n",
    "    'solver': 'liblinear',\n",
    "    'penalty': 'l2'\n",
    "})\n",
    "lr_trainer = Trainer(lr_model)\n",
    "\n",
    "_, lr_test_pred_probs, scores[\"LogisticRegression\"] = lr_trainer.fit_predict(X, y, X_test)"
   ]
  },
  {
   "cell_type": "code",
   "execution_count": 16,
   "id": "67a721d3",
   "metadata": {
    "execution": {
     "iopub.execute_input": "2025-06-01T19:21:49.208976Z",
     "iopub.status.busy": "2025-06-01T19:21:49.208745Z",
     "iopub.status.idle": "2025-06-01T19:22:10.698620Z",
     "shell.execute_reply": "2025-06-01T19:22:10.698010Z"
    },
    "papermill": {
     "duration": 21.501825,
     "end_time": "2025-06-01T19:22:10.699925",
     "exception": false,
     "start_time": "2025-06-01T19:21:49.198100",
     "status": "completed"
    },
    "tags": []
   },
   "outputs": [],
   "source": [
    "final_predictions = []\n",
    "for i in np.argsort(lr_test_pred_probs)[:,-3:][::-1]:\n",
    "    prediction = label_encoder.inverse_transform(i)\n",
    "    final_predictions.append(\" \".join(prediction))"
   ]
  },
  {
   "cell_type": "code",
   "execution_count": 17,
   "id": "c726ee69",
   "metadata": {
    "execution": {
     "iopub.execute_input": "2025-06-01T19:22:10.720896Z",
     "iopub.status.busy": "2025-06-01T19:22:10.720679Z",
     "iopub.status.idle": "2025-06-01T19:22:11.193123Z",
     "shell.execute_reply": "2025-06-01T19:22:11.192209Z"
    },
    "papermill": {
     "duration": 0.484208,
     "end_time": "2025-06-01T19:22:11.194450",
     "exception": false,
     "start_time": "2025-06-01T19:22:10.710242",
     "status": "completed"
    },
    "tags": []
   },
   "outputs": [
    {
     "data": {
      "text/html": [
       "<div>\n",
       "<style scoped>\n",
       "    .dataframe tbody tr th:only-of-type {\n",
       "        vertical-align: middle;\n",
       "    }\n",
       "\n",
       "    .dataframe tbody tr th {\n",
       "        vertical-align: top;\n",
       "    }\n",
       "\n",
       "    .dataframe thead th {\n",
       "        text-align: right;\n",
       "    }\n",
       "</style>\n",
       "<table border=\"1\" class=\"dataframe\">\n",
       "  <thead>\n",
       "    <tr style=\"text-align: right;\">\n",
       "      <th></th>\n",
       "      <th>id</th>\n",
       "      <th>Fertilizer Name</th>\n",
       "    </tr>\n",
       "  </thead>\n",
       "  <tbody>\n",
       "    <tr>\n",
       "      <th>0</th>\n",
       "      <td>750000</td>\n",
       "      <td>20-20 17-17-17 14-35-14</td>\n",
       "    </tr>\n",
       "    <tr>\n",
       "      <th>1</th>\n",
       "      <td>750001</td>\n",
       "      <td>DAP 28-28 10-26-26</td>\n",
       "    </tr>\n",
       "    <tr>\n",
       "      <th>2</th>\n",
       "      <td>750002</td>\n",
       "      <td>10-26-26 14-35-14 DAP</td>\n",
       "    </tr>\n",
       "    <tr>\n",
       "      <th>3</th>\n",
       "      <td>750003</td>\n",
       "      <td>17-17-17 10-26-26 14-35-14</td>\n",
       "    </tr>\n",
       "    <tr>\n",
       "      <th>4</th>\n",
       "      <td>750004</td>\n",
       "      <td>Urea 28-28 17-17-17</td>\n",
       "    </tr>\n",
       "  </tbody>\n",
       "</table>\n",
       "</div>"
      ],
      "text/plain": [
       "       id             Fertilizer Name\n",
       "0  750000     20-20 17-17-17 14-35-14\n",
       "1  750001          DAP 28-28 10-26-26\n",
       "2  750002       10-26-26 14-35-14 DAP\n",
       "3  750003  17-17-17 10-26-26 14-35-14\n",
       "4  750004         Urea 28-28 17-17-17"
      ]
     },
     "execution_count": 17,
     "metadata": {},
     "output_type": "execute_result"
    }
   ],
   "source": [
    "sub = pd.read_csv(CFG.sample_sub_path)\n",
    "sub[CFG.target] = final_predictions\n",
    "sub.to_csv(f\"sub_logistic-regression_{np.mean(scores['LogisticRegression']):.6f}.csv\", index=False)\n",
    "sub.head()"
   ]
  },
  {
   "cell_type": "markdown",
   "id": "b1135ca0",
   "metadata": {
    "papermill": {
     "duration": 0.011612,
     "end_time": "2025-06-01T19:22:11.218303",
     "exception": false,
     "start_time": "2025-06-01T19:22:11.206691",
     "status": "completed"
    },
    "tags": []
   },
   "source": [
    "# Results"
   ]
  },
  {
   "cell_type": "code",
   "execution_count": 18,
   "id": "bbaaa2cd",
   "metadata": {
    "execution": {
     "iopub.execute_input": "2025-06-01T19:22:11.244183Z",
     "iopub.status.busy": "2025-06-01T19:22:11.243911Z",
     "iopub.status.idle": "2025-06-01T19:22:11.672284Z",
     "shell.execute_reply": "2025-06-01T19:22:11.671480Z"
    },
    "papermill": {
     "duration": 0.443832,
     "end_time": "2025-06-01T19:22:11.673704",
     "exception": false,
     "start_time": "2025-06-01T19:22:11.229872",
     "status": "completed"
    },
    "tags": []
   },
   "outputs": [
    {
     "data": {
      "image/png": "[encoded data removed]",
      "text/plain": [
       "<Figure size 1500x200 with 2 Axes>"
      ]
     },
     "metadata": {},
     "output_type": "display_data"
    }
   ],
   "source": [
    "scores = pd.DataFrame(scores)\n",
    "mean_scores = scores.mean().sort_values(ascending=False)\n",
    "order = scores.mean().sort_values(ascending=False).index.tolist()\n",
    "\n",
    "min_score = mean_scores.min()\n",
    "max_score = mean_scores.max()\n",
    "padding = (max_score - min_score) * 0.5\n",
    "lower_limit = min_score - padding\n",
    "upper_limit = max_score + padding\n",
    "\n",
    "fig, axs = plt.subplots(1, 2, figsize=(15, scores.shape[1] * 0.4))\n",
    "\n",
    "boxplot = sns.boxplot(data=scores, order=order, ax=axs[0], orient=\"h\", color=\"grey\")\n",
    "axs[0].set_title(f\"Fold MAP@3\")\n",
    "axs[0].set_xlabel(\"\")\n",
    "axs[0].set_ylabel(\"\")\n",
    "\n",
    "barplot = sns.barplot(x=mean_scores.values, y=mean_scores.index, ax=axs[1], color=\"grey\")\n",
    "axs[1].set_title(f\"Mean MAP@3\")\n",
    "axs[1].set_xlabel(\"\")\n",
    "axs[1].set_xlim(left=lower_limit, right=upper_limit)\n",
    "axs[1].set_ylabel(\"\")\n",
    "\n",
    "for i, (score, model) in enumerate(zip(mean_scores.values, mean_scores.index)):\n",
    "    color = \"cyan\" if \"logistic\" in model.lower() else \"grey\"\n",
    "    barplot.patches[i].set_facecolor(color)\n",
    "    boxplot.patches[i].set_facecolor(color)\n",
    "    barplot.text(score, i, round(score, 6), va=\"center\")\n",
    "\n",
    "plt.tight_layout()\n",
    "plt.show()"
   ]
  }
 ],
 "metadata": {
  "kaggle": {
   "accelerator": "gpu",
   "dataSources": [
    {
     "databundleVersionId": 12184666,
     "sourceId": 91717,
     "sourceType": "competition"
    }
   ],
   "dockerImageVersionId": 31040,
   "isGpuEnabled": true,
   "isInternetEnabled": true,
   "language": "python",
   "sourceType": "notebook"
  },
  "kernelspec": {
   "display_name": "Python 3",
   "language": "python",
   "name": "python3"
  },
  "language_info": {
   "codemirror_mode": {
    "name": "ipython",
    "version": 3
   },
   "file_extension": ".py",
   "mimetype": "text/x-python",
   "name": "python",
   "nbconvert_exporter": "python",
   "pygments_lexer": "ipython3",
   "version": "3.11.11"
  },
  "papermill": {
   "default_parameters": {},
   "duration": 2211.404815,
   "end_time": "2025-06-01T19:22:12.504970",
   "environment_variables": {},
   "exception": null,
   "input_path": "__notebook__.ipynb",
   "output_path": "__notebook__.ipynb",
   "parameters": {},
   "start_time": "2025-06-01T18:45:21.100155",
   "version": "2.6.0"
  }
 },
 "nbformat": 4,
 "nbformat_minor": 5
}
