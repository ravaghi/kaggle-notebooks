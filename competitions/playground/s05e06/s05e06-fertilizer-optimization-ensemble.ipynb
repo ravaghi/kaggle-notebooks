{
 "cells": [
  {
   "cell_type": "markdown",
   "id": "28a9aaf8",
   "metadata": {
    "papermill": {
     "duration": 0.003534,
     "end_time": "2025-06-01T14:31:25.971139",
     "exception": false,
     "start_time": "2025-06-01T14:31:25.967605",
     "status": "completed"
    },
    "tags": []
   },
   "source": [
    "# Imports and configs"
   ]
  },
  {
   "cell_type": "code",
   "execution_count": 1,
   "id": "047f3c80",
   "metadata": {
    "_kg_hide-output": true,
    "execution": {
     "iopub.execute_input": "2025-06-01T14:31:25.978294Z",
     "iopub.status.busy": "2025-06-01T14:31:25.978033Z",
     "iopub.status.idle": "2025-06-01T14:31:33.292137Z",
     "shell.execute_reply": "2025-06-01T14:31:33.291406Z"
    },
    "papermill": {
     "duration": 7.319081,
     "end_time": "2025-06-01T14:31:33.293448",
     "exception": false,
     "start_time": "2025-06-01T14:31:25.974367",
     "status": "completed"
    },
    "tags": []
   },
   "outputs": [
    {
     "name": "stdout",
     "output_type": "stream",
     "text": [
      "\u001b[2K   \u001b[90m━━━━━━━━━━━━━━━━━━━━━━━━━━━━━━━━━━━━━━━━\u001b[0m \u001b[32m13.3/13.3 MB\u001b[0m \u001b[31m100.8 MB/s\u001b[0m eta \u001b[36m0:00:00\u001b[0m\r\n",
      "\u001b[?25h\u001b[31mERROR: pip's dependency resolver does not currently take into account all the packages that are installed. This behaviour is the source of the following dependency conflicts.\r\n",
      "cesium 0.12.4 requires numpy<3.0,>=2.0, but you have numpy 1.26.4 which is incompatible.\u001b[0m\u001b[31m\r\n",
      "\u001b[0m"
     ]
    }
   ],
   "source": [
    "!pip install -q scikit-learn==1.5.2"
   ]
  },
  {
   "cell_type": "code",
   "execution_count": 2,
   "id": "d43cd878",
   "metadata": {
    "execution": {
     "iopub.execute_input": "2025-06-01T14:31:33.300993Z",
     "iopub.status.busy": "2025-06-01T14:31:33.300557Z",
     "iopub.status.idle": "2025-06-01T14:31:40.632302Z",
     "shell.execute_reply": "2025-06-01T14:31:40.631677Z"
    },
    "papermill": {
     "duration": 7.336832,
     "end_time": "2025-06-01T14:31:40.633689",
     "exception": false,
     "start_time": "2025-06-01T14:31:33.296857",
     "status": "completed"
    },
    "tags": []
   },
   "outputs": [],
   "source": [
    "from lightgbm import LGBMClassifier, log_evaluation, early_stopping\n",
    "from sklearn.linear_model import LogisticRegression\n",
    "from sklearn.model_selection import StratifiedKFold\n",
    "from sklearn.preprocessing import LabelEncoder\n",
    "from sklearn.base import clone\n",
    "from catboost import CatBoostClassifier\n",
    "from xgboost import XGBClassifier\n",
    "import matplotlib.pyplot as plt\n",
    "import seaborn as sns\n",
    "import pandas as pd\n",
    "import numpy as np\n",
    "import warnings\n",
    "import optuna\n",
    "import json\n",
    "import gc\n",
    "\n",
    "warnings.filterwarnings(\"ignore\")"
   ]
  },
  {
   "cell_type": "code",
   "execution_count": 3,
   "id": "c1e80ec4",
   "metadata": {
    "execution": {
     "iopub.execute_input": "2025-06-01T14:31:40.640886Z",
     "iopub.status.busy": "2025-06-01T14:31:40.640521Z",
     "iopub.status.idle": "2025-06-01T14:31:40.644142Z",
     "shell.execute_reply": "2025-06-01T14:31:40.643618Z"
    },
    "papermill": {
     "duration": 0.008197,
     "end_time": "2025-06-01T14:31:40.645142",
     "exception": false,
     "start_time": "2025-06-01T14:31:40.636945",
     "status": "completed"
    },
    "tags": []
   },
   "outputs": [],
   "source": [
    "class CFG:\n",
    "    train_path = \"/kaggle/input/playground-series-s5e6/train.csv\"\n",
    "    test_path = \"/kaggle/input/playground-series-s5e6/test.csv\"\n",
    "    sample_sub_path = \"/kaggle/input/playground-series-s5e6/sample_submission.csv\"\n",
    "    \n",
    "    target = \"Fertilizer Name\"\n",
    "    n_folds = 5\n",
    "    seed = 42"
   ]
  },
  {
   "cell_type": "markdown",
   "id": "cd5400cb",
   "metadata": {
    "papermill": {
     "duration": 0.002673,
     "end_time": "2025-06-01T14:31:40.650752",
     "exception": false,
     "start_time": "2025-06-01T14:31:40.648079",
     "status": "completed"
    },
    "tags": []
   },
   "source": [
    "# Data loading and preprocessing"
   ]
  },
  {
   "cell_type": "code",
   "execution_count": 4,
   "id": "10f38c33",
   "metadata": {
    "execution": {
     "iopub.execute_input": "2025-06-01T14:31:40.657188Z",
     "iopub.status.busy": "2025-06-01T14:31:40.657007Z",
     "iopub.status.idle": "2025-06-01T14:31:42.059306Z",
     "shell.execute_reply": "2025-06-01T14:31:42.058662Z"
    },
    "papermill": {
     "duration": 1.407091,
     "end_time": "2025-06-01T14:31:42.060647",
     "exception": false,
     "start_time": "2025-06-01T14:31:40.653556",
     "status": "completed"
    },
    "tags": []
   },
   "outputs": [],
   "source": [
    "train = pd.read_csv(CFG.train_path, index_col=\"id\")\n",
    "test = pd.read_csv(CFG.test_path, index_col=\"id\")\n",
    "\n",
    "cat_cols = train.select_dtypes(include=\"object\").columns.tolist()\n",
    "cat_cols = [c for c in cat_cols if c != CFG.target]\n",
    "train[cat_cols] = train[cat_cols].astype(str).astype(\"category\")\n",
    "test[cat_cols] = test[cat_cols].astype(str).astype(\"category\")\n",
    "\n",
    "label_encoder = LabelEncoder()\n",
    "train[CFG.target] = label_encoder.fit_transform(train[CFG.target])\n",
    "\n",
    "X = train.drop(CFG.target, axis=1)\n",
    "y = train[CFG.target]\n",
    "X_test = test"
   ]
  },
  {
   "cell_type": "markdown",
   "id": "72a9f7c6",
   "metadata": {
    "papermill": {
     "duration": 0.002738,
     "end_time": "2025-06-01T14:31:42.066727",
     "exception": false,
     "start_time": "2025-06-01T14:31:42.063989",
     "status": "completed"
    },
    "tags": []
   },
   "source": [
    "# Training base models"
   ]
  },
  {
   "cell_type": "code",
   "execution_count": 5,
   "id": "ae6928aa",
   "metadata": {
    "execution": {
     "iopub.execute_input": "2025-06-01T14:31:42.073470Z",
     "iopub.status.busy": "2025-06-01T14:31:42.073242Z",
     "iopub.status.idle": "2025-06-01T14:31:42.077717Z",
     "shell.execute_reply": "2025-06-01T14:31:42.077050Z"
    },
    "papermill": {
     "duration": 0.009175,
     "end_time": "2025-06-01T14:31:42.078807",
     "exception": false,
     "start_time": "2025-06-01T14:31:42.069632",
     "status": "completed"
    },
    "tags": []
   },
   "outputs": [],
   "source": [
    "def map3(y_true, y_pred_probs):    \n",
    "    y_true = y_true.values.tolist()\n",
    "    y_preds = np.argsort(y_pred_probs)[:,-3:][::-1]    \n",
    "    \n",
    "    score = 0\n",
    "    for i in range(len(y_true)):\n",
    "        for j in range(3):\n",
    "            if y_true[i] == y_preds[i][j]:\n",
    "                score += 1/(j+1)\n",
    "    \n",
    "    return score / len(y_true)"
   ]
  },
  {
   "cell_type": "code",
   "execution_count": 6,
   "id": "7885ca07",
   "metadata": {
    "execution": {
     "iopub.execute_input": "2025-06-01T14:31:42.085526Z",
     "iopub.status.busy": "2025-06-01T14:31:42.085245Z",
     "iopub.status.idle": "2025-06-01T14:31:42.093687Z",
     "shell.execute_reply": "2025-06-01T14:31:42.093204Z"
    },
    "papermill": {
     "duration": 0.012992,
     "end_time": "2025-06-01T14:31:42.094677",
     "exception": false,
     "start_time": "2025-06-01T14:31:42.081685",
     "status": "completed"
    },
    "tags": []
   },
   "outputs": [],
   "source": [
    "class Trainer:\n",
    "    def __init__(self, model, config=CFG):\n",
    "        self.model = model\n",
    "        self.config = config\n",
    "\n",
    "    def fit_predict(self, X, y, X_test, fit_args={}):\n",
    "        print(f\"Training {self.model.__class__.__name__}\\n\")\n",
    "        \n",
    "        scores = []        \n",
    "        oof_pred_probs = np.zeros((X.shape[0], y.nunique()))\n",
    "        test_pred_probs = np.zeros((X_test.shape[0], y.nunique()))\n",
    "        \n",
    "        skf = StratifiedKFold(n_splits=self.config.n_folds, random_state=self.config.seed, shuffle=True)\n",
    "        for fold_idx, (train_idx, val_idx) in enumerate(skf.split(X, y)):\n",
    "            X_train, X_val = X.iloc[train_idx], X.iloc[val_idx]\n",
    "            y_train, y_val = y[train_idx], y[val_idx]\n",
    "            \n",
    "            model = clone(self.model)\n",
    "            \n",
    "            if fit_args:\n",
    "                model.fit(X_train, y_train, **fit_args, eval_set=[(X_val, y_val)])\n",
    "            else:\n",
    "                model.fit(X_train, y_train)\n",
    "            \n",
    "            y_pred_probs = model.predict_proba(X_val)\n",
    "            oof_pred_probs[val_idx] = y_pred_probs\n",
    "            \n",
    "            temp_test_pred_probs = model.predict_proba(X_test)\n",
    "            test_pred_probs += temp_test_pred_probs / self.config.n_folds\n",
    "            \n",
    "            score = map3(y_val, y_pred_probs)\n",
    "            scores.append(score)\n",
    "            \n",
    "            del model, X_train, y_train, X_val, y_val, y_pred_probs\n",
    "            gc.collect()\n",
    "            \n",
    "            if fit_args:\n",
    "                print(f\"\\n--- Fold {fold_idx + 1} - MAP@3: {score:.6f}\\n\\n\")\n",
    "            else:\n",
    "                print(f\"--- Fold {fold_idx + 1} - MAP@3: {score:.6f}\")\n",
    "                            \n",
    "        overall_score = map3(y, oof_pred_probs)\n",
    "            \n",
    "        print(f\"\\n------ Overall MAP@3: {overall_score:.6f} | Average MAP@3: {np.mean(scores):.6f} ± {np.std(scores):.6f}\")\n",
    "        \n",
    "        return oof_pred_probs, test_pred_probs, scores\n",
    "\n",
    "    def tune(self, X, y):        \n",
    "        scores = []        \n",
    "        \n",
    "        skf = StratifiedKFold(n_splits=self.config.n_folds, random_state=self.config.seed, shuffle=True)\n",
    "        for fold_idx, (train_idx, val_idx) in enumerate(skf.split(X, y)):\n",
    "            X_train, X_val = X.iloc[train_idx], X.iloc[val_idx]\n",
    "            y_train, y_val = y[train_idx], y[val_idx]\n",
    "            \n",
    "            model = clone(self.model)\n",
    "            model.fit(X_train, y_train)\n",
    "            \n",
    "            y_pred_probs = model.predict_proba(X_val)            \n",
    "            score = map3(y_val, y_pred_probs)\n",
    "            scores.append(score)\n",
    "            \n",
    "            del model, X_train, y_train, X_val, y_val, y_pred_probs\n",
    "            gc.collect()\n",
    "            \n",
    "        return np.mean(scores)"
   ]
  },
  {
   "cell_type": "code",
   "execution_count": 7,
   "id": "60c51e6f",
   "metadata": {
    "_kg_hide-input": true,
    "execution": {
     "iopub.execute_input": "2025-06-01T14:31:42.101709Z",
     "iopub.status.busy": "2025-06-01T14:31:42.101259Z",
     "iopub.status.idle": "2025-06-01T14:31:42.105231Z",
     "shell.execute_reply": "2025-06-01T14:31:42.104725Z"
    },
    "papermill": {
     "duration": 0.008619,
     "end_time": "2025-06-01T14:31:42.106294",
     "exception": false,
     "start_time": "2025-06-01T14:31:42.097675",
     "status": "completed"
    },
    "tags": []
   },
   "outputs": [],
   "source": [
    "lgbm_params = {\n",
    "    \"boosting_type\": \"gbdt\",\n",
    "    \"device\": \"gpu\",\n",
    "    \"n_estimators\": 5000,\n",
    "    \"n_jobs\": -1,\n",
    "    \"verbose\": -1\n",
    "}\n",
    "\n",
    "lgbm_goss_params = {\n",
    "    \"boosting_type\": \"goss\",\n",
    "    \"device\": \"gpu\",\n",
    "    \"n_estimators\": 5000,\n",
    "    \"n_jobs\": -1,\n",
    "    \"verbose\": -1\n",
    "}\n",
    "\n",
    "xgb_params = {\n",
    "    \"early_stopping_rounds\": 100,\n",
    "    \"device\": \"cuda\",\n",
    "    \"enable_categorical\": True,\n",
    "    \"n_estimators\": 5000,\n",
    "    \"n_jobs\": -1,\n",
    "    \"verbosity\": 0\n",
    "}\n",
    "\n",
    "cb_params = {\n",
    "    \"iterations\": 5000,\n",
    "    \"task_type\": \"GPU\",\n",
    "    \"verbose\": False\n",
    "}"
   ]
  },
  {
   "cell_type": "code",
   "execution_count": 8,
   "id": "4712e150",
   "metadata": {
    "execution": {
     "iopub.execute_input": "2025-06-01T14:31:42.113019Z",
     "iopub.status.busy": "2025-06-01T14:31:42.112837Z",
     "iopub.status.idle": "2025-06-01T14:31:42.116019Z",
     "shell.execute_reply": "2025-06-01T14:31:42.115338Z"
    },
    "papermill": {
     "duration": 0.007731,
     "end_time": "2025-06-01T14:31:42.117123",
     "exception": false,
     "start_time": "2025-06-01T14:31:42.109392",
     "status": "completed"
    },
    "tags": []
   },
   "outputs": [],
   "source": [
    "scores = {}\n",
    "oof_pred_probs = {}\n",
    "test_pred_probs = {}"
   ]
  },
  {
   "cell_type": "code",
   "execution_count": 9,
   "id": "2930e599",
   "metadata": {
    "execution": {
     "iopub.execute_input": "2025-06-01T14:31:42.124042Z",
     "iopub.status.busy": "2025-06-01T14:31:42.123526Z",
     "iopub.status.idle": "2025-06-01T14:41:37.824860Z",
     "shell.execute_reply": "2025-06-01T14:41:37.823984Z"
    },
    "papermill": {
     "duration": 595.706037,
     "end_time": "2025-06-01T14:41:37.826145",
     "exception": false,
     "start_time": "2025-06-01T14:31:42.120108",
     "status": "completed"
    },
    "tags": []
   },
   "outputs": [
    {
     "name": "stdout",
     "output_type": "stream",
     "text": [
      "Training LGBMClassifier\n",
      "\n"
     ]
    },
    {
     "name": "stderr",
     "output_type": "stream",
     "text": [
      "1 warning generated.\n",
      "1 warning generated.\n",
      "1 warning generated.\n",
      "1 warning generated.\n",
      "1 warning generated.\n",
      "1 warning generated.\n",
      "1 warning generated.\n",
      "1 warning generated.\n",
      "1 warning generated.\n",
      "1 warning generated.\n",
      "1 warning generated.\n",
      "1 warning generated.\n",
      "1 warning generated.\n",
      "1 warning generated.\n",
      "1 warning generated.\n",
      "1 warning generated.\n",
      "1 warning generated.\n",
      "1 warning generated.\n",
      "1 warning generated.\n",
      "1 warning generated.\n",
      "1 warning generated.\n",
      "1 warning generated.\n",
      "1 warning generated.\n",
      "1 warning generated.\n",
      "1 warning generated.\n",
      "1 warning generated.\n",
      "1 warning generated.\n",
      "1 warning generated.\n",
      "1 warning generated.\n",
      "1 warning generated.\n",
      "1 warning generated.\n",
      "1 warning generated.\n",
      "1 warning generated.\n"
     ]
    },
    {
     "name": "stdout",
     "output_type": "stream",
     "text": [
      "Training until validation scores don't improve for 100 rounds\n",
      "[250]\tvalid_0's multi_logloss: 1.92065\n",
      "[500]\tvalid_0's multi_logloss: 1.91923\n",
      "Early stopping, best iteration is:\n",
      "[589]\tvalid_0's multi_logloss: 1.91904\n",
      "\n",
      "--- Fold 1 - MAP@3: 0.269371\n",
      "\n",
      "\n",
      "Training until validation scores don't improve for 100 rounds\n",
      "[250]\tvalid_0's multi_logloss: 1.92058\n",
      "[500]\tvalid_0's multi_logloss: 1.91921\n",
      "[750]\tvalid_0's multi_logloss: 1.91875\n",
      "Early stopping, best iteration is:\n",
      "[686]\tvalid_0's multi_logloss: 1.91866\n",
      "\n",
      "--- Fold 2 - MAP@3: 0.266213\n",
      "\n",
      "\n",
      "Training until validation scores don't improve for 100 rounds\n",
      "[250]\tvalid_0's multi_logloss: 1.92038\n",
      "[500]\tvalid_0's multi_logloss: 1.9185\n",
      "Early stopping, best iteration is:\n",
      "[622]\tvalid_0's multi_logloss: 1.91833\n",
      "\n",
      "--- Fold 3 - MAP@3: 0.268231\n",
      "\n",
      "\n",
      "Training until validation scores don't improve for 100 rounds\n",
      "[250]\tvalid_0's multi_logloss: 1.9207\n",
      "[500]\tvalid_0's multi_logloss: 1.91943\n",
      "Early stopping, best iteration is:\n",
      "[565]\tvalid_0's multi_logloss: 1.91925\n",
      "\n",
      "--- Fold 4 - MAP@3: 0.268784\n",
      "\n",
      "\n",
      "Training until validation scores don't improve for 100 rounds\n",
      "[250]\tvalid_0's multi_logloss: 1.92035\n",
      "[500]\tvalid_0's multi_logloss: 1.91863\n",
      "Early stopping, best iteration is:\n",
      "[529]\tvalid_0's multi_logloss: 1.91848\n",
      "\n",
      "--- Fold 5 - MAP@3: 0.268313\n",
      "\n",
      "\n",
      "\n",
      "------ Overall MAP@3: 0.268304 | Average MAP@3: 0.268183 ± 0.001065\n"
     ]
    }
   ],
   "source": [
    "lgbm_model = LGBMClassifier(**lgbm_params)\n",
    "lgbm_trainer = Trainer(lgbm_model)\n",
    "\n",
    "fit_args = {\n",
    "    \"callbacks\": [\n",
    "        log_evaluation(period=250), \n",
    "        early_stopping(stopping_rounds=100)\n",
    "    ]\n",
    "}\n",
    "\n",
    "oof_pred_probs[\"LightGBM (gbdt)\"], test_pred_probs[\"LightGBM (gbdt)\"], scores[\"LightGBM (gbdt)\"] = lgbm_trainer.fit_predict(X, y, X_test, fit_args)"
   ]
  },
  {
   "cell_type": "code",
   "execution_count": 10,
   "id": "258ff777",
   "metadata": {
    "execution": {
     "iopub.execute_input": "2025-06-01T14:41:37.836735Z",
     "iopub.status.busy": "2025-06-01T14:41:37.836498Z",
     "iopub.status.idle": "2025-06-01T14:46:23.088026Z",
     "shell.execute_reply": "2025-06-01T14:46:23.086981Z"
    },
    "papermill": {
     "duration": 285.258129,
     "end_time": "2025-06-01T14:46:23.089307",
     "exception": false,
     "start_time": "2025-06-01T14:41:37.831178",
     "status": "completed"
    },
    "tags": []
   },
   "outputs": [
    {
     "name": "stdout",
     "output_type": "stream",
     "text": [
      "Training LGBMClassifier\n",
      "\n",
      "Training until validation scores don't improve for 100 rounds\n",
      "Early stopping, best iteration is:\n",
      "[140]\tvalid_0's multi_logloss: 1.93111\n",
      "\n",
      "--- Fold 1 - MAP@3: 0.269193\n",
      "\n",
      "\n",
      "Training until validation scores don't improve for 100 rounds\n",
      "Early stopping, best iteration is:\n",
      "[114]\tvalid_0's multi_logloss: 1.93067\n",
      "\n",
      "--- Fold 2 - MAP@3: 0.267617\n",
      "\n",
      "\n",
      "Training until validation scores don't improve for 100 rounds\n",
      "[250]\tvalid_0's multi_logloss: 1.93209\n",
      "Early stopping, best iteration is:\n",
      "[152]\tvalid_0's multi_logloss: 1.93033\n",
      "\n",
      "--- Fold 3 - MAP@3: 0.268884\n",
      "\n",
      "\n",
      "Training until validation scores don't improve for 100 rounds\n",
      "Early stopping, best iteration is:\n",
      "[104]\tvalid_0's multi_logloss: 1.93048\n",
      "\n",
      "--- Fold 4 - MAP@3: 0.269047\n",
      "\n",
      "\n",
      "Training until validation scores don't improve for 100 rounds\n",
      "Early stopping, best iteration is:\n",
      "[134]\tvalid_0's multi_logloss: 1.93042\n",
      "\n",
      "--- Fold 5 - MAP@3: 0.269334\n",
      "\n",
      "\n",
      "\n",
      "------ Overall MAP@3: 0.268748 | Average MAP@3: 0.268815 ± 0.000618\n"
     ]
    }
   ],
   "source": [
    "lgb_goss_model = LGBMClassifier(**lgbm_goss_params)\n",
    "lgb_goss_trainer = Trainer(lgb_goss_model)\n",
    "\n",
    "fit_args = {\n",
    "    \"callbacks\": [\n",
    "        log_evaluation(period=250), \n",
    "        early_stopping(stopping_rounds=100)\n",
    "    ]\n",
    "}\n",
    "\n",
    "oof_pred_probs[\"LightGBM (goss)\"], test_pred_probs[\"LightGBM (goss)\"], scores[\"LightGBM (goss)\"] = lgb_goss_trainer.fit_predict(X, y, X_test, fit_args)"
   ]
  },
  {
   "cell_type": "code",
   "execution_count": 11,
   "id": "3213d7f5",
   "metadata": {
    "execution": {
     "iopub.execute_input": "2025-06-01T14:46:23.101709Z",
     "iopub.status.busy": "2025-06-01T14:46:23.101471Z",
     "iopub.status.idle": "2025-06-01T14:47:54.068973Z",
     "shell.execute_reply": "2025-06-01T14:47:54.068126Z"
    },
    "papermill": {
     "duration": 90.975196,
     "end_time": "2025-06-01T14:47:54.070245",
     "exception": false,
     "start_time": "2025-06-01T14:46:23.095049",
     "status": "completed"
    },
    "tags": []
   },
   "outputs": [
    {
     "name": "stdout",
     "output_type": "stream",
     "text": [
      "Training XGBClassifier\n",
      "\n",
      "[0]\tvalidation_0-mlogloss:1.94328\n",
      "[250]\tvalidation_0-mlogloss:1.91787\n",
      "[267]\tvalidation_0-mlogloss:1.91823\n",
      "\n",
      "--- Fold 1 - MAP@3: 0.266897\n",
      "\n",
      "\n",
      "[0]\tvalidation_0-mlogloss:1.94315\n",
      "[250]\tvalidation_0-mlogloss:1.91715\n",
      "[295]\tvalidation_0-mlogloss:1.91779\n",
      "\n",
      "--- Fold 2 - MAP@3: 0.266294\n",
      "\n",
      "\n",
      "[0]\tvalidation_0-mlogloss:1.94324\n",
      "[250]\tvalidation_0-mlogloss:1.91610\n",
      "[278]\tvalidation_0-mlogloss:1.91657\n",
      "\n",
      "--- Fold 3 - MAP@3: 0.267139\n",
      "\n",
      "\n",
      "[0]\tvalidation_0-mlogloss:1.94315\n",
      "[250]\tvalidation_0-mlogloss:1.91787\n",
      "[274]\tvalidation_0-mlogloss:1.91836\n",
      "\n",
      "--- Fold 4 - MAP@3: 0.267704\n",
      "\n",
      "\n",
      "[0]\tvalidation_0-mlogloss:1.94327\n",
      "[250]\tvalidation_0-mlogloss:1.91712\n",
      "[278]\tvalidation_0-mlogloss:1.91768\n",
      "\n",
      "--- Fold 5 - MAP@3: 0.265761\n",
      "\n",
      "\n",
      "\n",
      "------ Overall MAP@3: 0.267298 | Average MAP@3: 0.266759 ± 0.000674\n"
     ]
    }
   ],
   "source": [
    "xgb_model = XGBClassifier(**xgb_params)\n",
    "xgb_trainer = Trainer(xgb_model)\n",
    "\n",
    "fit_args = {\n",
    "    \"verbose\": 250\n",
    "}\n",
    "\n",
    "oof_pred_probs[\"XGBoost\"], test_pred_probs[\"XGBoost\"], scores[\"XGBoost\"] = xgb_trainer.fit_predict(X, y, X_test, fit_args)"
   ]
  },
  {
   "cell_type": "code",
   "execution_count": 12,
   "id": "84df56db",
   "metadata": {
    "execution": {
     "iopub.execute_input": "2025-06-01T14:47:54.083719Z",
     "iopub.status.busy": "2025-06-01T14:47:54.083491Z",
     "iopub.status.idle": "2025-06-01T14:51:24.308171Z",
     "shell.execute_reply": "2025-06-01T14:51:24.307214Z"
    },
    "papermill": {
     "duration": 210.232599,
     "end_time": "2025-06-01T14:51:24.309361",
     "exception": false,
     "start_time": "2025-06-01T14:47:54.076762",
     "status": "completed"
    },
    "tags": []
   },
   "outputs": [
    {
     "name": "stdout",
     "output_type": "stream",
     "text": [
      "Training CatBoostClassifier\n",
      "\n",
      "Learning rate set to 0.099306\n",
      "0:\tlearn: 1.9450546\ttest: 1.9451510\tbest: 1.9451510 (0)\ttotal: 5.78s\tremaining: 8h 1m 10s\n",
      "250:\tlearn: 1.9191413\ttest: 1.9295240\tbest: 1.9295240 (250)\ttotal: 10.3s\tremaining: 3m 14s\n",
      "500:\tlearn: 1.9070171\ttest: 1.9260563\tbest: 1.9260563 (500)\ttotal: 14.8s\tremaining: 2m 12s\n",
      "750:\tlearn: 1.8975360\ttest: 1.9243104\tbest: 1.9243104 (750)\ttotal: 19.4s\tremaining: 1m 49s\n",
      "1000:\tlearn: 1.8883183\ttest: 1.9231873\tbest: 1.9231873 (1000)\ttotal: 24s\tremaining: 1m 35s\n",
      "1250:\tlearn: 1.8797273\ttest: 1.9225365\tbest: 1.9225365 (1250)\ttotal: 28.6s\tremaining: 1m 25s\n",
      "1500:\tlearn: 1.8716460\ttest: 1.9221627\tbest: 1.9221363 (1489)\ttotal: 33.1s\tremaining: 1m 17s\n",
      "bestTest = 1.9221325\n",
      "bestIteration = 1538\n",
      "Shrink model to first 1539 iterations.\n",
      "\n",
      "--- Fold 1 - MAP@3: 0.268014\n",
      "\n",
      "\n",
      "Learning rate set to 0.099306\n",
      "0:\tlearn: 1.9450487\ttest: 1.9450988\tbest: 1.9450988 (0)\ttotal: 19.1ms\tremaining: 1m 35s\n",
      "250:\tlearn: 1.9195329\ttest: 1.9293200\tbest: 1.9293200 (250)\ttotal: 4.54s\tremaining: 1m 25s\n",
      "500:\tlearn: 1.9078600\ttest: 1.9259606\tbest: 1.9259606 (500)\ttotal: 9.06s\tremaining: 1m 21s\n",
      "750:\tlearn: 1.8978842\ttest: 1.9241667\tbest: 1.9241667 (750)\ttotal: 13.7s\tremaining: 1m 17s\n",
      "1000:\tlearn: 1.8888992\ttest: 1.9231431\tbest: 1.9231392 (995)\ttotal: 18.3s\tremaining: 1m 13s\n",
      "1250:\tlearn: 1.8805779\ttest: 1.9226567\tbest: 1.9226387 (1220)\ttotal: 22.9s\tremaining: 1m 8s\n",
      "1500:\tlearn: 1.8726933\ttest: 1.9223454\tbest: 1.9223454 (1500)\ttotal: 27.5s\tremaining: 1m 4s\n",
      "1750:\tlearn: 1.8650535\ttest: 1.9221977\tbest: 1.9221977 (1750)\ttotal: 32s\tremaining: 59.5s\n",
      "bestTest = 1.922197708\n",
      "bestIteration = 1750\n",
      "Shrink model to first 1751 iterations.\n",
      "\n",
      "--- Fold 2 - MAP@3: 0.266119\n",
      "\n",
      "\n",
      "Learning rate set to 0.099306\n",
      "0:\tlearn: 1.9450752\ttest: 1.9451235\tbest: 1.9451235 (0)\ttotal: 18.7ms\tremaining: 1m 33s\n",
      "250:\tlearn: 1.9193381\ttest: 1.9291688\tbest: 1.9291688 (250)\ttotal: 4.59s\tremaining: 1m 26s\n",
      "500:\tlearn: 1.9070312\ttest: 1.9255054\tbest: 1.9255054 (500)\ttotal: 9.2s\tremaining: 1m 22s\n",
      "750:\tlearn: 1.8968731\ttest: 1.9234348\tbest: 1.9234348 (750)\ttotal: 13.7s\tremaining: 1m 17s\n",
      "1000:\tlearn: 1.8877088\ttest: 1.9223138\tbest: 1.9223058 (999)\ttotal: 18.4s\tremaining: 1m 13s\n",
      "1250:\tlearn: 1.8791998\ttest: 1.9217958\tbest: 1.9217956 (1249)\ttotal: 22.9s\tremaining: 1m 8s\n",
      "1500:\tlearn: 1.8712860\ttest: 1.9215344\tbest: 1.9215202 (1489)\ttotal: 27.5s\tremaining: 1m 4s\n",
      "1750:\tlearn: 1.8636285\ttest: 1.9212269\tbest: 1.9212094 (1733)\ttotal: 32.1s\tremaining: 59.6s\n",
      "bestTest = 1.92111375\n",
      "bestIteration = 1872\n",
      "Shrink model to first 1873 iterations.\n",
      "\n",
      "--- Fold 3 - MAP@3: 0.266971\n",
      "\n",
      "\n",
      "Learning rate set to 0.099306\n",
      "0:\tlearn: 1.9450465\ttest: 1.9451181\tbest: 1.9451181 (0)\ttotal: 20.3ms\tremaining: 1m 41s\n",
      "250:\tlearn: 1.9196508\ttest: 1.9295542\tbest: 1.9295542 (250)\ttotal: 4.54s\tremaining: 1m 25s\n",
      "500:\tlearn: 1.9077688\ttest: 1.9260633\tbest: 1.9260629 (499)\ttotal: 9.12s\tremaining: 1m 21s\n",
      "750:\tlearn: 1.8981992\ttest: 1.9243235\tbest: 1.9243235 (750)\ttotal: 13.7s\tremaining: 1m 17s\n",
      "1000:\tlearn: 1.8891398\ttest: 1.9232079\tbest: 1.9232079 (1000)\ttotal: 18.2s\tremaining: 1m 12s\n",
      "1250:\tlearn: 1.8806948\ttest: 1.9226425\tbest: 1.9226267 (1247)\ttotal: 22.8s\tremaining: 1m 8s\n",
      "1500:\tlearn: 1.8726902\ttest: 1.9222215\tbest: 1.9222098 (1465)\ttotal: 27.5s\tremaining: 1m 3s\n",
      "1750:\tlearn: 1.8649913\ttest: 1.9220385\tbest: 1.9220350 (1749)\ttotal: 32.1s\tremaining: 59.6s\n",
      "bestTest = 1.921940417\n",
      "bestIteration = 1882\n",
      "Shrink model to first 1883 iterations.\n",
      "\n",
      "--- Fold 4 - MAP@3: 0.266116\n",
      "\n",
      "\n",
      "Learning rate set to 0.099306\n",
      "0:\tlearn: 1.9450404\ttest: 1.9450888\tbest: 1.9450888 (0)\ttotal: 20.4ms\tremaining: 1m 41s\n",
      "250:\tlearn: 1.9191873\ttest: 1.9295748\tbest: 1.9295748 (250)\ttotal: 4.56s\tremaining: 1m 26s\n",
      "500:\tlearn: 1.9077371\ttest: 1.9259533\tbest: 1.9259533 (500)\ttotal: 9.09s\tremaining: 1m 21s\n",
      "750:\tlearn: 1.8980221\ttest: 1.9239073\tbest: 1.9238994 (749)\ttotal: 13.7s\tremaining: 1m 17s\n",
      "1000:\tlearn: 1.8891412\ttest: 1.9227529\tbest: 1.9227529 (1000)\ttotal: 18.2s\tremaining: 1m 12s\n",
      "1250:\tlearn: 1.8810567\ttest: 1.9221717\tbest: 1.9221635 (1228)\ttotal: 22.9s\tremaining: 1m 8s\n",
      "1500:\tlearn: 1.8732546\ttest: 1.9218131\tbest: 1.9217977 (1485)\ttotal: 27.5s\tremaining: 1m 4s\n",
      "1750:\tlearn: 1.8659398\ttest: 1.9216004\tbest: 1.9215587 (1679)\ttotal: 32.1s\tremaining: 59.6s\n",
      "bestTest = 1.92155875\n",
      "bestIteration = 1679\n",
      "Shrink model to first 1680 iterations.\n",
      "\n",
      "--- Fold 5 - MAP@3: 0.267457\n",
      "\n",
      "\n",
      "\n",
      "------ Overall MAP@3: 0.268373 | Average MAP@3: 0.266935 ± 0.000745\n"
     ]
    }
   ],
   "source": [
    "cb_model = CatBoostClassifier(**cb_params)\n",
    "cb_trainer = Trainer(cb_model)\n",
    "\n",
    "fit_args = {\n",
    "    \"verbose\": 250,\n",
    "    \"early_stopping_rounds\": 100,\n",
    "    \"use_best_model\": True,\n",
    "    \"cat_features\": cat_cols\n",
    "}\n",
    "\n",
    "oof_pred_probs[\"CatBoost\"], test_pred_probs[\"CatBoost\"], scores[\"CatBoost\"] = cb_trainer.fit_predict(X, y, X_test, fit_args)"
   ]
  },
  {
   "cell_type": "markdown",
   "id": "467e9449",
   "metadata": {
    "papermill": {
     "duration": 0.008155,
     "end_time": "2025-06-01T14:51:24.326169",
     "exception": false,
     "start_time": "2025-06-01T14:51:24.318014",
     "status": "completed"
    },
    "tags": []
   },
   "source": [
    "# Ensembling with LogisticRegression"
   ]
  },
  {
   "cell_type": "code",
   "execution_count": 13,
   "id": "8d91d16a",
   "metadata": {
    "execution": {
     "iopub.execute_input": "2025-06-01T14:51:24.390273Z",
     "iopub.status.busy": "2025-06-01T14:51:24.389769Z",
     "iopub.status.idle": "2025-06-01T14:51:24.535333Z",
     "shell.execute_reply": "2025-06-01T14:51:24.534717Z"
    },
    "papermill": {
     "duration": 0.155868,
     "end_time": "2025-06-01T14:51:24.536674",
     "exception": false,
     "start_time": "2025-06-01T14:51:24.380806",
     "status": "completed"
    },
    "tags": []
   },
   "outputs": [],
   "source": [
    "X = pd.DataFrame(np.concatenate(list(oof_pred_probs.values()), axis=1))\n",
    "X_test = pd.DataFrame(np.concatenate(list(test_pred_probs.values()), axis=1))"
   ]
  },
  {
   "cell_type": "code",
   "execution_count": 14,
   "id": "ce542894",
   "metadata": {
    "execution": {
     "iopub.execute_input": "2025-06-01T14:51:24.555010Z",
     "iopub.status.busy": "2025-06-01T14:51:24.554724Z",
     "iopub.status.idle": "2025-06-01T14:52:02.398150Z",
     "shell.execute_reply": "2025-06-01T14:52:02.397274Z"
    },
    "papermill": {
     "duration": 37.853868,
     "end_time": "2025-06-01T14:52:02.399392",
     "exception": false,
     "start_time": "2025-06-01T14:51:24.545524",
     "status": "completed"
    },
    "tags": []
   },
   "outputs": [
    {
     "name": "stdout",
     "output_type": "stream",
     "text": [
      "Training LogisticRegression\n",
      "\n",
      "--- Fold 1 - MAP@3: 0.268767\n",
      "--- Fold 2 - MAP@3: 0.266380\n",
      "--- Fold 3 - MAP@3: 0.268552\n",
      "--- Fold 4 - MAP@3: 0.268326\n",
      "--- Fold 5 - MAP@3: 0.267452\n",
      "\n",
      "------ Overall MAP@3: 0.268484 | Average MAP@3: 0.267895 ± 0.000880\n"
     ]
    }
   ],
   "source": [
    "lr_model = LogisticRegression()\n",
    "lr_trainer = Trainer(lr_model)\n",
    "\n",
    "_, lr_test_pred_probs, scores[\"LogisticRegression\"] = lr_trainer.fit_predict(X, y, X_test)"
   ]
  },
  {
   "cell_type": "code",
   "execution_count": 15,
   "id": "4de5da01",
   "metadata": {
    "execution": {
     "iopub.execute_input": "2025-06-01T14:52:02.418373Z",
     "iopub.status.busy": "2025-06-01T14:52:02.417822Z",
     "iopub.status.idle": "2025-06-01T14:52:23.236583Z",
     "shell.execute_reply": "2025-06-01T14:52:23.235728Z"
    },
    "papermill": {
     "duration": 20.829538,
     "end_time": "2025-06-01T14:52:23.238132",
     "exception": false,
     "start_time": "2025-06-01T14:52:02.408594",
     "status": "completed"
    },
    "tags": []
   },
   "outputs": [],
   "source": [
    "final_predictions = []\n",
    "for i in np.argsort(lr_test_pred_probs)[:,-3:][::-1]:\n",
    "    prediction = label_encoder.inverse_transform(i)\n",
    "    final_predictions.append(\" \".join(prediction))"
   ]
  },
  {
   "cell_type": "code",
   "execution_count": 16,
   "id": "54c1f3aa",
   "metadata": {
    "execution": {
     "iopub.execute_input": "2025-06-01T14:52:23.257123Z",
     "iopub.status.busy": "2025-06-01T14:52:23.256903Z",
     "iopub.status.idle": "2025-06-01T14:52:23.719372Z",
     "shell.execute_reply": "2025-06-01T14:52:23.718581Z"
    },
    "papermill": {
     "duration": 0.473109,
     "end_time": "2025-06-01T14:52:23.720727",
     "exception": false,
     "start_time": "2025-06-01T14:52:23.247618",
     "status": "completed"
    },
    "tags": []
   },
   "outputs": [
    {
     "data": {
      "text/html": [
       "<div>\n",
       "<style scoped>\n",
       "    .dataframe tbody tr th:only-of-type {\n",
       "        vertical-align: middle;\n",
       "    }\n",
       "\n",
       "    .dataframe tbody tr th {\n",
       "        vertical-align: top;\n",
       "    }\n",
       "\n",
       "    .dataframe thead th {\n",
       "        text-align: right;\n",
       "    }\n",
       "</style>\n",
       "<table border=\"1\" class=\"dataframe\">\n",
       "  <thead>\n",
       "    <tr style=\"text-align: right;\">\n",
       "      <th></th>\n",
       "      <th>id</th>\n",
       "      <th>Fertilizer Name</th>\n",
       "    </tr>\n",
       "  </thead>\n",
       "  <tbody>\n",
       "    <tr>\n",
       "      <th>0</th>\n",
       "      <td>750000</td>\n",
       "      <td>20-20 17-17-17 14-35-14</td>\n",
       "    </tr>\n",
       "    <tr>\n",
       "      <th>1</th>\n",
       "      <td>750001</td>\n",
       "      <td>17-17-17 10-26-26 DAP</td>\n",
       "    </tr>\n",
       "    <tr>\n",
       "      <th>2</th>\n",
       "      <td>750002</td>\n",
       "      <td>Urea DAP 14-35-14</td>\n",
       "    </tr>\n",
       "    <tr>\n",
       "      <th>3</th>\n",
       "      <td>750003</td>\n",
       "      <td>17-17-17 10-26-26 14-35-14</td>\n",
       "    </tr>\n",
       "    <tr>\n",
       "      <th>4</th>\n",
       "      <td>750004</td>\n",
       "      <td>28-28 14-35-14 17-17-17</td>\n",
       "    </tr>\n",
       "  </tbody>\n",
       "</table>\n",
       "</div>"
      ],
      "text/plain": [
       "       id             Fertilizer Name\n",
       "0  750000     20-20 17-17-17 14-35-14\n",
       "1  750001       17-17-17 10-26-26 DAP\n",
       "2  750002           Urea DAP 14-35-14\n",
       "3  750003  17-17-17 10-26-26 14-35-14\n",
       "4  750004     28-28 14-35-14 17-17-17"
      ]
     },
     "execution_count": 16,
     "metadata": {},
     "output_type": "execute_result"
    }
   ],
   "source": [
    "sub = pd.read_csv(CFG.sample_sub_path)\n",
    "sub[CFG.target] = final_predictions\n",
    "sub.to_csv(f\"sub_logistic-regression_{np.mean(scores['LogisticRegression']):.6f}.csv\", index=False)\n",
    "sub.head()"
   ]
  },
  {
   "cell_type": "markdown",
   "id": "69e60caa",
   "metadata": {
    "papermill": {
     "duration": 0.00858,
     "end_time": "2025-06-01T14:52:23.738522",
     "exception": false,
     "start_time": "2025-06-01T14:52:23.729942",
     "status": "completed"
    },
    "tags": []
   },
   "source": [
    "# Results"
   ]
  },
  {
   "cell_type": "code",
   "execution_count": 17,
   "id": "a72e49cd",
   "metadata": {
    "execution": {
     "iopub.execute_input": "2025-06-01T14:52:23.756384Z",
     "iopub.status.busy": "2025-06-01T14:52:23.756156Z",
     "iopub.status.idle": "2025-06-01T14:52:24.139118Z",
     "shell.execute_reply": "2025-06-01T14:52:24.138358Z"
    },
    "papermill": {
     "duration": 0.393245,
     "end_time": "2025-06-01T14:52:24.140258",
     "exception": false,
     "start_time": "2025-06-01T14:52:23.747013",
     "status": "completed"
    },
    "tags": []
   },
   "outputs": [
    {
     "data": {
      "image/png": "[encoded data removed]",
      "text/plain": [
       "<Figure size 1500x200 with 2 Axes>"
      ]
     },
     "metadata": {},
     "output_type": "display_data"
    }
   ],
   "source": [
    "scores = pd.DataFrame(scores)\n",
    "mean_scores = scores.mean().sort_values(ascending=False)\n",
    "order = scores.mean().sort_values(ascending=False).index.tolist()\n",
    "\n",
    "min_score = mean_scores.min()\n",
    "max_score = mean_scores.max()\n",
    "padding = (max_score - min_score) * 0.5\n",
    "lower_limit = min_score - padding\n",
    "upper_limit = max_score + padding\n",
    "\n",
    "fig, axs = plt.subplots(1, 2, figsize=(15, scores.shape[1] * 0.4))\n",
    "\n",
    "boxplot = sns.boxplot(data=scores, order=order, ax=axs[0], orient=\"h\", color=\"grey\")\n",
    "axs[0].set_title(f\"Fold MAP@3\")\n",
    "axs[0].set_xlabel(\"\")\n",
    "axs[0].set_ylabel(\"\")\n",
    "\n",
    "barplot = sns.barplot(x=mean_scores.values, y=mean_scores.index, ax=axs[1], color=\"grey\")\n",
    "axs[1].set_title(f\"Mean MAP@3\")\n",
    "axs[1].set_xlabel(\"\")\n",
    "axs[1].set_xlim(left=lower_limit, right=upper_limit)\n",
    "axs[1].set_ylabel(\"\")\n",
    "\n",
    "for i, (score, model) in enumerate(zip(mean_scores.values, mean_scores.index)):\n",
    "    color = \"cyan\" if \"logistic\" in model.lower() else \"grey\"\n",
    "    barplot.patches[i].set_facecolor(color)\n",
    "    boxplot.patches[i].set_facecolor(color)\n",
    "    barplot.text(score, i, round(score, 6), va=\"center\")\n",
    "\n",
    "plt.tight_layout()\n",
    "plt.show()"
   ]
  }
 ],
 "metadata": {
  "kaggle": {
   "accelerator": "gpu",
   "dataSources": [
    {
     "databundleVersionId": 12184666,
     "sourceId": 91717,
     "sourceType": "competition"
    }
   ],
   "dockerImageVersionId": 31040,
   "isGpuEnabled": true,
   "isInternetEnabled": true,
   "language": "python",
   "sourceType": "notebook"
  },
  "kernelspec": {
   "display_name": "Python 3",
   "language": "python",
   "name": "python3"
  },
  "language_info": {
   "codemirror_mode": {
    "name": "ipython",
    "version": 3
   },
   "file_extension": ".py",
   "mimetype": "text/x-python",
   "name": "python",
   "nbconvert_exporter": "python",
   "pygments_lexer": "ipython3",
   "version": "3.11.11"
  },
  "papermill": {
   "default_parameters": {},
   "duration": 1263.103358,
   "end_time": "2025-06-01T14:52:24.969529",
   "environment_variables": {},
   "exception": null,
   "input_path": "__notebook__.ipynb",
   "output_path": "__notebook__.ipynb",
   "parameters": {},
   "start_time": "2025-06-01T14:31:21.866171",
   "version": "2.6.0"
  }
 },
 "nbformat": 4,
 "nbformat_minor": 5
}
