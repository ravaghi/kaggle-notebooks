{
 "cells": [
  {
   "cell_type": "markdown",
   "id": "dd6c6fe6",
   "metadata": {
    "papermill": {
     "duration": 0.005384,
     "end_time": "2025-06-03T18:16:22.629189",
     "exception": false,
     "start_time": "2025-06-03T18:16:22.623805",
     "status": "completed"
    },
    "tags": []
   },
   "source": [
    "# Imports and configs"
   ]
  },
  {
   "cell_type": "code",
   "execution_count": 1,
   "id": "e83e9b0c",
   "metadata": {
    "_kg_hide-output": true,
    "execution": {
     "iopub.execute_input": "2025-06-03T18:16:22.639655Z",
     "iopub.status.busy": "2025-06-03T18:16:22.639308Z",
     "iopub.status.idle": "2025-06-03T18:16:32.216267Z",
     "shell.execute_reply": "2025-06-03T18:16:32.214916Z"
    },
    "papermill": {
     "duration": 9.584387,
     "end_time": "2025-06-03T18:16:32.218267",
     "exception": false,
     "start_time": "2025-06-03T18:16:22.633880",
     "status": "completed"
    },
    "tags": []
   },
   "outputs": [
    {
     "name": "stdout",
     "output_type": "stream",
     "text": [
      "\u001b[2K   \u001b[90m━━━━━━━━━━━━━━━━━━━━━━━━━━━━━━━━━━━━━━━━\u001b[0m \u001b[32m13.3/13.3 MB\u001b[0m \u001b[31m83.5 MB/s\u001b[0m eta \u001b[36m0:00:00\u001b[0m\r\n",
      "\u001b[?25h\u001b[31mERROR: pip's dependency resolver does not currently take into account all the packages that are installed. This behaviour is the source of the following dependency conflicts.\r\n",
      "cesium 0.12.4 requires numpy<3.0,>=2.0, but you have numpy 1.26.4 which is incompatible.\u001b[0m\u001b[31m\r\n",
      "\u001b[0m"
     ]
    }
   ],
   "source": [
    "!pip install -q scikit-learn==1.5.2"
   ]
  },
  {
   "cell_type": "code",
   "execution_count": 2,
   "id": "028806e7",
   "metadata": {
    "execution": {
     "iopub.execute_input": "2025-06-03T18:16:32.231536Z",
     "iopub.status.busy": "2025-06-03T18:16:32.231136Z",
     "iopub.status.idle": "2025-06-03T18:16:41.908936Z",
     "shell.execute_reply": "2025-06-03T18:16:41.907904Z"
    },
    "papermill": {
     "duration": 9.686678,
     "end_time": "2025-06-03T18:16:41.910843",
     "exception": false,
     "start_time": "2025-06-03T18:16:32.224165",
     "status": "completed"
    },
    "tags": []
   },
   "outputs": [],
   "source": [
    "from lightgbm import LGBMClassifier, log_evaluation, early_stopping\n",
    "from sklearn.feature_selection import mutual_info_classif\n",
    "from sklearn.linear_model import LogisticRegression\n",
    "from sklearn.model_selection import StratifiedKFold\n",
    "from sklearn.preprocessing import LabelEncoder\n",
    "from sklearn.base import clone\n",
    "from catboost import CatBoostClassifier\n",
    "from xgboost import XGBClassifier\n",
    "import matplotlib.pyplot as plt\n",
    "import seaborn as sns\n",
    "import pandas as pd\n",
    "import numpy as np\n",
    "import warnings\n",
    "import joblib\n",
    "import optuna\n",
    "import shutil\n",
    "import glob\n",
    "import json\n",
    "import gc\n",
    "\n",
    "warnings.filterwarnings(\"ignore\")"
   ]
  },
  {
   "cell_type": "code",
   "execution_count": 3,
   "id": "4812b577",
   "metadata": {
    "execution": {
     "iopub.execute_input": "2025-06-03T18:16:41.923459Z",
     "iopub.status.busy": "2025-06-03T18:16:41.922877Z",
     "iopub.status.idle": "2025-06-03T18:16:41.928335Z",
     "shell.execute_reply": "2025-06-03T18:16:41.927536Z"
    },
    "papermill": {
     "duration": 0.013455,
     "end_time": "2025-06-03T18:16:41.929785",
     "exception": false,
     "start_time": "2025-06-03T18:16:41.916330",
     "status": "completed"
    },
    "tags": []
   },
   "outputs": [],
   "source": [
    "class CFG:\n",
    "    train_path = \"/kaggle/input/playground-series-s5e6/train.csv\"\n",
    "    test_path = \"/kaggle/input/playground-series-s5e6/test.csv\"\n",
    "    sample_sub_path = \"/kaggle/input/playground-series-s5e6/sample_submission.csv\"\n",
    "    \n",
    "    target = \"Fertilizer Name\"\n",
    "    n_folds = 5\n",
    "    seed = 42\n",
    "    \n",
    "    run_optuna = False\n",
    "    n_optuna_trials = 250"
   ]
  },
  {
   "cell_type": "markdown",
   "id": "8d994d8a",
   "metadata": {
    "papermill": {
     "duration": 0.004917,
     "end_time": "2025-06-03T18:16:41.940023",
     "exception": false,
     "start_time": "2025-06-03T18:16:41.935106",
     "status": "completed"
    },
    "tags": []
   },
   "source": [
    "# Data loading and preprocessing"
   ]
  },
  {
   "cell_type": "code",
   "execution_count": 4,
   "id": "bf9c644a",
   "metadata": {
    "execution": {
     "iopub.execute_input": "2025-06-03T18:16:41.951447Z",
     "iopub.status.busy": "2025-06-03T18:16:41.951107Z",
     "iopub.status.idle": "2025-06-03T18:16:43.646394Z",
     "shell.execute_reply": "2025-06-03T18:16:43.645394Z"
    },
    "papermill": {
     "duration": 1.703303,
     "end_time": "2025-06-03T18:16:43.648265",
     "exception": false,
     "start_time": "2025-06-03T18:16:41.944962",
     "status": "completed"
    },
    "tags": []
   },
   "outputs": [],
   "source": [
    "train = pd.read_csv(CFG.train_path, index_col=\"id\")\n",
    "test = pd.read_csv(CFG.test_path, index_col=\"id\")\n",
    "\n",
    "cat_cols = train.select_dtypes(include=\"object\").columns.tolist()\n",
    "cat_cols = [c for c in cat_cols if c != CFG.target]\n",
    "train[cat_cols] = train[cat_cols].astype(str).astype(\"category\")\n",
    "test[cat_cols] = test[cat_cols].astype(str).astype(\"category\")\n",
    "\n",
    "label_encoder = LabelEncoder()\n",
    "train[CFG.target] = label_encoder.fit_transform(train[CFG.target])\n",
    "\n",
    "X = train.drop(CFG.target, axis=1)\n",
    "y = train[CFG.target]\n",
    "X_test = test"
   ]
  },
  {
   "cell_type": "code",
   "execution_count": 5,
   "id": "9c00c054",
   "metadata": {
    "execution": {
     "iopub.execute_input": "2025-06-03T18:16:43.659946Z",
     "iopub.status.busy": "2025-06-03T18:16:43.659626Z",
     "iopub.status.idle": "2025-06-03T18:16:50.242239Z",
     "shell.execute_reply": "2025-06-03T18:16:50.241160Z"
    },
    "papermill": {
     "duration": 6.590738,
     "end_time": "2025-06-03T18:16:50.244239",
     "exception": false,
     "start_time": "2025-06-03T18:16:43.653501",
     "status": "completed"
    },
    "tags": []
   },
   "outputs": [
    {
     "data": {
      "text/html": [
       "<style type=\"text/css\">\n",
       "#T_a20cc_row0_col0 {\n",
       "  width: 10em;\n",
       "  background: linear-gradient(90deg, #006837 100.0%, transparent 100.0%);\n",
       "}\n",
       "#T_a20cc_row1_col0 {\n",
       "  width: 10em;\n",
       "  background: linear-gradient(90deg, #199750 90.2%, transparent 90.2%);\n",
       "}\n",
       "#T_a20cc_row2_col0 {\n",
       "  width: 10em;\n",
       "  background: linear-gradient(90deg, #9bd469 71.7%, transparent 71.7%);\n",
       "}\n",
       "#T_a20cc_row3_col0 {\n",
       "  width: 10em;\n",
       "  background: linear-gradient(90deg, #c9e881 63.1%, transparent 63.1%);\n",
       "}\n",
       "#T_a20cc_row4_col0 {\n",
       "  width: 10em;\n",
       "  background: linear-gradient(90deg, #fee491 41.3%, transparent 41.3%);\n",
       "}\n",
       "#T_a20cc_row5_col0 {\n",
       "  width: 10em;\n",
       "  background: linear-gradient(90deg, #fdb163 30.7%, transparent 30.7%);\n",
       "}\n",
       "#T_a20cc_row6_col0 {\n",
       "  width: 10em;\n",
       "  background: linear-gradient(90deg, #fca85e 29.2%, transparent 29.2%);\n",
       "}\n",
       "#T_a20cc_row7_col0 {\n",
       "  width: 10em;\n",
       "  background: linear-gradient(90deg, #ef633f 18.6%, transparent 18.6%);\n",
       "}\n",
       "</style>\n",
       "<table id=\"T_a20cc\">\n",
       "  <thead>\n",
       "    <tr>\n",
       "      <th class=\"blank level0\" >&nbsp;</th>\n",
       "      <th id=\"T_a20cc_level0_col0\" class=\"col_heading level0 col0\" >Mutual Information</th>\n",
       "    </tr>\n",
       "  </thead>\n",
       "  <tbody>\n",
       "    <tr>\n",
       "      <th id=\"T_a20cc_level0_row0\" class=\"row_heading level0 row0\" >Moisture</th>\n",
       "      <td id=\"T_a20cc_row0_col0\" class=\"data row0 col0\" >0.003308</td>\n",
       "    </tr>\n",
       "    <tr>\n",
       "      <th id=\"T_a20cc_level0_row1\" class=\"row_heading level0 row1\" >Phosphorous</th>\n",
       "      <td id=\"T_a20cc_row1_col0\" class=\"data row1 col0\" >0.002984</td>\n",
       "    </tr>\n",
       "    <tr>\n",
       "      <th id=\"T_a20cc_level0_row2\" class=\"row_heading level0 row2\" >Nitrogen</th>\n",
       "      <td id=\"T_a20cc_row2_col0\" class=\"data row2 col0\" >0.002373</td>\n",
       "    </tr>\n",
       "    <tr>\n",
       "      <th id=\"T_a20cc_level0_row3\" class=\"row_heading level0 row3\" >Crop Type</th>\n",
       "      <td id=\"T_a20cc_row3_col0\" class=\"data row3 col0\" >0.002088</td>\n",
       "    </tr>\n",
       "    <tr>\n",
       "      <th id=\"T_a20cc_level0_row4\" class=\"row_heading level0 row4\" >Potassium</th>\n",
       "      <td id=\"T_a20cc_row4_col0\" class=\"data row4 col0\" >0.001367</td>\n",
       "    </tr>\n",
       "    <tr>\n",
       "      <th id=\"T_a20cc_level0_row5\" class=\"row_heading level0 row5\" >Humidity</th>\n",
       "      <td id=\"T_a20cc_row5_col0\" class=\"data row5 col0\" >0.001015</td>\n",
       "    </tr>\n",
       "    <tr>\n",
       "      <th id=\"T_a20cc_level0_row6\" class=\"row_heading level0 row6\" >Temparature</th>\n",
       "      <td id=\"T_a20cc_row6_col0\" class=\"data row6 col0\" >0.000966</td>\n",
       "    </tr>\n",
       "    <tr>\n",
       "      <th id=\"T_a20cc_level0_row7\" class=\"row_heading level0 row7\" >Soil Type</th>\n",
       "      <td id=\"T_a20cc_row7_col0\" class=\"data row7 col0\" >0.000617</td>\n",
       "    </tr>\n",
       "  </tbody>\n",
       "</table>\n"
      ],
      "text/plain": [
       "<pandas.io.formats.style.Styler at 0x7b3d52fbd610>"
      ]
     },
     "execution_count": 5,
     "metadata": {},
     "output_type": "execute_result"
    }
   ],
   "source": [
    "mutual_info = mutual_info_classif(X, y, random_state=CFG.seed, discrete_features=True)\n",
    "\n",
    "mutual_info = pd.Series(mutual_info)\n",
    "mutual_info.index = X.columns\n",
    "mutual_info = pd.DataFrame(mutual_info.sort_values(ascending=False), columns=['Mutual Information'])\n",
    "mutual_info.style.bar(subset=['Mutual Information'], cmap='RdYlGn')"
   ]
  },
  {
   "cell_type": "markdown",
   "id": "3c5814c6",
   "metadata": {
    "papermill": {
     "duration": 0.005081,
     "end_time": "2025-06-03T18:16:50.254896",
     "exception": false,
     "start_time": "2025-06-03T18:16:50.249815",
     "status": "completed"
    },
    "tags": []
   },
   "source": [
    "# Training base models"
   ]
  },
  {
   "cell_type": "code",
   "execution_count": 6,
   "id": "22362f1a",
   "metadata": {
    "execution": {
     "iopub.execute_input": "2025-06-03T18:16:50.267149Z",
     "iopub.status.busy": "2025-06-03T18:16:50.266827Z",
     "iopub.status.idle": "2025-06-03T18:16:50.273572Z",
     "shell.execute_reply": "2025-06-03T18:16:50.272585Z"
    },
    "papermill": {
     "duration": 0.014945,
     "end_time": "2025-06-03T18:16:50.275074",
     "exception": false,
     "start_time": "2025-06-03T18:16:50.260129",
     "status": "completed"
    },
    "tags": []
   },
   "outputs": [],
   "source": [
    "def map3(y_true, y_pred_probs):\n",
    "    y_true = [[x] for x in y_true]\n",
    "    y_pred_probs = np.argsort(y_pred_probs, axis=1)[:, -3:][:, ::-1].tolist()\n",
    "    \n",
    "    def ap3(y_true, y_pred_probs):\n",
    "        y_pred_probs = y_pred_probs[:3]\n",
    "\n",
    "        score = 0.0\n",
    "        num_hits = 0.0\n",
    "\n",
    "        for i,p in enumerate(y_pred_probs):\n",
    "            if p in y_true and p not in y_pred_probs[:i]:\n",
    "                num_hits += 1.0\n",
    "                score += num_hits / (i+1.0)\n",
    "\n",
    "        if not y_true:\n",
    "            return 0.0\n",
    "\n",
    "        return score\n",
    "    \n",
    "    return np.mean([ap3(a,p) for a,p in zip(y_true, y_pred_probs)])"
   ]
  },
  {
   "cell_type": "code",
   "execution_count": 7,
   "id": "df97f016",
   "metadata": {
    "execution": {
     "iopub.execute_input": "2025-06-03T18:16:50.287615Z",
     "iopub.status.busy": "2025-06-03T18:16:50.287232Z",
     "iopub.status.idle": "2025-06-03T18:16:50.298925Z",
     "shell.execute_reply": "2025-06-03T18:16:50.298043Z"
    },
    "papermill": {
     "duration": 0.01951,
     "end_time": "2025-06-03T18:16:50.300252",
     "exception": false,
     "start_time": "2025-06-03T18:16:50.280742",
     "status": "completed"
    },
    "tags": []
   },
   "outputs": [],
   "source": [
    "class Trainer:\n",
    "    def __init__(self, model, config=CFG):\n",
    "        self.model = model\n",
    "        self.config = config\n",
    "\n",
    "    def fit_predict(self, X, y, X_test, fit_args={}):\n",
    "        print(f\"Training {self.model.__class__.__name__}\\n\")\n",
    "        \n",
    "        scores = []        \n",
    "        oof_pred_probs = np.zeros((X.shape[0], y.nunique()))\n",
    "        test_pred_probs = np.zeros((X_test.shape[0], y.nunique()))\n",
    "        \n",
    "        skf = StratifiedKFold(n_splits=self.config.n_folds, random_state=self.config.seed, shuffle=True)\n",
    "        for fold_idx, (train_idx, val_idx) in enumerate(skf.split(X, y)):\n",
    "            X_train, X_val = X.iloc[train_idx], X.iloc[val_idx]\n",
    "            y_train, y_val = y[train_idx], y[val_idx]\n",
    "            \n",
    "            model = clone(self.model)\n",
    "            \n",
    "            if fit_args:\n",
    "                model.fit(X_train, y_train, **fit_args, eval_set=[(X_val, y_val)])\n",
    "            else:\n",
    "                model.fit(X_train, y_train)\n",
    "            \n",
    "            y_pred_probs = model.predict_proba(X_val)\n",
    "            oof_pred_probs[val_idx] = y_pred_probs\n",
    "            \n",
    "            temp_test_pred_probs = model.predict_proba(X_test)\n",
    "            test_pred_probs += temp_test_pred_probs / self.config.n_folds\n",
    "            \n",
    "            score = map3(y_val, y_pred_probs)\n",
    "            scores.append(score)\n",
    "            \n",
    "            del model, X_train, y_train, X_val, y_val, y_pred_probs\n",
    "            gc.collect()\n",
    "            \n",
    "            if fit_args:\n",
    "                print(f\"\\n--- Fold {fold_idx + 1} - MAP@3: {score:.6f}\\n\\n\")\n",
    "            else:\n",
    "                print(f\"--- Fold {fold_idx + 1} - MAP@3: {score:.6f}\")\n",
    "                            \n",
    "        overall_score = map3(y, oof_pred_probs)\n",
    "            \n",
    "        print(f\"\\n------ Overall MAP@3: {overall_score:.6f} | Average MAP@3: {np.mean(scores):.6f} ± {np.std(scores):.6f}\")\n",
    "        \n",
    "        return oof_pred_probs, test_pred_probs, scores\n",
    "\n",
    "    def tune(self, X, y):        \n",
    "        scores = []        \n",
    "        \n",
    "        skf = StratifiedKFold(n_splits=self.config.n_folds, random_state=self.config.seed, shuffle=True)\n",
    "        for fold_idx, (train_idx, val_idx) in enumerate(skf.split(X, y)):\n",
    "            X_train, X_val = X.iloc[train_idx], X.iloc[val_idx]\n",
    "            y_train, y_val = y[train_idx], y[val_idx]\n",
    "            \n",
    "            model = clone(self.model)\n",
    "            model.fit(X_train, y_train)\n",
    "            \n",
    "            y_pred_probs = model.predict_proba(X_val)            \n",
    "            score = map3(y_val, y_pred_probs)\n",
    "            scores.append(score)\n",
    "            \n",
    "            del model, X_train, y_train, X_val, y_val, y_pred_probs\n",
    "            gc.collect()\n",
    "            \n",
    "        return np.mean(scores)"
   ]
  },
  {
   "cell_type": "code",
   "execution_count": 8,
   "id": "21093b20",
   "metadata": {
    "_kg_hide-input": true,
    "execution": {
     "iopub.execute_input": "2025-06-03T18:16:50.312502Z",
     "iopub.status.busy": "2025-06-03T18:16:50.312140Z",
     "iopub.status.idle": "2025-06-03T18:16:50.319851Z",
     "shell.execute_reply": "2025-06-03T18:16:50.318888Z"
    },
    "papermill": {
     "duration": 0.015544,
     "end_time": "2025-06-03T18:16:50.321398",
     "exception": false,
     "start_time": "2025-06-03T18:16:50.305854",
     "status": "completed"
    },
    "tags": []
   },
   "outputs": [],
   "source": [
    "lgbm_params = {\n",
    "    # https://www.kaggle.com/code/patrykszcz/single-lgb-5-folds?scriptVersionId=243298529\n",
    "    \"boosting_type\": \"gbdt\",\n",
    "    \"n_estimators\": 10000,\n",
    "    \"learning_rate\": 0.06408094783107429,\n",
    "    \"num_leaves\": 169,\n",
    "    \"max_depth\": 10,\n",
    "    \"min_child_samples\": 19,\n",
    "    \"subsample\": 0.6420340301820501,\n",
    "    \"colsample_bytree\": 0.43403799235854973,\n",
    "    \"reg_alpha\": 6.294093849568123,\n",
    "    \"reg_lambda\": 5.5559072866866455,\n",
    "    \"random_state\": 42,\n",
    "    \"verbosity\": -1\n",
    "}\n",
    "\n",
    "lgbm_goss_params = {\n",
    "    \"boosting_type\": \"goss\",\n",
    "    \"colsample_bytree\": 0.39736332491996407,\n",
    "    \"learning_rate\": 0.008033740989500222,\n",
    "    \"min_child_samples\": 29,\n",
    "    \"min_child_weight\": 0.6732469853333759,\n",
    "    \"n_estimators\": 10000,\n",
    "    \"n_jobs\": -1,\n",
    "    \"num_leaves\": 89,\n",
    "    \"random_state\": 42,\n",
    "    \"reg_alpha\": 15.595856670965969,\n",
    "    \"reg_lambda\": 51.43625034648377,\n",
    "    \"subsample\": 0.07846482736630467,\n",
    "    \"verbose\": -1\n",
    "}\n",
    "\n",
    "xgb_params = {\n",
    "    # https://www.kaggle.com/code/patrykszcz/simple-xgb-model-5-fold\n",
    "    \"max_depth\": 12,\n",
    "    \"colsample_bytree\": 0.467,\n",
    "    \"subsample\": 0.86,\n",
    "    \"n_estimators\": 10000,\n",
    "    \"learning_rate\": 0.03,\n",
    "    \"gamma\": 0.26,\n",
    "    \"max_delta_step\": 4,\n",
    "    \"reg_alpha\": 2.7,\n",
    "    \"reg_lambda\": 1.4,\n",
    "    \"early_stopping_rounds\": 100,\n",
    "    \"objective\": 'multi:softprob',\n",
    "    \"random_state\": 13,\n",
    "    \"enable_categorical\": True,\n",
    "}\n",
    "\n",
    "cb_params = {\n",
    "    \"iterations\": 1000,\n",
    "    \"verbose\": False\n",
    "}"
   ]
  },
  {
   "cell_type": "code",
   "execution_count": 9,
   "id": "e43ea213",
   "metadata": {
    "execution": {
     "iopub.execute_input": "2025-06-03T18:16:50.333176Z",
     "iopub.status.busy": "2025-06-03T18:16:50.332863Z",
     "iopub.status.idle": "2025-06-03T18:16:50.337403Z",
     "shell.execute_reply": "2025-06-03T18:16:50.336406Z"
    },
    "papermill": {
     "duration": 0.012235,
     "end_time": "2025-06-03T18:16:50.338967",
     "exception": false,
     "start_time": "2025-06-03T18:16:50.326732",
     "status": "completed"
    },
    "tags": []
   },
   "outputs": [],
   "source": [
    "scores = {}\n",
    "oof_pred_probs = {}\n",
    "test_pred_probs = {}"
   ]
  },
  {
   "cell_type": "markdown",
   "id": "3d39fc5c",
   "metadata": {
    "papermill": {
     "duration": 0.005011,
     "end_time": "2025-06-03T18:16:50.349397",
     "exception": false,
     "start_time": "2025-06-03T18:16:50.344386",
     "status": "completed"
    },
    "tags": []
   },
   "source": [
    "## LightGBM (gbdt)"
   ]
  },
  {
   "cell_type": "code",
   "execution_count": 10,
   "id": "66ea8593",
   "metadata": {
    "execution": {
     "iopub.execute_input": "2025-06-03T18:16:50.361000Z",
     "iopub.status.busy": "2025-06-03T18:16:50.360724Z",
     "iopub.status.idle": "2025-06-03T19:23:39.490524Z",
     "shell.execute_reply": "2025-06-03T19:23:39.489188Z"
    },
    "papermill": {
     "duration": 4009.137566,
     "end_time": "2025-06-03T19:23:39.492282",
     "exception": false,
     "start_time": "2025-06-03T18:16:50.354716",
     "status": "completed"
    },
    "scrolled": true,
    "tags": []
   },
   "outputs": [
    {
     "name": "stdout",
     "output_type": "stream",
     "text": [
      "Training LGBMClassifier\n",
      "\n",
      "Training until validation scores don't improve for 100 rounds\n",
      "[500]\tvalid_0's multi_logloss: 1.90492\n",
      "Early stopping, best iteration is:\n",
      "[606]\tvalid_0's multi_logloss: 1.90456\n",
      "\n",
      "--- Fold 1 - MAP@3: 0.349892\n",
      "\n",
      "\n",
      "Training until validation scores don't improve for 100 rounds\n",
      "[500]\tvalid_0's multi_logloss: 1.90402\n",
      "Early stopping, best iteration is:\n",
      "[685]\tvalid_0's multi_logloss: 1.90331\n",
      "\n",
      "--- Fold 2 - MAP@3: 0.351373\n",
      "\n",
      "\n",
      "Training until validation scores don't improve for 100 rounds\n",
      "[500]\tvalid_0's multi_logloss: 1.90336\n",
      "Early stopping, best iteration is:\n",
      "[770]\tvalid_0's multi_logloss: 1.90277\n",
      "\n",
      "--- Fold 3 - MAP@3: 0.352069\n",
      "\n",
      "\n",
      "Training until validation scores don't improve for 100 rounds\n",
      "[500]\tvalid_0's multi_logloss: 1.90546\n",
      "Early stopping, best iteration is:\n",
      "[601]\tvalid_0's multi_logloss: 1.90509\n",
      "\n",
      "--- Fold 4 - MAP@3: 0.350410\n",
      "\n",
      "\n",
      "Training until validation scores don't improve for 100 rounds\n",
      "[500]\tvalid_0's multi_logloss: 1.90447\n",
      "Early stopping, best iteration is:\n",
      "[708]\tvalid_0's multi_logloss: 1.904\n",
      "\n",
      "--- Fold 5 - MAP@3: 0.351407\n",
      "\n",
      "\n",
      "\n",
      "------ Overall MAP@3: 0.351030 | Average MAP@3: 0.351030 ± 0.000777\n"
     ]
    }
   ],
   "source": [
    "lgbm_model = LGBMClassifier(**lgbm_params)\n",
    "lgbm_trainer = Trainer(lgbm_model)\n",
    "\n",
    "fit_args = {\n",
    "    \"callbacks\": [\n",
    "        log_evaluation(period=500), \n",
    "        early_stopping(stopping_rounds=100)\n",
    "    ]\n",
    "}\n",
    "\n",
    "oof_pred_probs[\"LightGBM (gbdt)\"], test_pred_probs[\"LightGBM (gbdt)\"], scores[\"LightGBM (gbdt)\"] = lgbm_trainer.fit_predict(X, y, X_test, fit_args)"
   ]
  },
  {
   "cell_type": "markdown",
   "id": "466f082c",
   "metadata": {
    "papermill": {
     "duration": 0.006112,
     "end_time": "2025-06-03T19:23:39.505100",
     "exception": false,
     "start_time": "2025-06-03T19:23:39.498988",
     "status": "completed"
    },
    "tags": []
   },
   "source": [
    "## LightGBM (goss)"
   ]
  },
  {
   "cell_type": "code",
   "execution_count": 11,
   "id": "494c1452",
   "metadata": {
    "execution": {
     "iopub.execute_input": "2025-06-03T19:23:39.519895Z",
     "iopub.status.busy": "2025-06-03T19:23:39.518736Z",
     "iopub.status.idle": "2025-06-04T00:35:23.854008Z",
     "shell.execute_reply": "2025-06-04T00:35:23.852843Z"
    },
    "papermill": {
     "duration": 18704.345086,
     "end_time": "2025-06-04T00:35:23.856461",
     "exception": false,
     "start_time": "2025-06-03T19:23:39.511375",
     "status": "completed"
    },
    "tags": []
   },
   "outputs": [
    {
     "name": "stdout",
     "output_type": "stream",
     "text": [
      "Training LGBMClassifier\n",
      "\n",
      "Training until validation scores don't improve for 100 rounds\n",
      "[500]\tvalid_0's multi_logloss: 1.92541\n",
      "[1000]\tvalid_0's multi_logloss: 1.91883\n",
      "[1500]\tvalid_0's multi_logloss: 1.91493\n",
      "[2000]\tvalid_0's multi_logloss: 1.91224\n",
      "[2500]\tvalid_0's multi_logloss: 1.91033\n",
      "[3000]\tvalid_0's multi_logloss: 1.90903\n",
      "[3500]\tvalid_0's multi_logloss: 1.90805\n",
      "[4000]\tvalid_0's multi_logloss: 1.90729\n",
      "[4500]\tvalid_0's multi_logloss: 1.90677\n",
      "[5000]\tvalid_0's multi_logloss: 1.90639\n",
      "Early stopping, best iteration is:\n",
      "[5137]\tvalid_0's multi_logloss: 1.90631\n",
      "\n",
      "--- Fold 1 - MAP@3: 0.347417\n",
      "\n",
      "\n",
      "Training until validation scores don't improve for 100 rounds\n",
      "[500]\tvalid_0's multi_logloss: 1.92551\n",
      "[1000]\tvalid_0's multi_logloss: 1.91882\n",
      "[1500]\tvalid_0's multi_logloss: 1.91485\n",
      "[2000]\tvalid_0's multi_logloss: 1.91207\n",
      "[2500]\tvalid_0's multi_logloss: 1.91002\n",
      "[3000]\tvalid_0's multi_logloss: 1.90852\n",
      "[3500]\tvalid_0's multi_logloss: 1.90743\n",
      "[4000]\tvalid_0's multi_logloss: 1.90653\n",
      "[4500]\tvalid_0's multi_logloss: 1.90596\n",
      "[5000]\tvalid_0's multi_logloss: 1.90556\n",
      "[5500]\tvalid_0's multi_logloss: 1.90521\n",
      "Early stopping, best iteration is:\n",
      "[5834]\tvalid_0's multi_logloss: 1.9051\n",
      "\n",
      "--- Fold 2 - MAP@3: 0.348131\n",
      "\n",
      "\n",
      "Training until validation scores don't improve for 100 rounds\n",
      "[500]\tvalid_0's multi_logloss: 1.92518\n",
      "[1000]\tvalid_0's multi_logloss: 1.91834\n",
      "[1500]\tvalid_0's multi_logloss: 1.91431\n",
      "[2000]\tvalid_0's multi_logloss: 1.91146\n",
      "[2500]\tvalid_0's multi_logloss: 1.90947\n",
      "[3000]\tvalid_0's multi_logloss: 1.90799\n",
      "[3500]\tvalid_0's multi_logloss: 1.90684\n",
      "[4000]\tvalid_0's multi_logloss: 1.90595\n",
      "[4500]\tvalid_0's multi_logloss: 1.90533\n",
      "[5000]\tvalid_0's multi_logloss: 1.90487\n",
      "Early stopping, best iteration is:\n",
      "[5189]\tvalid_0's multi_logloss: 1.90468\n",
      "\n",
      "--- Fold 3 - MAP@3: 0.348823\n",
      "\n",
      "\n",
      "Training until validation scores don't improve for 100 rounds\n",
      "[500]\tvalid_0's multi_logloss: 1.92555\n",
      "[1000]\tvalid_0's multi_logloss: 1.91899\n",
      "[1500]\tvalid_0's multi_logloss: 1.91513\n",
      "[2000]\tvalid_0's multi_logloss: 1.91248\n",
      "[2500]\tvalid_0's multi_logloss: 1.9106\n",
      "[3000]\tvalid_0's multi_logloss: 1.90923\n",
      "[3500]\tvalid_0's multi_logloss: 1.90826\n",
      "[4000]\tvalid_0's multi_logloss: 1.90753\n",
      "[4500]\tvalid_0's multi_logloss: 1.907\n",
      "[5000]\tvalid_0's multi_logloss: 1.90667\n",
      "[5500]\tvalid_0's multi_logloss: 1.90647\n",
      "Early stopping, best iteration is:\n",
      "[5896]\tvalid_0's multi_logloss: 1.90635\n",
      "\n",
      "--- Fold 4 - MAP@3: 0.348853\n",
      "\n",
      "\n",
      "Training until validation scores don't improve for 100 rounds\n",
      "[500]\tvalid_0's multi_logloss: 1.92521\n",
      "[1000]\tvalid_0's multi_logloss: 1.91841\n",
      "[1500]\tvalid_0's multi_logloss: 1.91442\n",
      "[2000]\tvalid_0's multi_logloss: 1.91174\n",
      "[2500]\tvalid_0's multi_logloss: 1.90981\n",
      "[3000]\tvalid_0's multi_logloss: 1.90847\n",
      "[3500]\tvalid_0's multi_logloss: 1.90751\n",
      "[4000]\tvalid_0's multi_logloss: 1.9067\n",
      "[4500]\tvalid_0's multi_logloss: 1.90614\n",
      "[5000]\tvalid_0's multi_logloss: 1.90579\n",
      "[5500]\tvalid_0's multi_logloss: 1.90554\n",
      "Early stopping, best iteration is:\n",
      "[5727]\tvalid_0's multi_logloss: 1.90544\n",
      "\n",
      "--- Fold 5 - MAP@3: 0.348993\n",
      "\n",
      "\n",
      "\n",
      "------ Overall MAP@3: 0.348444 | Average MAP@3: 0.348444 ± 0.000594\n"
     ]
    }
   ],
   "source": [
    "lgb_goss_model = LGBMClassifier(**lgbm_goss_params)\n",
    "lgb_goss_trainer = Trainer(lgb_goss_model)\n",
    "\n",
    "fit_args = {\n",
    "    \"callbacks\": [\n",
    "        log_evaluation(period=500), \n",
    "        early_stopping(stopping_rounds=100)\n",
    "    ]\n",
    "}\n",
    "\n",
    "oof_pred_probs[\"LightGBM (goss)\"], test_pred_probs[\"LightGBM (goss)\"], scores[\"LightGBM (goss)\"] = lgb_goss_trainer.fit_predict(X, y, X_test, fit_args)"
   ]
  },
  {
   "cell_type": "markdown",
   "id": "294efc11",
   "metadata": {
    "papermill": {
     "duration": 0.009753,
     "end_time": "2025-06-04T00:35:23.877026",
     "exception": false,
     "start_time": "2025-06-04T00:35:23.867273",
     "status": "completed"
    },
    "tags": []
   },
   "source": [
    "## XGBoost"
   ]
  },
  {
   "cell_type": "code",
   "execution_count": 12,
   "id": "1eb65faa",
   "metadata": {
    "execution": {
     "iopub.execute_input": "2025-06-04T00:35:23.898723Z",
     "iopub.status.busy": "2025-06-04T00:35:23.898316Z",
     "iopub.status.idle": "2025-06-04T01:47:15.172995Z",
     "shell.execute_reply": "2025-06-04T01:47:15.171780Z"
    },
    "papermill": {
     "duration": 4311.288222,
     "end_time": "2025-06-04T01:47:15.175153",
     "exception": false,
     "start_time": "2025-06-04T00:35:23.886931",
     "status": "completed"
    },
    "tags": []
   },
   "outputs": [
    {
     "name": "stdout",
     "output_type": "stream",
     "text": [
      "Training XGBClassifier\n",
      "\n",
      "[0]\tvalidation_0-mlogloss:1.94559\n",
      "[500]\tvalidation_0-mlogloss:1.90524\n",
      "[1000]\tvalidation_0-mlogloss:1.90174\n",
      "[1136]\tvalidation_0-mlogloss:1.90178\n",
      "\n",
      "--- Fold 1 - MAP@3: 0.353274\n",
      "\n",
      "\n",
      "[0]\tvalidation_0-mlogloss:1.94560\n",
      "[500]\tvalidation_0-mlogloss:1.90474\n",
      "[1000]\tvalidation_0-mlogloss:1.90070\n",
      "[1166]\tvalidation_0-mlogloss:1.90067\n",
      "\n",
      "--- Fold 2 - MAP@3: 0.353812\n",
      "\n",
      "\n",
      "[0]\tvalidation_0-mlogloss:1.94559\n",
      "[500]\tvalidation_0-mlogloss:1.90389\n",
      "[1000]\tvalidation_0-mlogloss:1.89974\n",
      "[1171]\tvalidation_0-mlogloss:1.89968\n",
      "\n",
      "--- Fold 3 - MAP@3: 0.355259\n",
      "\n",
      "\n",
      "[0]\tvalidation_0-mlogloss:1.94560\n",
      "[500]\tvalidation_0-mlogloss:1.90517\n",
      "[1000]\tvalidation_0-mlogloss:1.90136\n",
      "[1137]\tvalidation_0-mlogloss:1.90134\n",
      "\n",
      "--- Fold 4 - MAP@3: 0.354348\n",
      "\n",
      "\n",
      "[0]\tvalidation_0-mlogloss:1.94560\n",
      "[500]\tvalidation_0-mlogloss:1.90467\n",
      "[1000]\tvalidation_0-mlogloss:1.90071\n",
      "[1149]\tvalidation_0-mlogloss:1.90075\n",
      "\n",
      "--- Fold 5 - MAP@3: 0.354466\n",
      "\n",
      "\n",
      "\n",
      "------ Overall MAP@3: 0.354232 | Average MAP@3: 0.354232 ± 0.000666\n"
     ]
    }
   ],
   "source": [
    "xgb_model = XGBClassifier(**xgb_params)\n",
    "xgb_trainer = Trainer(xgb_model)\n",
    "\n",
    "fit_args = {\n",
    "    \"verbose\": 500\n",
    "}\n",
    "\n",
    "oof_pred_probs[\"XGBoost\"], test_pred_probs[\"XGBoost\"], scores[\"XGBoost\"] = xgb_trainer.fit_predict(X, y, X_test, fit_args)"
   ]
  },
  {
   "cell_type": "markdown",
   "id": "3f01680d",
   "metadata": {
    "papermill": {
     "duration": 0.01074,
     "end_time": "2025-06-04T01:47:15.197641",
     "exception": false,
     "start_time": "2025-06-04T01:47:15.186901",
     "status": "completed"
    },
    "tags": []
   },
   "source": [
    "## CatBoost"
   ]
  },
  {
   "cell_type": "code",
   "execution_count": 13,
   "id": "c3a91b8e",
   "metadata": {
    "execution": {
     "iopub.execute_input": "2025-06-04T01:47:15.221913Z",
     "iopub.status.busy": "2025-06-04T01:47:15.221570Z",
     "iopub.status.idle": "2025-06-04T04:51:30.982280Z",
     "shell.execute_reply": "2025-06-04T04:51:30.980924Z"
    },
    "papermill": {
     "duration": 11055.775508,
     "end_time": "2025-06-04T04:51:30.984228",
     "exception": false,
     "start_time": "2025-06-04T01:47:15.208720",
     "status": "completed"
    },
    "tags": []
   },
   "outputs": [
    {
     "name": "stdout",
     "output_type": "stream",
     "text": [
      "Training CatBoostClassifier\n",
      "\n",
      "Learning rate set to 0.122713\n",
      "0:\tlearn: 1.9447850\ttest: 1.9447950\tbest: 1.9447950 (0)\ttotal: 2.51s\tremaining: 41m 46s\n",
      "500:\tlearn: 1.9076049\ttest: 1.9268559\tbest: 1.9268559 (500)\ttotal: 18m 25s\tremaining: 18m 21s\n",
      "999:\tlearn: 1.8863363\ttest: 1.9242531\tbest: 1.9242459 (998)\ttotal: 36m 58s\tremaining: 0us\n",
      "\n",
      "bestTest = 1.92424585\n",
      "bestIteration = 998\n",
      "\n",
      "Shrink model to first 999 iterations.\n",
      "\n",
      "--- Fold 1 - MAP@3: 0.322499\n",
      "\n",
      "\n",
      "Learning rate set to 0.122713\n",
      "0:\tlearn: 1.9447349\ttest: 1.9448158\tbest: 1.9448158 (0)\ttotal: 2.48s\tremaining: 41m 21s\n",
      "500:\tlearn: 1.9075093\ttest: 1.9261465\tbest: 1.9261465 (500)\ttotal: 18m 12s\tremaining: 18m 8s\n",
      "999:\tlearn: 1.8860844\ttest: 1.9235214\tbest: 1.9235164 (995)\ttotal: 36m 29s\tremaining: 0us\n",
      "\n",
      "bestTest = 1.923516375\n",
      "bestIteration = 995\n",
      "\n",
      "Shrink model to first 996 iterations.\n",
      "\n",
      "--- Fold 2 - MAP@3: 0.323412\n",
      "\n",
      "\n",
      "Learning rate set to 0.122713\n",
      "0:\tlearn: 1.9447516\ttest: 1.9448138\tbest: 1.9448138 (0)\ttotal: 2.46s\tremaining: 40m 54s\n",
      "500:\tlearn: 1.9072262\ttest: 1.9257759\tbest: 1.9257751 (499)\ttotal: 18m 15s\tremaining: 18m 10s\n",
      "999:\tlearn: 1.8859836\ttest: 1.9231222\tbest: 1.9231133 (998)\ttotal: 36m 41s\tremaining: 0us\n",
      "\n",
      "bestTest = 1.923113289\n",
      "bestIteration = 998\n",
      "\n",
      "Shrink model to first 999 iterations.\n",
      "\n",
      "--- Fold 3 - MAP@3: 0.325276\n",
      "\n",
      "\n",
      "Learning rate set to 0.122713\n",
      "0:\tlearn: 1.9448535\ttest: 1.9448640\tbest: 1.9448640 (0)\ttotal: 2.36s\tremaining: 39m 14s\n",
      "500:\tlearn: 1.9077365\ttest: 1.9265335\tbest: 1.9265335 (500)\ttotal: 18m 19s\tremaining: 18m 14s\n",
      "999:\tlearn: 1.8862432\ttest: 1.9239103\tbest: 1.9238942 (977)\ttotal: 36m 54s\tremaining: 0us\n",
      "\n",
      "bestTest = 1.923894202\n",
      "bestIteration = 977\n",
      "\n",
      "Shrink model to first 978 iterations.\n",
      "\n",
      "--- Fold 4 - MAP@3: 0.324042\n",
      "\n",
      "\n",
      "Learning rate set to 0.122713\n",
      "0:\tlearn: 1.9447625\ttest: 1.9448413\tbest: 1.9448413 (0)\ttotal: 3s\tremaining: 49m 52s\n",
      "500:\tlearn: 1.9078184\ttest: 1.9269482\tbest: 1.9269482 (500)\ttotal: 18m 13s\tremaining: 18m 8s\n",
      "999:\tlearn: 1.8864839\ttest: 1.9240952\tbest: 1.9240934 (997)\ttotal: 36m 53s\tremaining: 0us\n",
      "\n",
      "bestTest = 1.924093421\n",
      "bestIteration = 997\n",
      "\n",
      "Shrink model to first 998 iterations.\n",
      "\n",
      "--- Fold 5 - MAP@3: 0.322720\n",
      "\n",
      "\n",
      "\n",
      "------ Overall MAP@3: 0.323590 | Average MAP@3: 0.323590 ± 0.001002\n"
     ]
    }
   ],
   "source": [
    "cb_model = CatBoostClassifier(**cb_params)\n",
    "cb_trainer = Trainer(cb_model)\n",
    "\n",
    "fit_args = {\n",
    "    \"verbose\": 500,\n",
    "    \"early_stopping_rounds\": 100,\n",
    "    \"use_best_model\": True,\n",
    "    \"cat_features\": cat_cols\n",
    "}\n",
    "\n",
    "oof_pred_probs[\"CatBoost\"], test_pred_probs[\"CatBoost\"], scores[\"CatBoost\"] = cb_trainer.fit_predict(X, y, X_test, fit_args)"
   ]
  },
  {
   "cell_type": "markdown",
   "id": "afee2d30",
   "metadata": {
    "papermill": {
     "duration": 0.013386,
     "end_time": "2025-06-04T04:51:31.011274",
     "exception": false,
     "start_time": "2025-06-04T04:51:30.997888",
     "status": "completed"
    },
    "tags": []
   },
   "source": [
    "## AutoGluon"
   ]
  },
  {
   "cell_type": "code",
   "execution_count": 14,
   "id": "3dcd189e",
   "metadata": {
    "execution": {
     "iopub.execute_input": "2025-06-04T04:51:31.040436Z",
     "iopub.status.busy": "2025-06-04T04:51:31.039317Z",
     "iopub.status.idle": "2025-06-04T04:51:34.521975Z",
     "shell.execute_reply": "2025-06-04T04:51:34.520929Z"
    },
    "papermill": {
     "duration": 3.498649,
     "end_time": "2025-06-04T04:51:34.523846",
     "exception": false,
     "start_time": "2025-06-04T04:51:31.025197",
     "status": "completed"
    },
    "tags": []
   },
   "outputs": [],
   "source": [
    "oof_preds_files = glob.glob(f'/kaggle/input/s05e06-fertilizer-optimization-autogluon/*_oof_pred_probs_*.pkl')\n",
    "test_preds_files = glob.glob(f'/kaggle/input/s05e06-fertilizer-optimization-autogluon/*_test_pred_probs_*.pkl')\n",
    "\n",
    "ag_oof_preds = joblib.load(oof_preds_files[0])\n",
    "ag_test_preds = joblib.load(test_preds_files[0])\n",
    "\n",
    "ag_scores = []\n",
    "split = StratifiedKFold(n_splits=CFG.n_folds, random_state=CFG.seed, shuffle=True).split(X, y)\n",
    "for _, val_idx in split:\n",
    "    y_val = y[val_idx]\n",
    "    y_preds = ag_oof_preds[val_idx]\n",
    "    score = map3(y_val, y_preds)\n",
    "    ag_scores.append(score)\n",
    "    \n",
    "oof_pred_probs[\"AutoGluon\"], test_pred_probs[\"AutoGluon\"], scores[\"AutoGluon\"] = ag_oof_preds, ag_test_preds, ag_scores"
   ]
  },
  {
   "cell_type": "markdown",
   "id": "5f49d6ba",
   "metadata": {
    "papermill": {
     "duration": 0.01215,
     "end_time": "2025-06-04T04:51:34.549145",
     "exception": false,
     "start_time": "2025-06-04T04:51:34.536995",
     "status": "completed"
    },
    "tags": []
   },
   "source": [
    "# Ensembling with LogisticRegression"
   ]
  },
  {
   "cell_type": "code",
   "execution_count": 15,
   "id": "8a61fae4",
   "metadata": {
    "execution": {
     "iopub.execute_input": "2025-06-04T04:51:34.575871Z",
     "iopub.status.busy": "2025-06-04T04:51:34.575558Z",
     "iopub.status.idle": "2025-06-04T04:51:35.386980Z",
     "shell.execute_reply": "2025-06-04T04:51:35.386050Z"
    },
    "papermill": {
     "duration": 0.826785,
     "end_time": "2025-06-04T04:51:35.388713",
     "exception": false,
     "start_time": "2025-06-04T04:51:34.561928",
     "status": "completed"
    },
    "tags": []
   },
   "outputs": [],
   "source": [
    "X = pd.DataFrame(np.concatenate(list(oof_pred_probs.values()), axis=1))\n",
    "X_test = pd.DataFrame(np.concatenate(list(test_pred_probs.values()), axis=1))"
   ]
  },
  {
   "cell_type": "code",
   "execution_count": 16,
   "id": "b044a3ee",
   "metadata": {
    "execution": {
     "iopub.execute_input": "2025-06-04T04:51:35.415711Z",
     "iopub.status.busy": "2025-06-04T04:51:35.415289Z",
     "iopub.status.idle": "2025-06-04T04:51:35.739657Z",
     "shell.execute_reply": "2025-06-04T04:51:35.738318Z"
    },
    "papermill": {
     "duration": 0.340017,
     "end_time": "2025-06-04T04:51:35.741820",
     "exception": false,
     "start_time": "2025-06-04T04:51:35.401803",
     "status": "completed"
    },
    "tags": []
   },
   "outputs": [
    {
     "data": {
      "text/plain": [
       "['test_pred_probs.pkl']"
      ]
     },
     "execution_count": 16,
     "metadata": {},
     "output_type": "execute_result"
    }
   ],
   "source": [
    "joblib.dump(X, \"oof_pred_probs.pkl\")\n",
    "joblib.dump(X_test, \"test_pred_probs.pkl\")"
   ]
  },
  {
   "cell_type": "code",
   "execution_count": 17,
   "id": "fe4318ac",
   "metadata": {
    "_kg_hide-output": true,
    "execution": {
     "iopub.execute_input": "2025-06-04T04:51:35.774698Z",
     "iopub.status.busy": "2025-06-04T04:51:35.774350Z",
     "iopub.status.idle": "2025-06-04T04:51:35.786108Z",
     "shell.execute_reply": "2025-06-04T04:51:35.784982Z"
    },
    "papermill": {
     "duration": 0.032125,
     "end_time": "2025-06-04T04:51:35.788112",
     "exception": false,
     "start_time": "2025-06-04T04:51:35.755987",
     "status": "completed"
    },
    "scrolled": true,
    "tags": []
   },
   "outputs": [],
   "source": [
    "def objective(trial):\n",
    "    solver_penalty_options = [\n",
    "        ('liblinear', 'l1'),\n",
    "        ('liblinear', 'l2'),\n",
    "        ('lbfgs', 'l2'),\n",
    "        ('lbfgs', None)\n",
    "    ]\n",
    "    solver, penalty = trial.suggest_categorical('solver_penalty', solver_penalty_options)\n",
    "    \n",
    "    params = {\n",
    "        'random_state': CFG.seed,\n",
    "        'max_iter': 500,\n",
    "        'C': trial.suggest_float('C', 0, 10),\n",
    "        'tol': trial.suggest_float('tol', 1e-7, 1e-2),\n",
    "        'fit_intercept': trial.suggest_categorical('fit_intercept', [True, False]),\n",
    "        'class_weight': trial.suggest_categorical('class_weight', ['balanced', None]),\n",
    "        'solver': solver,\n",
    "        'penalty': penalty\n",
    "    }\n",
    "    \n",
    "    model = LogisticRegression(**params)\n",
    "    trainer = Trainer(model)\n",
    "    return trainer.tune(X, y)\n",
    "\n",
    "\n",
    "if CFG.run_optuna:\n",
    "    sampler = optuna.samplers.TPESampler(seed=CFG.seed, multivariate=True)\n",
    "    study = optuna.create_study(direction='maximize', sampler=sampler)\n",
    "    study.optimize(objective, n_trials=250, n_jobs=-1)\n",
    "    best_params = study.best_params\n",
    "    \n",
    "    solver, penalty = best_params['solver_penalty']\n",
    "    lr_params = {\n",
    "        'random_state': CFG.seed,\n",
    "        'max_iter': 500,\n",
    "        'solver': solver,\n",
    "        'penalty': penalty,\n",
    "        'fit_intercept': best_params['fit_intercept'],\n",
    "        'class_weight': best_params['class_weight'],\n",
    "        'C': best_params['C'],\n",
    "        'tol': best_params['tol']\n",
    "    }\n",
    "else:\n",
    "    lr_params = {\n",
    "        'random_state': CFG.seed,\n",
    "        'max_iter': 500\n",
    "    }"
   ]
  },
  {
   "cell_type": "code",
   "execution_count": 18,
   "id": "c7745fc6",
   "metadata": {
    "execution": {
     "iopub.execute_input": "2025-06-04T04:51:35.817024Z",
     "iopub.status.busy": "2025-06-04T04:51:35.816240Z",
     "iopub.status.idle": "2025-06-04T04:51:35.822191Z",
     "shell.execute_reply": "2025-06-04T04:51:35.821015Z"
    },
    "papermill": {
     "duration": 0.02302,
     "end_time": "2025-06-04T04:51:35.823973",
     "exception": false,
     "start_time": "2025-06-04T04:51:35.800953",
     "status": "completed"
    },
    "tags": []
   },
   "outputs": [
    {
     "name": "stdout",
     "output_type": "stream",
     "text": [
      "{\n",
      "  \"random_state\": 42,\n",
      "  \"max_iter\": 500\n",
      "}\n"
     ]
    }
   ],
   "source": [
    "print(json.dumps(lr_params, indent=2))"
   ]
  },
  {
   "cell_type": "code",
   "execution_count": 19,
   "id": "fa8467b2",
   "metadata": {
    "execution": {
     "iopub.execute_input": "2025-06-04T04:51:35.853225Z",
     "iopub.status.busy": "2025-06-04T04:51:35.852681Z",
     "iopub.status.idle": "2025-06-04T04:52:39.381998Z",
     "shell.execute_reply": "2025-06-04T04:52:39.380774Z"
    },
    "papermill": {
     "duration": 63.546949,
     "end_time": "2025-06-04T04:52:39.383831",
     "exception": false,
     "start_time": "2025-06-04T04:51:35.836882",
     "status": "completed"
    },
    "tags": []
   },
   "outputs": [
    {
     "name": "stdout",
     "output_type": "stream",
     "text": [
      "Training LogisticRegression\n",
      "\n",
      "--- Fold 1 - MAP@3: 0.353407\n",
      "--- Fold 2 - MAP@3: 0.354832\n",
      "--- Fold 3 - MAP@3: 0.355811\n",
      "--- Fold 4 - MAP@3: 0.354239\n",
      "--- Fold 5 - MAP@3: 0.354617\n",
      "\n",
      "------ Overall MAP@3: 0.354581 | Average MAP@3: 0.354581 ± 0.000784\n"
     ]
    }
   ],
   "source": [
    "lr_model = LogisticRegression(**lr_params)\n",
    "lr_trainer = Trainer(lr_model)\n",
    "\n",
    "_, lr_test_pred_probs, scores[\"LogisticRegression\"] = lr_trainer.fit_predict(X, y, X_test)"
   ]
  },
  {
   "cell_type": "code",
   "execution_count": 20,
   "id": "7146ef70",
   "metadata": {
    "execution": {
     "iopub.execute_input": "2025-06-04T04:52:39.413398Z",
     "iopub.status.busy": "2025-06-04T04:52:39.413046Z",
     "iopub.status.idle": "2025-06-04T04:53:06.430154Z",
     "shell.execute_reply": "2025-06-04T04:53:06.428694Z"
    },
    "papermill": {
     "duration": 27.034307,
     "end_time": "2025-06-04T04:53:06.432186",
     "exception": false,
     "start_time": "2025-06-04T04:52:39.397879",
     "status": "completed"
    },
    "tags": []
   },
   "outputs": [],
   "source": [
    "final_predictions = []\n",
    "for i in np.argsort(lr_test_pred_probs)[:, -3:][:, ::-1]:\n",
    "    prediction = label_encoder.inverse_transform(i)\n",
    "    final_predictions.append(\" \".join(prediction))"
   ]
  },
  {
   "cell_type": "code",
   "execution_count": 21,
   "id": "72445979",
   "metadata": {
    "execution": {
     "iopub.execute_input": "2025-06-04T04:53:06.461324Z",
     "iopub.status.busy": "2025-06-04T04:53:06.460515Z",
     "iopub.status.idle": "2025-06-04T04:53:07.096625Z",
     "shell.execute_reply": "2025-06-04T04:53:07.095597Z"
    },
    "papermill": {
     "duration": 0.652467,
     "end_time": "2025-06-04T04:53:07.098358",
     "exception": false,
     "start_time": "2025-06-04T04:53:06.445891",
     "status": "completed"
    },
    "tags": []
   },
   "outputs": [
    {
     "data": {
      "text/html": [
       "<div>\n",
       "<style scoped>\n",
       "    .dataframe tbody tr th:only-of-type {\n",
       "        vertical-align: middle;\n",
       "    }\n",
       "\n",
       "    .dataframe tbody tr th {\n",
       "        vertical-align: top;\n",
       "    }\n",
       "\n",
       "    .dataframe thead th {\n",
       "        text-align: right;\n",
       "    }\n",
       "</style>\n",
       "<table border=\"1\" class=\"dataframe\">\n",
       "  <thead>\n",
       "    <tr style=\"text-align: right;\">\n",
       "      <th></th>\n",
       "      <th>id</th>\n",
       "      <th>Fertilizer Name</th>\n",
       "    </tr>\n",
       "  </thead>\n",
       "  <tbody>\n",
       "    <tr>\n",
       "      <th>0</th>\n",
       "      <td>750000</td>\n",
       "      <td>10-26-26 DAP 20-20</td>\n",
       "    </tr>\n",
       "    <tr>\n",
       "      <th>1</th>\n",
       "      <td>750001</td>\n",
       "      <td>17-17-17 20-20 10-26-26</td>\n",
       "    </tr>\n",
       "    <tr>\n",
       "      <th>2</th>\n",
       "      <td>750002</td>\n",
       "      <td>20-20 28-28 17-17-17</td>\n",
       "    </tr>\n",
       "    <tr>\n",
       "      <th>3</th>\n",
       "      <td>750003</td>\n",
       "      <td>14-35-14 DAP 10-26-26</td>\n",
       "    </tr>\n",
       "    <tr>\n",
       "      <th>4</th>\n",
       "      <td>750004</td>\n",
       "      <td>20-20 Urea 28-28</td>\n",
       "    </tr>\n",
       "  </tbody>\n",
       "</table>\n",
       "</div>"
      ],
      "text/plain": [
       "       id          Fertilizer Name\n",
       "0  750000       10-26-26 DAP 20-20\n",
       "1  750001  17-17-17 20-20 10-26-26\n",
       "2  750002     20-20 28-28 17-17-17\n",
       "3  750003    14-35-14 DAP 10-26-26\n",
       "4  750004         20-20 Urea 28-28"
      ]
     },
     "execution_count": 21,
     "metadata": {},
     "output_type": "execute_result"
    }
   ],
   "source": [
    "sub = pd.read_csv(CFG.sample_sub_path)\n",
    "sub[CFG.target] = final_predictions\n",
    "sub.to_csv(f\"sub_logistic-regression_{np.mean(scores['LogisticRegression']):.6f}.csv\", index=False)\n",
    "sub.head()"
   ]
  },
  {
   "cell_type": "markdown",
   "id": "c66897cd",
   "metadata": {
    "papermill": {
     "duration": 0.012894,
     "end_time": "2025-06-04T04:53:07.125008",
     "exception": false,
     "start_time": "2025-06-04T04:53:07.112114",
     "status": "completed"
    },
    "tags": []
   },
   "source": [
    "# Results"
   ]
  },
  {
   "cell_type": "code",
   "execution_count": 22,
   "id": "c8b15f16",
   "metadata": {
    "execution": {
     "iopub.execute_input": "2025-06-04T04:53:07.153440Z",
     "iopub.status.busy": "2025-06-04T04:53:07.153128Z",
     "iopub.status.idle": "2025-06-04T04:53:07.709783Z",
     "shell.execute_reply": "2025-06-04T04:53:07.708782Z"
    },
    "papermill": {
     "duration": 0.572652,
     "end_time": "2025-06-04T04:53:07.711628",
     "exception": false,
     "start_time": "2025-06-04T04:53:07.138976",
     "status": "completed"
    },
    "tags": []
   },
   "outputs": [
    {
     "data": {
      "image/png": "[encoded data removed]",
      "text/plain": [
       "<Figure size 1500x240 with 2 Axes>"
      ]
     },
     "metadata": {},
     "output_type": "display_data"
    }
   ],
   "source": [
    "scores = pd.DataFrame(scores)\n",
    "mean_scores = scores.mean().sort_values(ascending=False)\n",
    "order = scores.mean().sort_values(ascending=False).index.tolist()\n",
    "\n",
    "min_score = mean_scores.min()\n",
    "max_score = mean_scores.max()\n",
    "padding = (max_score - min_score) * 0.5\n",
    "lower_limit = min_score - padding\n",
    "upper_limit = max_score + padding\n",
    "\n",
    "fig, axs = plt.subplots(1, 2, figsize=(15, scores.shape[1] * 0.4))\n",
    "\n",
    "boxplot = sns.boxplot(data=scores, order=order, ax=axs[0], orient=\"h\", color=\"grey\")\n",
    "axs[0].set_title(f\"Fold MAP@3\")\n",
    "axs[0].set_xlabel(\"\")\n",
    "axs[0].set_ylabel(\"\")\n",
    "\n",
    "barplot = sns.barplot(x=mean_scores.values, y=mean_scores.index, ax=axs[1], color=\"grey\")\n",
    "axs[1].set_title(f\"Mean MAP@3\")\n",
    "axs[1].set_xlabel(\"\")\n",
    "axs[1].set_xlim(left=lower_limit, right=upper_limit)\n",
    "axs[1].set_ylabel(\"\")\n",
    "\n",
    "for i, (score, model) in enumerate(zip(mean_scores.values, mean_scores.index)):\n",
    "    color = \"cyan\" if \"logistic\" in model.lower() else \"grey\"\n",
    "    barplot.patches[i].set_facecolor(color)\n",
    "    boxplot.patches[i].set_facecolor(color)\n",
    "    barplot.text(score, i, round(score, 6), va=\"center\")\n",
    "\n",
    "plt.tight_layout()\n",
    "plt.show()"
   ]
  },
  {
   "cell_type": "code",
   "execution_count": 23,
   "id": "043e3171",
   "metadata": {
    "execution": {
     "iopub.execute_input": "2025-06-04T04:53:07.744587Z",
     "iopub.status.busy": "2025-06-04T04:53:07.744207Z",
     "iopub.status.idle": "2025-06-04T04:53:07.753727Z",
     "shell.execute_reply": "2025-06-04T04:53:07.752650Z"
    },
    "papermill": {
     "duration": 0.029164,
     "end_time": "2025-06-04T04:53:07.755394",
     "exception": false,
     "start_time": "2025-06-04T04:53:07.726230",
     "status": "completed"
    },
    "tags": []
   },
   "outputs": [],
   "source": [
    "shutil.rmtree(\"catboost_info\", ignore_errors=True)"
   ]
  }
 ],
 "metadata": {
  "kaggle": {
   "accelerator": "none",
   "dataSources": [
    {
     "databundleVersionId": 12184666,
     "sourceId": 91717,
     "sourceType": "competition"
    },
    {
     "sourceId": 243379297,
     "sourceType": "kernelVersion"
    }
   ],
   "dockerImageVersionId": 31041,
   "isGpuEnabled": false,
   "isInternetEnabled": true,
   "language": "python",
   "sourceType": "notebook"
  },
  "kernelspec": {
   "display_name": "Python 3",
   "language": "python",
   "name": "python3"
  },
  "language_info": {
   "codemirror_mode": {
    "name": "ipython",
    "version": 3
   },
   "file_extension": ".py",
   "mimetype": "text/x-python",
   "name": "python",
   "nbconvert_exporter": "python",
   "pygments_lexer": "ipython3",
   "version": "3.11.11"
  },
  "papermill": {
   "default_parameters": {},
   "duration": 38212.27524,
   "end_time": "2025-06-04T04:53:10.015925",
   "environment_variables": {},
   "exception": null,
   "input_path": "__notebook__.ipynb",
   "output_path": "__notebook__.ipynb",
   "parameters": {},
   "start_time": "2025-06-03T18:16:17.740685",
   "version": "2.6.0"
  }
 },
 "nbformat": 4,
 "nbformat_minor": 5
}
