{
 "cells": [
  {
   "cell_type": "markdown",
   "id": "5c0523b0",
   "metadata": {
    "papermill": {
     "duration": 0.003889,
     "end_time": "2025-06-02T07:21:57.191447",
     "exception": false,
     "start_time": "2025-06-02T07:21:57.187558",
     "status": "completed"
    },
    "tags": []
   },
   "source": [
    "# Imports and configs"
   ]
  },
  {
   "cell_type": "code",
   "execution_count": 1,
   "id": "25f73a12",
   "metadata": {
    "_kg_hide-output": true,
    "execution": {
     "iopub.execute_input": "2025-06-02T07:21:57.198549Z",
     "iopub.status.busy": "2025-06-02T07:21:57.198300Z",
     "iopub.status.idle": "2025-06-02T07:22:04.514861Z",
     "shell.execute_reply": "2025-06-02T07:22:04.513933Z"
    },
    "papermill": {
     "duration": 7.322282,
     "end_time": "2025-06-02T07:22:04.516870",
     "exception": false,
     "start_time": "2025-06-02T07:21:57.194588",
     "status": "completed"
    },
    "tags": []
   },
   "outputs": [
    {
     "name": "stdout",
     "output_type": "stream",
     "text": [
      "\u001b[2K   \u001b[90m━━━━━━━━━━━━━━━━━━━━━━━━━━━━━━━━━━━━━━━━\u001b[0m \u001b[32m13.3/13.3 MB\u001b[0m \u001b[31m93.7 MB/s\u001b[0m eta \u001b[36m0:00:00\u001b[0m\r\n",
      "\u001b[?25h\u001b[31mERROR: pip's dependency resolver does not currently take into account all the packages that are installed. This behaviour is the source of the following dependency conflicts.\r\n",
      "cesium 0.12.4 requires numpy<3.0,>=2.0, but you have numpy 1.26.4 which is incompatible.\u001b[0m\u001b[31m\r\n",
      "\u001b[0m"
     ]
    }
   ],
   "source": [
    "!pip install -q scikit-learn==1.5.2"
   ]
  },
  {
   "cell_type": "code",
   "execution_count": 2,
   "id": "70aeef54",
   "metadata": {
    "execution": {
     "iopub.execute_input": "2025-06-02T07:22:04.525231Z",
     "iopub.status.busy": "2025-06-02T07:22:04.524689Z",
     "iopub.status.idle": "2025-06-02T07:22:11.718714Z",
     "shell.execute_reply": "2025-06-02T07:22:11.718142Z"
    },
    "papermill": {
     "duration": 7.199618,
     "end_time": "2025-06-02T07:22:11.720210",
     "exception": false,
     "start_time": "2025-06-02T07:22:04.520592",
     "status": "completed"
    },
    "tags": []
   },
   "outputs": [],
   "source": [
    "from lightgbm import LGBMClassifier, log_evaluation, early_stopping\n",
    "from sklearn.linear_model import LogisticRegression\n",
    "from sklearn.model_selection import StratifiedKFold\n",
    "from sklearn.preprocessing import LabelEncoder\n",
    "from sklearn.metrics import accuracy_score\n",
    "from sklearn.base import clone\n",
    "from catboost import CatBoostClassifier\n",
    "from xgboost import XGBClassifier\n",
    "import matplotlib.pyplot as plt\n",
    "import seaborn as sns\n",
    "import pandas as pd\n",
    "import numpy as np\n",
    "import warnings\n",
    "import joblib\n",
    "import optuna\n",
    "import json\n",
    "import gc\n",
    "\n",
    "warnings.filterwarnings(\"ignore\")"
   ]
  },
  {
   "cell_type": "code",
   "execution_count": 3,
   "id": "efce07d0",
   "metadata": {
    "execution": {
     "iopub.execute_input": "2025-06-02T07:22:11.728328Z",
     "iopub.status.busy": "2025-06-02T07:22:11.727905Z",
     "iopub.status.idle": "2025-06-02T07:22:11.731424Z",
     "shell.execute_reply": "2025-06-02T07:22:11.730912Z"
    },
    "papermill": {
     "duration": 0.008557,
     "end_time": "2025-06-02T07:22:11.732484",
     "exception": false,
     "start_time": "2025-06-02T07:22:11.723927",
     "status": "completed"
    },
    "tags": []
   },
   "outputs": [],
   "source": [
    "class CFG:\n",
    "    train_path = \"/kaggle/input/playground-series-s5e6/train.csv\"\n",
    "    test_path = \"/kaggle/input/playground-series-s5e6/test.csv\"\n",
    "    sample_sub_path = \"/kaggle/input/playground-series-s5e6/sample_submission.csv\"\n",
    "    \n",
    "    target = \"Fertilizer Name\"\n",
    "    n_folds = 5\n",
    "    seed = 42"
   ]
  },
  {
   "cell_type": "markdown",
   "id": "04ee6e10",
   "metadata": {
    "papermill": {
     "duration": 0.003077,
     "end_time": "2025-06-02T07:22:11.738810",
     "exception": false,
     "start_time": "2025-06-02T07:22:11.735733",
     "status": "completed"
    },
    "tags": []
   },
   "source": [
    "# Data loading and preprocessing"
   ]
  },
  {
   "cell_type": "code",
   "execution_count": 4,
   "id": "c9d7243b",
   "metadata": {
    "execution": {
     "iopub.execute_input": "2025-06-02T07:22:11.746362Z",
     "iopub.status.busy": "2025-06-02T07:22:11.745776Z",
     "iopub.status.idle": "2025-06-02T07:22:13.107886Z",
     "shell.execute_reply": "2025-06-02T07:22:13.107291Z"
    },
    "papermill": {
     "duration": 1.367173,
     "end_time": "2025-06-02T07:22:13.109254",
     "exception": false,
     "start_time": "2025-06-02T07:22:11.742081",
     "status": "completed"
    },
    "tags": []
   },
   "outputs": [],
   "source": [
    "train = pd.read_csv(CFG.train_path, index_col=\"id\")\n",
    "test = pd.read_csv(CFG.test_path, index_col=\"id\")\n",
    "\n",
    "cat_cols = train.select_dtypes(include=\"object\").columns.tolist()\n",
    "cat_cols = [c for c in cat_cols if c != CFG.target]\n",
    "train[cat_cols] = train[cat_cols].astype(str).astype(\"category\")\n",
    "test[cat_cols] = test[cat_cols].astype(str).astype(\"category\")\n",
    "\n",
    "label_encoder = LabelEncoder()\n",
    "train[CFG.target] = label_encoder.fit_transform(train[CFG.target])\n",
    "\n",
    "X = train.drop(CFG.target, axis=1)\n",
    "y = train[CFG.target]\n",
    "X_test = test"
   ]
  },
  {
   "cell_type": "markdown",
   "id": "a72cf94b",
   "metadata": {
    "papermill": {
     "duration": 0.003279,
     "end_time": "2025-06-02T07:22:13.116126",
     "exception": false,
     "start_time": "2025-06-02T07:22:13.112847",
     "status": "completed"
    },
    "tags": []
   },
   "source": [
    "# Training base models"
   ]
  },
  {
   "cell_type": "code",
   "execution_count": 5,
   "id": "4e933ae5",
   "metadata": {
    "execution": {
     "iopub.execute_input": "2025-06-02T07:22:13.123550Z",
     "iopub.status.busy": "2025-06-02T07:22:13.123318Z",
     "iopub.status.idle": "2025-06-02T07:22:13.128354Z",
     "shell.execute_reply": "2025-06-02T07:22:13.127773Z"
    },
    "papermill": {
     "duration": 0.010008,
     "end_time": "2025-06-02T07:22:13.129404",
     "exception": false,
     "start_time": "2025-06-02T07:22:13.119396",
     "status": "completed"
    },
    "tags": []
   },
   "outputs": [],
   "source": [
    "def map3(y_true, y_pred_probs):\n",
    "    y_true = [[x] for x in y_true]\n",
    "    y_pred_probs = np.argsort(y_pred_probs, axis=1)[:, -3:][:, ::-1].tolist()\n",
    "    \n",
    "    def ap3(y_true, y_pred_probs):\n",
    "        y_pred_probs = y_pred_probs[:3]\n",
    "\n",
    "        score = 0.0\n",
    "        num_hits = 0.0\n",
    "\n",
    "        for i,p in enumerate(y_pred_probs):\n",
    "            if p in y_true and p not in y_pred_probs[:i]:\n",
    "                num_hits += 1.0\n",
    "                score += num_hits / (i+1.0)\n",
    "\n",
    "        if not y_true:\n",
    "            return 0.0\n",
    "\n",
    "        return score\n",
    "    \n",
    "    return np.mean([ap3(a,p) for a,p in zip(y_true, y_pred_probs)])"
   ]
  },
  {
   "cell_type": "code",
   "execution_count": 6,
   "id": "613bd7d4",
   "metadata": {
    "execution": {
     "iopub.execute_input": "2025-06-02T07:22:13.137199Z",
     "iopub.status.busy": "2025-06-02T07:22:13.136963Z",
     "iopub.status.idle": "2025-06-02T07:22:13.250641Z",
     "shell.execute_reply": "2025-06-02T07:22:13.250143Z"
    },
    "papermill": {
     "duration": 0.118861,
     "end_time": "2025-06-02T07:22:13.251707",
     "exception": false,
     "start_time": "2025-06-02T07:22:13.132846",
     "status": "completed"
    },
    "tags": []
   },
   "outputs": [],
   "source": [
    "class Trainer:\n",
    "    def __init__(self, model, config=CFG):\n",
    "        self.model = model\n",
    "        self.config = config\n",
    "\n",
    "    def fit_predict(self, X, y, X_test, fit_args={}):\n",
    "        print(f\"Training {self.model.__class__.__name__}\\n\")\n",
    "        \n",
    "        scores = []        \n",
    "        oof_pred_probs = np.zeros((X.shape[0], y.nunique()))\n",
    "        test_pred_probs = np.zeros((X_test.shape[0], y.nunique()))\n",
    "        \n",
    "        skf = StratifiedKFold(n_splits=self.config.n_folds, random_state=self.config.seed, shuffle=True)\n",
    "        for fold_idx, (train_idx, val_idx) in enumerate(skf.split(X, y)):\n",
    "            X_train, X_val = X.iloc[train_idx], X.iloc[val_idx]\n",
    "            y_train, y_val = y[train_idx], y[val_idx]\n",
    "            \n",
    "            model = clone(self.model)\n",
    "            \n",
    "            if fit_args:\n",
    "                model.fit(X_train, y_train, **fit_args, eval_set=[(X_val, y_val)])\n",
    "            else:\n",
    "                model.fit(X_train, y_train)\n",
    "            \n",
    "            y_pred_probs = model.predict_proba(X_val)\n",
    "            oof_pred_probs[val_idx] = y_pred_probs\n",
    "            \n",
    "            temp_test_pred_probs = model.predict_proba(X_test)\n",
    "            test_pred_probs += temp_test_pred_probs / self.config.n_folds\n",
    "            \n",
    "            score = map3(y_val, y_pred_probs)\n",
    "            scores.append(score)\n",
    "            \n",
    "            del model, X_train, y_train, X_val, y_val, y_pred_probs\n",
    "            gc.collect()\n",
    "            \n",
    "            if fit_args:\n",
    "                print(f\"\\n--- Fold {fold_idx + 1} - MAP@3: {score:.6f}\\n\\n\")\n",
    "            else:\n",
    "                print(f\"--- Fold {fold_idx + 1} - MAP@3: {score:.6f}\")\n",
    "                            \n",
    "        overall_score = map3(y, oof_pred_probs)\n",
    "            \n",
    "        print(f\"\\n------ Overall MAP@3: {overall_score:.6f} | Average MAP@3: {np.mean(scores):.6f} ± {np.std(scores):.6f}\")\n",
    "        \n",
    "        return oof_pred_probs, test_pred_probs, scores\n",
    "\n",
    "    def tune(self, X, y):        \n",
    "        scores = []        \n",
    "        \n",
    "        skf = StratifiedKFold(n_splits=self.config.n_folds, random_state=self.config.seed, shuffle=True)\n",
    "        for fold_idx, (train_idx, val_idx) in enumerate(skf.split(X, y)):\n",
    "            X_train, X_val = X.iloc[train_idx], X.iloc[val_idx]\n",
    "            y_train, y_val = y[train_idx], y[val_idx]\n",
    "            \n",
    "            model = clone(self.model)\n",
    "            model.fit(X_train, y_train)\n",
    "            \n",
    "            y_pred_probs = model.predict_proba(X_val)            \n",
    "            score = map3(y_val, y_pred_probs)\n",
    "            scores.append(score)\n",
    "            \n",
    "            del model, X_train, y_train, X_val, y_val, y_pred_probs\n",
    "            gc.collect()\n",
    "            \n",
    "        return np.mean(scores)"
   ]
  },
  {
   "cell_type": "code",
   "execution_count": 7,
   "id": "fa6c49fa",
   "metadata": {
    "_kg_hide-input": true,
    "execution": {
     "iopub.execute_input": "2025-06-02T07:22:13.259726Z",
     "iopub.status.busy": "2025-06-02T07:22:13.259287Z",
     "iopub.status.idle": "2025-06-02T07:22:13.263615Z",
     "shell.execute_reply": "2025-06-02T07:22:13.263158Z"
    },
    "papermill": {
     "duration": 0.009235,
     "end_time": "2025-06-02T07:22:13.264610",
     "exception": false,
     "start_time": "2025-06-02T07:22:13.255375",
     "status": "completed"
    },
    "tags": []
   },
   "outputs": [],
   "source": [
    "lgbm_params = {\n",
    "    \"boosting_type\": \"gbdt\",\n",
    "    \"device\": \"gpu\",\n",
    "    \"colsample_bytree\": 0.5,\n",
    "    \"n_estimators\": 5000,\n",
    "    \"max_depth\": 7,\n",
    "    \"n_jobs\": -1,\n",
    "    \"verbose\": -1\n",
    "}\n",
    "\n",
    "lgbm_goss_params = {\n",
    "    \"boosting_type\": \"goss\",\n",
    "    \"device\": \"gpu\",\n",
    "    \"max_depth\": 7,\n",
    "    \"colsample_bytree\": 0.5,\n",
    "    \"n_estimators\": 5000,\n",
    "    \"n_jobs\": -1,\n",
    "    \"verbose\": -1\n",
    "}\n",
    "\n",
    "\n",
    "xgb_params = {\n",
    "    # https://www.kaggle.com/code/ravi20076/playgrounds5e6-public-baseline-v1\n",
    "    \"objective\": \"multi:softprob\",\n",
    "    \"eval_metric\": \"mlogloss\",\n",
    "    \"device\": \"gpu\",\n",
    "    \"learning_rate\": 0.03,\n",
    "    \"n_estimators\": 10_000,\n",
    "    \"max_depth\": 7,\n",
    "    \"subsample\": 0.80,\n",
    "    \"colsample_bytree\": 0.60,\n",
    "    \"colsample_bynode\": 0.65,\n",
    "    \"colsample_bylevel\": 0.825,\n",
    "    \"verbosity\": 0,\n",
    "    \"random_state\": 42,\n",
    "    \"early_stopping_rounds\": 100,\n",
    "    \"enable_categorical\": True,\n",
    "}\n",
    "\n",
    "cb_params = {\n",
    "    \"iterations\": 5000,\n",
    "    \"task_type\": \"GPU\",\n",
    "    \"verbose\": False\n",
    "}"
   ]
  },
  {
   "cell_type": "code",
   "execution_count": 8,
   "id": "920256e7",
   "metadata": {
    "execution": {
     "iopub.execute_input": "2025-06-02T07:22:13.272004Z",
     "iopub.status.busy": "2025-06-02T07:22:13.271655Z",
     "iopub.status.idle": "2025-06-02T07:22:13.274891Z",
     "shell.execute_reply": "2025-06-02T07:22:13.274268Z"
    },
    "papermill": {
     "duration": 0.008035,
     "end_time": "2025-06-02T07:22:13.275968",
     "exception": false,
     "start_time": "2025-06-02T07:22:13.267933",
     "status": "completed"
    },
    "tags": []
   },
   "outputs": [],
   "source": [
    "scores = {}\n",
    "oof_pred_probs = {}\n",
    "test_pred_probs = {}"
   ]
  },
  {
   "cell_type": "code",
   "execution_count": 9,
   "id": "6290f7d0",
   "metadata": {
    "execution": {
     "iopub.execute_input": "2025-06-02T07:22:13.283583Z",
     "iopub.status.busy": "2025-06-02T07:22:13.283097Z",
     "iopub.status.idle": "2025-06-02T07:39:17.739521Z",
     "shell.execute_reply": "2025-06-02T07:39:17.738802Z"
    },
    "papermill": {
     "duration": 1024.46146,
     "end_time": "2025-06-02T07:39:17.740707",
     "exception": false,
     "start_time": "2025-06-02T07:22:13.279247",
     "status": "completed"
    },
    "tags": []
   },
   "outputs": [
    {
     "name": "stdout",
     "output_type": "stream",
     "text": [
      "Training LGBMClassifier\n",
      "\n"
     ]
    },
    {
     "name": "stderr",
     "output_type": "stream",
     "text": [
      "1 warning generated.\n",
      "1 warning generated.\n",
      "1 warning generated.\n",
      "1 warning generated.\n",
      "1 warning generated.\n",
      "1 warning generated.\n",
      "1 warning generated.\n",
      "1 warning generated.\n",
      "1 warning generated.\n",
      "1 warning generated.\n",
      "1 warning generated.\n",
      "1 warning generated.\n",
      "1 warning generated.\n",
      "1 warning generated.\n",
      "1 warning generated.\n",
      "1 warning generated.\n",
      "1 warning generated.\n",
      "1 warning generated.\n",
      "1 warning generated.\n",
      "1 warning generated.\n",
      "1 warning generated.\n",
      "1 warning generated.\n",
      "1 warning generated.\n",
      "1 warning generated.\n",
      "1 warning generated.\n",
      "1 warning generated.\n",
      "1 warning generated.\n",
      "1 warning generated.\n",
      "1 warning generated.\n",
      "1 warning generated.\n",
      "1 warning generated.\n",
      "1 warning generated.\n",
      "1 warning generated.\n"
     ]
    },
    {
     "name": "stdout",
     "output_type": "stream",
     "text": [
      "Training until validation scores don't improve for 100 rounds\n",
      "[250]\tvalid_0's multi_logloss: 1.91814\n",
      "[500]\tvalid_0's multi_logloss: 1.91472\n",
      "[750]\tvalid_0's multi_logloss: 1.91356\n",
      "[1000]\tvalid_0's multi_logloss: 1.91346\n",
      "Early stopping, best iteration is:\n",
      "[946]\tvalid_0's multi_logloss: 1.91339\n",
      "\n",
      "--- Fold 1 - MAP@3: 0.339743\n",
      "\n",
      "\n",
      "Training until validation scores don't improve for 100 rounds\n",
      "[250]\tvalid_0's multi_logloss: 1.91809\n",
      "[500]\tvalid_0's multi_logloss: 1.91422\n",
      "[750]\tvalid_0's multi_logloss: 1.91278\n",
      "[1000]\tvalid_0's multi_logloss: 1.91214\n",
      "Early stopping, best iteration is:\n",
      "[997]\tvalid_0's multi_logloss: 1.91213\n",
      "\n",
      "--- Fold 2 - MAP@3: 0.340981\n",
      "\n",
      "\n",
      "Training until validation scores don't improve for 100 rounds\n",
      "[250]\tvalid_0's multi_logloss: 1.91777\n",
      "[500]\tvalid_0's multi_logloss: 1.91407\n",
      "[750]\tvalid_0's multi_logloss: 1.9127\n",
      "[1000]\tvalid_0's multi_logloss: 1.91207\n",
      "Early stopping, best iteration is:\n",
      "[1016]\tvalid_0's multi_logloss: 1.91198\n",
      "\n",
      "--- Fold 3 - MAP@3: 0.341586\n",
      "\n",
      "\n",
      "Training until validation scores don't improve for 100 rounds\n",
      "[250]\tvalid_0's multi_logloss: 1.91827\n",
      "[500]\tvalid_0's multi_logloss: 1.91499\n",
      "[750]\tvalid_0's multi_logloss: 1.91381\n",
      "[1000]\tvalid_0's multi_logloss: 1.91353\n",
      "Early stopping, best iteration is:\n",
      "[1020]\tvalid_0's multi_logloss: 1.91349\n",
      "\n",
      "--- Fold 4 - MAP@3: 0.340063\n",
      "\n",
      "\n",
      "Training until validation scores don't improve for 100 rounds\n",
      "[250]\tvalid_0's multi_logloss: 1.91801\n",
      "[500]\tvalid_0's multi_logloss: 1.91461\n",
      "[750]\tvalid_0's multi_logloss: 1.91344\n",
      "[1000]\tvalid_0's multi_logloss: 1.91292\n",
      "[1250]\tvalid_0's multi_logloss: 1.91277\n",
      "Early stopping, best iteration is:\n",
      "[1195]\tvalid_0's multi_logloss: 1.9127\n",
      "\n",
      "--- Fold 5 - MAP@3: 0.341077\n",
      "\n",
      "\n",
      "\n",
      "------ Overall MAP@3: 0.340690 | Average MAP@3: 0.340690 ± 0.000682\n"
     ]
    }
   ],
   "source": [
    "lgbm_model = LGBMClassifier(**lgbm_params)\n",
    "lgbm_trainer = Trainer(lgbm_model)\n",
    "\n",
    "fit_args = {\n",
    "    \"callbacks\": [\n",
    "        log_evaluation(period=250), \n",
    "        early_stopping(stopping_rounds=100)\n",
    "    ]\n",
    "}\n",
    "\n",
    "oof_pred_probs[\"LightGBM (gbdt)\"], test_pred_probs[\"LightGBM (gbdt)\"], scores[\"LightGBM (gbdt)\"] = lgbm_trainer.fit_predict(X, y, X_test, fit_args)"
   ]
  },
  {
   "cell_type": "code",
   "execution_count": 10,
   "id": "15ad1b88",
   "metadata": {
    "execution": {
     "iopub.execute_input": "2025-06-02T07:39:17.753022Z",
     "iopub.status.busy": "2025-06-02T07:39:17.752814Z",
     "iopub.status.idle": "2025-06-02T07:47:57.369729Z",
     "shell.execute_reply": "2025-06-02T07:47:57.368929Z"
    },
    "papermill": {
     "duration": 519.62438,
     "end_time": "2025-06-02T07:47:57.370934",
     "exception": false,
     "start_time": "2025-06-02T07:39:17.746554",
     "status": "completed"
    },
    "tags": []
   },
   "outputs": [
    {
     "name": "stdout",
     "output_type": "stream",
     "text": [
      "Training LGBMClassifier\n",
      "\n",
      "Training until validation scores don't improve for 100 rounds\n",
      "[250]\tvalid_0's multi_logloss: 1.92496\n",
      "Early stopping, best iteration is:\n",
      "[280]\tvalid_0's multi_logloss: 1.9247\n",
      "\n",
      "--- Fold 1 - MAP@3: 0.323660\n",
      "\n",
      "\n",
      "Training until validation scores don't improve for 100 rounds\n",
      "[250]\tvalid_0's multi_logloss: 1.92469\n",
      "Early stopping, best iteration is:\n",
      "[278]\tvalid_0's multi_logloss: 1.92449\n",
      "\n",
      "--- Fold 2 - MAP@3: 0.323424\n",
      "\n",
      "\n",
      "Training until validation scores don't improve for 100 rounds\n",
      "[250]\tvalid_0's multi_logloss: 1.92445\n",
      "Early stopping, best iteration is:\n",
      "[334]\tvalid_0's multi_logloss: 1.92425\n",
      "\n",
      "--- Fold 3 - MAP@3: 0.324553\n",
      "\n",
      "\n",
      "Training until validation scores don't improve for 100 rounds\n",
      "[250]\tvalid_0's multi_logloss: 1.9248\n",
      "Early stopping, best iteration is:\n",
      "[244]\tvalid_0's multi_logloss: 1.92471\n",
      "\n",
      "--- Fold 4 - MAP@3: 0.321713\n",
      "\n",
      "\n",
      "Training until validation scores don't improve for 100 rounds\n",
      "[250]\tvalid_0's multi_logloss: 1.92449\n",
      "Early stopping, best iteration is:\n",
      "[245]\tvalid_0's multi_logloss: 1.92436\n",
      "\n",
      "--- Fold 5 - MAP@3: 0.323951\n",
      "\n",
      "\n",
      "\n",
      "------ Overall MAP@3: 0.323460 | Average MAP@3: 0.323460 ± 0.000952\n"
     ]
    }
   ],
   "source": [
    "lgb_goss_model = LGBMClassifier(**lgbm_goss_params)\n",
    "lgb_goss_trainer = Trainer(lgb_goss_model)\n",
    "\n",
    "fit_args = {\n",
    "    \"callbacks\": [\n",
    "        log_evaluation(period=250), \n",
    "        early_stopping(stopping_rounds=100)\n",
    "    ]\n",
    "}\n",
    "\n",
    "oof_pred_probs[\"LightGBM (goss)\"], test_pred_probs[\"LightGBM (goss)\"], scores[\"LightGBM (goss)\"] = lgb_goss_trainer.fit_predict(X, y, X_test, fit_args)"
   ]
  },
  {
   "cell_type": "code",
   "execution_count": 11,
   "id": "5ba6c43d",
   "metadata": {
    "execution": {
     "iopub.execute_input": "2025-06-02T07:47:57.385086Z",
     "iopub.status.busy": "2025-06-02T07:47:57.384859Z",
     "iopub.status.idle": "2025-06-02T08:17:42.790982Z",
     "shell.execute_reply": "2025-06-02T08:17:42.790052Z"
    },
    "papermill": {
     "duration": 1785.414463,
     "end_time": "2025-06-02T08:17:42.792342",
     "exception": false,
     "start_time": "2025-06-02T07:47:57.377879",
     "status": "completed"
    },
    "tags": []
   },
   "outputs": [
    {
     "name": "stdout",
     "output_type": "stream",
     "text": [
      "Training XGBClassifier\n",
      "\n",
      "[0]\tvalidation_0-mlogloss:1.94567\n",
      "[250]\tvalidation_0-mlogloss:1.92897\n",
      "[500]\tvalidation_0-mlogloss:1.92315\n",
      "[750]\tvalidation_0-mlogloss:1.91935\n",
      "[1000]\tvalidation_0-mlogloss:1.91671\n",
      "[1250]\tvalidation_0-mlogloss:1.91472\n",
      "[1500]\tvalidation_0-mlogloss:1.91327\n",
      "[1750]\tvalidation_0-mlogloss:1.91207\n",
      "[2000]\tvalidation_0-mlogloss:1.91113\n",
      "[2250]\tvalidation_0-mlogloss:1.91039\n",
      "[2500]\tvalidation_0-mlogloss:1.90981\n",
      "[2750]\tvalidation_0-mlogloss:1.90934\n",
      "[3000]\tvalidation_0-mlogloss:1.90894\n",
      "[3250]\tvalidation_0-mlogloss:1.90862\n",
      "[3500]\tvalidation_0-mlogloss:1.90841\n",
      "[3750]\tvalidation_0-mlogloss:1.90830\n",
      "[3821]\tvalidation_0-mlogloss:1.90830\n",
      "\n",
      "--- Fold 1 - MAP@3: 0.345403\n",
      "\n",
      "\n",
      "[0]\tvalidation_0-mlogloss:1.94571\n",
      "[250]\tvalidation_0-mlogloss:1.92897\n",
      "[500]\tvalidation_0-mlogloss:1.92317\n",
      "[750]\tvalidation_0-mlogloss:1.91921\n",
      "[1000]\tvalidation_0-mlogloss:1.91646\n",
      "[1250]\tvalidation_0-mlogloss:1.91439\n",
      "[1500]\tvalidation_0-mlogloss:1.91278\n",
      "[1750]\tvalidation_0-mlogloss:1.91157\n",
      "[2000]\tvalidation_0-mlogloss:1.91054\n",
      "[2250]\tvalidation_0-mlogloss:1.90973\n",
      "[2500]\tvalidation_0-mlogloss:1.90911\n",
      "[2750]\tvalidation_0-mlogloss:1.90856\n",
      "[3000]\tvalidation_0-mlogloss:1.90820\n",
      "[3250]\tvalidation_0-mlogloss:1.90785\n",
      "[3500]\tvalidation_0-mlogloss:1.90755\n",
      "[3750]\tvalidation_0-mlogloss:1.90735\n",
      "[4000]\tvalidation_0-mlogloss:1.90725\n",
      "[4250]\tvalidation_0-mlogloss:1.90723\n",
      "[4500]\tvalidation_0-mlogloss:1.90721\n",
      "[4512]\tvalidation_0-mlogloss:1.90721\n",
      "\n",
      "--- Fold 2 - MAP@3: 0.346461\n",
      "\n",
      "\n",
      "[0]\tvalidation_0-mlogloss:1.94572\n",
      "[250]\tvalidation_0-mlogloss:1.92877\n",
      "[500]\tvalidation_0-mlogloss:1.92285\n",
      "[750]\tvalidation_0-mlogloss:1.91902\n",
      "[1000]\tvalidation_0-mlogloss:1.91629\n",
      "[1250]\tvalidation_0-mlogloss:1.91425\n",
      "[1500]\tvalidation_0-mlogloss:1.91266\n",
      "[1750]\tvalidation_0-mlogloss:1.91135\n",
      "[2000]\tvalidation_0-mlogloss:1.91033\n",
      "[2250]\tvalidation_0-mlogloss:1.90953\n",
      "[2500]\tvalidation_0-mlogloss:1.90887\n",
      "[2750]\tvalidation_0-mlogloss:1.90829\n",
      "[3000]\tvalidation_0-mlogloss:1.90785\n",
      "[3250]\tvalidation_0-mlogloss:1.90752\n",
      "[3500]\tvalidation_0-mlogloss:1.90726\n",
      "[3750]\tvalidation_0-mlogloss:1.90710\n",
      "[4000]\tvalidation_0-mlogloss:1.90699\n",
      "[4250]\tvalidation_0-mlogloss:1.90694\n",
      "[4299]\tvalidation_0-mlogloss:1.90694\n",
      "\n",
      "--- Fold 3 - MAP@3: 0.346906\n",
      "\n",
      "\n",
      "[0]\tvalidation_0-mlogloss:1.94571\n",
      "[250]\tvalidation_0-mlogloss:1.92924\n",
      "[500]\tvalidation_0-mlogloss:1.92354\n",
      "[750]\tvalidation_0-mlogloss:1.91984\n",
      "[1000]\tvalidation_0-mlogloss:1.91726\n",
      "[1250]\tvalidation_0-mlogloss:1.91523\n",
      "[1500]\tvalidation_0-mlogloss:1.91367\n",
      "[1750]\tvalidation_0-mlogloss:1.91250\n",
      "[2000]\tvalidation_0-mlogloss:1.91153\n",
      "[2250]\tvalidation_0-mlogloss:1.91074\n",
      "[2500]\tvalidation_0-mlogloss:1.91008\n",
      "[2750]\tvalidation_0-mlogloss:1.90957\n",
      "[3000]\tvalidation_0-mlogloss:1.90919\n",
      "[3250]\tvalidation_0-mlogloss:1.90889\n",
      "[3500]\tvalidation_0-mlogloss:1.90868\n",
      "[3750]\tvalidation_0-mlogloss:1.90851\n",
      "[4000]\tvalidation_0-mlogloss:1.90841\n",
      "[4250]\tvalidation_0-mlogloss:1.90837\n",
      "[4500]\tvalidation_0-mlogloss:1.90833\n",
      "[4577]\tvalidation_0-mlogloss:1.90835\n",
      "\n",
      "--- Fold 4 - MAP@3: 0.346859\n",
      "\n",
      "\n",
      "[0]\tvalidation_0-mlogloss:1.94568\n",
      "[250]\tvalidation_0-mlogloss:1.92897\n",
      "[500]\tvalidation_0-mlogloss:1.92309\n",
      "[750]\tvalidation_0-mlogloss:1.91926\n",
      "[1000]\tvalidation_0-mlogloss:1.91652\n",
      "[1250]\tvalidation_0-mlogloss:1.91447\n",
      "[1500]\tvalidation_0-mlogloss:1.91288\n",
      "[1750]\tvalidation_0-mlogloss:1.91164\n",
      "[2000]\tvalidation_0-mlogloss:1.91059\n",
      "[2250]\tvalidation_0-mlogloss:1.90976\n",
      "[2500]\tvalidation_0-mlogloss:1.90923\n",
      "[2750]\tvalidation_0-mlogloss:1.90871\n",
      "[3000]\tvalidation_0-mlogloss:1.90827\n",
      "[3250]\tvalidation_0-mlogloss:1.90798\n",
      "[3500]\tvalidation_0-mlogloss:1.90781\n",
      "[3750]\tvalidation_0-mlogloss:1.90764\n",
      "[4000]\tvalidation_0-mlogloss:1.90756\n",
      "[4010]\tvalidation_0-mlogloss:1.90756\n",
      "\n",
      "--- Fold 5 - MAP@3: 0.346201\n",
      "\n",
      "\n",
      "\n",
      "------ Overall MAP@3: 0.346366 | Average MAP@3: 0.346366 ± 0.000547\n"
     ]
    }
   ],
   "source": [
    "xgb_model = XGBClassifier(**xgb_params)\n",
    "xgb_trainer = Trainer(xgb_model)\n",
    "\n",
    "fit_args = {\n",
    "    \"verbose\": 250\n",
    "}\n",
    "\n",
    "oof_pred_probs[\"XGBoost\"], test_pred_probs[\"XGBoost\"], scores[\"XGBoost\"] = xgb_trainer.fit_predict(X, y, X_test, fit_args)"
   ]
  },
  {
   "cell_type": "code",
   "execution_count": 12,
   "id": "1d6f0474",
   "metadata": {
    "execution": {
     "iopub.execute_input": "2025-06-02T08:17:42.813751Z",
     "iopub.status.busy": "2025-06-02T08:17:42.813549Z",
     "iopub.status.idle": "2025-06-02T08:21:19.045770Z",
     "shell.execute_reply": "2025-06-02T08:21:19.045040Z"
    },
    "papermill": {
     "duration": 216.243843,
     "end_time": "2025-06-02T08:21:19.046892",
     "exception": false,
     "start_time": "2025-06-02T08:17:42.803049",
     "status": "completed"
    },
    "tags": []
   },
   "outputs": [
    {
     "name": "stdout",
     "output_type": "stream",
     "text": [
      "Training CatBoostClassifier\n",
      "\n",
      "Learning rate set to 0.099306\n",
      "0:\tlearn: 1.9450552\ttest: 1.9451513\tbest: 1.9451513 (0)\ttotal: 8.35s\tremaining: 11h 35m 56s\n",
      "250:\tlearn: 1.9191408\ttest: 1.9295235\tbest: 1.9295235 (250)\ttotal: 12.8s\tremaining: 4m 1s\n",
      "500:\tlearn: 1.9070171\ttest: 1.9260563\tbest: 1.9260563 (500)\ttotal: 17.3s\tremaining: 2m 35s\n",
      "750:\tlearn: 1.8975360\ttest: 1.9243104\tbest: 1.9243104 (750)\ttotal: 21.8s\tremaining: 2m 3s\n",
      "1000:\tlearn: 1.8883179\ttest: 1.9231871\tbest: 1.9231871 (1000)\ttotal: 26.5s\tremaining: 1m 45s\n",
      "1250:\tlearn: 1.8797271\ttest: 1.9225354\tbest: 1.9225354 (1250)\ttotal: 31s\tremaining: 1m 33s\n",
      "1500:\tlearn: 1.8716469\ttest: 1.9221615\tbest: 1.9221360 (1489)\ttotal: 35.6s\tremaining: 1m 23s\n",
      "bestTest = 1.922133125\n",
      "bestIteration = 1538\n",
      "Shrink model to first 1539 iterations.\n",
      "\n",
      "--- Fold 1 - MAP@3: 0.326094\n",
      "\n",
      "\n",
      "Learning rate set to 0.099306\n",
      "0:\tlearn: 1.9450496\ttest: 1.9450996\tbest: 1.9450996 (0)\ttotal: 19.9ms\tremaining: 1m 39s\n",
      "250:\tlearn: 1.9195338\ttest: 1.9293198\tbest: 1.9293198 (250)\ttotal: 4.52s\tremaining: 1m 25s\n",
      "500:\tlearn: 1.9078594\ttest: 1.9259602\tbest: 1.9259602 (500)\ttotal: 9.03s\tremaining: 1m 21s\n",
      "750:\tlearn: 1.8978377\ttest: 1.9242110\tbest: 1.9242110 (750)\ttotal: 13.6s\tremaining: 1m 16s\n",
      "1000:\tlearn: 1.8888956\ttest: 1.9231308\tbest: 1.9231185 (993)\ttotal: 18.2s\tremaining: 1m 12s\n",
      "1250:\tlearn: 1.8805835\ttest: 1.9224808\tbest: 1.9224669 (1244)\ttotal: 22.7s\tremaining: 1m 8s\n",
      "1500:\tlearn: 1.8727046\ttest: 1.9221785\tbest: 1.9221667 (1482)\ttotal: 27.3s\tremaining: 1m 3s\n",
      "bestTest = 1.922166667\n",
      "bestIteration = 1482\n",
      "Shrink model to first 1483 iterations.\n",
      "\n",
      "--- Fold 2 - MAP@3: 0.326504\n",
      "\n",
      "\n",
      "Learning rate set to 0.099306\n",
      "0:\tlearn: 1.9450756\ttest: 1.9451227\tbest: 1.9451227 (0)\ttotal: 19ms\tremaining: 1m 34s\n",
      "250:\tlearn: 1.9193388\ttest: 1.9291696\tbest: 1.9291696 (250)\ttotal: 4.48s\tremaining: 1m 24s\n",
      "500:\tlearn: 1.9070302\ttest: 1.9255060\tbest: 1.9255060 (500)\ttotal: 9s\tremaining: 1m 20s\n",
      "750:\tlearn: 1.8968737\ttest: 1.9234350\tbest: 1.9234350 (750)\ttotal: 13.6s\tremaining: 1m 16s\n",
      "1000:\tlearn: 1.8877088\ttest: 1.9223135\tbest: 1.9223056 (999)\ttotal: 18.2s\tremaining: 1m 12s\n",
      "1250:\tlearn: 1.8792008\ttest: 1.9217956\tbest: 1.9217948 (1249)\ttotal: 22.9s\tremaining: 1m 8s\n",
      "1500:\tlearn: 1.8712863\ttest: 1.9215329\tbest: 1.9215200 (1489)\ttotal: 27.4s\tremaining: 1m 3s\n",
      "1750:\tlearn: 1.8636279\ttest: 1.9212269\tbest: 1.9212098 (1733)\ttotal: 32s\tremaining: 59.4s\n",
      "bestTest = 1.92111375\n",
      "bestIteration = 1872\n",
      "Shrink model to first 1873 iterations.\n",
      "\n",
      "--- Fold 3 - MAP@3: 0.328448\n",
      "\n",
      "\n",
      "Learning rate set to 0.099306\n",
      "0:\tlearn: 1.9450469\ttest: 1.9451181\tbest: 1.9451181 (0)\ttotal: 19.5ms\tremaining: 1m 37s\n",
      "250:\tlearn: 1.9196506\ttest: 1.9295537\tbest: 1.9295537 (250)\ttotal: 4.5s\tremaining: 1m 25s\n",
      "500:\tlearn: 1.9077688\ttest: 1.9260640\tbest: 1.9260629 (499)\ttotal: 9.05s\tremaining: 1m 21s\n",
      "750:\tlearn: 1.8981571\ttest: 1.9243713\tbest: 1.9243713 (750)\ttotal: 13.6s\tremaining: 1m 17s\n",
      "1000:\tlearn: 1.8890950\ttest: 1.9231942\tbest: 1.9231910 (999)\ttotal: 18.1s\tremaining: 1m 12s\n",
      "1250:\tlearn: 1.8806627\ttest: 1.9226131\tbest: 1.9226131 (1250)\ttotal: 22.7s\tremaining: 1m 8s\n",
      "1500:\tlearn: 1.8725446\ttest: 1.9222569\tbest: 1.9222292 (1447)\ttotal: 27.3s\tremaining: 1m 3s\n",
      "1750:\tlearn: 1.8647844\ttest: 1.9221223\tbest: 1.9221156 (1744)\ttotal: 31.9s\tremaining: 59.2s\n",
      "2000:\tlearn: 1.8575060\ttest: 1.9220385\tbest: 1.9220125 (1986)\ttotal: 36.5s\tremaining: 54.7s\n",
      "bestTest = 1.9220125\n",
      "bestIteration = 1986\n",
      "Shrink model to first 1987 iterations.\n",
      "\n",
      "--- Fold 4 - MAP@3: 0.327638\n",
      "\n",
      "\n",
      "Learning rate set to 0.099306\n",
      "0:\tlearn: 1.9450410\ttest: 1.9450892\tbest: 1.9450892 (0)\ttotal: 20.1ms\tremaining: 1m 40s\n",
      "250:\tlearn: 1.9191877\ttest: 1.9295742\tbest: 1.9295742 (250)\ttotal: 4.49s\tremaining: 1m 24s\n",
      "500:\tlearn: 1.9075935\ttest: 1.9258575\tbest: 1.9258575 (500)\ttotal: 8.99s\tremaining: 1m 20s\n",
      "750:\tlearn: 1.8980321\ttest: 1.9237529\tbest: 1.9237529 (750)\ttotal: 13.5s\tremaining: 1m 16s\n",
      "1000:\tlearn: 1.8892402\ttest: 1.9227013\tbest: 1.9227013 (1000)\ttotal: 18s\tremaining: 1m 12s\n",
      "1250:\tlearn: 1.8811567\ttest: 1.9220815\tbest: 1.9220815 (1250)\ttotal: 22.6s\tremaining: 1m 7s\n",
      "1500:\tlearn: 1.8734800\ttest: 1.9217015\tbest: 1.9216992 (1496)\ttotal: 27.2s\tremaining: 1m 3s\n",
      "1750:\tlearn: 1.8661808\ttest: 1.9213973\tbest: 1.9213894 (1738)\ttotal: 31.9s\tremaining: 59.1s\n",
      "bestTest = 1.921288125\n",
      "bestIteration = 1843\n",
      "Shrink model to first 1844 iterations.\n",
      "\n",
      "--- Fold 5 - MAP@3: 0.327211\n",
      "\n",
      "\n",
      "\n",
      "------ Overall MAP@3: 0.327179 | Average MAP@3: 0.327179 ± 0.000831\n"
     ]
    }
   ],
   "source": [
    "cb_model = CatBoostClassifier(**cb_params)\n",
    "cb_trainer = Trainer(cb_model)\n",
    "\n",
    "fit_args = {\n",
    "    \"verbose\": 250,\n",
    "    \"early_stopping_rounds\": 100,\n",
    "    \"use_best_model\": True,\n",
    "    \"cat_features\": cat_cols\n",
    "}\n",
    "\n",
    "oof_pred_probs[\"CatBoost\"], test_pred_probs[\"CatBoost\"], scores[\"CatBoost\"] = cb_trainer.fit_predict(X, y, X_test, fit_args)"
   ]
  },
  {
   "cell_type": "markdown",
   "id": "8ece8d52",
   "metadata": {
    "papermill": {
     "duration": 0.011851,
     "end_time": "2025-06-02T08:21:19.071095",
     "exception": false,
     "start_time": "2025-06-02T08:21:19.059244",
     "status": "completed"
    },
    "tags": []
   },
   "source": [
    "# Ensembling with LogisticRegression"
   ]
  },
  {
   "cell_type": "code",
   "execution_count": 13,
   "id": "b1c49d1c",
   "metadata": {
    "execution": {
     "iopub.execute_input": "2025-06-02T08:21:19.096765Z",
     "iopub.status.busy": "2025-06-02T08:21:19.095904Z",
     "iopub.status.idle": "2025-06-02T08:21:19.248806Z",
     "shell.execute_reply": "2025-06-02T08:21:19.248254Z"
    },
    "papermill": {
     "duration": 0.167396,
     "end_time": "2025-06-02T08:21:19.250066",
     "exception": false,
     "start_time": "2025-06-02T08:21:19.082670",
     "status": "completed"
    },
    "tags": []
   },
   "outputs": [],
   "source": [
    "X = pd.DataFrame(np.concatenate(list(oof_pred_probs.values()), axis=1))\n",
    "X_test = pd.DataFrame(np.concatenate(list(test_pred_probs.values()), axis=1))"
   ]
  },
  {
   "cell_type": "code",
   "execution_count": 14,
   "id": "a5a51d8c",
   "metadata": {
    "execution": {
     "iopub.execute_input": "2025-06-02T08:21:19.275482Z",
     "iopub.status.busy": "2025-06-02T08:21:19.274917Z",
     "iopub.status.idle": "2025-06-02T08:21:19.477819Z",
     "shell.execute_reply": "2025-06-02T08:21:19.477141Z"
    },
    "papermill": {
     "duration": 0.216573,
     "end_time": "2025-06-02T08:21:19.478925",
     "exception": false,
     "start_time": "2025-06-02T08:21:19.262352",
     "status": "completed"
    },
    "tags": []
   },
   "outputs": [
    {
     "data": {
      "text/plain": [
       "['test_pred_probs.pkl']"
      ]
     },
     "execution_count": 14,
     "metadata": {},
     "output_type": "execute_result"
    }
   ],
   "source": [
    "joblib.dump(X, \"oof_pred_probs.pkl\")\n",
    "joblib.dump(X_test, \"test_pred_probs.pkl\")"
   ]
  },
  {
   "cell_type": "code",
   "execution_count": 15,
   "id": "9a171ae7",
   "metadata": {
    "_kg_hide-output": true,
    "execution": {
     "iopub.execute_input": "2025-06-02T08:21:19.503910Z",
     "iopub.status.busy": "2025-06-02T08:21:19.503725Z",
     "iopub.status.idle": "2025-06-02T08:21:19.507174Z",
     "shell.execute_reply": "2025-06-02T08:21:19.506569Z"
    },
    "papermill": {
     "duration": 0.016954,
     "end_time": "2025-06-02T08:21:19.508266",
     "exception": false,
     "start_time": "2025-06-02T08:21:19.491312",
     "status": "completed"
    },
    "scrolled": true,
    "tags": []
   },
   "outputs": [],
   "source": [
    "# def objective(trial):\n",
    "#     solver_penalty_options = [\n",
    "#         ('liblinear', 'l1'),\n",
    "#         ('liblinear', 'l2'),\n",
    "#         ('lbfgs', 'l2'),\n",
    "#         ('lbfgs', None)\n",
    "#     ]\n",
    "#     solver, penalty = trial.suggest_categorical('solver_penalty', solver_penalty_options)\n",
    "    \n",
    "#     params = {\n",
    "#         'random_state': CFG.seed,\n",
    "#         'max_iter': 500,\n",
    "#         'C': trial.suggest_float('C', 0, 10),\n",
    "#         'tol': trial.suggest_float('tol', 1e-7, 1e-2),\n",
    "#         'fit_intercept': trial.suggest_categorical('fit_intercept', [True, False]),\n",
    "#         'class_weight': trial.suggest_categorical('class_weight', ['balanced', None]),\n",
    "#         'solver': solver,\n",
    "#         'penalty': penalty\n",
    "#     }\n",
    "    \n",
    "#     model = LogisticRegression(**params)\n",
    "#     trainer = Trainer(model)\n",
    "#     return trainer.tune(X, y)\n",
    "\n",
    "# sampler = optuna.samplers.TPESampler(seed=CFG.seed, multivariate=True)\n",
    "# study = optuna.create_study(direction='maximize', sampler=sampler)\n",
    "# study.optimize(objective, n_trials=250, n_jobs=-1)\n",
    "# best_params = study.best_params"
   ]
  },
  {
   "cell_type": "code",
   "execution_count": 16,
   "id": "e29855c3",
   "metadata": {
    "execution": {
     "iopub.execute_input": "2025-06-02T08:21:19.532955Z",
     "iopub.status.busy": "2025-06-02T08:21:19.532302Z",
     "iopub.status.idle": "2025-06-02T08:21:19.535719Z",
     "shell.execute_reply": "2025-06-02T08:21:19.535050Z"
    },
    "papermill": {
     "duration": 0.016645,
     "end_time": "2025-06-02T08:21:19.536683",
     "exception": false,
     "start_time": "2025-06-02T08:21:19.520038",
     "status": "completed"
    },
    "tags": []
   },
   "outputs": [],
   "source": [
    "lr_params = {\n",
    "    'random_state': CFG.seed,\n",
    "    'max_iter': 500,\n",
    "    # 'C': 2.241899603250816,\n",
    "    # 'tol': 0.0025920949567029227,\n",
    "    # 'fit_intercept': True,\n",
    "    # 'class_weight': None,\n",
    "    # 'solver': 'liblinear',\n",
    "    # 'penalty': 'l2'\n",
    "}"
   ]
  },
  {
   "cell_type": "code",
   "execution_count": 17,
   "id": "436a0264",
   "metadata": {
    "execution": {
     "iopub.execute_input": "2025-06-02T08:21:19.561298Z",
     "iopub.status.busy": "2025-06-02T08:21:19.560910Z",
     "iopub.status.idle": "2025-06-02T08:21:19.564512Z",
     "shell.execute_reply": "2025-06-02T08:21:19.563927Z"
    },
    "papermill": {
     "duration": 0.017063,
     "end_time": "2025-06-02T08:21:19.565540",
     "exception": false,
     "start_time": "2025-06-02T08:21:19.548477",
     "status": "completed"
    },
    "tags": []
   },
   "outputs": [
    {
     "name": "stdout",
     "output_type": "stream",
     "text": [
      "{\n",
      "  \"random_state\": 42,\n",
      "  \"max_iter\": 500\n",
      "}\n"
     ]
    }
   ],
   "source": [
    "print(json.dumps(lr_params, indent=2))"
   ]
  },
  {
   "cell_type": "code",
   "execution_count": 18,
   "id": "1dc44e6a",
   "metadata": {
    "execution": {
     "iopub.execute_input": "2025-06-02T08:21:19.590162Z",
     "iopub.status.busy": "2025-06-02T08:21:19.589937Z",
     "iopub.status.idle": "2025-06-02T08:22:06.495733Z",
     "shell.execute_reply": "2025-06-02T08:22:06.495053Z"
    },
    "papermill": {
     "duration": 46.919349,
     "end_time": "2025-06-02T08:22:06.496849",
     "exception": false,
     "start_time": "2025-06-02T08:21:19.577500",
     "status": "completed"
    },
    "tags": []
   },
   "outputs": [
    {
     "name": "stdout",
     "output_type": "stream",
     "text": [
      "Training LogisticRegression\n",
      "\n",
      "--- Fold 1 - MAP@3: 0.345699\n",
      "--- Fold 2 - MAP@3: 0.346623\n",
      "--- Fold 3 - MAP@3: 0.348151\n",
      "--- Fold 4 - MAP@3: 0.346986\n",
      "--- Fold 5 - MAP@3: 0.347114\n",
      "\n",
      "------ Overall MAP@3: 0.346915 | Average MAP@3: 0.346915 ± 0.000792\n"
     ]
    }
   ],
   "source": [
    "lr_model = LogisticRegression(**lr_params)\n",
    "lr_trainer = Trainer(lr_model)\n",
    "\n",
    "_, lr_test_pred_probs, scores[\"LogisticRegression\"] = lr_trainer.fit_predict(X, y, X_test)"
   ]
  },
  {
   "cell_type": "code",
   "execution_count": 19,
   "id": "aa94fb28",
   "metadata": {
    "execution": {
     "iopub.execute_input": "2025-06-02T08:22:06.523035Z",
     "iopub.status.busy": "2025-06-02T08:22:06.522822Z",
     "iopub.status.idle": "2025-06-02T08:22:27.317585Z",
     "shell.execute_reply": "2025-06-02T08:22:27.317052Z"
    },
    "papermill": {
     "duration": 20.809013,
     "end_time": "2025-06-02T08:22:27.318900",
     "exception": false,
     "start_time": "2025-06-02T08:22:06.509887",
     "status": "completed"
    },
    "tags": []
   },
   "outputs": [],
   "source": [
    "final_predictions = []\n",
    "for i in np.argsort(lr_test_pred_probs)[:,-3:][::-1]:\n",
    "    prediction = label_encoder.inverse_transform(i)\n",
    "    final_predictions.append(\" \".join(prediction))"
   ]
  },
  {
   "cell_type": "code",
   "execution_count": 20,
   "id": "5b35b95e",
   "metadata": {
    "execution": {
     "iopub.execute_input": "2025-06-02T08:22:27.345204Z",
     "iopub.status.busy": "2025-06-02T08:22:27.344965Z",
     "iopub.status.idle": "2025-06-02T08:22:27.840813Z",
     "shell.execute_reply": "2025-06-02T08:22:27.840091Z"
    },
    "papermill": {
     "duration": 0.509913,
     "end_time": "2025-06-02T08:22:27.841955",
     "exception": false,
     "start_time": "2025-06-02T08:22:27.332042",
     "status": "completed"
    },
    "tags": []
   },
   "outputs": [
    {
     "data": {
      "text/html": [
       "<div>\n",
       "<style scoped>\n",
       "    .dataframe tbody tr th:only-of-type {\n",
       "        vertical-align: middle;\n",
       "    }\n",
       "\n",
       "    .dataframe tbody tr th {\n",
       "        vertical-align: top;\n",
       "    }\n",
       "\n",
       "    .dataframe thead th {\n",
       "        text-align: right;\n",
       "    }\n",
       "</style>\n",
       "<table border=\"1\" class=\"dataframe\">\n",
       "  <thead>\n",
       "    <tr style=\"text-align: right;\">\n",
       "      <th></th>\n",
       "      <th>id</th>\n",
       "      <th>Fertilizer Name</th>\n",
       "    </tr>\n",
       "  </thead>\n",
       "  <tbody>\n",
       "    <tr>\n",
       "      <th>0</th>\n",
       "      <td>750000</td>\n",
       "      <td>20-20 17-17-17 14-35-14</td>\n",
       "    </tr>\n",
       "    <tr>\n",
       "      <th>1</th>\n",
       "      <td>750001</td>\n",
       "      <td>DAP 28-28 10-26-26</td>\n",
       "    </tr>\n",
       "    <tr>\n",
       "      <th>2</th>\n",
       "      <td>750002</td>\n",
       "      <td>10-26-26 14-35-14 DAP</td>\n",
       "    </tr>\n",
       "    <tr>\n",
       "      <th>3</th>\n",
       "      <td>750003</td>\n",
       "      <td>17-17-17 14-35-14 10-26-26</td>\n",
       "    </tr>\n",
       "    <tr>\n",
       "      <th>4</th>\n",
       "      <td>750004</td>\n",
       "      <td>14-35-14 17-17-17 28-28</td>\n",
       "    </tr>\n",
       "  </tbody>\n",
       "</table>\n",
       "</div>"
      ],
      "text/plain": [
       "       id             Fertilizer Name\n",
       "0  750000     20-20 17-17-17 14-35-14\n",
       "1  750001          DAP 28-28 10-26-26\n",
       "2  750002       10-26-26 14-35-14 DAP\n",
       "3  750003  17-17-17 14-35-14 10-26-26\n",
       "4  750004     14-35-14 17-17-17 28-28"
      ]
     },
     "execution_count": 20,
     "metadata": {},
     "output_type": "execute_result"
    }
   ],
   "source": [
    "sub = pd.read_csv(CFG.sample_sub_path)\n",
    "sub[CFG.target] = final_predictions\n",
    "sub.to_csv(f\"sub_logistic-regression_{np.mean(scores['LogisticRegression']):.6f}.csv\", index=False)\n",
    "sub.head()"
   ]
  },
  {
   "cell_type": "markdown",
   "id": "cf82762b",
   "metadata": {
    "papermill": {
     "duration": 0.012332,
     "end_time": "2025-06-02T08:22:27.867304",
     "exception": false,
     "start_time": "2025-06-02T08:22:27.854972",
     "status": "completed"
    },
    "tags": []
   },
   "source": [
    "# Results"
   ]
  },
  {
   "cell_type": "code",
   "execution_count": 21,
   "id": "da334fb8",
   "metadata": {
    "execution": {
     "iopub.execute_input": "2025-06-02T08:22:27.892981Z",
     "iopub.status.busy": "2025-06-02T08:22:27.892759Z",
     "iopub.status.idle": "2025-06-02T08:22:28.212834Z",
     "shell.execute_reply": "2025-06-02T08:22:28.212240Z"
    },
    "papermill": {
     "duration": 0.33435,
     "end_time": "2025-06-02T08:22:28.214063",
     "exception": false,
     "start_time": "2025-06-02T08:22:27.879713",
     "status": "completed"
    },
    "tags": []
   },
   "outputs": [
    {
     "data": {
      "image/png": "[encoded data removed]",
      "text/plain": [
       "<Figure size 1500x200 with 2 Axes>"
      ]
     },
     "metadata": {},
     "output_type": "display_data"
    }
   ],
   "source": [
    "scores = pd.DataFrame(scores)\n",
    "mean_scores = scores.mean().sort_values(ascending=False)\n",
    "order = scores.mean().sort_values(ascending=False).index.tolist()\n",
    "\n",
    "min_score = mean_scores.min()\n",
    "max_score = mean_scores.max()\n",
    "padding = (max_score - min_score) * 0.5\n",
    "lower_limit = min_score - padding\n",
    "upper_limit = max_score + padding\n",
    "\n",
    "fig, axs = plt.subplots(1, 2, figsize=(15, scores.shape[1] * 0.4))\n",
    "\n",
    "boxplot = sns.boxplot(data=scores, order=order, ax=axs[0], orient=\"h\", color=\"grey\")\n",
    "axs[0].set_title(f\"Fold MAP@3\")\n",
    "axs[0].set_xlabel(\"\")\n",
    "axs[0].set_ylabel(\"\")\n",
    "\n",
    "barplot = sns.barplot(x=mean_scores.values, y=mean_scores.index, ax=axs[1], color=\"grey\")\n",
    "axs[1].set_title(f\"Mean MAP@3\")\n",
    "axs[1].set_xlabel(\"\")\n",
    "axs[1].set_xlim(left=lower_limit, right=upper_limit)\n",
    "axs[1].set_ylabel(\"\")\n",
    "\n",
    "for i, (score, model) in enumerate(zip(mean_scores.values, mean_scores.index)):\n",
    "    color = \"cyan\" if \"logistic\" in model.lower() else \"grey\"\n",
    "    barplot.patches[i].set_facecolor(color)\n",
    "    boxplot.patches[i].set_facecolor(color)\n",
    "    barplot.text(score, i, round(score, 6), va=\"center\")\n",
    "\n",
    "plt.tight_layout()\n",
    "plt.show()"
   ]
  }
 ],
 "metadata": {
  "kaggle": {
   "accelerator": "gpu",
   "dataSources": [
    {
     "databundleVersionId": 12184666,
     "sourceId": 91717,
     "sourceType": "competition"
    }
   ],
   "dockerImageVersionId": 31040,
   "isGpuEnabled": true,
   "isInternetEnabled": true,
   "language": "python",
   "sourceType": "notebook"
  },
  "kernelspec": {
   "display_name": "Python 3",
   "language": "python",
   "name": "python3"
  },
  "language_info": {
   "codemirror_mode": {
    "name": "ipython",
    "version": 3
   },
   "file_extension": ".py",
   "mimetype": "text/x-python",
   "name": "python",
   "nbconvert_exporter": "python",
   "pygments_lexer": "ipython3",
   "version": "3.11.11"
  },
  "papermill": {
   "default_parameters": {},
   "duration": 3636.042332,
   "end_time": "2025-06-02T08:22:29.151851",
   "environment_variables": {},
   "exception": null,
   "input_path": "__notebook__.ipynb",
   "output_path": "__notebook__.ipynb",
   "parameters": {},
   "start_time": "2025-06-02T07:21:53.109519",
   "version": "2.6.0"
  }
 },
 "nbformat": 4,
 "nbformat_minor": 5
}
