{
 "cells": [
  {
   "cell_type": "markdown",
   "id": "68a8ca57",
   "metadata": {
    "papermill": {
     "duration": 0.004232,
     "end_time": "2025-06-02T17:13:39.000586",
     "exception": false,
     "start_time": "2025-06-02T17:13:38.996354",
     "status": "completed"
    },
    "tags": []
   },
   "source": [
    "# Imports and configs"
   ]
  },
  {
   "cell_type": "code",
   "execution_count": 1,
   "id": "964012c0",
   "metadata": {
    "_kg_hide-output": true,
    "execution": {
     "iopub.execute_input": "2025-06-02T17:13:39.008779Z",
     "iopub.status.busy": "2025-06-02T17:13:39.008465Z",
     "iopub.status.idle": "2025-06-02T17:13:46.272704Z",
     "shell.execute_reply": "2025-06-02T17:13:46.271747Z"
    },
    "papermill": {
     "duration": 7.270008,
     "end_time": "2025-06-02T17:13:46.274233",
     "exception": false,
     "start_time": "2025-06-02T17:13:39.004225",
     "status": "completed"
    },
    "tags": []
   },
   "outputs": [
    {
     "name": "stdout",
     "output_type": "stream",
     "text": [
      "\u001b[2K   \u001b[90m━━━━━━━━━━━━━━━━━━━━━━━━━━━━━━━━━━━━━━━━\u001b[0m \u001b[32m13.3/13.3 MB\u001b[0m \u001b[31m103.9 MB/s\u001b[0m eta \u001b[36m0:00:00\u001b[0m\r\n",
      "\u001b[?25h\u001b[31mERROR: pip's dependency resolver does not currently take into account all the packages that are installed. This behaviour is the source of the following dependency conflicts.\r\n",
      "cesium 0.12.4 requires numpy<3.0,>=2.0, but you have numpy 1.26.4 which is incompatible.\u001b[0m\u001b[31m\r\n",
      "\u001b[0m"
     ]
    }
   ],
   "source": [
    "!pip install -q scikit-learn==1.5.2"
   ]
  },
  {
   "cell_type": "code",
   "execution_count": 2,
   "id": "e19160ce",
   "metadata": {
    "execution": {
     "iopub.execute_input": "2025-06-02T17:13:46.283215Z",
     "iopub.status.busy": "2025-06-02T17:13:46.282949Z",
     "iopub.status.idle": "2025-06-02T17:13:53.660462Z",
     "shell.execute_reply": "2025-06-02T17:13:53.659905Z"
    },
    "papermill": {
     "duration": 7.383626,
     "end_time": "2025-06-02T17:13:53.661849",
     "exception": false,
     "start_time": "2025-06-02T17:13:46.278223",
     "status": "completed"
    },
    "tags": []
   },
   "outputs": [],
   "source": [
    "from lightgbm import LGBMClassifier, log_evaluation, early_stopping\n",
    "from sklearn.feature_selection import mutual_info_classif\n",
    "from sklearn.linear_model import LogisticRegression\n",
    "from sklearn.model_selection import StratifiedKFold\n",
    "from sklearn.preprocessing import LabelEncoder\n",
    "from sklearn.base import clone\n",
    "from catboost import CatBoostClassifier\n",
    "from xgboost import XGBClassifier\n",
    "import matplotlib.pyplot as plt\n",
    "import seaborn as sns\n",
    "import pandas as pd\n",
    "import numpy as np\n",
    "import warnings\n",
    "import joblib\n",
    "import optuna\n",
    "import shutil\n",
    "import json\n",
    "import gc\n",
    "\n",
    "warnings.filterwarnings(\"ignore\")"
   ]
  },
  {
   "cell_type": "code",
   "execution_count": 3,
   "id": "90bacbce",
   "metadata": {
    "execution": {
     "iopub.execute_input": "2025-06-02T17:13:53.671229Z",
     "iopub.status.busy": "2025-06-02T17:13:53.670389Z",
     "iopub.status.idle": "2025-06-02T17:13:53.674242Z",
     "shell.execute_reply": "2025-06-02T17:13:53.673742Z"
    },
    "papermill": {
     "duration": 0.009363,
     "end_time": "2025-06-02T17:13:53.675291",
     "exception": false,
     "start_time": "2025-06-02T17:13:53.665928",
     "status": "completed"
    },
    "tags": []
   },
   "outputs": [],
   "source": [
    "class CFG:\n",
    "    train_path = \"/kaggle/input/playground-series-s5e6/train.csv\"\n",
    "    test_path = \"/kaggle/input/playground-series-s5e6/test.csv\"\n",
    "    sample_sub_path = \"/kaggle/input/playground-series-s5e6/sample_submission.csv\"\n",
    "    \n",
    "    target = \"Fertilizer Name\"\n",
    "    n_folds = 5\n",
    "    seed = 42\n",
    "    \n",
    "    run_optuna = False\n",
    "    n_optuna_trials = 250"
   ]
  },
  {
   "cell_type": "markdown",
   "id": "1dcc8277",
   "metadata": {
    "papermill": {
     "duration": 0.00347,
     "end_time": "2025-06-02T17:13:53.682507",
     "exception": false,
     "start_time": "2025-06-02T17:13:53.679037",
     "status": "completed"
    },
    "tags": []
   },
   "source": [
    "# Data loading and preprocessing"
   ]
  },
  {
   "cell_type": "code",
   "execution_count": 4,
   "id": "7199717b",
   "metadata": {
    "execution": {
     "iopub.execute_input": "2025-06-02T17:13:53.690587Z",
     "iopub.status.busy": "2025-06-02T17:13:53.690376Z",
     "iopub.status.idle": "2025-06-02T17:13:55.290149Z",
     "shell.execute_reply": "2025-06-02T17:13:55.289195Z"
    },
    "papermill": {
     "duration": 1.605614,
     "end_time": "2025-06-02T17:13:55.291747",
     "exception": false,
     "start_time": "2025-06-02T17:13:53.686133",
     "status": "completed"
    },
    "tags": []
   },
   "outputs": [],
   "source": [
    "train = pd.read_csv(CFG.train_path, index_col=\"id\")\n",
    "test = pd.read_csv(CFG.test_path, index_col=\"id\")\n",
    "\n",
    "cat_cols = train.select_dtypes(include=\"object\").columns.tolist()\n",
    "cat_cols = [c for c in cat_cols if c != CFG.target]\n",
    "train[cat_cols] = train[cat_cols].astype(str).astype(\"category\")\n",
    "test[cat_cols] = test[cat_cols].astype(str).astype(\"category\")\n",
    "\n",
    "label_encoder = LabelEncoder()\n",
    "train[CFG.target] = label_encoder.fit_transform(train[CFG.target])\n",
    "\n",
    "X = train.drop(CFG.target, axis=1)\n",
    "y = train[CFG.target]\n",
    "X_test = test"
   ]
  },
  {
   "cell_type": "code",
   "execution_count": 5,
   "id": "814878a6",
   "metadata": {
    "execution": {
     "iopub.execute_input": "2025-06-02T17:13:55.301350Z",
     "iopub.status.busy": "2025-06-02T17:13:55.301090Z",
     "iopub.status.idle": "2025-06-02T17:13:59.877030Z",
     "shell.execute_reply": "2025-06-02T17:13:59.876269Z"
    },
    "papermill": {
     "duration": 4.582223,
     "end_time": "2025-06-02T17:13:59.878286",
     "exception": false,
     "start_time": "2025-06-02T17:13:55.296063",
     "status": "completed"
    },
    "tags": []
   },
   "outputs": [
    {
     "data": {
      "text/html": [
       "<style type=\"text/css\">\n",
       "#T_e2223_row0_col0 {\n",
       "  width: 10em;\n",
       "  background: linear-gradient(90deg, #006837 100.0%, transparent 100.0%);\n",
       "}\n",
       "#T_e2223_row1_col0 {\n",
       "  width: 10em;\n",
       "  background: linear-gradient(90deg, #199750 90.2%, transparent 90.2%);\n",
       "}\n",
       "#T_e2223_row2_col0 {\n",
       "  width: 10em;\n",
       "  background: linear-gradient(90deg, #9bd469 71.7%, transparent 71.7%);\n",
       "}\n",
       "#T_e2223_row3_col0 {\n",
       "  width: 10em;\n",
       "  background: linear-gradient(90deg, #c9e881 63.1%, transparent 63.1%);\n",
       "}\n",
       "#T_e2223_row4_col0 {\n",
       "  width: 10em;\n",
       "  background: linear-gradient(90deg, #fee491 41.3%, transparent 41.3%);\n",
       "}\n",
       "#T_e2223_row5_col0 {\n",
       "  width: 10em;\n",
       "  background: linear-gradient(90deg, #fdb163 30.7%, transparent 30.7%);\n",
       "}\n",
       "#T_e2223_row6_col0 {\n",
       "  width: 10em;\n",
       "  background: linear-gradient(90deg, #fca85e 29.2%, transparent 29.2%);\n",
       "}\n",
       "#T_e2223_row7_col0 {\n",
       "  width: 10em;\n",
       "  background: linear-gradient(90deg, #ef633f 18.6%, transparent 18.6%);\n",
       "}\n",
       "</style>\n",
       "<table id=\"T_e2223\">\n",
       "  <thead>\n",
       "    <tr>\n",
       "      <th class=\"blank level0\" >&nbsp;</th>\n",
       "      <th id=\"T_e2223_level0_col0\" class=\"col_heading level0 col0\" >Mutual Information</th>\n",
       "    </tr>\n",
       "  </thead>\n",
       "  <tbody>\n",
       "    <tr>\n",
       "      <th id=\"T_e2223_level0_row0\" class=\"row_heading level0 row0\" >Moisture</th>\n",
       "      <td id=\"T_e2223_row0_col0\" class=\"data row0 col0\" >0.003308</td>\n",
       "    </tr>\n",
       "    <tr>\n",
       "      <th id=\"T_e2223_level0_row1\" class=\"row_heading level0 row1\" >Phosphorous</th>\n",
       "      <td id=\"T_e2223_row1_col0\" class=\"data row1 col0\" >0.002984</td>\n",
       "    </tr>\n",
       "    <tr>\n",
       "      <th id=\"T_e2223_level0_row2\" class=\"row_heading level0 row2\" >Nitrogen</th>\n",
       "      <td id=\"T_e2223_row2_col0\" class=\"data row2 col0\" >0.002373</td>\n",
       "    </tr>\n",
       "    <tr>\n",
       "      <th id=\"T_e2223_level0_row3\" class=\"row_heading level0 row3\" >Crop Type</th>\n",
       "      <td id=\"T_e2223_row3_col0\" class=\"data row3 col0\" >0.002088</td>\n",
       "    </tr>\n",
       "    <tr>\n",
       "      <th id=\"T_e2223_level0_row4\" class=\"row_heading level0 row4\" >Potassium</th>\n",
       "      <td id=\"T_e2223_row4_col0\" class=\"data row4 col0\" >0.001367</td>\n",
       "    </tr>\n",
       "    <tr>\n",
       "      <th id=\"T_e2223_level0_row5\" class=\"row_heading level0 row5\" >Humidity</th>\n",
       "      <td id=\"T_e2223_row5_col0\" class=\"data row5 col0\" >0.001015</td>\n",
       "    </tr>\n",
       "    <tr>\n",
       "      <th id=\"T_e2223_level0_row6\" class=\"row_heading level0 row6\" >Temparature</th>\n",
       "      <td id=\"T_e2223_row6_col0\" class=\"data row6 col0\" >0.000966</td>\n",
       "    </tr>\n",
       "    <tr>\n",
       "      <th id=\"T_e2223_level0_row7\" class=\"row_heading level0 row7\" >Soil Type</th>\n",
       "      <td id=\"T_e2223_row7_col0\" class=\"data row7 col0\" >0.000617</td>\n",
       "    </tr>\n",
       "  </tbody>\n",
       "</table>\n"
      ],
      "text/plain": [
       "<pandas.io.formats.style.Styler at 0x78351a0c1910>"
      ]
     },
     "execution_count": 5,
     "metadata": {},
     "output_type": "execute_result"
    }
   ],
   "source": [
    "mutual_info = mutual_info_classif(X, y, random_state=CFG.seed, discrete_features=True)\n",
    "\n",
    "mutual_info = pd.Series(mutual_info)\n",
    "mutual_info.index = X.columns\n",
    "mutual_info = pd.DataFrame(mutual_info.sort_values(ascending=False), columns=['Mutual Information'])\n",
    "mutual_info.style.bar(subset=['Mutual Information'], cmap='RdYlGn')"
   ]
  },
  {
   "cell_type": "markdown",
   "id": "1781ed2e",
   "metadata": {
    "papermill": {
     "duration": 0.004185,
     "end_time": "2025-06-02T17:13:59.886943",
     "exception": false,
     "start_time": "2025-06-02T17:13:59.882758",
     "status": "completed"
    },
    "tags": []
   },
   "source": [
    "# Training base models"
   ]
  },
  {
   "cell_type": "code",
   "execution_count": 6,
   "id": "ee5383c4",
   "metadata": {
    "execution": {
     "iopub.execute_input": "2025-06-02T17:13:59.895943Z",
     "iopub.status.busy": "2025-06-02T17:13:59.895522Z",
     "iopub.status.idle": "2025-06-02T17:13:59.901032Z",
     "shell.execute_reply": "2025-06-02T17:13:59.900316Z"
    },
    "papermill": {
     "duration": 0.010969,
     "end_time": "2025-06-02T17:13:59.902041",
     "exception": false,
     "start_time": "2025-06-02T17:13:59.891072",
     "status": "completed"
    },
    "tags": []
   },
   "outputs": [],
   "source": [
    "def map3(y_true, y_pred_probs):\n",
    "    y_true = [[x] for x in y_true]\n",
    "    y_pred_probs = np.argsort(y_pred_probs, axis=1)[:, -3:][:, ::-1].tolist()\n",
    "    \n",
    "    def ap3(y_true, y_pred_probs):\n",
    "        y_pred_probs = y_pred_probs[:3]\n",
    "\n",
    "        score = 0.0\n",
    "        num_hits = 0.0\n",
    "\n",
    "        for i,p in enumerate(y_pred_probs):\n",
    "            if p in y_true and p not in y_pred_probs[:i]:\n",
    "                num_hits += 1.0\n",
    "                score += num_hits / (i+1.0)\n",
    "\n",
    "        if not y_true:\n",
    "            return 0.0\n",
    "\n",
    "        return score\n",
    "    \n",
    "    return np.mean([ap3(a,p) for a,p in zip(y_true, y_pred_probs)])"
   ]
  },
  {
   "cell_type": "code",
   "execution_count": 7,
   "id": "3156ea48",
   "metadata": {
    "execution": {
     "iopub.execute_input": "2025-06-02T17:13:59.910531Z",
     "iopub.status.busy": "2025-06-02T17:13:59.910344Z",
     "iopub.status.idle": "2025-06-02T17:13:59.918850Z",
     "shell.execute_reply": "2025-06-02T17:13:59.918302Z"
    },
    "papermill": {
     "duration": 0.013914,
     "end_time": "2025-06-02T17:13:59.919800",
     "exception": false,
     "start_time": "2025-06-02T17:13:59.905886",
     "status": "completed"
    },
    "tags": []
   },
   "outputs": [],
   "source": [
    "class Trainer:\n",
    "    def __init__(self, model, config=CFG):\n",
    "        self.model = model\n",
    "        self.config = config\n",
    "\n",
    "    def fit_predict(self, X, y, X_test, fit_args={}):\n",
    "        print(f\"Training {self.model.__class__.__name__}\\n\")\n",
    "        \n",
    "        scores = []        \n",
    "        oof_pred_probs = np.zeros((X.shape[0], y.nunique()))\n",
    "        test_pred_probs = np.zeros((X_test.shape[0], y.nunique()))\n",
    "        \n",
    "        skf = StratifiedKFold(n_splits=self.config.n_folds, random_state=self.config.seed, shuffle=True)\n",
    "        for fold_idx, (train_idx, val_idx) in enumerate(skf.split(X, y)):\n",
    "            X_train, X_val = X.iloc[train_idx], X.iloc[val_idx]\n",
    "            y_train, y_val = y[train_idx], y[val_idx]\n",
    "            \n",
    "            model = clone(self.model)\n",
    "            \n",
    "            if fit_args:\n",
    "                model.fit(X_train, y_train, **fit_args, eval_set=[(X_val, y_val)])\n",
    "            else:\n",
    "                model.fit(X_train, y_train)\n",
    "            \n",
    "            y_pred_probs = model.predict_proba(X_val)\n",
    "            oof_pred_probs[val_idx] = y_pred_probs\n",
    "            \n",
    "            temp_test_pred_probs = model.predict_proba(X_test)\n",
    "            test_pred_probs += temp_test_pred_probs / self.config.n_folds\n",
    "            \n",
    "            score = map3(y_val, y_pred_probs)\n",
    "            scores.append(score)\n",
    "            \n",
    "            del model, X_train, y_train, X_val, y_val, y_pred_probs\n",
    "            gc.collect()\n",
    "            \n",
    "            if fit_args:\n",
    "                print(f\"\\n--- Fold {fold_idx + 1} - MAP@3: {score:.6f}\\n\\n\")\n",
    "            else:\n",
    "                print(f\"--- Fold {fold_idx + 1} - MAP@3: {score:.6f}\")\n",
    "                            \n",
    "        overall_score = map3(y, oof_pred_probs)\n",
    "            \n",
    "        print(f\"\\n------ Overall MAP@3: {overall_score:.6f} | Average MAP@3: {np.mean(scores):.6f} ± {np.std(scores):.6f}\")\n",
    "        \n",
    "        return oof_pred_probs, test_pred_probs, scores\n",
    "\n",
    "    def tune(self, X, y):        \n",
    "        scores = []        \n",
    "        \n",
    "        skf = StratifiedKFold(n_splits=self.config.n_folds, random_state=self.config.seed, shuffle=True)\n",
    "        for fold_idx, (train_idx, val_idx) in enumerate(skf.split(X, y)):\n",
    "            X_train, X_val = X.iloc[train_idx], X.iloc[val_idx]\n",
    "            y_train, y_val = y[train_idx], y[val_idx]\n",
    "            \n",
    "            model = clone(self.model)\n",
    "            model.fit(X_train, y_train)\n",
    "            \n",
    "            y_pred_probs = model.predict_proba(X_val)            \n",
    "            score = map3(y_val, y_pred_probs)\n",
    "            scores.append(score)\n",
    "            \n",
    "            del model, X_train, y_train, X_val, y_val, y_pred_probs\n",
    "            gc.collect()\n",
    "            \n",
    "        return np.mean(scores)"
   ]
  },
  {
   "cell_type": "code",
   "execution_count": 8,
   "id": "b89077ea",
   "metadata": {
    "_kg_hide-input": true,
    "execution": {
     "iopub.execute_input": "2025-06-02T17:13:59.928625Z",
     "iopub.status.busy": "2025-06-02T17:13:59.928437Z",
     "iopub.status.idle": "2025-06-02T17:13:59.933750Z",
     "shell.execute_reply": "2025-06-02T17:13:59.933232Z"
    },
    "papermill": {
     "duration": 0.010634,
     "end_time": "2025-06-02T17:13:59.934750",
     "exception": false,
     "start_time": "2025-06-02T17:13:59.924116",
     "status": "completed"
    },
    "tags": []
   },
   "outputs": [],
   "source": [
    "lgbm_params = {\n",
    "    \"device\": \"gpu\",\n",
    "    \"boosting_type\": \"gbdt\",\n",
    "    \"colsample_bytree\": 0.4200885898620258,\n",
    "    \"learning_rate\": 0.0664972405897673,\n",
    "    \"min_child_samples\": 11,\n",
    "    \"min_child_weight\": 0.01174009760234429,\n",
    "    \"n_estimators\": 10000,\n",
    "    \"n_jobs\": -1,\n",
    "    \"num_leaves\": 20,\n",
    "    \"random_state\": 42,\n",
    "    \"reg_alpha\": 4.145270698802584,\n",
    "    \"reg_lambda\": 91.78710546495805,\n",
    "    \"subsample\": 0.4170751765791902,\n",
    "    \"verbose\": -1\n",
    "}\n",
    "\n",
    "lgbm_goss_params = {\n",
    "    \"device\": \"gpu\",\n",
    "    \"boosting_type\": \"goss\",\n",
    "    \"colsample_bytree\": 0.39736332491996407,\n",
    "    \"learning_rate\": 0.008033740989500222,\n",
    "    \"min_child_samples\": 29,\n",
    "    \"min_child_weight\": 0.6732469853333759,\n",
    "    \"n_estimators\": 10000,\n",
    "    \"n_jobs\": -1,\n",
    "    \"num_leaves\": 89,\n",
    "    \"random_state\": 42,\n",
    "    \"reg_alpha\": 15.595856670965969,\n",
    "    \"reg_lambda\": 51.43625034648377,\n",
    "    \"subsample\": 0.07846482736630467,\n",
    "    \"verbose\": -1\n",
    "}\n",
    "\n",
    "xgb_params = {\n",
    "    \"device\": \"gpu\",\n",
    "    \"colsample_bylevel\": 0.8346068481666694,\n",
    "    \"colsample_bynode\": 0.18131243335904124,\n",
    "    \"colsample_bytree\": 0.6946413759525759,\n",
    "    \"early_stopping_rounds\": 100,\n",
    "    \"enable_categorical\": True,\n",
    "    \"gamma\": 0.2342436435302897,\n",
    "    \"learning_rate\": 0.08362033494121494,\n",
    "    \"max_depth\": 23,\n",
    "    \"max_leaves\": 36,\n",
    "    \"min_child_weight\": 22,\n",
    "    \"n_estimators\": 10000,\n",
    "    \"n_jobs\": -1,\n",
    "    \"random_state\": 42,\n",
    "    \"reg_alpha\": 6.470456244170286,\n",
    "    \"reg_lambda\": 34.83189979920049,\n",
    "    \"subsample\": 0.816189053595861,\n",
    "    \"verbosity\": 0\n",
    "}\n",
    "\n",
    "cb_params = {\n",
    "    \"iterations\": 10000,\n",
    "    \"task_type\": \"GPU\",\n",
    "    \"verbose\": False\n",
    "}"
   ]
  },
  {
   "cell_type": "code",
   "execution_count": 9,
   "id": "352fbda5",
   "metadata": {
    "execution": {
     "iopub.execute_input": "2025-06-02T17:13:59.943353Z",
     "iopub.status.busy": "2025-06-02T17:13:59.942946Z",
     "iopub.status.idle": "2025-06-02T17:13:59.945735Z",
     "shell.execute_reply": "2025-06-02T17:13:59.945244Z"
    },
    "papermill": {
     "duration": 0.008157,
     "end_time": "2025-06-02T17:13:59.946736",
     "exception": false,
     "start_time": "2025-06-02T17:13:59.938579",
     "status": "completed"
    },
    "tags": []
   },
   "outputs": [],
   "source": [
    "scores = {}\n",
    "oof_pred_probs = {}\n",
    "test_pred_probs = {}"
   ]
  },
  {
   "cell_type": "markdown",
   "id": "46a66c3b",
   "metadata": {
    "papermill": {
     "duration": 0.003754,
     "end_time": "2025-06-02T17:13:59.954383",
     "exception": false,
     "start_time": "2025-06-02T17:13:59.950629",
     "status": "completed"
    },
    "tags": []
   },
   "source": [
    "## LightGBM (gbdt)"
   ]
  },
  {
   "cell_type": "code",
   "execution_count": 10,
   "id": "df842533",
   "metadata": {
    "execution": {
     "iopub.execute_input": "2025-06-02T17:13:59.962945Z",
     "iopub.status.busy": "2025-06-02T17:13:59.962741Z",
     "iopub.status.idle": "2025-06-02T18:27:30.045460Z",
     "shell.execute_reply": "2025-06-02T18:27:30.044639Z"
    },
    "papermill": {
     "duration": 4410.088352,
     "end_time": "2025-06-02T18:27:30.046561",
     "exception": false,
     "start_time": "2025-06-02T17:13:59.958209",
     "status": "completed"
    },
    "scrolled": true,
    "tags": []
   },
   "outputs": [
    {
     "name": "stdout",
     "output_type": "stream",
     "text": [
      "Training LGBMClassifier\n",
      "\n"
     ]
    },
    {
     "name": "stderr",
     "output_type": "stream",
     "text": [
      "1 warning generated.\n",
      "1 warning generated.\n",
      "1 warning generated.\n",
      "1 warning generated.\n",
      "1 warning generated.\n",
      "1 warning generated.\n",
      "1 warning generated.\n",
      "1 warning generated.\n",
      "1 warning generated.\n",
      "1 warning generated.\n",
      "1 warning generated.\n",
      "1 warning generated.\n",
      "1 warning generated.\n",
      "1 warning generated.\n",
      "1 warning generated.\n",
      "1 warning generated.\n",
      "1 warning generated.\n",
      "1 warning generated.\n",
      "1 warning generated.\n",
      "1 warning generated.\n",
      "1 warning generated.\n",
      "1 warning generated.\n",
      "1 warning generated.\n",
      "1 warning generated.\n",
      "1 warning generated.\n",
      "1 warning generated.\n",
      "1 warning generated.\n",
      "1 warning generated.\n",
      "1 warning generated.\n",
      "1 warning generated.\n",
      "1 warning generated.\n",
      "1 warning generated.\n",
      "1 warning generated.\n"
     ]
    },
    {
     "name": "stdout",
     "output_type": "stream",
     "text": [
      "Training until validation scores don't improve for 100 rounds\n",
      "[1000]\tvalid_0's multi_logloss: 1.91295\n",
      "[2000]\tvalid_0's multi_logloss: 1.9088\n",
      "[3000]\tvalid_0's multi_logloss: 1.90714\n",
      "Early stopping, best iteration is:\n",
      "[3756]\tvalid_0's multi_logloss: 1.90684\n",
      "\n",
      "--- Fold 1 - MAP@3: 0.347600\n",
      "\n",
      "\n",
      "Training until validation scores don't improve for 100 rounds\n",
      "[1000]\tvalid_0's multi_logloss: 1.91279\n",
      "[2000]\tvalid_0's multi_logloss: 1.90828\n",
      "[3000]\tvalid_0's multi_logloss: 1.90638\n",
      "[4000]\tvalid_0's multi_logloss: 1.90576\n",
      "Early stopping, best iteration is:\n",
      "[4251]\tvalid_0's multi_logloss: 1.90564\n",
      "\n",
      "--- Fold 2 - MAP@3: 0.348233\n",
      "\n",
      "\n",
      "Training until validation scores don't improve for 100 rounds\n",
      "[1000]\tvalid_0's multi_logloss: 1.91231\n",
      "[2000]\tvalid_0's multi_logloss: 1.9076\n",
      "[3000]\tvalid_0's multi_logloss: 1.90562\n",
      "[4000]\tvalid_0's multi_logloss: 1.90494\n",
      "Early stopping, best iteration is:\n",
      "[4264]\tvalid_0's multi_logloss: 1.90484\n",
      "\n",
      "--- Fold 3 - MAP@3: 0.349820\n",
      "\n",
      "\n",
      "Training until validation scores don't improve for 100 rounds\n",
      "[1000]\tvalid_0's multi_logloss: 1.91329\n",
      "[2000]\tvalid_0's multi_logloss: 1.9092\n",
      "[3000]\tvalid_0's multi_logloss: 1.90758\n",
      "[4000]\tvalid_0's multi_logloss: 1.90692\n",
      "Early stopping, best iteration is:\n",
      "[4088]\tvalid_0's multi_logloss: 1.90688\n",
      "\n",
      "--- Fold 4 - MAP@3: 0.348579\n",
      "\n",
      "\n",
      "Training until validation scores don't improve for 100 rounds\n",
      "[1000]\tvalid_0's multi_logloss: 1.91266\n",
      "[2000]\tvalid_0's multi_logloss: 1.90823\n",
      "[3000]\tvalid_0's multi_logloss: 1.90657\n",
      "Early stopping, best iteration is:\n",
      "[3763]\tvalid_0's multi_logloss: 1.90613\n",
      "\n",
      "--- Fold 5 - MAP@3: 0.348094\n",
      "\n",
      "\n",
      "\n",
      "------ Overall MAP@3: 0.348465 | Average MAP@3: 0.348465 ± 0.000747\n"
     ]
    }
   ],
   "source": [
    "lgbm_model = LGBMClassifier(**lgbm_params)\n",
    "lgbm_trainer = Trainer(lgbm_model)\n",
    "\n",
    "fit_args = {\n",
    "    \"callbacks\": [\n",
    "        log_evaluation(period=1000), \n",
    "        early_stopping(stopping_rounds=100)\n",
    "    ]\n",
    "}\n",
    "\n",
    "oof_pred_probs[\"LightGBM (gbdt)\"], test_pred_probs[\"LightGBM (gbdt)\"], scores[\"LightGBM (gbdt)\"] = lgbm_trainer.fit_predict(X, y, X_test, fit_args)"
   ]
  },
  {
   "cell_type": "markdown",
   "id": "d2a08663",
   "metadata": {
    "papermill": {
     "duration": 0.005709,
     "end_time": "2025-06-02T18:27:30.058588",
     "exception": false,
     "start_time": "2025-06-02T18:27:30.052879",
     "status": "completed"
    },
    "tags": []
   },
   "source": [
    "## LightGBM (goss)"
   ]
  },
  {
   "cell_type": "code",
   "execution_count": 11,
   "id": "cbf1f17a",
   "metadata": {
    "execution": {
     "iopub.execute_input": "2025-06-02T18:27:30.071089Z",
     "iopub.status.busy": "2025-06-02T18:27:30.070852Z",
     "iopub.status.idle": "2025-06-02T23:44:29.427733Z",
     "shell.execute_reply": "2025-06-02T23:44:29.426856Z"
    },
    "papermill": {
     "duration": 19019.364707,
     "end_time": "2025-06-02T23:44:29.429090",
     "exception": false,
     "start_time": "2025-06-02T18:27:30.064383",
     "status": "completed"
    },
    "tags": []
   },
   "outputs": [
    {
     "name": "stdout",
     "output_type": "stream",
     "text": [
      "Training LGBMClassifier\n",
      "\n",
      "Training until validation scores don't improve for 100 rounds\n",
      "[1000]\tvalid_0's multi_logloss: 1.91875\n",
      "[2000]\tvalid_0's multi_logloss: 1.91222\n",
      "[3000]\tvalid_0's multi_logloss: 1.90902\n",
      "[4000]\tvalid_0's multi_logloss: 1.90723\n",
      "[5000]\tvalid_0's multi_logloss: 1.90639\n",
      "Early stopping, best iteration is:\n",
      "[5452]\tvalid_0's multi_logloss: 1.90616\n",
      "\n",
      "--- Fold 1 - MAP@3: 0.347439\n",
      "\n",
      "\n",
      "Training until validation scores don't improve for 100 rounds\n",
      "[1000]\tvalid_0's multi_logloss: 1.91882\n",
      "[2000]\tvalid_0's multi_logloss: 1.91197\n",
      "[3000]\tvalid_0's multi_logloss: 1.90845\n",
      "[4000]\tvalid_0's multi_logloss: 1.90646\n",
      "[5000]\tvalid_0's multi_logloss: 1.90539\n",
      "[6000]\tvalid_0's multi_logloss: 1.90497\n",
      "Early stopping, best iteration is:\n",
      "[5968]\tvalid_0's multi_logloss: 1.90494\n",
      "\n",
      "--- Fold 2 - MAP@3: 0.348656\n",
      "\n",
      "\n",
      "Training until validation scores don't improve for 100 rounds\n",
      "[1000]\tvalid_0's multi_logloss: 1.91843\n",
      "[2000]\tvalid_0's multi_logloss: 1.91139\n",
      "[3000]\tvalid_0's multi_logloss: 1.90791\n",
      "[4000]\tvalid_0's multi_logloss: 1.90589\n",
      "[5000]\tvalid_0's multi_logloss: 1.90476\n",
      "[6000]\tvalid_0's multi_logloss: 1.90427\n",
      "Early stopping, best iteration is:\n",
      "[5978]\tvalid_0's multi_logloss: 1.90424\n",
      "\n",
      "--- Fold 3 - MAP@3: 0.349337\n",
      "\n",
      "\n",
      "Training until validation scores don't improve for 100 rounds\n",
      "[1000]\tvalid_0's multi_logloss: 1.91899\n",
      "[2000]\tvalid_0's multi_logloss: 1.91246\n",
      "[3000]\tvalid_0's multi_logloss: 1.90931\n",
      "[4000]\tvalid_0's multi_logloss: 1.90758\n",
      "[5000]\tvalid_0's multi_logloss: 1.90675\n",
      "Early stopping, best iteration is:\n",
      "[5660]\tvalid_0's multi_logloss: 1.90643\n",
      "\n",
      "--- Fold 4 - MAP@3: 0.349022\n",
      "\n",
      "\n",
      "Training until validation scores don't improve for 100 rounds\n",
      "[1000]\tvalid_0's multi_logloss: 1.9185\n",
      "[2000]\tvalid_0's multi_logloss: 1.91171\n",
      "[3000]\tvalid_0's multi_logloss: 1.90849\n",
      "[4000]\tvalid_0's multi_logloss: 1.90672\n",
      "[5000]\tvalid_0's multi_logloss: 1.90562\n",
      "Early stopping, best iteration is:\n",
      "[5404]\tvalid_0's multi_logloss: 1.90534\n",
      "\n",
      "--- Fold 5 - MAP@3: 0.349343\n",
      "\n",
      "\n",
      "\n",
      "------ Overall MAP@3: 0.348759 | Average MAP@3: 0.348759 ± 0.000707\n"
     ]
    }
   ],
   "source": [
    "lgb_goss_model = LGBMClassifier(**lgbm_goss_params)\n",
    "lgb_goss_trainer = Trainer(lgb_goss_model)\n",
    "\n",
    "fit_args = {\n",
    "    \"callbacks\": [\n",
    "        log_evaluation(period=1000), \n",
    "        early_stopping(stopping_rounds=100)\n",
    "    ]\n",
    "}\n",
    "\n",
    "oof_pred_probs[\"LightGBM (goss)\"], test_pred_probs[\"LightGBM (goss)\"], scores[\"LightGBM (goss)\"] = lgb_goss_trainer.fit_predict(X, y, X_test, fit_args)"
   ]
  },
  {
   "cell_type": "markdown",
   "id": "c67678ca",
   "metadata": {
    "papermill": {
     "duration": 0.007327,
     "end_time": "2025-06-02T23:44:29.444317",
     "exception": false,
     "start_time": "2025-06-02T23:44:29.436990",
     "status": "completed"
    },
    "tags": []
   },
   "source": [
    "## XGBoost"
   ]
  },
  {
   "cell_type": "code",
   "execution_count": 12,
   "id": "e52a9a54",
   "metadata": {
    "execution": {
     "iopub.execute_input": "2025-06-02T23:44:29.459909Z",
     "iopub.status.busy": "2025-06-02T23:44:29.459646Z",
     "iopub.status.idle": "2025-06-03T00:09:37.508705Z",
     "shell.execute_reply": "2025-06-03T00:09:37.507894Z"
    },
    "papermill": {
     "duration": 1508.066715,
     "end_time": "2025-06-03T00:09:37.518482",
     "exception": false,
     "start_time": "2025-06-02T23:44:29.451767",
     "status": "completed"
    },
    "tags": []
   },
   "outputs": [
    {
     "name": "stdout",
     "output_type": "stream",
     "text": [
      "Training XGBClassifier\n",
      "\n",
      "[0]\tvalidation_0-mlogloss:1.94542\n",
      "[1000]\tvalidation_0-mlogloss:1.91692\n",
      "[2000]\tvalidation_0-mlogloss:1.91364\n",
      "[3000]\tvalidation_0-mlogloss:1.91241\n",
      "[4000]\tvalidation_0-mlogloss:1.91171\n",
      "[4768]\tvalidation_0-mlogloss:1.91145\n",
      "\n",
      "--- Fold 1 - MAP@3: 0.341217\n",
      "\n",
      "\n",
      "[0]\tvalidation_0-mlogloss:1.94543\n",
      "[1000]\tvalidation_0-mlogloss:1.91675\n",
      "[2000]\tvalidation_0-mlogloss:1.91323\n",
      "[3000]\tvalidation_0-mlogloss:1.91166\n",
      "[4000]\tvalidation_0-mlogloss:1.91083\n",
      "[5000]\tvalidation_0-mlogloss:1.91036\n",
      "[6000]\tvalidation_0-mlogloss:1.91006\n",
      "[6464]\tvalidation_0-mlogloss:1.90997\n",
      "\n",
      "--- Fold 2 - MAP@3: 0.342176\n",
      "\n",
      "\n",
      "[0]\tvalidation_0-mlogloss:1.94533\n",
      "[1000]\tvalidation_0-mlogloss:1.91659\n",
      "[2000]\tvalidation_0-mlogloss:1.91308\n",
      "[3000]\tvalidation_0-mlogloss:1.91148\n",
      "[4000]\tvalidation_0-mlogloss:1.91065\n",
      "[5000]\tvalidation_0-mlogloss:1.91011\n",
      "[5279]\tvalidation_0-mlogloss:1.91005\n",
      "\n",
      "--- Fold 3 - MAP@3: 0.342074\n",
      "\n",
      "\n",
      "[0]\tvalidation_0-mlogloss:1.94538\n",
      "[1000]\tvalidation_0-mlogloss:1.91715\n",
      "[2000]\tvalidation_0-mlogloss:1.91387\n",
      "[3000]\tvalidation_0-mlogloss:1.91245\n",
      "[4000]\tvalidation_0-mlogloss:1.91164\n",
      "[5000]\tvalidation_0-mlogloss:1.91124\n",
      "[5835]\tvalidation_0-mlogloss:1.91100\n",
      "\n",
      "--- Fold 4 - MAP@3: 0.342330\n",
      "\n",
      "\n",
      "[0]\tvalidation_0-mlogloss:1.94536\n",
      "[1000]\tvalidation_0-mlogloss:1.91669\n",
      "[2000]\tvalidation_0-mlogloss:1.91328\n",
      "[3000]\tvalidation_0-mlogloss:1.91198\n",
      "[4000]\tvalidation_0-mlogloss:1.91116\n",
      "[5000]\tvalidation_0-mlogloss:1.91060\n",
      "[5473]\tvalidation_0-mlogloss:1.91057\n",
      "\n",
      "--- Fold 5 - MAP@3: 0.342590\n",
      "\n",
      "\n",
      "\n",
      "------ Overall MAP@3: 0.342077 | Average MAP@3: 0.342077 ± 0.000464\n"
     ]
    }
   ],
   "source": [
    "xgb_model = XGBClassifier(**xgb_params)\n",
    "xgb_trainer = Trainer(xgb_model)\n",
    "\n",
    "fit_args = {\n",
    "    \"verbose\": 1000\n",
    "}\n",
    "\n",
    "oof_pred_probs[\"XGBoost\"], test_pred_probs[\"XGBoost\"], scores[\"XGBoost\"] = xgb_trainer.fit_predict(X, y, X_test, fit_args)"
   ]
  },
  {
   "cell_type": "markdown",
   "id": "f1fb2918",
   "metadata": {
    "papermill": {
     "duration": 0.0087,
     "end_time": "2025-06-03T00:09:37.536167",
     "exception": false,
     "start_time": "2025-06-03T00:09:37.527467",
     "status": "completed"
    },
    "tags": []
   },
   "source": [
    "## CatBoost"
   ]
  },
  {
   "cell_type": "code",
   "execution_count": 13,
   "id": "b9feab02",
   "metadata": {
    "execution": {
     "iopub.execute_input": "2025-06-03T00:09:37.554405Z",
     "iopub.status.busy": "2025-06-03T00:09:37.554207Z",
     "iopub.status.idle": "2025-06-03T00:13:54.868941Z",
     "shell.execute_reply": "2025-06-03T00:13:54.868045Z"
    },
    "papermill": {
     "duration": 257.325327,
     "end_time": "2025-06-03T00:13:54.870225",
     "exception": false,
     "start_time": "2025-06-03T00:09:37.544898",
     "status": "completed"
    },
    "tags": []
   },
   "outputs": [
    {
     "name": "stdout",
     "output_type": "stream",
     "text": [
      "Training CatBoostClassifier\n",
      "\n",
      "Learning rate set to 0.073354\n",
      "0:\tlearn: 1.9452752\ttest: 1.9453400\tbest: 1.9453400 (0)\ttotal: 9.06s\tremaining: 1d 1h 9m 47s\n",
      "1000:\tlearn: 1.8975650\ttest: 1.9241188\tbest: 1.9241188 (1000)\ttotal: 27.1s\tremaining: 4m 4s\n",
      "2000:\tlearn: 1.8718750\ttest: 1.9220102\tbest: 1.9219250 (1916)\ttotal: 45.6s\tremaining: 3m 2s\n",
      "bestTest = 1.921925\n",
      "bestIteration = 1916\n",
      "Shrink model to first 1917 iterations.\n",
      "\n",
      "--- Fold 1 - MAP@3: 0.325774\n",
      "\n",
      "\n",
      "Learning rate set to 0.073354\n",
      "0:\tlearn: 1.9452660\ttest: 1.9453027\tbest: 1.9453027 (0)\ttotal: 20.8ms\tremaining: 3m 28s\n",
      "1000:\tlearn: 1.8984267\ttest: 1.9240179\tbest: 1.9240079 (997)\ttotal: 18.1s\tremaining: 2m 42s\n",
      "2000:\tlearn: 1.8732052\ttest: 1.9217696\tbest: 1.9217642 (1970)\ttotal: 36.5s\tremaining: 2m 26s\n",
      "bestTest = 1.9216375\n",
      "bestIteration = 2263\n",
      "Shrink model to first 2264 iterations.\n",
      "\n",
      "--- Fold 2 - MAP@3: 0.327822\n",
      "\n",
      "\n",
      "Learning rate set to 0.073354\n",
      "0:\tlearn: 1.9452842\ttest: 1.9453210\tbest: 1.9453210 (0)\ttotal: 20.2ms\tremaining: 3m 21s\n",
      "1000:\tlearn: 1.8973362\ttest: 1.9233658\tbest: 1.9233617 (998)\ttotal: 18.2s\tremaining: 2m 43s\n",
      "2000:\tlearn: 1.8720627\ttest: 1.9213058\tbest: 1.9213042 (1999)\ttotal: 36.4s\tremaining: 2m 25s\n",
      "bestTest = 1.921256875\n",
      "bestIteration = 2082\n",
      "Shrink model to first 2083 iterations.\n",
      "\n",
      "--- Fold 3 - MAP@3: 0.327871\n",
      "\n",
      "\n",
      "Learning rate set to 0.073354\n",
      "0:\tlearn: 1.9452648\ttest: 1.9453167\tbest: 1.9453167 (0)\ttotal: 20.1ms\tremaining: 3m 21s\n",
      "1000:\tlearn: 1.8984335\ttest: 1.9241765\tbest: 1.9241765 (1000)\ttotal: 18.1s\tremaining: 2m 42s\n",
      "2000:\tlearn: 1.8730725\ttest: 1.9218688\tbest: 1.9218610 (1996)\ttotal: 36.4s\tremaining: 2m 25s\n",
      "bestTest = 1.9217275\n",
      "bestIteration = 2182\n",
      "Shrink model to first 2183 iterations.\n",
      "\n",
      "--- Fold 4 - MAP@3: 0.328176\n",
      "\n",
      "\n",
      "Learning rate set to 0.073354\n",
      "0:\tlearn: 1.9452600\ttest: 1.9452935\tbest: 1.9452935 (0)\ttotal: 20.5ms\tremaining: 3m 25s\n",
      "1000:\tlearn: 1.8986633\ttest: 1.9239815\tbest: 1.9239815 (1000)\ttotal: 17.9s\tremaining: 2m 41s\n",
      "2000:\tlearn: 1.8740683\ttest: 1.9216513\tbest: 1.9216442 (1997)\ttotal: 36.4s\tremaining: 2m 25s\n",
      "bestTest = 1.921309167\n",
      "bestIteration = 2543\n",
      "Shrink model to first 2544 iterations.\n",
      "\n",
      "--- Fold 5 - MAP@3: 0.327171\n",
      "\n",
      "\n",
      "\n",
      "------ Overall MAP@3: 0.327363 | Average MAP@3: 0.327363 ± 0.000859\n"
     ]
    }
   ],
   "source": [
    "cb_model = CatBoostClassifier(**cb_params)\n",
    "cb_trainer = Trainer(cb_model)\n",
    "\n",
    "fit_args = {\n",
    "    \"verbose\": 1000,\n",
    "    \"early_stopping_rounds\": 100,\n",
    "    \"use_best_model\": True,\n",
    "    \"cat_features\": cat_cols\n",
    "}\n",
    "\n",
    "oof_pred_probs[\"CatBoost\"], test_pred_probs[\"CatBoost\"], scores[\"CatBoost\"] = cb_trainer.fit_predict(X, y, X_test, fit_args)"
   ]
  },
  {
   "cell_type": "markdown",
   "id": "0a3ca299",
   "metadata": {
    "papermill": {
     "duration": 0.010195,
     "end_time": "2025-06-03T00:13:54.891434",
     "exception": false,
     "start_time": "2025-06-03T00:13:54.881239",
     "status": "completed"
    },
    "tags": []
   },
   "source": [
    "# Ensembling with LogisticRegression"
   ]
  },
  {
   "cell_type": "code",
   "execution_count": 14,
   "id": "a3b6bf00",
   "metadata": {
    "execution": {
     "iopub.execute_input": "2025-06-03T00:13:54.912451Z",
     "iopub.status.busy": "2025-06-03T00:13:54.912233Z",
     "iopub.status.idle": "2025-06-03T00:13:55.046076Z",
     "shell.execute_reply": "2025-06-03T00:13:55.045360Z"
    },
    "papermill": {
     "duration": 0.145877,
     "end_time": "2025-06-03T00:13:55.047410",
     "exception": false,
     "start_time": "2025-06-03T00:13:54.901533",
     "status": "completed"
    },
    "tags": []
   },
   "outputs": [],
   "source": [
    "X = pd.DataFrame(np.concatenate(list(oof_pred_probs.values()), axis=1))\n",
    "X_test = pd.DataFrame(np.concatenate(list(test_pred_probs.values()), axis=1))"
   ]
  },
  {
   "cell_type": "code",
   "execution_count": 15,
   "id": "5ec1837d",
   "metadata": {
    "execution": {
     "iopub.execute_input": "2025-06-03T00:13:55.069823Z",
     "iopub.status.busy": "2025-06-03T00:13:55.069571Z",
     "iopub.status.idle": "2025-06-03T00:13:55.277235Z",
     "shell.execute_reply": "2025-06-03T00:13:55.276590Z"
    },
    "papermill": {
     "duration": 0.219952,
     "end_time": "2025-06-03T00:13:55.278444",
     "exception": false,
     "start_time": "2025-06-03T00:13:55.058492",
     "status": "completed"
    },
    "tags": []
   },
   "outputs": [
    {
     "data": {
      "text/plain": [
       "['test_pred_probs.pkl']"
      ]
     },
     "execution_count": 15,
     "metadata": {},
     "output_type": "execute_result"
    }
   ],
   "source": [
    "joblib.dump(X, \"oof_pred_probs.pkl\")\n",
    "joblib.dump(X_test, \"test_pred_probs.pkl\")"
   ]
  },
  {
   "cell_type": "code",
   "execution_count": 16,
   "id": "57479e39",
   "metadata": {
    "_kg_hide-output": true,
    "execution": {
     "iopub.execute_input": "2025-06-03T00:13:55.300451Z",
     "iopub.status.busy": "2025-06-03T00:13:55.300234Z",
     "iopub.status.idle": "2025-06-03T00:13:55.307090Z",
     "shell.execute_reply": "2025-06-03T00:13:55.306425Z"
    },
    "papermill": {
     "duration": 0.019142,
     "end_time": "2025-06-03T00:13:55.308376",
     "exception": false,
     "start_time": "2025-06-03T00:13:55.289234",
     "status": "completed"
    },
    "scrolled": true,
    "tags": []
   },
   "outputs": [],
   "source": [
    "def objective(trial):\n",
    "    solver_penalty_options = [\n",
    "        ('liblinear', 'l1'),\n",
    "        ('liblinear', 'l2'),\n",
    "        ('lbfgs', 'l2'),\n",
    "        ('lbfgs', None)\n",
    "    ]\n",
    "    solver, penalty = trial.suggest_categorical('solver_penalty', solver_penalty_options)\n",
    "    \n",
    "    params = {\n",
    "        'random_state': CFG.seed,\n",
    "        'max_iter': 500,\n",
    "        'C': trial.suggest_float('C', 0, 10),\n",
    "        'tol': trial.suggest_float('tol', 1e-7, 1e-2),\n",
    "        'fit_intercept': trial.suggest_categorical('fit_intercept', [True, False]),\n",
    "        'class_weight': trial.suggest_categorical('class_weight', ['balanced', None]),\n",
    "        'solver': solver,\n",
    "        'penalty': penalty\n",
    "    }\n",
    "    \n",
    "    model = LogisticRegression(**params)\n",
    "    trainer = Trainer(model)\n",
    "    return trainer.tune(X, y)\n",
    "\n",
    "\n",
    "if CFG.run_optuna:\n",
    "    sampler = optuna.samplers.TPESampler(seed=CFG.seed, multivariate=True)\n",
    "    study = optuna.create_study(direction='maximize', sampler=sampler)\n",
    "    study.optimize(objective, n_trials=250, n_jobs=-1)\n",
    "    best_params = study.best_params\n",
    "    \n",
    "    solver, penalty = best_params['solver_penalty']\n",
    "    lr_params = {\n",
    "        'random_state': CFG.seed,\n",
    "        'max_iter': 500,\n",
    "        'solver': solver,\n",
    "        'penalty': penalty,\n",
    "        'fit_intercept': best_params['fit_intercept'],\n",
    "        'class_weight': best_params['class_weight'],\n",
    "        'C': best_params['C'],\n",
    "        'tol': best_params['tol']\n",
    "    }\n",
    "else:\n",
    "    lr_params = {\n",
    "        'random_state': CFG.seed,\n",
    "        'max_iter': 500\n",
    "    }"
   ]
  },
  {
   "cell_type": "code",
   "execution_count": 17,
   "id": "dd638d6e",
   "metadata": {
    "execution": {
     "iopub.execute_input": "2025-06-03T00:13:55.336045Z",
     "iopub.status.busy": "2025-06-03T00:13:55.335549Z",
     "iopub.status.idle": "2025-06-03T00:13:55.339988Z",
     "shell.execute_reply": "2025-06-03T00:13:55.339202Z"
    },
    "papermill": {
     "duration": 0.016495,
     "end_time": "2025-06-03T00:13:55.341072",
     "exception": false,
     "start_time": "2025-06-03T00:13:55.324577",
     "status": "completed"
    },
    "tags": []
   },
   "outputs": [
    {
     "name": "stdout",
     "output_type": "stream",
     "text": [
      "{\n",
      "  \"random_state\": 42,\n",
      "  \"max_iter\": 500\n",
      "}\n"
     ]
    }
   ],
   "source": [
    "print(json.dumps(lr_params, indent=2))"
   ]
  },
  {
   "cell_type": "code",
   "execution_count": 18,
   "id": "68e1d8dc",
   "metadata": {
    "execution": {
     "iopub.execute_input": "2025-06-03T00:13:55.362788Z",
     "iopub.status.busy": "2025-06-03T00:13:55.362582Z",
     "iopub.status.idle": "2025-06-03T00:14:55.178336Z",
     "shell.execute_reply": "2025-06-03T00:14:55.177454Z"
    },
    "papermill": {
     "duration": 59.828129,
     "end_time": "2025-06-03T00:14:55.179576",
     "exception": false,
     "start_time": "2025-06-03T00:13:55.351447",
     "status": "completed"
    },
    "tags": []
   },
   "outputs": [
    {
     "name": "stdout",
     "output_type": "stream",
     "text": [
      "Training LogisticRegression\n",
      "\n",
      "--- Fold 1 - MAP@3: 0.348333\n",
      "--- Fold 2 - MAP@3: 0.350369\n",
      "--- Fold 3 - MAP@3: 0.351000\n",
      "--- Fold 4 - MAP@3: 0.350274\n",
      "--- Fold 5 - MAP@3: 0.350257\n",
      "\n",
      "------ Overall MAP@3: 0.350047 | Average MAP@3: 0.350047 ± 0.000899\n"
     ]
    }
   ],
   "source": [
    "lr_model = LogisticRegression(**lr_params)\n",
    "lr_trainer = Trainer(lr_model)\n",
    "\n",
    "_, lr_test_pred_probs, scores[\"LogisticRegression\"] = lr_trainer.fit_predict(X, y, X_test)"
   ]
  },
  {
   "cell_type": "code",
   "execution_count": 19,
   "id": "6819749c",
   "metadata": {
    "execution": {
     "iopub.execute_input": "2025-06-03T00:14:55.202736Z",
     "iopub.status.busy": "2025-06-03T00:14:55.202480Z",
     "iopub.status.idle": "2025-06-03T00:15:16.625601Z",
     "shell.execute_reply": "2025-06-03T00:15:16.625094Z"
    },
    "papermill": {
     "duration": 21.435602,
     "end_time": "2025-06-03T00:15:16.626790",
     "exception": false,
     "start_time": "2025-06-03T00:14:55.191188",
     "status": "completed"
    },
    "tags": []
   },
   "outputs": [],
   "source": [
    "final_predictions = []\n",
    "for i in np.argsort(lr_test_pred_probs)[:, -3:][:, ::-1]:\n",
    "    prediction = label_encoder.inverse_transform(i)\n",
    "    final_predictions.append(\" \".join(prediction))"
   ]
  },
  {
   "cell_type": "code",
   "execution_count": 20,
   "id": "b329ca4d",
   "metadata": {
    "execution": {
     "iopub.execute_input": "2025-06-03T00:15:16.649629Z",
     "iopub.status.busy": "2025-06-03T00:15:16.649332Z",
     "iopub.status.idle": "2025-06-03T00:15:17.119022Z",
     "shell.execute_reply": "2025-06-03T00:15:17.118368Z"
    },
    "papermill": {
     "duration": 0.482088,
     "end_time": "2025-06-03T00:15:17.120109",
     "exception": false,
     "start_time": "2025-06-03T00:15:16.638021",
     "status": "completed"
    },
    "tags": []
   },
   "outputs": [
    {
     "data": {
      "text/html": [
       "<div>\n",
       "<style scoped>\n",
       "    .dataframe tbody tr th:only-of-type {\n",
       "        vertical-align: middle;\n",
       "    }\n",
       "\n",
       "    .dataframe tbody tr th {\n",
       "        vertical-align: top;\n",
       "    }\n",
       "\n",
       "    .dataframe thead th {\n",
       "        text-align: right;\n",
       "    }\n",
       "</style>\n",
       "<table border=\"1\" class=\"dataframe\">\n",
       "  <thead>\n",
       "    <tr style=\"text-align: right;\">\n",
       "      <th></th>\n",
       "      <th>id</th>\n",
       "      <th>Fertilizer Name</th>\n",
       "    </tr>\n",
       "  </thead>\n",
       "  <tbody>\n",
       "    <tr>\n",
       "      <th>0</th>\n",
       "      <td>750000</td>\n",
       "      <td>10-26-26 DAP 28-28</td>\n",
       "    </tr>\n",
       "    <tr>\n",
       "      <th>1</th>\n",
       "      <td>750001</td>\n",
       "      <td>17-17-17 20-20 10-26-26</td>\n",
       "    </tr>\n",
       "    <tr>\n",
       "      <th>2</th>\n",
       "      <td>750002</td>\n",
       "      <td>20-20 28-28 17-17-17</td>\n",
       "    </tr>\n",
       "    <tr>\n",
       "      <th>3</th>\n",
       "      <td>750003</td>\n",
       "      <td>14-35-14 10-26-26 DAP</td>\n",
       "    </tr>\n",
       "    <tr>\n",
       "      <th>4</th>\n",
       "      <td>750004</td>\n",
       "      <td>20-20 10-26-26 Urea</td>\n",
       "    </tr>\n",
       "  </tbody>\n",
       "</table>\n",
       "</div>"
      ],
      "text/plain": [
       "       id          Fertilizer Name\n",
       "0  750000       10-26-26 DAP 28-28\n",
       "1  750001  17-17-17 20-20 10-26-26\n",
       "2  750002     20-20 28-28 17-17-17\n",
       "3  750003    14-35-14 10-26-26 DAP\n",
       "4  750004      20-20 10-26-26 Urea"
      ]
     },
     "execution_count": 20,
     "metadata": {},
     "output_type": "execute_result"
    }
   ],
   "source": [
    "sub = pd.read_csv(CFG.sample_sub_path)\n",
    "sub[CFG.target] = final_predictions\n",
    "sub.to_csv(f\"sub_logistic-regression_{np.mean(scores['LogisticRegression']):.6f}.csv\", index=False)\n",
    "sub.head()"
   ]
  },
  {
   "cell_type": "markdown",
   "id": "1a2463ad",
   "metadata": {
    "papermill": {
     "duration": 0.010836,
     "end_time": "2025-06-03T00:15:17.142778",
     "exception": false,
     "start_time": "2025-06-03T00:15:17.131942",
     "status": "completed"
    },
    "tags": []
   },
   "source": [
    "# Results"
   ]
  },
  {
   "cell_type": "code",
   "execution_count": 21,
   "id": "e8e96522",
   "metadata": {
    "execution": {
     "iopub.execute_input": "2025-06-03T00:15:17.164900Z",
     "iopub.status.busy": "2025-06-03T00:15:17.164704Z",
     "iopub.status.idle": "2025-06-03T00:15:17.550471Z",
     "shell.execute_reply": "2025-06-03T00:15:17.549865Z"
    },
    "papermill": {
     "duration": 0.398212,
     "end_time": "2025-06-03T00:15:17.551638",
     "exception": false,
     "start_time": "2025-06-03T00:15:17.153426",
     "status": "completed"
    },
    "tags": []
   },
   "outputs": [
    {
     "data": {
      "image/png": "[encoded data removed]",
      "text/plain": [
       "<Figure size 1500x200 with 2 Axes>"
      ]
     },
     "metadata": {},
     "output_type": "display_data"
    }
   ],
   "source": [
    "scores = pd.DataFrame(scores)\n",
    "mean_scores = scores.mean().sort_values(ascending=False)\n",
    "order = scores.mean().sort_values(ascending=False).index.tolist()\n",
    "\n",
    "min_score = mean_scores.min()\n",
    "max_score = mean_scores.max()\n",
    "padding = (max_score - min_score) * 0.5\n",
    "lower_limit = min_score - padding\n",
    "upper_limit = max_score + padding\n",
    "\n",
    "fig, axs = plt.subplots(1, 2, figsize=(15, scores.shape[1] * 0.4))\n",
    "\n",
    "boxplot = sns.boxplot(data=scores, order=order, ax=axs[0], orient=\"h\", color=\"grey\")\n",
    "axs[0].set_title(f\"Fold MAP@3\")\n",
    "axs[0].set_xlabel(\"\")\n",
    "axs[0].set_ylabel(\"\")\n",
    "\n",
    "barplot = sns.barplot(x=mean_scores.values, y=mean_scores.index, ax=axs[1], color=\"grey\")\n",
    "axs[1].set_title(f\"Mean MAP@3\")\n",
    "axs[1].set_xlabel(\"\")\n",
    "axs[1].set_xlim(left=lower_limit, right=upper_limit)\n",
    "axs[1].set_ylabel(\"\")\n",
    "\n",
    "for i, (score, model) in enumerate(zip(mean_scores.values, mean_scores.index)):\n",
    "    color = \"cyan\" if \"logistic\" in model.lower() else \"grey\"\n",
    "    barplot.patches[i].set_facecolor(color)\n",
    "    boxplot.patches[i].set_facecolor(color)\n",
    "    barplot.text(score, i, round(score, 6), va=\"center\")\n",
    "\n",
    "plt.tight_layout()\n",
    "plt.show()"
   ]
  },
  {
   "cell_type": "code",
   "execution_count": 22,
   "id": "c76c86df",
   "metadata": {
    "execution": {
     "iopub.execute_input": "2025-06-03T00:15:17.575554Z",
     "iopub.status.busy": "2025-06-03T00:15:17.575357Z",
     "iopub.status.idle": "2025-06-03T00:15:17.579633Z",
     "shell.execute_reply": "2025-06-03T00:15:17.579141Z"
    },
    "papermill": {
     "duration": 0.016948,
     "end_time": "2025-06-03T00:15:17.580568",
     "exception": false,
     "start_time": "2025-06-03T00:15:17.563620",
     "status": "completed"
    },
    "tags": []
   },
   "outputs": [],
   "source": [
    "shutil.rmtree(\"catboost_info\", ignore_errors=True)"
   ]
  }
 ],
 "metadata": {
  "kaggle": {
   "accelerator": "gpu",
   "dataSources": [
    {
     "databundleVersionId": 12184666,
     "sourceId": 91717,
     "sourceType": "competition"
    }
   ],
   "dockerImageVersionId": 31041,
   "isGpuEnabled": true,
   "isInternetEnabled": true,
   "language": "python",
   "sourceType": "notebook"
  },
  "kernelspec": {
   "display_name": "Python 3",
   "language": "python",
   "name": "python3"
  },
  "language_info": {
   "codemirror_mode": {
    "name": "ipython",
    "version": 3
   },
   "file_extension": ".py",
   "mimetype": "text/x-python",
   "name": "python",
   "nbconvert_exporter": "python",
   "pygments_lexer": "ipython3",
   "version": "3.11.11"
  },
  "papermill": {
   "default_parameters": {},
   "duration": 25303.588276,
   "end_time": "2025-06-03T00:15:18.431275",
   "environment_variables": {},
   "exception": null,
   "input_path": "__notebook__.ipynb",
   "output_path": "__notebook__.ipynb",
   "parameters": {},
   "start_time": "2025-06-02T17:13:34.842999",
   "version": "2.6.0"
  }
 },
 "nbformat": 4,
 "nbformat_minor": 5
}
