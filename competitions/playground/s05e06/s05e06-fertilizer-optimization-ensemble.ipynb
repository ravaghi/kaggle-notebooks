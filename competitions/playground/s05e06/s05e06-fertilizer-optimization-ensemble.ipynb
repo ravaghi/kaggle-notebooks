{
 "cells": [
  {
   "cell_type": "markdown",
   "id": "dbe8f842",
   "metadata": {
    "papermill": {
     "duration": 0.006365,
     "end_time": "2025-06-04T18:12:54.675077",
     "exception": false,
     "start_time": "2025-06-04T18:12:54.668712",
     "status": "completed"
    },
    "tags": []
   },
   "source": [
    "# Imports and configs"
   ]
  },
  {
   "cell_type": "code",
   "execution_count": 1,
   "id": "8c7d8158",
   "metadata": {
    "_kg_hide-output": true,
    "execution": {
     "iopub.execute_input": "2025-06-04T18:12:54.688281Z",
     "iopub.status.busy": "2025-06-04T18:12:54.687899Z",
     "iopub.status.idle": "2025-06-04T18:13:07.804461Z",
     "shell.execute_reply": "2025-06-04T18:13:07.802419Z"
    },
    "papermill": {
     "duration": 13.126656,
     "end_time": "2025-06-04T18:13:07.807426",
     "exception": false,
     "start_time": "2025-06-04T18:12:54.680770",
     "status": "completed"
    },
    "tags": []
   },
   "outputs": [
    {
     "name": "stdout",
     "output_type": "stream",
     "text": [
      "\u001b[2K   \u001b[90m━━━━━━━━━━━━━━━━━━━━━━━━━━━━━━━━━━━━━━━━\u001b[0m \u001b[32m13.3/13.3 MB\u001b[0m \u001b[31m70.3 MB/s\u001b[0m eta \u001b[36m0:00:00\u001b[0m\r\n",
      "\u001b[?25h\u001b[31mERROR: pip's dependency resolver does not currently take into account all the packages that are installed. This behaviour is the source of the following dependency conflicts.\r\n",
      "cesium 0.12.4 requires numpy<3.0,>=2.0, but you have numpy 1.26.4 which is incompatible.\u001b[0m\u001b[31m\r\n",
      "\u001b[0m"
     ]
    }
   ],
   "source": [
    "!pip install -q scikit-learn==1.5.2"
   ]
  },
  {
   "cell_type": "code",
   "execution_count": 2,
   "id": "08da79be",
   "metadata": {
    "execution": {
     "iopub.execute_input": "2025-06-04T18:13:07.824000Z",
     "iopub.status.busy": "2025-06-04T18:13:07.823541Z",
     "iopub.status.idle": "2025-06-04T18:13:23.609677Z",
     "shell.execute_reply": "2025-06-04T18:13:23.607603Z"
    },
    "papermill": {
     "duration": 15.796195,
     "end_time": "2025-06-04T18:13:23.611796",
     "exception": false,
     "start_time": "2025-06-04T18:13:07.815601",
     "status": "completed"
    },
    "tags": []
   },
   "outputs": [],
   "source": [
    "from lightgbm import LGBMClassifier, log_evaluation, early_stopping\n",
    "from sklearn.feature_selection import mutual_info_classif\n",
    "from sklearn.linear_model import LogisticRegression\n",
    "from sklearn.model_selection import StratifiedKFold\n",
    "from sklearn.preprocessing import LabelEncoder\n",
    "from sklearn.base import clone\n",
    "from xgboost import XGBClassifier\n",
    "import matplotlib.pyplot as plt\n",
    "import seaborn as sns\n",
    "import pandas as pd\n",
    "import numpy as np\n",
    "import warnings\n",
    "import joblib\n",
    "import optuna\n",
    "import shutil\n",
    "import glob\n",
    "import json\n",
    "import gc\n",
    "\n",
    "warnings.filterwarnings(\"ignore\")"
   ]
  },
  {
   "cell_type": "code",
   "execution_count": 3,
   "id": "b294fff4",
   "metadata": {
    "execution": {
     "iopub.execute_input": "2025-06-04T18:13:23.626756Z",
     "iopub.status.busy": "2025-06-04T18:13:23.626022Z",
     "iopub.status.idle": "2025-06-04T18:13:23.633447Z",
     "shell.execute_reply": "2025-06-04T18:13:23.632149Z"
    },
    "papermill": {
     "duration": 0.017394,
     "end_time": "2025-06-04T18:13:23.635806",
     "exception": false,
     "start_time": "2025-06-04T18:13:23.618412",
     "status": "completed"
    },
    "tags": []
   },
   "outputs": [],
   "source": [
    "class CFG:\n",
    "    train_path = \"/kaggle/input/playground-series-s5e6/train.csv\"\n",
    "    test_path = \"/kaggle/input/playground-series-s5e6/test.csv\"\n",
    "    sample_sub_path = \"/kaggle/input/playground-series-s5e6/sample_submission.csv\"\n",
    "\n",
    "    original_path = \"/kaggle/input/fertilizer-prediction/Fertilizer Prediction.csv\"\n",
    "    \n",
    "    target = \"Fertilizer Name\"\n",
    "    n_folds = 5\n",
    "    seed = 42\n",
    "    \n",
    "    run_optuna = False\n",
    "    n_optuna_trials = 250"
   ]
  },
  {
   "cell_type": "markdown",
   "id": "fd3e698f",
   "metadata": {
    "papermill": {
     "duration": 0.008865,
     "end_time": "2025-06-04T18:13:23.650900",
     "exception": false,
     "start_time": "2025-06-04T18:13:23.642035",
     "status": "completed"
    },
    "tags": []
   },
   "source": [
    "# Data loading and preprocessing"
   ]
  },
  {
   "cell_type": "code",
   "execution_count": 4,
   "id": "c0b2d4d0",
   "metadata": {
    "execution": {
     "iopub.execute_input": "2025-06-04T18:13:23.666994Z",
     "iopub.status.busy": "2025-06-04T18:13:23.666154Z",
     "iopub.status.idle": "2025-06-04T18:13:26.163638Z",
     "shell.execute_reply": "2025-06-04T18:13:26.162571Z"
    },
    "papermill": {
     "duration": 2.508482,
     "end_time": "2025-06-04T18:13:26.166404",
     "exception": false,
     "start_time": "2025-06-04T18:13:23.657922",
     "status": "completed"
    },
    "tags": []
   },
   "outputs": [],
   "source": [
    "train = pd.read_csv(CFG.train_path, index_col=\"id\")\n",
    "test = pd.read_csv(CFG.test_path, index_col=\"id\")\n",
    "original = pd.read_csv(CFG.original_path)\n",
    "\n",
    "cat_cols = train.select_dtypes(include=\"object\").columns.tolist()\n",
    "cat_cols = [c for c in cat_cols if c != CFG.target]\n",
    "train[cat_cols] = train[cat_cols].astype(str).astype(\"category\")\n",
    "test[cat_cols] = test[cat_cols].astype(str).astype(\"category\")\n",
    "original[cat_cols] = original[cat_cols].astype(str).astype(\"category\")\n",
    "\n",
    "label_encoder = LabelEncoder()\n",
    "train[CFG.target] = label_encoder.fit_transform(train[CFG.target])\n",
    "original[CFG.target] = label_encoder.transform(original[CFG.target])\n",
    "\n",
    "X = train.drop(CFG.target, axis=1)\n",
    "y = train[CFG.target]\n",
    "X_test = test\n",
    "\n",
    "X_original = original.drop(CFG.target, axis=1)\n",
    "y_original = original[CFG.target]"
   ]
  },
  {
   "cell_type": "code",
   "execution_count": 5,
   "id": "efc9e5f9",
   "metadata": {
    "execution": {
     "iopub.execute_input": "2025-06-04T18:13:26.183055Z",
     "iopub.status.busy": "2025-06-04T18:13:26.181915Z",
     "iopub.status.idle": "2025-06-04T18:13:33.484357Z",
     "shell.execute_reply": "2025-06-04T18:13:33.482077Z"
    },
    "papermill": {
     "duration": 7.31358,
     "end_time": "2025-06-04T18:13:33.487225",
     "exception": false,
     "start_time": "2025-06-04T18:13:26.173645",
     "status": "completed"
    },
    "tags": []
   },
   "outputs": [
    {
     "data": {
      "text/html": [
       "<style type=\"text/css\">\n",
       "#T_006fd_row0_col0 {\n",
       "  width: 10em;\n",
       "  background: linear-gradient(90deg, #006837 100.0%, transparent 100.0%);\n",
       "}\n",
       "#T_006fd_row1_col0 {\n",
       "  width: 10em;\n",
       "  background: linear-gradient(90deg, #199750 90.2%, transparent 90.2%);\n",
       "}\n",
       "#T_006fd_row2_col0 {\n",
       "  width: 10em;\n",
       "  background: linear-gradient(90deg, #9bd469 71.7%, transparent 71.7%);\n",
       "}\n",
       "#T_006fd_row3_col0 {\n",
       "  width: 10em;\n",
       "  background: linear-gradient(90deg, #c9e881 63.1%, transparent 63.1%);\n",
       "}\n",
       "#T_006fd_row4_col0 {\n",
       "  width: 10em;\n",
       "  background: linear-gradient(90deg, #fee491 41.3%, transparent 41.3%);\n",
       "}\n",
       "#T_006fd_row5_col0 {\n",
       "  width: 10em;\n",
       "  background: linear-gradient(90deg, #fdb163 30.7%, transparent 30.7%);\n",
       "}\n",
       "#T_006fd_row6_col0 {\n",
       "  width: 10em;\n",
       "  background: linear-gradient(90deg, #fca85e 29.2%, transparent 29.2%);\n",
       "}\n",
       "#T_006fd_row7_col0 {\n",
       "  width: 10em;\n",
       "  background: linear-gradient(90deg, #ef633f 18.6%, transparent 18.6%);\n",
       "}\n",
       "</style>\n",
       "<table id=\"T_006fd\">\n",
       "  <thead>\n",
       "    <tr>\n",
       "      <th class=\"blank level0\" >&nbsp;</th>\n",
       "      <th id=\"T_006fd_level0_col0\" class=\"col_heading level0 col0\" >Mutual Information</th>\n",
       "    </tr>\n",
       "  </thead>\n",
       "  <tbody>\n",
       "    <tr>\n",
       "      <th id=\"T_006fd_level0_row0\" class=\"row_heading level0 row0\" >Moisture</th>\n",
       "      <td id=\"T_006fd_row0_col0\" class=\"data row0 col0\" >0.003308</td>\n",
       "    </tr>\n",
       "    <tr>\n",
       "      <th id=\"T_006fd_level0_row1\" class=\"row_heading level0 row1\" >Phosphorous</th>\n",
       "      <td id=\"T_006fd_row1_col0\" class=\"data row1 col0\" >0.002984</td>\n",
       "    </tr>\n",
       "    <tr>\n",
       "      <th id=\"T_006fd_level0_row2\" class=\"row_heading level0 row2\" >Nitrogen</th>\n",
       "      <td id=\"T_006fd_row2_col0\" class=\"data row2 col0\" >0.002373</td>\n",
       "    </tr>\n",
       "    <tr>\n",
       "      <th id=\"T_006fd_level0_row3\" class=\"row_heading level0 row3\" >Crop Type</th>\n",
       "      <td id=\"T_006fd_row3_col0\" class=\"data row3 col0\" >0.002088</td>\n",
       "    </tr>\n",
       "    <tr>\n",
       "      <th id=\"T_006fd_level0_row4\" class=\"row_heading level0 row4\" >Potassium</th>\n",
       "      <td id=\"T_006fd_row4_col0\" class=\"data row4 col0\" >0.001367</td>\n",
       "    </tr>\n",
       "    <tr>\n",
       "      <th id=\"T_006fd_level0_row5\" class=\"row_heading level0 row5\" >Humidity</th>\n",
       "      <td id=\"T_006fd_row5_col0\" class=\"data row5 col0\" >0.001015</td>\n",
       "    </tr>\n",
       "    <tr>\n",
       "      <th id=\"T_006fd_level0_row6\" class=\"row_heading level0 row6\" >Temparature</th>\n",
       "      <td id=\"T_006fd_row6_col0\" class=\"data row6 col0\" >0.000966</td>\n",
       "    </tr>\n",
       "    <tr>\n",
       "      <th id=\"T_006fd_level0_row7\" class=\"row_heading level0 row7\" >Soil Type</th>\n",
       "      <td id=\"T_006fd_row7_col0\" class=\"data row7 col0\" >0.000617</td>\n",
       "    </tr>\n",
       "  </tbody>\n",
       "</table>\n"
      ],
      "text/plain": [
       "<pandas.io.formats.style.Styler at 0x7e7451525a50>"
      ]
     },
     "execution_count": 5,
     "metadata": {},
     "output_type": "execute_result"
    }
   ],
   "source": [
    "mutual_info = mutual_info_classif(X, y, random_state=CFG.seed, discrete_features=True)\n",
    "\n",
    "mutual_info = pd.Series(mutual_info)\n",
    "mutual_info.index = X.columns\n",
    "mutual_info = pd.DataFrame(mutual_info.sort_values(ascending=False), columns=['Mutual Information'])\n",
    "mutual_info.style.bar(subset=['Mutual Information'], cmap='RdYlGn')"
   ]
  },
  {
   "cell_type": "code",
   "execution_count": 6,
   "id": "b4862185",
   "metadata": {
    "execution": {
     "iopub.execute_input": "2025-06-04T18:13:33.502731Z",
     "iopub.status.busy": "2025-06-04T18:13:33.502234Z",
     "iopub.status.idle": "2025-06-04T18:13:34.309593Z",
     "shell.execute_reply": "2025-06-04T18:13:34.307325Z"
    },
    "papermill": {
     "duration": 0.818357,
     "end_time": "2025-06-04T18:13:34.312497",
     "exception": false,
     "start_time": "2025-06-04T18:13:33.494140",
     "status": "completed"
    },
    "tags": []
   },
   "outputs": [
    {
     "data": {
      "text/html": [
       "<style type=\"text/css\">\n",
       "#T_58a39_row0_col0 {\n",
       "  width: 10em;\n",
       "  background: linear-gradient(90deg, #006837 100.0%, transparent 100.0%);\n",
       "}\n",
       "#T_58a39_row1_col0 {\n",
       "  width: 10em;\n",
       "  background: linear-gradient(90deg, #016a38 99.5%, transparent 99.5%);\n",
       "}\n",
       "#T_58a39_row2_col0 {\n",
       "  width: 10em;\n",
       "  background: linear-gradient(90deg, #70c164 78.4%, transparent 78.4%);\n",
       "}\n",
       "#T_58a39_row3_col0 {\n",
       "  width: 10em;\n",
       "  background: linear-gradient(90deg, #fff2aa 45.9%, transparent 45.9%);\n",
       "}\n",
       "#T_58a39_row4_col0 {\n",
       "  width: 10em;\n",
       "  background: linear-gradient(90deg, #fecc7b 36.3%, transparent 36.3%);\n",
       "}\n",
       "#T_58a39_row5_col0 {\n",
       "  width: 10em;\n",
       "  background: linear-gradient(90deg, #fdb768 31.7%, transparent 31.7%);\n",
       "}\n",
       "#T_58a39_row6_col0 {\n",
       "  width: 10em;\n",
       "  background: linear-gradient(90deg, #f7844e 23.5%, transparent 23.5%);\n",
       "}\n",
       "#T_58a39_row7_col0 {\n",
       "  width: 10em;\n",
       "  background: linear-gradient(90deg, #cc2627 7.9%, transparent 7.9%);\n",
       "}\n",
       "</style>\n",
       "<table id=\"T_58a39\">\n",
       "  <thead>\n",
       "    <tr>\n",
       "      <th class=\"blank level0\" >&nbsp;</th>\n",
       "      <th id=\"T_58a39_level0_col0\" class=\"col_heading level0 col0\" >Mutual Information</th>\n",
       "    </tr>\n",
       "  </thead>\n",
       "  <tbody>\n",
       "    <tr>\n",
       "      <th id=\"T_58a39_level0_row0\" class=\"row_heading level0 row0\" >Phosphorous</th>\n",
       "      <td id=\"T_58a39_row0_col0\" class=\"data row0 col0\" >0.001362</td>\n",
       "    </tr>\n",
       "    <tr>\n",
       "      <th id=\"T_58a39_level0_row1\" class=\"row_heading level0 row1\" >Moisture</th>\n",
       "      <td id=\"T_58a39_row1_col0\" class=\"data row1 col0\" >0.001355</td>\n",
       "    </tr>\n",
       "    <tr>\n",
       "      <th id=\"T_58a39_level0_row2\" class=\"row_heading level0 row2\" >Nitrogen</th>\n",
       "      <td id=\"T_58a39_row2_col0\" class=\"data row2 col0\" >0.001068</td>\n",
       "    </tr>\n",
       "    <tr>\n",
       "      <th id=\"T_58a39_level0_row3\" class=\"row_heading level0 row3\" >Potassium</th>\n",
       "      <td id=\"T_58a39_row3_col0\" class=\"data row3 col0\" >0.000626</td>\n",
       "    </tr>\n",
       "    <tr>\n",
       "      <th id=\"T_58a39_level0_row4\" class=\"row_heading level0 row4\" >Humidity</th>\n",
       "      <td id=\"T_58a39_row4_col0\" class=\"data row4 col0\" >0.000494</td>\n",
       "    </tr>\n",
       "    <tr>\n",
       "      <th id=\"T_58a39_level0_row5\" class=\"row_heading level0 row5\" >Temparature</th>\n",
       "      <td id=\"T_58a39_row5_col0\" class=\"data row5 col0\" >0.000432</td>\n",
       "    </tr>\n",
       "    <tr>\n",
       "      <th id=\"T_58a39_level0_row6\" class=\"row_heading level0 row6\" >Crop Type</th>\n",
       "      <td id=\"T_58a39_row6_col0\" class=\"data row6 col0\" >0.000320</td>\n",
       "    </tr>\n",
       "    <tr>\n",
       "      <th id=\"T_58a39_level0_row7\" class=\"row_heading level0 row7\" >Soil Type</th>\n",
       "      <td id=\"T_58a39_row7_col0\" class=\"data row7 col0\" >0.000107</td>\n",
       "    </tr>\n",
       "  </tbody>\n",
       "</table>\n"
      ],
      "text/plain": [
       "<pandas.io.formats.style.Styler at 0x7e7451548150>"
      ]
     },
     "execution_count": 6,
     "metadata": {},
     "output_type": "execute_result"
    }
   ],
   "source": [
    "mutual_info = mutual_info_classif(X_original, y_original, random_state=CFG.seed, discrete_features=True)\n",
    "\n",
    "mutual_info = pd.Series(mutual_info)\n",
    "mutual_info.index = X_original.columns\n",
    "mutual_info = pd.DataFrame(mutual_info.sort_values(ascending=False), columns=['Mutual Information'])\n",
    "mutual_info.style.bar(subset=['Mutual Information'], cmap='RdYlGn')"
   ]
  },
  {
   "cell_type": "markdown",
   "id": "f48d1f02",
   "metadata": {
    "papermill": {
     "duration": 0.007887,
     "end_time": "2025-06-04T18:13:34.327375",
     "exception": false,
     "start_time": "2025-06-04T18:13:34.319488",
     "status": "completed"
    },
    "tags": []
   },
   "source": [
    "# Training base models"
   ]
  },
  {
   "cell_type": "code",
   "execution_count": 7,
   "id": "6876907f",
   "metadata": {
    "execution": {
     "iopub.execute_input": "2025-06-04T18:13:34.344459Z",
     "iopub.status.busy": "2025-06-04T18:13:34.344003Z",
     "iopub.status.idle": "2025-06-04T18:13:34.353947Z",
     "shell.execute_reply": "2025-06-04T18:13:34.352132Z"
    },
    "papermill": {
     "duration": 0.021031,
     "end_time": "2025-06-04T18:13:34.356104",
     "exception": false,
     "start_time": "2025-06-04T18:13:34.335073",
     "status": "completed"
    },
    "tags": []
   },
   "outputs": [],
   "source": [
    "def map3(y_true, y_pred_probs):\n",
    "    y_true = [[x] for x in y_true]\n",
    "    y_pred_probs = np.argsort(y_pred_probs, axis=1)[:, -3:][:, ::-1].tolist()\n",
    "    \n",
    "    def ap3(y_true, y_pred_probs):\n",
    "        y_pred_probs = y_pred_probs[:3]\n",
    "\n",
    "        score = 0.0\n",
    "        num_hits = 0.0\n",
    "\n",
    "        for i,p in enumerate(y_pred_probs):\n",
    "            if p in y_true and p not in y_pred_probs[:i]:\n",
    "                num_hits += 1.0\n",
    "                score += num_hits / (i+1.0)\n",
    "\n",
    "        if not y_true:\n",
    "            return 0.0\n",
    "\n",
    "        return score\n",
    "    \n",
    "    return np.mean([ap3(a,p) for a,p in zip(y_true, y_pred_probs)])"
   ]
  },
  {
   "cell_type": "code",
   "execution_count": 8,
   "id": "cf76a01b",
   "metadata": {
    "execution": {
     "iopub.execute_input": "2025-06-04T18:13:34.372827Z",
     "iopub.status.busy": "2025-06-04T18:13:34.372307Z",
     "iopub.status.idle": "2025-06-04T18:13:34.390221Z",
     "shell.execute_reply": "2025-06-04T18:13:34.387552Z"
    },
    "papermill": {
     "duration": 0.029578,
     "end_time": "2025-06-04T18:13:34.393191",
     "exception": false,
     "start_time": "2025-06-04T18:13:34.363613",
     "status": "completed"
    },
    "tags": []
   },
   "outputs": [],
   "source": [
    "class Trainer:\n",
    "    def __init__(self, model, config=CFG):\n",
    "        self.model = model\n",
    "        self.config = config\n",
    "\n",
    "    def fit_predict(self, X, y, X_test, X_original=None, y_original=None, fit_args={}):\n",
    "        print(f\"Training {self.model.__class__.__name__}\\n\")\n",
    "        \n",
    "        scores = []        \n",
    "        oof_pred_probs = np.zeros((X.shape[0], y.nunique()))\n",
    "        test_pred_probs = np.zeros((X_test.shape[0], y.nunique()))\n",
    "        \n",
    "        skf = StratifiedKFold(n_splits=self.config.n_folds, random_state=self.config.seed, shuffle=True)\n",
    "        for fold_idx, (train_idx, val_idx) in enumerate(skf.split(X, y)):\n",
    "            X_train, X_val = X.iloc[train_idx], X.iloc[val_idx]\n",
    "            y_train, y_val = y[train_idx], y[val_idx]\n",
    "\n",
    "            if X_original is not None and y_original is not None:\n",
    "                X_train = pd.concat([X_train, X_original])\n",
    "                y_train = pd.concat([y_train, y_original])\n",
    "            \n",
    "            model = clone(self.model)\n",
    "            \n",
    "            if fit_args:\n",
    "                model.fit(X_train, y_train, **fit_args, eval_set=[(X_val, y_val)])\n",
    "            else:\n",
    "                model.fit(X_train, y_train)\n",
    "            \n",
    "            y_pred_probs = model.predict_proba(X_val)\n",
    "            oof_pred_probs[val_idx] = y_pred_probs\n",
    "            \n",
    "            temp_test_pred_probs = model.predict_proba(X_test)\n",
    "            test_pred_probs += temp_test_pred_probs / self.config.n_folds\n",
    "            \n",
    "            score = map3(y_val, y_pred_probs)\n",
    "            scores.append(score)\n",
    "            \n",
    "            del model, X_train, y_train, X_val, y_val, y_pred_probs\n",
    "            gc.collect()\n",
    "            \n",
    "            if fit_args:\n",
    "                print(f\"\\n--- Fold {fold_idx + 1} - MAP@3: {score:.6f}\\n\\n\")\n",
    "            else:\n",
    "                print(f\"--- Fold {fold_idx + 1} - MAP@3: {score:.6f}\")\n",
    "                            \n",
    "        overall_score = map3(y, oof_pred_probs)\n",
    "            \n",
    "        print(f\"\\n------ Overall MAP@3: {overall_score:.6f} | Average MAP@3: {np.mean(scores):.6f} ± {np.std(scores):.6f}\")\n",
    "        \n",
    "        return oof_pred_probs, test_pred_probs, scores\n",
    "\n",
    "    def tune(self, X, y):        \n",
    "        scores = []        \n",
    "        \n",
    "        skf = StratifiedKFold(n_splits=self.config.n_folds, random_state=self.config.seed, shuffle=True)\n",
    "        for fold_idx, (train_idx, val_idx) in enumerate(skf.split(X, y)):\n",
    "            X_train, X_val = X.iloc[train_idx], X.iloc[val_idx]\n",
    "            y_train, y_val = y[train_idx], y[val_idx]\n",
    "            \n",
    "            model = clone(self.model)\n",
    "            model.fit(X_train, y_train)\n",
    "            \n",
    "            y_pred_probs = model.predict_proba(X_val)            \n",
    "            score = map3(y_val, y_pred_probs)\n",
    "            scores.append(score)\n",
    "            \n",
    "            del model, X_train, y_train, X_val, y_val, y_pred_probs\n",
    "            gc.collect()\n",
    "            \n",
    "        return np.mean(scores)"
   ]
  },
  {
   "cell_type": "code",
   "execution_count": 9,
   "id": "956d2558",
   "metadata": {
    "_kg_hide-input": true,
    "execution": {
     "iopub.execute_input": "2025-06-04T18:13:34.414768Z",
     "iopub.status.busy": "2025-06-04T18:13:34.414328Z",
     "iopub.status.idle": "2025-06-04T18:13:34.453574Z",
     "shell.execute_reply": "2025-06-04T18:13:34.423773Z"
    },
    "papermill": {
     "duration": 0.056227,
     "end_time": "2025-06-04T18:13:34.456275",
     "exception": false,
     "start_time": "2025-06-04T18:13:34.400048",
     "status": "completed"
    },
    "tags": []
   },
   "outputs": [],
   "source": [
    "lgbm_params = {\n",
    "    # https://www.kaggle.com/code/patrykszcz/single-lgb-5-folds?scriptVersionId=243298529\n",
    "    \"boosting_type\": \"gbdt\",\n",
    "    \"n_estimators\": 10000,\n",
    "    \"learning_rate\": 0.06408094783107429,\n",
    "    \"num_leaves\": 169,\n",
    "    \"max_depth\": 10,\n",
    "    \"min_child_samples\": 19,\n",
    "    \"subsample\": 0.6420340301820501,\n",
    "    \"colsample_bytree\": 0.43403799235854973,\n",
    "    \"reg_alpha\": 6.294093849568123,\n",
    "    \"reg_lambda\": 5.5559072866866455,\n",
    "    \"random_state\": 42,\n",
    "    \"verbosity\": -1\n",
    "}\n",
    "\n",
    "lgbm_goss_params = {\n",
    "    \"boosting_type\": \"goss\",\n",
    "    \"colsample_bytree\": 0.39736332491996407,\n",
    "    \"learning_rate\": 0.008033740989500222,\n",
    "    \"min_child_samples\": 29,\n",
    "    \"min_child_weight\": 0.6732469853333759,\n",
    "    \"n_estimators\": 10000,\n",
    "    \"n_jobs\": -1,\n",
    "    \"num_leaves\": 89,\n",
    "    \"random_state\": 42,\n",
    "    \"reg_alpha\": 15.595856670965969,\n",
    "    \"reg_lambda\": 51.43625034648377,\n",
    "    \"subsample\": 0.07846482736630467,\n",
    "    \"verbose\": -1\n",
    "}\n",
    "\n",
    "xgb_params = {\n",
    "    # https://www.kaggle.com/code/patrykszcz/simple-xgb-model-5-fold\n",
    "    \"max_depth\": 12,\n",
    "    \"colsample_bytree\": 0.467,\n",
    "    \"subsample\": 0.86,\n",
    "    \"n_estimators\": 10000,\n",
    "    \"learning_rate\": 0.03,\n",
    "    \"gamma\": 0.26,\n",
    "    \"max_delta_step\": 4,\n",
    "    \"reg_alpha\": 2.7,\n",
    "    \"reg_lambda\": 1.4,\n",
    "    \"early_stopping_rounds\": 100,\n",
    "    \"objective\": 'multi:softprob',\n",
    "    \"random_state\": 13,\n",
    "    \"enable_categorical\": True,\n",
    "}"
   ]
  },
  {
   "cell_type": "code",
   "execution_count": 10,
   "id": "eba9bd41",
   "metadata": {
    "execution": {
     "iopub.execute_input": "2025-06-04T18:13:34.475726Z",
     "iopub.status.busy": "2025-06-04T18:13:34.475215Z",
     "iopub.status.idle": "2025-06-04T18:13:34.483304Z",
     "shell.execute_reply": "2025-06-04T18:13:34.481189Z"
    },
    "papermill": {
     "duration": 0.022128,
     "end_time": "2025-06-04T18:13:34.486009",
     "exception": false,
     "start_time": "2025-06-04T18:13:34.463881",
     "status": "completed"
    },
    "tags": []
   },
   "outputs": [],
   "source": [
    "scores = {}\n",
    "oof_pred_probs = {}\n",
    "test_pred_probs = {}"
   ]
  },
  {
   "cell_type": "markdown",
   "id": "49533155",
   "metadata": {
    "papermill": {
     "duration": 0.00624,
     "end_time": "2025-06-04T18:13:34.499268",
     "exception": false,
     "start_time": "2025-06-04T18:13:34.493028",
     "status": "completed"
    },
    "tags": []
   },
   "source": [
    "## LightGBM (gbdt)"
   ]
  },
  {
   "cell_type": "code",
   "execution_count": 11,
   "id": "1d4a74a0",
   "metadata": {
    "execution": {
     "iopub.execute_input": "2025-06-04T18:13:34.516036Z",
     "iopub.status.busy": "2025-06-04T18:13:34.515666Z",
     "iopub.status.idle": "2025-06-04T19:59:10.107774Z",
     "shell.execute_reply": "2025-06-04T19:59:10.106237Z"
    },
    "papermill": {
     "duration": 6335.602991,
     "end_time": "2025-06-04T19:59:10.109802",
     "exception": false,
     "start_time": "2025-06-04T18:13:34.506811",
     "status": "completed"
    },
    "scrolled": true,
    "tags": []
   },
   "outputs": [
    {
     "name": "stdout",
     "output_type": "stream",
     "text": [
      "Training LGBMClassifier\n",
      "\n",
      "Training until validation scores don't improve for 100 rounds\n",
      "[500]\tvalid_0's multi_logloss: 1.8979\n",
      "[1000]\tvalid_0's multi_logloss: 1.8964\n",
      "Early stopping, best iteration is:\n",
      "[916]\tvalid_0's multi_logloss: 1.89617\n",
      "\n",
      "--- Fold 1 - MAP@3: 0.360647\n",
      "\n",
      "\n",
      "Training until validation scores don't improve for 100 rounds\n",
      "[500]\tvalid_0's multi_logloss: 1.89711\n",
      "Early stopping, best iteration is:\n",
      "[878]\tvalid_0's multi_logloss: 1.89455\n",
      "\n",
      "--- Fold 2 - MAP@3: 0.360561\n",
      "\n",
      "\n",
      "Training until validation scores don't improve for 100 rounds\n",
      "[500]\tvalid_0's multi_logloss: 1.89629\n",
      "[1000]\tvalid_0's multi_logloss: 1.89353\n",
      "Early stopping, best iteration is:\n",
      "[924]\tvalid_0's multi_logloss: 1.89343\n",
      "\n",
      "--- Fold 3 - MAP@3: 0.363106\n",
      "\n",
      "\n",
      "Training until validation scores don't improve for 100 rounds\n",
      "[500]\tvalid_0's multi_logloss: 1.89793\n",
      "[1000]\tvalid_0's multi_logloss: 1.89598\n",
      "Early stopping, best iteration is:\n",
      "[921]\tvalid_0's multi_logloss: 1.89581\n",
      "\n",
      "--- Fold 4 - MAP@3: 0.360882\n",
      "\n",
      "\n",
      "Training until validation scores don't improve for 100 rounds\n",
      "[500]\tvalid_0's multi_logloss: 1.89721\n",
      "Early stopping, best iteration is:\n",
      "[858]\tvalid_0's multi_logloss: 1.89508\n",
      "\n",
      "--- Fold 5 - MAP@3: 0.361749\n",
      "\n",
      "\n",
      "\n",
      "------ Overall MAP@3: 0.361389 | Average MAP@3: 0.361389 ± 0.000956\n"
     ]
    }
   ],
   "source": [
    "lgbm_model = LGBMClassifier(**lgbm_params)\n",
    "lgbm_trainer = Trainer(lgbm_model)\n",
    "\n",
    "fit_args = {\n",
    "    \"callbacks\": [\n",
    "        log_evaluation(period=500), \n",
    "        early_stopping(stopping_rounds=100)\n",
    "    ]\n",
    "}\n",
    "\n",
    "oof_pred_probs[\"LightGBM (gbdt)\"], test_pred_probs[\"LightGBM (gbdt)\"], scores[\"LightGBM (gbdt)\"] = lgbm_trainer.fit_predict(X, y, X_test, X_original, y_original, fit_args)"
   ]
  },
  {
   "cell_type": "markdown",
   "id": "78788a7f",
   "metadata": {
    "papermill": {
     "duration": 0.007831,
     "end_time": "2025-06-04T19:59:10.125865",
     "exception": false,
     "start_time": "2025-06-04T19:59:10.118034",
     "status": "completed"
    },
    "tags": []
   },
   "source": [
    "## LightGBM (goss)"
   ]
  },
  {
   "cell_type": "code",
   "execution_count": 12,
   "id": "93858b7f",
   "metadata": {
    "execution": {
     "iopub.execute_input": "2025-06-04T19:59:10.143503Z",
     "iopub.status.busy": "2025-06-04T19:59:10.143149Z",
     "iopub.status.idle": "2025-06-05T03:59:06.786936Z",
     "shell.execute_reply": "2025-06-05T03:59:06.785990Z"
    },
    "papermill": {
     "duration": 28796.6546,
     "end_time": "2025-06-05T03:59:06.788456",
     "exception": false,
     "start_time": "2025-06-04T19:59:10.133856",
     "status": "completed"
    },
    "tags": []
   },
   "outputs": [
    {
     "name": "stdout",
     "output_type": "stream",
     "text": [
      "Training LGBMClassifier\n",
      "\n",
      "Training until validation scores don't improve for 100 rounds\n",
      "[500]\tvalid_0's multi_logloss: 1.92475\n",
      "[1000]\tvalid_0's multi_logloss: 1.91713\n",
      "[1500]\tvalid_0's multi_logloss: 1.91241\n",
      "[2000]\tvalid_0's multi_logloss: 1.90907\n",
      "[2500]\tvalid_0's multi_logloss: 1.90653\n",
      "[3000]\tvalid_0's multi_logloss: 1.90468\n",
      "[3500]\tvalid_0's multi_logloss: 1.90322\n",
      "[4000]\tvalid_0's multi_logloss: 1.90198\n",
      "[4500]\tvalid_0's multi_logloss: 1.90105\n",
      "[5000]\tvalid_0's multi_logloss: 1.90044\n",
      "[5500]\tvalid_0's multi_logloss: 1.89978\n",
      "[6000]\tvalid_0's multi_logloss: 1.89934\n",
      "[6500]\tvalid_0's multi_logloss: 1.89905\n",
      "[7000]\tvalid_0's multi_logloss: 1.89883\n",
      "Early stopping, best iteration is:\n",
      "[6946]\tvalid_0's multi_logloss: 1.89881\n",
      "\n",
      "--- Fold 1 - MAP@3: 0.356821\n",
      "\n",
      "\n",
      "Training until validation scores don't improve for 100 rounds\n",
      "[500]\tvalid_0's multi_logloss: 1.92469\n",
      "[1000]\tvalid_0's multi_logloss: 1.91708\n",
      "[1500]\tvalid_0's multi_logloss: 1.91222\n",
      "[2000]\tvalid_0's multi_logloss: 1.90886\n",
      "[2500]\tvalid_0's multi_logloss: 1.9063\n",
      "[3000]\tvalid_0's multi_logloss: 1.90432\n",
      "[3500]\tvalid_0's multi_logloss: 1.90268\n",
      "[4000]\tvalid_0's multi_logloss: 1.9014\n",
      "[4500]\tvalid_0's multi_logloss: 1.90042\n",
      "[5000]\tvalid_0's multi_logloss: 1.89957\n",
      "[5500]\tvalid_0's multi_logloss: 1.89892\n",
      "[6000]\tvalid_0's multi_logloss: 1.8984\n",
      "[6500]\tvalid_0's multi_logloss: 1.8979\n",
      "[7000]\tvalid_0's multi_logloss: 1.89752\n",
      "[7500]\tvalid_0's multi_logloss: 1.89725\n",
      "[8000]\tvalid_0's multi_logloss: 1.89707\n",
      "Early stopping, best iteration is:\n",
      "[7990]\tvalid_0's multi_logloss: 1.89706\n",
      "\n",
      "--- Fold 2 - MAP@3: 0.357967\n",
      "\n",
      "\n",
      "Training until validation scores don't improve for 100 rounds\n",
      "[500]\tvalid_0's multi_logloss: 1.92442\n",
      "[1000]\tvalid_0's multi_logloss: 1.91651\n",
      "[1500]\tvalid_0's multi_logloss: 1.91165\n",
      "[2000]\tvalid_0's multi_logloss: 1.90812\n",
      "[2500]\tvalid_0's multi_logloss: 1.90549\n",
      "[3000]\tvalid_0's multi_logloss: 1.90349\n",
      "[3500]\tvalid_0's multi_logloss: 1.90182\n",
      "[4000]\tvalid_0's multi_logloss: 1.90052\n",
      "[4500]\tvalid_0's multi_logloss: 1.89945\n",
      "[5000]\tvalid_0's multi_logloss: 1.89861\n",
      "[5500]\tvalid_0's multi_logloss: 1.89793\n",
      "[6000]\tvalid_0's multi_logloss: 1.89737\n",
      "[6500]\tvalid_0's multi_logloss: 1.8969\n",
      "[7000]\tvalid_0's multi_logloss: 1.89659\n",
      "[7500]\tvalid_0's multi_logloss: 1.89631\n",
      "Early stopping, best iteration is:\n",
      "[7532]\tvalid_0's multi_logloss: 1.8963\n",
      "\n",
      "--- Fold 3 - MAP@3: 0.358197\n",
      "\n",
      "\n",
      "Training until validation scores don't improve for 100 rounds\n",
      "[500]\tvalid_0's multi_logloss: 1.92469\n",
      "[1000]\tvalid_0's multi_logloss: 1.91721\n",
      "[1500]\tvalid_0's multi_logloss: 1.91252\n",
      "[2000]\tvalid_0's multi_logloss: 1.90914\n",
      "[2500]\tvalid_0's multi_logloss: 1.90669\n",
      "[3000]\tvalid_0's multi_logloss: 1.90475\n",
      "[3500]\tvalid_0's multi_logloss: 1.90326\n",
      "[4000]\tvalid_0's multi_logloss: 1.90208\n",
      "[4500]\tvalid_0's multi_logloss: 1.9011\n",
      "[5000]\tvalid_0's multi_logloss: 1.90028\n",
      "[5500]\tvalid_0's multi_logloss: 1.89967\n",
      "[6000]\tvalid_0's multi_logloss: 1.89922\n",
      "[6500]\tvalid_0's multi_logloss: 1.89886\n",
      "[7000]\tvalid_0's multi_logloss: 1.89862\n",
      "Early stopping, best iteration is:\n",
      "[7071]\tvalid_0's multi_logloss: 1.89859\n",
      "\n",
      "--- Fold 4 - MAP@3: 0.356966\n",
      "\n",
      "\n",
      "Training until validation scores don't improve for 100 rounds\n",
      "[500]\tvalid_0's multi_logloss: 1.92457\n",
      "[1000]\tvalid_0's multi_logloss: 1.91679\n",
      "[1500]\tvalid_0's multi_logloss: 1.91198\n",
      "[2000]\tvalid_0's multi_logloss: 1.90859\n",
      "[2500]\tvalid_0's multi_logloss: 1.90603\n",
      "[3000]\tvalid_0's multi_logloss: 1.90407\n",
      "[3500]\tvalid_0's multi_logloss: 1.90253\n",
      "[4000]\tvalid_0's multi_logloss: 1.9013\n",
      "[4500]\tvalid_0's multi_logloss: 1.90035\n",
      "[5000]\tvalid_0's multi_logloss: 1.89953\n",
      "[5500]\tvalid_0's multi_logloss: 1.8989\n",
      "[6000]\tvalid_0's multi_logloss: 1.89846\n",
      "[6500]\tvalid_0's multi_logloss: 1.8981\n",
      "[7000]\tvalid_0's multi_logloss: 1.89784\n",
      "[7500]\tvalid_0's multi_logloss: 1.89763\n",
      "[8000]\tvalid_0's multi_logloss: 1.89755\n",
      "Early stopping, best iteration is:\n",
      "[8053]\tvalid_0's multi_logloss: 1.89753\n",
      "\n",
      "--- Fold 5 - MAP@3: 0.358352\n",
      "\n",
      "\n",
      "\n",
      "------ Overall MAP@3: 0.357660 | Average MAP@3: 0.357660 ± 0.000640\n"
     ]
    }
   ],
   "source": [
    "lgb_goss_model = LGBMClassifier(**lgbm_goss_params)\n",
    "lgb_goss_trainer = Trainer(lgb_goss_model)\n",
    "\n",
    "fit_args = {\n",
    "    \"callbacks\": [\n",
    "        log_evaluation(period=500), \n",
    "        early_stopping(stopping_rounds=100)\n",
    "    ]\n",
    "}\n",
    "\n",
    "oof_pred_probs[\"LightGBM (goss)\"], test_pred_probs[\"LightGBM (goss)\"], scores[\"LightGBM (goss)\"] = lgb_goss_trainer.fit_predict(X, y, X_test, X_original, y_original, fit_args)"
   ]
  },
  {
   "cell_type": "markdown",
   "id": "5df80a02",
   "metadata": {
    "papermill": {
     "duration": 0.010756,
     "end_time": "2025-06-05T03:59:06.810665",
     "exception": false,
     "start_time": "2025-06-05T03:59:06.799909",
     "status": "completed"
    },
    "tags": []
   },
   "source": [
    "## XGBoost"
   ]
  },
  {
   "cell_type": "code",
   "execution_count": 13,
   "id": "014e4c67",
   "metadata": {
    "execution": {
     "iopub.execute_input": "2025-06-05T03:59:06.833506Z",
     "iopub.status.busy": "2025-06-05T03:59:06.832939Z",
     "iopub.status.idle": "2025-06-05T05:36:05.527224Z",
     "shell.execute_reply": "2025-06-05T05:36:05.526094Z"
    },
    "papermill": {
     "duration": 5818.707749,
     "end_time": "2025-06-05T05:36:05.529048",
     "exception": false,
     "start_time": "2025-06-05T03:59:06.821299",
     "status": "completed"
    },
    "tags": []
   },
   "outputs": [
    {
     "name": "stdout",
     "output_type": "stream",
     "text": [
      "Training XGBClassifier\n",
      "\n",
      "[0]\tvalidation_0-mlogloss:1.94561\n",
      "[500]\tvalidation_0-mlogloss:1.89899\n",
      "[1000]\tvalidation_0-mlogloss:1.89224\n",
      "[1424]\tvalidation_0-mlogloss:1.89159\n",
      "\n",
      "--- Fold 1 - MAP@3: 0.364604\n",
      "\n",
      "\n",
      "[0]\tvalidation_0-mlogloss:1.94562\n",
      "[500]\tvalidation_0-mlogloss:1.89831\n",
      "[1000]\tvalidation_0-mlogloss:1.89087\n",
      "[1500]\tvalidation_0-mlogloss:1.88976\n",
      "[1657]\tvalidation_0-mlogloss:1.88979\n",
      "\n",
      "--- Fold 2 - MAP@3: 0.365861\n",
      "\n",
      "\n",
      "[0]\tvalidation_0-mlogloss:1.94558\n",
      "[500]\tvalidation_0-mlogloss:1.89746\n",
      "[1000]\tvalidation_0-mlogloss:1.88999\n",
      "[1500]\tvalidation_0-mlogloss:1.88871\n",
      "[1606]\tvalidation_0-mlogloss:1.88876\n",
      "\n",
      "--- Fold 3 - MAP@3: 0.367676\n",
      "\n",
      "\n",
      "[0]\tvalidation_0-mlogloss:1.94561\n",
      "[500]\tvalidation_0-mlogloss:1.89874\n",
      "[1000]\tvalidation_0-mlogloss:1.89181\n",
      "[1500]\tvalidation_0-mlogloss:1.89092\n",
      "[1568]\tvalidation_0-mlogloss:1.89095\n",
      "\n",
      "--- Fold 4 - MAP@3: 0.365803\n",
      "\n",
      "\n",
      "[0]\tvalidation_0-mlogloss:1.94559\n",
      "[500]\tvalidation_0-mlogloss:1.89813\n",
      "[1000]\tvalidation_0-mlogloss:1.89111\n",
      "[1500]\tvalidation_0-mlogloss:1.89010\n",
      "[1592]\tvalidation_0-mlogloss:1.89018\n",
      "\n",
      "--- Fold 5 - MAP@3: 0.365958\n",
      "\n",
      "\n",
      "\n",
      "------ Overall MAP@3: 0.365980 | Average MAP@3: 0.365980 ± 0.000981\n"
     ]
    }
   ],
   "source": [
    "xgb_model = XGBClassifier(**xgb_params)\n",
    "xgb_trainer = Trainer(xgb_model)\n",
    "\n",
    "fit_args = {\n",
    "    \"verbose\": 500\n",
    "}\n",
    "\n",
    "oof_pred_probs[\"XGBoost\"], test_pred_probs[\"XGBoost\"], scores[\"XGBoost\"] = xgb_trainer.fit_predict(X, y, X_test, X_original, y_original, fit_args)"
   ]
  },
  {
   "cell_type": "markdown",
   "id": "7dabe68c",
   "metadata": {
    "papermill": {
     "duration": 0.014314,
     "end_time": "2025-06-05T05:36:05.555979",
     "exception": false,
     "start_time": "2025-06-05T05:36:05.541665",
     "status": "completed"
    },
    "tags": []
   },
   "source": [
    "## AutoGluon"
   ]
  },
  {
   "cell_type": "code",
   "execution_count": 14,
   "id": "a629d4d3",
   "metadata": {
    "execution": {
     "iopub.execute_input": "2025-06-05T05:36:05.585058Z",
     "iopub.status.busy": "2025-06-05T05:36:05.584062Z",
     "iopub.status.idle": "2025-06-05T05:36:08.805296Z",
     "shell.execute_reply": "2025-06-05T05:36:08.804489Z"
    },
    "papermill": {
     "duration": 3.236998,
     "end_time": "2025-06-05T05:36:08.806950",
     "exception": false,
     "start_time": "2025-06-05T05:36:05.569952",
     "status": "completed"
    },
    "tags": []
   },
   "outputs": [],
   "source": [
    "oof_preds_files = glob.glob(f'/kaggle/input/s05e06-fertilizer-optimization-autogluon/*_oof_pred_probs_*.pkl')\n",
    "test_preds_files = glob.glob(f'/kaggle/input/s05e06-fertilizer-optimization-autogluon/*_test_pred_probs_*.pkl')\n",
    "\n",
    "ag_oof_preds = joblib.load(oof_preds_files[0])\n",
    "ag_test_preds = joblib.load(test_preds_files[0])\n",
    "\n",
    "ag_scores = []\n",
    "split = StratifiedKFold(n_splits=CFG.n_folds, random_state=CFG.seed, shuffle=True).split(X, y)\n",
    "for _, val_idx in split:\n",
    "    y_val = y[val_idx]\n",
    "    y_preds = ag_oof_preds[val_idx]\n",
    "    score = map3(y_val, y_preds)\n",
    "    ag_scores.append(score)\n",
    "    \n",
    "oof_pred_probs[\"AutoGluon\"], test_pred_probs[\"AutoGluon\"], scores[\"AutoGluon\"] = ag_oof_preds, ag_test_preds, ag_scores"
   ]
  },
  {
   "cell_type": "markdown",
   "id": "74fee76f",
   "metadata": {
    "papermill": {
     "duration": 0.012847,
     "end_time": "2025-06-05T05:36:08.833998",
     "exception": false,
     "start_time": "2025-06-05T05:36:08.821151",
     "status": "completed"
    },
    "tags": []
   },
   "source": [
    "# Ensembling with LogisticRegression"
   ]
  },
  {
   "cell_type": "code",
   "execution_count": 15,
   "id": "4318ad3d",
   "metadata": {
    "execution": {
     "iopub.execute_input": "2025-06-05T05:36:08.859933Z",
     "iopub.status.busy": "2025-06-05T05:36:08.859601Z",
     "iopub.status.idle": "2025-06-05T05:36:09.048325Z",
     "shell.execute_reply": "2025-06-05T05:36:09.047541Z"
    },
    "papermill": {
     "duration": 0.203693,
     "end_time": "2025-06-05T05:36:09.049867",
     "exception": false,
     "start_time": "2025-06-05T05:36:08.846174",
     "status": "completed"
    },
    "tags": []
   },
   "outputs": [],
   "source": [
    "X = pd.DataFrame(np.concatenate(list(oof_pred_probs.values()), axis=1))\n",
    "X_test = pd.DataFrame(np.concatenate(list(test_pred_probs.values()), axis=1))"
   ]
  },
  {
   "cell_type": "code",
   "execution_count": 16,
   "id": "d85e59f5",
   "metadata": {
    "execution": {
     "iopub.execute_input": "2025-06-05T05:36:09.076410Z",
     "iopub.status.busy": "2025-06-05T05:36:09.076068Z",
     "iopub.status.idle": "2025-06-05T05:36:09.332648Z",
     "shell.execute_reply": "2025-06-05T05:36:09.331726Z"
    },
    "papermill": {
     "duration": 0.271793,
     "end_time": "2025-06-05T05:36:09.334431",
     "exception": false,
     "start_time": "2025-06-05T05:36:09.062638",
     "status": "completed"
    },
    "tags": []
   },
   "outputs": [
    {
     "data": {
      "text/plain": [
       "['test_pred_probs.pkl']"
      ]
     },
     "execution_count": 16,
     "metadata": {},
     "output_type": "execute_result"
    }
   ],
   "source": [
    "joblib.dump(X, \"oof_pred_probs.pkl\")\n",
    "joblib.dump(X_test, \"test_pred_probs.pkl\")"
   ]
  },
  {
   "cell_type": "code",
   "execution_count": 17,
   "id": "1902cc6e",
   "metadata": {
    "_kg_hide-output": true,
    "execution": {
     "iopub.execute_input": "2025-06-05T05:36:09.362253Z",
     "iopub.status.busy": "2025-06-05T05:36:09.361959Z",
     "iopub.status.idle": "2025-06-05T05:36:09.372410Z",
     "shell.execute_reply": "2025-06-05T05:36:09.371483Z"
    },
    "papermill": {
     "duration": 0.026111,
     "end_time": "2025-06-05T05:36:09.374020",
     "exception": false,
     "start_time": "2025-06-05T05:36:09.347909",
     "status": "completed"
    },
    "scrolled": true,
    "tags": []
   },
   "outputs": [],
   "source": [
    "def objective(trial):\n",
    "    solver_penalty_options = [\n",
    "        ('liblinear', 'l1'),\n",
    "        ('liblinear', 'l2'),\n",
    "        ('lbfgs', 'l2'),\n",
    "        ('lbfgs', None)\n",
    "    ]\n",
    "    solver, penalty = trial.suggest_categorical('solver_penalty', solver_penalty_options)\n",
    "    \n",
    "    params = {\n",
    "        'random_state': CFG.seed,\n",
    "        'max_iter': 500,\n",
    "        'C': trial.suggest_float('C', 0, 10),\n",
    "        'tol': trial.suggest_float('tol', 1e-7, 1e-2),\n",
    "        'fit_intercept': trial.suggest_categorical('fit_intercept', [True, False]),\n",
    "        'class_weight': trial.suggest_categorical('class_weight', ['balanced', None]),\n",
    "        'solver': solver,\n",
    "        'penalty': penalty\n",
    "    }\n",
    "    \n",
    "    model = LogisticRegression(**params)\n",
    "    trainer = Trainer(model)\n",
    "    return trainer.tune(X, y)\n",
    "\n",
    "\n",
    "if CFG.run_optuna:\n",
    "    sampler = optuna.samplers.TPESampler(seed=CFG.seed, multivariate=True)\n",
    "    study = optuna.create_study(direction='maximize', sampler=sampler)\n",
    "    study.optimize(objective, n_trials=250, n_jobs=-1)\n",
    "    best_params = study.best_params\n",
    "    \n",
    "    solver, penalty = best_params['solver_penalty']\n",
    "    lr_params = {\n",
    "        'random_state': CFG.seed,\n",
    "        'max_iter': 500,\n",
    "        'solver': solver,\n",
    "        'penalty': penalty,\n",
    "        'fit_intercept': best_params['fit_intercept'],\n",
    "        'class_weight': best_params['class_weight'],\n",
    "        'C': best_params['C'],\n",
    "        'tol': best_params['tol']\n",
    "    }\n",
    "else:\n",
    "    lr_params = {\n",
    "        'random_state': CFG.seed,\n",
    "        'max_iter': 500\n",
    "    }"
   ]
  },
  {
   "cell_type": "code",
   "execution_count": 18,
   "id": "b77fc728",
   "metadata": {
    "execution": {
     "iopub.execute_input": "2025-06-05T05:36:09.400878Z",
     "iopub.status.busy": "2025-06-05T05:36:09.400568Z",
     "iopub.status.idle": "2025-06-05T05:36:09.405726Z",
     "shell.execute_reply": "2025-06-05T05:36:09.404583Z"
    },
    "papermill": {
     "duration": 0.019925,
     "end_time": "2025-06-05T05:36:09.407008",
     "exception": false,
     "start_time": "2025-06-05T05:36:09.387083",
     "status": "completed"
    },
    "tags": []
   },
   "outputs": [
    {
     "name": "stdout",
     "output_type": "stream",
     "text": [
      "{\n",
      "  \"random_state\": 42,\n",
      "  \"max_iter\": 500\n",
      "}\n"
     ]
    }
   ],
   "source": [
    "print(json.dumps(lr_params, indent=2))"
   ]
  },
  {
   "cell_type": "code",
   "execution_count": 19,
   "id": "2e863b08",
   "metadata": {
    "execution": {
     "iopub.execute_input": "2025-06-05T05:36:09.434477Z",
     "iopub.status.busy": "2025-06-05T05:36:09.434169Z",
     "iopub.status.idle": "2025-06-05T05:37:11.766707Z",
     "shell.execute_reply": "2025-06-05T05:37:11.765614Z"
    },
    "papermill": {
     "duration": 62.347767,
     "end_time": "2025-06-05T05:37:11.768249",
     "exception": false,
     "start_time": "2025-06-05T05:36:09.420482",
     "status": "completed"
    },
    "tags": []
   },
   "outputs": [
    {
     "name": "stdout",
     "output_type": "stream",
     "text": [
      "Training LogisticRegression\n",
      "\n",
      "--- Fold 1 - MAP@3: 0.364211\n",
      "--- Fold 2 - MAP@3: 0.366679\n",
      "--- Fold 3 - MAP@3: 0.368506\n",
      "--- Fold 4 - MAP@3: 0.366267\n",
      "--- Fold 5 - MAP@3: 0.366116\n",
      "\n",
      "------ Overall MAP@3: 0.366356 | Average MAP@3: 0.366356 ± 0.001370\n"
     ]
    }
   ],
   "source": [
    "lr_model = LogisticRegression(**lr_params)\n",
    "lr_trainer = Trainer(lr_model)\n",
    "\n",
    "_, lr_test_pred_probs, scores[\"LogisticRegression\"] = lr_trainer.fit_predict(X, y, X_test)"
   ]
  },
  {
   "cell_type": "code",
   "execution_count": 20,
   "id": "6bafe5cd",
   "metadata": {
    "execution": {
     "iopub.execute_input": "2025-06-05T05:37:11.796855Z",
     "iopub.status.busy": "2025-06-05T05:37:11.796207Z",
     "iopub.status.idle": "2025-06-05T05:37:38.023317Z",
     "shell.execute_reply": "2025-06-05T05:37:38.022334Z"
    },
    "papermill": {
     "duration": 26.242758,
     "end_time": "2025-06-05T05:37:38.024977",
     "exception": false,
     "start_time": "2025-06-05T05:37:11.782219",
     "status": "completed"
    },
    "tags": []
   },
   "outputs": [],
   "source": [
    "final_predictions = []\n",
    "for i in np.argsort(lr_test_pred_probs)[:, -3:][:, ::-1]:\n",
    "    prediction = label_encoder.inverse_transform(i)\n",
    "    final_predictions.append(\" \".join(prediction))"
   ]
  },
  {
   "cell_type": "code",
   "execution_count": 21,
   "id": "44dfb85d",
   "metadata": {
    "execution": {
     "iopub.execute_input": "2025-06-05T05:37:38.055048Z",
     "iopub.status.busy": "2025-06-05T05:37:38.054737Z",
     "iopub.status.idle": "2025-06-05T05:37:38.657733Z",
     "shell.execute_reply": "2025-06-05T05:37:38.656902Z"
    },
    "papermill": {
     "duration": 0.620844,
     "end_time": "2025-06-05T05:37:38.659107",
     "exception": false,
     "start_time": "2025-06-05T05:37:38.038263",
     "status": "completed"
    },
    "tags": []
   },
   "outputs": [
    {
     "data": {
      "text/html": [
       "<div>\n",
       "<style scoped>\n",
       "    .dataframe tbody tr th:only-of-type {\n",
       "        vertical-align: middle;\n",
       "    }\n",
       "\n",
       "    .dataframe tbody tr th {\n",
       "        vertical-align: top;\n",
       "    }\n",
       "\n",
       "    .dataframe thead th {\n",
       "        text-align: right;\n",
       "    }\n",
       "</style>\n",
       "<table border=\"1\" class=\"dataframe\">\n",
       "  <thead>\n",
       "    <tr style=\"text-align: right;\">\n",
       "      <th></th>\n",
       "      <th>id</th>\n",
       "      <th>Fertilizer Name</th>\n",
       "    </tr>\n",
       "  </thead>\n",
       "  <tbody>\n",
       "    <tr>\n",
       "      <th>0</th>\n",
       "      <td>750000</td>\n",
       "      <td>10-26-26 20-20 DAP</td>\n",
       "    </tr>\n",
       "    <tr>\n",
       "      <th>1</th>\n",
       "      <td>750001</td>\n",
       "      <td>17-17-17 10-26-26 20-20</td>\n",
       "    </tr>\n",
       "    <tr>\n",
       "      <th>2</th>\n",
       "      <td>750002</td>\n",
       "      <td>20-20 28-28 Urea</td>\n",
       "    </tr>\n",
       "    <tr>\n",
       "      <th>3</th>\n",
       "      <td>750003</td>\n",
       "      <td>14-35-14 DAP 17-17-17</td>\n",
       "    </tr>\n",
       "    <tr>\n",
       "      <th>4</th>\n",
       "      <td>750004</td>\n",
       "      <td>20-20 Urea 10-26-26</td>\n",
       "    </tr>\n",
       "  </tbody>\n",
       "</table>\n",
       "</div>"
      ],
      "text/plain": [
       "       id          Fertilizer Name\n",
       "0  750000       10-26-26 20-20 DAP\n",
       "1  750001  17-17-17 10-26-26 20-20\n",
       "2  750002         20-20 28-28 Urea\n",
       "3  750003    14-35-14 DAP 17-17-17\n",
       "4  750004      20-20 Urea 10-26-26"
      ]
     },
     "execution_count": 21,
     "metadata": {},
     "output_type": "execute_result"
    }
   ],
   "source": [
    "sub = pd.read_csv(CFG.sample_sub_path)\n",
    "sub[CFG.target] = final_predictions\n",
    "sub.to_csv(f\"sub_logistic-regression_{np.mean(scores['LogisticRegression']):.6f}.csv\", index=False)\n",
    "sub.head()"
   ]
  },
  {
   "cell_type": "markdown",
   "id": "0094a45f",
   "metadata": {
    "papermill": {
     "duration": 0.013335,
     "end_time": "2025-06-05T05:37:38.686300",
     "exception": false,
     "start_time": "2025-06-05T05:37:38.672965",
     "status": "completed"
    },
    "tags": []
   },
   "source": [
    "# Results"
   ]
  },
  {
   "cell_type": "code",
   "execution_count": 22,
   "id": "8432f6dd",
   "metadata": {
    "execution": {
     "iopub.execute_input": "2025-06-05T05:37:38.714282Z",
     "iopub.status.busy": "2025-06-05T05:37:38.713970Z",
     "iopub.status.idle": "2025-06-05T05:37:39.303998Z",
     "shell.execute_reply": "2025-06-05T05:37:39.302816Z"
    },
    "papermill": {
     "duration": 0.606147,
     "end_time": "2025-06-05T05:37:39.305696",
     "exception": false,
     "start_time": "2025-06-05T05:37:38.699549",
     "status": "completed"
    },
    "tags": []
   },
   "outputs": [
    {
     "data": {
      "image/png": "[encoded data removed]",
      "text/plain": [
       "<Figure size 1500x200 with 2 Axes>"
      ]
     },
     "metadata": {},
     "output_type": "display_data"
    }
   ],
   "source": [
    "scores = pd.DataFrame(scores)\n",
    "mean_scores = scores.mean().sort_values(ascending=False)\n",
    "order = scores.mean().sort_values(ascending=False).index.tolist()\n",
    "\n",
    "min_score = mean_scores.min()\n",
    "max_score = mean_scores.max()\n",
    "padding = (max_score - min_score) * 0.5\n",
    "lower_limit = min_score - padding\n",
    "upper_limit = max_score + padding\n",
    "\n",
    "fig, axs = plt.subplots(1, 2, figsize=(15, scores.shape[1] * 0.4))\n",
    "\n",
    "boxplot = sns.boxplot(data=scores, order=order, ax=axs[0], orient=\"h\", color=\"grey\")\n",
    "axs[0].set_title(f\"Fold MAP@3\")\n",
    "axs[0].set_xlabel(\"\")\n",
    "axs[0].set_ylabel(\"\")\n",
    "\n",
    "barplot = sns.barplot(x=mean_scores.values, y=mean_scores.index, ax=axs[1], color=\"grey\")\n",
    "axs[1].set_title(f\"Mean MAP@3\")\n",
    "axs[1].set_xlabel(\"\")\n",
    "axs[1].set_xlim(left=lower_limit, right=upper_limit)\n",
    "axs[1].set_ylabel(\"\")\n",
    "\n",
    "for i, (score, model) in enumerate(zip(mean_scores.values, mean_scores.index)):\n",
    "    color = \"cyan\" if \"logistic\" in model.lower() else \"grey\"\n",
    "    barplot.patches[i].set_facecolor(color)\n",
    "    boxplot.patches[i].set_facecolor(color)\n",
    "    barplot.text(score, i, round(score, 6), va=\"center\")\n",
    "\n",
    "plt.tight_layout()\n",
    "plt.show()"
   ]
  },
  {
   "cell_type": "code",
   "execution_count": 23,
   "id": "9bd8d308",
   "metadata": {
    "execution": {
     "iopub.execute_input": "2025-06-05T05:37:39.336040Z",
     "iopub.status.busy": "2025-06-05T05:37:39.335638Z",
     "iopub.status.idle": "2025-06-05T05:37:39.340380Z",
     "shell.execute_reply": "2025-06-05T05:37:39.339491Z"
    },
    "papermill": {
     "duration": 0.021606,
     "end_time": "2025-06-05T05:37:39.341820",
     "exception": false,
     "start_time": "2025-06-05T05:37:39.320214",
     "status": "completed"
    },
    "tags": []
   },
   "outputs": [],
   "source": [
    "shutil.rmtree(\"catboost_info\", ignore_errors=True)"
   ]
  }
 ],
 "metadata": {
  "kaggle": {
   "accelerator": "none",
   "dataSources": [
    {
     "databundleVersionId": 12184666,
     "sourceId": 91717,
     "sourceType": "competition"
    },
    {
     "datasetId": 7269189,
     "sourceId": 11592231,
     "sourceType": "datasetVersion"
    },
    {
     "sourceId": 243379297,
     "sourceType": "kernelVersion"
    }
   ],
   "dockerImageVersionId": 31041,
   "isGpuEnabled": false,
   "isInternetEnabled": true,
   "language": "python",
   "sourceType": "notebook"
  },
  "kernelspec": {
   "display_name": "Python 3",
   "language": "python",
   "name": "python3"
  },
  "language_info": {
   "codemirror_mode": {
    "name": "ipython",
    "version": 3
   },
   "file_extension": ".py",
   "mimetype": "text/x-python",
   "name": "python",
   "nbconvert_exporter": "python",
   "pygments_lexer": "ipython3",
   "version": "3.11.11"
  },
  "papermill": {
   "default_parameters": {},
   "duration": 41092.755468,
   "end_time": "2025-06-05T05:37:41.143944",
   "environment_variables": {},
   "exception": null,
   "input_path": "__notebook__.ipynb",
   "output_path": "__notebook__.ipynb",
   "parameters": {},
   "start_time": "2025-06-04T18:12:48.388476",
   "version": "2.6.0"
  }
 },
 "nbformat": 4,
 "nbformat_minor": 5
}
