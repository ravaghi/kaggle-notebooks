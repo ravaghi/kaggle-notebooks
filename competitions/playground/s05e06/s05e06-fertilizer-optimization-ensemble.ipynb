{
 "cells": [
  {
   "cell_type": "markdown",
   "id": "52496abd",
   "metadata": {
    "papermill": {
     "duration": 0.004503,
     "end_time": "2025-06-07T08:31:18.547505",
     "exception": false,
     "start_time": "2025-06-07T08:31:18.543002",
     "status": "completed"
    },
    "tags": []
   },
   "source": [
    "# Imports and configs"
   ]
  },
  {
   "cell_type": "code",
   "execution_count": 1,
   "id": "2cc1c3cc",
   "metadata": {
    "_kg_hide-output": true,
    "execution": {
     "iopub.execute_input": "2025-06-07T08:31:18.555936Z",
     "iopub.status.busy": "2025-06-07T08:31:18.555659Z",
     "iopub.status.idle": "2025-06-07T08:31:26.263479Z",
     "shell.execute_reply": "2025-06-07T08:31:26.262507Z"
    },
    "papermill": {
     "duration": 7.713975,
     "end_time": "2025-06-07T08:31:26.265173",
     "exception": false,
     "start_time": "2025-06-07T08:31:18.551198",
     "status": "completed"
    },
    "tags": []
   },
   "outputs": [
    {
     "name": "stdout",
     "output_type": "stream",
     "text": [
      "\u001b[2K   \u001b[90m━━━━━━━━━━━━━━━━━━━━━━━━━━━━━━━━━━━━━━━━\u001b[0m \u001b[32m13.3/13.3 MB\u001b[0m \u001b[31m102.4 MB/s\u001b[0m eta \u001b[36m0:00:00\u001b[0m\r\n",
      "\u001b[?25h\u001b[31mERROR: pip's dependency resolver does not currently take into account all the packages that are installed. This behaviour is the source of the following dependency conflicts.\r\n",
      "cesium 0.12.4 requires numpy<3.0,>=2.0, but you have numpy 1.26.4 which is incompatible.\u001b[0m\u001b[31m\r\n",
      "\u001b[0m"
     ]
    }
   ],
   "source": [
    "!pip install -q scikit-learn==1.5.2"
   ]
  },
  {
   "cell_type": "code",
   "execution_count": 2,
   "id": "f1f041cb",
   "metadata": {
    "execution": {
     "iopub.execute_input": "2025-06-07T08:31:26.274495Z",
     "iopub.status.busy": "2025-06-07T08:31:26.273805Z",
     "iopub.status.idle": "2025-06-07T08:31:33.561299Z",
     "shell.execute_reply": "2025-06-07T08:31:33.560678Z"
    },
    "papermill": {
     "duration": 7.293543,
     "end_time": "2025-06-07T08:31:33.562841",
     "exception": false,
     "start_time": "2025-06-07T08:31:26.269298",
     "status": "completed"
    },
    "tags": []
   },
   "outputs": [],
   "source": [
    "from lightgbm import LGBMClassifier, log_evaluation, early_stopping\n",
    "from sklearn.feature_selection import mutual_info_classif\n",
    "from sklearn.linear_model import LogisticRegression\n",
    "from sklearn.model_selection import StratifiedKFold\n",
    "from sklearn.preprocessing import LabelEncoder\n",
    "from sklearn.base import clone\n",
    "from xgboost import XGBClassifier\n",
    "import matplotlib.pyplot as plt\n",
    "import seaborn as sns\n",
    "import pandas as pd\n",
    "import numpy as np\n",
    "import warnings\n",
    "import joblib\n",
    "import optuna\n",
    "import shutil\n",
    "import glob\n",
    "import json\n",
    "import gc\n",
    "\n",
    "warnings.filterwarnings(\"ignore\")"
   ]
  },
  {
   "cell_type": "code",
   "execution_count": 3,
   "id": "6dcbce80",
   "metadata": {
    "execution": {
     "iopub.execute_input": "2025-06-07T08:31:33.572161Z",
     "iopub.status.busy": "2025-06-07T08:31:33.571499Z",
     "iopub.status.idle": "2025-06-07T08:31:33.575839Z",
     "shell.execute_reply": "2025-06-07T08:31:33.575026Z"
    },
    "papermill": {
     "duration": 0.009803,
     "end_time": "2025-06-07T08:31:33.576879",
     "exception": false,
     "start_time": "2025-06-07T08:31:33.567076",
     "status": "completed"
    },
    "tags": []
   },
   "outputs": [],
   "source": [
    "class CFG:\n",
    "    train_path = \"/kaggle/input/playground-series-s5e6/train.csv\"\n",
    "    test_path = \"/kaggle/input/playground-series-s5e6/test.csv\"\n",
    "    sample_sub_path = \"/kaggle/input/playground-series-s5e6/sample_submission.csv\"\n",
    "\n",
    "    original_path = \"/kaggle/input/fertilizer-prediction/Fertilizer Prediction.csv\"\n",
    "    \n",
    "    target = \"Fertilizer Name\"\n",
    "    n_folds = 5\n",
    "    seed = 42"
   ]
  },
  {
   "cell_type": "markdown",
   "id": "6840bb52",
   "metadata": {
    "papermill": {
     "duration": 0.003611,
     "end_time": "2025-06-07T08:31:33.584127",
     "exception": false,
     "start_time": "2025-06-07T08:31:33.580516",
     "status": "completed"
    },
    "tags": []
   },
   "source": [
    "# Data loading and preprocessing"
   ]
  },
  {
   "cell_type": "code",
   "execution_count": 4,
   "id": "a770d501",
   "metadata": {
    "execution": {
     "iopub.execute_input": "2025-06-07T08:31:33.592461Z",
     "iopub.status.busy": "2025-06-07T08:31:33.592196Z",
     "iopub.status.idle": "2025-06-07T08:31:35.219800Z",
     "shell.execute_reply": "2025-06-07T08:31:35.219181Z"
    },
    "papermill": {
     "duration": 1.633181,
     "end_time": "2025-06-07T08:31:35.221172",
     "exception": false,
     "start_time": "2025-06-07T08:31:33.587991",
     "status": "completed"
    },
    "tags": []
   },
   "outputs": [],
   "source": [
    "train = pd.read_csv(CFG.train_path, index_col=\"id\")\n",
    "test = pd.read_csv(CFG.test_path, index_col=\"id\")\n",
    "original = pd.read_csv(CFG.original_path)\n",
    "\n",
    "cat_cols = train.select_dtypes(include=\"object\").columns.tolist()\n",
    "cat_cols = [c for c in cat_cols if c != CFG.target]\n",
    "train[cat_cols] = train[cat_cols].astype(str).astype(\"category\")\n",
    "test[cat_cols] = test[cat_cols].astype(str).astype(\"category\")\n",
    "original[cat_cols] = original[cat_cols].astype(str).astype(\"category\")\n",
    "\n",
    "label_encoder = LabelEncoder()\n",
    "train[CFG.target] = label_encoder.fit_transform(train[CFG.target])\n",
    "original[CFG.target] = label_encoder.transform(original[CFG.target])\n",
    "\n",
    "X = train.drop(CFG.target, axis=1)\n",
    "y = train[CFG.target]\n",
    "X_test = test\n",
    "\n",
    "X_original = original.drop(CFG.target, axis=1)\n",
    "y_original = original[CFG.target]"
   ]
  },
  {
   "cell_type": "code",
   "execution_count": 5,
   "id": "a5767633",
   "metadata": {
    "execution": {
     "iopub.execute_input": "2025-06-07T08:31:35.230551Z",
     "iopub.status.busy": "2025-06-07T08:31:35.230282Z",
     "iopub.status.idle": "2025-06-07T08:31:39.997308Z",
     "shell.execute_reply": "2025-06-07T08:31:39.996596Z"
    },
    "papermill": {
     "duration": 4.772787,
     "end_time": "2025-06-07T08:31:39.998566",
     "exception": false,
     "start_time": "2025-06-07T08:31:35.225779",
     "status": "completed"
    },
    "tags": []
   },
   "outputs": [
    {
     "data": {
      "text/html": [
       "<style type=\"text/css\">\n",
       "#T_1d6cf_row0_col0 {\n",
       "  width: 10em;\n",
       "  background: linear-gradient(90deg, #006837 100.0%, transparent 100.0%);\n",
       "}\n",
       "#T_1d6cf_row1_col0 {\n",
       "  width: 10em;\n",
       "  background: linear-gradient(90deg, #199750 90.2%, transparent 90.2%);\n",
       "}\n",
       "#T_1d6cf_row2_col0 {\n",
       "  width: 10em;\n",
       "  background: linear-gradient(90deg, #9bd469 71.7%, transparent 71.7%);\n",
       "}\n",
       "#T_1d6cf_row3_col0 {\n",
       "  width: 10em;\n",
       "  background: linear-gradient(90deg, #c9e881 63.1%, transparent 63.1%);\n",
       "}\n",
       "#T_1d6cf_row4_col0 {\n",
       "  width: 10em;\n",
       "  background: linear-gradient(90deg, #fee491 41.3%, transparent 41.3%);\n",
       "}\n",
       "#T_1d6cf_row5_col0 {\n",
       "  width: 10em;\n",
       "  background: linear-gradient(90deg, #fdb163 30.7%, transparent 30.7%);\n",
       "}\n",
       "#T_1d6cf_row6_col0 {\n",
       "  width: 10em;\n",
       "  background: linear-gradient(90deg, #fca85e 29.2%, transparent 29.2%);\n",
       "}\n",
       "#T_1d6cf_row7_col0 {\n",
       "  width: 10em;\n",
       "  background: linear-gradient(90deg, #ef633f 18.6%, transparent 18.6%);\n",
       "}\n",
       "</style>\n",
       "<table id=\"T_1d6cf\">\n",
       "  <thead>\n",
       "    <tr>\n",
       "      <th class=\"blank level0\" >&nbsp;</th>\n",
       "      <th id=\"T_1d6cf_level0_col0\" class=\"col_heading level0 col0\" >Mutual Information</th>\n",
       "    </tr>\n",
       "  </thead>\n",
       "  <tbody>\n",
       "    <tr>\n",
       "      <th id=\"T_1d6cf_level0_row0\" class=\"row_heading level0 row0\" >Moisture</th>\n",
       "      <td id=\"T_1d6cf_row0_col0\" class=\"data row0 col0\" >0.003308</td>\n",
       "    </tr>\n",
       "    <tr>\n",
       "      <th id=\"T_1d6cf_level0_row1\" class=\"row_heading level0 row1\" >Phosphorous</th>\n",
       "      <td id=\"T_1d6cf_row1_col0\" class=\"data row1 col0\" >0.002984</td>\n",
       "    </tr>\n",
       "    <tr>\n",
       "      <th id=\"T_1d6cf_level0_row2\" class=\"row_heading level0 row2\" >Nitrogen</th>\n",
       "      <td id=\"T_1d6cf_row2_col0\" class=\"data row2 col0\" >0.002373</td>\n",
       "    </tr>\n",
       "    <tr>\n",
       "      <th id=\"T_1d6cf_level0_row3\" class=\"row_heading level0 row3\" >Crop Type</th>\n",
       "      <td id=\"T_1d6cf_row3_col0\" class=\"data row3 col0\" >0.002088</td>\n",
       "    </tr>\n",
       "    <tr>\n",
       "      <th id=\"T_1d6cf_level0_row4\" class=\"row_heading level0 row4\" >Potassium</th>\n",
       "      <td id=\"T_1d6cf_row4_col0\" class=\"data row4 col0\" >0.001367</td>\n",
       "    </tr>\n",
       "    <tr>\n",
       "      <th id=\"T_1d6cf_level0_row5\" class=\"row_heading level0 row5\" >Humidity</th>\n",
       "      <td id=\"T_1d6cf_row5_col0\" class=\"data row5 col0\" >0.001015</td>\n",
       "    </tr>\n",
       "    <tr>\n",
       "      <th id=\"T_1d6cf_level0_row6\" class=\"row_heading level0 row6\" >Temparature</th>\n",
       "      <td id=\"T_1d6cf_row6_col0\" class=\"data row6 col0\" >0.000966</td>\n",
       "    </tr>\n",
       "    <tr>\n",
       "      <th id=\"T_1d6cf_level0_row7\" class=\"row_heading level0 row7\" >Soil Type</th>\n",
       "      <td id=\"T_1d6cf_row7_col0\" class=\"data row7 col0\" >0.000617</td>\n",
       "    </tr>\n",
       "  </tbody>\n",
       "</table>\n"
      ],
      "text/plain": [
       "<pandas.io.formats.style.Styler at 0x7c6dff174890>"
      ]
     },
     "execution_count": 5,
     "metadata": {},
     "output_type": "execute_result"
    }
   ],
   "source": [
    "mutual_info = mutual_info_classif(X, y, random_state=CFG.seed, discrete_features=True)\n",
    "\n",
    "mutual_info = pd.Series(mutual_info)\n",
    "mutual_info.index = X.columns\n",
    "mutual_info = pd.DataFrame(mutual_info.sort_values(ascending=False), columns=['Mutual Information'])\n",
    "mutual_info.style.bar(subset=['Mutual Information'], cmap='RdYlGn')"
   ]
  },
  {
   "cell_type": "code",
   "execution_count": 6,
   "id": "3d17d0df",
   "metadata": {
    "execution": {
     "iopub.execute_input": "2025-06-07T08:31:40.007755Z",
     "iopub.status.busy": "2025-06-07T08:31:40.007554Z",
     "iopub.status.idle": "2025-06-07T08:31:40.542719Z",
     "shell.execute_reply": "2025-06-07T08:31:40.542015Z"
    },
    "papermill": {
     "duration": 0.541149,
     "end_time": "2025-06-07T08:31:40.543915",
     "exception": false,
     "start_time": "2025-06-07T08:31:40.002766",
     "status": "completed"
    },
    "tags": []
   },
   "outputs": [
    {
     "data": {
      "text/html": [
       "<style type=\"text/css\">\n",
       "#T_088cf_row0_col0 {\n",
       "  width: 10em;\n",
       "  background: linear-gradient(90deg, #006837 100.0%, transparent 100.0%);\n",
       "}\n",
       "#T_088cf_row1_col0 {\n",
       "  width: 10em;\n",
       "  background: linear-gradient(90deg, #016a38 99.5%, transparent 99.5%);\n",
       "}\n",
       "#T_088cf_row2_col0 {\n",
       "  width: 10em;\n",
       "  background: linear-gradient(90deg, #70c164 78.4%, transparent 78.4%);\n",
       "}\n",
       "#T_088cf_row3_col0 {\n",
       "  width: 10em;\n",
       "  background: linear-gradient(90deg, #fff2aa 45.9%, transparent 45.9%);\n",
       "}\n",
       "#T_088cf_row4_col0 {\n",
       "  width: 10em;\n",
       "  background: linear-gradient(90deg, #fecc7b 36.3%, transparent 36.3%);\n",
       "}\n",
       "#T_088cf_row5_col0 {\n",
       "  width: 10em;\n",
       "  background: linear-gradient(90deg, #fdb768 31.7%, transparent 31.7%);\n",
       "}\n",
       "#T_088cf_row6_col0 {\n",
       "  width: 10em;\n",
       "  background: linear-gradient(90deg, #f7844e 23.5%, transparent 23.5%);\n",
       "}\n",
       "#T_088cf_row7_col0 {\n",
       "  width: 10em;\n",
       "  background: linear-gradient(90deg, #cc2627 7.9%, transparent 7.9%);\n",
       "}\n",
       "</style>\n",
       "<table id=\"T_088cf\">\n",
       "  <thead>\n",
       "    <tr>\n",
       "      <th class=\"blank level0\" >&nbsp;</th>\n",
       "      <th id=\"T_088cf_level0_col0\" class=\"col_heading level0 col0\" >Mutual Information</th>\n",
       "    </tr>\n",
       "  </thead>\n",
       "  <tbody>\n",
       "    <tr>\n",
       "      <th id=\"T_088cf_level0_row0\" class=\"row_heading level0 row0\" >Phosphorous</th>\n",
       "      <td id=\"T_088cf_row0_col0\" class=\"data row0 col0\" >0.001362</td>\n",
       "    </tr>\n",
       "    <tr>\n",
       "      <th id=\"T_088cf_level0_row1\" class=\"row_heading level0 row1\" >Moisture</th>\n",
       "      <td id=\"T_088cf_row1_col0\" class=\"data row1 col0\" >0.001355</td>\n",
       "    </tr>\n",
       "    <tr>\n",
       "      <th id=\"T_088cf_level0_row2\" class=\"row_heading level0 row2\" >Nitrogen</th>\n",
       "      <td id=\"T_088cf_row2_col0\" class=\"data row2 col0\" >0.001068</td>\n",
       "    </tr>\n",
       "    <tr>\n",
       "      <th id=\"T_088cf_level0_row3\" class=\"row_heading level0 row3\" >Potassium</th>\n",
       "      <td id=\"T_088cf_row3_col0\" class=\"data row3 col0\" >0.000626</td>\n",
       "    </tr>\n",
       "    <tr>\n",
       "      <th id=\"T_088cf_level0_row4\" class=\"row_heading level0 row4\" >Humidity</th>\n",
       "      <td id=\"T_088cf_row4_col0\" class=\"data row4 col0\" >0.000494</td>\n",
       "    </tr>\n",
       "    <tr>\n",
       "      <th id=\"T_088cf_level0_row5\" class=\"row_heading level0 row5\" >Temparature</th>\n",
       "      <td id=\"T_088cf_row5_col0\" class=\"data row5 col0\" >0.000432</td>\n",
       "    </tr>\n",
       "    <tr>\n",
       "      <th id=\"T_088cf_level0_row6\" class=\"row_heading level0 row6\" >Crop Type</th>\n",
       "      <td id=\"T_088cf_row6_col0\" class=\"data row6 col0\" >0.000320</td>\n",
       "    </tr>\n",
       "    <tr>\n",
       "      <th id=\"T_088cf_level0_row7\" class=\"row_heading level0 row7\" >Soil Type</th>\n",
       "      <td id=\"T_088cf_row7_col0\" class=\"data row7 col0\" >0.000107</td>\n",
       "    </tr>\n",
       "  </tbody>\n",
       "</table>\n"
      ],
      "text/plain": [
       "<pandas.io.formats.style.Styler at 0x7c6dff114210>"
      ]
     },
     "execution_count": 6,
     "metadata": {},
     "output_type": "execute_result"
    }
   ],
   "source": [
    "mutual_info = mutual_info_classif(X_original, y_original, random_state=CFG.seed, discrete_features=True)\n",
    "\n",
    "mutual_info = pd.Series(mutual_info)\n",
    "mutual_info.index = X_original.columns\n",
    "mutual_info = pd.DataFrame(mutual_info.sort_values(ascending=False), columns=['Mutual Information'])\n",
    "mutual_info.style.bar(subset=['Mutual Information'], cmap='RdYlGn')"
   ]
  },
  {
   "cell_type": "markdown",
   "id": "95b2eeba",
   "metadata": {
    "papermill": {
     "duration": 0.003865,
     "end_time": "2025-06-07T08:31:40.552400",
     "exception": false,
     "start_time": "2025-06-07T08:31:40.548535",
     "status": "completed"
    },
    "tags": []
   },
   "source": [
    "# Training base models"
   ]
  },
  {
   "cell_type": "code",
   "execution_count": 7,
   "id": "7a7167e8",
   "metadata": {
    "execution": {
     "iopub.execute_input": "2025-06-07T08:31:40.561517Z",
     "iopub.status.busy": "2025-06-07T08:31:40.561252Z",
     "iopub.status.idle": "2025-06-07T08:31:40.566651Z",
     "shell.execute_reply": "2025-06-07T08:31:40.566029Z"
    },
    "papermill": {
     "duration": 0.011228,
     "end_time": "2025-06-07T08:31:40.567781",
     "exception": false,
     "start_time": "2025-06-07T08:31:40.556553",
     "status": "completed"
    },
    "tags": []
   },
   "outputs": [],
   "source": [
    "def map3(y_true, y_pred_probs):\n",
    "    y_true = [[x] for x in y_true]\n",
    "    y_pred_probs = np.argsort(y_pred_probs, axis=1)[:, -3:][:, ::-1].tolist()\n",
    "    \n",
    "    def ap3(y_true, y_pred_probs):\n",
    "        y_pred_probs = y_pred_probs[:3]\n",
    "\n",
    "        score = 0.0\n",
    "        num_hits = 0.0\n",
    "\n",
    "        for i,p in enumerate(y_pred_probs):\n",
    "            if p in y_true and p not in y_pred_probs[:i]:\n",
    "                num_hits += 1.0\n",
    "                score += num_hits / (i+1.0)\n",
    "\n",
    "        if not y_true:\n",
    "            return 0.0\n",
    "\n",
    "        return score\n",
    "    \n",
    "    return np.mean([ap3(a,p) for a,p in zip(y_true, y_pred_probs)])"
   ]
  },
  {
   "cell_type": "code",
   "execution_count": 8,
   "id": "ed3945a5",
   "metadata": {
    "execution": {
     "iopub.execute_input": "2025-06-07T08:31:40.577883Z",
     "iopub.status.busy": "2025-06-07T08:31:40.577646Z",
     "iopub.status.idle": "2025-06-07T08:31:40.587315Z",
     "shell.execute_reply": "2025-06-07T08:31:40.586797Z"
    },
    "papermill": {
     "duration": 0.015917,
     "end_time": "2025-06-07T08:31:40.588418",
     "exception": false,
     "start_time": "2025-06-07T08:31:40.572501",
     "status": "completed"
    },
    "tags": []
   },
   "outputs": [],
   "source": [
    "class Trainer:\n",
    "    def __init__(self, model, config=CFG):\n",
    "        self.model = model\n",
    "        self.config = config\n",
    "\n",
    "    def fit_predict(self, X, y, X_test, X_original=None, y_original=None, fit_args={}):\n",
    "        print(f\"Training {self.model.__class__.__name__}\\n\")\n",
    "        \n",
    "        scores = []        \n",
    "        oof_pred_probs = np.zeros((X.shape[0], y.nunique()))\n",
    "        test_pred_probs = np.zeros((X_test.shape[0], y.nunique()))\n",
    "        \n",
    "        skf = StratifiedKFold(n_splits=self.config.n_folds, random_state=self.config.seed, shuffle=True)\n",
    "        for fold_idx, (train_idx, val_idx) in enumerate(skf.split(X, y)):\n",
    "            X_train, X_val = X.iloc[train_idx], X.iloc[val_idx]\n",
    "            y_train, y_val = y[train_idx], y[val_idx]\n",
    "\n",
    "            if X_original is not None and y_original is not None:\n",
    "                X_train = pd.concat([X_train, X_original])\n",
    "                y_train = pd.concat([y_train, y_original])\n",
    "            \n",
    "            model = clone(self.model)\n",
    "            \n",
    "            if fit_args:\n",
    "                model.fit(X_train, y_train, **fit_args, eval_set=[(X_val, y_val)])\n",
    "            else:\n",
    "                model.fit(X_train, y_train)\n",
    "            \n",
    "            y_pred_probs = model.predict_proba(X_val)\n",
    "            oof_pred_probs[val_idx] = y_pred_probs\n",
    "            \n",
    "            temp_test_pred_probs = model.predict_proba(X_test)\n",
    "            test_pred_probs += temp_test_pred_probs / self.config.n_folds\n",
    "            \n",
    "            score = map3(y_val, y_pred_probs)\n",
    "            scores.append(score)\n",
    "            \n",
    "            del model, X_train, y_train, X_val, y_val, y_pred_probs\n",
    "            gc.collect()\n",
    "            \n",
    "            if fit_args:\n",
    "                print(f\"\\n--- Fold {fold_idx + 1} - MAP@3: {score:.6f}\\n\\n\")\n",
    "            else:\n",
    "                print(f\"--- Fold {fold_idx + 1} - MAP@3: {score:.6f}\")\n",
    "                            \n",
    "        overall_score = map3(y, oof_pred_probs)\n",
    "            \n",
    "        print(f\"\\n------ Overall MAP@3: {overall_score:.6f} | Average MAP@3: {np.mean(scores):.6f} ± {np.std(scores):.6f}\")\n",
    "        \n",
    "        return oof_pred_probs, test_pred_probs, scores\n",
    "\n",
    "    def tune(self, X, y):        \n",
    "        scores = []        \n",
    "        \n",
    "        skf = StratifiedKFold(n_splits=self.config.n_folds, random_state=self.config.seed, shuffle=True)\n",
    "        for fold_idx, (train_idx, val_idx) in enumerate(skf.split(X, y)):\n",
    "            X_train, X_val = X.iloc[train_idx], X.iloc[val_idx]\n",
    "            y_train, y_val = y[train_idx], y[val_idx]\n",
    "            \n",
    "            model = clone(self.model)\n",
    "            model.fit(X_train, y_train)\n",
    "            \n",
    "            y_pred_probs = model.predict_proba(X_val)            \n",
    "            score = map3(y_val, y_pred_probs)\n",
    "            scores.append(score)\n",
    "            \n",
    "            del model, X_train, y_train, X_val, y_val, y_pred_probs\n",
    "            gc.collect()\n",
    "            \n",
    "        return np.mean(scores)"
   ]
  },
  {
   "cell_type": "code",
   "execution_count": 9,
   "id": "00321a24",
   "metadata": {
    "_kg_hide-input": true,
    "execution": {
     "iopub.execute_input": "2025-06-07T08:31:40.597206Z",
     "iopub.status.busy": "2025-06-07T08:31:40.596998Z",
     "iopub.status.idle": "2025-06-07T08:31:40.601950Z",
     "shell.execute_reply": "2025-06-07T08:31:40.601487Z"
    },
    "papermill": {
     "duration": 0.010593,
     "end_time": "2025-06-07T08:31:40.602889",
     "exception": false,
     "start_time": "2025-06-07T08:31:40.592296",
     "status": "completed"
    },
    "tags": []
   },
   "outputs": [],
   "source": [
    "lgbm_params = {\n",
    "    \"boosting_type\": \"gbdt\",\n",
    "    \"device\": \"gpu\",\n",
    "    \"colsample_bytree\": 0.4366677273946288,\n",
    "    \"learning_rate\": 0.016164161953515117,\n",
    "    \"max_depth\": 12,\n",
    "    \"min_child_samples\": 67,\n",
    "    \"n_estimators\": 10000,\n",
    "    \"n_jobs\": -1,\n",
    "    \"num_leaves\": 243,\n",
    "    \"random_state\": 42,\n",
    "    \"reg_alpha\": 6.38288560443373,\n",
    "    \"reg_lambda\": 9.392999314379155,\n",
    "    \"subsample\": 0.7989164499431718,\n",
    "    \"verbose\": -1\n",
    "}\n",
    "\n",
    "lgbm_goss_params = {\n",
    "    \"boosting_type\": \"goss\",\n",
    "    \"device\": \"gpu\",\n",
    "    \"colsample_bytree\": 0.32751831793031183,\n",
    "    \"learning_rate\": 0.006700715059604966,\n",
    "    \"max_depth\": 12,\n",
    "    \"min_child_samples\": 84,\n",
    "    \"n_estimators\": 10000,\n",
    "    \"n_jobs\": -1,\n",
    "    \"num_leaves\": 229,\n",
    "    \"random_state\": 42,\n",
    "    \"reg_alpha\": 6.879977008084246,\n",
    "    \"reg_lambda\": 4.739518466581721,\n",
    "    \"subsample\": 0.5411572049978781,\n",
    "    \"verbose\": -1\n",
    "}\n",
    "\n",
    "xgb_params = {\n",
    "    # https://www.kaggle.com/code/patrykszcz/simple-xgb-model-5-fold\n",
    "    \"device\": \"gpu\",\n",
    "    \"max_depth\": 12,\n",
    "    \"colsample_bytree\": 0.467,\n",
    "    \"subsample\": 0.86,\n",
    "    \"n_estimators\": 10000,\n",
    "    \"learning_rate\": 0.03,\n",
    "    \"gamma\": 0.26,\n",
    "    \"max_delta_step\": 4,\n",
    "    \"reg_alpha\": 2.7,\n",
    "    \"reg_lambda\": 1.4,\n",
    "    \"early_stopping_rounds\": 100,\n",
    "    \"objective\": 'multi:softprob',\n",
    "    \"random_state\": 13,\n",
    "    \"enable_categorical\": True,\n",
    "}"
   ]
  },
  {
   "cell_type": "code",
   "execution_count": 10,
   "id": "28ef1828",
   "metadata": {
    "execution": {
     "iopub.execute_input": "2025-06-07T08:31:40.612071Z",
     "iopub.status.busy": "2025-06-07T08:31:40.611900Z",
     "iopub.status.idle": "2025-06-07T08:31:40.614879Z",
     "shell.execute_reply": "2025-06-07T08:31:40.614375Z"
    },
    "papermill": {
     "duration": 0.008848,
     "end_time": "2025-06-07T08:31:40.616081",
     "exception": false,
     "start_time": "2025-06-07T08:31:40.607233",
     "status": "completed"
    },
    "tags": []
   },
   "outputs": [],
   "source": [
    "scores = {}\n",
    "oof_pred_probs = {}\n",
    "test_pred_probs = {}"
   ]
  },
  {
   "cell_type": "markdown",
   "id": "20f11f58",
   "metadata": {
    "papermill": {
     "duration": 0.003866,
     "end_time": "2025-06-07T08:31:40.624105",
     "exception": false,
     "start_time": "2025-06-07T08:31:40.620239",
     "status": "completed"
    },
    "tags": []
   },
   "source": [
    "## LightGBM (gbdt)"
   ]
  },
  {
   "cell_type": "code",
   "execution_count": 11,
   "id": "de6a7ebc",
   "metadata": {
    "execution": {
     "iopub.execute_input": "2025-06-07T08:31:40.633047Z",
     "iopub.status.busy": "2025-06-07T08:31:40.632878Z",
     "iopub.status.idle": "2025-06-07T11:54:35.876608Z",
     "shell.execute_reply": "2025-06-07T11:54:35.875667Z"
    },
    "papermill": {
     "duration": 12175.249571,
     "end_time": "2025-06-07T11:54:35.877952",
     "exception": false,
     "start_time": "2025-06-07T08:31:40.628381",
     "status": "completed"
    },
    "scrolled": true,
    "tags": []
   },
   "outputs": [
    {
     "name": "stdout",
     "output_type": "stream",
     "text": [
      "Training LGBMClassifier\n",
      "\n"
     ]
    },
    {
     "name": "stderr",
     "output_type": "stream",
     "text": [
      "1 warning generated.\n",
      "1 warning generated.\n",
      "1 warning generated.\n",
      "1 warning generated.\n",
      "1 warning generated.\n",
      "1 warning generated.\n",
      "1 warning generated.\n",
      "1 warning generated.\n",
      "1 warning generated.\n",
      "1 warning generated.\n",
      "1 warning generated.\n",
      "1 warning generated.\n",
      "1 warning generated.\n",
      "1 warning generated.\n",
      "1 warning generated.\n",
      "1 warning generated.\n",
      "1 warning generated.\n",
      "1 warning generated.\n",
      "1 warning generated.\n",
      "1 warning generated.\n",
      "1 warning generated.\n",
      "1 warning generated.\n",
      "1 warning generated.\n",
      "1 warning generated.\n",
      "1 warning generated.\n",
      "1 warning generated.\n",
      "1 warning generated.\n",
      "1 warning generated.\n",
      "1 warning generated.\n",
      "1 warning generated.\n",
      "1 warning generated.\n",
      "1 warning generated.\n",
      "1 warning generated.\n"
     ]
    },
    {
     "name": "stdout",
     "output_type": "stream",
     "text": [
      "Training until validation scores don't improve for 100 rounds\n",
      "[1000]\tvalid_0's multi_logloss: 1.90104\n",
      "[2000]\tvalid_0's multi_logloss: 1.89538\n",
      "[3000]\tvalid_0's multi_logloss: 1.8944\n",
      "Early stopping, best iteration is:\n",
      "[3074]\tvalid_0's multi_logloss: 1.89439\n",
      "\n",
      "--- Fold 1 - MAP@3: 0.361453\n",
      "\n",
      "\n",
      "Training until validation scores don't improve for 100 rounds\n",
      "[1000]\tvalid_0's multi_logloss: 1.90035\n",
      "[2000]\tvalid_0's multi_logloss: 1.89414\n",
      "[3000]\tvalid_0's multi_logloss: 1.8931\n",
      "Early stopping, best iteration is:\n",
      "[3460]\tvalid_0's multi_logloss: 1.89305\n",
      "\n",
      "--- Fold 2 - MAP@3: 0.362426\n",
      "\n",
      "\n",
      "Training until validation scores don't improve for 100 rounds\n",
      "[1000]\tvalid_0's multi_logloss: 1.89961\n",
      "[2000]\tvalid_0's multi_logloss: 1.89343\n",
      "[3000]\tvalid_0's multi_logloss: 1.89232\n",
      "Early stopping, best iteration is:\n",
      "[2962]\tvalid_0's multi_logloss: 1.89231\n",
      "\n",
      "--- Fold 3 - MAP@3: 0.364040\n",
      "\n",
      "\n",
      "Training until validation scores don't improve for 100 rounds\n",
      "[1000]\tvalid_0's multi_logloss: 1.90131\n",
      "[2000]\tvalid_0's multi_logloss: 1.89536\n",
      "Early stopping, best iteration is:\n",
      "[2825]\tvalid_0's multi_logloss: 1.89429\n",
      "\n",
      "--- Fold 4 - MAP@3: 0.362223\n",
      "\n",
      "\n",
      "Training until validation scores don't improve for 100 rounds\n",
      "[1000]\tvalid_0's multi_logloss: 1.90021\n",
      "[2000]\tvalid_0's multi_logloss: 1.89449\n",
      "[3000]\tvalid_0's multi_logloss: 1.89352\n",
      "Early stopping, best iteration is:\n",
      "[3451]\tvalid_0's multi_logloss: 1.89342\n",
      "\n",
      "--- Fold 5 - MAP@3: 0.362311\n",
      "\n",
      "\n",
      "\n",
      "------ Overall MAP@3: 0.362491 | Average MAP@3: 0.362491 ± 0.000847\n"
     ]
    }
   ],
   "source": [
    "lgbm_model = LGBMClassifier(**lgbm_params)\n",
    "lgbm_trainer = Trainer(lgbm_model)\n",
    "\n",
    "fit_args = {\n",
    "    \"callbacks\": [\n",
    "        log_evaluation(period=1000), \n",
    "        early_stopping(stopping_rounds=100)\n",
    "    ]\n",
    "}\n",
    "\n",
    "oof_pred_probs[\"LightGBM (gbdt)\"], test_pred_probs[\"LightGBM (gbdt)\"], scores[\"LightGBM (gbdt)\"] = lgbm_trainer.fit_predict(X, y, X_test, X_original, y_original, fit_args)"
   ]
  },
  {
   "cell_type": "markdown",
   "id": "4098bc9b",
   "metadata": {
    "papermill": {
     "duration": 0.006339,
     "end_time": "2025-06-07T11:54:35.891210",
     "exception": false,
     "start_time": "2025-06-07T11:54:35.884871",
     "status": "completed"
    },
    "tags": []
   },
   "source": [
    "## LightGBM (goss)"
   ]
  },
  {
   "cell_type": "code",
   "execution_count": 12,
   "id": "dbad94f5",
   "metadata": {
    "execution": {
     "iopub.execute_input": "2025-06-07T11:54:35.905125Z",
     "iopub.status.busy": "2025-06-07T11:54:35.904499Z",
     "iopub.status.idle": "2025-06-07T18:34:32.825092Z",
     "shell.execute_reply": "2025-06-07T18:34:32.824159Z"
    },
    "papermill": {
     "duration": 23996.928747,
     "end_time": "2025-06-07T18:34:32.826373",
     "exception": false,
     "start_time": "2025-06-07T11:54:35.897626",
     "status": "completed"
    },
    "tags": []
   },
   "outputs": [
    {
     "name": "stdout",
     "output_type": "stream",
     "text": [
      "Training LGBMClassifier\n",
      "\n",
      "Training until validation scores don't improve for 100 rounds\n",
      "[1000]\tvalid_0's multi_logloss: 1.91083\n",
      "[2000]\tvalid_0's multi_logloss: 1.90135\n",
      "[3000]\tvalid_0's multi_logloss: 1.89721\n",
      "[4000]\tvalid_0's multi_logloss: 1.89584\n",
      "Early stopping, best iteration is:\n",
      "[4183]\tvalid_0's multi_logloss: 1.89575\n",
      "\n",
      "--- Fold 1 - MAP@3: 0.359902\n",
      "\n",
      "\n",
      "Training until validation scores don't improve for 100 rounds\n",
      "[1000]\tvalid_0's multi_logloss: 1.91055\n",
      "[2000]\tvalid_0's multi_logloss: 1.90051\n",
      "[3000]\tvalid_0's multi_logloss: 1.89609\n",
      "[4000]\tvalid_0's multi_logloss: 1.8943\n",
      "Early stopping, best iteration is:\n",
      "[4634]\tvalid_0's multi_logloss: 1.89405\n",
      "\n",
      "--- Fold 2 - MAP@3: 0.360952\n",
      "\n",
      "\n",
      "Training until validation scores don't improve for 100 rounds\n",
      "[1000]\tvalid_0's multi_logloss: 1.90992\n",
      "[2000]\tvalid_0's multi_logloss: 1.89992\n",
      "[3000]\tvalid_0's multi_logloss: 1.89542\n",
      "[4000]\tvalid_0's multi_logloss: 1.89356\n",
      "Early stopping, best iteration is:\n",
      "[4473]\tvalid_0's multi_logloss: 1.8932\n",
      "\n",
      "--- Fold 3 - MAP@3: 0.361627\n",
      "\n",
      "\n",
      "Training until validation scores don't improve for 100 rounds\n",
      "[1000]\tvalid_0's multi_logloss: 1.91102\n",
      "[2000]\tvalid_0's multi_logloss: 1.90154\n",
      "[3000]\tvalid_0's multi_logloss: 1.89749\n",
      "[4000]\tvalid_0's multi_logloss: 1.89591\n",
      "Early stopping, best iteration is:\n",
      "[4562]\tvalid_0's multi_logloss: 1.89574\n",
      "\n",
      "--- Fold 4 - MAP@3: 0.360877\n",
      "\n",
      "\n",
      "Training until validation scores don't improve for 100 rounds\n",
      "[1000]\tvalid_0's multi_logloss: 1.91029\n",
      "[2000]\tvalid_0's multi_logloss: 1.90076\n",
      "[3000]\tvalid_0's multi_logloss: 1.89639\n",
      "[4000]\tvalid_0's multi_logloss: 1.89472\n",
      "Early stopping, best iteration is:\n",
      "[4520]\tvalid_0's multi_logloss: 1.89448\n",
      "\n",
      "--- Fold 5 - MAP@3: 0.361332\n",
      "\n",
      "\n",
      "\n",
      "------ Overall MAP@3: 0.360938 | Average MAP@3: 0.360938 ± 0.000584\n"
     ]
    }
   ],
   "source": [
    "lgb_goss_model = LGBMClassifier(**lgbm_goss_params)\n",
    "lgb_goss_trainer = Trainer(lgb_goss_model)\n",
    "\n",
    "fit_args = {\n",
    "    \"callbacks\": [\n",
    "        log_evaluation(period=1000), \n",
    "        early_stopping(stopping_rounds=100)\n",
    "    ]\n",
    "}\n",
    "\n",
    "oof_pred_probs[\"LightGBM (goss)\"], test_pred_probs[\"LightGBM (goss)\"], scores[\"LightGBM (goss)\"] = lgb_goss_trainer.fit_predict(X, y, X_test, X_original, y_original, fit_args)"
   ]
  },
  {
   "cell_type": "markdown",
   "id": "8de3eace",
   "metadata": {
    "papermill": {
     "duration": 0.007517,
     "end_time": "2025-06-07T18:34:32.842367",
     "exception": false,
     "start_time": "2025-06-07T18:34:32.834850",
     "status": "completed"
    },
    "tags": []
   },
   "source": [
    "## XGBoost"
   ]
  },
  {
   "cell_type": "code",
   "execution_count": 13,
   "id": "73eb523a",
   "metadata": {
    "execution": {
     "iopub.execute_input": "2025-06-07T18:34:32.858958Z",
     "iopub.status.busy": "2025-06-07T18:34:32.858497Z",
     "iopub.status.idle": "2025-06-07T19:00:51.539065Z",
     "shell.execute_reply": "2025-06-07T19:00:51.538236Z"
    },
    "papermill": {
     "duration": 1578.690784,
     "end_time": "2025-06-07T19:00:51.540763",
     "exception": false,
     "start_time": "2025-06-07T18:34:32.849979",
     "status": "completed"
    },
    "tags": []
   },
   "outputs": [
    {
     "name": "stdout",
     "output_type": "stream",
     "text": [
      "Training XGBClassifier\n",
      "\n",
      "[0]\tvalidation_0-mlogloss:1.94561\n",
      "[1000]\tvalidation_0-mlogloss:1.89243\n",
      "[1613]\tvalidation_0-mlogloss:1.89131\n",
      "\n",
      "--- Fold 1 - MAP@3: 0.364166\n",
      "\n",
      "\n",
      "[0]\tvalidation_0-mlogloss:1.94561\n",
      "[1000]\tvalidation_0-mlogloss:1.89137\n",
      "[1677]\tvalidation_0-mlogloss:1.88990\n",
      "\n",
      "--- Fold 2 - MAP@3: 0.364966\n",
      "\n",
      "\n",
      "[0]\tvalidation_0-mlogloss:1.94560\n",
      "[1000]\tvalidation_0-mlogloss:1.89034\n",
      "[1775]\tvalidation_0-mlogloss:1.88870\n",
      "\n",
      "--- Fold 3 - MAP@3: 0.367839\n",
      "\n",
      "\n",
      "[0]\tvalidation_0-mlogloss:1.94559\n",
      "[1000]\tvalidation_0-mlogloss:1.89243\n",
      "[1617]\tvalidation_0-mlogloss:1.89133\n",
      "\n",
      "--- Fold 4 - MAP@3: 0.365098\n",
      "\n",
      "\n",
      "[0]\tvalidation_0-mlogloss:1.94560\n",
      "[1000]\tvalidation_0-mlogloss:1.89158\n",
      "[1618]\tvalidation_0-mlogloss:1.89007\n",
      "\n",
      "--- Fold 5 - MAP@3: 0.366344\n",
      "\n",
      "\n",
      "\n",
      "------ Overall MAP@3: 0.365682 | Average MAP@3: 0.365682 ± 0.001284\n"
     ]
    }
   ],
   "source": [
    "xgb_model = XGBClassifier(**xgb_params)\n",
    "xgb_trainer = Trainer(xgb_model)\n",
    "\n",
    "fit_args = {\n",
    "    \"verbose\": 1000\n",
    "}\n",
    "\n",
    "oof_pred_probs[\"XGBoost\"], test_pred_probs[\"XGBoost\"], scores[\"XGBoost\"] = xgb_trainer.fit_predict(X, y, X_test, X_original, y_original, fit_args)"
   ]
  },
  {
   "cell_type": "markdown",
   "id": "9e3b6297",
   "metadata": {
    "papermill": {
     "duration": 0.0091,
     "end_time": "2025-06-07T19:00:51.559891",
     "exception": false,
     "start_time": "2025-06-07T19:00:51.550791",
     "status": "completed"
    },
    "tags": []
   },
   "source": [
    "## AutoGluon"
   ]
  },
  {
   "cell_type": "code",
   "execution_count": 14,
   "id": "b4910569",
   "metadata": {
    "execution": {
     "iopub.execute_input": "2025-06-07T19:00:51.580127Z",
     "iopub.status.busy": "2025-06-07T19:00:51.579623Z",
     "iopub.status.idle": "2025-06-07T19:00:54.487036Z",
     "shell.execute_reply": "2025-06-07T19:00:54.486455Z"
    },
    "papermill": {
     "duration": 2.919088,
     "end_time": "2025-06-07T19:00:54.488577",
     "exception": false,
     "start_time": "2025-06-07T19:00:51.569489",
     "status": "completed"
    },
    "tags": []
   },
   "outputs": [],
   "source": [
    "oof_preds_files = glob.glob(f'/kaggle/input/s05e06-fertilizer-optimization-autogluon/*_oof_pred_probs_*.pkl')\n",
    "test_preds_files = glob.glob(f'/kaggle/input/s05e06-fertilizer-optimization-autogluon/*_test_pred_probs_*.pkl')\n",
    "\n",
    "ag_oof_preds = joblib.load(oof_preds_files[0])\n",
    "ag_test_preds = joblib.load(test_preds_files[0])\n",
    "\n",
    "ag_scores = []\n",
    "split = StratifiedKFold(n_splits=CFG.n_folds, random_state=CFG.seed, shuffle=True).split(X, y)\n",
    "for _, val_idx in split:\n",
    "    y_val = y[val_idx]\n",
    "    y_preds = ag_oof_preds[val_idx]\n",
    "    score = map3(y_val, y_preds)\n",
    "    ag_scores.append(score)\n",
    "    \n",
    "oof_pred_probs[\"AutoGluon\"], test_pred_probs[\"AutoGluon\"], scores[\"AutoGluon\"] = ag_oof_preds, ag_test_preds, ag_scores"
   ]
  },
  {
   "cell_type": "markdown",
   "id": "d25e87bd",
   "metadata": {
    "papermill": {
     "duration": 0.008488,
     "end_time": "2025-06-07T19:00:54.505904",
     "exception": false,
     "start_time": "2025-06-07T19:00:54.497416",
     "status": "completed"
    },
    "tags": []
   },
   "source": [
    "# Ensembling with LogisticRegression"
   ]
  },
  {
   "cell_type": "code",
   "execution_count": 15,
   "id": "ef6ac6a0",
   "metadata": {
    "execution": {
     "iopub.execute_input": "2025-06-07T19:00:54.524033Z",
     "iopub.status.busy": "2025-06-07T19:00:54.523788Z",
     "iopub.status.idle": "2025-06-07T19:00:54.668737Z",
     "shell.execute_reply": "2025-06-07T19:00:54.668037Z"
    },
    "papermill": {
     "duration": 0.155783,
     "end_time": "2025-06-07T19:00:54.670235",
     "exception": false,
     "start_time": "2025-06-07T19:00:54.514452",
     "status": "completed"
    },
    "tags": []
   },
   "outputs": [],
   "source": [
    "X = pd.DataFrame(np.concatenate(list(oof_pred_probs.values()), axis=1))\n",
    "X_test = pd.DataFrame(np.concatenate(list(test_pred_probs.values()), axis=1))"
   ]
  },
  {
   "cell_type": "code",
   "execution_count": 16,
   "id": "dfdfa050",
   "metadata": {
    "execution": {
     "iopub.execute_input": "2025-06-07T19:00:54.690224Z",
     "iopub.status.busy": "2025-06-07T19:00:54.689955Z",
     "iopub.status.idle": "2025-06-07T19:00:54.910868Z",
     "shell.execute_reply": "2025-06-07T19:00:54.910180Z"
    },
    "papermill": {
     "duration": 0.232036,
     "end_time": "2025-06-07T19:00:54.911989",
     "exception": false,
     "start_time": "2025-06-07T19:00:54.679953",
     "status": "completed"
    },
    "tags": []
   },
   "outputs": [
    {
     "data": {
      "text/plain": [
       "['test_pred_probs.pkl']"
      ]
     },
     "execution_count": 16,
     "metadata": {},
     "output_type": "execute_result"
    }
   ],
   "source": [
    "joblib.dump(X, \"oof_pred_probs.pkl\")\n",
    "joblib.dump(X_test, \"test_pred_probs.pkl\")"
   ]
  },
  {
   "cell_type": "code",
   "execution_count": 17,
   "id": "a54430d4",
   "metadata": {
    "execution": {
     "iopub.execute_input": "2025-06-07T19:00:54.931177Z",
     "iopub.status.busy": "2025-06-07T19:00:54.930940Z",
     "iopub.status.idle": "2025-06-07T19:02:21.359452Z",
     "shell.execute_reply": "2025-06-07T19:02:21.358504Z"
    },
    "papermill": {
     "duration": 86.439632,
     "end_time": "2025-06-07T19:02:21.360875",
     "exception": false,
     "start_time": "2025-06-07T19:00:54.921243",
     "status": "completed"
    },
    "tags": []
   },
   "outputs": [
    {
     "name": "stdout",
     "output_type": "stream",
     "text": [
      "Training LogisticRegression\n",
      "\n",
      "--- Fold 1 - MAP@3: 0.364536\n",
      "--- Fold 2 - MAP@3: 0.366253\n",
      "--- Fold 3 - MAP@3: 0.368082\n",
      "--- Fold 4 - MAP@3: 0.365700\n",
      "--- Fold 5 - MAP@3: 0.366031\n",
      "\n",
      "------ Overall MAP@3: 0.366120 | Average MAP@3: 0.366120 ± 0.001146\n"
     ]
    }
   ],
   "source": [
    "lr_model = LogisticRegression(random_state=42, max_iter=500)\n",
    "\n",
    "lr_trainer = Trainer(lr_model)\n",
    "_, lr_test_pred_probs, scores[\"LogisticRegression\"] = lr_trainer.fit_predict(X, y, X_test)"
   ]
  },
  {
   "cell_type": "code",
   "execution_count": 18,
   "id": "f2a90b84",
   "metadata": {
    "execution": {
     "iopub.execute_input": "2025-06-07T19:02:21.381100Z",
     "iopub.status.busy": "2025-06-07T19:02:21.380863Z",
     "iopub.status.idle": "2025-06-07T19:02:46.592091Z",
     "shell.execute_reply": "2025-06-07T19:02:46.591152Z"
    },
    "papermill": {
     "duration": 25.222995,
     "end_time": "2025-06-07T19:02:46.593774",
     "exception": false,
     "start_time": "2025-06-07T19:02:21.370779",
     "status": "completed"
    },
    "tags": []
   },
   "outputs": [],
   "source": [
    "final_predictions = []\n",
    "for i in np.argsort(lr_test_pred_probs)[:, -3:][:, ::-1]:\n",
    "    prediction = label_encoder.inverse_transform(i)\n",
    "    final_predictions.append(\" \".join(prediction))"
   ]
  },
  {
   "cell_type": "code",
   "execution_count": 19,
   "id": "4f51d3d6",
   "metadata": {
    "execution": {
     "iopub.execute_input": "2025-06-07T19:02:46.614497Z",
     "iopub.status.busy": "2025-06-07T19:02:46.614060Z",
     "iopub.status.idle": "2025-06-07T19:02:47.122880Z",
     "shell.execute_reply": "2025-06-07T19:02:47.122029Z"
    },
    "papermill": {
     "duration": 0.520276,
     "end_time": "2025-06-07T19:02:47.124324",
     "exception": false,
     "start_time": "2025-06-07T19:02:46.604048",
     "status": "completed"
    },
    "tags": []
   },
   "outputs": [
    {
     "data": {
      "text/html": [
       "<div>\n",
       "<style scoped>\n",
       "    .dataframe tbody tr th:only-of-type {\n",
       "        vertical-align: middle;\n",
       "    }\n",
       "\n",
       "    .dataframe tbody tr th {\n",
       "        vertical-align: top;\n",
       "    }\n",
       "\n",
       "    .dataframe thead th {\n",
       "        text-align: right;\n",
       "    }\n",
       "</style>\n",
       "<table border=\"1\" class=\"dataframe\">\n",
       "  <thead>\n",
       "    <tr style=\"text-align: right;\">\n",
       "      <th></th>\n",
       "      <th>id</th>\n",
       "      <th>Fertilizer Name</th>\n",
       "    </tr>\n",
       "  </thead>\n",
       "  <tbody>\n",
       "    <tr>\n",
       "      <th>0</th>\n",
       "      <td>750000</td>\n",
       "      <td>10-26-26 20-20 DAP</td>\n",
       "    </tr>\n",
       "    <tr>\n",
       "      <th>1</th>\n",
       "      <td>750001</td>\n",
       "      <td>17-17-17 10-26-26 20-20</td>\n",
       "    </tr>\n",
       "    <tr>\n",
       "      <th>2</th>\n",
       "      <td>750002</td>\n",
       "      <td>20-20 28-28 Urea</td>\n",
       "    </tr>\n",
       "    <tr>\n",
       "      <th>3</th>\n",
       "      <td>750003</td>\n",
       "      <td>14-35-14 DAP 17-17-17</td>\n",
       "    </tr>\n",
       "    <tr>\n",
       "      <th>4</th>\n",
       "      <td>750004</td>\n",
       "      <td>20-20 Urea 10-26-26</td>\n",
       "    </tr>\n",
       "  </tbody>\n",
       "</table>\n",
       "</div>"
      ],
      "text/plain": [
       "       id          Fertilizer Name\n",
       "0  750000       10-26-26 20-20 DAP\n",
       "1  750001  17-17-17 10-26-26 20-20\n",
       "2  750002         20-20 28-28 Urea\n",
       "3  750003    14-35-14 DAP 17-17-17\n",
       "4  750004      20-20 Urea 10-26-26"
      ]
     },
     "execution_count": 19,
     "metadata": {},
     "output_type": "execute_result"
    }
   ],
   "source": [
    "sub = pd.read_csv(CFG.sample_sub_path)\n",
    "sub[CFG.target] = final_predictions\n",
    "sub.to_csv(f\"sub_logistic-regression_{np.mean(scores['LogisticRegression']):.6f}.csv\", index=False)\n",
    "sub.head()"
   ]
  },
  {
   "cell_type": "markdown",
   "id": "4637f14b",
   "metadata": {
    "papermill": {
     "duration": 0.009361,
     "end_time": "2025-06-07T19:02:47.145645",
     "exception": false,
     "start_time": "2025-06-07T19:02:47.136284",
     "status": "completed"
    },
    "tags": []
   },
   "source": [
    "# Results"
   ]
  },
  {
   "cell_type": "code",
   "execution_count": 20,
   "id": "6af740ff",
   "metadata": {
    "execution": {
     "iopub.execute_input": "2025-06-07T19:02:47.170439Z",
     "iopub.status.busy": "2025-06-07T19:02:47.169614Z",
     "iopub.status.idle": "2025-06-07T19:02:47.616578Z",
     "shell.execute_reply": "2025-06-07T19:02:47.615685Z"
    },
    "papermill": {
     "duration": 0.463029,
     "end_time": "2025-06-07T19:02:47.617942",
     "exception": false,
     "start_time": "2025-06-07T19:02:47.154913",
     "status": "completed"
    },
    "tags": []
   },
   "outputs": [
    {
     "data": {
      "image/png": "[encoded data removed]",
      "text/plain": [
       "<Figure size 1500x200 with 2 Axes>"
      ]
     },
     "metadata": {},
     "output_type": "display_data"
    }
   ],
   "source": [
    "scores = pd.DataFrame(scores)\n",
    "mean_scores = scores.mean().sort_values(ascending=False)\n",
    "order = scores.mean().sort_values(ascending=False).index.tolist()\n",
    "\n",
    "min_score = mean_scores.min()\n",
    "max_score = mean_scores.max()\n",
    "padding = (max_score - min_score) * 0.5\n",
    "lower_limit = min_score - padding\n",
    "upper_limit = max_score + padding\n",
    "\n",
    "fig, axs = plt.subplots(1, 2, figsize=(15, scores.shape[1] * 0.4))\n",
    "\n",
    "boxplot = sns.boxplot(data=scores, order=order, ax=axs[0], orient=\"h\", color=\"grey\")\n",
    "axs[0].set_title(f\"Fold MAP@3\")\n",
    "axs[0].set_xlabel(\"\")\n",
    "axs[0].set_ylabel(\"\")\n",
    "\n",
    "barplot = sns.barplot(x=mean_scores.values, y=mean_scores.index, ax=axs[1], color=\"grey\")\n",
    "axs[1].set_title(f\"Mean MAP@3\")\n",
    "axs[1].set_xlabel(\"\")\n",
    "axs[1].set_xlim(left=lower_limit, right=upper_limit)\n",
    "axs[1].set_ylabel(\"\")\n",
    "\n",
    "for i, (score, model) in enumerate(zip(mean_scores.values, mean_scores.index)):\n",
    "    color = \"cyan\" if \"logistic\" in model.lower() else \"grey\"\n",
    "    barplot.patches[i].set_facecolor(color)\n",
    "    boxplot.patches[i].set_facecolor(color)\n",
    "    barplot.text(score, i, round(score, 6), va=\"center\")\n",
    "\n",
    "plt.tight_layout()\n",
    "plt.show()"
   ]
  },
  {
   "cell_type": "code",
   "execution_count": 21,
   "id": "daaece0b",
   "metadata": {
    "execution": {
     "iopub.execute_input": "2025-06-07T19:02:47.647303Z",
     "iopub.status.busy": "2025-06-07T19:02:47.647024Z",
     "iopub.status.idle": "2025-06-07T19:02:47.651265Z",
     "shell.execute_reply": "2025-06-07T19:02:47.650485Z"
    },
    "papermill": {
     "duration": 0.021593,
     "end_time": "2025-06-07T19:02:47.652463",
     "exception": false,
     "start_time": "2025-06-07T19:02:47.630870",
     "status": "completed"
    },
    "tags": []
   },
   "outputs": [],
   "source": [
    "shutil.rmtree(\"catboost_info\", ignore_errors=True)"
   ]
  }
 ],
 "metadata": {
  "kaggle": {
   "accelerator": "gpu",
   "dataSources": [
    {
     "databundleVersionId": 12184666,
     "sourceId": 91717,
     "sourceType": "competition"
    },
    {
     "datasetId": 7269189,
     "sourceId": 11592231,
     "sourceType": "datasetVersion"
    },
    {
     "sourceId": 243931519,
     "sourceType": "kernelVersion"
    }
   ],
   "dockerImageVersionId": 31041,
   "isGpuEnabled": true,
   "isInternetEnabled": true,
   "language": "python",
   "sourceType": "notebook"
  },
  "kernelspec": {
   "display_name": "Python 3",
   "language": "python",
   "name": "python3"
  },
  "language_info": {
   "codemirror_mode": {
    "name": "ipython",
    "version": 3
   },
   "file_extension": ".py",
   "mimetype": "text/x-python",
   "name": "python",
   "nbconvert_exporter": "python",
   "pygments_lexer": "ipython3",
   "version": "3.11.11"
  },
  "papermill": {
   "default_parameters": {},
   "duration": 37894.630717,
   "end_time": "2025-06-07T19:02:48.715821",
   "environment_variables": {},
   "exception": null,
   "input_path": "__notebook__.ipynb",
   "output_path": "__notebook__.ipynb",
   "parameters": {},
   "start_time": "2025-06-07T08:31:14.085104",
   "version": "2.6.0"
  }
 },
 "nbformat": 4,
 "nbformat_minor": 5
}
