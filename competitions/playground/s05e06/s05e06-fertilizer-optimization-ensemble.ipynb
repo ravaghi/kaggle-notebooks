{
 "cells": [
  {
   "cell_type": "markdown",
   "id": "cae57140",
   "metadata": {
    "papermill": {
     "duration": 0.004434,
     "end_time": "2025-06-19T14:21:50.357284",
     "exception": false,
     "start_time": "2025-06-19T14:21:50.352850",
     "status": "completed"
    },
    "tags": []
   },
   "source": [
    "# Imports and configs"
   ]
  },
  {
   "cell_type": "code",
   "execution_count": 1,
   "id": "85f25f7c",
   "metadata": {
    "_kg_hide-output": true,
    "execution": {
     "iopub.execute_input": "2025-06-19T14:21:50.365497Z",
     "iopub.status.busy": "2025-06-19T14:21:50.365242Z",
     "iopub.status.idle": "2025-06-19T14:21:57.551493Z",
     "shell.execute_reply": "2025-06-19T14:21:57.550717Z"
    },
    "papermill": {
     "duration": 7.192045,
     "end_time": "2025-06-19T14:21:57.553049",
     "exception": false,
     "start_time": "2025-06-19T14:21:50.361004",
     "status": "completed"
    },
    "tags": []
   },
   "outputs": [
    {
     "name": "stdout",
     "output_type": "stream",
     "text": [
      "\u001b[2K   \u001b[90m━━━━━━━━━━━━━━━━━━━━━━━━━━━━━━━━━━━━━━━━\u001b[0m \u001b[32m13.3/13.3 MB\u001b[0m \u001b[31m99.0 MB/s\u001b[0m eta \u001b[36m0:00:00\u001b[0m\r\n",
      "\u001b[?25h\u001b[31mERROR: pip's dependency resolver does not currently take into account all the packages that are installed. This behaviour is the source of the following dependency conflicts.\r\n",
      "cesium 0.12.4 requires numpy<3.0,>=2.0, but you have numpy 1.26.4 which is incompatible.\u001b[0m\u001b[31m\r\n",
      "\u001b[0m"
     ]
    }
   ],
   "source": [
    "!pip install -q scikit-learn==1.5.2"
   ]
  },
  {
   "cell_type": "code",
   "execution_count": 2,
   "id": "95bc11fb",
   "metadata": {
    "execution": {
     "iopub.execute_input": "2025-06-19T14:21:57.563597Z",
     "iopub.status.busy": "2025-06-19T14:21:57.563302Z",
     "iopub.status.idle": "2025-06-19T14:22:04.429009Z",
     "shell.execute_reply": "2025-06-19T14:22:04.428397Z"
    },
    "papermill": {
     "duration": 6.872462,
     "end_time": "2025-06-19T14:22:04.430339",
     "exception": false,
     "start_time": "2025-06-19T14:21:57.557877",
     "status": "completed"
    },
    "tags": []
   },
   "outputs": [],
   "source": [
    "from lightgbm import LGBMClassifier, log_evaluation, early_stopping\n",
    "from sklearn.feature_selection import mutual_info_classif\n",
    "from sklearn.linear_model import LogisticRegression\n",
    "from sklearn.model_selection import StratifiedKFold\n",
    "from sklearn.preprocessing import LabelEncoder\n",
    "from sklearn.base import clone\n",
    "from xgboost import XGBClassifier\n",
    "import matplotlib.pyplot as plt\n",
    "import seaborn as sns\n",
    "import pandas as pd\n",
    "import numpy as np\n",
    "import warnings\n",
    "import joblib\n",
    "import optuna\n",
    "import shutil\n",
    "import glob\n",
    "import json\n",
    "import gc\n",
    "\n",
    "warnings.filterwarnings(\"ignore\")"
   ]
  },
  {
   "cell_type": "code",
   "execution_count": 3,
   "id": "31190f80",
   "metadata": {
    "execution": {
     "iopub.execute_input": "2025-06-19T14:22:04.440103Z",
     "iopub.status.busy": "2025-06-19T14:22:04.439257Z",
     "iopub.status.idle": "2025-06-19T14:22:04.443362Z",
     "shell.execute_reply": "2025-06-19T14:22:04.442805Z"
    },
    "papermill": {
     "duration": 0.009766,
     "end_time": "2025-06-19T14:22:04.444445",
     "exception": false,
     "start_time": "2025-06-19T14:22:04.434679",
     "status": "completed"
    },
    "tags": []
   },
   "outputs": [],
   "source": [
    "class CFG:\n",
    "    train_path = \"/kaggle/input/playground-series-s5e6/train.csv\"\n",
    "    test_path = \"/kaggle/input/playground-series-s5e6/test.csv\"\n",
    "    sample_sub_path = \"/kaggle/input/playground-series-s5e6/sample_submission.csv\"\n",
    "\n",
    "    original_path = \"/kaggle/input/fertilizer-prediction/Fertilizer Prediction.csv\"\n",
    "    \n",
    "    target = \"Fertilizer Name\"\n",
    "    n_folds = 5\n",
    "    seed = 42"
   ]
  },
  {
   "cell_type": "markdown",
   "id": "886c3853",
   "metadata": {
    "papermill": {
     "duration": 0.003626,
     "end_time": "2025-06-19T14:22:04.451926",
     "exception": false,
     "start_time": "2025-06-19T14:22:04.448300",
     "status": "completed"
    },
    "tags": []
   },
   "source": [
    "# Data loading and preprocessing"
   ]
  },
  {
   "cell_type": "code",
   "execution_count": 4,
   "id": "19c90586",
   "metadata": {
    "execution": {
     "iopub.execute_input": "2025-06-19T14:22:04.460205Z",
     "iopub.status.busy": "2025-06-19T14:22:04.459996Z",
     "iopub.status.idle": "2025-06-19T14:22:08.014582Z",
     "shell.execute_reply": "2025-06-19T14:22:08.013673Z"
    },
    "papermill": {
     "duration": 3.560412,
     "end_time": "2025-06-19T14:22:08.016113",
     "exception": false,
     "start_time": "2025-06-19T14:22:04.455701",
     "status": "completed"
    },
    "tags": []
   },
   "outputs": [],
   "source": [
    "train = pd.read_csv(CFG.train_path, index_col=\"id\")\n",
    "test = pd.read_csv(CFG.test_path, index_col=\"id\")\n",
    "original = pd.read_csv(CFG.original_path)\n",
    "\n",
    "features = test.columns.tolist()\n",
    "train[features] = train[features].astype(str).astype(\"category\")\n",
    "test[features] = test[features].astype(str).astype(\"category\")\n",
    "original[features] = original[features].astype(str).astype(\"category\")\n",
    "\n",
    "label_encoder = LabelEncoder()\n",
    "train[CFG.target] = label_encoder.fit_transform(train[CFG.target])\n",
    "original[CFG.target] = label_encoder.transform(original[CFG.target])\n",
    "\n",
    "X = train.drop(CFG.target, axis=1)\n",
    "y = train[CFG.target]\n",
    "X_test = test\n",
    "\n",
    "X_original = original.drop(CFG.target, axis=1)\n",
    "y_original = original[CFG.target]"
   ]
  },
  {
   "cell_type": "code",
   "execution_count": 5,
   "id": "05164d9e",
   "metadata": {
    "execution": {
     "iopub.execute_input": "2025-06-19T14:22:08.026615Z",
     "iopub.status.busy": "2025-06-19T14:22:08.026352Z",
     "iopub.status.idle": "2025-06-19T14:22:15.646462Z",
     "shell.execute_reply": "2025-06-19T14:22:15.645783Z"
    },
    "papermill": {
     "duration": 7.626293,
     "end_time": "2025-06-19T14:22:15.647591",
     "exception": false,
     "start_time": "2025-06-19T14:22:08.021298",
     "status": "completed"
    },
    "tags": []
   },
   "outputs": [
    {
     "data": {
      "text/html": [
       "<style type=\"text/css\">\n",
       "#T_14a50_row0_col0 {\n",
       "  width: 10em;\n",
       "  background: linear-gradient(90deg, #006837 100.0%, transparent 100.0%);\n",
       "}\n",
       "#T_14a50_row1_col0 {\n",
       "  width: 10em;\n",
       "  background: linear-gradient(90deg, #199750 90.2%, transparent 90.2%);\n",
       "}\n",
       "#T_14a50_row2_col0 {\n",
       "  width: 10em;\n",
       "  background: linear-gradient(90deg, #9bd469 71.7%, transparent 71.7%);\n",
       "}\n",
       "#T_14a50_row3_col0 {\n",
       "  width: 10em;\n",
       "  background: linear-gradient(90deg, #c9e881 63.1%, transparent 63.1%);\n",
       "}\n",
       "#T_14a50_row4_col0 {\n",
       "  width: 10em;\n",
       "  background: linear-gradient(90deg, #fee491 41.3%, transparent 41.3%);\n",
       "}\n",
       "#T_14a50_row5_col0 {\n",
       "  width: 10em;\n",
       "  background: linear-gradient(90deg, #fdb163 30.7%, transparent 30.7%);\n",
       "}\n",
       "#T_14a50_row6_col0 {\n",
       "  width: 10em;\n",
       "  background: linear-gradient(90deg, #fca85e 29.2%, transparent 29.2%);\n",
       "}\n",
       "#T_14a50_row7_col0 {\n",
       "  width: 10em;\n",
       "  background: linear-gradient(90deg, #ef633f 18.6%, transparent 18.6%);\n",
       "}\n",
       "</style>\n",
       "<table id=\"T_14a50\">\n",
       "  <thead>\n",
       "    <tr>\n",
       "      <th class=\"blank level0\" >&nbsp;</th>\n",
       "      <th id=\"T_14a50_level0_col0\" class=\"col_heading level0 col0\" >Mutual Information</th>\n",
       "    </tr>\n",
       "  </thead>\n",
       "  <tbody>\n",
       "    <tr>\n",
       "      <th id=\"T_14a50_level0_row0\" class=\"row_heading level0 row0\" >Moisture</th>\n",
       "      <td id=\"T_14a50_row0_col0\" class=\"data row0 col0\" >0.003308</td>\n",
       "    </tr>\n",
       "    <tr>\n",
       "      <th id=\"T_14a50_level0_row1\" class=\"row_heading level0 row1\" >Phosphorous</th>\n",
       "      <td id=\"T_14a50_row1_col0\" class=\"data row1 col0\" >0.002984</td>\n",
       "    </tr>\n",
       "    <tr>\n",
       "      <th id=\"T_14a50_level0_row2\" class=\"row_heading level0 row2\" >Nitrogen</th>\n",
       "      <td id=\"T_14a50_row2_col0\" class=\"data row2 col0\" >0.002373</td>\n",
       "    </tr>\n",
       "    <tr>\n",
       "      <th id=\"T_14a50_level0_row3\" class=\"row_heading level0 row3\" >Crop Type</th>\n",
       "      <td id=\"T_14a50_row3_col0\" class=\"data row3 col0\" >0.002088</td>\n",
       "    </tr>\n",
       "    <tr>\n",
       "      <th id=\"T_14a50_level0_row4\" class=\"row_heading level0 row4\" >Potassium</th>\n",
       "      <td id=\"T_14a50_row4_col0\" class=\"data row4 col0\" >0.001367</td>\n",
       "    </tr>\n",
       "    <tr>\n",
       "      <th id=\"T_14a50_level0_row5\" class=\"row_heading level0 row5\" >Humidity</th>\n",
       "      <td id=\"T_14a50_row5_col0\" class=\"data row5 col0\" >0.001015</td>\n",
       "    </tr>\n",
       "    <tr>\n",
       "      <th id=\"T_14a50_level0_row6\" class=\"row_heading level0 row6\" >Temparature</th>\n",
       "      <td id=\"T_14a50_row6_col0\" class=\"data row6 col0\" >0.000966</td>\n",
       "    </tr>\n",
       "    <tr>\n",
       "      <th id=\"T_14a50_level0_row7\" class=\"row_heading level0 row7\" >Soil Type</th>\n",
       "      <td id=\"T_14a50_row7_col0\" class=\"data row7 col0\" >0.000617</td>\n",
       "    </tr>\n",
       "  </tbody>\n",
       "</table>\n"
      ],
      "text/plain": [
       "<pandas.io.formats.style.Styler at 0x7f315e9e6a50>"
      ]
     },
     "execution_count": 5,
     "metadata": {},
     "output_type": "execute_result"
    }
   ],
   "source": [
    "mutual_info = mutual_info_classif(X, y, random_state=CFG.seed, discrete_features=True)\n",
    "\n",
    "mutual_info = pd.Series(mutual_info)\n",
    "mutual_info.index = X.columns\n",
    "mutual_info = pd.DataFrame(mutual_info.sort_values(ascending=False), columns=['Mutual Information'])\n",
    "mutual_info.style.bar(subset=['Mutual Information'], cmap='RdYlGn')"
   ]
  },
  {
   "cell_type": "code",
   "execution_count": 6,
   "id": "a98eb108",
   "metadata": {
    "execution": {
     "iopub.execute_input": "2025-06-19T14:22:15.657142Z",
     "iopub.status.busy": "2025-06-19T14:22:15.656925Z",
     "iopub.status.idle": "2025-06-19T14:22:16.492291Z",
     "shell.execute_reply": "2025-06-19T14:22:16.491584Z"
    },
    "papermill": {
     "duration": 0.841162,
     "end_time": "2025-06-19T14:22:16.493320",
     "exception": false,
     "start_time": "2025-06-19T14:22:15.652158",
     "status": "completed"
    },
    "tags": []
   },
   "outputs": [
    {
     "data": {
      "text/html": [
       "<style type=\"text/css\">\n",
       "#T_ba4e8_row0_col0 {\n",
       "  width: 10em;\n",
       "  background: linear-gradient(90deg, #006837 100.0%, transparent 100.0%);\n",
       "}\n",
       "#T_ba4e8_row1_col0 {\n",
       "  width: 10em;\n",
       "  background: linear-gradient(90deg, #016a38 99.5%, transparent 99.5%);\n",
       "}\n",
       "#T_ba4e8_row2_col0 {\n",
       "  width: 10em;\n",
       "  background: linear-gradient(90deg, #70c164 78.4%, transparent 78.4%);\n",
       "}\n",
       "#T_ba4e8_row3_col0 {\n",
       "  width: 10em;\n",
       "  background: linear-gradient(90deg, #fff2aa 45.9%, transparent 45.9%);\n",
       "}\n",
       "#T_ba4e8_row4_col0 {\n",
       "  width: 10em;\n",
       "  background: linear-gradient(90deg, #fecc7b 36.3%, transparent 36.3%);\n",
       "}\n",
       "#T_ba4e8_row5_col0 {\n",
       "  width: 10em;\n",
       "  background: linear-gradient(90deg, #fdb768 31.7%, transparent 31.7%);\n",
       "}\n",
       "#T_ba4e8_row6_col0 {\n",
       "  width: 10em;\n",
       "  background: linear-gradient(90deg, #f7844e 23.5%, transparent 23.5%);\n",
       "}\n",
       "#T_ba4e8_row7_col0 {\n",
       "  width: 10em;\n",
       "  background: linear-gradient(90deg, #cc2627 7.9%, transparent 7.9%);\n",
       "}\n",
       "</style>\n",
       "<table id=\"T_ba4e8\">\n",
       "  <thead>\n",
       "    <tr>\n",
       "      <th class=\"blank level0\" >&nbsp;</th>\n",
       "      <th id=\"T_ba4e8_level0_col0\" class=\"col_heading level0 col0\" >Mutual Information</th>\n",
       "    </tr>\n",
       "  </thead>\n",
       "  <tbody>\n",
       "    <tr>\n",
       "      <th id=\"T_ba4e8_level0_row0\" class=\"row_heading level0 row0\" >Phosphorous</th>\n",
       "      <td id=\"T_ba4e8_row0_col0\" class=\"data row0 col0\" >0.001362</td>\n",
       "    </tr>\n",
       "    <tr>\n",
       "      <th id=\"T_ba4e8_level0_row1\" class=\"row_heading level0 row1\" >Moisture</th>\n",
       "      <td id=\"T_ba4e8_row1_col0\" class=\"data row1 col0\" >0.001355</td>\n",
       "    </tr>\n",
       "    <tr>\n",
       "      <th id=\"T_ba4e8_level0_row2\" class=\"row_heading level0 row2\" >Nitrogen</th>\n",
       "      <td id=\"T_ba4e8_row2_col0\" class=\"data row2 col0\" >0.001068</td>\n",
       "    </tr>\n",
       "    <tr>\n",
       "      <th id=\"T_ba4e8_level0_row3\" class=\"row_heading level0 row3\" >Potassium</th>\n",
       "      <td id=\"T_ba4e8_row3_col0\" class=\"data row3 col0\" >0.000626</td>\n",
       "    </tr>\n",
       "    <tr>\n",
       "      <th id=\"T_ba4e8_level0_row4\" class=\"row_heading level0 row4\" >Humidity</th>\n",
       "      <td id=\"T_ba4e8_row4_col0\" class=\"data row4 col0\" >0.000494</td>\n",
       "    </tr>\n",
       "    <tr>\n",
       "      <th id=\"T_ba4e8_level0_row5\" class=\"row_heading level0 row5\" >Temparature</th>\n",
       "      <td id=\"T_ba4e8_row5_col0\" class=\"data row5 col0\" >0.000432</td>\n",
       "    </tr>\n",
       "    <tr>\n",
       "      <th id=\"T_ba4e8_level0_row6\" class=\"row_heading level0 row6\" >Crop Type</th>\n",
       "      <td id=\"T_ba4e8_row6_col0\" class=\"data row6 col0\" >0.000320</td>\n",
       "    </tr>\n",
       "    <tr>\n",
       "      <th id=\"T_ba4e8_level0_row7\" class=\"row_heading level0 row7\" >Soil Type</th>\n",
       "      <td id=\"T_ba4e8_row7_col0\" class=\"data row7 col0\" >0.000107</td>\n",
       "    </tr>\n",
       "  </tbody>\n",
       "</table>\n"
      ],
      "text/plain": [
       "<pandas.io.formats.style.Styler at 0x7f315e54c410>"
      ]
     },
     "execution_count": 6,
     "metadata": {},
     "output_type": "execute_result"
    }
   ],
   "source": [
    "mutual_info = mutual_info_classif(X_original, y_original, random_state=CFG.seed, discrete_features=True)\n",
    "\n",
    "mutual_info = pd.Series(mutual_info)\n",
    "mutual_info.index = X_original.columns\n",
    "mutual_info = pd.DataFrame(mutual_info.sort_values(ascending=False), columns=['Mutual Information'])\n",
    "mutual_info.style.bar(subset=['Mutual Information'], cmap='RdYlGn')"
   ]
  },
  {
   "cell_type": "markdown",
   "id": "fb1159fb",
   "metadata": {
    "papermill": {
     "duration": 0.004687,
     "end_time": "2025-06-19T14:22:16.502718",
     "exception": false,
     "start_time": "2025-06-19T14:22:16.498031",
     "status": "completed"
    },
    "tags": []
   },
   "source": [
    "# Training base models"
   ]
  },
  {
   "cell_type": "code",
   "execution_count": 7,
   "id": "b790ff63",
   "metadata": {
    "execution": {
     "iopub.execute_input": "2025-06-19T14:22:16.511858Z",
     "iopub.status.busy": "2025-06-19T14:22:16.511624Z",
     "iopub.status.idle": "2025-06-19T14:22:16.516653Z",
     "shell.execute_reply": "2025-06-19T14:22:16.515966Z"
    },
    "papermill": {
     "duration": 0.010854,
     "end_time": "2025-06-19T14:22:16.517695",
     "exception": false,
     "start_time": "2025-06-19T14:22:16.506841",
     "status": "completed"
    },
    "tags": []
   },
   "outputs": [],
   "source": [
    "def map3(y_true, y_pred_probs):\n",
    "    y_true = [[x] for x in y_true]\n",
    "    y_pred_probs = np.argsort(y_pred_probs, axis=1)[:, -3:][:, ::-1].tolist()\n",
    "    \n",
    "    def ap3(y_true, y_pred_probs):\n",
    "        y_pred_probs = y_pred_probs[:3]\n",
    "\n",
    "        score = 0.0\n",
    "        num_hits = 0.0\n",
    "\n",
    "        for i,p in enumerate(y_pred_probs):\n",
    "            if p in y_true and p not in y_pred_probs[:i]:\n",
    "                num_hits += 1.0\n",
    "                score += num_hits / (i+1.0)\n",
    "\n",
    "        if not y_true:\n",
    "            return 0.0\n",
    "\n",
    "        return score\n",
    "    \n",
    "    return np.mean([ap3(a,p) for a,p in zip(y_true, y_pred_probs)])"
   ]
  },
  {
   "cell_type": "code",
   "execution_count": 8,
   "id": "f1f67956",
   "metadata": {
    "execution": {
     "iopub.execute_input": "2025-06-19T14:22:16.527022Z",
     "iopub.status.busy": "2025-06-19T14:22:16.526812Z",
     "iopub.status.idle": "2025-06-19T14:22:16.536662Z",
     "shell.execute_reply": "2025-06-19T14:22:16.535958Z"
    },
    "papermill": {
     "duration": 0.015777,
     "end_time": "2025-06-19T14:22:16.537695",
     "exception": false,
     "start_time": "2025-06-19T14:22:16.521918",
     "status": "completed"
    },
    "tags": []
   },
   "outputs": [],
   "source": [
    "class Trainer:\n",
    "    def __init__(self, model, config=CFG):\n",
    "        self.model = model\n",
    "        self.config = config\n",
    "\n",
    "    def fit_predict(self, X, y, X_test, X_original=None, y_original=None, fit_args={}):\n",
    "        print(f\"Training {self.model.__class__.__name__}\\n\")\n",
    "        \n",
    "        scores = []        \n",
    "        oof_pred_probs = np.zeros((X.shape[0], 7))\n",
    "        test_pred_probs = np.zeros((X_test.shape[0], 7))\n",
    "        \n",
    "        skf = StratifiedKFold(n_splits=self.config.n_folds, random_state=self.config.seed, shuffle=True)\n",
    "        for fold_idx, (train_idx, val_idx) in enumerate(skf.split(X, y)):\n",
    "            X_train, X_val = X.iloc[train_idx], X.iloc[val_idx]\n",
    "            y_train, y_val = y[train_idx], y[val_idx]\n",
    "\n",
    "            if X_original is not None and y_original is not None:\n",
    "                X_train = pd.concat([X_train, X_original])\n",
    "                y_train = pd.concat([y_train, y_original])\n",
    "            \n",
    "            model = clone(self.model)\n",
    "            \n",
    "            if fit_args:\n",
    "                model.fit(X_train, y_train, **fit_args, eval_set=[(X_val, y_val)])\n",
    "            else:\n",
    "                model.fit(X_train, y_train)\n",
    "            \n",
    "            y_pred_probs = model.predict_proba(X_val)\n",
    "            oof_pred_probs[val_idx] = y_pred_probs\n",
    "            \n",
    "            temp_test_pred_probs = model.predict_proba(X_test)\n",
    "            test_pred_probs += temp_test_pred_probs / self.config.n_folds\n",
    "            \n",
    "            score = map3(y_val, y_pred_probs)\n",
    "            scores.append(score)\n",
    "            \n",
    "            del model, X_train, y_train, X_val, y_val, y_pred_probs\n",
    "            gc.collect()\n",
    "            \n",
    "            if fit_args:\n",
    "                print(f\"\\n--- Fold {fold_idx + 1} - MAP@3: {score:.6f}\\n\\n\")\n",
    "            else:\n",
    "                print(f\"--- Fold {fold_idx + 1} - MAP@3: {score:.6f}\")\n",
    "                            \n",
    "        overall_score = map3(y, oof_pred_probs)\n",
    "            \n",
    "        print(f\"\\n------ Overall MAP@3: {overall_score:.6f} | Average MAP@3: {np.mean(scores):.6f} ± {np.std(scores):.6f}\")\n",
    "        \n",
    "        return oof_pred_probs, test_pred_probs, scores\n",
    "\n",
    "    def tune(self, X, y):        \n",
    "        scores = []        \n",
    "        \n",
    "        skf = StratifiedKFold(n_splits=self.config.n_folds, random_state=self.config.seed, shuffle=True)\n",
    "        for fold_idx, (train_idx, val_idx) in enumerate(skf.split(X, y)):\n",
    "            X_train, X_val = X.iloc[train_idx], X.iloc[val_idx]\n",
    "            y_train, y_val = y[train_idx], y[val_idx]\n",
    "            \n",
    "            model = clone(self.model)\n",
    "            model.fit(X_train, y_train)\n",
    "            \n",
    "            y_pred_probs = model.predict_proba(X_val)            \n",
    "            score = map3(y_val, y_pred_probs)\n",
    "            scores.append(score)\n",
    "            \n",
    "            del model, X_train, y_train, X_val, y_val, y_pred_probs\n",
    "            gc.collect()\n",
    "            \n",
    "        return np.mean(scores)"
   ]
  },
  {
   "cell_type": "code",
   "execution_count": 9,
   "id": "bd9e2bfd",
   "metadata": {
    "_kg_hide-input": true,
    "execution": {
     "iopub.execute_input": "2025-06-19T14:22:16.546988Z",
     "iopub.status.busy": "2025-06-19T14:22:16.546791Z",
     "iopub.status.idle": "2025-06-19T14:22:16.551943Z",
     "shell.execute_reply": "2025-06-19T14:22:16.551346Z"
    },
    "papermill": {
     "duration": 0.01118,
     "end_time": "2025-06-19T14:22:16.553071",
     "exception": false,
     "start_time": "2025-06-19T14:22:16.541891",
     "status": "completed"
    },
    "tags": []
   },
   "outputs": [],
   "source": [
    "lgbm_params = {\n",
    "    \"boosting_type\": \"gbdt\",\n",
    "    \"device\": \"gpu\",\n",
    "    \"colsample_bytree\": 0.4366677273946288,\n",
    "    \"learning_rate\": 0.016164161953515117,\n",
    "    \"max_depth\": 12,\n",
    "    \"min_child_samples\": 67,\n",
    "    \"n_estimators\": 10000,\n",
    "    \"n_jobs\": -1,\n",
    "    \"num_leaves\": 243,\n",
    "    \"random_state\": 42,\n",
    "    \"reg_alpha\": 6.38288560443373,\n",
    "    \"reg_lambda\": 9.392999314379155,\n",
    "    \"subsample\": 0.7989164499431718,\n",
    "    \"verbose\": -1\n",
    "}\n",
    "\n",
    "lgbm_goss_params = {\n",
    "    \"boosting_type\": \"goss\",\n",
    "    \"device\": \"gpu\",\n",
    "    \"colsample_bytree\": 0.32751831793031183,\n",
    "    \"learning_rate\": 0.006700715059604966,\n",
    "    \"max_depth\": 12,\n",
    "    \"min_child_samples\": 84,\n",
    "    \"n_estimators\": 10000,\n",
    "    \"n_jobs\": -1,\n",
    "    \"num_leaves\": 229,\n",
    "    \"random_state\": 42,\n",
    "    \"reg_alpha\": 6.879977008084246,\n",
    "    \"reg_lambda\": 4.739518466581721,\n",
    "    \"subsample\": 0.5411572049978781,\n",
    "    \"verbose\": -1\n",
    "}\n",
    "\n",
    "xgb_params = {\n",
    "    # https://www.kaggle.com/code/patrykszcz/simple-xgb-model-5-fold\n",
    "    \"device\": \"gpu\",\n",
    "    \"max_depth\": 12,\n",
    "    \"colsample_bytree\": 0.467,\n",
    "    \"subsample\": 0.86,\n",
    "    \"n_estimators\": 10000,\n",
    "    \"learning_rate\": 0.03,\n",
    "    \"gamma\": 0.26,\n",
    "    \"max_delta_step\": 4,\n",
    "    \"reg_alpha\": 2.7,\n",
    "    \"reg_lambda\": 1.4,\n",
    "    \"early_stopping_rounds\": 100,\n",
    "    \"objective\": 'multi:softprob',\n",
    "    \"random_state\": 13,\n",
    "    \"enable_categorical\": True,\n",
    "}"
   ]
  },
  {
   "cell_type": "code",
   "execution_count": 10,
   "id": "5e035d37",
   "metadata": {
    "execution": {
     "iopub.execute_input": "2025-06-19T14:22:16.562272Z",
     "iopub.status.busy": "2025-06-19T14:22:16.562078Z",
     "iopub.status.idle": "2025-06-19T14:22:16.565164Z",
     "shell.execute_reply": "2025-06-19T14:22:16.564569Z"
    },
    "papermill": {
     "duration": 0.008669,
     "end_time": "2025-06-19T14:22:16.566112",
     "exception": false,
     "start_time": "2025-06-19T14:22:16.557443",
     "status": "completed"
    },
    "tags": []
   },
   "outputs": [],
   "source": [
    "scores = {}\n",
    "oof_pred_probs = {}\n",
    "test_pred_probs = {}"
   ]
  },
  {
   "cell_type": "markdown",
   "id": "01ab0efe",
   "metadata": {
    "papermill": {
     "duration": 0.004076,
     "end_time": "2025-06-19T14:22:16.574454",
     "exception": false,
     "start_time": "2025-06-19T14:22:16.570378",
     "status": "completed"
    },
    "tags": []
   },
   "source": [
    "## LightGBM (gbdt)"
   ]
  },
  {
   "cell_type": "code",
   "execution_count": 11,
   "id": "d1ed3b5d",
   "metadata": {
    "execution": {
     "iopub.execute_input": "2025-06-19T14:22:16.583789Z",
     "iopub.status.busy": "2025-06-19T14:22:16.583423Z",
     "iopub.status.idle": "2025-06-19T16:57:54.471376Z",
     "shell.execute_reply": "2025-06-19T16:57:54.470656Z"
    },
    "papermill": {
     "duration": 9337.893924,
     "end_time": "2025-06-19T16:57:54.472617",
     "exception": false,
     "start_time": "2025-06-19T14:22:16.578693",
     "status": "completed"
    },
    "tags": []
   },
   "outputs": [
    {
     "name": "stdout",
     "output_type": "stream",
     "text": [
      "Training LGBMClassifier\n",
      "\n"
     ]
    },
    {
     "name": "stderr",
     "output_type": "stream",
     "text": [
      "1 warning generated.\n",
      "1 warning generated.\n",
      "1 warning generated.\n",
      "1 warning generated.\n",
      "1 warning generated.\n",
      "1 warning generated.\n",
      "1 warning generated.\n",
      "1 warning generated.\n",
      "1 warning generated.\n",
      "1 warning generated.\n",
      "1 warning generated.\n",
      "1 warning generated.\n",
      "1 warning generated.\n",
      "1 warning generated.\n",
      "1 warning generated.\n",
      "1 warning generated.\n",
      "1 warning generated.\n",
      "1 warning generated.\n",
      "1 warning generated.\n",
      "1 warning generated.\n",
      "1 warning generated.\n",
      "1 warning generated.\n",
      "1 warning generated.\n",
      "1 warning generated.\n",
      "1 warning generated.\n",
      "1 warning generated.\n",
      "1 warning generated.\n",
      "1 warning generated.\n",
      "1 warning generated.\n",
      "1 warning generated.\n",
      "1 warning generated.\n",
      "1 warning generated.\n",
      "1 warning generated.\n"
     ]
    },
    {
     "name": "stdout",
     "output_type": "stream",
     "text": [
      "Training until validation scores don't improve for 100 rounds\n",
      "[1000]\tvalid_0's multi_logloss: 1.8953\n",
      "Early stopping, best iteration is:\n",
      "[1888]\tvalid_0's multi_logloss: 1.89006\n",
      "\n",
      "--- Fold 1 - MAP@3: 0.366839\n",
      "\n",
      "\n",
      "Training until validation scores don't improve for 100 rounds\n",
      "[1000]\tvalid_0's multi_logloss: 1.89528\n",
      "Early stopping, best iteration is:\n",
      "[1867]\tvalid_0's multi_logloss: 1.88987\n",
      "\n",
      "--- Fold 2 - MAP@3: 0.366103\n",
      "\n",
      "\n",
      "Training until validation scores don't improve for 100 rounds\n",
      "[1000]\tvalid_0's multi_logloss: 1.89374\n",
      "[2000]\tvalid_0's multi_logloss: 1.88771\n",
      "Early stopping, best iteration is:\n",
      "[2028]\tvalid_0's multi_logloss: 1.88769\n",
      "\n",
      "--- Fold 3 - MAP@3: 0.368080\n",
      "\n",
      "\n",
      "Training until validation scores don't improve for 100 rounds\n",
      "[1000]\tvalid_0's multi_logloss: 1.89582\n",
      "[2000]\tvalid_0's multi_logloss: 1.89061\n",
      "Early stopping, best iteration is:\n",
      "[1910]\tvalid_0's multi_logloss: 1.89055\n",
      "\n",
      "--- Fold 4 - MAP@3: 0.365113\n",
      "\n",
      "\n",
      "Training until validation scores don't improve for 100 rounds\n",
      "[1000]\tvalid_0's multi_logloss: 1.89431\n",
      "Early stopping, best iteration is:\n",
      "[1870]\tvalid_0's multi_logloss: 1.88898\n",
      "\n",
      "--- Fold 5 - MAP@3: 0.366594\n",
      "\n",
      "\n",
      "\n",
      "------ Overall MAP@3: 0.366546 | Average MAP@3: 0.366546 ± 0.000968\n"
     ]
    }
   ],
   "source": [
    "lgbm_model = LGBMClassifier(**lgbm_params)\n",
    "lgbm_trainer = Trainer(lgbm_model)\n",
    "\n",
    "fit_args = {\n",
    "    \"callbacks\": [\n",
    "        log_evaluation(period=1000), \n",
    "        early_stopping(stopping_rounds=100)\n",
    "    ]\n",
    "}\n",
    "\n",
    "oof_pred_probs[\"LightGBM (gbdt)\"], test_pred_probs[\"LightGBM (gbdt)\"], scores[\"LightGBM (gbdt)\"] = lgbm_trainer.fit_predict(X, y, X_test, X_original, y_original, fit_args)"
   ]
  },
  {
   "cell_type": "markdown",
   "id": "5b18e3d7",
   "metadata": {
    "papermill": {
     "duration": 0.005694,
     "end_time": "2025-06-19T16:57:54.484548",
     "exception": false,
     "start_time": "2025-06-19T16:57:54.478854",
     "status": "completed"
    },
    "tags": []
   },
   "source": [
    "## LightGBM (goss)"
   ]
  },
  {
   "cell_type": "code",
   "execution_count": 12,
   "id": "6f16f913",
   "metadata": {
    "execution": {
     "iopub.execute_input": "2025-06-19T16:57:54.496837Z",
     "iopub.status.busy": "2025-06-19T16:57:54.496589Z",
     "iopub.status.idle": "2025-06-19T22:47:46.430007Z",
     "shell.execute_reply": "2025-06-19T22:47:46.429134Z"
    },
    "papermill": {
     "duration": 20991.941136,
     "end_time": "2025-06-19T22:47:46.431364",
     "exception": false,
     "start_time": "2025-06-19T16:57:54.490228",
     "status": "completed"
    },
    "tags": []
   },
   "outputs": [
    {
     "name": "stdout",
     "output_type": "stream",
     "text": [
      "Training LGBMClassifier\n",
      "\n",
      "Training until validation scores don't improve for 100 rounds\n",
      "[1000]\tvalid_0's multi_logloss: 1.90762\n",
      "[2000]\tvalid_0's multi_logloss: 1.89665\n",
      "[3000]\tvalid_0's multi_logloss: 1.89233\n",
      "Early stopping, best iteration is:\n",
      "[3707]\tvalid_0's multi_logloss: 1.89157\n",
      "\n",
      "--- Fold 1 - MAP@3: 0.364141\n",
      "\n",
      "\n",
      "Training until validation scores don't improve for 100 rounds\n",
      "[1000]\tvalid_0's multi_logloss: 1.90777\n",
      "[2000]\tvalid_0's multi_logloss: 1.89653\n",
      "[3000]\tvalid_0's multi_logloss: 1.89178\n",
      "Early stopping, best iteration is:\n",
      "[3893]\tvalid_0's multi_logloss: 1.89088\n",
      "\n",
      "--- Fold 2 - MAP@3: 0.365792\n",
      "\n",
      "\n",
      "Training until validation scores don't improve for 100 rounds\n",
      "[1000]\tvalid_0's multi_logloss: 1.90664\n",
      "[2000]\tvalid_0's multi_logloss: 1.89506\n",
      "[3000]\tvalid_0's multi_logloss: 1.8903\n",
      "Early stopping, best iteration is:\n",
      "[3871]\tvalid_0's multi_logloss: 1.88926\n",
      "\n",
      "--- Fold 3 - MAP@3: 0.366259\n",
      "\n",
      "\n",
      "Training until validation scores don't improve for 100 rounds\n",
      "[1000]\tvalid_0's multi_logloss: 1.90785\n",
      "[2000]\tvalid_0's multi_logloss: 1.8968\n",
      "[3000]\tvalid_0's multi_logloss: 1.89245\n",
      "Early stopping, best iteration is:\n",
      "[3718]\tvalid_0's multi_logloss: 1.8917\n",
      "\n",
      "--- Fold 4 - MAP@3: 0.363751\n",
      "\n",
      "\n",
      "Training until validation scores don't improve for 100 rounds\n",
      "[1000]\tvalid_0's multi_logloss: 1.90686\n",
      "[2000]\tvalid_0's multi_logloss: 1.89573\n",
      "[3000]\tvalid_0's multi_logloss: 1.89121\n",
      "Early stopping, best iteration is:\n",
      "[3574]\tvalid_0's multi_logloss: 1.89056\n",
      "\n",
      "--- Fold 5 - MAP@3: 0.365104\n",
      "\n",
      "\n",
      "\n",
      "------ Overall MAP@3: 0.365010 | Average MAP@3: 0.365010 ± 0.000951\n"
     ]
    }
   ],
   "source": [
    "lgb_goss_model = LGBMClassifier(**lgbm_goss_params)\n",
    "lgb_goss_trainer = Trainer(lgb_goss_model)\n",
    "\n",
    "fit_args = {\n",
    "    \"callbacks\": [\n",
    "        log_evaluation(period=1000), \n",
    "        early_stopping(stopping_rounds=100)\n",
    "    ]\n",
    "}\n",
    "\n",
    "oof_pred_probs[\"LightGBM (goss)\"], test_pred_probs[\"LightGBM (goss)\"], scores[\"LightGBM (goss)\"] = lgb_goss_trainer.fit_predict(X, y, X_test, X_original, y_original, fit_args)"
   ]
  },
  {
   "cell_type": "markdown",
   "id": "1cd01382",
   "metadata": {
    "papermill": {
     "duration": 0.00683,
     "end_time": "2025-06-19T22:47:46.446239",
     "exception": false,
     "start_time": "2025-06-19T22:47:46.439409",
     "status": "completed"
    },
    "tags": []
   },
   "source": [
    "## XGBoost"
   ]
  },
  {
   "cell_type": "code",
   "execution_count": 13,
   "id": "cf0e40e7",
   "metadata": {
    "execution": {
     "iopub.execute_input": "2025-06-19T22:47:46.461028Z",
     "iopub.status.busy": "2025-06-19T22:47:46.460822Z",
     "iopub.status.idle": "2025-06-19T23:13:05.154010Z",
     "shell.execute_reply": "2025-06-19T23:13:05.153230Z"
    },
    "papermill": {
     "duration": 1518.702264,
     "end_time": "2025-06-19T23:13:05.155263",
     "exception": false,
     "start_time": "2025-06-19T22:47:46.452999",
     "status": "completed"
    },
    "tags": []
   },
   "outputs": [
    {
     "name": "stdout",
     "output_type": "stream",
     "text": [
      "Training XGBClassifier\n",
      "\n",
      "[0]\tvalidation_0-mlogloss:1.94553\n",
      "[912]\tvalidation_0-mlogloss:1.88990\n",
      "\n",
      "--- Fold 1 - MAP@3: 0.366436\n",
      "\n",
      "\n",
      "[0]\tvalidation_0-mlogloss:1.94553\n",
      "[894]\tvalidation_0-mlogloss:1.88908\n",
      "\n",
      "--- Fold 2 - MAP@3: 0.366754\n",
      "\n",
      "\n",
      "[0]\tvalidation_0-mlogloss:1.94553\n",
      "[946]\tvalidation_0-mlogloss:1.88769\n",
      "\n",
      "--- Fold 3 - MAP@3: 0.368023\n",
      "\n",
      "\n",
      "[0]\tvalidation_0-mlogloss:1.94553\n",
      "[870]\tvalidation_0-mlogloss:1.89012\n",
      "\n",
      "--- Fold 4 - MAP@3: 0.365927\n",
      "\n",
      "\n",
      "[0]\tvalidation_0-mlogloss:1.94552\n",
      "[882]\tvalidation_0-mlogloss:1.88863\n",
      "\n",
      "--- Fold 5 - MAP@3: 0.366706\n",
      "\n",
      "\n",
      "\n",
      "------ Overall MAP@3: 0.366769 | Average MAP@3: 0.366769 ± 0.000693\n"
     ]
    }
   ],
   "source": [
    "xgb_model = XGBClassifier(**xgb_params)\n",
    "xgb_trainer = Trainer(xgb_model)\n",
    "\n",
    "fit_args = {\n",
    "    \"verbose\": 1000\n",
    "}\n",
    "\n",
    "oof_pred_probs[\"XGBoost\"], test_pred_probs[\"XGBoost\"], scores[\"XGBoost\"] = xgb_trainer.fit_predict(X, y, X_test, X_original, y_original, fit_args)"
   ]
  },
  {
   "cell_type": "markdown",
   "id": "334ea94f",
   "metadata": {
    "papermill": {
     "duration": 0.007737,
     "end_time": "2025-06-19T23:13:05.171379",
     "exception": false,
     "start_time": "2025-06-19T23:13:05.163642",
     "status": "completed"
    },
    "tags": []
   },
   "source": [
    "## AutoGluon"
   ]
  },
  {
   "cell_type": "code",
   "execution_count": 14,
   "id": "e0df5f76",
   "metadata": {
    "execution": {
     "iopub.execute_input": "2025-06-19T23:13:05.187859Z",
     "iopub.status.busy": "2025-06-19T23:13:05.187636Z",
     "iopub.status.idle": "2025-06-19T23:13:07.995100Z",
     "shell.execute_reply": "2025-06-19T23:13:07.994548Z"
    },
    "papermill": {
     "duration": 2.817459,
     "end_time": "2025-06-19T23:13:07.996437",
     "exception": false,
     "start_time": "2025-06-19T23:13:05.178978",
     "status": "completed"
    },
    "tags": []
   },
   "outputs": [],
   "source": [
    "oof_preds_files = glob.glob(f'/kaggle/input/s05e06-fertilizer-optimization-autogluon/*_oof_pred_probs_*.pkl')\n",
    "test_preds_files = glob.glob(f'/kaggle/input/s05e06-fertilizer-optimization-autogluon/*_test_pred_probs_*.pkl')\n",
    "\n",
    "ag_oof_preds = joblib.load(oof_preds_files[0])\n",
    "ag_test_preds = joblib.load(test_preds_files[0])\n",
    "\n",
    "ag_scores = []\n",
    "split = StratifiedKFold(n_splits=CFG.n_folds, random_state=CFG.seed, shuffle=True).split(X, y)\n",
    "for _, val_idx in split:\n",
    "    y_val = y[val_idx]\n",
    "    y_preds = ag_oof_preds[val_idx]\n",
    "    score = map3(y_val, y_preds)\n",
    "    ag_scores.append(score)\n",
    "    \n",
    "oof_pred_probs[\"AutoGluon\"], test_pred_probs[\"AutoGluon\"], scores[\"AutoGluon\"] = ag_oof_preds, ag_test_preds, ag_scores"
   ]
  },
  {
   "cell_type": "markdown",
   "id": "caebb7b0",
   "metadata": {
    "papermill": {
     "duration": 0.007781,
     "end_time": "2025-06-19T23:13:08.012516",
     "exception": false,
     "start_time": "2025-06-19T23:13:08.004735",
     "status": "completed"
    },
    "tags": []
   },
   "source": [
    "## LogisticRegression"
   ]
  },
  {
   "cell_type": "code",
   "execution_count": 15,
   "id": "2c1cbe5c",
   "metadata": {
    "_kg_hide-input": true,
    "execution": {
     "iopub.execute_input": "2025-06-19T23:13:08.028578Z",
     "iopub.status.busy": "2025-06-19T23:13:08.028306Z",
     "iopub.status.idle": "2025-06-19T23:24:51.439878Z",
     "shell.execute_reply": "2025-06-19T23:24:51.439247Z"
    },
    "papermill": {
     "duration": 703.421286,
     "end_time": "2025-06-19T23:24:51.441269",
     "exception": false,
     "start_time": "2025-06-19T23:13:08.019983",
     "status": "completed"
    },
    "tags": []
   },
   "outputs": [
    {
     "name": "stderr",
     "output_type": "stream",
     "text": [
      "100%|██████████| 56/56 [11:26<00:00, 12.26s/it]\n"
     ]
    }
   ],
   "source": [
    "# https://www.kaggle.com/competitions/playground-series-s5e6/discussion/585144\n",
    "\n",
    "from itertools import combinations\n",
    "from sklearn.preprocessing import LabelEncoder\n",
    "from sklearn.metrics import mutual_info_score\n",
    "from sklearn.utils.parallel import Parallel, delayed\n",
    "from tqdm import tqdm\n",
    "from sklearn.preprocessing import OneHotEncoder\n",
    "from sklearn.pipeline import make_pipeline\n",
    "from sklearn.linear_model import LogisticRegression\n",
    "from sklearn.base import BaseEstimator, ClassifierMixin, clone\n",
    "\n",
    "X = pd.read_csv(CFG.train_path, index_col='id')\n",
    "X_test = pd.read_csv(CFG.test_path, index_col='id')\n",
    "\n",
    "le = LabelEncoder()\n",
    "y = X.pop('Fertilizer Name')\n",
    "y = le.fit_transform(y)\n",
    "\n",
    "X = X.astype(str)\n",
    "X_test = X_test.astype(str)\n",
    "\n",
    "def adjusted_mutual_info(x, y, n_iter=5):\n",
    "    x, y = x.astype(str), y.astype(str)\n",
    "    m0 = mutual_info_score(x, y)\n",
    "    m1 = Parallel(n_jobs=-1)(\n",
    "        delayed(lambda rs: mutual_info_score(\n",
    "            y, np.random.default_rng(rs).permutation(x)\n",
    "        ))(rs)\n",
    "        for rs in range(n_iter)\n",
    "    )\n",
    "    return m0 - np.mean(m1)\n",
    "\n",
    "mi = {}\n",
    "e =  mutual_info_score(y, y)\n",
    "for c1, c2, c3 in tqdm(list(combinations(list(X.columns), 3))):\n",
    "    c = c1+'_'+c2+'_'+c3\n",
    "    mi[c] = adjusted_mutual_info(X[c1]+'_'+X[c2]+'_'+X[c3], y)/e\n",
    "\n",
    "comb3 = sorted(mi, key=mi.get, reverse=True)\n",
    "\n",
    "def Augmented(model, X_o, y_o, weight_arg='sample_weight', weight=1.0):\n",
    "    class AugmentedModel(ClassifierMixin, BaseEstimator):\n",
    "        def fit(self, X, y):\n",
    "            sample_weight = np.array([1.0]*len(X)+[weight]*len(X_o))\n",
    "            X = pd.concat([X, X_o])\n",
    "            y = np.concatenate([y, y_o])\n",
    "            self.m = clone(model).fit(X, y, **{weight_arg: sample_weight})\n",
    "            self.classes_ = self.m.classes_\n",
    "            return self\n",
    "        def predict_proba(self, X):\n",
    "            return self.m.predict_proba(X)\n",
    "    return AugmentedModel()\n",
    "\n",
    "X_o = pd.read_csv(CFG.original_path)\n",
    "y_o = le.transform(X_o.pop('Fertilizer Name'))\n",
    "\n",
    "X_all = pd.concat([X, X_o]).astype(str)\n",
    "\n",
    "X_all_e = X_all.copy()\n",
    "X_test_e = X_test.copy()\n",
    "for c1, c2 in combinations(X_all.columns, 2):\n",
    "    X_all_e[c1+'_'+c2] = X_all[c1]+'_'+X_all[c2]\n",
    "    X_test_e[c1+'_'+c2] = X_test[c1]+'_'+X_test[c2]\n",
    "\n",
    "topk = 25\n",
    "for c1_c2_c3 in comb3[:topk]:\n",
    "    c1, c2, c3 = c1_c2_c3.split('_')\n",
    "    X_all_e[c1_c2_c3] = X_all[c1]+'_'+X_all[c2]+'_'+X_all[c3]\n",
    "    X_test_e[c1_c2_c3] = X_test[c1]+'_'+X_test[c2]+'_'+X_test[c3]\n",
    "\n",
    "X_e = X_all_e.iloc[:len(X)]\n",
    "X_o_e = X_all_e.iloc[len(X):]"
   ]
  },
  {
   "cell_type": "code",
   "execution_count": 16,
   "id": "89cc8df4",
   "metadata": {
    "execution": {
     "iopub.execute_input": "2025-06-19T23:24:51.463022Z",
     "iopub.status.busy": "2025-06-19T23:24:51.462788Z",
     "iopub.status.idle": "2025-06-19T23:45:51.650793Z",
     "shell.execute_reply": "2025-06-19T23:45:51.649774Z"
    },
    "papermill": {
     "duration": 1260.200153,
     "end_time": "2025-06-19T23:45:51.652111",
     "exception": false,
     "start_time": "2025-06-19T23:24:51.451958",
     "status": "completed"
    },
    "tags": []
   },
   "outputs": [
    {
     "name": "stdout",
     "output_type": "stream",
     "text": [
      "Training AugmentedModel\n",
      "\n",
      "--- Fold 1 - MAP@3: 0.374382\n",
      "--- Fold 2 - MAP@3: 0.373953\n",
      "--- Fold 3 - MAP@3: 0.376254\n",
      "--- Fold 4 - MAP@3: 0.373357\n",
      "--- Fold 5 - MAP@3: 0.375070\n",
      "\n",
      "------ Overall MAP@3: 0.374603 | Average MAP@3: 0.374603 ± 0.000997\n"
     ]
    }
   ],
   "source": [
    "lr_model = Augmented(\n",
    "    make_pipeline(\n",
    "        OneHotEncoder(handle_unknown='ignore'),\n",
    "        LogisticRegression(C=1e-2, max_iter=10000, random_state=0)\n",
    "    ), X_o_e, y_o, weight_arg='logisticregression__sample_weight', \n",
    "    weight=4.0\n",
    ")\n",
    "\n",
    "lr_trainer = Trainer(lr_model)\n",
    "oof_pred_probs[\"LogisticRegression\"], test_pred_probs[\"LogisticRegression\"], scores[\"LogisticRegression\"] = lr_trainer.fit_predict(X_e, y, X_test_e)"
   ]
  },
  {
   "cell_type": "markdown",
   "id": "084559da",
   "metadata": {
    "papermill": {
     "duration": 0.01009,
     "end_time": "2025-06-19T23:45:51.673020",
     "exception": false,
     "start_time": "2025-06-19T23:45:51.662930",
     "status": "completed"
    },
    "tags": []
   },
   "source": [
    "# Ensembling with LogisticRegression"
   ]
  },
  {
   "cell_type": "code",
   "execution_count": 17,
   "id": "d03fdca3",
   "metadata": {
    "execution": {
     "iopub.execute_input": "2025-06-19T23:45:51.693922Z",
     "iopub.status.busy": "2025-06-19T23:45:51.693492Z",
     "iopub.status.idle": "2025-06-19T23:45:51.927055Z",
     "shell.execute_reply": "2025-06-19T23:45:51.926442Z"
    },
    "papermill": {
     "duration": 0.245392,
     "end_time": "2025-06-19T23:45:51.928350",
     "exception": false,
     "start_time": "2025-06-19T23:45:51.682958",
     "status": "completed"
    },
    "tags": []
   },
   "outputs": [],
   "source": [
    "X = pd.DataFrame(np.concatenate(list(oof_pred_probs.values()), axis=1))\n",
    "X_test = pd.DataFrame(np.concatenate(list(test_pred_probs.values()), axis=1))"
   ]
  },
  {
   "cell_type": "code",
   "execution_count": 18,
   "id": "5932f17a",
   "metadata": {
    "execution": {
     "iopub.execute_input": "2025-06-19T23:45:51.950600Z",
     "iopub.status.busy": "2025-06-19T23:45:51.950099Z",
     "iopub.status.idle": "2025-06-19T23:45:52.202838Z",
     "shell.execute_reply": "2025-06-19T23:45:52.202140Z"
    },
    "papermill": {
     "duration": 0.264817,
     "end_time": "2025-06-19T23:45:52.204116",
     "exception": false,
     "start_time": "2025-06-19T23:45:51.939299",
     "status": "completed"
    },
    "tags": []
   },
   "outputs": [
    {
     "data": {
      "text/plain": [
       "['test_pred_probs.pkl']"
      ]
     },
     "execution_count": 18,
     "metadata": {},
     "output_type": "execute_result"
    }
   ],
   "source": [
    "joblib.dump(X, \"oof_pred_probs.pkl\")\n",
    "joblib.dump(X_test, \"test_pred_probs.pkl\")"
   ]
  },
  {
   "cell_type": "code",
   "execution_count": 19,
   "id": "8008b90f",
   "metadata": {
    "execution": {
     "iopub.execute_input": "2025-06-19T23:45:52.225869Z",
     "iopub.status.busy": "2025-06-19T23:45:52.225657Z",
     "iopub.status.idle": "2025-06-19T23:48:31.793976Z",
     "shell.execute_reply": "2025-06-19T23:48:31.793136Z"
    },
    "papermill": {
     "duration": 159.580409,
     "end_time": "2025-06-19T23:48:31.795239",
     "exception": false,
     "start_time": "2025-06-19T23:45:52.214830",
     "status": "completed"
    },
    "tags": []
   },
   "outputs": [
    {
     "name": "stdout",
     "output_type": "stream",
     "text": [
      "Training LogisticRegression\n",
      "\n",
      "--- Fold 1 - MAP@3: 0.376622\n",
      "--- Fold 2 - MAP@3: 0.376541\n",
      "--- Fold 3 - MAP@3: 0.378674\n",
      "--- Fold 4 - MAP@3: 0.375822\n",
      "--- Fold 5 - MAP@3: 0.377367\n",
      "\n",
      "------ Overall MAP@3: 0.377005 | Average MAP@3: 0.377005 ± 0.000967\n"
     ]
    }
   ],
   "source": [
    "lr_model = LogisticRegression(\n",
    "    random_state=42, \n",
    "    max_iter=1000, \n",
    "    solver='liblinear', \n",
    "    penalty='l2', \n",
    "    C=32.89802104596641,\n",
    "    tol=0.0029878837974181643,\n",
    "    fit_intercept=True\n",
    ") \n",
    "lr_trainer = Trainer(lr_model)\n",
    "_, lr_test_pred_probs, scores[\"Ensemble\"] = lr_trainer.fit_predict(X, y, X_test)"
   ]
  },
  {
   "cell_type": "code",
   "execution_count": 20,
   "id": "76cfce46",
   "metadata": {
    "execution": {
     "iopub.execute_input": "2025-06-19T23:48:31.817574Z",
     "iopub.status.busy": "2025-06-19T23:48:31.817240Z",
     "iopub.status.idle": "2025-06-19T23:48:52.927276Z",
     "shell.execute_reply": "2025-06-19T23:48:52.926686Z"
    },
    "papermill": {
     "duration": 21.122328,
     "end_time": "2025-06-19T23:48:52.928645",
     "exception": false,
     "start_time": "2025-06-19T23:48:31.806317",
     "status": "completed"
    },
    "tags": []
   },
   "outputs": [],
   "source": [
    "final_predictions = []\n",
    "for i in np.argsort(lr_test_pred_probs)[:, -3:][:, ::-1]:\n",
    "    prediction = label_encoder.inverse_transform(i)\n",
    "    final_predictions.append(\" \".join(prediction))"
   ]
  },
  {
   "cell_type": "code",
   "execution_count": 21,
   "id": "f47efb89",
   "metadata": {
    "execution": {
     "iopub.execute_input": "2025-06-19T23:48:52.950968Z",
     "iopub.status.busy": "2025-06-19T23:48:52.950767Z",
     "iopub.status.idle": "2025-06-19T23:48:53.391818Z",
     "shell.execute_reply": "2025-06-19T23:48:53.391054Z"
    },
    "papermill": {
     "duration": 0.453321,
     "end_time": "2025-06-19T23:48:53.393085",
     "exception": false,
     "start_time": "2025-06-19T23:48:52.939764",
     "status": "completed"
    },
    "tags": []
   },
   "outputs": [
    {
     "data": {
      "text/html": [
       "<div>\n",
       "<style scoped>\n",
       "    .dataframe tbody tr th:only-of-type {\n",
       "        vertical-align: middle;\n",
       "    }\n",
       "\n",
       "    .dataframe tbody tr th {\n",
       "        vertical-align: top;\n",
       "    }\n",
       "\n",
       "    .dataframe thead th {\n",
       "        text-align: right;\n",
       "    }\n",
       "</style>\n",
       "<table border=\"1\" class=\"dataframe\">\n",
       "  <thead>\n",
       "    <tr style=\"text-align: right;\">\n",
       "      <th></th>\n",
       "      <th>id</th>\n",
       "      <th>Fertilizer Name</th>\n",
       "    </tr>\n",
       "  </thead>\n",
       "  <tbody>\n",
       "    <tr>\n",
       "      <th>0</th>\n",
       "      <td>750000</td>\n",
       "      <td>10-26-26 20-20 DAP</td>\n",
       "    </tr>\n",
       "    <tr>\n",
       "      <th>1</th>\n",
       "      <td>750001</td>\n",
       "      <td>17-17-17 28-28 10-26-26</td>\n",
       "    </tr>\n",
       "    <tr>\n",
       "      <th>2</th>\n",
       "      <td>750002</td>\n",
       "      <td>20-20 Urea DAP</td>\n",
       "    </tr>\n",
       "    <tr>\n",
       "      <th>3</th>\n",
       "      <td>750003</td>\n",
       "      <td>14-35-14 17-17-17 Urea</td>\n",
       "    </tr>\n",
       "    <tr>\n",
       "      <th>4</th>\n",
       "      <td>750004</td>\n",
       "      <td>Urea 20-20 28-28</td>\n",
       "    </tr>\n",
       "  </tbody>\n",
       "</table>\n",
       "</div>"
      ],
      "text/plain": [
       "       id          Fertilizer Name\n",
       "0  750000       10-26-26 20-20 DAP\n",
       "1  750001  17-17-17 28-28 10-26-26\n",
       "2  750002           20-20 Urea DAP\n",
       "3  750003   14-35-14 17-17-17 Urea\n",
       "4  750004         Urea 20-20 28-28"
      ]
     },
     "execution_count": 21,
     "metadata": {},
     "output_type": "execute_result"
    }
   ],
   "source": [
    "sub = pd.read_csv(CFG.sample_sub_path)\n",
    "sub[CFG.target] = final_predictions\n",
    "sub.to_csv(f\"sub_logistic-regression_{np.mean(scores['Ensemble']):.6f}.csv\", index=False)\n",
    "sub.head()"
   ]
  },
  {
   "cell_type": "markdown",
   "id": "0e7a75da",
   "metadata": {
    "papermill": {
     "duration": 0.010454,
     "end_time": "2025-06-19T23:48:53.414700",
     "exception": false,
     "start_time": "2025-06-19T23:48:53.404246",
     "status": "completed"
    },
    "tags": []
   },
   "source": [
    "# Results"
   ]
  },
  {
   "cell_type": "code",
   "execution_count": 22,
   "id": "292352bf",
   "metadata": {
    "execution": {
     "iopub.execute_input": "2025-06-19T23:48:53.436935Z",
     "iopub.status.busy": "2025-06-19T23:48:53.436715Z",
     "iopub.status.idle": "2025-06-19T23:48:53.855196Z",
     "shell.execute_reply": "2025-06-19T23:48:53.854587Z"
    },
    "papermill": {
     "duration": 0.431256,
     "end_time": "2025-06-19T23:48:53.856493",
     "exception": false,
     "start_time": "2025-06-19T23:48:53.425237",
     "status": "completed"
    },
    "tags": []
   },
   "outputs": [
    {
     "data": {
      "image/png": "[encoded data removed]",
      "text/plain": [
       "<Figure size 1500x240 with 2 Axes>"
      ]
     },
     "metadata": {},
     "output_type": "display_data"
    }
   ],
   "source": [
    "scores = pd.DataFrame(scores)\n",
    "mean_scores = scores.mean().sort_values(ascending=False)\n",
    "order = scores.mean().sort_values(ascending=False).index.tolist()\n",
    "\n",
    "min_score = mean_scores.min()\n",
    "max_score = mean_scores.max()\n",
    "padding = (max_score - min_score) * 0.5\n",
    "lower_limit = min_score - padding\n",
    "upper_limit = max_score + padding\n",
    "\n",
    "fig, axs = plt.subplots(1, 2, figsize=(15, scores.shape[1] * 0.4))\n",
    "\n",
    "boxplot = sns.boxplot(data=scores, order=order, ax=axs[0], orient=\"h\", color=\"grey\")\n",
    "axs[0].set_title(f\"Fold MAP@3\")\n",
    "axs[0].set_xlabel(\"\")\n",
    "axs[0].set_ylabel(\"\")\n",
    "\n",
    "barplot = sns.barplot(x=mean_scores.values, y=mean_scores.index, ax=axs[1], color=\"grey\")\n",
    "axs[1].set_title(f\"Mean MAP@3\")\n",
    "axs[1].set_xlabel(\"\")\n",
    "axs[1].set_xlim(left=lower_limit, right=upper_limit)\n",
    "axs[1].set_ylabel(\"\")\n",
    "\n",
    "for i, (score, model) in enumerate(zip(mean_scores.values, mean_scores.index)):\n",
    "    color = \"cyan\" if \"ensemble\" in model.lower() else \"grey\"\n",
    "    barplot.patches[i].set_facecolor(color)\n",
    "    boxplot.patches[i].set_facecolor(color)\n",
    "    barplot.text(score, i, round(score, 6), va=\"center\")\n",
    "\n",
    "plt.tight_layout()\n",
    "plt.show()"
   ]
  },
  {
   "cell_type": "code",
   "execution_count": 23,
   "id": "a8363699",
   "metadata": {
    "execution": {
     "iopub.execute_input": "2025-06-19T23:48:53.880324Z",
     "iopub.status.busy": "2025-06-19T23:48:53.880102Z",
     "iopub.status.idle": "2025-06-19T23:48:53.883248Z",
     "shell.execute_reply": "2025-06-19T23:48:53.882763Z"
    },
    "papermill": {
     "duration": 0.016108,
     "end_time": "2025-06-19T23:48:53.884239",
     "exception": false,
     "start_time": "2025-06-19T23:48:53.868131",
     "status": "completed"
    },
    "tags": []
   },
   "outputs": [],
   "source": [
    "shutil.rmtree(\"catboost_info\", ignore_errors=True)"
   ]
  }
 ],
 "metadata": {
  "kaggle": {
   "accelerator": "gpu",
   "dataSources": [
    {
     "databundleVersionId": 12184666,
     "sourceId": 91717,
     "sourceType": "competition"
    },
    {
     "datasetId": 7269189,
     "sourceId": 11592231,
     "sourceType": "datasetVersion"
    },
    {
     "sourceId": 245085625,
     "sourceType": "kernelVersion"
    }
   ],
   "dockerImageVersionId": 31041,
   "isGpuEnabled": true,
   "isInternetEnabled": true,
   "language": "python",
   "sourceType": "notebook"
  },
  "kernelspec": {
   "display_name": "Python 3",
   "language": "python",
   "name": "python3"
  },
  "language_info": {
   "codemirror_mode": {
    "name": "ipython",
    "version": 3
   },
   "file_extension": ".py",
   "mimetype": "text/x-python",
   "name": "python",
   "nbconvert_exporter": "python",
   "pygments_lexer": "ipython3",
   "version": "3.11.11"
  },
  "papermill": {
   "default_parameters": {},
   "duration": 34030.79542,
   "end_time": "2025-06-19T23:48:57.139785",
   "environment_variables": {},
   "exception": null,
   "input_path": "__notebook__.ipynb",
   "output_path": "__notebook__.ipynb",
   "parameters": {},
   "start_time": "2025-06-19T14:21:46.344365",
   "version": "2.6.0"
  }
 },
 "nbformat": 4,
 "nbformat_minor": 5
}
