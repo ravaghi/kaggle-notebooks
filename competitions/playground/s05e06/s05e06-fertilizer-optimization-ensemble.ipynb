{
 "cells": [
  {
   "cell_type": "markdown",
   "id": "f724b04a",
   "metadata": {
    "papermill": {
     "duration": 0.004012,
     "end_time": "2025-06-02T09:25:42.082398",
     "exception": false,
     "start_time": "2025-06-02T09:25:42.078386",
     "status": "completed"
    },
    "tags": []
   },
   "source": [
    "# Imports and configs"
   ]
  },
  {
   "cell_type": "code",
   "execution_count": 1,
   "id": "8d00d817",
   "metadata": {
    "_kg_hide-output": true,
    "execution": {
     "iopub.execute_input": "2025-06-02T09:25:42.089699Z",
     "iopub.status.busy": "2025-06-02T09:25:42.089441Z",
     "iopub.status.idle": "2025-06-02T09:25:49.265827Z",
     "shell.execute_reply": "2025-06-02T09:25:49.265118Z"
    },
    "papermill": {
     "duration": 7.18161,
     "end_time": "2025-06-02T09:25:49.267228",
     "exception": false,
     "start_time": "2025-06-02T09:25:42.085618",
     "status": "completed"
    },
    "tags": []
   },
   "outputs": [
    {
     "name": "stdout",
     "output_type": "stream",
     "text": [
      "\u001b[2K   \u001b[90m━━━━━━━━━━━━━━━━━━━━━━━━━━━━━━━━━━━━━━━━\u001b[0m \u001b[32m13.3/13.3 MB\u001b[0m \u001b[31m99.9 MB/s\u001b[0m eta \u001b[36m0:00:00\u001b[0m\r\n",
      "\u001b[?25h\u001b[31mERROR: pip's dependency resolver does not currently take into account all the packages that are installed. This behaviour is the source of the following dependency conflicts.\r\n",
      "cesium 0.12.4 requires numpy<3.0,>=2.0, but you have numpy 1.26.4 which is incompatible.\u001b[0m\u001b[31m\r\n",
      "\u001b[0m"
     ]
    }
   ],
   "source": [
    "!pip install -q scikit-learn==1.5.2"
   ]
  },
  {
   "cell_type": "code",
   "execution_count": 2,
   "id": "afc7fbbd",
   "metadata": {
    "execution": {
     "iopub.execute_input": "2025-06-02T09:25:49.275532Z",
     "iopub.status.busy": "2025-06-02T09:25:49.275295Z",
     "iopub.status.idle": "2025-06-02T09:25:56.499395Z",
     "shell.execute_reply": "2025-06-02T09:25:56.498591Z"
    },
    "papermill": {
     "duration": 7.229918,
     "end_time": "2025-06-02T09:25:56.500890",
     "exception": false,
     "start_time": "2025-06-02T09:25:49.270972",
     "status": "completed"
    },
    "tags": []
   },
   "outputs": [],
   "source": [
    "from lightgbm import LGBMClassifier, log_evaluation, early_stopping\n",
    "from sklearn.feature_selection import mutual_info_classif\n",
    "from sklearn.linear_model import LogisticRegression\n",
    "from sklearn.model_selection import StratifiedKFold\n",
    "from sklearn.preprocessing import LabelEncoder\n",
    "from sklearn.base import clone\n",
    "from catboost import CatBoostClassifier\n",
    "from xgboost import XGBClassifier\n",
    "import matplotlib.pyplot as plt\n",
    "import seaborn as sns\n",
    "import pandas as pd\n",
    "import numpy as np\n",
    "import warnings\n",
    "import joblib\n",
    "import optuna\n",
    "import shutil\n",
    "import json\n",
    "import gc\n",
    "\n",
    "warnings.filterwarnings(\"ignore\")"
   ]
  },
  {
   "cell_type": "code",
   "execution_count": 3,
   "id": "d5f6264e",
   "metadata": {
    "execution": {
     "iopub.execute_input": "2025-06-02T09:25:56.509158Z",
     "iopub.status.busy": "2025-06-02T09:25:56.508727Z",
     "iopub.status.idle": "2025-06-02T09:25:56.512687Z",
     "shell.execute_reply": "2025-06-02T09:25:56.512144Z"
    },
    "papermill": {
     "duration": 0.009158,
     "end_time": "2025-06-02T09:25:56.513742",
     "exception": false,
     "start_time": "2025-06-02T09:25:56.504584",
     "status": "completed"
    },
    "tags": []
   },
   "outputs": [],
   "source": [
    "class CFG:\n",
    "    train_path = \"/kaggle/input/playground-series-s5e6/train.csv\"\n",
    "    test_path = \"/kaggle/input/playground-series-s5e6/test.csv\"\n",
    "    sample_sub_path = \"/kaggle/input/playground-series-s5e6/sample_submission.csv\"\n",
    "    \n",
    "    target = \"Fertilizer Name\"\n",
    "    n_folds = 5\n",
    "    seed = 42\n",
    "    \n",
    "    run_optuna = False\n",
    "    n_optuna_trials = 250"
   ]
  },
  {
   "cell_type": "markdown",
   "id": "eb465242",
   "metadata": {
    "papermill": {
     "duration": 0.003081,
     "end_time": "2025-06-02T09:25:56.520155",
     "exception": false,
     "start_time": "2025-06-02T09:25:56.517074",
     "status": "completed"
    },
    "tags": []
   },
   "source": [
    "# Data loading and preprocessing"
   ]
  },
  {
   "cell_type": "code",
   "execution_count": 4,
   "id": "57af3e84",
   "metadata": {
    "execution": {
     "iopub.execute_input": "2025-06-02T09:25:56.527335Z",
     "iopub.status.busy": "2025-06-02T09:25:56.527123Z",
     "iopub.status.idle": "2025-06-02T09:25:58.059498Z",
     "shell.execute_reply": "2025-06-02T09:25:58.058885Z"
    },
    "papermill": {
     "duration": 1.537559,
     "end_time": "2025-06-02T09:25:58.060940",
     "exception": false,
     "start_time": "2025-06-02T09:25:56.523381",
     "status": "completed"
    },
    "tags": []
   },
   "outputs": [],
   "source": [
    "train = pd.read_csv(CFG.train_path, index_col=\"id\")\n",
    "test = pd.read_csv(CFG.test_path, index_col=\"id\")\n",
    "\n",
    "cat_cols = train.select_dtypes(include=\"object\").columns.tolist()\n",
    "cat_cols = [c for c in cat_cols if c != CFG.target]\n",
    "train[cat_cols] = train[cat_cols].astype(str).astype(\"category\")\n",
    "test[cat_cols] = test[cat_cols].astype(str).astype(\"category\")\n",
    "\n",
    "label_encoder = LabelEncoder()\n",
    "train[CFG.target] = label_encoder.fit_transform(train[CFG.target])\n",
    "\n",
    "X = train.drop(CFG.target, axis=1)\n",
    "y = train[CFG.target]\n",
    "X_test = test"
   ]
  },
  {
   "cell_type": "code",
   "execution_count": 5,
   "id": "b69f4022",
   "metadata": {
    "execution": {
     "iopub.execute_input": "2025-06-02T09:25:58.069174Z",
     "iopub.status.busy": "2025-06-02T09:25:58.068885Z",
     "iopub.status.idle": "2025-06-02T09:26:02.772560Z",
     "shell.execute_reply": "2025-06-02T09:26:02.771796Z"
    },
    "papermill": {
     "duration": 4.709221,
     "end_time": "2025-06-02T09:26:02.773759",
     "exception": false,
     "start_time": "2025-06-02T09:25:58.064538",
     "status": "completed"
    },
    "tags": []
   },
   "outputs": [
    {
     "data": {
      "text/html": [
       "<style type=\"text/css\">\n",
       "#T_531d1_row0_col0 {\n",
       "  width: 10em;\n",
       "  background: linear-gradient(90deg, #006837 100.0%, transparent 100.0%);\n",
       "}\n",
       "#T_531d1_row1_col0 {\n",
       "  width: 10em;\n",
       "  background: linear-gradient(90deg, #199750 90.2%, transparent 90.2%);\n",
       "}\n",
       "#T_531d1_row2_col0 {\n",
       "  width: 10em;\n",
       "  background: linear-gradient(90deg, #9bd469 71.7%, transparent 71.7%);\n",
       "}\n",
       "#T_531d1_row3_col0 {\n",
       "  width: 10em;\n",
       "  background: linear-gradient(90deg, #c9e881 63.1%, transparent 63.1%);\n",
       "}\n",
       "#T_531d1_row4_col0 {\n",
       "  width: 10em;\n",
       "  background: linear-gradient(90deg, #fee491 41.3%, transparent 41.3%);\n",
       "}\n",
       "#T_531d1_row5_col0 {\n",
       "  width: 10em;\n",
       "  background: linear-gradient(90deg, #fdb163 30.7%, transparent 30.7%);\n",
       "}\n",
       "#T_531d1_row6_col0 {\n",
       "  width: 10em;\n",
       "  background: linear-gradient(90deg, #fca85e 29.2%, transparent 29.2%);\n",
       "}\n",
       "#T_531d1_row7_col0 {\n",
       "  width: 10em;\n",
       "  background: linear-gradient(90deg, #ef633f 18.6%, transparent 18.6%);\n",
       "}\n",
       "</style>\n",
       "<table id=\"T_531d1\">\n",
       "  <thead>\n",
       "    <tr>\n",
       "      <th class=\"blank level0\" >&nbsp;</th>\n",
       "      <th id=\"T_531d1_level0_col0\" class=\"col_heading level0 col0\" >Mutual Information</th>\n",
       "    </tr>\n",
       "  </thead>\n",
       "  <tbody>\n",
       "    <tr>\n",
       "      <th id=\"T_531d1_level0_row0\" class=\"row_heading level0 row0\" >Moisture</th>\n",
       "      <td id=\"T_531d1_row0_col0\" class=\"data row0 col0\" >0.003308</td>\n",
       "    </tr>\n",
       "    <tr>\n",
       "      <th id=\"T_531d1_level0_row1\" class=\"row_heading level0 row1\" >Phosphorous</th>\n",
       "      <td id=\"T_531d1_row1_col0\" class=\"data row1 col0\" >0.002984</td>\n",
       "    </tr>\n",
       "    <tr>\n",
       "      <th id=\"T_531d1_level0_row2\" class=\"row_heading level0 row2\" >Nitrogen</th>\n",
       "      <td id=\"T_531d1_row2_col0\" class=\"data row2 col0\" >0.002373</td>\n",
       "    </tr>\n",
       "    <tr>\n",
       "      <th id=\"T_531d1_level0_row3\" class=\"row_heading level0 row3\" >Crop Type</th>\n",
       "      <td id=\"T_531d1_row3_col0\" class=\"data row3 col0\" >0.002088</td>\n",
       "    </tr>\n",
       "    <tr>\n",
       "      <th id=\"T_531d1_level0_row4\" class=\"row_heading level0 row4\" >Potassium</th>\n",
       "      <td id=\"T_531d1_row4_col0\" class=\"data row4 col0\" >0.001367</td>\n",
       "    </tr>\n",
       "    <tr>\n",
       "      <th id=\"T_531d1_level0_row5\" class=\"row_heading level0 row5\" >Humidity</th>\n",
       "      <td id=\"T_531d1_row5_col0\" class=\"data row5 col0\" >0.001015</td>\n",
       "    </tr>\n",
       "    <tr>\n",
       "      <th id=\"T_531d1_level0_row6\" class=\"row_heading level0 row6\" >Temparature</th>\n",
       "      <td id=\"T_531d1_row6_col0\" class=\"data row6 col0\" >0.000966</td>\n",
       "    </tr>\n",
       "    <tr>\n",
       "      <th id=\"T_531d1_level0_row7\" class=\"row_heading level0 row7\" >Soil Type</th>\n",
       "      <td id=\"T_531d1_row7_col0\" class=\"data row7 col0\" >0.000617</td>\n",
       "    </tr>\n",
       "  </tbody>\n",
       "</table>\n"
      ],
      "text/plain": [
       "<pandas.io.formats.style.Styler at 0x7f9878f16b90>"
      ]
     },
     "execution_count": 5,
     "metadata": {},
     "output_type": "execute_result"
    }
   ],
   "source": [
    "mutual_info = mutual_info_classif(X, y, random_state=CFG.seed, discrete_features=True)\n",
    "\n",
    "mutual_info = pd.Series(mutual_info)\n",
    "mutual_info.index = X.columns\n",
    "mutual_info = pd.DataFrame(mutual_info.sort_values(ascending=False), columns=['Mutual Information'])\n",
    "mutual_info.style.bar(subset=['Mutual Information'], cmap='RdYlGn')"
   ]
  },
  {
   "cell_type": "markdown",
   "id": "569c2a9b",
   "metadata": {
    "papermill": {
     "duration": 0.003513,
     "end_time": "2025-06-02T09:26:02.781089",
     "exception": false,
     "start_time": "2025-06-02T09:26:02.777576",
     "status": "completed"
    },
    "tags": []
   },
   "source": [
    "# Training base models"
   ]
  },
  {
   "cell_type": "code",
   "execution_count": 6,
   "id": "0a9e874f",
   "metadata": {
    "execution": {
     "iopub.execute_input": "2025-06-02T09:26:02.788945Z",
     "iopub.status.busy": "2025-06-02T09:26:02.788699Z",
     "iopub.status.idle": "2025-06-02T09:26:02.793596Z",
     "shell.execute_reply": "2025-06-02T09:26:02.793064Z"
    },
    "papermill": {
     "duration": 0.009938,
     "end_time": "2025-06-02T09:26:02.794598",
     "exception": false,
     "start_time": "2025-06-02T09:26:02.784660",
     "status": "completed"
    },
    "tags": []
   },
   "outputs": [],
   "source": [
    "def map3(y_true, y_pred_probs):\n",
    "    y_true = [[x] for x in y_true]\n",
    "    y_pred_probs = np.argsort(y_pred_probs, axis=1)[:, -3:][:, ::-1].tolist()\n",
    "    \n",
    "    def ap3(y_true, y_pred_probs):\n",
    "        y_pred_probs = y_pred_probs[:3]\n",
    "\n",
    "        score = 0.0\n",
    "        num_hits = 0.0\n",
    "\n",
    "        for i,p in enumerate(y_pred_probs):\n",
    "            if p in y_true and p not in y_pred_probs[:i]:\n",
    "                num_hits += 1.0\n",
    "                score += num_hits / (i+1.0)\n",
    "\n",
    "        if not y_true:\n",
    "            return 0.0\n",
    "\n",
    "        return score\n",
    "    \n",
    "    return np.mean([ap3(a,p) for a,p in zip(y_true, y_pred_probs)])"
   ]
  },
  {
   "cell_type": "code",
   "execution_count": 7,
   "id": "4ee5068f",
   "metadata": {
    "execution": {
     "iopub.execute_input": "2025-06-02T09:26:02.802517Z",
     "iopub.status.busy": "2025-06-02T09:26:02.802308Z",
     "iopub.status.idle": "2025-06-02T09:26:02.811221Z",
     "shell.execute_reply": "2025-06-02T09:26:02.810474Z"
    },
    "papermill": {
     "duration": 0.014322,
     "end_time": "2025-06-02T09:26:02.812438",
     "exception": false,
     "start_time": "2025-06-02T09:26:02.798116",
     "status": "completed"
    },
    "tags": []
   },
   "outputs": [],
   "source": [
    "class Trainer:\n",
    "    def __init__(self, model, config=CFG):\n",
    "        self.model = model\n",
    "        self.config = config\n",
    "\n",
    "    def fit_predict(self, X, y, X_test, fit_args={}):\n",
    "        print(f\"Training {self.model.__class__.__name__}\\n\")\n",
    "        \n",
    "        scores = []        \n",
    "        oof_pred_probs = np.zeros((X.shape[0], y.nunique()))\n",
    "        test_pred_probs = np.zeros((X_test.shape[0], y.nunique()))\n",
    "        \n",
    "        skf = StratifiedKFold(n_splits=self.config.n_folds, random_state=self.config.seed, shuffle=True)\n",
    "        for fold_idx, (train_idx, val_idx) in enumerate(skf.split(X, y)):\n",
    "            X_train, X_val = X.iloc[train_idx], X.iloc[val_idx]\n",
    "            y_train, y_val = y[train_idx], y[val_idx]\n",
    "            \n",
    "            model = clone(self.model)\n",
    "            \n",
    "            if fit_args:\n",
    "                model.fit(X_train, y_train, **fit_args, eval_set=[(X_val, y_val)])\n",
    "            else:\n",
    "                model.fit(X_train, y_train)\n",
    "            \n",
    "            y_pred_probs = model.predict_proba(X_val)\n",
    "            oof_pred_probs[val_idx] = y_pred_probs\n",
    "            \n",
    "            temp_test_pred_probs = model.predict_proba(X_test)\n",
    "            test_pred_probs += temp_test_pred_probs / self.config.n_folds\n",
    "            \n",
    "            score = map3(y_val, y_pred_probs)\n",
    "            scores.append(score)\n",
    "            \n",
    "            del model, X_train, y_train, X_val, y_val, y_pred_probs\n",
    "            gc.collect()\n",
    "            \n",
    "            if fit_args:\n",
    "                print(f\"\\n--- Fold {fold_idx + 1} - MAP@3: {score:.6f}\\n\\n\")\n",
    "            else:\n",
    "                print(f\"--- Fold {fold_idx + 1} - MAP@3: {score:.6f}\")\n",
    "                            \n",
    "        overall_score = map3(y, oof_pred_probs)\n",
    "            \n",
    "        print(f\"\\n------ Overall MAP@3: {overall_score:.6f} | Average MAP@3: {np.mean(scores):.6f} ± {np.std(scores):.6f}\")\n",
    "        \n",
    "        return oof_pred_probs, test_pred_probs, scores\n",
    "\n",
    "    def tune(self, X, y):        \n",
    "        scores = []        \n",
    "        \n",
    "        skf = StratifiedKFold(n_splits=self.config.n_folds, random_state=self.config.seed, shuffle=True)\n",
    "        for fold_idx, (train_idx, val_idx) in enumerate(skf.split(X, y)):\n",
    "            X_train, X_val = X.iloc[train_idx], X.iloc[val_idx]\n",
    "            y_train, y_val = y[train_idx], y[val_idx]\n",
    "            \n",
    "            model = clone(self.model)\n",
    "            model.fit(X_train, y_train)\n",
    "            \n",
    "            y_pred_probs = model.predict_proba(X_val)            \n",
    "            score = map3(y_val, y_pred_probs)\n",
    "            scores.append(score)\n",
    "            \n",
    "            del model, X_train, y_train, X_val, y_val, y_pred_probs\n",
    "            gc.collect()\n",
    "            \n",
    "        return np.mean(scores)"
   ]
  },
  {
   "cell_type": "code",
   "execution_count": 8,
   "id": "c2f2760e",
   "metadata": {
    "_kg_hide-input": true,
    "execution": {
     "iopub.execute_input": "2025-06-02T09:26:02.820297Z",
     "iopub.status.busy": "2025-06-02T09:26:02.820087Z",
     "iopub.status.idle": "2025-06-02T09:26:02.824270Z",
     "shell.execute_reply": "2025-06-02T09:26:02.823596Z"
    },
    "papermill": {
     "duration": 0.009415,
     "end_time": "2025-06-02T09:26:02.825306",
     "exception": false,
     "start_time": "2025-06-02T09:26:02.815891",
     "status": "completed"
    },
    "tags": []
   },
   "outputs": [],
   "source": [
    "lgbm_params = {\n",
    "    \"boosting_type\": \"gbdt\",\n",
    "    \"device\": \"gpu\",\n",
    "    \"n_estimators\": 10000,\n",
    "    \"n_jobs\": -1,\n",
    "    \"verbose\": -1\n",
    "}\n",
    "\n",
    "lgbm_goss_params = {\n",
    "    \"boosting_type\": \"goss\",\n",
    "    \"device\": \"gpu\",\n",
    "    \"n_estimators\": 10000,\n",
    "    \"n_jobs\": -1,\n",
    "    \"verbose\": -1\n",
    "}\n",
    "\n",
    "\n",
    "xgb_params = {\n",
    "    \"device\": \"gpu\",\n",
    "    \"n_estimators\": 10000,\n",
    "    \"verbosity\": 0,\n",
    "    \"random_state\": 42,\n",
    "    \"early_stopping_rounds\": 100,\n",
    "    \"enable_categorical\": True,\n",
    "}\n",
    "\n",
    "cb_params = {\n",
    "    \"iterations\": 10000,\n",
    "    \"task_type\": \"GPU\",\n",
    "    \"verbose\": False\n",
    "}"
   ]
  },
  {
   "cell_type": "code",
   "execution_count": 9,
   "id": "2a332809",
   "metadata": {
    "execution": {
     "iopub.execute_input": "2025-06-02T09:26:02.833467Z",
     "iopub.status.busy": "2025-06-02T09:26:02.833275Z",
     "iopub.status.idle": "2025-06-02T09:26:02.836447Z",
     "shell.execute_reply": "2025-06-02T09:26:02.835780Z"
    },
    "papermill": {
     "duration": 0.008601,
     "end_time": "2025-06-02T09:26:02.837455",
     "exception": false,
     "start_time": "2025-06-02T09:26:02.828854",
     "status": "completed"
    },
    "tags": []
   },
   "outputs": [],
   "source": [
    "scores = {}\n",
    "oof_pred_probs = {}\n",
    "test_pred_probs = {}"
   ]
  },
  {
   "cell_type": "code",
   "execution_count": 10,
   "id": "501f7891",
   "metadata": {
    "execution": {
     "iopub.execute_input": "2025-06-02T09:26:02.845717Z",
     "iopub.status.busy": "2025-06-02T09:26:02.845524Z",
     "iopub.status.idle": "2025-06-02T09:36:15.139849Z",
     "shell.execute_reply": "2025-06-02T09:36:15.138939Z"
    },
    "papermill": {
     "duration": 612.30018,
     "end_time": "2025-06-02T09:36:15.141163",
     "exception": false,
     "start_time": "2025-06-02T09:26:02.840983",
     "status": "completed"
    },
    "tags": []
   },
   "outputs": [
    {
     "name": "stdout",
     "output_type": "stream",
     "text": [
      "Training LGBMClassifier\n",
      "\n"
     ]
    },
    {
     "name": "stderr",
     "output_type": "stream",
     "text": [
      "1 warning generated.\n",
      "1 warning generated.\n",
      "1 warning generated.\n",
      "1 warning generated.\n",
      "1 warning generated.\n",
      "1 warning generated.\n",
      "1 warning generated.\n",
      "1 warning generated.\n",
      "1 warning generated.\n",
      "1 warning generated.\n",
      "1 warning generated.\n",
      "1 warning generated.\n",
      "1 warning generated.\n",
      "1 warning generated.\n",
      "1 warning generated.\n",
      "1 warning generated.\n",
      "1 warning generated.\n",
      "1 warning generated.\n",
      "1 warning generated.\n",
      "1 warning generated.\n",
      "1 warning generated.\n",
      "1 warning generated.\n",
      "1 warning generated.\n",
      "1 warning generated.\n",
      "1 warning generated.\n",
      "1 warning generated.\n",
      "1 warning generated.\n",
      "1 warning generated.\n",
      "1 warning generated.\n",
      "1 warning generated.\n",
      "1 warning generated.\n",
      "1 warning generated.\n",
      "1 warning generated.\n"
     ]
    },
    {
     "name": "stdout",
     "output_type": "stream",
     "text": [
      "Training until validation scores don't improve for 100 rounds\n",
      "[250]\tvalid_0's multi_logloss: 1.92065\n",
      "[500]\tvalid_0's multi_logloss: 1.91923\n",
      "Early stopping, best iteration is:\n",
      "[589]\tvalid_0's multi_logloss: 1.91903\n",
      "\n",
      "--- Fold 1 - MAP@3: 0.331011\n",
      "\n",
      "\n",
      "Training until validation scores don't improve for 100 rounds\n",
      "[250]\tvalid_0's multi_logloss: 1.92059\n",
      "[500]\tvalid_0's multi_logloss: 1.91921\n",
      "[750]\tvalid_0's multi_logloss: 1.91875\n",
      "Early stopping, best iteration is:\n",
      "[686]\tvalid_0's multi_logloss: 1.91866\n",
      "\n",
      "--- Fold 2 - MAP@3: 0.331398\n",
      "\n",
      "\n",
      "Training until validation scores don't improve for 100 rounds\n",
      "[250]\tvalid_0's multi_logloss: 1.92038\n",
      "[500]\tvalid_0's multi_logloss: 1.91849\n",
      "Early stopping, best iteration is:\n",
      "[622]\tvalid_0's multi_logloss: 1.91833\n",
      "\n",
      "--- Fold 3 - MAP@3: 0.332151\n",
      "\n",
      "\n",
      "Training until validation scores don't improve for 100 rounds\n",
      "[250]\tvalid_0's multi_logloss: 1.9207\n",
      "[500]\tvalid_0's multi_logloss: 1.91941\n",
      "Early stopping, best iteration is:\n",
      "[611]\tvalid_0's multi_logloss: 1.91909\n",
      "\n",
      "--- Fold 4 - MAP@3: 0.331617\n",
      "\n",
      "\n",
      "Training until validation scores don't improve for 100 rounds\n",
      "[250]\tvalid_0's multi_logloss: 1.92035\n",
      "[500]\tvalid_0's multi_logloss: 1.91874\n",
      "Early stopping, best iteration is:\n",
      "[577]\tvalid_0's multi_logloss: 1.9186\n",
      "\n",
      "--- Fold 5 - MAP@3: 0.332356\n",
      "\n",
      "\n",
      "\n",
      "------ Overall MAP@3: 0.331706 | Average MAP@3: 0.331706 ± 0.000491\n"
     ]
    }
   ],
   "source": [
    "lgbm_model = LGBMClassifier(**lgbm_params)\n",
    "lgbm_trainer = Trainer(lgbm_model)\n",
    "\n",
    "fit_args = {\n",
    "    \"callbacks\": [\n",
    "        log_evaluation(period=250), \n",
    "        early_stopping(stopping_rounds=100)\n",
    "    ]\n",
    "}\n",
    "\n",
    "oof_pred_probs[\"LightGBM (gbdt)\"], test_pred_probs[\"LightGBM (gbdt)\"], scores[\"LightGBM (gbdt)\"] = lgbm_trainer.fit_predict(X, y, X_test, fit_args)"
   ]
  },
  {
   "cell_type": "code",
   "execution_count": 11,
   "id": "bfb970f8",
   "metadata": {
    "execution": {
     "iopub.execute_input": "2025-06-02T09:36:15.153152Z",
     "iopub.status.busy": "2025-06-02T09:36:15.152638Z",
     "iopub.status.idle": "2025-06-02T09:40:44.506719Z",
     "shell.execute_reply": "2025-06-02T09:40:44.505937Z"
    },
    "papermill": {
     "duration": 269.361325,
     "end_time": "2025-06-02T09:40:44.507930",
     "exception": false,
     "start_time": "2025-06-02T09:36:15.146605",
     "status": "completed"
    },
    "tags": []
   },
   "outputs": [
    {
     "name": "stdout",
     "output_type": "stream",
     "text": [
      "Training LGBMClassifier\n",
      "\n",
      "Training until validation scores don't improve for 100 rounds\n",
      "Early stopping, best iteration is:\n",
      "[115]\tvalid_0's multi_logloss: 1.93135\n",
      "\n",
      "--- Fold 1 - MAP@3: 0.311220\n",
      "\n",
      "\n",
      "Training until validation scores don't improve for 100 rounds\n",
      "Early stopping, best iteration is:\n",
      "[112]\tvalid_0's multi_logloss: 1.93055\n",
      "\n",
      "--- Fold 2 - MAP@3: 0.313287\n",
      "\n",
      "\n",
      "Training until validation scores don't improve for 100 rounds\n",
      "Early stopping, best iteration is:\n",
      "[107]\tvalid_0's multi_logloss: 1.93072\n",
      "\n",
      "--- Fold 3 - MAP@3: 0.312159\n",
      "\n",
      "\n",
      "Training until validation scores don't improve for 100 rounds\n",
      "Early stopping, best iteration is:\n",
      "[114]\tvalid_0's multi_logloss: 1.9306\n",
      "\n",
      "--- Fold 4 - MAP@3: 0.312447\n",
      "\n",
      "\n",
      "Training until validation scores don't improve for 100 rounds\n",
      "Early stopping, best iteration is:\n",
      "[142]\tvalid_0's multi_logloss: 1.9306\n",
      "\n",
      "--- Fold 5 - MAP@3: 0.313731\n",
      "\n",
      "\n",
      "\n",
      "------ Overall MAP@3: 0.312569 | Average MAP@3: 0.312569 ± 0.000880\n"
     ]
    }
   ],
   "source": [
    "lgb_goss_model = LGBMClassifier(**lgbm_goss_params)\n",
    "lgb_goss_trainer = Trainer(lgb_goss_model)\n",
    "\n",
    "fit_args = {\n",
    "    \"callbacks\": [\n",
    "        log_evaluation(period=250), \n",
    "        early_stopping(stopping_rounds=100)\n",
    "    ]\n",
    "}\n",
    "\n",
    "oof_pred_probs[\"LightGBM (goss)\"], test_pred_probs[\"LightGBM (goss)\"], scores[\"LightGBM (goss)\"] = lgb_goss_trainer.fit_predict(X, y, X_test, fit_args)"
   ]
  },
  {
   "cell_type": "code",
   "execution_count": 12,
   "id": "c19d09cd",
   "metadata": {
    "execution": {
     "iopub.execute_input": "2025-06-02T09:40:44.520918Z",
     "iopub.status.busy": "2025-06-02T09:40:44.520674Z",
     "iopub.status.idle": "2025-06-02T09:42:17.388089Z",
     "shell.execute_reply": "2025-06-02T09:42:17.387251Z"
    },
    "papermill": {
     "duration": 92.875051,
     "end_time": "2025-06-02T09:42:17.389229",
     "exception": false,
     "start_time": "2025-06-02T09:40:44.514178",
     "status": "completed"
    },
    "tags": []
   },
   "outputs": [
    {
     "name": "stdout",
     "output_type": "stream",
     "text": [
      "Training XGBClassifier\n",
      "\n",
      "[0]\tvalidation_0-mlogloss:1.94328\n",
      "[250]\tvalidation_0-mlogloss:1.91787\n",
      "[267]\tvalidation_0-mlogloss:1.91823\n",
      "\n",
      "--- Fold 1 - MAP@3: 0.334688\n",
      "\n",
      "\n",
      "[0]\tvalidation_0-mlogloss:1.94315\n",
      "[250]\tvalidation_0-mlogloss:1.91715\n",
      "[295]\tvalidation_0-mlogloss:1.91779\n",
      "\n",
      "--- Fold 2 - MAP@3: 0.336012\n",
      "\n",
      "\n",
      "[0]\tvalidation_0-mlogloss:1.94324\n",
      "[250]\tvalidation_0-mlogloss:1.91610\n",
      "[279]\tvalidation_0-mlogloss:1.91656\n",
      "\n",
      "--- Fold 3 - MAP@3: 0.337433\n",
      "\n",
      "\n",
      "[0]\tvalidation_0-mlogloss:1.94315\n",
      "[250]\tvalidation_0-mlogloss:1.91787\n",
      "[274]\tvalidation_0-mlogloss:1.91836\n",
      "\n",
      "--- Fold 4 - MAP@3: 0.336009\n",
      "\n",
      "\n",
      "[0]\tvalidation_0-mlogloss:1.94327\n",
      "[250]\tvalidation_0-mlogloss:1.91712\n",
      "[278]\tvalidation_0-mlogloss:1.91768\n",
      "\n",
      "--- Fold 5 - MAP@3: 0.336724\n",
      "\n",
      "\n",
      "\n",
      "------ Overall MAP@3: 0.336173 | Average MAP@3: 0.336173 ± 0.000911\n"
     ]
    }
   ],
   "source": [
    "xgb_model = XGBClassifier(**xgb_params)\n",
    "xgb_trainer = Trainer(xgb_model)\n",
    "\n",
    "fit_args = {\n",
    "    \"verbose\": 250\n",
    "}\n",
    "\n",
    "oof_pred_probs[\"XGBoost\"], test_pred_probs[\"XGBoost\"], scores[\"XGBoost\"] = xgb_trainer.fit_predict(X, y, X_test, fit_args)"
   ]
  },
  {
   "cell_type": "code",
   "execution_count": 13,
   "id": "f1ad286e",
   "metadata": {
    "execution": {
     "iopub.execute_input": "2025-06-02T09:42:17.403943Z",
     "iopub.status.busy": "2025-06-02T09:42:17.403448Z",
     "iopub.status.idle": "2025-06-02T09:46:44.584663Z",
     "shell.execute_reply": "2025-06-02T09:46:44.583824Z"
    },
    "papermill": {
     "duration": 267.189604,
     "end_time": "2025-06-02T09:46:44.585851",
     "exception": false,
     "start_time": "2025-06-02T09:42:17.396247",
     "status": "completed"
    },
    "tags": []
   },
   "outputs": [
    {
     "name": "stdout",
     "output_type": "stream",
     "text": [
      "Training CatBoostClassifier\n",
      "\n",
      "Learning rate set to 0.073354\n",
      "0:\tlearn: 1.9452754\ttest: 1.9453398\tbest: 1.9453398 (0)\ttotal: 5.41s\tremaining: 15h 1m 28s\n",
      "250:\tlearn: 1.9231825\ttest: 1.9309692\tbest: 1.9309692 (250)\ttotal: 9.96s\tremaining: 6m 27s\n",
      "500:\tlearn: 1.9130367\ttest: 1.9274808\tbest: 1.9274808 (500)\ttotal: 14.5s\tremaining: 4m 35s\n",
      "750:\tlearn: 1.9050490\ttest: 1.9255102\tbest: 1.9255102 (750)\ttotal: 19.1s\tremaining: 3m 54s\n",
      "1000:\tlearn: 1.8975646\ttest: 1.9241196\tbest: 1.9241196 (1000)\ttotal: 23.7s\tremaining: 3m 32s\n",
      "1250:\tlearn: 1.8906588\ttest: 1.9232662\tbest: 1.9232627 (1249)\ttotal: 28.3s\tremaining: 3m 17s\n",
      "1500:\tlearn: 1.8840733\ttest: 1.9226369\tbest: 1.9226342 (1489)\ttotal: 32.8s\tremaining: 3m 5s\n",
      "1750:\tlearn: 1.8778242\ttest: 1.9221931\tbest: 1.9221788 (1735)\ttotal: 37.4s\tremaining: 2m 56s\n",
      "2000:\tlearn: 1.8718419\ttest: 1.9220079\tbest: 1.9219650 (1967)\ttotal: 42s\tremaining: 2m 47s\n",
      "2250:\tlearn: 1.8659548\ttest: 1.9217777\tbest: 1.9217777 (2250)\ttotal: 46.7s\tremaining: 2m 40s\n",
      "2500:\tlearn: 1.8603696\ttest: 1.9217902\tbest: 1.9217552 (2406)\ttotal: 51.2s\tremaining: 2m 33s\n",
      "bestTest = 1.921755208\n",
      "bestIteration = 2406\n",
      "Shrink model to first 2407 iterations.\n",
      "\n",
      "--- Fold 1 - MAP@3: 0.327176\n",
      "\n",
      "\n",
      "Learning rate set to 0.073354\n",
      "0:\tlearn: 1.9452658\ttest: 1.9453031\tbest: 1.9453031 (0)\ttotal: 20.7ms\tremaining: 3m 26s\n",
      "250:\tlearn: 1.9234252\ttest: 1.9307594\tbest: 1.9307594 (250)\ttotal: 4.55s\tremaining: 2m 56s\n",
      "500:\tlearn: 1.9138062\ttest: 1.9274498\tbest: 1.9274498 (500)\ttotal: 9.06s\tremaining: 2m 51s\n",
      "750:\tlearn: 1.9055840\ttest: 1.9253256\tbest: 1.9253256 (750)\ttotal: 13.7s\tremaining: 2m 48s\n",
      "1000:\tlearn: 1.8984262\ttest: 1.9240185\tbest: 1.9240079 (997)\ttotal: 18.2s\tremaining: 2m 43s\n",
      "1250:\tlearn: 1.8917435\ttest: 1.9231333\tbest: 1.9231306 (1249)\ttotal: 22.8s\tremaining: 2m 39s\n",
      "1500:\tlearn: 1.8852881\ttest: 1.9225027\tbest: 1.9225027 (1500)\ttotal: 27.4s\tremaining: 2m 35s\n",
      "1750:\tlearn: 1.8791129\ttest: 1.9220585\tbest: 1.9220521 (1748)\ttotal: 32.1s\tremaining: 2m 31s\n",
      "2000:\tlearn: 1.8732048\ttest: 1.9217698\tbest: 1.9217646 (1970)\ttotal: 36.7s\tremaining: 2m 26s\n",
      "2250:\tlearn: 1.8674488\ttest: 1.9216479\tbest: 1.9216456 (2248)\ttotal: 41.3s\tremaining: 2m 22s\n",
      "bestTest = 1.921637708\n",
      "bestIteration = 2263\n",
      "Shrink model to first 2264 iterations.\n",
      "\n",
      "--- Fold 2 - MAP@3: 0.327822\n",
      "\n",
      "\n",
      "Learning rate set to 0.073354\n",
      "0:\tlearn: 1.9452844\ttest: 1.9453208\tbest: 1.9453208 (0)\ttotal: 20.6ms\tremaining: 3m 26s\n",
      "250:\tlearn: 1.9232135\ttest: 1.9305573\tbest: 1.9305573 (250)\ttotal: 4.59s\tremaining: 2m 58s\n",
      "500:\tlearn: 1.9129756\ttest: 1.9268344\tbest: 1.9268344 (500)\ttotal: 9.14s\tremaining: 2m 53s\n",
      "750:\tlearn: 1.9047525\ttest: 1.9247808\tbest: 1.9247808 (750)\ttotal: 13.7s\tremaining: 2m 48s\n",
      "1000:\tlearn: 1.8973369\ttest: 1.9233667\tbest: 1.9233617 (998)\ttotal: 18.3s\tremaining: 2m 44s\n",
      "1250:\tlearn: 1.8904515\ttest: 1.9225010\tbest: 1.9225010 (1250)\ttotal: 22.9s\tremaining: 2m 40s\n",
      "1500:\tlearn: 1.8840177\ttest: 1.9220033\tbest: 1.9219994 (1494)\ttotal: 27.5s\tremaining: 2m 35s\n",
      "1750:\tlearn: 1.8777640\ttest: 1.9214304\tbest: 1.9214304 (1750)\ttotal: 32.1s\tremaining: 2m 31s\n",
      "2000:\tlearn: 1.8720867\ttest: 1.9211942\tbest: 1.9211752 (1970)\ttotal: 36.7s\tremaining: 2m 26s\n",
      "bestTest = 1.921147708\n",
      "bestIteration = 2092\n",
      "Shrink model to first 2093 iterations.\n",
      "\n",
      "--- Fold 3 - MAP@3: 0.328419\n",
      "\n",
      "\n",
      "Learning rate set to 0.073354\n",
      "0:\tlearn: 1.9452642\ttest: 1.9453165\tbest: 1.9453165 (0)\ttotal: 20.8ms\tremaining: 3m 27s\n",
      "250:\tlearn: 1.9234762\ttest: 1.9311173\tbest: 1.9311173 (250)\ttotal: 4.53s\tremaining: 2m 55s\n",
      "500:\tlearn: 1.9137056\ttest: 1.9276592\tbest: 1.9276585 (499)\ttotal: 9.14s\tremaining: 2m 53s\n",
      "750:\tlearn: 1.9057848\ttest: 1.9256485\tbest: 1.9256431 (749)\ttotal: 13.7s\tremaining: 2m 48s\n",
      "1000:\tlearn: 1.8984342\ttest: 1.9241771\tbest: 1.9241771 (1000)\ttotal: 18.2s\tremaining: 2m 43s\n",
      "1250:\tlearn: 1.8916642\ttest: 1.9231594\tbest: 1.9231594 (1250)\ttotal: 22.8s\tremaining: 2m 39s\n",
      "1500:\tlearn: 1.8852619\ttest: 1.9226031\tbest: 1.9226031 (1500)\ttotal: 27.3s\tremaining: 2m 34s\n",
      "1750:\tlearn: 1.8790356\ttest: 1.9221398\tbest: 1.9221352 (1745)\ttotal: 32s\tremaining: 2m 30s\n",
      "2000:\tlearn: 1.8730721\ttest: 1.9218677\tbest: 1.9218596 (1996)\ttotal: 36.5s\tremaining: 2m 26s\n",
      "2250:\tlearn: 1.8673513\ttest: 1.9217415\tbest: 1.9217275 (2205)\ttotal: 41.3s\tremaining: 2m 22s\n",
      "bestTest = 1.9217275\n",
      "bestIteration = 2205\n",
      "Shrink model to first 2206 iterations.\n",
      "\n",
      "--- Fold 4 - MAP@3: 0.328110\n",
      "\n",
      "\n",
      "Learning rate set to 0.073354\n",
      "0:\tlearn: 1.9452606\ttest: 1.9452940\tbest: 1.9452940 (0)\ttotal: 20.4ms\tremaining: 3m 23s\n",
      "250:\tlearn: 1.9233717\ttest: 1.9312477\tbest: 1.9312477 (250)\ttotal: 4.57s\tremaining: 2m 57s\n",
      "500:\tlearn: 1.9135973\ttest: 1.9274935\tbest: 1.9274935 (500)\ttotal: 9.07s\tremaining: 2m 52s\n",
      "750:\tlearn: 1.9057935\ttest: 1.9253575\tbest: 1.9253575 (750)\ttotal: 13.6s\tremaining: 2m 47s\n",
      "1000:\tlearn: 1.8986631\ttest: 1.9239821\tbest: 1.9239821 (1000)\ttotal: 18.1s\tremaining: 2m 43s\n",
      "1250:\tlearn: 1.8920881\ttest: 1.9231644\tbest: 1.9231644 (1250)\ttotal: 22.7s\tremaining: 2m 38s\n",
      "1500:\tlearn: 1.8856608\ttest: 1.9223667\tbest: 1.9223667 (1500)\ttotal: 27.3s\tremaining: 2m 34s\n",
      "1750:\tlearn: 1.8796512\ttest: 1.9219400\tbest: 1.9219375 (1737)\ttotal: 31.9s\tremaining: 2m 30s\n",
      "2000:\tlearn: 1.8740679\ttest: 1.9216513\tbest: 1.9216440 (1997)\ttotal: 36.5s\tremaining: 2m 25s\n",
      "2250:\tlearn: 1.8686585\ttest: 1.9214638\tbest: 1.9214577 (2248)\ttotal: 41.1s\tremaining: 2m 21s\n",
      "2500:\tlearn: 1.8633308\ttest: 1.9213877\tbest: 1.9213612 (2452)\ttotal: 45.8s\tremaining: 2m 17s\n",
      "bestTest = 1.921309375\n",
      "bestIteration = 2543\n",
      "Shrink model to first 2544 iterations.\n",
      "\n",
      "--- Fold 5 - MAP@3: 0.327171\n",
      "\n",
      "\n",
      "\n",
      "------ Overall MAP@3: 0.327740 | Average MAP@3: 0.327740 ± 0.000499\n"
     ]
    }
   ],
   "source": [
    "cb_model = CatBoostClassifier(**cb_params)\n",
    "cb_trainer = Trainer(cb_model)\n",
    "\n",
    "fit_args = {\n",
    "    \"verbose\": 250,\n",
    "    \"early_stopping_rounds\": 100,\n",
    "    \"use_best_model\": True,\n",
    "    \"cat_features\": cat_cols\n",
    "}\n",
    "\n",
    "oof_pred_probs[\"CatBoost\"], test_pred_probs[\"CatBoost\"], scores[\"CatBoost\"] = cb_trainer.fit_predict(X, y, X_test, fit_args)"
   ]
  },
  {
   "cell_type": "markdown",
   "id": "481b9434",
   "metadata": {
    "papermill": {
     "duration": 0.008893,
     "end_time": "2025-06-02T09:46:44.604247",
     "exception": false,
     "start_time": "2025-06-02T09:46:44.595354",
     "status": "completed"
    },
    "tags": []
   },
   "source": [
    "# Ensembling with LogisticRegression"
   ]
  },
  {
   "cell_type": "code",
   "execution_count": 14,
   "id": "8c3dfafd",
   "metadata": {
    "execution": {
     "iopub.execute_input": "2025-06-02T09:46:44.623170Z",
     "iopub.status.busy": "2025-06-02T09:46:44.622939Z",
     "iopub.status.idle": "2025-06-02T09:46:44.766427Z",
     "shell.execute_reply": "2025-06-02T09:46:44.765795Z"
    },
    "papermill": {
     "duration": 0.154573,
     "end_time": "2025-06-02T09:46:44.767722",
     "exception": false,
     "start_time": "2025-06-02T09:46:44.613149",
     "status": "completed"
    },
    "tags": []
   },
   "outputs": [],
   "source": [
    "X = pd.DataFrame(np.concatenate(list(oof_pred_probs.values()), axis=1))\n",
    "X_test = pd.DataFrame(np.concatenate(list(test_pred_probs.values()), axis=1))"
   ]
  },
  {
   "cell_type": "code",
   "execution_count": 15,
   "id": "8a093082",
   "metadata": {
    "execution": {
     "iopub.execute_input": "2025-06-02T09:46:44.788470Z",
     "iopub.status.busy": "2025-06-02T09:46:44.788233Z",
     "iopub.status.idle": "2025-06-02T09:46:44.991717Z",
     "shell.execute_reply": "2025-06-02T09:46:44.990919Z"
    },
    "papermill": {
     "duration": 0.215358,
     "end_time": "2025-06-02T09:46:44.992939",
     "exception": false,
     "start_time": "2025-06-02T09:46:44.777581",
     "status": "completed"
    },
    "tags": []
   },
   "outputs": [
    {
     "data": {
      "text/plain": [
       "['test_pred_probs.pkl']"
      ]
     },
     "execution_count": 15,
     "metadata": {},
     "output_type": "execute_result"
    }
   ],
   "source": [
    "joblib.dump(X, \"oof_pred_probs.pkl\")\n",
    "joblib.dump(X_test, \"test_pred_probs.pkl\")"
   ]
  },
  {
   "cell_type": "code",
   "execution_count": 16,
   "id": "4e2bcd2c",
   "metadata": {
    "_kg_hide-output": true,
    "execution": {
     "iopub.execute_input": "2025-06-02T09:46:45.012977Z",
     "iopub.status.busy": "2025-06-02T09:46:45.012737Z",
     "iopub.status.idle": "2025-06-02T09:46:45.019400Z",
     "shell.execute_reply": "2025-06-02T09:46:45.018701Z"
    },
    "papermill": {
     "duration": 0.017912,
     "end_time": "2025-06-02T09:46:45.020445",
     "exception": false,
     "start_time": "2025-06-02T09:46:45.002533",
     "status": "completed"
    },
    "scrolled": true,
    "tags": []
   },
   "outputs": [],
   "source": [
    "def objective(trial):\n",
    "    solver_penalty_options = [\n",
    "        ('liblinear', 'l1'),\n",
    "        ('liblinear', 'l2'),\n",
    "        ('lbfgs', 'l2'),\n",
    "        ('lbfgs', None)\n",
    "    ]\n",
    "    solver, penalty = trial.suggest_categorical('solver_penalty', solver_penalty_options)\n",
    "    \n",
    "    params = {\n",
    "        'random_state': CFG.seed,\n",
    "        'max_iter': 500,\n",
    "        'C': trial.suggest_float('C', 0, 10),\n",
    "        'tol': trial.suggest_float('tol', 1e-7, 1e-2),\n",
    "        'fit_intercept': trial.suggest_categorical('fit_intercept', [True, False]),\n",
    "        'class_weight': trial.suggest_categorical('class_weight', ['balanced', None]),\n",
    "        'solver': solver,\n",
    "        'penalty': penalty\n",
    "    }\n",
    "    \n",
    "    model = LogisticRegression(**params)\n",
    "    trainer = Trainer(model)\n",
    "    return trainer.tune(X, y)\n",
    "\n",
    "\n",
    "if CFG.run_optuna:\n",
    "    sampler = optuna.samplers.TPESampler(seed=CFG.seed, multivariate=True)\n",
    "    study = optuna.create_study(direction='maximize', sampler=sampler)\n",
    "    study.optimize(objective, n_trials=250, n_jobs=-1)\n",
    "    best_params = study.best_params\n",
    "    \n",
    "    solver, penalty = best_params['solver_penalty']\n",
    "    lr_params = {\n",
    "        'random_state': CFG.seed,\n",
    "        'max_iter': 500,\n",
    "        'solver': solver,\n",
    "        'penalty': penalty,\n",
    "        'fit_intercept': best_params['fit_intercept'],\n",
    "        'class_weight': best_params['class_weight'],\n",
    "        'C': best_params['C'],\n",
    "        'tol': best_params['tol']\n",
    "    }\n",
    "else:\n",
    "    lr_params = {\n",
    "        'random_state': CFG.seed,\n",
    "        'max_iter': 500\n",
    "    }"
   ]
  },
  {
   "cell_type": "code",
   "execution_count": 17,
   "id": "b598949b",
   "metadata": {
    "execution": {
     "iopub.execute_input": "2025-06-02T09:46:45.039681Z",
     "iopub.status.busy": "2025-06-02T09:46:45.039477Z",
     "iopub.status.idle": "2025-06-02T09:46:45.043274Z",
     "shell.execute_reply": "2025-06-02T09:46:45.042554Z"
    },
    "papermill": {
     "duration": 0.014725,
     "end_time": "2025-06-02T09:46:45.044390",
     "exception": false,
     "start_time": "2025-06-02T09:46:45.029665",
     "status": "completed"
    },
    "tags": []
   },
   "outputs": [
    {
     "name": "stdout",
     "output_type": "stream",
     "text": [
      "{\n",
      "  \"random_state\": 42,\n",
      "  \"max_iter\": 500\n",
      "}\n"
     ]
    }
   ],
   "source": [
    "print(json.dumps(lr_params, indent=2))"
   ]
  },
  {
   "cell_type": "code",
   "execution_count": 18,
   "id": "70e4b099",
   "metadata": {
    "execution": {
     "iopub.execute_input": "2025-06-02T09:46:45.063660Z",
     "iopub.status.busy": "2025-06-02T09:46:45.063462Z",
     "iopub.status.idle": "2025-06-02T09:47:17.827593Z",
     "shell.execute_reply": "2025-06-02T09:47:17.826751Z"
    },
    "papermill": {
     "duration": 32.775017,
     "end_time": "2025-06-02T09:47:17.828783",
     "exception": false,
     "start_time": "2025-06-02T09:46:45.053766",
     "status": "completed"
    },
    "tags": []
   },
   "outputs": [
    {
     "name": "stdout",
     "output_type": "stream",
     "text": [
      "Training LogisticRegression\n",
      "\n",
      "--- Fold 1 - MAP@3: 0.335708\n",
      "--- Fold 2 - MAP@3: 0.337939\n",
      "--- Fold 3 - MAP@3: 0.338277\n",
      "--- Fold 4 - MAP@3: 0.337830\n",
      "--- Fold 5 - MAP@3: 0.337872\n",
      "\n",
      "------ Overall MAP@3: 0.337525 | Average MAP@3: 0.337525 ± 0.000922\n"
     ]
    }
   ],
   "source": [
    "lr_model = LogisticRegression(**lr_params)\n",
    "lr_trainer = Trainer(lr_model)\n",
    "\n",
    "_, lr_test_pred_probs, scores[\"LogisticRegression\"] = lr_trainer.fit_predict(X, y, X_test)"
   ]
  },
  {
   "cell_type": "code",
   "execution_count": 19,
   "id": "d0dbe953",
   "metadata": {
    "execution": {
     "iopub.execute_input": "2025-06-02T09:47:17.849495Z",
     "iopub.status.busy": "2025-06-02T09:47:17.849305Z",
     "iopub.status.idle": "2025-06-02T09:47:39.220661Z",
     "shell.execute_reply": "2025-06-02T09:47:39.220067Z"
    },
    "papermill": {
     "duration": 21.383,
     "end_time": "2025-06-02T09:47:39.222096",
     "exception": false,
     "start_time": "2025-06-02T09:47:17.839096",
     "status": "completed"
    },
    "tags": []
   },
   "outputs": [],
   "source": [
    "final_predictions = []\n",
    "for i in np.argsort(lr_test_pred_probs)[:, -3:][:, ::-1]:\n",
    "    prediction = label_encoder.inverse_transform(i)\n",
    "    final_predictions.append(\" \".join(prediction))"
   ]
  },
  {
   "cell_type": "code",
   "execution_count": 20,
   "id": "51536318",
   "metadata": {
    "execution": {
     "iopub.execute_input": "2025-06-02T09:47:39.242971Z",
     "iopub.status.busy": "2025-06-02T09:47:39.242446Z",
     "iopub.status.idle": "2025-06-02T09:47:39.736013Z",
     "shell.execute_reply": "2025-06-02T09:47:39.735354Z"
    },
    "papermill": {
     "duration": 0.504831,
     "end_time": "2025-06-02T09:47:39.737204",
     "exception": false,
     "start_time": "2025-06-02T09:47:39.232373",
     "status": "completed"
    },
    "tags": []
   },
   "outputs": [
    {
     "data": {
      "text/html": [
       "<div>\n",
       "<style scoped>\n",
       "    .dataframe tbody tr th:only-of-type {\n",
       "        vertical-align: middle;\n",
       "    }\n",
       "\n",
       "    .dataframe tbody tr th {\n",
       "        vertical-align: top;\n",
       "    }\n",
       "\n",
       "    .dataframe thead th {\n",
       "        text-align: right;\n",
       "    }\n",
       "</style>\n",
       "<table border=\"1\" class=\"dataframe\">\n",
       "  <thead>\n",
       "    <tr style=\"text-align: right;\">\n",
       "      <th></th>\n",
       "      <th>id</th>\n",
       "      <th>Fertilizer Name</th>\n",
       "    </tr>\n",
       "  </thead>\n",
       "  <tbody>\n",
       "    <tr>\n",
       "      <th>0</th>\n",
       "      <td>750000</td>\n",
       "      <td>DAP 28-28 10-26-26</td>\n",
       "    </tr>\n",
       "    <tr>\n",
       "      <th>1</th>\n",
       "      <td>750001</td>\n",
       "      <td>17-17-17 20-20 10-26-26</td>\n",
       "    </tr>\n",
       "    <tr>\n",
       "      <th>2</th>\n",
       "      <td>750002</td>\n",
       "      <td>20-20 28-28 10-26-26</td>\n",
       "    </tr>\n",
       "    <tr>\n",
       "      <th>3</th>\n",
       "      <td>750003</td>\n",
       "      <td>14-35-14 Urea 17-17-17</td>\n",
       "    </tr>\n",
       "    <tr>\n",
       "      <th>4</th>\n",
       "      <td>750004</td>\n",
       "      <td>20-20 10-26-26 28-28</td>\n",
       "    </tr>\n",
       "  </tbody>\n",
       "</table>\n",
       "</div>"
      ],
      "text/plain": [
       "       id          Fertilizer Name\n",
       "0  750000       DAP 28-28 10-26-26\n",
       "1  750001  17-17-17 20-20 10-26-26\n",
       "2  750002     20-20 28-28 10-26-26\n",
       "3  750003   14-35-14 Urea 17-17-17\n",
       "4  750004     20-20 10-26-26 28-28"
      ]
     },
     "execution_count": 20,
     "metadata": {},
     "output_type": "execute_result"
    }
   ],
   "source": [
    "sub = pd.read_csv(CFG.sample_sub_path)\n",
    "sub[CFG.target] = final_predictions\n",
    "sub.to_csv(f\"sub_logistic-regression_{np.mean(scores['LogisticRegression']):.6f}.csv\", index=False)\n",
    "sub.head()"
   ]
  },
  {
   "cell_type": "markdown",
   "id": "ad2b496b",
   "metadata": {
    "papermill": {
     "duration": 0.009538,
     "end_time": "2025-06-02T09:47:39.757203",
     "exception": false,
     "start_time": "2025-06-02T09:47:39.747665",
     "status": "completed"
    },
    "tags": []
   },
   "source": [
    "# Results"
   ]
  },
  {
   "cell_type": "code",
   "execution_count": 21,
   "id": "4654a63f",
   "metadata": {
    "execution": {
     "iopub.execute_input": "2025-06-02T09:47:39.777261Z",
     "iopub.status.busy": "2025-06-02T09:47:39.777039Z",
     "iopub.status.idle": "2025-06-02T09:47:40.148523Z",
     "shell.execute_reply": "2025-06-02T09:47:40.147825Z"
    },
    "papermill": {
     "duration": 0.382785,
     "end_time": "2025-06-02T09:47:40.149586",
     "exception": false,
     "start_time": "2025-06-02T09:47:39.766801",
     "status": "completed"
    },
    "tags": []
   },
   "outputs": [
    {
     "data": {
      "image/png": "[encoded data removed]",
      "text/plain": [
       "<Figure size 1500x200 with 2 Axes>"
      ]
     },
     "metadata": {},
     "output_type": "display_data"
    }
   ],
   "source": [
    "scores = pd.DataFrame(scores)\n",
    "mean_scores = scores.mean().sort_values(ascending=False)\n",
    "order = scores.mean().sort_values(ascending=False).index.tolist()\n",
    "\n",
    "min_score = mean_scores.min()\n",
    "max_score = mean_scores.max()\n",
    "padding = (max_score - min_score) * 0.5\n",
    "lower_limit = min_score - padding\n",
    "upper_limit = max_score + padding\n",
    "\n",
    "fig, axs = plt.subplots(1, 2, figsize=(15, scores.shape[1] * 0.4))\n",
    "\n",
    "boxplot = sns.boxplot(data=scores, order=order, ax=axs[0], orient=\"h\", color=\"grey\")\n",
    "axs[0].set_title(f\"Fold MAP@3\")\n",
    "axs[0].set_xlabel(\"\")\n",
    "axs[0].set_ylabel(\"\")\n",
    "\n",
    "barplot = sns.barplot(x=mean_scores.values, y=mean_scores.index, ax=axs[1], color=\"grey\")\n",
    "axs[1].set_title(f\"Mean MAP@3\")\n",
    "axs[1].set_xlabel(\"\")\n",
    "axs[1].set_xlim(left=lower_limit, right=upper_limit)\n",
    "axs[1].set_ylabel(\"\")\n",
    "\n",
    "for i, (score, model) in enumerate(zip(mean_scores.values, mean_scores.index)):\n",
    "    color = \"cyan\" if \"logistic\" in model.lower() else \"grey\"\n",
    "    barplot.patches[i].set_facecolor(color)\n",
    "    boxplot.patches[i].set_facecolor(color)\n",
    "    barplot.text(score, i, round(score, 6), va=\"center\")\n",
    "\n",
    "plt.tight_layout()\n",
    "plt.show()"
   ]
  },
  {
   "cell_type": "code",
   "execution_count": 22,
   "id": "b26f3434",
   "metadata": {
    "execution": {
     "iopub.execute_input": "2025-06-02T09:47:40.171506Z",
     "iopub.status.busy": "2025-06-02T09:47:40.171297Z",
     "iopub.status.idle": "2025-06-02T09:47:40.175219Z",
     "shell.execute_reply": "2025-06-02T09:47:40.174726Z"
    },
    "papermill": {
     "duration": 0.015882,
     "end_time": "2025-06-02T09:47:40.176215",
     "exception": false,
     "start_time": "2025-06-02T09:47:40.160333",
     "status": "completed"
    },
    "tags": []
   },
   "outputs": [],
   "source": [
    "shutil.rmtree(\"catboost_info\", ignore_errors=True)"
   ]
  }
 ],
 "metadata": {
  "kaggle": {
   "accelerator": "gpu",
   "dataSources": [
    {
     "databundleVersionId": 12184666,
     "sourceId": 91717,
     "sourceType": "competition"
    }
   ],
   "dockerImageVersionId": 31041,
   "isGpuEnabled": true,
   "isInternetEnabled": true,
   "language": "python",
   "sourceType": "notebook"
  },
  "kernelspec": {
   "display_name": "Python 3",
   "language": "python",
   "name": "python3"
  },
  "language_info": {
   "codemirror_mode": {
    "name": "ipython",
    "version": 3
   },
   "file_extension": ".py",
   "mimetype": "text/x-python",
   "name": "python",
   "nbconvert_exporter": "python",
   "pygments_lexer": "ipython3",
   "version": "3.11.11"
  },
  "papermill": {
   "default_parameters": {},
   "duration": 1323.047511,
   "end_time": "2025-06-02T09:47:41.005238",
   "environment_variables": {},
   "exception": null,
   "input_path": "__notebook__.ipynb",
   "output_path": "__notebook__.ipynb",
   "parameters": {},
   "start_time": "2025-06-02T09:25:37.957727",
   "version": "2.6.0"
  }
 },
 "nbformat": 4,
 "nbformat_minor": 5
}
