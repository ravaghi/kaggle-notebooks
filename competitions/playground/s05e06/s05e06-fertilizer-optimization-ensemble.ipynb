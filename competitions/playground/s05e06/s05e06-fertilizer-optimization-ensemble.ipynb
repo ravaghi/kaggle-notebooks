{
 "cells": [
  {
   "cell_type": "markdown",
   "id": "1a1e31b4",
   "metadata": {
    "papermill": {
     "duration": 0.004213,
     "end_time": "2025-06-08T18:08:07.993831",
     "exception": false,
     "start_time": "2025-06-08T18:08:07.989618",
     "status": "completed"
    },
    "tags": []
   },
   "source": [
    "# Imports and configs"
   ]
  },
  {
   "cell_type": "code",
   "execution_count": 1,
   "id": "16e20350",
   "metadata": {
    "_kg_hide-output": true,
    "execution": {
     "iopub.execute_input": "2025-06-08T18:08:08.002649Z",
     "iopub.status.busy": "2025-06-08T18:08:08.001888Z",
     "iopub.status.idle": "2025-06-08T18:08:15.431432Z",
     "shell.execute_reply": "2025-06-08T18:08:15.430687Z"
    },
    "papermill": {
     "duration": 7.435403,
     "end_time": "2025-06-08T18:08:15.432825",
     "exception": false,
     "start_time": "2025-06-08T18:08:07.997422",
     "status": "completed"
    },
    "tags": []
   },
   "outputs": [
    {
     "name": "stdout",
     "output_type": "stream",
     "text": [
      "\u001b[2K   \u001b[90m━━━━━━━━━━━━━━━━━━━━━━━━━━━━━━━━━━━━━━━━\u001b[0m \u001b[32m13.3/13.3 MB\u001b[0m \u001b[31m98.4 MB/s\u001b[0m eta \u001b[36m0:00:00\u001b[0m\r\n",
      "\u001b[?25h\u001b[31mERROR: pip's dependency resolver does not currently take into account all the packages that are installed. This behaviour is the source of the following dependency conflicts.\r\n",
      "cesium 0.12.4 requires numpy<3.0,>=2.0, but you have numpy 1.26.4 which is incompatible.\u001b[0m\u001b[31m\r\n",
      "\u001b[0m"
     ]
    }
   ],
   "source": [
    "!pip install -q scikit-learn==1.5.2"
   ]
  },
  {
   "cell_type": "code",
   "execution_count": 2,
   "id": "26bfe364",
   "metadata": {
    "execution": {
     "iopub.execute_input": "2025-06-08T18:08:15.441691Z",
     "iopub.status.busy": "2025-06-08T18:08:15.441448Z",
     "iopub.status.idle": "2025-06-08T18:08:22.743883Z",
     "shell.execute_reply": "2025-06-08T18:08:22.743282Z"
    },
    "papermill": {
     "duration": 7.308408,
     "end_time": "2025-06-08T18:08:22.745300",
     "exception": false,
     "start_time": "2025-06-08T18:08:15.436892",
     "status": "completed"
    },
    "tags": []
   },
   "outputs": [],
   "source": [
    "from lightgbm import LGBMClassifier, log_evaluation, early_stopping\n",
    "from sklearn.feature_selection import mutual_info_classif\n",
    "from sklearn.linear_model import LogisticRegression\n",
    "from sklearn.model_selection import StratifiedKFold\n",
    "from sklearn.preprocessing import LabelEncoder\n",
    "from sklearn.base import clone\n",
    "from xgboost import XGBClassifier\n",
    "import matplotlib.pyplot as plt\n",
    "import seaborn as sns\n",
    "import pandas as pd\n",
    "import numpy as np\n",
    "import warnings\n",
    "import joblib\n",
    "import optuna\n",
    "import shutil\n",
    "import glob\n",
    "import json\n",
    "import gc\n",
    "\n",
    "warnings.filterwarnings(\"ignore\")"
   ]
  },
  {
   "cell_type": "code",
   "execution_count": 3,
   "id": "54551a75",
   "metadata": {
    "execution": {
     "iopub.execute_input": "2025-06-08T18:08:22.754768Z",
     "iopub.status.busy": "2025-06-08T18:08:22.753999Z",
     "iopub.status.idle": "2025-06-08T18:08:22.758095Z",
     "shell.execute_reply": "2025-06-08T18:08:22.757463Z"
    },
    "papermill": {
     "duration": 0.009856,
     "end_time": "2025-06-08T18:08:22.759236",
     "exception": false,
     "start_time": "2025-06-08T18:08:22.749380",
     "status": "completed"
    },
    "tags": []
   },
   "outputs": [],
   "source": [
    "class CFG:\n",
    "    train_path = \"/kaggle/input/playground-series-s5e6/train.csv\"\n",
    "    test_path = \"/kaggle/input/playground-series-s5e6/test.csv\"\n",
    "    sample_sub_path = \"/kaggle/input/playground-series-s5e6/sample_submission.csv\"\n",
    "\n",
    "    original_path = \"/kaggle/input/fertilizer-prediction/Fertilizer Prediction.csv\"\n",
    "    \n",
    "    target = \"Fertilizer Name\"\n",
    "    n_folds = 5\n",
    "    seed = 42"
   ]
  },
  {
   "cell_type": "markdown",
   "id": "f918b995",
   "metadata": {
    "papermill": {
     "duration": 0.003498,
     "end_time": "2025-06-08T18:08:22.766504",
     "exception": false,
     "start_time": "2025-06-08T18:08:22.763006",
     "status": "completed"
    },
    "tags": []
   },
   "source": [
    "# Data loading and preprocessing"
   ]
  },
  {
   "cell_type": "code",
   "execution_count": 4,
   "id": "688ee680",
   "metadata": {
    "execution": {
     "iopub.execute_input": "2025-06-08T18:08:22.775346Z",
     "iopub.status.busy": "2025-06-08T18:08:22.774697Z",
     "iopub.status.idle": "2025-06-08T18:08:24.324686Z",
     "shell.execute_reply": "2025-06-08T18:08:24.324117Z"
    },
    "papermill": {
     "duration": 1.555726,
     "end_time": "2025-06-08T18:08:24.326102",
     "exception": false,
     "start_time": "2025-06-08T18:08:22.770376",
     "status": "completed"
    },
    "tags": []
   },
   "outputs": [],
   "source": [
    "train = pd.read_csv(CFG.train_path, index_col=\"id\")\n",
    "test = pd.read_csv(CFG.test_path, index_col=\"id\")\n",
    "original = pd.read_csv(CFG.original_path)\n",
    "\n",
    "cat_cols = train.select_dtypes(include=\"object\").columns.tolist()\n",
    "cat_cols = [c for c in cat_cols if c != CFG.target]\n",
    "train[cat_cols] = train[cat_cols].astype(str).astype(\"category\")\n",
    "test[cat_cols] = test[cat_cols].astype(str).astype(\"category\")\n",
    "original[cat_cols] = original[cat_cols].astype(str).astype(\"category\")\n",
    "\n",
    "label_encoder = LabelEncoder()\n",
    "train[CFG.target] = label_encoder.fit_transform(train[CFG.target])\n",
    "original[CFG.target] = label_encoder.transform(original[CFG.target])\n",
    "\n",
    "X = train.drop(CFG.target, axis=1)\n",
    "y = train[CFG.target]\n",
    "X_test = test\n",
    "\n",
    "X_original = original.drop(CFG.target, axis=1)\n",
    "y_original = original[CFG.target]"
   ]
  },
  {
   "cell_type": "code",
   "execution_count": 5,
   "id": "27e13b7f",
   "metadata": {
    "execution": {
     "iopub.execute_input": "2025-06-08T18:08:24.335625Z",
     "iopub.status.busy": "2025-06-08T18:08:24.335075Z",
     "iopub.status.idle": "2025-06-08T18:08:29.052389Z",
     "shell.execute_reply": "2025-06-08T18:08:29.051649Z"
    },
    "papermill": {
     "duration": 4.723416,
     "end_time": "2025-06-08T18:08:29.053767",
     "exception": false,
     "start_time": "2025-06-08T18:08:24.330351",
     "status": "completed"
    },
    "tags": []
   },
   "outputs": [
    {
     "data": {
      "text/html": [
       "<style type=\"text/css\">\n",
       "#T_75e61_row0_col0 {\n",
       "  width: 10em;\n",
       "  background: linear-gradient(90deg, #006837 100.0%, transparent 100.0%);\n",
       "}\n",
       "#T_75e61_row1_col0 {\n",
       "  width: 10em;\n",
       "  background: linear-gradient(90deg, #199750 90.2%, transparent 90.2%);\n",
       "}\n",
       "#T_75e61_row2_col0 {\n",
       "  width: 10em;\n",
       "  background: linear-gradient(90deg, #9bd469 71.7%, transparent 71.7%);\n",
       "}\n",
       "#T_75e61_row3_col0 {\n",
       "  width: 10em;\n",
       "  background: linear-gradient(90deg, #c9e881 63.1%, transparent 63.1%);\n",
       "}\n",
       "#T_75e61_row4_col0 {\n",
       "  width: 10em;\n",
       "  background: linear-gradient(90deg, #fee491 41.3%, transparent 41.3%);\n",
       "}\n",
       "#T_75e61_row5_col0 {\n",
       "  width: 10em;\n",
       "  background: linear-gradient(90deg, #fdb163 30.7%, transparent 30.7%);\n",
       "}\n",
       "#T_75e61_row6_col0 {\n",
       "  width: 10em;\n",
       "  background: linear-gradient(90deg, #fca85e 29.2%, transparent 29.2%);\n",
       "}\n",
       "#T_75e61_row7_col0 {\n",
       "  width: 10em;\n",
       "  background: linear-gradient(90deg, #ef633f 18.6%, transparent 18.6%);\n",
       "}\n",
       "</style>\n",
       "<table id=\"T_75e61\">\n",
       "  <thead>\n",
       "    <tr>\n",
       "      <th class=\"blank level0\" >&nbsp;</th>\n",
       "      <th id=\"T_75e61_level0_col0\" class=\"col_heading level0 col0\" >Mutual Information</th>\n",
       "    </tr>\n",
       "  </thead>\n",
       "  <tbody>\n",
       "    <tr>\n",
       "      <th id=\"T_75e61_level0_row0\" class=\"row_heading level0 row0\" >Moisture</th>\n",
       "      <td id=\"T_75e61_row0_col0\" class=\"data row0 col0\" >0.003308</td>\n",
       "    </tr>\n",
       "    <tr>\n",
       "      <th id=\"T_75e61_level0_row1\" class=\"row_heading level0 row1\" >Phosphorous</th>\n",
       "      <td id=\"T_75e61_row1_col0\" class=\"data row1 col0\" >0.002984</td>\n",
       "    </tr>\n",
       "    <tr>\n",
       "      <th id=\"T_75e61_level0_row2\" class=\"row_heading level0 row2\" >Nitrogen</th>\n",
       "      <td id=\"T_75e61_row2_col0\" class=\"data row2 col0\" >0.002373</td>\n",
       "    </tr>\n",
       "    <tr>\n",
       "      <th id=\"T_75e61_level0_row3\" class=\"row_heading level0 row3\" >Crop Type</th>\n",
       "      <td id=\"T_75e61_row3_col0\" class=\"data row3 col0\" >0.002088</td>\n",
       "    </tr>\n",
       "    <tr>\n",
       "      <th id=\"T_75e61_level0_row4\" class=\"row_heading level0 row4\" >Potassium</th>\n",
       "      <td id=\"T_75e61_row4_col0\" class=\"data row4 col0\" >0.001367</td>\n",
       "    </tr>\n",
       "    <tr>\n",
       "      <th id=\"T_75e61_level0_row5\" class=\"row_heading level0 row5\" >Humidity</th>\n",
       "      <td id=\"T_75e61_row5_col0\" class=\"data row5 col0\" >0.001015</td>\n",
       "    </tr>\n",
       "    <tr>\n",
       "      <th id=\"T_75e61_level0_row6\" class=\"row_heading level0 row6\" >Temparature</th>\n",
       "      <td id=\"T_75e61_row6_col0\" class=\"data row6 col0\" >0.000966</td>\n",
       "    </tr>\n",
       "    <tr>\n",
       "      <th id=\"T_75e61_level0_row7\" class=\"row_heading level0 row7\" >Soil Type</th>\n",
       "      <td id=\"T_75e61_row7_col0\" class=\"data row7 col0\" >0.000617</td>\n",
       "    </tr>\n",
       "  </tbody>\n",
       "</table>\n"
      ],
      "text/plain": [
       "<pandas.io.formats.style.Styler at 0x7cb7fe10afd0>"
      ]
     },
     "execution_count": 5,
     "metadata": {},
     "output_type": "execute_result"
    }
   ],
   "source": [
    "mutual_info = mutual_info_classif(X, y, random_state=CFG.seed, discrete_features=True)\n",
    "\n",
    "mutual_info = pd.Series(mutual_info)\n",
    "mutual_info.index = X.columns\n",
    "mutual_info = pd.DataFrame(mutual_info.sort_values(ascending=False), columns=['Mutual Information'])\n",
    "mutual_info.style.bar(subset=['Mutual Information'], cmap='RdYlGn')"
   ]
  },
  {
   "cell_type": "code",
   "execution_count": 6,
   "id": "0106a935",
   "metadata": {
    "execution": {
     "iopub.execute_input": "2025-06-08T18:08:29.063370Z",
     "iopub.status.busy": "2025-06-08T18:08:29.063098Z",
     "iopub.status.idle": "2025-06-08T18:08:29.599996Z",
     "shell.execute_reply": "2025-06-08T18:08:29.599241Z"
    },
    "papermill": {
     "duration": 0.543133,
     "end_time": "2025-06-08T18:08:29.601218",
     "exception": false,
     "start_time": "2025-06-08T18:08:29.058085",
     "status": "completed"
    },
    "tags": []
   },
   "outputs": [
    {
     "data": {
      "text/html": [
       "<style type=\"text/css\">\n",
       "#T_fe7e0_row0_col0 {\n",
       "  width: 10em;\n",
       "  background: linear-gradient(90deg, #006837 100.0%, transparent 100.0%);\n",
       "}\n",
       "#T_fe7e0_row1_col0 {\n",
       "  width: 10em;\n",
       "  background: linear-gradient(90deg, #016a38 99.5%, transparent 99.5%);\n",
       "}\n",
       "#T_fe7e0_row2_col0 {\n",
       "  width: 10em;\n",
       "  background: linear-gradient(90deg, #70c164 78.4%, transparent 78.4%);\n",
       "}\n",
       "#T_fe7e0_row3_col0 {\n",
       "  width: 10em;\n",
       "  background: linear-gradient(90deg, #fff2aa 45.9%, transparent 45.9%);\n",
       "}\n",
       "#T_fe7e0_row4_col0 {\n",
       "  width: 10em;\n",
       "  background: linear-gradient(90deg, #fecc7b 36.3%, transparent 36.3%);\n",
       "}\n",
       "#T_fe7e0_row5_col0 {\n",
       "  width: 10em;\n",
       "  background: linear-gradient(90deg, #fdb768 31.7%, transparent 31.7%);\n",
       "}\n",
       "#T_fe7e0_row6_col0 {\n",
       "  width: 10em;\n",
       "  background: linear-gradient(90deg, #f7844e 23.5%, transparent 23.5%);\n",
       "}\n",
       "#T_fe7e0_row7_col0 {\n",
       "  width: 10em;\n",
       "  background: linear-gradient(90deg, #cc2627 7.9%, transparent 7.9%);\n",
       "}\n",
       "</style>\n",
       "<table id=\"T_fe7e0\">\n",
       "  <thead>\n",
       "    <tr>\n",
       "      <th class=\"blank level0\" >&nbsp;</th>\n",
       "      <th id=\"T_fe7e0_level0_col0\" class=\"col_heading level0 col0\" >Mutual Information</th>\n",
       "    </tr>\n",
       "  </thead>\n",
       "  <tbody>\n",
       "    <tr>\n",
       "      <th id=\"T_fe7e0_level0_row0\" class=\"row_heading level0 row0\" >Phosphorous</th>\n",
       "      <td id=\"T_fe7e0_row0_col0\" class=\"data row0 col0\" >0.001362</td>\n",
       "    </tr>\n",
       "    <tr>\n",
       "      <th id=\"T_fe7e0_level0_row1\" class=\"row_heading level0 row1\" >Moisture</th>\n",
       "      <td id=\"T_fe7e0_row1_col0\" class=\"data row1 col0\" >0.001355</td>\n",
       "    </tr>\n",
       "    <tr>\n",
       "      <th id=\"T_fe7e0_level0_row2\" class=\"row_heading level0 row2\" >Nitrogen</th>\n",
       "      <td id=\"T_fe7e0_row2_col0\" class=\"data row2 col0\" >0.001068</td>\n",
       "    </tr>\n",
       "    <tr>\n",
       "      <th id=\"T_fe7e0_level0_row3\" class=\"row_heading level0 row3\" >Potassium</th>\n",
       "      <td id=\"T_fe7e0_row3_col0\" class=\"data row3 col0\" >0.000626</td>\n",
       "    </tr>\n",
       "    <tr>\n",
       "      <th id=\"T_fe7e0_level0_row4\" class=\"row_heading level0 row4\" >Humidity</th>\n",
       "      <td id=\"T_fe7e0_row4_col0\" class=\"data row4 col0\" >0.000494</td>\n",
       "    </tr>\n",
       "    <tr>\n",
       "      <th id=\"T_fe7e0_level0_row5\" class=\"row_heading level0 row5\" >Temparature</th>\n",
       "      <td id=\"T_fe7e0_row5_col0\" class=\"data row5 col0\" >0.000432</td>\n",
       "    </tr>\n",
       "    <tr>\n",
       "      <th id=\"T_fe7e0_level0_row6\" class=\"row_heading level0 row6\" >Crop Type</th>\n",
       "      <td id=\"T_fe7e0_row6_col0\" class=\"data row6 col0\" >0.000320</td>\n",
       "    </tr>\n",
       "    <tr>\n",
       "      <th id=\"T_fe7e0_level0_row7\" class=\"row_heading level0 row7\" >Soil Type</th>\n",
       "      <td id=\"T_fe7e0_row7_col0\" class=\"data row7 col0\" >0.000107</td>\n",
       "    </tr>\n",
       "  </tbody>\n",
       "</table>\n"
      ],
      "text/plain": [
       "<pandas.io.formats.style.Styler at 0x7cb7fedea350>"
      ]
     },
     "execution_count": 6,
     "metadata": {},
     "output_type": "execute_result"
    }
   ],
   "source": [
    "mutual_info = mutual_info_classif(X_original, y_original, random_state=CFG.seed, discrete_features=True)\n",
    "\n",
    "mutual_info = pd.Series(mutual_info)\n",
    "mutual_info.index = X_original.columns\n",
    "mutual_info = pd.DataFrame(mutual_info.sort_values(ascending=False), columns=['Mutual Information'])\n",
    "mutual_info.style.bar(subset=['Mutual Information'], cmap='RdYlGn')"
   ]
  },
  {
   "cell_type": "markdown",
   "id": "3fbebc47",
   "metadata": {
    "papermill": {
     "duration": 0.00412,
     "end_time": "2025-06-08T18:08:29.609699",
     "exception": false,
     "start_time": "2025-06-08T18:08:29.605579",
     "status": "completed"
    },
    "tags": []
   },
   "source": [
    "# Training base models"
   ]
  },
  {
   "cell_type": "code",
   "execution_count": 7,
   "id": "2507037b",
   "metadata": {
    "execution": {
     "iopub.execute_input": "2025-06-08T18:08:29.618460Z",
     "iopub.status.busy": "2025-06-08T18:08:29.618207Z",
     "iopub.status.idle": "2025-06-08T18:08:29.623445Z",
     "shell.execute_reply": "2025-06-08T18:08:29.622725Z"
    },
    "papermill": {
     "duration": 0.010888,
     "end_time": "2025-06-08T18:08:29.624515",
     "exception": false,
     "start_time": "2025-06-08T18:08:29.613627",
     "status": "completed"
    },
    "tags": []
   },
   "outputs": [],
   "source": [
    "def map3(y_true, y_pred_probs):\n",
    "    y_true = [[x] for x in y_true]\n",
    "    y_pred_probs = np.argsort(y_pred_probs, axis=1)[:, -3:][:, ::-1].tolist()\n",
    "    \n",
    "    def ap3(y_true, y_pred_probs):\n",
    "        y_pred_probs = y_pred_probs[:3]\n",
    "\n",
    "        score = 0.0\n",
    "        num_hits = 0.0\n",
    "\n",
    "        for i,p in enumerate(y_pred_probs):\n",
    "            if p in y_true and p not in y_pred_probs[:i]:\n",
    "                num_hits += 1.0\n",
    "                score += num_hits / (i+1.0)\n",
    "\n",
    "        if not y_true:\n",
    "            return 0.0\n",
    "\n",
    "        return score\n",
    "    \n",
    "    return np.mean([ap3(a,p) for a,p in zip(y_true, y_pred_probs)])"
   ]
  },
  {
   "cell_type": "code",
   "execution_count": 8,
   "id": "52e0d40d",
   "metadata": {
    "execution": {
     "iopub.execute_input": "2025-06-08T18:08:29.634039Z",
     "iopub.status.busy": "2025-06-08T18:08:29.633790Z",
     "iopub.status.idle": "2025-06-08T18:08:29.643796Z",
     "shell.execute_reply": "2025-06-08T18:08:29.643133Z"
    },
    "papermill": {
     "duration": 0.015829,
     "end_time": "2025-06-08T18:08:29.644877",
     "exception": false,
     "start_time": "2025-06-08T18:08:29.629048",
     "status": "completed"
    },
    "tags": []
   },
   "outputs": [],
   "source": [
    "class Trainer:\n",
    "    def __init__(self, model, config=CFG):\n",
    "        self.model = model\n",
    "        self.config = config\n",
    "\n",
    "    def fit_predict(self, X, y, X_test, X_original=None, y_original=None, fit_args={}):\n",
    "        print(f\"Training {self.model.__class__.__name__}\\n\")\n",
    "        \n",
    "        scores = []        \n",
    "        oof_pred_probs = np.zeros((X.shape[0], y.nunique()))\n",
    "        test_pred_probs = np.zeros((X_test.shape[0], y.nunique()))\n",
    "        \n",
    "        skf = StratifiedKFold(n_splits=self.config.n_folds, random_state=self.config.seed, shuffle=True)\n",
    "        for fold_idx, (train_idx, val_idx) in enumerate(skf.split(X, y)):\n",
    "            X_train, X_val = X.iloc[train_idx], X.iloc[val_idx]\n",
    "            y_train, y_val = y[train_idx], y[val_idx]\n",
    "\n",
    "            if X_original is not None and y_original is not None:\n",
    "                X_train = pd.concat([X_train, X_original])\n",
    "                y_train = pd.concat([y_train, y_original])\n",
    "            \n",
    "            model = clone(self.model)\n",
    "            \n",
    "            if fit_args:\n",
    "                model.fit(X_train, y_train, **fit_args, eval_set=[(X_val, y_val)])\n",
    "            else:\n",
    "                model.fit(X_train, y_train)\n",
    "            \n",
    "            y_pred_probs = model.predict_proba(X_val)\n",
    "            oof_pred_probs[val_idx] = y_pred_probs\n",
    "            \n",
    "            temp_test_pred_probs = model.predict_proba(X_test)\n",
    "            test_pred_probs += temp_test_pred_probs / self.config.n_folds\n",
    "            \n",
    "            score = map3(y_val, y_pred_probs)\n",
    "            scores.append(score)\n",
    "            \n",
    "            del model, X_train, y_train, X_val, y_val, y_pred_probs\n",
    "            gc.collect()\n",
    "            \n",
    "            if fit_args:\n",
    "                print(f\"\\n--- Fold {fold_idx + 1} - MAP@3: {score:.6f}\\n\\n\")\n",
    "            else:\n",
    "                print(f\"--- Fold {fold_idx + 1} - MAP@3: {score:.6f}\")\n",
    "                            \n",
    "        overall_score = map3(y, oof_pred_probs)\n",
    "            \n",
    "        print(f\"\\n------ Overall MAP@3: {overall_score:.6f} | Average MAP@3: {np.mean(scores):.6f} ± {np.std(scores):.6f}\")\n",
    "        \n",
    "        return oof_pred_probs, test_pred_probs, scores\n",
    "\n",
    "    def tune(self, X, y):        \n",
    "        scores = []        \n",
    "        \n",
    "        skf = StratifiedKFold(n_splits=self.config.n_folds, random_state=self.config.seed, shuffle=True)\n",
    "        for fold_idx, (train_idx, val_idx) in enumerate(skf.split(X, y)):\n",
    "            X_train, X_val = X.iloc[train_idx], X.iloc[val_idx]\n",
    "            y_train, y_val = y[train_idx], y[val_idx]\n",
    "            \n",
    "            model = clone(self.model)\n",
    "            model.fit(X_train, y_train)\n",
    "            \n",
    "            y_pred_probs = model.predict_proba(X_val)            \n",
    "            score = map3(y_val, y_pred_probs)\n",
    "            scores.append(score)\n",
    "            \n",
    "            del model, X_train, y_train, X_val, y_val, y_pred_probs\n",
    "            gc.collect()\n",
    "            \n",
    "        return np.mean(scores)"
   ]
  },
  {
   "cell_type": "code",
   "execution_count": 9,
   "id": "cab3b610",
   "metadata": {
    "_kg_hide-input": true,
    "execution": {
     "iopub.execute_input": "2025-06-08T18:08:29.653807Z",
     "iopub.status.busy": "2025-06-08T18:08:29.653583Z",
     "iopub.status.idle": "2025-06-08T18:08:29.658508Z",
     "shell.execute_reply": "2025-06-08T18:08:29.658025Z"
    },
    "papermill": {
     "duration": 0.010519,
     "end_time": "2025-06-08T18:08:29.659529",
     "exception": false,
     "start_time": "2025-06-08T18:08:29.649010",
     "status": "completed"
    },
    "tags": []
   },
   "outputs": [],
   "source": [
    "lgbm_params = {\n",
    "    \"boosting_type\": \"gbdt\",\n",
    "    \"device\": \"gpu\",\n",
    "    \"colsample_bytree\": 0.4366677273946288,\n",
    "    \"learning_rate\": 0.016164161953515117,\n",
    "    \"max_depth\": 12,\n",
    "    \"min_child_samples\": 67,\n",
    "    \"n_estimators\": 10000,\n",
    "    \"n_jobs\": -1,\n",
    "    \"num_leaves\": 243,\n",
    "    \"random_state\": 42,\n",
    "    \"reg_alpha\": 6.38288560443373,\n",
    "    \"reg_lambda\": 9.392999314379155,\n",
    "    \"subsample\": 0.7989164499431718,\n",
    "    \"verbose\": -1\n",
    "}\n",
    "\n",
    "lgbm_goss_params = {\n",
    "    \"boosting_type\": \"goss\",\n",
    "    \"device\": \"gpu\",\n",
    "    \"colsample_bytree\": 0.32751831793031183,\n",
    "    \"learning_rate\": 0.006700715059604966,\n",
    "    \"max_depth\": 12,\n",
    "    \"min_child_samples\": 84,\n",
    "    \"n_estimators\": 10000,\n",
    "    \"n_jobs\": -1,\n",
    "    \"num_leaves\": 229,\n",
    "    \"random_state\": 42,\n",
    "    \"reg_alpha\": 6.879977008084246,\n",
    "    \"reg_lambda\": 4.739518466581721,\n",
    "    \"subsample\": 0.5411572049978781,\n",
    "    \"verbose\": -1\n",
    "}\n",
    "\n",
    "xgb_params = {\n",
    "    # https://www.kaggle.com/code/patrykszcz/simple-xgb-model-5-fold\n",
    "    \"device\": \"gpu\",\n",
    "    \"max_depth\": 12,\n",
    "    \"colsample_bytree\": 0.467,\n",
    "    \"subsample\": 0.86,\n",
    "    \"n_estimators\": 10000,\n",
    "    \"learning_rate\": 0.03,\n",
    "    \"gamma\": 0.26,\n",
    "    \"max_delta_step\": 4,\n",
    "    \"reg_alpha\": 2.7,\n",
    "    \"reg_lambda\": 1.4,\n",
    "    \"early_stopping_rounds\": 100,\n",
    "    \"objective\": 'multi:softprob',\n",
    "    \"random_state\": 13,\n",
    "    \"enable_categorical\": True,\n",
    "}"
   ]
  },
  {
   "cell_type": "code",
   "execution_count": 10,
   "id": "92095f64",
   "metadata": {
    "execution": {
     "iopub.execute_input": "2025-06-08T18:08:29.668674Z",
     "iopub.status.busy": "2025-06-08T18:08:29.668444Z",
     "iopub.status.idle": "2025-06-08T18:08:29.671808Z",
     "shell.execute_reply": "2025-06-08T18:08:29.671152Z"
    },
    "papermill": {
     "duration": 0.009108,
     "end_time": "2025-06-08T18:08:29.672929",
     "exception": false,
     "start_time": "2025-06-08T18:08:29.663821",
     "status": "completed"
    },
    "tags": []
   },
   "outputs": [],
   "source": [
    "scores = {}\n",
    "oof_pred_probs = {}\n",
    "test_pred_probs = {}"
   ]
  },
  {
   "cell_type": "markdown",
   "id": "0d132463",
   "metadata": {
    "papermill": {
     "duration": 0.003808,
     "end_time": "2025-06-08T18:08:29.680878",
     "exception": false,
     "start_time": "2025-06-08T18:08:29.677070",
     "status": "completed"
    },
    "tags": []
   },
   "source": [
    "## LightGBM (gbdt)"
   ]
  },
  {
   "cell_type": "code",
   "execution_count": 11,
   "id": "8fcba070",
   "metadata": {
    "execution": {
     "iopub.execute_input": "2025-06-08T18:08:29.689688Z",
     "iopub.status.busy": "2025-06-08T18:08:29.689451Z",
     "iopub.status.idle": "2025-06-08T21:37:51.909498Z",
     "shell.execute_reply": "2025-06-08T21:37:51.908677Z"
    },
    "papermill": {
     "duration": 12562.225844,
     "end_time": "2025-06-08T21:37:51.910738",
     "exception": false,
     "start_time": "2025-06-08T18:08:29.684894",
     "status": "completed"
    },
    "scrolled": true,
    "tags": []
   },
   "outputs": [
    {
     "name": "stdout",
     "output_type": "stream",
     "text": [
      "Training LGBMClassifier\n",
      "\n"
     ]
    },
    {
     "name": "stderr",
     "output_type": "stream",
     "text": [
      "1 warning generated.\n",
      "1 warning generated.\n",
      "1 warning generated.\n",
      "1 warning generated.\n",
      "1 warning generated.\n",
      "1 warning generated.\n",
      "1 warning generated.\n",
      "1 warning generated.\n",
      "1 warning generated.\n",
      "1 warning generated.\n",
      "1 warning generated.\n",
      "1 warning generated.\n",
      "1 warning generated.\n",
      "1 warning generated.\n",
      "1 warning generated.\n",
      "1 warning generated.\n",
      "1 warning generated.\n",
      "1 warning generated.\n",
      "1 warning generated.\n",
      "1 warning generated.\n",
      "1 warning generated.\n",
      "1 warning generated.\n",
      "1 warning generated.\n",
      "1 warning generated.\n",
      "1 warning generated.\n",
      "1 warning generated.\n",
      "1 warning generated.\n",
      "1 warning generated.\n",
      "1 warning generated.\n",
      "1 warning generated.\n",
      "1 warning generated.\n",
      "1 warning generated.\n",
      "1 warning generated.\n"
     ]
    },
    {
     "name": "stdout",
     "output_type": "stream",
     "text": [
      "Training until validation scores don't improve for 100 rounds\n",
      "[1000]\tvalid_0's multi_logloss: 1.90103\n",
      "[2000]\tvalid_0's multi_logloss: 1.8955\n",
      "[3000]\tvalid_0's multi_logloss: 1.89473\n",
      "Early stopping, best iteration is:\n",
      "[3852]\tvalid_0's multi_logloss: 1.89453\n",
      "\n",
      "--- Fold 1 - MAP@3: 0.361463\n",
      "\n",
      "\n",
      "Training until validation scores don't improve for 100 rounds\n",
      "[1000]\tvalid_0's multi_logloss: 1.9004\n",
      "[2000]\tvalid_0's multi_logloss: 1.89433\n",
      "[3000]\tvalid_0's multi_logloss: 1.89329\n",
      "[4000]\tvalid_0's multi_logloss: 1.89309\n",
      "Early stopping, best iteration is:\n",
      "[3964]\tvalid_0's multi_logloss: 1.89309\n",
      "\n",
      "--- Fold 2 - MAP@3: 0.361983\n",
      "\n",
      "\n",
      "Training until validation scores don't improve for 100 rounds\n",
      "[1000]\tvalid_0's multi_logloss: 1.89955\n",
      "[2000]\tvalid_0's multi_logloss: 1.89307\n",
      "[3000]\tvalid_0's multi_logloss: 1.89175\n",
      "[4000]\tvalid_0's multi_logloss: 1.89156\n",
      "Early stopping, best iteration is:\n",
      "[3955]\tvalid_0's multi_logloss: 1.89156\n",
      "\n",
      "--- Fold 3 - MAP@3: 0.364744\n",
      "\n",
      "\n",
      "Training until validation scores don't improve for 100 rounds\n",
      "[1000]\tvalid_0's multi_logloss: 1.90134\n",
      "[2000]\tvalid_0's multi_logloss: 1.8955\n",
      "[3000]\tvalid_0's multi_logloss: 1.8944\n",
      "Early stopping, best iteration is:\n",
      "[2913]\tvalid_0's multi_logloss: 1.89439\n",
      "\n",
      "--- Fold 4 - MAP@3: 0.361972\n",
      "\n",
      "\n",
      "Training until validation scores don't improve for 100 rounds\n",
      "[1000]\tvalid_0's multi_logloss: 1.90041\n",
      "[2000]\tvalid_0's multi_logloss: 1.89465\n",
      "[3000]\tvalid_0's multi_logloss: 1.89355\n",
      "Early stopping, best iteration is:\n",
      "[3568]\tvalid_0's multi_logloss: 1.89344\n",
      "\n",
      "--- Fold 5 - MAP@3: 0.363243\n",
      "\n",
      "\n",
      "\n",
      "------ Overall MAP@3: 0.362681 | Average MAP@3: 0.362681 ± 0.001187\n"
     ]
    }
   ],
   "source": [
    "lgbm_model = LGBMClassifier(**lgbm_params)\n",
    "lgbm_trainer = Trainer(lgbm_model)\n",
    "\n",
    "fit_args = {\n",
    "    \"callbacks\": [\n",
    "        log_evaluation(period=1000), \n",
    "        early_stopping(stopping_rounds=100)\n",
    "    ]\n",
    "}\n",
    "\n",
    "oof_pred_probs[\"LightGBM (gbdt)\"], test_pred_probs[\"LightGBM (gbdt)\"], scores[\"LightGBM (gbdt)\"] = lgbm_trainer.fit_predict(X, y, X_test, X_original, y_original, fit_args)"
   ]
  },
  {
   "cell_type": "markdown",
   "id": "154c9c64",
   "metadata": {
    "papermill": {
     "duration": 0.005772,
     "end_time": "2025-06-08T21:37:51.922772",
     "exception": false,
     "start_time": "2025-06-08T21:37:51.917000",
     "status": "completed"
    },
    "tags": []
   },
   "source": [
    "## LightGBM (goss)"
   ]
  },
  {
   "cell_type": "code",
   "execution_count": 12,
   "id": "af269590",
   "metadata": {
    "execution": {
     "iopub.execute_input": "2025-06-08T21:37:51.935912Z",
     "iopub.status.busy": "2025-06-08T21:37:51.935202Z",
     "iopub.status.idle": "2025-06-09T03:40:50.870260Z",
     "shell.execute_reply": "2025-06-09T03:40:50.869440Z"
    },
    "papermill": {
     "duration": 21778.943079,
     "end_time": "2025-06-09T03:40:50.871574",
     "exception": false,
     "start_time": "2025-06-08T21:37:51.928495",
     "status": "completed"
    },
    "tags": []
   },
   "outputs": [
    {
     "name": "stdout",
     "output_type": "stream",
     "text": [
      "Training LGBMClassifier\n",
      "\n",
      "Training until validation scores don't improve for 100 rounds\n",
      "[1000]\tvalid_0's multi_logloss: 1.91086\n",
      "[2000]\tvalid_0's multi_logloss: 1.90132\n",
      "[3000]\tvalid_0's multi_logloss: 1.8972\n",
      "[4000]\tvalid_0's multi_logloss: 1.89579\n",
      "Early stopping, best iteration is:\n",
      "[4262]\tvalid_0's multi_logloss: 1.89568\n",
      "\n",
      "--- Fold 1 - MAP@3: 0.359682\n",
      "\n",
      "\n",
      "Training until validation scores don't improve for 100 rounds\n",
      "[1000]\tvalid_0's multi_logloss: 1.9106\n",
      "[2000]\tvalid_0's multi_logloss: 1.90074\n",
      "[3000]\tvalid_0's multi_logloss: 1.89628\n",
      "[4000]\tvalid_0's multi_logloss: 1.89447\n",
      "Early stopping, best iteration is:\n",
      "[4464]\tvalid_0's multi_logloss: 1.89408\n",
      "\n",
      "--- Fold 2 - MAP@3: 0.360416\n",
      "\n",
      "\n",
      "Training until validation scores don't improve for 100 rounds\n",
      "[1000]\tvalid_0's multi_logloss: 1.91002\n",
      "[2000]\tvalid_0's multi_logloss: 1.89992\n",
      "[3000]\tvalid_0's multi_logloss: 1.89518\n",
      "[4000]\tvalid_0's multi_logloss: 1.89333\n",
      "Early stopping, best iteration is:\n",
      "[4756]\tvalid_0's multi_logloss: 1.89292\n",
      "\n",
      "--- Fold 3 - MAP@3: 0.362716\n",
      "\n",
      "\n",
      "Training until validation scores don't improve for 100 rounds\n",
      "[1000]\tvalid_0's multi_logloss: 1.91106\n",
      "[2000]\tvalid_0's multi_logloss: 1.90167\n",
      "[3000]\tvalid_0's multi_logloss: 1.8975\n",
      "[4000]\tvalid_0's multi_logloss: 1.89601\n",
      "Early stopping, best iteration is:\n",
      "[4466]\tvalid_0's multi_logloss: 1.8958\n",
      "\n",
      "--- Fold 4 - MAP@3: 0.361187\n",
      "\n",
      "\n",
      "Training until validation scores don't improve for 100 rounds\n",
      "[1000]\tvalid_0's multi_logloss: 1.91029\n",
      "[2000]\tvalid_0's multi_logloss: 1.90053\n",
      "[3000]\tvalid_0's multi_logloss: 1.89626\n",
      "[4000]\tvalid_0's multi_logloss: 1.89462\n",
      "Early stopping, best iteration is:\n",
      "[4538]\tvalid_0's multi_logloss: 1.89432\n",
      "\n",
      "--- Fold 5 - MAP@3: 0.361828\n",
      "\n",
      "\n",
      "\n",
      "------ Overall MAP@3: 0.361166 | Average MAP@3: 0.361166 ± 0.001059\n"
     ]
    }
   ],
   "source": [
    "lgb_goss_model = LGBMClassifier(**lgbm_goss_params)\n",
    "lgb_goss_trainer = Trainer(lgb_goss_model)\n",
    "\n",
    "fit_args = {\n",
    "    \"callbacks\": [\n",
    "        log_evaluation(period=1000), \n",
    "        early_stopping(stopping_rounds=100)\n",
    "    ]\n",
    "}\n",
    "\n",
    "oof_pred_probs[\"LightGBM (goss)\"], test_pred_probs[\"LightGBM (goss)\"], scores[\"LightGBM (goss)\"] = lgb_goss_trainer.fit_predict(X, y, X_test, X_original, y_original, fit_args)"
   ]
  },
  {
   "cell_type": "markdown",
   "id": "74f0283d",
   "metadata": {
    "papermill": {
     "duration": 0.007728,
     "end_time": "2025-06-09T03:40:50.887250",
     "exception": false,
     "start_time": "2025-06-09T03:40:50.879522",
     "status": "completed"
    },
    "tags": []
   },
   "source": [
    "## XGBoost"
   ]
  },
  {
   "cell_type": "code",
   "execution_count": 13,
   "id": "e24202b4",
   "metadata": {
    "execution": {
     "iopub.execute_input": "2025-06-09T03:40:50.902606Z",
     "iopub.status.busy": "2025-06-09T03:40:50.902394Z",
     "iopub.status.idle": "2025-06-09T04:06:41.905174Z",
     "shell.execute_reply": "2025-06-09T04:06:41.904344Z"
    },
    "papermill": {
     "duration": 1551.011967,
     "end_time": "2025-06-09T04:06:41.906476",
     "exception": false,
     "start_time": "2025-06-09T03:40:50.894509",
     "status": "completed"
    },
    "tags": []
   },
   "outputs": [
    {
     "name": "stdout",
     "output_type": "stream",
     "text": [
      "Training XGBClassifier\n",
      "\n",
      "[0]\tvalidation_0-mlogloss:1.94561\n",
      "[1000]\tvalidation_0-mlogloss:1.89243\n",
      "[1612]\tvalidation_0-mlogloss:1.89131\n",
      "\n",
      "--- Fold 1 - MAP@3: 0.364166\n",
      "\n",
      "\n",
      "[0]\tvalidation_0-mlogloss:1.94561\n",
      "[1000]\tvalidation_0-mlogloss:1.89137\n",
      "[1676]\tvalidation_0-mlogloss:1.88990\n",
      "\n",
      "--- Fold 2 - MAP@3: 0.364966\n",
      "\n",
      "\n",
      "[0]\tvalidation_0-mlogloss:1.94560\n",
      "[1000]\tvalidation_0-mlogloss:1.89034\n",
      "[1775]\tvalidation_0-mlogloss:1.88870\n",
      "\n",
      "--- Fold 3 - MAP@3: 0.367839\n",
      "\n",
      "\n",
      "[0]\tvalidation_0-mlogloss:1.94559\n",
      "[1000]\tvalidation_0-mlogloss:1.89243\n",
      "[1617]\tvalidation_0-mlogloss:1.89133\n",
      "\n",
      "--- Fold 4 - MAP@3: 0.365098\n",
      "\n",
      "\n",
      "[0]\tvalidation_0-mlogloss:1.94560\n",
      "[1000]\tvalidation_0-mlogloss:1.89158\n",
      "[1618]\tvalidation_0-mlogloss:1.89007\n",
      "\n",
      "--- Fold 5 - MAP@3: 0.366344\n",
      "\n",
      "\n",
      "\n",
      "------ Overall MAP@3: 0.365682 | Average MAP@3: 0.365682 ± 0.001284\n"
     ]
    }
   ],
   "source": [
    "xgb_model = XGBClassifier(**xgb_params)\n",
    "xgb_trainer = Trainer(xgb_model)\n",
    "\n",
    "fit_args = {\n",
    "    \"verbose\": 1000\n",
    "}\n",
    "\n",
    "oof_pred_probs[\"XGBoost\"], test_pred_probs[\"XGBoost\"], scores[\"XGBoost\"] = xgb_trainer.fit_predict(X, y, X_test, X_original, y_original, fit_args)"
   ]
  },
  {
   "cell_type": "markdown",
   "id": "79ba458e",
   "metadata": {
    "papermill": {
     "duration": 0.00784,
     "end_time": "2025-06-09T04:06:41.923073",
     "exception": false,
     "start_time": "2025-06-09T04:06:41.915233",
     "status": "completed"
    },
    "tags": []
   },
   "source": [
    "## AutoGluon"
   ]
  },
  {
   "cell_type": "code",
   "execution_count": 14,
   "id": "f46f9249",
   "metadata": {
    "execution": {
     "iopub.execute_input": "2025-06-09T04:06:41.940721Z",
     "iopub.status.busy": "2025-06-09T04:06:41.940033Z",
     "iopub.status.idle": "2025-06-09T04:06:44.409654Z",
     "shell.execute_reply": "2025-06-09T04:06:44.409094Z"
    },
    "papermill": {
     "duration": 2.479878,
     "end_time": "2025-06-09T04:06:44.411053",
     "exception": false,
     "start_time": "2025-06-09T04:06:41.931175",
     "status": "completed"
    },
    "tags": []
   },
   "outputs": [],
   "source": [
    "oof_preds_files = glob.glob(f'/kaggle/input/s05e06-fertilizer-optimization-autogluon/*_oof_pred_probs_*.pkl')\n",
    "test_preds_files = glob.glob(f'/kaggle/input/s05e06-fertilizer-optimization-autogluon/*_test_pred_probs_*.pkl')\n",
    "\n",
    "ag_oof_preds = joblib.load(oof_preds_files[0])\n",
    "ag_test_preds = joblib.load(test_preds_files[0])\n",
    "\n",
    "ag_scores = []\n",
    "split = StratifiedKFold(n_splits=CFG.n_folds, random_state=CFG.seed, shuffle=True).split(X, y)\n",
    "for _, val_idx in split:\n",
    "    y_val = y[val_idx]\n",
    "    y_preds = ag_oof_preds[val_idx]\n",
    "    score = map3(y_val, y_preds)\n",
    "    ag_scores.append(score)\n",
    "    \n",
    "oof_pred_probs[\"AutoGluon\"], test_pred_probs[\"AutoGluon\"], scores[\"AutoGluon\"] = ag_oof_preds, ag_test_preds, ag_scores"
   ]
  },
  {
   "cell_type": "markdown",
   "id": "dd5096c8",
   "metadata": {
    "papermill": {
     "duration": 0.007975,
     "end_time": "2025-06-09T04:06:44.427800",
     "exception": false,
     "start_time": "2025-06-09T04:06:44.419825",
     "status": "completed"
    },
    "tags": []
   },
   "source": [
    "# Ensembling with LogisticRegression"
   ]
  },
  {
   "cell_type": "code",
   "execution_count": 15,
   "id": "2b4dcf91",
   "metadata": {
    "execution": {
     "iopub.execute_input": "2025-06-09T04:06:44.444564Z",
     "iopub.status.busy": "2025-06-09T04:06:44.444322Z",
     "iopub.status.idle": "2025-06-09T04:06:44.579839Z",
     "shell.execute_reply": "2025-06-09T04:06:44.579026Z"
    },
    "papermill": {
     "duration": 0.145636,
     "end_time": "2025-06-09T04:06:44.581336",
     "exception": false,
     "start_time": "2025-06-09T04:06:44.435700",
     "status": "completed"
    },
    "tags": []
   },
   "outputs": [],
   "source": [
    "X = pd.DataFrame(np.concatenate(list(oof_pred_probs.values()), axis=1))\n",
    "X_test = pd.DataFrame(np.concatenate(list(test_pred_probs.values()), axis=1))"
   ]
  },
  {
   "cell_type": "code",
   "execution_count": 16,
   "id": "cf14ccc0",
   "metadata": {
    "execution": {
     "iopub.execute_input": "2025-06-09T04:06:44.599609Z",
     "iopub.status.busy": "2025-06-09T04:06:44.599370Z",
     "iopub.status.idle": "2025-06-09T04:06:44.808941Z",
     "shell.execute_reply": "2025-06-09T04:06:44.808298Z"
    },
    "papermill": {
     "duration": 0.219635,
     "end_time": "2025-06-09T04:06:44.810106",
     "exception": false,
     "start_time": "2025-06-09T04:06:44.590471",
     "status": "completed"
    },
    "tags": []
   },
   "outputs": [
    {
     "data": {
      "text/plain": [
       "['test_pred_probs.pkl']"
      ]
     },
     "execution_count": 16,
     "metadata": {},
     "output_type": "execute_result"
    }
   ],
   "source": [
    "joblib.dump(X, \"oof_pred_probs.pkl\")\n",
    "joblib.dump(X_test, \"test_pred_probs.pkl\")"
   ]
  },
  {
   "cell_type": "code",
   "execution_count": 17,
   "id": "a126ffba",
   "metadata": {
    "execution": {
     "iopub.execute_input": "2025-06-09T04:06:44.828045Z",
     "iopub.status.busy": "2025-06-09T04:06:44.827794Z",
     "iopub.status.idle": "2025-06-09T04:09:14.814569Z",
     "shell.execute_reply": "2025-06-09T04:09:14.813776Z"
    },
    "papermill": {
     "duration": 149.996918,
     "end_time": "2025-06-09T04:09:14.815864",
     "exception": false,
     "start_time": "2025-06-09T04:06:44.818946",
     "status": "completed"
    },
    "tags": []
   },
   "outputs": [
    {
     "name": "stdout",
     "output_type": "stream",
     "text": [
      "Training LogisticRegression\n",
      "\n",
      "--- Fold 1 - MAP@3: 0.364484\n",
      "--- Fold 2 - MAP@3: 0.365964\n",
      "--- Fold 3 - MAP@3: 0.368739\n",
      "--- Fold 4 - MAP@3: 0.366283\n",
      "--- Fold 5 - MAP@3: 0.366002\n",
      "\n",
      "------ Overall MAP@3: 0.366295 | Average MAP@3: 0.366295 ± 0.001374\n"
     ]
    }
   ],
   "source": [
    "lr_model = LogisticRegression(\n",
    "    random_state=42, \n",
    "    max_iter=1000, \n",
    "    solver='liblinear', \n",
    "    penalty='l2', \n",
    "    C=32.89802104596641,\n",
    "    tol=0.0029878837974181643,\n",
    "    fit_intercept=True\n",
    ") \n",
    "lr_trainer = Trainer(lr_model)\n",
    "_, lr_test_pred_probs, scores[\"LogisticRegression\"] = lr_trainer.fit_predict(X, y, X_test)"
   ]
  },
  {
   "cell_type": "code",
   "execution_count": 18,
   "id": "9e95fc21",
   "metadata": {
    "execution": {
     "iopub.execute_input": "2025-06-09T04:09:14.834926Z",
     "iopub.status.busy": "2025-06-09T04:09:14.834706Z",
     "iopub.status.idle": "2025-06-09T04:09:36.707074Z",
     "shell.execute_reply": "2025-06-09T04:09:36.706487Z"
    },
    "papermill": {
     "duration": 21.882951,
     "end_time": "2025-06-09T04:09:36.708464",
     "exception": false,
     "start_time": "2025-06-09T04:09:14.825513",
     "status": "completed"
    },
    "tags": []
   },
   "outputs": [],
   "source": [
    "final_predictions = []\n",
    "for i in np.argsort(lr_test_pred_probs)[:, -3:][:, ::-1]:\n",
    "    prediction = label_encoder.inverse_transform(i)\n",
    "    final_predictions.append(\" \".join(prediction))"
   ]
  },
  {
   "cell_type": "code",
   "execution_count": 19,
   "id": "441afc7c",
   "metadata": {
    "execution": {
     "iopub.execute_input": "2025-06-09T04:09:36.727768Z",
     "iopub.status.busy": "2025-06-09T04:09:36.727537Z",
     "iopub.status.idle": "2025-06-09T04:09:37.193772Z",
     "shell.execute_reply": "2025-06-09T04:09:37.193086Z"
    },
    "papermill": {
     "duration": 0.476812,
     "end_time": "2025-06-09T04:09:37.194944",
     "exception": false,
     "start_time": "2025-06-09T04:09:36.718132",
     "status": "completed"
    },
    "tags": []
   },
   "outputs": [
    {
     "data": {
      "text/html": [
       "<div>\n",
       "<style scoped>\n",
       "    .dataframe tbody tr th:only-of-type {\n",
       "        vertical-align: middle;\n",
       "    }\n",
       "\n",
       "    .dataframe tbody tr th {\n",
       "        vertical-align: top;\n",
       "    }\n",
       "\n",
       "    .dataframe thead th {\n",
       "        text-align: right;\n",
       "    }\n",
       "</style>\n",
       "<table border=\"1\" class=\"dataframe\">\n",
       "  <thead>\n",
       "    <tr style=\"text-align: right;\">\n",
       "      <th></th>\n",
       "      <th>id</th>\n",
       "      <th>Fertilizer Name</th>\n",
       "    </tr>\n",
       "  </thead>\n",
       "  <tbody>\n",
       "    <tr>\n",
       "      <th>0</th>\n",
       "      <td>750000</td>\n",
       "      <td>10-26-26 20-20 DAP</td>\n",
       "    </tr>\n",
       "    <tr>\n",
       "      <th>1</th>\n",
       "      <td>750001</td>\n",
       "      <td>17-17-17 10-26-26 20-20</td>\n",
       "    </tr>\n",
       "    <tr>\n",
       "      <th>2</th>\n",
       "      <td>750002</td>\n",
       "      <td>20-20 28-28 Urea</td>\n",
       "    </tr>\n",
       "    <tr>\n",
       "      <th>3</th>\n",
       "      <td>750003</td>\n",
       "      <td>14-35-14 DAP 17-17-17</td>\n",
       "    </tr>\n",
       "    <tr>\n",
       "      <th>4</th>\n",
       "      <td>750004</td>\n",
       "      <td>20-20 Urea 10-26-26</td>\n",
       "    </tr>\n",
       "  </tbody>\n",
       "</table>\n",
       "</div>"
      ],
      "text/plain": [
       "       id          Fertilizer Name\n",
       "0  750000       10-26-26 20-20 DAP\n",
       "1  750001  17-17-17 10-26-26 20-20\n",
       "2  750002         20-20 28-28 Urea\n",
       "3  750003    14-35-14 DAP 17-17-17\n",
       "4  750004      20-20 Urea 10-26-26"
      ]
     },
     "execution_count": 19,
     "metadata": {},
     "output_type": "execute_result"
    }
   ],
   "source": [
    "sub = pd.read_csv(CFG.sample_sub_path)\n",
    "sub[CFG.target] = final_predictions\n",
    "sub.to_csv(f\"sub_logistic-regression_{np.mean(scores['LogisticRegression']):.6f}.csv\", index=False)\n",
    "sub.head()"
   ]
  },
  {
   "cell_type": "markdown",
   "id": "1037037e",
   "metadata": {
    "papermill": {
     "duration": 0.008658,
     "end_time": "2025-06-09T04:09:37.213325",
     "exception": false,
     "start_time": "2025-06-09T04:09:37.204667",
     "status": "completed"
    },
    "tags": []
   },
   "source": [
    "# Results"
   ]
  },
  {
   "cell_type": "code",
   "execution_count": 20,
   "id": "298f83c7",
   "metadata": {
    "execution": {
     "iopub.execute_input": "2025-06-09T04:09:37.231640Z",
     "iopub.status.busy": "2025-06-09T04:09:37.231408Z",
     "iopub.status.idle": "2025-06-09T04:09:37.611096Z",
     "shell.execute_reply": "2025-06-09T04:09:37.610447Z"
    },
    "papermill": {
     "duration": 0.390452,
     "end_time": "2025-06-09T04:09:37.612407",
     "exception": false,
     "start_time": "2025-06-09T04:09:37.221955",
     "status": "completed"
    },
    "tags": []
   },
   "outputs": [
    {
     "data": {
      "image/png": "[encoded data removed]",
      "text/plain": [
       "<Figure size 1500x200 with 2 Axes>"
      ]
     },
     "metadata": {},
     "output_type": "display_data"
    }
   ],
   "source": [
    "scores = pd.DataFrame(scores)\n",
    "mean_scores = scores.mean().sort_values(ascending=False)\n",
    "order = scores.mean().sort_values(ascending=False).index.tolist()\n",
    "\n",
    "min_score = mean_scores.min()\n",
    "max_score = mean_scores.max()\n",
    "padding = (max_score - min_score) * 0.5\n",
    "lower_limit = min_score - padding\n",
    "upper_limit = max_score + padding\n",
    "\n",
    "fig, axs = plt.subplots(1, 2, figsize=(15, scores.shape[1] * 0.4))\n",
    "\n",
    "boxplot = sns.boxplot(data=scores, order=order, ax=axs[0], orient=\"h\", color=\"grey\")\n",
    "axs[0].set_title(f\"Fold MAP@3\")\n",
    "axs[0].set_xlabel(\"\")\n",
    "axs[0].set_ylabel(\"\")\n",
    "\n",
    "barplot = sns.barplot(x=mean_scores.values, y=mean_scores.index, ax=axs[1], color=\"grey\")\n",
    "axs[1].set_title(f\"Mean MAP@3\")\n",
    "axs[1].set_xlabel(\"\")\n",
    "axs[1].set_xlim(left=lower_limit, right=upper_limit)\n",
    "axs[1].set_ylabel(\"\")\n",
    "\n",
    "for i, (score, model) in enumerate(zip(mean_scores.values, mean_scores.index)):\n",
    "    color = \"cyan\" if \"logistic\" in model.lower() else \"grey\"\n",
    "    barplot.patches[i].set_facecolor(color)\n",
    "    boxplot.patches[i].set_facecolor(color)\n",
    "    barplot.text(score, i, round(score, 6), va=\"center\")\n",
    "\n",
    "plt.tight_layout()\n",
    "plt.show()"
   ]
  },
  {
   "cell_type": "code",
   "execution_count": 21,
   "id": "5a1ad809",
   "metadata": {
    "execution": {
     "iopub.execute_input": "2025-06-09T04:09:37.632433Z",
     "iopub.status.busy": "2025-06-09T04:09:37.631868Z",
     "iopub.status.idle": "2025-06-09T04:09:37.635173Z",
     "shell.execute_reply": "2025-06-09T04:09:37.634650Z"
    },
    "papermill": {
     "duration": 0.014086,
     "end_time": "2025-06-09T04:09:37.636247",
     "exception": false,
     "start_time": "2025-06-09T04:09:37.622161",
     "status": "completed"
    },
    "tags": []
   },
   "outputs": [],
   "source": [
    "shutil.rmtree(\"catboost_info\", ignore_errors=True)"
   ]
  }
 ],
 "metadata": {
  "kaggle": {
   "accelerator": "gpu",
   "dataSources": [
    {
     "databundleVersionId": 12184666,
     "sourceId": 91717,
     "sourceType": "competition"
    },
    {
     "datasetId": 7269189,
     "sourceId": 11592231,
     "sourceType": "datasetVersion"
    },
    {
     "sourceId": 243931519,
     "sourceType": "kernelVersion"
    }
   ],
   "dockerImageVersionId": 31041,
   "isGpuEnabled": true,
   "isInternetEnabled": true,
   "language": "python",
   "sourceType": "notebook"
  },
  "kernelspec": {
   "display_name": "Python 3",
   "language": "python",
   "name": "python3"
  },
  "language_info": {
   "codemirror_mode": {
    "name": "ipython",
    "version": 3
   },
   "file_extension": ".py",
   "mimetype": "text/x-python",
   "name": "python",
   "nbconvert_exporter": "python",
   "pygments_lexer": "ipython3",
   "version": "3.11.11"
  },
  "papermill": {
   "default_parameters": {},
   "duration": 36094.81581,
   "end_time": "2025-06-09T04:09:38.594556",
   "environment_variables": {},
   "exception": null,
   "input_path": "__notebook__.ipynb",
   "output_path": "__notebook__.ipynb",
   "parameters": {},
   "start_time": "2025-06-08T18:08:03.778746",
   "version": "2.6.0"
  }
 },
 "nbformat": 4,
 "nbformat_minor": 5
}
