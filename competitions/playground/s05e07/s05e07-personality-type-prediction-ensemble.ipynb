{
 "cells": [
  {
   "cell_type": "markdown",
   "id": "929b8763",
   "metadata": {
    "papermill": {
     "duration": 0.007046,
     "end_time": "2025-07-08T07:25:28.545423",
     "exception": false,
     "start_time": "2025-07-08T07:25:28.538377",
     "status": "completed"
    },
    "tags": []
   },
   "source": [
    "# Imports and configs"
   ]
  },
  {
   "cell_type": "code",
   "execution_count": 1,
   "id": "dfcf6c15",
   "metadata": {
    "_kg_hide-output": true,
    "execution": {
     "iopub.execute_input": "2025-07-08T07:25:28.559763Z",
     "iopub.status.busy": "2025-07-08T07:25:28.559462Z",
     "iopub.status.idle": "2025-07-08T07:25:38.150216Z",
     "shell.execute_reply": "2025-07-08T07:25:38.148984Z"
    },
    "papermill": {
     "duration": 9.599608,
     "end_time": "2025-07-08T07:25:38.151804",
     "exception": false,
     "start_time": "2025-07-08T07:25:28.552196",
     "status": "completed"
    },
    "scrolled": true,
    "tags": []
   },
   "outputs": [
    {
     "name": "stdout",
     "output_type": "stream",
     "text": [
      "Collecting scikit-learn==1.5.2\r\n",
      "  Downloading scikit_learn-1.5.2-cp311-cp311-manylinux_2_17_x86_64.manylinux2014_x86_64.whl.metadata (13 kB)\r\n",
      "Collecting koolbox\r\n",
      "  Downloading koolbox-0.1.3-py3-none-any.whl.metadata (3.4 kB)\r\n",
      "Requirement already satisfied: numpy>=1.19.5 in /usr/local/lib/python3.11/dist-packages (from scikit-learn==1.5.2) (1.26.4)\r\n",
      "Requirement already satisfied: scipy>=1.6.0 in /usr/local/lib/python3.11/dist-packages (from scikit-learn==1.5.2) (1.15.2)\r\n",
      "Requirement already satisfied: joblib>=1.2.0 in /usr/local/lib/python3.11/dist-packages (from scikit-learn==1.5.2) (1.5.0)\r\n",
      "Requirement already satisfied: threadpoolctl>=3.1.0 in /usr/local/lib/python3.11/dist-packages (from scikit-learn==1.5.2) (3.6.0)\r\n",
      "Requirement already satisfied: optuna>=4.2.1 in /usr/local/lib/python3.11/dist-packages (from koolbox) (4.3.0)\r\n",
      "Requirement already satisfied: pandas>=2.2.3 in /usr/local/lib/python3.11/dist-packages (from koolbox) (2.2.3)\r\n",
      "Requirement already satisfied: mkl_fft in /usr/local/lib/python3.11/dist-packages (from numpy>=1.19.5->scikit-learn==1.5.2) (1.3.8)\r\n",
      "Requirement already satisfied: mkl_random in /usr/local/lib/python3.11/dist-packages (from numpy>=1.19.5->scikit-learn==1.5.2) (1.2.4)\r\n",
      "Requirement already satisfied: mkl_umath in /usr/local/lib/python3.11/dist-packages (from numpy>=1.19.5->scikit-learn==1.5.2) (0.1.1)\r\n",
      "Requirement already satisfied: mkl in /usr/local/lib/python3.11/dist-packages (from numpy>=1.19.5->scikit-learn==1.5.2) (2025.1.0)\r\n",
      "Requirement already satisfied: tbb4py in /usr/local/lib/python3.11/dist-packages (from numpy>=1.19.5->scikit-learn==1.5.2) (2022.1.0)\r\n",
      "Requirement already satisfied: mkl-service in /usr/local/lib/python3.11/dist-packages (from numpy>=1.19.5->scikit-learn==1.5.2) (2.4.1)\r\n",
      "Requirement already satisfied: alembic>=1.5.0 in /usr/local/lib/python3.11/dist-packages (from optuna>=4.2.1->koolbox) (1.15.2)\r\n",
      "Requirement already satisfied: colorlog in /usr/local/lib/python3.11/dist-packages (from optuna>=4.2.1->koolbox) (6.9.0)\r\n",
      "Requirement already satisfied: packaging>=20.0 in /usr/local/lib/python3.11/dist-packages (from optuna>=4.2.1->koolbox) (25.0)\r\n",
      "Requirement already satisfied: sqlalchemy>=1.4.2 in /usr/local/lib/python3.11/dist-packages (from optuna>=4.2.1->koolbox) (2.0.40)\r\n",
      "Requirement already satisfied: tqdm in /usr/local/lib/python3.11/dist-packages (from optuna>=4.2.1->koolbox) (4.67.1)\r\n",
      "Requirement already satisfied: PyYAML in /usr/local/lib/python3.11/dist-packages (from optuna>=4.2.1->koolbox) (6.0.2)\r\n",
      "Requirement already satisfied: python-dateutil>=2.8.2 in /usr/local/lib/python3.11/dist-packages (from pandas>=2.2.3->koolbox) (2.9.0.post0)\r\n",
      "Requirement already satisfied: pytz>=2020.1 in /usr/local/lib/python3.11/dist-packages (from pandas>=2.2.3->koolbox) (2025.2)\r\n",
      "Requirement already satisfied: tzdata>=2022.7 in /usr/local/lib/python3.11/dist-packages (from pandas>=2.2.3->koolbox) (2025.2)\r\n",
      "Requirement already satisfied: Mako in /usr/local/lib/python3.11/dist-packages (from alembic>=1.5.0->optuna>=4.2.1->koolbox) (1.3.10)\r\n",
      "Requirement already satisfied: typing-extensions>=4.12 in /usr/local/lib/python3.11/dist-packages (from alembic>=1.5.0->optuna>=4.2.1->koolbox) (4.13.2)\r\n",
      "Requirement already satisfied: six>=1.5 in /usr/local/lib/python3.11/dist-packages (from python-dateutil>=2.8.2->pandas>=2.2.3->koolbox) (1.17.0)\r\n",
      "Requirement already satisfied: greenlet>=1 in /usr/local/lib/python3.11/dist-packages (from sqlalchemy>=1.4.2->optuna>=4.2.1->koolbox) (3.1.1)\r\n",
      "Requirement already satisfied: intel-openmp<2026,>=2024 in /usr/local/lib/python3.11/dist-packages (from mkl->numpy>=1.19.5->scikit-learn==1.5.2) (2024.2.0)\r\n",
      "Requirement already satisfied: tbb==2022.* in /usr/local/lib/python3.11/dist-packages (from mkl->numpy>=1.19.5->scikit-learn==1.5.2) (2022.1.0)\r\n",
      "Requirement already satisfied: tcmlib==1.* in /usr/local/lib/python3.11/dist-packages (from tbb==2022.*->mkl->numpy>=1.19.5->scikit-learn==1.5.2) (1.3.0)\r\n",
      "Requirement already satisfied: intel-cmplr-lib-rt in /usr/local/lib/python3.11/dist-packages (from mkl_umath->numpy>=1.19.5->scikit-learn==1.5.2) (2024.2.0)\r\n",
      "Requirement already satisfied: intel-cmplr-lib-ur==2024.2.0 in /usr/local/lib/python3.11/dist-packages (from intel-openmp<2026,>=2024->mkl->numpy>=1.19.5->scikit-learn==1.5.2) (2024.2.0)\r\n",
      "Requirement already satisfied: MarkupSafe>=0.9.2 in /usr/local/lib/python3.11/dist-packages (from Mako->alembic>=1.5.0->optuna>=4.2.1->koolbox) (3.0.2)\r\n",
      "Downloading scikit_learn-1.5.2-cp311-cp311-manylinux_2_17_x86_64.manylinux2014_x86_64.whl (13.3 MB)\r\n",
      "\u001b[2K   \u001b[90m━━━━━━━━━━━━━━━━━━━━━━━━━━━━━━━━━━━━━━━━\u001b[0m \u001b[32m13.3/13.3 MB\u001b[0m \u001b[31m94.5 MB/s\u001b[0m eta \u001b[36m0:00:00\u001b[0m\r\n",
      "\u001b[?25hDownloading koolbox-0.1.3-py3-none-any.whl (18 kB)\r\n",
      "Installing collected packages: scikit-learn, koolbox\r\n",
      "  Attempting uninstall: scikit-learn\r\n",
      "    Found existing installation: scikit-learn 1.2.2\r\n",
      "    Uninstalling scikit-learn-1.2.2:\r\n",
      "      Successfully uninstalled scikit-learn-1.2.2\r\n",
      "\u001b[31mERROR: pip's dependency resolver does not currently take into account all the packages that are installed. This behaviour is the source of the following dependency conflicts.\r\n",
      "cesium 0.12.4 requires numpy<3.0,>=2.0, but you have numpy 1.26.4 which is incompatible.\u001b[0m\u001b[31m\r\n",
      "\u001b[0mSuccessfully installed koolbox-0.1.3 scikit-learn-1.5.2\r\n"
     ]
    }
   ],
   "source": [
    "!pip install scikit-learn==1.5.2 koolbox"
   ]
  },
  {
   "cell_type": "code",
   "execution_count": 2,
   "id": "aad09e50",
   "metadata": {
    "execution": {
     "iopub.execute_input": "2025-07-08T07:25:38.165929Z",
     "iopub.status.busy": "2025-07-08T07:25:38.165580Z",
     "iopub.status.idle": "2025-07-08T07:25:47.821705Z",
     "shell.execute_reply": "2025-07-08T07:25:47.820952Z"
    },
    "papermill": {
     "duration": 9.665084,
     "end_time": "2025-07-08T07:25:47.823339",
     "exception": false,
     "start_time": "2025-07-08T07:25:38.158255",
     "status": "completed"
    },
    "tags": []
   },
   "outputs": [],
   "source": [
    "from sklearn.feature_selection import mutual_info_regression\n",
    "from sklearn.ensemble import HistGradientBoostingClassifier\n",
    "from sklearn.linear_model import LogisticRegression\n",
    "from sklearn.model_selection import StratifiedKFold\n",
    "from sklearn.metrics import accuracy_score\n",
    "from catboost import CatBoostClassifier\n",
    "from lightgbm import LGBMClassifier\n",
    "from xgboost import XGBClassifier\n",
    "from scipy.special import logit\n",
    "from koolbox import Trainer\n",
    "import matplotlib.pyplot as plt\n",
    "import seaborn as sns\n",
    "import pandas as pd\n",
    "import numpy as np\n",
    "import warnings\n",
    "import joblib\n",
    "import shutil\n",
    "import optuna\n",
    "import glob\n",
    "import json\n",
    "\n",
    "warnings.filterwarnings('ignore')"
   ]
  },
  {
   "cell_type": "code",
   "execution_count": 3,
   "id": "3b301e57",
   "metadata": {
    "execution": {
     "iopub.execute_input": "2025-07-08T07:25:47.837897Z",
     "iopub.status.busy": "2025-07-08T07:25:47.837041Z",
     "iopub.status.idle": "2025-07-08T07:25:47.842144Z",
     "shell.execute_reply": "2025-07-08T07:25:47.841316Z"
    },
    "papermill": {
     "duration": 0.013558,
     "end_time": "2025-07-08T07:25:47.843422",
     "exception": false,
     "start_time": "2025-07-08T07:25:47.829864",
     "status": "completed"
    },
    "tags": []
   },
   "outputs": [],
   "source": [
    "class CFG:\n",
    "    train_path = '/kaggle/input/playground-series-s5e7/train.csv'\n",
    "    test_path = '/kaggle/input/playground-series-s5e7/test.csv'\n",
    "    sample_sub_path = '/kaggle/input/playground-series-s5e7/sample_submission.csv'\n",
    "\n",
    "    original_path = \"/kaggle/input/extrovert-vs-introvert-behavior-data-backup/personality_dataset.csv\"\n",
    "    \n",
    "    target = 'Personality'\n",
    "    n_folds = 5\n",
    "    seed = 42\n",
    "    \n",
    "    cv = StratifiedKFold(n_splits=n_folds, random_state=seed, shuffle=True)\n",
    "    metric = accuracy_score\n",
    "    \n",
    "    n_optuna_trials = 500"
   ]
  },
  {
   "cell_type": "markdown",
   "id": "d29a31a6",
   "metadata": {
    "papermill": {
     "duration": 0.005898,
     "end_time": "2025-07-08T07:25:47.855682",
     "exception": false,
     "start_time": "2025-07-08T07:25:47.849784",
     "status": "completed"
    },
    "tags": []
   },
   "source": [
    "# Data loading and preprocessing"
   ]
  },
  {
   "cell_type": "code",
   "execution_count": 4,
   "id": "796e0aad",
   "metadata": {
    "execution": {
     "iopub.execute_input": "2025-07-08T07:25:47.869077Z",
     "iopub.status.busy": "2025-07-08T07:25:47.868727Z",
     "iopub.status.idle": "2025-07-08T07:25:47.991828Z",
     "shell.execute_reply": "2025-07-08T07:25:47.991058Z"
    },
    "papermill": {
     "duration": 0.13167,
     "end_time": "2025-07-08T07:25:47.993400",
     "exception": false,
     "start_time": "2025-07-08T07:25:47.861730",
     "status": "completed"
    },
    "tags": []
   },
   "outputs": [],
   "source": [
    "train = pd.read_csv(CFG.train_path, index_col='id')\n",
    "test = pd.read_csv(CFG.test_path, index_col='id')\n",
    "\n",
    "# https://www.kaggle.com/code/paddykb/ps-s5e7-don-t-look-at-me/notebook\n",
    "original = pd.read_csv(CFG.original_path)\n",
    "original = original.rename(columns={'Personality': 'match_p'})\n",
    "original = original.drop_duplicates(['Time_spent_Alone', 'Stage_fear', 'Social_event_attendance', 'Going_outside', 'Drained_after_socializing', 'Friends_circle_size', 'Post_frequency'])\n",
    "train = train.merge(original, how='left')\n",
    "test = test.merge(original, how='left')\n",
    "\n",
    "train[\"Stage_fear\"] = train[\"Stage_fear\"].map({\"No\": 0, \"Yes\": 1})\n",
    "train[\"Drained_after_socializing\"] = train[\"Drained_after_socializing\"].map({\"No\": 0, \"Yes\": 1})\n",
    "train[\"match_p\"] = train[\"match_p\"].map({\"Extrovert\": 0, \"Introvert\": 1})\n",
    "\n",
    "test[\"Stage_fear\"] = test[\"Stage_fear\"].map({\"No\": 0, \"Yes\": 1})\n",
    "test[\"Drained_after_socializing\"] = test[\"Drained_after_socializing\"].map({\"No\": 0, \"Yes\": 1})\n",
    "test[\"match_p\"] = test[\"match_p\"].map({\"Extrovert\": 0, \"Introvert\": 1})\n",
    "\n",
    "train[CFG.target] = train[CFG.target].map({\"Extrovert\": 0, \"Introvert\": 1})\n",
    "\n",
    "X = train.drop(CFG.target, axis=1)\n",
    "y = train[CFG.target]\n",
    "X_test = test"
   ]
  },
  {
   "cell_type": "code",
   "execution_count": 5,
   "id": "b413882d",
   "metadata": {
    "execution": {
     "iopub.execute_input": "2025-07-08T07:25:48.009771Z",
     "iopub.status.busy": "2025-07-08T07:25:48.009413Z",
     "iopub.status.idle": "2025-07-08T07:25:48.496216Z",
     "shell.execute_reply": "2025-07-08T07:25:48.495301Z"
    },
    "papermill": {
     "duration": 0.497325,
     "end_time": "2025-07-08T07:25:48.498532",
     "exception": false,
     "start_time": "2025-07-08T07:25:48.001207",
     "status": "completed"
    },
    "tags": []
   },
   "outputs": [
    {
     "data": {
      "image/png": "[encoded data removed]",
      "text/plain": [
       "<Figure size 800x800 with 1 Axes>"
      ]
     },
     "metadata": {},
     "output_type": "display_data"
    }
   ],
   "source": [
    "sns.set_style(\"white\")\n",
    "plt.figure(figsize=(8, 8))\n",
    "\n",
    "corr_train = train.corr()\n",
    "mask_train = np.triu(np.ones_like(corr_train, dtype=bool), k=1)\n",
    "\n",
    "sns.heatmap(\n",
    "    data=corr_train,\n",
    "    annot=True,\n",
    "    fmt='.4f',\n",
    "    mask=mask_train,\n",
    "    square=True,\n",
    "    cmap='coolwarm',\n",
    "    annot_kws={'size': 8},\n",
    "    cbar=False\n",
    ")\n",
    "\n",
    "plt.tight_layout()\n",
    "plt.show()"
   ]
  },
  {
   "cell_type": "code",
   "execution_count": 6,
   "id": "7ec66460",
   "metadata": {
    "execution": {
     "iopub.execute_input": "2025-07-08T07:25:48.515487Z",
     "iopub.status.busy": "2025-07-08T07:25:48.514694Z",
     "iopub.status.idle": "2025-07-08T07:25:49.613554Z",
     "shell.execute_reply": "2025-07-08T07:25:49.612606Z"
    },
    "papermill": {
     "duration": 1.108741,
     "end_time": "2025-07-08T07:25:49.615175",
     "exception": false,
     "start_time": "2025-07-08T07:25:48.506434",
     "status": "completed"
    },
    "tags": []
   },
   "outputs": [
    {
     "data": {
      "text/html": [
       "<style type=\"text/css\">\n",
       "#T_0f4ce_row0_col0 {\n",
       "  width: 10em;\n",
       "  background: linear-gradient(90deg, #006837 100.0%, transparent 100.0%);\n",
       "}\n",
       "#T_0f4ce_row1_col0 {\n",
       "  width: 10em;\n",
       "  background: linear-gradient(90deg, #0b7d42 95.4%, transparent 95.4%);\n",
       "}\n",
       "#T_0f4ce_row2_col0 {\n",
       "  width: 10em;\n",
       "  background: linear-gradient(90deg, #0c7f43 94.9%, transparent 94.9%);\n",
       "}\n",
       "#T_0f4ce_row3_col0 {\n",
       "  width: 10em;\n",
       "  background: linear-gradient(90deg, #15904c 91.7%, transparent 91.7%);\n",
       "}\n",
       "#T_0f4ce_row4_col0 {\n",
       "  width: 10em;\n",
       "  background: linear-gradient(90deg, #18954f 90.4%, transparent 90.4%);\n",
       "}\n",
       "#T_0f4ce_row5_col0 {\n",
       "  width: 10em;\n",
       "  background: linear-gradient(90deg, #2da155 87.2%, transparent 87.2%);\n",
       "}\n",
       "#T_0f4ce_row6_col0 {\n",
       "  width: 10em;\n",
       "  background: linear-gradient(90deg, #33a456 86.4%, transparent 86.4%);\n",
       "}\n",
       "#T_0f4ce_row7_col0 {\n",
       "  width: 10em;\n",
       "}\n",
       "</style>\n",
       "<table id=\"T_0f4ce\">\n",
       "  <thead>\n",
       "    <tr>\n",
       "      <th class=\"blank level0\" >&nbsp;</th>\n",
       "      <th id=\"T_0f4ce_level0_col0\" class=\"col_heading level0 col0\" >Mutual Information</th>\n",
       "    </tr>\n",
       "  </thead>\n",
       "  <tbody>\n",
       "    <tr>\n",
       "      <th id=\"T_0f4ce_level0_row0\" class=\"row_heading level0 row0\" >Time_spent_Alone</th>\n",
       "      <td id=\"T_0f4ce_row0_col0\" class=\"data row0 col0\" >0.345356</td>\n",
       "    </tr>\n",
       "    <tr>\n",
       "      <th id=\"T_0f4ce_level0_row1\" class=\"row_heading level0 row1\" >Drained_after_socializing</th>\n",
       "      <td id=\"T_0f4ce_row1_col0\" class=\"data row1 col0\" >0.329441</td>\n",
       "    </tr>\n",
       "    <tr>\n",
       "      <th id=\"T_0f4ce_level0_row2\" class=\"row_heading level0 row2\" >Social_event_attendance</th>\n",
       "      <td id=\"T_0f4ce_row2_col0\" class=\"data row2 col0\" >0.327856</td>\n",
       "    </tr>\n",
       "    <tr>\n",
       "      <th id=\"T_0f4ce_level0_row3\" class=\"row_heading level0 row3\" >Stage_fear</th>\n",
       "      <td id=\"T_0f4ce_row3_col0\" class=\"data row3 col0\" >0.316729</td>\n",
       "    </tr>\n",
       "    <tr>\n",
       "      <th id=\"T_0f4ce_level0_row4\" class=\"row_heading level0 row4\" >Post_frequency</th>\n",
       "      <td id=\"T_0f4ce_row4_col0\" class=\"data row4 col0\" >0.312079</td>\n",
       "    </tr>\n",
       "    <tr>\n",
       "      <th id=\"T_0f4ce_level0_row5\" class=\"row_heading level0 row5\" >Going_outside</th>\n",
       "      <td id=\"T_0f4ce_row5_col0\" class=\"data row5 col0\" >0.301083</td>\n",
       "    </tr>\n",
       "    <tr>\n",
       "      <th id=\"T_0f4ce_level0_row6\" class=\"row_heading level0 row6\" >Friends_circle_size</th>\n",
       "      <td id=\"T_0f4ce_row6_col0\" class=\"data row6 col0\" >0.298473</td>\n",
       "    </tr>\n",
       "    <tr>\n",
       "      <th id=\"T_0f4ce_level0_row7\" class=\"row_heading level0 row7\" >match_p</th>\n",
       "      <td id=\"T_0f4ce_row7_col0\" class=\"data row7 col0\" >0.000000</td>\n",
       "    </tr>\n",
       "  </tbody>\n",
       "</table>\n"
      ],
      "text/plain": [
       "<pandas.io.formats.style.Styler at 0x7d865bfe43d0>"
      ]
     },
     "execution_count": 6,
     "metadata": {},
     "output_type": "execute_result"
    }
   ],
   "source": [
    "mutual_info = mutual_info_regression(X.fillna(0), y, random_state=CFG.seed)\n",
    "\n",
    "mutual_info = pd.Series(mutual_info)\n",
    "mutual_info.index = X.columns\n",
    "mutual_info = pd.DataFrame(mutual_info.sort_values(ascending=False), columns=['Mutual Information'])\n",
    "mutual_info.style.bar(subset=['Mutual Information'], cmap='RdYlGn')"
   ]
  },
  {
   "cell_type": "markdown",
   "id": "9e690d1d",
   "metadata": {
    "papermill": {
     "duration": 0.00736,
     "end_time": "2025-07-08T07:25:49.631594",
     "exception": false,
     "start_time": "2025-07-08T07:25:49.624234",
     "status": "completed"
    },
    "tags": []
   },
   "source": [
    "# Training base models"
   ]
  },
  {
   "cell_type": "code",
   "execution_count": 7,
   "id": "0f48b82e",
   "metadata": {
    "execution": {
     "iopub.execute_input": "2025-07-08T07:25:49.649095Z",
     "iopub.status.busy": "2025-07-08T07:25:49.648332Z",
     "iopub.status.idle": "2025-07-08T07:25:49.653983Z",
     "shell.execute_reply": "2025-07-08T07:25:49.653083Z"
    },
    "papermill": {
     "duration": 0.016041,
     "end_time": "2025-07-08T07:25:49.655475",
     "exception": false,
     "start_time": "2025-07-08T07:25:49.639434",
     "status": "completed"
    },
    "tags": []
   },
   "outputs": [],
   "source": [
    "def save_submission(name, test_pred_probs, score, threshold=0.5):\n",
    "    sub = pd.read_csv(CFG.sample_sub_path)\n",
    "    sub[CFG.target] = (test_pred_probs > threshold).astype(int)\n",
    "    sub[CFG.target] = sub[CFG.target].map({0: \"Extrovert\", 1: \"Introvert\"})\n",
    "    sub.to_csv(f'sub_{name}_{score:.6f}.csv', index=False)\n",
    "    return sub.head()"
   ]
  },
  {
   "cell_type": "code",
   "execution_count": 8,
   "id": "89cbfbad",
   "metadata": {
    "_kg_hide-input": true,
    "_kg_hide-output": true,
    "execution": {
     "iopub.execute_input": "2025-07-08T07:25:49.672722Z",
     "iopub.status.busy": "2025-07-08T07:25:49.672408Z",
     "iopub.status.idle": "2025-07-08T07:25:49.681473Z",
     "shell.execute_reply": "2025-07-08T07:25:49.680486Z"
    },
    "papermill": {
     "duration": 0.019623,
     "end_time": "2025-07-08T07:25:49.683020",
     "exception": false,
     "start_time": "2025-07-08T07:25:49.663397",
     "status": "completed"
    },
    "tags": []
   },
   "outputs": [],
   "source": [
    "cb_params = {\n",
    "    \"border_count\": 39,\n",
    "    \"colsample_bylevel\": 0.19459088572914465,\n",
    "    \"depth\": 2,\n",
    "    \"iterations\": 1467,\n",
    "    \"l2_leaf_reg\": 31.236169478676036,\n",
    "    \"learning_rate\": 0.06852669420904771,\n",
    "    \"min_child_samples\": 160,\n",
    "    \"random_state\": 42,\n",
    "    \"random_strength\": 0.8517786189616939,\n",
    "    \"scale_pos_weight\": 1.1691394390533685,\n",
    "    \"subsample\": 0.3192330024411618,\n",
    "    \"verbose\": False\n",
    "}\n",
    "\n",
    "xgb_params = {\n",
    "    \"colsample_bylevel\": 0.8168489864941239,\n",
    "    \"colsample_bynode\": 0.8850485490950061,\n",
    "    \"colsample_bytree\": 0.8379339940113913,\n",
    "    \"gamma\": 2.3977359439809276,\n",
    "    \"learning_rate\": 0.0616974880921061,\n",
    "    \"max_depth\": 344,\n",
    "    \"max_leaves\": 89,\n",
    "    \"min_child_weight\": 10,\n",
    "    \"n_estimators\": 696,\n",
    "    \"n_jobs\": -1,\n",
    "    \"random_state\": 42,\n",
    "    \"reg_alpha\": 1.849084818346014,\n",
    "    \"reg_lambda\": 29.680324563362227,\n",
    "    \"subsample\": 0.5902901569391961,\n",
    "    \"verbosity\": 0\n",
    "}\n",
    "\n",
    "hgb_params = {\n",
    "    \"l2_regularization\": 28.13576008319012,\n",
    "    \"learning_rate\": 0.1543598086529694,\n",
    "    \"max_depth\": 325,\n",
    "    \"max_features\": 0.323620656779567,\n",
    "    \"max_iter\": 2490,\n",
    "    \"max_leaf_nodes\": 216,\n",
    "    \"min_samples_leaf\": 12,\n",
    "    \"random_state\": 42\n",
    "}\n",
    "\n",
    "lgbm_params = {\n",
    "    \"boosting_type\": \"gbdt\",\n",
    "    \"colsample_bytree\": 0.6467443250209886,\n",
    "    \"learning_rate\": 0.06547186748153115,\n",
    "    \"min_child_samples\": 34,\n",
    "    \"min_child_weight\": 0.24399244943904663,\n",
    "    \"n_estimators\": 498,\n",
    "    \"n_jobs\": -1,\n",
    "    \"num_leaves\": 158,\n",
    "    \"random_state\": 42,\n",
    "    \"reg_alpha\": 6.568921253574134,\n",
    "    \"reg_lambda\": 62.66165355751099,\n",
    "    \"subsample\": 0.0011019938618584968,\n",
    "    \"verbose\": -1\n",
    "}\n",
    "\n",
    "lgbm_goss_params = {\n",
    "    \"boosting_type\": \"goss\",\n",
    "    \"colsample_bytree\": 0.8384834064170148,\n",
    "    \"learning_rate\": 0.07006829797238343,\n",
    "    \"min_child_samples\": 46,\n",
    "    \"min_child_weight\": 0.7625394962666617,\n",
    "    \"n_estimators\": 1887,\n",
    "    \"n_jobs\": -1,\n",
    "    \"num_leaves\": 341,\n",
    "    \"random_state\": 42,\n",
    "    \"reg_alpha\": 10.53082019937197,\n",
    "    \"reg_lambda\": 67.44600065144685,\n",
    "    \"subsample\": 0.4925008305336127,\n",
    "    \"verbose\": -1\n",
    "}\n",
    "\n",
    "lgbm_dart_params = {\n",
    "    \"boosting_type\": \"dart\",\n",
    "    \"colsample_bytree\": 0.7592971191793424,\n",
    "    \"learning_rate\": 0.046141766106846074,\n",
    "    \"min_child_samples\": 18,\n",
    "    \"min_child_weight\": 0.4740109054323218,\n",
    "    \"n_estimators\": 4035,\n",
    "    \"n_jobs\": -1,\n",
    "    \"num_leaves\": 393,\n",
    "    \"random_state\": 42,\n",
    "    \"reg_alpha\": 48.016799341666605,\n",
    "    \"reg_lambda\": 89.12860300833658,\n",
    "    \"subsample\": 0.016333358901112538,\n",
    "    \"verbose\": -1\n",
    "}"
   ]
  },
  {
   "cell_type": "code",
   "execution_count": 9,
   "id": "99131939",
   "metadata": {
    "execution": {
     "iopub.execute_input": "2025-07-08T07:25:49.699970Z",
     "iopub.status.busy": "2025-07-08T07:25:49.699633Z",
     "iopub.status.idle": "2025-07-08T07:25:49.703762Z",
     "shell.execute_reply": "2025-07-08T07:25:49.703000Z"
    },
    "papermill": {
     "duration": 0.014209,
     "end_time": "2025-07-08T07:25:49.705249",
     "exception": false,
     "start_time": "2025-07-08T07:25:49.691040",
     "status": "completed"
    },
    "tags": []
   },
   "outputs": [],
   "source": [
    "scores = {}\n",
    "oof_pred_probs = {}\n",
    "test_pred_probs = {}"
   ]
  },
  {
   "cell_type": "markdown",
   "id": "f3031ab4",
   "metadata": {
    "papermill": {
     "duration": 0.007433,
     "end_time": "2025-07-08T07:25:49.720716",
     "exception": false,
     "start_time": "2025-07-08T07:25:49.713283",
     "status": "completed"
    },
    "tags": []
   },
   "source": [
    "## CatBoost"
   ]
  },
  {
   "cell_type": "code",
   "execution_count": 10,
   "id": "78568fff",
   "metadata": {
    "execution": {
     "iopub.execute_input": "2025-07-08T07:25:49.737532Z",
     "iopub.status.busy": "2025-07-08T07:25:49.737213Z",
     "iopub.status.idle": "2025-07-08T07:26:07.922308Z",
     "shell.execute_reply": "2025-07-08T07:26:07.921278Z"
    },
    "papermill": {
     "duration": 18.195337,
     "end_time": "2025-07-08T07:26:07.923862",
     "exception": false,
     "start_time": "2025-07-08T07:25:49.728525",
     "status": "completed"
    },
    "tags": []
   },
   "outputs": [
    {
     "name": "stdout",
     "output_type": "stream",
     "text": [
      "Training CatBoostClassifier\n",
      "\n",
      "--- Fold 0 - accuracy_score: 0.972740 - Time: 3.55 s\n",
      "--- Fold 1 - accuracy_score: 0.968961 - Time: 3.42 s\n",
      "--- Fold 2 - accuracy_score: 0.968691 - Time: 3.57 s\n",
      "--- Fold 3 - accuracy_score: 0.971390 - Time: 3.48 s\n",
      "--- Fold 4 - accuracy_score: 0.973542 - Time: 3.44 s\n",
      "\n",
      "------ Overall accuracy_score: 0.971065 - Mean accuracy_score: 0.971065 ± 0.001955 - Time: 18.15 s\n"
     ]
    }
   ],
   "source": [
    "cb_trainer = Trainer(\n",
    "    CatBoostClassifier(**cb_params),\n",
    "    cv=CFG.cv,\n",
    "    metric=CFG.metric,\n",
    "    use_early_stopping=False,\n",
    "    task=\"binary\",\n",
    "    metric_precision=6,\n",
    ")\n",
    "\n",
    "cb_trainer.fit(X, y)\n",
    "\n",
    "scores[\"CatBoost\"] = cb_trainer.fold_scores\n",
    "oof_pred_probs[\"CatBoost\"] = cb_trainer.oof_preds\n",
    "test_pred_probs[\"CatBoost\"] = cb_trainer.predict(X_test)"
   ]
  },
  {
   "cell_type": "markdown",
   "id": "ee208490",
   "metadata": {
    "papermill": {
     "duration": 0.007825,
     "end_time": "2025-07-08T07:26:07.940377",
     "exception": false,
     "start_time": "2025-07-08T07:26:07.932552",
     "status": "completed"
    },
    "tags": []
   },
   "source": [
    "## XGBoost"
   ]
  },
  {
   "cell_type": "code",
   "execution_count": 11,
   "id": "08400c88",
   "metadata": {
    "execution": {
     "iopub.execute_input": "2025-07-08T07:26:07.957596Z",
     "iopub.status.busy": "2025-07-08T07:26:07.957294Z",
     "iopub.status.idle": "2025-07-08T07:26:10.906196Z",
     "shell.execute_reply": "2025-07-08T07:26:10.904560Z"
    },
    "papermill": {
     "duration": 2.959428,
     "end_time": "2025-07-08T07:26:10.907752",
     "exception": false,
     "start_time": "2025-07-08T07:26:07.948324",
     "status": "completed"
    },
    "tags": []
   },
   "outputs": [
    {
     "name": "stdout",
     "output_type": "stream",
     "text": [
      "Training XGBClassifier\n",
      "\n",
      "--- Fold 0 - accuracy_score: 0.969771 - Time: 0.52 s\n",
      "--- Fold 1 - accuracy_score: 0.968151 - Time: 0.52 s\n",
      "--- Fold 2 - accuracy_score: 0.966262 - Time: 0.38 s\n",
      "--- Fold 3 - accuracy_score: 0.971120 - Time: 0.41 s\n",
      "--- Fold 4 - accuracy_score: 0.970572 - Time: 0.38 s\n",
      "\n",
      "------ Overall accuracy_score: 0.969175 - Mean accuracy_score: 0.969175 ± 0.001768 - Time: 2.90 s\n"
     ]
    }
   ],
   "source": [
    "xgb_trainer = Trainer(\n",
    "    XGBClassifier(**xgb_params),\n",
    "    cv=CFG.cv,\n",
    "    metric=CFG.metric,\n",
    "    task=\"binary\",\n",
    "    metric_precision=6,\n",
    ")\n",
    "\n",
    "xgb_trainer.fit(X, y)\n",
    "\n",
    "scores[\"XGBoost\"] = xgb_trainer.fold_scores\n",
    "oof_pred_probs[\"XGBoost\"] = xgb_trainer.oof_preds\n",
    "test_pred_probs[\"XGBoost\"] = xgb_trainer.predict(X_test)"
   ]
  },
  {
   "cell_type": "markdown",
   "id": "0c8f6afd",
   "metadata": {
    "papermill": {
     "duration": 0.008006,
     "end_time": "2025-07-08T07:26:10.924636",
     "exception": false,
     "start_time": "2025-07-08T07:26:10.916630",
     "status": "completed"
    },
    "tags": []
   },
   "source": [
    "## HistGradientBoostingClassifier"
   ]
  },
  {
   "cell_type": "code",
   "execution_count": 12,
   "id": "d4ed19e6",
   "metadata": {
    "execution": {
     "iopub.execute_input": "2025-07-08T07:26:10.943005Z",
     "iopub.status.busy": "2025-07-08T07:26:10.942665Z",
     "iopub.status.idle": "2025-07-08T07:26:14.431478Z",
     "shell.execute_reply": "2025-07-08T07:26:14.430332Z"
    },
    "papermill": {
     "duration": 3.500724,
     "end_time": "2025-07-08T07:26:14.433610",
     "exception": false,
     "start_time": "2025-07-08T07:26:10.932886",
     "status": "completed"
    },
    "tags": []
   },
   "outputs": [
    {
     "name": "stdout",
     "output_type": "stream",
     "text": [
      "Training HistGradientBoostingClassifier\n",
      "\n",
      "--- Fold 0 - accuracy_score: 0.972740 - Time: 0.38 s\n",
      "--- Fold 1 - accuracy_score: 0.968961 - Time: 0.53 s\n",
      "--- Fold 2 - accuracy_score: 0.967881 - Time: 0.44 s\n",
      "--- Fold 3 - accuracy_score: 0.971390 - Time: 0.65 s\n",
      "--- Fold 4 - accuracy_score: 0.971922 - Time: 0.64 s\n",
      "\n",
      "------ Overall accuracy_score: 0.970579 - Mean accuracy_score: 0.970579 ± 0.001845 - Time: 3.35 s\n"
     ]
    }
   ],
   "source": [
    "hgb_trainer = Trainer(\n",
    "    HistGradientBoostingClassifier(**hgb_params),\n",
    "    cv=CFG.cv,\n",
    "    metric=CFG.metric,\n",
    "    task=\"binary\",\n",
    "    metric_precision=6,\n",
    ")\n",
    "\n",
    "hgb_trainer.fit(X, y)\n",
    "\n",
    "scores[\"HistGradientBoosting\"] = hgb_trainer.fold_scores\n",
    "oof_pred_probs[\"HistGradientBoosting\"] = hgb_trainer.oof_preds\n",
    "test_pred_probs[\"HistGradientBoosting\"] = hgb_trainer.predict(X_test)"
   ]
  },
  {
   "cell_type": "markdown",
   "id": "12f89796",
   "metadata": {
    "papermill": {
     "duration": 0.008615,
     "end_time": "2025-07-08T07:26:14.457358",
     "exception": false,
     "start_time": "2025-07-08T07:26:14.448743",
     "status": "completed"
    },
    "tags": []
   },
   "source": [
    "## LightGBM (gbdt)"
   ]
  },
  {
   "cell_type": "code",
   "execution_count": 13,
   "id": "28c3a84b",
   "metadata": {
    "execution": {
     "iopub.execute_input": "2025-07-08T07:26:14.475972Z",
     "iopub.status.busy": "2025-07-08T07:26:14.475643Z",
     "iopub.status.idle": "2025-07-08T07:26:17.747687Z",
     "shell.execute_reply": "2025-07-08T07:26:17.746781Z"
    },
    "papermill": {
     "duration": 3.283376,
     "end_time": "2025-07-08T07:26:17.749525",
     "exception": false,
     "start_time": "2025-07-08T07:26:14.466149",
     "status": "completed"
    },
    "tags": []
   },
   "outputs": [
    {
     "name": "stdout",
     "output_type": "stream",
     "text": [
      "Training LGBMClassifier\n",
      "\n",
      "--- Fold 0 - accuracy_score: 0.972200 - Time: 0.78 s\n",
      "--- Fold 1 - accuracy_score: 0.969501 - Time: 0.37 s\n",
      "--- Fold 2 - accuracy_score: 0.967611 - Time: 0.39 s\n",
      "--- Fold 3 - accuracy_score: 0.971660 - Time: 0.41 s\n",
      "--- Fold 4 - accuracy_score: 0.972462 - Time: 0.39 s\n",
      "\n",
      "------ Overall accuracy_score: 0.970687 - Mean accuracy_score: 0.970687 ± 0.001858 - Time: 3.03 s\n"
     ]
    }
   ],
   "source": [
    "lgbm_gbdt_trainer = Trainer(\n",
    "    LGBMClassifier(**lgbm_params),\n",
    "    cv=CFG.cv,\n",
    "    metric=CFG.metric,\n",
    "    use_early_stopping=False,\n",
    "    task=\"binary\",\n",
    "    metric_precision=6,\n",
    ")\n",
    "\n",
    "lgbm_gbdt_trainer.fit(X, y)\n",
    "\n",
    "scores[\"LightGBM (gbdt)\"] = lgbm_gbdt_trainer.fold_scores\n",
    "oof_pred_probs[\"LightGBM (gbdt)\"] = lgbm_gbdt_trainer.oof_preds\n",
    "test_pred_probs[\"LightGBM (gbdt)\"] = lgbm_gbdt_trainer.predict(X_test)"
   ]
  },
  {
   "cell_type": "markdown",
   "id": "b14c3ecf",
   "metadata": {
    "papermill": {
     "duration": 0.008622,
     "end_time": "2025-07-08T07:26:17.767809",
     "exception": false,
     "start_time": "2025-07-08T07:26:17.759187",
     "status": "completed"
    },
    "tags": []
   },
   "source": [
    "## LightGBM (goss)"
   ]
  },
  {
   "cell_type": "code",
   "execution_count": 14,
   "id": "50e82f0d",
   "metadata": {
    "execution": {
     "iopub.execute_input": "2025-07-08T07:26:17.787579Z",
     "iopub.status.busy": "2025-07-08T07:26:17.787042Z",
     "iopub.status.idle": "2025-07-08T07:26:27.758321Z",
     "shell.execute_reply": "2025-07-08T07:26:27.757569Z"
    },
    "papermill": {
     "duration": 9.983158,
     "end_time": "2025-07-08T07:26:27.760057",
     "exception": false,
     "start_time": "2025-07-08T07:26:17.776899",
     "status": "completed"
    },
    "tags": []
   },
   "outputs": [
    {
     "name": "stdout",
     "output_type": "stream",
     "text": [
      "Training LGBMClassifier\n",
      "\n",
      "--- Fold 0 - accuracy_score: 0.970040 - Time: 1.78 s\n",
      "--- Fold 1 - accuracy_score: 0.968961 - Time: 1.69 s\n",
      "--- Fold 2 - accuracy_score: 0.967881 - Time: 1.65 s\n",
      "--- Fold 3 - accuracy_score: 0.970850 - Time: 1.69 s\n",
      "--- Fold 4 - accuracy_score: 0.973002 - Time: 1.76 s\n",
      "\n",
      "------ Overall accuracy_score: 0.970147 - Mean accuracy_score: 0.970147 ± 0.001743 - Time: 9.26 s\n"
     ]
    }
   ],
   "source": [
    "lgbm_goss_trainer = Trainer(\n",
    "    LGBMClassifier(**lgbm_goss_params),\n",
    "    cv=CFG.cv,\n",
    "    metric=CFG.metric,\n",
    "    use_early_stopping=False,\n",
    "    task=\"binary\",\n",
    "    metric_precision=6,\n",
    ")\n",
    "\n",
    "lgbm_goss_trainer.fit(X, y)\n",
    "\n",
    "scores[\"LightGBM (goss)\"] = lgbm_goss_trainer.fold_scores\n",
    "oof_pred_probs[\"LightGBM (goss)\"] = lgbm_goss_trainer.oof_preds\n",
    "test_pred_probs[\"LightGBM (goss)\"] = lgbm_goss_trainer.predict(X_test)"
   ]
  },
  {
   "cell_type": "markdown",
   "id": "e85b576b",
   "metadata": {
    "papermill": {
     "duration": 0.009194,
     "end_time": "2025-07-08T07:26:27.779590",
     "exception": false,
     "start_time": "2025-07-08T07:26:27.770396",
     "status": "completed"
    },
    "tags": []
   },
   "source": [
    "## LightGBM (dart)"
   ]
  },
  {
   "cell_type": "code",
   "execution_count": 15,
   "id": "b6797432",
   "metadata": {
    "execution": {
     "iopub.execute_input": "2025-07-08T07:26:27.799751Z",
     "iopub.status.busy": "2025-07-08T07:26:27.799439Z",
     "iopub.status.idle": "2025-07-08T07:31:24.270028Z",
     "shell.execute_reply": "2025-07-08T07:31:24.269275Z"
    },
    "papermill": {
     "duration": 296.482543,
     "end_time": "2025-07-08T07:31:24.271633",
     "exception": false,
     "start_time": "2025-07-08T07:26:27.789090",
     "status": "completed"
    },
    "tags": []
   },
   "outputs": [
    {
     "name": "stdout",
     "output_type": "stream",
     "text": [
      "Training LGBMClassifier\n",
      "\n",
      "--- Fold 0 - accuracy_score: 0.970040 - Time: 61.23 s\n",
      "--- Fold 1 - accuracy_score: 0.968421 - Time: 57.51 s\n",
      "--- Fold 2 - accuracy_score: 0.966262 - Time: 54.82 s\n",
      "--- Fold 3 - accuracy_score: 0.971120 - Time: 59.56 s\n",
      "--- Fold 4 - accuracy_score: 0.971112 - Time: 60.13 s\n",
      "\n",
      "------ Overall accuracy_score: 0.969391 - Mean accuracy_score: 0.969391 ± 0.001850 - Time: 293.97 s\n"
     ]
    }
   ],
   "source": [
    "lgbm_dart_trainer = Trainer(\n",
    "    LGBMClassifier(**lgbm_dart_params),\n",
    "    cv=CFG.cv,\n",
    "    metric=CFG.metric,\n",
    "    use_early_stopping=False,\n",
    "    task=\"binary\",\n",
    "    metric_precision=6,\n",
    ")\n",
    "\n",
    "lgbm_dart_trainer.fit(X, y)\n",
    "\n",
    "scores[\"LightGBM (dart)\"] = lgbm_dart_trainer.fold_scores\n",
    "oof_pred_probs[\"LightGBM (dart)\"] = lgbm_dart_trainer.oof_preds\n",
    "test_pred_probs[\"LightGBM (dart)\"] = lgbm_dart_trainer.predict(X_test)"
   ]
  },
  {
   "cell_type": "markdown",
   "id": "784bd1e5",
   "metadata": {
    "papermill": {
     "duration": 0.009638,
     "end_time": "2025-07-08T07:31:24.291723",
     "exception": false,
     "start_time": "2025-07-08T07:31:24.282085",
     "status": "completed"
    },
    "tags": []
   },
   "source": [
    "## AutoGluon"
   ]
  },
  {
   "cell_type": "code",
   "execution_count": 16,
   "id": "901877eb",
   "metadata": {
    "execution": {
     "iopub.execute_input": "2025-07-08T07:31:24.313436Z",
     "iopub.status.busy": "2025-07-08T07:31:24.312787Z",
     "iopub.status.idle": "2025-07-08T07:31:24.348537Z",
     "shell.execute_reply": "2025-07-08T07:31:24.347575Z"
    },
    "papermill": {
     "duration": 0.048585,
     "end_time": "2025-07-08T07:31:24.350274",
     "exception": false,
     "start_time": "2025-07-08T07:31:24.301689",
     "status": "completed"
    },
    "tags": []
   },
   "outputs": [],
   "source": [
    "oof_pred_probs_files = glob.glob(f'/kaggle/input/s05e07-personality-type-prediction-autogluon/*_oof_pred_probs_*.pkl')\n",
    "test_pred_probs_files = glob.glob(f'/kaggle/input/s05e07-personality-type-prediction-autogluon/*_test_pred_probs_*.pkl')\n",
    "\n",
    "ag_oof_pred_probs = joblib.load(oof_pred_probs_files[0])\n",
    "ag_test_pred_probs = joblib.load(test_pred_probs_files[0])\n",
    "\n",
    "ag_scores = []\n",
    "for _, val_idx in CFG.cv.split(X, y):\n",
    "    y_val = y[val_idx]\n",
    "    y_preds = ag_oof_pred_probs[val_idx]\n",
    "    score = accuracy_score(y_val, y_preds >= 0.5)\n",
    "    ag_scores.append(score)\n",
    "    \n",
    "oof_pred_probs[\"AutoGluon\"], test_pred_probs[\"AutoGluon\"], scores[\"AutoGluon\"] = ag_oof_pred_probs, ag_test_pred_probs, ag_scores"
   ]
  },
  {
   "cell_type": "markdown",
   "id": "6b560ecc",
   "metadata": {
    "papermill": {
     "duration": 0.009654,
     "end_time": "2025-07-08T07:31:24.437066",
     "exception": false,
     "start_time": "2025-07-08T07:31:24.427412",
     "status": "completed"
    },
    "tags": []
   },
   "source": [
    "# Ensembling with Logistic Regression"
   ]
  },
  {
   "cell_type": "code",
   "execution_count": 17,
   "id": "2b6cf937",
   "metadata": {
    "_kg_hide-input": true,
    "execution": {
     "iopub.execute_input": "2025-07-08T07:31:24.457777Z",
     "iopub.status.busy": "2025-07-08T07:31:24.457482Z",
     "iopub.status.idle": "2025-07-08T07:31:24.464848Z",
     "shell.execute_reply": "2025-07-08T07:31:24.464113Z"
    },
    "papermill": {
     "duration": 0.019544,
     "end_time": "2025-07-08T07:31:24.466285",
     "exception": false,
     "start_time": "2025-07-08T07:31:24.446741",
     "status": "completed"
    },
    "tags": []
   },
   "outputs": [],
   "source": [
    "def plot_weights(weights, title):\n",
    "    sorted_indices = np.argsort(weights[0])[::-1]\n",
    "    sorted_coeffs = np.array(weights[0])[sorted_indices]\n",
    "    sorted_model_names = np.array(list(oof_pred_probs.keys()))[sorted_indices]\n",
    "\n",
    "    plt.figure(figsize=(10, weights.shape[1] * 0.5))\n",
    "    ax = sns.barplot(x=sorted_coeffs, y=sorted_model_names, palette=\"RdYlGn_r\")\n",
    "\n",
    "    for i, (value, name) in enumerate(zip(sorted_coeffs, sorted_model_names)):\n",
    "        if value >= 0:\n",
    "            ax.text(value, i, f'{value:.3f}', va='center', ha='left', color='black')\n",
    "        else:\n",
    "            ax.text(value, i, f'{value:.3f}', va='center', ha='right', color='black')\n",
    "\n",
    "    xlim = ax.get_xlim()\n",
    "    ax.set_xlim(xlim[0] - 0.1 * abs(xlim[0]), xlim[1] + 0.1 * abs(xlim[1]))\n",
    "\n",
    "    plt.title(title)\n",
    "    plt.xlabel('')\n",
    "    plt.ylabel('')\n",
    "    plt.tight_layout()\n",
    "    plt.show()"
   ]
  },
  {
   "cell_type": "code",
   "execution_count": 18,
   "id": "e046053d",
   "metadata": {
    "execution": {
     "iopub.execute_input": "2025-07-08T07:31:24.488740Z",
     "iopub.status.busy": "2025-07-08T07:31:24.487758Z",
     "iopub.status.idle": "2025-07-08T07:31:24.493425Z",
     "shell.execute_reply": "2025-07-08T07:31:24.492586Z"
    },
    "papermill": {
     "duration": 0.018014,
     "end_time": "2025-07-08T07:31:24.494767",
     "exception": false,
     "start_time": "2025-07-08T07:31:24.476753",
     "status": "completed"
    },
    "tags": []
   },
   "outputs": [],
   "source": [
    "X = pd.DataFrame(oof_pred_probs)\n",
    "X_test = pd.DataFrame(test_pred_probs)"
   ]
  },
  {
   "cell_type": "code",
   "execution_count": 19,
   "id": "0a5650bf",
   "metadata": {
    "_kg_hide-output": true,
    "execution": {
     "iopub.execute_input": "2025-07-08T07:31:24.516339Z",
     "iopub.status.busy": "2025-07-08T07:31:24.515733Z",
     "iopub.status.idle": "2025-07-08T07:38:18.373306Z",
     "shell.execute_reply": "2025-07-08T07:38:18.371814Z"
    },
    "papermill": {
     "duration": 413.870659,
     "end_time": "2025-07-08T07:38:18.375500",
     "exception": false,
     "start_time": "2025-07-08T07:31:24.504841",
     "status": "completed"
    },
    "scrolled": true,
    "tags": []
   },
   "outputs": [
    {
     "name": "stderr",
     "output_type": "stream",
     "text": [
      "[I 2025-07-08 07:31:24,521] A new study created in memory with name: no-name-4c6d7bfc-1039-46da-8711-6e3c048534a6\n",
      "[I 2025-07-08 07:31:27,290] Trial 0 finished with value: 0.9657202484529982 and parameters: {'solver_penalty': ('lbfgs', 'l2'), 'C': 8.727817881899826, 'tol': 0.05782682612802474, 'fit_intercept': True, 'class_weight': None, 'threshold': 0.6930000000000001}. Best is trial 0 with value: 0.9657202484529982.\n",
      "[I 2025-07-08 07:31:27,294] Trial 1 finished with value: 0.2604729030584436 and parameters: {'solver_penalty': ('lbfgs', 'l2'), 'C': 1.185611754598016, 'tol': 0.031262431482118526, 'fit_intercept': False, 'class_weight': None, 'threshold': 0.499}. Best is trial 0 with value: 0.9657202484529982.\n",
      "[I 2025-07-08 07:31:27,642] Trial 3 finished with value: 0.9693912114561198 and parameters: {'solver_penalty': ('liblinear', 'l1'), 'C': 8.910983623774086, 'tol': 0.01911262381530539, 'fit_intercept': False, 'class_weight': 'balanced', 'threshold': 0.683}. Best is trial 3 with value: 0.9693912114561198.\n",
      "[I 2025-07-08 07:31:27,652] Trial 2 finished with value: 0.2604729030584436 and parameters: {'solver_penalty': ('newton-cg', 'l2'), 'C': 5.050254619674969, 'tol': 0.03205349613996726, 'fit_intercept': False, 'class_weight': None, 'threshold': 0.442}. Best is trial 3 with value: 0.9693912114561198.\n",
      "[I 2025-07-08 07:31:30,162] Trial 6 finished with value: 0.9663680071586176 and parameters: {'solver_penalty': ('lbfgs', None), 'C': 9.92689622203667, 'tol': 0.08731166015148246, 'fit_intercept': False, 'class_weight': 'balanced', 'threshold': 0.5780000000000001}. Best is trial 3 with value: 0.9693912114561198.\n",
      "[I 2025-07-08 07:31:30,483] Trial 5 finished with value: 0.7149084332362723 and parameters: {'solver_penalty': ('newton-cholesky', None), 'C': 2.3861230984884263, 'tol': 0.027149987929495502, 'fit_intercept': False, 'class_weight': None, 'threshold': 0.414}. Best is trial 3 with value: 0.9693912114561198.\n",
      "[I 2025-07-08 07:31:30,640] Trial 4 finished with value: 0.9692292098413503 and parameters: {'solver_penalty': ('newton-cg', None), 'C': 8.334324979887452, 'tol': 0.05301775022722524, 'fit_intercept': True, 'class_weight': None, 'threshold': 0.413}. Best is trial 3 with value: 0.9693912114561198.\n",
      "[I 2025-07-08 07:31:30,804] Trial 7 finished with value: 0.9691752433084705 and parameters: {'solver_penalty': ('lbfgs', 'l2'), 'C': 5.603900612843749, 'tol': 0.07747227958042176, 'fit_intercept': True, 'class_weight': 'balanced', 'threshold': 0.634}. Best is trial 3 with value: 0.9693912114561198.\n",
      "[I 2025-07-08 07:31:33,380] Trial 9 finished with value: 0.9698230457352885 and parameters: {'solver_penalty': ('lbfgs', None), 'C': 4.561163102677542, 'tol': 0.025065502935079663, 'fit_intercept': True, 'class_weight': None, 'threshold': 0.611}. Best is trial 9 with value: 0.9698230457352885.\n",
      "[I 2025-07-08 07:31:33,533] Trial 10 finished with value: 0.2604729030584436 and parameters: {'solver_penalty': ('liblinear', 'l2'), 'C': 4.310327465913772, 'tol': 0.04068060991465562, 'fit_intercept': False, 'class_weight': 'balanced', 'threshold': 0.322}. Best is trial 9 with value: 0.9698230457352885.\n",
      "[I 2025-07-08 07:31:33,691] Trial 8 finished with value: 0.5373031453030317 and parameters: {'solver_penalty': ('newton-cholesky', None), 'C': 8.922875839087494, 'tol': 0.01803094654115759, 'fit_intercept': False, 'class_weight': None, 'threshold': 0.318}. Best is trial 9 with value: 0.9698230457352885.\n",
      "[I 2025-07-08 07:31:34,597] Trial 11 finished with value: 0.9712266565233486 and parameters: {'solver_penalty': ('newton-cholesky', None), 'C': 6.728271590931241, 'tol': 0.09993182339468386, 'fit_intercept': True, 'class_weight': 'balanced', 'threshold': 0.641}. Best is trial 11 with value: 0.9712266565233486.\n",
      "[I 2025-07-08 07:31:36,121] Trial 12 finished with value: 0.9707947493755157 and parameters: {'solver_penalty': ('liblinear', 'l2'), 'C': 7.48245074894911, 'tol': 0.03941065983622584, 'fit_intercept': True, 'class_weight': None, 'threshold': 0.44599999999999995}. Best is trial 11 with value: 0.9712266565233486.\n",
      "[I 2025-07-08 07:31:36,458] Trial 14 finished with value: 0.971010717523165 and parameters: {'solver_penalty': ('liblinear', 'l2'), 'C': 8.615235215306768, 'tol': 0.008840868901938477, 'fit_intercept': True, 'class_weight': None, 'threshold': 0.31}. Best is trial 11 with value: 0.9712266565233486.\n",
      "[I 2025-07-08 07:31:37,383] Trial 13 finished with value: 0.2720256468551342 and parameters: {'solver_penalty': ('newton-cholesky', 'l2'), 'C': 1.9726647141894726, 'tol': 0.05197453450752375, 'fit_intercept': False, 'class_weight': 'balanced', 'threshold': 0.368}. Best is trial 11 with value: 0.9712266565233486.\n",
      "[I 2025-07-08 07:31:37,859] Trial 15 finished with value: 0.9691752870296693 and parameters: {'solver_penalty': ('newton-cg', 'l2'), 'C': 9.017348835032031, 'tol': 0.0062369080649542115, 'fit_intercept': False, 'class_weight': None, 'threshold': 0.637}. Best is trial 11 with value: 0.9712266565233486.\n",
      "[I 2025-07-08 07:31:38,509] Trial 16 finished with value: 0.2604729030584436 and parameters: {'solver_penalty': ('lbfgs', None), 'C': 1.0146468114448437, 'tol': 0.07310356860532236, 'fit_intercept': False, 'class_weight': 'balanced', 'threshold': 0.423}. Best is trial 11 with value: 0.9712266565233486.\n",
      "[I 2025-07-08 07:31:39,539] Trial 17 finished with value: 0.9174552367794384 and parameters: {'solver_penalty': ('newton-cholesky', 'l2'), 'C': 9.507514241987723, 'tol': 0.09399393396093304, 'fit_intercept': False, 'class_weight': None, 'threshold': 0.61}. Best is trial 11 with value: 0.9712266565233486.\n",
      "[I 2025-07-08 07:31:40,664] Trial 18 finished with value: 0.9689593334557527 and parameters: {'solver_penalty': ('newton-cg', None), 'C': 7.195059345133396, 'tol': 0.09882465011385076, 'fit_intercept': False, 'class_weight': 'balanced', 'threshold': 0.6659999999999999}. Best is trial 11 with value: 0.9712266565233486.\n",
      "[I 2025-07-08 07:31:41,833] Trial 20 finished with value: 0.2604729030584436 and parameters: {'solver_penalty': ('lbfgs', None), 'C': 5.571083376714309, 'tol': 0.012509280800019723, 'fit_intercept': False, 'class_weight': 'balanced', 'threshold': 0.386}. Best is trial 11 with value: 0.9712266565233486.\n",
      "[I 2025-07-08 07:31:41,845] Trial 19 finished with value: 0.9692292098413503 and parameters: {'solver_penalty': ('lbfgs', None), 'C': 3.6865916561345538, 'tol': 0.0036989629606671995, 'fit_intercept': True, 'class_weight': 'balanced', 'threshold': 0.6}. Best is trial 11 with value: 0.9712266565233486.\n",
      "[I 2025-07-08 07:31:42,637] Trial 21 finished with value: 0.2604729030584436 and parameters: {'solver_penalty': ('newton-cg', None), 'C': 5.931550456883769, 'tol': 0.05469682578369552, 'fit_intercept': False, 'class_weight': 'balanced', 'threshold': 0.495}. Best is trial 11 with value: 0.9712266565233486.\n",
      "[I 2025-07-08 07:31:44,180] Trial 24 finished with value: 0.2604729030584436 and parameters: {'solver_penalty': ('liblinear', 'l1'), 'C': 6.840495048781622, 'tol': 0.06254112001685905, 'fit_intercept': False, 'class_weight': 'balanced', 'threshold': 0.32}. Best is trial 11 with value: 0.9712266565233486.\n",
      "[I 2025-07-08 07:31:44,488] Trial 22 finished with value: 0.2604729030584436 and parameters: {'solver_penalty': ('newton-cg', None), 'C': 0.38233376646730544, 'tol': 0.025553852224056074, 'fit_intercept': False, 'class_weight': 'balanced', 'threshold': 0.481}. Best is trial 11 with value: 0.9712266565233486.\n",
      "[I 2025-07-08 07:31:45,398] Trial 23 finished with value: 0.9710647132035106 and parameters: {'solver_penalty': ('newton-cholesky', None), 'C': 2.7212092167198976, 'tol': 0.04645388860053616, 'fit_intercept': True, 'class_weight': 'balanced', 'threshold': 0.497}. Best is trial 11 with value: 0.9712266565233486.\n",
      "[I 2025-07-08 07:31:45,874] Trial 25 finished with value: 0.8603395534025294 and parameters: {'solver_penalty': ('newton-cholesky', None), 'C': 0.5327535310952902, 'tol': 0.031915924458929, 'fit_intercept': False, 'class_weight': None, 'threshold': 0.567}. Best is trial 11 with value: 0.9712266565233486.\n",
      "[I 2025-07-08 07:31:46,811] Trial 26 finished with value: 0.9650724314524475 and parameters: {'solver_penalty': ('liblinear', 'l2'), 'C': 5.036567077836431, 'tol': 0.02377324099815931, 'fit_intercept': False, 'class_weight': 'balanced', 'threshold': 0.5840000000000001}. Best is trial 11 with value: 0.9712266565233486.\n",
      "[I 2025-07-08 07:31:47,605] Trial 27 finished with value: 0.8535376279209406 and parameters: {'solver_penalty': ('newton-cholesky', None), 'C': 0.2424087887563764, 'tol': 0.07397962468695433, 'fit_intercept': False, 'class_weight': 'balanced', 'threshold': 0.537}. Best is trial 11 with value: 0.9712266565233486.\n",
      "[I 2025-07-08 07:31:48,273] Trial 28 finished with value: 0.9708488033507926 and parameters: {'solver_penalty': ('newton-cholesky', None), 'C': 1.7492690869780525, 'tol': 0.07014372261158142, 'fit_intercept': True, 'class_weight': 'balanced', 'threshold': 0.407}. Best is trial 11 with value: 0.9712266565233486.\n",
      "[I 2025-07-08 07:31:48,746] Trial 29 finished with value: 0.2812608319269681 and parameters: {'solver_penalty': ('liblinear', 'l2'), 'C': 1.5401350494759147, 'tol': 0.02962421525920766, 'fit_intercept': False, 'class_weight': None, 'threshold': 0.424}. Best is trial 11 with value: 0.9712266565233486.\n",
      "[I 2025-07-08 07:31:51,405] Trial 30 finished with value: 0.9711186943101232 and parameters: {'solver_penalty': ('newton-cholesky', None), 'C': 8.209323665449705, 'tol': 0.007920249225933092, 'fit_intercept': True, 'class_weight': 'balanced', 'threshold': 0.632}. Best is trial 11 with value: 0.9712266565233486.\n",
      "[I 2025-07-08 07:31:51,552] Trial 31 finished with value: 0.9696070921613721 and parameters: {'solver_penalty': ('lbfgs', None), 'C': 1.4949386277872934, 'tol': 0.0014101561681316899, 'fit_intercept': True, 'class_weight': None, 'threshold': 0.442}. Best is trial 11 with value: 0.9712266565233486.\n",
      "[I 2025-07-08 07:31:51,556] Trial 33 finished with value: 0.9691752433084705 and parameters: {'solver_penalty': ('liblinear', 'l2'), 'C': 6.844509159608175, 'tol': 0.09429411067003339, 'fit_intercept': True, 'class_weight': 'balanced', 'threshold': 0.491}. Best is trial 11 with value: 0.9712266565233486.\n",
      "[I 2025-07-08 07:31:51,559] Trial 32 finished with value: 0.970848759629594 and parameters: {'solver_penalty': ('liblinear', 'l2'), 'C': 9.435194695292088, 'tol': 0.011725981650411919, 'fit_intercept': True, 'class_weight': None, 'threshold': 0.348}. Best is trial 11 with value: 0.9712266565233486.\n",
      "[I 2025-07-08 07:31:53,284] Trial 34 finished with value: 0.9651803499444741 and parameters: {'solver_penalty': ('lbfgs', None), 'C': 6.270439043320657, 'tol': 0.0759051357906133, 'fit_intercept': False, 'class_weight': None, 'threshold': 0.5640000000000001}. Best is trial 11 with value: 0.9712266565233486.\n",
      "[I 2025-07-08 07:31:53,924] Trial 35 finished with value: 0.5898810491921779 and parameters: {'solver_penalty': ('lbfgs', None), 'C': 3.421098817546613, 'tol': 0.050635917158604916, 'fit_intercept': False, 'class_weight': 'balanced', 'threshold': 0.512}. Best is trial 11 with value: 0.9712266565233486.\n",
      "[I 2025-07-08 07:31:54,702] Trial 36 finished with value: 0.9690133145623653 and parameters: {'solver_penalty': ('newton-cg', None), 'C': 2.7110340754405438, 'tol': 0.04902967954619199, 'fit_intercept': True, 'class_weight': None, 'threshold': 0.314}. Best is trial 11 with value: 0.9712266565233486.\n",
      "[I 2025-07-08 07:31:56,252] Trial 39 finished with value: 0.9697150398008645 and parameters: {'solver_penalty': ('liblinear', 'l2'), 'C': 0.03900304754168027, 'tol': 0.03815369163426868, 'fit_intercept': True, 'class_weight': None, 'threshold': 0.435}. Best is trial 11 with value: 0.9712266565233486.\n",
      "[I 2025-07-08 07:31:56,545] Trial 37 finished with value: 0.9692292098413503 and parameters: {'solver_penalty': ('newton-cg', None), 'C': 2.257658834252876, 'tol': 0.003523379867072934, 'fit_intercept': True, 'class_weight': 'balanced', 'threshold': 0.565}. Best is trial 11 with value: 0.9712266565233486.\n",
      "[I 2025-07-08 07:31:57,185] Trial 38 finished with value: 0.9686894279226893 and parameters: {'solver_penalty': ('newton-cg', None), 'C': 3.5487060856613137, 'tol': 0.09954184186029867, 'fit_intercept': True, 'class_weight': 'balanced', 'threshold': 0.303}. Best is trial 11 with value: 0.9712266565233486.\n",
      "[I 2025-07-08 07:31:57,488] Trial 40 finished with value: 0.9324632377587931 and parameters: {'solver_penalty': ('newton-cholesky', None), 'C': 3.4757508030147988, 'tol': 0.044151854170501915, 'fit_intercept': False, 'class_weight': None, 'threshold': 0.692}. Best is trial 11 with value: 0.9712266565233486.\n",
      "[I 2025-07-08 07:31:59,185] Trial 41 finished with value: 0.9694991008006809 and parameters: {'solver_penalty': ('lbfgs', None), 'C': 3.6380094099966565, 'tol': 0.08094978785081909, 'fit_intercept': True, 'class_weight': None, 'threshold': 0.351}. Best is trial 11 with value: 0.9712266565233486.\n",
      "[I 2025-07-08 07:31:59,498] Trial 42 finished with value: 0.2604729030584436 and parameters: {'solver_penalty': ('liblinear', 'l2'), 'C': 5.960644582625989, 'tol': 0.04980402288722863, 'fit_intercept': False, 'class_weight': 'balanced', 'threshold': 0.493}. Best is trial 11 with value: 0.9712266565233486.\n",
      "[I 2025-07-08 07:32:00,297] Trial 43 finished with value: 0.9698770268419012 and parameters: {'solver_penalty': ('lbfgs', None), 'C': 1.5906621229420814, 'tol': 0.04729171593554488, 'fit_intercept': True, 'class_weight': None, 'threshold': 0.626}. Best is trial 11 with value: 0.9712266565233486.\n",
      "[I 2025-07-08 07:32:00,807] Trial 44 finished with value: 0.9695531110547593 and parameters: {'solver_penalty': ('liblinear', 'l2'), 'C': 2.871860194440552, 'tol': 0.08986402867123028, 'fit_intercept': True, 'class_weight': 'balanced', 'threshold': 0.665}. Best is trial 11 with value: 0.9712266565233486.\n",
      "[I 2025-07-08 07:32:01,967] Trial 46 finished with value: 0.9660440913714756 and parameters: {'solver_penalty': ('lbfgs', None), 'C': 4.250616177328883, 'tol': 0.0347025853716931, 'fit_intercept': False, 'class_weight': None, 'threshold': 0.575}. Best is trial 11 with value: 0.9712266565233486.\n",
      "[I 2025-07-08 07:32:03,148] Trial 45 finished with value: 0.9696070921613721 and parameters: {'solver_penalty': ('lbfgs', 'l2'), 'C': 0.5976669336035656, 'tol': 0.0015932072399226997, 'fit_intercept': True, 'class_weight': None, 'threshold': 0.437}. Best is trial 11 with value: 0.9712266565233486.\n",
      "[I 2025-07-08 07:32:03,638] Trial 47 finished with value: 0.9692292098413503 and parameters: {'solver_penalty': ('lbfgs', 'l2'), 'C': 2.043505309712578, 'tol': 0.056643388141763965, 'fit_intercept': True, 'class_weight': 'balanced', 'threshold': 0.681}. Best is trial 11 with value: 0.9712266565233486.\n",
      "[I 2025-07-08 07:32:04,200] Trial 48 finished with value: 0.9692831909479629 and parameters: {'solver_penalty': ('lbfgs', None), 'C': 0.8473135839292467, 'tol': 0.04223569628166825, 'fit_intercept': True, 'class_weight': 'balanced', 'threshold': 0.6719999999999999}. Best is trial 11 with value: 0.9712266565233486.\n",
      "[I 2025-07-08 07:32:05,498] Trial 49 finished with value: 0.971010702949432 and parameters: {'solver_penalty': ('newton-cholesky', 'l2'), 'C': 3.8717786091172957, 'tol': 0.01713694138722587, 'fit_intercept': True, 'class_weight': None, 'threshold': 0.46599999999999997}. Best is trial 11 with value: 0.9712266565233486.\n",
      "[I 2025-07-08 07:32:06,184] Trial 50 finished with value: 0.9688513712425273 and parameters: {'solver_penalty': ('lbfgs', None), 'C': 9.985138707044188, 'tol': 0.05252072513696318, 'fit_intercept': True, 'class_weight': 'balanced', 'threshold': 0.484}. Best is trial 11 with value: 0.9712266565233486.\n",
      "[I 2025-07-08 07:32:06,675] Trial 52 finished with value: 0.2604729030584436 and parameters: {'solver_penalty': ('liblinear', 'l1'), 'C': 2.4995062525884313, 'tol': 0.037606536807611765, 'fit_intercept': False, 'class_weight': None, 'threshold': 0.32999999999999996}. Best is trial 11 with value: 0.9712266565233486.\n",
      "[I 2025-07-08 07:32:07,985] Trial 51 finished with value: 0.9692292098413503 and parameters: {'solver_penalty': ('newton-cg', None), 'C': 5.5555509095209965, 'tol': 0.03758451441333433, 'fit_intercept': True, 'class_weight': 'balanced', 'threshold': 0.592}. Best is trial 11 with value: 0.9712266565233486.\n",
      "[I 2025-07-08 07:32:08,665] Trial 53 finished with value: 0.9712266565233486 and parameters: {'solver_penalty': ('newton-cholesky', None), 'C': 8.623862129743845, 'tol': 0.092280907321958, 'fit_intercept': True, 'class_weight': 'balanced', 'threshold': 0.644}. Best is trial 11 with value: 0.9712266565233486.\n",
      "[I 2025-07-08 07:32:09,645] Trial 54 finished with value: 0.9711186943101232 and parameters: {'solver_penalty': ('newton-cholesky', None), 'C': 7.695434921272368, 'tol': 0.013595063841402587, 'fit_intercept': True, 'class_weight': 'balanced', 'threshold': 0.633}. Best is trial 11 with value: 0.9712266565233486.\n",
      "[I 2025-07-08 07:32:09,833] Trial 55 finished with value: 0.9711186943101232 and parameters: {'solver_penalty': ('newton-cholesky', None), 'C': 9.575742019382533, 'tol': 0.01443603839451986, 'fit_intercept': True, 'class_weight': 'balanced', 'threshold': 0.628}. Best is trial 11 with value: 0.9712266565233486.\n",
      "[I 2025-07-08 07:32:11,551] Trial 57 finished with value: 0.971172675416736 and parameters: {'solver_penalty': ('newton-cholesky', None), 'C': 9.919364697062928, 'tol': 0.09941674318966455, 'fit_intercept': True, 'class_weight': 'balanced', 'threshold': 0.673}. Best is trial 11 with value: 0.9712266565233486.\n",
      "[I 2025-07-08 07:32:11,750] Trial 56 finished with value: 0.9711186943101232 and parameters: {'solver_penalty': ('newton-cholesky', None), 'C': 7.068408851154008, 'tol': 0.006707142130146194, 'fit_intercept': True, 'class_weight': 'balanced', 'threshold': 0.605}. Best is trial 11 with value: 0.9712266565233486.\n",
      "[I 2025-07-08 07:32:13,169] Trial 59 finished with value: 0.9692292098413503 and parameters: {'solver_penalty': ('lbfgs', 'l2'), 'C': 7.697022580560754, 'tol': 0.002470070300158724, 'fit_intercept': True, 'class_weight': 'balanced', 'threshold': 0.629}. Best is trial 11 with value: 0.9712266565233486.\n",
      "[I 2025-07-08 07:32:13,486] Trial 58 finished with value: 0.9711726754167358 and parameters: {'solver_penalty': ('newton-cholesky', None), 'C': 7.19749375710999, 'tol': 0.005165652933194543, 'fit_intercept': True, 'class_weight': 'balanced', 'threshold': 0.615}. Best is trial 11 with value: 0.9712266565233486.\n",
      "[I 2025-07-08 07:32:14,956] Trial 61 finished with value: 0.971172675416736 and parameters: {'solver_penalty': ('newton-cholesky', None), 'C': 8.93330698060155, 'tol': 0.0856051713550329, 'fit_intercept': True, 'class_weight': 'balanced', 'threshold': 0.673}. Best is trial 11 with value: 0.9712266565233486.\n",
      "[I 2025-07-08 07:32:15,123] Trial 60 finished with value: 0.971172675416736 and parameters: {'solver_penalty': ('newton-cholesky', None), 'C': 8.99372722039043, 'tol': 0.0954728265725691, 'fit_intercept': True, 'class_weight': 'balanced', 'threshold': 0.665}. Best is trial 11 with value: 0.9712266565233486.\n",
      "[I 2025-07-08 07:32:16,249] Trial 62 finished with value: 0.9712266565233486 and parameters: {'solver_penalty': ('newton-cholesky', None), 'C': 6.311782785858755, 'tol': 0.09686382335788711, 'fit_intercept': True, 'class_weight': 'balanced', 'threshold': 0.645}. Best is trial 11 with value: 0.9712266565233486.\n",
      "[I 2025-07-08 07:32:16,563] Trial 63 finished with value: 0.971172675416736 and parameters: {'solver_penalty': ('newton-cholesky', None), 'C': 8.230895942016092, 'tol': 0.0895580896853217, 'fit_intercept': True, 'class_weight': 'balanced', 'threshold': 0.671}. Best is trial 11 with value: 0.9712266565233486.\n",
      "[I 2025-07-08 07:32:18,153] Trial 64 finished with value: 0.9711186943101232 and parameters: {'solver_penalty': ('newton-cholesky', None), 'C': 9.705942867516722, 'tol': 0.08760206051337145, 'fit_intercept': True, 'class_weight': 'balanced', 'threshold': 0.651}. Best is trial 11 with value: 0.9712266565233486.\n",
      "[I 2025-07-08 07:32:18,510] Trial 65 finished with value: 0.971172675416736 and parameters: {'solver_penalty': ('newton-cholesky', None), 'C': 9.204512773198985, 'tol': 0.09012884356308973, 'fit_intercept': True, 'class_weight': 'balanced', 'threshold': 0.673}. Best is trial 11 with value: 0.9712266565233486.\n",
      "[I 2025-07-08 07:32:19,475] Trial 66 finished with value: 0.9712266565233486 and parameters: {'solver_penalty': ('newton-cholesky', None), 'C': 9.817063182142785, 'tol': 0.08020536197570051, 'fit_intercept': True, 'class_weight': 'balanced', 'threshold': 0.639}. Best is trial 11 with value: 0.9712266565233486.\n",
      "[I 2025-07-08 07:32:19,662] Trial 67 finished with value: 0.9711186943101232 and parameters: {'solver_penalty': ('newton-cholesky', None), 'C': 9.030768713922871, 'tol': 0.0936576707747302, 'fit_intercept': True, 'class_weight': 'balanced', 'threshold': 0.661}. Best is trial 11 with value: 0.9712266565233486.\n",
      "[I 2025-07-08 07:32:21,710] Trial 69 finished with value: 0.9712266565233486 and parameters: {'solver_penalty': ('newton-cholesky', None), 'C': 5.656934126909727, 'tol': 0.09793079148523307, 'fit_intercept': True, 'class_weight': 'balanced', 'threshold': 0.688}. Best is trial 11 with value: 0.9712266565233486.\n",
      "[I 2025-07-08 07:32:21,900] Trial 68 finished with value: 0.9693371720545759 and parameters: {'solver_penalty': ('newton-cg', 'l2'), 'C': 6.504440589528815, 'tol': 0.09670389926929973, 'fit_intercept': True, 'class_weight': 'balanced', 'threshold': 0.6699999999999999}. Best is trial 11 with value: 0.9712266565233486.\n",
      "[I 2025-07-08 07:32:22,565] Trial 71 finished with value: 0.9711186651626573 and parameters: {'solver_penalty': ('newton-cholesky', None), 'C': 9.744393875265978, 'tol': 0.05307533433396731, 'fit_intercept': True, 'class_weight': None, 'threshold': 0.627}. Best is trial 11 with value: 0.9712266565233486.\n",
      "[I 2025-07-08 07:32:22,738] Trial 70 finished with value: 0.9709567509902852 and parameters: {'solver_penalty': ('newton-cholesky', None), 'C': 5.4874234645583915, 'tol': 0.08983193128295247, 'fit_intercept': True, 'class_weight': 'balanced', 'threshold': 0.5569999999999999}. Best is trial 11 with value: 0.9712266565233486.\n",
      "[I 2025-07-08 07:32:24,632] Trial 72 finished with value: 0.9710106883756993 and parameters: {'solver_penalty': ('newton-cholesky', None), 'C': 5.278391668424757, 'tol': 0.08167255854944824, 'fit_intercept': True, 'class_weight': None, 'threshold': 0.6519999999999999}. Best is trial 11 with value: 0.9712266565233486.\n",
      "[I 2025-07-08 07:32:25,584] Trial 75 finished with value: 0.9705788103753319 and parameters: {'solver_penalty': ('liblinear', 'l1'), 'C': 8.683921558967295, 'tol': 0.0999300303225234, 'fit_intercept': True, 'class_weight': None, 'threshold': 0.698}. Best is trial 11 with value: 0.9712266565233486.\n",
      "[I 2025-07-08 07:32:25,592] Trial 73 finished with value: 0.9513048300265533 and parameters: {'solver_penalty': ('newton-cholesky', None), 'C': 5.428807933264516, 'tol': 0.07364914383611407, 'fit_intercept': False, 'class_weight': 'balanced', 'threshold': 0.6759999999999999}. Best is trial 11 with value: 0.9712266565233486.\n",
      "[I 2025-07-08 07:32:26,127] Trial 74 finished with value: 0.9196147870923361 and parameters: {'solver_penalty': ('newton-cholesky', None), 'C': 4.208970734632501, 'tol': 0.09600518839528366, 'fit_intercept': False, 'class_weight': 'balanced', 'threshold': 0.602}. Best is trial 11 with value: 0.9712266565233486.\n",
      "[I 2025-07-08 07:32:28,182] Trial 76 finished with value: 0.971172675416736 and parameters: {'solver_penalty': ('newton-cholesky', None), 'C': 3.0014854901157273, 'tol': 0.09934402617320187, 'fit_intercept': True, 'class_weight': 'balanced', 'threshold': 0.6839999999999999}. Best is trial 11 with value: 0.9712266565233486.\n",
      "[I 2025-07-08 07:32:28,854] Trial 77 finished with value: 0.971172660843003 and parameters: {'solver_penalty': ('newton-cholesky', 'l2'), 'C': 4.552648941345103, 'tol': 0.09620696071512139, 'fit_intercept': True, 'class_weight': 'balanced', 'threshold': 0.6659999999999999}. Best is trial 11 with value: 0.9712266565233486.\n",
      "[I 2025-07-08 07:32:28,881] Trial 78 finished with value: 0.8819333951259608 and parameters: {'solver_penalty': ('newton-cholesky', None), 'C': 9.533858241320413, 'tol': 0.08676692295004552, 'fit_intercept': False, 'class_weight': 'balanced', 'threshold': 0.558}. Best is trial 11 with value: 0.9712266565233486.\n",
      "[I 2025-07-08 07:32:29,062] Trial 79 finished with value: 0.9690132999886325 and parameters: {'solver_penalty': ('liblinear', 'l1'), 'C': 9.71497504267058, 'tol': 0.08878275721210496, 'fit_intercept': True, 'class_weight': 'balanced', 'threshold': 0.497}. Best is trial 11 with value: 0.9712266565233486.\n",
      "[I 2025-07-08 07:32:31,792] Trial 82 finished with value: 0.9693911385874555 and parameters: {'solver_penalty': ('liblinear', 'l1'), 'C': 8.296927079878513, 'tol': 0.07193901656696362, 'fit_intercept': True, 'class_weight': 'balanced', 'threshold': 0.606}. Best is trial 11 with value: 0.9712266565233486.\n",
      "[I 2025-07-08 07:32:31,961] Trial 81 finished with value: 0.9692292098413503 and parameters: {'solver_penalty': ('lbfgs', None), 'C': 6.4706523397109805, 'tol': 0.05842387281542432, 'fit_intercept': True, 'class_weight': 'balanced', 'threshold': 0.669}. Best is trial 11 with value: 0.9712266565233486.\n",
      "[I 2025-07-08 07:32:32,134] Trial 80 finished with value: 0.9690672810952453 and parameters: {'solver_penalty': ('newton-cg', None), 'C': 9.146510016747694, 'tol': 0.09643534581873704, 'fit_intercept': True, 'class_weight': 'balanced', 'threshold': 0.565}. Best is trial 11 with value: 0.9712266565233486.\n",
      "[I 2025-07-08 07:32:32,331] Trial 83 finished with value: 0.971172675416736 and parameters: {'solver_penalty': ('newton-cholesky', 'l2'), 'C': 9.650696201677446, 'tol': 0.05750440118491118, 'fit_intercept': True, 'class_weight': 'balanced', 'threshold': 0.612}. Best is trial 11 with value: 0.9712266565233486.\n",
      "[I 2025-07-08 07:32:34,703] Trial 86 finished with value: 0.9694991153744137 and parameters: {'solver_penalty': ('liblinear', 'l1'), 'C': 6.216668396049929, 'tol': 0.09509317384734514, 'fit_intercept': True, 'class_weight': 'balanced', 'threshold': 0.653}. Best is trial 11 with value: 0.9712266565233486.\n",
      "[I 2025-07-08 07:32:35,056] Trial 85 finished with value: 0.9692292098413503 and parameters: {'solver_penalty': ('lbfgs', 'l2'), 'C': 8.50417125877593, 'tol': 0.09113163249888995, 'fit_intercept': True, 'class_weight': 'balanced', 'threshold': 0.694}. Best is trial 11 with value: 0.9712266565233486.\n",
      "[I 2025-07-08 07:32:35,390] Trial 84 finished with value: 0.971172675416736 and parameters: {'solver_penalty': ('newton-cholesky', None), 'C': 6.0615812221383925, 'tol': 0.09718356701143947, 'fit_intercept': True, 'class_weight': 'balanced', 'threshold': 0.685}. Best is trial 11 with value: 0.9712266565233486.\n",
      "[I 2025-07-08 07:32:35,761] Trial 87 finished with value: 0.971172675416736 and parameters: {'solver_penalty': ('newton-cholesky', None), 'C': 6.356554200175503, 'tol': 0.08084087224381635, 'fit_intercept': True, 'class_weight': 'balanced', 'threshold': 0.6799999999999999}. Best is trial 11 with value: 0.9712266565233486.\n",
      "[I 2025-07-08 07:32:37,586] Trial 88 finished with value: 0.9695530964810264 and parameters: {'solver_penalty': ('liblinear', 'l2'), 'C': 9.274741510473799, 'tol': 0.0989985695342148, 'fit_intercept': True, 'class_weight': 'balanced', 'threshold': 0.653}. Best is trial 11 with value: 0.9712266565233486.\n",
      "[I 2025-07-08 07:32:38,733] Trial 89 finished with value: 0.9712266565233486 and parameters: {'solver_penalty': ('newton-cholesky', None), 'C': 5.57100332912703, 'tol': 0.08716162587001336, 'fit_intercept': True, 'class_weight': 'balanced', 'threshold': 0.696}. Best is trial 11 with value: 0.9712266565233486.\n",
      "[I 2025-07-08 07:32:38,927] Trial 90 finished with value: 0.9691752433084705 and parameters: {'solver_penalty': ('lbfgs', None), 'C': 8.470885999686656, 'tol': 0.09887050647030426, 'fit_intercept': True, 'class_weight': 'balanced', 'threshold': 0.641}. Best is trial 11 with value: 0.9712266565233486.\n",
      "[I 2025-07-08 07:32:39,251] Trial 91 finished with value: 0.9690672810952453 and parameters: {'solver_penalty': ('lbfgs', None), 'C': 7.388181435351173, 'tol': 0.09210489437570042, 'fit_intercept': True, 'class_weight': 'balanced', 'threshold': 0.595}. Best is trial 11 with value: 0.9712266565233486.\n",
      "[I 2025-07-08 07:32:40,998] Trial 92 finished with value: 0.9710107320968978 and parameters: {'solver_penalty': ('newton-cholesky', None), 'C': 8.83500508707157, 'tol': 0.09310195966508732, 'fit_intercept': True, 'class_weight': 'balanced', 'threshold': 0.527}. Best is trial 11 with value: 0.9712266565233486.\n",
      "[I 2025-07-08 07:32:41,800] Trial 93 finished with value: 0.9709027407362066 and parameters: {'solver_penalty': ('newton-cholesky', None), 'C': 8.313417232450075, 'tol': 0.0916592592794288, 'fit_intercept': True, 'class_weight': None, 'threshold': 0.567}. Best is trial 11 with value: 0.9712266565233486.\n",
      "[I 2025-07-08 07:32:42,136] Trial 94 finished with value: 0.9689593334557527 and parameters: {'solver_penalty': ('newton-cg', 'l2'), 'C': 9.167330963424247, 'tol': 0.08679108269875983, 'fit_intercept': False, 'class_weight': 'balanced', 'threshold': 0.6619999999999999}. Best is trial 11 with value: 0.9712266565233486.\n",
      "[I 2025-07-08 07:32:42,326] Trial 95 finished with value: 0.9689593334557527 and parameters: {'solver_penalty': ('newton-cg', 'l2'), 'C': 8.324152705920515, 'tol': 0.0797822149447877, 'fit_intercept': False, 'class_weight': 'balanced', 'threshold': 0.6619999999999999}. Best is trial 11 with value: 0.9712266565233486.\n",
      "[I 2025-07-08 07:32:44,564] Trial 96 finished with value: 0.971172675416736 and parameters: {'solver_penalty': ('newton-cholesky', None), 'C': 8.22674992212009, 'tol': 0.059835619627430905, 'fit_intercept': True, 'class_weight': 'balanced', 'threshold': 0.615}. Best is trial 11 with value: 0.9712266565233486.\n",
      "[I 2025-07-08 07:32:45,087] Trial 97 finished with value: 0.971172675416736 and parameters: {'solver_penalty': ('newton-cholesky', None), 'C': 7.123747394442455, 'tol': 0.09166391821659332, 'fit_intercept': True, 'class_weight': 'balanced', 'threshold': 0.608}. Best is trial 11 with value: 0.9712266565233486.\n",
      "[I 2025-07-08 07:32:45,256] Trial 98 finished with value: 0.9712806376299612 and parameters: {'solver_penalty': ('newton-cholesky', None), 'C': 9.841492496776546, 'tol': 0.050696011660424506, 'fit_intercept': True, 'class_weight': 'balanced', 'threshold': 0.632}. Best is trial 98 with value: 0.9712806376299612.\n",
      "[I 2025-07-08 07:32:45,599] Trial 99 finished with value: 0.971172675416736 and parameters: {'solver_penalty': ('newton-cholesky', None), 'C': 9.504180906988452, 'tol': 0.0658618548170546, 'fit_intercept': True, 'class_weight': 'balanced', 'threshold': 0.606}. Best is trial 98 with value: 0.9712806376299612.\n",
      "[I 2025-07-08 07:32:47,495] Trial 100 finished with value: 0.9709027261624736 and parameters: {'solver_penalty': ('newton-cholesky', None), 'C': 7.389386727257124, 'tol': 0.09561042483066462, 'fit_intercept': True, 'class_weight': None, 'threshold': 0.7}. Best is trial 98 with value: 0.9712806376299612.\n",
      "[I 2025-07-08 07:32:48,492] Trial 103 finished with value: 0.9709567072690864 and parameters: {'solver_penalty': ('newton-cholesky', None), 'C': 9.72861679555222, 'tol': 0.08990723508478518, 'fit_intercept': True, 'class_weight': None, 'threshold': 0.694}. Best is trial 98 with value: 0.9712806376299612.\n",
      "[I 2025-07-08 07:32:48,669] Trial 102 finished with value: 0.9712266565233486 and parameters: {'solver_penalty': ('newton-cholesky', 'l2'), 'C': 9.516954824382099, 'tol': 0.08825598241023633, 'fit_intercept': True, 'class_weight': 'balanced', 'threshold': 0.679}. Best is trial 98 with value: 0.9712806376299612.\n",
      "[I 2025-07-08 07:32:49,041] Trial 101 finished with value: 0.9692831909479629 and parameters: {'solver_penalty': ('newton-cg', 'l2'), 'C': 9.789300397070223, 'tol': 0.07663979926111053, 'fit_intercept': True, 'class_weight': 'balanced', 'threshold': 0.649}. Best is trial 98 with value: 0.9712806376299612.\n",
      "[I 2025-07-08 07:32:50,346] Trial 104 finished with value: 0.9691212622018579 and parameters: {'solver_penalty': ('lbfgs', 'l2'), 'C': 9.656859412849856, 'tol': 0.04401310822257889, 'fit_intercept': True, 'class_weight': 'balanced', 'threshold': 0.623}. Best is trial 98 with value: 0.9712806376299612.\n",
      "[I 2025-07-08 07:32:51,925] Trial 105 finished with value: 0.9518987096416902 and parameters: {'solver_penalty': ('newton-cholesky', None), 'C': 8.461406662998952, 'tol': 0.0990826292673354, 'fit_intercept': False, 'class_weight': 'balanced', 'threshold': 0.6779999999999999}. Best is trial 98 with value: 0.9712806376299612.\n",
      "[I 2025-07-08 07:32:51,952] Trial 106 finished with value: 0.9712266419496156 and parameters: {'solver_penalty': ('newton-cholesky', 'l2'), 'C': 8.438994015454288, 'tol': 0.08279986508694889, 'fit_intercept': True, 'class_weight': 'balanced', 'threshold': 0.6859999999999999}. Best is trial 98 with value: 0.9712806376299612.\n",
      "[I 2025-07-08 07:32:52,324] Trial 107 finished with value: 0.971172675416736 and parameters: {'solver_penalty': ('newton-cholesky', 'l2'), 'C': 7.958665366091597, 'tol': 0.08222028730348228, 'fit_intercept': True, 'class_weight': 'balanced', 'threshold': 0.627}. Best is trial 98 with value: 0.9712806376299612.\n",
      "[I 2025-07-08 07:32:53,616] Trial 108 finished with value: 0.9712266565233486 and parameters: {'solver_penalty': ('newton-cholesky', 'l2'), 'C': 8.306701635071244, 'tol': 0.07915790951379272, 'fit_intercept': True, 'class_weight': 'balanced', 'threshold': 0.6779999999999999}. Best is trial 98 with value: 0.9712806376299612.\n",
      "[I 2025-07-08 07:32:55,192] Trial 109 finished with value: 0.971172675416736 and parameters: {'solver_penalty': ('newton-cholesky', 'l2'), 'C': 9.315900834147273, 'tol': 0.0787666179010749, 'fit_intercept': True, 'class_weight': 'balanced', 'threshold': 0.624}. Best is trial 98 with value: 0.9712806376299612.\n",
      "[I 2025-07-08 07:32:55,213] Trial 110 finished with value: 0.9712266565233486 and parameters: {'solver_penalty': ('newton-cholesky', 'l2'), 'C': 8.80912481073218, 'tol': 0.09420150452132454, 'fit_intercept': True, 'class_weight': 'balanced', 'threshold': 0.673}. Best is trial 98 with value: 0.9712806376299612.\n",
      "[I 2025-07-08 07:32:55,568] Trial 111 finished with value: 0.9711186943101232 and parameters: {'solver_penalty': ('newton-cholesky', 'l2'), 'C': 9.639738376932032, 'tol': 0.0780184042580554, 'fit_intercept': True, 'class_weight': 'balanced', 'threshold': 0.615}. Best is trial 98 with value: 0.9712806376299612.\n",
      "[I 2025-07-08 07:32:57,648] Trial 112 finished with value: 0.9693911385874555 and parameters: {'solver_penalty': ('newton-cg', None), 'C': 9.891153698606427, 'tol': 0.07531203828521243, 'fit_intercept': True, 'class_weight': 'balanced', 'threshold': 0.696}. Best is trial 98 with value: 0.9712806376299612.\n",
      "[I 2025-07-08 07:32:57,990] Trial 113 finished with value: 0.9710106883756993 and parameters: {'solver_penalty': ('newton-cholesky', 'l2'), 'C': 7.153949084545949, 'tol': 0.056255161039801244, 'fit_intercept': True, 'class_weight': None, 'threshold': 0.6719999999999999}. Best is trial 98 with value: 0.9712806376299612.\n",
      "[I 2025-07-08 07:32:58,359] Trial 114 finished with value: 0.9712266565233486 and parameters: {'solver_penalty': ('newton-cholesky', 'l2'), 'C': 8.907652561645483, 'tol': 0.09836649119159167, 'fit_intercept': True, 'class_weight': 'balanced', 'threshold': 0.673}. Best is trial 98 with value: 0.9712806376299612.\n",
      "[I 2025-07-08 07:32:58,705] Trial 115 finished with value: 0.9608068310000787 and parameters: {'solver_penalty': ('newton-cholesky', 'l2'), 'C': 8.883698663678043, 'tol': 0.05099029889377816, 'fit_intercept': False, 'class_weight': 'balanced', 'threshold': 0.6819999999999999}. Best is trial 98 with value: 0.9712806376299612.\n",
      "[I 2025-07-08 07:33:00,956] Trial 116 finished with value: 0.9712266565233486 and parameters: {'solver_penalty': ('newton-cholesky', 'l2'), 'C': 8.254798624053855, 'tol': 0.09698372078900853, 'fit_intercept': True, 'class_weight': 'balanced', 'threshold': 0.655}. Best is trial 98 with value: 0.9712806376299612.\n",
      "[I 2025-07-08 07:33:01,438] Trial 117 finished with value: 0.9711186797363902 and parameters: {'solver_penalty': ('newton-cholesky', 'l2'), 'C': 8.617943672002717, 'tol': 0.08255526381155254, 'fit_intercept': True, 'class_weight': 'balanced', 'threshold': 0.698}. Best is trial 98 with value: 0.9712806376299612.\n",
      "[I 2025-07-08 07:33:01,789] Trial 118 finished with value: 0.9712266565233486 and parameters: {'solver_penalty': ('newton-cholesky', 'l2'), 'C': 8.467781053111205, 'tol': 0.09083083805758185, 'fit_intercept': True, 'class_weight': 'balanced', 'threshold': 0.6739999999999999}. Best is trial 98 with value: 0.9712806376299612.\n",
      "[I 2025-07-08 07:33:01,961] Trial 119 finished with value: 0.9712266565233486 and parameters: {'solver_penalty': ('newton-cholesky', 'l2'), 'C': 9.604147628395358, 'tol': 0.09788822408007238, 'fit_intercept': True, 'class_weight': 'balanced', 'threshold': 0.663}. Best is trial 98 with value: 0.9712806376299612.\n",
      "[I 2025-07-08 07:33:04,347] Trial 120 finished with value: 0.9712266565233486 and parameters: {'solver_penalty': ('newton-cholesky', 'l2'), 'C': 9.420335689633541, 'tol': 0.08996776673793434, 'fit_intercept': True, 'class_weight': 'balanced', 'threshold': 0.6759999999999999}. Best is trial 98 with value: 0.9712806376299612.\n",
      "[I 2025-07-08 07:33:04,853] Trial 121 finished with value: 0.9712266565233486 and parameters: {'solver_penalty': ('newton-cholesky', 'l2'), 'C': 9.079325486313895, 'tol': 0.09212209278862929, 'fit_intercept': True, 'class_weight': 'balanced', 'threshold': 0.6759999999999999}. Best is trial 98 with value: 0.9712806376299612.\n",
      "[I 2025-07-08 07:33:04,857] Trial 123 finished with value: 0.9710646694823118 and parameters: {'solver_penalty': ('newton-cholesky', 'l2'), 'C': 7.30532638731578, 'tol': 0.08601264866077385, 'fit_intercept': True, 'class_weight': None, 'threshold': 0.671}. Best is trial 98 with value: 0.9712806376299612.\n",
      "[I 2025-07-08 07:33:05,211] Trial 122 finished with value: 0.86341666593798 and parameters: {'solver_penalty': ('newton-cholesky', 'l2'), 'C': 9.118096416472744, 'tol': 0.0946906773707841, 'fit_intercept': False, 'class_weight': 'balanced', 'threshold': 0.54}. Best is trial 98 with value: 0.9712806376299612.\n",
      "[I 2025-07-08 07:33:06,838] Trial 124 finished with value: 0.9691752870296693 and parameters: {'solver_penalty': ('lbfgs', 'l2'), 'C': 5.7002750198602, 'tol': 0.09596710899228826, 'fit_intercept': False, 'class_weight': 'balanced', 'threshold': 0.643}. Best is trial 98 with value: 0.9712806376299612.\n",
      "[I 2025-07-08 07:33:08,162] Trial 126 finished with value: 0.9443944468248209 and parameters: {'solver_penalty': ('newton-cholesky', 'l2'), 'C': 7.266721993764859, 'tol': 0.09089351570648259, 'fit_intercept': False, 'class_weight': 'balanced', 'threshold': 0.62}. Best is trial 98 with value: 0.9712806376299612.\n",
      "[I 2025-07-08 07:33:08,869] Trial 127 finished with value: 0.9691752287347377 and parameters: {'solver_penalty': ('newton-cg', None), 'C': 6.009354008660128, 'tol': 0.08427280325575828, 'fit_intercept': True, 'class_weight': 'balanced', 'threshold': 0.645}. Best is trial 98 with value: 0.9712806376299612.\n",
      "[I 2025-07-08 07:33:08,893] Trial 125 finished with value: 0.9693911385874555 and parameters: {'solver_penalty': ('newton-cg', None), 'C': 4.645115145366129, 'tol': 0.08140928560927656, 'fit_intercept': True, 'class_weight': 'balanced', 'threshold': 0.694}. Best is trial 98 with value: 0.9712806376299612.\n",
      "[I 2025-07-08 07:33:10,190] Trial 128 finished with value: 0.9493072376072262 and parameters: {'solver_penalty': ('newton-cholesky', None), 'C': 9.220731207982528, 'tol': 0.05372055697235488, 'fit_intercept': False, 'class_weight': 'balanced', 'threshold': 0.669}. Best is trial 98 with value: 0.9712806376299612.\n",
      "[I 2025-07-08 07:33:11,469] Trial 129 finished with value: 0.962210558378002 and parameters: {'solver_penalty': ('newton-cholesky', 'l2'), 'C': 9.902429971702725, 'tol': 0.09128881722549867, 'fit_intercept': False, 'class_weight': 'balanced', 'threshold': 0.696}. Best is trial 98 with value: 0.9712806376299612.\n",
      "[I 2025-07-08 07:33:11,476] Trial 131 finished with value: 0.970848759629594 and parameters: {'solver_penalty': ('liblinear', 'l2'), 'C': 5.549683705509718, 'tol': 0.0731440952566365, 'fit_intercept': True, 'class_weight': 'balanced', 'threshold': 0.602}. Best is trial 98 with value: 0.9712806376299612.\n",
      "[I 2025-07-08 07:33:12,157] Trial 130 finished with value: 0.971172675416736 and parameters: {'solver_penalty': ('newton-cholesky', 'l2'), 'C': 6.439575224264781, 'tol': 0.0994603152613157, 'fit_intercept': True, 'class_weight': 'balanced', 'threshold': 0.597}. Best is trial 98 with value: 0.9712806376299612.\n",
      "[I 2025-07-08 07:33:13,447] Trial 132 finished with value: 0.9711186943101232 and parameters: {'solver_penalty': ('newton-cholesky', None), 'C': 4.602566009076373, 'tol': 0.08543923087296774, 'fit_intercept': True, 'class_weight': 'balanced', 'threshold': 0.6599999999999999}. Best is trial 98 with value: 0.9712806376299612.\n",
      "[I 2025-07-08 07:33:14,251] Trial 134 finished with value: 0.9696070921613721 and parameters: {'solver_penalty': ('liblinear', 'l1'), 'C': 9.371568597748409, 'tol': 0.09603970842209551, 'fit_intercept': True, 'class_weight': 'balanced', 'threshold': 0.671}. Best is trial 98 with value: 0.9712806376299612.\n",
      "[I 2025-07-08 07:33:14,906] Trial 133 finished with value: 0.9712266419496156 and parameters: {'solver_penalty': ('newton-cholesky', 'l2'), 'C': 6.291626095951014, 'tol': 0.09342866980256137, 'fit_intercept': True, 'class_weight': 'balanced', 'threshold': 0.6779999999999999}. Best is trial 98 with value: 0.9712806376299612.\n",
      "[I 2025-07-08 07:33:15,720] Trial 135 finished with value: 0.971172675416736 and parameters: {'solver_penalty': ('newton-cholesky', None), 'C': 4.45467869283698, 'tol': 0.05621506706177319, 'fit_intercept': True, 'class_weight': 'balanced', 'threshold': 0.6659999999999999}. Best is trial 98 with value: 0.9712806376299612.\n",
      "[I 2025-07-08 07:33:16,376] Trial 136 finished with value: 0.9707407974163687 and parameters: {'solver_penalty': ('liblinear', 'l2'), 'C': 9.235346455865368, 'tol': 0.04226059484582191, 'fit_intercept': True, 'class_weight': 'balanced', 'threshold': 0.565}. Best is trial 98 with value: 0.9712806376299612.\n",
      "[I 2025-07-08 07:33:17,012] Trial 137 finished with value: 0.9671238300935926 and parameters: {'solver_penalty': ('lbfgs', None), 'C': 4.671504138227066, 'tol': 0.0939350909797727, 'fit_intercept': True, 'class_weight': None, 'threshold': 0.6759999999999999}. Best is trial 98 with value: 0.9712806376299612.\n",
      "[I 2025-07-08 07:33:18,659] Trial 138 finished with value: 0.9712266565233486 and parameters: {'solver_penalty': ('newton-cholesky', 'l2'), 'C': 9.863108822210329, 'tol': 0.09374154956998776, 'fit_intercept': True, 'class_weight': 'balanced', 'threshold': 0.5700000000000001}. Best is trial 98 with value: 0.9712806376299612.\n",
      "[I 2025-07-08 07:33:19,191] Trial 139 finished with value: 0.9710107466706308 and parameters: {'solver_penalty': ('liblinear', 'l1'), 'C': 2.006770736383178, 'tol': 0.0005147566082848998, 'fit_intercept': True, 'class_weight': 'balanced', 'threshold': 0.356}. Best is trial 98 with value: 0.9712806376299612.\n",
      "[I 2025-07-08 07:33:19,875] Trial 140 finished with value: 0.971172660843003 and parameters: {'solver_penalty': ('newton-cholesky', 'l2'), 'C': 8.598409853507928, 'tol': 0.09918526940441587, 'fit_intercept': True, 'class_weight': 'balanced', 'threshold': 0.694}. Best is trial 98 with value: 0.9712806376299612.\n",
      "[I 2025-07-08 07:33:20,336] Trial 141 finished with value: 0.9690672956689781 and parameters: {'solver_penalty': ('lbfgs', 'l2'), 'C': 9.215948147825197, 'tol': 0.09133111495304211, 'fit_intercept': True, 'class_weight': 'balanced', 'threshold': 0.587}. Best is trial 98 with value: 0.9712806376299612.\n",
      "[I 2025-07-08 07:33:21,967] Trial 142 finished with value: 0.9712266565233486 and parameters: {'solver_penalty': ('newton-cholesky', 'l2'), 'C': 9.453414285624259, 'tol': 0.09829569089763315, 'fit_intercept': True, 'class_weight': 'balanced', 'threshold': 0.6719999999999999}. Best is trial 98 with value: 0.9712806376299612.\n",
      "[I 2025-07-08 07:33:22,763] Trial 145 finished with value: 0.9675017124136142 and parameters: {'solver_penalty': ('lbfgs', 'l2'), 'C': 9.200115819654435, 'tol': 0.03974500593649808, 'fit_intercept': False, 'class_weight': None, 'threshold': 0.597}. Best is trial 98 with value: 0.9712806376299612.\n",
      "[I 2025-07-08 07:33:22,937] Trial 143 finished with value: 0.971172675416736 and parameters: {'solver_penalty': ('newton-cholesky', 'l2'), 'C': 9.262655555194396, 'tol': 0.09958416322798316, 'fit_intercept': True, 'class_weight': 'balanced', 'threshold': 0.632}. Best is trial 98 with value: 0.9712806376299612.\n",
      "[I 2025-07-08 07:33:23,294] Trial 144 finished with value: 0.9692292098413503 and parameters: {'solver_penalty': ('lbfgs', 'l2'), 'C': 3.1562427822707777, 'tol': 0.09877679372904381, 'fit_intercept': True, 'class_weight': 'balanced', 'threshold': 0.6839999999999999}. Best is trial 98 with value: 0.9712806376299612.\n",
      "[I 2025-07-08 07:33:25,256] Trial 146 finished with value: 0.9692292098413503 and parameters: {'solver_penalty': ('lbfgs', None), 'C': 9.825913744141094, 'tol': 0.0748136865384093, 'fit_intercept': True, 'class_weight': 'balanced', 'threshold': 0.6699999999999999}. Best is trial 98 with value: 0.9712806376299612.\n",
      "[I 2025-07-08 07:33:26,080] Trial 147 finished with value: 0.971172675416736 and parameters: {'solver_penalty': ('newton-cholesky', None), 'C': 5.496970462247268, 'tol': 0.09655281694504182, 'fit_intercept': True, 'class_weight': 'balanced', 'threshold': 0.65}. Best is trial 98 with value: 0.9712806376299612.\n",
      "[I 2025-07-08 07:33:26,425] Trial 148 finished with value: 0.9711186943101232 and parameters: {'solver_penalty': ('newton-cholesky', None), 'C': 9.452998333971141, 'tol': 0.03515416132551846, 'fit_intercept': True, 'class_weight': 'balanced', 'threshold': 0.6990000000000001}. Best is trial 98 with value: 0.9712806376299612.\n",
      "[I 2025-07-08 07:33:26,633] Trial 149 finished with value: 0.971172675416736 and parameters: {'solver_penalty': ('newton-cholesky', None), 'C': 5.437715732630595, 'tol': 0.09508129743230473, 'fit_intercept': True, 'class_weight': 'balanced', 'threshold': 0.613}. Best is trial 98 with value: 0.9712806376299612.\n",
      "[I 2025-07-08 07:33:28,738] Trial 150 finished with value: 0.9711726754167358 and parameters: {'solver_penalty': ('newton-cholesky', None), 'C': 9.616860390558523, 'tol': 0.03736418960032641, 'fit_intercept': True, 'class_weight': 'balanced', 'threshold': 0.5880000000000001}. Best is trial 98 with value: 0.9712806376299612.\n",
      "[I 2025-07-08 07:33:29,257] Trial 153 finished with value: 0.9710646694823118 and parameters: {'solver_penalty': ('newton-cholesky', 'l2'), 'C': 9.299585956695957, 'tol': 0.09535875946262985, 'fit_intercept': True, 'class_weight': None, 'threshold': 0.638}. Best is trial 98 with value: 0.9712806376299612.\n",
      "[I 2025-07-08 07:33:29,574] Trial 152 finished with value: 0.9712266565233486 and parameters: {'solver_penalty': ('newton-cholesky', 'l2'), 'C': 9.637480778897721, 'tol': 0.0825715267772833, 'fit_intercept': True, 'class_weight': 'balanced', 'threshold': 0.6719999999999999}. Best is trial 98 with value: 0.9712806376299612.\n",
      "[I 2025-07-08 07:33:30,248] Trial 151 finished with value: 0.9692831909479629 and parameters: {'solver_penalty': ('newton-cg', 'l2'), 'C': 8.718203959322558, 'tol': 0.035066613419102055, 'fit_intercept': True, 'class_weight': 'balanced', 'threshold': 0.622}. Best is trial 98 with value: 0.9712806376299612.\n",
      "[I 2025-07-08 07:33:32,307] Trial 154 finished with value: 0.9712266565233486 and parameters: {'solver_penalty': ('newton-cholesky', 'l2'), 'C': 9.91891831905094, 'tol': 0.09631188329749509, 'fit_intercept': True, 'class_weight': 'balanced', 'threshold': 0.6799999999999999}. Best is trial 98 with value: 0.9712806376299612.\n",
      "[I 2025-07-08 07:33:32,336] Trial 156 finished with value: 0.9707407682689029 and parameters: {'solver_penalty': ('liblinear', 'l2'), 'C': 8.36458892719971, 'tol': 0.07485608847570495, 'fit_intercept': True, 'class_weight': 'balanced', 'threshold': 0.7}. Best is trial 98 with value: 0.9712806376299612.\n",
      "[I 2025-07-08 07:33:32,707] Trial 155 finished with value: 0.9712266419496156 and parameters: {'solver_penalty': ('newton-cholesky', 'l2'), 'C': 9.882072003202602, 'tol': 0.09390294434508357, 'fit_intercept': True, 'class_weight': 'balanced', 'threshold': 0.6839999999999999}. Best is trial 98 with value: 0.9712806376299612.\n",
      "[I 2025-07-08 07:33:33,523] Trial 157 finished with value: 0.9712266565233486 and parameters: {'solver_penalty': ('newton-cholesky', 'l2'), 'C': 7.983067368105005, 'tol': 0.08507190331203479, 'fit_intercept': True, 'class_weight': 'balanced', 'threshold': 0.661}. Best is trial 98 with value: 0.9712806376299612.\n",
      "[I 2025-07-08 07:33:34,816] Trial 158 finished with value: 0.9694991008006809 and parameters: {'solver_penalty': ('liblinear', 'l2'), 'C': 6.66875956084257, 'tol': 0.09497061556830558, 'fit_intercept': True, 'class_weight': 'balanced', 'threshold': 0.646}. Best is trial 98 with value: 0.9712806376299612.\n",
      "[I 2025-07-08 07:33:35,642] Trial 159 finished with value: 0.9712266565233486 and parameters: {'solver_penalty': ('newton-cholesky', 'l2'), 'C': 6.749581571043411, 'tol': 0.06921367855740411, 'fit_intercept': True, 'class_weight': 'balanced', 'threshold': 0.653}. Best is trial 98 with value: 0.9712806376299612.\n",
      "[I 2025-07-08 07:33:36,144] Trial 160 finished with value: 0.9712806376299612 and parameters: {'solver_penalty': ('newton-cholesky', None), 'C': 7.163460486979098, 'tol': 0.09953251112064083, 'fit_intercept': True, 'class_weight': 'balanced', 'threshold': 0.624}. Best is trial 98 with value: 0.9712806376299612.\n",
      "[I 2025-07-08 07:33:37,288] Trial 161 finished with value: 0.9693371720545759 and parameters: {'solver_penalty': ('newton-cg', None), 'C': 9.144300796692402, 'tol': 0.09873804115755973, 'fit_intercept': True, 'class_weight': 'balanced', 'threshold': 0.6599999999999999}. Best is trial 98 with value: 0.9712806376299612.\n",
      "[I 2025-07-08 07:33:38,711] Trial 162 finished with value: 0.9692292098413503 and parameters: {'solver_penalty': ('newton-cg', 'l2'), 'C': 8.736189767219766, 'tol': 0.097938657338268, 'fit_intercept': True, 'class_weight': 'balanced', 'threshold': 0.647}. Best is trial 98 with value: 0.9712806376299612.\n",
      "[I 2025-07-08 07:33:38,732] Trial 163 finished with value: 0.9711187088838562 and parameters: {'solver_penalty': ('newton-cholesky', 'l2'), 'C': 1.433813409013911, 'tol': 0.09453030914971162, 'fit_intercept': True, 'class_weight': None, 'threshold': 0.315}. Best is trial 98 with value: 0.9712806376299612.\n",
      "[I 2025-07-08 07:33:39,109] Trial 164 finished with value: 0.9701469323749647 and parameters: {'solver_penalty': ('newton-cg', None), 'C': 6.516469912568743, 'tol': 0.09894447966611487, 'fit_intercept': True, 'class_weight': None, 'threshold': 0.629}. Best is trial 98 with value: 0.9712806376299612.\n",
      "[I 2025-07-08 07:33:40,971] Trial 165 finished with value: 0.9711186943101232 and parameters: {'solver_penalty': ('newton-cholesky', None), 'C': 7.300156528260382, 'tol': 0.0882060401364072, 'fit_intercept': True, 'class_weight': 'balanced', 'threshold': 0.577}. Best is trial 98 with value: 0.9712806376299612.\n",
      "[I 2025-07-08 07:33:41,632] Trial 167 finished with value: 0.9692292098413503 and parameters: {'solver_penalty': ('liblinear', 'l2'), 'C': 9.61866737481057, 'tol': 0.08427568923470982, 'fit_intercept': True, 'class_weight': None, 'threshold': 0.365}. Best is trial 98 with value: 0.9712806376299612.\n",
      "[I 2025-07-08 07:33:42,132] Trial 166 finished with value: 0.9692292098413503 and parameters: {'solver_penalty': ('lbfgs', None), 'C': 4.3346398567882245, 'tol': 0.09130928213581792, 'fit_intercept': True, 'class_weight': 'balanced', 'threshold': 0.675}. Best is trial 98 with value: 0.9712806376299612.\n",
      "[I 2025-07-08 07:33:42,329] Trial 168 finished with value: 0.9692292098413503 and parameters: {'solver_penalty': ('lbfgs', None), 'C': 5.244917808317036, 'tol': 0.08772019438106887, 'fit_intercept': True, 'class_weight': 'balanced', 'threshold': 0.6910000000000001}. Best is trial 98 with value: 0.9712806376299612.\n",
      "[I 2025-07-08 07:33:44,683] Trial 169 finished with value: 0.9712266565233486 and parameters: {'solver_penalty': ('newton-cholesky', None), 'C': 9.690167877390458, 'tol': 0.06348720862425744, 'fit_intercept': True, 'class_weight': 'balanced', 'threshold': 0.64}. Best is trial 98 with value: 0.9712806376299612.\n",
      "[I 2025-07-08 07:33:44,882] Trial 171 finished with value: 0.2604729030584436 and parameters: {'solver_penalty': ('newton-cg', 'l2'), 'C': 7.579019269107464, 'tol': 0.07856142904469063, 'fit_intercept': False, 'class_weight': None, 'threshold': 0.44899999999999995}. Best is trial 98 with value: 0.9712806376299612.\n",
      "[I 2025-07-08 07:33:45,211] Trial 170 finished with value: 0.9712266565233486 and parameters: {'solver_penalty': ('newton-cholesky', None), 'C': 7.043537371155882, 'tol': 0.09503441797365865, 'fit_intercept': True, 'class_weight': 'balanced', 'threshold': 0.6890000000000001}. Best is trial 98 with value: 0.9712806376299612.\n",
      "[I 2025-07-08 07:33:45,580] Trial 172 finished with value: 0.9711186943101232 and parameters: {'solver_penalty': ('newton-cholesky', None), 'C': 6.82489793890692, 'tol': 0.08590661856508279, 'fit_intercept': True, 'class_weight': 'balanced', 'threshold': 0.6519999999999999}. Best is trial 98 with value: 0.9712806376299612.\n",
      "[I 2025-07-08 07:33:48,277] Trial 173 finished with value: 0.9689593480294855 and parameters: {'solver_penalty': ('newton-cg', None), 'C': 3.3138460105105367, 'tol': 0.03763113125844539, 'fit_intercept': False, 'class_weight': 'balanced', 'threshold': 0.644}. Best is trial 98 with value: 0.9712806376299612.\n",
      "[I 2025-07-08 07:33:48,281] Trial 174 finished with value: 0.971172675416736 and parameters: {'solver_penalty': ('newton-cholesky', 'l2'), 'C': 9.12930293564452, 'tol': 0.07699517389249524, 'fit_intercept': True, 'class_weight': 'balanced', 'threshold': 0.531}. Best is trial 98 with value: 0.9712806376299612.\n",
      "[I 2025-07-08 07:33:48,689] Trial 175 finished with value: 0.9689593334557527 and parameters: {'solver_penalty': ('lbfgs', 'l2'), 'C': 9.771934131564628, 'tol': 0.014662106977647658, 'fit_intercept': True, 'class_weight': 'balanced', 'threshold': 0.44}. Best is trial 98 with value: 0.9712806376299612.\n",
      "[I 2025-07-08 07:33:48,928] Trial 176 finished with value: 0.9710107320968978 and parameters: {'solver_penalty': ('newton-cholesky', 'l2'), 'C': 7.399208578342369, 'tol': 0.058215899677175824, 'fit_intercept': True, 'class_weight': 'balanced', 'threshold': 0.45199999999999996}. Best is trial 98 with value: 0.9712806376299612.\n",
      "[I 2025-07-08 07:33:51,025] Trial 177 finished with value: 0.9690132999886325 and parameters: {'solver_penalty': ('lbfgs', 'l2'), 'C': 5.502259182405094, 'tol': 0.03398320876054405, 'fit_intercept': True, 'class_weight': None, 'threshold': 0.354}. Best is trial 98 with value: 0.9712806376299612.\n",
      "[I 2025-07-08 07:33:51,993] Trial 179 finished with value: 0.971172660843003 and parameters: {'solver_penalty': ('newton-cholesky', 'l2'), 'C': 6.8417172463601155, 'tol': 0.09894246174838905, 'fit_intercept': True, 'class_weight': 'balanced', 'threshold': 0.69}. Best is trial 98 with value: 0.9712806376299612.\n",
      "[I 2025-07-08 07:33:52,172] Trial 178 finished with value: 0.9711186943101232 and parameters: {'solver_penalty': ('newton-cholesky', 'l2'), 'C': 7.789015480199067, 'tol': 0.09679155949882631, 'fit_intercept': True, 'class_weight': 'balanced', 'threshold': 0.498}. Best is trial 98 with value: 0.9712806376299612.\n",
      "[I 2025-07-08 07:33:52,529] Trial 180 finished with value: 0.9712266565233486 and parameters: {'solver_penalty': ('newton-cholesky', 'l2'), 'C': 9.669968840471137, 'tol': 0.09644624053152395, 'fit_intercept': True, 'class_weight': 'balanced', 'threshold': 0.5720000000000001}. Best is trial 98 with value: 0.9712806376299612.\n",
      "[I 2025-07-08 07:33:53,970] Trial 181 finished with value: 0.2604729030584436 and parameters: {'solver_penalty': ('lbfgs', None), 'C': 9.512879946824732, 'tol': 0.011242874824297831, 'fit_intercept': False, 'class_weight': None, 'threshold': 0.358}. Best is trial 98 with value: 0.9712806376299612.\n",
      "[I 2025-07-08 07:33:55,125] Trial 184 finished with value: 0.2604729030584436 and parameters: {'solver_penalty': ('liblinear', 'l1'), 'C': 3.07065776553974, 'tol': 0.08699992890526259, 'fit_intercept': False, 'class_weight': None, 'threshold': 0.423}. Best is trial 98 with value: 0.9712806376299612.\n",
      "[I 2025-07-08 07:33:55,604] Trial 182 finished with value: 0.9690133145623653 and parameters: {'solver_penalty': ('lbfgs', 'l2'), 'C': 6.3699303542543735, 'tol': 0.09680224719584968, 'fit_intercept': True, 'class_weight': 'balanced', 'threshold': 0.5509999999999999}. Best is trial 98 with value: 0.9712806376299612.\n",
      "[I 2025-07-08 07:33:55,818] Trial 183 finished with value: 0.9711726754167358 and parameters: {'solver_penalty': ('newton-cholesky', 'l2'), 'C': 9.88817037810813, 'tol': 0.08676303729302669, 'fit_intercept': True, 'class_weight': 'balanced', 'threshold': 0.565}. Best is trial 98 with value: 0.9712806376299612.\n",
      "[I 2025-07-08 07:33:57,273] Trial 185 finished with value: 0.971172675416736 and parameters: {'solver_penalty': ('newton-cholesky', 'l2'), 'C': 9.347895273154544, 'tol': 0.09949853965082343, 'fit_intercept': True, 'class_weight': 'balanced', 'threshold': 0.599}. Best is trial 98 with value: 0.9712806376299612.\n",
      "[I 2025-07-08 07:33:58,442] Trial 186 finished with value: 0.971172675416736 and parameters: {'solver_penalty': ('newton-cholesky', 'l2'), 'C': 7.6979758241621, 'tol': 0.09952140338566637, 'fit_intercept': True, 'class_weight': 'balanced', 'threshold': 0.607}. Best is trial 98 with value: 0.9712806376299612.\n",
      "[I 2025-07-08 07:33:58,970] Trial 187 finished with value: 0.971172675416736 and parameters: {'solver_penalty': ('newton-cholesky', 'l2'), 'C': 8.180468133949676, 'tol': 0.09827761580292278, 'fit_intercept': True, 'class_weight': 'balanced', 'threshold': 0.635}. Best is trial 98 with value: 0.9712806376299612.\n",
      "[I 2025-07-08 07:33:59,294] Trial 188 finished with value: 0.971172675416736 and parameters: {'solver_penalty': ('newton-cholesky', 'l2'), 'C': 9.62985043241094, 'tol': 0.09926074326696052, 'fit_intercept': True, 'class_weight': 'balanced', 'threshold': 0.629}. Best is trial 98 with value: 0.9712806376299612.\n",
      "[I 2025-07-08 07:34:01,037] Trial 189 finished with value: 0.9712266565233486 and parameters: {'solver_penalty': ('newton-cholesky', 'l2'), 'C': 8.773089653951354, 'tol': 0.09633431852766972, 'fit_intercept': True, 'class_weight': 'balanced', 'threshold': 0.6659999999999999}. Best is trial 98 with value: 0.9712806376299612.\n",
      "[I 2025-07-08 07:34:01,046] Trial 190 finished with value: 0.2604729030584436 and parameters: {'solver_penalty': ('lbfgs', None), 'C': 9.039733337872121, 'tol': 0.08495778516005995, 'fit_intercept': False, 'class_weight': None, 'threshold': 0.304}. Best is trial 98 with value: 0.9712806376299612.\n",
      "[I 2025-07-08 07:34:02,398] Trial 192 finished with value: 0.9707407974163687 and parameters: {'solver_penalty': ('liblinear', 'l2'), 'C': 0.36269908263486883, 'tol': 0.006149126487111085, 'fit_intercept': True, 'class_weight': 'balanced', 'threshold': 0.534}. Best is trial 98 with value: 0.9712806376299612.\n",
      "[I 2025-07-08 07:34:02,740] Trial 191 finished with value: 0.9712266565233486 and parameters: {'solver_penalty': ('newton-cholesky', 'l2'), 'C': 8.966752549546207, 'tol': 0.09896580723396246, 'fit_intercept': True, 'class_weight': 'balanced', 'threshold': 0.671}. Best is trial 98 with value: 0.9712806376299612.\n",
      "[I 2025-07-08 07:34:04,063] Trial 193 finished with value: 0.971172675416736 and parameters: {'solver_penalty': ('newton-cholesky', None), 'C': 8.371012134135759, 'tol': 0.09682955180135429, 'fit_intercept': True, 'class_weight': 'balanced', 'threshold': 0.612}. Best is trial 98 with value: 0.9712806376299612.\n",
      "[I 2025-07-08 07:34:04,376] Trial 194 finished with value: 0.971172660843003 and parameters: {'solver_penalty': ('newton-cholesky', 'l2'), 'C': 9.11728401403971, 'tol': 0.07312903313473142, 'fit_intercept': True, 'class_weight': 'balanced', 'threshold': 0.6930000000000001}. Best is trial 98 with value: 0.9712806376299612.\n",
      "[I 2025-07-08 07:34:06,024] Trial 195 finished with value: 0.9712806376299612 and parameters: {'solver_penalty': ('newton-cholesky', 'l2'), 'C': 8.887761351319813, 'tol': 0.07712462383469403, 'fit_intercept': True, 'class_weight': 'balanced', 'threshold': 0.681}. Best is trial 98 with value: 0.9712806376299612.\n",
      "[I 2025-07-08 07:34:06,040] Trial 196 finished with value: 0.971172675416736 and parameters: {'solver_penalty': ('newton-cholesky', 'l2'), 'C': 8.855309905796348, 'tol': 0.0706646965341762, 'fit_intercept': True, 'class_weight': 'balanced', 'threshold': 0.644}. Best is trial 98 with value: 0.9712806376299612.\n",
      "[I 2025-07-08 07:34:07,530] Trial 198 finished with value: 0.971172675416736 and parameters: {'solver_penalty': ('newton-cholesky', 'l2'), 'C': 8.987932269238044, 'tol': 0.07337503325956451, 'fit_intercept': True, 'class_weight': 'balanced', 'threshold': 0.645}. Best is trial 98 with value: 0.9712806376299612.\n",
      "[I 2025-07-08 07:34:07,541] Trial 197 finished with value: 0.971172675416736 and parameters: {'solver_penalty': ('newton-cholesky', 'l2'), 'C': 9.068362415965707, 'tol': 0.07438642357319532, 'fit_intercept': True, 'class_weight': 'balanced', 'threshold': 0.622}. Best is trial 98 with value: 0.9712806376299612.\n",
      "[I 2025-07-08 07:34:09,344] Trial 199 finished with value: 0.971172660843003 and parameters: {'solver_penalty': ('newton-cholesky', 'l2'), 'C': 9.430768649822186, 'tol': 0.07438083222929713, 'fit_intercept': True, 'class_weight': 'balanced', 'threshold': 0.698}. Best is trial 98 with value: 0.9712806376299612.\n",
      "[I 2025-07-08 07:34:09,862] Trial 200 finished with value: 0.9341388672711851 and parameters: {'solver_penalty': ('newton-cg', 'l2'), 'C': 1.5004394633808928, 'tol': 0.04334465035091874, 'fit_intercept': False, 'class_weight': 'balanced', 'threshold': 0.535}. Best is trial 98 with value: 0.9712806376299612.\n",
      "[I 2025-07-08 07:34:10,048] Trial 201 finished with value: 0.9703628568014155 and parameters: {'solver_penalty': ('lbfgs', 'l2'), 'C': 5.345240108001687, 'tol': 0.06146050545263369, 'fit_intercept': True, 'class_weight': None, 'threshold': 0.516}. Best is trial 98 with value: 0.9712806376299612.\n",
      "[I 2025-07-08 07:34:10,754] Trial 202 finished with value: 0.971172675416736 and parameters: {'solver_penalty': ('newton-cholesky', None), 'C': 5.596355385654097, 'tol': 0.09888320407105902, 'fit_intercept': True, 'class_weight': 'balanced', 'threshold': 0.665}. Best is trial 98 with value: 0.9712806376299612.\n",
      "[I 2025-07-08 07:34:12,589] Trial 203 finished with value: 0.9710647132035106 and parameters: {'solver_penalty': ('newton-cholesky', None), 'C': 9.802359789957187, 'tol': 0.08470925218304937, 'fit_intercept': True, 'class_weight': 'balanced', 'threshold': 0.585}. Best is trial 98 with value: 0.9712806376299612.\n",
      "[I 2025-07-08 07:34:13,269] Trial 204 finished with value: 0.971172660843003 and parameters: {'solver_penalty': ('newton-cholesky', 'l2'), 'C': 9.382339057336404, 'tol': 0.09137206588610221, 'fit_intercept': True, 'class_weight': 'balanced', 'threshold': 0.6990000000000001}. Best is trial 98 with value: 0.9712806376299612.\n",
      "[I 2025-07-08 07:34:13,795] Trial 205 finished with value: 0.9690133145623653 and parameters: {'solver_penalty': ('newton-cg', None), 'C': 0.17167277514391088, 'tol': 0.08206932906558577, 'fit_intercept': True, 'class_weight': 'balanced', 'threshold': 0.519}. Best is trial 98 with value: 0.9712806376299612.\n",
      "[I 2025-07-08 07:34:14,141] Trial 206 finished with value: 0.971172675416736 and parameters: {'solver_penalty': ('newton-cholesky', 'l2'), 'C': 9.807869218946584, 'tol': 0.07469621194248721, 'fit_intercept': True, 'class_weight': 'balanced', 'threshold': 0.657}. Best is trial 98 with value: 0.9712806376299612.\n",
      "[I 2025-07-08 07:34:15,744] Trial 207 finished with value: 0.971172660843003 and parameters: {'solver_penalty': ('newton-cholesky', 'l2'), 'C': 8.65126801866741, 'tol': 0.08922031569167632, 'fit_intercept': True, 'class_weight': 'balanced', 'threshold': 0.698}. Best is trial 98 with value: 0.9712806376299612.\n",
      "[I 2025-07-08 07:34:16,562] Trial 208 finished with value: 0.9712266565233486 and parameters: {'solver_penalty': ('newton-cholesky', 'l2'), 'C': 9.14049696632839, 'tol': 0.08080138190976696, 'fit_intercept': True, 'class_weight': 'balanced', 'threshold': 0.661}. Best is trial 98 with value: 0.9712806376299612.\n",
      "[I 2025-07-08 07:34:17,061] Trial 210 finished with value: 0.9694991008006809 and parameters: {'solver_penalty': ('liblinear', 'l1'), 'C': 9.952039183714511, 'tol': 0.06343585011045118, 'fit_intercept': True, 'class_weight': 'balanced', 'threshold': 0.629}. Best is trial 98 with value: 0.9712806376299612.\n",
      "[I 2025-07-08 07:34:17,406] Trial 209 finished with value: 0.9711186797363902 and parameters: {'solver_penalty': ('newton-cholesky', 'l2'), 'C': 7.431885041030068, 'tol': 0.0775624180073369, 'fit_intercept': True, 'class_weight': 'balanced', 'threshold': 0.696}. Best is trial 98 with value: 0.9712806376299612.\n",
      "[I 2025-07-08 07:34:19,355] Trial 211 finished with value: 0.9712266565233486 and parameters: {'solver_penalty': ('newton-cholesky', None), 'C': 5.420306117115988, 'tol': 0.07853666364106492, 'fit_intercept': True, 'class_weight': 'balanced', 'threshold': 0.696}. Best is trial 98 with value: 0.9712806376299612.\n",
      "[I 2025-07-08 07:34:20,167] Trial 212 finished with value: 0.971172675416736 and parameters: {'solver_penalty': ('newton-cholesky', None), 'C': 6.241280923401711, 'tol': 0.0953599297396163, 'fit_intercept': True, 'class_weight': 'balanced', 'threshold': 0.606}. Best is trial 98 with value: 0.9712806376299612.\n",
      "[I 2025-07-08 07:34:20,192] Trial 213 finished with value: 0.8651978238502054 and parameters: {'solver_penalty': ('newton-cholesky', None), 'C': 2.701289046661265, 'tol': 0.09679066884273563, 'fit_intercept': False, 'class_weight': None, 'threshold': 0.5569999999999999}. Best is trial 98 with value: 0.9712806376299612.\n",
      "[I 2025-07-08 07:34:20,726] Trial 214 finished with value: 0.971172660843003 and parameters: {'solver_penalty': ('newton-cholesky', 'l2'), 'C': 9.968475247323179, 'tol': 0.09325847992332731, 'fit_intercept': True, 'class_weight': 'balanced', 'threshold': 0.6930000000000001}. Best is trial 98 with value: 0.9712806376299612.\n",
      "[I 2025-07-08 07:34:22,141] Trial 215 finished with value: 0.9701469469486975 and parameters: {'solver_penalty': ('liblinear', 'l2'), 'C': 9.435013570074078, 'tol': 0.06564470599444072, 'fit_intercept': True, 'class_weight': None, 'threshold': 0.6639999999999999}. Best is trial 98 with value: 0.9712806376299612.\n",
      "[I 2025-07-08 07:34:22,977] Trial 216 finished with value: 0.9691752870296693 and parameters: {'solver_penalty': ('liblinear', 'l2'), 'C': 3.422912152283409, 'tol': 0.0635974433671394, 'fit_intercept': False, 'class_weight': 'balanced', 'threshold': 0.69}. Best is trial 98 with value: 0.9712806376299612.\n",
      "[I 2025-07-08 07:34:23,457] Trial 217 finished with value: 0.9690133291360983 and parameters: {'solver_penalty': ('lbfgs', None), 'C': 5.368239908123414, 'tol': 0.0910498491459456, 'fit_intercept': True, 'class_weight': 'balanced', 'threshold': 0.412}. Best is trial 98 with value: 0.9712806376299612.\n",
      "[I 2025-07-08 07:34:24,601] Trial 218 finished with value: 0.971172675416736 and parameters: {'solver_penalty': ('newton-cholesky', 'l2'), 'C': 9.723999291670772, 'tol': 0.09417870237800233, 'fit_intercept': True, 'class_weight': 'balanced', 'threshold': 0.651}. Best is trial 98 with value: 0.9712806376299612.\n",
      "[I 2025-07-08 07:34:25,887] Trial 220 finished with value: 0.9688513858162603 and parameters: {'solver_penalty': ('lbfgs', 'l2'), 'C': 7.265423770370857, 'tol': 0.08553467865297347, 'fit_intercept': True, 'class_weight': None, 'threshold': 0.635}. Best is trial 98 with value: 0.9712806376299612.\n",
      "[I 2025-07-08 07:34:25,895] Trial 219 finished with value: 0.971172660843003 and parameters: {'solver_penalty': ('newton-cholesky', 'l2'), 'C': 9.419362475097492, 'tol': 0.09561634847546187, 'fit_intercept': True, 'class_weight': 'balanced', 'threshold': 0.696}. Best is trial 98 with value: 0.9712806376299612.\n",
      "[I 2025-07-08 07:34:26,603] Trial 221 finished with value: 0.9692292098413503 and parameters: {'solver_penalty': ('lbfgs', 'l2'), 'C': 8.960548963160205, 'tol': 0.07312225761651334, 'fit_intercept': True, 'class_weight': 'balanced', 'threshold': 0.677}. Best is trial 98 with value: 0.9712806376299612.\n",
      "[I 2025-07-08 07:34:27,731] Trial 222 finished with value: 0.9710647277772434 and parameters: {'solver_penalty': ('newton-cholesky', None), 'C': 8.629680249334424, 'tol': 0.06060889512419635, 'fit_intercept': True, 'class_weight': None, 'threshold': 0.307}. Best is trial 98 with value: 0.9712806376299612.\n",
      "[I 2025-07-08 07:34:29,212] Trial 224 finished with value: 0.5454574111803849 and parameters: {'solver_penalty': ('newton-cholesky', None), 'C': 6.224960687339129, 'tol': 0.03891335441912799, 'fit_intercept': False, 'class_weight': 'balanced', 'threshold': 0.407}. Best is trial 98 with value: 0.9712806376299612.\n",
      "[I 2025-07-08 07:34:29,552] Trial 225 finished with value: 0.9692292681362819 and parameters: {'solver_penalty': ('lbfgs', 'l2'), 'C': 5.255980971929678, 'tol': 0.019268963218971247, 'fit_intercept': False, 'class_weight': 'balanced', 'threshold': 0.65}. Best is trial 98 with value: 0.9712806376299612.\n",
      "[I 2025-07-08 07:34:29,726] Trial 223 finished with value: 0.9690133145623653 and parameters: {'solver_penalty': ('newton-cg', 'l2'), 'C': 6.701180604972944, 'tol': 0.08535166686382989, 'fit_intercept': True, 'class_weight': 'balanced', 'threshold': 0.528}. Best is trial 98 with value: 0.9712806376299612.\n",
      "[I 2025-07-08 07:34:31,364] Trial 226 finished with value: 0.9712266565233486 and parameters: {'solver_penalty': ('newton-cholesky', 'l2'), 'C': 7.4020399219884645, 'tol': 0.08816326714868952, 'fit_intercept': True, 'class_weight': 'balanced', 'threshold': 0.648}. Best is trial 98 with value: 0.9712806376299612.\n",
      "[I 2025-07-08 07:34:32,508] Trial 227 finished with value: 0.971172675416736 and parameters: {'solver_penalty': ('newton-cholesky', None), 'C': 9.907130203532049, 'tol': 0.0773317740537166, 'fit_intercept': True, 'class_weight': 'balanced', 'threshold': 0.671}. Best is trial 98 with value: 0.9712806376299612.\n",
      "[I 2025-07-08 07:34:32,838] Trial 229 finished with value: 0.9692292098413503 and parameters: {'solver_penalty': ('lbfgs', None), 'C': 9.168311714677536, 'tol': 0.09286419652629535, 'fit_intercept': True, 'class_weight': 'balanced', 'threshold': 0.696}. Best is trial 98 with value: 0.9712806376299612.\n",
      "[I 2025-07-08 07:34:33,022] Trial 228 finished with value: 0.9712266565233486 and parameters: {'solver_penalty': ('newton-cholesky', 'l2'), 'C': 7.026726421843096, 'tol': 0.08120615694624332, 'fit_intercept': True, 'class_weight': 'balanced', 'threshold': 0.651}. Best is trial 98 with value: 0.9712806376299612.\n",
      "[I 2025-07-08 07:34:34,306] Trial 230 finished with value: 0.2604729030584436 and parameters: {'solver_penalty': ('newton-cg', None), 'C': 4.62890084022183, 'tol': 0.05512113563061701, 'fit_intercept': False, 'class_weight': None, 'threshold': 0.392}. Best is trial 98 with value: 0.9712806376299612.\n",
      "[I 2025-07-08 07:34:35,271] Trial 231 finished with value: 0.2604729030584436 and parameters: {'solver_penalty': ('liblinear', 'l2'), 'C': 8.342222846886838, 'tol': 0.0537040931603634, 'fit_intercept': False, 'class_weight': None, 'threshold': 0.41}. Best is trial 98 with value: 0.9712806376299612.\n",
      "[I 2025-07-08 07:34:35,935] Trial 233 finished with value: 0.7889189350681904 and parameters: {'solver_penalty': ('newton-cholesky', 'l2'), 'C': 2.3544508547487797, 'tol': 0.0726465375958971, 'fit_intercept': False, 'class_weight': None, 'threshold': 0.504}. Best is trial 98 with value: 0.9712806376299612.\n",
      "[I 2025-07-08 07:34:36,250] Trial 232 finished with value: 0.9646945345586928 and parameters: {'solver_penalty': ('newton-cg', None), 'C': 7.095341585912619, 'tol': 0.007664317585218197, 'fit_intercept': False, 'class_weight': None, 'threshold': 0.552}. Best is trial 98 with value: 0.9712806376299612.\n",
      "[I 2025-07-08 07:34:38,176] Trial 234 finished with value: 0.9712266565233486 and parameters: {'solver_penalty': ('newton-cholesky', None), 'C': 7.92668417883102, 'tol': 0.09866710520499355, 'fit_intercept': True, 'class_weight': 'balanced', 'threshold': 0.621}. Best is trial 98 with value: 0.9712806376299612.\n",
      "[I 2025-07-08 07:34:38,686] Trial 237 finished with value: 0.9688513712425273 and parameters: {'solver_penalty': ('lbfgs', 'l2'), 'C': 0.997189201385762, 'tol': 0.03723497526782068, 'fit_intercept': False, 'class_weight': None, 'threshold': 0.69}. Best is trial 98 with value: 0.9712806376299612.\n",
      "[I 2025-07-08 07:34:38,880] Trial 235 finished with value: 0.9712266565233486 and parameters: {'solver_penalty': ('newton-cholesky', 'l2'), 'C': 6.411208350594498, 'tol': 0.07229425416810559, 'fit_intercept': True, 'class_weight': 'balanced', 'threshold': 0.606}. Best is trial 98 with value: 0.9712806376299612.\n",
      "[I 2025-07-08 07:34:39,568] Trial 236 finished with value: 0.971172675416736 and parameters: {'solver_penalty': ('newton-cholesky', None), 'C': 7.269784292693717, 'tol': 0.09970626762577708, 'fit_intercept': True, 'class_weight': 'balanced', 'threshold': 0.613}. Best is trial 98 with value: 0.9712806376299612.\n",
      "[I 2025-07-08 07:34:41,485] Trial 239 finished with value: 0.2604729030584436 and parameters: {'solver_penalty': ('liblinear', 'l2'), 'C': 7.716247475366163, 'tol': 0.02316509096472631, 'fit_intercept': False, 'class_weight': 'balanced', 'threshold': 0.33599999999999997}. Best is trial 98 with value: 0.9712806376299612.\n",
      "[I 2025-07-08 07:34:41,828] Trial 238 finished with value: 0.9711186797363902 and parameters: {'solver_penalty': ('newton-cholesky', 'l2'), 'C': 7.423542090185691, 'tol': 0.06092001384461582, 'fit_intercept': True, 'class_weight': 'balanced', 'threshold': 0.694}. Best is trial 98 with value: 0.9712806376299612.\n",
      "[I 2025-07-08 07:34:42,177] Trial 240 finished with value: 0.9712266565233486 and parameters: {'solver_penalty': ('newton-cholesky', 'l2'), 'C': 6.566015577641832, 'tol': 0.07188103874935409, 'fit_intercept': True, 'class_weight': 'balanced', 'threshold': 0.6619999999999999}. Best is trial 98 with value: 0.9712806376299612.\n",
      "[I 2025-07-08 07:34:43,220] Trial 241 finished with value: 0.971172675416736 and parameters: {'solver_penalty': ('newton-cholesky', 'l2'), 'C': 6.928352993855906, 'tol': 0.042792423396161655, 'fit_intercept': True, 'class_weight': 'balanced', 'threshold': 0.669}. Best is trial 98 with value: 0.9712806376299612.\n",
      "[I 2025-07-08 07:34:44,843] Trial 243 finished with value: 0.9712266565233486 and parameters: {'solver_penalty': ('newton-cholesky', 'l2'), 'C': 5.2859123389963765, 'tol': 0.05837562314438207, 'fit_intercept': True, 'class_weight': 'balanced', 'threshold': 0.65}. Best is trial 98 with value: 0.9712806376299612.\n",
      "[I 2025-07-08 07:34:45,363] Trial 242 finished with value: 0.9693371574808429 and parameters: {'solver_penalty': ('newton-cg', 'l2'), 'C': 4.469782473064822, 'tol': 0.0796098059468242, 'fit_intercept': True, 'class_weight': 'balanced', 'threshold': 0.6799999999999999}. Best is trial 98 with value: 0.9712806376299612.\n",
      "[I 2025-07-08 07:34:45,867] Trial 244 finished with value: 0.9693911531611885 and parameters: {'solver_penalty': ('newton-cg', None), 'C': 8.111680464898239, 'tol': 0.04404434913283159, 'fit_intercept': True, 'class_weight': 'balanced', 'threshold': 0.6759999999999999}. Best is trial 98 with value: 0.9712806376299612.\n",
      "[I 2025-07-08 07:34:46,048] Trial 245 finished with value: 0.9705248146949863 and parameters: {'solver_penalty': ('newton-cg', 'l2'), 'C': 8.793588420241562, 'tol': 0.0843511336032229, 'fit_intercept': True, 'class_weight': None, 'threshold': 0.657}. Best is trial 98 with value: 0.9712806376299612.\n",
      "[I 2025-07-08 07:34:47,998] Trial 246 finished with value: 0.971172675416736 and parameters: {'solver_penalty': ('newton-cholesky', None), 'C': 8.195347106780968, 'tol': 0.07379567736667095, 'fit_intercept': True, 'class_weight': 'balanced', 'threshold': 0.602}. Best is trial 98 with value: 0.9712806376299612.\n",
      "[I 2025-07-08 07:34:48,681] Trial 247 finished with value: 0.2604729030584436 and parameters: {'solver_penalty': ('newton-cg', 'l2'), 'C': 3.065207790206283, 'tol': 0.0772114719498364, 'fit_intercept': False, 'class_weight': 'balanced', 'threshold': 0.33999999999999997}. Best is trial 98 with value: 0.9712806376299612.\n",
      "[I 2025-07-08 07:34:49,184] Trial 248 finished with value: 0.9712806376299612 and parameters: {'solver_penalty': ('newton-cholesky', None), 'C': 9.35328393123854, 'tol': 0.04594105377935207, 'fit_intercept': True, 'class_weight': 'balanced', 'threshold': 0.635}. Best is trial 98 with value: 0.9712806376299612.\n",
      "[I 2025-07-08 07:34:49,506] Trial 249 finished with value: 0.9712806376299612 and parameters: {'solver_penalty': ('newton-cholesky', 'l2'), 'C': 7.839554089576694, 'tol': 0.09185224563566409, 'fit_intercept': True, 'class_weight': 'balanced', 'threshold': 0.6779999999999999}. Best is trial 98 with value: 0.9712806376299612.\n",
      "[I 2025-07-08 07:34:50,953] Trial 250 finished with value: 0.9692292098413503 and parameters: {'solver_penalty': ('liblinear', 'l2'), 'C': 8.587817883000005, 'tol': 0.08383824541038919, 'fit_intercept': True, 'class_weight': 'balanced', 'threshold': 0.563}. Best is trial 98 with value: 0.9712806376299612.\n",
      "[I 2025-07-08 07:34:52,247] Trial 253 finished with value: 0.9675016978398814 and parameters: {'solver_penalty': ('lbfgs', None), 'C': 9.599460796362413, 'tol': 0.09413213356683417, 'fit_intercept': True, 'class_weight': None, 'threshold': 0.6679999999999999}. Best is trial 98 with value: 0.9712806376299612.\n",
      "[I 2025-07-08 07:34:52,436] Trial 252 finished with value: 0.9694991153744137 and parameters: {'solver_penalty': ('newton-cg', 'l2'), 'C': 3.2542066611390155, 'tol': 0.08237627664999791, 'fit_intercept': True, 'class_weight': None, 'threshold': 0.52}. Best is trial 98 with value: 0.9712806376299612.\n",
      "[I 2025-07-08 07:34:52,619] Trial 251 finished with value: 0.9710107320968978 and parameters: {'solver_penalty': ('newton-cholesky', None), 'C': 9.712658361524362, 'tol': 0.06343423070696515, 'fit_intercept': True, 'class_weight': 'balanced', 'threshold': 0.536}. Best is trial 98 with value: 0.9712806376299612.\n",
      "[I 2025-07-08 07:34:54,986] Trial 254 finished with value: 0.9711186943101232 and parameters: {'solver_penalty': ('newton-cholesky', None), 'C': 8.660568459610076, 'tol': 0.040608707249167014, 'fit_intercept': True, 'class_weight': 'balanced', 'threshold': 0.626}. Best is trial 98 with value: 0.9712806376299612.\n",
      "[I 2025-07-08 07:34:55,519] Trial 255 finished with value: 0.9712806376299612 and parameters: {'solver_penalty': ('newton-cholesky', None), 'C': 9.377398678630584, 'tol': 0.04752734906318451, 'fit_intercept': True, 'class_weight': 'balanced', 'threshold': 0.632}. Best is trial 98 with value: 0.9712806376299612.\n",
      "[I 2025-07-08 07:34:55,699] Trial 257 finished with value: 0.9692832055216959 and parameters: {'solver_penalty': ('lbfgs', None), 'C': 8.790599262413162, 'tol': 0.04309946527543772, 'fit_intercept': True, 'class_weight': 'balanced', 'threshold': 0.63}. Best is trial 98 with value: 0.9712806376299612.\n",
      "[I 2025-07-08 07:34:55,874] Trial 256 finished with value: 0.9711186797363902 and parameters: {'solver_penalty': ('newton-cholesky', 'l2'), 'C': 7.71236845847404, 'tol': 0.09389877170095154, 'fit_intercept': True, 'class_weight': 'balanced', 'threshold': 0.6970000000000001}. Best is trial 98 with value: 0.9712806376299612.\n",
      "[I 2025-07-08 07:34:58,628] Trial 258 finished with value: 0.9702548945881899 and parameters: {'solver_penalty': ('newton-cg', 'l2'), 'C': 1.4296276694410084, 'tol': 0.024052361051506675, 'fit_intercept': True, 'class_weight': None, 'threshold': 0.685}. Best is trial 98 with value: 0.9712806376299612.\n",
      "[I 2025-07-08 07:34:58,991] Trial 260 finished with value: 0.9712806376299612 and parameters: {'solver_penalty': ('newton-cholesky', None), 'C': 7.985281452676002, 'tol': 0.05358088015793128, 'fit_intercept': True, 'class_weight': 'balanced', 'threshold': 0.624}. Best is trial 98 with value: 0.9712806376299612.\n",
      "[I 2025-07-08 07:34:59,157] Trial 261 finished with value: 0.9712266565233486 and parameters: {'solver_penalty': ('newton-cholesky', None), 'C': 9.360427732189738, 'tol': 0.05320003121035905, 'fit_intercept': True, 'class_weight': 'balanced', 'threshold': 0.642}. Best is trial 98 with value: 0.9712806376299612.\n",
      "[I 2025-07-08 07:34:59,178] Trial 259 finished with value: 0.971172675416736 and parameters: {'solver_penalty': ('newton-cholesky', None), 'C': 9.268531935311136, 'tol': 0.050651217218499106, 'fit_intercept': True, 'class_weight': 'balanced', 'threshold': 0.605}. Best is trial 98 with value: 0.9712806376299612.\n",
      "[I 2025-07-08 07:35:01,504] Trial 263 finished with value: 0.971010702949432 and parameters: {'solver_penalty': ('newton-cholesky', 'l2'), 'C': 9.565816233820284, 'tol': 0.09878826788064822, 'fit_intercept': True, 'class_weight': None, 'threshold': 0.515}. Best is trial 98 with value: 0.9712806376299612.\n",
      "[I 2025-07-08 07:35:02,195] Trial 264 finished with value: 0.9710647132035106 and parameters: {'solver_penalty': ('newton-cholesky', None), 'C': 7.418097284082569, 'tol': 0.04033843029608514, 'fit_intercept': True, 'class_weight': 'balanced', 'threshold': 0.595}. Best is trial 98 with value: 0.9712806376299612.\n",
      "[I 2025-07-08 07:35:02,664] Trial 262 finished with value: 0.9689593334557527 and parameters: {'solver_penalty': ('newton-cg', 'l2'), 'C': 5.610350256213714, 'tol': 0.012193295750921235, 'fit_intercept': True, 'class_weight': 'balanced', 'threshold': 0.408}. Best is trial 98 with value: 0.9712806376299612.\n",
      "[I 2025-07-08 07:35:02,665] Trial 265 finished with value: 0.9711186943101232 and parameters: {'solver_penalty': ('newton-cholesky', None), 'C': 5.796211570174348, 'tol': 0.03951190958427854, 'fit_intercept': True, 'class_weight': 'balanced', 'threshold': 0.604}. Best is trial 98 with value: 0.9712806376299612.\n",
      "[I 2025-07-08 07:35:04,744] Trial 266 finished with value: 0.971172675416736 and parameters: {'solver_penalty': ('newton-cholesky', None), 'C': 7.480286975561215, 'tol': 0.06097749118478988, 'fit_intercept': True, 'class_weight': 'balanced', 'threshold': 0.6639999999999999}. Best is trial 98 with value: 0.9712806376299612.\n",
      "[I 2025-07-08 07:35:05,456] Trial 267 finished with value: 0.9690672810952453 and parameters: {'solver_penalty': ('lbfgs', 'l2'), 'C': 6.795626251138516, 'tol': 0.042613986073262555, 'fit_intercept': True, 'class_weight': 'balanced', 'threshold': 0.556}. Best is trial 98 with value: 0.9712806376299612.\n",
      "[I 2025-07-08 07:35:05,937] Trial 269 finished with value: 0.971172675416736 and parameters: {'solver_penalty': ('newton-cholesky', None), 'C': 7.412685074369822, 'tol': 0.047960188755044215, 'fit_intercept': True, 'class_weight': 'balanced', 'threshold': 0.671}. Best is trial 98 with value: 0.9712806376299612.\n",
      "[I 2025-07-08 07:35:06,310] Trial 268 finished with value: 0.9692292244150833 and parameters: {'solver_penalty': ('newton-cg', None), 'C': 7.647706197710306, 'tol': 0.07110075685671066, 'fit_intercept': True, 'class_weight': 'balanced', 'threshold': 0.6}. Best is trial 98 with value: 0.9712806376299612.\n",
      "[I 2025-07-08 07:35:08,535] Trial 270 finished with value: 0.9711186943101232 and parameters: {'solver_penalty': ('newton-cholesky', None), 'C': 5.310803699692091, 'tol': 0.09718447398108628, 'fit_intercept': True, 'class_weight': 'balanced', 'threshold': 0.657}. Best is trial 98 with value: 0.9712806376299612.\n",
      "[I 2025-07-08 07:35:08,893] Trial 272 finished with value: 0.9710107320968978 and parameters: {'solver_penalty': ('newton-cholesky', 'l2'), 'C': 4.480668165115328, 'tol': 0.056116817509842536, 'fit_intercept': True, 'class_weight': None, 'threshold': 0.361}. Best is trial 98 with value: 0.9712806376299612.\n",
      "[I 2025-07-08 07:35:09,074] Trial 271 finished with value: 0.971172675416736 and parameters: {'solver_penalty': ('newton-cholesky', None), 'C': 5.0716212439843655, 'tol': 0.09884100098878582, 'fit_intercept': True, 'class_weight': 'balanced', 'threshold': 0.6659999999999999}. Best is trial 98 with value: 0.9712806376299612.\n",
      "[I 2025-07-08 07:35:09,422] Trial 273 finished with value: 0.9694991153744137 and parameters: {'solver_penalty': ('liblinear', 'l1'), 'C': 6.230091038253868, 'tol': 0.06808508078909242, 'fit_intercept': True, 'class_weight': 'balanced', 'threshold': 0.6579999999999999}. Best is trial 98 with value: 0.9712806376299612.\n",
      "[I 2025-07-08 07:35:11,196] Trial 274 finished with value: 0.9691752724559363 and parameters: {'solver_penalty': ('liblinear', 'l2'), 'C': 8.658701147834249, 'tol': 0.09640595484349118, 'fit_intercept': False, 'class_weight': 'balanced', 'threshold': 0.6799999999999999}. Best is trial 98 with value: 0.9712806376299612.\n",
      "[I 2025-07-08 07:35:12,021] Trial 275 finished with value: 0.9692831763742301 and parameters: {'solver_penalty': ('liblinear', 'l1'), 'C': 9.783085942387137, 'tol': 0.09927740452717417, 'fit_intercept': True, 'class_weight': 'balanced', 'threshold': 0.5800000000000001}. Best is trial 98 with value: 0.9712806376299612.\n",
      "[I 2025-07-08 07:35:12,187] Trial 276 finished with value: 0.9688513712425273 and parameters: {'solver_penalty': ('lbfgs', None), 'C': 9.754790033531135, 'tol': 0.06622975475995455, 'fit_intercept': False, 'class_weight': 'balanced', 'threshold': 0.694}. Best is trial 98 with value: 0.9712806376299612.\n",
      "[I 2025-07-08 07:35:12,898] Trial 277 finished with value: 0.9709027407362066 and parameters: {'solver_penalty': ('newton-cholesky', None), 'C': 5.649672720902774, 'tol': 0.03296013601289056, 'fit_intercept': True, 'class_weight': None, 'threshold': 0.6679999999999999}. Best is trial 98 with value: 0.9712806376299612.\n",
      "[I 2025-07-08 07:35:14,703] Trial 278 finished with value: 0.971172675416736 and parameters: {'solver_penalty': ('newton-cholesky', 'l2'), 'C': 8.669820111116268, 'tol': 0.0996297609157145, 'fit_intercept': True, 'class_weight': 'balanced', 'threshold': 0.629}. Best is trial 98 with value: 0.9712806376299612.\n",
      "[I 2025-07-08 07:35:15,544] Trial 279 finished with value: 0.9712266565233486 and parameters: {'solver_penalty': ('newton-cholesky', 'l2'), 'C': 7.723828310214433, 'tol': 0.09103393286871142, 'fit_intercept': True, 'class_weight': 'balanced', 'threshold': 0.6}. Best is trial 98 with value: 0.9712806376299612.\n",
      "[I 2025-07-08 07:35:15,692] Trial 280 finished with value: 0.971172675416736 and parameters: {'solver_penalty': ('newton-cholesky', 'l2'), 'C': 9.296258440945726, 'tol': 0.08642878325140585, 'fit_intercept': True, 'class_weight': 'balanced', 'threshold': 0.629}. Best is trial 98 with value: 0.9712806376299612.\n",
      "[I 2025-07-08 07:35:16,393] Trial 281 finished with value: 0.971172675416736 and parameters: {'solver_penalty': ('newton-cholesky', 'l2'), 'C': 8.545061071839358, 'tol': 0.08265879118049577, 'fit_intercept': True, 'class_weight': 'balanced', 'threshold': 0.625}. Best is trial 98 with value: 0.9712806376299612.\n",
      "[I 2025-07-08 07:35:17,202] Trial 282 finished with value: 0.965828152371292 and parameters: {'solver_penalty': ('lbfgs', 'l2'), 'C': 0.11832717467373755, 'tol': 0.09895288876860546, 'fit_intercept': False, 'class_weight': None, 'threshold': 0.5720000000000001}. Best is trial 98 with value: 0.9712806376299612.\n",
      "[I 2025-07-08 07:35:18,803] Trial 284 finished with value: 0.9432071248065336 and parameters: {'solver_penalty': ('liblinear', 'l2'), 'C': 7.567014874947616, 'tol': 0.02177493480697568, 'fit_intercept': False, 'class_weight': None, 'threshold': 0.673}. Best is trial 98 with value: 0.9712806376299612.\n",
      "[I 2025-07-08 07:35:19,168] Trial 283 finished with value: 0.971172675416736 and parameters: {'solver_penalty': ('newton-cholesky', 'l2'), 'C': 9.861603275787562, 'tol': 0.08538457051935432, 'fit_intercept': True, 'class_weight': 'balanced', 'threshold': 0.622}. Best is trial 98 with value: 0.9712806376299612.\n",
      "[I 2025-07-08 07:35:19,852] Trial 286 finished with value: 0.9691212622018579 and parameters: {'solver_penalty': ('newton-cg', None), 'C': 6.815968857207522, 'tol': 0.07024166057289988, 'fit_intercept': False, 'class_weight': None, 'threshold': 0.6699999999999999}. Best is trial 98 with value: 0.9712806376299612.\n",
      "[I 2025-07-08 07:35:20,685] Trial 285 finished with value: 0.9692831909479629 and parameters: {'solver_penalty': ('newton-cg', 'l2'), 'C': 7.2301794436818, 'tol': 0.054947399282025314, 'fit_intercept': True, 'class_weight': 'balanced', 'threshold': 0.65}. Best is trial 98 with value: 0.9712806376299612.\n",
      "[I 2025-07-08 07:35:21,855] Trial 287 finished with value: 0.9698770851368328 and parameters: {'solver_penalty': ('newton-cholesky', 'l2'), 'C': 0.09033845181965727, 'tol': 0.06234853820990326, 'fit_intercept': True, 'class_weight': 'balanced', 'threshold': 0.45699999999999996}. Best is trial 98 with value: 0.9712806376299612.\n",
      "[I 2025-07-08 07:35:22,842] Trial 288 finished with value: 0.9690133145623653 and parameters: {'solver_penalty': ('newton-cg', 'l2'), 'C': 9.75419132213047, 'tol': 0.07097522594043618, 'fit_intercept': True, 'class_weight': 'balanced', 'threshold': 0.531}. Best is trial 98 with value: 0.9712806376299612.\n",
      "[I 2025-07-08 07:35:23,187] Trial 289 finished with value: 0.9712806376299612 and parameters: {'solver_penalty': ('newton-cholesky', None), 'C': 9.85584802907464, 'tol': 0.05105260153932075, 'fit_intercept': True, 'class_weight': 'balanced', 'threshold': 0.627}. Best is trial 98 with value: 0.9712806376299612.\n",
      "[I 2025-07-08 07:35:23,871] Trial 290 finished with value: 0.9712266565233486 and parameters: {'solver_penalty': ('newton-cholesky', 'l2'), 'C': 1.4941452444662993, 'tol': 0.048080852844149286, 'fit_intercept': True, 'class_weight': 'balanced', 'threshold': 0.5569999999999999}. Best is trial 98 with value: 0.9712806376299612.\n",
      "[I 2025-07-08 07:35:25,502] Trial 291 finished with value: 0.9711186943101232 and parameters: {'solver_penalty': ('newton-cholesky', None), 'C': 9.965074668540845, 'tol': 0.044120941778280263, 'fit_intercept': True, 'class_weight': 'balanced', 'threshold': 0.6539999999999999}. Best is trial 98 with value: 0.9712806376299612.\n",
      "[I 2025-07-08 07:35:26,162] Trial 293 finished with value: 0.9689593334557527 and parameters: {'solver_penalty': ('liblinear', 'l1'), 'C': 3.6639393536936646, 'tol': 0.0657838927410399, 'fit_intercept': True, 'class_weight': 'balanced', 'threshold': 0.371}. Best is trial 98 with value: 0.9712806376299612.\n",
      "[I 2025-07-08 07:35:26,331] Trial 292 finished with value: 0.9712266565233486 and parameters: {'solver_penalty': ('newton-cholesky', 'l2'), 'C': 7.5604009075194405, 'tol': 0.09324090214350952, 'fit_intercept': True, 'class_weight': 'balanced', 'threshold': 0.6599999999999999}. Best is trial 98 with value: 0.9712806376299612.\n",
      "[I 2025-07-08 07:35:27,345] Trial 294 finished with value: 0.9711186943101232 and parameters: {'solver_penalty': ('newton-cholesky', None), 'C': 8.792618632954118, 'tol': 0.053463310712141554, 'fit_intercept': True, 'class_weight': 'balanced', 'threshold': 0.596}. Best is trial 98 with value: 0.9712806376299612.\n",
      "[I 2025-07-08 07:35:28,974] Trial 295 finished with value: 0.971172675416736 and parameters: {'solver_penalty': ('newton-cholesky', None), 'C': 6.590452016194351, 'tol': 0.09953065866675088, 'fit_intercept': True, 'class_weight': 'balanced', 'threshold': 0.675}. Best is trial 98 with value: 0.9712806376299612.\n",
      "[I 2025-07-08 07:35:29,000] Trial 296 finished with value: 0.9681495148404322 and parameters: {'solver_penalty': ('lbfgs', 'l2'), 'C': 9.137203938387474, 'tol': 0.09578365019534112, 'fit_intercept': False, 'class_weight': 'balanced', 'threshold': 0.606}. Best is trial 98 with value: 0.9712806376299612.\n",
      "[I 2025-07-08 07:35:29,668] Trial 297 finished with value: 0.31240584639868485 and parameters: {'solver_penalty': ('newton-cholesky', 'l2'), 'C': 5.135037706934433, 'tol': 0.07201865950916372, 'fit_intercept': False, 'class_weight': 'balanced', 'threshold': 0.372}. Best is trial 98 with value: 0.9712806376299612.\n",
      "[I 2025-07-08 07:35:30,527] Trial 298 finished with value: 0.971172675416736 and parameters: {'solver_penalty': ('newton-cholesky', None), 'C': 9.807618089826784, 'tol': 0.05488414493602488, 'fit_intercept': True, 'class_weight': 'balanced', 'threshold': 0.6839999999999999}. Best is trial 98 with value: 0.9712806376299612.\n",
      "[I 2025-07-08 07:35:32,459] Trial 301 finished with value: 0.9692831909479629 and parameters: {'solver_penalty': ('lbfgs', 'l2'), 'C': 7.158673799299399, 'tol': 0.09223269071735322, 'fit_intercept': True, 'class_weight': 'balanced', 'threshold': 0.7}. Best is trial 98 with value: 0.9712806376299612.\n",
      "[I 2025-07-08 07:35:32,842] Trial 300 finished with value: 0.9627504277390603 and parameters: {'solver_penalty': ('newton-cholesky', 'l2'), 'C': 1.811100239037482, 'tol': 0.00341467524896754, 'fit_intercept': False, 'class_weight': 'balanced', 'threshold': 0.645}. Best is trial 98 with value: 0.9712806376299612.\n",
      "[I 2025-07-08 07:35:33,035] Trial 299 finished with value: 0.9692292244150833 and parameters: {'solver_penalty': ('newton-cg', None), 'C': 9.245950526751924, 'tol': 0.029682184005943118, 'fit_intercept': True, 'class_weight': 'balanced', 'threshold': 0.5640000000000001}. Best is trial 98 with value: 0.9712806376299612.\n",
      "[I 2025-07-08 07:35:33,873] Trial 302 finished with value: 0.9712806376299612 and parameters: {'solver_penalty': ('newton-cholesky', None), 'C': 7.958153004488601, 'tol': 0.07896455534058101, 'fit_intercept': True, 'class_weight': 'balanced', 'threshold': 0.627}. Best is trial 98 with value: 0.9712806376299612.\n",
      "[I 2025-07-08 07:35:35,473] Trial 304 finished with value: 0.9695531110547593 and parameters: {'solver_penalty': ('liblinear', 'l2'), 'C': 9.679626399771132, 'tol': 0.08213145862799476, 'fit_intercept': True, 'class_weight': 'balanced', 'threshold': 0.6839999999999999}. Best is trial 98 with value: 0.9712806376299612.\n",
      "[I 2025-07-08 07:35:35,797] Trial 303 finished with value: 0.9712266419496156 and parameters: {'solver_penalty': ('newton-cholesky', 'l2'), 'C': 8.005522191354723, 'tol': 0.09748909975595473, 'fit_intercept': True, 'class_weight': 'balanced', 'threshold': 0.681}. Best is trial 98 with value: 0.9712806376299612.\n",
      "[I 2025-07-08 07:35:36,950] Trial 306 finished with value: 0.9694991008006809 and parameters: {'solver_penalty': ('liblinear', 'l1'), 'C': 8.818363057363799, 'tol': 0.03696014238646988, 'fit_intercept': True, 'class_weight': 'balanced', 'threshold': 0.633}. Best is trial 98 with value: 0.9712806376299612.\n",
      "[I 2025-07-08 07:35:37,149] Trial 305 finished with value: 0.9711186943101232 and parameters: {'solver_penalty': ('newton-cholesky', None), 'C': 9.07046328512518, 'tol': 0.03674354190301545, 'fit_intercept': True, 'class_weight': 'balanced', 'threshold': 0.5820000000000001}. Best is trial 98 with value: 0.9712806376299612.\n",
      "[I 2025-07-08 07:35:38,159] Trial 307 finished with value: 0.9700929658420849 and parameters: {'solver_penalty': ('liblinear', 'l2'), 'C': 2.0803909521407213, 'tol': 0.07361681024711589, 'fit_intercept': True, 'class_weight': None, 'threshold': 0.592}. Best is trial 98 with value: 0.9712806376299612.\n",
      "[I 2025-07-08 07:35:39,005] Trial 308 finished with value: 0.9709567072690864 and parameters: {'solver_penalty': ('newton-cholesky', None), 'C': 2.763605866646159, 'tol': 0.08959512668164701, 'fit_intercept': True, 'class_weight': None, 'threshold': 0.6910000000000001}. Best is trial 98 with value: 0.9712806376299612.\n",
      "[I 2025-07-08 07:35:40,825] Trial 309 finished with value: 0.9709567509902852 and parameters: {'solver_penalty': ('newton-cholesky', None), 'C': 7.045917067924954, 'tol': 0.06558438205017031, 'fit_intercept': True, 'class_weight': 'balanced', 'threshold': 0.5569999999999999}. Best is trial 98 with value: 0.9712806376299612.\n",
      "[I 2025-07-08 07:35:40,852] Trial 310 finished with value: 0.971172675416736 and parameters: {'solver_penalty': ('newton-cholesky', None), 'C': 6.126653404562192, 'tol': 0.07391679986043474, 'fit_intercept': True, 'class_weight': 'balanced', 'threshold': 0.599}. Best is trial 98 with value: 0.9712806376299612.\n",
      "[I 2025-07-08 07:35:41,864] Trial 311 finished with value: 0.9711186943101232 and parameters: {'solver_penalty': ('newton-cholesky', None), 'C': 7.88734599642312, 'tol': 0.07257297686222206, 'fit_intercept': True, 'class_weight': 'balanced', 'threshold': 0.591}. Best is trial 98 with value: 0.9712806376299612.\n",
      "[I 2025-07-08 07:35:42,087] Trial 312 finished with value: 0.9711186943101232 and parameters: {'solver_penalty': ('newton-cholesky', None), 'C': 7.484533850560642, 'tol': 0.0763440842355402, 'fit_intercept': True, 'class_weight': 'balanced', 'threshold': 0.661}. Best is trial 98 with value: 0.9712806376299612.\n",
      "[I 2025-07-08 07:35:44,190] Trial 313 finished with value: 0.9712266565233486 and parameters: {'solver_penalty': ('newton-cholesky', None), 'C': 7.778838106732524, 'tol': 0.09712635308349114, 'fit_intercept': True, 'class_weight': 'balanced', 'threshold': 0.645}. Best is trial 98 with value: 0.9712806376299612.\n",
      "[I 2025-07-08 07:35:44,202] Trial 314 finished with value: 0.9712806376299612 and parameters: {'solver_penalty': ('newton-cholesky', None), 'C': 8.487844722503949, 'tol': 0.07431126771411974, 'fit_intercept': True, 'class_weight': 'balanced', 'threshold': 0.631}. Best is trial 98 with value: 0.9712806376299612.\n",
      "[I 2025-07-08 07:35:45,231] Trial 315 finished with value: 0.9692292098413503 and parameters: {'solver_penalty': ('newton-cg', 'l2'), 'C': 7.918910020524557, 'tol': 0.03229497333476304, 'fit_intercept': True, 'class_weight': None, 'threshold': 0.426}. Best is trial 98 with value: 0.9712806376299612.\n",
      "[I 2025-07-08 07:35:45,581] Trial 316 finished with value: 0.9712806376299612 and parameters: {'solver_penalty': ('newton-cholesky', None), 'C': 8.580377438409107, 'tol': 0.07662552715154163, 'fit_intercept': True, 'class_weight': 'balanced', 'threshold': 0.635}. Best is trial 98 with value: 0.9712806376299612.\n",
      "[I 2025-07-08 07:35:46,812] Trial 317 finished with value: 0.9690133291360983 and parameters: {'solver_penalty': ('lbfgs', None), 'C': 6.1356266584400725, 'tol': 0.0996933584977844, 'fit_intercept': False, 'class_weight': 'balanced', 'threshold': 0.6679999999999999}. Best is trial 98 with value: 0.9712806376299612.\n",
      "[I 2025-07-08 07:35:47,503] Trial 318 finished with value: 0.9711186943101232 and parameters: {'solver_penalty': ('newton-cholesky', None), 'C': 8.998603896181333, 'tol': 0.07181033431970664, 'fit_intercept': True, 'class_weight': 'balanced', 'threshold': 0.653}. Best is trial 98 with value: 0.9712806376299612.\n",
      "[I 2025-07-08 07:35:48,852] Trial 320 finished with value: 0.8703805930343386 and parameters: {'solver_penalty': ('newton-cholesky', None), 'C': 7.10124796982298, 'tol': 0.09315655057666748, 'fit_intercept': False, 'class_weight': 'balanced', 'threshold': 0.5489999999999999}. Best is trial 98 with value: 0.9712806376299612.\n",
      "[I 2025-07-08 07:35:49,024] Trial 319 finished with value: 0.9712266565233486 and parameters: {'solver_penalty': ('newton-cholesky', None), 'C': 6.785934132083524, 'tol': 0.07726684451864524, 'fit_intercept': True, 'class_weight': 'balanced', 'threshold': 0.69}. Best is trial 98 with value: 0.9712806376299612.\n",
      "[I 2025-07-08 07:35:50,241] Trial 321 finished with value: 0.9712266565233486 and parameters: {'solver_penalty': ('newton-cholesky', None), 'C': 8.213299892134431, 'tol': 0.08160728042018109, 'fit_intercept': True, 'class_weight': 'balanced', 'threshold': 0.696}. Best is trial 98 with value: 0.9712806376299612.\n",
      "[I 2025-07-08 07:35:50,916] Trial 322 finished with value: 0.9711186943101232 and parameters: {'solver_penalty': ('newton-cholesky', None), 'C': 7.233177307957624, 'tol': 0.08384740940885799, 'fit_intercept': True, 'class_weight': 'balanced', 'threshold': 0.581}. Best is trial 98 with value: 0.9712806376299612.\n",
      "[I 2025-07-08 07:35:52,227] Trial 324 finished with value: 0.9710647132035106 and parameters: {'solver_penalty': ('newton-cholesky', None), 'C': 9.98293645459796, 'tol': 0.07479729688972969, 'fit_intercept': True, 'class_weight': 'balanced', 'threshold': 0.5680000000000001}. Best is trial 98 with value: 0.9712806376299612.\n",
      "[I 2025-07-08 07:35:52,909] Trial 325 finished with value: 0.27472407551525435 and parameters: {'solver_penalty': ('newton-cg', None), 'C': 2.5240142782983415, 'tol': 0.02191870518880365, 'fit_intercept': False, 'class_weight': None, 'threshold': 0.504}. Best is trial 98 with value: 0.9712806376299612.\n",
      "[I 2025-07-08 07:35:53,418] Trial 323 finished with value: 0.9706867871622901 and parameters: {'solver_penalty': ('newton-cg', None), 'C': 8.616407227767745, 'tol': 0.001787957063851743, 'fit_intercept': True, 'class_weight': None, 'threshold': 0.6519999999999999}. Best is trial 98 with value: 0.9712806376299612.\n",
      "[I 2025-07-08 07:35:54,557] Trial 326 finished with value: 0.9689053669228729 and parameters: {'solver_penalty': ('newton-cg', 'l2'), 'C': 7.962733363706658, 'tol': 0.02565129811818347, 'fit_intercept': False, 'class_weight': 'balanced', 'threshold': 0.696}. Best is trial 98 with value: 0.9712806376299612.\n",
      "[I 2025-07-08 07:35:55,404] Trial 327 finished with value: 0.9712806376299612 and parameters: {'solver_penalty': ('newton-cholesky', None), 'C': 8.64927594963491, 'tol': 0.07662120129311042, 'fit_intercept': True, 'class_weight': 'balanced', 'threshold': 0.628}. Best is trial 98 with value: 0.9712806376299612.\n",
      "[I 2025-07-08 07:35:56,218] Trial 328 finished with value: 0.9709567218428194 and parameters: {'solver_penalty': ('newton-cholesky', None), 'C': 7.958766203584753, 'tol': 0.03862710066282193, 'fit_intercept': True, 'class_weight': None, 'threshold': 0.581}. Best is trial 98 with value: 0.9712806376299612.\n",
      "[I 2025-07-08 07:35:56,594] Trial 329 finished with value: 0.9008269573251955 and parameters: {'solver_penalty': ('newton-cholesky', None), 'C': 8.913187835508852, 'tol': 0.03961058503812831, 'fit_intercept': False, 'class_weight': 'balanced', 'threshold': 0.5820000000000001}. Best is trial 98 with value: 0.9712806376299612.\n",
      "[I 2025-07-08 07:35:58,040] Trial 330 finished with value: 0.971172675416736 and parameters: {'solver_penalty': ('newton-cholesky', None), 'C': 8.673722566033575, 'tol': 0.05302419003968048, 'fit_intercept': True, 'class_weight': 'balanced', 'threshold': 0.597}. Best is trial 98 with value: 0.9712806376299612.\n",
      "[I 2025-07-08 07:35:58,234] Trial 331 finished with value: 0.2604729030584436 and parameters: {'solver_penalty': ('lbfgs', 'l2'), 'C': 3.6936914027947623, 'tol': 0.04735841516953101, 'fit_intercept': False, 'class_weight': 'balanced', 'threshold': 0.45799999999999996}. Best is trial 98 with value: 0.9712806376299612.\n",
      "[I 2025-07-08 07:35:59,738] Trial 332 finished with value: 0.9712806376299612 and parameters: {'solver_penalty': ('newton-cholesky', None), 'C': 8.171222963149832, 'tol': 0.07228539216540104, 'fit_intercept': True, 'class_weight': 'balanced', 'threshold': 0.627}. Best is trial 98 with value: 0.9712806376299612.\n",
      "[I 2025-07-08 07:36:00,253] Trial 333 finished with value: 0.9712806376299612 and parameters: {'solver_penalty': ('newton-cholesky', None), 'C': 9.524671944005139, 'tol': 0.08072943499967696, 'fit_intercept': True, 'class_weight': 'balanced', 'threshold': 0.635}. Best is trial 98 with value: 0.9712806376299612.\n",
      "[I 2025-07-08 07:36:01,546] Trial 335 finished with value: 0.9712266565233486 and parameters: {'solver_penalty': ('newton-cholesky', None), 'C': 9.564120976637417, 'tol': 0.07905164478807335, 'fit_intercept': True, 'class_weight': 'balanced', 'threshold': 0.639}. Best is trial 98 with value: 0.9712806376299612.\n",
      "[I 2025-07-08 07:36:01,549] Trial 334 finished with value: 0.971172675416736 and parameters: {'solver_penalty': ('newton-cholesky', None), 'C': 9.907633236258427, 'tol': 0.08566253206755696, 'fit_intercept': True, 'class_weight': 'balanced', 'threshold': 0.617}. Best is trial 98 with value: 0.9712806376299612.\n",
      "[I 2025-07-08 07:36:02,423] Trial 336 finished with value: 0.968311487307736 and parameters: {'solver_penalty': ('liblinear', 'l1'), 'C': 7.496453945649037, 'tol': 0.06097910257226764, 'fit_intercept': False, 'class_weight': 'balanced', 'threshold': 0.635}. Best is trial 98 with value: 0.9712806376299612.\n",
      "[I 2025-07-08 07:36:03,089] Trial 337 finished with value: 0.9005576930363789 and parameters: {'solver_penalty': ('newton-cholesky', None), 'C': 8.243543495943882, 'tol': 0.0978949433507867, 'fit_intercept': False, 'class_weight': None, 'threshold': 0.604}. Best is trial 98 with value: 0.9712806376299612.\n",
      "[I 2025-07-08 07:36:05,033] Trial 339 finished with value: 0.9711186943101232 and parameters: {'solver_penalty': ('newton-cholesky', None), 'C': 8.474411845345674, 'tol': 0.07430187792575911, 'fit_intercept': True, 'class_weight': 'balanced', 'threshold': 0.594}. Best is trial 98 with value: 0.9712806376299612.\n",
      "[I 2025-07-08 07:36:05,357] Trial 338 finished with value: 0.2604729030584436 and parameters: {'solver_penalty': ('newton-cg', 'l2'), 'C': 9.86611460212762, 'tol': 0.028506745714438626, 'fit_intercept': False, 'class_weight': 'balanced', 'threshold': 0.5}. Best is trial 98 with value: 0.9712806376299612.\n",
      "[I 2025-07-08 07:36:05,727] Trial 340 finished with value: 0.2604729030584436 and parameters: {'solver_penalty': ('newton-cg', 'l2'), 'C': 7.88248971058341, 'tol': 0.05020456904565841, 'fit_intercept': False, 'class_weight': 'balanced', 'threshold': 0.33299999999999996}. Best is trial 98 with value: 0.9712806376299612.\n",
      "[I 2025-07-08 07:36:06,554] Trial 341 finished with value: 0.9692292535625491 and parameters: {'solver_penalty': ('newton-cg', None), 'C': 4.633832230156965, 'tol': 0.08110915295500494, 'fit_intercept': False, 'class_weight': 'balanced', 'threshold': 0.607}. Best is trial 98 with value: 0.9712806376299612.\n",
      "[I 2025-07-08 07:36:08,648] Trial 344 finished with value: 0.9705248146949863 and parameters: {'solver_penalty': ('liblinear', 'l1'), 'C': 5.331078102784445, 'tol': 0.09052470424197398, 'fit_intercept': True, 'class_weight': None, 'threshold': 0.602}. Best is trial 98 with value: 0.9712806376299612.\n",
      "[I 2025-07-08 07:36:08,852] Trial 342 finished with value: 0.9711186943101232 and parameters: {'solver_penalty': ('newton-cholesky', None), 'C': 7.834046680698982, 'tol': 0.07585230706298034, 'fit_intercept': True, 'class_weight': 'balanced', 'threshold': 0.6559999999999999}. Best is trial 98 with value: 0.9712806376299612.\n",
      "[I 2025-07-08 07:36:09,201] Trial 343 finished with value: 0.9712266565233486 and parameters: {'solver_penalty': ('newton-cholesky', None), 'C': 7.62320429234198, 'tol': 0.06637602409331297, 'fit_intercept': True, 'class_weight': 'balanced', 'threshold': 0.647}. Best is trial 98 with value: 0.9712806376299612.\n",
      "[I 2025-07-08 07:36:09,418] Trial 345 finished with value: 0.9694991153744137 and parameters: {'solver_penalty': ('liblinear', 'l1'), 'C': 3.650677749125104, 'tol': 0.09909623356818871, 'fit_intercept': True, 'class_weight': 'balanced', 'threshold': 0.6519999999999999}. Best is trial 98 with value: 0.9712806376299612.\n",
      "[I 2025-07-08 07:36:11,221] Trial 346 finished with value: 0.9709567218428192 and parameters: {'solver_penalty': ('newton-cholesky', None), 'C': 7.31838347525871, 'tol': 0.07130218110200172, 'fit_intercept': True, 'class_weight': None, 'threshold': 0.592}. Best is trial 98 with value: 0.9712806376299612.\n",
      "[I 2025-07-08 07:36:11,893] Trial 347 finished with value: 0.9711186943101232 and parameters: {'solver_penalty': ('newton-cholesky', None), 'C': 9.774130990373202, 'tol': 0.04969761547772092, 'fit_intercept': True, 'class_weight': 'balanced', 'threshold': 0.653}. Best is trial 98 with value: 0.9712806376299612.\n",
      "[I 2025-07-08 07:36:12,418] Trial 349 finished with value: 0.971172675416736 and parameters: {'solver_penalty': ('newton-cholesky', None), 'C': 9.700757946099543, 'tol': 0.05167172936655258, 'fit_intercept': True, 'class_weight': 'balanced', 'threshold': 0.616}. Best is trial 98 with value: 0.9712806376299612.\n",
      "[I 2025-07-08 07:36:14,838] Trial 351 finished with value: 0.9690133145623653 and parameters: {'solver_penalty': ('lbfgs', None), 'C': 7.940975636280462, 'tol': 0.07529227344538839, 'fit_intercept': True, 'class_weight': 'balanced', 'threshold': 0.581}. Best is trial 98 with value: 0.9712806376299612.\n",
      "[I 2025-07-08 07:36:14,855] Trial 348 finished with value: 0.5450087879609308 and parameters: {'solver_penalty': ('newton-cg', None), 'C': 3.6226066117749585, 'tol': 0.0013124032157402904, 'fit_intercept': False, 'class_weight': 'balanced', 'threshold': 0.41}. Best is trial 98 with value: 0.9712806376299612.\n",
      "[I 2025-07-08 07:36:14,858] Trial 350 finished with value: 0.9692292098413503 and parameters: {'solver_penalty': ('newton-cg', 'l2'), 'C': 9.61749412632585, 'tol': 0.05354437598060791, 'fit_intercept': True, 'class_weight': 'balanced', 'threshold': 0.634}. Best is trial 98 with value: 0.9712806376299612.\n",
      "[I 2025-07-08 07:36:15,445] Trial 352 finished with value: 0.9711186943101232 and parameters: {'solver_penalty': ('newton-cholesky', None), 'C': 9.57961748916323, 'tol': 0.09434141387801578, 'fit_intercept': True, 'class_weight': 'balanced', 'threshold': 0.592}. Best is trial 98 with value: 0.9712806376299612.\n",
      "[I 2025-07-08 07:36:17,186] Trial 353 finished with value: 0.2604729030584436 and parameters: {'solver_penalty': ('lbfgs', 'l2'), 'C': 4.225265000613778, 'tol': 0.08374201155228159, 'fit_intercept': False, 'class_weight': None, 'threshold': 0.318}. Best is trial 98 with value: 0.9712806376299612.\n",
      "[I 2025-07-08 07:36:17,897] Trial 355 finished with value: 0.9692292098413503 and parameters: {'solver_penalty': ('newton-cg', None), 'C': 0.10406442838286534, 'tol': 0.09124808147666272, 'fit_intercept': False, 'class_weight': None, 'threshold': 0.692}. Best is trial 98 with value: 0.9712806376299612.\n",
      "[I 2025-07-08 07:36:18,454] Trial 354 finished with value: 0.9711186943101232 and parameters: {'solver_penalty': ('newton-cholesky', None), 'C': 7.887192242022597, 'tol': 0.08444441999064398, 'fit_intercept': True, 'class_weight': 'balanced', 'threshold': 0.5840000000000001}. Best is trial 98 with value: 0.9712806376299612.\n",
      "[I 2025-07-08 07:36:19,292] Trial 356 finished with value: 0.9712806376299612 and parameters: {'solver_penalty': ('newton-cholesky', None), 'C': 8.417043960413539, 'tol': 0.08033424209172514, 'fit_intercept': True, 'class_weight': 'balanced', 'threshold': 0.627}. Best is trial 98 with value: 0.9712806376299612.\n",
      "[I 2025-07-08 07:36:20,893] Trial 357 finished with value: 0.9712266565233486 and parameters: {'solver_penalty': ('newton-cholesky', None), 'C': 4.54713674670724, 'tol': 0.09002809530894858, 'fit_intercept': True, 'class_weight': 'balanced', 'threshold': 0.6970000000000001}. Best is trial 98 with value: 0.9712806376299612.\n",
      "[I 2025-07-08 07:36:21,401] Trial 358 finished with value: 0.971172675416736 and parameters: {'solver_penalty': ('newton-cholesky', None), 'C': 8.515363650119015, 'tol': 0.0751951017091735, 'fit_intercept': True, 'class_weight': 'balanced', 'threshold': 0.615}. Best is trial 98 with value: 0.9712806376299612.\n",
      "[I 2025-07-08 07:36:21,920] Trial 359 finished with value: 0.9712266565233486 and parameters: {'solver_penalty': ('newton-cholesky', None), 'C': 9.467368213914016, 'tol': 0.07898120822039253, 'fit_intercept': True, 'class_weight': 'balanced', 'threshold': 0.642}. Best is trial 98 with value: 0.9712806376299612.\n",
      "[I 2025-07-08 07:36:22,102] Trial 360 finished with value: 0.2604729030584436 and parameters: {'solver_penalty': ('liblinear', 'l1'), 'C': 9.813173805063151, 'tol': 0.08397831036209541, 'fit_intercept': False, 'class_weight': 'balanced', 'threshold': 0.4}. Best is trial 98 with value: 0.9712806376299612.\n",
      "[I 2025-07-08 07:36:24,819] Trial 361 finished with value: 0.9711186943101232 and parameters: {'solver_penalty': ('newton-cholesky', None), 'C': 8.906041972995425, 'tol': 0.08211414969331708, 'fit_intercept': True, 'class_weight': 'balanced', 'threshold': 0.657}. Best is trial 98 with value: 0.9712806376299612.\n",
      "[I 2025-07-08 07:36:24,845] Trial 363 finished with value: 0.9710106883756993 and parameters: {'solver_penalty': ('newton-cholesky', 'l2'), 'C': 8.840267615471527, 'tol': 0.0688094389575316, 'fit_intercept': True, 'class_weight': None, 'threshold': 0.675}. Best is trial 98 with value: 0.9712806376299612.\n",
      "[I 2025-07-08 07:36:25,038] Trial 362 finished with value: 0.971172675416736 and parameters: {'solver_penalty': ('newton-cholesky', None), 'C': 8.817462484719714, 'tol': 0.06561300047118486, 'fit_intercept': True, 'class_weight': 'balanced', 'threshold': 0.611}. Best is trial 98 with value: 0.9712806376299612.\n",
      "[I 2025-07-08 07:36:25,680] Trial 364 finished with value: 0.9689593334557527 and parameters: {'solver_penalty': ('lbfgs', None), 'C': 2.865225173578152, 'tol': 0.009045869684321355, 'fit_intercept': True, 'class_weight': 'balanced', 'threshold': 0.426}. Best is trial 98 with value: 0.9712806376299612.\n",
      "[I 2025-07-08 07:36:28,103] Trial 365 finished with value: 0.9476336775649041 and parameters: {'solver_penalty': ('newton-cholesky', None), 'C': 6.37783107118589, 'tol': 0.09669160564609292, 'fit_intercept': False, 'class_weight': 'balanced', 'threshold': 0.6619999999999999}. Best is trial 98 with value: 0.9712806376299612.\n",
      "[I 2025-07-08 07:36:28,414] Trial 366 finished with value: 0.9712806376299612 and parameters: {'solver_penalty': ('newton-cholesky', None), 'C': 8.032552858383003, 'tol': 0.06530656748008616, 'fit_intercept': True, 'class_weight': 'balanced', 'threshold': 0.625}. Best is trial 98 with value: 0.9712806376299612.\n",
      "[I 2025-07-08 07:36:28,612] Trial 367 finished with value: 0.9685274554553853 and parameters: {'solver_penalty': ('newton-cg', None), 'C': 9.354522375003224, 'tol': 0.07709424573818223, 'fit_intercept': False, 'class_weight': 'balanced', 'threshold': 0.587}. Best is trial 98 with value: 0.9712806376299612.\n",
      "[I 2025-07-08 07:36:28,813] Trial 368 finished with value: 0.970848759629594 and parameters: {'solver_penalty': ('liblinear', 'l2'), 'C': 9.279772636262047, 'tol': 0.054392509620556945, 'fit_intercept': True, 'class_weight': 'balanced', 'threshold': 0.622}. Best is trial 98 with value: 0.9712806376299612.\n",
      "[I 2025-07-08 07:36:31,557] Trial 371 finished with value: 0.9690672810952453 and parameters: {'solver_penalty': ('liblinear', 'l1'), 'C': 6.522407727642916, 'tol': 0.09068235377015944, 'fit_intercept': True, 'class_weight': 'balanced', 'threshold': 0.537}. Best is trial 98 with value: 0.9712806376299612.\n",
      "[I 2025-07-08 07:36:31,756] Trial 369 finished with value: 0.9712266565233486 and parameters: {'solver_penalty': ('newton-cholesky', None), 'C': 7.616780332423271, 'tol': 0.09666359468285786, 'fit_intercept': True, 'class_weight': 'balanced', 'threshold': 0.644}. Best is trial 98 with value: 0.9712806376299612.\n",
      "[I 2025-07-08 07:36:31,932] Trial 372 finished with value: 0.9691212622018579 and parameters: {'solver_penalty': ('lbfgs', 'l2'), 'C': 6.688958436859641, 'tol': 0.07665481181636055, 'fit_intercept': True, 'class_weight': 'balanced', 'threshold': 0.626}. Best is trial 98 with value: 0.9712806376299612.\n",
      "[I 2025-07-08 07:36:32,136] Trial 370 finished with value: 0.9712266565233486 and parameters: {'solver_penalty': ('newton-cholesky', None), 'C': 8.000277412240818, 'tol': 0.09873808714094845, 'fit_intercept': True, 'class_weight': 'balanced', 'threshold': 0.6990000000000001}. Best is trial 98 with value: 0.9712806376299612.\n",
      "[I 2025-07-08 07:36:34,392] Trial 373 finished with value: 0.9709567072690864 and parameters: {'solver_penalty': ('newton-cholesky', None), 'C': 8.975562423642637, 'tol': 0.05676395817965137, 'fit_intercept': True, 'class_weight': None, 'threshold': 0.6890000000000001}. Best is trial 98 with value: 0.9712806376299612.\n",
      "[I 2025-07-08 07:36:35,073] Trial 375 finished with value: 0.9711186943101232 and parameters: {'solver_penalty': ('newton-cholesky', None), 'C': 6.687417173482483, 'tol': 0.09953110258148248, 'fit_intercept': True, 'class_weight': 'balanced', 'threshold': 0.571}. Best is trial 98 with value: 0.9712806376299612.\n",
      "[I 2025-07-08 07:36:35,256] Trial 376 finished with value: 0.9712806376299612 and parameters: {'solver_penalty': ('newton-cholesky', None), 'C': 6.250441863794966, 'tol': 0.06490866237293355, 'fit_intercept': True, 'class_weight': 'balanced', 'threshold': 0.623}. Best is trial 98 with value: 0.9712806376299612.\n",
      "[I 2025-07-08 07:36:35,592] Trial 374 finished with value: 0.9691752433084705 and parameters: {'solver_penalty': ('newton-cg', None), 'C': 9.531038725042432, 'tol': 0.06282684258208242, 'fit_intercept': True, 'class_weight': 'balanced', 'threshold': 0.596}. Best is trial 98 with value: 0.9712806376299612.\n",
      "[I 2025-07-08 07:36:38,189] Trial 380 finished with value: 0.2604729030584436 and parameters: {'solver_penalty': ('liblinear', 'l2'), 'C': 1.8278903695373327, 'tol': 0.08777676349225846, 'fit_intercept': False, 'class_weight': 'balanced', 'threshold': 0.437}. Best is trial 98 with value: 0.9712806376299612.\n",
      "[I 2025-07-08 07:36:38,389] Trial 377 finished with value: 0.9693371574808429 and parameters: {'solver_penalty': ('newton-cg', None), 'C': 7.212635862010816, 'tol': 0.08696017307378541, 'fit_intercept': True, 'class_weight': 'balanced', 'threshold': 0.687}. Best is trial 98 with value: 0.9712806376299612.\n",
      "[I 2025-07-08 07:36:38,575] Trial 378 finished with value: 0.971172675416736 and parameters: {'solver_penalty': ('newton-cholesky', None), 'C': 7.975732597850153, 'tol': 0.07111129257691216, 'fit_intercept': True, 'class_weight': 'balanced', 'threshold': 0.6659999999999999}. Best is trial 98 with value: 0.9712806376299612.\n",
      "[I 2025-07-08 07:36:38,771] Trial 379 finished with value: 0.971172675416736 and parameters: {'solver_penalty': ('newton-cholesky', None), 'C': 7.485888594334905, 'tol': 0.06400279854478362, 'fit_intercept': True, 'class_weight': 'balanced', 'threshold': 0.615}. Best is trial 98 with value: 0.9712806376299612.\n",
      "[I 2025-07-08 07:36:41,318] Trial 382 finished with value: 0.9695531110547593 and parameters: {'solver_penalty': ('liblinear', 'l2'), 'C': 6.422782795195728, 'tol': 0.07385612986166665, 'fit_intercept': True, 'class_weight': None, 'threshold': 0.503}. Best is trial 98 with value: 0.9712806376299612.\n",
      "[I 2025-07-08 07:36:41,640] Trial 381 finished with value: 0.9130821258995636 and parameters: {'solver_penalty': ('newton-cholesky', None), 'C': 6.303151877802326, 'tol': 0.053780814650859696, 'fit_intercept': False, 'class_weight': None, 'threshold': 0.632}. Best is trial 98 with value: 0.9712806376299612.\n",
      "[I 2025-07-08 07:36:41,839] Trial 383 finished with value: 0.9706867725885573 and parameters: {'solver_penalty': ('liblinear', 'l1'), 'C': 1.9153407915690526, 'tol': 0.02163066510286302, 'fit_intercept': True, 'class_weight': 'balanced', 'threshold': 0.7}. Best is trial 98 with value: 0.9712806376299612.\n",
      "[I 2025-07-08 07:36:42,036] Trial 384 finished with value: 0.971010702949432 and parameters: {'solver_penalty': ('newton-cholesky', None), 'C': 9.7604383293417, 'tol': 0.08029696404120447, 'fit_intercept': True, 'class_weight': None, 'threshold': 0.611}. Best is trial 98 with value: 0.9712806376299612.\n",
      "[I 2025-07-08 07:36:44,932] Trial 385 finished with value: 0.9710647132035106 and parameters: {'solver_penalty': ('newton-cholesky', None), 'C': 5.626462947761063, 'tol': 0.07968245001813945, 'fit_intercept': True, 'class_weight': 'balanced', 'threshold': 0.5860000000000001}. Best is trial 98 with value: 0.9712806376299612.\n",
      "[I 2025-07-08 07:36:44,944] Trial 386 finished with value: 0.9258231827283776 and parameters: {'solver_penalty': ('newton-cholesky', None), 'C': 8.759522824417642, 'tol': 0.07323092519622926, 'fit_intercept': False, 'class_weight': 'balanced', 'threshold': 0.614}. Best is trial 98 with value: 0.9712806376299612.\n",
      "[I 2025-07-08 07:36:45,138] Trial 387 finished with value: 0.9548681077173745 and parameters: {'solver_penalty': ('newton-cholesky', None), 'C': 6.822512995203961, 'tol': 0.05866939634485322, 'fit_intercept': False, 'class_weight': 'balanced', 'threshold': 0.6890000000000001}. Best is trial 98 with value: 0.9712806376299612.\n",
      "[I 2025-07-08 07:36:45,364] Trial 388 finished with value: 0.971172675416736 and parameters: {'solver_penalty': ('newton-cholesky', None), 'C': 5.765361150477148, 'tol': 0.08329771204208117, 'fit_intercept': True, 'class_weight': 'balanced', 'threshold': 0.608}. Best is trial 98 with value: 0.9712806376299612.\n",
      "[I 2025-07-08 07:36:47,904] Trial 389 finished with value: 0.9705787958015991 and parameters: {'solver_penalty': ('liblinear', 'l1'), 'C': 9.64022872748036, 'tol': 0.05915306054706647, 'fit_intercept': True, 'class_weight': None, 'threshold': 0.665}. Best is trial 98 with value: 0.9712806376299612.\n",
      "[I 2025-07-08 07:36:48,121] Trial 391 finished with value: 0.9693911677349213 and parameters: {'solver_penalty': ('liblinear', 'l1'), 'C': 9.062751937196696, 'tol': 0.07428589431753295, 'fit_intercept': True, 'class_weight': 'balanced', 'threshold': 0.683}. Best is trial 98 with value: 0.9712806376299612.\n",
      "[I 2025-07-08 07:36:48,451] Trial 390 finished with value: 0.9709567218428194 and parameters: {'solver_penalty': ('newton-cholesky', 'l2'), 'C': 6.003249048552188, 'tol': 0.010378199298215027, 'fit_intercept': True, 'class_weight': None, 'threshold': 0.5840000000000001}. Best is trial 98 with value: 0.9712806376299612.\n",
      "[I 2025-07-08 07:36:48,673] Trial 392 finished with value: 0.9712266565233486 and parameters: {'solver_penalty': ('newton-cholesky', None), 'C': 7.532483309072035, 'tol': 0.052197088937196774, 'fit_intercept': True, 'class_weight': 'balanced', 'threshold': 0.643}. Best is trial 98 with value: 0.9712806376299612.\n",
      "[I 2025-07-08 07:36:51,327] Trial 393 finished with value: 0.971172675416736 and parameters: {'solver_penalty': ('newton-cholesky', None), 'C': 4.056880754576739, 'tol': 0.05941401241713923, 'fit_intercept': True, 'class_weight': 'balanced', 'threshold': 0.616}. Best is trial 98 with value: 0.9712806376299612.\n",
      "[I 2025-07-08 07:36:51,825] Trial 394 finished with value: 0.9712266565233486 and parameters: {'solver_penalty': ('newton-cholesky', None), 'C': 8.11239104758979, 'tol': 0.052657777831231545, 'fit_intercept': True, 'class_weight': 'balanced', 'threshold': 0.687}. Best is trial 98 with value: 0.9712806376299612.\n",
      "[I 2025-07-08 07:36:51,833] Trial 395 finished with value: 0.971172675416736 and parameters: {'solver_penalty': ('newton-cholesky', None), 'C': 6.487003106730474, 'tol': 0.05186101889630197, 'fit_intercept': True, 'class_weight': 'balanced', 'threshold': 0.607}. Best is trial 98 with value: 0.9712806376299612.\n",
      "[I 2025-07-08 07:36:52,244] Trial 396 finished with value: 0.3066296348114013 and parameters: {'solver_penalty': ('newton-cholesky', 'l2'), 'C': 6.808344989270195, 'tol': 0.009861196427148548, 'fit_intercept': False, 'class_weight': 'balanced', 'threshold': 0.329}. Best is trial 98 with value: 0.9712806376299612.\n",
      "[I 2025-07-08 07:36:54,484] Trial 397 finished with value: 0.2604729030584436 and parameters: {'solver_penalty': ('newton-cg', None), 'C': 8.516672926678336, 'tol': 0.08784720564666082, 'fit_intercept': False, 'class_weight': None, 'threshold': 0.45799999999999996}. Best is trial 98 with value: 0.9712806376299612.\n",
      "[I 2025-07-08 07:36:54,673] Trial 399 finished with value: 0.9702549091619229 and parameters: {'solver_penalty': ('liblinear', 'l2'), 'C': 5.462490047326677, 'tol': 0.08020714574194238, 'fit_intercept': True, 'class_weight': None, 'threshold': 0.6679999999999999}. Best is trial 98 with value: 0.9712806376299612.\n",
      "[I 2025-07-08 07:36:55,208] Trial 400 finished with value: 0.9693911385874555 and parameters: {'solver_penalty': ('lbfgs', 'l2'), 'C': 1.5254306220907967, 'tol': 0.06907297390349128, 'fit_intercept': True, 'class_weight': None, 'threshold': 0.34299999999999997}. Best is trial 98 with value: 0.9712806376299612.\n",
      "[I 2025-07-08 07:36:55,417] Trial 398 finished with value: 0.9712806376299612 and parameters: {'solver_penalty': ('newton-cholesky', None), 'C': 6.6042246911016615, 'tol': 0.07163958797710852, 'fit_intercept': True, 'class_weight': 'balanced', 'threshold': 0.636}. Best is trial 98 with value: 0.9712806376299612.\n",
      "[I 2025-07-08 07:36:58,319] Trial 401 finished with value: 0.9712806376299612 and parameters: {'solver_penalty': ('newton-cholesky', None), 'C': 8.018151161651513, 'tol': 0.06781189575943995, 'fit_intercept': True, 'class_weight': 'balanced', 'threshold': 0.622}. Best is trial 98 with value: 0.9712806376299612.\n",
      "[I 2025-07-08 07:36:58,323] Trial 404 finished with value: 0.9690132999886325 and parameters: {'solver_penalty': ('liblinear', 'l1'), 'C': 6.069180819877119, 'tol': 0.05471783814400587, 'fit_intercept': True, 'class_weight': 'balanced', 'threshold': 0.492}. Best is trial 98 with value: 0.9712806376299612.\n",
      "[I 2025-07-08 07:36:58,338] Trial 402 finished with value: 0.9712806376299612 and parameters: {'solver_penalty': ('newton-cholesky', None), 'C': 8.74203351377937, 'tol': 0.07360065249871048, 'fit_intercept': True, 'class_weight': 'balanced', 'threshold': 0.623}. Best is trial 98 with value: 0.9712806376299612.\n",
      "[I 2025-07-08 07:36:58,812] Trial 403 finished with value: 0.9711186943101232 and parameters: {'solver_penalty': ('newton-cholesky', None), 'C': 9.963577261756015, 'tol': 0.03445032293318022, 'fit_intercept': True, 'class_weight': 'balanced', 'threshold': 0.605}. Best is trial 98 with value: 0.9712806376299612.\n",
      "[I 2025-07-08 07:37:01,840] Trial 405 finished with value: 0.9712806376299612 and parameters: {'solver_penalty': ('newton-cholesky', None), 'C': 6.056984510812556, 'tol': 0.07201410981556167, 'fit_intercept': True, 'class_weight': 'balanced', 'threshold': 0.626}. Best is trial 98 with value: 0.9712806376299612.\n",
      "[I 2025-07-08 07:37:01,855] Trial 407 finished with value: 0.9707407828426359 and parameters: {'solver_penalty': ('newton-cholesky', None), 'C': 9.879088361337272, 'tol': 0.01908503781825961, 'fit_intercept': True, 'class_weight': None, 'threshold': 0.6739999999999999}. Best is trial 98 with value: 0.9712806376299612.\n",
      "[I 2025-07-08 07:37:01,881] Trial 408 finished with value: 0.9708487596295938 and parameters: {'solver_penalty': ('liblinear', 'l2'), 'C': 7.5779970859441645, 'tol': 0.017022722250587465, 'fit_intercept': True, 'class_weight': 'balanced', 'threshold': 0.6619999999999999}. Best is trial 98 with value: 0.9712806376299612.\n",
      "[I 2025-07-08 07:37:02,128] Trial 406 finished with value: 0.9709567509902852 and parameters: {'solver_penalty': ('newton-cholesky', None), 'C': 9.601417818653358, 'tol': 0.02900339381163043, 'fit_intercept': True, 'class_weight': 'balanced', 'threshold': 0.45099999999999996}. Best is trial 98 with value: 0.9712806376299612.\n",
      "[I 2025-07-08 07:37:04,400] Trial 409 finished with value: 0.9704708190146407 and parameters: {'solver_penalty': ('lbfgs', None), 'C': 0.13393380278717082, 'tol': 0.09314623845660033, 'fit_intercept': True, 'class_weight': None, 'threshold': 0.491}. Best is trial 98 with value: 0.9712806376299612.\n",
      "[I 2025-07-08 07:37:04,739] Trial 411 finished with value: 0.9695531110547593 and parameters: {'solver_penalty': ('lbfgs', None), 'C': 8.117346985570327, 'tol': 0.03267044218974358, 'fit_intercept': True, 'class_weight': None, 'threshold': 0.601}. Best is trial 98 with value: 0.9712806376299612.\n",
      "[I 2025-07-08 07:37:05,285] Trial 410 finished with value: 0.9712806376299612 and parameters: {'solver_penalty': ('newton-cholesky', None), 'C': 5.741838078600262, 'tol': 0.06726653632825273, 'fit_intercept': True, 'class_weight': 'balanced', 'threshold': 0.632}. Best is trial 98 with value: 0.9712806376299612.\n",
      "[I 2025-07-08 07:37:05,799] Trial 412 finished with value: 0.9711186943101232 and parameters: {'solver_penalty': ('newton-cholesky', None), 'C': 7.252780982781585, 'tol': 0.062029411628649896, 'fit_intercept': True, 'class_weight': 'balanced', 'threshold': 0.5820000000000001}. Best is trial 98 with value: 0.9712806376299612.\n",
      "[I 2025-07-08 07:37:07,773] Trial 413 finished with value: 0.9710107320968978 and parameters: {'solver_penalty': ('newton-cholesky', None), 'C': 7.181302038142383, 'tol': 0.054753017321360384, 'fit_intercept': True, 'class_weight': 'balanced', 'threshold': 0.539}. Best is trial 98 with value: 0.9712806376299612.\n",
      "[I 2025-07-08 07:37:08,436] Trial 414 finished with value: 0.9710107320968978 and parameters: {'solver_penalty': ('newton-cholesky', None), 'C': 7.410972360749168, 'tol': 0.05010639718582777, 'fit_intercept': True, 'class_weight': 'balanced', 'threshold': 0.479}. Best is trial 98 with value: 0.9712806376299612.\n",
      "[I 2025-07-08 07:37:08,450] Trial 416 finished with value: 0.2604729030584436 and parameters: {'solver_penalty': ('liblinear', 'l2'), 'C': 1.6697792661286934, 'tol': 0.020493500818811645, 'fit_intercept': False, 'class_weight': 'balanced', 'threshold': 0.436}. Best is trial 98 with value: 0.9712806376299612.\n",
      "[I 2025-07-08 07:37:09,037] Trial 415 finished with value: 0.9693911531611885 and parameters: {'solver_penalty': ('newton-cg', 'l2'), 'C': 7.560138710732072, 'tol': 0.07643246021277413, 'fit_intercept': True, 'class_weight': 'balanced', 'threshold': 0.6779999999999999}. Best is trial 98 with value: 0.9712806376299612.\n",
      "[I 2025-07-08 07:37:11,287] Trial 417 finished with value: 0.971172675416736 and parameters: {'solver_penalty': ('newton-cholesky', None), 'C': 5.743365530651606, 'tol': 0.07236147588947346, 'fit_intercept': True, 'class_weight': 'balanced', 'threshold': 0.615}. Best is trial 98 with value: 0.9712806376299612.\n",
      "[I 2025-07-08 07:37:11,804] Trial 418 finished with value: 0.9711186943101232 and parameters: {'solver_penalty': ('newton-cholesky', None), 'C': 6.726598898472814, 'tol': 0.06387403585702499, 'fit_intercept': True, 'class_weight': 'balanced', 'threshold': 0.6519999999999999}. Best is trial 98 with value: 0.9712806376299612.\n",
      "[I 2025-07-08 07:37:11,818] Trial 419 finished with value: 0.9712806376299612 and parameters: {'solver_penalty': ('newton-cholesky', None), 'C': 7.218500817588945, 'tol': 0.06612402930409945, 'fit_intercept': True, 'class_weight': 'balanced', 'threshold': 0.628}. Best is trial 98 with value: 0.9712806376299612.\n",
      "[I 2025-07-08 07:37:12,388] Trial 420 finished with value: 0.9711186943101232 and parameters: {'solver_penalty': ('newton-cholesky', None), 'C': 5.333379349638152, 'tol': 0.06024828515758431, 'fit_intercept': True, 'class_weight': 'balanced', 'threshold': 0.581}. Best is trial 98 with value: 0.9712806376299612.\n",
      "[I 2025-07-08 07:37:14,965] Trial 423 finished with value: 0.971172675416736 and parameters: {'solver_penalty': ('newton-cholesky', None), 'C': 7.685923478061137, 'tol': 0.06894378650684356, 'fit_intercept': True, 'class_weight': 'balanced', 'threshold': 0.608}. Best is trial 98 with value: 0.9712806376299612.\n",
      "[I 2025-07-08 07:37:14,973] Trial 421 finished with value: 0.9690133145623653 and parameters: {'solver_penalty': ('newton-cg', None), 'C': 5.866767443025433, 'tol': 0.08223989812258772, 'fit_intercept': True, 'class_weight': 'balanced', 'threshold': 0.52}. Best is trial 98 with value: 0.9712806376299612.\n",
      "[I 2025-07-08 07:37:14,989] Trial 422 finished with value: 0.971172675416736 and parameters: {'solver_penalty': ('newton-cholesky', None), 'C': 9.142333886199332, 'tol': 0.0652166226925233, 'fit_intercept': True, 'class_weight': 'balanced', 'threshold': 0.61}. Best is trial 98 with value: 0.9712806376299612.\n",
      "[I 2025-07-08 07:37:16,348] Trial 424 finished with value: 0.9690672810952453 and parameters: {'solver_penalty': ('newton-cg', None), 'C': 5.325570508699892, 'tol': 0.0672912660705212, 'fit_intercept': True, 'class_weight': 'balanced', 'threshold': 0.5589999999999999}. Best is trial 98 with value: 0.9712806376299612.\n",
      "[I 2025-07-08 07:37:17,173] Trial 426 finished with value: 0.2604729030584436 and parameters: {'solver_penalty': ('lbfgs', 'l2'), 'C': 4.359328252250601, 'tol': 0.035713842229766896, 'fit_intercept': False, 'class_weight': None, 'threshold': 0.33299999999999996}. Best is trial 98 with value: 0.9712806376299612.\n",
      "[I 2025-07-08 07:37:18,490] Trial 425 finished with value: 0.9711186943101232 and parameters: {'solver_penalty': ('newton-cholesky', None), 'C': 5.645770405366128, 'tol': 0.056370339823402525, 'fit_intercept': True, 'class_weight': 'balanced', 'threshold': 0.659}. Best is trial 98 with value: 0.9712806376299612.\n",
      "[I 2025-07-08 07:37:18,662] Trial 427 finished with value: 0.971172675416736 and parameters: {'solver_penalty': ('newton-cholesky', None), 'C': 5.690361239509769, 'tol': 0.05874945313633487, 'fit_intercept': True, 'class_weight': 'balanced', 'threshold': 0.618}. Best is trial 98 with value: 0.9712806376299612.\n",
      "[I 2025-07-08 07:37:19,220] Trial 428 finished with value: 0.9690673102427109 and parameters: {'solver_penalty': ('liblinear', 'l1'), 'C': 9.771338246276521, 'tol': 0.033679432340439866, 'fit_intercept': True, 'class_weight': 'balanced', 'threshold': 0.32999999999999996}. Best is trial 98 with value: 0.9712806376299612.\n",
      "[I 2025-07-08 07:37:20,717] Trial 429 finished with value: 0.9711186943101232 and parameters: {'solver_penalty': ('newton-cholesky', None), 'C': 5.84268834754352, 'tol': 0.06911386530177102, 'fit_intercept': True, 'class_weight': 'balanced', 'threshold': 0.6579999999999999}. Best is trial 98 with value: 0.9712806376299612.\n",
      "[I 2025-07-08 07:37:21,641] Trial 430 finished with value: 0.9690133145623653 and parameters: {'solver_penalty': ('lbfgs', 'l2'), 'C': 8.946175317978255, 'tol': 0.06778431694044135, 'fit_intercept': True, 'class_weight': 'balanced', 'threshold': 0.5760000000000001}. Best is trial 98 with value: 0.9712806376299612.\n",
      "[I 2025-07-08 07:37:22,170] Trial 431 finished with value: 0.9712806376299612 and parameters: {'solver_penalty': ('newton-cholesky', None), 'C': 7.285102237514991, 'tol': 0.07278785645208101, 'fit_intercept': True, 'class_weight': 'balanced', 'threshold': 0.632}. Best is trial 98 with value: 0.9712806376299612.\n",
      "[I 2025-07-08 07:37:22,880] Trial 432 finished with value: 0.9691212622018579 and parameters: {'solver_penalty': ('lbfgs', 'l2'), 'C': 9.972918448054848, 'tol': 0.05918031627028333, 'fit_intercept': True, 'class_weight': 'balanced', 'threshold': 0.614}. Best is trial 98 with value: 0.9712806376299612.\n",
      "[I 2025-07-08 07:37:24,492] Trial 433 finished with value: 0.9710647132035106 and parameters: {'solver_penalty': ('newton-cholesky', None), 'C': 7.749807606108312, 'tol': 0.07794746866326344, 'fit_intercept': True, 'class_weight': 'balanced', 'threshold': 0.587}. Best is trial 98 with value: 0.9712806376299612.\n",
      "[I 2025-07-08 07:37:25,023] Trial 434 finished with value: 0.9697690792024087 and parameters: {'solver_penalty': ('liblinear', 'l1'), 'C': 5.237461480007738, 'tol': 0.07467054846123075, 'fit_intercept': True, 'class_weight': None, 'threshold': 0.33299999999999996}. Best is trial 98 with value: 0.9712806376299612.\n",
      "[I 2025-07-08 07:37:25,544] Trial 435 finished with value: 0.9712266565233486 and parameters: {'solver_penalty': ('newton-cholesky', None), 'C': 7.048956362974228, 'tol': 0.06924616525927388, 'fit_intercept': True, 'class_weight': 'balanced', 'threshold': 0.642}. Best is trial 98 with value: 0.9712806376299612.\n",
      "[I 2025-07-08 07:37:26,532] Trial 436 finished with value: 0.9711186943101232 and parameters: {'solver_penalty': ('newton-cholesky', None), 'C': 7.665601380385604, 'tol': 0.07187029768760886, 'fit_intercept': True, 'class_weight': 'balanced', 'threshold': 0.592}. Best is trial 98 with value: 0.9712806376299612.\n",
      "[I 2025-07-08 07:37:27,030] Trial 437 finished with value: 0.2604729030584436 and parameters: {'solver_penalty': ('liblinear', 'l1'), 'C': 0.2796252040018885, 'tol': 0.08759457768909207, 'fit_intercept': False, 'class_weight': 'balanced', 'threshold': 0.472}. Best is trial 98 with value: 0.9712806376299612.\n",
      "[I 2025-07-08 07:37:28,992] Trial 438 finished with value: 0.971172675416736 and parameters: {'solver_penalty': ('newton-cholesky', None), 'C': 7.175380842052071, 'tol': 0.07201204161963952, 'fit_intercept': True, 'class_weight': 'balanced', 'threshold': 0.609}. Best is trial 98 with value: 0.9712806376299612.\n",
      "[I 2025-07-08 07:37:29,461] Trial 440 finished with value: 0.9653962743709249 and parameters: {'solver_penalty': ('lbfgs', None), 'C': 0.8488433639652291, 'tol': 0.015845044613572383, 'fit_intercept': False, 'class_weight': None, 'threshold': 0.565}. Best is trial 98 with value: 0.9712806376299612.\n",
      "[I 2025-07-08 07:37:29,703] Trial 441 finished with value: 0.9704708335883737 and parameters: {'solver_penalty': ('liblinear', 'l1'), 'C': 1.8734821499506857, 'tol': 0.04174364105599029, 'fit_intercept': True, 'class_weight': None, 'threshold': 0.575}. Best is trial 98 with value: 0.9712806376299612.\n",
      "[I 2025-07-08 07:37:29,880] Trial 439 finished with value: 0.9710647132035106 and parameters: {'solver_penalty': ('newton-cholesky', 'l2'), 'C': 6.7829050364558165, 'tol': 0.007870063475565063, 'fit_intercept': True, 'class_weight': 'balanced', 'threshold': 0.46499999999999997}. Best is trial 98 with value: 0.9712806376299612.\n",
      "[I 2025-07-08 07:37:31,692] Trial 443 finished with value: 0.9706868163097561 and parameters: {'solver_penalty': ('liblinear', 'l2'), 'C': 7.65365533138837, 'tol': 0.063934927105029, 'fit_intercept': True, 'class_weight': 'balanced', 'threshold': 0.554}. Best is trial 98 with value: 0.9712806376299612.\n",
      "[I 2025-07-08 07:37:32,714] Trial 444 finished with value: 0.9712266565233486 and parameters: {'solver_penalty': ('newton-cholesky', None), 'C': 8.40749775327177, 'tol': 0.06291712551358, 'fit_intercept': True, 'class_weight': 'balanced', 'threshold': 0.647}. Best is trial 98 with value: 0.9712806376299612.\n",
      "[I 2025-07-08 07:37:33,391] Trial 445 finished with value: 0.8340495740097877 and parameters: {'solver_penalty': ('newton-cholesky', None), 'C': 7.064653063665573, 'tol': 0.002712186213157719, 'fit_intercept': False, 'class_weight': 'balanced', 'threshold': 0.539}. Best is trial 98 with value: 0.9712806376299612.\n",
      "[I 2025-07-08 07:37:34,544] Trial 446 finished with value: 0.9705249021373836 and parameters: {'solver_penalty': ('newton-cholesky', None), 'C': 9.499943302009665, 'tol': 0.08491665359034546, 'fit_intercept': True, 'class_weight': 'balanced', 'threshold': 0.325}. Best is trial 98 with value: 0.9712806376299612.\n",
      "[I 2025-07-08 07:37:34,716] Trial 442 finished with value: 0.734504259902123 and parameters: {'solver_penalty': ('liblinear', 'l1'), 'C': 8.611218025966597, 'tol': 0.007197771193277351, 'fit_intercept': False, 'class_weight': None, 'threshold': 0.45499999999999996}. Best is trial 98 with value: 0.9712806376299612.\n",
      "[I 2025-07-08 07:37:35,740] Trial 447 finished with value: 0.971172675416736 and parameters: {'solver_penalty': ('newton-cholesky', None), 'C': 9.62900180373476, 'tol': 0.05917917533500432, 'fit_intercept': True, 'class_weight': 'balanced', 'threshold': 0.601}. Best is trial 98 with value: 0.9712806376299612.\n",
      "[I 2025-07-08 07:37:36,742] Trial 448 finished with value: 0.9709567509902852 and parameters: {'solver_penalty': ('newton-cholesky', None), 'C': 8.982228933675628, 'tol': 0.05748222781088663, 'fit_intercept': True, 'class_weight': 'balanced', 'threshold': 0.563}. Best is trial 98 with value: 0.9712806376299612.\n",
      "[I 2025-07-08 07:37:37,588] Trial 450 finished with value: 0.587776849916784 and parameters: {'solver_penalty': ('newton-cholesky', None), 'C': 7.307229420960487, 'tol': 0.07916267982555503, 'fit_intercept': False, 'class_weight': None, 'threshold': 0.381}. Best is trial 98 with value: 0.9712806376299612.\n",
      "[I 2025-07-08 07:37:37,805] Trial 449 finished with value: 0.9712266565233486 and parameters: {'solver_penalty': ('newton-cholesky', None), 'C': 9.294459885321828, 'tol': 0.06194934517674793, 'fit_intercept': True, 'class_weight': 'balanced', 'threshold': 0.648}. Best is trial 98 with value: 0.9712806376299612.\n",
      "[I 2025-07-08 07:37:39,515] Trial 451 finished with value: 0.971172675416736 and parameters: {'solver_penalty': ('newton-cholesky', 'l2'), 'C': 9.075963665776305, 'tol': 0.046211135352215126, 'fit_intercept': True, 'class_weight': 'balanced', 'threshold': 0.532}. Best is trial 98 with value: 0.9712806376299612.\n",
      "[I 2025-07-08 07:37:40,253] Trial 452 finished with value: 0.9690132999886325 and parameters: {'solver_penalty': ('lbfgs', None), 'C': 6.373331306615291, 'tol': 0.037129446154514884, 'fit_intercept': True, 'class_weight': 'balanced', 'threshold': 0.5489999999999999}. Best is trial 98 with value: 0.9712806376299612.\n",
      "[I 2025-07-08 07:37:40,933] Trial 453 finished with value: 0.9691212622018579 and parameters: {'solver_penalty': ('lbfgs', None), 'C': 6.158737913566987, 'tol': 0.07006050345440643, 'fit_intercept': True, 'class_weight': 'balanced', 'threshold': 0.621}. Best is trial 98 with value: 0.9712806376299612.\n",
      "[I 2025-07-08 07:37:41,431] Trial 454 finished with value: 0.971172675416736 and parameters: {'solver_penalty': ('newton-cholesky', None), 'C': 7.8393758314284625, 'tol': 0.07719822294328316, 'fit_intercept': True, 'class_weight': 'balanced', 'threshold': 0.614}. Best is trial 98 with value: 0.9712806376299612.\n",
      "[I 2025-07-08 07:37:43,052] Trial 456 finished with value: 0.9694451342678011 and parameters: {'solver_penalty': ('liblinear', 'l2'), 'C': 2.5448361532486747, 'tol': 0.08980578616826593, 'fit_intercept': True, 'class_weight': None, 'threshold': 0.435}. Best is trial 98 with value: 0.9712806376299612.\n",
      "[I 2025-07-08 07:37:43,249] Trial 455 finished with value: 0.971172675416736 and parameters: {'solver_penalty': ('newton-cholesky', None), 'C': 7.48494331789702, 'tol': 0.07142193382295496, 'fit_intercept': True, 'class_weight': 'balanced', 'threshold': 0.617}. Best is trial 98 with value: 0.9712806376299612.\n",
      "[I 2025-07-08 07:37:44,277] Trial 458 finished with value: 0.9691752724559363 and parameters: {'solver_penalty': ('lbfgs', None), 'C': 2.546916596279279, 'tol': 0.06972730126133046, 'fit_intercept': False, 'class_weight': 'balanced', 'threshold': 0.642}. Best is trial 98 with value: 0.9712806376299612.\n",
      "[I 2025-07-08 07:37:44,943] Trial 457 finished with value: 0.9711186943101232 and parameters: {'solver_penalty': ('newton-cholesky', None), 'C': 7.83582343933948, 'tol': 0.03269794372404909, 'fit_intercept': True, 'class_weight': 'balanced', 'threshold': 0.6950000000000001}. Best is trial 98 with value: 0.9712806376299612.\n",
      "[I 2025-07-08 07:37:45,624] Trial 459 finished with value: 0.9691752433084705 and parameters: {'solver_penalty': ('lbfgs', None), 'C': 4.608377639607983, 'tol': 0.028833370037724935, 'fit_intercept': True, 'class_weight': None, 'threshold': 0.407}. Best is trial 98 with value: 0.9712806376299612.\n",
      "[I 2025-07-08 07:37:46,948] Trial 460 finished with value: 0.9711186943101232 and parameters: {'solver_penalty': ('newton-cholesky', None), 'C': 7.681191441721975, 'tol': 0.033625096760023176, 'fit_intercept': True, 'class_weight': 'balanced', 'threshold': 0.611}. Best is trial 98 with value: 0.9712806376299612.\n",
      "[I 2025-07-08 07:37:47,961] Trial 461 finished with value: 0.9711726754167358 and parameters: {'solver_penalty': ('newton-cholesky', 'l2'), 'C': 9.793113100371352, 'tol': 0.030354708764721933, 'fit_intercept': True, 'class_weight': 'balanced', 'threshold': 0.635}. Best is trial 98 with value: 0.9712806376299612.\n",
      "[I 2025-07-08 07:37:48,941] Trial 463 finished with value: 0.9711186943101232 and parameters: {'solver_penalty': ('newton-cholesky', None), 'C': 7.493073540917779, 'tol': 0.07200368573798092, 'fit_intercept': True, 'class_weight': 'balanced', 'threshold': 0.655}. Best is trial 98 with value: 0.9712806376299612.\n",
      "[I 2025-07-08 07:37:48,954] Trial 462 finished with value: 0.9691212622018579 and parameters: {'solver_penalty': ('newton-cg', 'l2'), 'C': 4.720992543320055, 'tol': 0.05425147697524007, 'fit_intercept': True, 'class_weight': 'balanced', 'threshold': 0.5780000000000001}. Best is trial 98 with value: 0.9712806376299612.\n",
      "[I 2025-07-08 07:37:49,511] Trial 464 finished with value: 0.9484448223899173 and parameters: {'solver_penalty': ('liblinear', 'l2'), 'C': 1.3483692392292959, 'tol': 0.05156419227194441, 'fit_intercept': False, 'class_weight': None, 'threshold': 0.535}. Best is trial 98 with value: 0.9712806376299612.\n",
      "[I 2025-07-08 07:37:51,618] Trial 465 finished with value: 0.9711186943101232 and parameters: {'solver_penalty': ('newton-cholesky', None), 'C': 7.333053964152284, 'tol': 0.0746787708968982, 'fit_intercept': True, 'class_weight': 'balanced', 'threshold': 0.655}. Best is trial 98 with value: 0.9712806376299612.\n",
      "[I 2025-07-08 07:37:51,796] Trial 467 finished with value: 0.9685814657094639 and parameters: {'solver_penalty': ('lbfgs', 'l2'), 'C': 8.355094124300038, 'tol': 0.05788688958713691, 'fit_intercept': False, 'class_weight': 'balanced', 'threshold': 0.619}. Best is trial 98 with value: 0.9712806376299612.\n",
      "[I 2025-07-08 07:37:52,531] Trial 466 finished with value: 0.971172675416736 and parameters: {'solver_penalty': ('newton-cholesky', None), 'C': 7.943943304901775, 'tol': 0.08479312767915047, 'fit_intercept': True, 'class_weight': 'balanced', 'threshold': 0.611}. Best is trial 98 with value: 0.9712806376299612.\n",
      "[I 2025-07-08 07:37:53,224] Trial 468 finished with value: 0.971172675416736 and parameters: {'solver_penalty': ('newton-cholesky', None), 'C': 8.516146065624447, 'tol': 0.08106680625921334, 'fit_intercept': True, 'class_weight': 'balanced', 'threshold': 0.603}. Best is trial 98 with value: 0.9712806376299612.\n",
      "[I 2025-07-08 07:37:54,665] Trial 469 finished with value: 0.970848759629594 and parameters: {'solver_penalty': ('liblinear', 'l2'), 'C': 5.432454509816403, 'tol': 0.03618087593134442, 'fit_intercept': True, 'class_weight': 'balanced', 'threshold': 0.591}. Best is trial 98 with value: 0.9712806376299612.\n",
      "[I 2025-07-08 07:37:55,490] Trial 471 finished with value: 0.9687973609884487 and parameters: {'solver_penalty': ('liblinear', 'l1'), 'C': 6.089367062188163, 'tol': 0.03603857410923915, 'fit_intercept': False, 'class_weight': None, 'threshold': 0.602}. Best is trial 98 with value: 0.9712806376299612.\n",
      "[I 2025-07-08 07:37:55,831] Trial 470 finished with value: 0.971172675416736 and parameters: {'solver_penalty': ('newton-cholesky', None), 'C': 9.728414150675958, 'tol': 0.07186973883330418, 'fit_intercept': True, 'class_weight': 'balanced', 'threshold': 0.6799999999999999}. Best is trial 98 with value: 0.9712806376299612.\n",
      "[I 2025-07-08 07:37:56,356] Trial 472 finished with value: 0.9706868017360231 and parameters: {'solver_penalty': ('liblinear', 'l2'), 'C': 5.2140491203552, 'tol': 0.042830623939445624, 'fit_intercept': True, 'class_weight': 'balanced', 'threshold': 0.6819999999999999}. Best is trial 98 with value: 0.9712806376299612.\n",
      "[I 2025-07-08 07:37:57,799] Trial 473 finished with value: 0.2604729030584436 and parameters: {'solver_penalty': ('liblinear', 'l1'), 'C': 9.991664849064488, 'tol': 0.013899189352220655, 'fit_intercept': False, 'class_weight': 'balanced', 'threshold': 0.366}. Best is trial 98 with value: 0.9712806376299612.\n",
      "[I 2025-07-08 07:37:58,824] Trial 474 finished with value: 0.9694451196940683 and parameters: {'solver_penalty': ('liblinear', 'l1'), 'C': 8.164157601563877, 'tol': 0.06565448825415689, 'fit_intercept': True, 'class_weight': 'balanced', 'threshold': 0.579}. Best is trial 98 with value: 0.9712806376299612.\n",
      "[I 2025-07-08 07:37:59,325] Trial 476 finished with value: 0.9689593480294855 and parameters: {'solver_penalty': ('liblinear', 'l1'), 'C': 1.5362149950701234, 'tol': 0.0644290682250077, 'fit_intercept': False, 'class_weight': None, 'threshold': 0.646}. Best is trial 98 with value: 0.9712806376299612.\n",
      "[I 2025-07-08 07:37:59,685] Trial 475 finished with value: 0.9712266565233486 and parameters: {'solver_penalty': ('newton-cholesky', None), 'C': 8.677844287852293, 'tol': 0.04909031638895161, 'fit_intercept': True, 'class_weight': 'balanced', 'threshold': 0.647}. Best is trial 98 with value: 0.9712806376299612.\n",
      "[I 2025-07-08 07:38:00,831] Trial 477 finished with value: 0.9686894279226893 and parameters: {'solver_penalty': ('lbfgs', 'l2'), 'C': 4.142758008319289, 'tol': 0.05514571927484099, 'fit_intercept': False, 'class_weight': 'balanced', 'threshold': 0.62}. Best is trial 98 with value: 0.9712806376299612.\n",
      "[I 2025-07-08 07:38:02,128] Trial 478 finished with value: 0.9709567072690864 and parameters: {'solver_penalty': ('newton-cholesky', None), 'C': 5.267027999938066, 'tol': 0.0674047256889648, 'fit_intercept': True, 'class_weight': None, 'threshold': 0.6990000000000001}. Best is trial 98 with value: 0.9712806376299612.\n",
      "[I 2025-07-08 07:38:03,145] Trial 479 finished with value: 0.9710647132035106 and parameters: {'solver_penalty': ('newton-cholesky', None), 'C': 9.950595048762265, 'tol': 0.035056702786234566, 'fit_intercept': True, 'class_weight': 'balanced', 'threshold': 0.681}. Best is trial 98 with value: 0.9712806376299612.\n",
      "[I 2025-07-08 07:38:03,462] Trial 480 finished with value: 0.971172675416736 and parameters: {'solver_penalty': ('newton-cholesky', None), 'C': 6.566136620477661, 'tol': 0.05815316669821235, 'fit_intercept': True, 'class_weight': 'balanced', 'threshold': 0.603}. Best is trial 98 with value: 0.9712806376299612.\n",
      "[I 2025-07-08 07:38:03,681] Trial 481 finished with value: 0.9707407682689029 and parameters: {'solver_penalty': ('liblinear', 'l2'), 'C': 9.068872725613584, 'tol': 0.04230586280041662, 'fit_intercept': True, 'class_weight': 'balanced', 'threshold': 0.6970000000000001}. Best is trial 98 with value: 0.9712806376299612.\n",
      "[I 2025-07-08 07:38:05,757] Trial 482 finished with value: 0.9709567509902852 and parameters: {'solver_penalty': ('newton-cholesky', None), 'C': 5.883580315165764, 'tol': 0.06654029264528084, 'fit_intercept': True, 'class_weight': 'balanced', 'threshold': 0.563}. Best is trial 98 with value: 0.9712806376299612.\n",
      "[I 2025-07-08 07:38:06,262] Trial 483 finished with value: 0.9666379564128798 and parameters: {'solver_penalty': ('newton-cg', None), 'C': 8.505254391312947, 'tol': 0.0455473560003095, 'fit_intercept': False, 'class_weight': None, 'threshold': 0.554}. Best is trial 98 with value: 0.9712806376299612.\n",
      "[I 2025-07-08 07:38:06,627] Trial 485 finished with value: 0.9707407682689029 and parameters: {'solver_penalty': ('liblinear', 'l2'), 'C': 3.41113993494595, 'tol': 0.018980680839650214, 'fit_intercept': True, 'class_weight': None, 'threshold': 0.511}. Best is trial 98 with value: 0.9712806376299612.\n",
      "[I 2025-07-08 07:38:06,845] Trial 484 finished with value: 0.9712806376299612 and parameters: {'solver_penalty': ('newton-cholesky', None), 'C': 5.142989868704535, 'tol': 0.0694872596092085, 'fit_intercept': True, 'class_weight': 'balanced', 'threshold': 0.635}. Best is trial 98 with value: 0.9712806376299612.\n",
      "[I 2025-07-08 07:38:09,755] Trial 486 finished with value: 0.9690673102427109 and parameters: {'solver_penalty': ('newton-cg', 'l2'), 'C': 5.869972037953756, 'tol': 0.0645052388200005, 'fit_intercept': True, 'class_weight': 'balanced', 'threshold': 0.324}. Best is trial 98 with value: 0.9712806376299612.\n",
      "[I 2025-07-08 07:38:09,757] Trial 487 finished with value: 0.971172675416736 and parameters: {'solver_penalty': ('newton-cholesky', None), 'C': 7.424718834625414, 'tol': 0.06279037458645662, 'fit_intercept': True, 'class_weight': 'balanced', 'threshold': 0.6699999999999999}. Best is trial 98 with value: 0.9712806376299612.\n",
      "[I 2025-07-08 07:38:09,974] Trial 488 finished with value: 0.9712806376299612 and parameters: {'solver_penalty': ('newton-cholesky', None), 'C': 9.877838829128926, 'tol': 0.0595035142596549, 'fit_intercept': True, 'class_weight': 'balanced', 'threshold': 0.631}. Best is trial 98 with value: 0.9712806376299612.\n",
      "[I 2025-07-08 07:38:10,190] Trial 489 finished with value: 0.9712806376299612 and parameters: {'solver_penalty': ('newton-cholesky', None), 'C': 9.609810676407848, 'tol': 0.06694864861448542, 'fit_intercept': True, 'class_weight': 'balanced', 'threshold': 0.633}. Best is trial 98 with value: 0.9712806376299612.\n",
      "[I 2025-07-08 07:38:12,960] Trial 490 finished with value: 0.9711186943101232 and parameters: {'solver_penalty': ('newton-cholesky', None), 'C': 9.933526174061706, 'tol': 0.0630896598013756, 'fit_intercept': True, 'class_weight': 'balanced', 'threshold': 0.5820000000000001}. Best is trial 98 with value: 0.9712806376299612.\n",
      "[I 2025-07-08 07:38:13,301] Trial 492 finished with value: 0.9712266565233486 and parameters: {'solver_penalty': ('newton-cholesky', None), 'C': 3.104954780905223, 'tol': 0.057158771161017856, 'fit_intercept': True, 'class_weight': 'balanced', 'threshold': 0.688}. Best is trial 98 with value: 0.9712806376299612.\n",
      "[I 2025-07-08 07:38:13,304] Trial 491 finished with value: 0.9711186943101232 and parameters: {'solver_penalty': ('newton-cholesky', None), 'C': 9.947477146809398, 'tol': 0.05737302701369767, 'fit_intercept': True, 'class_weight': 'balanced', 'threshold': 0.592}. Best is trial 98 with value: 0.9712806376299612.\n",
      "[I 2025-07-08 07:38:13,538] Trial 493 finished with value: 0.9711186943101232 and parameters: {'solver_penalty': ('newton-cholesky', None), 'C': 5.696005966679049, 'tol': 0.07326801859330363, 'fit_intercept': True, 'class_weight': 'balanced', 'threshold': 0.655}. Best is trial 98 with value: 0.9712806376299612.\n",
      "[I 2025-07-08 07:38:16,433] Trial 496 finished with value: 0.9711186943101232 and parameters: {'solver_penalty': ('newton-cholesky', None), 'C': 4.720793809978527, 'tol': 0.07276123013429636, 'fit_intercept': True, 'class_weight': 'balanced', 'threshold': 0.655}. Best is trial 98 with value: 0.9712806376299612.\n",
      "[I 2025-07-08 07:38:16,437] Trial 495 finished with value: 0.9712806376299612 and parameters: {'solver_penalty': ('newton-cholesky', None), 'C': 6.207994715175026, 'tol': 0.06168474319006232, 'fit_intercept': True, 'class_weight': 'balanced', 'threshold': 0.637}. Best is trial 98 with value: 0.9712806376299612.\n",
      "[I 2025-07-08 07:38:16,632] Trial 494 finished with value: 0.9692292098413503 and parameters: {'solver_penalty': ('newton-cg', 'l2'), 'C': 8.097500617950546, 'tol': 0.0741968492148849, 'fit_intercept': True, 'class_weight': 'balanced', 'threshold': 0.613}. Best is trial 98 with value: 0.9712806376299612.\n",
      "[I 2025-07-08 07:38:16,784] Trial 497 finished with value: 0.971172675416736 and parameters: {'solver_penalty': ('newton-cholesky', None), 'C': 6.647554209171315, 'tol': 0.06994646912703795, 'fit_intercept': True, 'class_weight': 'balanced', 'threshold': 0.615}. Best is trial 98 with value: 0.9712806376299612.\n",
      "[I 2025-07-08 07:38:18,210] Trial 499 finished with value: 0.9710107320968978 and parameters: {'solver_penalty': ('newton-cholesky', None), 'C': 3.475405259552067, 'tol': 0.07384335731984591, 'fit_intercept': True, 'class_weight': 'balanced', 'threshold': 0.537}. Best is trial 98 with value: 0.9712806376299612.\n",
      "[I 2025-07-08 07:38:18,368] Trial 498 finished with value: 0.9691212622018579 and parameters: {'solver_penalty': ('newton-cg', 'l2'), 'C': 6.247624309863199, 'tol': 0.07582493564680365, 'fit_intercept': True, 'class_weight': 'balanced', 'threshold': 0.5700000000000001}. Best is trial 98 with value: 0.9712806376299612.\n"
     ]
    }
   ],
   "source": [
    "def objective(trial):\n",
    "    solver_penalty_options = [\n",
    "        ('liblinear', 'l1'),\n",
    "        ('liblinear', 'l2'),\n",
    "        ('lbfgs', 'l2'),\n",
    "        ('lbfgs', None),\n",
    "        ('newton-cg', 'l2'),\n",
    "        ('newton-cg', None),\n",
    "        ('newton-cholesky', 'l2'),\n",
    "        ('newton-cholesky', None)\n",
    "    ]\n",
    "    solver, penalty = trial.suggest_categorical('solver_penalty', solver_penalty_options)\n",
    "    \n",
    "    params = {\n",
    "        'random_state': CFG.seed,\n",
    "        'max_iter': 500,\n",
    "        'C': trial.suggest_float('C', 0, 10),\n",
    "        'tol': trial.suggest_float('tol', 1e-10, 1e-1),\n",
    "        'fit_intercept': trial.suggest_categorical('fit_intercept', [True, False]),\n",
    "        'class_weight': trial.suggest_categorical('class_weight', ['balanced', None]),\n",
    "        'solver': solver,\n",
    "        'penalty': penalty\n",
    "    }\n",
    "    \n",
    "    threshold = trial.suggest_float('threshold', 0.3, 0.7, step=0.001)\n",
    "    \n",
    "    trainer = Trainer(\n",
    "        LogisticRegression(**params),\n",
    "        cv=CFG.cv,\n",
    "        metric=CFG.metric,\n",
    "        metric_precision=6,\n",
    "        metric_threshold=threshold,\n",
    "        use_early_stopping=False,\n",
    "        verbose=False,\n",
    "        task=\"binary\",\n",
    "    )\n",
    "    trainer.fit(X, y)\n",
    "    \n",
    "    return np.mean(trainer.fold_scores)\n",
    "\n",
    "sampler = optuna.samplers.TPESampler(seed=CFG.seed, multivariate=True, n_startup_trials=CFG.n_optuna_trials // 10)\n",
    "study = optuna.create_study(direction='maximize', sampler=sampler)\n",
    "study.optimize(objective, n_trials=CFG.n_optuna_trials, n_jobs=-1)\n",
    "best_params = study.best_params"
   ]
  },
  {
   "cell_type": "code",
   "execution_count": 20,
   "id": "7dc7276d",
   "metadata": {
    "execution": {
     "iopub.execute_input": "2025-07-08T07:38:18.465564Z",
     "iopub.status.busy": "2025-07-08T07:38:18.465251Z",
     "iopub.status.idle": "2025-07-08T07:38:18.469853Z",
     "shell.execute_reply": "2025-07-08T07:38:18.469093Z"
    },
    "papermill": {
     "duration": 0.047854,
     "end_time": "2025-07-08T07:38:18.471371",
     "exception": false,
     "start_time": "2025-07-08T07:38:18.423517",
     "status": "completed"
    },
    "tags": []
   },
   "outputs": [],
   "source": [
    "solver, penalty = best_params['solver_penalty']\n",
    "lr_params = {\n",
    "    'random_state': CFG.seed,\n",
    "    'max_iter': 500,\n",
    "    'C': best_params['C'],\n",
    "    'tol': best_params['tol'],\n",
    "    'fit_intercept': best_params['fit_intercept'],\n",
    "    'class_weight': best_params['class_weight'],\n",
    "    'solver': solver,\n",
    "    'penalty': penalty\n",
    "}"
   ]
  },
  {
   "cell_type": "code",
   "execution_count": 21,
   "id": "92b5ad13",
   "metadata": {
    "execution": {
     "iopub.execute_input": "2025-07-08T07:38:18.543039Z",
     "iopub.status.busy": "2025-07-08T07:38:18.542699Z",
     "iopub.status.idle": "2025-07-08T07:38:18.547636Z",
     "shell.execute_reply": "2025-07-08T07:38:18.546673Z"
    },
    "papermill": {
     "duration": 0.04222,
     "end_time": "2025-07-08T07:38:18.548859",
     "exception": false,
     "start_time": "2025-07-08T07:38:18.506639",
     "status": "completed"
    },
    "tags": []
   },
   "outputs": [
    {
     "name": "stdout",
     "output_type": "stream",
     "text": [
      "{\n",
      "  \"random_state\": 42,\n",
      "  \"max_iter\": 500,\n",
      "  \"C\": 9.841492496776546,\n",
      "  \"tol\": 0.050696011660424506,\n",
      "  \"fit_intercept\": true,\n",
      "  \"class_weight\": \"balanced\",\n",
      "  \"solver\": \"newton-cholesky\",\n",
      "  \"penalty\": null\n",
      "}\n"
     ]
    }
   ],
   "source": [
    "print(json.dumps(lr_params, indent=2))"
   ]
  },
  {
   "cell_type": "code",
   "execution_count": 22,
   "id": "8775fe7c",
   "metadata": {
    "execution": {
     "iopub.execute_input": "2025-07-08T07:38:18.619694Z",
     "iopub.status.busy": "2025-07-08T07:38:18.619036Z",
     "iopub.status.idle": "2025-07-08T07:38:18.623854Z",
     "shell.execute_reply": "2025-07-08T07:38:18.623094Z"
    },
    "papermill": {
     "duration": 0.041458,
     "end_time": "2025-07-08T07:38:18.625300",
     "exception": false,
     "start_time": "2025-07-08T07:38:18.583842",
     "status": "completed"
    },
    "tags": []
   },
   "outputs": [
    {
     "name": "stdout",
     "output_type": "stream",
     "text": [
      "Best threshold: 0.632\n"
     ]
    }
   ],
   "source": [
    "best_threshold = study.best_params['threshold']\n",
    "print(f'Best threshold: {best_threshold:.3f}')"
   ]
  },
  {
   "cell_type": "code",
   "execution_count": 23,
   "id": "afc4bdf9",
   "metadata": {
    "execution": {
     "iopub.execute_input": "2025-07-08T07:38:18.697245Z",
     "iopub.status.busy": "2025-07-08T07:38:18.696949Z",
     "iopub.status.idle": "2025-07-08T07:38:19.500108Z",
     "shell.execute_reply": "2025-07-08T07:38:19.498831Z"
    },
    "papermill": {
     "duration": 0.840689,
     "end_time": "2025-07-08T07:38:19.501632",
     "exception": false,
     "start_time": "2025-07-08T07:38:18.660943",
     "status": "completed"
    },
    "tags": []
   },
   "outputs": [
    {
     "name": "stdout",
     "output_type": "stream",
     "text": [
      "Training LogisticRegression\n",
      "\n",
      "--- Fold 0 - accuracy_score: 0.972740 - Time: 0.02 s\n",
      "--- Fold 1 - accuracy_score: 0.968961 - Time: 0.02 s\n",
      "--- Fold 2 - accuracy_score: 0.969231 - Time: 0.02 s\n",
      "--- Fold 3 - accuracy_score: 0.971660 - Time: 0.02 s\n",
      "--- Fold 4 - accuracy_score: 0.973812 - Time: 0.02 s\n",
      "\n",
      "------ Overall accuracy_score: 0.971281 - Mean accuracy_score: 0.971281 ± 0.001911 - Time: 0.79 s\n"
     ]
    }
   ],
   "source": [
    "lr_trainer = Trainer(\n",
    "    LogisticRegression(**lr_params),\n",
    "    cv=CFG.cv,\n",
    "    metric=CFG.metric,\n",
    "    metric_threshold=best_threshold,\n",
    "    metric_precision=6,\n",
    "    use_early_stopping=False,\n",
    "    task=\"binary\",\n",
    ")\n",
    "\n",
    "lr_trainer.fit(X, y)\n",
    "\n",
    "scores[\"LogisticRegression\"] = lr_trainer.fold_scores\n",
    "lr_test_pred_probs = lr_trainer.predict(X_test)"
   ]
  },
  {
   "cell_type": "code",
   "execution_count": 24,
   "id": "1e5acd7f",
   "metadata": {
    "execution": {
     "iopub.execute_input": "2025-07-08T07:38:19.574378Z",
     "iopub.status.busy": "2025-07-08T07:38:19.574034Z",
     "iopub.status.idle": "2025-07-08T07:38:19.620595Z",
     "shell.execute_reply": "2025-07-08T07:38:19.619753Z"
    },
    "papermill": {
     "duration": 0.085668,
     "end_time": "2025-07-08T07:38:19.622212",
     "exception": false,
     "start_time": "2025-07-08T07:38:19.536544",
     "status": "completed"
    },
    "tags": []
   },
   "outputs": [
    {
     "data": {
      "text/html": [
       "<div>\n",
       "<style scoped>\n",
       "    .dataframe tbody tr th:only-of-type {\n",
       "        vertical-align: middle;\n",
       "    }\n",
       "\n",
       "    .dataframe tbody tr th {\n",
       "        vertical-align: top;\n",
       "    }\n",
       "\n",
       "    .dataframe thead th {\n",
       "        text-align: right;\n",
       "    }\n",
       "</style>\n",
       "<table border=\"1\" class=\"dataframe\">\n",
       "  <thead>\n",
       "    <tr style=\"text-align: right;\">\n",
       "      <th></th>\n",
       "      <th>id</th>\n",
       "      <th>Personality</th>\n",
       "    </tr>\n",
       "  </thead>\n",
       "  <tbody>\n",
       "    <tr>\n",
       "      <th>0</th>\n",
       "      <td>18524</td>\n",
       "      <td>Extrovert</td>\n",
       "    </tr>\n",
       "    <tr>\n",
       "      <th>1</th>\n",
       "      <td>18525</td>\n",
       "      <td>Introvert</td>\n",
       "    </tr>\n",
       "    <tr>\n",
       "      <th>2</th>\n",
       "      <td>18526</td>\n",
       "      <td>Extrovert</td>\n",
       "    </tr>\n",
       "    <tr>\n",
       "      <th>3</th>\n",
       "      <td>18527</td>\n",
       "      <td>Extrovert</td>\n",
       "    </tr>\n",
       "    <tr>\n",
       "      <th>4</th>\n",
       "      <td>18528</td>\n",
       "      <td>Introvert</td>\n",
       "    </tr>\n",
       "  </tbody>\n",
       "</table>\n",
       "</div>"
      ],
      "text/plain": [
       "      id Personality\n",
       "0  18524   Extrovert\n",
       "1  18525   Introvert\n",
       "2  18526   Extrovert\n",
       "3  18527   Extrovert\n",
       "4  18528   Introvert"
      ]
     },
     "execution_count": 24,
     "metadata": {},
     "output_type": "execute_result"
    }
   ],
   "source": [
    "save_submission('logistic-regression', lr_test_pred_probs, np.mean(scores['LogisticRegression']), best_threshold)"
   ]
  },
  {
   "cell_type": "code",
   "execution_count": 25,
   "id": "a0c7e73d",
   "metadata": {
    "execution": {
     "iopub.execute_input": "2025-07-08T07:38:19.693408Z",
     "iopub.status.busy": "2025-07-08T07:38:19.692576Z",
     "iopub.status.idle": "2025-07-08T07:38:19.696937Z",
     "shell.execute_reply": "2025-07-08T07:38:19.696272Z"
    },
    "papermill": {
     "duration": 0.041117,
     "end_time": "2025-07-08T07:38:19.698298",
     "exception": false,
     "start_time": "2025-07-08T07:38:19.657181",
     "status": "completed"
    },
    "tags": []
   },
   "outputs": [],
   "source": [
    "lr_coeffs = np.zeros((1,len(X.columns)))\n",
    "for estimator in lr_trainer.estimators:\n",
    "    lr_coeffs += estimator.coef_ / CFG.n_folds"
   ]
  },
  {
   "cell_type": "code",
   "execution_count": 26,
   "id": "0bad1900",
   "metadata": {
    "_kg_hide-input": false,
    "execution": {
     "iopub.execute_input": "2025-07-08T07:38:19.770591Z",
     "iopub.status.busy": "2025-07-08T07:38:19.769614Z",
     "iopub.status.idle": "2025-07-08T07:38:20.058068Z",
     "shell.execute_reply": "2025-07-08T07:38:20.057108Z"
    },
    "papermill": {
     "duration": 0.326357,
     "end_time": "2025-07-08T07:38:20.059736",
     "exception": false,
     "start_time": "2025-07-08T07:38:19.733379",
     "status": "completed"
    },
    "tags": []
   },
   "outputs": [
    {
     "data": {
      "image/png": "[encoded data removed]",
      "text/plain": [
       "<Figure size 1000x350 with 1 Axes>"
      ]
     },
     "metadata": {},
     "output_type": "display_data"
    }
   ],
   "source": [
    "plot_weights(lr_coeffs, 'LR Coefficients')"
   ]
  },
  {
   "cell_type": "markdown",
   "id": "7a8c479d",
   "metadata": {
    "papermill": {
     "duration": 0.034981,
     "end_time": "2025-07-08T07:38:20.130584",
     "exception": false,
     "start_time": "2025-07-08T07:38:20.095603",
     "status": "completed"
    },
    "tags": []
   },
   "source": [
    "# Results"
   ]
  },
  {
   "cell_type": "code",
   "execution_count": 27,
   "id": "9b4a2fd3",
   "metadata": {
    "_kg_hide-input": false,
    "execution": {
     "iopub.execute_input": "2025-07-08T07:38:20.203140Z",
     "iopub.status.busy": "2025-07-08T07:38:20.202259Z",
     "iopub.status.idle": "2025-07-08T07:38:20.839437Z",
     "shell.execute_reply": "2025-07-08T07:38:20.838517Z"
    },
    "papermill": {
     "duration": 0.675349,
     "end_time": "2025-07-08T07:38:20.841480",
     "exception": false,
     "start_time": "2025-07-08T07:38:20.166131",
     "status": "completed"
    },
    "tags": []
   },
   "outputs": [
    {
     "data": {
      "image/png": "[encoded data removed]",
      "text/plain": [
       "<Figure size 1500x320 with 2 Axes>"
      ]
     },
     "metadata": {},
     "output_type": "display_data"
    }
   ],
   "source": [
    "scores = pd.DataFrame(scores)\n",
    "mean_scores = scores.mean().sort_values(ascending=False)\n",
    "order = scores.mean().sort_values(ascending=False).index.tolist()\n",
    "\n",
    "min_score = mean_scores.min()\n",
    "max_score = mean_scores.max()\n",
    "padding = (max_score - min_score) * 0.5\n",
    "lower_limit = min_score - padding\n",
    "upper_limit = max_score + padding\n",
    "\n",
    "fig, axs = plt.subplots(1, 2, figsize=(15, scores.shape[1] * 0.4))\n",
    "\n",
    "boxplot = sns.boxplot(data=scores, order=order, ax=axs[0], orient='h', color='grey')\n",
    "axs[0].set_title('Fold Accuracy')\n",
    "axs[0].set_xlabel('')\n",
    "axs[0].set_ylabel('')\n",
    "\n",
    "barplot = sns.barplot(x=mean_scores.values, y=mean_scores.index, ax=axs[1], color='grey')\n",
    "axs[1].set_title('Average Accuracy')\n",
    "axs[1].set_xlabel('')\n",
    "axs[1].set_xlim(left=lower_limit, right=upper_limit)\n",
    "axs[1].set_ylabel('')\n",
    "\n",
    "for i, (score, model) in enumerate(zip(mean_scores.values, mean_scores.index)):\n",
    "    color = 'cyan' if 'logistic' in model.lower() else 'grey'\n",
    "    barplot.patches[i].set_facecolor(color)\n",
    "    boxplot.patches[i].set_facecolor(color)\n",
    "    barplot.text(score, i, round(score, 6), va='center')\n",
    "\n",
    "plt.tight_layout()\n",
    "plt.show()"
   ]
  },
  {
   "cell_type": "code",
   "execution_count": 28,
   "id": "f5ff7856",
   "metadata": {
    "execution": {
     "iopub.execute_input": "2025-07-08T07:38:20.917452Z",
     "iopub.status.busy": "2025-07-08T07:38:20.917154Z",
     "iopub.status.idle": "2025-07-08T07:38:20.922787Z",
     "shell.execute_reply": "2025-07-08T07:38:20.922168Z"
    },
    "papermill": {
     "duration": 0.045254,
     "end_time": "2025-07-08T07:38:20.924091",
     "exception": false,
     "start_time": "2025-07-08T07:38:20.878837",
     "status": "completed"
    },
    "tags": []
   },
   "outputs": [],
   "source": [
    "shutil.rmtree('catboost_info', ignore_errors=True)"
   ]
  }
 ],
 "metadata": {
  "kaggle": {
   "accelerator": "none",
   "dataSources": [
    {
     "databundleVersionId": 12738969,
     "sourceId": 91718,
     "sourceType": "competition"
    },
    {
     "databundleVersionId": 12893755,
     "datasetId": 7777099,
     "sourceId": 12336995,
     "sourceType": "datasetVersion"
    },
    {
     "sourceId": 248501546,
     "sourceType": "kernelVersion"
    }
   ],
   "dockerImageVersionId": 31040,
   "isGpuEnabled": false,
   "isInternetEnabled": true,
   "language": "python",
   "sourceType": "notebook"
  },
  "kernelspec": {
   "display_name": "Python 3",
   "language": "python",
   "name": "python3"
  },
  "language_info": {
   "codemirror_mode": {
    "name": "ipython",
    "version": 3
   },
   "file_extension": ".py",
   "mimetype": "text/x-python",
   "name": "python",
   "nbconvert_exporter": "python",
   "pygments_lexer": "ipython3",
   "version": "3.11.11"
  },
  "papermill": {
   "default_parameters": {},
   "duration": 778.924562,
   "end_time": "2025-07-08T07:38:22.083311",
   "environment_variables": {},
   "exception": null,
   "input_path": "__notebook__.ipynb",
   "output_path": "__notebook__.ipynb",
   "parameters": {},
   "start_time": "2025-07-08T07:25:23.158749",
   "version": "2.6.0"
  }
 },
 "nbformat": 4,
 "nbformat_minor": 5
}
