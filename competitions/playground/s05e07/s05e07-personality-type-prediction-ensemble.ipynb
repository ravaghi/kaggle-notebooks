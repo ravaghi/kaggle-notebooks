{
 "cells": [
  {
   "cell_type": "markdown",
   "id": "5926ad2c",
   "metadata": {
    "papermill": {
     "duration": 0.006933,
     "end_time": "2025-07-01T08:20:17.356340",
     "exception": false,
     "start_time": "2025-07-01T08:20:17.349407",
     "status": "completed"
    },
    "tags": []
   },
   "source": [
    "# Imports and configs"
   ]
  },
  {
   "cell_type": "code",
   "execution_count": 1,
   "id": "07c10b21",
   "metadata": {
    "_kg_hide-output": true,
    "execution": {
     "iopub.execute_input": "2025-07-01T08:20:17.368418Z",
     "iopub.status.busy": "2025-07-01T08:20:17.368036Z",
     "iopub.status.idle": "2025-07-01T08:20:27.356003Z",
     "shell.execute_reply": "2025-07-01T08:20:27.354772Z"
    },
    "papermill": {
     "duration": 9.996074,
     "end_time": "2025-07-01T08:20:27.357930",
     "exception": false,
     "start_time": "2025-07-01T08:20:17.361856",
     "status": "completed"
    },
    "tags": []
   },
   "outputs": [
    {
     "name": "stdout",
     "output_type": "stream",
     "text": [
      "Collecting scikit-learn==1.5.2\r\n",
      "  Downloading scikit_learn-1.5.2-cp311-cp311-manylinux_2_17_x86_64.manylinux2014_x86_64.whl.metadata (13 kB)\r\n",
      "Collecting koolbox\r\n",
      "  Downloading koolbox-0.1.3-py3-none-any.whl.metadata (3.4 kB)\r\n",
      "Requirement already satisfied: numpy>=1.19.5 in /usr/local/lib/python3.11/dist-packages (from scikit-learn==1.5.2) (1.26.4)\r\n",
      "Requirement already satisfied: scipy>=1.6.0 in /usr/local/lib/python3.11/dist-packages (from scikit-learn==1.5.2) (1.15.2)\r\n",
      "Requirement already satisfied: joblib>=1.2.0 in /usr/local/lib/python3.11/dist-packages (from scikit-learn==1.5.2) (1.5.0)\r\n",
      "Requirement already satisfied: threadpoolctl>=3.1.0 in /usr/local/lib/python3.11/dist-packages (from scikit-learn==1.5.2) (3.6.0)\r\n",
      "Requirement already satisfied: optuna>=4.2.1 in /usr/local/lib/python3.11/dist-packages (from koolbox) (4.3.0)\r\n",
      "Requirement already satisfied: pandas>=2.2.3 in /usr/local/lib/python3.11/dist-packages (from koolbox) (2.2.3)\r\n",
      "Requirement already satisfied: mkl_fft in /usr/local/lib/python3.11/dist-packages (from numpy>=1.19.5->scikit-learn==1.5.2) (1.3.8)\r\n",
      "Requirement already satisfied: mkl_random in /usr/local/lib/python3.11/dist-packages (from numpy>=1.19.5->scikit-learn==1.5.2) (1.2.4)\r\n",
      "Requirement already satisfied: mkl_umath in /usr/local/lib/python3.11/dist-packages (from numpy>=1.19.5->scikit-learn==1.5.2) (0.1.1)\r\n",
      "Requirement already satisfied: mkl in /usr/local/lib/python3.11/dist-packages (from numpy>=1.19.5->scikit-learn==1.5.2) (2025.1.0)\r\n",
      "Requirement already satisfied: tbb4py in /usr/local/lib/python3.11/dist-packages (from numpy>=1.19.5->scikit-learn==1.5.2) (2022.1.0)\r\n",
      "Requirement already satisfied: mkl-service in /usr/local/lib/python3.11/dist-packages (from numpy>=1.19.5->scikit-learn==1.5.2) (2.4.1)\r\n",
      "Requirement already satisfied: alembic>=1.5.0 in /usr/local/lib/python3.11/dist-packages (from optuna>=4.2.1->koolbox) (1.15.2)\r\n",
      "Requirement already satisfied: colorlog in /usr/local/lib/python3.11/dist-packages (from optuna>=4.2.1->koolbox) (6.9.0)\r\n",
      "Requirement already satisfied: packaging>=20.0 in /usr/local/lib/python3.11/dist-packages (from optuna>=4.2.1->koolbox) (25.0)\r\n",
      "Requirement already satisfied: sqlalchemy>=1.4.2 in /usr/local/lib/python3.11/dist-packages (from optuna>=4.2.1->koolbox) (2.0.40)\r\n",
      "Requirement already satisfied: tqdm in /usr/local/lib/python3.11/dist-packages (from optuna>=4.2.1->koolbox) (4.67.1)\r\n",
      "Requirement already satisfied: PyYAML in /usr/local/lib/python3.11/dist-packages (from optuna>=4.2.1->koolbox) (6.0.2)\r\n",
      "Requirement already satisfied: python-dateutil>=2.8.2 in /usr/local/lib/python3.11/dist-packages (from pandas>=2.2.3->koolbox) (2.9.0.post0)\r\n",
      "Requirement already satisfied: pytz>=2020.1 in /usr/local/lib/python3.11/dist-packages (from pandas>=2.2.3->koolbox) (2025.2)\r\n",
      "Requirement already satisfied: tzdata>=2022.7 in /usr/local/lib/python3.11/dist-packages (from pandas>=2.2.3->koolbox) (2025.2)\r\n",
      "Requirement already satisfied: Mako in /usr/local/lib/python3.11/dist-packages (from alembic>=1.5.0->optuna>=4.2.1->koolbox) (1.3.10)\r\n",
      "Requirement already satisfied: typing-extensions>=4.12 in /usr/local/lib/python3.11/dist-packages (from alembic>=1.5.0->optuna>=4.2.1->koolbox) (4.13.2)\r\n",
      "Requirement already satisfied: six>=1.5 in /usr/local/lib/python3.11/dist-packages (from python-dateutil>=2.8.2->pandas>=2.2.3->koolbox) (1.17.0)\r\n",
      "Requirement already satisfied: greenlet>=1 in /usr/local/lib/python3.11/dist-packages (from sqlalchemy>=1.4.2->optuna>=4.2.1->koolbox) (3.1.1)\r\n",
      "Requirement already satisfied: intel-openmp<2026,>=2024 in /usr/local/lib/python3.11/dist-packages (from mkl->numpy>=1.19.5->scikit-learn==1.5.2) (2024.2.0)\r\n",
      "Requirement already satisfied: tbb==2022.* in /usr/local/lib/python3.11/dist-packages (from mkl->numpy>=1.19.5->scikit-learn==1.5.2) (2022.1.0)\r\n",
      "Requirement already satisfied: tcmlib==1.* in /usr/local/lib/python3.11/dist-packages (from tbb==2022.*->mkl->numpy>=1.19.5->scikit-learn==1.5.2) (1.3.0)\r\n",
      "Requirement already satisfied: intel-cmplr-lib-rt in /usr/local/lib/python3.11/dist-packages (from mkl_umath->numpy>=1.19.5->scikit-learn==1.5.2) (2024.2.0)\r\n",
      "Requirement already satisfied: intel-cmplr-lib-ur==2024.2.0 in /usr/local/lib/python3.11/dist-packages (from intel-openmp<2026,>=2024->mkl->numpy>=1.19.5->scikit-learn==1.5.2) (2024.2.0)\r\n",
      "Requirement already satisfied: MarkupSafe>=0.9.2 in /usr/local/lib/python3.11/dist-packages (from Mako->alembic>=1.5.0->optuna>=4.2.1->koolbox) (3.0.2)\r\n",
      "Downloading scikit_learn-1.5.2-cp311-cp311-manylinux_2_17_x86_64.manylinux2014_x86_64.whl (13.3 MB)\r\n",
      "\u001b[2K   \u001b[90m━━━━━━━━━━━━━━━━━━━━━━━━━━━━━━━━━━━━━━━━\u001b[0m \u001b[32m13.3/13.3 MB\u001b[0m \u001b[31m66.4 MB/s\u001b[0m eta \u001b[36m0:00:00\u001b[0m\r\n",
      "\u001b[?25hDownloading koolbox-0.1.3-py3-none-any.whl (18 kB)\r\n",
      "Installing collected packages: scikit-learn, koolbox\r\n",
      "  Attempting uninstall: scikit-learn\r\n",
      "    Found existing installation: scikit-learn 1.2.2\r\n",
      "    Uninstalling scikit-learn-1.2.2:\r\n",
      "      Successfully uninstalled scikit-learn-1.2.2\r\n",
      "\u001b[31mERROR: pip's dependency resolver does not currently take into account all the packages that are installed. This behaviour is the source of the following dependency conflicts.\r\n",
      "cesium 0.12.4 requires numpy<3.0,>=2.0, but you have numpy 1.26.4 which is incompatible.\u001b[0m\u001b[31m\r\n",
      "\u001b[0mSuccessfully installed koolbox-0.1.3 scikit-learn-1.5.2\r\n"
     ]
    }
   ],
   "source": [
    "!pip install scikit-learn==1.5.2 koolbox"
   ]
  },
  {
   "cell_type": "code",
   "execution_count": 2,
   "id": "26fb562a",
   "metadata": {
    "execution": {
     "iopub.execute_input": "2025-07-01T08:20:27.372197Z",
     "iopub.status.busy": "2025-07-01T08:20:27.371874Z",
     "iopub.status.idle": "2025-07-01T08:20:37.371505Z",
     "shell.execute_reply": "2025-07-01T08:20:37.370586Z"
    },
    "papermill": {
     "duration": 10.008893,
     "end_time": "2025-07-01T08:20:37.373281",
     "exception": false,
     "start_time": "2025-07-01T08:20:27.364388",
     "status": "completed"
    },
    "tags": []
   },
   "outputs": [],
   "source": [
    "from sklearn.feature_selection import mutual_info_regression\n",
    "from sklearn.ensemble import HistGradientBoostingClassifier\n",
    "from sklearn.linear_model import LogisticRegression\n",
    "from sklearn.model_selection import StratifiedKFold\n",
    "from sklearn.metrics import accuracy_score\n",
    "from catboost import CatBoostClassifier\n",
    "from lightgbm import LGBMClassifier\n",
    "from xgboost import XGBClassifier\n",
    "from scipy.special import logit\n",
    "from koolbox import Trainer\n",
    "import matplotlib.pyplot as plt\n",
    "import seaborn as sns\n",
    "import pandas as pd\n",
    "import numpy as np\n",
    "import warnings\n",
    "import shutil\n",
    "import optuna\n",
    "import json\n",
    "\n",
    "warnings.filterwarnings('ignore')"
   ]
  },
  {
   "cell_type": "code",
   "execution_count": 3,
   "id": "3a7de1bc",
   "metadata": {
    "execution": {
     "iopub.execute_input": "2025-07-01T08:20:37.387088Z",
     "iopub.status.busy": "2025-07-01T08:20:37.386502Z",
     "iopub.status.idle": "2025-07-01T08:20:37.391832Z",
     "shell.execute_reply": "2025-07-01T08:20:37.390936Z"
    },
    "papermill": {
     "duration": 0.013943,
     "end_time": "2025-07-01T08:20:37.393516",
     "exception": false,
     "start_time": "2025-07-01T08:20:37.379573",
     "status": "completed"
    },
    "tags": []
   },
   "outputs": [],
   "source": [
    "class CFG:\n",
    "    train_path = '/kaggle/input/playground-series-s5e7/train.csv'\n",
    "    test_path = '/kaggle/input/playground-series-s5e7/test.csv'\n",
    "    sample_sub_path = '/kaggle/input/playground-series-s5e7/sample_submission.csv'\n",
    "    \n",
    "    target = 'Personality'\n",
    "    n_folds = 5\n",
    "    seed = 42\n",
    "    \n",
    "    cv = StratifiedKFold(n_splits=n_folds, random_state=seed, shuffle=True)\n",
    "    metric = accuracy_score\n",
    "    \n",
    "    n_optuna_trials = 500"
   ]
  },
  {
   "cell_type": "markdown",
   "id": "6c5a912d",
   "metadata": {
    "papermill": {
     "duration": 0.005702,
     "end_time": "2025-07-01T08:20:37.405552",
     "exception": false,
     "start_time": "2025-07-01T08:20:37.399850",
     "status": "completed"
    },
    "tags": []
   },
   "source": [
    "# Data loading and preprocessing"
   ]
  },
  {
   "cell_type": "code",
   "execution_count": 4,
   "id": "0eae2cfb",
   "metadata": {
    "execution": {
     "iopub.execute_input": "2025-07-01T08:20:37.418835Z",
     "iopub.status.busy": "2025-07-01T08:20:37.418459Z",
     "iopub.status.idle": "2025-07-01T08:20:37.657875Z",
     "shell.execute_reply": "2025-07-01T08:20:37.656935Z"
    },
    "papermill": {
     "duration": 0.248174,
     "end_time": "2025-07-01T08:20:37.659708",
     "exception": false,
     "start_time": "2025-07-01T08:20:37.411534",
     "status": "completed"
    },
    "tags": []
   },
   "outputs": [],
   "source": [
    "train = pd.read_csv(CFG.train_path, index_col='id')\n",
    "test = pd.read_csv(CFG.test_path, index_col='id')\n",
    "\n",
    "train[\"Stage_fear\"] = train[\"Stage_fear\"].map({\"No\": 0, \"Yes\": 1})\n",
    "train[\"Drained_after_socializing\"] = train[\"Drained_after_socializing\"].map({\"No\": 0, \"Yes\": 1})\n",
    "\n",
    "test[\"Stage_fear\"] = test[\"Stage_fear\"].map({\"No\": 0, \"Yes\": 1})\n",
    "test[\"Drained_after_socializing\"] = test[\"Drained_after_socializing\"].map({\"No\": 0, \"Yes\": 1})\n",
    "\n",
    "train[CFG.target] = train[CFG.target].map({\"Extrovert\": 0, \"Introvert\": 1})\n",
    "\n",
    "X = train.drop(CFG.target, axis=1)\n",
    "y = train[CFG.target]\n",
    "X_test = test"
   ]
  },
  {
   "cell_type": "code",
   "execution_count": 5,
   "id": "c44e616c",
   "metadata": {
    "execution": {
     "iopub.execute_input": "2025-07-01T08:20:37.673260Z",
     "iopub.status.busy": "2025-07-01T08:20:37.672931Z",
     "iopub.status.idle": "2025-07-01T08:20:38.097159Z",
     "shell.execute_reply": "2025-07-01T08:20:38.096225Z"
    },
    "papermill": {
     "duration": 0.433052,
     "end_time": "2025-07-01T08:20:38.099005",
     "exception": false,
     "start_time": "2025-07-01T08:20:37.665953",
     "status": "completed"
    },
    "tags": []
   },
   "outputs": [
    {
     "data": {
      "image/png": "[encoded data removed]",
      "text/plain": [
       "<Figure size 800x800 with 1 Axes>"
      ]
     },
     "metadata": {},
     "output_type": "display_data"
    }
   ],
   "source": [
    "sns.set_style(\"white\")\n",
    "plt.figure(figsize=(8, 8))\n",
    "\n",
    "corr_train = train.corr()\n",
    "mask_train = np.triu(np.ones_like(corr_train, dtype=bool), k=1)\n",
    "\n",
    "sns.heatmap(\n",
    "    data=corr_train,\n",
    "    annot=True,\n",
    "    fmt='.4f',\n",
    "    mask=mask_train,\n",
    "    square=True,\n",
    "    cmap='coolwarm',\n",
    "    annot_kws={'size': 8},\n",
    "    cbar=False\n",
    ")\n",
    "\n",
    "plt.tight_layout()\n",
    "plt.show()"
   ]
  },
  {
   "cell_type": "code",
   "execution_count": 6,
   "id": "065dbb05",
   "metadata": {
    "execution": {
     "iopub.execute_input": "2025-07-01T08:20:38.116570Z",
     "iopub.status.busy": "2025-07-01T08:20:38.115901Z",
     "iopub.status.idle": "2025-07-01T08:20:39.144597Z",
     "shell.execute_reply": "2025-07-01T08:20:39.143489Z"
    },
    "papermill": {
     "duration": 1.038825,
     "end_time": "2025-07-01T08:20:39.146245",
     "exception": false,
     "start_time": "2025-07-01T08:20:38.107420",
     "status": "completed"
    },
    "tags": []
   },
   "outputs": [
    {
     "data": {
      "text/html": [
       "<style type=\"text/css\">\n",
       "#T_df009_row0_col0 {\n",
       "  width: 10em;\n",
       "  background: linear-gradient(90deg, #006837 100.0%, transparent 100.0%);\n",
       "}\n",
       "#T_df009_row1_col0 {\n",
       "  width: 10em;\n",
       "  background: linear-gradient(90deg, #0b7d42 95.5%, transparent 95.5%);\n",
       "}\n",
       "#T_df009_row2_col0 {\n",
       "  width: 10em;\n",
       "  background: linear-gradient(90deg, #108647 93.5%, transparent 93.5%);\n",
       "}\n",
       "#T_df009_row3_col0 {\n",
       "  width: 10em;\n",
       "  background: linear-gradient(90deg, #219c52 89.0%, transparent 89.0%);\n",
       "}\n",
       "#T_df009_row4_col0 {\n",
       "  width: 10em;\n",
       "  background: linear-gradient(90deg, #249d53 88.7%, transparent 88.7%);\n",
       "}\n",
       "#T_df009_row5_col0 {\n",
       "  width: 10em;\n",
       "  background: linear-gradient(90deg, #36a657 86.0%, transparent 86.0%);\n",
       "}\n",
       "#T_df009_row6_col0 {\n",
       "  width: 10em;\n",
       "  background: linear-gradient(90deg, #5ab760 81.6%, transparent 81.6%);\n",
       "}\n",
       "</style>\n",
       "<table id=\"T_df009\">\n",
       "  <thead>\n",
       "    <tr>\n",
       "      <th class=\"blank level0\" >&nbsp;</th>\n",
       "      <th id=\"T_df009_level0_col0\" class=\"col_heading level0 col0\" >Mutual Information</th>\n",
       "    </tr>\n",
       "  </thead>\n",
       "  <tbody>\n",
       "    <tr>\n",
       "      <th id=\"T_df009_level0_row0\" class=\"row_heading level0 row0\" >Time_spent_Alone</th>\n",
       "      <td id=\"T_df009_row0_col0\" class=\"data row0 col0\" >0.353570</td>\n",
       "    </tr>\n",
       "    <tr>\n",
       "      <th id=\"T_df009_level0_row1\" class=\"row_heading level0 row1\" >Drained_after_socializing</th>\n",
       "      <td id=\"T_df009_row1_col0\" class=\"data row1 col0\" >0.337575</td>\n",
       "    </tr>\n",
       "    <tr>\n",
       "      <th id=\"T_df009_level0_row2\" class=\"row_heading level0 row2\" >Social_event_attendance</th>\n",
       "      <td id=\"T_df009_row2_col0\" class=\"data row2 col0\" >0.330482</td>\n",
       "    </tr>\n",
       "    <tr>\n",
       "      <th id=\"T_df009_level0_row3\" class=\"row_heading level0 row3\" >Stage_fear</th>\n",
       "      <td id=\"T_df009_row3_col0\" class=\"data row3 col0\" >0.314673</td>\n",
       "    </tr>\n",
       "    <tr>\n",
       "      <th id=\"T_df009_level0_row4\" class=\"row_heading level0 row4\" >Post_frequency</th>\n",
       "      <td id=\"T_df009_row4_col0\" class=\"data row4 col0\" >0.313469</td>\n",
       "    </tr>\n",
       "    <tr>\n",
       "      <th id=\"T_df009_level0_row5\" class=\"row_heading level0 row5\" >Going_outside</th>\n",
       "      <td id=\"T_df009_row5_col0\" class=\"data row5 col0\" >0.304151</td>\n",
       "    </tr>\n",
       "    <tr>\n",
       "      <th id=\"T_df009_level0_row6\" class=\"row_heading level0 row6\" >Friends_circle_size</th>\n",
       "      <td id=\"T_df009_row6_col0\" class=\"data row6 col0\" >0.288645</td>\n",
       "    </tr>\n",
       "  </tbody>\n",
       "</table>\n"
      ],
      "text/plain": [
       "<pandas.io.formats.style.Styler at 0x7e982054e310>"
      ]
     },
     "execution_count": 6,
     "metadata": {},
     "output_type": "execute_result"
    }
   ],
   "source": [
    "mutual_info = mutual_info_regression(X.fillna(0), y, random_state=CFG.seed)\n",
    "\n",
    "mutual_info = pd.Series(mutual_info)\n",
    "mutual_info.index = X.columns\n",
    "mutual_info = pd.DataFrame(mutual_info.sort_values(ascending=False), columns=['Mutual Information'])\n",
    "mutual_info.style.bar(subset=['Mutual Information'], cmap='RdYlGn')"
   ]
  },
  {
   "cell_type": "markdown",
   "id": "f23867c7",
   "metadata": {
    "papermill": {
     "duration": 0.007294,
     "end_time": "2025-07-01T08:20:39.161920",
     "exception": false,
     "start_time": "2025-07-01T08:20:39.154626",
     "status": "completed"
    },
    "tags": []
   },
   "source": [
    "# Training base models"
   ]
  },
  {
   "cell_type": "code",
   "execution_count": 7,
   "id": "1c6555aa",
   "metadata": {
    "execution": {
     "iopub.execute_input": "2025-07-01T08:20:39.179209Z",
     "iopub.status.busy": "2025-07-01T08:20:39.178276Z",
     "iopub.status.idle": "2025-07-01T08:20:39.184207Z",
     "shell.execute_reply": "2025-07-01T08:20:39.183130Z"
    },
    "papermill": {
     "duration": 0.016341,
     "end_time": "2025-07-01T08:20:39.185898",
     "exception": false,
     "start_time": "2025-07-01T08:20:39.169557",
     "status": "completed"
    },
    "tags": []
   },
   "outputs": [],
   "source": [
    "def save_submission(name, test_pred_probs, score, threshold=0.5):\n",
    "    sub = pd.read_csv(CFG.sample_sub_path)\n",
    "    sub[CFG.target] = (test_pred_probs > threshold).astype(int)\n",
    "    sub[CFG.target] = sub[CFG.target].map({0: \"Extrovert\", 1: \"Introvert\"})\n",
    "    sub.to_csv(f'sub_{name}_{score:.6f}.csv', index=False)\n",
    "    return sub.head()"
   ]
  },
  {
   "cell_type": "code",
   "execution_count": 8,
   "id": "c97027e5",
   "metadata": {
    "_kg_hide-input": true,
    "_kg_hide-output": true,
    "execution": {
     "iopub.execute_input": "2025-07-01T08:20:39.202856Z",
     "iopub.status.busy": "2025-07-01T08:20:39.202486Z",
     "iopub.status.idle": "2025-07-01T08:20:39.212193Z",
     "shell.execute_reply": "2025-07-01T08:20:39.211241Z"
    },
    "papermill": {
     "duration": 0.020081,
     "end_time": "2025-07-01T08:20:39.213759",
     "exception": false,
     "start_time": "2025-07-01T08:20:39.193678",
     "status": "completed"
    },
    "tags": []
   },
   "outputs": [],
   "source": [
    "cb_params = {\n",
    "    \"border_count\": 180,\n",
    "    \"colsample_bylevel\": 0.7351678905666684,\n",
    "    \"depth\": 4,\n",
    "    \"iterations\": 2372,\n",
    "    \"l2_leaf_reg\": 4.442847441200204,\n",
    "    \"learning_rate\": 0.0514109059943355,\n",
    "    \"min_child_samples\": 146,\n",
    "    \"random_state\": 42,\n",
    "    \"random_strength\": 0.18678416655567043,\n",
    "    \"scale_pos_weight\": 1.019889465491297,\n",
    "    \"subsample\": 0.3511896501762123,\n",
    "    \"verbose\": False\n",
    "}\n",
    "\n",
    "xgb_params = {\n",
    "    \"colsample_bylevel\": 0.25155109886677396,\n",
    "    \"colsample_bynode\": 0.5723191165109757,\n",
    "    \"colsample_bytree\": 0.18034301813835885,\n",
    "    \"gamma\": 3.6392698070258622,\n",
    "    \"max_bins\": 26161,\n",
    "    \"max_depth\": 16,\n",
    "    \"max_leaves\": 67,\n",
    "    \"min_child_weight\": 34,\n",
    "    \"n_estimators\": 3853,\n",
    "    \"n_jobs\": -1,\n",
    "    \"random_state\": 42,\n",
    "    \"reg_alpha\": 7.996080341061729,\n",
    "    \"reg_lambda\": 46.83054555763492,\n",
    "    \"scale_pos_weight\": 1.2157646356820928,\n",
    "    \"subsample\": 0.9117754083869292\n",
    "}\n",
    "\n",
    "hgb_params = {\n",
    "    'l2_regularization': 3.2797348813056515,\n",
    "    'learning_rate': 0.04290001508632896,\n",
    "    'max_depth': 292,\n",
    "    'max_features': 0.9605841946578942,\n",
    "    'max_iter': 2978,\n",
    "    'max_leaf_nodes': 38,\n",
    "    'min_samples_leaf': 254,\n",
    "    'random_state': 42\n",
    "}\n",
    "\n",
    "lgbm_params = {\n",
    "    \"boosting_type\": \"gbdt\",\n",
    "    \"colsample_bytree\": 0.18283018243382332,\n",
    "    \"learning_rate\": 0.09945326391012832,\n",
    "    \"max_bins\": 36644,\n",
    "    \"min_child_samples\": 105,\n",
    "    \"min_child_weight\": 0.2083765599710974,\n",
    "    \"n_estimators\": 244,\n",
    "    \"n_jobs\": -1,\n",
    "    \"num_leaves\": 122,\n",
    "    \"random_state\": 42,\n",
    "    \"reg_alpha\": 8.662578235164972,\n",
    "    \"reg_lambda\": 3.5696291074963926,\n",
    "    \"scale_pos_weight\": 1.0733293968870794,\n",
    "    \"subsample\": 0.5360642841695424,\n",
    "    \"verbose\": -1\n",
    "}\n",
    "\n",
    "lgbm_goss_params = {\n",
    "    \"boosting_type\": \"goss\",\n",
    "    \"colsample_bytree\": 0.11905309670044416,\n",
    "    \"learning_rate\": 0.04641567005485582,\n",
    "    \"max_bins\": 18501,\n",
    "    \"min_child_samples\": 283,\n",
    "    \"min_child_weight\": 0.5242575557671028,\n",
    "    \"n_estimators\": 966,\n",
    "    \"n_jobs\": -1,\n",
    "    \"num_leaves\": 159,\n",
    "    \"random_state\": 42,\n",
    "    \"reg_alpha\": 8.160196501794122,\n",
    "    \"reg_lambda\": 9.861767101758469,\n",
    "    \"scale_pos_weight\": 0.991416082619142,\n",
    "    \"subsample\": 0.9259030065865966,\n",
    "    \"verbose\": -1\n",
    "}\n",
    "\n",
    "lgbm_dart_params = {\n",
    "    \"boosting_type\": \"dart\",\n",
    "    \"colsample_bytree\": 0.1181378019860333,\n",
    "    \"learning_rate\": 0.0910272033595692,\n",
    "    \"max_bins\": 7386,\n",
    "    \"min_child_samples\": 225,\n",
    "    \"min_child_weight\": 0.28492487885169293,\n",
    "    \"n_estimators\": 1454,\n",
    "    \"n_jobs\": -1,\n",
    "    \"num_leaves\": 163,\n",
    "    \"random_state\": 42,\n",
    "    \"reg_alpha\": 2.9686583338116925,\n",
    "    \"reg_lambda\": 9.781841345026509,\n",
    "    \"scale_pos_weight\": 0.8309734952725212,\n",
    "    \"subsample\": 0.511061530253864,\n",
    "    \"verbose\": -1\n",
    "}"
   ]
  },
  {
   "cell_type": "code",
   "execution_count": 9,
   "id": "a6777d88",
   "metadata": {
    "execution": {
     "iopub.execute_input": "2025-07-01T08:20:39.230622Z",
     "iopub.status.busy": "2025-07-01T08:20:39.230305Z",
     "iopub.status.idle": "2025-07-01T08:20:39.234610Z",
     "shell.execute_reply": "2025-07-01T08:20:39.233709Z"
    },
    "papermill": {
     "duration": 0.014501,
     "end_time": "2025-07-01T08:20:39.236207",
     "exception": false,
     "start_time": "2025-07-01T08:20:39.221706",
     "status": "completed"
    },
    "tags": []
   },
   "outputs": [],
   "source": [
    "scores = {}\n",
    "oof_pred_probs = {}\n",
    "test_pred_probs = {}"
   ]
  },
  {
   "cell_type": "markdown",
   "id": "957fe9cb",
   "metadata": {
    "papermill": {
     "duration": 0.007292,
     "end_time": "2025-07-01T08:20:39.251581",
     "exception": false,
     "start_time": "2025-07-01T08:20:39.244289",
     "status": "completed"
    },
    "tags": []
   },
   "source": [
    "## CatBoost"
   ]
  },
  {
   "cell_type": "code",
   "execution_count": 10,
   "id": "2cb77417",
   "metadata": {
    "execution": {
     "iopub.execute_input": "2025-07-01T08:20:39.268109Z",
     "iopub.status.busy": "2025-07-01T08:20:39.267788Z",
     "iopub.status.idle": "2025-07-01T08:21:18.349827Z",
     "shell.execute_reply": "2025-07-01T08:21:18.348596Z"
    },
    "papermill": {
     "duration": 39.092251,
     "end_time": "2025-07-01T08:21:18.351513",
     "exception": false,
     "start_time": "2025-07-01T08:20:39.259262",
     "status": "completed"
    },
    "tags": []
   },
   "outputs": [
    {
     "name": "stdout",
     "output_type": "stream",
     "text": [
      "Training CatBoostClassifier\n",
      "\n",
      "--- Fold 0 - accuracy_score: 0.969771 - Time: 7.61 s\n",
      "--- Fold 1 - accuracy_score: 0.966262 - Time: 8.03 s\n",
      "--- Fold 2 - accuracy_score: 0.964912 - Time: 7.47 s\n",
      "--- Fold 3 - accuracy_score: 0.970310 - Time: 7.52 s\n",
      "--- Fold 4 - accuracy_score: 0.970032 - Time: 7.67 s\n",
      "\n",
      "------ Overall accuracy_score: 0.968257 - Mean accuracy_score: 0.968257 ± 0.002228 - Time: 39.02 s\n"
     ]
    }
   ],
   "source": [
    "cb_trainer = Trainer(\n",
    "    CatBoostClassifier(**cb_params),\n",
    "    cv=CFG.cv,\n",
    "    metric=CFG.metric,\n",
    "    use_early_stopping=False,\n",
    "    task=\"binary\",\n",
    "    metric_precision=6,\n",
    ")\n",
    "\n",
    "cb_trainer.fit(X, y)\n",
    "\n",
    "scores[\"CatBoost\"] = cb_trainer.fold_scores\n",
    "oof_pred_probs[\"CatBoost\"] = cb_trainer.oof_preds\n",
    "test_pred_probs[\"CatBoost\"] = cb_trainer.predict(X_test)"
   ]
  },
  {
   "cell_type": "markdown",
   "id": "59a1cd0e",
   "metadata": {
    "papermill": {
     "duration": 0.008319,
     "end_time": "2025-07-01T08:21:18.368477",
     "exception": false,
     "start_time": "2025-07-01T08:21:18.360158",
     "status": "completed"
    },
    "tags": []
   },
   "source": [
    "## XGBoost"
   ]
  },
  {
   "cell_type": "code",
   "execution_count": 11,
   "id": "c534f70c",
   "metadata": {
    "execution": {
     "iopub.execute_input": "2025-07-01T08:21:18.385524Z",
     "iopub.status.busy": "2025-07-01T08:21:18.385215Z",
     "iopub.status.idle": "2025-07-01T08:21:29.245261Z",
     "shell.execute_reply": "2025-07-01T08:21:29.243620Z"
    },
    "papermill": {
     "duration": 10.870856,
     "end_time": "2025-07-01T08:21:29.247190",
     "exception": false,
     "start_time": "2025-07-01T08:21:18.376334",
     "status": "completed"
    },
    "tags": []
   },
   "outputs": [
    {
     "name": "stdout",
     "output_type": "stream",
     "text": [
      "Training XGBClassifier\n",
      "\n",
      "--- Fold 0 - accuracy_score: 0.969231 - Time: 1.72 s\n",
      "--- Fold 1 - accuracy_score: 0.966532 - Time: 1.78 s\n",
      "--- Fold 2 - accuracy_score: 0.964912 - Time: 1.63 s\n",
      "--- Fold 3 - accuracy_score: 0.970310 - Time: 1.61 s\n",
      "--- Fold 4 - accuracy_score: 0.971652 - Time: 3.25 s\n",
      "\n",
      "------ Overall accuracy_score: 0.968527 - Mean accuracy_score: 0.968527 ± 0.002469 - Time: 10.72 s\n"
     ]
    }
   ],
   "source": [
    "xgb_trainer = Trainer(\n",
    "    XGBClassifier(**xgb_params),\n",
    "    cv=CFG.cv,\n",
    "    metric=CFG.metric,\n",
    "    task=\"binary\",\n",
    "    metric_precision=6,\n",
    ")\n",
    "\n",
    "xgb_trainer.fit(X, y)\n",
    "\n",
    "scores[\"XGBoost\"] = xgb_trainer.fold_scores\n",
    "oof_pred_probs[\"XGBoost\"] = xgb_trainer.oof_preds\n",
    "test_pred_probs[\"XGBoost\"] = xgb_trainer.predict(X_test)"
   ]
  },
  {
   "cell_type": "markdown",
   "id": "c1474fe4",
   "metadata": {
    "papermill": {
     "duration": 0.008033,
     "end_time": "2025-07-01T08:21:29.264177",
     "exception": false,
     "start_time": "2025-07-01T08:21:29.256144",
     "status": "completed"
    },
    "tags": []
   },
   "source": [
    "## HistGradientBoostingClassifier"
   ]
  },
  {
   "cell_type": "code",
   "execution_count": 12,
   "id": "29782588",
   "metadata": {
    "execution": {
     "iopub.execute_input": "2025-07-01T08:21:29.281850Z",
     "iopub.status.busy": "2025-07-01T08:21:29.281521Z",
     "iopub.status.idle": "2025-07-01T08:21:32.550203Z",
     "shell.execute_reply": "2025-07-01T08:21:32.549133Z"
    },
    "papermill": {
     "duration": 3.279631,
     "end_time": "2025-07-01T08:21:32.551992",
     "exception": false,
     "start_time": "2025-07-01T08:21:29.272361",
     "status": "completed"
    },
    "tags": []
   },
   "outputs": [
    {
     "name": "stdout",
     "output_type": "stream",
     "text": [
      "Training HistGradientBoostingClassifier\n",
      "\n",
      "--- Fold 0 - accuracy_score: 0.969771 - Time: 0.36 s\n",
      "--- Fold 1 - accuracy_score: 0.967072 - Time: 0.55 s\n",
      "--- Fold 2 - accuracy_score: 0.965992 - Time: 0.52 s\n",
      "--- Fold 3 - accuracy_score: 0.970040 - Time: 0.46 s\n",
      "--- Fold 4 - accuracy_score: 0.970842 - Time: 0.45 s\n",
      "\n",
      "------ Overall accuracy_score: 0.968743 - Mean accuracy_score: 0.968743 ± 0.001871 - Time: 3.05 s\n"
     ]
    }
   ],
   "source": [
    "hgb_trainer = Trainer(\n",
    "    HistGradientBoostingClassifier(**hgb_params),\n",
    "    cv=CFG.cv,\n",
    "    metric=CFG.metric,\n",
    "    task=\"binary\",\n",
    "    metric_precision=6,\n",
    ")\n",
    "\n",
    "hgb_trainer.fit(X, y)\n",
    "\n",
    "scores[\"HistGradientBoosting\"] = hgb_trainer.fold_scores\n",
    "oof_pred_probs[\"HistGradientBoosting\"] = hgb_trainer.oof_preds\n",
    "test_pred_probs[\"HistGradientBoosting\"] = hgb_trainer.predict(X_test)"
   ]
  },
  {
   "cell_type": "markdown",
   "id": "2fe57d21",
   "metadata": {
    "papermill": {
     "duration": 0.008238,
     "end_time": "2025-07-01T08:21:32.569125",
     "exception": false,
     "start_time": "2025-07-01T08:21:32.560887",
     "status": "completed"
    },
    "tags": []
   },
   "source": [
    "## LightGBM (gbdt)"
   ]
  },
  {
   "cell_type": "code",
   "execution_count": 13,
   "id": "e1e30f99",
   "metadata": {
    "execution": {
     "iopub.execute_input": "2025-07-01T08:21:32.588992Z",
     "iopub.status.busy": "2025-07-01T08:21:32.588491Z",
     "iopub.status.idle": "2025-07-01T08:21:34.281437Z",
     "shell.execute_reply": "2025-07-01T08:21:34.279659Z"
    },
    "papermill": {
     "duration": 1.705858,
     "end_time": "2025-07-01T08:21:34.283422",
     "exception": false,
     "start_time": "2025-07-01T08:21:32.577564",
     "status": "completed"
    },
    "tags": []
   },
   "outputs": [
    {
     "name": "stdout",
     "output_type": "stream",
     "text": [
      "Training LGBMClassifier\n",
      "\n",
      "--- Fold 0 - accuracy_score: 0.969231 - Time: 0.27 s\n",
      "--- Fold 1 - accuracy_score: 0.967611 - Time: 0.14 s\n",
      "--- Fold 2 - accuracy_score: 0.965722 - Time: 0.14 s\n",
      "--- Fold 3 - accuracy_score: 0.970580 - Time: 0.16 s\n",
      "--- Fold 4 - accuracy_score: 0.971652 - Time: 0.16 s\n",
      "\n",
      "------ Overall accuracy_score: 0.968959 - Mean accuracy_score: 0.968959 ± 0.002110 - Time: 1.60 s\n"
     ]
    }
   ],
   "source": [
    "lgbm_gbdt_trainer = Trainer(\n",
    "    LGBMClassifier(**lgbm_params),\n",
    "    cv=CFG.cv,\n",
    "    metric=CFG.metric,\n",
    "    use_early_stopping=False,\n",
    "    task=\"binary\",\n",
    "    metric_precision=6,\n",
    ")\n",
    "\n",
    "lgbm_gbdt_trainer.fit(X, y)\n",
    "\n",
    "scores[\"LightGBM (gbdt)\"] = lgbm_gbdt_trainer.fold_scores\n",
    "oof_pred_probs[\"LightGBM (gbdt)\"] = lgbm_gbdt_trainer.oof_preds\n",
    "test_pred_probs[\"LightGBM (gbdt)\"] = lgbm_gbdt_trainer.predict(X_test)"
   ]
  },
  {
   "cell_type": "markdown",
   "id": "bc3aaed5",
   "metadata": {
    "papermill": {
     "duration": 0.009467,
     "end_time": "2025-07-01T08:21:34.303215",
     "exception": false,
     "start_time": "2025-07-01T08:21:34.293748",
     "status": "completed"
    },
    "tags": []
   },
   "source": [
    "## LightGBM (goss)"
   ]
  },
  {
   "cell_type": "code",
   "execution_count": 14,
   "id": "0e4c550a",
   "metadata": {
    "execution": {
     "iopub.execute_input": "2025-07-01T08:21:34.322747Z",
     "iopub.status.busy": "2025-07-01T08:21:34.322414Z",
     "iopub.status.idle": "2025-07-01T08:21:39.507317Z",
     "shell.execute_reply": "2025-07-01T08:21:39.506577Z"
    },
    "papermill": {
     "duration": 5.196964,
     "end_time": "2025-07-01T08:21:39.508963",
     "exception": false,
     "start_time": "2025-07-01T08:21:34.311999",
     "status": "completed"
    },
    "tags": []
   },
   "outputs": [
    {
     "name": "stdout",
     "output_type": "stream",
     "text": [
      "Training LGBMClassifier\n",
      "\n",
      "--- Fold 0 - accuracy_score: 0.969501 - Time: 0.81 s\n",
      "--- Fold 1 - accuracy_score: 0.967611 - Time: 0.79 s\n",
      "--- Fold 2 - accuracy_score: 0.965452 - Time: 0.88 s\n",
      "--- Fold 3 - accuracy_score: 0.970580 - Time: 0.84 s\n",
      "--- Fold 4 - accuracy_score: 0.971112 - Time: 0.81 s\n",
      "\n",
      "------ Overall accuracy_score: 0.968851 - Mean accuracy_score: 0.968851 ± 0.002079 - Time: 4.84 s\n"
     ]
    }
   ],
   "source": [
    "lgbm_goss_trainer = Trainer(\n",
    "    LGBMClassifier(**lgbm_goss_params),\n",
    "    cv=CFG.cv,\n",
    "    metric=CFG.metric,\n",
    "    use_early_stopping=False,\n",
    "    task=\"binary\",\n",
    "    metric_precision=6,\n",
    ")\n",
    "\n",
    "lgbm_goss_trainer.fit(X, y)\n",
    "\n",
    "scores[\"LightGBM (goss)\"] = lgbm_goss_trainer.fold_scores\n",
    "oof_pred_probs[\"LightGBM (goss)\"] = lgbm_goss_trainer.oof_preds\n",
    "test_pred_probs[\"LightGBM (goss)\"] = lgbm_goss_trainer.predict(X_test)"
   ]
  },
  {
   "cell_type": "markdown",
   "id": "7d5761e9",
   "metadata": {
    "papermill": {
     "duration": 0.009442,
     "end_time": "2025-07-01T08:21:39.528400",
     "exception": false,
     "start_time": "2025-07-01T08:21:39.518958",
     "status": "completed"
    },
    "tags": []
   },
   "source": [
    "## LightGBM (dart)"
   ]
  },
  {
   "cell_type": "code",
   "execution_count": 15,
   "id": "ac9d65d5",
   "metadata": {
    "execution": {
     "iopub.execute_input": "2025-07-01T08:21:39.548302Z",
     "iopub.status.busy": "2025-07-01T08:21:39.547962Z",
     "iopub.status.idle": "2025-07-01T08:22:27.328761Z",
     "shell.execute_reply": "2025-07-01T08:22:27.327942Z"
    },
    "papermill": {
     "duration": 47.7927,
     "end_time": "2025-07-01T08:22:27.330462",
     "exception": false,
     "start_time": "2025-07-01T08:21:39.537762",
     "status": "completed"
    },
    "tags": []
   },
   "outputs": [
    {
     "name": "stdout",
     "output_type": "stream",
     "text": [
      "Training LGBMClassifier\n",
      "\n",
      "--- Fold 0 - accuracy_score: 0.969501 - Time: 9.14 s\n",
      "--- Fold 1 - accuracy_score: 0.967881 - Time: 8.52 s\n",
      "--- Fold 2 - accuracy_score: 0.965452 - Time: 10.81 s\n",
      "--- Fold 3 - accuracy_score: 0.970850 - Time: 9.14 s\n",
      "--- Fold 4 - accuracy_score: 0.971112 - Time: 8.85 s\n",
      "\n",
      "------ Overall accuracy_score: 0.968959 - Mean accuracy_score: 0.968959 ± 0.002096 - Time: 47.18 s\n"
     ]
    }
   ],
   "source": [
    "lgbm_dart_trainer = Trainer(\n",
    "    LGBMClassifier(**lgbm_dart_params),\n",
    "    cv=CFG.cv,\n",
    "    metric=CFG.metric,\n",
    "    use_early_stopping=False,\n",
    "    task=\"binary\",\n",
    "    metric_precision=6,\n",
    ")\n",
    "\n",
    "lgbm_dart_trainer.fit(X, y)\n",
    "\n",
    "scores[\"LightGBM (dart)\"] = lgbm_dart_trainer.fold_scores\n",
    "oof_pred_probs[\"LightGBM (dart)\"] = lgbm_dart_trainer.oof_preds\n",
    "test_pred_probs[\"LightGBM (dart)\"] = lgbm_dart_trainer.predict(X_test)"
   ]
  },
  {
   "cell_type": "markdown",
   "id": "883c3bd1",
   "metadata": {
    "papermill": {
     "duration": 0.009861,
     "end_time": "2025-07-01T08:22:27.350290",
     "exception": false,
     "start_time": "2025-07-01T08:22:27.340429",
     "status": "completed"
    },
    "tags": []
   },
   "source": [
    "# Ensembling with Logistic Regression"
   ]
  },
  {
   "cell_type": "code",
   "execution_count": 16,
   "id": "a4bdbd58",
   "metadata": {
    "_kg_hide-input": true,
    "execution": {
     "iopub.execute_input": "2025-07-01T08:22:27.371244Z",
     "iopub.status.busy": "2025-07-01T08:22:27.370538Z",
     "iopub.status.idle": "2025-07-01T08:22:27.378011Z",
     "shell.execute_reply": "2025-07-01T08:22:27.377124Z"
    },
    "papermill": {
     "duration": 0.019366,
     "end_time": "2025-07-01T08:22:27.379505",
     "exception": false,
     "start_time": "2025-07-01T08:22:27.360139",
     "status": "completed"
    },
    "tags": []
   },
   "outputs": [],
   "source": [
    "def plot_weights(weights, title):\n",
    "    sorted_indices = np.argsort(weights[0])[::-1]\n",
    "    sorted_coeffs = np.array(weights[0])[sorted_indices]\n",
    "    sorted_model_names = np.array(list(oof_pred_probs.keys()))[sorted_indices]\n",
    "\n",
    "    plt.figure(figsize=(10, weights.shape[1] * 0.5))\n",
    "    ax = sns.barplot(x=sorted_coeffs, y=sorted_model_names, palette=\"RdYlGn_r\")\n",
    "\n",
    "    for i, (value, name) in enumerate(zip(sorted_coeffs, sorted_model_names)):\n",
    "        if value >= 0:\n",
    "            ax.text(value, i, f'{value:.3f}', va='center', ha='left', color='black')\n",
    "        else:\n",
    "            ax.text(value, i, f'{value:.3f}', va='center', ha='right', color='black')\n",
    "\n",
    "    xlim = ax.get_xlim()\n",
    "    ax.set_xlim(xlim[0] - 0.1 * abs(xlim[0]), xlim[1] + 0.1 * abs(xlim[1]))\n",
    "\n",
    "    plt.title(title)\n",
    "    plt.xlabel('')\n",
    "    plt.ylabel('')\n",
    "    plt.tight_layout()\n",
    "    plt.show()"
   ]
  },
  {
   "cell_type": "code",
   "execution_count": 17,
   "id": "153e3257",
   "metadata": {
    "execution": {
     "iopub.execute_input": "2025-07-01T08:22:27.400345Z",
     "iopub.status.busy": "2025-07-01T08:22:27.399624Z",
     "iopub.status.idle": "2025-07-01T08:22:27.413938Z",
     "shell.execute_reply": "2025-07-01T08:22:27.412950Z"
    },
    "papermill": {
     "duration": 0.026572,
     "end_time": "2025-07-01T08:22:27.415741",
     "exception": false,
     "start_time": "2025-07-01T08:22:27.389169",
     "status": "completed"
    },
    "tags": []
   },
   "outputs": [],
   "source": [
    "X = logit(pd.DataFrame(oof_pred_probs).clip(1e-15, 1-1e-15))\n",
    "X_test = logit(pd.DataFrame(test_pred_probs).clip(1e-15, 1-1e-15))"
   ]
  },
  {
   "cell_type": "code",
   "execution_count": 18,
   "id": "d4370310",
   "metadata": {
    "_kg_hide-output": true,
    "execution": {
     "iopub.execute_input": "2025-07-01T08:22:27.436150Z",
     "iopub.status.busy": "2025-07-01T08:22:27.435855Z",
     "iopub.status.idle": "2025-07-01T08:29:44.079403Z",
     "shell.execute_reply": "2025-07-01T08:29:44.078546Z"
    },
    "papermill": {
     "duration": 436.655471,
     "end_time": "2025-07-01T08:29:44.080829",
     "exception": false,
     "start_time": "2025-07-01T08:22:27.425358",
     "status": "completed"
    },
    "tags": []
   },
   "outputs": [
    {
     "name": "stderr",
     "output_type": "stream",
     "text": [
      "[I 2025-07-01 08:22:27,442] A new study created in memory with name: no-name-6896d95b-2b1a-4e5e-a043-a393aeb52cec\n",
      "[I 2025-07-01 08:22:30,604] Trial 2 finished with value: 0.9690133291360983 and parameters: {'solver_penalty': ('newton-cholesky', 'l2'), 'C': 8.635475062428085, 'tol': 0.023349878928272266, 'fit_intercept': False, 'class_weight': 'balanced', 'threshold': 0.63}. Best is trial 2 with value: 0.9690133291360983.\n",
      "[I 2025-07-01 08:22:30,617] Trial 3 finished with value: 0.9131400856352545 and parameters: {'solver_penalty': ('newton-cholesky', None), 'C': 8.662626094424212, 'tol': 0.006698799292882619, 'fit_intercept': False, 'class_weight': None, 'threshold': 0.9410000000000001}. Best is trial 2 with value: 0.9690133291360983.\n",
      "[I 2025-07-01 08:22:31,045] Trial 0 finished with value: 0.9644246435993622 and parameters: {'solver_penalty': ('lbfgs', 'l2'), 'C': 8.66350718374805, 'tol': 0.014229737210254929, 'fit_intercept': False, 'class_weight': 'balanced', 'threshold': 0.111}. Best is trial 2 with value: 0.9690133291360983.\n",
      "[I 2025-07-01 08:22:31,358] Trial 1 finished with value: 0.9685274263079195 and parameters: {'solver_penalty': ('newton-cg', None), 'C': 6.839399332944294, 'tol': 0.04637651996318958, 'fit_intercept': False, 'class_weight': 'balanced', 'threshold': 0.716}. Best is trial 2 with value: 0.9690133291360983.\n",
      "[I 2025-07-01 08:22:32,476] Trial 5 finished with value: 0.9692292098413503 and parameters: {'solver_penalty': ('liblinear', 'l2'), 'C': 1.874105610852127, 'tol': 0.09292444938532866, 'fit_intercept': False, 'class_weight': None, 'threshold': 0.5670000000000001}. Best is trial 5 with value: 0.9692292098413503.\n",
      "[I 2025-07-01 08:22:33,781] Trial 7 finished with value: 0.9684194932421601 and parameters: {'solver_penalty': ('liblinear', 'l2'), 'C': 2.2559765135026155, 'tol': 0.03039144701925762, 'fit_intercept': False, 'class_weight': 'balanced', 'threshold': 0.193}. Best is trial 5 with value: 0.9692292098413503.\n",
      "[I 2025-07-01 08:22:34,740] Trial 6 finished with value: 0.9633989879999885 and parameters: {'solver_penalty': ('newton-cholesky', 'l2'), 'C': 8.873602690133914, 'tol': 0.09775998921186164, 'fit_intercept': False, 'class_weight': 'balanced', 'threshold': 0.884}. Best is trial 5 with value: 0.9692292098413503.\n",
      "[I 2025-07-01 08:22:35,876] Trial 4 finished with value: 0.9691212476281251 and parameters: {'solver_penalty': ('newton-cg', None), 'C': 3.8686975644649113, 'tol': 0.02128648037109124, 'fit_intercept': False, 'class_weight': 'balanced', 'threshold': 0.548}. Best is trial 5 with value: 0.9692292098413503.\n",
      "[I 2025-07-01 08:22:36,374] Trial 9 finished with value: 0.9402397670534535 and parameters: {'solver_penalty': ('liblinear', 'l1'), 'C': 7.549896580350753, 'tol': 0.09459026365048352, 'fit_intercept': False, 'class_weight': None, 'threshold': 0.064}. Best is trial 5 with value: 0.9692292098413503.\n",
      "[I 2025-07-01 08:22:36,391] Trial 8 finished with value: 0.9690672665215123 and parameters: {'solver_penalty': ('lbfgs', None), 'C': 0.8965875011243141, 'tol': 0.0318226846624588, 'fit_intercept': True, 'class_weight': None, 'threshold': 0.492}. Best is trial 5 with value: 0.9692292098413503.\n",
      "[I 2025-07-01 08:22:36,905] Trial 10 finished with value: 0.4162134964425518 and parameters: {'solver_penalty': ('liblinear', 'l1'), 'C': 3.1777679048075305, 'tol': 0.03235624092747401, 'fit_intercept': True, 'class_weight': None, 'threshold': 0.013000000000000001}. Best is trial 5 with value: 0.9692292098413503.\n",
      "[I 2025-07-01 08:22:39,040] Trial 14 finished with value: 0.964478610132242 and parameters: {'solver_penalty': ('liblinear', 'l2'), 'C': 5.608298773077419, 'tol': 0.037629364838071, 'fit_intercept': False, 'class_weight': None, 'threshold': 0.095}. Best is trial 5 with value: 0.9692292098413503.\n",
      "[I 2025-07-01 08:22:39,433] Trial 11 finished with value: 0.9691752141610049 and parameters: {'solver_penalty': ('lbfgs', None), 'C': 1.9812661248846297, 'tol': 0.02920998665173995, 'fit_intercept': False, 'class_weight': 'balanced', 'threshold': 0.623}. Best is trial 5 with value: 0.9692292098413503.\n",
      "[I 2025-07-01 08:22:40,052] Trial 12 finished with value: 0.8596414424497862 and parameters: {'solver_penalty': ('newton-cg', None), 'C': 7.167911887213091, 'tol': 0.08784815222529962, 'fit_intercept': True, 'class_weight': None, 'threshold': 0.9430000000000001}. Best is trial 5 with value: 0.9692292098413503.\n",
      "[I 2025-07-01 08:22:41,478] Trial 16 finished with value: 0.9583244725037382 and parameters: {'solver_penalty': ('liblinear', 'l1'), 'C': 8.325818452790957, 'tol': 0.07681036019167914, 'fit_intercept': False, 'class_weight': None, 'threshold': 0.085}. Best is trial 5 with value: 0.9692292098413503.\n",
      "[I 2025-07-01 08:22:41,774] Trial 13 finished with value: 0.9689593480294855 and parameters: {'solver_penalty': ('newton-cg', 'l2'), 'C': 4.870226626703412, 'tol': 0.003115628153937982, 'fit_intercept': True, 'class_weight': None, 'threshold': 0.271}. Best is trial 5 with value: 0.9692292098413503.\n",
      "[I 2025-07-01 08:22:42,115] Trial 15 finished with value: 0.9668537642494673 and parameters: {'solver_penalty': ('newton-cholesky', 'l2'), 'C': 3.7993206153099246, 'tol': 0.03177678703558937, 'fit_intercept': True, 'class_weight': None, 'threshold': 0.14100000000000001}. Best is trial 5 with value: 0.9692292098413503.\n",
      "[I 2025-07-01 08:22:43,070] Trial 17 finished with value: 0.9671778986426025 and parameters: {'solver_penalty': ('newton-cholesky', None), 'C': 6.021854160062269, 'tol': 0.0502380720613884, 'fit_intercept': True, 'class_weight': None, 'threshold': 0.8180000000000001}. Best is trial 5 with value: 0.9692292098413503.\n",
      "[I 2025-07-01 08:22:44,922] Trial 18 finished with value: 0.9214534821019986 and parameters: {'solver_penalty': ('newton-cg', 'l2'), 'C': 4.2918903424887915, 'tol': 0.06450097845080525, 'fit_intercept': False, 'class_weight': None, 'threshold': 0.057}. Best is trial 5 with value: 0.9692292098413503.\n",
      "[I 2025-07-01 08:22:45,227] Trial 21 finished with value: 0.9684194495209614 and parameters: {'solver_penalty': ('liblinear', 'l2'), 'C': 2.5282862398733252, 'tol': 0.06663734460266947, 'fit_intercept': False, 'class_weight': None, 'threshold': 0.731}. Best is trial 5 with value: 0.9692292098413503.\n",
      "[I 2025-07-01 08:22:45,547] Trial 20 finished with value: 0.9676097037743053 and parameters: {'solver_penalty': ('newton-cg', 'l2'), 'C': 0.9748685900075771, 'tol': 0.03809575702789013, 'fit_intercept': False, 'class_weight': None, 'threshold': 0.776}. Best is trial 5 with value: 0.9692292098413503.\n",
      "[I 2025-07-01 08:22:46,030] Trial 19 finished with value: 0.9687973755621817 and parameters: {'solver_penalty': ('newton-cg', None), 'C': 0.7031000084070937, 'tol': 0.07508660443930927, 'fit_intercept': True, 'class_weight': 'balanced', 'threshold': 0.419}. Best is trial 5 with value: 0.9692292098413503.\n",
      "[I 2025-07-01 08:22:47,138] Trial 22 finished with value: 0.9678256719219549 and parameters: {'solver_penalty': ('liblinear', 'l1'), 'C': 9.141834434171614, 'tol': 0.05409851580384438, 'fit_intercept': True, 'class_weight': 'balanced', 'threshold': 0.315}. Best is trial 5 with value: 0.9692292098413503.\n",
      "[I 2025-07-01 08:22:48,567] Trial 25 finished with value: 0.969013256267434 and parameters: {'solver_penalty': ('liblinear', 'l2'), 'C': 7.3635162458096985, 'tol': 0.0478807437313406, 'fit_intercept': True, 'class_weight': 'balanced', 'threshold': 0.792}. Best is trial 5 with value: 0.9692292098413503.\n",
      "[I 2025-07-01 08:22:49,045] Trial 23 finished with value: 0.9671237863723938 and parameters: {'solver_penalty': ('newton-cholesky', None), 'C': 8.48400009891795, 'tol': 0.05591696911398617, 'fit_intercept': True, 'class_weight': 'balanced', 'threshold': 0.302}. Best is trial 5 with value: 0.9692292098413503.\n",
      "[I 2025-07-01 08:22:49,056] Trial 24 finished with value: 0.9660441350926744 and parameters: {'solver_penalty': ('newton-cholesky', None), 'C': 5.717052206921627, 'tol': 0.0609685685832381, 'fit_intercept': False, 'class_weight': 'balanced', 'threshold': 0.242}. Best is trial 5 with value: 0.9692292098413503.\n",
      "[I 2025-07-01 08:22:51,253] Trial 26 finished with value: 0.9673397399463104 and parameters: {'solver_penalty': ('newton-cholesky', 'l2'), 'C': 2.96290893210273, 'tol': 0.09626004772768261, 'fit_intercept': True, 'class_weight': 'balanced', 'threshold': 0.307}. Best is trial 5 with value: 0.9692292098413503.\n",
      "[I 2025-07-01 08:22:51,414] Trial 29 finished with value: 0.9687433944555691 and parameters: {'solver_penalty': ('liblinear', 'l2'), 'C': 4.763905564694965, 'tol': 0.08758119933703401, 'fit_intercept': False, 'class_weight': None, 'threshold': 0.393}. Best is trial 5 with value: 0.9692292098413503.\n",
      "[I 2025-07-01 08:22:51,719] Trial 28 finished with value: 0.9687433944555689 and parameters: {'solver_penalty': ('liblinear', 'l2'), 'C': 5.359269868991272, 'tol': 0.0495692673513811, 'fit_intercept': True, 'class_weight': 'balanced', 'threshold': 0.46}. Best is trial 5 with value: 0.9692292098413503.\n",
      "[I 2025-07-01 08:22:52,199] Trial 27 finished with value: 0.9687973755621817 and parameters: {'solver_penalty': ('newton-cg', 'l2'), 'C': 8.467201203463175, 'tol': 0.03957637273348215, 'fit_intercept': False, 'class_weight': None, 'threshold': 0.41600000000000004}. Best is trial 5 with value: 0.9692292098413503.\n",
      "[I 2025-07-01 08:22:53,897] Trial 30 finished with value: 0.9571367132734643 and parameters: {'solver_penalty': ('liblinear', 'l2'), 'C': 1.562521028222329, 'tol': 0.0847065282173722, 'fit_intercept': False, 'class_weight': 'balanced', 'threshold': 0.869}. Best is trial 5 with value: 0.9692292098413503.\n",
      "[I 2025-07-01 08:22:54,783] Trial 33 finished with value: 0.9691752287347377 and parameters: {'solver_penalty': ('liblinear', 'l2'), 'C': 6.512984665466519, 'tol': 0.05532307326435227, 'fit_intercept': True, 'class_weight': 'balanced', 'threshold': 0.602}. Best is trial 5 with value: 0.9692292098413503.\n",
      "[I 2025-07-01 08:22:55,166] Trial 32 finished with value: 0.9622653993348548 and parameters: {'solver_penalty': ('newton-cholesky', 'l2'), 'C': 1.5124326300235524, 'tol': 0.0500836146640466, 'fit_intercept': True, 'class_weight': None, 'threshold': 0.871}. Best is trial 5 with value: 0.9692292098413503.\n",
      "[I 2025-07-01 08:22:55,178] Trial 31 finished with value: 0.9682575353485892 and parameters: {'solver_penalty': ('newton-cholesky', 'l2'), 'C': 1.3109378805332006, 'tol': 0.004557797487873642, 'fit_intercept': False, 'class_weight': None, 'threshold': 0.746}. Best is trial 5 with value: 0.9692292098413503.\n",
      "[I 2025-07-01 08:22:56,487] Trial 35 finished with value: 0.9677176659875307 and parameters: {'solver_penalty': ('liblinear', 'l1'), 'C': 2.8767831042784997, 'tol': 0.0897013803747682, 'fit_intercept': False, 'class_weight': None, 'threshold': 0.168}. Best is trial 5 with value: 0.9692292098413503.\n",
      "[I 2025-07-01 08:22:58,468] Trial 38 finished with value: 0.9690672665215123 and parameters: {'solver_penalty': ('liblinear', 'l2'), 'C': 7.462269638590295, 'tol': 0.09209272822711499, 'fit_intercept': False, 'class_weight': None, 'threshold': 0.507}. Best is trial 5 with value: 0.9692292098413503.\n",
      "[I 2025-07-01 08:22:59,294] Trial 36 finished with value: 0.9691212330543921 and parameters: {'solver_penalty': ('newton-cg', None), 'C': 2.9221930733141646, 'tol': 0.0580166332836729, 'fit_intercept': True, 'class_weight': 'balanced', 'threshold': 0.595}. Best is trial 5 with value: 0.9692292098413503.\n",
      "[I 2025-07-01 08:23:00,483] Trial 34 finished with value: 0.9678256719219547 and parameters: {'solver_penalty': ('lbfgs', None), 'C': 8.517377899186219, 'tol': 0.0002839174847435927, 'fit_intercept': False, 'class_weight': None, 'threshold': 0.795}. Best is trial 5 with value: 0.9692292098413503.\n",
      "[I 2025-07-01 08:23:01,863] Trial 39 finished with value: 0.7530225484795224 and parameters: {'solver_penalty': ('lbfgs', None), 'C': 4.15786760195976, 'tol': 0.03227937317468839, 'fit_intercept': True, 'class_weight': 'balanced', 'threshold': 0.975}. Best is trial 5 with value: 0.9692292098413503.\n",
      "[I 2025-07-01 08:23:02,182] Trial 40 finished with value: 0.9691752141610047 and parameters: {'solver_penalty': ('lbfgs', 'l2'), 'C': 3.522972819907543, 'tol': 0.06783470635846206, 'fit_intercept': True, 'class_weight': None, 'threshold': 0.712}. Best is trial 5 with value: 0.9692292098413503.\n",
      "[I 2025-07-01 08:23:03,217] Trial 41 finished with value: 0.9671778840688695 and parameters: {'solver_penalty': ('liblinear', 'l1'), 'C': 7.402476203483539, 'tol': 0.07406759036647301, 'fit_intercept': False, 'class_weight': 'balanced', 'threshold': 0.809}. Best is trial 5 with value: 0.9692292098413503.\n",
      "[I 2025-07-01 08:23:04,975] Trial 42 finished with value: 0.9688513712425273 and parameters: {'solver_penalty': ('lbfgs', None), 'C': 7.959607441327798, 'tol': 0.08353354280905258, 'fit_intercept': True, 'class_weight': None, 'threshold': 0.3}. Best is trial 5 with value: 0.9692292098413503.\n",
      "[I 2025-07-01 08:23:05,770] Trial 43 finished with value: 0.9687974047096475 and parameters: {'solver_penalty': ('newton-cholesky', 'l2'), 'C': 7.10955406565705, 'tol': 0.07742055860273196, 'fit_intercept': True, 'class_weight': 'balanced', 'threshold': 0.506}. Best is trial 5 with value: 0.9692292098413503.\n",
      "[I 2025-07-01 08:23:06,071] Trial 37 finished with value: 0.9682575353485892 and parameters: {'solver_penalty': ('lbfgs', None), 'C': 9.87147728195622, 'tol': 0.0005836388101402163, 'fit_intercept': False, 'class_weight': 'balanced', 'threshold': 0.402}. Best is trial 5 with value: 0.9692292098413503.\n",
      "[I 2025-07-01 08:23:06,709] Trial 44 finished with value: 0.9691752141610049 and parameters: {'solver_penalty': ('lbfgs', 'l2'), 'C': 4.3197477783884475, 'tol': 0.08191659319473502, 'fit_intercept': False, 'class_weight': 'balanced', 'threshold': 0.624}. Best is trial 5 with value: 0.9692292098413503.\n",
      "[I 2025-07-01 08:23:08,258] Trial 47 finished with value: 0.965558334280626 and parameters: {'solver_penalty': ('liblinear', 'l1'), 'C': 0.8044172336580768, 'tol': 0.029369508502463164, 'fit_intercept': True, 'class_weight': 'balanced', 'threshold': 0.249}. Best is trial 5 with value: 0.9692292098413503.\n",
      "[I 2025-07-01 08:23:08,589] Trial 45 finished with value: 0.8450659461413126 and parameters: {'solver_penalty': ('newton-cholesky', None), 'C': 5.096894254214038, 'tol': 0.08213355671599867, 'fit_intercept': False, 'class_weight': 'balanced', 'threshold': 0.972}. Best is trial 5 with value: 0.9692292098413503.\n",
      "[I 2025-07-01 08:23:08,779] Trial 46 finished with value: 0.9691212330543921 and parameters: {'solver_penalty': ('lbfgs', None), 'C': 9.2464193733929, 'tol': 0.023505556903870052, 'fit_intercept': False, 'class_weight': None, 'threshold': 0.6920000000000001}. Best is trial 5 with value: 0.9692292098413503.\n",
      "[I 2025-07-01 08:23:11,001] Trial 51 finished with value: 0.9687974047096475 and parameters: {'solver_penalty': ('liblinear', 'l1'), 'C': 8.354779871011266, 'tol': 0.05499290105602744, 'fit_intercept': True, 'class_weight': 'balanced', 'threshold': 0.49}. Best is trial 5 with value: 0.9692292098413503.\n",
      "[I 2025-07-01 08:23:11,005] Trial 50 finished with value: 0.9687973755621819 and parameters: {'solver_penalty': ('liblinear', 'l1'), 'C': 0.6287290369564202, 'tol': 0.08119353850828319, 'fit_intercept': True, 'class_weight': 'balanced', 'threshold': 0.629}. Best is trial 5 with value: 0.9692292098413503.\n",
      "[I 2025-07-01 08:23:12,493] Trial 49 finished with value: 0.940346694531644 and parameters: {'solver_penalty': ('newton-cg', None), 'C': 9.49050266682858, 'tol': 0.03816874323875656, 'fit_intercept': True, 'class_weight': 'balanced', 'threshold': 0.09}. Best is trial 5 with value: 0.9692292098413503.\n",
      "[I 2025-07-01 08:23:13,020] Trial 48 finished with value: 0.5102518486780168 and parameters: {'solver_penalty': ('newton-cg', 'l2'), 'C': 2.4356942331791744, 'tol': 0.013080472031976311, 'fit_intercept': True, 'class_weight': 'balanced', 'threshold': 0.037}. Best is trial 5 with value: 0.9692292098413503.\n",
      "[I 2025-07-01 08:23:13,970] Trial 53 finished with value: 0.9691752287347377 and parameters: {'solver_penalty': ('lbfgs', 'l2'), 'C': 4.614873028851028, 'tol': 0.054213018297654444, 'fit_intercept': False, 'class_weight': 'balanced', 'threshold': 0.602}. Best is trial 5 with value: 0.9692292098413503.\n",
      "[I 2025-07-01 08:23:13,976] Trial 52 finished with value: 0.9691752287347377 and parameters: {'solver_penalty': ('lbfgs', None), 'C': 0.12414314564180651, 'tol': 0.03006604089939888, 'fit_intercept': False, 'class_weight': 'balanced', 'threshold': 0.536}. Best is trial 5 with value: 0.9692292098413503.\n",
      "[I 2025-07-01 08:23:15,736] Trial 54 finished with value: 0.9692292098413503 and parameters: {'solver_penalty': ('lbfgs', 'l2'), 'C': 4.589322969157697, 'tol': 0.07686093745136377, 'fit_intercept': False, 'class_weight': 'balanced', 'threshold': 0.577}. Best is trial 5 with value: 0.9692292098413503.\n",
      "[I 2025-07-01 08:23:17,062] Trial 57 finished with value: 0.9691212330543921 and parameters: {'solver_penalty': ('lbfgs', 'l2'), 'C': 5.388765021253905, 'tol': 0.07851487019910555, 'fit_intercept': False, 'class_weight': 'balanced', 'threshold': 0.59}. Best is trial 5 with value: 0.9692292098413503.\n",
      "[I 2025-07-01 08:23:17,469] Trial 56 finished with value: 0.9687973609884487 and parameters: {'solver_penalty': ('lbfgs', None), 'C': 0.2969270490692729, 'tol': 0.020355232818258778, 'fit_intercept': False, 'class_weight': 'balanced', 'threshold': 0.44}. Best is trial 5 with value: 0.9692292098413503.\n",
      "[I 2025-07-01 08:23:19,242] Trial 58 finished with value: 0.9692292098413503 and parameters: {'solver_penalty': ('lbfgs', None), 'C': 0.4102663795443485, 'tol': 0.043316693253005835, 'fit_intercept': False, 'class_weight': 'balanced', 'threshold': 0.585}. Best is trial 5 with value: 0.9692292098413503.\n",
      "[I 2025-07-01 08:23:19,771] Trial 60 finished with value: 0.9691752141610049 and parameters: {'solver_penalty': ('liblinear', 'l2'), 'C': 0.0411348593530787, 'tol': 0.09752229846877547, 'fit_intercept': False, 'class_weight': None, 'threshold': 0.64}. Best is trial 5 with value: 0.9692292098413503.\n",
      "[I 2025-07-01 08:23:20,714] Trial 55 finished with value: 0.9687973755621817 and parameters: {'solver_penalty': ('newton-cg', None), 'C': 5.13567499512998, 'tol': 0.0041702778265452975, 'fit_intercept': False, 'class_weight': 'balanced', 'threshold': 0.784}. Best is trial 5 with value: 0.9692292098413503.\n",
      "[I 2025-07-01 08:23:20,715] Trial 59 finished with value: 0.9672318068805508 and parameters: {'solver_penalty': ('lbfgs', None), 'C': 0.4714374467385236, 'tol': 0.023871260742497534, 'fit_intercept': False, 'class_weight': 'balanced', 'threshold': 0.802}. Best is trial 5 with value: 0.9692292098413503.\n",
      "[I 2025-07-01 08:23:22,628] Trial 61 finished with value: 0.9686894133489563 and parameters: {'solver_penalty': ('newton-cholesky', 'l2'), 'C': 0.3628429510936317, 'tol': 0.0380185758613628, 'fit_intercept': False, 'class_weight': 'balanced', 'threshold': 0.552}. Best is trial 5 with value: 0.9692292098413503.\n",
      "[I 2025-07-01 08:23:23,025] Trial 62 finished with value: 0.9691212330543921 and parameters: {'solver_penalty': ('lbfgs', 'l2'), 'C': 5.00891106480463, 'tol': 0.03321097840229319, 'fit_intercept': False, 'class_weight': 'balanced', 'threshold': 0.596}. Best is trial 5 with value: 0.9692292098413503.\n",
      "[I 2025-07-01 08:23:23,856] Trial 63 finished with value: 0.9687433944555691 and parameters: {'solver_penalty': ('newton-cholesky', 'l2'), 'C': 3.279792980603855, 'tol': 0.03339944629832592, 'fit_intercept': False, 'class_weight': 'balanced', 'threshold': 0.586}. Best is trial 5 with value: 0.9692292098413503.\n",
      "[I 2025-07-01 08:23:24,668] Trial 64 finished with value: 0.9690672665215123 and parameters: {'solver_penalty': ('newton-cg', 'l2'), 'C': 2.4767306222109085, 'tol': 0.053113955866082196, 'fit_intercept': False, 'class_weight': 'balanced', 'threshold': 0.493}. Best is trial 5 with value: 0.9692292098413503.\n",
      "[I 2025-07-01 08:23:25,379] Trial 65 finished with value: 0.9690672665215123 and parameters: {'solver_penalty': ('lbfgs', None), 'C': 0.3200720292858735, 'tol': 0.05527396447200197, 'fit_intercept': False, 'class_weight': None, 'threshold': 0.47200000000000003}. Best is trial 5 with value: 0.9692292098413503.\n",
      "[I 2025-07-01 08:23:26,508] Trial 66 finished with value: 0.9691752141610049 and parameters: {'solver_penalty': ('newton-cg', None), 'C': 3.5992580201179463, 'tol': 0.08944790984991466, 'fit_intercept': False, 'class_weight': None, 'threshold': 0.647}. Best is trial 5 with value: 0.9692292098413503.\n",
      "[I 2025-07-01 08:23:27,429] Trial 67 finished with value: 0.9691752287347377 and parameters: {'solver_penalty': ('lbfgs', None), 'C': 0.5903631622044492, 'tol': 0.05766208602580854, 'fit_intercept': False, 'class_weight': 'balanced', 'threshold': 0.533}. Best is trial 5 with value: 0.9692292098413503.\n",
      "[I 2025-07-01 08:23:28,577] Trial 68 finished with value: 0.9690672665215123 and parameters: {'solver_penalty': ('lbfgs', None), 'C': 1.7084634669980665, 'tol': 0.05659556224777686, 'fit_intercept': False, 'class_weight': 'balanced', 'threshold': 0.519}. Best is trial 5 with value: 0.9692292098413503.\n",
      "[I 2025-07-01 08:23:29,596] Trial 69 finished with value: 0.9692292098413503 and parameters: {'solver_penalty': ('newton-cg', None), 'C': 1.0892078087391965, 'tol': 0.0370659578892716, 'fit_intercept': False, 'class_weight': 'balanced', 'threshold': 0.553}. Best is trial 5 with value: 0.9692292098413503.\n",
      "[I 2025-07-01 08:23:30,107] Trial 70 finished with value: 0.9690672665215123 and parameters: {'solver_penalty': ('lbfgs', None), 'C': 0.17725494794295865, 'tol': 0.06398807894190454, 'fit_intercept': False, 'class_weight': 'balanced', 'threshold': 0.47700000000000004}. Best is trial 5 with value: 0.9692292098413503.\n",
      "[I 2025-07-01 08:23:30,634] Trial 71 finished with value: 0.9690672665215123 and parameters: {'solver_penalty': ('lbfgs', None), 'C': 0.6909061625233816, 'tol': 0.0865685344126782, 'fit_intercept': False, 'class_weight': 'balanced', 'threshold': 0.481}. Best is trial 5 with value: 0.9692292098413503.\n",
      "[I 2025-07-01 08:23:31,950] Trial 72 finished with value: 0.9689593043082869 and parameters: {'solver_penalty': ('newton-cg', 'l2'), 'C': 0.7367421291982357, 'tol': 0.08579942712979834, 'fit_intercept': False, 'class_weight': None, 'threshold': 0.47500000000000003}. Best is trial 5 with value: 0.9692292098413503.\n",
      "[I 2025-07-01 08:23:32,943] Trial 75 finished with value: 0.9688513420950615 and parameters: {'solver_penalty': ('liblinear', 'l1'), 'C': 0.03233721263274156, 'tol': 0.031208727081210447, 'fit_intercept': False, 'class_weight': 'balanced', 'threshold': 0.676}. Best is trial 5 with value: 0.9692292098413503.\n",
      "[I 2025-07-01 08:23:33,462] Trial 73 finished with value: 0.9687973318409832 and parameters: {'solver_penalty': ('newton-cg', None), 'C': 2.0905225838982995, 'tol': 0.05726672260585904, 'fit_intercept': False, 'class_weight': 'balanced', 'threshold': 0.6900000000000001}. Best is trial 5 with value: 0.9692292098413503.\n",
      "[I 2025-07-01 08:23:33,791] Trial 74 finished with value: 0.9687433798818361 and parameters: {'solver_penalty': ('newton-cg', None), 'C': 1.4585709659733344, 'tol': 0.03358492101055624, 'fit_intercept': False, 'class_weight': 'balanced', 'threshold': 0.428}. Best is trial 5 with value: 0.9692292098413503.\n",
      "[I 2025-07-01 08:23:36,017] Trial 76 finished with value: 0.9687973609884487 and parameters: {'solver_penalty': ('newton-cg', None), 'C': 0.48911965909381094, 'tol': 0.03686487054248068, 'fit_intercept': False, 'class_weight': 'balanced', 'threshold': 0.446}. Best is trial 5 with value: 0.9692292098413503.\n",
      "[I 2025-07-01 08:23:36,038] Trial 79 finished with value: 0.9690672665215123 and parameters: {'solver_penalty': ('liblinear', 'l2'), 'C': 7.3960122772714865, 'tol': 0.08119452065627719, 'fit_intercept': True, 'class_weight': 'balanced', 'threshold': 0.5730000000000001}. Best is trial 5 with value: 0.9692292098413503.\n",
      "[I 2025-07-01 08:23:37,317] Trial 77 finished with value: 0.9688513712425273 and parameters: {'solver_penalty': ('newton-cg', None), 'C': 3.4675502086819603, 'tol': 0.04904612862308053, 'fit_intercept': False, 'class_weight': 'balanced', 'threshold': 0.365}. Best is trial 5 with value: 0.9692292098413503.\n",
      "[I 2025-07-01 08:23:37,853] Trial 78 finished with value: 0.9691752287347377 and parameters: {'solver_penalty': ('lbfgs', None), 'C': 0.3550195618687511, 'tol': 0.04408028012071182, 'fit_intercept': True, 'class_weight': 'balanced', 'threshold': 0.553}. Best is trial 5 with value: 0.9692292098413503.\n",
      "[I 2025-07-01 08:23:38,378] Trial 80 finished with value: 0.9687973755621817 and parameters: {'solver_penalty': ('liblinear', 'l2'), 'C': 3.082943215141027, 'tol': 0.06704591932442794, 'fit_intercept': False, 'class_weight': 'balanced', 'threshold': 0.40900000000000003}. Best is trial 5 with value: 0.9692292098413503.\n",
      "[I 2025-07-01 08:23:39,500] Trial 81 finished with value: 0.9690672665215123 and parameters: {'solver_penalty': ('lbfgs', 'l2'), 'C': 5.326984038196315, 'tol': 0.06400956915067385, 'fit_intercept': False, 'class_weight': None, 'threshold': 0.493}. Best is trial 5 with value: 0.9692292098413503.\n",
      "[I 2025-07-01 08:23:40,273] Trial 83 finished with value: 0.9692291952676175 and parameters: {'solver_penalty': ('liblinear', 'l2'), 'C': 6.763977348980568, 'tol': 0.05716027563295977, 'fit_intercept': True, 'class_weight': None, 'threshold': 0.677}. Best is trial 5 with value: 0.9692292098413503.\n",
      "[I 2025-07-01 08:23:41,554] Trial 82 finished with value: 0.9690133291360983 and parameters: {'solver_penalty': ('lbfgs', 'l2'), 'C': 3.4093546896960953, 'tol': 0.05914376977861664, 'fit_intercept': False, 'class_weight': 'balanced', 'threshold': 0.322}. Best is trial 5 with value: 0.9692292098413503.\n",
      "[I 2025-07-01 08:23:42,967] Trial 86 finished with value: 0.9686353885211452 and parameters: {'solver_penalty': ('liblinear', 'l2'), 'C': 5.979648174322822, 'tol': 0.042280879283822535, 'fit_intercept': True, 'class_weight': None, 'threshold': 0.728}. Best is trial 5 with value: 0.9692292098413503.\n",
      "[I 2025-07-01 08:23:43,518] Trial 84 finished with value: 0.9683654975618146 and parameters: {'solver_penalty': ('lbfgs', None), 'C': 2.2838495635953238, 'tol': 0.032798944236054735, 'fit_intercept': True, 'class_weight': 'balanced', 'threshold': 0.242}. Best is trial 5 with value: 0.9692292098413503.\n",
      "[I 2025-07-01 08:23:43,894] Trial 87 finished with value: 0.9692292098413503 and parameters: {'solver_penalty': ('liblinear', 'l2'), 'C': 5.503434523431251, 'tol': 0.056869183320706666, 'fit_intercept': True, 'class_weight': None, 'threshold': 0.5630000000000001}. Best is trial 5 with value: 0.9692292098413503.\n",
      "[I 2025-07-01 08:23:44,481] Trial 85 finished with value: 0.9688513858162601 and parameters: {'solver_penalty': ('lbfgs', None), 'C': 3.268479514041997, 'tol': 0.013140025441825458, 'fit_intercept': True, 'class_weight': 'balanced', 'threshold': 0.505}. Best is trial 5 with value: 0.9692292098413503.\n",
      "[I 2025-07-01 08:23:46,540] Trial 88 finished with value: 0.8242282188275141 and parameters: {'solver_penalty': ('newton-cg', 'l2'), 'C': 9.023833678722701, 'tol': 0.07016900513782354, 'fit_intercept': True, 'class_weight': None, 'threshold': 0.9510000000000001}. Best is trial 5 with value: 0.9692292098413503.\n",
      "[I 2025-07-01 08:23:46,870] Trial 91 finished with value: 0.9687973755621817 and parameters: {'solver_penalty': ('liblinear', 'l2'), 'C': 7.033565167041579, 'tol': 0.06598190906278938, 'fit_intercept': True, 'class_weight': None, 'threshold': 0.363}. Best is trial 5 with value: 0.9692292098413503.\n",
      "[I 2025-07-01 08:23:47,827] Trial 90 finished with value: 0.9691752141610049 and parameters: {'solver_penalty': ('newton-cg', 'l2'), 'C': 6.155898611885408, 'tol': 0.05749377823754268, 'fit_intercept': True, 'class_weight': None, 'threshold': 0.615}. Best is trial 5 with value: 0.9692292098413503.\n",
      "[I 2025-07-01 08:23:47,839] Trial 89 finished with value: 0.9691752287347377 and parameters: {'solver_penalty': ('newton-cg', None), 'C': 1.423485004075431, 'tol': 0.026517291348044102, 'fit_intercept': False, 'class_weight': None, 'threshold': 0.593}. Best is trial 5 with value: 0.9692292098413503.\n",
      "[I 2025-07-01 08:23:49,124] Trial 92 finished with value: 0.9692292098413503 and parameters: {'solver_penalty': ('liblinear', 'l2'), 'C': 5.3391274302991025, 'tol': 0.08270667546804586, 'fit_intercept': True, 'class_weight': None, 'threshold': 0.5650000000000001}. Best is trial 5 with value: 0.9692292098413503.\n",
      "[I 2025-07-01 08:23:49,616] Trial 93 finished with value: 0.9686353885211452 and parameters: {'solver_penalty': ('liblinear', 'l2'), 'C': 8.467028132488796, 'tol': 0.05948374296862076, 'fit_intercept': True, 'class_weight': None, 'threshold': 0.728}. Best is trial 5 with value: 0.9692292098413503.\n",
      "[I 2025-07-01 08:23:50,426] Trial 94 finished with value: 0.9672318214542838 and parameters: {'solver_penalty': ('liblinear', 'l2'), 'C': 6.363354615348043, 'tol': 0.07513365668569377, 'fit_intercept': True, 'class_weight': None, 'threshold': 0.787}. Best is trial 5 with value: 0.9692292098413503.\n",
      "[I 2025-07-01 08:23:52,031] Trial 97 finished with value: 0.9691212330543921 and parameters: {'solver_penalty': ('liblinear', 'l2'), 'C': 4.748256672005064, 'tol': 0.07650283874596761, 'fit_intercept': True, 'class_weight': None, 'threshold': 0.594}. Best is trial 5 with value: 0.9692292098413503.\n",
      "[I 2025-07-01 08:23:52,506] Trial 95 finished with value: 0.9685814511357311 and parameters: {'solver_penalty': ('newton-cholesky', None), 'C': 0.6416442623158775, 'tol': 0.05540750649829588, 'fit_intercept': False, 'class_weight': 'balanced', 'threshold': 0.504}. Best is trial 5 with value: 0.9692292098413503.\n",
      "[I 2025-07-01 08:23:52,851] Trial 96 finished with value: 0.9690132708411667 and parameters: {'solver_penalty': ('newton-cholesky', 'l2'), 'C': 4.206909008983526, 'tol': 0.08963078849718216, 'fit_intercept': True, 'class_weight': None, 'threshold': 0.669}. Best is trial 5 with value: 0.9692292098413503.\n",
      "[I 2025-07-01 08:23:53,041] Trial 98 finished with value: 0.9687973609884487 and parameters: {'solver_penalty': ('liblinear', 'l2'), 'C': 3.1098822114874234, 'tol': 0.08059238397222268, 'fit_intercept': True, 'class_weight': None, 'threshold': 0.436}. Best is trial 5 with value: 0.9692292098413503.\n",
      "[I 2025-07-01 08:23:55,071] Trial 100 finished with value: 0.9691752287347377 and parameters: {'solver_penalty': ('liblinear', 'l2'), 'C': 7.651133710438339, 'tol': 0.036564355852765316, 'fit_intercept': False, 'class_weight': 'balanced', 'threshold': 0.539}. Best is trial 5 with value: 0.9692292098413503.\n",
      "[I 2025-07-01 08:23:56,271] Trial 99 finished with value: 0.9639928093201936 and parameters: {'solver_penalty': ('lbfgs', 'l2'), 'C': 3.739930777840276, 'tol': 0.0497769703169444, 'fit_intercept': False, 'class_weight': 'balanced', 'threshold': 0.842}. Best is trial 5 with value: 0.9692292098413503.\n",
      "[I 2025-07-01 08:23:56,950] Trial 102 finished with value: 0.9691212476281251 and parameters: {'solver_penalty': ('newton-cholesky', None), 'C': 5.60427652767934, 'tol': 0.066041440185926, 'fit_intercept': True, 'class_weight': 'balanced', 'threshold': 0.674}. Best is trial 5 with value: 0.9692292098413503.\n",
      "[I 2025-07-01 08:23:57,423] Trial 101 finished with value: 0.9686894133489563 and parameters: {'solver_penalty': ('newton-cholesky', None), 'C': 1.475147303935807, 'tol': 0.005458404974446957, 'fit_intercept': False, 'class_weight': 'balanced', 'threshold': 0.596}. Best is trial 5 with value: 0.9692292098413503.\n",
      "[I 2025-07-01 08:23:57,432] Trial 103 finished with value: 0.9692292098413503 and parameters: {'solver_penalty': ('liblinear', 'l2'), 'C': 3.3923432222049232, 'tol': 0.08782050967195329, 'fit_intercept': False, 'class_weight': None, 'threshold': 0.557}. Best is trial 5 with value: 0.9692292098413503.\n",
      "[I 2025-07-01 08:23:59,101] Trial 104 finished with value: 0.9679335904139815 and parameters: {'solver_penalty': ('liblinear', 'l2'), 'C': 4.229506412717711, 'tol': 0.055047660616504866, 'fit_intercept': True, 'class_weight': 'balanced', 'threshold': 0.794}. Best is trial 5 with value: 0.9692292098413503.\n",
      "[I 2025-07-01 08:23:59,960] Trial 105 finished with value: 0.9690672519477795 and parameters: {'solver_penalty': ('liblinear', 'l2'), 'C': 0.3020817873203275, 'tol': 0.03917892250145863, 'fit_intercept': False, 'class_weight': 'balanced', 'threshold': 0.595}. Best is trial 5 with value: 0.9692292098413503.\n",
      "[I 2025-07-01 08:24:00,799] Trial 107 finished with value: 0.9692831909479629 and parameters: {'solver_penalty': ('lbfgs', 'l2'), 'C': 2.6240736247228558, 'tol': 0.0871582562300564, 'fit_intercept': False, 'class_weight': None, 'threshold': 0.607}. Best is trial 107 with value: 0.9692831909479629.\n",
      "[I 2025-07-01 08:24:01,643] Trial 106 finished with value: 0.8617458166099748 and parameters: {'solver_penalty': ('lbfgs', None), 'C': 0.5986015996111148, 'tol': 0.06989332864251775, 'fit_intercept': False, 'class_weight': 'balanced', 'threshold': 0.963}. Best is trial 107 with value: 0.9692831909479629.\n",
      "[I 2025-07-01 08:24:01,979] Trial 108 finished with value: 0.9690672665215123 and parameters: {'solver_penalty': ('liblinear', 'l2'), 'C': 3.3266413218164534, 'tol': 0.09638596896063342, 'fit_intercept': False, 'class_weight': None, 'threshold': 0.501}. Best is trial 107 with value: 0.9692831909479629.\n",
      "[I 2025-07-01 08:24:02,635] Trial 109 finished with value: 0.9689592751608211 and parameters: {'solver_penalty': ('liblinear', 'l1'), 'C': 2.7767851077323584, 'tol': 0.07161596601952751, 'fit_intercept': False, 'class_weight': None, 'threshold': 0.594}. Best is trial 107 with value: 0.9692831909479629.\n",
      "[I 2025-07-01 08:24:04,714] Trial 111 finished with value: 0.9687433798818361 and parameters: {'solver_penalty': ('lbfgs', 'l2'), 'C': 2.347465683900829, 'tol': 0.09541234853535104, 'fit_intercept': False, 'class_weight': None, 'threshold': 0.394}. Best is trial 107 with value: 0.9692831909479629.\n",
      "[I 2025-07-01 08:24:04,889] Trial 112 finished with value: 0.9690672519477795 and parameters: {'solver_penalty': ('lbfgs', 'l2'), 'C': 2.262169924566866, 'tol': 0.08986862629533533, 'fit_intercept': False, 'class_weight': None, 'threshold': 0.739}. Best is trial 107 with value: 0.9692831909479629.\n",
      "[I 2025-07-01 08:24:05,587] Trial 110 finished with value: 0.9692292098413503 and parameters: {'solver_penalty': ('newton-cg', None), 'C': 7.815512320817416, 'tol': 0.039229855322984494, 'fit_intercept': True, 'class_weight': 'balanced', 'threshold': 0.638}. Best is trial 107 with value: 0.9692831909479629.\n",
      "[I 2025-07-01 08:24:06,244] Trial 113 finished with value: 0.953141951073064 and parameters: {'solver_penalty': ('newton-cg', 'l2'), 'C': 3.5812526473006163, 'tol': 0.09288657451807679, 'fit_intercept': False, 'class_weight': None, 'threshold': 0.888}. Best is trial 107 with value: 0.9692831909479629.\n",
      "[I 2025-07-01 08:24:07,086] Trial 114 finished with value: 0.9691752141610049 and parameters: {'solver_penalty': ('lbfgs', 'l2'), 'C': 2.491674676468782, 'tol': 0.07334394551696408, 'fit_intercept': False, 'class_weight': None, 'threshold': 0.647}. Best is trial 107 with value: 0.9692831909479629.\n",
      "[I 2025-07-01 08:24:08,285] Trial 115 finished with value: 0.9687433944555689 and parameters: {'solver_penalty': ('newton-cg', None), 'C': 4.417304601093268, 'tol': 0.04546024081409805, 'fit_intercept': True, 'class_weight': None, 'threshold': 0.365}. Best is trial 107 with value: 0.9692831909479629.\n",
      "[I 2025-07-01 08:24:09,316] Trial 116 finished with value: 0.968473430627574 and parameters: {'solver_penalty': ('newton-cg', None), 'C': 8.521796365129497, 'tol': 0.05119486132998624, 'fit_intercept': True, 'class_weight': 'balanced', 'threshold': 0.721}. Best is trial 107 with value: 0.9692831909479629.\n",
      "[I 2025-07-01 08:24:09,851] Trial 117 finished with value: 0.9692831909479629 and parameters: {'solver_penalty': ('newton-cg', None), 'C': 7.520421879171319, 'tol': 0.043005517941507955, 'fit_intercept': True, 'class_weight': 'balanced', 'threshold': 0.5760000000000001}. Best is trial 107 with value: 0.9692831909479629.\n",
      "[I 2025-07-01 08:24:11,346] Trial 118 finished with value: 0.9686893842014905 and parameters: {'solver_penalty': ('newton-cg', 'l2'), 'C': 8.507375507711258, 'tol': 0.02187277692735424, 'fit_intercept': True, 'class_weight': 'balanced', 'threshold': 0.794}. Best is trial 107 with value: 0.9692831909479629.\n",
      "[I 2025-07-01 08:24:11,548] Trial 119 finished with value: 0.9650724751736461 and parameters: {'solver_penalty': ('newton-cg', None), 'C': 8.898324485261211, 'tol': 0.05931583613498337, 'fit_intercept': True, 'class_weight': 'balanced', 'threshold': 0.8160000000000001}. Best is trial 107 with value: 0.9692831909479629.\n",
      "[I 2025-07-01 08:24:11,880] Trial 120 finished with value: 0.9690132708411667 and parameters: {'solver_penalty': ('newton-cholesky', None), 'C': 4.820224102666863, 'tol': 0.09615569101969838, 'fit_intercept': True, 'class_weight': None, 'threshold': 0.667}. Best is trial 107 with value: 0.9692831909479629.\n",
      "[I 2025-07-01 08:24:13,576] Trial 121 finished with value: 0.9688513420950615 and parameters: {'solver_penalty': ('newton-cg', None), 'C': 7.834617650319307, 'tol': 0.031159335309448165, 'fit_intercept': True, 'class_weight': 'balanced', 'threshold': 0.546}. Best is trial 107 with value: 0.9692831909479629.\n",
      "[I 2025-07-01 08:24:14,562] Trial 122 finished with value: 0.9691752287347377 and parameters: {'solver_penalty': ('newton-cg', None), 'C': 6.755860008235409, 'tol': 0.054209234598368045, 'fit_intercept': True, 'class_weight': 'balanced', 'threshold': 0.533}. Best is trial 107 with value: 0.9692831909479629.\n",
      "[I 2025-07-01 08:24:15,414] Trial 123 finished with value: 0.9687973609884487 and parameters: {'solver_penalty': ('newton-cg', None), 'C': 7.434902952190322, 'tol': 0.03413894885847009, 'fit_intercept': True, 'class_weight': 'balanced', 'threshold': 0.532}. Best is trial 107 with value: 0.9692831909479629.\n",
      "[I 2025-07-01 08:24:15,423] Trial 124 finished with value: 0.9687973755621817 and parameters: {'solver_penalty': ('newton-cg', None), 'C': 8.373407401984462, 'tol': 0.028272970181579447, 'fit_intercept': True, 'class_weight': 'balanced', 'threshold': 0.504}. Best is trial 107 with value: 0.9692831909479629.\n",
      "[I 2025-07-01 08:24:16,661] Trial 125 finished with value: 0.9689053232016743 and parameters: {'solver_penalty': ('newton-cholesky', 'l2'), 'C': 5.323773021949328, 'tol': 0.03262419688365218, 'fit_intercept': True, 'class_weight': 'balanced', 'threshold': 0.617}. Best is trial 107 with value: 0.9692831909479629.\n",
      "[I 2025-07-01 08:24:17,681] Trial 126 finished with value: 0.9689053377754071 and parameters: {'solver_penalty': ('lbfgs', 'l2'), 'C': 3.6697795401718096, 'tol': 0.09383697786227241, 'fit_intercept': True, 'class_weight': 'balanced', 'threshold': 0.455}. Best is trial 107 with value: 0.9692831909479629.\n",
      "[I 2025-07-01 08:24:18,790] Trial 128 finished with value: 0.9691212330543921 and parameters: {'solver_penalty': ('newton-cholesky', 'l2'), 'C': 6.041480033148242, 'tol': 0.03347023558670714, 'fit_intercept': True, 'class_weight': 'balanced', 'threshold': 0.738}. Best is trial 107 with value: 0.9692831909479629.\n",
      "[I 2025-07-01 08:24:19,892] Trial 127 finished with value: 0.9689053232016743 and parameters: {'solver_penalty': ('newton-cg', 'l2'), 'C': 6.214384288985781, 'tol': 0.04908223840457557, 'fit_intercept': True, 'class_weight': 'balanced', 'threshold': 0.452}. Best is trial 107 with value: 0.9692831909479629.\n",
      "[I 2025-07-01 08:24:19,925] Trial 129 finished with value: 0.9691212330543921 and parameters: {'solver_penalty': ('newton-cholesky', 'l2'), 'C': 5.34988628048897, 'tol': 0.04780264632615714, 'fit_intercept': True, 'class_weight': None, 'threshold': 0.5720000000000001}. Best is trial 107 with value: 0.9692831909479629.\n",
      "[I 2025-07-01 08:24:20,272] Trial 130 finished with value: 0.9639928093201936 and parameters: {'solver_penalty': ('liblinear', 'l2'), 'C': 4.7970749007339695, 'tol': 0.08279313933519702, 'fit_intercept': False, 'class_weight': None, 'threshold': 0.835}. Best is trial 107 with value: 0.9692831909479629.\n",
      "[I 2025-07-01 08:24:21,291] Trial 131 finished with value: 0.9689053232016743 and parameters: {'solver_penalty': ('liblinear', 'l2'), 'C': 8.805747352235054, 'tol': 0.051261414964305224, 'fit_intercept': True, 'class_weight': 'balanced', 'threshold': 0.522}. Best is trial 107 with value: 0.9692831909479629.\n",
      "[I 2025-07-01 08:24:23,190] Trial 133 finished with value: 0.9690672373740465 and parameters: {'solver_penalty': ('newton-cholesky', None), 'C': 0.9996721890163216, 'tol': 0.0946732096720877, 'fit_intercept': False, 'class_weight': None, 'threshold': 0.629}. Best is trial 107 with value: 0.9692831909479629.\n",
      "[I 2025-07-01 08:24:23,536] Trial 134 finished with value: 0.9689053232016743 and parameters: {'solver_penalty': ('newton-cholesky', None), 'C': 2.3419289617421373, 'tol': 0.09626936903657887, 'fit_intercept': False, 'class_weight': None, 'threshold': 0.435}. Best is trial 107 with value: 0.9692831909479629.\n",
      "[I 2025-07-01 08:24:23,882] Trial 132 finished with value: 0.9689592897345541 and parameters: {'solver_penalty': ('newton-cg', None), 'C': 6.900275986841045, 'tol': 0.05553798766412166, 'fit_intercept': True, 'class_weight': None, 'threshold': 0.676}. Best is trial 107 with value: 0.9692831909479629.\n",
      "[I 2025-07-01 08:24:24,287] Trial 135 finished with value: 0.9691212330543921 and parameters: {'solver_penalty': ('newton-cholesky', 'l2'), 'C': 1.164663313231058, 'tol': 0.07146247610390474, 'fit_intercept': False, 'class_weight': None, 'threshold': 0.54}. Best is trial 107 with value: 0.9692831909479629.\n",
      "[I 2025-07-01 08:24:26,888] Trial 139 finished with value: 0.9687433798818361 and parameters: {'solver_penalty': ('liblinear', 'l2'), 'C': 2.27123483660965, 'tol': 0.07690855913798744, 'fit_intercept': False, 'class_weight': None, 'threshold': 0.43}. Best is trial 107 with value: 0.9692831909479629.\n",
      "[I 2025-07-01 08:24:27,159] Trial 136 finished with value: 0.9691752141610047 and parameters: {'solver_penalty': ('lbfgs', 'l2'), 'C': 4.756540022009165, 'tol': 0.0485413469818517, 'fit_intercept': True, 'class_weight': 'balanced', 'threshold': 0.681}. Best is trial 107 with value: 0.9692831909479629.\n",
      "[I 2025-07-01 08:24:27,645] Trial 137 finished with value: 0.9689593043082869 and parameters: {'solver_penalty': ('lbfgs', 'l2'), 'C': 7.376383200397018, 'tol': 0.05904376683754536, 'fit_intercept': True, 'class_weight': 'balanced', 'threshold': 0.5}. Best is trial 107 with value: 0.9692831909479629.\n",
      "[I 2025-07-01 08:24:28,153] Trial 138 finished with value: 0.9690672810952453 and parameters: {'solver_penalty': ('newton-cholesky', 'l2'), 'C': 4.6820275525814905, 'tol': 0.08044675160371374, 'fit_intercept': False, 'class_weight': 'balanced', 'threshold': 0.6990000000000001}. Best is trial 107 with value: 0.9692831909479629.\n",
      "[I 2025-07-01 08:24:28,821] Trial 140 finished with value: 0.9689052940542086 and parameters: {'solver_penalty': ('liblinear', 'l1'), 'C': 2.873454126541972, 'tol': 0.08835087394020028, 'fit_intercept': False, 'class_weight': 'balanced', 'threshold': 0.59}. Best is trial 107 with value: 0.9692831909479629.\n",
      "[I 2025-07-01 08:24:31,788] Trial 141 finished with value: 0.9671778257739382 and parameters: {'solver_penalty': ('newton-cg', None), 'C': 1.3134236574637292, 'tol': 0.02186400498177054, 'fit_intercept': False, 'class_weight': 'balanced', 'threshold': 0.795}. Best is trial 107 with value: 0.9692831909479629.\n",
      "[I 2025-07-01 08:24:31,974] Trial 142 finished with value: 0.9687433944555691 and parameters: {'solver_penalty': ('newton-cg', None), 'C': 9.1900687140444, 'tol': 0.052414712723641496, 'fit_intercept': False, 'class_weight': 'balanced', 'threshold': 0.386}. Best is trial 107 with value: 0.9692831909479629.\n",
      "[I 2025-07-01 08:24:32,001] Trial 143 finished with value: 0.9690672665215123 and parameters: {'solver_penalty': ('lbfgs', None), 'C': 1.4656825341216915, 'tol': 0.03782248872850136, 'fit_intercept': False, 'class_weight': 'balanced', 'threshold': 0.512}. Best is trial 107 with value: 0.9692831909479629.\n",
      "[I 2025-07-01 08:24:32,250] Trial 144 finished with value: 0.9691752287347377 and parameters: {'solver_penalty': ('lbfgs', None), 'C': 0.040754683880920184, 'tol': 0.028181662362062893, 'fit_intercept': False, 'class_weight': 'balanced', 'threshold': 0.533}. Best is trial 107 with value: 0.9692831909479629.\n",
      "[I 2025-07-01 08:24:34,263] Trial 145 finished with value: 0.9688513858162601 and parameters: {'solver_penalty': ('liblinear', 'l2'), 'C': 6.583806254023148, 'tol': 0.021767155256496057, 'fit_intercept': True, 'class_weight': None, 'threshold': 0.28400000000000003}. Best is trial 107 with value: 0.9692831909479629.\n",
      "[I 2025-07-01 08:24:35,100] Trial 146 finished with value: 0.9691752141610049 and parameters: {'solver_penalty': ('lbfgs', 'l2'), 'C': 8.382753650530768, 'tol': 0.09406369090999606, 'fit_intercept': True, 'class_weight': None, 'threshold': 0.662}. Best is trial 107 with value: 0.9692831909479629.\n",
      "[I 2025-07-01 08:24:35,699] Trial 147 finished with value: 0.967339783667509 and parameters: {'solver_penalty': ('lbfgs', 'l2'), 'C': 8.275918984257443, 'tol': 0.04658946417139702, 'fit_intercept': True, 'class_weight': None, 'threshold': 0.8260000000000001}. Best is trial 107 with value: 0.9692831909479629.\n",
      "[I 2025-07-01 08:24:36,224] Trial 148 finished with value: 0.9691212330543921 and parameters: {'solver_penalty': ('lbfgs', 'l2'), 'C': 8.745352030534855, 'tol': 0.04701619060928618, 'fit_intercept': False, 'class_weight': 'balanced', 'threshold': 0.597}. Best is trial 107 with value: 0.9692831909479629.\n",
      "[I 2025-07-01 08:24:37,385] Trial 149 finished with value: 0.9692292098413503 and parameters: {'solver_penalty': ('lbfgs', None), 'C': 5.6256221914971745, 'tol': 0.0721698892371485, 'fit_intercept': True, 'class_weight': None, 'threshold': 0.549}. Best is trial 107 with value: 0.9692831909479629.\n",
      "[I 2025-07-01 08:24:38,228] Trial 150 finished with value: 0.9687973318409832 and parameters: {'solver_penalty': ('lbfgs', None), 'C': 7.158823325353492, 'tol': 0.06519755047671327, 'fit_intercept': True, 'class_weight': None, 'threshold': 0.756}. Best is trial 107 with value: 0.9692831909479629.\n",
      "[I 2025-07-01 08:24:39,904] Trial 152 finished with value: 0.9692292098413503 and parameters: {'solver_penalty': ('lbfgs', None), 'C': 6.451958814371656, 'tol': 0.06534978236232647, 'fit_intercept': False, 'class_weight': 'balanced', 'threshold': 0.5640000000000001}. Best is trial 107 with value: 0.9692831909479629.\n",
      "[I 2025-07-01 08:24:40,227] Trial 151 finished with value: 0.9687433944555691 and parameters: {'solver_penalty': ('newton-cg', None), 'C': 6.624728270468445, 'tol': 0.095537446449396, 'fit_intercept': True, 'class_weight': None, 'threshold': 0.395}. Best is trial 107 with value: 0.9692831909479629.\n",
      "[I 2025-07-01 08:24:40,598] Trial 153 finished with value: 0.9691752141610049 and parameters: {'solver_penalty': ('lbfgs', None), 'C': 4.122026857856522, 'tol': 0.08693615638142195, 'fit_intercept': True, 'class_weight': None, 'threshold': 0.651}. Best is trial 107 with value: 0.9692831909479629.\n",
      "[I 2025-07-01 08:24:40,826] Trial 154 finished with value: 0.9689593043082869 and parameters: {'solver_penalty': ('liblinear', 'l2'), 'C': 5.179039641873562, 'tol': 0.052383291644890306, 'fit_intercept': True, 'class_weight': None, 'threshold': 0.467}. Best is trial 107 with value: 0.9692831909479629.\n",
      "[I 2025-07-01 08:24:43,272] Trial 155 finished with value: 0.9691752287347377 and parameters: {'solver_penalty': ('lbfgs', None), 'C': 5.632847380811801, 'tol': 0.0647860944732896, 'fit_intercept': True, 'class_weight': None, 'threshold': 0.53}. Best is trial 107 with value: 0.9692831909479629.\n",
      "[I 2025-07-01 08:24:44,013] Trial 156 finished with value: 0.9691752141610047 and parameters: {'solver_penalty': ('lbfgs', None), 'C': 9.263422597479266, 'tol': 0.07720565351315233, 'fit_intercept': False, 'class_weight': 'balanced', 'threshold': 0.685}. Best is trial 107 with value: 0.9692831909479629.\n",
      "[I 2025-07-01 08:24:44,237] Trial 157 finished with value: 0.9692292098413503 and parameters: {'solver_penalty': ('lbfgs', None), 'C': 7.425966276127346, 'tol': 0.07465074557331967, 'fit_intercept': False, 'class_weight': 'balanced', 'threshold': 0.593}. Best is trial 107 with value: 0.9692831909479629.\n",
      "[I 2025-07-01 08:24:44,580] Trial 158 finished with value: 0.965882250067768 and parameters: {'solver_penalty': ('lbfgs', None), 'C': 5.523287117568158, 'tol': 0.09789358829289027, 'fit_intercept': False, 'class_weight': 'balanced', 'threshold': 0.778}. Best is trial 107 with value: 0.9692831909479629.\n",
      "[I 2025-07-01 08:24:46,899] Trial 159 finished with value: 0.9687433944555691 and parameters: {'solver_penalty': ('lbfgs', None), 'C': 6.164873841528959, 'tol': 0.07168862965821475, 'fit_intercept': False, 'class_weight': 'balanced', 'threshold': 0.367}. Best is trial 107 with value: 0.9692831909479629.\n",
      "[I 2025-07-01 08:24:47,839] Trial 161 finished with value: 0.9691752287347377 and parameters: {'solver_penalty': ('lbfgs', None), 'C': 6.374194226960216, 'tol': 0.06131727730696526, 'fit_intercept': False, 'class_weight': 'balanced', 'threshold': 0.531}. Best is trial 107 with value: 0.9692831909479629.\n",
      "[I 2025-07-01 08:24:47,844] Trial 162 finished with value: 0.9690672665215123 and parameters: {'solver_penalty': ('lbfgs', None), 'C': 4.867726459785468, 'tol': 0.06850489874452774, 'fit_intercept': False, 'class_weight': 'balanced', 'threshold': 0.499}. Best is trial 107 with value: 0.9692831909479629.\n",
      "[I 2025-07-01 08:24:48,960] Trial 160 finished with value: 0.9690672665215123 and parameters: {'solver_penalty': ('lbfgs', None), 'C': 7.45732153316183, 'tol': 0.02573219789399444, 'fit_intercept': True, 'class_weight': 'balanced', 'threshold': 0.705}. Best is trial 107 with value: 0.9692831909479629.\n",
      "[I 2025-07-01 08:24:50,877] Trial 165 finished with value: 0.9687433944555691 and parameters: {'solver_penalty': ('liblinear', 'l1'), 'C': 5.069298062285831, 'tol': 0.07813969310437482, 'fit_intercept': True, 'class_weight': None, 'threshold': 0.487}. Best is trial 107 with value: 0.9692831909479629.\n",
      "[I 2025-07-01 08:24:51,170] Trial 164 finished with value: 0.9689593043082869 and parameters: {'solver_penalty': ('liblinear', 'l2'), 'C': 5.84562878377021, 'tol': 0.0997569994453043, 'fit_intercept': True, 'class_weight': None, 'threshold': 0.467}. Best is trial 107 with value: 0.9692831909479629.\n",
      "[I 2025-07-01 08:24:51,195] Trial 163 finished with value: 0.9690672665215123 and parameters: {'solver_penalty': ('lbfgs', None), 'C': 6.783160515973104, 'tol': 0.06797553333662228, 'fit_intercept': False, 'class_weight': None, 'threshold': 0.47400000000000003}. Best is trial 107 with value: 0.9692831909479629.\n",
      "[I 2025-07-01 08:24:51,610] Trial 166 finished with value: 0.9689053232016743 and parameters: {'solver_penalty': ('liblinear', 'l2'), 'C': 6.230486064590925, 'tol': 0.04786278332615274, 'fit_intercept': False, 'class_weight': None, 'threshold': 0.462}. Best is trial 107 with value: 0.9692831909479629.\n",
      "[I 2025-07-01 08:24:53,818] Trial 167 finished with value: 0.9689053232016743 and parameters: {'solver_penalty': ('lbfgs', None), 'C': 9.47258295399478, 'tol': 0.059867772140693484, 'fit_intercept': False, 'class_weight': None, 'threshold': 0.45}. Best is trial 107 with value: 0.9692831909479629.\n",
      "[I 2025-07-01 08:24:54,506] Trial 168 finished with value: 0.9690672665215123 and parameters: {'solver_penalty': ('lbfgs', None), 'C': 7.371329821914802, 'tol': 0.05830033646496186, 'fit_intercept': True, 'class_weight': 'balanced', 'threshold': 0.536}. Best is trial 107 with value: 0.9692831909479629.\n",
      "[I 2025-07-01 08:24:55,020] Trial 169 finished with value: 0.9691752141610049 and parameters: {'solver_penalty': ('lbfgs', None), 'C': 6.802568496514722, 'tol': 0.04297642036071596, 'fit_intercept': False, 'class_weight': 'balanced', 'threshold': 0.681}. Best is trial 107 with value: 0.9692831909479629.\n",
      "[I 2025-07-01 08:24:55,547] Trial 170 finished with value: 0.9691752141610049 and parameters: {'solver_penalty': ('newton-cg', None), 'C': 9.763548112562082, 'tol': 0.08130089866758747, 'fit_intercept': False, 'class_weight': None, 'threshold': 0.632}. Best is trial 107 with value: 0.9692831909479629.\n",
      "[I 2025-07-01 08:24:56,425] Trial 171 finished with value: 0.9690672665215123 and parameters: {'solver_penalty': ('liblinear', 'l1'), 'C': 6.151746376795065, 'tol': 0.06599022377673791, 'fit_intercept': False, 'class_weight': 'balanced', 'threshold': 0.448}. Best is trial 107 with value: 0.9692831909479629.\n",
      "[I 2025-07-01 08:24:57,956] Trial 174 finished with value: 0.9682575062011234 and parameters: {'solver_penalty': ('liblinear', 'l2'), 'C': 1.7086985926868845, 'tol': 0.09039893722153883, 'fit_intercept': False, 'class_weight': None, 'threshold': 0.756}. Best is trial 107 with value: 0.9692831909479629.\n",
      "[I 2025-07-01 08:24:58,875] Trial 172 finished with value: 0.9684194932421601 and parameters: {'solver_penalty': ('newton-cholesky', 'l2'), 'C': 6.406206680083739, 'tol': 0.05686066830566229, 'fit_intercept': False, 'class_weight': 'balanced', 'threshold': 0.382}. Best is trial 107 with value: 0.9692831909479629.\n",
      "[I 2025-07-01 08:24:59,231] Trial 173 finished with value: 0.9691752141610049 and parameters: {'solver_penalty': ('lbfgs', 'l2'), 'C': 1.1718467840310647, 'tol': 0.04535820816499607, 'fit_intercept': False, 'class_weight': 'balanced', 'threshold': 0.627}. Best is trial 107 with value: 0.9692831909479629.\n",
      "[I 2025-07-01 08:25:00,332] Trial 175 finished with value: 0.9690672665215123 and parameters: {'solver_penalty': ('lbfgs', 'l2'), 'C': 8.72668645796136, 'tol': 0.09273783410502537, 'fit_intercept': False, 'class_weight': 'balanced', 'threshold': 0.499}. Best is trial 107 with value: 0.9692831909479629.\n",
      "[I 2025-07-01 08:25:01,645] Trial 176 finished with value: 0.9691752287347377 and parameters: {'solver_penalty': ('lbfgs', None), 'C': 0.06896099157511132, 'tol': 0.019838927641191675, 'fit_intercept': False, 'class_weight': None, 'threshold': 0.527}. Best is trial 107 with value: 0.9692831909479629.\n",
      "[I 2025-07-01 08:25:02,495] Trial 179 finished with value: 0.9689592897345541 and parameters: {'solver_penalty': ('liblinear', 'l2'), 'C': 6.410721855686948, 'tol': 0.06298458940464985, 'fit_intercept': True, 'class_weight': None, 'threshold': 0.676}. Best is trial 107 with value: 0.9692831909479629.\n",
      "[I 2025-07-01 08:25:03,054] Trial 177 finished with value: 0.9684195078158929 and parameters: {'solver_penalty': ('newton-cholesky', None), 'C': 8.708023900809621, 'tol': 0.08134093515656052, 'fit_intercept': False, 'class_weight': 'balanced', 'threshold': 0.403}. Best is trial 107 with value: 0.9692831909479629.\n",
      "[I 2025-07-01 08:25:03,274] Trial 178 finished with value: 0.9691752287347377 and parameters: {'solver_penalty': ('lbfgs', 'l2'), 'C': 4.234763387041378, 'tol': 0.055213160390709226, 'fit_intercept': False, 'class_weight': 'balanced', 'threshold': 0.525}. Best is trial 107 with value: 0.9692831909479629.\n",
      "[I 2025-07-01 08:25:05,795] Trial 182 finished with value: 0.9691752141610049 and parameters: {'solver_penalty': ('lbfgs', 'l2'), 'C': 4.48291413171237, 'tol': 0.09203340058361469, 'fit_intercept': False, 'class_weight': None, 'threshold': 0.646}. Best is trial 107 with value: 0.9692831909479629.\n",
      "[I 2025-07-01 08:25:05,991] Trial 183 finished with value: 0.9691752287347377 and parameters: {'solver_penalty': ('lbfgs', None), 'C': 2.979019496865102, 'tol': 0.08298832541721311, 'fit_intercept': False, 'class_weight': None, 'threshold': 0.625}. Best is trial 107 with value: 0.9692831909479629.\n",
      "[I 2025-07-01 08:25:06,338] Trial 181 finished with value: 0.9691752141610049 and parameters: {'solver_penalty': ('lbfgs', 'l2'), 'C': 3.1257632382705216, 'tol': 0.0760621754111028, 'fit_intercept': False, 'class_weight': 'balanced', 'threshold': 0.651}. Best is trial 107 with value: 0.9692831909479629.\n",
      "[I 2025-07-01 08:25:06,941] Trial 180 finished with value: 0.960429706514167 and parameters: {'solver_penalty': ('newton-cg', None), 'C': 5.960631784127097, 'tol': 0.02979662309125352, 'fit_intercept': True, 'class_weight': 'balanced', 'threshold': 0.9}. Best is trial 107 with value: 0.9692831909479629.\n",
      "[I 2025-07-01 08:25:09,656] Trial 187 finished with value: 0.9689053232016743 and parameters: {'solver_penalty': ('liblinear', 'l2'), 'C': 6.0295829785850055, 'tol': 0.05140073384807781, 'fit_intercept': True, 'class_weight': 'balanced', 'threshold': 0.526}. Best is trial 107 with value: 0.9692831909479629.\n",
      "[I 2025-07-01 08:25:09,832] Trial 184 finished with value: 0.9691752141610049 and parameters: {'solver_penalty': ('lbfgs', None), 'C': 1.1223926066122134, 'tol': 0.0562769367553601, 'fit_intercept': False, 'class_weight': 'balanced', 'threshold': 0.676}. Best is trial 107 with value: 0.9692831909479629.\n",
      "[I 2025-07-01 08:25:10,080] Trial 185 finished with value: 0.9687973318409832 and parameters: {'solver_penalty': ('lbfgs', None), 'C': 0.817486826315402, 'tol': 0.07330834058907212, 'fit_intercept': True, 'class_weight': 'balanced', 'threshold': 0.742}. Best is trial 107 with value: 0.9692831909479629.\n",
      "[I 2025-07-01 08:25:10,323] Trial 186 finished with value: 0.9690672665215123 and parameters: {'solver_penalty': ('lbfgs', None), 'C': 0.48176670016608564, 'tol': 0.05403213535871709, 'fit_intercept': True, 'class_weight': 'balanced', 'threshold': 0.507}. Best is trial 107 with value: 0.9692831909479629.\n",
      "[I 2025-07-01 08:25:13,760] Trial 191 finished with value: 0.9689053232016743 and parameters: {'solver_penalty': ('newton-cholesky', 'l2'), 'C': 8.873665098950934, 'tol': 0.061225618354904796, 'fit_intercept': True, 'class_weight': None, 'threshold': 0.435}. Best is trial 107 with value: 0.9692831909479629.\n",
      "[I 2025-07-01 08:25:13,965] Trial 188 finished with value: 0.9689053523491399 and parameters: {'solver_penalty': ('lbfgs', None), 'C': 1.1846269851372508, 'tol': 0.05022117621054205, 'fit_intercept': True, 'class_weight': 'balanced', 'threshold': 0.365}. Best is trial 107 with value: 0.9692831909479629.\n",
      "[I 2025-07-01 08:25:14,195] Trial 189 finished with value: 0.9691752141610049 and parameters: {'solver_penalty': ('lbfgs', None), 'C': 0.8773905736642194, 'tol': 0.046775758167871904, 'fit_intercept': True, 'class_weight': 'balanced', 'threshold': 0.647}. Best is trial 107 with value: 0.9692831909479629.\n",
      "[I 2025-07-01 08:25:14,450] Trial 190 finished with value: 0.9691752287347377 and parameters: {'solver_penalty': ('lbfgs', None), 'C': 0.9558422849189003, 'tol': 0.04597374023372283, 'fit_intercept': True, 'class_weight': 'balanced', 'threshold': 0.556}. Best is trial 107 with value: 0.9692831909479629.\n",
      "[I 2025-07-01 08:25:16,871] Trial 192 finished with value: 0.9685814511357311 and parameters: {'solver_penalty': ('newton-cholesky', None), 'C': 5.009207258660814, 'tol': 0.0840948118478552, 'fit_intercept': False, 'class_weight': 'balanced', 'threshold': 0.497}. Best is trial 107 with value: 0.9692831909479629.\n",
      "[I 2025-07-01 08:25:17,912] Trial 194 finished with value: 0.9683654829880816 and parameters: {'solver_penalty': ('newton-cg', None), 'C': 0.7691719774059109, 'tol': 0.01999581776319909, 'fit_intercept': False, 'class_weight': None, 'threshold': 0.766}. Best is trial 107 with value: 0.9692831909479629.\n",
      "[I 2025-07-01 08:25:18,077] Trial 195 finished with value: 0.9687973755621817 and parameters: {'solver_penalty': ('lbfgs', 'l2'), 'C': 0.8566854347047259, 'tol': 0.03463402136584344, 'fit_intercept': True, 'class_weight': 'balanced', 'threshold': 0.444}. Best is trial 107 with value: 0.9692831909479629.\n",
      "[I 2025-07-01 08:25:18,080] Trial 193 finished with value: 0.9689593480294855 and parameters: {'solver_penalty': ('newton-cg', None), 'C': 8.872992578103363, 'tol': 0.06904348531172691, 'fit_intercept': True, 'class_weight': 'balanced', 'threshold': 0.339}. Best is trial 107 with value: 0.9692831909479629.\n",
      "[I 2025-07-01 08:25:19,279] Trial 196 finished with value: 0.9684194495209614 and parameters: {'solver_penalty': ('liblinear', 'l1'), 'C': 0.4258745489646323, 'tol': 0.03382256287442112, 'fit_intercept': True, 'class_weight': None, 'threshold': 0.738}. Best is trial 107 with value: 0.9692831909479629.\n",
      "[I 2025-07-01 08:25:21,286] Trial 199 finished with value: 0.9689053232016743 and parameters: {'solver_penalty': ('newton-cg', None), 'C': 2.9537818394552193, 'tol': 0.037026427023584704, 'fit_intercept': False, 'class_weight': None, 'threshold': 0.468}. Best is trial 107 with value: 0.9692831909479629.\n",
      "[I 2025-07-01 08:25:21,499] Trial 198 finished with value: 0.9687973318409832 and parameters: {'solver_penalty': ('newton-cg', 'l2'), 'C': 1.339418337009198, 'tol': 0.04109501647458516, 'fit_intercept': False, 'class_weight': 'balanced', 'threshold': 0.704}. Best is trial 107 with value: 0.9692831909479629.\n",
      "[I 2025-07-01 08:25:21,824] Trial 197 finished with value: 0.9691752141610049 and parameters: {'solver_penalty': ('newton-cg', None), 'C': 3.1113430506731925, 'tol': 0.029307267798408684, 'fit_intercept': False, 'class_weight': None, 'threshold': 0.635}. Best is trial 107 with value: 0.9692831909479629.\n",
      "[I 2025-07-01 08:25:23,302] Trial 200 finished with value: 0.9691752287347377 and parameters: {'solver_penalty': ('newton-cg', None), 'C': 2.6164728018146697, 'tol': 0.026640814020490195, 'fit_intercept': False, 'class_weight': None, 'threshold': 0.538}. Best is trial 107 with value: 0.9692831909479629.\n",
      "[I 2025-07-01 08:25:23,996] Trial 202 finished with value: 0.9691752141610047 and parameters: {'solver_penalty': ('liblinear', 'l2'), 'C': 7.246063943633506, 'tol': 0.05550669107945577, 'fit_intercept': True, 'class_weight': 'balanced', 'threshold': 0.6990000000000001}. Best is trial 107 with value: 0.9692831909479629.\n",
      "[I 2025-07-01 08:25:24,826] Trial 203 finished with value: 0.9689053232016743 and parameters: {'solver_penalty': ('lbfgs', 'l2'), 'C': 3.2392548365715546, 'tol': 0.09223052401151527, 'fit_intercept': True, 'class_weight': None, 'threshold': 0.445}. Best is trial 107 with value: 0.9692831909479629.\n",
      "[I 2025-07-01 08:25:25,320] Trial 201 finished with value: 0.9689053232016743 and parameters: {'solver_penalty': ('newton-cholesky', 'l2'), 'C': 1.2539713896217999, 'tol': 0.03482872637839582, 'fit_intercept': True, 'class_weight': 'balanced', 'threshold': 0.625}. Best is trial 107 with value: 0.9692831909479629.\n",
      "[I 2025-07-01 08:25:26,136] Trial 204 finished with value: 0.9684734306275742 and parameters: {'solver_penalty': ('liblinear', 'l2'), 'C': 8.189526086545783, 'tol': 0.04703915967152187, 'fit_intercept': False, 'class_weight': 'balanced', 'threshold': 0.724}. Best is trial 107 with value: 0.9692831909479629.\n",
      "[I 2025-07-01 08:25:27,283] Trial 205 finished with value: 0.9672858317083621 and parameters: {'solver_penalty': ('liblinear', 'l2'), 'C': 7.665958508351945, 'tol': 0.01602617374846727, 'fit_intercept': False, 'class_weight': 'balanced', 'threshold': 0.795}. Best is trial 107 with value: 0.9692831909479629.\n",
      "[I 2025-07-01 08:25:27,955] Trial 206 finished with value: 0.9691752287347377 and parameters: {'solver_penalty': ('liblinear', 'l2'), 'C': 9.911756698532805, 'tol': 0.06058475362765118, 'fit_intercept': False, 'class_weight': 'balanced', 'threshold': 0.53}. Best is trial 107 with value: 0.9692831909479629.\n",
      "[I 2025-07-01 08:25:28,778] Trial 207 finished with value: 0.9687974192833805 and parameters: {'solver_penalty': ('liblinear', 'l2'), 'C': 5.126903282858997, 'tol': 0.032537052470395476, 'fit_intercept': False, 'class_weight': 'balanced', 'threshold': 0.267}. Best is trial 107 with value: 0.9692831909479629.\n",
      "[I 2025-07-01 08:25:29,142] Trial 208 finished with value: 0.9692292098413503 and parameters: {'solver_penalty': ('liblinear', 'l2'), 'C': 6.228847267316327, 'tol': 0.029742937070388005, 'fit_intercept': False, 'class_weight': 'balanced', 'threshold': 0.543}. Best is trial 107 with value: 0.9692831909479629.\n",
      "[I 2025-07-01 08:25:30,154] Trial 209 finished with value: 0.9687973755621817 and parameters: {'solver_penalty': ('liblinear', 'l2'), 'C': 5.873545241477451, 'tol': 0.05281809035685979, 'fit_intercept': False, 'class_weight': 'balanced', 'threshold': 0.41100000000000003}. Best is trial 107 with value: 0.9692831909479629.\n",
      "[I 2025-07-01 08:25:31,695] Trial 211 finished with value: 0.9690132854148995 and parameters: {'solver_penalty': ('liblinear', 'l2'), 'C': 6.503323036035629, 'tol': 0.030357663561981697, 'fit_intercept': False, 'class_weight': 'balanced', 'threshold': 0.507}. Best is trial 107 with value: 0.9692831909479629.\n",
      "[I 2025-07-01 08:25:32,736] Trial 213 finished with value: 0.9689053377754071 and parameters: {'solver_penalty': ('liblinear', 'l1'), 'C': 7.124650659856863, 'tol': 0.04849039775788436, 'fit_intercept': True, 'class_weight': None, 'threshold': 0.523}. Best is trial 107 with value: 0.9692831909479629.\n",
      "[I 2025-07-01 08:25:33,110] Trial 210 finished with value: 0.9665840336011986 and parameters: {'solver_penalty': ('newton-cg', 'l2'), 'C': 6.5050363553022414, 'tol': 0.06162025999252287, 'fit_intercept': True, 'class_weight': 'balanced', 'threshold': 0.8}. Best is trial 107 with value: 0.9692831909479629.\n",
      "[I 2025-07-01 08:25:33,319] Trial 212 finished with value: 0.9689592751608211 and parameters: {'solver_penalty': ('lbfgs', None), 'C': 6.993947367784916, 'tol': 0.06394519366051113, 'fit_intercept': False, 'class_weight': 'balanced', 'threshold': 0.706}. Best is trial 107 with value: 0.9692831909479629.\n",
      "[I 2025-07-01 08:25:35,434] Trial 215 finished with value: 0.9682035688157093 and parameters: {'solver_penalty': ('liblinear', 'l1'), 'C': 7.09028753149137, 'tol': 0.02887482560092398, 'fit_intercept': False, 'class_weight': 'balanced', 'threshold': 0.755}. Best is trial 107 with value: 0.9692831909479629.\n",
      "[I 2025-07-01 08:25:36,251] Trial 216 finished with value: 0.9691752287347377 and parameters: {'solver_penalty': ('liblinear', 'l2'), 'C': 2.0913708013038645, 'tol': 0.03947172893711675, 'fit_intercept': False, 'class_weight': None, 'threshold': 0.552}. Best is trial 107 with value: 0.9692831909479629.\n",
      "[I 2025-07-01 08:25:36,265] Trial 217 finished with value: 0.9683654829880817 and parameters: {'solver_penalty': ('liblinear', 'l1'), 'C': 7.89649877610968, 'tol': 0.026663936275950543, 'fit_intercept': False, 'class_weight': 'balanced', 'threshold': 0.72}. Best is trial 107 with value: 0.9692831909479629.\n",
      "[I 2025-07-01 08:25:36,484] Trial 214 finished with value: 0.9691752141610049 and parameters: {'solver_penalty': ('newton-cg', None), 'C': 0.9127313813358373, 'tol': 0.03702610940352644, 'fit_intercept': False, 'class_weight': 'balanced', 'threshold': 0.622}. Best is trial 107 with value: 0.9692831909479629.\n",
      "[I 2025-07-01 08:25:38,494] Trial 219 finished with value: 0.9691752141610049 and parameters: {'solver_penalty': ('liblinear', 'l2'), 'C': 9.15726844235453, 'tol': 0.027661214464287768, 'fit_intercept': False, 'class_weight': 'balanced', 'threshold': 0.5730000000000001}. Best is trial 107 with value: 0.9692831909479629.\n",
      "[I 2025-07-01 08:25:39,169] Trial 218 finished with value: 0.9689053232016743 and parameters: {'solver_penalty': ('newton-cholesky', None), 'C': 8.216465471935232, 'tol': 0.03289035594018668, 'fit_intercept': True, 'class_weight': 'balanced', 'threshold': 0.589}. Best is trial 107 with value: 0.9692831909479629.\n",
      "[I 2025-07-01 08:25:39,857] Trial 221 finished with value: 0.9691752287347377 and parameters: {'solver_penalty': ('newton-cg', 'l2'), 'C': 6.2020793180858185, 'tol': 0.09421525212006135, 'fit_intercept': False, 'class_weight': None, 'threshold': 0.541}. Best is trial 107 with value: 0.9692831909479629.\n",
      "[I 2025-07-01 08:25:40,396] Trial 220 finished with value: 0.9691212476281251 and parameters: {'solver_penalty': ('newton-cg', 'l2'), 'C': 6.670879164390471, 'tol': 0.06416405683569565, 'fit_intercept': False, 'class_weight': 'balanced', 'threshold': 0.546}. Best is trial 107 with value: 0.9692831909479629.\n",
      "[I 2025-07-01 08:25:42,009] Trial 222 finished with value: 0.9691752141610049 and parameters: {'solver_penalty': ('newton-cg', 'l2'), 'C': 5.914287494299176, 'tol': 0.09590321706133716, 'fit_intercept': True, 'class_weight': None, 'threshold': 0.647}. Best is trial 107 with value: 0.9692831909479629.\n",
      "[I 2025-07-01 08:25:42,746] Trial 223 finished with value: 0.9656122570923072 and parameters: {'solver_penalty': ('lbfgs', None), 'C': 1.6738144823117844, 'tol': 0.05013653035495258, 'fit_intercept': False, 'class_weight': 'balanced', 'threshold': 0.113}. Best is trial 107 with value: 0.9692831909479629.\n",
      "[I 2025-07-01 08:25:44,256] Trial 224 finished with value: 0.9688513712425273 and parameters: {'solver_penalty': ('newton-cg', None), 'C': 6.58705363367599, 'tol': 0.04555208413713039, 'fit_intercept': True, 'class_weight': 'balanced', 'threshold': 0.365}. Best is trial 107 with value: 0.9692831909479629.\n",
      "[I 2025-07-01 08:25:44,461] Trial 226 finished with value: 0.9690672665215121 and parameters: {'solver_penalty': ('liblinear', 'l1'), 'C': 0.6522013395968881, 'tol': 0.02626530138465452, 'fit_intercept': False, 'class_weight': None, 'threshold': 0.489}. Best is trial 107 with value: 0.9692831909479629.\n",
      "[I 2025-07-01 08:25:44,987] Trial 225 finished with value: 0.9687973318409832 and parameters: {'solver_penalty': ('newton-cg', None), 'C': 6.080448054047644, 'tol': 0.05567087432780823, 'fit_intercept': True, 'class_weight': 'balanced', 'threshold': 0.6940000000000001}. Best is trial 107 with value: 0.9692831909479629.\n",
      "[I 2025-07-01 08:25:45,365] Trial 227 finished with value: 0.9691752287347377 and parameters: {'solver_penalty': ('liblinear', 'l2'), 'C': 4.083622626606205, 'tol': 0.06887120175257878, 'fit_intercept': False, 'class_weight': None, 'threshold': 0.587}. Best is trial 107 with value: 0.9692831909479629.\n",
      "[I 2025-07-01 08:25:46,710] Trial 229 finished with value: 0.9689592897345541 and parameters: {'solver_penalty': ('liblinear', 'l2'), 'C': 2.408874629274833, 'tol': 0.0877514110993554, 'fit_intercept': True, 'class_weight': None, 'threshold': 0.675}. Best is trial 107 with value: 0.9692831909479629.\n",
      "[I 2025-07-01 08:25:48,477] Trial 228 finished with value: 0.9691212330543921 and parameters: {'solver_penalty': ('newton-cg', None), 'C': 7.498718827223673, 'tol': 0.06453903595103076, 'fit_intercept': False, 'class_weight': 'balanced', 'threshold': 0.649}. Best is trial 107 with value: 0.9692831909479629.\n",
      "[I 2025-07-01 08:25:49,012] Trial 231 finished with value: 0.9690672665215123 and parameters: {'solver_penalty': ('lbfgs', None), 'C': 0.2436332149887132, 'tol': 0.04552962797674824, 'fit_intercept': False, 'class_weight': 'balanced', 'threshold': 0.499}. Best is trial 107 with value: 0.9692831909479629.\n",
      "[I 2025-07-01 08:25:49,406] Trial 230 finished with value: 0.9691752287347377 and parameters: {'solver_penalty': ('newton-cg', None), 'C': 1.0190639841949953, 'tol': 0.005877309186253149, 'fit_intercept': True, 'class_weight': None, 'threshold': 0.53}. Best is trial 107 with value: 0.9692831909479629.\n",
      "[I 2025-07-01 08:25:50,116] Trial 232 finished with value: 0.969013256267434 and parameters: {'solver_penalty': ('lbfgs', 'l2'), 'C': 6.726811287382644, 'tol': 0.07178929534181741, 'fit_intercept': False, 'class_weight': 'balanced', 'threshold': 0.7020000000000001}. Best is trial 107 with value: 0.9692831909479629.\n",
      "[I 2025-07-01 08:25:51,344] Trial 234 finished with value: 0.9687973901359147 and parameters: {'solver_penalty': ('liblinear', 'l1'), 'C': 4.939959253754951, 'tol': 0.05365016791199043, 'fit_intercept': True, 'class_weight': 'balanced', 'threshold': 0.644}. Best is trial 107 with value: 0.9692831909479629.\n",
      "[I 2025-07-01 08:25:52,279] Trial 233 finished with value: 0.9688513858162603 and parameters: {'solver_penalty': ('lbfgs', 'l2'), 'C': 4.312930162725281, 'tol': 0.08747393577176486, 'fit_intercept': False, 'class_weight': 'balanced', 'threshold': 0.324}. Best is trial 107 with value: 0.9692831909479629.\n",
      "[I 2025-07-01 08:25:53,022] Trial 235 finished with value: 0.9686354322423437 and parameters: {'solver_penalty': ('newton-cholesky', None), 'C': 6.90353254116676, 'tol': 0.02475948521044546, 'fit_intercept': False, 'class_weight': 'balanced', 'threshold': 0.535}. Best is trial 107 with value: 0.9692831909479629.\n",
      "[I 2025-07-01 08:25:54,604] Trial 236 finished with value: 0.9691752141610049 and parameters: {'solver_penalty': ('lbfgs', None), 'C': 0.6643415135228072, 'tol': 0.018322720717125887, 'fit_intercept': False, 'class_weight': 'balanced', 'threshold': 0.615}. Best is trial 107 with value: 0.9692831909479629.\n",
      "[I 2025-07-01 08:25:55,195] Trial 237 finished with value: 0.9691752141610047 and parameters: {'solver_penalty': ('lbfgs', None), 'C': 0.03119890298514036, 'tol': 0.024073754568770082, 'fit_intercept': False, 'class_weight': 'balanced', 'threshold': 0.662}. Best is trial 107 with value: 0.9692831909479629.\n",
      "[I 2025-07-01 08:25:56,769] Trial 239 finished with value: 0.9691752141610049 and parameters: {'solver_penalty': ('lbfgs', None), 'C': 0.6496365943451409, 'tol': 0.01732912544119703, 'fit_intercept': False, 'class_weight': 'balanced', 'threshold': 0.626}. Best is trial 107 with value: 0.9692831909479629.\n",
      "[I 2025-07-01 08:25:56,782] Trial 238 finished with value: 0.9691752287347377 and parameters: {'solver_penalty': ('lbfgs', None), 'C': 1.3081242400004025, 'tol': 0.014240057723479657, 'fit_intercept': False, 'class_weight': 'balanced', 'threshold': 0.546}. Best is trial 107 with value: 0.9692831909479629.\n",
      "[I 2025-07-01 08:25:58,567] Trial 240 finished with value: 0.9687973755621817 and parameters: {'solver_penalty': ('lbfgs', None), 'C': 9.450857365618646, 'tol': 0.07205153279063717, 'fit_intercept': False, 'class_weight': 'balanced', 'threshold': 0.401}. Best is trial 107 with value: 0.9692831909479629.\n",
      "[I 2025-07-01 08:25:59,411] Trial 243 finished with value: 0.9689593480294855 and parameters: {'solver_penalty': ('liblinear', 'l2'), 'C': 0.5668618133300769, 'tol': 0.09573308106408858, 'fit_intercept': False, 'class_weight': None, 'threshold': 0.338}. Best is trial 107 with value: 0.9692831909479629.\n",
      "[I 2025-07-01 08:25:59,929] Trial 241 finished with value: 0.9687973609884487 and parameters: {'solver_penalty': ('lbfgs', 'l2'), 'C': 1.3693721977238997, 'tol': 0.010934735529469594, 'fit_intercept': False, 'class_weight': 'balanced', 'threshold': 0.438}. Best is trial 107 with value: 0.9692831909479629.\n",
      "[I 2025-07-01 08:25:59,964] Trial 242 finished with value: 0.9686893696277578 and parameters: {'solver_penalty': ('liblinear', 'l2'), 'C': 3.5824985317409954, 'tol': 0.033756927605667765, 'fit_intercept': False, 'class_weight': 'balanced', 'threshold': 0.705}. Best is trial 107 with value: 0.9692831909479629.\n",
      "[I 2025-07-01 08:26:01,633] Trial 244 finished with value: 0.9686354468160765 and parameters: {'solver_penalty': ('liblinear', 'l1'), 'C': 0.9087597113852979, 'tol': 0.041229640099850196, 'fit_intercept': False, 'class_weight': 'balanced', 'threshold': 0.332}. Best is trial 107 with value: 0.9692831909479629.\n",
      "[I 2025-07-01 08:26:02,454] Trial 245 finished with value: 0.9690672665215123 and parameters: {'solver_penalty': ('liblinear', 'l2'), 'C': 6.444317219047183, 'tol': 0.07602310025334945, 'fit_intercept': True, 'class_weight': None, 'threshold': 0.51}. Best is trial 107 with value: 0.9692831909479629.\n",
      "[I 2025-07-01 08:26:03,289] Trial 247 finished with value: 0.9687433944555691 and parameters: {'solver_penalty': ('lbfgs', None), 'C': 5.383095959223984, 'tol': 0.07961307912893326, 'fit_intercept': True, 'class_weight': None, 'threshold': 0.339}. Best is trial 107 with value: 0.9692831909479629.\n",
      "[I 2025-07-01 08:26:03,291] Trial 246 finished with value: 0.9690672665215123 and parameters: {'solver_penalty': ('lbfgs', None), 'C': 6.374807906707377, 'tol': 0.06691030332825015, 'fit_intercept': True, 'class_weight': None, 'threshold': 0.47300000000000003}. Best is trial 107 with value: 0.9692831909479629.\n",
      "[I 2025-07-01 08:26:05,530] Trial 249 finished with value: 0.9690672665215123 and parameters: {'solver_penalty': ('lbfgs', None), 'C': 5.11727438304329, 'tol': 0.055835028550093146, 'fit_intercept': True, 'class_weight': None, 'threshold': 0.493}. Best is trial 107 with value: 0.9692831909479629.\n",
      "[I 2025-07-01 08:26:06,074] Trial 248 finished with value: 0.9689053232016743 and parameters: {'solver_penalty': ('newton-cg', None), 'C': 7.549503207557381, 'tol': 0.030400567697252415, 'fit_intercept': True, 'class_weight': None, 'threshold': 0.438}. Best is trial 107 with value: 0.9692831909479629.\n",
      "[I 2025-07-01 08:26:06,619] Trial 251 finished with value: 0.9688513129475957 and parameters: {'solver_penalty': ('lbfgs', None), 'C': 4.811881789197774, 'tol': 0.06470574224134858, 'fit_intercept': True, 'class_weight': 'balanced', 'threshold': 0.747}. Best is trial 107 with value: 0.9692831909479629.\n",
      "[I 2025-07-01 08:26:07,307] Trial 250 finished with value: 0.9687973609884487 and parameters: {'solver_penalty': ('newton-cg', None), 'C': 5.689974225471045, 'tol': 0.07560050816817901, 'fit_intercept': True, 'class_weight': 'balanced', 'threshold': 0.443}. Best is trial 107 with value: 0.9692831909479629.\n",
      "[I 2025-07-01 08:26:08,827] Trial 253 finished with value: 0.9682575353485892 and parameters: {'solver_penalty': ('newton-cholesky', None), 'C': 2.3043929554748557, 'tol': 0.012996231200579883, 'fit_intercept': False, 'class_weight': None, 'threshold': 0.746}. Best is trial 107 with value: 0.9692831909479629.\n",
      "[I 2025-07-01 08:26:09,010] Trial 252 finished with value: 0.9686354468160765 and parameters: {'solver_penalty': ('newton-cholesky', 'l2'), 'C': 0.03662764430661784, 'tol': 0.0067502719877321135, 'fit_intercept': False, 'class_weight': 'balanced', 'threshold': 0.47000000000000003}. Best is trial 107 with value: 0.9692831909479629.\n",
      "[I 2025-07-01 08:26:10,177] Trial 255 finished with value: 0.9691212330543921 and parameters: {'solver_penalty': ('newton-cholesky', None), 'C': 7.411169926129615, 'tol': 0.06691844891676069, 'fit_intercept': True, 'class_weight': None, 'threshold': 0.588}. Best is trial 107 with value: 0.9692831909479629.\n",
      "[I 2025-07-01 08:26:11,195] Trial 257 finished with value: 0.9688513858162601 and parameters: {'solver_penalty': ('liblinear', 'l2'), 'C': 7.939239989528347, 'tol': 0.024407039889898015, 'fit_intercept': False, 'class_weight': 'balanced', 'threshold': 0.296}. Best is trial 107 with value: 0.9692831909479629.\n",
      "[I 2025-07-01 08:26:11,378] Trial 254 finished with value: 0.9687973755621817 and parameters: {'solver_penalty': ('newton-cg', None), 'C': 4.518509120265762, 'tol': 0.03259646909746959, 'fit_intercept': True, 'class_weight': 'balanced', 'threshold': 0.509}. Best is trial 107 with value: 0.9692831909479629.\n",
      "[I 2025-07-01 08:26:11,911] Trial 256 finished with value: 0.9687973318409832 and parameters: {'solver_penalty': ('lbfgs', None), 'C': 4.38688810555905, 'tol': 0.05875419685271852, 'fit_intercept': True, 'class_weight': None, 'threshold': 0.736}. Best is trial 107 with value: 0.9692831909479629.\n",
      "[I 2025-07-01 08:26:14,423] Trial 258 finished with value: 0.9690672665215123 and parameters: {'solver_penalty': ('newton-cg', None), 'C': 6.236849504171399, 'tol': 0.09859533492709956, 'fit_intercept': False, 'class_weight': 'balanced', 'threshold': 0.519}. Best is trial 107 with value: 0.9692831909479629.\n",
      "[I 2025-07-01 08:26:14,608] Trial 259 finished with value: 0.9691752287347377 and parameters: {'solver_penalty': ('newton-cg', None), 'C': 0.5432784781512356, 'tol': 0.03886241130440939, 'fit_intercept': False, 'class_weight': None, 'threshold': 0.524}. Best is trial 107 with value: 0.9692831909479629.\n",
      "[I 2025-07-01 08:26:14,621] Trial 260 finished with value: 0.9690672665215123 and parameters: {'solver_penalty': ('lbfgs', 'l2'), 'C': 5.142932346347169, 'tol': 0.044145955250948124, 'fit_intercept': True, 'class_weight': None, 'threshold': 0.481}. Best is trial 107 with value: 0.9692831909479629.\n",
      "[I 2025-07-01 08:26:17,789] Trial 263 finished with value: 0.9686894424964221 and parameters: {'solver_penalty': ('liblinear', 'l2'), 'C': 5.667139401436591, 'tol': 0.015216330421308419, 'fit_intercept': True, 'class_weight': 'balanced', 'threshold': 0.437}. Best is trial 107 with value: 0.9692831909479629.\n",
      "[I 2025-07-01 08:26:17,792] Trial 264 finished with value: 0.9691212476281251 and parameters: {'solver_penalty': ('liblinear', 'l2'), 'C': 7.409245624015517, 'tol': 0.05130300690587891, 'fit_intercept': True, 'class_weight': None, 'threshold': 0.518}. Best is trial 107 with value: 0.9692831909479629.\n",
      "[I 2025-07-01 08:26:18,303] Trial 262 finished with value: 0.9690672665215123 and parameters: {'solver_penalty': ('newton-cg', None), 'C': 0.33363199769894347, 'tol': 0.029139590451079604, 'fit_intercept': False, 'class_weight': None, 'threshold': 0.522}. Best is trial 107 with value: 0.9692831909479629.\n",
      "[I 2025-07-01 08:26:18,533] Trial 261 finished with value: 0.9691212184806591 and parameters: {'solver_penalty': ('lbfgs', 'l2'), 'C': 1.9129736158700217, 'tol': 0.00033736244546400326, 'fit_intercept': False, 'class_weight': None, 'threshold': 0.544}. Best is trial 107 with value: 0.9692831909479629.\n",
      "[I 2025-07-01 08:26:20,809] Trial 267 finished with value: 0.9688513129475957 and parameters: {'solver_penalty': ('liblinear', 'l2'), 'C': 2.80064149393108, 'tol': 0.04144294861059791, 'fit_intercept': True, 'class_weight': None, 'threshold': 0.6950000000000001}. Best is trial 107 with value: 0.9692831909479629.\n",
      "[I 2025-07-01 08:26:21,304] Trial 266 finished with value: 0.9690132854148995 and parameters: {'solver_penalty': ('newton-cholesky', None), 'C': 0.23257125672471474, 'tol': 0.03685852372581019, 'fit_intercept': True, 'class_weight': 'balanced', 'threshold': 0.669}. Best is trial 107 with value: 0.9692831909479629.\n",
      "[I 2025-07-01 08:26:21,906] Trial 265 finished with value: 0.9690672665215123 and parameters: {'solver_penalty': ('newton-cg', 'l2'), 'C': 0.3363821179265478, 'tol': 0.019384217828728956, 'fit_intercept': False, 'class_weight': 'balanced', 'threshold': 0.47900000000000004}. Best is trial 107 with value: 0.9692831909479629.\n",
      "[I 2025-07-01 08:26:21,908] Trial 268 finished with value: 0.9689593043082869 and parameters: {'solver_penalty': ('newton-cholesky', 'l2'), 'C': 8.634100898645709, 'tol': 0.054438040699618495, 'fit_intercept': True, 'class_weight': 'balanced', 'threshold': 0.637}. Best is trial 107 with value: 0.9692831909479629.\n",
      "[I 2025-07-01 08:26:24,648] Trial 270 finished with value: 0.9690672519477795 and parameters: {'solver_penalty': ('newton-cholesky', 'l2'), 'C': 2.6450163730042155, 'tol': 0.09066362658827513, 'fit_intercept': False, 'class_weight': None, 'threshold': 0.636}. Best is trial 107 with value: 0.9692831909479629.\n",
      "[I 2025-07-01 08:26:24,983] Trial 271 finished with value: 0.9689052940542086 and parameters: {'solver_penalty': ('liblinear', 'l1'), 'C': 2.99159543805776, 'tol': 0.04635378900852241, 'fit_intercept': False, 'class_weight': 'balanced', 'threshold': 0.595}. Best is trial 107 with value: 0.9692831909479629.\n",
      "[I 2025-07-01 08:26:25,016] Trial 272 finished with value: 0.9691752287347377 and parameters: {'solver_penalty': ('liblinear', 'l2'), 'C': 4.218216235717681, 'tol': 0.08128413748022514, 'fit_intercept': True, 'class_weight': 'balanced', 'threshold': 0.626}. Best is trial 107 with value: 0.9692831909479629.\n",
      "[I 2025-07-01 08:26:25,907] Trial 269 finished with value: 0.9687973901359147 and parameters: {'solver_penalty': ('lbfgs', None), 'C': 0.2577972897147759, 'tol': 0.019657807027153754, 'fit_intercept': True, 'class_weight': 'balanced', 'threshold': 0.582}. Best is trial 107 with value: 0.9692831909479629.\n",
      "[I 2025-07-01 08:26:27,693] Trial 274 finished with value: 0.9679336049877143 and parameters: {'solver_penalty': ('lbfgs', None), 'C': 1.0339809173043129, 'tol': 0.043820331819494594, 'fit_intercept': False, 'class_weight': None, 'threshold': 0.796}. Best is trial 107 with value: 0.9692831909479629.\n",
      "[I 2025-07-01 08:26:29,012] Trial 273 finished with value: 0.968473445201307 and parameters: {'solver_penalty': ('newton-cg', None), 'C': 8.568712176687141, 'tol': 0.026673222632976952, 'fit_intercept': True, 'class_weight': 'balanced', 'threshold': 0.805}. Best is trial 107 with value: 0.9692831909479629.\n",
      "[I 2025-07-01 08:26:29,179] Trial 275 finished with value: 0.9691752141610049 and parameters: {'solver_penalty': ('newton-cg', None), 'C': 8.020910888737736, 'tol': 0.07054481111105912, 'fit_intercept': True, 'class_weight': 'balanced', 'threshold': 0.621}. Best is trial 107 with value: 0.9692831909479629.\n",
      "[I 2025-07-01 08:26:29,733] Trial 277 finished with value: 0.9691212330543921 and parameters: {'solver_penalty': ('liblinear', 'l2'), 'C': 5.631626328578958, 'tol': 0.01665331678675918, 'fit_intercept': False, 'class_weight': 'balanced', 'threshold': 0.612}. Best is trial 107 with value: 0.9692831909479629.\n",
      "[I 2025-07-01 08:26:30,409] Trial 276 finished with value: 0.9691752141610049 and parameters: {'solver_penalty': ('newton-cg', None), 'C': 8.391823854440602, 'tol': 0.03256310460108277, 'fit_intercept': True, 'class_weight': 'balanced', 'threshold': 0.686}. Best is trial 107 with value: 0.9692831909479629.\n",
      "[I 2025-07-01 08:26:31,386] Trial 278 finished with value: 0.9692831909479629 and parameters: {'solver_penalty': ('liblinear', 'l2'), 'C': 2.2184200415954165, 'tol': 0.0967162302731035, 'fit_intercept': False, 'class_weight': None, 'threshold': 0.5740000000000001}. Best is trial 107 with value: 0.9692831909479629.\n",
      "[I 2025-07-01 08:26:32,396] Trial 279 finished with value: 0.930036682085676 and parameters: {'solver_penalty': ('newton-cholesky', None), 'C': 0.8357682241113862, 'tol': 0.08184623150412368, 'fit_intercept': False, 'class_weight': 'balanced', 'threshold': 0.113}. Best is trial 107 with value: 0.9692831909479629.\n",
      "[I 2025-07-01 08:26:33,226] Trial 282 finished with value: 0.9691212330543921 and parameters: {'solver_penalty': ('liblinear', 'l2'), 'C': 2.648728960556091, 'tol': 0.0999253496927041, 'fit_intercept': False, 'class_weight': None, 'threshold': 0.661}. Best is trial 107 with value: 0.9692831909479629.\n",
      "[I 2025-07-01 08:26:34,719] Trial 283 finished with value: 0.9680955628812853 and parameters: {'solver_penalty': ('liblinear', 'l2'), 'C': 3.70709883337189, 'tol': 0.08875008378087643, 'fit_intercept': False, 'class_weight': None, 'threshold': 0.757}. Best is trial 107 with value: 0.9692831909479629.\n",
      "[I 2025-07-01 08:26:34,914] Trial 280 finished with value: 0.9692291952676175 and parameters: {'solver_penalty': ('newton-cg', None), 'C': 0.5268797854483331, 'tol': 0.033327726997752716, 'fit_intercept': True, 'class_weight': 'balanced', 'threshold': 0.712}. Best is trial 107 with value: 0.9692831909479629.\n",
      "[I 2025-07-01 08:26:35,280] Trial 281 finished with value: 0.9691752287347377 and parameters: {'solver_penalty': ('newton-cg', None), 'C': 0.11318233343777467, 'tol': 0.03698659175077937, 'fit_intercept': True, 'class_weight': 'balanced', 'threshold': 0.663}. Best is trial 107 with value: 0.9692831909479629.\n",
      "[I 2025-07-01 08:26:37,259] Trial 284 finished with value: 0.9691752141610049 and parameters: {'solver_penalty': ('lbfgs', None), 'C': 6.812304354848133, 'tol': 0.08015073800048009, 'fit_intercept': False, 'class_weight': 'balanced', 'threshold': 0.643}. Best is trial 107 with value: 0.9692831909479629.\n",
      "[I 2025-07-01 08:26:37,588] Trial 286 finished with value: 0.9670698635607128 and parameters: {'solver_penalty': ('liblinear', 'l2'), 'C': 5.552897482511868, 'tol': 0.05829631489429014, 'fit_intercept': True, 'class_weight': None, 'threshold': 0.808}. Best is trial 107 with value: 0.9692831909479629.\n",
      "[I 2025-07-01 08:26:37,957] Trial 287 finished with value: 0.9691752141610049 and parameters: {'solver_penalty': ('liblinear', 'l2'), 'C': 1.5559020858487262, 'tol': 0.06704774710392022, 'fit_intercept': False, 'class_weight': None, 'threshold': 0.652}. Best is trial 107 with value: 0.9692831909479629.\n",
      "[I 2025-07-01 08:26:38,826] Trial 285 finished with value: 0.9689053232016743 and parameters: {'solver_penalty': ('newton-cg', 'l2'), 'C': 2.3502073405981037, 'tol': 0.07590398750494547, 'fit_intercept': True, 'class_weight': None, 'threshold': 0.464}. Best is trial 107 with value: 0.9692831909479629.\n",
      "[I 2025-07-01 08:26:40,983] Trial 291 finished with value: 0.9688513858162601 and parameters: {'solver_penalty': ('lbfgs', None), 'C': 2.8476234013702824, 'tol': 0.09591080737903801, 'fit_intercept': False, 'class_weight': None, 'threshold': 0.227}. Best is trial 107 with value: 0.9692831909479629.\n",
      "[I 2025-07-01 08:26:41,169] Trial 288 finished with value: 0.8188295543643956 and parameters: {'solver_penalty': ('newton-cg', None), 'C': 2.6950268312973447, 'tol': 0.05019527783121833, 'fit_intercept': True, 'class_weight': 'balanced', 'threshold': 0.9490000000000001}. Best is trial 107 with value: 0.9692831909479629.\n",
      "[I 2025-07-01 08:26:41,530] Trial 290 finished with value: 0.9565434311813761 and parameters: {'solver_penalty': ('newton-cg', None), 'C': 1.787981825700074, 'tol': 0.039337584189119826, 'fit_intercept': True, 'class_weight': 'balanced', 'threshold': 0.879}. Best is trial 107 with value: 0.9692831909479629.\n",
      "[I 2025-07-01 08:26:41,930] Trial 289 finished with value: 0.9689053232016743 and parameters: {'solver_penalty': ('newton-cg', None), 'C': 1.7551070636408777, 'tol': 0.008213642859348527, 'fit_intercept': False, 'class_weight': 'balanced', 'threshold': 0.51}. Best is trial 107 with value: 0.9692831909479629.\n",
      "[I 2025-07-01 08:26:43,926] Trial 292 finished with value: 0.9676637286021167 and parameters: {'solver_penalty': ('newton-cholesky', 'l2'), 'C': 3.940267489030774, 'tol': 0.0038909262949406373, 'fit_intercept': True, 'class_weight': None, 'threshold': 0.798}. Best is trial 107 with value: 0.9692831909479629.\n",
      "[I 2025-07-01 08:26:44,611] Trial 295 finished with value: 0.9686893987752235 and parameters: {'solver_penalty': ('newton-cholesky', None), 'C': 0.5121235963621539, 'tol': 0.04673710431852378, 'fit_intercept': False, 'class_weight': 'balanced', 'threshold': 0.782}. Best is trial 107 with value: 0.9692831909479629.\n",
      "[I 2025-07-01 08:26:44,951] Trial 294 finished with value: 0.9688514003899931 and parameters: {'solver_penalty': ('newton-cg', 'l2'), 'C': 6.747859928715372, 'tol': 0.09725952096946724, 'fit_intercept': True, 'class_weight': 'balanced', 'threshold': 0.266}. Best is trial 107 with value: 0.9692831909479629.\n",
      "[I 2025-07-01 08:26:46,906] Trial 297 finished with value: 0.9692292098413503 and parameters: {'solver_penalty': ('liblinear', 'l2'), 'C': 2.434193875666977, 'tol': 0.09542058280160003, 'fit_intercept': False, 'class_weight': None, 'threshold': 0.56}. Best is trial 107 with value: 0.9692831909479629.\n",
      "[I 2025-07-01 08:26:47,278] Trial 296 finished with value: 0.3022007065345703 and parameters: {'solver_penalty': ('lbfgs', None), 'C': 0.5748154485435943, 'tol': 0.09130954457731984, 'fit_intercept': True, 'class_weight': 'balanced', 'threshold': 0.007}. Best is trial 107 with value: 0.9692831909479629.\n",
      "[I 2025-07-01 08:26:47,710] Trial 293 finished with value: 0.9685814802831967 and parameters: {'solver_penalty': ('newton-cg', None), 'C': 2.65838799819027, 'tol': 0.00512272606144978, 'fit_intercept': False, 'class_weight': 'balanced', 'threshold': 0.377}. Best is trial 107 with value: 0.9692831909479629.\n",
      "[I 2025-07-01 08:26:48,832] Trial 298 finished with value: 0.9691752141610047 and parameters: {'solver_penalty': ('lbfgs', 'l2'), 'C': 4.870085144156102, 'tol': 0.04794693992347282, 'fit_intercept': False, 'class_weight': 'balanced', 'threshold': 0.662}. Best is trial 107 with value: 0.9692831909479629.\n",
      "[I 2025-07-01 08:26:49,683] Trial 300 finished with value: 0.9690672665215123 and parameters: {'solver_penalty': ('liblinear', 'l2'), 'C': 2.9434884737694276, 'tol': 0.07741218998908811, 'fit_intercept': False, 'class_weight': None, 'threshold': 0.501}. Best is trial 107 with value: 0.9692831909479629.\n",
      "[I 2025-07-01 08:26:50,366] Trial 301 finished with value: 0.9690672665215123 and parameters: {'solver_penalty': ('liblinear', 'l2'), 'C': 2.753460992039172, 'tol': 0.09690540758809466, 'fit_intercept': False, 'class_weight': None, 'threshold': 0.47900000000000004}. Best is trial 107 with value: 0.9692831909479629.\n",
      "[I 2025-07-01 08:26:51,365] Trial 302 finished with value: 0.9691752287347377 and parameters: {'solver_penalty': ('liblinear', 'l2'), 'C': 0.6874088893863728, 'tol': 0.09586812576113977, 'fit_intercept': False, 'class_weight': None, 'threshold': 0.59}. Best is trial 107 with value: 0.9692831909479629.\n",
      "[I 2025-07-01 08:26:52,339] Trial 299 finished with value: 0.9691752141610049 and parameters: {'solver_penalty': ('newton-cg', None), 'C': 5.122677460248639, 'tol': 0.03077487699846901, 'fit_intercept': False, 'class_weight': 'balanced', 'threshold': 0.607}. Best is trial 107 with value: 0.9692831909479629.\n",
      "[I 2025-07-01 08:26:52,344] Trial 303 finished with value: 0.9691752287347377 and parameters: {'solver_penalty': ('liblinear', 'l2'), 'C': 2.299133402325681, 'tol': 0.09776513634488655, 'fit_intercept': False, 'class_weight': None, 'threshold': 0.591}. Best is trial 107 with value: 0.9692831909479629.\n",
      "[I 2025-07-01 08:26:54,000] Trial 304 finished with value: 0.9692292098413503 and parameters: {'solver_penalty': ('lbfgs', 'l2'), 'C': 4.692633685169671, 'tol': 0.06908244101847315, 'fit_intercept': False, 'class_weight': 'balanced', 'threshold': 0.592}. Best is trial 107 with value: 0.9692831909479629.\n",
      "[I 2025-07-01 08:26:55,016] Trial 305 finished with value: 0.9644786392797078 and parameters: {'solver_penalty': ('newton-cg', 'l2'), 'C': 0.5674703006098196, 'tol': 0.04500228989747437, 'fit_intercept': True, 'class_weight': 'balanced', 'threshold': 0.8230000000000001}. Best is trial 107 with value: 0.9692831909479629.\n",
      "[I 2025-07-01 08:26:55,709] Trial 308 finished with value: 0.9687973464147159 and parameters: {'solver_penalty': ('liblinear', 'l1'), 'C': 1.1389902471496702, 'tol': 0.01221559413096305, 'fit_intercept': True, 'class_weight': 'balanced', 'threshold': 0.79}. Best is trial 107 with value: 0.9692831909479629.\n",
      "[I 2025-07-01 08:26:57,319] Trial 307 finished with value: 0.9690132854148995 and parameters: {'solver_penalty': ('newton-cg', None), 'C': 3.2021540980047067, 'tol': 0.013170315847916236, 'fit_intercept': True, 'class_weight': 'balanced', 'threshold': 0.675}. Best is trial 107 with value: 0.9692831909479629.\n",
      "[I 2025-07-01 08:26:57,876] Trial 306 finished with value: 0.9691752287347377 and parameters: {'solver_penalty': ('newton-cg', None), 'C': 2.3269370308527577, 'tol': 0.010255710539107732, 'fit_intercept': True, 'class_weight': 'balanced', 'threshold': 0.756}. Best is trial 107 with value: 0.9692831909479629.\n",
      "[I 2025-07-01 08:26:58,108] Trial 310 finished with value: 0.9687973609884487 and parameters: {'solver_penalty': ('lbfgs', 'l2'), 'C': 6.699622358354544, 'tol': 0.06007225593286145, 'fit_intercept': False, 'class_weight': 'balanced', 'threshold': 0.418}. Best is trial 107 with value: 0.9692831909479629.\n",
      "[I 2025-07-01 08:27:00,210] Trial 309 finished with value: 0.9680955774550182 and parameters: {'solver_penalty': ('newton-cg', None), 'C': 1.1285908193980723, 'tol': 0.015626095213035776, 'fit_intercept': True, 'class_weight': 'balanced', 'threshold': 0.855}. Best is trial 107 with value: 0.9692831909479629.\n",
      "[I 2025-07-01 08:27:00,560] Trial 311 finished with value: 0.9691212330543921 and parameters: {'solver_penalty': ('lbfgs', 'l2'), 'C': 5.065216588420885, 'tol': 0.08143825400638298, 'fit_intercept': False, 'class_weight': 'balanced', 'threshold': 0.614}. Best is trial 107 with value: 0.9692831909479629.\n",
      "[I 2025-07-01 08:27:00,958] Trial 313 finished with value: 0.9691752287347377 and parameters: {'solver_penalty': ('lbfgs', 'l2'), 'C': 0.5091777112571476, 'tol': 0.09955811281905991, 'fit_intercept': False, 'class_weight': None, 'threshold': 0.62}. Best is trial 107 with value: 0.9692831909479629.\n",
      "[I 2025-07-01 08:27:01,332] Trial 312 finished with value: 0.9692292098413503 and parameters: {'solver_penalty': ('lbfgs', 'l2'), 'C': 3.3101815954946314, 'tol': 0.07860485444522818, 'fit_intercept': False, 'class_weight': 'balanced', 'threshold': 0.5710000000000001}. Best is trial 107 with value: 0.9692831909479629.\n",
      "[I 2025-07-01 08:27:03,423] Trial 315 finished with value: 0.9688513420950615 and parameters: {'solver_penalty': ('liblinear', 'l2'), 'C': 1.1659397359396286, 'tol': 0.025938146477641363, 'fit_intercept': True, 'class_weight': 'balanced', 'threshold': 0.578}. Best is trial 107 with value: 0.9692831909479629.\n",
      "[I 2025-07-01 08:27:03,772] Trial 316 finished with value: 0.9690672665215123 and parameters: {'solver_penalty': ('lbfgs', 'l2'), 'C': 3.5489696581343866, 'tol': 0.08054221732267274, 'fit_intercept': False, 'class_weight': None, 'threshold': 0.504}. Best is trial 107 with value: 0.9692831909479629.\n",
      "[I 2025-07-01 08:27:04,112] Trial 314 finished with value: 0.963992751025262 and parameters: {'solver_penalty': ('newton-cg', None), 'C': 7.243849322513313, 'tol': 0.07106871582704549, 'fit_intercept': False, 'class_weight': None, 'threshold': 0.107}. Best is trial 107 with value: 0.9692831909479629.\n",
      "[I 2025-07-01 08:27:05,453] Trial 317 finished with value: 0.9691752141610049 and parameters: {'solver_penalty': ('newton-cg', None), 'C': 3.45472796914782, 'tol': 0.0795888672043441, 'fit_intercept': True, 'class_weight': None, 'threshold': 0.636}. Best is trial 107 with value: 0.9692831909479629.\n",
      "[I 2025-07-01 08:27:06,135] Trial 319 finished with value: 0.9691752141610049 and parameters: {'solver_penalty': ('liblinear', 'l2'), 'C': 5.029582797011982, 'tol': 0.06837226543496046, 'fit_intercept': False, 'class_weight': 'balanced', 'threshold': 0.637}. Best is trial 107 with value: 0.9692831909479629.\n",
      "[I 2025-07-01 08:27:07,022] Trial 318 finished with value: 0.9689053232016743 and parameters: {'solver_penalty': ('lbfgs', 'l2'), 'C': 2.3750228085144047, 'tol': 0.08531933916288795, 'fit_intercept': False, 'class_weight': 'balanced', 'threshold': 0.456}. Best is trial 107 with value: 0.9692831909479629.\n",
      "[I 2025-07-01 08:27:07,556] Trial 320 finished with value: 0.9690672665215123 and parameters: {'solver_penalty': ('lbfgs', 'l2'), 'C': 3.452953941696769, 'tol': 0.09293983660195146, 'fit_intercept': False, 'class_weight': 'balanced', 'threshold': 0.49}. Best is trial 107 with value: 0.9692831909479629.\n",
      "[I 2025-07-01 08:27:09,034] Trial 321 finished with value: 0.9692292098413503 and parameters: {'solver_penalty': ('lbfgs', 'l2'), 'C': 4.221149823372042, 'tol': 0.06243475134521165, 'fit_intercept': False, 'class_weight': 'balanced', 'threshold': 0.5650000000000001}. Best is trial 107 with value: 0.9692831909479629.\n",
      "[I 2025-07-01 08:27:10,474] Trial 322 finished with value: 0.9691752287347377 and parameters: {'solver_penalty': ('newton-cg', None), 'C': 0.023898256658779482, 'tol': 0.06339511811010345, 'fit_intercept': False, 'class_weight': 'balanced', 'threshold': 0.588}. Best is trial 107 with value: 0.9692831909479629.\n",
      "[I 2025-07-01 08:27:10,650] Trial 323 finished with value: 0.9645321977480668 and parameters: {'solver_penalty': ('lbfgs', 'l2'), 'C': 4.725605746946331, 'tol': 0.08082261938718258, 'fit_intercept': False, 'class_weight': 'balanced', 'threshold': 0.842}. Best is trial 107 with value: 0.9692831909479629.\n",
      "[I 2025-07-01 08:27:11,114] Trial 324 finished with value: 0.9690672665215123 and parameters: {'solver_penalty': ('lbfgs', None), 'C': 4.800337114637689, 'tol': 0.03355977971921903, 'fit_intercept': False, 'class_weight': 'balanced', 'threshold': 0.506}. Best is trial 107 with value: 0.9692831909479629.\n",
      "[I 2025-07-01 08:27:12,934] Trial 326 finished with value: 0.9690672519477795 and parameters: {'solver_penalty': ('liblinear', 'l1'), 'C': 2.180496969729659, 'tol': 0.09417304767238958, 'fit_intercept': False, 'class_weight': None, 'threshold': 0.544}. Best is trial 107 with value: 0.9692831909479629.\n",
      "[I 2025-07-01 08:27:12,949] Trial 325 finished with value: 0.9685274263079198 and parameters: {'solver_penalty': ('lbfgs', 'l2'), 'C': 3.023275959062409, 'tol': 0.06318224885673597, 'fit_intercept': False, 'class_weight': 'balanced', 'threshold': 0.77}. Best is trial 107 with value: 0.9692831909479629.\n",
      "[I 2025-07-01 08:27:14,425] Trial 327 finished with value: 0.7395270969415564 and parameters: {'solver_penalty': ('newton-cg', None), 'C': 9.910809485642265, 'tol': 0.040985167940413576, 'fit_intercept': False, 'class_weight': None, 'threshold': 0.998}. Best is trial 107 with value: 0.9692831909479629.\n",
      "[I 2025-07-01 08:27:15,534] Trial 328 finished with value: 0.968473445201307 and parameters: {'solver_penalty': ('lbfgs', None), 'C': 0.20888173613124045, 'tol': 0.04784513844205555, 'fit_intercept': False, 'class_weight': 'balanced', 'threshold': 0.741}. Best is trial 107 with value: 0.9692831909479629.\n",
      "[I 2025-07-01 08:27:15,694] Trial 329 finished with value: 0.9687973318409832 and parameters: {'solver_penalty': ('liblinear', 'l2'), 'C': 2.887679599110935, 'tol': 0.09429650582043074, 'fit_intercept': False, 'class_weight': 'balanced', 'threshold': 0.686}. Best is trial 107 with value: 0.9692831909479629.\n",
      "[I 2025-07-01 08:27:17,153] Trial 331 finished with value: 0.9687973318409832 and parameters: {'solver_penalty': ('liblinear', 'l2'), 'C': 4.439186522277742, 'tol': 0.09884031714002037, 'fit_intercept': True, 'class_weight': None, 'threshold': 0.705}. Best is trial 107 with value: 0.9692831909479629.\n",
      "[I 2025-07-01 08:27:17,538] Trial 330 finished with value: 0.9688513712425273 and parameters: {'solver_penalty': ('lbfgs', None), 'C': 1.559207970369521, 'tol': 0.0455711412561062, 'fit_intercept': False, 'class_weight': 'balanced', 'threshold': 0.358}. Best is trial 107 with value: 0.9692831909479629.\n",
      "[I 2025-07-01 08:27:19,232] Trial 332 finished with value: 0.9691752287347377 and parameters: {'solver_penalty': ('lbfgs', 'l2'), 'C': 4.309030953476576, 'tol': 0.07468746005148696, 'fit_intercept': False, 'class_weight': 'balanced', 'threshold': 0.537}. Best is trial 107 with value: 0.9692831909479629.\n",
      "[I 2025-07-01 08:27:19,554] Trial 333 finished with value: 0.9690672665215123 and parameters: {'solver_penalty': ('lbfgs', 'l2'), 'C': 3.7004035563225353, 'tol': 0.05588322046133658, 'fit_intercept': False, 'class_weight': 'balanced', 'threshold': 0.514}. Best is trial 107 with value: 0.9692831909479629.\n",
      "[I 2025-07-01 08:27:20,983] Trial 334 finished with value: 0.9687973755621817 and parameters: {'solver_penalty': ('lbfgs', None), 'C': 1.510458461499781, 'tol': 0.060472456028553466, 'fit_intercept': False, 'class_weight': 'balanced', 'threshold': 0.403}. Best is trial 107 with value: 0.9692831909479629.\n",
      "[I 2025-07-01 08:27:21,188] Trial 335 finished with value: 0.9691752287347377 and parameters: {'solver_penalty': ('lbfgs', 'l2'), 'C': 2.797319924307631, 'tol': 0.06741207840794548, 'fit_intercept': False, 'class_weight': 'balanced', 'threshold': 0.542}. Best is trial 107 with value: 0.9692831909479629.\n",
      "[I 2025-07-01 08:27:23,448] Trial 337 finished with value: 0.9684194640946944 and parameters: {'solver_penalty': ('lbfgs', 'l2'), 'C': 5.257844647880369, 'tol': 0.059939759260332875, 'fit_intercept': False, 'class_weight': 'balanced', 'threshold': 0.763}. Best is trial 107 with value: 0.9692831909479629.\n",
      "[I 2025-07-01 08:27:23,629] Trial 338 finished with value: 0.9148133833503845 and parameters: {'solver_penalty': ('liblinear', 'l1'), 'C': 6.009525962553008, 'tol': 0.07456223285604159, 'fit_intercept': False, 'class_weight': None, 'threshold': 0.929}. Best is trial 107 with value: 0.9692831909479629.\n",
      "[I 2025-07-01 08:27:23,969] Trial 336 finished with value: 0.9691212330543921 and parameters: {'solver_penalty': ('newton-cg', 'l2'), 'C': 3.122135219713689, 'tol': 0.08521280450194046, 'fit_intercept': False, 'class_weight': 'balanced', 'threshold': 0.651}. Best is trial 107 with value: 0.9692831909479629.\n",
      "[I 2025-07-01 08:27:24,731] Trial 339 finished with value: 0.9688513129475957 and parameters: {'solver_penalty': ('lbfgs', 'l2'), 'C': 2.7453550112244054, 'tol': 0.04293685873484718, 'fit_intercept': False, 'class_weight': None, 'threshold': 0.706}. Best is trial 107 with value: 0.9692831909479629.\n",
      "[I 2025-07-01 08:27:26,253] Trial 340 finished with value: 0.9681495294141651 and parameters: {'solver_penalty': ('lbfgs', 'l2'), 'C': 6.641356448648177, 'tol': 0.06484679855166449, 'fit_intercept': False, 'class_weight': None, 'threshold': 0.8200000000000001}. Best is trial 107 with value: 0.9692831909479629.\n",
      "[I 2025-07-01 08:27:27,489] Trial 342 finished with value: 0.9690672665215123 and parameters: {'solver_penalty': ('lbfgs', None), 'C': 7.987309477677368, 'tol': 0.07139738184223371, 'fit_intercept': False, 'class_weight': 'balanced', 'threshold': 0.496}. Best is trial 107 with value: 0.9692831909479629.\n",
      "[I 2025-07-01 08:27:28,036] Trial 343 finished with value: 0.9687433798818361 and parameters: {'solver_penalty': ('lbfgs', 'l2'), 'C': 0.764061790607899, 'tol': 0.05922908327910467, 'fit_intercept': False, 'class_weight': None, 'threshold': 0.397}. Best is trial 107 with value: 0.9692831909479629.\n",
      "[I 2025-07-01 08:27:28,450] Trial 341 finished with value: 0.9688513858162603 and parameters: {'solver_penalty': ('newton-cg', None), 'C': 0.8576146732956967, 'tol': 0.0247175532314118, 'fit_intercept': True, 'class_weight': 'balanced', 'threshold': 0.393}. Best is trial 107 with value: 0.9692831909479629.\n",
      "[I 2025-07-01 08:27:29,630] Trial 344 finished with value: 0.9692292098413503 and parameters: {'solver_penalty': ('lbfgs', 'l2'), 'C': 4.8015238553721264, 'tol': 0.05959899560088787, 'fit_intercept': False, 'class_weight': 'balanced', 'threshold': 0.597}. Best is trial 107 with value: 0.9692831909479629.\n",
      "[I 2025-07-01 08:27:30,305] Trial 346 finished with value: 0.9689053669228729 and parameters: {'solver_penalty': ('liblinear', 'l2'), 'C': 0.8892757173701331, 'tol': 0.09313782230980339, 'fit_intercept': False, 'class_weight': 'balanced', 'threshold': 0.34400000000000003}. Best is trial 107 with value: 0.9692831909479629.\n",
      "[I 2025-07-01 08:27:31,964] Trial 347 finished with value: 0.9587563359303726 and parameters: {'solver_penalty': ('lbfgs', 'l2'), 'C': 2.2624952099217976, 'tol': 0.09718718725759595, 'fit_intercept': False, 'class_weight': 'balanced', 'threshold': 0.835}. Best is trial 107 with value: 0.9692831909479629.\n",
      "[I 2025-07-01 08:27:32,290] Trial 348 finished with value: 0.9691752287347377 and parameters: {'solver_penalty': ('liblinear', 'l2'), 'C': 3.9751250677531758, 'tol': 0.0584659501690203, 'fit_intercept': True, 'class_weight': None, 'threshold': 0.596}. Best is trial 107 with value: 0.9692831909479629.\n",
      "[I 2025-07-01 08:27:32,844] Trial 345 finished with value: 0.9689053669228729 and parameters: {'solver_penalty': ('newton-cg', None), 'C': 0.9829451045302094, 'tol': 0.026523510393672192, 'fit_intercept': True, 'class_weight': 'balanced', 'threshold': 0.40700000000000003}. Best is trial 107 with value: 0.9692831909479629.\n",
      "[I 2025-07-01 08:27:34,341] Trial 349 finished with value: 0.9690673102427109 and parameters: {'solver_penalty': ('newton-cholesky', 'l2'), 'C': 3.085620215994825, 'tol': 0.05776441798232806, 'fit_intercept': False, 'class_weight': 'balanced', 'threshold': 0.645}. Best is trial 107 with value: 0.9692831909479629.\n",
      "[I 2025-07-01 08:27:34,342] Trial 350 finished with value: 0.9691752141610049 and parameters: {'solver_penalty': ('liblinear', 'l2'), 'C': 4.059666150910904, 'tol': 0.06588867204700388, 'fit_intercept': True, 'class_weight': None, 'threshold': 0.617}. Best is trial 107 with value: 0.9692831909479629.\n",
      "[I 2025-07-01 08:27:35,534] Trial 352 finished with value: 0.9691752287347377 and parameters: {'solver_penalty': ('liblinear', 'l2'), 'C': 5.821287763666558, 'tol': 0.08867480421736183, 'fit_intercept': False, 'class_weight': None, 'threshold': 0.55}. Best is trial 107 with value: 0.9692831909479629.\n",
      "[I 2025-07-01 08:27:36,405] Trial 351 finished with value: 0.9692292098413503 and parameters: {'solver_penalty': ('lbfgs', 'l2'), 'C': 5.050901922701197, 'tol': 0.06445354787628618, 'fit_intercept': False, 'class_weight': 'balanced', 'threshold': 0.6}. Best is trial 107 with value: 0.9692831909479629.\n",
      "[I 2025-07-01 08:27:36,939] Trial 354 finished with value: 0.9680415672009397 and parameters: {'solver_penalty': ('liblinear', 'l2'), 'C': 7.3849928661014586, 'tol': 0.04869406517168301, 'fit_intercept': True, 'class_weight': None, 'threshold': 0.775}. Best is trial 107 with value: 0.9692831909479629.\n",
      "[I 2025-07-01 08:27:37,992] Trial 353 finished with value: 0.9691752141610049 and parameters: {'solver_penalty': ('lbfgs', 'l2'), 'C': 4.173328419145159, 'tol': 0.06089417840352727, 'fit_intercept': False, 'class_weight': 'balanced', 'threshold': 0.627}. Best is trial 107 with value: 0.9692831909479629.\n",
      "[I 2025-07-01 08:27:39,619] Trial 356 finished with value: 0.9691752141610049 and parameters: {'solver_penalty': ('newton-cg', None), 'C': 2.1524531620091123, 'tol': 0.09657251451241684, 'fit_intercept': False, 'class_weight': None, 'threshold': 0.616}. Best is trial 107 with value: 0.9692831909479629.\n",
      "[I 2025-07-01 08:27:39,962] Trial 355 finished with value: 0.9687973755621817 and parameters: {'solver_penalty': ('newton-cg', 'l2'), 'C': 5.071666411097904, 'tol': 0.02392297249141038, 'fit_intercept': False, 'class_weight': 'balanced', 'threshold': 0.372}. Best is trial 107 with value: 0.9692831909479629.\n",
      "[I 2025-07-01 08:27:40,494] Trial 358 finished with value: 0.9646405825995459 and parameters: {'solver_penalty': ('liblinear', 'l2'), 'C': 7.0572097052057945, 'tol': 0.0640743627861329, 'fit_intercept': True, 'class_weight': 'balanced', 'threshold': 0.148}. Best is trial 107 with value: 0.9692831909479629.\n",
      "[I 2025-07-01 08:27:40,932] Trial 357 finished with value: 0.9686354468160765 and parameters: {'solver_penalty': ('newton-cg', None), 'C': 3.567130552850348, 'tol': 0.08448497326421482, 'fit_intercept': False, 'class_weight': 'balanced', 'threshold': 0.228}. Best is trial 107 with value: 0.9692831909479629.\n",
      "[I 2025-07-01 08:27:42,806] Trial 361 finished with value: 0.8749735341010776 and parameters: {'solver_penalty': ('liblinear', 'l1'), 'C': 7.476193488190074, 'tol': 0.047201925277882695, 'fit_intercept': True, 'class_weight': None, 'threshold': 0.9500000000000001}. Best is trial 107 with value: 0.9692831909479629.\n",
      "[I 2025-07-01 08:27:43,433] Trial 359 finished with value: 0.9675557226676925 and parameters: {'solver_penalty': ('lbfgs', 'l2'), 'C': 1.531873383736723, 'tol': 0.03743439866042586, 'fit_intercept': True, 'class_weight': 'balanced', 'threshold': 0.808}. Best is trial 107 with value: 0.9692831909479629.\n",
      "[I 2025-07-01 08:27:44,115] Trial 360 finished with value: 0.9692292098413503 and parameters: {'solver_penalty': ('newton-cg', None), 'C': 3.1052986076021334, 'tol': 0.05078021239786515, 'fit_intercept': False, 'class_weight': 'balanced', 'threshold': 0.5650000000000001}. Best is trial 107 with value: 0.9692831909479629.\n",
      "[I 2025-07-01 08:27:45,296] Trial 363 finished with value: 0.9690672665215123 and parameters: {'solver_penalty': ('liblinear', 'l2'), 'C': 7.018504125906952, 'tol': 0.026932745407332967, 'fit_intercept': True, 'class_weight': 'balanced', 'threshold': 0.635}. Best is trial 107 with value: 0.9692831909479629.\n",
      "[I 2025-07-01 08:27:46,160] Trial 365 finished with value: 0.9691752287347377 and parameters: {'solver_penalty': ('liblinear', 'l2'), 'C': 4.2897375937649, 'tol': 0.09619828610041223, 'fit_intercept': False, 'class_weight': None, 'threshold': 0.53}. Best is trial 107 with value: 0.9692831909479629.\n",
      "[I 2025-07-01 08:27:47,023] Trial 364 finished with value: 0.9624271677698981 and parameters: {'solver_penalty': ('newton-cg', 'l2'), 'C': 9.422682065945574, 'tol': 0.010810000569151719, 'fit_intercept': False, 'class_weight': None, 'threshold': 0.084}. Best is trial 107 with value: 0.9692831909479629.\n",
      "[I 2025-07-01 08:27:47,727] Trial 362 finished with value: 0.2604729030584436 and parameters: {'solver_penalty': ('newton-cg', 'l2'), 'C': 9.674086513806701, 'tol': 0.007481108279026309, 'fit_intercept': True, 'class_weight': 'balanced', 'threshold': 0.001}. Best is trial 107 with value: 0.9692831909479629.\n",
      "[I 2025-07-01 08:27:49,053] Trial 366 finished with value: 0.9691752141610049 and parameters: {'solver_penalty': ('newton-cg', None), 'C': 3.0887045056354103, 'tol': 0.07648640774643009, 'fit_intercept': False, 'class_weight': 'balanced', 'threshold': 0.607}. Best is trial 107 with value: 0.9692831909479629.\n",
      "[I 2025-07-01 08:27:49,246] Trial 368 finished with value: 0.9690672665215123 and parameters: {'solver_penalty': ('liblinear', 'l2'), 'C': 7.205973408655593, 'tol': 0.061158849425153226, 'fit_intercept': True, 'class_weight': 'balanced', 'threshold': 0.559}. Best is trial 107 with value: 0.9692831909479629.\n",
      "[I 2025-07-01 08:27:49,807] Trial 367 finished with value: 0.9691752141610049 and parameters: {'solver_penalty': ('newton-cg', None), 'C': 3.9983986047001814, 'tol': 0.0677162026078563, 'fit_intercept': False, 'class_weight': 'balanced', 'threshold': 0.621}. Best is trial 107 with value: 0.9692831909479629.\n",
      "[I 2025-07-01 08:27:52,036] Trial 369 finished with value: 0.9685814074145324 and parameters: {'solver_penalty': ('newton-cg', None), 'C': 3.8803173902040875, 'tol': 0.051096427970018794, 'fit_intercept': False, 'class_weight': 'balanced', 'threshold': 0.712}. Best is trial 107 with value: 0.9692831909479629.\n",
      "[I 2025-07-01 08:27:52,441] Trial 370 finished with value: 0.9687973609884487 and parameters: {'solver_penalty': ('lbfgs', None), 'C': 5.565226398585392, 'tol': 0.08643014754252568, 'fit_intercept': True, 'class_weight': 'balanced', 'threshold': 0.443}. Best is trial 107 with value: 0.9692831909479629.\n",
      "[I 2025-07-01 08:27:52,461] Trial 371 finished with value: 0.9692831909479629 and parameters: {'solver_penalty': ('newton-cg', 'l2'), 'C': 2.81363618228518, 'tol': 0.0766244303895097, 'fit_intercept': False, 'class_weight': None, 'threshold': 0.5730000000000001}. Best is trial 107 with value: 0.9692831909479629.\n",
      "[I 2025-07-01 08:27:54,253] Trial 372 finished with value: 0.9691212476281251 and parameters: {'solver_penalty': ('newton-cg', None), 'C': 9.379819174029711, 'tol': 0.04057221024626073, 'fit_intercept': True, 'class_weight': 'balanced', 'threshold': 0.525}. Best is trial 107 with value: 0.9692831909479629.\n",
      "[I 2025-07-01 08:27:55,877] Trial 374 finished with value: 0.9687973609884487 and parameters: {'solver_penalty': ('lbfgs', 'l2'), 'C': 4.3322257216599365, 'tol': 0.06514472495493992, 'fit_intercept': False, 'class_weight': 'balanced', 'threshold': 0.421}. Best is trial 107 with value: 0.9692831909479629.\n",
      "[I 2025-07-01 08:27:56,100] Trial 375 finished with value: 0.9687973318409832 and parameters: {'solver_penalty': ('lbfgs', None), 'C': 4.006408924377391, 'tol': 0.05146753162854471, 'fit_intercept': False, 'class_weight': 'balanced', 'threshold': 0.7020000000000001}. Best is trial 107 with value: 0.9692831909479629.\n",
      "[I 2025-07-01 08:27:56,433] Trial 373 finished with value: 0.9690133291360983 and parameters: {'solver_penalty': ('newton-cg', None), 'C': 3.333813339982336, 'tol': 0.04398442964000837, 'fit_intercept': False, 'class_weight': 'balanced', 'threshold': 0.332}. Best is trial 107 with value: 0.9692831909479629.\n",
      "[I 2025-07-01 08:27:57,149] Trial 376 finished with value: 0.9687974047096475 and parameters: {'solver_penalty': ('newton-cholesky', 'l2'), 'C': 3.152312123232217, 'tol': 0.07980479808765595, 'fit_intercept': True, 'class_weight': None, 'threshold': 0.25}. Best is trial 107 with value: 0.9692831909479629.\n",
      "[I 2025-07-01 08:27:59,234] Trial 377 finished with value: 0.9690132854148995 and parameters: {'solver_penalty': ('newton-cholesky', None), 'C': 3.7172201097116826, 'tol': 0.06286358345643953, 'fit_intercept': False, 'class_weight': None, 'threshold': 0.648}. Best is trial 107 with value: 0.9692831909479629.\n",
      "[I 2025-07-01 08:27:59,996] Trial 379 finished with value: 0.9691752287347377 and parameters: {'solver_penalty': ('newton-cg', 'l2'), 'C': 1.1310807221263277, 'tol': 0.07635048880483199, 'fit_intercept': False, 'class_weight': None, 'threshold': 0.594}. Best is trial 107 with value: 0.9692831909479629.\n",
      "[I 2025-07-01 08:28:00,019] Trial 378 finished with value: 0.9690672665215123 and parameters: {'solver_penalty': ('newton-cg', 'l2'), 'C': 2.31271770001945, 'tol': 0.08330657619562726, 'fit_intercept': False, 'class_weight': None, 'threshold': 0.517}. Best is trial 107 with value: 0.9692831909479629.\n",
      "[I 2025-07-01 08:28:00,702] Trial 380 finished with value: 0.9688513712425273 and parameters: {'solver_penalty': ('newton-cg', None), 'C': 2.1581496965341374, 'tol': 0.0720637468934729, 'fit_intercept': False, 'class_weight': None, 'threshold': 0.357}. Best is trial 107 with value: 0.9692831909479629.\n",
      "[I 2025-07-01 08:28:02,727] Trial 381 finished with value: 0.9686354613898095 and parameters: {'solver_penalty': ('newton-cg', 'l2'), 'C': 3.7660795771219258, 'tol': 0.0871902798465107, 'fit_intercept': False, 'class_weight': None, 'threshold': 0.23500000000000001}. Best is trial 107 with value: 0.9692831909479629.\n",
      "[I 2025-07-01 08:28:03,438] Trial 382 finished with value: 0.9680415817746726 and parameters: {'solver_penalty': ('newton-cholesky', None), 'C': 6.865787753706737, 'tol': 0.059933454682328066, 'fit_intercept': False, 'class_weight': 'balanced', 'threshold': 0.8210000000000001}. Best is trial 107 with value: 0.9692831909479629.\n",
      "[I 2025-07-01 08:28:03,818] Trial 383 finished with value: 0.9679335904139815 and parameters: {'solver_penalty': ('lbfgs', None), 'C': 9.092902957202282, 'tol': 0.08641385949880523, 'fit_intercept': True, 'class_weight': 'balanced', 'threshold': 0.812}. Best is trial 107 with value: 0.9692831909479629.\n",
      "[I 2025-07-01 08:28:04,361] Trial 384 finished with value: 0.9682035250945107 and parameters: {'solver_penalty': ('newton-cholesky', None), 'C': 4.472052032451901, 'tol': 0.05287709275935662, 'fit_intercept': False, 'class_weight': 'balanced', 'threshold': 0.812}. Best is trial 107 with value: 0.9692831909479629.\n",
      "[I 2025-07-01 08:28:06,140] Trial 385 finished with value: 0.9683654829880816 and parameters: {'solver_penalty': ('newton-cg', 'l2'), 'C': 5.582711410438074, 'tol': 0.0681918330692546, 'fit_intercept': False, 'class_weight': None, 'threshold': 0.753}. Best is trial 107 with value: 0.9692831909479629.\n",
      "[I 2025-07-01 08:28:06,983] Trial 388 finished with value: 0.9690672665215123 and parameters: {'solver_penalty': ('liblinear', 'l2'), 'C': 1.7541653279791742, 'tol': 0.08191551001463512, 'fit_intercept': False, 'class_weight': None, 'threshold': 0.503}. Best is trial 107 with value: 0.9692831909479629.\n",
      "[I 2025-07-01 08:28:07,517] Trial 387 finished with value: 0.9686353885211452 and parameters: {'solver_penalty': ('newton-cg', 'l2'), 'C': 2.7703390232277902, 'tol': 0.07063278637309787, 'fit_intercept': False, 'class_weight': None, 'threshold': 0.716}. Best is trial 107 with value: 0.9692831909479629.\n",
      "[I 2025-07-01 08:28:07,527] Trial 386 finished with value: 0.9690672665215123 and parameters: {'solver_penalty': ('newton-cg', None), 'C': 1.30040851629199, 'tol': 0.034378641575852936, 'fit_intercept': False, 'class_weight': 'balanced', 'threshold': 0.508}. Best is trial 107 with value: 0.9692831909479629.\n",
      "[I 2025-07-01 08:28:09,688] Trial 389 finished with value: 0.9687973755621817 and parameters: {'solver_penalty': ('newton-cg', 'l2'), 'C': 1.6034086290667964, 'tol': 0.05152805972240054, 'fit_intercept': False, 'class_weight': None, 'threshold': 0.41600000000000004}. Best is trial 107 with value: 0.9692831909479629.\n",
      "[I 2025-07-01 08:28:10,354] Trial 390 finished with value: 0.9686894279226891 and parameters: {'solver_penalty': ('newton-cholesky', None), 'C': 7.889142901333398, 'tol': 0.03777296558363838, 'fit_intercept': True, 'class_weight': None, 'threshold': 0.226}. Best is trial 107 with value: 0.9692831909479629.\n",
      "[I 2025-07-01 08:28:10,360] Trial 391 finished with value: 0.9692292098413503 and parameters: {'solver_penalty': ('lbfgs', None), 'C': 5.512454840143669, 'tol': 0.09619686516799347, 'fit_intercept': True, 'class_weight': None, 'threshold': 0.577}. Best is trial 107 with value: 0.9692831909479629.\n",
      "[I 2025-07-01 08:28:11,647] Trial 392 finished with value: 0.9623732741056829 and parameters: {'solver_penalty': ('newton-cholesky', 'l2'), 'C': 9.991838162558942, 'tol': 0.02148210022323467, 'fit_intercept': False, 'class_weight': 'balanced', 'threshold': 0.178}. Best is trial 107 with value: 0.9692831909479629.\n",
      "[I 2025-07-01 08:28:13,015] Trial 395 finished with value: 0.9687433507343703 and parameters: {'solver_penalty': ('lbfgs', None), 'C': 5.7703775347765545, 'tol': 0.093083505447169, 'fit_intercept': True, 'class_weight': None, 'threshold': 0.773}. Best is trial 107 with value: 0.9692831909479629.\n",
      "[I 2025-07-01 08:28:13,359] Trial 393 finished with value: 0.9692292098413503 and parameters: {'solver_penalty': ('lbfgs', 'l2'), 'C': 4.724767298928734, 'tol': 0.07037483183085663, 'fit_intercept': False, 'class_weight': 'balanced', 'threshold': 0.5640000000000001}. Best is trial 107 with value: 0.9692831909479629.\n",
      "[I 2025-07-01 08:28:13,733] Trial 394 finished with value: 0.9691752141610047 and parameters: {'solver_penalty': ('newton-cholesky', 'l2'), 'C': 5.251193617997471, 'tol': 0.07665190781521983, 'fit_intercept': False, 'class_weight': None, 'threshold': 0.5720000000000001}. Best is trial 107 with value: 0.9692831909479629.\n",
      "[I 2025-07-01 08:28:14,600] Trial 396 finished with value: 0.9687973318409832 and parameters: {'solver_penalty': ('lbfgs', None), 'C': 5.480203461235797, 'tol': 0.09807558427351927, 'fit_intercept': False, 'class_weight': None, 'threshold': 0.762}. Best is trial 107 with value: 0.9692831909479629.\n",
      "[I 2025-07-01 08:28:16,517] Trial 397 finished with value: 0.96847345977504 and parameters: {'solver_penalty': ('newton-cholesky', 'l2'), 'C': 7.636754432762539, 'tol': 0.07211759839287642, 'fit_intercept': True, 'class_weight': None, 'threshold': 0.706}. Best is trial 107 with value: 0.9692831909479629.\n",
      "[I 2025-07-01 08:28:17,453] Trial 398 finished with value: 0.3362655100952248 and parameters: {'solver_penalty': ('newton-cholesky', None), 'C': 5.903142843922334, 'tol': 0.014337654325985445, 'fit_intercept': False, 'class_weight': 'balanced', 'threshold': 0.021}. Best is trial 107 with value: 0.9692831909479629.\n",
      "[I 2025-07-01 08:28:17,460] Trial 399 finished with value: 0.9690672665215123 and parameters: {'solver_penalty': ('lbfgs', 'l2'), 'C': 6.552442132196273, 'tol': 0.058896724506230416, 'fit_intercept': False, 'class_weight': 'balanced', 'threshold': 0.501}. Best is trial 107 with value: 0.9692831909479629.\n",
      "[I 2025-07-01 08:28:18,087] Trial 400 finished with value: 0.9692292098413503 and parameters: {'solver_penalty': ('lbfgs', 'l2'), 'C': 5.864775980184683, 'tol': 0.061914299740577744, 'fit_intercept': False, 'class_weight': 'balanced', 'threshold': 0.586}. Best is trial 107 with value: 0.9692831909479629.\n",
      "[I 2025-07-01 08:28:20,370] Trial 402 finished with value: 0.9691752287347377 and parameters: {'solver_penalty': ('lbfgs', None), 'C': 6.01869847202848, 'tol': 0.0952576121206485, 'fit_intercept': True, 'class_weight': None, 'threshold': 0.528}. Best is trial 107 with value: 0.9692831909479629.\n",
      "[I 2025-07-01 08:28:20,730] Trial 401 finished with value: 0.9685274700291183 and parameters: {'solver_penalty': ('newton-cholesky', 'l2'), 'C': 5.469568933520911, 'tol': 0.09290623201197469, 'fit_intercept': False, 'class_weight': 'balanced', 'threshold': 0.46}. Best is trial 107 with value: 0.9692831909479629.\n",
      "[I 2025-07-01 08:28:20,947] Trial 403 finished with value: 0.9687434236030349 and parameters: {'solver_penalty': ('newton-cholesky', None), 'C': 6.279381889205078, 'tol': 0.09683806671218931, 'fit_intercept': True, 'class_weight': None, 'threshold': 0.28200000000000003}. Best is trial 107 with value: 0.9692831909479629.\n",
      "[I 2025-07-01 08:28:21,646] Trial 404 finished with value: 0.9691752141610049 and parameters: {'solver_penalty': ('lbfgs', None), 'C': 3.8761035506005324, 'tol': 0.08217870506483939, 'fit_intercept': False, 'class_weight': 'balanced', 'threshold': 0.633}. Best is trial 107 with value: 0.9692831909479629.\n",
      "[I 2025-07-01 08:28:23,162] Trial 406 finished with value: 0.9690672665215123 and parameters: {'solver_penalty': ('lbfgs', None), 'C': 3.882464906791622, 'tol': 0.0860708996896958, 'fit_intercept': True, 'class_weight': None, 'threshold': 0.468}. Best is trial 107 with value: 0.9692831909479629.\n",
      "[I 2025-07-01 08:28:24,022] Trial 407 finished with value: 0.9691212330543921 and parameters: {'solver_penalty': ('newton-cholesky', None), 'C': 2.9168511303221853, 'tol': 0.037059892980546794, 'fit_intercept': True, 'class_weight': None, 'threshold': 0.534}. Best is trial 107 with value: 0.9692831909479629.\n",
      "[I 2025-07-01 08:28:25,001] Trial 408 finished with value: 0.9691752141610049 and parameters: {'solver_penalty': ('lbfgs', 'l2'), 'C': 4.483832670139444, 'tol': 0.07757136324485166, 'fit_intercept': False, 'class_weight': 'balanced', 'threshold': 0.651}. Best is trial 107 with value: 0.9692831909479629.\n",
      "[I 2025-07-01 08:28:25,364] Trial 405 finished with value: 0.9692291952676175 and parameters: {'solver_penalty': ('newton-cg', None), 'C': 5.850963728949861, 'tol': 0.0333458233446881, 'fit_intercept': True, 'class_weight': 'balanced', 'threshold': 0.71}. Best is trial 107 with value: 0.9692831909479629.\n",
      "[I 2025-07-01 08:28:26,667] Trial 409 finished with value: 0.9692292098413503 and parameters: {'solver_penalty': ('lbfgs', 'l2'), 'C': 4.685629886902857, 'tol': 0.08469995179466837, 'fit_intercept': False, 'class_weight': 'balanced', 'threshold': 0.5750000000000001}. Best is trial 107 with value: 0.9692831909479629.\n",
      "[I 2025-07-01 08:28:27,357] Trial 410 finished with value: 0.9690672810952453 and parameters: {'solver_penalty': ('newton-cholesky', 'l2'), 'C': 8.287653586723462, 'tol': 0.07693683780465116, 'fit_intercept': False, 'class_weight': 'balanced', 'threshold': 0.6920000000000001}. Best is trial 107 with value: 0.9692831909479629.\n",
      "[I 2025-07-01 08:28:29,306] Trial 411 finished with value: 0.9682575353485892 and parameters: {'solver_penalty': ('newton-cg', 'l2'), 'C': 7.774924991028437, 'tol': 0.0049679636797978766, 'fit_intercept': False, 'class_weight': None, 'threshold': 0.74}. Best is trial 107 with value: 0.9692831909479629.\n",
      "[I 2025-07-01 08:28:29,316] Trial 412 finished with value: 0.8622864583788761 and parameters: {'solver_penalty': ('newton-cg', 'l2'), 'C': 3.201932948982711, 'tol': 0.08899563183214375, 'fit_intercept': True, 'class_weight': 'balanced', 'threshold': 0.9390000000000001}. Best is trial 107 with value: 0.9692831909479629.\n",
      "[I 2025-07-01 08:28:29,664] Trial 414 finished with value: 0.9687973755621817 and parameters: {'solver_penalty': ('liblinear', 'l2'), 'C': 5.047476880461193, 'tol': 0.0726218951698585, 'fit_intercept': True, 'class_weight': None, 'threshold': 0.41200000000000003}. Best is trial 107 with value: 0.9692831909479629.\n",
      "[I 2025-07-01 08:28:31,094] Trial 413 finished with value: 0.9682575062011234 and parameters: {'solver_penalty': ('newton-cg', 'l2'), 'C': 3.9631396379986334, 'tol': 0.013398539870434718, 'fit_intercept': False, 'class_weight': 'balanced', 'threshold': 0.756}. Best is trial 107 with value: 0.9692831909479629.\n",
      "[I 2025-07-01 08:28:31,759] Trial 416 finished with value: 0.9687973609884487 and parameters: {'solver_penalty': ('liblinear', 'l1'), 'C': 5.776046037639966, 'tol': 0.0611081686760588, 'fit_intercept': False, 'class_weight': 'balanced', 'threshold': 0.678}. Best is trial 107 with value: 0.9692831909479629.\n",
      "[I 2025-07-01 08:28:33,118] Trial 415 finished with value: 0.9691752287347377 and parameters: {'solver_penalty': ('lbfgs', 'l2'), 'C': 4.1540420521042645, 'tol': 0.0651071723312981, 'fit_intercept': True, 'class_weight': 'balanced', 'threshold': 0.561}. Best is trial 107 with value: 0.9692831909479629.\n",
      "[I 2025-07-01 08:28:33,446] Trial 417 finished with value: 0.9686354613898095 and parameters: {'solver_penalty': ('newton-cholesky', None), 'C': 6.901371578980851, 'tol': 0.05828213459150957, 'fit_intercept': False, 'class_weight': 'balanced', 'threshold': 0.433}. Best is trial 107 with value: 0.9692831909479629.\n",
      "[I 2025-07-01 08:28:33,663] Trial 418 finished with value: 0.9671778840688695 and parameters: {'solver_penalty': ('liblinear', 'l1'), 'C': 5.358849529885636, 'tol': 0.06696168851346462, 'fit_intercept': False, 'class_weight': 'balanced', 'threshold': 0.809}. Best is trial 107 with value: 0.9692831909479629.\n",
      "[I 2025-07-01 08:28:35,857] Trial 419 finished with value: 0.9690672665215123 and parameters: {'solver_penalty': ('lbfgs', 'l2'), 'C': 5.109751595243466, 'tol': 0.05964692702433557, 'fit_intercept': False, 'class_weight': 'balanced', 'threshold': 0.493}. Best is trial 107 with value: 0.9692831909479629.\n",
      "[I 2025-07-01 08:28:36,078] Trial 420 finished with value: 0.9692292098413503 and parameters: {'solver_penalty': ('lbfgs', None), 'C': 7.5207001420330055, 'tol': 0.08886690558743053, 'fit_intercept': True, 'class_weight': None, 'threshold': 0.606}. Best is trial 107 with value: 0.9692831909479629.\n",
      "[I 2025-07-01 08:28:36,947] Trial 421 finished with value: 0.9675017561348129 and parameters: {'solver_penalty': ('lbfgs', None), 'C': 1.9920376518239058, 'tol': 0.02647871306972131, 'fit_intercept': True, 'class_weight': None, 'threshold': 0.115}. Best is trial 107 with value: 0.9692831909479629.\n",
      "[I 2025-07-01 08:28:37,354] Trial 422 finished with value: 0.9691752287347377 and parameters: {'solver_penalty': ('newton-cg', 'l2'), 'C': 4.7909045098627585, 'tol': 0.06171710490802523, 'fit_intercept': False, 'class_weight': None, 'threshold': 0.542}. Best is trial 107 with value: 0.9692831909479629.\n",
      "[I 2025-07-01 08:28:39,737] Trial 423 finished with value: 0.9692292098413503 and parameters: {'solver_penalty': ('lbfgs', None), 'C': 6.18864041930788, 'tol': 0.06310197678598864, 'fit_intercept': False, 'class_weight': 'balanced', 'threshold': 0.587}. Best is trial 107 with value: 0.9692831909479629.\n",
      "[I 2025-07-01 08:28:39,741] Trial 425 finished with value: 0.9687433798818361 and parameters: {'solver_penalty': ('liblinear', 'l2'), 'C': 4.266284436841666, 'tol': 0.010775217988191185, 'fit_intercept': False, 'class_weight': None, 'threshold': 0.43}. Best is trial 107 with value: 0.9692831909479629.\n",
      "[I 2025-07-01 08:28:40,024] Trial 424 finished with value: 0.9692291952676175 and parameters: {'solver_penalty': ('lbfgs', 'l2'), 'C': 7.276489237978263, 'tol': 0.03837124141094699, 'fit_intercept': True, 'class_weight': 'balanced', 'threshold': 0.671}. Best is trial 107 with value: 0.9692831909479629.\n",
      "[I 2025-07-01 08:28:42,273] Trial 428 finished with value: 0.9692831909479629 and parameters: {'solver_penalty': ('liblinear', 'l2'), 'C': 3.968774545219083, 'tol': 0.08453572036303249, 'fit_intercept': False, 'class_weight': None, 'threshold': 0.5730000000000001}. Best is trial 107 with value: 0.9692831909479629.\n",
      "[I 2025-07-01 08:28:42,453] Trial 426 finished with value: 0.968473445201307 and parameters: {'solver_penalty': ('newton-cg', 'l2'), 'C': 6.746570416307986, 'tol': 0.09639277669678348, 'fit_intercept': False, 'class_weight': 'balanced', 'threshold': 0.73}. Best is trial 107 with value: 0.9692831909479629.\n",
      "[I 2025-07-01 08:28:42,801] Trial 429 finished with value: 0.9691752141610049 and parameters: {'solver_penalty': ('liblinear', 'l2'), 'C': 3.32912369165486, 'tol': 0.08125823385692185, 'fit_intercept': False, 'class_weight': None, 'threshold': 0.612}. Best is trial 107 with value: 0.9692831909479629.\n",
      "[I 2025-07-01 08:28:43,038] Trial 427 finished with value: 0.9687974047096475 and parameters: {'solver_penalty': ('newton-cholesky', 'l2'), 'C': 3.5330449396016803, 'tol': 0.0962702168492832, 'fit_intercept': False, 'class_weight': None, 'threshold': 0.322}. Best is trial 107 with value: 0.9692831909479629.\n",
      "[I 2025-07-01 08:28:45,153] Trial 431 finished with value: 0.9692292098413503 and parameters: {'solver_penalty': ('lbfgs', 'l2'), 'C': 1.7884005626864905, 'tol': 0.0723392579697728, 'fit_intercept': False, 'class_weight': None, 'threshold': 0.587}. Best is trial 107 with value: 0.9692831909479629.\n",
      "[I 2025-07-01 08:28:45,845] Trial 432 finished with value: 0.9691752141610049 and parameters: {'solver_penalty': ('newton-cg', 'l2'), 'C': 4.155168267059611, 'tol': 0.08945048846705247, 'fit_intercept': False, 'class_weight': None, 'threshold': 0.638}. Best is trial 107 with value: 0.9692831909479629.\n",
      "[I 2025-07-01 08:28:46,190] Trial 430 finished with value: 0.952224170244518 and parameters: {'solver_penalty': ('newton-cg', 'l2'), 'C': 6.405451358531883, 'tol': 0.07347848743662712, 'fit_intercept': False, 'class_weight': 'balanced', 'threshold': 0.882}. Best is trial 107 with value: 0.9692831909479629.\n",
      "[I 2025-07-01 08:28:47,215] Trial 433 finished with value: 0.9690672665215123 and parameters: {'solver_penalty': ('newton-cg', None), 'C': 1.8249942776306671, 'tol': 0.0485781963951243, 'fit_intercept': False, 'class_weight': 'balanced', 'threshold': 0.506}. Best is trial 107 with value: 0.9692831909479629.\n",
      "[I 2025-07-01 08:28:48,831] Trial 436 finished with value: 0.9687973609884487 and parameters: {'solver_penalty': ('liblinear', 'l1'), 'C': 4.451264232239891, 'tol': 0.09922783733541418, 'fit_intercept': False, 'class_weight': None, 'threshold': 0.6920000000000001}. Best is trial 107 with value: 0.9692831909479629.\n",
      "[I 2025-07-01 08:28:48,833] Trial 435 finished with value: 0.9686354468160765 and parameters: {'solver_penalty': ('liblinear', 'l1'), 'C': 5.986445974495856, 'tol': 0.018478552283456524, 'fit_intercept': False, 'class_weight': 'balanced', 'threshold': 0.277}. Best is trial 107 with value: 0.9692831909479629.\n",
      "[I 2025-07-01 08:28:49,195] Trial 434 finished with value: 0.9690672519477795 and parameters: {'solver_penalty': ('newton-cholesky', None), 'C': 9.36443727722386, 'tol': 0.02650168786331015, 'fit_intercept': False, 'class_weight': None, 'threshold': 0.544}. Best is trial 107 with value: 0.9692831909479629.\n",
      "[I 2025-07-01 08:28:49,929] Trial 437 finished with value: 0.9685814657094639 and parameters: {'solver_penalty': ('liblinear', 'l1'), 'C': 2.592889442265396, 'tol': 0.045860543612803596, 'fit_intercept': True, 'class_weight': None, 'threshold': 0.37}. Best is trial 107 with value: 0.9692831909479629.\n",
      "[I 2025-07-01 08:28:51,256] Trial 439 finished with value: 0.9523322053264079 and parameters: {'solver_penalty': ('liblinear', 'l1'), 'C': 6.313908945356885, 'tol': 0.08370897524139456, 'fit_intercept': True, 'class_weight': None, 'threshold': 0.894}. Best is trial 107 with value: 0.9692831909479629.\n",
      "[I 2025-07-01 08:28:52,734] Trial 438 finished with value: 0.9685274846028513 and parameters: {'solver_penalty': ('newton-cholesky', None), 'C': 3.602477594046133, 'tol': 0.02832836583587857, 'fit_intercept': False, 'class_weight': 'balanced', 'threshold': 0.424}. Best is trial 107 with value: 0.9692831909479629.\n",
      "[I 2025-07-01 08:28:53,245] Trial 441 finished with value: 0.9691752141610049 and parameters: {'solver_penalty': ('lbfgs', 'l2'), 'C': 0.9700960412348123, 'tol': 0.07812955653229699, 'fit_intercept': True, 'class_weight': None, 'threshold': 0.673}. Best is trial 107 with value: 0.9692831909479629.\n",
      "[I 2025-07-01 08:28:53,780] Trial 440 finished with value: 0.9676097037743053 and parameters: {'solver_penalty': ('newton-cg', None), 'C': 8.300884562911987, 'tol': 0.008193927094823139, 'fit_intercept': True, 'class_weight': None, 'threshold': 0.793}. Best is trial 107 with value: 0.9692831909479629.\n",
      "[I 2025-07-01 08:28:55,095] Trial 442 finished with value: 0.9680415672009397 and parameters: {'solver_penalty': ('newton-cg', 'l2'), 'C': 1.3842927786898898, 'tol': 0.09833909749869801, 'fit_intercept': False, 'class_weight': None, 'threshold': 0.758}. Best is trial 107 with value: 0.9692831909479629.\n",
      "[I 2025-07-01 08:28:55,598] Trial 443 finished with value: 0.8485736833361024 and parameters: {'solver_penalty': ('liblinear', 'l1'), 'C': 4.54616891233967, 'tol': 0.060231055609106965, 'fit_intercept': True, 'class_weight': 'balanced', 'threshold': 0.08600000000000001}. Best is trial 107 with value: 0.9692831909479629.\n",
      "[I 2025-07-01 08:28:55,794] Trial 444 finished with value: 0.9689053232016743 and parameters: {'solver_penalty': ('liblinear', 'l2'), 'C': 2.945985036648754, 'tol': 0.0935446207500182, 'fit_intercept': False, 'class_weight': None, 'threshold': 0.46900000000000003}. Best is trial 107 with value: 0.9692831909479629.\n",
      "[I 2025-07-01 08:28:58,004] Trial 447 finished with value: 0.9689053377754071 and parameters: {'solver_penalty': ('liblinear', 'l1'), 'C': 2.1660198681731835, 'tol': 0.09504540340996691, 'fit_intercept': True, 'class_weight': None, 'threshold': 0.523}. Best is trial 107 with value: 0.9692831909479629.\n",
      "[I 2025-07-01 08:28:58,686] Trial 445 finished with value: 0.9691752287347377 and parameters: {'solver_penalty': ('newton-cg', None), 'C': 7.327128809187924, 'tol': 0.055604200340664246, 'fit_intercept': True, 'class_weight': 'balanced', 'threshold': 0.594}. Best is trial 107 with value: 0.9692831909479629.\n",
      "[I 2025-07-01 08:28:58,716] Trial 448 finished with value: 0.9692292098413503 and parameters: {'solver_penalty': ('lbfgs', 'l2'), 'C': 3.5851992666557653, 'tol': 0.09263926815465205, 'fit_intercept': False, 'class_weight': None, 'threshold': 0.587}. Best is trial 107 with value: 0.9692831909479629.\n",
      "[I 2025-07-01 08:28:59,613] Trial 446 finished with value: 0.9687433944555689 and parameters: {'solver_penalty': ('newton-cg', 'l2'), 'C': 5.950733915158428, 'tol': 0.08861378201047462, 'fit_intercept': False, 'class_weight': 'balanced', 'threshold': 0.378}. Best is trial 107 with value: 0.9692831909479629.\n",
      "[I 2025-07-01 08:29:01,428] Trial 450 finished with value: 0.9692831909479629 and parameters: {'solver_penalty': ('liblinear', 'l2'), 'C': 2.9624235215503694, 'tol': 0.09615334630652385, 'fit_intercept': False, 'class_weight': None, 'threshold': 0.577}. Best is trial 107 with value: 0.9692831909479629.\n",
      "[I 2025-07-01 08:29:01,944] Trial 451 finished with value: 0.9689052940542086 and parameters: {'solver_penalty': ('liblinear', 'l2'), 'C': 6.189450688841612, 'tol': 0.037018118467435884, 'fit_intercept': False, 'class_weight': 'balanced', 'threshold': 0.6900000000000001}. Best is trial 107 with value: 0.9692831909479629.\n",
      "[I 2025-07-01 08:29:02,332] Trial 449 finished with value: 0.9687973755621817 and parameters: {'solver_penalty': ('lbfgs', None), 'C': 5.347998706099353, 'tol': 0.09324121922731962, 'fit_intercept': False, 'class_weight': 'balanced', 'threshold': 0.417}. Best is trial 107 with value: 0.9692831909479629.\n",
      "[I 2025-07-01 08:29:02,511] Trial 452 finished with value: 0.9232887960056313 and parameters: {'solver_penalty': ('liblinear', 'l2'), 'C': 1.3192152536550767, 'tol': 0.09804435612330989, 'fit_intercept': False, 'class_weight': None, 'threshold': 0.921}. Best is trial 107 with value: 0.9692831909479629.\n",
      "[I 2025-07-01 08:29:04,478] Trial 454 finished with value: 0.9691212330543921 and parameters: {'solver_penalty': ('liblinear', 'l2'), 'C': 2.123750736040555, 'tol': 0.09795204407034086, 'fit_intercept': False, 'class_weight': None, 'threshold': 0.66}. Best is trial 107 with value: 0.9692831909479629.\n",
      "[I 2025-07-01 08:29:04,985] Trial 455 finished with value: 0.843337384831076 and parameters: {'solver_penalty': ('liblinear', 'l2'), 'C': 3.9288761680730424, 'tol': 0.09622459492009985, 'fit_intercept': False, 'class_weight': None, 'threshold': 0.039}. Best is trial 107 with value: 0.9692831909479629.\n",
      "[I 2025-07-01 08:29:05,673] Trial 453 finished with value: 0.9671238155198596 and parameters: {'solver_penalty': ('newton-cholesky', 'l2'), 'C': 1.0791005695347544, 'tol': 0.06347048541652375, 'fit_intercept': False, 'class_weight': 'balanced', 'threshold': 0.279}. Best is trial 107 with value: 0.9692831909479629.\n",
      "[I 2025-07-01 08:29:07,311] Trial 456 finished with value: 0.9692292098413503 and parameters: {'solver_penalty': ('newton-cg', 'l2'), 'C': 7.236273992814837, 'tol': 0.0327152416683623, 'fit_intercept': False, 'class_weight': 'balanced', 'threshold': 0.5690000000000001}. Best is trial 107 with value: 0.9692831909479629.\n",
      "[I 2025-07-01 08:29:07,474] Trial 458 finished with value: 0.9689053232016743 and parameters: {'solver_penalty': ('liblinear', 'l2'), 'C': 4.77434799404416, 'tol': 0.07935101975567951, 'fit_intercept': False, 'class_weight': None, 'threshold': 0.462}. Best is trial 107 with value: 0.9692831909479629.\n",
      "[I 2025-07-01 08:29:07,885] Trial 457 finished with value: 0.9690672665215123 and parameters: {'solver_penalty': ('newton-cholesky', None), 'C': 4.6925450251401175, 'tol': 0.0921991463006584, 'fit_intercept': False, 'class_weight': None, 'threshold': 0.489}. Best is trial 107 with value: 0.9692831909479629.\n",
      "[I 2025-07-01 08:29:09,227] Trial 459 finished with value: 0.9691212476281251 and parameters: {'solver_penalty': ('newton-cholesky', None), 'C': 4.730819845171575, 'tol': 0.08297720491139972, 'fit_intercept': False, 'class_weight': None, 'threshold': 0.528}. Best is trial 107 with value: 0.9692831909479629.\n",
      "[I 2025-07-01 08:29:10,090] Trial 461 finished with value: 0.9689053377754071 and parameters: {'solver_penalty': ('liblinear', 'l1'), 'C': 8.80545003335575, 'tol': 0.04508956167142608, 'fit_intercept': True, 'class_weight': 'balanced', 'threshold': 0.711}. Best is trial 107 with value: 0.9692831909479629.\n",
      "[I 2025-07-01 08:29:10,512] Trial 460 finished with value: 0.9688513858162601 and parameters: {'solver_penalty': ('lbfgs', 'l2'), 'C': 9.797840100354673, 'tol': 0.0928119318308919, 'fit_intercept': False, 'class_weight': None, 'threshold': 0.23800000000000002}. Best is trial 107 with value: 0.9692831909479629.\n",
      "[I 2025-07-01 08:29:13,381] Trial 463 finished with value: 0.9689053523491399 and parameters: {'solver_penalty': ('lbfgs', 'l2'), 'C': 5.911946065774826, 'tol': 0.023953104623968446, 'fit_intercept': False, 'class_weight': 'balanced', 'threshold': 0.34900000000000003}. Best is trial 107 with value: 0.9692831909479629.\n",
      "[I 2025-07-01 08:29:13,598] Trial 462 finished with value: 0.9685274700291183 and parameters: {'solver_penalty': ('lbfgs', 'l2'), 'C': 7.644020371539351, 'tol': 0.0016447595309209903, 'fit_intercept': False, 'class_weight': None, 'threshold': 0.213}. Best is trial 107 with value: 0.9692831909479629.\n",
      "[I 2025-07-01 08:29:13,833] Trial 464 finished with value: 0.9690133291360983 and parameters: {'solver_penalty': ('lbfgs', None), 'C': 7.075098244287722, 'tol': 0.03438876723426964, 'fit_intercept': False, 'class_weight': 'balanced', 'threshold': 0.321}. Best is trial 107 with value: 0.9692831909479629.\n",
      "[I 2025-07-01 08:29:14,485] Trial 465 finished with value: 0.9673937647741218 and parameters: {'solver_penalty': ('lbfgs', None), 'C': 7.632936471175594, 'tol': 0.04129002591389453, 'fit_intercept': True, 'class_weight': 'balanced', 'threshold': 0.146}. Best is trial 107 with value: 0.9692831909479629.\n",
      "[I 2025-07-01 08:29:16,635] Trial 468 finished with value: 0.9691752141610049 and parameters: {'solver_penalty': ('liblinear', 'l2'), 'C': 6.191341531410758, 'tol': 0.08617040941884005, 'fit_intercept': True, 'class_weight': None, 'threshold': 0.605}. Best is trial 107 with value: 0.9692831909479629.\n",
      "[I 2025-07-01 08:29:16,988] Trial 466 finished with value: 0.9692292098413503 and parameters: {'solver_penalty': ('lbfgs', None), 'C': 1.0194916413218105, 'tol': 0.09473428290341444, 'fit_intercept': False, 'class_weight': None, 'threshold': 0.561}. Best is trial 107 with value: 0.9692831909479629.\n",
      "[I 2025-07-01 08:29:17,552] Trial 469 finished with value: 0.9691752141610049 and parameters: {'solver_penalty': ('liblinear', 'l2'), 'C': 3.3515029880503313, 'tol': 0.09055191348395766, 'fit_intercept': False, 'class_weight': None, 'threshold': 0.61}. Best is trial 107 with value: 0.9692831909479629.\n",
      "[I 2025-07-01 08:29:18,230] Trial 467 finished with value: 0.9691752141610049 and parameters: {'solver_penalty': ('lbfgs', 'l2'), 'C': 3.4130867562676275, 'tol': 0.06707442312401984, 'fit_intercept': False, 'class_weight': 'balanced', 'threshold': 0.6950000000000001}. Best is trial 107 with value: 0.9692831909479629.\n",
      "[I 2025-07-01 08:29:19,527] Trial 470 finished with value: 0.9691752141610049 and parameters: {'solver_penalty': ('liblinear', 'l2'), 'C': 3.900668393527788, 'tol': 0.06777222936537944, 'fit_intercept': False, 'class_weight': None, 'threshold': 0.603}. Best is trial 107 with value: 0.9692831909479629.\n",
      "[I 2025-07-01 08:29:19,894] Trial 471 finished with value: 0.9687973318409832 and parameters: {'solver_penalty': ('liblinear', 'l2'), 'C': 4.453845525171053, 'tol': 0.09303283959118509, 'fit_intercept': False, 'class_weight': None, 'threshold': 0.6990000000000001}. Best is trial 107 with value: 0.9692831909479629.\n",
      "[I 2025-07-01 08:29:20,416] Trial 472 finished with value: 0.9692292098413503 and parameters: {'solver_penalty': ('liblinear', 'l2'), 'C': 1.1056078357999939, 'tol': 0.07960196405625933, 'fit_intercept': False, 'class_weight': None, 'threshold': 0.5650000000000001}. Best is trial 107 with value: 0.9692831909479629.\n",
      "[I 2025-07-01 08:29:22,756] Trial 474 finished with value: 0.96410052377996 and parameters: {'solver_penalty': ('lbfgs', None), 'C': 3.846446103525304, 'tol': 0.05782101593334597, 'fit_intercept': False, 'class_weight': None, 'threshold': 0.067}. Best is trial 107 with value: 0.9692831909479629.\n",
      "[I 2025-07-01 08:29:22,764] Trial 473 finished with value: 0.9681495585616309 and parameters: {'solver_penalty': ('newton-cholesky', None), 'C': 6.679016334352738, 'tol': 0.03664378458623828, 'fit_intercept': True, 'class_weight': 'balanced', 'threshold': 0.875}. Best is trial 107 with value: 0.9692831909479629.\n",
      "[I 2025-07-01 08:29:23,874] Trial 475 finished with value: 0.9692292098413503 and parameters: {'solver_penalty': ('newton-cg', None), 'C': 2.9721752146822995, 'tol': 0.02872012390972998, 'fit_intercept': False, 'class_weight': 'balanced', 'threshold': 0.56}. Best is trial 107 with value: 0.9692831909479629.\n",
      "[I 2025-07-01 08:29:24,554] Trial 476 finished with value: 0.9687433944555691 and parameters: {'solver_penalty': ('newton-cg', 'l2'), 'C': 0.5329176853480702, 'tol': 0.07179649806925881, 'fit_intercept': False, 'class_weight': 'balanced', 'threshold': 0.39}. Best is trial 107 with value: 0.9692831909479629.\n",
      "[I 2025-07-01 08:29:26,082] Trial 478 finished with value: 0.9691752141610049 and parameters: {'solver_penalty': ('lbfgs', None), 'C': 4.6108936606564255, 'tol': 0.05126164728973762, 'fit_intercept': False, 'class_weight': None, 'threshold': 0.6930000000000001}. Best is trial 107 with value: 0.9692831909479629.\n",
      "[I 2025-07-01 08:29:26,448] Trial 477 finished with value: 0.9687433944555689 and parameters: {'solver_penalty': ('newton-cholesky', None), 'C': 1.497860665570349, 'tol': 0.08308566873850258, 'fit_intercept': False, 'class_weight': 'balanced', 'threshold': 0.5670000000000001}. Best is trial 107 with value: 0.9692831909479629.\n",
      "[I 2025-07-01 08:29:26,464] Trial 479 finished with value: 0.9689593043082869 and parameters: {'solver_penalty': ('liblinear', 'l1'), 'C': 9.385652850685911, 'tol': 0.06750667212721015, 'fit_intercept': False, 'class_weight': 'balanced', 'threshold': 0.41400000000000003}. Best is trial 107 with value: 0.9692831909479629.\n",
      "[I 2025-07-01 08:29:28,674] Trial 480 finished with value: 0.9688513129475957 and parameters: {'solver_penalty': ('lbfgs', None), 'C': 7.946387670148157, 'tol': 0.06429961374095838, 'fit_intercept': False, 'class_weight': 'balanced', 'threshold': 0.727}. Best is trial 107 with value: 0.9692831909479629.\n",
      "[I 2025-07-01 08:29:28,877] Trial 482 finished with value: 0.9691752141610049 and parameters: {'solver_penalty': ('liblinear', 'l2'), 'C': 1.1947543083150085, 'tol': 0.09182354970958816, 'fit_intercept': False, 'class_weight': None, 'threshold': 0.618}. Best is trial 107 with value: 0.9692831909479629.\n",
      "[I 2025-07-01 08:29:29,463] Trial 483 finished with value: 0.9689053523491399 and parameters: {'solver_penalty': ('liblinear', 'l2'), 'C': 6.35977484993956, 'tol': 0.01168180029361237, 'fit_intercept': False, 'class_weight': 'balanced', 'threshold': 0.389}. Best is trial 107 with value: 0.9692831909479629.\n",
      "[I 2025-07-01 08:29:30,484] Trial 481 finished with value: 0.9684734889225057 and parameters: {'solver_penalty': ('newton-cholesky', None), 'C': 2.586034311426152, 'tol': 0.07500910232614212, 'fit_intercept': False, 'class_weight': 'balanced', 'threshold': 0.417}. Best is trial 107 with value: 0.9692831909479629.\n",
      "[I 2025-07-01 08:29:31,806] Trial 485 finished with value: 0.9691752287347377 and parameters: {'solver_penalty': ('liblinear', 'l2'), 'C': 0.5572695380799144, 'tol': 0.09916336657679382, 'fit_intercept': True, 'class_weight': None, 'threshold': 0.52}. Best is trial 107 with value: 0.9692831909479629.\n",
      "[I 2025-07-01 08:29:32,137] Trial 486 finished with value: 0.9691752141610049 and parameters: {'solver_penalty': ('liblinear', 'l2'), 'C': 3.554187749459686, 'tol': 0.09954317678330409, 'fit_intercept': False, 'class_weight': None, 'threshold': 0.612}. Best is trial 107 with value: 0.9692831909479629.\n",
      "[I 2025-07-01 08:29:33,480] Trial 484 finished with value: 0.9690672665215123 and parameters: {'solver_penalty': ('newton-cg', None), 'C': 3.6744152655651052, 'tol': 0.05848635960962106, 'fit_intercept': False, 'class_weight': 'balanced', 'threshold': 0.518}. Best is trial 107 with value: 0.9692831909479629.\n",
      "[I 2025-07-01 08:29:33,637] Trial 487 finished with value: 0.9687433507343703 and parameters: {'solver_penalty': ('lbfgs', 'l2'), 'C': 3.14749741771287, 'tol': 0.07901159734958342, 'fit_intercept': False, 'class_weight': None, 'threshold': 0.774}. Best is trial 107 with value: 0.9692831909479629.\n",
      "[I 2025-07-01 08:29:34,514] Trial 489 finished with value: 0.9690672665215123 and parameters: {'solver_penalty': ('liblinear', 'l2'), 'C': 1.857835676975915, 'tol': 0.09851954892962685, 'fit_intercept': False, 'class_weight': None, 'threshold': 0.507}. Best is trial 107 with value: 0.9692831909479629.\n",
      "[I 2025-07-01 08:29:36,171] Trial 490 finished with value: 0.9691212476281251 and parameters: {'solver_penalty': ('liblinear', 'l2'), 'C': 4.659313983799399, 'tol': 0.04241568842571799, 'fit_intercept': False, 'class_weight': 'balanced', 'threshold': 0.533}. Best is trial 107 with value: 0.9692831909479629.\n",
      "[I 2025-07-01 08:29:37,121] Trial 488 finished with value: 0.9691212476281251 and parameters: {'solver_penalty': ('newton-cg', None), 'C': 7.546852212175475, 'tol': 0.038411546801334275, 'fit_intercept': True, 'class_weight': 'balanced', 'threshold': 0.605}. Best is trial 107 with value: 0.9692831909479629.\n",
      "[I 2025-07-01 08:29:37,736] Trial 491 finished with value: 0.9692291952676175 and parameters: {'solver_penalty': ('lbfgs', 'l2'), 'C': 7.436299005861241, 'tol': 0.016991520217702942, 'fit_intercept': False, 'class_weight': 'balanced', 'threshold': 0.666}. Best is trial 107 with value: 0.9692831909479629.\n",
      "[I 2025-07-01 08:29:37,948] Trial 492 finished with value: 0.9692292098413503 and parameters: {'solver_penalty': ('lbfgs', None), 'C': 5.2774482697929, 'tol': 0.06585752064216521, 'fit_intercept': True, 'class_weight': None, 'threshold': 0.578}. Best is trial 107 with value: 0.9692831909479629.\n",
      "[I 2025-07-01 08:29:40,297] Trial 495 finished with value: 0.9689053232016743 and parameters: {'solver_penalty': ('liblinear', 'l2'), 'C': 3.694585673897322, 'tol': 0.0894322734706159, 'fit_intercept': True, 'class_weight': None, 'threshold': 0.45}. Best is trial 107 with value: 0.9692831909479629.\n",
      "[I 2025-07-01 08:29:40,651] Trial 493 finished with value: 0.9689053232016743 and parameters: {'solver_penalty': ('lbfgs', 'l2'), 'C': 2.127686887409553, 'tol': 0.04916608066384787, 'fit_intercept': False, 'class_weight': 'balanced', 'threshold': 0.468}. Best is trial 107 with value: 0.9692831909479629.\n",
      "[I 2025-07-01 08:29:41,095] Trial 494 finished with value: 0.9691212913493237 and parameters: {'solver_penalty': ('newton-cholesky', 'l2'), 'C': 5.676269791993623, 'tol': 0.04065818636198262, 'fit_intercept': False, 'class_weight': 'balanced', 'threshold': 0.656}. Best is trial 107 with value: 0.9692831909479629.\n",
      "[I 2025-07-01 08:29:41,723] Trial 496 finished with value: 0.9691752287347377 and parameters: {'solver_penalty': ('lbfgs', None), 'C': 6.833047260310691, 'tol': 0.07293399985392442, 'fit_intercept': False, 'class_weight': 'balanced', 'threshold': 0.602}. Best is trial 107 with value: 0.9692831909479629.\n",
      "[I 2025-07-01 08:29:43,390] Trial 499 finished with value: 0.9690672665215123 and parameters: {'solver_penalty': ('lbfgs', 'l2'), 'C': 6.007672003708549, 'tol': 0.07430100427417935, 'fit_intercept': True, 'class_weight': None, 'threshold': 0.467}. Best is trial 107 with value: 0.9692831909479629.\n",
      "[I 2025-07-01 08:29:43,574] Trial 497 finished with value: 0.9682574916273904 and parameters: {'solver_penalty': ('lbfgs', 'l2'), 'C': 7.404333955454488, 'tol': 0.09203395202480236, 'fit_intercept': True, 'class_weight': 'balanced', 'threshold': 0.8}. Best is trial 107 with value: 0.9692831909479629.\n",
      "[I 2025-07-01 08:29:44,075] Trial 498 finished with value: 0.9688514003899931 and parameters: {'solver_penalty': ('newton-cg', 'l2'), 'C': 8.151324837137429, 'tol': 0.0160428348673725, 'fit_intercept': True, 'class_weight': 'balanced', 'threshold': 0.422}. Best is trial 107 with value: 0.9692831909479629.\n"
     ]
    }
   ],
   "source": [
    "def objective(trial):\n",
    "    solver_penalty_options = [\n",
    "        ('liblinear', 'l1'),\n",
    "        ('liblinear', 'l2'),\n",
    "        ('lbfgs', 'l2'),\n",
    "        ('lbfgs', None),\n",
    "        ('newton-cg', 'l2'),\n",
    "        ('newton-cg', None),\n",
    "        ('newton-cholesky', 'l2'),\n",
    "        ('newton-cholesky', None)\n",
    "    ]\n",
    "    solver, penalty = trial.suggest_categorical('solver_penalty', solver_penalty_options)\n",
    "    \n",
    "    params = {\n",
    "        'random_state': CFG.seed,\n",
    "        'max_iter': 500,\n",
    "        'C': trial.suggest_float('C', 0, 10),\n",
    "        'tol': trial.suggest_float('tol', 1e-10, 1e-1),\n",
    "        'fit_intercept': trial.suggest_categorical('fit_intercept', [True, False]),\n",
    "        'class_weight': trial.suggest_categorical('class_weight', ['balanced', None]),\n",
    "        'solver': solver,\n",
    "        'penalty': penalty\n",
    "    }\n",
    "    \n",
    "    threshold = trial.suggest_float('threshold', 0, 1, step=0.001)\n",
    "    \n",
    "    trainer = Trainer(\n",
    "        LogisticRegression(**params),\n",
    "        cv=CFG.cv,\n",
    "        metric=CFG.metric,\n",
    "        metric_precision=6,\n",
    "        metric_threshold=threshold,\n",
    "        use_early_stopping=False,\n",
    "        verbose=False,\n",
    "        task=\"binary\",\n",
    "    )\n",
    "    trainer.fit(X, y)\n",
    "    \n",
    "    return np.mean(trainer.fold_scores)\n",
    "\n",
    "sampler = optuna.samplers.TPESampler(seed=CFG.seed, multivariate=True, n_startup_trials=CFG.n_optuna_trials // 10)\n",
    "study = optuna.create_study(direction='maximize', sampler=sampler)\n",
    "study.optimize(objective, n_trials=CFG.n_optuna_trials, n_jobs=-1)\n",
    "best_params = study.best_params"
   ]
  },
  {
   "cell_type": "code",
   "execution_count": 19,
   "id": "5ff83e95",
   "metadata": {
    "execution": {
     "iopub.execute_input": "2025-07-01T08:29:44.150430Z",
     "iopub.status.busy": "2025-07-01T08:29:44.149619Z",
     "iopub.status.idle": "2025-07-01T08:29:44.154597Z",
     "shell.execute_reply": "2025-07-01T08:29:44.153672Z"
    },
    "papermill": {
     "duration": 0.041317,
     "end_time": "2025-07-01T08:29:44.156064",
     "exception": false,
     "start_time": "2025-07-01T08:29:44.114747",
     "status": "completed"
    },
    "tags": []
   },
   "outputs": [],
   "source": [
    "solver, penalty = best_params['solver_penalty']\n",
    "lr_params = {\n",
    "    'random_state': CFG.seed,\n",
    "    'max_iter': 500,\n",
    "    'C': best_params['C'],\n",
    "    'tol': best_params['tol'],\n",
    "    'fit_intercept': best_params['fit_intercept'],\n",
    "    'class_weight': best_params['class_weight'],\n",
    "    'solver': solver,\n",
    "    'penalty': penalty\n",
    "}"
   ]
  },
  {
   "cell_type": "code",
   "execution_count": 20,
   "id": "a79ed6b3",
   "metadata": {
    "execution": {
     "iopub.execute_input": "2025-07-01T08:29:44.225254Z",
     "iopub.status.busy": "2025-07-01T08:29:44.224929Z",
     "iopub.status.idle": "2025-07-01T08:29:44.230195Z",
     "shell.execute_reply": "2025-07-01T08:29:44.228998Z"
    },
    "papermill": {
     "duration": 0.041689,
     "end_time": "2025-07-01T08:29:44.231651",
     "exception": false,
     "start_time": "2025-07-01T08:29:44.189962",
     "status": "completed"
    },
    "tags": []
   },
   "outputs": [
    {
     "name": "stdout",
     "output_type": "stream",
     "text": [
      "{\n",
      "  \"random_state\": 42,\n",
      "  \"max_iter\": 500,\n",
      "  \"C\": 2.6240736247228558,\n",
      "  \"tol\": 0.0871582562300564,\n",
      "  \"fit_intercept\": false,\n",
      "  \"class_weight\": null,\n",
      "  \"solver\": \"lbfgs\",\n",
      "  \"penalty\": \"l2\"\n",
      "}\n"
     ]
    }
   ],
   "source": [
    "print(json.dumps(lr_params, indent=2))"
   ]
  },
  {
   "cell_type": "code",
   "execution_count": 21,
   "id": "cb9a92a0",
   "metadata": {
    "execution": {
     "iopub.execute_input": "2025-07-01T08:29:44.301419Z",
     "iopub.status.busy": "2025-07-01T08:29:44.301117Z",
     "iopub.status.idle": "2025-07-01T08:29:44.305847Z",
     "shell.execute_reply": "2025-07-01T08:29:44.304988Z"
    },
    "papermill": {
     "duration": 0.041917,
     "end_time": "2025-07-01T08:29:44.307347",
     "exception": false,
     "start_time": "2025-07-01T08:29:44.265430",
     "status": "completed"
    },
    "tags": []
   },
   "outputs": [
    {
     "name": "stdout",
     "output_type": "stream",
     "text": [
      "Best threshold: 0.607\n"
     ]
    }
   ],
   "source": [
    "best_threshold = study.best_params['threshold']\n",
    "print(f'Best threshold: {best_threshold:.3f}')"
   ]
  },
  {
   "cell_type": "code",
   "execution_count": 22,
   "id": "801fcc6a",
   "metadata": {
    "execution": {
     "iopub.execute_input": "2025-07-01T08:29:44.378613Z",
     "iopub.status.busy": "2025-07-01T08:29:44.378325Z",
     "iopub.status.idle": "2025-07-01T08:29:45.183465Z",
     "shell.execute_reply": "2025-07-01T08:29:45.182299Z"
    },
    "papermill": {
     "duration": 0.84358,
     "end_time": "2025-07-01T08:29:45.185003",
     "exception": false,
     "start_time": "2025-07-01T08:29:44.341423",
     "status": "completed"
    },
    "tags": []
   },
   "outputs": [
    {
     "name": "stdout",
     "output_type": "stream",
     "text": [
      "Training LogisticRegression\n",
      "\n",
      "--- Fold 0 - accuracy_score: 0.970310 - Time: 0.01 s\n",
      "--- Fold 1 - accuracy_score: 0.967881 - Time: 0.01 s\n",
      "--- Fold 2 - accuracy_score: 0.965992 - Time: 0.01 s\n",
      "--- Fold 3 - accuracy_score: 0.971120 - Time: 0.01 s\n",
      "--- Fold 4 - accuracy_score: 0.971112 - Time: 0.01 s\n",
      "\n",
      "------ Overall accuracy_score: 0.969283 - Mean accuracy_score: 0.969283 ± 0.002028 - Time: 0.79 s\n"
     ]
    }
   ],
   "source": [
    "lr_trainer = Trainer(\n",
    "    LogisticRegression(**lr_params),\n",
    "    cv=CFG.cv,\n",
    "    metric=CFG.metric,\n",
    "    metric_threshold=best_threshold,\n",
    "    metric_precision=6,\n",
    "    use_early_stopping=False,\n",
    "    task=\"binary\",\n",
    ")\n",
    "\n",
    "lr_trainer.fit(X, y)\n",
    "\n",
    "scores[\"LogisticRegression\"] = lr_trainer.fold_scores\n",
    "lr_test_pred_probs = lr_trainer.predict(X_test)"
   ]
  },
  {
   "cell_type": "code",
   "execution_count": 23,
   "id": "1b0bc112",
   "metadata": {
    "execution": {
     "iopub.execute_input": "2025-07-01T08:29:45.255245Z",
     "iopub.status.busy": "2025-07-01T08:29:45.254927Z",
     "iopub.status.idle": "2025-07-01T08:29:45.316418Z",
     "shell.execute_reply": "2025-07-01T08:29:45.315442Z"
    },
    "papermill": {
     "duration": 0.098623,
     "end_time": "2025-07-01T08:29:45.318163",
     "exception": false,
     "start_time": "2025-07-01T08:29:45.219540",
     "status": "completed"
    },
    "tags": []
   },
   "outputs": [
    {
     "data": {
      "text/html": [
       "<div>\n",
       "<style scoped>\n",
       "    .dataframe tbody tr th:only-of-type {\n",
       "        vertical-align: middle;\n",
       "    }\n",
       "\n",
       "    .dataframe tbody tr th {\n",
       "        vertical-align: top;\n",
       "    }\n",
       "\n",
       "    .dataframe thead th {\n",
       "        text-align: right;\n",
       "    }\n",
       "</style>\n",
       "<table border=\"1\" class=\"dataframe\">\n",
       "  <thead>\n",
       "    <tr style=\"text-align: right;\">\n",
       "      <th></th>\n",
       "      <th>id</th>\n",
       "      <th>Personality</th>\n",
       "    </tr>\n",
       "  </thead>\n",
       "  <tbody>\n",
       "    <tr>\n",
       "      <th>0</th>\n",
       "      <td>18524</td>\n",
       "      <td>Extrovert</td>\n",
       "    </tr>\n",
       "    <tr>\n",
       "      <th>1</th>\n",
       "      <td>18525</td>\n",
       "      <td>Introvert</td>\n",
       "    </tr>\n",
       "    <tr>\n",
       "      <th>2</th>\n",
       "      <td>18526</td>\n",
       "      <td>Extrovert</td>\n",
       "    </tr>\n",
       "    <tr>\n",
       "      <th>3</th>\n",
       "      <td>18527</td>\n",
       "      <td>Extrovert</td>\n",
       "    </tr>\n",
       "    <tr>\n",
       "      <th>4</th>\n",
       "      <td>18528</td>\n",
       "      <td>Introvert</td>\n",
       "    </tr>\n",
       "  </tbody>\n",
       "</table>\n",
       "</div>"
      ],
      "text/plain": [
       "      id Personality\n",
       "0  18524   Extrovert\n",
       "1  18525   Introvert\n",
       "2  18526   Extrovert\n",
       "3  18527   Extrovert\n",
       "4  18528   Introvert"
      ]
     },
     "execution_count": 23,
     "metadata": {},
     "output_type": "execute_result"
    }
   ],
   "source": [
    "save_submission('logistic-regression', lr_test_pred_probs, np.mean(scores['LogisticRegression']), best_threshold)"
   ]
  },
  {
   "cell_type": "code",
   "execution_count": 24,
   "id": "c3db952b",
   "metadata": {
    "execution": {
     "iopub.execute_input": "2025-07-01T08:29:45.393190Z",
     "iopub.status.busy": "2025-07-01T08:29:45.392832Z",
     "iopub.status.idle": "2025-07-01T08:29:45.397179Z",
     "shell.execute_reply": "2025-07-01T08:29:45.396472Z"
    },
    "papermill": {
     "duration": 0.044148,
     "end_time": "2025-07-01T08:29:45.398438",
     "exception": false,
     "start_time": "2025-07-01T08:29:45.354290",
     "status": "completed"
    },
    "tags": []
   },
   "outputs": [],
   "source": [
    "lr_coeffs = np.zeros((1,len(X.columns)))\n",
    "for estimator in lr_trainer.estimators:\n",
    "    lr_coeffs += estimator.coef_ / CFG.n_folds"
   ]
  },
  {
   "cell_type": "code",
   "execution_count": 25,
   "id": "7a604304",
   "metadata": {
    "_kg_hide-input": false,
    "execution": {
     "iopub.execute_input": "2025-07-01T08:29:45.469241Z",
     "iopub.status.busy": "2025-07-01T08:29:45.468929Z",
     "iopub.status.idle": "2025-07-01T08:29:45.733870Z",
     "shell.execute_reply": "2025-07-01T08:29:45.732957Z"
    },
    "papermill": {
     "duration": 0.302291,
     "end_time": "2025-07-01T08:29:45.735520",
     "exception": false,
     "start_time": "2025-07-01T08:29:45.433229",
     "status": "completed"
    },
    "tags": []
   },
   "outputs": [
    {
     "data": {
      "image/png": "[encoded data removed]",
      "text/plain": [
       "<Figure size 1000x300 with 1 Axes>"
      ]
     },
     "metadata": {},
     "output_type": "display_data"
    }
   ],
   "source": [
    "plot_weights(lr_coeffs, 'LR Coefficients')"
   ]
  },
  {
   "cell_type": "markdown",
   "id": "38bd36e9",
   "metadata": {
    "papermill": {
     "duration": 0.035837,
     "end_time": "2025-07-01T08:29:45.807017",
     "exception": false,
     "start_time": "2025-07-01T08:29:45.771180",
     "status": "completed"
    },
    "tags": []
   },
   "source": [
    "# Results"
   ]
  },
  {
   "cell_type": "code",
   "execution_count": 26,
   "id": "b1fbdfce",
   "metadata": {
    "_kg_hide-input": false,
    "execution": {
     "iopub.execute_input": "2025-07-01T08:29:45.879248Z",
     "iopub.status.busy": "2025-07-01T08:29:45.878920Z",
     "iopub.status.idle": "2025-07-01T08:29:46.466641Z",
     "shell.execute_reply": "2025-07-01T08:29:46.465657Z"
    },
    "papermill": {
     "duration": 0.625452,
     "end_time": "2025-07-01T08:29:46.468274",
     "exception": false,
     "start_time": "2025-07-01T08:29:45.842822",
     "status": "completed"
    },
    "tags": []
   },
   "outputs": [
    {
     "data": {
      "image/png": "[encoded data removed]",
      "text/plain": [
       "<Figure size 1500x210 with 2 Axes>"
      ]
     },
     "metadata": {},
     "output_type": "display_data"
    }
   ],
   "source": [
    "scores = pd.DataFrame(scores)\n",
    "mean_scores = scores.mean().sort_values(ascending=False)\n",
    "order = scores.mean().sort_values(ascending=False).index.tolist()\n",
    "\n",
    "min_score = mean_scores.min()\n",
    "max_score = mean_scores.max()\n",
    "padding = (max_score - min_score) * 0.5\n",
    "lower_limit = min_score - padding\n",
    "upper_limit = max_score + padding\n",
    "\n",
    "fig, axs = plt.subplots(1, 2, figsize=(15, scores.shape[1] * 0.3))\n",
    "\n",
    "boxplot = sns.boxplot(data=scores, order=order, ax=axs[0], orient='h', color='grey')\n",
    "axs[0].set_title('Fold Accuracy')\n",
    "axs[0].set_xlabel('')\n",
    "axs[0].set_ylabel('')\n",
    "\n",
    "barplot = sns.barplot(x=mean_scores.values, y=mean_scores.index, ax=axs[1], color='grey')\n",
    "axs[1].set_title('Average Accuracy')\n",
    "axs[1].set_xlabel('')\n",
    "axs[1].set_xlim(left=lower_limit, right=upper_limit)\n",
    "axs[1].set_ylabel('')\n",
    "\n",
    "for i, (score, model) in enumerate(zip(mean_scores.values, mean_scores.index)):\n",
    "    color = 'cyan' if 'logistic' in model.lower() else 'grey'\n",
    "    barplot.patches[i].set_facecolor(color)\n",
    "    boxplot.patches[i].set_facecolor(color)\n",
    "    barplot.text(score, i, round(score, 6), va='center')\n",
    "\n",
    "plt.tight_layout()\n",
    "plt.show()"
   ]
  },
  {
   "cell_type": "code",
   "execution_count": 27,
   "id": "70d18abe",
   "metadata": {
    "execution": {
     "iopub.execute_input": "2025-07-01T08:29:46.543777Z",
     "iopub.status.busy": "2025-07-01T08:29:46.543450Z",
     "iopub.status.idle": "2025-07-01T08:29:46.549670Z",
     "shell.execute_reply": "2025-07-01T08:29:46.548691Z"
    },
    "papermill": {
     "duration": 0.04583,
     "end_time": "2025-07-01T08:29:46.551461",
     "exception": false,
     "start_time": "2025-07-01T08:29:46.505631",
     "status": "completed"
    },
    "tags": []
   },
   "outputs": [],
   "source": [
    "shutil.rmtree('catboost_info', ignore_errors=True)"
   ]
  }
 ],
 "metadata": {
  "kaggle": {
   "accelerator": "none",
   "dataSources": [
    {
     "databundleVersionId": 12738969,
     "sourceId": 91718,
     "sourceType": "competition"
    }
   ],
   "isGpuEnabled": false,
   "isInternetEnabled": true,
   "language": "python",
   "sourceType": "notebook"
  },
  "kernelspec": {
   "display_name": ".venv",
   "language": "python",
   "name": "python3"
  },
  "language_info": {
   "codemirror_mode": {
    "name": "ipython",
    "version": 3
   },
   "file_extension": ".py",
   "mimetype": "text/x-python",
   "name": "python",
   "nbconvert_exporter": "python",
   "pygments_lexer": "ipython3",
   "version": "3.11.11"
  },
  "papermill": {
   "default_parameters": {},
   "duration": 575.302063,
   "end_time": "2025-07-01T08:29:47.712098",
   "environment_variables": {},
   "exception": null,
   "input_path": "__notebook__.ipynb",
   "output_path": "__notebook__.ipynb",
   "parameters": {},
   "start_time": "2025-07-01T08:20:12.410035",
   "version": "2.6.0"
  }
 },
 "nbformat": 4,
 "nbformat_minor": 5
}
