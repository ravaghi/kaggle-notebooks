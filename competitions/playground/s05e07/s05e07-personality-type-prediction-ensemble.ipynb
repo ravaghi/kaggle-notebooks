{
 "cells": [
  {
   "cell_type": "markdown",
   "id": "f3636fa1",
   "metadata": {
    "papermill": {
     "duration": 0.006369,
     "end_time": "2025-07-01T09:53:18.823450",
     "exception": false,
     "start_time": "2025-07-01T09:53:18.817081",
     "status": "completed"
    },
    "tags": []
   },
   "source": [
    "# Imports and configs"
   ]
  },
  {
   "cell_type": "code",
   "execution_count": 1,
   "id": "a2cdddfb",
   "metadata": {
    "_kg_hide-output": true,
    "execution": {
     "iopub.execute_input": "2025-07-01T09:53:18.835626Z",
     "iopub.status.busy": "2025-07-01T09:53:18.835312Z",
     "iopub.status.idle": "2025-07-01T09:53:30.042209Z",
     "shell.execute_reply": "2025-07-01T09:53:30.041134Z"
    },
    "papermill": {
     "duration": 11.214578,
     "end_time": "2025-07-01T09:53:30.043987",
     "exception": false,
     "start_time": "2025-07-01T09:53:18.829409",
     "status": "completed"
    },
    "tags": []
   },
   "outputs": [
    {
     "name": "stdout",
     "output_type": "stream",
     "text": [
      "Collecting scikit-learn==1.5.2\r\n",
      "  Downloading scikit_learn-1.5.2-cp311-cp311-manylinux_2_17_x86_64.manylinux2014_x86_64.whl.metadata (13 kB)\r\n",
      "Collecting koolbox\r\n",
      "  Downloading koolbox-0.1.3-py3-none-any.whl.metadata (3.4 kB)\r\n",
      "Requirement already satisfied: numpy>=1.19.5 in /usr/local/lib/python3.11/dist-packages (from scikit-learn==1.5.2) (1.26.4)\r\n",
      "Requirement already satisfied: scipy>=1.6.0 in /usr/local/lib/python3.11/dist-packages (from scikit-learn==1.5.2) (1.15.2)\r\n",
      "Requirement already satisfied: joblib>=1.2.0 in /usr/local/lib/python3.11/dist-packages (from scikit-learn==1.5.2) (1.5.0)\r\n",
      "Requirement already satisfied: threadpoolctl>=3.1.0 in /usr/local/lib/python3.11/dist-packages (from scikit-learn==1.5.2) (3.6.0)\r\n",
      "Requirement already satisfied: optuna>=4.2.1 in /usr/local/lib/python3.11/dist-packages (from koolbox) (4.3.0)\r\n",
      "Requirement already satisfied: pandas>=2.2.3 in /usr/local/lib/python3.11/dist-packages (from koolbox) (2.2.3)\r\n",
      "Requirement already satisfied: mkl_fft in /usr/local/lib/python3.11/dist-packages (from numpy>=1.19.5->scikit-learn==1.5.2) (1.3.8)\r\n",
      "Requirement already satisfied: mkl_random in /usr/local/lib/python3.11/dist-packages (from numpy>=1.19.5->scikit-learn==1.5.2) (1.2.4)\r\n",
      "Requirement already satisfied: mkl_umath in /usr/local/lib/python3.11/dist-packages (from numpy>=1.19.5->scikit-learn==1.5.2) (0.1.1)\r\n",
      "Requirement already satisfied: mkl in /usr/local/lib/python3.11/dist-packages (from numpy>=1.19.5->scikit-learn==1.5.2) (2025.1.0)\r\n",
      "Requirement already satisfied: tbb4py in /usr/local/lib/python3.11/dist-packages (from numpy>=1.19.5->scikit-learn==1.5.2) (2022.1.0)\r\n",
      "Requirement already satisfied: mkl-service in /usr/local/lib/python3.11/dist-packages (from numpy>=1.19.5->scikit-learn==1.5.2) (2.4.1)\r\n",
      "Requirement already satisfied: alembic>=1.5.0 in /usr/local/lib/python3.11/dist-packages (from optuna>=4.2.1->koolbox) (1.15.2)\r\n",
      "Requirement already satisfied: colorlog in /usr/local/lib/python3.11/dist-packages (from optuna>=4.2.1->koolbox) (6.9.0)\r\n",
      "Requirement already satisfied: packaging>=20.0 in /usr/local/lib/python3.11/dist-packages (from optuna>=4.2.1->koolbox) (25.0)\r\n",
      "Requirement already satisfied: sqlalchemy>=1.4.2 in /usr/local/lib/python3.11/dist-packages (from optuna>=4.2.1->koolbox) (2.0.40)\r\n",
      "Requirement already satisfied: tqdm in /usr/local/lib/python3.11/dist-packages (from optuna>=4.2.1->koolbox) (4.67.1)\r\n",
      "Requirement already satisfied: PyYAML in /usr/local/lib/python3.11/dist-packages (from optuna>=4.2.1->koolbox) (6.0.2)\r\n",
      "Requirement already satisfied: python-dateutil>=2.8.2 in /usr/local/lib/python3.11/dist-packages (from pandas>=2.2.3->koolbox) (2.9.0.post0)\r\n",
      "Requirement already satisfied: pytz>=2020.1 in /usr/local/lib/python3.11/dist-packages (from pandas>=2.2.3->koolbox) (2025.2)\r\n",
      "Requirement already satisfied: tzdata>=2022.7 in /usr/local/lib/python3.11/dist-packages (from pandas>=2.2.3->koolbox) (2025.2)\r\n",
      "Requirement already satisfied: Mako in /usr/local/lib/python3.11/dist-packages (from alembic>=1.5.0->optuna>=4.2.1->koolbox) (1.3.10)\r\n",
      "Requirement already satisfied: typing-extensions>=4.12 in /usr/local/lib/python3.11/dist-packages (from alembic>=1.5.0->optuna>=4.2.1->koolbox) (4.13.2)\r\n",
      "Requirement already satisfied: six>=1.5 in /usr/local/lib/python3.11/dist-packages (from python-dateutil>=2.8.2->pandas>=2.2.3->koolbox) (1.17.0)\r\n",
      "Requirement already satisfied: greenlet>=1 in /usr/local/lib/python3.11/dist-packages (from sqlalchemy>=1.4.2->optuna>=4.2.1->koolbox) (3.1.1)\r\n",
      "Requirement already satisfied: intel-openmp<2026,>=2024 in /usr/local/lib/python3.11/dist-packages (from mkl->numpy>=1.19.5->scikit-learn==1.5.2) (2024.2.0)\r\n",
      "Requirement already satisfied: tbb==2022.* in /usr/local/lib/python3.11/dist-packages (from mkl->numpy>=1.19.5->scikit-learn==1.5.2) (2022.1.0)\r\n",
      "Requirement already satisfied: tcmlib==1.* in /usr/local/lib/python3.11/dist-packages (from tbb==2022.*->mkl->numpy>=1.19.5->scikit-learn==1.5.2) (1.3.0)\r\n",
      "Requirement already satisfied: intel-cmplr-lib-rt in /usr/local/lib/python3.11/dist-packages (from mkl_umath->numpy>=1.19.5->scikit-learn==1.5.2) (2024.2.0)\r\n",
      "Requirement already satisfied: intel-cmplr-lib-ur==2024.2.0 in /usr/local/lib/python3.11/dist-packages (from intel-openmp<2026,>=2024->mkl->numpy>=1.19.5->scikit-learn==1.5.2) (2024.2.0)\r\n",
      "Requirement already satisfied: MarkupSafe>=0.9.2 in /usr/local/lib/python3.11/dist-packages (from Mako->alembic>=1.5.0->optuna>=4.2.1->koolbox) (3.0.2)\r\n",
      "Downloading scikit_learn-1.5.2-cp311-cp311-manylinux_2_17_x86_64.manylinux2014_x86_64.whl (13.3 MB)\r\n",
      "\u001b[2K   \u001b[90m━━━━━━━━━━━━━━━━━━━━━━━━━━━━━━━━━━━━━━━━\u001b[0m \u001b[32m13.3/13.3 MB\u001b[0m \u001b[31m74.0 MB/s\u001b[0m eta \u001b[36m0:00:00\u001b[0m\r\n",
      "\u001b[?25hDownloading koolbox-0.1.3-py3-none-any.whl (18 kB)\r\n",
      "Installing collected packages: scikit-learn, koolbox\r\n",
      "  Attempting uninstall: scikit-learn\r\n",
      "    Found existing installation: scikit-learn 1.2.2\r\n",
      "    Uninstalling scikit-learn-1.2.2:\r\n",
      "      Successfully uninstalled scikit-learn-1.2.2\r\n",
      "\u001b[31mERROR: pip's dependency resolver does not currently take into account all the packages that are installed. This behaviour is the source of the following dependency conflicts.\r\n",
      "cesium 0.12.4 requires numpy<3.0,>=2.0, but you have numpy 1.26.4 which is incompatible.\u001b[0m\u001b[31m\r\n",
      "\u001b[0mSuccessfully installed koolbox-0.1.3 scikit-learn-1.5.2\r\n"
     ]
    }
   ],
   "source": [
    "!pip install scikit-learn==1.5.2 koolbox"
   ]
  },
  {
   "cell_type": "code",
   "execution_count": 2,
   "id": "893a3bcf",
   "metadata": {
    "execution": {
     "iopub.execute_input": "2025-07-01T09:53:30.057871Z",
     "iopub.status.busy": "2025-07-01T09:53:30.057256Z",
     "iopub.status.idle": "2025-07-01T09:53:40.837393Z",
     "shell.execute_reply": "2025-07-01T09:53:40.836671Z"
    },
    "papermill": {
     "duration": 10.788797,
     "end_time": "2025-07-01T09:53:40.839017",
     "exception": false,
     "start_time": "2025-07-01T09:53:30.050220",
     "status": "completed"
    },
    "tags": []
   },
   "outputs": [],
   "source": [
    "from sklearn.feature_selection import mutual_info_regression\n",
    "from sklearn.ensemble import HistGradientBoostingClassifier\n",
    "from sklearn.linear_model import LogisticRegression\n",
    "from sklearn.model_selection import StratifiedKFold\n",
    "from sklearn.metrics import accuracy_score\n",
    "from catboost import CatBoostClassifier\n",
    "from lightgbm import LGBMClassifier\n",
    "from xgboost import XGBClassifier\n",
    "from scipy.special import logit\n",
    "from koolbox import Trainer\n",
    "import matplotlib.pyplot as plt\n",
    "import seaborn as sns\n",
    "import pandas as pd\n",
    "import numpy as np\n",
    "import warnings\n",
    "import shutil\n",
    "import optuna\n",
    "import json\n",
    "\n",
    "warnings.filterwarnings('ignore')"
   ]
  },
  {
   "cell_type": "code",
   "execution_count": 3,
   "id": "cff4b87c",
   "metadata": {
    "execution": {
     "iopub.execute_input": "2025-07-01T09:53:40.852594Z",
     "iopub.status.busy": "2025-07-01T09:53:40.852044Z",
     "iopub.status.idle": "2025-07-01T09:53:40.857419Z",
     "shell.execute_reply": "2025-07-01T09:53:40.856656Z"
    },
    "papermill": {
     "duration": 0.01363,
     "end_time": "2025-07-01T09:53:40.858792",
     "exception": false,
     "start_time": "2025-07-01T09:53:40.845162",
     "status": "completed"
    },
    "tags": []
   },
   "outputs": [],
   "source": [
    "class CFG:\n",
    "    train_path = '/kaggle/input/playground-series-s5e7/train.csv'\n",
    "    test_path = '/kaggle/input/playground-series-s5e7/test.csv'\n",
    "    sample_sub_path = '/kaggle/input/playground-series-s5e7/sample_submission.csv'\n",
    "    \n",
    "    target = 'Personality'\n",
    "    n_folds = 5\n",
    "    seed = 42\n",
    "    \n",
    "    cv = StratifiedKFold(n_splits=n_folds, random_state=seed, shuffle=True)\n",
    "    metric = accuracy_score\n",
    "    \n",
    "    n_optuna_trials = 500"
   ]
  },
  {
   "cell_type": "markdown",
   "id": "d451a2af",
   "metadata": {
    "papermill": {
     "duration": 0.005782,
     "end_time": "2025-07-01T09:53:40.870893",
     "exception": false,
     "start_time": "2025-07-01T09:53:40.865111",
     "status": "completed"
    },
    "tags": []
   },
   "source": [
    "# Data loading and preprocessing"
   ]
  },
  {
   "cell_type": "code",
   "execution_count": 4,
   "id": "0e1c43c6",
   "metadata": {
    "execution": {
     "iopub.execute_input": "2025-07-01T09:53:40.884026Z",
     "iopub.status.busy": "2025-07-01T09:53:40.883671Z",
     "iopub.status.idle": "2025-07-01T09:53:40.966363Z",
     "shell.execute_reply": "2025-07-01T09:53:40.965442Z"
    },
    "papermill": {
     "duration": 0.091078,
     "end_time": "2025-07-01T09:53:40.967970",
     "exception": false,
     "start_time": "2025-07-01T09:53:40.876892",
     "status": "completed"
    },
    "tags": []
   },
   "outputs": [],
   "source": [
    "train = pd.read_csv(CFG.train_path, index_col='id')\n",
    "test = pd.read_csv(CFG.test_path, index_col='id')\n",
    "\n",
    "train[\"Stage_fear\"] = train[\"Stage_fear\"].map({\"No\": 0, \"Yes\": 1})\n",
    "train[\"Drained_after_socializing\"] = train[\"Drained_after_socializing\"].map({\"No\": 0, \"Yes\": 1})\n",
    "\n",
    "test[\"Stage_fear\"] = test[\"Stage_fear\"].map({\"No\": 0, \"Yes\": 1})\n",
    "test[\"Drained_after_socializing\"] = test[\"Drained_after_socializing\"].map({\"No\": 0, \"Yes\": 1})\n",
    "\n",
    "train[CFG.target] = train[CFG.target].map({\"Extrovert\": 0, \"Introvert\": 1})\n",
    "\n",
    "X = train.drop(CFG.target, axis=1)\n",
    "y = train[CFG.target]\n",
    "X_test = test"
   ]
  },
  {
   "cell_type": "code",
   "execution_count": 5,
   "id": "a96bd080",
   "metadata": {
    "execution": {
     "iopub.execute_input": "2025-07-01T09:53:40.981339Z",
     "iopub.status.busy": "2025-07-01T09:53:40.981014Z",
     "iopub.status.idle": "2025-07-01T09:53:41.429074Z",
     "shell.execute_reply": "2025-07-01T09:53:41.428107Z"
    },
    "papermill": {
     "duration": 0.456422,
     "end_time": "2025-07-01T09:53:41.430558",
     "exception": false,
     "start_time": "2025-07-01T09:53:40.974136",
     "status": "completed"
    },
    "tags": []
   },
   "outputs": [
    {
     "data": {
      "image/png": "[encoded data removed]",
      "text/plain": [
       "<Figure size 800x800 with 1 Axes>"
      ]
     },
     "metadata": {},
     "output_type": "display_data"
    }
   ],
   "source": [
    "sns.set_style(\"white\")\n",
    "plt.figure(figsize=(8, 8))\n",
    "\n",
    "corr_train = train.corr()\n",
    "mask_train = np.triu(np.ones_like(corr_train, dtype=bool), k=1)\n",
    "\n",
    "sns.heatmap(\n",
    "    data=corr_train,\n",
    "    annot=True,\n",
    "    fmt='.4f',\n",
    "    mask=mask_train,\n",
    "    square=True,\n",
    "    cmap='coolwarm',\n",
    "    annot_kws={'size': 8},\n",
    "    cbar=False\n",
    ")\n",
    "\n",
    "plt.tight_layout()\n",
    "plt.show()"
   ]
  },
  {
   "cell_type": "code",
   "execution_count": 6,
   "id": "a44ecc3f",
   "metadata": {
    "execution": {
     "iopub.execute_input": "2025-07-01T09:53:41.446977Z",
     "iopub.status.busy": "2025-07-01T09:53:41.446603Z",
     "iopub.status.idle": "2025-07-01T09:53:42.422402Z",
     "shell.execute_reply": "2025-07-01T09:53:42.421489Z"
    },
    "papermill": {
     "duration": 0.985517,
     "end_time": "2025-07-01T09:53:42.423829",
     "exception": false,
     "start_time": "2025-07-01T09:53:41.438312",
     "status": "completed"
    },
    "tags": []
   },
   "outputs": [
    {
     "data": {
      "text/html": [
       "<style type=\"text/css\">\n",
       "#T_5beb6_row0_col0 {\n",
       "  width: 10em;\n",
       "  background: linear-gradient(90deg, #006837 100.0%, transparent 100.0%);\n",
       "}\n",
       "#T_5beb6_row1_col0 {\n",
       "  width: 10em;\n",
       "  background: linear-gradient(90deg, #0b7d42 95.5%, transparent 95.5%);\n",
       "}\n",
       "#T_5beb6_row2_col0 {\n",
       "  width: 10em;\n",
       "  background: linear-gradient(90deg, #108647 93.5%, transparent 93.5%);\n",
       "}\n",
       "#T_5beb6_row3_col0 {\n",
       "  width: 10em;\n",
       "  background: linear-gradient(90deg, #219c52 89.0%, transparent 89.0%);\n",
       "}\n",
       "#T_5beb6_row4_col0 {\n",
       "  width: 10em;\n",
       "  background: linear-gradient(90deg, #249d53 88.7%, transparent 88.7%);\n",
       "}\n",
       "#T_5beb6_row5_col0 {\n",
       "  width: 10em;\n",
       "  background: linear-gradient(90deg, #36a657 86.0%, transparent 86.0%);\n",
       "}\n",
       "#T_5beb6_row6_col0 {\n",
       "  width: 10em;\n",
       "  background: linear-gradient(90deg, #5ab760 81.6%, transparent 81.6%);\n",
       "}\n",
       "</style>\n",
       "<table id=\"T_5beb6\">\n",
       "  <thead>\n",
       "    <tr>\n",
       "      <th class=\"blank level0\" >&nbsp;</th>\n",
       "      <th id=\"T_5beb6_level0_col0\" class=\"col_heading level0 col0\" >Mutual Information</th>\n",
       "    </tr>\n",
       "  </thead>\n",
       "  <tbody>\n",
       "    <tr>\n",
       "      <th id=\"T_5beb6_level0_row0\" class=\"row_heading level0 row0\" >Time_spent_Alone</th>\n",
       "      <td id=\"T_5beb6_row0_col0\" class=\"data row0 col0\" >0.353570</td>\n",
       "    </tr>\n",
       "    <tr>\n",
       "      <th id=\"T_5beb6_level0_row1\" class=\"row_heading level0 row1\" >Drained_after_socializing</th>\n",
       "      <td id=\"T_5beb6_row1_col0\" class=\"data row1 col0\" >0.337575</td>\n",
       "    </tr>\n",
       "    <tr>\n",
       "      <th id=\"T_5beb6_level0_row2\" class=\"row_heading level0 row2\" >Social_event_attendance</th>\n",
       "      <td id=\"T_5beb6_row2_col0\" class=\"data row2 col0\" >0.330482</td>\n",
       "    </tr>\n",
       "    <tr>\n",
       "      <th id=\"T_5beb6_level0_row3\" class=\"row_heading level0 row3\" >Stage_fear</th>\n",
       "      <td id=\"T_5beb6_row3_col0\" class=\"data row3 col0\" >0.314673</td>\n",
       "    </tr>\n",
       "    <tr>\n",
       "      <th id=\"T_5beb6_level0_row4\" class=\"row_heading level0 row4\" >Post_frequency</th>\n",
       "      <td id=\"T_5beb6_row4_col0\" class=\"data row4 col0\" >0.313469</td>\n",
       "    </tr>\n",
       "    <tr>\n",
       "      <th id=\"T_5beb6_level0_row5\" class=\"row_heading level0 row5\" >Going_outside</th>\n",
       "      <td id=\"T_5beb6_row5_col0\" class=\"data row5 col0\" >0.304151</td>\n",
       "    </tr>\n",
       "    <tr>\n",
       "      <th id=\"T_5beb6_level0_row6\" class=\"row_heading level0 row6\" >Friends_circle_size</th>\n",
       "      <td id=\"T_5beb6_row6_col0\" class=\"data row6 col0\" >0.288645</td>\n",
       "    </tr>\n",
       "  </tbody>\n",
       "</table>\n"
      ],
      "text/plain": [
       "<pandas.io.formats.style.Styler at 0x7facba1176d0>"
      ]
     },
     "execution_count": 6,
     "metadata": {},
     "output_type": "execute_result"
    }
   ],
   "source": [
    "mutual_info = mutual_info_regression(X.fillna(0), y, random_state=CFG.seed)\n",
    "\n",
    "mutual_info = pd.Series(mutual_info)\n",
    "mutual_info.index = X.columns\n",
    "mutual_info = pd.DataFrame(mutual_info.sort_values(ascending=False), columns=['Mutual Information'])\n",
    "mutual_info.style.bar(subset=['Mutual Information'], cmap='RdYlGn')"
   ]
  },
  {
   "cell_type": "markdown",
   "id": "4e516a44",
   "metadata": {
    "papermill": {
     "duration": 0.007046,
     "end_time": "2025-07-01T09:53:42.438966",
     "exception": false,
     "start_time": "2025-07-01T09:53:42.431920",
     "status": "completed"
    },
    "tags": []
   },
   "source": [
    "# Training base models"
   ]
  },
  {
   "cell_type": "code",
   "execution_count": 7,
   "id": "eab0c0a9",
   "metadata": {
    "execution": {
     "iopub.execute_input": "2025-07-01T09:53:42.455337Z",
     "iopub.status.busy": "2025-07-01T09:53:42.454537Z",
     "iopub.status.idle": "2025-07-01T09:53:42.459783Z",
     "shell.execute_reply": "2025-07-01T09:53:42.459033Z"
    },
    "papermill": {
     "duration": 0.015085,
     "end_time": "2025-07-01T09:53:42.461354",
     "exception": false,
     "start_time": "2025-07-01T09:53:42.446269",
     "status": "completed"
    },
    "tags": []
   },
   "outputs": [],
   "source": [
    "def save_submission(name, test_pred_probs, score, threshold=0.5):\n",
    "    sub = pd.read_csv(CFG.sample_sub_path)\n",
    "    sub[CFG.target] = (test_pred_probs > threshold).astype(int)\n",
    "    sub[CFG.target] = sub[CFG.target].map({0: \"Extrovert\", 1: \"Introvert\"})\n",
    "    sub.to_csv(f'sub_{name}_{score:.6f}.csv', index=False)\n",
    "    return sub.head()"
   ]
  },
  {
   "cell_type": "code",
   "execution_count": 8,
   "id": "9a36f431",
   "metadata": {
    "_kg_hide-input": true,
    "_kg_hide-output": true,
    "execution": {
     "iopub.execute_input": "2025-07-01T09:53:42.477792Z",
     "iopub.status.busy": "2025-07-01T09:53:42.477452Z",
     "iopub.status.idle": "2025-07-01T09:53:42.486629Z",
     "shell.execute_reply": "2025-07-01T09:53:42.485679Z"
    },
    "papermill": {
     "duration": 0.018914,
     "end_time": "2025-07-01T09:53:42.488183",
     "exception": false,
     "start_time": "2025-07-01T09:53:42.469269",
     "status": "completed"
    },
    "tags": []
   },
   "outputs": [],
   "source": [
    "cb_params = {\n",
    "    \"border_count\": 120,\n",
    "    \"colsample_bylevel\": 0.3247718764677566,\n",
    "    \"depth\": 5,\n",
    "    \"iterations\": 2338,\n",
    "    \"l2_leaf_reg\": 46.61451207145634,\n",
    "    \"learning_rate\": 0.009942962734433992,\n",
    "    \"min_child_samples\": 69,\n",
    "    \"random_state\": 42,\n",
    "    \"random_strength\": 0.5313962546199299,\n",
    "    \"scale_pos_weight\": 1.2166349953176523,\n",
    "    \"subsample\": 0.9668050232520182,\n",
    "    \"verbose\": False\n",
    "}\n",
    "\n",
    "xgb_params = {\n",
    "    \"colsample_bylevel\": 0.9477142213209452,\n",
    "    \"colsample_bynode\": 0.7475369938225073,\n",
    "    \"colsample_bytree\": 0.987566541956309,\n",
    "    \"gamma\": 0.3807436723279045,\n",
    "    \"learning_rate\": 0.04046022657980715,\n",
    "    \"max_depth\": 206,\n",
    "    \"max_leaves\": 220,\n",
    "    \"min_child_weight\": 79,\n",
    "    \"n_estimators\": 2042,\n",
    "    \"n_jobs\": -1,\n",
    "    \"random_state\": 42,\n",
    "    \"reg_alpha\": 1.5764120318728758,\n",
    "    \"reg_lambda\": 1.7591925699221744,\n",
    "    \"subsample\": 0.7522852773865047,\n",
    "    \"verbosity\": 0\n",
    "}\n",
    "\n",
    "hgb_params = {\n",
    "    \"l2_regularization\": 29.644508986948303,\n",
    "    \"learning_rate\": 0.4227535407062086,\n",
    "    \"max_depth\": 285,\n",
    "    \"max_features\": 0.3408804701973883,\n",
    "    \"max_iter\": 2399,\n",
    "    \"max_leaf_nodes\": 411,\n",
    "    \"min_samples_leaf\": 403,\n",
    "    \"random_state\": 42\n",
    "}\n",
    "\n",
    "lgbm_params = {\n",
    "    \"boosting_type\": \"gbdt\",\n",
    "    \"colsample_bytree\": 0.5695872819411696,\n",
    "    \"learning_rate\": 0.0486113075228219,\n",
    "    \"min_child_samples\": 85,\n",
    "    \"min_child_weight\": 0.18623787116999913,\n",
    "    \"n_estimators\": 1177,\n",
    "    \"n_jobs\": -1,\n",
    "    \"num_leaves\": 275,\n",
    "    \"random_state\": 42,\n",
    "    \"reg_alpha\": 42.922304230294614,\n",
    "    \"reg_lambda\": 67.67415489577184,\n",
    "    \"subsample\": 0.3945576568164389,\n",
    "    \"verbose\": -1\n",
    "}\n",
    "\n",
    "lgbm_goss_params = {\n",
    "    \"boosting_type\": \"goss\",\n",
    "    \"colsample_bytree\": 0.5865401492669523,\n",
    "    \"learning_rate\": 0.03644065822755221,\n",
    "    \"min_child_samples\": 86,\n",
    "    \"min_child_weight\": 0.14386767381204435,\n",
    "    \"n_estimators\": 3585,\n",
    "    \"n_jobs\": -1,\n",
    "    \"num_leaves\": 317,\n",
    "    \"random_state\": 42,\n",
    "    \"reg_alpha\": 11.9353915315936,\n",
    "    \"reg_lambda\": 49.55466488275788,\n",
    "    \"subsample\": 0.26189469046458935,\n",
    "    \"verbose\": -1\n",
    "}\n",
    "\n",
    "lgbm_dart_params = {\n",
    "    \"boosting_type\": \"dart\",\n",
    "    \"colsample_bytree\": 0.4398581013008871,\n",
    "    \"learning_rate\": 0.09924730576762188,\n",
    "    \"min_child_samples\": 101,\n",
    "    \"min_child_weight\": 0.5090808081254294,\n",
    "    \"n_estimators\": 256,\n",
    "    \"n_jobs\": -1,\n",
    "    \"num_leaves\": 126,\n",
    "    \"random_state\": 42,\n",
    "    \"reg_alpha\": 14.71326787545454,\n",
    "    \"reg_lambda\": 20.594339965403073,\n",
    "    \"subsample\": 0.8090913416064128,\n",
    "    \"verbose\": -1\n",
    "}"
   ]
  },
  {
   "cell_type": "code",
   "execution_count": 9,
   "id": "baf34dc3",
   "metadata": {
    "execution": {
     "iopub.execute_input": "2025-07-01T09:53:42.504383Z",
     "iopub.status.busy": "2025-07-01T09:53:42.504078Z",
     "iopub.status.idle": "2025-07-01T09:53:42.508098Z",
     "shell.execute_reply": "2025-07-01T09:53:42.507256Z"
    },
    "papermill": {
     "duration": 0.013583,
     "end_time": "2025-07-01T09:53:42.509378",
     "exception": false,
     "start_time": "2025-07-01T09:53:42.495795",
     "status": "completed"
    },
    "tags": []
   },
   "outputs": [],
   "source": [
    "scores = {}\n",
    "oof_pred_probs = {}\n",
    "test_pred_probs = {}"
   ]
  },
  {
   "cell_type": "markdown",
   "id": "a45fc466",
   "metadata": {
    "papermill": {
     "duration": 0.007189,
     "end_time": "2025-07-01T09:53:42.524152",
     "exception": false,
     "start_time": "2025-07-01T09:53:42.516963",
     "status": "completed"
    },
    "tags": []
   },
   "source": [
    "## CatBoost"
   ]
  },
  {
   "cell_type": "code",
   "execution_count": 10,
   "id": "df73ddca",
   "metadata": {
    "execution": {
     "iopub.execute_input": "2025-07-01T09:53:42.540325Z",
     "iopub.status.busy": "2025-07-01T09:53:42.539970Z",
     "iopub.status.idle": "2025-07-01T09:54:28.304971Z",
     "shell.execute_reply": "2025-07-01T09:54:28.304051Z"
    },
    "papermill": {
     "duration": 45.774962,
     "end_time": "2025-07-01T09:54:28.306560",
     "exception": false,
     "start_time": "2025-07-01T09:53:42.531598",
     "status": "completed"
    },
    "tags": []
   },
   "outputs": [
    {
     "name": "stdout",
     "output_type": "stream",
     "text": [
      "Training CatBoostClassifier\n",
      "\n",
      "--- Fold 0 - accuracy_score: 0.970040 - Time: 8.92 s\n",
      "--- Fold 1 - accuracy_score: 0.967341 - Time: 9.70 s\n",
      "--- Fold 2 - accuracy_score: 0.966262 - Time: 8.77 s\n",
      "--- Fold 3 - accuracy_score: 0.970580 - Time: 8.75 s\n",
      "--- Fold 4 - accuracy_score: 0.971652 - Time: 8.85 s\n",
      "\n",
      "------ Overall accuracy_score: 0.969175 - Mean accuracy_score: 0.969175 ± 0.002035 - Time: 45.71 s\n"
     ]
    }
   ],
   "source": [
    "cb_trainer = Trainer(\n",
    "    CatBoostClassifier(**cb_params),\n",
    "    cv=CFG.cv,\n",
    "    metric=CFG.metric,\n",
    "    use_early_stopping=False,\n",
    "    task=\"binary\",\n",
    "    metric_precision=6,\n",
    ")\n",
    "\n",
    "cb_trainer.fit(X, y)\n",
    "\n",
    "scores[\"CatBoost\"] = cb_trainer.fold_scores\n",
    "oof_pred_probs[\"CatBoost\"] = cb_trainer.oof_preds\n",
    "test_pred_probs[\"CatBoost\"] = cb_trainer.predict(X_test)"
   ]
  },
  {
   "cell_type": "markdown",
   "id": "a7ec3cea",
   "metadata": {
    "papermill": {
     "duration": 0.007574,
     "end_time": "2025-07-01T09:54:28.322303",
     "exception": false,
     "start_time": "2025-07-01T09:54:28.314729",
     "status": "completed"
    },
    "tags": []
   },
   "source": [
    "## XGBoost"
   ]
  },
  {
   "cell_type": "code",
   "execution_count": 11,
   "id": "efea644f",
   "metadata": {
    "execution": {
     "iopub.execute_input": "2025-07-01T09:54:28.338988Z",
     "iopub.status.busy": "2025-07-01T09:54:28.338628Z",
     "iopub.status.idle": "2025-07-01T09:54:37.479367Z",
     "shell.execute_reply": "2025-07-01T09:54:37.478625Z"
    },
    "papermill": {
     "duration": 9.155437,
     "end_time": "2025-07-01T09:54:37.485427",
     "exception": false,
     "start_time": "2025-07-01T09:54:28.329990",
     "status": "completed"
    },
    "tags": []
   },
   "outputs": [
    {
     "name": "stdout",
     "output_type": "stream",
     "text": [
      "Training XGBClassifier\n",
      "\n",
      "--- Fold 0 - accuracy_score: 0.970310 - Time: 3.06 s\n",
      "--- Fold 1 - accuracy_score: 0.968421 - Time: 1.26 s\n",
      "--- Fold 2 - accuracy_score: 0.965452 - Time: 1.26 s\n",
      "--- Fold 3 - accuracy_score: 0.971120 - Time: 1.31 s\n",
      "--- Fold 4 - accuracy_score: 0.970572 - Time: 1.29 s\n",
      "\n",
      "------ Overall accuracy_score: 0.969175 - Mean accuracy_score: 0.969175 ± 0.002071 - Time: 8.90 s\n"
     ]
    }
   ],
   "source": [
    "xgb_trainer = Trainer(\n",
    "    XGBClassifier(**xgb_params),\n",
    "    cv=CFG.cv,\n",
    "    metric=CFG.metric,\n",
    "    task=\"binary\",\n",
    "    metric_precision=6,\n",
    ")\n",
    "\n",
    "xgb_trainer.fit(X, y)\n",
    "\n",
    "scores[\"XGBoost\"] = xgb_trainer.fold_scores\n",
    "oof_pred_probs[\"XGBoost\"] = xgb_trainer.oof_preds\n",
    "test_pred_probs[\"XGBoost\"] = xgb_trainer.predict(X_test)"
   ]
  },
  {
   "cell_type": "markdown",
   "id": "95211743",
   "metadata": {
    "papermill": {
     "duration": 0.007863,
     "end_time": "2025-07-01T09:54:37.503786",
     "exception": false,
     "start_time": "2025-07-01T09:54:37.495923",
     "status": "completed"
    },
    "tags": []
   },
   "source": [
    "## HistGradientBoostingClassifier"
   ]
  },
  {
   "cell_type": "code",
   "execution_count": 12,
   "id": "68d75a02",
   "metadata": {
    "execution": {
     "iopub.execute_input": "2025-07-01T09:54:37.521425Z",
     "iopub.status.busy": "2025-07-01T09:54:37.521087Z",
     "iopub.status.idle": "2025-07-01T09:54:38.793086Z",
     "shell.execute_reply": "2025-07-01T09:54:38.792151Z"
    },
    "papermill": {
     "duration": 1.282778,
     "end_time": "2025-07-01T09:54:38.794600",
     "exception": false,
     "start_time": "2025-07-01T09:54:37.511822",
     "status": "completed"
    },
    "tags": []
   },
   "outputs": [
    {
     "name": "stdout",
     "output_type": "stream",
     "text": [
      "Training HistGradientBoostingClassifier\n",
      "\n",
      "--- Fold 0 - accuracy_score: 0.970040 - Time: 0.10 s\n",
      "--- Fold 1 - accuracy_score: 0.968421 - Time: 0.11 s\n",
      "--- Fold 2 - accuracy_score: 0.966262 - Time: 0.09 s\n",
      "--- Fold 3 - accuracy_score: 0.971120 - Time: 0.09 s\n",
      "--- Fold 4 - accuracy_score: 0.970842 - Time: 0.10 s\n",
      "\n",
      "------ Overall accuracy_score: 0.969337 - Mean accuracy_score: 0.969337 ± 0.001802 - Time: 1.22 s\n"
     ]
    }
   ],
   "source": [
    "hgb_trainer = Trainer(\n",
    "    HistGradientBoostingClassifier(**hgb_params),\n",
    "    cv=CFG.cv,\n",
    "    metric=CFG.metric,\n",
    "    task=\"binary\",\n",
    "    metric_precision=6,\n",
    ")\n",
    "\n",
    "hgb_trainer.fit(X, y)\n",
    "\n",
    "scores[\"HistGradientBoosting\"] = hgb_trainer.fold_scores\n",
    "oof_pred_probs[\"HistGradientBoosting\"] = hgb_trainer.oof_preds\n",
    "test_pred_probs[\"HistGradientBoosting\"] = hgb_trainer.predict(X_test)"
   ]
  },
  {
   "cell_type": "markdown",
   "id": "81d685eb",
   "metadata": {
    "papermill": {
     "duration": 0.008337,
     "end_time": "2025-07-01T09:54:38.811572",
     "exception": false,
     "start_time": "2025-07-01T09:54:38.803235",
     "status": "completed"
    },
    "tags": []
   },
   "source": [
    "## LightGBM (gbdt)"
   ]
  },
  {
   "cell_type": "code",
   "execution_count": 13,
   "id": "70c9642b",
   "metadata": {
    "execution": {
     "iopub.execute_input": "2025-07-01T09:54:38.830236Z",
     "iopub.status.busy": "2025-07-01T09:54:38.829860Z",
     "iopub.status.idle": "2025-07-01T09:54:42.324396Z",
     "shell.execute_reply": "2025-07-01T09:54:42.323039Z"
    },
    "papermill": {
     "duration": 3.505987,
     "end_time": "2025-07-01T09:54:42.326134",
     "exception": false,
     "start_time": "2025-07-01T09:54:38.820147",
     "status": "completed"
    },
    "tags": []
   },
   "outputs": [
    {
     "name": "stdout",
     "output_type": "stream",
     "text": [
      "Training LGBMClassifier\n",
      "\n",
      "--- Fold 0 - accuracy_score: 0.969771 - Time: 0.58 s\n",
      "--- Fold 1 - accuracy_score: 0.968151 - Time: 0.55 s\n",
      "--- Fold 2 - accuracy_score: 0.966262 - Time: 0.48 s\n",
      "--- Fold 3 - accuracy_score: 0.971120 - Time: 0.53 s\n",
      "--- Fold 4 - accuracy_score: 0.970842 - Time: 0.52 s\n",
      "\n",
      "------ Overall accuracy_score: 0.969229 - Mean accuracy_score: 0.969229 ± 0.001813 - Time: 3.41 s\n"
     ]
    }
   ],
   "source": [
    "lgbm_gbdt_trainer = Trainer(\n",
    "    LGBMClassifier(**lgbm_params),\n",
    "    cv=CFG.cv,\n",
    "    metric=CFG.metric,\n",
    "    use_early_stopping=False,\n",
    "    task=\"binary\",\n",
    "    metric_precision=6,\n",
    ")\n",
    "\n",
    "lgbm_gbdt_trainer.fit(X, y)\n",
    "\n",
    "scores[\"LightGBM (gbdt)\"] = lgbm_gbdt_trainer.fold_scores\n",
    "oof_pred_probs[\"LightGBM (gbdt)\"] = lgbm_gbdt_trainer.oof_preds\n",
    "test_pred_probs[\"LightGBM (gbdt)\"] = lgbm_gbdt_trainer.predict(X_test)"
   ]
  },
  {
   "cell_type": "markdown",
   "id": "9896ea49",
   "metadata": {
    "papermill": {
     "duration": 0.008675,
     "end_time": "2025-07-01T09:54:42.346559",
     "exception": false,
     "start_time": "2025-07-01T09:54:42.337884",
     "status": "completed"
    },
    "tags": []
   },
   "source": [
    "## LightGBM (goss)"
   ]
  },
  {
   "cell_type": "code",
   "execution_count": 14,
   "id": "6462fdf6",
   "metadata": {
    "execution": {
     "iopub.execute_input": "2025-07-01T09:54:42.365001Z",
     "iopub.status.busy": "2025-07-01T09:54:42.364460Z",
     "iopub.status.idle": "2025-07-01T09:54:57.789768Z",
     "shell.execute_reply": "2025-07-01T09:54:57.789075Z"
    },
    "papermill": {
     "duration": 15.43622,
     "end_time": "2025-07-01T09:54:57.791298",
     "exception": false,
     "start_time": "2025-07-01T09:54:42.355078",
     "status": "completed"
    },
    "tags": []
   },
   "outputs": [
    {
     "name": "stdout",
     "output_type": "stream",
     "text": [
      "Training LGBMClassifier\n",
      "\n",
      "--- Fold 0 - accuracy_score: 0.969771 - Time: 2.79 s\n",
      "--- Fold 1 - accuracy_score: 0.968421 - Time: 2.68 s\n",
      "--- Fold 2 - accuracy_score: 0.966262 - Time: 2.84 s\n",
      "--- Fold 3 - accuracy_score: 0.971120 - Time: 2.73 s\n",
      "--- Fold 4 - accuracy_score: 0.970842 - Time: 2.94 s\n",
      "\n",
      "------ Overall accuracy_score: 0.969283 - Mean accuracy_score: 0.969283 ± 0.001784 - Time: 14.69 s\n"
     ]
    }
   ],
   "source": [
    "lgbm_goss_trainer = Trainer(\n",
    "    LGBMClassifier(**lgbm_goss_params),\n",
    "    cv=CFG.cv,\n",
    "    metric=CFG.metric,\n",
    "    use_early_stopping=False,\n",
    "    task=\"binary\",\n",
    "    metric_precision=6,\n",
    ")\n",
    "\n",
    "lgbm_goss_trainer.fit(X, y)\n",
    "\n",
    "scores[\"LightGBM (goss)\"] = lgbm_goss_trainer.fold_scores\n",
    "oof_pred_probs[\"LightGBM (goss)\"] = lgbm_goss_trainer.oof_preds\n",
    "test_pred_probs[\"LightGBM (goss)\"] = lgbm_goss_trainer.predict(X_test)"
   ]
  },
  {
   "cell_type": "markdown",
   "id": "6d2d7b89",
   "metadata": {
    "papermill": {
     "duration": 0.009159,
     "end_time": "2025-07-01T09:54:57.812614",
     "exception": false,
     "start_time": "2025-07-01T09:54:57.803455",
     "status": "completed"
    },
    "tags": []
   },
   "source": [
    "## LightGBM (dart)"
   ]
  },
  {
   "cell_type": "code",
   "execution_count": 15,
   "id": "4a78d55b",
   "metadata": {
    "execution": {
     "iopub.execute_input": "2025-07-01T09:54:57.831778Z",
     "iopub.status.busy": "2025-07-01T09:54:57.831437Z",
     "iopub.status.idle": "2025-07-01T09:55:04.229472Z",
     "shell.execute_reply": "2025-07-01T09:55:04.228781Z"
    },
    "papermill": {
     "duration": 6.409572,
     "end_time": "2025-07-01T09:55:04.231137",
     "exception": false,
     "start_time": "2025-07-01T09:54:57.821565",
     "status": "completed"
    },
    "tags": []
   },
   "outputs": [
    {
     "name": "stdout",
     "output_type": "stream",
     "text": [
      "Training LGBMClassifier\n",
      "\n",
      "--- Fold 0 - accuracy_score: 0.969771 - Time: 0.77 s\n",
      "--- Fold 1 - accuracy_score: 0.968421 - Time: 0.76 s\n",
      "--- Fold 2 - accuracy_score: 0.966262 - Time: 0.90 s\n",
      "--- Fold 3 - accuracy_score: 0.971120 - Time: 2.37 s\n",
      "--- Fold 4 - accuracy_score: 0.970842 - Time: 0.81 s\n",
      "\n",
      "------ Overall accuracy_score: 0.969283 - Mean accuracy_score: 0.969283 ± 0.001784 - Time: 6.30 s\n"
     ]
    }
   ],
   "source": [
    "lgbm_dart_trainer = Trainer(\n",
    "    LGBMClassifier(**lgbm_dart_params),\n",
    "    cv=CFG.cv,\n",
    "    metric=CFG.metric,\n",
    "    use_early_stopping=False,\n",
    "    task=\"binary\",\n",
    "    metric_precision=6,\n",
    ")\n",
    "\n",
    "lgbm_dart_trainer.fit(X, y)\n",
    "\n",
    "scores[\"LightGBM (dart)\"] = lgbm_dart_trainer.fold_scores\n",
    "oof_pred_probs[\"LightGBM (dart)\"] = lgbm_dart_trainer.oof_preds\n",
    "test_pred_probs[\"LightGBM (dart)\"] = lgbm_dart_trainer.predict(X_test)"
   ]
  },
  {
   "cell_type": "markdown",
   "id": "606bf8c7",
   "metadata": {
    "papermill": {
     "duration": 0.009566,
     "end_time": "2025-07-01T09:55:04.252840",
     "exception": false,
     "start_time": "2025-07-01T09:55:04.243274",
     "status": "completed"
    },
    "tags": []
   },
   "source": [
    "# Ensembling with Logistic Regression"
   ]
  },
  {
   "cell_type": "code",
   "execution_count": 16,
   "id": "bd9c18c0",
   "metadata": {
    "_kg_hide-input": true,
    "execution": {
     "iopub.execute_input": "2025-07-01T09:55:04.272786Z",
     "iopub.status.busy": "2025-07-01T09:55:04.272442Z",
     "iopub.status.idle": "2025-07-01T09:55:04.279629Z",
     "shell.execute_reply": "2025-07-01T09:55:04.278849Z"
    },
    "papermill": {
     "duration": 0.019199,
     "end_time": "2025-07-01T09:55:04.281436",
     "exception": false,
     "start_time": "2025-07-01T09:55:04.262237",
     "status": "completed"
    },
    "tags": []
   },
   "outputs": [],
   "source": [
    "def plot_weights(weights, title):\n",
    "    sorted_indices = np.argsort(weights[0])[::-1]\n",
    "    sorted_coeffs = np.array(weights[0])[sorted_indices]\n",
    "    sorted_model_names = np.array(list(oof_pred_probs.keys()))[sorted_indices]\n",
    "\n",
    "    plt.figure(figsize=(10, weights.shape[1] * 0.5))\n",
    "    ax = sns.barplot(x=sorted_coeffs, y=sorted_model_names, palette=\"RdYlGn_r\")\n",
    "\n",
    "    for i, (value, name) in enumerate(zip(sorted_coeffs, sorted_model_names)):\n",
    "        if value >= 0:\n",
    "            ax.text(value, i, f'{value:.3f}', va='center', ha='left', color='black')\n",
    "        else:\n",
    "            ax.text(value, i, f'{value:.3f}', va='center', ha='right', color='black')\n",
    "\n",
    "    xlim = ax.get_xlim()\n",
    "    ax.set_xlim(xlim[0] - 0.1 * abs(xlim[0]), xlim[1] + 0.1 * abs(xlim[1]))\n",
    "\n",
    "    plt.title(title)\n",
    "    plt.xlabel('')\n",
    "    plt.ylabel('')\n",
    "    plt.tight_layout()\n",
    "    plt.show()"
   ]
  },
  {
   "cell_type": "code",
   "execution_count": 17,
   "id": "ec84b229",
   "metadata": {
    "execution": {
     "iopub.execute_input": "2025-07-01T09:55:04.301130Z",
     "iopub.status.busy": "2025-07-01T09:55:04.300812Z",
     "iopub.status.idle": "2025-07-01T09:55:04.314144Z",
     "shell.execute_reply": "2025-07-01T09:55:04.312994Z"
    },
    "papermill": {
     "duration": 0.0252,
     "end_time": "2025-07-01T09:55:04.316021",
     "exception": false,
     "start_time": "2025-07-01T09:55:04.290821",
     "status": "completed"
    },
    "tags": []
   },
   "outputs": [],
   "source": [
    "X = logit(pd.DataFrame(oof_pred_probs).clip(1e-15, 1-1e-15))\n",
    "X_test = logit(pd.DataFrame(test_pred_probs).clip(1e-15, 1-1e-15))"
   ]
  },
  {
   "cell_type": "code",
   "execution_count": 18,
   "id": "7933def5",
   "metadata": {
    "_kg_hide-output": true,
    "execution": {
     "iopub.execute_input": "2025-07-01T09:55:04.337154Z",
     "iopub.status.busy": "2025-07-01T09:55:04.336216Z",
     "iopub.status.idle": "2025-07-01T10:02:16.919620Z",
     "shell.execute_reply": "2025-07-01T10:02:16.918701Z"
    },
    "papermill": {
     "duration": 432.595394,
     "end_time": "2025-07-01T10:02:16.921415",
     "exception": false,
     "start_time": "2025-07-01T09:55:04.326021",
     "status": "completed"
    },
    "tags": []
   },
   "outputs": [
    {
     "name": "stderr",
     "output_type": "stream",
     "text": [
      "[I 2025-07-01 09:55:04,342] A new study created in memory with name: no-name-74709dc1-ea0f-43c0-8d66-1fe8af0df693\n",
      "[I 2025-07-01 09:55:06,558] Trial 0 finished with value: 0.9691751995872719 and parameters: {'solver_penalty': ('liblinear', 'l2'), 'C': 9.232244142473322, 'tol': 0.07873482182071158, 'fit_intercept': False, 'class_weight': 'balanced', 'threshold': 0.497}. Best is trial 0 with value: 0.9691751995872719.\n",
      "[I 2025-07-01 09:55:07,588] Trial 1 finished with value: 0.9690133145623653 and parameters: {'solver_penalty': ('lbfgs', None), 'C': 6.614878853226418, 'tol': 0.013735786144819948, 'fit_intercept': False, 'class_weight': None, 'threshold': 0.22}. Best is trial 0 with value: 0.9691751995872719.\n",
      "[I 2025-07-01 09:55:08,055] Trial 2 finished with value: 0.9690132999886325 and parameters: {'solver_penalty': ('newton-cholesky', None), 'C': 4.641493256025029, 'tol': 0.021592592513399962, 'fit_intercept': True, 'class_weight': None, 'threshold': 0.43}. Best is trial 0 with value: 0.9691751995872719.\n",
      "[I 2025-07-01 09:55:08,552] Trial 3 finished with value: 0.9690133145623653 and parameters: {'solver_penalty': ('newton-cg', 'l2'), 'C': 1.3929659686627371, 'tol': 0.06264935756323765, 'fit_intercept': True, 'class_weight': 'balanced', 'threshold': 0.267}. Best is trial 0 with value: 0.9691751995872719.\n",
      "[I 2025-07-01 09:55:08,870] Trial 4 finished with value: 0.7516736766321853 and parameters: {'solver_penalty': ('liblinear', 'l2'), 'C': 1.5698622545689989, 'tol': 0.00997613708070819, 'fit_intercept': False, 'class_weight': 'balanced', 'threshold': 0.968}. Best is trial 0 with value: 0.9691751995872719.\n",
      "[I 2025-07-01 09:55:10,846] Trial 7 finished with value: 0.9692291952676175 and parameters: {'solver_penalty': ('liblinear', 'l1'), 'C': 9.57004679455906, 'tol': 0.06691751151660509, 'fit_intercept': False, 'class_weight': None, 'threshold': 0.5690000000000001}. Best is trial 7 with value: 0.9692291952676175.\n",
      "[I 2025-07-01 09:55:11,350] Trial 6 finished with value: 0.9691751995872719 and parameters: {'solver_penalty': ('lbfgs', 'l2'), 'C': 1.6800073231588641, 'tol': 0.07463285617925243, 'fit_intercept': True, 'class_weight': 'balanced', 'threshold': 0.52}. Best is trial 7 with value: 0.9692291952676175.\n",
      "[I 2025-07-01 09:55:11,538] Trial 5 finished with value: 0.9134638119638687 and parameters: {'solver_penalty': ('newton-cholesky', 'l2'), 'C': 9.848926449985697, 'tol': 0.011890893831540171, 'fit_intercept': True, 'class_weight': 'balanced', 'threshold': 0.978}. Best is trial 7 with value: 0.9692291952676175.\n",
      "[I 2025-07-01 09:55:12,501] Trial 8 finished with value: 0.9690672519477795 and parameters: {'solver_penalty': ('newton-cg', None), 'C': 0.01361676486478669, 'tol': 0.03462146518285576, 'fit_intercept': False, 'class_weight': 'balanced', 'threshold': 0.637}. Best is trial 7 with value: 0.9692291952676175.\n",
      "[I 2025-07-01 09:55:14,289] Trial 10 finished with value: 0.9678256427744889 and parameters: {'solver_penalty': ('newton-cg', 'l2'), 'C': 2.7259458930921774, 'tol': 0.08665413480621251, 'fit_intercept': False, 'class_weight': 'balanced', 'threshold': 0.748}. Best is trial 7 with value: 0.9692291952676175.\n",
      "[I 2025-07-01 09:55:14,629] Trial 11 finished with value: 0.9683654975618146 and parameters: {'solver_penalty': ('newton-cholesky', None), 'C': 7.036653649216636, 'tol': 0.011805017373782178, 'fit_intercept': False, 'class_weight': 'balanced', 'threshold': 0.56}. Best is trial 7 with value: 0.9692291952676175.\n",
      "[I 2025-07-01 09:55:14,785] Trial 9 finished with value: 0.9690672373740465 and parameters: {'solver_penalty': ('newton-cg', 'l2'), 'C': 1.0799268851925192, 'tol': 0.03534952999746998, 'fit_intercept': True, 'class_weight': 'balanced', 'threshold': 0.71}. Best is trial 7 with value: 0.9692291952676175.\n",
      "[I 2025-07-01 09:55:16,427] Trial 12 finished with value: 0.9642626274108597 and parameters: {'solver_penalty': ('newton-cg', 'l2'), 'C': 6.7085113316970615, 'tol': 0.0020189561354389527, 'fit_intercept': False, 'class_weight': None, 'threshold': 0.09}. Best is trial 7 with value: 0.9692291952676175.\n",
      "[I 2025-07-01 09:55:17,434] Trial 14 finished with value: 0.9652343747722855 and parameters: {'solver_penalty': ('liblinear', 'l1'), 'C': 3.138152461957926, 'tol': 0.0005928347333454872, 'fit_intercept': True, 'class_weight': 'balanced', 'threshold': 0.241}. Best is trial 7 with value: 0.9692291952676175.\n",
      "[I 2025-07-01 09:55:17,599] Trial 13 finished with value: 0.9631829178362088 and parameters: {'solver_penalty': ('lbfgs', 'l2'), 'C': 6.049705541087246, 'tol': 0.04665191244198926, 'fit_intercept': False, 'class_weight': 'balanced', 'threshold': 0.883}. Best is trial 7 with value: 0.9692291952676175.\n",
      "[I 2025-07-01 09:55:17,761] Trial 15 finished with value: 0.9253943069169852 and parameters: {'solver_penalty': ('newton-cholesky', None), 'C': 7.283897257027414, 'tol': 0.0314964604195826, 'fit_intercept': True, 'class_weight': None, 'threshold': 0.9380000000000001}. Best is trial 7 with value: 0.9692291952676175.\n",
      "[I 2025-07-01 09:55:20,015] Trial 18 finished with value: 0.9690132708411667 and parameters: {'solver_penalty': ('liblinear', 'l1'), 'C': 3.411732453696419, 'tol': 0.03557113648269313, 'fit_intercept': True, 'class_weight': None, 'threshold': 0.441}. Best is trial 7 with value: 0.9692291952676175.\n",
      "[I 2025-07-01 09:55:20,740] Trial 16 finished with value: 0.9689593334557527 and parameters: {'solver_penalty': ('newton-cg', None), 'C': 3.1025444241290048, 'tol': 0.03177773425071164, 'fit_intercept': False, 'class_weight': 'balanced', 'threshold': 0.271}. Best is trial 7 with value: 0.9692291952676175.\n",
      "[I 2025-07-01 09:55:21,072] Trial 19 finished with value: 0.9691212184806594 and parameters: {'solver_penalty': ('lbfgs', None), 'C': 6.9717103807092755, 'tol': 0.03761199033694433, 'fit_intercept': True, 'class_weight': None, 'threshold': 0.62}. Best is trial 7 with value: 0.9692291952676175.\n",
      "[I 2025-07-01 09:55:22,116] Trial 17 finished with value: 0.9502266215463896 and parameters: {'solver_penalty': ('lbfgs', 'l2'), 'C': 0.29870017340004384, 'tol': 0.016833247219666753, 'fit_intercept': True, 'class_weight': 'balanced', 'threshold': 0.134}. Best is trial 7 with value: 0.9692291952676175.\n",
      "[I 2025-07-01 09:55:22,897] Trial 20 finished with value: 0.9647485885339699 and parameters: {'solver_penalty': ('lbfgs', None), 'C': 9.169390057303328, 'tol': 0.04408015658771898, 'fit_intercept': False, 'class_weight': None, 'threshold': 0.871}. Best is trial 7 with value: 0.9692291952676175.\n",
      "[I 2025-07-01 09:55:24,009] Trial 22 finished with value: 0.9621032665564894 and parameters: {'solver_penalty': ('newton-cholesky', 'l2'), 'C': 4.068391918974878, 'tol': 0.0763552226762868, 'fit_intercept': False, 'class_weight': None, 'threshold': 0.885}. Best is trial 7 with value: 0.9692291952676175.\n",
      "[I 2025-07-01 09:55:24,164] Trial 21 finished with value: 0.9681495002666993 and parameters: {'solver_penalty': ('newton-cg', 'l2'), 'C': 9.645895506687348, 'tol': 0.062476181512622554, 'fit_intercept': False, 'class_weight': None, 'threshold': 0.158}. Best is trial 7 with value: 0.9692291952676175.\n",
      "[I 2025-07-01 09:55:25,438] Trial 23 finished with value: 0.9613475164901788 and parameters: {'solver_penalty': ('newton-cholesky', 'l2'), 'C': 6.405444788175113, 'tol': 0.020364081681678473, 'fit_intercept': False, 'class_weight': None, 'threshold': 0.902}. Best is trial 7 with value: 0.9692291952676175.\n",
      "[I 2025-07-01 09:55:26,387] Trial 25 finished with value: 0.9685274408816525 and parameters: {'solver_penalty': ('liblinear', 'l2'), 'C': 7.902304058121858, 'tol': 0.09108231642246252, 'fit_intercept': True, 'class_weight': None, 'threshold': 0.187}. Best is trial 7 with value: 0.9692291952676175.\n",
      "[I 2025-07-01 09:55:26,852] Trial 24 finished with value: 0.9692291806938848 and parameters: {'solver_penalty': ('newton-cg', 'l2'), 'C': 0.543178056156306, 'tol': 0.06846995760194481, 'fit_intercept': True, 'class_weight': None, 'threshold': 0.53}. Best is trial 7 with value: 0.9692291952676175.\n",
      "[I 2025-07-01 09:55:27,334] Trial 26 finished with value: 0.9692831763742303 and parameters: {'solver_penalty': ('newton-cholesky', None), 'C': 9.43481351928803, 'tol': 0.06534312005948562, 'fit_intercept': True, 'class_weight': None, 'threshold': 0.5630000000000001}. Best is trial 26 with value: 0.9692831763742303.\n",
      "[I 2025-07-01 09:55:28,771] Trial 27 finished with value: 0.9689592751608211 and parameters: {'solver_penalty': ('lbfgs', 'l2'), 'C': 8.43997626214174, 'tol': 0.046561460718777106, 'fit_intercept': True, 'class_weight': None, 'threshold': 0.704}. Best is trial 26 with value: 0.9692831763742303.\n",
      "[I 2025-07-01 09:55:29,082] Trial 28 finished with value: 0.9689053377754071 and parameters: {'solver_penalty': ('liblinear', 'l2'), 'C': 1.625430532653408, 'tol': 0.002528229889096296, 'fit_intercept': False, 'class_weight': None, 'threshold': 0.337}. Best is trial 26 with value: 0.9692831763742303.\n",
      "[I 2025-07-01 09:55:29,744] Trial 30 finished with value: 0.9664760568142402 and parameters: {'solver_penalty': ('lbfgs', None), 'C': 6.273142177456407, 'tol': 0.0989654667000599, 'fit_intercept': False, 'class_weight': None, 'threshold': 0.972}. Best is trial 26 with value: 0.9692831763742303.\n",
      "[I 2025-07-01 09:55:31,262] Trial 29 finished with value: 0.9690672519477795 and parameters: {'solver_penalty': ('lbfgs', None), 'C': 9.015495826005967, 'tol': 0.04857671376655993, 'fit_intercept': True, 'class_weight': 'balanced', 'threshold': 0.687}. Best is trial 26 with value: 0.9692831763742303.\n",
      "[I 2025-07-01 09:55:31,434] Trial 31 finished with value: 0.9687433507343706 and parameters: {'solver_penalty': ('liblinear', 'l2'), 'C': 6.959106329244381, 'tol': 0.04818680623770321, 'fit_intercept': True, 'class_weight': None, 'threshold': 0.722}. Best is trial 26 with value: 0.9692831763742303.\n",
      "[I 2025-07-01 09:55:31,743] Trial 32 finished with value: 0.9691751995872719 and parameters: {'solver_penalty': ('liblinear', 'l2'), 'C': 8.723543721073948, 'tol': 0.09905965510587286, 'fit_intercept': False, 'class_weight': None, 'threshold': 0.548}. Best is trial 26 with value: 0.9692831763742303.\n",
      "[I 2025-07-01 09:55:33,905] Trial 35 finished with value: 0.9686354322423437 and parameters: {'solver_penalty': ('lbfgs', 'l2'), 'C': 4.025764613547304, 'tol': 0.07758067108245222, 'fit_intercept': True, 'class_weight': None, 'threshold': 0.125}. Best is trial 26 with value: 0.9692831763742303.\n",
      "[I 2025-07-01 09:55:34,386] Trial 34 finished with value: 0.9692292098413503 and parameters: {'solver_penalty': ('lbfgs', 'l2'), 'C': 2.2589096445833645, 'tol': 0.07673992114349752, 'fit_intercept': False, 'class_weight': 'balanced', 'threshold': 0.457}. Best is trial 26 with value: 0.9692831763742303.\n",
      "[I 2025-07-01 09:55:34,892] Trial 36 finished with value: 0.9691752141610049 and parameters: {'solver_penalty': ('newton-cg', 'l2'), 'C': 5.030667627013776, 'tol': 0.0809894853492688, 'fit_intercept': False, 'class_weight': None, 'threshold': 0.468}. Best is trial 26 with value: 0.9692831763742303.\n",
      "[I 2025-07-01 09:55:36,801] Trial 37 finished with value: 0.9117904851012728 and parameters: {'solver_penalty': ('newton-cholesky', None), 'C': 6.390992357674623, 'tol': 0.07737233540485196, 'fit_intercept': True, 'class_weight': None, 'threshold': 0.9420000000000001}. Best is trial 26 with value: 0.9692831763742303.\n",
      "[I 2025-07-01 09:55:36,806] Trial 33 finished with value: 0.8928956987084758 and parameters: {'solver_penalty': ('newton-cg', 'l2'), 'C': 0.27162673238597, 'tol': 0.0027553151933082005, 'fit_intercept': False, 'class_weight': 'balanced', 'threshold': 0.9470000000000001}. Best is trial 26 with value: 0.9692831763742303.\n",
      "[I 2025-07-01 09:55:37,112] Trial 38 finished with value: 0.9656122425185742 and parameters: {'solver_penalty': ('liblinear', 'l2'), 'C': 6.958085756558734, 'tol': 0.00975604827149646, 'fit_intercept': True, 'class_weight': 'balanced', 'threshold': 0.248}. Best is trial 26 with value: 0.9692831763742303.\n",
      "[I 2025-07-01 09:55:37,457] Trial 39 finished with value: 0.9657742004121452 and parameters: {'solver_penalty': ('lbfgs', 'l2'), 'C': 8.382976563188997, 'tol': 0.04360041662742709, 'fit_intercept': True, 'class_weight': None, 'threshold': 0.088}. Best is trial 26 with value: 0.9692831763742303.\n",
      "[I 2025-07-01 09:55:39,510] Trial 40 finished with value: 0.9637767974513455 and parameters: {'solver_penalty': ('newton-cg', 'l2'), 'C': 1.4809377854552286, 'tol': 0.04609338673544729, 'fit_intercept': False, 'class_weight': None, 'threshold': 0.853}. Best is trial 26 with value: 0.9692831763742303.\n",
      "[I 2025-07-01 09:55:39,849] Trial 43 finished with value: 0.9655043240265476 and parameters: {'solver_penalty': ('newton-cholesky', None), 'C': 3.3811270531659607, 'tol': 0.04153684112296565, 'fit_intercept': True, 'class_weight': None, 'threshold': 0.847}. Best is trial 26 with value: 0.9692831763742303.\n",
      "[I 2025-07-01 09:55:40,216] Trial 42 finished with value: 0.9689592605870884 and parameters: {'solver_penalty': ('newton-cg', None), 'C': 0.2937986640749912, 'tol': 0.07606899570643877, 'fit_intercept': True, 'class_weight': None, 'threshold': 0.683}. Best is trial 26 with value: 0.9692831763742303.\n",
      "[I 2025-07-01 09:55:42,142] Trial 41 finished with value: 0.9536272272307282 and parameters: {'solver_penalty': ('newton-cg', None), 'C': 4.6322567511547765, 'tol': 0.015481952397880784, 'fit_intercept': True, 'class_weight': 'balanced', 'threshold': 0.132}. Best is trial 26 with value: 0.9692831763742303.\n",
      "[I 2025-07-01 09:55:42,480] Trial 44 finished with value: 0.9623731866632855 and parameters: {'solver_penalty': ('lbfgs', 'l2'), 'C': 2.911235729350554, 'tol': 0.0018747912667443035, 'fit_intercept': True, 'class_weight': None, 'threshold': 0.077}. Best is trial 26 with value: 0.9692831763742303.\n",
      "[I 2025-07-01 09:55:42,965] Trial 45 finished with value: 0.9145972548916734 and parameters: {'solver_penalty': ('newton-cholesky', None), 'C': 3.165889267181854, 'tol': 0.024393429421933687, 'fit_intercept': False, 'class_weight': 'balanced', 'threshold': 0.937}. Best is trial 26 with value: 0.9692831763742303.\n",
      "[I 2025-07-01 09:55:44,387] Trial 47 finished with value: 0.7395270969415564 and parameters: {'solver_penalty': ('liblinear', 'l1'), 'C': 9.427689496239099, 'tol': 0.032504287756662385, 'fit_intercept': True, 'class_weight': None, 'threshold': 0.975}. Best is trial 26 with value: 0.9692831763742303.\n",
      "[I 2025-07-01 09:55:44,875] Trial 46 finished with value: 0.9693371720545759 and parameters: {'solver_penalty': ('newton-cg', 'l2'), 'C': 3.8519697463032943, 'tol': 0.002139886886670088, 'fit_intercept': True, 'class_weight': None, 'threshold': 0.468}. Best is trial 46 with value: 0.9693371720545759.\n",
      "[I 2025-07-01 09:55:45,662] Trial 48 finished with value: 0.9691212330543921 and parameters: {'solver_penalty': ('newton-cg', None), 'C': 4.430125420656493, 'tol': 0.07822930131688716, 'fit_intercept': False, 'class_weight': None, 'threshold': 0.636}. Best is trial 46 with value: 0.9693371720545759.\n",
      "[I 2025-07-01 09:55:46,155] Trial 49 finished with value: 0.9688513566687945 and parameters: {'solver_penalty': ('lbfgs', None), 'C': 7.635392808816545, 'tol': 0.023881369944456544, 'fit_intercept': True, 'class_weight': None, 'threshold': 0.323}. Best is trial 46 with value: 0.9693371720545759.\n",
      "[I 2025-07-01 09:55:47,607] Trial 51 finished with value: 0.9691751995872719 and parameters: {'solver_penalty': ('liblinear', 'l2'), 'C': 1.938096494731768, 'tol': 0.02943268540153715, 'fit_intercept': False, 'class_weight': None, 'threshold': 0.555}. Best is trial 46 with value: 0.9693371720545759.\n",
      "[I 2025-07-01 09:55:48,255] Trial 52 finished with value: 0.7395270969415564 and parameters: {'solver_penalty': ('liblinear', 'l2'), 'C': 7.9029786405848235, 'tol': 0.04629438175564044, 'fit_intercept': True, 'class_weight': 'balanced', 'threshold': 0.993}. Best is trial 46 with value: 0.9693371720545759.\n",
      "[I 2025-07-01 09:55:48,442] Trial 50 finished with value: 0.6676721084985265 and parameters: {'solver_penalty': ('newton-cg', 'l2'), 'C': 7.099543331115163, 'tol': 0.07766911271072947, 'fit_intercept': True, 'class_weight': None, 'threshold': 0.027}. Best is trial 46 with value: 0.9693371720545759.\n",
      "[I 2025-07-01 09:55:49,114] Trial 53 finished with value: 0.9689052794804756 and parameters: {'solver_penalty': ('newton-cholesky', None), 'C': 9.990296986883441, 'tol': 0.075022945405489, 'fit_intercept': True, 'class_weight': None, 'threshold': 0.684}. Best is trial 46 with value: 0.9693371720545759.\n",
      "[I 2025-07-01 09:55:51,064] Trial 55 finished with value: 0.9685814511357311 and parameters: {'solver_penalty': ('newton-cg', 'l2'), 'C': 4.931338413804016, 'tol': 0.08090654178751094, 'fit_intercept': False, 'class_weight': None, 'threshold': 0.209}. Best is trial 46 with value: 0.9693371720545759.\n",
      "[I 2025-07-01 09:55:51,422] Trial 54 finished with value: 0.969013256267434 and parameters: {'solver_penalty': ('newton-cg', 'l2'), 'C': 4.00702735608635, 'tol': 0.006644648429852094, 'fit_intercept': True, 'class_weight': None, 'threshold': 0.668}. Best is trial 46 with value: 0.9693371720545759.\n",
      "[I 2025-07-01 09:55:51,612] Trial 56 finished with value: 0.9691751995872719 and parameters: {'solver_penalty': ('newton-cg', 'l2'), 'C': 0.14635259833931347, 'tol': 0.043673995884335105, 'fit_intercept': True, 'class_weight': None, 'threshold': 0.486}. Best is trial 46 with value: 0.9693371720545759.\n",
      "[I 2025-07-01 09:55:54,244] Trial 57 finished with value: 0.9691751995872719 and parameters: {'solver_penalty': ('newton-cg', 'l2'), 'C': 5.206587954049258, 'tol': 0.0008538480773838523, 'fit_intercept': True, 'class_weight': None, 'threshold': 0.5740000000000001}. Best is trial 46 with value: 0.9693371720545759.\n",
      "[I 2025-07-01 09:55:54,247] Trial 59 finished with value: 0.9689593334557527 and parameters: {'solver_penalty': ('lbfgs', 'l2'), 'C': 2.096475146201912, 'tol': 0.08042879070902244, 'fit_intercept': False, 'class_weight': 'balanced', 'threshold': 0.321}. Best is trial 46 with value: 0.9693371720545759.\n",
      "[I 2025-07-01 09:55:54,471] Trial 60 finished with value: 0.9691751995872719 and parameters: {'solver_penalty': ('lbfgs', 'l2'), 'C': 2.765477991213424, 'tol': 0.09427690700880788, 'fit_intercept': False, 'class_weight': 'balanced', 'threshold': 0.5690000000000001}. Best is trial 46 with value: 0.9693371720545759.\n",
      "[I 2025-07-01 09:55:54,799] Trial 58 finished with value: 0.9691751995872719 and parameters: {'solver_penalty': ('newton-cg', 'l2'), 'C': 4.126973671266143, 'tol': 0.010493656003449144, 'fit_intercept': True, 'class_weight': None, 'threshold': 0.543}. Best is trial 46 with value: 0.9693371720545759.\n",
      "[I 2025-07-01 09:55:56,864] Trial 61 finished with value: 0.9689053086279413 and parameters: {'solver_penalty': ('liblinear', 'l1'), 'C': 8.727293942721737, 'tol': 0.0682973697737183, 'fit_intercept': True, 'class_weight': None, 'threshold': 0.454}. Best is trial 46 with value: 0.9693371720545759.\n",
      "[I 2025-07-01 09:55:57,059] Trial 62 finished with value: 0.968635403094878 and parameters: {'solver_penalty': ('liblinear', 'l1'), 'C': 7.8309484063896, 'tol': 0.054455902017816804, 'fit_intercept': False, 'class_weight': None, 'threshold': 0.706}. Best is trial 46 with value: 0.9693371720545759.\n",
      "[I 2025-07-01 09:55:57,706] Trial 63 finished with value: 0.9681495731353638 and parameters: {'solver_penalty': ('liblinear', 'l1'), 'C': 9.75337997547678, 'tol': 0.06337614079762602, 'fit_intercept': False, 'class_weight': None, 'threshold': 0.721}. Best is trial 46 with value: 0.9693371720545759.\n",
      "[I 2025-07-01 09:55:58,361] Trial 64 finished with value: 0.9689593334557527 and parameters: {'solver_penalty': ('liblinear', 'l2'), 'C': 9.070556467980365, 'tol': 0.06812826095442057, 'fit_intercept': False, 'class_weight': 'balanced', 'threshold': 0.244}. Best is trial 46 with value: 0.9693371720545759.\n",
      "[I 2025-07-01 09:55:59,951] Trial 65 finished with value: 0.9689053377754071 and parameters: {'solver_penalty': ('liblinear', 'l2'), 'C': 9.993943858599552, 'tol': 0.06406733258576223, 'fit_intercept': False, 'class_weight': 'balanced', 'threshold': 0.381}. Best is trial 46 with value: 0.9693371720545759.\n",
      "[I 2025-07-01 09:56:00,311] Trial 66 finished with value: 0.9691752287347377 and parameters: {'solver_penalty': ('liblinear', 'l2'), 'C': 8.623194266352433, 'tol': 0.06536117113878828, 'fit_intercept': False, 'class_weight': 'balanced', 'threshold': 0.437}. Best is trial 46 with value: 0.9693371720545759.\n",
      "[I 2025-07-01 09:56:00,661] Trial 67 finished with value: 0.9692291952676175 and parameters: {'solver_penalty': ('liblinear', 'l2'), 'C': 8.707470545192159, 'tol': 0.06224884132217208, 'fit_intercept': False, 'class_weight': 'balanced', 'threshold': 0.484}. Best is trial 46 with value: 0.9693371720545759.\n",
      "[I 2025-07-01 09:56:02,422] Trial 68 finished with value: 0.9691212330543921 and parameters: {'solver_penalty': ('newton-cg', 'l2'), 'C': 4.983739052508906, 'tol': 0.06430671745390404, 'fit_intercept': False, 'class_weight': None, 'threshold': 0.659}. Best is trial 46 with value: 0.9693371720545759.\n",
      "[I 2025-07-01 09:56:02,768] Trial 69 finished with value: 0.9689593188820197 and parameters: {'solver_penalty': ('newton-cholesky', 'l2'), 'C': 9.326053730301293, 'tol': 0.06941010372768645, 'fit_intercept': False, 'class_weight': None, 'threshold': 0.429}. Best is trial 46 with value: 0.9693371720545759.\n",
      "[I 2025-07-01 09:56:03,754] Trial 70 finished with value: 0.9691751995872719 and parameters: {'solver_penalty': ('newton-cg', 'l2'), 'C': 5.242471858621682, 'tol': 0.09266191278914977, 'fit_intercept': False, 'class_weight': None, 'threshold': 0.597}. Best is trial 46 with value: 0.9693371720545759.\n",
      "[I 2025-07-01 09:56:04,249] Trial 71 finished with value: 0.9686354176686109 and parameters: {'solver_penalty': ('newton-cholesky', None), 'C': 6.801962056707447, 'tol': 0.05847795259480019, 'fit_intercept': False, 'class_weight': 'balanced', 'threshold': 0.5660000000000001}. Best is trial 46 with value: 0.9693371720545759.\n",
      "[I 2025-07-01 09:56:04,920] Trial 72 finished with value: 0.9661521264533655 and parameters: {'solver_penalty': ('liblinear', 'l2'), 'C': 8.162781915403649, 'tol': 0.0686785930913517, 'fit_intercept': False, 'class_weight': 'balanced', 'threshold': 0.795}. Best is trial 46 with value: 0.9693371720545759.\n",
      "[I 2025-07-01 09:56:06,627] Trial 73 finished with value: 0.9691751995872719 and parameters: {'solver_penalty': ('newton-cg', 'l2'), 'C': 2.7418521586504174, 'tol': 0.07723958034179695, 'fit_intercept': True, 'class_weight': None, 'threshold': 0.55}. Best is trial 46 with value: 0.9693371720545759.\n",
      "[I 2025-07-01 09:56:07,485] Trial 74 finished with value: 0.9691751995872719 and parameters: {'solver_penalty': ('newton-cg', 'l2'), 'C': 1.7639099242769467, 'tol': 0.07568051514540336, 'fit_intercept': True, 'class_weight': None, 'threshold': 0.496}. Best is trial 46 with value: 0.9693371720545759.\n",
      "[I 2025-07-01 09:56:07,976] Trial 75 finished with value: 0.9691751995872719 and parameters: {'solver_penalty': ('newton-cg', 'l2'), 'C': 1.184035851639023, 'tol': 0.09139999238692269, 'fit_intercept': True, 'class_weight': None, 'threshold': 0.581}. Best is trial 46 with value: 0.9693371720545759.\n",
      "[I 2025-07-01 09:56:08,516] Trial 76 finished with value: 0.9689053232016743 and parameters: {'solver_penalty': ('lbfgs', 'l2'), 'C': 8.820659436168631, 'tol': 0.05050674726303811, 'fit_intercept': False, 'class_weight': 'balanced', 'threshold': 0.391}. Best is trial 46 with value: 0.9693371720545759.\n",
      "[I 2025-07-01 09:56:09,176] Trial 77 finished with value: 0.9689593188820197 and parameters: {'solver_penalty': ('liblinear', 'l2'), 'C': 7.816080782969989, 'tol': 0.061059812178926344, 'fit_intercept': True, 'class_weight': 'balanced', 'threshold': 0.46}. Best is trial 46 with value: 0.9693371720545759.\n",
      "[I 2025-07-01 09:56:10,478] Trial 78 finished with value: 0.9691212330543921 and parameters: {'solver_penalty': ('liblinear', 'l1'), 'C': 6.432993166765652, 'tol': 0.08064778940664755, 'fit_intercept': False, 'class_weight': 'balanced', 'threshold': 0.437}. Best is trial 46 with value: 0.9693371720545759.\n",
      "[I 2025-07-01 09:56:11,300] Trial 80 finished with value: 0.9690132999886325 and parameters: {'solver_penalty': ('liblinear', 'l1'), 'C': 5.257968563347561, 'tol': 0.07026765384281182, 'fit_intercept': False, 'class_weight': 'balanced', 'threshold': 0.267}. Best is trial 46 with value: 0.9693371720545759.\n",
      "[I 2025-07-01 09:56:12,436] Trial 79 finished with value: 0.9692291806938848 and parameters: {'solver_penalty': ('newton-cg', 'l2'), 'C': 9.349778146146097, 'tol': 0.05096987530671076, 'fit_intercept': False, 'class_weight': 'balanced', 'threshold': 0.522}. Best is trial 46 with value: 0.9693371720545759.\n",
      "[I 2025-07-01 09:56:12,935] Trial 81 finished with value: 0.9692831763742303 and parameters: {'solver_penalty': ('newton-cholesky', None), 'C': 6.398221962087256, 'tol': 0.05115131130475534, 'fit_intercept': True, 'class_weight': None, 'threshold': 0.534}. Best is trial 46 with value: 0.9693371720545759.\n",
      "[I 2025-07-01 09:56:12,948] Trial 82 finished with value: 0.9689593334557527 and parameters: {'solver_penalty': ('liblinear', 'l1'), 'C': 9.495542781580895, 'tol': 0.08426710819495706, 'fit_intercept': False, 'class_weight': None, 'threshold': 0.314}. Best is trial 46 with value: 0.9693371720545759.\n",
      "[I 2025-07-01 09:56:14,462] Trial 83 finished with value: 0.9690673102427109 and parameters: {'solver_penalty': ('newton-cholesky', None), 'C': 7.891887253130984, 'tol': 0.043487011419774624, 'fit_intercept': True, 'class_weight': None, 'threshold': 0.332}. Best is trial 46 with value: 0.9693371720545759.\n",
      "[I 2025-07-01 09:56:15,949] Trial 84 finished with value: 0.9689053377754071 and parameters: {'solver_penalty': ('newton-cg', 'l2'), 'C': 7.604406829525357, 'tol': 0.07228816714097211, 'fit_intercept': False, 'class_weight': 'balanced', 'threshold': 0.372}. Best is trial 46 with value: 0.9693371720545759.\n",
      "[I 2025-07-01 09:56:16,305] Trial 85 finished with value: 0.9692291806938848 and parameters: {'solver_penalty': ('newton-cg', None), 'C': 9.556326305953599, 'tol': 0.0509372270270932, 'fit_intercept': False, 'class_weight': 'balanced', 'threshold': 0.514}. Best is trial 46 with value: 0.9693371720545759.\n",
      "[I 2025-07-01 09:56:16,639] Trial 86 finished with value: 0.9691751995872719 and parameters: {'solver_penalty': ('newton-cg', 'l2'), 'C': 8.68715234221572, 'tol': 0.05755625000076765, 'fit_intercept': False, 'class_weight': 'balanced', 'threshold': 0.552}. Best is trial 46 with value: 0.9693371720545759.\n",
      "[I 2025-07-01 09:56:18,114] Trial 87 finished with value: 0.9688513566687945 and parameters: {'solver_penalty': ('newton-cg', 'l2'), 'C': 8.647480033959628, 'tol': 0.05255178613388619, 'fit_intercept': False, 'class_weight': 'balanced', 'threshold': 0.36}. Best is trial 46 with value: 0.9693371720545759.\n",
      "[I 2025-07-01 09:56:18,139] Trial 88 finished with value: 0.9688513566687945 and parameters: {'solver_penalty': ('liblinear', 'l2'), 'C': 7.048256715906861, 'tol': 0.03481726235283599, 'fit_intercept': False, 'class_weight': None, 'threshold': 0.34600000000000003}. Best is trial 46 with value: 0.9693371720545759.\n",
      "[I 2025-07-01 09:56:19,977] Trial 89 finished with value: 0.9686353885211452 and parameters: {'solver_penalty': ('newton-cg', 'l2'), 'C': 7.069864524013746, 'tol': 0.02663415789710766, 'fit_intercept': False, 'class_weight': 'balanced', 'threshold': 0.711}. Best is trial 46 with value: 0.9693371720545759.\n",
      "[I 2025-07-01 09:56:20,164] Trial 90 finished with value: 0.9675017415610799 and parameters: {'solver_penalty': ('newton-cg', None), 'C': 8.623158481066259, 'tol': 0.03820305355561064, 'fit_intercept': False, 'class_weight': 'balanced', 'threshold': 0.762}. Best is trial 46 with value: 0.9693371720545759.\n",
      "[I 2025-07-01 09:56:21,672] Trial 91 finished with value: 0.9691751995872719 and parameters: {'solver_penalty': ('newton-cg', None), 'C': 7.562862724629495, 'tol': 0.047616551118278165, 'fit_intercept': False, 'class_weight': 'balanced', 'threshold': 0.538}. Best is trial 46 with value: 0.9693371720545759.\n",
      "[I 2025-07-01 09:56:21,840] Trial 92 finished with value: 0.9692291952676175 and parameters: {'solver_penalty': ('newton-cg', None), 'C': 8.69515466564569, 'tol': 0.04034812137217549, 'fit_intercept': False, 'class_weight': 'balanced', 'threshold': 0.48}. Best is trial 46 with value: 0.9693371720545759.\n",
      "[I 2025-07-01 09:56:23,299] Trial 93 finished with value: 0.9691752287347377 and parameters: {'solver_penalty': ('newton-cg', None), 'C': 9.337403002243713, 'tol': 0.04129308541856201, 'fit_intercept': False, 'class_weight': None, 'threshold': 0.426}. Best is trial 46 with value: 0.9693371720545759.\n",
      "[I 2025-07-01 09:56:23,313] Trial 94 finished with value: 0.9690672665215123 and parameters: {'solver_penalty': ('lbfgs', 'l2'), 'C': 9.57265109638697, 'tol': 0.08842321018930599, 'fit_intercept': True, 'class_weight': 'balanced', 'threshold': 0.444}. Best is trial 46 with value: 0.9693371720545759.\n",
      "[I 2025-07-01 09:56:24,829] Trial 95 finished with value: 0.9690132854148995 and parameters: {'solver_penalty': ('newton-cholesky', None), 'C': 4.564912396494808, 'tol': 0.055342471767584306, 'fit_intercept': True, 'class_weight': None, 'threshold': 0.492}. Best is trial 46 with value: 0.9693371720545759.\n",
      "[I 2025-07-01 09:56:25,517] Trial 96 finished with value: 0.9685814511357311 and parameters: {'solver_penalty': ('newton-cholesky', 'l2'), 'C': 8.393144960219065, 'tol': 0.034779743187598376, 'fit_intercept': False, 'class_weight': 'balanced', 'threshold': 0.503}. Best is trial 46 with value: 0.9693371720545759.\n",
      "[I 2025-07-01 09:56:25,864] Trial 97 finished with value: 0.9691752141610049 and parameters: {'solver_penalty': ('liblinear', 'l1'), 'C': 1.0424625550573543, 'tol': 0.06926101984005453, 'fit_intercept': False, 'class_weight': 'balanced', 'threshold': 0.56}. Best is trial 46 with value: 0.9693371720545759.\n",
      "[I 2025-07-01 09:56:26,769] Trial 98 finished with value: 0.9691751995872719 and parameters: {'solver_penalty': ('lbfgs', None), 'C': 9.56387925657783, 'tol': 0.047172089676558844, 'fit_intercept': False, 'class_weight': 'balanced', 'threshold': 0.5640000000000001}. Best is trial 46 with value: 0.9693371720545759.\n",
      "[I 2025-07-01 09:56:28,157] Trial 99 finished with value: 0.9690672373740465 and parameters: {'solver_penalty': ('lbfgs', 'l2'), 'C': 0.5598310497636974, 'tol': 0.06119283690330601, 'fit_intercept': False, 'class_weight': 'balanced', 'threshold': 0.652}. Best is trial 46 with value: 0.9693371720545759.\n",
      "[I 2025-07-01 09:56:29,160] Trial 100 finished with value: 0.9692291952676175 and parameters: {'solver_penalty': ('newton-cg', None), 'C': 9.854116111565258, 'tol': 0.05908695542083151, 'fit_intercept': False, 'class_weight': 'balanced', 'threshold': 0.47000000000000003}. Best is trial 46 with value: 0.9693371720545759.\n",
      "[I 2025-07-01 09:56:29,863] Trial 101 finished with value: 0.9631289950245275 and parameters: {'solver_penalty': ('newton-cg', None), 'C': 7.024259507972831, 'tol': 0.020976058185205686, 'fit_intercept': False, 'class_weight': 'balanced', 'threshold': 0.099}. Best is trial 46 with value: 0.9693371720545759.\n",
      "[I 2025-07-01 09:56:30,362] Trial 102 finished with value: 0.9690672519477795 and parameters: {'solver_penalty': ('newton-cg', None), 'C': 8.952309759068255, 'tol': 0.08736160230968885, 'fit_intercept': False, 'class_weight': 'balanced', 'threshold': 0.636}. Best is trial 46 with value: 0.9693371720545759.\n",
      "[I 2025-07-01 09:56:31,077] Trial 103 finished with value: 0.9691751995872719 and parameters: {'solver_penalty': ('newton-cg', 'l2'), 'C': 8.748183153198886, 'tol': 0.051351311745418494, 'fit_intercept': True, 'class_weight': None, 'threshold': 0.494}. Best is trial 46 with value: 0.9693371720545759.\n",
      "[I 2025-07-01 09:56:32,620] Trial 104 finished with value: 0.9689593334557527 and parameters: {'solver_penalty': ('newton-cg', None), 'C': 8.211892063290154, 'tol': 0.023833465924444804, 'fit_intercept': False, 'class_weight': 'balanced', 'threshold': 0.293}. Best is trial 46 with value: 0.9693371720545759.\n",
      "[I 2025-07-01 09:56:32,964] Trial 105 finished with value: 0.9689053377754071 and parameters: {'solver_penalty': ('newton-cg', None), 'C': 9.389870060423656, 'tol': 0.06387686456364695, 'fit_intercept': False, 'class_weight': 'balanced', 'threshold': 0.384}. Best is trial 46 with value: 0.9693371720545759.\n",
      "[I 2025-07-01 09:56:34,313] Trial 107 finished with value: 0.9688513566687945 and parameters: {'solver_penalty': ('newton-cg', None), 'C': 9.931726467608694, 'tol': 0.03625895450590362, 'fit_intercept': False, 'class_weight': 'balanced', 'threshold': 0.339}. Best is trial 46 with value: 0.9693371720545759.\n",
      "[I 2025-07-01 09:56:35,327] Trial 109 finished with value: 0.9689592605870884 and parameters: {'solver_penalty': ('newton-cholesky', None), 'C': 9.075103102505444, 'tol': 0.06518996902146754, 'fit_intercept': False, 'class_weight': None, 'threshold': 0.655}. Best is trial 46 with value: 0.9693371720545759.\n",
      "[I 2025-07-01 09:56:36,173] Trial 108 finished with value: 0.9691752141610049 and parameters: {'solver_penalty': ('newton-cg', None), 'C': 9.727084768565918, 'tol': 0.053527136496642244, 'fit_intercept': True, 'class_weight': 'balanced', 'threshold': 0.47800000000000004}. Best is trial 46 with value: 0.9693371720545759.\n",
      "[I 2025-07-01 09:56:36,372] Trial 106 finished with value: 0.9671238155198596 and parameters: {'solver_penalty': ('newton-cg', 'l2'), 'C': 3.4653690149228638, 'tol': 0.004249430082205229, 'fit_intercept': True, 'class_weight': 'balanced', 'threshold': 0.27}. Best is trial 46 with value: 0.9693371720545759.\n",
      "[I 2025-07-01 09:56:37,253] Trial 110 finished with value: 0.9685814365619981 and parameters: {'solver_penalty': ('newton-cholesky', 'l2'), 'C': 9.825453140832117, 'tol': 0.0709064826590786, 'fit_intercept': False, 'class_weight': 'balanced', 'threshold': 0.609}. Best is trial 46 with value: 0.9693371720545759.\n",
      "[I 2025-07-01 09:56:38,486] Trial 111 finished with value: 0.9689052794804756 and parameters: {'solver_penalty': ('newton-cholesky', None), 'C': 8.15725275400842, 'tol': 0.054155567442005406, 'fit_intercept': True, 'class_weight': None, 'threshold': 0.6910000000000001}. Best is trial 46 with value: 0.9693371720545759.\n",
      "[I 2025-07-01 09:56:39,834] Trial 114 finished with value: 0.9691751995872719 and parameters: {'solver_penalty': ('liblinear', 'l2'), 'C': 7.129973179681471, 'tol': 0.04772725400103233, 'fit_intercept': False, 'class_weight': 'balanced', 'threshold': 0.509}. Best is trial 46 with value: 0.9693371720545759.\n",
      "[I 2025-07-01 09:56:40,347] Trial 112 finished with value: 0.9691752287347377 and parameters: {'solver_penalty': ('lbfgs', 'l2'), 'C': 4.296951358786768, 'tol': 0.04914935158731115, 'fit_intercept': False, 'class_weight': 'balanced', 'threshold': 0.426}. Best is trial 46 with value: 0.9693371720545759.\n",
      "[I 2025-07-01 09:56:41,013] Trial 115 finished with value: 0.9691752141610049 and parameters: {'solver_penalty': ('liblinear', 'l1'), 'C': 9.930607077000705, 'tol': 0.08465748978260824, 'fit_intercept': False, 'class_weight': 'balanced', 'threshold': 0.558}. Best is trial 46 with value: 0.9693371720545759.\n",
      "[I 2025-07-01 09:56:41,162] Trial 113 finished with value: 0.969013256267434 and parameters: {'solver_penalty': ('newton-cg', None), 'C': 8.539161600352987, 'tol': 0.05075972264131919, 'fit_intercept': True, 'class_weight': None, 'threshold': 0.659}. Best is trial 46 with value: 0.9693371720545759.\n",
      "[I 2025-07-01 09:56:42,951] Trial 117 finished with value: 0.9688513566687945 and parameters: {'solver_penalty': ('liblinear', 'l2'), 'C': 0.6243626586721733, 'tol': 0.07534146612240185, 'fit_intercept': True, 'class_weight': None, 'threshold': 0.32}. Best is trial 46 with value: 0.9693371720545759.\n",
      "[I 2025-07-01 09:56:43,770] Trial 118 finished with value: 0.9692291952676175 and parameters: {'solver_penalty': ('liblinear', 'l1'), 'C': 8.914733908207927, 'tol': 0.048011767536722316, 'fit_intercept': False, 'class_weight': None, 'threshold': 0.452}. Best is trial 46 with value: 0.9693371720545759.\n",
      "[I 2025-07-01 09:56:44,261] Trial 116 finished with value: 0.9692831763742303 and parameters: {'solver_penalty': ('newton-cholesky', 'l2'), 'C': 6.682367634302327, 'tol': 0.06411859569724379, 'fit_intercept': True, 'class_weight': None, 'threshold': 0.561}. Best is trial 46 with value: 0.9693371720545759.\n",
      "[I 2025-07-01 09:56:44,271] Trial 119 finished with value: 0.969013256267434 and parameters: {'solver_penalty': ('liblinear', 'l1'), 'C': 9.13603345008093, 'tol': 0.034296506217429766, 'fit_intercept': False, 'class_weight': 'balanced', 'threshold': 0.635}. Best is trial 46 with value: 0.9693371720545759.\n",
      "[I 2025-07-01 09:56:45,894] Trial 120 finished with value: 0.9692291806938845 and parameters: {'solver_penalty': ('liblinear', 'l1'), 'C': 8.886885780833504, 'tol': 0.045206420624284115, 'fit_intercept': False, 'class_weight': 'balanced', 'threshold': 0.484}. Best is trial 46 with value: 0.9693371720545759.\n",
      "[I 2025-07-01 09:56:46,573] Trial 121 finished with value: 0.9691751995872719 and parameters: {'solver_penalty': ('lbfgs', 'l2'), 'C': 2.2419439696538714, 'tol': 0.08127263516986057, 'fit_intercept': False, 'class_weight': None, 'threshold': 0.5700000000000001}. Best is trial 46 with value: 0.9693371720545759.\n",
      "[I 2025-07-01 09:56:47,547] Trial 122 finished with value: 0.9687973172672502 and parameters: {'solver_penalty': ('newton-cholesky', 'l2'), 'C': 8.253449892071952, 'tol': 0.07251654128882301, 'fit_intercept': True, 'class_weight': None, 'threshold': 0.732}. Best is trial 46 with value: 0.9693371720545759.\n",
      "[I 2025-07-01 09:56:48,379] Trial 123 finished with value: 0.9692291952676175 and parameters: {'solver_penalty': ('newton-cholesky', None), 'C': 3.2462666387630406, 'tol': 0.003466357472584514, 'fit_intercept': True, 'class_weight': None, 'threshold': 0.533}. Best is trial 46 with value: 0.9693371720545759.\n",
      "[I 2025-07-01 09:56:49,204] Trial 124 finished with value: 0.9690133145623653 and parameters: {'solver_penalty': ('newton-cholesky', 'l2'), 'C': 7.603483758759177, 'tol': 0.08216558860568265, 'fit_intercept': True, 'class_weight': None, 'threshold': 0.39}. Best is trial 46 with value: 0.9693371720545759.\n",
      "[I 2025-07-01 09:56:49,864] Trial 126 finished with value: 0.9691751995872719 and parameters: {'solver_penalty': ('liblinear', 'l1'), 'C': 5.078388904788724, 'tol': 0.03512188902295305, 'fit_intercept': False, 'class_weight': None, 'threshold': 0.495}. Best is trial 46 with value: 0.9693371720545759.\n",
      "[I 2025-07-01 09:56:50,191] Trial 125 finished with value: 0.9689052794804756 and parameters: {'solver_penalty': ('newton-cholesky', 'l2'), 'C': 8.42997742655747, 'tol': 0.06345609720212426, 'fit_intercept': True, 'class_weight': None, 'threshold': 0.678}. Best is trial 46 with value: 0.9693371720545759.\n",
      "[I 2025-07-01 09:56:51,842] Trial 127 finished with value: 0.9692831763742303 and parameters: {'solver_penalty': ('newton-cholesky', 'l2'), 'C': 5.417228552752848, 'tol': 0.08728448848587095, 'fit_intercept': True, 'class_weight': None, 'threshold': 0.548}. Best is trial 46 with value: 0.9693371720545759.\n",
      "[I 2025-07-01 09:56:52,505] Trial 130 finished with value: 0.9689593188820197 and parameters: {'solver_penalty': ('liblinear', 'l1'), 'C': 8.42002662477676, 'tol': 0.0540347215942649, 'fit_intercept': False, 'class_weight': None, 'threshold': 0.271}. Best is trial 46 with value: 0.9693371720545759.\n",
      "[I 2025-07-01 09:56:53,351] Trial 128 finished with value: 0.9689593188820197 and parameters: {'solver_penalty': ('newton-cholesky', None), 'C': 4.168502249392397, 'tol': 0.0028251272145455057, 'fit_intercept': True, 'class_weight': None, 'threshold': 0.381}. Best is trial 46 with value: 0.9693371720545759.\n",
      "[I 2025-07-01 09:56:53,704] Trial 129 finished with value: 0.9691212476281251 and parameters: {'solver_penalty': ('newton-cholesky', None), 'C': 2.4318026746917467, 'tol': 0.010695090888907723, 'fit_intercept': True, 'class_weight': None, 'threshold': 0.465}. Best is trial 46 with value: 0.9693371720545759.\n",
      "[I 2025-07-01 09:56:55,474] Trial 131 finished with value: 0.9691752287347377 and parameters: {'solver_penalty': ('newton-cholesky', None), 'C': 2.8192015833002024, 'tol': 0.010916657760991301, 'fit_intercept': True, 'class_weight': None, 'threshold': 0.492}. Best is trial 46 with value: 0.9693371720545759.\n",
      "[I 2025-07-01 09:56:55,676] Trial 132 finished with value: 0.9680955628812853 and parameters: {'solver_penalty': ('newton-cholesky', 'l2'), 'C': 3.8227576233283305, 'tol': 0.08086760514573946, 'fit_intercept': True, 'class_weight': None, 'threshold': 0.791}. Best is trial 46 with value: 0.9693371720545759.\n",
      "[I 2025-07-01 09:56:56,656] Trial 133 finished with value: 0.9691212184806594 and parameters: {'solver_penalty': ('newton-cholesky', 'l2'), 'C': 3.269990160559815, 'tol': 0.087273981076894, 'fit_intercept': True, 'class_weight': None, 'threshold': 0.613}. Best is trial 46 with value: 0.9693371720545759.\n",
      "[I 2025-07-01 09:56:57,173] Trial 134 finished with value: 0.9691212184806594 and parameters: {'solver_penalty': ('newton-cholesky', 'l2'), 'C': 3.688463950300849, 'tol': 0.09584868661258636, 'fit_intercept': True, 'class_weight': None, 'threshold': 0.598}. Best is trial 46 with value: 0.9693371720545759.\n",
      "[I 2025-07-01 09:56:58,442] Trial 135 finished with value: 0.9687433507343706 and parameters: {'solver_penalty': ('lbfgs', 'l2'), 'C': 4.563252444188388, 'tol': 0.0913185447086702, 'fit_intercept': True, 'class_weight': None, 'threshold': 0.765}. Best is trial 46 with value: 0.9693371720545759.\n",
      "[I 2025-07-01 09:56:58,448] Trial 136 finished with value: 0.9689053377754071 and parameters: {'solver_penalty': ('liblinear', 'l2'), 'C': 2.494396039502576, 'tol': 0.007189186031599942, 'fit_intercept': True, 'class_weight': None, 'threshold': 0.343}. Best is trial 46 with value: 0.9693371720545759.\n",
      "[I 2025-07-01 09:57:00,434] Trial 138 finished with value: 0.9692291806938848 and parameters: {'solver_penalty': ('lbfgs', None), 'C': 4.2961406347949405, 'tol': 0.07570614698920494, 'fit_intercept': True, 'class_weight': None, 'threshold': 0.528}. Best is trial 46 with value: 0.9693371720545759.\n",
      "[I 2025-07-01 09:57:00,440] Trial 137 finished with value: 0.9690132854148995 and parameters: {'solver_penalty': ('newton-cholesky', 'l2'), 'C': 5.800722962409671, 'tol': 0.05050892806135657, 'fit_intercept': True, 'class_weight': None, 'threshold': 0.481}. Best is trial 46 with value: 0.9693371720545759.\n",
      "[I 2025-07-01 09:57:00,971] Trial 139 finished with value: 0.9690672373740465 and parameters: {'solver_penalty': ('liblinear', 'l1'), 'C': 0.7308319392350802, 'tol': 0.013205964736300271, 'fit_intercept': True, 'class_weight': None, 'threshold': 0.657}. Best is trial 46 with value: 0.9693371720545759.\n",
      "[I 2025-07-01 09:57:03,376] Trial 143 finished with value: 0.9690672373740465 and parameters: {'solver_penalty': ('liblinear', 'l1'), 'C': 6.0947457332923785, 'tol': 0.05612688506215262, 'fit_intercept': True, 'class_weight': None, 'threshold': 0.66}. Best is trial 46 with value: 0.9693371720545759.\n",
      "[I 2025-07-01 09:57:03,695] Trial 141 finished with value: 0.9690133291360983 and parameters: {'solver_penalty': ('newton-cholesky', 'l2'), 'C': 5.155325850965259, 'tol': 0.0712194997728721, 'fit_intercept': False, 'class_weight': None, 'threshold': 0.333}. Best is trial 46 with value: 0.9693371720545759.\n",
      "[I 2025-07-01 09:57:03,723] Trial 142 finished with value: 0.9691212476281251 and parameters: {'solver_penalty': ('newton-cholesky', None), 'C': 5.850347352112399, 'tol': 0.050284636534082376, 'fit_intercept': False, 'class_weight': None, 'threshold': 0.515}. Best is trial 46 with value: 0.9693371720545759.\n",
      "[I 2025-07-01 09:57:03,929] Trial 140 finished with value: 0.969013256267434 and parameters: {'solver_penalty': ('newton-cg', None), 'C': 3.564845232879328, 'tol': 0.0028712329089285614, 'fit_intercept': True, 'class_weight': None, 'threshold': 0.648}. Best is trial 46 with value: 0.9693371720545759.\n",
      "[I 2025-07-01 09:57:06,401] Trial 144 finished with value: 0.9691751995872719 and parameters: {'solver_penalty': ('lbfgs', 'l2'), 'C': 9.705865543402139, 'tol': 0.0441821938789982, 'fit_intercept': False, 'class_weight': None, 'threshold': 0.542}. Best is trial 46 with value: 0.9693371720545759.\n",
      "[I 2025-07-01 09:57:06,912] Trial 146 finished with value: 0.9689593480294855 and parameters: {'solver_penalty': ('newton-cholesky', None), 'C': 7.86895340466035, 'tol': 0.07981692228265466, 'fit_intercept': True, 'class_weight': None, 'threshold': 0.291}. Best is trial 46 with value: 0.9693371720545759.\n",
      "[I 2025-07-01 09:57:07,420] Trial 147 finished with value: 0.9690133145623653 and parameters: {'solver_penalty': ('newton-cholesky', None), 'C': 7.585202174680478, 'tol': 0.07582547216306716, 'fit_intercept': True, 'class_weight': None, 'threshold': 0.397}. Best is trial 46 with value: 0.9693371720545759.\n",
      "[I 2025-07-01 09:57:07,424] Trial 145 finished with value: 0.9678256864956877 and parameters: {'solver_penalty': ('newton-cholesky', None), 'C': 2.3175315994587398, 'tol': 0.09493489966152437, 'fit_intercept': False, 'class_weight': 'balanced', 'threshold': 0.371}. Best is trial 46 with value: 0.9693371720545759.\n",
      "[I 2025-07-01 09:57:08,607] Trial 148 finished with value: 0.9691752141610049 and parameters: {'solver_penalty': ('liblinear', 'l1'), 'C': 9.194256742613256, 'tol': 0.05750519312012189, 'fit_intercept': False, 'class_weight': None, 'threshold': 0.524}. Best is trial 46 with value: 0.9693371720545759.\n",
      "[I 2025-07-01 09:57:10,813] Trial 151 finished with value: 0.9677716616678763 and parameters: {'solver_penalty': ('newton-cholesky', None), 'C': 4.405115972557282, 'tol': 0.013280758525598586, 'fit_intercept': True, 'class_weight': None, 'threshold': 0.801}. Best is trial 46 with value: 0.9693371720545759.\n",
      "[I 2025-07-01 09:57:11,146] Trial 149 finished with value: 0.9690133145623653 and parameters: {'solver_penalty': ('newton-cg', 'l2'), 'C': 3.9325205880347496, 'tol': 0.006609573624450582, 'fit_intercept': True, 'class_weight': None, 'threshold': 0.221}. Best is trial 46 with value: 0.9693371720545759.\n",
      "[I 2025-07-01 09:57:11,151] Trial 150 finished with value: 0.9689053377754071 and parameters: {'solver_penalty': ('newton-cg', 'l2'), 'C': 4.829399642866339, 'tol': 0.003858105978722298, 'fit_intercept': False, 'class_weight': None, 'threshold': 0.358}. Best is trial 46 with value: 0.9693371720545759.\n",
      "[I 2025-07-01 09:57:12,042] Trial 152 finished with value: 0.9692292098413503 and parameters: {'solver_penalty': ('newton-cg', 'l2'), 'C': 0.07911462751236847, 'tol': 0.06463792919899838, 'fit_intercept': True, 'class_weight': None, 'threshold': 0.439}. Best is trial 46 with value: 0.9693371720545759.\n",
      "[I 2025-07-01 09:57:13,986] Trial 155 finished with value: 0.9691752287347377 and parameters: {'solver_penalty': ('lbfgs', None), 'C': 6.1737920843079515, 'tol': 0.08173403657527364, 'fit_intercept': True, 'class_weight': None, 'threshold': 0.385}. Best is trial 46 with value: 0.9693371720545759.\n",
      "[I 2025-07-01 09:57:14,305] Trial 154 finished with value: 0.9691751995872719 and parameters: {'solver_penalty': ('lbfgs', None), 'C': 4.686089688911992, 'tol': 0.08802855947660132, 'fit_intercept': True, 'class_weight': None, 'threshold': 0.588}. Best is trial 46 with value: 0.9693371720545759.\n",
      "[I 2025-07-01 09:57:14,847] Trial 156 finished with value: 0.9691751995872719 and parameters: {'solver_penalty': ('liblinear', 'l2'), 'C': 6.023803382515977, 'tol': 0.0859100207606463, 'fit_intercept': True, 'class_weight': None, 'threshold': 0.499}. Best is trial 46 with value: 0.9693371720545759.\n",
      "[I 2025-07-01 09:57:14,858] Trial 153 finished with value: 0.9691751995872719 and parameters: {'solver_penalty': ('newton-cg', 'l2'), 'C': 0.6856201254422363, 'tol': 0.07936154738318565, 'fit_intercept': False, 'class_weight': None, 'threshold': 0.51}. Best is trial 46 with value: 0.9693371720545759.\n",
      "[I 2025-07-01 09:57:17,200] Trial 157 finished with value: 0.9614554349822054 and parameters: {'solver_penalty': ('newton-cg', 'l2'), 'C': 0.4723829162548577, 'tol': 0.06006021501311159, 'fit_intercept': True, 'class_weight': None, 'threshold': 0.871}. Best is trial 46 with value: 0.9693371720545759.\n",
      "[I 2025-07-01 09:57:17,883] Trial 158 finished with value: 0.9691212184806594 and parameters: {'solver_penalty': ('newton-cg', 'l2'), 'C': 2.1629082156616906, 'tol': 0.06429558836650759, 'fit_intercept': True, 'class_weight': 'balanced', 'threshold': 0.613}. Best is trial 46 with value: 0.9693371720545759.\n",
      "[I 2025-07-01 09:57:18,403] Trial 160 finished with value: 0.9690132999886325 and parameters: {'solver_penalty': ('newton-cholesky', None), 'C': 4.7653924940450185, 'tol': 0.013324951194210188, 'fit_intercept': True, 'class_weight': 'balanced', 'threshold': 0.663}. Best is trial 46 with value: 0.9693371720545759.\n",
      "[I 2025-07-01 09:57:18,414] Trial 159 finished with value: 0.9691751995872719 and parameters: {'solver_penalty': ('newton-cg', 'l2'), 'C': 1.5415766126478552, 'tol': 0.008311584540507077, 'fit_intercept': True, 'class_weight': None, 'threshold': 0.499}. Best is trial 46 with value: 0.9693371720545759.\n",
      "[I 2025-07-01 09:57:20,615] Trial 163 finished with value: 0.9681495585616309 and parameters: {'solver_penalty': ('liblinear', 'l1'), 'C': 9.328289105039039, 'tol': 0.007419620965226623, 'fit_intercept': False, 'class_weight': None, 'threshold': 0.729}. Best is trial 46 with value: 0.9693371720545759.\n",
      "[I 2025-07-01 09:57:21,160] Trial 162 finished with value: 0.9690133291360983 and parameters: {'solver_penalty': ('newton-cholesky', 'l2'), 'C': 1.2450426050455918, 'tol': 0.05422691474381293, 'fit_intercept': True, 'class_weight': None, 'threshold': 0.314}. Best is trial 46 with value: 0.9693371720545759.\n",
      "[I 2025-07-01 09:57:21,520] Trial 161 finished with value: 0.9692291952676175 and parameters: {'solver_penalty': ('newton-cg', 'l2'), 'C': 0.6868222647242852, 'tol': 0.06634375597183349, 'fit_intercept': True, 'class_weight': 'balanced', 'threshold': 0.486}. Best is trial 46 with value: 0.9693371720545759.\n",
      "[I 2025-07-01 09:57:21,879] Trial 164 finished with value: 0.9691751995872719 and parameters: {'solver_penalty': ('lbfgs', None), 'C': 2.4086226497945775, 'tol': 0.06868126951558476, 'fit_intercept': False, 'class_weight': 'balanced', 'threshold': 0.5640000000000001}. Best is trial 46 with value: 0.9693371720545759.\n",
      "[I 2025-07-01 09:57:24,237] Trial 165 finished with value: 0.9691212476281251 and parameters: {'solver_penalty': ('newton-cg', None), 'C': 3.579102919826086, 'tol': 0.08512624077182221, 'fit_intercept': False, 'class_weight': 'balanced', 'threshold': 0.42}. Best is trial 46 with value: 0.9693371720545759.\n",
      "[I 2025-07-01 09:57:24,553] Trial 166 finished with value: 0.9691212476281251 and parameters: {'solver_penalty': ('newton-cholesky', None), 'C': 4.530597538826784, 'tol': 0.07410831606142076, 'fit_intercept': True, 'class_weight': 'balanced', 'threshold': 0.657}. Best is trial 46 with value: 0.9693371720545759.\n",
      "[I 2025-07-01 09:57:24,945] Trial 168 finished with value: 0.9685814511357311 and parameters: {'solver_penalty': ('newton-cholesky', None), 'C': 9.627757220532974, 'tol': 0.06265769880837382, 'fit_intercept': True, 'class_weight': 'balanced', 'threshold': 0.375}. Best is trial 46 with value: 0.9693371720545759.\n",
      "[I 2025-07-01 09:57:25,292] Trial 167 finished with value: 0.9692292098413503 and parameters: {'solver_penalty': ('newton-cg', None), 'C': 1.7612838631500831, 'tol': 0.07225918739805352, 'fit_intercept': True, 'class_weight': 'balanced', 'threshold': 0.454}. Best is trial 46 with value: 0.9693371720545759.\n",
      "[I 2025-07-01 09:57:27,441] Trial 169 finished with value: 0.9689593188820197 and parameters: {'solver_penalty': ('newton-cholesky', None), 'C': 4.489969803036764, 'tol': 0.09389942456723865, 'fit_intercept': True, 'class_weight': 'balanced', 'threshold': 0.62}. Best is trial 46 with value: 0.9693371720545759.\n",
      "[I 2025-07-01 09:57:27,755] Trial 170 finished with value: 0.9689593334557527 and parameters: {'solver_penalty': ('newton-cg', 'l2'), 'C': 0.8344666193640671, 'tol': 0.07125062190086583, 'fit_intercept': True, 'class_weight': None, 'threshold': 0.265}. Best is trial 46 with value: 0.9693371720545759.\n",
      "[I 2025-07-01 09:57:28,643] Trial 171 finished with value: 0.9690672665215123 and parameters: {'solver_penalty': ('newton-cg', 'l2'), 'C': 1.0246466427150607, 'tol': 0.05349139997363321, 'fit_intercept': True, 'class_weight': 'balanced', 'threshold': 0.418}. Best is trial 46 with value: 0.9693371720545759.\n",
      "[I 2025-07-01 09:57:28,830] Trial 172 finished with value: 0.9690133145623653 and parameters: {'solver_penalty': ('newton-cg', None), 'C': 5.151624281224832, 'tol': 0.06481404542878942, 'fit_intercept': True, 'class_weight': 'balanced', 'threshold': 0.25}. Best is trial 46 with value: 0.9693371720545759.\n",
      "[I 2025-07-01 09:57:31,458] Trial 173 finished with value: 0.9689593188820197 and parameters: {'solver_penalty': ('newton-cg', 'l2'), 'C': 2.6363861199927854, 'tol': 0.08906701416505793, 'fit_intercept': True, 'class_weight': 'balanced', 'threshold': 0.397}. Best is trial 46 with value: 0.9693371720545759.\n",
      "[I 2025-07-01 09:57:31,459] Trial 174 finished with value: 0.9691751995872719 and parameters: {'solver_penalty': ('newton-cg', None), 'C': 2.145852899850673, 'tol': 0.08772334373203543, 'fit_intercept': True, 'class_weight': 'balanced', 'threshold': 0.498}. Best is trial 46 with value: 0.9693371720545759.\n",
      "[I 2025-07-01 09:57:31,648] Trial 176 finished with value: 0.9690672665215123 and parameters: {'solver_penalty': ('newton-cholesky', None), 'C': 9.761161180769202, 'tol': 0.05780725747765844, 'fit_intercept': True, 'class_weight': None, 'threshold': 0.507}. Best is trial 46 with value: 0.9693371720545759.\n",
      "[I 2025-07-01 09:57:31,885] Trial 175 finished with value: 0.9692291806938848 and parameters: {'solver_penalty': ('newton-cg', 'l2'), 'C': 0.9361604018420651, 'tol': 0.0569568675259973, 'fit_intercept': True, 'class_weight': None, 'threshold': 0.517}. Best is trial 46 with value: 0.9693371720545759.\n",
      "[I 2025-07-01 09:57:34,197] Trial 178 finished with value: 0.9691751995872719 and parameters: {'solver_penalty': ('lbfgs', 'l2'), 'C': 0.6386269515101224, 'tol': 0.08432518840877919, 'fit_intercept': True, 'class_weight': None, 'threshold': 0.506}. Best is trial 46 with value: 0.9693371720545759.\n",
      "[I 2025-07-01 09:57:34,377] Trial 177 finished with value: 0.9692831909479629 and parameters: {'solver_penalty': ('lbfgs', None), 'C': 0.20182994876203209, 'tol': 0.053585942387129326, 'fit_intercept': True, 'class_weight': None, 'threshold': 0.434}. Best is trial 46 with value: 0.9693371720545759.\n",
      "[I 2025-07-01 09:57:35,369] Trial 179 finished with value: 0.9685814511357311 and parameters: {'solver_penalty': ('newton-cholesky', None), 'C': 1.439608535512513, 'tol': 0.048036188909511, 'fit_intercept': True, 'class_weight': 'balanced', 'threshold': 0.377}. Best is trial 46 with value: 0.9693371720545759.\n",
      "[I 2025-07-01 09:57:35,917] Trial 180 finished with value: 0.9691751995872719 and parameters: {'solver_penalty': ('newton-cg', None), 'C': 9.3637570518816, 'tol': 0.03742028437362965, 'fit_intercept': False, 'class_weight': 'balanced', 'threshold': 0.577}. Best is trial 46 with value: 0.9693371720545759.\n",
      "[I 2025-07-01 09:57:37,579] Trial 182 finished with value: 0.9691752141610049 and parameters: {'solver_penalty': ('lbfgs', None), 'C': 2.4564536669677524, 'tol': 0.027510452201051284, 'fit_intercept': True, 'class_weight': None, 'threshold': 0.458}. Best is trial 46 with value: 0.9693371720545759.\n",
      "[I 2025-07-01 09:57:37,910] Trial 181 finished with value: 0.9689053086279413 and parameters: {'solver_penalty': ('newton-cholesky', 'l2'), 'C': 7.370015849941498, 'tol': 0.09538300673763168, 'fit_intercept': True, 'class_weight': 'balanced', 'threshold': 0.637}. Best is trial 46 with value: 0.9693371720545759.\n",
      "[I 2025-07-01 09:57:38,296] Trial 184 finished with value: 0.9689053377754071 and parameters: {'solver_penalty': ('liblinear', 'l1'), 'C': 9.992969701591772, 'tol': 0.021502071404255942, 'fit_intercept': False, 'class_weight': None, 'threshold': 0.327}. Best is trial 46 with value: 0.9693371720545759.\n",
      "[I 2025-07-01 09:57:39,017] Trial 183 finished with value: 0.9689593334557527 and parameters: {'solver_penalty': ('newton-cg', None), 'C': 3.267425733290953, 'tol': 0.07913689232077425, 'fit_intercept': True, 'class_weight': None, 'threshold': 0.297}. Best is trial 46 with value: 0.9693371720545759.\n",
      "[I 2025-07-01 09:57:41,592] Trial 185 finished with value: 0.9689053377754071 and parameters: {'solver_penalty': ('lbfgs', None), 'C': 8.575593766695183, 'tol': 0.05947292279929076, 'fit_intercept': False, 'class_weight': 'balanced', 'threshold': 0.243}. Best is trial 46 with value: 0.9693371720545759.\n",
      "[I 2025-07-01 09:57:41,596] Trial 186 finished with value: 0.9687973464147162 and parameters: {'solver_penalty': ('lbfgs', None), 'C': 0.539266070253406, 'tol': 0.07546427904402746, 'fit_intercept': True, 'class_weight': 'balanced', 'threshold': 0.23500000000000001}. Best is trial 46 with value: 0.9693371720545759.\n",
      "[I 2025-07-01 09:57:41,812] Trial 187 finished with value: 0.9691212330543921 and parameters: {'solver_penalty': ('lbfgs', None), 'C': 0.7926475713876953, 'tol': 0.060133995941303864, 'fit_intercept': True, 'class_weight': None, 'threshold': 0.685}. Best is trial 46 with value: 0.9693371720545759.\n",
      "[I 2025-07-01 09:57:42,223] Trial 188 finished with value: 0.9691751995872719 and parameters: {'solver_penalty': ('lbfgs', None), 'C': 0.6320700360858913, 'tol': 0.059637342683355736, 'fit_intercept': True, 'class_weight': None, 'threshold': 0.5650000000000001}. Best is trial 46 with value: 0.9693371720545759.\n",
      "[I 2025-07-01 09:57:44,311] Trial 191 finished with value: 0.9692291806938848 and parameters: {'solver_penalty': ('liblinear', 'l2'), 'C': 0.0698596056370242, 'tol': 0.07010358429627518, 'fit_intercept': True, 'class_weight': 'balanced', 'threshold': 0.592}. Best is trial 46 with value: 0.9693371720545759.\n",
      "[I 2025-07-01 09:57:44,658] Trial 190 finished with value: 0.9689053377754071 and parameters: {'solver_penalty': ('lbfgs', None), 'C': 0.3898305555064051, 'tol': 0.07583223425595415, 'fit_intercept': True, 'class_weight': None, 'threshold': 0.316}. Best is trial 46 with value: 0.9693371720545759.\n",
      "[I 2025-07-01 09:57:45,708] Trial 189 finished with value: 0.9682575207748563 and parameters: {'solver_penalty': ('newton-cg', 'l2'), 'C': 9.551927228270227, 'tol': 0.05929489198633202, 'fit_intercept': False, 'class_weight': 'balanced', 'threshold': 0.739}. Best is trial 46 with value: 0.9693371720545759.\n",
      "[I 2025-07-01 09:57:46,251] Trial 192 finished with value: 0.9689593043082869 and parameters: {'solver_penalty': ('newton-cg', 'l2'), 'C': 0.5730004975174587, 'tol': 0.07803131679583265, 'fit_intercept': False, 'class_weight': 'balanced', 'threshold': 0.40700000000000003}. Best is trial 46 with value: 0.9693371720545759.\n",
      "[I 2025-07-01 09:57:48,289] Trial 194 finished with value: 0.9691751995872719 and parameters: {'solver_penalty': ('lbfgs', None), 'C': 3.6093314221981503, 'tol': 0.05432506687942511, 'fit_intercept': True, 'class_weight': 'balanced', 'threshold': 0.529}. Best is trial 46 with value: 0.9693371720545759.\n",
      "[I 2025-07-01 09:57:48,791] Trial 196 finished with value: 0.9691212184806591 and parameters: {'solver_penalty': ('liblinear', 'l1'), 'C': 0.2801476976604803, 'tol': 0.07331641086577043, 'fit_intercept': True, 'class_weight': None, 'threshold': 0.618}. Best is trial 46 with value: 0.9693371720545759.\n",
      "[I 2025-07-01 09:57:48,794] Trial 193 finished with value: 0.9689053523491399 and parameters: {'solver_penalty': ('newton-cg', None), 'C': 1.6153726563596125, 'tol': 0.053362278121286036, 'fit_intercept': True, 'class_weight': 'balanced', 'threshold': 0.326}. Best is trial 46 with value: 0.9693371720545759.\n",
      "[I 2025-07-01 09:57:49,023] Trial 195 finished with value: 0.9689593043082869 and parameters: {'solver_penalty': ('newton-cholesky', 'l2'), 'C': 5.472108327008144, 'tol': 0.07996967375541673, 'fit_intercept': True, 'class_weight': None, 'threshold': 0.461}. Best is trial 46 with value: 0.9693371720545759.\n",
      "[I 2025-07-01 09:57:51,524] Trial 198 finished with value: 0.9689593334557527 and parameters: {'solver_penalty': ('lbfgs', 'l2'), 'C': 0.8601240783982429, 'tol': 0.049907025763813125, 'fit_intercept': True, 'class_weight': None, 'threshold': 0.263}. Best is trial 46 with value: 0.9693371720545759.\n",
      "[I 2025-07-01 09:57:52,031] Trial 197 finished with value: 0.9691751995872719 and parameters: {'solver_penalty': ('newton-cg', None), 'C': 9.603346390387777, 'tol': 0.05885884074846264, 'fit_intercept': False, 'class_weight': 'balanced', 'threshold': 0.592}. Best is trial 46 with value: 0.9693371720545759.\n",
      "[I 2025-07-01 09:57:52,243] Trial 200 finished with value: 0.969013256267434 and parameters: {'solver_penalty': ('newton-cholesky', None), 'C': 7.467010317157346, 'tol': 0.025286472691509434, 'fit_intercept': True, 'class_weight': None, 'threshold': 0.62}. Best is trial 46 with value: 0.9693371720545759.\n",
      "[I 2025-07-01 09:57:52,572] Trial 199 finished with value: 0.9692291952676175 and parameters: {'solver_penalty': ('newton-cg', 'l2'), 'C': 9.93533538218179, 'tol': 0.02998232364255378, 'fit_intercept': False, 'class_weight': 'balanced', 'threshold': 0.461}. Best is trial 46 with value: 0.9693371720545759.\n",
      "[I 2025-07-01 09:57:54,420] Trial 201 finished with value: 0.9688513129475957 and parameters: {'solver_penalty': ('liblinear', 'l2'), 'C': 9.352839844856568, 'tol': 0.039647844226034276, 'fit_intercept': False, 'class_weight': 'balanced', 'threshold': 0.716}. Best is trial 46 with value: 0.9693371720545759.\n",
      "[I 2025-07-01 09:57:55,250] Trial 202 finished with value: 0.9690132854148995 and parameters: {'solver_penalty': ('newton-cholesky', None), 'C': 3.9219888646562637, 'tol': 0.09251427230095155, 'fit_intercept': True, 'class_weight': None, 'threshold': 0.485}. Best is trial 46 with value: 0.9693371720545759.\n",
      "[I 2025-07-01 09:57:55,927] Trial 204 finished with value: 0.9686894133489563 and parameters: {'solver_penalty': ('lbfgs', None), 'C': 1.254124622692539, 'tol': 0.04034825304772901, 'fit_intercept': True, 'class_weight': None, 'threshold': 0.166}. Best is trial 46 with value: 0.9693371720545759.\n",
      "[I 2025-07-01 09:57:56,128] Trial 203 finished with value: 0.9692292098413503 and parameters: {'solver_penalty': ('newton-cg', None), 'C': 9.719229042285862, 'tol': 0.08110172753568912, 'fit_intercept': False, 'class_weight': None, 'threshold': 0.447}. Best is trial 46 with value: 0.9693371720545759.\n",
      "[I 2025-07-01 09:57:57,001] Trial 205 finished with value: 0.9689593334557527 and parameters: {'solver_penalty': ('liblinear', 'l2'), 'C': 2.865229554976958, 'tol': 0.06800449947003114, 'fit_intercept': False, 'class_weight': 'balanced', 'threshold': 0.31}. Best is trial 46 with value: 0.9693371720545759.\n",
      "[I 2025-07-01 09:57:58,316] Trial 206 finished with value: 0.9687973755621817 and parameters: {'solver_penalty': ('lbfgs', None), 'C': 0.7415367277216076, 'tol': 0.043900938846406196, 'fit_intercept': True, 'class_weight': None, 'threshold': 0.309}. Best is trial 46 with value: 0.9693371720545759.\n",
      "[I 2025-07-01 09:58:00,126] Trial 207 finished with value: 0.9689053377754071 and parameters: {'solver_penalty': ('newton-cg', 'l2'), 'C': 7.005941680817623, 'tol': 0.02030033063093429, 'fit_intercept': False, 'class_weight': 'balanced', 'threshold': 0.378}. Best is trial 46 with value: 0.9693371720545759.\n",
      "[I 2025-07-01 09:58:00,309] Trial 209 finished with value: 0.9691751995872719 and parameters: {'solver_penalty': ('newton-cg', None), 'C': 8.506836596364906, 'tol': 0.07809464883518678, 'fit_intercept': False, 'class_weight': None, 'threshold': 0.562}. Best is trial 46 with value: 0.9693371720545759.\n",
      "[I 2025-07-01 09:58:00,469] Trial 208 finished with value: 0.9689593188820197 and parameters: {'solver_penalty': ('newton-cg', 'l2'), 'C': 8.991331546313392, 'tol': 0.024425232856140653, 'fit_intercept': False, 'class_weight': 'balanced', 'threshold': 0.394}. Best is trial 46 with value: 0.9693371720545759.\n",
      "[I 2025-07-01 09:58:01,390] Trial 210 finished with value: 0.9688513566687945 and parameters: {'solver_penalty': ('newton-cg', None), 'C': 9.543699018906105, 'tol': 0.06415580586017414, 'fit_intercept': False, 'class_weight': None, 'threshold': 0.356}. Best is trial 46 with value: 0.9693371720545759.\n",
      "[I 2025-07-01 09:58:03,547] Trial 213 finished with value: 0.9691751995872719 and parameters: {'solver_penalty': ('newton-cg', 'l2'), 'C': 9.44814218697056, 'tol': 0.06240061575044942, 'fit_intercept': False, 'class_weight': None, 'threshold': 0.549}. Best is trial 46 with value: 0.9693371720545759.\n",
      "[I 2025-07-01 09:58:03,555] Trial 211 finished with value: 0.9674478041756659 and parameters: {'solver_penalty': ('newton-cholesky', None), 'C': 9.048890589675079, 'tol': 0.0638570905740021, 'fit_intercept': False, 'class_weight': 'balanced', 'threshold': 0.341}. Best is trial 46 with value: 0.9693371720545759.\n",
      "[I 2025-07-01 09:58:03,978] Trial 212 finished with value: 0.9689053232016743 and parameters: {'solver_penalty': ('newton-cg', 'l2'), 'C': 9.749702905264654, 'tol': 0.03311292557272294, 'fit_intercept': False, 'class_weight': 'balanced', 'threshold': 0.399}. Best is trial 46 with value: 0.9693371720545759.\n",
      "[I 2025-07-01 09:58:04,663] Trial 214 finished with value: 0.9691752287347377 and parameters: {'solver_penalty': ('newton-cholesky', 'l2'), 'C': 2.798496855394151, 'tol': 0.01441514737784331, 'fit_intercept': True, 'class_weight': None, 'threshold': 0.47900000000000004}. Best is trial 46 with value: 0.9693371720545759.\n",
      "[I 2025-07-01 09:58:06,693] Trial 216 finished with value: 0.9691751995872719 and parameters: {'solver_penalty': ('lbfgs', 'l2'), 'C': 4.6030332550601365, 'tol': 0.019419524816892443, 'fit_intercept': True, 'class_weight': None, 'threshold': 0.592}. Best is trial 46 with value: 0.9693371720545759.\n",
      "[I 2025-07-01 09:58:07,173] Trial 215 finished with value: 0.9691751995872719 and parameters: {'solver_penalty': ('lbfgs', 'l2'), 'C': 3.0402620711806962, 'tol': 0.06902274433367019, 'fit_intercept': False, 'class_weight': 'balanced', 'threshold': 0.549}. Best is trial 46 with value: 0.9693371720545759.\n",
      "[I 2025-07-01 09:58:07,175] Trial 217 finished with value: 0.9692831909479629 and parameters: {'solver_penalty': ('lbfgs', None), 'C': 7.798570210223956, 'tol': 0.07216843761389562, 'fit_intercept': False, 'class_weight': None, 'threshold': 0.435}. Best is trial 46 with value: 0.9693371720545759.\n",
      "[I 2025-07-01 09:58:09,796] Trial 218 finished with value: 0.9690672519477795 and parameters: {'solver_penalty': ('newton-cg', None), 'C': 0.6159433063575017, 'tol': 0.07180001476961735, 'fit_intercept': True, 'class_weight': 'balanced', 'threshold': 0.646}. Best is trial 46 with value: 0.9693371720545759.\n",
      "[I 2025-07-01 09:58:09,826] Trial 220 finished with value: 0.9688513566687945 and parameters: {'solver_penalty': ('lbfgs', None), 'C': 8.967619180183563, 'tol': 0.06577166339428478, 'fit_intercept': False, 'class_weight': None, 'threshold': 0.304}. Best is trial 46 with value: 0.9693371720545759.\n",
      "[I 2025-07-01 09:58:10,018] Trial 221 finished with value: 0.9689593334557527 and parameters: {'solver_penalty': ('lbfgs', None), 'C': 7.825231995819352, 'tol': 0.06177415772964481, 'fit_intercept': False, 'class_weight': None, 'threshold': 0.23700000000000002}. Best is trial 46 with value: 0.9693371720545759.\n",
      "[I 2025-07-01 09:58:10,793] Trial 219 finished with value: 0.9691751995872719 and parameters: {'solver_penalty': ('lbfgs', 'l2'), 'C': 9.943434363313841, 'tol': 0.02403607770570952, 'fit_intercept': False, 'class_weight': 'balanced', 'threshold': 0.559}. Best is trial 46 with value: 0.9693371720545759.\n",
      "[I 2025-07-01 09:58:12,406] Trial 223 finished with value: 0.969013256267434 and parameters: {'solver_penalty': ('liblinear', 'l2'), 'C': 9.851223658485512, 'tol': 0.061846895783982885, 'fit_intercept': False, 'class_weight': None, 'threshold': 0.67}. Best is trial 46 with value: 0.9693371720545759.\n",
      "[I 2025-07-01 09:58:12,785] Trial 222 finished with value: 0.9691752287347377 and parameters: {'solver_penalty': ('lbfgs', None), 'C': 6.932420119687907, 'tol': 0.07901576568062102, 'fit_intercept': False, 'class_weight': None, 'threshold': 0.402}. Best is trial 46 with value: 0.9693371720545759.\n",
      "[I 2025-07-01 09:58:14,060] Trial 224 finished with value: 0.9689593334557527 and parameters: {'solver_penalty': ('newton-cg', None), 'C': 7.962121063957669, 'tol': 0.08846877786097714, 'fit_intercept': False, 'class_weight': None, 'threshold': 0.292}. Best is trial 46 with value: 0.9693371720545759.\n",
      "[I 2025-07-01 09:58:14,219] Trial 225 finished with value: 0.9691751995872719 and parameters: {'solver_penalty': ('lbfgs', None), 'C': 6.8103239083999165, 'tol': 0.05779693770987747, 'fit_intercept': False, 'class_weight': None, 'threshold': 0.5670000000000001}. Best is trial 46 with value: 0.9693371720545759.\n",
      "[I 2025-07-01 09:58:16,267] Trial 226 finished with value: 0.9691751995872719 and parameters: {'solver_penalty': ('newton-cg', 'l2'), 'C': 0.16270085093847803, 'tol': 0.06954574599347452, 'fit_intercept': True, 'class_weight': None, 'threshold': 0.549}. Best is trial 46 with value: 0.9693371720545759.\n",
      "[I 2025-07-01 09:58:16,814] Trial 227 finished with value: 0.9691212184806594 and parameters: {'solver_penalty': ('newton-cg', 'l2'), 'C': 9.443905874186541, 'tol': 0.07186121738392408, 'fit_intercept': True, 'class_weight': 'balanced', 'threshold': 0.617}. Best is trial 46 with value: 0.9693371720545759.\n",
      "[I 2025-07-01 09:58:17,499] Trial 228 finished with value: 0.9691751995872719 and parameters: {'solver_penalty': ('newton-cg', 'l2'), 'C': 0.2692604297419233, 'tol': 0.0809420618400372, 'fit_intercept': True, 'class_weight': None, 'threshold': 0.501}. Best is trial 46 with value: 0.9693371720545759.\n",
      "[I 2025-07-01 09:58:18,026] Trial 229 finished with value: 0.9690672373740465 and parameters: {'solver_penalty': ('newton-cg', 'l2'), 'C': 9.69678559269626, 'tol': 0.024748728869685245, 'fit_intercept': False, 'class_weight': 'balanced', 'threshold': 0.672}. Best is trial 46 with value: 0.9693371720545759.\n",
      "[I 2025-07-01 09:58:19,345] Trial 231 finished with value: 0.9691751995872719 and parameters: {'solver_penalty': ('liblinear', 'l1'), 'C': 8.947395220358302, 'tol': 0.07160972055601116, 'fit_intercept': False, 'class_weight': None, 'threshold': 0.585}. Best is trial 46 with value: 0.9693371720545759.\n",
      "[I 2025-07-01 09:58:20,052] Trial 232 finished with value: 0.9691752141610049 and parameters: {'solver_penalty': ('liblinear', 'l1'), 'C': 9.406602746048284, 'tol': 0.08715666589459821, 'fit_intercept': False, 'class_weight': None, 'threshold': 0.557}. Best is trial 46 with value: 0.9693371720545759.\n",
      "[I 2025-07-01 09:58:20,624] Trial 230 finished with value: 0.9689593043082869 and parameters: {'solver_penalty': ('newton-cg', None), 'C': 7.911943380509771, 'tol': 0.044867530113863026, 'fit_intercept': False, 'class_weight': 'balanced', 'threshold': 0.406}. Best is trial 46 with value: 0.9693371720545759.\n",
      "[I 2025-07-01 09:58:21,162] Trial 233 finished with value: 0.9691212330543921 and parameters: {'solver_penalty': ('lbfgs', None), 'C': 6.2743722342816435, 'tol': 0.06507677217661806, 'fit_intercept': True, 'class_weight': None, 'threshold': 0.651}. Best is trial 46 with value: 0.9693371720545759.\n",
      "[I 2025-07-01 09:58:22,331] Trial 234 finished with value: 0.9689053232016743 and parameters: {'solver_penalty': ('lbfgs', None), 'C': 1.1731043746486363, 'tol': 0.03984933701457251, 'fit_intercept': False, 'class_weight': None, 'threshold': 0.38}. Best is trial 46 with value: 0.9693371720545759.\n",
      "[I 2025-07-01 09:58:23,858] Trial 236 finished with value: 0.9686353739474122 and parameters: {'solver_penalty': ('newton-cholesky', None), 'C': 5.9493463682387535, 'tol': 0.059870886356088504, 'fit_intercept': True, 'class_weight': None, 'threshold': 0.741}. Best is trial 46 with value: 0.9693371720545759.\n",
      "[I 2025-07-01 09:58:24,081] Trial 237 finished with value: 0.9691751995872719 and parameters: {'solver_penalty': ('lbfgs', None), 'C': 7.950258963377096, 'tol': 0.0825582686173381, 'fit_intercept': False, 'class_weight': 'balanced', 'threshold': 0.494}. Best is trial 46 with value: 0.9693371720545759.\n",
      "[I 2025-07-01 09:58:25,270] Trial 238 finished with value: 0.9691751995872719 and parameters: {'solver_penalty': ('newton-cg', 'l2'), 'C': 0.32675693347195733, 'tol': 0.059598581324055495, 'fit_intercept': True, 'class_weight': None, 'threshold': 0.509}. Best is trial 46 with value: 0.9693371720545759.\n",
      "[I 2025-07-01 09:58:26,795] Trial 239 finished with value: 0.9691751995872719 and parameters: {'solver_penalty': ('newton-cg', 'l2'), 'C': 1.6138486123708455, 'tol': 0.05025771341871332, 'fit_intercept': True, 'class_weight': None, 'threshold': 0.54}. Best is trial 46 with value: 0.9693371720545759.\n",
      "[I 2025-07-01 09:58:27,280] Trial 235 finished with value: 0.9687974047096475 and parameters: {'solver_penalty': ('newton-cg', 'l2'), 'C': 9.275555788074513, 'tol': 0.004000501361396885, 'fit_intercept': True, 'class_weight': 'balanced', 'threshold': 0.41500000000000004}. Best is trial 46 with value: 0.9693371720545759.\n",
      "[I 2025-07-01 09:58:27,289] Trial 240 finished with value: 0.9691751995872719 and parameters: {'solver_penalty': ('newton-cg', 'l2'), 'C': 2.7019113131267574, 'tol': 0.04236162758580639, 'fit_intercept': True, 'class_weight': None, 'threshold': 0.5640000000000001}. Best is trial 46 with value: 0.9693371720545759.\n",
      "[I 2025-07-01 09:58:28,044] Trial 241 finished with value: 0.9687973318409832 and parameters: {'solver_penalty': ('lbfgs', 'l2'), 'C': 7.189836480225763, 'tol': 0.0761492197361677, 'fit_intercept': False, 'class_weight': 'balanced', 'threshold': 0.6880000000000001}. Best is trial 46 with value: 0.9693371720545759.\n",
      "[I 2025-07-01 09:58:29,546] Trial 243 finished with value: 0.9692291806938848 and parameters: {'solver_penalty': ('liblinear', 'l2'), 'C': 0.0013882012195858828, 'tol': 0.08026468632515209, 'fit_intercept': True, 'class_weight': 'balanced', 'threshold': 0.59}. Best is trial 46 with value: 0.9693371720545759.\n",
      "[I 2025-07-01 09:58:30,734] Trial 242 finished with value: 0.9691752287347377 and parameters: {'solver_penalty': ('newton-cg', None), 'C': 1.0500890262906803, 'tol': 0.03930725259947534, 'fit_intercept': True, 'class_weight': None, 'threshold': 0.425}. Best is trial 46 with value: 0.9693371720545759.\n",
      "[I 2025-07-01 09:58:31,257] Trial 244 finished with value: 0.9689053377754071 and parameters: {'solver_penalty': ('newton-cg', None), 'C': 9.5239629717798, 'tol': 0.06361383354644509, 'fit_intercept': False, 'class_weight': 'balanced', 'threshold': 0.37}. Best is trial 46 with value: 0.9693371720545759.\n",
      "[I 2025-07-01 09:58:31,626] Trial 245 finished with value: 0.9691751995872719 and parameters: {'solver_penalty': ('newton-cg', None), 'C': 9.466316383346818, 'tol': 0.09331698036587417, 'fit_intercept': False, 'class_weight': None, 'threshold': 0.557}. Best is trial 46 with value: 0.9693371720545759.\n",
      "[I 2025-07-01 09:58:32,323] Trial 246 finished with value: 0.9692291806938848 and parameters: {'solver_penalty': ('lbfgs', 'l2'), 'C': 9.930805232843998, 'tol': 0.06826574289642383, 'fit_intercept': True, 'class_weight': None, 'threshold': 0.51}. Best is trial 46 with value: 0.9693371720545759.\n",
      "[I 2025-07-01 09:58:34,361] Trial 247 finished with value: 0.9690673102427109 and parameters: {'solver_penalty': ('newton-cholesky', 'l2'), 'C': 1.7682942247846536, 'tol': 0.05143283464740574, 'fit_intercept': True, 'class_weight': 'balanced', 'threshold': 0.503}. Best is trial 46 with value: 0.9693371720545759.\n",
      "[I 2025-07-01 09:58:34,557] Trial 249 finished with value: 0.9691752287347377 and parameters: {'solver_penalty': ('newton-cholesky', 'l2'), 'C': 7.750163656833002, 'tol': 0.027954649203737927, 'fit_intercept': False, 'class_weight': None, 'threshold': 0.516}. Best is trial 46 with value: 0.9693371720545759.\n",
      "[I 2025-07-01 09:58:35,433] Trial 248 finished with value: 0.9689593043082869 and parameters: {'solver_penalty': ('newton-cg', 'l2'), 'C': 0.2867195755197087, 'tol': 0.0768074950106627, 'fit_intercept': True, 'class_weight': 'balanced', 'threshold': 0.40900000000000003}. Best is trial 46 with value: 0.9693371720545759.\n",
      "[I 2025-07-01 09:58:36,438] Trial 250 finished with value: 0.9689053232016743 and parameters: {'solver_penalty': ('newton-cg', 'l2'), 'C': 3.3582968857834734, 'tol': 0.005201626932302233, 'fit_intercept': True, 'class_weight': None, 'threshold': 0.386}. Best is trial 46 with value: 0.9693371720545759.\n",
      "[I 2025-07-01 09:58:37,261] Trial 252 finished with value: 0.9690672519477795 and parameters: {'solver_penalty': ('lbfgs', None), 'C': 9.886448398022484, 'tol': 0.07530049428884099, 'fit_intercept': False, 'class_weight': None, 'threshold': 0.6900000000000001}. Best is trial 46 with value: 0.9693371720545759.\n",
      "[I 2025-07-01 09:58:37,273] Trial 251 finished with value: 0.9689053377754071 and parameters: {'solver_penalty': ('lbfgs', None), 'C': 4.024909907290782, 'tol': 0.06749866790706267, 'fit_intercept': True, 'class_weight': None, 'threshold': 0.324}. Best is trial 46 with value: 0.9693371720545759.\n",
      "[I 2025-07-01 09:58:39,280] Trial 253 finished with value: 0.9691212184806594 and parameters: {'solver_penalty': ('newton-cholesky', 'l2'), 'C': 6.00953448404912, 'tol': 0.058614642053883975, 'fit_intercept': True, 'class_weight': None, 'threshold': 0.626}. Best is trial 46 with value: 0.9693371720545759.\n",
      "[I 2025-07-01 09:58:39,763] Trial 254 finished with value: 0.9692831763742303 and parameters: {'solver_penalty': ('liblinear', 'l1'), 'C': 0.8261331494823065, 'tol': 0.04366589264089776, 'fit_intercept': True, 'class_weight': 'balanced', 'threshold': 0.736}. Best is trial 46 with value: 0.9693371720545759.\n",
      "[I 2025-07-01 09:58:39,973] Trial 255 finished with value: 0.9691752141610047 and parameters: {'solver_penalty': ('liblinear', 'l1'), 'C': 9.631452787852322, 'tol': 0.04976110804696442, 'fit_intercept': False, 'class_weight': None, 'threshold': 0.429}. Best is trial 46 with value: 0.9693371720545759.\n",
      "[I 2025-07-01 09:58:42,126] Trial 256 finished with value: 0.9687973172672502 and parameters: {'solver_penalty': ('newton-cholesky', None), 'C': 0.1603347386305103, 'tol': 0.009611333945576717, 'fit_intercept': True, 'class_weight': None, 'threshold': 0.729}. Best is trial 46 with value: 0.9693371720545759.\n",
      "[I 2025-07-01 09:58:42,645] Trial 257 finished with value: 0.9674476730120698 and parameters: {'solver_penalty': ('liblinear', 'l1'), 'C': 2.0596161237877557, 'tol': 0.08618330122192015, 'fit_intercept': True, 'class_weight': 'balanced', 'threshold': 0.278}. Best is trial 46 with value: 0.9693371720545759.\n",
      "[I 2025-07-01 09:58:43,010] Trial 258 finished with value: 0.9690672373740465 and parameters: {'solver_penalty': ('liblinear', 'l1'), 'C': 2.223740732166034, 'tol': 0.042422013127898894, 'fit_intercept': True, 'class_weight': 'balanced', 'threshold': 0.838}. Best is trial 46 with value: 0.9693371720545759.\n",
      "[I 2025-07-01 09:58:43,018] Trial 259 finished with value: 0.9689053523491399 and parameters: {'solver_penalty': ('liblinear', 'l1'), 'C': 1.7869480166248526, 'tol': 0.04570321559082218, 'fit_intercept': True, 'class_weight': 'balanced', 'threshold': 0.462}. Best is trial 46 with value: 0.9693371720545759.\n",
      "[I 2025-07-01 09:58:44,779] Trial 260 finished with value: 0.9685274263079198 and parameters: {'solver_penalty': ('liblinear', 'l1'), 'C': 0.09690158765543011, 'tol': 0.016578454529098362, 'fit_intercept': True, 'class_weight': 'balanced', 'threshold': 0.388}. Best is trial 46 with value: 0.9693371720545759.\n",
      "[I 2025-07-01 09:58:46,362] Trial 263 finished with value: 0.9689053523491399 and parameters: {'solver_penalty': ('lbfgs', 'l2'), 'C': 2.8310268533083454, 'tol': 0.0804665916328981, 'fit_intercept': False, 'class_weight': 'balanced', 'threshold': 0.34}. Best is trial 46 with value: 0.9693371720545759.\n",
      "[I 2025-07-01 09:58:46,374] Trial 261 finished with value: 0.9688513566687945 and parameters: {'solver_penalty': ('newton-cg', None), 'C': 7.712141106283217, 'tol': 0.08500535474717835, 'fit_intercept': True, 'class_weight': None, 'threshold': 0.326}. Best is trial 46 with value: 0.9693371720545759.\n",
      "[I 2025-07-01 09:58:47,737] Trial 262 finished with value: 0.9689053377754071 and parameters: {'solver_penalty': ('newton-cg', None), 'C': 3.42783320701927, 'tol': 0.07567560307085625, 'fit_intercept': True, 'class_weight': 'balanced', 'threshold': 0.37}. Best is trial 46 with value: 0.9693371720545759.\n",
      "[I 2025-07-01 09:58:48,106] Trial 264 finished with value: 0.9691212184806594 and parameters: {'solver_penalty': ('newton-cholesky', 'l2'), 'C': 6.004963622136178, 'tol': 0.09419255790389733, 'fit_intercept': True, 'class_weight': None, 'threshold': 0.629}. Best is trial 46 with value: 0.9693371720545759.\n",
      "[I 2025-07-01 09:58:48,797] Trial 266 finished with value: 0.9690133145623653 and parameters: {'solver_penalty': ('liblinear', 'l1'), 'C': 4.037722606948791, 'tol': 0.008402782610673728, 'fit_intercept': True, 'class_weight': None, 'threshold': 0.305}. Best is trial 46 with value: 0.9693371720545759.\n",
      "[I 2025-07-01 09:58:50,153] Trial 265 finished with value: 0.9687973755621817 and parameters: {'solver_penalty': ('lbfgs', 'l2'), 'C': 1.1235692077962969, 'tol': 0.09082308270878656, 'fit_intercept': True, 'class_weight': 'balanced', 'threshold': 0.386}. Best is trial 46 with value: 0.9693371720545759.\n",
      "[I 2025-07-01 09:58:50,503] Trial 267 finished with value: 0.969013256267434 and parameters: {'solver_penalty': ('liblinear', 'l2'), 'C': 6.65713824508865, 'tol': 0.006393600704940508, 'fit_intercept': True, 'class_weight': None, 'threshold': 0.686}. Best is trial 46 with value: 0.9693371720545759.\n",
      "[I 2025-07-01 09:58:52,423] Trial 269 finished with value: 0.9690132854148995 and parameters: {'solver_penalty': ('newton-cholesky', None), 'C': 6.495431621855695, 'tol': 0.05103889835763363, 'fit_intercept': True, 'class_weight': None, 'threshold': 0.489}. Best is trial 46 with value: 0.9693371720545759.\n",
      "[I 2025-07-01 09:58:52,769] Trial 268 finished with value: 0.9689592605870884 and parameters: {'solver_penalty': ('newton-cg', None), 'C': 5.8195205309129125, 'tol': 0.09673398553193746, 'fit_intercept': True, 'class_weight': None, 'threshold': 0.683}. Best is trial 46 with value: 0.9693371720545759.\n",
      "[I 2025-07-01 09:58:53,189] Trial 271 finished with value: 0.9692831763742303 and parameters: {'solver_penalty': ('liblinear', 'l1'), 'C': 0.7810972784636682, 'tol': 0.014973345704416417, 'fit_intercept': True, 'class_weight': 'balanced', 'threshold': 0.751}. Best is trial 46 with value: 0.9693371720545759.\n",
      "[I 2025-07-01 09:58:54,629] Trial 270 finished with value: 0.9692831909479629 and parameters: {'solver_penalty': ('lbfgs', None), 'C': 7.253250429968654, 'tol': 0.02927706077924984, 'fit_intercept': False, 'class_weight': 'balanced', 'threshold': 0.461}. Best is trial 46 with value: 0.9693371720545759.\n",
      "[I 2025-07-01 09:58:55,310] Trial 272 finished with value: 0.9691212330543921 and parameters: {'solver_penalty': ('liblinear', 'l2'), 'C': 1.5760432322651052, 'tol': 0.053173773732562817, 'fit_intercept': True, 'class_weight': None, 'threshold': 0.639}. Best is trial 46 with value: 0.9693371720545759.\n",
      "[I 2025-07-01 09:58:56,198] Trial 274 finished with value: 0.9689053377754071 and parameters: {'solver_penalty': ('lbfgs', 'l2'), 'C': 9.584775433792684, 'tol': 0.08574704582705674, 'fit_intercept': False, 'class_weight': None, 'threshold': 0.34}. Best is trial 46 with value: 0.9693371720545759.\n",
      "[I 2025-07-01 09:58:56,817] Trial 273 finished with value: 0.9691751995872719 and parameters: {'solver_penalty': ('newton-cholesky', None), 'C': 1.7974740626521084, 'tol': 0.04345233275034623, 'fit_intercept': True, 'class_weight': 'balanced', 'threshold': 0.756}. Best is trial 46 with value: 0.9693371720545759.\n",
      "[I 2025-07-01 09:58:59,301] Trial 275 finished with value: 0.9690672373740465 and parameters: {'solver_penalty': ('lbfgs', 'l2'), 'C': 1.0298406730280227, 'tol': 0.03905870830209607, 'fit_intercept': True, 'class_weight': 'balanced', 'threshold': 0.71}. Best is trial 46 with value: 0.9693371720545759.\n",
      "[I 2025-07-01 09:58:59,665] Trial 276 finished with value: 0.9691751995872719 and parameters: {'solver_penalty': ('lbfgs', None), 'C': 7.9281231114048065, 'tol': 0.01852998533700121, 'fit_intercept': False, 'class_weight': 'balanced', 'threshold': 0.489}. Best is trial 46 with value: 0.9693371720545759.\n",
      "[I 2025-07-01 09:58:59,852] Trial 278 finished with value: 0.9691212330543921 and parameters: {'solver_penalty': ('liblinear', 'l1'), 'C': 0.24458124521864166, 'tol': 0.02681582470203033, 'fit_intercept': True, 'class_weight': 'balanced', 'threshold': 0.6980000000000001}. Best is trial 46 with value: 0.9693371720545759.\n",
      "[I 2025-07-01 09:59:00,122] Trial 277 finished with value: 0.9691751995872719 and parameters: {'solver_penalty': ('lbfgs', None), 'C': 7.55170377499994, 'tol': 0.025085291325878036, 'fit_intercept': False, 'class_weight': 'balanced', 'threshold': 0.503}. Best is trial 46 with value: 0.9693371720545759.\n",
      "[I 2025-07-01 09:59:02,584] Trial 279 finished with value: 0.9692291952676175 and parameters: {'solver_penalty': ('liblinear', 'l1'), 'C': 0.6351175068590463, 'tol': 0.029901088351896532, 'fit_intercept': True, 'class_weight': 'balanced', 'threshold': 0.726}. Best is trial 46 with value: 0.9693371720545759.\n",
      "[I 2025-07-01 09:59:02,599] Trial 280 finished with value: 0.9689053086279413 and parameters: {'solver_penalty': ('liblinear', 'l1'), 'C': 2.6593833747556563, 'tol': 0.019821156804865646, 'fit_intercept': True, 'class_weight': 'balanced', 'threshold': 0.628}. Best is trial 46 with value: 0.9693371720545759.\n",
      "[I 2025-07-01 09:59:02,984] Trial 281 finished with value: 0.9561111596902206 and parameters: {'solver_penalty': ('liblinear', 'l1'), 'C': 2.3410750712314092, 'tol': 0.016872269472952128, 'fit_intercept': True, 'class_weight': 'balanced', 'threshold': 0.962}. Best is trial 46 with value: 0.9693371720545759.\n",
      "[I 2025-07-01 09:59:05,459] Trial 284 finished with value: 0.9675017707085457 and parameters: {'solver_penalty': ('liblinear', 'l1'), 'C': 0.8343556793323345, 'tol': 0.017297950379817077, 'fit_intercept': True, 'class_weight': 'balanced', 'threshold': 0.896}. Best is trial 46 with value: 0.9693371720545759.\n",
      "[I 2025-07-01 09:59:05,488] Trial 282 finished with value: 0.9689053523491399 and parameters: {'solver_penalty': ('newton-cholesky', 'l2'), 'C': 0.8991782643987669, 'tol': 0.008739421393343556, 'fit_intercept': True, 'class_weight': 'balanced', 'threshold': 0.584}. Best is trial 46 with value: 0.9693371720545759.\n",
      "[I 2025-07-01 09:59:05,858] Trial 285 finished with value: 0.9692292098413503 and parameters: {'solver_penalty': ('liblinear', 'l2'), 'C': 8.77113772001049, 'tol': 0.05868704187270149, 'fit_intercept': False, 'class_weight': 'balanced', 'threshold': 0.447}. Best is trial 46 with value: 0.9693371720545759.\n",
      "[I 2025-07-01 09:59:06,087] Trial 283 finished with value: 0.9692831763742303 and parameters: {'solver_penalty': ('newton-cholesky', None), 'C': 3.4694011534596907, 'tol': 0.004801821202829987, 'fit_intercept': False, 'class_weight': None, 'threshold': 0.544}. Best is trial 46 with value: 0.9693371720545759.\n",
      "[I 2025-07-01 09:59:08,359] Trial 287 finished with value: 0.9603218025958732 and parameters: {'solver_penalty': ('liblinear', 'l1'), 'C': 1.2474993624424475, 'tol': 0.028288885875346677, 'fit_intercept': False, 'class_weight': 'balanced', 'threshold': 0.861}. Best is trial 46 with value: 0.9693371720545759.\n",
      "[I 2025-07-01 09:59:08,883] Trial 288 finished with value: 0.9691752141610049 and parameters: {'solver_penalty': ('liblinear', 'l1'), 'C': 0.27378186543846794, 'tol': 0.053367092982930214, 'fit_intercept': True, 'class_weight': 'balanced', 'threshold': 0.666}. Best is trial 46 with value: 0.9693371720545759.\n",
      "[I 2025-07-01 09:59:09,414] Trial 286 finished with value: 0.9690133145623653 and parameters: {'solver_penalty': ('newton-cholesky', None), 'C': 0.6226825980654618, 'tol': 0.06129638479325447, 'fit_intercept': True, 'class_weight': None, 'threshold': 0.391}. Best is trial 46 with value: 0.9693371720545759.\n",
      "[I 2025-07-01 09:59:09,426] Trial 289 finished with value: 0.9690672373740465 and parameters: {'solver_penalty': ('liblinear', 'l2'), 'C': 4.007129677226268, 'tol': 0.01921449243348808, 'fit_intercept': False, 'class_weight': 'balanced', 'threshold': 0.601}. Best is trial 46 with value: 0.9693371720545759.\n",
      "[I 2025-07-01 09:59:11,628] Trial 291 finished with value: 0.9691752141610049 and parameters: {'solver_penalty': ('liblinear', 'l2'), 'C': 8.587071343827592, 'tol': 0.05118955201563329, 'fit_intercept': False, 'class_weight': 'balanced', 'threshold': 0.47900000000000004}. Best is trial 46 with value: 0.9693371720545759.\n",
      "[I 2025-07-01 09:59:12,321] Trial 293 finished with value: 0.9692291952676175 and parameters: {'solver_penalty': ('liblinear', 'l2'), 'C': 7.3105717117288425, 'tol': 0.0679157435421071, 'fit_intercept': False, 'class_weight': 'balanced', 'threshold': 0.467}. Best is trial 46 with value: 0.9693371720545759.\n",
      "[I 2025-07-01 09:59:12,505] Trial 290 finished with value: 0.9691752287347377 and parameters: {'solver_penalty': ('newton-cholesky', None), 'C': 1.8655600639801944, 'tol': 0.023877100942623943, 'fit_intercept': False, 'class_weight': None, 'threshold': 0.47900000000000004}. Best is trial 46 with value: 0.9693371720545759.\n",
      "[I 2025-07-01 09:59:13,597] Trial 292 finished with value: 0.9677177097087293 and parameters: {'solver_penalty': ('newton-cholesky', None), 'C': 4.5572477604432695, 'tol': 0.007610790394639182, 'fit_intercept': False, 'class_weight': 'balanced', 'threshold': 0.375}. Best is trial 46 with value: 0.9693371720545759.\n",
      "[I 2025-07-01 09:59:15,188] Trial 294 finished with value: 0.969013256267434 and parameters: {'solver_penalty': ('newton-cholesky', None), 'C': 3.5560627305393067, 'tol': 0.006271064243955649, 'fit_intercept': False, 'class_weight': None, 'threshold': 0.64}. Best is trial 46 with value: 0.9693371720545759.\n",
      "[I 2025-07-01 09:59:15,758] Trial 296 finished with value: 0.9691751995872719 and parameters: {'solver_penalty': ('newton-cholesky', None), 'C': 3.56832397916131, 'tol': 0.005221250223498362, 'fit_intercept': False, 'class_weight': None, 'threshold': 0.617}. Best is trial 46 with value: 0.9693371720545759.\n",
      "[I 2025-07-01 09:59:16,154] Trial 295 finished with value: 0.9653423952804424 and parameters: {'solver_penalty': ('lbfgs', None), 'C': 0.600027789133561, 'tol': 0.03743287840811945, 'fit_intercept': True, 'class_weight': 'balanced', 'threshold': 0.85}. Best is trial 46 with value: 0.9693371720545759.\n",
      "[I 2025-07-01 09:59:18,017] Trial 298 finished with value: 0.9689053523491399 and parameters: {'solver_penalty': ('liblinear', 'l2'), 'C': 7.38734300664585, 'tol': 0.07674089835714237, 'fit_intercept': False, 'class_weight': None, 'threshold': 0.319}. Best is trial 46 with value: 0.9693371720545759.\n",
      "[I 2025-07-01 09:59:18,778] Trial 297 finished with value: 0.9691212330543921 and parameters: {'solver_penalty': ('newton-cg', 'l2'), 'C': 0.4032074450453816, 'tol': 0.05506699450051992, 'fit_intercept': True, 'class_weight': 'balanced', 'threshold': 0.628}. Best is trial 46 with value: 0.9693371720545759.\n",
      "[I 2025-07-01 09:59:18,809] Trial 300 finished with value: 0.9651804082394057 and parameters: {'solver_penalty': ('liblinear', 'l1'), 'C': 0.5262067852115115, 'tol': 0.05254806925820314, 'fit_intercept': True, 'class_weight': 'balanced', 'threshold': 0.909}. Best is trial 46 with value: 0.9693371720545759.\n",
      "[I 2025-07-01 09:59:21,354] Trial 301 finished with value: 0.9691751995872719 and parameters: {'solver_penalty': ('liblinear', 'l2'), 'C': 9.762426002524691, 'tol': 0.05700967994850167, 'fit_intercept': False, 'class_weight': 'balanced', 'threshold': 0.502}. Best is trial 46 with value: 0.9693371720545759.\n",
      "[I 2025-07-01 09:59:21,759] Trial 299 finished with value: 0.9692291806938848 and parameters: {'solver_penalty': ('lbfgs', None), 'C': 1.9684851229269884, 'tol': 0.013563766162819606, 'fit_intercept': True, 'class_weight': 'balanced', 'threshold': 0.724}. Best is trial 46 with value: 0.9693371720545759.\n",
      "[I 2025-07-01 09:59:21,776] Trial 303 finished with value: 0.9691212330543921 and parameters: {'solver_penalty': ('liblinear', 'l1'), 'C': 0.8623747232521107, 'tol': 0.004119004860237269, 'fit_intercept': True, 'class_weight': 'balanced', 'threshold': 0.6940000000000001}. Best is trial 46 with value: 0.9693371720545759.\n",
      "[I 2025-07-01 09:59:22,391] Trial 302 finished with value: 0.9691751995872719 and parameters: {'solver_penalty': ('lbfgs', 'l2'), 'C': 0.41454629969983325, 'tol': 0.09222595466779326, 'fit_intercept': False, 'class_weight': 'balanced', 'threshold': 0.501}. Best is trial 46 with value: 0.9693371720545759.\n",
      "[I 2025-07-01 09:59:24,721] Trial 304 finished with value: 0.9691751995872719 and parameters: {'solver_penalty': ('lbfgs', None), 'C': 6.901632524514986, 'tol': 0.05573375265035129, 'fit_intercept': False, 'class_weight': 'balanced', 'threshold': 0.506}. Best is trial 46 with value: 0.9693371720545759.\n",
      "[I 2025-07-01 09:59:25,093] Trial 305 finished with value: 0.9689593334557527 and parameters: {'solver_penalty': ('lbfgs', None), 'C': 5.351684294509006, 'tol': 0.04497585631556462, 'fit_intercept': False, 'class_weight': 'balanced', 'threshold': 0.276}. Best is trial 46 with value: 0.9693371720545759.\n",
      "[I 2025-07-01 09:59:26,080] Trial 306 finished with value: 0.9689593334557527 and parameters: {'solver_penalty': ('newton-cg', 'l2'), 'C': 0.5888243425848899, 'tol': 0.021531823390861148, 'fit_intercept': False, 'class_weight': 'balanced', 'threshold': 0.232}. Best is trial 46 with value: 0.9693371720545759.\n",
      "[I 2025-07-01 09:59:28,001] Trial 308 finished with value: 0.9691752287347377 and parameters: {'solver_penalty': ('lbfgs', None), 'C': 9.398440020100043, 'tol': 0.05449254345633704, 'fit_intercept': True, 'class_weight': None, 'threshold': 0.405}. Best is trial 46 with value: 0.9693371720545759.\n",
      "[I 2025-07-01 09:59:28,181] Trial 307 finished with value: 0.9690672373740465 and parameters: {'solver_penalty': ('lbfgs', None), 'C': 4.319318183715616, 'tol': 0.0006021162900330234, 'fit_intercept': True, 'class_weight': None, 'threshold': 0.605}. Best is trial 46 with value: 0.9693371720545759.\n",
      "[I 2025-07-01 09:59:28,901] Trial 309 finished with value: 0.9689593188820197 and parameters: {'solver_penalty': ('newton-cg', None), 'C': 1.2052886842832304, 'tol': 0.07031144943628781, 'fit_intercept': True, 'class_weight': 'balanced', 'threshold': 0.401}. Best is trial 46 with value: 0.9693371720545759.\n",
      "[I 2025-07-01 09:59:28,914] Trial 310 finished with value: 0.9687433361606376 and parameters: {'solver_penalty': ('newton-cholesky', 'l2'), 'C': 7.652901160669067, 'tol': 0.06153365400890299, 'fit_intercept': False, 'class_weight': None, 'threshold': 0.728}. Best is trial 46 with value: 0.9693371720545759.\n",
      "[I 2025-07-01 09:59:31,106] Trial 311 finished with value: 0.9679336195614472 and parameters: {'solver_penalty': ('newton-cholesky', 'l2'), 'C': 3.2459389129831577, 'tol': 0.007048754130866315, 'fit_intercept': False, 'class_weight': None, 'threshold': 0.163}. Best is trial 46 with value: 0.9693371720545759.\n",
      "[I 2025-07-01 09:59:31,628] Trial 312 finished with value: 0.9627510835570401 and parameters: {'solver_penalty': ('newton-cg', None), 'C': 1.5237062709583487, 'tol': 0.026469545632518802, 'fit_intercept': False, 'class_weight': None, 'threshold': 0.878}. Best is trial 46 with value: 0.9693371720545759.\n",
      "[I 2025-07-01 09:59:32,169] Trial 313 finished with value: 0.9690672519477795 and parameters: {'solver_penalty': ('newton-cg', 'l2'), 'C': 1.7477597663866633, 'tol': 0.011781161309898168, 'fit_intercept': False, 'class_weight': None, 'threshold': 0.65}. Best is trial 46 with value: 0.9693371720545759.\n",
      "[I 2025-07-01 09:59:33,495] Trial 315 finished with value: 0.9691212184806591 and parameters: {'solver_penalty': ('liblinear', 'l1'), 'C': 5.814092298132664, 'tol': 0.08685336288240796, 'fit_intercept': True, 'class_weight': None, 'threshold': 0.626}. Best is trial 46 with value: 0.9693371720545759.\n",
      "[I 2025-07-01 09:59:34,208] Trial 316 finished with value: 0.9691751995872719 and parameters: {'solver_penalty': ('lbfgs', 'l2'), 'C': 5.798430201627775, 'tol': 0.0717703282938946, 'fit_intercept': True, 'class_weight': None, 'threshold': 0.559}. Best is trial 46 with value: 0.9693371720545759.\n",
      "[I 2025-07-01 09:59:34,724] Trial 314 finished with value: 0.9692832055216961 and parameters: {'solver_penalty': ('newton-cg', None), 'C': 1.6073444972707476, 'tol': 0.02104908660483333, 'fit_intercept': True, 'class_weight': 'balanced', 'threshold': 0.591}. Best is trial 46 with value: 0.9693371720545759.\n",
      "[I 2025-07-01 09:59:35,408] Trial 317 finished with value: 0.9690133291360983 and parameters: {'solver_penalty': ('newton-cholesky', None), 'C': 8.298951620054616, 'tol': 0.07065945131011302, 'fit_intercept': False, 'class_weight': None, 'threshold': 0.342}. Best is trial 46 with value: 0.9693371720545759.\n",
      "[I 2025-07-01 09:59:36,599] Trial 318 finished with value: 0.9691752141610049 and parameters: {'solver_penalty': ('newton-cholesky', None), 'C': 9.737709750636348, 'tol': 0.07620122658409732, 'fit_intercept': True, 'class_weight': None, 'threshold': 0.52}. Best is trial 46 with value: 0.9693371720545759.\n",
      "[I 2025-07-01 09:59:37,451] Trial 319 finished with value: 0.9689593188820197 and parameters: {'solver_penalty': ('newton-cholesky', None), 'C': 1.499579381148913, 'tol': 0.0033348707298347475, 'fit_intercept': False, 'class_weight': None, 'threshold': 0.386}. Best is trial 46 with value: 0.9693371720545759.\n",
      "[I 2025-07-01 09:59:38,223] Trial 320 finished with value: 0.9692291952676175 and parameters: {'solver_penalty': ('newton-cholesky', None), 'C': 3.2542227210673977, 'tol': 0.0002060801541208519, 'fit_intercept': True, 'class_weight': None, 'threshold': 0.537}. Best is trial 46 with value: 0.9693371720545759.\n",
      "[I 2025-07-01 09:59:39,351] Trial 321 finished with value: 0.9684194786684271 and parameters: {'solver_penalty': ('newton-cg', None), 'C': 0.4201965130297759, 'tol': 0.037407674971033734, 'fit_intercept': True, 'class_weight': 'balanced', 'threshold': 0.732}. Best is trial 46 with value: 0.9693371720545759.\n",
      "[I 2025-07-01 09:59:41,472] Trial 323 finished with value: 0.9672857734134306 and parameters: {'solver_penalty': ('lbfgs', None), 'C': 6.8016372468303405, 'tol': 0.011236914313176867, 'fit_intercept': True, 'class_weight': 'balanced', 'threshold': 0.29}. Best is trial 46 with value: 0.9693371720545759.\n",
      "[I 2025-07-01 09:59:41,490] Trial 322 finished with value: 0.9685813928407994 and parameters: {'solver_penalty': ('newton-cg', None), 'C': 3.3009138396435764, 'tol': 0.018997701350903857, 'fit_intercept': True, 'class_weight': 'balanced', 'threshold': 0.34}. Best is trial 46 with value: 0.9693371720545759.\n",
      "[I 2025-07-01 09:59:42,071] Trial 325 finished with value: 0.9691751995872719 and parameters: {'solver_penalty': ('lbfgs', None), 'C': 0.7244866236660208, 'tol': 0.044487924487600417, 'fit_intercept': True, 'class_weight': None, 'threshold': 0.47700000000000004}. Best is trial 46 with value: 0.9693371720545759.\n",
      "[I 2025-07-01 09:59:42,785] Trial 324 finished with value: 0.9691752287347377 and parameters: {'solver_penalty': ('newton-cg', None), 'C': 2.636257690135256, 'tol': 0.02965534225825442, 'fit_intercept': True, 'class_weight': 'balanced', 'threshold': 0.544}. Best is trial 46 with value: 0.9693371720545759.\n",
      "[I 2025-07-01 09:59:43,884] Trial 327 finished with value: 0.9689053377754071 and parameters: {'solver_penalty': ('liblinear', 'l2'), 'C': 8.202803942835452, 'tol': 0.06611612724142005, 'fit_intercept': False, 'class_weight': 'balanced', 'threshold': 0.386}. Best is trial 46 with value: 0.9693371720545759.\n",
      "[I 2025-07-01 09:59:45,175] Trial 328 finished with value: 0.9691751995872719 and parameters: {'solver_penalty': ('lbfgs', None), 'C': 3.8435396769869468, 'tol': 0.00783076218703592, 'fit_intercept': False, 'class_weight': None, 'threshold': 0.5750000000000001}. Best is trial 46 with value: 0.9693371720545759.\n",
      "[I 2025-07-01 09:59:45,545] Trial 326 finished with value: 0.9675017561348129 and parameters: {'solver_penalty': ('newton-cg', None), 'C': 3.5868940280940818, 'tol': 0.05547377249725117, 'fit_intercept': True, 'class_weight': 'balanced', 'threshold': 0.769}. Best is trial 46 with value: 0.9693371720545759.\n",
      "[I 2025-07-01 09:59:46,785] Trial 329 finished with value: 0.9692292098413503 and parameters: {'solver_penalty': ('newton-cg', 'l2'), 'C': 6.518967647782525, 'tol': 0.0024378003089476456, 'fit_intercept': True, 'class_weight': None, 'threshold': 0.462}. Best is trial 46 with value: 0.9693371720545759.\n",
      "[I 2025-07-01 09:59:47,685] Trial 332 finished with value: 0.969013256267434 and parameters: {'solver_penalty': ('newton-cholesky', 'l2'), 'C': 6.271315271626584, 'tol': 0.014400571198410646, 'fit_intercept': True, 'class_weight': None, 'threshold': 0.638}. Best is trial 46 with value: 0.9693371720545759.\n",
      "[I 2025-07-01 09:59:48,766] Trial 330 finished with value: 0.9690672665215123 and parameters: {'solver_penalty': ('newton-cg', None), 'C': 2.4590859518991004, 'tol': 0.008115456262234517, 'fit_intercept': True, 'class_weight': 'balanced', 'threshold': 0.63}. Best is trial 46 with value: 0.9693371720545759.\n",
      "[I 2025-07-01 09:59:49,683] Trial 334 finished with value: 0.9689052940542086 and parameters: {'solver_penalty': ('liblinear', 'l2'), 'C': 1.4063325591302647, 'tol': 0.020912383356528636, 'fit_intercept': True, 'class_weight': 'balanced', 'threshold': 0.805}. Best is trial 46 with value: 0.9693371720545759.\n",
      "[I 2025-07-01 09:59:50,729] Trial 333 finished with value: 0.9645327369761836 and parameters: {'solver_penalty': ('newton-cg', 'l2'), 'C': 2.803260969882818, 'tol': 0.01868953783029301, 'fit_intercept': True, 'class_weight': 'balanced', 'threshold': 0.909}. Best is trial 46 with value: 0.9693371720545759.\n",
      "[I 2025-07-01 09:59:51,617] Trial 331 finished with value: 0.9689593480294855 and parameters: {'solver_penalty': ('newton-cg', None), 'C': 0.24120354875618188, 'tol': 0.000182078948564951, 'fit_intercept': True, 'class_weight': 'balanced', 'threshold': 0.512}. Best is trial 46 with value: 0.9693371720545759.\n",
      "[I 2025-07-01 09:59:52,647] Trial 335 finished with value: 0.9693371720545759 and parameters: {'solver_penalty': ('newton-cg', None), 'C': 7.640743052664233, 'tol': 0.0025042836200155827, 'fit_intercept': True, 'class_weight': None, 'threshold': 0.484}. Best is trial 46 with value: 0.9693371720545759.\n",
      "[I 2025-07-01 09:59:52,836] Trial 336 finished with value: 0.9689593043082869 and parameters: {'solver_penalty': ('newton-cg', 'l2'), 'C': 9.319083698788436, 'tol': 0.016738957388990193, 'fit_intercept': True, 'class_weight': None, 'threshold': 0.389}. Best is trial 46 with value: 0.9693371720545759.\n",
      "[I 2025-07-01 09:59:54,199] Trial 337 finished with value: 0.9691752287347377 and parameters: {'solver_penalty': ('newton-cg', 'l2'), 'C': 6.769944680317655, 'tol': 0.009277808746675, 'fit_intercept': True, 'class_weight': None, 'threshold': 0.41400000000000003}. Best is trial 46 with value: 0.9693371720545759.\n",
      "[I 2025-07-01 09:59:55,219] Trial 339 finished with value: 0.9691751995872719 and parameters: {'solver_penalty': ('liblinear', 'l1'), 'C': 7.76290371282588, 'tol': 0.026767682372605642, 'fit_intercept': False, 'class_weight': None, 'threshold': 0.495}. Best is trial 46 with value: 0.9693371720545759.\n",
      "[I 2025-07-01 09:59:55,409] Trial 340 finished with value: 0.968635403094878 and parameters: {'solver_penalty': ('liblinear', 'l1'), 'C': 0.858329500389862, 'tol': 0.05142047958841338, 'fit_intercept': True, 'class_weight': None, 'threshold': 0.229}. Best is trial 46 with value: 0.9693371720545759.\n",
      "[I 2025-07-01 09:59:55,801] Trial 338 finished with value: 0.9688513566687945 and parameters: {'solver_penalty': ('newton-cg', 'l2'), 'C': 6.872476494478074, 'tol': 0.014773681556701848, 'fit_intercept': True, 'class_weight': None, 'threshold': 0.312}. Best is trial 46 with value: 0.9693371720545759.\n",
      "[I 2025-07-01 09:59:58,574] Trial 342 finished with value: 0.9621032519827564 and parameters: {'solver_penalty': ('newton-cg', None), 'C': 9.272940717446339, 'tol': 0.06599497392120518, 'fit_intercept': False, 'class_weight': None, 'threshold': 0.868}. Best is trial 46 with value: 0.9693371720545759.\n",
      "[I 2025-07-01 09:59:58,791] Trial 343 finished with value: 0.9691751995872719 and parameters: {'solver_penalty': ('lbfgs', None), 'C': 9.21887471315994, 'tol': 0.0040429493228580585, 'fit_intercept': True, 'class_weight': None, 'threshold': 0.545}. Best is trial 46 with value: 0.9693371720545759.\n",
      "[I 2025-07-01 09:59:59,131] Trial 341 finished with value: 0.9692292098413503 and parameters: {'solver_penalty': ('newton-cg', None), 'C': 5.519983037009523, 'tol': 0.01961416030315667, 'fit_intercept': True, 'class_weight': None, 'threshold': 0.434}. Best is trial 46 with value: 0.9693371720545759.\n",
      "[I 2025-07-01 09:59:59,147] Trial 344 finished with value: 0.9689053669228729 and parameters: {'solver_penalty': ('newton-cholesky', 'l2'), 'C': 8.109195969399863, 'tol': 0.043793862427365354, 'fit_intercept': True, 'class_weight': None, 'threshold': 0.278}. Best is trial 46 with value: 0.9693371720545759.\n",
      "[I 2025-07-01 10:00:02,083] Trial 345 finished with value: 0.9691751995872719 and parameters: {'solver_penalty': ('newton-cg', None), 'C': 7.0390538027757446, 'tol': 0.02342793383005318, 'fit_intercept': True, 'class_weight': None, 'threshold': 0.48}. Best is trial 46 with value: 0.9693371720545759.\n",
      "[I 2025-07-01 10:00:02,294] Trial 347 finished with value: 0.9689593334557527 and parameters: {'solver_penalty': ('newton-cg', None), 'C': 7.644004075550315, 'tol': 0.00750124704075497, 'fit_intercept': True, 'class_weight': None, 'threshold': 0.252}. Best is trial 46 with value: 0.9693371720545759.\n",
      "[I 2025-07-01 10:00:02,485] Trial 348 finished with value: 0.9691751995872719 and parameters: {'solver_penalty': ('newton-cg', None), 'C': 8.355993735698684, 'tol': 0.014440022511196617, 'fit_intercept': True, 'class_weight': None, 'threshold': 0.577}. Best is trial 46 with value: 0.9693371720545759.\n",
      "[I 2025-07-01 10:00:02,693] Trial 346 finished with value: 0.9693371720545759 and parameters: {'solver_penalty': ('newton-cg', None), 'C': 9.249813306823508, 'tol': 0.001984085644876267, 'fit_intercept': True, 'class_weight': None, 'threshold': 0.482}. Best is trial 46 with value: 0.9693371720545759.\n",
      "[I 2025-07-01 10:00:05,390] Trial 351 finished with value: 0.9692291806938848 and parameters: {'solver_penalty': ('newton-cg', None), 'C': 5.164381466133382, 'tol': 0.032640247579383774, 'fit_intercept': False, 'class_weight': None, 'threshold': 0.521}. Best is trial 46 with value: 0.9693371720545759.\n",
      "[I 2025-07-01 10:00:05,393] Trial 349 finished with value: 0.958216466569314 and parameters: {'solver_penalty': ('newton-cg', None), 'C': 4.125384434334951, 'tol': 0.03127873996418178, 'fit_intercept': True, 'class_weight': None, 'threshold': 0.076}. Best is trial 46 with value: 0.9693371720545759.\n",
      "[I 2025-07-01 10:00:06,016] Trial 350 finished with value: 0.9686893550540248 and parameters: {'solver_penalty': ('newton-cg', 'l2'), 'C': 5.669103012501024, 'tol': 0.0013631155237483644, 'fit_intercept': False, 'class_weight': None, 'threshold': 0.758}. Best is trial 46 with value: 0.9693371720545759.\n",
      "[I 2025-07-01 10:00:06,555] Trial 352 finished with value: 0.9691752287347377 and parameters: {'solver_penalty': ('newton-cg', None), 'C': 8.97531010892332, 'tol': 0.005439974504016614, 'fit_intercept': True, 'class_weight': None, 'threshold': 0.425}. Best is trial 46 with value: 0.9693371720545759.\n",
      "[I 2025-07-01 10:00:08,806] Trial 354 finished with value: 0.9669079639620733 and parameters: {'solver_penalty': ('newton-cholesky', 'l2'), 'C': 8.39418817001459, 'tol': 0.09740276547100019, 'fit_intercept': False, 'class_weight': 'balanced', 'threshold': 0.275}. Best is trial 46 with value: 0.9693371720545759.\n",
      "[I 2025-07-01 10:00:09,356] Trial 355 finished with value: 0.9690133291360983 and parameters: {'solver_penalty': ('liblinear', 'l2'), 'C': 7.748697774200769, 'tol': 0.012158606152465334, 'fit_intercept': False, 'class_weight': 'balanced', 'threshold': 0.295}. Best is trial 46 with value: 0.9693371720545759.\n",
      "[I 2025-07-01 10:00:09,383] Trial 353 finished with value: 0.9686894133489563 and parameters: {'solver_penalty': ('lbfgs', None), 'C': 7.732642875020642, 'tol': 0.0225071213019447, 'fit_intercept': False, 'class_weight': 'balanced', 'threshold': 0.21}. Best is trial 46 with value: 0.9693371720545759.\n",
      "[I 2025-07-01 10:00:09,805] Trial 356 finished with value: 0.9683115164552019 and parameters: {'solver_penalty': ('newton-cholesky', 'l2'), 'C': 5.276324920338986, 'tol': 0.09199127133713726, 'fit_intercept': True, 'class_weight': None, 'threshold': 0.193}. Best is trial 46 with value: 0.9693371720545759.\n",
      "[I 2025-07-01 10:00:12,485] Trial 359 finished with value: 0.9685814511357311 and parameters: {'solver_penalty': ('newton-cholesky', 'l2'), 'C': 4.896568204404947, 'tol': 0.07173689895282685, 'fit_intercept': False, 'class_weight': 'balanced', 'threshold': 0.532}. Best is trial 46 with value: 0.9693371720545759.\n",
      "[I 2025-07-01 10:00:12,892] Trial 358 finished with value: 0.9691751995872719 and parameters: {'solver_penalty': ('newton-cg', None), 'C': 4.47483169418855, 'tol': 0.029959267159756293, 'fit_intercept': True, 'class_weight': None, 'threshold': 0.556}. Best is trial 46 with value: 0.9693371720545759.\n",
      "[I 2025-07-01 10:00:13,810] Trial 360 finished with value: 0.9689053523491399 and parameters: {'solver_penalty': ('lbfgs', 'l2'), 'C': 5.879264558011602, 'tol': 0.00110317894675354, 'fit_intercept': True, 'class_weight': None, 'threshold': 0.309}. Best is trial 46 with value: 0.9693371720545759.\n",
      "[I 2025-07-01 10:00:13,826] Trial 357 finished with value: 0.9692831763742303 and parameters: {'solver_penalty': ('newton-cg', 'l2'), 'C': 5.158929563740082, 'tol': 0.0016258621605622545, 'fit_intercept': True, 'class_weight': None, 'threshold': 0.508}. Best is trial 46 with value: 0.9693371720545759.\n",
      "[I 2025-07-01 10:00:15,373] Trial 362 finished with value: 0.9691751995872719 and parameters: {'solver_penalty': ('liblinear', 'l2'), 'C': 8.634066115536074, 'tol': 0.07326891042042176, 'fit_intercept': True, 'class_weight': None, 'threshold': 0.543}. Best is trial 46 with value: 0.9693371720545759.\n",
      "[I 2025-07-01 10:00:16,387] Trial 364 finished with value: 0.9690672665215123 and parameters: {'solver_penalty': ('liblinear', 'l1'), 'C': 9.257473120433325, 'tol': 0.03083719328268992, 'fit_intercept': True, 'class_weight': None, 'threshold': 0.364}. Best is trial 46 with value: 0.9693371720545759.\n",
      "[I 2025-07-01 10:00:16,743] Trial 361 finished with value: 0.9691751995872719 and parameters: {'solver_penalty': ('newton-cg', 'l2'), 'C': 6.0125622229900895, 'tol': 0.03767451588824543, 'fit_intercept': True, 'class_weight': None, 'threshold': 0.5740000000000001}. Best is trial 46 with value: 0.9693371720545759.\n",
      "[I 2025-07-01 10:00:17,139] Trial 363 finished with value: 0.9690672665215123 and parameters: {'solver_penalty': ('newton-cholesky', 'l2'), 'C': 6.430274236927973, 'tol': 0.07162561352142723, 'fit_intercept': True, 'class_weight': None, 'threshold': 0.499}. Best is trial 46 with value: 0.9693371720545759.\n",
      "[I 2025-07-01 10:00:19,476] Trial 365 finished with value: 0.9691751995872719 and parameters: {'solver_penalty': ('newton-cg', 'l2'), 'C': 5.911927148039155, 'tol': 0.023045671576877706, 'fit_intercept': True, 'class_weight': None, 'threshold': 0.605}. Best is trial 46 with value: 0.9693371720545759.\n",
      "[I 2025-07-01 10:00:19,653] Trial 368 finished with value: 0.9689593334557527 and parameters: {'solver_penalty': ('liblinear', 'l1'), 'C': 7.199133716669763, 'tol': 0.025629766107860323, 'fit_intercept': True, 'class_weight': 'balanced', 'threshold': 0.511}. Best is trial 46 with value: 0.9693371720545759.\n",
      "[I 2025-07-01 10:00:20,235] Trial 367 finished with value: 0.9687973755621817 and parameters: {'solver_penalty': ('newton-cg', None), 'C': 8.674654402179822, 'tol': 0.0056079748691929086, 'fit_intercept': False, 'class_weight': None, 'threshold': 0.20500000000000002}. Best is trial 46 with value: 0.9693371720545759.\n",
      "[I 2025-07-01 10:00:20,810] Trial 366 finished with value: 0.9691752141610049 and parameters: {'solver_penalty': ('newton-cg', None), 'C': 6.243771642751906, 'tol': 0.027932358255883288, 'fit_intercept': True, 'class_weight': 'balanced', 'threshold': 0.721}. Best is trial 46 with value: 0.9693371720545759.\n",
      "[I 2025-07-01 10:00:22,197] Trial 371 finished with value: 0.9689593188820197 and parameters: {'solver_penalty': ('liblinear', 'l1'), 'C': 5.925289757649702, 'tol': 0.08116532174903815, 'fit_intercept': False, 'class_weight': None, 'threshold': 0.272}. Best is trial 46 with value: 0.9693371720545759.\n",
      "[I 2025-07-01 10:00:23,253] Trial 369 finished with value: 0.9691751995872719 and parameters: {'solver_penalty': ('newton-cg', None), 'C': 5.575250520495238, 'tol': 0.009038342821425623, 'fit_intercept': True, 'class_weight': None, 'threshold': 0.556}. Best is trial 46 with value: 0.9693371720545759.\n",
      "[I 2025-07-01 10:00:24,341] Trial 372 finished with value: 0.9692291806938848 and parameters: {'solver_penalty': ('newton-cg', 'l2'), 'C': 5.6526114686782405, 'tol': 0.01068803975118922, 'fit_intercept': True, 'class_weight': None, 'threshold': 0.533}. Best is trial 46 with value: 0.9693371720545759.\n",
      "[I 2025-07-01 10:00:25,623] Trial 373 finished with value: 0.9692291806938848 and parameters: {'solver_penalty': ('newton-cg', None), 'C': 9.020645012694306, 'tol': 0.0026149087038190603, 'fit_intercept': False, 'class_weight': None, 'threshold': 0.558}. Best is trial 46 with value: 0.9693371720545759.\n",
      "[I 2025-07-01 10:00:25,823] Trial 370 finished with value: 0.9690133291360983 and parameters: {'solver_penalty': ('newton-cg', None), 'C': 8.467007525605213, 'tol': 0.007138910452063749, 'fit_intercept': True, 'class_weight': 'balanced', 'threshold': 0.505}. Best is trial 46 with value: 0.9693371720545759.\n",
      "[I 2025-07-01 10:00:26,060] Trial 374 finished with value: 0.966853953707995 and parameters: {'solver_penalty': ('lbfgs', 'l2'), 'C': 8.563593335026365, 'tol': 0.0079358789023214, 'fit_intercept': True, 'class_weight': None, 'threshold': 0.801}. Best is trial 46 with value: 0.9693371720545759.\n",
      "[I 2025-07-01 10:00:28,298] Trial 375 finished with value: 0.968851298373863 and parameters: {'solver_penalty': ('newton-cg', None), 'C': 9.604587350956816, 'tol': 0.0029405607083875162, 'fit_intercept': True, 'class_weight': None, 'threshold': 0.6990000000000001}. Best is trial 46 with value: 0.9693371720545759.\n",
      "[I 2025-07-01 10:00:29,018] Trial 376 finished with value: 0.9690672519477795 and parameters: {'solver_penalty': ('newton-cg', 'l2'), 'C': 7.470229486154726, 'tol': 0.007593365560853602, 'fit_intercept': True, 'class_weight': None, 'threshold': 0.635}. Best is trial 46 with value: 0.9693371720545759.\n",
      "[I 2025-07-01 10:00:29,222] Trial 377 finished with value: 0.9691212330543921 and parameters: {'solver_penalty': ('newton-cg', None), 'C': 9.263124404246348, 'tol': 0.00531118506498084, 'fit_intercept': True, 'class_weight': None, 'threshold': 0.656}. Best is trial 46 with value: 0.9693371720545759.\n",
      "[I 2025-07-01 10:00:29,585] Trial 378 finished with value: 0.9690672519477795 and parameters: {'solver_penalty': ('newton-cg', 'l2'), 'C': 7.945649323453963, 'tol': 0.010717134358165698, 'fit_intercept': True, 'class_weight': None, 'threshold': 0.646}. Best is trial 46 with value: 0.9693371720545759.\n",
      "[I 2025-07-01 10:00:31,314] Trial 379 finished with value: 0.9691751995872719 and parameters: {'solver_penalty': ('lbfgs', 'l2'), 'C': 4.8441560068464, 'tol': 0.001039137644807512, 'fit_intercept': False, 'class_weight': None, 'threshold': 0.595}. Best is trial 46 with value: 0.9693371720545759.\n",
      "[I 2025-07-01 10:00:32,846] Trial 380 finished with value: 0.9691751995872719 and parameters: {'solver_penalty': ('newton-cg', 'l2'), 'C': 4.326219259073128, 'tol': 0.008619269521570896, 'fit_intercept': True, 'class_weight': None, 'threshold': 0.508}. Best is trial 46 with value: 0.9693371720545759.\n",
      "[I 2025-07-01 10:00:33,386] Trial 382 finished with value: 0.9689593334557527 and parameters: {'solver_penalty': ('newton-cg', None), 'C': 4.184398948561137, 'tol': 0.011134930148188641, 'fit_intercept': True, 'class_weight': None, 'threshold': 0.25}. Best is trial 46 with value: 0.9693371720545759.\n",
      "[I 2025-07-01 10:00:33,413] Trial 381 finished with value: 0.9692292098413503 and parameters: {'solver_penalty': ('newton-cg', 'l2'), 'C': 4.6132014599282165, 'tol': 0.0015735247896748374, 'fit_intercept': True, 'class_weight': None, 'threshold': 0.462}. Best is trial 46 with value: 0.9693371720545759.\n",
      "[I 2025-07-01 10:00:35,270] Trial 384 finished with value: 0.9691212330543921 and parameters: {'solver_penalty': ('liblinear', 'l1'), 'C': 2.416024829595221, 'tol': 0.09498364635045212, 'fit_intercept': True, 'class_weight': 'balanced', 'threshold': 0.791}. Best is trial 46 with value: 0.9693371720545759.\n",
      "[I 2025-07-01 10:00:35,774] Trial 383 finished with value: 0.9691751995872719 and parameters: {'solver_penalty': ('newton-cg', 'l2'), 'C': 3.4634769639191316, 'tol': 0.011314552935650831, 'fit_intercept': True, 'class_weight': None, 'threshold': 0.588}. Best is trial 46 with value: 0.9693371720545759.\n",
      "[I 2025-07-01 10:00:36,006] Trial 385 finished with value: 0.9689593334557527 and parameters: {'solver_penalty': ('liblinear', 'l2'), 'C': 3.1454675094471756, 'tol': 0.09310954511195328, 'fit_intercept': False, 'class_weight': None, 'threshold': 0.23500000000000001}. Best is trial 46 with value: 0.9693371720545759.\n",
      "[I 2025-07-01 10:00:37,365] Trial 386 finished with value: 0.9688513566687945 and parameters: {'solver_penalty': ('newton-cholesky', 'l2'), 'C': 0.374348620736489, 'tol': 0.06841708653632445, 'fit_intercept': False, 'class_weight': 'balanced', 'threshold': 0.598}. Best is trial 46 with value: 0.9693371720545759.\n",
      "[I 2025-07-01 10:00:38,401] Trial 389 finished with value: 0.9629670517046897 and parameters: {'solver_penalty': ('liblinear', 'l2'), 'C': 9.70406381423717, 'tol': 0.04484686326942751, 'fit_intercept': False, 'class_weight': 'balanced', 'threshold': 0.106}. Best is trial 46 with value: 0.9693371720545759.\n",
      "[I 2025-07-01 10:00:38,944] Trial 388 finished with value: 0.9682035250945107 and parameters: {'solver_penalty': ('newton-cholesky', 'l2'), 'C': 6.715464974402593, 'tol': 0.05093222371611517, 'fit_intercept': True, 'class_weight': 'balanced', 'threshold': 0.343}. Best is trial 46 with value: 0.9693371720545759.\n",
      "[I 2025-07-01 10:00:40,021] Trial 387 finished with value: 0.9689593188820197 and parameters: {'solver_penalty': ('newton-cg', 'l2'), 'C': 5.0495111137407225, 'tol': 0.0021193541440297572, 'fit_intercept': True, 'class_weight': None, 'threshold': 0.388}. Best is trial 46 with value: 0.9693371720545759.\n",
      "[I 2025-07-01 10:00:40,932] Trial 390 finished with value: 0.9692292098413503 and parameters: {'solver_penalty': ('newton-cg', None), 'C': 6.698624219813228, 'tol': 0.007668983813888348, 'fit_intercept': True, 'class_weight': None, 'threshold': 0.432}. Best is trial 46 with value: 0.9693371720545759.\n",
      "[I 2025-07-01 10:00:42,146] Trial 392 finished with value: 0.9690672665215123 and parameters: {'solver_penalty': ('lbfgs', 'l2'), 'C': 1.27136950888108, 'tol': 0.047007557572333686, 'fit_intercept': False, 'class_weight': 'balanced', 'threshold': 0.403}. Best is trial 46 with value: 0.9693371720545759.\n",
      "[I 2025-07-01 10:00:42,332] Trial 393 finished with value: 0.9691212330543921 and parameters: {'solver_penalty': ('liblinear', 'l1'), 'C': 2.998787106648641, 'tol': 0.004946773531723139, 'fit_intercept': False, 'class_weight': None, 'threshold': 0.425}. Best is trial 46 with value: 0.9693371720545759.\n",
      "[I 2025-07-01 10:00:44,044] Trial 394 finished with value: 0.9690133291360983 and parameters: {'solver_penalty': ('newton-cholesky', 'l2'), 'C': 6.890777471427272, 'tol': 0.004281936283481636, 'fit_intercept': True, 'class_weight': None, 'threshold': 0.321}. Best is trial 46 with value: 0.9693371720545759.\n",
      "[I 2025-07-01 10:00:45,091] Trial 395 finished with value: 0.968851298373863 and parameters: {'solver_penalty': ('newton-cholesky', None), 'C': 8.548729363727666, 'tol': 0.06461113699112385, 'fit_intercept': True, 'class_weight': None, 'threshold': 0.717}. Best is trial 46 with value: 0.9693371720545759.\n",
      "[I 2025-07-01 10:00:45,104] Trial 391 finished with value: 0.9689053377754071 and parameters: {'solver_penalty': ('newton-cg', 'l2'), 'C': 1.8108793587633425, 'tol': 0.006543740247104232, 'fit_intercept': True, 'class_weight': 'balanced', 'threshold': 0.55}. Best is trial 46 with value: 0.9693371720545759.\n",
      "[I 2025-07-01 10:00:45,873] Trial 396 finished with value: 0.9691752141610049 and parameters: {'solver_penalty': ('newton-cg', None), 'C': 7.23178429588375, 'tol': 0.012228380102461738, 'fit_intercept': True, 'class_weight': None, 'threshold': 0.461}. Best is trial 46 with value: 0.9693371720545759.\n",
      "[I 2025-07-01 10:00:46,643] Trial 397 finished with value: 0.9691751995872719 and parameters: {'solver_penalty': ('lbfgs', 'l2'), 'C': 8.565507350524552, 'tol': 0.01728499345075314, 'fit_intercept': True, 'class_weight': None, 'threshold': 0.497}. Best is trial 46 with value: 0.9693371720545759.\n",
      "[I 2025-07-01 10:00:48,977] Trial 399 finished with value: 0.9692291806938848 and parameters: {'solver_penalty': ('newton-cg', None), 'C': 6.8254530294261855, 'tol': 0.007423413316493457, 'fit_intercept': True, 'class_weight': None, 'threshold': 0.523}. Best is trial 46 with value: 0.9693371720545759.\n",
      "[I 2025-07-01 10:00:49,352] Trial 398 finished with value: 0.9692831763742303 and parameters: {'solver_penalty': ('newton-cg', None), 'C': 7.502395093713174, 'tol': 0.0024143937683997474, 'fit_intercept': True, 'class_weight': None, 'threshold': 0.491}. Best is trial 46 with value: 0.9693371720545759.\n",
      "[I 2025-07-01 10:00:49,541] Trial 400 finished with value: 0.9685274554553853 and parameters: {'solver_penalty': ('newton-cholesky', None), 'C': 2.756908715302844, 'tol': 0.004169974887950104, 'fit_intercept': False, 'class_weight': 'balanced', 'threshold': 0.642}. Best is trial 46 with value: 0.9693371720545759.\n",
      "[I 2025-07-01 10:00:49,916] Trial 401 finished with value: 0.9689593043082869 and parameters: {'solver_penalty': ('newton-cg', None), 'C': 9.702232171559142, 'tol': 0.07896441085404139, 'fit_intercept': False, 'class_weight': None, 'threshold': 0.403}. Best is trial 46 with value: 0.9693371720545759.\n",
      "[I 2025-07-01 10:00:51,529] Trial 402 finished with value: 0.9691212184806591 and parameters: {'solver_penalty': ('liblinear', 'l1'), 'C': 5.609962040760082, 'tol': 0.004265095378186442, 'fit_intercept': True, 'class_weight': None, 'threshold': 0.5740000000000001}. Best is trial 46 with value: 0.9693371720545759.\n",
      "[I 2025-07-01 10:00:53,219] Trial 404 finished with value: 0.9691751995872719 and parameters: {'solver_penalty': ('lbfgs', None), 'C': 9.771703387788321, 'tol': 0.038210172491388375, 'fit_intercept': False, 'class_weight': None, 'threshold': 0.482}. Best is trial 46 with value: 0.9693371720545759.\n",
      "[I 2025-07-01 10:00:54,004] Trial 403 finished with value: 0.9692292098413503 and parameters: {'solver_penalty': ('lbfgs', None), 'C': 6.962284977769398, 'tol': 0.0012561071017586707, 'fit_intercept': True, 'class_weight': None, 'threshold': 0.426}. Best is trial 46 with value: 0.9693371720545759.\n",
      "[I 2025-07-01 10:00:54,177] Trial 406 finished with value: 0.9692831763742303 and parameters: {'solver_penalty': ('liblinear', 'l2'), 'C': 7.904014203840842, 'tol': 0.002438856780933193, 'fit_intercept': True, 'class_weight': None, 'threshold': 0.509}. Best is trial 46 with value: 0.9693371720545759.\n",
      "[I 2025-07-01 10:00:54,905] Trial 405 finished with value: 0.9691212184806594 and parameters: {'solver_penalty': ('newton-cg', None), 'C': 1.890890157774855, 'tol': 0.012710782702483908, 'fit_intercept': False, 'class_weight': 'balanced', 'threshold': 0.607}. Best is trial 46 with value: 0.9693371720545759.\n",
      "[I 2025-07-01 10:00:56,732] Trial 409 finished with value: 0.9692292098413503 and parameters: {'solver_penalty': ('liblinear', 'l2'), 'C': 5.086923305005343, 'tol': 0.001842682845144506, 'fit_intercept': True, 'class_weight': None, 'threshold': 0.445}. Best is trial 46 with value: 0.9693371720545759.\n",
      "[I 2025-07-01 10:00:57,245] Trial 407 finished with value: 0.9689593334557527 and parameters: {'solver_penalty': ('newton-cg', None), 'C': 5.780353790374844, 'tol': 0.03578398397817663, 'fit_intercept': True, 'class_weight': None, 'threshold': 0.299}. Best is trial 46 with value: 0.9693371720545759.\n",
      "[I 2025-07-01 10:00:57,439] Trial 410 finished with value: 0.9690133291360983 and parameters: {'solver_penalty': ('liblinear', 'l2'), 'C': 8.695737899022319, 'tol': 0.0004518487684267436, 'fit_intercept': True, 'class_weight': None, 'threshold': 0.266}. Best is trial 46 with value: 0.9693371720545759.\n",
      "[I 2025-07-01 10:00:59,308] Trial 411 finished with value: 0.9689593188820197 and parameters: {'solver_penalty': ('liblinear', 'l2'), 'C': 7.526602402113534, 'tol': 0.0013733590890868505, 'fit_intercept': True, 'class_weight': None, 'threshold': 0.373}. Best is trial 46 with value: 0.9693371720545759.\n",
      "[I 2025-07-01 10:01:00,201] Trial 412 finished with value: 0.9692291806938848 and parameters: {'solver_penalty': ('newton-cholesky', 'l2'), 'C': 3.1832591362004083, 'tol': 0.004342707739083312, 'fit_intercept': False, 'class_weight': None, 'threshold': 0.556}. Best is trial 46 with value: 0.9693371720545759.\n",
      "[I 2025-07-01 10:01:00,892] Trial 408 finished with value: 0.7396890839825931 and parameters: {'solver_penalty': ('newton-cg', None), 'C': 2.9334454752136345, 'tol': 0.014067803368889395, 'fit_intercept': True, 'class_weight': 'balanced', 'threshold': 0.992}. Best is trial 46 with value: 0.9693371720545759.\n",
      "[I 2025-07-01 10:01:01,446] Trial 414 finished with value: 0.9691751995872719 and parameters: {'solver_penalty': ('liblinear', 'l2'), 'C': 8.35702468497458, 'tol': 0.01217212435915354, 'fit_intercept': True, 'class_weight': None, 'threshold': 0.553}. Best is trial 46 with value: 0.9693371720545759.\n",
      "[I 2025-07-01 10:01:01,452] Trial 413 finished with value: 0.9692292098413503 and parameters: {'solver_penalty': ('newton-cg', None), 'C': 9.623631768746524, 'tol': 0.009881575552034434, 'fit_intercept': True, 'class_weight': None, 'threshold': 0.432}. Best is trial 46 with value: 0.9693371720545759.\n",
      "[I 2025-07-01 10:01:04,441] Trial 417 finished with value: 0.9691751995872719 and parameters: {'solver_penalty': ('liblinear', 'l2'), 'C': 0.24184733657244073, 'tol': 0.04579391866792395, 'fit_intercept': False, 'class_weight': 'balanced', 'threshold': 0.561}. Best is trial 46 with value: 0.9693371720545759.\n",
      "[I 2025-07-01 10:01:04,615] Trial 418 finished with value: 0.9692292098413503 and parameters: {'solver_penalty': ('lbfgs', None), 'C': 8.410718843874353, 'tol': 0.08828300183163491, 'fit_intercept': False, 'class_weight': None, 'threshold': 0.43}. Best is trial 46 with value: 0.9693371720545759.\n",
      "[I 2025-07-01 10:01:04,891] Trial 416 finished with value: 0.9692292098413503 and parameters: {'solver_penalty': ('lbfgs', None), 'C': 5.379374756606632, 'tol': 0.023047100085585834, 'fit_intercept': False, 'class_weight': 'balanced', 'threshold': 0.436}. Best is trial 46 with value: 0.9693371720545759.\n",
      "[I 2025-07-01 10:01:05,080] Trial 415 finished with value: 0.9688513566687945 and parameters: {'solver_penalty': ('newton-cg', 'l2'), 'C': 4.45283104889089, 'tol': 0.004130990771785403, 'fit_intercept': True, 'class_weight': None, 'threshold': 0.339}. Best is trial 46 with value: 0.9693371720545759.\n",
      "[I 2025-07-01 10:01:07,295] Trial 419 finished with value: 0.9692831763742303 and parameters: {'solver_penalty': ('newton-cholesky', 'l2'), 'C': 6.593086384197312, 'tol': 0.0868103223358134, 'fit_intercept': False, 'class_weight': None, 'threshold': 0.555}. Best is trial 46 with value: 0.9693371720545759.\n",
      "[I 2025-07-01 10:01:08,013] Trial 420 finished with value: 0.9683654829880816 and parameters: {'solver_penalty': ('newton-cholesky', 'l2'), 'C': 0.4297665848118388, 'tol': 0.042957322598339974, 'fit_intercept': True, 'class_weight': 'balanced', 'threshold': 0.885}. Best is trial 46 with value: 0.9693371720545759.\n",
      "[I 2025-07-01 10:01:08,232] Trial 421 finished with value: 0.9689593188820197 and parameters: {'solver_penalty': ('newton-cholesky', None), 'C': 6.038618394728831, 'tol': 0.019287236553053123, 'fit_intercept': False, 'class_weight': None, 'threshold': 0.41400000000000003}. Best is trial 46 with value: 0.9693371720545759.\n",
      "[I 2025-07-01 10:01:09,106] Trial 422 finished with value: 0.9692832055216961 and parameters: {'solver_penalty': ('newton-cg', None), 'C': 0.5168542203269084, 'tol': 0.03841247079548984, 'fit_intercept': True, 'class_weight': 'balanced', 'threshold': 0.483}. Best is trial 46 with value: 0.9693371720545759.\n",
      "[I 2025-07-01 10:01:11,465] Trial 424 finished with value: 0.9691212184806594 and parameters: {'solver_penalty': ('newton-cholesky', 'l2'), 'C': 5.236086864260066, 'tol': 0.08096474222109035, 'fit_intercept': False, 'class_weight': None, 'threshold': 0.635}. Best is trial 46 with value: 0.9693371720545759.\n",
      "[I 2025-07-01 10:01:11,660] Trial 425 finished with value: 0.9691212184806594 and parameters: {'solver_penalty': ('newton-cholesky', 'l2'), 'C': 4.7800521239744285, 'tol': 0.06160605857846728, 'fit_intercept': False, 'class_weight': None, 'threshold': 0.621}. Best is trial 46 with value: 0.9693371720545759.\n",
      "[I 2025-07-01 10:01:12,301] Trial 423 finished with value: 0.969013256267434 and parameters: {'solver_penalty': ('lbfgs', 'l2'), 'C': 0.04250159138244913, 'tol': 0.010541658862236226, 'fit_intercept': True, 'class_weight': 'balanced', 'threshold': 0.837}. Best is trial 46 with value: 0.9693371720545759.\n",
      "[I 2025-07-01 10:01:12,801] Trial 426 finished with value: 0.9691752141610049 and parameters: {'solver_penalty': ('newton-cholesky', 'l2'), 'C': 7.542536126030938, 'tol': 0.09779038954992801, 'fit_intercept': False, 'class_weight': None, 'threshold': 0.518}. Best is trial 46 with value: 0.9693371720545759.\n",
      "[I 2025-07-01 10:01:14,322] Trial 428 finished with value: 0.9691751995872719 and parameters: {'solver_penalty': ('lbfgs', 'l2'), 'C': 7.348929639527316, 'tol': 0.07257754860937388, 'fit_intercept': False, 'class_weight': None, 'threshold': 0.488}. Best is trial 46 with value: 0.9693371720545759.\n",
      "[I 2025-07-01 10:01:15,185] Trial 427 finished with value: 0.9689053377754071 and parameters: {'solver_penalty': ('newton-cg', 'l2'), 'C': 0.28758420406487084, 'tol': 0.04996534675908712, 'fit_intercept': True, 'class_weight': None, 'threshold': 0.366}. Best is trial 46 with value: 0.9693371720545759.\n",
      "[I 2025-07-01 10:01:15,542] Trial 429 finished with value: 0.9690132854148995 and parameters: {'solver_penalty': ('newton-cholesky', 'l2'), 'C': 8.394861567626188, 'tol': 0.0874846693208503, 'fit_intercept': False, 'class_weight': None, 'threshold': 0.47300000000000003}. Best is trial 46 with value: 0.9693371720545759.\n",
      "[I 2025-07-01 10:01:16,996] Trial 430 finished with value: 0.9687973755621817 and parameters: {'solver_penalty': ('newton-cg', None), 'C': 0.3511097450450371, 'tol': 0.043251038658859015, 'fit_intercept': True, 'class_weight': 'balanced', 'threshold': 0.34800000000000003}. Best is trial 46 with value: 0.9693371720545759.\n",
      "[I 2025-07-01 10:01:18,629] Trial 431 finished with value: 0.9691751995872719 and parameters: {'solver_penalty': ('newton-cg', None), 'C': 0.3222027772337213, 'tol': 0.03820390796776899, 'fit_intercept': True, 'class_weight': 'balanced', 'threshold': 0.589}. Best is trial 46 with value: 0.9693371720545759.\n",
      "[I 2025-07-01 10:01:18,814] Trial 432 finished with value: 0.9691751995872719 and parameters: {'solver_penalty': ('lbfgs', None), 'C': 0.39735036762334125, 'tol': 0.041160113034125013, 'fit_intercept': True, 'class_weight': 'balanced', 'threshold': 0.542}. Best is trial 46 with value: 0.9693371720545759.\n",
      "[I 2025-07-01 10:01:19,361] Trial 434 finished with value: 0.968851298373863 and parameters: {'solver_penalty': ('liblinear', 'l2'), 'C': 6.367674490978567, 'tol': 0.004571583384874262, 'fit_intercept': False, 'class_weight': None, 'threshold': 0.74}. Best is trial 46 with value: 0.9693371720545759.\n",
      "[I 2025-07-01 10:01:19,735] Trial 433 finished with value: 0.9688513566687945 and parameters: {'solver_penalty': ('newton-cg', None), 'C': 0.27750468160549024, 'tol': 0.04023995541964007, 'fit_intercept': True, 'class_weight': 'balanced', 'threshold': 0.34500000000000003}. Best is trial 46 with value: 0.9693371720545759.\n",
      "[I 2025-07-01 10:01:21,745] Trial 435 finished with value: 0.9690672956689781 and parameters: {'solver_penalty': ('newton-cholesky', 'l2'), 'C': 5.101847278663775, 'tol': 0.09906282306762947, 'fit_intercept': False, 'class_weight': None, 'threshold': 0.374}. Best is trial 46 with value: 0.9693371720545759.\n",
      "[I 2025-07-01 10:01:22,664] Trial 436 finished with value: 0.9689593188820197 and parameters: {'solver_penalty': ('newton-cholesky', None), 'C': 3.7626117745994243, 'tol': 0.013477980122686846, 'fit_intercept': False, 'class_weight': None, 'threshold': 0.42}. Best is trial 46 with value: 0.9693371720545759.\n",
      "[I 2025-07-01 10:01:22,867] Trial 438 finished with value: 0.9692292098413503 and parameters: {'solver_penalty': ('lbfgs', None), 'C': 1.9532528644871126, 'tol': 0.06117742835645925, 'fit_intercept': True, 'class_weight': None, 'threshold': 0.41500000000000004}. Best is trial 46 with value: 0.9693371720545759.\n",
      "[I 2025-07-01 10:01:24,426] Trial 437 finished with value: 0.967231792306818 and parameters: {'solver_penalty': ('lbfgs', None), 'C': 5.579444643325679, 'tol': 0.008151576181851805, 'fit_intercept': False, 'class_weight': 'balanced', 'threshold': 0.804}. Best is trial 46 with value: 0.9693371720545759.\n",
      "[I 2025-07-01 10:01:25,825] Trial 440 finished with value: 0.9012061075599782 and parameters: {'solver_penalty': ('newton-cholesky', 'l2'), 'C': 0.4347373144970268, 'tol': 0.09699758547415047, 'fit_intercept': False, 'class_weight': 'balanced', 'threshold': 0.08700000000000001}. Best is trial 46 with value: 0.9693371720545759.\n",
      "[I 2025-07-01 10:01:26,470] Trial 441 finished with value: 0.9539516385247886 and parameters: {'solver_penalty': ('newton-cholesky', 'l2'), 'C': 6.798552561744077, 'tol': 0.09688937525955171, 'fit_intercept': False, 'class_weight': None, 'threshold': 0.912}. Best is trial 46 with value: 0.9693371720545759.\n",
      "[I 2025-07-01 10:01:26,677] Trial 439 finished with value: 0.9689593480294855 and parameters: {'solver_penalty': ('lbfgs', None), 'C': 8.342752124475819, 'tol': 0.027871549884808063, 'fit_intercept': True, 'class_weight': 'balanced', 'threshold': 0.525}. Best is trial 46 with value: 0.9693371720545759.\n",
      "[I 2025-07-01 10:01:29,049] Trial 443 finished with value: 0.9688513420950615 and parameters: {'solver_penalty': ('newton-cholesky', None), 'C': 9.265755511568255, 'tol': 0.03623357469898411, 'fit_intercept': True, 'class_weight': None, 'threshold': 0.445}. Best is trial 46 with value: 0.9693371720545759.\n",
      "[I 2025-07-01 10:01:29,404] Trial 444 finished with value: 0.9689053377754071 and parameters: {'solver_penalty': ('lbfgs', None), 'C': 6.456946429581678, 'tol': 0.037283794795704935, 'fit_intercept': False, 'class_weight': None, 'threshold': 0.368}. Best is trial 46 with value: 0.9693371720545759.\n",
      "[I 2025-07-01 10:01:29,962] Trial 442 finished with value: 0.9691751995872719 and parameters: {'solver_penalty': ('newton-cg', None), 'C': 7.163977108184289, 'tol': 0.0011566797317043573, 'fit_intercept': True, 'class_weight': None, 'threshold': 0.5660000000000001}. Best is trial 46 with value: 0.9693371720545759.\n",
      "[I 2025-07-01 10:01:30,165] Trial 445 finished with value: 0.9686354322423437 and parameters: {'solver_penalty': ('newton-cg', None), 'C': 0.4154821609179447, 'tol': 0.06367415041512084, 'fit_intercept': True, 'class_weight': None, 'threshold': 0.20800000000000002}. Best is trial 46 with value: 0.9693371720545759.\n",
      "[I 2025-07-01 10:01:31,379] Trial 446 finished with value: 0.9690133291360983 and parameters: {'solver_penalty': ('liblinear', 'l2'), 'C': 1.3151538464457784, 'tol': 0.03710333543443704, 'fit_intercept': True, 'class_weight': 'balanced', 'threshold': 0.42}. Best is trial 46 with value: 0.9693371720545759.\n",
      "[I 2025-07-01 10:01:32,903] Trial 447 finished with value: 0.9692291806938848 and parameters: {'solver_penalty': ('newton-cg', 'l2'), 'C': 5.544513754382997, 'tol': 0.08699852710862024, 'fit_intercept': True, 'class_weight': None, 'threshold': 0.526}. Best is trial 46 with value: 0.9693371720545759.\n",
      "[I 2025-07-01 10:01:33,788] Trial 450 finished with value: 0.9049347679715988 and parameters: {'solver_penalty': ('liblinear', 'l1'), 'C': 0.33525710619351295, 'tol': 0.018436084735002935, 'fit_intercept': True, 'class_weight': None, 'threshold': 0.9490000000000001}. Best is trial 46 with value: 0.9693371720545759.\n",
      "[I 2025-07-01 10:01:34,294] Trial 448 finished with value: 0.9690672373740465 and parameters: {'solver_penalty': ('newton-cholesky', None), 'C': 1.6344545302571472, 'tol': 0.018257996749903957, 'fit_intercept': True, 'class_weight': 'balanced', 'threshold': 0.8190000000000001}. Best is trial 46 with value: 0.9693371720545759.\n",
      "[I 2025-07-01 10:01:34,712] Trial 449 finished with value: 0.9691751995872719 and parameters: {'solver_penalty': ('newton-cg', None), 'C': 2.9167461641599077, 'tol': 0.056052069636422105, 'fit_intercept': True, 'class_weight': 'balanced', 'threshold': 0.582}. Best is trial 46 with value: 0.9693371720545759.\n",
      "[I 2025-07-01 10:01:36,086] Trial 451 finished with value: 0.9689593043082869 and parameters: {'solver_penalty': ('newton-cholesky', 'l2'), 'C': 0.4327512637290756, 'tol': 0.08289835145021025, 'fit_intercept': True, 'class_weight': None, 'threshold': 0.467}. Best is trial 46 with value: 0.9693371720545759.\n",
      "[I 2025-07-01 10:01:36,971] Trial 453 finished with value: 0.9692831763742303 and parameters: {'solver_penalty': ('newton-cholesky', None), 'C': 5.978845210048691, 'tol': 0.039728808600773866, 'fit_intercept': True, 'class_weight': None, 'threshold': 0.5670000000000001}. Best is trial 46 with value: 0.9693371720545759.\n",
      "[I 2025-07-01 10:01:38,020] Trial 454 finished with value: 0.9689593334557527 and parameters: {'solver_penalty': ('lbfgs', 'l2'), 'C': 9.153793680338971, 'tol': 0.08312863992007588, 'fit_intercept': False, 'class_weight': 'balanced', 'threshold': 0.291}. Best is trial 46 with value: 0.9693371720545759.\n",
      "[I 2025-07-01 10:01:38,391] Trial 455 finished with value: 0.9689053086279413 and parameters: {'solver_penalty': ('liblinear', 'l1'), 'C': 4.184727651163364, 'tol': 0.05988741604871653, 'fit_intercept': True, 'class_weight': 'balanced', 'threshold': 0.615}. Best is trial 46 with value: 0.9693371720545759.\n",
      "[I 2025-07-01 10:01:40,626] Trial 457 finished with value: 0.9690133145623653 and parameters: {'solver_penalty': ('newton-cholesky', 'l2'), 'C': 4.257574210667657, 'tol': 0.07493499820638043, 'fit_intercept': True, 'class_weight': None, 'threshold': 0.394}. Best is trial 46 with value: 0.9693371720545759.\n",
      "[I 2025-07-01 10:01:40,973] Trial 456 finished with value: 0.9687433944555691 and parameters: {'solver_penalty': ('newton-cg', 'l2'), 'C': 8.41361454784576, 'tol': 0.09258864954781941, 'fit_intercept': True, 'class_weight': 'balanced', 'threshold': 0.214}. Best is trial 46 with value: 0.9693371720545759.\n",
      "[I 2025-07-01 10:01:41,218] Trial 458 finished with value: 0.9691751995872719 and parameters: {'solver_penalty': ('newton-cholesky', None), 'C': 6.653828164056536, 'tol': 0.017333584315097784, 'fit_intercept': True, 'class_weight': None, 'threshold': 0.5650000000000001}. Best is trial 46 with value: 0.9693371720545759.\n",
      "[I 2025-07-01 10:01:41,409] Trial 452 finished with value: 0.9689053669228729 and parameters: {'solver_penalty': ('newton-cg', 'l2'), 'C': 5.171376377742684, 'tol': 0.0018845944974874894, 'fit_intercept': True, 'class_weight': 'balanced', 'threshold': 0.448}. Best is trial 46 with value: 0.9693371720545759.\n",
      "[I 2025-07-01 10:01:44,022] Trial 459 finished with value: 0.9675017269873472 and parameters: {'solver_penalty': ('newton-cholesky', None), 'C': 6.35034339567588, 'tol': 0.09419533763178439, 'fit_intercept': False, 'class_weight': None, 'threshold': 0.805}. Best is trial 46 with value: 0.9693371720545759.\n",
      "[I 2025-07-01 10:01:44,532] Trial 460 finished with value: 0.968851298373863 and parameters: {'solver_penalty': ('newton-cholesky', None), 'C': 6.165096532069988, 'tol': 0.031799530335381264, 'fit_intercept': True, 'class_weight': None, 'threshold': 0.704}. Best is trial 46 with value: 0.9693371720545759.\n",
      "[I 2025-07-01 10:01:44,538] Trial 462 finished with value: 0.5432387206594322 and parameters: {'solver_penalty': ('liblinear', 'l2'), 'C': 6.263965878663008, 'tol': 0.041734015143843325, 'fit_intercept': True, 'class_weight': 'balanced', 'threshold': 0.039}. Best is trial 46 with value: 0.9693371720545759.\n",
      "[I 2025-07-01 10:01:44,795] Trial 461 finished with value: 0.9689053232016743 and parameters: {'solver_penalty': ('newton-cholesky', None), 'C': 5.873472262099931, 'tol': 0.05381055377152376, 'fit_intercept': True, 'class_weight': None, 'threshold': 0.462}. Best is trial 46 with value: 0.9693371720545759.\n",
      "[I 2025-07-01 10:01:47,415] Trial 465 finished with value: 0.9692291806938848 and parameters: {'solver_penalty': ('lbfgs', None), 'C': 8.69365716701399, 'tol': 0.06695356164343064, 'fit_intercept': False, 'class_weight': None, 'threshold': 0.546}. Best is trial 46 with value: 0.9693371720545759.\n",
      "[I 2025-07-01 10:01:47,627] Trial 463 finished with value: 0.9689593188820197 and parameters: {'solver_penalty': ('newton-cholesky', None), 'C': 5.0475722603370725, 'tol': 0.04978678957556657, 'fit_intercept': True, 'class_weight': None, 'threshold': 0.40900000000000003}. Best is trial 46 with value: 0.9693371720545759.\n",
      "[I 2025-07-01 10:01:47,817] Trial 464 finished with value: 0.9690133145623653 and parameters: {'solver_penalty': ('newton-cholesky', None), 'C': 5.239279582666875, 'tol': 0.03712865811021412, 'fit_intercept': True, 'class_weight': None, 'threshold': 0.389}. Best is trial 46 with value: 0.9693371720545759.\n",
      "[I 2025-07-01 10:01:48,529] Trial 466 finished with value: 0.9692831763742303 and parameters: {'solver_penalty': ('newton-cholesky', None), 'C': 7.205097715517398, 'tol': 0.05794936462482745, 'fit_intercept': True, 'class_weight': None, 'threshold': 0.551}. Best is trial 46 with value: 0.9693371720545759.\n",
      "[I 2025-07-01 10:01:50,021] Trial 467 finished with value: 0.9689053377754071 and parameters: {'solver_penalty': ('liblinear', 'l2'), 'C': 8.847079162914188, 'tol': 0.0012323086472105628, 'fit_intercept': False, 'class_weight': None, 'threshold': 0.343}. Best is trial 46 with value: 0.9693371720545759.\n",
      "[I 2025-07-01 10:01:50,722] Trial 469 finished with value: 0.9687433944555691 and parameters: {'solver_penalty': ('liblinear', 'l2'), 'C': 0.32257899338157614, 'tol': 0.03510462034196717, 'fit_intercept': True, 'class_weight': None, 'threshold': 0.201}. Best is trial 46 with value: 0.9693371720545759.\n",
      "[I 2025-07-01 10:01:51,068] Trial 468 finished with value: 0.9692291806938848 and parameters: {'solver_penalty': ('liblinear', 'l2'), 'C': 9.056548983394501, 'tol': 0.0020103913776607384, 'fit_intercept': True, 'class_weight': None, 'threshold': 0.544}. Best is trial 46 with value: 0.9693371720545759.\n",
      "[I 2025-07-01 10:01:53,105] Trial 470 finished with value: 0.9691751995872719 and parameters: {'solver_penalty': ('newton-cholesky', None), 'C': 7.0872449393268875, 'tol': 0.04980485253842312, 'fit_intercept': True, 'class_weight': 'balanced', 'threshold': 0.766}. Best is trial 46 with value: 0.9693371720545759.\n",
      "[I 2025-07-01 10:01:53,297] Trial 472 finished with value: 0.9637767683038799 and parameters: {'solver_penalty': ('liblinear', 'l1'), 'C': 4.618154270236545, 'tol': 0.03722553955464518, 'fit_intercept': False, 'class_weight': None, 'threshold': 0.093}. Best is trial 46 with value: 0.9693371720545759.\n",
      "[I 2025-07-01 10:01:54,048] Trial 471 finished with value: 0.9689053669228729 and parameters: {'solver_penalty': ('newton-cholesky', None), 'C': 5.836474661519201, 'tol': 0.03743532145851752, 'fit_intercept': True, 'class_weight': 'balanced', 'threshold': 0.447}. Best is trial 46 with value: 0.9693371720545759.\n",
      "[I 2025-07-01 10:01:54,370] Trial 473 finished with value: 0.9691212184806594 and parameters: {'solver_penalty': ('newton-cholesky', None), 'C': 6.0219558477183215, 'tol': 0.055347174927143965, 'fit_intercept': True, 'class_weight': None, 'threshold': 0.635}. Best is trial 46 with value: 0.9693371720545759.\n",
      "[I 2025-07-01 10:01:56,278] Trial 475 finished with value: 0.9665840044537328 and parameters: {'solver_penalty': ('newton-cholesky', None), 'C': 3.406907173647618, 'tol': 0.04454685217047046, 'fit_intercept': False, 'class_weight': None, 'threshold': 0.8200000000000001}. Best is trial 46 with value: 0.9693371720545759.\n",
      "[I 2025-07-01 10:01:57,570] Trial 476 finished with value: 0.9690132854148995 and parameters: {'solver_penalty': ('newton-cholesky', None), 'C': 9.525028717004307, 'tol': 0.09006913973630312, 'fit_intercept': False, 'class_weight': None, 'threshold': 0.488}. Best is trial 46 with value: 0.9693371720545759.\n",
      "[I 2025-07-01 10:01:57,778] Trial 474 finished with value: 0.9689053523491399 and parameters: {'solver_penalty': ('newton-cg', None), 'C': 1.5427793422788092, 'tol': 0.08965303664849932, 'fit_intercept': True, 'class_weight': 'balanced', 'threshold': 0.241}. Best is trial 46 with value: 0.9693371720545759.\n",
      "[I 2025-07-01 10:01:58,222] Trial 477 finished with value: 0.9692291806938848 and parameters: {'solver_penalty': ('lbfgs', 'l2'), 'C': 5.675191380310119, 'tol': 0.05480921955684376, 'fit_intercept': True, 'class_weight': 'balanced', 'threshold': 0.549}. Best is trial 46 with value: 0.9693371720545759.\n",
      "[I 2025-07-01 10:02:00,059] Trial 479 finished with value: 0.9691751995872719 and parameters: {'solver_penalty': ('liblinear', 'l2'), 'C': 5.862658472337458, 'tol': 0.04771906400635283, 'fit_intercept': True, 'class_weight': None, 'threshold': 0.5740000000000001}. Best is trial 46 with value: 0.9693371720545759.\n",
      "[I 2025-07-01 10:02:00,273] Trial 478 finished with value: 0.9692292098413503 and parameters: {'solver_penalty': ('lbfgs', 'l2'), 'C': 2.238786317351983, 'tol': 0.07032314876585445, 'fit_intercept': False, 'class_weight': 'balanced', 'threshold': 0.451}. Best is trial 46 with value: 0.9693371720545759.\n",
      "[I 2025-07-01 10:02:01,305] Trial 481 finished with value: 0.9691751995872719 and parameters: {'solver_penalty': ('liblinear', 'l2'), 'C': 6.910792109238883, 'tol': 0.04074332723351404, 'fit_intercept': True, 'class_weight': None, 'threshold': 0.56}. Best is trial 46 with value: 0.9693371720545759.\n",
      "[I 2025-07-01 10:02:01,532] Trial 480 finished with value: 0.9692291952676175 and parameters: {'solver_penalty': ('newton-cholesky', None), 'C': 7.425408340021871, 'tol': 0.04475849775170053, 'fit_intercept': True, 'class_weight': None, 'threshold': 0.53}. Best is trial 46 with value: 0.9693371720545759.\n",
      "[I 2025-07-01 10:02:02,786] Trial 482 finished with value: 0.9500648531113463 and parameters: {'solver_penalty': ('liblinear', 'l2'), 'C': 5.412429525445075, 'tol': 0.0931895118990814, 'fit_intercept': True, 'class_weight': None, 'threshold': 0.905}. Best is trial 46 with value: 0.9693371720545759.\n",
      "[I 2025-07-01 10:02:04,255] Trial 485 finished with value: 0.9691752141610049 and parameters: {'solver_penalty': ('liblinear', 'l1'), 'C': 6.573426299878315, 'tol': 0.02350299019833973, 'fit_intercept': False, 'class_weight': 'balanced', 'threshold': 0.545}. Best is trial 46 with value: 0.9693371720545759.\n",
      "[I 2025-07-01 10:02:04,821] Trial 483 finished with value: 0.9691212184806594 and parameters: {'solver_penalty': ('lbfgs', 'l2'), 'C': 2.01162061670233, 'tol': 0.0020696469038960536, 'fit_intercept': True, 'class_weight': None, 'threshold': 0.617}. Best is trial 46 with value: 0.9693371720545759.\n",
      "[I 2025-07-01 10:02:05,855] Trial 484 finished with value: 0.9686894279226891 and parameters: {'solver_penalty': ('newton-cholesky', 'l2'), 'C': 2.89105382456956, 'tol': 0.09227456721113393, 'fit_intercept': True, 'class_weight': 'balanced', 'threshold': 0.381}. Best is trial 46 with value: 0.9693371720545759.\n",
      "[I 2025-07-01 10:02:06,715] Trial 486 finished with value: 0.9689593334557527 and parameters: {'solver_penalty': ('newton-cg', None), 'C': 5.7924708436794585, 'tol': 0.06913340689034907, 'fit_intercept': False, 'class_weight': None, 'threshold': 0.279}. Best is trial 46 with value: 0.9693371720545759.\n",
      "[I 2025-07-01 10:02:07,869] Trial 487 finished with value: 0.9689052794804756 and parameters: {'solver_penalty': ('newton-cholesky', 'l2'), 'C': 5.595579678934198, 'tol': 0.07803197597269006, 'fit_intercept': True, 'class_weight': None, 'threshold': 0.6880000000000001}. Best is trial 46 with value: 0.9693371720545759.\n",
      "[I 2025-07-01 10:02:08,235] Trial 488 finished with value: 0.9689052794804756 and parameters: {'solver_penalty': ('newton-cholesky', 'l2'), 'C': 5.825807566044834, 'tol': 0.07462190927590175, 'fit_intercept': True, 'class_weight': None, 'threshold': 0.7010000000000001}. Best is trial 46 with value: 0.9693371720545759.\n",
      "[I 2025-07-01 10:02:08,617] Trial 489 finished with value: 0.9691751995872719 and parameters: {'solver_penalty': ('lbfgs', None), 'C': 5.578582965473719, 'tol': 0.09105791175505157, 'fit_intercept': False, 'class_weight': None, 'threshold': 0.557}. Best is trial 46 with value: 0.9693371720545759.\n",
      "[I 2025-07-01 10:02:10,457] Trial 491 finished with value: 0.9691751995872719 and parameters: {'solver_penalty': ('liblinear', 'l1'), 'C': 0.8248191824598559, 'tol': 0.06286516688561841, 'fit_intercept': False, 'class_weight': None, 'threshold': 0.495}. Best is trial 46 with value: 0.9693371720545759.\n",
      "[I 2025-07-01 10:02:11,287] Trial 490 finished with value: 0.9691752287347377 and parameters: {'solver_penalty': ('newton-cg', None), 'C': 1.0663101701348627, 'tol': 0.03842595646529208, 'fit_intercept': False, 'class_weight': 'balanced', 'threshold': 0.427}. Best is trial 46 with value: 0.9693371720545759.\n",
      "[I 2025-07-01 10:02:11,827] Trial 492 finished with value: 0.961509445236284 and parameters: {'solver_penalty': ('lbfgs', 'l2'), 'C': 0.0824008698397316, 'tol': 0.08358641919662044, 'fit_intercept': True, 'class_weight': 'balanced', 'threshold': 0.851}. Best is trial 46 with value: 0.9693371720545759.\n",
      "[I 2025-07-01 10:02:12,030] Trial 493 finished with value: 0.9692291952676175 and parameters: {'solver_penalty': ('newton-cholesky', None), 'C': 6.344476083052042, 'tol': 0.06631828435558511, 'fit_intercept': True, 'class_weight': None, 'threshold': 0.53}. Best is trial 46 with value: 0.9693371720545759.\n",
      "[I 2025-07-01 10:02:13,716] Trial 494 finished with value: 0.9684194640946944 and parameters: {'solver_penalty': ('newton-cholesky', None), 'C': 1.6865507492133802, 'tol': 0.08179206837267135, 'fit_intercept': True, 'class_weight': None, 'threshold': 0.775}. Best is trial 46 with value: 0.9693371720545759.\n",
      "[I 2025-07-01 10:02:14,487] Trial 495 finished with value: 0.9691212476281251 and parameters: {'solver_penalty': ('newton-cg', None), 'C': 9.9444181941732, 'tol': 0.046334613698824544, 'fit_intercept': True, 'class_weight': None, 'threshold': 0.40900000000000003}. Best is trial 46 with value: 0.9693371720545759.\n",
      "[I 2025-07-01 10:02:15,182] Trial 496 finished with value: 0.9690133145623653 and parameters: {'solver_penalty': ('lbfgs', 'l2'), 'C': 1.314941592848574, 'tol': 0.06199466949637782, 'fit_intercept': True, 'class_weight': 'balanced', 'threshold': 0.244}. Best is trial 46 with value: 0.9693371720545759.\n",
      "[I 2025-07-01 10:02:16,440] Trial 497 finished with value: 0.6027299662180872 and parameters: {'solver_penalty': ('newton-cg', 'l2'), 'C': 9.12003255336587, 'tol': 0.030152245564151244, 'fit_intercept': True, 'class_weight': 'balanced', 'threshold': 0.042}. Best is trial 46 with value: 0.9693371720545759.\n",
      "[I 2025-07-01 10:02:16,767] Trial 498 finished with value: 0.9690672665215121 and parameters: {'solver_penalty': ('newton-cholesky', 'l2'), 'C': 8.938622808121231, 'tol': 0.0004325708784861928, 'fit_intercept': True, 'class_weight': None, 'threshold': 0.444}. Best is trial 46 with value: 0.9693371720545759.\n",
      "[I 2025-07-01 10:02:16,914] Trial 499 finished with value: 0.9691212184806594 and parameters: {'solver_penalty': ('lbfgs', 'l2'), 'C': 1.367359152709381, 'tol': 0.03896347894486891, 'fit_intercept': True, 'class_weight': None, 'threshold': 0.62}. Best is trial 46 with value: 0.9693371720545759.\n"
     ]
    }
   ],
   "source": [
    "def objective(trial):\n",
    "    solver_penalty_options = [\n",
    "        ('liblinear', 'l1'),\n",
    "        ('liblinear', 'l2'),\n",
    "        ('lbfgs', 'l2'),\n",
    "        ('lbfgs', None),\n",
    "        ('newton-cg', 'l2'),\n",
    "        ('newton-cg', None),\n",
    "        ('newton-cholesky', 'l2'),\n",
    "        ('newton-cholesky', None)\n",
    "    ]\n",
    "    solver, penalty = trial.suggest_categorical('solver_penalty', solver_penalty_options)\n",
    "    \n",
    "    params = {\n",
    "        'random_state': CFG.seed,\n",
    "        'max_iter': 500,\n",
    "        'C': trial.suggest_float('C', 0, 10),\n",
    "        'tol': trial.suggest_float('tol', 1e-10, 1e-1),\n",
    "        'fit_intercept': trial.suggest_categorical('fit_intercept', [True, False]),\n",
    "        'class_weight': trial.suggest_categorical('class_weight', ['balanced', None]),\n",
    "        'solver': solver,\n",
    "        'penalty': penalty\n",
    "    }\n",
    "    \n",
    "    threshold = trial.suggest_float('threshold', 0, 1, step=0.001)\n",
    "    \n",
    "    trainer = Trainer(\n",
    "        LogisticRegression(**params),\n",
    "        cv=CFG.cv,\n",
    "        metric=CFG.metric,\n",
    "        metric_precision=6,\n",
    "        metric_threshold=threshold,\n",
    "        use_early_stopping=False,\n",
    "        verbose=False,\n",
    "        task=\"binary\",\n",
    "    )\n",
    "    trainer.fit(X, y)\n",
    "    \n",
    "    return np.mean(trainer.fold_scores)\n",
    "\n",
    "sampler = optuna.samplers.TPESampler(seed=CFG.seed, multivariate=True, n_startup_trials=CFG.n_optuna_trials // 10)\n",
    "study = optuna.create_study(direction='maximize', sampler=sampler)\n",
    "study.optimize(objective, n_trials=CFG.n_optuna_trials, n_jobs=-1)\n",
    "best_params = study.best_params"
   ]
  },
  {
   "cell_type": "code",
   "execution_count": 19,
   "id": "bbe96f02",
   "metadata": {
    "execution": {
     "iopub.execute_input": "2025-07-01T10:02:16.991445Z",
     "iopub.status.busy": "2025-07-01T10:02:16.990882Z",
     "iopub.status.idle": "2025-07-01T10:02:16.995536Z",
     "shell.execute_reply": "2025-07-01T10:02:16.994849Z"
    },
    "papermill": {
     "duration": 0.040822,
     "end_time": "2025-07-01T10:02:16.996880",
     "exception": false,
     "start_time": "2025-07-01T10:02:16.956058",
     "status": "completed"
    },
    "tags": []
   },
   "outputs": [],
   "source": [
    "solver, penalty = best_params['solver_penalty']\n",
    "lr_params = {\n",
    "    'random_state': CFG.seed,\n",
    "    'max_iter': 500,\n",
    "    'C': best_params['C'],\n",
    "    'tol': best_params['tol'],\n",
    "    'fit_intercept': best_params['fit_intercept'],\n",
    "    'class_weight': best_params['class_weight'],\n",
    "    'solver': solver,\n",
    "    'penalty': penalty\n",
    "}"
   ]
  },
  {
   "cell_type": "code",
   "execution_count": 20,
   "id": "4e6e499a",
   "metadata": {
    "execution": {
     "iopub.execute_input": "2025-07-01T10:02:17.067107Z",
     "iopub.status.busy": "2025-07-01T10:02:17.066812Z",
     "iopub.status.idle": "2025-07-01T10:02:17.071746Z",
     "shell.execute_reply": "2025-07-01T10:02:17.070780Z"
    },
    "papermill": {
     "duration": 0.041417,
     "end_time": "2025-07-01T10:02:17.073141",
     "exception": false,
     "start_time": "2025-07-01T10:02:17.031724",
     "status": "completed"
    },
    "tags": []
   },
   "outputs": [
    {
     "name": "stdout",
     "output_type": "stream",
     "text": [
      "{\n",
      "  \"random_state\": 42,\n",
      "  \"max_iter\": 500,\n",
      "  \"C\": 3.8519697463032943,\n",
      "  \"tol\": 0.002139886886670088,\n",
      "  \"fit_intercept\": true,\n",
      "  \"class_weight\": null,\n",
      "  \"solver\": \"newton-cg\",\n",
      "  \"penalty\": \"l2\"\n",
      "}\n"
     ]
    }
   ],
   "source": [
    "print(json.dumps(lr_params, indent=2))"
   ]
  },
  {
   "cell_type": "code",
   "execution_count": 21,
   "id": "f3c0a522",
   "metadata": {
    "execution": {
     "iopub.execute_input": "2025-07-01T10:02:17.141871Z",
     "iopub.status.busy": "2025-07-01T10:02:17.141549Z",
     "iopub.status.idle": "2025-07-01T10:02:17.146600Z",
     "shell.execute_reply": "2025-07-01T10:02:17.145751Z"
    },
    "papermill": {
     "duration": 0.041169,
     "end_time": "2025-07-01T10:02:17.147995",
     "exception": false,
     "start_time": "2025-07-01T10:02:17.106826",
     "status": "completed"
    },
    "tags": []
   },
   "outputs": [
    {
     "name": "stdout",
     "output_type": "stream",
     "text": [
      "Best threshold: 0.468\n"
     ]
    }
   ],
   "source": [
    "best_threshold = study.best_params['threshold']\n",
    "print(f'Best threshold: {best_threshold:.3f}')"
   ]
  },
  {
   "cell_type": "code",
   "execution_count": 22,
   "id": "f8b3e72d",
   "metadata": {
    "execution": {
     "iopub.execute_input": "2025-07-01T10:02:17.216869Z",
     "iopub.status.busy": "2025-07-01T10:02:17.216530Z",
     "iopub.status.idle": "2025-07-01T10:02:18.067473Z",
     "shell.execute_reply": "2025-07-01T10:02:18.066544Z"
    },
    "papermill": {
     "duration": 0.886885,
     "end_time": "2025-07-01T10:02:18.069035",
     "exception": false,
     "start_time": "2025-07-01T10:02:17.182150",
     "status": "completed"
    },
    "tags": []
   },
   "outputs": [
    {
     "name": "stdout",
     "output_type": "stream",
     "text": [
      "Training LogisticRegression\n",
      "\n",
      "--- Fold 0 - accuracy_score: 0.969771 - Time: 0.02 s\n",
      "--- Fold 1 - accuracy_score: 0.968421 - Time: 0.02 s\n",
      "--- Fold 2 - accuracy_score: 0.966262 - Time: 0.02 s\n",
      "--- Fold 3 - accuracy_score: 0.971120 - Time: 0.02 s\n",
      "--- Fold 4 - accuracy_score: 0.971112 - Time: 0.02 s\n",
      "\n",
      "------ Overall accuracy_score: 0.969337 - Mean accuracy_score: 0.969337 ± 0.001834 - Time: 0.84 s\n"
     ]
    }
   ],
   "source": [
    "lr_trainer = Trainer(\n",
    "    LogisticRegression(**lr_params),\n",
    "    cv=CFG.cv,\n",
    "    metric=CFG.metric,\n",
    "    metric_threshold=best_threshold,\n",
    "    metric_precision=6,\n",
    "    use_early_stopping=False,\n",
    "    task=\"binary\",\n",
    ")\n",
    "\n",
    "lr_trainer.fit(X, y)\n",
    "\n",
    "scores[\"LogisticRegression\"] = lr_trainer.fold_scores\n",
    "lr_test_pred_probs = lr_trainer.predict(X_test)"
   ]
  },
  {
   "cell_type": "code",
   "execution_count": 23,
   "id": "badd6fa7",
   "metadata": {
    "execution": {
     "iopub.execute_input": "2025-07-01T10:02:18.139153Z",
     "iopub.status.busy": "2025-07-01T10:02:18.138850Z",
     "iopub.status.idle": "2025-07-01T10:02:18.196671Z",
     "shell.execute_reply": "2025-07-01T10:02:18.195776Z"
    },
    "papermill": {
     "duration": 0.094753,
     "end_time": "2025-07-01T10:02:18.198440",
     "exception": false,
     "start_time": "2025-07-01T10:02:18.103687",
     "status": "completed"
    },
    "tags": []
   },
   "outputs": [
    {
     "data": {
      "text/html": [
       "<div>\n",
       "<style scoped>\n",
       "    .dataframe tbody tr th:only-of-type {\n",
       "        vertical-align: middle;\n",
       "    }\n",
       "\n",
       "    .dataframe tbody tr th {\n",
       "        vertical-align: top;\n",
       "    }\n",
       "\n",
       "    .dataframe thead th {\n",
       "        text-align: right;\n",
       "    }\n",
       "</style>\n",
       "<table border=\"1\" class=\"dataframe\">\n",
       "  <thead>\n",
       "    <tr style=\"text-align: right;\">\n",
       "      <th></th>\n",
       "      <th>id</th>\n",
       "      <th>Personality</th>\n",
       "    </tr>\n",
       "  </thead>\n",
       "  <tbody>\n",
       "    <tr>\n",
       "      <th>0</th>\n",
       "      <td>18524</td>\n",
       "      <td>Extrovert</td>\n",
       "    </tr>\n",
       "    <tr>\n",
       "      <th>1</th>\n",
       "      <td>18525</td>\n",
       "      <td>Introvert</td>\n",
       "    </tr>\n",
       "    <tr>\n",
       "      <th>2</th>\n",
       "      <td>18526</td>\n",
       "      <td>Extrovert</td>\n",
       "    </tr>\n",
       "    <tr>\n",
       "      <th>3</th>\n",
       "      <td>18527</td>\n",
       "      <td>Extrovert</td>\n",
       "    </tr>\n",
       "    <tr>\n",
       "      <th>4</th>\n",
       "      <td>18528</td>\n",
       "      <td>Introvert</td>\n",
       "    </tr>\n",
       "  </tbody>\n",
       "</table>\n",
       "</div>"
      ],
      "text/plain": [
       "      id Personality\n",
       "0  18524   Extrovert\n",
       "1  18525   Introvert\n",
       "2  18526   Extrovert\n",
       "3  18527   Extrovert\n",
       "4  18528   Introvert"
      ]
     },
     "execution_count": 23,
     "metadata": {},
     "output_type": "execute_result"
    }
   ],
   "source": [
    "save_submission('logistic-regression', lr_test_pred_probs, np.mean(scores['LogisticRegression']), best_threshold)"
   ]
  },
  {
   "cell_type": "code",
   "execution_count": 24,
   "id": "f92ec77f",
   "metadata": {
    "execution": {
     "iopub.execute_input": "2025-07-01T10:02:18.270192Z",
     "iopub.status.busy": "2025-07-01T10:02:18.269322Z",
     "iopub.status.idle": "2025-07-01T10:02:18.274200Z",
     "shell.execute_reply": "2025-07-01T10:02:18.273286Z"
    },
    "papermill": {
     "duration": 0.042425,
     "end_time": "2025-07-01T10:02:18.275746",
     "exception": false,
     "start_time": "2025-07-01T10:02:18.233321",
     "status": "completed"
    },
    "tags": []
   },
   "outputs": [],
   "source": [
    "lr_coeffs = np.zeros((1,len(X.columns)))\n",
    "for estimator in lr_trainer.estimators:\n",
    "    lr_coeffs += estimator.coef_ / CFG.n_folds"
   ]
  },
  {
   "cell_type": "code",
   "execution_count": 25,
   "id": "943fc7b9",
   "metadata": {
    "_kg_hide-input": false,
    "execution": {
     "iopub.execute_input": "2025-07-01T10:02:18.346150Z",
     "iopub.status.busy": "2025-07-01T10:02:18.345326Z",
     "iopub.status.idle": "2025-07-01T10:02:18.590042Z",
     "shell.execute_reply": "2025-07-01T10:02:18.589256Z"
    },
    "papermill": {
     "duration": 0.28135,
     "end_time": "2025-07-01T10:02:18.591499",
     "exception": false,
     "start_time": "2025-07-01T10:02:18.310149",
     "status": "completed"
    },
    "tags": []
   },
   "outputs": [
    {
     "data": {
      "image/png": "[encoded data removed]",
      "text/plain": [
       "<Figure size 1000x300 with 1 Axes>"
      ]
     },
     "metadata": {},
     "output_type": "display_data"
    }
   ],
   "source": [
    "plot_weights(lr_coeffs, 'LR Coefficients')"
   ]
  },
  {
   "cell_type": "markdown",
   "id": "463902b3",
   "metadata": {
    "papermill": {
     "duration": 0.036491,
     "end_time": "2025-07-01T10:02:18.663487",
     "exception": false,
     "start_time": "2025-07-01T10:02:18.626996",
     "status": "completed"
    },
    "tags": []
   },
   "source": [
    "# Results"
   ]
  },
  {
   "cell_type": "code",
   "execution_count": 26,
   "id": "3737c6c1",
   "metadata": {
    "_kg_hide-input": false,
    "execution": {
     "iopub.execute_input": "2025-07-01T10:02:18.734277Z",
     "iopub.status.busy": "2025-07-01T10:02:18.733351Z",
     "iopub.status.idle": "2025-07-01T10:02:19.322766Z",
     "shell.execute_reply": "2025-07-01T10:02:19.321965Z"
    },
    "papermill": {
     "duration": 0.626771,
     "end_time": "2025-07-01T10:02:19.324700",
     "exception": false,
     "start_time": "2025-07-01T10:02:18.697929",
     "status": "completed"
    },
    "tags": []
   },
   "outputs": [
    {
     "data": {
      "image/png": "[encoded data removed]",
      "text/plain": [
       "<Figure size 1500x280 with 2 Axes>"
      ]
     },
     "metadata": {},
     "output_type": "display_data"
    }
   ],
   "source": [
    "scores = pd.DataFrame(scores)\n",
    "mean_scores = scores.mean().sort_values(ascending=False)\n",
    "order = scores.mean().sort_values(ascending=False).index.tolist()\n",
    "\n",
    "min_score = mean_scores.min()\n",
    "max_score = mean_scores.max()\n",
    "padding = (max_score - min_score) * 0.5\n",
    "lower_limit = min_score - padding\n",
    "upper_limit = max_score + padding\n",
    "\n",
    "fig, axs = plt.subplots(1, 2, figsize=(15, scores.shape[1] * 0.4))\n",
    "\n",
    "boxplot = sns.boxplot(data=scores, order=order, ax=axs[0], orient='h', color='grey')\n",
    "axs[0].set_title('Fold Accuracy')\n",
    "axs[0].set_xlabel('')\n",
    "axs[0].set_ylabel('')\n",
    "\n",
    "barplot = sns.barplot(x=mean_scores.values, y=mean_scores.index, ax=axs[1], color='grey')\n",
    "axs[1].set_title('Average Accuracy')\n",
    "axs[1].set_xlabel('')\n",
    "axs[1].set_xlim(left=lower_limit, right=upper_limit)\n",
    "axs[1].set_ylabel('')\n",
    "\n",
    "for i, (score, model) in enumerate(zip(mean_scores.values, mean_scores.index)):\n",
    "    color = 'cyan' if 'logistic' in model.lower() else 'grey'\n",
    "    barplot.patches[i].set_facecolor(color)\n",
    "    boxplot.patches[i].set_facecolor(color)\n",
    "    barplot.text(score, i, round(score, 6), va='center')\n",
    "\n",
    "plt.tight_layout()\n",
    "plt.show()"
   ]
  },
  {
   "cell_type": "code",
   "execution_count": 27,
   "id": "ac757083",
   "metadata": {
    "execution": {
     "iopub.execute_input": "2025-07-01T10:02:19.398651Z",
     "iopub.status.busy": "2025-07-01T10:02:19.398000Z",
     "iopub.status.idle": "2025-07-01T10:02:19.403011Z",
     "shell.execute_reply": "2025-07-01T10:02:19.402185Z"
    },
    "papermill": {
     "duration": 0.042922,
     "end_time": "2025-07-01T10:02:19.404368",
     "exception": false,
     "start_time": "2025-07-01T10:02:19.361446",
     "status": "completed"
    },
    "tags": []
   },
   "outputs": [],
   "source": [
    "shutil.rmtree('catboost_info', ignore_errors=True)"
   ]
  }
 ],
 "metadata": {
  "kaggle": {
   "accelerator": "none",
   "dataSources": [
    {
     "databundleVersionId": 12738969,
     "sourceId": 91718,
     "sourceType": "competition"
    }
   ],
   "dockerImageVersionId": 31040,
   "isGpuEnabled": false,
   "isInternetEnabled": true,
   "language": "python",
   "sourceType": "notebook"
  },
  "kernelspec": {
   "display_name": ".venv",
   "language": "python",
   "name": "python3"
  },
  "language_info": {
   "codemirror_mode": {
    "name": "ipython",
    "version": 3
   },
   "file_extension": ".py",
   "mimetype": "text/x-python",
   "name": "python",
   "nbconvert_exporter": "python",
   "pygments_lexer": "ipython3",
   "version": "3.11.11"
  },
  "papermill": {
   "default_parameters": {},
   "duration": 547.288848,
   "end_time": "2025-07-01T10:02:20.662275",
   "environment_variables": {},
   "exception": null,
   "input_path": "__notebook__.ipynb",
   "output_path": "__notebook__.ipynb",
   "parameters": {},
   "start_time": "2025-07-01T09:53:13.373427",
   "version": "2.6.0"
  }
 },
 "nbformat": 4,
 "nbformat_minor": 5
}
