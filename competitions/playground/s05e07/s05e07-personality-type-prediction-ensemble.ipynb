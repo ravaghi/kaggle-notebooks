{
 "cells": [
  {
   "cell_type": "markdown",
   "id": "118e58b0",
   "metadata": {
    "papermill": {
     "duration": 0.005602,
     "end_time": "2025-07-02T12:11:37.385913",
     "exception": false,
     "start_time": "2025-07-02T12:11:37.380311",
     "status": "completed"
    },
    "tags": []
   },
   "source": [
    "# Imports and configs"
   ]
  },
  {
   "cell_type": "code",
   "execution_count": 1,
   "id": "c8486a6d",
   "metadata": {
    "_kg_hide-output": true,
    "execution": {
     "iopub.execute_input": "2025-07-02T12:11:37.397457Z",
     "iopub.status.busy": "2025-07-02T12:11:37.396927Z",
     "iopub.status.idle": "2025-07-02T12:11:46.319923Z",
     "shell.execute_reply": "2025-07-02T12:11:46.318733Z"
    },
    "papermill": {
     "duration": 8.930461,
     "end_time": "2025-07-02T12:11:46.321665",
     "exception": false,
     "start_time": "2025-07-02T12:11:37.391204",
     "status": "completed"
    },
    "scrolled": true,
    "tags": []
   },
   "outputs": [
    {
     "name": "stdout",
     "output_type": "stream",
     "text": [
      "Collecting scikit-learn==1.5.2\r\n",
      "  Downloading scikit_learn-1.5.2-cp311-cp311-manylinux_2_17_x86_64.manylinux2014_x86_64.whl.metadata (13 kB)\r\n",
      "Collecting koolbox\r\n",
      "  Downloading koolbox-0.1.3-py3-none-any.whl.metadata (3.4 kB)\r\n",
      "Requirement already satisfied: numpy>=1.19.5 in /usr/local/lib/python3.11/dist-packages (from scikit-learn==1.5.2) (1.26.4)\r\n",
      "Requirement already satisfied: scipy>=1.6.0 in /usr/local/lib/python3.11/dist-packages (from scikit-learn==1.5.2) (1.15.2)\r\n",
      "Requirement already satisfied: joblib>=1.2.0 in /usr/local/lib/python3.11/dist-packages (from scikit-learn==1.5.2) (1.5.0)\r\n",
      "Requirement already satisfied: threadpoolctl>=3.1.0 in /usr/local/lib/python3.11/dist-packages (from scikit-learn==1.5.2) (3.6.0)\r\n",
      "Requirement already satisfied: optuna>=4.2.1 in /usr/local/lib/python3.11/dist-packages (from koolbox) (4.3.0)\r\n",
      "Requirement already satisfied: pandas>=2.2.3 in /usr/local/lib/python3.11/dist-packages (from koolbox) (2.2.3)\r\n",
      "Requirement already satisfied: mkl_fft in /usr/local/lib/python3.11/dist-packages (from numpy>=1.19.5->scikit-learn==1.5.2) (1.3.8)\r\n",
      "Requirement already satisfied: mkl_random in /usr/local/lib/python3.11/dist-packages (from numpy>=1.19.5->scikit-learn==1.5.2) (1.2.4)\r\n",
      "Requirement already satisfied: mkl_umath in /usr/local/lib/python3.11/dist-packages (from numpy>=1.19.5->scikit-learn==1.5.2) (0.1.1)\r\n",
      "Requirement already satisfied: mkl in /usr/local/lib/python3.11/dist-packages (from numpy>=1.19.5->scikit-learn==1.5.2) (2025.1.0)\r\n",
      "Requirement already satisfied: tbb4py in /usr/local/lib/python3.11/dist-packages (from numpy>=1.19.5->scikit-learn==1.5.2) (2022.1.0)\r\n",
      "Requirement already satisfied: mkl-service in /usr/local/lib/python3.11/dist-packages (from numpy>=1.19.5->scikit-learn==1.5.2) (2.4.1)\r\n",
      "Requirement already satisfied: alembic>=1.5.0 in /usr/local/lib/python3.11/dist-packages (from optuna>=4.2.1->koolbox) (1.15.2)\r\n",
      "Requirement already satisfied: colorlog in /usr/local/lib/python3.11/dist-packages (from optuna>=4.2.1->koolbox) (6.9.0)\r\n",
      "Requirement already satisfied: packaging>=20.0 in /usr/local/lib/python3.11/dist-packages (from optuna>=4.2.1->koolbox) (25.0)\r\n",
      "Requirement already satisfied: sqlalchemy>=1.4.2 in /usr/local/lib/python3.11/dist-packages (from optuna>=4.2.1->koolbox) (2.0.40)\r\n",
      "Requirement already satisfied: tqdm in /usr/local/lib/python3.11/dist-packages (from optuna>=4.2.1->koolbox) (4.67.1)\r\n",
      "Requirement already satisfied: PyYAML in /usr/local/lib/python3.11/dist-packages (from optuna>=4.2.1->koolbox) (6.0.2)\r\n",
      "Requirement already satisfied: python-dateutil>=2.8.2 in /usr/local/lib/python3.11/dist-packages (from pandas>=2.2.3->koolbox) (2.9.0.post0)\r\n",
      "Requirement already satisfied: pytz>=2020.1 in /usr/local/lib/python3.11/dist-packages (from pandas>=2.2.3->koolbox) (2025.2)\r\n",
      "Requirement already satisfied: tzdata>=2022.7 in /usr/local/lib/python3.11/dist-packages (from pandas>=2.2.3->koolbox) (2025.2)\r\n",
      "Requirement already satisfied: Mako in /usr/local/lib/python3.11/dist-packages (from alembic>=1.5.0->optuna>=4.2.1->koolbox) (1.3.10)\r\n",
      "Requirement already satisfied: typing-extensions>=4.12 in /usr/local/lib/python3.11/dist-packages (from alembic>=1.5.0->optuna>=4.2.1->koolbox) (4.13.2)\r\n",
      "Requirement already satisfied: six>=1.5 in /usr/local/lib/python3.11/dist-packages (from python-dateutil>=2.8.2->pandas>=2.2.3->koolbox) (1.17.0)\r\n",
      "Requirement already satisfied: greenlet>=1 in /usr/local/lib/python3.11/dist-packages (from sqlalchemy>=1.4.2->optuna>=4.2.1->koolbox) (3.1.1)\r\n",
      "Requirement already satisfied: intel-openmp<2026,>=2024 in /usr/local/lib/python3.11/dist-packages (from mkl->numpy>=1.19.5->scikit-learn==1.5.2) (2024.2.0)\r\n",
      "Requirement already satisfied: tbb==2022.* in /usr/local/lib/python3.11/dist-packages (from mkl->numpy>=1.19.5->scikit-learn==1.5.2) (2022.1.0)\r\n",
      "Requirement already satisfied: tcmlib==1.* in /usr/local/lib/python3.11/dist-packages (from tbb==2022.*->mkl->numpy>=1.19.5->scikit-learn==1.5.2) (1.3.0)\r\n",
      "Requirement already satisfied: intel-cmplr-lib-rt in /usr/local/lib/python3.11/dist-packages (from mkl_umath->numpy>=1.19.5->scikit-learn==1.5.2) (2024.2.0)\r\n",
      "Requirement already satisfied: intel-cmplr-lib-ur==2024.2.0 in /usr/local/lib/python3.11/dist-packages (from intel-openmp<2026,>=2024->mkl->numpy>=1.19.5->scikit-learn==1.5.2) (2024.2.0)\r\n",
      "Requirement already satisfied: MarkupSafe>=0.9.2 in /usr/local/lib/python3.11/dist-packages (from Mako->alembic>=1.5.0->optuna>=4.2.1->koolbox) (3.0.2)\r\n",
      "Downloading scikit_learn-1.5.2-cp311-cp311-manylinux_2_17_x86_64.manylinux2014_x86_64.whl (13.3 MB)\r\n",
      "\u001b[2K   \u001b[90m━━━━━━━━━━━━━━━━━━━━━━━━━━━━━━━━━━━━━━━━\u001b[0m \u001b[32m13.3/13.3 MB\u001b[0m \u001b[31m88.1 MB/s\u001b[0m eta \u001b[36m0:00:00\u001b[0m\r\n",
      "\u001b[?25hDownloading koolbox-0.1.3-py3-none-any.whl (18 kB)\r\n",
      "Installing collected packages: scikit-learn, koolbox\r\n",
      "  Attempting uninstall: scikit-learn\r\n",
      "    Found existing installation: scikit-learn 1.2.2\r\n",
      "    Uninstalling scikit-learn-1.2.2:\r\n",
      "      Successfully uninstalled scikit-learn-1.2.2\r\n",
      "\u001b[31mERROR: pip's dependency resolver does not currently take into account all the packages that are installed. This behaviour is the source of the following dependency conflicts.\r\n",
      "cesium 0.12.4 requires numpy<3.0,>=2.0, but you have numpy 1.26.4 which is incompatible.\u001b[0m\u001b[31m\r\n",
      "\u001b[0mSuccessfully installed koolbox-0.1.3 scikit-learn-1.5.2\r\n"
     ]
    }
   ],
   "source": [
    "!pip install scikit-learn==1.5.2 koolbox"
   ]
  },
  {
   "cell_type": "code",
   "execution_count": 2,
   "id": "4dc26009",
   "metadata": {
    "execution": {
     "iopub.execute_input": "2025-07-02T12:11:46.334933Z",
     "iopub.status.busy": "2025-07-02T12:11:46.334637Z",
     "iopub.status.idle": "2025-07-02T12:11:55.271194Z",
     "shell.execute_reply": "2025-07-02T12:11:55.270271Z"
    },
    "papermill": {
     "duration": 8.945012,
     "end_time": "2025-07-02T12:11:55.272857",
     "exception": false,
     "start_time": "2025-07-02T12:11:46.327845",
     "status": "completed"
    },
    "tags": []
   },
   "outputs": [],
   "source": [
    "from sklearn.feature_selection import mutual_info_regression\n",
    "from sklearn.ensemble import HistGradientBoostingClassifier\n",
    "from sklearn.linear_model import LogisticRegression\n",
    "from sklearn.model_selection import StratifiedKFold\n",
    "from sklearn.metrics import accuracy_score\n",
    "from catboost import CatBoostClassifier\n",
    "from lightgbm import LGBMClassifier\n",
    "from xgboost import XGBClassifier\n",
    "from scipy.special import logit\n",
    "from koolbox import Trainer\n",
    "import matplotlib.pyplot as plt\n",
    "import seaborn as sns\n",
    "import pandas as pd\n",
    "import numpy as np\n",
    "import warnings\n",
    "import joblib\n",
    "import shutil\n",
    "import optuna\n",
    "import glob\n",
    "import json\n",
    "\n",
    "warnings.filterwarnings('ignore')"
   ]
  },
  {
   "cell_type": "code",
   "execution_count": 3,
   "id": "33cd3bf9",
   "metadata": {
    "execution": {
     "iopub.execute_input": "2025-07-02T12:11:55.286758Z",
     "iopub.status.busy": "2025-07-02T12:11:55.286283Z",
     "iopub.status.idle": "2025-07-02T12:11:55.291905Z",
     "shell.execute_reply": "2025-07-02T12:11:55.291093Z"
    },
    "papermill": {
     "duration": 0.014507,
     "end_time": "2025-07-02T12:11:55.293506",
     "exception": false,
     "start_time": "2025-07-02T12:11:55.278999",
     "status": "completed"
    },
    "tags": []
   },
   "outputs": [],
   "source": [
    "class CFG:\n",
    "    train_path = '/kaggle/input/playground-series-s5e7/train.csv'\n",
    "    test_path = '/kaggle/input/playground-series-s5e7/test.csv'\n",
    "    sample_sub_path = '/kaggle/input/playground-series-s5e7/sample_submission.csv'\n",
    "    \n",
    "    target = 'Personality'\n",
    "    n_folds = 5\n",
    "    seed = 42\n",
    "    \n",
    "    cv = StratifiedKFold(n_splits=n_folds, random_state=seed, shuffle=True)\n",
    "    metric = accuracy_score\n",
    "    \n",
    "    n_optuna_trials = 500"
   ]
  },
  {
   "cell_type": "markdown",
   "id": "28a8277c",
   "metadata": {
    "papermill": {
     "duration": 0.005512,
     "end_time": "2025-07-02T12:11:55.304977",
     "exception": false,
     "start_time": "2025-07-02T12:11:55.299465",
     "status": "completed"
    },
    "tags": []
   },
   "source": [
    "# Data loading and preprocessing"
   ]
  },
  {
   "cell_type": "code",
   "execution_count": 4,
   "id": "97bbae2f",
   "metadata": {
    "execution": {
     "iopub.execute_input": "2025-07-02T12:11:55.317602Z",
     "iopub.status.busy": "2025-07-02T12:11:55.317293Z",
     "iopub.status.idle": "2025-07-02T12:11:55.387641Z",
     "shell.execute_reply": "2025-07-02T12:11:55.386917Z"
    },
    "papermill": {
     "duration": 0.078341,
     "end_time": "2025-07-02T12:11:55.388983",
     "exception": false,
     "start_time": "2025-07-02T12:11:55.310642",
     "status": "completed"
    },
    "tags": []
   },
   "outputs": [],
   "source": [
    "train = pd.read_csv(CFG.train_path, index_col='id')\n",
    "test = pd.read_csv(CFG.test_path, index_col='id')\n",
    "\n",
    "train[\"Stage_fear\"] = train[\"Stage_fear\"].map({\"No\": 0, \"Yes\": 1})\n",
    "train[\"Drained_after_socializing\"] = train[\"Drained_after_socializing\"].map({\"No\": 0, \"Yes\": 1})\n",
    "\n",
    "test[\"Stage_fear\"] = test[\"Stage_fear\"].map({\"No\": 0, \"Yes\": 1})\n",
    "test[\"Drained_after_socializing\"] = test[\"Drained_after_socializing\"].map({\"No\": 0, \"Yes\": 1})\n",
    "\n",
    "train[CFG.target] = train[CFG.target].map({\"Extrovert\": 0, \"Introvert\": 1})\n",
    "\n",
    "X = train.drop(CFG.target, axis=1)\n",
    "y = train[CFG.target]\n",
    "X_test = test"
   ]
  },
  {
   "cell_type": "code",
   "execution_count": 5,
   "id": "113ece23",
   "metadata": {
    "execution": {
     "iopub.execute_input": "2025-07-02T12:11:55.401559Z",
     "iopub.status.busy": "2025-07-02T12:11:55.401291Z",
     "iopub.status.idle": "2025-07-02T12:11:55.771721Z",
     "shell.execute_reply": "2025-07-02T12:11:55.770801Z"
    },
    "papermill": {
     "duration": 0.378647,
     "end_time": "2025-07-02T12:11:55.773462",
     "exception": false,
     "start_time": "2025-07-02T12:11:55.394815",
     "status": "completed"
    },
    "tags": []
   },
   "outputs": [
    {
     "data": {
      "image/png": "[encoded data removed]",
      "text/plain": [
       "<Figure size 800x800 with 1 Axes>"
      ]
     },
     "metadata": {},
     "output_type": "display_data"
    }
   ],
   "source": [
    "sns.set_style(\"white\")\n",
    "plt.figure(figsize=(8, 8))\n",
    "\n",
    "corr_train = train.corr()\n",
    "mask_train = np.triu(np.ones_like(corr_train, dtype=bool), k=1)\n",
    "\n",
    "sns.heatmap(\n",
    "    data=corr_train,\n",
    "    annot=True,\n",
    "    fmt='.4f',\n",
    "    mask=mask_train,\n",
    "    square=True,\n",
    "    cmap='coolwarm',\n",
    "    annot_kws={'size': 8},\n",
    "    cbar=False\n",
    ")\n",
    "\n",
    "plt.tight_layout()\n",
    "plt.show()"
   ]
  },
  {
   "cell_type": "code",
   "execution_count": 6,
   "id": "26ff02ba",
   "metadata": {
    "execution": {
     "iopub.execute_input": "2025-07-02T12:11:55.789602Z",
     "iopub.status.busy": "2025-07-02T12:11:55.789334Z",
     "iopub.status.idle": "2025-07-02T12:11:56.700198Z",
     "shell.execute_reply": "2025-07-02T12:11:56.699271Z"
    },
    "papermill": {
     "duration": 0.919969,
     "end_time": "2025-07-02T12:11:56.701536",
     "exception": false,
     "start_time": "2025-07-02T12:11:55.781567",
     "status": "completed"
    },
    "tags": []
   },
   "outputs": [
    {
     "data": {
      "text/html": [
       "<style type=\"text/css\">\n",
       "#T_2d6a7_row0_col0 {\n",
       "  width: 10em;\n",
       "  background: linear-gradient(90deg, #006837 100.0%, transparent 100.0%);\n",
       "}\n",
       "#T_2d6a7_row1_col0 {\n",
       "  width: 10em;\n",
       "  background: linear-gradient(90deg, #0b7d42 95.5%, transparent 95.5%);\n",
       "}\n",
       "#T_2d6a7_row2_col0 {\n",
       "  width: 10em;\n",
       "  background: linear-gradient(90deg, #108647 93.5%, transparent 93.5%);\n",
       "}\n",
       "#T_2d6a7_row3_col0 {\n",
       "  width: 10em;\n",
       "  background: linear-gradient(90deg, #219c52 89.0%, transparent 89.0%);\n",
       "}\n",
       "#T_2d6a7_row4_col0 {\n",
       "  width: 10em;\n",
       "  background: linear-gradient(90deg, #249d53 88.7%, transparent 88.7%);\n",
       "}\n",
       "#T_2d6a7_row5_col0 {\n",
       "  width: 10em;\n",
       "  background: linear-gradient(90deg, #36a657 86.0%, transparent 86.0%);\n",
       "}\n",
       "#T_2d6a7_row6_col0 {\n",
       "  width: 10em;\n",
       "  background: linear-gradient(90deg, #5ab760 81.6%, transparent 81.6%);\n",
       "}\n",
       "</style>\n",
       "<table id=\"T_2d6a7\">\n",
       "  <thead>\n",
       "    <tr>\n",
       "      <th class=\"blank level0\" >&nbsp;</th>\n",
       "      <th id=\"T_2d6a7_level0_col0\" class=\"col_heading level0 col0\" >Mutual Information</th>\n",
       "    </tr>\n",
       "  </thead>\n",
       "  <tbody>\n",
       "    <tr>\n",
       "      <th id=\"T_2d6a7_level0_row0\" class=\"row_heading level0 row0\" >Time_spent_Alone</th>\n",
       "      <td id=\"T_2d6a7_row0_col0\" class=\"data row0 col0\" >0.353570</td>\n",
       "    </tr>\n",
       "    <tr>\n",
       "      <th id=\"T_2d6a7_level0_row1\" class=\"row_heading level0 row1\" >Drained_after_socializing</th>\n",
       "      <td id=\"T_2d6a7_row1_col0\" class=\"data row1 col0\" >0.337575</td>\n",
       "    </tr>\n",
       "    <tr>\n",
       "      <th id=\"T_2d6a7_level0_row2\" class=\"row_heading level0 row2\" >Social_event_attendance</th>\n",
       "      <td id=\"T_2d6a7_row2_col0\" class=\"data row2 col0\" >0.330482</td>\n",
       "    </tr>\n",
       "    <tr>\n",
       "      <th id=\"T_2d6a7_level0_row3\" class=\"row_heading level0 row3\" >Stage_fear</th>\n",
       "      <td id=\"T_2d6a7_row3_col0\" class=\"data row3 col0\" >0.314673</td>\n",
       "    </tr>\n",
       "    <tr>\n",
       "      <th id=\"T_2d6a7_level0_row4\" class=\"row_heading level0 row4\" >Post_frequency</th>\n",
       "      <td id=\"T_2d6a7_row4_col0\" class=\"data row4 col0\" >0.313469</td>\n",
       "    </tr>\n",
       "    <tr>\n",
       "      <th id=\"T_2d6a7_level0_row5\" class=\"row_heading level0 row5\" >Going_outside</th>\n",
       "      <td id=\"T_2d6a7_row5_col0\" class=\"data row5 col0\" >0.304151</td>\n",
       "    </tr>\n",
       "    <tr>\n",
       "      <th id=\"T_2d6a7_level0_row6\" class=\"row_heading level0 row6\" >Friends_circle_size</th>\n",
       "      <td id=\"T_2d6a7_row6_col0\" class=\"data row6 col0\" >0.288645</td>\n",
       "    </tr>\n",
       "  </tbody>\n",
       "</table>\n"
      ],
      "text/plain": [
       "<pandas.io.formats.style.Styler at 0x7a808bd04a50>"
      ]
     },
     "execution_count": 6,
     "metadata": {},
     "output_type": "execute_result"
    }
   ],
   "source": [
    "mutual_info = mutual_info_regression(X.fillna(0), y, random_state=CFG.seed)\n",
    "\n",
    "mutual_info = pd.Series(mutual_info)\n",
    "mutual_info.index = X.columns\n",
    "mutual_info = pd.DataFrame(mutual_info.sort_values(ascending=False), columns=['Mutual Information'])\n",
    "mutual_info.style.bar(subset=['Mutual Information'], cmap='RdYlGn')"
   ]
  },
  {
   "cell_type": "code",
   "execution_count": 7,
   "id": "501a940e",
   "metadata": {
    "execution": {
     "iopub.execute_input": "2025-07-02T12:11:56.716582Z",
     "iopub.status.busy": "2025-07-02T12:11:56.716308Z",
     "iopub.status.idle": "2025-07-02T12:11:56.759034Z",
     "shell.execute_reply": "2025-07-02T12:11:56.757975Z"
    },
    "papermill": {
     "duration": 0.052007,
     "end_time": "2025-07-02T12:11:56.760588",
     "exception": false,
     "start_time": "2025-07-02T12:11:56.708581",
     "status": "completed"
    },
    "tags": []
   },
   "outputs": [],
   "source": [
    "train = pd.read_csv(CFG.train_path, index_col='id')\n",
    "test = pd.read_csv(CFG.test_path, index_col='id')\n",
    "\n",
    "cat_cols = [\"Stage_fear\", \"Drained_after_socializing\"]\n",
    "train[cat_cols] = train[cat_cols].fillna(\"missing\").astype(\"category\")\n",
    "test[cat_cols] = test[cat_cols].fillna(\"missing\").astype(\"category\")\n",
    "\n",
    "train[CFG.target] = train[CFG.target].map({\"Extrovert\": 0, \"Introvert\": 1})\n",
    "\n",
    "X = train.drop(CFG.target, axis=1)\n",
    "y = train[CFG.target]\n",
    "X_test = test"
   ]
  },
  {
   "cell_type": "markdown",
   "id": "4faa0134",
   "metadata": {
    "papermill": {
     "duration": 0.006609,
     "end_time": "2025-07-02T12:11:56.774521",
     "exception": false,
     "start_time": "2025-07-02T12:11:56.767912",
     "status": "completed"
    },
    "tags": []
   },
   "source": [
    "# Training base models"
   ]
  },
  {
   "cell_type": "code",
   "execution_count": 8,
   "id": "7b8cde99",
   "metadata": {
    "execution": {
     "iopub.execute_input": "2025-07-02T12:11:56.789589Z",
     "iopub.status.busy": "2025-07-02T12:11:56.788949Z",
     "iopub.status.idle": "2025-07-02T12:11:56.794024Z",
     "shell.execute_reply": "2025-07-02T12:11:56.793177Z"
    },
    "papermill": {
     "duration": 0.014041,
     "end_time": "2025-07-02T12:11:56.795412",
     "exception": false,
     "start_time": "2025-07-02T12:11:56.781371",
     "status": "completed"
    },
    "tags": []
   },
   "outputs": [],
   "source": [
    "def save_submission(name, test_pred_probs, score, threshold=0.5):\n",
    "    sub = pd.read_csv(CFG.sample_sub_path)\n",
    "    sub[CFG.target] = (test_pred_probs > threshold).astype(int)\n",
    "    sub[CFG.target] = sub[CFG.target].map({0: \"Extrovert\", 1: \"Introvert\"})\n",
    "    sub.to_csv(f'sub_{name}_{score:.6f}.csv', index=False)\n",
    "    return sub.head()"
   ]
  },
  {
   "cell_type": "code",
   "execution_count": 9,
   "id": "b33f88a1",
   "metadata": {
    "_kg_hide-input": true,
    "_kg_hide-output": true,
    "execution": {
     "iopub.execute_input": "2025-07-02T12:11:56.811092Z",
     "iopub.status.busy": "2025-07-02T12:11:56.810684Z",
     "iopub.status.idle": "2025-07-02T12:11:56.819192Z",
     "shell.execute_reply": "2025-07-02T12:11:56.818393Z"
    },
    "papermill": {
     "duration": 0.017878,
     "end_time": "2025-07-02T12:11:56.820581",
     "exception": false,
     "start_time": "2025-07-02T12:11:56.802703",
     "status": "completed"
    },
    "tags": []
   },
   "outputs": [],
   "source": [
    "cb_params = {\n",
    "    \"border_count\": 39,\n",
    "    \"colsample_bylevel\": 0.19459088572914465,\n",
    "    \"depth\": 2,\n",
    "    \"iterations\": 1467,\n",
    "    \"l2_leaf_reg\": 31.236169478676036,\n",
    "    \"learning_rate\": 0.06852669420904771,\n",
    "    \"min_child_samples\": 160,\n",
    "    \"random_state\": 42,\n",
    "    \"random_strength\": 0.8517786189616939,\n",
    "    \"scale_pos_weight\": 1.1691394390533685,\n",
    "    \"subsample\": 0.3192330024411618,\n",
    "    \"verbose\": False,\n",
    "    \"cat_features\": cat_cols\n",
    "}\n",
    "\n",
    "xgb_params = {\n",
    "    \"colsample_bylevel\": 0.8168489864941239,\n",
    "    \"colsample_bynode\": 0.8850485490950061,\n",
    "    \"colsample_bytree\": 0.8379339940113913,\n",
    "    \"gamma\": 2.3977359439809276,\n",
    "    \"learning_rate\": 0.0616974880921061,\n",
    "    \"max_depth\": 344,\n",
    "    \"max_leaves\": 89,\n",
    "    \"min_child_weight\": 10,\n",
    "    \"n_estimators\": 696,\n",
    "    \"n_jobs\": -1,\n",
    "    \"random_state\": 42,\n",
    "    \"reg_alpha\": 1.849084818346014,\n",
    "    \"reg_lambda\": 29.680324563362227,\n",
    "    \"subsample\": 0.5902901569391961,\n",
    "    \"verbosity\": 0,\n",
    "    \"enable_categorical\": True\n",
    "}\n",
    "\n",
    "hgb_params = {\n",
    "    \"l2_regularization\": 28.13576008319012,\n",
    "    \"learning_rate\": 0.1543598086529694,\n",
    "    \"max_depth\": 325,\n",
    "    \"max_features\": 0.323620656779567,\n",
    "    \"max_iter\": 2490,\n",
    "    \"max_leaf_nodes\": 216,\n",
    "    \"min_samples_leaf\": 12,\n",
    "    \"random_state\": 42,\n",
    "    \"categorical_features\": \"from_dtype\"\n",
    "}\n",
    "\n",
    "lgbm_params = {\n",
    "    \"boosting_type\": \"gbdt\",\n",
    "    \"colsample_bytree\": 0.6467443250209886,\n",
    "    \"learning_rate\": 0.06547186748153115,\n",
    "    \"min_child_samples\": 34,\n",
    "    \"min_child_weight\": 0.24399244943904663,\n",
    "    \"n_estimators\": 498,\n",
    "    \"n_jobs\": -1,\n",
    "    \"num_leaves\": 158,\n",
    "    \"random_state\": 42,\n",
    "    \"reg_alpha\": 6.568921253574134,\n",
    "    \"reg_lambda\": 62.66165355751099,\n",
    "    \"subsample\": 0.0011019938618584968,\n",
    "    \"verbose\": -1\n",
    "}\n",
    "\n",
    "lgbm_goss_params = {\n",
    "    \"boosting_type\": \"goss\",\n",
    "    \"colsample_bytree\": 0.8384834064170148,\n",
    "    \"learning_rate\": 0.07006829797238343,\n",
    "    \"min_child_samples\": 46,\n",
    "    \"min_child_weight\": 0.7625394962666617,\n",
    "    \"n_estimators\": 1887,\n",
    "    \"n_jobs\": -1,\n",
    "    \"num_leaves\": 341,\n",
    "    \"random_state\": 42,\n",
    "    \"reg_alpha\": 10.53082019937197,\n",
    "    \"reg_lambda\": 67.44600065144685,\n",
    "    \"subsample\": 0.4925008305336127,\n",
    "    \"verbose\": -1\n",
    "}\n",
    "\n",
    "lgbm_dart_params = {\n",
    "    \"boosting_type\": \"dart\",\n",
    "    \"colsample_bytree\": 0.7592971191793424,\n",
    "    \"learning_rate\": 0.046141766106846074,\n",
    "    \"min_child_samples\": 18,\n",
    "    \"min_child_weight\": 0.4740109054323218,\n",
    "    \"n_estimators\": 4035,\n",
    "    \"n_jobs\": -1,\n",
    "    \"num_leaves\": 393,\n",
    "    \"random_state\": 42,\n",
    "    \"reg_alpha\": 48.016799341666605,\n",
    "    \"reg_lambda\": 89.12860300833658,\n",
    "    \"subsample\": 0.016333358901112538,\n",
    "    \"verbose\": -1\n",
    "}"
   ]
  },
  {
   "cell_type": "code",
   "execution_count": 10,
   "id": "6aaedad6",
   "metadata": {
    "execution": {
     "iopub.execute_input": "2025-07-02T12:11:56.835665Z",
     "iopub.status.busy": "2025-07-02T12:11:56.835401Z",
     "iopub.status.idle": "2025-07-02T12:11:56.839438Z",
     "shell.execute_reply": "2025-07-02T12:11:56.838727Z"
    },
    "papermill": {
     "duration": 0.013016,
     "end_time": "2025-07-02T12:11:56.840704",
     "exception": false,
     "start_time": "2025-07-02T12:11:56.827688",
     "status": "completed"
    },
    "tags": []
   },
   "outputs": [],
   "source": [
    "scores = {}\n",
    "oof_pred_probs = {}\n",
    "test_pred_probs = {}"
   ]
  },
  {
   "cell_type": "markdown",
   "id": "cb30bcdb",
   "metadata": {
    "papermill": {
     "duration": 0.006681,
     "end_time": "2025-07-02T12:11:56.854536",
     "exception": false,
     "start_time": "2025-07-02T12:11:56.847855",
     "status": "completed"
    },
    "tags": []
   },
   "source": [
    "## CatBoost"
   ]
  },
  {
   "cell_type": "code",
   "execution_count": 11,
   "id": "c463a867",
   "metadata": {
    "execution": {
     "iopub.execute_input": "2025-07-02T12:11:56.869928Z",
     "iopub.status.busy": "2025-07-02T12:11:56.869624Z",
     "iopub.status.idle": "2025-07-02T12:12:48.839022Z",
     "shell.execute_reply": "2025-07-02T12:12:48.838148Z"
    },
    "papermill": {
     "duration": 51.979024,
     "end_time": "2025-07-02T12:12:48.840492",
     "exception": false,
     "start_time": "2025-07-02T12:11:56.861468",
     "status": "completed"
    },
    "tags": []
   },
   "outputs": [
    {
     "name": "stdout",
     "output_type": "stream",
     "text": [
      "Training CatBoostClassifier\n",
      "\n",
      "--- Fold 0 - accuracy_score: 0.969771 - Time: 11.01 s\n",
      "--- Fold 1 - accuracy_score: 0.968151 - Time: 9.75 s\n",
      "--- Fold 2 - accuracy_score: 0.965992 - Time: 9.76 s\n",
      "--- Fold 3 - accuracy_score: 0.970850 - Time: 10.95 s\n",
      "--- Fold 4 - accuracy_score: 0.971112 - Time: 9.84 s\n",
      "\n",
      "------ Overall accuracy_score: 0.969175 - Mean accuracy_score: 0.969175 ± 0.001902 - Time: 51.92 s\n"
     ]
    }
   ],
   "source": [
    "cb_trainer = Trainer(\n",
    "    CatBoostClassifier(**cb_params),\n",
    "    cv=CFG.cv,\n",
    "    metric=CFG.metric,\n",
    "    use_early_stopping=False,\n",
    "    task=\"binary\",\n",
    "    metric_precision=6,\n",
    ")\n",
    "\n",
    "cb_trainer.fit(X, y)\n",
    "\n",
    "scores[\"CatBoost\"] = cb_trainer.fold_scores\n",
    "oof_pred_probs[\"CatBoost\"] = cb_trainer.oof_preds\n",
    "test_pred_probs[\"CatBoost\"] = cb_trainer.predict(X_test)"
   ]
  },
  {
   "cell_type": "markdown",
   "id": "be5ea338",
   "metadata": {
    "papermill": {
     "duration": 0.006839,
     "end_time": "2025-07-02T12:12:48.854909",
     "exception": false,
     "start_time": "2025-07-02T12:12:48.848070",
     "status": "completed"
    },
    "tags": []
   },
   "source": [
    "## XGBoost"
   ]
  },
  {
   "cell_type": "code",
   "execution_count": 12,
   "id": "b9387ff0",
   "metadata": {
    "execution": {
     "iopub.execute_input": "2025-07-02T12:12:48.870543Z",
     "iopub.status.busy": "2025-07-02T12:12:48.870238Z",
     "iopub.status.idle": "2025-07-02T12:12:52.072677Z",
     "shell.execute_reply": "2025-07-02T12:12:52.072026Z"
    },
    "papermill": {
     "duration": 3.212104,
     "end_time": "2025-07-02T12:12:52.074304",
     "exception": false,
     "start_time": "2025-07-02T12:12:48.862200",
     "status": "completed"
    },
    "tags": []
   },
   "outputs": [
    {
     "name": "stdout",
     "output_type": "stream",
     "text": [
      "Training XGBClassifier\n",
      "\n",
      "--- Fold 0 - accuracy_score: 0.970040 - Time: 0.51 s\n",
      "--- Fold 1 - accuracy_score: 0.967881 - Time: 0.48 s\n",
      "--- Fold 2 - accuracy_score: 0.966262 - Time: 0.46 s\n",
      "--- Fold 3 - accuracy_score: 0.971120 - Time: 0.47 s\n",
      "--- Fold 4 - accuracy_score: 0.971112 - Time: 0.59 s\n",
      "\n",
      "------ Overall accuracy_score: 0.969283 - Mean accuracy_score: 0.969283 ± 0.001918 - Time: 3.11 s\n"
     ]
    }
   ],
   "source": [
    "xgb_trainer = Trainer(\n",
    "    XGBClassifier(**xgb_params),\n",
    "    cv=CFG.cv,\n",
    "    metric=CFG.metric,\n",
    "    task=\"binary\",\n",
    "    metric_precision=6,\n",
    ")\n",
    "\n",
    "xgb_trainer.fit(X, y)\n",
    "\n",
    "scores[\"XGBoost\"] = xgb_trainer.fold_scores\n",
    "oof_pred_probs[\"XGBoost\"] = xgb_trainer.oof_preds\n",
    "test_pred_probs[\"XGBoost\"] = xgb_trainer.predict(X_test)"
   ]
  },
  {
   "cell_type": "markdown",
   "id": "234d6fa2",
   "metadata": {
    "papermill": {
     "duration": 0.007633,
     "end_time": "2025-07-02T12:12:52.092308",
     "exception": false,
     "start_time": "2025-07-02T12:12:52.084675",
     "status": "completed"
    },
    "tags": []
   },
   "source": [
    "## HistGradientBoostingClassifier"
   ]
  },
  {
   "cell_type": "code",
   "execution_count": 13,
   "id": "fa61f029",
   "metadata": {
    "execution": {
     "iopub.execute_input": "2025-07-02T12:12:52.108986Z",
     "iopub.status.busy": "2025-07-02T12:12:52.108705Z",
     "iopub.status.idle": "2025-07-02T12:12:55.148349Z",
     "shell.execute_reply": "2025-07-02T12:12:55.147229Z"
    },
    "papermill": {
     "duration": 3.050159,
     "end_time": "2025-07-02T12:12:55.149965",
     "exception": false,
     "start_time": "2025-07-02T12:12:52.099806",
     "status": "completed"
    },
    "tags": []
   },
   "outputs": [
    {
     "name": "stdout",
     "output_type": "stream",
     "text": [
      "Training HistGradientBoostingClassifier\n",
      "\n",
      "--- Fold 0 - accuracy_score: 0.969771 - Time: 0.35 s\n",
      "--- Fold 1 - accuracy_score: 0.968151 - Time: 0.38 s\n",
      "--- Fold 2 - accuracy_score: 0.965722 - Time: 0.54 s\n",
      "--- Fold 3 - accuracy_score: 0.970580 - Time: 0.63 s\n",
      "--- Fold 4 - accuracy_score: 0.970842 - Time: 0.40 s\n",
      "\n",
      "------ Overall accuracy_score: 0.969013 - Mean accuracy_score: 0.969013 ± 0.001895 - Time: 2.92 s\n"
     ]
    }
   ],
   "source": [
    "hgb_trainer = Trainer(\n",
    "    HistGradientBoostingClassifier(**hgb_params),\n",
    "    cv=CFG.cv,\n",
    "    metric=CFG.metric,\n",
    "    task=\"binary\",\n",
    "    metric_precision=6,\n",
    ")\n",
    "\n",
    "hgb_trainer.fit(X, y)\n",
    "\n",
    "scores[\"HistGradientBoosting\"] = hgb_trainer.fold_scores\n",
    "oof_pred_probs[\"HistGradientBoosting\"] = hgb_trainer.oof_preds\n",
    "test_pred_probs[\"HistGradientBoosting\"] = hgb_trainer.predict(X_test)"
   ]
  },
  {
   "cell_type": "markdown",
   "id": "53d07295",
   "metadata": {
    "papermill": {
     "duration": 0.007377,
     "end_time": "2025-07-02T12:12:55.166873",
     "exception": false,
     "start_time": "2025-07-02T12:12:55.159496",
     "status": "completed"
    },
    "tags": []
   },
   "source": [
    "## LightGBM (gbdt)"
   ]
  },
  {
   "cell_type": "code",
   "execution_count": 14,
   "id": "a5ad5240",
   "metadata": {
    "execution": {
     "iopub.execute_input": "2025-07-02T12:12:55.184230Z",
     "iopub.status.busy": "2025-07-02T12:12:55.183830Z",
     "iopub.status.idle": "2025-07-02T12:12:58.181779Z",
     "shell.execute_reply": "2025-07-02T12:12:58.181171Z"
    },
    "papermill": {
     "duration": 3.008532,
     "end_time": "2025-07-02T12:12:58.183655",
     "exception": false,
     "start_time": "2025-07-02T12:12:55.175123",
     "status": "completed"
    },
    "tags": []
   },
   "outputs": [
    {
     "name": "stdout",
     "output_type": "stream",
     "text": [
      "Training LGBMClassifier\n",
      "\n",
      "--- Fold 0 - accuracy_score: 0.970040 - Time: 0.48 s\n",
      "--- Fold 1 - accuracy_score: 0.968421 - Time: 0.41 s\n",
      "--- Fold 2 - accuracy_score: 0.966262 - Time: 0.41 s\n",
      "--- Fold 3 - accuracy_score: 0.970850 - Time: 0.37 s\n",
      "--- Fold 4 - accuracy_score: 0.971652 - Time: 0.44 s\n",
      "\n",
      "------ Overall accuracy_score: 0.969445 - Mean accuracy_score: 0.969445 ± 0.001917 - Time: 2.73 s\n"
     ]
    }
   ],
   "source": [
    "lgbm_gbdt_trainer = Trainer(\n",
    "    LGBMClassifier(**lgbm_params),\n",
    "    cv=CFG.cv,\n",
    "    metric=CFG.metric,\n",
    "    use_early_stopping=False,\n",
    "    task=\"binary\",\n",
    "    metric_precision=6,\n",
    ")\n",
    "\n",
    "lgbm_gbdt_trainer.fit(X, y)\n",
    "\n",
    "scores[\"LightGBM (gbdt)\"] = lgbm_gbdt_trainer.fold_scores\n",
    "oof_pred_probs[\"LightGBM (gbdt)\"] = lgbm_gbdt_trainer.oof_preds\n",
    "test_pred_probs[\"LightGBM (gbdt)\"] = lgbm_gbdt_trainer.predict(X_test)"
   ]
  },
  {
   "cell_type": "markdown",
   "id": "57fd5ed4",
   "metadata": {
    "papermill": {
     "duration": 0.00786,
     "end_time": "2025-07-02T12:12:58.202290",
     "exception": false,
     "start_time": "2025-07-02T12:12:58.194430",
     "status": "completed"
    },
    "tags": []
   },
   "source": [
    "## LightGBM (goss)"
   ]
  },
  {
   "cell_type": "code",
   "execution_count": 15,
   "id": "55526783",
   "metadata": {
    "execution": {
     "iopub.execute_input": "2025-07-02T12:12:58.221367Z",
     "iopub.status.busy": "2025-07-02T12:12:58.221110Z",
     "iopub.status.idle": "2025-07-02T12:13:12.156743Z",
     "shell.execute_reply": "2025-07-02T12:13:12.156000Z"
    },
    "papermill": {
     "duration": 13.948054,
     "end_time": "2025-07-02T12:13:12.158667",
     "exception": false,
     "start_time": "2025-07-02T12:12:58.210613",
     "status": "completed"
    },
    "tags": []
   },
   "outputs": [
    {
     "name": "stdout",
     "output_type": "stream",
     "text": [
      "Training LGBMClassifier\n",
      "\n",
      "--- Fold 0 - accuracy_score: 0.970040 - Time: 2.15 s\n",
      "--- Fold 1 - accuracy_score: 0.968421 - Time: 2.06 s\n",
      "--- Fold 2 - accuracy_score: 0.966532 - Time: 2.10 s\n",
      "--- Fold 3 - accuracy_score: 0.970850 - Time: 2.11 s\n",
      "--- Fold 4 - accuracy_score: 0.971382 - Time: 4.13 s\n",
      "\n",
      "------ Overall accuracy_score: 0.969445 - Mean accuracy_score: 0.969445 ± 0.001767 - Time: 13.15 s\n"
     ]
    }
   ],
   "source": [
    "lgbm_goss_trainer = Trainer(\n",
    "    LGBMClassifier(**lgbm_goss_params),\n",
    "    cv=CFG.cv,\n",
    "    metric=CFG.metric,\n",
    "    use_early_stopping=False,\n",
    "    task=\"binary\",\n",
    "    metric_precision=6,\n",
    ")\n",
    "\n",
    "lgbm_goss_trainer.fit(X, y)\n",
    "\n",
    "scores[\"LightGBM (goss)\"] = lgbm_goss_trainer.fold_scores\n",
    "oof_pred_probs[\"LightGBM (goss)\"] = lgbm_goss_trainer.oof_preds\n",
    "test_pred_probs[\"LightGBM (goss)\"] = lgbm_goss_trainer.predict(X_test)"
   ]
  },
  {
   "cell_type": "markdown",
   "id": "9b107e3d",
   "metadata": {
    "papermill": {
     "duration": 0.008382,
     "end_time": "2025-07-02T12:13:12.177193",
     "exception": false,
     "start_time": "2025-07-02T12:13:12.168811",
     "status": "completed"
    },
    "tags": []
   },
   "source": [
    "## LightGBM (dart)"
   ]
  },
  {
   "cell_type": "code",
   "execution_count": 16,
   "id": "305aae7c",
   "metadata": {
    "execution": {
     "iopub.execute_input": "2025-07-02T12:13:12.195614Z",
     "iopub.status.busy": "2025-07-02T12:13:12.195323Z",
     "iopub.status.idle": "2025-07-02T12:19:00.779233Z",
     "shell.execute_reply": "2025-07-02T12:19:00.778442Z"
    },
    "papermill": {
     "duration": 348.5952,
     "end_time": "2025-07-02T12:19:00.780863",
     "exception": false,
     "start_time": "2025-07-02T12:13:12.185663",
     "status": "completed"
    },
    "tags": []
   },
   "outputs": [
    {
     "name": "stdout",
     "output_type": "stream",
     "text": [
      "Training LGBMClassifier\n",
      "\n",
      "--- Fold 0 - accuracy_score: 0.970040 - Time: 71.81 s\n",
      "--- Fold 1 - accuracy_score: 0.968421 - Time: 68.22 s\n",
      "--- Fold 2 - accuracy_score: 0.966262 - Time: 68.09 s\n",
      "--- Fold 3 - accuracy_score: 0.971120 - Time: 68.00 s\n",
      "--- Fold 4 - accuracy_score: 0.971112 - Time: 68.80 s\n",
      "\n",
      "------ Overall accuracy_score: 0.969391 - Mean accuracy_score: 0.969391 ± 0.001850 - Time: 345.54 s\n"
     ]
    }
   ],
   "source": [
    "lgbm_dart_trainer = Trainer(\n",
    "    LGBMClassifier(**lgbm_dart_params),\n",
    "    cv=CFG.cv,\n",
    "    metric=CFG.metric,\n",
    "    use_early_stopping=False,\n",
    "    task=\"binary\",\n",
    "    metric_precision=6,\n",
    ")\n",
    "\n",
    "lgbm_dart_trainer.fit(X, y)\n",
    "\n",
    "scores[\"LightGBM (dart)\"] = lgbm_dart_trainer.fold_scores\n",
    "oof_pred_probs[\"LightGBM (dart)\"] = lgbm_dart_trainer.oof_preds\n",
    "test_pred_probs[\"LightGBM (dart)\"] = lgbm_dart_trainer.predict(X_test)"
   ]
  },
  {
   "cell_type": "markdown",
   "id": "e42bcf30",
   "metadata": {
    "papermill": {
     "duration": 0.008667,
     "end_time": "2025-07-02T12:19:00.800682",
     "exception": false,
     "start_time": "2025-07-02T12:19:00.792015",
     "status": "completed"
    },
    "tags": []
   },
   "source": [
    "## AutoGluon"
   ]
  },
  {
   "cell_type": "code",
   "execution_count": 17,
   "id": "0ea0d935",
   "metadata": {
    "execution": {
     "iopub.execute_input": "2025-07-02T12:19:00.876929Z",
     "iopub.status.busy": "2025-07-02T12:19:00.876310Z",
     "iopub.status.idle": "2025-07-02T12:19:00.910999Z",
     "shell.execute_reply": "2025-07-02T12:19:00.910135Z"
    },
    "papermill": {
     "duration": 0.103136,
     "end_time": "2025-07-02T12:19:00.912687",
     "exception": false,
     "start_time": "2025-07-02T12:19:00.809551",
     "status": "completed"
    },
    "tags": []
   },
   "outputs": [],
   "source": [
    "oof_pred_probs_files = glob.glob(f'/kaggle/input/s05e07-personality-type-prediction-autogluon/*_oof_pred_probs_*.pkl')\n",
    "test_pred_probs_files = glob.glob(f'/kaggle/input/s05e07-personality-type-prediction-autogluon/*_test_pred_probs_*.pkl')\n",
    "\n",
    "ag_oof_pred_probs = joblib.load(oof_pred_probs_files[0])\n",
    "ag_test_pred_probs = joblib.load(test_pred_probs_files[0])\n",
    "\n",
    "ag_scores = []\n",
    "for _, val_idx in CFG.cv.split(X, y):\n",
    "    y_val = y[val_idx]\n",
    "    y_preds = ag_oof_pred_probs[val_idx]\n",
    "    score = accuracy_score(y_val, y_preds >= 0.5)\n",
    "    ag_scores.append(score)\n",
    "    \n",
    "oof_pred_probs[\"AutoGluon\"], test_pred_probs[\"AutoGluon\"], scores[\"AutoGluon\"] = ag_oof_pred_probs, ag_test_pred_probs, ag_scores"
   ]
  },
  {
   "cell_type": "markdown",
   "id": "424b8440",
   "metadata": {
    "papermill": {
     "duration": 0.008862,
     "end_time": "2025-07-02T12:19:00.930505",
     "exception": false,
     "start_time": "2025-07-02T12:19:00.921643",
     "status": "completed"
    },
    "tags": []
   },
   "source": [
    "# Ensembling with Logistic Regression"
   ]
  },
  {
   "cell_type": "code",
   "execution_count": 18,
   "id": "91b39257",
   "metadata": {
    "_kg_hide-input": true,
    "execution": {
     "iopub.execute_input": "2025-07-02T12:19:00.949613Z",
     "iopub.status.busy": "2025-07-02T12:19:00.949275Z",
     "iopub.status.idle": "2025-07-02T12:19:00.956742Z",
     "shell.execute_reply": "2025-07-02T12:19:00.955816Z"
    },
    "papermill": {
     "duration": 0.019066,
     "end_time": "2025-07-02T12:19:00.958507",
     "exception": false,
     "start_time": "2025-07-02T12:19:00.939441",
     "status": "completed"
    },
    "tags": []
   },
   "outputs": [],
   "source": [
    "def plot_weights(weights, title):\n",
    "    sorted_indices = np.argsort(weights[0])[::-1]\n",
    "    sorted_coeffs = np.array(weights[0])[sorted_indices]\n",
    "    sorted_model_names = np.array(list(oof_pred_probs.keys()))[sorted_indices]\n",
    "\n",
    "    plt.figure(figsize=(10, weights.shape[1] * 0.5))\n",
    "    ax = sns.barplot(x=sorted_coeffs, y=sorted_model_names, palette=\"RdYlGn_r\")\n",
    "\n",
    "    for i, (value, name) in enumerate(zip(sorted_coeffs, sorted_model_names)):\n",
    "        if value >= 0:\n",
    "            ax.text(value, i, f'{value:.3f}', va='center', ha='left', color='black')\n",
    "        else:\n",
    "            ax.text(value, i, f'{value:.3f}', va='center', ha='right', color='black')\n",
    "\n",
    "    xlim = ax.get_xlim()\n",
    "    ax.set_xlim(xlim[0] - 0.1 * abs(xlim[0]), xlim[1] + 0.1 * abs(xlim[1]))\n",
    "\n",
    "    plt.title(title)\n",
    "    plt.xlabel('')\n",
    "    plt.ylabel('')\n",
    "    plt.tight_layout()\n",
    "    plt.show()"
   ]
  },
  {
   "cell_type": "code",
   "execution_count": 19,
   "id": "37808213",
   "metadata": {
    "execution": {
     "iopub.execute_input": "2025-07-02T12:19:00.978224Z",
     "iopub.status.busy": "2025-07-02T12:19:00.977893Z",
     "iopub.status.idle": "2025-07-02T12:19:00.987361Z",
     "shell.execute_reply": "2025-07-02T12:19:00.986590Z"
    },
    "papermill": {
     "duration": 0.020603,
     "end_time": "2025-07-02T12:19:00.988758",
     "exception": false,
     "start_time": "2025-07-02T12:19:00.968155",
     "status": "completed"
    },
    "tags": []
   },
   "outputs": [
    {
     "data": {
      "text/plain": [
       "['test_pred_probs.pkl']"
      ]
     },
     "execution_count": 19,
     "metadata": {},
     "output_type": "execute_result"
    }
   ],
   "source": [
    "X = pd.DataFrame(oof_pred_probs)\n",
    "X_test = pd.DataFrame(test_pred_probs)\n",
    "\n",
    "joblib.dump(oof_pred_probs, \"oof_pred_probs.pkl\")\n",
    "joblib.dump(test_pred_probs, \"test_pred_probs.pkl\")"
   ]
  },
  {
   "cell_type": "code",
   "execution_count": 20,
   "id": "81a9974d",
   "metadata": {
    "_kg_hide-output": true,
    "execution": {
     "iopub.execute_input": "2025-07-02T12:19:01.008481Z",
     "iopub.status.busy": "2025-07-02T12:19:01.008199Z",
     "iopub.status.idle": "2025-07-02T12:25:01.787718Z",
     "shell.execute_reply": "2025-07-02T12:25:01.786796Z"
    },
    "papermill": {
     "duration": 360.791105,
     "end_time": "2025-07-02T12:25:01.789435",
     "exception": false,
     "start_time": "2025-07-02T12:19:00.998330",
     "status": "completed"
    },
    "scrolled": true,
    "tags": []
   },
   "outputs": [
    {
     "name": "stderr",
     "output_type": "stream",
     "text": [
      "[I 2025-07-02 12:19:01,013] A new study created in memory with name: no-name-29df4e7e-565c-4452-9a93-1957a9f14885\n",
      "[I 2025-07-02 12:19:03,055] Trial 3 finished with value: 0.9691751995872719 and parameters: {'solver_penalty': ('lbfgs', None), 'C': 6.392143097876995, 'tol': 0.030974114119974954, 'fit_intercept': True, 'class_weight': None, 'threshold': 0.552}. Best is trial 3 with value: 0.9691751995872719.\n",
      "[I 2025-07-02 12:19:03,457] Trial 0 finished with value: 0.9690132999886325 and parameters: {'solver_penalty': ('newton-cg', None), 'C': 8.494698750822238, 'tol': 0.09368008059685189, 'fit_intercept': True, 'class_weight': None, 'threshold': 0.356}. Best is trial 3 with value: 0.9691751995872719.\n",
      "[I 2025-07-02 12:19:03,751] Trial 1 finished with value: 0.9689593188820197 and parameters: {'solver_penalty': ('newton-cholesky', None), 'C': 2.4535946355634675, 'tol': 0.022993500011681735, 'fit_intercept': True, 'class_weight': None, 'threshold': 0.383}. Best is trial 3 with value: 0.9691751995872719.\n",
      "[I 2025-07-02 12:19:05,368] Trial 2 finished with value: 0.9692832055216959 and parameters: {'solver_penalty': ('newton-cg', None), 'C': 2.124987766341949, 'tol': 0.020318719295313637, 'fit_intercept': True, 'class_weight': 'balanced', 'threshold': 0.5860000000000001}. Best is trial 2 with value: 0.9692832055216959.\n",
      "[I 2025-07-02 12:19:05,516] Trial 4 finished with value: 0.9651803499444741 and parameters: {'solver_penalty': ('lbfgs', 'l2'), 'C': 9.414608957085301, 'tol': 0.06930612377141206, 'fit_intercept': False, 'class_weight': 'balanced', 'threshold': 0.5760000000000001}. Best is trial 2 with value: 0.9692832055216959.\n",
      "[I 2025-07-02 12:19:05,776] Trial 5 finished with value: 0.2604729030584436 and parameters: {'solver_penalty': ('liblinear', 'l1'), 'C': 7.347179001986336, 'tol': 0.05867235710968178, 'fit_intercept': False, 'class_weight': 'balanced', 'threshold': 0.362}. Best is trial 2 with value: 0.9692832055216959.\n",
      "[I 2025-07-02 12:19:06,078] Trial 6 finished with value: 0.9684194349472286 and parameters: {'solver_penalty': ('liblinear', 'l1'), 'C': 2.7333196818132133, 'tol': 0.018348457731031238, 'fit_intercept': False, 'class_weight': None, 'threshold': 0.687}. Best is trial 2 with value: 0.9692832055216959.\n",
      "[I 2025-07-02 12:19:07,676] Trial 8 finished with value: 0.2604729030584436 and parameters: {'solver_penalty': ('lbfgs', 'l2'), 'C': 1.8270436261788692, 'tol': 0.021190278078822733, 'fit_intercept': False, 'class_weight': None, 'threshold': 0.425}. Best is trial 2 with value: 0.9692832055216959.\n",
      "[I 2025-07-02 12:19:08,499] Trial 10 finished with value: 0.9692291806938845 and parameters: {'solver_penalty': ('liblinear', 'l2'), 'C': 6.387377813915571, 'tol': 0.012711713166354477, 'fit_intercept': True, 'class_weight': None, 'threshold': 0.558}. Best is trial 2 with value: 0.9692832055216959.\n",
      "[I 2025-07-02 12:19:08,502] Trial 9 finished with value: 0.9685814511357311 and parameters: {'solver_penalty': ('lbfgs', 'l2'), 'C': 5.717173368273486, 'tol': 0.051192806929026086, 'fit_intercept': True, 'class_weight': 'balanced', 'threshold': 0.33299999999999996}. Best is trial 2 with value: 0.9692832055216959.\n",
      "[I 2025-07-02 12:19:09,781] Trial 7 finished with value: 0.9690132999886325 and parameters: {'solver_penalty': ('newton-cg', None), 'C': 2.6128167673192157, 'tol': 0.032415541533877816, 'fit_intercept': True, 'class_weight': 'balanced', 'threshold': 0.442}. Best is trial 2 with value: 0.9692832055216959.\n",
      "[I 2025-07-02 12:19:10,339] Trial 11 finished with value: 0.8369151925335852 and parameters: {'solver_penalty': ('newton-cholesky', None), 'C': 5.3977160621238, 'tol': 0.08942827944366065, 'fit_intercept': False, 'class_weight': 'balanced', 'threshold': 0.525}. Best is trial 2 with value: 0.9692832055216959.\n",
      "[I 2025-07-02 12:19:11,445] Trial 13 finished with value: 0.9691212184806591 and parameters: {'solver_penalty': ('newton-cholesky', 'l2'), 'C': 7.342420072550673, 'tol': 0.021865564636262342, 'fit_intercept': True, 'class_weight': None, 'threshold': 0.46599999999999997}. Best is trial 2 with value: 0.9692832055216959.\n",
      "[I 2025-07-02 12:19:11,447] Trial 12 finished with value: 0.9693371866283087 and parameters: {'solver_penalty': ('newton-cg', 'l2'), 'C': 3.19234606422516, 'tol': 0.04300147461958932, 'fit_intercept': True, 'class_weight': None, 'threshold': 0.41}. Best is trial 12 with value: 0.9693371866283087.\n",
      "[I 2025-07-02 12:19:12,279] Trial 14 finished with value: 0.2604729030584436 and parameters: {'solver_penalty': ('liblinear', 'l2'), 'C': 4.380897382591512, 'tol': 0.03423424047610095, 'fit_intercept': False, 'class_weight': 'balanced', 'threshold': 0.361}. Best is trial 12 with value: 0.9693371866283087.\n",
      "[I 2025-07-02 12:19:12,690] Trial 15 finished with value: 0.9591343056927915 and parameters: {'solver_penalty': ('lbfgs', 'l2'), 'C': 2.411241163357456, 'tol': 0.0664225475144951, 'fit_intercept': False, 'class_weight': 'balanced', 'threshold': 0.5429999999999999}. Best is trial 12 with value: 0.9693371866283087.\n",
      "[I 2025-07-02 12:19:13,619] Trial 17 finished with value: 0.9452604471804198 and parameters: {'solver_penalty': ('lbfgs', 'l2'), 'C': 5.09231527426656, 'tol': 0.006832893411482854, 'fit_intercept': False, 'class_weight': None, 'threshold': 0.534}. Best is trial 12 with value: 0.9693371866283087.\n",
      "[I 2025-07-02 12:19:14,452] Trial 16 finished with value: 0.9690672373740465 and parameters: {'solver_penalty': ('newton-cholesky', 'l2'), 'C': 3.699020854211966, 'tol': 0.08041599544110957, 'fit_intercept': True, 'class_weight': None, 'threshold': 0.502}. Best is trial 12 with value: 0.9693371866283087.\n",
      "[I 2025-07-02 12:19:15,385] Trial 18 finished with value: 0.9690672810952451 and parameters: {'solver_penalty': ('newton-cholesky', None), 'C': 9.102377992232082, 'tol': 0.09039412356359885, 'fit_intercept': True, 'class_weight': None, 'threshold': 0.42}. Best is trial 12 with value: 0.9693371866283087.\n",
      "[I 2025-07-02 12:19:15,671] Trial 20 finished with value: 0.9689593480294855 and parameters: {'solver_penalty': ('liblinear', 'l2'), 'C': 6.394292978376297, 'tol': 0.05279707055449314, 'fit_intercept': False, 'class_weight': None, 'threshold': 0.6639999999999999}. Best is trial 12 with value: 0.9693371866283087.\n",
      "[I 2025-07-02 12:19:15,673] Trial 19 finished with value: 0.9690132708411667 and parameters: {'solver_penalty': ('newton-cholesky', None), 'C': 3.075806997244397, 'tol': 0.09980506487892364, 'fit_intercept': True, 'class_weight': None, 'threshold': 0.491}. Best is trial 12 with value: 0.9693371866283087.\n",
      "[I 2025-07-02 12:19:17,046] Trial 21 finished with value: 0.2604729030584436 and parameters: {'solver_penalty': ('newton-cg', 'l2'), 'C': 9.929367649324742, 'tol': 0.09091828593685196, 'fit_intercept': False, 'class_weight': None, 'threshold': 0.39}. Best is trial 12 with value: 0.9693371866283087.\n",
      "[I 2025-07-02 12:19:17,854] Trial 22 finished with value: 0.9692832055216959 and parameters: {'solver_penalty': ('newton-cg', 'l2'), 'C': 7.411408884433097, 'tol': 0.08248784593783949, 'fit_intercept': True, 'class_weight': None, 'threshold': 0.44}. Best is trial 12 with value: 0.9693371866283087.\n",
      "[I 2025-07-02 12:19:18,030] Trial 23 finished with value: 0.9692291806938845 and parameters: {'solver_penalty': ('newton-cg', 'l2'), 'C': 3.3560926601443244, 'tol': 0.0633337556486128, 'fit_intercept': True, 'class_weight': None, 'threshold': 0.567}. Best is trial 12 with value: 0.9693371866283087.\n",
      "[I 2025-07-02 12:19:19,638] Trial 26 finished with value: 0.2604729030584436 and parameters: {'solver_penalty': ('lbfgs', 'l2'), 'C': 2.9058128026076524, 'tol': 0.019500873266923614, 'fit_intercept': False, 'class_weight': None, 'threshold': 0.486}. Best is trial 12 with value: 0.9693371866283087.\n",
      "[I 2025-07-02 12:19:20,072] Trial 25 finished with value: 0.9458537001250427 and parameters: {'solver_penalty': ('newton-cholesky', None), 'C': 9.588498298001596, 'tol': 0.0913418491648936, 'fit_intercept': False, 'class_weight': 'balanced', 'threshold': 0.637}. Best is trial 12 with value: 0.9693371866283087.\n",
      "[I 2025-07-02 12:19:20,074] Trial 24 finished with value: 0.9689593480294857 and parameters: {'solver_penalty': ('newton-cg', 'l2'), 'C': 3.787824676551531, 'tol': 0.03558318856012338, 'fit_intercept': True, 'class_weight': 'balanced', 'threshold': 0.322}. Best is trial 12 with value: 0.9693371866283087.\n",
      "[I 2025-07-02 12:19:20,799] Trial 27 finished with value: 0.2604729030584436 and parameters: {'solver_penalty': ('lbfgs', None), 'C': 6.625396588808878, 'tol': 0.008652152892460137, 'fit_intercept': False, 'class_weight': 'balanced', 'threshold': 0.36}. Best is trial 12 with value: 0.9693371866283087.\n",
      "[I 2025-07-02 12:19:22,168] Trial 28 finished with value: 0.9692292244150831 and parameters: {'solver_penalty': ('newton-cholesky', 'l2'), 'C': 0.8307849085524244, 'tol': 0.05706728159173307, 'fit_intercept': True, 'class_weight': None, 'threshold': 0.393}. Best is trial 12 with value: 0.9693371866283087.\n",
      "[I 2025-07-02 12:19:22,450] Trial 30 finished with value: 0.2604729030584436 and parameters: {'solver_penalty': ('newton-cg', 'l2'), 'C': 1.5603898345549139, 'tol': 0.08876552499507871, 'fit_intercept': False, 'class_weight': None, 'threshold': 0.356}. Best is trial 12 with value: 0.9693371866283087.\n",
      "[I 2025-07-02 12:19:23,141] Trial 31 finished with value: 0.2604729030584436 and parameters: {'solver_penalty': ('lbfgs', 'l2'), 'C': 5.475071490729999, 'tol': 0.02655111681593771, 'fit_intercept': False, 'class_weight': 'balanced', 'threshold': 0.499}. Best is trial 12 with value: 0.9693371866283087.\n",
      "[I 2025-07-02 12:19:24,511] Trial 29 finished with value: 0.9690132999886325 and parameters: {'solver_penalty': ('newton-cg', 'l2'), 'C': 5.8103799519261115, 'tol': 0.021324632415921602, 'fit_intercept': True, 'class_weight': 'balanced', 'threshold': 0.483}. Best is trial 12 with value: 0.9693371866283087.\n",
      "[I 2025-07-02 12:19:24,660] Trial 33 finished with value: 0.2604729030584436 and parameters: {'solver_penalty': ('liblinear', 'l1'), 'C': 7.810531610361647, 'tol': 0.043972397671329336, 'fit_intercept': False, 'class_weight': 'balanced', 'threshold': 0.46299999999999997}. Best is trial 12 with value: 0.9693371866283087.\n",
      "[I 2025-07-02 12:19:24,942] Trial 32 finished with value: 0.9690133145623653 and parameters: {'solver_penalty': ('lbfgs', None), 'C': 8.11184203602648, 'tol': 0.058155513442651664, 'fit_intercept': True, 'class_weight': 'balanced', 'threshold': 0.524}. Best is trial 12 with value: 0.9693371866283087.\n",
      "[I 2025-07-02 12:19:25,759] Trial 34 finished with value: 0.9689593188820197 and parameters: {'solver_penalty': ('newton-cholesky', None), 'C': 5.660725544373152, 'tol': 0.07801907569677799, 'fit_intercept': True, 'class_weight': None, 'threshold': 0.377}. Best is trial 12 with value: 0.9693371866283087.\n",
      "[I 2025-07-02 12:19:26,996] Trial 35 finished with value: 0.8554843725862256 and parameters: {'solver_penalty': ('lbfgs', None), 'C': 0.28199183387552895, 'tol': 0.019973580657816806, 'fit_intercept': False, 'class_weight': 'balanced', 'threshold': 0.524}. Best is trial 12 with value: 0.9693371866283087.\n",
      "[I 2025-07-02 12:19:27,406] Trial 37 finished with value: 0.2604729030584436 and parameters: {'solver_penalty': ('liblinear', 'l1'), 'C': 5.833622767908978, 'tol': 0.04008282718305921, 'fit_intercept': False, 'class_weight': 'balanced', 'threshold': 0.34099999999999997}. Best is trial 12 with value: 0.9693371866283087.\n",
      "[I 2025-07-02 12:19:27,969] Trial 38 finished with value: 0.9681495585616309 and parameters: {'solver_penalty': ('liblinear', 'l2'), 'C': 9.262585495272692, 'tol': 0.04560759598006322, 'fit_intercept': False, 'class_weight': 'balanced', 'threshold': 0.6579999999999999}. Best is trial 12 with value: 0.9693371866283087.\n",
      "[I 2025-07-02 12:19:29,049] Trial 36 finished with value: 0.9691752141610047 and parameters: {'solver_penalty': ('newton-cg', None), 'C': 2.557849123454927, 'tol': 0.035992466927798256, 'fit_intercept': True, 'class_weight': 'balanced', 'threshold': 0.679}. Best is trial 12 with value: 0.9693371866283087.\n",
      "[I 2025-07-02 12:19:29,341] Trial 39 finished with value: 0.9352728640008395 and parameters: {'solver_penalty': ('newton-cholesky', None), 'C': 4.515533180461487, 'tol': 0.07838690660630863, 'fit_intercept': False, 'class_weight': None, 'threshold': 0.6719999999999999}. Best is trial 12 with value: 0.9693371866283087.\n",
      "[I 2025-07-02 12:19:29,772] Trial 40 finished with value: 0.9692292244150833 and parameters: {'solver_penalty': ('liblinear', 'l1'), 'C': 8.274320424010998, 'tol': 0.0917721244704332, 'fit_intercept': True, 'class_weight': 'balanced', 'threshold': 0.523}. Best is trial 12 with value: 0.9693371866283087.\n",
      "[I 2025-07-02 12:19:31,405] Trial 43 finished with value: 0.9692831909479629 and parameters: {'solver_penalty': ('liblinear', 'l1'), 'C': 8.732758306904131, 'tol': 0.020911555395510206, 'fit_intercept': True, 'class_weight': None, 'threshold': 0.358}. Best is trial 12 with value: 0.9693371866283087.\n",
      "[I 2025-07-02 12:19:31,416] Trial 41 finished with value: 0.8740558552886618 and parameters: {'solver_penalty': ('newton-cholesky', 'l2'), 'C': 6.198211020211685, 'tol': 0.012523017522078864, 'fit_intercept': False, 'class_weight': 'balanced', 'threshold': 0.5429999999999999}. Best is trial 12 with value: 0.9693371866283087.\n",
      "[I 2025-07-02 12:19:32,140] Trial 44 finished with value: 0.9691212622018579 and parameters: {'solver_penalty': ('liblinear', 'l2'), 'C': 7.577369124165308, 'tol': 0.06084665137687517, 'fit_intercept': True, 'class_weight': 'balanced', 'threshold': 0.496}. Best is trial 12 with value: 0.9693371866283087.\n",
      "[I 2025-07-02 12:19:33,683] Trial 42 finished with value: 0.9579463424302574 and parameters: {'solver_penalty': ('newton-cg', None), 'C': 1.7803805298592468, 'tol': 0.0017127593652122091, 'fit_intercept': False, 'class_weight': 'balanced', 'threshold': 0.594}. Best is trial 12 with value: 0.9693371866283087.\n",
      "[I 2025-07-02 12:19:33,821] Trial 46 finished with value: 0.9690132999886325 and parameters: {'solver_penalty': ('newton-cg', None), 'C': 5.104686975617005, 'tol': 0.052961226733486085, 'fit_intercept': True, 'class_weight': None, 'threshold': 0.313}. Best is trial 12 with value: 0.9693371866283087.\n",
      "[I 2025-07-02 12:19:33,979] Trial 45 finished with value: 0.9688513712425273 and parameters: {'solver_penalty': ('newton-cg', None), 'C': 9.399383969181153, 'tol': 0.09867597710301441, 'fit_intercept': True, 'class_weight': 'balanced', 'threshold': 0.46599999999999997}. Best is trial 12 with value: 0.9693371866283087.\n",
      "[I 2025-07-02 12:19:35,077] Trial 47 finished with value: 0.2604729030584436 and parameters: {'solver_penalty': ('newton-cg', 'l2'), 'C': 7.778231260235548, 'tol': 0.04615044904430252, 'fit_intercept': False, 'class_weight': 'balanced', 'threshold': 0.475}. Best is trial 12 with value: 0.9693371866283087.\n",
      "[I 2025-07-02 12:19:36,328] Trial 50 finished with value: 0.9690133291360983 and parameters: {'solver_penalty': ('lbfgs', None), 'C': 5.81313476670637, 'tol': 0.038073167650435245, 'fit_intercept': False, 'class_weight': 'balanced', 'threshold': 0.6599999999999999}. Best is trial 12 with value: 0.9693371866283087.\n",
      "[I 2025-07-02 12:19:36,589] Trial 49 finished with value: 0.9691752287347377 and parameters: {'solver_penalty': ('lbfgs', 'l2'), 'C': 0.8149905832585325, 'tol': 0.09680284241306732, 'fit_intercept': True, 'class_weight': 'balanced', 'threshold': 0.694}. Best is trial 12 with value: 0.9693371866283087.\n",
      "[I 2025-07-02 12:19:36,761] Trial 48 finished with value: 0.9685274700291183 and parameters: {'solver_penalty': ('newton-cholesky', None), 'C': 6.330755083433854, 'tol': 0.09721533471410912, 'fit_intercept': True, 'class_weight': 'balanced', 'threshold': 0.316}. Best is trial 12 with value: 0.9693371866283087.\n",
      "[I 2025-07-02 12:19:37,454] Trial 51 finished with value: 0.9683655267092803 and parameters: {'solver_penalty': ('newton-cg', 'l2'), 'C': 1.9692440335191619, 'tol': 0.08526400211156442, 'fit_intercept': False, 'class_weight': None, 'threshold': 0.585}. Best is trial 12 with value: 0.9693371866283087.\n",
      "[I 2025-07-02 12:19:38,822] Trial 52 finished with value: 0.9682575353485892 and parameters: {'solver_penalty': ('lbfgs', None), 'C': 4.973558782778645, 'tol': 0.04996878007631877, 'fit_intercept': True, 'class_weight': None, 'threshold': 0.577}. Best is trial 12 with value: 0.9693371866283087.\n",
      "[I 2025-07-02 12:19:39,398] Trial 53 finished with value: 0.9692292244150833 and parameters: {'solver_penalty': ('liblinear', 'l1'), 'C': 7.912849596227243, 'tol': 0.09774192742003657, 'fit_intercept': True, 'class_weight': 'balanced', 'threshold': 0.526}. Best is trial 12 with value: 0.9693371866283087.\n",
      "[I 2025-07-02 12:19:39,826] Trial 54 finished with value: 0.9691752141610049 and parameters: {'solver_penalty': ('liblinear', 'l1'), 'C': 9.349697309678277, 'tol': 0.022519864131524625, 'fit_intercept': True, 'class_weight': None, 'threshold': 0.431}. Best is trial 12 with value: 0.9693371866283087.\n",
      "[I 2025-07-02 12:19:40,130] Trial 55 finished with value: 0.9692831909479631 and parameters: {'solver_penalty': ('liblinear', 'l1'), 'C': 9.238633135772023, 'tol': 0.022341082521769074, 'fit_intercept': True, 'class_weight': None, 'threshold': 0.375}. Best is trial 12 with value: 0.9693371866283087.\n",
      "[I 2025-07-02 12:19:41,282] Trial 56 finished with value: 0.9692831909479629 and parameters: {'solver_penalty': ('liblinear', 'l1'), 'C': 7.742614400230627, 'tol': 0.0336440553984538, 'fit_intercept': True, 'class_weight': None, 'threshold': 0.346}. Best is trial 12 with value: 0.9693371866283087.\n",
      "[I 2025-07-02 12:19:42,477] Trial 57 finished with value: 0.9692292244150833 and parameters: {'solver_penalty': ('liblinear', 'l1'), 'C': 6.89749302044119, 'tol': 0.09705736261940971, 'fit_intercept': True, 'class_weight': 'balanced', 'threshold': 0.479}. Best is trial 12 with value: 0.9693371866283087.\n",
      "[I 2025-07-02 12:19:43,049] Trial 58 finished with value: 0.9692832055216961 and parameters: {'solver_penalty': ('newton-cg', 'l2'), 'C': 8.61028001904248, 'tol': 0.06414480069111184, 'fit_intercept': True, 'class_weight': None, 'threshold': 0.45799999999999996}. Best is trial 12 with value: 0.9693371866283087.\n",
      "[I 2025-07-02 12:19:43,509] Trial 59 finished with value: 0.9691212622018579 and parameters: {'solver_penalty': ('newton-cholesky', None), 'C': 6.759567915755166, 'tol': 0.013183039998912897, 'fit_intercept': True, 'class_weight': None, 'threshold': 0.32}. Best is trial 12 with value: 0.9693371866283087.\n",
      "[I 2025-07-02 12:19:43,925] Trial 60 finished with value: 0.9693371866283087 and parameters: {'solver_penalty': ('newton-cg', 'l2'), 'C': 5.967238722893959, 'tol': 0.09147633770908467, 'fit_intercept': True, 'class_weight': None, 'threshold': 0.45399999999999996}. Best is trial 12 with value: 0.9693371866283087.\n",
      "[I 2025-07-02 12:19:44,909] Trial 61 finished with value: 0.9691752287347377 and parameters: {'solver_penalty': ('liblinear', 'l1'), 'C': 6.296104255115444, 'tol': 0.02096263809504896, 'fit_intercept': True, 'class_weight': None, 'threshold': 0.321}. Best is trial 12 with value: 0.9693371866283087.\n",
      "[I 2025-07-02 12:19:45,881] Trial 62 finished with value: 0.9693371866283087 and parameters: {'solver_penalty': ('newton-cg', 'l2'), 'C': 7.8290944128575175, 'tol': 0.09596513781294272, 'fit_intercept': True, 'class_weight': None, 'threshold': 0.45299999999999996}. Best is trial 12 with value: 0.9693371866283087.\n",
      "[I 2025-07-02 12:19:46,598] Trial 64 finished with value: 0.9691751995872719 and parameters: {'solver_penalty': ('newton-cg', 'l2'), 'C': 9.726308850794691, 'tol': 0.06295288238705186, 'fit_intercept': True, 'class_weight': None, 'threshold': 0.525}. Best is trial 12 with value: 0.9693371866283087.\n",
      "[I 2025-07-02 12:19:47,033] Trial 63 finished with value: 0.9692832055216959 and parameters: {'solver_penalty': ('newton-cg', 'l2'), 'C': 4.816029859019901, 'tol': 0.033101835037457866, 'fit_intercept': True, 'class_weight': None, 'threshold': 0.40499999999999997}. Best is trial 12 with value: 0.9693371866283087.\n",
      "[I 2025-07-02 12:19:47,603] Trial 65 finished with value: 0.9691751995872719 and parameters: {'solver_penalty': ('newton-cg', 'l2'), 'C': 8.334481028315263, 'tol': 0.0624091518318656, 'fit_intercept': True, 'class_weight': None, 'threshold': 0.501}. Best is trial 12 with value: 0.9693371866283087.\n",
      "[I 2025-07-02 12:19:48,309] Trial 66 finished with value: 0.9691212622018579 and parameters: {'solver_penalty': ('newton-cg', 'l2'), 'C': 7.32610639867654, 'tol': 0.06458403388980512, 'fit_intercept': True, 'class_weight': None, 'threshold': 0.412}. Best is trial 12 with value: 0.9693371866283087.\n",
      "[I 2025-07-02 12:19:49,140] Trial 67 finished with value: 0.9691212622018579 and parameters: {'solver_penalty': ('newton-cg', 'l2'), 'C': 6.342013027026509, 'tol': 0.09292870636146765, 'fit_intercept': True, 'class_weight': None, 'threshold': 0.409}. Best is trial 12 with value: 0.9693371866283087.\n",
      "[I 2025-07-02 12:19:50,139] Trial 68 finished with value: 0.9691752287347377 and parameters: {'solver_penalty': ('newton-cg', 'l2'), 'C': 4.794082572730678, 'tol': 0.04159170994058263, 'fit_intercept': True, 'class_weight': None, 'threshold': 0.43}. Best is trial 12 with value: 0.9693371866283087.\n",
      "[I 2025-07-02 12:19:50,586] Trial 69 finished with value: 0.9693371866283087 and parameters: {'solver_penalty': ('newton-cg', 'l2'), 'C': 2.8630801752866266, 'tol': 0.02869091825349749, 'fit_intercept': True, 'class_weight': None, 'threshold': 0.413}. Best is trial 12 with value: 0.9693371866283087.\n",
      "[I 2025-07-02 12:19:51,168] Trial 70 finished with value: 0.9692292098413503 and parameters: {'solver_penalty': ('newton-cg', 'l2'), 'C': 0.886577571001077, 'tol': 0.04235711182772364, 'fit_intercept': True, 'class_weight': None, 'threshold': 0.46099999999999997}. Best is trial 12 with value: 0.9693371866283087.\n",
      "[I 2025-07-02 12:19:52,146] Trial 71 finished with value: 0.9691752287347377 and parameters: {'solver_penalty': ('newton-cg', 'l2'), 'C': 2.8272166630509243, 'tol': 0.034652306487713565, 'fit_intercept': True, 'class_weight': None, 'threshold': 0.44599999999999995}. Best is trial 12 with value: 0.9693371866283087.\n",
      "[I 2025-07-02 12:19:53,390] Trial 72 finished with value: 0.9691751995872719 and parameters: {'solver_penalty': ('newton-cg', None), 'C': 1.947416663210038, 'tol': 0.030357458314848512, 'fit_intercept': True, 'class_weight': None, 'threshold': 0.5569999999999999}. Best is trial 12 with value: 0.9693371866283087.\n",
      "[I 2025-07-02 12:19:53,680] Trial 74 finished with value: 0.9691752287347377 and parameters: {'solver_penalty': ('liblinear', 'l2'), 'C': 2.701099341665461, 'tol': 0.019330516889544694, 'fit_intercept': True, 'class_weight': None, 'threshold': 0.364}. Best is trial 12 with value: 0.9693371866283087.\n",
      "[I 2025-07-02 12:19:53,993] Trial 73 finished with value: 0.9691212184806591 and parameters: {'solver_penalty': ('newton-cg', 'l2'), 'C': 0.7265673434494264, 'tol': 0.028019764532763558, 'fit_intercept': True, 'class_weight': None, 'threshold': 0.486}. Best is trial 12 with value: 0.9693371866283087.\n",
      "[I 2025-07-02 12:19:54,426] Trial 75 finished with value: 0.9691752578822033 and parameters: {'solver_penalty': ('liblinear', 'l2'), 'C': 2.3530678671878786, 'tol': 0.010950877145408404, 'fit_intercept': True, 'class_weight': 'balanced', 'threshold': 0.513}. Best is trial 12 with value: 0.9693371866283087.\n",
      "[I 2025-07-02 12:19:56,107] Trial 77 finished with value: 0.9692832055216959 and parameters: {'solver_penalty': ('lbfgs', 'l2'), 'C': 2.988926822107962, 'tol': 0.03271616787431122, 'fit_intercept': True, 'class_weight': None, 'threshold': 0.425}. Best is trial 12 with value: 0.9693371866283087.\n",
      "[I 2025-07-02 12:19:56,529] Trial 78 finished with value: 0.9692292098413503 and parameters: {'solver_penalty': ('liblinear', 'l1'), 'C': 2.492034872073106, 'tol': 0.02563899519787351, 'fit_intercept': True, 'class_weight': 'balanced', 'threshold': 0.5780000000000001}. Best is trial 12 with value: 0.9693371866283087.\n",
      "[I 2025-07-02 12:19:56,856] Trial 76 finished with value: 0.9689593334557527 and parameters: {'solver_penalty': ('newton-cholesky', None), 'C': 0.20606561525142753, 'tol': 0.021172955890991753, 'fit_intercept': True, 'class_weight': 'balanced', 'threshold': 0.484}. Best is trial 12 with value: 0.9693371866283087.\n",
      "[I 2025-07-02 12:19:57,015] Trial 79 finished with value: 0.9691212039069264 and parameters: {'solver_penalty': ('newton-cg', 'l2'), 'C': 6.298031072942018, 'tol': 0.08727533880921888, 'fit_intercept': True, 'class_weight': None, 'threshold': 0.608}. Best is trial 12 with value: 0.9693371866283087.\n",
      "[I 2025-07-02 12:19:59,061] Trial 81 finished with value: 0.9691212039069264 and parameters: {'solver_penalty': ('newton-cg', 'l2'), 'C': 5.823071812537117, 'tol': 0.0926066021430218, 'fit_intercept': True, 'class_weight': None, 'threshold': 0.603}. Best is trial 12 with value: 0.9693371866283087.\n",
      "[I 2025-07-02 12:19:59,386] Trial 82 finished with value: 0.9691212039069264 and parameters: {'solver_penalty': ('newton-cg', 'l2'), 'C': 7.129540691813511, 'tol': 0.09314614503403897, 'fit_intercept': True, 'class_weight': None, 'threshold': 0.595}. Best is trial 12 with value: 0.9693371866283087.\n",
      "[I 2025-07-02 12:19:59,794] Trial 83 finished with value: 0.9691752433084705 and parameters: {'solver_penalty': ('newton-cholesky', 'l2'), 'C': 8.49863241826601, 'tol': 0.09811200006364876, 'fit_intercept': True, 'class_weight': None, 'threshold': 0.425}. Best is trial 12 with value: 0.9693371866283087.\n",
      "[I 2025-07-02 12:20:00,386] Trial 80 finished with value: 0.9691752433084705 and parameters: {'solver_penalty': ('newton-cg', None), 'C': 3.6146758444858684, 'tol': 0.010797137256988023, 'fit_intercept': True, 'class_weight': 'balanced', 'threshold': 0.536}. Best is trial 12 with value: 0.9693371866283087.\n",
      "[I 2025-07-02 12:20:01,932] Trial 84 finished with value: 0.9692832055216959 and parameters: {'solver_penalty': ('newton-cg', 'l2'), 'C': 9.396974344180226, 'tol': 0.09634404530363985, 'fit_intercept': True, 'class_weight': None, 'threshold': 0.44499999999999995}. Best is trial 12 with value: 0.9693371866283087.\n",
      "[I 2025-07-02 12:20:02,129] Trial 85 finished with value: 0.9691212622018579 and parameters: {'solver_penalty': ('lbfgs', 'l2'), 'C': 3.414945170832923, 'tol': 0.03831411973159091, 'fit_intercept': True, 'class_weight': None, 'threshold': 0.391}. Best is trial 12 with value: 0.9693371866283087.\n",
      "[I 2025-07-02 12:20:02,402] Trial 86 finished with value: 0.9692832055216959 and parameters: {'solver_penalty': ('lbfgs', 'l2'), 'C': 3.4178268510768803, 'tol': 0.028456623459116835, 'fit_intercept': True, 'class_weight': None, 'threshold': 0.44}. Best is trial 12 with value: 0.9693371866283087.\n",
      "[I 2025-07-02 12:20:03,126] Trial 87 finished with value: 0.9692832055216959 and parameters: {'solver_penalty': ('lbfgs', 'l2'), 'C': 1.937538965662012, 'tol': 0.03981501575754026, 'fit_intercept': True, 'class_weight': None, 'threshold': 0.439}. Best is trial 12 with value: 0.9693371866283087.\n",
      "[I 2025-07-02 12:20:04,506] Trial 88 finished with value: 0.9690132999886325 and parameters: {'solver_penalty': ('lbfgs', 'l2'), 'C': 2.7201108679780934, 'tol': 0.03756025760010226, 'fit_intercept': True, 'class_weight': None, 'threshold': 0.327}. Best is trial 12 with value: 0.9693371866283087.\n",
      "[I 2025-07-02 12:20:05,202] Trial 89 finished with value: 0.9692292244150833 and parameters: {'solver_penalty': ('newton-cg', None), 'C': 4.9823042576025784, 'tol': 0.09620463024641232, 'fit_intercept': True, 'class_weight': None, 'threshold': 0.421}. Best is trial 12 with value: 0.9693371866283087.\n",
      "[I 2025-07-02 12:20:05,507] Trial 91 finished with value: 0.2604729030584436 and parameters: {'solver_penalty': ('lbfgs', 'l2'), 'C': 7.419919732278719, 'tol': 0.087254077917814, 'fit_intercept': False, 'class_weight': None, 'threshold': 0.423}. Best is trial 12 with value: 0.9693371866283087.\n",
      "[I 2025-07-02 12:20:05,820] Trial 90 finished with value: 0.9690132999886325 and parameters: {'solver_penalty': ('newton-cg', 'l2'), 'C': 2.4986144857505908, 'tol': 0.04079258816773465, 'fit_intercept': True, 'class_weight': None, 'threshold': 0.313}. Best is trial 12 with value: 0.9693371866283087.\n",
      "[I 2025-07-02 12:20:06,795] Trial 92 finished with value: 0.9692291806938845 and parameters: {'solver_penalty': ('lbfgs', 'l2'), 'C': 8.936663725014402, 'tol': 0.07370986446095888, 'fit_intercept': True, 'class_weight': None, 'threshold': 0.402}. Best is trial 12 with value: 0.9693371866283087.\n",
      "[I 2025-07-02 12:20:07,893] Trial 94 finished with value: 0.2604729030584436 and parameters: {'solver_penalty': ('newton-cg', 'l2'), 'C': 6.17499246671581, 'tol': 0.04320448713591099, 'fit_intercept': False, 'class_weight': None, 'threshold': 0.327}. Best is trial 12 with value: 0.9693371866283087.\n",
      "[I 2025-07-02 12:20:08,605] Trial 95 finished with value: 0.9688513712425273 and parameters: {'solver_penalty': ('newton-cg', 'l2'), 'C': 9.49821746857723, 'tol': 0.09584616495111613, 'fit_intercept': True, 'class_weight': None, 'threshold': 0.328}. Best is trial 12 with value: 0.9693371866283087.\n",
      "[I 2025-07-02 12:20:09,029] Trial 93 finished with value: 0.9689593480294855 and parameters: {'solver_penalty': ('newton-cg', 'l2'), 'C': 5.759278889867267, 'tol': 0.08855965765964502, 'fit_intercept': True, 'class_weight': 'balanced', 'threshold': 0.439}. Best is trial 12 with value: 0.9693371866283087.\n",
      "[I 2025-07-02 12:20:09,470] Trial 96 finished with value: 0.9693371866283087 and parameters: {'solver_penalty': ('newton-cg', 'l2'), 'C': 9.052889149293739, 'tol': 0.09383545119892626, 'fit_intercept': True, 'class_weight': None, 'threshold': 0.45499999999999996}. Best is trial 12 with value: 0.9693371866283087.\n",
      "[I 2025-07-02 12:20:10,583] Trial 97 finished with value: 0.9691752287347377 and parameters: {'solver_penalty': ('newton-cg', 'l2'), 'C': 9.513817022984615, 'tol': 0.0904689149537871, 'fit_intercept': True, 'class_weight': None, 'threshold': 0.46599999999999997}. Best is trial 12 with value: 0.9693371866283087.\n",
      "[I 2025-07-02 12:20:11,042] Trial 98 finished with value: 0.9693371866283087 and parameters: {'solver_penalty': ('newton-cg', 'l2'), 'C': 9.423203485770129, 'tol': 0.09524514526186752, 'fit_intercept': True, 'class_weight': None, 'threshold': 0.45699999999999996}. Best is trial 12 with value: 0.9693371866283087.\n",
      "[I 2025-07-02 12:20:12,297] Trial 99 finished with value: 0.9692832055216959 and parameters: {'solver_penalty': ('newton-cg', 'l2'), 'C': 6.972775353336785, 'tol': 0.026372850538096036, 'fit_intercept': True, 'class_weight': None, 'threshold': 0.378}. Best is trial 12 with value: 0.9693371866283087.\n",
      "[I 2025-07-02 12:20:12,998] Trial 101 finished with value: 0.9651803499444741 and parameters: {'solver_penalty': ('newton-cg', 'l2'), 'C': 8.65939628873959, 'tol': 0.09797939481730239, 'fit_intercept': False, 'class_weight': None, 'threshold': 0.55}. Best is trial 12 with value: 0.9693371866283087.\n",
      "[I 2025-07-02 12:20:13,346] Trial 102 finished with value: 0.9691212039069264 and parameters: {'solver_penalty': ('lbfgs', None), 'C': 6.033874833308754, 'tol': 0.08951005585796933, 'fit_intercept': True, 'class_weight': None, 'threshold': 0.475}. Best is trial 12 with value: 0.9693371866283087.\n",
      "[I 2025-07-02 12:20:13,945] Trial 100 finished with value: 0.9689593188820197 and parameters: {'solver_penalty': ('newton-cholesky', None), 'C': 3.6710151388471073, 'tol': 0.004215044042888687, 'fit_intercept': True, 'class_weight': 'balanced', 'threshold': 0.63}. Best is trial 12 with value: 0.9693371866283087.\n",
      "[I 2025-07-02 12:20:14,943] Trial 103 finished with value: 0.9692291806938845 and parameters: {'solver_penalty': ('liblinear', 'l1'), 'C': 3.3179040320919913, 'tol': 0.05778267243427593, 'fit_intercept': True, 'class_weight': None, 'threshold': 0.511}. Best is trial 12 with value: 0.9693371866283087.\n",
      "[I 2025-07-02 12:20:15,785] Trial 104 finished with value: 0.2604729030584436 and parameters: {'solver_penalty': ('newton-cg', None), 'C': 3.6083405672278484, 'tol': 0.025001666747278273, 'fit_intercept': False, 'class_weight': None, 'threshold': 0.41}. Best is trial 12 with value: 0.9693371866283087.\n",
      "[I 2025-07-02 12:20:16,198] Trial 105 finished with value: 0.9692291806938845 and parameters: {'solver_penalty': ('lbfgs', None), 'C': 9.503195190880037, 'tol': 0.0904226745372522, 'fit_intercept': True, 'class_weight': None, 'threshold': 0.39}. Best is trial 12 with value: 0.9693371866283087.\n",
      "[I 2025-07-02 12:20:16,644] Trial 106 finished with value: 0.9691212184806594 and parameters: {'solver_penalty': ('liblinear', 'l1'), 'C': 7.897715340672799, 'tol': 0.06939724801334074, 'fit_intercept': True, 'class_weight': None, 'threshold': 0.45599999999999996}. Best is trial 12 with value: 0.9693371866283087.\n",
      "[I 2025-07-02 12:20:18,046] Trial 107 finished with value: 0.9693371866283087 and parameters: {'solver_penalty': ('newton-cg', None), 'C': 8.947013178839384, 'tol': 0.09387348781889594, 'fit_intercept': True, 'class_weight': None, 'threshold': 0.45299999999999996}. Best is trial 12 with value: 0.9693371866283087.\n",
      "[I 2025-07-02 12:20:18,212] Trial 108 finished with value: 0.9692292098413503 and parameters: {'solver_penalty': ('liblinear', 'l1'), 'C': 7.18098740553985, 'tol': 0.08013921178288853, 'fit_intercept': True, 'class_weight': None, 'threshold': 0.432}. Best is trial 12 with value: 0.9693371866283087.\n",
      "[I 2025-07-02 12:20:19,308] Trial 110 finished with value: 0.9690672519477793 and parameters: {'solver_penalty': ('newton-cholesky', None), 'C': 8.132734197311688, 'tol': 0.09533641311813629, 'fit_intercept': True, 'class_weight': None, 'threshold': 0.5489999999999999}. Best is trial 12 with value: 0.9693371866283087.\n",
      "[I 2025-07-02 12:20:19,762] Trial 109 finished with value: 0.9692292244150831 and parameters: {'solver_penalty': ('newton-cholesky', 'l2'), 'C': 1.7307487197575688, 'tol': 0.04096167886698965, 'fit_intercept': True, 'class_weight': 'balanced', 'threshold': 0.593}. Best is trial 12 with value: 0.9693371866283087.\n",
      "[I 2025-07-02 12:20:20,727] Trial 111 finished with value: 0.9691752287347377 and parameters: {'solver_penalty': ('newton-cg', None), 'C': 9.321465928658759, 'tol': 0.06941077319878891, 'fit_intercept': True, 'class_weight': None, 'threshold': 0.46199999999999997}. Best is trial 12 with value: 0.9693371866283087.\n",
      "[I 2025-07-02 12:20:20,888] Trial 112 finished with value: 0.9692292244150833 and parameters: {'solver_penalty': ('newton-cg', None), 'C': 9.321497689499001, 'tol': 0.08744835011162282, 'fit_intercept': True, 'class_weight': None, 'threshold': 0.421}. Best is trial 12 with value: 0.9693371866283087.\n",
      "[I 2025-07-02 12:20:21,762] Trial 113 finished with value: 0.9691752287347377 and parameters: {'solver_penalty': ('newton-cg', None), 'C': 8.520681618934834, 'tol': 0.09321249332984903, 'fit_intercept': True, 'class_weight': None, 'threshold': 0.46199999999999997}. Best is trial 12 with value: 0.9693371866283087.\n",
      "[I 2025-07-02 12:20:22,469] Trial 114 finished with value: 0.9693371866283087 and parameters: {'solver_penalty': ('newton-cg', None), 'C': 8.085205537760048, 'tol': 0.0995751962014537, 'fit_intercept': True, 'class_weight': None, 'threshold': 0.44699999999999995}. Best is trial 12 with value: 0.9693371866283087.\n",
      "[I 2025-07-02 12:20:23,537] Trial 115 finished with value: 0.9691752433084705 and parameters: {'solver_penalty': ('newton-cg', None), 'C': 8.936334443515268, 'tol': 0.09678855309836924, 'fit_intercept': True, 'class_weight': None, 'threshold': 0.415}. Best is trial 12 with value: 0.9693371866283087.\n",
      "[I 2025-07-02 12:20:24,772] Trial 117 finished with value: 0.9692832055216959 and parameters: {'solver_penalty': ('lbfgs', None), 'C': 1.423450257657421, 'tol': 0.019820369847618792, 'fit_intercept': True, 'class_weight': None, 'threshold': 0.401}. Best is trial 12 with value: 0.9693371866283087.\n",
      "[I 2025-07-02 12:20:24,947] Trial 118 finished with value: 0.9691751995872719 and parameters: {'solver_penalty': ('liblinear', 'l2'), 'C': 7.392601208981383, 'tol': 0.0902153808663116, 'fit_intercept': True, 'class_weight': None, 'threshold': 0.507}. Best is trial 12 with value: 0.9693371866283087.\n",
      "[I 2025-07-02 12:20:25,259] Trial 116 finished with value: 0.9692292244150833 and parameters: {'solver_penalty': ('newton-cg', None), 'C': 0.23497159867972583, 'tol': 0.012014618915867338, 'fit_intercept': True, 'class_weight': 'balanced', 'threshold': 0.5429999999999999}. Best is trial 12 with value: 0.9693371866283087.\n",
      "[I 2025-07-02 12:20:25,961] Trial 119 finished with value: 0.96847345977504 and parameters: {'solver_penalty': ('lbfgs', 'l2'), 'C': 6.776255616755542, 'tol': 0.09759703107513897, 'fit_intercept': True, 'class_weight': None, 'threshold': 0.5449999999999999}. Best is trial 12 with value: 0.9693371866283087.\n",
      "[I 2025-07-02 12:20:27,207] Trial 120 finished with value: 0.9691751995872719 and parameters: {'solver_penalty': ('liblinear', 'l2'), 'C': 7.635327978327433, 'tol': 0.09782090891669144, 'fit_intercept': True, 'class_weight': None, 'threshold': 0.508}. Best is trial 12 with value: 0.9693371866283087.\n",
      "[I 2025-07-02 12:20:28,027] Trial 121 finished with value: 0.9691212622018579 and parameters: {'solver_penalty': ('newton-cholesky', 'l2'), 'C': 5.84316944771056, 'tol': 0.04976201213205855, 'fit_intercept': True, 'class_weight': None, 'threshold': 0.39}. Best is trial 12 with value: 0.9693371866283087.\n",
      "[I 2025-07-02 12:20:28,035] Trial 122 finished with value: 0.9691751995872719 and parameters: {'solver_penalty': ('liblinear', 'l1'), 'C': 9.443058538004777, 'tol': 0.09902494709378498, 'fit_intercept': True, 'class_weight': None, 'threshold': 0.481}. Best is trial 12 with value: 0.9693371866283087.\n",
      "[I 2025-07-02 12:20:28,643] Trial 123 finished with value: 0.9691752287347377 and parameters: {'solver_penalty': ('newton-cg', 'l2'), 'C': 4.727278522185314, 'tol': 0.0962399941184163, 'fit_intercept': True, 'class_weight': None, 'threshold': 0.472}. Best is trial 12 with value: 0.9693371866283087.\n",
      "[I 2025-07-02 12:20:30,316] Trial 125 finished with value: 0.9691212184806591 and parameters: {'solver_penalty': ('newton-cg', 'l2'), 'C': 7.4506469300966, 'tol': 0.09276233618397894, 'fit_intercept': True, 'class_weight': None, 'threshold': 0.504}. Best is trial 12 with value: 0.9693371866283087.\n",
      "[I 2025-07-02 12:20:30,750] Trial 124 finished with value: 0.9689593480294855 and parameters: {'solver_penalty': ('newton-cg', 'l2'), 'C': 9.753330267943987, 'tol': 0.06971690050673149, 'fit_intercept': True, 'class_weight': 'balanced', 'threshold': 0.361}. Best is trial 12 with value: 0.9693371866283087.\n",
      "[I 2025-07-02 12:20:31,245] Trial 126 finished with value: 0.9688513712425273 and parameters: {'solver_penalty': ('newton-cg', 'l2'), 'C': 9.292196768317163, 'tol': 0.04815265516646578, 'fit_intercept': True, 'class_weight': 'balanced', 'threshold': 0.46299999999999997}. Best is trial 12 with value: 0.9693371866283087.\n",
      "[I 2025-07-02 12:20:31,766] Trial 127 finished with value: 0.9690132999886325 and parameters: {'solver_penalty': ('newton-cg', 'l2'), 'C': 9.646829647944308, 'tol': 0.0970106635609766, 'fit_intercept': True, 'class_weight': 'balanced', 'threshold': 0.526}. Best is trial 12 with value: 0.9693371866283087.\n",
      "[I 2025-07-02 12:20:32,801] Trial 128 finished with value: 0.9692832055216959 and parameters: {'solver_penalty': ('lbfgs', 'l2'), 'C': 2.6514213767435475, 'tol': 0.02085339795474025, 'fit_intercept': True, 'class_weight': 'balanced', 'threshold': 0.619}. Best is trial 12 with value: 0.9693371866283087.\n",
      "[I 2025-07-02 12:20:33,951] Trial 129 finished with value: 0.9691751995872719 and parameters: {'solver_penalty': ('newton-cg', 'l2'), 'C': 3.773813440000394, 'tol': 0.011754029136748192, 'fit_intercept': True, 'class_weight': None, 'threshold': 0.472}. Best is trial 12 with value: 0.9693371866283087.\n",
      "[I 2025-07-02 12:20:34,393] Trial 130 finished with value: 0.2604729030584436 and parameters: {'solver_penalty': ('newton-cg', 'l2'), 'C': 2.2124965210903405, 'tol': 0.014418702141644759, 'fit_intercept': False, 'class_weight': 'balanced', 'threshold': 0.393}. Best is trial 12 with value: 0.9693371866283087.\n",
      "[I 2025-07-02 12:20:35,117] Trial 132 finished with value: 0.9691212622018579 and parameters: {'solver_penalty': ('newton-cg', 'l2'), 'C': 9.321179926740522, 'tol': 0.0693951091762771, 'fit_intercept': True, 'class_weight': None, 'threshold': 0.412}. Best is trial 12 with value: 0.9693371866283087.\n",
      "[I 2025-07-02 12:20:35,566] Trial 131 finished with value: 0.9690132999886325 and parameters: {'solver_penalty': ('newton-cg', 'l2'), 'C': 1.9726393389765189, 'tol': 0.026042657997487634, 'fit_intercept': True, 'class_weight': 'balanced', 'threshold': 0.44799999999999995}. Best is trial 12 with value: 0.9693371866283087.\n",
      "[I 2025-07-02 12:20:36,930] Trial 134 finished with value: 0.9692832055216959 and parameters: {'solver_penalty': ('newton-cg', 'l2'), 'C': 7.561940518757944, 'tol': 0.08975888576433791, 'fit_intercept': True, 'class_weight': None, 'threshold': 0.435}. Best is trial 12 with value: 0.9693371866283087.\n",
      "[I 2025-07-02 12:20:37,391] Trial 133 finished with value: 0.9692832055216961 and parameters: {'solver_penalty': ('newton-cg', 'l2'), 'C': 1.6836010870540967, 'tol': 0.015256804487004668, 'fit_intercept': True, 'class_weight': None, 'threshold': 0.378}. Best is trial 12 with value: 0.9693371866283087.\n",
      "[I 2025-07-02 12:20:37,666] Trial 135 finished with value: 0.9692832055216959 and parameters: {'solver_penalty': ('newton-cg', 'l2'), 'C': 9.10920394836106, 'tol': 0.09878078161282355, 'fit_intercept': True, 'class_weight': None, 'threshold': 0.429}. Best is trial 12 with value: 0.9693371866283087.\n",
      "[I 2025-07-02 12:20:37,980] Trial 136 finished with value: 0.2604729030584436 and parameters: {'solver_penalty': ('newton-cg', None), 'C': 7.352531774827552, 'tol': 0.08980896424886861, 'fit_intercept': False, 'class_weight': None, 'threshold': 0.386}. Best is trial 12 with value: 0.9693371866283087.\n",
      "[I 2025-07-02 12:20:39,813] Trial 139 finished with value: 0.2604729030584436 and parameters: {'solver_penalty': ('newton-cg', 'l2'), 'C': 6.750206905641875, 'tol': 0.08797574568754796, 'fit_intercept': False, 'class_weight': None, 'threshold': 0.404}. Best is trial 12 with value: 0.9693371866283087.\n",
      "[I 2025-07-02 12:20:39,818] Trial 137 finished with value: 0.9689593188820197 and parameters: {'solver_penalty': ('newton-cholesky', None), 'C': 2.3025295384418416, 'tol': 0.04045808651857842, 'fit_intercept': True, 'class_weight': None, 'threshold': 0.434}. Best is trial 12 with value: 0.9693371866283087.\n",
      "[I 2025-07-02 12:20:41,116] Trial 140 finished with value: 0.9692292244150833 and parameters: {'solver_penalty': ('newton-cg', 'l2'), 'C': 1.579607297962362, 'tol': 0.017740902388760374, 'fit_intercept': True, 'class_weight': None, 'threshold': 0.319}. Best is trial 12 with value: 0.9693371866283087.\n",
      "[I 2025-07-02 12:20:41,129] Trial 138 finished with value: 0.9692832055216961 and parameters: {'solver_penalty': ('newton-cg', None), 'C': 3.0464470408864086, 'tol': 0.029820423182956347, 'fit_intercept': True, 'class_weight': 'balanced', 'threshold': 0.612}. Best is trial 12 with value: 0.9693371866283087.\n",
      "[I 2025-07-02 12:20:42,466] Trial 142 finished with value: 0.9692292244150833 and parameters: {'solver_penalty': ('newton-cg', 'l2'), 'C': 3.1412955099147855, 'tol': 0.024880389757372258, 'fit_intercept': True, 'class_weight': None, 'threshold': 0.364}. Best is trial 12 with value: 0.9693371866283087.\n",
      "[I 2025-07-02 12:20:42,913] Trial 141 finished with value: 0.9692832055216959 and parameters: {'solver_penalty': ('newton-cg', 'l2'), 'C': 0.17646983321632392, 'tol': 0.011975136054222018, 'fit_intercept': True, 'class_weight': None, 'threshold': 0.33499999999999996}. Best is trial 12 with value: 0.9693371866283087.\n",
      "[I 2025-07-02 12:20:43,797] Trial 143 finished with value: 0.9692832055216959 and parameters: {'solver_penalty': ('newton-cg', 'l2'), 'C': 3.4024754378650424, 'tol': 0.025868893782462415, 'fit_intercept': True, 'class_weight': None, 'threshold': 0.397}. Best is trial 12 with value: 0.9693371866283087.\n",
      "[I 2025-07-02 12:20:44,390] Trial 145 finished with value: 0.9692292098413503 and parameters: {'solver_penalty': ('liblinear', 'l2'), 'C': 4.572051424855463, 'tol': 0.05381441265795523, 'fit_intercept': True, 'class_weight': None, 'threshold': 0.4}. Best is trial 12 with value: 0.9693371866283087.\n",
      "[I 2025-07-02 12:20:44,838] Trial 144 finished with value: 0.9692831909479629 and parameters: {'solver_penalty': ('newton-cg', None), 'C': 1.011541978828944, 'tol': 0.004624267498772549, 'fit_intercept': True, 'class_weight': None, 'threshold': 0.417}. Best is trial 12 with value: 0.9693371866283087.\n",
      "[I 2025-07-02 12:20:46,611] Trial 148 finished with value: 0.2604729030584436 and parameters: {'solver_penalty': ('liblinear', 'l2'), 'C': 9.796685066967466, 'tol': 0.05006801974314474, 'fit_intercept': False, 'class_weight': None, 'threshold': 0.423}. Best is trial 12 with value: 0.9693371866283087.\n",
      "[I 2025-07-02 12:20:46,915] Trial 146 finished with value: 0.9693371866283087 and parameters: {'solver_penalty': ('newton-cg', None), 'C': 3.2069884200186483, 'tol': 0.03863940178300196, 'fit_intercept': True, 'class_weight': 'balanced', 'threshold': 0.587}. Best is trial 12 with value: 0.9693371866283087.\n",
      "[I 2025-07-02 12:20:47,235] Trial 149 finished with value: 0.9691212184806594 and parameters: {'solver_penalty': ('liblinear', 'l1'), 'C': 1.4916107350546985, 'tol': 0.014870185274408138, 'fit_intercept': True, 'class_weight': None, 'threshold': 0.45199999999999996}. Best is trial 12 with value: 0.9693371866283087.\n",
      "[I 2025-07-02 12:20:47,832] Trial 147 finished with value: 0.9692832055216961 and parameters: {'solver_penalty': ('newton-cg', None), 'C': 5.494936055554637, 'tol': 0.03187300865396693, 'fit_intercept': True, 'class_weight': 'balanced', 'threshold': 0.614}. Best is trial 12 with value: 0.9693371866283087.\n",
      "[I 2025-07-02 12:20:49,278] Trial 151 finished with value: 0.9691212622018579 and parameters: {'solver_penalty': ('lbfgs', None), 'C': 3.780541405255284, 'tol': 0.04894784744763878, 'fit_intercept': True, 'class_weight': 'balanced', 'threshold': 0.619}. Best is trial 12 with value: 0.9693371866283087.\n",
      "[I 2025-07-02 12:20:49,744] Trial 150 finished with value: 0.9692832055216961 and parameters: {'solver_penalty': ('newton-cg', None), 'C': 1.7644756634062018, 'tol': 0.04307449751722418, 'fit_intercept': True, 'class_weight': 'balanced', 'threshold': 0.638}. Best is trial 12 with value: 0.9693371866283087.\n",
      "[I 2025-07-02 12:20:50,201] Trial 152 finished with value: 0.9690132999886325 and parameters: {'solver_penalty': ('newton-cg', None), 'C': 2.940590335925211, 'tol': 0.052570144909747464, 'fit_intercept': True, 'class_weight': 'balanced', 'threshold': 0.531}. Best is trial 12 with value: 0.9693371866283087.\n",
      "[I 2025-07-02 12:20:50,945] Trial 153 finished with value: 0.9692832055216959 and parameters: {'solver_penalty': ('newton-cg', None), 'C': 5.55232967192882, 'tol': 0.044947951930773625, 'fit_intercept': True, 'class_weight': 'balanced', 'threshold': 0.606}. Best is trial 12 with value: 0.9693371866283087.\n",
      "[I 2025-07-02 12:20:52,240] Trial 154 finished with value: 0.9692832055216959 and parameters: {'solver_penalty': ('newton-cg', None), 'C': 7.410736380328555, 'tol': 0.06232130519583097, 'fit_intercept': True, 'class_weight': 'balanced', 'threshold': 0.621}. Best is trial 12 with value: 0.9693371866283087.\n",
      "[I 2025-07-02 12:20:52,695] Trial 155 finished with value: 0.9690672810952453 and parameters: {'solver_penalty': ('newton-cg', None), 'C': 3.7794799294504227, 'tol': 0.04298385436215582, 'fit_intercept': True, 'class_weight': 'balanced', 'threshold': 0.5469999999999999}. Best is trial 12 with value: 0.9693371866283087.\n",
      "[I 2025-07-02 12:20:53,006] Trial 156 finished with value: 0.9690672810952453 and parameters: {'solver_penalty': ('newton-cg', None), 'C': 6.834871717862667, 'tol': 0.04253571654739426, 'fit_intercept': True, 'class_weight': 'balanced', 'threshold': 0.5469999999999999}. Best is trial 12 with value: 0.9693371866283087.\n",
      "[I 2025-07-02 12:20:53,755] Trial 157 finished with value: 0.9692832055216959 and parameters: {'solver_penalty': ('newton-cg', None), 'C': 0.4884908386470008, 'tol': 0.054426376343970635, 'fit_intercept': True, 'class_weight': 'balanced', 'threshold': 0.603}. Best is trial 12 with value: 0.9693371866283087.\n",
      "[I 2025-07-02 12:20:55,061] Trial 160 finished with value: 0.9686894279226891 and parameters: {'solver_penalty': ('newton-cg', None), 'C': 0.779838430379906, 'tol': 0.05401978304135864, 'fit_intercept': False, 'class_weight': 'balanced', 'threshold': 0.608}. Best is trial 12 with value: 0.9693371866283087.\n",
      "[I 2025-07-02 12:20:55,664] Trial 159 finished with value: 0.9692292244150831 and parameters: {'solver_penalty': ('newton-cg', 'l2'), 'C': 5.2478450408157995, 'tol': 0.03856607944157213, 'fit_intercept': True, 'class_weight': 'balanced', 'threshold': 0.615}. Best is trial 12 with value: 0.9693371866283087.\n",
      "[I 2025-07-02 12:20:56,101] Trial 158 finished with value: 0.9691752287347377 and parameters: {'solver_penalty': ('newton-cg', None), 'C': 5.5386652547168485, 'tol': 0.007170016904247359, 'fit_intercept': True, 'class_weight': 'balanced', 'threshold': 0.64}. Best is trial 12 with value: 0.9693371866283087.\n",
      "[I 2025-07-02 12:20:57,315] Trial 161 finished with value: 0.9691752287347377 and parameters: {'solver_penalty': ('newton-cg', None), 'C': 3.089732616410265, 'tol': 0.030426583855889575, 'fit_intercept': True, 'class_weight': 'balanced', 'threshold': 0.637}. Best is trial 12 with value: 0.9693371866283087.\n",
      "[I 2025-07-02 12:20:58,366] Trial 163 finished with value: 0.9692292098413503 and parameters: {'solver_penalty': ('lbfgs', None), 'C': 1.3196008613152084, 'tol': 0.020801259965252533, 'fit_intercept': True, 'class_weight': 'balanced', 'threshold': 0.696}. Best is trial 12 with value: 0.9693371866283087.\n",
      "[I 2025-07-02 12:20:58,705] Trial 162 finished with value: 0.9692831909479629 and parameters: {'solver_penalty': ('newton-cg', None), 'C': 3.1842123146662082, 'tol': 0.013976276545309793, 'fit_intercept': True, 'class_weight': 'balanced', 'threshold': 0.663}. Best is trial 12 with value: 0.9693371866283087.\n",
      "[I 2025-07-02 12:20:58,883] Trial 164 finished with value: 0.9691751995872719 and parameters: {'solver_penalty': ('newton-cg', None), 'C': 4.6073702374093894, 'tol': 0.02843540337439125, 'fit_intercept': True, 'class_weight': None, 'threshold': 0.6519999999999999}. Best is trial 12 with value: 0.9693371866283087.\n",
      "[I 2025-07-02 12:21:00,496] Trial 165 finished with value: 0.9691752287347377 and parameters: {'solver_penalty': ('lbfgs', 'l2'), 'C': 7.660892503035006, 'tol': 0.03880931636633578, 'fit_intercept': True, 'class_weight': 'balanced', 'threshold': 0.667}. Best is trial 12 with value: 0.9693371866283087.\n",
      "[I 2025-07-02 12:21:00,670] Trial 166 finished with value: 0.9691212039069264 and parameters: {'solver_penalty': ('lbfgs', 'l2'), 'C': 0.5996449214298394, 'tol': 0.037564741214760194, 'fit_intercept': True, 'class_weight': None, 'threshold': 0.6930000000000001}. Best is trial 12 with value: 0.9693371866283087.\n",
      "[I 2025-07-02 12:21:01,141] Trial 167 finished with value: 0.7847129411833288 and parameters: {'solver_penalty': ('newton-cholesky', None), 'C': 7.639410266995612, 'tol': 0.059589297910535764, 'fit_intercept': False, 'class_weight': None, 'threshold': 0.47}. Best is trial 12 with value: 0.9693371866283087.\n",
      "[I 2025-07-02 12:21:03,012] Trial 168 finished with value: 0.9692292244150833 and parameters: {'solver_penalty': ('newton-cg', None), 'C': 1.986361229681607, 'tol': 0.02954022111713, 'fit_intercept': True, 'class_weight': 'balanced', 'threshold': 0.54}. Best is trial 12 with value: 0.9693371866283087.\n",
      "[I 2025-07-02 12:21:03,298] Trial 171 finished with value: 0.9685274408816525 and parameters: {'solver_penalty': ('lbfgs', None), 'C': 8.856435389908789, 'tol': 0.06654733084911105, 'fit_intercept': True, 'class_weight': None, 'threshold': 0.558}. Best is trial 12 with value: 0.9693371866283087.\n",
      "[I 2025-07-02 12:21:03,895] Trial 169 finished with value: 0.9691751995872719 and parameters: {'solver_penalty': ('newton-cg', None), 'C': 2.9979416660221148, 'tol': 0.058096610587675436, 'fit_intercept': True, 'class_weight': 'balanced', 'threshold': 0.687}. Best is trial 12 with value: 0.9693371866283087.\n",
      "[I 2025-07-02 12:21:03,924] Trial 170 finished with value: 0.9691212184806591 and parameters: {'solver_penalty': ('newton-cg', None), 'C': 2.901727046622633, 'tol': 0.05417580286506879, 'fit_intercept': True, 'class_weight': 'balanced', 'threshold': 0.692}. Best is trial 12 with value: 0.9693371866283087.\n",
      "[I 2025-07-02 12:21:05,203] Trial 172 finished with value: 0.9693371866283087 and parameters: {'solver_penalty': ('liblinear', 'l2'), 'C': 8.028520712703997, 'tol': 0.08200175445684393, 'fit_intercept': True, 'class_weight': None, 'threshold': 0.369}. Best is trial 12 with value: 0.9693371866283087.\n",
      "[I 2025-07-02 12:21:06,044] Trial 173 finished with value: 0.9692832055216959 and parameters: {'solver_penalty': ('newton-cg', 'l2'), 'C': 5.128194591112172, 'tol': 0.07682640799421234, 'fit_intercept': True, 'class_weight': None, 'threshold': 0.434}. Best is trial 12 with value: 0.9693371866283087.\n",
      "[I 2025-07-02 12:21:06,636] Trial 175 finished with value: 0.9690132999886325 and parameters: {'solver_penalty': ('newton-cg', 'l2'), 'C': 4.515800283997284, 'tol': 0.07248815157008541, 'fit_intercept': True, 'class_weight': None, 'threshold': 0.376}. Best is trial 12 with value: 0.9693371866283087.\n",
      "[I 2025-07-02 12:21:06,944] Trial 174 finished with value: 0.9691212184806591 and parameters: {'solver_penalty': ('newton-cholesky', 'l2'), 'C': 3.2630479516787885, 'tol': 0.021411502750175563, 'fit_intercept': True, 'class_weight': None, 'threshold': 0.526}. Best is trial 12 with value: 0.9693371866283087.\n",
      "[I 2025-07-02 12:21:08,322] Trial 177 finished with value: 0.9692832055216961 and parameters: {'solver_penalty': ('liblinear', 'l2'), 'C': 7.7613251766893185, 'tol': 0.07690531574679775, 'fit_intercept': True, 'class_weight': None, 'threshold': 0.377}. Best is trial 12 with value: 0.9693371866283087.\n",
      "[I 2025-07-02 12:21:09,322] Trial 179 finished with value: 0.9691752287347377 and parameters: {'solver_penalty': ('liblinear', 'l2'), 'C': 7.6730915884110225, 'tol': 0.08563650955004658, 'fit_intercept': True, 'class_weight': None, 'threshold': 0.401}. Best is trial 12 with value: 0.9693371866283087.\n",
      "[I 2025-07-02 12:21:09,636] Trial 176 finished with value: 0.9691752287347377 and parameters: {'solver_penalty': ('newton-cg', 'l2'), 'C': 1.3363226627644926, 'tol': 0.03213430243709803, 'fit_intercept': True, 'class_weight': 'balanced', 'threshold': 0.64}. Best is trial 12 with value: 0.9693371866283087.\n",
      "[I 2025-07-02 12:21:09,932] Trial 178 finished with value: 0.9692292098413503 and parameters: {'solver_penalty': ('newton-cholesky', 'l2'), 'C': 3.187365959632847, 'tol': 0.021853143761999705, 'fit_intercept': True, 'class_weight': None, 'threshold': 0.426}. Best is trial 12 with value: 0.9693371866283087.\n",
      "[I 2025-07-02 12:21:11,059] Trial 180 finished with value: 0.9690132854148995 and parameters: {'solver_penalty': ('newton-cholesky', None), 'C': 6.949934364591384, 'tol': 0.07731303737651272, 'fit_intercept': True, 'class_weight': None, 'threshold': 0.431}. Best is trial 12 with value: 0.9693371866283087.\n",
      "[I 2025-07-02 12:21:11,777] Trial 181 finished with value: 0.9692292098413503 and parameters: {'solver_penalty': ('lbfgs', 'l2'), 'C': 6.7041266855112225, 'tol': 0.08635394497355554, 'fit_intercept': True, 'class_weight': None, 'threshold': 0.303}. Best is trial 12 with value: 0.9693371866283087.\n",
      "[I 2025-07-02 12:21:12,215] Trial 182 finished with value: 0.2604729030584436 and parameters: {'solver_penalty': ('liblinear', 'l2'), 'C': 6.778872668148051, 'tol': 0.09674095786529674, 'fit_intercept': False, 'class_weight': None, 'threshold': 0.324}. Best is trial 12 with value: 0.9693371866283087.\n",
      "[I 2025-07-02 12:21:13,336] Trial 183 finished with value: 0.9690132854148995 and parameters: {'solver_penalty': ('newton-cholesky', None), 'C': 9.69243478705976, 'tol': 0.06910377608036501, 'fit_intercept': True, 'class_weight': None, 'threshold': 0.438}. Best is trial 12 with value: 0.9693371866283087.\n",
      "[I 2025-07-02 12:21:13,650] Trial 184 finished with value: 0.9693371866283087 and parameters: {'solver_penalty': ('liblinear', 'l2'), 'C': 9.485725349785922, 'tol': 0.06971126121437797, 'fit_intercept': True, 'class_weight': None, 'threshold': 0.368}. Best is trial 12 with value: 0.9693371866283087.\n",
      "[I 2025-07-02 12:21:14,231] Trial 185 finished with value: 0.9692832055216959 and parameters: {'solver_penalty': ('liblinear', 'l2'), 'C': 7.929696836468861, 'tol': 0.07095844445737726, 'fit_intercept': True, 'class_weight': None, 'threshold': 0.323}. Best is trial 12 with value: 0.9693371866283087.\n",
      "[I 2025-07-02 12:21:15,897] Trial 187 finished with value: 0.9692832055216961 and parameters: {'solver_penalty': ('liblinear', 'l2'), 'C': 9.84613625734287, 'tol': 0.06828471364659136, 'fit_intercept': True, 'class_weight': None, 'threshold': 0.383}. Best is trial 12 with value: 0.9693371866283087.\n",
      "[I 2025-07-02 12:21:16,369] Trial 188 finished with value: 0.9692832055216959 and parameters: {'solver_penalty': ('liblinear', 'l2'), 'C': 9.400253191029584, 'tol': 0.06694054458967878, 'fit_intercept': True, 'class_weight': None, 'threshold': 0.351}. Best is trial 12 with value: 0.9693371866283087.\n",
      "[I 2025-07-02 12:21:16,681] Trial 189 finished with value: 0.9692832055216959 and parameters: {'solver_penalty': ('liblinear', 'l2'), 'C': 6.296168242062552, 'tol': 0.08813162180606496, 'fit_intercept': True, 'class_weight': None, 'threshold': 0.329}. Best is trial 12 with value: 0.9693371866283087.\n",
      "[I 2025-07-02 12:21:16,682] Trial 186 finished with value: 0.9691752578822035 and parameters: {'solver_penalty': ('newton-cholesky', 'l2'), 'C': 5.44898840418827, 'tol': 0.02986719567837418, 'fit_intercept': True, 'class_weight': 'balanced', 'threshold': 0.5640000000000001}. Best is trial 12 with value: 0.9693371866283087.\n",
      "[I 2025-07-02 12:21:19,174] Trial 190 finished with value: 0.9690132999886325 and parameters: {'solver_penalty': ('newton-cholesky', None), 'C': 3.6083087498671116, 'tol': 0.047049489130366266, 'fit_intercept': True, 'class_weight': 'balanced', 'threshold': 0.546}. Best is trial 12 with value: 0.9693371866283087.\n",
      "[I 2025-07-02 12:21:19,342] Trial 192 finished with value: 0.9693371866283087 and parameters: {'solver_penalty': ('liblinear', 'l2'), 'C': 2.587656760971539, 'tol': 0.0378818619459937, 'fit_intercept': True, 'class_weight': 'balanced', 'threshold': 0.592}. Best is trial 12 with value: 0.9693371866283087.\n",
      "[I 2025-07-02 12:21:19,498] Trial 193 finished with value: 0.9691752578822033 and parameters: {'solver_penalty': ('newton-cholesky', 'l2'), 'C': 8.338229747835454, 'tol': 0.06234131004573287, 'fit_intercept': True, 'class_weight': None, 'threshold': 0.388}. Best is trial 12 with value: 0.9693371866283087.\n",
      "[I 2025-07-02 12:21:19,686] Trial 191 finished with value: 0.9671238446673254 and parameters: {'solver_penalty': ('newton-cg', None), 'C': 5.058360320493927, 'tol': 0.04127865381667555, 'fit_intercept': False, 'class_weight': 'balanced', 'threshold': 0.616}. Best is trial 12 with value: 0.9693371866283087.\n",
      "[I 2025-07-02 12:21:21,368] Trial 194 finished with value: 0.9693371866283087 and parameters: {'solver_penalty': ('lbfgs', None), 'C': 9.990977259612102, 'tol': 0.06379535318923461, 'fit_intercept': True, 'class_weight': None, 'threshold': 0.3}. Best is trial 12 with value: 0.9693371866283087.\n",
      "[I 2025-07-02 12:21:21,953] Trial 195 finished with value: 0.9692832055216959 and parameters: {'solver_penalty': ('liblinear', 'l2'), 'C': 1.9022927510443841, 'tol': 0.05587265789526504, 'fit_intercept': True, 'class_weight': 'balanced', 'threshold': 0.535}. Best is trial 12 with value: 0.9693371866283087.\n",
      "[I 2025-07-02 12:21:22,113] Trial 197 finished with value: 0.9692832055216961 and parameters: {'solver_penalty': ('liblinear', 'l2'), 'C': 9.816012426571673, 'tol': 0.06683391953445184, 'fit_intercept': True, 'class_weight': None, 'threshold': 0.381}. Best is trial 12 with value: 0.9693371866283087.\n",
      "[I 2025-07-02 12:21:24,044] Trial 196 finished with value: 0.9692832055216961 and parameters: {'solver_penalty': ('newton-cg', None), 'C': 1.6405938382505378, 'tol': 0.03315682568085539, 'fit_intercept': True, 'class_weight': 'balanced', 'threshold': 0.614}. Best is trial 12 with value: 0.9693371866283087.\n",
      "[I 2025-07-02 12:21:24,045] Trial 198 finished with value: 0.9689593334557527 and parameters: {'solver_penalty': ('liblinear', 'l2'), 'C': 8.179535341992622, 'tol': 0.0875783079671606, 'fit_intercept': True, 'class_weight': 'balanced', 'threshold': 0.346}. Best is trial 12 with value: 0.9693371866283087.\n",
      "[I 2025-07-02 12:21:24,510] Trial 199 finished with value: 0.9692832055216959 and parameters: {'solver_penalty': ('liblinear', 'l2'), 'C': 9.333661524917822, 'tol': 0.09927636603728007, 'fit_intercept': True, 'class_weight': None, 'threshold': 0.357}. Best is trial 12 with value: 0.9693371866283087.\n",
      "[I 2025-07-02 12:21:24,831] Trial 200 finished with value: 0.9692832055216961 and parameters: {'solver_penalty': ('liblinear', 'l2'), 'C': 1.3423518220871313, 'tol': 0.03420382887355963, 'fit_intercept': True, 'class_weight': 'balanced', 'threshold': 0.603}. Best is trial 12 with value: 0.9693371866283087.\n",
      "[I 2025-07-02 12:21:26,613] Trial 202 finished with value: 0.9691751995872719 and parameters: {'solver_penalty': ('lbfgs', None), 'C': 8.661280702873938, 'tol': 0.0676488633715938, 'fit_intercept': True, 'class_weight': None, 'threshold': 0.367}. Best is trial 12 with value: 0.9693371866283087.\n",
      "[I 2025-07-02 12:21:26,619] Trial 201 finished with value: 0.9691752287347377 and parameters: {'solver_penalty': ('lbfgs', None), 'C': 8.944330002243905, 'tol': 0.08481094398884138, 'fit_intercept': True, 'class_weight': None, 'threshold': 0.312}. Best is trial 12 with value: 0.9693371866283087.\n",
      "[I 2025-07-02 12:21:27,519] Trial 204 finished with value: 0.9692292244150833 and parameters: {'solver_penalty': ('lbfgs', None), 'C': 9.34871172373151, 'tol': 0.048531522683712795, 'fit_intercept': True, 'class_weight': None, 'threshold': 0.399}. Best is trial 12 with value: 0.9693371866283087.\n",
      "[I 2025-07-02 12:21:28,231] Trial 203 finished with value: 0.9689593188820197 and parameters: {'solver_penalty': ('newton-cholesky', None), 'C': 2.1666099811307493, 'tol': 0.003714135431933295, 'fit_intercept': True, 'class_weight': None, 'threshold': 0.386}. Best is trial 12 with value: 0.9693371866283087.\n",
      "[I 2025-07-02 12:21:29,475] Trial 205 finished with value: 0.9692291806938845 and parameters: {'solver_penalty': ('newton-cg', 'l2'), 'C': 9.57838207465364, 'tol': 0.09039620465942638, 'fit_intercept': True, 'class_weight': None, 'threshold': 0.554}. Best is trial 12 with value: 0.9693371866283087.\n",
      "[I 2025-07-02 12:21:29,609] Trial 206 finished with value: 0.9689053669228729 and parameters: {'solver_penalty': ('newton-cg', None), 'C': 8.22460685852513, 'tol': 0.07390296830597559, 'fit_intercept': True, 'class_weight': None, 'threshold': 0.321}. Best is trial 12 with value: 0.9693371866283087.\n",
      "[I 2025-07-02 12:21:29,948] Trial 207 finished with value: 0.9691212184806591 and parameters: {'solver_penalty': ('liblinear', 'l2'), 'C': 9.325540864067674, 'tol': 0.04758549122209002, 'fit_intercept': True, 'class_weight': None, 'threshold': 0.437}. Best is trial 12 with value: 0.9693371866283087.\n",
      "[I 2025-07-02 12:21:31,328] Trial 208 finished with value: 0.9692832055216959 and parameters: {'solver_penalty': ('newton-cg', None), 'C': 6.850912192875409, 'tol': 0.0963025868754451, 'fit_intercept': True, 'class_weight': None, 'threshold': 0.43}. Best is trial 12 with value: 0.9693371866283087.\n",
      "[I 2025-07-02 12:21:32,192] Trial 209 finished with value: 0.9691751995872719 and parameters: {'solver_penalty': ('liblinear', 'l2'), 'C': 5.611666002451923, 'tol': 0.027869203595088893, 'fit_intercept': True, 'class_weight': 'balanced', 'threshold': 0.687}. Best is trial 12 with value: 0.9693371866283087.\n",
      "[I 2025-07-02 12:21:32,488] Trial 210 finished with value: 0.2604729030584436 and parameters: {'solver_penalty': ('newton-cg', 'l2'), 'C': 4.99912579604372, 'tol': 0.04206644458257526, 'fit_intercept': False, 'class_weight': None, 'threshold': 0.501}. Best is trial 12 with value: 0.9693371866283087.\n",
      "[I 2025-07-02 12:21:32,649] Trial 211 finished with value: 0.9691752287347377 and parameters: {'solver_penalty': ('liblinear', 'l2'), 'C': 6.274178174063809, 'tol': 0.0222383397791276, 'fit_intercept': True, 'class_weight': 'balanced', 'threshold': 0.617}. Best is trial 12 with value: 0.9693371866283087.\n",
      "[I 2025-07-02 12:21:34,194] Trial 212 finished with value: 0.2604729030584436 and parameters: {'solver_penalty': ('newton-cg', 'l2'), 'C': 0.8210280421758278, 'tol': 0.023444747484790574, 'fit_intercept': False, 'class_weight': None, 'threshold': 0.479}. Best is trial 12 with value: 0.9693371866283087.\n",
      "[I 2025-07-02 12:21:34,764] Trial 214 finished with value: 0.9692292098413503 and parameters: {'solver_penalty': ('liblinear', 'l2'), 'C': 9.801643185785897, 'tol': 0.07752952506489241, 'fit_intercept': True, 'class_weight': None, 'threshold': 0.419}. Best is trial 12 with value: 0.9693371866283087.\n",
      "[I 2025-07-02 12:21:35,068] Trial 213 finished with value: 0.9692291806938845 and parameters: {'solver_penalty': ('newton-cg', None), 'C': 9.851522446507015, 'tol': 0.08933669185096592, 'fit_intercept': True, 'class_weight': None, 'threshold': 0.548}. Best is trial 12 with value: 0.9693371866283087.\n",
      "[I 2025-07-02 12:21:36,077] Trial 215 finished with value: 0.9692292098413503 and parameters: {'solver_penalty': ('newton-cg', 'l2'), 'C': 2.8160662357415154, 'tol': 0.05527894624307722, 'fit_intercept': True, 'class_weight': None, 'threshold': 0.425}. Best is trial 12 with value: 0.9693371866283087.\n",
      "[I 2025-07-02 12:21:36,904] Trial 216 finished with value: 0.9693371866283087 and parameters: {'solver_penalty': ('liblinear', 'l2'), 'C': 8.838147018447627, 'tol': 0.0734178410800134, 'fit_intercept': True, 'class_weight': None, 'threshold': 0.375}. Best is trial 12 with value: 0.9693371866283087.\n",
      "[I 2025-07-02 12:21:37,745] Trial 218 finished with value: 0.9691212184806591 and parameters: {'solver_penalty': ('liblinear', 'l2'), 'C': 3.049186693816525, 'tol': 0.04940395315797612, 'fit_intercept': True, 'class_weight': 'balanced', 'threshold': 0.6819999999999999}. Best is trial 12 with value: 0.9693371866283087.\n",
      "[I 2025-07-02 12:21:37,758] Trial 217 finished with value: 0.9691212184806591 and parameters: {'solver_penalty': ('newton-cg', None), 'C': 7.343780186374736, 'tol': 0.07847143725064613, 'fit_intercept': True, 'class_weight': None, 'threshold': 0.508}. Best is trial 12 with value: 0.9693371866283087.\n",
      "[I 2025-07-02 12:21:38,522] Trial 219 finished with value: 0.9691751995872719 and parameters: {'solver_penalty': ('lbfgs', 'l2'), 'C': 9.74106446802546, 'tol': 0.09582952952356592, 'fit_intercept': True, 'class_weight': None, 'threshold': 0.46799999999999997}. Best is trial 12 with value: 0.9693371866283087.\n",
      "[I 2025-07-02 12:21:40,201] Trial 221 finished with value: 0.9692292098413503 and parameters: {'solver_penalty': ('liblinear', 'l1'), 'C': 7.82196558671818, 'tol': 0.07475225797754059, 'fit_intercept': True, 'class_weight': None, 'threshold': 0.322}. Best is trial 12 with value: 0.9693371866283087.\n",
      "[I 2025-07-02 12:21:40,660] Trial 223 finished with value: 0.9692292098413503 and parameters: {'solver_penalty': ('liblinear', 'l2'), 'C': 7.768870843770946, 'tol': 0.0637043606994032, 'fit_intercept': True, 'class_weight': None, 'threshold': 0.386}. Best is trial 12 with value: 0.9693371866283087.\n",
      "[I 2025-07-02 12:21:40,946] Trial 220 finished with value: 0.9691752287347377 and parameters: {'solver_penalty': ('newton-cg', None), 'C': 0.25445665804975715, 'tol': 0.026985763433213465, 'fit_intercept': True, 'class_weight': 'balanced', 'threshold': 0.628}. Best is trial 12 with value: 0.9693371866283087.\n",
      "[I 2025-07-02 12:21:41,828] Trial 222 finished with value: 0.9691752287347377 and parameters: {'solver_penalty': ('newton-cg', None), 'C': 2.307806559811259, 'tol': 0.03388225578861193, 'fit_intercept': True, 'class_weight': 'balanced', 'threshold': 0.622}. Best is trial 12 with value: 0.9693371866283087.\n",
      "[I 2025-07-02 12:21:42,263] Trial 224 finished with value: 0.9691752287347377 and parameters: {'solver_penalty': ('lbfgs', None), 'C': 8.567393584336385, 'tol': 0.059153121431700255, 'fit_intercept': True, 'class_weight': None, 'threshold': 0.31}. Best is trial 12 with value: 0.9693371866283087.\n",
      "[I 2025-07-02 12:21:43,116] Trial 226 finished with value: 0.2604729030584436 and parameters: {'solver_penalty': ('liblinear', 'l2'), 'C': 8.340678113461589, 'tol': 0.08267987766664017, 'fit_intercept': False, 'class_weight': None, 'threshold': 0.501}. Best is trial 12 with value: 0.9693371866283087.\n",
      "[I 2025-07-02 12:21:44,096] Trial 227 finished with value: 0.9692832055216961 and parameters: {'solver_penalty': ('liblinear', 'l2'), 'C': 9.550803707483587, 'tol': 0.041851878755211416, 'fit_intercept': True, 'class_weight': None, 'threshold': 0.349}. Best is trial 12 with value: 0.9693371866283087.\n",
      "[I 2025-07-02 12:21:45,219] Trial 225 finished with value: 0.9691752287347377 and parameters: {'solver_penalty': ('newton-cg', None), 'C': 0.8576848136535881, 'tol': 0.017402741905173776, 'fit_intercept': True, 'class_weight': 'balanced', 'threshold': 0.63}. Best is trial 12 with value: 0.9693371866283087.\n",
      "[I 2025-07-02 12:21:45,637] Trial 229 finished with value: 0.9692832055216959 and parameters: {'solver_penalty': ('liblinear', 'l2'), 'C': 9.336705683334129, 'tol': 0.05988041014481132, 'fit_intercept': True, 'class_weight': None, 'threshold': 0.33999999999999997}. Best is trial 12 with value: 0.9693371866283087.\n",
      "[I 2025-07-02 12:21:46,105] Trial 228 finished with value: 0.9689593480294855 and parameters: {'solver_penalty': ('newton-cg', None), 'C': 9.572921837327227, 'tol': 0.04437150476128238, 'fit_intercept': True, 'class_weight': 'balanced', 'threshold': 0.358}. Best is trial 12 with value: 0.9693371866283087.\n",
      "[I 2025-07-02 12:21:46,394] Trial 230 finished with value: 0.9692831909479629 and parameters: {'solver_penalty': ('liblinear', 'l2'), 'C': 9.629968393479796, 'tol': 0.061914499799183564, 'fit_intercept': True, 'class_weight': None, 'threshold': 0.435}. Best is trial 12 with value: 0.9693371866283087.\n",
      "[I 2025-07-02 12:21:47,920] Trial 231 finished with value: 0.9691751995872719 and parameters: {'solver_penalty': ('liblinear', 'l2'), 'C': 8.945925769321045, 'tol': 0.07124868355968958, 'fit_intercept': True, 'class_weight': None, 'threshold': 0.472}. Best is trial 12 with value: 0.9693371866283087.\n",
      "[I 2025-07-02 12:21:48,058] Trial 232 finished with value: 0.2604729030584436 and parameters: {'solver_penalty': ('lbfgs', None), 'C': 7.640516031415121, 'tol': 0.0680727106524413, 'fit_intercept': False, 'class_weight': None, 'threshold': 0.321}. Best is trial 12 with value: 0.9693371866283087.\n",
      "[I 2025-07-02 12:21:48,676] Trial 233 finished with value: 0.2604729030584436 and parameters: {'solver_penalty': ('lbfgs', None), 'C': 9.543815571474362, 'tol': 0.06053959218303274, 'fit_intercept': False, 'class_weight': None, 'threshold': 0.33299999999999996}. Best is trial 12 with value: 0.9693371866283087.\n",
      "[I 2025-07-02 12:21:49,526] Trial 234 finished with value: 0.9691212184806591 and parameters: {'solver_penalty': ('liblinear', 'l2'), 'C': 0.161918695018354, 'tol': 0.05310738503555501, 'fit_intercept': True, 'class_weight': 'balanced', 'threshold': 0.6759999999999999}. Best is trial 12 with value: 0.9693371866283087.\n",
      "[I 2025-07-02 12:21:50,982] Trial 235 finished with value: 0.9693371866283087 and parameters: {'solver_penalty': ('liblinear', 'l2'), 'C': 3.0340632976153654, 'tol': 0.02993751726182165, 'fit_intercept': True, 'class_weight': 'balanced', 'threshold': 0.5660000000000001}. Best is trial 12 with value: 0.9693371866283087.\n",
      "[I 2025-07-02 12:21:51,110] Trial 236 finished with value: 0.9693371866283087 and parameters: {'solver_penalty': ('newton-cg', 'l2'), 'C': 7.848627680406634, 'tol': 0.07810451130957884, 'fit_intercept': True, 'class_weight': None, 'threshold': 0.44799999999999995}. Best is trial 12 with value: 0.9693371866283087.\n",
      "[I 2025-07-02 12:21:51,754] Trial 238 finished with value: 0.2604729030584436 and parameters: {'solver_penalty': ('liblinear', 'l2'), 'C': 9.852160708840907, 'tol': 0.08144822997616027, 'fit_intercept': False, 'class_weight': None, 'threshold': 0.356}. Best is trial 12 with value: 0.9693371866283087.\n",
      "[I 2025-07-02 12:21:52,061] Trial 237 finished with value: 0.9692832055216961 and parameters: {'solver_penalty': ('newton-cg', 'l2'), 'C': 0.9916868497843971, 'tol': 0.024934365228515915, 'fit_intercept': True, 'class_weight': None, 'threshold': 0.42}. Best is trial 12 with value: 0.9693371866283087.\n",
      "[I 2025-07-02 12:21:53,596] Trial 239 finished with value: 0.9691212622018579 and parameters: {'solver_penalty': ('liblinear', 'l2'), 'C': 3.9930256415219736, 'tol': 0.020723509802399336, 'fit_intercept': True, 'class_weight': 'balanced', 'threshold': 0.485}. Best is trial 12 with value: 0.9693371866283087.\n",
      "[I 2025-07-02 12:21:54,203] Trial 241 finished with value: 0.9692832055216959 and parameters: {'solver_penalty': ('liblinear', 'l2'), 'C': 3.2802724210933687, 'tol': 0.039098931410405435, 'fit_intercept': True, 'class_weight': 'balanced', 'threshold': 0.5469999999999999}. Best is trial 12 with value: 0.9693371866283087.\n",
      "[I 2025-07-02 12:21:54,798] Trial 242 finished with value: 0.95675891839584 and parameters: {'solver_penalty': ('newton-cg', None), 'C': 4.2856855863803425, 'tol': 0.09720020213299752, 'fit_intercept': False, 'class_weight': 'balanced', 'threshold': 0.53}. Best is trial 12 with value: 0.9693371866283087.\n",
      "[I 2025-07-02 12:21:55,381] Trial 240 finished with value: 0.9691751995872719 and parameters: {'solver_penalty': ('newton-cg', 'l2'), 'C': 1.9557644293176988, 'tol': 0.0032452379106091816, 'fit_intercept': True, 'class_weight': None, 'threshold': 0.44799999999999995}. Best is trial 12 with value: 0.9693371866283087.\n",
      "[I 2025-07-02 12:21:56,637] Trial 243 finished with value: 0.9692292098413503 and parameters: {'solver_penalty': ('newton-cg', 'l2'), 'C': 9.919687354574052, 'tol': 0.04252727269394775, 'fit_intercept': True, 'class_weight': None, 'threshold': 0.46099999999999997}. Best is trial 12 with value: 0.9693371866283087.\n",
      "[I 2025-07-02 12:21:56,796] Trial 244 finished with value: 0.9692292098413503 and parameters: {'solver_penalty': ('newton-cg', 'l2'), 'C': 8.050295404565636, 'tol': 0.08495288959348915, 'fit_intercept': True, 'class_weight': None, 'threshold': 0.486}. Best is trial 12 with value: 0.9693371866283087.\n",
      "[I 2025-07-02 12:21:57,783] Trial 246 finished with value: 0.9691752287347377 and parameters: {'solver_penalty': ('liblinear', 'l2'), 'C': 3.2174802645456575, 'tol': 0.020214692096697195, 'fit_intercept': True, 'class_weight': 'balanced', 'threshold': 0.61}. Best is trial 12 with value: 0.9693371866283087.\n",
      "[I 2025-07-02 12:21:58,203] Trial 245 finished with value: 0.9692832055216961 and parameters: {'solver_penalty': ('newton-cg', 'l2'), 'C': 9.820213512111293, 'tol': 0.040562552479634945, 'fit_intercept': True, 'class_weight': None, 'threshold': 0.422}. Best is trial 12 with value: 0.9693371866283087.\n",
      "[I 2025-07-02 12:21:59,350] Trial 248 finished with value: 0.9692832055216959 and parameters: {'solver_penalty': ('liblinear', 'l2'), 'C': 9.911014306865333, 'tol': 0.0764850242169628, 'fit_intercept': True, 'class_weight': None, 'threshold': 0.357}. Best is trial 12 with value: 0.9693371866283087.\n",
      "[I 2025-07-02 12:21:59,775] Trial 247 finished with value: 0.9691212184806591 and parameters: {'solver_penalty': ('newton-cg', 'l2'), 'C': 7.733733358158105, 'tol': 0.06181263321375574, 'fit_intercept': True, 'class_weight': None, 'threshold': 0.504}. Best is trial 12 with value: 0.9693371866283087.\n",
      "[I 2025-07-02 12:22:00,500] Trial 249 finished with value: 0.9692831909479631 and parameters: {'solver_penalty': ('liblinear', 'l1'), 'C': 4.948743393595864, 'tol': 0.0351662516513465, 'fit_intercept': True, 'class_weight': 'balanced', 'threshold': 0.653}. Best is trial 12 with value: 0.9693371866283087.\n",
      "[I 2025-07-02 12:22:01,078] Trial 250 finished with value: 0.9691212622018579 and parameters: {'solver_penalty': ('newton-cg', 'l2'), 'C': 7.420435702182937, 'tol': 0.07675298988470515, 'fit_intercept': True, 'class_weight': None, 'threshold': 0.411}. Best is trial 12 with value: 0.9693371866283087.\n",
      "[I 2025-07-02 12:22:02,219] Trial 252 finished with value: 0.9691751995872719 and parameters: {'solver_penalty': ('lbfgs', None), 'C': 9.911835842445827, 'tol': 0.061355065458795946, 'fit_intercept': True, 'class_weight': None, 'threshold': 0.33799999999999997}. Best is trial 12 with value: 0.9693371866283087.\n",
      "[I 2025-07-02 12:22:02,234] Trial 251 finished with value: 0.9692291952676175 and parameters: {'solver_penalty': ('liblinear', 'l1'), 'C': 1.0917400839715574, 'tol': 0.05246950879029265, 'fit_intercept': True, 'class_weight': 'balanced', 'threshold': 0.6799999999999999}. Best is trial 12 with value: 0.9693371866283087.\n",
      "[I 2025-07-02 12:22:03,666] Trial 254 finished with value: 0.3866876236945579 and parameters: {'solver_penalty': ('liblinear', 'l2'), 'C': 1.9581083441032021, 'tol': 0.03293030087114696, 'fit_intercept': False, 'class_weight': 'balanced', 'threshold': 0.51}. Best is trial 12 with value: 0.9693371866283087.\n",
      "[I 2025-07-02 12:22:03,990] Trial 253 finished with value: 0.9687973318409832 and parameters: {'solver_penalty': ('newton-cholesky', None), 'C': 0.22506117290399308, 'tol': 0.049083277220649396, 'fit_intercept': True, 'class_weight': 'balanced', 'threshold': 0.643}. Best is trial 12 with value: 0.9693371866283087.\n",
      "[I 2025-07-02 12:22:04,598] Trial 255 finished with value: 0.9690133291360983 and parameters: {'solver_penalty': ('liblinear', 'l2'), 'C': 8.187529158719947, 'tol': 0.039630493711121415, 'fit_intercept': True, 'class_weight': 'balanced', 'threshold': 0.305}. Best is trial 12 with value: 0.9693371866283087.\n",
      "[I 2025-07-02 12:22:06,005] Trial 257 finished with value: 0.9692292244150833 and parameters: {'solver_penalty': ('newton-cg', 'l2'), 'C': 7.111651459290058, 'tol': 0.09292644183899308, 'fit_intercept': True, 'class_weight': None, 'threshold': 0.421}. Best is trial 12 with value: 0.9693371866283087.\n",
      "[I 2025-07-02 12:22:06,319] Trial 256 finished with value: 0.9692832055216959 and parameters: {'solver_penalty': ('newton-cg', None), 'C': 5.223183507838508, 'tol': 0.023772247537511906, 'fit_intercept': True, 'class_weight': 'balanced', 'threshold': 0.55}. Best is trial 12 with value: 0.9693371866283087.\n",
      "[I 2025-07-02 12:22:06,909] Trial 259 finished with value: 0.9690672956689779 and parameters: {'solver_penalty': ('newton-cholesky', 'l2'), 'C': 9.907304393837903, 'tol': 0.07522812120700123, 'fit_intercept': True, 'class_weight': None, 'threshold': 0.345}. Best is trial 12 with value: 0.9693371866283087.\n",
      "[I 2025-07-02 12:22:07,908] Trial 258 finished with value: 0.9691752287347377 and parameters: {'solver_penalty': ('newton-cg', None), 'C': 7.232880635002161, 'tol': 0.02358583397713772, 'fit_intercept': True, 'class_weight': 'balanced', 'threshold': 0.628}. Best is trial 12 with value: 0.9693371866283087.\n",
      "[I 2025-07-02 12:22:08,767] Trial 261 finished with value: 0.9690133145623653 and parameters: {'solver_penalty': ('newton-cholesky', None), 'C': 8.675417122234299, 'tol': 0.0561768120076841, 'fit_intercept': True, 'class_weight': None, 'threshold': 0.33699999999999997}. Best is trial 12 with value: 0.9693371866283087.\n",
      "[I 2025-07-02 12:22:09,637] Trial 262 finished with value: 0.9691752287347377 and parameters: {'solver_penalty': ('newton-cholesky', 'l2'), 'C': 5.522034929009893, 'tol': 0.0952810876251412, 'fit_intercept': True, 'class_weight': None, 'threshold': 0.431}. Best is trial 12 with value: 0.9693371866283087.\n",
      "[I 2025-07-02 12:22:09,941] Trial 260 finished with value: 0.9693371866283087 and parameters: {'solver_penalty': ('newton-cg', None), 'C': 5.275415745235859, 'tol': 0.020356764615957326, 'fit_intercept': True, 'class_weight': 'balanced', 'threshold': 0.581}. Best is trial 12 with value: 0.9693371866283087.\n",
      "[I 2025-07-02 12:22:10,264] Trial 263 finished with value: 0.9672858171346291 and parameters: {'solver_penalty': ('liblinear', 'l2'), 'C': 2.4407136211902967, 'tol': 0.025068942878759395, 'fit_intercept': False, 'class_weight': 'balanced', 'threshold': 0.638}. Best is trial 12 with value: 0.9693371866283087.\n",
      "[I 2025-07-02 12:22:11,131] Trial 264 finished with value: 0.2604729030584436 and parameters: {'solver_penalty': ('newton-cg', 'l2'), 'C': 1.774157971586659, 'tol': 0.02611429696176021, 'fit_intercept': False, 'class_weight': None, 'threshold': 0.346}. Best is trial 12 with value: 0.9693371866283087.\n",
      "[I 2025-07-02 12:22:12,575] Trial 265 finished with value: 0.9690133291360983 and parameters: {'solver_penalty': ('lbfgs', None), 'C': 9.903923248147803, 'tol': 0.07289675761710865, 'fit_intercept': True, 'class_weight': 'balanced', 'threshold': 0.408}. Best is trial 12 with value: 0.9693371866283087.\n",
      "[I 2025-07-02 12:22:12,901] Trial 266 finished with value: 0.9687433944555689 and parameters: {'solver_penalty': ('lbfgs', None), 'C': 9.580170071655425, 'tol': 0.07075381475742593, 'fit_intercept': True, 'class_weight': 'balanced', 'threshold': 0.347}. Best is trial 12 with value: 0.9693371866283087.\n",
      "[I 2025-07-02 12:22:13,351] Trial 267 finished with value: 0.9690132999886325 and parameters: {'solver_penalty': ('lbfgs', 'l2'), 'C': 1.9939558861418023, 'tol': 0.04837129775625011, 'fit_intercept': True, 'class_weight': 'balanced', 'threshold': 0.577}. Best is trial 12 with value: 0.9693371866283087.\n",
      "[I 2025-07-02 12:22:14,869] Trial 269 finished with value: 0.9641006840910217 and parameters: {'solver_penalty': ('liblinear', 'l1'), 'C': 7.001553857491426, 'tol': 0.012918491823145, 'fit_intercept': False, 'class_weight': 'balanced', 'threshold': 0.589}. Best is trial 12 with value: 0.9693371866283087.\n",
      "[I 2025-07-02 12:22:15,048] Trial 268 finished with value: 0.9689593480294855 and parameters: {'solver_penalty': ('newton-cg', None), 'C': 7.843455074455195, 'tol': 0.09964756762314608, 'fit_intercept': True, 'class_weight': 'balanced', 'threshold': 0.35}. Best is trial 12 with value: 0.9693371866283087.\n",
      "[I 2025-07-02 12:22:16,132] Trial 271 finished with value: 0.9690132999886325 and parameters: {'solver_penalty': ('newton-cg', 'l2'), 'C': 8.282140409782874, 'tol': 0.0708022953282842, 'fit_intercept': True, 'class_weight': None, 'threshold': 0.378}. Best is trial 12 with value: 0.9693371866283087.\n",
      "[I 2025-07-02 12:22:16,600] Trial 270 finished with value: 0.9690672810952453 and parameters: {'solver_penalty': ('lbfgs', None), 'C': 3.525985293808764, 'tol': 0.005997760731328856, 'fit_intercept': True, 'class_weight': 'balanced', 'threshold': 0.499}. Best is trial 12 with value: 0.9693371866283087.\n",
      "[I 2025-07-02 12:22:17,355] Trial 273 finished with value: 0.9691751850135389 and parameters: {'solver_penalty': ('liblinear', 'l2'), 'C': 3.0324596940686726, 'tol': 0.052401140842249706, 'fit_intercept': True, 'class_weight': None, 'threshold': 0.5820000000000001}. Best is trial 12 with value: 0.9693371866283087.\n",
      "[I 2025-07-02 12:22:17,786] Trial 272 finished with value: 0.6445721297761766 and parameters: {'solver_penalty': ('newton-cholesky', 'l2'), 'C': 8.012589973889627, 'tol': 0.09630274242360126, 'fit_intercept': False, 'class_weight': None, 'threshold': 0.436}. Best is trial 12 with value: 0.9693371866283087.\n",
      "[I 2025-07-02 12:22:19,663] Trial 274 finished with value: 0.9692832055216959 and parameters: {'solver_penalty': ('newton-cg', None), 'C': 2.3334509505975607, 'tol': 0.037280732116200144, 'fit_intercept': True, 'class_weight': 'balanced', 'threshold': 0.563}. Best is trial 12 with value: 0.9693371866283087.\n",
      "[I 2025-07-02 12:22:19,822] Trial 275 finished with value: 0.9692832055216961 and parameters: {'solver_penalty': ('newton-cg', None), 'C': 4.161641699483129, 'tol': 0.021490705349037412, 'fit_intercept': True, 'class_weight': 'balanced', 'threshold': 0.61}. Best is trial 12 with value: 0.9693371866283087.\n",
      "[I 2025-07-02 12:22:20,421] Trial 276 finished with value: 0.9692832055216959 and parameters: {'solver_penalty': ('newton-cg', None), 'C': 4.357819284473015, 'tol': 0.04571936181984843, 'fit_intercept': True, 'class_weight': 'balanced', 'threshold': 0.618}. Best is trial 12 with value: 0.9693371866283087.\n",
      "[I 2025-07-02 12:22:20,587] Trial 277 finished with value: 0.9692832055216959 and parameters: {'solver_penalty': ('newton-cg', None), 'C': 2.9176577354937963, 'tol': 0.041848740131514, 'fit_intercept': True, 'class_weight': 'balanced', 'threshold': 0.601}. Best is trial 12 with value: 0.9693371866283087.\n",
      "[I 2025-07-02 12:22:21,722] Trial 278 finished with value: 0.2604729030584436 and parameters: {'solver_penalty': ('liblinear', 'l1'), 'C': 3.947826103781437, 'tol': 0.06363518766545866, 'fit_intercept': False, 'class_weight': None, 'threshold': 0.43}. Best is trial 12 with value: 0.9693371866283087.\n",
      "[I 2025-07-02 12:22:23,189] Trial 279 finished with value: 0.9690672810952453 and parameters: {'solver_penalty': ('lbfgs', None), 'C': 7.330951602080771, 'tol': 0.023910950769179568, 'fit_intercept': True, 'class_weight': 'balanced', 'threshold': 0.5449999999999999}. Best is trial 12 with value: 0.9693371866283087.\n",
      "[I 2025-07-02 12:22:23,906] Trial 281 finished with value: 0.5149024580057887 and parameters: {'solver_penalty': ('newton-cholesky', None), 'C': 7.810478352730876, 'tol': 0.08517022598067953, 'fit_intercept': False, 'class_weight': 'balanced', 'threshold': 0.409}. Best is trial 12 with value: 0.9693371866283087.\n",
      "[I 2025-07-02 12:22:24,066] Trial 282 finished with value: 0.2604729030584436 and parameters: {'solver_penalty': ('lbfgs', None), 'C': 6.056087644122227, 'tol': 0.09378512837072807, 'fit_intercept': False, 'class_weight': None, 'threshold': 0.483}. Best is trial 12 with value: 0.9693371866283087.\n",
      "[I 2025-07-02 12:22:24,553] Trial 280 finished with value: 0.9690133291360983 and parameters: {'solver_penalty': ('newton-cg', 'l2'), 'C': 7.843894141581486, 'tol': 0.013029388944293736, 'fit_intercept': False, 'class_weight': 'balanced', 'threshold': 0.6990000000000001}. Best is trial 12 with value: 0.9693371866283087.\n",
      "[I 2025-07-02 12:22:26,502] Trial 283 finished with value: 0.9692832055216959 and parameters: {'solver_penalty': ('newton-cholesky', 'l2'), 'C': 0.5377898752976207, 'tol': 0.0022538724135458734, 'fit_intercept': True, 'class_weight': None, 'threshold': 0.315}. Best is trial 12 with value: 0.9693371866283087.\n",
      "[I 2025-07-02 12:22:26,946] Trial 286 finished with value: 0.9693371866283087 and parameters: {'solver_penalty': ('liblinear', 'l2'), 'C': 6.528285618130592, 'tol': 0.07368620149095498, 'fit_intercept': True, 'class_weight': None, 'threshold': 0.367}. Best is trial 12 with value: 0.9693371866283087.\n",
      "[I 2025-07-02 12:22:27,233] Trial 284 finished with value: 0.8662821678719144 and parameters: {'solver_penalty': ('newton-cholesky', None), 'C': 4.348884185802578, 'tol': 0.021489994777428828, 'fit_intercept': False, 'class_weight': 'balanced', 'threshold': 0.556}. Best is trial 12 with value: 0.9693371866283087.\n",
      "[I 2025-07-02 12:22:27,246] Trial 285 finished with value: 0.9692832055216961 and parameters: {'solver_penalty': ('newton-cg', 'l2'), 'C': 3.041766381180816, 'tol': 0.03519772801740132, 'fit_intercept': True, 'class_weight': None, 'threshold': 0.424}. Best is trial 12 with value: 0.9693371866283087.\n",
      "[I 2025-07-02 12:22:29,616] Trial 289 finished with value: 0.9692831909479629 and parameters: {'solver_penalty': ('liblinear', 'l2'), 'C': 5.618670506457738, 'tol': 0.06978973809277536, 'fit_intercept': True, 'class_weight': None, 'threshold': 0.44499999999999995}. Best is trial 12 with value: 0.9693371866283087.\n",
      "[I 2025-07-02 12:22:29,622] Trial 288 finished with value: 0.9691212622018579 and parameters: {'solver_penalty': ('liblinear', 'l2'), 'C': 5.744456056963174, 'tol': 0.06526665910215501, 'fit_intercept': True, 'class_weight': None, 'threshold': 0.307}. Best is trial 12 with value: 0.9693371866283087.\n",
      "[I 2025-07-02 12:22:29,778] Trial 287 finished with value: 0.9691752287347377 and parameters: {'solver_penalty': ('newton-cg', 'l2'), 'C': 8.688251230620567, 'tol': 0.09315287853281369, 'fit_intercept': True, 'class_weight': None, 'threshold': 0.471}. Best is trial 12 with value: 0.9693371866283087.\n",
      "[I 2025-07-02 12:22:30,159] Trial 290 finished with value: 0.9692292098413503 and parameters: {'solver_penalty': ('newton-cg', 'l2'), 'C': 8.956122063723784, 'tol': 0.08037032248516982, 'fit_intercept': True, 'class_weight': None, 'threshold': 0.485}. Best is trial 12 with value: 0.9693371866283087.\n",
      "[I 2025-07-02 12:22:32,619] Trial 291 finished with value: 0.968635403094878 and parameters: {'solver_penalty': ('newton-cg', None), 'C': 4.589764054085448, 'tol': 0.08519074732494732, 'fit_intercept': True, 'class_weight': None, 'threshold': 0.694}. Best is trial 12 with value: 0.9693371866283087.\n",
      "[I 2025-07-02 12:22:32,620] Trial 293 finished with value: 0.9693371866283087 and parameters: {'solver_penalty': ('newton-cg', None), 'C': 8.008453512631387, 'tol': 0.09984190029289632, 'fit_intercept': True, 'class_weight': None, 'threshold': 0.44999999999999996}. Best is trial 12 with value: 0.9693371866283087.\n",
      "[I 2025-07-02 12:22:32,995] Trial 292 finished with value: 0.9690132999886325 and parameters: {'solver_penalty': ('lbfgs', 'l2'), 'C': 5.539288487673426, 'tol': 0.025248138769454732, 'fit_intercept': True, 'class_weight': 'balanced', 'threshold': 0.515}. Best is trial 12 with value: 0.9693371866283087.\n",
      "[I 2025-07-02 12:22:33,169] Trial 294 finished with value: 0.9690132854148995 and parameters: {'solver_penalty': ('newton-cholesky', None), 'C': 9.19015238033876, 'tol': 0.09959314356276305, 'fit_intercept': True, 'class_weight': None, 'threshold': 0.423}. Best is trial 12 with value: 0.9693371866283087.\n",
      "[I 2025-07-02 12:22:35,255] Trial 295 finished with value: 0.9693371866283087 and parameters: {'solver_penalty': ('newton-cg', None), 'C': 7.695126817301636, 'tol': 0.09804031555294455, 'fit_intercept': True, 'class_weight': None, 'threshold': 0.45199999999999996}. Best is trial 12 with value: 0.9693371866283087.\n",
      "[I 2025-07-02 12:22:35,665] Trial 296 finished with value: 0.9690672810952453 and parameters: {'solver_penalty': ('newton-cg', None), 'C': 9.678351115096511, 'tol': 0.08883625211701765, 'fit_intercept': True, 'class_weight': None, 'threshold': 0.382}. Best is trial 12 with value: 0.9693371866283087.\n",
      "[I 2025-07-02 12:22:35,858] Trial 297 finished with value: 0.9693371866283087 and parameters: {'solver_penalty': ('newton-cg', None), 'C': 7.7585975122617965, 'tol': 0.09776424235251417, 'fit_intercept': True, 'class_weight': None, 'threshold': 0.44999999999999996}. Best is trial 12 with value: 0.9693371866283087.\n",
      "[I 2025-07-02 12:22:36,019] Trial 298 finished with value: 0.9693371866283087 and parameters: {'solver_penalty': ('newton-cg', None), 'C': 7.240627202227275, 'tol': 0.08164566513840936, 'fit_intercept': True, 'class_weight': None, 'threshold': 0.45399999999999996}. Best is trial 12 with value: 0.9693371866283087.\n",
      "[I 2025-07-02 12:22:37,957] Trial 299 finished with value: 0.9691212622018579 and parameters: {'solver_penalty': ('newton-cg', None), 'C': 7.914208791358888, 'tol': 0.0873913258042993, 'fit_intercept': True, 'class_weight': None, 'threshold': 0.402}. Best is trial 12 with value: 0.9693371866283087.\n",
      "[I 2025-07-02 12:22:38,261] Trial 300 finished with value: 0.9692832055216959 and parameters: {'solver_penalty': ('newton-cg', None), 'C': 8.26228859811717, 'tol': 0.0910344377793515, 'fit_intercept': True, 'class_weight': None, 'threshold': 0.434}. Best is trial 12 with value: 0.9693371866283087.\n",
      "[I 2025-07-02 12:22:38,545] Trial 301 finished with value: 0.9691752433084705 and parameters: {'solver_penalty': ('newton-cg', None), 'C': 8.213733834460525, 'tol': 0.0850274615098496, 'fit_intercept': True, 'class_weight': None, 'threshold': 0.414}. Best is trial 12 with value: 0.9693371866283087.\n",
      "[I 2025-07-02 12:22:39,665] Trial 302 finished with value: 0.9689593334557527 and parameters: {'solver_penalty': ('newton-cg', None), 'C': 5.9722611015081135, 'tol': 0.08225213943601868, 'fit_intercept': True, 'class_weight': 'balanced', 'threshold': 0.474}. Best is trial 12 with value: 0.9693371866283087.\n",
      "[I 2025-07-02 12:22:40,517] Trial 303 finished with value: 0.9605379019071186 and parameters: {'solver_penalty': ('newton-cg', None), 'C': 5.444947206243197, 'tol': 0.07666083514587471, 'fit_intercept': False, 'class_weight': None, 'threshold': 0.53}. Best is trial 12 with value: 0.9693371866283087.\n",
      "[I 2025-07-02 12:22:40,955] Trial 304 finished with value: 0.9691751995872719 and parameters: {'solver_penalty': ('newton-cg', None), 'C': 7.193211451848711, 'tol': 0.09932115278409451, 'fit_intercept': True, 'class_weight': None, 'threshold': 0.522}. Best is trial 12 with value: 0.9693371866283087.\n",
      "[I 2025-07-02 12:22:41,243] Trial 305 finished with value: 0.9691212184806591 and parameters: {'solver_penalty': ('newton-cg', None), 'C': 6.784374444575771, 'tol': 0.09626142203685141, 'fit_intercept': True, 'class_weight': None, 'threshold': 0.51}. Best is trial 12 with value: 0.9693371866283087.\n",
      "[I 2025-07-02 12:22:42,650] Trial 306 finished with value: 0.9691752287347377 and parameters: {'solver_penalty': ('newton-cg', None), 'C': 7.075358955627898, 'tol': 0.09901160337018942, 'fit_intercept': True, 'class_weight': None, 'threshold': 0.474}. Best is trial 12 with value: 0.9693371866283087.\n",
      "[I 2025-07-02 12:22:43,631] Trial 308 finished with value: 0.2604729030584436 and parameters: {'solver_penalty': ('newton-cg', None), 'C': 9.317385336999212, 'tol': 0.09959297497069194, 'fit_intercept': False, 'class_weight': None, 'threshold': 0.491}. Best is trial 12 with value: 0.9693371866283087.\n",
      "[I 2025-07-02 12:22:43,765] Trial 309 finished with value: 0.9691751995872719 and parameters: {'solver_penalty': ('lbfgs', None), 'C': 9.380650245037257, 'tol': 0.09722329101701824, 'fit_intercept': True, 'class_weight': None, 'threshold': 0.46599999999999997}. Best is trial 12 with value: 0.9693371866283087.\n",
      "[I 2025-07-02 12:22:43,905] Trial 307 finished with value: 0.9691752287347377 and parameters: {'solver_penalty': ('newton-cg', None), 'C': 7.9356029143816205, 'tol': 0.09163146913733032, 'fit_intercept': True, 'class_weight': None, 'threshold': 0.472}. Best is trial 12 with value: 0.9693371866283087.\n",
      "[I 2025-07-02 12:22:45,762] Trial 310 finished with value: 0.9691752287347377 and parameters: {'solver_penalty': ('newton-cg', None), 'C': 4.910249711579731, 'tol': 0.06557424382707298, 'fit_intercept': True, 'class_weight': None, 'threshold': 0.476}. Best is trial 12 with value: 0.9693371866283087.\n",
      "[I 2025-07-02 12:22:46,337] Trial 312 finished with value: 0.9692291806938845 and parameters: {'solver_penalty': ('lbfgs', None), 'C': 2.195751660295513, 'tol': 0.053154384842144645, 'fit_intercept': True, 'class_weight': None, 'threshold': 0.397}. Best is trial 12 with value: 0.9693371866283087.\n",
      "[I 2025-07-02 12:22:46,643] Trial 311 finished with value: 0.9692831909479629 and parameters: {'solver_penalty': ('newton-cg', None), 'C': 9.848143261841612, 'tol': 0.09408350752282806, 'fit_intercept': True, 'class_weight': None, 'threshold': 0.493}. Best is trial 12 with value: 0.9693371866283087.\n",
      "[I 2025-07-02 12:22:46,645] Trial 313 finished with value: 0.9691212184806594 and parameters: {'solver_penalty': ('newton-cholesky', 'l2'), 'C': 9.047857480089744, 'tol': 0.053496727373685715, 'fit_intercept': True, 'class_weight': None, 'threshold': 0.51}. Best is trial 12 with value: 0.9693371866283087.\n",
      "[I 2025-07-02 12:22:49,000] Trial 314 finished with value: 0.9693371866283087 and parameters: {'solver_penalty': ('newton-cg', None), 'C': 8.97882255922571, 'tol': 0.09906911777787383, 'fit_intercept': True, 'class_weight': None, 'threshold': 0.437}. Best is trial 12 with value: 0.9693371866283087.\n",
      "[I 2025-07-02 12:22:49,302] Trial 316 finished with value: 0.9691752287347377 and parameters: {'solver_penalty': ('lbfgs', None), 'C': 4.859850607392055, 'tol': 0.07918698871565659, 'fit_intercept': True, 'class_weight': None, 'threshold': 0.317}. Best is trial 12 with value: 0.9693371866283087.\n",
      "[I 2025-07-02 12:22:49,312] Trial 317 finished with value: 0.9691751995872719 and parameters: {'solver_penalty': ('lbfgs', 'l2'), 'C': 6.57166923098729, 'tol': 0.09630556660580948, 'fit_intercept': True, 'class_weight': None, 'threshold': 0.44499999999999995}. Best is trial 12 with value: 0.9693371866283087.\n",
      "[I 2025-07-02 12:22:49,492] Trial 315 finished with value: 0.9691752287347377 and parameters: {'solver_penalty': ('newton-cg', None), 'C': 7.8877658168243, 'tol': 0.06436576239115975, 'fit_intercept': True, 'class_weight': None, 'threshold': 0.46599999999999997}. Best is trial 12 with value: 0.9693371866283087.\n",
      "[I 2025-07-02 12:22:51,889] Trial 318 finished with value: 0.9692832055216959 and parameters: {'solver_penalty': ('newton-cg', None), 'C': 8.59751427059303, 'tol': 0.099365169012598, 'fit_intercept': True, 'class_weight': None, 'threshold': 0.43}. Best is trial 12 with value: 0.9693371866283087.\n",
      "[I 2025-07-02 12:22:52,197] Trial 320 finished with value: 0.9690672810952453 and parameters: {'solver_penalty': ('newton-cg', None), 'C': 7.478732835808951, 'tol': 0.09516521077603464, 'fit_intercept': True, 'class_weight': None, 'threshold': 0.382}. Best is trial 12 with value: 0.9693371866283087.\n",
      "[I 2025-07-02 12:22:52,204] Trial 319 finished with value: 0.9692292098413503 and parameters: {'solver_penalty': ('newton-cg', None), 'C': 8.060845882739079, 'tol': 0.09393939285966492, 'fit_intercept': True, 'class_weight': None, 'threshold': 0.488}. Best is trial 12 with value: 0.9693371866283087.\n",
      "[I 2025-07-02 12:22:52,371] Trial 321 finished with value: 0.9691212622018579 and parameters: {'solver_penalty': ('newton-cg', None), 'C': 6.281864860433299, 'tol': 0.06915472990105115, 'fit_intercept': True, 'class_weight': None, 'threshold': 0.403}. Best is trial 12 with value: 0.9693371866283087.\n",
      "[I 2025-07-02 12:22:54,550] Trial 325 finished with value: 0.2604729030584436 and parameters: {'solver_penalty': ('liblinear', 'l2'), 'C': 6.159044390321199, 'tol': 0.054689344669622386, 'fit_intercept': False, 'class_weight': None, 'threshold': 0.37}. Best is trial 12 with value: 0.9693371866283087.\n",
      "[I 2025-07-02 12:22:54,693] Trial 322 finished with value: 0.9692832055216961 and parameters: {'solver_penalty': ('newton-cg', None), 'C': 8.34271271681632, 'tol': 0.09952570467169562, 'fit_intercept': True, 'class_weight': None, 'threshold': 0.45899999999999996}. Best is trial 12 with value: 0.9693371866283087.\n",
      "[I 2025-07-02 12:22:55,215] Trial 323 finished with value: 0.9690672956689781 and parameters: {'solver_penalty': ('newton-cholesky', 'l2'), 'C': 8.444798239051066, 'tol': 0.07853454411407751, 'fit_intercept': True, 'class_weight': 'balanced', 'threshold': 0.395}. Best is trial 12 with value: 0.9693371866283087.\n",
      "[I 2025-07-02 12:22:55,495] Trial 324 finished with value: 0.9693371866283087 and parameters: {'solver_penalty': ('newton-cg', None), 'C': 2.765643145971284, 'tol': 0.046074842856839104, 'fit_intercept': True, 'class_weight': None, 'threshold': 0.392}. Best is trial 12 with value: 0.9693371866283087.\n",
      "[I 2025-07-02 12:22:57,074] Trial 327 finished with value: 0.9690132999886325 and parameters: {'solver_penalty': ('newton-cg', 'l2'), 'C': 7.585120588246704, 'tol': 0.09534276842571847, 'fit_intercept': True, 'class_weight': None, 'threshold': 0.377}. Best is trial 12 with value: 0.9693371866283087.\n",
      "[I 2025-07-02 12:22:57,671] Trial 328 finished with value: 0.9691751995872719 and parameters: {'solver_penalty': ('newton-cg', 'l2'), 'C': 5.492806396543814, 'tol': 0.08067676634349932, 'fit_intercept': True, 'class_weight': None, 'threshold': 0.5}. Best is trial 12 with value: 0.9693371866283087.\n",
      "[I 2025-07-02 12:22:58,275] Trial 329 finished with value: 0.9691752287347377 and parameters: {'solver_penalty': ('newton-cg', None), 'C': 2.4255919037379114, 'tol': 0.031367419485016375, 'fit_intercept': True, 'class_weight': None, 'threshold': 0.44}. Best is trial 12 with value: 0.9693371866283087.\n",
      "[I 2025-07-02 12:22:58,871] Trial 326 finished with value: 0.9691212622018579 and parameters: {'solver_penalty': ('newton-cg', None), 'C': 6.956994793508036, 'tol': 0.007388706121149127, 'fit_intercept': True, 'class_weight': 'balanced', 'threshold': 0.493}. Best is trial 12 with value: 0.9693371866283087.\n",
      "[I 2025-07-02 12:23:00,426] Trial 330 finished with value: 0.952116426637286 and parameters: {'solver_penalty': ('newton-cg', None), 'C': 4.5605553719691025, 'tol': 0.005983775050559225, 'fit_intercept': False, 'class_weight': 'balanced', 'threshold': 0.548}. Best is trial 12 with value: 0.9693371866283087.\n",
      "[I 2025-07-02 12:23:00,439] Trial 331 finished with value: 0.9692832055216959 and parameters: {'solver_penalty': ('newton-cg', None), 'C': 1.3856731094560295, 'tol': 0.045045098667037126, 'fit_intercept': True, 'class_weight': None, 'threshold': 0.384}. Best is trial 12 with value: 0.9693371866283087.\n",
      "[I 2025-07-02 12:23:01,487] Trial 333 finished with value: 0.969013256267434 and parameters: {'solver_penalty': ('newton-cholesky', 'l2'), 'C': 7.838093109657785, 'tol': 0.09631364607485977, 'fit_intercept': True, 'class_weight': None, 'threshold': 0.548}. Best is trial 12 with value: 0.9693371866283087.\n",
      "[I 2025-07-02 12:23:01,668] Trial 332 finished with value: 0.9689053669228729 and parameters: {'solver_penalty': ('newton-cg', 'l2'), 'C': 8.268298840168226, 'tol': 0.08249374279726948, 'fit_intercept': True, 'class_weight': 'balanced', 'threshold': 0.45099999999999996}. Best is trial 12 with value: 0.9693371866283087.\n",
      "[I 2025-07-02 12:23:02,420] Trial 334 finished with value: 0.9693371866283087 and parameters: {'solver_penalty': ('liblinear', 'l2'), 'C': 2.8032809058797423, 'tol': 0.03747897123224707, 'fit_intercept': True, 'class_weight': 'balanced', 'threshold': 0.593}. Best is trial 12 with value: 0.9693371866283087.\n",
      "[I 2025-07-02 12:23:04,213] Trial 335 finished with value: 0.9691212622018579 and parameters: {'solver_penalty': ('newton-cg', None), 'C': 3.7291142912116055, 'tol': 0.05336650024376025, 'fit_intercept': True, 'class_weight': None, 'threshold': 0.33599999999999997}. Best is trial 12 with value: 0.9693371866283087.\n",
      "[I 2025-07-02 12:23:04,233] Trial 336 finished with value: 0.9692832055216959 and parameters: {'solver_penalty': ('liblinear', 'l2'), 'C': 4.373558821963776, 'tol': 0.025591092808988768, 'fit_intercept': True, 'class_weight': 'balanced', 'threshold': 0.5760000000000001}. Best is trial 12 with value: 0.9693371866283087.\n",
      "[I 2025-07-02 12:23:04,398] Trial 337 finished with value: 0.9691212622018579 and parameters: {'solver_penalty': ('liblinear', 'l2'), 'C': 2.1121401389005623, 'tol': 0.034182416909143726, 'fit_intercept': True, 'class_weight': 'balanced', 'threshold': 0.505}. Best is trial 12 with value: 0.9693371866283087.\n",
      "[I 2025-07-02 12:23:05,030] Trial 338 finished with value: 0.9690672810952453 and parameters: {'solver_penalty': ('lbfgs', 'l2'), 'C': 8.011812442580188, 'tol': 0.0485239052308333, 'fit_intercept': True, 'class_weight': None, 'threshold': 0.351}. Best is trial 12 with value: 0.9693371866283087.\n",
      "[I 2025-07-02 12:23:06,827] Trial 339 finished with value: 0.9692832055216959 and parameters: {'solver_penalty': ('liblinear', 'l2'), 'C': 2.451638900287285, 'tol': 0.03534016630709059, 'fit_intercept': True, 'class_weight': 'balanced', 'threshold': 0.5469999999999999}. Best is trial 12 with value: 0.9693371866283087.\n",
      "[I 2025-07-02 12:23:07,142] Trial 341 finished with value: 0.2604729030584436 and parameters: {'solver_penalty': ('newton-cg', 'l2'), 'C': 4.763228004758634, 'tol': 0.0992819042923444, 'fit_intercept': False, 'class_weight': None, 'threshold': 0.495}. Best is trial 12 with value: 0.9693371866283087.\n",
      "[I 2025-07-02 12:23:07,306] Trial 340 finished with value: 0.2604729030584436 and parameters: {'solver_penalty': ('newton-cg', 'l2'), 'C': 8.833682889086223, 'tol': 0.015946021977086923, 'fit_intercept': False, 'class_weight': None, 'threshold': 0.431}. Best is trial 12 with value: 0.9693371866283087.\n",
      "[I 2025-07-02 12:23:09,238] Trial 342 finished with value: 0.9691752433084705 and parameters: {'solver_penalty': ('newton-cholesky', None), 'C': 7.308661125028081, 'tol': 0.02449027264102071, 'fit_intercept': True, 'class_weight': 'balanced', 'threshold': 0.558}. Best is trial 12 with value: 0.9693371866283087.\n",
      "[I 2025-07-02 12:23:09,556] Trial 344 finished with value: 0.9691752287347377 and parameters: {'solver_penalty': ('liblinear', 'l2'), 'C': 7.458051840619152, 'tol': 0.07333094199999224, 'fit_intercept': True, 'class_weight': None, 'threshold': 0.392}. Best is trial 12 with value: 0.9693371866283087.\n",
      "[I 2025-07-02 12:23:09,714] Trial 343 finished with value: 0.936568760329133 and parameters: {'solver_penalty': ('newton-cholesky', 'l2'), 'C': 2.6981110339686327, 'tol': 0.05971833554757509, 'fit_intercept': False, 'class_weight': None, 'threshold': 0.575}. Best is trial 12 with value: 0.9693371866283087.\n",
      "[I 2025-07-02 12:23:09,874] Trial 345 finished with value: 0.9692832055216959 and parameters: {'solver_penalty': ('liblinear', 'l2'), 'C': 7.581401882060823, 'tol': 0.09027747614699563, 'fit_intercept': True, 'class_weight': None, 'threshold': 0.362}. Best is trial 12 with value: 0.9693371866283087.\n",
      "[I 2025-07-02 12:23:12,130] Trial 346 finished with value: 0.9691751995872719 and parameters: {'solver_penalty': ('newton-cg', 'l2'), 'C': 7.421965280028244, 'tol': 0.09974187943747448, 'fit_intercept': True, 'class_weight': None, 'threshold': 0.516}. Best is trial 12 with value: 0.9693371866283087.\n",
      "[I 2025-07-02 12:23:12,316] Trial 347 finished with value: 0.9690672810952453 and parameters: {'solver_penalty': ('newton-cg', 'l2'), 'C': 9.410077001476582, 'tol': 0.08861602027613019, 'fit_intercept': True, 'class_weight': None, 'threshold': 0.394}. Best is trial 12 with value: 0.9693371866283087.\n",
      "[I 2025-07-02 12:23:12,470] Trial 348 finished with value: 0.9691212622018579 and parameters: {'solver_penalty': ('newton-cg', 'l2'), 'C': 8.92328217145993, 'tol': 0.09875909244948364, 'fit_intercept': True, 'class_weight': None, 'threshold': 0.40599999999999997}. Best is trial 12 with value: 0.9693371866283087.\n",
      "[I 2025-07-02 12:23:13,072] Trial 349 finished with value: 0.9691752287347377 and parameters: {'solver_penalty': ('newton-cg', None), 'C': 3.4959739111128734, 'tol': 0.0494353172147386, 'fit_intercept': True, 'class_weight': None, 'threshold': 0.432}. Best is trial 12 with value: 0.9693371866283087.\n",
      "[I 2025-07-02 12:23:14,328] Trial 350 finished with value: 0.9691212039069264 and parameters: {'solver_penalty': ('liblinear', 'l2'), 'C': 2.0773218327310667, 'tol': 0.024935632835945885, 'fit_intercept': True, 'class_weight': None, 'threshold': 0.61}. Best is trial 12 with value: 0.9693371866283087.\n",
      "[I 2025-07-02 12:23:15,039] Trial 352 finished with value: 0.9692831909479629 and parameters: {'solver_penalty': ('liblinear', 'l2'), 'C': 1.6078798124938216, 'tol': 0.025038540071237826, 'fit_intercept': True, 'class_weight': 'balanced', 'threshold': 0.6519999999999999}. Best is trial 12 with value: 0.9693371866283087.\n",
      "[I 2025-07-02 12:23:15,475] Trial 351 finished with value: 0.9691752287347377 and parameters: {'solver_penalty': ('newton-cg', None), 'C': 8.808973030148412, 'tol': 0.09965038688514759, 'fit_intercept': True, 'class_weight': None, 'threshold': 0.475}. Best is trial 12 with value: 0.9693371866283087.\n",
      "[I 2025-07-02 12:23:16,344] Trial 353 finished with value: 0.9692292244150833 and parameters: {'solver_penalty': ('newton-cg', None), 'C': 8.202842889192715, 'tol': 0.09991921724016484, 'fit_intercept': True, 'class_weight': None, 'threshold': 0.421}. Best is trial 12 with value: 0.9693371866283087.\n",
      "[I 2025-07-02 12:23:16,919] Trial 354 finished with value: 0.9691752287347377 and parameters: {'solver_penalty': ('liblinear', 'l2'), 'C': 2.891550081567851, 'tol': 0.03766713757769789, 'fit_intercept': True, 'class_weight': 'balanced', 'threshold': 0.625}. Best is trial 12 with value: 0.9693371866283087.\n",
      "[I 2025-07-02 12:23:17,661] Trial 355 finished with value: 0.2604729030584436 and parameters: {'solver_penalty': ('lbfgs', None), 'C': 0.08579562553249875, 'tol': 0.09503931148763606, 'fit_intercept': False, 'class_weight': 'balanced', 'threshold': 0.482}. Best is trial 12 with value: 0.9693371866283087.\n",
      "[I 2025-07-02 12:23:18,243] Trial 356 finished with value: 0.9693371866283087 and parameters: {'solver_penalty': ('newton-cg', 'l2'), 'C': 9.906024573170216, 'tol': 0.09775076680594916, 'fit_intercept': True, 'class_weight': None, 'threshold': 0.45499999999999996}. Best is trial 12 with value: 0.9693371866283087.\n",
      "[I 2025-07-02 12:23:19,792] Trial 357 finished with value: 0.9691751995872719 and parameters: {'solver_penalty': ('newton-cg', 'l2'), 'C': 4.456855022498383, 'tol': 0.04631030631512072, 'fit_intercept': True, 'class_weight': None, 'threshold': 0.515}. Best is trial 12 with value: 0.9693371866283087.\n",
      "[I 2025-07-02 12:23:20,121] Trial 358 finished with value: 0.4182126482512977 and parameters: {'solver_penalty': ('newton-cholesky', None), 'C': 9.328881910108759, 'tol': 0.03618167075612218, 'fit_intercept': False, 'class_weight': 'balanced', 'threshold': 0.33599999999999997}. Best is trial 12 with value: 0.9693371866283087.\n",
      "[I 2025-07-02 12:23:20,567] Trial 360 finished with value: 0.9692832055216959 and parameters: {'solver_penalty': ('liblinear', 'l2'), 'C': 5.635899042215689, 'tol': 0.04201145705937767, 'fit_intercept': True, 'class_weight': 'balanced', 'threshold': 0.552}. Best is trial 12 with value: 0.9693371866283087.\n",
      "[I 2025-07-02 12:23:20,882] Trial 359 finished with value: 0.9692832055216959 and parameters: {'solver_penalty': ('newton-cg', 'l2'), 'C': 2.726382168465674, 'tol': 0.04965621330352591, 'fit_intercept': True, 'class_weight': None, 'threshold': 0.388}. Best is trial 12 with value: 0.9693371866283087.\n",
      "[I 2025-07-02 12:23:22,568] Trial 361 finished with value: 0.9692832055216959 and parameters: {'solver_penalty': ('liblinear', 'l2'), 'C': 3.5662466460153177, 'tol': 0.06076856301965107, 'fit_intercept': True, 'class_weight': 'balanced', 'threshold': 0.5800000000000001}. Best is trial 12 with value: 0.9693371866283087.\n",
      "[I 2025-07-02 12:23:23,146] Trial 363 finished with value: 0.9678257010694205 and parameters: {'solver_penalty': ('liblinear', 'l2'), 'C': 3.0567510039000343, 'tol': 0.02987438738672312, 'fit_intercept': False, 'class_weight': None, 'threshold': 0.696}. Best is trial 12 with value: 0.9693371866283087.\n",
      "[I 2025-07-02 12:23:23,454] Trial 362 finished with value: 0.9686893987752235 and parameters: {'solver_penalty': ('newton-cholesky', 'l2'), 'C': 0.3591847084888542, 'tol': 0.08991587669316227, 'fit_intercept': False, 'class_weight': 'balanced', 'threshold': 0.638}. Best is trial 12 with value: 0.9693371866283087.\n",
      "[I 2025-07-02 12:23:23,761] Trial 364 finished with value: 0.9692292244150833 and parameters: {'solver_penalty': ('newton-cg', 'l2'), 'C': 5.287945126666569, 'tol': 0.09304459291024185, 'fit_intercept': True, 'class_weight': None, 'threshold': 0.416}. Best is trial 12 with value: 0.9693371866283087.\n",
      "[I 2025-07-02 12:23:25,438] Trial 366 finished with value: 0.9691752287347377 and parameters: {'solver_penalty': ('liblinear', 'l2'), 'C': 4.56110074662445, 'tol': 0.08054963884580227, 'fit_intercept': True, 'class_weight': None, 'threshold': 0.397}. Best is trial 12 with value: 0.9693371866283087.\n",
      "[I 2025-07-02 12:23:26,258] Trial 367 finished with value: 0.9691212622018579 and parameters: {'solver_penalty': ('newton-cg', 'l2'), 'C': 3.5736262802641257, 'tol': 0.09824949963086055, 'fit_intercept': True, 'class_weight': None, 'threshold': 0.402}. Best is trial 12 with value: 0.9693371866283087.\n",
      "[I 2025-07-02 12:23:26,719] Trial 368 finished with value: 0.9692832055216959 and parameters: {'solver_penalty': ('newton-cg', None), 'C': 6.399622915260174, 'tol': 0.07692845812744621, 'fit_intercept': True, 'class_weight': None, 'threshold': 0.429}. Best is trial 12 with value: 0.9693371866283087.\n",
      "[I 2025-07-02 12:23:26,736] Trial 365 finished with value: 0.9692291806938845 and parameters: {'solver_penalty': ('newton-cg', None), 'C': 4.837238310531119, 'tol': 0.015069360069505666, 'fit_intercept': True, 'class_weight': None, 'threshold': 0.533}. Best is trial 12 with value: 0.9693371866283087.\n",
      "[I 2025-07-02 12:23:28,313] Trial 369 finished with value: 0.9691752287347377 and parameters: {'solver_penalty': ('newton-cg', 'l2'), 'C': 7.879939840808758, 'tol': 0.07639874837217184, 'fit_intercept': True, 'class_weight': None, 'threshold': 0.46799999999999997}. Best is trial 12 with value: 0.9693371866283087.\n",
      "[I 2025-07-02 12:23:28,907] Trial 370 finished with value: 0.9691212622018579 and parameters: {'solver_penalty': ('newton-cg', None), 'C': 5.611462816740724, 'tol': 0.08805635403678412, 'fit_intercept': True, 'class_weight': None, 'threshold': 0.412}. Best is trial 12 with value: 0.9693371866283087.\n",
      "[I 2025-07-02 12:23:29,063] Trial 371 finished with value: 0.9663680508798163 and parameters: {'solver_penalty': ('lbfgs', 'l2'), 'C': 6.02499058547103, 'tol': 0.05988306533600737, 'fit_intercept': False, 'class_weight': None, 'threshold': 0.593}. Best is trial 12 with value: 0.9693371866283087.\n",
      "[I 2025-07-02 12:23:30,640] Trial 372 finished with value: 0.9684194932421601 and parameters: {'solver_penalty': ('newton-cholesky', None), 'C': 4.078444073540714, 'tol': 0.014677775970978892, 'fit_intercept': True, 'class_weight': 'balanced', 'threshold': 0.33799999999999997}. Best is trial 12 with value: 0.9693371866283087.\n",
      "[I 2025-07-02 12:23:31,361] Trial 373 finished with value: 0.9692832055216959 and parameters: {'solver_penalty': ('newton-cg', None), 'C': 6.228251152115588, 'tol': 0.096493953107133, 'fit_intercept': True, 'class_weight': None, 'threshold': 0.44599999999999995}. Best is trial 12 with value: 0.9693371866283087.\n",
      "[I 2025-07-02 12:23:31,542] Trial 375 finished with value: 0.9690132999886325 and parameters: {'solver_penalty': ('liblinear', 'l2'), 'C': 8.70357803742508, 'tol': 0.07277748272286691, 'fit_intercept': True, 'class_weight': 'balanced', 'threshold': 0.44599999999999995}. Best is trial 12 with value: 0.9693371866283087.\n",
      "[I 2025-07-02 12:23:31,832] Trial 374 finished with value: 0.9690672519477793 and parameters: {'solver_penalty': ('newton-cholesky', 'l2'), 'C': 8.668458265262291, 'tol': 0.08138898325098633, 'fit_intercept': True, 'class_weight': None, 'threshold': 0.44899999999999995}. Best is trial 12 with value: 0.9693371866283087.\n",
      "[I 2025-07-02 12:23:32,878] Trial 376 finished with value: 0.9692831909479629 and parameters: {'solver_penalty': ('liblinear', 'l2'), 'C': 7.484028818778967, 'tol': 0.09420905747402122, 'fit_intercept': True, 'class_weight': None, 'threshold': 0.442}. Best is trial 12 with value: 0.9693371866283087.\n",
      "[I 2025-07-02 12:23:34,269] Trial 378 finished with value: 0.9692831909479629 and parameters: {'solver_penalty': ('liblinear', 'l2'), 'C': 2.413139686394376, 'tol': 0.04544649236077875, 'fit_intercept': True, 'class_weight': None, 'threshold': 0.404}. Best is trial 12 with value: 0.9693371866283087.\n",
      "[I 2025-07-02 12:23:34,547] Trial 379 finished with value: 0.9662060929862453 and parameters: {'solver_penalty': ('lbfgs', 'l2'), 'C': 6.4332934641000605, 'tol': 0.09493038265504447, 'fit_intercept': False, 'class_weight': 'balanced', 'threshold': 0.591}. Best is trial 12 with value: 0.9693371866283087.\n",
      "[I 2025-07-02 12:23:35,567] Trial 377 finished with value: 0.9686354322423437 and parameters: {'solver_penalty': ('newton-cg', None), 'C': 1.6490901678151488, 'tol': 0.040788734320352814, 'fit_intercept': True, 'class_weight': 'balanced', 'threshold': 0.323}. Best is trial 12 with value: 0.9693371866283087.\n",
      "[I 2025-07-02 12:23:35,714] Trial 380 finished with value: 0.9691212622018579 and parameters: {'solver_penalty': ('liblinear', 'l1'), 'C': 2.8092077696346607, 'tol': 0.05101554477526194, 'fit_intercept': True, 'class_weight': 'balanced', 'threshold': 0.52}. Best is trial 12 with value: 0.9693371866283087.\n",
      "[I 2025-07-02 12:23:37,126] Trial 381 finished with value: 0.9692291806938845 and parameters: {'solver_penalty': ('liblinear', 'l1'), 'C': 6.339864043501648, 'tol': 0.09274416403637861, 'fit_intercept': True, 'class_weight': None, 'threshold': 0.528}. Best is trial 12 with value: 0.9693371866283087.\n",
      "[I 2025-07-02 12:23:37,569] Trial 382 finished with value: 0.9692832055216959 and parameters: {'solver_penalty': ('newton-cg', None), 'C': 2.1797133204605377, 'tol': 0.06419563117858786, 'fit_intercept': True, 'class_weight': None, 'threshold': 0.425}. Best is trial 12 with value: 0.9693371866283087.\n",
      "[I 2025-07-02 12:23:38,143] Trial 384 finished with value: 0.9691752287347377 and parameters: {'solver_penalty': ('lbfgs', None), 'C': 9.560212751447335, 'tol': 0.06353640890498569, 'fit_intercept': True, 'class_weight': None, 'threshold': 0.32}. Best is trial 12 with value: 0.9693371866283087.\n",
      "[I 2025-07-02 12:23:38,454] Trial 383 finished with value: 0.9692832055216959 and parameters: {'solver_penalty': ('newton-cg', None), 'C': 9.61881098785117, 'tol': 0.09920287373733627, 'fit_intercept': True, 'class_weight': None, 'threshold': 0.425}. Best is trial 12 with value: 0.9693371866283087.\n",
      "[I 2025-07-02 12:23:39,325] Trial 385 finished with value: 0.9692831909479629 and parameters: {'solver_penalty': ('lbfgs', None), 'C': 9.985719218062368, 'tol': 0.061373869540856114, 'fit_intercept': True, 'class_weight': None, 'threshold': 0.33399999999999996}. Best is trial 12 with value: 0.9693371866283087.\n",
      "[I 2025-07-02 12:23:40,569] Trial 386 finished with value: 0.9691752287347377 and parameters: {'solver_penalty': ('newton-cg', None), 'C': 8.985717198810605, 'tol': 0.07439770402512685, 'fit_intercept': True, 'class_weight': None, 'threshold': 0.469}. Best is trial 12 with value: 0.9693371866283087.\n",
      "[I 2025-07-02 12:23:41,422] Trial 388 finished with value: 0.9692832055216959 and parameters: {'solver_penalty': ('newton-cg', None), 'C': 9.717831913341929, 'tol': 0.07306557001324426, 'fit_intercept': True, 'class_weight': None, 'threshold': 0.443}. Best is trial 12 with value: 0.9693371866283087.\n",
      "[I 2025-07-02 12:23:41,719] Trial 387 finished with value: 0.9691752433084705 and parameters: {'solver_penalty': ('newton-cg', 'l2'), 'C': 4.84581563289579, 'tol': 0.041693240649102105, 'fit_intercept': True, 'class_weight': None, 'threshold': 0.357}. Best is trial 12 with value: 0.9693371866283087.\n",
      "[I 2025-07-02 12:23:41,890] Trial 389 finished with value: 0.9692292098413503 and parameters: {'solver_penalty': ('liblinear', 'l1'), 'C': 7.502648585750787, 'tol': 0.0991169486677951, 'fit_intercept': True, 'class_weight': None, 'threshold': 0.41}. Best is trial 12 with value: 0.9693371866283087.\n",
      "[I 2025-07-02 12:23:43,180] Trial 390 finished with value: 0.9690132999886325 and parameters: {'solver_penalty': ('lbfgs', None), 'C': 9.996965441609483, 'tol': 0.03189900291200444, 'fit_intercept': True, 'class_weight': None, 'threshold': 0.329}. Best is trial 12 with value: 0.9693371866283087.\n",
      "[I 2025-07-02 12:23:44,156] Trial 392 finished with value: 0.9475814598799707 and parameters: {'solver_penalty': ('liblinear', 'l2'), 'C': 0.8721949550104933, 'tol': 0.09401752319423669, 'fit_intercept': False, 'class_weight': None, 'threshold': 0.531}. Best is trial 12 with value: 0.9693371866283087.\n",
      "[I 2025-07-02 12:23:44,187] Trial 391 finished with value: 0.9692832055216961 and parameters: {'solver_penalty': ('liblinear', 'l2'), 'C': 2.220173429820264, 'tol': 0.02375838476313992, 'fit_intercept': True, 'class_weight': 'balanced', 'threshold': 0.597}. Best is trial 12 with value: 0.9693371866283087.\n",
      "[I 2025-07-02 12:23:45,334] Trial 393 finished with value: 0.9689052940542083 and parameters: {'solver_penalty': ('newton-cholesky', None), 'C': 4.303159639070549, 'tol': 0.02789403069697855, 'fit_intercept': True, 'class_weight': None, 'threshold': 0.608}. Best is trial 12 with value: 0.9693371866283087.\n",
      "[I 2025-07-02 12:23:45,623] Trial 394 finished with value: 0.2604729030584436 and parameters: {'solver_penalty': ('liblinear', 'l1'), 'C': 1.3106357162673765, 'tol': 0.06436627004445783, 'fit_intercept': False, 'class_weight': 'balanced', 'threshold': 0.443}. Best is trial 12 with value: 0.9693371866283087.\n",
      "[I 2025-07-02 12:23:47,061] Trial 395 finished with value: 0.9690672665215121 and parameters: {'solver_penalty': ('newton-cholesky', None), 'C': 6.012768693775676, 'tol': 0.09903342510303155, 'fit_intercept': True, 'class_weight': None, 'threshold': 0.492}. Best is trial 12 with value: 0.9693371866283087.\n",
      "[I 2025-07-02 12:23:47,632] Trial 397 finished with value: 0.9692292098413503 and parameters: {'solver_penalty': ('liblinear', 'l1'), 'C': 0.8328793090974878, 'tol': 0.07147122738066548, 'fit_intercept': True, 'class_weight': None, 'threshold': 0.411}. Best is trial 12 with value: 0.9693371866283087.\n",
      "[I 2025-07-02 12:23:48,221] Trial 396 finished with value: 0.9688513712425273 and parameters: {'solver_penalty': ('newton-cg', None), 'C': 9.735761761343648, 'tol': 0.07748350057490233, 'fit_intercept': True, 'class_weight': 'balanced', 'threshold': 0.46099999999999997}. Best is trial 12 with value: 0.9693371866283087.\n",
      "[I 2025-07-02 12:23:48,688] Trial 398 finished with value: 0.9690133145623653 and parameters: {'solver_penalty': ('newton-cholesky', None), 'C': 7.569596757354396, 'tol': 0.09221414107912476, 'fit_intercept': True, 'class_weight': 'balanced', 'threshold': 0.479}. Best is trial 12 with value: 0.9693371866283087.\n",
      "[I 2025-07-02 12:23:50,215] Trial 400 finished with value: 0.9692832055216959 and parameters: {'solver_penalty': ('liblinear', 'l2'), 'C': 8.278378411628552, 'tol': 0.0807599632661598, 'fit_intercept': True, 'class_weight': None, 'threshold': 0.34199999999999997}. Best is trial 12 with value: 0.9693371866283087.\n",
      "[I 2025-07-02 12:23:50,217] Trial 399 finished with value: 0.9691212767755907 and parameters: {'solver_penalty': ('newton-cholesky', 'l2'), 'C': 2.5183188997555406, 'tol': 0.049955327429745976, 'fit_intercept': True, 'class_weight': None, 'threshold': 0.35}. Best is trial 12 with value: 0.9693371866283087.\n",
      "[I 2025-07-02 12:23:51,121] Trial 402 finished with value: 0.9691751995872719 and parameters: {'solver_penalty': ('lbfgs', 'l2'), 'C': 9.246344831409939, 'tol': 0.09889688034012127, 'fit_intercept': True, 'class_weight': None, 'threshold': 0.374}. Best is trial 12 with value: 0.9693371866283087.\n",
      "[I 2025-07-02 12:23:51,134] Trial 401 finished with value: 0.9690132999886325 and parameters: {'solver_penalty': ('newton-cholesky', None), 'C': 4.089902545813381, 'tol': 0.047792522044643695, 'fit_intercept': True, 'class_weight': None, 'threshold': 0.38}. Best is trial 12 with value: 0.9693371866283087.\n",
      "[I 2025-07-02 12:23:53,180] Trial 403 finished with value: 0.9689593480294855 and parameters: {'solver_penalty': ('lbfgs', 'l2'), 'C': 7.397751367906439, 'tol': 0.0839471600086292, 'fit_intercept': True, 'class_weight': 'balanced', 'threshold': 0.46199999999999997}. Best is trial 12 with value: 0.9693371866283087.\n",
      "[I 2025-07-02 12:23:53,601] Trial 404 finished with value: 0.9617792924744158 and parameters: {'solver_penalty': ('newton-cholesky', 'l2'), 'C': 1.506272819398262, 'tol': 0.04431539039471887, 'fit_intercept': False, 'class_weight': 'balanced', 'threshold': 0.581}. Best is trial 12 with value: 0.9693371866283087.\n",
      "[I 2025-07-02 12:23:53,784] Trial 405 finished with value: 0.2604729030584436 and parameters: {'solver_penalty': ('newton-cg', 'l2'), 'C': 8.749275531499329, 'tol': 0.07639815647107553, 'fit_intercept': False, 'class_weight': None, 'threshold': 0.46399999999999997}. Best is trial 12 with value: 0.9693371866283087.\n",
      "[I 2025-07-02 12:23:54,811] Trial 406 finished with value: 0.9687973609884487 and parameters: {'solver_penalty': ('newton-cholesky', None), 'C': 5.268701590572776, 'tol': 0.03694616533886998, 'fit_intercept': True, 'class_weight': 'balanced', 'threshold': 0.665}. Best is trial 12 with value: 0.9693371866283087.\n",
      "[I 2025-07-02 12:23:56,330] Trial 409 finished with value: 0.9691751850135389 and parameters: {'solver_penalty': ('lbfgs', None), 'C': 6.576497866915597, 'tol': 0.07941025560348101, 'fit_intercept': True, 'class_weight': None, 'threshold': 0.418}. Best is trial 12 with value: 0.9693371866283087.\n",
      "[I 2025-07-02 12:23:56,338] Trial 407 finished with value: 0.9693371866283087 and parameters: {'solver_penalty': ('newton-cg', 'l2'), 'C': 6.3326486466864225, 'tol': 0.08905843110246939, 'fit_intercept': True, 'class_weight': None, 'threshold': 0.45699999999999996}. Best is trial 12 with value: 0.9693371866283087.\n",
      "[I 2025-07-02 12:23:56,652] Trial 408 finished with value: 0.9691751995872719 and parameters: {'solver_penalty': ('newton-cg', 'l2'), 'C': 9.717691561044559, 'tol': 0.09612855308442167, 'fit_intercept': True, 'class_weight': None, 'threshold': 0.531}. Best is trial 12 with value: 0.9693371866283087.\n",
      "[I 2025-07-02 12:23:57,007] Trial 410 finished with value: 0.2604729030584436 and parameters: {'solver_penalty': ('lbfgs', None), 'C': 2.7490599453364055, 'tol': 0.05708307729354738, 'fit_intercept': False, 'class_weight': None, 'threshold': 0.391}. Best is trial 12 with value: 0.9693371866283087.\n",
      "[I 2025-07-02 12:23:59,488] Trial 411 finished with value: 0.9691752287347377 and parameters: {'solver_penalty': ('newton-cg', 'l2'), 'C': 8.058466988459973, 'tol': 0.0922328759820621, 'fit_intercept': True, 'class_weight': None, 'threshold': 0.475}. Best is trial 12 with value: 0.9693371866283087.\n",
      "[I 2025-07-02 12:23:59,786] Trial 413 finished with value: 0.9684734889225055 and parameters: {'solver_penalty': ('lbfgs', None), 'C': 6.0267251740473995, 'tol': 0.05616951575526255, 'fit_intercept': True, 'class_weight': 'balanced', 'threshold': 0.329}. Best is trial 12 with value: 0.9693371866283087.\n",
      "[I 2025-07-02 12:23:59,922] Trial 412 finished with value: 0.9690133291360983 and parameters: {'solver_penalty': ('lbfgs', None), 'C': 8.710708962427574, 'tol': 0.03592886684067407, 'fit_intercept': True, 'class_weight': 'balanced', 'threshold': 0.321}. Best is trial 12 with value: 0.9693371866283087.\n",
      "[I 2025-07-02 12:24:00,159] Trial 414 finished with value: 0.9692832055216959 and parameters: {'solver_penalty': ('newton-cg', None), 'C': 7.764027971225246, 'tol': 0.09662236710332121, 'fit_intercept': True, 'class_weight': None, 'threshold': 0.433}. Best is trial 12 with value: 0.9693371866283087.\n",
      "[I 2025-07-02 12:24:02,187] Trial 416 finished with value: 0.2604729030584436 and parameters: {'solver_penalty': ('liblinear', 'l2'), 'C': 8.61984965553758, 'tol': 0.019336026534182132, 'fit_intercept': False, 'class_weight': 'balanced', 'threshold': 0.45399999999999996}. Best is trial 12 with value: 0.9693371866283087.\n",
      "[I 2025-07-02 12:24:02,649] Trial 417 finished with value: 0.9689053669228729 and parameters: {'solver_penalty': ('lbfgs', 'l2'), 'C': 0.14672328290980197, 'tol': 0.09049021383369338, 'fit_intercept': True, 'class_weight': 'balanced', 'threshold': 0.476}. Best is trial 12 with value: 0.9693371866283087.\n",
      "[I 2025-07-02 12:24:02,810] Trial 415 finished with value: 0.29691189886995273 and parameters: {'solver_penalty': ('newton-cholesky', 'l2'), 'C': 6.05176040191839, 'tol': 0.05702099021400327, 'fit_intercept': False, 'class_weight': 'balanced', 'threshold': 0.33799999999999997}. Best is trial 12 with value: 0.9693371866283087.\n",
      "[I 2025-07-02 12:24:03,416] Trial 418 finished with value: 0.29091967541382113 and parameters: {'solver_penalty': ('newton-cholesky', 'l2'), 'C': 3.863609369657583, 'tol': 0.059092780761653516, 'fit_intercept': False, 'class_weight': 'balanced', 'threshold': 0.359}. Best is trial 12 with value: 0.9693371866283087.\n",
      "[I 2025-07-02 12:24:05,089] Trial 419 finished with value: 0.9666380001340784 and parameters: {'solver_penalty': ('lbfgs', None), 'C': 3.3844291553978536, 'tol': 0.055743386069373395, 'fit_intercept': False, 'class_weight': 'balanced', 'threshold': 0.601}. Best is trial 12 with value: 0.9693371866283087.\n",
      "[I 2025-07-02 12:24:05,414] Trial 421 finished with value: 0.9691752141610049 and parameters: {'solver_penalty': ('liblinear', 'l1'), 'C': 4.496561377708683, 'tol': 0.08462514407931987, 'fit_intercept': True, 'class_weight': 'balanced', 'threshold': 0.687}. Best is trial 12 with value: 0.9693371866283087.\n",
      "[I 2025-07-02 12:24:06,019] Trial 422 finished with value: 0.9691752287347377 and parameters: {'solver_penalty': ('liblinear', 'l2'), 'C': 8.111587072926337, 'tol': 0.06318094384884743, 'fit_intercept': True, 'class_weight': None, 'threshold': 0.396}. Best is trial 12 with value: 0.9693371866283087.\n",
      "[I 2025-07-02 12:24:06,025] Trial 420 finished with value: 0.9690132999886325 and parameters: {'solver_penalty': ('lbfgs', None), 'C': 0.2882424571272839, 'tol': 0.05817159034755752, 'fit_intercept': True, 'class_weight': 'balanced', 'threshold': 0.571}. Best is trial 12 with value: 0.9693371866283087.\n",
      "[I 2025-07-02 12:24:08,509] Trial 424 finished with value: 0.7802864321461571 and parameters: {'solver_penalty': ('newton-cholesky', None), 'C': 9.59590348284126, 'tol': 0.08667450783964517, 'fit_intercept': False, 'class_weight': None, 'threshold': 0.46699999999999997}. Best is trial 12 with value: 0.9693371866283087.\n",
      "[I 2025-07-02 12:24:08,511] Trial 423 finished with value: 0.9692832055216961 and parameters: {'solver_penalty': ('newton-cg', 'l2'), 'C': 5.9207293454005026, 'tol': 0.0998873785265898, 'fit_intercept': True, 'class_weight': None, 'threshold': 0.45899999999999996}. Best is trial 12 with value: 0.9693371866283087.\n",
      "[I 2025-07-02 12:24:08,845] Trial 426 finished with value: 0.9692291806938845 and parameters: {'solver_penalty': ('lbfgs', 'l2'), 'C': 4.431301757677163, 'tol': 0.07007911645097434, 'fit_intercept': True, 'class_weight': None, 'threshold': 0.395}. Best is trial 12 with value: 0.9693371866283087.\n",
      "[I 2025-07-02 12:24:08,864] Trial 425 finished with value: 0.9692831909479629 and parameters: {'solver_penalty': ('liblinear', 'l1'), 'C': 2.567754903064657, 'tol': 0.04755656045556037, 'fit_intercept': True, 'class_weight': None, 'threshold': 0.34099999999999997}. Best is trial 12 with value: 0.9693371866283087.\n",
      "[I 2025-07-02 12:24:11,239] Trial 427 finished with value: 0.9691751995872719 and parameters: {'solver_penalty': ('lbfgs', 'l2'), 'C': 4.5624282195835475, 'tol': 0.03169466980642773, 'fit_intercept': True, 'class_weight': None, 'threshold': 0.599}. Best is trial 12 with value: 0.9693371866283087.\n",
      "[I 2025-07-02 12:24:11,242] Trial 428 finished with value: 0.9691752287347377 and parameters: {'solver_penalty': ('newton-cg', None), 'C': 7.715827939787943, 'tol': 0.08604926646258479, 'fit_intercept': True, 'class_weight': None, 'threshold': 0.46699999999999997}. Best is trial 12 with value: 0.9693371866283087.\n",
      "[I 2025-07-02 12:24:11,599] Trial 429 finished with value: 0.9692832055216959 and parameters: {'solver_penalty': ('liblinear', 'l2'), 'C': 2.565351506294744, 'tol': 0.040984509128745794, 'fit_intercept': True, 'class_weight': 'balanced', 'threshold': 0.567}. Best is trial 12 with value: 0.9693371866283087.\n",
      "[I 2025-07-02 12:24:12,066] Trial 430 finished with value: 0.9692831909479629 and parameters: {'solver_penalty': ('newton-cg', 'l2'), 'C': 4.3136737467573525, 'tol': 0.025183015419812042, 'fit_intercept': True, 'class_weight': None, 'threshold': 0.477}. Best is trial 12 with value: 0.9693371866283087.\n",
      "[I 2025-07-02 12:24:13,594] Trial 432 finished with value: 0.8256301827837579 and parameters: {'solver_penalty': ('liblinear', 'l1'), 'C': 7.033495376430451, 'tol': 0.08944992775793895, 'fit_intercept': False, 'class_weight': None, 'threshold': 0.518}. Best is trial 12 with value: 0.9693371866283087.\n",
      "[I 2025-07-02 12:24:13,730] Trial 431 finished with value: 0.9691752287347377 and parameters: {'solver_penalty': ('liblinear', 'l2'), 'C': 3.3695688103995285, 'tol': 0.043592106868690625, 'fit_intercept': True, 'class_weight': 'balanced', 'threshold': 0.632}. Best is trial 12 with value: 0.9693371866283087.\n",
      "[I 2025-07-02 12:24:14,777] Trial 434 finished with value: 0.9692831909479629 and parameters: {'solver_penalty': ('liblinear', 'l1'), 'C': 4.981232198015974, 'tol': 0.007757121525795873, 'fit_intercept': True, 'class_weight': 'balanced', 'threshold': 0.5860000000000001}. Best is trial 12 with value: 0.9693371866283087.\n",
      "[I 2025-07-02 12:24:15,235] Trial 433 finished with value: 0.9691212767755907 and parameters: {'solver_penalty': ('newton-cholesky', 'l2'), 'C': 4.568384474580354, 'tol': 0.037797639011494584, 'fit_intercept': True, 'class_weight': 'balanced', 'threshold': 0.43}. Best is trial 12 with value: 0.9693371866283087.\n",
      "[I 2025-07-02 12:24:16,365] Trial 436 finished with value: 0.9690133145623653 and parameters: {'solver_penalty': ('newton-cholesky', None), 'C': 1.0066203056443355, 'tol': 0.06761598337279698, 'fit_intercept': True, 'class_weight': None, 'threshold': 0.317}. Best is trial 12 with value: 0.9693371866283087.\n",
      "[I 2025-07-02 12:24:16,813] Trial 435 finished with value: 0.9691752578822033 and parameters: {'solver_penalty': ('newton-cholesky', 'l2'), 'C': 4.098255887795265, 'tol': 0.04668859280153641, 'fit_intercept': True, 'class_weight': 'balanced', 'threshold': 0.507}. Best is trial 12 with value: 0.9693371866283087.\n",
      "[I 2025-07-02 12:24:17,423] Trial 437 finished with value: 0.9087668727392497 and parameters: {'solver_penalty': ('newton-cholesky', None), 'C': 7.559969297033638, 'tol': 0.033061893166250036, 'fit_intercept': False, 'class_weight': None, 'threshold': 0.623}. Best is trial 12 with value: 0.9693371866283087.\n",
      "[I 2025-07-02 12:24:18,523] Trial 438 finished with value: 0.9685814511357311 and parameters: {'solver_penalty': ('lbfgs', 'l2'), 'C': 2.620037265557875, 'tol': 0.09029419712691691, 'fit_intercept': True, 'class_weight': 'balanced', 'threshold': 0.33299999999999996}. Best is trial 12 with value: 0.9693371866283087.\n",
      "[I 2025-07-02 12:24:18,942] Trial 439 finished with value: 0.2604729030584436 and parameters: {'solver_penalty': ('lbfgs', 'l2'), 'C': 7.357126389884975, 'tol': 0.03217845132385248, 'fit_intercept': False, 'class_weight': None, 'threshold': 0.359}. Best is trial 12 with value: 0.9693371866283087.\n",
      "[I 2025-07-02 12:24:19,267] Trial 440 finished with value: 0.9691751995872719 and parameters: {'solver_penalty': ('liblinear', 'l2'), 'C': 9.367626580183849, 'tol': 0.015971172865217723, 'fit_intercept': True, 'class_weight': None, 'threshold': 0.6839999999999999}. Best is trial 12 with value: 0.9693371866283087.\n",
      "[I 2025-07-02 12:24:20,805] Trial 441 finished with value: 0.9692832055216959 and parameters: {'solver_penalty': ('newton-cg', 'l2'), 'C': 8.224261027632494, 'tol': 0.09882860171328751, 'fit_intercept': True, 'class_weight': None, 'threshold': 0.441}. Best is trial 12 with value: 0.9693371866283087.\n",
      "[I 2025-07-02 12:24:21,097] Trial 442 finished with value: 0.9690132999886325 and parameters: {'solver_penalty': ('liblinear', 'l2'), 'C': 5.234766281340745, 'tol': 0.05444935683782283, 'fit_intercept': True, 'class_weight': 'balanced', 'threshold': 0.425}. Best is trial 12 with value: 0.9693371866283087.\n",
      "[I 2025-07-02 12:24:21,267] Trial 443 finished with value: 0.9691752287347377 and parameters: {'solver_penalty': ('liblinear', 'l2'), 'C': 8.00986506541193, 'tol': 0.07644856963184253, 'fit_intercept': True, 'class_weight': None, 'threshold': 0.393}. Best is trial 12 with value: 0.9693371866283087.\n",
      "[I 2025-07-02 12:24:23,241] Trial 446 finished with value: 0.9691751995872719 and parameters: {'solver_penalty': ('lbfgs', 'l2'), 'C': 8.359369723328648, 'tol': 0.06362440969082368, 'fit_intercept': True, 'class_weight': None, 'threshold': 0.45899999999999996}. Best is trial 12 with value: 0.9693371866283087.\n",
      "[I 2025-07-02 12:24:23,669] Trial 447 finished with value: 0.9692292244150831 and parameters: {'solver_penalty': ('liblinear', 'l2'), 'C': 6.098217189748751, 'tol': 0.04800509381789191, 'fit_intercept': True, 'class_weight': None, 'threshold': 0.362}. Best is trial 12 with value: 0.9693371866283087.\n",
      "[I 2025-07-02 12:24:24,005] Trial 445 finished with value: 0.9691212622018579 and parameters: {'solver_penalty': ('newton-cg', None), 'C': 4.310932789574946, 'tol': 0.03414938350226579, 'fit_intercept': True, 'class_weight': None, 'threshold': 0.35}. Best is trial 12 with value: 0.9693371866283087.\n",
      "[I 2025-07-02 12:24:24,172] Trial 444 finished with value: 0.9692832055216959 and parameters: {'solver_penalty': ('newton-cg', None), 'C': 4.6800356731411945, 'tol': 0.006016277697186401, 'fit_intercept': True, 'class_weight': 'balanced', 'threshold': 0.5589999999999999}. Best is trial 12 with value: 0.9693371866283087.\n",
      "[I 2025-07-02 12:24:25,432] Trial 448 finished with value: 0.9691212184806591 and parameters: {'solver_penalty': ('liblinear', 'l2'), 'C': 8.99238550979908, 'tol': 0.09958065236070664, 'fit_intercept': True, 'class_weight': None, 'threshold': 0.46099999999999997}. Best is trial 12 with value: 0.9693371866283087.\n",
      "[I 2025-07-02 12:24:26,037] Trial 449 finished with value: 0.2604729030584436 and parameters: {'solver_penalty': ('newton-cg', None), 'C': 0.34935550586536657, 'tol': 0.05378774675538101, 'fit_intercept': False, 'class_weight': None, 'threshold': 0.435}. Best is trial 12 with value: 0.9693371866283087.\n",
      "[I 2025-07-02 12:24:27,027] Trial 451 finished with value: 0.9691752287347377 and parameters: {'solver_penalty': ('newton-cg', None), 'C': 7.472461975294285, 'tol': 0.07432901789094903, 'fit_intercept': True, 'class_weight': None, 'threshold': 0.46599999999999997}. Best is trial 12 with value: 0.9693371866283087.\n",
      "[I 2025-07-02 12:24:27,757] Trial 452 finished with value: 0.2604729030584436 and parameters: {'solver_penalty': ('newton-cg', None), 'C': 2.0610192680476485, 'tol': 0.06261024490466408, 'fit_intercept': False, 'class_weight': None, 'threshold': 0.503}. Best is trial 12 with value: 0.9693371866283087.\n",
      "[I 2025-07-02 12:24:27,918] Trial 450 finished with value: 0.9689593480294855 and parameters: {'solver_penalty': ('newton-cg', None), 'C': 4.5661450990640775, 'tol': 0.05400066557587823, 'fit_intercept': True, 'class_weight': 'balanced', 'threshold': 0.439}. Best is trial 12 with value: 0.9693371866283087.\n",
      "[I 2025-07-02 12:24:29,227] Trial 453 finished with value: 0.34976230241661643 and parameters: {'solver_penalty': ('newton-cholesky', 'l2'), 'C': 7.282368378425248, 'tol': 0.007274371307303337, 'fit_intercept': False, 'class_weight': 'balanced', 'threshold': 0.367}. Best is trial 12 with value: 0.9693371866283087.\n",
      "[I 2025-07-02 12:24:30,140] Trial 454 finished with value: 0.9634529253854025 and parameters: {'solver_penalty': ('newton-cholesky', 'l2'), 'C': 6.664052170173459, 'tol': 0.04230741667762173, 'fit_intercept': False, 'class_weight': 'balanced', 'threshold': 0.638}. Best is trial 12 with value: 0.9693371866283087.\n",
      "[I 2025-07-02 12:24:30,420] Trial 456 finished with value: 0.9691752287347377 and parameters: {'solver_penalty': ('lbfgs', 'l2'), 'C': 9.046093447347817, 'tol': 0.07246383990218085, 'fit_intercept': True, 'class_weight': None, 'threshold': 0.31}. Best is trial 12 with value: 0.9693371866283087.\n",
      "[I 2025-07-02 12:24:31,369] Trial 455 finished with value: 0.9690132708411667 and parameters: {'solver_penalty': ('newton-cholesky', 'l2'), 'C': 4.412779888346038, 'tol': 0.02412462437432704, 'fit_intercept': True, 'class_weight': 'balanced', 'threshold': 0.645}. Best is trial 12 with value: 0.9693371866283087.\n",
      "[I 2025-07-02 12:24:32,224] Trial 457 finished with value: 0.9689593480294855 and parameters: {'solver_penalty': ('liblinear', 'l1'), 'C': 8.407895188302739, 'tol': 0.0041172118189612555, 'fit_intercept': True, 'class_weight': 'balanced', 'threshold': 0.33999999999999997}. Best is trial 12 with value: 0.9693371866283087.\n",
      "[I 2025-07-02 12:24:33,089] Trial 459 finished with value: 0.9692291952676175 and parameters: {'solver_penalty': ('liblinear', 'l1'), 'C': 4.761724142824399, 'tol': 0.029321334874276277, 'fit_intercept': True, 'class_weight': None, 'threshold': 0.46699999999999997}. Best is trial 12 with value: 0.9693371866283087.\n",
      "[I 2025-07-02 12:24:33,092] Trial 458 finished with value: 0.9692292098413503 and parameters: {'solver_penalty': ('newton-cg', 'l2'), 'C': 9.917415697823033, 'tol': 0.07809942798066752, 'fit_intercept': True, 'class_weight': None, 'threshold': 0.486}. Best is trial 12 with value: 0.9693371866283087.\n",
      "[I 2025-07-02 12:24:34,108] Trial 460 finished with value: 0.9692831909479629 and parameters: {'solver_penalty': ('liblinear', 'l1'), 'C': 9.493458981818133, 'tol': 0.054950429337073274, 'fit_intercept': True, 'class_weight': None, 'threshold': 0.352}. Best is trial 12 with value: 0.9693371866283087.\n",
      "[I 2025-07-02 12:24:34,970] Trial 461 finished with value: 0.9691212622018579 and parameters: {'solver_penalty': ('newton-cg', None), 'C': 6.783102115339665, 'tol': 0.0978467841587243, 'fit_intercept': True, 'class_weight': None, 'threshold': 0.398}. Best is trial 12 with value: 0.9693371866283087.\n",
      "[I 2025-07-02 12:24:35,820] Trial 463 finished with value: 0.9690132999886325 and parameters: {'solver_penalty': ('newton-cg', None), 'C': 7.073334649532469, 'tol': 0.09966639326239123, 'fit_intercept': True, 'class_weight': None, 'threshold': 0.35}. Best is trial 12 with value: 0.9693371866283087.\n",
      "[I 2025-07-02 12:24:36,402] Trial 462 finished with value: 0.9691752287347377 and parameters: {'solver_penalty': ('newton-cg', 'l2'), 'C': 3.456571678126491, 'tol': 0.040825831082505266, 'fit_intercept': True, 'class_weight': None, 'threshold': 0.429}. Best is trial 12 with value: 0.9693371866283087.\n",
      "[I 2025-07-02 12:24:36,857] Trial 464 finished with value: 0.9690132999886325 and parameters: {'solver_penalty': ('newton-cg', None), 'C': 7.828476404825574, 'tol': 0.09888008170357974, 'fit_intercept': True, 'class_weight': None, 'threshold': 0.35}. Best is trial 12 with value: 0.9693371866283087.\n",
      "[I 2025-07-02 12:24:38,120] Trial 466 finished with value: 0.2604729030584436 and parameters: {'solver_penalty': ('liblinear', 'l2'), 'C': 5.004431263146469, 'tol': 0.08585886621300019, 'fit_intercept': False, 'class_weight': None, 'threshold': 0.441}. Best is trial 12 with value: 0.9693371866283087.\n",
      "[I 2025-07-02 12:24:38,285] Trial 465 finished with value: 0.9690132999886325 and parameters: {'solver_penalty': ('newton-cg', None), 'C': 8.993366574922485, 'tol': 0.05291283203812962, 'fit_intercept': True, 'class_weight': None, 'threshold': 0.305}. Best is trial 12 with value: 0.9693371866283087.\n",
      "[I 2025-07-02 12:24:39,705] Trial 467 finished with value: 0.4032611496343451 and parameters: {'solver_penalty': ('newton-cholesky', None), 'C': 0.14575367856296673, 'tol': 0.09443976207782852, 'fit_intercept': False, 'class_weight': 'balanced', 'threshold': 0.352}. Best is trial 12 with value: 0.9693371866283087.\n",
      "[I 2025-07-02 12:24:39,844] Trial 468 finished with value: 0.9691752578822033 and parameters: {'solver_penalty': ('newton-cholesky', 'l2'), 'C': 9.423022458927443, 'tol': 0.09822459875913192, 'fit_intercept': True, 'class_weight': None, 'threshold': 0.378}. Best is trial 12 with value: 0.9693371866283087.\n",
      "[I 2025-07-02 12:24:40,465] Trial 470 finished with value: 0.2604729030584436 and parameters: {'solver_penalty': ('lbfgs', None), 'C': 3.087027230204283, 'tol': 0.016402967652976483, 'fit_intercept': False, 'class_weight': None, 'threshold': 0.40599999999999997}. Best is trial 12 with value: 0.9693371866283087.\n",
      "[I 2025-07-02 12:24:41,470] Trial 469 finished with value: 0.9691212622018579 and parameters: {'solver_penalty': ('newton-cg', None), 'C': 2.109686806812201, 'tol': 0.02993826890816846, 'fit_intercept': True, 'class_weight': None, 'threshold': 0.33899999999999997}. Best is trial 12 with value: 0.9693371866283087.\n",
      "[I 2025-07-02 12:24:42,214] Trial 472 finished with value: 0.9675017124136142 and parameters: {'solver_penalty': ('liblinear', 'l1'), 'C': 0.14855953025795987, 'tol': 0.03356501216464065, 'fit_intercept': False, 'class_weight': 'balanced', 'threshold': 0.64}. Best is trial 12 with value: 0.9693371866283087.\n",
      "[I 2025-07-02 12:24:42,932] Trial 473 finished with value: 0.9692832055216961 and parameters: {'solver_penalty': ('liblinear', 'l2'), 'C': 5.887077560336194, 'tol': 0.07604116491293118, 'fit_intercept': True, 'class_weight': None, 'threshold': 0.382}. Best is trial 12 with value: 0.9693371866283087.\n",
      "[I 2025-07-02 12:24:43,802] Trial 471 finished with value: 0.9690133291360983 and parameters: {'solver_penalty': ('newton-cg', 'l2'), 'C': 3.517644441269147, 'tol': 0.040135821558490256, 'fit_intercept': True, 'class_weight': 'balanced', 'threshold': 0.422}. Best is trial 12 with value: 0.9693371866283087.\n",
      "[I 2025-07-02 12:24:44,216] Trial 474 finished with value: 0.9625352174255208 and parameters: {'solver_penalty': ('liblinear', 'l2'), 'C': 0.7488727561203254, 'tol': 0.07220599131805056, 'fit_intercept': False, 'class_weight': 'balanced', 'threshold': 0.5680000000000001}. Best is trial 12 with value: 0.9693371866283087.\n",
      "[I 2025-07-02 12:24:44,689] Trial 475 finished with value: 0.9691212622018579 and parameters: {'solver_penalty': ('liblinear', 'l2'), 'C': 9.118813909200728, 'tol': 0.07507432488711523, 'fit_intercept': True, 'class_weight': None, 'threshold': 0.307}. Best is trial 12 with value: 0.9693371866283087.\n",
      "[I 2025-07-02 12:24:45,825] Trial 476 finished with value: 0.9693371866283087 and parameters: {'solver_penalty': ('newton-cg', None), 'C': 9.193094186778572, 'tol': 0.0957926926370335, 'fit_intercept': True, 'class_weight': None, 'threshold': 0.45399999999999996}. Best is trial 12 with value: 0.9693371866283087.\n",
      "[I 2025-07-02 12:24:47,085] Trial 478 finished with value: 0.9691752287347377 and parameters: {'solver_penalty': ('newton-cg', None), 'C': 7.304908413002587, 'tol': 0.09542841291717803, 'fit_intercept': True, 'class_weight': None, 'threshold': 0.46599999999999997}. Best is trial 12 with value: 0.9693371866283087.\n",
      "[I 2025-07-02 12:24:47,088] Trial 477 finished with value: 0.9689593334557527 and parameters: {'solver_penalty': ('newton-cholesky', None), 'C': 7.281971792771554, 'tol': 0.08838691067033971, 'fit_intercept': True, 'class_weight': None, 'threshold': 0.34099999999999997}. Best is trial 12 with value: 0.9693371866283087.\n",
      "[I 2025-07-02 12:24:47,437] Trial 479 finished with value: 0.9691752287347377 and parameters: {'solver_penalty': ('newton-cg', None), 'C': 9.859597179131164, 'tol': 0.09027295423949773, 'fit_intercept': True, 'class_weight': None, 'threshold': 0.46499999999999997}. Best is trial 12 with value: 0.9693371866283087.\n",
      "[I 2025-07-02 12:24:49,801] Trial 482 finished with value: 0.9692291806938845 and parameters: {'solver_penalty': ('newton-cg', None), 'C': 5.727172703193728, 'tol': 0.07586473839883454, 'fit_intercept': True, 'class_weight': None, 'threshold': 0.5449999999999999}. Best is trial 12 with value: 0.9693371866283087.\n",
      "[I 2025-07-02 12:24:49,803] Trial 481 finished with value: 0.9692832055216959 and parameters: {'solver_penalty': ('newton-cg', 'l2'), 'C': 6.547549870221033, 'tol': 0.07679227341505113, 'fit_intercept': True, 'class_weight': None, 'threshold': 0.434}. Best is trial 12 with value: 0.9693371866283087.\n",
      "[I 2025-07-02 12:24:50,020] Trial 483 finished with value: 0.9693371866283087 and parameters: {'solver_penalty': ('newton-cg', 'l2'), 'C': 6.629370094499722, 'tol': 0.07596853637772116, 'fit_intercept': True, 'class_weight': None, 'threshold': 0.45499999999999996}. Best is trial 12 with value: 0.9693371866283087.\n",
      "[I 2025-07-02 12:24:50,197] Trial 480 finished with value: 0.9692292244150833 and parameters: {'solver_penalty': ('newton-cg', None), 'C': 3.996252306725072, 'tol': 0.03268482061731297, 'fit_intercept': True, 'class_weight': 'balanced', 'threshold': 0.5409999999999999}. Best is trial 12 with value: 0.9693371866283087.\n",
      "[I 2025-07-02 12:24:52,319] Trial 485 finished with value: 0.2604729030584436 and parameters: {'solver_penalty': ('lbfgs', 'l2'), 'C': 0.34268499373720473, 'tol': 0.050625124058592846, 'fit_intercept': False, 'class_weight': 'balanced', 'threshold': 0.365}. Best is trial 12 with value: 0.9693371866283087.\n",
      "[I 2025-07-02 12:24:52,608] Trial 484 finished with value: 0.2604729030584436 and parameters: {'solver_penalty': ('newton-cg', None), 'C': 7.1198138238811675, 'tol': 0.061513692560022155, 'fit_intercept': False, 'class_weight': None, 'threshold': 0.41}. Best is trial 12 with value: 0.9693371866283087.\n",
      "[I 2025-07-02 12:24:52,918] Trial 487 finished with value: 0.9691751995872719 and parameters: {'solver_penalty': ('liblinear', 'l1'), 'C': 9.626879323795073, 'tol': 0.022996469241823282, 'fit_intercept': True, 'class_weight': None, 'threshold': 0.592}. Best is trial 12 with value: 0.9693371866283087.\n",
      "[I 2025-07-02 12:24:53,118] Trial 486 finished with value: 0.9692831909479629 and parameters: {'solver_penalty': ('newton-cg', None), 'C': 8.408944642952129, 'tol': 0.09522066800967342, 'fit_intercept': True, 'class_weight': None, 'threshold': 0.493}. Best is trial 12 with value: 0.9693371866283087.\n",
      "[I 2025-07-02 12:24:54,820] Trial 488 finished with value: 0.9693371866283087 and parameters: {'solver_penalty': ('liblinear', 'l2'), 'C': 2.7226652047114865, 'tol': 0.03678092228302203, 'fit_intercept': True, 'class_weight': 'balanced', 'threshold': 0.563}. Best is trial 12 with value: 0.9693371866283087.\n",
      "[I 2025-07-02 12:24:55,427] Trial 489 finished with value: 0.9688513712425273 and parameters: {'solver_penalty': ('lbfgs', None), 'C': 4.27268256050662, 'tol': 0.04702979960732113, 'fit_intercept': True, 'class_weight': 'balanced', 'threshold': 0.494}. Best is trial 12 with value: 0.9693371866283087.\n",
      "[I 2025-07-02 12:24:56,151] Trial 491 finished with value: 0.9691212622018579 and parameters: {'solver_penalty': ('newton-cg', 'l2'), 'C': 8.735952533479479, 'tol': 0.08447637969765243, 'fit_intercept': True, 'class_weight': None, 'threshold': 0.41}. Best is trial 12 with value: 0.9693371866283087.\n",
      "[I 2025-07-02 12:24:56,314] Trial 490 finished with value: 0.9692832055216959 and parameters: {'solver_penalty': ('newton-cg', 'l2'), 'C': 3.1180484460356497, 'tol': 0.03223268923493435, 'fit_intercept': True, 'class_weight': None, 'threshold': 0.371}. Best is trial 12 with value: 0.9693371866283087.\n",
      "[I 2025-07-02 12:24:57,058] Trial 492 finished with value: 0.9672858317083621 and parameters: {'solver_penalty': ('lbfgs', None), 'C': 0.3679989064004374, 'tol': 0.07693878457010088, 'fit_intercept': True, 'class_weight': None, 'threshold': 0.63}. Best is trial 12 with value: 0.9693371866283087.\n",
      "[I 2025-07-02 12:24:58,158] Trial 493 finished with value: 0.9684194786684273 and parameters: {'solver_penalty': ('lbfgs', None), 'C': 7.264107523442486, 'tol': 0.09568474097942743, 'fit_intercept': True, 'class_weight': None, 'threshold': 0.5680000000000001}. Best is trial 12 with value: 0.9693371866283087.\n",
      "[I 2025-07-02 12:24:59,020] Trial 495 finished with value: 0.9691751995872719 and parameters: {'solver_penalty': ('liblinear', 'l1'), 'C': 8.989493076289522, 'tol': 0.09020345526940868, 'fit_intercept': True, 'class_weight': None, 'threshold': 0.46499999999999997}. Best is trial 12 with value: 0.9693371866283087.\n",
      "[I 2025-07-02 12:24:59,316] Trial 494 finished with value: 0.2604729030584436 and parameters: {'solver_penalty': ('newton-cg', None), 'C': 7.131241927953893, 'tol': 0.08955923977590514, 'fit_intercept': False, 'class_weight': None, 'threshold': 0.501}. Best is trial 12 with value: 0.9693371866283087.\n",
      "[I 2025-07-02 12:24:59,810] Trial 496 finished with value: 0.969013241693701 and parameters: {'solver_penalty': ('lbfgs', None), 'C': 7.128510289830265, 'tol': 0.09113802325306337, 'fit_intercept': True, 'class_weight': None, 'threshold': 0.486}. Best is trial 12 with value: 0.9693371866283087.\n",
      "[I 2025-07-02 12:25:01,073] Trial 497 finished with value: 0.9688513712425273 and parameters: {'solver_penalty': ('newton-cg', None), 'C': 7.687451556195002, 'tol': 0.09703605198455154, 'fit_intercept': True, 'class_weight': 'balanced', 'threshold': 0.45799999999999996}. Best is trial 12 with value: 0.9693371866283087.\n",
      "[I 2025-07-02 12:25:01,640] Trial 498 finished with value: 0.9692832055216959 and parameters: {'solver_penalty': ('newton-cg', 'l2'), 'C': 2.078608388761991, 'tol': 0.051032048138880216, 'fit_intercept': True, 'class_weight': 'balanced', 'threshold': 0.609}. Best is trial 12 with value: 0.9693371866283087.\n",
      "[I 2025-07-02 12:25:01,783] Trial 499 finished with value: 0.9693371866283087 and parameters: {'solver_penalty': ('newton-cg', None), 'C': 6.996429157855006, 'tol': 0.015036668961655354, 'fit_intercept': True, 'class_weight': 'balanced', 'threshold': 0.579}. Best is trial 12 with value: 0.9693371866283087.\n"
     ]
    }
   ],
   "source": [
    "def objective(trial):\n",
    "    solver_penalty_options = [\n",
    "        ('liblinear', 'l1'),\n",
    "        ('liblinear', 'l2'),\n",
    "        ('lbfgs', 'l2'),\n",
    "        ('lbfgs', None),\n",
    "        ('newton-cg', 'l2'),\n",
    "        ('newton-cg', None),\n",
    "        ('newton-cholesky', 'l2'),\n",
    "        ('newton-cholesky', None)\n",
    "    ]\n",
    "    solver, penalty = trial.suggest_categorical('solver_penalty', solver_penalty_options)\n",
    "    \n",
    "    params = {\n",
    "        'random_state': CFG.seed,\n",
    "        'max_iter': 500,\n",
    "        'C': trial.suggest_float('C', 0, 10),\n",
    "        'tol': trial.suggest_float('tol', 1e-10, 1e-1),\n",
    "        'fit_intercept': trial.suggest_categorical('fit_intercept', [True, False]),\n",
    "        'class_weight': trial.suggest_categorical('class_weight', ['balanced', None]),\n",
    "        'solver': solver,\n",
    "        'penalty': penalty\n",
    "    }\n",
    "    \n",
    "    threshold = trial.suggest_float('threshold', 0.3, 0.7, step=0.001)\n",
    "    \n",
    "    trainer = Trainer(\n",
    "        LogisticRegression(**params),\n",
    "        cv=CFG.cv,\n",
    "        metric=CFG.metric,\n",
    "        metric_precision=6,\n",
    "        metric_threshold=threshold,\n",
    "        use_early_stopping=False,\n",
    "        verbose=False,\n",
    "        task=\"binary\",\n",
    "    )\n",
    "    trainer.fit(X, y)\n",
    "    \n",
    "    return np.mean(trainer.fold_scores)\n",
    "\n",
    "sampler = optuna.samplers.TPESampler(seed=CFG.seed, multivariate=True, n_startup_trials=CFG.n_optuna_trials // 10)\n",
    "study = optuna.create_study(direction='maximize', sampler=sampler)\n",
    "study.optimize(objective, n_trials=CFG.n_optuna_trials, n_jobs=-1)\n",
    "best_params = study.best_params"
   ]
  },
  {
   "cell_type": "code",
   "execution_count": 21,
   "id": "a2f4b35a",
   "metadata": {
    "execution": {
     "iopub.execute_input": "2025-07-02T12:25:01.872101Z",
     "iopub.status.busy": "2025-07-02T12:25:01.871382Z",
     "iopub.status.idle": "2025-07-02T12:25:01.877711Z",
     "shell.execute_reply": "2025-07-02T12:25:01.876674Z"
    },
    "papermill": {
     "duration": 0.05285,
     "end_time": "2025-07-02T12:25:01.879512",
     "exception": false,
     "start_time": "2025-07-02T12:25:01.826662",
     "status": "completed"
    },
    "tags": []
   },
   "outputs": [],
   "source": [
    "solver, penalty = best_params['solver_penalty']\n",
    "lr_params = {\n",
    "    'random_state': CFG.seed,\n",
    "    'max_iter': 500,\n",
    "    'C': best_params['C'],\n",
    "    'tol': best_params['tol'],\n",
    "    'fit_intercept': best_params['fit_intercept'],\n",
    "    'class_weight': best_params['class_weight'],\n",
    "    'solver': solver,\n",
    "    'penalty': penalty\n",
    "}"
   ]
  },
  {
   "cell_type": "code",
   "execution_count": 22,
   "id": "ad25c32d",
   "metadata": {
    "execution": {
     "iopub.execute_input": "2025-07-02T12:25:01.971546Z",
     "iopub.status.busy": "2025-07-02T12:25:01.971129Z",
     "iopub.status.idle": "2025-07-02T12:25:01.977391Z",
     "shell.execute_reply": "2025-07-02T12:25:01.976358Z"
    },
    "papermill": {
     "duration": 0.056724,
     "end_time": "2025-07-02T12:25:01.978791",
     "exception": false,
     "start_time": "2025-07-02T12:25:01.922067",
     "status": "completed"
    },
    "tags": []
   },
   "outputs": [
    {
     "name": "stdout",
     "output_type": "stream",
     "text": [
      "{\n",
      "  \"random_state\": 42,\n",
      "  \"max_iter\": 500,\n",
      "  \"C\": 3.19234606422516,\n",
      "  \"tol\": 0.04300147461958932,\n",
      "  \"fit_intercept\": true,\n",
      "  \"class_weight\": null,\n",
      "  \"solver\": \"newton-cg\",\n",
      "  \"penalty\": \"l2\"\n",
      "}\n"
     ]
    }
   ],
   "source": [
    "print(json.dumps(lr_params, indent=2))"
   ]
  },
  {
   "cell_type": "code",
   "execution_count": 23,
   "id": "c7500c7a",
   "metadata": {
    "execution": {
     "iopub.execute_input": "2025-07-02T12:25:02.046425Z",
     "iopub.status.busy": "2025-07-02T12:25:02.045967Z",
     "iopub.status.idle": "2025-07-02T12:25:02.052398Z",
     "shell.execute_reply": "2025-07-02T12:25:02.051328Z"
    },
    "papermill": {
     "duration": 0.041944,
     "end_time": "2025-07-02T12:25:02.053946",
     "exception": false,
     "start_time": "2025-07-02T12:25:02.012002",
     "status": "completed"
    },
    "tags": []
   },
   "outputs": [
    {
     "name": "stdout",
     "output_type": "stream",
     "text": [
      "Best threshold: 0.410\n"
     ]
    }
   ],
   "source": [
    "best_threshold = study.best_params['threshold']\n",
    "print(f'Best threshold: {best_threshold:.3f}')"
   ]
  },
  {
   "cell_type": "code",
   "execution_count": 24,
   "id": "e034a096",
   "metadata": {
    "execution": {
     "iopub.execute_input": "2025-07-02T12:25:02.131011Z",
     "iopub.status.busy": "2025-07-02T12:25:02.130711Z",
     "iopub.status.idle": "2025-07-02T12:25:02.869812Z",
     "shell.execute_reply": "2025-07-02T12:25:02.868812Z"
    },
    "papermill": {
     "duration": 0.773738,
     "end_time": "2025-07-02T12:25:02.871469",
     "exception": false,
     "start_time": "2025-07-02T12:25:02.097731",
     "status": "completed"
    },
    "tags": []
   },
   "outputs": [
    {
     "name": "stdout",
     "output_type": "stream",
     "text": [
      "Training LogisticRegression\n",
      "\n",
      "--- Fold 0 - accuracy_score: 0.970040 - Time: 0.02 s\n",
      "--- Fold 1 - accuracy_score: 0.968151 - Time: 0.02 s\n",
      "--- Fold 2 - accuracy_score: 0.966262 - Time: 0.02 s\n",
      "--- Fold 3 - accuracy_score: 0.970850 - Time: 0.01 s\n",
      "--- Fold 4 - accuracy_score: 0.971382 - Time: 0.02 s\n",
      "\n",
      "------ Overall accuracy_score: 0.969337 - Mean accuracy_score: 0.969337 ± 0.001888 - Time: 0.73 s\n"
     ]
    }
   ],
   "source": [
    "lr_trainer = Trainer(\n",
    "    LogisticRegression(**lr_params),\n",
    "    cv=CFG.cv,\n",
    "    metric=CFG.metric,\n",
    "    metric_threshold=best_threshold,\n",
    "    metric_precision=6,\n",
    "    use_early_stopping=False,\n",
    "    task=\"binary\",\n",
    ")\n",
    "\n",
    "lr_trainer.fit(X, y)\n",
    "\n",
    "scores[\"LogisticRegression\"] = lr_trainer.fold_scores\n",
    "lr_test_pred_probs = lr_trainer.predict(X_test)"
   ]
  },
  {
   "cell_type": "code",
   "execution_count": 25,
   "id": "a6103b09",
   "metadata": {
    "execution": {
     "iopub.execute_input": "2025-07-02T12:25:02.939787Z",
     "iopub.status.busy": "2025-07-02T12:25:02.939512Z",
     "iopub.status.idle": "2025-07-02T12:25:02.983560Z",
     "shell.execute_reply": "2025-07-02T12:25:02.982517Z"
    },
    "papermill": {
     "duration": 0.080388,
     "end_time": "2025-07-02T12:25:02.985095",
     "exception": false,
     "start_time": "2025-07-02T12:25:02.904707",
     "status": "completed"
    },
    "tags": []
   },
   "outputs": [
    {
     "data": {
      "text/html": [
       "<div>\n",
       "<style scoped>\n",
       "    .dataframe tbody tr th:only-of-type {\n",
       "        vertical-align: middle;\n",
       "    }\n",
       "\n",
       "    .dataframe tbody tr th {\n",
       "        vertical-align: top;\n",
       "    }\n",
       "\n",
       "    .dataframe thead th {\n",
       "        text-align: right;\n",
       "    }\n",
       "</style>\n",
       "<table border=\"1\" class=\"dataframe\">\n",
       "  <thead>\n",
       "    <tr style=\"text-align: right;\">\n",
       "      <th></th>\n",
       "      <th>id</th>\n",
       "      <th>Personality</th>\n",
       "    </tr>\n",
       "  </thead>\n",
       "  <tbody>\n",
       "    <tr>\n",
       "      <th>0</th>\n",
       "      <td>18524</td>\n",
       "      <td>Extrovert</td>\n",
       "    </tr>\n",
       "    <tr>\n",
       "      <th>1</th>\n",
       "      <td>18525</td>\n",
       "      <td>Introvert</td>\n",
       "    </tr>\n",
       "    <tr>\n",
       "      <th>2</th>\n",
       "      <td>18526</td>\n",
       "      <td>Extrovert</td>\n",
       "    </tr>\n",
       "    <tr>\n",
       "      <th>3</th>\n",
       "      <td>18527</td>\n",
       "      <td>Extrovert</td>\n",
       "    </tr>\n",
       "    <tr>\n",
       "      <th>4</th>\n",
       "      <td>18528</td>\n",
       "      <td>Introvert</td>\n",
       "    </tr>\n",
       "  </tbody>\n",
       "</table>\n",
       "</div>"
      ],
      "text/plain": [
       "      id Personality\n",
       "0  18524   Extrovert\n",
       "1  18525   Introvert\n",
       "2  18526   Extrovert\n",
       "3  18527   Extrovert\n",
       "4  18528   Introvert"
      ]
     },
     "execution_count": 25,
     "metadata": {},
     "output_type": "execute_result"
    }
   ],
   "source": [
    "save_submission('logistic-regression', lr_test_pred_probs, np.mean(scores['LogisticRegression']), best_threshold)"
   ]
  },
  {
   "cell_type": "code",
   "execution_count": 26,
   "id": "5370a808",
   "metadata": {
    "execution": {
     "iopub.execute_input": "2025-07-02T12:25:03.052138Z",
     "iopub.status.busy": "2025-07-02T12:25:03.051658Z",
     "iopub.status.idle": "2025-07-02T12:25:03.057775Z",
     "shell.execute_reply": "2025-07-02T12:25:03.056899Z"
    },
    "papermill": {
     "duration": 0.041899,
     "end_time": "2025-07-02T12:25:03.059261",
     "exception": false,
     "start_time": "2025-07-02T12:25:03.017362",
     "status": "completed"
    },
    "tags": []
   },
   "outputs": [],
   "source": [
    "lr_coeffs = np.zeros((1,len(X.columns)))\n",
    "for estimator in lr_trainer.estimators:\n",
    "    lr_coeffs += estimator.coef_ / CFG.n_folds"
   ]
  },
  {
   "cell_type": "code",
   "execution_count": 27,
   "id": "a29464b0",
   "metadata": {
    "_kg_hide-input": false,
    "execution": {
     "iopub.execute_input": "2025-07-02T12:25:03.126741Z",
     "iopub.status.busy": "2025-07-02T12:25:03.125806Z",
     "iopub.status.idle": "2025-07-02T12:25:03.356725Z",
     "shell.execute_reply": "2025-07-02T12:25:03.355633Z"
    },
    "papermill": {
     "duration": 0.266129,
     "end_time": "2025-07-02T12:25:03.358305",
     "exception": false,
     "start_time": "2025-07-02T12:25:03.092176",
     "status": "completed"
    },
    "tags": []
   },
   "outputs": [
    {
     "data": {
      "image/png": "[encoded data removed]",
      "text/plain": [
       "<Figure size 1000x350 with 1 Axes>"
      ]
     },
     "metadata": {},
     "output_type": "display_data"
    }
   ],
   "source": [
    "plot_weights(lr_coeffs, 'LR Coefficients')"
   ]
  },
  {
   "cell_type": "markdown",
   "id": "82aa1c66",
   "metadata": {
    "papermill": {
     "duration": 0.031083,
     "end_time": "2025-07-02T12:25:03.421336",
     "exception": false,
     "start_time": "2025-07-02T12:25:03.390253",
     "status": "completed"
    },
    "tags": []
   },
   "source": [
    "# Results"
   ]
  },
  {
   "cell_type": "code",
   "execution_count": 28,
   "id": "e27a7463",
   "metadata": {
    "_kg_hide-input": false,
    "execution": {
     "iopub.execute_input": "2025-07-02T12:25:03.487098Z",
     "iopub.status.busy": "2025-07-02T12:25:03.486758Z",
     "iopub.status.idle": "2025-07-02T12:25:04.013190Z",
     "shell.execute_reply": "2025-07-02T12:25:04.012355Z"
    },
    "papermill": {
     "duration": 0.56142,
     "end_time": "2025-07-02T12:25:04.014824",
     "exception": false,
     "start_time": "2025-07-02T12:25:03.453404",
     "status": "completed"
    },
    "tags": []
   },
   "outputs": [
    {
     "data": {
      "image/png": "[encoded data removed]",
      "text/plain": [
       "<Figure size 1500x320 with 2 Axes>"
      ]
     },
     "metadata": {},
     "output_type": "display_data"
    }
   ],
   "source": [
    "scores = pd.DataFrame(scores)\n",
    "mean_scores = scores.mean().sort_values(ascending=False)\n",
    "order = scores.mean().sort_values(ascending=False).index.tolist()\n",
    "\n",
    "min_score = mean_scores.min()\n",
    "max_score = mean_scores.max()\n",
    "padding = (max_score - min_score) * 0.5\n",
    "lower_limit = min_score - padding\n",
    "upper_limit = max_score + padding\n",
    "\n",
    "fig, axs = plt.subplots(1, 2, figsize=(15, scores.shape[1] * 0.4))\n",
    "\n",
    "boxplot = sns.boxplot(data=scores, order=order, ax=axs[0], orient='h', color='grey')\n",
    "axs[0].set_title('Fold Accuracy')\n",
    "axs[0].set_xlabel('')\n",
    "axs[0].set_ylabel('')\n",
    "\n",
    "barplot = sns.barplot(x=mean_scores.values, y=mean_scores.index, ax=axs[1], color='grey')\n",
    "axs[1].set_title('Average Accuracy')\n",
    "axs[1].set_xlabel('')\n",
    "axs[1].set_xlim(left=lower_limit, right=upper_limit)\n",
    "axs[1].set_ylabel('')\n",
    "\n",
    "for i, (score, model) in enumerate(zip(mean_scores.values, mean_scores.index)):\n",
    "    color = 'cyan' if 'logistic' in model.lower() else 'grey'\n",
    "    barplot.patches[i].set_facecolor(color)\n",
    "    boxplot.patches[i].set_facecolor(color)\n",
    "    barplot.text(score, i, round(score, 6), va='center')\n",
    "\n",
    "plt.tight_layout()\n",
    "plt.show()"
   ]
  },
  {
   "cell_type": "code",
   "execution_count": 29,
   "id": "641928ef",
   "metadata": {
    "execution": {
     "iopub.execute_input": "2025-07-02T12:25:04.082536Z",
     "iopub.status.busy": "2025-07-02T12:25:04.081427Z",
     "iopub.status.idle": "2025-07-02T12:25:04.087594Z",
     "shell.execute_reply": "2025-07-02T12:25:04.086738Z"
    },
    "papermill": {
     "duration": 0.041396,
     "end_time": "2025-07-02T12:25:04.089314",
     "exception": false,
     "start_time": "2025-07-02T12:25:04.047918",
     "status": "completed"
    },
    "tags": []
   },
   "outputs": [],
   "source": [
    "shutil.rmtree('catboost_info', ignore_errors=True)"
   ]
  }
 ],
 "metadata": {
  "kaggle": {
   "accelerator": "none",
   "dataSources": [
    {
     "databundleVersionId": 12738969,
     "sourceId": 91718,
     "sourceType": "competition"
    },
    {
     "sourceId": 248441304,
     "sourceType": "kernelVersion"
    }
   ],
   "dockerImageVersionId": 31040,
   "isGpuEnabled": false,
   "isInternetEnabled": true,
   "language": "python",
   "sourceType": "notebook"
  },
  "kernelspec": {
   "display_name": "Python 3",
   "language": "python",
   "name": "python3"
  },
  "language_info": {
   "codemirror_mode": {
    "name": "ipython",
    "version": 3
   },
   "file_extension": ".py",
   "mimetype": "text/x-python",
   "name": "python",
   "nbconvert_exporter": "python",
   "pygments_lexer": "ipython3",
   "version": "3.11.11"
  },
  "papermill": {
   "default_parameters": {},
   "duration": 812.050587,
   "end_time": "2025-07-02T12:25:05.043599",
   "environment_variables": {},
   "exception": null,
   "input_path": "__notebook__.ipynb",
   "output_path": "__notebook__.ipynb",
   "parameters": {},
   "start_time": "2025-07-02T12:11:32.993012",
   "version": "2.6.0"
  }
 },
 "nbformat": 4,
 "nbformat_minor": 5
}
