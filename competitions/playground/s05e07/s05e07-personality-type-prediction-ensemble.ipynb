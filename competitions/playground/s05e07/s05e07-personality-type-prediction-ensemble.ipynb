{
 "cells": [
  {
   "cell_type": "markdown",
   "id": "b5fbc027",
   "metadata": {
    "papermill": {
     "duration": 0.006484,
     "end_time": "2025-07-02T12:27:05.252848",
     "exception": false,
     "start_time": "2025-07-02T12:27:05.246364",
     "status": "completed"
    },
    "tags": []
   },
   "source": [
    "# Imports and configs"
   ]
  },
  {
   "cell_type": "code",
   "execution_count": 1,
   "id": "255a3249",
   "metadata": {
    "_kg_hide-output": true,
    "execution": {
     "iopub.execute_input": "2025-07-02T12:27:05.265273Z",
     "iopub.status.busy": "2025-07-02T12:27:05.264964Z",
     "iopub.status.idle": "2025-07-02T12:27:16.342331Z",
     "shell.execute_reply": "2025-07-02T12:27:16.340832Z"
    },
    "papermill": {
     "duration": 11.085861,
     "end_time": "2025-07-02T12:27:16.344400",
     "exception": false,
     "start_time": "2025-07-02T12:27:05.258539",
     "status": "completed"
    },
    "scrolled": true,
    "tags": []
   },
   "outputs": [
    {
     "name": "stdout",
     "output_type": "stream",
     "text": [
      "Collecting scikit-learn==1.5.2\r\n",
      "  Downloading scikit_learn-1.5.2-cp311-cp311-manylinux_2_17_x86_64.manylinux2014_x86_64.whl.metadata (13 kB)\r\n",
      "Collecting koolbox\r\n",
      "  Downloading koolbox-0.1.3-py3-none-any.whl.metadata (3.4 kB)\r\n",
      "Requirement already satisfied: numpy>=1.19.5 in /usr/local/lib/python3.11/dist-packages (from scikit-learn==1.5.2) (1.26.4)\r\n",
      "Requirement already satisfied: scipy>=1.6.0 in /usr/local/lib/python3.11/dist-packages (from scikit-learn==1.5.2) (1.15.2)\r\n",
      "Requirement already satisfied: joblib>=1.2.0 in /usr/local/lib/python3.11/dist-packages (from scikit-learn==1.5.2) (1.5.0)\r\n",
      "Requirement already satisfied: threadpoolctl>=3.1.0 in /usr/local/lib/python3.11/dist-packages (from scikit-learn==1.5.2) (3.6.0)\r\n",
      "Requirement already satisfied: optuna>=4.2.1 in /usr/local/lib/python3.11/dist-packages (from koolbox) (4.3.0)\r\n",
      "Requirement already satisfied: pandas>=2.2.3 in /usr/local/lib/python3.11/dist-packages (from koolbox) (2.2.3)\r\n",
      "Requirement already satisfied: mkl_fft in /usr/local/lib/python3.11/dist-packages (from numpy>=1.19.5->scikit-learn==1.5.2) (1.3.8)\r\n",
      "Requirement already satisfied: mkl_random in /usr/local/lib/python3.11/dist-packages (from numpy>=1.19.5->scikit-learn==1.5.2) (1.2.4)\r\n",
      "Requirement already satisfied: mkl_umath in /usr/local/lib/python3.11/dist-packages (from numpy>=1.19.5->scikit-learn==1.5.2) (0.1.1)\r\n",
      "Requirement already satisfied: mkl in /usr/local/lib/python3.11/dist-packages (from numpy>=1.19.5->scikit-learn==1.5.2) (2025.1.0)\r\n",
      "Requirement already satisfied: tbb4py in /usr/local/lib/python3.11/dist-packages (from numpy>=1.19.5->scikit-learn==1.5.2) (2022.1.0)\r\n",
      "Requirement already satisfied: mkl-service in /usr/local/lib/python3.11/dist-packages (from numpy>=1.19.5->scikit-learn==1.5.2) (2.4.1)\r\n",
      "Requirement already satisfied: alembic>=1.5.0 in /usr/local/lib/python3.11/dist-packages (from optuna>=4.2.1->koolbox) (1.15.2)\r\n",
      "Requirement already satisfied: colorlog in /usr/local/lib/python3.11/dist-packages (from optuna>=4.2.1->koolbox) (6.9.0)\r\n",
      "Requirement already satisfied: packaging>=20.0 in /usr/local/lib/python3.11/dist-packages (from optuna>=4.2.1->koolbox) (25.0)\r\n",
      "Requirement already satisfied: sqlalchemy>=1.4.2 in /usr/local/lib/python3.11/dist-packages (from optuna>=4.2.1->koolbox) (2.0.40)\r\n",
      "Requirement already satisfied: tqdm in /usr/local/lib/python3.11/dist-packages (from optuna>=4.2.1->koolbox) (4.67.1)\r\n",
      "Requirement already satisfied: PyYAML in /usr/local/lib/python3.11/dist-packages (from optuna>=4.2.1->koolbox) (6.0.2)\r\n",
      "Requirement already satisfied: python-dateutil>=2.8.2 in /usr/local/lib/python3.11/dist-packages (from pandas>=2.2.3->koolbox) (2.9.0.post0)\r\n",
      "Requirement already satisfied: pytz>=2020.1 in /usr/local/lib/python3.11/dist-packages (from pandas>=2.2.3->koolbox) (2025.2)\r\n",
      "Requirement already satisfied: tzdata>=2022.7 in /usr/local/lib/python3.11/dist-packages (from pandas>=2.2.3->koolbox) (2025.2)\r\n",
      "Requirement already satisfied: Mako in /usr/local/lib/python3.11/dist-packages (from alembic>=1.5.0->optuna>=4.2.1->koolbox) (1.3.10)\r\n",
      "Requirement already satisfied: typing-extensions>=4.12 in /usr/local/lib/python3.11/dist-packages (from alembic>=1.5.0->optuna>=4.2.1->koolbox) (4.13.2)\r\n",
      "Requirement already satisfied: six>=1.5 in /usr/local/lib/python3.11/dist-packages (from python-dateutil>=2.8.2->pandas>=2.2.3->koolbox) (1.17.0)\r\n",
      "Requirement already satisfied: greenlet>=1 in /usr/local/lib/python3.11/dist-packages (from sqlalchemy>=1.4.2->optuna>=4.2.1->koolbox) (3.1.1)\r\n",
      "Requirement already satisfied: intel-openmp<2026,>=2024 in /usr/local/lib/python3.11/dist-packages (from mkl->numpy>=1.19.5->scikit-learn==1.5.2) (2024.2.0)\r\n",
      "Requirement already satisfied: tbb==2022.* in /usr/local/lib/python3.11/dist-packages (from mkl->numpy>=1.19.5->scikit-learn==1.5.2) (2022.1.0)\r\n",
      "Requirement already satisfied: tcmlib==1.* in /usr/local/lib/python3.11/dist-packages (from tbb==2022.*->mkl->numpy>=1.19.5->scikit-learn==1.5.2) (1.3.0)\r\n",
      "Requirement already satisfied: intel-cmplr-lib-rt in /usr/local/lib/python3.11/dist-packages (from mkl_umath->numpy>=1.19.5->scikit-learn==1.5.2) (2024.2.0)\r\n",
      "Requirement already satisfied: intel-cmplr-lib-ur==2024.2.0 in /usr/local/lib/python3.11/dist-packages (from intel-openmp<2026,>=2024->mkl->numpy>=1.19.5->scikit-learn==1.5.2) (2024.2.0)\r\n",
      "Requirement already satisfied: MarkupSafe>=0.9.2 in /usr/local/lib/python3.11/dist-packages (from Mako->alembic>=1.5.0->optuna>=4.2.1->koolbox) (3.0.2)\r\n",
      "Downloading scikit_learn-1.5.2-cp311-cp311-manylinux_2_17_x86_64.manylinux2014_x86_64.whl (13.3 MB)\r\n",
      "\u001b[2K   \u001b[90m━━━━━━━━━━━━━━━━━━━━━━━━━━━━━━━━━━━━━━━━\u001b[0m \u001b[32m13.3/13.3 MB\u001b[0m \u001b[31m65.8 MB/s\u001b[0m eta \u001b[36m0:00:00\u001b[0m\r\n",
      "\u001b[?25hDownloading koolbox-0.1.3-py3-none-any.whl (18 kB)\r\n",
      "Installing collected packages: scikit-learn, koolbox\r\n",
      "  Attempting uninstall: scikit-learn\r\n",
      "    Found existing installation: scikit-learn 1.2.2\r\n",
      "    Uninstalling scikit-learn-1.2.2:\r\n",
      "      Successfully uninstalled scikit-learn-1.2.2\r\n",
      "\u001b[31mERROR: pip's dependency resolver does not currently take into account all the packages that are installed. This behaviour is the source of the following dependency conflicts.\r\n",
      "cesium 0.12.4 requires numpy<3.0,>=2.0, but you have numpy 1.26.4 which is incompatible.\u001b[0m\u001b[31m\r\n",
      "\u001b[0mSuccessfully installed koolbox-0.1.3 scikit-learn-1.5.2\r\n"
     ]
    }
   ],
   "source": [
    "!pip install scikit-learn==1.5.2 koolbox"
   ]
  },
  {
   "cell_type": "code",
   "execution_count": 2,
   "id": "7770db03",
   "metadata": {
    "execution": {
     "iopub.execute_input": "2025-07-02T12:27:16.359528Z",
     "iopub.status.busy": "2025-07-02T12:27:16.359152Z",
     "iopub.status.idle": "2025-07-02T12:27:27.268667Z",
     "shell.execute_reply": "2025-07-02T12:27:27.267437Z"
    },
    "papermill": {
     "duration": 10.920059,
     "end_time": "2025-07-02T12:27:27.271275",
     "exception": false,
     "start_time": "2025-07-02T12:27:16.351216",
     "status": "completed"
    },
    "tags": []
   },
   "outputs": [],
   "source": [
    "from sklearn.feature_selection import mutual_info_regression\n",
    "from sklearn.ensemble import HistGradientBoostingClassifier\n",
    "from sklearn.linear_model import LogisticRegression\n",
    "from sklearn.model_selection import StratifiedKFold\n",
    "from sklearn.metrics import accuracy_score\n",
    "from catboost import CatBoostClassifier\n",
    "from lightgbm import LGBMClassifier\n",
    "from xgboost import XGBClassifier\n",
    "from scipy.special import logit\n",
    "from koolbox import Trainer\n",
    "import matplotlib.pyplot as plt\n",
    "import seaborn as sns\n",
    "import pandas as pd\n",
    "import numpy as np\n",
    "import warnings\n",
    "import joblib\n",
    "import shutil\n",
    "import optuna\n",
    "import glob\n",
    "import json\n",
    "\n",
    "warnings.filterwarnings('ignore')"
   ]
  },
  {
   "cell_type": "code",
   "execution_count": 3,
   "id": "4f729b27",
   "metadata": {
    "execution": {
     "iopub.execute_input": "2025-07-02T12:27:27.287355Z",
     "iopub.status.busy": "2025-07-02T12:27:27.286361Z",
     "iopub.status.idle": "2025-07-02T12:27:27.292146Z",
     "shell.execute_reply": "2025-07-02T12:27:27.291246Z"
    },
    "papermill": {
     "duration": 0.015295,
     "end_time": "2025-07-02T12:27:27.293870",
     "exception": false,
     "start_time": "2025-07-02T12:27:27.278575",
     "status": "completed"
    },
    "tags": []
   },
   "outputs": [],
   "source": [
    "class CFG:\n",
    "    train_path = '/kaggle/input/playground-series-s5e7/train.csv'\n",
    "    test_path = '/kaggle/input/playground-series-s5e7/test.csv'\n",
    "    sample_sub_path = '/kaggle/input/playground-series-s5e7/sample_submission.csv'\n",
    "    \n",
    "    target = 'Personality'\n",
    "    n_folds = 5\n",
    "    seed = 42\n",
    "    \n",
    "    cv = StratifiedKFold(n_splits=n_folds, random_state=seed, shuffle=True)\n",
    "    metric = accuracy_score\n",
    "    \n",
    "    n_optuna_trials = 500"
   ]
  },
  {
   "cell_type": "markdown",
   "id": "ac3ad528",
   "metadata": {
    "papermill": {
     "duration": 0.006237,
     "end_time": "2025-07-02T12:27:27.306974",
     "exception": false,
     "start_time": "2025-07-02T12:27:27.300737",
     "status": "completed"
    },
    "tags": []
   },
   "source": [
    "# Data loading and preprocessing"
   ]
  },
  {
   "cell_type": "code",
   "execution_count": 4,
   "id": "d9bd13ca",
   "metadata": {
    "execution": {
     "iopub.execute_input": "2025-07-02T12:27:27.321574Z",
     "iopub.status.busy": "2025-07-02T12:27:27.321112Z",
     "iopub.status.idle": "2025-07-02T12:27:27.413847Z",
     "shell.execute_reply": "2025-07-02T12:27:27.412666Z"
    },
    "papermill": {
     "duration": 0.102134,
     "end_time": "2025-07-02T12:27:27.415632",
     "exception": false,
     "start_time": "2025-07-02T12:27:27.313498",
     "status": "completed"
    },
    "tags": []
   },
   "outputs": [],
   "source": [
    "train = pd.read_csv(CFG.train_path, index_col='id')\n",
    "test = pd.read_csv(CFG.test_path, index_col='id')\n",
    "\n",
    "train[\"Stage_fear\"] = train[\"Stage_fear\"].map({\"No\": 0, \"Yes\": 1})\n",
    "train[\"Drained_after_socializing\"] = train[\"Drained_after_socializing\"].map({\"No\": 0, \"Yes\": 1})\n",
    "\n",
    "test[\"Stage_fear\"] = test[\"Stage_fear\"].map({\"No\": 0, \"Yes\": 1})\n",
    "test[\"Drained_after_socializing\"] = test[\"Drained_after_socializing\"].map({\"No\": 0, \"Yes\": 1})\n",
    "\n",
    "train[CFG.target] = train[CFG.target].map({\"Extrovert\": 0, \"Introvert\": 1})\n",
    "\n",
    "X = train.drop(CFG.target, axis=1)\n",
    "y = train[CFG.target]\n",
    "X_test = test"
   ]
  },
  {
   "cell_type": "code",
   "execution_count": 5,
   "id": "bf51a04b",
   "metadata": {
    "execution": {
     "iopub.execute_input": "2025-07-02T12:27:27.430727Z",
     "iopub.status.busy": "2025-07-02T12:27:27.430348Z",
     "iopub.status.idle": "2025-07-02T12:27:27.896698Z",
     "shell.execute_reply": "2025-07-02T12:27:27.895531Z"
    },
    "papermill": {
     "duration": 0.476697,
     "end_time": "2025-07-02T12:27:27.899043",
     "exception": false,
     "start_time": "2025-07-02T12:27:27.422346",
     "status": "completed"
    },
    "tags": []
   },
   "outputs": [
    {
     "data": {
      "image/png": "[encoded data removed]",
      "text/plain": [
       "<Figure size 800x800 with 1 Axes>"
      ]
     },
     "metadata": {},
     "output_type": "display_data"
    }
   ],
   "source": [
    "sns.set_style(\"white\")\n",
    "plt.figure(figsize=(8, 8))\n",
    "\n",
    "corr_train = train.corr()\n",
    "mask_train = np.triu(np.ones_like(corr_train, dtype=bool), k=1)\n",
    "\n",
    "sns.heatmap(\n",
    "    data=corr_train,\n",
    "    annot=True,\n",
    "    fmt='.4f',\n",
    "    mask=mask_train,\n",
    "    square=True,\n",
    "    cmap='coolwarm',\n",
    "    annot_kws={'size': 8},\n",
    "    cbar=False\n",
    ")\n",
    "\n",
    "plt.tight_layout()\n",
    "plt.show()"
   ]
  },
  {
   "cell_type": "code",
   "execution_count": 6,
   "id": "5fd5a19e",
   "metadata": {
    "execution": {
     "iopub.execute_input": "2025-07-02T12:27:27.921270Z",
     "iopub.status.busy": "2025-07-02T12:27:27.920916Z",
     "iopub.status.idle": "2025-07-02T12:27:28.910106Z",
     "shell.execute_reply": "2025-07-02T12:27:28.909075Z"
    },
    "papermill": {
     "duration": 1.001783,
     "end_time": "2025-07-02T12:27:28.911895",
     "exception": false,
     "start_time": "2025-07-02T12:27:27.910112",
     "status": "completed"
    },
    "tags": []
   },
   "outputs": [
    {
     "data": {
      "text/html": [
       "<style type=\"text/css\">\n",
       "#T_02159_row0_col0 {\n",
       "  width: 10em;\n",
       "  background: linear-gradient(90deg, #006837 100.0%, transparent 100.0%);\n",
       "}\n",
       "#T_02159_row1_col0 {\n",
       "  width: 10em;\n",
       "  background: linear-gradient(90deg, #0b7d42 95.5%, transparent 95.5%);\n",
       "}\n",
       "#T_02159_row2_col0 {\n",
       "  width: 10em;\n",
       "  background: linear-gradient(90deg, #108647 93.5%, transparent 93.5%);\n",
       "}\n",
       "#T_02159_row3_col0 {\n",
       "  width: 10em;\n",
       "  background: linear-gradient(90deg, #219c52 89.0%, transparent 89.0%);\n",
       "}\n",
       "#T_02159_row4_col0 {\n",
       "  width: 10em;\n",
       "  background: linear-gradient(90deg, #249d53 88.7%, transparent 88.7%);\n",
       "}\n",
       "#T_02159_row5_col0 {\n",
       "  width: 10em;\n",
       "  background: linear-gradient(90deg, #36a657 86.0%, transparent 86.0%);\n",
       "}\n",
       "#T_02159_row6_col0 {\n",
       "  width: 10em;\n",
       "  background: linear-gradient(90deg, #5ab760 81.6%, transparent 81.6%);\n",
       "}\n",
       "</style>\n",
       "<table id=\"T_02159\">\n",
       "  <thead>\n",
       "    <tr>\n",
       "      <th class=\"blank level0\" >&nbsp;</th>\n",
       "      <th id=\"T_02159_level0_col0\" class=\"col_heading level0 col0\" >Mutual Information</th>\n",
       "    </tr>\n",
       "  </thead>\n",
       "  <tbody>\n",
       "    <tr>\n",
       "      <th id=\"T_02159_level0_row0\" class=\"row_heading level0 row0\" >Time_spent_Alone</th>\n",
       "      <td id=\"T_02159_row0_col0\" class=\"data row0 col0\" >0.353570</td>\n",
       "    </tr>\n",
       "    <tr>\n",
       "      <th id=\"T_02159_level0_row1\" class=\"row_heading level0 row1\" >Drained_after_socializing</th>\n",
       "      <td id=\"T_02159_row1_col0\" class=\"data row1 col0\" >0.337575</td>\n",
       "    </tr>\n",
       "    <tr>\n",
       "      <th id=\"T_02159_level0_row2\" class=\"row_heading level0 row2\" >Social_event_attendance</th>\n",
       "      <td id=\"T_02159_row2_col0\" class=\"data row2 col0\" >0.330482</td>\n",
       "    </tr>\n",
       "    <tr>\n",
       "      <th id=\"T_02159_level0_row3\" class=\"row_heading level0 row3\" >Stage_fear</th>\n",
       "      <td id=\"T_02159_row3_col0\" class=\"data row3 col0\" >0.314673</td>\n",
       "    </tr>\n",
       "    <tr>\n",
       "      <th id=\"T_02159_level0_row4\" class=\"row_heading level0 row4\" >Post_frequency</th>\n",
       "      <td id=\"T_02159_row4_col0\" class=\"data row4 col0\" >0.313469</td>\n",
       "    </tr>\n",
       "    <tr>\n",
       "      <th id=\"T_02159_level0_row5\" class=\"row_heading level0 row5\" >Going_outside</th>\n",
       "      <td id=\"T_02159_row5_col0\" class=\"data row5 col0\" >0.304151</td>\n",
       "    </tr>\n",
       "    <tr>\n",
       "      <th id=\"T_02159_level0_row6\" class=\"row_heading level0 row6\" >Friends_circle_size</th>\n",
       "      <td id=\"T_02159_row6_col0\" class=\"data row6 col0\" >0.288645</td>\n",
       "    </tr>\n",
       "  </tbody>\n",
       "</table>\n"
      ],
      "text/plain": [
       "<pandas.io.formats.style.Styler at 0x7f03fc739390>"
      ]
     },
     "execution_count": 6,
     "metadata": {},
     "output_type": "execute_result"
    }
   ],
   "source": [
    "mutual_info = mutual_info_regression(X.fillna(0), y, random_state=CFG.seed)\n",
    "\n",
    "mutual_info = pd.Series(mutual_info)\n",
    "mutual_info.index = X.columns\n",
    "mutual_info = pd.DataFrame(mutual_info.sort_values(ascending=False), columns=['Mutual Information'])\n",
    "mutual_info.style.bar(subset=['Mutual Information'], cmap='RdYlGn')"
   ]
  },
  {
   "cell_type": "code",
   "execution_count": 7,
   "id": "d41ee3f0",
   "metadata": {
    "execution": {
     "iopub.execute_input": "2025-07-02T12:27:28.930004Z",
     "iopub.status.busy": "2025-07-02T12:27:28.929693Z",
     "iopub.status.idle": "2025-07-02T12:27:28.983322Z",
     "shell.execute_reply": "2025-07-02T12:27:28.982309Z"
    },
    "papermill": {
     "duration": 0.064333,
     "end_time": "2025-07-02T12:27:28.984987",
     "exception": false,
     "start_time": "2025-07-02T12:27:28.920654",
     "status": "completed"
    },
    "tags": []
   },
   "outputs": [],
   "source": [
    "train = pd.read_csv(CFG.train_path, index_col='id')\n",
    "test = pd.read_csv(CFG.test_path, index_col='id')\n",
    "\n",
    "cat_cols = [\"Stage_fear\", \"Drained_after_socializing\"]\n",
    "train[cat_cols] = train[cat_cols].fillna(\"missing\").astype(\"category\")\n",
    "test[cat_cols] = test[cat_cols].fillna(\"missing\").astype(\"category\")\n",
    "\n",
    "train[CFG.target] = train[CFG.target].map({\"Extrovert\": 0, \"Introvert\": 1})\n",
    "\n",
    "X = train.drop(CFG.target, axis=1)\n",
    "y = train[CFG.target]\n",
    "X_test = test"
   ]
  },
  {
   "cell_type": "markdown",
   "id": "08c6cbb5",
   "metadata": {
    "papermill": {
     "duration": 0.007533,
     "end_time": "2025-07-02T12:27:29.000663",
     "exception": false,
     "start_time": "2025-07-02T12:27:28.993130",
     "status": "completed"
    },
    "tags": []
   },
   "source": [
    "# Training base models"
   ]
  },
  {
   "cell_type": "code",
   "execution_count": 8,
   "id": "13dd4684",
   "metadata": {
    "execution": {
     "iopub.execute_input": "2025-07-02T12:27:29.018527Z",
     "iopub.status.busy": "2025-07-02T12:27:29.018042Z",
     "iopub.status.idle": "2025-07-02T12:27:29.024629Z",
     "shell.execute_reply": "2025-07-02T12:27:29.023508Z"
    },
    "papermill": {
     "duration": 0.017751,
     "end_time": "2025-07-02T12:27:29.026380",
     "exception": false,
     "start_time": "2025-07-02T12:27:29.008629",
     "status": "completed"
    },
    "tags": []
   },
   "outputs": [],
   "source": [
    "def save_submission(name, test_pred_probs, score, threshold=0.5):\n",
    "    sub = pd.read_csv(CFG.sample_sub_path)\n",
    "    sub[CFG.target] = (test_pred_probs > threshold).astype(int)\n",
    "    sub[CFG.target] = sub[CFG.target].map({0: \"Extrovert\", 1: \"Introvert\"})\n",
    "    sub.to_csv(f'sub_{name}_{score:.6f}.csv', index=False)\n",
    "    return sub.head()"
   ]
  },
  {
   "cell_type": "code",
   "execution_count": 9,
   "id": "0c8b46fc",
   "metadata": {
    "_kg_hide-input": true,
    "_kg_hide-output": true,
    "execution": {
     "iopub.execute_input": "2025-07-02T12:27:29.044834Z",
     "iopub.status.busy": "2025-07-02T12:27:29.043801Z",
     "iopub.status.idle": "2025-07-02T12:27:29.054305Z",
     "shell.execute_reply": "2025-07-02T12:27:29.053279Z"
    },
    "papermill": {
     "duration": 0.021627,
     "end_time": "2025-07-02T12:27:29.056258",
     "exception": false,
     "start_time": "2025-07-02T12:27:29.034631",
     "status": "completed"
    },
    "tags": []
   },
   "outputs": [],
   "source": [
    "cb_params = {\n",
    "    \"border_count\": 39,\n",
    "    \"colsample_bylevel\": 0.19459088572914465,\n",
    "    \"depth\": 2,\n",
    "    \"iterations\": 1467,\n",
    "    \"l2_leaf_reg\": 31.236169478676036,\n",
    "    \"learning_rate\": 0.06852669420904771,\n",
    "    \"min_child_samples\": 160,\n",
    "    \"random_state\": 42,\n",
    "    \"random_strength\": 0.8517786189616939,\n",
    "    \"scale_pos_weight\": 1.1691394390533685,\n",
    "    \"subsample\": 0.3192330024411618,\n",
    "    \"verbose\": False,\n",
    "    \"cat_features\": cat_cols\n",
    "}\n",
    "\n",
    "xgb_params = {\n",
    "    \"colsample_bylevel\": 0.8168489864941239,\n",
    "    \"colsample_bynode\": 0.8850485490950061,\n",
    "    \"colsample_bytree\": 0.8379339940113913,\n",
    "    \"gamma\": 2.3977359439809276,\n",
    "    \"learning_rate\": 0.0616974880921061,\n",
    "    \"max_depth\": 344,\n",
    "    \"max_leaves\": 89,\n",
    "    \"min_child_weight\": 10,\n",
    "    \"n_estimators\": 696,\n",
    "    \"n_jobs\": -1,\n",
    "    \"random_state\": 42,\n",
    "    \"reg_alpha\": 1.849084818346014,\n",
    "    \"reg_lambda\": 29.680324563362227,\n",
    "    \"subsample\": 0.5902901569391961,\n",
    "    \"verbosity\": 0,\n",
    "    \"enable_categorical\": True\n",
    "}\n",
    "\n",
    "hgb_params = {\n",
    "    \"l2_regularization\": 28.13576008319012,\n",
    "    \"learning_rate\": 0.1543598086529694,\n",
    "    \"max_depth\": 325,\n",
    "    \"max_features\": 0.323620656779567,\n",
    "    \"max_iter\": 2490,\n",
    "    \"max_leaf_nodes\": 216,\n",
    "    \"min_samples_leaf\": 12,\n",
    "    \"random_state\": 42,\n",
    "    \"categorical_features\": \"from_dtype\"\n",
    "}\n",
    "\n",
    "lgbm_params = {\n",
    "    \"boosting_type\": \"gbdt\",\n",
    "    \"colsample_bytree\": 0.6467443250209886,\n",
    "    \"learning_rate\": 0.06547186748153115,\n",
    "    \"min_child_samples\": 34,\n",
    "    \"min_child_weight\": 0.24399244943904663,\n",
    "    \"n_estimators\": 498,\n",
    "    \"n_jobs\": -1,\n",
    "    \"num_leaves\": 158,\n",
    "    \"random_state\": 42,\n",
    "    \"reg_alpha\": 6.568921253574134,\n",
    "    \"reg_lambda\": 62.66165355751099,\n",
    "    \"subsample\": 0.0011019938618584968,\n",
    "    \"verbose\": -1\n",
    "}\n",
    "\n",
    "lgbm_goss_params = {\n",
    "    \"boosting_type\": \"goss\",\n",
    "    \"colsample_bytree\": 0.8384834064170148,\n",
    "    \"learning_rate\": 0.07006829797238343,\n",
    "    \"min_child_samples\": 46,\n",
    "    \"min_child_weight\": 0.7625394962666617,\n",
    "    \"n_estimators\": 1887,\n",
    "    \"n_jobs\": -1,\n",
    "    \"num_leaves\": 341,\n",
    "    \"random_state\": 42,\n",
    "    \"reg_alpha\": 10.53082019937197,\n",
    "    \"reg_lambda\": 67.44600065144685,\n",
    "    \"subsample\": 0.4925008305336127,\n",
    "    \"verbose\": -1\n",
    "}\n",
    "\n",
    "lgbm_dart_params = {\n",
    "    \"boosting_type\": \"dart\",\n",
    "    \"colsample_bytree\": 0.7592971191793424,\n",
    "    \"learning_rate\": 0.046141766106846074,\n",
    "    \"min_child_samples\": 18,\n",
    "    \"min_child_weight\": 0.4740109054323218,\n",
    "    \"n_estimators\": 4035,\n",
    "    \"n_jobs\": -1,\n",
    "    \"num_leaves\": 393,\n",
    "    \"random_state\": 42,\n",
    "    \"reg_alpha\": 48.016799341666605,\n",
    "    \"reg_lambda\": 89.12860300833658,\n",
    "    \"subsample\": 0.016333358901112538,\n",
    "    \"verbose\": -1\n",
    "}"
   ]
  },
  {
   "cell_type": "code",
   "execution_count": 10,
   "id": "aeddf691",
   "metadata": {
    "execution": {
     "iopub.execute_input": "2025-07-02T12:27:29.074824Z",
     "iopub.status.busy": "2025-07-02T12:27:29.073971Z",
     "iopub.status.idle": "2025-07-02T12:27:29.078736Z",
     "shell.execute_reply": "2025-07-02T12:27:29.077664Z"
    },
    "papermill": {
     "duration": 0.016256,
     "end_time": "2025-07-02T12:27:29.080599",
     "exception": false,
     "start_time": "2025-07-02T12:27:29.064343",
     "status": "completed"
    },
    "tags": []
   },
   "outputs": [],
   "source": [
    "scores = {}\n",
    "oof_pred_probs = {}\n",
    "test_pred_probs = {}"
   ]
  },
  {
   "cell_type": "markdown",
   "id": "4de0d672",
   "metadata": {
    "papermill": {
     "duration": 0.007965,
     "end_time": "2025-07-02T12:27:29.097012",
     "exception": false,
     "start_time": "2025-07-02T12:27:29.089047",
     "status": "completed"
    },
    "tags": []
   },
   "source": [
    "## CatBoost"
   ]
  },
  {
   "cell_type": "code",
   "execution_count": 11,
   "id": "af9238a0",
   "metadata": {
    "execution": {
     "iopub.execute_input": "2025-07-02T12:27:29.115719Z",
     "iopub.status.busy": "2025-07-02T12:27:29.115312Z",
     "iopub.status.idle": "2025-07-02T12:28:21.183826Z",
     "shell.execute_reply": "2025-07-02T12:28:21.182712Z"
    },
    "papermill": {
     "duration": 52.080742,
     "end_time": "2025-07-02T12:28:21.185996",
     "exception": false,
     "start_time": "2025-07-02T12:27:29.105254",
     "status": "completed"
    },
    "tags": []
   },
   "outputs": [
    {
     "name": "stdout",
     "output_type": "stream",
     "text": [
      "Training CatBoostClassifier\n",
      "\n",
      "--- Fold 0 - accuracy_score: 0.969771 - Time: 11.13 s\n",
      "--- Fold 1 - accuracy_score: 0.968151 - Time: 9.74 s\n",
      "--- Fold 2 - accuracy_score: 0.965992 - Time: 9.74 s\n",
      "--- Fold 3 - accuracy_score: 0.970850 - Time: 10.67 s\n",
      "--- Fold 4 - accuracy_score: 0.971112 - Time: 9.99 s\n",
      "\n",
      "------ Overall accuracy_score: 0.969175 - Mean accuracy_score: 0.969175 ± 0.001902 - Time: 52.01 s\n"
     ]
    }
   ],
   "source": [
    "cb_trainer = Trainer(\n",
    "    CatBoostClassifier(**cb_params),\n",
    "    cv=CFG.cv,\n",
    "    metric=CFG.metric,\n",
    "    use_early_stopping=False,\n",
    "    task=\"binary\",\n",
    "    metric_precision=6,\n",
    ")\n",
    "\n",
    "cb_trainer.fit(X, y)\n",
    "\n",
    "scores[\"CatBoost\"] = cb_trainer.fold_scores\n",
    "oof_pred_probs[\"CatBoost\"] = cb_trainer.oof_preds\n",
    "test_pred_probs[\"CatBoost\"] = cb_trainer.predict(X_test)"
   ]
  },
  {
   "cell_type": "markdown",
   "id": "f18bc65d",
   "metadata": {
    "papermill": {
     "duration": 0.009989,
     "end_time": "2025-07-02T12:28:21.206399",
     "exception": false,
     "start_time": "2025-07-02T12:28:21.196410",
     "status": "completed"
    },
    "tags": []
   },
   "source": [
    "## XGBoost"
   ]
  },
  {
   "cell_type": "code",
   "execution_count": 12,
   "id": "844c4e05",
   "metadata": {
    "execution": {
     "iopub.execute_input": "2025-07-02T12:28:21.228495Z",
     "iopub.status.busy": "2025-07-02T12:28:21.228125Z",
     "iopub.status.idle": "2025-07-02T12:28:24.202972Z",
     "shell.execute_reply": "2025-07-02T12:28:24.201560Z"
    },
    "papermill": {
     "duration": 2.987545,
     "end_time": "2025-07-02T12:28:24.204524",
     "exception": false,
     "start_time": "2025-07-02T12:28:21.216979",
     "status": "completed"
    },
    "tags": []
   },
   "outputs": [
    {
     "name": "stdout",
     "output_type": "stream",
     "text": [
      "Training XGBClassifier\n",
      "\n",
      "--- Fold 0 - accuracy_score: 0.970040 - Time: 0.48 s\n",
      "--- Fold 1 - accuracy_score: 0.967881 - Time: 0.44 s\n",
      "--- Fold 2 - accuracy_score: 0.966262 - Time: 0.41 s\n",
      "--- Fold 3 - accuracy_score: 0.971120 - Time: 0.42 s\n",
      "--- Fold 4 - accuracy_score: 0.971112 - Time: 0.42 s\n",
      "\n",
      "------ Overall accuracy_score: 0.969283 - Mean accuracy_score: 0.969283 ± 0.001918 - Time: 2.89 s\n"
     ]
    }
   ],
   "source": [
    "xgb_trainer = Trainer(\n",
    "    XGBClassifier(**xgb_params),\n",
    "    cv=CFG.cv,\n",
    "    metric=CFG.metric,\n",
    "    task=\"binary\",\n",
    "    metric_precision=6,\n",
    ")\n",
    "\n",
    "xgb_trainer.fit(X, y)\n",
    "\n",
    "scores[\"XGBoost\"] = xgb_trainer.fold_scores\n",
    "oof_pred_probs[\"XGBoost\"] = xgb_trainer.oof_preds\n",
    "test_pred_probs[\"XGBoost\"] = xgb_trainer.predict(X_test)"
   ]
  },
  {
   "cell_type": "markdown",
   "id": "2e5ce495",
   "metadata": {
    "papermill": {
     "duration": 0.009242,
     "end_time": "2025-07-02T12:28:24.225204",
     "exception": false,
     "start_time": "2025-07-02T12:28:24.215962",
     "status": "completed"
    },
    "tags": []
   },
   "source": [
    "## HistGradientBoostingClassifier"
   ]
  },
  {
   "cell_type": "code",
   "execution_count": 13,
   "id": "96ccf3c8",
   "metadata": {
    "execution": {
     "iopub.execute_input": "2025-07-02T12:28:24.244584Z",
     "iopub.status.busy": "2025-07-02T12:28:24.244212Z",
     "iopub.status.idle": "2025-07-02T12:28:27.766628Z",
     "shell.execute_reply": "2025-07-02T12:28:27.765505Z"
    },
    "papermill": {
     "duration": 3.534371,
     "end_time": "2025-07-02T12:28:27.768301",
     "exception": false,
     "start_time": "2025-07-02T12:28:24.233930",
     "status": "completed"
    },
    "tags": []
   },
   "outputs": [
    {
     "name": "stdout",
     "output_type": "stream",
     "text": [
      "Training HistGradientBoostingClassifier\n",
      "\n",
      "--- Fold 0 - accuracy_score: 0.969771 - Time: 0.39 s\n",
      "--- Fold 1 - accuracy_score: 0.968151 - Time: 0.44 s\n",
      "--- Fold 2 - accuracy_score: 0.965722 - Time: 0.64 s\n",
      "--- Fold 3 - accuracy_score: 0.970580 - Time: 0.68 s\n",
      "--- Fold 4 - accuracy_score: 0.970842 - Time: 0.49 s\n",
      "\n",
      "------ Overall accuracy_score: 0.969013 - Mean accuracy_score: 0.969013 ± 0.001895 - Time: 3.38 s\n"
     ]
    }
   ],
   "source": [
    "hgb_trainer = Trainer(\n",
    "    HistGradientBoostingClassifier(**hgb_params),\n",
    "    cv=CFG.cv,\n",
    "    metric=CFG.metric,\n",
    "    task=\"binary\",\n",
    "    metric_precision=6,\n",
    ")\n",
    "\n",
    "hgb_trainer.fit(X, y)\n",
    "\n",
    "scores[\"HistGradientBoosting\"] = hgb_trainer.fold_scores\n",
    "oof_pred_probs[\"HistGradientBoosting\"] = hgb_trainer.oof_preds\n",
    "test_pred_probs[\"HistGradientBoosting\"] = hgb_trainer.predict(X_test)"
   ]
  },
  {
   "cell_type": "markdown",
   "id": "47f4b6e2",
   "metadata": {
    "papermill": {
     "duration": 0.008754,
     "end_time": "2025-07-02T12:28:27.786532",
     "exception": false,
     "start_time": "2025-07-02T12:28:27.777778",
     "status": "completed"
    },
    "tags": []
   },
   "source": [
    "## LightGBM (gbdt)"
   ]
  },
  {
   "cell_type": "code",
   "execution_count": 14,
   "id": "70463c7f",
   "metadata": {
    "execution": {
     "iopub.execute_input": "2025-07-02T12:28:27.806453Z",
     "iopub.status.busy": "2025-07-02T12:28:27.805678Z",
     "iopub.status.idle": "2025-07-02T12:28:30.767758Z",
     "shell.execute_reply": "2025-07-02T12:28:30.767042Z"
    },
    "papermill": {
     "duration": 2.973818,
     "end_time": "2025-07-02T12:28:30.769532",
     "exception": false,
     "start_time": "2025-07-02T12:28:27.795714",
     "status": "completed"
    },
    "tags": []
   },
   "outputs": [
    {
     "name": "stdout",
     "output_type": "stream",
     "text": [
      "Training LGBMClassifier\n",
      "\n",
      "--- Fold 0 - accuracy_score: 0.970040 - Time: 0.43 s\n",
      "--- Fold 1 - accuracy_score: 0.968421 - Time: 0.39 s\n",
      "--- Fold 2 - accuracy_score: 0.966262 - Time: 0.38 s\n",
      "--- Fold 3 - accuracy_score: 0.970850 - Time: 0.36 s\n",
      "--- Fold 4 - accuracy_score: 0.971652 - Time: 0.42 s\n",
      "\n",
      "------ Overall accuracy_score: 0.969445 - Mean accuracy_score: 0.969445 ± 0.001917 - Time: 2.73 s\n"
     ]
    }
   ],
   "source": [
    "lgbm_gbdt_trainer = Trainer(\n",
    "    LGBMClassifier(**lgbm_params),\n",
    "    cv=CFG.cv,\n",
    "    metric=CFG.metric,\n",
    "    use_early_stopping=False,\n",
    "    task=\"binary\",\n",
    "    metric_precision=6,\n",
    ")\n",
    "\n",
    "lgbm_gbdt_trainer.fit(X, y)\n",
    "\n",
    "scores[\"LightGBM (gbdt)\"] = lgbm_gbdt_trainer.fold_scores\n",
    "oof_pred_probs[\"LightGBM (gbdt)\"] = lgbm_gbdt_trainer.oof_preds\n",
    "test_pred_probs[\"LightGBM (gbdt)\"] = lgbm_gbdt_trainer.predict(X_test)"
   ]
  },
  {
   "cell_type": "markdown",
   "id": "72471c03",
   "metadata": {
    "papermill": {
     "duration": 0.009449,
     "end_time": "2025-07-02T12:28:30.791285",
     "exception": false,
     "start_time": "2025-07-02T12:28:30.781836",
     "status": "completed"
    },
    "tags": []
   },
   "source": [
    "## LightGBM (goss)"
   ]
  },
  {
   "cell_type": "code",
   "execution_count": 15,
   "id": "a40af84f",
   "metadata": {
    "execution": {
     "iopub.execute_input": "2025-07-02T12:28:30.810962Z",
     "iopub.status.busy": "2025-07-02T12:28:30.810630Z",
     "iopub.status.idle": "2025-07-02T12:28:42.752944Z",
     "shell.execute_reply": "2025-07-02T12:28:42.752198Z"
    },
    "papermill": {
     "duration": 11.954276,
     "end_time": "2025-07-02T12:28:42.754721",
     "exception": false,
     "start_time": "2025-07-02T12:28:30.800445",
     "status": "completed"
    },
    "tags": []
   },
   "outputs": [
    {
     "name": "stdout",
     "output_type": "stream",
     "text": [
      "Training LGBMClassifier\n",
      "\n",
      "--- Fold 0 - accuracy_score: 0.970040 - Time: 1.87 s\n",
      "--- Fold 1 - accuracy_score: 0.968421 - Time: 1.73 s\n",
      "--- Fold 2 - accuracy_score: 0.966532 - Time: 3.48 s\n",
      "--- Fold 3 - accuracy_score: 0.970850 - Time: 1.73 s\n",
      "--- Fold 4 - accuracy_score: 0.971382 - Time: 1.75 s\n",
      "\n",
      "------ Overall accuracy_score: 0.969445 - Mean accuracy_score: 0.969445 ± 0.001767 - Time: 11.31 s\n"
     ]
    }
   ],
   "source": [
    "lgbm_goss_trainer = Trainer(\n",
    "    LGBMClassifier(**lgbm_goss_params),\n",
    "    cv=CFG.cv,\n",
    "    metric=CFG.metric,\n",
    "    use_early_stopping=False,\n",
    "    task=\"binary\",\n",
    "    metric_precision=6,\n",
    ")\n",
    "\n",
    "lgbm_goss_trainer.fit(X, y)\n",
    "\n",
    "scores[\"LightGBM (goss)\"] = lgbm_goss_trainer.fold_scores\n",
    "oof_pred_probs[\"LightGBM (goss)\"] = lgbm_goss_trainer.oof_preds\n",
    "test_pred_probs[\"LightGBM (goss)\"] = lgbm_goss_trainer.predict(X_test)"
   ]
  },
  {
   "cell_type": "markdown",
   "id": "0d6fddce",
   "metadata": {
    "papermill": {
     "duration": 0.009926,
     "end_time": "2025-07-02T12:28:42.777533",
     "exception": false,
     "start_time": "2025-07-02T12:28:42.767607",
     "status": "completed"
    },
    "tags": []
   },
   "source": [
    "## LightGBM (dart)"
   ]
  },
  {
   "cell_type": "code",
   "execution_count": 16,
   "id": "20e5d14e",
   "metadata": {
    "execution": {
     "iopub.execute_input": "2025-07-02T12:28:42.798348Z",
     "iopub.status.busy": "2025-07-02T12:28:42.798060Z",
     "iopub.status.idle": "2025-07-02T12:33:43.984214Z",
     "shell.execute_reply": "2025-07-02T12:33:43.983489Z"
    },
    "papermill": {
     "duration": 301.19878,
     "end_time": "2025-07-02T12:33:43.985853",
     "exception": false,
     "start_time": "2025-07-02T12:28:42.787073",
     "status": "completed"
    },
    "tags": []
   },
   "outputs": [
    {
     "name": "stdout",
     "output_type": "stream",
     "text": [
      "Training LGBMClassifier\n",
      "\n",
      "--- Fold 0 - accuracy_score: 0.970040 - Time: 61.11 s\n",
      "--- Fold 1 - accuracy_score: 0.968421 - Time: 58.19 s\n",
      "--- Fold 2 - accuracy_score: 0.966262 - Time: 60.24 s\n",
      "--- Fold 3 - accuracy_score: 0.971120 - Time: 58.73 s\n",
      "--- Fold 4 - accuracy_score: 0.971112 - Time: 59.20 s\n",
      "\n",
      "------ Overall accuracy_score: 0.969391 - Mean accuracy_score: 0.969391 ± 0.001850 - Time: 298.23 s\n"
     ]
    }
   ],
   "source": [
    "lgbm_dart_trainer = Trainer(\n",
    "    LGBMClassifier(**lgbm_dart_params),\n",
    "    cv=CFG.cv,\n",
    "    metric=CFG.metric,\n",
    "    use_early_stopping=False,\n",
    "    task=\"binary\",\n",
    "    metric_precision=6,\n",
    ")\n",
    "\n",
    "lgbm_dart_trainer.fit(X, y)\n",
    "\n",
    "scores[\"LightGBM (dart)\"] = lgbm_dart_trainer.fold_scores\n",
    "oof_pred_probs[\"LightGBM (dart)\"] = lgbm_dart_trainer.oof_preds\n",
    "test_pred_probs[\"LightGBM (dart)\"] = lgbm_dart_trainer.predict(X_test)"
   ]
  },
  {
   "cell_type": "markdown",
   "id": "c495a5b2",
   "metadata": {
    "papermill": {
     "duration": 0.00983,
     "end_time": "2025-07-02T12:33:44.080354",
     "exception": false,
     "start_time": "2025-07-02T12:33:44.070524",
     "status": "completed"
    },
    "tags": []
   },
   "source": [
    "## AutoGluon"
   ]
  },
  {
   "cell_type": "code",
   "execution_count": 17,
   "id": "ecbcd5fa",
   "metadata": {
    "execution": {
     "iopub.execute_input": "2025-07-02T12:33:44.102321Z",
     "iopub.status.busy": "2025-07-02T12:33:44.101982Z",
     "iopub.status.idle": "2025-07-02T12:33:44.153682Z",
     "shell.execute_reply": "2025-07-02T12:33:44.152514Z"
    },
    "papermill": {
     "duration": 0.064792,
     "end_time": "2025-07-02T12:33:44.155485",
     "exception": false,
     "start_time": "2025-07-02T12:33:44.090693",
     "status": "completed"
    },
    "tags": []
   },
   "outputs": [],
   "source": [
    "oof_pred_probs_files = glob.glob(f'/kaggle/input/s05e07-personality-type-prediction-autogluon/*_oof_pred_probs_*.pkl')\n",
    "test_pred_probs_files = glob.glob(f'/kaggle/input/s05e07-personality-type-prediction-autogluon/*_test_pred_probs_*.pkl')\n",
    "\n",
    "ag_oof_pred_probs = joblib.load(oof_pred_probs_files[0])\n",
    "ag_test_pred_probs = joblib.load(test_pred_probs_files[0])\n",
    "\n",
    "ag_scores = []\n",
    "for _, val_idx in CFG.cv.split(X, y):\n",
    "    y_val = y[val_idx]\n",
    "    y_preds = ag_oof_pred_probs[val_idx]\n",
    "    score = accuracy_score(y_val, y_preds >= 0.5)\n",
    "    ag_scores.append(score)\n",
    "    \n",
    "oof_pred_probs[\"AutoGluon\"], test_pred_probs[\"AutoGluon\"], scores[\"AutoGluon\"] = ag_oof_pred_probs, ag_test_pred_probs, ag_scores"
   ]
  },
  {
   "cell_type": "markdown",
   "id": "f0509127",
   "metadata": {
    "papermill": {
     "duration": 0.010457,
     "end_time": "2025-07-02T12:33:44.176363",
     "exception": false,
     "start_time": "2025-07-02T12:33:44.165906",
     "status": "completed"
    },
    "tags": []
   },
   "source": [
    "# Ensembling with Logistic Regression"
   ]
  },
  {
   "cell_type": "code",
   "execution_count": 18,
   "id": "d8f16e26",
   "metadata": {
    "_kg_hide-input": true,
    "execution": {
     "iopub.execute_input": "2025-07-02T12:33:44.199903Z",
     "iopub.status.busy": "2025-07-02T12:33:44.199565Z",
     "iopub.status.idle": "2025-07-02T12:33:44.208004Z",
     "shell.execute_reply": "2025-07-02T12:33:44.206797Z"
    },
    "papermill": {
     "duration": 0.022259,
     "end_time": "2025-07-02T12:33:44.209899",
     "exception": false,
     "start_time": "2025-07-02T12:33:44.187640",
     "status": "completed"
    },
    "tags": []
   },
   "outputs": [],
   "source": [
    "def plot_weights(weights, title):\n",
    "    sorted_indices = np.argsort(weights[0])[::-1]\n",
    "    sorted_coeffs = np.array(weights[0])[sorted_indices]\n",
    "    sorted_model_names = np.array(list(oof_pred_probs.keys()))[sorted_indices]\n",
    "\n",
    "    plt.figure(figsize=(10, weights.shape[1] * 0.5))\n",
    "    ax = sns.barplot(x=sorted_coeffs, y=sorted_model_names, palette=\"RdYlGn_r\")\n",
    "\n",
    "    for i, (value, name) in enumerate(zip(sorted_coeffs, sorted_model_names)):\n",
    "        if value >= 0:\n",
    "            ax.text(value, i, f'{value:.3f}', va='center', ha='left', color='black')\n",
    "        else:\n",
    "            ax.text(value, i, f'{value:.3f}', va='center', ha='right', color='black')\n",
    "\n",
    "    xlim = ax.get_xlim()\n",
    "    ax.set_xlim(xlim[0] - 0.1 * abs(xlim[0]), xlim[1] + 0.1 * abs(xlim[1]))\n",
    "\n",
    "    plt.title(title)\n",
    "    plt.xlabel('')\n",
    "    plt.ylabel('')\n",
    "    plt.tight_layout()\n",
    "    plt.show()"
   ]
  },
  {
   "cell_type": "code",
   "execution_count": 19,
   "id": "0bf9473d",
   "metadata": {
    "execution": {
     "iopub.execute_input": "2025-07-02T12:33:44.232904Z",
     "iopub.status.busy": "2025-07-02T12:33:44.232580Z",
     "iopub.status.idle": "2025-07-02T12:33:44.246067Z",
     "shell.execute_reply": "2025-07-02T12:33:44.244931Z"
    },
    "papermill": {
     "duration": 0.027252,
     "end_time": "2025-07-02T12:33:44.247870",
     "exception": false,
     "start_time": "2025-07-02T12:33:44.220618",
     "status": "completed"
    },
    "tags": []
   },
   "outputs": [
    {
     "data": {
      "text/plain": [
       "['test_pred_probs.pkl']"
      ]
     },
     "execution_count": 19,
     "metadata": {},
     "output_type": "execute_result"
    }
   ],
   "source": [
    "X = pd.DataFrame(oof_pred_probs)\n",
    "X_test = pd.DataFrame(test_pred_probs)\n",
    "\n",
    "joblib.dump(oof_pred_probs, \"oof_pred_probs.pkl\")\n",
    "joblib.dump(test_pred_probs, \"test_pred_probs.pkl\")"
   ]
  },
  {
   "cell_type": "code",
   "execution_count": 20,
   "id": "4e044874",
   "metadata": {
    "_kg_hide-output": true,
    "execution": {
     "iopub.execute_input": "2025-07-02T12:33:44.269867Z",
     "iopub.status.busy": "2025-07-02T12:33:44.269539Z",
     "iopub.status.idle": "2025-07-02T12:41:42.318893Z",
     "shell.execute_reply": "2025-07-02T12:41:42.317670Z"
    },
    "papermill": {
     "duration": 478.062683,
     "end_time": "2025-07-02T12:41:42.321019",
     "exception": false,
     "start_time": "2025-07-02T12:33:44.258336",
     "status": "completed"
    },
    "scrolled": true,
    "tags": []
   },
   "outputs": [
    {
     "name": "stderr",
     "output_type": "stream",
     "text": [
      "[I 2025-07-02 12:33:44,275] A new study created in memory with name: no-name-44794a4b-1332-4286-8f97-ecaec4438f41\n",
      "[I 2025-07-02 12:33:47,172] Trial 2 finished with value: 0.9690672956689781 and parameters: {'solver_penalty': ('liblinear', 'l2'), 'C': 3.070391810241273, 'tol': 0.005149926562559744, 'fit_intercept': True, 'class_weight': 'balanced', 'threshold': 0.4232978288310111}. Best is trial 2 with value: 0.9690672956689781.\n",
      "[I 2025-07-02 12:33:47,183] Trial 0 finished with value: 0.2604729030584436 and parameters: {'solver_penalty': ('liblinear', 'l2'), 'C': 0.7866836535756894, 'tol': 0.001067684310532874, 'fit_intercept': False, 'class_weight': 'balanced', 'threshold': 0.1366531836559638}. Best is trial 2 with value: 0.9690672956689781.\n",
      "[I 2025-07-02 12:33:47,185] Trial 1 finished with value: 0.2604729030584436 and parameters: {'solver_penalty': ('lbfgs', 'l2'), 'C': 4.243478592521507, 'tol': 0.0065535843447981626, 'fit_intercept': False, 'class_weight': 'balanced', 'threshold': 0.03962950396054954}. Best is trial 2 with value: 0.9690672956689781.\n",
      "[I 2025-07-02 12:33:49,099] Trial 3 finished with value: 0.9682035396682436 and parameters: {'solver_penalty': ('newton-cg', None), 'C': 9.639415467433865, 'tol': 0.003222622190470284, 'fit_intercept': False, 'class_weight': None, 'threshold': 0.6934249743945887}. Best is trial 2 with value: 0.9690672956689781.\n",
      "[I 2025-07-02 12:33:50,284] Trial 4 finished with value: 0.9691212039069264 and parameters: {'solver_penalty': ('lbfgs', None), 'C': 8.76413917410792, 'tol': 0.008876841895936639, 'fit_intercept': True, 'class_weight': 'balanced', 'threshold': 0.8229531324132284}. Best is trial 4 with value: 0.9691212039069264.\n",
      "[I 2025-07-02 12:33:50,857] Trial 5 finished with value: 0.9691212767755907 and parameters: {'solver_penalty': ('newton-cholesky', 'l2'), 'C': 2.5141516383770544, 'tol': 0.0032727744341624456, 'fit_intercept': True, 'class_weight': 'balanced', 'threshold': 0.49736523436660085}. Best is trial 5 with value: 0.9691212767755907.\n",
      "[I 2025-07-02 12:33:51,393] Trial 6 finished with value: 0.9689053086279413 and parameters: {'solver_penalty': ('newton-cholesky', 'l2'), 'C': 8.520819499934092, 'tol': 0.004039384471733241, 'fit_intercept': True, 'class_weight': 'balanced', 'threshold': 0.675458854106969}. Best is trial 5 with value: 0.9691212767755907.\n",
      "[I 2025-07-02 12:33:52,635] Trial 7 finished with value: 0.26252428712585585 and parameters: {'solver_penalty': ('newton-cholesky', 'l2'), 'C': 9.30188505897249, 'tol': 0.0003668932779450148, 'fit_intercept': False, 'class_weight': None, 'threshold': 0.01806649917724168}. Best is trial 5 with value: 0.9691212767755907.\n",
      "[I 2025-07-02 12:33:53,722] Trial 8 finished with value: 0.2604729030584436 and parameters: {'solver_penalty': ('newton-cg', 'l2'), 'C': 1.1984250158829735, 'tol': 0.0032639964822673622, 'fit_intercept': False, 'class_weight': None, 'threshold': 0.06558234716519906}. Best is trial 5 with value: 0.9691212767755907.\n",
      "[I 2025-07-02 12:33:54,814] Trial 9 finished with value: 0.9676097037743053 and parameters: {'solver_penalty': ('newton-cholesky', None), 'C': 6.231944657388981, 'tol': 0.009817614425270143, 'fit_intercept': True, 'class_weight': 'balanced', 'threshold': 0.25351913548513916}. Best is trial 5 with value: 0.9691212767755907.\n",
      "[I 2025-07-02 12:33:55,169] Trial 10 finished with value: 0.9678796093073687 and parameters: {'solver_penalty': ('newton-cholesky', None), 'C': 3.0904748615409194, 'tol': 0.008901909751157679, 'fit_intercept': True, 'class_weight': 'balanced', 'threshold': 0.9182441617423801}. Best is trial 5 with value: 0.9691212767755907.\n",
      "[I 2025-07-02 12:33:56,029] Trial 11 finished with value: 0.9691751995872719 and parameters: {'solver_penalty': ('lbfgs', None), 'C': 4.174909850925022, 'tol': 0.005317659974567103, 'fit_intercept': False, 'class_weight': 'balanced', 'threshold': 0.890245324437323}. Best is trial 11 with value: 0.9691751995872719.\n",
      "[I 2025-07-02 12:33:56,409] Trial 12 finished with value: 0.2604729030584436 and parameters: {'solver_penalty': ('lbfgs', None), 'C': 1.967543464465673, 'tol': 0.004572330741542513, 'fit_intercept': False, 'class_weight': None, 'threshold': 0.10836595127836968}. Best is trial 11 with value: 0.9691751995872719.\n",
      "[I 2025-07-02 12:33:59,258] Trial 14 finished with value: 0.9688513712425273 and parameters: {'solver_penalty': ('lbfgs', None), 'C': 8.665490222084802, 'tol': 0.0036789953403968843, 'fit_intercept': True, 'class_weight': 'balanced', 'threshold': 0.37104875169875984}. Best is trial 11 with value: 0.9691751995872719.\n",
      "[I 2025-07-02 12:33:59,436] Trial 16 finished with value: 0.2604729030584436 and parameters: {'solver_penalty': ('newton-cg', None), 'C': 1.9578728476665364, 'tol': 0.009763475281578048, 'fit_intercept': False, 'class_weight': None, 'threshold': 0.2450056920325675}. Best is trial 11 with value: 0.9691751995872719.\n",
      "[I 2025-07-02 12:33:59,606] Trial 13 finished with value: 0.9689593188820197 and parameters: {'solver_penalty': ('newton-cholesky', None), 'C': 9.565216629178382, 'tol': 0.0037054792187224974, 'fit_intercept': True, 'class_weight': 'balanced', 'threshold': 0.7391724437875798}. Best is trial 11 with value: 0.9691751995872719.\n",
      "[I 2025-07-02 12:34:00,507] Trial 15 finished with value: 0.2708916938466785 and parameters: {'solver_penalty': ('newton-cg', None), 'C': 2.0087102554573866, 'tol': 0.0018780682623290722, 'fit_intercept': False, 'class_weight': None, 'threshold': 0.3552534855419278}. Best is trial 11 with value: 0.9691751995872719.\n",
      "[I 2025-07-02 12:34:02,401] Trial 17 finished with value: 0.9684194786684273 and parameters: {'solver_penalty': ('lbfgs', 'l2'), 'C': 4.433466625553936, 'tol': 0.0038326233921250506, 'fit_intercept': True, 'class_weight': None, 'threshold': 0.8135734146439022}. Best is trial 11 with value: 0.9691751995872719.\n",
      "[I 2025-07-02 12:34:03,246] Trial 20 finished with value: 0.9691751850135389 and parameters: {'solver_penalty': ('liblinear', 'l2'), 'C': 6.127023246478514, 'tol': 0.0027578524404696584, 'fit_intercept': True, 'class_weight': None, 'threshold': 0.5580616107640723}. Best is trial 11 with value: 0.9691751995872719.\n",
      "[I 2025-07-02 12:34:04,639] Trial 19 finished with value: 0.9692292098413503 and parameters: {'solver_penalty': ('newton-cg', 'l2'), 'C': 7.366101065878057, 'tol': 0.0071486218201106564, 'fit_intercept': True, 'class_weight': 'balanced', 'threshold': 0.6549140144637446}. Best is trial 19 with value: 0.9692292098413503.\n",
      "[I 2025-07-02 12:34:04,965] Trial 18 finished with value: 0.5233245599461355 and parameters: {'solver_penalty': ('liblinear', 'l1'), 'C': 0.8318509022728726, 'tol': 0.009638916688057027, 'fit_intercept': False, 'class_weight': None, 'threshold': 0.39129374273568707}. Best is trial 19 with value: 0.9692292098413503.\n",
      "[I 2025-07-02 12:34:04,971] Trial 21 finished with value: 0.9649644109442905 and parameters: {'solver_penalty': ('newton-cg', 'l2'), 'C': 3.2858171286506344, 'tol': 0.007190231872512263, 'fit_intercept': False, 'class_weight': None, 'threshold': 0.5616562315044986}. Best is trial 19 with value: 0.9692292098413503.\n",
      "[I 2025-07-02 12:34:06,575] Trial 22 finished with value: 0.9591340579393325 and parameters: {'solver_penalty': ('newton-cholesky', None), 'C': 9.145537116855959, 'tol': 5.163453085758178e-05, 'fit_intercept': False, 'class_weight': 'balanced', 'threshold': 0.8987290616557896}. Best is trial 19 with value: 0.9692292098413503.\n",
      "[I 2025-07-02 12:34:07,140] Trial 25 finished with value: 0.9692832055216959 and parameters: {'solver_penalty': ('liblinear', 'l1'), 'C': 2.692644864606187, 'tol': 0.003580752173992982, 'fit_intercept': True, 'class_weight': 'balanced', 'threshold': 0.5540371060580674}. Best is trial 25 with value: 0.9692832055216959.\n",
      "[I 2025-07-02 12:34:08,969] Trial 26 finished with value: 0.9691751995872719 and parameters: {'solver_penalty': ('liblinear', 'l1'), 'C': 4.6383782021267095, 'tol': 0.0052047354154739715, 'fit_intercept': True, 'class_weight': None, 'threshold': 0.6162744751007135}. Best is trial 25 with value: 0.9692832055216959.\n",
      "[I 2025-07-02 12:34:09,367] Trial 24 finished with value: 0.9676096892005723 and parameters: {'solver_penalty': ('newton-cg', 'l2'), 'C': 7.780225261233779, 'tol': 0.0018962345340532572, 'fit_intercept': True, 'class_weight': 'balanced', 'threshold': 0.16911457537795904}. Best is trial 25 with value: 0.9692832055216959.\n",
      "[I 2025-07-02 12:34:09,815] Trial 27 finished with value: 0.2604729030584436 and parameters: {'solver_penalty': ('lbfgs', 'l2'), 'C': 8.581751820302832, 'tol': 0.009700070832644056, 'fit_intercept': False, 'class_weight': 'balanced', 'threshold': 0.41348196621981403}. Best is trial 25 with value: 0.9692832055216959.\n",
      "[I 2025-07-02 12:34:11,800] Trial 28 finished with value: 0.9685274408816525 and parameters: {'solver_penalty': ('lbfgs', 'l2'), 'C': 1.071813523695072, 'tol': 0.00803021088228608, 'fit_intercept': True, 'class_weight': None, 'threshold': 0.8011673661908971}. Best is trial 25 with value: 0.9692832055216959.\n",
      "[I 2025-07-02 12:34:13,044] Trial 30 finished with value: 0.9690133291360983 and parameters: {'solver_penalty': ('lbfgs', 'l2'), 'C': 6.4551003608722555, 'tol': 0.005801912361251493, 'fit_intercept': False, 'class_weight': 'balanced', 'threshold': 0.6948270923080084}. Best is trial 25 with value: 0.9692832055216959.\n",
      "[I 2025-07-02 12:34:13,601] Trial 29 finished with value: 0.9673397982412417 and parameters: {'solver_penalty': ('newton-cholesky', None), 'C': 6.030444585384545, 'tol': 0.0021592057717811568, 'fit_intercept': True, 'class_weight': 'balanced', 'threshold': 0.2296224813011759}. Best is trial 25 with value: 0.9692832055216959.\n",
      "[I 2025-07-02 12:34:14,434] Trial 31 finished with value: 0.9682035250945106 and parameters: {'solver_penalty': ('liblinear', 'l1'), 'C': 0.31405938336479977, 'tol': 0.0033312919727361504, 'fit_intercept': True, 'class_weight': None, 'threshold': 0.8131960229044181}. Best is trial 25 with value: 0.9692832055216959.\n",
      "[I 2025-07-02 12:34:14,449] Trial 23 finished with value: 0.8478201630509237 and parameters: {'solver_penalty': ('liblinear', 'l1'), 'C': 9.933025208144866, 'tol': 0.0013598848668300095, 'fit_intercept': False, 'class_weight': None, 'threshold': 0.5223896404945222}. Best is trial 25 with value: 0.9692832055216959.\n",
      "[I 2025-07-02 12:34:15,607] Trial 32 finished with value: 0.9663680654535491 and parameters: {'solver_penalty': ('liblinear', 'l1'), 'C': 7.959981982321405, 'tol': 0.002508344066074729, 'fit_intercept': True, 'class_weight': 'balanced', 'threshold': 0.9574102918953603}. Best is trial 25 with value: 0.9692832055216959.\n",
      "[I 2025-07-02 12:34:16,660] Trial 34 finished with value: 0.9540057799424628 and parameters: {'solver_penalty': ('lbfgs', 'l2'), 'C': 3.521968250779776, 'tol': 0.005588922645551761, 'fit_intercept': False, 'class_weight': None, 'threshold': 0.5378251577256827}. Best is trial 25 with value: 0.9692832055216959.\n",
      "[I 2025-07-02 12:34:17,902] Trial 33 finished with value: 0.26360390925810956 and parameters: {'solver_penalty': ('newton-cholesky', None), 'C': 5.636633337078068, 'tol': 0.006502898323322435, 'fit_intercept': False, 'class_weight': 'balanced', 'threshold': 0.007908624992923996}. Best is trial 25 with value: 0.9692832055216959.\n",
      "[I 2025-07-02 12:34:19,092] Trial 35 finished with value: 0.9682035396682437 and parameters: {'solver_penalty': ('newton-cholesky', None), 'C': 6.199903213061491, 'tol': 0.0008556628702269708, 'fit_intercept': True, 'class_weight': 'balanced', 'threshold': 0.3455313067661787}. Best is trial 25 with value: 0.9692832055216959.\n",
      "[I 2025-07-02 12:34:19,265] Trial 37 finished with value: 0.9692291806938845 and parameters: {'solver_penalty': ('liblinear', 'l2'), 'C': 0.47310149905858245, 'tol': 0.0038093275991201462, 'fit_intercept': True, 'class_weight': None, 'threshold': 0.5292952758816224}. Best is trial 25 with value: 0.9692832055216959.\n",
      "[I 2025-07-02 12:34:19,627] Trial 36 finished with value: 0.9658821626253704 and parameters: {'solver_penalty': ('newton-cholesky', 'l2'), 'C': 4.950845872256125, 'tol': 0.008203812260321441, 'fit_intercept': True, 'class_weight': 'balanced', 'threshold': 0.13964290540887725}. Best is trial 25 with value: 0.9692832055216959.\n",
      "[I 2025-07-02 12:34:21,137] Trial 38 finished with value: 0.8328127158734183 and parameters: {'solver_penalty': ('liblinear', 'l2'), 'C': 3.1420852600970104, 'tol': 0.00794401903991842, 'fit_intercept': False, 'class_weight': 'balanced', 'threshold': 0.5211775517889407}. Best is trial 25 with value: 0.9692832055216959.\n",
      "[I 2025-07-02 12:34:21,829] Trial 39 finished with value: 0.9691751995872719 and parameters: {'solver_penalty': ('liblinear', 'l2'), 'C': 9.126000977471692, 'tol': 0.009678339500974386, 'fit_intercept': True, 'class_weight': None, 'threshold': 0.5005077390645065}. Best is trial 25 with value: 0.9692832055216959.\n",
      "[I 2025-07-02 12:34:22,016] Trial 40 finished with value: 0.9605917809976011 and parameters: {'solver_penalty': ('liblinear', 'l2'), 'C': 3.107019489425639, 'tol': 0.005453770925676774, 'fit_intercept': False, 'class_weight': None, 'threshold': 0.8109979638697542}. Best is trial 25 with value: 0.9692832055216959.\n",
      "[I 2025-07-02 12:34:24,200] Trial 41 finished with value: 0.942938793236622 and parameters: {'solver_penalty': ('newton-cholesky', 'l2'), 'C': 4.765841400272128, 'tol': 0.001789284900655838, 'fit_intercept': False, 'class_weight': 'balanced', 'threshold': 0.601432259799472}. Best is trial 25 with value: 0.9692832055216959.\n",
      "[I 2025-07-02 12:34:24,213] Trial 43 finished with value: 0.969013256267434 and parameters: {'solver_penalty': ('liblinear', 'l1'), 'C': 9.03794637128152, 'tol': 0.007494906499005607, 'fit_intercept': True, 'class_weight': None, 'threshold': 0.6862811485576447}. Best is trial 25 with value: 0.9692832055216959.\n",
      "[I 2025-07-02 12:34:25,082] Trial 42 finished with value: 0.9686893696277578 and parameters: {'solver_penalty': ('newton-cg', 'l2'), 'C': 6.076051024984498, 'tol': 0.00597408727963938, 'fit_intercept': True, 'class_weight': None, 'threshold': 0.7570022725097505}. Best is trial 25 with value: 0.9692832055216959.\n",
      "[I 2025-07-02 12:34:26,081] Trial 44 finished with value: 0.26398179157813123 and parameters: {'solver_penalty': ('newton-cholesky', None), 'C': 9.010537862337593, 'tol': 0.008418213615620692, 'fit_intercept': False, 'class_weight': 'balanced', 'threshold': 0.011303125237540401}. Best is trial 25 with value: 0.9692832055216959.\n",
      "[I 2025-07-02 12:34:27,273] Trial 46 finished with value: 0.2604729030584436 and parameters: {'solver_penalty': ('newton-cg', None), 'C': 5.6248821509040114, 'tol': 0.004234473188634155, 'fit_intercept': False, 'class_weight': None, 'threshold': 0.48359610874343184}. Best is trial 25 with value: 0.9692832055216959.\n",
      "[I 2025-07-02 12:34:27,634] Trial 47 finished with value: 0.9691212767755907 and parameters: {'solver_penalty': ('liblinear', 'l2'), 'C': 3.002912091268979, 'tol': 0.009893803740426262, 'fit_intercept': True, 'class_weight': 'balanced', 'threshold': 0.45097235821842774}. Best is trial 25 with value: 0.9692832055216959.\n",
      "[I 2025-07-02 12:34:27,646] Trial 45 finished with value: 0.9690672373740465 and parameters: {'solver_penalty': ('newton-cholesky', 'l2'), 'C': 5.694715809986473, 'tol': 0.005441074883200055, 'fit_intercept': True, 'class_weight': None, 'threshold': 0.42559825344782365}. Best is trial 25 with value: 0.9692832055216959.\n",
      "[I 2025-07-02 12:34:30,216] Trial 50 finished with value: 0.9689053669228729 and parameters: {'solver_penalty': ('liblinear', 'l1'), 'C': 7.159382424307906, 'tol': 0.002703812045274171, 'fit_intercept': True, 'class_weight': None, 'threshold': 0.12194077323680796}. Best is trial 25 with value: 0.9692832055216959.\n",
      "[I 2025-07-02 12:34:30,400] Trial 51 finished with value: 0.9690132999886325 and parameters: {'solver_penalty': ('newton-cg', 'l2'), 'C': 0.5296799768993932, 'tol': 0.00937740042331102, 'fit_intercept': False, 'class_weight': None, 'threshold': 0.6997258288542835}. Best is trial 25 with value: 0.9692832055216959.\n",
      "[I 2025-07-02 12:34:31,664] Trial 49 finished with value: 0.9682575207748563 and parameters: {'solver_penalty': ('newton-cg', None), 'C': 2.8509233089367303, 'tol': 0.0023884902261574405, 'fit_intercept': False, 'class_weight': 'balanced', 'threshold': 0.8775767249223253}. Best is trial 25 with value: 0.9692832055216959.\n",
      "[I 2025-07-02 12:34:32,376] Trial 48 finished with value: 0.9179982103456016 and parameters: {'solver_penalty': ('liblinear', 'l1'), 'C': 4.060308349559473, 'tol': 0.0009910243068408902, 'fit_intercept': False, 'class_weight': 'balanced', 'threshold': 0.6151178242511045}. Best is trial 25 with value: 0.9692832055216959.\n",
      "[I 2025-07-02 12:34:33,740] Trial 52 finished with value: 0.7395270969415564 and parameters: {'solver_penalty': ('newton-cg', 'l2'), 'C': 8.903338581129496, 'tol': 0.005357858223899025, 'fit_intercept': False, 'class_weight': 'balanced', 'threshold': 0.9860210558434847}. Best is trial 25 with value: 0.9692832055216959.\n",
      "[I 2025-07-02 12:34:34,077] Trial 54 finished with value: 0.9693371720545757 and parameters: {'solver_penalty': ('liblinear', 'l1'), 'C': 3.9206693897198654, 'tol': 0.002904415884660676, 'fit_intercept': True, 'class_weight': 'balanced', 'threshold': 0.5773184272147454}. Best is trial 54 with value: 0.9693371720545757.\n",
      "[I 2025-07-02 12:34:34,445] Trial 53 finished with value: 0.9691751995872719 and parameters: {'solver_penalty': ('newton-cg', 'l2'), 'C': 8.879840488604414, 'tol': 0.008192616101455255, 'fit_intercept': True, 'class_weight': 'balanced', 'threshold': 0.7330625157830603}. Best is trial 54 with value: 0.9693371720545757.\n",
      "[I 2025-07-02 12:34:34,809] Trial 55 finished with value: 0.9692292098413503 and parameters: {'solver_penalty': ('liblinear', 'l2'), 'C': 9.516569210188651, 'tol': 0.009262668360421656, 'fit_intercept': True, 'class_weight': None, 'threshold': 0.3945422915864917}. Best is trial 54 with value: 0.9693371720545757.\n",
      "[I 2025-07-02 12:34:36,674] Trial 56 finished with value: 0.9691752141610047 and parameters: {'solver_penalty': ('liblinear', 'l2'), 'C': 0.7610007342442586, 'tol': 0.0015899912117353335, 'fit_intercept': True, 'class_weight': None, 'threshold': 0.42628656829434647}. Best is trial 54 with value: 0.9693371720545757.\n",
      "[I 2025-07-02 12:34:37,734] Trial 58 finished with value: 0.9692831909479631 and parameters: {'solver_penalty': ('liblinear', 'l2'), 'C': 0.911572771907932, 'tol': 0.002209384986824918, 'fit_intercept': True, 'class_weight': None, 'threshold': 0.3938411181573548}. Best is trial 54 with value: 0.9693371720545757.\n",
      "[I 2025-07-02 12:34:38,116] Trial 59 finished with value: 0.9692291806938845 and parameters: {'solver_penalty': ('liblinear', 'l2'), 'C': 0.7481296896009614, 'tol': 0.004008777670403727, 'fit_intercept': True, 'class_weight': None, 'threshold': 0.5399382791220881}. Best is trial 54 with value: 0.9693371720545757.\n",
      "[I 2025-07-02 12:34:38,465] Trial 57 finished with value: 0.9691751995872719 and parameters: {'solver_penalty': ('lbfgs', None), 'C': 3.847219545309771, 'tol': 0.008077443275961839, 'fit_intercept': False, 'class_weight': 'balanced', 'threshold': 0.8539240757124194}. Best is trial 54 with value: 0.9693371720545757.\n",
      "[I 2025-07-02 12:34:40,206] Trial 60 finished with value: 0.9692292098413503 and parameters: {'solver_penalty': ('liblinear', 'l2'), 'C': 1.116600853409897, 'tol': 0.0017108534457780105, 'fit_intercept': True, 'class_weight': None, 'threshold': 0.3899032750264904}. Best is trial 54 with value: 0.9693371720545757.\n",
      "[I 2025-07-02 12:34:41,242] Trial 61 finished with value: 0.9691751995872719 and parameters: {'solver_penalty': ('liblinear', 'l1'), 'C': 3.933790187224158, 'tol': 0.0035463797598825502, 'fit_intercept': True, 'class_weight': 'balanced', 'threshold': 0.7384760246165619}. Best is trial 54 with value: 0.9693371720545757.\n",
      "[I 2025-07-02 12:34:41,617] Trial 62 finished with value: 0.9691752433084705 and parameters: {'solver_penalty': ('liblinear', 'l1'), 'C': 2.28090438519698, 'tol': 0.004092822964521516, 'fit_intercept': True, 'class_weight': 'balanced', 'threshold': 0.5437403052827311}. Best is trial 54 with value: 0.9693371720545757.\n",
      "[I 2025-07-02 12:34:42,312] Trial 63 finished with value: 0.9692832055216959 and parameters: {'solver_penalty': ('liblinear', 'l1'), 'C': 3.4819561349490504, 'tol': 0.003950504121043665, 'fit_intercept': True, 'class_weight': 'balanced', 'threshold': 0.5457438865635801}. Best is trial 54 with value: 0.9693371720545757.\n",
      "[I 2025-07-02 12:34:43,421] Trial 64 finished with value: 0.9692292244150831 and parameters: {'solver_penalty': ('liblinear', 'l1'), 'C': 1.112939661453761, 'tol': 0.0044851805759821665, 'fit_intercept': True, 'class_weight': 'balanced', 'threshold': 0.5438940485138621}. Best is trial 54 with value: 0.9693371720545757.\n",
      "[I 2025-07-02 12:34:44,422] Trial 65 finished with value: 0.9691212622018579 and parameters: {'solver_penalty': ('liblinear', 'l1'), 'C': 1.5751679374031828, 'tol': 0.004272591996872007, 'fit_intercept': True, 'class_weight': 'balanced', 'threshold': 0.5225508406692925}. Best is trial 54 with value: 0.9693371720545757.\n",
      "[I 2025-07-02 12:34:45,414] Trial 67 finished with value: 0.9689053669228729 and parameters: {'solver_penalty': ('lbfgs', 'l2'), 'C': 0.9864194195657718, 'tol': 0.003172661177639667, 'fit_intercept': True, 'class_weight': None, 'threshold': 0.15815850479840704}. Best is trial 54 with value: 0.9693371720545757.\n",
      "[I 2025-07-02 12:34:45,919] Trial 66 finished with value: 0.9689593334557527 and parameters: {'solver_penalty': ('newton-cholesky', None), 'C': 0.1552707950333322, 'tol': 0.0046254551323311795, 'fit_intercept': True, 'class_weight': None, 'threshold': 0.1977846594666353}. Best is trial 54 with value: 0.9693371720545757.\n",
      "[I 2025-07-02 12:34:48,421] Trial 68 finished with value: 0.9690672810952453 and parameters: {'solver_penalty': ('newton-cg', 'l2'), 'C': 4.394454491300479, 'tol': 0.005500371374540923, 'fit_intercept': True, 'class_weight': 'balanced', 'threshold': 0.47368556125077954}. Best is trial 54 with value: 0.9693371720545757.\n",
      "[I 2025-07-02 12:34:48,674] Trial 71 finished with value: 0.9692292098413503 and parameters: {'solver_penalty': ('lbfgs', None), 'C': 2.7837206238592263, 'tol': 0.0017915010882355665, 'fit_intercept': True, 'class_weight': 'balanced', 'threshold': 0.6640081496969065}. Best is trial 54 with value: 0.9693371720545757.\n",
      "[I 2025-07-02 12:34:49,080] Trial 69 finished with value: 0.9692292244150831 and parameters: {'solver_penalty': ('newton-cg', 'l2'), 'C': 5.5001217632728325, 'tol': 0.005743540252897108, 'fit_intercept': True, 'class_weight': 'balanced', 'threshold': 0.6160930564849153}. Best is trial 54 with value: 0.9693371720545757.\n",
      "[I 2025-07-02 12:34:49,878] Trial 70 finished with value: 0.9691212622018579 and parameters: {'solver_penalty': ('newton-cg', 'l2'), 'C': 3.1707314623328013, 'tol': 0.006876793715752247, 'fit_intercept': True, 'class_weight': 'balanced', 'threshold': 0.5184077220250347}. Best is trial 54 with value: 0.9693371720545757.\n",
      "[I 2025-07-02 12:34:51,429] Trial 72 finished with value: 0.9691212622018579 and parameters: {'solver_penalty': ('lbfgs', None), 'C': 3.8220227031899756, 'tol': 0.004077702293485531, 'fit_intercept': True, 'class_weight': 'balanced', 'threshold': 0.523814704672542}. Best is trial 54 with value: 0.9693371720545757.\n",
      "[I 2025-07-02 12:34:52,558] Trial 73 finished with value: 0.9690133145623653 and parameters: {'solver_penalty': ('newton-cholesky', None), 'C': 7.682025511237774, 'tol': 0.007041458081862599, 'fit_intercept': True, 'class_weight': 'balanced', 'threshold': 0.5810064832930969}. Best is trial 54 with value: 0.9693371720545757.\n",
      "[I 2025-07-02 12:34:54,055] Trial 74 finished with value: 0.9692292098413503 and parameters: {'solver_penalty': ('newton-cg', None), 'C': 3.688602118362586, 'tol': 0.005758487759285328, 'fit_intercept': True, 'class_weight': 'balanced', 'threshold': 0.6827788857935387}. Best is trial 54 with value: 0.9693371720545757.\n",
      "[I 2025-07-02 12:34:54,608] Trial 75 finished with value: 0.9691752578822033 and parameters: {'solver_penalty': ('liblinear', 'l1'), 'C': 4.072959306449762, 'tol': 0.00015465309363579122, 'fit_intercept': True, 'class_weight': 'balanced', 'threshold': 0.48019525593768714}. Best is trial 54 with value: 0.9693371720545757.\n",
      "[I 2025-07-02 12:34:54,803] Trial 77 finished with value: 0.2604729030584436 and parameters: {'solver_penalty': ('lbfgs', None), 'C': 8.489821413375132, 'tol': 0.009852247819399314, 'fit_intercept': False, 'class_weight': None, 'threshold': 0.30730060189260894}. Best is trial 54 with value: 0.9693371720545757.\n",
      "[I 2025-07-02 12:34:55,247] Trial 76 finished with value: 0.9692831909479629 and parameters: {'solver_penalty': ('lbfgs', 'l2'), 'C': 6.848971080079575, 'tol': 0.005331884824909121, 'fit_intercept': True, 'class_weight': 'balanced', 'threshold': 0.6870532438969892}. Best is trial 54 with value: 0.9693371720545757.\n",
      "[I 2025-07-02 12:34:57,435] Trial 79 finished with value: 0.9689593334557527 and parameters: {'solver_penalty': ('liblinear', 'l2'), 'C': 7.827789463887361, 'tol': 0.009603811725692423, 'fit_intercept': True, 'class_weight': None, 'threshold': 0.17039499274511816}. Best is trial 54 with value: 0.9693371720545757.\n",
      "[I 2025-07-02 12:34:57,445] Trial 78 finished with value: 0.9691752287347377 and parameters: {'solver_penalty': ('lbfgs', None), 'C': 9.303371395440351, 'tol': 0.00898811359701352, 'fit_intercept': True, 'class_weight': None, 'threshold': 0.40168869277057434}. Best is trial 54 with value: 0.9693371720545757.\n",
      "[I 2025-07-02 12:34:59,367] Trial 80 finished with value: 0.9691212622018579 and parameters: {'solver_penalty': ('newton-cg', None), 'C': 9.538217799574564, 'tol': 0.006963703156423294, 'fit_intercept': True, 'class_weight': None, 'threshold': 0.2870174071776817}. Best is trial 54 with value: 0.9693371720545757.\n",
      "[I 2025-07-02 12:34:59,948] Trial 81 finished with value: 0.9692291806938845 and parameters: {'solver_penalty': ('lbfgs', 'l2'), 'C': 8.520987843477368, 'tol': 0.0027097312990002806, 'fit_intercept': True, 'class_weight': 'balanced', 'threshold': 0.7856073502436023}. Best is trial 54 with value: 0.9693371720545757.\n",
      "[I 2025-07-02 12:35:01,034] Trial 82 finished with value: 0.9689592605870881 and parameters: {'solver_penalty': ('lbfgs', 'l2'), 'C': 6.646249414772939, 'tol': 0.0051517754114873415, 'fit_intercept': True, 'class_weight': 'balanced', 'threshold': 0.8850808721729996}. Best is trial 54 with value: 0.9693371720545757.\n",
      "[I 2025-07-02 12:35:01,571] Trial 83 finished with value: 0.9691751995872719 and parameters: {'solver_penalty': ('lbfgs', 'l2'), 'C': 4.531497685119417, 'tol': 0.005486770768727472, 'fit_intercept': True, 'class_weight': 'balanced', 'threshold': 0.8601655049616026}. Best is trial 54 with value: 0.9693371720545757.\n",
      "[I 2025-07-02 12:35:03,122] Trial 85 finished with value: 0.9692292098413503 and parameters: {'solver_penalty': ('lbfgs', 'l2'), 'C': 6.560369050788105, 'tol': 0.005985357048674971, 'fit_intercept': True, 'class_weight': 'balanced', 'threshold': 0.671028954767713}. Best is trial 54 with value: 0.9693371720545757.\n",
      "[I 2025-07-02 12:35:03,372] Trial 84 finished with value: 0.9692291806938845 and parameters: {'solver_penalty': ('lbfgs', 'l2'), 'C': 6.3565921467722, 'tol': 0.007207845638571622, 'fit_intercept': True, 'class_weight': 'balanced', 'threshold': 0.7670823328262582}. Best is trial 54 with value: 0.9693371720545757.\n",
      "[I 2025-07-02 12:35:05,847] Trial 89 finished with value: 0.9691752578822033 and parameters: {'solver_penalty': ('liblinear', 'l2'), 'C': 5.634025167831069, 'tol': 0.004901160063287136, 'fit_intercept': True, 'class_weight': 'balanced', 'threshold': 0.5181903177382059}. Best is trial 54 with value: 0.9693371720545757.\n",
      "[I 2025-07-02 12:35:05,850] Trial 86 finished with value: 0.9690672810952453 and parameters: {'solver_penalty': ('newton-cg', None), 'C': 0.3469570967810185, 'tol': 0.003102861303328582, 'fit_intercept': True, 'class_weight': 'balanced', 'threshold': 0.49061080169292626}. Best is trial 54 with value: 0.9693371720545757.\n",
      "[I 2025-07-02 12:35:06,230] Trial 87 finished with value: 0.9691751995872719 and parameters: {'solver_penalty': ('newton-cg', 'l2'), 'C': 5.815262998563764, 'tol': 0.0043945600794273966, 'fit_intercept': True, 'class_weight': 'balanced', 'threshold': 0.7026853014255016}. Best is trial 54 with value: 0.9693371720545757.\n",
      "[I 2025-07-02 12:35:08,018] Trial 88 finished with value: 0.9692292098413503 and parameters: {'solver_penalty': ('newton-cg', 'l2'), 'C': 7.038280821478375, 'tol': 0.0032921295263267777, 'fit_intercept': True, 'class_weight': 'balanced', 'threshold': 0.6498092342389463}. Best is trial 54 with value: 0.9693371720545757.\n",
      "[I 2025-07-02 12:35:09,304] Trial 91 finished with value: 0.9690672810952453 and parameters: {'solver_penalty': ('lbfgs', 'l2'), 'C': 3.9551387917500973, 'tol': 0.002968930250831789, 'fit_intercept': True, 'class_weight': 'balanced', 'threshold': 0.506816922874506}. Best is trial 54 with value: 0.9693371720545757.\n",
      "[I 2025-07-02 12:35:09,851] Trial 92 finished with value: 0.9687973609884487 and parameters: {'solver_penalty': ('newton-cholesky', None), 'C': 0.7243190671674511, 'tol': 0.004887002975292426, 'fit_intercept': True, 'class_weight': 'balanced', 'threshold': 0.6979109925378504}. Best is trial 54 with value: 0.9693371720545757.\n",
      "[I 2025-07-02 12:35:10,238] Trial 93 finished with value: 0.9692291806938845 and parameters: {'solver_penalty': ('liblinear', 'l1'), 'C': 2.6959838277873596, 'tol': 0.002811705635438585, 'fit_intercept': True, 'class_weight': None, 'threshold': 0.48316753015937935}. Best is trial 54 with value: 0.9693371720545757.\n",
      "[I 2025-07-02 12:35:10,620] Trial 90 finished with value: 0.9692831909479629 and parameters: {'solver_penalty': ('newton-cg', 'l2'), 'C': 7.616379844461236, 'tol': 0.00467119844817508, 'fit_intercept': True, 'class_weight': 'balanced', 'threshold': 0.6645900822641477}. Best is trial 54 with value: 0.9693371720545757.\n",
      "[I 2025-07-02 12:35:13,172] Trial 97 finished with value: 0.9689593334557527 and parameters: {'solver_penalty': ('liblinear', 'l1'), 'C': 9.06481927335764, 'tol': 0.008146407693410532, 'fit_intercept': True, 'class_weight': 'balanced', 'threshold': 0.3564524237430154}. Best is trial 54 with value: 0.9693371720545757.\n",
      "[I 2025-07-02 12:35:13,560] Trial 96 finished with value: 0.9691212184806591 and parameters: {'solver_penalty': ('newton-cholesky', 'l2'), 'C': 2.152152003116851, 'tol': 0.0009807784757851798, 'fit_intercept': True, 'class_weight': None, 'threshold': 0.5236454603023052}. Best is trial 54 with value: 0.9693371720545757.\n",
      "[I 2025-07-02 12:35:14,101] Trial 94 finished with value: 0.9692291661201518 and parameters: {'solver_penalty': ('newton-cg', 'l2'), 'C': 1.5507969561330235, 'tol': 0.0002260112256897923, 'fit_intercept': True, 'class_weight': None, 'threshold': 0.5506195695246971}. Best is trial 54 with value: 0.9693371720545757.\n",
      "[I 2025-07-02 12:35:14,297] Trial 95 finished with value: 0.9692832055216959 and parameters: {'solver_penalty': ('newton-cg', 'l2'), 'C': 1.4486190903919265, 'tol': 0.002794380373546688, 'fit_intercept': True, 'class_weight': None, 'threshold': 0.30588974478065234}. Best is trial 54 with value: 0.9693371720545757.\n",
      "[I 2025-07-02 12:35:15,909] Trial 99 finished with value: 0.9691212184806591 and parameters: {'solver_penalty': ('liblinear', 'l1'), 'C': 0.6217383399692009, 'tol': 0.006082933404372522, 'fit_intercept': True, 'class_weight': 'balanced', 'threshold': 0.8514608175982983}. Best is trial 54 with value: 0.9693371720545757.\n",
      "[I 2025-07-02 12:35:16,960] Trial 98 finished with value: 0.9690133291360983 and parameters: {'solver_penalty': ('newton-cg', 'l2'), 'C': 1.3337574188295696, 'tol': 0.004286410439055053, 'fit_intercept': False, 'class_weight': 'balanced', 'threshold': 0.6882618092198319}. Best is trial 54 with value: 0.9693371720545757.\n",
      "[I 2025-07-02 12:35:18,418] Trial 100 finished with value: 0.9690133291360983 and parameters: {'solver_penalty': ('newton-cg', 'l2'), 'C': 9.812839311381177, 'tol': 0.008481579899586447, 'fit_intercept': True, 'class_weight': None, 'threshold': 0.15469631686410693}. Best is trial 54 with value: 0.9693371720545757.\n",
      "[I 2025-07-02 12:35:18,447] Trial 102 finished with value: 0.8770211435716722 and parameters: {'solver_penalty': ('liblinear', 'l2'), 'C': 1.6463710638229632, 'tol': 0.003861827490336085, 'fit_intercept': True, 'class_weight': 'balanced', 'threshold': 0.06517097319458975}. Best is trial 54 with value: 0.9693371720545757.\n",
      "[I 2025-07-02 12:35:19,018] Trial 101 finished with value: 0.9693371866283087 and parameters: {'solver_penalty': ('newton-cg', 'l2'), 'C': 2.8296323779600945, 'tol': 0.004805709889768511, 'fit_intercept': True, 'class_weight': None, 'threshold': 0.3170179653594089}. Best is trial 101 with value: 0.9693371866283087.\n",
      "[I 2025-07-02 12:35:20,977] Trial 104 finished with value: 0.864446941410679 and parameters: {'solver_penalty': ('liblinear', 'l1'), 'C': 4.0680748386650425, 'tol': 0.005144835299827652, 'fit_intercept': False, 'class_weight': 'balanced', 'threshold': 0.533793773745158}. Best is trial 101 with value: 0.9693371866283087.\n",
      "[I 2025-07-02 12:35:21,005] Trial 103 finished with value: 0.9671238446673254 and parameters: {'solver_penalty': ('newton-cg', 'l2'), 'C': 6.306152331419461, 'tol': 0.007039718768411387, 'fit_intercept': False, 'class_weight': 'balanced', 'threshold': 0.6361606655447047}. Best is trial 101 with value: 0.9693371866283087.\n",
      "[I 2025-07-02 12:35:22,802] Trial 105 finished with value: 0.9689053669228729 and parameters: {'solver_penalty': ('newton-cg', 'l2'), 'C': 7.982420214180356, 'tol': 0.006375958876327905, 'fit_intercept': True, 'class_weight': 'balanced', 'threshold': 0.3461534689223555}. Best is trial 101 with value: 0.9693371866283087.\n",
      "[I 2025-07-02 12:35:22,806] Trial 106 finished with value: 0.9691212622018579 and parameters: {'solver_penalty': ('newton-cg', 'l2'), 'C': 2.2847899676573933, 'tol': 0.004509924181702524, 'fit_intercept': True, 'class_weight': None, 'threshold': 0.27800159408324354}. Best is trial 101 with value: 0.9693371866283087.\n",
      "[I 2025-07-02 12:35:24,245] Trial 107 finished with value: 0.9692292244150833 and parameters: {'solver_penalty': ('newton-cg', 'l2'), 'C': 2.5180578198044987, 'tol': 0.005551527871090497, 'fit_intercept': True, 'class_weight': None, 'threshold': 0.3150187003976568}. Best is trial 101 with value: 0.9693371866283087.\n",
      "[I 2025-07-02 12:35:24,948] Trial 108 finished with value: 0.9691212622018579 and parameters: {'solver_penalty': ('newton-cg', 'l2'), 'C': 3.7606383211563164, 'tol': 0.004590223468021513, 'fit_intercept': True, 'class_weight': None, 'threshold': 0.27234108674014085}. Best is trial 101 with value: 0.9693371866283087.\n",
      "[I 2025-07-02 12:35:26,346] Trial 109 finished with value: 0.9692832055216959 and parameters: {'solver_penalty': ('newton-cg', 'l2'), 'C': 4.419958521245544, 'tol': 0.0067549407001958675, 'fit_intercept': True, 'class_weight': None, 'threshold': 0.3316598902758375}. Best is trial 101 with value: 0.9693371866283087.\n",
      "[I 2025-07-02 12:35:26,529] Trial 110 finished with value: 0.2762901834250021 and parameters: {'solver_penalty': ('newton-cg', 'l2'), 'C': 2.4569243698393906, 'tol': 0.003157738375540366, 'fit_intercept': False, 'class_weight': None, 'threshold': 0.4242597023229974}. Best is trial 101 with value: 0.9693371866283087.\n",
      "[I 2025-07-02 12:35:26,891] Trial 111 finished with value: 0.9689593334557527 and parameters: {'solver_penalty': ('liblinear', 'l1'), 'C': 5.265266652751935, 'tol': 0.0028613748450867335, 'fit_intercept': True, 'class_weight': 'balanced', 'threshold': 0.3571089909676865}. Best is trial 101 with value: 0.9693371866283087.\n",
      "[I 2025-07-02 12:35:29,546] Trial 113 finished with value: 0.9691752287347377 and parameters: {'solver_penalty': ('lbfgs', 'l2'), 'C': 4.619340077498004, 'tol': 0.00919676897907628, 'fit_intercept': True, 'class_weight': None, 'threshold': 0.41251551755838883}. Best is trial 101 with value: 0.9693371866283087.\n",
      "[I 2025-07-02 12:35:30,107] Trial 112 finished with value: 0.2604729030584436 and parameters: {'solver_penalty': ('newton-cg', 'l2'), 'C': 0.2260290648892993, 'tol': 0.00266645703829701, 'fit_intercept': True, 'class_weight': None, 'threshold': 0.011350024193567065}. Best is trial 101 with value: 0.9693371866283087.\n",
      "[I 2025-07-02 12:35:30,132] Trial 115 finished with value: 0.9690132999886325 and parameters: {'solver_penalty': ('lbfgs', None), 'C': 3.748696383087087, 'tol': 0.008742129729125022, 'fit_intercept': True, 'class_weight': None, 'threshold': 0.2414062902680309}. Best is trial 101 with value: 0.9693371866283087.\n",
      "[I 2025-07-02 12:35:30,520] Trial 114 finished with value: 0.9691212767755907 and parameters: {'solver_penalty': ('newton-cholesky', None), 'C': 4.771526797568597, 'tol': 0.007327846610024894, 'fit_intercept': True, 'class_weight': None, 'threshold': 0.3485004565457099}. Best is trial 101 with value: 0.9693371866283087.\n",
      "[I 2025-07-02 12:35:33,077] Trial 119 finished with value: 0.9690133291360983 and parameters: {'solver_penalty': ('liblinear', 'l1'), 'C': 2.3952543574385317, 'tol': 0.007073826077407266, 'fit_intercept': True, 'class_weight': None, 'threshold': 0.11503331121257304}. Best is trial 101 with value: 0.9693371866283087.\n",
      "[I 2025-07-02 12:35:33,272] Trial 118 finished with value: 0.2604729030584436 and parameters: {'solver_penalty': ('newton-cg', 'l2'), 'C': 3.300698367326257, 'tol': 0.007649415855504184, 'fit_intercept': False, 'class_weight': None, 'threshold': 0.15843982578596194}. Best is trial 101 with value: 0.9693371866283087.\n",
      "[I 2025-07-02 12:35:33,659] Trial 116 finished with value: 0.9690133145623653 and parameters: {'solver_penalty': ('newton-cg', 'l2'), 'C': 5.475623727625983, 'tol': 0.007798274882303835, 'fit_intercept': True, 'class_weight': None, 'threshold': 0.212405950809995}. Best is trial 101 with value: 0.9693371866283087.\n",
      "[I 2025-07-02 12:35:34,071] Trial 117 finished with value: 0.9691212184806591 and parameters: {'solver_penalty': ('newton-cg', 'l2'), 'C': 4.0380329501886, 'tol': 0.007207029901337514, 'fit_intercept': True, 'class_weight': None, 'threshold': 0.4538293741702316}. Best is trial 101 with value: 0.9693371866283087.\n",
      "[I 2025-07-02 12:35:36,461] Trial 120 finished with value: 0.9690132999886325 and parameters: {'solver_penalty': ('newton-cg', 'l2'), 'C': 0.8057584581023916, 'tol': 0.008811648183721335, 'fit_intercept': True, 'class_weight': None, 'threshold': 0.23278604370872802}. Best is trial 101 with value: 0.9693371866283087.\n",
      "[I 2025-07-02 12:35:36,954] Trial 121 finished with value: 0.9691751995872719 and parameters: {'solver_penalty': ('newton-cg', 'l2'), 'C': 3.3158678864933244, 'tol': 0.00524251898754921, 'fit_intercept': True, 'class_weight': None, 'threshold': 0.5224057261199913}. Best is trial 101 with value: 0.9693371866283087.\n",
      "[I 2025-07-02 12:35:37,579] Trial 122 finished with value: 0.9690672956689781 and parameters: {'solver_penalty': ('newton-cholesky', 'l2'), 'C': 0.5194367325511742, 'tol': 0.006185733044912096, 'fit_intercept': True, 'class_weight': 'balanced', 'threshold': 0.4659737616561139}. Best is trial 101 with value: 0.9693371866283087.\n",
      "[I 2025-07-02 12:35:38,633] Trial 123 finished with value: 0.9691751995872719 and parameters: {'solver_penalty': ('newton-cg', 'l2'), 'C': 9.230985645376233, 'tol': 0.004175728663592837, 'fit_intercept': True, 'class_weight': None, 'threshold': 0.5239407375709872}. Best is trial 101 with value: 0.9693371866283087.\n",
      "[I 2025-07-02 12:35:39,511] Trial 125 finished with value: 0.9690133291360983 and parameters: {'solver_penalty': ('liblinear', 'l1'), 'C': 0.6488639710740935, 'tol': 0.0071132465674956695, 'fit_intercept': True, 'class_weight': 'balanced', 'threshold': 0.342517160102065}. Best is trial 101 with value: 0.9693371866283087.\n",
      "[I 2025-07-02 12:35:39,516] Trial 124 finished with value: 0.9691752578822033 and parameters: {'solver_penalty': ('liblinear', 'l2'), 'C': 3.051250496375023, 'tol': 0.0024546776215958435, 'fit_intercept': True, 'class_weight': 'balanced', 'threshold': 0.5289420196861413}. Best is trial 101 with value: 0.9693371866283087.\n",
      "[I 2025-07-02 12:35:41,830] Trial 129 finished with value: 0.9691212622018579 and parameters: {'solver_penalty': ('liblinear', 'l1'), 'C': 4.262687475200986, 'tol': 0.004484786298549004, 'fit_intercept': True, 'class_weight': 'balanced', 'threshold': 0.5224354117449729}. Best is trial 101 with value: 0.9693371866283087.\n",
      "[I 2025-07-02 12:35:42,039] Trial 126 finished with value: 0.9692291806938845 and parameters: {'solver_penalty': ('newton-cg', 'l2'), 'C': 4.828266165313875, 'tol': 0.009328614160600738, 'fit_intercept': True, 'class_weight': 'balanced', 'threshold': 0.7724294897537429}. Best is trial 101 with value: 0.9693371866283087.\n",
      "[I 2025-07-02 12:35:43,147] Trial 127 finished with value: 0.9692831909479629 and parameters: {'solver_penalty': ('newton-cg', 'l2'), 'C': 8.902082739230625, 'tol': 0.004950132458216173, 'fit_intercept': True, 'class_weight': 'balanced', 'threshold': 0.6719530977852024}. Best is trial 101 with value: 0.9693371866283087.\n",
      "[I 2025-07-02 12:35:43,681] Trial 128 finished with value: 0.9693371866283087 and parameters: {'solver_penalty': ('newton-cg', None), 'C': 7.425778052640704, 'tol': 0.004774698828273907, 'fit_intercept': True, 'class_weight': 'balanced', 'threshold': 0.5978072231178178}. Best is trial 101 with value: 0.9693371866283087.\n",
      "[I 2025-07-02 12:35:45,072] Trial 131 finished with value: 0.9693371866283087 and parameters: {'solver_penalty': ('newton-cg', None), 'C': 2.3124424196335447, 'tol': 0.005351490001490341, 'fit_intercept': True, 'class_weight': None, 'threshold': 0.36455513474766704}. Best is trial 101 with value: 0.9693371866283087.\n",
      "[I 2025-07-02 12:35:45,470] Trial 130 finished with value: 0.9688513712425273 and parameters: {'solver_penalty': ('newton-cg', None), 'C': 0.9433343951496381, 'tol': 0.002160358878665761, 'fit_intercept': True, 'class_weight': None, 'threshold': 0.16762417805414254}. Best is trial 101 with value: 0.9693371866283087.\n",
      "[I 2025-07-02 12:35:46,890] Trial 133 finished with value: 0.2604729030584436 and parameters: {'solver_penalty': ('newton-cg', 'l2'), 'C': 8.705528265608656, 'tol': 0.0035187277413263334, 'fit_intercept': False, 'class_weight': 'balanced', 'threshold': 0.4115325231297965}. Best is trial 101 with value: 0.9693371866283087.\n",
      "[I 2025-07-02 12:35:47,281] Trial 132 finished with value: 0.9691751995872719 and parameters: {'solver_penalty': ('newton-cg', 'l2'), 'C': 9.77348664715108, 'tol': 0.005047193744629728, 'fit_intercept': True, 'class_weight': 'balanced', 'threshold': 0.690898274873371}. Best is trial 101 with value: 0.9693371866283087.\n",
      "[I 2025-07-02 12:35:48,738] Trial 135 finished with value: 0.9692832055216959 and parameters: {'solver_penalty': ('newton-cg', None), 'C': 2.2865896905254806, 'tol': 0.004819877383657317, 'fit_intercept': True, 'class_weight': None, 'threshold': 0.3334437820816944}. Best is trial 101 with value: 0.9693371866283087.\n",
      "[I 2025-07-02 12:35:49,082] Trial 134 finished with value: 0.9689592605870881 and parameters: {'solver_penalty': ('newton-cg', 'l2'), 'C': 9.889478237284308, 'tol': 0.004877678513725719, 'fit_intercept': True, 'class_weight': 'balanced', 'threshold': 0.8731559867517864}. Best is trial 101 with value: 0.9693371866283087.\n",
      "[I 2025-07-02 12:35:50,978] Trial 136 finished with value: 0.9692832055216959 and parameters: {'solver_penalty': ('newton-cg', None), 'C': 8.08953414239844, 'tol': 0.005836962206074137, 'fit_intercept': True, 'class_weight': 'balanced', 'threshold': 0.5828164636721301}. Best is trial 101 with value: 0.9693371866283087.\n",
      "[I 2025-07-02 12:35:51,398] Trial 137 finished with value: 0.9692291806938845 and parameters: {'solver_penalty': ('newton-cg', None), 'C': 6.624841596854653, 'tol': 0.006562474684594783, 'fit_intercept': True, 'class_weight': 'balanced', 'threshold': 0.7776814777897729}. Best is trial 101 with value: 0.9693371866283087.\n",
      "[I 2025-07-02 12:35:52,175] Trial 138 finished with value: 0.9690672810952453 and parameters: {'solver_penalty': ('newton-cg', None), 'C': 0.8643216991640246, 'tol': 0.006578608688963599, 'fit_intercept': True, 'class_weight': None, 'threshold': 0.26273771982464833}. Best is trial 101 with value: 0.9693371866283087.\n",
      "[I 2025-07-02 12:35:52,572] Trial 139 finished with value: 0.9693371866283087 and parameters: {'solver_penalty': ('newton-cg', None), 'C': 2.6847965268477796, 'tol': 0.005410845601088365, 'fit_intercept': True, 'class_weight': None, 'threshold': 0.34548493778261674}. Best is trial 101 with value: 0.9693371866283087.\n",
      "[I 2025-07-02 12:35:54,371] Trial 140 finished with value: 0.9693371866283087 and parameters: {'solver_penalty': ('newton-cg', None), 'C': 3.93638984844374, 'tol': 0.005940601188348316, 'fit_intercept': True, 'class_weight': None, 'threshold': 0.3485467687948396}. Best is trial 101 with value: 0.9693371866283087.\n",
      "[I 2025-07-02 12:35:55,415] Trial 141 finished with value: 0.9692831909479629 and parameters: {'solver_penalty': ('newton-cg', None), 'C': 2.3247132631709713, 'tol': 0.0030363319308613483, 'fit_intercept': True, 'class_weight': None, 'threshold': 0.41222844971401285}. Best is trial 101 with value: 0.9693371866283087.\n",
      "[I 2025-07-02 12:35:55,777] Trial 143 finished with value: 0.9691751995872719 and parameters: {'solver_penalty': ('newton-cg', None), 'C': 5.303114392255081, 'tol': 0.005498857235485484, 'fit_intercept': True, 'class_weight': None, 'threshold': 0.485867722779168}. Best is trial 101 with value: 0.9693371866283087.\n",
      "[I 2025-07-02 12:35:56,329] Trial 142 finished with value: 0.9690132999886325 and parameters: {'solver_penalty': ('newton-cg', None), 'C': 9.34088866350181, 'tol': 0.0031823241693220063, 'fit_intercept': True, 'class_weight': 'balanced', 'threshold': 0.41889336284083023}. Best is trial 101 with value: 0.9693371866283087.\n",
      "[I 2025-07-02 12:35:57,906] Trial 144 finished with value: 0.9690132999886325 and parameters: {'solver_penalty': ('newton-cg', None), 'C': 3.869009161436125, 'tol': 0.004920249031049462, 'fit_intercept': True, 'class_weight': None, 'threshold': 0.2431478803763439}. Best is trial 101 with value: 0.9693371866283087.\n",
      "[I 2025-07-02 12:35:58,799] Trial 145 finished with value: 0.9689053669228729 and parameters: {'solver_penalty': ('newton-cg', None), 'C': 5.8080555559723255, 'tol': 0.005722464224634506, 'fit_intercept': True, 'class_weight': None, 'threshold': 0.17431321724553717}. Best is trial 101 with value: 0.9693371866283087.\n",
      "[I 2025-07-02 12:35:59,003] Trial 146 finished with value: 0.9692831909479629 and parameters: {'solver_penalty': ('newton-cg', None), 'C': 2.610736952593279, 'tol': 0.0063500062676683155, 'fit_intercept': True, 'class_weight': None, 'threshold': 0.4313601783139601}. Best is trial 101 with value: 0.9693371866283087.\n",
      "[I 2025-07-02 12:36:00,786] Trial 148 finished with value: 0.9692832055216961 and parameters: {'solver_penalty': ('lbfgs', None), 'C': 1.6382854561803049, 'tol': 0.004072149112945585, 'fit_intercept': True, 'class_weight': None, 'threshold': 0.36314233202040247}. Best is trial 101 with value: 0.9693371866283087.\n",
      "[I 2025-07-02 12:36:00,976] Trial 147 finished with value: 0.9690133145623653 and parameters: {'solver_penalty': ('newton-cg', None), 'C': 7.686889694414823, 'tol': 0.00702426428161769, 'fit_intercept': True, 'class_weight': 'balanced', 'threshold': 0.3861432480406065}. Best is trial 101 with value: 0.9693371866283087.\n",
      "[I 2025-07-02 12:36:03,669] Trial 151 finished with value: 0.9691751995872719 and parameters: {'solver_penalty': ('lbfgs', None), 'C': 3.492907314441002, 'tol': 0.005710470782465698, 'fit_intercept': True, 'class_weight': None, 'threshold': 0.4740834871608157}. Best is trial 101 with value: 0.9693371866283087.\n",
      "[I 2025-07-02 12:36:03,875] Trial 149 finished with value: 0.9692831909479629 and parameters: {'solver_penalty': ('newton-cg', None), 'C': 7.702982963676297, 'tol': 0.003265746849057321, 'fit_intercept': True, 'class_weight': 'balanced', 'threshold': 0.6694967108295532}. Best is trial 101 with value: 0.9693371866283087.\n",
      "[I 2025-07-02 12:36:04,272] Trial 150 finished with value: 0.9691212622018579 and parameters: {'solver_penalty': ('newton-cg', None), 'C': 7.847929708216251, 'tol': 0.006904978403244944, 'fit_intercept': True, 'class_weight': 'balanced', 'threshold': 0.5179731828809714}. Best is trial 101 with value: 0.9693371866283087.\n",
      "[I 2025-07-02 12:36:04,280] Trial 152 finished with value: 0.9693371866283087 and parameters: {'solver_penalty': ('lbfgs', None), 'C': 1.0015307941857654, 'tol': 0.004049336924673358, 'fit_intercept': True, 'class_weight': None, 'threshold': 0.3293532336130291}. Best is trial 101 with value: 0.9693371866283087.\n",
      "[I 2025-07-02 12:36:07,638] Trial 156 finished with value: 0.9690132999886325 and parameters: {'solver_penalty': ('lbfgs', None), 'C': 0.6628365566198284, 'tol': 0.003080813882585586, 'fit_intercept': True, 'class_weight': None, 'threshold': 0.21413480840322502}. Best is trial 101 with value: 0.9693371866283087.\n",
      "[I 2025-07-02 12:36:08,006] Trial 155 finished with value: 0.9689593334557527 and parameters: {'solver_penalty': ('lbfgs', None), 'C': 1.67864586591114, 'tol': 0.0024273751711933055, 'fit_intercept': True, 'class_weight': None, 'threshold': 0.1776544036365713}. Best is trial 101 with value: 0.9693371866283087.\n",
      "[I 2025-07-02 12:36:08,017] Trial 154 finished with value: 0.9691212622018579 and parameters: {'solver_penalty': ('newton-cholesky', 'l2'), 'C': 1.9817233530679443, 'tol': 0.005580953479583865, 'fit_intercept': True, 'class_weight': None, 'threshold': 0.33186414302177547}. Best is trial 101 with value: 0.9693371866283087.\n",
      "[I 2025-07-02 12:36:09,082] Trial 153 finished with value: 0.9692832055216959 and parameters: {'solver_penalty': ('newton-cg', None), 'C': 6.906129264974547, 'tol': 0.0032706505633471323, 'fit_intercept': True, 'class_weight': 'balanced', 'threshold': 0.5853550694775355}. Best is trial 101 with value: 0.9693371866283087.\n",
      "[I 2025-07-02 12:36:11,417] Trial 158 finished with value: 0.9690132999886325 and parameters: {'solver_penalty': ('lbfgs', None), 'C': 1.4635615327745288, 'tol': 0.005687227395729513, 'fit_intercept': True, 'class_weight': None, 'threshold': 0.2555985796379907}. Best is trial 101 with value: 0.9693371866283087.\n",
      "[I 2025-07-02 12:36:11,798] Trial 157 finished with value: 0.9692291661201518 and parameters: {'solver_penalty': ('lbfgs', None), 'C': 0.10439937724074566, 'tol': 0.004188741151639148, 'fit_intercept': True, 'class_weight': None, 'threshold': 0.611364784218646}. Best is trial 101 with value: 0.9693371866283087.\n",
      "[I 2025-07-02 12:36:12,040] Trial 159 finished with value: 0.9692291806938845 and parameters: {'solver_penalty': ('lbfgs', None), 'C': 0.4657201117928423, 'tol': 0.0013440124639378867, 'fit_intercept': True, 'class_weight': None, 'threshold': 0.5637924938195963}. Best is trial 101 with value: 0.9693371866283087.\n",
      "[I 2025-07-02 12:36:12,846] Trial 160 finished with value: 0.9692291806938845 and parameters: {'solver_penalty': ('lbfgs', None), 'C': 0.16172261693436174, 'tol': 0.0023002210868688965, 'fit_intercept': True, 'class_weight': None, 'threshold': 0.5614138463919573}. Best is trial 101 with value: 0.9693371866283087.\n",
      "[I 2025-07-02 12:36:14,718] Trial 163 finished with value: 0.9692831909479629 and parameters: {'solver_penalty': ('liblinear', 'l1'), 'C': 2.4386179851026557, 'tol': 0.0022910367688976476, 'fit_intercept': True, 'class_weight': 'balanced', 'threshold': 0.5925339393195762}. Best is trial 101 with value: 0.9693371866283087.\n",
      "[I 2025-07-02 12:36:14,908] Trial 161 finished with value: 0.9690132999886323 and parameters: {'solver_penalty': ('newton-cholesky', None), 'C': 2.735423945807342, 'tol': 0.004974374492313651, 'fit_intercept': True, 'class_weight': None, 'threshold': 0.42487539013352654}. Best is trial 101 with value: 0.9693371866283087.\n",
      "[I 2025-07-02 12:36:16,468] Trial 162 finished with value: 0.9676636703071851 and parameters: {'solver_penalty': ('newton-cg', None), 'C': 4.2083285942893545, 'tol': 0.005527403861458775, 'fit_intercept': True, 'class_weight': 'balanced', 'threshold': 0.16957050858900102}. Best is trial 101 with value: 0.9693371866283087.\n",
      "[I 2025-07-02 12:36:16,491] Trial 164 finished with value: 0.9692831909479631 and parameters: {'solver_penalty': ('newton-cg', None), 'C': 1.0975221229514887, 'tol': 0.00496842363524363, 'fit_intercept': True, 'class_weight': None, 'threshold': 0.4502437799026644}. Best is trial 101 with value: 0.9693371866283087.\n",
      "[I 2025-07-02 12:36:18,108] Trial 165 finished with value: 0.9692832055216959 and parameters: {'solver_penalty': ('newton-cg', None), 'C': 5.1130581642583355, 'tol': 0.0025800912953163487, 'fit_intercept': True, 'class_weight': 'balanced', 'threshold': 0.5397073586208686}. Best is trial 101 with value: 0.9693371866283087.\n",
      "[I 2025-07-02 12:36:19,815] Trial 168 finished with value: 0.9692291806938845 and parameters: {'solver_penalty': ('newton-cg', None), 'C': 0.45380072281985007, 'tol': 0.004859534076749959, 'fit_intercept': True, 'class_weight': None, 'threshold': 0.5569951955224811}. Best is trial 101 with value: 0.9693371866283087.\n",
      "[I 2025-07-02 12:36:19,994] Trial 166 finished with value: 0.3047937379584532 and parameters: {'solver_penalty': ('liblinear', 'l1'), 'C': 5.193801283031094, 'tol': 0.004795456254689733, 'fit_intercept': False, 'class_weight': None, 'threshold': 0.16139367356352396}. Best is trial 101 with value: 0.9693371866283087.\n",
      "[I 2025-07-02 12:36:20,359] Trial 167 finished with value: 0.9690672956689781 and parameters: {'solver_penalty': ('newton-cg', None), 'C': 5.632361494501103, 'tol': 0.0039056579741829685, 'fit_intercept': True, 'class_weight': 'balanced', 'threshold': 0.41285639539126257}. Best is trial 101 with value: 0.9693371866283087.\n",
      "[I 2025-07-02 12:36:20,391] Trial 169 finished with value: 0.9689593334557527 and parameters: {'solver_penalty': ('liblinear', 'l2'), 'C': 2.4391499377254386, 'tol': 0.005903948338498567, 'fit_intercept': True, 'class_weight': None, 'threshold': 0.18325108191565614}. Best is trial 101 with value: 0.9693371866283087.\n",
      "[I 2025-07-02 12:36:23,162] Trial 172 finished with value: 0.9690672956689781 and parameters: {'solver_penalty': ('newton-cholesky', None), 'C': 3.9812335463554493, 'tol': 0.005265165835761797, 'fit_intercept': True, 'class_weight': 'balanced', 'threshold': 0.4983934466450877}. Best is trial 101 with value: 0.9693371866283087.\n",
      "[I 2025-07-02 12:36:23,945] Trial 170 finished with value: 0.9691212622018579 and parameters: {'solver_penalty': ('newton-cg', None), 'C': 3.440031986461909, 'tol': 0.004289352828302357, 'fit_intercept': True, 'class_weight': 'balanced', 'threshold': 0.5188944054149659}. Best is trial 101 with value: 0.9693371866283087.\n",
      "[I 2025-07-02 12:36:24,204] Trial 171 finished with value: 0.9692292244150831 and parameters: {'solver_penalty': ('newton-cg', None), 'C': 4.080989532346148, 'tol': 0.0010922122054515418, 'fit_intercept': True, 'class_weight': 'balanced', 'threshold': 0.6412129251859614}. Best is trial 101 with value: 0.9693371866283087.\n",
      "[I 2025-07-02 12:36:24,808] Trial 173 finished with value: 0.9661521264533655 and parameters: {'solver_penalty': ('newton-cg', None), 'C': 9.615734741035265, 'tol': 0.0018802446594547396, 'fit_intercept': False, 'class_weight': 'balanced', 'threshold': 0.63113555269243}. Best is trial 101 with value: 0.9693371866283087.\n",
      "[I 2025-07-02 12:36:26,158] Trial 174 finished with value: 0.9692291806938845 and parameters: {'solver_penalty': ('lbfgs', 'l2'), 'C': 1.8737603323045882, 'tol': 0.004012606606672735, 'fit_intercept': True, 'class_weight': None, 'threshold': 0.5469570178643943}. Best is trial 101 with value: 0.9693371866283087.\n",
      "[I 2025-07-02 12:36:26,873] Trial 175 finished with value: 0.2604729030584436 and parameters: {'solver_penalty': ('newton-cg', None), 'C': 0.7704616383405858, 'tol': 0.006620659270672894, 'fit_intercept': False, 'class_weight': None, 'threshold': 0.39464629484552227}. Best is trial 101 with value: 0.9693371866283087.\n",
      "[I 2025-07-02 12:36:28,796] Trial 177 finished with value: 0.9348413211963285 and parameters: {'solver_penalty': ('newton-cg', None), 'C': 8.056213646930548, 'tol': 0.005491782000254216, 'fit_intercept': False, 'class_weight': 'balanced', 'threshold': 0.5405244394386144}. Best is trial 101 with value: 0.9693371866283087.\n",
      "[I 2025-07-02 12:36:29,307] Trial 179 finished with value: 0.2605808652716689 and parameters: {'solver_penalty': ('liblinear', 'l2'), 'C': 0.06774356312310548, 'tol': 0.0013849508051973955, 'fit_intercept': False, 'class_weight': None, 'threshold': 0.4973298500356674}. Best is trial 101 with value: 0.9693371866283087.\n",
      "[I 2025-07-02 12:36:29,310] Trial 176 finished with value: 0.9690132999886325 and parameters: {'solver_penalty': ('newton-cg', 'l2'), 'C': 2.276200978122852, 'tol': 0.0013509382771417799, 'fit_intercept': True, 'class_weight': None, 'threshold': 0.22672786225694086}. Best is trial 101 with value: 0.9693371866283087.\n",
      "[I 2025-07-02 12:36:30,736] Trial 178 finished with value: 0.9692292098413503 and parameters: {'solver_penalty': ('newton-cg', 'l2'), 'C': 1.9075555262929935, 'tol': 0.0017936013027323224, 'fit_intercept': True, 'class_weight': None, 'threshold': 0.39885247419739833}. Best is trial 101 with value: 0.9693371866283087.\n",
      "[I 2025-07-02 12:36:31,492] Trial 181 finished with value: 0.9691752578822033 and parameters: {'solver_penalty': ('liblinear', 'l2'), 'C': 9.286192394789447, 'tol': 0.006353320645970473, 'fit_intercept': True, 'class_weight': 'balanced', 'threshold': 0.5720680572840581}. Best is trial 101 with value: 0.9693371866283087.\n",
      "[I 2025-07-02 12:36:33,516] Trial 182 finished with value: 0.9692292244150833 and parameters: {'solver_penalty': ('newton-cg', None), 'C': 2.6743650809720214, 'tol': 0.005013472207602191, 'fit_intercept': True, 'class_weight': None, 'threshold': 0.31196913117317476}. Best is trial 101 with value: 0.9693371866283087.\n",
      "[I 2025-07-02 12:36:33,527] Trial 180 finished with value: 0.9691212039069264 and parameters: {'solver_penalty': ('newton-cg', None), 'C': 9.09583479478082, 'tol': 0.0030257793537009307, 'fit_intercept': True, 'class_weight': None, 'threshold': 0.6278910279871345}. Best is trial 101 with value: 0.9693371866283087.\n",
      "[I 2025-07-02 12:36:33,751] Trial 183 finished with value: 0.9691212622018579 and parameters: {'solver_penalty': ('lbfgs', 'l2'), 'C': 3.8872132361574856, 'tol': 0.00540013072270622, 'fit_intercept': True, 'class_weight': None, 'threshold': 0.28727076126603673}. Best is trial 101 with value: 0.9693371866283087.\n",
      "[I 2025-07-02 12:36:35,518] Trial 184 finished with value: 0.9691212622018579 and parameters: {'solver_penalty': ('newton-cg', None), 'C': 3.3142080450123927, 'tol': 0.0072258012082377435, 'fit_intercept': True, 'class_weight': None, 'threshold': 0.2880664920241263}. Best is trial 101 with value: 0.9693371866283087.\n",
      "[I 2025-07-02 12:36:36,518] Trial 186 finished with value: 0.9685274408816525 and parameters: {'solver_penalty': ('lbfgs', 'l2'), 'C': 7.713259422514045, 'tol': 0.004440603574585152, 'fit_intercept': True, 'class_weight': None, 'threshold': 0.7894157678959596}. Best is trial 101 with value: 0.9693371866283087.\n",
      "[I 2025-07-02 12:36:37,568] Trial 187 finished with value: 0.9690672956689779 and parameters: {'solver_penalty': ('newton-cholesky', 'l2'), 'C': 6.372964696128998, 'tol': 0.0024814976317983836, 'fit_intercept': True, 'class_weight': 'balanced', 'threshold': 0.4561554619028858}. Best is trial 101 with value: 0.9693371866283087.\n",
      "[I 2025-07-02 12:36:38,728] Trial 188 finished with value: 0.9692832055216961 and parameters: {'solver_penalty': ('lbfgs', None), 'C': 2.9263256652818193, 'tol': 0.002754950615253872, 'fit_intercept': True, 'class_weight': None, 'threshold': 0.3671725145044746}. Best is trial 101 with value: 0.9693371866283087.\n",
      "[I 2025-07-02 12:36:39,226] Trial 185 finished with value: 0.9689593480294855 and parameters: {'solver_penalty': ('newton-cg', 'l2'), 'C': 3.1937488388541215, 'tol': 0.002708421999344577, 'fit_intercept': True, 'class_weight': 'balanced', 'threshold': 0.3165345989581169}. Best is trial 101 with value: 0.9693371866283087.\n",
      "[I 2025-07-02 12:36:40,186] Trial 190 finished with value: 0.9692831909479629 and parameters: {'solver_penalty': ('liblinear', 'l1'), 'C': 1.0133779596791257, 'tol': 0.004135876779969764, 'fit_intercept': True, 'class_weight': None, 'threshold': 0.3376086612907316}. Best is trial 101 with value: 0.9693371866283087.\n",
      "[I 2025-07-02 12:36:42,404] Trial 192 finished with value: 0.9692292098413503 and parameters: {'solver_penalty': ('liblinear', 'l1'), 'C': 7.054531775417393, 'tol': 0.0012721649906894355, 'fit_intercept': True, 'class_weight': 'balanced', 'threshold': 0.6185961814754393}. Best is trial 101 with value: 0.9693371866283087.\n",
      "[I 2025-07-02 12:36:42,847] Trial 191 finished with value: 0.9691751995872719 and parameters: {'solver_penalty': ('lbfgs', None), 'C': 3.716560916939517, 'tol': 0.0011998830270506231, 'fit_intercept': True, 'class_weight': None, 'threshold': 0.48976923505122427}. Best is trial 101 with value: 0.9693371866283087.\n",
      "[I 2025-07-02 12:36:43,048] Trial 193 finished with value: 0.9692831909479629 and parameters: {'solver_penalty': ('liblinear', 'l1'), 'C': 8.198827711634792, 'tol': 0.0034571229935274725, 'fit_intercept': True, 'class_weight': 'balanced', 'threshold': 0.6295212052022402}. Best is trial 101 with value: 0.9693371866283087.\n",
      "[I 2025-07-02 12:36:43,440] Trial 189 finished with value: 0.9675017415610799 and parameters: {'solver_penalty': ('newton-cg', None), 'C': 4.371556979822868, 'tol': 0.0006251735896742575, 'fit_intercept': True, 'class_weight': 'balanced', 'threshold': 0.2459504016500691}. Best is trial 101 with value: 0.9693371866283087.\n",
      "[I 2025-07-02 12:36:45,614] Trial 195 finished with value: 0.969013256267434 and parameters: {'solver_penalty': ('liblinear', 'l2'), 'C': 3.385679683657505, 'tol': 0.0030923568767351984, 'fit_intercept': True, 'class_weight': None, 'threshold': 0.45482926313018784}. Best is trial 101 with value: 0.9693371866283087.\n",
      "[I 2025-07-02 12:36:46,026] Trial 194 finished with value: 0.9692832055216959 and parameters: {'solver_penalty': ('lbfgs', None), 'C': 4.301148299784572, 'tol': 0.003558904513498793, 'fit_intercept': True, 'class_weight': None, 'threshold': 0.3176548395614136}. Best is trial 101 with value: 0.9693371866283087.\n",
      "[I 2025-07-02 12:36:46,395] Trial 196 finished with value: 0.2604729030584436 and parameters: {'solver_penalty': ('lbfgs', None), 'C': 4.880865198689114, 'tol': 0.0019168066075368865, 'fit_intercept': False, 'class_weight': None, 'threshold': 0.4231492288658404}. Best is trial 101 with value: 0.9693371866283087.\n",
      "[I 2025-07-02 12:36:48,882] Trial 199 finished with value: 0.9692832055216959 and parameters: {'solver_penalty': ('lbfgs', None), 'C': 3.2324601764305534, 'tol': 0.0047607711901557865, 'fit_intercept': True, 'class_weight': None, 'threshold': 0.3269331174802627}. Best is trial 101 with value: 0.9693371866283087.\n",
      "[I 2025-07-02 12:36:48,886] Trial 197 finished with value: 0.9691212622018579 and parameters: {'solver_penalty': ('newton-cg', None), 'C': 1.0037665140366656, 'tol': 0.004546747711898162, 'fit_intercept': True, 'class_weight': None, 'threshold': 0.2781540176068716}. Best is trial 101 with value: 0.9693371866283087.\n",
      "[I 2025-07-02 12:36:50,118] Trial 198 finished with value: 0.9691751995872719 and parameters: {'solver_penalty': ('newton-cg', None), 'C': 9.394980797759366, 'tol': 0.005690400710905282, 'fit_intercept': True, 'class_weight': 'balanced', 'threshold': 0.7208354253609179}. Best is trial 101 with value: 0.9693371866283087.\n",
      "[I 2025-07-02 12:36:51,370] Trial 200 finished with value: 0.9693371866283087 and parameters: {'solver_penalty': ('newton-cg', None), 'C': 7.823634305919188, 'tol': 0.005208849607368078, 'fit_intercept': True, 'class_weight': 'balanced', 'threshold': 0.5708532710416726}. Best is trial 101 with value: 0.9693371866283087.\n",
      "[I 2025-07-02 12:36:51,582] Trial 202 finished with value: 0.9690132999886325 and parameters: {'solver_penalty': ('lbfgs', None), 'C': 5.1977127387894635, 'tol': 0.00291510635812634, 'fit_intercept': True, 'class_weight': None, 'threshold': 0.21561001649022765}. Best is trial 101 with value: 0.9693371866283087.\n",
      "[I 2025-07-02 12:36:53,442] Trial 203 finished with value: 0.9690672956689781 and parameters: {'solver_penalty': ('lbfgs', None), 'C': 4.081396528993094, 'tol': 0.005478636536350945, 'fit_intercept': True, 'class_weight': None, 'threshold': 0.20485411447045399}. Best is trial 101 with value: 0.9693371866283087.\n",
      "[I 2025-07-02 12:36:54,450] Trial 201 finished with value: 0.9691752287347377 and parameters: {'solver_penalty': ('newton-cg', 'l2'), 'C': 0.09608746515308564, 'tol': 0.003434485104910057, 'fit_intercept': True, 'class_weight': None, 'threshold': 0.37952832718876095}. Best is trial 101 with value: 0.9693371866283087.\n",
      "[I 2025-07-02 12:36:55,068] Trial 205 finished with value: 0.9691212622018579 and parameters: {'solver_penalty': ('lbfgs', None), 'C': 3.429734953665772, 'tol': 0.004844677862146271, 'fit_intercept': True, 'class_weight': None, 'threshold': 0.2794120041528889}. Best is trial 101 with value: 0.9693371866283087.\n",
      "[I 2025-07-02 12:36:55,488] Trial 204 finished with value: 0.9690672810952453 and parameters: {'solver_penalty': ('lbfgs', None), 'C': 4.373243207009298, 'tol': 0.005463707706254172, 'fit_intercept': True, 'class_weight': None, 'threshold': 0.25040940226631214}. Best is trial 101 with value: 0.9693371866283087.\n",
      "[I 2025-07-02 12:36:57,223] Trial 206 finished with value: 0.9692832055216959 and parameters: {'solver_penalty': ('lbfgs', None), 'C': 3.234133882731684, 'tol': 0.002677189951007075, 'fit_intercept': True, 'class_weight': None, 'threshold': 0.33877083634320415}. Best is trial 101 with value: 0.9693371866283087.\n",
      "[I 2025-07-02 12:36:57,981] Trial 208 finished with value: 0.2604729030584436 and parameters: {'solver_penalty': ('lbfgs', None), 'C': 1.594305810558144, 'tol': 0.004147736236391004, 'fit_intercept': False, 'class_weight': 'balanced', 'threshold': 0.29542844176112065}. Best is trial 101 with value: 0.9693371866283087.\n",
      "[I 2025-07-02 12:36:59,810] Trial 207 finished with value: 0.9692832055216959 and parameters: {'solver_penalty': ('newton-cg', None), 'C': 6.016589406517293, 'tol': 0.002927846491820917, 'fit_intercept': True, 'class_weight': 'balanced', 'threshold': 0.5885417125608582}. Best is trial 101 with value: 0.9693371866283087.\n",
      "[I 2025-07-02 12:37:00,406] Trial 210 finished with value: 0.9693371866283087 and parameters: {'solver_penalty': ('lbfgs', None), 'C': 3.635181672548943, 'tol': 0.0038205168700341193, 'fit_intercept': True, 'class_weight': None, 'threshold': 0.33433202759276437}. Best is trial 101 with value: 0.9693371866283087.\n",
      "[I 2025-07-02 12:37:00,853] Trial 209 finished with value: 0.9691212622018579 and parameters: {'solver_penalty': ('newton-cg', None), 'C': 7.004891066910992, 'tol': 0.0034564515476909665, 'fit_intercept': True, 'class_weight': 'balanced', 'threshold': 0.5063290486786423}. Best is trial 101 with value: 0.9693371866283087.\n",
      "[I 2025-07-02 12:37:01,442] Trial 211 finished with value: 0.9692291806938845 and parameters: {'solver_penalty': ('lbfgs', None), 'C': 6.827684641420261, 'tol': 0.004597831455702033, 'fit_intercept': True, 'class_weight': 'balanced', 'threshold': 0.7618042157691997}. Best is trial 101 with value: 0.9693371866283087.\n",
      "[I 2025-07-02 12:37:03,875] Trial 213 finished with value: 0.9691752287347377 and parameters: {'solver_penalty': ('lbfgs', None), 'C': 3.818018915453294, 'tol': 0.0033884977821976798, 'fit_intercept': True, 'class_weight': None, 'threshold': 0.39308955226972975}. Best is trial 101 with value: 0.9693371866283087.\n",
      "[I 2025-07-02 12:37:04,289] Trial 214 finished with value: 0.9692291806938845 and parameters: {'solver_penalty': ('lbfgs', None), 'C': 3.137802442552161, 'tol': 0.004191497998014434, 'fit_intercept': True, 'class_weight': None, 'threshold': 0.5244055638456993}. Best is trial 101 with value: 0.9693371866283087.\n",
      "[I 2025-07-02 12:37:04,729] Trial 215 finished with value: 0.9691212184806591 and parameters: {'solver_penalty': ('lbfgs', None), 'C': 7.338700424361544, 'tol': 0.003284741908164003, 'fit_intercept': True, 'class_weight': None, 'threshold': 0.45765047865610287}. Best is trial 101 with value: 0.9693371866283087.\n",
      "[I 2025-07-02 12:37:05,103] Trial 212 finished with value: 0.9691751995872719 and parameters: {'solver_penalty': ('newton-cg', None), 'C': 6.84340745668688, 'tol': 0.0043640897348914826, 'fit_intercept': True, 'class_weight': 'balanced', 'threshold': 0.8389551559322956}. Best is trial 101 with value: 0.9693371866283087.\n",
      "[I 2025-07-02 12:37:07,370] Trial 219 finished with value: 0.2604729030584436 and parameters: {'solver_penalty': ('lbfgs', None), 'C': 2.39498171442428, 'tol': 0.004783320091032979, 'fit_intercept': False, 'class_weight': None, 'threshold': 0.44133168838439174}. Best is trial 101 with value: 0.9693371866283087.\n",
      "[I 2025-07-02 12:37:08,287] Trial 217 finished with value: 0.969013241693701 and parameters: {'solver_penalty': ('newton-cholesky', 'l2'), 'C': 5.069375206182693, 'tol': 0.0026229882416608534, 'fit_intercept': True, 'class_weight': 'balanced', 'threshold': 0.8595093235393292}. Best is trial 101 with value: 0.9693371866283087.\n",
      "[I 2025-07-02 12:37:08,471] Trial 218 finished with value: 0.9691752578822033 and parameters: {'solver_penalty': ('newton-cholesky', 'l2'), 'C': 5.9708458836495595, 'tol': 0.0010230597089805182, 'fit_intercept': True, 'class_weight': None, 'threshold': 0.3238756574398442}. Best is trial 101 with value: 0.9693371866283087.\n",
      "[I 2025-07-02 12:37:09,054] Trial 216 finished with value: 0.9692832055216959 and parameters: {'solver_penalty': ('newton-cg', None), 'C': 6.306017708631038, 'tol': 0.005798910808533075, 'fit_intercept': True, 'class_weight': 'balanced', 'threshold': 0.5507282053416788}. Best is trial 101 with value: 0.9693371866283087.\n",
      "[I 2025-07-02 12:37:11,280] Trial 222 finished with value: 0.3019863852187372 and parameters: {'solver_penalty': ('liblinear', 'l2'), 'C': 7.855633806345352, 'tol': 0.00011317997010780543, 'fit_intercept': False, 'class_weight': None, 'threshold': 0.22958929281837281}. Best is trial 101 with value: 0.9693371866283087.\n",
      "[I 2025-07-02 12:37:11,497] Trial 220 finished with value: 0.9690672810952453 and parameters: {'solver_penalty': ('lbfgs', None), 'C': 4.674800801561764, 'tol': 0.003005079089785164, 'fit_intercept': True, 'class_weight': None, 'threshold': 0.2539803438783933}. Best is trial 101 with value: 0.9693371866283087.\n",
      "[I 2025-07-02 12:37:12,739] Trial 223 finished with value: 0.9690672810952453 and parameters: {'solver_penalty': ('lbfgs', None), 'C': 2.3009420789080806, 'tol': 0.003041293999616693, 'fit_intercept': True, 'class_weight': None, 'threshold': 0.2655707036948522}. Best is trial 101 with value: 0.9693371866283087.\n",
      "[I 2025-07-02 12:37:14,147] Trial 221 finished with value: 0.9692292244150833 and parameters: {'solver_penalty': ('newton-cg', None), 'C': 8.26608008672163, 'tol': 0.00515025699868271, 'fit_intercept': True, 'class_weight': 'balanced', 'threshold': 0.531144137456358}. Best is trial 101 with value: 0.9693371866283087.\n",
      "[I 2025-07-02 12:37:14,730] Trial 225 finished with value: 0.9692832055216959 and parameters: {'solver_penalty': ('lbfgs', None), 'C': 1.5228414106184482, 'tol': 0.00436114766912722, 'fit_intercept': True, 'class_weight': None, 'threshold': 0.30930626766229635}. Best is trial 101 with value: 0.9693371866283087.\n",
      "[I 2025-07-02 12:37:15,134] Trial 224 finished with value: 0.9689593480294857 and parameters: {'solver_penalty': ('lbfgs', None), 'C': 3.4705215636650877, 'tol': 0.0035904270884109554, 'fit_intercept': True, 'class_weight': 'balanced', 'threshold': 0.2798859042764469}. Best is trial 101 with value: 0.9693371866283087.\n",
      "[I 2025-07-02 12:37:16,856] Trial 228 finished with value: 0.9693371866283087 and parameters: {'solver_penalty': ('liblinear', 'l1'), 'C': 5.378819759487879, 'tol': 0.002462637542405744, 'fit_intercept': True, 'class_weight': 'balanced', 'threshold': 0.5600544279199003}. Best is trial 101 with value: 0.9693371866283087.\n",
      "[I 2025-07-02 12:37:17,436] Trial 226 finished with value: 0.9692832055216959 and parameters: {'solver_penalty': ('newton-cg', None), 'C': 5.359032196960455, 'tol': 0.0033176852168770557, 'fit_intercept': True, 'class_weight': 'balanced', 'threshold': 0.5803732755739727}. Best is trial 101 with value: 0.9693371866283087.\n",
      "[I 2025-07-02 12:37:19,312] Trial 227 finished with value: 0.2624702768717774 and parameters: {'solver_penalty': ('newton-cg', None), 'C': 6.153945370441961, 'tol': 0.0021630875963329814, 'fit_intercept': False, 'class_weight': 'balanced', 'threshold': 0.24330259046379654}. Best is trial 101 with value: 0.9693371866283087.\n",
      "[I 2025-07-02 12:37:19,678] Trial 230 finished with value: 0.9690672810952451 and parameters: {'solver_penalty': ('liblinear', 'l1'), 'C': 4.184585519043534, 'tol': 0.0036049360792845906, 'fit_intercept': True, 'class_weight': 'balanced', 'threshold': 0.43658699255015987}. Best is trial 101 with value: 0.9693371866283087.\n",
      "[I 2025-07-02 12:37:19,903] Trial 231 finished with value: 0.9691212476281249 and parameters: {'solver_penalty': ('liblinear', 'l1'), 'C': 3.615604390030412, 'tol': 0.0022010288806766183, 'fit_intercept': True, 'class_weight': 'balanced', 'threshold': 0.5622529042315683}. Best is trial 101 with value: 0.9693371866283087.\n",
      "[I 2025-07-02 12:37:20,271] Trial 229 finished with value: 0.9692831909479629 and parameters: {'solver_penalty': ('newton-cg', None), 'C': 6.528739574378195, 'tol': 0.0013647394907692005, 'fit_intercept': True, 'class_weight': 'balanced', 'threshold': 0.6712391776661347}. Best is trial 101 with value: 0.9693371866283087.\n",
      "[I 2025-07-02 12:37:22,400] Trial 232 finished with value: 0.968851298373863 and parameters: {'solver_penalty': ('liblinear', 'l1'), 'C': 4.958259879841821, 'tol': 0.0005100254115121389, 'fit_intercept': True, 'class_weight': 'balanced', 'threshold': 0.8669841544610049}. Best is trial 101 with value: 0.9693371866283087.\n",
      "[I 2025-07-02 12:37:22,586] Trial 235 finished with value: 0.9691751995872719 and parameters: {'solver_penalty': ('liblinear', 'l1'), 'C': 4.610327045138529, 'tol': 0.00207654300720285, 'fit_intercept': True, 'class_weight': 'balanced', 'threshold': 0.7493196945051304}. Best is trial 101 with value: 0.9693371866283087.\n",
      "[I 2025-07-02 12:37:24,315] Trial 234 finished with value: 0.9679336341351801 and parameters: {'solver_penalty': ('newton-cg', None), 'C': 8.6233547190715, 'tol': 0.008949984414482238, 'fit_intercept': True, 'class_weight': None, 'threshold': 0.8465974539155747}. Best is trial 101 with value: 0.9693371866283087.\n",
      "[I 2025-07-02 12:37:24,523] Trial 233 finished with value: 0.9690133145623653 and parameters: {'solver_penalty': ('newton-cg', 'l2'), 'C': 3.131735990185109, 'tol': 0.004181608487331566, 'fit_intercept': True, 'class_weight': None, 'threshold': 0.18224495383050512}. Best is trial 101 with value: 0.9693371866283087.\n",
      "[I 2025-07-02 12:37:25,067] Trial 236 finished with value: 0.9691752141610047 and parameters: {'solver_penalty': ('liblinear', 'l1'), 'C': 3.8087965613654897, 'tol': 0.00499128042403481, 'fit_intercept': True, 'class_weight': 'balanced', 'threshold': 0.7106226406040643}. Best is trial 101 with value: 0.9693371866283087.\n",
      "[I 2025-07-02 12:37:26,289] Trial 237 finished with value: 0.9690132999886325 and parameters: {'solver_penalty': ('newton-cholesky', None), 'C': 4.119560849540465, 'tol': 0.0018884802808918234, 'fit_intercept': True, 'class_weight': None, 'threshold': 0.2705157739348025}. Best is trial 101 with value: 0.9693371866283087.\n",
      "[I 2025-07-02 12:37:27,191] Trial 238 finished with value: 0.9594579737264743 and parameters: {'solver_penalty': ('newton-cholesky', 'l2'), 'C': 5.593540907364761, 'tol': 0.007274673517323596, 'fit_intercept': False, 'class_weight': None, 'threshold': 0.6710788313373122}. Best is trial 101 with value: 0.9693371866283087.\n",
      "[I 2025-07-02 12:37:28,423] Trial 239 finished with value: 0.9688513420950613 and parameters: {'solver_penalty': ('newton-cholesky', None), 'C': 6.751929751292066, 'tol': 0.002726805292877188, 'fit_intercept': True, 'class_weight': 'balanced', 'threshold': 0.7311834692260664}. Best is trial 101 with value: 0.9693371866283087.\n",
      "[I 2025-07-02 12:37:28,620] Trial 240 finished with value: 0.9691752433084705 and parameters: {'solver_penalty': ('newton-cg', 'l2'), 'C': 4.929407325900186, 'tol': 0.006936584734047178, 'fit_intercept': True, 'class_weight': None, 'threshold': 0.30789487650858677}. Best is trial 101 with value: 0.9693371866283087.\n",
      "[I 2025-07-02 12:37:30,226] Trial 241 finished with value: 0.9692832055216961 and parameters: {'solver_penalty': ('newton-cg', None), 'C': 4.111381025633951, 'tol': 0.004622225992319954, 'fit_intercept': True, 'class_weight': None, 'threshold': 0.34854370734249684}. Best is trial 101 with value: 0.9693371866283087.\n",
      "[I 2025-07-02 12:37:30,756] Trial 242 finished with value: 0.9691212767755907 and parameters: {'solver_penalty': ('newton-cholesky', None), 'C': 5.925271034291549, 'tol': 0.0014573837144008484, 'fit_intercept': True, 'class_weight': 'balanced', 'threshold': 0.5901942525250354}. Best is trial 101 with value: 0.9693371866283087.\n",
      "[I 2025-07-02 12:37:31,324] Trial 243 finished with value: 0.2604729030584436 and parameters: {'solver_penalty': ('newton-cholesky', 'l2'), 'C': 0.9903377291556836, 'tol': 0.005471433558303647, 'fit_intercept': False, 'class_weight': 'balanced', 'threshold': 0.008534657840316484}. Best is trial 101 with value: 0.9693371866283087.\n",
      "[I 2025-07-02 12:37:32,541] Trial 244 finished with value: 0.9691752287347377 and parameters: {'solver_penalty': ('newton-cg', None), 'C': 5.939821494960616, 'tol': 0.008176946625623795, 'fit_intercept': True, 'class_weight': 'balanced', 'threshold': 0.6320753040378695}. Best is trial 101 with value: 0.9693371866283087.\n",
      "[I 2025-07-02 12:37:34,394] Trial 245 finished with value: 0.9692292098413503 and parameters: {'solver_penalty': ('newton-cg', None), 'C': 3.3854587914697327, 'tol': 0.003448063813300744, 'fit_intercept': True, 'class_weight': None, 'threshold': 0.39533379870797286}. Best is trial 101 with value: 0.9693371866283087.\n",
      "[I 2025-07-02 12:37:34,601] Trial 246 finished with value: 0.9691751995872719 and parameters: {'solver_penalty': ('newton-cg', None), 'C': 4.338169603639437, 'tol': 0.004766318465156433, 'fit_intercept': True, 'class_weight': None, 'threshold': 0.48781950898149506}. Best is trial 101 with value: 0.9693371866283087.\n",
      "[I 2025-07-02 12:37:35,447] Trial 248 finished with value: 0.9692832055216961 and parameters: {'solver_penalty': ('lbfgs', None), 'C': 3.4368997057856787, 'tol': 0.0016293468594886255, 'fit_intercept': True, 'class_weight': None, 'threshold': 0.34751213285946847}. Best is trial 101 with value: 0.9693371866283087.\n",
      "[I 2025-07-02 12:37:35,648] Trial 247 finished with value: 0.9673397690937762 and parameters: {'solver_penalty': ('newton-cg', None), 'C': 2.7705071810817166, 'tol': 0.004280736741123603, 'fit_intercept': True, 'class_weight': None, 'threshold': 0.06159962077106995}. Best is trial 101 with value: 0.9693371866283087.\n",
      "[I 2025-07-02 12:37:38,353] Trial 250 finished with value: 0.9691751995872719 and parameters: {'solver_penalty': ('lbfgs', None), 'C': 1.8602654246217682, 'tol': 0.004552044014970811, 'fit_intercept': True, 'class_weight': None, 'threshold': 0.4828704512118952}. Best is trial 101 with value: 0.9693371866283087.\n",
      "[I 2025-07-02 12:37:38,990] Trial 249 finished with value: 0.9692292098413503 and parameters: {'solver_penalty': ('newton-cg', None), 'C': 4.536921346084333, 'tol': 0.0055582554946605085, 'fit_intercept': True, 'class_weight': None, 'threshold': 0.45038878134734667}. Best is trial 101 with value: 0.9693371866283087.\n",
      "[I 2025-07-02 12:37:39,217] Trial 251 finished with value: 0.9692832055216959 and parameters: {'solver_penalty': ('lbfgs', None), 'C': 3.8477786580315927, 'tol': 0.0021519066315522396, 'fit_intercept': True, 'class_weight': None, 'threshold': 0.29646417743686093}. Best is trial 101 with value: 0.9693371866283087.\n",
      "[I 2025-07-02 12:37:39,458] Trial 252 finished with value: 0.9691751995872719 and parameters: {'solver_penalty': ('lbfgs', None), 'C': 2.506405068998311, 'tol': 0.0016038491643334172, 'fit_intercept': True, 'class_weight': None, 'threshold': 0.45412420254607744}. Best is trial 101 with value: 0.9693371866283087.\n",
      "[I 2025-07-02 12:37:42,771] Trial 253 finished with value: 0.9691752287347377 and parameters: {'solver_penalty': ('lbfgs', None), 'C': 3.409339875454864, 'tol': 0.0010217836116602611, 'fit_intercept': True, 'class_weight': None, 'threshold': 0.3693544244125151}. Best is trial 101 with value: 0.9693371866283087.\n",
      "[I 2025-07-02 12:37:43,429] Trial 254 finished with value: 0.9692831909479629 and parameters: {'solver_penalty': ('lbfgs', None), 'C': 4.20721658580698, 'tol': 0.0031343949493562394, 'fit_intercept': True, 'class_weight': None, 'threshold': 0.43099061079392476}. Best is trial 101 with value: 0.9693371866283087.\n",
      "[I 2025-07-02 12:37:43,443] Trial 256 finished with value: 0.9651263688378615 and parameters: {'solver_penalty': ('lbfgs', 'l2'), 'C': 4.425758521207101, 'tol': 0.0017909897375126779, 'fit_intercept': False, 'class_weight': 'balanced', 'threshold': 0.601140998129899}. Best is trial 101 with value: 0.9693371866283087.\n",
      "[I 2025-07-02 12:37:43,965] Trial 255 finished with value: 0.9691751995872719 and parameters: {'solver_penalty': ('lbfgs', None), 'C': 2.805298329481451, 'tol': 0.002630142889132022, 'fit_intercept': True, 'class_weight': None, 'threshold': 0.501719041229679}. Best is trial 101 with value: 0.9693371866283087.\n",
      "[I 2025-07-02 12:37:45,936] Trial 258 finished with value: 0.9689053669228729 and parameters: {'solver_penalty': ('liblinear', 'l1'), 'C': 2.013392479777462, 'tol': 0.00207880888973436, 'fit_intercept': True, 'class_weight': 'balanced', 'threshold': 0.3152599622966871}. Best is trial 101 with value: 0.9693371866283087.\n",
      "[I 2025-07-02 12:37:46,356] Trial 259 finished with value: 0.9690133291360983 and parameters: {'solver_penalty': ('liblinear', 'l1'), 'C': 0.6293758218839285, 'tol': 0.00270829661884056, 'fit_intercept': True, 'class_weight': 'balanced', 'threshold': 0.31367976776853845}. Best is trial 101 with value: 0.9693371866283087.\n",
      "[I 2025-07-02 12:37:47,968] Trial 260 finished with value: 0.9680415963484055 and parameters: {'solver_penalty': ('lbfgs', None), 'C': 0.5816862700173848, 'tol': 0.005272397997352023, 'fit_intercept': True, 'class_weight': 'balanced', 'threshold': 0.18371554387693276}. Best is trial 101 with value: 0.9693371866283087.\n",
      "[I 2025-07-02 12:37:48,491] Trial 257 finished with value: 0.9691752287347377 and parameters: {'solver_penalty': ('newton-cg', 'l2'), 'C': 3.919361085359948, 'tol': 0.00374194724988252, 'fit_intercept': True, 'class_weight': None, 'threshold': 0.3627653387738779}. Best is trial 101 with value: 0.9693371866283087.\n",
      "[I 2025-07-02 12:37:50,419] Trial 261 finished with value: 0.9691752578822033 and parameters: {'solver_penalty': ('newton-cholesky', 'l2'), 'C': 2.624544167406438, 'tol': 0.004129197696356084, 'fit_intercept': True, 'class_weight': 'balanced', 'threshold': 0.5928771321056757}. Best is trial 101 with value: 0.9693371866283087.\n",
      "[I 2025-07-02 12:37:50,826] Trial 263 finished with value: 0.9692831909479629 and parameters: {'solver_penalty': ('liblinear', 'l1'), 'C': 5.570558656087416, 'tol': 0.0027698527360580784, 'fit_intercept': True, 'class_weight': 'balanced', 'threshold': 0.5918495738276637}. Best is trial 101 with value: 0.9693371866283087.\n",
      "[I 2025-07-02 12:37:51,190] Trial 264 finished with value: 0.9691752287347377 and parameters: {'solver_penalty': ('liblinear', 'l1'), 'C': 4.969928216270883, 'tol': 0.005518389958737014, 'fit_intercept': True, 'class_weight': None, 'threshold': 0.3144185051348192}. Best is trial 101 with value: 0.9693371866283087.\n",
      "[I 2025-07-02 12:37:51,225] Trial 262 finished with value: 0.9690672956689781 and parameters: {'solver_penalty': ('newton-cholesky', 'l2'), 'C': 3.576537923996823, 'tol': 0.004576761384746181, 'fit_intercept': True, 'class_weight': 'balanced', 'threshold': 0.37915976457344847}. Best is trial 101 with value: 0.9693371866283087.\n",
      "[I 2025-07-02 12:37:54,240] Trial 266 finished with value: 0.2604729030584436 and parameters: {'solver_penalty': ('newton-cg', None), 'C': 1.8124803403236485, 'tol': 0.004229934077482038, 'fit_intercept': False, 'class_weight': None, 'threshold': 0.19223037700396964}. Best is trial 101 with value: 0.9693371866283087.\n",
      "[I 2025-07-02 12:37:54,859] Trial 268 finished with value: 0.9690672810952453 and parameters: {'solver_penalty': ('lbfgs', None), 'C': 7.090327328573722, 'tol': 0.0061845067513073455, 'fit_intercept': True, 'class_weight': 'balanced', 'threshold': 0.5026156920878504}. Best is trial 101 with value: 0.9693371866283087.\n",
      "[I 2025-07-02 12:37:54,864] Trial 267 finished with value: 0.9689593480294855 and parameters: {'solver_penalty': ('lbfgs', 'l2'), 'C': 7.2543572571605335, 'tol': 0.003411524812150152, 'fit_intercept': True, 'class_weight': 'balanced', 'threshold': 0.3383679481307283}. Best is trial 101 with value: 0.9693371866283087.\n",
      "[I 2025-07-02 12:37:55,291] Trial 265 finished with value: 0.9691752287347377 and parameters: {'solver_penalty': ('newton-cg', 'l2'), 'C': 3.03029745944906, 'tol': 0.002089117701577415, 'fit_intercept': True, 'class_weight': 'balanced', 'threshold': 0.6218315878594072}. Best is trial 101 with value: 0.9693371866283087.\n",
      "[I 2025-07-02 12:37:57,390] Trial 269 finished with value: 0.9689593188820197 and parameters: {'solver_penalty': ('newton-cholesky', None), 'C': 0.5176432283634367, 'tol': 0.0016866962061021901, 'fit_intercept': True, 'class_weight': None, 'threshold': 0.4074818742191329}. Best is trial 101 with value: 0.9693371866283087.\n",
      "[I 2025-07-02 12:37:57,965] Trial 270 finished with value: 0.9692292098413503 and parameters: {'solver_penalty': ('newton-cholesky', 'l2'), 'C': 3.744671378634748, 'tol': 0.003529715498129645, 'fit_intercept': True, 'class_weight': None, 'threshold': 0.4059200105740536}. Best is trial 101 with value: 0.9693371866283087.\n",
      "[I 2025-07-02 12:37:59,282] Trial 272 finished with value: 0.9691752578822033 and parameters: {'solver_penalty': ('newton-cholesky', 'l2'), 'C': 8.42875925748131, 'tol': 0.004957555632752862, 'fit_intercept': True, 'class_weight': 'balanced', 'threshold': 0.5392140648199714}. Best is trial 101 with value: 0.9693371866283087.\n",
      "[I 2025-07-02 12:37:59,710] Trial 271 finished with value: 0.9691752141610047 and parameters: {'solver_penalty': ('newton-cg', None), 'C': 8.156773361559845, 'tol': 0.004327292650351345, 'fit_intercept': True, 'class_weight': 'balanced', 'threshold': 0.6853107447585212}. Best is trial 101 with value: 0.9693371866283087.\n",
      "[I 2025-07-02 12:38:00,693] Trial 274 finished with value: 0.9692291806938845 and parameters: {'solver_penalty': ('liblinear', 'l2'), 'C': 8.701423317089768, 'tol': 0.0015862287649488246, 'fit_intercept': True, 'class_weight': 'balanced', 'threshold': 0.810478880995668}. Best is trial 101 with value: 0.9693371866283087.\n",
      "[I 2025-07-02 12:38:01,470] Trial 273 finished with value: 0.9692832055216961 and parameters: {'solver_penalty': ('lbfgs', 'l2'), 'C': 4.204213806510051, 'tol': 0.0019414876295757739, 'fit_intercept': True, 'class_weight': None, 'threshold': 0.35394737403654836}. Best is trial 101 with value: 0.9693371866283087.\n",
      "[I 2025-07-02 12:38:02,752] Trial 276 finished with value: 0.9691751995872719 and parameters: {'solver_penalty': ('liblinear', 'l1'), 'C': 2.760576112583846, 'tol': 0.008062527424732551, 'fit_intercept': True, 'class_weight': None, 'threshold': 0.5786580840177319}. Best is trial 101 with value: 0.9693371866283087.\n",
      "[I 2025-07-02 12:38:03,096] Trial 275 finished with value: 0.9651263542641285 and parameters: {'solver_penalty': ('lbfgs', None), 'C': 9.728417106281954, 'tol': 0.009249067487057129, 'fit_intercept': False, 'class_weight': 'balanced', 'threshold': 0.5980302005532555}. Best is trial 101 with value: 0.9693371866283087.\n",
      "[I 2025-07-02 12:38:05,302] Trial 278 finished with value: 0.9692292244150833 and parameters: {'solver_penalty': ('lbfgs', 'l2'), 'C': 5.118653423731884, 'tol': 0.0034492648787580946, 'fit_intercept': True, 'class_weight': None, 'threshold': 0.29865260450110287}. Best is trial 101 with value: 0.9693371866283087.\n",
      "[I 2025-07-02 12:38:06,117] Trial 277 finished with value: 0.9690133145623653 and parameters: {'solver_penalty': ('newton-cg', None), 'C': 3.842605196609656, 'tol': 0.006489812667709928, 'fit_intercept': True, 'class_weight': None, 'threshold': 0.20400642489109916}. Best is trial 101 with value: 0.9693371866283087.\n",
      "[I 2025-07-02 12:38:06,530] Trial 279 finished with value: 0.9691212184806591 and parameters: {'solver_penalty': ('lbfgs', 'l2'), 'C': 3.8032900203771254, 'tol': 0.0015096422151408264, 'fit_intercept': True, 'class_weight': None, 'threshold': 0.439776198384766}. Best is trial 101 with value: 0.9693371866283087.\n",
      "[I 2025-07-02 12:38:06,793] Trial 280 finished with value: 0.9689593480294855 and parameters: {'solver_penalty': ('lbfgs', 'l2'), 'C': 1.9907836772096656, 'tol': 0.000804396682283054, 'fit_intercept': True, 'class_weight': None, 'threshold': 0.1465597033727085}. Best is trial 101 with value: 0.9693371866283087.\n",
      "[I 2025-07-02 12:38:09,750] Trial 284 finished with value: 0.9689053377754071 and parameters: {'solver_penalty': ('liblinear', 'l1'), 'C': 3.1535083347873325, 'tol': 0.002320839335263004, 'fit_intercept': True, 'class_weight': None, 'threshold': 0.17843184974776005}. Best is trial 101 with value: 0.9693371866283087.\n",
      "[I 2025-07-02 12:38:10,112] Trial 282 finished with value: 0.6406858252959198 and parameters: {'solver_penalty': ('newton-cholesky', None), 'C': 3.83328030870641, 'tol': 0.0059775920998444265, 'fit_intercept': False, 'class_weight': None, 'threshold': 0.3574247351401062}. Best is trial 101 with value: 0.9693371866283087.\n",
      "[I 2025-07-02 12:38:10,138] Trial 281 finished with value: 0.9690133291360983 and parameters: {'solver_penalty': ('newton-cg', None), 'C': 4.9794575584492655, 'tol': 0.004221749857240234, 'fit_intercept': False, 'class_weight': 'balanced', 'threshold': 0.7075284489534058}. Best is trial 101 with value: 0.9693371866283087.\n",
      "[I 2025-07-02 12:38:10,390] Trial 283 finished with value: 0.2604729030584436 and parameters: {'solver_penalty': ('lbfgs', 'l2'), 'C': 9.360498520051195, 'tol': 0.00652982721875491, 'fit_intercept': True, 'class_weight': 'balanced', 'threshold': 0.052929881730958694}. Best is trial 101 with value: 0.9693371866283087.\n",
      "[I 2025-07-02 12:38:13,546] Trial 288 finished with value: 0.9690672810952453 and parameters: {'solver_penalty': ('liblinear', 'l1'), 'C': 2.9722157850819735, 'tol': 0.005490607386298757, 'fit_intercept': True, 'class_weight': 'balanced', 'threshold': 0.43649391280074834}. Best is trial 101 with value: 0.9693371866283087.\n",
      "[I 2025-07-02 12:38:13,554] Trial 286 finished with value: 0.2604729030584436 and parameters: {'solver_penalty': ('lbfgs', None), 'C': 8.52206767008397, 'tol': 0.00165610922777327, 'fit_intercept': False, 'class_weight': 'balanced', 'threshold': 0.19322934636356548}. Best is trial 101 with value: 0.9693371866283087.\n",
      "[I 2025-07-02 12:38:13,978] Trial 287 finished with value: 0.9691212622018579 and parameters: {'solver_penalty': ('lbfgs', 'l2'), 'C': 6.403834816131502, 'tol': 0.0016815723351947466, 'fit_intercept': True, 'class_weight': None, 'threshold': 0.2723176537279274}. Best is trial 101 with value: 0.9693371866283087.\n",
      "[I 2025-07-02 12:38:14,260] Trial 285 finished with value: 0.8531642343106478 and parameters: {'solver_penalty': ('newton-cholesky', None), 'C': 1.2153985295648928, 'tol': 0.0011066229373328305, 'fit_intercept': False, 'class_weight': 'balanced', 'threshold': 0.5497603104426393}. Best is trial 101 with value: 0.9693371866283087.\n",
      "[I 2025-07-02 12:38:16,695] Trial 291 finished with value: 0.9685274263079198 and parameters: {'solver_penalty': ('newton-cholesky', 'l2'), 'C': 0.5916218720116966, 'tol': 0.003027970909835399, 'fit_intercept': False, 'class_weight': 'balanced', 'threshold': 0.9158065370078944}. Best is trial 101 with value: 0.9693371866283087.\n",
      "[I 2025-07-02 12:38:17,272] Trial 289 finished with value: 0.9693371866283087 and parameters: {'solver_penalty': ('newton-cg', None), 'C': 2.282208644582017, 'tol': 0.004398539407507107, 'fit_intercept': True, 'class_weight': None, 'threshold': 0.3394772589798486}. Best is trial 101 with value: 0.9693371866283087.\n",
      "[I 2025-07-02 12:38:18,134] Trial 290 finished with value: 0.9691212184806591 and parameters: {'solver_penalty': ('newton-cg', 'l2'), 'C': 6.355961487462967, 'tol': 0.00040385834457055524, 'fit_intercept': True, 'class_weight': None, 'threshold': 0.4680673278294351}. Best is trial 101 with value: 0.9693371866283087.\n",
      "[I 2025-07-02 12:38:18,500] Trial 292 finished with value: 0.9689593480294857 and parameters: {'solver_penalty': ('newton-cg', None), 'C': 6.2992487841487605, 'tol': 0.0025955897610311337, 'fit_intercept': True, 'class_weight': None, 'threshold': 0.12173575588560481}. Best is trial 101 with value: 0.9693371866283087.\n",
      "[I 2025-07-02 12:38:18,879] Trial 293 finished with value: 0.9691212476281251 and parameters: {'solver_penalty': ('liblinear', 'l2'), 'C': 6.9037508855324905, 'tol': 0.006024404918633956, 'fit_intercept': True, 'class_weight': None, 'threshold': 0.3614607953187901}. Best is trial 101 with value: 0.9693371866283087.\n",
      "[I 2025-07-02 12:38:21,028] Trial 296 finished with value: 0.9658282835348881 and parameters: {'solver_penalty': ('liblinear', 'l2'), 'C': 7.038070038107226, 'tol': 0.004502376765338982, 'fit_intercept': False, 'class_weight': 'balanced', 'threshold': 0.6905458770882245}. Best is trial 101 with value: 0.9693371866283087.\n",
      "[I 2025-07-02 12:38:22,048] Trial 294 finished with value: 0.9692832055216959 and parameters: {'solver_penalty': ('newton-cg', None), 'C': 3.3028390717599647, 'tol': 0.00306660437670992, 'fit_intercept': True, 'class_weight': None, 'threshold': 0.3329092411789519}. Best is trial 101 with value: 0.9693371866283087.\n",
      "[I 2025-07-02 12:38:22,485] Trial 295 finished with value: 0.9690672810952453 and parameters: {'solver_penalty': ('newton-cg', None), 'C': 3.3543058724096806, 'tol': 0.002666690729734999, 'fit_intercept': True, 'class_weight': None, 'threshold': 0.23961748539803274}. Best is trial 101 with value: 0.9693371866283087.\n",
      "[I 2025-07-02 12:38:23,893] Trial 297 finished with value: 0.4705792767347843 and parameters: {'solver_penalty': ('lbfgs', None), 'C': 0.8932452632172516, 'tol': 0.000614423773143928, 'fit_intercept': False, 'class_weight': None, 'threshold': 0.2885934436201565}. Best is trial 101 with value: 0.9693371866283087.\n",
      "[I 2025-07-02 12:38:25,127] Trial 298 finished with value: 0.9692832055216959 and parameters: {'solver_penalty': ('newton-cg', None), 'C': 3.6914715247081014, 'tol': 0.005355079499855981, 'fit_intercept': True, 'class_weight': None, 'threshold': 0.35557566849190475}. Best is trial 101 with value: 0.9693371866283087.\n",
      "[I 2025-07-02 12:38:25,808] Trial 300 finished with value: 0.9524943089573077 and parameters: {'solver_penalty': ('liblinear', 'l1'), 'C': 6.586498404367455, 'tol': 0.005205800668953524, 'fit_intercept': False, 'class_weight': 'balanced', 'threshold': 0.9513623112808365}. Best is trial 101 with value: 0.9693371866283087.\n",
      "[I 2025-07-02 12:38:26,213] Trial 299 finished with value: 0.9692292098413503 and parameters: {'solver_penalty': ('newton-cg', None), 'C': 2.487189084044073, 'tol': 0.004902302669663868, 'fit_intercept': True, 'class_weight': None, 'threshold': 0.3984364500350612}. Best is trial 101 with value: 0.9693371866283087.\n",
      "[I 2025-07-02 12:38:26,573] Trial 301 finished with value: 0.9689593480294857 and parameters: {'solver_penalty': ('lbfgs', 'l2'), 'C': 1.7883586371945883, 'tol': 0.009503994823395534, 'fit_intercept': False, 'class_weight': 'balanced', 'threshold': 0.7157740659426859}. Best is trial 101 with value: 0.9693371866283087.\n",
      "[I 2025-07-02 12:38:28,989] Trial 304 finished with value: 0.9692831909479629 and parameters: {'solver_penalty': ('liblinear', 'l1'), 'C': 2.4743722523556535, 'tol': 0.004232888431677364, 'fit_intercept': True, 'class_weight': 'balanced', 'threshold': 0.6145591317164565}. Best is trial 101 with value: 0.9693371866283087.\n",
      "[I 2025-07-02 12:38:29,190] Trial 303 finished with value: 0.9480673044132178 and parameters: {'solver_penalty': ('newton-cholesky', None), 'C': 0.4805737375918575, 'tol': 0.003174113950199444, 'fit_intercept': False, 'class_weight': None, 'threshold': 0.7827905249441004}. Best is trial 101 with value: 0.9693371866283087.\n",
      "[I 2025-07-02 12:38:29,579] Trial 302 finished with value: 0.9691751995872719 and parameters: {'solver_penalty': ('newton-cg', None), 'C': 2.110047670059032, 'tol': 0.004644562518185917, 'fit_intercept': True, 'class_weight': None, 'threshold': 0.5221562189067115}. Best is trial 101 with value: 0.9693371866283087.\n",
      "[I 2025-07-02 12:38:31,122] Trial 305 finished with value: 0.9690133145623653 and parameters: {'solver_penalty': ('newton-cg', None), 'C': 8.901569143370168, 'tol': 0.005187082717665394, 'fit_intercept': True, 'class_weight': 'balanced', 'threshold': 0.39121554472397096}. Best is trial 101 with value: 0.9693371866283087.\n",
      "[I 2025-07-02 12:38:32,523] Trial 306 finished with value: 0.9691212622018579 and parameters: {'solver_penalty': ('newton-cg', None), 'C': 1.7200959072958875, 'tol': 0.005595374509783797, 'fit_intercept': True, 'class_weight': None, 'threshold': 0.3044050328918542}. Best is trial 101 with value: 0.9693371866283087.\n",
      "[I 2025-07-02 12:38:32,896] Trial 307 finished with value: 0.9690672810952453 and parameters: {'solver_penalty': ('newton-cg', 'l2'), 'C': 3.266370505684571, 'tol': 0.006860443088785614, 'fit_intercept': True, 'class_weight': None, 'threshold': 0.28224754433437754}. Best is trial 101 with value: 0.9693371866283087.\n",
      "[I 2025-07-02 12:38:33,994] Trial 308 finished with value: 0.5232693109247617 and parameters: {'solver_penalty': ('lbfgs', 'l2'), 'C': 3.5360862122131236, 'tol': 0.0006029281249109177, 'fit_intercept': False, 'class_weight': None, 'threshold': 0.43438292575555765}. Best is trial 101 with value: 0.9693371866283087.\n",
      "[I 2025-07-02 12:38:34,599] Trial 309 finished with value: 0.9692832055216959 and parameters: {'solver_penalty': ('lbfgs', 'l2'), 'C': 2.7441657674272832, 'tol': 0.002414344563078504, 'fit_intercept': True, 'class_weight': None, 'threshold': 0.3481990467118531}. Best is trial 101 with value: 0.9693371866283087.\n",
      "[I 2025-07-02 12:38:36,116] Trial 311 finished with value: 0.9691752287347377 and parameters: {'solver_penalty': ('lbfgs', None), 'C': 0.39759346641121507, 'tol': 0.003725401734700909, 'fit_intercept': True, 'class_weight': None, 'threshold': 0.389677842786074}. Best is trial 101 with value: 0.9693371866283087.\n",
      "[I 2025-07-02 12:38:37,888] Trial 310 finished with value: 0.9625891985321335 and parameters: {'solver_penalty': ('newton-cg', 'l2'), 'C': 5.112603785780379, 'tol': 0.007402034059246547, 'fit_intercept': True, 'class_weight': 'balanced', 'threshold': 0.08965417657557057}. Best is trial 101 with value: 0.9693371866283087.\n",
      "[I 2025-07-02 12:38:38,246] Trial 314 finished with value: 0.9692291806938845 and parameters: {'solver_penalty': ('liblinear', 'l2'), 'C': 0.0570563910876527, 'tol': 0.002163900592762234, 'fit_intercept': True, 'class_weight': 'balanced', 'threshold': 0.7556488101530294}. Best is trial 101 with value: 0.9693371866283087.\n",
      "[I 2025-07-02 12:38:38,274] Trial 312 finished with value: 0.9692831909479629 and parameters: {'solver_penalty': ('newton-cg', None), 'C': 2.3650250037519935, 'tol': 0.008320994471105889, 'fit_intercept': True, 'class_weight': None, 'threshold': 0.43338768584203663}. Best is trial 101 with value: 0.9693371866283087.\n",
      "[I 2025-07-02 12:38:39,450] Trial 313 finished with value: 0.9691212622018579 and parameters: {'solver_penalty': ('newton-cg', None), 'C': 7.409447025331411, 'tol': 0.005390905958489963, 'fit_intercept': True, 'class_weight': 'balanced', 'threshold': 0.5205100568030003}. Best is trial 101 with value: 0.9693371866283087.\n",
      "[I 2025-07-02 12:38:40,631] Trial 317 finished with value: 0.9691751850135389 and parameters: {'solver_penalty': ('lbfgs', 'l2'), 'C': 6.003135145137107, 'tol': 0.003114658057406158, 'fit_intercept': True, 'class_weight': None, 'threshold': 0.596507069187926}. Best is trial 101 with value: 0.9693371866283087.\n",
      "[I 2025-07-02 12:38:42,351] Trial 318 finished with value: 0.2954543215490129 and parameters: {'solver_penalty': ('newton-cholesky', 'l2'), 'C': 2.784290640802774, 'tol': 0.0029112748606834006, 'fit_intercept': False, 'class_weight': None, 'threshold': 0.321181940280654}. Best is trial 101 with value: 0.9693371866283087.\n",
      "[I 2025-07-02 12:38:42,756] Trial 316 finished with value: 0.9690132999886325 and parameters: {'solver_penalty': ('newton-cg', None), 'C': 6.7202870115907585, 'tol': 0.00460649538934149, 'fit_intercept': True, 'class_weight': 'balanced', 'threshold': 0.44361221012507435}. Best is trial 101 with value: 0.9693371866283087.\n",
      "[I 2025-07-02 12:38:43,103] Trial 315 finished with value: 0.9690132999886325 and parameters: {'solver_penalty': ('newton-cg', None), 'C': 7.8203485786784075, 'tol': 0.001166276957149642, 'fit_intercept': True, 'class_weight': 'balanced', 'threshold': 0.41301097207141}. Best is trial 101 with value: 0.9693371866283087.\n",
      "[I 2025-07-02 12:38:44,152] Trial 319 finished with value: 0.9689053377754071 and parameters: {'solver_penalty': ('newton-cholesky', None), 'C': 9.030378995366997, 'tol': 0.004857424456340445, 'fit_intercept': True, 'class_weight': None, 'threshold': 0.5055684316035666}. Best is trial 101 with value: 0.9693371866283087.\n",
      "[I 2025-07-02 12:38:45,345] Trial 320 finished with value: 0.9658281815187578 and parameters: {'solver_penalty': ('newton-cg', None), 'C': 2.932894777677964, 'tol': 0.00602941377939631, 'fit_intercept': False, 'class_weight': None, 'threshold': 0.573073774751229}. Best is trial 101 with value: 0.9693371866283087.\n",
      "[I 2025-07-02 12:38:45,522] Trial 321 finished with value: 0.9691212767755907 and parameters: {'solver_penalty': ('liblinear', 'l2'), 'C': 4.1346183780308285, 'tol': 0.0010898436116458358, 'fit_intercept': True, 'class_weight': None, 'threshold': 0.26545443130530094}. Best is trial 101 with value: 0.9693371866283087.\n",
      "[I 2025-07-02 12:38:46,502] Trial 322 finished with value: 0.9691752287347377 and parameters: {'solver_penalty': ('newton-cholesky', 'l2'), 'C': 0.48810785949557056, 'tol': 0.002692490536153067, 'fit_intercept': True, 'class_weight': None, 'threshold': 0.3620389878337544}. Best is trial 101 with value: 0.9693371866283087.\n",
      "[I 2025-07-02 12:38:47,595] Trial 324 finished with value: 0.9691212184806591 and parameters: {'solver_penalty': ('liblinear', 'l2'), 'C': 4.4316183210394815, 'tol': 0.0038410760393991408, 'fit_intercept': True, 'class_weight': 'balanced', 'threshold': 0.733459840341949}. Best is trial 101 with value: 0.9693371866283087.\n",
      "[I 2025-07-02 12:38:49,741] Trial 325 finished with value: 0.9690672810952453 and parameters: {'solver_penalty': ('newton-cg', 'l2'), 'C': 0.5850789836824422, 'tol': 0.002316527923860142, 'fit_intercept': True, 'class_weight': None, 'threshold': 0.2526727154462207}. Best is trial 101 with value: 0.9693371866283087.\n",
      "[I 2025-07-02 12:38:50,168] Trial 326 finished with value: 0.9692832055216961 and parameters: {'solver_penalty': ('lbfgs', 'l2'), 'C': 5.478835357908079, 'tol': 0.0024014408988519897, 'fit_intercept': True, 'class_weight': 'balanced', 'threshold': 0.6180397482797962}. Best is trial 101 with value: 0.9693371866283087.\n",
      "[I 2025-07-02 12:38:51,395] Trial 327 finished with value: 0.9692831909479629 and parameters: {'solver_penalty': ('newton-cg', None), 'C': 5.794989496462122, 'tol': 0.008087043933457607, 'fit_intercept': True, 'class_weight': None, 'threshold': 0.4361829712464095}. Best is trial 101 with value: 0.9693371866283087.\n",
      "[I 2025-07-02 12:38:52,393] Trial 329 finished with value: 0.9691212767755907 and parameters: {'solver_penalty': ('liblinear', 'l1'), 'C': 4.726786963640078, 'tol': 0.0022875857347276346, 'fit_intercept': True, 'class_weight': 'balanced', 'threshold': 0.4611921013940931}. Best is trial 101 with value: 0.9693371866283087.\n",
      "[I 2025-07-02 12:38:53,709] Trial 323 finished with value: 0.9068776651714018 and parameters: {'solver_penalty': ('liblinear', 'l1'), 'C': 7.723831072319608, 'tol': 0.0016085479741009753, 'fit_intercept': False, 'class_weight': None, 'threshold': 0.9446969553328446}. Best is trial 101 with value: 0.9693371866283087.\n",
      "[I 2025-07-02 12:38:54,055] Trial 328 finished with value: 0.9692291806938845 and parameters: {'solver_penalty': ('newton-cg', 'l2'), 'C': 1.9015222357695936, 'tol': 0.003811464955865886, 'fit_intercept': True, 'class_weight': None, 'threshold': 0.5586203021091516}. Best is trial 101 with value: 0.9693371866283087.\n",
      "[I 2025-07-02 12:38:54,472] Trial 330 finished with value: 0.9693371866283087 and parameters: {'solver_penalty': ('lbfgs', 'l2'), 'C': 3.58457988063965, 'tol': 0.001975853225693695, 'fit_intercept': True, 'class_weight': 'balanced', 'threshold': 0.5778334931243035}. Best is trial 101 with value: 0.9693371866283087.\n",
      "[I 2025-07-02 12:38:55,911] Trial 332 finished with value: 0.2604729030584436 and parameters: {'solver_penalty': ('lbfgs', 'l2'), 'C': 5.559377312570167, 'tol': 0.005072700840572148, 'fit_intercept': False, 'class_weight': None, 'threshold': 0.3060095607430821}. Best is trial 101 with value: 0.9693371866283087.\n",
      "[I 2025-07-02 12:38:57,303] Trial 331 finished with value: 0.9690132999886325 and parameters: {'solver_penalty': ('newton-cg', None), 'C': 3.7983991198163922, 'tol': 0.00145123314978406, 'fit_intercept': True, 'class_weight': 'balanced', 'threshold': 0.45163807824775637}. Best is trial 101 with value: 0.9693371866283087.\n",
      "[I 2025-07-02 12:38:58,276] Trial 334 finished with value: 0.9690133145623653 and parameters: {'solver_penalty': ('lbfgs', 'l2'), 'C': 4.647422119459527, 'tol': 0.001877717470279914, 'fit_intercept': True, 'class_weight': 'balanced', 'threshold': 0.3909999869333235}. Best is trial 101 with value: 0.9693371866283087.\n",
      "[I 2025-07-02 12:38:58,914] Trial 333 finished with value: 0.9687973609884487 and parameters: {'solver_penalty': ('newton-cholesky', None), 'C': 2.2793687467076604, 'tol': 0.00023655357111347685, 'fit_intercept': True, 'class_weight': 'balanced', 'threshold': 0.6898731776652279}. Best is trial 101 with value: 0.9693371866283087.\n",
      "[I 2025-07-02 12:38:59,748] Trial 335 finished with value: 0.9690672810952453 and parameters: {'solver_penalty': ('lbfgs', 'l2'), 'C': 3.83753668862801, 'tol': 0.001287187658548362, 'fit_intercept': True, 'class_weight': 'balanced', 'threshold': 0.4990213630379527}. Best is trial 101 with value: 0.9693371866283087.\n",
      "[I 2025-07-02 12:39:01,566] Trial 336 finished with value: 0.9691752287347377 and parameters: {'solver_penalty': ('lbfgs', 'l2'), 'C': 3.0202298221450263, 'tol': 0.0024621237146282555, 'fit_intercept': True, 'class_weight': 'balanced', 'threshold': 0.6388145663095007}. Best is trial 101 with value: 0.9693371866283087.\n",
      "[I 2025-07-02 12:39:02,336] Trial 337 finished with value: 0.9690132999886325 and parameters: {'solver_penalty': ('lbfgs', 'l2'), 'C': 4.517159513910835, 'tol': 0.0014914386485016188, 'fit_intercept': True, 'class_weight': 'balanced', 'threshold': 0.4623351337987896}. Best is trial 101 with value: 0.9693371866283087.\n",
      "[I 2025-07-02 12:39:02,901] Trial 339 finished with value: 0.9692292244150833 and parameters: {'solver_penalty': ('liblinear', 'l1'), 'C': 3.2576309926421474, 'tol': 0.0037028892319057437, 'fit_intercept': True, 'class_weight': 'balanced', 'threshold': 0.5499856184082028}. Best is trial 101 with value: 0.9693371866283087.\n",
      "[I 2025-07-02 12:39:03,515] Trial 338 finished with value: 0.9691752287347377 and parameters: {'solver_penalty': ('lbfgs', 'l2'), 'C': 3.049489370700519, 'tol': 0.004373976461318679, 'fit_intercept': True, 'class_weight': 'balanced', 'threshold': 0.641001134389396}. Best is trial 101 with value: 0.9693371866283087.\n",
      "[I 2025-07-02 12:39:04,412] Trial 340 finished with value: 0.9691751995872719 and parameters: {'solver_penalty': ('liblinear', 'l1'), 'C': 5.029228269318439, 'tol': 0.002418218562840852, 'fit_intercept': True, 'class_weight': None, 'threshold': 0.5879410727314678}. Best is trial 101 with value: 0.9693371866283087.\n",
      "[I 2025-07-02 12:39:06,773] Trial 341 finished with value: 0.9692831909479629 and parameters: {'solver_penalty': ('newton-cg', 'l2'), 'C': 6.28255602157991, 'tol': 0.005221958445501699, 'fit_intercept': True, 'class_weight': None, 'threshold': 0.4396366465251928}. Best is trial 101 with value: 0.9693371866283087.\n",
      "[I 2025-07-02 12:39:07,221] Trial 343 finished with value: 0.9692291806938845 and parameters: {'solver_penalty': ('lbfgs', 'l2'), 'C': 6.419785451531377, 'tol': 0.0015919373243302832, 'fit_intercept': True, 'class_weight': 'balanced', 'threshold': 0.7898723109603699}. Best is trial 101 with value: 0.9693371866283087.\n",
      "[I 2025-07-02 12:39:08,307] Trial 342 finished with value: 0.9693372012020415 and parameters: {'solver_penalty': ('lbfgs', None), 'C': 5.0231559568266215, 'tol': 0.00013102535351413236, 'fit_intercept': True, 'class_weight': 'balanced', 'threshold': 0.5933786651802364}. Best is trial 342 with value: 0.9693372012020415.\n",
      "[I 2025-07-02 12:39:08,308] Trial 344 finished with value: 0.9691751995872719 and parameters: {'solver_penalty': ('newton-cg', 'l2'), 'C': 5.636518061745354, 'tol': 0.007789239298968264, 'fit_intercept': True, 'class_weight': None, 'threshold': 0.48688550092940003}. Best is trial 342 with value: 0.9693372012020415.\n",
      "[I 2025-07-02 12:39:10,751] Trial 345 finished with value: 0.9347333298356373 and parameters: {'solver_penalty': ('newton-cholesky', None), 'C': 5.081520276248822, 'tol': 0.0016034497886280468, 'fit_intercept': False, 'class_weight': None, 'threshold': 0.900565911000651}. Best is trial 342 with value: 0.9693372012020415.\n",
      "[I 2025-07-02 12:39:11,171] Trial 348 finished with value: 0.9692831909479629 and parameters: {'solver_penalty': ('liblinear', 'l1'), 'C': 9.60588362532772, 'tol': 0.005861163623970807, 'fit_intercept': True, 'class_weight': 'balanced', 'threshold': 0.5932435079248726}. Best is trial 342 with value: 0.9693372012020415.\n",
      "[I 2025-07-02 12:39:12,387] Trial 347 finished with value: 0.9692832055216959 and parameters: {'solver_penalty': ('lbfgs', 'l2'), 'C': 1.188489707654444, 'tol': 0.0006221657566064913, 'fit_intercept': True, 'class_weight': 'balanced', 'threshold': 0.5693989350938542}. Best is trial 342 with value: 0.9693372012020415.\n",
      "[I 2025-07-02 12:39:12,393] Trial 346 finished with value: 0.9690133291360983 and parameters: {'solver_penalty': ('newton-cg', 'l2'), 'C': 6.3369537466726165, 'tol': 0.004427857780230301, 'fit_intercept': True, 'class_weight': None, 'threshold': 0.13915183484800614}. Best is trial 342 with value: 0.9693372012020415.\n",
      "[I 2025-07-02 12:39:14,339] Trial 349 finished with value: 0.2604729030584436 and parameters: {'solver_penalty': ('newton-cg', None), 'C': 4.952180420402428, 'tol': 0.0038208067000780792, 'fit_intercept': False, 'class_weight': None, 'threshold': 0.24424211351246095}. Best is trial 342 with value: 0.9693372012020415.\n",
      "[I 2025-07-02 12:39:15,168] Trial 352 finished with value: 0.9690673102427109 and parameters: {'solver_penalty': ('liblinear', 'l2'), 'C': 0.5162474570926525, 'tol': 0.00360773610213089, 'fit_intercept': True, 'class_weight': None, 'threshold': 0.11616541595826416}. Best is trial 342 with value: 0.9693372012020415.\n",
      "[I 2025-07-02 12:39:15,592] Trial 350 finished with value: 0.9689593480294857 and parameters: {'solver_penalty': ('lbfgs', None), 'C': 7.33737256694361, 'tol': 0.001094630489976425, 'fit_intercept': True, 'class_weight': 'balanced', 'threshold': 0.3031880394317164}. Best is trial 342 with value: 0.9693372012020415.\n",
      "[I 2025-07-02 12:39:16,897] Trial 351 finished with value: 0.9692831909479629 and parameters: {'solver_penalty': ('lbfgs', None), 'C': 5.329355177541444, 'tol': 0.002265925087342997, 'fit_intercept': True, 'class_weight': 'balanced', 'threshold': 0.6718299071210607}. Best is trial 342 with value: 0.9693372012020415.\n",
      "[I 2025-07-02 12:39:18,283] Trial 354 finished with value: 0.2604729030584436 and parameters: {'solver_penalty': ('lbfgs', None), 'C': 6.878703682066389, 'tol': 0.006844070616158348, 'fit_intercept': False, 'class_weight': 'balanced', 'threshold': 0.18622670576876532}. Best is trial 342 with value: 0.9693372012020415.\n",
      "[I 2025-07-02 12:39:19,068] Trial 353 finished with value: 0.9692832055216959 and parameters: {'solver_penalty': ('newton-cg', None), 'C': 3.569484713790342, 'tol': 0.0055064984318481435, 'fit_intercept': True, 'class_weight': None, 'threshold': 0.32209690419536063}. Best is trial 342 with value: 0.9693372012020415.\n",
      "[I 2025-07-02 12:39:19,832] Trial 355 finished with value: 0.9690132999886325 and parameters: {'solver_penalty': ('newton-cg', None), 'C': 5.233482323756249, 'tol': 0.005223502225181065, 'fit_intercept': True, 'class_weight': None, 'threshold': 0.22936887461792133}. Best is trial 342 with value: 0.9693372012020415.\n",
      "[I 2025-07-02 12:39:21,015] Trial 356 finished with value: 0.9692832055216959 and parameters: {'solver_penalty': ('lbfgs', 'l2'), 'C': 6.802490677146414, 'tol': 0.0023330603507466397, 'fit_intercept': True, 'class_weight': 'balanced', 'threshold': 0.5548367035375334}. Best is trial 342 with value: 0.9693372012020415.\n",
      "[I 2025-07-02 12:39:22,417] Trial 357 finished with value: 0.9690672956689779 and parameters: {'solver_penalty': ('newton-cholesky', None), 'C': 6.263972595814913, 'tol': 0.004801074560069578, 'fit_intercept': True, 'class_weight': None, 'threshold': 0.231660477406409}. Best is trial 342 with value: 0.9693372012020415.\n",
      "[I 2025-07-02 12:39:22,820] Trial 358 finished with value: 0.9693371866283087 and parameters: {'solver_penalty': ('lbfgs', 'l2'), 'C': 4.8503938834786915, 'tol': 0.003823941007374378, 'fit_intercept': True, 'class_weight': 'balanced', 'threshold': 0.6173868544880615}. Best is trial 342 with value: 0.9693372012020415.\n",
      "[I 2025-07-02 12:39:24,257] Trial 359 finished with value: 0.9691751995872719 and parameters: {'solver_penalty': ('lbfgs', 'l2'), 'C': 4.263626072845062, 'tol': 0.0012424190021399846, 'fit_intercept': True, 'class_weight': 'balanced', 'threshold': 0.7343086529665577}. Best is trial 342 with value: 0.9693372012020415.\n",
      "[I 2025-07-02 12:39:24,482] Trial 360 finished with value: 0.9692292244150833 and parameters: {'solver_penalty': ('lbfgs', None), 'C': 0.5982807974109896, 'tol': 0.006335507551177994, 'fit_intercept': True, 'class_weight': None, 'threshold': 0.3201846866560473}. Best is trial 342 with value: 0.9693372012020415.\n",
      "[I 2025-07-02 12:39:26,757] Trial 362 finished with value: 0.9691751850135389 and parameters: {'solver_penalty': ('lbfgs', 'l2'), 'C': 3.786988694433856, 'tol': 0.0021196080637957623, 'fit_intercept': True, 'class_weight': 'balanced', 'threshold': 0.8033752661171558}. Best is trial 342 with value: 0.9693372012020415.\n",
      "[I 2025-07-02 12:39:27,320] Trial 361 finished with value: 0.9693371866283087 and parameters: {'solver_penalty': ('newton-cg', None), 'C': 1.266132703813293, 'tol': 0.0032680469515246197, 'fit_intercept': True, 'class_weight': None, 'threshold': 0.34014865720300647}. Best is trial 342 with value: 0.9693372012020415.\n",
      "[I 2025-07-02 12:39:27,739] Trial 363 finished with value: 0.9691751995872719 and parameters: {'solver_penalty': ('lbfgs', None), 'C': 4.745153747345028, 'tol': 0.0009580842651639162, 'fit_intercept': True, 'class_weight': 'balanced', 'threshold': 0.7421097258699599}. Best is trial 342 with value: 0.9693372012020415.\n",
      "[I 2025-07-02 12:39:30,397] Trial 365 finished with value: 0.9692831909479629 and parameters: {'solver_penalty': ('lbfgs', None), 'C': 4.167689062942303, 'tol': 0.0010982214667032072, 'fit_intercept': True, 'class_weight': 'balanced', 'threshold': 0.6659531943478612}. Best is trial 342 with value: 0.9693372012020415.\n",
      "[I 2025-07-02 12:39:31,608] Trial 364 finished with value: 0.9015334044531498 and parameters: {'solver_penalty': ('lbfgs', None), 'C': 3.555676947199627, 'tol': 0.00013483978222340038, 'fit_intercept': False, 'class_weight': 'balanced', 'threshold': 0.6070135890918431}. Best is trial 342 with value: 0.9693372012020415.\n",
      "[I 2025-07-02 12:39:31,635] Trial 367 finished with value: 0.9692292244150833 and parameters: {'solver_penalty': ('lbfgs', 'l2'), 'C': 5.241192457699203, 'tol': 0.003876726155135778, 'fit_intercept': True, 'class_weight': 'balanced', 'threshold': 0.5545404118954101}. Best is trial 342 with value: 0.9693372012020415.\n",
      "[I 2025-07-02 12:39:32,086] Trial 366 finished with value: 0.9691212913493237 and parameters: {'solver_penalty': ('newton-cholesky', 'l2'), 'C': 2.9789760363012925, 'tol': 0.0002494501891346238, 'fit_intercept': True, 'class_weight': 'balanced', 'threshold': 0.34537642415064257}. Best is trial 342 with value: 0.9693372012020415.\n",
      "[I 2025-07-02 12:39:34,750] Trial 368 finished with value: 0.9690132999886325 and parameters: {'solver_penalty': ('lbfgs', None), 'C': 1.3064280180976535, 'tol': 0.0015133557067974219, 'fit_intercept': True, 'class_weight': 'balanced', 'threshold': 0.4632518845153714}. Best is trial 342 with value: 0.9693372012020415.\n",
      "[I 2025-07-02 12:39:34,993] Trial 369 finished with value: 0.9691751995872719 and parameters: {'solver_penalty': ('lbfgs', 'l2'), 'C': 5.276141867516596, 'tol': 0.0038428016882685297, 'fit_intercept': True, 'class_weight': 'balanced', 'threshold': 0.7138148439874044}. Best is trial 342 with value: 0.9693372012020415.\n",
      "[I 2025-07-02 12:39:35,330] Trial 370 finished with value: 0.8893322752803258 and parameters: {'solver_penalty': ('newton-cholesky', None), 'C': 1.5386308116959126, 'tol': 0.007783161889560155, 'fit_intercept': False, 'class_weight': None, 'threshold': 0.9602741318339918}. Best is trial 342 with value: 0.9693372012020415.\n",
      "[I 2025-07-02 12:39:35,758] Trial 371 finished with value: 0.7093528825386277 and parameters: {'solver_penalty': ('newton-cholesky', None), 'C': 7.9494625708624795, 'tol': 0.0072893984752135325, 'fit_intercept': False, 'class_weight': None, 'threshold': 0.39789892667877214}. Best is trial 342 with value: 0.9693372012020415.\n",
      "[I 2025-07-02 12:39:37,464] Trial 372 finished with value: 0.9692292098413503 and parameters: {'solver_penalty': ('liblinear', 'l2'), 'C': 3.233553110254008, 'tol': 0.00494750178231234, 'fit_intercept': True, 'class_weight': None, 'threshold': 0.3918094939506341}. Best is trial 342 with value: 0.9693372012020415.\n",
      "[I 2025-07-02 12:39:38,077] Trial 374 finished with value: 0.9692292098413503 and parameters: {'solver_penalty': ('liblinear', 'l1'), 'C': 6.409845879648692, 'tol': 0.004716307392367218, 'fit_intercept': True, 'class_weight': 'balanced', 'threshold': 0.6179378644944102}. Best is trial 342 with value: 0.9693372012020415.\n",
      "[I 2025-07-02 12:39:40,156] Trial 375 finished with value: 0.9690132999886325 and parameters: {'solver_penalty': ('lbfgs', None), 'C': 1.7200586726181102, 'tol': 0.0005071395669038461, 'fit_intercept': True, 'class_weight': None, 'threshold': 0.20905340151845053}. Best is trial 342 with value: 0.9693372012020415.\n",
      "[I 2025-07-02 12:39:40,524] Trial 373 finished with value: 0.9631829907048731 and parameters: {'solver_penalty': ('newton-cg', 'l2'), 'C': 0.17187727960589894, 'tol': 0.0013537686239914499, 'fit_intercept': True, 'class_weight': 'balanced', 'threshold': 0.09449866729032158}. Best is trial 342 with value: 0.9693372012020415.\n",
      "[I 2025-07-02 12:39:40,884] Trial 377 finished with value: 0.26435967389815296 and parameters: {'solver_penalty': ('newton-cholesky', 'l2'), 'C': 2.3519645884147486, 'tol': 0.008867571671622186, 'fit_intercept': False, 'class_weight': None, 'threshold': 0.19618642072911407}. Best is trial 342 with value: 0.9693372012020415.\n",
      "[I 2025-07-02 12:39:42,645] Trial 376 finished with value: 0.9692291806938845 and parameters: {'solver_penalty': ('newton-cg', None), 'C': 3.0697626751436564, 'tol': 0.0008143809470551918, 'fit_intercept': True, 'class_weight': None, 'threshold': 0.5105223382781603}. Best is trial 342 with value: 0.9693372012020415.\n",
      "[I 2025-07-02 12:39:43,431] Trial 379 finished with value: 0.260580865271669 and parameters: {'solver_penalty': ('liblinear', 'l2'), 'C': 5.527848276767107, 'tol': 1.4319436960974832e-05, 'fit_intercept': False, 'class_weight': 'balanced', 'threshold': 0.013546802367135236}. Best is trial 342 with value: 0.9693372012020415.\n",
      "[I 2025-07-02 12:39:44,455] Trial 380 finished with value: 0.9692832055216959 and parameters: {'solver_penalty': ('lbfgs', 'l2'), 'C': 4.518540959755157, 'tol': 0.00026026713369758404, 'fit_intercept': True, 'class_weight': None, 'threshold': 0.2989827267806301}. Best is trial 342 with value: 0.9693372012020415.\n",
      "[I 2025-07-02 12:39:45,307] Trial 378 finished with value: 0.9692832055216959 and parameters: {'solver_penalty': ('newton-cg', 'l2'), 'C': 1.8707920807725393, 'tol': 0.00413277966561487, 'fit_intercept': True, 'class_weight': None, 'threshold': 0.31078613563016944}. Best is trial 342 with value: 0.9693372012020415.\n",
      "[I 2025-07-02 12:39:45,831] Trial 381 finished with value: 0.9648024967719182 and parameters: {'solver_penalty': ('liblinear', 'l2'), 'C': 1.041642153888176, 'tol': 0.006048861936754531, 'fit_intercept': False, 'class_weight': 'balanced', 'threshold': 0.9445996564481767}. Best is trial 342 with value: 0.9693372012020415.\n",
      "[I 2025-07-02 12:39:46,564] Trial 382 finished with value: 0.9691751995872719 and parameters: {'solver_penalty': ('liblinear', 'l1'), 'C': 1.972834319506395, 'tol': 0.003251951689210429, 'fit_intercept': True, 'class_weight': 'balanced', 'threshold': 0.7844054909582707}. Best is trial 342 with value: 0.9693372012020415.\n",
      "[I 2025-07-02 12:39:48,294] Trial 384 finished with value: 0.9691752433084705 and parameters: {'solver_penalty': ('liblinear', 'l1'), 'C': 2.687488613755211, 'tol': 0.0018797418027916427, 'fit_intercept': True, 'class_weight': 'balanced', 'threshold': 0.5410874767588003}. Best is trial 342 with value: 0.9693372012020415.\n",
      "[I 2025-07-02 12:39:48,331] Trial 383 finished with value: 0.9674477604544673 and parameters: {'solver_penalty': ('newton-cholesky', 'l2'), 'C': 1.8572118895855363, 'tol': 0.003300261147304602, 'fit_intercept': True, 'class_weight': None, 'threshold': 0.0686474167622309}. Best is trial 342 with value: 0.9693372012020415.\n",
      "[I 2025-07-02 12:39:50,259] Trial 388 finished with value: 0.2604729030584436 and parameters: {'solver_penalty': ('lbfgs', None), 'C': 0.2075652566293691, 'tol': 0.009009561759626038, 'fit_intercept': False, 'class_weight': None, 'threshold': 0.23079520839096723}. Best is trial 342 with value: 0.9693372012020415.\n",
      "[I 2025-07-02 12:39:50,777] Trial 385 finished with value: 0.9690133291360983 and parameters: {'solver_penalty': ('newton-cg', None), 'C': 1.235127922716569, 'tol': 0.006825675565224103, 'fit_intercept': True, 'class_weight': 'balanced', 'threshold': 0.25671384872859176}. Best is trial 342 with value: 0.9693372012020415.\n",
      "[I 2025-07-02 12:39:52,583] Trial 387 finished with value: 0.968851298373863 and parameters: {'solver_penalty': ('newton-cholesky', None), 'C': 4.497017085182662, 'tol': 0.0008306750138010894, 'fit_intercept': True, 'class_weight': None, 'threshold': 0.6655951760262888}. Best is trial 342 with value: 0.9693372012020415.\n",
      "[I 2025-07-02 12:39:52,607] Trial 386 finished with value: 0.8038776476829221 and parameters: {'solver_penalty': ('liblinear', 'l1'), 'C': 2.6840154545759516, 'tol': 0.002847119164517327, 'fit_intercept': False, 'class_weight': 'balanced', 'threshold': 0.5098011332660263}. Best is trial 342 with value: 0.9693372012020415.\n",
      "[I 2025-07-02 12:39:53,717] Trial 389 finished with value: 0.9691752141610047 and parameters: {'solver_penalty': ('lbfgs', None), 'C': 1.267799150767087, 'tol': 0.004273666801622888, 'fit_intercept': True, 'class_weight': None, 'threshold': 0.44414485105859347}. Best is trial 342 with value: 0.9693372012020415.\n",
      "[I 2025-07-02 12:39:54,925] Trial 390 finished with value: 0.9691751995872719 and parameters: {'solver_penalty': ('lbfgs', None), 'C': 5.821145407410743, 'tol': 0.0002483840586630867, 'fit_intercept': True, 'class_weight': None, 'threshold': 0.44442810664708}. Best is trial 342 with value: 0.9693372012020415.\n",
      "[I 2025-07-02 12:39:56,642] Trial 392 finished with value: 0.9691212767755907 and parameters: {'solver_penalty': ('newton-cholesky', None), 'C': 7.377031572003128, 'tol': 0.004802859273842449, 'fit_intercept': True, 'class_weight': 'balanced', 'threshold': 0.5099865808814289}. Best is trial 342 with value: 0.9693372012020415.\n",
      "[I 2025-07-02 12:39:57,311] Trial 393 finished with value: 0.9692831909479629 and parameters: {'solver_penalty': ('newton-cg', 'l2'), 'C': 1.5976270072887102, 'tol': 0.0055453032589315426, 'fit_intercept': True, 'class_weight': None, 'threshold': 0.44795020171751576}. Best is trial 342 with value: 0.9693372012020415.\n",
      "[I 2025-07-02 12:39:57,498] Trial 391 finished with value: 0.9599437745385228 and parameters: {'solver_penalty': ('liblinear', 'l1'), 'C': 1.3606211413258897, 'tol': 0.0024493006746796647, 'fit_intercept': False, 'class_weight': 'balanced', 'threshold': 0.6933706744533896}. Best is trial 342 with value: 0.9693372012020415.\n",
      "[I 2025-07-02 12:39:58,326] Trial 394 finished with value: 0.9690132999886325 and parameters: {'solver_penalty': ('lbfgs', None), 'C': 5.007946525664555, 'tol': 0.0020334190952871456, 'fit_intercept': True, 'class_weight': 'balanced', 'threshold': 0.46456252228389294}. Best is trial 342 with value: 0.9693372012020415.\n",
      "[I 2025-07-02 12:40:00,016] Trial 395 finished with value: 0.9630210328113022 and parameters: {'solver_penalty': ('newton-cholesky', 'l2'), 'C': 2.981911935495045, 'tol': 0.0043695942125648694, 'fit_intercept': True, 'class_weight': None, 'threshold': 0.9206251995188132}. Best is trial 342 with value: 0.9693372012020415.\n",
      "[I 2025-07-02 12:40:01,307] Trial 397 finished with value: 0.9691752287347377 and parameters: {'solver_penalty': ('lbfgs', None), 'C': 7.845237021137135, 'tol': 0.001148798442373131, 'fit_intercept': True, 'class_weight': 'balanced', 'threshold': 0.628264776601297}. Best is trial 342 with value: 0.9693372012020415.\n",
      "[I 2025-07-02 12:40:02,094] Trial 396 finished with value: 0.9691212622018579 and parameters: {'solver_penalty': ('newton-cg', None), 'C': 0.055226197495601426, 'tol': 0.003925883602079662, 'fit_intercept': True, 'class_weight': None, 'threshold': 0.27491255844541085}. Best is trial 342 with value: 0.9693372012020415.\n",
      "[I 2025-07-02 12:40:02,893] Trial 399 finished with value: 0.9690132999886325 and parameters: {'solver_penalty': ('lbfgs', None), 'C': 0.5838243021386116, 'tol': 0.004603523522029574, 'fit_intercept': True, 'class_weight': None, 'threshold': 0.231306837651092}. Best is trial 342 with value: 0.9693372012020415.\n",
      "[I 2025-07-02 12:40:03,439] Trial 398 finished with value: 0.9691212184806591 and parameters: {'solver_penalty': ('newton-cg', None), 'C': 2.1474058192838807, 'tol': 0.0036303337767648203, 'fit_intercept': True, 'class_weight': None, 'threshold': 0.4388961472942386}. Best is trial 342 with value: 0.9693372012020415.\n",
      "[I 2025-07-02 12:40:05,225] Trial 400 finished with value: 0.9691751995872719 and parameters: {'solver_penalty': ('newton-cholesky', 'l2'), 'C': 2.263291134442807, 'tol': 0.006372599959609732, 'fit_intercept': True, 'class_weight': None, 'threshold': 0.6098821548347428}. Best is trial 342 with value: 0.9693372012020415.\n",
      "[I 2025-07-02 12:40:05,466] Trial 401 finished with value: 0.9691752287347377 and parameters: {'solver_penalty': ('lbfgs', None), 'C': 0.7844335578191881, 'tol': 0.007107099763848943, 'fit_intercept': True, 'class_weight': 'balanced', 'threshold': 0.6445056975261809}. Best is trial 342 with value: 0.9693372012020415.\n",
      "[I 2025-07-02 12:40:07,484] Trial 402 finished with value: 0.2604729030584436 and parameters: {'solver_penalty': ('newton-cg', None), 'C': 2.111620142273216, 'tol': 0.006072344835013349, 'fit_intercept': False, 'class_weight': 'balanced', 'threshold': 0.23551174982177425}. Best is trial 342 with value: 0.9693372012020415.\n",
      "[I 2025-07-02 12:40:08,703] Trial 404 finished with value: 0.2604729030584436 and parameters: {'solver_penalty': ('lbfgs', None), 'C': 2.817487094981573, 'tol': 0.003220548890726933, 'fit_intercept': True, 'class_weight': None, 'threshold': 0.011889180937472377}. Best is trial 342 with value: 0.9693372012020415.\n",
      "[I 2025-07-02 12:40:09,264] Trial 405 finished with value: 0.2604729030584436 and parameters: {'solver_penalty': ('lbfgs', None), 'C': 4.34127309522235, 'tol': 0.0032910651261390243, 'fit_intercept': False, 'class_weight': 'balanced', 'threshold': 0.01892363518382134}. Best is trial 342 with value: 0.9693372012020415.\n",
      "[I 2025-07-02 12:40:09,280] Trial 403 finished with value: 0.9692832055216961 and parameters: {'solver_penalty': ('newton-cg', 'l2'), 'C': 6.083931208936058, 'tol': 0.0017407321002364758, 'fit_intercept': True, 'class_weight': 'balanced', 'threshold': 0.6070527640764891}. Best is trial 342 with value: 0.9693372012020415.\n",
      "[I 2025-07-02 12:40:10,966] Trial 406 finished with value: 0.2604729030584436 and parameters: {'solver_penalty': ('lbfgs', 'l2'), 'C': 5.527028278317624, 'tol': 0.009138521352259728, 'fit_intercept': False, 'class_weight': 'balanced', 'threshold': 0.10305108248340278}. Best is trial 342 with value: 0.9693372012020415.\n",
      "[I 2025-07-02 12:40:12,158] Trial 409 finished with value: 0.9692831909479629 and parameters: {'solver_penalty': ('liblinear', 'l1'), 'C': 3.7262344149311293, 'tol': 0.0034018946762939253, 'fit_intercept': True, 'class_weight': 'balanced', 'threshold': 0.6061305742285279}. Best is trial 342 with value: 0.9693372012020415.\n",
      "[I 2025-07-02 12:40:12,709] Trial 408 finished with value: 0.9690672810952453 and parameters: {'solver_penalty': ('liblinear', 'l1'), 'C': 3.005119036523728, 'tol': 0.004252681937525198, 'fit_intercept': True, 'class_weight': 'balanced', 'threshold': 0.5395814156041495}. Best is trial 342 with value: 0.9693372012020415.\n",
      "[I 2025-07-02 12:40:12,955] Trial 407 finished with value: 0.9688513712425273 and parameters: {'solver_penalty': ('lbfgs', 'l2'), 'C': 6.1623773010838025, 'tol': 0.007305480261985466, 'fit_intercept': True, 'class_weight': 'balanced', 'threshold': 0.38858160016559007}. Best is trial 342 with value: 0.9693372012020415.\n",
      "[I 2025-07-02 12:40:15,374] Trial 411 finished with value: 0.9398079036268191 and parameters: {'solver_penalty': ('lbfgs', None), 'C': 5.411832812309687, 'tol': 0.0032688760262494744, 'fit_intercept': False, 'class_weight': 'balanced', 'threshold': 0.5437255473352834}. Best is trial 342 with value: 0.9693372012020415.\n",
      "[I 2025-07-02 12:40:15,389] Trial 413 finished with value: 0.9691212184806594 and parameters: {'solver_penalty': ('liblinear', 'l1'), 'C': 2.797784163114569, 'tol': 0.004505683571145237, 'fit_intercept': True, 'class_weight': None, 'threshold': 0.4457944208802018}. Best is trial 342 with value: 0.9693372012020415.\n",
      "[I 2025-07-02 12:40:16,015] Trial 410 finished with value: 0.9691752287347377 and parameters: {'solver_penalty': ('newton-cg', 'l2'), 'C': 7.159799986948917, 'tol': 0.0018375374378834133, 'fit_intercept': True, 'class_weight': 'balanced', 'threshold': 0.6369711818729298}. Best is trial 342 with value: 0.9693372012020415.\n",
      "[I 2025-07-02 12:40:18,346] Trial 416 finished with value: 0.9690133291360983 and parameters: {'solver_penalty': ('liblinear', 'l1'), 'C': 7.953201264103571, 'tol': 0.0016929476174486176, 'fit_intercept': True, 'class_weight': 'balanced', 'threshold': 0.27711976356079554}. Best is trial 342 with value: 0.9693372012020415.\n",
      "[I 2025-07-02 12:40:18,545] Trial 412 finished with value: 0.26284811547060044 and parameters: {'solver_penalty': ('newton-cg', None), 'C': 0.1890400597227817, 'tol': 0.0004860417550386891, 'fit_intercept': False, 'class_weight': 'balanced', 'threshold': 0.18500123440957772}. Best is trial 342 with value: 0.9693372012020415.\n",
      "[I 2025-07-02 12:40:19,671] Trial 414 finished with value: 0.9691212622018579 and parameters: {'solver_penalty': ('newton-cg', 'l2'), 'C': 4.129722954125304, 'tol': 0.0018280939678881887, 'fit_intercept': True, 'class_weight': 'balanced', 'threshold': 0.5164906459723371}. Best is trial 342 with value: 0.9693372012020415.\n",
      "[I 2025-07-02 12:40:20,473] Trial 415 finished with value: 0.9690672373740465 and parameters: {'solver_penalty': ('newton-cg', 'l2'), 'C': 8.931878947605998, 'tol': 0.00039802823120829115, 'fit_intercept': True, 'class_weight': 'balanced', 'threshold': 0.83610785401391}. Best is trial 342 with value: 0.9693372012020415.\n",
      "[I 2025-07-02 12:40:21,790] Trial 418 finished with value: 0.9690132999886325 and parameters: {'solver_penalty': ('lbfgs', 'l2'), 'C': 0.29931861720139263, 'tol': 0.00615917842701752, 'fit_intercept': True, 'class_weight': None, 'threshold': 0.25310560032799334}. Best is trial 342 with value: 0.9693372012020415.\n",
      "[I 2025-07-02 12:40:21,800] Trial 417 finished with value: 0.964964600402818 and parameters: {'solver_penalty': ('liblinear', 'l1'), 'C': 5.872827153517391, 'tol': 0.0038188740351251076, 'fit_intercept': False, 'class_weight': 'balanced', 'threshold': 0.6501954771628207}. Best is trial 342 with value: 0.9693372012020415.\n",
      "[I 2025-07-02 12:40:23,283] Trial 419 finished with value: 0.9692832055216959 and parameters: {'solver_penalty': ('lbfgs', 'l2'), 'C': 0.030666724814174096, 'tol': 0.003958324164518218, 'fit_intercept': True, 'class_weight': None, 'threshold': 0.3171770167146557}. Best is trial 342 with value: 0.9693372012020415.\n",
      "[I 2025-07-02 12:40:25,260] Trial 422 finished with value: 0.9690672810952453 and parameters: {'solver_penalty': ('liblinear', 'l1'), 'C': 6.199804714536763, 'tol': 0.0011214749427065883, 'fit_intercept': True, 'class_weight': 'balanced', 'threshold': 0.47174483330732536}. Best is trial 342 with value: 0.9693372012020415.\n",
      "[I 2025-07-02 12:40:25,296] Trial 420 finished with value: 0.7395270969415564 and parameters: {'solver_penalty': ('lbfgs', 'l2'), 'C': 1.8304939880642235, 'tol': 0.0010041773141226031, 'fit_intercept': True, 'class_weight': None, 'threshold': 0.977260290429962}. Best is trial 342 with value: 0.9693372012020415.\n",
      "[I 2025-07-02 12:40:26,901] Trial 423 finished with value: 0.9692832055216961 and parameters: {'solver_penalty': ('lbfgs', 'l2'), 'C': 5.620578682020313, 'tol': 0.002785024537252655, 'fit_intercept': True, 'class_weight': 'balanced', 'threshold': 0.6275851861567036}. Best is trial 342 with value: 0.9693372012020415.\n",
      "[I 2025-07-02 12:40:27,285] Trial 421 finished with value: 0.9693371866283087 and parameters: {'solver_penalty': ('newton-cg', None), 'C': 1.044430374278187, 'tol': 0.0020133280552238515, 'fit_intercept': True, 'class_weight': None, 'threshold': 0.3175163665654652}. Best is trial 342 with value: 0.9693372012020415.\n",
      "[I 2025-07-02 12:40:29,974] Trial 427 finished with value: 0.9690133145623653 and parameters: {'solver_penalty': ('liblinear', 'l2'), 'C': 7.5100107349924, 'tol': 0.0023017538706889087, 'fit_intercept': True, 'class_weight': 'balanced', 'threshold': 0.40363956555839775}. Best is trial 342 with value: 0.9693372012020415.\n",
      "[I 2025-07-02 12:40:30,180] Trial 424 finished with value: 0.9690672810952453 and parameters: {'solver_penalty': ('newton-cg', 'l2'), 'C': 6.8258437295270005, 'tol': 0.0018253547022753995, 'fit_intercept': True, 'class_weight': 'balanced', 'threshold': 0.47943036256243676}. Best is trial 342 with value: 0.9693372012020415.\n",
      "[I 2025-07-02 12:40:30,369] Trial 425 finished with value: 0.968635388521145 and parameters: {'solver_penalty': ('newton-cg', 'l2'), 'C': 5.951375801066317, 'tol': 0.0015481199800788086, 'fit_intercept': True, 'class_weight': 'balanced', 'threshold': 0.8982958675591661}. Best is trial 342 with value: 0.9693372012020415.\n",
      "[I 2025-07-02 12:40:30,610] Trial 426 finished with value: 0.9691752287347377 and parameters: {'solver_penalty': ('lbfgs', 'l2'), 'C': 4.735260794915409, 'tol': 0.0032834490569307166, 'fit_intercept': True, 'class_weight': 'balanced', 'threshold': 0.644304028533578}. Best is trial 342 with value: 0.9693372012020415.\n",
      "[I 2025-07-02 12:40:32,968] Trial 429 finished with value: 0.2604729030584436 and parameters: {'solver_penalty': ('lbfgs', 'l2'), 'C': 5.211882639798637, 'tol': 0.004251023459165074, 'fit_intercept': False, 'class_weight': 'balanced', 'threshold': 0.32882832656022515}. Best is trial 342 with value: 0.9693372012020415.\n",
      "[I 2025-07-02 12:40:33,767] Trial 430 finished with value: 0.9690133291360983 and parameters: {'solver_penalty': ('lbfgs', 'l2'), 'C': 2.5404909270494254, 'tol': 0.005018765534110464, 'fit_intercept': True, 'class_weight': 'balanced', 'threshold': 0.3204559868094443}. Best is trial 342 with value: 0.9693372012020415.\n",
      "[I 2025-07-02 12:40:34,708] Trial 431 finished with value: 0.9686894133489563 and parameters: {'solver_penalty': ('newton-cg', None), 'C': 0.7673081195198674, 'tol': 0.0011323119784366954, 'fit_intercept': True, 'class_weight': None, 'threshold': 0.08192645244104996}. Best is trial 342 with value: 0.9693372012020415.\n",
      "[I 2025-07-02 12:40:35,105] Trial 428 finished with value: 0.9678256427744889 and parameters: {'solver_penalty': ('newton-cg', None), 'C': 1.47091228401192, 'tol': 0.00021867630724271337, 'fit_intercept': True, 'class_weight': None, 'threshold': 0.11571649767854139}. Best is trial 342 with value: 0.9693372012020415.\n",
      "[I 2025-07-02 12:40:36,630] Trial 432 finished with value: 0.9691752287347377 and parameters: {'solver_penalty': ('newton-cg', None), 'C': 0.74547930044271, 'tol': 0.0027274929690086634, 'fit_intercept': True, 'class_weight': None, 'threshold': 0.380870388896795}. Best is trial 342 with value: 0.9693372012020415.\n",
      "[I 2025-07-02 12:40:37,242] Trial 433 finished with value: 0.9692292244150833 and parameters: {'solver_penalty': ('newton-cg', None), 'C': 0.37533317289739865, 'tol': 0.0025916169996932125, 'fit_intercept': True, 'class_weight': None, 'threshold': 0.29000550707677747}. Best is trial 342 with value: 0.9693372012020415.\n",
      "[I 2025-07-02 12:40:38,698] Trial 435 finished with value: 0.9690132854148995 and parameters: {'solver_penalty': ('newton-cg', 'l2'), 'C': 6.668408178034698, 'tol': 0.002247884038420365, 'fit_intercept': False, 'class_weight': 'balanced', 'threshold': 0.737851093602923}. Best is trial 342 with value: 0.9693372012020415.\n",
      "[I 2025-07-02 12:40:39,245] Trial 434 finished with value: 0.9690132854148995 and parameters: {'solver_penalty': ('newton-cg', 'l2'), 'C': 4.784948753447175, 'tol': 9.867721757935962e-05, 'fit_intercept': True, 'class_weight': 'balanced', 'threshold': 0.657635695114508}. Best is trial 342 with value: 0.9693372012020415.\n",
      "[I 2025-07-02 12:40:40,742] Trial 436 finished with value: 0.9692831909479629 and parameters: {'solver_penalty': ('newton-cg', None), 'C': 0.001783165729129621, 'tol': 0.0022511116842763774, 'fit_intercept': True, 'class_weight': None, 'threshold': 0.4195201112932564}. Best is trial 342 with value: 0.9693372012020415.\n",
      "[I 2025-07-02 12:40:41,200] Trial 437 finished with value: 0.9691751995872719 and parameters: {'solver_penalty': ('newton-cg', None), 'C': 0.3673973209753896, 'tol': 0.0008909532205843658, 'fit_intercept': True, 'class_weight': None, 'threshold': 0.486100651202517}. Best is trial 342 with value: 0.9693372012020415.\n",
      "[I 2025-07-02 12:40:42,887] Trial 438 finished with value: 0.9692832055216959 and parameters: {'solver_penalty': ('lbfgs', None), 'C': 4.3728486269042595, 'tol': 0.0002924626535319902, 'fit_intercept': True, 'class_weight': 'balanced', 'threshold': 0.5766539725300741}. Best is trial 342 with value: 0.9693372012020415.\n",
      "[I 2025-07-02 12:40:43,745] Trial 440 finished with value: 0.2604729030584436 and parameters: {'solver_penalty': ('newton-cg', None), 'C': 6.390829774307905, 'tol': 0.009089662467108114, 'fit_intercept': False, 'class_weight': None, 'threshold': 0.48222728634964174}. Best is trial 342 with value: 0.9693372012020415.\n",
      "[I 2025-07-02 12:40:44,485] Trial 439 finished with value: 0.9208594130283343 and parameters: {'solver_penalty': ('lbfgs', 'l2'), 'C': 9.795944447084501, 'tol': 0.0009331497535452905, 'fit_intercept': False, 'class_weight': 'balanced', 'threshold': 0.588284133782319}. Best is trial 342 with value: 0.9693372012020415.\n",
      "[I 2025-07-02 12:40:45,298] Trial 441 finished with value: 0.9687973318409832 and parameters: {'solver_penalty': ('newton-cg', None), 'C': 3.280785874956408, 'tol': 0.006119663639558066, 'fit_intercept': True, 'class_weight': None, 'threshold': 0.7371693467239078}. Best is trial 342 with value: 0.9693372012020415.\n",
      "[I 2025-07-02 12:40:47,233] Trial 442 finished with value: 0.9383505449118725 and parameters: {'solver_penalty': ('lbfgs', None), 'C': 3.6785738323195623, 'tol': 0.0008304323165091946, 'fit_intercept': False, 'class_weight': None, 'threshold': 0.8664304629774391}. Best is trial 342 with value: 0.9693372012020415.\n",
      "[I 2025-07-02 12:40:48,397] Trial 444 finished with value: 0.9693371866283087 and parameters: {'solver_penalty': ('lbfgs', 'l2'), 'C': 4.302153641885901, 'tol': 0.0036503771926074775, 'fit_intercept': True, 'class_weight': 'balanced', 'threshold': 0.6090863216638159}. Best is trial 342 with value: 0.9693372012020415.\n",
      "[I 2025-07-02 12:40:48,774] Trial 443 finished with value: 0.9689593334557527 and parameters: {'solver_penalty': ('newton-cg', None), 'C': 0.773012360830839, 'tol': 0.004019378648664005, 'fit_intercept': True, 'class_weight': 'balanced', 'threshold': 0.2288630143919574}. Best is trial 342 with value: 0.9693372012020415.\n",
      "[I 2025-07-02 12:40:49,637] Trial 446 finished with value: 0.2604729030584436 and parameters: {'solver_penalty': ('lbfgs', None), 'C': 4.677567943479903, 'tol': 0.00818644344540302, 'fit_intercept': False, 'class_weight': None, 'threshold': 0.005958768519051527}. Best is trial 342 with value: 0.9693372012020415.\n",
      "[I 2025-07-02 12:40:49,858] Trial 445 finished with value: 0.9692292244150833 and parameters: {'solver_penalty': ('lbfgs', 'l2'), 'C': 5.606617300641394, 'tol': 0.0015716235324588746, 'fit_intercept': True, 'class_weight': 'balanced', 'threshold': 0.5470603693443034}. Best is trial 342 with value: 0.9693372012020415.\n",
      "[I 2025-07-02 12:40:53,381] Trial 450 finished with value: 0.9691212622018579 and parameters: {'solver_penalty': ('lbfgs', 'l2'), 'C': 4.498480244168472, 'tol': 0.004144921292698374, 'fit_intercept': True, 'class_weight': 'balanced', 'threshold': 0.5224712599129148}. Best is trial 342 with value: 0.9693372012020415.\n",
      "[I 2025-07-02 12:40:53,398] Trial 449 finished with value: 0.9691751995872719 and parameters: {'solver_penalty': ('lbfgs', 'l2'), 'C': 2.9802182894292715, 'tol': 0.00046691568351007627, 'fit_intercept': True, 'class_weight': None, 'threshold': 0.6660773738602401}. Best is trial 342 with value: 0.9693372012020415.\n",
      "[I 2025-07-02 12:40:53,632] Trial 448 finished with value: 0.9680415963484055 and parameters: {'solver_penalty': ('newton-cg', 'l2'), 'C': 5.407539882623542, 'tol': 0.0019291710170246143, 'fit_intercept': True, 'class_weight': None, 'threshold': 0.8376480006879828}. Best is trial 342 with value: 0.9693372012020415.\n",
      "[I 2025-07-02 12:40:53,854] Trial 447 finished with value: 0.2675448069417604 and parameters: {'solver_penalty': ('newton-cg', 'l2'), 'C': 4.8472924303127325, 'tol': 0.0023988510418574364, 'fit_intercept': False, 'class_weight': 'balanced', 'threshold': 0.4114272487017472}. Best is trial 342 with value: 0.9693372012020415.\n",
      "[I 2025-07-02 12:40:56,764] Trial 452 finished with value: 0.9690132999886325 and parameters: {'solver_penalty': ('newton-cholesky', None), 'C': 0.7245766398434832, 'tol': 0.007544414265775278, 'fit_intercept': True, 'class_weight': None, 'threshold': 0.27373048568057734}. Best is trial 342 with value: 0.9693372012020415.\n",
      "[I 2025-07-02 12:40:56,953] Trial 451 finished with value: 0.7748343258045429 and parameters: {'solver_penalty': ('newton-cholesky', None), 'C': 9.969118984209754, 'tol': 0.005053252881853546, 'fit_intercept': False, 'class_weight': 'balanced', 'threshold': 0.4869735321093576}. Best is trial 342 with value: 0.9693372012020415.\n",
      "[I 2025-07-02 12:40:57,277] Trial 453 finished with value: 0.9691751995872719 and parameters: {'solver_penalty': ('lbfgs', 'l2'), 'C': 5.723548098266236, 'tol': 0.0027818806216805478, 'fit_intercept': True, 'class_weight': 'balanced', 'threshold': 0.7454217441997266}. Best is trial 342 with value: 0.9693372012020415.\n",
      "[I 2025-07-02 12:40:59,786] Trial 455 finished with value: 0.9693371866283087 and parameters: {'solver_penalty': ('lbfgs', None), 'C': 2.7704997364782455, 'tol': 0.003880645301719965, 'fit_intercept': True, 'class_weight': None, 'threshold': 0.3536241408341036}. Best is trial 342 with value: 0.9693372012020415.\n",
      "[I 2025-07-02 12:41:00,572] Trial 456 finished with value: 0.9691751995872719 and parameters: {'solver_penalty': ('lbfgs', 'l2'), 'C': 3.6435876916462364, 'tol': 0.005756745512946445, 'fit_intercept': True, 'class_weight': 'balanced', 'threshold': 0.7307651833967855}. Best is trial 342 with value: 0.9693372012020415.\n",
      "[I 2025-07-02 12:41:01,479] Trial 457 finished with value: 0.9691751995872719 and parameters: {'solver_penalty': ('newton-cg', None), 'C': 7.597558786689568, 'tol': 0.004171646096033301, 'fit_intercept': True, 'class_weight': None, 'threshold': 0.46453323453793427}. Best is trial 342 with value: 0.9693372012020415.\n",
      "[I 2025-07-02 12:41:03,685] Trial 458 finished with value: 0.9692292098413503 and parameters: {'solver_penalty': ('newton-cg', None), 'C': 7.16564308360037, 'tol': 0.0026995904934978927, 'fit_intercept': True, 'class_weight': None, 'threshold': 0.3913150434505317}. Best is trial 342 with value: 0.9693372012020415.\n",
      "[I 2025-07-02 12:41:03,929] Trial 454 finished with value: 0.4700397134221165 and parameters: {'solver_penalty': ('liblinear', 'l1'), 'C': 3.2110267759682, 'tol': 0.0017030931520558615, 'fit_intercept': False, 'class_weight': None, 'threshold': 0.29229941296785367}. Best is trial 342 with value: 0.9693372012020415.\n",
      "[I 2025-07-02 12:41:04,151] Trial 460 finished with value: 0.9691751995872719 and parameters: {'solver_penalty': ('lbfgs', 'l2'), 'C': 3.0433183532742936, 'tol': 0.0067867359144801985, 'fit_intercept': True, 'class_weight': None, 'threshold': 0.5299597156858763}. Best is trial 342 with value: 0.9693372012020415.\n",
      "[I 2025-07-02 12:41:04,443] Trial 459 finished with value: 0.9692832055216959 and parameters: {'solver_penalty': ('newton-cg', None), 'C': 1.8256045636567713, 'tol': 0.003919981883881465, 'fit_intercept': True, 'class_weight': None, 'threshold': 0.31538526193813643}. Best is trial 342 with value: 0.9693372012020415.\n",
      "[I 2025-07-02 12:41:07,222] Trial 462 finished with value: 0.2604729030584436 and parameters: {'solver_penalty': ('liblinear', 'l2'), 'C': 2.2892622238841454, 'tol': 0.007544297229513585, 'fit_intercept': False, 'class_weight': 'balanced', 'threshold': 0.06887597624978781}. Best is trial 342 with value: 0.9693372012020415.\n",
      "[I 2025-07-02 12:41:07,818] Trial 461 finished with value: 0.9693371866283087 and parameters: {'solver_penalty': ('lbfgs', None), 'C': 2.276266863157148, 'tol': 0.0025846566881284126, 'fit_intercept': True, 'class_weight': None, 'threshold': 0.3305343739942272}. Best is trial 342 with value: 0.9693372012020415.\n",
      "[I 2025-07-02 12:41:08,047] Trial 463 finished with value: 0.9692832055216959 and parameters: {'solver_penalty': ('lbfgs', None), 'C': 2.5667959894389556, 'tol': 0.0026955152792325307, 'fit_intercept': True, 'class_weight': None, 'threshold': 0.348570193372585}. Best is trial 342 with value: 0.9693372012020415.\n",
      "[I 2025-07-02 12:41:08,539] Trial 464 finished with value: 0.9691752287347377 and parameters: {'solver_penalty': ('lbfgs', None), 'C': 2.374898231559669, 'tol': 0.002615355941463353, 'fit_intercept': True, 'class_weight': None, 'threshold': 0.3959484123009349}. Best is trial 342 with value: 0.9693372012020415.\n",
      "[I 2025-07-02 12:41:11,855] Trial 466 finished with value: 0.9692832055216959 and parameters: {'solver_penalty': ('lbfgs', None), 'C': 2.1199753432236506, 'tol': 0.0019051280691114564, 'fit_intercept': True, 'class_weight': None, 'threshold': 0.3244005404284362}. Best is trial 342 with value: 0.9693372012020415.\n",
      "[I 2025-07-02 12:41:12,323] Trial 467 finished with value: 0.9692292244150833 and parameters: {'solver_penalty': ('lbfgs', None), 'C': 4.270517467614778, 'tol': 0.002017575272714789, 'fit_intercept': True, 'class_weight': None, 'threshold': 0.2920697181472853}. Best is trial 342 with value: 0.9693372012020415.\n",
      "[I 2025-07-02 12:41:12,329] Trial 468 finished with value: 0.9690672810952453 and parameters: {'solver_penalty': ('lbfgs', None), 'C': 2.6917129048682154, 'tol': 0.0023491142919270006, 'fit_intercept': True, 'class_weight': None, 'threshold': 0.26577418757367444}. Best is trial 342 with value: 0.9693372012020415.\n",
      "[I 2025-07-02 12:41:12,609] Trial 465 finished with value: 0.9689053523491401 and parameters: {'solver_penalty': ('lbfgs', None), 'C': 5.054088104021351, 'tol': 0.00015660375312822033, 'fit_intercept': True, 'class_weight': 'balanced', 'threshold': 0.4767981966785674}. Best is trial 342 with value: 0.9693372012020415.\n",
      "[I 2025-07-02 12:41:15,455] Trial 469 finished with value: 0.3852839691852992 and parameters: {'solver_penalty': ('newton-cholesky', None), 'C': 2.8649555397393045, 'tol': 0.00016225689197638116, 'fit_intercept': False, 'class_weight': None, 'threshold': 0.17347140489361168}. Best is trial 342 with value: 0.9693372012020415.\n",
      "[I 2025-07-02 12:41:15,662] Trial 470 finished with value: 0.9692832055216959 and parameters: {'solver_penalty': ('lbfgs', None), 'C': 2.790284116886081, 'tol': 0.003907937108929634, 'fit_intercept': True, 'class_weight': None, 'threshold': 0.30592057147660023}. Best is trial 342 with value: 0.9693372012020415.\n",
      "[I 2025-07-02 12:41:16,240] Trial 472 finished with value: 0.2837937321289601 and parameters: {'solver_penalty': ('newton-cholesky', None), 'C': 2.4156326498994742, 'tol': 0.00010191226345808348, 'fit_intercept': False, 'class_weight': None, 'threshold': 0.0322896667995104}. Best is trial 342 with value: 0.9693372012020415.\n",
      "[I 2025-07-02 12:41:16,835] Trial 471 finished with value: 0.9692832055216959 and parameters: {'solver_penalty': ('newton-cg', None), 'C': 3.276607601791847, 'tol': 0.005378818305970773, 'fit_intercept': True, 'class_weight': None, 'threshold': 0.3605370935745986}. Best is trial 342 with value: 0.9693372012020415.\n",
      "[I 2025-07-02 12:41:19,386] Trial 473 finished with value: 0.9691752287347377 and parameters: {'solver_penalty': ('lbfgs', None), 'C': 2.140020916062202, 'tol': 0.004957827645125597, 'fit_intercept': True, 'class_weight': None, 'threshold': 0.38532422062618044}. Best is trial 342 with value: 0.9693372012020415.\n",
      "[I 2025-07-02 12:41:19,787] Trial 474 finished with value: 0.9692832055216959 and parameters: {'solver_penalty': ('lbfgs', None), 'C': 2.9570172316383947, 'tol': 0.004998761028351606, 'fit_intercept': True, 'class_weight': None, 'threshold': 0.34838923257599025}. Best is trial 342 with value: 0.9693372012020415.\n",
      "[I 2025-07-02 12:41:20,174] Trial 476 finished with value: 0.2604729030584436 and parameters: {'solver_penalty': ('lbfgs', None), 'C': 3.025470205214821, 'tol': 0.0037655927676607595, 'fit_intercept': False, 'class_weight': None, 'threshold': 0.24327412969723086}. Best is trial 342 with value: 0.9693372012020415.\n",
      "[I 2025-07-02 12:41:20,478] Trial 475 finished with value: 0.9691752287347377 and parameters: {'solver_penalty': ('lbfgs', None), 'C': 3.854427312360481, 'tol': 0.004866007250092886, 'fit_intercept': True, 'class_weight': None, 'threshold': 0.37921879198680825}. Best is trial 342 with value: 0.9693372012020415.\n",
      "[I 2025-07-02 12:41:22,771] Trial 478 finished with value: 0.9689593480294855 and parameters: {'solver_penalty': ('lbfgs', 'l2'), 'C': 3.4874011816240866, 'tol': 0.005866382572261379, 'fit_intercept': False, 'class_weight': 'balanced', 'threshold': 0.6903952065238079}. Best is trial 342 with value: 0.9693372012020415.\n",
      "[I 2025-07-02 12:41:23,312] Trial 477 finished with value: 0.9680955628812853 and parameters: {'solver_penalty': ('newton-cholesky', 'l2'), 'C': 7.066930865562776, 'tol': 0.0018319117319288815, 'fit_intercept': True, 'class_weight': None, 'threshold': 0.8282605695848133}. Best is trial 342 with value: 0.9693372012020415.\n",
      "[I 2025-07-02 12:41:23,531] Trial 479 finished with value: 0.9690133145623653 and parameters: {'solver_penalty': ('newton-cholesky', 'l2'), 'C': 5.169480429469887, 'tol': 0.006675423099002551, 'fit_intercept': True, 'class_weight': None, 'threshold': 0.1458446494102454}. Best is trial 342 with value: 0.9693372012020415.\n",
      "[I 2025-07-02 12:41:25,285] Trial 480 finished with value: 0.9692292098413503 and parameters: {'solver_penalty': ('newton-cg', None), 'C': 7.391234310421074, 'tol': 0.0043065207630223245, 'fit_intercept': True, 'class_weight': 'balanced', 'threshold': 0.6764618583923038}. Best is trial 342 with value: 0.9693372012020415.\n",
      "[I 2025-07-02 12:41:25,856] Trial 483 finished with value: 0.9691752578822033 and parameters: {'solver_penalty': ('liblinear', 'l2'), 'C': 4.519722063685778, 'tol': 0.0017138953985345123, 'fit_intercept': True, 'class_weight': 'balanced', 'threshold': 0.5958186412612285}. Best is trial 342 with value: 0.9693372012020415.\n",
      "[I 2025-07-02 12:41:27,205] Trial 481 finished with value: 0.9689593334557527 and parameters: {'solver_penalty': ('newton-cg', None), 'C': 2.2347385732249334, 'tol': 0.004060227601533623, 'fit_intercept': True, 'class_weight': None, 'threshold': 0.17467408510276747}. Best is trial 342 with value: 0.9693372012020415.\n",
      "[I 2025-07-02 12:41:27,940] Trial 482 finished with value: 0.9690133291360983 and parameters: {'solver_penalty': ('newton-cg', 'l2'), 'C': 2.7504763266254435, 'tol': 0.005843905031423579, 'fit_intercept': True, 'class_weight': 'balanced', 'threshold': 0.2620482692215238}. Best is trial 342 with value: 0.9693372012020415.\n",
      "[I 2025-07-02 12:41:29,105] Trial 484 finished with value: 0.96847345977504 and parameters: {'solver_penalty': ('newton-cholesky', None), 'C': 2.7003656787201873, 'tol': 0.0034707708393403596, 'fit_intercept': True, 'class_weight': None, 'threshold': 0.15441397765535828}. Best is trial 342 with value: 0.9693372012020415.\n",
      "[I 2025-07-02 12:41:29,678] Trial 485 finished with value: 0.9690672373740465 and parameters: {'solver_penalty': ('lbfgs', None), 'C': 4.686531557649793, 'tol': 0.002117835997770638, 'fit_intercept': True, 'class_weight': None, 'threshold': 0.700255369009016}. Best is trial 342 with value: 0.9693372012020415.\n",
      "[I 2025-07-02 12:41:30,927] Trial 487 finished with value: 0.2750483410719855 and parameters: {'solver_penalty': ('liblinear', 'l2'), 'C': 4.437656466217805, 'tol': 0.0026441480930231337, 'fit_intercept': False, 'class_weight': None, 'threshold': 0.2111257911662534}. Best is trial 342 with value: 0.9693372012020415.\n",
      "[I 2025-07-02 12:41:31,343] Trial 486 finished with value: 0.9639387990661152 and parameters: {'solver_penalty': ('newton-cholesky', None), 'C': 8.925441564791228, 'tol': 0.008571520543543473, 'fit_intercept': True, 'class_weight': 'balanced', 'threshold': 0.10870222041764377}. Best is trial 342 with value: 0.9693372012020415.\n",
      "[I 2025-07-02 12:41:33,300] Trial 488 finished with value: 0.2604729030584436 and parameters: {'solver_penalty': ('newton-cg', 'l2'), 'C': 3.1555343680604295, 'tol': 0.0058102609261296324, 'fit_intercept': True, 'class_weight': None, 'threshold': 0.010509822663041679}. Best is trial 342 with value: 0.9693372012020415.\n",
      "[I 2025-07-02 12:41:34,198] Trial 490 finished with value: 0.9690672810952453 and parameters: {'solver_penalty': ('lbfgs', 'l2'), 'C': 4.199751032722375, 'tol': 0.00272060874911883, 'fit_intercept': True, 'class_weight': None, 'threshold': 0.2654732214115997}. Best is trial 342 with value: 0.9693372012020415.\n",
      "[I 2025-07-02 12:41:34,560] Trial 489 finished with value: 0.9692292389888161 and parameters: {'solver_penalty': ('newton-cholesky', 'l2'), 'C': 3.993868074632356, 'tol': 0.00027920096114181486, 'fit_intercept': True, 'class_weight': 'balanced', 'threshold': 0.5776501848198029}. Best is trial 342 with value: 0.9693372012020415.\n",
      "[I 2025-07-02 12:41:35,253] Trial 491 finished with value: 0.9692832055216959 and parameters: {'solver_penalty': ('lbfgs', 'l2'), 'C': 2.5752825020027976, 'tol': 0.004085503729867381, 'fit_intercept': True, 'class_weight': 'balanced', 'threshold': 0.5764879693077872}. Best is trial 342 with value: 0.9693372012020415.\n",
      "[I 2025-07-02 12:41:36,824] Trial 492 finished with value: 0.9690132999886325 and parameters: {'solver_penalty': ('lbfgs', 'l2'), 'C': 3.933855149922713, 'tol': 0.0037400226816268188, 'fit_intercept': True, 'class_weight': None, 'threshold': 0.22252639145572414}. Best is trial 342 with value: 0.9693372012020415.\n",
      "[I 2025-07-02 12:41:38,362] Trial 493 finished with value: 0.9690672810952453 and parameters: {'solver_penalty': ('lbfgs', 'l2'), 'C': 7.603657266218149, 'tol': 0.0049678254336874145, 'fit_intercept': True, 'class_weight': 'balanced', 'threshold': 0.5021556792278906}. Best is trial 342 with value: 0.9693372012020415.\n",
      "[I 2025-07-02 12:41:38,868] Trial 494 finished with value: 0.9692291806938845 and parameters: {'solver_penalty': ('newton-cg', None), 'C': 3.105723100251223, 'tol': 0.00672362862246247, 'fit_intercept': True, 'class_weight': None, 'threshold': 0.5283489369833726}. Best is trial 342 with value: 0.9693372012020415.\n",
      "[I 2025-07-02 12:41:39,446] Trial 495 finished with value: 0.9692291806938845 and parameters: {'solver_penalty': ('newton-cg', None), 'C': 0.7733980817535955, 'tol': 0.007265373832194668, 'fit_intercept': True, 'class_weight': None, 'threshold': 0.5712117103024974}. Best is trial 342 with value: 0.9693372012020415.\n",
      "[I 2025-07-02 12:41:40,715] Trial 496 finished with value: 0.9691752287347377 and parameters: {'solver_penalty': ('newton-cg', None), 'C': 2.1519947392225656, 'tol': 0.006917320614755159, 'fit_intercept': True, 'class_weight': None, 'threshold': 0.4088519009039107}. Best is trial 342 with value: 0.9693372012020415.\n",
      "[I 2025-07-02 12:41:41,972] Trial 497 finished with value: 0.9692832055216959 and parameters: {'solver_penalty': ('newton-cg', None), 'C': 4.964259476802309, 'tol': 0.007193579956033611, 'fit_intercept': True, 'class_weight': None, 'threshold': 0.3431250617729373}. Best is trial 342 with value: 0.9693372012020415.\n",
      "[I 2025-07-02 12:41:42,139] Trial 499 finished with value: 0.2604729030584436 and parameters: {'solver_penalty': ('lbfgs', 'l2'), 'C': 9.66264544130506, 'tol': 0.0032131448235561263, 'fit_intercept': False, 'class_weight': 'balanced', 'threshold': 0.03134629705606007}. Best is trial 342 with value: 0.9693372012020415.\n",
      "[I 2025-07-02 12:41:42,314] Trial 498 finished with value: 0.9690133145623653 and parameters: {'solver_penalty': ('newton-cg', None), 'C': 2.14157243182199, 'tol': 0.0067731242275375116, 'fit_intercept': True, 'class_weight': None, 'threshold': 0.20872576291336303}. Best is trial 342 with value: 0.9693372012020415.\n"
     ]
    }
   ],
   "source": [
    "def objective(trial):\n",
    "    solver_penalty_options = [\n",
    "        ('liblinear', 'l1'),\n",
    "        ('liblinear', 'l2'),\n",
    "        ('lbfgs', 'l2'),\n",
    "        ('lbfgs', None),\n",
    "        ('newton-cg', 'l2'),\n",
    "        ('newton-cg', None),\n",
    "        ('newton-cholesky', 'l2'),\n",
    "        ('newton-cholesky', None)\n",
    "    ]\n",
    "    solver, penalty = trial.suggest_categorical('solver_penalty', solver_penalty_options)\n",
    "    \n",
    "    params = {\n",
    "        'random_state': CFG.seed,\n",
    "        'max_iter': 1000,\n",
    "        'C': trial.suggest_float('C', 0, 10),\n",
    "        'tol': trial.suggest_float('tol', 1e-6, 1e-2),\n",
    "        'fit_intercept': trial.suggest_categorical('fit_intercept', [True, False]),\n",
    "        'class_weight': trial.suggest_categorical('class_weight', ['balanced', None]),\n",
    "        'solver': solver,\n",
    "        'penalty': penalty\n",
    "    }\n",
    "    \n",
    "    threshold = trial.suggest_float('threshold', 0, 1)\n",
    "    \n",
    "    trainer = Trainer(\n",
    "        LogisticRegression(**params),\n",
    "        cv=CFG.cv,\n",
    "        metric=CFG.metric,\n",
    "        metric_precision=6,\n",
    "        metric_threshold=threshold,\n",
    "        use_early_stopping=False,\n",
    "        verbose=False,\n",
    "        task=\"binary\",\n",
    "    )\n",
    "    trainer.fit(X, y)\n",
    "    \n",
    "    return np.mean(trainer.fold_scores)\n",
    "\n",
    "sampler = optuna.samplers.TPESampler(seed=CFG.seed, multivariate=True, n_startup_trials=CFG.n_optuna_trials // 10)\n",
    "study = optuna.create_study(direction='maximize', sampler=sampler)\n",
    "study.optimize(objective, n_trials=CFG.n_optuna_trials, n_jobs=-1)\n",
    "best_params = study.best_params"
   ]
  },
  {
   "cell_type": "code",
   "execution_count": 21,
   "id": "a1768186",
   "metadata": {
    "execution": {
     "iopub.execute_input": "2025-07-02T12:41:42.396159Z",
     "iopub.status.busy": "2025-07-02T12:41:42.395780Z",
     "iopub.status.idle": "2025-07-02T12:41:42.401588Z",
     "shell.execute_reply": "2025-07-02T12:41:42.400498Z"
    },
    "papermill": {
     "duration": 0.046309,
     "end_time": "2025-07-02T12:41:42.403262",
     "exception": false,
     "start_time": "2025-07-02T12:41:42.356953",
     "status": "completed"
    },
    "tags": []
   },
   "outputs": [],
   "source": [
    "solver, penalty = best_params['solver_penalty']\n",
    "lr_params = {\n",
    "    'random_state': CFG.seed,\n",
    "    'max_iter': 1000,\n",
    "    'C': best_params['C'],\n",
    "    'tol': best_params['tol'],\n",
    "    'fit_intercept': best_params['fit_intercept'],\n",
    "    'class_weight': best_params['class_weight'],\n",
    "    'solver': solver,\n",
    "    'penalty': penalty\n",
    "}"
   ]
  },
  {
   "cell_type": "code",
   "execution_count": 22,
   "id": "61ef4328",
   "metadata": {
    "execution": {
     "iopub.execute_input": "2025-07-02T12:41:42.476789Z",
     "iopub.status.busy": "2025-07-02T12:41:42.476401Z",
     "iopub.status.idle": "2025-07-02T12:41:42.481544Z",
     "shell.execute_reply": "2025-07-02T12:41:42.480594Z"
    },
    "papermill": {
     "duration": 0.043944,
     "end_time": "2025-07-02T12:41:42.482957",
     "exception": false,
     "start_time": "2025-07-02T12:41:42.439013",
     "status": "completed"
    },
    "tags": []
   },
   "outputs": [
    {
     "name": "stdout",
     "output_type": "stream",
     "text": [
      "{\n",
      "  \"random_state\": 42,\n",
      "  \"max_iter\": 1000,\n",
      "  \"C\": 5.0231559568266215,\n",
      "  \"tol\": 0.00013102535351413236,\n",
      "  \"fit_intercept\": true,\n",
      "  \"class_weight\": \"balanced\",\n",
      "  \"solver\": \"lbfgs\",\n",
      "  \"penalty\": null\n",
      "}\n"
     ]
    }
   ],
   "source": [
    "print(json.dumps(lr_params, indent=2))"
   ]
  },
  {
   "cell_type": "code",
   "execution_count": 23,
   "id": "1954b181",
   "metadata": {
    "execution": {
     "iopub.execute_input": "2025-07-02T12:41:42.558927Z",
     "iopub.status.busy": "2025-07-02T12:41:42.558621Z",
     "iopub.status.idle": "2025-07-02T12:41:42.564738Z",
     "shell.execute_reply": "2025-07-02T12:41:42.563453Z"
    },
    "papermill": {
     "duration": 0.047903,
     "end_time": "2025-07-02T12:41:42.566449",
     "exception": false,
     "start_time": "2025-07-02T12:41:42.518546",
     "status": "completed"
    },
    "tags": []
   },
   "outputs": [
    {
     "name": "stdout",
     "output_type": "stream",
     "text": [
      "Best threshold: 0.593\n"
     ]
    }
   ],
   "source": [
    "best_threshold = study.best_params['threshold']\n",
    "print(f'Best threshold: {best_threshold:.3f}')"
   ]
  },
  {
   "cell_type": "code",
   "execution_count": 24,
   "id": "7b156899",
   "metadata": {
    "execution": {
     "iopub.execute_input": "2025-07-02T12:41:42.647736Z",
     "iopub.status.busy": "2025-07-02T12:41:42.646912Z",
     "iopub.status.idle": "2025-07-02T12:41:44.068796Z",
     "shell.execute_reply": "2025-07-02T12:41:44.067357Z"
    },
    "papermill": {
     "duration": 1.464177,
     "end_time": "2025-07-02T12:41:44.070617",
     "exception": false,
     "start_time": "2025-07-02T12:41:42.606440",
     "status": "completed"
    },
    "tags": []
   },
   "outputs": [
    {
     "name": "stdout",
     "output_type": "stream",
     "text": [
      "Training LogisticRegression\n",
      "\n",
      "--- Fold 0 - accuracy_score: 0.970040 - Time: 0.10 s\n",
      "--- Fold 1 - accuracy_score: 0.968151 - Time: 0.07 s\n",
      "--- Fold 2 - accuracy_score: 0.965992 - Time: 0.11 s\n",
      "--- Fold 3 - accuracy_score: 0.970850 - Time: 0.06 s\n",
      "--- Fold 4 - accuracy_score: 0.971652 - Time: 0.11 s\n",
      "\n",
      "------ Overall accuracy_score: 0.969337 - Mean accuracy_score: 0.969337 ± 0.002037 - Time: 1.41 s\n"
     ]
    }
   ],
   "source": [
    "lr_trainer = Trainer(\n",
    "    LogisticRegression(**lr_params),\n",
    "    cv=CFG.cv,\n",
    "    metric=CFG.metric,\n",
    "    metric_threshold=best_threshold,\n",
    "    metric_precision=6,\n",
    "    use_early_stopping=False,\n",
    "    task=\"binary\",\n",
    ")\n",
    "\n",
    "lr_trainer.fit(X, y)\n",
    "\n",
    "scores[\"LogisticRegression\"] = lr_trainer.fold_scores\n",
    "lr_test_pred_probs = lr_trainer.predict(X_test)"
   ]
  },
  {
   "cell_type": "code",
   "execution_count": 25,
   "id": "319e73ab",
   "metadata": {
    "execution": {
     "iopub.execute_input": "2025-07-02T12:41:44.148979Z",
     "iopub.status.busy": "2025-07-02T12:41:44.148656Z",
     "iopub.status.idle": "2025-07-02T12:41:44.217264Z",
     "shell.execute_reply": "2025-07-02T12:41:44.216275Z"
    },
    "papermill": {
     "duration": 0.11013,
     "end_time": "2025-07-02T12:41:44.219094",
     "exception": false,
     "start_time": "2025-07-02T12:41:44.108964",
     "status": "completed"
    },
    "tags": []
   },
   "outputs": [
    {
     "data": {
      "text/html": [
       "<div>\n",
       "<style scoped>\n",
       "    .dataframe tbody tr th:only-of-type {\n",
       "        vertical-align: middle;\n",
       "    }\n",
       "\n",
       "    .dataframe tbody tr th {\n",
       "        vertical-align: top;\n",
       "    }\n",
       "\n",
       "    .dataframe thead th {\n",
       "        text-align: right;\n",
       "    }\n",
       "</style>\n",
       "<table border=\"1\" class=\"dataframe\">\n",
       "  <thead>\n",
       "    <tr style=\"text-align: right;\">\n",
       "      <th></th>\n",
       "      <th>id</th>\n",
       "      <th>Personality</th>\n",
       "    </tr>\n",
       "  </thead>\n",
       "  <tbody>\n",
       "    <tr>\n",
       "      <th>0</th>\n",
       "      <td>18524</td>\n",
       "      <td>Extrovert</td>\n",
       "    </tr>\n",
       "    <tr>\n",
       "      <th>1</th>\n",
       "      <td>18525</td>\n",
       "      <td>Introvert</td>\n",
       "    </tr>\n",
       "    <tr>\n",
       "      <th>2</th>\n",
       "      <td>18526</td>\n",
       "      <td>Extrovert</td>\n",
       "    </tr>\n",
       "    <tr>\n",
       "      <th>3</th>\n",
       "      <td>18527</td>\n",
       "      <td>Extrovert</td>\n",
       "    </tr>\n",
       "    <tr>\n",
       "      <th>4</th>\n",
       "      <td>18528</td>\n",
       "      <td>Introvert</td>\n",
       "    </tr>\n",
       "  </tbody>\n",
       "</table>\n",
       "</div>"
      ],
      "text/plain": [
       "      id Personality\n",
       "0  18524   Extrovert\n",
       "1  18525   Introvert\n",
       "2  18526   Extrovert\n",
       "3  18527   Extrovert\n",
       "4  18528   Introvert"
      ]
     },
     "execution_count": 25,
     "metadata": {},
     "output_type": "execute_result"
    }
   ],
   "source": [
    "save_submission('logistic-regression', lr_test_pred_probs, np.mean(scores['LogisticRegression']), best_threshold)"
   ]
  },
  {
   "cell_type": "code",
   "execution_count": 26,
   "id": "e17f1a55",
   "metadata": {
    "execution": {
     "iopub.execute_input": "2025-07-02T12:41:44.294465Z",
     "iopub.status.busy": "2025-07-02T12:41:44.294117Z",
     "iopub.status.idle": "2025-07-02T12:41:44.299580Z",
     "shell.execute_reply": "2025-07-02T12:41:44.298507Z"
    },
    "papermill": {
     "duration": 0.045341,
     "end_time": "2025-07-02T12:41:44.301339",
     "exception": false,
     "start_time": "2025-07-02T12:41:44.255998",
     "status": "completed"
    },
    "tags": []
   },
   "outputs": [],
   "source": [
    "lr_coeffs = np.zeros((1,len(X.columns)))\n",
    "for estimator in lr_trainer.estimators:\n",
    "    lr_coeffs += estimator.coef_ / CFG.n_folds"
   ]
  },
  {
   "cell_type": "code",
   "execution_count": 27,
   "id": "7d2c02b8",
   "metadata": {
    "_kg_hide-input": false,
    "execution": {
     "iopub.execute_input": "2025-07-02T12:41:44.384760Z",
     "iopub.status.busy": "2025-07-02T12:41:44.384396Z",
     "iopub.status.idle": "2025-07-02T12:41:44.698437Z",
     "shell.execute_reply": "2025-07-02T12:41:44.697485Z"
    },
    "papermill": {
     "duration": 0.358885,
     "end_time": "2025-07-02T12:41:44.700349",
     "exception": false,
     "start_time": "2025-07-02T12:41:44.341464",
     "status": "completed"
    },
    "tags": []
   },
   "outputs": [
    {
     "data": {
      "image/png": "[encoded data removed]",
      "text/plain": [
       "<Figure size 1000x350 with 1 Axes>"
      ]
     },
     "metadata": {},
     "output_type": "display_data"
    }
   ],
   "source": [
    "plot_weights(lr_coeffs, 'LR Coefficients')"
   ]
  },
  {
   "cell_type": "markdown",
   "id": "4d52c460",
   "metadata": {
    "papermill": {
     "duration": 0.037516,
     "end_time": "2025-07-02T12:41:44.774586",
     "exception": false,
     "start_time": "2025-07-02T12:41:44.737070",
     "status": "completed"
    },
    "tags": []
   },
   "source": [
    "# Results"
   ]
  },
  {
   "cell_type": "code",
   "execution_count": 28,
   "id": "2e4c82a0",
   "metadata": {
    "_kg_hide-input": false,
    "execution": {
     "iopub.execute_input": "2025-07-02T12:41:44.853600Z",
     "iopub.status.busy": "2025-07-02T12:41:44.853225Z",
     "iopub.status.idle": "2025-07-02T12:41:45.499507Z",
     "shell.execute_reply": "2025-07-02T12:41:45.498391Z"
    },
    "papermill": {
     "duration": 0.686568,
     "end_time": "2025-07-02T12:41:45.501137",
     "exception": false,
     "start_time": "2025-07-02T12:41:44.814569",
     "status": "completed"
    },
    "tags": []
   },
   "outputs": [
    {
     "data": {
      "image/png": "[encoded data removed]",
      "text/plain": [
       "<Figure size 1500x320 with 2 Axes>"
      ]
     },
     "metadata": {},
     "output_type": "display_data"
    }
   ],
   "source": [
    "scores = pd.DataFrame(scores)\n",
    "mean_scores = scores.mean().sort_values(ascending=False)\n",
    "order = scores.mean().sort_values(ascending=False).index.tolist()\n",
    "\n",
    "min_score = mean_scores.min()\n",
    "max_score = mean_scores.max()\n",
    "padding = (max_score - min_score) * 0.5\n",
    "lower_limit = min_score - padding\n",
    "upper_limit = max_score + padding\n",
    "\n",
    "fig, axs = plt.subplots(1, 2, figsize=(15, scores.shape[1] * 0.4))\n",
    "\n",
    "boxplot = sns.boxplot(data=scores, order=order, ax=axs[0], orient='h', color='grey')\n",
    "axs[0].set_title('Fold Accuracy')\n",
    "axs[0].set_xlabel('')\n",
    "axs[0].set_ylabel('')\n",
    "\n",
    "barplot = sns.barplot(x=mean_scores.values, y=mean_scores.index, ax=axs[1], color='grey')\n",
    "axs[1].set_title('Average Accuracy')\n",
    "axs[1].set_xlabel('')\n",
    "axs[1].set_xlim(left=lower_limit, right=upper_limit)\n",
    "axs[1].set_ylabel('')\n",
    "\n",
    "for i, (score, model) in enumerate(zip(mean_scores.values, mean_scores.index)):\n",
    "    color = 'cyan' if 'logistic' in model.lower() else 'grey'\n",
    "    barplot.patches[i].set_facecolor(color)\n",
    "    boxplot.patches[i].set_facecolor(color)\n",
    "    barplot.text(score, i, round(score, 6), va='center')\n",
    "\n",
    "plt.tight_layout()\n",
    "plt.show()"
   ]
  },
  {
   "cell_type": "code",
   "execution_count": 29,
   "id": "1630045f",
   "metadata": {
    "execution": {
     "iopub.execute_input": "2025-07-02T12:41:45.588038Z",
     "iopub.status.busy": "2025-07-02T12:41:45.587741Z",
     "iopub.status.idle": "2025-07-02T12:41:45.593871Z",
     "shell.execute_reply": "2025-07-02T12:41:45.593100Z"
    },
    "papermill": {
     "duration": 0.052604,
     "end_time": "2025-07-02T12:41:45.595787",
     "exception": false,
     "start_time": "2025-07-02T12:41:45.543183",
     "status": "completed"
    },
    "tags": []
   },
   "outputs": [],
   "source": [
    "shutil.rmtree('catboost_info', ignore_errors=True)"
   ]
  }
 ],
 "metadata": {
  "kaggle": {
   "accelerator": "none",
   "dataSources": [
    {
     "databundleVersionId": 12738969,
     "sourceId": 91718,
     "sourceType": "competition"
    },
    {
     "sourceId": 248441304,
     "sourceType": "kernelVersion"
    }
   ],
   "dockerImageVersionId": 31040,
   "isGpuEnabled": false,
   "isInternetEnabled": true,
   "language": "python",
   "sourceType": "notebook"
  },
  "kernelspec": {
   "display_name": "Python 3",
   "language": "python",
   "name": "python3"
  },
  "language_info": {
   "codemirror_mode": {
    "name": "ipython",
    "version": 3
   },
   "file_extension": ".py",
   "mimetype": "text/x-python",
   "name": "python",
   "nbconvert_exporter": "python",
   "pygments_lexer": "ipython3",
   "version": "3.11.11"
  },
  "papermill": {
   "default_parameters": {},
   "duration": 887.069613,
   "end_time": "2025-07-02T12:41:46.862097",
   "environment_variables": {},
   "exception": null,
   "input_path": "__notebook__.ipynb",
   "output_path": "__notebook__.ipynb",
   "parameters": {},
   "start_time": "2025-07-02T12:26:59.792484",
   "version": "2.6.0"
  }
 },
 "nbformat": 4,
 "nbformat_minor": 5
}
