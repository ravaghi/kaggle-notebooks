{
 "cells": [
  {
   "cell_type": "markdown",
   "id": "31aad280",
   "metadata": {
    "papermill": {
     "duration": 0.006251,
     "end_time": "2025-07-02T06:30:26.003855",
     "exception": false,
     "start_time": "2025-07-02T06:30:25.997604",
     "status": "completed"
    },
    "tags": []
   },
   "source": [
    "# Imports and configs"
   ]
  },
  {
   "cell_type": "code",
   "execution_count": 1,
   "id": "c8fb1366",
   "metadata": {
    "_kg_hide-output": true,
    "execution": {
     "iopub.execute_input": "2025-07-02T06:30:26.016175Z",
     "iopub.status.busy": "2025-07-02T06:30:26.015737Z",
     "iopub.status.idle": "2025-07-02T06:30:35.713505Z",
     "shell.execute_reply": "2025-07-02T06:30:35.712374Z"
    },
    "papermill": {
     "duration": 9.70602,
     "end_time": "2025-07-02T06:30:35.715330",
     "exception": false,
     "start_time": "2025-07-02T06:30:26.009310",
     "status": "completed"
    },
    "scrolled": true,
    "tags": []
   },
   "outputs": [
    {
     "name": "stdout",
     "output_type": "stream",
     "text": [
      "Collecting scikit-learn==1.5.2\r\n",
      "  Downloading scikit_learn-1.5.2-cp311-cp311-manylinux_2_17_x86_64.manylinux2014_x86_64.whl.metadata (13 kB)\r\n",
      "Collecting koolbox\r\n",
      "  Downloading koolbox-0.1.3-py3-none-any.whl.metadata (3.4 kB)\r\n",
      "Requirement already satisfied: numpy>=1.19.5 in /usr/local/lib/python3.11/dist-packages (from scikit-learn==1.5.2) (1.26.4)\r\n",
      "Requirement already satisfied: scipy>=1.6.0 in /usr/local/lib/python3.11/dist-packages (from scikit-learn==1.5.2) (1.15.2)\r\n",
      "Requirement already satisfied: joblib>=1.2.0 in /usr/local/lib/python3.11/dist-packages (from scikit-learn==1.5.2) (1.5.0)\r\n",
      "Requirement already satisfied: threadpoolctl>=3.1.0 in /usr/local/lib/python3.11/dist-packages (from scikit-learn==1.5.2) (3.6.0)\r\n",
      "Requirement already satisfied: optuna>=4.2.1 in /usr/local/lib/python3.11/dist-packages (from koolbox) (4.3.0)\r\n",
      "Requirement already satisfied: pandas>=2.2.3 in /usr/local/lib/python3.11/dist-packages (from koolbox) (2.2.3)\r\n",
      "Requirement already satisfied: mkl_fft in /usr/local/lib/python3.11/dist-packages (from numpy>=1.19.5->scikit-learn==1.5.2) (1.3.8)\r\n",
      "Requirement already satisfied: mkl_random in /usr/local/lib/python3.11/dist-packages (from numpy>=1.19.5->scikit-learn==1.5.2) (1.2.4)\r\n",
      "Requirement already satisfied: mkl_umath in /usr/local/lib/python3.11/dist-packages (from numpy>=1.19.5->scikit-learn==1.5.2) (0.1.1)\r\n",
      "Requirement already satisfied: mkl in /usr/local/lib/python3.11/dist-packages (from numpy>=1.19.5->scikit-learn==1.5.2) (2025.1.0)\r\n",
      "Requirement already satisfied: tbb4py in /usr/local/lib/python3.11/dist-packages (from numpy>=1.19.5->scikit-learn==1.5.2) (2022.1.0)\r\n",
      "Requirement already satisfied: mkl-service in /usr/local/lib/python3.11/dist-packages (from numpy>=1.19.5->scikit-learn==1.5.2) (2.4.1)\r\n",
      "Requirement already satisfied: alembic>=1.5.0 in /usr/local/lib/python3.11/dist-packages (from optuna>=4.2.1->koolbox) (1.15.2)\r\n",
      "Requirement already satisfied: colorlog in /usr/local/lib/python3.11/dist-packages (from optuna>=4.2.1->koolbox) (6.9.0)\r\n",
      "Requirement already satisfied: packaging>=20.0 in /usr/local/lib/python3.11/dist-packages (from optuna>=4.2.1->koolbox) (25.0)\r\n",
      "Requirement already satisfied: sqlalchemy>=1.4.2 in /usr/local/lib/python3.11/dist-packages (from optuna>=4.2.1->koolbox) (2.0.40)\r\n",
      "Requirement already satisfied: tqdm in /usr/local/lib/python3.11/dist-packages (from optuna>=4.2.1->koolbox) (4.67.1)\r\n",
      "Requirement already satisfied: PyYAML in /usr/local/lib/python3.11/dist-packages (from optuna>=4.2.1->koolbox) (6.0.2)\r\n",
      "Requirement already satisfied: python-dateutil>=2.8.2 in /usr/local/lib/python3.11/dist-packages (from pandas>=2.2.3->koolbox) (2.9.0.post0)\r\n",
      "Requirement already satisfied: pytz>=2020.1 in /usr/local/lib/python3.11/dist-packages (from pandas>=2.2.3->koolbox) (2025.2)\r\n",
      "Requirement already satisfied: tzdata>=2022.7 in /usr/local/lib/python3.11/dist-packages (from pandas>=2.2.3->koolbox) (2025.2)\r\n",
      "Requirement already satisfied: Mako in /usr/local/lib/python3.11/dist-packages (from alembic>=1.5.0->optuna>=4.2.1->koolbox) (1.3.10)\r\n",
      "Requirement already satisfied: typing-extensions>=4.12 in /usr/local/lib/python3.11/dist-packages (from alembic>=1.5.0->optuna>=4.2.1->koolbox) (4.13.2)\r\n",
      "Requirement already satisfied: six>=1.5 in /usr/local/lib/python3.11/dist-packages (from python-dateutil>=2.8.2->pandas>=2.2.3->koolbox) (1.17.0)\r\n",
      "Requirement already satisfied: greenlet>=1 in /usr/local/lib/python3.11/dist-packages (from sqlalchemy>=1.4.2->optuna>=4.2.1->koolbox) (3.1.1)\r\n",
      "Requirement already satisfied: intel-openmp<2026,>=2024 in /usr/local/lib/python3.11/dist-packages (from mkl->numpy>=1.19.5->scikit-learn==1.5.2) (2024.2.0)\r\n",
      "Requirement already satisfied: tbb==2022.* in /usr/local/lib/python3.11/dist-packages (from mkl->numpy>=1.19.5->scikit-learn==1.5.2) (2022.1.0)\r\n",
      "Requirement already satisfied: tcmlib==1.* in /usr/local/lib/python3.11/dist-packages (from tbb==2022.*->mkl->numpy>=1.19.5->scikit-learn==1.5.2) (1.3.0)\r\n",
      "Requirement already satisfied: intel-cmplr-lib-rt in /usr/local/lib/python3.11/dist-packages (from mkl_umath->numpy>=1.19.5->scikit-learn==1.5.2) (2024.2.0)\r\n",
      "Requirement already satisfied: intel-cmplr-lib-ur==2024.2.0 in /usr/local/lib/python3.11/dist-packages (from intel-openmp<2026,>=2024->mkl->numpy>=1.19.5->scikit-learn==1.5.2) (2024.2.0)\r\n",
      "Requirement already satisfied: MarkupSafe>=0.9.2 in /usr/local/lib/python3.11/dist-packages (from Mako->alembic>=1.5.0->optuna>=4.2.1->koolbox) (3.0.2)\r\n",
      "Downloading scikit_learn-1.5.2-cp311-cp311-manylinux_2_17_x86_64.manylinux2014_x86_64.whl (13.3 MB)\r\n",
      "\u001b[2K   \u001b[90m━━━━━━━━━━━━━━━━━━━━━━━━━━━━━━━━━━━━━━━━\u001b[0m \u001b[32m13.3/13.3 MB\u001b[0m \u001b[31m95.4 MB/s\u001b[0m eta \u001b[36m0:00:00\u001b[0m\r\n",
      "\u001b[?25hDownloading koolbox-0.1.3-py3-none-any.whl (18 kB)\r\n",
      "Installing collected packages: scikit-learn, koolbox\r\n",
      "  Attempting uninstall: scikit-learn\r\n",
      "    Found existing installation: scikit-learn 1.2.2\r\n",
      "    Uninstalling scikit-learn-1.2.2:\r\n",
      "      Successfully uninstalled scikit-learn-1.2.2\r\n",
      "\u001b[31mERROR: pip's dependency resolver does not currently take into account all the packages that are installed. This behaviour is the source of the following dependency conflicts.\r\n",
      "cesium 0.12.4 requires numpy<3.0,>=2.0, but you have numpy 1.26.4 which is incompatible.\u001b[0m\u001b[31m\r\n",
      "\u001b[0mSuccessfully installed koolbox-0.1.3 scikit-learn-1.5.2\r\n"
     ]
    }
   ],
   "source": [
    "!pip install scikit-learn==1.5.2 koolbox"
   ]
  },
  {
   "cell_type": "code",
   "execution_count": 2,
   "id": "e704f2d2",
   "metadata": {
    "execution": {
     "iopub.execute_input": "2025-07-02T06:30:35.729285Z",
     "iopub.status.busy": "2025-07-02T06:30:35.728945Z",
     "iopub.status.idle": "2025-07-02T06:30:45.330742Z",
     "shell.execute_reply": "2025-07-02T06:30:45.329919Z"
    },
    "papermill": {
     "duration": 9.610645,
     "end_time": "2025-07-02T06:30:45.332382",
     "exception": false,
     "start_time": "2025-07-02T06:30:35.721737",
     "status": "completed"
    },
    "tags": []
   },
   "outputs": [],
   "source": [
    "from sklearn.feature_selection import mutual_info_regression\n",
    "from sklearn.ensemble import HistGradientBoostingClassifier\n",
    "from sklearn.linear_model import LogisticRegression\n",
    "from sklearn.model_selection import StratifiedKFold\n",
    "from sklearn.metrics import accuracy_score\n",
    "from catboost import CatBoostClassifier\n",
    "from lightgbm import LGBMClassifier\n",
    "from xgboost import XGBClassifier\n",
    "from scipy.special import logit\n",
    "from koolbox import Trainer\n",
    "import matplotlib.pyplot as plt\n",
    "import seaborn as sns\n",
    "import pandas as pd\n",
    "import numpy as np\n",
    "import warnings\n",
    "import joblib\n",
    "import shutil\n",
    "import optuna\n",
    "import glob\n",
    "import json\n",
    "\n",
    "warnings.filterwarnings('ignore')"
   ]
  },
  {
   "cell_type": "code",
   "execution_count": 3,
   "id": "38960354",
   "metadata": {
    "execution": {
     "iopub.execute_input": "2025-07-02T06:30:45.346504Z",
     "iopub.status.busy": "2025-07-02T06:30:45.345549Z",
     "iopub.status.idle": "2025-07-02T06:30:45.350774Z",
     "shell.execute_reply": "2025-07-02T06:30:45.350106Z"
    },
    "papermill": {
     "duration": 0.013444,
     "end_time": "2025-07-02T06:30:45.352169",
     "exception": false,
     "start_time": "2025-07-02T06:30:45.338725",
     "status": "completed"
    },
    "tags": []
   },
   "outputs": [],
   "source": [
    "class CFG:\n",
    "    train_path = '/kaggle/input/playground-series-s5e7/train.csv'\n",
    "    test_path = '/kaggle/input/playground-series-s5e7/test.csv'\n",
    "    sample_sub_path = '/kaggle/input/playground-series-s5e7/sample_submission.csv'\n",
    "    \n",
    "    target = 'Personality'\n",
    "    n_folds = 5\n",
    "    seed = 42\n",
    "    \n",
    "    cv = StratifiedKFold(n_splits=n_folds, random_state=seed, shuffle=True)\n",
    "    metric = accuracy_score\n",
    "    \n",
    "    n_optuna_trials = 500"
   ]
  },
  {
   "cell_type": "markdown",
   "id": "6ba281e7",
   "metadata": {
    "papermill": {
     "duration": 0.005838,
     "end_time": "2025-07-02T06:30:45.364119",
     "exception": false,
     "start_time": "2025-07-02T06:30:45.358281",
     "status": "completed"
    },
    "tags": []
   },
   "source": [
    "# Data loading and preprocessing"
   ]
  },
  {
   "cell_type": "code",
   "execution_count": 4,
   "id": "98760eb1",
   "metadata": {
    "execution": {
     "iopub.execute_input": "2025-07-02T06:30:45.377358Z",
     "iopub.status.busy": "2025-07-02T06:30:45.377055Z",
     "iopub.status.idle": "2025-07-02T06:30:45.454968Z",
     "shell.execute_reply": "2025-07-02T06:30:45.454200Z"
    },
    "papermill": {
     "duration": 0.086529,
     "end_time": "2025-07-02T06:30:45.456635",
     "exception": false,
     "start_time": "2025-07-02T06:30:45.370106",
     "status": "completed"
    },
    "tags": []
   },
   "outputs": [],
   "source": [
    "train = pd.read_csv(CFG.train_path, index_col='id')\n",
    "test = pd.read_csv(CFG.test_path, index_col='id')\n",
    "\n",
    "train[\"Stage_fear\"] = train[\"Stage_fear\"].map({\"No\": 0, \"Yes\": 1})\n",
    "train[\"Drained_after_socializing\"] = train[\"Drained_after_socializing\"].map({\"No\": 0, \"Yes\": 1})\n",
    "\n",
    "test[\"Stage_fear\"] = test[\"Stage_fear\"].map({\"No\": 0, \"Yes\": 1})\n",
    "test[\"Drained_after_socializing\"] = test[\"Drained_after_socializing\"].map({\"No\": 0, \"Yes\": 1})\n",
    "\n",
    "train[CFG.target] = train[CFG.target].map({\"Extrovert\": 0, \"Introvert\": 1})\n",
    "\n",
    "X = train.drop(CFG.target, axis=1)\n",
    "y = train[CFG.target]\n",
    "X_test = test"
   ]
  },
  {
   "cell_type": "code",
   "execution_count": 5,
   "id": "2df49201",
   "metadata": {
    "execution": {
     "iopub.execute_input": "2025-07-02T06:30:45.472289Z",
     "iopub.status.busy": "2025-07-02T06:30:45.471611Z",
     "iopub.status.idle": "2025-07-02T06:30:45.877189Z",
     "shell.execute_reply": "2025-07-02T06:30:45.876240Z"
    },
    "papermill": {
     "duration": 0.414861,
     "end_time": "2025-07-02T06:30:45.879373",
     "exception": false,
     "start_time": "2025-07-02T06:30:45.464512",
     "status": "completed"
    },
    "tags": []
   },
   "outputs": [
    {
     "data": {
      "image/png": "[encoded data removed]",
      "text/plain": [
       "<Figure size 800x800 with 1 Axes>"
      ]
     },
     "metadata": {},
     "output_type": "display_data"
    }
   ],
   "source": [
    "sns.set_style(\"white\")\n",
    "plt.figure(figsize=(8, 8))\n",
    "\n",
    "corr_train = train.corr()\n",
    "mask_train = np.triu(np.ones_like(corr_train, dtype=bool), k=1)\n",
    "\n",
    "sns.heatmap(\n",
    "    data=corr_train,\n",
    "    annot=True,\n",
    "    fmt='.4f',\n",
    "    mask=mask_train,\n",
    "    square=True,\n",
    "    cmap='coolwarm',\n",
    "    annot_kws={'size': 8},\n",
    "    cbar=False\n",
    ")\n",
    "\n",
    "plt.tight_layout()\n",
    "plt.show()"
   ]
  },
  {
   "cell_type": "code",
   "execution_count": 6,
   "id": "537b98c3",
   "metadata": {
    "execution": {
     "iopub.execute_input": "2025-07-02T06:30:45.896095Z",
     "iopub.status.busy": "2025-07-02T06:30:45.895293Z",
     "iopub.status.idle": "2025-07-02T06:30:46.852034Z",
     "shell.execute_reply": "2025-07-02T06:30:46.851138Z"
    },
    "papermill": {
     "duration": 0.966373,
     "end_time": "2025-07-02T06:30:46.853493",
     "exception": false,
     "start_time": "2025-07-02T06:30:45.887120",
     "status": "completed"
    },
    "tags": []
   },
   "outputs": [
    {
     "data": {
      "text/html": [
       "<style type=\"text/css\">\n",
       "#T_1e109_row0_col0 {\n",
       "  width: 10em;\n",
       "  background: linear-gradient(90deg, #006837 100.0%, transparent 100.0%);\n",
       "}\n",
       "#T_1e109_row1_col0 {\n",
       "  width: 10em;\n",
       "  background: linear-gradient(90deg, #0b7d42 95.5%, transparent 95.5%);\n",
       "}\n",
       "#T_1e109_row2_col0 {\n",
       "  width: 10em;\n",
       "  background: linear-gradient(90deg, #108647 93.5%, transparent 93.5%);\n",
       "}\n",
       "#T_1e109_row3_col0 {\n",
       "  width: 10em;\n",
       "  background: linear-gradient(90deg, #219c52 89.0%, transparent 89.0%);\n",
       "}\n",
       "#T_1e109_row4_col0 {\n",
       "  width: 10em;\n",
       "  background: linear-gradient(90deg, #249d53 88.7%, transparent 88.7%);\n",
       "}\n",
       "#T_1e109_row5_col0 {\n",
       "  width: 10em;\n",
       "  background: linear-gradient(90deg, #36a657 86.0%, transparent 86.0%);\n",
       "}\n",
       "#T_1e109_row6_col0 {\n",
       "  width: 10em;\n",
       "  background: linear-gradient(90deg, #5ab760 81.6%, transparent 81.6%);\n",
       "}\n",
       "</style>\n",
       "<table id=\"T_1e109\">\n",
       "  <thead>\n",
       "    <tr>\n",
       "      <th class=\"blank level0\" >&nbsp;</th>\n",
       "      <th id=\"T_1e109_level0_col0\" class=\"col_heading level0 col0\" >Mutual Information</th>\n",
       "    </tr>\n",
       "  </thead>\n",
       "  <tbody>\n",
       "    <tr>\n",
       "      <th id=\"T_1e109_level0_row0\" class=\"row_heading level0 row0\" >Time_spent_Alone</th>\n",
       "      <td id=\"T_1e109_row0_col0\" class=\"data row0 col0\" >0.353570</td>\n",
       "    </tr>\n",
       "    <tr>\n",
       "      <th id=\"T_1e109_level0_row1\" class=\"row_heading level0 row1\" >Drained_after_socializing</th>\n",
       "      <td id=\"T_1e109_row1_col0\" class=\"data row1 col0\" >0.337575</td>\n",
       "    </tr>\n",
       "    <tr>\n",
       "      <th id=\"T_1e109_level0_row2\" class=\"row_heading level0 row2\" >Social_event_attendance</th>\n",
       "      <td id=\"T_1e109_row2_col0\" class=\"data row2 col0\" >0.330482</td>\n",
       "    </tr>\n",
       "    <tr>\n",
       "      <th id=\"T_1e109_level0_row3\" class=\"row_heading level0 row3\" >Stage_fear</th>\n",
       "      <td id=\"T_1e109_row3_col0\" class=\"data row3 col0\" >0.314673</td>\n",
       "    </tr>\n",
       "    <tr>\n",
       "      <th id=\"T_1e109_level0_row4\" class=\"row_heading level0 row4\" >Post_frequency</th>\n",
       "      <td id=\"T_1e109_row4_col0\" class=\"data row4 col0\" >0.313469</td>\n",
       "    </tr>\n",
       "    <tr>\n",
       "      <th id=\"T_1e109_level0_row5\" class=\"row_heading level0 row5\" >Going_outside</th>\n",
       "      <td id=\"T_1e109_row5_col0\" class=\"data row5 col0\" >0.304151</td>\n",
       "    </tr>\n",
       "    <tr>\n",
       "      <th id=\"T_1e109_level0_row6\" class=\"row_heading level0 row6\" >Friends_circle_size</th>\n",
       "      <td id=\"T_1e109_row6_col0\" class=\"data row6 col0\" >0.288645</td>\n",
       "    </tr>\n",
       "  </tbody>\n",
       "</table>\n"
      ],
      "text/plain": [
       "<pandas.io.formats.style.Styler at 0x7a5d30b4a290>"
      ]
     },
     "execution_count": 6,
     "metadata": {},
     "output_type": "execute_result"
    }
   ],
   "source": [
    "mutual_info = mutual_info_regression(X.fillna(0), y, random_state=CFG.seed)\n",
    "\n",
    "mutual_info = pd.Series(mutual_info)\n",
    "mutual_info.index = X.columns\n",
    "mutual_info = pd.DataFrame(mutual_info.sort_values(ascending=False), columns=['Mutual Information'])\n",
    "mutual_info.style.bar(subset=['Mutual Information'], cmap='RdYlGn')"
   ]
  },
  {
   "cell_type": "markdown",
   "id": "5a43e810",
   "metadata": {
    "papermill": {
     "duration": 0.007274,
     "end_time": "2025-07-02T06:30:46.868953",
     "exception": false,
     "start_time": "2025-07-02T06:30:46.861679",
     "status": "completed"
    },
    "tags": []
   },
   "source": [
    "# Training base models"
   ]
  },
  {
   "cell_type": "code",
   "execution_count": 7,
   "id": "d6be26c0",
   "metadata": {
    "execution": {
     "iopub.execute_input": "2025-07-02T06:30:46.885482Z",
     "iopub.status.busy": "2025-07-02T06:30:46.885133Z",
     "iopub.status.idle": "2025-07-02T06:30:46.890449Z",
     "shell.execute_reply": "2025-07-02T06:30:46.889596Z"
    },
    "papermill": {
     "duration": 0.015414,
     "end_time": "2025-07-02T06:30:46.892021",
     "exception": false,
     "start_time": "2025-07-02T06:30:46.876607",
     "status": "completed"
    },
    "tags": []
   },
   "outputs": [],
   "source": [
    "def save_submission(name, test_pred_probs, score, threshold=0.5):\n",
    "    sub = pd.read_csv(CFG.sample_sub_path)\n",
    "    sub[CFG.target] = (test_pred_probs > threshold).astype(int)\n",
    "    sub[CFG.target] = sub[CFG.target].map({0: \"Extrovert\", 1: \"Introvert\"})\n",
    "    sub.to_csv(f'sub_{name}_{score:.6f}.csv', index=False)\n",
    "    return sub.head()"
   ]
  },
  {
   "cell_type": "code",
   "execution_count": 8,
   "id": "f2843519",
   "metadata": {
    "_kg_hide-input": true,
    "_kg_hide-output": true,
    "execution": {
     "iopub.execute_input": "2025-07-02T06:30:46.909374Z",
     "iopub.status.busy": "2025-07-02T06:30:46.909049Z",
     "iopub.status.idle": "2025-07-02T06:30:46.917813Z",
     "shell.execute_reply": "2025-07-02T06:30:46.916934Z"
    },
    "papermill": {
     "duration": 0.019333,
     "end_time": "2025-07-02T06:30:46.919297",
     "exception": false,
     "start_time": "2025-07-02T06:30:46.899964",
     "status": "completed"
    },
    "tags": []
   },
   "outputs": [],
   "source": [
    "cb_params = {\n",
    "    \"border_count\": 39,\n",
    "    \"colsample_bylevel\": 0.19459088572914465,\n",
    "    \"depth\": 2,\n",
    "    \"iterations\": 1467,\n",
    "    \"l2_leaf_reg\": 31.236169478676036,\n",
    "    \"learning_rate\": 0.06852669420904771,\n",
    "    \"min_child_samples\": 160,\n",
    "    \"random_state\": 42,\n",
    "    \"random_strength\": 0.8517786189616939,\n",
    "    \"scale_pos_weight\": 1.1691394390533685,\n",
    "    \"subsample\": 0.3192330024411618,\n",
    "    \"verbose\": False\n",
    "}\n",
    "\n",
    "xgb_params = {\n",
    "    \"colsample_bylevel\": 0.8168489864941239,\n",
    "    \"colsample_bynode\": 0.8850485490950061,\n",
    "    \"colsample_bytree\": 0.8379339940113913,\n",
    "    \"gamma\": 2.3977359439809276,\n",
    "    \"learning_rate\": 0.0616974880921061,\n",
    "    \"max_depth\": 344,\n",
    "    \"max_leaves\": 89,\n",
    "    \"min_child_weight\": 10,\n",
    "    \"n_estimators\": 696,\n",
    "    \"n_jobs\": -1,\n",
    "    \"random_state\": 42,\n",
    "    \"reg_alpha\": 1.849084818346014,\n",
    "    \"reg_lambda\": 29.680324563362227,\n",
    "    \"subsample\": 0.5902901569391961,\n",
    "    \"verbosity\": 0\n",
    "}\n",
    "\n",
    "hgb_params = {\n",
    "    \"l2_regularization\": 28.13576008319012,\n",
    "    \"learning_rate\": 0.1543598086529694,\n",
    "    \"max_depth\": 325,\n",
    "    \"max_features\": 0.323620656779567,\n",
    "    \"max_iter\": 2490,\n",
    "    \"max_leaf_nodes\": 216,\n",
    "    \"min_samples_leaf\": 12,\n",
    "    \"random_state\": 42\n",
    "}\n",
    "\n",
    "lgbm_params = {\n",
    "    \"boosting_type\": \"gbdt\",\n",
    "    \"colsample_bytree\": 0.6467443250209886,\n",
    "    \"learning_rate\": 0.06547186748153115,\n",
    "    \"min_child_samples\": 34,\n",
    "    \"min_child_weight\": 0.24399244943904663,\n",
    "    \"n_estimators\": 498,\n",
    "    \"n_jobs\": -1,\n",
    "    \"num_leaves\": 158,\n",
    "    \"random_state\": 42,\n",
    "    \"reg_alpha\": 6.568921253574134,\n",
    "    \"reg_lambda\": 62.66165355751099,\n",
    "    \"subsample\": 0.0011019938618584968,\n",
    "    \"verbose\": -1\n",
    "}\n",
    "\n",
    "lgbm_goss_params = {\n",
    "    \"boosting_type\": \"goss\",\n",
    "    \"colsample_bytree\": 0.8384834064170148,\n",
    "    \"learning_rate\": 0.07006829797238343,\n",
    "    \"min_child_samples\": 46,\n",
    "    \"min_child_weight\": 0.7625394962666617,\n",
    "    \"n_estimators\": 1887,\n",
    "    \"n_jobs\": -1,\n",
    "    \"num_leaves\": 341,\n",
    "    \"random_state\": 42,\n",
    "    \"reg_alpha\": 10.53082019937197,\n",
    "    \"reg_lambda\": 67.44600065144685,\n",
    "    \"subsample\": 0.4925008305336127,\n",
    "    \"verbose\": -1\n",
    "}\n",
    "\n",
    "lgbm_dart_params = {\n",
    "    \"boosting_type\": \"dart\",\n",
    "    \"colsample_bytree\": 0.7592971191793424,\n",
    "    \"learning_rate\": 0.046141766106846074,\n",
    "    \"min_child_samples\": 18,\n",
    "    \"min_child_weight\": 0.4740109054323218,\n",
    "    \"n_estimators\": 4035,\n",
    "    \"n_jobs\": -1,\n",
    "    \"num_leaves\": 393,\n",
    "    \"random_state\": 42,\n",
    "    \"reg_alpha\": 48.016799341666605,\n",
    "    \"reg_lambda\": 89.12860300833658,\n",
    "    \"subsample\": 0.016333358901112538,\n",
    "    \"verbose\": -1\n",
    "}"
   ]
  },
  {
   "cell_type": "code",
   "execution_count": 9,
   "id": "4423eeab",
   "metadata": {
    "execution": {
     "iopub.execute_input": "2025-07-02T06:30:46.936512Z",
     "iopub.status.busy": "2025-07-02T06:30:46.935677Z",
     "iopub.status.idle": "2025-07-02T06:30:46.939880Z",
     "shell.execute_reply": "2025-07-02T06:30:46.939077Z"
    },
    "papermill": {
     "duration": 0.013992,
     "end_time": "2025-07-02T06:30:46.941227",
     "exception": false,
     "start_time": "2025-07-02T06:30:46.927235",
     "status": "completed"
    },
    "tags": []
   },
   "outputs": [],
   "source": [
    "scores = {}\n",
    "oof_pred_probs = {}\n",
    "test_pred_probs = {}"
   ]
  },
  {
   "cell_type": "markdown",
   "id": "156b93ab",
   "metadata": {
    "papermill": {
     "duration": 0.007303,
     "end_time": "2025-07-02T06:30:46.956431",
     "exception": false,
     "start_time": "2025-07-02T06:30:46.949128",
     "status": "completed"
    },
    "tags": []
   },
   "source": [
    "## CatBoost"
   ]
  },
  {
   "cell_type": "code",
   "execution_count": 10,
   "id": "2eace92c",
   "metadata": {
    "execution": {
     "iopub.execute_input": "2025-07-02T06:30:46.973016Z",
     "iopub.status.busy": "2025-07-02T06:30:46.972409Z",
     "iopub.status.idle": "2025-07-02T06:31:05.670051Z",
     "shell.execute_reply": "2025-07-02T06:31:05.669055Z"
    },
    "papermill": {
     "duration": 18.707676,
     "end_time": "2025-07-02T06:31:05.671632",
     "exception": false,
     "start_time": "2025-07-02T06:30:46.963956",
     "status": "completed"
    },
    "tags": []
   },
   "outputs": [
    {
     "name": "stdout",
     "output_type": "stream",
     "text": [
      "Training CatBoostClassifier\n",
      "\n",
      "--- Fold 0 - accuracy_score: 0.969501 - Time: 3.47 s\n",
      "--- Fold 1 - accuracy_score: 0.967072 - Time: 3.28 s\n",
      "--- Fold 2 - accuracy_score: 0.965992 - Time: 3.37 s\n",
      "--- Fold 3 - accuracy_score: 0.970310 - Time: 4.44 s\n",
      "--- Fold 4 - accuracy_score: 0.971382 - Time: 3.39 s\n",
      "\n",
      "------ Overall accuracy_score: 0.968851 - Mean accuracy_score: 0.968851 ± 0.002015 - Time: 18.65 s\n"
     ]
    }
   ],
   "source": [
    "cb_trainer = Trainer(\n",
    "    CatBoostClassifier(**cb_params),\n",
    "    cv=CFG.cv,\n",
    "    metric=CFG.metric,\n",
    "    use_early_stopping=False,\n",
    "    task=\"binary\",\n",
    "    metric_precision=6,\n",
    ")\n",
    "\n",
    "cb_trainer.fit(X, y)\n",
    "\n",
    "scores[\"CatBoost\"] = cb_trainer.fold_scores\n",
    "oof_pred_probs[\"CatBoost\"] = cb_trainer.oof_preds\n",
    "test_pred_probs[\"CatBoost\"] = cb_trainer.predict(X_test)"
   ]
  },
  {
   "cell_type": "markdown",
   "id": "ae1949a4",
   "metadata": {
    "papermill": {
     "duration": 0.007774,
     "end_time": "2025-07-02T06:31:05.687939",
     "exception": false,
     "start_time": "2025-07-02T06:31:05.680165",
     "status": "completed"
    },
    "tags": []
   },
   "source": [
    "## XGBoost"
   ]
  },
  {
   "cell_type": "code",
   "execution_count": 11,
   "id": "48f04bf2",
   "metadata": {
    "execution": {
     "iopub.execute_input": "2025-07-02T06:31:05.706301Z",
     "iopub.status.busy": "2025-07-02T06:31:05.705964Z",
     "iopub.status.idle": "2025-07-02T06:31:08.623879Z",
     "shell.execute_reply": "2025-07-02T06:31:08.622447Z"
    },
    "papermill": {
     "duration": 2.928566,
     "end_time": "2025-07-02T06:31:08.625253",
     "exception": false,
     "start_time": "2025-07-02T06:31:05.696687",
     "status": "completed"
    },
    "tags": []
   },
   "outputs": [
    {
     "name": "stdout",
     "output_type": "stream",
     "text": [
      "Training XGBClassifier\n",
      "\n",
      "--- Fold 0 - accuracy_score: 0.969771 - Time: 0.42 s\n",
      "--- Fold 1 - accuracy_score: 0.968151 - Time: 0.39 s\n",
      "--- Fold 2 - accuracy_score: 0.966262 - Time: 0.38 s\n",
      "--- Fold 3 - accuracy_score: 0.971120 - Time: 0.55 s\n",
      "--- Fold 4 - accuracy_score: 0.970842 - Time: 0.39 s\n",
      "\n",
      "------ Overall accuracy_score: 0.969229 - Mean accuracy_score: 0.969229 ± 0.001813 - Time: 2.85 s\n"
     ]
    }
   ],
   "source": [
    "xgb_trainer = Trainer(\n",
    "    XGBClassifier(**xgb_params),\n",
    "    cv=CFG.cv,\n",
    "    metric=CFG.metric,\n",
    "    task=\"binary\",\n",
    "    metric_precision=6,\n",
    ")\n",
    "\n",
    "xgb_trainer.fit(X, y)\n",
    "\n",
    "scores[\"XGBoost\"] = xgb_trainer.fold_scores\n",
    "oof_pred_probs[\"XGBoost\"] = xgb_trainer.oof_preds\n",
    "test_pred_probs[\"XGBoost\"] = xgb_trainer.predict(X_test)"
   ]
  },
  {
   "cell_type": "markdown",
   "id": "816e9cb3",
   "metadata": {
    "papermill": {
     "duration": 0.007946,
     "end_time": "2025-07-02T06:31:08.641979",
     "exception": false,
     "start_time": "2025-07-02T06:31:08.634033",
     "status": "completed"
    },
    "tags": []
   },
   "source": [
    "## HistGradientBoostingClassifier"
   ]
  },
  {
   "cell_type": "code",
   "execution_count": 12,
   "id": "9a54916d",
   "metadata": {
    "execution": {
     "iopub.execute_input": "2025-07-02T06:31:08.660244Z",
     "iopub.status.busy": "2025-07-02T06:31:08.659491Z",
     "iopub.status.idle": "2025-07-02T06:31:12.008013Z",
     "shell.execute_reply": "2025-07-02T06:31:12.006983Z"
    },
    "papermill": {
     "duration": 3.35915,
     "end_time": "2025-07-02T06:31:12.009506",
     "exception": false,
     "start_time": "2025-07-02T06:31:08.650356",
     "status": "completed"
    },
    "tags": []
   },
   "outputs": [
    {
     "name": "stdout",
     "output_type": "stream",
     "text": [
      "Training HistGradientBoostingClassifier\n",
      "\n",
      "--- Fold 0 - accuracy_score: 0.969771 - Time: 0.34 s\n",
      "--- Fold 1 - accuracy_score: 0.968151 - Time: 0.80 s\n",
      "--- Fold 2 - accuracy_score: 0.966532 - Time: 0.44 s\n",
      "--- Fold 3 - accuracy_score: 0.971390 - Time: 0.44 s\n",
      "--- Fold 4 - accuracy_score: 0.971112 - Time: 0.51 s\n",
      "\n",
      "------ Overall accuracy_score: 0.969391 - Mean accuracy_score: 0.969391 ± 0.001834 - Time: 3.24 s\n"
     ]
    }
   ],
   "source": [
    "hgb_trainer = Trainer(\n",
    "    HistGradientBoostingClassifier(**hgb_params),\n",
    "    cv=CFG.cv,\n",
    "    metric=CFG.metric,\n",
    "    task=\"binary\",\n",
    "    metric_precision=6,\n",
    ")\n",
    "\n",
    "hgb_trainer.fit(X, y)\n",
    "\n",
    "scores[\"HistGradientBoosting\"] = hgb_trainer.fold_scores\n",
    "oof_pred_probs[\"HistGradientBoosting\"] = hgb_trainer.oof_preds\n",
    "test_pred_probs[\"HistGradientBoosting\"] = hgb_trainer.predict(X_test)"
   ]
  },
  {
   "cell_type": "markdown",
   "id": "f058504f",
   "metadata": {
    "papermill": {
     "duration": 0.008724,
     "end_time": "2025-07-02T06:31:12.027359",
     "exception": false,
     "start_time": "2025-07-02T06:31:12.018635",
     "status": "completed"
    },
    "tags": []
   },
   "source": [
    "## LightGBM (gbdt)"
   ]
  },
  {
   "cell_type": "code",
   "execution_count": 13,
   "id": "29ee02ec",
   "metadata": {
    "execution": {
     "iopub.execute_input": "2025-07-02T06:31:12.046447Z",
     "iopub.status.busy": "2025-07-02T06:31:12.046143Z",
     "iopub.status.idle": "2025-07-02T06:31:14.990089Z",
     "shell.execute_reply": "2025-07-02T06:31:14.988725Z"
    },
    "papermill": {
     "duration": 2.955119,
     "end_time": "2025-07-02T06:31:14.991576",
     "exception": false,
     "start_time": "2025-07-02T06:31:12.036457",
     "status": "completed"
    },
    "tags": []
   },
   "outputs": [
    {
     "name": "stdout",
     "output_type": "stream",
     "text": [
      "Training LGBMClassifier\n",
      "\n",
      "--- Fold 0 - accuracy_score: 0.970040 - Time: 0.44 s\n",
      "--- Fold 1 - accuracy_score: 0.968421 - Time: 0.38 s\n",
      "--- Fold 2 - accuracy_score: 0.966262 - Time: 0.41 s\n",
      "--- Fold 3 - accuracy_score: 0.970850 - Time: 0.33 s\n",
      "--- Fold 4 - accuracy_score: 0.971652 - Time: 0.44 s\n",
      "\n",
      "------ Overall accuracy_score: 0.969445 - Mean accuracy_score: 0.969445 ± 0.001917 - Time: 2.74 s\n"
     ]
    }
   ],
   "source": [
    "lgbm_gbdt_trainer = Trainer(\n",
    "    LGBMClassifier(**lgbm_params),\n",
    "    cv=CFG.cv,\n",
    "    metric=CFG.metric,\n",
    "    use_early_stopping=False,\n",
    "    task=\"binary\",\n",
    "    metric_precision=6,\n",
    ")\n",
    "\n",
    "lgbm_gbdt_trainer.fit(X, y)\n",
    "\n",
    "scores[\"LightGBM (gbdt)\"] = lgbm_gbdt_trainer.fold_scores\n",
    "oof_pred_probs[\"LightGBM (gbdt)\"] = lgbm_gbdt_trainer.oof_preds\n",
    "test_pred_probs[\"LightGBM (gbdt)\"] = lgbm_gbdt_trainer.predict(X_test)"
   ]
  },
  {
   "cell_type": "markdown",
   "id": "6078c587",
   "metadata": {
    "papermill": {
     "duration": 0.0087,
     "end_time": "2025-07-02T06:31:15.009739",
     "exception": false,
     "start_time": "2025-07-02T06:31:15.001039",
     "status": "completed"
    },
    "tags": []
   },
   "source": [
    "## LightGBM (goss)"
   ]
  },
  {
   "cell_type": "code",
   "execution_count": 14,
   "id": "43c8c17b",
   "metadata": {
    "execution": {
     "iopub.execute_input": "2025-07-02T06:31:15.029349Z",
     "iopub.status.busy": "2025-07-02T06:31:15.028561Z",
     "iopub.status.idle": "2025-07-02T06:31:24.682844Z",
     "shell.execute_reply": "2025-07-02T06:31:24.682019Z"
    },
    "papermill": {
     "duration": 9.666049,
     "end_time": "2025-07-02T06:31:24.684681",
     "exception": false,
     "start_time": "2025-07-02T06:31:15.018632",
     "status": "completed"
    },
    "tags": []
   },
   "outputs": [
    {
     "name": "stdout",
     "output_type": "stream",
     "text": [
      "Training LGBMClassifier\n",
      "\n",
      "--- Fold 0 - accuracy_score: 0.970040 - Time: 1.73 s\n",
      "--- Fold 1 - accuracy_score: 0.968421 - Time: 1.70 s\n",
      "--- Fold 2 - accuracy_score: 0.966532 - Time: 1.66 s\n",
      "--- Fold 3 - accuracy_score: 0.970850 - Time: 1.59 s\n",
      "--- Fold 4 - accuracy_score: 0.971382 - Time: 1.69 s\n",
      "\n",
      "------ Overall accuracy_score: 0.969445 - Mean accuracy_score: 0.969445 ± 0.001767 - Time: 9.10 s\n"
     ]
    }
   ],
   "source": [
    "lgbm_goss_trainer = Trainer(\n",
    "    LGBMClassifier(**lgbm_goss_params),\n",
    "    cv=CFG.cv,\n",
    "    metric=CFG.metric,\n",
    "    use_early_stopping=False,\n",
    "    task=\"binary\",\n",
    "    metric_precision=6,\n",
    ")\n",
    "\n",
    "lgbm_goss_trainer.fit(X, y)\n",
    "\n",
    "scores[\"LightGBM (goss)\"] = lgbm_goss_trainer.fold_scores\n",
    "oof_pred_probs[\"LightGBM (goss)\"] = lgbm_goss_trainer.oof_preds\n",
    "test_pred_probs[\"LightGBM (goss)\"] = lgbm_goss_trainer.predict(X_test)"
   ]
  },
  {
   "cell_type": "markdown",
   "id": "37830e61",
   "metadata": {
    "papermill": {
     "duration": 0.008969,
     "end_time": "2025-07-02T06:31:24.703396",
     "exception": false,
     "start_time": "2025-07-02T06:31:24.694427",
     "status": "completed"
    },
    "tags": []
   },
   "source": [
    "## LightGBM (dart)"
   ]
  },
  {
   "cell_type": "code",
   "execution_count": 15,
   "id": "5b458f46",
   "metadata": {
    "execution": {
     "iopub.execute_input": "2025-07-02T06:31:24.724025Z",
     "iopub.status.busy": "2025-07-02T06:31:24.723635Z",
     "iopub.status.idle": "2025-07-02T06:36:03.131822Z",
     "shell.execute_reply": "2025-07-02T06:36:03.131068Z"
    },
    "papermill": {
     "duration": 278.420077,
     "end_time": "2025-07-02T06:36:03.133420",
     "exception": false,
     "start_time": "2025-07-02T06:31:24.713343",
     "status": "completed"
    },
    "tags": []
   },
   "outputs": [
    {
     "name": "stdout",
     "output_type": "stream",
     "text": [
      "Training LGBMClassifier\n",
      "\n",
      "--- Fold 0 - accuracy_score: 0.970040 - Time: 59.25 s\n",
      "--- Fold 1 - accuracy_score: 0.968421 - Time: 52.75 s\n",
      "--- Fold 2 - accuracy_score: 0.966262 - Time: 52.23 s\n",
      "--- Fold 3 - accuracy_score: 0.971120 - Time: 54.87 s\n",
      "--- Fold 4 - accuracy_score: 0.971112 - Time: 56.20 s\n",
      "\n",
      "------ Overall accuracy_score: 0.969391 - Mean accuracy_score: 0.969391 ± 0.001850 - Time: 276.06 s\n"
     ]
    }
   ],
   "source": [
    "lgbm_dart_trainer = Trainer(\n",
    "    LGBMClassifier(**lgbm_dart_params),\n",
    "    cv=CFG.cv,\n",
    "    metric=CFG.metric,\n",
    "    use_early_stopping=False,\n",
    "    task=\"binary\",\n",
    "    metric_precision=6,\n",
    ")\n",
    "\n",
    "lgbm_dart_trainer.fit(X, y)\n",
    "\n",
    "scores[\"LightGBM (dart)\"] = lgbm_dart_trainer.fold_scores\n",
    "oof_pred_probs[\"LightGBM (dart)\"] = lgbm_dart_trainer.oof_preds\n",
    "test_pred_probs[\"LightGBM (dart)\"] = lgbm_dart_trainer.predict(X_test)"
   ]
  },
  {
   "cell_type": "markdown",
   "id": "b97312ef",
   "metadata": {
    "papermill": {
     "duration": 0.009627,
     "end_time": "2025-07-02T06:36:03.153100",
     "exception": false,
     "start_time": "2025-07-02T06:36:03.143473",
     "status": "completed"
    },
    "tags": []
   },
   "source": [
    "## AutoGluon"
   ]
  },
  {
   "cell_type": "code",
   "execution_count": 16,
   "id": "75d95303",
   "metadata": {
    "execution": {
     "iopub.execute_input": "2025-07-02T06:36:03.173771Z",
     "iopub.status.busy": "2025-07-02T06:36:03.173412Z",
     "iopub.status.idle": "2025-07-02T06:36:03.210811Z",
     "shell.execute_reply": "2025-07-02T06:36:03.209981Z"
    },
    "papermill": {
     "duration": 0.049836,
     "end_time": "2025-07-02T06:36:03.212401",
     "exception": false,
     "start_time": "2025-07-02T06:36:03.162565",
     "status": "completed"
    },
    "tags": []
   },
   "outputs": [],
   "source": [
    "oof_pred_probs_files = glob.glob(f'/kaggle/input/s05e07-personality-type-prediction-autogluon/*_oof_pred_probs_*.pkl')\n",
    "test_pred_probs_files = glob.glob(f'/kaggle/input/s05e07-personality-type-prediction-autogluon/*_test_pred_probs_*.pkl')\n",
    "\n",
    "ag_oof_pred_probs = joblib.load(oof_pred_probs_files[0])\n",
    "ag_test_pred_probs = joblib.load(test_pred_probs_files[0])\n",
    "\n",
    "ag_scores = []\n",
    "for _, val_idx in CFG.cv.split(X, y):\n",
    "    y_val = y[val_idx]\n",
    "    y_preds = ag_oof_pred_probs[val_idx]\n",
    "    score = accuracy_score(y_val, y_preds >= 0.5)\n",
    "    ag_scores.append(score)\n",
    "    \n",
    "oof_pred_probs[\"AutoGluon\"], test_pred_probs[\"AutoGluon\"], scores[\"AutoGluon\"] = ag_oof_pred_probs, ag_test_pred_probs, ag_scores"
   ]
  },
  {
   "cell_type": "markdown",
   "id": "f3e15d31",
   "metadata": {
    "papermill": {
     "duration": 0.009562,
     "end_time": "2025-07-02T06:36:03.301775",
     "exception": false,
     "start_time": "2025-07-02T06:36:03.292213",
     "status": "completed"
    },
    "tags": []
   },
   "source": [
    "# Ensembling with Logistic Regression"
   ]
  },
  {
   "cell_type": "code",
   "execution_count": 17,
   "id": "718795e1",
   "metadata": {
    "_kg_hide-input": true,
    "execution": {
     "iopub.execute_input": "2025-07-02T06:36:03.322287Z",
     "iopub.status.busy": "2025-07-02T06:36:03.321955Z",
     "iopub.status.idle": "2025-07-02T06:36:03.329363Z",
     "shell.execute_reply": "2025-07-02T06:36:03.328509Z"
    },
    "papermill": {
     "duration": 0.01941,
     "end_time": "2025-07-02T06:36:03.330853",
     "exception": false,
     "start_time": "2025-07-02T06:36:03.311443",
     "status": "completed"
    },
    "tags": []
   },
   "outputs": [],
   "source": [
    "def plot_weights(weights, title):\n",
    "    sorted_indices = np.argsort(weights[0])[::-1]\n",
    "    sorted_coeffs = np.array(weights[0])[sorted_indices]\n",
    "    sorted_model_names = np.array(list(oof_pred_probs.keys()))[sorted_indices]\n",
    "\n",
    "    plt.figure(figsize=(10, weights.shape[1] * 0.5))\n",
    "    ax = sns.barplot(x=sorted_coeffs, y=sorted_model_names, palette=\"RdYlGn_r\")\n",
    "\n",
    "    for i, (value, name) in enumerate(zip(sorted_coeffs, sorted_model_names)):\n",
    "        if value >= 0:\n",
    "            ax.text(value, i, f'{value:.3f}', va='center', ha='left', color='black')\n",
    "        else:\n",
    "            ax.text(value, i, f'{value:.3f}', va='center', ha='right', color='black')\n",
    "\n",
    "    xlim = ax.get_xlim()\n",
    "    ax.set_xlim(xlim[0] - 0.1 * abs(xlim[0]), xlim[1] + 0.1 * abs(xlim[1]))\n",
    "\n",
    "    plt.title(title)\n",
    "    plt.xlabel('')\n",
    "    plt.ylabel('')\n",
    "    plt.tight_layout()\n",
    "    plt.show()"
   ]
  },
  {
   "cell_type": "code",
   "execution_count": 18,
   "id": "30b9d40d",
   "metadata": {
    "execution": {
     "iopub.execute_input": "2025-07-02T06:36:03.352430Z",
     "iopub.status.busy": "2025-07-02T06:36:03.351680Z",
     "iopub.status.idle": "2025-07-02T06:36:03.357381Z",
     "shell.execute_reply": "2025-07-02T06:36:03.356450Z"
    },
    "papermill": {
     "duration": 0.018141,
     "end_time": "2025-07-02T06:36:03.358986",
     "exception": false,
     "start_time": "2025-07-02T06:36:03.340845",
     "status": "completed"
    },
    "tags": []
   },
   "outputs": [],
   "source": [
    "X = pd.DataFrame(oof_pred_probs)\n",
    "X_test = pd.DataFrame(test_pred_probs)"
   ]
  },
  {
   "cell_type": "code",
   "execution_count": 19,
   "id": "1d16fcbe",
   "metadata": {
    "_kg_hide-output": true,
    "execution": {
     "iopub.execute_input": "2025-07-02T06:36:03.380479Z",
     "iopub.status.busy": "2025-07-02T06:36:03.380155Z",
     "iopub.status.idle": "2025-07-02T06:43:10.501110Z",
     "shell.execute_reply": "2025-07-02T06:43:10.500101Z"
    },
    "papermill": {
     "duration": 427.133639,
     "end_time": "2025-07-02T06:43:10.502674",
     "exception": false,
     "start_time": "2025-07-02T06:36:03.369035",
     "status": "completed"
    },
    "scrolled": true,
    "tags": []
   },
   "outputs": [
    {
     "name": "stderr",
     "output_type": "stream",
     "text": [
      "[I 2025-07-02 06:36:03,386] A new study created in memory with name: no-name-78e7c5c2-e705-4bdf-bd1c-60d685a7cf41\n",
      "[I 2025-07-02 06:36:05,808] Trial 2 finished with value: 0.2604729030584436 and parameters: {'solver_penalty': ('liblinear', 'l1'), 'C': 3.465495385284705, 'tol': 0.053158116967486374, 'fit_intercept': False, 'class_weight': 'balanced', 'threshold': 0.426}. Best is trial 2 with value: 0.2604729030584436.\n",
      "[I 2025-07-02 06:36:06,118] Trial 1 finished with value: 0.599003841635989 and parameters: {'solver_penalty': ('liblinear', 'l2'), 'C': 0.6536384889730495, 'tol': 0.03334699232870489, 'fit_intercept': False, 'class_weight': 'balanced', 'threshold': 0.516}. Best is trial 1 with value: 0.599003841635989.\n",
      "[I 2025-07-02 06:36:06,275] Trial 3 finished with value: 0.9690672810952453 and parameters: {'solver_penalty': ('newton-cg', None), 'C': 6.444092069934061, 'tol': 0.07851331818372867, 'fit_intercept': False, 'class_weight': None, 'threshold': 0.6639999999999999}. Best is trial 3 with value: 0.9690672810952453.\n",
      "[I 2025-07-02 06:36:07,870] Trial 0 finished with value: 0.8067875849284285 and parameters: {'solver_penalty': ('newton-cholesky', None), 'C': 2.1908691340907627, 'tol': 0.03384431423549583, 'fit_intercept': False, 'class_weight': 'balanced', 'threshold': 0.514}. Best is trial 3 with value: 0.9690672810952453.\n",
      "[I 2025-07-02 06:36:08,656] Trial 5 finished with value: 0.9262028430438114 and parameters: {'solver_penalty': ('lbfgs', 'l2'), 'C': 1.3483222890800584, 'tol': 0.0857125154298019, 'fit_intercept': False, 'class_weight': None, 'threshold': 0.53}. Best is trial 3 with value: 0.9690672810952453.\n",
      "[I 2025-07-02 06:36:08,659] Trial 4 finished with value: 0.2604729030584436 and parameters: {'solver_penalty': ('liblinear', 'l2'), 'C': 2.5854212194594064, 'tol': 0.06555901787499888, 'fit_intercept': False, 'class_weight': None, 'threshold': 0.314}. Best is trial 3 with value: 0.9690672810952453.\n",
      "[I 2025-07-02 06:36:09,312] Trial 6 finished with value: 0.2604729030584436 and parameters: {'solver_penalty': ('newton-cg', None), 'C': 0.28961983105325495, 'tol': 0.07422515806990636, 'fit_intercept': False, 'class_weight': None, 'threshold': 0.387}. Best is trial 3 with value: 0.9690672810952453.\n",
      "[I 2025-07-02 06:36:11,225] Trial 7 finished with value: 0.9689053523491399 and parameters: {'solver_penalty': ('liblinear', 'l1'), 'C': 6.293117170358869, 'tol': 0.031149596628147373, 'fit_intercept': True, 'class_weight': 'balanced', 'threshold': 0.365}. Best is trial 3 with value: 0.9690672810952453.\n",
      "[I 2025-07-02 06:36:12,096] Trial 10 finished with value: 0.2604729030584436 and parameters: {'solver_penalty': ('newton-cg', None), 'C': 7.640719791600167, 'tol': 0.05090089433323969, 'fit_intercept': False, 'class_weight': None, 'threshold': 0.428}. Best is trial 3 with value: 0.9690672810952453.\n",
      "[I 2025-07-02 06:36:12,428] Trial 8 finished with value: 0.9691212767755907 and parameters: {'solver_penalty': ('lbfgs', 'l2'), 'C': 3.0626956436496124, 'tol': 0.03890224301526544, 'fit_intercept': True, 'class_weight': 'balanced', 'threshold': 0.5469999999999999}. Best is trial 8 with value: 0.9691212767755907.\n",
      "[I 2025-07-02 06:36:12,429] Trial 9 finished with value: 0.49584354223322047 and parameters: {'solver_penalty': ('newton-cholesky', None), 'C': 4.741449372594637, 'tol': 0.0840095237369323, 'fit_intercept': False, 'class_weight': 'balanced', 'threshold': 0.401}. Best is trial 8 with value: 0.9691212767755907.\n",
      "[I 2025-07-02 06:36:14,590] Trial 11 finished with value: 0.9690672810952453 and parameters: {'solver_penalty': ('lbfgs', None), 'C': 2.299370107856226, 'tol': 0.041151762696787435, 'fit_intercept': True, 'class_weight': 'balanced', 'threshold': 0.575}. Best is trial 8 with value: 0.9691212767755907.\n",
      "[I 2025-07-02 06:36:14,745] Trial 14 finished with value: 0.9693371720545759 and parameters: {'solver_penalty': ('liblinear', 'l2'), 'C': 1.6923546583005156, 'tol': 0.04681350178233894, 'fit_intercept': True, 'class_weight': None, 'threshold': 0.43}. Best is trial 14 with value: 0.9693371720545759.\n",
      "[I 2025-07-02 06:36:15,576] Trial 12 finished with value: 0.9691752578822033 and parameters: {'solver_penalty': ('newton-cholesky', None), 'C': 6.134415106732543, 'tol': 0.04553344816622865, 'fit_intercept': True, 'class_weight': 'balanced', 'threshold': 0.577}. Best is trial 14 with value: 0.9693371720545759.\n",
      "[I 2025-07-02 06:36:16,430] Trial 13 finished with value: 0.9691752578822035 and parameters: {'solver_penalty': ('newton-cholesky', None), 'C': 6.324976586602023, 'tol': 0.03756890005443977, 'fit_intercept': True, 'class_weight': 'balanced', 'threshold': 0.613}. Best is trial 14 with value: 0.9693371720545759.\n",
      "[I 2025-07-02 06:36:18,222] Trial 15 finished with value: 0.9692291806938845 and parameters: {'solver_penalty': ('newton-cg', 'l2'), 'C': 8.723339045632736, 'tol': 0.06548898126271464, 'fit_intercept': True, 'class_weight': None, 'threshold': 0.587}. Best is trial 14 with value: 0.9693371720545759.\n",
      "[I 2025-07-02 06:36:18,226] Trial 17 finished with value: 0.9575147559045479 and parameters: {'solver_penalty': ('liblinear', 'l1'), 'C': 9.997282479107367, 'tol': 0.04834037724479518, 'fit_intercept': False, 'class_weight': 'balanced', 'threshold': 0.5549999999999999}. Best is trial 14 with value: 0.9693371720545759.\n",
      "[I 2025-07-02 06:36:18,592] Trial 16 finished with value: 0.9692291661201518 and parameters: {'solver_penalty': ('lbfgs', 'l2'), 'C': 7.5758914830575685, 'tol': 0.004658873298145053, 'fit_intercept': True, 'class_weight': None, 'threshold': 0.651}. Best is trial 14 with value: 0.9693371720545759.\n",
      "[I 2025-07-02 06:36:19,702] Trial 18 finished with value: 0.2604729030584436 and parameters: {'solver_penalty': ('lbfgs', None), 'C': 8.933384378509643, 'tol': 0.043871076272179996, 'fit_intercept': False, 'class_weight': 'balanced', 'threshold': 0.434}. Best is trial 14 with value: 0.9693371720545759.\n",
      "[I 2025-07-02 06:36:21,119] Trial 20 finished with value: 0.9692831909479631 and parameters: {'solver_penalty': ('liblinear', 'l1'), 'C': 1.172690252350671, 'tol': 0.01824850818488143, 'fit_intercept': True, 'class_weight': None, 'threshold': 0.675}. Best is trial 14 with value: 0.9693371720545759.\n",
      "[I 2025-07-02 06:36:21,422] Trial 21 finished with value: 0.9693371720545759 and parameters: {'solver_penalty': ('liblinear', 'l2'), 'C': 2.0268666140778233, 'tol': 0.01878855295945321, 'fit_intercept': True, 'class_weight': None, 'threshold': 0.40599999999999997}. Best is trial 14 with value: 0.9693371720545759.\n",
      "[I 2025-07-02 06:36:21,604] Trial 19 finished with value: 0.2604729030584436 and parameters: {'solver_penalty': ('newton-cg', None), 'C': 2.2062658900756826, 'tol': 0.01075272929741223, 'fit_intercept': False, 'class_weight': None, 'threshold': 0.365}. Best is trial 14 with value: 0.9693371720545759.\n",
      "[I 2025-07-02 06:36:23,363] Trial 22 finished with value: 0.2645217046603883 and parameters: {'solver_penalty': ('newton-cholesky', 'l2'), 'C': 1.3550211953167313, 'tol': 0.05932753279728916, 'fit_intercept': False, 'class_weight': 'balanced', 'threshold': 0.363}. Best is trial 14 with value: 0.9693371720545759.\n",
      "[I 2025-07-02 06:36:23,699] Trial 24 finished with value: 0.9691751995872719 and parameters: {'solver_penalty': ('liblinear', 'l2'), 'C': 8.268586864226538, 'tol': 0.014936642891042153, 'fit_intercept': True, 'class_weight': None, 'threshold': 0.69}. Best is trial 14 with value: 0.9693371720545759.\n",
      "[I 2025-07-02 06:36:25,143] Trial 23 finished with value: 0.9318152458734476 and parameters: {'solver_penalty': ('newton-cholesky', 'l2'), 'C': 7.2874576435594305, 'tol': 0.009877185382033733, 'fit_intercept': False, 'class_weight': 'balanced', 'threshold': 0.613}. Best is trial 14 with value: 0.9693371720545759.\n",
      "[I 2025-07-02 06:36:25,443] Trial 25 finished with value: 0.9693911531611885 and parameters: {'solver_penalty': ('newton-cholesky', 'l2'), 'C': 1.8709350829222648, 'tol': 0.052096290370292064, 'fit_intercept': True, 'class_weight': 'balanced', 'threshold': 0.648}. Best is trial 25 with value: 0.9693911531611885.\n",
      "[I 2025-07-02 06:36:25,934] Trial 26 finished with value: 0.9654502700512705 and parameters: {'solver_penalty': ('lbfgs', None), 'C': 9.17126214099563, 'tol': 0.0392916015843523, 'fit_intercept': False, 'class_weight': 'balanced', 'threshold': 0.5780000000000001}. Best is trial 25 with value: 0.9693911531611885.\n",
      "[I 2025-07-02 06:36:26,565] Trial 27 finished with value: 0.953627562426585 and parameters: {'solver_penalty': ('lbfgs', None), 'C': 5.149832862055833, 'tol': 0.044328842201325686, 'fit_intercept': False, 'class_weight': 'balanced', 'threshold': 0.538}. Best is trial 25 with value: 0.9693911531611885.\n",
      "[I 2025-07-02 06:36:28,491] Trial 29 finished with value: 0.9626431650650134 and parameters: {'solver_penalty': ('lbfgs', 'l2'), 'C': 1.64011434036325, 'tol': 0.07857659612162267, 'fit_intercept': False, 'class_weight': 'balanced', 'threshold': 0.5529999999999999}. Best is trial 25 with value: 0.9693911531611885.\n",
      "[I 2025-07-02 06:36:29,119] Trial 30 finished with value: 0.2604729030584436 and parameters: {'solver_penalty': ('lbfgs', 'l2'), 'C': 5.66526900356847, 'tol': 0.04181547259448835, 'fit_intercept': False, 'class_weight': 'balanced', 'threshold': 0.402}. Best is trial 25 with value: 0.9693911531611885.\n",
      "[I 2025-07-02 06:36:29,271] Trial 28 finished with value: 0.9671775051518147 and parameters: {'solver_penalty': ('newton-cholesky', 'l2'), 'C': 2.7293023329117383, 'tol': 0.07272517143898938, 'fit_intercept': False, 'class_weight': 'balanced', 'threshold': 0.6759999999999999}. Best is trial 25 with value: 0.9693911531611885.\n",
      "[I 2025-07-02 06:36:29,605] Trial 31 finished with value: 0.9621033394251537 and parameters: {'solver_penalty': ('lbfgs', None), 'C': 9.242085467192037, 'tol': 0.05462580807507177, 'fit_intercept': False, 'class_weight': 'balanced', 'threshold': 0.5509999999999999}. Best is trial 25 with value: 0.9693911531611885.\n",
      "[I 2025-07-02 06:36:31,165] Trial 32 finished with value: 0.9692291952676175 and parameters: {'solver_penalty': ('liblinear', 'l1'), 'C': 1.1532970194582026, 'tol': 0.059416272531451826, 'fit_intercept': True, 'class_weight': None, 'threshold': 0.611}. Best is trial 25 with value: 0.9693911531611885.\n",
      "[I 2025-07-02 06:36:31,961] Trial 33 finished with value: 0.9692832055216959 and parameters: {'solver_penalty': ('lbfgs', None), 'C': 3.933179029159356, 'tol': 0.04782831018388114, 'fit_intercept': True, 'class_weight': None, 'threshold': 0.44799999999999995}. Best is trial 25 with value: 0.9693911531611885.\n",
      "[I 2025-07-02 06:36:32,292] Trial 35 finished with value: 0.9692831763742301 and parameters: {'solver_penalty': ('liblinear', 'l1'), 'C': 2.560469809990785, 'tol': 0.01696377326832667, 'fit_intercept': True, 'class_weight': None, 'threshold': 0.636}. Best is trial 25 with value: 0.9693911531611885.\n",
      "[I 2025-07-02 06:36:33,547] Trial 34 finished with value: 0.9676636703071851 and parameters: {'solver_penalty': ('newton-cg', None), 'C': 8.271876885922143, 'tol': 0.028323968452673945, 'fit_intercept': False, 'class_weight': 'balanced', 'threshold': 0.622}. Best is trial 25 with value: 0.9693911531611885.\n",
      "[I 2025-07-02 06:36:34,818] Trial 36 finished with value: 0.9691212767755907 and parameters: {'solver_penalty': ('lbfgs', None), 'C': 5.126468926508441, 'tol': 0.06715743516441608, 'fit_intercept': True, 'class_weight': 'balanced', 'threshold': 0.5820000000000001}. Best is trial 25 with value: 0.9693911531611885.\n",
      "[I 2025-07-02 06:36:34,825] Trial 37 finished with value: 0.9689053669228729 and parameters: {'solver_penalty': ('liblinear', 'l1'), 'C': 6.183381432436837, 'tol': 0.04271011205330707, 'fit_intercept': True, 'class_weight': 'balanced', 'threshold': 0.31}. Best is trial 25 with value: 0.9693911531611885.\n",
      "[I 2025-07-02 06:36:35,138] Trial 38 finished with value: 0.9692291806938845 and parameters: {'solver_penalty': ('liblinear', 'l1'), 'C': 2.873263440585708, 'tol': 0.01865067456352, 'fit_intercept': True, 'class_weight': None, 'threshold': 0.569}. Best is trial 25 with value: 0.9693911531611885.\n",
      "[I 2025-07-02 06:36:36,871] Trial 39 finished with value: 0.9232311568920639 and parameters: {'solver_penalty': ('newton-cholesky', None), 'C': 8.02881233594401, 'tol': 0.00886055369112921, 'fit_intercept': False, 'class_weight': None, 'threshold': 0.694}. Best is trial 25 with value: 0.9693911531611885.\n",
      "[I 2025-07-02 06:36:37,823] Trial 41 finished with value: 0.6442436524106412 and parameters: {'solver_penalty': ('liblinear', 'l1'), 'C': 5.603941782670642, 'tol': 0.0066547327187715085, 'fit_intercept': False, 'class_weight': 'balanced', 'threshold': 0.482}. Best is trial 25 with value: 0.9693911531611885.\n",
      "[I 2025-07-02 06:36:37,824] Trial 42 finished with value: 0.9689593334557527 and parameters: {'solver_penalty': ('liblinear', 'l2'), 'C': 9.959712596983694, 'tol': 0.05555247920099777, 'fit_intercept': True, 'class_weight': 'balanced', 'threshold': 0.4}. Best is trial 25 with value: 0.9693911531611885.\n",
      "[I 2025-07-02 06:36:38,643] Trial 40 finished with value: 0.9693371574808429 and parameters: {'solver_penalty': ('newton-cg', None), 'C': 1.3472658641018398, 'tol': 0.02862096783774577, 'fit_intercept': True, 'class_weight': None, 'threshold': 0.514}. Best is trial 25 with value: 0.9693911531611885.\n",
      "[I 2025-07-02 06:36:40,349] Trial 43 finished with value: 0.9692291952676175 and parameters: {'solver_penalty': ('newton-cholesky', None), 'C': 3.309699035257412, 'tol': 0.07086067451252819, 'fit_intercept': True, 'class_weight': None, 'threshold': 0.593}. Best is trial 25 with value: 0.9693911531611885.\n",
      "[I 2025-07-02 06:36:40,362] Trial 45 finished with value: 0.9634529108116695 and parameters: {'solver_penalty': ('lbfgs', None), 'C': 2.1325357748267515, 'tol': 0.06908040658043565, 'fit_intercept': False, 'class_weight': None, 'threshold': 0.5569999999999999}. Best is trial 25 with value: 0.9693911531611885.\n",
      "[I 2025-07-02 06:36:40,690] Trial 44 finished with value: 0.9690133291360983 and parameters: {'solver_penalty': ('liblinear', 'l1'), 'C': 1.0777428746873319, 'tol': 0.04116684071422823, 'fit_intercept': False, 'class_weight': 'balanced', 'threshold': 0.6950000000000001}. Best is trial 25 with value: 0.9693911531611885.\n",
      "[I 2025-07-02 06:36:42,422] Trial 46 finished with value: 0.9686894133489563 and parameters: {'solver_penalty': ('newton-cholesky', None), 'C': 5.061713748463527, 'tol': 0.04961707470504271, 'fit_intercept': True, 'class_weight': 'balanced', 'threshold': 0.321}. Best is trial 25 with value: 0.9693911531611885.\n",
      "[I 2025-07-02 06:36:43,075] Trial 48 finished with value: 0.9691212476281251 and parameters: {'solver_penalty': ('newton-cholesky', None), 'C': 3.0699098340879027, 'tol': 0.054488387098240845, 'fit_intercept': True, 'class_weight': None, 'threshold': 0.45799999999999996}. Best is trial 25 with value: 0.9693911531611885.\n",
      "[I 2025-07-02 06:36:43,525] Trial 47 finished with value: 0.9690673102427109 and parameters: {'solver_penalty': ('newton-cg', None), 'C': 5.71845443786854, 'tol': 0.07125124658620015, 'fit_intercept': False, 'class_weight': 'balanced', 'threshold': 0.625}. Best is trial 25 with value: 0.9693911531611885.\n",
      "[I 2025-07-02 06:36:43,710] Trial 49 finished with value: 0.2604729030584436 and parameters: {'solver_penalty': ('newton-cg', 'l2'), 'C': 4.436013528425221, 'tol': 0.07719354026014935, 'fit_intercept': False, 'class_weight': 'balanced', 'threshold': 0.322}. Best is trial 25 with value: 0.9693911531611885.\n",
      "[I 2025-07-02 06:36:46,368] Trial 52 finished with value: 0.5530115890323914 and parameters: {'solver_penalty': ('newton-cholesky', 'l2'), 'C': 5.681634787108786, 'tol': 0.037781703115989766, 'fit_intercept': False, 'class_weight': None, 'threshold': 0.425}. Best is trial 25 with value: 0.9693911531611885.\n",
      "[I 2025-07-02 06:36:46,376] Trial 51 finished with value: 0.9690672810952453 and parameters: {'solver_penalty': ('lbfgs', None), 'C': 0.7900816744846328, 'tol': 0.09478607510298234, 'fit_intercept': True, 'class_weight': 'balanced', 'threshold': 0.594}. Best is trial 25 with value: 0.9693911531611885.\n",
      "[I 2025-07-02 06:36:46,574] Trial 50 finished with value: 0.2604729030584436 and parameters: {'solver_penalty': ('newton-cg', 'l2'), 'C': 8.078073535103599, 'tol': 0.014117949282309212, 'fit_intercept': False, 'class_weight': 'balanced', 'threshold': 0.362}. Best is trial 25 with value: 0.9693911531611885.\n",
      "[I 2025-07-02 06:36:46,753] Trial 53 finished with value: 0.9693911677349213 and parameters: {'solver_penalty': ('liblinear', 'l2'), 'C': 3.1247500959602723, 'tol': 0.014864952657017556, 'fit_intercept': True, 'class_weight': None, 'threshold': 0.369}. Best is trial 53 with value: 0.9693911677349213.\n",
      "[I 2025-07-02 06:36:49,430] Trial 54 finished with value: 0.9692832055216959 and parameters: {'solver_penalty': ('lbfgs', None), 'C': 5.543771417281738, 'tol': 0.03030226659226596, 'fit_intercept': True, 'class_weight': None, 'threshold': 0.44999999999999996}. Best is trial 53 with value: 0.9693911677349213.\n",
      "[I 2025-07-02 06:36:49,432] Trial 56 finished with value: 0.9693911677349213 and parameters: {'solver_penalty': ('liblinear', 'l2'), 'C': 3.093108710802005, 'tol': 0.017282312960765687, 'fit_intercept': True, 'class_weight': None, 'threshold': 0.392}. Best is trial 53 with value: 0.9693911677349213.\n",
      "[I 2025-07-02 06:36:49,647] Trial 57 finished with value: 0.9693371720545759 and parameters: {'solver_penalty': ('liblinear', 'l2'), 'C': 0.8198353506114402, 'tol': 0.03600193757505919, 'fit_intercept': True, 'class_weight': None, 'threshold': 0.404}. Best is trial 53 with value: 0.9693911677349213.\n",
      "[I 2025-07-02 06:36:50,758] Trial 55 finished with value: 0.9693371574808429 and parameters: {'solver_penalty': ('newton-cg', None), 'C': 0.2533861464235432, 'tol': 0.0364623685532946, 'fit_intercept': True, 'class_weight': None, 'threshold': 0.511}. Best is trial 53 with value: 0.9693911677349213.\n",
      "[I 2025-07-02 06:36:52,481] Trial 59 finished with value: 0.9692832055216959 and parameters: {'solver_penalty': ('liblinear', 'l2'), 'C': 2.7588871958391183, 'tol': 0.016614619047614815, 'fit_intercept': True, 'class_weight': None, 'threshold': 0.356}. Best is trial 53 with value: 0.9693911677349213.\n",
      "[I 2025-07-02 06:36:52,511] Trial 58 finished with value: 0.9693371720545759 and parameters: {'solver_penalty': ('liblinear', 'l2'), 'C': 1.8171803820295263, 'tol': 0.01994209027422133, 'fit_intercept': True, 'class_weight': None, 'threshold': 0.42}. Best is trial 53 with value: 0.9693911677349213.\n",
      "[I 2025-07-02 06:36:52,855] Trial 60 finished with value: 0.9692832055216959 and parameters: {'solver_penalty': ('liblinear', 'l2'), 'C': 2.5101219012896805, 'tol': 0.006849434043193834, 'fit_intercept': True, 'class_weight': None, 'threshold': 0.395}. Best is trial 53 with value: 0.9693911677349213.\n",
      "[I 2025-07-02 06:36:53,519] Trial 61 finished with value: 0.9693911677349213 and parameters: {'solver_penalty': ('liblinear', 'l2'), 'C': 2.901786702290043, 'tol': 0.017173575206292847, 'fit_intercept': True, 'class_weight': None, 'threshold': 0.394}. Best is trial 53 with value: 0.9693911677349213.\n",
      "[I 2025-07-02 06:36:55,029] Trial 63 finished with value: 0.2604729030584436 and parameters: {'solver_penalty': ('liblinear', 'l2'), 'C': 2.5209495799185526, 'tol': 0.016380823512018198, 'fit_intercept': False, 'class_weight': 'balanced', 'threshold': 0.34299999999999997}. Best is trial 53 with value: 0.9693911677349213.\n",
      "[I 2025-07-02 06:36:55,876] Trial 62 finished with value: 0.9692831618004973 and parameters: {'solver_penalty': ('newton-cholesky', 'l2'), 'C': 0.6980180725916925, 'tol': 0.06579104968880511, 'fit_intercept': True, 'class_weight': 'balanced', 'threshold': 0.6859999999999999}. Best is trial 53 with value: 0.9693911677349213.\n",
      "[I 2025-07-02 06:36:56,707] Trial 64 finished with value: 0.9692292098413503 and parameters: {'solver_penalty': ('newton-cholesky', 'l2'), 'C': 1.9225716942523485, 'tol': 0.030262488035182597, 'fit_intercept': True, 'class_weight': 'balanced', 'threshold': 0.648}. Best is trial 53 with value: 0.9693911677349213.\n",
      "[I 2025-07-02 06:36:57,200] Trial 65 finished with value: 0.9691752287347377 and parameters: {'solver_penalty': ('newton-cholesky', 'l2'), 'C': 3.175936303412782, 'tol': 0.05965622314694644, 'fit_intercept': True, 'class_weight': 'balanced', 'threshold': 0.604}. Best is trial 53 with value: 0.9693911677349213.\n",
      "[I 2025-07-02 06:36:58,799] Trial 67 finished with value: 0.9693911677349213 and parameters: {'solver_penalty': ('liblinear', 'l2'), 'C': 0.6342059281348028, 'tol': 0.0519944546369461, 'fit_intercept': True, 'class_weight': None, 'threshold': 0.39}. Best is trial 53 with value: 0.9693911677349213.\n",
      "[I 2025-07-02 06:36:59,610] Trial 68 finished with value: 0.9693911677349213 and parameters: {'solver_penalty': ('liblinear', 'l2'), 'C': 0.35609432395561713, 'tol': 0.061911126097525984, 'fit_intercept': True, 'class_weight': None, 'threshold': 0.411}. Best is trial 53 with value: 0.9693911677349213.\n",
      "[I 2025-07-02 06:36:59,617] Trial 66 finished with value: 0.9693911531611885 and parameters: {'solver_penalty': ('newton-cholesky', 'l2'), 'C': 0.469832888423972, 'tol': 0.03006532493388649, 'fit_intercept': True, 'class_weight': 'balanced', 'threshold': 0.6679999999999999}. Best is trial 53 with value: 0.9693911677349213.\n",
      "[I 2025-07-02 06:36:59,978] Trial 69 finished with value: 0.9692831763742303 and parameters: {'solver_penalty': ('liblinear', 'l2'), 'C': 0.7027653648343146, 'tol': 0.049557002550707635, 'fit_intercept': True, 'class_weight': None, 'threshold': 0.516}. Best is trial 53 with value: 0.9693911677349213.\n",
      "[I 2025-07-02 06:37:01,892] Trial 70 finished with value: 0.9692831763742301 and parameters: {'solver_penalty': ('liblinear', 'l2'), 'C': 1.0855028868203882, 'tol': 0.06988989294218809, 'fit_intercept': True, 'class_weight': None, 'threshold': 0.46499999999999997}. Best is trial 53 with value: 0.9693911677349213.\n",
      "[I 2025-07-02 06:37:02,718] Trial 71 finished with value: 0.9691212767755907 and parameters: {'solver_penalty': ('liblinear', 'l2'), 'C': 1.2944679345459116, 'tol': 0.0554454748464427, 'fit_intercept': True, 'class_weight': 'balanced', 'threshold': 0.45199999999999996}. Best is trial 53 with value: 0.9693911677349213.\n",
      "[I 2025-07-02 06:37:03,038] Trial 72 finished with value: 0.9692291661201518 and parameters: {'solver_penalty': ('lbfgs', 'l2'), 'C': 1.3937737425065049, 'tol': 0.07197414054576753, 'fit_intercept': True, 'class_weight': None, 'threshold': 0.44599999999999995}. Best is trial 53 with value: 0.9693911677349213.\n",
      "[I 2025-07-02 06:37:03,062] Trial 73 finished with value: 0.9692292244150833 and parameters: {'solver_penalty': ('liblinear', 'l2'), 'C': 0.049510182333572295, 'tol': 0.06322179178549003, 'fit_intercept': True, 'class_weight': None, 'threshold': 0.36}. Best is trial 53 with value: 0.9693911677349213.\n",
      "[I 2025-07-02 06:37:05,608] Trial 77 finished with value: 0.9693371866283087 and parameters: {'solver_penalty': ('liblinear', 'l1'), 'C': 3.1910168423046312, 'tol': 0.066725954653971, 'fit_intercept': True, 'class_weight': None, 'threshold': 0.33899999999999997}. Best is trial 53 with value: 0.9693911677349213.\n",
      "[I 2025-07-02 06:37:05,997] Trial 76 finished with value: 0.9692292244150833 and parameters: {'solver_penalty': ('lbfgs', 'l2'), 'C': 5.2756208878063955, 'tol': 0.009549925804232539, 'fit_intercept': True, 'class_weight': None, 'threshold': 0.353}. Best is trial 53 with value: 0.9693911677349213.\n",
      "[I 2025-07-02 06:37:06,687] Trial 74 finished with value: 0.9693371574808429 and parameters: {'solver_penalty': ('newton-cg', None), 'C': 0.6938666601344994, 'tol': 0.027646514597597125, 'fit_intercept': True, 'class_weight': 'balanced', 'threshold': 0.6970000000000001}. Best is trial 53 with value: 0.9693911677349213.\n",
      "[I 2025-07-02 06:37:07,161] Trial 75 finished with value: 0.9691212767755907 and parameters: {'solver_penalty': ('newton-cholesky', 'l2'), 'C': 3.126173074160113, 'tol': 0.00161677531839486, 'fit_intercept': True, 'class_weight': 'balanced', 'threshold': 0.356}. Best is trial 53 with value: 0.9693911677349213.\n",
      "[I 2025-07-02 06:37:07,680] Trial 78 finished with value: 0.9693371720545759 and parameters: {'solver_penalty': ('liblinear', 'l1'), 'C': 5.503534838965181, 'tol': 0.08477426621316819, 'fit_intercept': True, 'class_weight': None, 'threshold': 0.421}. Best is trial 53 with value: 0.9693911677349213.\n",
      "[I 2025-07-02 06:37:09,574] Trial 80 finished with value: 0.2604729030584436 and parameters: {'solver_penalty': ('liblinear', 'l1'), 'C': 2.863780619591985, 'tol': 0.04819083360235579, 'fit_intercept': False, 'class_weight': None, 'threshold': 0.317}. Best is trial 53 with value: 0.9693911677349213.\n",
      "[I 2025-07-02 06:37:09,922] Trial 81 finished with value: 0.9693911677349213 and parameters: {'solver_penalty': ('liblinear', 'l1'), 'C': 4.930290625613933, 'tol': 0.07384971509453771, 'fit_intercept': True, 'class_weight': None, 'threshold': 0.418}. Best is trial 53 with value: 0.9693911677349213.\n",
      "[I 2025-07-02 06:37:10,583] Trial 82 finished with value: 0.9692832055216959 and parameters: {'solver_penalty': ('liblinear', 'l1'), 'C': 3.4609608520031894, 'tol': 0.07371676642943624, 'fit_intercept': True, 'class_weight': None, 'threshold': 0.316}. Best is trial 53 with value: 0.9693911677349213.\n",
      "[I 2025-07-02 06:37:11,086] Trial 79 finished with value: 0.9691212767755907 and parameters: {'solver_penalty': ('newton-cholesky', None), 'C': 0.179404568437125, 'tol': 0.0013901335753914827, 'fit_intercept': True, 'class_weight': 'balanced', 'threshold': 0.597}. Best is trial 53 with value: 0.9693911677349213.\n",
      "[I 2025-07-02 06:37:12,520] Trial 84 finished with value: 0.9692832055216959 and parameters: {'solver_penalty': ('liblinear', 'l1'), 'C': 5.54645421579794, 'tol': 0.060740688437425916, 'fit_intercept': True, 'class_weight': None, 'threshold': 0.33599999999999997}. Best is trial 53 with value: 0.9693911677349213.\n",
      "[I 2025-07-02 06:37:13,334] Trial 83 finished with value: 0.9690672810952453 and parameters: {'solver_penalty': ('newton-cg', 'l2'), 'C': 4.214806984914858, 'tol': 0.02470111921346238, 'fit_intercept': True, 'class_weight': None, 'threshold': 0.32999999999999996}. Best is trial 53 with value: 0.9693911677349213.\n",
      "[I 2025-07-02 06:37:13,812] Trial 85 finished with value: 0.9692292244150833 and parameters: {'solver_penalty': ('newton-cg', 'l2'), 'C': 3.9252602825625367, 'tol': 0.07137638811449759, 'fit_intercept': True, 'class_weight': None, 'threshold': 0.426}. Best is trial 53 with value: 0.9693911677349213.\n",
      "[I 2025-07-02 06:37:14,164] Trial 86 finished with value: 0.43656929955725 and parameters: {'solver_penalty': ('liblinear', 'l2'), 'C': 3.2242773391698134, 'tol': 0.003178375649628133, 'fit_intercept': False, 'class_weight': None, 'threshold': 0.421}. Best is trial 53 with value: 0.9693911677349213.\n",
      "[I 2025-07-02 06:37:16,040] Trial 88 finished with value: 0.37648437841571863 and parameters: {'solver_penalty': ('liblinear', 'l2'), 'C': 4.47502808691147, 'tol': 0.0025300682445275977, 'fit_intercept': False, 'class_weight': None, 'threshold': 0.37}. Best is trial 53 with value: 0.9693911677349213.\n",
      "[I 2025-07-02 06:37:16,927] Trial 87 finished with value: 0.9676094414471134 and parameters: {'solver_penalty': ('newton-cholesky', 'l2'), 'C': 0.8448203001887136, 'tol': 0.010816825801504473, 'fit_intercept': False, 'class_weight': 'balanced', 'threshold': 0.635}. Best is trial 53 with value: 0.9693911677349213.\n",
      "[I 2025-07-02 06:37:17,293] Trial 89 finished with value: 0.9690672810952453 and parameters: {'solver_penalty': ('lbfgs', None), 'C': 2.7328858770960847, 'tol': 0.01367540305379124, 'fit_intercept': True, 'class_weight': None, 'threshold': 0.305}. Best is trial 53 with value: 0.9693911677349213.\n",
      "[I 2025-07-02 06:37:17,466] Trial 90 finished with value: 0.9690672810952453 and parameters: {'solver_penalty': ('liblinear', 'l2'), 'C': 4.774069588854756, 'tol': 0.019528842123862692, 'fit_intercept': True, 'class_weight': 'balanced', 'threshold': 0.485}. Best is trial 53 with value: 0.9693911677349213.\n",
      "[I 2025-07-02 06:37:19,910] Trial 92 finished with value: 0.965126019068272 and parameters: {'solver_penalty': ('newton-cholesky', 'l2'), 'C': 2.025084989834836, 'tol': 0.0483730732967263, 'fit_intercept': False, 'class_weight': None, 'threshold': 0.685}. Best is trial 53 with value: 0.9693911677349213.\n",
      "[I 2025-07-02 06:37:19,912] Trial 94 finished with value: 0.9693371574808429 and parameters: {'solver_penalty': ('liblinear', 'l2'), 'C': 1.7075829202550092, 'tol': 0.051142850488550794, 'fit_intercept': True, 'class_weight': 'balanced', 'threshold': 0.6950000000000001}. Best is trial 53 with value: 0.9693911677349213.\n",
      "[I 2025-07-02 06:37:21,098] Trial 91 finished with value: 0.9693371720545759 and parameters: {'solver_penalty': ('newton-cg', None), 'C': 4.7056318261077275, 'tol': 0.0008705362880379805, 'fit_intercept': True, 'class_weight': None, 'threshold': 0.403}. Best is trial 53 with value: 0.9693911677349213.\n",
      "[I 2025-07-02 06:37:21,284] Trial 93 finished with value: 0.9693371866283087 and parameters: {'solver_penalty': ('newton-cg', 'l2'), 'C': 1.7204510830694228, 'tol': 0.0402183720981701, 'fit_intercept': True, 'class_weight': 'balanced', 'threshold': 0.644}. Best is trial 53 with value: 0.9693911677349213.\n",
      "[I 2025-07-02 06:37:22,447] Trial 95 finished with value: 0.9692831763742303 and parameters: {'solver_penalty': ('liblinear', 'l1'), 'C': 1.0440517222411305, 'tol': 0.0501936370043551, 'fit_intercept': True, 'class_weight': None, 'threshold': 0.39}. Best is trial 53 with value: 0.9693911677349213.\n",
      "[I 2025-07-02 06:37:22,776] Trial 96 finished with value: 0.9693911677349213 and parameters: {'solver_penalty': ('newton-cholesky', 'l2'), 'C': 0.48641383811603967, 'tol': 0.06314379538678391, 'fit_intercept': True, 'class_weight': None, 'threshold': 0.45199999999999996}. Best is trial 53 with value: 0.9693911677349213.\n",
      "[I 2025-07-02 06:37:24,593] Trial 97 finished with value: 0.9684194786684273 and parameters: {'solver_penalty': ('lbfgs', None), 'C': 2.3400813057883383, 'tol': 0.08428773166763007, 'fit_intercept': True, 'class_weight': 'balanced', 'threshold': 0.319}. Best is trial 53 with value: 0.9693911677349213.\n",
      "[I 2025-07-02 06:37:25,424] Trial 100 finished with value: 0.9689053523491399 and parameters: {'solver_penalty': ('liblinear', 'l1'), 'C': 3.069341192505691, 'tol': 0.09023625818629977, 'fit_intercept': True, 'class_weight': 'balanced', 'threshold': 0.363}. Best is trial 53 with value: 0.9693911677349213.\n",
      "[I 2025-07-02 06:37:25,596] Trial 99 finished with value: 0.9692291952676175 and parameters: {'solver_penalty': ('liblinear', 'l1'), 'C': 4.860798340663065, 'tol': 0.055030330620370375, 'fit_intercept': True, 'class_weight': None, 'threshold': 0.523}. Best is trial 53 with value: 0.9693911677349213.\n",
      "[I 2025-07-02 06:37:25,972] Trial 98 finished with value: 0.9693911677349213 and parameters: {'solver_penalty': ('newton-cg', 'l2'), 'C': 0.8639672319865309, 'tol': 0.03879980165136899, 'fit_intercept': True, 'class_weight': 'balanced', 'threshold': 0.6579999999999999}. Best is trial 53 with value: 0.9693911677349213.\n",
      "[I 2025-07-02 06:37:27,634] Trial 101 finished with value: 0.9692292244150833 and parameters: {'solver_penalty': ('newton-cholesky', 'l2'), 'C': 1.3212883266581614, 'tol': 0.07090756829141469, 'fit_intercept': True, 'class_weight': None, 'threshold': 0.433}. Best is trial 53 with value: 0.9693911677349213.\n",
      "[I 2025-07-02 06:37:28,646] Trial 102 finished with value: 0.9693911677349213 and parameters: {'solver_penalty': ('newton-cholesky', 'l2'), 'C': 0.1252792116971551, 'tol': 0.07203098188582051, 'fit_intercept': True, 'class_weight': None, 'threshold': 0.44799999999999995}. Best is trial 53 with value: 0.9693911677349213.\n",
      "[I 2025-07-02 06:37:29,141] Trial 103 finished with value: 0.9692831763742301 and parameters: {'solver_penalty': ('newton-cholesky', 'l2'), 'C': 1.8114560328304008, 'tol': 0.04451358163362015, 'fit_intercept': True, 'class_weight': None, 'threshold': 0.514}. Best is trial 53 with value: 0.9693911677349213.\n",
      "[I 2025-07-02 06:37:29,481] Trial 104 finished with value: 0.9691752433084705 and parameters: {'solver_penalty': ('newton-cholesky', 'l2'), 'C': 1.4428493081869966, 'tol': 0.06128678829985223, 'fit_intercept': True, 'class_weight': None, 'threshold': 0.413}. Best is trial 53 with value: 0.9693911677349213.\n",
      "[I 2025-07-02 06:37:30,460] Trial 105 finished with value: 0.9693371574808429 and parameters: {'solver_penalty': ('liblinear', 'l2'), 'C': 5.851655228746617, 'tol': 0.015388233880246767, 'fit_intercept': True, 'class_weight': None, 'threshold': 0.46499999999999997}. Best is trial 53 with value: 0.9693911677349213.\n",
      "[I 2025-07-02 06:37:31,434] Trial 106 finished with value: 0.9693371720545759 and parameters: {'solver_penalty': ('liblinear', 'l2'), 'C': 5.613481603754679, 'tol': 0.026623819588486176, 'fit_intercept': True, 'class_weight': None, 'threshold': 0.422}. Best is trial 53 with value: 0.9693911677349213.\n",
      "[I 2025-07-02 06:37:32,402] Trial 107 finished with value: 0.9692831763742303 and parameters: {'solver_penalty': ('liblinear', 'l2'), 'C': 6.0583249751604304, 'tol': 0.01740464793782099, 'fit_intercept': True, 'class_weight': None, 'threshold': 0.487}. Best is trial 53 with value: 0.9693911677349213.\n",
      "[I 2025-07-02 06:37:33,066] Trial 108 finished with value: 0.3478730802750355 and parameters: {'solver_penalty': ('newton-cholesky', 'l2'), 'C': 0.9021698263139961, 'tol': 0.05709606820826832, 'fit_intercept': False, 'class_weight': None, 'threshold': 0.44999999999999996}. Best is trial 53 with value: 0.9693911677349213.\n",
      "[I 2025-07-02 06:37:34,178] Trial 109 finished with value: 0.9690672810952453 and parameters: {'solver_penalty': ('newton-cg', None), 'C': 0.09978850088763597, 'tol': 0.06494836561782227, 'fit_intercept': True, 'class_weight': None, 'threshold': 0.40499999999999997}. Best is trial 53 with value: 0.9693911677349213.\n",
      "[I 2025-07-02 06:37:34,676] Trial 110 finished with value: 0.9692831763742303 and parameters: {'solver_penalty': ('liblinear', 'l1'), 'C': 4.062363495887897, 'tol': 0.012682537687153887, 'fit_intercept': True, 'class_weight': None, 'threshold': 0.408}. Best is trial 53 with value: 0.9693911677349213.\n",
      "[I 2025-07-02 06:37:35,677] Trial 111 finished with value: 0.26063486095201455 and parameters: {'solver_penalty': ('newton-cholesky', 'l2'), 'C': 0.16489978720193124, 'tol': 0.08875579969796896, 'fit_intercept': False, 'class_weight': None, 'threshold': 0.44499999999999995}. Best is trial 53 with value: 0.9693911677349213.\n",
      "[I 2025-07-02 06:37:36,159] Trial 112 finished with value: 0.9692292244150833 and parameters: {'solver_penalty': ('liblinear', 'l1'), 'C': 2.365259879264915, 'tol': 0.03183413610999925, 'fit_intercept': True, 'class_weight': 'balanced', 'threshold': 0.5700000000000001}. Best is trial 53 with value: 0.9693911677349213.\n",
      "[I 2025-07-02 06:37:37,306] Trial 114 finished with value: 0.9692291661201518 and parameters: {'solver_penalty': ('lbfgs', None), 'C': 0.5649107837211063, 'tol': 0.0947998096796871, 'fit_intercept': True, 'class_weight': None, 'threshold': 0.44599999999999995}. Best is trial 53 with value: 0.9693911677349213.\n",
      "[I 2025-07-02 06:37:38,284] Trial 113 finished with value: 0.9691752433084705 and parameters: {'solver_penalty': ('newton-cholesky', 'l2'), 'C': 0.43407882603716874, 'tol': 0.08315483964125525, 'fit_intercept': True, 'class_weight': 'balanced', 'threshold': 0.485}. Best is trial 53 with value: 0.9693911677349213.\n",
      "[I 2025-07-02 06:37:38,488] Trial 115 finished with value: 0.2604729030584436 and parameters: {'solver_penalty': ('liblinear', 'l1'), 'C': 7.3078803448362315, 'tol': 0.07516025904512201, 'fit_intercept': False, 'class_weight': None, 'threshold': 0.44999999999999996}. Best is trial 53 with value: 0.9693911677349213.\n",
      "[I 2025-07-02 06:37:39,301] Trial 116 finished with value: 0.9690132854148995 and parameters: {'solver_penalty': ('newton-cholesky', None), 'C': 0.09086712757701898, 'tol': 0.07886485046300266, 'fit_intercept': True, 'class_weight': None, 'threshold': 0.433}. Best is trial 53 with value: 0.9693911677349213.\n",
      "[I 2025-07-02 06:37:41,256] Trial 118 finished with value: 0.9690672810952453 and parameters: {'solver_penalty': ('newton-cg', None), 'C': 6.695720167936255, 'tol': 0.07539972494998548, 'fit_intercept': True, 'class_weight': None, 'threshold': 0.391}. Best is trial 53 with value: 0.9693911677349213.\n",
      "[I 2025-07-02 06:37:41,257] Trial 119 finished with value: 0.9692292244150833 and parameters: {'solver_penalty': ('lbfgs', 'l2'), 'C': 1.7635243017717561, 'tol': 0.03200617995938683, 'fit_intercept': True, 'class_weight': None, 'threshold': 0.43}. Best is trial 53 with value: 0.9693911677349213.\n",
      "[I 2025-07-02 06:37:41,457] Trial 117 finished with value: 0.9693911385874555 and parameters: {'solver_penalty': ('newton-cholesky', 'l2'), 'C': 0.2795444084271258, 'tol': 0.030762962537894727, 'fit_intercept': True, 'class_weight': 'balanced', 'threshold': 0.681}. Best is trial 53 with value: 0.9693911677349213.\n",
      "[I 2025-07-02 06:37:44,328] Trial 121 finished with value: 0.9692291952676175 and parameters: {'solver_penalty': ('newton-cholesky', 'l2'), 'C': 0.6565258261964333, 'tol': 0.07751599395983813, 'fit_intercept': True, 'class_weight': None, 'threshold': 0.5740000000000001}. Best is trial 53 with value: 0.9693911677349213.\n",
      "[I 2025-07-02 06:37:44,338] Trial 122 finished with value: 0.9692832055216959 and parameters: {'solver_penalty': ('newton-cholesky', 'l2'), 'C': 0.06699020250648324, 'tol': 0.09305138083922158, 'fit_intercept': True, 'class_weight': None, 'threshold': 0.408}. Best is trial 53 with value: 0.9693911677349213.\n",
      "[I 2025-07-02 06:37:44,341] Trial 123 finished with value: 0.9689593334557527 and parameters: {'solver_penalty': ('liblinear', 'l2'), 'C': 2.597942191810877, 'tol': 0.00638072050058483, 'fit_intercept': True, 'class_weight': 'balanced', 'threshold': 0.315}. Best is trial 53 with value: 0.9693911677349213.\n",
      "[I 2025-07-02 06:37:44,953] Trial 120 finished with value: 0.9693371720545759 and parameters: {'solver_penalty': ('newton-cg', 'l2'), 'C': 0.6991635284743904, 'tol': 0.003929456067904149, 'fit_intercept': True, 'class_weight': 'balanced', 'threshold': 0.6659999999999999}. Best is trial 53 with value: 0.9693911677349213.\n",
      "[I 2025-07-02 06:37:46,985] Trial 124 finished with value: 0.9692832055216959 and parameters: {'solver_penalty': ('lbfgs', None), 'C': 1.5441573281134868, 'tol': 0.024875654729968867, 'fit_intercept': True, 'class_weight': 'balanced', 'threshold': 0.645}. Best is trial 53 with value: 0.9693911677349213.\n",
      "[I 2025-07-02 06:37:47,334] Trial 125 finished with value: 0.9690672810952453 and parameters: {'solver_penalty': ('newton-cholesky', None), 'C': 1.7651099346065722, 'tol': 0.002325111762678118, 'fit_intercept': True, 'class_weight': None, 'threshold': 0.361}. Best is trial 53 with value: 0.9693911677349213.\n",
      "[I 2025-07-02 06:37:47,682] Trial 126 finished with value: 0.9693371574808429 and parameters: {'solver_penalty': ('newton-cholesky', 'l2'), 'C': 0.09268136182735742, 'tol': 0.03841074796422269, 'fit_intercept': True, 'class_weight': 'balanced', 'threshold': 0.663}. Best is trial 53 with value: 0.9693911677349213.\n",
      "[I 2025-07-02 06:37:49,026] Trial 127 finished with value: 0.9693371720545759 and parameters: {'solver_penalty': ('newton-cholesky', 'l2'), 'C': 1.0766651311477253, 'tol': 0.00488676248547365, 'fit_intercept': True, 'class_weight': 'balanced', 'threshold': 0.677}. Best is trial 53 with value: 0.9693911677349213.\n",
      "[I 2025-07-02 06:37:50,676] Trial 130 finished with value: 0.9691752433084705 and parameters: {'solver_penalty': ('newton-cholesky', 'l2'), 'C': 1.9939495967487064, 'tol': 0.023386851793115337, 'fit_intercept': True, 'class_weight': None, 'threshold': 0.379}. Best is trial 53 with value: 0.9693911677349213.\n",
      "[I 2025-07-02 06:37:50,993] Trial 128 finished with value: 0.9693911531611885 and parameters: {'solver_penalty': ('newton-cholesky', 'l2'), 'C': 1.1888996094778634, 'tol': 0.035541456225359695, 'fit_intercept': True, 'class_weight': 'balanced', 'threshold': 0.6639999999999999}. Best is trial 53 with value: 0.9693911677349213.\n",
      "[I 2025-07-02 06:37:51,190] Trial 129 finished with value: 0.9690672810952453 and parameters: {'solver_penalty': ('newton-cg', None), 'C': 0.023593239614629502, 'tol': 0.05501322935904085, 'fit_intercept': True, 'class_weight': 'balanced', 'threshold': 0.5609999999999999}. Best is trial 53 with value: 0.9693911677349213.\n",
      "[I 2025-07-02 06:37:51,377] Trial 131 finished with value: 0.9692832055216959 and parameters: {'solver_penalty': ('liblinear', 'l2'), 'C': 2.706542541007771, 'tol': 0.06510786915300365, 'fit_intercept': True, 'class_weight': None, 'threshold': 0.372}. Best is trial 53 with value: 0.9693911677349213.\n",
      "[I 2025-07-02 06:37:53,954] Trial 134 finished with value: 0.9691752433084705 and parameters: {'solver_penalty': ('liblinear', 'l2'), 'C': 3.437511879380126, 'tol': 0.04249083695634058, 'fit_intercept': True, 'class_weight': None, 'threshold': 0.325}. Best is trial 53 with value: 0.9693911677349213.\n",
      "[I 2025-07-02 06:37:54,315] Trial 133 finished with value: 0.9692291952676175 and parameters: {'solver_penalty': ('newton-cholesky', 'l2'), 'C': 3.0315537909120565, 'tol': 0.046112965587827355, 'fit_intercept': True, 'class_weight': 'balanced', 'threshold': 0.685}. Best is trial 53 with value: 0.9693911677349213.\n",
      "[I 2025-07-02 06:37:54,347] Trial 132 finished with value: 0.9692831618004973 and parameters: {'solver_penalty': ('newton-cholesky', 'l2'), 'C': 1.7606712505241024, 'tol': 0.022801492729569425, 'fit_intercept': True, 'class_weight': None, 'threshold': 0.625}. Best is trial 53 with value: 0.9693911677349213.\n",
      "[I 2025-07-02 06:37:55,479] Trial 135 finished with value: 0.9689593480294855 and parameters: {'solver_penalty': ('newton-cg', 'l2'), 'C': 3.576145789285817, 'tol': 0.046109132283738134, 'fit_intercept': False, 'class_weight': 'balanced', 'threshold': 0.696}. Best is trial 53 with value: 0.9693911677349213.\n",
      "[I 2025-07-02 06:37:56,286] Trial 136 finished with value: 0.2604729030584436 and parameters: {'solver_penalty': ('liblinear', 'l2'), 'C': 0.9046083563194363, 'tol': 0.0409812555496349, 'fit_intercept': False, 'class_weight': None, 'threshold': 0.369}. Best is trial 53 with value: 0.9693911677349213.\n",
      "[I 2025-07-02 06:37:57,118] Trial 138 finished with value: 0.2604729030584436 and parameters: {'solver_penalty': ('liblinear', 'l2'), 'C': 0.45000994944389255, 'tol': 0.057992948299246644, 'fit_intercept': False, 'class_weight': None, 'threshold': 0.39}. Best is trial 53 with value: 0.9693911677349213.\n",
      "[I 2025-07-02 06:37:57,634] Trial 137 finished with value: 0.9693911677349213 and parameters: {'solver_penalty': ('lbfgs', 'l2'), 'C': 1.0808218238321756, 'tol': 0.05064933253893289, 'fit_intercept': True, 'class_weight': 'balanced', 'threshold': 0.7}. Best is trial 53 with value: 0.9693911677349213.\n",
      "[I 2025-07-02 06:37:59,497] Trial 139 finished with value: 0.9690672810952451 and parameters: {'solver_penalty': ('newton-cholesky', None), 'C': 0.5427752620755859, 'tol': 0.05376672152096675, 'fit_intercept': True, 'class_weight': 'balanced', 'threshold': 0.613}. Best is trial 53 with value: 0.9693911677349213.\n",
      "[I 2025-07-02 06:38:00,034] Trial 140 finished with value: 0.9692292244150833 and parameters: {'solver_penalty': ('newton-cholesky', 'l2'), 'C': 0.5542761580464637, 'tol': 0.038354156854983, 'fit_intercept': True, 'class_weight': 'balanced', 'threshold': 0.579}. Best is trial 53 with value: 0.9693911677349213.\n",
      "[I 2025-07-02 06:38:00,368] Trial 141 finished with value: 0.9686893113328262 and parameters: {'solver_penalty': ('newton-cholesky', 'l2'), 'C': 1.239753386916634, 'tol': 0.039470259704852566, 'fit_intercept': False, 'class_weight': 'balanced', 'threshold': 0.675}. Best is trial 53 with value: 0.9693911677349213.\n",
      "[I 2025-07-02 06:38:00,745] Trial 142 finished with value: 0.9693371866283087 and parameters: {'solver_penalty': ('lbfgs', 'l2'), 'C': 3.342127055865111, 'tol': 0.04871346513356658, 'fit_intercept': True, 'class_weight': 'balanced', 'threshold': 0.6890000000000001}. Best is trial 53 with value: 0.9693911677349213.\n",
      "[I 2025-07-02 06:38:03,281] Trial 143 finished with value: 0.9693911677349213 and parameters: {'solver_penalty': ('lbfgs', 'l2'), 'C': 0.5608586358506262, 'tol': 0.04087506894448354, 'fit_intercept': True, 'class_weight': 'balanced', 'threshold': 0.685}. Best is trial 53 with value: 0.9693911677349213.\n",
      "[I 2025-07-02 06:38:03,795] Trial 144 finished with value: 0.9692832055216959 and parameters: {'solver_penalty': ('lbfgs', 'l2'), 'C': 4.567367823885952, 'tol': 0.0512166808221151, 'fit_intercept': True, 'class_weight': 'balanced', 'threshold': 0.687}. Best is trial 53 with value: 0.9693911677349213.\n",
      "[I 2025-07-02 06:38:03,798] Trial 145 finished with value: 0.9690672956689781 and parameters: {'solver_penalty': ('lbfgs', 'l2'), 'C': 1.6956412813095039, 'tol': 0.04983906431272508, 'fit_intercept': True, 'class_weight': 'balanced', 'threshold': 0.573}. Best is trial 53 with value: 0.9693911677349213.\n",
      "[I 2025-07-02 06:38:04,005] Trial 146 finished with value: 0.9691212622018579 and parameters: {'solver_penalty': ('lbfgs', 'l2'), 'C': 1.262430901428981, 'tol': 0.06586492010336023, 'fit_intercept': True, 'class_weight': 'balanced', 'threshold': 0.618}. Best is trial 53 with value: 0.9693911677349213.\n",
      "[I 2025-07-02 06:38:06,415] Trial 147 finished with value: 0.9693371574808429 and parameters: {'solver_penalty': ('liblinear', 'l1'), 'C': 2.157967805745045, 'tol': 0.03311171874433687, 'fit_intercept': True, 'class_weight': 'balanced', 'threshold': 0.692}. Best is trial 53 with value: 0.9693911677349213.\n",
      "[I 2025-07-02 06:38:06,911] Trial 148 finished with value: 0.9693371720545759 and parameters: {'solver_penalty': ('liblinear', 'l2'), 'C': 0.06143853654124913, 'tol': 0.05903589835138529, 'fit_intercept': True, 'class_weight': None, 'threshold': 0.435}. Best is trial 53 with value: 0.9693911677349213.\n",
      "[I 2025-07-02 06:38:07,442] Trial 150 finished with value: 0.9693371720545759 and parameters: {'solver_penalty': ('liblinear', 'l1'), 'C': 2.215663257935134, 'tol': 0.05011854372534971, 'fit_intercept': True, 'class_weight': 'balanced', 'threshold': 0.6639999999999999}. Best is trial 53 with value: 0.9693911677349213.\n",
      "[I 2025-07-02 06:38:07,470] Trial 149 finished with value: 0.9692292244150833 and parameters: {'solver_penalty': ('lbfgs', 'l2'), 'C': 0.37583726317614563, 'tol': 0.07469564560786324, 'fit_intercept': True, 'class_weight': 'balanced', 'threshold': 0.659}. Best is trial 53 with value: 0.9693911677349213.\n",
      "[I 2025-07-02 06:38:09,035] Trial 151 finished with value: 0.9693371720545759 and parameters: {'solver_penalty': ('liblinear', 'l2'), 'C': 0.15680818282745662, 'tol': 0.02143000992085757, 'fit_intercept': True, 'class_weight': 'balanced', 'threshold': 0.665}. Best is trial 53 with value: 0.9693911677349213.\n",
      "[I 2025-07-02 06:38:10,381] Trial 153 finished with value: 0.9692291661201518 and parameters: {'solver_penalty': ('lbfgs', 'l2'), 'C': 0.08512006935029293, 'tol': 0.035459366128383275, 'fit_intercept': True, 'class_weight': None, 'threshold': 0.6950000000000001}. Best is trial 53 with value: 0.9693911677349213.\n",
      "[I 2025-07-02 06:38:10,871] Trial 152 finished with value: 0.9692292244150833 and parameters: {'solver_penalty': ('lbfgs', 'l2'), 'C': 1.2848981715989327, 'tol': 0.03846045748963611, 'fit_intercept': True, 'class_weight': 'balanced', 'threshold': 0.639}. Best is trial 53 with value: 0.9693911677349213.\n",
      "[I 2025-07-02 06:38:11,279] Trial 154 finished with value: 0.9693911677349213 and parameters: {'solver_penalty': ('lbfgs', 'l2'), 'C': 1.4278509380465272, 'tol': 0.032274085869923134, 'fit_intercept': True, 'class_weight': 'balanced', 'threshold': 0.685}. Best is trial 53 with value: 0.9693911677349213.\n",
      "[I 2025-07-02 06:38:11,799] Trial 155 finished with value: 0.9690672810952453 and parameters: {'solver_penalty': ('liblinear', 'l2'), 'C': 6.140195910143072, 'tol': 0.0018939459297162477, 'fit_intercept': True, 'class_weight': None, 'threshold': 0.314}. Best is trial 53 with value: 0.9693911677349213.\n",
      "[I 2025-07-02 06:38:14,217] Trial 156 finished with value: 0.9693371866283087 and parameters: {'solver_penalty': ('newton-cg', 'l2'), 'C': 0.41636432971402715, 'tol': 0.07040302792079856, 'fit_intercept': True, 'class_weight': 'balanced', 'threshold': 0.643}. Best is trial 53 with value: 0.9693911677349213.\n",
      "[I 2025-07-02 06:38:14,228] Trial 159 finished with value: 0.9693371720545759 and parameters: {'solver_penalty': ('liblinear', 'l2'), 'C': 3.4072408662806306, 'tol': 0.03182423478287209, 'fit_intercept': True, 'class_weight': None, 'threshold': 0.404}. Best is trial 53 with value: 0.9693911677349213.\n",
      "[I 2025-07-02 06:38:14,779] Trial 157 finished with value: 0.9693371574808429 and parameters: {'solver_penalty': ('newton-cg', 'l2'), 'C': 0.12228026543386394, 'tol': 0.03794784158043436, 'fit_intercept': True, 'class_weight': 'balanced', 'threshold': 0.7}. Best is trial 53 with value: 0.9693911677349213.\n",
      "[I 2025-07-02 06:38:15,347] Trial 158 finished with value: 0.9693911677349213 and parameters: {'solver_penalty': ('newton-cg', 'l2'), 'C': 0.09059787957271204, 'tol': 0.033570703120943665, 'fit_intercept': True, 'class_weight': 'balanced', 'threshold': 0.629}. Best is trial 53 with value: 0.9693911677349213.\n",
      "[I 2025-07-02 06:38:17,561] Trial 161 finished with value: 0.9693911677349213 and parameters: {'solver_penalty': ('lbfgs', 'l2'), 'C': 0.7605839964157166, 'tol': 0.018994633491095037, 'fit_intercept': True, 'class_weight': 'balanced', 'threshold': 0.6759999999999999}. Best is trial 53 with value: 0.9693911677349213.\n",
      "[I 2025-07-02 06:38:17,763] Trial 160 finished with value: 0.9693911677349213 and parameters: {'solver_penalty': ('lbfgs', 'l2'), 'C': 1.2088237460900628, 'tol': 0.040186930155965264, 'fit_intercept': True, 'class_weight': 'balanced', 'threshold': 0.681}. Best is trial 53 with value: 0.9693911677349213.\n",
      "[I 2025-07-02 06:38:18,526] Trial 162 finished with value: 0.9693911677349213 and parameters: {'solver_penalty': ('lbfgs', 'l2'), 'C': 1.5993512858946815, 'tol': 0.019408955229497957, 'fit_intercept': True, 'class_weight': 'balanced', 'threshold': 0.679}. Best is trial 53 with value: 0.9693911677349213.\n",
      "[I 2025-07-02 06:38:19,240] Trial 163 finished with value: 0.9693911677349213 and parameters: {'solver_penalty': ('lbfgs', 'l2'), 'C': 2.7006924742519693, 'tol': 0.027416818574798895, 'fit_intercept': True, 'class_weight': 'balanced', 'threshold': 0.6779999999999999}. Best is trial 53 with value: 0.9693911677349213.\n",
      "[I 2025-07-02 06:38:21,151] Trial 164 finished with value: 0.9693911677349213 and parameters: {'solver_penalty': ('newton-cg', 'l2'), 'C': 1.2104218932040367, 'tol': 0.0548716291371365, 'fit_intercept': True, 'class_weight': None, 'threshold': 0.44599999999999995}. Best is trial 53 with value: 0.9693911677349213.\n",
      "[I 2025-07-02 06:38:21,503] Trial 165 finished with value: 0.9693911677349213 and parameters: {'solver_penalty': ('lbfgs', 'l2'), 'C': 0.1001479998684689, 'tol': 0.018252356417856663, 'fit_intercept': True, 'class_weight': 'balanced', 'threshold': 0.667}. Best is trial 53 with value: 0.9693911677349213.\n",
      "[I 2025-07-02 06:38:21,709] Trial 166 finished with value: 0.9687434090293019 and parameters: {'solver_penalty': ('lbfgs', 'l2'), 'C': 0.8604986640886669, 'tol': 0.03651601175780759, 'fit_intercept': False, 'class_weight': 'balanced', 'threshold': 0.641}. Best is trial 53 with value: 0.9693911677349213.\n",
      "[I 2025-07-02 06:38:23,091] Trial 167 finished with value: 0.9693911677349213 and parameters: {'solver_penalty': ('lbfgs', 'l2'), 'C': 1.8297194558051169, 'tol': 0.004770881599103934, 'fit_intercept': True, 'class_weight': 'balanced', 'threshold': 0.6559999999999999}. Best is trial 53 with value: 0.9693911677349213.\n",
      "[I 2025-07-02 06:38:25,313] Trial 170 finished with value: 0.9693911677349213 and parameters: {'solver_penalty': ('lbfgs', 'l2'), 'C': 2.457634603429198, 'tol': 0.03345563866066386, 'fit_intercept': True, 'class_weight': 'balanced', 'threshold': 0.679}. Best is trial 53 with value: 0.9693911677349213.\n",
      "[I 2025-07-02 06:38:25,319] Trial 169 finished with value: 0.9693371720545759 and parameters: {'solver_penalty': ('lbfgs', 'l2'), 'C': 2.4786183615650277, 'tol': 0.0075780371825130075, 'fit_intercept': True, 'class_weight': 'balanced', 'threshold': 0.688}. Best is trial 53 with value: 0.9693911677349213.\n",
      "[I 2025-07-02 06:38:25,758] Trial 168 finished with value: 0.9693371720545759 and parameters: {'solver_penalty': ('lbfgs', 'l2'), 'C': 0.5629740550144909, 'tol': 0.0002380938792136411, 'fit_intercept': True, 'class_weight': 'balanced', 'threshold': 0.667}. Best is trial 53 with value: 0.9693911677349213.\n",
      "[I 2025-07-02 06:38:26,847] Trial 171 finished with value: 0.9691752433084705 and parameters: {'solver_penalty': ('lbfgs', 'l2'), 'C': 5.316334668831164, 'tol': 0.017102040254161736, 'fit_intercept': True, 'class_weight': 'balanced', 'threshold': 0.563}. Best is trial 53 with value: 0.9693911677349213.\n",
      "[I 2025-07-02 06:38:28,664] Trial 174 finished with value: 0.9693911677349213 and parameters: {'solver_penalty': ('lbfgs', 'l2'), 'C': 0.7844925486728852, 'tol': 0.04748914072201992, 'fit_intercept': True, 'class_weight': 'balanced', 'threshold': 0.7}. Best is trial 53 with value: 0.9693911677349213.\n",
      "[I 2025-07-02 06:38:29,005] Trial 173 finished with value: 0.9691212767755907 and parameters: {'solver_penalty': ('newton-cg', 'l2'), 'C': 0.5038913389773454, 'tol': 0.04160308409619161, 'fit_intercept': True, 'class_weight': 'balanced', 'threshold': 0.54}. Best is trial 53 with value: 0.9693911677349213.\n",
      "[I 2025-07-02 06:38:29,013] Trial 172 finished with value: 0.9690672665215123 and parameters: {'solver_penalty': ('newton-cholesky', None), 'C': 3.929671145324905, 'tol': 0.030508650500945558, 'fit_intercept': True, 'class_weight': 'balanced', 'threshold': 0.6719999999999999}. Best is trial 53 with value: 0.9693911677349213.\n",
      "[I 2025-07-02 06:38:30,479] Trial 175 finished with value: 0.9692831763742303 and parameters: {'solver_penalty': ('newton-cg', 'l2'), 'C': 0.2512819909619425, 'tol': 0.05102101248234556, 'fit_intercept': True, 'class_weight': None, 'threshold': 0.56}. Best is trial 53 with value: 0.9693911677349213.\n",
      "[I 2025-07-02 06:38:31,519] Trial 177 finished with value: 0.9692291806938845 and parameters: {'solver_penalty': ('lbfgs', None), 'C': 0.03758535036224919, 'tol': 0.054845767102925956, 'fit_intercept': True, 'class_weight': None, 'threshold': 0.418}. Best is trial 53 with value: 0.9693911677349213.\n",
      "[I 2025-07-02 06:38:32,004] Trial 178 finished with value: 0.2604729030584436 and parameters: {'solver_penalty': ('newton-cg', 'l2'), 'C': 2.223749532217658, 'tol': 0.04816318958405165, 'fit_intercept': False, 'class_weight': None, 'threshold': 0.5}. Best is trial 53 with value: 0.9693911677349213.\n",
      "[I 2025-07-02 06:38:32,238] Trial 176 finished with value: 0.9693911677349213 and parameters: {'solver_penalty': ('newton-cg', 'l2'), 'C': 1.7929632933154975, 'tol': 0.0550130206383034, 'fit_intercept': True, 'class_weight': None, 'threshold': 0.45499999999999996}. Best is trial 53 with value: 0.9693911677349213.\n",
      "[I 2025-07-02 06:38:33,917] Trial 179 finished with value: 0.9693371720545759 and parameters: {'solver_penalty': ('newton-cg', 'l2'), 'C': 0.015536542829147848, 'tol': 0.0499168320784623, 'fit_intercept': True, 'class_weight': None, 'threshold': 0.45099999999999996}. Best is trial 53 with value: 0.9693911677349213.\n",
      "[I 2025-07-02 06:38:35,423] Trial 181 finished with value: 0.9692832055216959 and parameters: {'solver_penalty': ('newton-cg', 'l2'), 'C': 0.6326987587209009, 'tol': 0.04480039213634408, 'fit_intercept': True, 'class_weight': None, 'threshold': 0.407}. Best is trial 53 with value: 0.9693911677349213.\n",
      "[I 2025-07-02 06:38:35,787] Trial 182 finished with value: 0.9692832055216959 and parameters: {'solver_penalty': ('lbfgs', 'l2'), 'C': 1.1680569370023592, 'tol': 0.034976207571587065, 'fit_intercept': True, 'class_weight': 'balanced', 'threshold': 0.659}. Best is trial 53 with value: 0.9693911677349213.\n",
      "[I 2025-07-02 06:38:36,319] Trial 180 finished with value: 0.9692292244150833 and parameters: {'solver_penalty': ('newton-cg', 'l2'), 'C': 2.368297320398179, 'tol': 0.02275836371223995, 'fit_intercept': True, 'class_weight': 'balanced', 'threshold': 0.5609999999999999}. Best is trial 53 with value: 0.9693911677349213.\n",
      "[I 2025-07-02 06:38:36,321] Trial 183 finished with value: 0.9692291661201518 and parameters: {'solver_penalty': ('lbfgs', 'l2'), 'C': 5.496920478323578, 'tol': 0.08311978202058828, 'fit_intercept': True, 'class_weight': None, 'threshold': 0.44}. Best is trial 53 with value: 0.9693911677349213.\n",
      "[I 2025-07-02 06:38:38,926] Trial 185 finished with value: 0.9691212476281249 and parameters: {'solver_penalty': ('newton-cholesky', 'l2'), 'C': 5.87287110800312, 'tol': 0.08871578140257183, 'fit_intercept': True, 'class_weight': None, 'threshold': 0.439}. Best is trial 53 with value: 0.9693911677349213.\n",
      "[I 2025-07-02 06:38:39,489] Trial 186 finished with value: 0.9692291952676175 and parameters: {'solver_penalty': ('liblinear', 'l1'), 'C': 3.443982454803744, 'tol': 0.08099658444538481, 'fit_intercept': True, 'class_weight': None, 'threshold': 0.46599999999999997}. Best is trial 53 with value: 0.9693911677349213.\n",
      "[I 2025-07-02 06:38:39,518] Trial 184 finished with value: 0.9691752433084705 and parameters: {'solver_penalty': ('lbfgs', 'l2'), 'C': 0.7022854644444586, 'tol': 0.024533962638628583, 'fit_intercept': True, 'class_weight': 'balanced', 'threshold': 0.607}. Best is trial 53 with value: 0.9693911677349213.\n",
      "[I 2025-07-02 06:38:40,083] Trial 187 finished with value: 0.9691212767755907 and parameters: {'solver_penalty': ('lbfgs', 'l2'), 'C': 0.24764285174083714, 'tol': 0.02386660068425766, 'fit_intercept': True, 'class_weight': 'balanced', 'threshold': 0.544}. Best is trial 53 with value: 0.9693911677349213.\n",
      "[I 2025-07-02 06:38:42,286] Trial 188 finished with value: 0.9693371720545759 and parameters: {'solver_penalty': ('newton-cholesky', 'l2'), 'C': 0.7023715440806044, 'tol': 0.06845792211620567, 'fit_intercept': True, 'class_weight': None, 'threshold': 0.45699999999999996}. Best is trial 53 with value: 0.9693911677349213.\n",
      "[I 2025-07-02 06:38:42,839] Trial 190 finished with value: 0.9692832055216959 and parameters: {'solver_penalty': ('newton-cholesky', 'l2'), 'C': 0.271998723213553, 'tol': 0.06539832363875285, 'fit_intercept': True, 'class_weight': None, 'threshold': 0.42}. Best is trial 53 with value: 0.9693911677349213.\n",
      "[I 2025-07-02 06:38:43,574] Trial 189 finished with value: 0.9691212767755907 and parameters: {'solver_penalty': ('lbfgs', 'l2'), 'C': 1.0958699871410418, 'tol': 0.018097021632733325, 'fit_intercept': True, 'class_weight': 'balanced', 'threshold': 0.507}. Best is trial 53 with value: 0.9693911677349213.\n",
      "[I 2025-07-02 06:38:44,107] Trial 191 finished with value: 0.9693911677349213 and parameters: {'solver_penalty': ('lbfgs', 'l2'), 'C': 0.3748352224550844, 'tol': 0.02562625126323706, 'fit_intercept': True, 'class_weight': 'balanced', 'threshold': 0.685}. Best is trial 53 with value: 0.9693911677349213.\n",
      "[I 2025-07-02 06:38:44,637] Trial 192 finished with value: 0.9692292244150833 and parameters: {'solver_penalty': ('liblinear', 'l2'), 'C': 0.2550605719582135, 'tol': 0.01660158985643439, 'fit_intercept': True, 'class_weight': None, 'threshold': 0.325}. Best is trial 53 with value: 0.9693911677349213.\n",
      "[I 2025-07-02 06:38:46,629] Trial 193 finished with value: 0.9693371866283087 and parameters: {'solver_penalty': ('lbfgs', None), 'C': 0.41346213275773724, 'tol': 0.05113533875459664, 'fit_intercept': True, 'class_weight': 'balanced', 'threshold': 0.688}. Best is trial 53 with value: 0.9693911677349213.\n",
      "[I 2025-07-02 06:38:46,977] Trial 195 finished with value: 0.9692292244150833 and parameters: {'solver_penalty': ('liblinear', 'l2'), 'C': 3.607046183177596, 'tol': 0.009970294590561, 'fit_intercept': True, 'class_weight': None, 'threshold': 0.313}. Best is trial 53 with value: 0.9693911677349213.\n",
      "[I 2025-07-02 06:38:47,718] Trial 196 finished with value: 0.9693911677349213 and parameters: {'solver_penalty': ('liblinear', 'l2'), 'C': 2.87693650086123, 'tol': 0.010379532203764169, 'fit_intercept': True, 'class_weight': None, 'threshold': 0.396}. Best is trial 53 with value: 0.9693911677349213.\n",
      "[I 2025-07-02 06:38:48,145] Trial 194 finished with value: 0.9692832055216959 and parameters: {'solver_penalty': ('lbfgs', 'l2'), 'C': 0.9479977351446247, 'tol': 0.01576282610190429, 'fit_intercept': True, 'class_weight': 'balanced', 'threshold': 0.625}. Best is trial 53 with value: 0.9693911677349213.\n",
      "[I 2025-07-02 06:38:49,678] Trial 197 finished with value: 0.9665299941996544 and parameters: {'solver_penalty': ('lbfgs', 'l2'), 'C': 1.2684838792218651, 'tol': 0.007943458493996452, 'fit_intercept': False, 'class_weight': 'balanced', 'threshold': 0.615}. Best is trial 53 with value: 0.9693911677349213.\n",
      "[I 2025-07-02 06:38:50,685] Trial 199 finished with value: 0.9692291806938848 and parameters: {'solver_penalty': ('liblinear', 'l2'), 'C': 3.415443278758893, 'tol': 0.04302245266745931, 'fit_intercept': True, 'class_weight': None, 'threshold': 0.683}. Best is trial 53 with value: 0.9693911677349213.\n",
      "[I 2025-07-02 06:38:51,215] Trial 198 finished with value: 0.9693911677349213 and parameters: {'solver_penalty': ('lbfgs', 'l2'), 'C': 2.492094627269984, 'tol': 0.025530868075625844, 'fit_intercept': True, 'class_weight': 'balanced', 'threshold': 0.6950000000000001}. Best is trial 53 with value: 0.9693911677349213.\n",
      "[I 2025-07-02 06:38:51,619] Trial 200 finished with value: 0.9656122425185742 and parameters: {'solver_penalty': ('lbfgs', 'l2'), 'C': 1.2956207464847829, 'tol': 0.0055305512934012094, 'fit_intercept': False, 'class_weight': 'balanced', 'threshold': 0.604}. Best is trial 53 with value: 0.9693911677349213.\n",
      "[I 2025-07-02 06:38:52,813] Trial 201 finished with value: 0.9692831763742301 and parameters: {'solver_penalty': ('lbfgs', 'l2'), 'C': 3.345843638805412, 'tol': 0.03040189507718486, 'fit_intercept': True, 'class_weight': None, 'threshold': 0.657}. Best is trial 53 with value: 0.9693911677349213.\n",
      "[I 2025-07-02 06:38:54,100] Trial 203 finished with value: 0.9632369572377529 and parameters: {'solver_penalty': ('lbfgs', 'l2'), 'C': 2.140848359031531, 'tol': 0.06553291876174941, 'fit_intercept': True, 'class_weight': None, 'threshold': 0.6950000000000001}. Best is trial 53 with value: 0.9693911677349213.\n",
      "[I 2025-07-02 06:38:54,302] Trial 202 finished with value: 0.9693371720545759 and parameters: {'solver_penalty': ('lbfgs', None), 'C': 1.4274757214485116, 'tol': 0.010351849115833952, 'fit_intercept': True, 'class_weight': None, 'threshold': 0.46599999999999997}. Best is trial 53 with value: 0.9693911677349213.\n",
      "[I 2025-07-02 06:38:56,210] Trial 205 finished with value: 0.9693371866283087 and parameters: {'solver_penalty': ('lbfgs', 'l2'), 'C': 0.8677159403361305, 'tol': 0.031067921725624698, 'fit_intercept': True, 'class_weight': 'balanced', 'threshold': 0.661}. Best is trial 53 with value: 0.9693911677349213.\n",
      "[I 2025-07-02 06:38:56,886] Trial 207 finished with value: 0.45907981450552776 and parameters: {'solver_penalty': ('newton-cholesky', None), 'C': 4.619183510465621, 'tol': 0.09967354330424516, 'fit_intercept': False, 'class_weight': None, 'threshold': 0.319}. Best is trial 53 with value: 0.9693911677349213.\n",
      "[I 2025-07-02 06:38:57,086] Trial 204 finished with value: 0.9692292244150833 and parameters: {'solver_penalty': ('newton-cg', None), 'C': 1.7881702050170536, 'tol': 0.00771672491336518, 'fit_intercept': True, 'class_weight': 'balanced', 'threshold': 0.5609999999999999}. Best is trial 53 with value: 0.9693911677349213.\n",
      "[I 2025-07-02 06:38:57,958] Trial 206 finished with value: 0.9691751850135392 and parameters: {'solver_penalty': ('newton-cg', 'l2'), 'C': 0.10767760309498045, 'tol': 0.015584252361151126, 'fit_intercept': True, 'class_weight': None, 'threshold': 0.648}. Best is trial 53 with value: 0.9693911677349213.\n",
      "[I 2025-07-02 06:38:59,982] Trial 208 finished with value: 0.9693911677349213 and parameters: {'solver_penalty': ('newton-cg', 'l2'), 'C': 0.28480550175218405, 'tol': 0.021280424729608505, 'fit_intercept': True, 'class_weight': 'balanced', 'threshold': 0.616}. Best is trial 53 with value: 0.9693911677349213.\n",
      "[I 2025-07-02 06:39:00,411] Trial 209 finished with value: 0.9693371720545759 and parameters: {'solver_penalty': ('newton-cg', None), 'C': 3.00180312881488, 'tol': 0.015390020540356266, 'fit_intercept': True, 'class_weight': 'balanced', 'threshold': 0.6579999999999999}. Best is trial 53 with value: 0.9693911677349213.\n",
      "[I 2025-07-02 06:39:00,932] Trial 211 finished with value: 0.9693911677349213 and parameters: {'solver_penalty': ('lbfgs', 'l2'), 'C': 2.6182370600983162, 'tol': 0.028660142396899096, 'fit_intercept': True, 'class_weight': 'balanced', 'threshold': 0.6890000000000001}. Best is trial 53 with value: 0.9693911677349213.\n",
      "[I 2025-07-02 06:39:01,886] Trial 210 finished with value: 0.9693911677349213 and parameters: {'solver_penalty': ('newton-cg', 'l2'), 'C': 5.71133861461187, 'tol': 0.0014019083016945655, 'fit_intercept': True, 'class_weight': 'balanced', 'threshold': 0.623}. Best is trial 53 with value: 0.9693911677349213.\n",
      "[I 2025-07-02 06:39:03,460] Trial 212 finished with value: 0.9691752433084705 and parameters: {'solver_penalty': ('lbfgs', 'l2'), 'C': 3.183555487305889, 'tol': 0.013654012697874758, 'fit_intercept': True, 'class_weight': 'balanced', 'threshold': 0.61}. Best is trial 53 with value: 0.9693911677349213.\n",
      "[I 2025-07-02 06:39:03,997] Trial 214 finished with value: 0.9692292244150833 and parameters: {'solver_penalty': ('lbfgs', 'l2'), 'C': 0.136843032227282, 'tol': 0.055268808307527506, 'fit_intercept': True, 'class_weight': 'balanced', 'threshold': 0.659}. Best is trial 53 with value: 0.9693911677349213.\n",
      "[I 2025-07-02 06:39:04,432] Trial 213 finished with value: 0.9691752433084705 and parameters: {'solver_penalty': ('lbfgs', 'l2'), 'C': 3.4049001418324956, 'tol': 0.013016810399438403, 'fit_intercept': True, 'class_weight': 'balanced', 'threshold': 0.608}. Best is trial 53 with value: 0.9693911677349213.\n",
      "[I 2025-07-02 06:39:05,290] Trial 215 finished with value: 0.9693371866283087 and parameters: {'solver_penalty': ('lbfgs', 'l2'), 'C': 0.9851204059926145, 'tol': 0.05298456222995937, 'fit_intercept': True, 'class_weight': 'balanced', 'threshold': 0.692}. Best is trial 53 with value: 0.9693911677349213.\n",
      "[I 2025-07-02 06:39:07,000] Trial 216 finished with value: 0.9693371720545759 and parameters: {'solver_penalty': ('lbfgs', 'l2'), 'C': 0.022907104609273476, 'tol': 0.03308066071830521, 'fit_intercept': True, 'class_weight': 'balanced', 'threshold': 0.6970000000000001}. Best is trial 53 with value: 0.9693911677349213.\n",
      "[I 2025-07-02 06:39:07,472] Trial 217 finished with value: 0.9693371866283087 and parameters: {'solver_penalty': ('lbfgs', 'l2'), 'C': 1.9080816122586612, 'tol': 0.04614095451170691, 'fit_intercept': True, 'class_weight': 'balanced', 'threshold': 0.6950000000000001}. Best is trial 53 with value: 0.9693911677349213.\n",
      "[I 2025-07-02 06:39:07,682] Trial 218 finished with value: 0.9689593334557527 and parameters: {'solver_penalty': ('newton-cg', 'l2'), 'C': 1.216428807396272, 'tol': 0.07669415954882255, 'fit_intercept': True, 'class_weight': None, 'threshold': 0.354}. Best is trial 53 with value: 0.9693911677349213.\n",
      "[I 2025-07-02 06:39:09,590] Trial 219 finished with value: 0.9689593334557527 and parameters: {'solver_penalty': ('newton-cg', 'l2'), 'C': 8.879333469726127, 'tol': 0.09040601964462652, 'fit_intercept': True, 'class_weight': 'balanced', 'threshold': 0.48}. Best is trial 53 with value: 0.9693911677349213.\n",
      "[I 2025-07-02 06:39:10,356] Trial 220 finished with value: 0.9692291806938848 and parameters: {'solver_penalty': ('lbfgs', 'l2'), 'C': 1.1916016182234885, 'tol': 0.004139734002402924, 'fit_intercept': True, 'class_weight': None, 'threshold': 0.69}. Best is trial 53 with value: 0.9693911677349213.\n",
      "[I 2025-07-02 06:39:10,820] Trial 221 finished with value: 0.9689593334557527 and parameters: {'solver_penalty': ('newton-cg', 'l2'), 'C': 0.9486838887234448, 'tol': 0.06731543682926967, 'fit_intercept': True, 'class_weight': None, 'threshold': 0.33299999999999996}. Best is trial 53 with value: 0.9693911677349213.\n",
      "[I 2025-07-02 06:39:11,193] Trial 222 finished with value: 0.9690133291360983 and parameters: {'solver_penalty': ('newton-cholesky', 'l2'), 'C': 0.10727001895340216, 'tol': 0.048054438018670195, 'fit_intercept': True, 'class_weight': 'balanced', 'threshold': 0.32}. Best is trial 53 with value: 0.9693911677349213.\n",
      "[I 2025-07-02 06:39:12,647] Trial 223 finished with value: 0.2604729030584436 and parameters: {'solver_penalty': ('lbfgs', None), 'C': 5.356225297393254, 'tol': 0.01997713733157506, 'fit_intercept': False, 'class_weight': 'balanced', 'threshold': 0.322}. Best is trial 53 with value: 0.9693911677349213.\n",
      "[I 2025-07-02 06:39:13,313] Trial 224 finished with value: 0.9690672956689781 and parameters: {'solver_penalty': ('liblinear', 'l2'), 'C': 8.150881772990726, 'tol': 0.039973439863091785, 'fit_intercept': False, 'class_weight': 'balanced', 'threshold': 0.6990000000000001}. Best is trial 53 with value: 0.9693911677349213.\n",
      "[I 2025-07-02 06:39:14,433] Trial 225 finished with value: 0.9692831763742301 and parameters: {'solver_penalty': ('newton-cg', 'l2'), 'C': 2.4079266054416073, 'tol': 0.032403505847143355, 'fit_intercept': True, 'class_weight': None, 'threshold': 0.504}. Best is trial 53 with value: 0.9693911677349213.\n",
      "[I 2025-07-02 06:39:14,933] Trial 226 finished with value: 0.9693911677349213 and parameters: {'solver_penalty': ('newton-cg', 'l2'), 'C': 3.133274857251657, 'tol': 0.03130768919610992, 'fit_intercept': True, 'class_weight': None, 'threshold': 0.433}. Best is trial 53 with value: 0.9693911677349213.\n",
      "[I 2025-07-02 06:39:16,233] Trial 227 finished with value: 0.9693371574808429 and parameters: {'solver_penalty': ('newton-cg', 'l2'), 'C': 4.147485270021756, 'tol': 0.04845102864911203, 'fit_intercept': True, 'class_weight': None, 'threshold': 0.521}. Best is trial 53 with value: 0.9693911677349213.\n",
      "[I 2025-07-02 06:39:16,706] Trial 228 finished with value: 0.9693911677349213 and parameters: {'solver_penalty': ('newton-cg', 'l2'), 'C': 2.8082418610272324, 'tol': 0.07116700252533412, 'fit_intercept': True, 'class_weight': None, 'threshold': 0.47}. Best is trial 53 with value: 0.9693911677349213.\n",
      "[I 2025-07-02 06:39:17,069] Trial 229 finished with value: 0.9693911677349213 and parameters: {'solver_penalty': ('liblinear', 'l2'), 'C': 1.9885570999208528, 'tol': 0.04673413402485392, 'fit_intercept': True, 'class_weight': None, 'threshold': 0.365}. Best is trial 53 with value: 0.9693911677349213.\n",
      "[I 2025-07-02 06:39:17,606] Trial 230 finished with value: 0.9692831763742303 and parameters: {'solver_penalty': ('liblinear', 'l1'), 'C': 6.238567016173368, 'tol': 0.05148051529471684, 'fit_intercept': True, 'class_weight': None, 'threshold': 0.425}. Best is trial 53 with value: 0.9693911677349213.\n",
      "[I 2025-07-02 06:39:19,908] Trial 233 finished with value: 0.9693911677349213 and parameters: {'solver_penalty': ('liblinear', 'l2'), 'C': 0.43083985335724817, 'tol': 0.04650507941230582, 'fit_intercept': True, 'class_weight': None, 'threshold': 0.381}. Best is trial 53 with value: 0.9693911677349213.\n",
      "[I 2025-07-02 06:39:20,287] Trial 232 finished with value: 0.9693371720545759 and parameters: {'solver_penalty': ('newton-cholesky', 'l2'), 'C': 0.09413246450537505, 'tol': 0.042232953241716234, 'fit_intercept': True, 'class_weight': None, 'threshold': 0.434}. Best is trial 53 with value: 0.9693911677349213.\n",
      "[I 2025-07-02 06:39:20,692] Trial 231 finished with value: 0.9692832055216959 and parameters: {'solver_penalty': ('newton-cg', 'l2'), 'C': 1.2568909941467252, 'tol': 0.044239994768324235, 'fit_intercept': True, 'class_weight': 'balanced', 'threshold': 0.626}. Best is trial 53 with value: 0.9693911677349213.\n",
      "[I 2025-07-02 06:39:20,889] Trial 234 finished with value: 0.9693911677349213 and parameters: {'solver_penalty': ('lbfgs', 'l2'), 'C': 0.6725575766843347, 'tol': 0.02566375744083821, 'fit_intercept': True, 'class_weight': 'balanced', 'threshold': 0.669}. Best is trial 53 with value: 0.9693911677349213.\n",
      "[I 2025-07-02 06:39:23,569] Trial 238 finished with value: 0.9692831763742303 and parameters: {'solver_penalty': ('liblinear', 'l2'), 'C': 1.019961057646416, 'tol': 0.011235764856362067, 'fit_intercept': True, 'class_weight': None, 'threshold': 0.5409999999999999}. Best is trial 53 with value: 0.9693911677349213.\n",
      "[I 2025-07-02 06:39:23,973] Trial 236 finished with value: 0.9693371720545759 and parameters: {'solver_penalty': ('lbfgs', 'l2'), 'C': 0.5504750383599215, 'tol': 0.010384617031280893, 'fit_intercept': True, 'class_weight': 'balanced', 'threshold': 0.6970000000000001}. Best is trial 53 with value: 0.9693911677349213.\n",
      "[I 2025-07-02 06:39:24,347] Trial 235 finished with value: 0.9690133291360983 and parameters: {'solver_penalty': ('newton-cg', 'l2'), 'C': 1.8440383765470012, 'tol': 0.0691861212344015, 'fit_intercept': True, 'class_weight': 'balanced', 'threshold': 0.411}. Best is trial 53 with value: 0.9693911677349213.\n",
      "[I 2025-07-02 06:39:24,800] Trial 237 finished with value: 0.9693911677349213 and parameters: {'solver_penalty': ('lbfgs', 'l2'), 'C': 0.5791047511302254, 'tol': 0.01649181776033005, 'fit_intercept': True, 'class_weight': 'balanced', 'threshold': 0.646}. Best is trial 53 with value: 0.9693911677349213.\n",
      "[I 2025-07-02 06:39:26,982] Trial 239 finished with value: 0.9693911677349213 and parameters: {'solver_penalty': ('lbfgs', 'l2'), 'C': 0.3992133451571046, 'tol': 0.014538492626576102, 'fit_intercept': True, 'class_weight': 'balanced', 'threshold': 0.6519999999999999}. Best is trial 53 with value: 0.9693911677349213.\n",
      "[I 2025-07-02 06:39:27,848] Trial 240 finished with value: 0.9693371720545759 and parameters: {'solver_penalty': ('lbfgs', 'l2'), 'C': 2.2220659135963596, 'tol': 0.032437123007876906, 'fit_intercept': True, 'class_weight': 'balanced', 'threshold': 0.698}. Best is trial 53 with value: 0.9693911677349213.\n",
      "[I 2025-07-02 06:39:28,197] Trial 241 finished with value: 0.9690132999886323 and parameters: {'solver_penalty': ('newton-cholesky', None), 'C': 1.086819996430375, 'tol': 0.03862912728917545, 'fit_intercept': True, 'class_weight': None, 'threshold': 0.354}. Best is trial 53 with value: 0.9693911677349213.\n",
      "[I 2025-07-02 06:39:28,397] Trial 242 finished with value: 0.9693371866283087 and parameters: {'solver_penalty': ('lbfgs', 'l2'), 'C': 0.7374980481727323, 'tol': 0.03849408175330864, 'fit_intercept': True, 'class_weight': 'balanced', 'threshold': 0.661}. Best is trial 53 with value: 0.9693911677349213.\n",
      "[I 2025-07-02 06:39:29,877] Trial 243 finished with value: 0.9689053377754071 and parameters: {'solver_penalty': ('liblinear', 'l1'), 'C': 4.730238296291893, 'tol': 0.0604165247929499, 'fit_intercept': True, 'class_weight': 'balanced', 'threshold': 0.417}. Best is trial 53 with value: 0.9693911677349213.\n",
      "[I 2025-07-02 06:39:31,769] Trial 244 finished with value: 0.9690133291360983 and parameters: {'solver_penalty': ('lbfgs', 'l2'), 'C': 4.31794565335607, 'tol': 0.04856919189024573, 'fit_intercept': False, 'class_weight': 'balanced', 'threshold': 0.677}. Best is trial 53 with value: 0.9693911677349213.\n",
      "[I 2025-07-02 06:39:31,797] Trial 246 finished with value: 0.9693371574808429 and parameters: {'solver_penalty': ('liblinear', 'l2'), 'C': 5.42741211743003, 'tol': 0.08010886093941713, 'fit_intercept': True, 'class_weight': None, 'threshold': 0.489}. Best is trial 53 with value: 0.9693911677349213.\n",
      "[I 2025-07-02 06:39:31,808] Trial 245 finished with value: 0.9694451488415339 and parameters: {'solver_penalty': ('liblinear', 'l1'), 'C': 3.848090673897703, 'tol': 0.007782037456556653, 'fit_intercept': True, 'class_weight': 'balanced', 'threshold': 0.637}. Best is trial 245 with value: 0.9694451488415339.\n",
      "[I 2025-07-02 06:39:33,650] Trial 247 finished with value: 0.9691752287347377 and parameters: {'solver_penalty': ('liblinear', 'l1'), 'C': 1.4330252326034456, 'tol': 0.00020279231308897167, 'fit_intercept': True, 'class_weight': 'balanced', 'threshold': 0.651}. Best is trial 245 with value: 0.9694451488415339.\n",
      "[I 2025-07-02 06:39:34,483] Trial 249 finished with value: 0.9693371720545759 and parameters: {'solver_penalty': ('liblinear', 'l2'), 'C': 4.057746460035574, 'tol': 0.027510462082949973, 'fit_intercept': True, 'class_weight': None, 'threshold': 0.43}. Best is trial 245 with value: 0.9694451488415339.\n",
      "[I 2025-07-02 06:39:34,639] Trial 250 finished with value: 0.9692831763742301 and parameters: {'solver_penalty': ('liblinear', 'l1'), 'C': 1.8471888985985663, 'tol': 0.012457273587427512, 'fit_intercept': True, 'class_weight': 'balanced', 'threshold': 0.675}. Best is trial 245 with value: 0.9694451488415339.\n",
      "[I 2025-07-02 06:39:35,074] Trial 248 finished with value: 0.9639927073040635 and parameters: {'solver_penalty': ('newton-cg', 'l2'), 'C': 0.9908831522422671, 'tol': 0.027312784171869525, 'fit_intercept': False, 'class_weight': 'balanced', 'threshold': 0.567}. Best is trial 245 with value: 0.9694451488415339.\n",
      "[I 2025-07-02 06:39:37,968] Trial 253 finished with value: 0.9693911677349213 and parameters: {'solver_penalty': ('liblinear', 'l2'), 'C': 1.2872288646301133, 'tol': 0.07291600835518494, 'fit_intercept': True, 'class_weight': None, 'threshold': 0.418}. Best is trial 245 with value: 0.9694451488415339.\n",
      "[I 2025-07-02 06:39:38,211] Trial 254 finished with value: 0.9692292244150833 and parameters: {'solver_penalty': ('liblinear', 'l1'), 'C': 4.2472747817391605, 'tol': 0.01685522086076217, 'fit_intercept': True, 'class_weight': 'balanced', 'threshold': 0.579}. Best is trial 245 with value: 0.9694451488415339.\n",
      "[I 2025-07-02 06:39:38,429] Trial 252 finished with value: 0.9693371720545759 and parameters: {'solver_penalty': ('newton-cg', None), 'C': 2.834474086156011, 'tol': 0.08660848529483636, 'fit_intercept': True, 'class_weight': None, 'threshold': 0.486}. Best is trial 245 with value: 0.9694451488415339.\n",
      "[I 2025-07-02 06:39:38,764] Trial 251 finished with value: 0.9693911677349213 and parameters: {'solver_penalty': ('lbfgs', None), 'C': 4.907079619099843, 'tol': 0.0015408067056738384, 'fit_intercept': True, 'class_weight': 'balanced', 'threshold': 0.649}. Best is trial 245 with value: 0.9694451488415339.\n",
      "[I 2025-07-02 06:39:40,572] Trial 255 finished with value: 0.9689593334557527 and parameters: {'solver_penalty': ('liblinear', 'l2'), 'C': 1.5231090052968046, 'tol': 0.07942015490652866, 'fit_intercept': True, 'class_weight': 'balanced', 'threshold': 0.355}. Best is trial 245 with value: 0.9694451488415339.\n",
      "[I 2025-07-02 06:39:41,566] Trial 256 finished with value: 0.9693371574808429 and parameters: {'solver_penalty': ('newton-cg', None), 'C': 0.5508367577506003, 'tol': 0.07104032478449847, 'fit_intercept': True, 'class_weight': None, 'threshold': 0.523}. Best is trial 245 with value: 0.9694451488415339.\n",
      "[I 2025-07-02 06:39:41,725] Trial 257 finished with value: 0.9693371866283087 and parameters: {'solver_penalty': ('newton-cg', 'l2'), 'C': 0.8781233314552854, 'tol': 0.0751158693517703, 'fit_intercept': True, 'class_weight': None, 'threshold': 0.46099999999999997}. Best is trial 245 with value: 0.9694451488415339.\n",
      "[I 2025-07-02 06:39:42,781] Trial 258 finished with value: 0.9692292244150833 and parameters: {'solver_penalty': ('newton-cg', None), 'C': 1.0540199926088856, 'tol': 0.013099803441785494, 'fit_intercept': True, 'class_weight': None, 'threshold': 0.347}. Best is trial 245 with value: 0.9694451488415339.\n",
      "[I 2025-07-02 06:39:44,087] Trial 259 finished with value: 0.9359718639512888 and parameters: {'solver_penalty': ('newton-cholesky', None), 'C': 2.085586128901802, 'tol': 0.035262617746795975, 'fit_intercept': False, 'class_weight': 'balanced', 'threshold': 0.673}. Best is trial 245 with value: 0.9694451488415339.\n",
      "[I 2025-07-02 06:39:44,417] Trial 261 finished with value: 0.9693911531611885 and parameters: {'solver_penalty': ('liblinear', 'l1'), 'C': 5.100820015185286, 'tol': 0.006508447969185935, 'fit_intercept': True, 'class_weight': 'balanced', 'threshold': 0.63}. Best is trial 245 with value: 0.9694451488415339.\n",
      "[I 2025-07-02 06:39:45,401] Trial 260 finished with value: 0.9368358531317493 and parameters: {'solver_penalty': ('newton-cholesky', None), 'C': 0.9528163252089816, 'tol': 0.033179120522207055, 'fit_intercept': False, 'class_weight': 'balanced', 'threshold': 0.6819999999999999}. Best is trial 245 with value: 0.9694451488415339.\n",
      "[I 2025-07-02 06:39:45,928] Trial 262 finished with value: 0.9693911531611885 and parameters: {'solver_penalty': ('newton-cholesky', 'l2'), 'C': 1.3621917562753971, 'tol': 0.0651573673770473, 'fit_intercept': True, 'class_weight': None, 'threshold': 0.5}. Best is trial 245 with value: 0.9694451488415339.\n",
      "[I 2025-07-02 06:39:47,232] Trial 263 finished with value: 0.9692831763742301 and parameters: {'solver_penalty': ('liblinear', 'l2'), 'C': 2.9261430494256877, 'tol': 0.024044092430218926, 'fit_intercept': True, 'class_weight': 'balanced', 'threshold': 0.6819999999999999}. Best is trial 245 with value: 0.9694451488415339.\n",
      "[I 2025-07-02 06:39:47,547] Trial 264 finished with value: 0.9693371720545759 and parameters: {'solver_penalty': ('liblinear', 'l2'), 'C': 4.679810349398804, 'tol': 0.01769822287725201, 'fit_intercept': True, 'class_weight': 'balanced', 'threshold': 0.651}. Best is trial 245 with value: 0.9694451488415339.\n",
      "[I 2025-07-02 06:39:48,253] Trial 265 finished with value: 0.9658821626253704 and parameters: {'solver_penalty': ('liblinear', 'l1'), 'C': 2.7707980424326903, 'tol': 0.01588232445353284, 'fit_intercept': False, 'class_weight': 'balanced', 'threshold': 0.616}. Best is trial 245 with value: 0.9694451488415339.\n",
      "[I 2025-07-02 06:39:50,162] Trial 267 finished with value: 0.2604729030584436 and parameters: {'solver_penalty': ('lbfgs', None), 'C': 7.404891443767937, 'tol': 0.062274015437415134, 'fit_intercept': False, 'class_weight': None, 'threshold': 0.301}. Best is trial 245 with value: 0.9694451488415339.\n",
      "[I 2025-07-02 06:39:50,170] Trial 268 finished with value: 0.9690133145623653 and parameters: {'solver_penalty': ('lbfgs', 'l2'), 'C': 3.739711768920291, 'tol': 0.0998144745533385, 'fit_intercept': False, 'class_weight': None, 'threshold': 0.6519999999999999}. Best is trial 245 with value: 0.9694451488415339.\n",
      "[I 2025-07-02 06:39:50,565] Trial 266 finished with value: 0.9693911677349213 and parameters: {'solver_penalty': ('newton-cg', None), 'C': 2.3493036145015007, 'tol': 0.04509452154993463, 'fit_intercept': True, 'class_weight': 'balanced', 'threshold': 0.665}. Best is trial 245 with value: 0.9694451488415339.\n",
      "[I 2025-07-02 06:39:52,557] Trial 269 finished with value: 0.9691752433084705 and parameters: {'solver_penalty': ('lbfgs', 'l2'), 'C': 3.85572185583829, 'tol': 0.03831753937658379, 'fit_intercept': True, 'class_weight': 'balanced', 'threshold': 0.6}. Best is trial 245 with value: 0.9694451488415339.\n",
      "[I 2025-07-02 06:39:53,064] Trial 270 finished with value: 0.9692831909479631 and parameters: {'solver_penalty': ('liblinear', 'l2'), 'C': 2.4310546789455527, 'tol': 0.005215404497331379, 'fit_intercept': True, 'class_weight': None, 'threshold': 0.44799999999999995}. Best is trial 245 with value: 0.9694451488415339.\n",
      "[I 2025-07-02 06:39:53,423] Trial 272 finished with value: 0.9693371720545759 and parameters: {'solver_penalty': ('liblinear', 'l2'), 'C': 3.646093916618858, 'tol': 0.09479591636418813, 'fit_intercept': True, 'class_weight': 'balanced', 'threshold': 0.611}. Best is trial 245 with value: 0.9694451488415339.\n",
      "[I 2025-07-02 06:39:53,975] Trial 271 finished with value: 0.9693371720545759 and parameters: {'solver_penalty': ('newton-cg', 'l2'), 'C': 2.277973516443543, 'tol': 0.049731262700063734, 'fit_intercept': True, 'class_weight': None, 'threshold': 0.46799999999999997}. Best is trial 245 with value: 0.9694451488415339.\n",
      "[I 2025-07-02 06:39:55,868] Trial 273 finished with value: 0.9693911677349213 and parameters: {'solver_penalty': ('lbfgs', 'l2'), 'C': 1.413528811538693, 'tol': 0.04214308889038852, 'fit_intercept': True, 'class_weight': 'balanced', 'threshold': 0.6950000000000001}. Best is trial 245 with value: 0.9694451488415339.\n",
      "[I 2025-07-02 06:39:56,209] Trial 274 finished with value: 0.9689592751608211 and parameters: {'solver_penalty': ('newton-cholesky', None), 'C': 0.5181010029972632, 'tol': 0.03911024075369695, 'fit_intercept': True, 'class_weight': None, 'threshold': 0.636}. Best is trial 245 with value: 0.9694451488415339.\n",
      "[I 2025-07-02 06:39:57,392] Trial 275 finished with value: 0.9693371720545759 and parameters: {'solver_penalty': ('newton-cg', 'l2'), 'C': 2.411049925620611, 'tol': 0.03956508280924752, 'fit_intercept': True, 'class_weight': 'balanced', 'threshold': 0.679}. Best is trial 245 with value: 0.9694451488415339.\n",
      "[I 2025-07-02 06:39:57,584] Trial 276 finished with value: 0.9691212330543921 and parameters: {'solver_penalty': ('newton-cholesky', 'l2'), 'C': 7.193094492603254, 'tol': 0.01625786879043778, 'fit_intercept': True, 'class_weight': 'balanced', 'threshold': 0.6910000000000001}. Best is trial 245 with value: 0.9694451488415339.\n",
      "[I 2025-07-02 06:39:58,943] Trial 277 finished with value: 0.9693911677349213 and parameters: {'solver_penalty': ('lbfgs', None), 'C': 8.568006757301568, 'tol': 0.08667621118504493, 'fit_intercept': True, 'class_weight': 'balanced', 'threshold': 0.6990000000000001}. Best is trial 245 with value: 0.9694451488415339.\n",
      "[I 2025-07-02 06:40:00,076] Trial 279 finished with value: 0.9693371720545759 and parameters: {'solver_penalty': ('liblinear', 'l2'), 'C': 3.375010754445521, 'tol': 0.017485261536782985, 'fit_intercept': True, 'class_weight': None, 'threshold': 0.402}. Best is trial 245 with value: 0.9694451488415339.\n",
      "[I 2025-07-02 06:40:00,422] Trial 278 finished with value: 0.9692291952676175 and parameters: {'solver_penalty': ('newton-cg', 'l2'), 'C': 9.654807083118424, 'tol': 0.09664530914780445, 'fit_intercept': True, 'class_weight': 'balanced', 'threshold': 0.692}. Best is trial 245 with value: 0.9694451488415339.\n",
      "[I 2025-07-02 06:40:00,960] Trial 280 finished with value: 0.9693911677349213 and parameters: {'solver_penalty': ('lbfgs', 'l2'), 'C': 1.2643982434042447, 'tol': 0.0693028550162286, 'fit_intercept': True, 'class_weight': 'balanced', 'threshold': 0.696}. Best is trial 245 with value: 0.9694451488415339.\n",
      "[I 2025-07-02 06:40:01,634] Trial 281 finished with value: 0.9692831763742303 and parameters: {'solver_penalty': ('liblinear', 'l1'), 'C': 5.785754592335835, 'tol': 0.07431664486577734, 'fit_intercept': True, 'class_weight': None, 'threshold': 0.442}. Best is trial 245 with value: 0.9694451488415339.\n",
      "[I 2025-07-02 06:40:04,235] Trial 282 finished with value: 0.7928602408163623 and parameters: {'solver_penalty': ('newton-cholesky', None), 'C': 2.762561658530301, 'tol': 0.02657137588601543, 'fit_intercept': False, 'class_weight': None, 'threshold': 0.482}. Best is trial 245 with value: 0.9694451488415339.\n",
      "[I 2025-07-02 06:40:04,263] Trial 284 finished with value: 0.9692291952676175 and parameters: {'solver_penalty': ('liblinear', 'l1'), 'C': 7.053253489181236, 'tol': 0.07551423212984687, 'fit_intercept': True, 'class_weight': None, 'threshold': 0.471}. Best is trial 245 with value: 0.9694451488415339.\n",
      "[I 2025-07-02 06:40:04,462] Trial 285 finished with value: 0.9685814511357311 and parameters: {'solver_penalty': ('lbfgs', 'l2'), 'C': 0.9195664291788297, 'tol': 0.059684930901606245, 'fit_intercept': False, 'class_weight': None, 'threshold': 0.634}. Best is trial 245 with value: 0.9694451488415339.\n",
      "[I 2025-07-02 06:40:04,645] Trial 283 finished with value: 0.9693371866283087 and parameters: {'solver_penalty': ('lbfgs', 'l2'), 'C': 2.3526297477118976, 'tol': 0.02221226459441574, 'fit_intercept': True, 'class_weight': 'balanced', 'threshold': 0.6599999999999999}. Best is trial 245 with value: 0.9694451488415339.\n",
      "[I 2025-07-02 06:40:07,760] Trial 288 finished with value: 0.9691751850135389 and parameters: {'solver_penalty': ('lbfgs', None), 'C': 5.475171734903934, 'tol': 0.08422563898940964, 'fit_intercept': True, 'class_weight': None, 'threshold': 0.437}. Best is trial 245 with value: 0.9694451488415339.\n",
      "[I 2025-07-02 06:40:07,761] Trial 287 finished with value: 0.9692831763742303 and parameters: {'solver_penalty': ('lbfgs', None), 'C': 5.05966104494966, 'tol': 0.08718367639014886, 'fit_intercept': True, 'class_weight': None, 'threshold': 0.379}. Best is trial 245 with value: 0.9694451488415339.\n",
      "[I 2025-07-02 06:40:07,784] Trial 289 finished with value: 0.2604729030584436 and parameters: {'solver_penalty': ('liblinear', 'l2'), 'C': 0.8889725124802282, 'tol': 0.09990412470550669, 'fit_intercept': False, 'class_weight': None, 'threshold': 0.306}. Best is trial 245 with value: 0.9694451488415339.\n",
      "[I 2025-07-02 06:40:08,090] Trial 286 finished with value: 0.9690673102427109 and parameters: {'solver_penalty': ('newton-cg', 'l2'), 'C': 0.3817639687560762, 'tol': 0.06138961237570613, 'fit_intercept': False, 'class_weight': 'balanced', 'threshold': 0.621}. Best is trial 245 with value: 0.9694451488415339.\n",
      "[I 2025-07-02 06:40:10,449] Trial 292 finished with value: 0.9691212476281251 and parameters: {'solver_penalty': ('newton-cholesky', None), 'C': 1.2128990848786236, 'tol': 0.053900110769435745, 'fit_intercept': True, 'class_weight': None, 'threshold': 0.45599999999999996}. Best is trial 245 with value: 0.9694451488415339.\n",
      "[I 2025-07-02 06:40:11,275] Trial 293 finished with value: 0.9666379855603455 and parameters: {'solver_penalty': ('lbfgs', 'l2'), 'C': 9.89960926402737, 'tol': 0.006084567706069494, 'fit_intercept': False, 'class_weight': 'balanced', 'threshold': 0.617}. Best is trial 245 with value: 0.9694451488415339.\n",
      "[I 2025-07-02 06:40:11,287] Trial 291 finished with value: 0.9690672810952453 and parameters: {'solver_penalty': ('newton-cg', None), 'C': 7.118695938343134, 'tol': 0.03314034665102923, 'fit_intercept': True, 'class_weight': None, 'threshold': 0.32999999999999996}. Best is trial 245 with value: 0.9694451488415339.\n",
      "[I 2025-07-02 06:40:11,519] Trial 290 finished with value: 0.9691752287347377 and parameters: {'solver_penalty': ('newton-cholesky', None), 'C': 1.3700853309449221, 'tol': 0.029776395697188388, 'fit_intercept': True, 'class_weight': 'balanced', 'threshold': 0.685}. Best is trial 245 with value: 0.9694451488415339.\n",
      "[I 2025-07-02 06:40:13,852] Trial 294 finished with value: 0.9693371866283087 and parameters: {'solver_penalty': ('lbfgs', 'l2'), 'C': 0.45328498544115225, 'tol': 0.050090912497896524, 'fit_intercept': True, 'class_weight': 'balanced', 'threshold': 0.6890000000000001}. Best is trial 245 with value: 0.9694451488415339.\n",
      "[I 2025-07-02 06:40:14,189] Trial 296 finished with value: 0.9693371574808429 and parameters: {'solver_penalty': ('lbfgs', 'l2'), 'C': 1.994300852336295, 'tol': 0.05616547549247084, 'fit_intercept': True, 'class_weight': None, 'threshold': 0.365}. Best is trial 245 with value: 0.9694451488415339.\n",
      "[I 2025-07-02 06:40:14,562] Trial 297 finished with value: 0.9689593334557527 and parameters: {'solver_penalty': ('liblinear', 'l2'), 'C': 6.596329735274925, 'tol': 0.09740813940827803, 'fit_intercept': True, 'class_weight': 'balanced', 'threshold': 0.363}. Best is trial 245 with value: 0.9694451488415339.\n",
      "[I 2025-07-02 06:40:15,654] Trial 295 finished with value: 0.9691212476281249 and parameters: {'solver_penalty': ('newton-cholesky', None), 'C': 2.2531191219336955, 'tol': 0.0268524812566347, 'fit_intercept': True, 'class_weight': 'balanced', 'threshold': 0.663}. Best is trial 245 with value: 0.9694451488415339.\n",
      "[I 2025-07-02 06:40:17,556] Trial 300 finished with value: 0.9692831763742303 and parameters: {'solver_penalty': ('liblinear', 'l1'), 'C': 0.05000369672187436, 'tol': 0.03133599704646359, 'fit_intercept': True, 'class_weight': 'balanced', 'threshold': 0.673}. Best is trial 245 with value: 0.9694451488415339.\n",
      "[I 2025-07-02 06:40:17,584] Trial 298 finished with value: 0.9693371720545759 and parameters: {'solver_penalty': ('lbfgs', 'l2'), 'C': 1.5689317663336653, 'tol': 0.018344578873999724, 'fit_intercept': True, 'class_weight': 'balanced', 'threshold': 0.683}. Best is trial 245 with value: 0.9694451488415339.\n",
      "[I 2025-07-02 06:40:18,174] Trial 299 finished with value: 0.9692832055216959 and parameters: {'solver_penalty': ('newton-cg', 'l2'), 'C': 0.018454872976373535, 'tol': 0.04330881355932705, 'fit_intercept': True, 'class_weight': 'balanced', 'threshold': 0.621}. Best is trial 245 with value: 0.9694451488415339.\n",
      "[I 2025-07-02 06:40:19,355] Trial 301 finished with value: 0.9693911677349213 and parameters: {'solver_penalty': ('lbfgs', 'l2'), 'C': 2.2562540801574302, 'tol': 0.020291227862024804, 'fit_intercept': True, 'class_weight': 'balanced', 'threshold': 0.6799999999999999}. Best is trial 245 with value: 0.9694451488415339.\n",
      "[I 2025-07-02 06:40:20,079] Trial 303 finished with value: 0.9693371574808429 and parameters: {'solver_penalty': ('liblinear', 'l2'), 'C': 1.2591593636191996, 'tol': 0.04501852560147766, 'fit_intercept': True, 'class_weight': None, 'threshold': 0.472}. Best is trial 245 with value: 0.9694451488415339.\n",
      "[I 2025-07-02 06:40:21,283] Trial 302 finished with value: 0.9693371720545759 and parameters: {'solver_penalty': ('lbfgs', 'l2'), 'C': 0.3929690405185182, 'tol': 0.021953373401095294, 'fit_intercept': True, 'class_weight': 'balanced', 'threshold': 0.6970000000000001}. Best is trial 245 with value: 0.9694451488415339.\n",
      "[I 2025-07-02 06:40:22,484] Trial 304 finished with value: 0.9692292098413503 and parameters: {'solver_penalty': ('newton-cholesky', 'l2'), 'C': 4.918026800165713, 'tol': 0.0127253960206315, 'fit_intercept': True, 'class_weight': None, 'threshold': 0.431}. Best is trial 245 with value: 0.9694451488415339.\n",
      "[I 2025-07-02 06:40:22,848] Trial 306 finished with value: 0.9692831763742303 and parameters: {'solver_penalty': ('liblinear', 'l1'), 'C': 3.2382378936180247, 'tol': 0.05046171203403223, 'fit_intercept': True, 'class_weight': None, 'threshold': 0.428}. Best is trial 245 with value: 0.9694451488415339.\n",
      "[I 2025-07-02 06:40:23,034] Trial 305 finished with value: 0.9692292244150833 and parameters: {'solver_penalty': ('lbfgs', 'l2'), 'C': 0.745683107262572, 'tol': 0.03567077269805519, 'fit_intercept': True, 'class_weight': 'balanced', 'threshold': 0.626}. Best is trial 245 with value: 0.9694451488415339.\n",
      "[I 2025-07-02 06:40:24,834] Trial 307 finished with value: 0.9691212767755907 and parameters: {'solver_penalty': ('newton-cholesky', 'l2'), 'C': 1.0704464742421331, 'tol': 0.07759584513264169, 'fit_intercept': True, 'class_weight': None, 'threshold': 0.34299999999999997}. Best is trial 245 with value: 0.9694451488415339.\n",
      "[I 2025-07-02 06:40:25,981] Trial 308 finished with value: 0.9693371720545759 and parameters: {'solver_penalty': ('newton-cholesky', 'l2'), 'C': 3.0830212628391487, 'tol': 0.0954885521310132, 'fit_intercept': True, 'class_weight': None, 'threshold': 0.486}. Best is trial 245 with value: 0.9694451488415339.\n",
      "[I 2025-07-02 06:40:26,175] Trial 310 finished with value: 0.8923519235870039 and parameters: {'solver_penalty': ('newton-cholesky', 'l2'), 'C': 9.205162869070794, 'tol': 0.05476288710274013, 'fit_intercept': False, 'class_weight': None, 'threshold': 0.5660000000000001}. Best is trial 245 with value: 0.9694451488415339.\n",
      "[I 2025-07-02 06:40:26,505] Trial 309 finished with value: 0.9693371720545759 and parameters: {'solver_penalty': ('newton-cholesky', 'l2'), 'C': 0.06549752521674196, 'tol': 0.0887266834920524, 'fit_intercept': True, 'class_weight': None, 'threshold': 0.46699999999999997}. Best is trial 245 with value: 0.9694451488415339.\n",
      "[I 2025-07-02 06:40:27,679] Trial 311 finished with value: 0.9591341599554626 and parameters: {'solver_penalty': ('liblinear', 'l2'), 'C': 3.070305652001675, 'tol': 0.05847228202944897, 'fit_intercept': False, 'class_weight': 'balanced', 'threshold': 0.5569999999999999}. Best is trial 245 with value: 0.9694451488415339.\n",
      "[I 2025-07-02 06:40:29,432] Trial 313 finished with value: 0.9691212767755907 and parameters: {'solver_penalty': ('liblinear', 'l2'), 'C': 0.004593898729270129, 'tol': 0.09597939208568837, 'fit_intercept': True, 'class_weight': None, 'threshold': 0.366}. Best is trial 245 with value: 0.9694451488415339.\n",
      "[I 2025-07-02 06:40:29,435] Trial 312 finished with value: 0.9692832055216959 and parameters: {'solver_penalty': ('liblinear', 'l2'), 'C': 3.3681194979261435, 'tol': 0.021526361732739398, 'fit_intercept': True, 'class_weight': None, 'threshold': 0.347}. Best is trial 245 with value: 0.9694451488415339.\n",
      "[I 2025-07-02 06:40:29,682] Trial 314 finished with value: 0.9691752433084705 and parameters: {'solver_penalty': ('liblinear', 'l1'), 'C': 2.94520647600012, 'tol': 0.0011875899125498813, 'fit_intercept': True, 'class_weight': 'balanced', 'threshold': 0.5569999999999999}. Best is trial 245 with value: 0.9694451488415339.\n",
      "[I 2025-07-02 06:40:31,758] Trial 315 finished with value: 0.8217947697787416 and parameters: {'solver_penalty': ('newton-cholesky', 'l2'), 'C': 9.871444608596377, 'tol': 0.07669085828928417, 'fit_intercept': False, 'class_weight': 'balanced', 'threshold': 0.518}. Best is trial 245 with value: 0.9694451488415339.\n",
      "[I 2025-07-02 06:40:32,689] Trial 316 finished with value: 0.9692831763742303 and parameters: {'solver_penalty': ('lbfgs', 'l2'), 'C': 3.8213162316156772, 'tol': 0.005431635903669586, 'fit_intercept': True, 'class_weight': None, 'threshold': 0.56}. Best is trial 245 with value: 0.9694451488415339.\n",
      "[I 2025-07-02 06:40:32,695] Trial 317 finished with value: 0.9692831763742303 and parameters: {'solver_penalty': ('liblinear', 'l1'), 'C': 3.922015437727481, 'tol': 0.024237150897187785, 'fit_intercept': True, 'class_weight': 'balanced', 'threshold': 0.663}. Best is trial 245 with value: 0.9694451488415339.\n",
      "[I 2025-07-02 06:40:33,299] Trial 318 finished with value: 0.9693911677349213 and parameters: {'solver_penalty': ('lbfgs', None), 'C': 4.379519918041959, 'tol': 0.03320003010669935, 'fit_intercept': True, 'class_weight': 'balanced', 'threshold': 0.6890000000000001}. Best is trial 245 with value: 0.9694451488415339.\n",
      "[I 2025-07-02 06:40:35,107] Trial 321 finished with value: 0.7541536741837982 and parameters: {'solver_penalty': ('lbfgs', None), 'C': 6.572747468309604, 'tol': 0.025340263179620726, 'fit_intercept': False, 'class_weight': None, 'threshold': 0.517}. Best is trial 245 with value: 0.9694451488415339.\n",
      "[I 2025-07-02 06:40:36,313] Trial 320 finished with value: 0.9626971461716263 and parameters: {'solver_penalty': ('newton-cg', 'l2'), 'C': 5.846892374159209, 'tol': 0.09442718641641445, 'fit_intercept': False, 'class_weight': 'balanced', 'threshold': 0.54}. Best is trial 245 with value: 0.9694451488415339.\n",
      "[I 2025-07-02 06:40:36,507] Trial 319 finished with value: 0.9693371574808429 and parameters: {'solver_penalty': ('newton-cg', 'l2'), 'C': 0.3454020217080896, 'tol': 0.025299139603222026, 'fit_intercept': True, 'class_weight': 'balanced', 'threshold': 0.6950000000000001}. Best is trial 245 with value: 0.9694451488415339.\n",
      "[I 2025-07-02 06:40:36,873] Trial 322 finished with value: 0.9692292244150833 and parameters: {'solver_penalty': ('lbfgs', 'l2'), 'C': 3.0284185018382326, 'tol': 0.034746202656482345, 'fit_intercept': True, 'class_weight': 'balanced', 'threshold': 0.624}. Best is trial 245 with value: 0.9694451488415339.\n",
      "[I 2025-07-02 06:40:38,412] Trial 323 finished with value: 0.9693911677349213 and parameters: {'solver_penalty': ('newton-cholesky', 'l2'), 'C': 0.05175260048933683, 'tol': 0.062354405714261416, 'fit_intercept': True, 'class_weight': None, 'threshold': 0.44899999999999995}. Best is trial 245 with value: 0.9694451488415339.\n",
      "[I 2025-07-02 06:40:39,758] Trial 325 finished with value: 0.2604729030584436 and parameters: {'solver_penalty': ('liblinear', 'l1'), 'C': 0.9920216449657691, 'tol': 0.07446580796096092, 'fit_intercept': False, 'class_weight': 'balanced', 'threshold': 0.5}. Best is trial 245 with value: 0.9694451488415339.\n",
      "[I 2025-07-02 06:40:39,796] Trial 326 finished with value: 0.2604729030584436 and parameters: {'solver_penalty': ('lbfgs', 'l2'), 'C': 2.996188021847764, 'tol': 0.0735469164061106, 'fit_intercept': False, 'class_weight': None, 'threshold': 0.394}. Best is trial 245 with value: 0.9694451488415339.\n",
      "[I 2025-07-02 06:40:40,273] Trial 324 finished with value: 0.9692832055216959 and parameters: {'solver_penalty': ('lbfgs', 'l2'), 'C': 4.565207587168627, 'tol': 0.030787055563314944, 'fit_intercept': True, 'class_weight': 'balanced', 'threshold': 0.655}. Best is trial 245 with value: 0.9694451488415339.\n",
      "[I 2025-07-02 06:40:42,108] Trial 327 finished with value: 0.9693911677349213 and parameters: {'solver_penalty': ('lbfgs', 'l2'), 'C': 0.06710624976211615, 'tol': 0.038537969194033975, 'fit_intercept': True, 'class_weight': 'balanced', 'threshold': 0.6890000000000001}. Best is trial 245 with value: 0.9694451488415339.\n",
      "[I 2025-07-02 06:40:43,355] Trial 328 finished with value: 0.9693371720545759 and parameters: {'solver_penalty': ('lbfgs', 'l2'), 'C': 4.060719162226657, 'tol': 0.011001856442900651, 'fit_intercept': True, 'class_weight': 'balanced', 'threshold': 0.698}. Best is trial 245 with value: 0.9694451488415339.\n",
      "[I 2025-07-02 06:40:43,860] Trial 330 finished with value: 0.9692832055216959 and parameters: {'solver_penalty': ('newton-cg', None), 'C': 2.8231852397480526, 'tol': 0.05138407041527238, 'fit_intercept': True, 'class_weight': None, 'threshold': 0.418}. Best is trial 245 with value: 0.9694451488415339.\n",
      "[I 2025-07-02 06:40:44,823] Trial 331 finished with value: 0.9691212184806591 and parameters: {'solver_penalty': ('liblinear', 'l1'), 'C': 7.1267557466618205, 'tol': 0.02253206075393295, 'fit_intercept': True, 'class_weight': None, 'threshold': 0.6990000000000001}. Best is trial 245 with value: 0.9694451488415339.\n",
      "[I 2025-07-02 06:40:45,158] Trial 329 finished with value: 0.9693371720545759 and parameters: {'solver_penalty': ('newton-cg', 'l2'), 'C': 2.6941418913647204, 'tol': 0.0017305177091818252, 'fit_intercept': True, 'class_weight': None, 'threshold': 0.412}. Best is trial 245 with value: 0.9694451488415339.\n",
      "[I 2025-07-02 06:40:46,140] Trial 332 finished with value: 0.9692831909479631 and parameters: {'solver_penalty': ('liblinear', 'l1'), 'C': 0.1105551337257198, 'tol': 0.06667174875041458, 'fit_intercept': True, 'class_weight': None, 'threshold': 0.381}. Best is trial 245 with value: 0.9694451488415339.\n",
      "[I 2025-07-02 06:40:46,683] Trial 333 finished with value: 0.9693371574808429 and parameters: {'solver_penalty': ('liblinear', 'l2'), 'C': 0.0042394913110119226, 'tol': 0.04957303707920514, 'fit_intercept': True, 'class_weight': 'balanced', 'threshold': 0.6890000000000001}. Best is trial 245 with value: 0.9694451488415339.\n",
      "[I 2025-07-02 06:40:47,446] Trial 334 finished with value: 0.968635403094878 and parameters: {'solver_penalty': ('lbfgs', 'l2'), 'C': 2.414806114404319, 'tol': 0.05195020501502184, 'fit_intercept': True, 'class_weight': None, 'threshold': 0.54}. Best is trial 245 with value: 0.9694451488415339.\n",
      "[I 2025-07-02 06:40:49,365] Trial 335 finished with value: 0.9693911677349213 and parameters: {'solver_penalty': ('lbfgs', 'l2'), 'C': 2.075631220720943, 'tol': 0.0020952907582869502, 'fit_intercept': True, 'class_weight': 'balanced', 'threshold': 0.648}. Best is trial 245 with value: 0.9694451488415339.\n",
      "[I 2025-07-02 06:40:50,816] Trial 336 finished with value: 0.9686894133489563 and parameters: {'solver_penalty': ('newton-cholesky', None), 'C': 9.530267611585229, 'tol': 0.0013991001977639375, 'fit_intercept': True, 'class_weight': 'balanced', 'threshold': 0.362}. Best is trial 245 with value: 0.9694451488415339.\n",
      "[I 2025-07-02 06:40:50,975] Trial 337 finished with value: 0.9693911677349213 and parameters: {'solver_penalty': ('lbfgs', 'l2'), 'C': 2.647129024475511, 'tol': 0.00033817658731735353, 'fit_intercept': True, 'class_weight': 'balanced', 'threshold': 0.636}. Best is trial 245 with value: 0.9694451488415339.\n",
      "[I 2025-07-02 06:40:50,977] Trial 338 finished with value: 0.7157177126234759 and parameters: {'solver_penalty': ('newton-cholesky', None), 'C': 7.112575317082701, 'tol': 0.038446257403043874, 'fit_intercept': False, 'class_weight': None, 'threshold': 0.432}. Best is trial 245 with value: 0.9694451488415339.\n",
      "[I 2025-07-02 06:40:52,190] Trial 339 finished with value: 0.9689593480294855 and parameters: {'solver_penalty': ('lbfgs', None), 'C': 0.9160521269729519, 'tol': 0.05019316624519513, 'fit_intercept': False, 'class_weight': 'balanced', 'threshold': 0.687}. Best is trial 245 with value: 0.9694451488415339.\n",
      "[I 2025-07-02 06:40:54,084] Trial 341 finished with value: 0.9692832055216959 and parameters: {'solver_penalty': ('lbfgs', 'l2'), 'C': 2.6065266924105313, 'tol': 0.041305996491698124, 'fit_intercept': True, 'class_weight': 'balanced', 'threshold': 0.659}. Best is trial 245 with value: 0.9694451488415339.\n",
      "[I 2025-07-02 06:40:54,266] Trial 340 finished with value: 0.9691752433084705 and parameters: {'solver_penalty': ('newton-cg', 'l2'), 'C': 1.6582885431260257, 'tol': 0.05001146884942812, 'fit_intercept': True, 'class_weight': None, 'threshold': 0.395}. Best is trial 245 with value: 0.9694451488415339.\n",
      "[I 2025-07-02 06:40:55,299] Trial 342 finished with value: 0.9693371574808429 and parameters: {'solver_penalty': ('newton-cg', 'l2'), 'C': 3.564974643790806, 'tol': 0.017014621501561085, 'fit_intercept': True, 'class_weight': 'balanced', 'threshold': 0.692}. Best is trial 245 with value: 0.9694451488415339.\n",
      "[I 2025-07-02 06:40:56,284] Trial 343 finished with value: 0.9689593480294855 and parameters: {'solver_penalty': ('newton-cg', None), 'C': 2.191437933666232, 'tol': 0.03972289266652017, 'fit_intercept': True, 'class_weight': 'balanced', 'threshold': 0.412}. Best is trial 245 with value: 0.9694451488415339.\n",
      "[I 2025-07-02 06:40:56,790] Trial 345 finished with value: 0.9691212476281251 and parameters: {'solver_penalty': ('liblinear', 'l2'), 'C': 4.362891826531553, 'tol': 0.004340616169556359, 'fit_intercept': True, 'class_weight': None, 'threshold': 0.396}. Best is trial 245 with value: 0.9694451488415339.\n",
      "[I 2025-07-02 06:40:57,171] Trial 344 finished with value: 0.9691752433084705 and parameters: {'solver_penalty': ('newton-cg', 'l2'), 'C': 1.1727231150726374, 'tol': 0.05718374975363699, 'fit_intercept': True, 'class_weight': None, 'threshold': 0.416}. Best is trial 245 with value: 0.9694451488415339.\n",
      "[I 2025-07-02 06:40:58,222] Trial 346 finished with value: 0.9689593480294855 and parameters: {'solver_penalty': ('lbfgs', 'l2'), 'C': 1.0452614982017117, 'tol': 0.03117806117680212, 'fit_intercept': False, 'class_weight': 'balanced', 'threshold': 0.6890000000000001}. Best is trial 245 with value: 0.9694451488415339.\n",
      "[I 2025-07-02 06:40:59,381] Trial 348 finished with value: 0.9690673102427109 and parameters: {'solver_penalty': ('lbfgs', 'l2'), 'C': 1.6628538429473088, 'tol': 0.02206473229137453, 'fit_intercept': False, 'class_weight': 'balanced', 'threshold': 0.6990000000000001}. Best is trial 245 with value: 0.9694451488415339.\n",
      "[I 2025-07-02 06:41:01,051] Trial 350 finished with value: 0.9692831763742303 and parameters: {'solver_penalty': ('liblinear', 'l1'), 'C': 0.11521524225140134, 'tol': 0.06325912095649584, 'fit_intercept': True, 'class_weight': 'balanced', 'threshold': 0.687}. Best is trial 245 with value: 0.9694451488415339.\n",
      "[I 2025-07-02 06:41:01,392] Trial 347 finished with value: 0.9691751995872719 and parameters: {'solver_penalty': ('newton-cg', None), 'C': 5.177045667372579, 'tol': 0.002402689856962459, 'fit_intercept': True, 'class_weight': None, 'threshold': 0.696}. Best is trial 245 with value: 0.9694451488415339.\n",
      "[I 2025-07-02 06:41:01,738] Trial 349 finished with value: 0.9690672810952451 and parameters: {'solver_penalty': ('newton-cholesky', None), 'C': 3.792925054755127, 'tol': 0.00463024026212208, 'fit_intercept': True, 'class_weight': 'balanced', 'threshold': 0.587}. Best is trial 245 with value: 0.9694451488415339.\n",
      "[I 2025-07-02 06:41:02,115] Trial 351 finished with value: 0.9690673102427109 and parameters: {'solver_penalty': ('lbfgs', 'l2'), 'C': 0.2952209520972018, 'tol': 0.06160739414447068, 'fit_intercept': False, 'class_weight': 'balanced', 'threshold': 0.6639999999999999}. Best is trial 245 with value: 0.9694451488415339.\n",
      "[I 2025-07-02 06:41:04,071] Trial 352 finished with value: 0.2604729030584436 and parameters: {'solver_penalty': ('liblinear', 'l1'), 'C': 8.853503550515377, 'tol': 0.0532174143008794, 'fit_intercept': False, 'class_weight': 'balanced', 'threshold': 0.347}. Best is trial 245 with value: 0.9694451488415339.\n",
      "[I 2025-07-02 06:41:04,275] Trial 354 finished with value: 0.9693371720545759 and parameters: {'solver_penalty': ('liblinear', 'l2'), 'C': 0.7490496262058115, 'tol': 0.07155223869760399, 'fit_intercept': True, 'class_weight': None, 'threshold': 0.434}. Best is trial 245 with value: 0.9694451488415339.\n",
      "[I 2025-07-02 06:41:04,962] Trial 353 finished with value: 0.9690672810952453 and parameters: {'solver_penalty': ('newton-cholesky', None), 'C': 4.485834146334561, 'tol': 0.031576989593591495, 'fit_intercept': True, 'class_weight': None, 'threshold': 0.359}. Best is trial 245 with value: 0.9694451488415339.\n",
      "[I 2025-07-02 06:41:06,447] Trial 356 finished with value: 0.2604729030584436 and parameters: {'solver_penalty': ('newton-cg', None), 'C': 1.5103088964115858, 'tol': 0.04995246977267871, 'fit_intercept': False, 'class_weight': None, 'threshold': 0.443}. Best is trial 245 with value: 0.9694451488415339.\n",
      "[I 2025-07-02 06:41:07,608] Trial 358 finished with value: 0.2604729030584436 and parameters: {'solver_penalty': ('newton-cg', 'l2'), 'C': 0.6991745756198882, 'tol': 0.07316575623543295, 'fit_intercept': False, 'class_weight': None, 'threshold': 0.479}. Best is trial 245 with value: 0.9694451488415339.\n",
      "[I 2025-07-02 06:41:07,791] Trial 355 finished with value: 0.9176167866084883 and parameters: {'solver_penalty': ('liblinear', 'l1'), 'C': 9.63165046369778, 'tol': 0.010361992136004465, 'fit_intercept': False, 'class_weight': None, 'threshold': 0.642}. Best is trial 245 with value: 0.9694451488415339.\n",
      "[I 2025-07-02 06:41:08,000] Trial 357 finished with value: 0.26112067633779584 and parameters: {'solver_penalty': ('newton-cg', 'l2'), 'C': 9.708125766017424, 'tol': 0.039010518961658955, 'fit_intercept': False, 'class_weight': 'balanced', 'threshold': 0.506}. Best is trial 245 with value: 0.9694451488415339.\n",
      "[I 2025-07-02 06:41:10,145] Trial 359 finished with value: 0.9691212913493237 and parameters: {'solver_penalty': ('newton-cholesky', 'l2'), 'C': 1.7406806199265914, 'tol': 0.061446925008758285, 'fit_intercept': True, 'class_weight': 'balanced', 'threshold': 0.444}. Best is trial 245 with value: 0.9694451488415339.\n",
      "[I 2025-07-02 06:41:10,511] Trial 361 finished with value: 0.2638746309202147 and parameters: {'solver_penalty': ('liblinear', 'l2'), 'C': 2.4997142345354666, 'tol': 0.0329879571473765, 'fit_intercept': False, 'class_weight': None, 'threshold': 0.482}. Best is trial 245 with value: 0.9694451488415339.\n",
      "[I 2025-07-02 06:41:10,888] Trial 360 finished with value: 0.9692832055216959 and parameters: {'solver_penalty': ('lbfgs', 'l2'), 'C': 2.7934735713561043, 'tol': 0.05929352810533022, 'fit_intercept': True, 'class_weight': 'balanced', 'threshold': 0.681}. Best is trial 245 with value: 0.9694451488415339.\n",
      "[I 2025-07-02 06:41:12,310] Trial 362 finished with value: 0.9691212622018579 and parameters: {'solver_penalty': ('newton-cg', 'l2'), 'C': 2.8703757253340663, 'tol': 0.0594159521008784, 'fit_intercept': True, 'class_weight': 'balanced', 'threshold': 0.581}. Best is trial 245 with value: 0.9694451488415339.\n",
      "[I 2025-07-02 06:41:13,398] Trial 365 finished with value: 0.9692292244150833 and parameters: {'solver_penalty': ('liblinear', 'l2'), 'C': 1.0561401842810916, 'tol': 0.058221628284324485, 'fit_intercept': True, 'class_weight': None, 'threshold': 0.348}. Best is trial 245 with value: 0.9694451488415339.\n",
      "[I 2025-07-02 06:41:13,614] Trial 363 finished with value: 0.9693371720545759 and parameters: {'solver_penalty': ('lbfgs', 'l2'), 'C': 1.0130782178823072, 'tol': 0.035522021941460036, 'fit_intercept': True, 'class_weight': 'balanced', 'threshold': 0.698}. Best is trial 245 with value: 0.9694451488415339.\n",
      "[I 2025-07-02 06:41:15,405] Trial 366 finished with value: 0.9691752287347377 and parameters: {'solver_penalty': ('liblinear', 'l2'), 'C': 2.124525013735188, 'tol': 0.0007817903561484858, 'fit_intercept': True, 'class_weight': 'balanced', 'threshold': 0.665}. Best is trial 245 with value: 0.9694451488415339.\n",
      "[I 2025-07-02 06:41:15,904] Trial 364 finished with value: 0.9690133291360983 and parameters: {'solver_penalty': ('newton-cg', 'l2'), 'C': 6.156090540583067, 'tol': 0.03762952792103298, 'fit_intercept': True, 'class_weight': 'balanced', 'threshold': 0.387}. Best is trial 245 with value: 0.9694451488415339.\n",
      "[I 2025-07-02 06:41:16,270] Trial 367 finished with value: 0.9691752433084705 and parameters: {'solver_penalty': ('liblinear', 'l1'), 'C': 6.587657348474272, 'tol': 0.09739301995841687, 'fit_intercept': True, 'class_weight': None, 'threshold': 0.323}. Best is trial 245 with value: 0.9694451488415339.\n",
      "[I 2025-07-02 06:41:16,461] Trial 368 finished with value: 0.9693371720545759 and parameters: {'solver_penalty': ('liblinear', 'l1'), 'C': 4.9875884499577, 'tol': 0.07390735412160118, 'fit_intercept': True, 'class_weight': None, 'threshold': 0.375}. Best is trial 245 with value: 0.9694451488415339.\n",
      "[I 2025-07-02 06:41:18,905] Trial 369 finished with value: 0.967555693520227 and parameters: {'solver_penalty': ('lbfgs', None), 'C': 0.8542090074327818, 'tol': 0.008909471092490677, 'fit_intercept': False, 'class_weight': 'balanced', 'threshold': 0.638}. Best is trial 245 with value: 0.9694451488415339.\n",
      "[I 2025-07-02 06:41:19,468] Trial 371 finished with value: 0.9690133291360983 and parameters: {'solver_penalty': ('lbfgs', 'l2'), 'C': 6.486524941369108, 'tol': 0.05985379780067246, 'fit_intercept': True, 'class_weight': 'balanced', 'threshold': 0.422}. Best is trial 245 with value: 0.9694451488415339.\n",
      "[I 2025-07-02 06:41:19,851] Trial 372 finished with value: 0.9692831763742303 and parameters: {'solver_penalty': ('lbfgs', 'l2'), 'C': 0.11751448510772938, 'tol': 0.011675741538380895, 'fit_intercept': True, 'class_weight': None, 'threshold': 0.565}. Best is trial 245 with value: 0.9694451488415339.\n",
      "[I 2025-07-02 06:41:21,007] Trial 370 finished with value: 0.9691752433084705 and parameters: {'solver_penalty': ('newton-cg', 'l2'), 'C': 0.36049961773408323, 'tol': 0.028803357035783315, 'fit_intercept': True, 'class_weight': 'balanced', 'threshold': 0.581}. Best is trial 245 with value: 0.9694451488415339.\n",
      "[I 2025-07-02 06:41:21,370] Trial 373 finished with value: 0.28903661796125135 and parameters: {'solver_penalty': ('liblinear', 'l2'), 'C': 5.86051356935365, 'tol': 0.03163169904162587, 'fit_intercept': False, 'class_weight': None, 'threshold': 0.384}. Best is trial 245 with value: 0.9694451488415339.\n",
      "[I 2025-07-02 06:41:22,986] Trial 375 finished with value: 0.9693371720545759 and parameters: {'solver_penalty': ('liblinear', 'l1'), 'C': 1.78745393495408, 'tol': 0.019916301044993395, 'fit_intercept': True, 'class_weight': None, 'threshold': 0.374}. Best is trial 245 with value: 0.9694451488415339.\n",
      "[I 2025-07-02 06:41:23,822] Trial 376 finished with value: 0.9691752433084705 and parameters: {'solver_penalty': ('liblinear', 'l2'), 'C': 2.3800791078336943, 'tol': 0.03799190620233513, 'fit_intercept': True, 'class_weight': 'balanced', 'threshold': 0.526}. Best is trial 245 with value: 0.9694451488415339.\n",
      "[I 2025-07-02 06:41:24,213] Trial 377 finished with value: 0.9692291952676175 and parameters: {'solver_penalty': ('liblinear', 'l1'), 'C': 4.329790203883608, 'tol': 0.01285135869998573, 'fit_intercept': True, 'class_weight': 'balanced', 'threshold': 0.6990000000000001}. Best is trial 245 with value: 0.9694451488415339.\n",
      "[I 2025-07-02 06:41:24,435] Trial 374 finished with value: 0.9693911677349213 and parameters: {'solver_penalty': ('newton-cg', None), 'C': 0.3244576052460818, 'tol': 0.03812941877638392, 'fit_intercept': True, 'class_weight': 'balanced', 'threshold': 0.622}. Best is trial 245 with value: 0.9694451488415339.\n",
      "[I 2025-07-02 06:41:26,265] Trial 378 finished with value: 0.9691752433084705 and parameters: {'solver_penalty': ('lbfgs', 'l2'), 'C': 0.450178752826233, 'tol': 0.024116719562102797, 'fit_intercept': True, 'class_weight': 'balanced', 'threshold': 0.604}. Best is trial 245 with value: 0.9694451488415339.\n",
      "[I 2025-07-02 06:41:27,569] Trial 379 finished with value: 0.30231051961187233 and parameters: {'solver_penalty': ('newton-cholesky', 'l2'), 'C': 2.882762929985443, 'tol': 0.09768423372078311, 'fit_intercept': False, 'class_weight': 'balanced', 'threshold': 0.397}. Best is trial 245 with value: 0.9694451488415339.\n",
      "[I 2025-07-02 06:41:27,740] Trial 380 finished with value: 0.9692291661201518 and parameters: {'solver_penalty': ('newton-cg', 'l2'), 'C': 2.521343760264311, 'tol': 0.07336083827943833, 'fit_intercept': True, 'class_weight': None, 'threshold': 0.614}. Best is trial 245 with value: 0.9694451488415339.\n",
      "[I 2025-07-02 06:41:27,940] Trial 381 finished with value: 0.9690132854148995 and parameters: {'solver_penalty': ('newton-cholesky', None), 'C': 7.31140287025029, 'tol': 0.0718403864765838, 'fit_intercept': True, 'class_weight': None, 'threshold': 0.438}. Best is trial 245 with value: 0.9694451488415339.\n",
      "[I 2025-07-02 06:41:28,844] Trial 382 finished with value: 0.9693371720545759 and parameters: {'solver_penalty': ('liblinear', 'l2'), 'C': 1.0786670945944523, 'tol': 0.0169852074909525, 'fit_intercept': True, 'class_weight': None, 'threshold': 0.409}. Best is trial 245 with value: 0.9694451488415339.\n",
      "[I 2025-07-02 06:41:30,345] Trial 385 finished with value: 0.9692832055216959 and parameters: {'solver_penalty': ('liblinear', 'l2'), 'C': 3.3069871960096133, 'tol': 0.023196769339447025, 'fit_intercept': True, 'class_weight': None, 'threshold': 0.353}. Best is trial 245 with value: 0.9694451488415339.\n",
      "[I 2025-07-02 06:41:31,210] Trial 384 finished with value: 0.9691752433084705 and parameters: {'solver_penalty': ('lbfgs', None), 'C': 0.25351236783064224, 'tol': 0.02732575376707131, 'fit_intercept': True, 'class_weight': 'balanced', 'threshold': 0.635}. Best is trial 245 with value: 0.9694451488415339.\n",
      "[I 2025-07-02 06:41:31,895] Trial 383 finished with value: 0.9692831763742303 and parameters: {'solver_penalty': ('newton-cg', None), 'C': 0.6922162687816651, 'tol': 0.07138171087483863, 'fit_intercept': True, 'class_weight': 'balanced', 'threshold': 0.69}. Best is trial 245 with value: 0.9694451488415339.\n",
      "[I 2025-07-02 06:41:33,414] Trial 386 finished with value: 0.9691212622018579 and parameters: {'solver_penalty': ('newton-cholesky', 'l2'), 'C': 5.008816758883852, 'tol': 0.0015093301572608568, 'fit_intercept': True, 'class_weight': 'balanced', 'threshold': 0.59}. Best is trial 245 with value: 0.9694451488415339.\n",
      "[I 2025-07-02 06:41:33,742] Trial 388 finished with value: 0.8830153199080106 and parameters: {'solver_penalty': ('liblinear', 'l1'), 'C': 3.4515934684658633, 'tol': 0.07301005781420278, 'fit_intercept': False, 'class_weight': None, 'threshold': 0.522}. Best is trial 245 with value: 0.9694451488415339.\n",
      "[I 2025-07-02 06:41:33,742] Trial 387 finished with value: 0.9689593334557527 and parameters: {'solver_penalty': ('newton-cg', 'l2'), 'C': 6.339792165195767, 'tol': 0.05718697304539002, 'fit_intercept': True, 'class_weight': None, 'threshold': 0.359}. Best is trial 245 with value: 0.9694451488415339.\n",
      "[I 2025-07-02 06:41:35,933] Trial 389 finished with value: 0.9693371720545759 and parameters: {'solver_penalty': ('lbfgs', 'l2'), 'C': 2.0880768039588116, 'tol': 0.017608697303087038, 'fit_intercept': True, 'class_weight': 'balanced', 'threshold': 0.679}. Best is trial 245 with value: 0.9694451488415339.\n",
      "[I 2025-07-02 06:41:36,821] Trial 390 finished with value: 0.9691752433084705 and parameters: {'solver_penalty': ('newton-cholesky', 'l2'), 'C': 2.3615681299317126, 'tol': 0.04887832630199163, 'fit_intercept': True, 'class_weight': None, 'threshold': 0.424}. Best is trial 245 with value: 0.9694451488415339.\n",
      "[I 2025-07-02 06:41:37,166] Trial 391 finished with value: 0.9693911677349213 and parameters: {'solver_penalty': ('lbfgs', 'l2'), 'C': 0.7021470256120209, 'tol': 0.056086655587032144, 'fit_intercept': True, 'class_weight': 'balanced', 'threshold': 0.698}. Best is trial 245 with value: 0.9694451488415339.\n",
      "[I 2025-07-02 06:41:37,402] Trial 392 finished with value: 0.9692292244150833 and parameters: {'solver_penalty': ('lbfgs', 'l2'), 'C': 1.9135405197698216, 'tol': 0.03459226950702729, 'fit_intercept': True, 'class_weight': 'balanced', 'threshold': 0.622}. Best is trial 245 with value: 0.9694451488415339.\n",
      "[I 2025-07-02 06:41:38,776] Trial 393 finished with value: 0.9675017269873472 and parameters: {'solver_penalty': ('lbfgs', None), 'C': 0.5141203174435898, 'tol': 0.04926476766952085, 'fit_intercept': True, 'class_weight': None, 'threshold': 0.635}. Best is trial 245 with value: 0.9694451488415339.\n",
      "[I 2025-07-02 06:41:40,020] Trial 394 finished with value: 0.9693911385874555 and parameters: {'solver_penalty': ('newton-cholesky', 'l2'), 'C': 0.22820131805444288, 'tol': 0.053904757309897106, 'fit_intercept': True, 'class_weight': None, 'threshold': 0.508}. Best is trial 245 with value: 0.9694451488415339.\n",
      "[I 2025-07-02 06:41:41,570] Trial 397 finished with value: 0.9686893696277578 and parameters: {'solver_penalty': ('lbfgs', 'l2'), 'C': 0.1943474305973545, 'tol': 0.0705323857985073, 'fit_intercept': True, 'class_weight': None, 'threshold': 0.524}. Best is trial 245 with value: 0.9694451488415339.\n",
      "[I 2025-07-02 06:41:41,773] Trial 396 finished with value: 0.9693371720545759 and parameters: {'solver_penalty': ('lbfgs', None), 'C': 0.6512110731921895, 'tol': 0.004335710433847789, 'fit_intercept': True, 'class_weight': 'balanced', 'threshold': 0.685}. Best is trial 245 with value: 0.9694451488415339.\n",
      "[I 2025-07-02 06:41:42,112] Trial 395 finished with value: 0.9692831763742301 and parameters: {'solver_penalty': ('newton-cg', 'l2'), 'C': 0.27857992158163525, 'tol': 0.05351494258349374, 'fit_intercept': True, 'class_weight': 'balanced', 'threshold': 0.7}. Best is trial 245 with value: 0.9694451488415339.\n",
      "[I 2025-07-02 06:41:42,488] Trial 398 finished with value: 0.2604729030584436 and parameters: {'solver_penalty': ('lbfgs', None), 'C': 1.7620398300401883, 'tol': 0.06741116959708902, 'fit_intercept': False, 'class_weight': None, 'threshold': 0.393}. Best is trial 245 with value: 0.9694451488415339.\n",
      "[I 2025-07-02 06:41:44,815] Trial 401 finished with value: 0.9693911677349213 and parameters: {'solver_penalty': ('liblinear', 'l2'), 'C': 1.3420133869635142, 'tol': 0.057685560648966815, 'fit_intercept': True, 'class_weight': None, 'threshold': 0.42}. Best is trial 245 with value: 0.9694451488415339.\n",
      "[I 2025-07-02 06:41:44,818] Trial 399 finished with value: 0.9693911677349213 and parameters: {'solver_penalty': ('liblinear', 'l2'), 'C': 0.4028017426933636, 'tol': 0.057315346528897464, 'fit_intercept': True, 'class_weight': None, 'threshold': 0.415}. Best is trial 245 with value: 0.9694451488415339.\n",
      "[I 2025-07-02 06:41:45,422] Trial 400 finished with value: 0.9690673102427109 and parameters: {'solver_penalty': ('lbfgs', 'l2'), 'C': 0.5542677309697694, 'tol': 0.04877543744425882, 'fit_intercept': True, 'class_weight': 'balanced', 'threshold': 0.417}. Best is trial 245 with value: 0.9694451488415339.\n",
      "[I 2025-07-02 06:41:46,932] Trial 402 finished with value: 0.9692831909479631 and parameters: {'solver_penalty': ('newton-cholesky', 'l2'), 'C': 3.484888659814324, 'tol': 0.01743492171228155, 'fit_intercept': True, 'class_weight': 'balanced', 'threshold': 0.6890000000000001}. Best is trial 245 with value: 0.9694451488415339.\n",
      "[I 2025-07-02 06:41:47,622] Trial 404 finished with value: 0.9692832055216959 and parameters: {'solver_penalty': ('lbfgs', 'l2'), 'C': 2.611560663379432, 'tol': 0.04821888421664667, 'fit_intercept': True, 'class_weight': 'balanced', 'threshold': 0.687}. Best is trial 245 with value: 0.9694451488415339.\n",
      "[I 2025-07-02 06:41:48,644] Trial 405 finished with value: 0.9693371720545759 and parameters: {'solver_penalty': ('newton-cg', 'l2'), 'C': 1.9449447350432623, 'tol': 0.049516133199779384, 'fit_intercept': True, 'class_weight': None, 'threshold': 0.46699999999999997}. Best is trial 245 with value: 0.9694451488415339.\n",
      "[I 2025-07-02 06:41:49,354] Trial 406 finished with value: 0.2604729030584436 and parameters: {'solver_penalty': ('liblinear', 'l2'), 'C': 7.50499846890065, 'tol': 0.01257419844033772, 'fit_intercept': False, 'class_weight': 'balanced', 'threshold': 0.505}. Best is trial 245 with value: 0.9694451488415339.\n",
      "[I 2025-07-02 06:41:50,484] Trial 403 finished with value: 0.9693371720545759 and parameters: {'solver_penalty': ('newton-cg', None), 'C': 0.7803384481213529, 'tol': 0.0022963984607828614, 'fit_intercept': True, 'class_weight': 'balanced', 'threshold': 0.6559999999999999}. Best is trial 245 with value: 0.9694451488415339.\n",
      "[I 2025-07-02 06:41:51,741] Trial 407 finished with value: 0.9693911677349213 and parameters: {'solver_penalty': ('lbfgs', 'l2'), 'C': 0.05804505097340029, 'tol': 0.017724644124174405, 'fit_intercept': True, 'class_weight': 'balanced', 'threshold': 0.638}. Best is trial 245 with value: 0.9694451488415339.\n",
      "[I 2025-07-02 06:41:52,139] Trial 408 finished with value: 0.9692291952676175 and parameters: {'solver_penalty': ('liblinear', 'l1'), 'C': 0.8377958201194402, 'tol': 0.08457450029600097, 'fit_intercept': True, 'class_weight': None, 'threshold': 0.49}. Best is trial 245 with value: 0.9694451488415339.\n",
      "[I 2025-07-02 06:41:52,715] Trial 409 finished with value: 0.9692292244150833 and parameters: {'solver_penalty': ('lbfgs', 'l2'), 'C': 0.9066071547699655, 'tol': 0.009381011418450377, 'fit_intercept': True, 'class_weight': None, 'threshold': 0.347}. Best is trial 245 with value: 0.9694451488415339.\n",
      "[I 2025-07-02 06:41:53,239] Trial 410 finished with value: 0.9692831763742303 and parameters: {'solver_penalty': ('liblinear', 'l1'), 'C': 2.9052084330658814, 'tol': 0.09565269841580515, 'fit_intercept': True, 'class_weight': None, 'threshold': 0.398}. Best is trial 245 with value: 0.9694451488415339.\n",
      "[I 2025-07-02 06:41:55,258] Trial 413 finished with value: 0.9691751995872719 and parameters: {'solver_penalty': ('liblinear', 'l2'), 'C': 0.1626794177546862, 'tol': 0.029855381683716112, 'fit_intercept': True, 'class_weight': None, 'threshold': 0.692}. Best is trial 245 with value: 0.9694451488415339.\n",
      "[I 2025-07-02 06:41:55,621] Trial 411 finished with value: 0.9693371720545759 and parameters: {'solver_penalty': ('lbfgs', 'l2'), 'C': 0.017586453702142846, 'tol': 0.029796170536621543, 'fit_intercept': True, 'class_weight': 'balanced', 'threshold': 0.694}. Best is trial 245 with value: 0.9694451488415339.\n",
      "[I 2025-07-02 06:41:56,217] Trial 412 finished with value: 0.9691752287347377 and parameters: {'solver_penalty': ('newton-cholesky', None), 'C': 0.3236014952051698, 'tol': 0.009961430055667287, 'fit_intercept': True, 'class_weight': 'balanced', 'threshold': 0.685}. Best is trial 245 with value: 0.9694451488415339.\n",
      "[I 2025-07-02 06:41:57,143] Trial 414 finished with value: 0.9689593480294855 and parameters: {'solver_penalty': ('lbfgs', None), 'C': 3.88484239617275, 'tol': 0.019567757416869905, 'fit_intercept': True, 'class_weight': 'balanced', 'threshold': 0.33299999999999996}. Best is trial 245 with value: 0.9694451488415339.\n",
      "[I 2025-07-02 06:41:58,786] Trial 415 finished with value: 0.9691751850135392 and parameters: {'solver_penalty': ('newton-cg', 'l2'), 'C': 1.9664439939094573, 'tol': 0.04193037752151059, 'fit_intercept': True, 'class_weight': None, 'threshold': 0.671}. Best is trial 245 with value: 0.9694451488415339.\n",
      "[I 2025-07-02 06:41:59,934] Trial 418 finished with value: 0.9693371720545759 and parameters: {'solver_penalty': ('liblinear', 'l2'), 'C': 2.711294314400003, 'tol': 0.025759071193791658, 'fit_intercept': True, 'class_weight': None, 'threshold': 0.414}. Best is trial 245 with value: 0.9694451488415339.\n",
      "[I 2025-07-02 06:42:00,081] Trial 416 finished with value: 0.9693371720545759 and parameters: {'solver_penalty': ('newton-cg', 'l2'), 'C': 1.2712685390933767, 'tol': 0.025853134073726358, 'fit_intercept': True, 'class_weight': 'balanced', 'threshold': 0.6519999999999999}. Best is trial 245 with value: 0.9694451488415339.\n",
      "[I 2025-07-02 06:42:00,122] Trial 417 finished with value: 0.9689592751608211 and parameters: {'solver_penalty': ('newton-cholesky', None), 'C': 3.0427696908591035, 'tol': 0.00651208548216476, 'fit_intercept': True, 'class_weight': None, 'threshold': 0.6970000000000001}. Best is trial 245 with value: 0.9694451488415339.\n",
      "[I 2025-07-02 06:42:01,374] Trial 419 finished with value: 0.9693371574808429 and parameters: {'solver_penalty': ('liblinear', 'l2'), 'C': 2.9315181143304665, 'tol': 0.027573046323362257, 'fit_intercept': True, 'class_weight': None, 'threshold': 0.46599999999999997}. Best is trial 245 with value: 0.9694451488415339.\n",
      "[I 2025-07-02 06:42:03,702] Trial 421 finished with value: 0.9691212330543921 and parameters: {'solver_penalty': ('newton-cholesky', None), 'C': 1.0493955930577143, 'tol': 0.06273275866829399, 'fit_intercept': True, 'class_weight': 'balanced', 'threshold': 0.6910000000000001}. Best is trial 245 with value: 0.9694451488415339.\n",
      "[I 2025-07-02 06:42:04,053] Trial 422 finished with value: 0.9693911677349213 and parameters: {'solver_penalty': ('lbfgs', 'l2'), 'C': 1.6959772948970102, 'tol': 0.03824935290724106, 'fit_intercept': True, 'class_weight': 'balanced', 'threshold': 0.6950000000000001}. Best is trial 245 with value: 0.9694451488415339.\n",
      "[I 2025-07-02 06:42:04,078] Trial 423 finished with value: 0.9669618867737546 and parameters: {'solver_penalty': ('lbfgs', 'l2'), 'C': 7.591785287087696, 'tol': 0.048075173523329164, 'fit_intercept': False, 'class_weight': None, 'threshold': 0.599}. Best is trial 245 with value: 0.9694451488415339.\n",
      "[I 2025-07-02 06:42:04,318] Trial 420 finished with value: 0.937809815700574 and parameters: {'solver_penalty': ('newton-cg', None), 'C': 0.21023717385778778, 'tol': 0.0223367482234768, 'fit_intercept': False, 'class_weight': 'balanced', 'threshold': 0.536}. Best is trial 245 with value: 0.9694451488415339.\n",
      "[I 2025-07-02 06:42:07,332] Trial 424 finished with value: 0.9691212622018579 and parameters: {'solver_penalty': ('liblinear', 'l1'), 'C': 3.7369594683601814, 'tol': 0.00042632388182742113, 'fit_intercept': True, 'class_weight': 'balanced', 'threshold': 0.631}. Best is trial 245 with value: 0.9694451488415339.\n",
      "[I 2025-07-02 06:42:07,345] Trial 426 finished with value: 0.9693371866283087 and parameters: {'solver_penalty': ('newton-cholesky', 'l2'), 'C': 0.5724322142328901, 'tol': 0.07400500822995809, 'fit_intercept': True, 'class_weight': None, 'threshold': 0.433}. Best is trial 245 with value: 0.9694451488415339.\n",
      "[I 2025-07-02 06:42:07,957] Trial 425 finished with value: 0.9693371720545759 and parameters: {'solver_penalty': ('lbfgs', 'l2'), 'C': 1.2888834643727778, 'tol': 0.014631588826833321, 'fit_intercept': True, 'class_weight': 'balanced', 'threshold': 0.6890000000000001}. Best is trial 245 with value: 0.9694451488415339.\n",
      "[I 2025-07-02 06:42:07,987] Trial 427 finished with value: 0.9692292389888161 and parameters: {'solver_penalty': ('newton-cholesky', 'l2'), 'C': 5.17252664351876, 'tol': 0.08826763308342452, 'fit_intercept': True, 'class_weight': 'balanced', 'threshold': 0.497}. Best is trial 245 with value: 0.9694451488415339.\n",
      "[I 2025-07-02 06:42:09,892] Trial 429 finished with value: 0.9685814511357311 and parameters: {'solver_penalty': ('newton-cg', None), 'C': 2.6848113531337714, 'tol': 0.02550006788610627, 'fit_intercept': False, 'class_weight': None, 'threshold': 0.589}. Best is trial 245 with value: 0.9694451488415339.\n",
      "[I 2025-07-02 06:42:11,296] Trial 431 finished with value: 0.9690672956689781 and parameters: {'solver_penalty': ('lbfgs', 'l2'), 'C': 0.7068845487245926, 'tol': 0.05303872765538857, 'fit_intercept': True, 'class_weight': 'balanced', 'threshold': 0.5680000000000001}. Best is trial 245 with value: 0.9694451488415339.\n",
      "[I 2025-07-02 06:42:11,545] Trial 430 finished with value: 0.9691752433084705 and parameters: {'solver_penalty': ('lbfgs', 'l2'), 'C': 1.780671161799828, 'tol': 0.03315586123321358, 'fit_intercept': True, 'class_weight': 'balanced', 'threshold': 0.605}. Best is trial 245 with value: 0.9694451488415339.\n",
      "[I 2025-07-02 06:42:12,535] Trial 428 finished with value: 0.39391985321336237 and parameters: {'solver_penalty': ('liblinear', 'l1'), 'C': 0.15025610804394063, 'tol': 0.002688075186606971, 'fit_intercept': False, 'class_weight': None, 'threshold': 0.39}. Best is trial 245 with value: 0.9694451488415339.\n",
      "[I 2025-07-02 06:42:12,566] Trial 432 finished with value: 0.9689593334557527 and parameters: {'solver_penalty': ('liblinear', 'l2'), 'C': 1.0917185366493847, 'tol': 0.024946168452885054, 'fit_intercept': True, 'class_weight': 'balanced', 'threshold': 0.40499999999999997}. Best is trial 245 with value: 0.9694451488415339.\n",
      "[I 2025-07-02 06:42:14,191] Trial 433 finished with value: 0.9692832055216959 and parameters: {'solver_penalty': ('liblinear', 'l2'), 'C': 1.556724712188324, 'tol': 0.008903894423614205, 'fit_intercept': True, 'class_weight': None, 'threshold': 0.35}. Best is trial 245 with value: 0.9694451488415339.\n",
      "[I 2025-07-02 06:42:15,168] Trial 434 finished with value: 0.9691212622018579 and parameters: {'solver_penalty': ('newton-cholesky', 'l2'), 'C': 8.317149481237452, 'tol': 0.054373185338147126, 'fit_intercept': True, 'class_weight': None, 'threshold': 0.416}. Best is trial 245 with value: 0.9694451488415339.\n",
      "[I 2025-07-02 06:42:15,690] Trial 436 finished with value: 0.9691212622018579 and parameters: {'solver_penalty': ('liblinear', 'l2'), 'C': 3.1595474677253805, 'tol': 0.0006895659907934452, 'fit_intercept': True, 'class_weight': None, 'threshold': 0.33499999999999996}. Best is trial 245 with value: 0.9694451488415339.\n",
      "[I 2025-07-02 06:42:15,884] Trial 435 finished with value: 0.9280903454849119 and parameters: {'solver_penalty': ('newton-cholesky', None), 'C': 7.778362768882342, 'tol': 0.0525293023237007, 'fit_intercept': False, 'class_weight': None, 'threshold': 0.6950000000000001}. Best is trial 245 with value: 0.9694451488415339.\n",
      "[I 2025-07-02 06:42:17,844] Trial 438 finished with value: 0.9689053523491399 and parameters: {'solver_penalty': ('liblinear', 'l1'), 'C': 0.43112503074990904, 'tol': 0.03881668431448192, 'fit_intercept': True, 'class_weight': 'balanced', 'threshold': 0.389}. Best is trial 245 with value: 0.9694451488415339.\n",
      "[I 2025-07-02 06:42:18,221] Trial 437 finished with value: 0.9691212622018579 and parameters: {'solver_penalty': ('newton-cholesky', None), 'C': 0.41984250365894127, 'tol': 0.0521101320639854, 'fit_intercept': True, 'class_weight': 'balanced', 'threshold': 0.44899999999999995}. Best is trial 245 with value: 0.9694451488415339.\n",
      "[I 2025-07-02 06:42:19,327] Trial 439 finished with value: 0.9692832055216959 and parameters: {'solver_penalty': ('lbfgs', 'l2'), 'C': 3.0566912446081846, 'tol': 0.03133389287614484, 'fit_intercept': True, 'class_weight': 'balanced', 'threshold': 0.659}. Best is trial 245 with value: 0.9694451488415339.\n",
      "[I 2025-07-02 06:42:21,452] Trial 441 finished with value: 0.9692831763742301 and parameters: {'solver_penalty': ('lbfgs', None), 'C': 5.75821218211977, 'tol': 0.009043667793678586, 'fit_intercept': True, 'class_weight': None, 'threshold': 0.613}. Best is trial 245 with value: 0.9694451488415339.\n",
      "[I 2025-07-02 06:42:21,636] Trial 440 finished with value: 0.9693911677349213 and parameters: {'solver_penalty': ('newton-cg', None), 'C': 5.848960695427399, 'tol': 0.03163935575043626, 'fit_intercept': True, 'class_weight': 'balanced', 'threshold': 0.648}. Best is trial 245 with value: 0.9694451488415339.\n",
      "[I 2025-07-02 06:42:21,795] Trial 442 finished with value: 0.9691752433084705 and parameters: {'solver_penalty': ('lbfgs', None), 'C': 2.496442051259973, 'tol': 0.05605139158247843, 'fit_intercept': True, 'class_weight': 'balanced', 'threshold': 0.639}. Best is trial 245 with value: 0.9694451488415339.\n",
      "[I 2025-07-02 06:42:22,040] Trial 443 finished with value: 0.9692292244150833 and parameters: {'solver_penalty': ('liblinear', 'l2'), 'C': 0.08590783061088836, 'tol': 0.04456238708393459, 'fit_intercept': True, 'class_weight': None, 'threshold': 0.318}. Best is trial 245 with value: 0.9694451488415339.\n",
      "[I 2025-07-02 06:42:24,505] Trial 444 finished with value: 0.9693371866283087 and parameters: {'solver_penalty': ('liblinear', 'l1'), 'C': 7.577553493289261, 'tol': 0.027138242506942665, 'fit_intercept': True, 'class_weight': 'balanced', 'threshold': 0.59}. Best is trial 245 with value: 0.9694451488415339.\n",
      "[I 2025-07-02 06:42:25,005] Trial 445 finished with value: 0.9693371574808429 and parameters: {'solver_penalty': ('newton-cg', 'l2'), 'C': 2.362674691657825, 'tol': 0.06193522217566656, 'fit_intercept': True, 'class_weight': None, 'threshold': 0.52}. Best is trial 245 with value: 0.9694451488415339.\n",
      "[I 2025-07-02 06:42:25,213] Trial 446 finished with value: 0.9691752433084705 and parameters: {'solver_penalty': ('lbfgs', 'l2'), 'C': 1.7299522672759953, 'tol': 0.046715051653703404, 'fit_intercept': True, 'class_weight': 'balanced', 'threshold': 0.6679999999999999}. Best is trial 245 with value: 0.9694451488415339.\n",
      "[I 2025-07-02 06:42:25,420] Trial 447 finished with value: 0.9692832055216959 and parameters: {'solver_penalty': ('lbfgs', 'l2'), 'C': 0.056110005252315714, 'tol': 0.04469054189435999, 'fit_intercept': True, 'class_weight': 'balanced', 'threshold': 0.673}. Best is trial 245 with value: 0.9694451488415339.\n",
      "[I 2025-07-02 06:42:27,997] Trial 448 finished with value: 0.9691752433084705 and parameters: {'solver_penalty': ('lbfgs', None), 'C': 3.6785965449529456, 'tol': 0.02198386644893231, 'fit_intercept': True, 'class_weight': None, 'threshold': 0.414}. Best is trial 245 with value: 0.9694451488415339.\n",
      "[I 2025-07-02 06:42:28,524] Trial 450 finished with value: 0.9692831763742303 and parameters: {'solver_penalty': ('liblinear', 'l1'), 'C': 0.1148849423368099, 'tol': 0.052393653200175146, 'fit_intercept': True, 'class_weight': None, 'threshold': 0.474}. Best is trial 245 with value: 0.9694451488415339.\n",
      "[I 2025-07-02 06:42:28,542] Trial 451 finished with value: 0.2604729030584436 and parameters: {'solver_penalty': ('liblinear', 'l1'), 'C': 4.984780112612783, 'tol': 0.08412806527344353, 'fit_intercept': False, 'class_weight': None, 'threshold': 0.316}. Best is trial 245 with value: 0.9694451488415339.\n",
      "[I 2025-07-02 06:42:29,316] Trial 449 finished with value: 0.9693371720545759 and parameters: {'solver_penalty': ('lbfgs', 'l2'), 'C': 0.2036794769180495, 'tol': 0.007819630163057863, 'fit_intercept': True, 'class_weight': 'balanced', 'threshold': 0.694}. Best is trial 245 with value: 0.9694451488415339.\n",
      "[I 2025-07-02 06:42:30,641] Trial 452 finished with value: 0.9688513712425273 and parameters: {'solver_penalty': ('liblinear', 'l1'), 'C': 2.3414027668243476, 'tol': 0.07377126300820161, 'fit_intercept': False, 'class_weight': 'balanced', 'threshold': 0.6759999999999999}. Best is trial 245 with value: 0.9694451488415339.\n",
      "[I 2025-07-02 06:42:32,112] Trial 454 finished with value: 0.8974827811345942 and parameters: {'solver_penalty': ('newton-cg', None), 'C': 5.609310439971454, 'tol': 0.08685630665076624, 'fit_intercept': False, 'class_weight': None, 'threshold': 0.517}. Best is trial 245 with value: 0.9694451488415339.\n",
      "[I 2025-07-02 06:42:32,450] Trial 455 finished with value: 0.9690133145623653 and parameters: {'solver_penalty': ('liblinear', 'l2'), 'C': 2.492874326027453, 'tol': 0.021659048430326438, 'fit_intercept': False, 'class_weight': 'balanced', 'threshold': 0.692}. Best is trial 245 with value: 0.9694451488415339.\n",
      "[I 2025-07-02 06:42:32,454] Trial 453 finished with value: 0.2604729030584436 and parameters: {'solver_penalty': ('lbfgs', 'l2'), 'C': 9.378809912039562, 'tol': 0.010542332354705163, 'fit_intercept': False, 'class_weight': 'balanced', 'threshold': 0.33799999999999997}. Best is trial 245 with value: 0.9694451488415339.\n",
      "[I 2025-07-02 06:42:33,864] Trial 456 finished with value: 0.9692291952676175 and parameters: {'solver_penalty': ('lbfgs', 'l2'), 'C': 0.4605614461866373, 'tol': 0.08850808153590958, 'fit_intercept': True, 'class_weight': None, 'threshold': 0.40599999999999997}. Best is trial 245 with value: 0.9694451488415339.\n",
      "[I 2025-07-02 06:42:35,468] Trial 457 finished with value: 0.9693371720545759 and parameters: {'solver_penalty': ('newton-cg', 'l2'), 'C': 0.7405430654204426, 'tol': 0.06066413315199971, 'fit_intercept': True, 'class_weight': None, 'threshold': 0.496}. Best is trial 245 with value: 0.9694451488415339.\n",
      "[I 2025-07-02 06:42:36,029] Trial 459 finished with value: 0.9692292244150833 and parameters: {'solver_penalty': ('lbfgs', 'l2'), 'C': 2.12158944499584, 'tol': 0.017131145705679727, 'fit_intercept': True, 'class_weight': 'balanced', 'threshold': 0.5840000000000001}. Best is trial 245 with value: 0.9694451488415339.\n",
      "[I 2025-07-02 06:42:36,046] Trial 458 finished with value: 0.9693371866283087 and parameters: {'solver_penalty': ('newton-cg', None), 'C': 3.3722244001859467, 'tol': 0.019593570429888178, 'fit_intercept': True, 'class_weight': None, 'threshold': 0.425}. Best is trial 245 with value: 0.9694451488415339.\n",
      "[I 2025-07-02 06:42:38,106] Trial 461 finished with value: 0.2604729030584436 and parameters: {'solver_penalty': ('newton-cg', 'l2'), 'C': 0.7270174272098111, 'tol': 0.04669184328882261, 'fit_intercept': False, 'class_weight': None, 'threshold': 0.371}. Best is trial 245 with value: 0.9694451488415339.\n",
      "[I 2025-07-02 06:42:38,868] Trial 460 finished with value: 0.9693911677349213 and parameters: {'solver_penalty': ('newton-cg', 'l2'), 'C': 1.8921883411617737, 'tol': 0.03510906545073029, 'fit_intercept': True, 'class_weight': 'balanced', 'threshold': 0.615}. Best is trial 245 with value: 0.9694451488415339.\n",
      "[I 2025-07-02 06:42:39,404] Trial 462 finished with value: 0.9693371720545759 and parameters: {'solver_penalty': ('lbfgs', 'l2'), 'C': 0.6779086970398566, 'tol': 0.02790673350252876, 'fit_intercept': True, 'class_weight': 'balanced', 'threshold': 0.6990000000000001}. Best is trial 245 with value: 0.9694451488415339.\n",
      "[I 2025-07-02 06:42:39,861] Trial 463 finished with value: 0.9691752433084705 and parameters: {'solver_penalty': ('newton-cholesky', None), 'C': 0.05059006154354828, 'tol': 0.024437861104793394, 'fit_intercept': True, 'class_weight': 'balanced', 'threshold': 0.5509999999999999}. Best is trial 245 with value: 0.9694451488415339.\n",
      "[I 2025-07-02 06:42:41,261] Trial 464 finished with value: 0.9693371866283087 and parameters: {'solver_penalty': ('lbfgs', 'l2'), 'C': 1.806865209853307, 'tol': 0.044889668899560836, 'fit_intercept': True, 'class_weight': 'balanced', 'threshold': 0.69}. Best is trial 245 with value: 0.9694451488415339.\n",
      "[I 2025-07-02 06:42:42,841] Trial 466 finished with value: 0.2604729030584436 and parameters: {'solver_penalty': ('newton-cg', None), 'C': 6.89924719745704, 'tol': 0.0055639202234299134, 'fit_intercept': False, 'class_weight': None, 'threshold': 0.35}. Best is trial 245 with value: 0.9694451488415339.\n",
      "[I 2025-07-02 06:42:43,437] Trial 467 finished with value: 0.9691752433084705 and parameters: {'solver_penalty': ('newton-cholesky', None), 'C': 2.3292724121422803, 'tol': 0.017591599638912155, 'fit_intercept': True, 'class_weight': None, 'threshold': 0.46299999999999997}. Best is trial 245 with value: 0.9694451488415339.\n",
      "[I 2025-07-02 06:42:43,453] Trial 465 finished with value: 0.9692832055216959 and parameters: {'solver_penalty': ('lbfgs', 'l2'), 'C': 0.8794919027232222, 'tol': 0.001629542160095857, 'fit_intercept': True, 'class_weight': 'balanced', 'threshold': 0.611}. Best is trial 245 with value: 0.9694451488415339.\n",
      "[I 2025-07-02 06:42:44,214] Trial 468 finished with value: 0.9692831763742303 and parameters: {'solver_penalty': ('newton-cholesky', 'l2'), 'C': 0.16446777281484815, 'tol': 0.07422372318506301, 'fit_intercept': True, 'class_weight': None, 'threshold': 0.54}. Best is trial 245 with value: 0.9694451488415339.\n",
      "[I 2025-07-02 06:42:46,680] Trial 469 finished with value: 0.9689593334557527 and parameters: {'solver_penalty': ('lbfgs', None), 'C': 3.2217445277915315, 'tol': 0.02029301876591371, 'fit_intercept': True, 'class_weight': 'balanced', 'threshold': 0.481}. Best is trial 245 with value: 0.9694451488415339.\n",
      "[I 2025-07-02 06:42:47,016] Trial 471 finished with value: 0.9693911531611885 and parameters: {'solver_penalty': ('newton-cholesky', 'l2'), 'C': 1.2831670378908164, 'tol': 0.08117485310797622, 'fit_intercept': True, 'class_weight': None, 'threshold': 0.498}. Best is trial 245 with value: 0.9694451488415339.\n",
      "[I 2025-07-02 06:42:47,213] Trial 470 finished with value: 0.9692832055216959 and parameters: {'solver_penalty': ('lbfgs', 'l2'), 'C': 2.2129201046280373, 'tol': 0.02061411348134575, 'fit_intercept': True, 'class_weight': 'balanced', 'threshold': 0.651}. Best is trial 245 with value: 0.9694451488415339.\n",
      "[I 2025-07-02 06:42:47,761] Trial 472 finished with value: 0.9693371720545759 and parameters: {'solver_penalty': ('newton-cholesky', 'l2'), 'C': 3.2631399398814325, 'tol': 0.0662645873282249, 'fit_intercept': True, 'class_weight': None, 'threshold': 0.491}. Best is trial 245 with value: 0.9694451488415339.\n",
      "[I 2025-07-02 06:42:50,302] Trial 475 finished with value: 0.9690132562674337 and parameters: {'solver_penalty': ('lbfgs', None), 'C': 1.4678942199338436, 'tol': 0.07713348512796116, 'fit_intercept': True, 'class_weight': None, 'threshold': 0.491}. Best is trial 245 with value: 0.9694451488415339.\n",
      "[I 2025-07-02 06:42:50,332] Trial 474 finished with value: 0.9692831763742303 and parameters: {'solver_penalty': ('lbfgs', 'l2'), 'C': 1.4196020742232724, 'tol': 0.03518755535346943, 'fit_intercept': True, 'class_weight': None, 'threshold': 0.62}. Best is trial 245 with value: 0.9694451488415339.\n",
      "[I 2025-07-02 06:42:50,703] Trial 473 finished with value: 0.9691752433084705 and parameters: {'solver_penalty': ('newton-cholesky', 'l2'), 'C': 2.1294754827763795, 'tol': 0.010911846909400093, 'fit_intercept': True, 'class_weight': None, 'threshold': 0.311}. Best is trial 245 with value: 0.9694451488415339.\n",
      "[I 2025-07-02 06:42:51,262] Trial 476 finished with value: 0.9691752433084705 and parameters: {'solver_penalty': ('newton-cholesky', 'l2'), 'C': 0.6827836986853911, 'tol': 0.05979792167211613, 'fit_intercept': True, 'class_weight': None, 'threshold': 0.40499999999999997}. Best is trial 245 with value: 0.9694451488415339.\n",
      "[I 2025-07-02 06:42:53,387] Trial 479 finished with value: 0.9536253180717204 and parameters: {'solver_penalty': ('liblinear', 'l1'), 'C': 5.388788421874711, 'tol': 0.022590932172949295, 'fit_intercept': False, 'class_weight': None, 'threshold': 0.617}. Best is trial 245 with value: 0.9694451488415339.\n",
      "[I 2025-07-02 06:42:53,563] Trial 477 finished with value: 0.9682035542419765 and parameters: {'solver_penalty': ('lbfgs', 'l2'), 'C': 4.7101998197584845, 'tol': 0.007250660981151685, 'fit_intercept': False, 'class_weight': 'balanced', 'threshold': 0.6519999999999999}. Best is trial 245 with value: 0.9694451488415339.\n",
      "[I 2025-07-02 06:42:54,597] Trial 478 finished with value: 0.9685814365619982 and parameters: {'solver_penalty': ('newton-cg', None), 'C': 1.0889092598639771, 'tol': 0.07400401261624569, 'fit_intercept': True, 'class_weight': 'balanced', 'threshold': 0.313}. Best is trial 245 with value: 0.9694451488415339.\n",
      "[I 2025-07-02 06:42:54,772] Trial 480 finished with value: 0.9691752433084705 and parameters: {'solver_penalty': ('newton-cg', 'l2'), 'C': 2.5505746808158776, 'tol': 0.060167627179287295, 'fit_intercept': True, 'class_weight': None, 'threshold': 0.416}. Best is trial 245 with value: 0.9694451488415339.\n",
      "[I 2025-07-02 06:42:55,958] Trial 481 finished with value: 0.278449617148037 and parameters: {'solver_penalty': ('liblinear', 'l2'), 'C': 1.6766100538357198, 'tol': 0.016632261397337637, 'fit_intercept': False, 'class_weight': None, 'threshold': 0.35}. Best is trial 245 with value: 0.9694451488415339.\n",
      "[I 2025-07-02 06:42:57,599] Trial 482 finished with value: 0.8102419385396538 and parameters: {'solver_penalty': ('newton-cholesky', 'l2'), 'C': 4.534588450618175, 'tol': 0.047055020097889345, 'fit_intercept': False, 'class_weight': 'balanced', 'threshold': 0.514}. Best is trial 245 with value: 0.9694451488415339.\n",
      "[I 2025-07-02 06:42:57,618] Trial 484 finished with value: 0.9692832055216959 and parameters: {'solver_penalty': ('liblinear', 'l2'), 'C': 1.0167251075944241, 'tol': 0.07034181198596931, 'fit_intercept': True, 'class_weight': None, 'threshold': 0.366}. Best is trial 245 with value: 0.9694451488415339.\n",
      "[I 2025-07-02 06:42:58,194] Trial 483 finished with value: 0.9689593334557527 and parameters: {'solver_penalty': ('lbfgs', 'l2'), 'C': 5.935375753236157, 'tol': 0.08112961975308584, 'fit_intercept': True, 'class_weight': 'balanced', 'threshold': 0.552}. Best is trial 245 with value: 0.9694451488415339.\n",
      "[I 2025-07-02 06:43:00,390] Trial 485 finished with value: 0.2604729030584436 and parameters: {'solver_penalty': ('newton-cg', None), 'C': 7.735698002859953, 'tol': 0.02541138969191678, 'fit_intercept': False, 'class_weight': 'balanced', 'threshold': 0.366}. Best is trial 245 with value: 0.9694451488415339.\n",
      "[I 2025-07-02 06:43:00,562] Trial 486 finished with value: 0.9691752433084705 and parameters: {'solver_penalty': ('lbfgs', 'l2'), 'C': 0.07537796901884924, 'tol': 0.04232032635551232, 'fit_intercept': True, 'class_weight': None, 'threshold': 0.396}. Best is trial 245 with value: 0.9694451488415339.\n",
      "[I 2025-07-02 06:43:01,154] Trial 487 finished with value: 0.9692831763742301 and parameters: {'solver_penalty': ('newton-cg', None), 'C': 8.31470681815872, 'tol': 0.03443827734052332, 'fit_intercept': True, 'class_weight': None, 'threshold': 0.603}. Best is trial 245 with value: 0.9694451488415339.\n",
      "[I 2025-07-02 06:43:01,669] Trial 488 finished with value: 0.9693911677349213 and parameters: {'solver_penalty': ('lbfgs', 'l2'), 'C': 3.1655003678438236, 'tol': 0.03221026925502324, 'fit_intercept': True, 'class_weight': 'balanced', 'threshold': 0.6839999999999999}. Best is trial 245 with value: 0.9694451488415339.\n",
      "[I 2025-07-02 06:43:02,986] Trial 490 finished with value: 0.9690133291360983 and parameters: {'solver_penalty': ('lbfgs', 'l2'), 'C': 3.1185385618239705, 'tol': 0.031781308214846885, 'fit_intercept': False, 'class_weight': None, 'threshold': 0.6699999999999999}. Best is trial 245 with value: 0.9694451488415339.\n",
      "[I 2025-07-02 06:43:04,746] Trial 489 finished with value: 0.9693371720545759 and parameters: {'solver_penalty': ('newton-cg', 'l2'), 'C': 7.248227914530695, 'tol': 0.021728784731339535, 'fit_intercept': True, 'class_weight': None, 'threshold': 0.475}. Best is trial 245 with value: 0.9694451488415339.\n",
      "[I 2025-07-02 06:43:04,776] Trial 492 finished with value: 0.9693371720545757 and parameters: {'solver_penalty': ('liblinear', 'l1'), 'C': 4.739190305518205, 'tol': 0.005125714054487614, 'fit_intercept': True, 'class_weight': None, 'threshold': 0.639}. Best is trial 245 with value: 0.9694451488415339.\n",
      "[I 2025-07-02 06:43:05,324] Trial 491 finished with value: 0.9392674221689795 and parameters: {'solver_penalty': ('newton-cg', 'l2'), 'C': 2.1936631873513655, 'tol': 0.012631211662539318, 'fit_intercept': False, 'class_weight': None, 'threshold': 0.529}. Best is trial 245 with value: 0.9694451488415339.\n",
      "[I 2025-07-02 06:43:05,704] Trial 493 finished with value: 0.9689593480294855 and parameters: {'solver_penalty': ('liblinear', 'l2'), 'C': 5.705350684733601, 'tol': 0.0025399245441191914, 'fit_intercept': True, 'class_weight': 'balanced', 'threshold': 0.385}. Best is trial 245 with value: 0.9694451488415339.\n",
      "[I 2025-07-02 06:43:07,534] Trial 494 finished with value: 0.9693911677349213 and parameters: {'solver_penalty': ('liblinear', 'l2'), 'C': 4.630099530419864, 'tol': 0.06211966036966987, 'fit_intercept': True, 'class_weight': None, 'threshold': 0.395}. Best is trial 245 with value: 0.9694451488415339.\n",
      "[I 2025-07-02 06:43:08,714] Trial 496 finished with value: 0.9692832055216959 and parameters: {'solver_penalty': ('liblinear', 'l2'), 'C': 0.7517802316852009, 'tol': 0.040354967302819005, 'fit_intercept': True, 'class_weight': 'balanced', 'threshold': 0.593}. Best is trial 245 with value: 0.9694451488415339.\n",
      "[I 2025-07-02 06:43:08,730] Trial 495 finished with value: 0.9692292244150833 and parameters: {'solver_penalty': ('lbfgs', 'l2'), 'C': 0.47432339390536793, 'tol': 0.03076381501567385, 'fit_intercept': True, 'class_weight': 'balanced', 'threshold': 0.624}. Best is trial 245 with value: 0.9694451488415339.\n",
      "[I 2025-07-02 06:43:09,070] Trial 497 finished with value: 0.9693911531611885 and parameters: {'solver_penalty': ('liblinear', 'l1'), 'C': 2.1073764176181076, 'tol': 0.0239554128735964, 'fit_intercept': True, 'class_weight': 'balanced', 'threshold': 0.611}. Best is trial 245 with value: 0.9694451488415339.\n",
      "[I 2025-07-02 06:43:10,010] Trial 498 finished with value: 0.9693371720545759 and parameters: {'solver_penalty': ('newton-cg', 'l2'), 'C': 6.442231667469237, 'tol': 0.08345263341430023, 'fit_intercept': True, 'class_weight': None, 'threshold': 0.495}. Best is trial 245 with value: 0.9694451488415339.\n",
      "[I 2025-07-02 06:43:10,496] Trial 499 finished with value: 0.9687434090293019 and parameters: {'solver_penalty': ('newton-cg', 'l2'), 'C': 9.22225683651388, 'tol': 0.012245342489436845, 'fit_intercept': False, 'class_weight': 'balanced', 'threshold': 0.681}. Best is trial 245 with value: 0.9694451488415339.\n"
     ]
    }
   ],
   "source": [
    "def objective(trial):\n",
    "    solver_penalty_options = [\n",
    "        ('liblinear', 'l1'),\n",
    "        ('liblinear', 'l2'),\n",
    "        ('lbfgs', 'l2'),\n",
    "        ('lbfgs', None),\n",
    "        ('newton-cg', 'l2'),\n",
    "        ('newton-cg', None),\n",
    "        ('newton-cholesky', 'l2'),\n",
    "        ('newton-cholesky', None)\n",
    "    ]\n",
    "    solver, penalty = trial.suggest_categorical('solver_penalty', solver_penalty_options)\n",
    "    \n",
    "    params = {\n",
    "        'random_state': CFG.seed,\n",
    "        'max_iter': 500,\n",
    "        'C': trial.suggest_float('C', 0, 10),\n",
    "        'tol': trial.suggest_float('tol', 1e-10, 1e-1),\n",
    "        'fit_intercept': trial.suggest_categorical('fit_intercept', [True, False]),\n",
    "        'class_weight': trial.suggest_categorical('class_weight', ['balanced', None]),\n",
    "        'solver': solver,\n",
    "        'penalty': penalty\n",
    "    }\n",
    "    \n",
    "    threshold = trial.suggest_float('threshold', 0.3, 0.7, step=0.001)\n",
    "    \n",
    "    trainer = Trainer(\n",
    "        LogisticRegression(**params),\n",
    "        cv=CFG.cv,\n",
    "        metric=CFG.metric,\n",
    "        metric_precision=6,\n",
    "        metric_threshold=threshold,\n",
    "        use_early_stopping=False,\n",
    "        verbose=False,\n",
    "        task=\"binary\",\n",
    "    )\n",
    "    trainer.fit(X, y)\n",
    "    \n",
    "    return np.mean(trainer.fold_scores)\n",
    "\n",
    "sampler = optuna.samplers.TPESampler(seed=CFG.seed, multivariate=True, n_startup_trials=CFG.n_optuna_trials // 10)\n",
    "study = optuna.create_study(direction='maximize', sampler=sampler)\n",
    "study.optimize(objective, n_trials=CFG.n_optuna_trials, n_jobs=-1)\n",
    "best_params = study.best_params"
   ]
  },
  {
   "cell_type": "code",
   "execution_count": 20,
   "id": "dd93e121",
   "metadata": {
    "execution": {
     "iopub.execute_input": "2025-07-02T06:43:10.572588Z",
     "iopub.status.busy": "2025-07-02T06:43:10.572239Z",
     "iopub.status.idle": "2025-07-02T06:43:10.577383Z",
     "shell.execute_reply": "2025-07-02T06:43:10.576401Z"
    },
    "papermill": {
     "duration": 0.041854,
     "end_time": "2025-07-02T06:43:10.579010",
     "exception": false,
     "start_time": "2025-07-02T06:43:10.537156",
     "status": "completed"
    },
    "tags": []
   },
   "outputs": [],
   "source": [
    "solver, penalty = best_params['solver_penalty']\n",
    "lr_params = {\n",
    "    'random_state': CFG.seed,\n",
    "    'max_iter': 500,\n",
    "    'C': best_params['C'],\n",
    "    'tol': best_params['tol'],\n",
    "    'fit_intercept': best_params['fit_intercept'],\n",
    "    'class_weight': best_params['class_weight'],\n",
    "    'solver': solver,\n",
    "    'penalty': penalty\n",
    "}"
   ]
  },
  {
   "cell_type": "code",
   "execution_count": 21,
   "id": "58c75df3",
   "metadata": {
    "execution": {
     "iopub.execute_input": "2025-07-02T06:43:10.649065Z",
     "iopub.status.busy": "2025-07-02T06:43:10.648706Z",
     "iopub.status.idle": "2025-07-02T06:43:10.653774Z",
     "shell.execute_reply": "2025-07-02T06:43:10.652836Z"
    },
    "papermill": {
     "duration": 0.042279,
     "end_time": "2025-07-02T06:43:10.655198",
     "exception": false,
     "start_time": "2025-07-02T06:43:10.612919",
     "status": "completed"
    },
    "tags": []
   },
   "outputs": [
    {
     "name": "stdout",
     "output_type": "stream",
     "text": [
      "{\n",
      "  \"random_state\": 42,\n",
      "  \"max_iter\": 500,\n",
      "  \"C\": 3.848090673897703,\n",
      "  \"tol\": 0.007782037456556653,\n",
      "  \"fit_intercept\": true,\n",
      "  \"class_weight\": \"balanced\",\n",
      "  \"solver\": \"liblinear\",\n",
      "  \"penalty\": \"l1\"\n",
      "}\n"
     ]
    }
   ],
   "source": [
    "print(json.dumps(lr_params, indent=2))"
   ]
  },
  {
   "cell_type": "code",
   "execution_count": 22,
   "id": "75699325",
   "metadata": {
    "execution": {
     "iopub.execute_input": "2025-07-02T06:43:10.725358Z",
     "iopub.status.busy": "2025-07-02T06:43:10.724701Z",
     "iopub.status.idle": "2025-07-02T06:43:10.729884Z",
     "shell.execute_reply": "2025-07-02T06:43:10.728976Z"
    },
    "papermill": {
     "duration": 0.041806,
     "end_time": "2025-07-02T06:43:10.731328",
     "exception": false,
     "start_time": "2025-07-02T06:43:10.689522",
     "status": "completed"
    },
    "tags": []
   },
   "outputs": [
    {
     "name": "stdout",
     "output_type": "stream",
     "text": [
      "Best threshold: 0.637\n"
     ]
    }
   ],
   "source": [
    "best_threshold = study.best_params['threshold']\n",
    "print(f'Best threshold: {best_threshold:.3f}')"
   ]
  },
  {
   "cell_type": "code",
   "execution_count": 23,
   "id": "d135919b",
   "metadata": {
    "execution": {
     "iopub.execute_input": "2025-07-02T06:43:10.801966Z",
     "iopub.status.busy": "2025-07-02T06:43:10.800788Z",
     "iopub.status.idle": "2025-07-02T06:43:11.633205Z",
     "shell.execute_reply": "2025-07-02T06:43:11.632370Z"
    },
    "papermill": {
     "duration": 0.869095,
     "end_time": "2025-07-02T06:43:11.634704",
     "exception": false,
     "start_time": "2025-07-02T06:43:10.765609",
     "status": "completed"
    },
    "tags": []
   },
   "outputs": [
    {
     "name": "stdout",
     "output_type": "stream",
     "text": [
      "Training LogisticRegression\n",
      "\n",
      "--- Fold 0 - accuracy_score: 0.970040 - Time: 0.02 s\n",
      "--- Fold 1 - accuracy_score: 0.968421 - Time: 0.02 s\n",
      "--- Fold 2 - accuracy_score: 0.966262 - Time: 0.02 s\n",
      "--- Fold 3 - accuracy_score: 0.971120 - Time: 0.02 s\n",
      "--- Fold 4 - accuracy_score: 0.971112 - Time: 0.02 s\n",
      "\n",
      "------ Overall accuracy_score: 0.969391 - Mean accuracy_score: 0.969391 ± 0.001850 - Time: 0.82 s\n"
     ]
    }
   ],
   "source": [
    "lr_trainer = Trainer(\n",
    "    LogisticRegression(**lr_params),\n",
    "    cv=CFG.cv,\n",
    "    metric=CFG.metric,\n",
    "    metric_threshold=best_threshold,\n",
    "    metric_precision=6,\n",
    "    use_early_stopping=False,\n",
    "    task=\"binary\",\n",
    ")\n",
    "\n",
    "lr_trainer.fit(X, y)\n",
    "\n",
    "scores[\"LogisticRegression\"] = lr_trainer.fold_scores\n",
    "lr_test_pred_probs = lr_trainer.predict(X_test)"
   ]
  },
  {
   "cell_type": "code",
   "execution_count": 24,
   "id": "8805b9b1",
   "metadata": {
    "execution": {
     "iopub.execute_input": "2025-07-02T06:43:11.705620Z",
     "iopub.status.busy": "2025-07-02T06:43:11.704825Z",
     "iopub.status.idle": "2025-07-02T06:43:11.761179Z",
     "shell.execute_reply": "2025-07-02T06:43:11.760270Z"
    },
    "papermill": {
     "duration": 0.093382,
     "end_time": "2025-07-02T06:43:11.762668",
     "exception": false,
     "start_time": "2025-07-02T06:43:11.669286",
     "status": "completed"
    },
    "tags": []
   },
   "outputs": [
    {
     "data": {
      "text/html": [
       "<div>\n",
       "<style scoped>\n",
       "    .dataframe tbody tr th:only-of-type {\n",
       "        vertical-align: middle;\n",
       "    }\n",
       "\n",
       "    .dataframe tbody tr th {\n",
       "        vertical-align: top;\n",
       "    }\n",
       "\n",
       "    .dataframe thead th {\n",
       "        text-align: right;\n",
       "    }\n",
       "</style>\n",
       "<table border=\"1\" class=\"dataframe\">\n",
       "  <thead>\n",
       "    <tr style=\"text-align: right;\">\n",
       "      <th></th>\n",
       "      <th>id</th>\n",
       "      <th>Personality</th>\n",
       "    </tr>\n",
       "  </thead>\n",
       "  <tbody>\n",
       "    <tr>\n",
       "      <th>0</th>\n",
       "      <td>18524</td>\n",
       "      <td>Extrovert</td>\n",
       "    </tr>\n",
       "    <tr>\n",
       "      <th>1</th>\n",
       "      <td>18525</td>\n",
       "      <td>Introvert</td>\n",
       "    </tr>\n",
       "    <tr>\n",
       "      <th>2</th>\n",
       "      <td>18526</td>\n",
       "      <td>Extrovert</td>\n",
       "    </tr>\n",
       "    <tr>\n",
       "      <th>3</th>\n",
       "      <td>18527</td>\n",
       "      <td>Extrovert</td>\n",
       "    </tr>\n",
       "    <tr>\n",
       "      <th>4</th>\n",
       "      <td>18528</td>\n",
       "      <td>Introvert</td>\n",
       "    </tr>\n",
       "  </tbody>\n",
       "</table>\n",
       "</div>"
      ],
      "text/plain": [
       "      id Personality\n",
       "0  18524   Extrovert\n",
       "1  18525   Introvert\n",
       "2  18526   Extrovert\n",
       "3  18527   Extrovert\n",
       "4  18528   Introvert"
      ]
     },
     "execution_count": 24,
     "metadata": {},
     "output_type": "execute_result"
    }
   ],
   "source": [
    "save_submission('logistic-regression', lr_test_pred_probs, np.mean(scores['LogisticRegression']), best_threshold)"
   ]
  },
  {
   "cell_type": "code",
   "execution_count": 25,
   "id": "c364fc9a",
   "metadata": {
    "execution": {
     "iopub.execute_input": "2025-07-02T06:43:11.834723Z",
     "iopub.status.busy": "2025-07-02T06:43:11.833996Z",
     "iopub.status.idle": "2025-07-02T06:43:11.838697Z",
     "shell.execute_reply": "2025-07-02T06:43:11.837939Z"
    },
    "papermill": {
     "duration": 0.042283,
     "end_time": "2025-07-02T06:43:11.840286",
     "exception": false,
     "start_time": "2025-07-02T06:43:11.798003",
     "status": "completed"
    },
    "tags": []
   },
   "outputs": [],
   "source": [
    "lr_coeffs = np.zeros((1,len(X.columns)))\n",
    "for estimator in lr_trainer.estimators:\n",
    "    lr_coeffs += estimator.coef_ / CFG.n_folds"
   ]
  },
  {
   "cell_type": "code",
   "execution_count": 26,
   "id": "3f4dee7e",
   "metadata": {
    "_kg_hide-input": false,
    "execution": {
     "iopub.execute_input": "2025-07-02T06:43:11.911713Z",
     "iopub.status.busy": "2025-07-02T06:43:11.910984Z",
     "iopub.status.idle": "2025-07-02T06:43:12.190304Z",
     "shell.execute_reply": "2025-07-02T06:43:12.189385Z"
    },
    "papermill": {
     "duration": 0.316697,
     "end_time": "2025-07-02T06:43:12.191972",
     "exception": false,
     "start_time": "2025-07-02T06:43:11.875275",
     "status": "completed"
    },
    "tags": []
   },
   "outputs": [
    {
     "data": {
      "image/png": "[encoded data removed]",
      "text/plain": [
       "<Figure size 1000x350 with 1 Axes>"
      ]
     },
     "metadata": {},
     "output_type": "display_data"
    }
   ],
   "source": [
    "plot_weights(lr_coeffs, 'LR Coefficients')"
   ]
  },
  {
   "cell_type": "markdown",
   "id": "474e82bc",
   "metadata": {
    "papermill": {
     "duration": 0.035936,
     "end_time": "2025-07-02T06:43:12.263757",
     "exception": false,
     "start_time": "2025-07-02T06:43:12.227821",
     "status": "completed"
    },
    "tags": []
   },
   "source": [
    "# Results"
   ]
  },
  {
   "cell_type": "code",
   "execution_count": 27,
   "id": "c99c20ea",
   "metadata": {
    "_kg_hide-input": false,
    "execution": {
     "iopub.execute_input": "2025-07-02T06:43:12.336092Z",
     "iopub.status.busy": "2025-07-02T06:43:12.335642Z",
     "iopub.status.idle": "2025-07-02T06:43:12.935081Z",
     "shell.execute_reply": "2025-07-02T06:43:12.934165Z"
    },
    "papermill": {
     "duration": 0.637477,
     "end_time": "2025-07-02T06:43:12.936613",
     "exception": false,
     "start_time": "2025-07-02T06:43:12.299136",
     "status": "completed"
    },
    "tags": []
   },
   "outputs": [
    {
     "data": {
      "image/png": "[encoded data removed]",
      "text/plain": [
       "<Figure size 1500x320 with 2 Axes>"
      ]
     },
     "metadata": {},
     "output_type": "display_data"
    }
   ],
   "source": [
    "scores = pd.DataFrame(scores)\n",
    "mean_scores = scores.mean().sort_values(ascending=False)\n",
    "order = scores.mean().sort_values(ascending=False).index.tolist()\n",
    "\n",
    "min_score = mean_scores.min()\n",
    "max_score = mean_scores.max()\n",
    "padding = (max_score - min_score) * 0.5\n",
    "lower_limit = min_score - padding\n",
    "upper_limit = max_score + padding\n",
    "\n",
    "fig, axs = plt.subplots(1, 2, figsize=(15, scores.shape[1] * 0.4))\n",
    "\n",
    "boxplot = sns.boxplot(data=scores, order=order, ax=axs[0], orient='h', color='grey')\n",
    "axs[0].set_title('Fold Accuracy')\n",
    "axs[0].set_xlabel('')\n",
    "axs[0].set_ylabel('')\n",
    "\n",
    "barplot = sns.barplot(x=mean_scores.values, y=mean_scores.index, ax=axs[1], color='grey')\n",
    "axs[1].set_title('Average Accuracy')\n",
    "axs[1].set_xlabel('')\n",
    "axs[1].set_xlim(left=lower_limit, right=upper_limit)\n",
    "axs[1].set_ylabel('')\n",
    "\n",
    "for i, (score, model) in enumerate(zip(mean_scores.values, mean_scores.index)):\n",
    "    color = 'cyan' if 'logistic' in model.lower() else 'grey'\n",
    "    barplot.patches[i].set_facecolor(color)\n",
    "    boxplot.patches[i].set_facecolor(color)\n",
    "    barplot.text(score, i, round(score, 6), va='center')\n",
    "\n",
    "plt.tight_layout()\n",
    "plt.show()"
   ]
  },
  {
   "cell_type": "code",
   "execution_count": 28,
   "id": "ca947408",
   "metadata": {
    "execution": {
     "iopub.execute_input": "2025-07-02T06:43:13.011897Z",
     "iopub.status.busy": "2025-07-02T06:43:13.011531Z",
     "iopub.status.idle": "2025-07-02T06:43:13.016876Z",
     "shell.execute_reply": "2025-07-02T06:43:13.016055Z"
    },
    "papermill": {
     "duration": 0.044406,
     "end_time": "2025-07-02T06:43:13.018404",
     "exception": false,
     "start_time": "2025-07-02T06:43:12.973998",
     "status": "completed"
    },
    "tags": []
   },
   "outputs": [],
   "source": [
    "shutil.rmtree('catboost_info', ignore_errors=True)"
   ]
  }
 ],
 "metadata": {
  "kaggle": {
   "accelerator": "none",
   "dataSources": [
    {
     "databundleVersionId": 12738969,
     "sourceId": 91718,
     "sourceType": "competition"
    },
    {
     "sourceId": 248307751,
     "sourceType": "kernelVersion"
    }
   ],
   "dockerImageVersionId": 31040,
   "isGpuEnabled": false,
   "isInternetEnabled": true,
   "language": "python",
   "sourceType": "notebook"
  },
  "kernelspec": {
   "display_name": "Python 3",
   "language": "python",
   "name": "python3"
  },
  "language_info": {
   "codemirror_mode": {
    "name": "ipython",
    "version": 3
   },
   "file_extension": ".py",
   "mimetype": "text/x-python",
   "name": "python",
   "nbconvert_exporter": "python",
   "pygments_lexer": "ipython3",
   "version": "3.11.11"
  },
  "papermill": {
   "default_parameters": {},
   "duration": 773.581013,
   "end_time": "2025-07-02T06:43:14.178116",
   "environment_variables": {},
   "exception": null,
   "input_path": "__notebook__.ipynb",
   "output_path": "__notebook__.ipynb",
   "parameters": {},
   "start_time": "2025-07-02T06:30:20.597103",
   "version": "2.6.0"
  }
 },
 "nbformat": 4,
 "nbformat_minor": 5
}
