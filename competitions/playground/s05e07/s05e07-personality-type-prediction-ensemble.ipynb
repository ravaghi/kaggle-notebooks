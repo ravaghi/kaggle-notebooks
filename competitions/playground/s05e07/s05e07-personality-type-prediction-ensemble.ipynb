{
 "cells": [
  {
   "cell_type": "markdown",
   "id": "86f50bce",
   "metadata": {
    "papermill": {
     "duration": 0.006181,
     "end_time": "2025-07-02T12:50:48.974098",
     "exception": false,
     "start_time": "2025-07-02T12:50:48.967917",
     "status": "completed"
    },
    "tags": []
   },
   "source": [
    "# Imports and configs"
   ]
  },
  {
   "cell_type": "code",
   "execution_count": 1,
   "id": "83abd744",
   "metadata": {
    "_kg_hide-output": true,
    "execution": {
     "iopub.execute_input": "2025-07-02T12:50:48.987621Z",
     "iopub.status.busy": "2025-07-02T12:50:48.986628Z",
     "iopub.status.idle": "2025-07-02T12:50:58.376320Z",
     "shell.execute_reply": "2025-07-02T12:50:58.375255Z"
    },
    "papermill": {
     "duration": 9.398096,
     "end_time": "2025-07-02T12:50:58.378084",
     "exception": false,
     "start_time": "2025-07-02T12:50:48.979988",
     "status": "completed"
    },
    "scrolled": true,
    "tags": []
   },
   "outputs": [
    {
     "name": "stdout",
     "output_type": "stream",
     "text": [
      "Collecting scikit-learn==1.5.2\r\n",
      "  Downloading scikit_learn-1.5.2-cp311-cp311-manylinux_2_17_x86_64.manylinux2014_x86_64.whl.metadata (13 kB)\r\n",
      "Collecting koolbox\r\n",
      "  Downloading koolbox-0.1.3-py3-none-any.whl.metadata (3.4 kB)\r\n",
      "Requirement already satisfied: numpy>=1.19.5 in /usr/local/lib/python3.11/dist-packages (from scikit-learn==1.5.2) (1.26.4)\r\n",
      "Requirement already satisfied: scipy>=1.6.0 in /usr/local/lib/python3.11/dist-packages (from scikit-learn==1.5.2) (1.15.2)\r\n",
      "Requirement already satisfied: joblib>=1.2.0 in /usr/local/lib/python3.11/dist-packages (from scikit-learn==1.5.2) (1.5.0)\r\n",
      "Requirement already satisfied: threadpoolctl>=3.1.0 in /usr/local/lib/python3.11/dist-packages (from scikit-learn==1.5.2) (3.6.0)\r\n",
      "Requirement already satisfied: optuna>=4.2.1 in /usr/local/lib/python3.11/dist-packages (from koolbox) (4.3.0)\r\n",
      "Requirement already satisfied: pandas>=2.2.3 in /usr/local/lib/python3.11/dist-packages (from koolbox) (2.2.3)\r\n",
      "Requirement already satisfied: mkl_fft in /usr/local/lib/python3.11/dist-packages (from numpy>=1.19.5->scikit-learn==1.5.2) (1.3.8)\r\n",
      "Requirement already satisfied: mkl_random in /usr/local/lib/python3.11/dist-packages (from numpy>=1.19.5->scikit-learn==1.5.2) (1.2.4)\r\n",
      "Requirement already satisfied: mkl_umath in /usr/local/lib/python3.11/dist-packages (from numpy>=1.19.5->scikit-learn==1.5.2) (0.1.1)\r\n",
      "Requirement already satisfied: mkl in /usr/local/lib/python3.11/dist-packages (from numpy>=1.19.5->scikit-learn==1.5.2) (2025.1.0)\r\n",
      "Requirement already satisfied: tbb4py in /usr/local/lib/python3.11/dist-packages (from numpy>=1.19.5->scikit-learn==1.5.2) (2022.1.0)\r\n",
      "Requirement already satisfied: mkl-service in /usr/local/lib/python3.11/dist-packages (from numpy>=1.19.5->scikit-learn==1.5.2) (2.4.1)\r\n",
      "Requirement already satisfied: alembic>=1.5.0 in /usr/local/lib/python3.11/dist-packages (from optuna>=4.2.1->koolbox) (1.15.2)\r\n",
      "Requirement already satisfied: colorlog in /usr/local/lib/python3.11/dist-packages (from optuna>=4.2.1->koolbox) (6.9.0)\r\n",
      "Requirement already satisfied: packaging>=20.0 in /usr/local/lib/python3.11/dist-packages (from optuna>=4.2.1->koolbox) (25.0)\r\n",
      "Requirement already satisfied: sqlalchemy>=1.4.2 in /usr/local/lib/python3.11/dist-packages (from optuna>=4.2.1->koolbox) (2.0.40)\r\n",
      "Requirement already satisfied: tqdm in /usr/local/lib/python3.11/dist-packages (from optuna>=4.2.1->koolbox) (4.67.1)\r\n",
      "Requirement already satisfied: PyYAML in /usr/local/lib/python3.11/dist-packages (from optuna>=4.2.1->koolbox) (6.0.2)\r\n",
      "Requirement already satisfied: python-dateutil>=2.8.2 in /usr/local/lib/python3.11/dist-packages (from pandas>=2.2.3->koolbox) (2.9.0.post0)\r\n",
      "Requirement already satisfied: pytz>=2020.1 in /usr/local/lib/python3.11/dist-packages (from pandas>=2.2.3->koolbox) (2025.2)\r\n",
      "Requirement already satisfied: tzdata>=2022.7 in /usr/local/lib/python3.11/dist-packages (from pandas>=2.2.3->koolbox) (2025.2)\r\n",
      "Requirement already satisfied: Mako in /usr/local/lib/python3.11/dist-packages (from alembic>=1.5.0->optuna>=4.2.1->koolbox) (1.3.10)\r\n",
      "Requirement already satisfied: typing-extensions>=4.12 in /usr/local/lib/python3.11/dist-packages (from alembic>=1.5.0->optuna>=4.2.1->koolbox) (4.13.2)\r\n",
      "Requirement already satisfied: six>=1.5 in /usr/local/lib/python3.11/dist-packages (from python-dateutil>=2.8.2->pandas>=2.2.3->koolbox) (1.17.0)\r\n",
      "Requirement already satisfied: greenlet>=1 in /usr/local/lib/python3.11/dist-packages (from sqlalchemy>=1.4.2->optuna>=4.2.1->koolbox) (3.1.1)\r\n",
      "Requirement already satisfied: intel-openmp<2026,>=2024 in /usr/local/lib/python3.11/dist-packages (from mkl->numpy>=1.19.5->scikit-learn==1.5.2) (2024.2.0)\r\n",
      "Requirement already satisfied: tbb==2022.* in /usr/local/lib/python3.11/dist-packages (from mkl->numpy>=1.19.5->scikit-learn==1.5.2) (2022.1.0)\r\n",
      "Requirement already satisfied: tcmlib==1.* in /usr/local/lib/python3.11/dist-packages (from tbb==2022.*->mkl->numpy>=1.19.5->scikit-learn==1.5.2) (1.3.0)\r\n",
      "Requirement already satisfied: intel-cmplr-lib-rt in /usr/local/lib/python3.11/dist-packages (from mkl_umath->numpy>=1.19.5->scikit-learn==1.5.2) (2024.2.0)\r\n",
      "Requirement already satisfied: intel-cmplr-lib-ur==2024.2.0 in /usr/local/lib/python3.11/dist-packages (from intel-openmp<2026,>=2024->mkl->numpy>=1.19.5->scikit-learn==1.5.2) (2024.2.0)\r\n",
      "Requirement already satisfied: MarkupSafe>=0.9.2 in /usr/local/lib/python3.11/dist-packages (from Mako->alembic>=1.5.0->optuna>=4.2.1->koolbox) (3.0.2)\r\n",
      "Downloading scikit_learn-1.5.2-cp311-cp311-manylinux_2_17_x86_64.manylinux2014_x86_64.whl (13.3 MB)\r\n",
      "\u001b[2K   \u001b[90m━━━━━━━━━━━━━━━━━━━━━━━━━━━━━━━━━━━━━━━━\u001b[0m \u001b[32m13.3/13.3 MB\u001b[0m \u001b[31m88.9 MB/s\u001b[0m eta \u001b[36m0:00:00\u001b[0m\r\n",
      "\u001b[?25hDownloading koolbox-0.1.3-py3-none-any.whl (18 kB)\r\n",
      "Installing collected packages: scikit-learn, koolbox\r\n",
      "  Attempting uninstall: scikit-learn\r\n",
      "    Found existing installation: scikit-learn 1.2.2\r\n",
      "    Uninstalling scikit-learn-1.2.2:\r\n",
      "      Successfully uninstalled scikit-learn-1.2.2\r\n",
      "\u001b[31mERROR: pip's dependency resolver does not currently take into account all the packages that are installed. This behaviour is the source of the following dependency conflicts.\r\n",
      "cesium 0.12.4 requires numpy<3.0,>=2.0, but you have numpy 1.26.4 which is incompatible.\u001b[0m\u001b[31m\r\n",
      "\u001b[0mSuccessfully installed koolbox-0.1.3 scikit-learn-1.5.2\r\n"
     ]
    }
   ],
   "source": [
    "!pip install scikit-learn==1.5.2 koolbox"
   ]
  },
  {
   "cell_type": "code",
   "execution_count": 2,
   "id": "4ace8bb4",
   "metadata": {
    "execution": {
     "iopub.execute_input": "2025-07-02T12:50:58.392345Z",
     "iopub.status.busy": "2025-07-02T12:50:58.392041Z",
     "iopub.status.idle": "2025-07-02T12:51:07.879679Z",
     "shell.execute_reply": "2025-07-02T12:51:07.878583Z"
    },
    "papermill": {
     "duration": 9.496813,
     "end_time": "2025-07-02T12:51:07.881535",
     "exception": false,
     "start_time": "2025-07-02T12:50:58.384722",
     "status": "completed"
    },
    "tags": []
   },
   "outputs": [],
   "source": [
    "from sklearn.feature_selection import mutual_info_regression\n",
    "from sklearn.ensemble import HistGradientBoostingClassifier\n",
    "from sklearn.linear_model import LogisticRegression\n",
    "from sklearn.model_selection import StratifiedKFold\n",
    "from sklearn.metrics import accuracy_score\n",
    "from catboost import CatBoostClassifier\n",
    "from lightgbm import LGBMClassifier\n",
    "from xgboost import XGBClassifier\n",
    "from scipy.special import logit\n",
    "from koolbox import Trainer\n",
    "import matplotlib.pyplot as plt\n",
    "import seaborn as sns\n",
    "import pandas as pd\n",
    "import numpy as np\n",
    "import warnings\n",
    "import joblib\n",
    "import shutil\n",
    "import optuna\n",
    "import glob\n",
    "import json\n",
    "\n",
    "warnings.filterwarnings('ignore')"
   ]
  },
  {
   "cell_type": "code",
   "execution_count": 3,
   "id": "d50e69e7",
   "metadata": {
    "execution": {
     "iopub.execute_input": "2025-07-02T12:51:07.896683Z",
     "iopub.status.busy": "2025-07-02T12:51:07.895577Z",
     "iopub.status.idle": "2025-07-02T12:51:07.900917Z",
     "shell.execute_reply": "2025-07-02T12:51:07.900107Z"
    },
    "papermill": {
     "duration": 0.014071,
     "end_time": "2025-07-02T12:51:07.902353",
     "exception": false,
     "start_time": "2025-07-02T12:51:07.888282",
     "status": "completed"
    },
    "tags": []
   },
   "outputs": [],
   "source": [
    "class CFG:\n",
    "    train_path = '/kaggle/input/playground-series-s5e7/train.csv'\n",
    "    test_path = '/kaggle/input/playground-series-s5e7/test.csv'\n",
    "    sample_sub_path = '/kaggle/input/playground-series-s5e7/sample_submission.csv'\n",
    "    \n",
    "    target = 'Personality'\n",
    "    n_folds = 5\n",
    "    seed = 42\n",
    "    \n",
    "    cv = StratifiedKFold(n_splits=n_folds, random_state=seed, shuffle=True)\n",
    "    metric = accuracy_score\n",
    "    \n",
    "    n_optuna_trials = 500"
   ]
  },
  {
   "cell_type": "markdown",
   "id": "89505e57",
   "metadata": {
    "papermill": {
     "duration": 0.00584,
     "end_time": "2025-07-02T12:51:07.914702",
     "exception": false,
     "start_time": "2025-07-02T12:51:07.908862",
     "status": "completed"
    },
    "tags": []
   },
   "source": [
    "# Data loading and preprocessing"
   ]
  },
  {
   "cell_type": "code",
   "execution_count": 4,
   "id": "b569b7fe",
   "metadata": {
    "execution": {
     "iopub.execute_input": "2025-07-02T12:51:07.928463Z",
     "iopub.status.busy": "2025-07-02T12:51:07.928167Z",
     "iopub.status.idle": "2025-07-02T12:51:08.002262Z",
     "shell.execute_reply": "2025-07-02T12:51:08.001288Z"
    },
    "papermill": {
     "duration": 0.083084,
     "end_time": "2025-07-02T12:51:08.003996",
     "exception": false,
     "start_time": "2025-07-02T12:51:07.920912",
     "status": "completed"
    },
    "tags": []
   },
   "outputs": [],
   "source": [
    "train = pd.read_csv(CFG.train_path, index_col='id')\n",
    "test = pd.read_csv(CFG.test_path, index_col='id')\n",
    "\n",
    "train[\"Stage_fear\"] = train[\"Stage_fear\"].map({\"No\": 0, \"Yes\": 1})\n",
    "train[\"Drained_after_socializing\"] = train[\"Drained_after_socializing\"].map({\"No\": 0, \"Yes\": 1})\n",
    "\n",
    "test[\"Stage_fear\"] = test[\"Stage_fear\"].map({\"No\": 0, \"Yes\": 1})\n",
    "test[\"Drained_after_socializing\"] = test[\"Drained_after_socializing\"].map({\"No\": 0, \"Yes\": 1})\n",
    "\n",
    "train[CFG.target] = train[CFG.target].map({\"Extrovert\": 0, \"Introvert\": 1})\n",
    "\n",
    "X = train.drop(CFG.target, axis=1)\n",
    "y = train[CFG.target]\n",
    "X_test = test"
   ]
  },
  {
   "cell_type": "code",
   "execution_count": 5,
   "id": "9dad15ac",
   "metadata": {
    "execution": {
     "iopub.execute_input": "2025-07-02T12:51:08.017760Z",
     "iopub.status.busy": "2025-07-02T12:51:08.017490Z",
     "iopub.status.idle": "2025-07-02T12:51:08.429733Z",
     "shell.execute_reply": "2025-07-02T12:51:08.428858Z"
    },
    "papermill": {
     "duration": 0.421831,
     "end_time": "2025-07-02T12:51:08.432198",
     "exception": false,
     "start_time": "2025-07-02T12:51:08.010367",
     "status": "completed"
    },
    "tags": []
   },
   "outputs": [
    {
     "data": {
      "image/png": "[encoded data removed]",
      "text/plain": [
       "<Figure size 800x800 with 1 Axes>"
      ]
     },
     "metadata": {},
     "output_type": "display_data"
    }
   ],
   "source": [
    "sns.set_style(\"white\")\n",
    "plt.figure(figsize=(8, 8))\n",
    "\n",
    "corr_train = train.corr()\n",
    "mask_train = np.triu(np.ones_like(corr_train, dtype=bool), k=1)\n",
    "\n",
    "sns.heatmap(\n",
    "    data=corr_train,\n",
    "    annot=True,\n",
    "    fmt='.4f',\n",
    "    mask=mask_train,\n",
    "    square=True,\n",
    "    cmap='coolwarm',\n",
    "    annot_kws={'size': 8},\n",
    "    cbar=False\n",
    ")\n",
    "\n",
    "plt.tight_layout()\n",
    "plt.show()"
   ]
  },
  {
   "cell_type": "code",
   "execution_count": 6,
   "id": "bad00e77",
   "metadata": {
    "execution": {
     "iopub.execute_input": "2025-07-02T12:51:08.448642Z",
     "iopub.status.busy": "2025-07-02T12:51:08.448365Z",
     "iopub.status.idle": "2025-07-02T12:51:09.416120Z",
     "shell.execute_reply": "2025-07-02T12:51:09.415206Z"
    },
    "papermill": {
     "duration": 0.977646,
     "end_time": "2025-07-02T12:51:09.417701",
     "exception": false,
     "start_time": "2025-07-02T12:51:08.440055",
     "status": "completed"
    },
    "tags": []
   },
   "outputs": [
    {
     "data": {
      "text/html": [
       "<style type=\"text/css\">\n",
       "#T_07cb8_row0_col0 {\n",
       "  width: 10em;\n",
       "  background: linear-gradient(90deg, #006837 100.0%, transparent 100.0%);\n",
       "}\n",
       "#T_07cb8_row1_col0 {\n",
       "  width: 10em;\n",
       "  background: linear-gradient(90deg, #0b7d42 95.5%, transparent 95.5%);\n",
       "}\n",
       "#T_07cb8_row2_col0 {\n",
       "  width: 10em;\n",
       "  background: linear-gradient(90deg, #108647 93.5%, transparent 93.5%);\n",
       "}\n",
       "#T_07cb8_row3_col0 {\n",
       "  width: 10em;\n",
       "  background: linear-gradient(90deg, #219c52 89.0%, transparent 89.0%);\n",
       "}\n",
       "#T_07cb8_row4_col0 {\n",
       "  width: 10em;\n",
       "  background: linear-gradient(90deg, #249d53 88.7%, transparent 88.7%);\n",
       "}\n",
       "#T_07cb8_row5_col0 {\n",
       "  width: 10em;\n",
       "  background: linear-gradient(90deg, #36a657 86.0%, transparent 86.0%);\n",
       "}\n",
       "#T_07cb8_row6_col0 {\n",
       "  width: 10em;\n",
       "  background: linear-gradient(90deg, #5ab760 81.6%, transparent 81.6%);\n",
       "}\n",
       "</style>\n",
       "<table id=\"T_07cb8\">\n",
       "  <thead>\n",
       "    <tr>\n",
       "      <th class=\"blank level0\" >&nbsp;</th>\n",
       "      <th id=\"T_07cb8_level0_col0\" class=\"col_heading level0 col0\" >Mutual Information</th>\n",
       "    </tr>\n",
       "  </thead>\n",
       "  <tbody>\n",
       "    <tr>\n",
       "      <th id=\"T_07cb8_level0_row0\" class=\"row_heading level0 row0\" >Time_spent_Alone</th>\n",
       "      <td id=\"T_07cb8_row0_col0\" class=\"data row0 col0\" >0.353570</td>\n",
       "    </tr>\n",
       "    <tr>\n",
       "      <th id=\"T_07cb8_level0_row1\" class=\"row_heading level0 row1\" >Drained_after_socializing</th>\n",
       "      <td id=\"T_07cb8_row1_col0\" class=\"data row1 col0\" >0.337575</td>\n",
       "    </tr>\n",
       "    <tr>\n",
       "      <th id=\"T_07cb8_level0_row2\" class=\"row_heading level0 row2\" >Social_event_attendance</th>\n",
       "      <td id=\"T_07cb8_row2_col0\" class=\"data row2 col0\" >0.330482</td>\n",
       "    </tr>\n",
       "    <tr>\n",
       "      <th id=\"T_07cb8_level0_row3\" class=\"row_heading level0 row3\" >Stage_fear</th>\n",
       "      <td id=\"T_07cb8_row3_col0\" class=\"data row3 col0\" >0.314673</td>\n",
       "    </tr>\n",
       "    <tr>\n",
       "      <th id=\"T_07cb8_level0_row4\" class=\"row_heading level0 row4\" >Post_frequency</th>\n",
       "      <td id=\"T_07cb8_row4_col0\" class=\"data row4 col0\" >0.313469</td>\n",
       "    </tr>\n",
       "    <tr>\n",
       "      <th id=\"T_07cb8_level0_row5\" class=\"row_heading level0 row5\" >Going_outside</th>\n",
       "      <td id=\"T_07cb8_row5_col0\" class=\"data row5 col0\" >0.304151</td>\n",
       "    </tr>\n",
       "    <tr>\n",
       "      <th id=\"T_07cb8_level0_row6\" class=\"row_heading level0 row6\" >Friends_circle_size</th>\n",
       "      <td id=\"T_07cb8_row6_col0\" class=\"data row6 col0\" >0.288645</td>\n",
       "    </tr>\n",
       "  </tbody>\n",
       "</table>\n"
      ],
      "text/plain": [
       "<pandas.io.formats.style.Styler at 0x7fc5d53d3150>"
      ]
     },
     "execution_count": 6,
     "metadata": {},
     "output_type": "execute_result"
    }
   ],
   "source": [
    "mutual_info = mutual_info_regression(X.fillna(0), y, random_state=CFG.seed)\n",
    "\n",
    "mutual_info = pd.Series(mutual_info)\n",
    "mutual_info.index = X.columns\n",
    "mutual_info = pd.DataFrame(mutual_info.sort_values(ascending=False), columns=['Mutual Information'])\n",
    "mutual_info.style.bar(subset=['Mutual Information'], cmap='RdYlGn')"
   ]
  },
  {
   "cell_type": "code",
   "execution_count": 7,
   "id": "7060c2a7",
   "metadata": {
    "execution": {
     "iopub.execute_input": "2025-07-02T12:51:09.435352Z",
     "iopub.status.busy": "2025-07-02T12:51:09.435023Z",
     "iopub.status.idle": "2025-07-02T12:51:09.484891Z",
     "shell.execute_reply": "2025-07-02T12:51:09.484152Z"
    },
    "papermill": {
     "duration": 0.060238,
     "end_time": "2025-07-02T12:51:09.486462",
     "exception": false,
     "start_time": "2025-07-02T12:51:09.426224",
     "status": "completed"
    },
    "tags": []
   },
   "outputs": [],
   "source": [
    "train = pd.read_csv(CFG.train_path, index_col='id')\n",
    "test = pd.read_csv(CFG.test_path, index_col='id')\n",
    "\n",
    "cat_cols = [\"Stage_fear\", \"Drained_after_socializing\"]\n",
    "train[cat_cols] = train[cat_cols].fillna(\"missing\").astype(\"category\")\n",
    "test[cat_cols] = test[cat_cols].fillna(\"missing\").astype(\"category\")\n",
    "\n",
    "train[CFG.target] = train[CFG.target].map({\"Extrovert\": 0, \"Introvert\": 1})\n",
    "\n",
    "X = train.drop(CFG.target, axis=1)\n",
    "y = train[CFG.target]\n",
    "X_test = test"
   ]
  },
  {
   "cell_type": "markdown",
   "id": "3515e5a6",
   "metadata": {
    "papermill": {
     "duration": 0.007315,
     "end_time": "2025-07-02T12:51:09.501671",
     "exception": false,
     "start_time": "2025-07-02T12:51:09.494356",
     "status": "completed"
    },
    "tags": []
   },
   "source": [
    "# Training base models"
   ]
  },
  {
   "cell_type": "code",
   "execution_count": 8,
   "id": "2168fdc9",
   "metadata": {
    "execution": {
     "iopub.execute_input": "2025-07-02T12:51:09.518392Z",
     "iopub.status.busy": "2025-07-02T12:51:09.518059Z",
     "iopub.status.idle": "2025-07-02T12:51:09.523679Z",
     "shell.execute_reply": "2025-07-02T12:51:09.522716Z"
    },
    "papermill": {
     "duration": 0.015968,
     "end_time": "2025-07-02T12:51:09.525310",
     "exception": false,
     "start_time": "2025-07-02T12:51:09.509342",
     "status": "completed"
    },
    "tags": []
   },
   "outputs": [],
   "source": [
    "def save_submission(name, test_pred_probs, score, threshold=0.5):\n",
    "    sub = pd.read_csv(CFG.sample_sub_path)\n",
    "    sub[CFG.target] = (test_pred_probs > threshold).astype(int)\n",
    "    sub[CFG.target] = sub[CFG.target].map({0: \"Extrovert\", 1: \"Introvert\"})\n",
    "    sub.to_csv(f'sub_{name}_{score:.6f}.csv', index=False)\n",
    "    return sub.head()"
   ]
  },
  {
   "cell_type": "code",
   "execution_count": 9,
   "id": "e11d5df2",
   "metadata": {
    "_kg_hide-input": true,
    "_kg_hide-output": true,
    "execution": {
     "iopub.execute_input": "2025-07-02T12:51:09.542421Z",
     "iopub.status.busy": "2025-07-02T12:51:09.542139Z",
     "iopub.status.idle": "2025-07-02T12:51:09.551250Z",
     "shell.execute_reply": "2025-07-02T12:51:09.550498Z"
    },
    "papermill": {
     "duration": 0.019308,
     "end_time": "2025-07-02T12:51:09.552635",
     "exception": false,
     "start_time": "2025-07-02T12:51:09.533327",
     "status": "completed"
    },
    "tags": []
   },
   "outputs": [],
   "source": [
    "cb_params = {\n",
    "    \"border_count\": 39,\n",
    "    \"colsample_bylevel\": 0.19459088572914465,\n",
    "    \"depth\": 2,\n",
    "    \"iterations\": 1467,\n",
    "    \"l2_leaf_reg\": 31.236169478676036,\n",
    "    \"learning_rate\": 0.06852669420904771,\n",
    "    \"min_child_samples\": 160,\n",
    "    \"random_state\": 42,\n",
    "    \"random_strength\": 0.8517786189616939,\n",
    "    \"scale_pos_weight\": 1.1691394390533685,\n",
    "    \"subsample\": 0.3192330024411618,\n",
    "    \"verbose\": False,\n",
    "    \"cat_features\": cat_cols\n",
    "}\n",
    "\n",
    "xgb_params = {\n",
    "    \"colsample_bylevel\": 0.8168489864941239,\n",
    "    \"colsample_bynode\": 0.8850485490950061,\n",
    "    \"colsample_bytree\": 0.8379339940113913,\n",
    "    \"gamma\": 2.3977359439809276,\n",
    "    \"learning_rate\": 0.0616974880921061,\n",
    "    \"max_depth\": 344,\n",
    "    \"max_leaves\": 89,\n",
    "    \"min_child_weight\": 10,\n",
    "    \"n_estimators\": 696,\n",
    "    \"n_jobs\": -1,\n",
    "    \"random_state\": 42,\n",
    "    \"reg_alpha\": 1.849084818346014,\n",
    "    \"reg_lambda\": 29.680324563362227,\n",
    "    \"subsample\": 0.5902901569391961,\n",
    "    \"verbosity\": 0,\n",
    "    \"enable_categorical\": True\n",
    "}\n",
    "\n",
    "hgb_params = {\n",
    "    \"l2_regularization\": 28.13576008319012,\n",
    "    \"learning_rate\": 0.1543598086529694,\n",
    "    \"max_depth\": 325,\n",
    "    \"max_features\": 0.323620656779567,\n",
    "    \"max_iter\": 2490,\n",
    "    \"max_leaf_nodes\": 216,\n",
    "    \"min_samples_leaf\": 12,\n",
    "    \"random_state\": 42,\n",
    "    \"categorical_features\": \"from_dtype\"\n",
    "}\n",
    "\n",
    "lgbm_params = {\n",
    "    \"boosting_type\": \"gbdt\",\n",
    "    \"colsample_bytree\": 0.6467443250209886,\n",
    "    \"learning_rate\": 0.06547186748153115,\n",
    "    \"min_child_samples\": 34,\n",
    "    \"min_child_weight\": 0.24399244943904663,\n",
    "    \"n_estimators\": 498,\n",
    "    \"n_jobs\": -1,\n",
    "    \"num_leaves\": 158,\n",
    "    \"random_state\": 42,\n",
    "    \"reg_alpha\": 6.568921253574134,\n",
    "    \"reg_lambda\": 62.66165355751099,\n",
    "    \"subsample\": 0.0011019938618584968,\n",
    "    \"verbose\": -1\n",
    "}\n",
    "\n",
    "lgbm_goss_params = {\n",
    "    \"boosting_type\": \"goss\",\n",
    "    \"colsample_bytree\": 0.8384834064170148,\n",
    "    \"learning_rate\": 0.07006829797238343,\n",
    "    \"min_child_samples\": 46,\n",
    "    \"min_child_weight\": 0.7625394962666617,\n",
    "    \"n_estimators\": 1887,\n",
    "    \"n_jobs\": -1,\n",
    "    \"num_leaves\": 341,\n",
    "    \"random_state\": 42,\n",
    "    \"reg_alpha\": 10.53082019937197,\n",
    "    \"reg_lambda\": 67.44600065144685,\n",
    "    \"subsample\": 0.4925008305336127,\n",
    "    \"verbose\": -1\n",
    "}\n",
    "\n",
    "lgbm_dart_params = {\n",
    "    \"boosting_type\": \"dart\",\n",
    "    \"colsample_bytree\": 0.7592971191793424,\n",
    "    \"learning_rate\": 0.046141766106846074,\n",
    "    \"min_child_samples\": 18,\n",
    "    \"min_child_weight\": 0.4740109054323218,\n",
    "    \"n_estimators\": 4035,\n",
    "    \"n_jobs\": -1,\n",
    "    \"num_leaves\": 393,\n",
    "    \"random_state\": 42,\n",
    "    \"reg_alpha\": 48.016799341666605,\n",
    "    \"reg_lambda\": 89.12860300833658,\n",
    "    \"subsample\": 0.016333358901112538,\n",
    "    \"verbose\": -1\n",
    "}"
   ]
  },
  {
   "cell_type": "code",
   "execution_count": 10,
   "id": "6d6b3681",
   "metadata": {
    "execution": {
     "iopub.execute_input": "2025-07-02T12:51:09.569775Z",
     "iopub.status.busy": "2025-07-02T12:51:09.569456Z",
     "iopub.status.idle": "2025-07-02T12:51:09.573781Z",
     "shell.execute_reply": "2025-07-02T12:51:09.572972Z"
    },
    "papermill": {
     "duration": 0.014615,
     "end_time": "2025-07-02T12:51:09.575343",
     "exception": false,
     "start_time": "2025-07-02T12:51:09.560728",
     "status": "completed"
    },
    "tags": []
   },
   "outputs": [],
   "source": [
    "scores = {}\n",
    "oof_pred_probs = {}\n",
    "test_pred_probs = {}"
   ]
  },
  {
   "cell_type": "markdown",
   "id": "bdded819",
   "metadata": {
    "papermill": {
     "duration": 0.007417,
     "end_time": "2025-07-02T12:51:09.590759",
     "exception": false,
     "start_time": "2025-07-02T12:51:09.583342",
     "status": "completed"
    },
    "tags": []
   },
   "source": [
    "## CatBoost"
   ]
  },
  {
   "cell_type": "code",
   "execution_count": 11,
   "id": "28e3f0a2",
   "metadata": {
    "execution": {
     "iopub.execute_input": "2025-07-02T12:51:09.608635Z",
     "iopub.status.busy": "2025-07-02T12:51:09.607674Z",
     "iopub.status.idle": "2025-07-02T12:51:54.184355Z",
     "shell.execute_reply": "2025-07-02T12:51:54.183352Z"
    },
    "papermill": {
     "duration": 44.587444,
     "end_time": "2025-07-02T12:51:54.186152",
     "exception": false,
     "start_time": "2025-07-02T12:51:09.598708",
     "status": "completed"
    },
    "tags": []
   },
   "outputs": [
    {
     "name": "stdout",
     "output_type": "stream",
     "text": [
      "Training CatBoostClassifier\n",
      "\n",
      "--- Fold 0 - accuracy_score: 0.969771 - Time: 8.78 s\n",
      "--- Fold 1 - accuracy_score: 0.968151 - Time: 8.47 s\n",
      "--- Fold 2 - accuracy_score: 0.965992 - Time: 9.42 s\n",
      "--- Fold 3 - accuracy_score: 0.970850 - Time: 8.56 s\n",
      "--- Fold 4 - accuracy_score: 0.971112 - Time: 8.60 s\n",
      "\n",
      "------ Overall accuracy_score: 0.969175 - Mean accuracy_score: 0.969175 ± 0.001902 - Time: 44.52 s\n"
     ]
    }
   ],
   "source": [
    "cb_trainer = Trainer(\n",
    "    CatBoostClassifier(**cb_params),\n",
    "    cv=CFG.cv,\n",
    "    metric=CFG.metric,\n",
    "    use_early_stopping=False,\n",
    "    task=\"binary\",\n",
    "    metric_precision=6,\n",
    ")\n",
    "\n",
    "cb_trainer.fit(X, y)\n",
    "\n",
    "scores[\"CatBoost\"] = cb_trainer.fold_scores\n",
    "oof_pred_probs[\"CatBoost\"] = cb_trainer.oof_preds\n",
    "test_pred_probs[\"CatBoost\"] = cb_trainer.predict(X_test)"
   ]
  },
  {
   "cell_type": "markdown",
   "id": "413e6965",
   "metadata": {
    "papermill": {
     "duration": 0.007899,
     "end_time": "2025-07-02T12:51:54.202556",
     "exception": false,
     "start_time": "2025-07-02T12:51:54.194657",
     "status": "completed"
    },
    "tags": []
   },
   "source": [
    "## XGBoost"
   ]
  },
  {
   "cell_type": "code",
   "execution_count": 12,
   "id": "c2189429",
   "metadata": {
    "execution": {
     "iopub.execute_input": "2025-07-02T12:51:54.219859Z",
     "iopub.status.busy": "2025-07-02T12:51:54.219519Z",
     "iopub.status.idle": "2025-07-02T12:51:57.016217Z",
     "shell.execute_reply": "2025-07-02T12:51:57.015557Z"
    },
    "papermill": {
     "duration": 2.807192,
     "end_time": "2025-07-02T12:51:57.017630",
     "exception": false,
     "start_time": "2025-07-02T12:51:54.210438",
     "status": "completed"
    },
    "tags": []
   },
   "outputs": [
    {
     "name": "stdout",
     "output_type": "stream",
     "text": [
      "Training XGBClassifier\n",
      "\n",
      "--- Fold 0 - accuracy_score: 0.970040 - Time: 0.43 s\n",
      "--- Fold 1 - accuracy_score: 0.967881 - Time: 0.40 s\n",
      "--- Fold 2 - accuracy_score: 0.966262 - Time: 0.39 s\n",
      "--- Fold 3 - accuracy_score: 0.971120 - Time: 0.40 s\n",
      "--- Fold 4 - accuracy_score: 0.971112 - Time: 0.40 s\n",
      "\n",
      "------ Overall accuracy_score: 0.969283 - Mean accuracy_score: 0.969283 ± 0.001918 - Time: 2.72 s\n"
     ]
    }
   ],
   "source": [
    "xgb_trainer = Trainer(\n",
    "    XGBClassifier(**xgb_params),\n",
    "    cv=CFG.cv,\n",
    "    metric=CFG.metric,\n",
    "    task=\"binary\",\n",
    "    metric_precision=6,\n",
    ")\n",
    "\n",
    "xgb_trainer.fit(X, y)\n",
    "\n",
    "scores[\"XGBoost\"] = xgb_trainer.fold_scores\n",
    "oof_pred_probs[\"XGBoost\"] = xgb_trainer.oof_preds\n",
    "test_pred_probs[\"XGBoost\"] = xgb_trainer.predict(X_test)"
   ]
  },
  {
   "cell_type": "markdown",
   "id": "9757ef0b",
   "metadata": {
    "papermill": {
     "duration": 0.008375,
     "end_time": "2025-07-02T12:51:57.035092",
     "exception": false,
     "start_time": "2025-07-02T12:51:57.026717",
     "status": "completed"
    },
    "tags": []
   },
   "source": [
    "## HistGradientBoostingClassifier"
   ]
  },
  {
   "cell_type": "code",
   "execution_count": 13,
   "id": "12fb6f50",
   "metadata": {
    "execution": {
     "iopub.execute_input": "2025-07-02T12:51:57.053313Z",
     "iopub.status.busy": "2025-07-02T12:51:57.052979Z",
     "iopub.status.idle": "2025-07-02T12:52:00.336032Z",
     "shell.execute_reply": "2025-07-02T12:52:00.335022Z"
    },
    "papermill": {
     "duration": 3.294677,
     "end_time": "2025-07-02T12:52:00.338103",
     "exception": false,
     "start_time": "2025-07-02T12:51:57.043426",
     "status": "completed"
    },
    "tags": []
   },
   "outputs": [
    {
     "name": "stdout",
     "output_type": "stream",
     "text": [
      "Training HistGradientBoostingClassifier\n",
      "\n",
      "--- Fold 0 - accuracy_score: 0.969771 - Time: 0.36 s\n",
      "--- Fold 1 - accuracy_score: 0.968151 - Time: 0.42 s\n",
      "--- Fold 2 - accuracy_score: 0.965722 - Time: 0.58 s\n",
      "--- Fold 3 - accuracy_score: 0.970580 - Time: 0.65 s\n",
      "--- Fold 4 - accuracy_score: 0.970842 - Time: 0.44 s\n",
      "\n",
      "------ Overall accuracy_score: 0.969013 - Mean accuracy_score: 0.969013 ± 0.001895 - Time: 3.15 s\n"
     ]
    }
   ],
   "source": [
    "hgb_trainer = Trainer(\n",
    "    HistGradientBoostingClassifier(**hgb_params),\n",
    "    cv=CFG.cv,\n",
    "    metric=CFG.metric,\n",
    "    task=\"binary\",\n",
    "    metric_precision=6,\n",
    ")\n",
    "\n",
    "hgb_trainer.fit(X, y)\n",
    "\n",
    "scores[\"HistGradientBoosting\"] = hgb_trainer.fold_scores\n",
    "oof_pred_probs[\"HistGradientBoosting\"] = hgb_trainer.oof_preds\n",
    "test_pred_probs[\"HistGradientBoosting\"] = hgb_trainer.predict(X_test)"
   ]
  },
  {
   "cell_type": "markdown",
   "id": "8dc8fade",
   "metadata": {
    "papermill": {
     "duration": 0.008608,
     "end_time": "2025-07-02T12:52:00.355576",
     "exception": false,
     "start_time": "2025-07-02T12:52:00.346968",
     "status": "completed"
    },
    "tags": []
   },
   "source": [
    "## LightGBM (gbdt)"
   ]
  },
  {
   "cell_type": "code",
   "execution_count": 14,
   "id": "8a7bad30",
   "metadata": {
    "execution": {
     "iopub.execute_input": "2025-07-02T12:52:00.374872Z",
     "iopub.status.busy": "2025-07-02T12:52:00.374524Z",
     "iopub.status.idle": "2025-07-02T12:52:03.314126Z",
     "shell.execute_reply": "2025-07-02T12:52:03.313356Z"
    },
    "papermill": {
     "duration": 2.950976,
     "end_time": "2025-07-02T12:52:03.315755",
     "exception": false,
     "start_time": "2025-07-02T12:52:00.364779",
     "status": "completed"
    },
    "tags": []
   },
   "outputs": [
    {
     "name": "stdout",
     "output_type": "stream",
     "text": [
      "Training LGBMClassifier\n",
      "\n",
      "--- Fold 0 - accuracy_score: 0.970040 - Time: 0.47 s\n",
      "--- Fold 1 - accuracy_score: 0.968421 - Time: 0.36 s\n",
      "--- Fold 2 - accuracy_score: 0.966262 - Time: 0.35 s\n",
      "--- Fold 3 - accuracy_score: 0.970850 - Time: 0.32 s\n",
      "--- Fold 4 - accuracy_score: 0.971652 - Time: 0.51 s\n",
      "\n",
      "------ Overall accuracy_score: 0.969445 - Mean accuracy_score: 0.969445 ± 0.001917 - Time: 2.72 s\n"
     ]
    }
   ],
   "source": [
    "lgbm_gbdt_trainer = Trainer(\n",
    "    LGBMClassifier(**lgbm_params),\n",
    "    cv=CFG.cv,\n",
    "    metric=CFG.metric,\n",
    "    use_early_stopping=False,\n",
    "    task=\"binary\",\n",
    "    metric_precision=6,\n",
    ")\n",
    "\n",
    "lgbm_gbdt_trainer.fit(X, y)\n",
    "\n",
    "scores[\"LightGBM (gbdt)\"] = lgbm_gbdt_trainer.fold_scores\n",
    "oof_pred_probs[\"LightGBM (gbdt)\"] = lgbm_gbdt_trainer.oof_preds\n",
    "test_pred_probs[\"LightGBM (gbdt)\"] = lgbm_gbdt_trainer.predict(X_test)"
   ]
  },
  {
   "cell_type": "markdown",
   "id": "53a2e04e",
   "metadata": {
    "papermill": {
     "duration": 0.008729,
     "end_time": "2025-07-02T12:52:03.334150",
     "exception": false,
     "start_time": "2025-07-02T12:52:03.325421",
     "status": "completed"
    },
    "tags": []
   },
   "source": [
    "## LightGBM (goss)"
   ]
  },
  {
   "cell_type": "code",
   "execution_count": 15,
   "id": "f9295e39",
   "metadata": {
    "execution": {
     "iopub.execute_input": "2025-07-02T12:52:03.353893Z",
     "iopub.status.busy": "2025-07-02T12:52:03.353578Z",
     "iopub.status.idle": "2025-07-02T12:52:14.586165Z",
     "shell.execute_reply": "2025-07-02T12:52:14.585479Z"
    },
    "papermill": {
     "duration": 11.244499,
     "end_time": "2025-07-02T12:52:14.587696",
     "exception": false,
     "start_time": "2025-07-02T12:52:03.343197",
     "status": "completed"
    },
    "tags": []
   },
   "outputs": [
    {
     "name": "stdout",
     "output_type": "stream",
     "text": [
      "Training LGBMClassifier\n",
      "\n",
      "--- Fold 0 - accuracy_score: 0.970040 - Time: 3.36 s\n",
      "--- Fold 1 - accuracy_score: 0.968421 - Time: 1.59 s\n",
      "--- Fold 2 - accuracy_score: 0.966532 - Time: 1.64 s\n",
      "--- Fold 3 - accuracy_score: 0.970850 - Time: 1.60 s\n",
      "--- Fold 4 - accuracy_score: 0.971382 - Time: 1.75 s\n",
      "\n",
      "------ Overall accuracy_score: 0.969445 - Mean accuracy_score: 0.969445 ± 0.001767 - Time: 10.63 s\n"
     ]
    }
   ],
   "source": [
    "lgbm_goss_trainer = Trainer(\n",
    "    LGBMClassifier(**lgbm_goss_params),\n",
    "    cv=CFG.cv,\n",
    "    metric=CFG.metric,\n",
    "    use_early_stopping=False,\n",
    "    task=\"binary\",\n",
    "    metric_precision=6,\n",
    ")\n",
    "\n",
    "lgbm_goss_trainer.fit(X, y)\n",
    "\n",
    "scores[\"LightGBM (goss)\"] = lgbm_goss_trainer.fold_scores\n",
    "oof_pred_probs[\"LightGBM (goss)\"] = lgbm_goss_trainer.oof_preds\n",
    "test_pred_probs[\"LightGBM (goss)\"] = lgbm_goss_trainer.predict(X_test)"
   ]
  },
  {
   "cell_type": "markdown",
   "id": "84727973",
   "metadata": {
    "papermill": {
     "duration": 0.009055,
     "end_time": "2025-07-02T12:52:14.606804",
     "exception": false,
     "start_time": "2025-07-02T12:52:14.597749",
     "status": "completed"
    },
    "tags": []
   },
   "source": [
    "## LightGBM (dart)"
   ]
  },
  {
   "cell_type": "code",
   "execution_count": 16,
   "id": "a20016b2",
   "metadata": {
    "execution": {
     "iopub.execute_input": "2025-07-02T12:52:14.627036Z",
     "iopub.status.busy": "2025-07-02T12:52:14.626343Z",
     "iopub.status.idle": "2025-07-02T12:56:51.508334Z",
     "shell.execute_reply": "2025-07-02T12:56:51.507669Z"
    },
    "papermill": {
     "duration": 276.893741,
     "end_time": "2025-07-02T12:56:51.509939",
     "exception": false,
     "start_time": "2025-07-02T12:52:14.616198",
     "status": "completed"
    },
    "tags": []
   },
   "outputs": [
    {
     "name": "stdout",
     "output_type": "stream",
     "text": [
      "Training LGBMClassifier\n",
      "\n",
      "--- Fold 0 - accuracy_score: 0.970040 - Time: 57.66 s\n",
      "--- Fold 1 - accuracy_score: 0.968421 - Time: 52.25 s\n",
      "--- Fold 2 - accuracy_score: 0.966262 - Time: 54.57 s\n",
      "--- Fold 3 - accuracy_score: 0.971120 - Time: 55.29 s\n",
      "--- Fold 4 - accuracy_score: 0.971112 - Time: 53.70 s\n",
      "\n",
      "------ Overall accuracy_score: 0.969391 - Mean accuracy_score: 0.969391 ± 0.001850 - Time: 274.17 s\n"
     ]
    }
   ],
   "source": [
    "lgbm_dart_trainer = Trainer(\n",
    "    LGBMClassifier(**lgbm_dart_params),\n",
    "    cv=CFG.cv,\n",
    "    metric=CFG.metric,\n",
    "    use_early_stopping=False,\n",
    "    task=\"binary\",\n",
    "    metric_precision=6,\n",
    ")\n",
    "\n",
    "lgbm_dart_trainer.fit(X, y)\n",
    "\n",
    "scores[\"LightGBM (dart)\"] = lgbm_dart_trainer.fold_scores\n",
    "oof_pred_probs[\"LightGBM (dart)\"] = lgbm_dart_trainer.oof_preds\n",
    "test_pred_probs[\"LightGBM (dart)\"] = lgbm_dart_trainer.predict(X_test)"
   ]
  },
  {
   "cell_type": "markdown",
   "id": "eb3b1471",
   "metadata": {
    "papermill": {
     "duration": 0.009561,
     "end_time": "2025-07-02T12:56:51.596940",
     "exception": false,
     "start_time": "2025-07-02T12:56:51.587379",
     "status": "completed"
    },
    "tags": []
   },
   "source": [
    "## AutoGluon"
   ]
  },
  {
   "cell_type": "code",
   "execution_count": 17,
   "id": "ff4645c7",
   "metadata": {
    "execution": {
     "iopub.execute_input": "2025-07-02T12:56:51.617530Z",
     "iopub.status.busy": "2025-07-02T12:56:51.617227Z",
     "iopub.status.idle": "2025-07-02T12:56:51.664588Z",
     "shell.execute_reply": "2025-07-02T12:56:51.663879Z"
    },
    "papermill": {
     "duration": 0.059828,
     "end_time": "2025-07-02T12:56:51.666348",
     "exception": false,
     "start_time": "2025-07-02T12:56:51.606520",
     "status": "completed"
    },
    "tags": []
   },
   "outputs": [],
   "source": [
    "oof_pred_probs_files = glob.glob(f'/kaggle/input/s05e07-personality-type-prediction-autogluon/*_oof_pred_probs_*.pkl')\n",
    "test_pred_probs_files = glob.glob(f'/kaggle/input/s05e07-personality-type-prediction-autogluon/*_test_pred_probs_*.pkl')\n",
    "\n",
    "ag_oof_pred_probs = joblib.load(oof_pred_probs_files[0])\n",
    "ag_test_pred_probs = joblib.load(test_pred_probs_files[0])\n",
    "\n",
    "ag_scores = []\n",
    "for _, val_idx in CFG.cv.split(X, y):\n",
    "    y_val = y[val_idx]\n",
    "    y_preds = ag_oof_pred_probs[val_idx]\n",
    "    score = accuracy_score(y_val, y_preds >= 0.5)\n",
    "    ag_scores.append(score)\n",
    "    \n",
    "oof_pred_probs[\"AutoGluon\"], test_pred_probs[\"AutoGluon\"], scores[\"AutoGluon\"] = ag_oof_pred_probs, ag_test_pred_probs, ag_scores"
   ]
  },
  {
   "cell_type": "markdown",
   "id": "a380d926",
   "metadata": {
    "papermill": {
     "duration": 0.009959,
     "end_time": "2025-07-02T12:56:51.686595",
     "exception": false,
     "start_time": "2025-07-02T12:56:51.676636",
     "status": "completed"
    },
    "tags": []
   },
   "source": [
    "# Ensembling with Logistic Regression"
   ]
  },
  {
   "cell_type": "code",
   "execution_count": 18,
   "id": "48b058c9",
   "metadata": {
    "_kg_hide-input": true,
    "execution": {
     "iopub.execute_input": "2025-07-02T12:56:51.707339Z",
     "iopub.status.busy": "2025-07-02T12:56:51.707021Z",
     "iopub.status.idle": "2025-07-02T12:56:51.714583Z",
     "shell.execute_reply": "2025-07-02T12:56:51.713680Z"
    },
    "papermill": {
     "duration": 0.019952,
     "end_time": "2025-07-02T12:56:51.716210",
     "exception": false,
     "start_time": "2025-07-02T12:56:51.696258",
     "status": "completed"
    },
    "tags": []
   },
   "outputs": [],
   "source": [
    "def plot_weights(weights, title):\n",
    "    sorted_indices = np.argsort(weights[0])[::-1]\n",
    "    sorted_coeffs = np.array(weights[0])[sorted_indices]\n",
    "    sorted_model_names = np.array(list(oof_pred_probs.keys()))[sorted_indices]\n",
    "\n",
    "    plt.figure(figsize=(10, weights.shape[1] * 0.5))\n",
    "    ax = sns.barplot(x=sorted_coeffs, y=sorted_model_names, palette=\"RdYlGn_r\")\n",
    "\n",
    "    for i, (value, name) in enumerate(zip(sorted_coeffs, sorted_model_names)):\n",
    "        if value >= 0:\n",
    "            ax.text(value, i, f'{value:.3f}', va='center', ha='left', color='black')\n",
    "        else:\n",
    "            ax.text(value, i, f'{value:.3f}', va='center', ha='right', color='black')\n",
    "\n",
    "    xlim = ax.get_xlim()\n",
    "    ax.set_xlim(xlim[0] - 0.1 * abs(xlim[0]), xlim[1] + 0.1 * abs(xlim[1]))\n",
    "\n",
    "    plt.title(title)\n",
    "    plt.xlabel('')\n",
    "    plt.ylabel('')\n",
    "    plt.tight_layout()\n",
    "    plt.show()"
   ]
  },
  {
   "cell_type": "code",
   "execution_count": 19,
   "id": "eb322f52",
   "metadata": {
    "execution": {
     "iopub.execute_input": "2025-07-02T12:56:51.737864Z",
     "iopub.status.busy": "2025-07-02T12:56:51.737464Z",
     "iopub.status.idle": "2025-07-02T12:56:51.757078Z",
     "shell.execute_reply": "2025-07-02T12:56:51.756159Z"
    },
    "papermill": {
     "duration": 0.032186,
     "end_time": "2025-07-02T12:56:51.758648",
     "exception": false,
     "start_time": "2025-07-02T12:56:51.726462",
     "status": "completed"
    },
    "tags": []
   },
   "outputs": [
    {
     "data": {
      "text/plain": [
       "['test_pred_probs.pkl']"
      ]
     },
     "execution_count": 19,
     "metadata": {},
     "output_type": "execute_result"
    }
   ],
   "source": [
    "X = logit(pd.DataFrame(oof_pred_probs).clip(1e-15, 1-1e-15))\n",
    "X_test = logit(pd.DataFrame(test_pred_probs).clip(1e-15, 1-1e-15))\n",
    "\n",
    "joblib.dump(oof_pred_probs, \"oof_pred_probs.pkl\")\n",
    "joblib.dump(test_pred_probs, \"test_pred_probs.pkl\")"
   ]
  },
  {
   "cell_type": "code",
   "execution_count": 20,
   "id": "4f4c81f9",
   "metadata": {
    "_kg_hide-output": true,
    "execution": {
     "iopub.execute_input": "2025-07-02T12:56:51.780383Z",
     "iopub.status.busy": "2025-07-02T12:56:51.779667Z",
     "iopub.status.idle": "2025-07-02T13:04:06.444448Z",
     "shell.execute_reply": "2025-07-02T13:04:06.443621Z"
    },
    "papermill": {
     "duration": 434.677179,
     "end_time": "2025-07-02T13:04:06.445972",
     "exception": false,
     "start_time": "2025-07-02T12:56:51.768793",
     "status": "completed"
    },
    "scrolled": true,
    "tags": []
   },
   "outputs": [
    {
     "name": "stderr",
     "output_type": "stream",
     "text": [
      "[I 2025-07-02 12:56:51,785] A new study created in memory with name: no-name-3ec8ae88-0fd6-47f8-8a33-12c29b95a884\n",
      "[I 2025-07-02 12:56:54,394] Trial 3 finished with value: 0.9663680508798163 and parameters: {'solver_penalty': ('lbfgs', 'l2'), 'C': 0.2763446995614727, 'tol': 0.004076968390398943, 'fit_intercept': True, 'class_weight': None, 'threshold': 0.827571242270809}. Best is trial 3 with value: 0.9663680508798163.\n",
      "[I 2025-07-02 12:56:54,568] Trial 1 finished with value: 0.967177854921404 and parameters: {'solver_penalty': ('newton-cholesky', 'l2'), 'C': 3.5637127293566273, 'tol': 0.00865463008990864, 'fit_intercept': False, 'class_weight': 'balanced', 'threshold': 0.21224220334083665}. Best is trial 1 with value: 0.967177854921404.\n",
      "[I 2025-07-02 12:56:54,745] Trial 2 finished with value: 0.9678256573482219 and parameters: {'solver_penalty': ('newton-cg', 'l2'), 'C': 9.205870039833716, 'tol': 0.007232647552666862, 'fit_intercept': False, 'class_weight': None, 'threshold': 0.17702519968785935}. Best is trial 2 with value: 0.9678256573482219.\n",
      "[I 2025-07-02 12:56:57,359] Trial 5 finished with value: 0.9691212622018579 and parameters: {'solver_penalty': ('liblinear', 'l1'), 'C': 1.592253727728985, 'tol': 0.008502703454825048, 'fit_intercept': True, 'class_weight': None, 'threshold': 0.37503186033374214}. Best is trial 5 with value: 0.9691212622018579.\n",
      "[I 2025-07-02 12:56:57,372] Trial 6 finished with value: 0.9689593334557527 and parameters: {'solver_penalty': ('liblinear', 'l2'), 'C': 3.5102529975311327, 'tol': 0.005076776390854866, 'fit_intercept': True, 'class_weight': None, 'threshold': 0.337630164142119}. Best is trial 5 with value: 0.9691212622018579.\n",
      "[I 2025-07-02 12:56:57,707] Trial 4 finished with value: 0.9045016949251347 and parameters: {'solver_penalty': ('lbfgs', 'l2'), 'C': 9.578069602692903, 'tol': 0.009746113798699135, 'fit_intercept': False, 'class_weight': None, 'threshold': 0.03463685774335956}. Best is trial 5 with value: 0.9691212622018579.\n",
      "[I 2025-07-02 12:56:58,177] Trial 0 finished with value: 0.9687973464147162 and parameters: {'solver_penalty': ('newton-cg', None), 'C': 3.8042842623692974, 'tol': 0.003227945662165092, 'fit_intercept': False, 'class_weight': 'balanced', 'threshold': 0.6494183138566247}. Best is trial 5 with value: 0.9691212622018579.\n",
      "[I 2025-07-02 12:56:59,352] Trial 7 finished with value: 0.9606998306532237 and parameters: {'solver_penalty': ('liblinear', 'l2'), 'C': 7.786084107522733, 'tol': 0.0048496670012055185, 'fit_intercept': True, 'class_weight': None, 'threshold': 0.8996939654573555}. Best is trial 5 with value: 0.9691212622018579.\n",
      "[I 2025-07-02 12:57:00,402] Trial 10 finished with value: 0.9693911677349213 and parameters: {'solver_penalty': ('liblinear', 'l1'), 'C': 4.329783080527707, 'tol': 0.00602764599553037, 'fit_intercept': True, 'class_weight': 'balanced', 'threshold': 0.6546093113404481}. Best is trial 10 with value: 0.9693911677349213.\n",
      "[I 2025-07-02 12:57:00,939] Trial 8 finished with value: 0.968635403094878 and parameters: {'solver_penalty': ('newton-cg', 'l2'), 'C': 3.973840298355867, 'tol': 0.008604060697551392, 'fit_intercept': False, 'class_weight': None, 'threshold': 0.7104699557826729}. Best is trial 10 with value: 0.9693911677349213.\n",
      "[I 2025-07-02 12:57:02,371] Trial 9 finished with value: 0.9690672956689781 and parameters: {'solver_penalty': ('lbfgs', None), 'C': 6.64953234912626, 'tol': 0.0032643137173379412, 'fit_intercept': True, 'class_weight': 'balanced', 'threshold': 0.6266739684071958}. Best is trial 10 with value: 0.9693911677349213.\n",
      "[I 2025-07-02 12:57:03,587] Trial 13 finished with value: 0.9690672373740465 and parameters: {'solver_penalty': ('newton-cholesky', None), 'C': 1.4226530872013532, 'tol': 0.007395122017701525, 'fit_intercept': False, 'class_weight': None, 'threshold': 0.5537810989752051}. Best is trial 10 with value: 0.9693911677349213.\n",
      "[I 2025-07-02 12:57:03,742] Trial 11 finished with value: 0.9690672956689779 and parameters: {'solver_penalty': ('newton-cg', None), 'C': 5.4658451718095025, 'tol': 0.0002833718267204194, 'fit_intercept': False, 'class_weight': None, 'threshold': 0.37134674226853415}. Best is trial 10 with value: 0.9693911677349213.\n",
      "[I 2025-07-02 12:57:04,441] Trial 12 finished with value: 0.9690672956689779 and parameters: {'solver_penalty': ('newton-cg', None), 'C': 7.616310092769444, 'tol': 0.001288872157825789, 'fit_intercept': False, 'class_weight': None, 'threshold': 0.3782099524906477}. Best is trial 10 with value: 0.9693911677349213.\n",
      "[I 2025-07-02 12:57:06,039] Trial 16 finished with value: 0.9638307931316911 and parameters: {'solver_penalty': ('liblinear', 'l2'), 'C': 7.167652080398014, 'tol': 0.0020113171824750146, 'fit_intercept': True, 'class_weight': None, 'threshold': 0.8894852658552371}. Best is trial 10 with value: 0.9693911677349213.\n",
      "[I 2025-07-02 12:57:06,369] Trial 15 finished with value: 0.9679335466927828 and parameters: {'solver_penalty': ('liblinear', 'l2'), 'C': 6.225491865706848, 'tol': 0.0030506898306540673, 'fit_intercept': False, 'class_weight': 'balanced', 'threshold': 0.763751074469491}. Best is trial 10 with value: 0.9693911677349213.\n",
      "[I 2025-07-02 12:57:08,215] Trial 18 finished with value: 0.9692291661201518 and parameters: {'solver_penalty': ('liblinear', 'l2'), 'C': 3.0417016049480683, 'tol': 0.00953229975871791, 'fit_intercept': False, 'class_weight': 'balanced', 'threshold': 0.5973391677442791}. Best is trial 10 with value: 0.9693911677349213.\n",
      "[I 2025-07-02 12:57:08,789] Trial 17 finished with value: 0.9615095326786813 and parameters: {'solver_penalty': ('newton-cholesky', 'l2'), 'C': 5.424255874552607, 'tol': 0.0024713630219731024, 'fit_intercept': True, 'class_weight': 'balanced', 'threshold': 0.1521005639253611}. Best is trial 10 with value: 0.9693911677349213.\n",
      "[I 2025-07-02 12:57:08,797] Trial 14 finished with value: 0.9690132999886325 and parameters: {'solver_penalty': ('lbfgs', 'l2'), 'C': 9.57131352157909, 'tol': 0.0016183342504876128, 'fit_intercept': False, 'class_weight': 'balanced', 'threshold': 0.5843822180022044}. Best is trial 10 with value: 0.9693911677349213.\n",
      "[I 2025-07-02 12:57:10,025] Trial 19 finished with value: 0.9651263834115943 and parameters: {'solver_penalty': ('lbfgs', 'l2'), 'C': 5.727403341228065, 'tol': 0.005338194233245341, 'fit_intercept': False, 'class_weight': None, 'threshold': 0.8585722512347801}. Best is trial 10 with value: 0.9693911677349213.\n",
      "[I 2025-07-02 12:57:11,030] Trial 21 finished with value: 0.9690672956689781 and parameters: {'solver_penalty': ('liblinear', 'l1'), 'C': 7.048975666572627, 'tol': 0.0059094874258107, 'fit_intercept': True, 'class_weight': 'balanced', 'threshold': 0.4172906589909474}. Best is trial 10 with value: 0.9693911677349213.\n",
      "[I 2025-07-02 12:57:11,694] Trial 20 finished with value: 0.9691212039069264 and parameters: {'solver_penalty': ('lbfgs', None), 'C': 3.5742507944382638, 'tol': 0.003045410433996762, 'fit_intercept': False, 'class_weight': None, 'threshold': 0.6118488664983904}. Best is trial 10 with value: 0.9693911677349213.\n",
      "[I 2025-07-02 12:57:12,624] Trial 22 finished with value: 0.965612257092307 and parameters: {'solver_penalty': ('newton-cholesky', 'l2'), 'C': 3.285419068753007, 'tol': 0.00967450096449337, 'fit_intercept': False, 'class_weight': None, 'threshold': 0.8688080219226146}. Best is trial 10 with value: 0.9693911677349213.\n",
      "[I 2025-07-02 12:57:13,266] Trial 24 finished with value: 0.9666379709866124 and parameters: {'solver_penalty': ('liblinear', 'l2'), 'C': 6.237679986174428, 'tol': 0.009096077816942539, 'fit_intercept': False, 'class_weight': 'balanced', 'threshold': 0.8094386878156857}. Best is trial 10 with value: 0.9693911677349213.\n",
      "[I 2025-07-02 12:57:13,872] Trial 25 finished with value: 0.9689053669228729 and parameters: {'solver_penalty': ('liblinear', 'l1'), 'C': 0.8123069237221858, 'tol': 0.003184823546388837, 'fit_intercept': False, 'class_weight': None, 'threshold': 0.22929606158489635}. Best is trial 10 with value: 0.9693911677349213.\n",
      "[I 2025-07-02 12:57:15,627] Trial 27 finished with value: 0.9690133291360983 and parameters: {'solver_penalty': ('liblinear', 'l2'), 'C': 2.7363561137508405, 'tol': 0.0007983069433733103, 'fit_intercept': False, 'class_weight': None, 'threshold': 0.28974260003961416}. Best is trial 10 with value: 0.9693911677349213.\n",
      "[I 2025-07-02 12:57:16,285] Trial 26 finished with value: 0.9629131143192755 and parameters: {'solver_penalty': ('newton-cholesky', 'l2'), 'C': 3.939120160166407, 'tol': 0.002700609632916496, 'fit_intercept': True, 'class_weight': 'balanced', 'threshold': 0.1657433856931806}. Best is trial 10 with value: 0.9693911677349213.\n",
      "[I 2025-07-02 12:57:16,460] Trial 28 finished with value: 0.9689593334557527 and parameters: {'solver_penalty': ('lbfgs', 'l2'), 'C': 8.50078817680322, 'tol': 0.009202559946544644, 'fit_intercept': True, 'class_weight': None, 'threshold': 0.3123449010927619}. Best is trial 10 with value: 0.9693911677349213.\n",
      "[I 2025-07-02 12:57:16,767] Trial 23 finished with value: 0.941318908252522 and parameters: {'solver_penalty': ('newton-cg', None), 'C': 2.7761046749563, 'tol': 0.002114329609846066, 'fit_intercept': False, 'class_weight': 'balanced', 'threshold': 0.9188987529997145}. Best is trial 10 with value: 0.9693911677349213.\n",
      "[I 2025-07-02 12:57:18,495] Trial 30 finished with value: 0.9691212184806591 and parameters: {'solver_penalty': ('liblinear', 'l2'), 'C': 5.65032623281398, 'tol': 0.0060156101695801635, 'fit_intercept': False, 'class_weight': 'balanced', 'threshold': 0.5416219163173109}. Best is trial 10 with value: 0.9693911677349213.\n",
      "[I 2025-07-02 12:57:18,970] Trial 29 finished with value: 0.9674477021595356 and parameters: {'solver_penalty': ('newton-cholesky', None), 'C': 5.585653489320585, 'tol': 0.006933999282289882, 'fit_intercept': False, 'class_weight': 'balanced', 'threshold': 0.7774677876464261}. Best is trial 10 with value: 0.9693911677349213.\n",
      "[I 2025-07-02 12:57:19,913] Trial 32 finished with value: 0.9680415526272068 and parameters: {'solver_penalty': ('newton-cholesky', None), 'C': 0.9309432531696726, 'tol': 0.008632347007049642, 'fit_intercept': False, 'class_weight': 'balanced', 'threshold': 0.7324647754791912}. Best is trial 10 with value: 0.9693911677349213.\n",
      "[I 2025-07-02 12:57:20,400] Trial 31 finished with value: 0.9691752287347377 and parameters: {'solver_penalty': ('newton-cg', None), 'C': 8.335968655339954, 'tol': 0.009945341833233971, 'fit_intercept': True, 'class_weight': None, 'threshold': 0.4706992598989188}. Best is trial 10 with value: 0.9693911677349213.\n",
      "[I 2025-07-02 12:57:22,251] Trial 35 finished with value: 0.9684734889225055 and parameters: {'solver_penalty': ('liblinear', 'l2'), 'C': 7.0269749372959645, 'tol': 0.00991113591960584, 'fit_intercept': True, 'class_weight': 'balanced', 'threshold': 0.37076791782109375}. Best is trial 10 with value: 0.9693911677349213.\n",
      "[I 2025-07-02 12:57:23,603] Trial 34 finished with value: 0.9692292244150831 and parameters: {'solver_penalty': ('lbfgs', 'l2'), 'C': 4.622956867830284, 'tol': 0.00557977980700881, 'fit_intercept': True, 'class_weight': 'balanced', 'threshold': 0.7088298109185174}. Best is trial 10 with value: 0.9693911677349213.\n",
      "[I 2025-07-02 12:57:25,005] Trial 37 finished with value: 0.9692292244150831 and parameters: {'solver_penalty': ('newton-cg', None), 'C': 7.513805721832383, 'tol': 0.002736580208306128, 'fit_intercept': False, 'class_weight': None, 'threshold': 0.4677788313855149}. Best is trial 10 with value: 0.9693911677349213.\n",
      "[I 2025-07-02 12:57:25,497] Trial 33 finished with value: 0.9691212039069264 and parameters: {'solver_penalty': ('liblinear', 'l1'), 'C': 9.845318460409457, 'tol': 1.974462745716443e-05, 'fit_intercept': True, 'class_weight': 'balanced', 'threshold': 0.7950087230696712}. Best is trial 10 with value: 0.9693911677349213.\n",
      "[I 2025-07-02 12:57:26,284] Trial 36 finished with value: 0.9676636411597194 and parameters: {'solver_penalty': ('lbfgs', 'l2'), 'C': 9.308923484282479, 'tol': 0.0018592848734497545, 'fit_intercept': False, 'class_weight': 'balanced', 'threshold': 0.7640396398627489}. Best is trial 10 with value: 0.9693911677349213.\n",
      "[I 2025-07-02 12:57:27,796] Trial 39 finished with value: 0.9692831909479629 and parameters: {'solver_penalty': ('liblinear', 'l1'), 'C': 8.242656150522361, 'tol': 0.0075565777536929935, 'fit_intercept': True, 'class_weight': None, 'threshold': 0.4653241654910608}. Best is trial 10 with value: 0.9693911677349213.\n",
      "[I 2025-07-02 12:57:28,032] Trial 40 finished with value: 0.9689592605870884 and parameters: {'solver_penalty': ('liblinear', 'l1'), 'C': 7.239929330037609, 'tol': 0.006425229732661289, 'fit_intercept': False, 'class_weight': None, 'threshold': 0.6360213380242059}. Best is trial 10 with value: 0.9693911677349213.\n",
      "[I 2025-07-02 12:57:29,422] Trial 38 finished with value: 0.952547823704468 and parameters: {'solver_penalty': ('lbfgs', None), 'C': 6.194396245864317, 'tol': 0.0025050820813973837, 'fit_intercept': False, 'class_weight': 'balanced', 'threshold': 0.8959507960386652}. Best is trial 10 with value: 0.9693911677349213.\n",
      "[I 2025-07-02 12:57:30,831] Trial 41 finished with value: 0.9676636848809181 and parameters: {'solver_penalty': ('lbfgs', None), 'C': 4.165740085300115, 'tol': 0.009005221075938319, 'fit_intercept': True, 'class_weight': 'balanced', 'threshold': 0.3497033172307793}. Best is trial 10 with value: 0.9693911677349213.\n",
      "[I 2025-07-02 12:57:31,140] Trial 42 finished with value: 0.9570827904617832 and parameters: {'solver_penalty': ('newton-cg', None), 'C': 4.515144691683143, 'tol': 0.005451502306550219, 'fit_intercept': False, 'class_weight': None, 'threshold': 0.05815540125658514}. Best is trial 10 with value: 0.9693911677349213.\n",
      "[I 2025-07-02 12:57:32,234] Trial 43 finished with value: 0.9664760713879732 and parameters: {'solver_penalty': ('newton-cholesky', None), 'C': 1.67023000067005, 'tol': 0.008280930562766388, 'fit_intercept': True, 'class_weight': 'balanced', 'threshold': 0.2687788144411978}. Best is trial 10 with value: 0.9693911677349213.\n",
      "[I 2025-07-02 12:57:33,729] Trial 45 finished with value: 0.9692292098413503 and parameters: {'solver_penalty': ('liblinear', 'l1'), 'C': 8.782950107298316, 'tol': 0.0037111258445665816, 'fit_intercept': False, 'class_weight': 'balanced', 'threshold': 0.5993574357511943}. Best is trial 10 with value: 0.9693911677349213.\n",
      "[I 2025-07-02 12:57:33,742] Trial 44 finished with value: 0.778828621645491 and parameters: {'solver_penalty': ('newton-cg', None), 'C': 2.0244618502795886, 'tol': 0.0018072357572234369, 'fit_intercept': False, 'class_weight': None, 'threshold': 0.9610943850347645}. Best is trial 10 with value: 0.9693911677349213.\n",
      "[I 2025-07-02 12:57:33,939] Trial 46 finished with value: 0.966853924560529 and parameters: {'solver_penalty': ('liblinear', 'l2'), 'C': 3.7306972739258626, 'tol': 0.009022612114830493, 'fit_intercept': True, 'class_weight': 'balanced', 'threshold': 0.2980416039191667}. Best is trial 10 with value: 0.9693911677349213.\n",
      "[I 2025-07-02 12:57:35,067] Trial 47 finished with value: 0.9692831909479629 and parameters: {'solver_penalty': ('lbfgs', 'l2'), 'C': 5.694768935793264, 'tol': 0.0016942155781720042, 'fit_intercept': False, 'class_weight': None, 'threshold': 0.49108858035023784}. Best is trial 10 with value: 0.9693911677349213.\n",
      "[I 2025-07-02 12:57:36,831] Trial 48 finished with value: 0.9692291806938845 and parameters: {'solver_penalty': ('lbfgs', None), 'C': 2.114133386850996, 'tol': 0.009159157796060937, 'fit_intercept': False, 'class_weight': 'balanced', 'threshold': 0.542316366818135}. Best is trial 10 with value: 0.9693911677349213.\n",
      "[I 2025-07-02 12:57:37,026] Trial 49 finished with value: 0.9689593480294857 and parameters: {'solver_penalty': ('newton-cg', 'l2'), 'C': 2.8531284399056602, 'tol': 0.009849216219809803, 'fit_intercept': True, 'class_weight': None, 'threshold': 0.2643912600057787}. Best is trial 10 with value: 0.9693911677349213.\n",
      "[I 2025-07-02 12:57:38,673] Trial 52 finished with value: 0.9692291952676175 and parameters: {'solver_penalty': ('liblinear', 'l1'), 'C': 8.545391493297208, 'tol': 0.005775534736911228, 'fit_intercept': False, 'class_weight': 'balanced', 'threshold': 0.5822243371044313}. Best is trial 10 with value: 0.9693911677349213.\n",
      "[I 2025-07-02 12:57:39,145] Trial 51 finished with value: 0.2604729030584436 and parameters: {'solver_penalty': ('lbfgs', 'l2'), 'C': 0.25912614833927483, 'tol': 0.008680727791033778, 'fit_intercept': True, 'class_weight': 'balanced', 'threshold': 0.0076976496426379715}. Best is trial 10 with value: 0.9693911677349213.\n",
      "[I 2025-07-02 12:57:40,487] Trial 50 finished with value: 0.9685274408816527 and parameters: {'solver_penalty': ('newton-cg', None), 'C': 4.473682315093189, 'tol': 0.006274966644924915, 'fit_intercept': True, 'class_weight': 'balanced', 'threshold': 0.36189103004739454}. Best is trial 10 with value: 0.9693911677349213.\n",
      "[I 2025-07-02 12:57:41,274] Trial 53 finished with value: 0.9691751995872719 and parameters: {'solver_penalty': ('lbfgs', None), 'C': 2.427028221161134, 'tol': 0.005825523964687707, 'fit_intercept': True, 'class_weight': 'balanced', 'threshold': 0.748547587335541}. Best is trial 10 with value: 0.9693911677349213.\n",
      "[I 2025-07-02 12:57:42,749] Trial 56 finished with value: 0.9690672810952453 and parameters: {'solver_penalty': ('liblinear', 'l1'), 'C': 9.708098078130861, 'tol': 0.005642891712108172, 'fit_intercept': True, 'class_weight': None, 'threshold': 0.3561643722552763}. Best is trial 10 with value: 0.9693911677349213.\n",
      "[I 2025-07-02 12:57:43,352] Trial 54 finished with value: 0.9691752141610047 and parameters: {'solver_penalty': ('lbfgs', 'l2'), 'C': 5.136865281499598, 'tol': 0.0040368320740230175, 'fit_intercept': True, 'class_weight': 'balanced', 'threshold': 0.745019228834917}. Best is trial 10 with value: 0.9693911677349213.\n",
      "[I 2025-07-02 12:57:43,555] Trial 57 finished with value: 0.9692291806938845 and parameters: {'solver_penalty': ('liblinear', 'l1'), 'C': 4.587902975856365, 'tol': 0.005332589627719456, 'fit_intercept': True, 'class_weight': 'balanced', 'threshold': 0.7704629871971873}. Best is trial 10 with value: 0.9693911677349213.\n",
      "[I 2025-07-02 12:57:44,674] Trial 55 finished with value: 0.9690133145623653 and parameters: {'solver_penalty': ('lbfgs', 'l2'), 'C': 4.601478880192999, 'tol': 0.004211647436439943, 'fit_intercept': True, 'class_weight': 'balanced', 'threshold': 0.5821199493513858}. Best is trial 10 with value: 0.9693911677349213.\n",
      "[I 2025-07-02 12:57:45,767] Trial 59 finished with value: 0.9689593188820197 and parameters: {'solver_penalty': ('liblinear', 'l1'), 'C': 2.938117682640665, 'tol': 0.004824098289652973, 'fit_intercept': True, 'class_weight': 'balanced', 'threshold': 0.5812998253442442}. Best is trial 10 with value: 0.9693911677349213.\n",
      "[I 2025-07-02 12:57:47,165] Trial 60 finished with value: 0.9690672810952453 and parameters: {'solver_penalty': ('newton-cholesky', 'l2'), 'C': 7.225036938373888, 'tol': 0.0027354311535210413, 'fit_intercept': False, 'class_weight': None, 'threshold': 0.41924405191463243}. Best is trial 10 with value: 0.9693911677349213.\n",
      "[I 2025-07-02 12:57:47,559] Trial 61 finished with value: 0.9691752287347377 and parameters: {'solver_penalty': ('newton-cholesky', None), 'C': 7.3425679152495515, 'tol': 0.0017488282309262413, 'fit_intercept': False, 'class_weight': None, 'threshold': 0.4516004844292363}. Best is trial 10 with value: 0.9693911677349213.\n",
      "[I 2025-07-02 12:57:47,943] Trial 58 finished with value: 0.9566509853300804 and parameters: {'solver_penalty': ('lbfgs', 'l2'), 'C': 4.686483235683704, 'tol': 0.004996393670158707, 'fit_intercept': True, 'class_weight': 'balanced', 'threshold': 0.9638254407233184}. Best is trial 10 with value: 0.9693911677349213.\n",
      "[I 2025-07-02 12:57:49,644] Trial 63 finished with value: 0.9691752287347377 and parameters: {'solver_penalty': ('liblinear', 'l1'), 'C': 6.822630927143356, 'tol': 0.009658175266968645, 'fit_intercept': True, 'class_weight': None, 'threshold': 0.6120841821564644}. Best is trial 10 with value: 0.9693911677349213.\n",
      "[I 2025-07-02 12:57:50,453] Trial 64 finished with value: 0.9691212184806591 and parameters: {'solver_penalty': ('liblinear', 'l1'), 'C': 9.61958138477371, 'tol': 0.004278858535145036, 'fit_intercept': False, 'class_weight': 'balanced', 'threshold': 0.6126642226250144}. Best is trial 10 with value: 0.9693911677349213.\n",
      "[I 2025-07-02 12:57:50,634] Trial 65 finished with value: 0.969013256267434 and parameters: {'solver_penalty': ('liblinear', 'l1'), 'C': 8.573660617732916, 'tol': 0.006450437663742028, 'fit_intercept': False, 'class_weight': 'balanced', 'threshold': 0.6153257857110626}. Best is trial 10 with value: 0.9693911677349213.\n",
      "[I 2025-07-02 12:57:51,220] Trial 62 finished with value: 0.9683654975618146 and parameters: {'solver_penalty': ('newton-cg', None), 'C': 7.861146501711564, 'tol': 0.0018208233234419061, 'fit_intercept': False, 'class_weight': None, 'threshold': 0.7808989605553264}. Best is trial 10 with value: 0.9693911677349213.\n",
      "[I 2025-07-02 12:57:53,901] Trial 67 finished with value: 0.9689593334557527 and parameters: {'solver_penalty': ('lbfgs', 'l2'), 'C': 6.810985357142783, 'tol': 0.0012595723192130844, 'fit_intercept': False, 'class_weight': None, 'threshold': 0.3178732715179552}. Best is trial 10 with value: 0.9693911677349213.\n",
      "[I 2025-07-02 12:57:54,266] Trial 68 finished with value: 0.9691752287347377 and parameters: {'solver_penalty': ('lbfgs', 'l2'), 'C': 6.5358890619712415, 'tol': 0.002374472616203099, 'fit_intercept': False, 'class_weight': None, 'threshold': 0.4717387669332771}. Best is trial 10 with value: 0.9693911677349213.\n",
      "[I 2025-07-02 12:57:54,429] Trial 66 finished with value: 0.9691752287347377 and parameters: {'solver_penalty': ('lbfgs', 'l2'), 'C': 4.903875808761188, 'tol': 0.0010308288073379284, 'fit_intercept': False, 'class_weight': None, 'threshold': 0.4688913299406904}. Best is trial 10 with value: 0.9693911677349213.\n",
      "[I 2025-07-02 12:57:54,846] Trial 69 finished with value: 0.9691752287347377 and parameters: {'solver_penalty': ('newton-cg', None), 'C': 8.51067268254462, 'tol': 0.005250596733358851, 'fit_intercept': False, 'class_weight': None, 'threshold': 0.46254705691946807}. Best is trial 10 with value: 0.9693911677349213.\n",
      "[I 2025-07-02 12:57:56,642] Trial 70 finished with value: 0.968635403094878 and parameters: {'solver_penalty': ('lbfgs', 'l2'), 'C': 5.520099397578978, 'tol': 0.0018415645017995663, 'fit_intercept': False, 'class_weight': None, 'threshold': 0.7117816284981706}. Best is trial 10 with value: 0.9693911677349213.\n",
      "[I 2025-07-02 12:57:57,523] Trial 71 finished with value: 0.9691752287347377 and parameters: {'solver_penalty': ('newton-cg', None), 'C': 9.217678202580698, 'tol': 0.00811061476537803, 'fit_intercept': False, 'class_weight': 'balanced', 'threshold': 0.46144637313039555}. Best is trial 10 with value: 0.9693911677349213.\n",
      "[I 2025-07-02 12:57:59,366] Trial 74 finished with value: 0.9686354322423437 and parameters: {'solver_penalty': ('lbfgs', None), 'C': 2.6380863609146394, 'tol': 0.008808223101841435, 'fit_intercept': False, 'class_weight': 'balanced', 'threshold': 0.21329657437537808}. Best is trial 10 with value: 0.9693911677349213.\n",
      "[I 2025-07-02 12:57:59,371] Trial 72 finished with value: 0.968635403094878 and parameters: {'solver_penalty': ('newton-cg', None), 'C': 7.037013075696337, 'tol': 0.004486478352940642, 'fit_intercept': False, 'class_weight': 'balanced', 'threshold': 0.557230758216236}. Best is trial 10 with value: 0.9693911677349213.\n",
      "[I 2025-07-02 12:57:59,810] Trial 73 finished with value: 0.9688513275213287 and parameters: {'solver_penalty': ('newton-cg', None), 'C': 7.2052111828096015, 'tol': 0.0039052888827866283, 'fit_intercept': False, 'class_weight': 'balanced', 'threshold': 0.6025138287383356}. Best is trial 10 with value: 0.9693911677349213.\n",
      "[I 2025-07-02 12:58:00,826] Trial 75 finished with value: 0.9691212622018579 and parameters: {'solver_penalty': ('lbfgs', None), 'C': 3.9680748133608743, 'tol': 0.009182693301249427, 'fit_intercept': False, 'class_weight': 'balanced', 'threshold': 0.4160838468559176}. Best is trial 10 with value: 0.9693911677349213.\n",
      "[I 2025-07-02 12:58:02,804] Trial 77 finished with value: 0.9691751995872719 and parameters: {'solver_penalty': ('lbfgs', None), 'C': 0.2817166342092132, 'tol': 0.009114599536068588, 'fit_intercept': False, 'class_weight': 'balanced', 'threshold': 0.6167658667416019}. Best is trial 10 with value: 0.9693911677349213.\n",
      "[I 2025-07-02 12:58:03,740] Trial 78 finished with value: 0.968851298373863 and parameters: {'solver_penalty': ('lbfgs', None), 'C': 2.3609958180617374, 'tol': 0.008849994306028104, 'fit_intercept': False, 'class_weight': 'balanced', 'threshold': 0.6676288483164482}. Best is trial 10 with value: 0.9693911677349213.\n",
      "[I 2025-07-02 12:58:04,087] Trial 76 finished with value: 0.9691212330543921 and parameters: {'solver_penalty': ('newton-cg', 'l2'), 'C': 6.181428317904281, 'tol': 0.002759530948195778, 'fit_intercept': True, 'class_weight': None, 'threshold': 0.541884527204979}. Best is trial 10 with value: 0.9693911677349213.\n",
      "[I 2025-07-02 12:58:04,516] Trial 79 finished with value: 0.9678256573482219 and parameters: {'solver_penalty': ('lbfgs', None), 'C': 1.477921358652597, 'tol': 0.009980440006099099, 'fit_intercept': False, 'class_weight': 'balanced', 'threshold': 0.769811350294706}. Best is trial 10 with value: 0.9693911677349213.\n",
      "[I 2025-07-02 12:58:05,841] Trial 80 finished with value: 0.9689593188820197 and parameters: {'solver_penalty': ('liblinear', 'l1'), 'C': 6.735165825456586, 'tol': 0.0015921161994815192, 'fit_intercept': False, 'class_weight': 'balanced', 'threshold': 0.43169655949278385}. Best is trial 10 with value: 0.9693911677349213.\n",
      "[I 2025-07-02 12:58:07,404] Trial 82 finished with value: 0.969013241693701 and parameters: {'solver_penalty': ('newton-cholesky', None), 'C': 8.938363894371225, 'tol': 0.0059184245433690445, 'fit_intercept': True, 'class_weight': 'balanced', 'threshold': 0.8478989011570082}. Best is trial 10 with value: 0.9693911677349213.\n",
      "[I 2025-07-02 12:58:07,937] Trial 83 finished with value: 0.9685814074145324 and parameters: {'solver_penalty': ('lbfgs', None), 'C': 7.532593005253672, 'tol': 0.005773812797264738, 'fit_intercept': True, 'class_weight': None, 'threshold': 0.6980444034086695}. Best is trial 10 with value: 0.9693911677349213.\n",
      "[I 2025-07-02 12:58:08,585] Trial 84 finished with value: 0.9688513129475957 and parameters: {'solver_penalty': ('liblinear', 'l1'), 'C': 6.627491630400581, 'tol': 0.00551728156715565, 'fit_intercept': True, 'class_weight': 'balanced', 'threshold': 0.8442801838685532}. Best is trial 10 with value: 0.9693911677349213.\n",
      "[I 2025-07-02 12:58:08,760] Trial 81 finished with value: 0.9692832055216959 and parameters: {'solver_penalty': ('newton-cg', None), 'C': 6.9390764572898345, 'tol': 0.002955294890770938, 'fit_intercept': True, 'class_weight': None, 'threshold': 0.46574713857345335}. Best is trial 10 with value: 0.9693911677349213.\n",
      "[I 2025-07-02 12:58:10,331] Trial 86 finished with value: 0.9691751995872719 and parameters: {'solver_penalty': ('liblinear', 'l1'), 'C': 3.1207804583742895, 'tol': 0.007990980905966354, 'fit_intercept': True, 'class_weight': 'balanced', 'threshold': 0.7698536551630237}. Best is trial 10 with value: 0.9693911677349213.\n",
      "[I 2025-07-02 12:58:11,125] Trial 87 finished with value: 0.9686354468160765 and parameters: {'solver_penalty': ('liblinear', 'l1'), 'C': 6.987488765679567, 'tol': 0.008167505736980146, 'fit_intercept': False, 'class_weight': 'balanced', 'threshold': 0.21871051001169717}. Best is trial 10 with value: 0.9693911677349213.\n",
      "[I 2025-07-02 12:58:11,133] Trial 85 finished with value: 0.9689592605870881 and parameters: {'solver_penalty': ('newton-cholesky', 'l2'), 'C': 8.764684337182711, 'tol': 0.007855103959861399, 'fit_intercept': True, 'class_weight': None, 'threshold': 0.6887375263324418}. Best is trial 10 with value: 0.9693911677349213.\n",
      "[I 2025-07-02 12:58:13,259] Trial 90 finished with value: 0.9692291952676175 and parameters: {'solver_penalty': ('liblinear', 'l1'), 'C': 4.582192359735267, 'tol': 0.0060551693048857096, 'fit_intercept': True, 'class_weight': None, 'threshold': 0.5913990166527427}. Best is trial 10 with value: 0.9693911677349213.\n",
      "[I 2025-07-02 12:58:13,445] Trial 88 finished with value: 0.9691212330543921 and parameters: {'solver_penalty': ('newton-cg', None), 'C': 5.310771021790567, 'tol': 0.002009857115994301, 'fit_intercept': True, 'class_weight': None, 'threshold': 0.5248764954608814}. Best is trial 10 with value: 0.9693911677349213.\n",
      "[I 2025-07-02 12:58:13,938] Trial 89 finished with value: 0.968851298373863 and parameters: {'solver_penalty': ('newton-cg', None), 'C': 8.15451406225913, 'tol': 0.005167077079088943, 'fit_intercept': True, 'class_weight': None, 'threshold': 0.6727239047322964}. Best is trial 10 with value: 0.9693911677349213.\n",
      "[I 2025-07-02 12:58:15,509] Trial 93 finished with value: 0.9687973318409832 and parameters: {'solver_penalty': ('liblinear', 'l1'), 'C': 5.58496802628869, 'tol': 0.006236262128435549, 'fit_intercept': True, 'class_weight': None, 'threshold': 0.6581980178196146}. Best is trial 10 with value: 0.9693911677349213.\n",
      "[I 2025-07-02 12:58:15,989] Trial 91 finished with value: 0.9690672228003138 and parameters: {'solver_penalty': ('newton-cg', None), 'C': 7.706019334777476, 'tol': 0.00063927061342997, 'fit_intercept': True, 'class_weight': None, 'threshold': 0.6055472443012531}. Best is trial 10 with value: 0.9693911677349213.\n",
      "[I 2025-07-02 12:58:16,485] Trial 94 finished with value: 0.9691212184806591 and parameters: {'solver_penalty': ('liblinear', 'l1'), 'C': 3.8703838171233196, 'tol': 0.005566602881525296, 'fit_intercept': True, 'class_weight': None, 'threshold': 0.5722588733294032}. Best is trial 10 with value: 0.9693911677349213.\n",
      "[I 2025-07-02 12:58:17,223] Trial 92 finished with value: 0.9693371866283087 and parameters: {'solver_penalty': ('newton-cg', None), 'C': 5.992343691971832, 'tol': 0.005220679830837751, 'fit_intercept': True, 'class_weight': None, 'threshold': 0.4504643028681779}. Best is trial 10 with value: 0.9693911677349213.\n",
      "[I 2025-07-02 12:58:17,776] Trial 95 finished with value: 0.9689053523491399 and parameters: {'solver_penalty': ('liblinear', 'l1'), 'C': 6.712848588844336, 'tol': 0.007606557943595481, 'fit_intercept': True, 'class_weight': None, 'threshold': 0.2652952414664328}. Best is trial 10 with value: 0.9693911677349213.\n",
      "[I 2025-07-02 12:58:19,975] Trial 96 finished with value: 0.9692291806938845 and parameters: {'solver_penalty': ('lbfgs', 'l2'), 'C': 6.38462552434267, 'tol': 0.008260156463390482, 'fit_intercept': True, 'class_weight': 'balanced', 'threshold': 0.7816643441634854}. Best is trial 10 with value: 0.9693911677349213.\n",
      "[I 2025-07-02 12:58:20,556] Trial 99 finished with value: 0.9670698635607128 and parameters: {'solver_penalty': ('lbfgs', None), 'C': 6.096957678772834, 'tol': 0.0041082154537729655, 'fit_intercept': True, 'class_weight': None, 'threshold': 0.14826396230885902}. Best is trial 10 with value: 0.9693911677349213.\n",
      "[I 2025-07-02 12:58:20,732] Trial 98 finished with value: 0.9691212184806591 and parameters: {'solver_penalty': ('newton-cg', None), 'C': 6.291848924931606, 'tol': 0.005301998538369385, 'fit_intercept': True, 'class_weight': None, 'threshold': 0.4992510658428727}. Best is trial 10 with value: 0.9693911677349213.\n",
      "[I 2025-07-02 12:58:21,825] Trial 97 finished with value: 0.9691212622018579 and parameters: {'solver_penalty': ('newton-cg', 'l2'), 'C': 9.307825827676758, 'tol': 0.0055787525255671455, 'fit_intercept': False, 'class_weight': 'balanced', 'threshold': 0.46187873377699307}. Best is trial 10 with value: 0.9693911677349213.\n",
      "[I 2025-07-02 12:58:23,480] Trial 100 finished with value: 0.9691212622018579 and parameters: {'solver_penalty': ('newton-cg', 'l2'), 'C': 6.502071878506862, 'tol': 0.006677594797833009, 'fit_intercept': True, 'class_weight': None, 'threshold': 0.3894977003374692}. Best is trial 10 with value: 0.9693911677349213.\n",
      "[I 2025-07-02 12:58:24,224] Trial 101 finished with value: 0.9690132999886325 and parameters: {'solver_penalty': ('newton-cg', None), 'C': 5.3969732315716765, 'tol': 0.007144489662407022, 'fit_intercept': True, 'class_weight': None, 'threshold': 0.3510736215147058}. Best is trial 10 with value: 0.9693911677349213.\n",
      "[I 2025-07-02 12:58:25,448] Trial 102 finished with value: 0.9691212767755907 and parameters: {'solver_penalty': ('lbfgs', 'l2'), 'C': 2.1505759181464983, 'tol': 0.00864558773625478, 'fit_intercept': True, 'class_weight': 'balanced', 'threshold': 0.618763386112422}. Best is trial 10 with value: 0.9693911677349213.\n",
      "[I 2025-07-02 12:58:25,458] Trial 103 finished with value: 0.9691751995872719 and parameters: {'solver_penalty': ('lbfgs', 'l2'), 'C': 4.285388667697223, 'tol': 0.0054143924985316175, 'fit_intercept': True, 'class_weight': None, 'threshold': 0.4881989642654111}. Best is trial 10 with value: 0.9693911677349213.\n",
      "[I 2025-07-02 12:58:26,605] Trial 105 finished with value: 0.9683654975618146 and parameters: {'solver_penalty': ('liblinear', 'l2'), 'C': 2.868681464121452, 'tol': 0.008042526868992938, 'fit_intercept': True, 'class_weight': None, 'threshold': 0.7525517291746422}. Best is trial 10 with value: 0.9693911677349213.\n",
      "[I 2025-07-02 12:58:27,582] Trial 104 finished with value: 0.9689593480294855 and parameters: {'solver_penalty': ('newton-cholesky', 'l2'), 'C': 3.7432164757772535, 'tol': 0.007199060754914376, 'fit_intercept': True, 'class_weight': 'balanced', 'threshold': 0.5289209645336077}. Best is trial 10 with value: 0.9693911677349213.\n",
      "[I 2025-07-02 12:58:27,604] Trial 107 finished with value: 0.9692831909479631 and parameters: {'solver_penalty': ('liblinear', 'l1'), 'C': 7.612225290938792, 'tol': 0.002729948594519569, 'fit_intercept': True, 'class_weight': None, 'threshold': 0.46102561036356565}. Best is trial 10 with value: 0.9693911677349213.\n",
      "[I 2025-07-02 12:58:29,291] Trial 106 finished with value: 0.9690133291360983 and parameters: {'solver_penalty': ('newton-cholesky', None), 'C': 5.868766421433291, 'tol': 0.002480770737100114, 'fit_intercept': True, 'class_weight': None, 'threshold': 0.32511300381371144}. Best is trial 10 with value: 0.9693911677349213.\n",
      "[I 2025-07-02 12:58:30,102] Trial 110 finished with value: 0.9687973318409832 and parameters: {'solver_penalty': ('liblinear', 'l1'), 'C': 5.465277876901312, 'tol': 0.0010823431316276718, 'fit_intercept': False, 'class_weight': None, 'threshold': 0.6693937504064127}. Best is trial 10 with value: 0.9693911677349213.\n",
      "[I 2025-07-02 12:58:30,633] Trial 108 finished with value: 0.9682035105207778 and parameters: {'solver_penalty': ('newton-cholesky', 'l2'), 'C': 7.687457147791248, 'tol': 0.004441886965561524, 'fit_intercept': False, 'class_weight': 'balanced', 'threshold': 0.6976392265916829}. Best is trial 10 with value: 0.9693911677349213.\n",
      "[I 2025-07-02 12:58:31,591] Trial 111 finished with value: 0.9690672810952451 and parameters: {'solver_penalty': ('liblinear', 'l1'), 'C': 7.52896881180999, 'tol': 0.0024302683785637196, 'fit_intercept': True, 'class_weight': None, 'threshold': 0.38343197753383507}. Best is trial 10 with value: 0.9693911677349213.\n",
      "[I 2025-07-02 12:58:32,671] Trial 112 finished with value: 0.9691212622018579 and parameters: {'solver_penalty': ('liblinear', 'l1'), 'C': 7.79402345146837, 'tol': 0.002789047753731724, 'fit_intercept': True, 'class_weight': None, 'threshold': 0.3728863765588392}. Best is trial 10 with value: 0.9693911677349213.\n",
      "[I 2025-07-02 12:58:33,964] Trial 109 finished with value: 0.9689593188820197 and parameters: {'solver_penalty': ('lbfgs', None), 'C': 9.725189785000515, 'tol': 0.0024084661232377964, 'fit_intercept': False, 'class_weight': 'balanced', 'threshold': 0.4561141635174947}. Best is trial 10 with value: 0.9693911677349213.\n",
      "[I 2025-07-02 12:58:36,047] Trial 114 finished with value: 0.9685274408816525 and parameters: {'solver_penalty': ('lbfgs', 'l2'), 'C': 3.1482547492013957, 'tol': 0.006089623025137988, 'fit_intercept': False, 'class_weight': 'balanced', 'threshold': 0.7241891557279337}. Best is trial 10 with value: 0.9693911677349213.\n",
      "[I 2025-07-02 12:58:36,228] Trial 116 finished with value: 0.9692832055216959 and parameters: {'solver_penalty': ('liblinear', 'l2'), 'C': 8.234638339091026, 'tol': 0.0029076834249853055, 'fit_intercept': False, 'class_weight': None, 'threshold': 0.4294361830344337}. Best is trial 10 with value: 0.9693911677349213.\n",
      "[I 2025-07-02 12:58:36,725] Trial 115 finished with value: 0.9690672228003135 and parameters: {'solver_penalty': ('newton-cg', None), 'C': 5.837761218290527, 'tol': 0.0028253464697516302, 'fit_intercept': False, 'class_weight': None, 'threshold': 0.5573594717798198}. Best is trial 10 with value: 0.9693911677349213.\n",
      "[I 2025-07-02 12:58:38,720] Trial 113 finished with value: 0.9692292244150831 and parameters: {'solver_penalty': ('newton-cg', 'l2'), 'C': 4.050457158228362, 'tol': 0.0067267937983886954, 'fit_intercept': True, 'class_weight': 'balanced', 'threshold': 0.6502945728724335}. Best is trial 10 with value: 0.9693911677349213.\n",
      "[I 2025-07-02 12:58:38,734] Trial 118 finished with value: 0.9691751995872719 and parameters: {'solver_penalty': ('liblinear', 'l2'), 'C': 6.310488989160539, 'tol': 0.002339191715522963, 'fit_intercept': False, 'class_weight': None, 'threshold': 0.5203881068521388}. Best is trial 10 with value: 0.9693911677349213.\n",
      "[I 2025-07-02 12:58:38,747] Trial 117 finished with value: 0.969013241693701 and parameters: {'solver_penalty': ('liblinear', 'l1'), 'C': 3.2768484104749165, 'tol': 0.007179250237074436, 'fit_intercept': False, 'class_weight': 'balanced', 'threshold': 0.6213226151008365}. Best is trial 10 with value: 0.9693911677349213.\n",
      "[I 2025-07-02 12:58:39,434] Trial 119 finished with value: 0.9691212622018579 and parameters: {'solver_penalty': ('liblinear', 'l2'), 'C': 8.724967829708165, 'tol': 0.0017404475552023168, 'fit_intercept': False, 'class_weight': None, 'threshold': 0.35924160684372053}. Best is trial 10 with value: 0.9693911677349213.\n",
      "[I 2025-07-02 12:58:40,268] Trial 120 finished with value: 0.9691212622018579 and parameters: {'solver_penalty': ('liblinear', 'l2'), 'C': 7.7251222793977545, 'tol': 0.0013885511533664483, 'fit_intercept': False, 'class_weight': None, 'threshold': 0.4099090494511534}. Best is trial 10 with value: 0.9693911677349213.\n",
      "[I 2025-07-02 12:58:42,663] Trial 121 finished with value: 0.9690132999886325 and parameters: {'solver_penalty': ('newton-cg', 'l2'), 'C': 3.9391113941478975, 'tol': 0.007851890947357323, 'fit_intercept': True, 'class_weight': 'balanced', 'threshold': 0.6076790296263086}. Best is trial 10 with value: 0.9693911677349213.\n",
      "[I 2025-07-02 12:58:42,888] Trial 122 finished with value: 0.9675017269873472 and parameters: {'solver_penalty': ('newton-cg', 'l2'), 'C': 3.1102312863497352, 'tol': 0.005483414141812385, 'fit_intercept': True, 'class_weight': 'balanced', 'threshold': 0.3290668751978815}. Best is trial 10 with value: 0.9693911677349213.\n",
      "[I 2025-07-02 12:58:43,245] Trial 123 finished with value: 0.9689593334557527 and parameters: {'solver_penalty': ('newton-cg', 'l2'), 'C': 4.40752951271163, 'tol': 0.006674146836342709, 'fit_intercept': True, 'class_weight': 'balanced', 'threshold': 0.5428445268960189}. Best is trial 10 with value: 0.9693911677349213.\n",
      "[I 2025-07-02 12:58:43,618] Trial 124 finished with value: 0.9692291952676175 and parameters: {'solver_penalty': ('newton-cg', 'l2'), 'C': 4.781040275059862, 'tol': 0.009051067134034155, 'fit_intercept': True, 'class_weight': 'balanced', 'threshold': 0.7060271660255718}. Best is trial 10 with value: 0.9693911677349213.\n",
      "[I 2025-07-02 12:58:45,395] Trial 128 finished with value: 0.9691212184806591 and parameters: {'solver_penalty': ('liblinear', 'l2'), 'C': 9.342176830281378, 'tol': 0.006343614366396294, 'fit_intercept': False, 'class_weight': None, 'threshold': 0.5379412462366139}. Best is trial 10 with value: 0.9693911677349213.\n",
      "[I 2025-07-02 12:58:46,077] Trial 127 finished with value: 0.9687973901359147 and parameters: {'solver_penalty': ('newton-cholesky', 'l2'), 'C': 8.472303636191077, 'tol': 0.002256524061230764, 'fit_intercept': True, 'class_weight': 'balanced', 'threshold': 0.47710355024860174}. Best is trial 10 with value: 0.9693911677349213.\n",
      "[I 2025-07-02 12:58:47,849] Trial 125 finished with value: 0.9691212184806594 and parameters: {'solver_penalty': ('newton-cg', 'l2'), 'C': 2.714409321356683, 'tol': 0.004554514432410902, 'fit_intercept': True, 'class_weight': 'balanced', 'threshold': 0.7583886549982998}. Best is trial 10 with value: 0.9693911677349213.\n",
      "[I 2025-07-02 12:58:47,850] Trial 130 finished with value: 0.9691751995872719 and parameters: {'solver_penalty': ('liblinear', 'l2'), 'C': 7.638568946141623, 'tol': 0.007225409715490479, 'fit_intercept': True, 'class_weight': None, 'threshold': 0.52305906548775}. Best is trial 10 with value: 0.9693911677349213.\n",
      "[I 2025-07-02 12:58:48,971] Trial 126 finished with value: 0.9688513712425273 and parameters: {'solver_penalty': ('newton-cg', None), 'C': 7.058947942140864, 'tol': 0.002843252745168146, 'fit_intercept': True, 'class_weight': 'balanced', 'threshold': 0.4596334824319777}. Best is trial 10 with value: 0.9693911677349213.\n",
      "[I 2025-07-02 12:58:49,165] Trial 129 finished with value: 0.9689593188820197 and parameters: {'solver_penalty': ('newton-cg', None), 'C': 8.275262431592344, 'tol': 0.0030303466071919666, 'fit_intercept': True, 'class_weight': None, 'threshold': 0.41004669852454334}. Best is trial 10 with value: 0.9693911677349213.\n",
      "[I 2025-07-02 12:58:50,024] Trial 131 finished with value: 0.9691212039069264 and parameters: {'solver_penalty': ('liblinear', 'l2'), 'C': 4.5424635337354164, 'tol': 0.006544624833146167, 'fit_intercept': True, 'class_weight': 'balanced', 'threshold': 0.8038980627310387}. Best is trial 10 with value: 0.9693911677349213.\n",
      "[I 2025-07-02 12:58:50,904] Trial 132 finished with value: 0.9689052794804756 and parameters: {'solver_penalty': ('lbfgs', None), 'C': 8.52872397885152, 'tol': 0.001785911046239378, 'fit_intercept': False, 'class_weight': None, 'threshold': 0.6730729386083407}. Best is trial 10 with value: 0.9693911677349213.\n",
      "[I 2025-07-02 12:58:52,271] Trial 135 finished with value: 0.9686893696277578 and parameters: {'solver_penalty': ('liblinear', 'l1'), 'C': 9.41653422129726, 'tol': 0.007974756699113588, 'fit_intercept': True, 'class_weight': None, 'threshold': 0.6664753151154625}. Best is trial 10 with value: 0.9693911677349213.\n",
      "[I 2025-07-02 12:58:52,485] Trial 133 finished with value: 0.9687433653081033 and parameters: {'solver_penalty': ('newton-cholesky', None), 'C': 8.309922133195103, 'tol': 0.0025998498096423102, 'fit_intercept': False, 'class_weight': 'balanced', 'threshold': 0.5779005259652779}. Best is trial 10 with value: 0.9693911677349213.\n",
      "[I 2025-07-02 12:58:54,282] Trial 136 finished with value: 0.9692291952676175 and parameters: {'solver_penalty': ('lbfgs', None), 'C': 5.68965181526698, 'tol': 0.007901061041921802, 'fit_intercept': True, 'class_weight': 'balanced', 'threshold': 0.7155412512412813}. Best is trial 10 with value: 0.9693911677349213.\n",
      "[I 2025-07-02 12:58:54,678] Trial 134 finished with value: 0.9690132999886325 and parameters: {'solver_penalty': ('newton-cg', 'l2'), 'C': 7.7482480330740735, 'tol': 0.009217536486021685, 'fit_intercept': True, 'class_weight': 'balanced', 'threshold': 0.6104518770338776}. Best is trial 10 with value: 0.9693911677349213.\n",
      "[I 2025-07-02 12:58:56,514] Trial 137 finished with value: 0.9692291806938848 and parameters: {'solver_penalty': ('newton-cg', 'l2'), 'C': 0.8435078352462644, 'tol': 0.009179341652837007, 'fit_intercept': True, 'class_weight': 'balanced', 'threshold': 0.7270092621737343}. Best is trial 10 with value: 0.9693911677349213.\n",
      "[I 2025-07-02 12:58:56,698] Trial 140 finished with value: 0.9689593188820197 and parameters: {'solver_penalty': ('newton-cholesky', 'l2'), 'C': 4.951215204740764, 'tol': 0.005112344732112597, 'fit_intercept': True, 'class_weight': None, 'threshold': 0.4185125231589383}. Best is trial 10 with value: 0.9693911677349213.\n",
      "[I 2025-07-02 12:58:57,038] Trial 138 finished with value: 0.967987586094327 and parameters: {'solver_penalty': ('newton-cg', 'l2'), 'C': 5.037233845703428, 'tol': 0.00878520206859279, 'fit_intercept': True, 'class_weight': 'balanced', 'threshold': 0.905462863050885}. Best is trial 10 with value: 0.9693911677349213.\n",
      "[I 2025-07-02 12:58:58,388] Trial 139 finished with value: 0.9690672228003135 and parameters: {'solver_penalty': ('newton-cg', 'l2'), 'C': 4.971406644297721, 'tol': 0.009250500881133496, 'fit_intercept': True, 'class_weight': 'balanced', 'threshold': 0.7935408729972444}. Best is trial 10 with value: 0.9693911677349213.\n",
      "[I 2025-07-02 12:58:59,231] Trial 141 finished with value: 0.9689593480294855 and parameters: {'solver_penalty': ('newton-cholesky', None), 'C': 5.700934863633408, 'tol': 0.006116748518240437, 'fit_intercept': True, 'class_weight': 'balanced', 'threshold': 0.5438697657300644}. Best is trial 10 with value: 0.9693911677349213.\n",
      "[I 2025-07-02 12:58:59,951] Trial 143 finished with value: 0.9692291952676175 and parameters: {'solver_penalty': ('newton-cg', 'l2'), 'C': 8.011919955791488, 'tol': 0.0029565706473071497, 'fit_intercept': False, 'class_weight': None, 'threshold': 0.5306289522623011}. Best is trial 10 with value: 0.9693911677349213.\n",
      "[I 2025-07-02 12:59:01,345] Trial 145 finished with value: 0.9678796384548345 and parameters: {'solver_penalty': ('liblinear', 'l1'), 'C': 6.6200776044572285, 'tol': 0.0041457237642269565, 'fit_intercept': False, 'class_weight': 'balanced', 'threshold': 0.730608733131354}. Best is trial 10 with value: 0.9693911677349213.\n",
      "[I 2025-07-02 12:59:01,552] Trial 144 finished with value: 0.9691751850135389 and parameters: {'solver_penalty': ('lbfgs', 'l2'), 'C': 8.360874162649921, 'tol': 0.0038666715214558532, 'fit_intercept': True, 'class_weight': None, 'threshold': 0.5963157871640871}. Best is trial 10 with value: 0.9693911677349213.\n",
      "[I 2025-07-02 12:59:02,663] Trial 142 finished with value: 0.9667998560115191 and parameters: {'solver_penalty': ('newton-cg', 'l2'), 'C': 4.4027121064333254, 'tol': 0.009016256342144702, 'fit_intercept': True, 'class_weight': 'balanced', 'threshold': 0.9235295700697286}. Best is trial 10 with value: 0.9693911677349213.\n",
      "[I 2025-07-02 12:59:03,739] Trial 146 finished with value: 0.9691751995872719 and parameters: {'solver_penalty': ('lbfgs', None), 'C': 7.0906484499648945, 'tol': 0.006750339364976106, 'fit_intercept': False, 'class_weight': 'balanced', 'threshold': 0.6307446015366852}. Best is trial 10 with value: 0.9693911677349213.\n",
      "[I 2025-07-02 12:59:05,884] Trial 148 finished with value: 0.9691751995872719 and parameters: {'solver_penalty': ('lbfgs', None), 'C': 4.390751422027131, 'tol': 0.008399340758662478, 'fit_intercept': True, 'class_weight': 'balanced', 'threshold': 0.7345156282810794}. Best is trial 10 with value: 0.9693911677349213.\n",
      "[I 2025-07-02 12:59:06,174] Trial 147 finished with value: 0.9691752433084705 and parameters: {'solver_penalty': ('lbfgs', None), 'C': 8.010091124282802, 'tol': 0.008408545222315864, 'fit_intercept': True, 'class_weight': 'balanced', 'threshold': 0.6518662831670062}. Best is trial 10 with value: 0.9693911677349213.\n",
      "[I 2025-07-02 12:59:07,784] Trial 149 finished with value: 0.9691752141610047 and parameters: {'solver_penalty': ('lbfgs', None), 'C': 7.162431407554023, 'tol': 0.007679894297183231, 'fit_intercept': True, 'class_weight': 'balanced', 'threshold': 0.7257147611383622}. Best is trial 10 with value: 0.9693911677349213.\n",
      "[I 2025-07-02 12:59:08,701] Trial 151 finished with value: 0.9683654538406159 and parameters: {'solver_penalty': ('liblinear', 'l1'), 'C': 5.188611443695306, 'tol': 0.007660515167948242, 'fit_intercept': True, 'class_weight': 'balanced', 'threshold': 0.3635967722814522}. Best is trial 10 with value: 0.9693911677349213.\n",
      "[I 2025-07-02 12:59:09,042] Trial 150 finished with value: 0.9690133145623653 and parameters: {'solver_penalty': ('lbfgs', None), 'C': 5.790643929530654, 'tol': 0.00619911236091333, 'fit_intercept': True, 'class_weight': 'balanced', 'threshold': 0.5630415091221866}. Best is trial 10 with value: 0.9693911677349213.\n",
      "[I 2025-07-02 12:59:09,050] Trial 152 finished with value: 0.9692292098413503 and parameters: {'solver_penalty': ('liblinear', 'l1'), 'C': 3.0747070129889256, 'tol': 0.0070095766425383454, 'fit_intercept': False, 'class_weight': None, 'threshold': 0.42635255068353006}. Best is trial 10 with value: 0.9693911677349213.\n",
      "[I 2025-07-02 12:59:11,145] Trial 156 finished with value: 0.9677177097087293 and parameters: {'solver_penalty': ('liblinear', 'l1'), 'C': 0.12387080678088491, 'tol': 0.008304094317921834, 'fit_intercept': False, 'class_weight': None, 'threshold': 0.1645860344136899}. Best is trial 10 with value: 0.9693911677349213.\n",
      "[I 2025-07-02 12:59:11,813] Trial 153 finished with value: 0.9693371866283087 and parameters: {'solver_penalty': ('newton-cg', None), 'C': 2.416859535522408, 'tol': 0.004837279281011923, 'fit_intercept': True, 'class_weight': None, 'threshold': 0.4433285988087957}. Best is trial 10 with value: 0.9693911677349213.\n",
      "[I 2025-07-02 12:59:12,934] Trial 155 finished with value: 0.9690672228003135 and parameters: {'solver_penalty': ('newton-cg', 'l2'), 'C': 8.56998098491643, 'tol': 0.003822666169881397, 'fit_intercept': False, 'class_weight': None, 'threshold': 0.6185169580476765}. Best is trial 10 with value: 0.9693911677349213.\n",
      "[I 2025-07-02 12:59:12,955] Trial 154 finished with value: 0.9685274408816527 and parameters: {'solver_penalty': ('liblinear', 'l1'), 'C': 7.665387134135573, 'tol': 5.408862313000017e-05, 'fit_intercept': True, 'class_weight': None, 'threshold': 0.7674820373303188}. Best is trial 10 with value: 0.9693911677349213.\n",
      "[I 2025-07-02 12:59:13,620] Trial 157 finished with value: 0.9678256427744889 and parameters: {'solver_penalty': ('liblinear', 'l2'), 'C': 6.944774648435977, 'tol': 0.0026540291045021674, 'fit_intercept': False, 'class_weight': 'balanced', 'threshold': 0.25235432109877654}. Best is trial 10 with value: 0.9693911677349213.\n",
      "[I 2025-07-02 12:59:14,824] Trial 160 finished with value: 0.9686893696277578 and parameters: {'solver_penalty': ('liblinear', 'l1'), 'C': 2.7070711085005383, 'tol': 0.0074185125647139765, 'fit_intercept': False, 'class_weight': None, 'threshold': 0.6555378099796357}. Best is trial 10 with value: 0.9693911677349213.\n",
      "[I 2025-07-02 12:59:15,686] Trial 158 finished with value: 0.9691751995872719 and parameters: {'solver_penalty': ('newton-cg', None), 'C': 2.973361991445734, 'tol': 0.004874532664751711, 'fit_intercept': True, 'class_weight': None, 'threshold': 0.5209645160262232}. Best is trial 10 with value: 0.9693911677349213.\n",
      "[I 2025-07-02 12:59:17,253] Trial 161 finished with value: 0.9687973172672502 and parameters: {'solver_penalty': ('lbfgs', 'l2'), 'C': 9.608069002240736, 'tol': 0.005915164836478637, 'fit_intercept': False, 'class_weight': 'balanced', 'threshold': 0.6713055017489052}. Best is trial 10 with value: 0.9693911677349213.\n",
      "[I 2025-07-02 12:59:17,584] Trial 159 finished with value: 0.9692831909479631 and parameters: {'solver_penalty': ('newton-cg', None), 'C': 2.807143849232218, 'tol': 0.003952731399126272, 'fit_intercept': True, 'class_weight': None, 'threshold': 0.5077874087731592}. Best is trial 10 with value: 0.9693911677349213.\n",
      "[I 2025-07-02 12:59:18,540] Trial 163 finished with value: 0.9690132854148995 and parameters: {'solver_penalty': ('liblinear', 'l1'), 'C': 9.587882569102714, 'tol': 0.0027694235818597856, 'fit_intercept': False, 'class_weight': 'balanced', 'threshold': 0.47588099345784624}. Best is trial 10 with value: 0.9693911677349213.\n",
      "[I 2025-07-02 12:59:19,024] Trial 162 finished with value: 0.9692291806938845 and parameters: {'solver_penalty': ('newton-cg', None), 'C': 3.458632149332444, 'tol': 0.005194922941230657, 'fit_intercept': True, 'class_weight': None, 'threshold': 0.5604710200952597}. Best is trial 10 with value: 0.9693911677349213.\n",
      "[I 2025-07-02 12:59:20,109] Trial 165 finished with value: 0.9688513712425273 and parameters: {'solver_penalty': ('liblinear', 'l1'), 'C': 3.207088661365743, 'tol': 0.007050035828115112, 'fit_intercept': False, 'class_weight': None, 'threshold': 0.29130634951098033}. Best is trial 10 with value: 0.9693911677349213.\n",
      "[I 2025-07-02 12:59:20,133] Trial 164 finished with value: 0.9691212622018579 and parameters: {'solver_penalty': ('liblinear', 'l2'), 'C': 9.40370048037985, 'tol': 0.002543570861814339, 'fit_intercept': True, 'class_weight': None, 'threshold': 0.3783405714738913}. Best is trial 10 with value: 0.9693911677349213.\n",
      "[I 2025-07-02 12:59:21,316] Trial 167 finished with value: 0.9689593480294855 and parameters: {'solver_penalty': ('liblinear', 'l1'), 'C': 2.8349496333005177, 'tol': 0.006713711613100562, 'fit_intercept': False, 'class_weight': None, 'threshold': 0.2445385870139121}. Best is trial 10 with value: 0.9693911677349213.\n",
      "[I 2025-07-02 12:59:23,333] Trial 166 finished with value: 0.9691212622018579 and parameters: {'solver_penalty': ('newton-cg', None), 'C': 4.72278020797118, 'tol': 0.004420678475243054, 'fit_intercept': True, 'class_weight': None, 'threshold': 0.3924307105933833}. Best is trial 10 with value: 0.9693911677349213.\n",
      "[I 2025-07-02 12:59:23,685] Trial 168 finished with value: 0.9692291952676175 and parameters: {'solver_penalty': ('lbfgs', None), 'C': 2.0550184892529577, 'tol': 0.0015541046821757956, 'fit_intercept': True, 'class_weight': None, 'threshold': 0.5161839342937885}. Best is trial 10 with value: 0.9693911677349213.\n",
      "[I 2025-07-02 12:59:23,894] Trial 169 finished with value: 0.9691212184806591 and parameters: {'solver_penalty': ('newton-cg', None), 'C': 1.1841306857541403, 'tol': 0.005574767739091047, 'fit_intercept': False, 'class_weight': None, 'threshold': 0.5056774289788386}. Best is trial 10 with value: 0.9693911677349213.\n",
      "[I 2025-07-02 12:59:24,651] Trial 170 finished with value: 0.9690132999886325 and parameters: {'solver_penalty': ('lbfgs', 'l2'), 'C': 4.839828354873411, 'tol': 0.009516635340702743, 'fit_intercept': False, 'class_weight': None, 'threshold': 0.34303610911449617}. Best is trial 10 with value: 0.9693911677349213.\n",
      "[I 2025-07-02 12:59:26,904] Trial 171 finished with value: 0.9691752433084705 and parameters: {'solver_penalty': ('newton-cholesky', None), 'C': 4.839467190865544, 'tol': 0.007818980396602103, 'fit_intercept': True, 'class_weight': None, 'threshold': 0.4716875345849677}. Best is trial 10 with value: 0.9693911677349213.\n",
      "[I 2025-07-02 12:59:27,101] Trial 172 finished with value: 0.9693371866283087 and parameters: {'solver_penalty': ('lbfgs', 'l2'), 'C': 0.17209608323073233, 'tol': 0.005568452085657859, 'fit_intercept': True, 'class_weight': None, 'threshold': 0.44011964309163376}. Best is trial 10 with value: 0.9693911677349213.\n",
      "[I 2025-07-02 12:59:27,702] Trial 174 finished with value: 0.9689593480294855 and parameters: {'solver_penalty': ('lbfgs', 'l2'), 'C': 9.815640569915368, 'tol': 0.003931255635774115, 'fit_intercept': False, 'class_weight': None, 'threshold': 0.28804162831737734}. Best is trial 10 with value: 0.9693911677349213.\n",
      "[I 2025-07-02 12:59:28,057] Trial 173 finished with value: 0.9680955774550182 and parameters: {'solver_penalty': ('newton-cg', 'l2'), 'C': 4.753803226144921, 'tol': 0.008015417664830148, 'fit_intercept': False, 'class_weight': 'balanced', 'threshold': 0.7523150047017503}. Best is trial 10 with value: 0.9693911677349213.\n",
      "[I 2025-07-02 12:59:30,496] Trial 177 finished with value: 0.9691751995872719 and parameters: {'solver_penalty': ('lbfgs', 'l2'), 'C': 0.7749017438207378, 'tol': 0.005771193933780598, 'fit_intercept': True, 'class_weight': None, 'threshold': 0.5246615605196234}. Best is trial 10 with value: 0.9693911677349213.\n",
      "[I 2025-07-02 12:59:30,688] Trial 178 finished with value: 0.9692831909479631 and parameters: {'solver_penalty': ('newton-cholesky', 'l2'), 'C': 1.2839741589294187, 'tol': 0.005644531954122666, 'fit_intercept': True, 'class_weight': None, 'threshold': 0.5365313973744126}. Best is trial 10 with value: 0.9693911677349213.\n",
      "[I 2025-07-02 12:59:31,025] Trial 175 finished with value: 0.9687973901359147 and parameters: {'solver_penalty': ('newton-cg', None), 'C': 0.288535425242483, 'tol': 0.002995026398623631, 'fit_intercept': True, 'class_weight': None, 'threshold': 0.2407838860353971}. Best is trial 10 with value: 0.9693911677349213.\n",
      "[I 2025-07-02 12:59:32,173] Trial 179 finished with value: 0.9691212622018579 and parameters: {'solver_penalty': ('liblinear', 'l2'), 'C': 1.6876414986081367, 'tol': 0.007012504661515042, 'fit_intercept': False, 'class_weight': None, 'threshold': 0.4002307640997283}. Best is trial 10 with value: 0.9693911677349213.\n",
      "[I 2025-07-02 12:59:33,578] Trial 176 finished with value: 0.9689593480294857 and parameters: {'solver_penalty': ('newton-cg', None), 'C': 2.0895026480229912, 'tol': 0.0032435038842840653, 'fit_intercept': True, 'class_weight': 'balanced', 'threshold': 0.5243592498933487}. Best is trial 10 with value: 0.9693911677349213.\n",
      "[I 2025-07-02 12:59:33,956] Trial 180 finished with value: 0.9688513712425273 and parameters: {'solver_penalty': ('newton-cg', None), 'C': 7.784811480356234, 'tol': 0.00260006026595724, 'fit_intercept': False, 'class_weight': None, 'threshold': 0.2380734257066985}. Best is trial 10 with value: 0.9693911677349213.\n",
      "[I 2025-07-02 12:59:34,844] Trial 182 finished with value: 0.9690133291360983 and parameters: {'solver_penalty': ('lbfgs', 'l2'), 'C': 1.1858746890888394, 'tol': 0.0034781518303664723, 'fit_intercept': True, 'class_weight': None, 'threshold': 0.2387832814363268}. Best is trial 10 with value: 0.9693911677349213.\n",
      "[I 2025-07-02 12:59:36,642] Trial 183 finished with value: 0.9689592605870881 and parameters: {'solver_penalty': ('newton-cholesky', 'l2'), 'C': 0.3731792216980925, 'tol': 0.007140470441112275, 'fit_intercept': True, 'class_weight': None, 'threshold': 0.6915611959042259}. Best is trial 10 with value: 0.9693911677349213.\n",
      "[I 2025-07-02 12:59:36,993] Trial 181 finished with value: 0.9690133145623653 and parameters: {'solver_penalty': ('newton-cg', None), 'C': 0.38222280461488767, 'tol': 0.006076723120179076, 'fit_intercept': True, 'class_weight': 'balanced', 'threshold': 0.5300305340253905}. Best is trial 10 with value: 0.9693911677349213.\n",
      "[I 2025-07-02 12:59:37,182] Trial 184 finished with value: 0.9682575353485892 and parameters: {'solver_penalty': ('newton-cg', 'l2'), 'C': 4.318392813401177, 'tol': 0.005986616363108535, 'fit_intercept': True, 'class_weight': None, 'threshold': 0.759069421222818}. Best is trial 10 with value: 0.9693911677349213.\n",
      "[I 2025-07-02 12:59:37,550] Trial 185 finished with value: 0.969013241693701 and parameters: {'solver_penalty': ('newton-cholesky', 'l2'), 'C': 1.2172766009636067, 'tol': 0.005759158333025348, 'fit_intercept': True, 'class_weight': None, 'threshold': 0.6788684297451897}. Best is trial 10 with value: 0.9693911677349213.\n",
      "[I 2025-07-02 12:59:39,612] Trial 186 finished with value: 0.969013241693701 and parameters: {'solver_penalty': ('newton-cholesky', 'l2'), 'C': 2.9789679788059833, 'tol': 0.00511053955927507, 'fit_intercept': False, 'class_weight': None, 'threshold': 0.6123029926906177}. Best is trial 10 with value: 0.9693911677349213.\n",
      "[I 2025-07-02 12:59:40,587] Trial 188 finished with value: 0.9687973901359147 and parameters: {'solver_penalty': ('newton-cholesky', 'l2'), 'C': 0.1127439273850348, 'tol': 0.0037647793415407607, 'fit_intercept': True, 'class_weight': 'balanced', 'threshold': 0.46944403368011145}. Best is trial 10 with value: 0.9693911677349213.\n",
      "[I 2025-07-02 12:59:40,943] Trial 189 finished with value: 0.9689593334557527 and parameters: {'solver_penalty': ('newton-cholesky', None), 'C': 1.6680447979650268, 'tol': 0.005033670412385895, 'fit_intercept': True, 'class_weight': None, 'threshold': 0.37811163167107387}. Best is trial 10 with value: 0.9693911677349213.\n",
      "[I 2025-07-02 12:59:41,731] Trial 187 finished with value: 0.9664760276667744 and parameters: {'solver_penalty': ('lbfgs', 'l2'), 'C': 0.38807260604249844, 'tol': 0.003953849664591833, 'fit_intercept': True, 'class_weight': 'balanced', 'threshold': 0.2931819165552172}. Best is trial 10 with value: 0.9693911677349213.\n",
      "[I 2025-07-02 12:59:42,962] Trial 192 finished with value: 0.9690132999886325 and parameters: {'solver_penalty': ('liblinear', 'l1'), 'C': 9.517238649106968, 'tol': 0.008257226590487476, 'fit_intercept': True, 'class_weight': None, 'threshold': 0.3460363993768615}. Best is trial 10 with value: 0.9693911677349213.\n",
      "[I 2025-07-02 12:59:44,197] Trial 191 finished with value: 0.9689592605870881 and parameters: {'solver_penalty': ('newton-cholesky', None), 'C': 1.9353367249956306, 'tol': 0.005589575322969127, 'fit_intercept': True, 'class_weight': None, 'threshold': 0.689529149678878}. Best is trial 10 with value: 0.9693911677349213.\n",
      "[I 2025-07-02 12:59:44,954] Trial 194 finished with value: 0.9669619013474874 and parameters: {'solver_penalty': ('liblinear', 'l1'), 'C': 9.495809148336718, 'tol': 0.0037350462465188844, 'fit_intercept': False, 'class_weight': None, 'threshold': 0.8045723438704646}. Best is trial 10 with value: 0.9693911677349213.\n",
      "[I 2025-07-02 12:59:46,424] Trial 193 finished with value: 0.9690133145623653 and parameters: {'solver_penalty': ('lbfgs', 'l2'), 'C': 4.3798860071043775, 'tol': 0.0062341888107249575, 'fit_intercept': True, 'class_weight': 'balanced', 'threshold': 0.5845362638369483}. Best is trial 10 with value: 0.9693911677349213.\n",
      "[I 2025-07-02 12:59:46,744] Trial 190 finished with value: 0.9691212184806594 and parameters: {'solver_penalty': ('newton-cg', None), 'C': 4.780852704928538, 'tol': 0.005546228008923805, 'fit_intercept': True, 'class_weight': 'balanced', 'threshold': 0.764127793928354}. Best is trial 10 with value: 0.9693911677349213.\n",
      "[I 2025-07-02 12:59:47,111] Trial 195 finished with value: 0.9689593334557527 and parameters: {'solver_penalty': ('newton-cholesky', 'l2'), 'C': 1.7966852576535328, 'tol': 0.006970102365008742, 'fit_intercept': True, 'class_weight': None, 'threshold': 0.3567545692352334}. Best is trial 10 with value: 0.9693911677349213.\n",
      "[I 2025-07-02 12:59:48,001] Trial 196 finished with value: 0.9690133291360983 and parameters: {'solver_penalty': ('newton-cholesky', 'l2'), 'C': 1.6660765743475374, 'tol': 0.00629408135979098, 'fit_intercept': True, 'class_weight': None, 'threshold': 0.3250684815957847}. Best is trial 10 with value: 0.9693911677349213.\n",
      "[I 2025-07-02 12:59:49,848] Trial 197 finished with value: 0.9689593480294857 and parameters: {'solver_penalty': ('lbfgs', None), 'C': 2.3270942753993427, 'tol': 0.005547555092671571, 'fit_intercept': True, 'class_weight': None, 'threshold': 0.25800201393951144}. Best is trial 10 with value: 0.9693911677349213.\n",
      "[I 2025-07-02 12:59:50,359] Trial 200 finished with value: 0.9692831909479631 and parameters: {'solver_penalty': ('liblinear', 'l1'), 'C': 4.9266186398515215, 'tol': 0.0029544866388069384, 'fit_intercept': True, 'class_weight': None, 'threshold': 0.47398711991392}. Best is trial 10 with value: 0.9693911677349213.\n",
      "[I 2025-07-02 12:59:50,856] Trial 198 finished with value: 0.9691751995872719 and parameters: {'solver_penalty': ('newton-cg', None), 'C': 0.020768609534739912, 'tol': 0.004990332093084188, 'fit_intercept': True, 'class_weight': None, 'threshold': 0.5076704374904923}. Best is trial 10 with value: 0.9693911677349213.\n",
      "[I 2025-07-02 12:59:51,200] Trial 199 finished with value: 0.9692292244150833 and parameters: {'solver_penalty': ('newton-cg', None), 'C': 0.4968809491539599, 'tol': 0.007214277402539927, 'fit_intercept': True, 'class_weight': None, 'threshold': 0.4096121623239363}. Best is trial 10 with value: 0.9693911677349213.\n",
      "[I 2025-07-02 12:59:52,841] Trial 202 finished with value: 0.9692292244150833 and parameters: {'solver_penalty': ('liblinear', 'l1'), 'C': 3.27971142238215, 'tol': 0.0026414404276535763, 'fit_intercept': True, 'class_weight': None, 'threshold': 0.40213509593050883}. Best is trial 10 with value: 0.9693911677349213.\n",
      "[I 2025-07-02 12:59:54,016] Trial 204 finished with value: 0.9692831909479631 and parameters: {'solver_penalty': ('liblinear', 'l1'), 'C': 7.445544129840931, 'tol': 0.0054201610288855066, 'fit_intercept': True, 'class_weight': None, 'threshold': 0.4652421112523528}. Best is trial 10 with value: 0.9693911677349213.\n",
      "[I 2025-07-02 12:59:54,555] Trial 201 finished with value: 0.9690133145623653 and parameters: {'solver_penalty': ('newton-cg', None), 'C': 1.659248577530455, 'tol': 0.005694046200415894, 'fit_intercept': True, 'class_weight': None, 'threshold': 0.32869429872296085}. Best is trial 10 with value: 0.9693911677349213.\n",
      "[I 2025-07-02 12:59:54,703] Trial 203 finished with value: 0.9692832055216959 and parameters: {'solver_penalty': ('lbfgs', None), 'C': 7.659745957426894, 'tol': 0.004512077426717009, 'fit_intercept': False, 'class_weight': None, 'threshold': 0.43109840923246073}. Best is trial 10 with value: 0.9693911677349213.\n",
      "[I 2025-07-02 12:59:55,378] Trial 205 finished with value: 0.9690672810952453 and parameters: {'solver_penalty': ('liblinear', 'l1'), 'C': 4.6714323472447425, 'tol': 0.004930981859838462, 'fit_intercept': True, 'class_weight': None, 'threshold': 0.3363189167180751}. Best is trial 10 with value: 0.9693911677349213.\n",
      "[I 2025-07-02 12:59:56,888] Trial 206 finished with value: 0.9657741712646795 and parameters: {'solver_penalty': ('liblinear', 'l1'), 'C': 2.1671961508182207, 'tol': 0.000994949634844991, 'fit_intercept': True, 'class_weight': None, 'threshold': 0.12148800745296856}. Best is trial 10 with value: 0.9693911677349213.\n",
      "[I 2025-07-02 12:59:57,453] Trial 207 finished with value: 0.9691751995872719 and parameters: {'solver_penalty': ('liblinear', 'l1'), 'C': 3.796130788090187, 'tol': 0.0025056389839980715, 'fit_intercept': True, 'class_weight': None, 'threshold': 0.5779865009541543}. Best is trial 10 with value: 0.9693911677349213.\n",
      "[I 2025-07-02 12:59:58,831] Trial 208 finished with value: 0.9689053669228729 and parameters: {'solver_penalty': ('lbfgs', None), 'C': 8.363004273506098, 'tol': 0.005642276600259292, 'fit_intercept': False, 'class_weight': None, 'threshold': 0.30015942418409913}. Best is trial 10 with value: 0.9693911677349213.\n",
      "[I 2025-07-02 12:59:59,531] Trial 210 finished with value: 0.9691751995872719 and parameters: {'solver_penalty': ('liblinear', 'l1'), 'C': 4.101128622350904, 'tol': 0.003828002872351699, 'fit_intercept': True, 'class_weight': None, 'threshold': 0.5795178086314067}. Best is trial 10 with value: 0.9693911677349213.\n",
      "[I 2025-07-02 12:59:59,750] Trial 209 finished with value: 0.9689593480294855 and parameters: {'solver_penalty': ('lbfgs', None), 'C': 7.894558709019016, 'tol': 0.004834851775014316, 'fit_intercept': False, 'class_weight': None, 'threshold': 0.2258955787148541}. Best is trial 10 with value: 0.9693911677349213.\n",
      "[I 2025-07-02 13:00:01,030] Trial 211 finished with value: 0.9691752287347377 and parameters: {'solver_penalty': ('lbfgs', None), 'C': 8.863869235466817, 'tol': 0.004829173918052411, 'fit_intercept': False, 'class_weight': None, 'threshold': 0.4649825051683597}. Best is trial 10 with value: 0.9693911677349213.\n",
      "[I 2025-07-02 13:00:02,826] Trial 213 finished with value: 0.9691212622018579 and parameters: {'solver_penalty': ('lbfgs', None), 'C': 5.971188879247054, 'tol': 0.0049473833862396475, 'fit_intercept': False, 'class_weight': None, 'threshold': 0.40298600487658526}. Best is trial 10 with value: 0.9693911677349213.\n",
      "[I 2025-07-02 13:00:03,697] Trial 212 finished with value: 0.9691751995872719 and parameters: {'solver_penalty': ('newton-cg', None), 'C': 0.6881543988058939, 'tol': 0.00910605086699361, 'fit_intercept': True, 'class_weight': None, 'threshold': 0.5189194086472947}. Best is trial 10 with value: 0.9693911677349213.\n",
      "[I 2025-07-02 13:00:03,902] Trial 214 finished with value: 0.9645325766651218 and parameters: {'solver_penalty': ('newton-cg', None), 'C': 0.8941518860510369, 'tol': 0.008428316101427717, 'fit_intercept': True, 'class_weight': None, 'threshold': 0.09106541426550713}. Best is trial 10 with value: 0.9693911677349213.\n",
      "[I 2025-07-02 13:00:04,300] Trial 215 finished with value: 0.9691751850135389 and parameters: {'solver_penalty': ('lbfgs', None), 'C': 2.414656917604785, 'tol': 0.008557721815406524, 'fit_intercept': True, 'class_weight': None, 'threshold': 0.5837173240556108}. Best is trial 10 with value: 0.9693911677349213.\n",
      "[I 2025-07-02 13:00:05,767] Trial 216 finished with value: 0.9684194932421601 and parameters: {'solver_penalty': ('liblinear', 'l1'), 'C': 4.408288247108416, 'tol': 0.0015241602129949792, 'fit_intercept': True, 'class_weight': 'balanced', 'threshold': 0.36020501576513386}. Best is trial 10 with value: 0.9693911677349213.\n",
      "[I 2025-07-02 13:00:06,435] Trial 219 finished with value: 0.9693371720545757 and parameters: {'solver_penalty': ('liblinear', 'l1'), 'C': 7.436449870667836, 'tol': 0.006142495496191383, 'fit_intercept': True, 'class_weight': None, 'threshold': 0.4963877105638111}. Best is trial 10 with value: 0.9693911677349213.\n",
      "[I 2025-07-02 13:00:07,749] Trial 218 finished with value: 0.9690672810952453 and parameters: {'solver_penalty': ('newton-cholesky', 'l2'), 'C': 0.17384003548003246, 'tol': 0.003265312827098026, 'fit_intercept': True, 'class_weight': None, 'threshold': 0.41145812464501974}. Best is trial 10 with value: 0.9693911677349213.\n",
      "[I 2025-07-02 13:00:08,563] Trial 221 finished with value: 0.9692831909479631 and parameters: {'solver_penalty': ('liblinear', 'l1'), 'C': 0.22876073443129163, 'tol': 0.0035803327723190866, 'fit_intercept': True, 'class_weight': None, 'threshold': 0.4612210070095605}. Best is trial 10 with value: 0.9693911677349213.\n",
      "[I 2025-07-02 13:00:09,401] Trial 217 finished with value: 0.9687973464147159 and parameters: {'solver_penalty': ('newton-cg', None), 'C': 1.443312677315475, 'tol': 0.0005286861998507982, 'fit_intercept': True, 'class_weight': None, 'threshold': 0.7435373099835372}. Best is trial 10 with value: 0.9693911677349213.\n",
      "[I 2025-07-02 13:00:10,224] Trial 222 finished with value: 0.9692292098413503 and parameters: {'solver_penalty': ('liblinear', 'l2'), 'C': 5.870600787965101, 'tol': 0.003396615322234257, 'fit_intercept': True, 'class_weight': None, 'threshold': 0.5097879747003514}. Best is trial 10 with value: 0.9693911677349213.\n",
      "[I 2025-07-02 13:00:10,253] Trial 220 finished with value: 0.9692292098413503 and parameters: {'solver_penalty': ('newton-cg', 'l2'), 'C': 1.8761882734520183, 'tol': 0.004896265668398202, 'fit_intercept': True, 'class_weight': None, 'threshold': 0.47976549818897674}. Best is trial 10 with value: 0.9693911677349213.\n",
      "[I 2025-07-02 13:00:10,908] Trial 223 finished with value: 0.9692831909479631 and parameters: {'solver_penalty': ('liblinear', 'l1'), 'C': 6.0260549651091075, 'tol': 0.002807837892459741, 'fit_intercept': True, 'class_weight': None, 'threshold': 0.4514313774150164}. Best is trial 10 with value: 0.9693911677349213.\n",
      "[I 2025-07-02 13:00:12,330] Trial 224 finished with value: 0.9689592751608211 and parameters: {'solver_penalty': ('liblinear', 'l1'), 'C': 7.8722564382272155, 'tol': 0.0065944858043803095, 'fit_intercept': True, 'class_weight': None, 'threshold': 0.6522933827855548}. Best is trial 10 with value: 0.9693911677349213.\n",
      "[I 2025-07-02 13:00:13,601] Trial 226 finished with value: 0.9644245853044306 and parameters: {'solver_penalty': ('liblinear', 'l1'), 'C': 7.975954905708159, 'tol': 0.0035779689570768266, 'fit_intercept': True, 'class_weight': 'balanced', 'threshold': 0.23672907779928953}. Best is trial 10 with value: 0.9693911677349213.\n",
      "[I 2025-07-02 13:00:13,777] Trial 225 finished with value: 0.9691212622018579 and parameters: {'solver_penalty': ('liblinear', 'l1'), 'C': 5.110926648226499, 'tol': 0.0007006109328428953, 'fit_intercept': True, 'class_weight': None, 'threshold': 0.3918841767084519}. Best is trial 10 with value: 0.9693911677349213.\n",
      "[I 2025-07-02 13:00:14,113] Trial 227 finished with value: 0.9691751995872719 and parameters: {'solver_penalty': ('liblinear', 'l1'), 'C': 8.030283632981334, 'tol': 0.0061917567263335, 'fit_intercept': True, 'class_weight': None, 'threshold': 0.5602566933788365}. Best is trial 10 with value: 0.9693911677349213.\n",
      "[I 2025-07-02 13:00:15,435] Trial 228 finished with value: 0.9664760276667744 and parameters: {'solver_penalty': ('liblinear', 'l1'), 'C': 0.7714997964357205, 'tol': 0.002711441636541468, 'fit_intercept': True, 'class_weight': None, 'threshold': 0.8203444707235603}. Best is trial 10 with value: 0.9693911677349213.\n",
      "[I 2025-07-02 13:00:16,781] Trial 229 finished with value: 0.9693371866283087 and parameters: {'solver_penalty': ('liblinear', 'l1'), 'C': 0.7821542532966139, 'tol': 0.0047167503064201935, 'fit_intercept': True, 'class_weight': None, 'threshold': 0.41309245775032133}. Best is trial 10 with value: 0.9693911677349213.\n",
      "[I 2025-07-02 13:00:16,785] Trial 230 finished with value: 0.9692292098413503 and parameters: {'solver_penalty': ('liblinear', 'l1'), 'C': 0.13410822699560926, 'tol': 0.004588461951359875, 'fit_intercept': True, 'class_weight': None, 'threshold': 0.4501789743421153}. Best is trial 10 with value: 0.9693911677349213.\n",
      "[I 2025-07-02 13:00:18,360] Trial 232 finished with value: 0.9658281232238263 and parameters: {'solver_penalty': ('liblinear', 'l1'), 'C': 0.13591061738202276, 'tol': 0.0031763137619044896, 'fit_intercept': True, 'class_weight': 'balanced', 'threshold': 0.2917235610675549}. Best is trial 10 with value: 0.9693911677349213.\n",
      "[I 2025-07-02 13:00:18,882] Trial 231 finished with value: 0.9691212622018579 and parameters: {'solver_penalty': ('lbfgs', 'l2'), 'C': 4.308616340727908, 'tol': 0.0028097334974488703, 'fit_intercept': False, 'class_weight': None, 'threshold': 0.3932830388053048}. Best is trial 10 with value: 0.9693911677349213.\n",
      "[I 2025-07-02 13:00:19,539] Trial 234 finished with value: 0.9693371866283087 and parameters: {'solver_penalty': ('liblinear', 'l2'), 'C': 0.7031181780020662, 'tol': 0.007254548425100644, 'fit_intercept': True, 'class_weight': None, 'threshold': 0.44202148677561465}. Best is trial 10 with value: 0.9693911677349213.\n",
      "[I 2025-07-02 13:00:20,059] Trial 233 finished with value: 0.9689053523491399 and parameters: {'solver_penalty': ('liblinear', 'l1'), 'C': 1.1412216071498122, 'tol': 0.006428459258661786, 'fit_intercept': True, 'class_weight': None, 'threshold': 0.1992383103171321}. Best is trial 10 with value: 0.9693911677349213.\n",
      "[I 2025-07-02 13:00:21,868] Trial 236 finished with value: 0.9691752433084705 and parameters: {'solver_penalty': ('liblinear', 'l1'), 'C': 6.242547389917261, 'tol': 0.0032265668662921024, 'fit_intercept': True, 'class_weight': None, 'threshold': 0.37657107061140577}. Best is trial 10 with value: 0.9693911677349213.\n",
      "[I 2025-07-02 13:00:22,745] Trial 237 finished with value: 0.9688513712425273 and parameters: {'solver_penalty': ('liblinear', 'l1'), 'C': 1.7280486171091471, 'tol': 0.0038254091352106553, 'fit_intercept': True, 'class_weight': None, 'threshold': 0.27484227440506714}. Best is trial 10 with value: 0.9693911677349213.\n",
      "[I 2025-07-02 13:00:23,149] Trial 238 finished with value: 0.9689053669228729 and parameters: {'solver_penalty': ('liblinear', 'l2'), 'C': 0.9071076682569211, 'tol': 0.007326760779039152, 'fit_intercept': True, 'class_weight': None, 'threshold': 0.2973654468626222}. Best is trial 10 with value: 0.9693911677349213.\n",
      "[I 2025-07-02 13:00:23,351] Trial 235 finished with value: 0.9692832055216959 and parameters: {'solver_penalty': ('lbfgs', 'l2'), 'C': 4.672078667023787, 'tol': 0.0018119890799702673, 'fit_intercept': True, 'class_weight': None, 'threshold': 0.4316031700658196}. Best is trial 10 with value: 0.9693911677349213.\n",
      "[I 2025-07-02 13:00:25,921] Trial 240 finished with value: 0.9690132999886325 and parameters: {'solver_penalty': ('liblinear', 'l2'), 'C': 0.2334063609999496, 'tol': 0.007162301470373413, 'fit_intercept': True, 'class_weight': None, 'threshold': 0.3517061165008283}. Best is trial 10 with value: 0.9693911677349213.\n",
      "[I 2025-07-02 13:00:26,135] Trial 242 finished with value: 0.9687433507343703 and parameters: {'solver_penalty': ('liblinear', 'l1'), 'C': 8.632926443302015, 'tol': 0.0023786940786866525, 'fit_intercept': True, 'class_weight': None, 'threshold': 0.6673264991049004}. Best is trial 10 with value: 0.9693911677349213.\n",
      "[I 2025-07-02 13:00:26,473] Trial 241 finished with value: 0.9690672810952453 and parameters: {'solver_penalty': ('liblinear', 'l1'), 'C': 7.5149342954518135, 'tol': 0.005497310603256398, 'fit_intercept': True, 'class_weight': None, 'threshold': 0.35260215262678185}. Best is trial 10 with value: 0.9693911677349213.\n",
      "[I 2025-07-02 13:00:26,508] Trial 239 finished with value: 0.9690133145623653 and parameters: {'solver_penalty': ('lbfgs', 'l2'), 'C': 1.268040538975067, 'tol': 0.0078113921852312525, 'fit_intercept': True, 'class_weight': None, 'threshold': 0.31986081475270123}. Best is trial 10 with value: 0.9693911677349213.\n",
      "[I 2025-07-02 13:00:28,342] Trial 243 finished with value: 0.9690672956689779 and parameters: {'solver_penalty': ('liblinear', 'l2'), 'C': 7.003432639134266, 'tol': 0.005760414230612316, 'fit_intercept': False, 'class_weight': None, 'threshold': 0.34186848423820704}. Best is trial 10 with value: 0.9693911677349213.\n",
      "[I 2025-07-02 13:00:29,020] Trial 246 finished with value: 0.9691212039069264 and parameters: {'solver_penalty': ('liblinear', 'l2'), 'C': 1.3829080931402193, 'tol': 0.00508043808908624, 'fit_intercept': True, 'class_weight': None, 'threshold': 0.6092354032613874}. Best is trial 10 with value: 0.9693911677349213.\n",
      "[I 2025-07-02 13:00:30,239] Trial 244 finished with value: 0.9690133291360983 and parameters: {'solver_penalty': ('newton-cholesky', None), 'C': 9.15740692034641, 'tol': 0.005453543921620121, 'fit_intercept': True, 'class_weight': None, 'threshold': 0.28814019066881813}. Best is trial 10 with value: 0.9693911677349213.\n",
      "[I 2025-07-02 13:00:30,630] Trial 245 finished with value: 0.9692292244150831 and parameters: {'solver_penalty': ('lbfgs', 'l2'), 'C': 4.208367644449449, 'tol': 0.0017863858400376375, 'fit_intercept': True, 'class_weight': None, 'threshold': 0.46813360952820016}. Best is trial 10 with value: 0.9693911677349213.\n",
      "[I 2025-07-02 13:00:31,310] Trial 248 finished with value: 0.9691212622018579 and parameters: {'solver_penalty': ('liblinear', 'l1'), 'C': 0.5918686257096071, 'tol': 0.0015792460297641728, 'fit_intercept': True, 'class_weight': None, 'threshold': 0.3932050787535473}. Best is trial 10 with value: 0.9693911677349213.\n",
      "[I 2025-07-02 13:00:33,400] Trial 250 finished with value: 0.9691212622018579 and parameters: {'solver_penalty': ('liblinear', 'l1'), 'C': 7.037478725435513, 'tol': 0.005353843024538011, 'fit_intercept': False, 'class_weight': None, 'threshold': 0.3635525652926517}. Best is trial 10 with value: 0.9693911677349213.\n",
      "[I 2025-07-02 13:00:34,243] Trial 249 finished with value: 0.9690132999886325 and parameters: {'solver_penalty': ('lbfgs', 'l2'), 'C': 6.616559356519629, 'tol': 0.002806883824043851, 'fit_intercept': True, 'class_weight': None, 'threshold': 0.3468358432622903}. Best is trial 10 with value: 0.9693911677349213.\n",
      "[I 2025-07-02 13:00:34,244] Trial 251 finished with value: 0.9692292244150833 and parameters: {'solver_penalty': ('liblinear', 'l1'), 'C': 3.118810955725136, 'tol': 0.002254491025154229, 'fit_intercept': True, 'class_weight': None, 'threshold': 0.3926551025426135}. Best is trial 10 with value: 0.9693911677349213.\n",
      "[I 2025-07-02 13:00:36,720] Trial 253 finished with value: 0.9691212622018579 and parameters: {'solver_penalty': ('liblinear', 'l2'), 'C': 2.2963181036121636, 'tol': 0.0017961046844216714, 'fit_intercept': True, 'class_weight': None, 'threshold': 0.38242875589298186}. Best is trial 10 with value: 0.9693911677349213.\n",
      "[I 2025-07-02 13:00:36,733] Trial 254 finished with value: 0.9689593334557527 and parameters: {'solver_penalty': ('liblinear', 'l1'), 'C': 3.3858185330936488, 'tol': 0.006872212394656016, 'fit_intercept': True, 'class_weight': 'balanced', 'threshold': 0.5355325461385126}. Best is trial 10 with value: 0.9693911677349213.\n",
      "[I 2025-07-02 13:00:38,797] Trial 252 finished with value: 0.9689053377754071 and parameters: {'solver_penalty': ('lbfgs', 'l2'), 'C': 5.163697174046199, 'tol': 0.0028542443514202173, 'fit_intercept': False, 'class_weight': 'balanced', 'threshold': 0.47585431709948556}. Best is trial 10 with value: 0.9693911677349213.\n",
      "[I 2025-07-02 13:00:39,233] Trial 255 finished with value: 0.9690132999886325 and parameters: {'solver_penalty': ('lbfgs', 'l2'), 'C': 0.0840006190600978, 'tol': 0.0052281158552683745, 'fit_intercept': True, 'class_weight': None, 'threshold': 0.330251398360249}. Best is trial 10 with value: 0.9693911677349213.\n",
      "[I 2025-07-02 13:00:40,376] Trial 256 finished with value: 0.9690673102427109 and parameters: {'solver_penalty': ('newton-cg', None), 'C': 6.596240036194228, 'tol': 0.0006549855016051475, 'fit_intercept': True, 'class_weight': None, 'threshold': 0.3328898859367857}. Best is trial 10 with value: 0.9693911677349213.\n",
      "[I 2025-07-02 13:00:42,047] Trial 257 finished with value: 0.9692292244150831 and parameters: {'solver_penalty': ('newton-cg', None), 'C': 8.730653775785235, 'tol': 0.003581482835156858, 'fit_intercept': False, 'class_weight': None, 'threshold': 0.46570965963687067}. Best is trial 10 with value: 0.9693911677349213.\n",
      "[I 2025-07-02 13:00:43,063] Trial 258 finished with value: 0.9689593188820197 and parameters: {'solver_penalty': ('newton-cg', None), 'C': 2.345315933514611, 'tol': 0.002332637474984671, 'fit_intercept': True, 'class_weight': None, 'threshold': 0.4053446146156438}. Best is trial 10 with value: 0.9693911677349213.\n",
      "[I 2025-07-02 13:00:43,794] Trial 247 finished with value: 0.9689053377754071 and parameters: {'solver_penalty': ('lbfgs', 'l2'), 'C': 5.205840288759434, 'tol': 2.038313443283044e-06, 'fit_intercept': True, 'class_weight': None, 'threshold': 0.3984052811864633}. Best is trial 10 with value: 0.9693911677349213.\n",
      "[I 2025-07-02 13:00:45,075] Trial 259 finished with value: 0.9690133291360983 and parameters: {'solver_penalty': ('newton-cg', None), 'C': 3.440075046419525, 'tol': 0.003427073462480845, 'fit_intercept': True, 'class_weight': None, 'threshold': 0.3080514257921727}. Best is trial 10 with value: 0.9693911677349213.\n",
      "[I 2025-07-02 13:00:45,101] Trial 261 finished with value: 0.9690672810952453 and parameters: {'solver_penalty': ('liblinear', 'l1'), 'C': 7.893124729517496, 'tol': 0.0013123748679577394, 'fit_intercept': False, 'class_weight': None, 'threshold': 0.352569858463166}. Best is trial 10 with value: 0.9693911677349213.\n",
      "[I 2025-07-02 13:00:47,319] Trial 263 finished with value: 0.9692832055216959 and parameters: {'solver_penalty': ('liblinear', 'l1'), 'C': 4.734046540573579, 'tol': 0.0029908532759097472, 'fit_intercept': True, 'class_weight': None, 'threshold': 0.4193732671034933}. Best is trial 10 with value: 0.9693911677349213.\n",
      "[I 2025-07-02 13:00:47,343] Trial 264 finished with value: 0.9691751850135389 and parameters: {'solver_penalty': ('liblinear', 'l2'), 'C': 9.229828016187156, 'tol': 0.003173881610709358, 'fit_intercept': False, 'class_weight': None, 'threshold': 0.5851380125897941}. Best is trial 10 with value: 0.9693911677349213.\n",
      "[I 2025-07-02 13:00:47,702] Trial 260 finished with value: 0.9690673102427109 and parameters: {'solver_penalty': ('newton-cg', 'l2'), 'C': 4.911636222308101, 'tol': 0.0010297125048530755, 'fit_intercept': True, 'class_weight': None, 'threshold': 0.32967458509478215}. Best is trial 10 with value: 0.9693911677349213.\n",
      "[I 2025-07-02 13:00:48,496] Trial 262 finished with value: 0.9691752287347377 and parameters: {'solver_penalty': ('newton-cg', None), 'C': 8.352718187394196, 'tol': 0.0007305662443722913, 'fit_intercept': False, 'class_weight': None, 'threshold': 0.4930904459232788}. Best is trial 10 with value: 0.9693911677349213.\n",
      "[I 2025-07-02 13:00:50,231] Trial 265 finished with value: 0.9692832055216961 and parameters: {'solver_penalty': ('liblinear', 'l1'), 'C': 3.1877942231801826, 'tol': 0.002633572479925323, 'fit_intercept': True, 'class_weight': None, 'threshold': 0.41266106710497436}. Best is trial 10 with value: 0.9693911677349213.\n",
      "[I 2025-07-02 13:00:50,245] Trial 266 finished with value: 0.9691212622018579 and parameters: {'solver_penalty': ('liblinear', 'l1'), 'C': 5.412578615349191, 'tol': 0.0021380930005828478, 'fit_intercept': True, 'class_weight': None, 'threshold': 0.3827529154648041}. Best is trial 10 with value: 0.9693911677349213.\n",
      "[I 2025-07-02 13:00:50,490] Trial 267 finished with value: 0.9693371720545757 and parameters: {'solver_penalty': ('liblinear', 'l1'), 'C': 2.3778577499979914, 'tol': 0.003610546132898705, 'fit_intercept': False, 'class_weight': None, 'threshold': 0.4894127823721964}. Best is trial 10 with value: 0.9693911677349213.\n",
      "[I 2025-07-02 13:00:52,965] Trial 270 finished with value: 0.9693371866283087 and parameters: {'solver_penalty': ('liblinear', 'l1'), 'C': 1.9659094176632605, 'tol': 0.003046432763053564, 'fit_intercept': True, 'class_weight': None, 'threshold': 0.4229362328170837}. Best is trial 10 with value: 0.9693911677349213.\n",
      "[I 2025-07-02 13:00:53,139] Trial 269 finished with value: 0.9692292098413503 and parameters: {'solver_penalty': ('liblinear', 'l1'), 'C': 3.938127154418078, 'tol': 0.0023406514674337332, 'fit_intercept': False, 'class_weight': None, 'threshold': 0.43030428965271983}. Best is trial 10 with value: 0.9693911677349213.\n",
      "[I 2025-07-02 13:00:53,493] Trial 268 finished with value: 0.9689593480294857 and parameters: {'solver_penalty': ('lbfgs', None), 'C': 7.48787330334849, 'tol': 0.0071663513677447015, 'fit_intercept': True, 'class_weight': None, 'threshold': 0.25861089481745414}. Best is trial 10 with value: 0.9693911677349213.\n",
      "[I 2025-07-02 13:00:53,681] Trial 271 finished with value: 0.9692292244150833 and parameters: {'solver_penalty': ('liblinear', 'l1'), 'C': 4.5153301687806495, 'tol': 0.0027864320551970793, 'fit_intercept': False, 'class_weight': None, 'threshold': 0.39467602851328415}. Best is trial 10 with value: 0.9693911677349213.\n",
      "[I 2025-07-02 13:00:55,842] Trial 272 finished with value: 0.9689052940542083 and parameters: {'solver_penalty': ('liblinear', 'l1'), 'C': 2.499259743850566, 'tol': 0.0033242343769568986, 'fit_intercept': False, 'class_weight': None, 'threshold': 0.6523216433492125}. Best is trial 10 with value: 0.9693911677349213.\n",
      "[I 2025-07-02 13:00:56,037] Trial 273 finished with value: 0.9692292098413503 and parameters: {'solver_penalty': ('liblinear', 'l1'), 'C': 6.214339178710115, 'tol': 0.0029988271376837927, 'fit_intercept': True, 'class_weight': None, 'threshold': 0.6094275176173587}. Best is trial 10 with value: 0.9693911677349213.\n",
      "[I 2025-07-02 13:00:57,901] Trial 275 finished with value: 0.9690672228003138 and parameters: {'solver_penalty': ('lbfgs', None), 'C': 5.242873121645302, 'tol': 0.0031707990188640316, 'fit_intercept': True, 'class_weight': None, 'threshold': 0.6453067389090226}. Best is trial 10 with value: 0.9693911677349213.\n",
      "[I 2025-07-02 13:00:58,234] Trial 274 finished with value: 0.9692831909479631 and parameters: {'solver_penalty': ('newton-cholesky', 'l2'), 'C': 6.802099069199383, 'tol': 0.0033935787648444226, 'fit_intercept': True, 'class_weight': None, 'threshold': 0.5042707235351955}. Best is trial 10 with value: 0.9693911677349213.\n",
      "[I 2025-07-02 13:00:58,775] Trial 277 finished with value: 0.9689593188820197 and parameters: {'solver_penalty': ('liblinear', 'l1'), 'C': 6.136324236901876, 'tol': 0.00351633349546668, 'fit_intercept': True, 'class_weight': 'balanced', 'threshold': 0.5800070362994795}. Best is trial 10 with value: 0.9693911677349213.\n",
      "[I 2025-07-02 13:00:59,170] Trial 276 finished with value: 0.9692292098413503 and parameters: {'solver_penalty': ('lbfgs', None), 'C': 6.08422242129117, 'tol': 0.0018054851521922032, 'fit_intercept': False, 'class_weight': None, 'threshold': 0.48400813507640605}. Best is trial 10 with value: 0.9693911677349213.\n",
      "[I 2025-07-02 13:01:01,585] Trial 279 finished with value: 0.9690672228003135 and parameters: {'solver_penalty': ('newton-cholesky', 'l2'), 'C': 8.031012108239828, 'tol': 0.003069741091858065, 'fit_intercept': True, 'class_weight': None, 'threshold': 0.6029351862300819}. Best is trial 10 with value: 0.9693911677349213.\n",
      "[I 2025-07-02 13:01:01,910] Trial 280 finished with value: 0.9691751995872719 and parameters: {'solver_penalty': ('newton-cholesky', 'l2'), 'C': 7.876240266683477, 'tol': 0.00466372516296755, 'fit_intercept': True, 'class_weight': None, 'threshold': 0.5501261054221802}. Best is trial 10 with value: 0.9693911677349213.\n",
      "[I 2025-07-02 13:01:02,140] Trial 281 finished with value: 0.9692831909479631 and parameters: {'solver_penalty': ('newton-cholesky', 'l2'), 'C': 5.813635772568218, 'tol': 0.004255446173622711, 'fit_intercept': True, 'class_weight': None, 'threshold': 0.5122492908983223}. Best is trial 10 with value: 0.9693911677349213.\n",
      "[I 2025-07-02 13:01:02,307] Trial 278 finished with value: 0.9689593188820197 and parameters: {'solver_penalty': ('newton-cg', None), 'C': 6.647025976074357, 'tol': 0.0033871490950535803, 'fit_intercept': True, 'class_weight': None, 'threshold': 0.39602208213330004}. Best is trial 10 with value: 0.9693911677349213.\n",
      "[I 2025-07-02 13:01:04,919] Trial 282 finished with value: 0.9690133291360983 and parameters: {'solver_penalty': ('newton-cholesky', 'l2'), 'C': 5.826207027689544, 'tol': 0.0025226207520711976, 'fit_intercept': True, 'class_weight': None, 'threshold': 0.3124591589308915}. Best is trial 10 with value: 0.9693911677349213.\n",
      "[I 2025-07-02 13:01:05,105] Trial 283 finished with value: 0.9690133291360983 and parameters: {'solver_penalty': ('newton-cholesky', 'l2'), 'C': 5.1171800962463, 'tol': 0.0027455713760933826, 'fit_intercept': True, 'class_weight': None, 'threshold': 0.2878813520676379}. Best is trial 10 with value: 0.9693911677349213.\n",
      "[I 2025-07-02 13:01:05,430] Trial 284 finished with value: 0.9691212184806591 and parameters: {'solver_penalty': ('newton-cholesky', 'l2'), 'C': 2.090063526620482, 'tol': 0.003918083361907118, 'fit_intercept': True, 'class_weight': None, 'threshold': 0.5774573683347899}. Best is trial 10 with value: 0.9693911677349213.\n",
      "[I 2025-07-02 13:01:05,652] Trial 285 finished with value: 0.9689053377754071 and parameters: {'solver_penalty': ('newton-cholesky', 'l2'), 'C': 4.2110774215429725, 'tol': 0.0019889928317033487, 'fit_intercept': True, 'class_weight': None, 'threshold': 0.39870140348857497}. Best is trial 10 with value: 0.9693911677349213.\n",
      "[I 2025-07-02 13:01:08,359] Trial 286 finished with value: 0.9688513129475957 and parameters: {'solver_penalty': ('newton-cholesky', 'l2'), 'C': 4.8640417711353034, 'tol': 0.0013299643649734095, 'fit_intercept': True, 'class_weight': None, 'threshold': 0.7039760235364457}. Best is trial 10 with value: 0.9693911677349213.\n",
      "[I 2025-07-02 13:01:08,581] Trial 287 finished with value: 0.9691212913493237 and parameters: {'solver_penalty': ('lbfgs', None), 'C': 7.410051728781121, 'tol': 0.0014614315677384969, 'fit_intercept': True, 'class_weight': None, 'threshold': 0.33817557083721966}. Best is trial 10 with value: 0.9693911677349213.\n",
      "[I 2025-07-02 13:01:08,761] Trial 288 finished with value: 0.9690672228003135 and parameters: {'solver_penalty': ('newton-cholesky', 'l2'), 'C': 4.867667694740099, 'tol': 0.0035123204796961736, 'fit_intercept': True, 'class_weight': None, 'threshold': 0.6154087573438386}. Best is trial 10 with value: 0.9693911677349213.\n",
      "[I 2025-07-02 13:01:09,573] Trial 289 finished with value: 0.9691751995872719 and parameters: {'solver_penalty': ('newton-cholesky', None), 'C': 6.648868840924534, 'tol': 0.003448929112124636, 'fit_intercept': True, 'class_weight': None, 'threshold': 0.5634135785187477}. Best is trial 10 with value: 0.9693911677349213.\n",
      "[I 2025-07-02 13:01:11,581] Trial 291 finished with value: 0.9691751995872719 and parameters: {'solver_penalty': ('liblinear', 'l1'), 'C': 2.208146066086008, 'tol': 0.004722655956279612, 'fit_intercept': True, 'class_weight': None, 'threshold': 0.5320982618773222}. Best is trial 10 with value: 0.9693911677349213.\n",
      "[I 2025-07-02 13:01:11,597] Trial 292 finished with value: 0.9692831909479631 and parameters: {'solver_penalty': ('liblinear', 'l1'), 'C': 7.480867695481279, 'tol': 0.008856896056012272, 'fit_intercept': True, 'class_weight': None, 'threshold': 0.46778309518455685}. Best is trial 10 with value: 0.9693911677349213.\n",
      "[I 2025-07-02 13:01:12,126] Trial 293 finished with value: 0.9692292098413503 and parameters: {'solver_penalty': ('liblinear', 'l1'), 'C': 1.9785199547361998, 'tol': 0.006699036749680658, 'fit_intercept': True, 'class_weight': None, 'threshold': 0.46043203970964336}. Best is trial 10 with value: 0.9693911677349213.\n",
      "[I 2025-07-02 13:01:12,928] Trial 290 finished with value: 0.9690672228003135 and parameters: {'solver_penalty': ('newton-cholesky', 'l2'), 'C': 4.964543675876535, 'tol': 0.004083831072112127, 'fit_intercept': True, 'class_weight': None, 'threshold': 0.5995324367852517}. Best is trial 10 with value: 0.9693911677349213.\n",
      "[I 2025-07-02 13:01:14,208] Trial 295 finished with value: 0.9692832055216961 and parameters: {'solver_penalty': ('liblinear', 'l1'), 'C': 5.664086443675654, 'tol': 0.009223593547473794, 'fit_intercept': True, 'class_weight': None, 'threshold': 0.42704783047201733}. Best is trial 10 with value: 0.9693911677349213.\n",
      "[I 2025-07-02 13:01:14,223] Trial 294 finished with value: 0.9692832055216959 and parameters: {'solver_penalty': ('liblinear', 'l1'), 'C': 6.752220565980882, 'tol': 0.007814066357115818, 'fit_intercept': True, 'class_weight': None, 'threshold': 0.40511756261515364}. Best is trial 10 with value: 0.9693911677349213.\n",
      "[I 2025-07-02 13:01:15,540] Trial 297 finished with value: 0.9693371720545757 and parameters: {'solver_penalty': ('liblinear', 'l1'), 'C': 6.492098968703333, 'tol': 0.007653478646874025, 'fit_intercept': True, 'class_weight': None, 'threshold': 0.43535249869921183}. Best is trial 10 with value: 0.9693911677349213.\n",
      "[I 2025-07-02 13:01:16,385] Trial 299 finished with value: 0.9691212622018579 and parameters: {'solver_penalty': ('liblinear', 'l1'), 'C': 5.341722736255609, 'tol': 0.009141026151207756, 'fit_intercept': True, 'class_weight': None, 'threshold': 0.37162131577325214}. Best is trial 10 with value: 0.9693911677349213.\n",
      "[I 2025-07-02 13:01:16,871] Trial 296 finished with value: 0.9690132999886323 and parameters: {'solver_penalty': ('newton-cg', 'l2'), 'C': 1.6710707087980012, 'tol': 0.003340470647308667, 'fit_intercept': False, 'class_weight': None, 'threshold': 0.37330911995236854}. Best is trial 10 with value: 0.9693911677349213.\n",
      "[I 2025-07-02 13:01:18,918] Trial 301 finished with value: 0.9693371866283087 and parameters: {'solver_penalty': ('liblinear', 'l1'), 'C': 7.391480414611725, 'tol': 0.005255669738943361, 'fit_intercept': True, 'class_weight': None, 'threshold': 0.43846314579331286}. Best is trial 10 with value: 0.9693911677349213.\n",
      "[I 2025-07-02 13:01:19,114] Trial 302 finished with value: 0.9693371720545757 and parameters: {'solver_penalty': ('liblinear', 'l1'), 'C': 1.1894610592080577, 'tol': 0.0021258926836132033, 'fit_intercept': False, 'class_weight': None, 'threshold': 0.46544564447789644}. Best is trial 10 with value: 0.9693911677349213.\n",
      "[I 2025-07-02 13:01:19,595] Trial 300 finished with value: 0.6947726789144317 and parameters: {'solver_penalty': ('newton-cg', None), 'C': 8.602802535339801, 'tol': 0.006936010120789135, 'fit_intercept': True, 'class_weight': None, 'threshold': 0.02192376865242207}. Best is trial 10 with value: 0.9693911677349213.\n",
      "[I 2025-07-02 13:01:20,719] Trial 298 finished with value: 0.968635403094878 and parameters: {'solver_penalty': ('newton-cg', 'l2'), 'C': 0.3628101686636178, 'tol': 0.0015280733740702427, 'fit_intercept': False, 'class_weight': 'balanced', 'threshold': 0.3511695626143776}. Best is trial 10 with value: 0.9693911677349213.\n",
      "[I 2025-07-02 13:01:21,177] Trial 303 finished with value: 0.9693371720545757 and parameters: {'solver_penalty': ('liblinear', 'l1'), 'C': 5.669464855026089, 'tol': 0.006716094153970811, 'fit_intercept': True, 'class_weight': None, 'threshold': 0.4384151590311251}. Best is trial 10 with value: 0.9693911677349213.\n",
      "[I 2025-07-02 13:01:21,966] Trial 304 finished with value: 0.9692292244150833 and parameters: {'solver_penalty': ('liblinear', 'l1'), 'C': 1.3981156357466098, 'tol': 0.002210115240623264, 'fit_intercept': False, 'class_weight': None, 'threshold': 0.4122717029204104}. Best is trial 10 with value: 0.9693911677349213.\n",
      "[I 2025-07-02 13:01:22,501] Trial 305 finished with value: 0.9691751995872719 and parameters: {'solver_penalty': ('liblinear', 'l1'), 'C': 4.476697979611942, 'tol': 0.00826158546130519, 'fit_intercept': True, 'class_weight': None, 'threshold': 0.6238490217697872}. Best is trial 10 with value: 0.9693911677349213.\n",
      "[I 2025-07-02 13:01:23,804] Trial 306 finished with value: 0.9689053669228729 and parameters: {'solver_penalty': ('liblinear', 'l1'), 'C': 1.5892873664039338, 'tol': 0.0033464810177727218, 'fit_intercept': False, 'class_weight': None, 'threshold': 0.2867515827171574}. Best is trial 10 with value: 0.9693911677349213.\n",
      "[I 2025-07-02 13:01:24,814] Trial 308 finished with value: 0.9689053523491399 and parameters: {'solver_penalty': ('liblinear', 'l1'), 'C': 4.157630925034175, 'tol': 0.00787709482961262, 'fit_intercept': True, 'class_weight': None, 'threshold': 0.26728141085350765}. Best is trial 10 with value: 0.9693911677349213.\n",
      "[I 2025-07-02 13:01:25,405] Trial 309 finished with value: 0.9692831909479631 and parameters: {'solver_penalty': ('liblinear', 'l1'), 'C': 7.045661822183614, 'tol': 0.006683586249520483, 'fit_intercept': True, 'class_weight': None, 'threshold': 0.4564952620083998}. Best is trial 10 with value: 0.9693911677349213.\n",
      "[I 2025-07-02 13:01:25,571] Trial 307 finished with value: 0.9691751850135389 and parameters: {'solver_penalty': ('lbfgs', 'l2'), 'C': 6.54275957690051, 'tol': 0.008735189041336997, 'fit_intercept': True, 'class_weight': None, 'threshold': 0.5846859969135497}. Best is trial 10 with value: 0.9693911677349213.\n",
      "[I 2025-07-02 13:01:27,764] Trial 310 finished with value: 0.9691751995872719 and parameters: {'solver_penalty': ('lbfgs', 'l2'), 'C': 0.33975156933822726, 'tol': 0.003943860512672311, 'fit_intercept': True, 'class_weight': None, 'threshold': 0.5435277893609686}. Best is trial 10 with value: 0.9693911677349213.\n",
      "[I 2025-07-02 13:01:28,106] Trial 313 finished with value: 0.9689053523491401 and parameters: {'solver_penalty': ('liblinear', 'l1'), 'C': 9.001372431663448, 'tol': 0.007493232168170464, 'fit_intercept': True, 'class_weight': 'balanced', 'threshold': 0.4205313244190009}. Best is trial 10 with value: 0.9693911677349213.\n",
      "[I 2025-07-02 13:01:28,472] Trial 311 finished with value: 0.9691752287347377 and parameters: {'solver_penalty': ('newton-cholesky', None), 'C': 1.7026370424220865, 'tol': 0.0019195396454918154, 'fit_intercept': False, 'class_weight': None, 'threshold': 0.46084277603242124}. Best is trial 10 with value: 0.9693911677349213.\n",
      "[I 2025-07-02 13:01:29,815] Trial 312 finished with value: 0.9691751850135389 and parameters: {'solver_penalty': ('newton-cg', None), 'C': 5.651668189357902, 'tol': 0.00800457068856026, 'fit_intercept': True, 'class_weight': None, 'threshold': 0.6014080434967775}. Best is trial 10 with value: 0.9693911677349213.\n",
      "[I 2025-07-02 13:01:31,031] Trial 316 finished with value: 0.9692292098413503 and parameters: {'solver_penalty': ('liblinear', 'l1'), 'C': 6.185480745759147, 'tol': 0.006996421856126016, 'fit_intercept': True, 'class_weight': None, 'threshold': 0.44586333422010016}. Best is trial 10 with value: 0.9693911677349213.\n",
      "[I 2025-07-02 13:01:31,565] Trial 315 finished with value: 0.9692831909479629 and parameters: {'solver_penalty': ('lbfgs', 'l2'), 'C': 0.2887496262274656, 'tol': 0.0016329343885378498, 'fit_intercept': False, 'class_weight': None, 'threshold': 0.4928871170391237}. Best is trial 10 with value: 0.9693911677349213.\n",
      "[I 2025-07-02 13:01:32,071] Trial 314 finished with value: 0.9656661799039883 and parameters: {'solver_penalty': ('newton-cg', 'l2'), 'C': 0.8184579860609764, 'tol': 0.0043822278262403555, 'fit_intercept': True, 'class_weight': None, 'threshold': 0.101041068232964}. Best is trial 10 with value: 0.9693911677349213.\n",
      "[I 2025-07-02 13:01:33,670] Trial 317 finished with value: 0.9692291806938845 and parameters: {'solver_penalty': ('newton-cholesky', None), 'C': 2.775907372684702, 'tol': 0.002765723762772402, 'fit_intercept': True, 'class_weight': None, 'threshold': 0.5512210751693285}. Best is trial 10 with value: 0.9693911677349213.\n",
      "[I 2025-07-02 13:01:33,673] Trial 319 finished with value: 0.9691751995872719 and parameters: {'solver_penalty': ('liblinear', 'l1'), 'C': 1.501686227615011, 'tol': 0.004953247813055153, 'fit_intercept': False, 'class_weight': None, 'threshold': 0.5612486530494838}. Best is trial 10 with value: 0.9693911677349213.\n",
      "[I 2025-07-02 13:01:34,509] Trial 318 finished with value: 0.9691212622018579 and parameters: {'solver_penalty': ('newton-cholesky', 'l2'), 'C': 6.796133015403339, 'tol': 0.008277412830646598, 'fit_intercept': True, 'class_weight': None, 'threshold': 0.45980081119288146}. Best is trial 10 with value: 0.9693911677349213.\n",
      "[I 2025-07-02 13:01:36,228] Trial 321 finished with value: 0.9693371720545757 and parameters: {'solver_penalty': ('liblinear', 'l1'), 'C': 7.085611013016886, 'tol': 0.008231967259342795, 'fit_intercept': False, 'class_weight': None, 'threshold': 0.4353690405394068}. Best is trial 10 with value: 0.9693911677349213.\n",
      "[I 2025-07-02 13:01:36,413] Trial 322 finished with value: 0.9692831909479629 and parameters: {'solver_penalty': ('liblinear', 'l1'), 'C': 6.125561901355609, 'tol': 0.008089284785748118, 'fit_intercept': True, 'class_weight': 'balanced', 'threshold': 0.6478305012494602}. Best is trial 10 with value: 0.9693911677349213.\n",
      "[I 2025-07-02 13:01:36,922] Trial 320 finished with value: 0.9692292244150833 and parameters: {'solver_penalty': ('newton-cg', None), 'C': 5.963070438788106, 'tol': 0.006409861437405741, 'fit_intercept': True, 'class_weight': None, 'threshold': 0.41204183410314094}. Best is trial 10 with value: 0.9693911677349213.\n",
      "[I 2025-07-02 13:01:37,106] Trial 323 finished with value: 0.9691751995872719 and parameters: {'solver_penalty': ('liblinear', 'l2'), 'C': 1.1596463921038629, 'tol': 0.008843057387011442, 'fit_intercept': True, 'class_weight': None, 'threshold': 0.5299996096696216}. Best is trial 10 with value: 0.9693911677349213.\n",
      "[I 2025-07-02 13:01:39,864] Trial 326 finished with value: 0.9688513712425273 and parameters: {'solver_penalty': ('liblinear', 'l1'), 'C': 2.076032456469872, 'tol': 0.004345571010830734, 'fit_intercept': False, 'class_weight': 'balanced', 'threshold': 0.28961418702494446}. Best is trial 10 with value: 0.9693911677349213.\n",
      "[I 2025-07-02 13:01:39,888] Trial 325 finished with value: 0.9692832055216959 and parameters: {'solver_penalty': ('lbfgs', None), 'C': 7.901177600104922, 'tol': 0.0096434565136328, 'fit_intercept': False, 'class_weight': None, 'threshold': 0.4405060094279081}. Best is trial 10 with value: 0.9693911677349213.\n",
      "[I 2025-07-02 13:01:40,062] Trial 327 finished with value: 0.9689053669228729 and parameters: {'solver_penalty': ('liblinear', 'l2'), 'C': 8.444223803847578, 'tol': 0.003790838037665801, 'fit_intercept': False, 'class_weight': None, 'threshold': 0.2861877533163872}. Best is trial 10 with value: 0.9693911677349213.\n",
      "[I 2025-07-02 13:01:41,515] Trial 324 finished with value: 0.39742852312705673 and parameters: {'solver_penalty': ('newton-cg', 'l2'), 'C': 3.7377450010929048, 'tol': 0.00795793024878077, 'fit_intercept': False, 'class_weight': 'balanced', 'threshold': 0.01624379019802047}. Best is trial 10 with value: 0.9693911677349213.\n",
      "[I 2025-07-02 13:01:42,191] Trial 329 finished with value: 0.9692831909479629 and parameters: {'solver_penalty': ('liblinear', 'l1'), 'C': 7.7688621251786785, 'tol': 0.00926030016483549, 'fit_intercept': False, 'class_weight': None, 'threshold': 0.49581950918834844}. Best is trial 10 with value: 0.9693911677349213.\n",
      "[I 2025-07-02 13:01:42,396] Trial 328 finished with value: 0.9691752287347377 and parameters: {'solver_penalty': ('liblinear', 'l1'), 'C': 8.38834128058165, 'tol': 0.008143238139479125, 'fit_intercept': False, 'class_weight': None, 'threshold': 0.4195966819579937}. Best is trial 10 with value: 0.9693911677349213.\n",
      "[I 2025-07-02 13:01:43,643] Trial 330 finished with value: 0.9691751995872719 and parameters: {'solver_penalty': ('lbfgs', None), 'C': 7.058662877555139, 'tol': 0.008648209823752025, 'fit_intercept': False, 'class_weight': None, 'threshold': 0.5360778881910317}. Best is trial 10 with value: 0.9693911677349213.\n",
      "[I 2025-07-02 13:01:45,458] Trial 331 finished with value: 0.9690133145623653 and parameters: {'solver_penalty': ('newton-cholesky', None), 'C': 5.935800954046519, 'tol': 0.009084077214863838, 'fit_intercept': False, 'class_weight': None, 'threshold': 0.39717288860413896}. Best is trial 10 with value: 0.9693911677349213.\n",
      "[I 2025-07-02 13:01:45,694] Trial 332 finished with value: 0.9692832055216959 and parameters: {'solver_penalty': ('lbfgs', None), 'C': 9.0626114656815, 'tol': 0.00851878720223725, 'fit_intercept': False, 'class_weight': None, 'threshold': 0.42725234332702655}. Best is trial 10 with value: 0.9693911677349213.\n",
      "[I 2025-07-02 13:01:46,248] Trial 333 finished with value: 0.9691212039069264 and parameters: {'solver_penalty': ('newton-cholesky', 'l2'), 'C': 3.1283497364873334, 'tol': 0.0016863516389014348, 'fit_intercept': False, 'class_weight': None, 'threshold': 0.5760277938287236}. Best is trial 10 with value: 0.9693911677349213.\n",
      "[I 2025-07-02 13:01:47,700] Trial 334 finished with value: 0.9688513566687945 and parameters: {'solver_penalty': ('lbfgs', None), 'C': 7.369957670010163, 'tol': 0.009020655661873113, 'fit_intercept': False, 'class_weight': None, 'threshold': 0.21073798163581187}. Best is trial 10 with value: 0.9693911677349213.\n",
      "[I 2025-07-02 13:01:48,071] Trial 335 finished with value: 0.9689593480294855 and parameters: {'solver_penalty': ('liblinear', 'l2'), 'C': 0.3139311458038583, 'tol': 0.007265543525544305, 'fit_intercept': True, 'class_weight': 'balanced', 'threshold': 0.4928052954877161}. Best is trial 10 with value: 0.9693911677349213.\n",
      "[I 2025-07-02 13:01:49,802] Trial 336 finished with value: 0.9678256573482219 and parameters: {'solver_penalty': ('lbfgs', None), 'C': 8.350175831718731, 'tol': 0.009216203606970449, 'fit_intercept': False, 'class_weight': None, 'threshold': 0.16929294302935471}. Best is trial 10 with value: 0.9693911677349213.\n",
      "[I 2025-07-02 13:01:50,016] Trial 337 finished with value: 0.9690132999886325 and parameters: {'solver_penalty': ('lbfgs', None), 'C': 8.519842757218939, 'tol': 0.009188288618108944, 'fit_intercept': False, 'class_weight': None, 'threshold': 0.3344796128494087}. Best is trial 10 with value: 0.9693911677349213.\n",
      "[I 2025-07-02 13:01:50,530] Trial 339 finished with value: 0.9690133291360983 and parameters: {'solver_penalty': ('liblinear', 'l1'), 'C': 7.751423383743828, 'tol': 0.007202232796593172, 'fit_intercept': True, 'class_weight': None, 'threshold': 0.2487473647237843}. Best is trial 10 with value: 0.9693911677349213.\n",
      "[I 2025-07-02 13:01:52,025] Trial 338 finished with value: 0.9691751995872719 and parameters: {'solver_penalty': ('newton-cg', None), 'C': 8.258938279224626, 'tol': 0.009121294149836144, 'fit_intercept': False, 'class_weight': None, 'threshold': 0.5227610092934815}. Best is trial 10 with value: 0.9693911677349213.\n",
      "[I 2025-07-02 13:01:52,367] Trial 341 finished with value: 0.9691751995872719 and parameters: {'solver_penalty': ('liblinear', 'l2'), 'C': 0.011235611766069908, 'tol': 0.003556349496686149, 'fit_intercept': False, 'class_weight': None, 'threshold': 0.6529236875480046}. Best is trial 10 with value: 0.9693911677349213.\n",
      "[I 2025-07-02 13:01:53,468] Trial 340 finished with value: 0.9692291806938845 and parameters: {'solver_penalty': ('lbfgs', None), 'C': 9.19956417746758, 'tol': 0.009442149844752735, 'fit_intercept': False, 'class_weight': None, 'threshold': 0.5479392745548728}. Best is trial 10 with value: 0.9693911677349213.\n",
      "[I 2025-07-02 13:01:54,701] Trial 342 finished with value: 0.9691751850135389 and parameters: {'solver_penalty': ('lbfgs', None), 'C': 9.352087213240722, 'tol': 0.006888100523135317, 'fit_intercept': False, 'class_weight': None, 'threshold': 0.600054620281208}. Best is trial 10 with value: 0.9693911677349213.\n",
      "[I 2025-07-02 13:01:55,675] Trial 343 finished with value: 0.9692832055216959 and parameters: {'solver_penalty': ('lbfgs', 'l2'), 'C': 9.373309595359675, 'tol': 0.007168475272161189, 'fit_intercept': False, 'class_weight': None, 'threshold': 0.4361057162679021}. Best is trial 10 with value: 0.9693911677349213.\n",
      "[I 2025-07-02 13:01:56,017] Trial 344 finished with value: 0.9691751850135389 and parameters: {'solver_penalty': ('lbfgs', None), 'C': 8.748400246535095, 'tol': 0.0099756629446642, 'fit_intercept': False, 'class_weight': None, 'threshold': 0.5919023020721709}. Best is trial 10 with value: 0.9693911677349213.\n",
      "[I 2025-07-02 13:01:57,262] Trial 346 finished with value: 0.96847345977504 and parameters: {'solver_penalty': ('liblinear', 'l1'), 'C': 1.2123623965719967, 'tol': 0.00527982227781514, 'fit_intercept': True, 'class_weight': 'balanced', 'threshold': 0.8822837994867596}. Best is trial 10 with value: 0.9693911677349213.\n",
      "[I 2025-07-02 13:01:57,565] Trial 345 finished with value: 0.9683654975618146 and parameters: {'solver_penalty': ('lbfgs', None), 'C': 6.28038121026932, 'tol': 0.005290835893074888, 'fit_intercept': False, 'class_weight': None, 'threshold': 0.7482912156785808}. Best is trial 10 with value: 0.9693911677349213.\n",
      "[I 2025-07-02 13:01:59,210] Trial 347 finished with value: 0.9690133291360983 and parameters: {'solver_penalty': ('newton-cholesky', None), 'C': 8.686779571183177, 'tol': 0.004299439571132869, 'fit_intercept': False, 'class_weight': None, 'threshold': 0.3448205957490066}. Best is trial 10 with value: 0.9693911677349213.\n",
      "[I 2025-07-02 13:01:59,224] Trial 348 finished with value: 0.9684194495209614 and parameters: {'solver_penalty': ('liblinear', 'l1'), 'C': 1.5570704502549377, 'tol': 0.003253496502979069, 'fit_intercept': False, 'class_weight': 'balanced', 'threshold': 0.7237470113339274}. Best is trial 10 with value: 0.9693911677349213.\n",
      "[I 2025-07-02 13:02:00,556] Trial 349 finished with value: 0.9692832055216959 and parameters: {'solver_penalty': ('lbfgs', 'l2'), 'C': 8.945751709442558, 'tol': 0.008426314409031329, 'fit_intercept': False, 'class_weight': None, 'threshold': 0.4268921906513533}. Best is trial 10 with value: 0.9693911677349213.\n",
      "[I 2025-07-02 13:02:02,102] Trial 350 finished with value: 0.9688513129475957 and parameters: {'solver_penalty': ('newton-cg', None), 'C': 7.674103416064105, 'tol': 0.0033346360717981553, 'fit_intercept': True, 'class_weight': None, 'threshold': 0.700797705394387}. Best is trial 10 with value: 0.9693911677349213.\n",
      "[I 2025-07-02 13:02:02,457] Trial 351 finished with value: 0.9691212184806591 and parameters: {'solver_penalty': ('lbfgs', 'l2'), 'C': 6.82565061760949, 'tol': 0.008385041670361549, 'fit_intercept': False, 'class_weight': None, 'threshold': 0.5030416532391928}. Best is trial 10 with value: 0.9693911677349213.\n",
      "[I 2025-07-02 13:02:02,682] Trial 352 finished with value: 0.9690672228003138 and parameters: {'solver_penalty': ('lbfgs', 'l2'), 'C': 8.849603561828634, 'tol': 0.008238654949982382, 'fit_intercept': False, 'class_weight': None, 'threshold': 0.6598402211081837}. Best is trial 10 with value: 0.9693911677349213.\n",
      "[I 2025-07-02 13:02:04,274] Trial 353 finished with value: 0.9689593334557527 and parameters: {'solver_penalty': ('newton-cholesky', 'l2'), 'C': 9.056133447115359, 'tol': 0.008080764104108308, 'fit_intercept': False, 'class_weight': None, 'threshold': 0.35887555174409547}. Best is trial 10 with value: 0.9693911677349213.\n",
      "[I 2025-07-02 13:02:05,055] Trial 354 finished with value: 0.9691212184806591 and parameters: {'solver_penalty': ('liblinear', 'l1'), 'C': 0.9265204120988992, 'tol': 0.00329703412674303, 'fit_intercept': False, 'class_weight': None, 'threshold': 0.5262452245882567}. Best is trial 10 with value: 0.9693911677349213.\n",
      "[I 2025-07-02 13:02:05,056] Trial 355 finished with value: 0.9690672228003135 and parameters: {'solver_penalty': ('liblinear', 'l1'), 'C': 0.322436205435476, 'tol': 0.00018048286233729666, 'fit_intercept': False, 'class_weight': None, 'threshold': 0.6182403453927177}. Best is trial 10 with value: 0.9693911677349213.\n",
      "[I 2025-07-02 13:02:06,710] Trial 356 finished with value: 0.9692292244150833 and parameters: {'solver_penalty': ('newton-cg', 'l2'), 'C': 9.60240197107322, 'tol': 0.00787427326879033, 'fit_intercept': False, 'class_weight': None, 'threshold': 0.41846389366340764}. Best is trial 10 with value: 0.9693911677349213.\n",
      "[I 2025-07-02 13:02:07,945] Trial 357 finished with value: 0.9692292244150833 and parameters: {'solver_penalty': ('lbfgs', 'l2'), 'C': 9.777674602176836, 'tol': 0.006048959812253068, 'fit_intercept': True, 'class_weight': None, 'threshold': 0.4028804737000878}. Best is trial 10 with value: 0.9693911677349213.\n",
      "[I 2025-07-02 13:02:08,461] Trial 359 finished with value: 0.9691752287347377 and parameters: {'solver_penalty': ('lbfgs', 'l2'), 'C': 9.875846462435142, 'tol': 0.006814954316788359, 'fit_intercept': True, 'class_weight': None, 'threshold': 0.45160410501300446}. Best is trial 10 with value: 0.9693911677349213.\n",
      "[I 2025-07-02 13:02:09,001] Trial 360 finished with value: 0.9691752287347377 and parameters: {'solver_penalty': ('liblinear', 'l1'), 'C': 6.646608880779819, 'tol': 0.007602454734375756, 'fit_intercept': False, 'class_weight': None, 'threshold': 0.4153105902731585}. Best is trial 10 with value: 0.9693911677349213.\n",
      "[I 2025-07-02 13:02:09,532] Trial 358 finished with value: 0.9690672810952453 and parameters: {'solver_penalty': ('newton-cg', None), 'C': 1.861656336984859, 'tol': 0.0022480586947097084, 'fit_intercept': False, 'class_weight': None, 'threshold': 0.3859051276682378}. Best is trial 10 with value: 0.9693911677349213.\n",
      "[I 2025-07-02 13:02:12,348] Trial 362 finished with value: 0.9682575790697878 and parameters: {'solver_penalty': ('lbfgs', 'l2'), 'C': 4.542309745806337, 'tol': 0.0016402624127955369, 'fit_intercept': True, 'class_weight': None, 'threshold': 0.17479624262399202}. Best is trial 10 with value: 0.9693911677349213.\n",
      "[I 2025-07-02 13:02:12,627] Trial 361 finished with value: 0.9691752141610047 and parameters: {'solver_penalty': ('lbfgs', 'l2'), 'C': 0.15764807893700805, 'tol': 0.005840104781403087, 'fit_intercept': True, 'class_weight': 'balanced', 'threshold': 0.7336899070187579}. Best is trial 10 with value: 0.9693911677349213.\n",
      "[I 2025-07-02 13:02:12,859] Trial 363 finished with value: 0.9692292098413503 and parameters: {'solver_penalty': ('lbfgs', None), 'C': 9.140216987474954, 'tol': 0.009138650819955853, 'fit_intercept': False, 'class_weight': 'balanced', 'threshold': 0.49029577185247936}. Best is trial 10 with value: 0.9693911677349213.\n",
      "[I 2025-07-02 13:02:13,030] Trial 364 finished with value: 0.9691751995872719 and parameters: {'solver_penalty': ('newton-cg', 'l2'), 'C': 6.433051758600385, 'tol': 0.008067445423207652, 'fit_intercept': False, 'class_weight': None, 'threshold': 0.5166149842308269}. Best is trial 10 with value: 0.9693911677349213.\n",
      "[I 2025-07-02 13:02:15,571] Trial 365 finished with value: 0.9674477604544673 and parameters: {'solver_penalty': ('lbfgs', 'l2'), 'C': 7.073608552323956, 'tol': 0.007648355192781968, 'fit_intercept': False, 'class_weight': None, 'threshold': 0.16021992780772232}. Best is trial 10 with value: 0.9693911677349213.\n",
      "[I 2025-07-02 13:02:16,338] Trial 367 finished with value: 0.9691751995872719 and parameters: {'solver_penalty': ('lbfgs', 'l2'), 'C': 1.4498231245098778, 'tol': 0.004862834138348226, 'fit_intercept': False, 'class_weight': None, 'threshold': 0.5273029766021795}. Best is trial 10 with value: 0.9693911677349213.\n",
      "[I 2025-07-02 13:02:16,764] Trial 368 finished with value: 0.9692292098413503 and parameters: {'solver_penalty': ('lbfgs', None), 'C': 9.708206195484005, 'tol': 0.006960636136903193, 'fit_intercept': True, 'class_weight': None, 'threshold': 0.4723755426511632}. Best is trial 10 with value: 0.9693911677349213.\n",
      "[I 2025-07-02 13:02:17,080] Trial 366 finished with value: 0.9692291806938845 and parameters: {'solver_penalty': ('newton-cg', 'l2'), 'C': 6.929616325527563, 'tol': 0.009133083763860152, 'fit_intercept': True, 'class_weight': None, 'threshold': 0.5640761320696239}. Best is trial 10 with value: 0.9693911677349213.\n",
      "[I 2025-07-02 13:02:18,709] Trial 370 finished with value: 0.9691752287347377 and parameters: {'solver_penalty': ('liblinear', 'l2'), 'C': 5.0077901358348305, 'tol': 0.007763713393911327, 'fit_intercept': True, 'class_weight': None, 'threshold': 0.4759627656696443}. Best is trial 10 with value: 0.9693911677349213.\n",
      "[I 2025-07-02 13:02:19,681] Trial 369 finished with value: 0.9691751995872719 and parameters: {'solver_penalty': ('lbfgs', 'l2'), 'C': 8.443176166141553, 'tol': 0.005311415809561197, 'fit_intercept': False, 'class_weight': None, 'threshold': 0.6390497899001197}. Best is trial 10 with value: 0.9693911677349213.\n",
      "[I 2025-07-02 13:02:19,859] Trial 372 finished with value: 0.9648564195835994 and parameters: {'solver_penalty': ('liblinear', 'l1'), 'C': 9.21065602815713, 'tol': 0.009945953994246193, 'fit_intercept': False, 'class_weight': None, 'threshold': 0.11098786266670274}. Best is trial 10 with value: 0.9693911677349213.\n",
      "[I 2025-07-02 13:02:21,323] Trial 371 finished with value: 0.9691752287347377 and parameters: {'solver_penalty': ('lbfgs', 'l2'), 'C': 9.878707860096592, 'tol': 0.007307192045393664, 'fit_intercept': False, 'class_weight': None, 'threshold': 0.47782685436896605}. Best is trial 10 with value: 0.9693911677349213.\n",
      "[I 2025-07-02 13:02:22,595] Trial 374 finished with value: 0.9689053669228729 and parameters: {'solver_penalty': ('liblinear', 'l1'), 'C': 7.6616633604014055, 'tol': 0.00985150545590813, 'fit_intercept': True, 'class_weight': None, 'threshold': 0.23897401854747077}. Best is trial 10 with value: 0.9693911677349213.\n",
      "[I 2025-07-02 13:02:23,021] Trial 373 finished with value: 0.9690132999886325 and parameters: {'solver_penalty': ('lbfgs', 'l2'), 'C': 8.518684037799071, 'tol': 0.006715400606170077, 'fit_intercept': False, 'class_weight': None, 'threshold': 0.353462063392175}. Best is trial 10 with value: 0.9693911677349213.\n",
      "[I 2025-07-02 13:02:23,914] Trial 375 finished with value: 0.9690672810952453 and parameters: {'solver_penalty': ('lbfgs', 'l2'), 'C': 7.662016343309646, 'tol': 0.00579920045075288, 'fit_intercept': False, 'class_weight': None, 'threshold': 0.3728915934443862}. Best is trial 10 with value: 0.9693911677349213.\n",
      "[I 2025-07-02 13:02:25,564] Trial 378 finished with value: 0.9692292244150833 and parameters: {'solver_penalty': ('liblinear', 'l1'), 'C': 6.736229982152934, 'tol': 0.007643248640215949, 'fit_intercept': True, 'class_weight': None, 'threshold': 0.39946410993635106}. Best is trial 10 with value: 0.9693911677349213.\n",
      "[I 2025-07-02 13:02:25,801] Trial 376 finished with value: 0.9692832055216959 and parameters: {'solver_penalty': ('lbfgs', None), 'C': 4.56438715000969, 'tol': 0.006998829980143276, 'fit_intercept': True, 'class_weight': None, 'threshold': 0.419284247364034}. Best is trial 10 with value: 0.9693911677349213.\n",
      "[I 2025-07-02 13:02:26,151] Trial 377 finished with value: 0.9689053669228729 and parameters: {'solver_penalty': ('newton-cholesky', 'l2'), 'C': 5.259192233994197, 'tol': 0.008680169098595671, 'fit_intercept': False, 'class_weight': None, 'threshold': 0.2751759575744074}. Best is trial 10 with value: 0.9693911677349213.\n",
      "[I 2025-07-02 13:02:28,245] Trial 380 finished with value: 0.9692292244150833 and parameters: {'solver_penalty': ('liblinear', 'l2'), 'C': 3.118867047454869, 'tol': 0.005693074283242018, 'fit_intercept': True, 'class_weight': None, 'threshold': 0.4136588195867606}. Best is trial 10 with value: 0.9693911677349213.\n",
      "[I 2025-07-02 13:02:28,763] Trial 379 finished with value: 0.9692291806938845 and parameters: {'solver_penalty': ('lbfgs', 'l2'), 'C': 3.5726459855356927, 'tol': 0.003440549975077392, 'fit_intercept': True, 'class_weight': None, 'threshold': 0.5346697745064004}. Best is trial 10 with value: 0.9693911677349213.\n",
      "[I 2025-07-02 13:02:29,089] Trial 382 finished with value: 0.9693371720545757 and parameters: {'solver_penalty': ('liblinear', 'l1'), 'C': 4.928602591630959, 'tol': 0.008850226601541061, 'fit_intercept': True, 'class_weight': None, 'threshold': 0.4865099815181804}. Best is trial 10 with value: 0.9693911677349213.\n",
      "[I 2025-07-02 13:02:29,102] Trial 381 finished with value: 0.9693911531611885 and parameters: {'solver_penalty': ('liblinear', 'l1'), 'C': 5.810681466772898, 'tol': 0.006340368847976116, 'fit_intercept': True, 'class_weight': None, 'threshold': 0.43358666259433043}. Best is trial 10 with value: 0.9693911677349213.\n",
      "[I 2025-07-02 13:02:31,582] Trial 384 finished with value: 0.9692832055216959 and parameters: {'solver_penalty': ('liblinear', 'l2'), 'C': 8.261442609342636, 'tol': 0.009186280695076716, 'fit_intercept': False, 'class_weight': None, 'threshold': 0.4379276565729667}. Best is trial 10 with value: 0.9693911677349213.\n",
      "[I 2025-07-02 13:02:31,612] Trial 385 finished with value: 0.9693371720545757 and parameters: {'solver_penalty': ('liblinear', 'l1'), 'C': 6.34539302416118, 'tol': 0.00887617050225259, 'fit_intercept': True, 'class_weight': None, 'threshold': 0.48584518791810866}. Best is trial 10 with value: 0.9693911677349213.\n",
      "[I 2025-07-02 13:02:31,803] Trial 386 finished with value: 0.9692831909479631 and parameters: {'solver_penalty': ('liblinear', 'l1'), 'C': 4.926163752291074, 'tol': 0.006681889691641247, 'fit_intercept': True, 'class_weight': None, 'threshold': 0.46751808073830997}. Best is trial 10 with value: 0.9693911677349213.\n",
      "[I 2025-07-02 13:02:34,120] Trial 383 finished with value: 0.9690672228003138 and parameters: {'solver_penalty': ('newton-cg', None), 'C': 5.42733802159813, 'tol': 0.003913365878143392, 'fit_intercept': True, 'class_weight': None, 'threshold': 0.619617779148432}. Best is trial 10 with value: 0.9693911677349213.\n",
      "[I 2025-07-02 13:02:34,131] Trial 388 finished with value: 0.9691212184806594 and parameters: {'solver_penalty': ('liblinear', 'l1'), 'C': 5.9162563942923985, 'tol': 0.009228253825663228, 'fit_intercept': True, 'class_weight': None, 'threshold': 0.5489779349283133}. Best is trial 10 with value: 0.9693911677349213.\n",
      "[I 2025-07-02 13:02:34,329] Trial 389 finished with value: 0.9691212184806591 and parameters: {'solver_penalty': ('liblinear', 'l1'), 'C': 5.440012319196787, 'tol': 0.008146992044981512, 'fit_intercept': True, 'class_weight': None, 'threshold': 0.5625454854990838}. Best is trial 10 with value: 0.9693911677349213.\n",
      "[I 2025-07-02 13:02:35,624] Trial 387 finished with value: 0.9686354176686109 and parameters: {'solver_penalty': ('liblinear', 'l1'), 'C': 2.43108632008647, 'tol': 0.00026235893483141613, 'fit_intercept': False, 'class_weight': 'balanced', 'threshold': 0.4180646506256901}. Best is trial 10 with value: 0.9693911677349213.\n",
      "[I 2025-07-02 13:02:36,583] Trial 391 finished with value: 0.9690672810952453 and parameters: {'solver_penalty': ('liblinear', 'l1'), 'C': 5.1740626557373135, 'tol': 0.008238490680950892, 'fit_intercept': True, 'class_weight': None, 'threshold': 0.37430951588874717}. Best is trial 10 with value: 0.9693911677349213.\n",
      "[I 2025-07-02 13:02:36,585] Trial 390 finished with value: 0.9690132562674337 and parameters: {'solver_penalty': ('liblinear', 'l1'), 'C': 5.469453063023418, 'tol': 0.008148457741988545, 'fit_intercept': True, 'class_weight': None, 'threshold': 0.6366845310169367}. Best is trial 10 with value: 0.9693911677349213.\n",
      "[I 2025-07-02 13:02:38,258] Trial 392 finished with value: 0.9681495731353638 and parameters: {'solver_penalty': ('newton-cg', 'l2'), 'C': 3.2886304442993386, 'tol': 0.0005769169133167463, 'fit_intercept': False, 'class_weight': None, 'threshold': 0.8035973049975087}. Best is trial 10 with value: 0.9693911677349213.\n",
      "[I 2025-07-02 13:02:39,237] Trial 394 finished with value: 0.9641546943451 and parameters: {'solver_penalty': ('newton-cholesky', None), 'C': 9.163051809695757, 'tol': 0.007039678168606878, 'fit_intercept': False, 'class_weight': 'balanced', 'threshold': 0.15773450821581114}. Best is trial 10 with value: 0.9693911677349213.\n",
      "[I 2025-07-02 13:02:39,240] Trial 395 finished with value: 0.9683115456026676 and parameters: {'solver_penalty': ('newton-cholesky', 'l2'), 'C': 1.880531640147105, 'tol': 0.0006294005532583285, 'fit_intercept': False, 'class_weight': None, 'threshold': 0.16556788100221598}. Best is trial 10 with value: 0.9693911677349213.\n",
      "[I 2025-07-02 13:02:40,280] Trial 396 finished with value: 0.9693371866283087 and parameters: {'solver_penalty': ('liblinear', 'l1'), 'C': 6.223344482544596, 'tol': 0.004782672639523266, 'fit_intercept': True, 'class_weight': None, 'threshold': 0.427381056082379}. Best is trial 10 with value: 0.9693911677349213.\n",
      "[I 2025-07-02 13:02:42,351] Trial 398 finished with value: 0.9691751850135389 and parameters: {'solver_penalty': ('lbfgs', 'l2'), 'C': 0.08260734976166631, 'tol': 0.00740116528134115, 'fit_intercept': True, 'class_weight': None, 'threshold': 0.5780626267632163}. Best is trial 10 with value: 0.9693911677349213.\n",
      "[I 2025-07-02 13:02:42,367] Trial 399 finished with value: 0.9693371720545757 and parameters: {'solver_penalty': ('liblinear', 'l1'), 'C': 6.179954202445771, 'tol': 0.005761423720120984, 'fit_intercept': True, 'class_weight': None, 'threshold': 0.49906756597906315}. Best is trial 10 with value: 0.9693911677349213.\n",
      "[I 2025-07-02 13:02:43,243] Trial 393 finished with value: 0.42885275574715154 and parameters: {'solver_penalty': ('newton-cg', None), 'C': 4.448372651532368, 'tol': 0.002195809108570254, 'fit_intercept': True, 'class_weight': 'balanced', 'threshold': 0.037920515880731975}. Best is trial 10 with value: 0.9693911677349213.\n",
      "[I 2025-07-02 13:02:44,199] Trial 400 finished with value: 0.9690132999886325 and parameters: {'solver_penalty': ('liblinear', 'l1'), 'C': 5.239140826810812, 'tol': 0.009737191302353983, 'fit_intercept': False, 'class_weight': None, 'threshold': 0.33570953597596503}. Best is trial 10 with value: 0.9693911677349213.\n",
      "[I 2025-07-02 13:02:45,214] Trial 397 finished with value: 0.7396350591547818 and parameters: {'solver_penalty': ('newton-cg', None), 'C': 9.660598482055711, 'tol': 0.004071998134780848, 'fit_intercept': False, 'class_weight': 'balanced', 'threshold': 0.9943321658464668}. Best is trial 10 with value: 0.9693911677349213.\n",
      "[I 2025-07-02 13:02:45,393] Trial 402 finished with value: 0.9692831909479629 and parameters: {'solver_penalty': ('liblinear', 'l1'), 'C': 5.315773356076584, 'tol': 0.00923019089736181, 'fit_intercept': False, 'class_weight': None, 'threshold': 0.44240361549160445}. Best is trial 10 with value: 0.9693911677349213.\n",
      "[I 2025-07-02 13:02:46,253] Trial 401 finished with value: 0.9682574916273905 and parameters: {'solver_penalty': ('newton-cholesky', None), 'C': 4.340859008673179, 'tol': 0.00021005239655449027, 'fit_intercept': False, 'class_weight': 'balanced', 'threshold': 0.689132207305473}. Best is trial 10 with value: 0.9693911677349213.\n",
      "[I 2025-07-02 13:02:48,213] Trial 405 finished with value: 0.9692832055216959 and parameters: {'solver_penalty': ('liblinear', 'l1'), 'C': 5.6414796767475055, 'tol': 0.004860079523602503, 'fit_intercept': True, 'class_weight': None, 'threshold': 0.406342612025932}. Best is trial 10 with value: 0.9693911677349213.\n",
      "[I 2025-07-02 13:02:48,223] Trial 404 finished with value: 0.9691752141610047 and parameters: {'solver_penalty': ('liblinear', 'l1'), 'C': 7.330622933779441, 'tol': 0.004395954644894315, 'fit_intercept': True, 'class_weight': None, 'threshold': 0.520144707002688}. Best is trial 10 with value: 0.9693911677349213.\n",
      "[I 2025-07-02 13:02:48,441] Trial 403 finished with value: 0.9689053523491399 and parameters: {'solver_penalty': ('lbfgs', 'l2'), 'C': 6.356836451437055, 'tol': 0.005740923773235104, 'fit_intercept': True, 'class_weight': None, 'threshold': 0.3078738809680932}. Best is trial 10 with value: 0.9693911677349213.\n",
      "[I 2025-07-02 13:02:49,260] Trial 406 finished with value: 0.9688513858162603 and parameters: {'solver_penalty': ('liblinear', 'l1'), 'C': 6.408058781594998, 'tol': 0.005971859925392873, 'fit_intercept': True, 'class_weight': None, 'threshold': 0.2252935665895945}. Best is trial 10 with value: 0.9693911677349213.\n",
      "[I 2025-07-02 13:02:51,019] Trial 407 finished with value: 0.9690672810952453 and parameters: {'solver_penalty': ('liblinear', 'l2'), 'C': 6.670820545182845, 'tol': 0.009860110227268596, 'fit_intercept': True, 'class_weight': None, 'threshold': 0.3726876051118494}. Best is trial 10 with value: 0.9693911677349213.\n",
      "[I 2025-07-02 13:02:51,200] Trial 408 finished with value: 0.9689593188820197 and parameters: {'solver_penalty': ('liblinear', 'l1'), 'C': 6.437130757255318, 'tol': 0.005710494871182027, 'fit_intercept': True, 'class_weight': None, 'threshold': 0.3291521123315546}. Best is trial 10 with value: 0.9693911677349213.\n",
      "[I 2025-07-02 13:02:52,531] Trial 410 finished with value: 0.9689053377754071 and parameters: {'solver_penalty': ('liblinear', 'l2'), 'C': 8.05679782464472, 'tol': 0.0028082742565867643, 'fit_intercept': False, 'class_weight': 'balanced', 'threshold': 0.5583965024899245}. Best is trial 10 with value: 0.9693911677349213.\n",
      "[I 2025-07-02 13:02:52,912] Trial 409 finished with value: 0.9687973901359145 and parameters: {'solver_penalty': ('newton-cholesky', None), 'C': 6.172028096273644, 'tol': 0.00864863465155684, 'fit_intercept': True, 'class_weight': None, 'threshold': 0.21188336542363936}. Best is trial 10 with value: 0.9693911677349213.\n",
      "[I 2025-07-02 13:02:54,072] Trial 412 finished with value: 0.9693371720545757 and parameters: {'solver_penalty': ('liblinear', 'l1'), 'C': 4.649009974272895, 'tol': 0.006328593878800585, 'fit_intercept': True, 'class_weight': 'balanced', 'threshold': 0.7049687478266773}. Best is trial 10 with value: 0.9693911677349213.\n",
      "[I 2025-07-02 13:02:54,776] Trial 411 finished with value: 0.9689053669228729 and parameters: {'solver_penalty': ('lbfgs', None), 'C': 9.036164391095555, 'tol': 0.0025106221590438143, 'fit_intercept': False, 'class_weight': None, 'threshold': 0.3000858558000611}. Best is trial 10 with value: 0.9693911677349213.\n",
      "[I 2025-07-02 13:02:56,517] Trial 415 finished with value: 0.9689593188820197 and parameters: {'solver_penalty': ('liblinear', 'l1'), 'C': 5.246779427703296, 'tol': 0.004926983809954267, 'fit_intercept': True, 'class_weight': 'balanced', 'threshold': 0.5850071293661336}. Best is trial 10 with value: 0.9693911677349213.\n",
      "[I 2025-07-02 13:02:56,728] Trial 414 finished with value: 0.9691751995872719 and parameters: {'solver_penalty': ('lbfgs', None), 'C': 2.55778847867375, 'tol': 0.0017985786729667638, 'fit_intercept': False, 'class_weight': None, 'threshold': 0.5271728879948692}. Best is trial 10 with value: 0.9693911677349213.\n",
      "[I 2025-07-02 13:02:56,942] Trial 413 finished with value: 0.9677716616678763 and parameters: {'solver_penalty': ('newton-cg', None), 'C': 6.364954944274697, 'tol': 0.00959686487945058, 'fit_intercept': True, 'class_weight': None, 'threshold': 0.17216349375343853}. Best is trial 10 with value: 0.9693911677349213.\n",
      "[I 2025-07-02 13:02:57,998] Trial 416 finished with value: 0.9692291806938845 and parameters: {'solver_penalty': ('lbfgs', None), 'C': 2.5277449925630697, 'tol': 0.0022787380164861885, 'fit_intercept': False, 'class_weight': None, 'threshold': 0.5504553816007413}. Best is trial 10 with value: 0.9693911677349213.\n",
      "[I 2025-07-02 13:02:59,094] Trial 418 finished with value: 0.9691212622018579 and parameters: {'solver_penalty': ('liblinear', 'l1'), 'C': 2.7542753184775877, 'tol': 0.004925285720014789, 'fit_intercept': True, 'class_weight': None, 'threshold': 0.374083996103836}. Best is trial 10 with value: 0.9693911677349213.\n",
      "[I 2025-07-02 13:03:00,990] Trial 420 finished with value: 0.9692831909479631 and parameters: {'solver_penalty': ('liblinear', 'l1'), 'C': 5.1393877186754136, 'tol': 0.009421684762713494, 'fit_intercept': True, 'class_weight': None, 'threshold': 0.44924148596266383}. Best is trial 10 with value: 0.9693911677349213.\n",
      "[I 2025-07-02 13:03:00,998] Trial 417 finished with value: 0.9692831909479629 and parameters: {'solver_penalty': ('newton-cholesky', None), 'C': 2.3943898830689685, 'tol': 0.007128828080713146, 'fit_intercept': True, 'class_weight': 'balanced', 'threshold': 0.7462584983694303}. Best is trial 10 with value: 0.9693911677349213.\n",
      "[I 2025-07-02 13:03:01,527] Trial 419 finished with value: 0.9693371866283087 and parameters: {'solver_penalty': ('newton-cg', None), 'C': 8.959768410400713, 'tol': 0.006732991522022482, 'fit_intercept': True, 'class_weight': None, 'threshold': 0.4499665840986135}. Best is trial 10 with value: 0.9693911677349213.\n",
      "[I 2025-07-02 13:03:01,558] Trial 421 finished with value: 0.9691212622018579 and parameters: {'solver_penalty': ('liblinear', 'l2'), 'C': 5.967740287280803, 'tol': 0.0032275924530193326, 'fit_intercept': False, 'class_weight': None, 'threshold': 0.4095598471698444}. Best is trial 10 with value: 0.9693911677349213.\n",
      "[I 2025-07-02 13:03:03,070] Trial 423 finished with value: 0.9688513275213287 and parameters: {'solver_penalty': ('liblinear', 'l1'), 'C': 2.9092156448680564, 'tol': 0.006491188107563822, 'fit_intercept': True, 'class_weight': 'balanced', 'threshold': 0.8234544300462842}. Best is trial 10 with value: 0.9693911677349213.\n",
      "[I 2025-07-02 13:03:04,055] Trial 424 finished with value: 0.9692292098413503 and parameters: {'solver_penalty': ('liblinear', 'l1'), 'C': 5.452023020412138, 'tol': 0.004742223755900395, 'fit_intercept': True, 'class_weight': 'balanced', 'threshold': 0.8113600756649472}. Best is trial 10 with value: 0.9693911677349213.\n",
      "[I 2025-07-02 13:03:05,339] Trial 426 finished with value: 0.9692292244150833 and parameters: {'solver_penalty': ('liblinear', 'l1'), 'C': 2.775838526635699, 'tol': 0.0029552394385704995, 'fit_intercept': True, 'class_weight': 'balanced', 'threshold': 0.6507107290638107}. Best is trial 10 with value: 0.9693911677349213.\n",
      "[I 2025-07-02 13:03:06,005] Trial 425 finished with value: 0.9689053377754071 and parameters: {'solver_penalty': ('newton-cg', 'l2'), 'C': 8.001541420535405, 'tol': 0.004205657862015538, 'fit_intercept': True, 'class_weight': None, 'threshold': 0.3697270997319628}. Best is trial 10 with value: 0.9693911677349213.\n",
      "[I 2025-07-02 13:03:07,116] Trial 422 finished with value: 0.9652884141738298 and parameters: {'solver_penalty': ('newton-cg', 'l2'), 'C': 0.4676775874669836, 'tol': 0.004498658609207218, 'fit_intercept': False, 'class_weight': 'balanced', 'threshold': 0.8427951928599031}. Best is trial 10 with value: 0.9693911677349213.\n",
      "[I 2025-07-02 13:03:07,611] Trial 428 finished with value: 0.9691752287347377 and parameters: {'solver_penalty': ('liblinear', 'l1'), 'C': 1.6993559596922978, 'tol': 0.0018388138427842702, 'fit_intercept': True, 'class_weight': None, 'threshold': 0.5170594436601853}. Best is trial 10 with value: 0.9693911677349213.\n",
      "[I 2025-07-02 13:03:08,107] Trial 429 finished with value: 0.9685274408816527 and parameters: {'solver_penalty': ('liblinear', 'l1'), 'C': 7.501157735193891, 'tol': 0.007414587184501602, 'fit_intercept': False, 'class_weight': None, 'threshold': 0.7110313523936397}. Best is trial 10 with value: 0.9693911677349213.\n",
      "[I 2025-07-02 13:03:08,436] Trial 427 finished with value: 0.9691752287347377 and parameters: {'solver_penalty': ('newton-cg', None), 'C': 6.272129500882457, 'tol': 0.005461219847942224, 'fit_intercept': True, 'class_weight': None, 'threshold': 0.46224122522682903}. Best is trial 10 with value: 0.9693911677349213.\n",
      "[I 2025-07-02 13:03:09,550] Trial 430 finished with value: 0.9692292098413503 and parameters: {'solver_penalty': ('liblinear', 'l2'), 'C': 0.042588194469037166, 'tol': 0.006981364029476585, 'fit_intercept': True, 'class_weight': None, 'threshold': 0.4863503264965563}. Best is trial 10 with value: 0.9693911677349213.\n",
      "[I 2025-07-02 13:03:10,211] Trial 431 finished with value: 0.9688512983738627 and parameters: {'solver_penalty': ('liblinear', 'l1'), 'C': 4.870190976434078, 'tol': 0.007288846582225685, 'fit_intercept': True, 'class_weight': 'balanced', 'threshold': 0.81223513172609}. Best is trial 10 with value: 0.9693911677349213.\n",
      "[I 2025-07-02 13:03:11,995] Trial 432 finished with value: 0.9691212622018579 and parameters: {'solver_penalty': ('newton-cg', None), 'C': 7.815869706861322, 'tol': 0.006802478341214318, 'fit_intercept': True, 'class_weight': None, 'threshold': 0.3944323543329609}. Best is trial 10 with value: 0.9693911677349213.\n",
      "[I 2025-07-02 13:03:11,997] Trial 433 finished with value: 0.9691212622018579 and parameters: {'solver_penalty': ('newton-cg', None), 'C': 8.711560325072567, 'tol': 0.007301591470356962, 'fit_intercept': True, 'class_weight': None, 'threshold': 0.39613484647676556}. Best is trial 10 with value: 0.9693911677349213.\n",
      "[I 2025-07-02 13:03:12,879] Trial 435 finished with value: 0.9690672228003135 and parameters: {'solver_penalty': ('newton-cholesky', None), 'C': 8.882827965871343, 'tol': 0.00960478678061141, 'fit_intercept': True, 'class_weight': None, 'threshold': 0.5889748623463593}. Best is trial 10 with value: 0.9693911677349213.\n",
      "[I 2025-07-02 13:03:14,808] Trial 436 finished with value: 0.9692831909479631 and parameters: {'solver_penalty': ('newton-cholesky', None), 'C': 8.82082073637266, 'tol': 0.006221163014374319, 'fit_intercept': True, 'class_weight': None, 'threshold': 0.5352069913496795}. Best is trial 10 with value: 0.9693911677349213.\n",
      "[I 2025-07-02 13:03:15,477] Trial 437 finished with value: 0.9691751850135389 and parameters: {'solver_penalty': ('newton-cg', None), 'C': 9.856301372275626, 'tol': 0.007190620634132252, 'fit_intercept': True, 'class_weight': None, 'threshold': 0.5816698171623005}. Best is trial 10 with value: 0.9693911677349213.\n",
      "[I 2025-07-02 13:03:15,484] Trial 434 finished with value: 0.9689593334557527 and parameters: {'solver_penalty': ('newton-cg', None), 'C': 6.85941424196925, 'tol': 0.007391465109364702, 'fit_intercept': True, 'class_weight': 'balanced', 'threshold': 0.5409209823828391}. Best is trial 10 with value: 0.9693911677349213.\n",
      "[I 2025-07-02 13:03:15,988] Trial 438 finished with value: 0.9683654975618146 and parameters: {'solver_penalty': ('newton-cholesky', None), 'C': 5.178257091019206, 'tol': 0.009164123714884634, 'fit_intercept': True, 'class_weight': None, 'threshold': 0.7920058781957744}. Best is trial 10 with value: 0.9693911677349213.\n",
      "[I 2025-07-02 13:03:16,796] Trial 439 finished with value: 0.9691212184806591 and parameters: {'solver_penalty': ('liblinear', 'l1'), 'C': 6.054012722747077, 'tol': 0.0059605295999313294, 'fit_intercept': True, 'class_weight': None, 'threshold': 0.5522225693746582}. Best is trial 10 with value: 0.9693911677349213.\n",
      "[I 2025-07-02 13:03:18,372] Trial 441 finished with value: 0.9689053669228729 and parameters: {'solver_penalty': ('liblinear', 'l1'), 'C': 6.158876670562162, 'tol': 0.006387275259008545, 'fit_intercept': True, 'class_weight': 'balanced', 'threshold': 0.5040748860127756}. Best is trial 10 with value: 0.9693911677349213.\n",
      "[I 2025-07-02 13:03:18,707] Trial 442 finished with value: 0.969013256267434 and parameters: {'solver_penalty': ('liblinear', 'l1'), 'C': 6.97460715657033, 'tol': 0.0055236354818256755, 'fit_intercept': True, 'class_weight': None, 'threshold': 0.6245122667834436}. Best is trial 10 with value: 0.9693911677349213.\n",
      "[I 2025-07-02 13:03:19,378] Trial 443 finished with value: 0.9691752141610047 and parameters: {'solver_penalty': ('liblinear', 'l1'), 'C': 6.019120217513094, 'tol': 0.0062536005720632915, 'fit_intercept': True, 'class_weight': None, 'threshold': 0.5183465192728881}. Best is trial 10 with value: 0.9693911677349213.\n",
      "[I 2025-07-02 13:03:20,699] Trial 440 finished with value: 0.9691751995872719 and parameters: {'solver_penalty': ('newton-cg', None), 'C': 8.784822156282488, 'tol': 0.004449172198956023, 'fit_intercept': True, 'class_weight': None, 'threshold': 0.5147259646704425}. Best is trial 10 with value: 0.9693911677349213.\n",
      "[I 2025-07-02 13:03:21,076] Trial 444 finished with value: 0.9692832055216961 and parameters: {'solver_penalty': ('liblinear', 'l2'), 'C': 8.957706636817711, 'tol': 0.005478197133701262, 'fit_intercept': True, 'class_weight': None, 'threshold': 0.45526430835617304}. Best is trial 10 with value: 0.9693911677349213.\n",
      "[I 2025-07-02 13:03:22,799] Trial 445 finished with value: 0.9691752287347377 and parameters: {'solver_penalty': ('lbfgs', 'l2'), 'C': 1.9119360014673803, 'tol': 0.005038637815358001, 'fit_intercept': True, 'class_weight': None, 'threshold': 0.4575017162160665}. Best is trial 10 with value: 0.9693911677349213.\n",
      "[I 2025-07-02 13:03:23,354] Trial 447 finished with value: 0.9693371720545757 and parameters: {'solver_penalty': ('liblinear', 'l1'), 'C': 3.189371108521614, 'tol': 0.004652820748007907, 'fit_intercept': False, 'class_weight': None, 'threshold': 0.4858475688221556}. Best is trial 10 with value: 0.9693911677349213.\n",
      "[I 2025-07-02 13:03:23,614] Trial 446 finished with value: 0.9689593480294855 and parameters: {'solver_penalty': ('lbfgs', 'l2'), 'C': 5.086133725275452, 'tol': 0.009883520865824688, 'fit_intercept': True, 'class_weight': None, 'threshold': 0.28052969605591577}. Best is trial 10 with value: 0.9693911677349213.\n",
      "[I 2025-07-02 13:03:25,740] Trial 448 finished with value: 0.9656662236251868 and parameters: {'solver_penalty': ('lbfgs', 'l2'), 'C': 0.3218568761087217, 'tol': 0.0057984564363467396, 'fit_intercept': False, 'class_weight': None, 'threshold': 0.11949284582492964}. Best is trial 10 with value: 0.9693911677349213.\n",
      "[I 2025-07-02 13:03:26,197] Trial 449 finished with value: 0.9692832055216959 and parameters: {'solver_penalty': ('liblinear', 'l2'), 'C': 8.784889655503571, 'tol': 0.0046066883376126595, 'fit_intercept': True, 'class_weight': None, 'threshold': 0.4271838369450524}. Best is trial 10 with value: 0.9693911677349213.\n",
      "[I 2025-07-02 13:03:26,206] Trial 450 finished with value: 0.9693371720545757 and parameters: {'solver_penalty': ('liblinear', 'l1'), 'C': 4.274510430611615, 'tol': 0.00572464870563147, 'fit_intercept': False, 'class_weight': None, 'threshold': 0.5021841715358693}. Best is trial 10 with value: 0.9693911677349213.\n",
      "[I 2025-07-02 13:03:26,601] Trial 451 finished with value: 0.9689593334557527 and parameters: {'solver_penalty': ('liblinear', 'l2'), 'C': 8.244877767673533, 'tol': 0.007675370274120607, 'fit_intercept': True, 'class_weight': None, 'threshold': 0.3207858616443846}. Best is trial 10 with value: 0.9693911677349213.\n",
      "[I 2025-07-02 13:03:28,656] Trial 453 finished with value: 0.9691212184806591 and parameters: {'solver_penalty': ('liblinear', 'l1'), 'C': 5.013609931518579, 'tol': 0.003978638188130489, 'fit_intercept': False, 'class_weight': None, 'threshold': 0.552584765353405}. Best is trial 10 with value: 0.9693911677349213.\n",
      "[I 2025-07-02 13:03:28,662] Trial 454 finished with value: 0.9691751995872719 and parameters: {'solver_penalty': ('liblinear', 'l1'), 'C': 6.405836130526659, 'tol': 0.004542570335630704, 'fit_intercept': False, 'class_weight': None, 'threshold': 0.5990145533671625}. Best is trial 10 with value: 0.9693911677349213.\n",
      "[I 2025-07-02 13:03:31,162] Trial 457 finished with value: 0.9690132999886325 and parameters: {'solver_penalty': ('liblinear', 'l1'), 'C': 3.26028874386355, 'tol': 0.005000660402165733, 'fit_intercept': False, 'class_weight': None, 'threshold': 0.3447581210105941}. Best is trial 10 with value: 0.9693911677349213.\n",
      "[I 2025-07-02 13:03:31,189] Trial 455 finished with value: 0.9659901539860616 and parameters: {'solver_penalty': ('newton-cholesky', 'l2'), 'C': 3.595698844802506, 'tol': 0.004763336433420995, 'fit_intercept': True, 'class_weight': 'balanced', 'threshold': 0.9533362841799765}. Best is trial 10 with value: 0.9693911677349213.\n",
      "[I 2025-07-02 13:03:31,450] Trial 452 finished with value: 0.9663680508798163 and parameters: {'solver_penalty': ('lbfgs', None), 'C': 0.1446987834729725, 'tol': 0.00799410553299415, 'fit_intercept': True, 'class_weight': 'balanced', 'threshold': 0.2860734969026255}. Best is trial 10 with value: 0.9693911677349213.\n",
      "[I 2025-07-02 13:03:33,662] Trial 458 finished with value: 0.9136255803989123 and parameters: {'solver_penalty': ('liblinear', 'l1'), 'C': 4.133630171589393, 'tol': 0.005676865292261308, 'fit_intercept': False, 'class_weight': None, 'threshold': 0.944096411569533}. Best is trial 10 with value: 0.9693911677349213.\n",
      "[I 2025-07-02 13:03:33,859] Trial 459 finished with value: 0.9691751995872719 and parameters: {'solver_penalty': ('liblinear', 'l1'), 'C': 2.4238209490180402, 'tol': 0.004296372099767985, 'fit_intercept': False, 'class_weight': None, 'threshold': 0.5403814185145129}. Best is trial 10 with value: 0.9693911677349213.\n",
      "[I 2025-07-02 13:03:34,185] Trial 456 finished with value: 0.9689593480294855 and parameters: {'solver_penalty': ('newton-cg', 'l2'), 'C': 9.14542755171205, 'tol': 0.007539333683522472, 'fit_intercept': True, 'class_weight': None, 'threshold': 0.29174671282051756}. Best is trial 10 with value: 0.9693911677349213.\n",
      "[I 2025-07-02 13:03:34,372] Trial 460 finished with value: 0.9691751995872719 and parameters: {'solver_penalty': ('liblinear', 'l1'), 'C': 5.025392790476996, 'tol': 0.007389146226787919, 'fit_intercept': False, 'class_weight': None, 'threshold': 0.514301706748753}. Best is trial 10 with value: 0.9693911677349213.\n",
      "[I 2025-07-02 13:03:36,727] Trial 461 finished with value: 0.9693371720545757 and parameters: {'solver_penalty': ('liblinear', 'l1'), 'C': 3.991917500439132, 'tol': 0.006356198312881723, 'fit_intercept': False, 'class_weight': None, 'threshold': 0.5005668001751388}. Best is trial 10 with value: 0.9693911677349213.\n",
      "[I 2025-07-02 13:03:36,747] Trial 462 finished with value: 0.9692291952676175 and parameters: {'solver_penalty': ('liblinear', 'l1'), 'C': 3.168151084770349, 'tol': 0.006042900579246401, 'fit_intercept': False, 'class_weight': None, 'threshold': 0.5761103947306214}. Best is trial 10 with value: 0.9693911677349213.\n",
      "[I 2025-07-02 13:03:37,097] Trial 464 finished with value: 0.9682035250945107 and parameters: {'solver_penalty': ('liblinear', 'l1'), 'C': 2.6077338586104872, 'tol': 0.003206597420702428, 'fit_intercept': True, 'class_weight': None, 'threshold': 0.18479289127515042}. Best is trial 10 with value: 0.9693911677349213.\n",
      "[I 2025-07-02 13:03:39,195] Trial 466 finished with value: 0.9687973901359145 and parameters: {'solver_penalty': ('liblinear', 'l2'), 'C': 1.4768108934240631, 'tol': 0.0073999855817669154, 'fit_intercept': False, 'class_weight': 'balanced', 'threshold': 0.2508997015950105}. Best is trial 10 with value: 0.9693911677349213.\n",
      "[I 2025-07-02 13:03:39,369] Trial 463 finished with value: 0.9691752287347377 and parameters: {'solver_penalty': ('newton-cg', 'l2'), 'C': 4.313510531599483, 'tol': 0.007083762439486487, 'fit_intercept': True, 'class_weight': None, 'threshold': 0.4548713727683705}. Best is trial 10 with value: 0.9693911677349213.\n",
      "[I 2025-07-02 13:03:39,705] Trial 467 finished with value: 0.9693371720545757 and parameters: {'solver_penalty': ('liblinear', 'l1'), 'C': 8.746441776616946, 'tol': 0.005734375175785491, 'fit_intercept': True, 'class_weight': None, 'threshold': 0.49994407672663305}. Best is trial 10 with value: 0.9693911677349213.\n",
      "[I 2025-07-02 13:03:41,015] Trial 465 finished with value: 0.9692831909479629 and parameters: {'solver_penalty': ('newton-cg', None), 'C': 5.463692417500162, 'tol': 0.005688707882855314, 'fit_intercept': False, 'class_weight': None, 'threshold': 0.4948701745218183}. Best is trial 10 with value: 0.9693911677349213.\n",
      "[I 2025-07-02 13:03:41,853] Trial 468 finished with value: 0.9690672373740465 and parameters: {'solver_penalty': ('liblinear', 'l1'), 'C': 4.3949752845556835, 'tol': 0.005694962074860668, 'fit_intercept': False, 'class_weight': None, 'threshold': 0.6156036077936036}. Best is trial 10 with value: 0.9693911677349213.\n",
      "[I 2025-07-02 13:03:42,257] Trial 470 finished with value: 0.9691212622018579 and parameters: {'solver_penalty': ('liblinear', 'l1'), 'C': 9.990257524986712, 'tol': 0.005871183505301055, 'fit_intercept': True, 'class_weight': None, 'threshold': 0.36118221408077156}. Best is trial 10 with value: 0.9693911677349213.\n",
      "[I 2025-07-02 13:03:43,465] Trial 469 finished with value: 0.9691212622018579 and parameters: {'solver_penalty': ('lbfgs', None), 'C': 0.7377935310385952, 'tol': 0.005566498798684151, 'fit_intercept': False, 'class_weight': None, 'threshold': 0.3918168898903444}. Best is trial 10 with value: 0.9693911677349213.\n",
      "[I 2025-07-02 13:03:45,048] Trial 473 finished with value: 0.9692292098413503 and parameters: {'solver_penalty': ('liblinear', 'l1'), 'C': 4.368712330772115, 'tol': 0.005954751001684094, 'fit_intercept': True, 'class_weight': 'balanced', 'threshold': 0.6802501739657947}. Best is trial 10 with value: 0.9693911677349213.\n",
      "[I 2025-07-02 13:03:45,392] Trial 471 finished with value: 0.9691212039069264 and parameters: {'solver_penalty': ('newton-cg', 'l2'), 'C': 1.5575531063854213, 'tol': 0.005997454719558777, 'fit_intercept': False, 'class_weight': None, 'threshold': 0.6469768129026262}. Best is trial 10 with value: 0.9693911677349213.\n",
      "[I 2025-07-02 13:03:45,573] Trial 472 finished with value: 0.969013241693701 and parameters: {'solver_penalty': ('newton-cholesky', None), 'C': 4.943930069604682, 'tol': 0.0034962570009060396, 'fit_intercept': False, 'class_weight': None, 'threshold': 0.6211329191927342}. Best is trial 10 with value: 0.9693911677349213.\n",
      "[I 2025-07-02 13:03:46,089] Trial 474 finished with value: 0.9691751995872719 and parameters: {'solver_penalty': ('liblinear', 'l1'), 'C': 2.5000347106733085, 'tol': 0.009658392416449522, 'fit_intercept': True, 'class_weight': None, 'threshold': 0.5641984133568069}. Best is trial 10 with value: 0.9693911677349213.\n",
      "[I 2025-07-02 13:03:48,009] Trial 476 finished with value: 0.9692831909479631 and parameters: {'solver_penalty': ('liblinear', 'l1'), 'C': 7.4600478282461875, 'tol': 0.006687204065537986, 'fit_intercept': True, 'class_weight': None, 'threshold': 0.4848627367908387}. Best is trial 10 with value: 0.9693911677349213.\n",
      "[I 2025-07-02 13:03:48,370] Trial 475 finished with value: 0.9693371720545759 and parameters: {'solver_penalty': ('newton-cholesky', 'l2'), 'C': 6.0701899412416225, 'tol': 0.006034686400490314, 'fit_intercept': False, 'class_weight': None, 'threshold': 0.5142211682993686}. Best is trial 10 with value: 0.9693911677349213.\n",
      "[I 2025-07-02 13:03:48,704] Trial 478 finished with value: 0.9692291952676175 and parameters: {'solver_penalty': ('liblinear', 'l1'), 'C': 9.809463906469027, 'tol': 0.005422133710805328, 'fit_intercept': True, 'class_weight': None, 'threshold': 0.5925627215734742}. Best is trial 10 with value: 0.9693911677349213.\n",
      "[I 2025-07-02 13:03:50,987] Trial 481 finished with value: 0.9688512983738627 and parameters: {'solver_penalty': ('liblinear', 'l1'), 'C': 5.697229187034016, 'tol': 0.007566088437280254, 'fit_intercept': False, 'class_weight': 'balanced', 'threshold': 0.6318813473543161}. Best is trial 10 with value: 0.9693911677349213.\n",
      "[I 2025-07-02 13:03:51,165] Trial 479 finished with value: 0.9690672228003135 and parameters: {'solver_penalty': ('newton-cholesky', 'l2'), 'C': 6.575909157434363, 'tol': 0.007117254465485386, 'fit_intercept': False, 'class_weight': None, 'threshold': 0.6076632052746934}. Best is trial 10 with value: 0.9693911677349213.\n",
      "[I 2025-07-02 13:03:51,529] Trial 477 finished with value: 0.9689053086279413 and parameters: {'solver_penalty': ('newton-cg', None), 'C': 3.5467390551792297, 'tol': 0.00513320335940022, 'fit_intercept': False, 'class_weight': 'balanced', 'threshold': 0.6398156276331916}. Best is trial 10 with value: 0.9693911677349213.\n",
      "[I 2025-07-02 13:03:52,166] Trial 480 finished with value: 0.9682035396682436 and parameters: {'solver_penalty': ('newton-cholesky', 'l2'), 'C': 8.04194977945361, 'tol': 0.005757440412337337, 'fit_intercept': True, 'class_weight': 'balanced', 'threshold': 0.9207934246122602}. Best is trial 10 with value: 0.9693911677349213.\n",
      "[I 2025-07-02 13:03:53,452] Trial 483 finished with value: 0.9691212184806591 and parameters: {'solver_penalty': ('liblinear', 'l1'), 'C': 4.465308430273336, 'tol': 0.006214435121156858, 'fit_intercept': False, 'class_weight': None, 'threshold': 0.523171994066049}. Best is trial 10 with value: 0.9693911677349213.\n",
      "[I 2025-07-02 13:03:54,754] Trial 482 finished with value: 0.9692292098413503 and parameters: {'solver_penalty': ('newton-cholesky', 'l2'), 'C': 7.101383037209742, 'tol': 0.006096708625637139, 'fit_intercept': False, 'class_weight': None, 'threshold': 0.48829138812315415}. Best is trial 10 with value: 0.9693911677349213.\n",
      "[I 2025-07-02 13:03:54,940] Trial 485 finished with value: 0.9691212184806591 and parameters: {'solver_penalty': ('liblinear', 'l1'), 'C': 3.120555348380527, 'tol': 0.0016289610976651572, 'fit_intercept': False, 'class_weight': None, 'threshold': 0.519486207641341}. Best is trial 10 with value: 0.9693911677349213.\n",
      "[I 2025-07-02 13:03:55,287] Trial 484 finished with value: 0.9693371720545759 and parameters: {'solver_penalty': ('newton-cholesky', 'l2'), 'C': 7.751042482355736, 'tol': 0.00447096112729446, 'fit_intercept': False, 'class_weight': None, 'threshold': 0.5144791137683247}. Best is trial 10 with value: 0.9693911677349213.\n",
      "[I 2025-07-02 13:03:56,769] Trial 486 finished with value: 0.9692292098413503 and parameters: {'solver_penalty': ('newton-cholesky', 'l2'), 'C': 9.016718538707405, 'tol': 0.005938914537237953, 'fit_intercept': False, 'class_weight': None, 'threshold': 0.48806154386397377}. Best is trial 10 with value: 0.9693911677349213.\n",
      "[I 2025-07-02 13:03:58,058] Trial 488 finished with value: 0.9691212039069264 and parameters: {'solver_penalty': ('newton-cholesky', 'l2'), 'C': 4.839197108593941, 'tol': 0.006967524795800153, 'fit_intercept': False, 'class_weight': None, 'threshold': 0.5871303224260037}. Best is trial 10 with value: 0.9693911677349213.\n",
      "[I 2025-07-02 13:03:58,242] Trial 489 finished with value: 0.9690672810952453 and parameters: {'solver_penalty': ('newton-cholesky', 'l2'), 'C': 6.053513942337899, 'tol': 0.006797978388593782, 'fit_intercept': False, 'class_weight': None, 'threshold': 0.41201760675054927}. Best is trial 10 with value: 0.9693911677349213.\n",
      "[I 2025-07-02 13:03:58,579] Trial 487 finished with value: 0.9693371866283087 and parameters: {'solver_penalty': ('newton-cg', 'l2'), 'C': 5.891711906884821, 'tol': 0.004430242536126283, 'fit_intercept': False, 'class_weight': None, 'threshold': 0.44614762935934965}. Best is trial 10 with value: 0.9693911677349213.\n",
      "[I 2025-07-02 13:04:00,187] Trial 490 finished with value: 0.9677716179466775 and parameters: {'solver_penalty': ('newton-cholesky', 'l2'), 'C': 8.520541414419137, 'tol': 0.0040552429218192855, 'fit_intercept': False, 'class_weight': None, 'threshold': 0.8310530195222877}. Best is trial 10 with value: 0.9693911677349213.\n",
      "[I 2025-07-02 13:04:00,693] Trial 491 finished with value: 0.7452468207401707 and parameters: {'solver_penalty': ('liblinear', 'l1'), 'C': 8.972833793056738, 'tol': 0.0006597279749554676, 'fit_intercept': True, 'class_weight': None, 'threshold': 0.023463375294995203}. Best is trial 10 with value: 0.9693911677349213.\n",
      "[I 2025-07-02 13:04:01,383] Trial 492 finished with value: 0.969013256267434 and parameters: {'solver_penalty': ('newton-cholesky', 'l2'), 'C': 8.349520433441572, 'tol': 0.004663943014583768, 'fit_intercept': False, 'class_weight': None, 'threshold': 0.668810690857544}. Best is trial 10 with value: 0.9693911677349213.\n",
      "[I 2025-07-02 13:04:02,188] Trial 493 finished with value: 0.9690132999886325 and parameters: {'solver_penalty': ('newton-cg', 'l2'), 'C': 6.777476336966551, 'tol': 0.0058624417294523105, 'fit_intercept': False, 'class_weight': None, 'threshold': 0.33607737925306536}. Best is trial 10 with value: 0.9693911677349213.\n",
      "[I 2025-07-02 13:04:03,040] Trial 494 finished with value: 0.9690133291360983 and parameters: {'solver_penalty': ('newton-cholesky', 'l2'), 'C': 8.463438277101982, 'tol': 0.004005968581707635, 'fit_intercept': False, 'class_weight': None, 'threshold': 0.2999207073880842}. Best is trial 10 with value: 0.9693911677349213.\n",
      "[I 2025-07-02 13:04:04,643] Trial 497 finished with value: 0.9693371720545757 and parameters: {'solver_penalty': ('liblinear', 'l1'), 'C': 5.579553031061833, 'tol': 0.006154367048428807, 'fit_intercept': True, 'class_weight': None, 'threshold': 0.43769819666289955}. Best is trial 10 with value: 0.9693911677349213.\n",
      "[I 2025-07-02 13:04:04,648] Trial 496 finished with value: 0.9690133291360983 and parameters: {'solver_penalty': ('newton-cholesky', 'l2'), 'C': 4.675294679576406, 'tol': 0.004088158996613996, 'fit_intercept': False, 'class_weight': None, 'threshold': 0.3313169888057569}. Best is trial 10 with value: 0.9693911677349213.\n",
      "[I 2025-07-02 13:04:05,811] Trial 495 finished with value: 0.9688513566687945 and parameters: {'solver_penalty': ('newton-cg', 'l2'), 'C': 6.139440033777343, 'tol': 0.004704487928340069, 'fit_intercept': False, 'class_weight': 'balanced', 'threshold': 0.5026335511254201}. Best is trial 10 with value: 0.9693911677349213.\n",
      "[I 2025-07-02 13:04:06,123] Trial 498 finished with value: 0.9692832055216959 and parameters: {'solver_penalty': ('newton-cg', None), 'C': 3.2001228509663946, 'tol': 0.006523299555257173, 'fit_intercept': True, 'class_weight': None, 'threshold': 0.435858501486515}. Best is trial 10 with value: 0.9693911677349213.\n",
      "[I 2025-07-02 13:04:06,440] Trial 499 finished with value: 0.9690672810952453 and parameters: {'solver_penalty': ('newton-cg', 'l2'), 'C': 6.80052359369545, 'tol': 0.0029585528463703468, 'fit_intercept': False, 'class_weight': None, 'threshold': 0.402775336034485}. Best is trial 10 with value: 0.9693911677349213.\n"
     ]
    }
   ],
   "source": [
    "def objective(trial):\n",
    "    solver_penalty_options = [\n",
    "        ('liblinear', 'l1'),\n",
    "        ('liblinear', 'l2'),\n",
    "        ('lbfgs', 'l2'),\n",
    "        ('lbfgs', None),\n",
    "        ('newton-cg', 'l2'),\n",
    "        ('newton-cg', None),\n",
    "        ('newton-cholesky', 'l2'),\n",
    "        ('newton-cholesky', None)\n",
    "    ]\n",
    "    solver, penalty = trial.suggest_categorical('solver_penalty', solver_penalty_options)\n",
    "    \n",
    "    params = {\n",
    "        'random_state': CFG.seed,\n",
    "        'max_iter': 1000,\n",
    "        'C': trial.suggest_float('C', 0, 10),\n",
    "        'tol': trial.suggest_float('tol', 1e-6, 1e-2),\n",
    "        'fit_intercept': trial.suggest_categorical('fit_intercept', [True, False]),\n",
    "        'class_weight': trial.suggest_categorical('class_weight', ['balanced', None]),\n",
    "        'solver': solver,\n",
    "        'penalty': penalty\n",
    "    }\n",
    "    \n",
    "    threshold = trial.suggest_float('threshold', 0, 1)\n",
    "    \n",
    "    trainer = Trainer(\n",
    "        LogisticRegression(**params),\n",
    "        cv=CFG.cv,\n",
    "        metric=CFG.metric,\n",
    "        metric_precision=6,\n",
    "        metric_threshold=threshold,\n",
    "        use_early_stopping=False,\n",
    "        verbose=False,\n",
    "        task=\"binary\",\n",
    "    )\n",
    "    trainer.fit(X, y)\n",
    "    \n",
    "    return np.mean(trainer.fold_scores)\n",
    "\n",
    "sampler = optuna.samplers.TPESampler(seed=CFG.seed, multivariate=True, n_startup_trials=CFG.n_optuna_trials // 10)\n",
    "study = optuna.create_study(direction='maximize', sampler=sampler)\n",
    "study.optimize(objective, n_trials=CFG.n_optuna_trials, n_jobs=-1)\n",
    "best_params = study.best_params"
   ]
  },
  {
   "cell_type": "code",
   "execution_count": 21,
   "id": "c3ab1429",
   "metadata": {
    "execution": {
     "iopub.execute_input": "2025-07-02T13:04:06.515513Z",
     "iopub.status.busy": "2025-07-02T13:04:06.515179Z",
     "iopub.status.idle": "2025-07-02T13:04:06.520006Z",
     "shell.execute_reply": "2025-07-02T13:04:06.519134Z"
    },
    "papermill": {
     "duration": 0.041767,
     "end_time": "2025-07-02T13:04:06.521457",
     "exception": false,
     "start_time": "2025-07-02T13:04:06.479690",
     "status": "completed"
    },
    "tags": []
   },
   "outputs": [],
   "source": [
    "solver, penalty = best_params['solver_penalty']\n",
    "lr_params = {\n",
    "    'random_state': CFG.seed,\n",
    "    'max_iter': 1000,\n",
    "    'C': best_params['C'],\n",
    "    'tol': best_params['tol'],\n",
    "    'fit_intercept': best_params['fit_intercept'],\n",
    "    'class_weight': best_params['class_weight'],\n",
    "    'solver': solver,\n",
    "    'penalty': penalty\n",
    "}"
   ]
  },
  {
   "cell_type": "code",
   "execution_count": 22,
   "id": "ff1e8e6d",
   "metadata": {
    "execution": {
     "iopub.execute_input": "2025-07-02T13:04:06.591245Z",
     "iopub.status.busy": "2025-07-02T13:04:06.590572Z",
     "iopub.status.idle": "2025-07-02T13:04:06.595522Z",
     "shell.execute_reply": "2025-07-02T13:04:06.594607Z"
    },
    "papermill": {
     "duration": 0.041117,
     "end_time": "2025-07-02T13:04:06.596870",
     "exception": false,
     "start_time": "2025-07-02T13:04:06.555753",
     "status": "completed"
    },
    "tags": []
   },
   "outputs": [
    {
     "name": "stdout",
     "output_type": "stream",
     "text": [
      "{\n",
      "  \"random_state\": 42,\n",
      "  \"max_iter\": 1000,\n",
      "  \"C\": 4.329783080527707,\n",
      "  \"tol\": 0.00602764599553037,\n",
      "  \"fit_intercept\": true,\n",
      "  \"class_weight\": \"balanced\",\n",
      "  \"solver\": \"liblinear\",\n",
      "  \"penalty\": \"l1\"\n",
      "}\n"
     ]
    }
   ],
   "source": [
    "print(json.dumps(lr_params, indent=2))"
   ]
  },
  {
   "cell_type": "code",
   "execution_count": 23,
   "id": "60920ea3",
   "metadata": {
    "execution": {
     "iopub.execute_input": "2025-07-02T13:04:06.666319Z",
     "iopub.status.busy": "2025-07-02T13:04:06.666002Z",
     "iopub.status.idle": "2025-07-02T13:04:06.670848Z",
     "shell.execute_reply": "2025-07-02T13:04:06.669959Z"
    },
    "papermill": {
     "duration": 0.041486,
     "end_time": "2025-07-02T13:04:06.672325",
     "exception": false,
     "start_time": "2025-07-02T13:04:06.630839",
     "status": "completed"
    },
    "tags": []
   },
   "outputs": [
    {
     "name": "stdout",
     "output_type": "stream",
     "text": [
      "Best threshold: 0.655\n"
     ]
    }
   ],
   "source": [
    "best_threshold = study.best_params['threshold']\n",
    "print(f'Best threshold: {best_threshold:.3f}')"
   ]
  },
  {
   "cell_type": "code",
   "execution_count": 24,
   "id": "61f0bee4",
   "metadata": {
    "execution": {
     "iopub.execute_input": "2025-07-02T13:04:06.741366Z",
     "iopub.status.busy": "2025-07-02T13:04:06.741058Z",
     "iopub.status.idle": "2025-07-02T13:04:07.544603Z",
     "shell.execute_reply": "2025-07-02T13:04:07.543569Z"
    },
    "papermill": {
     "duration": 0.839374,
     "end_time": "2025-07-02T13:04:07.546040",
     "exception": false,
     "start_time": "2025-07-02T13:04:06.706666",
     "status": "completed"
    },
    "tags": []
   },
   "outputs": [
    {
     "name": "stdout",
     "output_type": "stream",
     "text": [
      "Training LogisticRegression\n",
      "\n",
      "--- Fold 0 - accuracy_score: 0.970040 - Time: 0.02 s\n",
      "--- Fold 1 - accuracy_score: 0.968421 - Time: 0.02 s\n",
      "--- Fold 2 - accuracy_score: 0.965992 - Time: 0.02 s\n",
      "--- Fold 3 - accuracy_score: 0.971120 - Time: 0.02 s\n",
      "--- Fold 4 - accuracy_score: 0.971382 - Time: 0.02 s\n",
      "\n",
      "------ Overall accuracy_score: 0.969391 - Mean accuracy_score: 0.969391 ± 0.001994 - Time: 0.79 s\n"
     ]
    }
   ],
   "source": [
    "lr_trainer = Trainer(\n",
    "    LogisticRegression(**lr_params),\n",
    "    cv=CFG.cv,\n",
    "    metric=CFG.metric,\n",
    "    metric_threshold=best_threshold,\n",
    "    metric_precision=6,\n",
    "    use_early_stopping=False,\n",
    "    task=\"binary\",\n",
    ")\n",
    "\n",
    "lr_trainer.fit(X, y)\n",
    "\n",
    "scores[\"LogisticRegression\"] = lr_trainer.fold_scores\n",
    "lr_test_pred_probs = lr_trainer.predict(X_test)"
   ]
  },
  {
   "cell_type": "code",
   "execution_count": 25,
   "id": "940175ea",
   "metadata": {
    "execution": {
     "iopub.execute_input": "2025-07-02T13:04:07.617558Z",
     "iopub.status.busy": "2025-07-02T13:04:07.616679Z",
     "iopub.status.idle": "2025-07-02T13:04:07.666414Z",
     "shell.execute_reply": "2025-07-02T13:04:07.665570Z"
    },
    "papermill": {
     "duration": 0.086894,
     "end_time": "2025-07-02T13:04:07.667804",
     "exception": false,
     "start_time": "2025-07-02T13:04:07.580910",
     "status": "completed"
    },
    "tags": []
   },
   "outputs": [
    {
     "data": {
      "text/html": [
       "<div>\n",
       "<style scoped>\n",
       "    .dataframe tbody tr th:only-of-type {\n",
       "        vertical-align: middle;\n",
       "    }\n",
       "\n",
       "    .dataframe tbody tr th {\n",
       "        vertical-align: top;\n",
       "    }\n",
       "\n",
       "    .dataframe thead th {\n",
       "        text-align: right;\n",
       "    }\n",
       "</style>\n",
       "<table border=\"1\" class=\"dataframe\">\n",
       "  <thead>\n",
       "    <tr style=\"text-align: right;\">\n",
       "      <th></th>\n",
       "      <th>id</th>\n",
       "      <th>Personality</th>\n",
       "    </tr>\n",
       "  </thead>\n",
       "  <tbody>\n",
       "    <tr>\n",
       "      <th>0</th>\n",
       "      <td>18524</td>\n",
       "      <td>Extrovert</td>\n",
       "    </tr>\n",
       "    <tr>\n",
       "      <th>1</th>\n",
       "      <td>18525</td>\n",
       "      <td>Introvert</td>\n",
       "    </tr>\n",
       "    <tr>\n",
       "      <th>2</th>\n",
       "      <td>18526</td>\n",
       "      <td>Extrovert</td>\n",
       "    </tr>\n",
       "    <tr>\n",
       "      <th>3</th>\n",
       "      <td>18527</td>\n",
       "      <td>Extrovert</td>\n",
       "    </tr>\n",
       "    <tr>\n",
       "      <th>4</th>\n",
       "      <td>18528</td>\n",
       "      <td>Introvert</td>\n",
       "    </tr>\n",
       "  </tbody>\n",
       "</table>\n",
       "</div>"
      ],
      "text/plain": [
       "      id Personality\n",
       "0  18524   Extrovert\n",
       "1  18525   Introvert\n",
       "2  18526   Extrovert\n",
       "3  18527   Extrovert\n",
       "4  18528   Introvert"
      ]
     },
     "execution_count": 25,
     "metadata": {},
     "output_type": "execute_result"
    }
   ],
   "source": [
    "save_submission('logistic-regression', lr_test_pred_probs, np.mean(scores['LogisticRegression']), best_threshold)"
   ]
  },
  {
   "cell_type": "code",
   "execution_count": 26,
   "id": "58b50106",
   "metadata": {
    "execution": {
     "iopub.execute_input": "2025-07-02T13:04:07.739661Z",
     "iopub.status.busy": "2025-07-02T13:04:07.738979Z",
     "iopub.status.idle": "2025-07-02T13:04:07.743555Z",
     "shell.execute_reply": "2025-07-02T13:04:07.742872Z"
    },
    "papermill": {
     "duration": 0.041715,
     "end_time": "2025-07-02T13:04:07.744857",
     "exception": false,
     "start_time": "2025-07-02T13:04:07.703142",
     "status": "completed"
    },
    "tags": []
   },
   "outputs": [],
   "source": [
    "lr_coeffs = np.zeros((1,len(X.columns)))\n",
    "for estimator in lr_trainer.estimators:\n",
    "    lr_coeffs += estimator.coef_ / CFG.n_folds"
   ]
  },
  {
   "cell_type": "code",
   "execution_count": 27,
   "id": "1a438a5b",
   "metadata": {
    "_kg_hide-input": false,
    "execution": {
     "iopub.execute_input": "2025-07-02T13:04:07.816176Z",
     "iopub.status.busy": "2025-07-02T13:04:07.815404Z",
     "iopub.status.idle": "2025-07-02T13:04:08.087638Z",
     "shell.execute_reply": "2025-07-02T13:04:08.086717Z"
    },
    "papermill": {
     "duration": 0.309352,
     "end_time": "2025-07-02T13:04:08.089201",
     "exception": false,
     "start_time": "2025-07-02T13:04:07.779849",
     "status": "completed"
    },
    "tags": []
   },
   "outputs": [
    {
     "data": {
      "image/png": "[encoded data removed]",
      "text/plain": [
       "<Figure size 1000x350 with 1 Axes>"
      ]
     },
     "metadata": {},
     "output_type": "display_data"
    }
   ],
   "source": [
    "plot_weights(lr_coeffs, 'LR Coefficients')"
   ]
  },
  {
   "cell_type": "markdown",
   "id": "40832980",
   "metadata": {
    "papermill": {
     "duration": 0.036385,
     "end_time": "2025-07-02T13:04:08.162313",
     "exception": false,
     "start_time": "2025-07-02T13:04:08.125928",
     "status": "completed"
    },
    "tags": []
   },
   "source": [
    "# Results"
   ]
  },
  {
   "cell_type": "code",
   "execution_count": 28,
   "id": "bb12b58b",
   "metadata": {
    "_kg_hide-input": false,
    "execution": {
     "iopub.execute_input": "2025-07-02T13:04:08.234922Z",
     "iopub.status.busy": "2025-07-02T13:04:08.234114Z",
     "iopub.status.idle": "2025-07-02T13:04:08.838160Z",
     "shell.execute_reply": "2025-07-02T13:04:08.837318Z"
    },
    "papermill": {
     "duration": 0.642397,
     "end_time": "2025-07-02T13:04:08.840314",
     "exception": false,
     "start_time": "2025-07-02T13:04:08.197917",
     "status": "completed"
    },
    "tags": []
   },
   "outputs": [
    {
     "data": {
      "image/png": "[encoded data removed]",
      "text/plain": [
       "<Figure size 1500x320 with 2 Axes>"
      ]
     },
     "metadata": {},
     "output_type": "display_data"
    }
   ],
   "source": [
    "scores = pd.DataFrame(scores)\n",
    "mean_scores = scores.mean().sort_values(ascending=False)\n",
    "order = scores.mean().sort_values(ascending=False).index.tolist()\n",
    "\n",
    "min_score = mean_scores.min()\n",
    "max_score = mean_scores.max()\n",
    "padding = (max_score - min_score) * 0.5\n",
    "lower_limit = min_score - padding\n",
    "upper_limit = max_score + padding\n",
    "\n",
    "fig, axs = plt.subplots(1, 2, figsize=(15, scores.shape[1] * 0.4))\n",
    "\n",
    "boxplot = sns.boxplot(data=scores, order=order, ax=axs[0], orient='h', color='grey')\n",
    "axs[0].set_title('Fold Accuracy')\n",
    "axs[0].set_xlabel('')\n",
    "axs[0].set_ylabel('')\n",
    "\n",
    "barplot = sns.barplot(x=mean_scores.values, y=mean_scores.index, ax=axs[1], color='grey')\n",
    "axs[1].set_title('Average Accuracy')\n",
    "axs[1].set_xlabel('')\n",
    "axs[1].set_xlim(left=lower_limit, right=upper_limit)\n",
    "axs[1].set_ylabel('')\n",
    "\n",
    "for i, (score, model) in enumerate(zip(mean_scores.values, mean_scores.index)):\n",
    "    color = 'cyan' if 'logistic' in model.lower() else 'grey'\n",
    "    barplot.patches[i].set_facecolor(color)\n",
    "    boxplot.patches[i].set_facecolor(color)\n",
    "    barplot.text(score, i, round(score, 6), va='center')\n",
    "\n",
    "plt.tight_layout()\n",
    "plt.show()"
   ]
  },
  {
   "cell_type": "code",
   "execution_count": 29,
   "id": "43ecef71",
   "metadata": {
    "execution": {
     "iopub.execute_input": "2025-07-02T13:04:08.914235Z",
     "iopub.status.busy": "2025-07-02T13:04:08.913916Z",
     "iopub.status.idle": "2025-07-02T13:04:08.919014Z",
     "shell.execute_reply": "2025-07-02T13:04:08.918344Z"
    },
    "papermill": {
     "duration": 0.043359,
     "end_time": "2025-07-02T13:04:08.920364",
     "exception": false,
     "start_time": "2025-07-02T13:04:08.877005",
     "status": "completed"
    },
    "tags": []
   },
   "outputs": [],
   "source": [
    "shutil.rmtree('catboost_info', ignore_errors=True)"
   ]
  }
 ],
 "metadata": {
  "kaggle": {
   "accelerator": "none",
   "dataSources": [
    {
     "databundleVersionId": 12738969,
     "sourceId": 91718,
     "sourceType": "competition"
    },
    {
     "sourceId": 248441304,
     "sourceType": "kernelVersion"
    }
   ],
   "dockerImageVersionId": 31040,
   "isGpuEnabled": false,
   "isInternetEnabled": true,
   "language": "python",
   "sourceType": "notebook"
  },
  "kernelspec": {
   "display_name": "Python 3",
   "language": "python",
   "name": "python3"
  },
  "language_info": {
   "codemirror_mode": {
    "name": "ipython",
    "version": 3
   },
   "file_extension": ".py",
   "mimetype": "text/x-python",
   "name": "python",
   "nbconvert_exporter": "python",
   "pygments_lexer": "ipython3",
   "version": "3.11.11"
  },
  "papermill": {
   "default_parameters": {},
   "duration": 805.808891,
   "end_time": "2025-07-02T13:04:09.979225",
   "environment_variables": {},
   "exception": null,
   "input_path": "__notebook__.ipynb",
   "output_path": "__notebook__.ipynb",
   "parameters": {},
   "start_time": "2025-07-02T12:50:44.170334",
   "version": "2.6.0"
  }
 },
 "nbformat": 4,
 "nbformat_minor": 5
}
