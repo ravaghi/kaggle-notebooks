{
 "cells": [
  {
   "cell_type": "markdown",
   "id": "821c3669",
   "metadata": {
    "papermill": {
     "duration": 0.005888,
     "end_time": "2025-07-01T08:34:17.847216",
     "exception": false,
     "start_time": "2025-07-01T08:34:17.841328",
     "status": "completed"
    },
    "tags": []
   },
   "source": [
    "# Imports and configs"
   ]
  },
  {
   "cell_type": "code",
   "execution_count": 1,
   "id": "c59dffb1",
   "metadata": {
    "_kg_hide-output": true,
    "execution": {
     "iopub.execute_input": "2025-07-01T08:34:17.858951Z",
     "iopub.status.busy": "2025-07-01T08:34:17.858586Z",
     "iopub.status.idle": "2025-07-01T08:34:27.551945Z",
     "shell.execute_reply": "2025-07-01T08:34:27.550753Z"
    },
    "papermill": {
     "duration": 9.701195,
     "end_time": "2025-07-01T08:34:27.553751",
     "exception": false,
     "start_time": "2025-07-01T08:34:17.852556",
     "status": "completed"
    },
    "tags": []
   },
   "outputs": [
    {
     "name": "stdout",
     "output_type": "stream",
     "text": [
      "Collecting scikit-learn==1.5.2\r\n",
      "  Downloading scikit_learn-1.5.2-cp311-cp311-manylinux_2_17_x86_64.manylinux2014_x86_64.whl.metadata (13 kB)\r\n",
      "Collecting koolbox\r\n",
      "  Downloading koolbox-0.1.3-py3-none-any.whl.metadata (3.4 kB)\r\n",
      "Requirement already satisfied: numpy>=1.19.5 in /usr/local/lib/python3.11/dist-packages (from scikit-learn==1.5.2) (1.26.4)\r\n",
      "Requirement already satisfied: scipy>=1.6.0 in /usr/local/lib/python3.11/dist-packages (from scikit-learn==1.5.2) (1.15.2)\r\n",
      "Requirement already satisfied: joblib>=1.2.0 in /usr/local/lib/python3.11/dist-packages (from scikit-learn==1.5.2) (1.5.0)\r\n",
      "Requirement already satisfied: threadpoolctl>=3.1.0 in /usr/local/lib/python3.11/dist-packages (from scikit-learn==1.5.2) (3.6.0)\r\n",
      "Requirement already satisfied: optuna>=4.2.1 in /usr/local/lib/python3.11/dist-packages (from koolbox) (4.3.0)\r\n",
      "Requirement already satisfied: pandas>=2.2.3 in /usr/local/lib/python3.11/dist-packages (from koolbox) (2.2.3)\r\n",
      "Requirement already satisfied: mkl_fft in /usr/local/lib/python3.11/dist-packages (from numpy>=1.19.5->scikit-learn==1.5.2) (1.3.8)\r\n",
      "Requirement already satisfied: mkl_random in /usr/local/lib/python3.11/dist-packages (from numpy>=1.19.5->scikit-learn==1.5.2) (1.2.4)\r\n",
      "Requirement already satisfied: mkl_umath in /usr/local/lib/python3.11/dist-packages (from numpy>=1.19.5->scikit-learn==1.5.2) (0.1.1)\r\n",
      "Requirement already satisfied: mkl in /usr/local/lib/python3.11/dist-packages (from numpy>=1.19.5->scikit-learn==1.5.2) (2025.1.0)\r\n",
      "Requirement already satisfied: tbb4py in /usr/local/lib/python3.11/dist-packages (from numpy>=1.19.5->scikit-learn==1.5.2) (2022.1.0)\r\n",
      "Requirement already satisfied: mkl-service in /usr/local/lib/python3.11/dist-packages (from numpy>=1.19.5->scikit-learn==1.5.2) (2.4.1)\r\n",
      "Requirement already satisfied: alembic>=1.5.0 in /usr/local/lib/python3.11/dist-packages (from optuna>=4.2.1->koolbox) (1.15.2)\r\n",
      "Requirement already satisfied: colorlog in /usr/local/lib/python3.11/dist-packages (from optuna>=4.2.1->koolbox) (6.9.0)\r\n",
      "Requirement already satisfied: packaging>=20.0 in /usr/local/lib/python3.11/dist-packages (from optuna>=4.2.1->koolbox) (25.0)\r\n",
      "Requirement already satisfied: sqlalchemy>=1.4.2 in /usr/local/lib/python3.11/dist-packages (from optuna>=4.2.1->koolbox) (2.0.40)\r\n",
      "Requirement already satisfied: tqdm in /usr/local/lib/python3.11/dist-packages (from optuna>=4.2.1->koolbox) (4.67.1)\r\n",
      "Requirement already satisfied: PyYAML in /usr/local/lib/python3.11/dist-packages (from optuna>=4.2.1->koolbox) (6.0.2)\r\n",
      "Requirement already satisfied: python-dateutil>=2.8.2 in /usr/local/lib/python3.11/dist-packages (from pandas>=2.2.3->koolbox) (2.9.0.post0)\r\n",
      "Requirement already satisfied: pytz>=2020.1 in /usr/local/lib/python3.11/dist-packages (from pandas>=2.2.3->koolbox) (2025.2)\r\n",
      "Requirement already satisfied: tzdata>=2022.7 in /usr/local/lib/python3.11/dist-packages (from pandas>=2.2.3->koolbox) (2025.2)\r\n",
      "Requirement already satisfied: Mako in /usr/local/lib/python3.11/dist-packages (from alembic>=1.5.0->optuna>=4.2.1->koolbox) (1.3.10)\r\n",
      "Requirement already satisfied: typing-extensions>=4.12 in /usr/local/lib/python3.11/dist-packages (from alembic>=1.5.0->optuna>=4.2.1->koolbox) (4.13.2)\r\n",
      "Requirement already satisfied: six>=1.5 in /usr/local/lib/python3.11/dist-packages (from python-dateutil>=2.8.2->pandas>=2.2.3->koolbox) (1.17.0)\r\n",
      "Requirement already satisfied: greenlet>=1 in /usr/local/lib/python3.11/dist-packages (from sqlalchemy>=1.4.2->optuna>=4.2.1->koolbox) (3.1.1)\r\n",
      "Requirement already satisfied: intel-openmp<2026,>=2024 in /usr/local/lib/python3.11/dist-packages (from mkl->numpy>=1.19.5->scikit-learn==1.5.2) (2024.2.0)\r\n",
      "Requirement already satisfied: tbb==2022.* in /usr/local/lib/python3.11/dist-packages (from mkl->numpy>=1.19.5->scikit-learn==1.5.2) (2022.1.0)\r\n",
      "Requirement already satisfied: tcmlib==1.* in /usr/local/lib/python3.11/dist-packages (from tbb==2022.*->mkl->numpy>=1.19.5->scikit-learn==1.5.2) (1.3.0)\r\n",
      "Requirement already satisfied: intel-cmplr-lib-rt in /usr/local/lib/python3.11/dist-packages (from mkl_umath->numpy>=1.19.5->scikit-learn==1.5.2) (2024.2.0)\r\n",
      "Requirement already satisfied: intel-cmplr-lib-ur==2024.2.0 in /usr/local/lib/python3.11/dist-packages (from intel-openmp<2026,>=2024->mkl->numpy>=1.19.5->scikit-learn==1.5.2) (2024.2.0)\r\n",
      "Requirement already satisfied: MarkupSafe>=0.9.2 in /usr/local/lib/python3.11/dist-packages (from Mako->alembic>=1.5.0->optuna>=4.2.1->koolbox) (3.0.2)\r\n",
      "Downloading scikit_learn-1.5.2-cp311-cp311-manylinux_2_17_x86_64.manylinux2014_x86_64.whl (13.3 MB)\r\n",
      "\u001b[2K   \u001b[90m━━━━━━━━━━━━━━━━━━━━━━━━━━━━━━━━━━━━━━━━\u001b[0m \u001b[32m13.3/13.3 MB\u001b[0m \u001b[31m92.5 MB/s\u001b[0m eta \u001b[36m0:00:00\u001b[0m\r\n",
      "\u001b[?25hDownloading koolbox-0.1.3-py3-none-any.whl (18 kB)\r\n",
      "Installing collected packages: scikit-learn, koolbox\r\n",
      "  Attempting uninstall: scikit-learn\r\n",
      "    Found existing installation: scikit-learn 1.2.2\r\n",
      "    Uninstalling scikit-learn-1.2.2:\r\n",
      "      Successfully uninstalled scikit-learn-1.2.2\r\n",
      "\u001b[31mERROR: pip's dependency resolver does not currently take into account all the packages that are installed. This behaviour is the source of the following dependency conflicts.\r\n",
      "cesium 0.12.4 requires numpy<3.0,>=2.0, but you have numpy 1.26.4 which is incompatible.\u001b[0m\u001b[31m\r\n",
      "\u001b[0mSuccessfully installed koolbox-0.1.3 scikit-learn-1.5.2\r\n"
     ]
    }
   ],
   "source": [
    "!pip install scikit-learn==1.5.2 koolbox"
   ]
  },
  {
   "cell_type": "code",
   "execution_count": 2,
   "id": "de767596",
   "metadata": {
    "execution": {
     "iopub.execute_input": "2025-07-01T08:34:27.567914Z",
     "iopub.status.busy": "2025-07-01T08:34:27.567474Z",
     "iopub.status.idle": "2025-07-01T08:34:37.293827Z",
     "shell.execute_reply": "2025-07-01T08:34:37.292916Z"
    },
    "papermill": {
     "duration": 9.735726,
     "end_time": "2025-07-01T08:34:37.295829",
     "exception": false,
     "start_time": "2025-07-01T08:34:27.560103",
     "status": "completed"
    },
    "tags": []
   },
   "outputs": [],
   "source": [
    "from sklearn.feature_selection import mutual_info_regression\n",
    "from sklearn.ensemble import HistGradientBoostingClassifier\n",
    "from sklearn.linear_model import LogisticRegression\n",
    "from sklearn.model_selection import StratifiedKFold\n",
    "from sklearn.metrics import accuracy_score\n",
    "from catboost import CatBoostClassifier\n",
    "from lightgbm import LGBMClassifier\n",
    "from xgboost import XGBClassifier\n",
    "from scipy.special import logit\n",
    "from koolbox import Trainer\n",
    "import matplotlib.pyplot as plt\n",
    "import seaborn as sns\n",
    "import pandas as pd\n",
    "import numpy as np\n",
    "import warnings\n",
    "import shutil\n",
    "import optuna\n",
    "import json\n",
    "\n",
    "warnings.filterwarnings('ignore')"
   ]
  },
  {
   "cell_type": "code",
   "execution_count": 3,
   "id": "25d3ff84",
   "metadata": {
    "execution": {
     "iopub.execute_input": "2025-07-01T08:34:37.309702Z",
     "iopub.status.busy": "2025-07-01T08:34:37.309165Z",
     "iopub.status.idle": "2025-07-01T08:34:37.314723Z",
     "shell.execute_reply": "2025-07-01T08:34:37.313824Z"
    },
    "papermill": {
     "duration": 0.014104,
     "end_time": "2025-07-01T08:34:37.316212",
     "exception": false,
     "start_time": "2025-07-01T08:34:37.302108",
     "status": "completed"
    },
    "tags": []
   },
   "outputs": [],
   "source": [
    "class CFG:\n",
    "    train_path = '/kaggle/input/playground-series-s5e7/train.csv'\n",
    "    test_path = '/kaggle/input/playground-series-s5e7/test.csv'\n",
    "    sample_sub_path = '/kaggle/input/playground-series-s5e7/sample_submission.csv'\n",
    "    \n",
    "    target = 'Personality'\n",
    "    n_folds = 5\n",
    "    seed = 42\n",
    "    \n",
    "    cv = StratifiedKFold(n_splits=n_folds, random_state=seed, shuffle=True)\n",
    "    metric = accuracy_score\n",
    "    \n",
    "    n_optuna_trials = 500"
   ]
  },
  {
   "cell_type": "markdown",
   "id": "1c677f51",
   "metadata": {
    "papermill": {
     "duration": 0.005747,
     "end_time": "2025-07-01T08:34:37.328492",
     "exception": false,
     "start_time": "2025-07-01T08:34:37.322745",
     "status": "completed"
    },
    "tags": []
   },
   "source": [
    "# Data loading and preprocessing"
   ]
  },
  {
   "cell_type": "code",
   "execution_count": 4,
   "id": "3d5071ec",
   "metadata": {
    "execution": {
     "iopub.execute_input": "2025-07-01T08:34:37.342144Z",
     "iopub.status.busy": "2025-07-01T08:34:37.341413Z",
     "iopub.status.idle": "2025-07-01T08:34:37.416737Z",
     "shell.execute_reply": "2025-07-01T08:34:37.415753Z"
    },
    "papermill": {
     "duration": 0.083908,
     "end_time": "2025-07-01T08:34:37.418400",
     "exception": false,
     "start_time": "2025-07-01T08:34:37.334492",
     "status": "completed"
    },
    "tags": []
   },
   "outputs": [],
   "source": [
    "train = pd.read_csv(CFG.train_path, index_col='id')\n",
    "test = pd.read_csv(CFG.test_path, index_col='id')\n",
    "\n",
    "train[\"Stage_fear\"] = train[\"Stage_fear\"].map({\"No\": 0, \"Yes\": 1})\n",
    "train[\"Drained_after_socializing\"] = train[\"Drained_after_socializing\"].map({\"No\": 0, \"Yes\": 1})\n",
    "\n",
    "test[\"Stage_fear\"] = test[\"Stage_fear\"].map({\"No\": 0, \"Yes\": 1})\n",
    "test[\"Drained_after_socializing\"] = test[\"Drained_after_socializing\"].map({\"No\": 0, \"Yes\": 1})\n",
    "\n",
    "train[CFG.target] = train[CFG.target].map({\"Extrovert\": 0, \"Introvert\": 1})\n",
    "\n",
    "X = train.drop(CFG.target, axis=1)\n",
    "y = train[CFG.target]\n",
    "X_test = test"
   ]
  },
  {
   "cell_type": "code",
   "execution_count": 5,
   "id": "3c32db7b",
   "metadata": {
    "execution": {
     "iopub.execute_input": "2025-07-01T08:34:37.431641Z",
     "iopub.status.busy": "2025-07-01T08:34:37.431354Z",
     "iopub.status.idle": "2025-07-01T08:34:37.886710Z",
     "shell.execute_reply": "2025-07-01T08:34:37.885802Z"
    },
    "papermill": {
     "duration": 0.464539,
     "end_time": "2025-07-01T08:34:37.889023",
     "exception": false,
     "start_time": "2025-07-01T08:34:37.424484",
     "status": "completed"
    },
    "tags": []
   },
   "outputs": [
    {
     "data": {
      "image/png": "[encoded data removed]",
      "text/plain": [
       "<Figure size 800x800 with 1 Axes>"
      ]
     },
     "metadata": {},
     "output_type": "display_data"
    }
   ],
   "source": [
    "sns.set_style(\"white\")\n",
    "plt.figure(figsize=(8, 8))\n",
    "\n",
    "corr_train = train.corr()\n",
    "mask_train = np.triu(np.ones_like(corr_train, dtype=bool), k=1)\n",
    "\n",
    "sns.heatmap(\n",
    "    data=corr_train,\n",
    "    annot=True,\n",
    "    fmt='.4f',\n",
    "    mask=mask_train,\n",
    "    square=True,\n",
    "    cmap='coolwarm',\n",
    "    annot_kws={'size': 8},\n",
    "    cbar=False\n",
    ")\n",
    "\n",
    "plt.tight_layout()\n",
    "plt.show()"
   ]
  },
  {
   "cell_type": "code",
   "execution_count": 6,
   "id": "8d978039",
   "metadata": {
    "execution": {
     "iopub.execute_input": "2025-07-01T08:34:37.905818Z",
     "iopub.status.busy": "2025-07-01T08:34:37.904874Z",
     "iopub.status.idle": "2025-07-01T08:34:38.892711Z",
     "shell.execute_reply": "2025-07-01T08:34:38.891864Z"
    },
    "papermill": {
     "duration": 0.997494,
     "end_time": "2025-07-01T08:34:38.894264",
     "exception": false,
     "start_time": "2025-07-01T08:34:37.896770",
     "status": "completed"
    },
    "tags": []
   },
   "outputs": [
    {
     "data": {
      "text/html": [
       "<style type=\"text/css\">\n",
       "#T_28e34_row0_col0 {\n",
       "  width: 10em;\n",
       "  background: linear-gradient(90deg, #006837 100.0%, transparent 100.0%);\n",
       "}\n",
       "#T_28e34_row1_col0 {\n",
       "  width: 10em;\n",
       "  background: linear-gradient(90deg, #0b7d42 95.5%, transparent 95.5%);\n",
       "}\n",
       "#T_28e34_row2_col0 {\n",
       "  width: 10em;\n",
       "  background: linear-gradient(90deg, #108647 93.5%, transparent 93.5%);\n",
       "}\n",
       "#T_28e34_row3_col0 {\n",
       "  width: 10em;\n",
       "  background: linear-gradient(90deg, #219c52 89.0%, transparent 89.0%);\n",
       "}\n",
       "#T_28e34_row4_col0 {\n",
       "  width: 10em;\n",
       "  background: linear-gradient(90deg, #249d53 88.7%, transparent 88.7%);\n",
       "}\n",
       "#T_28e34_row5_col0 {\n",
       "  width: 10em;\n",
       "  background: linear-gradient(90deg, #36a657 86.0%, transparent 86.0%);\n",
       "}\n",
       "#T_28e34_row6_col0 {\n",
       "  width: 10em;\n",
       "  background: linear-gradient(90deg, #5ab760 81.6%, transparent 81.6%);\n",
       "}\n",
       "</style>\n",
       "<table id=\"T_28e34\">\n",
       "  <thead>\n",
       "    <tr>\n",
       "      <th class=\"blank level0\" >&nbsp;</th>\n",
       "      <th id=\"T_28e34_level0_col0\" class=\"col_heading level0 col0\" >Mutual Information</th>\n",
       "    </tr>\n",
       "  </thead>\n",
       "  <tbody>\n",
       "    <tr>\n",
       "      <th id=\"T_28e34_level0_row0\" class=\"row_heading level0 row0\" >Time_spent_Alone</th>\n",
       "      <td id=\"T_28e34_row0_col0\" class=\"data row0 col0\" >0.353570</td>\n",
       "    </tr>\n",
       "    <tr>\n",
       "      <th id=\"T_28e34_level0_row1\" class=\"row_heading level0 row1\" >Drained_after_socializing</th>\n",
       "      <td id=\"T_28e34_row1_col0\" class=\"data row1 col0\" >0.337575</td>\n",
       "    </tr>\n",
       "    <tr>\n",
       "      <th id=\"T_28e34_level0_row2\" class=\"row_heading level0 row2\" >Social_event_attendance</th>\n",
       "      <td id=\"T_28e34_row2_col0\" class=\"data row2 col0\" >0.330482</td>\n",
       "    </tr>\n",
       "    <tr>\n",
       "      <th id=\"T_28e34_level0_row3\" class=\"row_heading level0 row3\" >Stage_fear</th>\n",
       "      <td id=\"T_28e34_row3_col0\" class=\"data row3 col0\" >0.314673</td>\n",
       "    </tr>\n",
       "    <tr>\n",
       "      <th id=\"T_28e34_level0_row4\" class=\"row_heading level0 row4\" >Post_frequency</th>\n",
       "      <td id=\"T_28e34_row4_col0\" class=\"data row4 col0\" >0.313469</td>\n",
       "    </tr>\n",
       "    <tr>\n",
       "      <th id=\"T_28e34_level0_row5\" class=\"row_heading level0 row5\" >Going_outside</th>\n",
       "      <td id=\"T_28e34_row5_col0\" class=\"data row5 col0\" >0.304151</td>\n",
       "    </tr>\n",
       "    <tr>\n",
       "      <th id=\"T_28e34_level0_row6\" class=\"row_heading level0 row6\" >Friends_circle_size</th>\n",
       "      <td id=\"T_28e34_row6_col0\" class=\"data row6 col0\" >0.288645</td>\n",
       "    </tr>\n",
       "  </tbody>\n",
       "</table>\n"
      ],
      "text/plain": [
       "<pandas.io.formats.style.Styler at 0x7e85717c0b10>"
      ]
     },
     "execution_count": 6,
     "metadata": {},
     "output_type": "execute_result"
    }
   ],
   "source": [
    "mutual_info = mutual_info_regression(X.fillna(0), y, random_state=CFG.seed)\n",
    "\n",
    "mutual_info = pd.Series(mutual_info)\n",
    "mutual_info.index = X.columns\n",
    "mutual_info = pd.DataFrame(mutual_info.sort_values(ascending=False), columns=['Mutual Information'])\n",
    "mutual_info.style.bar(subset=['Mutual Information'], cmap='RdYlGn')"
   ]
  },
  {
   "cell_type": "markdown",
   "id": "3cedd1c0",
   "metadata": {
    "papermill": {
     "duration": 0.007154,
     "end_time": "2025-07-01T08:34:38.909520",
     "exception": false,
     "start_time": "2025-07-01T08:34:38.902366",
     "status": "completed"
    },
    "tags": []
   },
   "source": [
    "# Training base models"
   ]
  },
  {
   "cell_type": "code",
   "execution_count": 7,
   "id": "96672010",
   "metadata": {
    "execution": {
     "iopub.execute_input": "2025-07-01T08:34:38.926327Z",
     "iopub.status.busy": "2025-07-01T08:34:38.925997Z",
     "iopub.status.idle": "2025-07-01T08:34:38.931459Z",
     "shell.execute_reply": "2025-07-01T08:34:38.930619Z"
    },
    "papermill": {
     "duration": 0.015799,
     "end_time": "2025-07-01T08:34:38.932783",
     "exception": false,
     "start_time": "2025-07-01T08:34:38.916984",
     "status": "completed"
    },
    "tags": []
   },
   "outputs": [],
   "source": [
    "def save_submission(name, test_pred_probs, score, threshold=0.5):\n",
    "    sub = pd.read_csv(CFG.sample_sub_path)\n",
    "    sub[CFG.target] = (test_pred_probs > threshold).astype(int)\n",
    "    sub[CFG.target] = sub[CFG.target].map({0: \"Extrovert\", 1: \"Introvert\"})\n",
    "    sub.to_csv(f'sub_{name}_{score:.6f}.csv', index=False)\n",
    "    return sub.head()"
   ]
  },
  {
   "cell_type": "code",
   "execution_count": 8,
   "id": "3eef3914",
   "metadata": {
    "_kg_hide-input": true,
    "_kg_hide-output": true,
    "execution": {
     "iopub.execute_input": "2025-07-01T08:34:38.949307Z",
     "iopub.status.busy": "2025-07-01T08:34:38.948996Z",
     "iopub.status.idle": "2025-07-01T08:34:38.958921Z",
     "shell.execute_reply": "2025-07-01T08:34:38.958050Z"
    },
    "papermill": {
     "duration": 0.019915,
     "end_time": "2025-07-01T08:34:38.960385",
     "exception": false,
     "start_time": "2025-07-01T08:34:38.940470",
     "status": "completed"
    },
    "tags": []
   },
   "outputs": [],
   "source": [
    "cb_params = {\n",
    "    \"border_count\": 180,\n",
    "    \"colsample_bylevel\": 0.7351678905666684,\n",
    "    \"depth\": 7,\n",
    "    \"iterations\": 2372,\n",
    "    \"l2_leaf_reg\": 4.442847441200204,\n",
    "    \"learning_rate\": 0.0514109059943355,\n",
    "    \"min_child_samples\": 146,\n",
    "    \"random_state\": 42,\n",
    "    \"random_strength\": 0.18678416655567043,\n",
    "    \"subsample\": 0.3511896501762123,\n",
    "    \"verbose\": False\n",
    "}\n",
    "\n",
    "xgb_params = {\n",
    "    \"colsample_bylevel\": 0.25155109886677396,\n",
    "    \"colsample_bynode\": 0.5723191165109757,\n",
    "    \"colsample_bytree\": 0.18034301813835885,\n",
    "    \"gamma\": 3.6392698070258622,\n",
    "    \"max_depth\": 16,\n",
    "    \"max_leaves\": 67,\n",
    "    \"min_child_weight\": 34,\n",
    "    \"n_estimators\": 1853,\n",
    "    \"n_jobs\": -1,\n",
    "    \"random_state\": 42,\n",
    "    \"reg_alpha\": 7.996080341061729,\n",
    "    \"reg_lambda\": 46.83054555763492,\n",
    "    \"subsample\": 0.9117754083869292\n",
    "}\n",
    "\n",
    "hgb_params = {\n",
    "    'l2_regularization': 3.2797348813056515,\n",
    "    'learning_rate': 0.04290001508632896,\n",
    "    'max_depth': 292,\n",
    "    'max_features': 0.9605841946578942,\n",
    "    'max_iter': 2978,\n",
    "    'max_leaf_nodes': 38,\n",
    "    'min_samples_leaf': 254,\n",
    "    'random_state': 42\n",
    "}\n",
    "\n",
    "lgbm_params = {\n",
    "    \"boosting_type\": \"gbdt\",\n",
    "    \"colsample_bytree\": 0.18283018243382332,\n",
    "    \"learning_rate\": 0.09945326391012832,\n",
    "    \"max_bins\": 36644,\n",
    "    \"min_child_samples\": 105,\n",
    "    \"min_child_weight\": 0.2083765599710974,\n",
    "    \"n_estimators\": 244,\n",
    "    \"n_jobs\": -1,\n",
    "    \"num_leaves\": 122,\n",
    "    \"random_state\": 42,\n",
    "    \"reg_alpha\": 8.662578235164972,\n",
    "    \"reg_lambda\": 3.5696291074963926,\n",
    "    \"subsample\": 0.5360642841695424,\n",
    "    \"verbose\": -1\n",
    "}\n",
    "\n",
    "lgbm_goss_params = {\n",
    "    \"boosting_type\": \"goss\",\n",
    "    \"colsample_bytree\": 0.11905309670044416,\n",
    "    \"learning_rate\": 0.04641567005485582,\n",
    "    \"max_bins\": 18501,\n",
    "    \"min_child_samples\": 283,\n",
    "    \"min_child_weight\": 0.5242575557671028,\n",
    "    \"n_estimators\": 966,\n",
    "    \"n_jobs\": -1,\n",
    "    \"num_leaves\": 159,\n",
    "    \"random_state\": 42,\n",
    "    \"reg_alpha\": 8.160196501794122,\n",
    "    \"reg_lambda\": 9.861767101758469,\n",
    "    \"subsample\": 0.9259030065865966,\n",
    "    \"verbose\": -1\n",
    "}\n",
    "\n",
    "lgbm_dart_params = {\n",
    "    \"boosting_type\": \"dart\",\n",
    "    \"colsample_bytree\": 0.1181378019860333,\n",
    "    \"learning_rate\": 0.0910272033595692,\n",
    "    \"max_bins\": 7386,\n",
    "    \"min_child_samples\": 225,\n",
    "    \"min_child_weight\": 0.28492487885169293,\n",
    "    \"n_estimators\": 1454,\n",
    "    \"n_jobs\": -1,\n",
    "    \"num_leaves\": 163,\n",
    "    \"random_state\": 42,\n",
    "    \"reg_alpha\": 2.9686583338116925,\n",
    "    \"reg_lambda\": 9.781841345026509,\n",
    "    \"subsample\": 0.511061530253864,\n",
    "    \"verbose\": -1\n",
    "}"
   ]
  },
  {
   "cell_type": "code",
   "execution_count": 9,
   "id": "ae20b03c",
   "metadata": {
    "execution": {
     "iopub.execute_input": "2025-07-01T08:34:38.977729Z",
     "iopub.status.busy": "2025-07-01T08:34:38.976794Z",
     "iopub.status.idle": "2025-07-01T08:34:38.981188Z",
     "shell.execute_reply": "2025-07-01T08:34:38.980381Z"
    },
    "papermill": {
     "duration": 0.014325,
     "end_time": "2025-07-01T08:34:38.982525",
     "exception": false,
     "start_time": "2025-07-01T08:34:38.968200",
     "status": "completed"
    },
    "tags": []
   },
   "outputs": [],
   "source": [
    "scores = {}\n",
    "oof_pred_probs = {}\n",
    "test_pred_probs = {}"
   ]
  },
  {
   "cell_type": "markdown",
   "id": "32e549e5",
   "metadata": {
    "papermill": {
     "duration": 0.007239,
     "end_time": "2025-07-01T08:34:38.997557",
     "exception": false,
     "start_time": "2025-07-01T08:34:38.990318",
     "status": "completed"
    },
    "tags": []
   },
   "source": [
    "## CatBoost"
   ]
  },
  {
   "cell_type": "code",
   "execution_count": 10,
   "id": "d4916165",
   "metadata": {
    "execution": {
     "iopub.execute_input": "2025-07-01T08:34:39.013997Z",
     "iopub.status.busy": "2025-07-01T08:34:39.013167Z",
     "iopub.status.idle": "2025-07-01T08:35:37.112836Z",
     "shell.execute_reply": "2025-07-01T08:35:37.111743Z"
    },
    "papermill": {
     "duration": 58.109621,
     "end_time": "2025-07-01T08:35:37.114493",
     "exception": false,
     "start_time": "2025-07-01T08:34:39.004872",
     "status": "completed"
    },
    "tags": []
   },
   "outputs": [
    {
     "name": "stdout",
     "output_type": "stream",
     "text": [
      "Training CatBoostClassifier\n",
      "\n",
      "--- Fold 0 - accuracy_score: 0.966802 - Time: 11.08 s\n",
      "--- Fold 1 - accuracy_score: 0.962753 - Time: 11.98 s\n",
      "--- Fold 2 - accuracy_score: 0.963563 - Time: 11.13 s\n",
      "--- Fold 3 - accuracy_score: 0.968691 - Time: 11.10 s\n",
      "--- Fold 4 - accuracy_score: 0.967873 - Time: 12.04 s\n",
      "\n",
      "------ Overall accuracy_score: 0.965936 - Mean accuracy_score: 0.965936 ± 0.002360 - Time: 58.03 s\n"
     ]
    }
   ],
   "source": [
    "cb_trainer = Trainer(\n",
    "    CatBoostClassifier(**cb_params),\n",
    "    cv=CFG.cv,\n",
    "    metric=CFG.metric,\n",
    "    use_early_stopping=False,\n",
    "    task=\"binary\",\n",
    "    metric_precision=6,\n",
    ")\n",
    "\n",
    "cb_trainer.fit(X, y)\n",
    "\n",
    "scores[\"CatBoost\"] = cb_trainer.fold_scores\n",
    "oof_pred_probs[\"CatBoost\"] = cb_trainer.oof_preds\n",
    "test_pred_probs[\"CatBoost\"] = cb_trainer.predict(X_test)"
   ]
  },
  {
   "cell_type": "markdown",
   "id": "ec1f4dab",
   "metadata": {
    "papermill": {
     "duration": 0.007792,
     "end_time": "2025-07-01T08:35:37.130576",
     "exception": false,
     "start_time": "2025-07-01T08:35:37.122784",
     "status": "completed"
    },
    "tags": []
   },
   "source": [
    "## XGBoost"
   ]
  },
  {
   "cell_type": "code",
   "execution_count": 11,
   "id": "35890de8",
   "metadata": {
    "execution": {
     "iopub.execute_input": "2025-07-01T08:35:37.147367Z",
     "iopub.status.busy": "2025-07-01T08:35:37.147040Z",
     "iopub.status.idle": "2025-07-01T08:35:42.072451Z",
     "shell.execute_reply": "2025-07-01T08:35:42.070817Z"
    },
    "papermill": {
     "duration": 4.935631,
     "end_time": "2025-07-01T08:35:42.073975",
     "exception": false,
     "start_time": "2025-07-01T08:35:37.138344",
     "status": "completed"
    },
    "tags": []
   },
   "outputs": [
    {
     "name": "stdout",
     "output_type": "stream",
     "text": [
      "Training XGBClassifier\n",
      "\n",
      "--- Fold 0 - accuracy_score: 0.969501 - Time: 0.85 s\n",
      "--- Fold 1 - accuracy_score: 0.966802 - Time: 0.78 s\n",
      "--- Fold 2 - accuracy_score: 0.965182 - Time: 0.79 s\n",
      "--- Fold 3 - accuracy_score: 0.970580 - Time: 0.91 s\n",
      "--- Fold 4 - accuracy_score: 0.971382 - Time: 0.80 s\n",
      "\n",
      "------ Overall accuracy_score: 0.968689 - Mean accuracy_score: 0.968689 ± 0.002339 - Time: 4.84 s\n"
     ]
    }
   ],
   "source": [
    "xgb_trainer = Trainer(\n",
    "    XGBClassifier(**xgb_params),\n",
    "    cv=CFG.cv,\n",
    "    metric=CFG.metric,\n",
    "    task=\"binary\",\n",
    "    metric_precision=6,\n",
    ")\n",
    "\n",
    "xgb_trainer.fit(X, y)\n",
    "\n",
    "scores[\"XGBoost\"] = xgb_trainer.fold_scores\n",
    "oof_pred_probs[\"XGBoost\"] = xgb_trainer.oof_preds\n",
    "test_pred_probs[\"XGBoost\"] = xgb_trainer.predict(X_test)"
   ]
  },
  {
   "cell_type": "markdown",
   "id": "c0ab08c0",
   "metadata": {
    "papermill": {
     "duration": 0.008312,
     "end_time": "2025-07-01T08:35:42.091212",
     "exception": false,
     "start_time": "2025-07-01T08:35:42.082900",
     "status": "completed"
    },
    "tags": []
   },
   "source": [
    "## HistGradientBoostingClassifier"
   ]
  },
  {
   "cell_type": "code",
   "execution_count": 12,
   "id": "4104841d",
   "metadata": {
    "execution": {
     "iopub.execute_input": "2025-07-01T08:35:42.108783Z",
     "iopub.status.busy": "2025-07-01T08:35:42.108487Z",
     "iopub.status.idle": "2025-07-01T08:35:45.300332Z",
     "shell.execute_reply": "2025-07-01T08:35:45.299561Z"
    },
    "papermill": {
     "duration": 3.202636,
     "end_time": "2025-07-01T08:35:45.302037",
     "exception": false,
     "start_time": "2025-07-01T08:35:42.099401",
     "status": "completed"
    },
    "tags": []
   },
   "outputs": [
    {
     "name": "stdout",
     "output_type": "stream",
     "text": [
      "Training HistGradientBoostingClassifier\n",
      "\n",
      "--- Fold 0 - accuracy_score: 0.969771 - Time: 0.36 s\n",
      "--- Fold 1 - accuracy_score: 0.967072 - Time: 0.55 s\n",
      "--- Fold 2 - accuracy_score: 0.965992 - Time: 0.46 s\n",
      "--- Fold 3 - accuracy_score: 0.970040 - Time: 0.45 s\n",
      "--- Fold 4 - accuracy_score: 0.970842 - Time: 0.44 s\n",
      "\n",
      "------ Overall accuracy_score: 0.968743 - Mean accuracy_score: 0.968743 ± 0.001871 - Time: 2.98 s\n"
     ]
    }
   ],
   "source": [
    "hgb_trainer = Trainer(\n",
    "    HistGradientBoostingClassifier(**hgb_params),\n",
    "    cv=CFG.cv,\n",
    "    metric=CFG.metric,\n",
    "    task=\"binary\",\n",
    "    metric_precision=6,\n",
    ")\n",
    "\n",
    "hgb_trainer.fit(X, y)\n",
    "\n",
    "scores[\"HistGradientBoosting\"] = hgb_trainer.fold_scores\n",
    "oof_pred_probs[\"HistGradientBoosting\"] = hgb_trainer.oof_preds\n",
    "test_pred_probs[\"HistGradientBoosting\"] = hgb_trainer.predict(X_test)"
   ]
  },
  {
   "cell_type": "markdown",
   "id": "385a0eb0",
   "metadata": {
    "papermill": {
     "duration": 0.008457,
     "end_time": "2025-07-01T08:35:45.319196",
     "exception": false,
     "start_time": "2025-07-01T08:35:45.310739",
     "status": "completed"
    },
    "tags": []
   },
   "source": [
    "## LightGBM (gbdt)"
   ]
  },
  {
   "cell_type": "code",
   "execution_count": 13,
   "id": "2df7a67a",
   "metadata": {
    "execution": {
     "iopub.execute_input": "2025-07-01T08:35:45.338167Z",
     "iopub.status.busy": "2025-07-01T08:35:45.337503Z",
     "iopub.status.idle": "2025-07-01T08:35:47.001439Z",
     "shell.execute_reply": "2025-07-01T08:35:46.999648Z"
    },
    "papermill": {
     "duration": 1.675472,
     "end_time": "2025-07-01T08:35:47.003060",
     "exception": false,
     "start_time": "2025-07-01T08:35:45.327588",
     "status": "completed"
    },
    "tags": []
   },
   "outputs": [
    {
     "name": "stdout",
     "output_type": "stream",
     "text": [
      "Training LGBMClassifier\n",
      "\n",
      "--- Fold 0 - accuracy_score: 0.969231 - Time: 0.26 s\n",
      "--- Fold 1 - accuracy_score: 0.967611 - Time: 0.16 s\n",
      "--- Fold 2 - accuracy_score: 0.965722 - Time: 0.16 s\n",
      "--- Fold 3 - accuracy_score: 0.970580 - Time: 0.14 s\n",
      "--- Fold 4 - accuracy_score: 0.971652 - Time: 0.14 s\n",
      "\n",
      "------ Overall accuracy_score: 0.968959 - Mean accuracy_score: 0.968959 ± 0.002110 - Time: 1.58 s\n"
     ]
    }
   ],
   "source": [
    "lgbm_gbdt_trainer = Trainer(\n",
    "    LGBMClassifier(**lgbm_params),\n",
    "    cv=CFG.cv,\n",
    "    metric=CFG.metric,\n",
    "    use_early_stopping=False,\n",
    "    task=\"binary\",\n",
    "    metric_precision=6,\n",
    ")\n",
    "\n",
    "lgbm_gbdt_trainer.fit(X, y)\n",
    "\n",
    "scores[\"LightGBM (gbdt)\"] = lgbm_gbdt_trainer.fold_scores\n",
    "oof_pred_probs[\"LightGBM (gbdt)\"] = lgbm_gbdt_trainer.oof_preds\n",
    "test_pred_probs[\"LightGBM (gbdt)\"] = lgbm_gbdt_trainer.predict(X_test)"
   ]
  },
  {
   "cell_type": "markdown",
   "id": "ef742c9f",
   "metadata": {
    "papermill": {
     "duration": 0.008573,
     "end_time": "2025-07-01T08:35:47.020691",
     "exception": false,
     "start_time": "2025-07-01T08:35:47.012118",
     "status": "completed"
    },
    "tags": []
   },
   "source": [
    "## LightGBM (goss)"
   ]
  },
  {
   "cell_type": "code",
   "execution_count": 14,
   "id": "deef7d03",
   "metadata": {
    "execution": {
     "iopub.execute_input": "2025-07-01T08:35:47.039455Z",
     "iopub.status.busy": "2025-07-01T08:35:47.039154Z",
     "iopub.status.idle": "2025-07-01T08:35:52.319359Z",
     "shell.execute_reply": "2025-07-01T08:35:52.318665Z"
    },
    "papermill": {
     "duration": 5.291576,
     "end_time": "2025-07-01T08:35:52.320914",
     "exception": false,
     "start_time": "2025-07-01T08:35:47.029338",
     "status": "completed"
    },
    "tags": []
   },
   "outputs": [
    {
     "name": "stdout",
     "output_type": "stream",
     "text": [
      "Training LGBMClassifier\n",
      "\n",
      "--- Fold 0 - accuracy_score: 0.969501 - Time: 0.80 s\n",
      "--- Fold 1 - accuracy_score: 0.967611 - Time: 0.81 s\n",
      "--- Fold 2 - accuracy_score: 0.965722 - Time: 0.82 s\n",
      "--- Fold 3 - accuracy_score: 0.970580 - Time: 0.94 s\n",
      "--- Fold 4 - accuracy_score: 0.971112 - Time: 0.83 s\n",
      "\n",
      "------ Overall accuracy_score: 0.968905 - Mean accuracy_score: 0.968905 ± 0.001992 - Time: 4.93 s\n"
     ]
    }
   ],
   "source": [
    "lgbm_goss_trainer = Trainer(\n",
    "    LGBMClassifier(**lgbm_goss_params),\n",
    "    cv=CFG.cv,\n",
    "    metric=CFG.metric,\n",
    "    use_early_stopping=False,\n",
    "    task=\"binary\",\n",
    "    metric_precision=6,\n",
    ")\n",
    "\n",
    "lgbm_goss_trainer.fit(X, y)\n",
    "\n",
    "scores[\"LightGBM (goss)\"] = lgbm_goss_trainer.fold_scores\n",
    "oof_pred_probs[\"LightGBM (goss)\"] = lgbm_goss_trainer.oof_preds\n",
    "test_pred_probs[\"LightGBM (goss)\"] = lgbm_goss_trainer.predict(X_test)"
   ]
  },
  {
   "cell_type": "markdown",
   "id": "325a6ff5",
   "metadata": {
    "papermill": {
     "duration": 0.00888,
     "end_time": "2025-07-01T08:35:52.339371",
     "exception": false,
     "start_time": "2025-07-01T08:35:52.330491",
     "status": "completed"
    },
    "tags": []
   },
   "source": [
    "## LightGBM (dart)"
   ]
  },
  {
   "cell_type": "code",
   "execution_count": 15,
   "id": "1e01bb36",
   "metadata": {
    "execution": {
     "iopub.execute_input": "2025-07-01T08:35:52.358982Z",
     "iopub.status.busy": "2025-07-01T08:35:52.358600Z",
     "iopub.status.idle": "2025-07-01T08:36:42.786215Z",
     "shell.execute_reply": "2025-07-01T08:36:42.785294Z"
    },
    "papermill": {
     "duration": 50.439381,
     "end_time": "2025-07-01T08:36:42.787886",
     "exception": false,
     "start_time": "2025-07-01T08:35:52.348505",
     "status": "completed"
    },
    "tags": []
   },
   "outputs": [
    {
     "name": "stdout",
     "output_type": "stream",
     "text": [
      "Training LGBMClassifier\n",
      "\n",
      "--- Fold 0 - accuracy_score: 0.969501 - Time: 9.40 s\n",
      "--- Fold 1 - accuracy_score: 0.967611 - Time: 10.46 s\n",
      "--- Fold 2 - accuracy_score: 0.965452 - Time: 9.51 s\n",
      "--- Fold 3 - accuracy_score: 0.970580 - Time: 9.06 s\n",
      "--- Fold 4 - accuracy_score: 0.971112 - Time: 10.68 s\n",
      "\n",
      "------ Overall accuracy_score: 0.968851 - Mean accuracy_score: 0.968851 ± 0.002079 - Time: 49.83 s\n"
     ]
    }
   ],
   "source": [
    "lgbm_dart_trainer = Trainer(\n",
    "    LGBMClassifier(**lgbm_dart_params),\n",
    "    cv=CFG.cv,\n",
    "    metric=CFG.metric,\n",
    "    use_early_stopping=False,\n",
    "    task=\"binary\",\n",
    "    metric_precision=6,\n",
    ")\n",
    "\n",
    "lgbm_dart_trainer.fit(X, y)\n",
    "\n",
    "scores[\"LightGBM (dart)\"] = lgbm_dart_trainer.fold_scores\n",
    "oof_pred_probs[\"LightGBM (dart)\"] = lgbm_dart_trainer.oof_preds\n",
    "test_pred_probs[\"LightGBM (dart)\"] = lgbm_dart_trainer.predict(X_test)"
   ]
  },
  {
   "cell_type": "markdown",
   "id": "de6ad101",
   "metadata": {
    "papermill": {
     "duration": 0.00899,
     "end_time": "2025-07-01T08:36:42.806975",
     "exception": false,
     "start_time": "2025-07-01T08:36:42.797985",
     "status": "completed"
    },
    "tags": []
   },
   "source": [
    "# Ensembling with Logistic Regression"
   ]
  },
  {
   "cell_type": "code",
   "execution_count": 16,
   "id": "23f39083",
   "metadata": {
    "_kg_hide-input": true,
    "execution": {
     "iopub.execute_input": "2025-07-01T08:36:42.826902Z",
     "iopub.status.busy": "2025-07-01T08:36:42.826553Z",
     "iopub.status.idle": "2025-07-01T08:36:42.834039Z",
     "shell.execute_reply": "2025-07-01T08:36:42.833192Z"
    },
    "papermill": {
     "duration": 0.019113,
     "end_time": "2025-07-01T08:36:42.835474",
     "exception": false,
     "start_time": "2025-07-01T08:36:42.816361",
     "status": "completed"
    },
    "tags": []
   },
   "outputs": [],
   "source": [
    "def plot_weights(weights, title):\n",
    "    sorted_indices = np.argsort(weights[0])[::-1]\n",
    "    sorted_coeffs = np.array(weights[0])[sorted_indices]\n",
    "    sorted_model_names = np.array(list(oof_pred_probs.keys()))[sorted_indices]\n",
    "\n",
    "    plt.figure(figsize=(10, weights.shape[1] * 0.5))\n",
    "    ax = sns.barplot(x=sorted_coeffs, y=sorted_model_names, palette=\"RdYlGn_r\")\n",
    "\n",
    "    for i, (value, name) in enumerate(zip(sorted_coeffs, sorted_model_names)):\n",
    "        if value >= 0:\n",
    "            ax.text(value, i, f'{value:.3f}', va='center', ha='left', color='black')\n",
    "        else:\n",
    "            ax.text(value, i, f'{value:.3f}', va='center', ha='right', color='black')\n",
    "\n",
    "    xlim = ax.get_xlim()\n",
    "    ax.set_xlim(xlim[0] - 0.1 * abs(xlim[0]), xlim[1] + 0.1 * abs(xlim[1]))\n",
    "\n",
    "    plt.title(title)\n",
    "    plt.xlabel('')\n",
    "    plt.ylabel('')\n",
    "    plt.tight_layout()\n",
    "    plt.show()"
   ]
  },
  {
   "cell_type": "code",
   "execution_count": 17,
   "id": "084c487a",
   "metadata": {
    "execution": {
     "iopub.execute_input": "2025-07-01T08:36:42.855799Z",
     "iopub.status.busy": "2025-07-01T08:36:42.855476Z",
     "iopub.status.idle": "2025-07-01T08:36:42.870009Z",
     "shell.execute_reply": "2025-07-01T08:36:42.869143Z"
    },
    "papermill": {
     "duration": 0.026462,
     "end_time": "2025-07-01T08:36:42.871618",
     "exception": false,
     "start_time": "2025-07-01T08:36:42.845156",
     "status": "completed"
    },
    "tags": []
   },
   "outputs": [],
   "source": [
    "X = logit(pd.DataFrame(oof_pred_probs).clip(1e-15, 1-1e-15))\n",
    "X_test = logit(pd.DataFrame(test_pred_probs).clip(1e-15, 1-1e-15))"
   ]
  },
  {
   "cell_type": "code",
   "execution_count": 18,
   "id": "e0c3d371",
   "metadata": {
    "_kg_hide-output": true,
    "execution": {
     "iopub.execute_input": "2025-07-01T08:36:42.892044Z",
     "iopub.status.busy": "2025-07-01T08:36:42.891694Z",
     "iopub.status.idle": "2025-07-01T08:43:49.078543Z",
     "shell.execute_reply": "2025-07-01T08:43:49.077806Z"
    },
    "papermill": {
     "duration": 426.198828,
     "end_time": "2025-07-01T08:43:49.080112",
     "exception": false,
     "start_time": "2025-07-01T08:36:42.881284",
     "status": "completed"
    },
    "tags": []
   },
   "outputs": [
    {
     "name": "stderr",
     "output_type": "stream",
     "text": [
      "[I 2025-07-01 08:36:42,897] A new study created in memory with name: no-name-19ef5398-251a-488d-b43f-575fb95b7a87\n",
      "[I 2025-07-01 08:36:45,802] Trial 3 finished with value: 0.9690672519477795 and parameters: {'solver_penalty': ('newton-cholesky', 'l2'), 'C': 3.4599919976848206, 'tol': 0.03733137183466457, 'fit_intercept': True, 'class_weight': None, 'threshold': 0.521}. Best is trial 3 with value: 0.9690672519477795.\n",
      "[I 2025-07-01 08:36:45,804] Trial 0 finished with value: 0.9536277664588452 and parameters: {'solver_penalty': ('newton-cholesky', None), 'C': 1.5822051874263876, 'tol': 0.04196616433276069, 'fit_intercept': True, 'class_weight': 'balanced', 'threshold': 0.153}. Best is trial 3 with value: 0.9690672519477795.\n",
      "[I 2025-07-01 08:36:45,981] Trial 2 finished with value: 0.9685813928407996 and parameters: {'solver_penalty': ('newton-cg', 'l2'), 'C': 4.043995061254839, 'tol': 0.07322600218040272, 'fit_intercept': True, 'class_weight': None, 'threshold': 0.7010000000000001}. Best is trial 3 with value: 0.9690672519477795.\n",
      "[I 2025-07-01 08:36:46,318] Trial 1 finished with value: 0.9669079202408746 and parameters: {'solver_penalty': ('newton-cg', None), 'C': 1.4018472826238204, 'tol': 0.07842875469523819, 'fit_intercept': True, 'class_weight': 'balanced', 'threshold': 0.15}. Best is trial 3 with value: 0.9690672519477795.\n",
      "[I 2025-07-01 08:36:48,216] Trial 5 finished with value: 0.9413195640705018 and parameters: {'solver_penalty': ('liblinear', 'l2'), 'C': 4.874961162952318, 'tol': 0.003673940136606937, 'fit_intercept': True, 'class_weight': None, 'threshold': 0.921}. Best is trial 3 with value: 0.9690672519477795.\n",
      "[I 2025-07-01 08:36:49,492] Trial 6 finished with value: 0.9643706187715508 and parameters: {'solver_penalty': ('newton-cholesky', None), 'C': 6.267018641532051, 'tol': 0.022124224261703358, 'fit_intercept': False, 'class_weight': 'balanced', 'threshold': 0.115}. Best is trial 3 with value: 0.9690672519477795.\n",
      "[I 2025-07-01 08:36:49,648] Trial 4 finished with value: 0.9689053232016743 and parameters: {'solver_penalty': ('newton-cg', None), 'C': 2.1004827161900708, 'tol': 0.027626827545003577, 'fit_intercept': False, 'class_weight': 'balanced', 'threshold': 0.453}. Best is trial 3 with value: 0.9690672519477795.\n",
      "[I 2025-07-01 08:36:49,949] Trial 7 finished with value: 0.968311501881469 and parameters: {'solver_penalty': ('newton-cholesky', 'l2'), 'C': 0.7526016835032578, 'tol': 0.03263979917420105, 'fit_intercept': False, 'class_weight': 'balanced', 'threshold': 0.71}. Best is trial 3 with value: 0.9690672519477795.\n",
      "[I 2025-07-01 08:36:50,289] Trial 8 finished with value: 0.9684194932421601 and parameters: {'solver_penalty': ('liblinear', 'l2'), 'C': 2.0520307267110036, 'tol': 0.0018677071774799844, 'fit_intercept': True, 'class_weight': None, 'threshold': 0.181}. Best is trial 3 with value: 0.9690672519477795.\n",
      "[I 2025-07-01 08:36:52,078] Trial 10 finished with value: 0.9686894424964221 and parameters: {'solver_penalty': ('liblinear', 'l1'), 'C': 7.794807912567936, 'tol': 0.01340032424448782, 'fit_intercept': True, 'class_weight': None, 'threshold': 0.35000000000000003}. Best is trial 3 with value: 0.9690672519477795.\n",
      "[I 2025-07-01 08:36:52,270] Trial 11 finished with value: 0.9636149415739048 and parameters: {'solver_penalty': ('liblinear', 'l1'), 'C': 4.195025195568515, 'tol': 0.07530294717536011, 'fit_intercept': False, 'class_weight': None, 'threshold': 0.852}. Best is trial 3 with value: 0.9690672519477795.\n",
      "[I 2025-07-01 08:36:54,648] Trial 13 finished with value: 0.9667459623473038 and parameters: {'solver_penalty': ('liblinear', 'l2'), 'C': 9.844485978434847, 'tol': 0.04880082212504047, 'fit_intercept': True, 'class_weight': None, 'threshold': 0.807}. Best is trial 3 with value: 0.9690672519477795.\n",
      "[I 2025-07-01 08:36:54,651] Trial 9 finished with value: 0.967717636840065 and parameters: {'solver_penalty': ('newton-cholesky', 'l2'), 'C': 9.353219461589463, 'tol': 0.011009742384107122, 'fit_intercept': True, 'class_weight': 'balanced', 'threshold': 0.36}. Best is trial 3 with value: 0.9690672519477795.\n",
      "[I 2025-07-01 08:36:54,848] Trial 14 finished with value: 0.9677177242824623 and parameters: {'solver_penalty': ('liblinear', 'l2'), 'C': 6.3487506617696665, 'tol': 0.09380442356195033, 'fit_intercept': False, 'class_weight': None, 'threshold': 0.166}. Best is trial 3 with value: 0.9690672519477795.\n",
      "[I 2025-07-01 08:36:56,220] Trial 12 finished with value: 0.9671237863723938 and parameters: {'solver_penalty': ('lbfgs', 'l2'), 'C': 5.252430775603068, 'tol': 0.01483046220855201, 'fit_intercept': True, 'class_weight': 'balanced', 'threshold': 0.264}. Best is trial 3 with value: 0.9690672519477795.\n",
      "[I 2025-07-01 08:36:57,479] Trial 17 finished with value: 0.9687973901359147 and parameters: {'solver_penalty': ('newton-cholesky', None), 'C': 5.313553319682556, 'tol': 0.07656357837864523, 'fit_intercept': False, 'class_weight': None, 'threshold': 0.34600000000000003}. Best is trial 3 with value: 0.9690672519477795.\n",
      "[I 2025-07-01 08:36:57,806] Trial 16 finished with value: 0.31904432746594846 and parameters: {'solver_penalty': ('newton-cholesky', 'l2'), 'C': 4.612442093384042, 'tol': 0.0682761049157943, 'fit_intercept': True, 'class_weight': 'balanced', 'threshold': 0.03}. Best is trial 3 with value: 0.9690672519477795.\n",
      "[I 2025-07-01 08:36:58,119] Trial 15 finished with value: 0.9689053086279413 and parameters: {'solver_penalty': ('newton-cg', 'l2'), 'C': 3.4052671627853814, 'tol': 0.05761364032172383, 'fit_intercept': False, 'class_weight': 'balanced', 'threshold': 0.651}. Best is trial 3 with value: 0.9690672519477795.\n",
      "[I 2025-07-01 08:36:59,736] Trial 18 finished with value: 0.9689053086279413 and parameters: {'solver_penalty': ('newton-cg', None), 'C': 7.40185178166708, 'tol': 0.07605086534894372, 'fit_intercept': False, 'class_weight': 'balanced', 'threshold': 0.591}. Best is trial 3 with value: 0.9690672519477795.\n",
      "[I 2025-07-01 08:37:00,077] Trial 19 finished with value: 0.9401318631351596 and parameters: {'solver_penalty': ('newton-cholesky', 'l2'), 'C': 3.5811897917033297, 'tol': 0.08170111163896913, 'fit_intercept': False, 'class_weight': None, 'threshold': 0.908}. Best is trial 3 with value: 0.9690672519477795.\n",
      "[I 2025-07-01 08:37:01,233] Trial 21 finished with value: 0.9689053523491399 and parameters: {'solver_penalty': ('newton-cholesky', None), 'C': 4.14452119519146, 'tol': 0.04141871591909482, 'fit_intercept': True, 'class_weight': None, 'threshold': 0.365}. Best is trial 3 with value: 0.9690672519477795.\n",
      "[I 2025-07-01 08:37:01,746] Trial 20 finished with value: 0.9689053232016743 and parameters: {'solver_penalty': ('lbfgs', None), 'C': 4.444061724609256, 'tol': 0.09652747614381121, 'fit_intercept': True, 'class_weight': 'balanced', 'threshold': 0.453}. Best is trial 3 with value: 0.9690672519477795.\n",
      "[I 2025-07-01 08:37:02,591] Trial 22 finished with value: 0.9578385988230254 and parameters: {'solver_penalty': ('lbfgs', 'l2'), 'C': 1.2505373168708755, 'tol': 0.037332874932069854, 'fit_intercept': False, 'class_weight': None, 'threshold': 0.871}. Best is trial 3 with value: 0.9690672519477795.\n",
      "[I 2025-07-01 08:37:04,395] Trial 23 finished with value: 0.9689053232016743 and parameters: {'solver_penalty': ('lbfgs', 'l2'), 'C': 6.068271941338143, 'tol': 0.04060689473241545, 'fit_intercept': False, 'class_weight': 'balanced', 'threshold': 0.466}. Best is trial 3 with value: 0.9690672519477795.\n",
      "[I 2025-07-01 08:37:04,736] Trial 26 finished with value: 0.7395270969415564 and parameters: {'solver_penalty': ('liblinear', 'l2'), 'C': 3.5696455955505044, 'tol': 0.05523018009168759, 'fit_intercept': False, 'class_weight': None, 'threshold': 0.991}. Best is trial 3 with value: 0.9690672519477795.\n",
      "[I 2025-07-01 08:37:04,903] Trial 24 finished with value: 0.9672858025608964 and parameters: {'solver_penalty': ('lbfgs', None), 'C': 8.686300776896253, 'tol': 0.06539173093306606, 'fit_intercept': False, 'class_weight': 'balanced', 'threshold': 0.14300000000000002}. Best is trial 3 with value: 0.9690672519477795.\n",
      "[I 2025-07-01 08:37:05,230] Trial 25 finished with value: 0.9689053232016743 and parameters: {'solver_penalty': ('newton-cg', None), 'C': 6.338795694027823, 'tol': 0.04813862985497182, 'fit_intercept': False, 'class_weight': None, 'threshold': 0.451}. Best is trial 3 with value: 0.9690672519477795.\n",
      "[I 2025-07-01 08:37:07,037] Trial 28 finished with value: 0.9690672665215121 and parameters: {'solver_penalty': ('liblinear', 'l1'), 'C': 4.468130283068227, 'tol': 0.08060512289490752, 'fit_intercept': False, 'class_weight': 'balanced', 'threshold': 0.487}. Best is trial 28 with value: 0.9690672665215121.\n",
      "[I 2025-07-01 08:37:08,019] Trial 27 finished with value: 0.9686354613898095 and parameters: {'solver_penalty': ('newton-cholesky', None), 'C': 3.2565562277484537, 'tol': 0.03611519381692851, 'fit_intercept': True, 'class_weight': 'balanced', 'threshold': 0.442}. Best is trial 28 with value: 0.9690672665215121.\n",
      "[I 2025-07-01 08:37:08,554] Trial 29 finished with value: 0.9689053232016743 and parameters: {'solver_penalty': ('lbfgs', 'l2'), 'C': 7.171698595357804, 'tol': 0.05495243630050945, 'fit_intercept': True, 'class_weight': 'balanced', 'threshold': 0.47400000000000003}. Best is trial 28 with value: 0.9690672665215121.\n",
      "[I 2025-07-01 08:37:08,744] Trial 30 finished with value: 0.9678256427744889 and parameters: {'solver_penalty': ('newton-cg', None), 'C': 5.976886219574804, 'tol': 0.09517518897070112, 'fit_intercept': True, 'class_weight': None, 'threshold': 0.75}. Best is trial 28 with value: 0.9690672665215121.\n",
      "[I 2025-07-01 08:37:11,077] Trial 31 finished with value: 0.966206122133711 and parameters: {'solver_penalty': ('lbfgs', None), 'C': 1.8482135378825337, 'tol': 0.08295188497739518, 'fit_intercept': True, 'class_weight': 'balanced', 'threshold': 0.8160000000000001}. Best is trial 28 with value: 0.9690672665215121.\n",
      "[I 2025-07-01 08:37:11,253] Trial 33 finished with value: 0.9655583780018245 and parameters: {'solver_penalty': ('liblinear', 'l2'), 'C': 2.3625906492231508, 'tol': 0.028283106140304826, 'fit_intercept': True, 'class_weight': None, 'threshold': 0.8280000000000001}. Best is trial 28 with value: 0.9690672665215121.\n",
      "[I 2025-07-01 08:37:12,608] Trial 32 finished with value: 0.7395270969415564 and parameters: {'solver_penalty': ('lbfgs', 'l2'), 'C': 2.460086097053229, 'tol': 0.05552401044911896, 'fit_intercept': True, 'class_weight': 'balanced', 'threshold': 0.996}. Best is trial 28 with value: 0.9690672665215121.\n",
      "[I 2025-07-01 08:37:13,144] Trial 34 finished with value: 0.9689593480294855 and parameters: {'solver_penalty': ('lbfgs', None), 'C': 8.752154588053072, 'tol': 0.008145688327934796, 'fit_intercept': False, 'class_weight': None, 'threshold': 0.317}. Best is trial 28 with value: 0.9690672665215121.\n",
      "[I 2025-07-01 08:37:13,614] Trial 35 finished with value: 0.9686354468160765 and parameters: {'solver_penalty': ('liblinear', 'l1'), 'C': 0.00270534915419951, 'tol': 0.0739357180906832, 'fit_intercept': False, 'class_weight': 'balanced', 'threshold': 0.337}. Best is trial 28 with value: 0.9690672665215121.\n",
      "[I 2025-07-01 08:37:14,434] Trial 36 finished with value: 0.9684194495209614 and parameters: {'solver_penalty': ('lbfgs', 'l2'), 'C': 3.2518318203831207, 'tol': 0.06042054004940574, 'fit_intercept': False, 'class_weight': None, 'threshold': 0.736}. Best is trial 28 with value: 0.9690672665215121.\n",
      "[I 2025-07-01 08:37:16,246] Trial 37 finished with value: 0.968149543987898 and parameters: {'solver_penalty': ('newton-cholesky', 'l2'), 'C': 5.254407229669578, 'tol': 0.09289497443375774, 'fit_intercept': True, 'class_weight': 'balanced', 'threshold': 0.358}. Best is trial 28 with value: 0.9690672665215121.\n",
      "[I 2025-07-01 08:37:16,417] Trial 38 finished with value: 0.9686354468160765 and parameters: {'solver_penalty': ('newton-cholesky', 'l2'), 'C': 9.235708105963074, 'tol': 0.04951390655121785, 'fit_intercept': True, 'class_weight': None, 'threshold': 0.339}. Best is trial 28 with value: 0.9690672665215121.\n",
      "[I 2025-07-01 08:37:17,088] Trial 40 finished with value: 0.9682035396682436 and parameters: {'solver_penalty': ('liblinear', 'l2'), 'C': 7.507089518999001, 'tol': 0.004777770130303971, 'fit_intercept': True, 'class_weight': None, 'threshold': 0.725}. Best is trial 28 with value: 0.9690672665215121.\n",
      "[I 2025-07-01 08:37:17,730] Trial 39 finished with value: 0.9690672665215123 and parameters: {'solver_penalty': ('lbfgs', None), 'C': 9.11524490977121, 'tol': 0.06341285187204443, 'fit_intercept': False, 'class_weight': 'balanced', 'threshold': 0.559}. Best is trial 39 with value: 0.9690672665215123.\n",
      "[I 2025-07-01 08:37:19,265] Trial 42 finished with value: 0.967177840347671 and parameters: {'solver_penalty': ('liblinear', 'l2'), 'C': 6.803740857577981, 'tol': 0.06917357113593757, 'fit_intercept': True, 'class_weight': None, 'threshold': 0.772}. Best is trial 39 with value: 0.9690672665215123.\n",
      "[I 2025-07-01 08:37:19,592] Trial 43 finished with value: 0.8599662472346342 and parameters: {'solver_penalty': ('liblinear', 'l1'), 'C': 6.111178560105094, 'tol': 0.04656650275979096, 'fit_intercept': True, 'class_weight': None, 'threshold': 0.9540000000000001}. Best is trial 39 with value: 0.9690672665215123.\n",
      "[I 2025-07-01 08:37:20,547] Trial 44 finished with value: 0.9686354468160765 and parameters: {'solver_penalty': ('liblinear', 'l1'), 'C': 8.151955692923153, 'tol': 0.0841232902889544, 'fit_intercept': False, 'class_weight': 'balanced', 'threshold': 0.279}. Best is trial 39 with value: 0.9690672665215123.\n",
      "[I 2025-07-01 08:37:20,869] Trial 41 finished with value: 0.9673397982412417 and parameters: {'solver_penalty': ('newton-cg', None), 'C': 8.73824558122823, 'tol': 0.06356945715523421, 'fit_intercept': False, 'class_weight': None, 'threshold': 0.773}. Best is trial 39 with value: 0.9690672665215123.\n",
      "[I 2025-07-01 08:37:21,362] Trial 45 finished with value: 0.9686894279226891 and parameters: {'solver_penalty': ('liblinear', 'l1'), 'C': 2.8002021722435844, 'tol': 0.09082897100368689, 'fit_intercept': False, 'class_weight': None, 'threshold': 0.305}. Best is trial 39 with value: 0.9690672665215123.\n",
      "[I 2025-07-01 08:37:23,131] Trial 46 finished with value: 0.6618410268069244 and parameters: {'solver_penalty': ('lbfgs', None), 'C': 6.437899513292318, 'tol': 0.04622768211916161, 'fit_intercept': True, 'class_weight': None, 'threshold': 0.024}. Best is trial 39 with value: 0.9690672665215123.\n",
      "[I 2025-07-01 08:37:23,486] Trial 48 finished with value: 0.9689053669228729 and parameters: {'solver_penalty': ('lbfgs', 'l2'), 'C': 8.635298868956909, 'tol': 0.07278617226057656, 'fit_intercept': False, 'class_weight': None, 'threshold': 0.307}. Best is trial 39 with value: 0.9690672665215123.\n",
      "[I 2025-07-01 08:37:24,783] Trial 47 finished with value: 0.7395270969415564 and parameters: {'solver_penalty': ('newton-cg', 'l2'), 'C': 3.8047656978065145, 'tol': 0.04462716944930235, 'fit_intercept': True, 'class_weight': 'balanced', 'threshold': 0.987}. Best is trial 39 with value: 0.9690672665215123.\n",
      "[I 2025-07-01 08:37:25,124] Trial 49 finished with value: 0.9689053232016743 and parameters: {'solver_penalty': ('lbfgs', None), 'C': 6.056924140748662, 'tol': 0.034255210994033065, 'fit_intercept': False, 'class_weight': 'balanced', 'threshold': 0.467}. Best is trial 39 with value: 0.9690672665215123.\n",
      "[I 2025-07-01 08:37:25,365] Trial 51 finished with value: 0.8769158483515651 and parameters: {'solver_penalty': ('liblinear', 'l2'), 'C': 7.357982426605946, 'tol': 0.05574091076024963, 'fit_intercept': False, 'class_weight': None, 'threshold': 0.036000000000000004}. Best is trial 39 with value: 0.9690672665215123.\n",
      "[I 2025-07-01 08:37:27,936] Trial 52 finished with value: 0.9689593043082869 and parameters: {'solver_penalty': ('newton-cholesky', None), 'C': 5.8005613732679775, 'tol': 0.08852623857766825, 'fit_intercept': True, 'class_weight': 'balanced', 'threshold': 0.798}. Best is trial 39 with value: 0.9690672665215123.\n",
      "[I 2025-07-01 08:37:28,316] Trial 53 finished with value: 0.9687973901359147 and parameters: {'solver_penalty': ('lbfgs', None), 'C': 7.849520280679265, 'tol': 0.011382428631602538, 'fit_intercept': False, 'class_weight': None, 'threshold': 0.343}. Best is trial 39 with value: 0.9690672665215123.\n",
      "[I 2025-07-01 08:37:28,533] Trial 54 finished with value: 0.9685274846028511 and parameters: {'solver_penalty': ('lbfgs', None), 'C': 8.094371200621683, 'tol': 0.02217844373116482, 'fit_intercept': False, 'class_weight': None, 'threshold': 0.188}. Best is trial 39 with value: 0.9690672665215123.\n",
      "[I 2025-07-01 08:37:29,458] Trial 50 finished with value: 0.968149529414165 and parameters: {'solver_penalty': ('newton-cg', None), 'C': 2.314351684940228, 'tol': 0.017922097865843485, 'fit_intercept': True, 'class_weight': 'balanced', 'threshold': 0.299}. Best is trial 39 with value: 0.9690672665215123.\n",
      "[I 2025-07-01 08:37:31,175] Trial 55 finished with value: 0.9685814657094639 and parameters: {'solver_penalty': ('lbfgs', None), 'C': 8.241586119141884, 'tol': 0.0181034628458902, 'fit_intercept': False, 'class_weight': None, 'threshold': 0.195}. Best is trial 39 with value: 0.9690672665215123.\n",
      "[I 2025-07-01 08:37:31,355] Trial 56 finished with value: 0.9688513712425273 and parameters: {'solver_penalty': ('lbfgs', 'l2'), 'C': 7.700686146639924, 'tol': 0.06862695436542636, 'fit_intercept': False, 'class_weight': None, 'threshold': 0.29}. Best is trial 39 with value: 0.9690672665215123.\n",
      "[I 2025-07-01 08:37:32,042] Trial 57 finished with value: 0.9663681528959465 and parameters: {'solver_penalty': ('newton-cholesky', None), 'C': 6.3597798888122, 'tol': 0.08335628398027002, 'fit_intercept': True, 'class_weight': 'balanced', 'threshold': 0.916}. Best is trial 39 with value: 0.9690672665215123.\n",
      "[I 2025-07-01 08:37:32,522] Trial 58 finished with value: 0.9689053232016743 and parameters: {'solver_penalty': ('lbfgs', 'l2'), 'C': 9.44319758892179, 'tol': 0.06438685380181487, 'fit_intercept': False, 'class_weight': None, 'threshold': 0.428}. Best is trial 39 with value: 0.9690672665215123.\n",
      "[I 2025-07-01 08:37:34,931] Trial 62 finished with value: 0.9690672665215123 and parameters: {'solver_penalty': ('liblinear', 'l2'), 'C': 4.610496764201901, 'tol': 0.09534649489492975, 'fit_intercept': False, 'class_weight': 'balanced', 'threshold': 0.525}. Best is trial 39 with value: 0.9690672665215123.\n",
      "[I 2025-07-01 08:37:35,242] Trial 60 finished with value: 0.9688513420950615 and parameters: {'solver_penalty': ('newton-cholesky', None), 'C': 4.697040018738157, 'tol': 0.08657248884137278, 'fit_intercept': True, 'class_weight': 'balanced', 'threshold': 0.809}. Best is trial 39 with value: 0.9690672665215123.\n",
      "[I 2025-07-01 08:37:35,251] Trial 59 finished with value: 0.9683115164552019 and parameters: {'solver_penalty': ('newton-cholesky', None), 'C': 5.574793710642535, 'tol': 0.0799392983448125, 'fit_intercept': True, 'class_weight': 'balanced', 'threshold': 0.856}. Best is trial 39 with value: 0.9690672665215123.\n",
      "[I 2025-07-01 08:37:35,471] Trial 61 finished with value: 0.9690132708411667 and parameters: {'solver_penalty': ('newton-cholesky', 'l2'), 'C': 3.0738945139150133, 'tol': 0.06371027375235905, 'fit_intercept': True, 'class_weight': None, 'threshold': 0.531}. Best is trial 39 with value: 0.9690672665215123.\n",
      "[I 2025-07-01 08:37:38,123] Trial 63 finished with value: 0.9689593043082869 and parameters: {'solver_penalty': ('liblinear', 'l2'), 'C': 3.147125862156085, 'tol': 0.08264390800357055, 'fit_intercept': False, 'class_weight': 'balanced', 'threshold': 0.47300000000000003}. Best is trial 39 with value: 0.9690672665215123.\n",
      "[I 2025-07-01 08:37:38,124] Trial 64 finished with value: 0.9691212476281251 and parameters: {'solver_penalty': ('liblinear', 'l2'), 'C': 5.052844023453167, 'tol': 0.0744579852214247, 'fit_intercept': False, 'class_weight': 'balanced', 'threshold': 0.549}. Best is trial 64 with value: 0.9691212476281251.\n",
      "[I 2025-07-01 08:37:38,329] Trial 66 finished with value: 0.9690132854148995 and parameters: {'solver_penalty': ('liblinear', 'l2'), 'C': 3.7824931135608333, 'tol': 0.09776137843973157, 'fit_intercept': False, 'class_weight': 'balanced', 'threshold': 0.521}. Best is trial 64 with value: 0.9691212476281251.\n",
      "[I 2025-07-01 08:37:38,852] Trial 65 finished with value: 0.9690132708411667 and parameters: {'solver_penalty': ('newton-cholesky', 'l2'), 'C': 3.2472818721767154, 'tol': 0.03283411078099132, 'fit_intercept': True, 'class_weight': None, 'threshold': 0.491}. Best is trial 64 with value: 0.9691212476281251.\n",
      "[I 2025-07-01 08:37:41,244] Trial 67 finished with value: 0.9688513420950615 and parameters: {'solver_penalty': ('newton-cholesky', 'l2'), 'C': 2.2192321726361475, 'tol': 0.0763864290240423, 'fit_intercept': True, 'class_weight': None, 'threshold': 0.664}. Best is trial 64 with value: 0.9691212476281251.\n",
      "[I 2025-07-01 08:37:41,624] Trial 70 finished with value: 0.9689053232016743 and parameters: {'solver_penalty': ('liblinear', 'l2'), 'C': 9.770520560918055, 'tol': 0.06727164270371772, 'fit_intercept': False, 'class_weight': 'balanced', 'threshold': 0.638}. Best is trial 64 with value: 0.9691212476281251.\n",
      "[I 2025-07-01 08:37:41,811] Trial 68 finished with value: 0.9690132999886325 and parameters: {'solver_penalty': ('newton-cholesky', 'l2'), 'C': 2.182159685938278, 'tol': 0.01837783553467281, 'fit_intercept': True, 'class_weight': None, 'threshold': 0.365}. Best is trial 64 with value: 0.9691212476281251.\n",
      "[I 2025-07-01 08:37:42,156] Trial 69 finished with value: 0.9690132999886325 and parameters: {'solver_penalty': ('newton-cholesky', 'l2'), 'C': 2.49885360991194, 'tol': 0.02954427028450736, 'fit_intercept': True, 'class_weight': None, 'threshold': 0.36}. Best is trial 64 with value: 0.9691212476281251.\n",
      "[I 2025-07-01 08:37:44,173] Trial 71 finished with value: 0.9689592897345541 and parameters: {'solver_penalty': ('liblinear', 'l2'), 'C': 3.5439072693059996, 'tol': 0.09957982373557761, 'fit_intercept': False, 'class_weight': None, 'threshold': 0.5680000000000001}. Best is trial 64 with value: 0.9691212476281251.\n",
      "[I 2025-07-01 08:37:44,672] Trial 72 finished with value: 0.9687973318409832 and parameters: {'solver_penalty': ('liblinear', 'l1'), 'C': 3.2255259497392936, 'tol': 0.0913426200844876, 'fit_intercept': False, 'class_weight': 'balanced', 'threshold': 0.609}. Best is trial 64 with value: 0.9691212476281251.\n",
      "[I 2025-07-01 08:37:45,011] Trial 73 finished with value: 0.9641547817874976 and parameters: {'solver_penalty': ('liblinear', 'l2'), 'C': 5.4402389963593425, 'tol': 0.07527764150112425, 'fit_intercept': False, 'class_weight': 'balanced', 'threshold': 0.81}. Best is trial 64 with value: 0.9691212476281251.\n",
      "[I 2025-07-01 08:37:45,346] Trial 74 finished with value: 0.9687973464147162 and parameters: {'solver_penalty': ('liblinear', 'l1'), 'C': 3.431167455191585, 'tol': 0.07363133459699579, 'fit_intercept': False, 'class_weight': 'balanced', 'threshold': 0.687}. Best is trial 64 with value: 0.9691212476281251.\n",
      "[I 2025-07-01 08:37:46,715] Trial 75 finished with value: 0.9683654829880817 and parameters: {'solver_penalty': ('liblinear', 'l1'), 'C': 4.380309334683686, 'tol': 0.09214166245290631, 'fit_intercept': False, 'class_weight': 'balanced', 'threshold': 0.714}. Best is trial 64 with value: 0.9691212476281251.\n",
      "[I 2025-07-01 08:37:48,915] Trial 76 finished with value: 0.9690132708411667 and parameters: {'solver_penalty': ('lbfgs', None), 'C': 8.568197295212787, 'tol': 0.06417949572337431, 'fit_intercept': False, 'class_weight': 'balanced', 'threshold': 0.584}. Best is trial 64 with value: 0.9691212476281251.\n",
      "[I 2025-07-01 08:37:49,114] Trial 79 finished with value: 0.9687434236030347 and parameters: {'solver_penalty': ('liblinear', 'l1'), 'C': 0.4045159214964731, 'tol': 0.022103869586559206, 'fit_intercept': True, 'class_weight': None, 'threshold': 0.319}. Best is trial 64 with value: 0.9691212476281251.\n",
      "[I 2025-07-01 08:37:49,462] Trial 78 finished with value: 0.9689053232016743 and parameters: {'solver_penalty': ('lbfgs', 'l2'), 'C': 4.784996135304652, 'tol': 0.09500549354650795, 'fit_intercept': False, 'class_weight': 'balanced', 'threshold': 0.433}. Best is trial 64 with value: 0.9691212476281251.\n",
      "[I 2025-07-01 08:37:49,484] Trial 77 finished with value: 0.9684734306275742 and parameters: {'solver_penalty': ('lbfgs', None), 'C': 8.994742612754889, 'tol': 0.05786263851865756, 'fit_intercept': False, 'class_weight': 'balanced', 'threshold': 0.727}. Best is trial 64 with value: 0.9691212476281251.\n",
      "[I 2025-07-01 08:37:52,246] Trial 80 finished with value: 0.9685814657094639 and parameters: {'solver_penalty': ('newton-cholesky', 'l2'), 'C': 0.2422833553168504, 'tol': 0.0241025499511872, 'fit_intercept': True, 'class_weight': None, 'threshold': 0.195}. Best is trial 64 with value: 0.9691212476281251.\n",
      "[I 2025-07-01 08:37:52,439] Trial 83 finished with value: 0.9690132999886325 and parameters: {'solver_penalty': ('newton-cholesky', 'l2'), 'C': 3.126045379539993, 'tol': 0.028215069755121093, 'fit_intercept': False, 'class_weight': None, 'threshold': 0.397}. Best is trial 64 with value: 0.9691212476281251.\n",
      "[I 2025-07-01 08:37:52,633] Trial 82 finished with value: 0.9394837692336839 and parameters: {'solver_penalty': ('newton-cg', 'l2'), 'C': 2.555462347308569, 'tol': 0.03768876241226863, 'fit_intercept': True, 'class_weight': None, 'threshold': 0.067}. Best is trial 64 with value: 0.9691212476281251.\n",
      "[I 2025-07-01 08:37:52,973] Trial 81 finished with value: 0.9688513712425273 and parameters: {'solver_penalty': ('newton-cg', 'l2'), 'C': 2.6918217278839833, 'tol': 0.09777554395593517, 'fit_intercept': False, 'class_weight': 'balanced', 'threshold': 0.35000000000000003}. Best is trial 64 with value: 0.9691212476281251.\n",
      "[I 2025-07-01 08:37:54,862] Trial 84 finished with value: 0.9689593043082869 and parameters: {'solver_penalty': ('liblinear', 'l2'), 'C': 6.564569419174554, 'tol': 0.09242358276674023, 'fit_intercept': False, 'class_weight': 'balanced', 'threshold': 0.47800000000000004}. Best is trial 64 with value: 0.9691212476281251.\n",
      "[I 2025-07-01 08:37:55,534] Trial 87 finished with value: 0.9689593043082869 and parameters: {'solver_penalty': ('liblinear', 'l2'), 'C': 6.116848912031843, 'tol': 0.09654533084997191, 'fit_intercept': False, 'class_weight': 'balanced', 'threshold': 0.484}. Best is trial 64 with value: 0.9691212476281251.\n",
      "[I 2025-07-01 08:37:56,010] Trial 85 finished with value: 0.9686894279226893 and parameters: {'solver_penalty': ('newton-cholesky', 'l2'), 'C': 3.222439507557034, 'tol': 0.026817428274794705, 'fit_intercept': False, 'class_weight': None, 'threshold': 0.309}. Best is trial 64 with value: 0.9691212476281251.\n",
      "[I 2025-07-01 08:37:56,361] Trial 86 finished with value: 0.9690132999886325 and parameters: {'solver_penalty': ('newton-cholesky', 'l2'), 'C': 2.283008726512132, 'tol': 0.015246285670029452, 'fit_intercept': False, 'class_weight': None, 'threshold': 0.397}. Best is trial 64 with value: 0.9691212476281251.\n",
      "[I 2025-07-01 08:37:57,838] Trial 88 finished with value: 0.9688513712425273 and parameters: {'solver_penalty': ('newton-cholesky', 'l2'), 'C': 3.3689588573055147, 'tol': 0.04342745797460729, 'fit_intercept': False, 'class_weight': None, 'threshold': 0.353}. Best is trial 64 with value: 0.9691212476281251.\n",
      "[I 2025-07-01 08:37:59,219] Trial 89 finished with value: 0.9690672519477793 and parameters: {'solver_penalty': ('newton-cholesky', 'l2'), 'C': 3.555074346225931, 'tol': 0.036822364462810925, 'fit_intercept': False, 'class_weight': None, 'threshold': 0.459}. Best is trial 64 with value: 0.9691212476281251.\n",
      "[I 2025-07-01 08:37:59,468] Trial 90 finished with value: 0.9686894424964221 and parameters: {'solver_penalty': ('newton-cholesky', 'l2'), 'C': 4.432481283443254, 'tol': 0.006285319553104657, 'fit_intercept': True, 'class_weight': None, 'threshold': 0.252}. Best is trial 64 with value: 0.9691212476281251.\n",
      "[I 2025-07-01 08:37:59,669] Trial 91 finished with value: 0.9689053232016743 and parameters: {'solver_penalty': ('lbfgs', 'l2'), 'C': 4.177575072838113, 'tol': 0.013999084003462116, 'fit_intercept': False, 'class_weight': None, 'threshold': 0.455}. Best is trial 64 with value: 0.9691212476281251.\n",
      "[I 2025-07-01 08:38:02,133] Trial 92 finished with value: 0.9689053232016743 and parameters: {'solver_penalty': ('lbfgs', 'l2'), 'C': 1.7102391606880816, 'tol': 0.004840838910778611, 'fit_intercept': False, 'class_weight': None, 'threshold': 0.491}. Best is trial 64 with value: 0.9691212476281251.\n",
      "[I 2025-07-01 08:38:02,500] Trial 93 finished with value: 0.9646405097308813 and parameters: {'solver_penalty': ('newton-cholesky', 'l2'), 'C': 2.0197226435709914, 'tol': 0.029928076359607963, 'fit_intercept': True, 'class_weight': 'balanced', 'threshold': 0.23900000000000002}. Best is trial 64 with value: 0.9691212476281251.\n",
      "[I 2025-07-01 08:38:02,993] Trial 94 finished with value: 0.9687973609884487 and parameters: {'solver_penalty': ('lbfgs', 'l2'), 'C': 2.310672575142563, 'tol': 0.031624083794201244, 'fit_intercept': True, 'class_weight': None, 'threshold': 0.41300000000000003}. Best is trial 64 with value: 0.9691212476281251.\n",
      "[I 2025-07-01 08:38:03,646] Trial 95 finished with value: 0.9689593043082869 and parameters: {'solver_penalty': ('newton-cg', 'l2'), 'C': 1.8146618973895636, 'tol': 0.012626124476585475, 'fit_intercept': False, 'class_weight': None, 'threshold': 0.516}. Best is trial 64 with value: 0.9691212476281251.\n",
      "[I 2025-07-01 08:38:04,306] Trial 96 finished with value: 0.9691212330543921 and parameters: {'solver_penalty': ('liblinear', 'l1'), 'C': 2.1061702144691554, 'tol': 0.038670318270047015, 'fit_intercept': False, 'class_weight': None, 'threshold': 0.523}. Best is trial 64 with value: 0.9691212476281251.\n",
      "[I 2025-07-01 08:38:06,218] Trial 97 finished with value: 0.9687973609884487 and parameters: {'solver_penalty': ('newton-cholesky', 'l2'), 'C': 2.3896825621440905, 'tol': 0.013834637407949636, 'fit_intercept': False, 'class_weight': None, 'threshold': 0.664}. Best is trial 64 with value: 0.9691212476281251.\n",
      "[I 2025-07-01 08:38:06,546] Trial 98 finished with value: 0.9687433798818361 and parameters: {'solver_penalty': ('newton-cholesky', 'l2'), 'C': 3.770918464218912, 'tol': 0.023690161262688147, 'fit_intercept': False, 'class_weight': None, 'threshold': 0.664}. Best is trial 64 with value: 0.9691212476281251.\n",
      "[I 2025-07-01 08:38:06,888] Trial 100 finished with value: 0.9689053086279413 and parameters: {'solver_penalty': ('liblinear', 'l2'), 'C': 0.32265578290700625, 'tol': 0.03361035737134615, 'fit_intercept': False, 'class_weight': None, 'threshold': 0.673}. Best is trial 64 with value: 0.9691212476281251.\n",
      "[I 2025-07-01 08:38:07,246] Trial 99 finished with value: 0.9689593043082869 and parameters: {'solver_penalty': ('newton-cholesky', 'l2'), 'C': 2.2254718549696553, 'tol': 0.025061449803467487, 'fit_intercept': False, 'class_weight': None, 'threshold': 0.624}. Best is trial 64 with value: 0.9691212476281251.\n",
      "[I 2025-07-01 08:38:08,821] Trial 101 finished with value: 0.9690132999886325 and parameters: {'solver_penalty': ('liblinear', 'l1'), 'C': 1.9259513641629873, 'tol': 0.03887328417547559, 'fit_intercept': False, 'class_weight': None, 'threshold': 0.396}. Best is trial 64 with value: 0.9691212476281251.\n",
      "[I 2025-07-01 08:38:09,627] Trial 103 finished with value: 0.9686894279226893 and parameters: {'solver_penalty': ('liblinear', 'l1'), 'C': 2.7420433678293357, 'tol': 0.04157469506797327, 'fit_intercept': False, 'class_weight': None, 'threshold': 0.273}. Best is trial 64 with value: 0.9691212476281251.\n",
      "[I 2025-07-01 08:38:09,975] Trial 104 finished with value: 0.9686894279226893 and parameters: {'solver_penalty': ('liblinear', 'l1'), 'C': 1.5235118086294968, 'tol': 0.045586034508510856, 'fit_intercept': False, 'class_weight': None, 'threshold': 0.272}. Best is trial 64 with value: 0.9691212476281251.\n",
      "[I 2025-07-01 08:38:11,467] Trial 102 finished with value: 0.9687973901359147 and parameters: {'solver_penalty': ('newton-cg', 'l2'), 'C': 5.6707470355191365, 'tol': 0.05231693007140858, 'fit_intercept': False, 'class_weight': 'balanced', 'threshold': 0.364}. Best is trial 64 with value: 0.9691212476281251.\n",
      "[I 2025-07-01 08:38:12,300] Trial 106 finished with value: 0.9690672665215121 and parameters: {'solver_penalty': ('liblinear', 'l1'), 'C': 5.180932614455779, 'tol': 0.057297423693481606, 'fit_intercept': False, 'class_weight': 'balanced', 'threshold': 0.481}. Best is trial 64 with value: 0.9691212476281251.\n",
      "[I 2025-07-01 08:38:12,682] Trial 105 finished with value: 0.9687973901359147 and parameters: {'solver_penalty': ('lbfgs', None), 'C': 3.1800423197467964, 'tol': 0.018954857999045605, 'fit_intercept': True, 'class_weight': None, 'threshold': 0.336}. Best is trial 64 with value: 0.9691212476281251.\n",
      "[I 2025-07-01 08:38:13,699] Trial 107 finished with value: 0.9686894133489563 and parameters: {'solver_penalty': ('newton-cholesky', None), 'C': 1.7037506801236146, 'tol': 0.005762341715825618, 'fit_intercept': False, 'class_weight': None, 'threshold': 0.319}. Best is trial 64 with value: 0.9691212476281251.\n",
      "[I 2025-07-01 08:38:15,132] Trial 109 finished with value: 0.9688513420950615 and parameters: {'solver_penalty': ('liblinear', 'l1'), 'C': 7.046270589935715, 'tol': 0.031038781157681997, 'fit_intercept': False, 'class_weight': 'balanced', 'threshold': 0.649}. Best is trial 64 with value: 0.9691212476281251.\n",
      "[I 2025-07-01 08:38:15,631] Trial 110 finished with value: 0.9688513420950615 and parameters: {'solver_penalty': ('liblinear', 'l1'), 'C': 6.652939754234542, 'tol': 0.04383822758037084, 'fit_intercept': False, 'class_weight': 'balanced', 'threshold': 0.41000000000000003}. Best is trial 64 with value: 0.9691212476281251.\n",
      "[I 2025-07-01 08:38:15,977] Trial 108 finished with value: 0.9686894133489563 and parameters: {'solver_penalty': ('newton-cholesky', 'l2'), 'C': 3.5993492514210472, 'tol': 0.049166384132914256, 'fit_intercept': False, 'class_weight': 'balanced', 'threshold': 0.331}. Best is trial 64 with value: 0.9691212476281251.\n",
      "[I 2025-07-01 08:38:16,789] Trial 111 finished with value: 0.9691752287347377 and parameters: {'solver_penalty': ('liblinear', 'l1'), 'C': 1.0394190130920928, 'tol': 0.029997861518718395, 'fit_intercept': False, 'class_weight': 'balanced', 'threshold': 0.551}. Best is trial 111 with value: 0.9691752287347377.\n",
      "[I 2025-07-01 08:38:17,778] Trial 112 finished with value: 0.9691752433084705 and parameters: {'solver_penalty': ('liblinear', 'l1'), 'C': 5.02699713112543, 'tol': 0.05239176660226217, 'fit_intercept': False, 'class_weight': 'balanced', 'threshold': 0.508}. Best is trial 112 with value: 0.9691752433084705.\n",
      "[I 2025-07-01 08:38:18,748] Trial 113 finished with value: 0.9672318360280165 and parameters: {'solver_penalty': ('liblinear', 'l1'), 'C': 4.916666647165966, 'tol': 0.0456410290819359, 'fit_intercept': True, 'class_weight': 'balanced', 'threshold': 0.28500000000000003}. Best is trial 112 with value: 0.9691752433084705.\n",
      "[I 2025-07-01 08:38:19,648] Trial 115 finished with value: 0.9690672519477795 and parameters: {'solver_penalty': ('liblinear', 'l1'), 'C': 2.0731783106335495, 'tol': 0.026478491775324242, 'fit_intercept': False, 'class_weight': 'balanced', 'threshold': 0.5700000000000001}. Best is trial 112 with value: 0.9691752433084705.\n",
      "[I 2025-07-01 08:38:20,381] Trial 116 finished with value: 0.9689053232016743 and parameters: {'solver_penalty': ('liblinear', 'l1'), 'C': 4.210781276212518, 'tol': 0.05289758352838948, 'fit_intercept': False, 'class_weight': 'balanced', 'threshold': 0.41200000000000003}. Best is trial 112 with value: 0.9691752433084705.\n",
      "[I 2025-07-01 08:38:21,073] Trial 114 finished with value: 0.9689053232016743 and parameters: {'solver_penalty': ('lbfgs', None), 'C': 8.950702531903264, 'tol': 0.06008177702056174, 'fit_intercept': True, 'class_weight': 'balanced', 'threshold': 0.453}. Best is trial 112 with value: 0.9691752433084705.\n",
      "[I 2025-07-01 08:38:22,399] Trial 118 finished with value: 0.9690672519477793 and parameters: {'solver_penalty': ('liblinear', 'l1'), 'C': 1.2082851624209532, 'tol': 0.012359850550395308, 'fit_intercept': False, 'class_weight': 'balanced', 'threshold': 0.546}. Best is trial 112 with value: 0.9691752433084705.\n",
      "[I 2025-07-01 08:38:22,901] Trial 117 finished with value: 0.9688513275213287 and parameters: {'solver_penalty': ('lbfgs', None), 'C': 0.48671985839944265, 'tol': 0.03129790721456845, 'fit_intercept': False, 'class_weight': 'balanced', 'threshold': 0.653}. Best is trial 112 with value: 0.9691752433084705.\n",
      "[I 2025-07-01 08:38:23,706] Trial 119 finished with value: 0.9685274408816525 and parameters: {'solver_penalty': ('liblinear', 'l1'), 'C': 2.1104584548556, 'tol': 0.0025599278868619485, 'fit_intercept': False, 'class_weight': 'balanced', 'threshold': 0.687}. Best is trial 112 with value: 0.9691752433084705.\n",
      "[I 2025-07-01 08:38:24,200] Trial 120 finished with value: 0.9689593043082869 and parameters: {'solver_penalty': ('liblinear', 'l1'), 'C': 3.005492877908874, 'tol': 0.031743394986549676, 'fit_intercept': False, 'class_weight': 'balanced', 'threshold': 0.626}. Best is trial 112 with value: 0.9691752433084705.\n",
      "[I 2025-07-01 08:38:25,480] Trial 121 finished with value: 0.9690672519477793 and parameters: {'solver_penalty': ('liblinear', 'l1'), 'C': 1.3619013264844055, 'tol': 0.01506534402092471, 'fit_intercept': False, 'class_weight': 'balanced', 'threshold': 0.532}. Best is trial 112 with value: 0.9691752433084705.\n",
      "[I 2025-07-01 08:38:26,423] Trial 122 finished with value: 0.9686893842014908 and parameters: {'solver_penalty': ('liblinear', 'l1'), 'C': 1.8292793418232245, 'tol': 0.022538985740165305, 'fit_intercept': False, 'class_weight': 'balanced', 'threshold': 0.684}. Best is trial 112 with value: 0.9691752433084705.\n",
      "[I 2025-07-01 08:38:26,935] Trial 123 finished with value: 0.9690132708411667 and parameters: {'solver_penalty': ('liblinear', 'l1'), 'C': 1.7027906274115825, 'tol': 0.03050522611189565, 'fit_intercept': False, 'class_weight': 'balanced', 'threshold': 0.538}. Best is trial 112 with value: 0.9691752433084705.\n",
      "[I 2025-07-01 08:38:27,277] Trial 124 finished with value: 0.9687973609884487 and parameters: {'solver_penalty': ('liblinear', 'l1'), 'C': 0.8707782124906531, 'tol': 0.01675114696803434, 'fit_intercept': False, 'class_weight': 'balanced', 'threshold': 0.487}. Best is trial 112 with value: 0.9691752433084705.\n",
      "[I 2025-07-01 08:38:28,260] Trial 125 finished with value: 0.9679876298155257 and parameters: {'solver_penalty': ('liblinear', 'l1'), 'C': 0.34278104084796435, 'tol': 0.009572583663822635, 'fit_intercept': False, 'class_weight': 'balanced', 'threshold': 0.168}. Best is trial 112 with value: 0.9691752433084705.\n",
      "[I 2025-07-01 08:38:29,377] Trial 127 finished with value: 0.9687974047096475 and parameters: {'solver_penalty': ('liblinear', 'l1'), 'C': 0.6592755006597031, 'tol': 0.040998866546510956, 'fit_intercept': True, 'class_weight': 'balanced', 'threshold': 0.523}. Best is trial 112 with value: 0.9691752433084705.\n",
      "[I 2025-07-01 08:38:31,180] Trial 126 finished with value: 0.9689593480294855 and parameters: {'solver_penalty': ('newton-cg', 'l2'), 'C': 1.4166616386156545, 'tol': 0.020252336920341257, 'fit_intercept': False, 'class_weight': 'balanced', 'threshold': 0.311}. Best is trial 112 with value: 0.9691752433084705.\n",
      "[I 2025-07-01 08:38:31,643] Trial 128 finished with value: 0.9690132708411667 and parameters: {'solver_penalty': ('newton-cholesky', None), 'C': 3.7941170904890287, 'tol': 0.013390942104676982, 'fit_intercept': False, 'class_weight': 'balanced', 'threshold': 0.459}. Best is trial 112 with value: 0.9691752433084705.\n",
      "[I 2025-07-01 08:38:31,657] Trial 130 finished with value: 0.9680416109221385 and parameters: {'solver_penalty': ('liblinear', 'l1'), 'C': 4.20374852425648, 'tol': 0.03660083399593699, 'fit_intercept': False, 'class_weight': None, 'threshold': 0.782}. Best is trial 112 with value: 0.9691752433084705.\n",
      "[I 2025-07-01 08:38:32,047] Trial 129 finished with value: 0.9690132854148995 and parameters: {'solver_penalty': ('newton-cholesky', None), 'C': 4.365387298529327, 'tol': 0.06353110655164212, 'fit_intercept': False, 'class_weight': 'balanced', 'threshold': 0.625}. Best is trial 112 with value: 0.9691752433084705.\n",
      "[I 2025-07-01 08:38:33,951] Trial 131 finished with value: 0.968311501881469 and parameters: {'solver_penalty': ('liblinear', 'l1'), 'C': 1.2212087352882928, 'tol': 0.03815375942914785, 'fit_intercept': False, 'class_weight': None, 'threshold': 0.744}. Best is trial 112 with value: 0.9691752433084705.\n",
      "[I 2025-07-01 08:38:34,595] Trial 133 finished with value: 0.9688513420950615 and parameters: {'solver_penalty': ('liblinear', 'l2'), 'C': 0.0535593060632259, 'tol': 0.03829120139356144, 'fit_intercept': False, 'class_weight': 'balanced', 'threshold': 0.451}. Best is trial 112 with value: 0.9691752433084705.\n",
      "[I 2025-07-01 08:38:34,966] Trial 134 finished with value: 0.9689593043082869 and parameters: {'solver_penalty': ('liblinear', 'l2'), 'C': 6.374881208949336, 'tol': 0.05528260429824735, 'fit_intercept': False, 'class_weight': 'balanced', 'threshold': 0.46900000000000003}. Best is trial 112 with value: 0.9691752433084705.\n",
      "[I 2025-07-01 08:38:35,922] Trial 132 finished with value: 0.9687973609884487 and parameters: {'solver_penalty': ('newton-cg', None), 'C': 3.499159358683713, 'tol': 0.06080331657326971, 'fit_intercept': False, 'class_weight': 'balanced', 'threshold': 0.423}. Best is trial 112 with value: 0.9691752433084705.\n",
      "[I 2025-07-01 08:38:36,894] Trial 135 finished with value: 0.9687434090293019 and parameters: {'solver_penalty': ('liblinear', 'l1'), 'C': 0.5058484641119085, 'tol': 0.0017580944182792862, 'fit_intercept': True, 'class_weight': 'balanced', 'threshold': 0.516}. Best is trial 112 with value: 0.9691752433084705.\n",
      "[I 2025-07-01 08:38:37,633] Trial 137 finished with value: 0.9686894279226893 and parameters: {'solver_penalty': ('liblinear', 'l1'), 'C': 5.094946065186292, 'tol': 0.07137869043648065, 'fit_intercept': False, 'class_weight': 'balanced', 'threshold': 0.34600000000000003}. Best is trial 112 with value: 0.9691752433084705.\n",
      "[I 2025-07-01 08:38:38,197] Trial 136 finished with value: 0.9689053086279413 and parameters: {'solver_penalty': ('newton-cholesky', 'l2'), 'C': 7.7424531862653705, 'tol': 0.06322826969985672, 'fit_intercept': False, 'class_weight': 'balanced', 'threshold': 0.464}. Best is trial 112 with value: 0.9691752433084705.\n",
      "[I 2025-07-01 08:38:39,598] Trial 139 finished with value: 0.9689593043082869 and parameters: {'solver_penalty': ('liblinear', 'l1'), 'C': 2.9201723762859713, 'tol': 0.024820318911460446, 'fit_intercept': False, 'class_weight': 'balanced', 'threshold': 0.403}. Best is trial 112 with value: 0.9691752433084705.\n",
      "[I 2025-07-01 08:38:40,703] Trial 141 finished with value: 0.9685814074145324 and parameters: {'solver_penalty': ('liblinear', 'l1'), 'C': 7.037125229717042, 'tol': 0.07111858511448427, 'fit_intercept': False, 'class_weight': 'balanced', 'threshold': 0.717}. Best is trial 112 with value: 0.9691752433084705.\n",
      "[I 2025-07-01 08:38:41,302] Trial 138 finished with value: 0.968635388521145 and parameters: {'solver_penalty': ('lbfgs', 'l2'), 'C': 1.7524081088970331, 'tol': 0.003057887789972173, 'fit_intercept': False, 'class_weight': 'balanced', 'threshold': 0.669}. Best is trial 112 with value: 0.9691752433084705.\n",
      "[I 2025-07-01 08:38:43,012] Trial 142 finished with value: 0.9690672665215123 and parameters: {'solver_penalty': ('lbfgs', 'l2'), 'C': 1.5576504791332682, 'tol': 0.019952904622724376, 'fit_intercept': False, 'class_weight': 'balanced', 'threshold': 0.5630000000000001}. Best is trial 112 with value: 0.9691752433084705.\n",
      "[I 2025-07-01 08:38:43,175] Trial 140 finished with value: 0.9690132854148995 and parameters: {'solver_penalty': ('newton-cg', None), 'C': 1.2270190257024394, 'tol': 0.005760223960114733, 'fit_intercept': False, 'class_weight': 'balanced', 'threshold': 0.47500000000000003}. Best is trial 112 with value: 0.9691752433084705.\n",
      "[I 2025-07-01 08:38:44,015] Trial 144 finished with value: 0.9686354468160765 and parameters: {'solver_penalty': ('newton-cholesky', 'l2'), 'C': 1.899123477951895, 'tol': 0.04806053699126947, 'fit_intercept': True, 'class_weight': None, 'threshold': 0.33}. Best is trial 112 with value: 0.9691752433084705.\n",
      "[I 2025-07-01 08:38:44,207] Trial 143 finished with value: 0.9691212476281251 and parameters: {'solver_penalty': ('newton-cg', 'l2'), 'C': 5.9557620251267, 'tol': 0.020749181263835147, 'fit_intercept': True, 'class_weight': None, 'threshold': 0.541}. Best is trial 112 with value: 0.9691752433084705.\n",
      "[I 2025-07-01 08:38:46,350] Trial 146 finished with value: 0.9691212184806591 and parameters: {'solver_penalty': ('newton-cholesky', 'l2'), 'C': 5.461012187264906, 'tol': 0.03395022009836344, 'fit_intercept': True, 'class_weight': None, 'threshold': 0.558}. Best is trial 112 with value: 0.9691752433084705.\n",
      "[I 2025-07-01 08:38:46,713] Trial 145 finished with value: 0.9690132708411667 and parameters: {'solver_penalty': ('newton-cg', None), 'C': 4.008788383688218, 'tol': 0.01791625998791465, 'fit_intercept': True, 'class_weight': None, 'threshold': 0.5720000000000001}. Best is trial 112 with value: 0.9691752433084705.\n",
      "[I 2025-07-01 08:38:47,220] Trial 147 finished with value: 0.9691212330543921 and parameters: {'solver_penalty': ('newton-cholesky', 'l2'), 'C': 0.09508810251122535, 'tol': 0.011186171101827222, 'fit_intercept': True, 'class_weight': None, 'threshold': 0.52}. Best is trial 112 with value: 0.9691752433084705.\n",
      "[I 2025-07-01 08:38:47,404] Trial 148 finished with value: 0.9689593043082869 and parameters: {'solver_penalty': ('newton-cholesky', None), 'C': 9.177031466799956, 'tol': 0.04746865073480884, 'fit_intercept': False, 'class_weight': 'balanced', 'threshold': 0.404}. Best is trial 112 with value: 0.9691752433084705.\n",
      "[I 2025-07-01 08:38:49,480] Trial 149 finished with value: 0.9689053086279413 and parameters: {'solver_penalty': ('newton-cg', 'l2'), 'C': 6.876379576813724, 'tol': 0.03269567840078837, 'fit_intercept': True, 'class_weight': None, 'threshold': 0.653}. Best is trial 112 with value: 0.9691752433084705.\n",
      "[I 2025-07-01 08:38:50,297] Trial 151 finished with value: 0.9690132708411667 and parameters: {'solver_penalty': ('newton-cg', 'l2'), 'C': 5.959536434219262, 'tol': 0.0397779892763507, 'fit_intercept': True, 'class_weight': None, 'threshold': 0.5710000000000001}. Best is trial 112 with value: 0.9691752433084705.\n",
      "[I 2025-07-01 08:38:50,325] Trial 150 finished with value: 0.9687434090293019 and parameters: {'solver_penalty': ('newton-cg', 'l2'), 'C': 5.082477501288323, 'tol': 0.013130927764502889, 'fit_intercept': True, 'class_weight': None, 'threshold': 0.367}. Best is trial 112 with value: 0.9691752433084705.\n",
      "[I 2025-07-01 08:38:50,680] Trial 152 finished with value: 0.9689053232016743 and parameters: {'solver_penalty': ('newton-cg', 'l2'), 'C': 5.22376251982295, 'tol': 0.03930114742775067, 'fit_intercept': True, 'class_weight': None, 'threshold': 0.643}. Best is trial 112 with value: 0.9691752433084705.\n",
      "[I 2025-07-01 08:38:52,856] Trial 153 finished with value: 0.9568129432236514 and parameters: {'solver_penalty': ('newton-cholesky', 'l2'), 'C': 4.960031023420833, 'tol': 0.024482170230931882, 'fit_intercept': True, 'class_weight': None, 'threshold': 0.898}. Best is trial 112 with value: 0.9691752433084705.\n",
      "[I 2025-07-01 08:38:53,547] Trial 156 finished with value: 0.9689593043082869 and parameters: {'solver_penalty': ('newton-cholesky', 'l2'), 'C': 6.552226629863254, 'tol': 0.043138906474054516, 'fit_intercept': True, 'class_weight': None, 'threshold': 0.459}. Best is trial 112 with value: 0.9691752433084705.\n",
      "[I 2025-07-01 08:38:54,061] Trial 154 finished with value: 0.9690672519477795 and parameters: {'solver_penalty': ('newton-cholesky', 'l2'), 'C': 1.019784653050993, 'tol': 0.008061892158170778, 'fit_intercept': True, 'class_weight': None, 'threshold': 0.498}. Best is trial 112 with value: 0.9691752433084705.\n",
      "[I 2025-07-01 08:38:54,067] Trial 155 finished with value: 0.9687433944555691 and parameters: {'solver_penalty': ('lbfgs', 'l2'), 'C': 1.656907409704815, 'tol': 0.04317360928719208, 'fit_intercept': False, 'class_weight': 'balanced', 'threshold': 0.396}. Best is trial 112 with value: 0.9691752433084705.\n",
      "[I 2025-07-01 08:38:56,111] Trial 157 finished with value: 0.9690132708411667 and parameters: {'solver_penalty': ('newton-cholesky', None), 'C': 8.163744809475585, 'tol': 0.02318677530537099, 'fit_intercept': True, 'class_weight': None, 'threshold': 0.464}. Best is trial 112 with value: 0.9691752433084705.\n",
      "[I 2025-07-01 08:38:56,842] Trial 158 finished with value: 0.9689592897345541 and parameters: {'solver_penalty': ('lbfgs', 'l2'), 'C': 2.3285940163214978, 'tol': 0.03795309248788806, 'fit_intercept': False, 'class_weight': 'balanced', 'threshold': 0.618}. Best is trial 112 with value: 0.9691752433084705.\n",
      "[I 2025-07-01 08:38:57,180] Trial 160 finished with value: 0.9689053086279413 and parameters: {'solver_penalty': ('newton-cholesky', 'l2'), 'C': 0.6834005563100144, 'tol': 0.011642511422445295, 'fit_intercept': True, 'class_weight': None, 'threshold': 0.607}. Best is trial 112 with value: 0.9691752433084705.\n",
      "[I 2025-07-01 08:38:57,550] Trial 159 finished with value: 0.9687973755621817 and parameters: {'solver_penalty': ('newton-cg', 'l2'), 'C': 9.530385790494925, 'tol': 0.0853834910578347, 'fit_intercept': False, 'class_weight': 'balanced', 'threshold': 0.40900000000000003}. Best is trial 112 with value: 0.9691752433084705.\n",
      "[I 2025-07-01 08:38:59,958] Trial 161 finished with value: 0.9690132708411667 and parameters: {'solver_penalty': ('newton-cg', 'l2'), 'C': 0.36725266638694565, 'tol': 0.010594034488830197, 'fit_intercept': True, 'class_weight': None, 'threshold': 0.577}. Best is trial 112 with value: 0.9691752433084705.\n",
      "[I 2025-07-01 08:39:00,128] Trial 162 finished with value: 0.9691212184806591 and parameters: {'solver_penalty': ('newton-cholesky', 'l2'), 'C': 2.1127350871241104, 'tol': 0.020230739384229066, 'fit_intercept': True, 'class_weight': None, 'threshold': 0.5630000000000001}. Best is trial 112 with value: 0.9691752433084705.\n",
      "[I 2025-07-01 08:39:00,481] Trial 163 finished with value: 0.9690672519477793 and parameters: {'solver_penalty': ('newton-cholesky', None), 'C': 0.7026100159915347, 'tol': 0.022849634772419684, 'fit_intercept': True, 'class_weight': None, 'threshold': 0.459}. Best is trial 112 with value: 0.9691752433084705.\n",
      "[I 2025-07-01 08:39:00,854] Trial 164 finished with value: 0.9689593043082869 and parameters: {'solver_penalty': ('newton-cg', None), 'C': 0.6925681361291856, 'tol': 0.06471494758257901, 'fit_intercept': False, 'class_weight': None, 'threshold': 0.512}. Best is trial 112 with value: 0.9691752433084705.\n",
      "[I 2025-07-01 08:39:02,662] Trial 166 finished with value: 0.9689593043082869 and parameters: {'solver_penalty': ('liblinear', 'l2'), 'C': 6.7034387483665645, 'tol': 0.0885510731859268, 'fit_intercept': True, 'class_weight': 'balanced', 'threshold': 0.556}. Best is trial 112 with value: 0.9691752433084705.\n",
      "[I 2025-07-01 08:39:03,349] Trial 167 finished with value: 0.9689592897345541 and parameters: {'solver_penalty': ('lbfgs', None), 'C': 6.00805791121864, 'tol': 0.027588670906278843, 'fit_intercept': True, 'class_weight': None, 'threshold': 0.62}. Best is trial 112 with value: 0.9691752433084705.\n",
      "[I 2025-07-01 08:39:03,750] Trial 165 finished with value: 0.9689053086279413 and parameters: {'solver_penalty': ('newton-cholesky', 'l2'), 'C': 0.9362331985699064, 'tol': 0.02569048755809259, 'fit_intercept': False, 'class_weight': 'balanced', 'threshold': 0.418}. Best is trial 112 with value: 0.9691752433084705.\n",
      "[I 2025-07-01 08:39:04,703] Trial 168 finished with value: 0.9690672519477793 and parameters: {'solver_penalty': ('newton-cholesky', 'l2'), 'C': 1.614158054182631, 'tol': 0.003380491412324789, 'fit_intercept': True, 'class_weight': 'balanced', 'threshold': 0.712}. Best is trial 112 with value: 0.9691752433084705.\n",
      "[I 2025-07-01 08:39:06,478] Trial 170 finished with value: 0.9691212330543921 and parameters: {'solver_penalty': ('newton-cholesky', 'l2'), 'C': 7.234206246509503, 'tol': 0.03221279804223576, 'fit_intercept': False, 'class_weight': None, 'threshold': 0.577}. Best is trial 112 with value: 0.9691752433084705.\n",
      "[I 2025-07-01 08:39:06,916] Trial 169 finished with value: 0.969013256267434 and parameters: {'solver_penalty': ('lbfgs', 'l2'), 'C': 0.522721210981453, 'tol': 0.003943874744896842, 'fit_intercept': True, 'class_weight': None, 'threshold': 0.55}. Best is trial 112 with value: 0.9691752433084705.\n",
      "[I 2025-07-01 08:39:08,075] Trial 172 finished with value: 0.9689593043082869 and parameters: {'solver_penalty': ('newton-cholesky', 'l2'), 'C': 0.025422744279948645, 'tol': 0.001620122442509463, 'fit_intercept': True, 'class_weight': None, 'threshold': 0.40900000000000003}. Best is trial 112 with value: 0.9691752433084705.\n",
      "[I 2025-07-01 08:39:09,219] Trial 171 finished with value: 0.9691752287347377 and parameters: {'solver_penalty': ('newton-cg', 'l2'), 'C': 6.255117810076339, 'tol': 0.019902068758498436, 'fit_intercept': True, 'class_weight': 'balanced', 'threshold': 0.6950000000000001}. Best is trial 112 with value: 0.9691752433084705.\n",
      "[I 2025-07-01 08:39:09,567] Trial 173 finished with value: 0.9685814657094639 and parameters: {'solver_penalty': ('newton-cholesky', 'l2'), 'C': 5.945468935826804, 'tol': 0.019925901166667714, 'fit_intercept': True, 'class_weight': 'balanced', 'threshold': 0.501}. Best is trial 112 with value: 0.9691752433084705.\n",
      "[I 2025-07-01 08:39:09,748] Trial 174 finished with value: 0.9690132999886325 and parameters: {'solver_penalty': ('newton-cholesky', 'l2'), 'C': 9.14379537980275, 'tol': 0.026559512457378417, 'fit_intercept': False, 'class_weight': None, 'threshold': 0.384}. Best is trial 112 with value: 0.9691752433084705.\n",
      "[I 2025-07-01 08:39:11,084] Trial 175 finished with value: 0.9687973609884487 and parameters: {'solver_penalty': ('newton-cholesky', 'l2'), 'C': 3.273768307995841, 'tol': 0.010856359309239815, 'fit_intercept': True, 'class_weight': None, 'threshold': 0.662}. Best is trial 112 with value: 0.9691752433084705.\n",
      "[I 2025-07-01 08:39:12,104] Trial 177 finished with value: 0.9691212184806591 and parameters: {'solver_penalty': ('newton-cholesky', 'l2'), 'C': 7.064539416857576, 'tol': 0.011298845948953223, 'fit_intercept': False, 'class_weight': None, 'threshold': 0.55}. Best is trial 112 with value: 0.9691752433084705.\n",
      "[I 2025-07-01 08:39:12,593] Trial 178 finished with value: 0.9679876152417929 and parameters: {'solver_penalty': ('newton-cholesky', 'l2'), 'C': 2.647091496678427, 'tol': 0.03896575259633458, 'fit_intercept': True, 'class_weight': None, 'threshold': 0.769}. Best is trial 112 with value: 0.9691752433084705.\n",
      "[I 2025-07-01 08:39:13,917] Trial 179 finished with value: 0.9689053232016743 and parameters: {'solver_penalty': ('newton-cholesky', 'l2'), 'C': 7.345465792707638, 'tol': 0.03653402792183042, 'fit_intercept': False, 'class_weight': None, 'threshold': 0.633}. Best is trial 112 with value: 0.9691752433084705.\n",
      "[I 2025-07-01 08:39:14,600] Trial 180 finished with value: 0.9686893842014908 and parameters: {'solver_penalty': ('newton-cholesky', 'l2'), 'C': 7.085233286187548, 'tol': 0.05398847005494245, 'fit_intercept': False, 'class_weight': None, 'threshold': 0.67}. Best is trial 112 with value: 0.9691752433084705.\n",
      "[I 2025-07-01 08:39:15,131] Trial 181 finished with value: 0.9689593043082869 and parameters: {'solver_penalty': ('newton-cholesky', 'l2'), 'C': 7.422429582910827, 'tol': 0.0004667634201958124, 'fit_intercept': False, 'class_weight': None, 'threshold': 0.611}. Best is trial 112 with value: 0.9691752433084705.\n",
      "[I 2025-07-01 08:39:16,813] Trial 184 finished with value: 0.9688513420950615 and parameters: {'solver_penalty': ('liblinear', 'l1'), 'C': 5.314414755678366, 'tol': 0.026594767094555053, 'fit_intercept': True, 'class_weight': 'balanced', 'threshold': 0.798}. Best is trial 112 with value: 0.9691752433084705.\n",
      "[I 2025-07-01 08:39:17,029] Trial 176 finished with value: 0.9690672519477793 and parameters: {'solver_penalty': ('newton-cg', 'l2'), 'C': 5.541582057931273, 'tol': 0.000348499982122788, 'fit_intercept': True, 'class_weight': 'balanced', 'threshold': 0.722}. Best is trial 112 with value: 0.9691752433084705.\n",
      "[I 2025-07-01 08:39:18,225] Trial 182 finished with value: 0.9690672956689781 and parameters: {'solver_penalty': ('newton-cg', 'l2'), 'C': 5.324534256934377, 'tol': 0.019722373870878187, 'fit_intercept': True, 'class_weight': 'balanced', 'threshold': 0.5730000000000001}. Best is trial 112 with value: 0.9691752433084705.\n",
      "[I 2025-07-01 08:39:19,064] Trial 183 finished with value: 0.9687434236030347 and parameters: {'solver_penalty': ('newton-cg', 'l2'), 'C': 8.60998340853774, 'tol': 0.0163170240307986, 'fit_intercept': True, 'class_weight': 'balanced', 'threshold': 0.455}. Best is trial 112 with value: 0.9691752433084705.\n",
      "[I 2025-07-01 08:39:19,269] Trial 185 finished with value: 0.9665840918961301 and parameters: {'solver_penalty': ('newton-cholesky', None), 'C': 1.2416962197851749, 'tol': 0.03546784170549983, 'fit_intercept': False, 'class_weight': 'balanced', 'threshold': 0.795}. Best is trial 112 with value: 0.9691752433084705.\n",
      "[I 2025-07-01 08:39:20,761] Trial 187 finished with value: 0.9689053232016743 and parameters: {'solver_penalty': ('newton-cg', 'l2'), 'C': 8.253749884616198, 'tol': 0.036691472484837756, 'fit_intercept': False, 'class_weight': None, 'threshold': 0.456}. Best is trial 112 with value: 0.9691752433084705.\n",
      "[I 2025-07-01 08:39:21,103] Trial 186 finished with value: 0.9690132708411667 and parameters: {'solver_penalty': ('newton-cg', 'l2'), 'C': 6.871037188410527, 'tol': 0.03446860215124284, 'fit_intercept': True, 'class_weight': 'balanced', 'threshold': 0.733}. Best is trial 112 with value: 0.9691752433084705.\n",
      "[I 2025-07-01 08:39:22,630] Trial 188 finished with value: 0.9686353739474122 and parameters: {'solver_penalty': ('newton-cg', 'l2'), 'C': 5.551112544288339, 'tol': 0.0401861050896602, 'fit_intercept': True, 'class_weight': 'balanced', 'threshold': 0.678}. Best is trial 112 with value: 0.9691752433084705.\n",
      "[I 2025-07-01 08:39:23,011] Trial 189 finished with value: 0.9665840190274657 and parameters: {'solver_penalty': ('newton-cg', 'l2'), 'C': 6.160120340510061, 'tol': 0.05459848169494404, 'fit_intercept': True, 'class_weight': 'balanced', 'threshold': 0.783}. Best is trial 112 with value: 0.9691752433084705.\n",
      "[I 2025-07-01 08:39:23,904] Trial 190 finished with value: 0.9691212476281251 and parameters: {'solver_penalty': ('lbfgs', None), 'C': 5.348990265132017, 'tol': 0.09430401279096477, 'fit_intercept': False, 'class_weight': 'balanced', 'threshold': 0.533}. Best is trial 112 with value: 0.9691752433084705.\n",
      "[I 2025-07-01 08:39:24,350] Trial 191 finished with value: 0.9690672519477795 and parameters: {'solver_penalty': ('newton-cholesky', 'l2'), 'C': 6.096445618711231, 'tol': 0.011741360573698914, 'fit_intercept': True, 'class_weight': None, 'threshold': 0.52}. Best is trial 112 with value: 0.9691752433084705.\n",
      "[I 2025-07-01 08:39:25,575] Trial 192 finished with value: 0.9687433798818361 and parameters: {'solver_penalty': ('lbfgs', 'l2'), 'C': 6.468561781723708, 'tol': 0.023310000942060167, 'fit_intercept': True, 'class_weight': None, 'threshold': 0.398}. Best is trial 112 with value: 0.9691752433084705.\n",
      "[I 2025-07-01 08:39:26,800] Trial 193 finished with value: 0.9688513420950615 and parameters: {'solver_penalty': ('newton-cholesky', None), 'C': 6.332827500358263, 'tol': 0.012737102657598944, 'fit_intercept': True, 'class_weight': 'balanced', 'threshold': 0.836}. Best is trial 112 with value: 0.9691752433084705.\n",
      "[I 2025-07-01 08:39:28,002] Trial 194 finished with value: 0.9687973901359147 and parameters: {'solver_penalty': ('lbfgs', None), 'C': 2.402369125230668, 'tol': 0.08079231314168447, 'fit_intercept': False, 'class_weight': 'balanced', 'threshold': 0.357}. Best is trial 112 with value: 0.9691752433084705.\n",
      "[I 2025-07-01 08:39:28,017] Trial 195 finished with value: 0.9690672665215123 and parameters: {'solver_penalty': ('lbfgs', None), 'C': 3.7722921503099798, 'tol': 0.07980667915040791, 'fit_intercept': False, 'class_weight': 'balanced', 'threshold': 0.555}. Best is trial 112 with value: 0.9691752433084705.\n",
      "[I 2025-07-01 08:39:29,114] Trial 196 finished with value: 0.9691212476281251 and parameters: {'solver_penalty': ('lbfgs', None), 'C': 5.589443590905432, 'tol': 0.09153921624245595, 'fit_intercept': False, 'class_weight': 'balanced', 'threshold': 0.539}. Best is trial 112 with value: 0.9691752433084705.\n",
      "[I 2025-07-01 08:39:30,251] Trial 197 finished with value: 0.9687973901359145 and parameters: {'solver_penalty': ('lbfgs', None), 'C': 4.537400915707659, 'tol': 0.08986828598078207, 'fit_intercept': False, 'class_weight': 'balanced', 'threshold': 0.289}. Best is trial 112 with value: 0.9691752433084705.\n",
      "[I 2025-07-01 08:39:31,063] Trial 198 finished with value: 0.9688513275213287 and parameters: {'solver_penalty': ('lbfgs', None), 'C': 7.638746890510275, 'tol': 0.09488934488808816, 'fit_intercept': False, 'class_weight': 'balanced', 'threshold': 0.651}. Best is trial 112 with value: 0.9691752433084705.\n",
      "[I 2025-07-01 08:39:31,583] Trial 199 finished with value: 0.967339783667509 and parameters: {'solver_penalty': ('lbfgs', None), 'C': 5.103688028281511, 'tol': 0.08805207655191623, 'fit_intercept': False, 'class_weight': 'balanced', 'threshold': 0.778}. Best is trial 112 with value: 0.9691752433084705.\n",
      "[I 2025-07-01 08:39:33,953] Trial 203 finished with value: 0.9690132854148995 and parameters: {'solver_penalty': ('liblinear', 'l1'), 'C': 5.453602478079657, 'tol': 0.06410908973938625, 'fit_intercept': False, 'class_weight': None, 'threshold': 0.464}. Best is trial 112 with value: 0.9691752433084705.\n",
      "[I 2025-07-01 08:39:33,965] Trial 201 finished with value: 0.9690132708411667 and parameters: {'solver_penalty': ('lbfgs', None), 'C': 4.256637024219791, 'tol': 0.083991743855761, 'fit_intercept': False, 'class_weight': 'balanced', 'threshold': 0.636}. Best is trial 112 with value: 0.9691752433084705.\n",
      "[I 2025-07-01 08:39:34,385] Trial 200 finished with value: 0.9686894424964221 and parameters: {'solver_penalty': ('newton-cg', 'l2'), 'C': 4.057781712317232, 'tol': 0.029729012875584472, 'fit_intercept': True, 'class_weight': 'balanced', 'threshold': 0.337}. Best is trial 112 with value: 0.9691752433084705.\n",
      "[I 2025-07-01 08:39:34,638] Trial 202 finished with value: 0.9684734306275742 and parameters: {'solver_penalty': ('lbfgs', None), 'C': 4.807345318229681, 'tol': 0.09135135963160158, 'fit_intercept': False, 'class_weight': 'balanced', 'threshold': 0.73}. Best is trial 112 with value: 0.9691752433084705.\n",
      "[I 2025-07-01 08:39:37,094] Trial 206 finished with value: 0.9689593043082869 and parameters: {'solver_penalty': ('liblinear', 'l2'), 'C': 4.582331889681492, 'tol': 0.06943998860254491, 'fit_intercept': False, 'class_weight': 'balanced', 'threshold': 0.467}. Best is trial 112 with value: 0.9691752433084705.\n",
      "[I 2025-07-01 08:39:37,608] Trial 207 finished with value: 0.9689053232016743 and parameters: {'solver_penalty': ('liblinear', 'l2'), 'C': 4.632176737001558, 'tol': 0.07507619845221215, 'fit_intercept': False, 'class_weight': 'balanced', 'threshold': 0.447}. Best is trial 112 with value: 0.9691752433084705.\n",
      "[I 2025-07-01 08:39:38,018] Trial 204 finished with value: 0.9691212476281251 and parameters: {'solver_penalty': ('lbfgs', None), 'C': 4.138371341297697, 'tol': 0.060271931872323964, 'fit_intercept': False, 'class_weight': 'balanced', 'threshold': 0.529}. Best is trial 112 with value: 0.9691752433084705.\n",
      "[I 2025-07-01 08:39:38,039] Trial 205 finished with value: 0.9690132854148995 and parameters: {'solver_penalty': ('lbfgs', None), 'C': 5.717658939748989, 'tol': 0.09586339560377079, 'fit_intercept': False, 'class_weight': 'balanced', 'threshold': 0.487}. Best is trial 112 with value: 0.9691752433084705.\n",
      "[I 2025-07-01 08:39:40,313] Trial 208 finished with value: 0.9689593043082869 and parameters: {'solver_penalty': ('newton-cg', None), 'C': 7.01510159833404, 'tol': 0.09899983513761156, 'fit_intercept': False, 'class_weight': 'balanced', 'threshold': 0.47800000000000004}. Best is trial 112 with value: 0.9691752433084705.\n",
      "[I 2025-07-01 08:39:40,701] Trial 210 finished with value: 0.9689053232016743 and parameters: {'solver_penalty': ('lbfgs', None), 'C': 4.243707203561505, 'tol': 0.04075132275755983, 'fit_intercept': False, 'class_weight': 'balanced', 'threshold': 0.455}. Best is trial 112 with value: 0.9691752433084705.\n",
      "[I 2025-07-01 08:39:42,440] Trial 211 finished with value: 0.9689593188820197 and parameters: {'solver_penalty': ('newton-cg', 'l2'), 'C': 3.867454080211112, 'tol': 0.020430112455665995, 'fit_intercept': True, 'class_weight': 'balanced', 'threshold': 0.596}. Best is trial 112 with value: 0.9691752433084705.\n",
      "[I 2025-07-01 08:39:43,171] Trial 209 finished with value: 0.9685814219882654 and parameters: {'solver_penalty': ('newton-cg', 'l2'), 'C': 8.192008459769603, 'tol': 0.0007253529027781078, 'fit_intercept': False, 'class_weight': 'balanced', 'threshold': 0.677}. Best is trial 112 with value: 0.9691752433084705.\n",
      "[I 2025-07-01 08:39:43,323] Trial 212 finished with value: 0.9689593043082869 and parameters: {'solver_penalty': ('lbfgs', None), 'C': 3.8805850732599616, 'tol': 0.06390802930782509, 'fit_intercept': False, 'class_weight': 'balanced', 'threshold': 0.482}. Best is trial 112 with value: 0.9691752433084705.\n",
      "[I 2025-07-01 08:39:43,526] Trial 213 finished with value: 0.9692292098413503 and parameters: {'solver_penalty': ('newton-cholesky', 'l2'), 'C': 4.468694027758419, 'tol': 0.07480290207518628, 'fit_intercept': False, 'class_weight': 'balanced', 'threshold': 0.5760000000000001}. Best is trial 213 with value: 0.9692292098413503.\n",
      "[I 2025-07-01 08:39:45,852] Trial 214 finished with value: 0.9689053232016743 and parameters: {'solver_penalty': ('lbfgs', None), 'C': 9.3585593797146, 'tol': 0.0388159055794317, 'fit_intercept': False, 'class_weight': 'balanced', 'threshold': 0.459}. Best is trial 213 with value: 0.9692292098413503.\n",
      "[I 2025-07-01 08:39:46,368] Trial 216 finished with value: 0.9619954355068598 and parameters: {'solver_penalty': ('lbfgs', 'l2'), 'C': 8.475030683184356, 'tol': 0.027884762778985082, 'fit_intercept': False, 'class_weight': None, 'threshold': 0.852}. Best is trial 213 with value: 0.9692292098413503.\n",
      "[I 2025-07-01 08:39:46,393] Trial 215 finished with value: 0.9690132708411667 and parameters: {'solver_penalty': ('lbfgs', None), 'C': 9.430808768253385, 'tol': 0.04916243967390367, 'fit_intercept': False, 'class_weight': None, 'threshold': 0.5750000000000001}. Best is trial 213 with value: 0.9692292098413503.\n",
      "[I 2025-07-01 08:39:47,236] Trial 217 finished with value: 0.9691752287347377 and parameters: {'solver_penalty': ('newton-cholesky', 'l2'), 'C': 6.318399202896298, 'tol': 0.09010837104294309, 'fit_intercept': False, 'class_weight': 'balanced', 'threshold': 0.589}. Best is trial 213 with value: 0.9692292098413503.\n",
      "[I 2025-07-01 08:39:48,537] Trial 218 finished with value: 0.9687973609884487 and parameters: {'solver_penalty': ('liblinear', 'l1'), 'C': 4.716124839107951, 'tol': 0.05633720016004314, 'fit_intercept': False, 'class_weight': 'balanced', 'threshold': 0.64}. Best is trial 213 with value: 0.9692292098413503.\n",
      "[I 2025-07-01 08:39:48,907] Trial 220 finished with value: 0.9690672519477793 and parameters: {'solver_penalty': ('liblinear', 'l1'), 'C': 5.140102255659453, 'tol': 0.05451167306695405, 'fit_intercept': False, 'class_weight': 'balanced', 'threshold': 0.546}. Best is trial 213 with value: 0.9692292098413503.\n",
      "[I 2025-07-01 08:39:50,325] Trial 219 finished with value: 0.9692292098413503 and parameters: {'solver_penalty': ('newton-cholesky', 'l2'), 'C': 4.0353025396680735, 'tol': 0.06317379835186426, 'fit_intercept': False, 'class_weight': 'balanced', 'threshold': 0.5700000000000001}. Best is trial 213 with value: 0.9692292098413503.\n",
      "[I 2025-07-01 08:39:50,929] Trial 221 finished with value: 0.9690132999886325 and parameters: {'solver_penalty': ('newton-cholesky', 'l2'), 'C': 2.5303649286835075, 'tol': 0.08292658375782294, 'fit_intercept': False, 'class_weight': 'balanced', 'threshold': 0.391}. Best is trial 213 with value: 0.9692292098413503.\n",
      "[I 2025-07-01 08:39:52,539] Trial 223 finished with value: 0.9682035396682436 and parameters: {'solver_penalty': ('newton-cholesky', 'l2'), 'C': 3.30202235432586, 'tol': 0.048902316334883254, 'fit_intercept': False, 'class_weight': 'balanced', 'threshold': 0.716}. Best is trial 213 with value: 0.9692292098413503.\n",
      "[I 2025-07-01 08:39:53,638] Trial 224 finished with value: 0.9671779132163355 and parameters: {'solver_penalty': ('newton-cholesky', 'l2'), 'C': 3.6901800494269033, 'tol': 0.0734932884644208, 'fit_intercept': False, 'class_weight': 'balanced', 'threshold': 0.776}. Best is trial 213 with value: 0.9692292098413503.\n",
      "[I 2025-07-01 08:39:54,505] Trial 222 finished with value: 0.9688513858162603 and parameters: {'solver_penalty': ('lbfgs', 'l2'), 'C': 2.0645261033935074, 'tol': 0.0015560946059043415, 'fit_intercept': False, 'class_weight': 'balanced', 'threshold': 0.292}. Best is trial 213 with value: 0.9692292098413503.\n",
      "[I 2025-07-01 08:39:54,528] Trial 225 finished with value: 0.9680955628812853 and parameters: {'solver_penalty': ('newton-cholesky', 'l2'), 'C': 4.721173418290053, 'tol': 0.04875678503124151, 'fit_intercept': False, 'class_weight': 'balanced', 'threshold': 0.729}. Best is trial 213 with value: 0.9692292098413503.\n",
      "[I 2025-07-01 08:39:55,810] Trial 226 finished with value: 0.9690672665215123 and parameters: {'solver_penalty': ('newton-cholesky', 'l2'), 'C': 5.6471455034024345, 'tol': 0.08094748251268176, 'fit_intercept': False, 'class_weight': 'balanced', 'threshold': 0.599}. Best is trial 213 with value: 0.9692292098413503.\n",
      "[I 2025-07-01 08:39:56,943] Trial 229 finished with value: 0.9691212330543921 and parameters: {'solver_penalty': ('liblinear', 'l1'), 'C': 2.148031988441948, 'tol': 0.058938409277065375, 'fit_intercept': False, 'class_weight': None, 'threshold': 0.54}. Best is trial 213 with value: 0.9692292098413503.\n",
      "[I 2025-07-01 08:39:57,116] Trial 227 finished with value: 0.9690132999886325 and parameters: {'solver_penalty': ('newton-cholesky', None), 'C': 7.2199392862326395, 'tol': 0.006556509770866682, 'fit_intercept': False, 'class_weight': None, 'threshold': 0.374}. Best is trial 213 with value: 0.9692292098413503.\n",
      "[I 2025-07-01 08:39:58,275] Trial 228 finished with value: 0.9692831909479629 and parameters: {'solver_penalty': ('newton-cholesky', 'l2'), 'C': 5.678638296898917, 'tol': 0.0930540486834568, 'fit_intercept': False, 'class_weight': 'balanced', 'threshold': 0.538}. Best is trial 228 with value: 0.9692831909479629.\n",
      "[I 2025-07-01 08:39:59,246] Trial 231 finished with value: 0.9689593043082869 and parameters: {'solver_penalty': ('liblinear', 'l1'), 'C': 1.943024454168973, 'tol': 0.050142743605250555, 'fit_intercept': True, 'class_weight': None, 'threshold': 0.637}. Best is trial 228 with value: 0.9692831909479629.\n",
      "[I 2025-07-01 08:39:59,738] Trial 230 finished with value: 0.9690132999886325 and parameters: {'solver_penalty': ('newton-cholesky', 'l2'), 'C': 6.790123722330198, 'tol': 0.0809767902358091, 'fit_intercept': False, 'class_weight': 'balanced', 'threshold': 0.373}. Best is trial 228 with value: 0.9692831909479629.\n",
      "[I 2025-07-01 08:40:00,755] Trial 233 finished with value: 0.9687973318409832 and parameters: {'solver_penalty': ('liblinear', 'l1'), 'C': 0.23599148085258626, 'tol': 0.07735299284703351, 'fit_intercept': False, 'class_weight': None, 'threshold': 0.683}. Best is trial 228 with value: 0.9692831909479629.\n",
      "[I 2025-07-01 08:40:00,936] Trial 232 finished with value: 0.9690132999886325 and parameters: {'solver_penalty': ('newton-cholesky', 'l2'), 'C': 6.573896297572736, 'tol': 0.019985991359923336, 'fit_intercept': False, 'class_weight': None, 'threshold': 0.384}. Best is trial 228 with value: 0.9692831909479629.\n",
      "[I 2025-07-01 08:40:02,380] Trial 235 finished with value: 0.9691752141610047 and parameters: {'solver_penalty': ('liblinear', 'l1'), 'C': 2.078258641631655, 'tol': 0.07748920105724268, 'fit_intercept': False, 'class_weight': None, 'threshold': 0.5720000000000001}. Best is trial 228 with value: 0.9692831909479629.\n",
      "[I 2025-07-01 08:40:03,961] Trial 234 finished with value: 0.9671239321097229 and parameters: {'solver_penalty': ('newton-cholesky', 'l2'), 'C': 7.192241945478829, 'tol': 0.09271043206260741, 'fit_intercept': False, 'class_weight': 'balanced', 'threshold': 0.778}. Best is trial 228 with value: 0.9692831909479629.\n",
      "[I 2025-07-01 08:40:03,962] Trial 237 finished with value: 0.9691752141610047 and parameters: {'solver_penalty': ('liblinear', 'l1'), 'C': 2.2042661368513436, 'tol': 0.06451677970979867, 'fit_intercept': False, 'class_weight': None, 'threshold': 0.5660000000000001}. Best is trial 228 with value: 0.9692831909479629.\n",
      "[I 2025-07-01 08:40:03,985] Trial 236 finished with value: 0.9691212476281251 and parameters: {'solver_penalty': ('liblinear', 'l2'), 'C': 5.346399061135507, 'tol': 0.006688154653507143, 'fit_intercept': False, 'class_weight': None, 'threshold': 0.503}. Best is trial 228 with value: 0.9692831909479629.\n",
      "[I 2025-07-01 08:40:05,305] Trial 238 finished with value: 0.9688513275213287 and parameters: {'solver_penalty': ('liblinear', 'l1'), 'C': 3.6734085912252064, 'tol': 0.08087837889696717, 'fit_intercept': False, 'class_weight': None, 'threshold': 0.631}. Best is trial 228 with value: 0.9692831909479629.\n",
      "[I 2025-07-01 08:40:06,458] Trial 240 finished with value: 0.9686893987752235 and parameters: {'solver_penalty': ('liblinear', 'l1'), 'C': 2.809482149369741, 'tol': 0.05327477834756642, 'fit_intercept': False, 'class_weight': None, 'threshold': 0.651}. Best is trial 228 with value: 0.9692831909479629.\n",
      "[I 2025-07-01 08:40:07,438] Trial 241 finished with value: 0.9690132854148995 and parameters: {'solver_penalty': ('lbfgs', None), 'C': 5.877827982549049, 'tol': 0.06952376622433912, 'fit_intercept': False, 'class_weight': None, 'threshold': 0.562}. Best is trial 228 with value: 0.9692831909479629.\n",
      "[I 2025-07-01 08:40:07,938] Trial 239 finished with value: 0.9692831909479629 and parameters: {'solver_penalty': ('newton-cholesky', 'l2'), 'C': 5.046854782707692, 'tol': 0.09723192312562148, 'fit_intercept': False, 'class_weight': 'balanced', 'threshold': 0.538}. Best is trial 228 with value: 0.9692831909479629.\n",
      "[I 2025-07-01 08:40:08,459] Trial 242 finished with value: 0.9689593043082869 and parameters: {'solver_penalty': ('lbfgs', None), 'C': 2.136564980820844, 'tol': 0.04871163764361695, 'fit_intercept': False, 'class_weight': None, 'threshold': 0.484}. Best is trial 228 with value: 0.9692831909479629.\n",
      "[I 2025-07-01 08:40:10,479] Trial 244 finished with value: 0.9691212330543921 and parameters: {'solver_penalty': ('liblinear', 'l2'), 'C': 5.3947903113497135, 'tol': 0.01945014063863592, 'fit_intercept': False, 'class_weight': None, 'threshold': 0.612}. Best is trial 228 with value: 0.9692831909479629.\n",
      "[I 2025-07-01 08:40:10,491] Trial 243 finished with value: 0.9689593043082869 and parameters: {'solver_penalty': ('newton-cg', 'l2'), 'C': 1.5659398031926082, 'tol': 0.06852690378705008, 'fit_intercept': False, 'class_weight': None, 'threshold': 0.507}. Best is trial 228 with value: 0.9692831909479629.\n",
      "[I 2025-07-01 08:40:10,884] Trial 245 finished with value: 0.9686354468160765 and parameters: {'solver_penalty': ('liblinear', 'l2'), 'C': 4.803561913259367, 'tol': 0.0029652783413684864, 'fit_intercept': False, 'class_weight': None, 'threshold': 0.228}. Best is trial 228 with value: 0.9692831909479629.\n",
      "[I 2025-07-01 08:40:11,723] Trial 246 finished with value: 0.9687434090293019 and parameters: {'solver_penalty': ('liblinear', 'l2'), 'C': 6.91737628665628, 'tol': 0.00859919126687504, 'fit_intercept': True, 'class_weight': 'balanced', 'threshold': 0.481}. Best is trial 228 with value: 0.9692831909479629.\n",
      "[I 2025-07-01 08:40:12,710] Trial 247 finished with value: 0.9689593043082869 and parameters: {'solver_penalty': ('liblinear', 'l1'), 'C': 1.0058459350368565, 'tol': 0.07197833358627767, 'fit_intercept': False, 'class_weight': None, 'threshold': 0.41500000000000004}. Best is trial 228 with value: 0.9692831909479629.\n",
      "[I 2025-07-01 08:40:14,149] Trial 248 finished with value: 0.9688513420950615 and parameters: {'solver_penalty': ('newton-cholesky', None), 'C': 4.316486461788259, 'tol': 0.023688119641647125, 'fit_intercept': False, 'class_weight': None, 'threshold': 0.639}. Best is trial 228 with value: 0.9692831909479629.\n",
      "[I 2025-07-01 08:40:14,653] Trial 249 finished with value: 0.9692831909479629 and parameters: {'solver_penalty': ('newton-cholesky', 'l2'), 'C': 4.362817447319372, 'tol': 0.09053408592195394, 'fit_intercept': False, 'class_weight': 'balanced', 'threshold': 0.533}. Best is trial 228 with value: 0.9692831909479629.\n",
      "[I 2025-07-01 08:40:15,311] Trial 251 finished with value: 0.9690132708411667 and parameters: {'solver_penalty': ('liblinear', 'l2'), 'C': 6.337156859456792, 'tol': 0.025684350086549814, 'fit_intercept': False, 'class_weight': None, 'threshold': 0.649}. Best is trial 228 with value: 0.9692831909479629.\n",
      "[I 2025-07-01 08:40:16,117] Trial 250 finished with value: 0.9687433361606376 and parameters: {'solver_penalty': ('newton-cg', None), 'C': 5.2674309031225555, 'tol': 0.01224604578838499, 'fit_intercept': False, 'class_weight': None, 'threshold': 0.6910000000000001}. Best is trial 228 with value: 0.9692831909479629.\n",
      "[I 2025-07-01 08:40:17,091] Trial 252 finished with value: 0.9691212476281251 and parameters: {'solver_penalty': ('liblinear', 'l2'), 'C': 5.113686231513116, 'tol': 0.03553938722821199, 'fit_intercept': False, 'class_weight': None, 'threshold': 0.589}. Best is trial 228 with value: 0.9692831909479629.\n",
      "[I 2025-07-01 08:40:17,430] Trial 253 finished with value: 0.9686353885211452 and parameters: {'solver_penalty': ('liblinear', 'l2'), 'C': 5.846921854695147, 'tol': 0.03614087292621383, 'fit_intercept': False, 'class_weight': None, 'threshold': 0.73}. Best is trial 228 with value: 0.9692831909479629.\n",
      "[I 2025-07-01 08:40:18,267] Trial 254 finished with value: 0.9689593043082869 and parameters: {'solver_penalty': ('liblinear', 'l2'), 'C': 3.8980692996949644, 'tol': 0.01208687283733777, 'fit_intercept': False, 'class_weight': None, 'threshold': 0.52}. Best is trial 228 with value: 0.9692831909479629.\n",
      "[I 2025-07-01 08:40:19,738] Trial 256 finished with value: 0.9692292098413503 and parameters: {'solver_penalty': ('liblinear', 'l2'), 'C': 5.159571778491811, 'tol': 0.01210517037988346, 'fit_intercept': False, 'class_weight': None, 'threshold': 0.5700000000000001}. Best is trial 228 with value: 0.9692831909479629.\n",
      "[I 2025-07-01 08:40:20,216] Trial 255 finished with value: 0.9692292098413503 and parameters: {'solver_penalty': ('newton-cholesky', 'l2'), 'C': 3.762125851878487, 'tol': 0.09152546602883732, 'fit_intercept': False, 'class_weight': 'balanced', 'threshold': 0.583}. Best is trial 228 with value: 0.9692831909479629.\n",
      "[I 2025-07-01 08:40:21,324] Trial 257 finished with value: 0.9689053086279413 and parameters: {'solver_penalty': ('newton-cholesky', 'l2'), 'C': 3.6700573210067837, 'tol': 0.07346311197722234, 'fit_intercept': True, 'class_weight': 'balanced', 'threshold': 0.633}. Best is trial 228 with value: 0.9692831909479629.\n",
      "[I 2025-07-01 08:40:21,685] Trial 258 finished with value: 0.9690132999886325 and parameters: {'solver_penalty': ('newton-cholesky', 'l2'), 'C': 2.8720294004120532, 'tol': 0.09372527139889794, 'fit_intercept': False, 'class_weight': 'balanced', 'threshold': 0.635}. Best is trial 228 with value: 0.9692831909479629.\n",
      "[I 2025-07-01 08:40:23,160] Trial 259 finished with value: 0.9689053086279413 and parameters: {'solver_penalty': ('newton-cholesky', 'l2'), 'C': 3.7696210140461375, 'tol': 0.0957527504267693, 'fit_intercept': False, 'class_weight': 'balanced', 'threshold': 0.466}. Best is trial 228 with value: 0.9692831909479629.\n",
      "[I 2025-07-01 08:40:23,984] Trial 261 finished with value: 0.9688513420950615 and parameters: {'solver_penalty': ('liblinear', 'l2'), 'C': 3.654027666308287, 'tol': 0.06046305416659939, 'fit_intercept': False, 'class_weight': None, 'threshold': 0.435}. Best is trial 228 with value: 0.9692831909479629.\n",
      "[I 2025-07-01 08:40:23,988] Trial 260 finished with value: 0.968689355054025 and parameters: {'solver_penalty': ('newton-cg', 'l2'), 'C': 6.074914334685209, 'tol': 0.0903504208017662, 'fit_intercept': False, 'class_weight': 'balanced', 'threshold': 0.685}. Best is trial 228 with value: 0.9692831909479629.\n",
      "[I 2025-07-01 08:40:25,529] Trial 262 finished with value: 0.9690672519477793 and parameters: {'solver_penalty': ('newton-cholesky', 'l2'), 'C': 4.613181678527103, 'tol': 0.08362000999519215, 'fit_intercept': False, 'class_weight': 'balanced', 'threshold': 0.488}. Best is trial 228 with value: 0.9692831909479629.\n",
      "[I 2025-07-01 08:40:26,539] Trial 264 finished with value: 0.9684194786684273 and parameters: {'solver_penalty': ('liblinear', 'l2'), 'C': 5.178708749153182, 'tol': 0.0009310073784990136, 'fit_intercept': False, 'class_weight': None, 'threshold': 0.715}. Best is trial 228 with value: 0.9692831909479629.\n",
      "[I 2025-07-01 08:40:27,045] Trial 265 finished with value: 0.9689593043082869 and parameters: {'solver_penalty': ('liblinear', 'l2'), 'C': 6.036428198219387, 'tol': 0.004972158813281072, 'fit_intercept': False, 'class_weight': None, 'threshold': 0.47600000000000003}. Best is trial 228 with value: 0.9692831909479629.\n",
      "[I 2025-07-01 08:40:27,445] Trial 263 finished with value: 0.9689053086279413 and parameters: {'solver_penalty': ('lbfgs', 'l2'), 'C': 6.074397151972397, 'tol': 0.07223559401903668, 'fit_intercept': False, 'class_weight': 'balanced', 'threshold': 0.603}. Best is trial 228 with value: 0.9692831909479629.\n",
      "[I 2025-07-01 08:40:29,071] Trial 266 finished with value: 0.9688513420950615 and parameters: {'solver_penalty': ('newton-cholesky', 'l2'), 'C': 3.4523883098253236, 'tol': 0.08561762580172864, 'fit_intercept': False, 'class_weight': None, 'threshold': 0.655}. Best is trial 228 with value: 0.9692831909479629.\n",
      "[I 2025-07-01 08:40:29,933] Trial 268 finished with value: 0.9691212330543921 and parameters: {'solver_penalty': ('newton-cholesky', 'l2'), 'C': 2.4118183527277868, 'tol': 0.09509860886416971, 'fit_intercept': False, 'class_weight': None, 'threshold': 0.538}. Best is trial 228 with value: 0.9692831909479629.\n",
      "[I 2025-07-01 08:40:30,450] Trial 267 finished with value: 0.9685274408816525 and parameters: {'solver_penalty': ('newton-cholesky', 'l2'), 'C': 6.00942910968575, 'tol': 0.09768995324859797, 'fit_intercept': False, 'class_weight': 'balanced', 'threshold': 0.677}. Best is trial 228 with value: 0.9692831909479629.\n",
      "[I 2025-07-01 08:40:31,474] Trial 269 finished with value: 0.9690132999886325 and parameters: {'solver_penalty': ('newton-cholesky', None), 'C': 6.052592383514141, 'tol': 0.09086648395158678, 'fit_intercept': False, 'class_weight': 'balanced', 'threshold': 0.385}. Best is trial 228 with value: 0.9692831909479629.\n",
      "[I 2025-07-01 08:40:31,476] Trial 270 finished with value: 0.9690672665215121 and parameters: {'solver_penalty': ('liblinear', 'l1'), 'C': 0.826030791470969, 'tol': 0.04345105032121977, 'fit_intercept': False, 'class_weight': None, 'threshold': 0.492}. Best is trial 228 with value: 0.9692831909479629.\n",
      "[I 2025-07-01 08:40:33,941] Trial 271 finished with value: 0.9685274408816525 and parameters: {'solver_penalty': ('newton-cholesky', 'l2'), 'C': 5.650419263065604, 'tol': 0.09378371933287223, 'fit_intercept': False, 'class_weight': 'balanced', 'threshold': 0.676}. Best is trial 228 with value: 0.9692831909479629.\n",
      "[I 2025-07-01 08:40:34,154] Trial 274 finished with value: 0.9687434090293019 and parameters: {'solver_penalty': ('liblinear', 'l2'), 'C': 4.826023673193318, 'tol': 0.03701528264289694, 'fit_intercept': False, 'class_weight': None, 'threshold': 0.328}. Best is trial 228 with value: 0.9692831909479629.\n",
      "[I 2025-07-01 08:40:34,469] Trial 272 finished with value: 0.9687433944555691 and parameters: {'solver_penalty': ('newton-cholesky', None), 'C': 5.3601831299068765, 'tol': 0.08263726694218865, 'fit_intercept': False, 'class_weight': 'balanced', 'threshold': 0.337}. Best is trial 228 with value: 0.9692831909479629.\n",
      "[I 2025-07-01 08:40:34,706] Trial 273 finished with value: 0.9689593043082869 and parameters: {'solver_penalty': ('newton-cholesky', 'l2'), 'C': 7.522225210530501, 'tol': 0.08653609127308474, 'fit_intercept': False, 'class_weight': None, 'threshold': 0.432}. Best is trial 228 with value: 0.9692831909479629.\n",
      "[I 2025-07-01 08:40:37,276] Trial 278 finished with value: 0.9368927198374738 and parameters: {'solver_penalty': ('liblinear', 'l2'), 'C': 0.15892931309917113, 'tol': 0.07848103005927394, 'fit_intercept': True, 'class_weight': None, 'threshold': 0.902}. Best is trial 228 with value: 0.9692831909479629.\n",
      "[I 2025-07-01 08:40:37,856] Trial 275 finished with value: 0.9692291952676175 and parameters: {'solver_penalty': ('newton-cholesky', 'l2'), 'C': 4.066025633874956, 'tol': 0.05700209814120718, 'fit_intercept': False, 'class_weight': 'balanced', 'threshold': 0.521}. Best is trial 228 with value: 0.9692831909479629.\n",
      "[I 2025-07-01 08:40:38,066] Trial 276 finished with value: 0.9692292098413503 and parameters: {'solver_penalty': ('newton-cholesky', 'l2'), 'C': 3.163014035790937, 'tol': 0.06661541575757085, 'fit_intercept': False, 'class_weight': 'balanced', 'threshold': 0.5680000000000001}. Best is trial 228 with value: 0.9692831909479629.\n",
      "[I 2025-07-01 08:40:38,732] Trial 277 finished with value: 0.9691752287347377 and parameters: {'solver_penalty': ('lbfgs', None), 'C': 0.012610877243300428, 'tol': 0.00408629352928764, 'fit_intercept': True, 'class_weight': None, 'threshold': 0.64}. Best is trial 228 with value: 0.9692831909479629.\n",
      "[I 2025-07-01 08:40:41,091] Trial 281 finished with value: 0.9689053086279413 and parameters: {'solver_penalty': ('newton-cholesky', 'l2'), 'C': 3.132752880041659, 'tol': 0.06479735148558953, 'fit_intercept': False, 'class_weight': 'balanced', 'threshold': 0.451}. Best is trial 228 with value: 0.9692831909479629.\n",
      "[I 2025-07-01 08:40:41,104] Trial 279 finished with value: 0.9686353739474122 and parameters: {'solver_penalty': ('newton-cg', None), 'C': 4.853415516121104, 'tol': 0.09185238831649803, 'fit_intercept': False, 'class_weight': 'balanced', 'threshold': 0.68}. Best is trial 228 with value: 0.9692831909479629.\n",
      "[I 2025-07-01 08:40:41,756] Trial 282 finished with value: 0.9689592897345541 and parameters: {'solver_penalty': ('lbfgs', None), 'C': 2.987483002292705, 'tol': 0.019602702724146475, 'fit_intercept': True, 'class_weight': None, 'threshold': 0.626}. Best is trial 228 with value: 0.9692831909479629.\n",
      "[I 2025-07-01 08:40:43,324] Trial 280 finished with value: 0.9690672373740465 and parameters: {'solver_penalty': ('newton-cg', 'l2'), 'C': 7.107632660163032, 'tol': 0.001963208648141899, 'fit_intercept': True, 'class_weight': None, 'threshold': 0.53}. Best is trial 228 with value: 0.9692831909479629.\n",
      "[I 2025-07-01 08:40:44,724] Trial 284 finished with value: 0.819693339512596 and parameters: {'solver_penalty': ('lbfgs', None), 'C': 0.3611398533980944, 'tol': 0.015686439919135254, 'fit_intercept': True, 'class_weight': None, 'threshold': 0.963}. Best is trial 228 with value: 0.9692831909479629.\n",
      "[I 2025-07-01 08:40:45,318] Trial 285 finished with value: 0.9692292098413503 and parameters: {'solver_penalty': ('newton-cholesky', 'l2'), 'C': 5.519779371455948, 'tol': 0.06308404325305705, 'fit_intercept': False, 'class_weight': 'balanced', 'threshold': 0.5740000000000001}. Best is trial 228 with value: 0.9692831909479629.\n",
      "[I 2025-07-01 08:40:45,823] Trial 283 finished with value: 0.9682035833894421 and parameters: {'solver_penalty': ('lbfgs', None), 'C': 1.2439698320696488, 'tol': 0.0034469652567816196, 'fit_intercept': True, 'class_weight': None, 'threshold': 0.764}. Best is trial 228 with value: 0.9692831909479629.\n",
      "[I 2025-07-01 08:40:46,919] Trial 286 finished with value: 0.9690132854148995 and parameters: {'solver_penalty': ('lbfgs', None), 'C': 0.16314742826019532, 'tol': 0.013070413536158263, 'fit_intercept': True, 'class_weight': None, 'threshold': 0.47600000000000003}. Best is trial 228 with value: 0.9692831909479629.\n",
      "[I 2025-07-01 08:40:48,256] Trial 287 finished with value: 0.9692831909479629 and parameters: {'solver_penalty': ('newton-cholesky', 'l2'), 'C': 3.8319033829591502, 'tol': 0.08371112603445434, 'fit_intercept': False, 'class_weight': 'balanced', 'threshold': 0.533}. Best is trial 228 with value: 0.9692831909479629.\n",
      "[I 2025-07-01 08:40:48,780] Trial 288 finished with value: 0.9689053086279413 and parameters: {'solver_penalty': ('newton-cholesky', 'l2'), 'C': 4.99705492578061, 'tol': 0.05537419982918676, 'fit_intercept': False, 'class_weight': 'balanced', 'threshold': 0.437}. Best is trial 228 with value: 0.9692831909479629.\n",
      "[I 2025-07-01 08:40:50,464] Trial 290 finished with value: 0.9690672810952453 and parameters: {'solver_penalty': ('newton-cholesky', 'l2'), 'C': 6.8701634842718065, 'tol': 0.05982539946190092, 'fit_intercept': False, 'class_weight': 'balanced', 'threshold': 0.629}. Best is trial 228 with value: 0.9692831909479629.\n",
      "[I 2025-07-01 08:40:51,129] Trial 289 finished with value: 0.9691212476281249 and parameters: {'solver_penalty': ('lbfgs', 'l2'), 'C': 7.298691733589941, 'tol': 0.024228942382864327, 'fit_intercept': True, 'class_weight': 'balanced', 'threshold': 0.743}. Best is trial 228 with value: 0.9692831909479629.\n",
      "[I 2025-07-01 08:40:51,958] Trial 291 finished with value: 0.9691752287347377 and parameters: {'solver_penalty': ('newton-cholesky', 'l2'), 'C': 6.667050409521629, 'tol': 0.048405106595978575, 'fit_intercept': False, 'class_weight': 'balanced', 'threshold': 0.587}. Best is trial 228 with value: 0.9692831909479629.\n",
      "[I 2025-07-01 08:40:51,972] Trial 292 finished with value: 0.9690672519477793 and parameters: {'solver_penalty': ('newton-cholesky', 'l2'), 'C': 3.8572563948714897, 'tol': 0.07235455547284875, 'fit_intercept': False, 'class_weight': 'balanced', 'threshold': 0.484}. Best is trial 228 with value: 0.9692831909479629.\n",
      "[I 2025-07-01 08:40:54,118] Trial 294 finished with value: 0.9686893696277578 and parameters: {'solver_penalty': ('liblinear', 'l2'), 'C': 4.847354419098078, 'tol': 0.018289034703387524, 'fit_intercept': False, 'class_weight': 'balanced', 'threshold': 0.708}. Best is trial 228 with value: 0.9692831909479629.\n",
      "[I 2025-07-01 08:40:54,437] Trial 293 finished with value: 0.9692291952676175 and parameters: {'solver_penalty': ('newton-cholesky', 'l2'), 'C': 4.700535277339335, 'tol': 0.07975480410404723, 'fit_intercept': False, 'class_weight': 'balanced', 'threshold': 0.503}. Best is trial 228 with value: 0.9692831909479629.\n",
      "[I 2025-07-01 08:40:55,526] Trial 295 finished with value: 0.9196177018389136 and parameters: {'solver_penalty': ('newton-cholesky', 'l2'), 'C': 5.138644623172022, 'tol': 0.09299983949867018, 'fit_intercept': False, 'class_weight': 'balanced', 'threshold': 0.062}. Best is trial 228 with value: 0.9692831909479629.\n",
      "[I 2025-07-01 08:40:56,074] Trial 296 finished with value: 0.9689053232016743 and parameters: {'solver_penalty': ('lbfgs', None), 'C': 2.6390812377532185, 'tol': 0.05162499972560664, 'fit_intercept': True, 'class_weight': 'balanced', 'threshold': 0.486}. Best is trial 228 with value: 0.9692831909479629.\n",
      "[I 2025-07-01 08:40:57,723] Trial 298 finished with value: 0.9691752141610047 and parameters: {'solver_penalty': ('newton-cholesky', 'l2'), 'C': 0.656893054761365, 'tol': 0.062193143104512336, 'fit_intercept': False, 'class_weight': 'balanced', 'threshold': 0.525}. Best is trial 228 with value: 0.9692831909479629.\n",
      "[I 2025-07-01 08:40:57,871] Trial 297 finished with value: 0.9689593188820197 and parameters: {'solver_penalty': ('newton-cholesky', 'l2'), 'C': 6.249273988307188, 'tol': 0.02118949411695406, 'fit_intercept': False, 'class_weight': 'balanced', 'threshold': 0.651}. Best is trial 228 with value: 0.9692831909479629.\n",
      "[I 2025-07-01 08:40:58,476] Trial 299 finished with value: 0.9689593043082869 and parameters: {'solver_penalty': ('newton-cholesky', 'l2'), 'C': 6.617860738722073, 'tol': 0.028657785361987393, 'fit_intercept': False, 'class_weight': 'balanced', 'threshold': 0.622}. Best is trial 228 with value: 0.9692831909479629.\n",
      "[I 2025-07-01 08:40:59,492] Trial 300 finished with value: 0.9691212330543921 and parameters: {'solver_penalty': ('newton-cholesky', 'l2'), 'C': 5.450115715070865, 'tol': 0.02456673398783602, 'fit_intercept': False, 'class_weight': 'balanced', 'threshold': 0.481}. Best is trial 228 with value: 0.9692831909479629.\n",
      "[I 2025-07-01 08:41:01,087] Trial 301 finished with value: 0.9691752141610047 and parameters: {'solver_penalty': ('newton-cholesky', 'l2'), 'C': 0.6606845110484033, 'tol': 0.06539367082048717, 'fit_intercept': False, 'class_weight': 'balanced', 'threshold': 0.512}. Best is trial 228 with value: 0.9692831909479629.\n",
      "[I 2025-07-01 08:41:01,258] Trial 302 finished with value: 0.968311501881469 and parameters: {'solver_penalty': ('newton-cholesky', 'l2'), 'C': 0.9410720138591921, 'tol': 0.0626957201026895, 'fit_intercept': False, 'class_weight': 'balanced', 'threshold': 0.6950000000000001}. Best is trial 228 with value: 0.9692831909479629.\n",
      "[I 2025-07-01 08:41:02,531] Trial 303 finished with value: 0.9690132708411667 and parameters: {'solver_penalty': ('lbfgs', None), 'C': 7.7363012520818195, 'tol': 0.09369046150621357, 'fit_intercept': True, 'class_weight': 'balanced', 'threshold': 0.606}. Best is trial 228 with value: 0.9692831909479629.\n",
      "[I 2025-07-01 08:41:03,049] Trial 304 finished with value: 0.9689593043082869 and parameters: {'solver_penalty': ('newton-cholesky', 'l2'), 'C': 5.331257820782783, 'tol': 0.09997815164606114, 'fit_intercept': False, 'class_weight': 'balanced', 'threshold': 0.42}. Best is trial 228 with value: 0.9692831909479629.\n",
      "[I 2025-07-01 08:41:04,687] Trial 305 finished with value: 0.9689053086279413 and parameters: {'solver_penalty': ('newton-cholesky', 'l2'), 'C': 0.4278658667270462, 'tol': 0.07183072415364705, 'fit_intercept': False, 'class_weight': 'balanced', 'threshold': 0.467}. Best is trial 228 with value: 0.9692831909479629.\n",
      "[I 2025-07-01 08:41:04,696] Trial 306 finished with value: 0.9692831909479629 and parameters: {'solver_penalty': ('newton-cholesky', 'l2'), 'C': 1.7186436791636366, 'tol': 0.053320320563274556, 'fit_intercept': False, 'class_weight': 'balanced', 'threshold': 0.538}. Best is trial 228 with value: 0.9692831909479629.\n",
      "[I 2025-07-01 08:41:05,430] Trial 308 finished with value: 0.9669079348146076 and parameters: {'solver_penalty': ('liblinear', 'l2'), 'C': 0.9563162450900453, 'tol': 0.08505047296873744, 'fit_intercept': True, 'class_weight': 'balanced', 'threshold': 0.169}. Best is trial 228 with value: 0.9692831909479629.\n",
      "[I 2025-07-01 08:41:06,123] Trial 307 finished with value: 0.9690132854148995 and parameters: {'solver_penalty': ('newton-cholesky', 'l2'), 'C': 1.690764458665617, 'tol': 0.07254345591306312, 'fit_intercept': False, 'class_weight': 'balanced', 'threshold': 0.631}. Best is trial 228 with value: 0.9692831909479629.\n",
      "[I 2025-07-01 08:41:08,243] Trial 310 finished with value: 0.9690132999886325 and parameters: {'solver_penalty': ('newton-cholesky', None), 'C': 0.8593413460237009, 'tol': 0.04096824572483817, 'fit_intercept': False, 'class_weight': 'balanced', 'threshold': 0.369}. Best is trial 228 with value: 0.9692831909479629.\n",
      "[I 2025-07-01 08:41:08,432] Trial 309 finished with value: 0.9692292098413503 and parameters: {'solver_penalty': ('newton-cholesky', 'l2'), 'C': 4.4615052880402875, 'tol': 0.08242697757456426, 'fit_intercept': False, 'class_weight': 'balanced', 'threshold': 0.5740000000000001}. Best is trial 228 with value: 0.9692831909479629.\n",
      "[I 2025-07-01 08:41:08,823] Trial 311 finished with value: 0.9689593188820197 and parameters: {'solver_penalty': ('newton-cholesky', 'l2'), 'C': 1.6405116551497252, 'tol': 0.0447065946134923, 'fit_intercept': False, 'class_weight': 'balanced', 'threshold': 0.644}. Best is trial 228 with value: 0.9692831909479629.\n",
      "[I 2025-07-01 08:41:09,912] Trial 312 finished with value: 0.9691212476281251 and parameters: {'solver_penalty': ('lbfgs', 'l2'), 'C': 2.393010364274339, 'tol': 0.07600227948840604, 'fit_intercept': False, 'class_weight': 'balanced', 'threshold': 0.544}. Best is trial 228 with value: 0.9692831909479629.\n",
      "[I 2025-07-01 08:41:11,728] Trial 313 finished with value: 0.9689593043082869 and parameters: {'solver_penalty': ('newton-cholesky', 'l2'), 'C': 0.40295724835698943, 'tol': 0.04978764606183188, 'fit_intercept': False, 'class_weight': 'balanced', 'threshold': 0.64}. Best is trial 228 with value: 0.9692831909479629.\n",
      "[I 2025-07-01 08:41:11,929] Trial 314 finished with value: 0.9692291952676175 and parameters: {'solver_penalty': ('newton-cholesky', 'l2'), 'C': 0.8052791344123289, 'tol': 0.05269285622456296, 'fit_intercept': False, 'class_weight': 'balanced', 'threshold': 0.504}. Best is trial 228 with value: 0.9692831909479629.\n",
      "[I 2025-07-01 08:41:12,120] Trial 315 finished with value: 0.9691752141610047 and parameters: {'solver_penalty': ('newton-cholesky', 'l2'), 'C': 4.573106060503365, 'tol': 0.06794952909349336, 'fit_intercept': False, 'class_weight': 'balanced', 'threshold': 0.508}. Best is trial 228 with value: 0.9692831909479629.\n",
      "[I 2025-07-01 08:41:13,300] Trial 316 finished with value: 0.9548154236729888 and parameters: {'solver_penalty': ('newton-cholesky', None), 'C': 4.194933410747993, 'tol': 0.09417279072987982, 'fit_intercept': False, 'class_weight': 'balanced', 'threshold': 0.873}. Best is trial 228 with value: 0.9692831909479629.\n",
      "[I 2025-07-01 08:41:14,928] Trial 317 finished with value: 0.9692292098413503 and parameters: {'solver_penalty': ('newton-cholesky', None), 'C': 3.893122722767342, 'tol': 0.09219393975099668, 'fit_intercept': False, 'class_weight': 'balanced', 'threshold': 0.579}. Best is trial 228 with value: 0.9692831909479629.\n",
      "[I 2025-07-01 08:41:15,443] Trial 319 finished with value: 0.9690672665215123 and parameters: {'solver_penalty': ('newton-cholesky', 'l2'), 'C': 4.124320775750603, 'tol': 0.05811544859086863, 'fit_intercept': False, 'class_weight': 'balanced', 'threshold': 0.597}. Best is trial 228 with value: 0.9692831909479629.\n",
      "[I 2025-07-01 08:41:15,652] Trial 318 finished with value: 0.9690132854148995 and parameters: {'solver_penalty': ('newton-cg', 'l2'), 'C': 0.4299542076916067, 'tol': 0.06423677815115643, 'fit_intercept': False, 'class_weight': 'balanced', 'threshold': 0.492}. Best is trial 228 with value: 0.9692831909479629.\n",
      "[I 2025-07-01 08:41:16,338] Trial 320 finished with value: 0.9690132854148995 and parameters: {'solver_penalty': ('newton-cholesky', 'l2'), 'C': 4.105807879700974, 'tol': 0.08421103583371686, 'fit_intercept': False, 'class_weight': 'balanced', 'threshold': 0.609}. Best is trial 228 with value: 0.9692831909479629.\n",
      "[I 2025-07-01 08:41:18,296] Trial 321 finished with value: 0.968473445201307 and parameters: {'solver_penalty': ('newton-cholesky', None), 'C': 3.4336837873972224, 'tol': 0.09993593663547866, 'fit_intercept': False, 'class_weight': 'balanced', 'threshold': 0.682}. Best is trial 228 with value: 0.9692831909479629.\n",
      "[I 2025-07-01 08:41:18,808] Trial 322 finished with value: 0.9689053086279413 and parameters: {'solver_penalty': ('newton-cholesky', 'l2'), 'C': 9.436905775126998, 'tol': 0.08859105279661182, 'fit_intercept': False, 'class_weight': 'balanced', 'threshold': 0.453}. Best is trial 228 with value: 0.9692831909479629.\n",
      "[I 2025-07-01 08:41:19,492] Trial 323 finished with value: 0.9688513275213287 and parameters: {'solver_penalty': ('newton-cg', None), 'C': 0.040137314446748396, 'tol': 0.06300343029984497, 'fit_intercept': False, 'class_weight': 'balanced', 'threshold': 0.596}. Best is trial 228 with value: 0.9692831909479629.\n",
      "[I 2025-07-01 08:41:19,977] Trial 324 finished with value: 0.968473445201307 and parameters: {'solver_penalty': ('newton-cholesky', None), 'C': 4.355708720711159, 'tol': 0.09402329113373968, 'fit_intercept': False, 'class_weight': 'balanced', 'threshold': 0.682}. Best is trial 228 with value: 0.9692831909479629.\n",
      "[I 2025-07-01 08:41:20,859] Trial 325 finished with value: 0.9689593043082869 and parameters: {'solver_penalty': ('liblinear', 'l1'), 'C': 1.043339146738732, 'tol': 0.04670997867449003, 'fit_intercept': False, 'class_weight': 'balanced', 'threshold': 0.621}. Best is trial 228 with value: 0.9692831909479629.\n",
      "[I 2025-07-01 08:41:21,215] Trial 326 finished with value: 0.9690672519477793 and parameters: {'solver_penalty': ('liblinear', 'l1'), 'C': 0.4857644864706814, 'tol': 0.04170999950186741, 'fit_intercept': False, 'class_weight': 'balanced', 'threshold': 0.545}. Best is trial 228 with value: 0.9692831909479629.\n",
      "[I 2025-07-01 08:41:23,197] Trial 327 finished with value: 0.9687433798818361 and parameters: {'solver_penalty': ('newton-cholesky', None), 'C': 5.890391655816254, 'tol': 0.08771395179138985, 'fit_intercept': False, 'class_weight': 'balanced', 'threshold': 0.664}. Best is trial 228 with value: 0.9692831909479629.\n",
      "[I 2025-07-01 08:41:24,073] Trial 328 finished with value: 0.9690132854148995 and parameters: {'solver_penalty': ('newton-cg', None), 'C': 5.488993181401609, 'tol': 0.04002065157233074, 'fit_intercept': True, 'class_weight': 'balanced', 'threshold': 0.648}. Best is trial 228 with value: 0.9692831909479629.\n",
      "[I 2025-07-01 08:41:24,553] Trial 329 finished with value: 0.9686894279226891 and parameters: {'solver_penalty': ('newton-cholesky', 'l2'), 'C': 1.1931599678103508, 'tol': 0.05682056446217117, 'fit_intercept': True, 'class_weight': 'balanced', 'threshold': 0.47900000000000004}. Best is trial 228 with value: 0.9692831909479629.\n",
      "[I 2025-07-01 08:41:24,566] Trial 330 finished with value: 0.9690132999886325 and parameters: {'solver_penalty': ('newton-cholesky', 'l2'), 'C': 2.154642611086702, 'tol': 0.05524273816925377, 'fit_intercept': False, 'class_weight': 'balanced', 'threshold': 0.373}. Best is trial 228 with value: 0.9692831909479629.\n",
      "[I 2025-07-01 08:41:26,152] Trial 331 finished with value: 0.9691752287347377 and parameters: {'solver_penalty': ('newton-cholesky', 'l2'), 'C': 3.674083991703482, 'tol': 0.07834558042911102, 'fit_intercept': False, 'class_weight': 'balanced', 'threshold': 0.593}. Best is trial 228 with value: 0.9692831909479629.\n",
      "[I 2025-07-01 08:41:27,293] Trial 332 finished with value: 0.9692291952676175 and parameters: {'solver_penalty': ('newton-cholesky', 'l2'), 'C': 5.757572950034816, 'tol': 0.07911781439862692, 'fit_intercept': False, 'class_weight': 'balanced', 'threshold': 0.522}. Best is trial 228 with value: 0.9692831909479629.\n",
      "[I 2025-07-01 08:41:27,655] Trial 334 finished with value: 0.9689053086279416 and parameters: {'solver_penalty': ('newton-cg', None), 'C': 5.702430455544815, 'tol': 0.029824210170296687, 'fit_intercept': False, 'class_weight': 'balanced', 'threshold': 0.644}. Best is trial 228 with value: 0.9692831909479629.\n",
      "[I 2025-07-01 08:41:29,438] Trial 335 finished with value: 0.9692292098413503 and parameters: {'solver_penalty': ('newton-cholesky', 'l2'), 'C': 4.699687162006012, 'tol': 0.08279703170802369, 'fit_intercept': False, 'class_weight': 'balanced', 'threshold': 0.5740000000000001}. Best is trial 228 with value: 0.9692831909479629.\n",
      "[I 2025-07-01 08:41:29,444] Trial 336 finished with value: 0.9690132708411667 and parameters: {'solver_penalty': ('liblinear', 'l2'), 'C': 2.0657016906139845, 'tol': 0.057698661362227746, 'fit_intercept': False, 'class_weight': 'balanced', 'threshold': 0.625}. Best is trial 228 with value: 0.9692831909479629.\n",
      "[I 2025-07-01 08:41:30,489] Trial 337 finished with value: 0.9689053086279413 and parameters: {'solver_penalty': ('newton-cholesky', None), 'C': 2.744745299170721, 'tol': 0.07309770262185272, 'fit_intercept': False, 'class_weight': None, 'threshold': 0.448}. Best is trial 228 with value: 0.9692831909479629.\n",
      "[I 2025-07-01 08:41:30,647] Trial 333 finished with value: 0.9691752287347377 and parameters: {'solver_penalty': ('newton-cg', 'l2'), 'C': 7.710794811877201, 'tol': 0.011595547667054939, 'fit_intercept': True, 'class_weight': 'balanced', 'threshold': 0.738}. Best is trial 228 with value: 0.9692831909479629.\n",
      "[I 2025-07-01 08:41:32,830] Trial 338 finished with value: 0.9689593188820197 and parameters: {'solver_penalty': ('newton-cholesky', 'l2'), 'C': 4.498883678730785, 'tol': 0.08335480185955847, 'fit_intercept': False, 'class_weight': 'balanced', 'threshold': 0.648}. Best is trial 228 with value: 0.9692831909479629.\n",
      "[I 2025-07-01 08:41:33,293] Trial 340 finished with value: 0.2604729030584436 and parameters: {'solver_penalty': ('liblinear', 'l1'), 'C': 5.815431100644812, 'tol': 0.07208538617885553, 'fit_intercept': True, 'class_weight': None, 'threshold': 0.007}. Best is trial 228 with value: 0.9692831909479629.\n",
      "[I 2025-07-01 08:41:33,322] Trial 339 finished with value: 0.9690132854148995 and parameters: {'solver_penalty': ('newton-cholesky', 'l2'), 'C': 5.059676837798283, 'tol': 0.07351611033137108, 'fit_intercept': False, 'class_weight': 'balanced', 'threshold': 0.607}. Best is trial 228 with value: 0.9692831909479629.\n",
      "[I 2025-07-01 08:41:34,215] Trial 341 finished with value: 0.9689592897345539 and parameters: {'solver_penalty': ('newton-cholesky', 'l2'), 'C': 6.84343011990317, 'tol': 0.07694663034109317, 'fit_intercept': False, 'class_weight': 'balanced', 'threshold': 0.47200000000000003}. Best is trial 228 with value: 0.9692831909479629.\n",
      "[I 2025-07-01 08:41:36,384] Trial 343 finished with value: 0.9692292098413503 and parameters: {'solver_penalty': ('newton-cholesky', 'l2'), 'C': 5.21750957672272, 'tol': 0.07590609729482665, 'fit_intercept': False, 'class_weight': 'balanced', 'threshold': 0.558}. Best is trial 228 with value: 0.9692831909479629.\n",
      "[I 2025-07-01 08:41:36,706] Trial 344 finished with value: 0.9690132854148995 and parameters: {'solver_penalty': ('newton-cholesky', 'l2'), 'C': 5.441971071924824, 'tol': 0.08343120183518904, 'fit_intercept': False, 'class_weight': 'balanced', 'threshold': 0.612}. Best is trial 228 with value: 0.9692831909479629.\n",
      "[I 2025-07-01 08:41:36,713] Trial 342 finished with value: 0.9691212184806591 and parameters: {'solver_penalty': ('newton-cholesky', 'l2'), 'C': 8.298417174059875, 'tol': 0.05366166187185459, 'fit_intercept': True, 'class_weight': 'balanced', 'threshold': 0.737}. Best is trial 228 with value: 0.9692831909479629.\n",
      "[I 2025-07-01 08:41:37,135] Trial 345 finished with value: 0.9690672519477793 and parameters: {'solver_penalty': ('newton-cholesky', 'l2'), 'C': 0.40630783208017585, 'tol': 0.05573186162214851, 'fit_intercept': False, 'class_weight': None, 'threshold': 0.521}. Best is trial 228 with value: 0.9692831909479629.\n",
      "[I 2025-07-01 08:41:39,877] Trial 348 finished with value: 0.9687433944555691 and parameters: {'solver_penalty': ('newton-cg', 'l2'), 'C': 5.6062238760137975, 'tol': 0.09710206180851647, 'fit_intercept': False, 'class_weight': None, 'threshold': 0.399}. Best is trial 228 with value: 0.9692831909479629.\n",
      "[I 2025-07-01 08:41:39,897] Trial 347 finished with value: 0.9690672665215123 and parameters: {'solver_penalty': ('newton-cholesky', 'l2'), 'C': 4.892041775736317, 'tol': 0.09719950612181659, 'fit_intercept': False, 'class_weight': 'balanced', 'threshold': 0.595}. Best is trial 228 with value: 0.9692831909479629.\n",
      "[I 2025-07-01 08:41:40,297] Trial 349 finished with value: 0.9690672519477793 and parameters: {'solver_penalty': ('newton-cholesky', None), 'C': 2.675246386487233, 'tol': 0.07847999320984753, 'fit_intercept': False, 'class_weight': 'balanced', 'threshold': 0.488}. Best is trial 228 with value: 0.9692831909479629.\n",
      "[I 2025-07-01 08:41:40,663] Trial 346 finished with value: 0.9690132708411667 and parameters: {'solver_penalty': ('newton-cg', None), 'C': 3.12584951582367, 'tol': 0.08659766180678621, 'fit_intercept': True, 'class_weight': 'balanced', 'threshold': 0.5710000000000001}. Best is trial 228 with value: 0.9692831909479629.\n",
      "[I 2025-07-01 08:41:42,943] Trial 350 finished with value: 0.9687973318409832 and parameters: {'solver_penalty': ('lbfgs', None), 'C': 0.5812241406717096, 'tol': 0.031193336203257902, 'fit_intercept': True, 'class_weight': None, 'threshold': 0.666}. Best is trial 228 with value: 0.9692831909479629.\n",
      "[I 2025-07-01 08:41:43,308] Trial 351 finished with value: 0.9686894279226891 and parameters: {'solver_penalty': ('newton-cholesky', 'l2'), 'C': 6.0140050130345, 'tol': 0.0990205070438108, 'fit_intercept': True, 'class_weight': 'balanced', 'threshold': 0.47600000000000003}. Best is trial 228 with value: 0.9692831909479629.\n",
      "[I 2025-07-01 08:41:43,822] Trial 353 finished with value: 0.9685814657094639 and parameters: {'solver_penalty': ('newton-cholesky', 'l2'), 'C': 5.089656324200817, 'tol': 0.0762871170622363, 'fit_intercept': False, 'class_weight': 'balanced', 'threshold': 0.311}. Best is trial 228 with value: 0.9692831909479629.\n",
      "[I 2025-07-01 08:41:44,029] Trial 352 finished with value: 0.9687973172672502 and parameters: {'solver_penalty': ('newton-cg', None), 'C': 3.8081492329375313, 'tol': 0.05813289826962525, 'fit_intercept': False, 'class_weight': 'balanced', 'threshold': 0.663}. Best is trial 228 with value: 0.9692831909479629.\n",
      "[I 2025-07-01 08:41:45,809] Trial 354 finished with value: 0.9683654829880817 and parameters: {'solver_penalty': ('newton-cholesky', 'l2'), 'C': 8.632900342420033, 'tol': 0.050310060563216644, 'fit_intercept': False, 'class_weight': 'balanced', 'threshold': 0.714}. Best is trial 228 with value: 0.9692831909479629.\n",
      "[I 2025-07-01 08:41:47,521] Trial 357 finished with value: 0.9692292098413503 and parameters: {'solver_penalty': ('newton-cholesky', 'l2'), 'C': 7.208585556865943, 'tol': 0.08521701795082565, 'fit_intercept': False, 'class_weight': 'balanced', 'threshold': 0.5720000000000001}. Best is trial 228 with value: 0.9692831909479629.\n",
      "[I 2025-07-01 08:41:47,800] Trial 355 finished with value: 0.9688513712425273 and parameters: {'solver_penalty': ('lbfgs', None), 'C': 0.39680123641300125, 'tol': 0.008280196526883221, 'fit_intercept': True, 'class_weight': 'balanced', 'threshold': 0.607}. Best is trial 228 with value: 0.9692831909479629.\n",
      "[I 2025-07-01 08:41:48,601] Trial 358 finished with value: 0.9595659796608983 and parameters: {'solver_penalty': ('liblinear', 'l2'), 'C': 8.468336772725445, 'tol': 0.027458240414645896, 'fit_intercept': True, 'class_weight': None, 'threshold': 0.074}. Best is trial 228 with value: 0.9692831909479629.\n",
      "[I 2025-07-01 08:41:49,376] Trial 356 finished with value: 0.9690672373740465 and parameters: {'solver_penalty': ('lbfgs', None), 'C': 0.12415358773005358, 'tol': 0.0007739222717828616, 'fit_intercept': True, 'class_weight': None, 'threshold': 0.551}. Best is trial 228 with value: 0.9692831909479629.\n",
      "[I 2025-07-01 08:41:51,223] Trial 359 finished with value: 0.9688513712425273 and parameters: {'solver_penalty': ('newton-cg', None), 'C': 1.7043564203128265, 'tol': 0.0918000113809107, 'fit_intercept': False, 'class_weight': 'balanced', 'threshold': 0.341}. Best is trial 228 with value: 0.9692831909479629.\n",
      "[I 2025-07-01 08:41:51,550] Trial 360 finished with value: 0.9687433798818361 and parameters: {'solver_penalty': ('newton-cholesky', 'l2'), 'C': 5.432993886747598, 'tol': 0.08497444567584657, 'fit_intercept': True, 'class_weight': 'balanced', 'threshold': 0.8190000000000001}. Best is trial 228 with value: 0.9692831909479629.\n",
      "[I 2025-07-01 08:41:52,265] Trial 361 finished with value: 0.9688513275213287 and parameters: {'solver_penalty': ('newton-cg', 'l2'), 'C': 4.360905444433891, 'tol': 0.07524568025071521, 'fit_intercept': False, 'class_weight': 'balanced', 'threshold': 0.597}. Best is trial 228 with value: 0.9692831909479629.\n",
      "[I 2025-07-01 08:41:52,610] Trial 362 finished with value: 0.9689593043082869 and parameters: {'solver_penalty': ('newton-cholesky', 'l2'), 'C': 7.391449110056429, 'tol': 0.09429695636636669, 'fit_intercept': False, 'class_weight': 'balanced', 'threshold': 0.62}. Best is trial 228 with value: 0.9692831909479629.\n",
      "[I 2025-07-01 08:41:53,718] Trial 363 finished with value: 0.9687973755621819 and parameters: {'solver_penalty': ('liblinear', 'l1'), 'C': 3.3932615058571964, 'tol': 0.06404652579474575, 'fit_intercept': True, 'class_weight': 'balanced', 'threshold': 0.672}. Best is trial 228 with value: 0.9692831909479629.\n",
      "[I 2025-07-01 08:41:55,215] Trial 364 finished with value: 0.9688513275213287 and parameters: {'solver_penalty': ('lbfgs', 'l2'), 'C': 4.115585826484353, 'tol': 0.0961472091244025, 'fit_intercept': False, 'class_weight': 'balanced', 'threshold': 0.648}. Best is trial 228 with value: 0.9692831909479629.\n",
      "[I 2025-07-01 08:41:55,723] Trial 365 finished with value: 0.9692292098413503 and parameters: {'solver_penalty': ('newton-cholesky', 'l2'), 'C': 7.176356211907978, 'tol': 0.08036957117689805, 'fit_intercept': False, 'class_weight': 'balanced', 'threshold': 0.5670000000000001}. Best is trial 228 with value: 0.9692831909479629.\n",
      "[I 2025-07-01 08:41:56,966] Trial 367 finished with value: 0.9689053086279413 and parameters: {'solver_penalty': ('newton-cholesky', 'l2'), 'C': 6.146772905562339, 'tol': 0.08286510225483534, 'fit_intercept': False, 'class_weight': 'balanced', 'threshold': 0.453}. Best is trial 228 with value: 0.9692831909479629.\n",
      "[I 2025-07-01 08:41:57,505] Trial 366 finished with value: 0.9691212330543921 and parameters: {'solver_penalty': ('newton-cg', None), 'C': 0.1590775843351413, 'tol': 0.0011658429339208125, 'fit_intercept': False, 'class_weight': None, 'threshold': 0.59}. Best is trial 228 with value: 0.9692831909479629.\n",
      "[I 2025-07-01 08:41:58,520] Trial 368 finished with value: 0.9683654829880817 and parameters: {'solver_penalty': ('newton-cholesky', 'l2'), 'C': 5.852208399411647, 'tol': 0.06551416898505641, 'fit_intercept': False, 'class_weight': 'balanced', 'threshold': 0.711}. Best is trial 228 with value: 0.9692831909479629.\n",
      "[I 2025-07-01 08:41:59,044] Trial 369 finished with value: 0.9689053232016743 and parameters: {'solver_penalty': ('lbfgs', 'l2'), 'C': 7.312232030443191, 'tol': 0.09957716549668805, 'fit_intercept': False, 'class_weight': 'balanced', 'threshold': 0.438}. Best is trial 228 with value: 0.9692831909479629.\n",
      "[I 2025-07-01 08:42:00,706] Trial 371 finished with value: 0.9692831909479629 and parameters: {'solver_penalty': ('newton-cholesky', 'l2'), 'C': 5.673126868661859, 'tol': 0.08418642292878502, 'fit_intercept': False, 'class_weight': 'balanced', 'threshold': 0.541}. Best is trial 228 with value: 0.9692831909479629.\n",
      "[I 2025-07-01 08:42:01,036] Trial 370 finished with value: 0.9687973901359147 and parameters: {'solver_penalty': ('newton-cg', 'l2'), 'C': 6.3045027080307845, 'tol': 0.0868291707129585, 'fit_intercept': False, 'class_weight': 'balanced', 'threshold': 0.396}. Best is trial 228 with value: 0.9692831909479629.\n",
      "[I 2025-07-01 08:42:01,574] Trial 373 finished with value: 0.9688513420950615 and parameters: {'solver_penalty': ('liblinear', 'l1'), 'C': 8.445770449670304, 'tol': 0.0993349719142688, 'fit_intercept': False, 'class_weight': 'balanced', 'threshold': 0.668}. Best is trial 228 with value: 0.9692831909479629.\n",
      "[I 2025-07-01 08:42:01,952] Trial 372 finished with value: 0.9689053086279413 and parameters: {'solver_penalty': ('newton-cholesky', 'l2'), 'C': 4.734614440903312, 'tol': 0.07766208849480491, 'fit_intercept': False, 'class_weight': 'balanced', 'threshold': 0.445}. Best is trial 228 with value: 0.9692831909479629.\n",
      "[I 2025-07-01 08:42:04,216] Trial 376 finished with value: 0.9682575353485892 and parameters: {'solver_penalty': ('newton-cholesky', 'l2'), 'C': 5.891847003792161, 'tol': 0.08363838806790454, 'fit_intercept': False, 'class_weight': None, 'threshold': 0.709}. Best is trial 228 with value: 0.9692831909479629.\n",
      "[I 2025-07-01 08:42:04,557] Trial 375 finished with value: 0.9637228163447329 and parameters: {'solver_penalty': ('newton-cholesky', None), 'C': 8.575892842773008, 'tol': 0.04185732820280985, 'fit_intercept': True, 'class_weight': 'balanced', 'threshold': 0.222}. Best is trial 228 with value: 0.9692831909479629.\n",
      "[I 2025-07-01 08:42:05,249] Trial 374 finished with value: 0.8616927973697328 and parameters: {'solver_penalty': ('newton-cg', 'l2'), 'C': 4.022464178371767, 'tol': 0.017074768805117192, 'fit_intercept': False, 'class_weight': 'balanced', 'threshold': 0.9440000000000001}. Best is trial 228 with value: 0.9692831909479629.\n",
      "[I 2025-07-01 08:42:05,285] Trial 377 finished with value: 0.9692292098413503 and parameters: {'solver_penalty': ('newton-cholesky', 'l2'), 'C': 7.759608017066944, 'tol': 0.0761459715665611, 'fit_intercept': False, 'class_weight': 'balanced', 'threshold': 0.585}. Best is trial 228 with value: 0.9692831909479629.\n",
      "[I 2025-07-01 08:42:06,740] Trial 378 finished with value: 0.9689053377754071 and parameters: {'solver_penalty': ('liblinear', 'l1'), 'C': 7.70648638159463, 'tol': 0.09817978669093133, 'fit_intercept': True, 'class_weight': None, 'threshold': 0.557}. Best is trial 228 with value: 0.9692831909479629.\n",
      "[I 2025-07-01 08:42:07,748] Trial 380 finished with value: 0.9690672956689781 and parameters: {'solver_penalty': ('liblinear', 'l1'), 'C': 4.982408245121776, 'tol': 0.09611222581774817, 'fit_intercept': False, 'class_weight': 'balanced', 'threshold': 0.398}. Best is trial 228 with value: 0.9692831909479629.\n",
      "[I 2025-07-01 08:42:08,270] Trial 379 finished with value: 0.9685274408816525 and parameters: {'solver_penalty': ('newton-cholesky', 'l2'), 'C': 8.206291226699587, 'tol': 0.07828391764321076, 'fit_intercept': False, 'class_weight': 'balanced', 'threshold': 0.676}. Best is trial 228 with value: 0.9692831909479629.\n",
      "[I 2025-07-01 08:42:09,114] Trial 381 finished with value: 0.9686354613898095 and parameters: {'solver_penalty': ('newton-cholesky', 'l2'), 'C': 5.051030658344393, 'tol': 0.04845709301626419, 'fit_intercept': True, 'class_weight': 'balanced', 'threshold': 0.40800000000000003}. Best is trial 228 with value: 0.9692831909479629.\n",
      "[I 2025-07-01 08:42:10,615] Trial 383 finished with value: 0.9688513420950615 and parameters: {'solver_penalty': ('newton-cholesky', None), 'C': 8.769493635435907, 'tol': 0.08719036861426906, 'fit_intercept': False, 'class_weight': None, 'threshold': 0.658}. Best is trial 228 with value: 0.9692831909479629.\n",
      "[I 2025-07-01 08:42:10,930] Trial 382 finished with value: 0.9689053086279416 and parameters: {'solver_penalty': ('newton-cg', 'l2'), 'C': 2.7039669388112704, 'tol': 0.09889923648118534, 'fit_intercept': False, 'class_weight': 'balanced', 'threshold': 0.641}. Best is trial 228 with value: 0.9692831909479629.\n",
      "[I 2025-07-01 08:42:11,667] Trial 384 finished with value: 0.9690132999886325 and parameters: {'solver_penalty': ('newton-cholesky', None), 'C': 9.340640433189899, 'tol': 0.07195311901656969, 'fit_intercept': True, 'class_weight': 'balanced', 'threshold': 0.586}. Best is trial 228 with value: 0.9692831909479629.\n",
      "[I 2025-07-01 08:42:12,491] Trial 385 finished with value: 0.9690132854148995 and parameters: {'solver_penalty': ('newton-cholesky', 'l2'), 'C': 7.829377898574593, 'tol': 0.0781836560016126, 'fit_intercept': False, 'class_weight': 'balanced', 'threshold': 0.604}. Best is trial 228 with value: 0.9692831909479629.\n",
      "[I 2025-07-01 08:42:13,799] Trial 387 finished with value: 0.9682575353485892 and parameters: {'solver_penalty': ('newton-cholesky', None), 'C': 1.0315580736070826, 'tol': 0.09923955401717796, 'fit_intercept': False, 'class_weight': None, 'threshold': 0.713}. Best is trial 228 with value: 0.9692831909479629.\n",
      "[I 2025-07-01 08:42:14,165] Trial 386 finished with value: 0.9692831909479629 and parameters: {'solver_penalty': ('newton-cholesky', 'l2'), 'C': 7.454500460677405, 'tol': 0.07913980010514583, 'fit_intercept': False, 'class_weight': 'balanced', 'threshold': 0.534}. Best is trial 228 with value: 0.9692831909479629.\n",
      "[I 2025-07-01 08:42:15,798] Trial 388 finished with value: 0.9689053086279413 and parameters: {'solver_penalty': ('newton-cg', 'l2'), 'C': 1.4142390863623868, 'tol': 0.02626151453649577, 'fit_intercept': False, 'class_weight': 'balanced', 'threshold': 0.588}. Best is trial 228 with value: 0.9692831909479629.\n",
      "[I 2025-07-01 08:42:15,821] Trial 389 finished with value: 0.9690672519477793 and parameters: {'solver_penalty': ('newton-cholesky', 'l2'), 'C': 4.981187066910882, 'tol': 0.08517318258474495, 'fit_intercept': False, 'class_weight': 'balanced', 'threshold': 0.488}. Best is trial 228 with value: 0.9692831909479629.\n",
      "[I 2025-07-01 08:42:17,201] Trial 391 finished with value: 0.9691212330543921 and parameters: {'solver_penalty': ('newton-cholesky', 'l2'), 'C': 2.8411467644398125, 'tol': 0.08858839527457042, 'fit_intercept': False, 'class_weight': 'balanced', 'threshold': 0.493}. Best is trial 228 with value: 0.9692831909479629.\n",
      "[I 2025-07-01 08:42:17,360] Trial 390 finished with value: 0.9689593043082869 and parameters: {'solver_penalty': ('newton-cg', None), 'C': 7.5164241254088795, 'tol': 0.05253938351654967, 'fit_intercept': False, 'class_weight': 'balanced', 'threshold': 0.47900000000000004}. Best is trial 228 with value: 0.9692831909479629.\n",
      "[I 2025-07-01 08:42:19,029] Trial 393 finished with value: 0.9690672810952453 and parameters: {'solver_penalty': ('newton-cholesky', 'l2'), 'C': 4.080561104785469, 'tol': 0.06017430270541991, 'fit_intercept': False, 'class_weight': 'balanced', 'threshold': 0.629}. Best is trial 228 with value: 0.9692831909479629.\n",
      "[I 2025-07-01 08:42:19,548] Trial 392 finished with value: 0.9691212476281251 and parameters: {'solver_penalty': ('newton-cg', None), 'C': 6.8776521566174385, 'tol': 0.06999104919845618, 'fit_intercept': False, 'class_weight': 'balanced', 'threshold': 0.541}. Best is trial 228 with value: 0.9692831909479629.\n",
      "[I 2025-07-01 08:42:19,738] Trial 394 finished with value: 0.9617794236380119 and parameters: {'solver_penalty': ('liblinear', 'l1'), 'C': 5.400697019286952, 'tol': 0.00902358094114198, 'fit_intercept': False, 'class_weight': 'balanced', 'threshold': 0.098}. Best is trial 228 with value: 0.9692831909479629.\n",
      "[I 2025-07-01 08:42:21,267] Trial 395 finished with value: 0.9687433361606376 and parameters: {'solver_penalty': ('newton-cg', 'l2'), 'C': 5.654573680568674, 'tol': 0.04776702411902227, 'fit_intercept': False, 'class_weight': 'balanced', 'threshold': 0.669}. Best is trial 228 with value: 0.9692831909479629.\n",
      "[I 2025-07-01 08:42:22,131] Trial 396 finished with value: 0.9689053086279413 and parameters: {'solver_penalty': ('newton-cholesky', 'l2'), 'C': 7.198729238404085, 'tol': 0.06676794604839409, 'fit_intercept': False, 'class_weight': 'balanced', 'threshold': 0.465}. Best is trial 228 with value: 0.9692831909479629.\n",
      "[I 2025-07-01 08:42:22,804] Trial 397 finished with value: 0.9690132708411667 and parameters: {'solver_penalty': ('newton-cholesky', None), 'C': 0.29662927785765447, 'tol': 0.09110201250439617, 'fit_intercept': True, 'class_weight': 'balanced', 'threshold': 0.666}. Best is trial 228 with value: 0.9692831909479629.\n",
      "[I 2025-07-01 08:42:23,801] Trial 398 finished with value: 0.8801543795524698 and parameters: {'solver_penalty': ('newton-cg', None), 'C': 8.47048099940694, 'tol': 0.012021779752934982, 'fit_intercept': False, 'class_weight': 'balanced', 'threshold': 0.047}. Best is trial 228 with value: 0.9692831909479629.\n",
      "[I 2025-07-01 08:42:24,325] Trial 399 finished with value: 0.9691752141610047 and parameters: {'solver_penalty': ('newton-cholesky', 'l2'), 'C': 7.546651949271867, 'tol': 0.08419983704768512, 'fit_intercept': False, 'class_weight': 'balanced', 'threshold': 0.516}. Best is trial 228 with value: 0.9692831909479629.\n",
      "[I 2025-07-01 08:42:25,489] Trial 400 finished with value: 0.9691752141610047 and parameters: {'solver_penalty': ('newton-cholesky', 'l2'), 'C': 3.2631330858042364, 'tol': 0.04751880570543843, 'fit_intercept': False, 'class_weight': 'balanced', 'threshold': 0.515}. Best is trial 228 with value: 0.9692831909479629.\n",
      "[I 2025-07-01 08:42:26,178] Trial 401 finished with value: 0.9689593188820197 and parameters: {'solver_penalty': ('newton-cholesky', 'l2'), 'C': 7.115543753207973, 'tol': 0.09419902748142982, 'fit_intercept': False, 'class_weight': 'balanced', 'threshold': 0.367}. Best is trial 228 with value: 0.9692831909479629.\n",
      "[I 2025-07-01 08:42:27,324] Trial 402 finished with value: 0.865309604381447 and parameters: {'solver_penalty': ('newton-cholesky', 'l2'), 'C': 4.656292131406577, 'tol': 0.08907793403380233, 'fit_intercept': False, 'class_weight': 'balanced', 'threshold': 0.937}. Best is trial 228 with value: 0.9692831909479629.\n",
      "[I 2025-07-01 08:42:27,992] Trial 403 finished with value: 0.9689593188820197 and parameters: {'solver_penalty': ('newton-cholesky', 'l2'), 'C': 3.6718530584182574, 'tol': 0.09966556339440881, 'fit_intercept': False, 'class_weight': 'balanced', 'threshold': 0.653}. Best is trial 228 with value: 0.9692831909479629.\n",
      "[I 2025-07-01 08:42:27,997] Trial 404 finished with value: 0.9652344476409498 and parameters: {'solver_penalty': ('liblinear', 'l2'), 'C': 2.376487054143703, 'tol': 0.09073246401142097, 'fit_intercept': False, 'class_weight': 'balanced', 'threshold': 0.795}. Best is trial 228 with value: 0.9692831909479629.\n",
      "[I 2025-07-01 08:42:29,988] Trial 405 finished with value: 0.40234144507305813 and parameters: {'solver_penalty': ('newton-cholesky', 'l2'), 'C': 0.20383539372411974, 'tol': 0.06224812465585809, 'fit_intercept': False, 'class_weight': 'balanced', 'threshold': 0.02}. Best is trial 228 with value: 0.9692831909479629.\n",
      "[I 2025-07-01 08:42:31,104] Trial 406 finished with value: 0.9689053086279413 and parameters: {'solver_penalty': ('newton-cholesky', None), 'C': 5.673231881637999, 'tol': 0.047047559248981005, 'fit_intercept': False, 'class_weight': 'balanced', 'threshold': 0.431}. Best is trial 228 with value: 0.9692831909479629.\n",
      "[I 2025-07-01 08:42:31,515] Trial 408 finished with value: 0.9689592897345541 and parameters: {'solver_penalty': ('lbfgs', None), 'C': 3.4025626570294225, 'tol': 0.015132225561327053, 'fit_intercept': False, 'class_weight': None, 'threshold': 0.629}. Best is trial 228 with value: 0.9692831909479629.\n",
      "[I 2025-07-01 08:42:31,689] Trial 407 finished with value: 0.9692292098413503 and parameters: {'solver_penalty': ('newton-cholesky', 'l2'), 'C': 4.709084227956817, 'tol': 0.076014282449751, 'fit_intercept': False, 'class_weight': 'balanced', 'threshold': 0.5760000000000001}. Best is trial 228 with value: 0.9692831909479629.\n",
      "[I 2025-07-01 08:42:33,578] Trial 409 finished with value: 0.9692831909479629 and parameters: {'solver_penalty': ('newton-cholesky', 'l2'), 'C': 5.809479714068486, 'tol': 0.0710692457026752, 'fit_intercept': False, 'class_weight': 'balanced', 'threshold': 0.534}. Best is trial 228 with value: 0.9692831909479629.\n",
      "[I 2025-07-01 08:42:34,787] Trial 410 finished with value: 0.9689593188820197 and parameters: {'solver_penalty': ('newton-cholesky', 'l2'), 'C': 0.7141263346430008, 'tol': 0.04348101184022145, 'fit_intercept': False, 'class_weight': 'balanced', 'threshold': 0.36}. Best is trial 228 with value: 0.9692831909479629.\n",
      "[I 2025-07-01 08:42:35,005] Trial 412 finished with value: 0.9685274408816525 and parameters: {'solver_penalty': ('newton-cholesky', 'l2'), 'C': 5.335545318447601, 'tol': 0.0705301082273709, 'fit_intercept': False, 'class_weight': 'balanced', 'threshold': 0.678}. Best is trial 228 with value: 0.9692831909479629.\n",
      "[I 2025-07-01 08:42:35,387] Trial 411 finished with value: 0.9687973901359147 and parameters: {'solver_penalty': ('lbfgs', 'l2'), 'C': 2.3373365531532015, 'tol': 0.07164815571433462, 'fit_intercept': True, 'class_weight': 'balanced', 'threshold': 0.40700000000000003}. Best is trial 228 with value: 0.9692831909479629.\n",
      "[I 2025-07-01 08:42:36,990] Trial 413 finished with value: 0.9689053086279413 and parameters: {'solver_penalty': ('lbfgs', 'l2'), 'C': 9.57305167123466, 'tol': 0.06903449852230052, 'fit_intercept': False, 'class_weight': 'balanced', 'threshold': 0.607}. Best is trial 228 with value: 0.9692831909479629.\n",
      "[I 2025-07-01 08:42:37,674] Trial 414 finished with value: 0.9683654975618146 and parameters: {'solver_penalty': ('newton-cholesky', 'l2'), 'C': 8.712753491953936, 'tol': 0.0896665338612663, 'fit_intercept': True, 'class_weight': None, 'threshold': 0.723}. Best is trial 228 with value: 0.9692831909479629.\n",
      "[I 2025-07-01 08:42:38,508] Trial 415 finished with value: 0.9692831909479629 and parameters: {'solver_penalty': ('newton-cholesky', 'l2'), 'C': 5.06037157370089, 'tol': 0.07018541834420369, 'fit_intercept': False, 'class_weight': 'balanced', 'threshold': 0.525}. Best is trial 228 with value: 0.9692831909479629.\n",
      "[I 2025-07-01 08:42:39,661] Trial 416 finished with value: 0.9689053232016743 and parameters: {'solver_penalty': ('newton-cg', None), 'C': 4.331443367629298, 'tol': 0.08460791897547969, 'fit_intercept': False, 'class_weight': 'balanced', 'threshold': 0.462}. Best is trial 228 with value: 0.9692831909479629.\n",
      "[I 2025-07-01 08:42:40,178] Trial 418 finished with value: 0.9689053523491399 and parameters: {'solver_penalty': ('liblinear', 'l2'), 'C': 8.871807002426586, 'tol': 0.09086188345912508, 'fit_intercept': True, 'class_weight': None, 'threshold': 0.332}. Best is trial 228 with value: 0.9692831909479629.\n",
      "[I 2025-07-01 08:42:40,564] Trial 417 finished with value: 0.9690132854148995 and parameters: {'solver_penalty': ('newton-cholesky', 'l2'), 'C': 4.143455565082079, 'tol': 0.06774305481183354, 'fit_intercept': False, 'class_weight': 'balanced', 'threshold': 0.615}. Best is trial 228 with value: 0.9692831909479629.\n",
      "[I 2025-07-01 08:42:42,231] Trial 419 finished with value: 0.9691212330543921 and parameters: {'solver_penalty': ('newton-cholesky', 'l2'), 'C': 3.930377388867227, 'tol': 0.07007087368655546, 'fit_intercept': False, 'class_weight': 'balanced', 'threshold': 0.492}. Best is trial 228 with value: 0.9692831909479629.\n",
      "[I 2025-07-01 08:42:43,078] Trial 421 finished with value: 0.7395270969415564 and parameters: {'solver_penalty': ('lbfgs', 'l2'), 'C': 7.020567407042863, 'tol': 0.07490361241053989, 'fit_intercept': False, 'class_weight': None, 'threshold': 0.999}. Best is trial 228 with value: 0.9692831909479629.\n",
      "[I 2025-07-01 08:42:43,561] Trial 420 finished with value: 0.9689593043082869 and parameters: {'solver_penalty': ('newton-cholesky', 'l2'), 'C': 5.725661016606096, 'tol': 0.06209958832007201, 'fit_intercept': False, 'class_weight': 'balanced', 'threshold': 0.41200000000000003}. Best is trial 228 with value: 0.9692831909479629.\n",
      "[I 2025-07-01 08:42:43,777] Trial 422 finished with value: 0.9673938376427863 and parameters: {'solver_penalty': ('newton-cholesky', 'l2'), 'C': 9.569618862202882, 'tol': 0.09141893686812111, 'fit_intercept': False, 'class_weight': None, 'threshold': 0.796}. Best is trial 228 with value: 0.9692831909479629.\n",
      "[I 2025-07-01 08:42:45,712] Trial 423 finished with value: 0.9691752141610049 and parameters: {'solver_penalty': ('newton-cholesky', 'l2'), 'C': 6.175297287085791, 'tol': 0.06885364163302697, 'fit_intercept': False, 'class_weight': 'balanced', 'threshold': 0.501}. Best is trial 228 with value: 0.9692831909479629.\n",
      "[I 2025-07-01 08:42:46,404] Trial 425 finished with value: 0.9689593043082869 and parameters: {'solver_penalty': ('newton-cholesky', 'l2'), 'C': 5.584913544923054, 'tol': 0.08705759056640339, 'fit_intercept': True, 'class_weight': None, 'threshold': 0.47100000000000003}. Best is trial 228 with value: 0.9692831909479629.\n",
      "[I 2025-07-01 08:42:46,894] Trial 424 finished with value: 0.9692292098413503 and parameters: {'solver_penalty': ('newton-cholesky', 'l2'), 'C': 5.752656934978701, 'tol': 0.06610886930292283, 'fit_intercept': False, 'class_weight': 'balanced', 'threshold': 0.582}. Best is trial 228 with value: 0.9692831909479629.\n",
      "[I 2025-07-01 08:42:47,279] Trial 426 finished with value: 0.9690132999886325 and parameters: {'solver_penalty': ('newton-cholesky', 'l2'), 'C': 6.470332583482959, 'tol': 0.06838784202942252, 'fit_intercept': True, 'class_weight': 'balanced', 'threshold': 0.588}. Best is trial 228 with value: 0.9692831909479629.\n",
      "[I 2025-07-01 08:42:48,714] Trial 427 finished with value: 0.9691752287347377 and parameters: {'solver_penalty': ('newton-cholesky', 'l2'), 'C': 5.0232077427473385, 'tol': 0.05776902989777979, 'fit_intercept': False, 'class_weight': None, 'threshold': 0.6}. Best is trial 228 with value: 0.9692831909479629.\n",
      "[I 2025-07-01 08:42:49,392] Trial 428 finished with value: 0.9689053377754071 and parameters: {'solver_penalty': ('newton-cholesky', 'l2'), 'C': 5.122172810683353, 'tol': 0.07746803249333878, 'fit_intercept': False, 'class_weight': None, 'threshold': 0.37}. Best is trial 228 with value: 0.9692831909479629.\n",
      "[I 2025-07-01 08:42:50,717] Trial 429 finished with value: 0.9587023693974928 and parameters: {'solver_penalty': ('newton-cg', None), 'C': 4.487977434295432, 'tol': 0.04927025675454173, 'fit_intercept': True, 'class_weight': None, 'threshold': 0.858}. Best is trial 228 with value: 0.9692831909479629.\n",
      "[I 2025-07-01 08:42:51,212] Trial 430 finished with value: 0.9692292098413503 and parameters: {'solver_penalty': ('newton-cholesky', 'l2'), 'C': 5.47764243989703, 'tol': 0.07260232180103003, 'fit_intercept': False, 'class_weight': 'balanced', 'threshold': 0.584}. Best is trial 228 with value: 0.9692831909479629.\n",
      "[I 2025-07-01 08:42:51,237] Trial 431 finished with value: 0.9688513129475957 and parameters: {'solver_penalty': ('liblinear', 'l1'), 'C': 5.222706557289609, 'tol': 0.014247080402000236, 'fit_intercept': False, 'class_weight': None, 'threshold': 0.595}. Best is trial 228 with value: 0.9692831909479629.\n",
      "[I 2025-07-01 08:42:52,918] Trial 432 finished with value: 0.9689593188820197 and parameters: {'solver_penalty': ('newton-cholesky', 'l2'), 'C': 6.446146921656508, 'tol': 0.05881703630773586, 'fit_intercept': False, 'class_weight': 'balanced', 'threshold': 0.655}. Best is trial 228 with value: 0.9692831909479629.\n",
      "[I 2025-07-01 08:42:54,227] Trial 433 finished with value: 0.9689593043082869 and parameters: {'solver_penalty': ('newton-cholesky', None), 'C': 2.5843910190411084, 'tol': 0.09571574860900306, 'fit_intercept': False, 'class_weight': 'balanced', 'threshold': 0.40700000000000003}. Best is trial 228 with value: 0.9692831909479629.\n",
      "[I 2025-07-01 08:42:54,421] Trial 435 finished with value: 0.9689053086279413 and parameters: {'solver_penalty': ('newton-cholesky', None), 'C': 4.016108960899862, 'tol': 0.09476967831244221, 'fit_intercept': False, 'class_weight': 'balanced', 'threshold': 0.443}. Best is trial 228 with value: 0.9692831909479629.\n",
      "[I 2025-07-01 08:42:54,757] Trial 434 finished with value: 0.9686354468160765 and parameters: {'solver_penalty': ('newton-cholesky', 'l2'), 'C': 9.336986988703652, 'tol': 0.0751509333596985, 'fit_intercept': True, 'class_weight': 'balanced', 'threshold': 0.456}. Best is trial 228 with value: 0.9692831909479629.\n",
      "[I 2025-07-01 08:42:55,959] Trial 436 finished with value: 0.9692292098413503 and parameters: {'solver_penalty': ('newton-cholesky', 'l2'), 'C': 6.081922317026157, 'tol': 0.07013291434323154, 'fit_intercept': False, 'class_weight': 'balanced', 'threshold': 0.5670000000000001}. Best is trial 228 with value: 0.9692831909479629.\n",
      "[I 2025-07-01 08:42:57,470] Trial 438 finished with value: 0.2645755400296721 and parameters: {'solver_penalty': ('newton-cg', 'l2'), 'C': 7.208603348873392, 'tol': 0.05457856284349435, 'fit_intercept': False, 'class_weight': None, 'threshold': 0.007}. Best is trial 228 with value: 0.9692831909479629.\n",
      "[I 2025-07-01 08:42:57,684] Trial 439 finished with value: 0.9689593188820197 and parameters: {'solver_penalty': ('newton-cholesky', 'l2'), 'C': 7.089078240214128, 'tol': 0.07594256751293191, 'fit_intercept': False, 'class_weight': 'balanced', 'threshold': 0.648}. Best is trial 228 with value: 0.9692831909479629.\n",
      "[I 2025-07-01 08:42:58,578] Trial 437 finished with value: 0.9687973609884487 and parameters: {'solver_penalty': ('newton-cg', 'l2'), 'C': 5.140717605058877, 'tol': 0.0014464233862978414, 'fit_intercept': False, 'class_weight': None, 'threshold': 0.654}. Best is trial 228 with value: 0.9692831909479629.\n",
      "[I 2025-07-01 08:42:59,625] Trial 440 finished with value: 0.2783409553956332 and parameters: {'solver_penalty': ('lbfgs', 'l2'), 'C': 4.140278776438852, 'tol': 0.05427005545827654, 'fit_intercept': False, 'class_weight': 'balanced', 'threshold': 0.009000000000000001}. Best is trial 228 with value: 0.9692831909479629.\n",
      "[I 2025-07-01 08:43:01,378] Trial 441 finished with value: 0.9677176805612635 and parameters: {'solver_penalty': ('lbfgs', 'l2'), 'C': 4.63908597523586, 'tol': 0.07648214712361709, 'fit_intercept': True, 'class_weight': None, 'threshold': 0.762}. Best is trial 228 with value: 0.9692831909479629.\n",
      "[I 2025-07-01 08:43:01,579] Trial 443 finished with value: 0.9689593043082869 and parameters: {'solver_penalty': ('liblinear', 'l2'), 'C': 6.910809756894136, 'tol': 0.02663953691862668, 'fit_intercept': True, 'class_weight': None, 'threshold': 0.507}. Best is trial 228 with value: 0.9692831909479629.\n",
      "[I 2025-07-01 08:43:01,950] Trial 442 finished with value: 0.9689593043082869 and parameters: {'solver_penalty': ('newton-cholesky', 'l2'), 'C': 4.880405714042714, 'tol': 0.08284840579465018, 'fit_intercept': False, 'class_weight': 'balanced', 'threshold': 0.622}. Best is trial 228 with value: 0.9692831909479629.\n",
      "[I 2025-07-01 08:43:02,476] Trial 444 finished with value: 0.9636689226805176 and parameters: {'solver_penalty': ('liblinear', 'l2'), 'C': 7.194004028450528, 'tol': 0.08399987937795728, 'fit_intercept': False, 'class_weight': 'balanced', 'threshold': 0.8160000000000001}. Best is trial 228 with value: 0.9692831909479629.\n",
      "[I 2025-07-01 08:43:03,939] Trial 445 finished with value: 0.9692292098413503 and parameters: {'solver_penalty': ('liblinear', 'l2'), 'C': 4.49253937540172, 'tol': 0.0167636055315065, 'fit_intercept': True, 'class_weight': None, 'threshold': 0.5630000000000001}. Best is trial 228 with value: 0.9692831909479629.\n",
      "[I 2025-07-01 08:43:05,418] Trial 446 finished with value: 0.9692291952676175 and parameters: {'solver_penalty': ('newton-cholesky', 'l2'), 'C': 5.585906849215808, 'tol': 0.09209243298385031, 'fit_intercept': False, 'class_weight': 'balanced', 'threshold': 0.521}. Best is trial 228 with value: 0.9692831909479629.\n",
      "[I 2025-07-01 08:43:05,755] Trial 447 finished with value: 0.9692291952676175 and parameters: {'solver_penalty': ('newton-cholesky', 'l2'), 'C': 4.718012000830481, 'tol': 0.09269739045631606, 'fit_intercept': False, 'class_weight': 'balanced', 'threshold': 0.521}. Best is trial 228 with value: 0.9692831909479629.\n",
      "[I 2025-07-01 08:43:05,979] Trial 448 finished with value: 0.9690132708411667 and parameters: {'solver_penalty': ('newton-cholesky', 'l2'), 'C': 4.872651755696918, 'tol': 0.09923162688224044, 'fit_intercept': False, 'class_weight': 'balanced', 'threshold': 0.47900000000000004}. Best is trial 228 with value: 0.9692831909479629.\n",
      "[I 2025-07-01 08:43:07,592] Trial 449 finished with value: 0.9689593188820197 and parameters: {'solver_penalty': ('newton-cholesky', 'l2'), 'C': 3.0396960089695857, 'tol': 0.09158878841803687, 'fit_intercept': True, 'class_weight': 'balanced', 'threshold': 0.556}. Best is trial 228 with value: 0.9692831909479629.\n",
      "[I 2025-07-01 08:43:08,098] Trial 450 finished with value: 0.9690672665215123 and parameters: {'solver_penalty': ('liblinear', 'l2'), 'C': 8.711578734423888, 'tol': 0.007954662594622505, 'fit_intercept': False, 'class_weight': 'balanced', 'threshold': 0.529}. Best is trial 228 with value: 0.9692831909479629.\n",
      "[I 2025-07-01 08:43:08,954] Trial 451 finished with value: 0.9690132854148995 and parameters: {'solver_penalty': ('newton-cholesky', 'l2'), 'C': 3.6032430410946428, 'tol': 0.07613908257521045, 'fit_intercept': False, 'class_weight': 'balanced', 'threshold': 0.629}. Best is trial 228 with value: 0.9692831909479629.\n",
      "[I 2025-07-01 08:43:09,466] Trial 452 finished with value: 0.9690132854148995 and parameters: {'solver_penalty': ('newton-cg', None), 'C': 5.7036474782471345, 'tol': 0.08829455733385175, 'fit_intercept': False, 'class_weight': None, 'threshold': 0.556}. Best is trial 228 with value: 0.9692831909479629.\n",
      "[I 2025-07-01 08:43:10,960] Trial 453 finished with value: 0.9663141717893338 and parameters: {'solver_penalty': ('newton-cholesky', 'l2'), 'C': 3.2132012168145647, 'tol': 0.07143415159023576, 'fit_intercept': False, 'class_weight': 'balanced', 'threshold': 0.801}. Best is trial 228 with value: 0.9692831909479629.\n",
      "[I 2025-07-01 08:43:11,480] Trial 454 finished with value: 0.9692292098413503 and parameters: {'solver_penalty': ('newton-cholesky', None), 'C': 6.141867671223576, 'tol': 0.06597466750219357, 'fit_intercept': False, 'class_weight': 'balanced', 'threshold': 0.553}. Best is trial 228 with value: 0.9692831909479629.\n",
      "[I 2025-07-01 08:43:12,334] Trial 455 finished with value: 0.9692292098413503 and parameters: {'solver_penalty': ('newton-cholesky', 'l2'), 'C': 6.102964320542824, 'tol': 0.07533617445442754, 'fit_intercept': False, 'class_weight': 'balanced', 'threshold': 0.5700000000000001}. Best is trial 228 with value: 0.9692831909479629.\n",
      "[I 2025-07-01 08:43:12,864] Trial 456 finished with value: 0.9692292098413503 and parameters: {'solver_penalty': ('newton-cholesky', 'l2'), 'C': 6.056685503921059, 'tol': 0.06706222248838312, 'fit_intercept': False, 'class_weight': 'balanced', 'threshold': 0.5690000000000001}. Best is trial 228 with value: 0.9692831909479629.\n",
      "[I 2025-07-01 08:43:14,362] Trial 457 finished with value: 0.9690672665215123 and parameters: {'solver_penalty': ('newton-cholesky', 'l2'), 'C': 9.859507327514077, 'tol': 0.062481059632023606, 'fit_intercept': False, 'class_weight': 'balanced', 'threshold': 0.594}. Best is trial 228 with value: 0.9692831909479629.\n",
      "[I 2025-07-01 08:43:15,372] Trial 460 finished with value: 0.9689593043082869 and parameters: {'solver_penalty': ('liblinear', 'l1'), 'C': 7.0984487887910115, 'tol': 0.07828585277977873, 'fit_intercept': False, 'class_weight': 'balanced', 'threshold': 0.40700000000000003}. Best is trial 228 with value: 0.9692831909479629.\n",
      "[I 2025-07-01 08:43:15,716] Trial 458 finished with value: 0.966044178813873 and parameters: {'solver_penalty': ('newton-cg', 'l2'), 'C': 8.741560268762031, 'tol': 0.03472328253142685, 'fit_intercept': False, 'class_weight': 'balanced', 'threshold': 0.137}. Best is trial 228 with value: 0.9692831909479629.\n",
      "[I 2025-07-01 08:43:15,909] Trial 459 finished with value: 0.9638309388690199 and parameters: {'solver_penalty': ('newton-cholesky', None), 'C': 7.6270699763302705, 'tol': 0.03949356860982306, 'fit_intercept': False, 'class_weight': 'balanced', 'threshold': 0.8270000000000001}. Best is trial 228 with value: 0.9692831909479629.\n",
      "[I 2025-07-01 08:43:17,973] Trial 462 finished with value: 0.9670698489869798 and parameters: {'solver_penalty': ('liblinear', 'l2'), 'C': 4.4983271185269125, 'tol': 0.058973746561012994, 'fit_intercept': False, 'class_weight': 'balanced', 'threshold': 0.768}. Best is trial 228 with value: 0.9692831909479629.\n",
      "[I 2025-07-01 08:43:18,298] Trial 461 finished with value: 0.9689593188820197 and parameters: {'solver_penalty': ('newton-cholesky', 'l2'), 'C': 9.224699911618233, 'tol': 0.09613002556521631, 'fit_intercept': False, 'class_weight': 'balanced', 'threshold': 0.649}. Best is trial 228 with value: 0.9692831909479629.\n",
      "[I 2025-07-01 08:43:19,381] Trial 463 finished with value: 0.9690672810952453 and parameters: {'solver_penalty': ('newton-cholesky', 'l2'), 'C': 5.072608741217886, 'tol': 0.07125622494628137, 'fit_intercept': False, 'class_weight': 'balanced', 'threshold': 0.629}. Best is trial 228 with value: 0.9692831909479629.\n",
      "[I 2025-07-01 08:43:19,770] Trial 464 finished with value: 0.9688513275213287 and parameters: {'solver_penalty': ('lbfgs', None), 'C': 5.824590956980818, 'tol': 0.06089935125812836, 'fit_intercept': False, 'class_weight': 'balanced', 'threshold': 0.653}. Best is trial 228 with value: 0.9692831909479629.\n",
      "[I 2025-07-01 08:43:21,360] Trial 465 finished with value: 0.9689053086279413 and parameters: {'solver_penalty': ('newton-cholesky', 'l2'), 'C': 3.6307944571291615, 'tol': 0.08359557868026957, 'fit_intercept': False, 'class_weight': 'balanced', 'threshold': 0.463}. Best is trial 228 with value: 0.9692831909479629.\n",
      "[I 2025-07-01 08:43:21,866] Trial 466 finished with value: 0.9692831909479629 and parameters: {'solver_penalty': ('newton-cholesky', 'l2'), 'C': 3.211855540092502, 'tol': 0.07639778450284919, 'fit_intercept': False, 'class_weight': 'balanced', 'threshold': 0.541}. Best is trial 228 with value: 0.9692831909479629.\n",
      "[I 2025-07-01 08:43:22,974] Trial 467 finished with value: 0.968311487307736 and parameters: {'solver_penalty': ('lbfgs', None), 'C': 1.072509075016948, 'tol': 0.09175189885084607, 'fit_intercept': False, 'class_weight': 'balanced', 'threshold': 0.736}. Best is trial 228 with value: 0.9692831909479629.\n",
      "[I 2025-07-01 08:43:23,174] Trial 468 finished with value: 0.9692831909479629 and parameters: {'solver_penalty': ('newton-cholesky', 'l2'), 'C': 3.6474526092362183, 'tol': 0.08172119397867972, 'fit_intercept': False, 'class_weight': 'balanced', 'threshold': 0.524}. Best is trial 228 with value: 0.9692831909479629.\n",
      "[I 2025-07-01 08:43:25,035] Trial 469 finished with value: 0.9672318943229481 and parameters: {'solver_penalty': ('newton-cholesky', None), 'C': 2.2833161579038093, 'tol': 0.0749474088104549, 'fit_intercept': False, 'class_weight': 'balanced', 'threshold': 0.774}. Best is trial 228 with value: 0.9692831909479629.\n",
      "[I 2025-07-01 08:43:25,404] Trial 470 finished with value: 0.9690132708411667 and parameters: {'solver_penalty': ('lbfgs', 'l2'), 'C': 5.120450924947823, 'tol': 0.05477958247298714, 'fit_intercept': False, 'class_weight': 'balanced', 'threshold': 0.585}. Best is trial 228 with value: 0.9692831909479629.\n",
      "[I 2025-07-01 08:43:26,881] Trial 471 finished with value: 0.7754805834156748 and parameters: {'solver_penalty': ('newton-cg', 'l2'), 'C': 6.418796295655581, 'tol': 0.031107831201308507, 'fit_intercept': False, 'class_weight': None, 'threshold': 0.973}. Best is trial 228 with value: 0.9692831909479629.\n",
      "[I 2025-07-01 08:43:26,900] Trial 472 finished with value: 0.968473445201307 and parameters: {'solver_penalty': ('newton-cholesky', 'l2'), 'C': 3.0757341633667505, 'tol': 0.09196568907257431, 'fit_intercept': False, 'class_weight': 'balanced', 'threshold': 0.679}. Best is trial 228 with value: 0.9692831909479629.\n",
      "[I 2025-07-01 08:43:27,472] Trial 473 finished with value: 0.9690672665215121 and parameters: {'solver_penalty': ('liblinear', 'l1'), 'C': 1.773511235321647, 'tol': 0.07546593856450579, 'fit_intercept': False, 'class_weight': 'balanced', 'threshold': 0.48}. Best is trial 228 with value: 0.9692831909479629.\n",
      "[I 2025-07-01 08:43:28,807] Trial 474 finished with value: 0.9680955628812853 and parameters: {'solver_penalty': ('newton-cholesky', 'l2'), 'C': 2.5201193826666684, 'tol': 0.08447081078938232, 'fit_intercept': False, 'class_weight': 'balanced', 'threshold': 0.72}. Best is trial 228 with value: 0.9692831909479629.\n",
      "[I 2025-07-01 08:43:30,425] Trial 477 finished with value: 0.9688513420950615 and parameters: {'solver_penalty': ('liblinear', 'l1'), 'C': 5.281070139781889, 'tol': 0.08368894745614554, 'fit_intercept': False, 'class_weight': 'balanced', 'threshold': 0.647}. Best is trial 228 with value: 0.9692831909479629.\n",
      "[I 2025-07-01 08:43:30,611] Trial 476 finished with value: 0.9689053086279413 and parameters: {'solver_penalty': ('newton-cholesky', 'l2'), 'C': 3.1145536892506036, 'tol': 0.07750328235676063, 'fit_intercept': False, 'class_weight': 'balanced', 'threshold': 0.444}. Best is trial 228 with value: 0.9692831909479629.\n",
      "[I 2025-07-01 08:43:30,976] Trial 475 finished with value: 0.9683654829880817 and parameters: {'solver_penalty': ('newton-cholesky', 'l2'), 'C': 3.5700794782323104, 'tol': 0.08601481609348899, 'fit_intercept': False, 'class_weight': 'balanced', 'threshold': 0.7000000000000001}. Best is trial 228 with value: 0.9692831909479629.\n",
      "[I 2025-07-01 08:43:31,383] Trial 478 finished with value: 0.9688513712425273 and parameters: {'solver_penalty': ('liblinear', 'l2'), 'C': 1.3513768049681518, 'tol': 0.07059688684352061, 'fit_intercept': True, 'class_weight': None, 'threshold': 0.296}. Best is trial 228 with value: 0.9692831909479629.\n",
      "[I 2025-07-01 08:43:34,176] Trial 482 finished with value: 0.9680955920287511 and parameters: {'solver_penalty': ('liblinear', 'l2'), 'C': 8.055505493852785, 'tol': 0.004657855525159542, 'fit_intercept': False, 'class_weight': None, 'threshold': 0.763}. Best is trial 228 with value: 0.9692831909479629.\n",
      "[I 2025-07-01 08:43:34,365] Trial 479 finished with value: 0.9692831909479629 and parameters: {'solver_penalty': ('newton-cholesky', 'l2'), 'C': 3.5997880088043965, 'tol': 0.07752557155489152, 'fit_intercept': False, 'class_weight': 'balanced', 'threshold': 0.531}. Best is trial 228 with value: 0.9692831909479629.\n",
      "[I 2025-07-01 08:43:34,720] Trial 480 finished with value: 0.9691752287347377 and parameters: {'solver_penalty': ('newton-cholesky', None), 'C': 8.8635622313166, 'tol': 0.07044006631036641, 'fit_intercept': False, 'class_weight': 'balanced', 'threshold': 0.59}. Best is trial 228 with value: 0.9692831909479629.\n",
      "[I 2025-07-01 08:43:34,736] Trial 481 finished with value: 0.9691752287347377 and parameters: {'solver_penalty': ('newton-cholesky', None), 'C': 4.56919536684145, 'tol': 0.07937958110164453, 'fit_intercept': False, 'class_weight': 'balanced', 'threshold': 0.586}. Best is trial 228 with value: 0.9692831909479629.\n",
      "[I 2025-07-01 08:43:37,419] Trial 483 finished with value: 0.9691752141610047 and parameters: {'solver_penalty': ('newton-cholesky', 'l2'), 'C': 7.297536338079105, 'tol': 0.08219295005151171, 'fit_intercept': False, 'class_weight': 'balanced', 'threshold': 0.504}. Best is trial 228 with value: 0.9692831909479629.\n",
      "[I 2025-07-01 08:43:37,780] Trial 484 finished with value: 0.9685274700291183 and parameters: {'solver_penalty': ('newton-cholesky', 'l2'), 'C': 3.8549525983801103, 'tol': 0.08558342317506155, 'fit_intercept': False, 'class_weight': 'balanced', 'threshold': 0.313}. Best is trial 228 with value: 0.9692831909479629.\n",
      "[I 2025-07-01 08:43:37,941] Trial 485 finished with value: 0.9692831909479629 and parameters: {'solver_penalty': ('newton-cholesky', 'l2'), 'C': 3.2560981310480357, 'tol': 0.0736351253250233, 'fit_intercept': False, 'class_weight': 'balanced', 'threshold': 0.536}. Best is trial 228 with value: 0.9692831909479629.\n",
      "[I 2025-07-01 08:43:38,354] Trial 486 finished with value: 0.9690132854148995 and parameters: {'solver_penalty': ('newton-cg', 'l2'), 'C': 7.288381217801084, 'tol': 0.07057026425370946, 'fit_intercept': False, 'class_weight': 'balanced', 'threshold': 0.556}. Best is trial 228 with value: 0.9692831909479629.\n",
      "[I 2025-07-01 08:43:40,476] Trial 487 finished with value: 0.9096308473459775 and parameters: {'solver_penalty': ('newton-cg', 'l2'), 'C': 5.263082659973731, 'tol': 0.08772476491054733, 'fit_intercept': False, 'class_weight': None, 'threshold': 0.926}. Best is trial 228 with value: 0.9692831909479629.\n",
      "[I 2025-07-01 08:43:41,028] Trial 488 finished with value: 0.9591342036766612 and parameters: {'solver_penalty': ('lbfgs', None), 'C': 8.978187664338279, 'tol': 0.07191008128319333, 'fit_intercept': True, 'class_weight': None, 'threshold': 0.862}. Best is trial 228 with value: 0.9692831909479629.\n",
      "[I 2025-07-01 08:43:41,408] Trial 489 finished with value: 0.9690132708411667 and parameters: {'solver_penalty': ('newton-cholesky', 'l2'), 'C': 1.5152372520198258, 'tol': 0.09172958253769913, 'fit_intercept': False, 'class_weight': 'balanced', 'threshold': 0.47900000000000004}. Best is trial 228 with value: 0.9692831909479629.\n",
      "[I 2025-07-01 08:43:41,780] Trial 490 finished with value: 0.9690132854148995 and parameters: {'solver_penalty': ('newton-cholesky', 'l2'), 'C': 2.213849203970079, 'tol': 0.06509263650226708, 'fit_intercept': False, 'class_weight': 'balanced', 'threshold': 0.608}. Best is trial 228 with value: 0.9692831909479629.\n",
      "[I 2025-07-01 08:43:44,187] Trial 493 finished with value: 0.9568127683388568 and parameters: {'solver_penalty': ('liblinear', 'l2'), 'C': 0.22897444815077073, 'tol': 0.02420539440598005, 'fit_intercept': True, 'class_weight': 'balanced', 'threshold': 0.129}. Best is trial 228 with value: 0.9692831909479629.\n",
      "[I 2025-07-01 08:43:44,332] Trial 491 finished with value: 0.9689053086279413 and parameters: {'solver_penalty': ('newton-cholesky', 'l2'), 'C': 3.5654069854891652, 'tol': 0.08442629132297302, 'fit_intercept': False, 'class_weight': 'balanced', 'threshold': 0.465}. Best is trial 228 with value: 0.9692831909479629.\n",
      "[I 2025-07-01 08:43:44,358] Trial 492 finished with value: 0.932573983555 and parameters: {'solver_penalty': ('lbfgs', None), 'C': 1.74891393403081, 'tol': 0.06726450267835674, 'fit_intercept': True, 'class_weight': None, 'threshold': 0.912}. Best is trial 228 with value: 0.9692831909479629.\n",
      "[I 2025-07-01 08:43:45,455] Trial 494 finished with value: 0.9692291952676175 and parameters: {'solver_penalty': ('newton-cholesky', 'l2'), 'C': 2.34234489821427, 'tol': 0.08061631068724248, 'fit_intercept': False, 'class_weight': 'balanced', 'threshold': 0.524}. Best is trial 228 with value: 0.9692831909479629.\n",
      "[I 2025-07-01 08:43:47,452] Trial 495 finished with value: 0.9689593188820197 and parameters: {'solver_penalty': ('newton-cholesky', 'l2'), 'C': 3.332947785194094, 'tol': 0.06333715338399654, 'fit_intercept': False, 'class_weight': 'balanced', 'threshold': 0.355}. Best is trial 228 with value: 0.9692831909479629.\n",
      "[I 2025-07-01 08:43:47,647] Trial 496 finished with value: 0.9690132854148995 and parameters: {'solver_penalty': ('newton-cholesky', 'l2'), 'C': 2.855525456715192, 'tol': 0.0745596114232971, 'fit_intercept': False, 'class_weight': 'balanced', 'threshold': 0.616}. Best is trial 228 with value: 0.9692831909479629.\n",
      "[I 2025-07-01 08:43:47,971] Trial 497 finished with value: 0.9687973901359147 and parameters: {'solver_penalty': ('newton-cg', 'l2'), 'C': 3.9375705422388574, 'tol': 0.07633980664886485, 'fit_intercept': False, 'class_weight': 'balanced', 'threshold': 0.377}. Best is trial 228 with value: 0.9692831909479629.\n",
      "[I 2025-07-01 08:43:48,451] Trial 498 finished with value: 0.9690132999886325 and parameters: {'solver_penalty': ('newton-cholesky', None), 'C': 5.538148259813262, 'tol': 0.05713163293358797, 'fit_intercept': True, 'class_weight': 'balanced', 'threshold': 0.582}. Best is trial 228 with value: 0.9692831909479629.\n",
      "[I 2025-07-01 08:43:49,074] Trial 499 finished with value: 0.9690132854148995 and parameters: {'solver_penalty': ('newton-cholesky', 'l2'), 'C': 3.375981462856604, 'tol': 0.07548268692385568, 'fit_intercept': False, 'class_weight': 'balanced', 'threshold': 0.611}. Best is trial 228 with value: 0.9692831909479629.\n"
     ]
    }
   ],
   "source": [
    "def objective(trial):\n",
    "    solver_penalty_options = [\n",
    "        ('liblinear', 'l1'),\n",
    "        ('liblinear', 'l2'),\n",
    "        ('lbfgs', 'l2'),\n",
    "        ('lbfgs', None),\n",
    "        ('newton-cg', 'l2'),\n",
    "        ('newton-cg', None),\n",
    "        ('newton-cholesky', 'l2'),\n",
    "        ('newton-cholesky', None)\n",
    "    ]\n",
    "    solver, penalty = trial.suggest_categorical('solver_penalty', solver_penalty_options)\n",
    "    \n",
    "    params = {\n",
    "        'random_state': CFG.seed,\n",
    "        'max_iter': 500,\n",
    "        'C': trial.suggest_float('C', 0, 10),\n",
    "        'tol': trial.suggest_float('tol', 1e-10, 1e-1),\n",
    "        'fit_intercept': trial.suggest_categorical('fit_intercept', [True, False]),\n",
    "        'class_weight': trial.suggest_categorical('class_weight', ['balanced', None]),\n",
    "        'solver': solver,\n",
    "        'penalty': penalty\n",
    "    }\n",
    "    \n",
    "    threshold = trial.suggest_float('threshold', 0, 1, step=0.001)\n",
    "    \n",
    "    trainer = Trainer(\n",
    "        LogisticRegression(**params),\n",
    "        cv=CFG.cv,\n",
    "        metric=CFG.metric,\n",
    "        metric_precision=6,\n",
    "        metric_threshold=threshold,\n",
    "        use_early_stopping=False,\n",
    "        verbose=False,\n",
    "        task=\"binary\",\n",
    "    )\n",
    "    trainer.fit(X, y)\n",
    "    \n",
    "    return np.mean(trainer.fold_scores)\n",
    "\n",
    "sampler = optuna.samplers.TPESampler(seed=CFG.seed, multivariate=True, n_startup_trials=CFG.n_optuna_trials // 10)\n",
    "study = optuna.create_study(direction='maximize', sampler=sampler)\n",
    "study.optimize(objective, n_trials=CFG.n_optuna_trials, n_jobs=-1)\n",
    "best_params = study.best_params"
   ]
  },
  {
   "cell_type": "code",
   "execution_count": 19,
   "id": "1c7f625e",
   "metadata": {
    "execution": {
     "iopub.execute_input": "2025-07-01T08:43:49.149788Z",
     "iopub.status.busy": "2025-07-01T08:43:49.149422Z",
     "iopub.status.idle": "2025-07-01T08:43:49.154253Z",
     "shell.execute_reply": "2025-07-01T08:43:49.153508Z"
    },
    "papermill": {
     "duration": 0.0412,
     "end_time": "2025-07-01T08:43:49.155622",
     "exception": false,
     "start_time": "2025-07-01T08:43:49.114422",
     "status": "completed"
    },
    "tags": []
   },
   "outputs": [],
   "source": [
    "solver, penalty = best_params['solver_penalty']\n",
    "lr_params = {\n",
    "    'random_state': CFG.seed,\n",
    "    'max_iter': 500,\n",
    "    'C': best_params['C'],\n",
    "    'tol': best_params['tol'],\n",
    "    'fit_intercept': best_params['fit_intercept'],\n",
    "    'class_weight': best_params['class_weight'],\n",
    "    'solver': solver,\n",
    "    'penalty': penalty\n",
    "}"
   ]
  },
  {
   "cell_type": "code",
   "execution_count": 20,
   "id": "3c2ce2ae",
   "metadata": {
    "execution": {
     "iopub.execute_input": "2025-07-01T08:43:49.225494Z",
     "iopub.status.busy": "2025-07-01T08:43:49.224769Z",
     "iopub.status.idle": "2025-07-01T08:43:49.230240Z",
     "shell.execute_reply": "2025-07-01T08:43:49.229259Z"
    },
    "papermill": {
     "duration": 0.04173,
     "end_time": "2025-07-01T08:43:49.231520",
     "exception": false,
     "start_time": "2025-07-01T08:43:49.189790",
     "status": "completed"
    },
    "tags": []
   },
   "outputs": [
    {
     "name": "stdout",
     "output_type": "stream",
     "text": [
      "{\n",
      "  \"random_state\": 42,\n",
      "  \"max_iter\": 500,\n",
      "  \"C\": 5.678638296898917,\n",
      "  \"tol\": 0.0930540486834568,\n",
      "  \"fit_intercept\": false,\n",
      "  \"class_weight\": \"balanced\",\n",
      "  \"solver\": \"newton-cholesky\",\n",
      "  \"penalty\": \"l2\"\n",
      "}\n"
     ]
    }
   ],
   "source": [
    "print(json.dumps(lr_params, indent=2))"
   ]
  },
  {
   "cell_type": "code",
   "execution_count": 21,
   "id": "3f882e52",
   "metadata": {
    "execution": {
     "iopub.execute_input": "2025-07-01T08:43:49.302806Z",
     "iopub.status.busy": "2025-07-01T08:43:49.301974Z",
     "iopub.status.idle": "2025-07-01T08:43:49.307311Z",
     "shell.execute_reply": "2025-07-01T08:43:49.306166Z"
    },
    "papermill": {
     "duration": 0.04158,
     "end_time": "2025-07-01T08:43:49.308646",
     "exception": false,
     "start_time": "2025-07-01T08:43:49.267066",
     "status": "completed"
    },
    "tags": []
   },
   "outputs": [
    {
     "name": "stdout",
     "output_type": "stream",
     "text": [
      "Best threshold: 0.538\n"
     ]
    }
   ],
   "source": [
    "best_threshold = study.best_params['threshold']\n",
    "print(f'Best threshold: {best_threshold:.3f}')"
   ]
  },
  {
   "cell_type": "code",
   "execution_count": 22,
   "id": "32e1e243",
   "metadata": {
    "execution": {
     "iopub.execute_input": "2025-07-01T08:43:49.378774Z",
     "iopub.status.busy": "2025-07-01T08:43:49.377781Z",
     "iopub.status.idle": "2025-07-01T08:43:50.202226Z",
     "shell.execute_reply": "2025-07-01T08:43:50.201102Z"
    },
    "papermill": {
     "duration": 0.861113,
     "end_time": "2025-07-01T08:43:50.203871",
     "exception": false,
     "start_time": "2025-07-01T08:43:49.342758",
     "status": "completed"
    },
    "tags": []
   },
   "outputs": [
    {
     "name": "stdout",
     "output_type": "stream",
     "text": [
      "Training LogisticRegression\n",
      "\n",
      "--- Fold 0 - accuracy_score: 0.970310 - Time: 0.02 s\n",
      "--- Fold 1 - accuracy_score: 0.967881 - Time: 0.02 s\n",
      "--- Fold 2 - accuracy_score: 0.965992 - Time: 0.02 s\n",
      "--- Fold 3 - accuracy_score: 0.971120 - Time: 0.02 s\n",
      "--- Fold 4 - accuracy_score: 0.971112 - Time: 0.02 s\n",
      "\n",
      "------ Overall accuracy_score: 0.969283 - Mean accuracy_score: 0.969283 ± 0.002028 - Time: 0.81 s\n"
     ]
    }
   ],
   "source": [
    "lr_trainer = Trainer(\n",
    "    LogisticRegression(**lr_params),\n",
    "    cv=CFG.cv,\n",
    "    metric=CFG.metric,\n",
    "    metric_threshold=best_threshold,\n",
    "    metric_precision=6,\n",
    "    use_early_stopping=False,\n",
    "    task=\"binary\",\n",
    ")\n",
    "\n",
    "lr_trainer.fit(X, y)\n",
    "\n",
    "scores[\"LogisticRegression\"] = lr_trainer.fold_scores\n",
    "lr_test_pred_probs = lr_trainer.predict(X_test)"
   ]
  },
  {
   "cell_type": "code",
   "execution_count": 23,
   "id": "9973830a",
   "metadata": {
    "execution": {
     "iopub.execute_input": "2025-07-01T08:43:50.277004Z",
     "iopub.status.busy": "2025-07-01T08:43:50.276636Z",
     "iopub.status.idle": "2025-07-01T08:43:50.323292Z",
     "shell.execute_reply": "2025-07-01T08:43:50.322259Z"
    },
    "papermill": {
     "duration": 0.085919,
     "end_time": "2025-07-01T08:43:50.324751",
     "exception": false,
     "start_time": "2025-07-01T08:43:50.238832",
     "status": "completed"
    },
    "tags": []
   },
   "outputs": [
    {
     "data": {
      "text/html": [
       "<div>\n",
       "<style scoped>\n",
       "    .dataframe tbody tr th:only-of-type {\n",
       "        vertical-align: middle;\n",
       "    }\n",
       "\n",
       "    .dataframe tbody tr th {\n",
       "        vertical-align: top;\n",
       "    }\n",
       "\n",
       "    .dataframe thead th {\n",
       "        text-align: right;\n",
       "    }\n",
       "</style>\n",
       "<table border=\"1\" class=\"dataframe\">\n",
       "  <thead>\n",
       "    <tr style=\"text-align: right;\">\n",
       "      <th></th>\n",
       "      <th>id</th>\n",
       "      <th>Personality</th>\n",
       "    </tr>\n",
       "  </thead>\n",
       "  <tbody>\n",
       "    <tr>\n",
       "      <th>0</th>\n",
       "      <td>18524</td>\n",
       "      <td>Extrovert</td>\n",
       "    </tr>\n",
       "    <tr>\n",
       "      <th>1</th>\n",
       "      <td>18525</td>\n",
       "      <td>Introvert</td>\n",
       "    </tr>\n",
       "    <tr>\n",
       "      <th>2</th>\n",
       "      <td>18526</td>\n",
       "      <td>Extrovert</td>\n",
       "    </tr>\n",
       "    <tr>\n",
       "      <th>3</th>\n",
       "      <td>18527</td>\n",
       "      <td>Extrovert</td>\n",
       "    </tr>\n",
       "    <tr>\n",
       "      <th>4</th>\n",
       "      <td>18528</td>\n",
       "      <td>Introvert</td>\n",
       "    </tr>\n",
       "  </tbody>\n",
       "</table>\n",
       "</div>"
      ],
      "text/plain": [
       "      id Personality\n",
       "0  18524   Extrovert\n",
       "1  18525   Introvert\n",
       "2  18526   Extrovert\n",
       "3  18527   Extrovert\n",
       "4  18528   Introvert"
      ]
     },
     "execution_count": 23,
     "metadata": {},
     "output_type": "execute_result"
    }
   ],
   "source": [
    "save_submission('logistic-regression', lr_test_pred_probs, np.mean(scores['LogisticRegression']), best_threshold)"
   ]
  },
  {
   "cell_type": "code",
   "execution_count": 24,
   "id": "2d0c860d",
   "metadata": {
    "execution": {
     "iopub.execute_input": "2025-07-01T08:43:50.395810Z",
     "iopub.status.busy": "2025-07-01T08:43:50.395525Z",
     "iopub.status.idle": "2025-07-01T08:43:50.400172Z",
     "shell.execute_reply": "2025-07-01T08:43:50.399303Z"
    },
    "papermill": {
     "duration": 0.041736,
     "end_time": "2025-07-01T08:43:50.401607",
     "exception": false,
     "start_time": "2025-07-01T08:43:50.359871",
     "status": "completed"
    },
    "tags": []
   },
   "outputs": [],
   "source": [
    "lr_coeffs = np.zeros((1,len(X.columns)))\n",
    "for estimator in lr_trainer.estimators:\n",
    "    lr_coeffs += estimator.coef_ / CFG.n_folds"
   ]
  },
  {
   "cell_type": "code",
   "execution_count": 25,
   "id": "130f6bda",
   "metadata": {
    "_kg_hide-input": false,
    "execution": {
     "iopub.execute_input": "2025-07-01T08:43:50.478913Z",
     "iopub.status.busy": "2025-07-01T08:43:50.478577Z",
     "iopub.status.idle": "2025-07-01T08:43:50.764126Z",
     "shell.execute_reply": "2025-07-01T08:43:50.763183Z"
    },
    "papermill": {
     "duration": 0.324152,
     "end_time": "2025-07-01T08:43:50.765583",
     "exception": false,
     "start_time": "2025-07-01T08:43:50.441431",
     "status": "completed"
    },
    "tags": []
   },
   "outputs": [
    {
     "data": {
      "image/png": "[encoded data removed]",
      "text/plain": [
       "<Figure size 1000x300 with 1 Axes>"
      ]
     },
     "metadata": {},
     "output_type": "display_data"
    }
   ],
   "source": [
    "plot_weights(lr_coeffs, 'LR Coefficients')"
   ]
  },
  {
   "cell_type": "markdown",
   "id": "5ccc8573",
   "metadata": {
    "papermill": {
     "duration": 0.036996,
     "end_time": "2025-07-01T08:43:50.839743",
     "exception": false,
     "start_time": "2025-07-01T08:43:50.802747",
     "status": "completed"
    },
    "tags": []
   },
   "source": [
    "# Results"
   ]
  },
  {
   "cell_type": "code",
   "execution_count": 26,
   "id": "d0d1782c",
   "metadata": {
    "_kg_hide-input": false,
    "execution": {
     "iopub.execute_input": "2025-07-01T08:43:50.914563Z",
     "iopub.status.busy": "2025-07-01T08:43:50.913752Z",
     "iopub.status.idle": "2025-07-01T08:43:51.445376Z",
     "shell.execute_reply": "2025-07-01T08:43:51.444641Z"
    },
    "papermill": {
     "duration": 0.570913,
     "end_time": "2025-07-01T08:43:51.447315",
     "exception": false,
     "start_time": "2025-07-01T08:43:50.876402",
     "status": "completed"
    },
    "tags": []
   },
   "outputs": [
    {
     "data": {
      "image/png": "[encoded data removed]",
      "text/plain": [
       "<Figure size 1500x210 with 2 Axes>"
      ]
     },
     "metadata": {},
     "output_type": "display_data"
    }
   ],
   "source": [
    "scores = pd.DataFrame(scores)\n",
    "mean_scores = scores.mean().sort_values(ascending=False)\n",
    "order = scores.mean().sort_values(ascending=False).index.tolist()\n",
    "\n",
    "min_score = mean_scores.min()\n",
    "max_score = mean_scores.max()\n",
    "padding = (max_score - min_score) * 0.5\n",
    "lower_limit = min_score - padding\n",
    "upper_limit = max_score + padding\n",
    "\n",
    "fig, axs = plt.subplots(1, 2, figsize=(15, scores.shape[1] * 0.3))\n",
    "\n",
    "boxplot = sns.boxplot(data=scores, order=order, ax=axs[0], orient='h', color='grey')\n",
    "axs[0].set_title('Fold Accuracy')\n",
    "axs[0].set_xlabel('')\n",
    "axs[0].set_ylabel('')\n",
    "\n",
    "barplot = sns.barplot(x=mean_scores.values, y=mean_scores.index, ax=axs[1], color='grey')\n",
    "axs[1].set_title('Average Accuracy')\n",
    "axs[1].set_xlabel('')\n",
    "axs[1].set_xlim(left=lower_limit, right=upper_limit)\n",
    "axs[1].set_ylabel('')\n",
    "\n",
    "for i, (score, model) in enumerate(zip(mean_scores.values, mean_scores.index)):\n",
    "    color = 'cyan' if 'logistic' in model.lower() else 'grey'\n",
    "    barplot.patches[i].set_facecolor(color)\n",
    "    boxplot.patches[i].set_facecolor(color)\n",
    "    barplot.text(score, i, round(score, 6), va='center')\n",
    "\n",
    "plt.tight_layout()\n",
    "plt.show()"
   ]
  },
  {
   "cell_type": "code",
   "execution_count": 27,
   "id": "9ddb96b5",
   "metadata": {
    "execution": {
     "iopub.execute_input": "2025-07-01T08:43:51.522373Z",
     "iopub.status.busy": "2025-07-01T08:43:51.522093Z",
     "iopub.status.idle": "2025-07-01T08:43:51.527799Z",
     "shell.execute_reply": "2025-07-01T08:43:51.527093Z"
    },
    "papermill": {
     "duration": 0.044282,
     "end_time": "2025-07-01T08:43:51.529380",
     "exception": false,
     "start_time": "2025-07-01T08:43:51.485098",
     "status": "completed"
    },
    "tags": []
   },
   "outputs": [],
   "source": [
    "shutil.rmtree('catboost_info', ignore_errors=True)"
   ]
  }
 ],
 "metadata": {
  "kaggle": {
   "accelerator": "none",
   "dataSources": [
    {
     "databundleVersionId": 12738969,
     "sourceId": 91718,
     "sourceType": "competition"
    }
   ],
   "dockerImageVersionId": 31040,
   "isGpuEnabled": false,
   "isInternetEnabled": true,
   "language": "python",
   "sourceType": "notebook"
  },
  "kernelspec": {
   "display_name": ".venv",
   "language": "python",
   "name": "python3"
  },
  "language_info": {
   "codemirror_mode": {
    "name": "ipython",
    "version": 3
   },
   "file_extension": ".py",
   "mimetype": "text/x-python",
   "name": "python",
   "nbconvert_exporter": "python",
   "pygments_lexer": "ipython3",
   "version": "3.11.11"
  },
  "papermill": {
   "default_parameters": {},
   "duration": 579.632004,
   "end_time": "2025-07-01T08:43:52.591187",
   "environment_variables": {},
   "exception": null,
   "input_path": "__notebook__.ipynb",
   "output_path": "__notebook__.ipynb",
   "parameters": {},
   "start_time": "2025-07-01T08:34:12.959183",
   "version": "2.6.0"
  }
 },
 "nbformat": 4,
 "nbformat_minor": 5
}
