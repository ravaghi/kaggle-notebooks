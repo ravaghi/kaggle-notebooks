{
 "cells": [
  {
   "cell_type": "markdown",
   "id": "ae575998",
   "metadata": {
    "papermill": {
     "duration": 0.006153,
     "end_time": "2025-07-01T12:42:26.175897",
     "exception": false,
     "start_time": "2025-07-01T12:42:26.169744",
     "status": "completed"
    },
    "tags": []
   },
   "source": [
    "# Imports and configs"
   ]
  },
  {
   "cell_type": "code",
   "execution_count": 1,
   "id": "d21d4886",
   "metadata": {
    "_kg_hide-output": true,
    "execution": {
     "iopub.execute_input": "2025-07-01T12:42:26.188161Z",
     "iopub.status.busy": "2025-07-01T12:42:26.187794Z",
     "iopub.status.idle": "2025-07-01T12:42:36.106711Z",
     "shell.execute_reply": "2025-07-01T12:42:36.105562Z"
    },
    "papermill": {
     "duration": 9.927237,
     "end_time": "2025-07-01T12:42:36.108577",
     "exception": false,
     "start_time": "2025-07-01T12:42:26.181340",
     "status": "completed"
    },
    "scrolled": true,
    "tags": []
   },
   "outputs": [
    {
     "name": "stdout",
     "output_type": "stream",
     "text": [
      "Collecting scikit-learn==1.5.2\r\n",
      "  Downloading scikit_learn-1.5.2-cp311-cp311-manylinux_2_17_x86_64.manylinux2014_x86_64.whl.metadata (13 kB)\r\n",
      "Collecting koolbox\r\n",
      "  Downloading koolbox-0.1.3-py3-none-any.whl.metadata (3.4 kB)\r\n",
      "Requirement already satisfied: numpy>=1.19.5 in /usr/local/lib/python3.11/dist-packages (from scikit-learn==1.5.2) (1.26.4)\r\n",
      "Requirement already satisfied: scipy>=1.6.0 in /usr/local/lib/python3.11/dist-packages (from scikit-learn==1.5.2) (1.15.2)\r\n",
      "Requirement already satisfied: joblib>=1.2.0 in /usr/local/lib/python3.11/dist-packages (from scikit-learn==1.5.2) (1.5.0)\r\n",
      "Requirement already satisfied: threadpoolctl>=3.1.0 in /usr/local/lib/python3.11/dist-packages (from scikit-learn==1.5.2) (3.6.0)\r\n",
      "Requirement already satisfied: optuna>=4.2.1 in /usr/local/lib/python3.11/dist-packages (from koolbox) (4.3.0)\r\n",
      "Requirement already satisfied: pandas>=2.2.3 in /usr/local/lib/python3.11/dist-packages (from koolbox) (2.2.3)\r\n",
      "Requirement already satisfied: mkl_fft in /usr/local/lib/python3.11/dist-packages (from numpy>=1.19.5->scikit-learn==1.5.2) (1.3.8)\r\n",
      "Requirement already satisfied: mkl_random in /usr/local/lib/python3.11/dist-packages (from numpy>=1.19.5->scikit-learn==1.5.2) (1.2.4)\r\n",
      "Requirement already satisfied: mkl_umath in /usr/local/lib/python3.11/dist-packages (from numpy>=1.19.5->scikit-learn==1.5.2) (0.1.1)\r\n",
      "Requirement already satisfied: mkl in /usr/local/lib/python3.11/dist-packages (from numpy>=1.19.5->scikit-learn==1.5.2) (2025.1.0)\r\n",
      "Requirement already satisfied: tbb4py in /usr/local/lib/python3.11/dist-packages (from numpy>=1.19.5->scikit-learn==1.5.2) (2022.1.0)\r\n",
      "Requirement already satisfied: mkl-service in /usr/local/lib/python3.11/dist-packages (from numpy>=1.19.5->scikit-learn==1.5.2) (2.4.1)\r\n",
      "Requirement already satisfied: alembic>=1.5.0 in /usr/local/lib/python3.11/dist-packages (from optuna>=4.2.1->koolbox) (1.15.2)\r\n",
      "Requirement already satisfied: colorlog in /usr/local/lib/python3.11/dist-packages (from optuna>=4.2.1->koolbox) (6.9.0)\r\n",
      "Requirement already satisfied: packaging>=20.0 in /usr/local/lib/python3.11/dist-packages (from optuna>=4.2.1->koolbox) (25.0)\r\n",
      "Requirement already satisfied: sqlalchemy>=1.4.2 in /usr/local/lib/python3.11/dist-packages (from optuna>=4.2.1->koolbox) (2.0.40)\r\n",
      "Requirement already satisfied: tqdm in /usr/local/lib/python3.11/dist-packages (from optuna>=4.2.1->koolbox) (4.67.1)\r\n",
      "Requirement already satisfied: PyYAML in /usr/local/lib/python3.11/dist-packages (from optuna>=4.2.1->koolbox) (6.0.2)\r\n",
      "Requirement already satisfied: python-dateutil>=2.8.2 in /usr/local/lib/python3.11/dist-packages (from pandas>=2.2.3->koolbox) (2.9.0.post0)\r\n",
      "Requirement already satisfied: pytz>=2020.1 in /usr/local/lib/python3.11/dist-packages (from pandas>=2.2.3->koolbox) (2025.2)\r\n",
      "Requirement already satisfied: tzdata>=2022.7 in /usr/local/lib/python3.11/dist-packages (from pandas>=2.2.3->koolbox) (2025.2)\r\n",
      "Requirement already satisfied: Mako in /usr/local/lib/python3.11/dist-packages (from alembic>=1.5.0->optuna>=4.2.1->koolbox) (1.3.10)\r\n",
      "Requirement already satisfied: typing-extensions>=4.12 in /usr/local/lib/python3.11/dist-packages (from alembic>=1.5.0->optuna>=4.2.1->koolbox) (4.13.2)\r\n",
      "Requirement already satisfied: six>=1.5 in /usr/local/lib/python3.11/dist-packages (from python-dateutil>=2.8.2->pandas>=2.2.3->koolbox) (1.17.0)\r\n",
      "Requirement already satisfied: greenlet>=1 in /usr/local/lib/python3.11/dist-packages (from sqlalchemy>=1.4.2->optuna>=4.2.1->koolbox) (3.1.1)\r\n",
      "Requirement already satisfied: intel-openmp<2026,>=2024 in /usr/local/lib/python3.11/dist-packages (from mkl->numpy>=1.19.5->scikit-learn==1.5.2) (2024.2.0)\r\n",
      "Requirement already satisfied: tbb==2022.* in /usr/local/lib/python3.11/dist-packages (from mkl->numpy>=1.19.5->scikit-learn==1.5.2) (2022.1.0)\r\n",
      "Requirement already satisfied: tcmlib==1.* in /usr/local/lib/python3.11/dist-packages (from tbb==2022.*->mkl->numpy>=1.19.5->scikit-learn==1.5.2) (1.3.0)\r\n",
      "Requirement already satisfied: intel-cmplr-lib-rt in /usr/local/lib/python3.11/dist-packages (from mkl_umath->numpy>=1.19.5->scikit-learn==1.5.2) (2024.2.0)\r\n",
      "Requirement already satisfied: intel-cmplr-lib-ur==2024.2.0 in /usr/local/lib/python3.11/dist-packages (from intel-openmp<2026,>=2024->mkl->numpy>=1.19.5->scikit-learn==1.5.2) (2024.2.0)\r\n",
      "Requirement already satisfied: MarkupSafe>=0.9.2 in /usr/local/lib/python3.11/dist-packages (from Mako->alembic>=1.5.0->optuna>=4.2.1->koolbox) (3.0.2)\r\n",
      "Downloading scikit_learn-1.5.2-cp311-cp311-manylinux_2_17_x86_64.manylinux2014_x86_64.whl (13.3 MB)\r\n",
      "\u001b[2K   \u001b[90m━━━━━━━━━━━━━━━━━━━━━━━━━━━━━━━━━━━━━━━━\u001b[0m \u001b[32m13.3/13.3 MB\u001b[0m \u001b[31m28.4 MB/s\u001b[0m eta \u001b[36m0:00:00\u001b[0m\r\n",
      "\u001b[?25hDownloading koolbox-0.1.3-py3-none-any.whl (18 kB)\r\n",
      "Installing collected packages: scikit-learn, koolbox\r\n",
      "  Attempting uninstall: scikit-learn\r\n",
      "    Found existing installation: scikit-learn 1.2.2\r\n",
      "    Uninstalling scikit-learn-1.2.2:\r\n",
      "      Successfully uninstalled scikit-learn-1.2.2\r\n",
      "\u001b[31mERROR: pip's dependency resolver does not currently take into account all the packages that are installed. This behaviour is the source of the following dependency conflicts.\r\n",
      "cesium 0.12.4 requires numpy<3.0,>=2.0, but you have numpy 1.26.4 which is incompatible.\u001b[0m\u001b[31m\r\n",
      "\u001b[0mSuccessfully installed koolbox-0.1.3 scikit-learn-1.5.2\r\n"
     ]
    }
   ],
   "source": [
    "!pip install scikit-learn==1.5.2 koolbox"
   ]
  },
  {
   "cell_type": "code",
   "execution_count": 2,
   "id": "8c92222e",
   "metadata": {
    "execution": {
     "iopub.execute_input": "2025-07-01T12:42:36.123688Z",
     "iopub.status.busy": "2025-07-01T12:42:36.122930Z",
     "iopub.status.idle": "2025-07-01T12:42:45.483168Z",
     "shell.execute_reply": "2025-07-01T12:42:45.482096Z"
    },
    "papermill": {
     "duration": 9.369625,
     "end_time": "2025-07-01T12:42:45.485020",
     "exception": false,
     "start_time": "2025-07-01T12:42:36.115395",
     "status": "completed"
    },
    "tags": []
   },
   "outputs": [],
   "source": [
    "from sklearn.feature_selection import mutual_info_regression\n",
    "from sklearn.ensemble import HistGradientBoostingClassifier\n",
    "from sklearn.linear_model import LogisticRegression\n",
    "from sklearn.model_selection import StratifiedKFold\n",
    "from sklearn.metrics import accuracy_score\n",
    "from catboost import CatBoostClassifier\n",
    "from lightgbm import LGBMClassifier\n",
    "from xgboost import XGBClassifier\n",
    "from scipy.special import logit\n",
    "from koolbox import Trainer\n",
    "import matplotlib.pyplot as plt\n",
    "import seaborn as sns\n",
    "import pandas as pd\n",
    "import numpy as np\n",
    "import warnings\n",
    "import joblib\n",
    "import shutil\n",
    "import optuna\n",
    "import glob\n",
    "import json\n",
    "\n",
    "warnings.filterwarnings('ignore')"
   ]
  },
  {
   "cell_type": "code",
   "execution_count": 3,
   "id": "9011a9bb",
   "metadata": {
    "execution": {
     "iopub.execute_input": "2025-07-01T12:42:45.499570Z",
     "iopub.status.busy": "2025-07-01T12:42:45.499011Z",
     "iopub.status.idle": "2025-07-01T12:42:45.504175Z",
     "shell.execute_reply": "2025-07-01T12:42:45.503400Z"
    },
    "papermill": {
     "duration": 0.013943,
     "end_time": "2025-07-01T12:42:45.505717",
     "exception": false,
     "start_time": "2025-07-01T12:42:45.491774",
     "status": "completed"
    },
    "tags": []
   },
   "outputs": [],
   "source": [
    "class CFG:\n",
    "    train_path = '/kaggle/input/playground-series-s5e7/train.csv'\n",
    "    test_path = '/kaggle/input/playground-series-s5e7/test.csv'\n",
    "    sample_sub_path = '/kaggle/input/playground-series-s5e7/sample_submission.csv'\n",
    "    \n",
    "    target = 'Personality'\n",
    "    n_folds = 5\n",
    "    seed = 42\n",
    "    \n",
    "    cv = StratifiedKFold(n_splits=n_folds, random_state=seed, shuffle=True)\n",
    "    metric = accuracy_score\n",
    "    \n",
    "    n_optuna_trials = 500"
   ]
  },
  {
   "cell_type": "markdown",
   "id": "5c788a8e",
   "metadata": {
    "papermill": {
     "duration": 0.005902,
     "end_time": "2025-07-01T12:42:45.518092",
     "exception": false,
     "start_time": "2025-07-01T12:42:45.512190",
     "status": "completed"
    },
    "tags": []
   },
   "source": [
    "# Data loading and preprocessing"
   ]
  },
  {
   "cell_type": "code",
   "execution_count": 4,
   "id": "182718b4",
   "metadata": {
    "execution": {
     "iopub.execute_input": "2025-07-01T12:42:45.532234Z",
     "iopub.status.busy": "2025-07-01T12:42:45.531893Z",
     "iopub.status.idle": "2025-07-01T12:42:45.607494Z",
     "shell.execute_reply": "2025-07-01T12:42:45.606649Z"
    },
    "papermill": {
     "duration": 0.084675,
     "end_time": "2025-07-01T12:42:45.608951",
     "exception": false,
     "start_time": "2025-07-01T12:42:45.524276",
     "status": "completed"
    },
    "tags": []
   },
   "outputs": [],
   "source": [
    "train = pd.read_csv(CFG.train_path, index_col='id')\n",
    "test = pd.read_csv(CFG.test_path, index_col='id')\n",
    "\n",
    "train[\"Stage_fear\"] = train[\"Stage_fear\"].map({\"No\": 0, \"Yes\": 1})\n",
    "train[\"Drained_after_socializing\"] = train[\"Drained_after_socializing\"].map({\"No\": 0, \"Yes\": 1})\n",
    "\n",
    "test[\"Stage_fear\"] = test[\"Stage_fear\"].map({\"No\": 0, \"Yes\": 1})\n",
    "test[\"Drained_after_socializing\"] = test[\"Drained_after_socializing\"].map({\"No\": 0, \"Yes\": 1})\n",
    "\n",
    "train[CFG.target] = train[CFG.target].map({\"Extrovert\": 0, \"Introvert\": 1})\n",
    "\n",
    "X = train.drop(CFG.target, axis=1)\n",
    "y = train[CFG.target]\n",
    "X_test = test"
   ]
  },
  {
   "cell_type": "code",
   "execution_count": 5,
   "id": "74238d18",
   "metadata": {
    "execution": {
     "iopub.execute_input": "2025-07-01T12:42:45.622823Z",
     "iopub.status.busy": "2025-07-01T12:42:45.622535Z",
     "iopub.status.idle": "2025-07-01T12:42:46.035417Z",
     "shell.execute_reply": "2025-07-01T12:42:46.034423Z"
    },
    "papermill": {
     "duration": 0.42209,
     "end_time": "2025-07-01T12:42:46.037451",
     "exception": false,
     "start_time": "2025-07-01T12:42:45.615361",
     "status": "completed"
    },
    "tags": []
   },
   "outputs": [
    {
     "data": {
      "image/png": "[encoded data removed]",
      "text/plain": [
       "<Figure size 800x800 with 1 Axes>"
      ]
     },
     "metadata": {},
     "output_type": "display_data"
    }
   ],
   "source": [
    "sns.set_style(\"white\")\n",
    "plt.figure(figsize=(8, 8))\n",
    "\n",
    "corr_train = train.corr()\n",
    "mask_train = np.triu(np.ones_like(corr_train, dtype=bool), k=1)\n",
    "\n",
    "sns.heatmap(\n",
    "    data=corr_train,\n",
    "    annot=True,\n",
    "    fmt='.4f',\n",
    "    mask=mask_train,\n",
    "    square=True,\n",
    "    cmap='coolwarm',\n",
    "    annot_kws={'size': 8},\n",
    "    cbar=False\n",
    ")\n",
    "\n",
    "plt.tight_layout()\n",
    "plt.show()"
   ]
  },
  {
   "cell_type": "code",
   "execution_count": 6,
   "id": "0f881166",
   "metadata": {
    "execution": {
     "iopub.execute_input": "2025-07-01T12:42:46.054557Z",
     "iopub.status.busy": "2025-07-01T12:42:46.054202Z",
     "iopub.status.idle": "2025-07-01T12:42:47.015269Z",
     "shell.execute_reply": "2025-07-01T12:42:47.014372Z"
    },
    "papermill": {
     "duration": 0.971264,
     "end_time": "2025-07-01T12:42:47.016852",
     "exception": false,
     "start_time": "2025-07-01T12:42:46.045588",
     "status": "completed"
    },
    "tags": []
   },
   "outputs": [
    {
     "data": {
      "text/html": [
       "<style type=\"text/css\">\n",
       "#T_f2e72_row0_col0 {\n",
       "  width: 10em;\n",
       "  background: linear-gradient(90deg, #006837 100.0%, transparent 100.0%);\n",
       "}\n",
       "#T_f2e72_row1_col0 {\n",
       "  width: 10em;\n",
       "  background: linear-gradient(90deg, #0b7d42 95.5%, transparent 95.5%);\n",
       "}\n",
       "#T_f2e72_row2_col0 {\n",
       "  width: 10em;\n",
       "  background: linear-gradient(90deg, #108647 93.5%, transparent 93.5%);\n",
       "}\n",
       "#T_f2e72_row3_col0 {\n",
       "  width: 10em;\n",
       "  background: linear-gradient(90deg, #219c52 89.0%, transparent 89.0%);\n",
       "}\n",
       "#T_f2e72_row4_col0 {\n",
       "  width: 10em;\n",
       "  background: linear-gradient(90deg, #249d53 88.7%, transparent 88.7%);\n",
       "}\n",
       "#T_f2e72_row5_col0 {\n",
       "  width: 10em;\n",
       "  background: linear-gradient(90deg, #36a657 86.0%, transparent 86.0%);\n",
       "}\n",
       "#T_f2e72_row6_col0 {\n",
       "  width: 10em;\n",
       "  background: linear-gradient(90deg, #5ab760 81.6%, transparent 81.6%);\n",
       "}\n",
       "</style>\n",
       "<table id=\"T_f2e72\">\n",
       "  <thead>\n",
       "    <tr>\n",
       "      <th class=\"blank level0\" >&nbsp;</th>\n",
       "      <th id=\"T_f2e72_level0_col0\" class=\"col_heading level0 col0\" >Mutual Information</th>\n",
       "    </tr>\n",
       "  </thead>\n",
       "  <tbody>\n",
       "    <tr>\n",
       "      <th id=\"T_f2e72_level0_row0\" class=\"row_heading level0 row0\" >Time_spent_Alone</th>\n",
       "      <td id=\"T_f2e72_row0_col0\" class=\"data row0 col0\" >0.353570</td>\n",
       "    </tr>\n",
       "    <tr>\n",
       "      <th id=\"T_f2e72_level0_row1\" class=\"row_heading level0 row1\" >Drained_after_socializing</th>\n",
       "      <td id=\"T_f2e72_row1_col0\" class=\"data row1 col0\" >0.337575</td>\n",
       "    </tr>\n",
       "    <tr>\n",
       "      <th id=\"T_f2e72_level0_row2\" class=\"row_heading level0 row2\" >Social_event_attendance</th>\n",
       "      <td id=\"T_f2e72_row2_col0\" class=\"data row2 col0\" >0.330482</td>\n",
       "    </tr>\n",
       "    <tr>\n",
       "      <th id=\"T_f2e72_level0_row3\" class=\"row_heading level0 row3\" >Stage_fear</th>\n",
       "      <td id=\"T_f2e72_row3_col0\" class=\"data row3 col0\" >0.314673</td>\n",
       "    </tr>\n",
       "    <tr>\n",
       "      <th id=\"T_f2e72_level0_row4\" class=\"row_heading level0 row4\" >Post_frequency</th>\n",
       "      <td id=\"T_f2e72_row4_col0\" class=\"data row4 col0\" >0.313469</td>\n",
       "    </tr>\n",
       "    <tr>\n",
       "      <th id=\"T_f2e72_level0_row5\" class=\"row_heading level0 row5\" >Going_outside</th>\n",
       "      <td id=\"T_f2e72_row5_col0\" class=\"data row5 col0\" >0.304151</td>\n",
       "    </tr>\n",
       "    <tr>\n",
       "      <th id=\"T_f2e72_level0_row6\" class=\"row_heading level0 row6\" >Friends_circle_size</th>\n",
       "      <td id=\"T_f2e72_row6_col0\" class=\"data row6 col0\" >0.288645</td>\n",
       "    </tr>\n",
       "  </tbody>\n",
       "</table>\n"
      ],
      "text/plain": [
       "<pandas.io.formats.style.Styler at 0x7b53047ca950>"
      ]
     },
     "execution_count": 6,
     "metadata": {},
     "output_type": "execute_result"
    }
   ],
   "source": [
    "mutual_info = mutual_info_regression(X.fillna(0), y, random_state=CFG.seed)\n",
    "\n",
    "mutual_info = pd.Series(mutual_info)\n",
    "mutual_info.index = X.columns\n",
    "mutual_info = pd.DataFrame(mutual_info.sort_values(ascending=False), columns=['Mutual Information'])\n",
    "mutual_info.style.bar(subset=['Mutual Information'], cmap='RdYlGn')"
   ]
  },
  {
   "cell_type": "markdown",
   "id": "8bc684d7",
   "metadata": {
    "papermill": {
     "duration": 0.007358,
     "end_time": "2025-07-01T12:42:47.032808",
     "exception": false,
     "start_time": "2025-07-01T12:42:47.025450",
     "status": "completed"
    },
    "tags": []
   },
   "source": [
    "# Training base models"
   ]
  },
  {
   "cell_type": "code",
   "execution_count": 7,
   "id": "05ce2e39",
   "metadata": {
    "execution": {
     "iopub.execute_input": "2025-07-01T12:42:47.049719Z",
     "iopub.status.busy": "2025-07-01T12:42:47.049059Z",
     "iopub.status.idle": "2025-07-01T12:42:47.054935Z",
     "shell.execute_reply": "2025-07-01T12:42:47.053755Z"
    },
    "papermill": {
     "duration": 0.015892,
     "end_time": "2025-07-01T12:42:47.056436",
     "exception": false,
     "start_time": "2025-07-01T12:42:47.040544",
     "status": "completed"
    },
    "tags": []
   },
   "outputs": [],
   "source": [
    "def save_submission(name, test_pred_probs, score, threshold=0.5):\n",
    "    sub = pd.read_csv(CFG.sample_sub_path)\n",
    "    sub[CFG.target] = (test_pred_probs > threshold).astype(int)\n",
    "    sub[CFG.target] = sub[CFG.target].map({0: \"Extrovert\", 1: \"Introvert\"})\n",
    "    sub.to_csv(f'sub_{name}_{score:.6f}.csv', index=False)\n",
    "    return sub.head()"
   ]
  },
  {
   "cell_type": "code",
   "execution_count": 8,
   "id": "04ab8ffe",
   "metadata": {
    "_kg_hide-input": true,
    "_kg_hide-output": true,
    "execution": {
     "iopub.execute_input": "2025-07-01T12:42:47.073827Z",
     "iopub.status.busy": "2025-07-01T12:42:47.073125Z",
     "iopub.status.idle": "2025-07-01T12:42:47.082292Z",
     "shell.execute_reply": "2025-07-01T12:42:47.081502Z"
    },
    "papermill": {
     "duration": 0.019449,
     "end_time": "2025-07-01T12:42:47.083860",
     "exception": false,
     "start_time": "2025-07-01T12:42:47.064411",
     "status": "completed"
    },
    "tags": []
   },
   "outputs": [],
   "source": [
    "cb_params = {\n",
    "    \"border_count\": 120,\n",
    "    \"colsample_bylevel\": 0.3247718764677566,\n",
    "    \"depth\": 5,\n",
    "    \"iterations\": 2338,\n",
    "    \"l2_leaf_reg\": 46.61451207145634,\n",
    "    \"learning_rate\": 0.009942962734433992,\n",
    "    \"min_child_samples\": 69,\n",
    "    \"random_state\": 42,\n",
    "    \"random_strength\": 0.5313962546199299,\n",
    "    \"scale_pos_weight\": 1.2166349953176523,\n",
    "    \"subsample\": 0.9668050232520182,\n",
    "    \"verbose\": False\n",
    "}\n",
    "\n",
    "xgb_params = {\n",
    "    \"colsample_bylevel\": 0.9477142213209452,\n",
    "    \"colsample_bynode\": 0.7475369938225073,\n",
    "    \"colsample_bytree\": 0.987566541956309,\n",
    "    \"gamma\": 0.3807436723279045,\n",
    "    \"learning_rate\": 0.04046022657980715,\n",
    "    \"max_depth\": 206,\n",
    "    \"max_leaves\": 220,\n",
    "    \"min_child_weight\": 79,\n",
    "    \"n_estimators\": 2042,\n",
    "    \"n_jobs\": -1,\n",
    "    \"random_state\": 42,\n",
    "    \"reg_alpha\": 1.5764120318728758,\n",
    "    \"reg_lambda\": 1.7591925699221744,\n",
    "    \"subsample\": 0.7522852773865047,\n",
    "    \"verbosity\": 0\n",
    "}\n",
    "\n",
    "hgb_params = {\n",
    "    \"l2_regularization\": 29.644508986948303,\n",
    "    \"learning_rate\": 0.4227535407062086,\n",
    "    \"max_depth\": 285,\n",
    "    \"max_features\": 0.3408804701973883,\n",
    "    \"max_iter\": 2399,\n",
    "    \"max_leaf_nodes\": 411,\n",
    "    \"min_samples_leaf\": 403,\n",
    "    \"random_state\": 42\n",
    "}\n",
    "\n",
    "lgbm_params = {\n",
    "    \"boosting_type\": \"gbdt\",\n",
    "    \"colsample_bytree\": 0.5695872819411696,\n",
    "    \"learning_rate\": 0.0486113075228219,\n",
    "    \"min_child_samples\": 85,\n",
    "    \"min_child_weight\": 0.18623787116999913,\n",
    "    \"n_estimators\": 1177,\n",
    "    \"n_jobs\": -1,\n",
    "    \"num_leaves\": 275,\n",
    "    \"random_state\": 42,\n",
    "    \"reg_alpha\": 42.922304230294614,\n",
    "    \"reg_lambda\": 67.67415489577184,\n",
    "    \"subsample\": 0.3945576568164389,\n",
    "    \"verbose\": -1\n",
    "}\n",
    "\n",
    "lgbm_goss_params = {\n",
    "    \"boosting_type\": \"goss\",\n",
    "    \"colsample_bytree\": 0.5865401492669523,\n",
    "    \"learning_rate\": 0.03644065822755221,\n",
    "    \"min_child_samples\": 86,\n",
    "    \"min_child_weight\": 0.14386767381204435,\n",
    "    \"n_estimators\": 3585,\n",
    "    \"n_jobs\": -1,\n",
    "    \"num_leaves\": 317,\n",
    "    \"random_state\": 42,\n",
    "    \"reg_alpha\": 11.9353915315936,\n",
    "    \"reg_lambda\": 49.55466488275788,\n",
    "    \"subsample\": 0.26189469046458935,\n",
    "    \"verbose\": -1\n",
    "}\n",
    "\n",
    "lgbm_dart_params = {\n",
    "    \"boosting_type\": \"dart\",\n",
    "    \"colsample_bytree\": 0.4398581013008871,\n",
    "    \"learning_rate\": 0.09924730576762188,\n",
    "    \"min_child_samples\": 101,\n",
    "    \"min_child_weight\": 0.5090808081254294,\n",
    "    \"n_estimators\": 256,\n",
    "    \"n_jobs\": -1,\n",
    "    \"num_leaves\": 126,\n",
    "    \"random_state\": 42,\n",
    "    \"reg_alpha\": 14.71326787545454,\n",
    "    \"reg_lambda\": 20.594339965403073,\n",
    "    \"subsample\": 0.8090913416064128,\n",
    "    \"verbose\": -1\n",
    "}"
   ]
  },
  {
   "cell_type": "code",
   "execution_count": 9,
   "id": "e40dd50d",
   "metadata": {
    "execution": {
     "iopub.execute_input": "2025-07-01T12:42:47.101155Z",
     "iopub.status.busy": "2025-07-01T12:42:47.100860Z",
     "iopub.status.idle": "2025-07-01T12:42:47.105469Z",
     "shell.execute_reply": "2025-07-01T12:42:47.104541Z"
    },
    "papermill": {
     "duration": 0.015255,
     "end_time": "2025-07-01T12:42:47.107092",
     "exception": false,
     "start_time": "2025-07-01T12:42:47.091837",
     "status": "completed"
    },
    "tags": []
   },
   "outputs": [],
   "source": [
    "scores = {}\n",
    "oof_pred_probs = {}\n",
    "test_pred_probs = {}"
   ]
  },
  {
   "cell_type": "markdown",
   "id": "6eb4b31d",
   "metadata": {
    "papermill": {
     "duration": 0.007679,
     "end_time": "2025-07-01T12:42:47.122950",
     "exception": false,
     "start_time": "2025-07-01T12:42:47.115271",
     "status": "completed"
    },
    "tags": []
   },
   "source": [
    "## CatBoost"
   ]
  },
  {
   "cell_type": "code",
   "execution_count": 10,
   "id": "1a6a486f",
   "metadata": {
    "execution": {
     "iopub.execute_input": "2025-07-01T12:42:47.139980Z",
     "iopub.status.busy": "2025-07-01T12:42:47.139664Z",
     "iopub.status.idle": "2025-07-01T12:43:34.258979Z",
     "shell.execute_reply": "2025-07-01T12:43:34.257915Z"
    },
    "papermill": {
     "duration": 47.129698,
     "end_time": "2025-07-01T12:43:34.260534",
     "exception": false,
     "start_time": "2025-07-01T12:42:47.130836",
     "status": "completed"
    },
    "tags": []
   },
   "outputs": [
    {
     "name": "stdout",
     "output_type": "stream",
     "text": [
      "Training CatBoostClassifier\n",
      "\n",
      "--- Fold 0 - accuracy_score: 0.970040 - Time: 8.99 s\n",
      "--- Fold 1 - accuracy_score: 0.967341 - Time: 9.98 s\n",
      "--- Fold 2 - accuracy_score: 0.966262 - Time: 9.02 s\n",
      "--- Fold 3 - accuracy_score: 0.970580 - Time: 8.97 s\n",
      "--- Fold 4 - accuracy_score: 0.971652 - Time: 9.35 s\n",
      "\n",
      "------ Overall accuracy_score: 0.969175 - Mean accuracy_score: 0.969175 ± 0.002035 - Time: 47.06 s\n"
     ]
    }
   ],
   "source": [
    "cb_trainer = Trainer(\n",
    "    CatBoostClassifier(**cb_params),\n",
    "    cv=CFG.cv,\n",
    "    metric=CFG.metric,\n",
    "    use_early_stopping=False,\n",
    "    task=\"binary\",\n",
    "    metric_precision=6,\n",
    ")\n",
    "\n",
    "cb_trainer.fit(X, y)\n",
    "\n",
    "scores[\"CatBoost\"] = cb_trainer.fold_scores\n",
    "oof_pred_probs[\"CatBoost\"] = cb_trainer.oof_preds\n",
    "test_pred_probs[\"CatBoost\"] = cb_trainer.predict(X_test)"
   ]
  },
  {
   "cell_type": "markdown",
   "id": "c154556a",
   "metadata": {
    "papermill": {
     "duration": 0.008138,
     "end_time": "2025-07-01T12:43:34.277018",
     "exception": false,
     "start_time": "2025-07-01T12:43:34.268880",
     "status": "completed"
    },
    "tags": []
   },
   "source": [
    "## XGBoost"
   ]
  },
  {
   "cell_type": "code",
   "execution_count": 11,
   "id": "91fa6fdb",
   "metadata": {
    "execution": {
     "iopub.execute_input": "2025-07-01T12:43:34.294882Z",
     "iopub.status.busy": "2025-07-01T12:43:34.294570Z",
     "iopub.status.idle": "2025-07-01T12:43:41.798972Z",
     "shell.execute_reply": "2025-07-01T12:43:41.798135Z"
    },
    "papermill": {
     "duration": 7.515799,
     "end_time": "2025-07-01T12:43:41.801033",
     "exception": false,
     "start_time": "2025-07-01T12:43:34.285234",
     "status": "completed"
    },
    "tags": []
   },
   "outputs": [
    {
     "name": "stdout",
     "output_type": "stream",
     "text": [
      "Training XGBClassifier\n",
      "\n",
      "--- Fold 0 - accuracy_score: 0.970310 - Time: 1.34 s\n",
      "--- Fold 1 - accuracy_score: 0.968421 - Time: 1.28 s\n",
      "--- Fold 2 - accuracy_score: 0.965452 - Time: 1.27 s\n",
      "--- Fold 3 - accuracy_score: 0.971120 - Time: 1.35 s\n",
      "--- Fold 4 - accuracy_score: 0.970572 - Time: 1.29 s\n",
      "\n",
      "------ Overall accuracy_score: 0.969175 - Mean accuracy_score: 0.969175 ± 0.002071 - Time: 7.26 s\n"
     ]
    }
   ],
   "source": [
    "xgb_trainer = Trainer(\n",
    "    XGBClassifier(**xgb_params),\n",
    "    cv=CFG.cv,\n",
    "    metric=CFG.metric,\n",
    "    task=\"binary\",\n",
    "    metric_precision=6,\n",
    ")\n",
    "\n",
    "xgb_trainer.fit(X, y)\n",
    "\n",
    "scores[\"XGBoost\"] = xgb_trainer.fold_scores\n",
    "oof_pred_probs[\"XGBoost\"] = xgb_trainer.oof_preds\n",
    "test_pred_probs[\"XGBoost\"] = xgb_trainer.predict(X_test)"
   ]
  },
  {
   "cell_type": "markdown",
   "id": "e83ef730",
   "metadata": {
    "papermill": {
     "duration": 0.008292,
     "end_time": "2025-07-01T12:43:41.821764",
     "exception": false,
     "start_time": "2025-07-01T12:43:41.813472",
     "status": "completed"
    },
    "tags": []
   },
   "source": [
    "## HistGradientBoostingClassifier"
   ]
  },
  {
   "cell_type": "code",
   "execution_count": 12,
   "id": "b37f7407",
   "metadata": {
    "execution": {
     "iopub.execute_input": "2025-07-01T12:43:41.840646Z",
     "iopub.status.busy": "2025-07-01T12:43:41.839716Z",
     "iopub.status.idle": "2025-07-01T12:43:43.126528Z",
     "shell.execute_reply": "2025-07-01T12:43:43.125503Z"
    },
    "papermill": {
     "duration": 1.29762,
     "end_time": "2025-07-01T12:43:43.128039",
     "exception": false,
     "start_time": "2025-07-01T12:43:41.830419",
     "status": "completed"
    },
    "tags": []
   },
   "outputs": [
    {
     "name": "stdout",
     "output_type": "stream",
     "text": [
      "Training HistGradientBoostingClassifier\n",
      "\n",
      "--- Fold 0 - accuracy_score: 0.970040 - Time: 0.10 s\n",
      "--- Fold 1 - accuracy_score: 0.968421 - Time: 0.12 s\n",
      "--- Fold 2 - accuracy_score: 0.966262 - Time: 0.09 s\n",
      "--- Fold 3 - accuracy_score: 0.971120 - Time: 0.09 s\n",
      "--- Fold 4 - accuracy_score: 0.970842 - Time: 0.10 s\n",
      "\n",
      "------ Overall accuracy_score: 0.969337 - Mean accuracy_score: 0.969337 ± 0.001802 - Time: 1.23 s\n"
     ]
    }
   ],
   "source": [
    "hgb_trainer = Trainer(\n",
    "    HistGradientBoostingClassifier(**hgb_params),\n",
    "    cv=CFG.cv,\n",
    "    metric=CFG.metric,\n",
    "    task=\"binary\",\n",
    "    metric_precision=6,\n",
    ")\n",
    "\n",
    "hgb_trainer.fit(X, y)\n",
    "\n",
    "scores[\"HistGradientBoosting\"] = hgb_trainer.fold_scores\n",
    "oof_pred_probs[\"HistGradientBoosting\"] = hgb_trainer.oof_preds\n",
    "test_pred_probs[\"HistGradientBoosting\"] = hgb_trainer.predict(X_test)"
   ]
  },
  {
   "cell_type": "markdown",
   "id": "13d69417",
   "metadata": {
    "papermill": {
     "duration": 0.008509,
     "end_time": "2025-07-01T12:43:43.145647",
     "exception": false,
     "start_time": "2025-07-01T12:43:43.137138",
     "status": "completed"
    },
    "tags": []
   },
   "source": [
    "## LightGBM (gbdt)"
   ]
  },
  {
   "cell_type": "code",
   "execution_count": 13,
   "id": "3a74ac03",
   "metadata": {
    "execution": {
     "iopub.execute_input": "2025-07-01T12:43:43.164398Z",
     "iopub.status.busy": "2025-07-01T12:43:43.164028Z",
     "iopub.status.idle": "2025-07-01T12:43:46.620904Z",
     "shell.execute_reply": "2025-07-01T12:43:46.619818Z"
    },
    "papermill": {
     "duration": 3.467772,
     "end_time": "2025-07-01T12:43:46.622137",
     "exception": false,
     "start_time": "2025-07-01T12:43:43.154365",
     "status": "completed"
    },
    "tags": []
   },
   "outputs": [
    {
     "name": "stdout",
     "output_type": "stream",
     "text": [
      "Training LGBMClassifier\n",
      "\n",
      "--- Fold 0 - accuracy_score: 0.969771 - Time: 0.62 s\n",
      "--- Fold 1 - accuracy_score: 0.968151 - Time: 0.53 s\n",
      "--- Fold 2 - accuracy_score: 0.966262 - Time: 0.53 s\n",
      "--- Fold 3 - accuracy_score: 0.971120 - Time: 0.48 s\n",
      "--- Fold 4 - accuracy_score: 0.970842 - Time: 0.48 s\n",
      "\n",
      "------ Overall accuracy_score: 0.969229 - Mean accuracy_score: 0.969229 ± 0.001813 - Time: 3.37 s\n"
     ]
    }
   ],
   "source": [
    "lgbm_gbdt_trainer = Trainer(\n",
    "    LGBMClassifier(**lgbm_params),\n",
    "    cv=CFG.cv,\n",
    "    metric=CFG.metric,\n",
    "    use_early_stopping=False,\n",
    "    task=\"binary\",\n",
    "    metric_precision=6,\n",
    ")\n",
    "\n",
    "lgbm_gbdt_trainer.fit(X, y)\n",
    "\n",
    "scores[\"LightGBM (gbdt)\"] = lgbm_gbdt_trainer.fold_scores\n",
    "oof_pred_probs[\"LightGBM (gbdt)\"] = lgbm_gbdt_trainer.oof_preds\n",
    "test_pred_probs[\"LightGBM (gbdt)\"] = lgbm_gbdt_trainer.predict(X_test)"
   ]
  },
  {
   "cell_type": "markdown",
   "id": "1faf56a2",
   "metadata": {
    "papermill": {
     "duration": 0.008963,
     "end_time": "2025-07-01T12:43:46.642852",
     "exception": false,
     "start_time": "2025-07-01T12:43:46.633889",
     "status": "completed"
    },
    "tags": []
   },
   "source": [
    "## LightGBM (goss)"
   ]
  },
  {
   "cell_type": "code",
   "execution_count": 14,
   "id": "c687452f",
   "metadata": {
    "execution": {
     "iopub.execute_input": "2025-07-01T12:43:46.662258Z",
     "iopub.status.busy": "2025-07-01T12:43:46.661968Z",
     "iopub.status.idle": "2025-07-01T12:44:02.178940Z",
     "shell.execute_reply": "2025-07-01T12:44:02.178036Z"
    },
    "papermill": {
     "duration": 15.529155,
     "end_time": "2025-07-01T12:44:02.180878",
     "exception": false,
     "start_time": "2025-07-01T12:43:46.651723",
     "status": "completed"
    },
    "tags": []
   },
   "outputs": [
    {
     "name": "stdout",
     "output_type": "stream",
     "text": [
      "Training LGBMClassifier\n",
      "\n",
      "--- Fold 0 - accuracy_score: 0.969771 - Time: 2.82 s\n",
      "--- Fold 1 - accuracy_score: 0.968421 - Time: 2.72 s\n",
      "--- Fold 2 - accuracy_score: 0.966262 - Time: 2.87 s\n",
      "--- Fold 3 - accuracy_score: 0.971120 - Time: 2.78 s\n",
      "--- Fold 4 - accuracy_score: 0.970842 - Time: 2.84 s\n",
      "\n",
      "------ Overall accuracy_score: 0.969283 - Mean accuracy_score: 0.969283 ± 0.001784 - Time: 14.77 s\n"
     ]
    }
   ],
   "source": [
    "lgbm_goss_trainer = Trainer(\n",
    "    LGBMClassifier(**lgbm_goss_params),\n",
    "    cv=CFG.cv,\n",
    "    metric=CFG.metric,\n",
    "    use_early_stopping=False,\n",
    "    task=\"binary\",\n",
    "    metric_precision=6,\n",
    ")\n",
    "\n",
    "lgbm_goss_trainer.fit(X, y)\n",
    "\n",
    "scores[\"LightGBM (goss)\"] = lgbm_goss_trainer.fold_scores\n",
    "oof_pred_probs[\"LightGBM (goss)\"] = lgbm_goss_trainer.oof_preds\n",
    "test_pred_probs[\"LightGBM (goss)\"] = lgbm_goss_trainer.predict(X_test)"
   ]
  },
  {
   "cell_type": "markdown",
   "id": "88eb99fa",
   "metadata": {
    "papermill": {
     "duration": 0.009182,
     "end_time": "2025-07-01T12:44:02.202629",
     "exception": false,
     "start_time": "2025-07-01T12:44:02.193447",
     "status": "completed"
    },
    "tags": []
   },
   "source": [
    "## LightGBM (dart)"
   ]
  },
  {
   "cell_type": "code",
   "execution_count": 15,
   "id": "73115604",
   "metadata": {
    "execution": {
     "iopub.execute_input": "2025-07-01T12:44:02.222867Z",
     "iopub.status.busy": "2025-07-01T12:44:02.222521Z",
     "iopub.status.idle": "2025-07-01T12:44:08.468345Z",
     "shell.execute_reply": "2025-07-01T12:44:08.467534Z"
    },
    "papermill": {
     "duration": 6.257801,
     "end_time": "2025-07-01T12:44:08.469868",
     "exception": false,
     "start_time": "2025-07-01T12:44:02.212067",
     "status": "completed"
    },
    "tags": []
   },
   "outputs": [
    {
     "name": "stdout",
     "output_type": "stream",
     "text": [
      "Training LGBMClassifier\n",
      "\n",
      "--- Fold 0 - accuracy_score: 0.969771 - Time: 0.76 s\n",
      "--- Fold 1 - accuracy_score: 0.968421 - Time: 2.35 s\n",
      "--- Fold 2 - accuracy_score: 0.966262 - Time: 0.77 s\n",
      "--- Fold 3 - accuracy_score: 0.971120 - Time: 0.77 s\n",
      "--- Fold 4 - accuracy_score: 0.970842 - Time: 0.77 s\n",
      "\n",
      "------ Overall accuracy_score: 0.969283 - Mean accuracy_score: 0.969283 ± 0.001784 - Time: 6.15 s\n"
     ]
    }
   ],
   "source": [
    "lgbm_dart_trainer = Trainer(\n",
    "    LGBMClassifier(**lgbm_dart_params),\n",
    "    cv=CFG.cv,\n",
    "    metric=CFG.metric,\n",
    "    use_early_stopping=False,\n",
    "    task=\"binary\",\n",
    "    metric_precision=6,\n",
    ")\n",
    "\n",
    "lgbm_dart_trainer.fit(X, y)\n",
    "\n",
    "scores[\"LightGBM (dart)\"] = lgbm_dart_trainer.fold_scores\n",
    "oof_pred_probs[\"LightGBM (dart)\"] = lgbm_dart_trainer.oof_preds\n",
    "test_pred_probs[\"LightGBM (dart)\"] = lgbm_dart_trainer.predict(X_test)"
   ]
  },
  {
   "cell_type": "markdown",
   "id": "8c7fc39a",
   "metadata": {
    "papermill": {
     "duration": 0.009316,
     "end_time": "2025-07-01T12:44:08.494473",
     "exception": false,
     "start_time": "2025-07-01T12:44:08.485157",
     "status": "completed"
    },
    "tags": []
   },
   "source": [
    "## AutoGluon"
   ]
  },
  {
   "cell_type": "code",
   "execution_count": 16,
   "id": "281d9cab",
   "metadata": {
    "execution": {
     "iopub.execute_input": "2025-07-01T12:44:08.514978Z",
     "iopub.status.busy": "2025-07-01T12:44:08.514679Z",
     "iopub.status.idle": "2025-07-01T12:44:08.548786Z",
     "shell.execute_reply": "2025-07-01T12:44:08.547984Z"
    },
    "papermill": {
     "duration": 0.04628,
     "end_time": "2025-07-01T12:44:08.550386",
     "exception": false,
     "start_time": "2025-07-01T12:44:08.504106",
     "status": "completed"
    },
    "tags": []
   },
   "outputs": [],
   "source": [
    "oof_pred_probs_files = glob.glob(f'/kaggle/input/s05e07-personality-type-prediction-autogluon/*_oof_pred_probs_*.pkl')\n",
    "test_pred_probs_files = glob.glob(f'/kaggle/input/s05e07-personality-type-prediction-autogluon/*_test_pred_probs_*.pkl')\n",
    "\n",
    "ag_oof_pred_probs = joblib.load(oof_pred_probs_files[0])\n",
    "ag_test_pred_probs = joblib.load(test_pred_probs_files[0])\n",
    "\n",
    "ag_scores = []\n",
    "for _, val_idx in CFG.cv.split(X, y):\n",
    "    y_val = y[val_idx]\n",
    "    y_preds = ag_oof_pred_probs[val_idx]\n",
    "    score = accuracy_score(y_val, y_preds >= 0.5)\n",
    "    ag_scores.append(score)\n",
    "    \n",
    "oof_pred_probs[\"AutoGluon\"], test_pred_probs[\"AutoGluon\"], scores[\"AutoGluon\"] = ag_oof_pred_probs, ag_test_pred_probs, ag_scores"
   ]
  },
  {
   "cell_type": "markdown",
   "id": "763f2299",
   "metadata": {
    "papermill": {
     "duration": 0.009396,
     "end_time": "2025-07-01T12:44:08.569626",
     "exception": false,
     "start_time": "2025-07-01T12:44:08.560230",
     "status": "completed"
    },
    "tags": []
   },
   "source": [
    "# Ensembling with Logistic Regression"
   ]
  },
  {
   "cell_type": "code",
   "execution_count": 17,
   "id": "b00ae886",
   "metadata": {
    "_kg_hide-input": true,
    "execution": {
     "iopub.execute_input": "2025-07-01T12:44:08.590017Z",
     "iopub.status.busy": "2025-07-01T12:44:08.589698Z",
     "iopub.status.idle": "2025-07-01T12:44:08.596851Z",
     "shell.execute_reply": "2025-07-01T12:44:08.596119Z"
    },
    "papermill": {
     "duration": 0.018847,
     "end_time": "2025-07-01T12:44:08.598089",
     "exception": false,
     "start_time": "2025-07-01T12:44:08.579242",
     "status": "completed"
    },
    "tags": []
   },
   "outputs": [],
   "source": [
    "def plot_weights(weights, title):\n",
    "    sorted_indices = np.argsort(weights[0])[::-1]\n",
    "    sorted_coeffs = np.array(weights[0])[sorted_indices]\n",
    "    sorted_model_names = np.array(list(oof_pred_probs.keys()))[sorted_indices]\n",
    "\n",
    "    plt.figure(figsize=(10, weights.shape[1] * 0.5))\n",
    "    ax = sns.barplot(x=sorted_coeffs, y=sorted_model_names, palette=\"RdYlGn_r\")\n",
    "\n",
    "    for i, (value, name) in enumerate(zip(sorted_coeffs, sorted_model_names)):\n",
    "        if value >= 0:\n",
    "            ax.text(value, i, f'{value:.3f}', va='center', ha='left', color='black')\n",
    "        else:\n",
    "            ax.text(value, i, f'{value:.3f}', va='center', ha='right', color='black')\n",
    "\n",
    "    xlim = ax.get_xlim()\n",
    "    ax.set_xlim(xlim[0] - 0.1 * abs(xlim[0]), xlim[1] + 0.1 * abs(xlim[1]))\n",
    "\n",
    "    plt.title(title)\n",
    "    plt.xlabel('')\n",
    "    plt.ylabel('')\n",
    "    plt.tight_layout()\n",
    "    plt.show()"
   ]
  },
  {
   "cell_type": "code",
   "execution_count": 18,
   "id": "39372da1",
   "metadata": {
    "execution": {
     "iopub.execute_input": "2025-07-01T12:44:08.688873Z",
     "iopub.status.busy": "2025-07-01T12:44:08.688559Z",
     "iopub.status.idle": "2025-07-01T12:44:08.694104Z",
     "shell.execute_reply": "2025-07-01T12:44:08.693353Z"
    },
    "papermill": {
     "duration": 0.017818,
     "end_time": "2025-07-01T12:44:08.695590",
     "exception": false,
     "start_time": "2025-07-01T12:44:08.677772",
     "status": "completed"
    },
    "tags": []
   },
   "outputs": [],
   "source": [
    "X = pd.DataFrame(oof_pred_probs)\n",
    "X_test = pd.DataFrame(test_pred_probs)"
   ]
  },
  {
   "cell_type": "code",
   "execution_count": 19,
   "id": "6f4e0894",
   "metadata": {
    "_kg_hide-output": true,
    "execution": {
     "iopub.execute_input": "2025-07-01T12:44:08.716924Z",
     "iopub.status.busy": "2025-07-01T12:44:08.716223Z",
     "iopub.status.idle": "2025-07-01T12:51:30.975285Z",
     "shell.execute_reply": "2025-07-01T12:51:30.974229Z"
    },
    "papermill": {
     "duration": 442.271953,
     "end_time": "2025-07-01T12:51:30.977421",
     "exception": false,
     "start_time": "2025-07-01T12:44:08.705468",
     "status": "completed"
    },
    "scrolled": true,
    "tags": []
   },
   "outputs": [
    {
     "name": "stderr",
     "output_type": "stream",
     "text": [
      "[I 2025-07-01 12:44:08,722] A new study created in memory with name: no-name-bae7d1b6-4f82-4468-9647-ac5b7a3d3ea5\n",
      "[I 2025-07-01 12:44:11,207] Trial 2 finished with value: 0.2604729030584436 and parameters: {'solver_penalty': ('lbfgs', 'l2'), 'C': 8.53458005895424, 'tol': 0.054981090155123556, 'fit_intercept': False, 'class_weight': None, 'threshold': 0.394}. Best is trial 2 with value: 0.2604729030584436.\n",
      "[I 2025-07-01 12:44:11,218] Trial 1 finished with value: 0.9677712827508212 and parameters: {'solver_penalty': ('liblinear', 'l1'), 'C': 0.11256756005758817, 'tol': 0.015679530727386003, 'fit_intercept': False, 'class_weight': None, 'threshold': 0.6739999999999999}. Best is trial 1 with value: 0.9677712827508212.\n",
      "[I 2025-07-01 12:44:11,884] Trial 0 finished with value: 0.951251825360044 and parameters: {'solver_penalty': ('newton-cholesky', 'l2'), 'C': 6.333293730642654, 'tol': 0.052315139217006756, 'fit_intercept': False, 'class_weight': None, 'threshold': 0.683}. Best is trial 1 with value: 0.9677712827508212.\n",
      "[I 2025-07-01 12:44:13,335] Trial 3 finished with value: 0.8990479271779716 and parameters: {'solver_penalty': ('newton-cholesky', None), 'C': 0.8104516780172033, 'tol': 0.0307291906004062, 'fit_intercept': False, 'class_weight': 'balanced', 'threshold': 0.409}. Best is trial 1 with value: 0.9677712827508212.\n",
      "[I 2025-07-01 12:44:13,342] Trial 5 finished with value: 0.9564888525517148 and parameters: {'solver_penalty': ('lbfgs', None), 'C': 8.650953234904076, 'tol': 0.023116308392073112, 'fit_intercept': False, 'class_weight': None, 'threshold': 0.5409999999999999}. Best is trial 1 with value: 0.9677712827508212.\n",
      "[I 2025-07-01 12:44:14,511] Trial 4 finished with value: 0.9692292098413503 and parameters: {'solver_penalty': ('newton-cg', 'l2'), 'C': 2.6677194201240475, 'tol': 0.044445816868149905, 'fit_intercept': True, 'class_weight': None, 'threshold': 0.428}. Best is trial 4 with value: 0.9692292098413503.\n",
      "[I 2025-07-01 12:44:15,662] Trial 7 finished with value: 0.8079219751488708 and parameters: {'solver_penalty': ('newton-cg', None), 'C': 7.931141970781521, 'tol': 0.08944920194344785, 'fit_intercept': False, 'class_weight': 'balanced', 'threshold': 0.515}. Best is trial 4 with value: 0.9692292098413503.\n",
      "[I 2025-07-01 12:44:15,833] Trial 6 finished with value: 0.9687973609884487 and parameters: {'solver_penalty': ('newton-cholesky', None), 'C': 5.587228734005405, 'tol': 0.0019535434545280474, 'fit_intercept': True, 'class_weight': 'balanced', 'threshold': 0.33899999999999997}. Best is trial 4 with value: 0.9692292098413503.\n",
      "[I 2025-07-01 12:44:17,305] Trial 9 finished with value: 0.9692292098413503 and parameters: {'solver_penalty': ('liblinear', 'l2'), 'C': 0.5994013974148948, 'tol': 0.026728077708511492, 'fit_intercept': True, 'class_weight': 'balanced', 'threshold': 0.653}. Best is trial 4 with value: 0.9692292098413503.\n",
      "[I 2025-07-01 12:44:18,276] Trial 10 finished with value: 0.2604729030584436 and parameters: {'solver_penalty': ('newton-cg', None), 'C': 4.88968949315514, 'tol': 0.04087268139334459, 'fit_intercept': False, 'class_weight': None, 'threshold': 0.45699999999999996}. Best is trial 4 with value: 0.9692292098413503.\n",
      "[I 2025-07-01 12:44:18,593] Trial 11 finished with value: 0.2604729030584436 and parameters: {'solver_penalty': ('lbfgs', None), 'C': 4.031673976143711, 'tol': 0.07995856983628383, 'fit_intercept': False, 'class_weight': 'balanced', 'threshold': 0.40499999999999997}. Best is trial 4 with value: 0.9692292098413503.\n",
      "[I 2025-07-01 12:44:19,636] Trial 12 finished with value: 0.34276231990509587 and parameters: {'solver_penalty': ('liblinear', 'l1'), 'C': 1.8334511014680765, 'tol': 0.03733762014995192, 'fit_intercept': False, 'class_weight': None, 'threshold': 0.437}. Best is trial 4 with value: 0.9692292098413503.\n",
      "[I 2025-07-01 12:44:20,961] Trial 13 finished with value: 0.2604729030584436 and parameters: {'solver_penalty': ('lbfgs', None), 'C': 3.506545435446543, 'tol': 0.07371244458783668, 'fit_intercept': False, 'class_weight': None, 'threshold': 0.477}. Best is trial 4 with value: 0.9692292098413503.\n",
      "[I 2025-07-01 12:44:21,780] Trial 14 finished with value: 0.9689593334557527 and parameters: {'solver_penalty': ('liblinear', 'l2'), 'C': 2.244653139275087, 'tol': 0.03848148050820617, 'fit_intercept': True, 'class_weight': 'balanced', 'threshold': 0.303}. Best is trial 4 with value: 0.9692292098413503.\n",
      "[I 2025-07-01 12:44:22,121] Trial 15 finished with value: 0.2604729030584436 and parameters: {'solver_penalty': ('liblinear', 'l1'), 'C': 3.938151564656444, 'tol': 0.05702421797966678, 'fit_intercept': False, 'class_weight': 'balanced', 'threshold': 0.323}. Best is trial 4 with value: 0.9692292098413503.\n",
      "[I 2025-07-01 12:44:22,593] Trial 8 finished with value: 0.9513597292783379 and parameters: {'solver_penalty': ('liblinear', 'l1'), 'C': 2.3145322678553604, 'tol': 0.0033067136085880968, 'fit_intercept': False, 'class_weight': None, 'threshold': 0.6679999999999999}. Best is trial 4 with value: 0.9692292098413503.\n",
      "[I 2025-07-01 12:44:23,742] Trial 16 finished with value: 0.7284560150167743 and parameters: {'solver_penalty': ('liblinear', 'l2'), 'C': 5.016226994003029, 'tol': 0.023839002654672925, 'fit_intercept': False, 'class_weight': None, 'threshold': 0.394}. Best is trial 4 with value: 0.9692292098413503.\n",
      "[I 2025-07-01 12:44:24,878] Trial 17 finished with value: 0.9689053523491399 and parameters: {'solver_penalty': ('liblinear', 'l2'), 'C': 0.745036671189061, 'tol': 0.04633054695821666, 'fit_intercept': True, 'class_weight': 'balanced', 'threshold': 0.33899999999999997}. Best is trial 4 with value: 0.9692292098413503.\n",
      "[I 2025-07-01 12:44:25,044] Trial 19 finished with value: 0.96847345977504 and parameters: {'solver_penalty': ('lbfgs', None), 'C': 2.0089688471031186, 'tol': 0.059944648322480164, 'fit_intercept': False, 'class_weight': None, 'threshold': 0.608}. Best is trial 4 with value: 0.9692292098413503.\n",
      "[I 2025-07-01 12:44:26,013] Trial 18 finished with value: 0.8727019700772116 and parameters: {'solver_penalty': ('newton-cholesky', 'l2'), 'C': 9.135467462993835, 'tol': 0.01823416921969197, 'fit_intercept': False, 'class_weight': None, 'threshold': 0.46099999999999997}. Best is trial 4 with value: 0.9692292098413503.\n",
      "[I 2025-07-01 12:44:27,646] Trial 22 finished with value: 0.2604729030584436 and parameters: {'solver_penalty': ('liblinear', 'l1'), 'C': 7.130592422282201, 'tol': 0.08509302949400911, 'fit_intercept': False, 'class_weight': None, 'threshold': 0.488}. Best is trial 4 with value: 0.9692292098413503.\n",
      "[I 2025-07-01 12:44:27,656] Trial 20 finished with value: 0.9689593334557527 and parameters: {'solver_penalty': ('lbfgs', 'l2'), 'C': 3.1005930162784345, 'tol': 0.05683343516368621, 'fit_intercept': True, 'class_weight': 'balanced', 'threshold': 0.46299999999999997}. Best is trial 4 with value: 0.9692292098413503.\n",
      "[I 2025-07-01 12:44:28,781] Trial 23 finished with value: 0.9691751995872719 and parameters: {'solver_penalty': ('liblinear', 'l1'), 'C': 6.411562496050629, 'tol': 0.05702582661088459, 'fit_intercept': True, 'class_weight': None, 'threshold': 0.5720000000000001}. Best is trial 4 with value: 0.9692292098413503.\n",
      "[I 2025-07-01 12:44:28,958] Trial 21 finished with value: 0.9642626419845927 and parameters: {'solver_penalty': ('newton-cg', None), 'C': 4.15728316002005, 'tol': 0.07691894645515326, 'fit_intercept': False, 'class_weight': 'balanced', 'threshold': 0.5469999999999999}. Best is trial 4 with value: 0.9692292098413503.\n",
      "[I 2025-07-01 12:44:30,191] Trial 25 finished with value: 0.9689593334557527 and parameters: {'solver_penalty': ('lbfgs', None), 'C': 1.7733337593289, 'tol': 0.023198792626287226, 'fit_intercept': False, 'class_weight': None, 'threshold': 0.673}. Best is trial 4 with value: 0.9692292098413503.\n",
      "[I 2025-07-01 12:44:31,787] Trial 24 finished with value: 0.2604729030584436 and parameters: {'solver_penalty': ('newton-cholesky', 'l2'), 'C': 0.23442423451404126, 'tol': 0.027169739866325215, 'fit_intercept': False, 'class_weight': 'balanced', 'threshold': 0.351}. Best is trial 4 with value: 0.9692292098413503.\n",
      "[I 2025-07-01 12:44:32,210] Trial 27 finished with value: 0.9544362442907401 and parameters: {'solver_penalty': ('liblinear', 'l2'), 'C': 1.4785687077397525, 'tol': 0.022584395847424988, 'fit_intercept': False, 'class_weight': None, 'threshold': 0.617}. Best is trial 4 with value: 0.9692292098413503.\n",
      "[I 2025-07-01 12:44:32,889] Trial 26 finished with value: 0.9691751995872719 and parameters: {'solver_penalty': ('lbfgs', None), 'C': 2.8607334159643383, 'tol': 0.0005058187519016785, 'fit_intercept': True, 'class_weight': None, 'threshold': 0.45799999999999996}. Best is trial 4 with value: 0.9692292098413503.\n",
      "[I 2025-07-01 12:44:33,530] Trial 28 finished with value: 0.9686353447999464 and parameters: {'solver_penalty': ('liblinear', 'l2'), 'C': 5.361520871630093, 'tol': 0.01561071239280644, 'fit_intercept': False, 'class_weight': 'balanced', 'threshold': 0.6799999999999999}. Best is trial 4 with value: 0.9692292098413503.\n",
      "[I 2025-07-01 12:44:34,861] Trial 30 finished with value: 0.2604729030584436 and parameters: {'solver_penalty': ('newton-cg', None), 'C': 7.812337477858792, 'tol': 0.07745290646843683, 'fit_intercept': False, 'class_weight': None, 'threshold': 0.364}. Best is trial 4 with value: 0.9692292098413503.\n",
      "[I 2025-07-01 12:44:35,375] Trial 29 finished with value: 0.9692291806938848 and parameters: {'solver_penalty': ('newton-cg', 'l2'), 'C': 4.6398666744853445, 'tol': 0.0488948704967111, 'fit_intercept': True, 'class_weight': None, 'threshold': 0.554}. Best is trial 4 with value: 0.9692292098413503.\n",
      "[I 2025-07-01 12:44:36,414] Trial 31 finished with value: 0.9689053669228729 and parameters: {'solver_penalty': ('newton-cholesky', None), 'C': 0.6519561688080644, 'tol': 0.08408843371115757, 'fit_intercept': True, 'class_weight': 'balanced', 'threshold': 0.438}. Best is trial 4 with value: 0.9692292098413503.\n",
      "[I 2025-07-01 12:44:37,737] Trial 32 finished with value: 0.9689593334557527 and parameters: {'solver_penalty': ('newton-cg', 'l2'), 'C': 4.886975220659712, 'tol': 0.03258623093982872, 'fit_intercept': False, 'class_weight': 'balanced', 'threshold': 0.641}. Best is trial 4 with value: 0.9692292098413503.\n",
      "[I 2025-07-01 12:44:38,246] Trial 33 finished with value: 0.940074530069983 and parameters: {'solver_penalty': ('liblinear', 'l1'), 'C': 7.410396990273317, 'tol': 0.010783701503312914, 'fit_intercept': False, 'class_weight': 'balanced', 'threshold': 0.597}. Best is trial 4 with value: 0.9692292098413503.\n",
      "[I 2025-07-01 12:44:38,732] Trial 34 finished with value: 0.2604729030584436 and parameters: {'solver_penalty': ('liblinear', 'l1'), 'C': 0.6627052166864322, 'tol': 0.029225075036896062, 'fit_intercept': False, 'class_weight': 'balanced', 'threshold': 0.469}. Best is trial 4 with value: 0.9692292098413503.\n",
      "[I 2025-07-01 12:44:39,225] Trial 35 finished with value: 0.9692291806938845 and parameters: {'solver_penalty': ('liblinear', 'l2'), 'C': 6.573933453728778, 'tol': 0.0748573740175298, 'fit_intercept': True, 'class_weight': None, 'threshold': 0.7}. Best is trial 4 with value: 0.9692292098413503.\n",
      "[I 2025-07-01 12:44:41,005] Trial 37 finished with value: 0.2604729030584436 and parameters: {'solver_penalty': ('lbfgs', 'l2'), 'C': 3.628985019302596, 'tol': 0.07407908697927523, 'fit_intercept': False, 'class_weight': None, 'threshold': 0.441}. Best is trial 4 with value: 0.9692292098413503.\n",
      "[I 2025-07-01 12:44:41,175] Trial 36 finished with value: 0.905580471780881 and parameters: {'solver_penalty': ('newton-cholesky', None), 'C': 3.157810243484278, 'tol': 0.07155579935004115, 'fit_intercept': False, 'class_weight': None, 'threshold': 0.359}. Best is trial 4 with value: 0.9692292098413503.\n",
      "[I 2025-07-01 12:44:42,160] Trial 38 finished with value: 0.2604729030584436 and parameters: {'solver_penalty': ('lbfgs', 'l2'), 'C': 8.10014985322469, 'tol': 0.08750005933206109, 'fit_intercept': False, 'class_weight': 'balanced', 'threshold': 0.352}. Best is trial 4 with value: 0.9692292098413503.\n",
      "[I 2025-07-01 12:44:42,488] Trial 39 finished with value: 0.9689593334557527 and parameters: {'solver_penalty': ('liblinear', 'l2'), 'C': 4.679553361583228, 'tol': 0.08350789264158569, 'fit_intercept': True, 'class_weight': 'balanced', 'threshold': 0.309}. Best is trial 4 with value: 0.9692292098413503.\n",
      "[I 2025-07-01 12:44:44,095] Trial 40 finished with value: 0.9689593334557527 and parameters: {'solver_penalty': ('lbfgs', 'l2'), 'C': 6.66030875171667, 'tol': 0.09415527380204111, 'fit_intercept': False, 'class_weight': 'balanced', 'threshold': 0.677}. Best is trial 4 with value: 0.9692292098413503.\n",
      "[I 2025-07-01 12:44:44,450] Trial 41 finished with value: 0.9691751995872719 and parameters: {'solver_penalty': ('newton-cg', 'l2'), 'C': 8.926125413145648, 'tol': 0.08213837728010556, 'fit_intercept': True, 'class_weight': None, 'threshold': 0.53}. Best is trial 4 with value: 0.9692292098413503.\n",
      "[I 2025-07-01 12:44:44,927] Trial 42 finished with value: 0.9672857588396976 and parameters: {'solver_penalty': ('liblinear', 'l2'), 'C': 2.49600481967612, 'tol': 0.09433907340558503, 'fit_intercept': False, 'class_weight': None, 'threshold': 0.575}. Best is trial 4 with value: 0.9692292098413503.\n",
      "[I 2025-07-01 12:44:46,552] Trial 44 finished with value: 0.2604729030584436 and parameters: {'solver_penalty': ('lbfgs', 'l2'), 'C': 1.4832987909654272, 'tol': 0.03891564466150488, 'fit_intercept': False, 'class_weight': 'balanced', 'threshold': 0.345}. Best is trial 4 with value: 0.9692292098413503.\n",
      "[I 2025-07-01 12:44:47,384] Trial 45 finished with value: 0.8955385140039 and parameters: {'solver_penalty': ('liblinear', 'l2'), 'C': 1.170148775766413, 'tol': 0.0445012629664546, 'fit_intercept': False, 'class_weight': 'balanced', 'threshold': 0.535}. Best is trial 4 with value: 0.9692292098413503.\n",
      "[I 2025-07-01 12:44:47,696] Trial 43 finished with value: 0.9691751995872719 and parameters: {'solver_penalty': ('newton-cg', 'l2'), 'C': 9.69053406655784, 'tol': 0.0394692995000604, 'fit_intercept': True, 'class_weight': 'balanced', 'threshold': 0.69}. Best is trial 4 with value: 0.9692292098413503.\n",
      "[I 2025-07-01 12:44:48,194] Trial 46 finished with value: 0.9689593334557527 and parameters: {'solver_penalty': ('newton-cg', 'l2'), 'C': 7.574625303429733, 'tol': 0.09685123051283097, 'fit_intercept': False, 'class_weight': 'balanced', 'threshold': 0.635}. Best is trial 4 with value: 0.9692292098413503.\n",
      "[I 2025-07-01 12:44:49,815] Trial 47 finished with value: 0.2604729030584436 and parameters: {'solver_penalty': ('newton-cg', None), 'C': 3.8268599681586055, 'tol': 0.06816121215778562, 'fit_intercept': False, 'class_weight': None, 'threshold': 0.378}. Best is trial 4 with value: 0.9692292098413503.\n",
      "[I 2025-07-01 12:44:50,314] Trial 48 finished with value: 0.9691751995872719 and parameters: {'solver_penalty': ('lbfgs', None), 'C': 8.515515603326325, 'tol': 0.08420917362789171, 'fit_intercept': True, 'class_weight': None, 'threshold': 0.33599999999999997}. Best is trial 4 with value: 0.9692292098413503.\n",
      "[I 2025-07-01 12:44:50,959] Trial 50 finished with value: 0.9690133145623653 and parameters: {'solver_penalty': ('lbfgs', None), 'C': 4.83649352245572, 'tol': 0.044606518583368095, 'fit_intercept': False, 'class_weight': None, 'threshold': 0.632}. Best is trial 4 with value: 0.9692292098413503.\n",
      "[I 2025-07-01 12:44:51,492] Trial 49 finished with value: 0.9689593334557527 and parameters: {'solver_penalty': ('lbfgs', None), 'C': 6.684649994034185, 'tol': 0.07213991987599168, 'fit_intercept': True, 'class_weight': 'balanced', 'threshold': 0.486}. Best is trial 4 with value: 0.9692292098413503.\n",
      "[I 2025-07-01 12:44:53,287] Trial 51 finished with value: 0.2604729030584436 and parameters: {'solver_penalty': ('liblinear', 'l1'), 'C': 8.963285363079617, 'tol': 0.028805540511202012, 'fit_intercept': False, 'class_weight': 'balanced', 'threshold': 0.5}. Best is trial 4 with value: 0.9692292098413503.\n",
      "[I 2025-07-01 12:44:53,792] Trial 52 finished with value: 0.2604729030584436 and parameters: {'solver_penalty': ('newton-cg', None), 'C': 6.624255023924142, 'tol': 0.08619326853004876, 'fit_intercept': False, 'class_weight': None, 'threshold': 0.45899999999999996}. Best is trial 4 with value: 0.9692292098413503.\n",
      "[I 2025-07-01 12:44:54,317] Trial 53 finished with value: 0.9692292098413503 and parameters: {'solver_penalty': ('liblinear', 'l2'), 'C': 1.107131080542791, 'tol': 0.025542761262621266, 'fit_intercept': True, 'class_weight': 'balanced', 'threshold': 0.649}. Best is trial 4 with value: 0.9692292098413503.\n",
      "[I 2025-07-01 12:44:54,825] Trial 54 finished with value: 0.9692291806938845 and parameters: {'solver_penalty': ('liblinear', 'l2'), 'C': 6.523320497332167, 'tol': 0.08608400284676472, 'fit_intercept': True, 'class_weight': None, 'threshold': 0.646}. Best is trial 4 with value: 0.9692292098413503.\n",
      "[I 2025-07-01 12:44:56,351] Trial 55 finished with value: 0.9692291806938845 and parameters: {'solver_penalty': ('liblinear', 'l2'), 'C': 6.517172790972296, 'tol': 0.07293508936023155, 'fit_intercept': True, 'class_weight': None, 'threshold': 0.685}. Best is trial 4 with value: 0.9692292098413503.\n",
      "[I 2025-07-01 12:44:57,177] Trial 56 finished with value: 0.9691751995872719 and parameters: {'solver_penalty': ('liblinear', 'l2'), 'C': 0.9432592113686783, 'tol': 0.015161418826203645, 'fit_intercept': True, 'class_weight': 'balanced', 'threshold': 0.6839999999999999}. Best is trial 4 with value: 0.9692292098413503.\n",
      "[I 2025-07-01 12:44:57,695] Trial 57 finished with value: 0.9692291806938845 and parameters: {'solver_penalty': ('liblinear', 'l2'), 'C': 5.513739103653117, 'tol': 0.07063573511227955, 'fit_intercept': True, 'class_weight': None, 'threshold': 0.6819999999999999}. Best is trial 4 with value: 0.9692292098413503.\n",
      "[I 2025-07-01 12:44:58,075] Trial 58 finished with value: 0.9692292098413503 and parameters: {'solver_penalty': ('liblinear', 'l2'), 'C': 0.23748409499961232, 'tol': 0.028354283118337056, 'fit_intercept': True, 'class_weight': 'balanced', 'threshold': 0.6619999999999999}. Best is trial 4 with value: 0.9692292098413503.\n",
      "[I 2025-07-01 12:44:59,742] Trial 59 finished with value: 0.9692291952676175 and parameters: {'solver_penalty': ('liblinear', 'l2'), 'C': 0.05697459601165411, 'tol': 0.005652868111117742, 'fit_intercept': True, 'class_weight': 'balanced', 'threshold': 0.6819999999999999}. Best is trial 4 with value: 0.9692292098413503.\n",
      "[I 2025-07-01 12:45:00,929] Trial 60 finished with value: 0.9692291806938848 and parameters: {'solver_penalty': ('newton-cg', 'l2'), 'C': 4.2210721093531065, 'tol': 0.03784795827119507, 'fit_intercept': True, 'class_weight': None, 'threshold': 0.537}. Best is trial 4 with value: 0.9692292098413503.\n",
      "[I 2025-07-01 12:45:01,412] Trial 62 finished with value: 0.9690672810952453 and parameters: {'solver_penalty': ('newton-cg', 'l2'), 'C': 2.683947422145908, 'tol': 0.05779234771981511, 'fit_intercept': True, 'class_weight': None, 'threshold': 0.398}. Best is trial 4 with value: 0.9692292098413503.\n",
      "[I 2025-07-01 12:45:01,443] Trial 61 finished with value: 0.9692292098413503 and parameters: {'solver_penalty': ('newton-cg', 'l2'), 'C': 3.5581644520643807, 'tol': 0.04244339863932494, 'fit_intercept': True, 'class_weight': None, 'threshold': 0.45799999999999996}. Best is trial 4 with value: 0.9692292098413503.\n",
      "[I 2025-07-01 12:45:02,622] Trial 63 finished with value: 0.9692832055216961 and parameters: {'solver_penalty': ('newton-cg', 'l2'), 'C': 2.7318399483473694, 'tol': 0.05903506764359427, 'fit_intercept': True, 'class_weight': None, 'threshold': 0.418}. Best is trial 63 with value: 0.9692832055216961.\n",
      "[I 2025-07-01 12:45:04,124] Trial 66 finished with value: 0.9691751995872719 and parameters: {'solver_penalty': ('liblinear', 'l2'), 'C': 2.7210320999753255, 'tol': 0.058723238133196354, 'fit_intercept': True, 'class_weight': 'balanced', 'threshold': 0.6859999999999999}. Best is trial 63 with value: 0.9692832055216961.\n",
      "[I 2025-07-01 12:45:05,118] Trial 64 finished with value: 0.9692291806938848 and parameters: {'solver_penalty': ('newton-cg', 'l2'), 'C': 4.076176309794802, 'tol': 0.05049634481571924, 'fit_intercept': True, 'class_weight': None, 'threshold': 0.544}. Best is trial 63 with value: 0.9692832055216961.\n",
      "[I 2025-07-01 12:45:05,309] Trial 65 finished with value: 0.9692291806938848 and parameters: {'solver_penalty': ('newton-cg', 'l2'), 'C': 3.8168990075863594, 'tol': 0.04739713763800581, 'fit_intercept': True, 'class_weight': None, 'threshold': 0.5589999999999999}. Best is trial 63 with value: 0.9692832055216961.\n",
      "[I 2025-07-01 12:45:05,658] Trial 67 finished with value: 0.9690672519477795 and parameters: {'solver_penalty': ('liblinear', 'l1'), 'C': 0.5055717686009042, 'tol': 0.04007266166390834, 'fit_intercept': True, 'class_weight': 'balanced', 'threshold': 0.585}. Best is trial 63 with value: 0.9692832055216961.\n",
      "[I 2025-07-01 12:45:06,873] Trial 68 finished with value: 0.9691212330543921 and parameters: {'solver_penalty': ('liblinear', 'l1'), 'C': 1.464184587602637, 'tol': 0.003088579449198886, 'fit_intercept': True, 'class_weight': 'balanced', 'threshold': 0.589}. Best is trial 63 with value: 0.9692832055216961.\n",
      "[I 2025-07-01 12:45:08,181] Trial 70 finished with value: 0.9692832055216961 and parameters: {'solver_penalty': ('lbfgs', None), 'C': 0.052563966160373746, 'tol': 0.04469981930585332, 'fit_intercept': True, 'class_weight': 'balanced', 'threshold': 0.632}. Best is trial 63 with value: 0.9692832055216961.\n",
      "[I 2025-07-01 12:45:09,533] Trial 69 finished with value: 0.9692831909479629 and parameters: {'solver_penalty': ('newton-cg', None), 'C': 0.07047717346151515, 'tol': 0.024338594395963226, 'fit_intercept': True, 'class_weight': 'balanced', 'threshold': 0.636}. Best is trial 63 with value: 0.9692832055216961.\n",
      "[I 2025-07-01 12:45:10,306] Trial 72 finished with value: 0.9692292098413503 and parameters: {'solver_penalty': ('lbfgs', None), 'C': 0.0625271065786791, 'tol': 0.011491019066256465, 'fit_intercept': True, 'class_weight': 'balanced', 'threshold': 0.644}. Best is trial 63 with value: 0.9692832055216961.\n",
      "[I 2025-07-01 12:45:10,681] Trial 71 finished with value: 0.9692831909479629 and parameters: {'solver_penalty': ('newton-cg', None), 'C': 0.735251391758168, 'tol': 0.006600931587337292, 'fit_intercept': True, 'class_weight': 'balanced', 'threshold': 0.63}. Best is trial 63 with value: 0.9692832055216961.\n",
      "[I 2025-07-01 12:45:11,035] Trial 73 finished with value: 0.9692832055216961 and parameters: {'solver_penalty': ('lbfgs', None), 'C': 1.3692775878056334, 'tol': 0.0534765696694771, 'fit_intercept': True, 'class_weight': 'balanced', 'threshold': 0.63}. Best is trial 63 with value: 0.9692832055216961.\n",
      "[I 2025-07-01 12:45:13,442] Trial 75 finished with value: 0.9689593334557527 and parameters: {'solver_penalty': ('newton-cg', None), 'C': 0.5343045344236964, 'tol': 0.014791681972530423, 'fit_intercept': False, 'class_weight': 'balanced', 'threshold': 0.6819999999999999}. Best is trial 63 with value: 0.9692832055216961.\n",
      "[I 2025-07-01 12:45:13,809] Trial 74 finished with value: 0.9691212622018579 and parameters: {'solver_penalty': ('newton-cg', None), 'C': 0.9986074494771545, 'tol': 0.025047964600079135, 'fit_intercept': True, 'class_weight': 'balanced', 'threshold': 0.527}. Best is trial 63 with value: 0.9692832055216961.\n",
      "[I 2025-07-01 12:45:14,176] Trial 76 finished with value: 0.9692292098413503 and parameters: {'solver_penalty': ('newton-cg', None), 'C': 0.14601083686276517, 'tol': 0.04035511912500406, 'fit_intercept': True, 'class_weight': 'balanced', 'threshold': 0.6679999999999999}. Best is trial 63 with value: 0.9692832055216961.\n",
      "[I 2025-07-01 12:45:15,058] Trial 77 finished with value: 0.9692832055216961 and parameters: {'solver_penalty': ('newton-cg', None), 'C': 2.212246044950386, 'tol': 0.03632364095773697, 'fit_intercept': True, 'class_weight': 'balanced', 'threshold': 0.581}. Best is trial 63 with value: 0.9692832055216961.\n",
      "[I 2025-07-01 12:45:16,924] Trial 78 finished with value: 0.9692292244150833 and parameters: {'solver_penalty': ('lbfgs', None), 'C': 1.397116575715767, 'tol': 0.053879759114385965, 'fit_intercept': True, 'class_weight': 'balanced', 'threshold': 0.625}. Best is trial 63 with value: 0.9692832055216961.\n",
      "[I 2025-07-01 12:45:17,130] Trial 79 finished with value: 0.9691212622018579 and parameters: {'solver_penalty': ('lbfgs', None), 'C': 3.902324929643267, 'tol': 0.05227511945813994, 'fit_intercept': True, 'class_weight': 'balanced', 'threshold': 0.619}. Best is trial 63 with value: 0.9692832055216961.\n",
      "[I 2025-07-01 12:45:17,503] Trial 80 finished with value: 0.9692292244150831 and parameters: {'solver_penalty': ('lbfgs', None), 'C': 1.9569460764670052, 'tol': 0.05059558554398179, 'fit_intercept': True, 'class_weight': 'balanced', 'threshold': 0.65}. Best is trial 63 with value: 0.9692832055216961.\n",
      "[I 2025-07-01 12:45:18,375] Trial 81 finished with value: 0.9689053523491399 and parameters: {'solver_penalty': ('lbfgs', None), 'C': 0.9500005439720279, 'tol': 0.05263063709171734, 'fit_intercept': True, 'class_weight': 'balanced', 'threshold': 0.5449999999999999}. Best is trial 63 with value: 0.9692832055216961.\n",
      "[I 2025-07-01 12:45:20,099] Trial 83 finished with value: 0.9663140843469364 and parameters: {'solver_penalty': ('lbfgs', None), 'C': 1.1782651063438856, 'tol': 0.052875540180878235, 'fit_intercept': True, 'class_weight': None, 'threshold': 0.643}. Best is trial 63 with value: 0.9692832055216961.\n",
      "[I 2025-07-01 12:45:20,444] Trial 82 finished with value: 0.9690672810952453 and parameters: {'solver_penalty': ('lbfgs', None), 'C': 0.730615191825618, 'tol': 0.06051593035296093, 'fit_intercept': True, 'class_weight': 'balanced', 'threshold': 0.609}. Best is trial 63 with value: 0.9692832055216961.\n",
      "[I 2025-07-01 12:45:21,485] Trial 84 finished with value: 0.9690672956689781 and parameters: {'solver_penalty': ('lbfgs', None), 'C': 0.467887490644153, 'tol': 0.0530974882864898, 'fit_intercept': True, 'class_weight': 'balanced', 'threshold': 0.556}. Best is trial 63 with value: 0.9692832055216961.\n",
      "[I 2025-07-01 12:45:21,675] Trial 85 finished with value: 0.9692291806938848 and parameters: {'solver_penalty': ('lbfgs', None), 'C': 0.6746645065496714, 'tol': 0.043459146908920776, 'fit_intercept': True, 'class_weight': None, 'threshold': 0.659}. Best is trial 63 with value: 0.9692832055216961.\n",
      "[I 2025-07-01 12:45:23,528] Trial 87 finished with value: 0.9689593334557527 and parameters: {'solver_penalty': ('lbfgs', None), 'C': 3.2670559600783857, 'tol': 0.05590884821342702, 'fit_intercept': False, 'class_weight': 'balanced', 'threshold': 0.681}. Best is trial 63 with value: 0.9692832055216961.\n",
      "[I 2025-07-01 12:45:23,710] Trial 86 finished with value: 0.9692832055216961 and parameters: {'solver_penalty': ('lbfgs', 'l2'), 'C': 1.1163407558277083, 'tol': 0.05541515247682806, 'fit_intercept': True, 'class_weight': 'balanced', 'threshold': 0.637}. Best is trial 63 with value: 0.9692832055216961.\n",
      "[I 2025-07-01 12:45:24,588] Trial 89 finished with value: 0.9690133145623653 and parameters: {'solver_penalty': ('lbfgs', None), 'C': 0.3533210973366179, 'tol': 0.06752949346042422, 'fit_intercept': False, 'class_weight': 'balanced', 'threshold': 0.651}. Best is trial 63 with value: 0.9692832055216961.\n",
      "[I 2025-07-01 12:45:25,292] Trial 88 finished with value: 0.9692291806938845 and parameters: {'solver_penalty': ('newton-cg', None), 'C': 0.8146932627714929, 'tol': 0.022132707156988958, 'fit_intercept': True, 'class_weight': None, 'threshold': 0.655}. Best is trial 63 with value: 0.9692832055216961.\n",
      "[I 2025-07-01 12:45:26,156] Trial 91 finished with value: 0.9692292244150831 and parameters: {'solver_penalty': ('lbfgs', 'l2'), 'C': 2.401942211210285, 'tol': 0.0741079558867185, 'fit_intercept': True, 'class_weight': 'balanced', 'threshold': 0.645}. Best is trial 63 with value: 0.9692832055216961.\n",
      "[I 2025-07-01 12:45:28,187] Trial 92 finished with value: 0.9692291806938845 and parameters: {'solver_penalty': ('newton-cg', None), 'C': 1.4152964683986364, 'tol': 0.005580741308292958, 'fit_intercept': True, 'class_weight': None, 'threshold': 0.639}. Best is trial 63 with value: 0.9692832055216961.\n",
      "[I 2025-07-01 12:45:28,530] Trial 90 finished with value: 0.9692292098413503 and parameters: {'solver_penalty': ('newton-cg', None), 'C': 4.295697874992472, 'tol': 0.008188570727947713, 'fit_intercept': True, 'class_weight': 'balanced', 'threshold': 0.671}. Best is trial 63 with value: 0.9692832055216961.\n",
      "[I 2025-07-01 12:45:28,894] Trial 94 finished with value: 0.9692292098413503 and parameters: {'solver_penalty': ('lbfgs', 'l2'), 'C': 3.539704086025835, 'tol': 0.07681999618780544, 'fit_intercept': True, 'class_weight': 'balanced', 'threshold': 0.694}. Best is trial 63 with value: 0.9692832055216961.\n",
      "[I 2025-07-01 12:45:29,939] Trial 93 finished with value: 0.9692292098413503 and parameters: {'solver_penalty': ('newton-cg', None), 'C': 3.756059419707627, 'tol': 0.014727923245718748, 'fit_intercept': True, 'class_weight': 'balanced', 'threshold': 0.628}. Best is trial 63 with value: 0.9692832055216961.\n",
      "[I 2025-07-01 12:45:31,330] Trial 95 finished with value: 0.9692292098413503 and parameters: {'solver_penalty': ('lbfgs', 'l2'), 'C': 3.426345621001657, 'tol': 0.0747045005171177, 'fit_intercept': True, 'class_weight': 'balanced', 'threshold': 0.6759999999999999}. Best is trial 63 with value: 0.9692832055216961.\n",
      "[I 2025-07-01 12:45:31,841] Trial 96 finished with value: 0.9690672810952453 and parameters: {'solver_penalty': ('lbfgs', 'l2'), 'C': 3.3400709213127575, 'tol': 0.06158825183194175, 'fit_intercept': True, 'class_weight': 'balanced', 'threshold': 0.598}. Best is trial 63 with value: 0.9692832055216961.\n",
      "[I 2025-07-01 12:45:32,382] Trial 97 finished with value: 0.9691212476281249 and parameters: {'solver_penalty': ('newton-cholesky', None), 'C': 1.3420363230661794, 'tol': 0.05404971467578048, 'fit_intercept': True, 'class_weight': 'balanced', 'threshold': 0.651}. Best is trial 63 with value: 0.9692832055216961.\n",
      "[I 2025-07-01 12:45:33,112] Trial 98 finished with value: 0.9690672810952453 and parameters: {'solver_penalty': ('lbfgs', 'l2'), 'C': 0.9186561244986433, 'tol': 0.07092754895007106, 'fit_intercept': True, 'class_weight': 'balanced', 'threshold': 0.5780000000000001}. Best is trial 63 with value: 0.9692832055216961.\n",
      "[I 2025-07-01 12:45:34,666] Trial 99 finished with value: 0.9691212622018579 and parameters: {'solver_penalty': ('lbfgs', 'l2'), 'C': 0.6230826237336163, 'tol': 0.048585257701536516, 'fit_intercept': True, 'class_weight': 'balanced', 'threshold': 0.622}. Best is trial 63 with value: 0.9692832055216961.\n",
      "[I 2025-07-01 12:45:35,764] Trial 101 finished with value: 0.9692831909479629 and parameters: {'solver_penalty': ('lbfgs', None), 'C': 0.9502413585681133, 'tol': 0.03586025389680563, 'fit_intercept': True, 'class_weight': 'balanced', 'threshold': 0.6819999999999999}. Best is trial 63 with value: 0.9692832055216961.\n",
      "[I 2025-07-01 12:45:36,113] Trial 100 finished with value: 0.9692292244150831 and parameters: {'solver_penalty': ('newton-cg', 'l2'), 'C': 1.3328520781084903, 'tol': 0.05875441153667933, 'fit_intercept': True, 'class_weight': 'balanced', 'threshold': 0.607}. Best is trial 63 with value: 0.9692832055216961.\n",
      "[I 2025-07-01 12:45:36,678] Trial 102 finished with value: 0.9692831909479629 and parameters: {'solver_penalty': ('newton-cholesky', 'l2'), 'C': 1.3698859613117258, 'tol': 0.053245775151285896, 'fit_intercept': True, 'class_weight': 'balanced', 'threshold': 0.602}. Best is trial 63 with value: 0.9692832055216961.\n",
      "[I 2025-07-01 12:45:38,741] Trial 103 finished with value: 0.9692292098413503 and parameters: {'solver_penalty': ('newton-cg', 'l2'), 'C': 0.09513663441033904, 'tol': 0.048975285312926116, 'fit_intercept': True, 'class_weight': 'balanced', 'threshold': 0.623}. Best is trial 63 with value: 0.9692832055216961.\n",
      "[I 2025-07-01 12:45:39,277] Trial 105 finished with value: 0.9686893987752235 and parameters: {'solver_penalty': ('lbfgs', 'l2'), 'C': 2.080808275095845, 'tol': 0.026519361419835484, 'fit_intercept': False, 'class_weight': 'balanced', 'threshold': 0.621}. Best is trial 63 with value: 0.9692832055216961.\n",
      "[I 2025-07-01 12:45:39,312] Trial 104 finished with value: 0.9692831909479629 and parameters: {'solver_penalty': ('lbfgs', None), 'C': 1.9420717757330335, 'tol': 0.041293051578690496, 'fit_intercept': True, 'class_weight': 'balanced', 'threshold': 0.681}. Best is trial 63 with value: 0.9692832055216961.\n",
      "[I 2025-07-01 12:45:40,292] Trial 106 finished with value: 0.9692292098413503 and parameters: {'solver_penalty': ('lbfgs', None), 'C': 0.5429607201681519, 'tol': 0.04606049028454184, 'fit_intercept': True, 'class_weight': 'balanced', 'threshold': 0.688}. Best is trial 63 with value: 0.9692832055216961.\n",
      "[I 2025-07-01 12:45:42,342] Trial 107 finished with value: 0.9692831763742301 and parameters: {'solver_penalty': ('newton-cholesky', 'l2'), 'C': 0.7538962923891189, 'tol': 0.061592390512465456, 'fit_intercept': True, 'class_weight': 'balanced', 'threshold': 0.6990000000000001}. Best is trial 63 with value: 0.9692832055216961.\n",
      "[I 2025-07-01 12:45:42,559] Trial 108 finished with value: 0.9690672665215123 and parameters: {'solver_penalty': ('newton-cholesky', 'l2'), 'C': 3.536671714114026, 'tol': 0.04993707334459103, 'fit_intercept': True, 'class_weight': 'balanced', 'threshold': 0.61}. Best is trial 63 with value: 0.9692832055216961.\n",
      "[I 2025-07-01 12:45:42,914] Trial 109 finished with value: 0.9692831763742303 and parameters: {'solver_penalty': ('newton-cholesky', 'l2'), 'C': 0.25102912834255364, 'tol': 0.04381194226480425, 'fit_intercept': True, 'class_weight': 'balanced', 'threshold': 0.637}. Best is trial 63 with value: 0.9692832055216961.\n",
      "[I 2025-07-01 12:45:43,948] Trial 110 finished with value: 0.9690672810952453 and parameters: {'solver_penalty': ('newton-cg', None), 'C': 3.7672611541169414, 'tol': 0.055628315716891134, 'fit_intercept': True, 'class_weight': 'balanced', 'threshold': 0.556}. Best is trial 63 with value: 0.9692832055216961.\n",
      "[I 2025-07-01 12:45:45,170] Trial 111 finished with value: 0.9693371720545759 and parameters: {'solver_penalty': ('newton-cholesky', 'l2'), 'C': 2.297515502600495, 'tol': 0.04427252549812197, 'fit_intercept': True, 'class_weight': 'balanced', 'threshold': 0.655}. Best is trial 111 with value: 0.9693371720545759.\n",
      "[I 2025-07-01 12:45:46,047] Trial 113 finished with value: 0.9692832055216961 and parameters: {'solver_penalty': ('newton-cholesky', 'l2'), 'C': 0.13057411046813575, 'tol': 0.037607578705946214, 'fit_intercept': True, 'class_weight': 'balanced', 'threshold': 0.56}. Best is trial 111 with value: 0.9693371720545759.\n",
      "[I 2025-07-01 12:45:46,743] Trial 114 finished with value: 0.9693911385874555 and parameters: {'solver_penalty': ('newton-cholesky', 'l2'), 'C': 1.245034233057958, 'tol': 0.06524390886913577, 'fit_intercept': True, 'class_weight': 'balanced', 'threshold': 0.692}. Best is trial 114 with value: 0.9693911385874555.\n",
      "[I 2025-07-01 12:45:47,124] Trial 112 finished with value: 0.9692831909479629 and parameters: {'solver_penalty': ('newton-cg', None), 'C': 0.5264674171218278, 'tol': 0.00711574448422184, 'fit_intercept': True, 'class_weight': 'balanced', 'threshold': 0.635}. Best is trial 114 with value: 0.9693911385874555.\n",
      "[I 2025-07-01 12:45:49,304] Trial 117 finished with value: 0.9692291806938848 and parameters: {'solver_penalty': ('newton-cholesky', 'l2'), 'C': 1.044808059300732, 'tol': 0.06996137626183424, 'fit_intercept': True, 'class_weight': None, 'threshold': 0.5880000000000001}. Best is trial 114 with value: 0.9693911385874555.\n",
      "[I 2025-07-01 12:45:49,656] Trial 116 finished with value: 0.9691212913493235 and parameters: {'solver_penalty': ('newton-cholesky', 'l2'), 'C': 2.9352495214749053, 'tol': 0.0190105370078867, 'fit_intercept': True, 'class_weight': 'balanced', 'threshold': 0.562}. Best is trial 114 with value: 0.9693911385874555.\n",
      "[I 2025-07-01 12:45:50,374] Trial 118 finished with value: 0.9450422638253718 and parameters: {'solver_penalty': ('newton-cholesky', 'l2'), 'C': 0.19258065604463603, 'tol': 0.02506077846444407, 'fit_intercept': False, 'class_weight': 'balanced', 'threshold': 0.5449999999999999}. Best is trial 114 with value: 0.9693911385874555.\n",
      "[I 2025-07-01 12:45:50,751] Trial 115 finished with value: 0.9690132999886323 and parameters: {'solver_penalty': ('newton-cg', None), 'C': 0.07027865590537807, 'tol': 0.0006021682993112122, 'fit_intercept': True, 'class_weight': 'balanced', 'threshold': 0.644}. Best is trial 114 with value: 0.9693911385874555.\n",
      "[I 2025-07-01 12:45:52,263] Trial 120 finished with value: 0.9692291952676175 and parameters: {'solver_penalty': ('liblinear', 'l1'), 'C': 3.0000746175058675, 'tol': 0.07786156237196686, 'fit_intercept': True, 'class_weight': None, 'threshold': 0.377}. Best is trial 114 with value: 0.9693911385874555.\n",
      "[I 2025-07-01 12:45:53,430] Trial 119 finished with value: 0.9692832055216961 and parameters: {'solver_penalty': ('newton-cholesky', 'l2'), 'C': 0.19527345822361145, 'tol': 0.01934079375811933, 'fit_intercept': True, 'class_weight': 'balanced', 'threshold': 0.573}. Best is trial 114 with value: 0.9693911385874555.\n",
      "[I 2025-07-01 12:45:53,439] Trial 122 finished with value: 0.9692291806938848 and parameters: {'solver_penalty': ('lbfgs', 'l2'), 'C': 3.036846325218356, 'tol': 0.08345949250836592, 'fit_intercept': True, 'class_weight': None, 'threshold': 0.369}. Best is trial 114 with value: 0.9693911385874555.\n",
      "[I 2025-07-01 12:45:53,789] Trial 121 finished with value: 0.9692292244150831 and parameters: {'solver_penalty': ('newton-cholesky', 'l2'), 'C': 1.756266884250322, 'tol': 0.06470888033571863, 'fit_intercept': True, 'class_weight': None, 'threshold': 0.412}. Best is trial 114 with value: 0.9693911385874555.\n",
      "[I 2025-07-01 12:45:56,376] Trial 123 finished with value: 0.9691212622018579 and parameters: {'solver_penalty': ('newton-cholesky', 'l2'), 'C': 0.13923852234575942, 'tol': 0.03733804559721393, 'fit_intercept': True, 'class_weight': 'balanced', 'threshold': 0.473}. Best is trial 114 with value: 0.9693911385874555.\n",
      "[I 2025-07-01 12:45:56,575] Trial 124 finished with value: 0.9681493982505692 and parameters: {'solver_penalty': ('newton-cholesky', 'l2'), 'C': 0.8108277538204726, 'tol': 0.06309782428715083, 'fit_intercept': False, 'class_weight': 'balanced', 'threshold': 0.6659999999999999}. Best is trial 114 with value: 0.9693911385874555.\n",
      "[I 2025-07-01 12:45:56,927] Trial 126 finished with value: 0.9691752433084705 and parameters: {'solver_penalty': ('newton-cholesky', 'l2'), 'C': 0.895608255664033, 'tol': 0.04216730134950839, 'fit_intercept': True, 'class_weight': 'balanced', 'threshold': 0.529}. Best is trial 114 with value: 0.9693911385874555.\n",
      "[I 2025-07-01 12:45:57,330] Trial 125 finished with value: 0.9691212622018579 and parameters: {'solver_penalty': ('newton-cholesky', 'l2'), 'C': 1.142467026735254, 'tol': 0.0019835755407329146, 'fit_intercept': True, 'class_weight': 'balanced', 'threshold': 0.583}. Best is trial 114 with value: 0.9693911385874555.\n",
      "[I 2025-07-01 12:45:59,659] Trial 129 finished with value: 0.9692292098413503 and parameters: {'solver_penalty': ('newton-cg', 'l2'), 'C': 0.13471350134823057, 'tol': 0.0703527169429752, 'fit_intercept': True, 'class_weight': None, 'threshold': 0.44699999999999995}. Best is trial 114 with value: 0.9693911385874555.\n",
      "[I 2025-07-01 12:46:00,040] Trial 127 finished with value: 0.9692832055216961 and parameters: {'solver_penalty': ('newton-cholesky', 'l2'), 'C': 0.5191090947053705, 'tol': 0.02756698842582927, 'fit_intercept': True, 'class_weight': 'balanced', 'threshold': 0.607}. Best is trial 114 with value: 0.9693911385874555.\n",
      "[I 2025-07-01 12:46:00,399] Trial 130 finished with value: 0.9692292244150831 and parameters: {'solver_penalty': ('newton-cg', 'l2'), 'C': 5.609652074660065, 'tol': 0.08017181988621469, 'fit_intercept': True, 'class_weight': None, 'threshold': 0.431}. Best is trial 114 with value: 0.9693911385874555.\n",
      "[I 2025-07-01 12:46:00,964] Trial 128 finished with value: 0.9691751995872719 and parameters: {'solver_penalty': ('newton-cg', 'l2'), 'C': 2.2427640180747876, 'tol': 0.016743790071481864, 'fit_intercept': True, 'class_weight': 'balanced', 'threshold': 0.679}. Best is trial 114 with value: 0.9693911385874555.\n",
      "[I 2025-07-01 12:46:03,123] Trial 132 finished with value: 0.9692291952676175 and parameters: {'solver_penalty': ('newton-cholesky', 'l2'), 'C': 1.7196748322210509, 'tol': 0.02879028240724918, 'fit_intercept': True, 'class_weight': None, 'threshold': 0.55}. Best is trial 114 with value: 0.9693911385874555.\n",
      "[I 2025-07-01 12:46:03,478] Trial 131 finished with value: 0.9689593334557527 and parameters: {'solver_penalty': ('newton-cholesky', None), 'C': 2.440916956085698, 'tol': 0.028238751439446673, 'fit_intercept': True, 'class_weight': 'balanced', 'threshold': 0.46099999999999997}. Best is trial 114 with value: 0.9693911385874555.\n",
      "[I 2025-07-01 12:46:03,664] Trial 133 finished with value: 0.9691212476281249 and parameters: {'solver_penalty': ('newton-cholesky', 'l2'), 'C': 5.475351110263217, 'tol': 0.04133176767316904, 'fit_intercept': True, 'class_weight': None, 'threshold': 0.355}. Best is trial 114 with value: 0.9693911385874555.\n",
      "[I 2025-07-01 12:46:04,379] Trial 134 finished with value: 0.9692831763742301 and parameters: {'solver_penalty': ('newton-cholesky', 'l2'), 'C': 1.3449310644395567, 'tol': 0.035107222654583714, 'fit_intercept': True, 'class_weight': None, 'threshold': 0.523}. Best is trial 114 with value: 0.9693911385874555.\n",
      "[I 2025-07-01 12:46:06,212] Trial 137 finished with value: 0.2604729030584436 and parameters: {'solver_penalty': ('newton-cg', 'l2'), 'C': 3.417466495841001, 'tol': 0.05579699159052099, 'fit_intercept': False, 'class_weight': None, 'threshold': 0.426}. Best is trial 114 with value: 0.9693911385874555.\n",
      "[I 2025-07-01 12:46:06,596] Trial 135 finished with value: 0.9693911385874555 and parameters: {'solver_penalty': ('newton-cholesky', 'l2'), 'C': 2.227384078619065, 'tol': 0.0835128047649136, 'fit_intercept': True, 'class_weight': 'balanced', 'threshold': 0.7}. Best is trial 114 with value: 0.9693911385874555.\n",
      "[I 2025-07-01 12:46:07,791] Trial 136 finished with value: 0.9692832055216961 and parameters: {'solver_penalty': ('newton-cg', 'l2'), 'C': 0.19142663580061564, 'tol': 0.015147193702420837, 'fit_intercept': True, 'class_weight': 'balanced', 'threshold': 0.5469999999999999}. Best is trial 114 with value: 0.9693911385874555.\n",
      "[I 2025-07-01 12:46:08,136] Trial 138 finished with value: 0.9691752287347377 and parameters: {'solver_penalty': ('newton-cholesky', 'l2'), 'C': 2.8802568978800904, 'tol': 0.026348876340834923, 'fit_intercept': True, 'class_weight': 'balanced', 'threshold': 0.6679999999999999}. Best is trial 114 with value: 0.9693911385874555.\n",
      "[I 2025-07-01 12:46:09,518] Trial 139 finished with value: 0.9692831909479629 and parameters: {'solver_penalty': ('newton-cholesky', 'l2'), 'C': 1.5089588577522641, 'tol': 0.014464229622669265, 'fit_intercept': True, 'class_weight': 'balanced', 'threshold': 0.681}. Best is trial 114 with value: 0.9693911385874555.\n",
      "[I 2025-07-01 12:46:09,859] Trial 140 finished with value: 0.9693371720545759 and parameters: {'solver_penalty': ('newton-cholesky', 'l2'), 'C': 2.634915302970396, 'tol': 0.09690512936281521, 'fit_intercept': True, 'class_weight': 'balanced', 'threshold': 0.667}. Best is trial 114 with value: 0.9693911385874555.\n",
      "[I 2025-07-01 12:46:11,265] Trial 142 finished with value: 0.9692831909479629 and parameters: {'solver_penalty': ('newton-cholesky', 'l2'), 'C': 3.4294824642285917, 'tol': 0.07857191083058557, 'fit_intercept': True, 'class_weight': 'balanced', 'threshold': 0.648}. Best is trial 114 with value: 0.9693911385874555.\n",
      "[I 2025-07-01 12:46:12,165] Trial 141 finished with value: 0.9690672810952453 and parameters: {'solver_penalty': ('newton-cg', 'l2'), 'C': 0.5694827480501932, 'tol': 0.03217945538423379, 'fit_intercept': True, 'class_weight': 'balanced', 'threshold': 0.5}. Best is trial 114 with value: 0.9693911385874555.\n",
      "[I 2025-07-01 12:46:12,409] Trial 144 finished with value: 0.9692292098413503 and parameters: {'solver_penalty': ('liblinear', 'l2'), 'C': 1.6457880096751691, 'tol': 0.09206362069772647, 'fit_intercept': True, 'class_weight': 'balanced', 'threshold': 0.605}. Best is trial 114 with value: 0.9693911385874555.\n",
      "[I 2025-07-01 12:46:14,494] Trial 145 finished with value: 0.9690672665215123 and parameters: {'solver_penalty': ('newton-cholesky', None), 'C': 0.9057698438093362, 'tol': 0.09954063833928474, 'fit_intercept': True, 'class_weight': 'balanced', 'threshold': 0.628}. Best is trial 114 with value: 0.9693911385874555.\n",
      "[I 2025-07-01 12:46:14,676] Trial 143 finished with value: 0.9691212622018579 and parameters: {'solver_penalty': ('newton-cg', 'l2'), 'C': 0.8158412817196008, 'tol': 0.006709686466797036, 'fit_intercept': True, 'class_weight': 'balanced', 'threshold': 0.505}. Best is trial 114 with value: 0.9693911385874555.\n",
      "[I 2025-07-01 12:46:14,902] Trial 146 finished with value: 0.9692292098413503 and parameters: {'solver_penalty': ('lbfgs', None), 'C': 0.25960002798430093, 'tol': 0.09577832401256728, 'fit_intercept': True, 'class_weight': 'balanced', 'threshold': 0.669}. Best is trial 114 with value: 0.9693911385874555.\n",
      "[I 2025-07-01 12:46:16,118] Trial 147 finished with value: 0.9650184357721017 and parameters: {'solver_penalty': ('newton-cg', 'l2'), 'C': 1.460015191225089, 'tol': 0.014852174217799996, 'fit_intercept': False, 'class_weight': 'balanced', 'threshold': 0.573}. Best is trial 114 with value: 0.9693911385874555.\n",
      "[I 2025-07-01 12:46:17,482] Trial 149 finished with value: 0.9693371574808429 and parameters: {'solver_penalty': ('newton-cholesky', 'l2'), 'C': 1.3026799615214408, 'tol': 0.08154311978747512, 'fit_intercept': True, 'class_weight': 'balanced', 'threshold': 0.6890000000000001}. Best is trial 114 with value: 0.9693911385874555.\n",
      "[I 2025-07-01 12:46:18,217] Trial 150 finished with value: 0.9692831909479629 and parameters: {'solver_penalty': ('newton-cg', 'l2'), 'C': 4.196945531793186, 'tol': 0.09633399702348747, 'fit_intercept': True, 'class_weight': 'balanced', 'threshold': 0.647}. Best is trial 114 with value: 0.9693911385874555.\n",
      "[I 2025-07-01 12:46:19,085] Trial 151 finished with value: 0.9692831763742303 and parameters: {'solver_penalty': ('newton-cholesky', 'l2'), 'C': 1.635366596572865, 'tol': 0.09157960955041018, 'fit_intercept': True, 'class_weight': 'balanced', 'threshold': 0.6759999999999999}. Best is trial 114 with value: 0.9693911385874555.\n",
      "[I 2025-07-01 12:46:19,633] Trial 148 finished with value: 0.9692292535625489 and parameters: {'solver_penalty': ('newton-cg', 'l2'), 'C': 2.739566292974866, 'tol': 0.0007999428839091018, 'fit_intercept': True, 'class_weight': 'balanced', 'threshold': 0.544}. Best is trial 114 with value: 0.9693911385874555.\n",
      "[I 2025-07-01 12:46:20,738] Trial 152 finished with value: 0.9694451342678011 and parameters: {'solver_penalty': ('newton-cholesky', 'l2'), 'C': 2.5817393228617314, 'tol': 0.09077622427200717, 'fit_intercept': True, 'class_weight': 'balanced', 'threshold': 0.6859999999999999}. Best is trial 152 with value: 0.9694451342678011.\n",
      "[I 2025-07-01 12:46:22,173] Trial 153 finished with value: 0.9693911385874555 and parameters: {'solver_penalty': ('newton-cholesky', 'l2'), 'C': 2.760429393999737, 'tol': 0.0860837365639394, 'fit_intercept': True, 'class_weight': 'balanced', 'threshold': 0.7}. Best is trial 152 with value: 0.9694451342678011.\n",
      "[I 2025-07-01 12:46:22,565] Trial 155 finished with value: 0.9692291952676175 and parameters: {'solver_penalty': ('liblinear', 'l1'), 'C': 0.24246364931251851, 'tol': 0.08195154278803529, 'fit_intercept': True, 'class_weight': 'balanced', 'threshold': 0.694}. Best is trial 152 with value: 0.9694451342678011.\n",
      "[I 2025-07-01 12:46:23,000] Trial 154 finished with value: 0.9692292098413503 and parameters: {'solver_penalty': ('lbfgs', 'l2'), 'C': 1.4472638518021321, 'tol': 0.008565944192915287, 'fit_intercept': True, 'class_weight': 'balanced', 'threshold': 0.629}. Best is trial 152 with value: 0.9694451342678011.\n",
      "[I 2025-07-01 12:46:24,702] Trial 156 finished with value: 0.9694451342678011 and parameters: {'solver_penalty': ('newton-cholesky', 'l2'), 'C': 2.9476068600480096, 'tol': 0.06902933495859745, 'fit_intercept': True, 'class_weight': 'balanced', 'threshold': 0.696}. Best is trial 152 with value: 0.9694451342678011.\n",
      "[I 2025-07-01 12:46:25,726] Trial 159 finished with value: 0.9692291806938845 and parameters: {'solver_penalty': ('lbfgs', 'l2'), 'C': 2.914130467886915, 'tol': 0.04446900223861748, 'fit_intercept': True, 'class_weight': None, 'threshold': 0.6759999999999999}. Best is trial 152 with value: 0.9694451342678011.\n",
      "[I 2025-07-01 12:46:26,227] Trial 158 finished with value: 0.9691752578822035 and parameters: {'solver_penalty': ('newton-cholesky', 'l2'), 'C': 3.464638619828634, 'tol': 0.09166458560239636, 'fit_intercept': True, 'class_weight': 'balanced', 'threshold': 0.569}. Best is trial 152 with value: 0.9694451342678011.\n",
      "[I 2025-07-01 12:46:26,257] Trial 157 finished with value: 0.9693911385874555 and parameters: {'solver_penalty': ('newton-cholesky', 'l2'), 'C': 2.0432646990470884, 'tol': 0.0793308965891044, 'fit_intercept': True, 'class_weight': 'balanced', 'threshold': 0.69}. Best is trial 152 with value: 0.9694451342678011.\n",
      "[I 2025-07-01 12:46:28,323] Trial 160 finished with value: 0.9564337055464712 and parameters: {'solver_penalty': ('newton-cholesky', 'l2'), 'C': 1.4689264989924828, 'tol': 0.09959931444021654, 'fit_intercept': False, 'class_weight': 'balanced', 'threshold': 0.596}. Best is trial 152 with value: 0.9694451342678011.\n",
      "[I 2025-07-01 12:46:29,193] Trial 161 finished with value: 0.9693911385874555 and parameters: {'solver_penalty': ('newton-cholesky', 'l2'), 'C': 1.7426113838865729, 'tol': 0.09038474572552875, 'fit_intercept': True, 'class_weight': 'balanced', 'threshold': 0.7}. Best is trial 152 with value: 0.9694451342678011.\n",
      "[I 2025-07-01 12:46:29,393] Trial 162 finished with value: 0.9693371720545759 and parameters: {'solver_penalty': ('newton-cholesky', 'l2'), 'C': 3.0285898289397224, 'tol': 0.0862617310309087, 'fit_intercept': True, 'class_weight': 'balanced', 'threshold': 0.6539999999999999}. Best is trial 152 with value: 0.9694451342678011.\n",
      "[I 2025-07-01 12:46:30,435] Trial 163 finished with value: 0.9692292098413503 and parameters: {'solver_penalty': ('newton-cg', None), 'C': 3.3077338058277137, 'tol': 0.08588202247187791, 'fit_intercept': True, 'class_weight': 'balanced', 'threshold': 0.6779999999999999}. Best is trial 152 with value: 0.9694451342678011.\n",
      "[I 2025-07-01 12:46:31,477] Trial 164 finished with value: 0.9626427715742254 and parameters: {'solver_penalty': ('newton-cholesky', 'l2'), 'C': 5.278694242145442, 'tol': 0.06693529462678063, 'fit_intercept': False, 'class_weight': 'balanced', 'threshold': 0.651}. Best is trial 152 with value: 0.9694451342678011.\n",
      "[I 2025-07-01 12:46:32,354] Trial 166 finished with value: 0.9691212039069264 and parameters: {'solver_penalty': ('newton-cholesky', 'l2'), 'C': 3.2199559183303785, 'tol': 0.09626174943909269, 'fit_intercept': True, 'class_weight': None, 'threshold': 0.6930000000000001}. Best is trial 152 with value: 0.9694451342678011.\n",
      "[I 2025-07-01 12:46:33,375] Trial 165 finished with value: 0.9692831909479629 and parameters: {'solver_penalty': ('newton-cg', None), 'C': 4.546058537717883, 'tol': 0.08765278867599273, 'fit_intercept': True, 'class_weight': 'balanced', 'threshold': 0.6559999999999999}. Best is trial 152 with value: 0.9694451342678011.\n",
      "[I 2025-07-01 12:46:33,404] Trial 167 finished with value: 0.9692292098413503 and parameters: {'solver_penalty': ('lbfgs', None), 'C': 4.476082094991534, 'tol': 0.08495257052779812, 'fit_intercept': True, 'class_weight': 'balanced', 'threshold': 0.688}. Best is trial 152 with value: 0.9694451342678011.\n",
      "[I 2025-07-01 12:46:34,945] Trial 168 finished with value: 0.9694451342678011 and parameters: {'solver_penalty': ('newton-cholesky', 'l2'), 'C': 2.7561294746463507, 'tol': 0.063777252620165, 'fit_intercept': True, 'class_weight': 'balanced', 'threshold': 0.6990000000000001}. Best is trial 152 with value: 0.9694451342678011.\n",
      "[I 2025-07-01 12:46:35,974] Trial 169 finished with value: 0.9692291806938848 and parameters: {'solver_penalty': ('newton-cholesky', 'l2'), 'C': 0.3919775378290242, 'tol': 0.08026538996570552, 'fit_intercept': True, 'class_weight': 'balanced', 'threshold': 0.6819999999999999}. Best is trial 152 with value: 0.9694451342678011.\n",
      "[I 2025-07-01 12:46:36,516] Trial 170 finished with value: 0.9694451342678011 and parameters: {'solver_penalty': ('newton-cholesky', 'l2'), 'C': 3.8777937120999666, 'tol': 0.09541383322543046, 'fit_intercept': True, 'class_weight': 'balanced', 'threshold': 0.7}. Best is trial 152 with value: 0.9694451342678011.\n",
      "[I 2025-07-01 12:46:36,881] Trial 171 finished with value: 0.9694451342678011 and parameters: {'solver_penalty': ('newton-cholesky', 'l2'), 'C': 3.722257093515747, 'tol': 0.07918682703478414, 'fit_intercept': True, 'class_weight': 'balanced', 'threshold': 0.6759999999999999}. Best is trial 152 with value: 0.9694451342678011.\n",
      "[I 2025-07-01 12:46:38,416] Trial 172 finished with value: 0.9693911385874555 and parameters: {'solver_penalty': ('newton-cholesky', 'l2'), 'C': 5.753559836552155, 'tol': 0.0939768046932167, 'fit_intercept': True, 'class_weight': 'balanced', 'threshold': 0.694}. Best is trial 152 with value: 0.9694451342678011.\n",
      "[I 2025-07-01 12:46:39,276] Trial 173 finished with value: 0.9694451342678011 and parameters: {'solver_penalty': ('newton-cholesky', 'l2'), 'C': 4.803949891327975, 'tol': 0.07027360601881977, 'fit_intercept': True, 'class_weight': 'balanced', 'threshold': 0.688}. Best is trial 152 with value: 0.9694451342678011.\n",
      "[I 2025-07-01 12:46:40,002] Trial 174 finished with value: 0.9693371574808427 and parameters: {'solver_penalty': ('newton-cholesky', 'l2'), 'C': 7.053771611771467, 'tol': 0.09204939482358612, 'fit_intercept': True, 'class_weight': 'balanced', 'threshold': 0.69}. Best is trial 152 with value: 0.9694451342678011.\n",
      "[I 2025-07-01 12:46:40,512] Trial 175 finished with value: 0.9694451342678011 and parameters: {'solver_penalty': ('newton-cholesky', 'l2'), 'C': 4.05970357591402, 'tol': 0.09173744370343286, 'fit_intercept': True, 'class_weight': 'balanced', 'threshold': 0.696}. Best is trial 152 with value: 0.9694451342678011.\n",
      "[I 2025-07-01 12:46:41,919] Trial 176 finished with value: 0.9693911385874555 and parameters: {'solver_penalty': ('newton-cholesky', 'l2'), 'C': 5.906535021033845, 'tol': 0.09370607424476342, 'fit_intercept': True, 'class_weight': 'balanced', 'threshold': 0.698}. Best is trial 152 with value: 0.9694451342678011.\n",
      "[I 2025-07-01 12:46:42,775] Trial 177 finished with value: 0.9693911531611883 and parameters: {'solver_penalty': ('newton-cholesky', 'l2'), 'C': 5.569661928017066, 'tol': 0.09563123580127293, 'fit_intercept': True, 'class_weight': 'balanced', 'threshold': 0.6799999999999999}. Best is trial 152 with value: 0.9694451342678011.\n",
      "[I 2025-07-01 12:46:43,469] Trial 178 finished with value: 0.9691212476281249 and parameters: {'solver_penalty': ('newton-cholesky', 'l2'), 'C': 8.230301824810425, 'tol': 0.0909855234693963, 'fit_intercept': True, 'class_weight': 'balanced', 'threshold': 0.636}. Best is trial 152 with value: 0.9694451342678011.\n",
      "[I 2025-07-01 12:46:43,854] Trial 179 finished with value: 0.9692831909479629 and parameters: {'solver_penalty': ('newton-cholesky', 'l2'), 'C': 7.407851711258534, 'tol': 0.07877645643115842, 'fit_intercept': True, 'class_weight': 'balanced', 'threshold': 0.6659999999999999}. Best is trial 152 with value: 0.9694451342678011.\n",
      "[I 2025-07-01 12:46:45,734] Trial 180 finished with value: 0.9693371720545756 and parameters: {'solver_penalty': ('newton-cholesky', 'l2'), 'C': 5.900144041290512, 'tol': 0.055590074035708315, 'fit_intercept': True, 'class_weight': 'balanced', 'threshold': 0.671}. Best is trial 152 with value: 0.9694451342678011.\n",
      "[I 2025-07-01 12:46:46,259] Trial 182 finished with value: 0.9690132708411667 and parameters: {'solver_penalty': ('liblinear', 'l1'), 'C': 5.254288134606306, 'tol': 0.08205642274524105, 'fit_intercept': True, 'class_weight': 'balanced', 'threshold': 0.558}. Best is trial 152 with value: 0.9694451342678011.\n",
      "[I 2025-07-01 12:46:46,639] Trial 181 finished with value: 0.9692292098413503 and parameters: {'solver_penalty': ('newton-cholesky', 'l2'), 'C': 4.918009250750728, 'tol': 0.09615298937668579, 'fit_intercept': True, 'class_weight': 'balanced', 'threshold': 0.648}. Best is trial 152 with value: 0.9694451342678011.\n",
      "[I 2025-07-01 12:46:47,513] Trial 183 finished with value: 0.9694451342678011 and parameters: {'solver_penalty': ('newton-cholesky', 'l2'), 'C': 4.760114094596492, 'tol': 0.08942647816027516, 'fit_intercept': True, 'class_weight': 'balanced', 'threshold': 0.6910000000000001}. Best is trial 152 with value: 0.9694451342678011.\n",
      "[I 2025-07-01 12:46:49,365] Trial 184 finished with value: 0.9693911385874555 and parameters: {'solver_penalty': ('newton-cholesky', 'l2'), 'C': 4.446905492907219, 'tol': 0.09399468895501485, 'fit_intercept': True, 'class_weight': 'balanced', 'threshold': 0.698}. Best is trial 152 with value: 0.9694451342678011.\n",
      "[I 2025-07-01 12:46:50,064] Trial 185 finished with value: 0.9694451342678011 and parameters: {'solver_penalty': ('newton-cholesky', 'l2'), 'C': 4.136363456262962, 'tol': 0.07790934756682077, 'fit_intercept': True, 'class_weight': 'balanced', 'threshold': 0.683}. Best is trial 152 with value: 0.9694451342678011.\n",
      "[I 2025-07-01 12:46:50,579] Trial 186 finished with value: 0.9694451342678011 and parameters: {'solver_penalty': ('newton-cholesky', 'l2'), 'C': 4.717713351671872, 'tol': 0.06859540659152438, 'fit_intercept': True, 'class_weight': 'balanced', 'threshold': 0.69}. Best is trial 152 with value: 0.9694451342678011.\n",
      "[I 2025-07-01 12:46:50,586] Trial 187 finished with value: 0.9692291806938848 and parameters: {'solver_penalty': ('liblinear', 'l2'), 'C': 4.28266765979365, 'tol': 0.09630039642657941, 'fit_intercept': True, 'class_weight': 'balanced', 'threshold': 0.6859999999999999}. Best is trial 152 with value: 0.9694451342678011.\n",
      "[I 2025-07-01 12:46:52,295] Trial 188 finished with value: 0.9692831763742303 and parameters: {'solver_penalty': ('liblinear', 'l1'), 'C': 4.765228117074955, 'tol': 0.05491218174282407, 'fit_intercept': True, 'class_weight': 'balanced', 'threshold': 0.698}. Best is trial 152 with value: 0.9694451342678011.\n",
      "[I 2025-07-01 12:46:53,654] Trial 189 finished with value: 0.9693911385874555 and parameters: {'solver_penalty': ('newton-cholesky', 'l2'), 'C': 4.560830890364826, 'tol': 0.07176534736762562, 'fit_intercept': True, 'class_weight': 'balanced', 'threshold': 0.6970000000000001}. Best is trial 152 with value: 0.9694451342678011.\n",
      "[I 2025-07-01 12:46:54,169] Trial 190 finished with value: 0.9693371720545756 and parameters: {'solver_penalty': ('newton-cholesky', 'l2'), 'C': 5.373550178008397, 'tol': 0.07831388476359652, 'fit_intercept': True, 'class_weight': 'balanced', 'threshold': 0.6679999999999999}. Best is trial 152 with value: 0.9694451342678011.\n",
      "[I 2025-07-01 12:46:54,170] Trial 191 finished with value: 0.9693911531611883 and parameters: {'solver_penalty': ('newton-cholesky', 'l2'), 'C': 5.218442862387654, 'tol': 0.07499070628058614, 'fit_intercept': True, 'class_weight': 'balanced', 'threshold': 0.6819999999999999}. Best is trial 152 with value: 0.9694451342678011.\n",
      "[I 2025-07-01 12:46:55,562] Trial 192 finished with value: 0.9694451342678011 and parameters: {'solver_penalty': ('newton-cholesky', 'l2'), 'C': 3.6870924993938607, 'tol': 0.07364561579536003, 'fit_intercept': True, 'class_weight': 'balanced', 'threshold': 0.6950000000000001}. Best is trial 152 with value: 0.9694451342678011.\n",
      "[I 2025-07-01 12:46:56,913] Trial 193 finished with value: 0.9694451342678011 and parameters: {'solver_penalty': ('newton-cholesky', 'l2'), 'C': 4.093255967765519, 'tol': 0.09800697631464816, 'fit_intercept': True, 'class_weight': 'balanced', 'threshold': 0.688}. Best is trial 152 with value: 0.9694451342678011.\n",
      "[I 2025-07-01 12:46:57,090] Trial 195 finished with value: 0.9692831763742303 and parameters: {'solver_penalty': ('newton-cholesky', 'l2'), 'C': 5.042819598725445, 'tol': 0.07897374079129653, 'fit_intercept': True, 'class_weight': None, 'threshold': 0.571}. Best is trial 152 with value: 0.9694451342678011.\n",
      "[I 2025-07-01 12:46:58,133] Trial 194 finished with value: 0.9691751995872719 and parameters: {'solver_penalty': ('newton-cg', 'l2'), 'C': 6.730114453979666, 'tol': 0.08070806487704452, 'fit_intercept': True, 'class_weight': 'balanced', 'threshold': 0.698}. Best is trial 152 with value: 0.9694451342678011.\n",
      "[I 2025-07-01 12:46:59,462] Trial 196 finished with value: 0.9692292098413503 and parameters: {'solver_penalty': ('newton-cholesky', None), 'C': 5.456282502400625, 'tol': 0.06438166031649564, 'fit_intercept': True, 'class_weight': 'balanced', 'threshold': 0.6699999999999999}. Best is trial 152 with value: 0.9694451342678011.\n",
      "[I 2025-07-01 12:46:59,845] Trial 197 finished with value: 0.9693371574808427 and parameters: {'solver_penalty': ('newton-cholesky', 'l2'), 'C': 4.892396256768435, 'tol': 0.061206124881290534, 'fit_intercept': True, 'class_weight': None, 'threshold': 0.614}. Best is trial 152 with value: 0.9694451342678011.\n",
      "[I 2025-07-01 12:47:00,569] Trial 198 finished with value: 0.9692831909479629 and parameters: {'solver_penalty': ('newton-cholesky', 'l2'), 'C': 3.5567598292486142, 'tol': 0.06371028598686257, 'fit_intercept': True, 'class_weight': 'balanced', 'threshold': 0.64}. Best is trial 152 with value: 0.9694451342678011.\n",
      "[I 2025-07-01 12:47:01,589] Trial 199 finished with value: 0.9691212476281249 and parameters: {'solver_penalty': ('newton-cholesky', None), 'C': 5.115386089606202, 'tol': 0.07874705134800435, 'fit_intercept': True, 'class_weight': 'balanced', 'threshold': 0.65}. Best is trial 152 with value: 0.9694451342678011.\n",
      "[I 2025-07-01 12:47:02,776] Trial 200 finished with value: 0.9691752141610047 and parameters: {'solver_penalty': ('newton-cholesky', None), 'C': 5.815638900568788, 'tol': 0.09958755316757814, 'fit_intercept': True, 'class_weight': 'balanced', 'threshold': 0.6839999999999999}. Best is trial 152 with value: 0.9694451342678011.\n",
      "[I 2025-07-01 12:47:03,453] Trial 201 finished with value: 0.9692292098413503 and parameters: {'solver_penalty': ('newton-cholesky', 'l2'), 'C': 3.031436461459331, 'tol': 0.0650748829887589, 'fit_intercept': True, 'class_weight': 'balanced', 'threshold': 0.631}. Best is trial 152 with value: 0.9694451342678011.\n",
      "[I 2025-07-01 12:47:04,004] Trial 202 finished with value: 0.9691752141610047 and parameters: {'solver_penalty': ('newton-cholesky', None), 'C': 3.4204650590143024, 'tol': 0.08465247269395433, 'fit_intercept': True, 'class_weight': 'balanced', 'threshold': 0.696}. Best is trial 152 with value: 0.9694451342678011.\n",
      "[I 2025-07-01 12:47:05,333] Trial 203 finished with value: 0.9694451342678011 and parameters: {'solver_penalty': ('newton-cholesky', 'l2'), 'C': 2.82581242125098, 'tol': 0.07366907559588796, 'fit_intercept': True, 'class_weight': 'balanced', 'threshold': 0.6799999999999999}. Best is trial 152 with value: 0.9694451342678011.\n",
      "[I 2025-07-01 12:47:06,217] Trial 205 finished with value: 0.9691212184806591 and parameters: {'solver_penalty': ('liblinear', 'l1'), 'C': 2.4541182869632303, 'tol': 0.07927267624419795, 'fit_intercept': True, 'class_weight': None, 'threshold': 0.665}. Best is trial 152 with value: 0.9694451342678011.\n",
      "[I 2025-07-01 12:47:06,390] Trial 204 finished with value: 0.9694451342678011 and parameters: {'solver_penalty': ('newton-cholesky', 'l2'), 'C': 2.791312987370036, 'tol': 0.06288500343469133, 'fit_intercept': True, 'class_weight': 'balanced', 'threshold': 0.6779999999999999}. Best is trial 152 with value: 0.9694451342678011.\n",
      "[I 2025-07-01 12:47:07,600] Trial 206 finished with value: 0.9694451342678011 and parameters: {'solver_penalty': ('newton-cholesky', 'l2'), 'C': 2.999692683776643, 'tol': 0.07144837379459429, 'fit_intercept': True, 'class_weight': 'balanced', 'threshold': 0.6859999999999999}. Best is trial 152 with value: 0.9694451342678011.\n",
      "[I 2025-07-01 12:47:08,613] Trial 207 finished with value: 0.9694451342678011 and parameters: {'solver_penalty': ('newton-cholesky', 'l2'), 'C': 4.171330702520895, 'tol': 0.07162359590235759, 'fit_intercept': True, 'class_weight': 'balanced', 'threshold': 0.696}. Best is trial 152 with value: 0.9694451342678011.\n",
      "[I 2025-07-01 12:47:09,638] Trial 209 finished with value: 0.9694451342678011 and parameters: {'solver_penalty': ('newton-cholesky', 'l2'), 'C': 4.170764749291046, 'tol': 0.07784003746102644, 'fit_intercept': True, 'class_weight': 'balanced', 'threshold': 0.694}. Best is trial 152 with value: 0.9694451342678011.\n",
      "[I 2025-07-01 12:47:09,803] Trial 208 finished with value: 0.9694451342678011 and parameters: {'solver_penalty': ('newton-cholesky', 'l2'), 'C': 3.5037399915283216, 'tol': 0.06426589783247086, 'fit_intercept': True, 'class_weight': 'balanced', 'threshold': 0.6910000000000001}. Best is trial 152 with value: 0.9694451342678011.\n",
      "[I 2025-07-01 12:47:11,243] Trial 210 finished with value: 0.9693371720545759 and parameters: {'solver_penalty': ('newton-cholesky', 'l2'), 'C': 2.2421293158714297, 'tol': 0.07063495224887938, 'fit_intercept': True, 'class_weight': 'balanced', 'threshold': 0.6519999999999999}. Best is trial 152 with value: 0.9694451342678011.\n",
      "[I 2025-07-01 12:47:12,259] Trial 211 finished with value: 0.9694451342678011 and parameters: {'solver_penalty': ('newton-cholesky', 'l2'), 'C': 3.920241212100099, 'tol': 0.056964843894223904, 'fit_intercept': True, 'class_weight': 'balanced', 'threshold': 0.698}. Best is trial 152 with value: 0.9694451342678011.\n",
      "[I 2025-07-01 12:47:12,777] Trial 212 finished with value: 0.9692291952676175 and parameters: {'solver_penalty': ('liblinear', 'l1'), 'C': 3.6971628108340218, 'tol': 0.09670096969536515, 'fit_intercept': True, 'class_weight': 'balanced', 'threshold': 0.635}. Best is trial 152 with value: 0.9694451342678011.\n",
      "[I 2025-07-01 12:47:13,327] Trial 213 finished with value: 0.9694451342678011 and parameters: {'solver_penalty': ('newton-cholesky', 'l2'), 'C': 3.869689839717889, 'tol': 0.04390814363262183, 'fit_intercept': True, 'class_weight': 'balanced', 'threshold': 0.6970000000000001}. Best is trial 152 with value: 0.9694451342678011.\n",
      "[I 2025-07-01 12:47:14,690] Trial 214 finished with value: 0.9694451342678011 and parameters: {'solver_penalty': ('newton-cholesky', 'l2'), 'C': 3.549759037658924, 'tol': 0.06154498745140756, 'fit_intercept': True, 'class_weight': 'balanced', 'threshold': 0.6819999999999999}. Best is trial 152 with value: 0.9694451342678011.\n",
      "[I 2025-07-01 12:47:15,721] Trial 215 finished with value: 0.9694451342678011 and parameters: {'solver_penalty': ('newton-cholesky', 'l2'), 'C': 3.486755863175591, 'tol': 0.06331440471137925, 'fit_intercept': True, 'class_weight': 'balanced', 'threshold': 0.681}. Best is trial 152 with value: 0.9694451342678011.\n",
      "[I 2025-07-01 12:47:16,277] Trial 216 finished with value: 0.9694451342678011 and parameters: {'solver_penalty': ('newton-cholesky', 'l2'), 'C': 3.429611945287912, 'tol': 0.0547484995335322, 'fit_intercept': True, 'class_weight': 'balanced', 'threshold': 0.6890000000000001}. Best is trial 152 with value: 0.9694451342678011.\n",
      "[I 2025-07-01 12:47:16,681] Trial 217 finished with value: 0.9694451342678011 and parameters: {'solver_penalty': ('newton-cholesky', 'l2'), 'C': 3.9617869772416197, 'tol': 0.07272162989815296, 'fit_intercept': True, 'class_weight': 'balanced', 'threshold': 0.7}. Best is trial 152 with value: 0.9694451342678011.\n",
      "[I 2025-07-01 12:47:18,221] Trial 218 finished with value: 0.9693371720545756 and parameters: {'solver_penalty': ('newton-cholesky', 'l2'), 'C': 4.671526283965298, 'tol': 0.05185856765264889, 'fit_intercept': True, 'class_weight': 'balanced', 'threshold': 0.673}. Best is trial 152 with value: 0.9694451342678011.\n",
      "[I 2025-07-01 12:47:19,416] Trial 219 finished with value: 0.9694451342678011 and parameters: {'solver_penalty': ('newton-cholesky', 'l2'), 'C': 4.980397687306554, 'tol': 0.055872354645325445, 'fit_intercept': True, 'class_weight': 'balanced', 'threshold': 0.688}. Best is trial 152 with value: 0.9694451342678011.\n",
      "[I 2025-07-01 12:47:19,639] Trial 220 finished with value: 0.9693911385874555 and parameters: {'solver_penalty': ('newton-cholesky', 'l2'), 'C': 4.711658277019707, 'tol': 0.06311173021149409, 'fit_intercept': True, 'class_weight': 'balanced', 'threshold': 0.698}. Best is trial 152 with value: 0.9694451342678011.\n",
      "[I 2025-07-01 12:47:20,370] Trial 221 finished with value: 0.9694451342678011 and parameters: {'solver_penalty': ('newton-cholesky', 'l2'), 'C': 2.7844410392364205, 'tol': 0.05014368868918605, 'fit_intercept': True, 'class_weight': 'balanced', 'threshold': 0.688}. Best is trial 152 with value: 0.9694451342678011.\n",
      "[I 2025-07-01 12:47:21,719] Trial 222 finished with value: 0.9694451342678011 and parameters: {'solver_penalty': ('newton-cholesky', 'l2'), 'C': 4.043879889111984, 'tol': 0.0510046258349254, 'fit_intercept': True, 'class_weight': 'balanced', 'threshold': 0.696}. Best is trial 152 with value: 0.9694451342678011.\n",
      "[I 2025-07-01 12:47:22,740] Trial 223 finished with value: 0.9693911531611885 and parameters: {'solver_penalty': ('newton-cholesky', 'l2'), 'C': 3.787007134732568, 'tol': 0.062394238914299, 'fit_intercept': True, 'class_weight': 'balanced', 'threshold': 0.673}. Best is trial 152 with value: 0.9694451342678011.\n",
      "[I 2025-07-01 12:47:23,261] Trial 224 finished with value: 0.9694451342678011 and parameters: {'solver_penalty': ('newton-cholesky', 'l2'), 'C': 3.635589381994709, 'tol': 0.043629781337063925, 'fit_intercept': True, 'class_weight': 'balanced', 'threshold': 0.6930000000000001}. Best is trial 152 with value: 0.9694451342678011.\n",
      "[I 2025-07-01 12:47:24,631] Trial 225 finished with value: 0.9692292098413503 and parameters: {'solver_penalty': ('newton-cg', 'l2'), 'C': 4.407156740185572, 'tol': 0.04358944922899363, 'fit_intercept': True, 'class_weight': 'balanced', 'threshold': 0.6619999999999999}. Best is trial 152 with value: 0.9694451342678011.\n",
      "[I 2025-07-01 12:47:24,653] Trial 226 finished with value: 0.9691212039069264 and parameters: {'solver_penalty': ('newton-cholesky', 'l2'), 'C': 3.851277143262684, 'tol': 0.048558095679206534, 'fit_intercept': True, 'class_weight': None, 'threshold': 0.6890000000000001}. Best is trial 152 with value: 0.9694451342678011.\n",
      "[I 2025-07-01 12:47:26,405] Trial 227 finished with value: 0.9691752141610049 and parameters: {'solver_penalty': ('newton-cg', 'l2'), 'C': 5.200761128887385, 'tol': 0.05232075688794481, 'fit_intercept': True, 'class_weight': 'balanced', 'threshold': 0.6819999999999999}. Best is trial 152 with value: 0.9694451342678011.\n",
      "[I 2025-07-01 12:47:26,745] Trial 228 finished with value: 0.9692292098413503 and parameters: {'solver_penalty': ('newton-cg', 'l2'), 'C': 3.1038751321355607, 'tol': 0.05793479052342749, 'fit_intercept': True, 'class_weight': 'balanced', 'threshold': 0.6679999999999999}. Best is trial 152 with value: 0.9694451342678011.\n",
      "[I 2025-07-01 12:47:27,802] Trial 229 finished with value: 0.9692831909479629 and parameters: {'solver_penalty': ('newton-cholesky', 'l2'), 'C': 3.453820156378915, 'tol': 0.07373988348067373, 'fit_intercept': True, 'class_weight': 'balanced', 'threshold': 0.638}. Best is trial 152 with value: 0.9694451342678011.\n",
      "[I 2025-07-01 12:47:27,995] Trial 230 finished with value: 0.9694451342678011 and parameters: {'solver_penalty': ('newton-cholesky', 'l2'), 'C': 3.1421943353544215, 'tol': 0.07090272531305153, 'fit_intercept': True, 'class_weight': 'balanced', 'threshold': 0.687}. Best is trial 152 with value: 0.9694451342678011.\n",
      "[I 2025-07-01 12:47:29,876] Trial 231 finished with value: 0.9693911385874555 and parameters: {'solver_penalty': ('newton-cholesky', 'l2'), 'C': 2.770668366418552, 'tol': 0.059757416309230316, 'fit_intercept': True, 'class_weight': 'balanced', 'threshold': 0.7}. Best is trial 152 with value: 0.9694451342678011.\n",
      "[I 2025-07-01 12:47:30,403] Trial 232 finished with value: 0.9692292098413503 and parameters: {'solver_penalty': ('newton-cholesky', 'l2'), 'C': 3.249796098682341, 'tol': 0.07246690652136498, 'fit_intercept': True, 'class_weight': 'balanced', 'threshold': 0.637}. Best is trial 152 with value: 0.9694451342678011.\n",
      "[I 2025-07-01 12:47:31,277] Trial 233 finished with value: 0.966421900822833 and parameters: {'solver_penalty': ('newton-cholesky', 'l2'), 'C': 3.332984726378047, 'tol': 0.056019421840383325, 'fit_intercept': False, 'class_weight': 'balanced', 'threshold': 0.6950000000000001}. Best is trial 152 with value: 0.9694451342678011.\n",
      "[I 2025-07-01 12:47:31,642] Trial 234 finished with value: 0.9694451342678011 and parameters: {'solver_penalty': ('newton-cholesky', 'l2'), 'C': 4.347543540919369, 'tol': 0.07081524674431192, 'fit_intercept': True, 'class_weight': 'balanced', 'threshold': 0.683}. Best is trial 152 with value: 0.9694451342678011.\n",
      "[I 2025-07-01 12:47:33,521] Trial 236 finished with value: 0.9524395845903177 and parameters: {'solver_penalty': ('newton-cholesky', 'l2'), 'C': 5.154974286302751, 'tol': 0.08304252162329885, 'fit_intercept': False, 'class_weight': None, 'threshold': 0.696}. Best is trial 152 with value: 0.9694451342678011.\n",
      "[I 2025-07-01 12:47:33,537] Trial 235 finished with value: 0.9692292098413503 and parameters: {'solver_penalty': ('lbfgs', 'l2'), 'C': 6.71895014036007, 'tol': 0.04177068707041942, 'fit_intercept': True, 'class_weight': 'balanced', 'threshold': 0.6699999999999999}. Best is trial 152 with value: 0.9694451342678011.\n",
      "[I 2025-07-01 12:47:34,758] Trial 238 finished with value: 0.9691751995872719 and parameters: {'solver_penalty': ('liblinear', 'l2'), 'C': 3.5163730973438874, 'tol': 0.06767807141073907, 'fit_intercept': True, 'class_weight': 'balanced', 'threshold': 0.694}. Best is trial 152 with value: 0.9694451342678011.\n",
      "[I 2025-07-01 12:47:34,940] Trial 237 finished with value: 0.9694451342678011 and parameters: {'solver_penalty': ('newton-cholesky', 'l2'), 'C': 3.5531981948700473, 'tol': 0.07064398990072558, 'fit_intercept': True, 'class_weight': 'balanced', 'threshold': 0.6819999999999999}. Best is trial 152 with value: 0.9694451342678011.\n",
      "[I 2025-07-01 12:47:36,820] Trial 239 finished with value: 0.9692292244150831 and parameters: {'solver_penalty': ('lbfgs', 'l2'), 'C': 6.633787420906449, 'tol': 0.05361949373632949, 'fit_intercept': True, 'class_weight': 'balanced', 'threshold': 0.648}. Best is trial 152 with value: 0.9694451342678011.\n",
      "[I 2025-07-01 12:47:37,025] Trial 240 finished with value: 0.9692831909479629 and parameters: {'solver_penalty': ('newton-cholesky', 'l2'), 'C': 3.7824700732181924, 'tol': 0.09167037746877066, 'fit_intercept': True, 'class_weight': 'balanced', 'threshold': 0.6579999999999999}. Best is trial 152 with value: 0.9694451342678011.\n",
      "[I 2025-07-01 12:47:38,382] Trial 241 finished with value: 0.9694451342678011 and parameters: {'solver_penalty': ('newton-cholesky', 'l2'), 'C': 3.8606716943473924, 'tol': 0.07323731706984798, 'fit_intercept': True, 'class_weight': 'balanced', 'threshold': 0.6890000000000001}. Best is trial 152 with value: 0.9694451342678011.\n",
      "[I 2025-07-01 12:47:38,394] Trial 242 finished with value: 0.9694451342678011 and parameters: {'solver_penalty': ('newton-cholesky', 'l2'), 'C': 3.818863716807215, 'tol': 0.06925709349936493, 'fit_intercept': True, 'class_weight': 'balanced', 'threshold': 0.687}. Best is trial 152 with value: 0.9694451342678011.\n",
      "[I 2025-07-01 12:47:40,477] Trial 244 finished with value: 0.9692832055216961 and parameters: {'solver_penalty': ('newton-cg', None), 'C': 1.6263590856719268, 'tol': 0.09628637460730734, 'fit_intercept': False, 'class_weight': 'balanced', 'threshold': 0.698}. Best is trial 152 with value: 0.9694451342678011.\n",
      "[I 2025-07-01 12:47:41,010] Trial 243 finished with value: 0.9692292098413503 and parameters: {'solver_penalty': ('newton-cg', None), 'C': 5.66159343886027, 'tol': 0.05610479437494795, 'fit_intercept': True, 'class_weight': 'balanced', 'threshold': 0.644}. Best is trial 152 with value: 0.9694451342678011.\n",
      "[I 2025-07-01 12:47:41,363] Trial 246 finished with value: 0.9691212184806591 and parameters: {'solver_penalty': ('liblinear', 'l1'), 'C': 9.959629340786373, 'tol': 0.09240380680982252, 'fit_intercept': True, 'class_weight': None, 'threshold': 0.626}. Best is trial 152 with value: 0.9694451342678011.\n",
      "[I 2025-07-01 12:47:41,754] Trial 245 finished with value: 0.9692292098413503 and parameters: {'solver_penalty': ('lbfgs', None), 'C': 6.7437205012452, 'tol': 0.05840886127602746, 'fit_intercept': True, 'class_weight': 'balanced', 'threshold': 0.6679999999999999}. Best is trial 152 with value: 0.9694451342678011.\n",
      "[I 2025-07-01 12:47:44,070] Trial 248 finished with value: 0.9686893842014908 and parameters: {'solver_penalty': ('liblinear', 'l1'), 'C': 5.544952942678217, 'tol': 0.06820303901426153, 'fit_intercept': False, 'class_weight': 'balanced', 'threshold': 0.6759999999999999}. Best is trial 152 with value: 0.9694451342678011.\n",
      "[I 2025-07-01 12:47:44,086] Trial 247 finished with value: 0.9691212184806594 and parameters: {'solver_penalty': ('newton-cholesky', None), 'C': 2.96720785808769, 'tol': 0.059166194345237184, 'fit_intercept': True, 'class_weight': None, 'threshold': 0.673}. Best is trial 152 with value: 0.9694451342678011.\n",
      "[I 2025-07-01 12:47:44,621] Trial 250 finished with value: 0.9686893987752235 and parameters: {'solver_penalty': ('lbfgs', 'l2'), 'C': 7.048454668263167, 'tol': 0.043486999999826643, 'fit_intercept': False, 'class_weight': None, 'threshold': 0.621}. Best is trial 152 with value: 0.9694451342678011.\n",
      "[I 2025-07-01 12:47:45,313] Trial 249 finished with value: 0.9694451342678011 and parameters: {'solver_penalty': ('newton-cholesky', 'l2'), 'C': 3.4363334102009344, 'tol': 0.07789357427373853, 'fit_intercept': True, 'class_weight': 'balanced', 'threshold': 0.6930000000000001}. Best is trial 152 with value: 0.9694451342678011.\n",
      "[I 2025-07-01 12:47:47,687] Trial 253 finished with value: 0.9651803062232753 and parameters: {'solver_penalty': ('newton-cholesky', 'l2'), 'C': 5.379043257313751, 'tol': 0.08713841018097286, 'fit_intercept': False, 'class_weight': 'balanced', 'threshold': 0.692}. Best is trial 152 with value: 0.9694451342678011.\n",
      "[I 2025-07-01 12:47:48,212] Trial 252 finished with value: 0.9689593334557527 and parameters: {'solver_penalty': ('newton-cg', None), 'C': 8.940035651509145, 'tol': 0.08662565797159891, 'fit_intercept': True, 'class_weight': 'balanced', 'threshold': 0.33299999999999996}. Best is trial 152 with value: 0.9694451342678011.\n",
      "[I 2025-07-01 12:47:48,244] Trial 251 finished with value: 0.9692292098413503 and parameters: {'solver_penalty': ('newton-cg', None), 'C': 1.1584486047494105, 'tol': 0.06859172741787928, 'fit_intercept': True, 'class_weight': 'balanced', 'threshold': 0.677}. Best is trial 152 with value: 0.9694451342678011.\n",
      "[I 2025-07-01 12:47:48,507] Trial 254 finished with value: 0.9690672665215123 and parameters: {'solver_penalty': ('newton-cholesky', 'l2'), 'C': 5.467488406522945, 'tol': 0.07328961576773738, 'fit_intercept': True, 'class_weight': 'balanced', 'threshold': 0.612}. Best is trial 152 with value: 0.9694451342678011.\n",
      "[I 2025-07-01 12:47:50,886] Trial 255 finished with value: 0.9691212622018579 and parameters: {'solver_penalty': ('liblinear', 'l2'), 'C': 3.7717443509790343, 'tol': 0.05694323756395302, 'fit_intercept': True, 'class_weight': 'balanced', 'threshold': 0.501}. Best is trial 152 with value: 0.9694451342678011.\n",
      "[I 2025-07-01 12:47:51,766] Trial 258 finished with value: 0.9690672810952453 and parameters: {'solver_penalty': ('newton-cg', 'l2'), 'C': 2.8604659143114137, 'tol': 0.06799735241076622, 'fit_intercept': False, 'class_weight': 'balanced', 'threshold': 0.6819999999999999}. Best is trial 152 with value: 0.9694451342678011.\n",
      "[I 2025-07-01 12:47:52,106] Trial 256 finished with value: 0.9691212767755907 and parameters: {'solver_penalty': ('newton-cholesky', None), 'C': 4.514779614402181, 'tol': 0.03298293308705185, 'fit_intercept': True, 'class_weight': 'balanced', 'threshold': 0.6639999999999999}. Best is trial 152 with value: 0.9694451342678011.\n",
      "[I 2025-07-01 12:47:52,111] Trial 257 finished with value: 0.9690672665215123 and parameters: {'solver_penalty': ('newton-cholesky', 'l2'), 'C': 5.4329874517653245, 'tol': 0.0386892352924747, 'fit_intercept': True, 'class_weight': 'balanced', 'threshold': 0.6619999999999999}. Best is trial 152 with value: 0.9694451342678011.\n",
      "[I 2025-07-01 12:47:54,924] Trial 260 finished with value: 0.966583975306267 and parameters: {'solver_penalty': ('lbfgs', 'l2'), 'C': 0.7215972840859521, 'tol': 0.06854978583199942, 'fit_intercept': False, 'class_weight': None, 'threshold': 0.5800000000000001}. Best is trial 152 with value: 0.9694451342678011.\n",
      "[I 2025-07-01 12:47:54,950] Trial 259 finished with value: 0.9693911385874555 and parameters: {'solver_penalty': ('newton-cholesky', 'l2'), 'C': 6.477856111844138, 'tol': 0.05870742227133841, 'fit_intercept': True, 'class_weight': 'balanced', 'threshold': 0.6970000000000001}. Best is trial 152 with value: 0.9694451342678011.\n",
      "[I 2025-07-01 12:47:55,321] Trial 261 finished with value: 0.2604729030584436 and parameters: {'solver_penalty': ('liblinear', 'l2'), 'C': 8.23756939474267, 'tol': 0.06595110951402428, 'fit_intercept': False, 'class_weight': None, 'threshold': 0.349}. Best is trial 152 with value: 0.9694451342678011.\n",
      "[I 2025-07-01 12:47:55,327] Trial 262 finished with value: 0.9692291952676175 and parameters: {'solver_penalty': ('liblinear', 'l1'), 'C': 2.7001816997551296, 'tol': 0.054962826344448434, 'fit_intercept': True, 'class_weight': 'balanced', 'threshold': 0.6579999999999999}. Best is trial 152 with value: 0.9694451342678011.\n",
      "[I 2025-07-01 12:47:57,888] Trial 263 finished with value: 0.9692831909479629 and parameters: {'solver_penalty': ('liblinear', 'l2'), 'C': 5.710894075828542, 'tol': 0.04180904215754869, 'fit_intercept': True, 'class_weight': 'balanced', 'threshold': 0.633}. Best is trial 152 with value: 0.9694451342678011.\n",
      "[I 2025-07-01 12:47:58,422] Trial 264 finished with value: 0.9691212622018579 and parameters: {'solver_penalty': ('lbfgs', 'l2'), 'C': 5.152855173274834, 'tol': 0.09592268258251073, 'fit_intercept': True, 'class_weight': 'balanced', 'threshold': 0.616}. Best is trial 152 with value: 0.9694451342678011.\n",
      "[I 2025-07-01 12:47:58,429] Trial 265 finished with value: 0.9690672519477795 and parameters: {'solver_penalty': ('liblinear', 'l1'), 'C': 3.5526157158438183, 'tol': 0.06595824364784307, 'fit_intercept': True, 'class_weight': 'balanced', 'threshold': 0.604}. Best is trial 152 with value: 0.9694451342678011.\n",
      "[I 2025-07-01 12:47:59,018] Trial 266 finished with value: 0.9693911385874555 and parameters: {'solver_penalty': ('newton-cholesky', 'l2'), 'C': 4.513961232786201, 'tol': 0.07739899621111901, 'fit_intercept': True, 'class_weight': 'balanced', 'threshold': 0.7}. Best is trial 152 with value: 0.9694451342678011.\n",
      "[I 2025-07-01 12:48:01,185] Trial 267 finished with value: 0.9691751995872719 and parameters: {'solver_penalty': ('newton-cholesky', 'l2'), 'C': 1.804931481085467, 'tol': 0.07027495874909122, 'fit_intercept': True, 'class_weight': None, 'threshold': 0.677}. Best is trial 152 with value: 0.9694451342678011.\n",
      "[I 2025-07-01 12:48:01,401] Trial 269 finished with value: 0.9692291952676175 and parameters: {'solver_penalty': ('liblinear', 'l1'), 'C': 6.9005391454724325, 'tol': 0.0916424950480956, 'fit_intercept': True, 'class_weight': 'balanced', 'threshold': 0.6930000000000001}. Best is trial 152 with value: 0.9694451342678011.\n",
      "[I 2025-07-01 12:48:02,254] Trial 268 finished with value: 0.9694451342678011 and parameters: {'solver_penalty': ('newton-cholesky', 'l2'), 'C': 2.667581927457336, 'tol': 0.05588295229358458, 'fit_intercept': True, 'class_weight': 'balanced', 'threshold': 0.692}. Best is trial 152 with value: 0.9694451342678011.\n",
      "[I 2025-07-01 12:48:02,615] Trial 270 finished with value: 0.9691751995872719 and parameters: {'solver_penalty': ('newton-cg', None), 'C': 4.924005506813322, 'tol': 0.07026596706549773, 'fit_intercept': True, 'class_weight': None, 'threshold': 0.6639999999999999}. Best is trial 152 with value: 0.9694451342678011.\n",
      "[I 2025-07-01 12:48:04,313] Trial 271 finished with value: 0.9689053523491399 and parameters: {'solver_penalty': ('newton-cg', None), 'C': 9.747934087435718, 'tol': 0.0122575266110624, 'fit_intercept': False, 'class_weight': None, 'threshold': 0.6910000000000001}. Best is trial 152 with value: 0.9694451342678011.\n",
      "[I 2025-07-01 12:48:05,346] Trial 272 finished with value: 0.9690672956689781 and parameters: {'solver_penalty': ('newton-cg', None), 'C': 3.8592460918324707, 'tol': 0.027681862725594523, 'fit_intercept': True, 'class_weight': None, 'threshold': 0.307}. Best is trial 152 with value: 0.9694451342678011.\n",
      "[I 2025-07-01 12:48:05,874] Trial 273 finished with value: 0.9692831909479629 and parameters: {'solver_penalty': ('newton-cholesky', 'l2'), 'C': 3.724678764320747, 'tol': 0.09551683266885033, 'fit_intercept': True, 'class_weight': 'balanced', 'threshold': 0.6559999999999999}. Best is trial 152 with value: 0.9694451342678011.\n",
      "[I 2025-07-01 12:48:06,249] Trial 274 finished with value: 0.9694451342678011 and parameters: {'solver_penalty': ('newton-cholesky', 'l2'), 'C': 4.316084686375794, 'tol': 0.09841091740174628, 'fit_intercept': True, 'class_weight': 'balanced', 'threshold': 0.6910000000000001}. Best is trial 152 with value: 0.9694451342678011.\n",
      "[I 2025-07-01 12:48:06,769] Trial 275 finished with value: 0.2604729030584436 and parameters: {'solver_penalty': ('lbfgs', 'l2'), 'C': 9.84242731854594, 'tol': 0.09669979730161102, 'fit_intercept': False, 'class_weight': None, 'threshold': 0.314}. Best is trial 152 with value: 0.9694451342678011.\n",
      "[I 2025-07-01 12:48:09,141] Trial 276 finished with value: 0.9694451342678011 and parameters: {'solver_penalty': ('newton-cholesky', 'l2'), 'C': 3.7868072558263677, 'tol': 0.08551170345103812, 'fit_intercept': True, 'class_weight': 'balanced', 'threshold': 0.683}. Best is trial 152 with value: 0.9694451342678011.\n",
      "[I 2025-07-01 12:48:09,479] Trial 277 finished with value: 0.9694451342678011 and parameters: {'solver_penalty': ('newton-cholesky', 'l2'), 'C': 4.075870196607884, 'tol': 0.06089140984052417, 'fit_intercept': True, 'class_weight': 'balanced', 'threshold': 0.69}. Best is trial 152 with value: 0.9694451342678011.\n",
      "[I 2025-07-01 12:48:09,899] Trial 278 finished with value: 0.9692831909479629 and parameters: {'solver_penalty': ('newton-cholesky', 'l2'), 'C': 4.4802332380298955, 'tol': 0.059994521525915376, 'fit_intercept': True, 'class_weight': 'balanced', 'threshold': 0.6559999999999999}. Best is trial 152 with value: 0.9694451342678011.\n",
      "[I 2025-07-01 12:48:10,273] Trial 279 finished with value: 0.9694451342678011 and parameters: {'solver_penalty': ('newton-cholesky', 'l2'), 'C': 4.28362149759369, 'tol': 0.05573174820354294, 'fit_intercept': True, 'class_weight': 'balanced', 'threshold': 0.681}. Best is trial 152 with value: 0.9694451342678011.\n",
      "[I 2025-07-01 12:48:12,990] Trial 280 finished with value: 0.9693911385874555 and parameters: {'solver_penalty': ('newton-cholesky', 'l2'), 'C': 4.939089261424155, 'tol': 0.060875722417842254, 'fit_intercept': True, 'class_weight': 'balanced', 'threshold': 0.698}. Best is trial 152 with value: 0.9694451342678011.\n",
      "[I 2025-07-01 12:48:12,999] Trial 281 finished with value: 0.9690672665215123 and parameters: {'solver_penalty': ('newton-cholesky', 'l2'), 'C': 3.840468017593794, 'tol': 0.056845940532117084, 'fit_intercept': True, 'class_weight': 'balanced', 'threshold': 0.614}. Best is trial 152 with value: 0.9694451342678011.\n",
      "[I 2025-07-01 12:48:13,419] Trial 282 finished with value: 0.9692291806938848 and parameters: {'solver_penalty': ('newton-cg', None), 'C': 8.75659627264282, 'tol': 0.028746928676377573, 'fit_intercept': True, 'class_weight': None, 'threshold': 0.567}. Best is trial 152 with value: 0.9694451342678011.\n",
      "[I 2025-07-01 12:48:13,626] Trial 283 finished with value: 0.9694451342678011 and parameters: {'solver_penalty': ('newton-cholesky', 'l2'), 'C': 2.877041369977725, 'tol': 0.06458178286746297, 'fit_intercept': True, 'class_weight': 'balanced', 'threshold': 0.6990000000000001}. Best is trial 152 with value: 0.9694451342678011.\n",
      "[I 2025-07-01 12:48:16,203] Trial 284 finished with value: 0.9691212913493235 and parameters: {'solver_penalty': ('newton-cholesky', 'l2'), 'C': 4.545476230330511, 'tol': 0.07133389689832662, 'fit_intercept': True, 'class_weight': 'balanced', 'threshold': 0.534}. Best is trial 152 with value: 0.9694451342678011.\n",
      "[I 2025-07-01 12:48:16,555] Trial 285 finished with value: 0.9694451342678011 and parameters: {'solver_penalty': ('newton-cholesky', 'l2'), 'C': 4.33292782079585, 'tol': 0.07721725117669087, 'fit_intercept': True, 'class_weight': 'balanced', 'threshold': 0.694}. Best is trial 152 with value: 0.9694451342678011.\n",
      "[I 2025-07-01 12:48:16,942] Trial 286 finished with value: 0.9694451342678011 and parameters: {'solver_penalty': ('newton-cholesky', 'l2'), 'C': 2.5387474833512553, 'tol': 0.06203620708172946, 'fit_intercept': True, 'class_weight': 'balanced', 'threshold': 0.6930000000000001}. Best is trial 152 with value: 0.9694451342678011.\n",
      "[I 2025-07-01 12:48:17,146] Trial 287 finished with value: 0.9694451342678011 and parameters: {'solver_penalty': ('newton-cholesky', 'l2'), 'C': 3.941065828074086, 'tol': 0.08099456859401702, 'fit_intercept': True, 'class_weight': 'balanced', 'threshold': 0.6990000000000001}. Best is trial 152 with value: 0.9694451342678011.\n",
      "[I 2025-07-01 12:48:20,079] Trial 290 finished with value: 0.9692291952676175 and parameters: {'solver_penalty': ('liblinear', 'l1'), 'C': 4.501725779742895, 'tol': 0.08026024789255246, 'fit_intercept': True, 'class_weight': 'balanced', 'threshold': 0.6859999999999999}. Best is trial 152 with value: 0.9694451342678011.\n",
      "[I 2025-07-01 12:48:20,245] Trial 288 finished with value: 0.9692292244150831 and parameters: {'solver_penalty': ('lbfgs', 'l2'), 'C': 3.6494842867347836, 'tol': 0.04493020005856657, 'fit_intercept': True, 'class_weight': 'balanced', 'threshold': 0.653}. Best is trial 152 with value: 0.9694451342678011.\n",
      "[I 2025-07-01 12:48:20,494] Trial 291 finished with value: 0.9682035105207778 and parameters: {'solver_penalty': ('liblinear', 'l2'), 'C': 5.986853514334785, 'tol': 0.0681216964636435, 'fit_intercept': False, 'class_weight': 'balanced', 'threshold': 0.62}. Best is trial 152 with value: 0.9694451342678011.\n",
      "[I 2025-07-01 12:48:20,738] Trial 289 finished with value: 0.2604729030584436 and parameters: {'solver_penalty': ('newton-cg', 'l2'), 'C': 7.651604705914927, 'tol': 0.030474811290857808, 'fit_intercept': False, 'class_weight': 'balanced', 'threshold': 0.421}. Best is trial 152 with value: 0.9694451342678011.\n",
      "[I 2025-07-01 12:48:23,125] Trial 294 finished with value: 0.9684194786684273 and parameters: {'solver_penalty': ('lbfgs', 'l2'), 'C': 0.11629349914112108, 'tol': 0.09419105057967705, 'fit_intercept': True, 'class_weight': None, 'threshold': 0.575}. Best is trial 152 with value: 0.9694451342678011.\n",
      "[I 2025-07-01 12:48:23,674] Trial 293 finished with value: 0.9691212622018579 and parameters: {'solver_penalty': ('newton-cholesky', 'l2'), 'C': 5.472970028599862, 'tol': 0.0793338440163513, 'fit_intercept': True, 'class_weight': 'balanced', 'threshold': 0.607}. Best is trial 152 with value: 0.9694451342678011.\n",
      "[I 2025-07-01 12:48:24,203] Trial 292 finished with value: 0.9691212476281249 and parameters: {'solver_penalty': ('newton-cholesky', 'l2'), 'C': 3.2730849717561092, 'tol': 0.002301351731206887, 'fit_intercept': True, 'class_weight': None, 'threshold': 0.34099999999999997}. Best is trial 152 with value: 0.9694451342678011.\n",
      "[I 2025-07-01 12:48:24,422] Trial 295 finished with value: 0.9694451342678011 and parameters: {'solver_penalty': ('newton-cholesky', 'l2'), 'C': 3.5674847125736897, 'tol': 0.09495055759115016, 'fit_intercept': True, 'class_weight': 'balanced', 'threshold': 0.7}. Best is trial 152 with value: 0.9694451342678011.\n",
      "[I 2025-07-01 12:48:26,454] Trial 296 finished with value: 0.9692292098413503 and parameters: {'solver_penalty': ('newton-cholesky', 'l2'), 'C': 3.102571248253269, 'tol': 0.08215143115207034, 'fit_intercept': True, 'class_weight': 'balanced', 'threshold': 0.626}. Best is trial 152 with value: 0.9694451342678011.\n",
      "[I 2025-07-01 12:48:27,181] Trial 298 finished with value: 0.9692292098413503 and parameters: {'solver_penalty': ('lbfgs', None), 'C': 3.3100760812260073, 'tol': 0.06020713603139202, 'fit_intercept': True, 'class_weight': 'balanced', 'threshold': 0.6739999999999999}. Best is trial 152 with value: 0.9694451342678011.\n",
      "[I 2025-07-01 12:48:27,527] Trial 297 finished with value: 0.9689593334557527 and parameters: {'solver_penalty': ('newton-cholesky', None), 'C': 7.685775868636045, 'tol': 0.040849617833310106, 'fit_intercept': True, 'class_weight': 'balanced', 'threshold': 0.44999999999999996}. Best is trial 152 with value: 0.9694451342678011.\n",
      "[I 2025-07-01 12:48:27,907] Trial 299 finished with value: 0.9691212476281249 and parameters: {'solver_penalty': ('newton-cholesky', 'l2'), 'C': 2.9843116885555023, 'tol': 0.05870706614528348, 'fit_intercept': True, 'class_weight': 'balanced', 'threshold': 0.619}. Best is trial 152 with value: 0.9694451342678011.\n",
      "[I 2025-07-01 12:48:30,452] Trial 300 finished with value: 0.9692292098413503 and parameters: {'solver_penalty': ('newton-cg', None), 'C': 3.243820033798224, 'tol': 0.04938458654745834, 'fit_intercept': True, 'class_weight': 'balanced', 'threshold': 0.6719999999999999}. Best is trial 152 with value: 0.9694451342678011.\n",
      "[I 2025-07-01 12:48:30,818] Trial 301 finished with value: 0.9694451342678011 and parameters: {'solver_penalty': ('newton-cholesky', 'l2'), 'C': 2.5592269980395392, 'tol': 0.06146579499157382, 'fit_intercept': True, 'class_weight': 'balanced', 'threshold': 0.6950000000000001}. Best is trial 152 with value: 0.9694451342678011.\n",
      "[I 2025-07-01 12:48:30,842] Trial 303 finished with value: 0.9691751995872719 and parameters: {'solver_penalty': ('newton-cholesky', 'l2'), 'C': 5.861713217958499, 'tol': 0.09056864798965752, 'fit_intercept': True, 'class_weight': None, 'threshold': 0.653}. Best is trial 152 with value: 0.9694451342678011.\n",
      "[I 2025-07-01 12:48:31,419] Trial 302 finished with value: 0.9692292098413503 and parameters: {'solver_penalty': ('newton-cg', 'l2'), 'C': 2.3240450318124215, 'tol': 0.08260732242051234, 'fit_intercept': True, 'class_weight': 'balanced', 'threshold': 0.635}. Best is trial 152 with value: 0.9694451342678011.\n",
      "[I 2025-07-01 12:48:33,984] Trial 304 finished with value: 0.9694451342678011 and parameters: {'solver_penalty': ('newton-cholesky', 'l2'), 'C': 3.5754427563153683, 'tol': 0.06854828567923231, 'fit_intercept': True, 'class_weight': 'balanced', 'threshold': 0.6950000000000001}. Best is trial 152 with value: 0.9694451342678011.\n",
      "[I 2025-07-01 12:48:34,194] Trial 305 finished with value: 0.9694451342678011 and parameters: {'solver_penalty': ('newton-cholesky', 'l2'), 'C': 2.913135982259014, 'tol': 0.07721144067719622, 'fit_intercept': True, 'class_weight': 'balanced', 'threshold': 0.6890000000000001}. Best is trial 152 with value: 0.9694451342678011.\n",
      "[I 2025-07-01 12:48:34,384] Trial 306 finished with value: 0.9693911385874555 and parameters: {'solver_penalty': ('newton-cholesky', 'l2'), 'C': 4.742801802548431, 'tol': 0.08400583045493706, 'fit_intercept': True, 'class_weight': 'balanced', 'threshold': 0.6990000000000001}. Best is trial 152 with value: 0.9694451342678011.\n",
      "[I 2025-07-01 12:48:34,947] Trial 307 finished with value: 0.939266839219664 and parameters: {'solver_penalty': ('newton-cholesky', None), 'C': 3.6640750348343483, 'tol': 0.07598258755791068, 'fit_intercept': False, 'class_weight': 'balanced', 'threshold': 0.51}. Best is trial 152 with value: 0.9694451342678011.\n",
      "[I 2025-07-01 12:48:37,511] Trial 309 finished with value: 0.9691752578822033 and parameters: {'solver_penalty': ('newton-cholesky', None), 'C': 3.183391182701534, 'tol': 0.06543168946880094, 'fit_intercept': True, 'class_weight': 'balanced', 'threshold': 0.5820000000000001}. Best is trial 152 with value: 0.9694451342678011.\n",
      "[I 2025-07-01 12:48:37,852] Trial 308 finished with value: 0.9690133291360983 and parameters: {'solver_penalty': ('newton-cg', 'l2'), 'C': 2.244765222857051, 'tol': 0.08862815806715083, 'fit_intercept': True, 'class_weight': 'balanced', 'threshold': 0.385}. Best is trial 152 with value: 0.9694451342678011.\n",
      "[I 2025-07-01 12:48:38,241] Trial 310 finished with value: 0.9691751995872719 and parameters: {'solver_penalty': ('newton-cg', 'l2'), 'C': 2.8739822233182672, 'tol': 0.07009349014620762, 'fit_intercept': True, 'class_weight': 'balanced', 'threshold': 0.694}. Best is trial 152 with value: 0.9694451342678011.\n",
      "[I 2025-07-01 12:48:38,244] Trial 311 finished with value: 0.9600511975236312 and parameters: {'solver_penalty': ('newton-cholesky', 'l2'), 'C': 3.908316121555537, 'tol': 0.08677698146087144, 'fit_intercept': False, 'class_weight': 'balanced', 'threshold': 0.631}. Best is trial 152 with value: 0.9694451342678011.\n",
      "[I 2025-07-01 12:48:40,693] Trial 315 finished with value: 0.9622652390237931 and parameters: {'solver_penalty': ('lbfgs', None), 'C': 3.8377051243445903, 'tol': 0.07997548939131108, 'fit_intercept': True, 'class_weight': None, 'threshold': 0.692}. Best is trial 152 with value: 0.9694451342678011.\n",
      "[I 2025-07-01 12:48:41,219] Trial 313 finished with value: 0.9315995254792572 and parameters: {'solver_penalty': ('newton-cholesky', 'l2'), 'C': 2.0735796279098024, 'tol': 0.06535665718404404, 'fit_intercept': False, 'class_weight': 'balanced', 'threshold': 0.56}. Best is trial 152 with value: 0.9694451342678011.\n",
      "[I 2025-07-01 12:48:41,599] Trial 312 finished with value: 0.9691212476281251 and parameters: {'solver_penalty': ('newton-cholesky', 'l2'), 'C': 4.537520436105001, 'tol': 0.03176719862371095, 'fit_intercept': True, 'class_weight': 'balanced', 'threshold': 0.69}. Best is trial 152 with value: 0.9694451342678011.\n",
      "[I 2025-07-01 12:48:41,948] Trial 314 finished with value: 0.9690672665215123 and parameters: {'solver_penalty': ('newton-cholesky', 'l2'), 'C': 4.914775400153353, 'tol': 0.06357052998648383, 'fit_intercept': True, 'class_weight': 'balanced', 'threshold': 0.614}. Best is trial 152 with value: 0.9694451342678011.\n",
      "[I 2025-07-01 12:48:43,997] Trial 317 finished with value: 0.9242588819615077 and parameters: {'solver_penalty': ('liblinear', 'l2'), 'C': 4.943551642430712, 'tol': 0.05867890860470014, 'fit_intercept': False, 'class_weight': None, 'threshold': 0.528}. Best is trial 152 with value: 0.9694451342678011.\n",
      "[I 2025-07-01 12:48:44,699] Trial 319 finished with value: 0.9687973755621817 and parameters: {'solver_penalty': ('liblinear', 'l1'), 'C': 4.1219618596482075, 'tol': 0.09958742968319449, 'fit_intercept': False, 'class_weight': None, 'threshold': 0.644}. Best is trial 152 with value: 0.9694451342678011.\n",
      "[I 2025-07-01 12:48:44,892] Trial 316 finished with value: 0.9690672665215123 and parameters: {'solver_penalty': ('newton-cholesky', 'l2'), 'C': 5.099339105209018, 'tol': 0.06731206115070738, 'fit_intercept': True, 'class_weight': 'balanced', 'threshold': 0.617}. Best is trial 152 with value: 0.9694451342678011.\n",
      "[I 2025-07-01 12:48:45,455] Trial 318 finished with value: 0.9693911531611883 and parameters: {'solver_penalty': ('newton-cholesky', 'l2'), 'C': 5.674875050885635, 'tol': 0.07198154720600784, 'fit_intercept': True, 'class_weight': 'balanced', 'threshold': 0.687}. Best is trial 152 with value: 0.9694451342678011.\n",
      "[I 2025-07-01 12:48:47,647] Trial 320 finished with value: 0.9693911385874555 and parameters: {'solver_penalty': ('newton-cholesky', 'l2'), 'C': 4.707404505440674, 'tol': 0.06995298042442591, 'fit_intercept': True, 'class_weight': 'balanced', 'threshold': 0.6970000000000001}. Best is trial 152 with value: 0.9694451342678011.\n",
      "[I 2025-07-01 12:48:48,339] Trial 322 finished with value: 0.9690133291360983 and parameters: {'solver_penalty': ('lbfgs', 'l2'), 'C': 6.182703790939457, 'tol': 0.05795571829169383, 'fit_intercept': True, 'class_weight': 'balanced', 'threshold': 0.398}. Best is trial 152 with value: 0.9694451342678011.\n",
      "[I 2025-07-01 12:48:48,708] Trial 323 finished with value: 0.9689593334557527 and parameters: {'solver_penalty': ('lbfgs', 'l2'), 'C': 4.0773522296247195, 'tol': 0.08631237521908812, 'fit_intercept': False, 'class_weight': 'balanced', 'threshold': 0.677}. Best is trial 152 with value: 0.9694451342678011.\n",
      "[I 2025-07-01 12:48:48,720] Trial 321 finished with value: 0.9419652970272498 and parameters: {'solver_penalty': ('newton-cholesky', 'l2'), 'C': 5.539621111148097, 'tol': 0.02354785901000087, 'fit_intercept': False, 'class_weight': 'balanced', 'threshold': 0.594}. Best is trial 152 with value: 0.9694451342678011.\n",
      "[I 2025-07-01 12:48:51,130] Trial 325 finished with value: 0.9692291806938845 and parameters: {'solver_penalty': ('liblinear', 'l2'), 'C': 2.9257918166121955, 'tol': 0.08339687702043577, 'fit_intercept': True, 'class_weight': None, 'threshold': 0.6799999999999999}. Best is trial 152 with value: 0.9694451342678011.\n",
      "[I 2025-07-01 12:48:51,493] Trial 324 finished with value: 0.9691752141610047 and parameters: {'solver_penalty': ('newton-cholesky', None), 'C': 2.7754650176491054, 'tol': 0.05219667465222893, 'fit_intercept': True, 'class_weight': 'balanced', 'threshold': 0.696}. Best is trial 152 with value: 0.9694451342678011.\n",
      "[I 2025-07-01 12:48:51,855] Trial 327 finished with value: 0.9690672956689781 and parameters: {'solver_penalty': ('liblinear', 'l2'), 'C': 6.684993739362854, 'tol': 0.017901835450159165, 'fit_intercept': True, 'class_weight': 'balanced', 'threshold': 0.422}. Best is trial 152 with value: 0.9694451342678011.\n",
      "[I 2025-07-01 12:48:52,964] Trial 326 finished with value: 0.9692831909479629 and parameters: {'solver_penalty': ('newton-cholesky', 'l2'), 'C': 2.7313697151247966, 'tol': 0.03654927576169959, 'fit_intercept': True, 'class_weight': 'balanced', 'threshold': 0.6910000000000001}. Best is trial 152 with value: 0.9694451342678011.\n",
      "[I 2025-07-01 12:48:54,885] Trial 328 finished with value: 0.9694451342678011 and parameters: {'solver_penalty': ('newton-cholesky', 'l2'), 'C': 3.4955216289721722, 'tol': 0.05205285640793445, 'fit_intercept': True, 'class_weight': 'balanced', 'threshold': 0.6930000000000001}. Best is trial 152 with value: 0.9694451342678011.\n",
      "[I 2025-07-01 12:48:55,106] Trial 330 finished with value: 0.9692292244150831 and parameters: {'solver_penalty': ('lbfgs', 'l2'), 'C': 2.0418215825830996, 'tol': 0.09461589532193428, 'fit_intercept': True, 'class_weight': 'balanced', 'threshold': 0.6599999999999999}. Best is trial 152 with value: 0.9694451342678011.\n",
      "[I 2025-07-01 12:48:55,446] Trial 329 finished with value: 0.9692831909479629 and parameters: {'solver_penalty': ('newton-cholesky', 'l2'), 'C': 0.6971860178755522, 'tol': 0.09924311295177943, 'fit_intercept': True, 'class_weight': 'balanced', 'threshold': 0.59}. Best is trial 152 with value: 0.9694451342678011.\n",
      "[I 2025-07-01 12:48:56,362] Trial 331 finished with value: 0.9694451342678011 and parameters: {'solver_penalty': ('newton-cholesky', 'l2'), 'C': 3.272743944738162, 'tol': 0.05082596902098749, 'fit_intercept': True, 'class_weight': 'balanced', 'threshold': 0.69}. Best is trial 152 with value: 0.9694451342678011.\n",
      "[I 2025-07-01 12:48:57,884] Trial 332 finished with value: 0.9690672665215123 and parameters: {'solver_penalty': ('liblinear', 'l2'), 'C': 8.50935679066957, 'tol': 0.0005723083015816768, 'fit_intercept': True, 'class_weight': 'balanced', 'threshold': 0.6890000000000001}. Best is trial 152 with value: 0.9694451342678011.\n",
      "[I 2025-07-01 12:48:58,088] Trial 333 finished with value: 0.9258226435002609 and parameters: {'solver_penalty': ('liblinear', 'l2'), 'C': 9.019323743940904, 'tol': 0.04006866416970731, 'fit_intercept': False, 'class_weight': None, 'threshold': 0.5860000000000001}. Best is trial 152 with value: 0.9694451342678011.\n",
      "[I 2025-07-01 12:48:59,819] Trial 334 finished with value: 0.2604729030584436 and parameters: {'solver_penalty': ('newton-cg', None), 'C': 5.440895171647546, 'tol': 0.006037547919350815, 'fit_intercept': False, 'class_weight': 'balanced', 'threshold': 0.368}. Best is trial 152 with value: 0.9694451342678011.\n",
      "[I 2025-07-01 12:49:00,182] Trial 335 finished with value: 0.9693911531611885 and parameters: {'solver_penalty': ('newton-cholesky', 'l2'), 'C': 3.434108008641703, 'tol': 0.09746277056222696, 'fit_intercept': True, 'class_weight': 'balanced', 'threshold': 0.6759999999999999}. Best is trial 152 with value: 0.9694451342678011.\n",
      "[I 2025-07-01 12:49:01,401] Trial 336 finished with value: 0.9692831909479629 and parameters: {'solver_penalty': ('newton-cholesky', 'l2'), 'C': 1.6215437105798198, 'tol': 0.0717699352902769, 'fit_intercept': True, 'class_weight': 'balanced', 'threshold': 0.619}. Best is trial 152 with value: 0.9694451342678011.\n",
      "[I 2025-07-01 12:49:01,772] Trial 337 finished with value: 0.9692292098413503 and parameters: {'solver_penalty': ('newton-cholesky', 'l2'), 'C': 2.2396547929987722, 'tol': 0.07170120527816531, 'fit_intercept': True, 'class_weight': 'balanced', 'threshold': 0.627}. Best is trial 152 with value: 0.9694451342678011.\n",
      "[I 2025-07-01 12:49:02,661] Trial 338 finished with value: 0.9692292098413503 and parameters: {'solver_penalty': ('liblinear', 'l2'), 'C': 7.211144359997702, 'tol': 0.08423835441625388, 'fit_intercept': True, 'class_weight': 'balanced', 'threshold': 0.619}. Best is trial 152 with value: 0.9694451342678011.\n",
      "[I 2025-07-01 12:49:03,727] Trial 339 finished with value: 0.9690672665215123 and parameters: {'solver_penalty': ('newton-cholesky', 'l2'), 'C': 3.5033932691820864, 'tol': 0.0830673018267904, 'fit_intercept': True, 'class_weight': 'balanced', 'threshold': 0.601}. Best is trial 152 with value: 0.9694451342678011.\n",
      "[I 2025-07-01 12:49:05,103] Trial 341 finished with value: 0.9694451342678011 and parameters: {'solver_penalty': ('newton-cholesky', 'l2'), 'C': 3.7537844663770583, 'tol': 0.06512270426433375, 'fit_intercept': True, 'class_weight': 'balanced', 'threshold': 0.687}. Best is trial 152 with value: 0.9694451342678011.\n",
      "[I 2025-07-01 12:49:05,294] Trial 340 finished with value: 0.9657738943637545 and parameters: {'solver_penalty': ('newton-cholesky', 'l2'), 'C': 2.0908599098349576, 'tol': 0.01937447418493264, 'fit_intercept': False, 'class_weight': 'balanced', 'threshold': 0.6819999999999999}. Best is trial 152 with value: 0.9694451342678011.\n",
      "[I 2025-07-01 12:49:05,853] Trial 342 finished with value: 0.9692292098413503 and parameters: {'solver_penalty': ('lbfgs', None), 'C': 2.0713659870850782, 'tol': 0.07634471452072208, 'fit_intercept': True, 'class_weight': 'balanced', 'threshold': 0.6859999999999999}. Best is trial 152 with value: 0.9694451342678011.\n",
      "[I 2025-07-01 12:49:07,221] Trial 343 finished with value: 0.9693911531611885 and parameters: {'solver_penalty': ('newton-cholesky', 'l2'), 'C': 2.4322106129223093, 'tol': 0.06435859920495074, 'fit_intercept': True, 'class_weight': 'balanced', 'threshold': 0.677}. Best is trial 152 with value: 0.9694451342678011.\n",
      "[I 2025-07-01 12:49:08,884] Trial 345 finished with value: 0.26203845716634167 and parameters: {'solver_penalty': ('newton-cholesky', 'l2'), 'C': 0.7257470655717144, 'tol': 0.09736747680212648, 'fit_intercept': False, 'class_weight': 'balanced', 'threshold': 0.36}. Best is trial 152 with value: 0.9694451342678011.\n",
      "[I 2025-07-01 12:49:08,896] Trial 344 finished with value: 0.9690672665215123 and parameters: {'solver_penalty': ('newton-cholesky', 'l2'), 'C': 4.4823997318742945, 'tol': 0.07875346128741792, 'fit_intercept': True, 'class_weight': 'balanced', 'threshold': 0.628}. Best is trial 152 with value: 0.9694451342678011.\n",
      "[I 2025-07-01 12:49:09,295] Trial 346 finished with value: 0.9694451342678011 and parameters: {'solver_penalty': ('newton-cholesky', 'l2'), 'C': 2.9356866447504886, 'tol': 0.07445662039188515, 'fit_intercept': True, 'class_weight': 'balanced', 'threshold': 0.6910000000000001}. Best is trial 152 with value: 0.9694451342678011.\n",
      "[I 2025-07-01 12:49:10,878] Trial 347 finished with value: 0.9693911385874555 and parameters: {'solver_penalty': ('newton-cholesky', 'l2'), 'C': 2.168514465916943, 'tol': 0.07601934791355419, 'fit_intercept': True, 'class_weight': 'balanced', 'threshold': 0.6930000000000001}. Best is trial 152 with value: 0.9694451342678011.\n",
      "[I 2025-07-01 12:49:12,556] Trial 348 finished with value: 0.9694451342678011 and parameters: {'solver_penalty': ('newton-cholesky', 'l2'), 'C': 3.7756223680911605, 'tol': 0.07506727201633649, 'fit_intercept': True, 'class_weight': 'balanced', 'threshold': 0.6990000000000001}. Best is trial 152 with value: 0.9694451342678011.\n",
      "[I 2025-07-01 12:49:12,561] Trial 350 finished with value: 0.9692292098413503 and parameters: {'solver_penalty': ('liblinear', 'l2'), 'C': 5.244316767160963, 'tol': 0.06936806423335765, 'fit_intercept': True, 'class_weight': 'balanced', 'threshold': 0.609}. Best is trial 152 with value: 0.9694451342678011.\n",
      "[I 2025-07-01 12:49:12,579] Trial 349 finished with value: 0.9694451342678011 and parameters: {'solver_penalty': ('newton-cholesky', 'l2'), 'C': 3.638265855278137, 'tol': 0.07882228333739835, 'fit_intercept': True, 'class_weight': 'balanced', 'threshold': 0.6819999999999999}. Best is trial 152 with value: 0.9694451342678011.\n",
      "[I 2025-07-01 12:49:14,571] Trial 351 finished with value: 0.9674476001434057 and parameters: {'solver_penalty': ('newton-cholesky', 'l2'), 'C': 1.8115101009217227, 'tol': 0.07594953687930858, 'fit_intercept': False, 'class_weight': 'balanced', 'threshold': 0.694}. Best is trial 152 with value: 0.9694451342678011.\n",
      "[I 2025-07-01 12:49:15,606] Trial 352 finished with value: 0.9692292098413503 and parameters: {'solver_penalty': ('lbfgs', None), 'C': 4.020728092093056, 'tol': 0.0971908522744373, 'fit_intercept': True, 'class_weight': 'balanced', 'threshold': 0.6739999999999999}. Best is trial 152 with value: 0.9694451342678011.\n",
      "[I 2025-07-01 12:49:15,834] Trial 353 finished with value: 0.9690672665215123 and parameters: {'solver_penalty': ('newton-cholesky', 'l2'), 'C': 4.132946890503456, 'tol': 0.09543378830722687, 'fit_intercept': True, 'class_weight': 'balanced', 'threshold': 0.608}. Best is trial 152 with value: 0.9694451342678011.\n",
      "[I 2025-07-01 12:49:16,172] Trial 354 finished with value: 0.9693911385874555 and parameters: {'solver_penalty': ('newton-cholesky', 'l2'), 'C': 6.163242525300809, 'tol': 0.0762207498159708, 'fit_intercept': True, 'class_weight': 'balanced', 'threshold': 0.696}. Best is trial 152 with value: 0.9694451342678011.\n",
      "[I 2025-07-01 12:49:18,921] Trial 357 finished with value: 0.2604729030584436 and parameters: {'solver_penalty': ('liblinear', 'l2'), 'C': 5.832985227475191, 'tol': 0.06276837750012379, 'fit_intercept': False, 'class_weight': 'balanced', 'threshold': 0.363}. Best is trial 152 with value: 0.9694451342678011.\n",
      "[I 2025-07-01 12:49:19,126] Trial 355 finished with value: 0.9692831909479629 and parameters: {'solver_penalty': ('newton-cg', None), 'C': 4.085032775396461, 'tol': 0.06986470225639639, 'fit_intercept': True, 'class_weight': 'balanced', 'threshold': 0.647}. Best is trial 152 with value: 0.9694451342678011.\n",
      "[I 2025-07-01 12:49:19,324] Trial 358 finished with value: 0.9692831618004971 and parameters: {'solver_penalty': ('newton-cholesky', 'l2'), 'C': 3.516843289838794, 'tol': 0.06953849946439222, 'fit_intercept': True, 'class_weight': None, 'threshold': 0.648}. Best is trial 152 with value: 0.9694451342678011.\n",
      "[I 2025-07-01 12:49:19,544] Trial 356 finished with value: 0.9692292098413503 and parameters: {'solver_penalty': ('newton-cg', None), 'C': 4.057612267850679, 'tol': 0.0682484750176069, 'fit_intercept': True, 'class_weight': 'balanced', 'threshold': 0.677}. Best is trial 152 with value: 0.9694451342678011.\n",
      "[I 2025-07-01 12:49:22,135] Trial 359 finished with value: 0.8789103948607189 and parameters: {'solver_penalty': ('newton-cholesky', 'l2'), 'C': 8.779582417733216, 'tol': 0.09268873475148419, 'fit_intercept': False, 'class_weight': None, 'threshold': 0.46599999999999997}. Best is trial 152 with value: 0.9694451342678011.\n",
      "[I 2025-07-01 12:49:22,631] Trial 361 finished with value: 0.9692291806938848 and parameters: {'solver_penalty': ('liblinear', 'l2'), 'C': 1.535188102348072, 'tol': 0.08263100268256615, 'fit_intercept': True, 'class_weight': 'balanced', 'threshold': 0.6970000000000001}. Best is trial 152 with value: 0.9694451342678011.\n",
      "[I 2025-07-01 12:49:22,864] Trial 362 finished with value: 0.9692291806938845 and parameters: {'solver_penalty': ('liblinear', 'l2'), 'C': 3.984100567370254, 'tol': 0.03624669351653414, 'fit_intercept': True, 'class_weight': None, 'threshold': 0.638}. Best is trial 152 with value: 0.9694451342678011.\n",
      "[I 2025-07-01 12:49:23,069] Trial 360 finished with value: 0.9690672665215123 and parameters: {'solver_penalty': ('newton-cholesky', 'l2'), 'C': 3.629938995478894, 'tol': 0.05064512317927073, 'fit_intercept': True, 'class_weight': 'balanced', 'threshold': 0.61}. Best is trial 152 with value: 0.9694451342678011.\n",
      "[I 2025-07-01 12:49:25,293] Trial 363 finished with value: 0.96847345977504 and parameters: {'solver_penalty': ('liblinear', 'l2'), 'C': 2.12851960301632, 'tol': 0.05343645696823765, 'fit_intercept': False, 'class_weight': 'balanced', 'threshold': 0.64}. Best is trial 152 with value: 0.9694451342678011.\n",
      "[I 2025-07-01 12:49:26,171] Trial 365 finished with value: 0.6935837537855272 and parameters: {'solver_penalty': ('newton-cholesky', 'l2'), 'C': 3.8190089600592363, 'tol': 0.046924133119404354, 'fit_intercept': False, 'class_weight': None, 'threshold': 0.395}. Best is trial 152 with value: 0.9694451342678011.\n",
      "[I 2025-07-01 12:49:26,183] Trial 364 finished with value: 0.9694451342678011 and parameters: {'solver_penalty': ('newton-cholesky', 'l2'), 'C': 3.887127995839356, 'tol': 0.09794380416088996, 'fit_intercept': True, 'class_weight': 'balanced', 'threshold': 0.696}. Best is trial 152 with value: 0.9694451342678011.\n",
      "[I 2025-07-01 12:49:26,922] Trial 366 finished with value: 0.9694451342678011 and parameters: {'solver_penalty': ('newton-cholesky', 'l2'), 'C': 4.257763514481755, 'tol': 0.0883924228246993, 'fit_intercept': True, 'class_weight': 'balanced', 'threshold': 0.6890000000000001}. Best is trial 152 with value: 0.9694451342678011.\n",
      "[I 2025-07-01 12:49:29,290] Trial 368 finished with value: 0.9688513566687945 and parameters: {'solver_penalty': ('lbfgs', None), 'C': 6.288460273037325, 'tol': 0.0040667624416699175, 'fit_intercept': False, 'class_weight': None, 'threshold': 0.615}. Best is trial 152 with value: 0.9694451342678011.\n",
      "[I 2025-07-01 12:49:29,315] Trial 367 finished with value: 0.9693911385874555 and parameters: {'solver_penalty': ('newton-cholesky', 'l2'), 'C': 5.245321422364485, 'tol': 0.06275595454555864, 'fit_intercept': True, 'class_weight': 'balanced', 'threshold': 0.698}. Best is trial 152 with value: 0.9694451342678011.\n",
      "[I 2025-07-01 12:49:30,224] Trial 370 finished with value: 0.9690132854148995 and parameters: {'solver_penalty': ('liblinear', 'l1'), 'C': 9.730184209896894, 'tol': 0.01717118993296815, 'fit_intercept': True, 'class_weight': 'balanced', 'threshold': 0.46499999999999997}. Best is trial 152 with value: 0.9694451342678011.\n",
      "[I 2025-07-01 12:49:30,242] Trial 369 finished with value: 0.9693911531611883 and parameters: {'solver_penalty': ('newton-cholesky', 'l2'), 'C': 5.4365337009062005, 'tol': 0.0473929586993589, 'fit_intercept': True, 'class_weight': 'balanced', 'threshold': 0.6839999999999999}. Best is trial 152 with value: 0.9694451342678011.\n",
      "[I 2025-07-01 12:49:31,798] Trial 372 finished with value: 0.2604729030584436 and parameters: {'solver_penalty': ('lbfgs', None), 'C': 5.046311120905977, 'tol': 0.025805846109733077, 'fit_intercept': False, 'class_weight': None, 'threshold': 0.303}. Best is trial 152 with value: 0.9694451342678011.\n",
      "[I 2025-07-01 12:49:33,338] Trial 373 finished with value: 0.9626431067700819 and parameters: {'solver_penalty': ('lbfgs', 'l2'), 'C': 5.147422579700744, 'tol': 0.06337257262987199, 'fit_intercept': True, 'class_weight': None, 'threshold': 0.69}. Best is trial 152 with value: 0.9694451342678011.\n",
      "[I 2025-07-01 12:49:33,526] Trial 371 finished with value: 0.9691212476281249 and parameters: {'solver_penalty': ('newton-cholesky', 'l2'), 'C': 5.667975413742206, 'tol': 0.05271812312614321, 'fit_intercept': True, 'class_weight': 'balanced', 'threshold': 0.642}. Best is trial 152 with value: 0.9694451342678011.\n",
      "[I 2025-07-01 12:49:33,940] Trial 374 finished with value: 0.9689053523491399 and parameters: {'solver_penalty': ('lbfgs', None), 'C': 9.160352218632283, 'tol': 0.07800570364735172, 'fit_intercept': False, 'class_weight': 'balanced', 'threshold': 0.655}. Best is trial 152 with value: 0.9694451342678011.\n",
      "[I 2025-07-01 12:49:35,564] Trial 375 finished with value: 0.9690133291360983 and parameters: {'solver_penalty': ('lbfgs', None), 'C': 5.601754173675407, 'tol': 0.041609110298057514, 'fit_intercept': True, 'class_weight': 'balanced', 'threshold': 0.34299999999999997}. Best is trial 152 with value: 0.9694451342678011.\n",
      "[I 2025-07-01 12:49:36,616] Trial 376 finished with value: 0.9693911385874555 and parameters: {'solver_penalty': ('newton-cholesky', 'l2'), 'C': 2.04063972448576, 'tol': 0.09955740036773254, 'fit_intercept': True, 'class_weight': 'balanced', 'threshold': 0.692}. Best is trial 152 with value: 0.9694451342678011.\n",
      "[I 2025-07-01 12:49:36,803] Trial 377 finished with value: 0.9691752287347377 and parameters: {'solver_penalty': ('newton-cholesky', 'l2'), 'C': 3.1579743408121455, 'tol': 0.06181963413480989, 'fit_intercept': True, 'class_weight': 'balanced', 'threshold': 0.625}. Best is trial 152 with value: 0.9694451342678011.\n",
      "[I 2025-07-01 12:49:37,354] Trial 378 finished with value: 0.9693911385874555 and parameters: {'solver_penalty': ('newton-cholesky', 'l2'), 'C': 4.732033981185112, 'tol': 0.061502383021241995, 'fit_intercept': True, 'class_weight': 'balanced', 'threshold': 0.7}. Best is trial 152 with value: 0.9694451342678011.\n",
      "[I 2025-07-01 12:49:39,567] Trial 381 finished with value: 0.9691751995872719 and parameters: {'solver_penalty': ('liblinear', 'l1'), 'C': 7.581938167575158, 'tol': 0.057295111278995704, 'fit_intercept': True, 'class_weight': None, 'threshold': 0.427}. Best is trial 152 with value: 0.9694451342678011.\n",
      "[I 2025-07-01 12:49:40,114] Trial 379 finished with value: 0.9689593334557527 and parameters: {'solver_penalty': ('newton-cg', None), 'C': 1.8218704168115019, 'tol': 0.08686591079752895, 'fit_intercept': True, 'class_weight': 'balanced', 'threshold': 0.479}. Best is trial 152 with value: 0.9694451342678011.\n",
      "[I 2025-07-01 12:49:40,500] Trial 380 finished with value: 0.9690672665215123 and parameters: {'solver_penalty': ('newton-cholesky', 'l2'), 'C': 4.505669039171291, 'tol': 0.07091501845608052, 'fit_intercept': True, 'class_weight': 'balanced', 'threshold': 0.633}. Best is trial 152 with value: 0.9694451342678011.\n",
      "[I 2025-07-01 12:49:40,696] Trial 382 finished with value: 0.9692292098413503 and parameters: {'solver_penalty': ('lbfgs', 'l2'), 'C': 4.8275983303532515, 'tol': 0.08237814552428857, 'fit_intercept': True, 'class_weight': 'balanced', 'threshold': 0.6950000000000001}. Best is trial 152 with value: 0.9694451342678011.\n",
      "[I 2025-07-01 12:49:43,570] Trial 384 finished with value: 0.9693911385874555 and parameters: {'solver_penalty': ('newton-cholesky', 'l2'), 'C': 1.9879801918326696, 'tol': 0.05588138779107438, 'fit_intercept': True, 'class_weight': 'balanced', 'threshold': 0.6859999999999999}. Best is trial 152 with value: 0.9694451342678011.\n",
      "[I 2025-07-01 12:49:43,762] Trial 383 finished with value: 0.9692292098413503 and parameters: {'solver_penalty': ('newton-cg', 'l2'), 'C': 4.499648718100236, 'tol': 0.07250815544151264, 'fit_intercept': True, 'class_weight': 'balanced', 'threshold': 0.63}. Best is trial 152 with value: 0.9694451342678011.\n",
      "[I 2025-07-01 12:49:43,985] Trial 386 finished with value: 0.9693371720545759 and parameters: {'solver_penalty': ('newton-cholesky', 'l2'), 'C': 2.486447813013442, 'tol': 0.05983566757415229, 'fit_intercept': True, 'class_weight': 'balanced', 'threshold': 0.641}. Best is trial 152 with value: 0.9694451342678011.\n",
      "[I 2025-07-01 12:49:44,183] Trial 385 finished with value: 0.9694451342678011 and parameters: {'solver_penalty': ('newton-cholesky', 'l2'), 'C': 4.555887165631854, 'tol': 0.07263534138162159, 'fit_intercept': True, 'class_weight': 'balanced', 'threshold': 0.6950000000000001}. Best is trial 152 with value: 0.9694451342678011.\n",
      "[I 2025-07-01 12:49:46,734] Trial 388 finished with value: 0.9459604089972398 and parameters: {'solver_penalty': ('newton-cholesky', 'l2'), 'C': 2.381627646189906, 'tol': 0.09632536549666501, 'fit_intercept': False, 'class_weight': None, 'threshold': 0.603}. Best is trial 152 with value: 0.9694451342678011.\n",
      "[I 2025-07-01 12:49:47,084] Trial 389 finished with value: 0.9692292098413503 and parameters: {'solver_penalty': ('liblinear', 'l2'), 'C': 0.37213767209070525, 'tol': 0.08730227642331088, 'fit_intercept': True, 'class_weight': None, 'threshold': 0.357}. Best is trial 152 with value: 0.9694451342678011.\n",
      "[I 2025-07-01 12:49:47,289] Trial 387 finished with value: 0.9693911531611885 and parameters: {'solver_penalty': ('newton-cholesky', 'l2'), 'C': 3.43972060082963, 'tol': 0.0759652538962805, 'fit_intercept': True, 'class_weight': 'balanced', 'threshold': 0.667}. Best is trial 152 with value: 0.9694451342678011.\n",
      "[I 2025-07-01 12:49:48,064] Trial 390 finished with value: 0.9690672810952453 and parameters: {'solver_penalty': ('newton-cg', 'l2'), 'C': 7.260634012296881, 'tol': 0.04273914011047011, 'fit_intercept': True, 'class_weight': None, 'threshold': 0.313}. Best is trial 152 with value: 0.9694451342678011.\n",
      "[I 2025-07-01 12:49:50,394] Trial 391 finished with value: 0.9519537109096049 and parameters: {'solver_penalty': ('newton-cholesky', None), 'C': 1.433757913350048, 'tol': 0.03127597899469217, 'fit_intercept': False, 'class_weight': None, 'threshold': 0.577}. Best is trial 152 with value: 0.9694451342678011.\n",
      "[I 2025-07-01 12:49:50,639] Trial 393 finished with value: 0.9692291806938845 and parameters: {'solver_penalty': ('lbfgs', 'l2'), 'C': 9.580516332533541, 'tol': 0.005442510197793807, 'fit_intercept': True, 'class_weight': None, 'threshold': 0.62}. Best is trial 152 with value: 0.9694451342678011.\n",
      "[I 2025-07-01 12:49:50,842] Trial 392 finished with value: 0.9694451342678011 and parameters: {'solver_penalty': ('newton-cholesky', 'l2'), 'C': 2.8622711692782428, 'tol': 0.07622284933258691, 'fit_intercept': True, 'class_weight': 'balanced', 'threshold': 0.694}. Best is trial 152 with value: 0.9694451342678011.\n",
      "[I 2025-07-01 12:49:51,928] Trial 394 finished with value: 0.9692292098413503 and parameters: {'solver_penalty': ('newton-cholesky', None), 'C': 2.7090840798031595, 'tol': 0.07192515001569234, 'fit_intercept': True, 'class_weight': 'balanced', 'threshold': 0.667}. Best is trial 152 with value: 0.9694451342678011.\n",
      "[I 2025-07-01 12:49:53,784] Trial 396 finished with value: 0.9691212039069264 and parameters: {'solver_penalty': ('newton-cholesky', 'l2'), 'C': 7.250017532270823, 'tol': 0.05947330814834105, 'fit_intercept': True, 'class_weight': None, 'threshold': 0.7}. Best is trial 152 with value: 0.9694451342678011.\n",
      "[I 2025-07-01 12:49:54,131] Trial 397 finished with value: 0.9692292098413503 and parameters: {'solver_penalty': ('lbfgs', 'l2'), 'C': 4.433290374805877, 'tol': 0.05761386996863812, 'fit_intercept': True, 'class_weight': 'balanced', 'threshold': 0.696}. Best is trial 152 with value: 0.9694451342678011.\n",
      "[I 2025-07-01 12:49:54,343] Trial 395 finished with value: 0.9690673102427109 and parameters: {'solver_penalty': ('newton-cholesky', 'l2'), 'C': 8.205230402966915, 'tol': 0.04685785386803766, 'fit_intercept': True, 'class_weight': 'balanced', 'threshold': 0.505}. Best is trial 152 with value: 0.9694451342678011.\n",
      "[I 2025-07-01 12:49:56,066] Trial 398 finished with value: 0.9694451342678011 and parameters: {'solver_penalty': ('newton-cholesky', 'l2'), 'C': 3.080994726229601, 'tol': 0.08219886958895566, 'fit_intercept': True, 'class_weight': 'balanced', 'threshold': 0.698}. Best is trial 152 with value: 0.9694451342678011.\n",
      "[I 2025-07-01 12:49:57,193] Trial 399 finished with value: 0.9692291952676175 and parameters: {'solver_penalty': ('liblinear', 'l2'), 'C': 3.2463966330032643, 'tol': 0.04346080967631596, 'fit_intercept': True, 'class_weight': 'balanced', 'threshold': 0.6699999999999999}. Best is trial 152 with value: 0.9694451342678011.\n",
      "[I 2025-07-01 12:49:57,757] Trial 401 finished with value: 0.9692292098413503 and parameters: {'solver_penalty': ('liblinear', 'l2'), 'C': 2.9332211424432284, 'tol': 0.0474493477863049, 'fit_intercept': True, 'class_weight': 'balanced', 'threshold': 0.6639999999999999}. Best is trial 152 with value: 0.9694451342678011.\n",
      "[I 2025-07-01 12:49:58,129] Trial 400 finished with value: 0.9694451342678011 and parameters: {'solver_penalty': ('newton-cholesky', 'l2'), 'C': 2.645986855529497, 'tol': 0.06147598501560505, 'fit_intercept': True, 'class_weight': 'balanced', 'threshold': 0.687}. Best is trial 152 with value: 0.9694451342678011.\n",
      "[I 2025-07-01 12:49:59,097] Trial 402 finished with value: 0.9691751995872719 and parameters: {'solver_penalty': ('liblinear', 'l2'), 'C': 6.498542103753847, 'tol': 0.06365877294452409, 'fit_intercept': True, 'class_weight': 'balanced', 'threshold': 0.6859999999999999}. Best is trial 152 with value: 0.9694451342678011.\n",
      "[I 2025-07-01 12:50:01,174] Trial 403 finished with value: 0.9689053523491399 and parameters: {'solver_penalty': ('lbfgs', 'l2'), 'C': 2.63481007372738, 'tol': 0.008956716832094029, 'fit_intercept': True, 'class_weight': 'balanced', 'threshold': 0.374}. Best is trial 152 with value: 0.9694451342678011.\n",
      "[I 2025-07-01 12:50:01,368] Trial 404 finished with value: 0.9689593334557527 and parameters: {'solver_penalty': ('lbfgs', 'l2'), 'C': 2.95690736977442, 'tol': 0.09905232247791249, 'fit_intercept': True, 'class_weight': 'balanced', 'threshold': 0.33999999999999997}. Best is trial 152 with value: 0.9694451342678011.\n",
      "[I 2025-07-01 12:50:02,274] Trial 405 finished with value: 0.9691751995872719 and parameters: {'solver_penalty': ('newton-cg', None), 'C': 3.898501395322316, 'tol': 0.09812352322777046, 'fit_intercept': True, 'class_weight': 'balanced', 'threshold': 0.698}. Best is trial 152 with value: 0.9694451342678011.\n",
      "[I 2025-07-01 12:50:02,654] Trial 406 finished with value: 0.9690672665215123 and parameters: {'solver_penalty': ('newton-cholesky', 'l2'), 'C': 4.885412528297027, 'tol': 0.09964584685159755, 'fit_intercept': True, 'class_weight': 'balanced', 'threshold': 0.625}. Best is trial 152 with value: 0.9694451342678011.\n",
      "[I 2025-07-01 12:50:04,941] Trial 408 finished with value: 0.2604729030584436 and parameters: {'solver_penalty': ('newton-cg', None), 'C': 6.584222921134653, 'tol': 0.04976392190069025, 'fit_intercept': False, 'class_weight': 'balanced', 'threshold': 0.481}. Best is trial 152 with value: 0.9694451342678011.\n",
      "[I 2025-07-01 12:50:04,961] Trial 407 finished with value: 0.9644243666984373 and parameters: {'solver_penalty': ('newton-cholesky', 'l2'), 'C': 4.502332423150597, 'tol': 0.04203488180436309, 'fit_intercept': False, 'class_weight': 'balanced', 'threshold': 0.6699999999999999}. Best is trial 152 with value: 0.9694451342678011.\n",
      "[I 2025-07-01 12:50:05,620] Trial 409 finished with value: 0.9691751995872719 and parameters: {'solver_penalty': ('lbfgs', 'l2'), 'C': 2.1426814494658206, 'tol': 0.007380942079880541, 'fit_intercept': True, 'class_weight': None, 'threshold': 0.47}. Best is trial 152 with value: 0.9694451342678011.\n",
      "[I 2025-07-01 12:50:06,499] Trial 410 finished with value: 0.9694451342678011 and parameters: {'solver_penalty': ('newton-cholesky', 'l2'), 'C': 3.398920540525662, 'tol': 0.054291945311010475, 'fit_intercept': True, 'class_weight': 'balanced', 'threshold': 0.696}. Best is trial 152 with value: 0.9694451342678011.\n",
      "[I 2025-07-01 12:50:08,544] Trial 411 finished with value: 0.9662599575029949 and parameters: {'solver_penalty': ('newton-cholesky', 'l2'), 'C': 3.9527000385436875, 'tol': 0.0658698384011115, 'fit_intercept': False, 'class_weight': 'balanced', 'threshold': 0.6990000000000001}. Best is trial 152 with value: 0.9694451342678011.\n",
      "[I 2025-07-01 12:50:08,552] Trial 412 finished with value: 0.9693371720545756 and parameters: {'solver_penalty': ('newton-cholesky', 'l2'), 'C': 4.41805887991251, 'tol': 0.047154730770547375, 'fit_intercept': True, 'class_weight': 'balanced', 'threshold': 0.675}. Best is trial 152 with value: 0.9694451342678011.\n",
      "[I 2025-07-01 12:50:09,153] Trial 413 finished with value: 0.9694451342678011 and parameters: {'solver_penalty': ('newton-cholesky', 'l2'), 'C': 4.347726770317404, 'tol': 0.043470563981514374, 'fit_intercept': True, 'class_weight': 'balanced', 'threshold': 0.696}. Best is trial 152 with value: 0.9694451342678011.\n",
      "[I 2025-07-01 12:50:10,046] Trial 414 finished with value: 0.9694451342678011 and parameters: {'solver_penalty': ('newton-cholesky', 'l2'), 'C': 5.040910904920329, 'tol': 0.07527588756934368, 'fit_intercept': True, 'class_weight': 'balanced', 'threshold': 0.6910000000000001}. Best is trial 152 with value: 0.9694451342678011.\n",
      "[I 2025-07-01 12:50:11,921] Trial 415 finished with value: 0.9693911385874555 and parameters: {'solver_penalty': ('newton-cholesky', 'l2'), 'C': 5.245682691254307, 'tol': 0.08436698744781905, 'fit_intercept': True, 'class_weight': 'balanced', 'threshold': 0.6990000000000001}. Best is trial 152 with value: 0.9694451342678011.\n",
      "[I 2025-07-01 12:50:12,301] Trial 417 finished with value: 0.9692291806938845 and parameters: {'solver_penalty': ('newton-cg', 'l2'), 'C': 5.8882818471922835, 'tol': 0.09806655351533614, 'fit_intercept': True, 'class_weight': None, 'threshold': 0.61}. Best is trial 152 with value: 0.9694451342678011.\n",
      "[I 2025-07-01 12:50:12,680] Trial 416 finished with value: 0.9692291806938845 and parameters: {'solver_penalty': ('newton-cg', 'l2'), 'C': 7.353674698570597, 'tol': 0.016799484607498194, 'fit_intercept': True, 'class_weight': None, 'threshold': 0.6819999999999999}. Best is trial 152 with value: 0.9694451342678011.\n",
      "[I 2025-07-01 12:50:13,393] Trial 418 finished with value: 0.9692292098413503 and parameters: {'solver_penalty': ('lbfgs', None), 'C': 4.469554633729179, 'tol': 0.0701683274707475, 'fit_intercept': True, 'class_weight': 'balanced', 'threshold': 0.6799999999999999}. Best is trial 152 with value: 0.9694451342678011.\n",
      "[I 2025-07-01 12:50:15,621] Trial 420 finished with value: 0.9692291952676175 and parameters: {'solver_penalty': ('liblinear', 'l1'), 'C': 2.7535694193504994, 'tol': 0.09253810270287442, 'fit_intercept': True, 'class_weight': 'balanced', 'threshold': 0.681}. Best is trial 152 with value: 0.9694451342678011.\n",
      "[I 2025-07-01 12:50:15,980] Trial 419 finished with value: 0.9692831909479629 and parameters: {'solver_penalty': ('newton-cholesky', 'l2'), 'C': 3.690673550865123, 'tol': 0.08343860237189987, 'fit_intercept': True, 'class_weight': 'balanced', 'threshold': 0.642}. Best is trial 152 with value: 0.9694451342678011.\n",
      "[I 2025-07-01 12:50:16,528] Trial 422 finished with value: 0.968851298373863 and parameters: {'solver_penalty': ('lbfgs', 'l2'), 'C': 9.926839821445704, 'tol': 0.07118047246276259, 'fit_intercept': True, 'class_weight': None, 'threshold': 0.521}. Best is trial 152 with value: 0.9694451342678011.\n",
      "[I 2025-07-01 12:50:16,546] Trial 421 finished with value: 0.9690672665215123 and parameters: {'solver_penalty': ('newton-cholesky', 'l2'), 'C': 2.6154263787593024, 'tol': 0.07690944426361801, 'fit_intercept': True, 'class_weight': 'balanced', 'threshold': 0.603}. Best is trial 152 with value: 0.9694451342678011.\n",
      "[I 2025-07-01 12:50:19,026] Trial 423 finished with value: 0.9691212476281249 and parameters: {'solver_penalty': ('newton-cholesky', 'l2'), 'C': 2.686912477659025, 'tol': 0.09069746222596775, 'fit_intercept': True, 'class_weight': 'balanced', 'threshold': 0.615}. Best is trial 152 with value: 0.9694451342678011.\n",
      "[I 2025-07-01 12:50:19,527] Trial 424 finished with value: 0.9694451342678011 and parameters: {'solver_penalty': ('newton-cholesky', 'l2'), 'C': 2.897748005933356, 'tol': 0.08970349056079605, 'fit_intercept': True, 'class_weight': 'balanced', 'threshold': 0.694}. Best is trial 152 with value: 0.9694451342678011.\n",
      "[I 2025-07-01 12:50:19,939] Trial 426 finished with value: 0.9693911385874555 and parameters: {'solver_penalty': ('newton-cholesky', 'l2'), 'C': 2.2354752764903116, 'tol': 0.07969017723552735, 'fit_intercept': True, 'class_weight': 'balanced', 'threshold': 0.6970000000000001}. Best is trial 152 with value: 0.9694451342678011.\n",
      "[I 2025-07-01 12:50:20,512] Trial 425 finished with value: 0.8691943786197509 and parameters: {'solver_penalty': ('newton-cholesky', None), 'C': 2.0717384979761766, 'tol': 0.011659899845385173, 'fit_intercept': False, 'class_weight': 'balanced', 'threshold': 0.358}. Best is trial 152 with value: 0.9694451342678011.\n",
      "[I 2025-07-01 12:50:22,594] Trial 427 finished with value: 0.9694451342678011 and parameters: {'solver_penalty': ('newton-cholesky', 'l2'), 'C': 3.5624036575290314, 'tol': 0.06189071935600243, 'fit_intercept': True, 'class_weight': 'balanced', 'threshold': 0.7}. Best is trial 152 with value: 0.9694451342678011.\n",
      "[I 2025-07-01 12:50:22,786] Trial 428 finished with value: 0.9694451342678011 and parameters: {'solver_penalty': ('newton-cholesky', 'l2'), 'C': 3.6895696528910555, 'tol': 0.06571819035832342, 'fit_intercept': True, 'class_weight': 'balanced', 'threshold': 0.688}. Best is trial 152 with value: 0.9694451342678011.\n",
      "[I 2025-07-01 12:50:23,688] Trial 429 finished with value: 0.9487143927271244 and parameters: {'solver_penalty': ('newton-cholesky', None), 'C': 9.821466173298559, 'tol': 0.028892190610419102, 'fit_intercept': False, 'class_weight': 'balanced', 'threshold': 0.569}. Best is trial 152 with value: 0.9694451342678011.\n",
      "[I 2025-07-01 12:50:24,225] Trial 430 finished with value: 0.9691751995872719 and parameters: {'solver_penalty': ('newton-cg', 'l2'), 'C': 9.6551560704852, 'tol': 0.01985292579550721, 'fit_intercept': True, 'class_weight': None, 'threshold': 0.481}. Best is trial 152 with value: 0.9694451342678011.\n",
      "[I 2025-07-01 12:50:25,768] Trial 431 finished with value: 0.2604729030584436 and parameters: {'solver_penalty': ('newton-cg', 'l2'), 'C': 9.055166482409454, 'tol': 0.02398890515204643, 'fit_intercept': False, 'class_weight': None, 'threshold': 0.33999999999999997}. Best is trial 152 with value: 0.9694451342678011.\n",
      "[I 2025-07-01 12:50:26,133] Trial 432 finished with value: 0.9655582759856944 and parameters: {'solver_penalty': ('lbfgs', None), 'C': 4.422175987845997, 'tol': 0.09189265854770273, 'fit_intercept': False, 'class_weight': 'balanced', 'threshold': 0.5700000000000001}. Best is trial 152 with value: 0.9694451342678011.\n",
      "[I 2025-07-01 12:50:27,351] Trial 434 finished with value: 0.2604729030584436 and parameters: {'solver_penalty': ('liblinear', 'l1'), 'C': 7.982873708398987, 'tol': 0.042397806632701825, 'fit_intercept': False, 'class_weight': 'balanced', 'threshold': 0.32999999999999996}. Best is trial 152 with value: 0.9694451342678011.\n",
      "[I 2025-07-01 12:50:28,064] Trial 433 finished with value: 0.9691212476281249 and parameters: {'solver_penalty': ('newton-cholesky', 'l2'), 'C': 4.814890643359684, 'tol': 0.06951637888926314, 'fit_intercept': True, 'class_weight': 'balanced', 'threshold': 0.637}. Best is trial 152 with value: 0.9694451342678011.\n",
      "[I 2025-07-01 12:50:29,177] Trial 435 finished with value: 0.4496309930833064 and parameters: {'solver_penalty': ('liblinear', 'l1'), 'C': 4.141693548867398, 'tol': 0.06697703684336401, 'fit_intercept': False, 'class_weight': 'balanced', 'threshold': 0.515}. Best is trial 152 with value: 0.9694451342678011.\n",
      "[I 2025-07-01 12:50:29,735] Trial 436 finished with value: 0.9691212039069264 and parameters: {'solver_penalty': ('newton-cholesky', 'l2'), 'C': 4.646318058315492, 'tol': 0.0699337151353053, 'fit_intercept': True, 'class_weight': None, 'threshold': 0.6930000000000001}. Best is trial 152 with value: 0.9694451342678011.\n",
      "[I 2025-07-01 12:50:30,459] Trial 437 finished with value: 0.6948251297790913 and parameters: {'solver_penalty': ('liblinear', 'l2'), 'C': 2.899526794290214, 'tol': 0.004344512943911423, 'fit_intercept': False, 'class_weight': None, 'threshold': 0.411}. Best is trial 152 with value: 0.9694451342678011.\n",
      "[I 2025-07-01 12:50:31,872] Trial 438 finished with value: 0.9694451342678011 and parameters: {'solver_penalty': ('newton-cholesky', 'l2'), 'C': 4.754499833841059, 'tol': 0.07795667403238093, 'fit_intercept': True, 'class_weight': 'balanced', 'threshold': 0.6910000000000001}. Best is trial 152 with value: 0.9694451342678011.\n",
      "[I 2025-07-01 12:50:32,898] Trial 439 finished with value: 0.9694451342678011 and parameters: {'solver_penalty': ('newton-cholesky', 'l2'), 'C': 4.64200093324631, 'tol': 0.08442813316405887, 'fit_intercept': True, 'class_weight': 'balanced', 'threshold': 0.679}. Best is trial 152 with value: 0.9694451342678011.\n",
      "[I 2025-07-01 12:50:33,757] Trial 441 finished with value: 0.2604729030584436 and parameters: {'solver_penalty': ('newton-cg', None), 'C': 0.11652577066813219, 'tol': 0.08428381014227324, 'fit_intercept': False, 'class_weight': None, 'threshold': 0.375}. Best is trial 152 with value: 0.9694451342678011.\n",
      "[I 2025-07-01 12:50:33,784] Trial 440 finished with value: 0.9694451342678011 and parameters: {'solver_penalty': ('newton-cholesky', 'l2'), 'C': 4.368903714614528, 'tol': 0.0855651924664804, 'fit_intercept': True, 'class_weight': 'balanced', 'threshold': 0.683}. Best is trial 152 with value: 0.9694451342678011.\n",
      "[I 2025-07-01 12:50:35,347] Trial 442 finished with value: 0.9540589886412325 and parameters: {'solver_penalty': ('newton-cholesky', 'l2'), 'C': 3.90349459968981, 'tol': 0.04933826672917785, 'fit_intercept': False, 'class_weight': None, 'threshold': 0.675}. Best is trial 152 with value: 0.9694451342678011.\n",
      "[I 2025-07-01 12:50:36,245] Trial 443 finished with value: 0.9692292098413503 and parameters: {'solver_penalty': ('liblinear', 'l2'), 'C': 3.2769819126905655, 'tol': 0.07949564373341994, 'fit_intercept': True, 'class_weight': 'balanced', 'threshold': 0.627}. Best is trial 152 with value: 0.9694451342678011.\n",
      "[I 2025-07-01 12:50:36,756] Trial 444 finished with value: 0.9664220465601618 and parameters: {'solver_penalty': ('lbfgs', None), 'C': 8.0394196577181, 'tol': 0.08448071650931496, 'fit_intercept': True, 'class_weight': None, 'threshold': 0.641}. Best is trial 152 with value: 0.9694451342678011.\n",
      "[I 2025-07-01 12:50:37,521] Trial 445 finished with value: 0.9693371720545759 and parameters: {'solver_penalty': ('newton-cholesky', 'l2'), 'C': 1.9946147238675578, 'tol': 0.054174594825883764, 'fit_intercept': True, 'class_weight': 'balanced', 'threshold': 0.645}. Best is trial 152 with value: 0.9694451342678011.\n",
      "[I 2025-07-01 12:50:38,907] Trial 446 finished with value: 0.9692291806938845 and parameters: {'solver_penalty': ('newton-cg', 'l2'), 'C': 4.04304548748663, 'tol': 0.0512949013291972, 'fit_intercept': True, 'class_weight': None, 'threshold': 0.677}. Best is trial 152 with value: 0.9694451342678011.\n",
      "[I 2025-07-01 12:50:39,802] Trial 447 finished with value: 0.9692831763742301 and parameters: {'solver_penalty': ('newton-cholesky', 'l2'), 'C': 0.7376240523716739, 'tol': 0.05780723192648686, 'fit_intercept': True, 'class_weight': 'balanced', 'threshold': 0.7}. Best is trial 152 with value: 0.9694451342678011.\n",
      "[I 2025-07-01 12:50:40,385] Trial 448 finished with value: 0.9691212767755907 and parameters: {'solver_penalty': ('newton-cholesky', 'l2'), 'C': 4.404028917471697, 'tol': 0.03704580549605843, 'fit_intercept': True, 'class_weight': 'balanced', 'threshold': 0.5700000000000001}. Best is trial 152 with value: 0.9694451342678011.\n",
      "[I 2025-07-01 12:50:41,276] Trial 449 finished with value: 0.9690672665215123 and parameters: {'solver_penalty': ('newton-cholesky', 'l2'), 'C': 4.3007139397858065, 'tol': 0.06561523675360757, 'fit_intercept': True, 'class_weight': 'balanced', 'threshold': 0.618}. Best is trial 152 with value: 0.9694451342678011.\n",
      "[I 2025-07-01 12:50:42,353] Trial 450 finished with value: 0.9692831909479629 and parameters: {'solver_penalty': ('newton-cholesky', 'l2'), 'C': 3.9643897905124468, 'tol': 0.052798807190308564, 'fit_intercept': True, 'class_weight': 'balanced', 'threshold': 0.657}. Best is trial 152 with value: 0.9694451342678011.\n",
      "[I 2025-07-01 12:50:43,083] Trial 451 finished with value: 0.9689593334557527 and parameters: {'solver_penalty': ('newton-cg', None), 'C': 4.174648873671311, 'tol': 0.054772536783212665, 'fit_intercept': False, 'class_weight': 'balanced', 'threshold': 0.6559999999999999}. Best is trial 152 with value: 0.9694451342678011.\n",
      "[I 2025-07-01 12:50:44,797] Trial 453 finished with value: 0.9691752578822033 and parameters: {'solver_penalty': ('newton-cholesky', None), 'C': 9.96475396669385, 'tol': 0.08638679343557469, 'fit_intercept': True, 'class_weight': 'balanced', 'threshold': 0.579}. Best is trial 152 with value: 0.9694451342678011.\n",
      "[I 2025-07-01 12:50:44,812] Trial 452 finished with value: 0.9692292098413503 and parameters: {'solver_penalty': ('newton-cg', None), 'C': 6.552422556008715, 'tol': 0.08259785346830864, 'fit_intercept': True, 'class_weight': 'balanced', 'threshold': 0.6759999999999999}. Best is trial 152 with value: 0.9694451342678011.\n",
      "[I 2025-07-01 12:50:45,397] Trial 454 finished with value: 0.9691212476281249 and parameters: {'solver_penalty': ('newton-cholesky', None), 'C': 7.576136945504858, 'tol': 0.0708826589718995, 'fit_intercept': True, 'class_weight': None, 'threshold': 0.44799999999999995}. Best is trial 152 with value: 0.9694451342678011.\n",
      "[I 2025-07-01 12:50:46,800] Trial 455 finished with value: 0.9694451342678011 and parameters: {'solver_penalty': ('newton-cholesky', 'l2'), 'C': 4.360266413725893, 'tol': 0.06768245264528414, 'fit_intercept': True, 'class_weight': 'balanced', 'threshold': 0.685}. Best is trial 152 with value: 0.9694451342678011.\n",
      "[I 2025-07-01 12:50:48,505] Trial 457 finished with value: 0.9694451342678011 and parameters: {'solver_penalty': ('newton-cholesky', 'l2'), 'C': 3.1466127764197154, 'tol': 0.08536276319781579, 'fit_intercept': True, 'class_weight': 'balanced', 'threshold': 0.6930000000000001}. Best is trial 152 with value: 0.9694451342678011.\n",
      "[I 2025-07-01 12:50:48,732] Trial 456 finished with value: 0.9690672665215123 and parameters: {'solver_penalty': ('newton-cholesky', 'l2'), 'C': 8.18161977874115, 'tol': 0.025929343219846246, 'fit_intercept': True, 'class_weight': 'balanced', 'threshold': 0.663}. Best is trial 152 with value: 0.9694451342678011.\n",
      "[I 2025-07-01 12:50:49,091] Trial 458 finished with value: 0.9694451342678011 and parameters: {'solver_penalty': ('newton-cholesky', 'l2'), 'C': 4.3801828406726075, 'tol': 0.06502662521315065, 'fit_intercept': True, 'class_weight': 'balanced', 'threshold': 0.685}. Best is trial 152 with value: 0.9694451342678011.\n",
      "[I 2025-07-01 12:50:49,834] Trial 459 finished with value: 0.9689053523491399 and parameters: {'solver_penalty': ('newton-cg', None), 'C': 3.0375135089318244, 'tol': 0.09427896785312619, 'fit_intercept': True, 'class_weight': None, 'threshold': 0.347}. Best is trial 152 with value: 0.9694451342678011.\n",
      "[I 2025-07-01 12:50:51,075] Trial 460 finished with value: 0.2604729030584436 and parameters: {'solver_penalty': ('liblinear', 'l2'), 'C': 0.5691969716939829, 'tol': 0.05792475269124052, 'fit_intercept': False, 'class_weight': None, 'threshold': 0.408}. Best is trial 152 with value: 0.9694451342678011.\n",
      "[I 2025-07-01 12:50:52,650] Trial 461 finished with value: 0.9690672665215123 and parameters: {'solver_penalty': ('newton-cholesky', 'l2'), 'C': 3.151254383677408, 'tol': 0.06074865474347256, 'fit_intercept': True, 'class_weight': 'balanced', 'threshold': 0.618}. Best is trial 152 with value: 0.9694451342678011.\n",
      "[I 2025-07-01 12:50:52,850] Trial 462 finished with value: 0.9694451342678011 and parameters: {'solver_penalty': ('newton-cholesky', 'l2'), 'C': 5.304259392960972, 'tol': 0.09321395832778141, 'fit_intercept': True, 'class_weight': 'balanced', 'threshold': 0.6930000000000001}. Best is trial 152 with value: 0.9694451342678011.\n",
      "[I 2025-07-01 12:50:53,915] Trial 463 finished with value: 0.9694451342678011 and parameters: {'solver_penalty': ('newton-cholesky', 'l2'), 'C': 2.8128985289882156, 'tol': 0.06303408154831153, 'fit_intercept': True, 'class_weight': 'balanced', 'threshold': 0.692}. Best is trial 152 with value: 0.9694451342678011.\n",
      "[I 2025-07-01 12:50:55,311] Trial 464 finished with value: 0.9694451342678011 and parameters: {'solver_penalty': ('newton-cholesky', 'l2'), 'C': 3.537704805596026, 'tol': 0.06106172390194089, 'fit_intercept': True, 'class_weight': 'balanced', 'threshold': 0.698}. Best is trial 152 with value: 0.9694451342678011.\n",
      "[I 2025-07-01 12:50:55,855] Trial 465 finished with value: 0.9692291952676175 and parameters: {'solver_penalty': ('liblinear', 'l1'), 'C': 2.655741229024638, 'tol': 0.06973241365058636, 'fit_intercept': True, 'class_weight': 'balanced', 'threshold': 0.642}. Best is trial 152 with value: 0.9694451342678011.\n",
      "[I 2025-07-01 12:50:55,884] Trial 466 finished with value: 0.9690672956689779 and parameters: {'solver_penalty': ('liblinear', 'l2'), 'C': 3.5111872914485023, 'tol': 0.06568213635849762, 'fit_intercept': False, 'class_weight': None, 'threshold': 0.6819999999999999}. Best is trial 152 with value: 0.9694451342678011.\n",
      "[I 2025-07-01 12:50:57,987] Trial 467 finished with value: 0.9694451342678011 and parameters: {'solver_penalty': ('newton-cholesky', 'l2'), 'C': 2.5029516264003244, 'tol': 0.05816781777919022, 'fit_intercept': True, 'class_weight': 'balanced', 'threshold': 0.692}. Best is trial 152 with value: 0.9694451342678011.\n",
      "[I 2025-07-01 12:50:58,892] Trial 470 finished with value: 0.9692291952676175 and parameters: {'solver_penalty': ('liblinear', 'l1'), 'C': 5.565694572648872, 'tol': 0.0682896222421296, 'fit_intercept': True, 'class_weight': 'balanced', 'threshold': 0.685}. Best is trial 152 with value: 0.9694451342678011.\n",
      "[I 2025-07-01 12:50:59,234] Trial 468 finished with value: 0.9694451342678011 and parameters: {'solver_penalty': ('newton-cholesky', 'l2'), 'C': 2.8257180149235968, 'tol': 0.09833932569739048, 'fit_intercept': True, 'class_weight': 'balanced', 'threshold': 0.685}. Best is trial 152 with value: 0.9694451342678011.\n",
      "[I 2025-07-01 12:50:59,628] Trial 469 finished with value: 0.9691752141610047 and parameters: {'solver_penalty': ('newton-cholesky', None), 'C': 3.9024688245911388, 'tol': 0.061535604038299836, 'fit_intercept': True, 'class_weight': 'balanced', 'threshold': 0.6930000000000001}. Best is trial 152 with value: 0.9694451342678011.\n",
      "[I 2025-07-01 12:51:01,519] Trial 471 finished with value: 0.9693911385874555 and parameters: {'solver_penalty': ('newton-cholesky', 'l2'), 'C': 5.738324636434479, 'tol': 0.045292847565337996, 'fit_intercept': True, 'class_weight': 'balanced', 'threshold': 0.696}. Best is trial 152 with value: 0.9694451342678011.\n",
      "[I 2025-07-01 12:51:02,832] Trial 474 finished with value: 0.9690133145623653 and parameters: {'solver_penalty': ('lbfgs', None), 'C': 4.974984238073159, 'tol': 0.07275870521002427, 'fit_intercept': True, 'class_weight': 'balanced', 'threshold': 0.5509999999999999}. Best is trial 152 with value: 0.9694451342678011.\n",
      "[I 2025-07-01 12:51:03,410] Trial 472 finished with value: 0.9692292098413503 and parameters: {'solver_penalty': ('lbfgs', None), 'C': 6.445701714705736, 'tol': 0.002492344064655351, 'fit_intercept': True, 'class_weight': 'balanced', 'threshold': 0.615}. Best is trial 152 with value: 0.9694451342678011.\n",
      "[I 2025-07-01 12:51:03,444] Trial 473 finished with value: 0.9690672665215123 and parameters: {'solver_penalty': ('newton-cholesky', 'l2'), 'C': 3.5882044749333923, 'tol': 0.0711034143475165, 'fit_intercept': True, 'class_weight': 'balanced', 'threshold': 0.627}. Best is trial 152 with value: 0.9694451342678011.\n",
      "[I 2025-07-01 12:51:05,606] Trial 475 finished with value: 0.9693911385874555 and parameters: {'solver_penalty': ('newton-cholesky', 'l2'), 'C': 5.685327115235038, 'tol': 0.06402690227350305, 'fit_intercept': True, 'class_weight': 'balanced', 'threshold': 0.7}. Best is trial 152 with value: 0.9694451342678011.\n",
      "[I 2025-07-01 12:51:06,159] Trial 476 finished with value: 0.9692291806938848 and parameters: {'solver_penalty': ('liblinear', 'l2'), 'C': 4.5696928404278445, 'tol': 0.08657106810032571, 'fit_intercept': True, 'class_weight': 'balanced', 'threshold': 0.6950000000000001}. Best is trial 152 with value: 0.9694451342678011.\n",
      "[I 2025-07-01 12:51:06,970] Trial 477 finished with value: 0.9692292244150831 and parameters: {'solver_penalty': ('lbfgs', None), 'C': 5.179481049990683, 'tol': 0.03202299758244505, 'fit_intercept': True, 'class_weight': 'balanced', 'threshold': 0.621}. Best is trial 152 with value: 0.9694451342678011.\n",
      "[I 2025-07-01 12:51:07,322] Trial 478 finished with value: 0.9693911385874555 and parameters: {'solver_penalty': ('newton-cholesky', 'l2'), 'C': 1.7440313009341333, 'tol': 0.06934772241986435, 'fit_intercept': True, 'class_weight': 'balanced', 'threshold': 0.698}. Best is trial 152 with value: 0.9694451342678011.\n",
      "[I 2025-07-01 12:51:09,432] Trial 479 finished with value: 0.9694451342678011 and parameters: {'solver_penalty': ('newton-cholesky', 'l2'), 'C': 3.5345914059847527, 'tol': 0.043178976458783457, 'fit_intercept': True, 'class_weight': 'balanced', 'threshold': 0.6990000000000001}. Best is trial 152 with value: 0.9694451342678011.\n",
      "[I 2025-07-01 12:51:09,797] Trial 480 finished with value: 0.9690672665215123 and parameters: {'solver_penalty': ('newton-cholesky', 'l2'), 'C': 3.2714029302395597, 'tol': 0.07875525851788658, 'fit_intercept': True, 'class_weight': 'balanced', 'threshold': 0.613}. Best is trial 152 with value: 0.9694451342678011.\n",
      "[I 2025-07-01 12:51:10,394] Trial 481 finished with value: 0.9692831909479629 and parameters: {'solver_penalty': ('newton-cholesky', 'l2'), 'C': 1.4722733724991657, 'tol': 0.07402616927169964, 'fit_intercept': True, 'class_weight': 'balanced', 'threshold': 0.612}. Best is trial 152 with value: 0.9694451342678011.\n",
      "[I 2025-07-01 12:51:10,938] Trial 482 finished with value: 0.9692831909479629 and parameters: {'solver_penalty': ('newton-cholesky', 'l2'), 'C': 4.808096323764689, 'tol': 0.09649799251604382, 'fit_intercept': True, 'class_weight': 'balanced', 'threshold': 0.6519999999999999}. Best is trial 152 with value: 0.9694451342678011.\n",
      "[I 2025-07-01 12:51:12,705] Trial 483 finished with value: 0.9690672956689781 and parameters: {'solver_penalty': ('lbfgs', None), 'C': 2.4115740134490187, 'tol': 0.08321830767158274, 'fit_intercept': True, 'class_weight': 'balanced', 'threshold': 0.5660000000000001}. Best is trial 152 with value: 0.9694451342678011.\n",
      "[I 2025-07-01 12:51:13,240] Trial 484 finished with value: 0.9694451342678011 and parameters: {'solver_penalty': ('newton-cholesky', 'l2'), 'C': 4.297442978797763, 'tol': 0.09841710556155459, 'fit_intercept': True, 'class_weight': 'balanced', 'threshold': 0.677}. Best is trial 152 with value: 0.9694451342678011.\n",
      "[I 2025-07-01 12:51:13,987] Trial 485 finished with value: 0.9694451342678011 and parameters: {'solver_penalty': ('newton-cholesky', 'l2'), 'C': 3.2447783342473575, 'tol': 0.0763656640456773, 'fit_intercept': True, 'class_weight': 'balanced', 'threshold': 0.681}. Best is trial 152 with value: 0.9694451342678011.\n",
      "[I 2025-07-01 12:51:15,065] Trial 486 finished with value: 0.9691751995872719 and parameters: {'solver_penalty': ('newton-cg', 'l2'), 'C': 4.870939013367696, 'tol': 0.09155749781226859, 'fit_intercept': True, 'class_weight': 'balanced', 'threshold': 0.685}. Best is trial 152 with value: 0.9694451342678011.\n",
      "[I 2025-07-01 12:51:16,287] Trial 487 finished with value: 0.9693911385874555 and parameters: {'solver_penalty': ('newton-cholesky', 'l2'), 'C': 4.6004988147097405, 'tol': 0.08354429993986362, 'fit_intercept': True, 'class_weight': 'balanced', 'threshold': 0.6970000000000001}. Best is trial 152 with value: 0.9694451342678011.\n",
      "[I 2025-07-01 12:51:16,819] Trial 488 finished with value: 0.9694451342678011 and parameters: {'solver_penalty': ('newton-cholesky', 'l2'), 'C': 2.9168959076362557, 'tol': 0.0803030460967667, 'fit_intercept': True, 'class_weight': 'balanced', 'threshold': 0.69}. Best is trial 152 with value: 0.9694451342678011.\n",
      "[I 2025-07-01 12:51:17,715] Trial 489 finished with value: 0.9694451342678011 and parameters: {'solver_penalty': ('newton-cholesky', 'l2'), 'C': 3.825555201895721, 'tol': 0.05995302108607868, 'fit_intercept': True, 'class_weight': 'balanced', 'threshold': 0.698}. Best is trial 152 with value: 0.9694451342678011.\n",
      "[I 2025-07-01 12:51:18,096] Trial 490 finished with value: 0.9692831763742303 and parameters: {'solver_penalty': ('liblinear', 'l1'), 'C': 1.6997961761632807, 'tol': 0.045808047175824346, 'fit_intercept': True, 'class_weight': 'balanced', 'threshold': 0.7}. Best is trial 152 with value: 0.9694451342678011.\n",
      "[I 2025-07-01 12:51:20,186] Trial 491 finished with value: 0.2604729030584436 and parameters: {'solver_penalty': ('newton-cg', 'l2'), 'C': 5.056666018948241, 'tol': 0.09601549736281628, 'fit_intercept': False, 'class_weight': 'balanced', 'threshold': 0.42}. Best is trial 152 with value: 0.9694451342678011.\n",
      "[I 2025-07-01 12:51:20,548] Trial 492 finished with value: 0.9473649087830059 and parameters: {'solver_penalty': ('newton-cholesky', None), 'C': 9.052582789719168, 'tol': 0.05612272685792401, 'fit_intercept': False, 'class_weight': None, 'threshold': 0.492}. Best is trial 152 with value: 0.9694451342678011.\n",
      "[I 2025-07-01 12:51:20,947] Trial 493 finished with value: 0.968851298373863 and parameters: {'solver_penalty': ('newton-cg', 'l2'), 'C': 2.2635368617957066, 'tol': 0.09859679702439003, 'fit_intercept': True, 'class_weight': None, 'threshold': 0.681}. Best is trial 152 with value: 0.9694451342678011.\n",
      "[I 2025-07-01 12:51:21,685] Trial 494 finished with value: 0.9690672665215123 and parameters: {'solver_penalty': ('newton-cholesky', 'l2'), 'C': 6.023260537459766, 'tol': 0.08577211070903204, 'fit_intercept': True, 'class_weight': 'balanced', 'threshold': 0.62}. Best is trial 152 with value: 0.9694451342678011.\n",
      "[I 2025-07-01 12:51:23,583] Trial 497 finished with value: 0.9686893696277578 and parameters: {'solver_penalty': ('liblinear', 'l1'), 'C': 2.0419575329070705, 'tol': 0.08224888293640374, 'fit_intercept': False, 'class_weight': 'balanced', 'threshold': 0.6679999999999999}. Best is trial 152 with value: 0.9694451342678011.\n",
      "[I 2025-07-01 12:51:23,585] Trial 495 finished with value: 0.9690672665215123 and parameters: {'solver_penalty': ('newton-cholesky', 'l2'), 'C': 4.879621206382021, 'tol': 0.060841445143173876, 'fit_intercept': True, 'class_weight': 'balanced', 'threshold': 0.615}. Best is trial 152 with value: 0.9694451342678011.\n",
      "[I 2025-07-01 12:51:24,318] Trial 498 finished with value: 0.9691212622018579 and parameters: {'solver_penalty': ('newton-cholesky', 'l2'), 'C': 5.108764336072372, 'tol': 0.05872532484475858, 'fit_intercept': True, 'class_weight': 'balanced', 'threshold': 0.601}. Best is trial 152 with value: 0.9694451342678011.\n",
      "[I 2025-07-01 12:51:24,988] Trial 499 finished with value: 0.9691751995872719 and parameters: {'solver_penalty': ('newton-cg', 'l2'), 'C': 4.697249015731739, 'tol': 0.06509610280062363, 'fit_intercept': True, 'class_weight': 'balanced', 'threshold': 0.69}. Best is trial 152 with value: 0.9694451342678011.\n",
      "[I 2025-07-01 12:51:30,969] Trial 496 finished with value: 0.8915437809509651 and parameters: {'solver_penalty': ('liblinear', 'l1'), 'C': 5.630920783218068, 'tol': 0.0020973008453434028, 'fit_intercept': False, 'class_weight': None, 'threshold': 0.355}. Best is trial 152 with value: 0.9694451342678011.\n"
     ]
    }
   ],
   "source": [
    "def objective(trial):\n",
    "    solver_penalty_options = [\n",
    "        ('liblinear', 'l1'),\n",
    "        ('liblinear', 'l2'),\n",
    "        ('lbfgs', 'l2'),\n",
    "        ('lbfgs', None),\n",
    "        ('newton-cg', 'l2'),\n",
    "        ('newton-cg', None),\n",
    "        ('newton-cholesky', 'l2'),\n",
    "        ('newton-cholesky', None)\n",
    "    ]\n",
    "    solver, penalty = trial.suggest_categorical('solver_penalty', solver_penalty_options)\n",
    "    \n",
    "    params = {\n",
    "        'random_state': CFG.seed,\n",
    "        'max_iter': 500,\n",
    "        'C': trial.suggest_float('C', 0, 10),\n",
    "        'tol': trial.suggest_float('tol', 1e-10, 1e-1),\n",
    "        'fit_intercept': trial.suggest_categorical('fit_intercept', [True, False]),\n",
    "        'class_weight': trial.suggest_categorical('class_weight', ['balanced', None]),\n",
    "        'solver': solver,\n",
    "        'penalty': penalty\n",
    "    }\n",
    "    \n",
    "    threshold = trial.suggest_float('threshold', 0.3, 0.7, step=0.001)\n",
    "    \n",
    "    trainer = Trainer(\n",
    "        LogisticRegression(**params),\n",
    "        cv=CFG.cv,\n",
    "        metric=CFG.metric,\n",
    "        metric_precision=6,\n",
    "        metric_threshold=threshold,\n",
    "        use_early_stopping=False,\n",
    "        verbose=False,\n",
    "        task=\"binary\",\n",
    "    )\n",
    "    trainer.fit(X, y)\n",
    "    \n",
    "    return np.mean(trainer.fold_scores)\n",
    "\n",
    "sampler = optuna.samplers.TPESampler(seed=CFG.seed, multivariate=True, n_startup_trials=CFG.n_optuna_trials // 10)\n",
    "study = optuna.create_study(direction='maximize', sampler=sampler)\n",
    "study.optimize(objective, n_trials=CFG.n_optuna_trials, n_jobs=-1)\n",
    "best_params = study.best_params"
   ]
  },
  {
   "cell_type": "code",
   "execution_count": 20,
   "id": "57076c36",
   "metadata": {
    "execution": {
     "iopub.execute_input": "2025-07-01T12:51:31.050295Z",
     "iopub.status.busy": "2025-07-01T12:51:31.049969Z",
     "iopub.status.idle": "2025-07-01T12:51:31.055273Z",
     "shell.execute_reply": "2025-07-01T12:51:31.054369Z"
    },
    "papermill": {
     "duration": 0.043966,
     "end_time": "2025-07-01T12:51:31.056862",
     "exception": false,
     "start_time": "2025-07-01T12:51:31.012896",
     "status": "completed"
    },
    "tags": []
   },
   "outputs": [],
   "source": [
    "solver, penalty = best_params['solver_penalty']\n",
    "lr_params = {\n",
    "    'random_state': CFG.seed,\n",
    "    'max_iter': 500,\n",
    "    'C': best_params['C'],\n",
    "    'tol': best_params['tol'],\n",
    "    'fit_intercept': best_params['fit_intercept'],\n",
    "    'class_weight': best_params['class_weight'],\n",
    "    'solver': solver,\n",
    "    'penalty': penalty\n",
    "}"
   ]
  },
  {
   "cell_type": "code",
   "execution_count": 21,
   "id": "e50b4732",
   "metadata": {
    "execution": {
     "iopub.execute_input": "2025-07-01T12:51:31.128380Z",
     "iopub.status.busy": "2025-07-01T12:51:31.128020Z",
     "iopub.status.idle": "2025-07-01T12:51:31.133383Z",
     "shell.execute_reply": "2025-07-01T12:51:31.132281Z"
    },
    "papermill": {
     "duration": 0.043071,
     "end_time": "2025-07-01T12:51:31.134972",
     "exception": false,
     "start_time": "2025-07-01T12:51:31.091901",
     "status": "completed"
    },
    "tags": []
   },
   "outputs": [
    {
     "name": "stdout",
     "output_type": "stream",
     "text": [
      "{\n",
      "  \"random_state\": 42,\n",
      "  \"max_iter\": 500,\n",
      "  \"C\": 2.5817393228617314,\n",
      "  \"tol\": 0.09077622427200717,\n",
      "  \"fit_intercept\": true,\n",
      "  \"class_weight\": \"balanced\",\n",
      "  \"solver\": \"newton-cholesky\",\n",
      "  \"penalty\": \"l2\"\n",
      "}\n"
     ]
    }
   ],
   "source": [
    "print(json.dumps(lr_params, indent=2))"
   ]
  },
  {
   "cell_type": "code",
   "execution_count": 22,
   "id": "b3acfa4e",
   "metadata": {
    "execution": {
     "iopub.execute_input": "2025-07-01T12:51:31.206628Z",
     "iopub.status.busy": "2025-07-01T12:51:31.206272Z",
     "iopub.status.idle": "2025-07-01T12:51:31.211822Z",
     "shell.execute_reply": "2025-07-01T12:51:31.210618Z"
    },
    "papermill": {
     "duration": 0.043471,
     "end_time": "2025-07-01T12:51:31.213403",
     "exception": false,
     "start_time": "2025-07-01T12:51:31.169932",
     "status": "completed"
    },
    "tags": []
   },
   "outputs": [
    {
     "name": "stdout",
     "output_type": "stream",
     "text": [
      "Best threshold: 0.686\n"
     ]
    }
   ],
   "source": [
    "best_threshold = study.best_params['threshold']\n",
    "print(f'Best threshold: {best_threshold:.3f}')"
   ]
  },
  {
   "cell_type": "code",
   "execution_count": 23,
   "id": "0bb8bdea",
   "metadata": {
    "execution": {
     "iopub.execute_input": "2025-07-01T12:51:31.284537Z",
     "iopub.status.busy": "2025-07-01T12:51:31.284130Z",
     "iopub.status.idle": "2025-07-01T12:51:32.143001Z",
     "shell.execute_reply": "2025-07-01T12:51:32.141884Z"
    },
    "papermill": {
     "duration": 0.89608,
     "end_time": "2025-07-01T12:51:32.144657",
     "exception": false,
     "start_time": "2025-07-01T12:51:31.248577",
     "status": "completed"
    },
    "tags": []
   },
   "outputs": [
    {
     "name": "stdout",
     "output_type": "stream",
     "text": [
      "Training LogisticRegression\n",
      "\n",
      "--- Fold 0 - accuracy_score: 0.970040 - Time: 0.02 s\n",
      "--- Fold 1 - accuracy_score: 0.968151 - Time: 0.02 s\n",
      "--- Fold 2 - accuracy_score: 0.966262 - Time: 0.02 s\n",
      "--- Fold 3 - accuracy_score: 0.971660 - Time: 0.02 s\n",
      "--- Fold 4 - accuracy_score: 0.971112 - Time: 0.02 s\n",
      "\n",
      "------ Overall accuracy_score: 0.969445 - Mean accuracy_score: 0.969445 ± 0.001992 - Time: 0.85 s\n"
     ]
    }
   ],
   "source": [
    "lr_trainer = Trainer(\n",
    "    LogisticRegression(**lr_params),\n",
    "    cv=CFG.cv,\n",
    "    metric=CFG.metric,\n",
    "    metric_threshold=best_threshold,\n",
    "    metric_precision=6,\n",
    "    use_early_stopping=False,\n",
    "    task=\"binary\",\n",
    ")\n",
    "\n",
    "lr_trainer.fit(X, y)\n",
    "\n",
    "scores[\"LogisticRegression\"] = lr_trainer.fold_scores\n",
    "lr_test_pred_probs = lr_trainer.predict(X_test)"
   ]
  },
  {
   "cell_type": "code",
   "execution_count": 24,
   "id": "998560c9",
   "metadata": {
    "execution": {
     "iopub.execute_input": "2025-07-01T12:51:32.218460Z",
     "iopub.status.busy": "2025-07-01T12:51:32.218039Z",
     "iopub.status.idle": "2025-07-01T12:51:32.292606Z",
     "shell.execute_reply": "2025-07-01T12:51:32.291626Z"
    },
    "papermill": {
     "duration": 0.113157,
     "end_time": "2025-07-01T12:51:32.294070",
     "exception": false,
     "start_time": "2025-07-01T12:51:32.180913",
     "status": "completed"
    },
    "tags": []
   },
   "outputs": [
    {
     "data": {
      "text/html": [
       "<div>\n",
       "<style scoped>\n",
       "    .dataframe tbody tr th:only-of-type {\n",
       "        vertical-align: middle;\n",
       "    }\n",
       "\n",
       "    .dataframe tbody tr th {\n",
       "        vertical-align: top;\n",
       "    }\n",
       "\n",
       "    .dataframe thead th {\n",
       "        text-align: right;\n",
       "    }\n",
       "</style>\n",
       "<table border=\"1\" class=\"dataframe\">\n",
       "  <thead>\n",
       "    <tr style=\"text-align: right;\">\n",
       "      <th></th>\n",
       "      <th>id</th>\n",
       "      <th>Personality</th>\n",
       "    </tr>\n",
       "  </thead>\n",
       "  <tbody>\n",
       "    <tr>\n",
       "      <th>0</th>\n",
       "      <td>18524</td>\n",
       "      <td>Extrovert</td>\n",
       "    </tr>\n",
       "    <tr>\n",
       "      <th>1</th>\n",
       "      <td>18525</td>\n",
       "      <td>Introvert</td>\n",
       "    </tr>\n",
       "    <tr>\n",
       "      <th>2</th>\n",
       "      <td>18526</td>\n",
       "      <td>Extrovert</td>\n",
       "    </tr>\n",
       "    <tr>\n",
       "      <th>3</th>\n",
       "      <td>18527</td>\n",
       "      <td>Extrovert</td>\n",
       "    </tr>\n",
       "    <tr>\n",
       "      <th>4</th>\n",
       "      <td>18528</td>\n",
       "      <td>Introvert</td>\n",
       "    </tr>\n",
       "  </tbody>\n",
       "</table>\n",
       "</div>"
      ],
      "text/plain": [
       "      id Personality\n",
       "0  18524   Extrovert\n",
       "1  18525   Introvert\n",
       "2  18526   Extrovert\n",
       "3  18527   Extrovert\n",
       "4  18528   Introvert"
      ]
     },
     "execution_count": 24,
     "metadata": {},
     "output_type": "execute_result"
    }
   ],
   "source": [
    "save_submission('logistic-regression', lr_test_pred_probs, np.mean(scores['LogisticRegression']), best_threshold)"
   ]
  },
  {
   "cell_type": "code",
   "execution_count": 25,
   "id": "adf74f31",
   "metadata": {
    "execution": {
     "iopub.execute_input": "2025-07-01T12:51:32.376171Z",
     "iopub.status.busy": "2025-07-01T12:51:32.375752Z",
     "iopub.status.idle": "2025-07-01T12:51:32.381878Z",
     "shell.execute_reply": "2025-07-01T12:51:32.380508Z"
    },
    "papermill": {
     "duration": 0.054623,
     "end_time": "2025-07-01T12:51:32.383689",
     "exception": false,
     "start_time": "2025-07-01T12:51:32.329066",
     "status": "completed"
    },
    "tags": []
   },
   "outputs": [],
   "source": [
    "lr_coeffs = np.zeros((1,len(X.columns)))\n",
    "for estimator in lr_trainer.estimators:\n",
    "    lr_coeffs += estimator.coef_ / CFG.n_folds"
   ]
  },
  {
   "cell_type": "code",
   "execution_count": 26,
   "id": "5aedca1a",
   "metadata": {
    "_kg_hide-input": false,
    "execution": {
     "iopub.execute_input": "2025-07-01T12:51:32.467567Z",
     "iopub.status.busy": "2025-07-01T12:51:32.467129Z",
     "iopub.status.idle": "2025-07-01T12:51:32.772399Z",
     "shell.execute_reply": "2025-07-01T12:51:32.771393Z"
    },
    "papermill": {
     "duration": 0.349585,
     "end_time": "2025-07-01T12:51:32.773940",
     "exception": false,
     "start_time": "2025-07-01T12:51:32.424355",
     "status": "completed"
    },
    "tags": []
   },
   "outputs": [
    {
     "data": {
      "image/png": "[encoded data removed]",
      "text/plain": [
       "<Figure size 1000x350 with 1 Axes>"
      ]
     },
     "metadata": {},
     "output_type": "display_data"
    }
   ],
   "source": [
    "plot_weights(lr_coeffs, 'LR Coefficients')"
   ]
  },
  {
   "cell_type": "markdown",
   "id": "a3f56c38",
   "metadata": {
    "papermill": {
     "duration": 0.045862,
     "end_time": "2025-07-01T12:51:32.856338",
     "exception": false,
     "start_time": "2025-07-01T12:51:32.810476",
     "status": "completed"
    },
    "tags": []
   },
   "source": [
    "# Results"
   ]
  },
  {
   "cell_type": "code",
   "execution_count": 27,
   "id": "03dfba68",
   "metadata": {
    "_kg_hide-input": false,
    "execution": {
     "iopub.execute_input": "2025-07-01T12:51:32.942956Z",
     "iopub.status.busy": "2025-07-01T12:51:32.942639Z",
     "iopub.status.idle": "2025-07-01T12:51:33.550851Z",
     "shell.execute_reply": "2025-07-01T12:51:33.549837Z"
    },
    "papermill": {
     "duration": 0.648947,
     "end_time": "2025-07-01T12:51:33.552770",
     "exception": false,
     "start_time": "2025-07-01T12:51:32.903823",
     "status": "completed"
    },
    "tags": []
   },
   "outputs": [
    {
     "data": {
      "image/png": "[encoded data removed]",
      "text/plain": [
       "<Figure size 1500x320 with 2 Axes>"
      ]
     },
     "metadata": {},
     "output_type": "display_data"
    }
   ],
   "source": [
    "scores = pd.DataFrame(scores)\n",
    "mean_scores = scores.mean().sort_values(ascending=False)\n",
    "order = scores.mean().sort_values(ascending=False).index.tolist()\n",
    "\n",
    "min_score = mean_scores.min()\n",
    "max_score = mean_scores.max()\n",
    "padding = (max_score - min_score) * 0.5\n",
    "lower_limit = min_score - padding\n",
    "upper_limit = max_score + padding\n",
    "\n",
    "fig, axs = plt.subplots(1, 2, figsize=(15, scores.shape[1] * 0.4))\n",
    "\n",
    "boxplot = sns.boxplot(data=scores, order=order, ax=axs[0], orient='h', color='grey')\n",
    "axs[0].set_title('Fold Accuracy')\n",
    "axs[0].set_xlabel('')\n",
    "axs[0].set_ylabel('')\n",
    "\n",
    "barplot = sns.barplot(x=mean_scores.values, y=mean_scores.index, ax=axs[1], color='grey')\n",
    "axs[1].set_title('Average Accuracy')\n",
    "axs[1].set_xlabel('')\n",
    "axs[1].set_xlim(left=lower_limit, right=upper_limit)\n",
    "axs[1].set_ylabel('')\n",
    "\n",
    "for i, (score, model) in enumerate(zip(mean_scores.values, mean_scores.index)):\n",
    "    color = 'cyan' if 'logistic' in model.lower() else 'grey'\n",
    "    barplot.patches[i].set_facecolor(color)\n",
    "    boxplot.patches[i].set_facecolor(color)\n",
    "    barplot.text(score, i, round(score, 6), va='center')\n",
    "\n",
    "plt.tight_layout()\n",
    "plt.show()"
   ]
  },
  {
   "cell_type": "code",
   "execution_count": 28,
   "id": "20a9f94e",
   "metadata": {
    "execution": {
     "iopub.execute_input": "2025-07-01T12:51:33.631893Z",
     "iopub.status.busy": "2025-07-01T12:51:33.631571Z",
     "iopub.status.idle": "2025-07-01T12:51:33.638236Z",
     "shell.execute_reply": "2025-07-01T12:51:33.637268Z"
    },
    "papermill": {
     "duration": 0.047501,
     "end_time": "2025-07-01T12:51:33.639916",
     "exception": false,
     "start_time": "2025-07-01T12:51:33.592415",
     "status": "completed"
    },
    "tags": []
   },
   "outputs": [],
   "source": [
    "shutil.rmtree('catboost_info', ignore_errors=True)"
   ]
  }
 ],
 "metadata": {
  "kaggle": {
   "accelerator": "none",
   "dataSources": [
    {
     "databundleVersionId": 12738969,
     "sourceId": 91718,
     "sourceType": "competition"
    },
    {
     "sourceId": 248280875,
     "sourceType": "kernelVersion"
    }
   ],
   "dockerImageVersionId": 31040,
   "isGpuEnabled": false,
   "isInternetEnabled": true,
   "language": "python",
   "sourceType": "notebook"
  },
  "kernelspec": {
   "display_name": "Python 3",
   "language": "python",
   "name": "python3"
  },
  "language_info": {
   "codemirror_mode": {
    "name": "ipython",
    "version": 3
   },
   "file_extension": ".py",
   "mimetype": "text/x-python",
   "name": "python",
   "nbconvert_exporter": "python",
   "pygments_lexer": "ipython3",
   "version": "3.11.11"
  },
  "papermill": {
   "default_parameters": {},
   "duration": 553.396331,
   "end_time": "2025-07-01T12:51:34.802791",
   "environment_variables": {},
   "exception": null,
   "input_path": "__notebook__.ipynb",
   "output_path": "__notebook__.ipynb",
   "parameters": {},
   "start_time": "2025-07-01T12:42:21.406460",
   "version": "2.6.0"
  }
 },
 "nbformat": 4,
 "nbformat_minor": 5
}
