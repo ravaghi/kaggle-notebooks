{
 "cells": [
  {
   "cell_type": "code",
   "execution_count": 1,
   "id": "e188270f",
   "metadata": {
    "_cell_guid": "b1076dfc-b9ad-4769-8c92-a6c4dae69d19",
    "_kg_hide-output": true,
    "_uuid": "8f2839f25d086af736a60e9eeb907d3b93b6e0e5",
    "execution": {
     "iopub.execute_input": "2024-06-28T06:05:45.486515Z",
     "iopub.status.busy": "2024-06-28T06:05:45.486135Z",
     "iopub.status.idle": "2024-06-28T06:09:16.780720Z",
     "shell.execute_reply": "2024-06-28T06:09:16.779771Z"
    },
    "papermill": {
     "duration": 211.307219,
     "end_time": "2024-06-28T06:09:16.783012",
     "exception": false,
     "start_time": "2024-06-28T06:05:45.475793",
     "status": "completed"
    },
    "tags": []
   },
   "outputs": [
    {
     "name": "stdout",
     "output_type": "stream",
     "text": [
      "\u001b[31mERROR: pip's dependency resolver does not currently take into account all the packages that are installed. This behaviour is the source of the following dependency conflicts.\r\n",
      "aiobotocore 2.13.0 requires aiohttp<4.0.0,>=3.9.2, but you have aiohttp 3.9.1 which is incompatible.\r\n",
      "aiobotocore 2.13.0 requires botocore<1.34.107,>=1.34.70, but you have botocore 1.29.165 which is incompatible.\r\n",
      "albumentations 1.4.0 requires scikit-image>=0.21.0, but you have scikit-image 0.20.0 which is incompatible.\r\n",
      "preprocessing 0.1.13 requires nltk==3.2.4, but you have nltk 3.8.1 which is incompatible.\r\n",
      "spopt 0.6.0 requires shapely>=2.0.1, but you have shapely 1.8.5.post1 which is incompatible.\r\n",
      "ydata-profiling 4.6.4 requires numpy<1.26,>=1.16.0, but you have numpy 1.26.4 which is incompatible.\u001b[0m\u001b[31m\r\n",
      "\u001b[0m"
     ]
    }
   ],
   "source": [
    "!pip install -U -q autogluon > /dev/null"
   ]
  },
  {
   "cell_type": "code",
   "execution_count": 2,
   "id": "22afd005",
   "metadata": {
    "execution": {
     "iopub.execute_input": "2024-06-28T06:09:16.800950Z",
     "iopub.status.busy": "2024-06-28T06:09:16.800636Z",
     "iopub.status.idle": "2024-06-28T06:09:19.850332Z",
     "shell.execute_reply": "2024-06-28T06:09:19.849589Z"
    },
    "papermill": {
     "duration": 3.061233,
     "end_time": "2024-06-28T06:09:19.852641",
     "exception": false,
     "start_time": "2024-06-28T06:09:16.791408",
     "status": "completed"
    },
    "tags": []
   },
   "outputs": [],
   "source": [
    "from sklearn.feature_extraction.text import TfidfVectorizer, CountVectorizer\n",
    "from sklearn.feature_selection import mutual_info_regression\n",
    "from autogluon.timeseries import TimeSeriesDataFrame, TimeSeriesPredictor\n",
    "import pandas as pd\n",
    "import numpy as np\n",
    "import warnings\n",
    "\n",
    "warnings.filterwarnings('ignore')"
   ]
  },
  {
   "cell_type": "code",
   "execution_count": 3,
   "id": "c8d1c951",
   "metadata": {
    "execution": {
     "iopub.execute_input": "2024-06-28T06:09:19.870086Z",
     "iopub.status.busy": "2024-06-28T06:09:19.869652Z",
     "iopub.status.idle": "2024-06-28T06:09:19.873455Z",
     "shell.execute_reply": "2024-06-28T06:09:19.872687Z"
    },
    "papermill": {
     "duration": 0.014346,
     "end_time": "2024-06-28T06:09:19.875293",
     "exception": false,
     "start_time": "2024-06-28T06:09:19.860947",
     "status": "completed"
    },
    "tags": []
   },
   "outputs": [],
   "source": [
    "TIME_LIMIT = 3600 * 10\n",
    "SEED = 27"
   ]
  },
  {
   "cell_type": "code",
   "execution_count": 4,
   "id": "0d5bcfb9",
   "metadata": {
    "execution": {
     "iopub.execute_input": "2024-06-28T06:09:19.893254Z",
     "iopub.status.busy": "2024-06-28T06:09:19.892969Z",
     "iopub.status.idle": "2024-06-28T06:09:19.951120Z",
     "shell.execute_reply": "2024-06-28T06:09:19.950252Z"
    },
    "papermill": {
     "duration": 0.068856,
     "end_time": "2024-06-28T06:09:19.953128",
     "exception": false,
     "start_time": "2024-06-28T06:09:19.884272",
     "status": "completed"
    },
    "tags": []
   },
   "outputs": [
    {
     "data": {
      "text/plain": [
       "((7340, 18), (397, 8))"
      ]
     },
     "execution_count": 4,
     "metadata": {},
     "output_type": "execute_result"
    }
   ],
   "source": [
    "train = pd.read_csv('/kaggle/input/rohlik-orders-forecasting-challenge/train.csv')\n",
    "test = pd.read_csv('/kaggle/input/rohlik-orders-forecasting-challenge/test.csv')\n",
    "\n",
    "test_ids = test['id'].values\n",
    "\n",
    "train.shape, test.shape"
   ]
  },
  {
   "cell_type": "code",
   "execution_count": 5,
   "id": "b5c7f478",
   "metadata": {
    "execution": {
     "iopub.execute_input": "2024-06-28T06:09:19.971623Z",
     "iopub.status.busy": "2024-06-28T06:09:19.971039Z",
     "iopub.status.idle": "2024-06-28T06:09:19.984751Z",
     "shell.execute_reply": "2024-06-28T06:09:19.983979Z"
    },
    "papermill": {
     "duration": 0.024427,
     "end_time": "2024-06-28T06:09:19.986649",
     "exception": false,
     "start_time": "2024-06-28T06:09:19.962222",
     "status": "completed"
    },
    "tags": []
   },
   "outputs": [
    {
     "data": {
      "text/plain": [
       "((7340, 9), (397, 8))"
      ]
     },
     "execution_count": 5,
     "metadata": {},
     "output_type": "execute_result"
    }
   ],
   "source": [
    "missing_cols_in_test = [\n",
    "    'shutdown',\n",
    "    'mini_shutdown',\n",
    "    'blackout',\n",
    "    'mov_change',\n",
    "    'frankfurt_shutdown',\n",
    "    'precipitation',\n",
    "    'snow',\n",
    "    'user_activity_1',\n",
    "    'user_activity_2'\n",
    "]\n",
    "\n",
    "train = train.drop(missing_cols_in_test, axis=1, errors='ignore')\n",
    "train.shape, test.shape"
   ]
  },
  {
   "cell_type": "code",
   "execution_count": 6,
   "id": "20f79481",
   "metadata": {
    "execution": {
     "iopub.execute_input": "2024-06-28T06:09:20.004194Z",
     "iopub.status.busy": "2024-06-28T06:09:20.003925Z",
     "iopub.status.idle": "2024-06-28T06:09:20.013165Z",
     "shell.execute_reply": "2024-06-28T06:09:20.012365Z"
    },
    "papermill": {
     "duration": 0.020203,
     "end_time": "2024-06-28T06:09:20.014964",
     "exception": false,
     "start_time": "2024-06-28T06:09:19.994761",
     "status": "completed"
    },
    "tags": []
   },
   "outputs": [],
   "source": [
    "train['is_train'] = 1\n",
    "test['is_train'] = 0\n",
    "\n",
    "combined = pd.concat([train, test], axis=0).reset_index(drop=True)"
   ]
  },
  {
   "cell_type": "markdown",
   "id": "4c4683d9",
   "metadata": {
    "papermill": {
     "duration": 0.008208,
     "end_time": "2024-06-28T06:09:20.031240",
     "exception": false,
     "start_time": "2024-06-28T06:09:20.023032",
     "status": "completed"
    },
    "tags": []
   },
   "source": [
    "# Feature Engineering"
   ]
  },
  {
   "cell_type": "code",
   "execution_count": 7,
   "id": "7625c9d7",
   "metadata": {
    "execution": {
     "iopub.execute_input": "2024-06-28T06:09:20.049162Z",
     "iopub.status.busy": "2024-06-28T06:09:20.048904Z",
     "iopub.status.idle": "2024-06-28T06:09:20.055207Z",
     "shell.execute_reply": "2024-06-28T06:09:20.054416Z"
    },
    "papermill": {
     "duration": 0.017311,
     "end_time": "2024-06-28T06:09:20.057019",
     "exception": false,
     "start_time": "2024-06-28T06:09:20.039708",
     "status": "completed"
    },
    "tags": []
   },
   "outputs": [],
   "source": [
    "def add_tfidf_features(df, ngram_range=(1, 4), max_features=50):\n",
    "    df['holiday_name'] = df['holiday_name'].fillna('')\n",
    "\n",
    "    vectorizer = TfidfVectorizer(\n",
    "        tokenizer=lambda x: x,\n",
    "        preprocessor=lambda x: x,\n",
    "        token_pattern=None,\n",
    "        strip_accents='unicode',\n",
    "        analyzer='word',\n",
    "        ngram_range=ngram_range,\n",
    "        sublinear_tf=True,\n",
    "        max_features=max_features,\n",
    "    )\n",
    "    \n",
    "    vectorized = vectorizer.fit_transform(df['holiday_name'])\n",
    "    vectorized = vectorized.toarray()\n",
    "    tfidf_df = pd.DataFrame(vectorized, columns=[f'tfidf_feat_{i}' for i in range(vectorized.shape[1])])\n",
    "    return pd.concat([df, tfidf_df], axis=1)"
   ]
  },
  {
   "cell_type": "code",
   "execution_count": 8,
   "id": "963d487b",
   "metadata": {
    "execution": {
     "iopub.execute_input": "2024-06-28T06:09:20.074587Z",
     "iopub.status.busy": "2024-06-28T06:09:20.073838Z",
     "iopub.status.idle": "2024-06-28T06:09:20.080024Z",
     "shell.execute_reply": "2024-06-28T06:09:20.079363Z"
    },
    "papermill": {
     "duration": 0.016732,
     "end_time": "2024-06-28T06:09:20.081813",
     "exception": false,
     "start_time": "2024-06-28T06:09:20.065081",
     "status": "completed"
    },
    "tags": []
   },
   "outputs": [],
   "source": [
    "def add_count_features(df, ngram_range=(1, 4), max_features=50):\n",
    "    df['holiday_name'] = df['holiday_name'].fillna('')\n",
    "\n",
    "    vectorizer = CountVectorizer(\n",
    "        tokenizer=lambda x: x,\n",
    "        preprocessor=lambda x: x,\n",
    "        token_pattern=None,\n",
    "        strip_accents='unicode',\n",
    "        analyzer='word',\n",
    "        ngram_range=ngram_range,\n",
    "        max_features=max_features,\n",
    "    )\n",
    "    \n",
    "    vectorized = vectorizer.fit_transform(df['holiday_name'])\n",
    "    vectorized = vectorized.toarray()\n",
    "    cnt_df = pd.DataFrame(vectorized, columns=[f'cnt_feat_{i}' for i in range(vectorized.shape[1])])\n",
    "    return pd.concat([df, cnt_df], axis=1)"
   ]
  },
  {
   "cell_type": "code",
   "execution_count": 9,
   "id": "c1c52bae",
   "metadata": {
    "execution": {
     "iopub.execute_input": "2024-06-28T06:09:20.099021Z",
     "iopub.status.busy": "2024-06-28T06:09:20.098760Z",
     "iopub.status.idle": "2024-06-28T06:09:20.104123Z",
     "shell.execute_reply": "2024-06-28T06:09:20.103294Z"
    },
    "papermill": {
     "duration": 0.01606,
     "end_time": "2024-06-28T06:09:20.106054",
     "exception": false,
     "start_time": "2024-06-28T06:09:20.089994",
     "status": "completed"
    },
    "tags": []
   },
   "outputs": [],
   "source": [
    "def add_geo_features(df):\n",
    "    country_city_mapping = {\n",
    "        'Prague': 'Czech Republic',\n",
    "        'Brno': 'Czech Republic',\n",
    "        'Budapest': 'Hungary',\n",
    "        'Munich': 'Germany',\n",
    "        'Frankfurt': 'Germany'\n",
    "    }\n",
    "\n",
    "    df['city'] = df['warehouse'].str.split('_').str[0]\n",
    "    df['country'] = df['city'].map(country_city_mapping)\n",
    "\n",
    "    return pd.get_dummies(df, columns=['city', 'country'])"
   ]
  },
  {
   "cell_type": "code",
   "execution_count": 10,
   "id": "a7fba821",
   "metadata": {
    "execution": {
     "iopub.execute_input": "2024-06-28T06:09:20.123830Z",
     "iopub.status.busy": "2024-06-28T06:09:20.123596Z",
     "iopub.status.idle": "2024-06-28T06:09:20.136036Z",
     "shell.execute_reply": "2024-06-28T06:09:20.135263Z"
    },
    "papermill": {
     "duration": 0.024041,
     "end_time": "2024-06-28T06:09:20.138177",
     "exception": false,
     "start_time": "2024-06-28T06:09:20.114136",
     "status": "completed"
    },
    "tags": []
   },
   "outputs": [],
   "source": [
    "def add_time_features(df):    \n",
    "    df['date'] = pd.to_datetime(df['date'])\n",
    "    df['year'] = df['date'].dt.year\n",
    "    df['month'] = df['date'].dt.month\n",
    "    df['sin_month'] = np.sin(2 * np.pi * df['month'] / 12)\n",
    "    df['cos_month'] = np.cos(2 * np.pi * df['month'] / 12)\n",
    "    df['day'] = df['date'].dt.day\n",
    "    df['sin_day'] = np.sin(2 * np.pi * df['day'] / 30)\n",
    "    df['cos_day'] = np.cos(2 * np.pi * df['day'] / 30)\n",
    "    df['day_of_week'] = df['date'].dt.dayofweek\n",
    "    df['sin_day_of_week'] = np.sin(2 * np.pi * df['day_of_week'] / 7)\n",
    "    df['cos_day_of_week'] = np.cos(2 * np.pi * df['day_of_week'] / 7)\n",
    "    df['day_of_year'] = df['date'].dt.dayofyear\n",
    "    df['sin_day_of_year'] = np.sin(2 * np.pi * df['day_of_year'] / 365)\n",
    "    df['cos_day_of_year'] = np.cos(2 * np.pi * df['day_of_year'] / 365)\n",
    "    df['week'] = df['date'].dt.isocalendar().week.astype(int)\n",
    "    df['quarter'] = df['date'].dt.quarter\n",
    "    df['season'] = (df['month'] % 12 + 3) // 3\n",
    "    df['season'] = df['season'].astype(int)\n",
    "    df['is_weekend'] = df['day_of_week'].isin([5, 6]).astype(int)\n",
    "    df['is_friday'] = df['day_of_week'].isin([4]).astype(int)\n",
    "    \n",
    "    df['day_before_holiday'] = df['holiday'].shift().fillna(0)\n",
    "    df['day_after_holiday'] = df['holiday'].shift(-1).fillna(0)\n",
    "    df['day_before_school_holiday'] = df['school_holidays'].shift().fillna(0)\n",
    "    df['day_after_school_holiday'] = df['school_holidays'].shift(-1).fillna(0)\n",
    "    df['day_before_winter_school_holiday'] = df['winter_school_holidays'].shift().fillna(0)\n",
    "    df['day_after_winter_school_holiday'] = df['winter_school_holidays'].shift(-1).fillna(0)\n",
    "    df['holiday_and_shops_closed'] = df['holiday'] * df['shops_closed']\n",
    "\n",
    "    return df"
   ]
  },
  {
   "cell_type": "code",
   "execution_count": 11,
   "id": "a39fac85",
   "metadata": {
    "execution": {
     "iopub.execute_input": "2024-06-28T06:09:20.155254Z",
     "iopub.status.busy": "2024-06-28T06:09:20.154998Z",
     "iopub.status.idle": "2024-06-28T06:09:20.159030Z",
     "shell.execute_reply": "2024-06-28T06:09:20.158211Z"
    },
    "papermill": {
     "duration": 0.014614,
     "end_time": "2024-06-28T06:09:20.160800",
     "exception": false,
     "start_time": "2024-06-28T06:09:20.146186",
     "status": "completed"
    },
    "tags": []
   },
   "outputs": [],
   "source": [
    "def convert_cat_features(df):\n",
    "    return pd.get_dummies(df, columns=['warehouse', 'holiday_name'])"
   ]
  },
  {
   "cell_type": "code",
   "execution_count": 12,
   "id": "6dbf96a3",
   "metadata": {
    "execution": {
     "iopub.execute_input": "2024-06-28T06:09:20.177936Z",
     "iopub.status.busy": "2024-06-28T06:09:20.177699Z",
     "iopub.status.idle": "2024-06-28T06:09:20.184207Z",
     "shell.execute_reply": "2024-06-28T06:09:20.183409Z"
    },
    "papermill": {
     "duration": 0.017312,
     "end_time": "2024-06-28T06:09:20.186192",
     "exception": false,
     "start_time": "2024-06-28T06:09:20.168880",
     "status": "completed"
    },
    "tags": []
   },
   "outputs": [],
   "source": [
    "def drop_useless_features(train_df, test_df):\n",
    "    X_mi = train.drop(['orders', 'id'], axis=1)\n",
    "    y_mi = train['orders']\n",
    "    \n",
    "    mutual_info = mutual_info_regression(X_mi, y_mi, random_state=SEED)\n",
    "    mutual_info = pd.Series(mutual_info)\n",
    "    mutual_info.index = X_mi.columns\n",
    "    mutual_info = pd.DataFrame(mutual_info.sort_values(ascending=False), columns=['Feature_MI'])\n",
    "    \n",
    "    useless_cols = []\n",
    "    for col in mutual_info.index:\n",
    "        if mutual_info.loc[col, 'Feature_MI'] <= 0:\n",
    "            useless_cols.append(col)\n",
    "            \n",
    "    train_df = train_df.drop(useless_cols, axis=1, errors='ignore')\n",
    "    test_df = test_df.drop(useless_cols, axis=1, errors='ignore')\n",
    "    \n",
    "    return train_df, test_df, useless_cols"
   ]
  },
  {
   "cell_type": "code",
   "execution_count": 13,
   "id": "a214cebd",
   "metadata": {
    "execution": {
     "iopub.execute_input": "2024-06-28T06:09:20.203121Z",
     "iopub.status.busy": "2024-06-28T06:09:20.202872Z",
     "iopub.status.idle": "2024-06-28T06:09:20.207680Z",
     "shell.execute_reply": "2024-06-28T06:09:20.206875Z"
    },
    "papermill": {
     "duration": 0.015238,
     "end_time": "2024-06-28T06:09:20.209399",
     "exception": false,
     "start_time": "2024-06-28T06:09:20.194161",
     "status": "completed"
    },
    "tags": []
   },
   "outputs": [],
   "source": [
    "def separate_train_test(df):\n",
    "    train = df[df['is_train'] == 1].drop('is_train', axis=1)\n",
    "    test = df[df['is_train'] == 0].drop(['is_train', 'orders'], axis=1)\n",
    "\n",
    "    train = train.set_index('date').sort_index()\n",
    "    test = test.set_index('date').sort_index()\n",
    "    \n",
    "    return train, test"
   ]
  },
  {
   "cell_type": "code",
   "execution_count": 14,
   "id": "f2080965",
   "metadata": {
    "execution": {
     "iopub.execute_input": "2024-06-28T06:09:20.229518Z",
     "iopub.status.busy": "2024-06-28T06:09:20.229256Z",
     "iopub.status.idle": "2024-06-28T06:09:30.361441Z",
     "shell.execute_reply": "2024-06-28T06:09:30.360608Z"
    },
    "papermill": {
     "duration": 10.143699,
     "end_time": "2024-06-28T06:09:30.363733",
     "exception": false,
     "start_time": "2024-06-28T06:09:20.220034",
     "status": "completed"
    },
    "tags": []
   },
   "outputs": [],
   "source": [
    "combined = add_tfidf_features(combined)\n",
    "combined = add_count_features(combined)\n",
    "combined = add_geo_features(combined)\n",
    "combined = add_time_features(combined)\n",
    "combined = convert_cat_features(combined)\n",
    "train, test = separate_train_test(combined)\n",
    "train, test, useless_cols = drop_useless_features(train, test)"
   ]
  },
  {
   "cell_type": "code",
   "execution_count": 15,
   "id": "c53186b2",
   "metadata": {
    "execution": {
     "iopub.execute_input": "2024-06-28T06:09:30.381863Z",
     "iopub.status.busy": "2024-06-28T06:09:30.381575Z",
     "iopub.status.idle": "2024-06-28T06:09:30.387838Z",
     "shell.execute_reply": "2024-06-28T06:09:30.387045Z"
    },
    "papermill": {
     "duration": 0.017593,
     "end_time": "2024-06-28T06:09:30.389757",
     "exception": false,
     "start_time": "2024-06-28T06:09:30.372164",
     "status": "completed"
    },
    "tags": []
   },
   "outputs": [
    {
     "name": "stdout",
     "output_type": "stream",
     "text": [
      "Used TFIDF features: 35/50\n",
      "Used Count features: 28/50\n",
      "\n",
      "Total features: 112\n"
     ]
    }
   ],
   "source": [
    "tfidf_cols = [col for col in train.columns if 'tfidf_feat' in col]\n",
    "cnt_cols = [col for col in train.columns if 'cnt_feat' in col]\n",
    "\n",
    "used_tfidf_features = len(tfidf_cols) - len(set(useless_cols) & set(tfidf_cols))\n",
    "used_cnt_features = len(cnt_cols) - len(set(useless_cols) & set(cnt_cols))\n",
    "\n",
    "print(f\"Used TFIDF features: {used_tfidf_features}/50\")\n",
    "print(f\"Used Count features: {used_cnt_features}/50\")\n",
    "print(\"\\nTotal features:\", train.shape[1])"
   ]
  },
  {
   "cell_type": "markdown",
   "id": "8e43e4d2",
   "metadata": {
    "papermill": {
     "duration": 0.007911,
     "end_time": "2024-06-28T06:09:30.405739",
     "exception": false,
     "start_time": "2024-06-28T06:09:30.397828",
     "status": "completed"
    },
    "tags": []
   },
   "source": [
    "# Processing Data for AutoGluon"
   ]
  },
  {
   "cell_type": "code",
   "execution_count": 16,
   "id": "02696d4f",
   "metadata": {
    "execution": {
     "iopub.execute_input": "2024-06-28T06:09:30.423317Z",
     "iopub.status.busy": "2024-06-28T06:09:30.422868Z",
     "iopub.status.idle": "2024-06-28T06:09:30.446479Z",
     "shell.execute_reply": "2024-06-28T06:09:30.445595Z"
    },
    "papermill": {
     "duration": 0.03451,
     "end_time": "2024-06-28T06:09:30.448386",
     "exception": false,
     "start_time": "2024-06-28T06:09:30.413876",
     "status": "completed"
    },
    "tags": []
   },
   "outputs": [],
   "source": [
    "train['item_id'] = train['id'].apply(lambda x: x.split('_')[0] + '_' + x.split('_')[1])\n",
    "test['item_id'] = test['id'].apply(lambda x: x.split('_')[0] + '_' + x.split('_')[1])\n",
    "\n",
    "train = train.drop(columns=['id'])\n",
    "test = test.drop(columns=['id'])\n",
    "\n",
    "train = train.rename(columns={'orders': 'target'})\n",
    "test['target'] = 0\n",
    "\n",
    "train = train.reset_index(drop=False)\n",
    "test = test.reset_index(drop=False)"
   ]
  },
  {
   "cell_type": "code",
   "execution_count": 17,
   "id": "357cc786",
   "metadata": {
    "execution": {
     "iopub.execute_input": "2024-06-28T06:09:30.465731Z",
     "iopub.status.busy": "2024-06-28T06:09:30.465457Z",
     "iopub.status.idle": "2024-06-28T06:09:31.940485Z",
     "shell.execute_reply": "2024-06-28T06:09:31.939363Z"
    },
    "papermill": {
     "duration": 1.486402,
     "end_time": "2024-06-28T06:09:31.942937",
     "exception": false,
     "start_time": "2024-06-28T06:09:30.456535",
     "status": "completed"
    },
    "tags": []
   },
   "outputs": [],
   "source": [
    "train_data = TimeSeriesDataFrame.from_data_frame(train, id_column='item_id', timestamp_column='date')\n",
    "test_data = TimeSeriesDataFrame.from_data_frame(test, id_column='item_id', timestamp_column='date')\n",
    "\n",
    "train_data['is_train'] = True\n",
    "test_data['is_train'] = False\n",
    "\n",
    "combined = pd.concat([train_data, test_data])\n",
    "\n",
    "combined = combined.convert_frequency(freq='D')\n",
    "combined = combined.sort_index().fill_missing_values()\n",
    "\n",
    "train_data = combined[combined.is_train == True]\n",
    "test_data = combined[combined.is_train == False]\n",
    "\n",
    "train_data = train_data.drop(columns=['is_train'])\n",
    "test_data = test_data.drop(columns=['is_train'])"
   ]
  },
  {
   "cell_type": "code",
   "execution_count": 18,
   "id": "406954e6",
   "metadata": {
    "execution": {
     "iopub.execute_input": "2024-06-28T06:09:31.962977Z",
     "iopub.status.busy": "2024-06-28T06:09:31.962572Z",
     "iopub.status.idle": "2024-06-28T06:09:31.967231Z",
     "shell.execute_reply": "2024-06-28T06:09:31.966427Z"
    },
    "papermill": {
     "duration": 0.017313,
     "end_time": "2024-06-28T06:09:31.969090",
     "exception": false,
     "start_time": "2024-06-28T06:09:31.951777",
     "status": "completed"
    },
    "tags": []
   },
   "outputs": [],
   "source": [
    "covariate_features = [col for col in train_data.columns if col not in ['target', 'item_id', 'date']]"
   ]
  },
  {
   "cell_type": "markdown",
   "id": "3721eb03",
   "metadata": {
    "papermill": {
     "duration": 0.007881,
     "end_time": "2024-06-28T06:09:31.985180",
     "exception": false,
     "start_time": "2024-06-28T06:09:31.977299",
     "status": "completed"
    },
    "tags": []
   },
   "source": [
    "# Training"
   ]
  },
  {
   "cell_type": "code",
   "execution_count": 19,
   "id": "b1ab7049",
   "metadata": {
    "execution": {
     "iopub.execute_input": "2024-06-28T06:09:32.002397Z",
     "iopub.status.busy": "2024-06-28T06:09:32.002117Z",
     "iopub.status.idle": "2024-06-28T06:09:32.006028Z",
     "shell.execute_reply": "2024-06-28T06:09:32.005219Z"
    },
    "papermill": {
     "duration": 0.014907,
     "end_time": "2024-06-28T06:09:32.008239",
     "exception": false,
     "start_time": "2024-06-28T06:09:31.993332",
     "status": "completed"
    },
    "tags": []
   },
   "outputs": [],
   "source": [
    "quantile_levels = [0.45, 0.5, 0.55, 0.6, 0.65]"
   ]
  },
  {
   "cell_type": "code",
   "execution_count": 20,
   "id": "e2fbd90f",
   "metadata": {
    "_kg_hide-output": true,
    "execution": {
     "iopub.execute_input": "2024-06-28T06:09:32.025307Z",
     "iopub.status.busy": "2024-06-28T06:09:32.025038Z",
     "iopub.status.idle": "2024-06-28T06:12:47.428705Z",
     "shell.execute_reply": "2024-06-28T06:12:47.427799Z"
    },
    "papermill": {
     "duration": 195.414436,
     "end_time": "2024-06-28T06:12:47.430655",
     "exception": false,
     "start_time": "2024-06-28T06:09:32.016219",
     "status": "completed"
    },
    "scrolled": true,
    "tags": []
   },
   "outputs": [
    {
     "name": "stderr",
     "output_type": "stream",
     "text": [
      "No path specified. Models will be saved in: \"AutogluonModels/ag-20240628_060932\"\n",
      "Beginning AutoGluon training... Time limit = 36000s\n",
      "AutoGluon will save models to 'AutogluonModels/ag-20240628_060932'\n",
      "=================== System Info ===================\n",
      "AutoGluon Version:  1.1.1\n",
      "Python Version:     3.10.13\n",
      "Operating System:   Linux\n",
      "Platform Machine:   x86_64\n",
      "Platform Version:   #1 SMP Tue Dec 19 13:14:11 UTC 2023\n",
      "CPU Count:          4\n",
      "GPU Count:          1\n",
      "Memory Avail:       29.90 GB / 31.36 GB (95.4%)\n",
      "Disk Space Avail:   19.50 GB / 19.52 GB (99.9%)\n",
      "===================================================\n",
      "Setting presets to: best_quality\n",
      "\n",
      "Fitting with arguments:\n",
      "{'enable_ensemble': True,\n",
      " 'eval_metric': MAPE,\n",
      " 'freq': 'D',\n",
      " 'hyperparameters': 'default',\n",
      " 'known_covariates_names': ['holiday',\n",
      "                            'shops_closed',\n",
      "                            'winter_school_holidays',\n",
      "                            'school_holidays',\n",
      "                            'tfidf_feat_0',\n",
      "                            'tfidf_feat_1',\n",
      "                            'tfidf_feat_2',\n",
      "                            'tfidf_feat_3',\n",
      "                            'tfidf_feat_4',\n",
      "                            'tfidf_feat_5',\n",
      "                            'tfidf_feat_6',\n",
      "                            'tfidf_feat_7',\n",
      "                            'tfidf_feat_8',\n",
      "                            'tfidf_feat_9',\n",
      "                            'tfidf_feat_10',\n",
      "                            'tfidf_feat_11',\n",
      "                            'tfidf_feat_16',\n",
      "                            'tfidf_feat_17',\n",
      "                            'tfidf_feat_18',\n",
      "                            'tfidf_feat_19',\n",
      "                            'tfidf_feat_20',\n",
      "                            'tfidf_feat_24',\n",
      "                            'tfidf_feat_25',\n",
      "                            'tfidf_feat_26',\n",
      "                            'tfidf_feat_27',\n",
      "                            'tfidf_feat_28',\n",
      "                            'tfidf_feat_29',\n",
      "                            'tfidf_feat_34',\n",
      "                            'tfidf_feat_35',\n",
      "                            'tfidf_feat_37',\n",
      "                            'tfidf_feat_39',\n",
      "                            'tfidf_feat_41',\n",
      "                            'tfidf_feat_42',\n",
      "                            'tfidf_feat_43',\n",
      "                            'tfidf_feat_44',\n",
      "                            'tfidf_feat_45',\n",
      "                            'tfidf_feat_47',\n",
      "                            'tfidf_feat_48',\n",
      "                            'tfidf_feat_49',\n",
      "                            'cnt_feat_3',\n",
      "                            'cnt_feat_4',\n",
      "                            'cnt_feat_5',\n",
      "                            'cnt_feat_7',\n",
      "                            'cnt_feat_8',\n",
      "                            'cnt_feat_9',\n",
      "                            'cnt_feat_10',\n",
      "                            'cnt_feat_13',\n",
      "                            'cnt_feat_16',\n",
      "                            'cnt_feat_18',\n",
      "                            'cnt_feat_19',\n",
      "                            'cnt_feat_20',\n",
      "                            'cnt_feat_21',\n",
      "                            'cnt_feat_25',\n",
      "                            'cnt_feat_26',\n",
      "                            'cnt_feat_27',\n",
      "                            'cnt_feat_28',\n",
      "                            'cnt_feat_29',\n",
      "                            'cnt_feat_30',\n",
      "                            'cnt_feat_34',\n",
      "                            'cnt_feat_35',\n",
      "                            'cnt_feat_36',\n",
      "                            'cnt_feat_37',\n",
      "                            'cnt_feat_39',\n",
      "                            'cnt_feat_41',\n",
      "                            'cnt_feat_44',\n",
      "                            'cnt_feat_47',\n",
      "                            'cnt_feat_48',\n",
      "                            'city_Brno',\n",
      "                            'city_Budapest',\n",
      "                            'city_Frankfurt',\n",
      "                            'city_Munich',\n",
      "                            'city_Prague',\n",
      "                            'country_Czech Republic',\n",
      "                            'country_Germany',\n",
      "                            'country_Hungary',\n",
      "                            'year',\n",
      "                            'month',\n",
      "                            'sin_month',\n",
      "                            'cos_month',\n",
      "                            'day_of_week',\n",
      "                            'sin_day_of_week',\n",
      "                            'cos_day_of_week',\n",
      "                            'day_of_year',\n",
      "                            'sin_day_of_year',\n",
      "                            'cos_day_of_year',\n",
      "                            'week',\n",
      "                            'quarter',\n",
      "                            'season',\n",
      "                            'is_weekend',\n",
      "                            'is_friday',\n",
      "                            'day_before_holiday',\n",
      "                            'day_before_school_holiday',\n",
      "                            'day_after_school_holiday',\n",
      "                            'day_before_winter_school_holiday',\n",
      "                            'day_after_winter_school_holiday',\n",
      "                            'holiday_and_shops_closed',\n",
      "                            'warehouse_Brno_1',\n",
      "                            'warehouse_Budapest_1',\n",
      "                            'warehouse_Frankfurt_1',\n",
      "                            'warehouse_Munich_1',\n",
      "                            'warehouse_Prague_1',\n",
      "                            'warehouse_Prague_2',\n",
      "                            'warehouse_Prague_3',\n",
      "                            'holiday_name_Cyrila a Metodej',\n",
      "                            'holiday_name_Den ceske statnosti',\n",
      "                            'holiday_name_Good Friday',\n",
      "                            'holiday_name_Jan Hus',\n",
      "                            'holiday_name_Labour Day',\n",
      "                            'holiday_name_New Years Day',\n",
      "                            'holiday_name_Peace Festival in Augsburg'],\n",
      " 'num_val_windows': 2,\n",
      " 'prediction_length': 61,\n",
      " 'quantile_levels': [0.45, 0.5, 0.55, 0.6, 0.65],\n",
      " 'random_seed': 123,\n",
      " 'refit_every_n_windows': 1,\n",
      " 'refit_full': False,\n",
      " 'skip_model_selection': False,\n",
      " 'target': 'target',\n",
      " 'time_limit': 36000,\n",
      " 'verbosity': 2}\n",
      "\n",
      "Provided train_data has 7711 rows, 7 time series. Median time series length is 1197 (min=757, max=1197). \n",
      "\n",
      "Provided data contains following columns:\n",
      "\ttarget: 'target'\n",
      "\tknown_covariates:\n",
      "\t\tcategorical:        []\n",
      "\t\tcontinuous (float): ['holiday', 'shops_closed', 'winter_school_holidays', 'school_holidays', 'tfidf_feat_0', 'tfidf_feat_1', ...]\n",
      "\n",
      "AutoGluon will ignore following non-numeric/non-informative columns:\n",
      "\tignored covariates:      ['cnt_feat_10', 'cnt_feat_27', 'cnt_feat_7', 'country_Hungary', 'holiday_and_shops_closed', 'tfidf_feat_10', 'tfidf_feat_27', 'tfidf_feat_3', 'tfidf_feat_7', 'warehouse_Brno_1', 'warehouse_Budapest_1', 'warehouse_Frankfurt_1', 'warehouse_Munich_1']\n",
      "\n",
      "To learn how to fix incorrectly inferred types, please see documentation for TimeSeriesPredictor.fit\n",
      "\n",
      "AutoGluon will gauge predictive performance using evaluation metric: 'MAPE'\n",
      "\tThis metric's sign has been flipped to adhere to being higher_is_better. The metric score can be multiplied by -1 to get the metric value.\n",
      "===================================================\n",
      "\n",
      "Starting training. Start time is 2024-06-28 06:09:37\n",
      "Models that will be trained: ['SeasonalNaive', 'RecursiveTabular', 'DirectTabular', 'CrostonSBA', 'NPTS', 'DynamicOptimizedTheta', 'AutoETS', 'AutoARIMA', 'Chronos[base]', 'TemporalFusionTransformer', 'DeepAR', 'PatchTST']\n",
      "Training timeseries model SeasonalNaive. Training for up to 2949.8s of the 35997.3s of remaining time.\n",
      "\t-0.0697       = Validation score (-MAPE)\n",
      "\t2.07    s     = Training runtime\n",
      "\t0.04    s     = Validation (prediction) runtime\n",
      "Training timeseries model RecursiveTabular. Training for up to 3217.7s of the 35995.2s of remaining time.\n",
      "[LightGBM] [Fatal] The number of features in data (192) is not the same as it was in training data (186).\n",
      "You can set ``predict_disable_shape_check=true`` to discard this error, but please be aware what you are doing.\n",
      "\tWarning: Exception caused RecursiveTabular to fail during training... Skipping this model.\n",
      "\tThe number of features in data (192) is not the same as it was in training data (186).\n",
      "You can set ``predict_disable_shape_check=true`` to discard this error, but please be aware what you are doing.\n",
      "Training timeseries model DirectTabular. Training for up to 3537.7s of the 35977.3s of remaining time.\n",
      "\t-0.1397       = Validation score (-MAPE)\n",
      "\t15.68   s     = Training runtime\n",
      "\t0.52    s     = Validation (prediction) runtime\n",
      "Training timeseries model CrostonSBA. Training for up to 3929.0s of the 35961.1s of remaining time.\n",
      "\t-0.1087       = Validation score (-MAPE)\n",
      "\t10.13   s     = Training runtime\n",
      "\t0.04    s     = Validation (prediction) runtime\n",
      "Training timeseries model NPTS. Training for up to 4418.9s of the 35950.9s of remaining time.\n",
      "\t-0.2075       = Validation score (-MAPE)\n",
      "\t2.40    s     = Training runtime\n",
      "\t2.41    s     = Validation (prediction) runtime\n",
      "Training timeseries model DynamicOptimizedTheta. Training for up to 5049.4s of the 35946.1s of remaining time.\n",
      "\t-0.0826       = Validation score (-MAPE)\n",
      "\t21.48   s     = Training runtime\n",
      "\t2.67    s     = Validation (prediction) runtime\n",
      "Training timeseries model AutoETS. Training for up to 5887.0s of the 35922.0s of remaining time.\n",
      "\t-0.0714       = Validation score (-MAPE)\n",
      "\t14.31   s     = Training runtime\n",
      "\t4.41    s     = Validation (prediction) runtime\n",
      "Training timeseries model AutoARIMA. Training for up to 7060.6s of the 35903.2s of remaining time.\n",
      "\t-0.0964       = Validation score (-MAPE)\n",
      "\t19.76   s     = Training runtime\n",
      "\t6.38    s     = Validation (prediction) runtime\n",
      "Training timeseries model Chronos[base]. Training for up to 8819.3s of the 35877.1s of remaining time.\n",
      "2024-06-28 06:11:42.430447: E external/local_xla/xla/stream_executor/cuda/cuda_dnn.cc:9261] Unable to register cuDNN factory: Attempting to register factory for plugin cuDNN when one has already been registered\n",
      "2024-06-28 06:11:42.430557: E external/local_xla/xla/stream_executor/cuda/cuda_fft.cc:607] Unable to register cuFFT factory: Attempting to register factory for plugin cuFFT when one has already been registered\n",
      "2024-06-28 06:11:42.564681: E external/local_xla/xla/stream_executor/cuda/cuda_blas.cc:1515] Unable to register cuBLAS factory: Attempting to register factory for plugin cuBLAS when one has already been registered\n"
     ]
    },
    {
     "data": {
      "application/vnd.jupyter.widget-view+json": {
       "model_id": "68d552a6fb234135bda368c8d23b7dc2",
       "version_major": 2,
       "version_minor": 0
      },
      "text/plain": [
       "config.json:   0%|          | 0.00/1.12k [00:00<?, ?B/s]"
      ]
     },
     "metadata": {},
     "output_type": "display_data"
    },
    {
     "data": {
      "application/vnd.jupyter.widget-view+json": {
       "model_id": "5a111188f9644bf89a3a599707fd81dc",
       "version_major": 2,
       "version_minor": 0
      },
      "text/plain": [
       "model.safetensors:   0%|          | 0.00/806M [00:00<?, ?B/s]"
      ]
     },
     "metadata": {},
     "output_type": "display_data"
    },
    {
     "data": {
      "application/vnd.jupyter.widget-view+json": {
       "model_id": "39b4ec8e4bc64337bca4d7ff58c187e5",
       "version_major": 2,
       "version_minor": 0
      },
      "text/plain": [
       "generation_config.json:   0%|          | 0.00/142 [00:00<?, ?B/s]"
      ]
     },
     "metadata": {},
     "output_type": "display_data"
    },
    {
     "name": "stderr",
     "output_type": "stream",
     "text": [
      "\t-0.0754       = Validation score (-MAPE)\n",
      "\t59.17   s     = Training runtime\n",
      "\t6.39    s     = Validation (prediction) runtime\n",
      "Training timeseries model TemporalFusionTransformer. Training for up to 11737.2s of the 35811.5s of remaining time.\n",
      "\tWarning: Exception caused TemporalFusionTransformer to fail during training... Skipping this model.\n",
      "\t/opt/conda/lib/python3.10/site-packages/torchaudio/lib/libtorchaudio.so: undefined symbol: _ZNK5torch8autograd4Node4nameB5cxx11Ev\n",
      "Training timeseries model DeepAR. Training for up to 17605.4s of the 35810.9s of remaining time.\n",
      "\tWarning: Exception caused DeepAR to fail during training... Skipping this model.\n",
      "\t/opt/conda/lib/python3.10/site-packages/torchaudio/lib/libtorchaudio.so: undefined symbol: _ZNK5torch8autograd4Node4nameB5cxx11Ev\n",
      "Training timeseries model PatchTST. Training for up to 35210.5s of the 35810.5s of remaining time.\n",
      "\tWarning: Exception caused PatchTST to fail during training... Skipping this model.\n",
      "\t/opt/conda/lib/python3.10/site-packages/torchaudio/lib/libtorchaudio.so: undefined symbol: _ZNK5torch8autograd4Node4nameB5cxx11Ev\n",
      "Fitting simple weighted ensemble.\n",
      "\tEnsemble weights: {'AutoETS': 0.38, 'Chronos[base]': 0.09, 'DirectTabular': 0.06, 'SeasonalNaive': 0.46}\n",
      "\t-0.0652       = Validation score (-MAPE)\n",
      "\t2.10    s     = Training runtime\n",
      "\t11.37   s     = Validation (prediction) runtime\n",
      "Training complete. Models trained: ['SeasonalNaive', 'DirectTabular', 'CrostonSBA', 'NPTS', 'DynamicOptimizedTheta', 'AutoETS', 'AutoARIMA', 'Chronos[base]', 'WeightedEnsemble']\n",
      "Total runtime: 189.90 s\n",
      "Best model: WeightedEnsemble\n",
      "Best model score: -0.0652\n"
     ]
    },
    {
     "data": {
      "text/plain": [
       "<autogluon.timeseries.predictor.TimeSeriesPredictor at 0x7d107efe2e90>"
      ]
     },
     "execution_count": 20,
     "metadata": {},
     "output_type": "execute_result"
    }
   ],
   "source": [
    "predictor = TimeSeriesPredictor(\n",
    "    prediction_length=61,\n",
    "    quantile_levels=quantile_levels,\n",
    "    target='target',\n",
    "    eval_metric='MAPE',\n",
    "    known_covariates_names=covariate_features,\n",
    "    freq='D'\n",
    ")\n",
    "\n",
    "predictor.fit(\n",
    "    train_data,\n",
    "    presets='best_quality',\n",
    "    time_limit=TIME_LIMIT\n",
    ")"
   ]
  },
  {
   "cell_type": "code",
   "execution_count": 21,
   "id": "fb2daf14",
   "metadata": {
    "execution": {
     "iopub.execute_input": "2024-06-28T06:12:47.461531Z",
     "iopub.status.busy": "2024-06-28T06:12:47.461221Z",
     "iopub.status.idle": "2024-06-28T06:12:47.481816Z",
     "shell.execute_reply": "2024-06-28T06:12:47.480913Z"
    },
    "papermill": {
     "duration": 0.038138,
     "end_time": "2024-06-28T06:12:47.483784",
     "exception": false,
     "start_time": "2024-06-28T06:12:47.445646",
     "status": "completed"
    },
    "tags": []
   },
   "outputs": [
    {
     "data": {
      "text/html": [
       "<div>\n",
       "<style scoped>\n",
       "    .dataframe tbody tr th:only-of-type {\n",
       "        vertical-align: middle;\n",
       "    }\n",
       "\n",
       "    .dataframe tbody tr th {\n",
       "        vertical-align: top;\n",
       "    }\n",
       "\n",
       "    .dataframe thead th {\n",
       "        text-align: right;\n",
       "    }\n",
       "</style>\n",
       "<table border=\"1\" class=\"dataframe\">\n",
       "  <thead>\n",
       "    <tr style=\"text-align: right;\">\n",
       "      <th></th>\n",
       "      <th>model</th>\n",
       "      <th>score_val</th>\n",
       "      <th>pred_time_val</th>\n",
       "      <th>fit_time_marginal</th>\n",
       "      <th>fit_order</th>\n",
       "    </tr>\n",
       "  </thead>\n",
       "  <tbody>\n",
       "    <tr>\n",
       "      <th>0</th>\n",
       "      <td>WeightedEnsemble</td>\n",
       "      <td>-0.065167</td>\n",
       "      <td>11.367319</td>\n",
       "      <td>2.100333</td>\n",
       "      <td>9</td>\n",
       "    </tr>\n",
       "    <tr>\n",
       "      <th>1</th>\n",
       "      <td>SeasonalNaive</td>\n",
       "      <td>-0.069710</td>\n",
       "      <td>0.042487</td>\n",
       "      <td>2.071346</td>\n",
       "      <td>1</td>\n",
       "    </tr>\n",
       "    <tr>\n",
       "      <th>2</th>\n",
       "      <td>AutoETS</td>\n",
       "      <td>-0.071409</td>\n",
       "      <td>4.409824</td>\n",
       "      <td>14.305235</td>\n",
       "      <td>6</td>\n",
       "    </tr>\n",
       "    <tr>\n",
       "      <th>3</th>\n",
       "      <td>Chronos[base]</td>\n",
       "      <td>-0.075448</td>\n",
       "      <td>6.394593</td>\n",
       "      <td>59.169095</td>\n",
       "      <td>8</td>\n",
       "    </tr>\n",
       "    <tr>\n",
       "      <th>4</th>\n",
       "      <td>DynamicOptimizedTheta</td>\n",
       "      <td>-0.082622</td>\n",
       "      <td>2.673134</td>\n",
       "      <td>21.476027</td>\n",
       "      <td>5</td>\n",
       "    </tr>\n",
       "    <tr>\n",
       "      <th>5</th>\n",
       "      <td>AutoARIMA</td>\n",
       "      <td>-0.096447</td>\n",
       "      <td>6.375653</td>\n",
       "      <td>19.757127</td>\n",
       "      <td>7</td>\n",
       "    </tr>\n",
       "    <tr>\n",
       "      <th>6</th>\n",
       "      <td>CrostonSBA</td>\n",
       "      <td>-0.108665</td>\n",
       "      <td>0.043853</td>\n",
       "      <td>10.131365</td>\n",
       "      <td>3</td>\n",
       "    </tr>\n",
       "    <tr>\n",
       "      <th>7</th>\n",
       "      <td>DirectTabular</td>\n",
       "      <td>-0.139654</td>\n",
       "      <td>0.520415</td>\n",
       "      <td>15.683160</td>\n",
       "      <td>2</td>\n",
       "    </tr>\n",
       "    <tr>\n",
       "      <th>8</th>\n",
       "      <td>NPTS</td>\n",
       "      <td>-0.207476</td>\n",
       "      <td>2.405347</td>\n",
       "      <td>2.396720</td>\n",
       "      <td>4</td>\n",
       "    </tr>\n",
       "  </tbody>\n",
       "</table>\n",
       "</div>"
      ],
      "text/plain": [
       "                   model  score_val  pred_time_val  fit_time_marginal  \\\n",
       "0       WeightedEnsemble  -0.065167      11.367319           2.100333   \n",
       "1          SeasonalNaive  -0.069710       0.042487           2.071346   \n",
       "2                AutoETS  -0.071409       4.409824          14.305235   \n",
       "3          Chronos[base]  -0.075448       6.394593          59.169095   \n",
       "4  DynamicOptimizedTheta  -0.082622       2.673134          21.476027   \n",
       "5              AutoARIMA  -0.096447       6.375653          19.757127   \n",
       "6             CrostonSBA  -0.108665       0.043853          10.131365   \n",
       "7          DirectTabular  -0.139654       0.520415          15.683160   \n",
       "8                   NPTS  -0.207476       2.405347           2.396720   \n",
       "\n",
       "   fit_order  \n",
       "0          9  \n",
       "1          1  \n",
       "2          6  \n",
       "3          8  \n",
       "4          5  \n",
       "5          7  \n",
       "6          3  \n",
       "7          2  \n",
       "8          4  "
      ]
     },
     "execution_count": 21,
     "metadata": {},
     "output_type": "execute_result"
    }
   ],
   "source": [
    "predictor.leaderboard()"
   ]
  },
  {
   "cell_type": "markdown",
   "id": "d44b065a",
   "metadata": {
    "papermill": {
     "duration": 0.014609,
     "end_time": "2024-06-28T06:12:47.513455",
     "exception": false,
     "start_time": "2024-06-28T06:12:47.498846",
     "status": "completed"
    },
    "tags": []
   },
   "source": [
    "# Making Predictions"
   ]
  },
  {
   "cell_type": "code",
   "execution_count": 22,
   "id": "ec1c18ea",
   "metadata": {
    "execution": {
     "iopub.execute_input": "2024-06-28T06:12:47.544470Z",
     "iopub.status.busy": "2024-06-28T06:12:47.544172Z",
     "iopub.status.idle": "2024-06-28T06:12:59.398239Z",
     "shell.execute_reply": "2024-06-28T06:12:59.397255Z"
    },
    "papermill": {
     "duration": 11.872557,
     "end_time": "2024-06-28T06:12:59.400884",
     "exception": false,
     "start_time": "2024-06-28T06:12:47.528327",
     "status": "completed"
    },
    "tags": []
   },
   "outputs": [
    {
     "name": "stderr",
     "output_type": "stream",
     "text": [
      "Model not specified in predict, will default to the model with the best validation score: WeightedEnsemble\n"
     ]
    }
   ],
   "source": [
    "predictions = predictor.predict(\n",
    "    train_data,\n",
    "    known_covariates=test_data[covariate_features]\n",
    ")"
   ]
  },
  {
   "cell_type": "code",
   "execution_count": 23,
   "id": "77862f3e",
   "metadata": {
    "execution": {
     "iopub.execute_input": "2024-06-28T06:12:59.433232Z",
     "iopub.status.busy": "2024-06-28T06:12:59.432946Z",
     "iopub.status.idle": "2024-06-28T06:12:59.457761Z",
     "shell.execute_reply": "2024-06-28T06:12:59.456898Z"
    },
    "papermill": {
     "duration": 0.042679,
     "end_time": "2024-06-28T06:12:59.459714",
     "exception": false,
     "start_time": "2024-06-28T06:12:59.417035",
     "status": "completed"
    },
    "tags": []
   },
   "outputs": [
    {
     "data": {
      "text/html": [
       "<div>\n",
       "<style scoped>\n",
       "    .dataframe tbody tr th:only-of-type {\n",
       "        vertical-align: middle;\n",
       "    }\n",
       "\n",
       "    .dataframe tbody tr th {\n",
       "        vertical-align: top;\n",
       "    }\n",
       "\n",
       "    .dataframe thead th {\n",
       "        text-align: right;\n",
       "    }\n",
       "</style>\n",
       "<table border=\"1\" class=\"dataframe\">\n",
       "  <thead>\n",
       "    <tr style=\"text-align: right;\">\n",
       "      <th></th>\n",
       "      <th></th>\n",
       "      <th>mean</th>\n",
       "      <th>0.45</th>\n",
       "      <th>0.5</th>\n",
       "      <th>0.55</th>\n",
       "      <th>0.6</th>\n",
       "      <th>0.65</th>\n",
       "    </tr>\n",
       "    <tr>\n",
       "      <th>item_id</th>\n",
       "      <th>timestamp</th>\n",
       "      <th></th>\n",
       "      <th></th>\n",
       "      <th></th>\n",
       "      <th></th>\n",
       "      <th></th>\n",
       "      <th></th>\n",
       "    </tr>\n",
       "  </thead>\n",
       "  <tbody>\n",
       "    <tr>\n",
       "      <th rowspan=\"5\" valign=\"top\">Brno_1</th>\n",
       "      <th>2024-03-16</th>\n",
       "      <td>9339.347783</td>\n",
       "      <td>9262.107486</td>\n",
       "      <td>9339.347783</td>\n",
       "      <td>9418.959992</td>\n",
       "      <td>9500.262968</td>\n",
       "      <td>9579.286769</td>\n",
       "    </tr>\n",
       "    <tr>\n",
       "      <th>2024-03-17</th>\n",
       "      <td>8331.649303</td>\n",
       "      <td>8250.038922</td>\n",
       "      <td>8331.649303</td>\n",
       "      <td>8413.259684</td>\n",
       "      <td>8492.937404</td>\n",
       "      <td>8579.963629</td>\n",
       "    </tr>\n",
       "    <tr>\n",
       "      <th>2024-03-18</th>\n",
       "      <td>8207.552839</td>\n",
       "      <td>8123.266983</td>\n",
       "      <td>8207.552839</td>\n",
       "      <td>8289.466785</td>\n",
       "      <td>8373.189238</td>\n",
       "      <td>8458.571529</td>\n",
       "    </tr>\n",
       "    <tr>\n",
       "      <th>2024-03-19</th>\n",
       "      <td>8710.317280</td>\n",
       "      <td>8625.633406</td>\n",
       "      <td>8710.317280</td>\n",
       "      <td>8792.629284</td>\n",
       "      <td>8878.375667</td>\n",
       "      <td>8967.984728</td>\n",
       "    </tr>\n",
       "    <tr>\n",
       "      <th>2024-03-20</th>\n",
       "      <td>8507.278807</td>\n",
       "      <td>8420.119834</td>\n",
       "      <td>8507.278807</td>\n",
       "      <td>8594.437779</td>\n",
       "      <td>8685.598122</td>\n",
       "      <td>8777.806660</td>\n",
       "    </tr>\n",
       "    <tr>\n",
       "      <th>...</th>\n",
       "      <th>...</th>\n",
       "      <td>...</td>\n",
       "      <td>...</td>\n",
       "      <td>...</td>\n",
       "      <td>...</td>\n",
       "      <td>...</td>\n",
       "      <td>...</td>\n",
       "    </tr>\n",
       "    <tr>\n",
       "      <th rowspan=\"5\" valign=\"top\">Prague_3</th>\n",
       "      <th>2024-05-11</th>\n",
       "      <td>5573.370113</td>\n",
       "      <td>5432.527309</td>\n",
       "      <td>5573.370113</td>\n",
       "      <td>5717.261734</td>\n",
       "      <td>5865.088839</td>\n",
       "      <td>6016.478104</td>\n",
       "    </tr>\n",
       "    <tr>\n",
       "      <th>2024-05-12</th>\n",
       "      <td>5323.101740</td>\n",
       "      <td>5182.020654</td>\n",
       "      <td>5323.101740</td>\n",
       "      <td>5464.182806</td>\n",
       "      <td>5611.916002</td>\n",
       "      <td>5765.765956</td>\n",
       "    </tr>\n",
       "    <tr>\n",
       "      <th>2024-05-13</th>\n",
       "      <td>5100.811338</td>\n",
       "      <td>4960.869715</td>\n",
       "      <td>5100.811338</td>\n",
       "      <td>5243.801778</td>\n",
       "      <td>5391.079229</td>\n",
       "      <td>5542.454019</td>\n",
       "    </tr>\n",
       "    <tr>\n",
       "      <th>2024-05-14</th>\n",
       "      <td>5067.952040</td>\n",
       "      <td>4925.929872</td>\n",
       "      <td>5067.952040</td>\n",
       "      <td>5209.974209</td>\n",
       "      <td>5352.563285</td>\n",
       "      <td>5499.940413</td>\n",
       "    </tr>\n",
       "    <tr>\n",
       "      <th>2024-05-15</th>\n",
       "      <td>5010.647503</td>\n",
       "      <td>4864.851934</td>\n",
       "      <td>5010.647503</td>\n",
       "      <td>5157.967481</td>\n",
       "      <td>5302.811766</td>\n",
       "      <td>5454.151054</td>\n",
       "    </tr>\n",
       "  </tbody>\n",
       "</table>\n",
       "<p>427 rows × 6 columns</p>\n",
       "</div>"
      ],
      "text/plain": [
       "                            mean         0.45          0.5         0.55  \\\n",
       "item_id  timestamp                                                        \n",
       "Brno_1   2024-03-16  9339.347783  9262.107486  9339.347783  9418.959992   \n",
       "         2024-03-17  8331.649303  8250.038922  8331.649303  8413.259684   \n",
       "         2024-03-18  8207.552839  8123.266983  8207.552839  8289.466785   \n",
       "         2024-03-19  8710.317280  8625.633406  8710.317280  8792.629284   \n",
       "         2024-03-20  8507.278807  8420.119834  8507.278807  8594.437779   \n",
       "...                          ...          ...          ...          ...   \n",
       "Prague_3 2024-05-11  5573.370113  5432.527309  5573.370113  5717.261734   \n",
       "         2024-05-12  5323.101740  5182.020654  5323.101740  5464.182806   \n",
       "         2024-05-13  5100.811338  4960.869715  5100.811338  5243.801778   \n",
       "         2024-05-14  5067.952040  4925.929872  5067.952040  5209.974209   \n",
       "         2024-05-15  5010.647503  4864.851934  5010.647503  5157.967481   \n",
       "\n",
       "                             0.6         0.65  \n",
       "item_id  timestamp                             \n",
       "Brno_1   2024-03-16  9500.262968  9579.286769  \n",
       "         2024-03-17  8492.937404  8579.963629  \n",
       "         2024-03-18  8373.189238  8458.571529  \n",
       "         2024-03-19  8878.375667  8967.984728  \n",
       "         2024-03-20  8685.598122  8777.806660  \n",
       "...                          ...          ...  \n",
       "Prague_3 2024-05-11  5865.088839  6016.478104  \n",
       "         2024-05-12  5611.916002  5765.765956  \n",
       "         2024-05-13  5391.079229  5542.454019  \n",
       "         2024-05-14  5352.563285  5499.940413  \n",
       "         2024-05-15  5302.811766  5454.151054  \n",
       "\n",
       "[427 rows x 6 columns]"
      ]
     },
     "execution_count": 23,
     "metadata": {},
     "output_type": "execute_result"
    }
   ],
   "source": [
    "predictions.to_csv(\"raw_predictions.csv\")\n",
    "predictions"
   ]
  },
  {
   "cell_type": "code",
   "execution_count": 24,
   "id": "ac83ea13",
   "metadata": {
    "execution": {
     "iopub.execute_input": "2024-06-28T06:12:59.491816Z",
     "iopub.status.busy": "2024-06-28T06:12:59.491219Z",
     "iopub.status.idle": "2024-06-28T06:12:59.498916Z",
     "shell.execute_reply": "2024-06-28T06:12:59.498064Z"
    },
    "papermill": {
     "duration": 0.025634,
     "end_time": "2024-06-28T06:12:59.500668",
     "exception": false,
     "start_time": "2024-06-28T06:12:59.475034",
     "status": "completed"
    },
    "tags": []
   },
   "outputs": [],
   "source": [
    "predictions = predictions.reset_index(drop=False)\n",
    "predictions['timestamp'] = predictions['timestamp'].astype('str')\n",
    "predictions['id'] = predictions['item_id'] + '_' + predictions['timestamp']"
   ]
  },
  {
   "cell_type": "code",
   "execution_count": 25,
   "id": "9e1f00b3",
   "metadata": {
    "execution": {
     "iopub.execute_input": "2024-06-28T06:12:59.532265Z",
     "iopub.status.busy": "2024-06-28T06:12:59.531993Z",
     "iopub.status.idle": "2024-06-28T06:13:00.836445Z",
     "shell.execute_reply": "2024-06-28T06:13:00.835352Z"
    },
    "papermill": {
     "duration": 1.322896,
     "end_time": "2024-06-28T06:13:00.838792",
     "exception": false,
     "start_time": "2024-06-28T06:12:59.515896",
     "status": "completed"
    },
    "tags": []
   },
   "outputs": [],
   "source": [
    "q = 0\n",
    "def get_prediction(row):\n",
    "    return predictions[predictions['id'] == row['id']][str(q)].values[0]\n",
    "\n",
    "for _q in quantile_levels + [\"mean\"]:\n",
    "    q = _q\n",
    "    sub = pd.DataFrame({'id': test_ids, 'orders': 0})\n",
    "    sub['orders'] = sub.apply(get_prediction, axis=1)\n",
    "    sub.to_csv(f'submission_{q}.csv', index=False)\n",
    "    sub.head()"
   ]
  },
  {
   "cell_type": "code",
   "execution_count": null,
   "id": "381fd61a",
   "metadata": {
    "papermill": {
     "duration": 0.015332,
     "end_time": "2024-06-28T06:13:00.869734",
     "exception": false,
     "start_time": "2024-06-28T06:13:00.854402",
     "status": "completed"
    },
    "tags": []
   },
   "outputs": [],
   "source": []
  }
 ],
 "metadata": {
  "kaggle": {
   "accelerator": "gpu",
   "dataSources": [
    {
     "databundleVersionId": 8794587,
     "sourceId": 80874,
     "sourceType": "competition"
    }
   ],
   "dockerImageVersionId": 30733,
   "isGpuEnabled": true,
   "isInternetEnabled": true,
   "language": "python",
   "sourceType": "notebook"
  },
  "kernelspec": {
   "display_name": "Python 3",
   "language": "python",
   "name": "python3"
  },
  "language_info": {
   "codemirror_mode": {
    "name": "ipython",
    "version": 3
   },
   "file_extension": ".py",
   "mimetype": "text/x-python",
   "name": "python",
   "nbconvert_exporter": "python",
   "pygments_lexer": "ipython3",
   "version": "3.10.13"
  },
  "papermill": {
   "default_parameters": {},
   "duration": 440.816012,
   "end_time": "2024-06-28T06:13:03.605621",
   "environment_variables": {},
   "exception": null,
   "input_path": "__notebook__.ipynb",
   "output_path": "__notebook__.ipynb",
   "parameters": {},
   "start_time": "2024-06-28T06:05:42.789609",
   "version": "2.5.0"
  },
  "widgets": {
   "application/vnd.jupyter.widget-state+json": {
    "state": {
     "1345e429e1b54f959d55e472b5275e67": {
      "model_module": "@jupyter-widgets/controls",
      "model_module_version": "1.5.0",
      "model_name": "DescriptionStyleModel",
      "state": {
       "_model_module": "@jupyter-widgets/controls",
       "_model_module_version": "1.5.0",
       "_model_name": "DescriptionStyleModel",
       "_view_count": null,
       "_view_module": "@jupyter-widgets/base",
       "_view_module_version": "1.2.0",
       "_view_name": "StyleView",
       "description_width": ""
      }
     },
     "39b4ec8e4bc64337bca4d7ff58c187e5": {
      "model_module": "@jupyter-widgets/controls",
      "model_module_version": "1.5.0",
      "model_name": "HBoxModel",
      "state": {
       "_dom_classes": [],
       "_model_module": "@jupyter-widgets/controls",
       "_model_module_version": "1.5.0",
       "_model_name": "HBoxModel",
       "_view_count": null,
       "_view_module": "@jupyter-widgets/controls",
       "_view_module_version": "1.5.0",
       "_view_name": "HBoxView",
       "box_style": "",
       "children": [
        "IPY_MODEL_5bab3b62cf5e4860a23d2b2308825ab3",
        "IPY_MODEL_f187af8590514f5db17f8845c17a343f",
        "IPY_MODEL_a992a01e621848dc86a1ead89359d1e9"
       ],
       "layout": "IPY_MODEL_b2781abdebe246f88d3581e25b6b0065"
      }
     },
     "44fc4616a333489b8d5ed18bcc3e389e": {
      "model_module": "@jupyter-widgets/controls",
      "model_module_version": "1.5.0",
      "model_name": "DescriptionStyleModel",
      "state": {
       "_model_module": "@jupyter-widgets/controls",
       "_model_module_version": "1.5.0",
       "_model_name": "DescriptionStyleModel",
       "_view_count": null,
       "_view_module": "@jupyter-widgets/base",
       "_view_module_version": "1.2.0",
       "_view_name": "StyleView",
       "description_width": ""
      }
     },
     "456d6fc26edd473aaded8949d99f66c1": {
      "model_module": "@jupyter-widgets/controls",
      "model_module_version": "1.5.0",
      "model_name": "FloatProgressModel",
      "state": {
       "_dom_classes": [],
       "_model_module": "@jupyter-widgets/controls",
       "_model_module_version": "1.5.0",
       "_model_name": "FloatProgressModel",
       "_view_count": null,
       "_view_module": "@jupyter-widgets/controls",
       "_view_module_version": "1.5.0",
       "_view_name": "ProgressView",
       "bar_style": "success",
       "description": "",
       "description_tooltip": null,
       "layout": "IPY_MODEL_73bef978ad8e4e3aa3892e0a4aff592f",
       "max": 805530528.0,
       "min": 0.0,
       "orientation": "horizontal",
       "style": "IPY_MODEL_f4b5aa23c1a84ad4bd3e7bba1ff43756",
       "value": 805530528.0
      }
     },
     "4e6e80dbc79c425cb4359d31cfadd695": {
      "model_module": "@jupyter-widgets/base",
      "model_module_version": "1.2.0",
      "model_name": "LayoutModel",
      "state": {
       "_model_module": "@jupyter-widgets/base",
       "_model_module_version": "1.2.0",
       "_model_name": "LayoutModel",
       "_view_count": null,
       "_view_module": "@jupyter-widgets/base",
       "_view_module_version": "1.2.0",
       "_view_name": "LayoutView",
       "align_content": null,
       "align_items": null,
       "align_self": null,
       "border": null,
       "bottom": null,
       "display": null,
       "flex": null,
       "flex_flow": null,
       "grid_area": null,
       "grid_auto_columns": null,
       "grid_auto_flow": null,
       "grid_auto_rows": null,
       "grid_column": null,
       "grid_gap": null,
       "grid_row": null,
       "grid_template_areas": null,
       "grid_template_columns": null,
       "grid_template_rows": null,
       "height": null,
       "justify_content": null,
       "justify_items": null,
       "left": null,
       "margin": null,
       "max_height": null,
       "max_width": null,
       "min_height": null,
       "min_width": null,
       "object_fit": null,
       "object_position": null,
       "order": null,
       "overflow": null,
       "overflow_x": null,
       "overflow_y": null,
       "padding": null,
       "right": null,
       "top": null,
       "visibility": null,
       "width": null
      }
     },
     "5a111188f9644bf89a3a599707fd81dc": {
      "model_module": "@jupyter-widgets/controls",
      "model_module_version": "1.5.0",
      "model_name": "HBoxModel",
      "state": {
       "_dom_classes": [],
       "_model_module": "@jupyter-widgets/controls",
       "_model_module_version": "1.5.0",
       "_model_name": "HBoxModel",
       "_view_count": null,
       "_view_module": "@jupyter-widgets/controls",
       "_view_module_version": "1.5.0",
       "_view_name": "HBoxView",
       "box_style": "",
       "children": [
        "IPY_MODEL_f88090a7f85248818110db59851c7f9c",
        "IPY_MODEL_456d6fc26edd473aaded8949d99f66c1",
        "IPY_MODEL_ceacc7817927479e862efbb4ac50e097"
       ],
       "layout": "IPY_MODEL_4e6e80dbc79c425cb4359d31cfadd695"
      }
     },
     "5bab3b62cf5e4860a23d2b2308825ab3": {
      "model_module": "@jupyter-widgets/controls",
      "model_module_version": "1.5.0",
      "model_name": "HTMLModel",
      "state": {
       "_dom_classes": [],
       "_model_module": "@jupyter-widgets/controls",
       "_model_module_version": "1.5.0",
       "_model_name": "HTMLModel",
       "_view_count": null,
       "_view_module": "@jupyter-widgets/controls",
       "_view_module_version": "1.5.0",
       "_view_name": "HTMLView",
       "description": "",
       "description_tooltip": null,
       "layout": "IPY_MODEL_c7862e86131748eda25c5e299f179c5d",
       "placeholder": "​",
       "style": "IPY_MODEL_44fc4616a333489b8d5ed18bcc3e389e",
       "value": "generation_config.json: 100%"
      }
     },
     "68d552a6fb234135bda368c8d23b7dc2": {
      "model_module": "@jupyter-widgets/controls",
      "model_module_version": "1.5.0",
      "model_name": "HBoxModel",
      "state": {
       "_dom_classes": [],
       "_model_module": "@jupyter-widgets/controls",
       "_model_module_version": "1.5.0",
       "_model_name": "HBoxModel",
       "_view_count": null,
       "_view_module": "@jupyter-widgets/controls",
       "_view_module_version": "1.5.0",
       "_view_name": "HBoxView",
       "box_style": "",
       "children": [
        "IPY_MODEL_9db96ca81f5e4750a4f005a4a1b85613",
        "IPY_MODEL_97e316504c434e74bee5297989229503",
        "IPY_MODEL_aa6d25ccc8164281a12bd330490e1a1f"
       ],
       "layout": "IPY_MODEL_e422bc8d2bb44c1e9fdc7cd04e54e276"
      }
     },
     "6aa9006da7b54e7895715f208675af12": {
      "model_module": "@jupyter-widgets/base",
      "model_module_version": "1.2.0",
      "model_name": "LayoutModel",
      "state": {
       "_model_module": "@jupyter-widgets/base",
       "_model_module_version": "1.2.0",
       "_model_name": "LayoutModel",
       "_view_count": null,
       "_view_module": "@jupyter-widgets/base",
       "_view_module_version": "1.2.0",
       "_view_name": "LayoutView",
       "align_content": null,
       "align_items": null,
       "align_self": null,
       "border": null,
       "bottom": null,
       "display": null,
       "flex": null,
       "flex_flow": null,
       "grid_area": null,
       "grid_auto_columns": null,
       "grid_auto_flow": null,
       "grid_auto_rows": null,
       "grid_column": null,
       "grid_gap": null,
       "grid_row": null,
       "grid_template_areas": null,
       "grid_template_columns": null,
       "grid_template_rows": null,
       "height": null,
       "justify_content": null,
       "justify_items": null,
       "left": null,
       "margin": null,
       "max_height": null,
       "max_width": null,
       "min_height": null,
       "min_width": null,
       "object_fit": null,
       "object_position": null,
       "order": null,
       "overflow": null,
       "overflow_x": null,
       "overflow_y": null,
       "padding": null,
       "right": null,
       "top": null,
       "visibility": null,
       "width": null
      }
     },
     "72c0644be5594c56b3aec87fc6893c75": {
      "model_module": "@jupyter-widgets/controls",
      "model_module_version": "1.5.0",
      "model_name": "ProgressStyleModel",
      "state": {
       "_model_module": "@jupyter-widgets/controls",
       "_model_module_version": "1.5.0",
       "_model_name": "ProgressStyleModel",
       "_view_count": null,
       "_view_module": "@jupyter-widgets/base",
       "_view_module_version": "1.2.0",
       "_view_name": "StyleView",
       "bar_color": null,
       "description_width": ""
      }
     },
     "73bef978ad8e4e3aa3892e0a4aff592f": {
      "model_module": "@jupyter-widgets/base",
      "model_module_version": "1.2.0",
      "model_name": "LayoutModel",
      "state": {
       "_model_module": "@jupyter-widgets/base",
       "_model_module_version": "1.2.0",
       "_model_name": "LayoutModel",
       "_view_count": null,
       "_view_module": "@jupyter-widgets/base",
       "_view_module_version": "1.2.0",
       "_view_name": "LayoutView",
       "align_content": null,
       "align_items": null,
       "align_self": null,
       "border": null,
       "bottom": null,
       "display": null,
       "flex": null,
       "flex_flow": null,
       "grid_area": null,
       "grid_auto_columns": null,
       "grid_auto_flow": null,
       "grid_auto_rows": null,
       "grid_column": null,
       "grid_gap": null,
       "grid_row": null,
       "grid_template_areas": null,
       "grid_template_columns": null,
       "grid_template_rows": null,
       "height": null,
       "justify_content": null,
       "justify_items": null,
       "left": null,
       "margin": null,
       "max_height": null,
       "max_width": null,
       "min_height": null,
       "min_width": null,
       "object_fit": null,
       "object_position": null,
       "order": null,
       "overflow": null,
       "overflow_x": null,
       "overflow_y": null,
       "padding": null,
       "right": null,
       "top": null,
       "visibility": null,
       "width": null
      }
     },
     "7dd5c1f348ed4bbeba41a347ae3af249": {
      "model_module": "@jupyter-widgets/controls",
      "model_module_version": "1.5.0",
      "model_name": "DescriptionStyleModel",
      "state": {
       "_model_module": "@jupyter-widgets/controls",
       "_model_module_version": "1.5.0",
       "_model_name": "DescriptionStyleModel",
       "_view_count": null,
       "_view_module": "@jupyter-widgets/base",
       "_view_module_version": "1.2.0",
       "_view_name": "StyleView",
       "description_width": ""
      }
     },
     "80876dda975f48c6b8a853e4ebbb4067": {
      "model_module": "@jupyter-widgets/controls",
      "model_module_version": "1.5.0",
      "model_name": "DescriptionStyleModel",
      "state": {
       "_model_module": "@jupyter-widgets/controls",
       "_model_module_version": "1.5.0",
       "_model_name": "DescriptionStyleModel",
       "_view_count": null,
       "_view_module": "@jupyter-widgets/base",
       "_view_module_version": "1.2.0",
       "_view_name": "StyleView",
       "description_width": ""
      }
     },
     "8ac2afdcee9c4ae3943c3bf13f1a802d": {
      "model_module": "@jupyter-widgets/base",
      "model_module_version": "1.2.0",
      "model_name": "LayoutModel",
      "state": {
       "_model_module": "@jupyter-widgets/base",
       "_model_module_version": "1.2.0",
       "_model_name": "LayoutModel",
       "_view_count": null,
       "_view_module": "@jupyter-widgets/base",
       "_view_module_version": "1.2.0",
       "_view_name": "LayoutView",
       "align_content": null,
       "align_items": null,
       "align_self": null,
       "border": null,
       "bottom": null,
       "display": null,
       "flex": null,
       "flex_flow": null,
       "grid_area": null,
       "grid_auto_columns": null,
       "grid_auto_flow": null,
       "grid_auto_rows": null,
       "grid_column": null,
       "grid_gap": null,
       "grid_row": null,
       "grid_template_areas": null,
       "grid_template_columns": null,
       "grid_template_rows": null,
       "height": null,
       "justify_content": null,
       "justify_items": null,
       "left": null,
       "margin": null,
       "max_height": null,
       "max_width": null,
       "min_height": null,
       "min_width": null,
       "object_fit": null,
       "object_position": null,
       "order": null,
       "overflow": null,
       "overflow_x": null,
       "overflow_y": null,
       "padding": null,
       "right": null,
       "top": null,
       "visibility": null,
       "width": null
      }
     },
     "93ca5fbeb43b4f048267c7a356e5608b": {
      "model_module": "@jupyter-widgets/controls",
      "model_module_version": "1.5.0",
      "model_name": "DescriptionStyleModel",
      "state": {
       "_model_module": "@jupyter-widgets/controls",
       "_model_module_version": "1.5.0",
       "_model_name": "DescriptionStyleModel",
       "_view_count": null,
       "_view_module": "@jupyter-widgets/base",
       "_view_module_version": "1.2.0",
       "_view_name": "StyleView",
       "description_width": ""
      }
     },
     "97e316504c434e74bee5297989229503": {
      "model_module": "@jupyter-widgets/controls",
      "model_module_version": "1.5.0",
      "model_name": "FloatProgressModel",
      "state": {
       "_dom_classes": [],
       "_model_module": "@jupyter-widgets/controls",
       "_model_module_version": "1.5.0",
       "_model_name": "FloatProgressModel",
       "_view_count": null,
       "_view_module": "@jupyter-widgets/controls",
       "_view_module_version": "1.5.0",
       "_view_name": "ProgressView",
       "bar_style": "success",
       "description": "",
       "description_tooltip": null,
       "layout": "IPY_MODEL_aef00f50bd074c5f8b19cd21de96571b",
       "max": 1116.0,
       "min": 0.0,
       "orientation": "horizontal",
       "style": "IPY_MODEL_72c0644be5594c56b3aec87fc6893c75",
       "value": 1116.0
      }
     },
     "9db96ca81f5e4750a4f005a4a1b85613": {
      "model_module": "@jupyter-widgets/controls",
      "model_module_version": "1.5.0",
      "model_name": "HTMLModel",
      "state": {
       "_dom_classes": [],
       "_model_module": "@jupyter-widgets/controls",
       "_model_module_version": "1.5.0",
       "_model_name": "HTMLModel",
       "_view_count": null,
       "_view_module": "@jupyter-widgets/controls",
       "_view_module_version": "1.5.0",
       "_view_name": "HTMLView",
       "description": "",
       "description_tooltip": null,
       "layout": "IPY_MODEL_8ac2afdcee9c4ae3943c3bf13f1a802d",
       "placeholder": "​",
       "style": "IPY_MODEL_80876dda975f48c6b8a853e4ebbb4067",
       "value": "config.json: 100%"
      }
     },
     "a992a01e621848dc86a1ead89359d1e9": {
      "model_module": "@jupyter-widgets/controls",
      "model_module_version": "1.5.0",
      "model_name": "HTMLModel",
      "state": {
       "_dom_classes": [],
       "_model_module": "@jupyter-widgets/controls",
       "_model_module_version": "1.5.0",
       "_model_name": "HTMLModel",
       "_view_count": null,
       "_view_module": "@jupyter-widgets/controls",
       "_view_module_version": "1.5.0",
       "_view_name": "HTMLView",
       "description": "",
       "description_tooltip": null,
       "layout": "IPY_MODEL_c54578215d55490caacbb1e3f0f98ac7",
       "placeholder": "​",
       "style": "IPY_MODEL_1345e429e1b54f959d55e472b5275e67",
       "value": " 142/142 [00:00&lt;00:00, 12.9kB/s]"
      }
     },
     "aa6d25ccc8164281a12bd330490e1a1f": {
      "model_module": "@jupyter-widgets/controls",
      "model_module_version": "1.5.0",
      "model_name": "HTMLModel",
      "state": {
       "_dom_classes": [],
       "_model_module": "@jupyter-widgets/controls",
       "_model_module_version": "1.5.0",
       "_model_name": "HTMLModel",
       "_view_count": null,
       "_view_module": "@jupyter-widgets/controls",
       "_view_module_version": "1.5.0",
       "_view_name": "HTMLView",
       "description": "",
       "description_tooltip": null,
       "layout": "IPY_MODEL_e42ba05bc4b94bc9812642f3f91a0055",
       "placeholder": "​",
       "style": "IPY_MODEL_93ca5fbeb43b4f048267c7a356e5608b",
       "value": " 1.12k/1.12k [00:00&lt;00:00, 95.4kB/s]"
      }
     },
     "ab53f4d8a4934d7abe00609338881cb2": {
      "model_module": "@jupyter-widgets/controls",
      "model_module_version": "1.5.0",
      "model_name": "DescriptionStyleModel",
      "state": {
       "_model_module": "@jupyter-widgets/controls",
       "_model_module_version": "1.5.0",
       "_model_name": "DescriptionStyleModel",
       "_view_count": null,
       "_view_module": "@jupyter-widgets/base",
       "_view_module_version": "1.2.0",
       "_view_name": "StyleView",
       "description_width": ""
      }
     },
     "aef00f50bd074c5f8b19cd21de96571b": {
      "model_module": "@jupyter-widgets/base",
      "model_module_version": "1.2.0",
      "model_name": "LayoutModel",
      "state": {
       "_model_module": "@jupyter-widgets/base",
       "_model_module_version": "1.2.0",
       "_model_name": "LayoutModel",
       "_view_count": null,
       "_view_module": "@jupyter-widgets/base",
       "_view_module_version": "1.2.0",
       "_view_name": "LayoutView",
       "align_content": null,
       "align_items": null,
       "align_self": null,
       "border": null,
       "bottom": null,
       "display": null,
       "flex": null,
       "flex_flow": null,
       "grid_area": null,
       "grid_auto_columns": null,
       "grid_auto_flow": null,
       "grid_auto_rows": null,
       "grid_column": null,
       "grid_gap": null,
       "grid_row": null,
       "grid_template_areas": null,
       "grid_template_columns": null,
       "grid_template_rows": null,
       "height": null,
       "justify_content": null,
       "justify_items": null,
       "left": null,
       "margin": null,
       "max_height": null,
       "max_width": null,
       "min_height": null,
       "min_width": null,
       "object_fit": null,
       "object_position": null,
       "order": null,
       "overflow": null,
       "overflow_x": null,
       "overflow_y": null,
       "padding": null,
       "right": null,
       "top": null,
       "visibility": null,
       "width": null
      }
     },
     "b2781abdebe246f88d3581e25b6b0065": {
      "model_module": "@jupyter-widgets/base",
      "model_module_version": "1.2.0",
      "model_name": "LayoutModel",
      "state": {
       "_model_module": "@jupyter-widgets/base",
       "_model_module_version": "1.2.0",
       "_model_name": "LayoutModel",
       "_view_count": null,
       "_view_module": "@jupyter-widgets/base",
       "_view_module_version": "1.2.0",
       "_view_name": "LayoutView",
       "align_content": null,
       "align_items": null,
       "align_self": null,
       "border": null,
       "bottom": null,
       "display": null,
       "flex": null,
       "flex_flow": null,
       "grid_area": null,
       "grid_auto_columns": null,
       "grid_auto_flow": null,
       "grid_auto_rows": null,
       "grid_column": null,
       "grid_gap": null,
       "grid_row": null,
       "grid_template_areas": null,
       "grid_template_columns": null,
       "grid_template_rows": null,
       "height": null,
       "justify_content": null,
       "justify_items": null,
       "left": null,
       "margin": null,
       "max_height": null,
       "max_width": null,
       "min_height": null,
       "min_width": null,
       "object_fit": null,
       "object_position": null,
       "order": null,
       "overflow": null,
       "overflow_x": null,
       "overflow_y": null,
       "padding": null,
       "right": null,
       "top": null,
       "visibility": null,
       "width": null
      }
     },
     "bd1d2b67e2954982a086eaaaebc2946b": {
      "model_module": "@jupyter-widgets/base",
      "model_module_version": "1.2.0",
      "model_name": "LayoutModel",
      "state": {
       "_model_module": "@jupyter-widgets/base",
       "_model_module_version": "1.2.0",
       "_model_name": "LayoutModel",
       "_view_count": null,
       "_view_module": "@jupyter-widgets/base",
       "_view_module_version": "1.2.0",
       "_view_name": "LayoutView",
       "align_content": null,
       "align_items": null,
       "align_self": null,
       "border": null,
       "bottom": null,
       "display": null,
       "flex": null,
       "flex_flow": null,
       "grid_area": null,
       "grid_auto_columns": null,
       "grid_auto_flow": null,
       "grid_auto_rows": null,
       "grid_column": null,
       "grid_gap": null,
       "grid_row": null,
       "grid_template_areas": null,
       "grid_template_columns": null,
       "grid_template_rows": null,
       "height": null,
       "justify_content": null,
       "justify_items": null,
       "left": null,
       "margin": null,
       "max_height": null,
       "max_width": null,
       "min_height": null,
       "min_width": null,
       "object_fit": null,
       "object_position": null,
       "order": null,
       "overflow": null,
       "overflow_x": null,
       "overflow_y": null,
       "padding": null,
       "right": null,
       "top": null,
       "visibility": null,
       "width": null
      }
     },
     "c54578215d55490caacbb1e3f0f98ac7": {
      "model_module": "@jupyter-widgets/base",
      "model_module_version": "1.2.0",
      "model_name": "LayoutModel",
      "state": {
       "_model_module": "@jupyter-widgets/base",
       "_model_module_version": "1.2.0",
       "_model_name": "LayoutModel",
       "_view_count": null,
       "_view_module": "@jupyter-widgets/base",
       "_view_module_version": "1.2.0",
       "_view_name": "LayoutView",
       "align_content": null,
       "align_items": null,
       "align_self": null,
       "border": null,
       "bottom": null,
       "display": null,
       "flex": null,
       "flex_flow": null,
       "grid_area": null,
       "grid_auto_columns": null,
       "grid_auto_flow": null,
       "grid_auto_rows": null,
       "grid_column": null,
       "grid_gap": null,
       "grid_row": null,
       "grid_template_areas": null,
       "grid_template_columns": null,
       "grid_template_rows": null,
       "height": null,
       "justify_content": null,
       "justify_items": null,
       "left": null,
       "margin": null,
       "max_height": null,
       "max_width": null,
       "min_height": null,
       "min_width": null,
       "object_fit": null,
       "object_position": null,
       "order": null,
       "overflow": null,
       "overflow_x": null,
       "overflow_y": null,
       "padding": null,
       "right": null,
       "top": null,
       "visibility": null,
       "width": null
      }
     },
     "c7862e86131748eda25c5e299f179c5d": {
      "model_module": "@jupyter-widgets/base",
      "model_module_version": "1.2.0",
      "model_name": "LayoutModel",
      "state": {
       "_model_module": "@jupyter-widgets/base",
       "_model_module_version": "1.2.0",
       "_model_name": "LayoutModel",
       "_view_count": null,
       "_view_module": "@jupyter-widgets/base",
       "_view_module_version": "1.2.0",
       "_view_name": "LayoutView",
       "align_content": null,
       "align_items": null,
       "align_self": null,
       "border": null,
       "bottom": null,
       "display": null,
       "flex": null,
       "flex_flow": null,
       "grid_area": null,
       "grid_auto_columns": null,
       "grid_auto_flow": null,
       "grid_auto_rows": null,
       "grid_column": null,
       "grid_gap": null,
       "grid_row": null,
       "grid_template_areas": null,
       "grid_template_columns": null,
       "grid_template_rows": null,
       "height": null,
       "justify_content": null,
       "justify_items": null,
       "left": null,
       "margin": null,
       "max_height": null,
       "max_width": null,
       "min_height": null,
       "min_width": null,
       "object_fit": null,
       "object_position": null,
       "order": null,
       "overflow": null,
       "overflow_x": null,
       "overflow_y": null,
       "padding": null,
       "right": null,
       "top": null,
       "visibility": null,
       "width": null
      }
     },
     "c89fed6ef82f4a19b19afc9c783f3992": {
      "model_module": "@jupyter-widgets/base",
      "model_module_version": "1.2.0",
      "model_name": "LayoutModel",
      "state": {
       "_model_module": "@jupyter-widgets/base",
       "_model_module_version": "1.2.0",
       "_model_name": "LayoutModel",
       "_view_count": null,
       "_view_module": "@jupyter-widgets/base",
       "_view_module_version": "1.2.0",
       "_view_name": "LayoutView",
       "align_content": null,
       "align_items": null,
       "align_self": null,
       "border": null,
       "bottom": null,
       "display": null,
       "flex": null,
       "flex_flow": null,
       "grid_area": null,
       "grid_auto_columns": null,
       "grid_auto_flow": null,
       "grid_auto_rows": null,
       "grid_column": null,
       "grid_gap": null,
       "grid_row": null,
       "grid_template_areas": null,
       "grid_template_columns": null,
       "grid_template_rows": null,
       "height": null,
       "justify_content": null,
       "justify_items": null,
       "left": null,
       "margin": null,
       "max_height": null,
       "max_width": null,
       "min_height": null,
       "min_width": null,
       "object_fit": null,
       "object_position": null,
       "order": null,
       "overflow": null,
       "overflow_x": null,
       "overflow_y": null,
       "padding": null,
       "right": null,
       "top": null,
       "visibility": null,
       "width": null
      }
     },
     "cb10d121f6e44e3082a76cdb6fd73920": {
      "model_module": "@jupyter-widgets/controls",
      "model_module_version": "1.5.0",
      "model_name": "ProgressStyleModel",
      "state": {
       "_model_module": "@jupyter-widgets/controls",
       "_model_module_version": "1.5.0",
       "_model_name": "ProgressStyleModel",
       "_view_count": null,
       "_view_module": "@jupyter-widgets/base",
       "_view_module_version": "1.2.0",
       "_view_name": "StyleView",
       "bar_color": null,
       "description_width": ""
      }
     },
     "ceacc7817927479e862efbb4ac50e097": {
      "model_module": "@jupyter-widgets/controls",
      "model_module_version": "1.5.0",
      "model_name": "HTMLModel",
      "state": {
       "_dom_classes": [],
       "_model_module": "@jupyter-widgets/controls",
       "_model_module_version": "1.5.0",
       "_model_name": "HTMLModel",
       "_view_count": null,
       "_view_module": "@jupyter-widgets/controls",
       "_view_module_version": "1.5.0",
       "_view_name": "HTMLView",
       "description": "",
       "description_tooltip": null,
       "layout": "IPY_MODEL_6aa9006da7b54e7895715f208675af12",
       "placeholder": "​",
       "style": "IPY_MODEL_7dd5c1f348ed4bbeba41a347ae3af249",
       "value": " 806M/806M [00:36&lt;00:00, 19.0MB/s]"
      }
     },
     "e422bc8d2bb44c1e9fdc7cd04e54e276": {
      "model_module": "@jupyter-widgets/base",
      "model_module_version": "1.2.0",
      "model_name": "LayoutModel",
      "state": {
       "_model_module": "@jupyter-widgets/base",
       "_model_module_version": "1.2.0",
       "_model_name": "LayoutModel",
       "_view_count": null,
       "_view_module": "@jupyter-widgets/base",
       "_view_module_version": "1.2.0",
       "_view_name": "LayoutView",
       "align_content": null,
       "align_items": null,
       "align_self": null,
       "border": null,
       "bottom": null,
       "display": null,
       "flex": null,
       "flex_flow": null,
       "grid_area": null,
       "grid_auto_columns": null,
       "grid_auto_flow": null,
       "grid_auto_rows": null,
       "grid_column": null,
       "grid_gap": null,
       "grid_row": null,
       "grid_template_areas": null,
       "grid_template_columns": null,
       "grid_template_rows": null,
       "height": null,
       "justify_content": null,
       "justify_items": null,
       "left": null,
       "margin": null,
       "max_height": null,
       "max_width": null,
       "min_height": null,
       "min_width": null,
       "object_fit": null,
       "object_position": null,
       "order": null,
       "overflow": null,
       "overflow_x": null,
       "overflow_y": null,
       "padding": null,
       "right": null,
       "top": null,
       "visibility": null,
       "width": null
      }
     },
     "e42ba05bc4b94bc9812642f3f91a0055": {
      "model_module": "@jupyter-widgets/base",
      "model_module_version": "1.2.0",
      "model_name": "LayoutModel",
      "state": {
       "_model_module": "@jupyter-widgets/base",
       "_model_module_version": "1.2.0",
       "_model_name": "LayoutModel",
       "_view_count": null,
       "_view_module": "@jupyter-widgets/base",
       "_view_module_version": "1.2.0",
       "_view_name": "LayoutView",
       "align_content": null,
       "align_items": null,
       "align_self": null,
       "border": null,
       "bottom": null,
       "display": null,
       "flex": null,
       "flex_flow": null,
       "grid_area": null,
       "grid_auto_columns": null,
       "grid_auto_flow": null,
       "grid_auto_rows": null,
       "grid_column": null,
       "grid_gap": null,
       "grid_row": null,
       "grid_template_areas": null,
       "grid_template_columns": null,
       "grid_template_rows": null,
       "height": null,
       "justify_content": null,
       "justify_items": null,
       "left": null,
       "margin": null,
       "max_height": null,
       "max_width": null,
       "min_height": null,
       "min_width": null,
       "object_fit": null,
       "object_position": null,
       "order": null,
       "overflow": null,
       "overflow_x": null,
       "overflow_y": null,
       "padding": null,
       "right": null,
       "top": null,
       "visibility": null,
       "width": null
      }
     },
     "f187af8590514f5db17f8845c17a343f": {
      "model_module": "@jupyter-widgets/controls",
      "model_module_version": "1.5.0",
      "model_name": "FloatProgressModel",
      "state": {
       "_dom_classes": [],
       "_model_module": "@jupyter-widgets/controls",
       "_model_module_version": "1.5.0",
       "_model_name": "FloatProgressModel",
       "_view_count": null,
       "_view_module": "@jupyter-widgets/controls",
       "_view_module_version": "1.5.0",
       "_view_name": "ProgressView",
       "bar_style": "success",
       "description": "",
       "description_tooltip": null,
       "layout": "IPY_MODEL_c89fed6ef82f4a19b19afc9c783f3992",
       "max": 142.0,
       "min": 0.0,
       "orientation": "horizontal",
       "style": "IPY_MODEL_cb10d121f6e44e3082a76cdb6fd73920",
       "value": 142.0
      }
     },
     "f4b5aa23c1a84ad4bd3e7bba1ff43756": {
      "model_module": "@jupyter-widgets/controls",
      "model_module_version": "1.5.0",
      "model_name": "ProgressStyleModel",
      "state": {
       "_model_module": "@jupyter-widgets/controls",
       "_model_module_version": "1.5.0",
       "_model_name": "ProgressStyleModel",
       "_view_count": null,
       "_view_module": "@jupyter-widgets/base",
       "_view_module_version": "1.2.0",
       "_view_name": "StyleView",
       "bar_color": null,
       "description_width": ""
      }
     },
     "f88090a7f85248818110db59851c7f9c": {
      "model_module": "@jupyter-widgets/controls",
      "model_module_version": "1.5.0",
      "model_name": "HTMLModel",
      "state": {
       "_dom_classes": [],
       "_model_module": "@jupyter-widgets/controls",
       "_model_module_version": "1.5.0",
       "_model_name": "HTMLModel",
       "_view_count": null,
       "_view_module": "@jupyter-widgets/controls",
       "_view_module_version": "1.5.0",
       "_view_name": "HTMLView",
       "description": "",
       "description_tooltip": null,
       "layout": "IPY_MODEL_bd1d2b67e2954982a086eaaaebc2946b",
       "placeholder": "​",
       "style": "IPY_MODEL_ab53f4d8a4934d7abe00609338881cb2",
       "value": "model.safetensors: 100%"
      }
     }
    },
    "version_major": 2,
    "version_minor": 0
   }
  }
 },
 "nbformat": 4,
 "nbformat_minor": 5
}
