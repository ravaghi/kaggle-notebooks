{
 "cells": [
  {
   "cell_type": "markdown",
   "id": "4d26b617",
   "metadata": {
    "papermill": {
     "duration": 0.004124,
     "end_time": "2024-09-07T15:07:01.142788",
     "exception": false,
     "start_time": "2024-09-07T15:07:01.138664",
     "status": "completed"
    },
    "tags": []
   },
   "source": [
    "### Training notebook\n",
    "- https://www.kaggle.com/code/ravaghi/skin-cancer-detection-resnet50-training"
   ]
  },
  {
   "cell_type": "code",
   "execution_count": 1,
   "id": "0ab0d35e",
   "metadata": {
    "execution": {
     "iopub.execute_input": "2024-09-07T15:07:01.151872Z",
     "iopub.status.busy": "2024-09-07T15:07:01.151033Z",
     "iopub.status.idle": "2024-09-07T15:07:09.860087Z",
     "shell.execute_reply": "2024-09-07T15:07:09.859293Z"
    },
    "id": "mqguadtYvxPn",
    "papermill": {
     "duration": 8.716143,
     "end_time": "2024-09-07T15:07:09.862431",
     "exception": false,
     "start_time": "2024-09-07T15:07:01.146288",
     "status": "completed"
    },
    "tags": []
   },
   "outputs": [],
   "source": [
    "from torch.utils.data import DataLoader, Dataset\n",
    "from albumentations.pytorch import ToTensorV2\n",
    "import torch.nn.functional as F\n",
    "import albumentations as A\n",
    "from tqdm import tqdm\n",
    "from PIL import Image\n",
    "import torch.nn as nn\n",
    "import pandas as pd\n",
    "import numpy as np\n",
    "import warnings\n",
    "import h5py\n",
    "import torch\n",
    "import random\n",
    "import timm\n",
    "import cv2\n",
    "import io\n",
    "import os\n",
    "import gc\n",
    "\n",
    "warnings.filterwarnings('ignore')"
   ]
  },
  {
   "cell_type": "code",
   "execution_count": 2,
   "id": "642e1c7f",
   "metadata": {
    "execution": {
     "iopub.execute_input": "2024-09-07T15:07:09.870747Z",
     "iopub.status.busy": "2024-09-07T15:07:09.870210Z",
     "iopub.status.idle": "2024-09-07T15:07:09.930475Z",
     "shell.execute_reply": "2024-09-07T15:07:09.929481Z"
    },
    "id": "xOBgLd7--v-h",
    "papermill": {
     "duration": 0.066399,
     "end_time": "2024-09-07T15:07:09.932422",
     "exception": false,
     "start_time": "2024-09-07T15:07:09.866023",
     "status": "completed"
    },
    "tags": []
   },
   "outputs": [],
   "source": [
    "class CFG:\n",
    "    test_metadata_path = '/kaggle/input/isic-2024-challenge/test-metadata.csv'\n",
    "    test_img_path = '/kaggle/input/isic-2024-challenge/test-image.hdf5'\n",
    "    sample_sub_path = '/kaggle/input/isic-2024-challenge/sample_submission.csv'\n",
    "    checkpoint_path = '/kaggle/input/skin-cancer-detection-resnet50-training/checkpoints/'\n",
    "\n",
    "    checkpoints = [\n",
    "        'fold_0_epoch_10_pauc_0.119877.pth',\n",
    "        'fold_1_epoch_16_pauc_0.152112.pth',\n",
    "        'fold_2_epoch_11_pauc_0.146086.pth',\n",
    "        'fold_3_epoch_20_pauc_0.161103.pth',\n",
    "        'fold_4_epoch_48_pauc_0.169901.pth'\n",
    "    ]\n",
    "\n",
    "    device = torch.device('cuda' if torch.cuda.is_available() else 'cpu')\n",
    "    val_batch_size = 64\n",
    "    image_size  = 224\n",
    "    n_folds = 5\n",
    "    seed = 35555\n",
    "    model_name = \"resnet50\""
   ]
  },
  {
   "cell_type": "code",
   "execution_count": 3,
   "id": "482cad19",
   "metadata": {
    "execution": {
     "iopub.execute_input": "2024-09-07T15:07:09.940553Z",
     "iopub.status.busy": "2024-09-07T15:07:09.940255Z",
     "iopub.status.idle": "2024-09-07T15:07:09.947898Z",
     "shell.execute_reply": "2024-09-07T15:07:09.947181Z"
    },
    "id": "5a6g1bxI-v-i",
    "papermill": {
     "duration": 0.013769,
     "end_time": "2024-09-07T15:07:09.949748",
     "exception": false,
     "start_time": "2024-09-07T15:07:09.935979",
     "status": "completed"
    },
    "tags": []
   },
   "outputs": [],
   "source": [
    "def seed_everything(seed):\n",
    "    random.seed(seed)\n",
    "    os.environ['PYTHONHASHSEED'] = str(seed)\n",
    "    np.random.seed(seed)\n",
    "    torch.manual_seed(seed)\n",
    "    torch.cuda.manual_seed(seed)\n",
    "    torch.backends.cudnn.deterministic = True\n",
    "    torch.backends.cudnn.benchmark = False\n",
    "\n",
    "\n",
    "seed_everything(CFG.seed)"
   ]
  },
  {
   "cell_type": "code",
   "execution_count": 4,
   "id": "858ccf0c",
   "metadata": {
    "execution": {
     "iopub.execute_input": "2024-09-07T15:07:09.957471Z",
     "iopub.status.busy": "2024-09-07T15:07:09.957193Z",
     "iopub.status.idle": "2024-09-07T15:07:09.973495Z",
     "shell.execute_reply": "2024-09-07T15:07:09.972751Z"
    },
    "id": "X7yXnRQG-v-i",
    "papermill": {
     "duration": 0.022349,
     "end_time": "2024-09-07T15:07:09.975491",
     "exception": false,
     "start_time": "2024-09-07T15:07:09.953142",
     "status": "completed"
    },
    "tags": []
   },
   "outputs": [],
   "source": [
    "test_metadata = pd.read_csv(CFG.test_metadata_path)"
   ]
  },
  {
   "cell_type": "code",
   "execution_count": 5,
   "id": "ae401fa4",
   "metadata": {
    "execution": {
     "iopub.execute_input": "2024-09-07T15:07:09.983451Z",
     "iopub.status.busy": "2024-09-07T15:07:09.983170Z",
     "iopub.status.idle": "2024-09-07T15:07:09.990731Z",
     "shell.execute_reply": "2024-09-07T15:07:09.989909Z"
    },
    "id": "DxAgokRgvxPr",
    "papermill": {
     "duration": 0.013577,
     "end_time": "2024-09-07T15:07:09.992542",
     "exception": false,
     "start_time": "2024-09-07T15:07:09.978965",
     "status": "completed"
    },
    "tags": []
   },
   "outputs": [],
   "source": [
    "class ISICDataset(Dataset):\n",
    "    def __init__(self, data_path, metadata, transform=None):\n",
    "        self.data = h5py.File(data_path, 'r')\n",
    "        self.metadata = metadata\n",
    "        self.transform = transform\n",
    "\n",
    "    def __len__(self):\n",
    "        return len(self.metadata)\n",
    "\n",
    "    def __getitem__(self, idx):\n",
    "        img_name = self.metadata.iloc[idx]['isic_id']\n",
    "        image = np.array(self.data[img_name])\n",
    "        image = np.array(Image.open(io.BytesIO(image)))\n",
    "        image = cv2.cvtColor(image, cv2.COLOR_BGR2RGB)\n",
    "\n",
    "        if self.transform:\n",
    "            augmented = self.transform(image=image)\n",
    "            image = augmented['image']\n",
    "\n",
    "        if 'target' in self.metadata.columns:\n",
    "            label = int(self.metadata['target'].iloc[idx])\n",
    "            return image, label\n",
    "        else:\n",
    "            return image, 0"
   ]
  },
  {
   "cell_type": "code",
   "execution_count": 6,
   "id": "c9f1d31f",
   "metadata": {
    "execution": {
     "iopub.execute_input": "2024-09-07T15:07:10.000526Z",
     "iopub.status.busy": "2024-09-07T15:07:10.000258Z",
     "iopub.status.idle": "2024-09-07T15:07:10.005266Z",
     "shell.execute_reply": "2024-09-07T15:07:10.004495Z"
    },
    "id": "6tUJogKp-v-j",
    "papermill": {
     "duration": 0.011072,
     "end_time": "2024-09-07T15:07:10.007135",
     "exception": false,
     "start_time": "2024-09-07T15:07:09.996063",
     "status": "completed"
    },
    "tags": []
   },
   "outputs": [],
   "source": [
    "transforms = A.Compose([\n",
    "    A.Resize(CFG.image_size, CFG.image_size),\n",
    "    A.Normalize(\n",
    "        mean=[0.4815, 0.4578, 0.4082],\n",
    "        std=[0.2686, 0.2613, 0.2758],\n",
    "        max_pixel_value=255.0),\n",
    "    ToTensorV2(),\n",
    "])"
   ]
  },
  {
   "cell_type": "code",
   "execution_count": 7,
   "id": "8583a6e4",
   "metadata": {
    "execution": {
     "iopub.execute_input": "2024-09-07T15:07:10.015201Z",
     "iopub.status.busy": "2024-09-07T15:07:10.014939Z",
     "iopub.status.idle": "2024-09-07T15:07:10.021218Z",
     "shell.execute_reply": "2024-09-07T15:07:10.020407Z"
    },
    "id": "uhUwzYAHRelB",
    "papermill": {
     "duration": 0.012432,
     "end_time": "2024-09-07T15:07:10.023134",
     "exception": false,
     "start_time": "2024-09-07T15:07:10.010702",
     "status": "completed"
    },
    "tags": []
   },
   "outputs": [],
   "source": [
    "class ResNet(nn.Module):\n",
    "    def __init__(self, model_name, pretrained=False):\n",
    "        super(ResNet, self).__init__()\n",
    "        self.model = timm.create_model(model_name, pretrained=pretrained, in_chans=3)\n",
    "        num_features = 1000\n",
    "        self.classifier = nn.Sequential(\n",
    "            nn.Linear(num_features, 512),\n",
    "            nn.BatchNorm1d(512),\n",
    "            nn.ReLU(),\n",
    "            nn.Dropout(0.5),\n",
    "            nn.Linear(512, 1),\n",
    "            nn.Sigmoid()\n",
    "        )\n",
    "\n",
    "    def forward(self, x):\n",
    "        x = self.model(x)\n",
    "        x = self.classifier(x)\n",
    "        return x"
   ]
  },
  {
   "cell_type": "code",
   "execution_count": 8,
   "id": "63f9019e",
   "metadata": {
    "execution": {
     "iopub.execute_input": "2024-09-07T15:07:10.031307Z",
     "iopub.status.busy": "2024-09-07T15:07:10.031043Z",
     "iopub.status.idle": "2024-09-07T15:07:10.038012Z",
     "shell.execute_reply": "2024-09-07T15:07:10.037185Z"
    },
    "id": "yWUV5TeWvxPs",
    "papermill": {
     "duration": 0.013201,
     "end_time": "2024-09-07T15:07:10.039914",
     "exception": false,
     "start_time": "2024-09-07T15:07:10.026713",
     "status": "completed"
    },
    "tags": []
   },
   "outputs": [],
   "source": [
    "class Trainer:\n",
    "    def __init__(self, device, model, test_dataloader, checkpoint_path):\n",
    "        self.device = device\n",
    "        self.model = model\n",
    "        self.test_dataloader = test_dataloader\n",
    "        self.checkpoint_path = checkpoint_path\n",
    "\n",
    "    def predict(self):\n",
    "        self.model.load_state_dict(torch.load(self.checkpoint_path))\n",
    "        self.model.eval()\n",
    "\n",
    "        preds = []\n",
    "        with torch.no_grad():\n",
    "            loop = tqdm(self.test_dataloader, total=len(self.test_dataloader))\n",
    "            for batch in loop:\n",
    "                x, _ = batch\n",
    "                x = x.to(self.device)\n",
    "                y_hat = self.model(x).squeeze()\n",
    "                preds.extend(y_hat.detach().cpu().numpy())\n",
    "                loop.set_description(f'Prediction')\n",
    "\n",
    "        return preds"
   ]
  },
  {
   "cell_type": "code",
   "execution_count": 9,
   "id": "a60afe95",
   "metadata": {
    "execution": {
     "iopub.execute_input": "2024-09-07T15:07:10.048164Z",
     "iopub.status.busy": "2024-09-07T15:07:10.047919Z",
     "iopub.status.idle": "2024-09-07T15:07:21.889719Z",
     "shell.execute_reply": "2024-09-07T15:07:21.888611Z"
    },
    "id": "z6ry0OmfyEmZ",
    "outputId": "be79b77b-0941-4759-b0c8-635e6c72b19e",
    "papermill": {
     "duration": 11.84819,
     "end_time": "2024-09-07T15:07:21.891724",
     "exception": false,
     "start_time": "2024-09-07T15:07:10.043534",
     "status": "completed"
    },
    "tags": []
   },
   "outputs": [
    {
     "name": "stderr",
     "output_type": "stream",
     "text": [
      "Prediction: 100%|██████████| 1/1 [00:00<00:00,  1.17it/s]\n",
      "Prediction: 100%|██████████| 1/1 [00:00<00:00,  7.58it/s]\n",
      "Prediction: 100%|██████████| 1/1 [00:00<00:00,  6.91it/s]\n",
      "Prediction: 100%|██████████| 1/1 [00:00<00:00,  7.05it/s]\n",
      "Prediction: 100%|██████████| 1/1 [00:00<00:00,  7.51it/s]\n"
     ]
    }
   ],
   "source": [
    "test_preds = []\n",
    "for fold_idx in range(CFG.n_folds):\n",
    "\n",
    "    test_dataset = ISICDataset(CFG.test_img_path, test_metadata, transforms)\n",
    "    test_dataloader = DataLoader(test_dataset, batch_size=CFG.val_batch_size, shuffle=False, num_workers=4)\n",
    "\n",
    "    model = ResNet(CFG.model_name).to(CFG.device)\n",
    "\n",
    "    trainer = Trainer(\n",
    "        device=CFG.device,\n",
    "        model=model,\n",
    "        test_dataloader=test_dataloader,\n",
    "        checkpoint_path=CFG.checkpoint_path + CFG.checkpoints[fold_idx]\n",
    "    )\n",
    "\n",
    "    preds = trainer.predict()\n",
    "    test_preds.append(preds)\n",
    "\n",
    "    del test_dataset, test_dataloader, model, trainer\n",
    "    gc.collect()\n",
    "    torch.cuda.empty_cache()"
   ]
  },
  {
   "cell_type": "code",
   "execution_count": 10,
   "id": "ee25445d",
   "metadata": {
    "execution": {
     "iopub.execute_input": "2024-09-07T15:07:21.904717Z",
     "iopub.status.busy": "2024-09-07T15:07:21.904386Z",
     "iopub.status.idle": "2024-09-07T15:07:21.929468Z",
     "shell.execute_reply": "2024-09-07T15:07:21.928613Z"
    },
    "id": "35WyumonIliL",
    "papermill": {
     "duration": 0.033814,
     "end_time": "2024-09-07T15:07:21.931370",
     "exception": false,
     "start_time": "2024-09-07T15:07:21.897556",
     "status": "completed"
    },
    "tags": []
   },
   "outputs": [
    {
     "data": {
      "text/html": [
       "<div>\n",
       "<style scoped>\n",
       "    .dataframe tbody tr th:only-of-type {\n",
       "        vertical-align: middle;\n",
       "    }\n",
       "\n",
       "    .dataframe tbody tr th {\n",
       "        vertical-align: top;\n",
       "    }\n",
       "\n",
       "    .dataframe thead th {\n",
       "        text-align: right;\n",
       "    }\n",
       "</style>\n",
       "<table border=\"1\" class=\"dataframe\">\n",
       "  <thead>\n",
       "    <tr style=\"text-align: right;\">\n",
       "      <th></th>\n",
       "      <th>isic_id</th>\n",
       "      <th>target</th>\n",
       "    </tr>\n",
       "  </thead>\n",
       "  <tbody>\n",
       "    <tr>\n",
       "      <th>0</th>\n",
       "      <td>ISIC_0015657</td>\n",
       "      <td>0.011530</td>\n",
       "    </tr>\n",
       "    <tr>\n",
       "      <th>1</th>\n",
       "      <td>ISIC_0015729</td>\n",
       "      <td>0.001099</td>\n",
       "    </tr>\n",
       "    <tr>\n",
       "      <th>2</th>\n",
       "      <td>ISIC_0015740</td>\n",
       "      <td>0.002055</td>\n",
       "    </tr>\n",
       "  </tbody>\n",
       "</table>\n",
       "</div>"
      ],
      "text/plain": [
       "        isic_id    target\n",
       "0  ISIC_0015657  0.011530\n",
       "1  ISIC_0015729  0.001099\n",
       "2  ISIC_0015740  0.002055"
      ]
     },
     "execution_count": 10,
     "metadata": {},
     "output_type": "execute_result"
    }
   ],
   "source": [
    "sub = test_metadata.copy()\n",
    "sub['target'] = np.mean(test_preds, axis=0)\n",
    "sub = sub[['isic_id', 'target']]\n",
    "sub.to_csv('submission.csv', index=False)\n",
    "sub.head()"
   ]
  }
 ],
 "metadata": {
  "accelerator": "GPU",
  "colab": {
   "gpuType": "L4",
   "provenance": []
  },
  "kaggle": {
   "accelerator": "gpu",
   "dataSources": [
    {
     "databundleVersionId": 9094797,
     "sourceId": 63056,
     "sourceType": "competition"
    },
    {
     "sourceId": 194683254,
     "sourceType": "kernelVersion"
    }
   ],
   "dockerImageVersionId": 30746,
   "isGpuEnabled": true,
   "isInternetEnabled": false,
   "language": "python",
   "sourceType": "notebook"
  },
  "kernelspec": {
   "display_name": "Python 3",
   "language": "python",
   "name": "python3"
  },
  "language_info": {
   "codemirror_mode": {
    "name": "ipython",
    "version": 3
   },
   "file_extension": ".py",
   "mimetype": "text/x-python",
   "name": "python",
   "nbconvert_exporter": "python",
   "pygments_lexer": "ipython3",
   "version": "3.10.13"
  },
  "papermill": {
   "default_parameters": {},
   "duration": 26.167533,
   "end_time": "2024-09-07T15:07:24.511385",
   "environment_variables": {},
   "exception": null,
   "input_path": "__notebook__.ipynb",
   "output_path": "__notebook__.ipynb",
   "parameters": {},
   "start_time": "2024-09-07T15:06:58.343852",
   "version": "2.5.0"
  }
 },
 "nbformat": 4,
 "nbformat_minor": 5
}
