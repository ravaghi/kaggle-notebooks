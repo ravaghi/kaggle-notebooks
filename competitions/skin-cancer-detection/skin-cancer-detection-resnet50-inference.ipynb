{
 "cells": [
  {
   "cell_type": "code",
   "execution_count": 1,
   "id": "93a7da0e",
   "metadata": {
    "execution": {
     "iopub.execute_input": "2024-08-17T03:04:31.879550Z",
     "iopub.status.busy": "2024-08-17T03:04:31.879154Z",
     "iopub.status.idle": "2024-08-17T03:04:40.717172Z",
     "shell.execute_reply": "2024-08-17T03:04:40.716192Z"
    },
    "id": "mqguadtYvxPn",
    "papermill": {
     "duration": 8.845936,
     "end_time": "2024-08-17T03:04:40.719481",
     "exception": false,
     "start_time": "2024-08-17T03:04:31.873545",
     "status": "completed"
    },
    "tags": []
   },
   "outputs": [],
   "source": [
    "from torch.utils.data import DataLoader, Dataset\n",
    "from albumentations.pytorch import ToTensorV2\n",
    "import torch.nn.functional as F\n",
    "import albumentations as A\n",
    "from tqdm import tqdm\n",
    "from PIL import Image\n",
    "import torch.nn as nn\n",
    "import pandas as pd\n",
    "import numpy as np\n",
    "import warnings\n",
    "import h5py\n",
    "import torch\n",
    "import random\n",
    "import timm\n",
    "import io\n",
    "import os\n",
    "import gc\n",
    "\n",
    "warnings.filterwarnings('ignore')"
   ]
  },
  {
   "cell_type": "code",
   "execution_count": 2,
   "id": "8e84724d",
   "metadata": {
    "execution": {
     "iopub.execute_input": "2024-08-17T03:04:40.728227Z",
     "iopub.status.busy": "2024-08-17T03:04:40.727255Z",
     "iopub.status.idle": "2024-08-17T03:04:40.796134Z",
     "shell.execute_reply": "2024-08-17T03:04:40.795260Z"
    },
    "id": "xOBgLd7--v-h",
    "papermill": {
     "duration": 0.075063,
     "end_time": "2024-08-17T03:04:40.798192",
     "exception": false,
     "start_time": "2024-08-17T03:04:40.723129",
     "status": "completed"
    },
    "tags": []
   },
   "outputs": [],
   "source": [
    "class CFG:\n",
    "    test_metadata_path = '/kaggle/input/isic-2024-challenge/test-metadata.csv'\n",
    "    test_img_path = '/kaggle/input/isic-2024-challenge/test-image.hdf5'\n",
    "    sample_sub_path = '/kaggle/input/isic-2024-challenge/sample_submission.csv'\n",
    "    checkpoint_path = '/kaggle/input/skin-cancer-detection-resnet50-training/checkpoints/'\n",
    "\n",
    "    checkpoints = [\n",
    "        'fold_0_epoch_22_pauc_0.162757.pth',\n",
    "        'fold_1_epoch_11_pauc_0.12434.pth',\n",
    "        'fold_2_epoch_28_pauc_0.145016.pth',\n",
    "        'fold_3_epoch_23_pauc_0.139627.pth',\n",
    "        'fold_4_epoch_18_pauc_0.128277.pth',\n",
    "        'fold_5_epoch_48_pauc_0.140243.pth'\n",
    "    ]\n",
    "\n",
    "    device = torch.device('cuda' if torch.cuda.is_available() else 'cpu')\n",
    "    val_batch_size = 64\n",
    "    n_folds = 6\n",
    "    seed = 892\n",
    "    model_name = \"resnet50\""
   ]
  },
  {
   "cell_type": "code",
   "execution_count": 3,
   "id": "bc8de386",
   "metadata": {
    "execution": {
     "iopub.execute_input": "2024-08-17T03:04:40.806079Z",
     "iopub.status.busy": "2024-08-17T03:04:40.805573Z",
     "iopub.status.idle": "2024-08-17T03:04:40.813283Z",
     "shell.execute_reply": "2024-08-17T03:04:40.812565Z"
    },
    "id": "5a6g1bxI-v-i",
    "papermill": {
     "duration": 0.013625,
     "end_time": "2024-08-17T03:04:40.815197",
     "exception": false,
     "start_time": "2024-08-17T03:04:40.801572",
     "status": "completed"
    },
    "tags": []
   },
   "outputs": [],
   "source": [
    "def seed_everything(seed):\n",
    "    random.seed(seed)\n",
    "    os.environ['PYTHONHASHSEED'] = str(seed)\n",
    "    np.random.seed(seed)\n",
    "    torch.manual_seed(seed)\n",
    "    torch.cuda.manual_seed(seed)\n",
    "    torch.backends.cudnn.deterministic = True\n",
    "    torch.backends.cudnn.benchmark = False\n",
    "\n",
    "\n",
    "seed_everything(CFG.seed)"
   ]
  },
  {
   "cell_type": "code",
   "execution_count": 4,
   "id": "d91b7c58",
   "metadata": {
    "execution": {
     "iopub.execute_input": "2024-08-17T03:04:40.823050Z",
     "iopub.status.busy": "2024-08-17T03:04:40.822366Z",
     "iopub.status.idle": "2024-08-17T03:04:40.839755Z",
     "shell.execute_reply": "2024-08-17T03:04:40.839047Z"
    },
    "id": "X7yXnRQG-v-i",
    "papermill": {
     "duration": 0.023301,
     "end_time": "2024-08-17T03:04:40.841715",
     "exception": false,
     "start_time": "2024-08-17T03:04:40.818414",
     "status": "completed"
    },
    "tags": []
   },
   "outputs": [],
   "source": [
    "test_metadata = pd.read_csv(CFG.test_metadata_path)"
   ]
  },
  {
   "cell_type": "code",
   "execution_count": 5,
   "id": "b24c9dd3",
   "metadata": {
    "execution": {
     "iopub.execute_input": "2024-08-17T03:04:40.849712Z",
     "iopub.status.busy": "2024-08-17T03:04:40.849439Z",
     "iopub.status.idle": "2024-08-17T03:04:40.857421Z",
     "shell.execute_reply": "2024-08-17T03:04:40.856471Z"
    },
    "id": "DxAgokRgvxPr",
    "papermill": {
     "duration": 0.014276,
     "end_time": "2024-08-17T03:04:40.859506",
     "exception": false,
     "start_time": "2024-08-17T03:04:40.845230",
     "status": "completed"
    },
    "tags": []
   },
   "outputs": [],
   "source": [
    "class ISICDataset(Dataset):\n",
    "    def __init__(self, data_path, metadata, transform=None):\n",
    "        self.data = h5py.File(data_path, 'r')\n",
    "        self.metadata = metadata\n",
    "        self.transform = transform\n",
    "\n",
    "    def __len__(self):\n",
    "        return len(self.metadata)\n",
    "\n",
    "    def __getitem__(self, idx):\n",
    "        img_name = self.metadata.iloc[idx]['isic_id']\n",
    "        image = np.array(self.data[img_name])\n",
    "        image = np.array(Image.open(io.BytesIO(image)), dtype=np.float32)\n",
    "\n",
    "        if self.transform:\n",
    "            augmented = self.transform(image=image)\n",
    "            image = augmented['image']\n",
    "\n",
    "        if 'target' in self.metadata.columns:\n",
    "            label = int(self.metadata['target'].iloc[idx])\n",
    "            return image, label\n",
    "        else:\n",
    "            return image, 0"
   ]
  },
  {
   "cell_type": "code",
   "execution_count": 6,
   "id": "374f464d",
   "metadata": {
    "execution": {
     "iopub.execute_input": "2024-08-17T03:04:40.867619Z",
     "iopub.status.busy": "2024-08-17T03:04:40.867327Z",
     "iopub.status.idle": "2024-08-17T03:04:40.872636Z",
     "shell.execute_reply": "2024-08-17T03:04:40.871796Z"
    },
    "id": "6tUJogKp-v-j",
    "papermill": {
     "duration": 0.011775,
     "end_time": "2024-08-17T03:04:40.874854",
     "exception": false,
     "start_time": "2024-08-17T03:04:40.863079",
     "status": "completed"
    },
    "tags": []
   },
   "outputs": [],
   "source": [
    "transforms = A.Compose([\n",
    "    A.Resize(224, 224),\n",
    "    A.Normalize(\n",
    "        mean=[0.485, 0.456, 0.406],\n",
    "        std=[0.229, 0.224, 0.225],\n",
    "        max_pixel_value=255.0,\n",
    "        p=1.0\n",
    "    ),\n",
    "    ToTensorV2()\n",
    "], p=1.)"
   ]
  },
  {
   "cell_type": "code",
   "execution_count": 7,
   "id": "a428248b",
   "metadata": {
    "execution": {
     "iopub.execute_input": "2024-08-17T03:04:40.883280Z",
     "iopub.status.busy": "2024-08-17T03:04:40.882730Z",
     "iopub.status.idle": "2024-08-17T03:04:40.888369Z",
     "shell.execute_reply": "2024-08-17T03:04:40.887456Z"
    },
    "id": "uhUwzYAHRelB",
    "papermill": {
     "duration": 0.012175,
     "end_time": "2024-08-17T03:04:40.890503",
     "exception": false,
     "start_time": "2024-08-17T03:04:40.878328",
     "status": "completed"
    },
    "tags": []
   },
   "outputs": [],
   "source": [
    "class ResNet50(nn.Module):\n",
    "    def __init__(self, model_name):\n",
    "        super(ResNet50, self).__init__()\n",
    "        self.model = timm.create_model(model_name, pretrained=False, in_chans=3)\n",
    "        self.model.reset_classifier(num_classes=2, global_pool='avg')\n",
    "\n",
    "    def forward(self, x):\n",
    "        return self.model(x)"
   ]
  },
  {
   "cell_type": "code",
   "execution_count": 8,
   "id": "a8bb57ee",
   "metadata": {
    "execution": {
     "iopub.execute_input": "2024-08-17T03:04:40.899187Z",
     "iopub.status.busy": "2024-08-17T03:04:40.898677Z",
     "iopub.status.idle": "2024-08-17T03:04:40.906483Z",
     "shell.execute_reply": "2024-08-17T03:04:40.905576Z"
    },
    "id": "yWUV5TeWvxPs",
    "papermill": {
     "duration": 0.014304,
     "end_time": "2024-08-17T03:04:40.908412",
     "exception": false,
     "start_time": "2024-08-17T03:04:40.894108",
     "status": "completed"
    },
    "tags": []
   },
   "outputs": [],
   "source": [
    "class Trainer:\n",
    "    def __init__(self, device, model, test_dataloader, checkpoint_path, fold_idx):\n",
    "        self.device = device\n",
    "        self.model = model\n",
    "        self.test_dataloader = test_dataloader\n",
    "        self.checkpoint_path = checkpoint_path\n",
    "        self.fold_idx = fold_idx\n",
    "\n",
    "    def predict(self):\n",
    "        model.load_state_dict(torch.load(self.checkpoint_path))\n",
    "        model.eval()\n",
    "\n",
    "        preds = []\n",
    "        with torch.no_grad():\n",
    "            loop = tqdm(self.test_dataloader, total=len(self.test_dataloader))\n",
    "            for batch in loop:\n",
    "                x, _ = batch\n",
    "                x = x.to(self.device)\n",
    "                y_hat = model(x)\n",
    "                pred_probs = F.softmax(y_hat, dim=1)\n",
    "                preds.extend(pred_probs.detach().cpu().numpy())\n",
    "                loop.set_description(f'Prediction')\n",
    "\n",
    "        return preds"
   ]
  },
  {
   "cell_type": "code",
   "execution_count": 9,
   "id": "708c0f95",
   "metadata": {
    "execution": {
     "iopub.execute_input": "2024-08-17T03:04:40.916862Z",
     "iopub.status.busy": "2024-08-17T03:04:40.916624Z",
     "iopub.status.idle": "2024-08-17T03:04:54.390889Z",
     "shell.execute_reply": "2024-08-17T03:04:54.389740Z"
    },
    "id": "z6ry0OmfyEmZ",
    "outputId": "be79b77b-0941-4759-b0c8-635e6c72b19e",
    "papermill": {
     "duration": 13.480827,
     "end_time": "2024-08-17T03:04:54.392940",
     "exception": false,
     "start_time": "2024-08-17T03:04:40.912113",
     "status": "completed"
    },
    "tags": []
   },
   "outputs": [
    {
     "name": "stderr",
     "output_type": "stream",
     "text": [
      "Prediction: 100%|██████████| 1/1 [00:00<00:00,  1.18it/s]\n",
      "Prediction: 100%|██████████| 1/1 [00:00<00:00,  7.30it/s]\n",
      "Prediction: 100%|██████████| 1/1 [00:00<00:00,  7.83it/s]\n",
      "Prediction: 100%|██████████| 1/1 [00:00<00:00,  7.74it/s]\n",
      "Prediction: 100%|██████████| 1/1 [00:00<00:00,  7.78it/s]\n",
      "Prediction: 100%|██████████| 1/1 [00:00<00:00,  7.48it/s]\n"
     ]
    }
   ],
   "source": [
    "test_preds = []\n",
    "for fold_idx in range(CFG.n_folds):\n",
    "\n",
    "    test_dataset = ISICDataset(CFG.test_img_path, test_metadata, transforms)\n",
    "    test_dataloader = DataLoader(test_dataset, batch_size=CFG.val_batch_size, shuffle=False, num_workers=4)\n",
    "\n",
    "    model = ResNet50(CFG.model_name).to(CFG.device)\n",
    "\n",
    "    trainer = Trainer(\n",
    "        device=CFG.device,\n",
    "        model=model,\n",
    "        test_dataloader=test_dataloader,\n",
    "        checkpoint_path=CFG.checkpoint_path + CFG.checkpoints[fold_idx],\n",
    "        fold_idx=fold_idx\n",
    "    )\n",
    "\n",
    "    test_pred_probs = trainer.predict()\n",
    "    test_preds.append(test_pred_probs)\n",
    "\n",
    "    del test_dataset, test_dataloader, model, trainer\n",
    "    gc.collect()\n",
    "    torch.cuda.empty_cache()"
   ]
  },
  {
   "cell_type": "code",
   "execution_count": 10,
   "id": "5c30bed0",
   "metadata": {
    "execution": {
     "iopub.execute_input": "2024-08-17T03:04:54.406322Z",
     "iopub.status.busy": "2024-08-17T03:04:54.405987Z",
     "iopub.status.idle": "2024-08-17T03:04:54.432173Z",
     "shell.execute_reply": "2024-08-17T03:04:54.431260Z"
    },
    "id": "35WyumonIliL",
    "papermill": {
     "duration": 0.035041,
     "end_time": "2024-08-17T03:04:54.434206",
     "exception": false,
     "start_time": "2024-08-17T03:04:54.399165",
     "status": "completed"
    },
    "tags": []
   },
   "outputs": [
    {
     "data": {
      "text/html": [
       "<div>\n",
       "<style scoped>\n",
       "    .dataframe tbody tr th:only-of-type {\n",
       "        vertical-align: middle;\n",
       "    }\n",
       "\n",
       "    .dataframe tbody tr th {\n",
       "        vertical-align: top;\n",
       "    }\n",
       "\n",
       "    .dataframe thead th {\n",
       "        text-align: right;\n",
       "    }\n",
       "</style>\n",
       "<table border=\"1\" class=\"dataframe\">\n",
       "  <thead>\n",
       "    <tr style=\"text-align: right;\">\n",
       "      <th></th>\n",
       "      <th>isic_id</th>\n",
       "      <th>target</th>\n",
       "    </tr>\n",
       "  </thead>\n",
       "  <tbody>\n",
       "    <tr>\n",
       "      <th>0</th>\n",
       "      <td>ISIC_0015657</td>\n",
       "      <td>0.009565</td>\n",
       "    </tr>\n",
       "    <tr>\n",
       "      <th>1</th>\n",
       "      <td>ISIC_0015729</td>\n",
       "      <td>0.005547</td>\n",
       "    </tr>\n",
       "    <tr>\n",
       "      <th>2</th>\n",
       "      <td>ISIC_0015740</td>\n",
       "      <td>0.013207</td>\n",
       "    </tr>\n",
       "  </tbody>\n",
       "</table>\n",
       "</div>"
      ],
      "text/plain": [
       "        isic_id    target\n",
       "0  ISIC_0015657  0.009565\n",
       "1  ISIC_0015729  0.005547\n",
       "2  ISIC_0015740  0.013207"
      ]
     },
     "execution_count": 10,
     "metadata": {},
     "output_type": "execute_result"
    }
   ],
   "source": [
    "sub = test_metadata.copy()\n",
    "sub['target'] = np.mean(test_preds, axis=0)[:, 1]\n",
    "sub = sub[['isic_id', 'target']]\n",
    "sub.to_csv('submission.csv', index=False)\n",
    "sub.head()"
   ]
  }
 ],
 "metadata": {
  "accelerator": "GPU",
  "colab": {
   "gpuType": "L4",
   "provenance": []
  },
  "kaggle": {
   "accelerator": "gpu",
   "dataSources": [
    {
     "databundleVersionId": 9094797,
     "sourceId": 63056,
     "sourceType": "competition"
    },
    {
     "sourceId": 191912180,
     "sourceType": "kernelVersion"
    }
   ],
   "dockerImageVersionId": 30746,
   "isGpuEnabled": true,
   "isInternetEnabled": false,
   "language": "python",
   "sourceType": "notebook"
  },
  "kernelspec": {
   "display_name": "Python 3",
   "language": "python",
   "name": "python3"
  },
  "language_info": {
   "codemirror_mode": {
    "name": "ipython",
    "version": 3
   },
   "file_extension": ".py",
   "mimetype": "text/x-python",
   "name": "python",
   "nbconvert_exporter": "python",
   "pygments_lexer": "ipython3",
   "version": "3.10.13"
  },
  "papermill": {
   "default_parameters": {},
   "duration": 28.189121,
   "end_time": "2024-08-17T03:04:57.237724",
   "environment_variables": {},
   "exception": null,
   "input_path": "__notebook__.ipynb",
   "output_path": "__notebook__.ipynb",
   "parameters": {},
   "start_time": "2024-08-17T03:04:29.048603",
   "version": "2.5.0"
  }
 },
 "nbformat": 4,
 "nbformat_minor": 5
}
