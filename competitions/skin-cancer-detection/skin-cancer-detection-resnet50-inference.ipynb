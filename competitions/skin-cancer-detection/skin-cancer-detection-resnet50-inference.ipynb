{
 "cells": [
  {
   "cell_type": "markdown",
   "id": "7a96dd91",
   "metadata": {
    "papermill": {
     "duration": 0.004403,
     "end_time": "2024-08-25T08:20:46.624351",
     "exception": false,
     "start_time": "2024-08-25T08:20:46.619948",
     "status": "completed"
    },
    "tags": []
   },
   "source": [
    "### Training notebook\n",
    "- https://www.kaggle.com/code/ravaghi/skin-cancer-detection-resnet50-training"
   ]
  },
  {
   "cell_type": "code",
   "execution_count": 1,
   "id": "dafe0cb0",
   "metadata": {
    "execution": {
     "iopub.execute_input": "2024-08-25T08:20:46.633719Z",
     "iopub.status.busy": "2024-08-25T08:20:46.633345Z",
     "iopub.status.idle": "2024-08-25T08:20:55.061924Z",
     "shell.execute_reply": "2024-08-25T08:20:55.061129Z"
    },
    "id": "mqguadtYvxPn",
    "papermill": {
     "duration": 8.435764,
     "end_time": "2024-08-25T08:20:55.064138",
     "exception": false,
     "start_time": "2024-08-25T08:20:46.628374",
     "status": "completed"
    },
    "tags": []
   },
   "outputs": [],
   "source": [
    "from torch.utils.data import DataLoader, Dataset\n",
    "from albumentations.pytorch import ToTensorV2\n",
    "import torch.nn.functional as F\n",
    "import albumentations as A\n",
    "from tqdm import tqdm\n",
    "from PIL import Image\n",
    "import torch.nn as nn\n",
    "import pandas as pd\n",
    "import numpy as np\n",
    "import warnings\n",
    "import h5py\n",
    "import torch\n",
    "import random\n",
    "import timm\n",
    "import io\n",
    "import os\n",
    "import gc\n",
    "\n",
    "warnings.filterwarnings('ignore')"
   ]
  },
  {
   "cell_type": "code",
   "execution_count": 2,
   "id": "8eb20f06",
   "metadata": {
    "execution": {
     "iopub.execute_input": "2024-08-25T08:20:55.073286Z",
     "iopub.status.busy": "2024-08-25T08:20:55.072995Z",
     "iopub.status.idle": "2024-08-25T08:20:55.137148Z",
     "shell.execute_reply": "2024-08-25T08:20:55.136387Z"
    },
    "id": "xOBgLd7--v-h",
    "papermill": {
     "duration": 0.070795,
     "end_time": "2024-08-25T08:20:55.138985",
     "exception": false,
     "start_time": "2024-08-25T08:20:55.068190",
     "status": "completed"
    },
    "tags": []
   },
   "outputs": [],
   "source": [
    "class CFG:\n",
    "    test_metadata_path = '/kaggle/input/isic-2024-challenge/test-metadata.csv'\n",
    "    test_img_path = '/kaggle/input/isic-2024-challenge/test-image.hdf5'\n",
    "    sample_sub_path = '/kaggle/input/isic-2024-challenge/sample_submission.csv'\n",
    "    checkpoint_path = '/kaggle/input/skin-cancer-detection-resnet50-training/checkpoints/'\n",
    "\n",
    "    checkpoints = [\n",
    "        'fold_0_epoch_26_pauc_0.149801.pth',\n",
    "        'fold_1_epoch_34_pauc_0.151643.pth',\n",
    "        'fold_2_epoch_28_pauc_0.160078.pth',\n",
    "        'fold_3_epoch_16_pauc_0.16246.pth',\n",
    "        'fold_4_epoch_24_pauc_0.147912.pth'\n",
    "    ]\n",
    "\n",
    "    device = torch.device('cuda' if torch.cuda.is_available() else 'cpu')\n",
    "    val_batch_size = 64\n",
    "    n_folds = 5\n",
    "    seed = 35555\n",
    "    model_name = \"resnet50\""
   ]
  },
  {
   "cell_type": "code",
   "execution_count": 3,
   "id": "9a80c04f",
   "metadata": {
    "execution": {
     "iopub.execute_input": "2024-08-25T08:20:55.147799Z",
     "iopub.status.busy": "2024-08-25T08:20:55.147518Z",
     "iopub.status.idle": "2024-08-25T08:20:55.155097Z",
     "shell.execute_reply": "2024-08-25T08:20:55.154425Z"
    },
    "id": "5a6g1bxI-v-i",
    "papermill": {
     "duration": 0.014067,
     "end_time": "2024-08-25T08:20:55.156965",
     "exception": false,
     "start_time": "2024-08-25T08:20:55.142898",
     "status": "completed"
    },
    "tags": []
   },
   "outputs": [],
   "source": [
    "def seed_everything(seed):\n",
    "    random.seed(seed)\n",
    "    os.environ['PYTHONHASHSEED'] = str(seed)\n",
    "    np.random.seed(seed)\n",
    "    torch.manual_seed(seed)\n",
    "    torch.cuda.manual_seed(seed)\n",
    "    torch.backends.cudnn.deterministic = True\n",
    "    torch.backends.cudnn.benchmark = False\n",
    "\n",
    "\n",
    "seed_everything(CFG.seed)"
   ]
  },
  {
   "cell_type": "code",
   "execution_count": 4,
   "id": "4f67c525",
   "metadata": {
    "execution": {
     "iopub.execute_input": "2024-08-25T08:20:55.165397Z",
     "iopub.status.busy": "2024-08-25T08:20:55.165143Z",
     "iopub.status.idle": "2024-08-25T08:20:55.181716Z",
     "shell.execute_reply": "2024-08-25T08:20:55.181004Z"
    },
    "id": "X7yXnRQG-v-i",
    "papermill": {
     "duration": 0.022956,
     "end_time": "2024-08-25T08:20:55.183591",
     "exception": false,
     "start_time": "2024-08-25T08:20:55.160635",
     "status": "completed"
    },
    "tags": []
   },
   "outputs": [],
   "source": [
    "test_metadata = pd.read_csv(CFG.test_metadata_path)"
   ]
  },
  {
   "cell_type": "code",
   "execution_count": 5,
   "id": "62385e5a",
   "metadata": {
    "execution": {
     "iopub.execute_input": "2024-08-25T08:20:55.192290Z",
     "iopub.status.busy": "2024-08-25T08:20:55.192059Z",
     "iopub.status.idle": "2024-08-25T08:20:55.199461Z",
     "shell.execute_reply": "2024-08-25T08:20:55.198635Z"
    },
    "id": "DxAgokRgvxPr",
    "papermill": {
     "duration": 0.013636,
     "end_time": "2024-08-25T08:20:55.201275",
     "exception": false,
     "start_time": "2024-08-25T08:20:55.187639",
     "status": "completed"
    },
    "tags": []
   },
   "outputs": [],
   "source": [
    "class ISICDataset(Dataset):\n",
    "    def __init__(self, data_path, metadata, transform=None):\n",
    "        self.data = h5py.File(data_path, 'r')\n",
    "        self.metadata = metadata\n",
    "        self.transform = transform\n",
    "\n",
    "    def __len__(self):\n",
    "        return len(self.metadata)\n",
    "\n",
    "    def __getitem__(self, idx):\n",
    "        img_name = self.metadata.iloc[idx]['isic_id']\n",
    "        image = np.array(self.data[img_name])\n",
    "        image = np.array(Image.open(io.BytesIO(image)), dtype=np.float32)\n",
    "\n",
    "        if self.transform:\n",
    "            augmented = self.transform(image=image)\n",
    "            image = augmented['image']\n",
    "\n",
    "        if 'target' in self.metadata.columns:\n",
    "            label = int(self.metadata['target'].iloc[idx])\n",
    "            return image, label\n",
    "        else:\n",
    "            return image, 0"
   ]
  },
  {
   "cell_type": "code",
   "execution_count": 6,
   "id": "95d7dd3b",
   "metadata": {
    "execution": {
     "iopub.execute_input": "2024-08-25T08:20:55.209778Z",
     "iopub.status.busy": "2024-08-25T08:20:55.209499Z",
     "iopub.status.idle": "2024-08-25T08:20:55.214396Z",
     "shell.execute_reply": "2024-08-25T08:20:55.213600Z"
    },
    "id": "6tUJogKp-v-j",
    "papermill": {
     "duration": 0.011127,
     "end_time": "2024-08-25T08:20:55.216145",
     "exception": false,
     "start_time": "2024-08-25T08:20:55.205018",
     "status": "completed"
    },
    "tags": []
   },
   "outputs": [],
   "source": [
    "transforms = A.Compose([\n",
    "    A.Resize(224, 224),\n",
    "    A.Normalize(\n",
    "        mean=[0.485, 0.456, 0.406],\n",
    "        std=[0.229, 0.224, 0.225],\n",
    "        max_pixel_value=255.0,\n",
    "        p=1.0\n",
    "    ),\n",
    "    ToTensorV2()\n",
    "], p=1.)"
   ]
  },
  {
   "cell_type": "code",
   "execution_count": 7,
   "id": "0e95f90d",
   "metadata": {
    "execution": {
     "iopub.execute_input": "2024-08-25T08:20:55.224538Z",
     "iopub.status.busy": "2024-08-25T08:20:55.224288Z",
     "iopub.status.idle": "2024-08-25T08:20:55.230379Z",
     "shell.execute_reply": "2024-08-25T08:20:55.229660Z"
    },
    "id": "uhUwzYAHRelB",
    "papermill": {
     "duration": 0.012415,
     "end_time": "2024-08-25T08:20:55.232250",
     "exception": false,
     "start_time": "2024-08-25T08:20:55.219835",
     "status": "completed"
    },
    "tags": []
   },
   "outputs": [],
   "source": [
    "class ResNet(nn.Module):\n",
    "    def __init__(self, model_name, pretrained=False):\n",
    "        super(ResNet, self).__init__()\n",
    "        self.model = timm.create_model(model_name, pretrained=pretrained, in_chans=3)\n",
    "        num_features = 1000\n",
    "        self.classifier = nn.Sequential(\n",
    "            nn.Linear(num_features, 512),\n",
    "            nn.BatchNorm1d(512),\n",
    "            nn.ReLU(),\n",
    "            nn.Dropout(0.5),\n",
    "            nn.Linear(512, 1),\n",
    "            nn.Sigmoid()\n",
    "        )\n",
    "\n",
    "    def forward(self, x):\n",
    "        x = self.model(x)\n",
    "        x = self.classifier(x)\n",
    "        return x"
   ]
  },
  {
   "cell_type": "code",
   "execution_count": 8,
   "id": "be6525c8",
   "metadata": {
    "execution": {
     "iopub.execute_input": "2024-08-25T08:20:55.240642Z",
     "iopub.status.busy": "2024-08-25T08:20:55.240390Z",
     "iopub.status.idle": "2024-08-25T08:20:55.247328Z",
     "shell.execute_reply": "2024-08-25T08:20:55.246554Z"
    },
    "id": "yWUV5TeWvxPs",
    "papermill": {
     "duration": 0.013309,
     "end_time": "2024-08-25T08:20:55.249273",
     "exception": false,
     "start_time": "2024-08-25T08:20:55.235964",
     "status": "completed"
    },
    "tags": []
   },
   "outputs": [],
   "source": [
    "class Trainer:\n",
    "    def __init__(self, device, model, test_dataloader, checkpoint_path, fold_idx):\n",
    "        self.device = device\n",
    "        self.model = model\n",
    "        self.test_dataloader = test_dataloader\n",
    "        self.checkpoint_path = checkpoint_path\n",
    "        self.fold_idx = fold_idx\n",
    "\n",
    "    def predict(self):\n",
    "        model.load_state_dict(torch.load(self.checkpoint_path))\n",
    "        model.eval()\n",
    "\n",
    "        preds = []\n",
    "        with torch.no_grad():\n",
    "            loop = tqdm(self.test_dataloader, total=len(self.test_dataloader))\n",
    "            for batch in loop:\n",
    "                x, _ = batch\n",
    "                x = x.to(self.device)\n",
    "                y_hat = model(x).squeeze()\n",
    "                preds.extend(y_hat.detach().cpu().numpy())\n",
    "                loop.set_description(f'Prediction')\n",
    "\n",
    "        return preds"
   ]
  },
  {
   "cell_type": "code",
   "execution_count": 9,
   "id": "adcecbcf",
   "metadata": {
    "execution": {
     "iopub.execute_input": "2024-08-25T08:20:55.257639Z",
     "iopub.status.busy": "2024-08-25T08:20:55.257389Z",
     "iopub.status.idle": "2024-08-25T08:21:04.816450Z",
     "shell.execute_reply": "2024-08-25T08:21:04.815294Z"
    },
    "id": "z6ry0OmfyEmZ",
    "outputId": "be79b77b-0941-4759-b0c8-635e6c72b19e",
    "papermill": {
     "duration": 9.565505,
     "end_time": "2024-08-25T08:21:04.818547",
     "exception": false,
     "start_time": "2024-08-25T08:20:55.253042",
     "status": "completed"
    },
    "tags": []
   },
   "outputs": [
    {
     "name": "stderr",
     "output_type": "stream",
     "text": [
      "Prediction: 100%|██████████| 1/1 [00:00<00:00,  1.12it/s]\n",
      "Prediction: 100%|██████████| 1/1 [00:00<00:00,  7.38it/s]\n",
      "Prediction: 100%|██████████| 1/1 [00:00<00:00,  6.84it/s]\n",
      "Prediction: 100%|██████████| 1/1 [00:00<00:00,  7.51it/s]\n",
      "Prediction: 100%|██████████| 1/1 [00:00<00:00,  7.49it/s]\n"
     ]
    }
   ],
   "source": [
    "test_preds = []\n",
    "for fold_idx in range(CFG.n_folds):\n",
    "\n",
    "    test_dataset = ISICDataset(CFG.test_img_path, test_metadata, transforms)\n",
    "    test_dataloader = DataLoader(test_dataset, batch_size=CFG.val_batch_size, shuffle=False, num_workers=4)\n",
    "\n",
    "    model = ResNet(CFG.model_name).to(CFG.device)\n",
    "\n",
    "    trainer = Trainer(\n",
    "        device=CFG.device,\n",
    "        model=model,\n",
    "        test_dataloader=test_dataloader,\n",
    "        checkpoint_path=CFG.checkpoint_path + CFG.checkpoints[fold_idx],\n",
    "        fold_idx=fold_idx\n",
    "    )\n",
    "\n",
    "    preds = trainer.predict()\n",
    "    test_preds.append(preds)\n",
    "\n",
    "    del test_dataset, test_dataloader, model, trainer\n",
    "    gc.collect()\n",
    "    torch.cuda.empty_cache()"
   ]
  },
  {
   "cell_type": "code",
   "execution_count": 10,
   "id": "d9ebffd7",
   "metadata": {
    "execution": {
     "iopub.execute_input": "2024-08-25T08:21:04.831457Z",
     "iopub.status.busy": "2024-08-25T08:21:04.831158Z",
     "iopub.status.idle": "2024-08-25T08:21:04.856371Z",
     "shell.execute_reply": "2024-08-25T08:21:04.855521Z"
    },
    "id": "35WyumonIliL",
    "papermill": {
     "duration": 0.033959,
     "end_time": "2024-08-25T08:21:04.858391",
     "exception": false,
     "start_time": "2024-08-25T08:21:04.824432",
     "status": "completed"
    },
    "tags": []
   },
   "outputs": [
    {
     "data": {
      "text/html": [
       "<div>\n",
       "<style scoped>\n",
       "    .dataframe tbody tr th:only-of-type {\n",
       "        vertical-align: middle;\n",
       "    }\n",
       "\n",
       "    .dataframe tbody tr th {\n",
       "        vertical-align: top;\n",
       "    }\n",
       "\n",
       "    .dataframe thead th {\n",
       "        text-align: right;\n",
       "    }\n",
       "</style>\n",
       "<table border=\"1\" class=\"dataframe\">\n",
       "  <thead>\n",
       "    <tr style=\"text-align: right;\">\n",
       "      <th></th>\n",
       "      <th>isic_id</th>\n",
       "      <th>target</th>\n",
       "    </tr>\n",
       "  </thead>\n",
       "  <tbody>\n",
       "    <tr>\n",
       "      <th>0</th>\n",
       "      <td>ISIC_0015657</td>\n",
       "      <td>0.190637</td>\n",
       "    </tr>\n",
       "    <tr>\n",
       "      <th>1</th>\n",
       "      <td>ISIC_0015729</td>\n",
       "      <td>0.043681</td>\n",
       "    </tr>\n",
       "    <tr>\n",
       "      <th>2</th>\n",
       "      <td>ISIC_0015740</td>\n",
       "      <td>0.192739</td>\n",
       "    </tr>\n",
       "  </tbody>\n",
       "</table>\n",
       "</div>"
      ],
      "text/plain": [
       "        isic_id    target\n",
       "0  ISIC_0015657  0.190637\n",
       "1  ISIC_0015729  0.043681\n",
       "2  ISIC_0015740  0.192739"
      ]
     },
     "execution_count": 10,
     "metadata": {},
     "output_type": "execute_result"
    }
   ],
   "source": [
    "sub = test_metadata.copy()\n",
    "sub['target'] = np.mean(test_preds, axis=0)\n",
    "sub = sub[['isic_id', 'target']]\n",
    "sub.to_csv('submission.csv', index=False)\n",
    "sub.head()"
   ]
  }
 ],
 "metadata": {
  "accelerator": "GPU",
  "colab": {
   "gpuType": "L4",
   "provenance": []
  },
  "kaggle": {
   "accelerator": "gpu",
   "dataSources": [
    {
     "databundleVersionId": 9094797,
     "sourceId": 63056,
     "sourceType": "competition"
    },
    {
     "sourceId": 193717972,
     "sourceType": "kernelVersion"
    }
   ],
   "dockerImageVersionId": 30746,
   "isGpuEnabled": true,
   "isInternetEnabled": false,
   "language": "python",
   "sourceType": "notebook"
  },
  "kernelspec": {
   "display_name": "Python 3",
   "language": "python",
   "name": "python3"
  },
  "language_info": {
   "codemirror_mode": {
    "name": "ipython",
    "version": 3
   },
   "file_extension": ".py",
   "mimetype": "text/x-python",
   "name": "python",
   "nbconvert_exporter": "python",
   "pygments_lexer": "ipython3",
   "version": "3.10.13"
  },
  "papermill": {
   "default_parameters": {},
   "duration": 23.126526,
   "end_time": "2024-08-25T08:21:07.065159",
   "environment_variables": {},
   "exception": null,
   "input_path": "__notebook__.ipynb",
   "output_path": "__notebook__.ipynb",
   "parameters": {},
   "start_time": "2024-08-25T08:20:43.938633",
   "version": "2.5.0"
  }
 },
 "nbformat": 4,
 "nbformat_minor": 5
}
