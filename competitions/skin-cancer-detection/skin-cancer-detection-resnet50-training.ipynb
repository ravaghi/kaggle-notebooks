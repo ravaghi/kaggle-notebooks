{
 "cells": [
  {
   "cell_type": "markdown",
   "id": "192543ad",
   "metadata": {
    "id": "1dDypZ7k-v-d",
    "papermill": {
     "duration": 0.005876,
     "end_time": "2024-08-10T11:21:14.815851",
     "exception": false,
     "start_time": "2024-08-10T11:21:14.809975",
     "status": "completed"
    },
    "tags": []
   },
   "source": [
    "# Imports and configs"
   ]
  },
  {
   "cell_type": "code",
   "execution_count": 1,
   "id": "01b526b1",
   "metadata": {
    "execution": {
     "iopub.execute_input": "2024-08-10T11:21:14.828299Z",
     "iopub.status.busy": "2024-08-10T11:21:14.827945Z",
     "iopub.status.idle": "2024-08-10T11:21:24.082531Z",
     "shell.execute_reply": "2024-08-10T11:21:24.081580Z"
    },
    "id": "mqguadtYvxPn",
    "papermill": {
     "duration": 9.263941,
     "end_time": "2024-08-10T11:21:24.085322",
     "exception": false,
     "start_time": "2024-08-10T11:21:14.821381",
     "status": "completed"
    },
    "tags": []
   },
   "outputs": [],
   "source": [
    "from sklearn.model_selection import StratifiedGroupKFold\n",
    "from sklearn.metrics import roc_curve, auc\n",
    "from torch.utils.data import DataLoader, Dataset\n",
    "from albumentations.pytorch import ToTensorV2\n",
    "import matplotlib.pyplot as plt\n",
    "import torch.optim as optim\n",
    "import torch.nn.functional as F\n",
    "import albumentations as A\n",
    "import seaborn as sns\n",
    "from tqdm import tqdm\n",
    "from PIL import Image\n",
    "import torch.nn as nn\n",
    "import pandas as pd\n",
    "import numpy as np\n",
    "import warnings\n",
    "import h5py\n",
    "import torch\n",
    "import random\n",
    "import timm\n",
    "import io\n",
    "import os\n",
    "import gc\n",
    "\n",
    "warnings.filterwarnings('ignore')"
   ]
  },
  {
   "cell_type": "code",
   "execution_count": 2,
   "id": "387cc0f4",
   "metadata": {
    "execution": {
     "iopub.execute_input": "2024-08-10T11:21:24.099405Z",
     "iopub.status.busy": "2024-08-10T11:21:24.099064Z",
     "iopub.status.idle": "2024-08-10T11:21:24.166930Z",
     "shell.execute_reply": "2024-08-10T11:21:24.165762Z"
    },
    "id": "xOBgLd7--v-h",
    "papermill": {
     "duration": 0.07764,
     "end_time": "2024-08-10T11:21:24.169443",
     "exception": false,
     "start_time": "2024-08-10T11:21:24.091803",
     "status": "completed"
    },
    "tags": []
   },
   "outputs": [],
   "source": [
    "class CFG:\n",
    "    train_metadata_path = '/kaggle/input/isic-2024-challenge/train-metadata.csv'\n",
    "    test_metadata_path = '/kaggle/input/isic-2024-challenge/test-metadata.csv'\n",
    "    train_img_path = '/kaggle/input/isic-2024-challenge/train-image.hdf5'\n",
    "    test_img_path = '/kaggle/input/isic-2024-challenge/test-image.hdf5'\n",
    "    sample_sub_path = '/kaggle/input/isic-2024-challenge/sample_submission.csv'\n",
    "    checkpoint_path = '/kaggle/working/checkpoints'\n",
    "\n",
    "    device = torch.device('cuda' if torch.cuda.is_available() else 'cpu')\n",
    "    max_epochs = 50\n",
    "    learning_rate = 1e-4\n",
    "    train_batch_size = 32\n",
    "    val_batch_size = 64\n",
    "    n_folds = 6\n",
    "    seed = 892\n",
    "    model_name = \"resnet50\"\n",
    "    es_patience = 10"
   ]
  },
  {
   "cell_type": "code",
   "execution_count": 3,
   "id": "1af25ff2",
   "metadata": {
    "execution": {
     "iopub.execute_input": "2024-08-10T11:21:24.182387Z",
     "iopub.status.busy": "2024-08-10T11:21:24.182040Z",
     "iopub.status.idle": "2024-08-10T11:21:24.190127Z",
     "shell.execute_reply": "2024-08-10T11:21:24.189426Z"
    },
    "id": "5a6g1bxI-v-i",
    "papermill": {
     "duration": 0.016546,
     "end_time": "2024-08-10T11:21:24.192044",
     "exception": false,
     "start_time": "2024-08-10T11:21:24.175498",
     "status": "completed"
    },
    "tags": []
   },
   "outputs": [],
   "source": [
    "def seed_everything(seed):\n",
    "    random.seed(seed)\n",
    "    os.environ['PYTHONHASHSEED'] = str(seed)\n",
    "    np.random.seed(seed)\n",
    "    torch.manual_seed(seed)\n",
    "    torch.cuda.manual_seed(seed)\n",
    "    torch.backends.cudnn.deterministic = True\n",
    "    torch.backends.cudnn.benchmark = False\n",
    "\n",
    "seed_everything(CFG.seed)"
   ]
  },
  {
   "cell_type": "markdown",
   "id": "d178f913",
   "metadata": {
    "id": "vM_js2t2-v-i",
    "papermill": {
     "duration": 0.005378,
     "end_time": "2024-08-10T11:21:24.203036",
     "exception": false,
     "start_time": "2024-08-10T11:21:24.197658",
     "status": "completed"
    },
    "tags": []
   },
   "source": [
    "# Loading and splitting the datasets"
   ]
  },
  {
   "cell_type": "code",
   "execution_count": 4,
   "id": "f56f1765",
   "metadata": {
    "execution": {
     "iopub.execute_input": "2024-08-10T11:21:24.215453Z",
     "iopub.status.busy": "2024-08-10T11:21:24.215112Z",
     "iopub.status.idle": "2024-08-10T11:21:31.294003Z",
     "shell.execute_reply": "2024-08-10T11:21:31.293183Z"
    },
    "id": "X7yXnRQG-v-i",
    "papermill": {
     "duration": 7.087855,
     "end_time": "2024-08-10T11:21:31.296473",
     "exception": false,
     "start_time": "2024-08-10T11:21:24.208618",
     "status": "completed"
    },
    "tags": []
   },
   "outputs": [],
   "source": [
    "train_metadata = pd.read_csv(CFG.train_metadata_path)\n",
    "\n",
    "positives = train_metadata[train_metadata.target == 1]\n",
    "negatives = train_metadata[train_metadata.target == 0]\n",
    "train_metadata = pd.concat([positives, negatives.sample(n=20 * len(positives), random_state=CFG.seed)])\n",
    "train_metadata = train_metadata.sample(frac=1, random_state=CFG.seed).reset_index(drop=True)"
   ]
  },
  {
   "cell_type": "code",
   "execution_count": 5,
   "id": "d00e0e51",
   "metadata": {
    "execution": {
     "iopub.execute_input": "2024-08-10T11:21:31.309862Z",
     "iopub.status.busy": "2024-08-10T11:21:31.309076Z",
     "iopub.status.idle": "2024-08-10T11:21:31.834769Z",
     "shell.execute_reply": "2024-08-10T11:21:31.833787Z"
    },
    "id": "BhUgevhz-v-i",
    "papermill": {
     "duration": 0.5349,
     "end_time": "2024-08-10T11:21:31.837240",
     "exception": false,
     "start_time": "2024-08-10T11:21:31.302340",
     "status": "completed"
    },
    "tags": []
   },
   "outputs": [],
   "source": [
    "sgkf = StratifiedGroupKFold(n_splits=CFG.n_folds, random_state=CFG.seed, shuffle=True)\n",
    "split = sgkf.split(train_metadata, train_metadata.target, groups=train_metadata.patient_id)\n",
    "for i, (_, val_index) in enumerate(split):\n",
    "    train_metadata.loc[val_index, 'fold'] = i"
   ]
  },
  {
   "cell_type": "code",
   "execution_count": 6,
   "id": "8c05fc1f",
   "metadata": {
    "execution": {
     "iopub.execute_input": "2024-08-10T11:21:31.849984Z",
     "iopub.status.busy": "2024-08-10T11:21:31.849640Z",
     "iopub.status.idle": "2024-08-10T11:21:38.829550Z",
     "shell.execute_reply": "2024-08-10T11:21:38.828689Z"
    },
    "id": "IF-0HJKr5Ub-",
    "papermill": {
     "duration": 6.988921,
     "end_time": "2024-08-10T11:21:38.831981",
     "exception": false,
     "start_time": "2024-08-10T11:21:31.843060",
     "status": "completed"
    },
    "tags": []
   },
   "outputs": [],
   "source": [
    "train_metadata2 = pd.read_csv(CFG.train_metadata_path)\n",
    "\n",
    "sgkf = StratifiedGroupKFold(n_splits=CFG.n_folds, random_state=CFG.seed, shuffle=True)\n",
    "split = sgkf.split(train_metadata2, train_metadata2.target, groups=train_metadata2.patient_id)\n",
    "for i, (_, val_index) in enumerate(split):\n",
    "    train_metadata2.loc[val_index, 'fold'] = i"
   ]
  },
  {
   "cell_type": "markdown",
   "id": "100a4d06",
   "metadata": {
    "id": "D6JNsMWX-v-i",
    "papermill": {
     "duration": 0.005608,
     "end_time": "2024-08-10T11:21:38.843596",
     "exception": false,
     "start_time": "2024-08-10T11:21:38.837988",
     "status": "completed"
    },
    "tags": []
   },
   "source": [
    "# Creating a custom image dataset"
   ]
  },
  {
   "cell_type": "code",
   "execution_count": 7,
   "id": "2d204c3f",
   "metadata": {
    "execution": {
     "iopub.execute_input": "2024-08-10T11:21:38.856956Z",
     "iopub.status.busy": "2024-08-10T11:21:38.856166Z",
     "iopub.status.idle": "2024-08-10T11:21:38.864228Z",
     "shell.execute_reply": "2024-08-10T11:21:38.863395Z"
    },
    "id": "DxAgokRgvxPr",
    "papermill": {
     "duration": 0.016963,
     "end_time": "2024-08-10T11:21:38.866211",
     "exception": false,
     "start_time": "2024-08-10T11:21:38.849248",
     "status": "completed"
    },
    "tags": []
   },
   "outputs": [],
   "source": [
    "class ISICDataset(Dataset):\n",
    "    def __init__(self, data_path, metadata, transform=None):\n",
    "        self.data = h5py.File(data_path, 'r')\n",
    "        self.metadata = metadata\n",
    "        self.transform = transform\n",
    "\n",
    "    def __len__(self):\n",
    "        return len(self.metadata)\n",
    "\n",
    "    def __getitem__(self, idx):\n",
    "        img_name = self.metadata.iloc[idx]['isic_id']\n",
    "        image = np.array(self.data[img_name])\n",
    "        image = np.array(Image.open(io.BytesIO(image)), dtype=np.float32)\n",
    "\n",
    "        if self.transform:\n",
    "            augmented = self.transform(image=image)\n",
    "            image = augmented['image']\n",
    "\n",
    "        if 'target' in self.metadata.columns:\n",
    "            label = int(self.metadata['target'].iloc[idx])\n",
    "            return image, label\n",
    "        else:\n",
    "            return image, 0"
   ]
  },
  {
   "cell_type": "code",
   "execution_count": 8,
   "id": "8799950e",
   "metadata": {
    "execution": {
     "iopub.execute_input": "2024-08-10T11:21:38.878899Z",
     "iopub.status.busy": "2024-08-10T11:21:38.878275Z",
     "iopub.status.idle": "2024-08-10T11:21:38.887884Z",
     "shell.execute_reply": "2024-08-10T11:21:38.887183Z"
    },
    "id": "6tUJogKp-v-j",
    "papermill": {
     "duration": 0.017842,
     "end_time": "2024-08-10T11:21:38.889728",
     "exception": false,
     "start_time": "2024-08-10T11:21:38.871886",
     "status": "completed"
    },
    "tags": []
   },
   "outputs": [],
   "source": [
    "# Reference: https://www.kaggle.com/code/motono0223/isic-pytorch-training-baseline-image-only\n",
    "\n",
    "transforms = {\n",
    "    \"train\": A.Compose([\n",
    "        A.Resize(224, 224),\n",
    "        A.RandomRotate90(p=0.5),\n",
    "        A.Flip(p=0.5),\n",
    "        A.Downscale(p=0.25),\n",
    "        A.ShiftScaleRotate(\n",
    "            shift_limit=0.1,\n",
    "            scale_limit=0.15,\n",
    "            rotate_limit=60,\n",
    "            p=0.5\n",
    "        ),\n",
    "        A.HueSaturationValue(\n",
    "            hue_shift_limit=0.2,\n",
    "            sat_shift_limit=0.2,\n",
    "            val_shift_limit=0.2,\n",
    "            p=0.5\n",
    "        ),\n",
    "        A.RandomBrightnessContrast(\n",
    "            brightness_limit=(-0.1, 0.1),\n",
    "            contrast_limit=(-0.1, 0.1),\n",
    "            p=0.5\n",
    "        ),\n",
    "        A.Normalize(\n",
    "            mean=[0.485, 0.456, 0.406],\n",
    "            std=[0.229, 0.224, 0.225],\n",
    "            max_pixel_value=255.0,\n",
    "            p=1.0\n",
    "        ),\n",
    "        ToTensorV2()], p=1.),\n",
    "\n",
    "    \"val\": A.Compose([\n",
    "        A.Resize(224, 224),\n",
    "        A.Normalize(\n",
    "            mean=[0.485, 0.456, 0.406],\n",
    "            std=[0.229, 0.224, 0.225],\n",
    "            max_pixel_value=255.0,\n",
    "            p=1.0\n",
    "        ),\n",
    "        ToTensorV2()], p=1.)\n",
    "}"
   ]
  },
  {
   "cell_type": "markdown",
   "id": "943647d2",
   "metadata": {
    "id": "QSzebgg8-v-j",
    "papermill": {
     "duration": 0.005493,
     "end_time": "2024-08-10T11:21:38.900916",
     "exception": false,
     "start_time": "2024-08-10T11:21:38.895423",
     "status": "completed"
    },
    "tags": []
   },
   "source": [
    "# Customizing the image model"
   ]
  },
  {
   "cell_type": "code",
   "execution_count": 9,
   "id": "bd1edd9b",
   "metadata": {
    "execution": {
     "iopub.execute_input": "2024-08-10T11:21:38.913513Z",
     "iopub.status.busy": "2024-08-10T11:21:38.913017Z",
     "iopub.status.idle": "2024-08-10T11:21:38.918504Z",
     "shell.execute_reply": "2024-08-10T11:21:38.917703Z"
    },
    "id": "uhUwzYAHRelB",
    "papermill": {
     "duration": 0.013767,
     "end_time": "2024-08-10T11:21:38.920378",
     "exception": false,
     "start_time": "2024-08-10T11:21:38.906611",
     "status": "completed"
    },
    "tags": []
   },
   "outputs": [],
   "source": [
    "class ResNet50(nn.Module):\n",
    "    def __init__(self, model_name, num_classes=2, pretrained=True):\n",
    "        super(ResNet50, self).__init__()\n",
    "        self.model = timm.create_model(model_name, pretrained=pretrained, in_chans=3)\n",
    "        self.model.reset_classifier(num_classes=num_classes, global_pool='avg')\n",
    "\n",
    "    def forward(self, x):\n",
    "        return self.model(x)"
   ]
  },
  {
   "cell_type": "markdown",
   "id": "38439a97",
   "metadata": {
    "id": "NbENY6cl-v-j",
    "papermill": {
     "duration": 0.005593,
     "end_time": "2024-08-10T11:21:38.931788",
     "exception": false,
     "start_time": "2024-08-10T11:21:38.926195",
     "status": "completed"
    },
    "tags": []
   },
   "source": [
    "# Creating a trainer class"
   ]
  },
  {
   "cell_type": "code",
   "execution_count": 10,
   "id": "5bf78f31",
   "metadata": {
    "execution": {
     "iopub.execute_input": "2024-08-10T11:21:38.945517Z",
     "iopub.status.busy": "2024-08-10T11:21:38.945251Z",
     "iopub.status.idle": "2024-08-10T11:21:38.972266Z",
     "shell.execute_reply": "2024-08-10T11:21:38.971527Z"
    },
    "id": "yWUV5TeWvxPs",
    "papermill": {
     "duration": 0.036558,
     "end_time": "2024-08-10T11:21:38.974070",
     "exception": false,
     "start_time": "2024-08-10T11:21:38.937512",
     "status": "completed"
    },
    "tags": []
   },
   "outputs": [],
   "source": [
    "class Trainer:\n",
    "    def __init__(\n",
    "        self,\n",
    "        device,\n",
    "        model,\n",
    "        criterion,\n",
    "        optimizer,\n",
    "        scheduler,\n",
    "        train_dataloader,\n",
    "        val_dataloader,\n",
    "        checkpoint_path,\n",
    "        fold_idx,\n",
    "        es_patience\n",
    "    ):\n",
    "        self.device = device\n",
    "        self.model = model\n",
    "        self.criterion = criterion\n",
    "        self.optimizer = optimizer\n",
    "        self.scheduler = scheduler\n",
    "        self.train_dataloader = train_dataloader\n",
    "        self.val_dataloader = val_dataloader\n",
    "        self.checkpoint_path = checkpoint_path\n",
    "        self.best_pauc = 0.0\n",
    "        self.best_model_path = None\n",
    "        self.fold_idx = fold_idx\n",
    "        self.es_patience = es_patience\n",
    "        self.create_checkpoint_path()\n",
    "\n",
    "    def create_checkpoint_path(self):\n",
    "        if not os.path.exists(self.checkpoint_path):\n",
    "            os.makedirs(self.checkpoint_path)\n",
    "\n",
    "    @staticmethod\n",
    "    def p_roc_auc_score(y_true, y_preds, min_tpr: float = 0.80):\n",
    "        v_gt = abs(np.asarray(y_true)-1)\n",
    "        v_pred = -1.0 * np.asarray(y_preds)\n",
    "        max_fpr = abs(1-min_tpr)\n",
    "        fpr, tpr, _ = roc_curve(v_gt, v_pred, sample_weight=None)\n",
    "        if max_fpr is None or max_fpr == 1:\n",
    "            return auc(fpr, tpr)\n",
    "        if max_fpr <= 0 or max_fpr > 1:\n",
    "            raise ValueError(\"Expected min_tpr in range [0, 1), got: %r\" % min_tpr)\n",
    "        stop = np.searchsorted(fpr, max_fpr, \"right\")\n",
    "        x_interp = [fpr[stop - 1], fpr[stop]]\n",
    "        y_interp = [tpr[stop - 1], tpr[stop]]\n",
    "        tpr = np.append(tpr[:stop], np.interp(max_fpr, x_interp, y_interp))\n",
    "        fpr = np.append(fpr[:stop], max_fpr)\n",
    "        partial_auc = auc(fpr, tpr)\n",
    "        return partial_auc\n",
    "\n",
    "    def train(self, current_epoch_nr):\n",
    "        self.model.train()\n",
    "\n",
    "        num_batches = len(self.train_dataloader)\n",
    "\n",
    "        running_loss = 0.0\n",
    "        total = 0\n",
    "\n",
    "        preds = []\n",
    "        targets = []\n",
    "\n",
    "        loop = tqdm(self.train_dataloader, total=num_batches)\n",
    "        for batch in loop:\n",
    "            x, y = batch\n",
    "            x, y = x.to(self.device), y.to(self.device)\n",
    "\n",
    "            self.optimizer.zero_grad()\n",
    "\n",
    "            y_hat = self.model(x)\n",
    "            pred_probs = F.softmax(y_hat, dim=1)\n",
    "\n",
    "            preds.extend(pred_probs[:, 1].detach().cpu().numpy())\n",
    "            targets.extend(y.detach().cpu().numpy())\n",
    "\n",
    "            loss = self.criterion(y_hat, y)\n",
    "            loss.backward()\n",
    "            self.optimizer.step()\n",
    "\n",
    "            running_loss += loss.item() * x.size(0)\n",
    "            total += y.size(0)\n",
    "\n",
    "            loop.set_description(f'Epoch {current_epoch_nr}')\n",
    "            loop.set_postfix(train_loss=round(running_loss / total, 6))\n",
    "\n",
    "            if self.scheduler is not None:\n",
    "                self.scheduler.step()\n",
    "\n",
    "        train_pauc = self.p_roc_auc_score(targets, preds)\n",
    "        train_loss = running_loss / num_batches\n",
    "\n",
    "        return train_pauc, train_loss\n",
    "\n",
    "    def evaluate(self, current_epoch_nr):\n",
    "        self.model.eval()\n",
    "\n",
    "        num_batches = len(self.val_dataloader)\n",
    "\n",
    "        running_loss = 0.0\n",
    "        total = 0\n",
    "\n",
    "        preds = []\n",
    "        targets = []\n",
    "\n",
    "        with torch.no_grad():\n",
    "            loop = tqdm(self.val_dataloader, total=num_batches)\n",
    "            for batch in loop:\n",
    "                x, y = batch\n",
    "                x, y = x.to(self.device), y.to(self.device)\n",
    "\n",
    "                self.optimizer.zero_grad()\n",
    "\n",
    "                y_hat = self.model(x)\n",
    "                pred_probs = F.softmax(y_hat, dim=1)\n",
    "\n",
    "                preds.extend(pred_probs[:, 1].detach().cpu().numpy())\n",
    "                targets.extend(y.detach().cpu().numpy())\n",
    "\n",
    "                loss = self.criterion(y_hat, y)\n",
    "                running_loss += loss.item() * x.size(0)\n",
    "                total += y.size(0)\n",
    "\n",
    "                loop.set_description(f'Epoch {current_epoch_nr}')\n",
    "                loop.set_postfix(val_loss=round(running_loss / total, 6))\n",
    "\n",
    "        val_pauc = self.p_roc_auc_score(targets, preds)\n",
    "        val_loss = running_loss / num_batches\n",
    "\n",
    "        if val_pauc > self.best_pauc:\n",
    "            self.es_patience = CFG.es_patience\n",
    "            if self.best_pauc != 0.0:\n",
    "                print(f'New best model found: pAUC = {val_pauc:.6f} (previous best: {self.best_pauc:.6f})')\n",
    "            self.best_pauc = val_pauc\n",
    "            checkpoint_name = f'fold_{self.fold_idx}_epoch_{current_epoch_nr}_pauc_{round(val_pauc, 6)}.pth'\n",
    "\n",
    "            for file in os.listdir(self.checkpoint_path):\n",
    "                if file.startswith(f'fold_{self.fold_idx}_epoch_'):\n",
    "                    os.remove(os.path.join(self.checkpoint_path, file))\n",
    "\n",
    "            torch.save(\n",
    "                self.model.state_dict(),\n",
    "                os.path.join(self.checkpoint_path, checkpoint_name)\n",
    "            )\n",
    "            self.best_model_path = os.path.join(\n",
    "                self.checkpoint_path, checkpoint_name)\n",
    "\n",
    "        else:\n",
    "            self.es_patience -= 1\n",
    "            if self.es_patience == 0:\n",
    "                print(f'Early stopping triggered at epoch {current_epoch_nr}. Best pAUC = {self.best_pauc:.6f}')\n",
    "                return val_pauc, val_loss, True\n",
    "\n",
    "        return val_pauc, val_loss, False\n",
    "\n",
    "    def predict(self, dataloader):\n",
    "        model = self.model.to(self.device)\n",
    "        model.load_state_dict(torch.load(self.best_model_path))\n",
    "        model.eval()\n",
    "\n",
    "        preds = []\n",
    "        with torch.no_grad():\n",
    "            loop = tqdm(dataloader, total=len(dataloader))\n",
    "            for batch in loop:\n",
    "                x, _ = batch\n",
    "                x = x.to(self.device)\n",
    "                y_hat = model(x)\n",
    "                pred_probs = F.softmax(y_hat, dim=1)\n",
    "                preds.extend(pred_probs.detach().cpu().numpy())\n",
    "                loop.set_description(f'Prediction')\n",
    "\n",
    "        return preds"
   ]
  },
  {
   "cell_type": "markdown",
   "id": "af07e9ba",
   "metadata": {
    "id": "uE7oYGyR-v-j",
    "papermill": {
     "duration": 0.005546,
     "end_time": "2024-08-10T11:21:38.985455",
     "exception": false,
     "start_time": "2024-08-10T11:21:38.979909",
     "status": "completed"
    },
    "tags": []
   },
   "source": [
    "# Training and cross-validation"
   ]
  },
  {
   "cell_type": "code",
   "execution_count": 11,
   "id": "aab9e0f3",
   "metadata": {
    "_kg_hide-output": true,
    "execution": {
     "iopub.execute_input": "2024-08-10T11:21:38.998297Z",
     "iopub.status.busy": "2024-08-10T11:21:38.997802Z",
     "iopub.status.idle": "2024-08-10T19:26:05.403955Z",
     "shell.execute_reply": "2024-08-10T19:26:05.402849Z"
    },
    "id": "z6ry0OmfyEmZ",
    "outputId": "be79b77b-0941-4759-b0c8-635e6c72b19e",
    "papermill": {
     "duration": 29066.414865,
     "end_time": "2024-08-10T19:26:05.406039",
     "exception": false,
     "start_time": "2024-08-10T11:21:38.991174",
     "status": "completed"
    },
    "tags": []
   },
   "outputs": [
    {
     "name": "stdout",
     "output_type": "stream",
     "text": [
      "---------------------------------- Fold 1 ----------------------------------\n"
     ]
    },
    {
     "data": {
      "application/vnd.jupyter.widget-view+json": {
       "model_id": "329b0e85428d4c1da975b70690ca363d",
       "version_major": 2,
       "version_minor": 0
      },
      "text/plain": [
       "model.safetensors:   0%|          | 0.00/102M [00:00<?, ?B/s]"
      ]
     },
     "metadata": {},
     "output_type": "display_data"
    },
    {
     "name": "stderr",
     "output_type": "stream",
     "text": [
      "Epoch 1: 100%|██████████| 207/207 [02:12<00:00,  1.56it/s, train_loss=0.254]\n",
      "Epoch 1: 100%|██████████| 26/26 [00:03<00:00,  6.85it/s, val_loss=0.183]\n"
     ]
    },
    {
     "name": "stdout",
     "output_type": "stream",
     "text": [
      "Epoch 1: Train pAUC: 0.024064 - Val pAUC: 0.048370 | Train Loss: 8.090589 - Val Loss: 11.620336\n",
      "\n"
     ]
    },
    {
     "name": "stderr",
     "output_type": "stream",
     "text": [
      "Epoch 2: 100%|██████████| 207/207 [02:11<00:00,  1.58it/s, train_loss=0.19]\n",
      "Epoch 2: 100%|██████████| 26/26 [00:03<00:00,  7.15it/s, val_loss=0.169]\n"
     ]
    },
    {
     "name": "stdout",
     "output_type": "stream",
     "text": [
      "New best model found: pAUC = 0.072054 (previous best: 0.048370)\n",
      "Epoch 2: Train pAUC: 0.033488 - Val pAUC: 0.072054 | Train Loss: 6.047348 - Val Loss: 10.728802\n",
      "\n"
     ]
    },
    {
     "name": "stderr",
     "output_type": "stream",
     "text": [
      "Epoch 3: 100%|██████████| 207/207 [02:11<00:00,  1.58it/s, train_loss=0.19]\n",
      "Epoch 3: 100%|██████████| 26/26 [00:03<00:00,  7.37it/s, val_loss=0.155]\n"
     ]
    },
    {
     "name": "stdout",
     "output_type": "stream",
     "text": [
      "New best model found: pAUC = 0.074800 (previous best: 0.072054)\n",
      "Epoch 3: Train pAUC: 0.034656 - Val pAUC: 0.074800 | Train Loss: 6.066420 - Val Loss: 9.848532\n",
      "\n"
     ]
    },
    {
     "name": "stderr",
     "output_type": "stream",
     "text": [
      "Epoch 4: 100%|██████████| 207/207 [02:11<00:00,  1.58it/s, train_loss=0.183]\n",
      "Epoch 4: 100%|██████████| 26/26 [00:03<00:00,  7.22it/s, val_loss=0.149]\n"
     ]
    },
    {
     "name": "stdout",
     "output_type": "stream",
     "text": [
      "New best model found: pAUC = 0.099684 (previous best: 0.074800)\n",
      "Epoch 4: Train pAUC: 0.046669 - Val pAUC: 0.099684 | Train Loss: 5.830458 - Val Loss: 9.461871\n",
      "\n"
     ]
    },
    {
     "name": "stderr",
     "output_type": "stream",
     "text": [
      "Epoch 5: 100%|██████████| 207/207 [02:11<00:00,  1.58it/s, train_loss=0.179]\n",
      "Epoch 5: 100%|██████████| 26/26 [00:03<00:00,  7.07it/s, val_loss=0.145]\n"
     ]
    },
    {
     "name": "stdout",
     "output_type": "stream",
     "text": [
      "Epoch 5: Train pAUC: 0.050822 - Val pAUC: 0.091273 | Train Loss: 5.703355 - Val Loss: 9.252713\n",
      "\n"
     ]
    },
    {
     "name": "stderr",
     "output_type": "stream",
     "text": [
      "Epoch 6: 100%|██████████| 207/207 [02:11<00:00,  1.58it/s, train_loss=0.174]\n",
      "Epoch 6: 100%|██████████| 26/26 [00:03<00:00,  7.04it/s, val_loss=0.14]\n"
     ]
    },
    {
     "name": "stdout",
     "output_type": "stream",
     "text": [
      "New best model found: pAUC = 0.100609 (previous best: 0.099684)\n",
      "Epoch 6: Train pAUC: 0.055518 - Val pAUC: 0.100609 | Train Loss: 5.538460 - Val Loss: 8.925777\n",
      "\n"
     ]
    },
    {
     "name": "stderr",
     "output_type": "stream",
     "text": [
      "Epoch 7: 100%|██████████| 207/207 [02:11<00:00,  1.58it/s, train_loss=0.17]\n",
      "Epoch 7: 100%|██████████| 26/26 [00:03<00:00,  7.43it/s, val_loss=0.131]\n"
     ]
    },
    {
     "name": "stdout",
     "output_type": "stream",
     "text": [
      "New best model found: pAUC = 0.114284 (previous best: 0.100609)\n",
      "Epoch 7: Train pAUC: 0.054821 - Val pAUC: 0.114284 | Train Loss: 5.411821 - Val Loss: 8.337778\n",
      "\n"
     ]
    },
    {
     "name": "stderr",
     "output_type": "stream",
     "text": [
      "Epoch 8: 100%|██████████| 207/207 [02:11<00:00,  1.58it/s, train_loss=0.164]\n",
      "Epoch 8: 100%|██████████| 26/26 [00:03<00:00,  7.16it/s, val_loss=0.128]\n"
     ]
    },
    {
     "name": "stdout",
     "output_type": "stream",
     "text": [
      "New best model found: pAUC = 0.123707 (previous best: 0.114284)\n",
      "Epoch 8: Train pAUC: 0.071349 - Val pAUC: 0.123707 | Train Loss: 5.236075 - Val Loss: 8.169095\n",
      "\n"
     ]
    },
    {
     "name": "stderr",
     "output_type": "stream",
     "text": [
      "Epoch 9: 100%|██████████| 207/207 [02:11<00:00,  1.58it/s, train_loss=0.163]\n",
      "Epoch 9: 100%|██████████| 26/26 [00:03<00:00,  7.47it/s, val_loss=0.123]\n"
     ]
    },
    {
     "name": "stdout",
     "output_type": "stream",
     "text": [
      "Epoch 9: Train pAUC: 0.066860 - Val pAUC: 0.121941 | Train Loss: 5.187645 - Val Loss: 7.798642\n",
      "\n"
     ]
    },
    {
     "name": "stderr",
     "output_type": "stream",
     "text": [
      "Epoch 10: 100%|██████████| 207/207 [02:11<00:00,  1.58it/s, train_loss=0.159]\n",
      "Epoch 10: 100%|██████████| 26/26 [00:03<00:00,  7.34it/s, val_loss=0.117]\n"
     ]
    },
    {
     "name": "stdout",
     "output_type": "stream",
     "text": [
      "New best model found: pAUC = 0.139654 (previous best: 0.123707)\n",
      "Epoch 10: Train pAUC: 0.076669 - Val pAUC: 0.139654 | Train Loss: 5.076739 - Val Loss: 7.427281\n",
      "\n"
     ]
    },
    {
     "name": "stderr",
     "output_type": "stream",
     "text": [
      "Epoch 11: 100%|██████████| 207/207 [02:11<00:00,  1.58it/s, train_loss=0.156]\n",
      "Epoch 11: 100%|██████████| 26/26 [00:03<00:00,  7.36it/s, val_loss=0.114]\n"
     ]
    },
    {
     "name": "stdout",
     "output_type": "stream",
     "text": [
      "Epoch 11: Train pAUC: 0.074500 - Val pAUC: 0.136923 | Train Loss: 4.973813 - Val Loss: 7.254109\n",
      "\n"
     ]
    },
    {
     "name": "stderr",
     "output_type": "stream",
     "text": [
      "Epoch 12: 100%|██████████| 207/207 [02:11<00:00,  1.58it/s, train_loss=0.156]\n",
      "Epoch 12: 100%|██████████| 26/26 [00:03<00:00,  7.37it/s, val_loss=0.122]\n"
     ]
    },
    {
     "name": "stdout",
     "output_type": "stream",
     "text": [
      "Epoch 12: Train pAUC: 0.067966 - Val pAUC: 0.124430 | Train Loss: 4.970185 - Val Loss: 7.750371\n",
      "\n"
     ]
    },
    {
     "name": "stderr",
     "output_type": "stream",
     "text": [
      "Epoch 13: 100%|██████████| 207/207 [02:11<00:00,  1.58it/s, train_loss=0.159]\n",
      "Epoch 13: 100%|██████████| 26/26 [00:03<00:00,  7.42it/s, val_loss=0.125]\n"
     ]
    },
    {
     "name": "stdout",
     "output_type": "stream",
     "text": [
      "Epoch 13: Train pAUC: 0.075230 - Val pAUC: 0.139351 | Train Loss: 5.054209 - Val Loss: 7.973837\n",
      "\n"
     ]
    },
    {
     "name": "stderr",
     "output_type": "stream",
     "text": [
      "Epoch 14: 100%|██████████| 207/207 [02:11<00:00,  1.58it/s, train_loss=0.156]\n",
      "Epoch 14: 100%|██████████| 26/26 [00:03<00:00,  7.46it/s, val_loss=0.115]\n"
     ]
    },
    {
     "name": "stdout",
     "output_type": "stream",
     "text": [
      "Epoch 14: Train pAUC: 0.083662 - Val pAUC: 0.128853 | Train Loss: 4.960131 - Val Loss: 7.336196\n",
      "\n"
     ]
    },
    {
     "name": "stderr",
     "output_type": "stream",
     "text": [
      "Epoch 15: 100%|██████████| 207/207 [02:11<00:00,  1.58it/s, train_loss=0.155]\n",
      "Epoch 15: 100%|██████████| 26/26 [00:03<00:00,  7.48it/s, val_loss=0.123]\n"
     ]
    },
    {
     "name": "stdout",
     "output_type": "stream",
     "text": [
      "New best model found: pAUC = 0.139769 (previous best: 0.139654)\n",
      "Epoch 15: Train pAUC: 0.079553 - Val pAUC: 0.139769 | Train Loss: 4.925500 - Val Loss: 7.799015\n",
      "\n"
     ]
    },
    {
     "name": "stderr",
     "output_type": "stream",
     "text": [
      "Epoch 16: 100%|██████████| 207/207 [02:11<00:00,  1.58it/s, train_loss=0.152]\n",
      "Epoch 16: 100%|██████████| 26/26 [00:03<00:00,  7.33it/s, val_loss=0.106]\n"
     ]
    },
    {
     "name": "stdout",
     "output_type": "stream",
     "text": [
      "New best model found: pAUC = 0.141629 (previous best: 0.139769)\n",
      "Epoch 16: Train pAUC: 0.085508 - Val pAUC: 0.141629 | Train Loss: 4.830315 - Val Loss: 6.752070\n",
      "\n"
     ]
    },
    {
     "name": "stderr",
     "output_type": "stream",
     "text": [
      "Epoch 17: 100%|██████████| 207/207 [02:11<00:00,  1.58it/s, train_loss=0.149]\n",
      "Epoch 17: 100%|██████████| 26/26 [00:03<00:00,  7.36it/s, val_loss=0.105]\n"
     ]
    },
    {
     "name": "stdout",
     "output_type": "stream",
     "text": [
      "New best model found: pAUC = 0.149965 (previous best: 0.141629)\n",
      "Epoch 17: Train pAUC: 0.093511 - Val pAUC: 0.149965 | Train Loss: 4.763223 - Val Loss: 6.684184\n",
      "\n"
     ]
    },
    {
     "name": "stderr",
     "output_type": "stream",
     "text": [
      "Epoch 18: 100%|██████████| 207/207 [02:11<00:00,  1.58it/s, train_loss=0.148]\n",
      "Epoch 18: 100%|██████████| 26/26 [00:03<00:00,  7.46it/s, val_loss=0.123]\n"
     ]
    },
    {
     "name": "stdout",
     "output_type": "stream",
     "text": [
      "Epoch 18: Train pAUC: 0.084925 - Val pAUC: 0.142803 | Train Loss: 4.715380 - Val Loss: 7.829741\n",
      "\n"
     ]
    },
    {
     "name": "stderr",
     "output_type": "stream",
     "text": [
      "Epoch 19: 100%|██████████| 207/207 [02:11<00:00,  1.58it/s, train_loss=0.151]\n",
      "Epoch 19: 100%|██████████| 26/26 [00:03<00:00,  7.14it/s, val_loss=0.105]\n"
     ]
    },
    {
     "name": "stdout",
     "output_type": "stream",
     "text": [
      "New best model found: pAUC = 0.158272 (previous best: 0.149965)\n",
      "Epoch 19: Train pAUC: 0.075611 - Val pAUC: 0.158272 | Train Loss: 4.814197 - Val Loss: 6.673617\n",
      "\n"
     ]
    },
    {
     "name": "stderr",
     "output_type": "stream",
     "text": [
      "Epoch 20: 100%|██████████| 207/207 [02:11<00:00,  1.58it/s, train_loss=0.153]\n",
      "Epoch 20: 100%|██████████| 26/26 [00:03<00:00,  7.36it/s, val_loss=0.107]\n"
     ]
    },
    {
     "name": "stdout",
     "output_type": "stream",
     "text": [
      "Epoch 20: Train pAUC: 0.084979 - Val pAUC: 0.143654 | Train Loss: 4.870743 - Val Loss: 6.826131\n",
      "\n"
     ]
    },
    {
     "name": "stderr",
     "output_type": "stream",
     "text": [
      "Epoch 21: 100%|██████████| 207/207 [02:11<00:00,  1.58it/s, train_loss=0.151]\n",
      "Epoch 21: 100%|██████████| 26/26 [00:03<00:00,  7.38it/s, val_loss=0.104]\n"
     ]
    },
    {
     "name": "stdout",
     "output_type": "stream",
     "text": [
      "Epoch 21: Train pAUC: 0.085363 - Val pAUC: 0.153434 | Train Loss: 4.806212 - Val Loss: 6.646821\n",
      "\n"
     ]
    },
    {
     "name": "stderr",
     "output_type": "stream",
     "text": [
      "Epoch 22: 100%|██████████| 207/207 [02:11<00:00,  1.58it/s, train_loss=0.145]\n",
      "Epoch 22: 100%|██████████| 26/26 [00:03<00:00,  7.19it/s, val_loss=0.0958]\n"
     ]
    },
    {
     "name": "stdout",
     "output_type": "stream",
     "text": [
      "New best model found: pAUC = 0.162757 (previous best: 0.158272)\n",
      "Epoch 22: Train pAUC: 0.087887 - Val pAUC: 0.162757 | Train Loss: 4.636450 - Val Loss: 6.100650\n",
      "\n"
     ]
    },
    {
     "name": "stderr",
     "output_type": "stream",
     "text": [
      "Epoch 23: 100%|██████████| 207/207 [02:11<00:00,  1.58it/s, train_loss=0.149]\n",
      "Epoch 23: 100%|██████████| 26/26 [00:03<00:00,  7.19it/s, val_loss=0.101]\n"
     ]
    },
    {
     "name": "stdout",
     "output_type": "stream",
     "text": [
      "Epoch 23: Train pAUC: 0.079211 - Val pAUC: 0.150391 | Train Loss: 4.758411 - Val Loss: 6.441932\n",
      "\n"
     ]
    },
    {
     "name": "stderr",
     "output_type": "stream",
     "text": [
      "Epoch 24: 100%|██████████| 207/207 [02:11<00:00,  1.58it/s, train_loss=0.147]\n",
      "Epoch 24: 100%|██████████| 26/26 [00:03<00:00,  7.34it/s, val_loss=0.099]\n"
     ]
    },
    {
     "name": "stdout",
     "output_type": "stream",
     "text": [
      "Epoch 24: Train pAUC: 0.078490 - Val pAUC: 0.159814 | Train Loss: 4.675049 - Val Loss: 6.304577\n",
      "\n"
     ]
    },
    {
     "name": "stderr",
     "output_type": "stream",
     "text": [
      "Epoch 25: 100%|██████████| 207/207 [02:11<00:00,  1.58it/s, train_loss=0.153]\n",
      "Epoch 25: 100%|██████████| 26/26 [00:03<00:00,  7.44it/s, val_loss=0.109]\n"
     ]
    },
    {
     "name": "stdout",
     "output_type": "stream",
     "text": [
      "Epoch 25: Train pAUC: 0.083869 - Val pAUC: 0.147757 | Train Loss: 4.863902 - Val Loss: 6.908322\n",
      "\n"
     ]
    },
    {
     "name": "stderr",
     "output_type": "stream",
     "text": [
      "Epoch 26: 100%|██████████| 207/207 [02:11<00:00,  1.58it/s, train_loss=0.141]\n",
      "Epoch 26: 100%|██████████| 26/26 [00:03<00:00,  7.40it/s, val_loss=0.0994]\n"
     ]
    },
    {
     "name": "stdout",
     "output_type": "stream",
     "text": [
      "Epoch 26: Train pAUC: 0.097563 - Val pAUC: 0.154983 | Train Loss: 4.508572 - Val Loss: 6.329497\n",
      "\n"
     ]
    },
    {
     "name": "stderr",
     "output_type": "stream",
     "text": [
      "Epoch 27: 100%|██████████| 207/207 [02:11<00:00,  1.58it/s, train_loss=0.146]\n",
      "Epoch 27: 100%|██████████| 26/26 [00:03<00:00,  7.29it/s, val_loss=0.101]\n"
     ]
    },
    {
     "name": "stdout",
     "output_type": "stream",
     "text": [
      "Epoch 27: Train pAUC: 0.088180 - Val pAUC: 0.152337 | Train Loss: 4.644488 - Val Loss: 6.454316\n",
      "\n"
     ]
    },
    {
     "name": "stderr",
     "output_type": "stream",
     "text": [
      "Epoch 28: 100%|██████████| 207/207 [02:11<00:00,  1.58it/s, train_loss=0.147]\n",
      "Epoch 28: 100%|██████████| 26/26 [00:03<00:00,  7.39it/s, val_loss=0.106]\n"
     ]
    },
    {
     "name": "stdout",
     "output_type": "stream",
     "text": [
      "Epoch 28: Train pAUC: 0.086463 - Val pAUC: 0.148877 | Train Loss: 4.676439 - Val Loss: 6.754236\n",
      "\n"
     ]
    },
    {
     "name": "stderr",
     "output_type": "stream",
     "text": [
      "Epoch 29: 100%|██████████| 207/207 [02:11<00:00,  1.58it/s, train_loss=0.146]\n",
      "Epoch 29: 100%|██████████| 26/26 [00:03<00:00,  7.29it/s, val_loss=0.098]\n"
     ]
    },
    {
     "name": "stdout",
     "output_type": "stream",
     "text": [
      "Epoch 29: Train pAUC: 0.089366 - Val pAUC: 0.157717 | Train Loss: 4.658228 - Val Loss: 6.239291\n",
      "\n"
     ]
    },
    {
     "name": "stderr",
     "output_type": "stream",
     "text": [
      "Epoch 30: 100%|██████████| 207/207 [02:11<00:00,  1.58it/s, train_loss=0.145]\n",
      "Epoch 30: 100%|██████████| 26/26 [00:03<00:00,  7.34it/s, val_loss=0.0975]\n"
     ]
    },
    {
     "name": "stdout",
     "output_type": "stream",
     "text": [
      "Epoch 30: Train pAUC: 0.098689 - Val pAUC: 0.155503 | Train Loss: 4.619475 - Val Loss: 6.206421\n",
      "\n"
     ]
    },
    {
     "name": "stderr",
     "output_type": "stream",
     "text": [
      "Epoch 31: 100%|██████████| 207/207 [02:11<00:00,  1.58it/s, train_loss=0.146]\n",
      "Epoch 31: 100%|██████████| 26/26 [00:03<00:00,  7.39it/s, val_loss=0.106]\n"
     ]
    },
    {
     "name": "stdout",
     "output_type": "stream",
     "text": [
      "Epoch 31: Train pAUC: 0.087493 - Val pAUC: 0.145402 | Train Loss: 4.665636 - Val Loss: 6.736605\n",
      "\n"
     ]
    },
    {
     "name": "stderr",
     "output_type": "stream",
     "text": [
      "Epoch 32: 100%|██████████| 207/207 [02:11<00:00,  1.58it/s, train_loss=0.146]\n",
      "Epoch 32: 100%|██████████| 26/26 [00:03<00:00,  7.38it/s, val_loss=0.098]\n"
     ]
    },
    {
     "name": "stdout",
     "output_type": "stream",
     "text": [
      "Early stopping triggered at epoch 32. Best pAUC = 0.162757\n",
      "Epoch 32: Train pAUC: 0.092763 - Val pAUC: 0.159047 | Train Loss: 4.655351 - Val Loss: 6.238608\n",
      "\n"
     ]
    },
    {
     "name": "stderr",
     "output_type": "stream",
     "text": [
      "Prediction: 100%|██████████| 1070/1070 [02:04<00:00,  8.62it/s]\n"
     ]
    },
    {
     "name": "stdout",
     "output_type": "stream",
     "text": [
      "---------------------------------- Fold 1 ----------------------------------\n",
      "\n",
      "\n",
      "---------------------------------- Fold 2 ----------------------------------\n"
     ]
    },
    {
     "name": "stderr",
     "output_type": "stream",
     "text": [
      "Epoch 1: 100%|██████████| 221/221 [02:20<00:00,  1.57it/s, train_loss=0.23]\n",
      "Epoch 1: 100%|██████████| 19/19 [00:02<00:00,  6.80it/s, val_loss=0.293]\n"
     ]
    },
    {
     "name": "stdout",
     "output_type": "stream",
     "text": [
      "Epoch 1: Train pAUC: 0.025506 - Val pAUC: 0.027881 | Train Loss: 7.326748 - Val Loss: 18.574586\n",
      "\n"
     ]
    },
    {
     "name": "stderr",
     "output_type": "stream",
     "text": [
      "Epoch 2: 100%|██████████| 221/221 [02:20<00:00,  1.58it/s, train_loss=0.184]\n",
      "Epoch 2: 100%|██████████| 19/19 [00:02<00:00,  7.05it/s, val_loss=0.218]\n"
     ]
    },
    {
     "name": "stdout",
     "output_type": "stream",
     "text": [
      "New best model found: pAUC = 0.048852 (previous best: 0.027881)\n",
      "Epoch 2: Train pAUC: 0.027630 - Val pAUC: 0.048852 | Train Loss: 5.876140 - Val Loss: 13.822750\n",
      "\n"
     ]
    },
    {
     "name": "stderr",
     "output_type": "stream",
     "text": [
      "Epoch 3: 100%|██████████| 221/221 [02:20<00:00,  1.58it/s, train_loss=0.179]\n",
      "Epoch 3: 100%|██████████| 19/19 [00:02<00:00,  6.98it/s, val_loss=0.21]\n"
     ]
    },
    {
     "name": "stdout",
     "output_type": "stream",
     "text": [
      "New best model found: pAUC = 0.063419 (previous best: 0.048852)\n",
      "Epoch 3: Train pAUC: 0.033817 - Val pAUC: 0.063419 | Train Loss: 5.708616 - Val Loss: 13.317192\n",
      "\n"
     ]
    },
    {
     "name": "stderr",
     "output_type": "stream",
     "text": [
      "Epoch 4: 100%|██████████| 221/221 [02:20<00:00,  1.58it/s, train_loss=0.168]\n",
      "Epoch 4: 100%|██████████| 19/19 [00:02<00:00,  6.63it/s, val_loss=0.23]\n"
     ]
    },
    {
     "name": "stdout",
     "output_type": "stream",
     "text": [
      "Epoch 4: Train pAUC: 0.051305 - Val pAUC: 0.047721 | Train Loss: 5.374089 - Val Loss: 14.550865\n",
      "\n"
     ]
    },
    {
     "name": "stderr",
     "output_type": "stream",
     "text": [
      "Epoch 5: 100%|██████████| 221/221 [02:20<00:00,  1.58it/s, train_loss=0.167]\n",
      "Epoch 5: 100%|██████████| 19/19 [00:02<00:00,  7.02it/s, val_loss=0.202]\n"
     ]
    },
    {
     "name": "stdout",
     "output_type": "stream",
     "text": [
      "New best model found: pAUC = 0.081077 (previous best: 0.063419)\n",
      "Epoch 5: Train pAUC: 0.053732 - Val pAUC: 0.081077 | Train Loss: 5.325151 - Val Loss: 12.786001\n",
      "\n"
     ]
    },
    {
     "name": "stderr",
     "output_type": "stream",
     "text": [
      "Epoch 6: 100%|██████████| 221/221 [02:20<00:00,  1.58it/s, train_loss=0.165]\n",
      "Epoch 6: 100%|██████████| 19/19 [00:02<00:00,  6.89it/s, val_loss=0.206]\n"
     ]
    },
    {
     "name": "stdout",
     "output_type": "stream",
     "text": [
      "Epoch 6: Train pAUC: 0.053443 - Val pAUC: 0.068169 | Train Loss: 5.248296 - Val Loss: 13.030990\n",
      "\n"
     ]
    },
    {
     "name": "stderr",
     "output_type": "stream",
     "text": [
      "Epoch 7: 100%|██████████| 221/221 [02:20<00:00,  1.58it/s, train_loss=0.161]\n",
      "Epoch 7: 100%|██████████| 19/19 [00:02<00:00,  7.09it/s, val_loss=0.197]\n"
     ]
    },
    {
     "name": "stdout",
     "output_type": "stream",
     "text": [
      "New best model found: pAUC = 0.083095 (previous best: 0.081077)\n",
      "Epoch 7: Train pAUC: 0.058476 - Val pAUC: 0.083095 | Train Loss: 5.149386 - Val Loss: 12.459916\n",
      "\n"
     ]
    },
    {
     "name": "stderr",
     "output_type": "stream",
     "text": [
      "Epoch 8: 100%|██████████| 221/221 [02:20<00:00,  1.57it/s, train_loss=0.158]\n",
      "Epoch 8: 100%|██████████| 19/19 [00:02<00:00,  6.88it/s, val_loss=0.185]\n"
     ]
    },
    {
     "name": "stdout",
     "output_type": "stream",
     "text": [
      "New best model found: pAUC = 0.093239 (previous best: 0.083095)\n",
      "Epoch 8: Train pAUC: 0.074248 - Val pAUC: 0.093239 | Train Loss: 5.035778 - Val Loss: 11.749378\n",
      "\n"
     ]
    },
    {
     "name": "stderr",
     "output_type": "stream",
     "text": [
      "Epoch 9: 100%|██████████| 221/221 [02:20<00:00,  1.58it/s, train_loss=0.157]\n",
      "Epoch 9: 100%|██████████| 19/19 [00:02<00:00,  6.59it/s, val_loss=0.185]\n"
     ]
    },
    {
     "name": "stdout",
     "output_type": "stream",
     "text": [
      "New best model found: pAUC = 0.095712 (previous best: 0.093239)\n",
      "Epoch 9: Train pAUC: 0.067044 - Val pAUC: 0.095712 | Train Loss: 4.994659 - Val Loss: 11.724879\n",
      "\n"
     ]
    },
    {
     "name": "stderr",
     "output_type": "stream",
     "text": [
      "Epoch 10: 100%|██████████| 221/221 [02:20<00:00,  1.57it/s, train_loss=0.154]\n",
      "Epoch 10: 100%|██████████| 19/19 [00:02<00:00,  7.00it/s, val_loss=0.175]\n"
     ]
    },
    {
     "name": "stdout",
     "output_type": "stream",
     "text": [
      "New best model found: pAUC = 0.101290 (previous best: 0.095712)\n",
      "Epoch 10: Train pAUC: 0.083027 - Val pAUC: 0.101290 | Train Loss: 4.908658 - Val Loss: 11.059274\n",
      "\n"
     ]
    },
    {
     "name": "stderr",
     "output_type": "stream",
     "text": [
      "Epoch 11: 100%|██████████| 221/221 [02:20<00:00,  1.58it/s, train_loss=0.155]\n",
      "Epoch 11: 100%|██████████| 19/19 [00:02<00:00,  6.85it/s, val_loss=0.167]\n"
     ]
    },
    {
     "name": "stdout",
     "output_type": "stream",
     "text": [
      "New best model found: pAUC = 0.124340 (previous best: 0.101290)\n",
      "Epoch 11: Train pAUC: 0.078656 - Val pAUC: 0.124340 | Train Loss: 4.937153 - Val Loss: 10.585096\n",
      "\n"
     ]
    },
    {
     "name": "stderr",
     "output_type": "stream",
     "text": [
      "Epoch 12: 100%|██████████| 221/221 [02:20<00:00,  1.57it/s, train_loss=0.15]\n",
      "Epoch 12: 100%|██████████| 19/19 [00:02<00:00,  6.88it/s, val_loss=0.18]\n"
     ]
    },
    {
     "name": "stdout",
     "output_type": "stream",
     "text": [
      "Epoch 12: Train pAUC: 0.087540 - Val pAUC: 0.113319 | Train Loss: 4.769325 - Val Loss: 11.430464\n",
      "\n"
     ]
    },
    {
     "name": "stderr",
     "output_type": "stream",
     "text": [
      "Epoch 13: 100%|██████████| 221/221 [02:20<00:00,  1.57it/s, train_loss=0.148]\n",
      "Epoch 13: 100%|██████████| 19/19 [00:02<00:00,  6.96it/s, val_loss=0.166]\n"
     ]
    },
    {
     "name": "stdout",
     "output_type": "stream",
     "text": [
      "Epoch 13: Train pAUC: 0.077024 - Val pAUC: 0.120983 | Train Loss: 4.711533 - Val Loss: 10.537013\n",
      "\n"
     ]
    },
    {
     "name": "stderr",
     "output_type": "stream",
     "text": [
      "Epoch 14: 100%|██████████| 221/221 [02:20<00:00,  1.57it/s, train_loss=0.149]\n",
      "Epoch 14: 100%|██████████| 19/19 [00:02<00:00,  6.91it/s, val_loss=0.17]\n"
     ]
    },
    {
     "name": "stdout",
     "output_type": "stream",
     "text": [
      "Epoch 14: Train pAUC: 0.076207 - Val pAUC: 0.104295 | Train Loss: 4.761954 - Val Loss: 10.770327\n",
      "\n"
     ]
    },
    {
     "name": "stderr",
     "output_type": "stream",
     "text": [
      "Epoch 15: 100%|██████████| 221/221 [02:20<00:00,  1.57it/s, train_loss=0.144]\n",
      "Epoch 15: 100%|██████████| 19/19 [00:03<00:00,  6.30it/s, val_loss=0.183]\n"
     ]
    },
    {
     "name": "stdout",
     "output_type": "stream",
     "text": [
      "Epoch 15: Train pAUC: 0.091842 - Val pAUC: 0.103138 | Train Loss: 4.602908 - Val Loss: 11.593798\n",
      "\n"
     ]
    },
    {
     "name": "stderr",
     "output_type": "stream",
     "text": [
      "Epoch 16: 100%|██████████| 221/221 [02:20<00:00,  1.57it/s, train_loss=0.148]\n",
      "Epoch 16: 100%|██████████| 19/19 [00:02<00:00,  6.95it/s, val_loss=0.169]\n"
     ]
    },
    {
     "name": "stdout",
     "output_type": "stream",
     "text": [
      "Epoch 16: Train pAUC: 0.085758 - Val pAUC: 0.122651 | Train Loss: 4.717260 - Val Loss: 10.706506\n",
      "\n"
     ]
    },
    {
     "name": "stderr",
     "output_type": "stream",
     "text": [
      "Epoch 17: 100%|██████████| 221/221 [02:20<00:00,  1.57it/s, train_loss=0.144]\n",
      "Epoch 17: 100%|██████████| 19/19 [00:02<00:00,  6.84it/s, val_loss=0.185]\n"
     ]
    },
    {
     "name": "stdout",
     "output_type": "stream",
     "text": [
      "Epoch 17: Train pAUC: 0.085141 - Val pAUC: 0.106166 | Train Loss: 4.595110 - Val Loss: 11.707917\n",
      "\n"
     ]
    },
    {
     "name": "stderr",
     "output_type": "stream",
     "text": [
      "Epoch 18: 100%|██████████| 221/221 [02:20<00:00,  1.58it/s, train_loss=0.146]\n",
      "Epoch 18: 100%|██████████| 19/19 [00:02<00:00,  7.13it/s, val_loss=0.171]\n"
     ]
    },
    {
     "name": "stdout",
     "output_type": "stream",
     "text": [
      "Epoch 18: Train pAUC: 0.087155 - Val pAUC: 0.111252 | Train Loss: 4.652002 - Val Loss: 10.859264\n",
      "\n"
     ]
    },
    {
     "name": "stderr",
     "output_type": "stream",
     "text": [
      "Epoch 19: 100%|██████████| 221/221 [02:20<00:00,  1.58it/s, train_loss=0.142]\n",
      "Epoch 19: 100%|██████████| 19/19 [00:02<00:00,  7.11it/s, val_loss=0.159]\n"
     ]
    },
    {
     "name": "stdout",
     "output_type": "stream",
     "text": [
      "Epoch 19: Train pAUC: 0.088999 - Val pAUC: 0.118290 | Train Loss: 4.533466 - Val Loss: 10.072039\n",
      "\n"
     ]
    },
    {
     "name": "stderr",
     "output_type": "stream",
     "text": [
      "Epoch 20: 100%|██████████| 221/221 [02:20<00:00,  1.58it/s, train_loss=0.138]\n",
      "Epoch 20: 100%|██████████| 19/19 [00:02<00:00,  7.11it/s, val_loss=0.171]\n"
     ]
    },
    {
     "name": "stdout",
     "output_type": "stream",
     "text": [
      "Epoch 20: Train pAUC: 0.091053 - Val pAUC: 0.117570 | Train Loss: 4.410098 - Val Loss: 10.854693\n",
      "\n"
     ]
    },
    {
     "name": "stderr",
     "output_type": "stream",
     "text": [
      "Epoch 21: 100%|██████████| 221/221 [02:20<00:00,  1.58it/s, train_loss=0.135]\n",
      "Epoch 21: 100%|██████████| 19/19 [00:02<00:00,  7.19it/s, val_loss=0.168]\n"
     ]
    },
    {
     "name": "stdout",
     "output_type": "stream",
     "text": [
      "Early stopping triggered at epoch 21. Best pAUC = 0.124340\n",
      "Epoch 21: Train pAUC: 0.101546 - Val pAUC: 0.110820 | Train Loss: 4.299468 - Val Loss: 10.658952\n",
      "\n"
     ]
    },
    {
     "name": "stderr",
     "output_type": "stream",
     "text": [
      "Prediction: 100%|██████████| 911/911 [01:45<00:00,  8.64it/s]\n"
     ]
    },
    {
     "name": "stdout",
     "output_type": "stream",
     "text": [
      "---------------------------------- Fold 2 ----------------------------------\n",
      "\n",
      "\n",
      "---------------------------------- Fold 3 ----------------------------------\n"
     ]
    },
    {
     "name": "stderr",
     "output_type": "stream",
     "text": [
      "Epoch 1: 100%|██████████| 220/220 [02:19<00:00,  1.58it/s, train_loss=0.232]\n",
      "Epoch 1: 100%|██████████| 20/20 [00:02<00:00,  7.05it/s, val_loss=0.229]\n"
     ]
    },
    {
     "name": "stdout",
     "output_type": "stream",
     "text": [
      "Epoch 1: Train pAUC: 0.029409 - Val pAUC: 0.041816 | Train Loss: 7.394921 - Val Loss: 14.185832\n",
      "\n"
     ]
    },
    {
     "name": "stderr",
     "output_type": "stream",
     "text": [
      "Epoch 2: 100%|██████████| 220/220 [02:19<00:00,  1.58it/s, train_loss=0.18]\n",
      "Epoch 2: 100%|██████████| 20/20 [00:02<00:00,  7.05it/s, val_loss=0.212]\n"
     ]
    },
    {
     "name": "stdout",
     "output_type": "stream",
     "text": [
      "New best model found: pAUC = 0.068558 (previous best: 0.041816)\n",
      "Epoch 2: Train pAUC: 0.028040 - Val pAUC: 0.068558 | Train Loss: 5.753672 - Val Loss: 13.108055\n",
      "\n"
     ]
    },
    {
     "name": "stderr",
     "output_type": "stream",
     "text": [
      "Epoch 3: 100%|██████████| 220/220 [02:19<00:00,  1.57it/s, train_loss=0.177]\n",
      "Epoch 3: 100%|██████████| 20/20 [00:02<00:00,  6.97it/s, val_loss=0.195]\n"
     ]
    },
    {
     "name": "stdout",
     "output_type": "stream",
     "text": [
      "New best model found: pAUC = 0.101136 (previous best: 0.068558)\n",
      "Epoch 3: Train pAUC: 0.033748 - Val pAUC: 0.101136 | Train Loss: 5.629716 - Val Loss: 12.086517\n",
      "\n"
     ]
    },
    {
     "name": "stderr",
     "output_type": "stream",
     "text": [
      "Epoch 4: 100%|██████████| 220/220 [02:19<00:00,  1.58it/s, train_loss=0.168]\n",
      "Epoch 4: 100%|██████████| 20/20 [00:02<00:00,  6.88it/s, val_loss=0.199]\n"
     ]
    },
    {
     "name": "stdout",
     "output_type": "stream",
     "text": [
      "Epoch 4: Train pAUC: 0.044445 - Val pAUC: 0.081707 | Train Loss: 5.348328 - Val Loss: 12.352205\n",
      "\n"
     ]
    },
    {
     "name": "stderr",
     "output_type": "stream",
     "text": [
      "Epoch 5: 100%|██████████| 220/220 [02:19<00:00,  1.58it/s, train_loss=0.162]\n",
      "Epoch 5: 100%|██████████| 20/20 [00:02<00:00,  7.08it/s, val_loss=0.188]\n"
     ]
    },
    {
     "name": "stdout",
     "output_type": "stream",
     "text": [
      "New best model found: pAUC = 0.110504 (previous best: 0.101136)\n",
      "Epoch 5: Train pAUC: 0.062994 - Val pAUC: 0.110504 | Train Loss: 5.163648 - Val Loss: 11.633099\n",
      "\n"
     ]
    },
    {
     "name": "stderr",
     "output_type": "stream",
     "text": [
      "Epoch 6: 100%|██████████| 220/220 [02:19<00:00,  1.58it/s, train_loss=0.165]\n",
      "Epoch 6: 100%|██████████| 20/20 [00:02<00:00,  7.16it/s, val_loss=0.173]\n"
     ]
    },
    {
     "name": "stdout",
     "output_type": "stream",
     "text": [
      "New best model found: pAUC = 0.114166 (previous best: 0.110504)\n",
      "Epoch 6: Train pAUC: 0.051427 - Val pAUC: 0.114166 | Train Loss: 5.260693 - Val Loss: 10.713706\n",
      "\n"
     ]
    },
    {
     "name": "stderr",
     "output_type": "stream",
     "text": [
      "Epoch 7: 100%|██████████| 220/220 [02:19<00:00,  1.58it/s, train_loss=0.159]\n",
      "Epoch 7: 100%|██████████| 20/20 [00:02<00:00,  7.10it/s, val_loss=0.161]\n"
     ]
    },
    {
     "name": "stdout",
     "output_type": "stream",
     "text": [
      "New best model found: pAUC = 0.115725 (previous best: 0.114166)\n",
      "Epoch 7: Train pAUC: 0.061848 - Val pAUC: 0.115725 | Train Loss: 5.055814 - Val Loss: 9.995050\n",
      "\n"
     ]
    },
    {
     "name": "stderr",
     "output_type": "stream",
     "text": [
      "Epoch 8: 100%|██████████| 220/220 [02:19<00:00,  1.58it/s, train_loss=0.157]\n",
      "Epoch 8: 100%|██████████| 20/20 [00:02<00:00,  7.21it/s, val_loss=0.179]\n"
     ]
    },
    {
     "name": "stdout",
     "output_type": "stream",
     "text": [
      "New best model found: pAUC = 0.120482 (previous best: 0.115725)\n",
      "Epoch 8: Train pAUC: 0.067373 - Val pAUC: 0.120482 | Train Loss: 4.998270 - Val Loss: 11.091637\n",
      "\n"
     ]
    },
    {
     "name": "stderr",
     "output_type": "stream",
     "text": [
      "Epoch 9: 100%|██████████| 220/220 [02:19<00:00,  1.58it/s, train_loss=0.151]\n",
      "Epoch 9: 100%|██████████| 20/20 [00:02<00:00,  7.18it/s, val_loss=0.169]\n"
     ]
    },
    {
     "name": "stdout",
     "output_type": "stream",
     "text": [
      "New best model found: pAUC = 0.129324 (previous best: 0.120482)\n",
      "Epoch 9: Train pAUC: 0.073320 - Val pAUC: 0.129324 | Train Loss: 4.808618 - Val Loss: 10.468976\n",
      "\n"
     ]
    },
    {
     "name": "stderr",
     "output_type": "stream",
     "text": [
      "Epoch 10: 100%|██████████| 220/220 [02:19<00:00,  1.58it/s, train_loss=0.154]\n",
      "Epoch 10: 100%|██████████| 20/20 [00:02<00:00,  6.83it/s, val_loss=0.158]\n"
     ]
    },
    {
     "name": "stdout",
     "output_type": "stream",
     "text": [
      "Epoch 10: Train pAUC: 0.065746 - Val pAUC: 0.125307 | Train Loss: 4.905763 - Val Loss: 9.777875\n",
      "\n"
     ]
    },
    {
     "name": "stderr",
     "output_type": "stream",
     "text": [
      "Epoch 11: 100%|██████████| 220/220 [02:19<00:00,  1.58it/s, train_loss=0.149]\n",
      "Epoch 11: 100%|██████████| 20/20 [00:02<00:00,  6.85it/s, val_loss=0.156]\n"
     ]
    },
    {
     "name": "stdout",
     "output_type": "stream",
     "text": [
      "Epoch 11: Train pAUC: 0.078585 - Val pAUC: 0.122302 | Train Loss: 4.749630 - Val Loss: 9.679641\n",
      "\n"
     ]
    },
    {
     "name": "stderr",
     "output_type": "stream",
     "text": [
      "Epoch 12: 100%|██████████| 220/220 [02:19<00:00,  1.58it/s, train_loss=0.151]\n",
      "Epoch 12: 100%|██████████| 20/20 [00:02<00:00,  7.16it/s, val_loss=0.167]\n"
     ]
    },
    {
     "name": "stdout",
     "output_type": "stream",
     "text": [
      "Epoch 12: Train pAUC: 0.073248 - Val pAUC: 0.103990 | Train Loss: 4.813831 - Val Loss: 10.326124\n",
      "\n"
     ]
    },
    {
     "name": "stderr",
     "output_type": "stream",
     "text": [
      "Epoch 13: 100%|██████████| 220/220 [02:19<00:00,  1.58it/s, train_loss=0.149]\n",
      "Epoch 13: 100%|██████████| 20/20 [00:02<00:00,  7.23it/s, val_loss=0.16]\n"
     ]
    },
    {
     "name": "stdout",
     "output_type": "stream",
     "text": [
      "Epoch 13: Train pAUC: 0.073377 - Val pAUC: 0.103737 | Train Loss: 4.746966 - Val Loss: 9.915254\n",
      "\n"
     ]
    },
    {
     "name": "stderr",
     "output_type": "stream",
     "text": [
      "Epoch 14: 100%|██████████| 220/220 [02:19<00:00,  1.58it/s, train_loss=0.149]\n",
      "Epoch 14: 100%|██████████| 20/20 [00:02<00:00,  7.18it/s, val_loss=0.159]\n"
     ]
    },
    {
     "name": "stdout",
     "output_type": "stream",
     "text": [
      "Epoch 14: Train pAUC: 0.074990 - Val pAUC: 0.122512 | Train Loss: 4.738626 - Val Loss: 9.834576\n",
      "\n"
     ]
    },
    {
     "name": "stderr",
     "output_type": "stream",
     "text": [
      "Epoch 15: 100%|██████████| 220/220 [02:19<00:00,  1.58it/s, train_loss=0.15]\n",
      "Epoch 15: 100%|██████████| 20/20 [00:02<00:00,  7.25it/s, val_loss=0.156]\n"
     ]
    },
    {
     "name": "stdout",
     "output_type": "stream",
     "text": [
      "New best model found: pAUC = 0.131600 (previous best: 0.129324)\n",
      "Epoch 15: Train pAUC: 0.074721 - Val pAUC: 0.131600 | Train Loss: 4.791155 - Val Loss: 9.668929\n",
      "\n"
     ]
    },
    {
     "name": "stderr",
     "output_type": "stream",
     "text": [
      "Epoch 16: 100%|██████████| 220/220 [02:19<00:00,  1.58it/s, train_loss=0.145]\n",
      "Epoch 16: 100%|██████████| 20/20 [00:02<00:00,  6.99it/s, val_loss=0.162]\n"
     ]
    },
    {
     "name": "stdout",
     "output_type": "stream",
     "text": [
      "Epoch 16: Train pAUC: 0.085113 - Val pAUC: 0.096092 | Train Loss: 4.622512 - Val Loss: 10.038655\n",
      "\n"
     ]
    },
    {
     "name": "stderr",
     "output_type": "stream",
     "text": [
      "Epoch 17: 100%|██████████| 220/220 [02:19<00:00,  1.58it/s, train_loss=0.144]\n",
      "Epoch 17: 100%|██████████| 20/20 [00:02<00:00,  7.18it/s, val_loss=0.165]\n"
     ]
    },
    {
     "name": "stdout",
     "output_type": "stream",
     "text": [
      "Epoch 17: Train pAUC: 0.093027 - Val pAUC: 0.104519 | Train Loss: 4.586654 - Val Loss: 10.221073\n",
      "\n"
     ]
    },
    {
     "name": "stderr",
     "output_type": "stream",
     "text": [
      "Epoch 18: 100%|██████████| 220/220 [02:19<00:00,  1.58it/s, train_loss=0.144]\n",
      "Epoch 18: 100%|██████████| 20/20 [00:02<00:00,  7.15it/s, val_loss=0.152]\n"
     ]
    },
    {
     "name": "stdout",
     "output_type": "stream",
     "text": [
      "Epoch 18: Train pAUC: 0.081710 - Val pAUC: 0.118900 | Train Loss: 4.591570 - Val Loss: 9.400376\n",
      "\n"
     ]
    },
    {
     "name": "stderr",
     "output_type": "stream",
     "text": [
      "Epoch 19: 100%|██████████| 220/220 [02:19<00:00,  1.58it/s, train_loss=0.137]\n",
      "Epoch 19: 100%|██████████| 20/20 [00:02<00:00,  7.26it/s, val_loss=0.152]\n"
     ]
    },
    {
     "name": "stdout",
     "output_type": "stream",
     "text": [
      "New best model found: pAUC = 0.136868 (previous best: 0.131600)\n",
      "Epoch 19: Train pAUC: 0.083751 - Val pAUC: 0.136868 | Train Loss: 4.373738 - Val Loss: 9.421908\n",
      "\n"
     ]
    },
    {
     "name": "stderr",
     "output_type": "stream",
     "text": [
      "Epoch 20: 100%|██████████| 220/220 [02:19<00:00,  1.58it/s, train_loss=0.145]\n",
      "Epoch 20: 100%|██████████| 20/20 [00:02<00:00,  7.29it/s, val_loss=0.147]\n"
     ]
    },
    {
     "name": "stdout",
     "output_type": "stream",
     "text": [
      "New best model found: pAUC = 0.142834 (previous best: 0.136868)\n",
      "Epoch 20: Train pAUC: 0.084251 - Val pAUC: 0.142834 | Train Loss: 4.615520 - Val Loss: 9.091933\n",
      "\n"
     ]
    },
    {
     "name": "stderr",
     "output_type": "stream",
     "text": [
      "Epoch 21: 100%|██████████| 220/220 [02:19<00:00,  1.58it/s, train_loss=0.144]\n",
      "Epoch 21: 100%|██████████| 20/20 [00:02<00:00,  7.22it/s, val_loss=0.153]\n"
     ]
    },
    {
     "name": "stdout",
     "output_type": "stream",
     "text": [
      "Epoch 21: Train pAUC: 0.085015 - Val pAUC: 0.126195 | Train Loss: 4.580079 - Val Loss: 9.486292\n",
      "\n"
     ]
    },
    {
     "name": "stderr",
     "output_type": "stream",
     "text": [
      "Epoch 22: 100%|██████████| 220/220 [02:19<00:00,  1.58it/s, train_loss=0.145]\n",
      "Epoch 22: 100%|██████████| 20/20 [00:02<00:00,  7.15it/s, val_loss=0.147]\n"
     ]
    },
    {
     "name": "stdout",
     "output_type": "stream",
     "text": [
      "Epoch 22: Train pAUC: 0.086286 - Val pAUC: 0.136230 | Train Loss: 4.607390 - Val Loss: 9.136487\n",
      "\n"
     ]
    },
    {
     "name": "stderr",
     "output_type": "stream",
     "text": [
      "Epoch 23: 100%|██████████| 220/220 [02:19<00:00,  1.58it/s, train_loss=0.143]\n",
      "Epoch 23: 100%|██████████| 20/20 [00:02<00:00,  7.32it/s, val_loss=0.146]\n"
     ]
    },
    {
     "name": "stdout",
     "output_type": "stream",
     "text": [
      "Epoch 23: Train pAUC: 0.087987 - Val pAUC: 0.141693 | Train Loss: 4.560092 - Val Loss: 9.043469\n",
      "\n"
     ]
    },
    {
     "name": "stderr",
     "output_type": "stream",
     "text": [
      "Epoch 24: 100%|██████████| 220/220 [02:19<00:00,  1.58it/s, train_loss=0.136]\n",
      "Epoch 24: 100%|██████████| 20/20 [00:02<00:00,  7.32it/s, val_loss=0.156]\n"
     ]
    },
    {
     "name": "stdout",
     "output_type": "stream",
     "text": [
      "Epoch 24: Train pAUC: 0.095108 - Val pAUC: 0.129639 | Train Loss: 4.332776 - Val Loss: 9.649751\n",
      "\n"
     ]
    },
    {
     "name": "stderr",
     "output_type": "stream",
     "text": [
      "Epoch 25: 100%|██████████| 220/220 [02:19<00:00,  1.58it/s, train_loss=0.138]\n",
      "Epoch 25: 100%|██████████| 20/20 [00:02<00:00,  7.24it/s, val_loss=0.15]\n"
     ]
    },
    {
     "name": "stdout",
     "output_type": "stream",
     "text": [
      "Epoch 25: Train pAUC: 0.096030 - Val pAUC: 0.128203 | Train Loss: 4.407093 - Val Loss: 9.289610\n",
      "\n"
     ]
    },
    {
     "name": "stderr",
     "output_type": "stream",
     "text": [
      "Epoch 26: 100%|██████████| 220/220 [02:19<00:00,  1.58it/s, train_loss=0.137]\n",
      "Epoch 26: 100%|██████████| 20/20 [00:02<00:00,  7.13it/s, val_loss=0.146]\n"
     ]
    },
    {
     "name": "stdout",
     "output_type": "stream",
     "text": [
      "Epoch 26: Train pAUC: 0.082305 - Val pAUC: 0.140755 | Train Loss: 4.357714 - Val Loss: 9.063117\n",
      "\n"
     ]
    },
    {
     "name": "stderr",
     "output_type": "stream",
     "text": [
      "Epoch 27: 100%|██████████| 220/220 [02:19<00:00,  1.58it/s, train_loss=0.137]\n",
      "Epoch 27: 100%|██████████| 20/20 [00:02<00:00,  7.25it/s, val_loss=0.148]\n"
     ]
    },
    {
     "name": "stdout",
     "output_type": "stream",
     "text": [
      "Epoch 27: Train pAUC: 0.092703 - Val pAUC: 0.130273 | Train Loss: 4.367750 - Val Loss: 9.190443\n",
      "\n"
     ]
    },
    {
     "name": "stderr",
     "output_type": "stream",
     "text": [
      "Epoch 28: 100%|██████████| 220/220 [02:19<00:00,  1.58it/s, train_loss=0.139]\n",
      "Epoch 28: 100%|██████████| 20/20 [00:02<00:00,  7.29it/s, val_loss=0.136]\n"
     ]
    },
    {
     "name": "stdout",
     "output_type": "stream",
     "text": [
      "New best model found: pAUC = 0.145016 (previous best: 0.142834)\n",
      "Epoch 28: Train pAUC: 0.088509 - Val pAUC: 0.145016 | Train Loss: 4.429295 - Val Loss: 8.441939\n",
      "\n"
     ]
    },
    {
     "name": "stderr",
     "output_type": "stream",
     "text": [
      "Epoch 29: 100%|██████████| 220/220 [02:19<00:00,  1.58it/s, train_loss=0.141]\n",
      "Epoch 29: 100%|██████████| 20/20 [00:02<00:00,  7.25it/s, val_loss=0.142]\n"
     ]
    },
    {
     "name": "stdout",
     "output_type": "stream",
     "text": [
      "Epoch 29: Train pAUC: 0.088781 - Val pAUC: 0.130123 | Train Loss: 4.507686 - Val Loss: 8.775696\n",
      "\n"
     ]
    },
    {
     "name": "stderr",
     "output_type": "stream",
     "text": [
      "Epoch 30: 100%|██████████| 220/220 [02:19<00:00,  1.58it/s, train_loss=0.138]\n",
      "Epoch 30: 100%|██████████| 20/20 [00:02<00:00,  7.24it/s, val_loss=0.149]\n"
     ]
    },
    {
     "name": "stdout",
     "output_type": "stream",
     "text": [
      "Epoch 30: Train pAUC: 0.096069 - Val pAUC: 0.135986 | Train Loss: 4.387355 - Val Loss: 9.214947\n",
      "\n"
     ]
    },
    {
     "name": "stderr",
     "output_type": "stream",
     "text": [
      "Epoch 31: 100%|██████████| 220/220 [02:19<00:00,  1.58it/s, train_loss=0.131]\n",
      "Epoch 31: 100%|██████████| 20/20 [00:02<00:00,  7.19it/s, val_loss=0.154]\n"
     ]
    },
    {
     "name": "stdout",
     "output_type": "stream",
     "text": [
      "Epoch 31: Train pAUC: 0.107551 - Val pAUC: 0.139278 | Train Loss: 4.166019 - Val Loss: 9.566883\n",
      "\n"
     ]
    },
    {
     "name": "stderr",
     "output_type": "stream",
     "text": [
      "Epoch 32: 100%|██████████| 220/220 [02:19<00:00,  1.58it/s, train_loss=0.138]\n",
      "Epoch 32: 100%|██████████| 20/20 [00:02<00:00,  7.30it/s, val_loss=0.16]\n"
     ]
    },
    {
     "name": "stdout",
     "output_type": "stream",
     "text": [
      "Epoch 32: Train pAUC: 0.099153 - Val pAUC: 0.128261 | Train Loss: 4.404662 - Val Loss: 9.895731\n",
      "\n"
     ]
    },
    {
     "name": "stderr",
     "output_type": "stream",
     "text": [
      "Epoch 33: 100%|██████████| 220/220 [02:19<00:00,  1.58it/s, train_loss=0.137]\n",
      "Epoch 33: 100%|██████████| 20/20 [00:02<00:00,  7.23it/s, val_loss=0.164]\n"
     ]
    },
    {
     "name": "stdout",
     "output_type": "stream",
     "text": [
      "Epoch 33: Train pAUC: 0.099602 - Val pAUC: 0.121541 | Train Loss: 4.378831 - Val Loss: 10.182795\n",
      "\n"
     ]
    },
    {
     "name": "stderr",
     "output_type": "stream",
     "text": [
      "Epoch 34: 100%|██████████| 220/220 [02:19<00:00,  1.58it/s, train_loss=0.135]\n",
      "Epoch 34: 100%|██████████| 20/20 [00:02<00:00,  7.30it/s, val_loss=0.155]\n"
     ]
    },
    {
     "name": "stdout",
     "output_type": "stream",
     "text": [
      "Epoch 34: Train pAUC: 0.091987 - Val pAUC: 0.125253 | Train Loss: 4.306585 - Val Loss: 9.576023\n",
      "\n"
     ]
    },
    {
     "name": "stderr",
     "output_type": "stream",
     "text": [
      "Epoch 35: 100%|██████████| 220/220 [02:19<00:00,  1.58it/s, train_loss=0.135]\n",
      "Epoch 35: 100%|██████████| 20/20 [00:02<00:00,  7.15it/s, val_loss=0.148]\n"
     ]
    },
    {
     "name": "stdout",
     "output_type": "stream",
     "text": [
      "Epoch 35: Train pAUC: 0.107410 - Val pAUC: 0.138262 | Train Loss: 4.303228 - Val Loss: 9.149277\n",
      "\n"
     ]
    },
    {
     "name": "stderr",
     "output_type": "stream",
     "text": [
      "Epoch 36: 100%|██████████| 220/220 [02:19<00:00,  1.58it/s, train_loss=0.136]\n",
      "Epoch 36: 100%|██████████| 20/20 [00:02<00:00,  7.15it/s, val_loss=0.152]\n"
     ]
    },
    {
     "name": "stdout",
     "output_type": "stream",
     "text": [
      "Epoch 36: Train pAUC: 0.098403 - Val pAUC: 0.129481 | Train Loss: 4.334343 - Val Loss: 9.416220\n",
      "\n"
     ]
    },
    {
     "name": "stderr",
     "output_type": "stream",
     "text": [
      "Epoch 37: 100%|██████████| 220/220 [02:19<00:00,  1.58it/s, train_loss=0.133]\n",
      "Epoch 37: 100%|██████████| 20/20 [00:02<00:00,  6.97it/s, val_loss=0.151]\n"
     ]
    },
    {
     "name": "stdout",
     "output_type": "stream",
     "text": [
      "Epoch 37: Train pAUC: 0.101536 - Val pAUC: 0.129616 | Train Loss: 4.249869 - Val Loss: 9.383631\n",
      "\n"
     ]
    },
    {
     "name": "stderr",
     "output_type": "stream",
     "text": [
      "Epoch 38: 100%|██████████| 220/220 [02:19<00:00,  1.58it/s, train_loss=0.132]\n",
      "Epoch 38: 100%|██████████| 20/20 [00:02<00:00,  7.15it/s, val_loss=0.147]\n"
     ]
    },
    {
     "name": "stdout",
     "output_type": "stream",
     "text": [
      "Early stopping triggered at epoch 38. Best pAUC = 0.145016\n",
      "Epoch 38: Train pAUC: 0.106661 - Val pAUC: 0.132789 | Train Loss: 4.213336 - Val Loss: 9.104929\n",
      "\n"
     ]
    },
    {
     "name": "stderr",
     "output_type": "stream",
     "text": [
      "Prediction: 100%|██████████| 1229/1229 [02:22<00:00,  8.60it/s]\n"
     ]
    },
    {
     "name": "stdout",
     "output_type": "stream",
     "text": [
      "---------------------------------- Fold 3 ----------------------------------\n",
      "\n",
      "\n",
      "---------------------------------- Fold 4 ----------------------------------\n"
     ]
    },
    {
     "name": "stderr",
     "output_type": "stream",
     "text": [
      "Epoch 1: 100%|██████████| 211/211 [02:14<00:00,  1.57it/s, train_loss=0.251]\n",
      "Epoch 1: 100%|██████████| 24/24 [00:03<00:00,  7.17it/s, val_loss=0.139]\n"
     ]
    },
    {
     "name": "stdout",
     "output_type": "stream",
     "text": [
      "Epoch 1: Train pAUC: 0.022829 - Val pAUC: 0.047024 | Train Loss: 8.020723 - Val Loss: 8.756321\n",
      "\n"
     ]
    },
    {
     "name": "stderr",
     "output_type": "stream",
     "text": [
      "Epoch 2: 100%|██████████| 211/211 [02:14<00:00,  1.57it/s, train_loss=0.203]\n",
      "Epoch 2: 100%|██████████| 24/24 [00:03<00:00,  7.30it/s, val_loss=0.138]\n"
     ]
    },
    {
     "name": "stdout",
     "output_type": "stream",
     "text": [
      "New best model found: pAUC = 0.069245 (previous best: 0.047024)\n",
      "Epoch 2: Train pAUC: 0.032058 - Val pAUC: 0.069245 | Train Loss: 6.483576 - Val Loss: 8.676466\n",
      "\n"
     ]
    },
    {
     "name": "stderr",
     "output_type": "stream",
     "text": [
      "Epoch 3: 100%|██████████| 211/211 [02:14<00:00,  1.57it/s, train_loss=0.197]\n",
      "Epoch 3: 100%|██████████| 24/24 [00:03<00:00,  7.29it/s, val_loss=0.122]\n"
     ]
    },
    {
     "name": "stdout",
     "output_type": "stream",
     "text": [
      "Epoch 3: Train pAUC: 0.038238 - Val pAUC: 0.067401 | Train Loss: 6.285975 - Val Loss: 7.675302\n",
      "\n"
     ]
    },
    {
     "name": "stderr",
     "output_type": "stream",
     "text": [
      "Epoch 4: 100%|██████████| 211/211 [02:14<00:00,  1.57it/s, train_loss=0.184]\n",
      "Epoch 4: 100%|██████████| 24/24 [00:03<00:00,  7.26it/s, val_loss=0.114]\n"
     ]
    },
    {
     "name": "stdout",
     "output_type": "stream",
     "text": [
      "Epoch 4: Train pAUC: 0.053271 - Val pAUC: 0.049926 | Train Loss: 5.892114 - Val Loss: 7.169883\n",
      "\n"
     ]
    },
    {
     "name": "stderr",
     "output_type": "stream",
     "text": [
      "Epoch 5: 100%|██████████| 211/211 [02:14<00:00,  1.57it/s, train_loss=0.181]\n",
      "Epoch 5: 100%|██████████| 24/24 [00:03<00:00,  6.91it/s, val_loss=0.113]\n"
     ]
    },
    {
     "name": "stdout",
     "output_type": "stream",
     "text": [
      "New best model found: pAUC = 0.070625 (previous best: 0.069245)\n",
      "Epoch 5: Train pAUC: 0.060081 - Val pAUC: 0.070625 | Train Loss: 5.789774 - Val Loss: 7.154043\n",
      "\n"
     ]
    },
    {
     "name": "stderr",
     "output_type": "stream",
     "text": [
      "Epoch 6: 100%|██████████| 211/211 [02:14<00:00,  1.57it/s, train_loss=0.177]\n",
      "Epoch 6: 100%|██████████| 24/24 [00:03<00:00,  7.08it/s, val_loss=0.11]\n"
     ]
    },
    {
     "name": "stdout",
     "output_type": "stream",
     "text": [
      "Epoch 6: Train pAUC: 0.064611 - Val pAUC: 0.060022 | Train Loss: 5.644866 - Val Loss: 6.911747\n",
      "\n"
     ]
    },
    {
     "name": "stderr",
     "output_type": "stream",
     "text": [
      "Epoch 7: 100%|██████████| 211/211 [02:14<00:00,  1.57it/s, train_loss=0.174]\n",
      "Epoch 7: 100%|██████████| 24/24 [00:03<00:00,  7.31it/s, val_loss=0.131]\n"
     ]
    },
    {
     "name": "stdout",
     "output_type": "stream",
     "text": [
      "Epoch 7: Train pAUC: 0.072873 - Val pAUC: 0.053903 | Train Loss: 5.559192 - Val Loss: 8.243551\n",
      "\n"
     ]
    },
    {
     "name": "stderr",
     "output_type": "stream",
     "text": [
      "Epoch 8: 100%|██████████| 211/211 [02:14<00:00,  1.57it/s, train_loss=0.172]\n",
      "Epoch 8: 100%|██████████| 24/24 [00:03<00:00,  7.30it/s, val_loss=0.155]\n"
     ]
    },
    {
     "name": "stdout",
     "output_type": "stream",
     "text": [
      "New best model found: pAUC = 0.082699 (previous best: 0.070625)\n",
      "Epoch 8: Train pAUC: 0.075598 - Val pAUC: 0.082699 | Train Loss: 5.485623 - Val Loss: 9.788376\n",
      "\n"
     ]
    },
    {
     "name": "stderr",
     "output_type": "stream",
     "text": [
      "Epoch 9: 100%|██████████| 211/211 [02:14<00:00,  1.57it/s, train_loss=0.173]\n",
      "Epoch 9: 100%|██████████| 24/24 [00:03<00:00,  7.32it/s, val_loss=0.12]\n"
     ]
    },
    {
     "name": "stdout",
     "output_type": "stream",
     "text": [
      "New best model found: pAUC = 0.091397 (previous best: 0.082699)\n",
      "Epoch 9: Train pAUC: 0.064335 - Val pAUC: 0.091397 | Train Loss: 5.529663 - Val Loss: 7.588056\n",
      "\n"
     ]
    },
    {
     "name": "stderr",
     "output_type": "stream",
     "text": [
      "Epoch 10: 100%|██████████| 211/211 [02:14<00:00,  1.57it/s, train_loss=0.165]\n",
      "Epoch 10: 100%|██████████| 24/24 [00:03<00:00,  7.36it/s, val_loss=0.121]\n"
     ]
    },
    {
     "name": "stdout",
     "output_type": "stream",
     "text": [
      "Epoch 10: Train pAUC: 0.086795 - Val pAUC: 0.077431 | Train Loss: 5.274844 - Val Loss: 7.614512\n",
      "\n"
     ]
    },
    {
     "name": "stderr",
     "output_type": "stream",
     "text": [
      "Epoch 11: 100%|██████████| 211/211 [02:14<00:00,  1.57it/s, train_loss=0.163]\n",
      "Epoch 11: 100%|██████████| 24/24 [00:03<00:00,  7.30it/s, val_loss=0.117]\n"
     ]
    },
    {
     "name": "stdout",
     "output_type": "stream",
     "text": [
      "New best model found: pAUC = 0.108581 (previous best: 0.091397)\n",
      "Epoch 11: Train pAUC: 0.080091 - Val pAUC: 0.108581 | Train Loss: 5.195438 - Val Loss: 7.355098\n",
      "\n"
     ]
    },
    {
     "name": "stderr",
     "output_type": "stream",
     "text": [
      "Epoch 12: 100%|██████████| 211/211 [02:14<00:00,  1.57it/s, train_loss=0.164]\n",
      "Epoch 12: 100%|██████████| 24/24 [00:03<00:00,  7.42it/s, val_loss=0.125]\n"
     ]
    },
    {
     "name": "stdout",
     "output_type": "stream",
     "text": [
      "New best model found: pAUC = 0.113893 (previous best: 0.108581)\n",
      "Epoch 12: Train pAUC: 0.074097 - Val pAUC: 0.113893 | Train Loss: 5.250847 - Val Loss: 7.897962\n",
      "\n"
     ]
    },
    {
     "name": "stderr",
     "output_type": "stream",
     "text": [
      "Epoch 13: 100%|██████████| 211/211 [02:14<00:00,  1.57it/s, train_loss=0.163]\n",
      "Epoch 13: 100%|██████████| 24/24 [00:03<00:00,  7.23it/s, val_loss=0.13]\n"
     ]
    },
    {
     "name": "stdout",
     "output_type": "stream",
     "text": [
      "Epoch 13: Train pAUC: 0.082805 - Val pAUC: 0.102892 | Train Loss: 5.221977 - Val Loss: 8.203303\n",
      "\n"
     ]
    },
    {
     "name": "stderr",
     "output_type": "stream",
     "text": [
      "Epoch 14: 100%|██████████| 211/211 [02:14<00:00,  1.57it/s, train_loss=0.16]\n",
      "Epoch 14: 100%|██████████| 24/24 [00:03<00:00,  7.40it/s, val_loss=0.11]\n"
     ]
    },
    {
     "name": "stdout",
     "output_type": "stream",
     "text": [
      "New best model found: pAUC = 0.136197 (previous best: 0.113893)\n",
      "Epoch 14: Train pAUC: 0.080377 - Val pAUC: 0.136197 | Train Loss: 5.107475 - Val Loss: 6.947047\n",
      "\n"
     ]
    },
    {
     "name": "stderr",
     "output_type": "stream",
     "text": [
      "Epoch 15: 100%|██████████| 211/211 [02:14<00:00,  1.57it/s, train_loss=0.161]\n",
      "Epoch 15: 100%|██████████| 24/24 [00:03<00:00,  7.30it/s, val_loss=0.102]\n"
     ]
    },
    {
     "name": "stdout",
     "output_type": "stream",
     "text": [
      "Epoch 15: Train pAUC: 0.080519 - Val pAUC: 0.121085 | Train Loss: 5.127361 - Val Loss: 6.435502\n",
      "\n"
     ]
    },
    {
     "name": "stderr",
     "output_type": "stream",
     "text": [
      "Epoch 16: 100%|██████████| 211/211 [02:14<00:00,  1.57it/s, train_loss=0.156]\n",
      "Epoch 16: 100%|██████████| 24/24 [00:03<00:00,  7.25it/s, val_loss=0.103]\n"
     ]
    },
    {
     "name": "stdout",
     "output_type": "stream",
     "text": [
      "Epoch 16: Train pAUC: 0.085555 - Val pAUC: 0.112789 | Train Loss: 4.996951 - Val Loss: 6.520702\n",
      "\n"
     ]
    },
    {
     "name": "stderr",
     "output_type": "stream",
     "text": [
      "Epoch 17: 100%|██████████| 211/211 [02:14<00:00,  1.57it/s, train_loss=0.158]\n",
      "Epoch 17: 100%|██████████| 24/24 [00:03<00:00,  7.18it/s, val_loss=0.136]\n"
     ]
    },
    {
     "name": "stdout",
     "output_type": "stream",
     "text": [
      "Epoch 17: Train pAUC: 0.088926 - Val pAUC: 0.123471 | Train Loss: 5.034078 - Val Loss: 8.546393\n",
      "\n"
     ]
    },
    {
     "name": "stderr",
     "output_type": "stream",
     "text": [
      "Epoch 18: 100%|██████████| 211/211 [02:14<00:00,  1.57it/s, train_loss=0.156]\n",
      "Epoch 18: 100%|██████████| 24/24 [00:03<00:00,  7.22it/s, val_loss=0.1]\n"
     ]
    },
    {
     "name": "stdout",
     "output_type": "stream",
     "text": [
      "Epoch 18: Train pAUC: 0.091741 - Val pAUC: 0.105069 | Train Loss: 4.970464 - Val Loss: 6.313191\n",
      "\n"
     ]
    },
    {
     "name": "stderr",
     "output_type": "stream",
     "text": [
      "Epoch 19: 100%|██████████| 211/211 [02:14<00:00,  1.57it/s, train_loss=0.155]\n",
      "Epoch 19: 100%|██████████| 24/24 [00:03<00:00,  6.80it/s, val_loss=0.138]\n"
     ]
    },
    {
     "name": "stdout",
     "output_type": "stream",
     "text": [
      "Epoch 19: Train pAUC: 0.091410 - Val pAUC: 0.122538 | Train Loss: 4.948507 - Val Loss: 8.708593\n",
      "\n"
     ]
    },
    {
     "name": "stderr",
     "output_type": "stream",
     "text": [
      "Epoch 20: 100%|██████████| 211/211 [02:14<00:00,  1.57it/s, train_loss=0.152]\n",
      "Epoch 20: 100%|██████████| 24/24 [00:03<00:00,  7.40it/s, val_loss=0.124]\n"
     ]
    },
    {
     "name": "stdout",
     "output_type": "stream",
     "text": [
      "Epoch 20: Train pAUC: 0.099427 - Val pAUC: 0.109480 | Train Loss: 4.858552 - Val Loss: 7.840506\n",
      "\n"
     ]
    },
    {
     "name": "stderr",
     "output_type": "stream",
     "text": [
      "Epoch 21: 100%|██████████| 211/211 [02:14<00:00,  1.57it/s, train_loss=0.157]\n",
      "Epoch 21: 100%|██████████| 24/24 [00:03<00:00,  7.31it/s, val_loss=0.103]\n"
     ]
    },
    {
     "name": "stdout",
     "output_type": "stream",
     "text": [
      "Epoch 21: Train pAUC: 0.092590 - Val pAUC: 0.117602 | Train Loss: 5.022265 - Val Loss: 6.489758\n",
      "\n"
     ]
    },
    {
     "name": "stderr",
     "output_type": "stream",
     "text": [
      "Epoch 22: 100%|██████████| 211/211 [02:14<00:00,  1.57it/s, train_loss=0.155]\n",
      "Epoch 22: 100%|██████████| 24/24 [00:03<00:00,  7.20it/s, val_loss=0.101]\n"
     ]
    },
    {
     "name": "stdout",
     "output_type": "stream",
     "text": [
      "Epoch 22: Train pAUC: 0.090322 - Val pAUC: 0.124246 | Train Loss: 4.938138 - Val Loss: 6.371856\n",
      "\n"
     ]
    },
    {
     "name": "stderr",
     "output_type": "stream",
     "text": [
      "Epoch 23: 100%|██████████| 211/211 [02:14<00:00,  1.57it/s, train_loss=0.151]\n",
      "Epoch 23: 100%|██████████| 24/24 [00:03<00:00,  7.30it/s, val_loss=0.11]\n"
     ]
    },
    {
     "name": "stdout",
     "output_type": "stream",
     "text": [
      "New best model found: pAUC = 0.139627 (previous best: 0.136197)\n",
      "Epoch 23: Train pAUC: 0.088917 - Val pAUC: 0.139627 | Train Loss: 4.811321 - Val Loss: 6.945124\n",
      "\n"
     ]
    },
    {
     "name": "stderr",
     "output_type": "stream",
     "text": [
      "Epoch 24: 100%|██████████| 211/211 [02:14<00:00,  1.57it/s, train_loss=0.153]\n",
      "Epoch 24: 100%|██████████| 24/24 [00:03<00:00,  7.40it/s, val_loss=0.0934]\n"
     ]
    },
    {
     "name": "stdout",
     "output_type": "stream",
     "text": [
      "Epoch 24: Train pAUC: 0.093816 - Val pAUC: 0.123015 | Train Loss: 4.897136 - Val Loss: 5.885607\n",
      "\n"
     ]
    },
    {
     "name": "stderr",
     "output_type": "stream",
     "text": [
      "Epoch 25: 100%|██████████| 211/211 [02:14<00:00,  1.57it/s, train_loss=0.159]\n",
      "Epoch 25: 100%|██████████| 24/24 [00:03<00:00,  7.39it/s, val_loss=0.112]\n"
     ]
    },
    {
     "name": "stdout",
     "output_type": "stream",
     "text": [
      "Epoch 25: Train pAUC: 0.088753 - Val pAUC: 0.123889 | Train Loss: 5.073476 - Val Loss: 7.088200\n",
      "\n"
     ]
    },
    {
     "name": "stderr",
     "output_type": "stream",
     "text": [
      "Epoch 26: 100%|██████████| 211/211 [02:14<00:00,  1.57it/s, train_loss=0.152]\n",
      "Epoch 26: 100%|██████████| 24/24 [00:03<00:00,  7.36it/s, val_loss=0.0967]\n"
     ]
    },
    {
     "name": "stdout",
     "output_type": "stream",
     "text": [
      "Epoch 26: Train pAUC: 0.093571 - Val pAUC: 0.118576 | Train Loss: 4.862990 - Val Loss: 6.098595\n",
      "\n"
     ]
    },
    {
     "name": "stderr",
     "output_type": "stream",
     "text": [
      "Epoch 27: 100%|██████████| 211/211 [02:14<00:00,  1.57it/s, train_loss=0.154]\n",
      "Epoch 27: 100%|██████████| 24/24 [00:03<00:00,  7.29it/s, val_loss=0.113]\n"
     ]
    },
    {
     "name": "stdout",
     "output_type": "stream",
     "text": [
      "Epoch 27: Train pAUC: 0.098755 - Val pAUC: 0.127379 | Train Loss: 4.911712 - Val Loss: 7.118777\n",
      "\n"
     ]
    },
    {
     "name": "stderr",
     "output_type": "stream",
     "text": [
      "Epoch 28: 100%|██████████| 211/211 [02:14<00:00,  1.57it/s, train_loss=0.15]\n",
      "Epoch 28: 100%|██████████| 24/24 [00:03<00:00,  7.28it/s, val_loss=0.105]\n"
     ]
    },
    {
     "name": "stdout",
     "output_type": "stream",
     "text": [
      "Epoch 28: Train pAUC: 0.094838 - Val pAUC: 0.126262 | Train Loss: 4.806710 - Val Loss: 6.616942\n",
      "\n"
     ]
    },
    {
     "name": "stderr",
     "output_type": "stream",
     "text": [
      "Epoch 29: 100%|██████████| 211/211 [02:14<00:00,  1.57it/s, train_loss=0.147]\n",
      "Epoch 29: 100%|██████████| 24/24 [00:03<00:00,  7.40it/s, val_loss=0.0975]\n"
     ]
    },
    {
     "name": "stdout",
     "output_type": "stream",
     "text": [
      "Epoch 29: Train pAUC: 0.102845 - Val pAUC: 0.125651 | Train Loss: 4.706862 - Val Loss: 6.149736\n",
      "\n"
     ]
    },
    {
     "name": "stderr",
     "output_type": "stream",
     "text": [
      "Epoch 30: 100%|██████████| 211/211 [02:14<00:00,  1.57it/s, train_loss=0.149]\n",
      "Epoch 30: 100%|██████████| 24/24 [00:03<00:00,  7.28it/s, val_loss=0.104]\n"
     ]
    },
    {
     "name": "stdout",
     "output_type": "stream",
     "text": [
      "Epoch 30: Train pAUC: 0.100517 - Val pAUC: 0.114754 | Train Loss: 4.748765 - Val Loss: 6.575668\n",
      "\n"
     ]
    },
    {
     "name": "stderr",
     "output_type": "stream",
     "text": [
      "Epoch 31: 100%|██████████| 211/211 [02:14<00:00,  1.57it/s, train_loss=0.151]\n",
      "Epoch 31: 100%|██████████| 24/24 [00:03<00:00,  7.39it/s, val_loss=0.0971]\n"
     ]
    },
    {
     "name": "stdout",
     "output_type": "stream",
     "text": [
      "Epoch 31: Train pAUC: 0.094822 - Val pAUC: 0.118883 | Train Loss: 4.810914 - Val Loss: 6.120209\n",
      "\n"
     ]
    },
    {
     "name": "stderr",
     "output_type": "stream",
     "text": [
      "Epoch 32: 100%|██████████| 211/211 [02:14<00:00,  1.57it/s, train_loss=0.15]\n",
      "Epoch 32: 100%|██████████| 24/24 [00:03<00:00,  7.30it/s, val_loss=0.103]\n"
     ]
    },
    {
     "name": "stdout",
     "output_type": "stream",
     "text": [
      "Epoch 32: Train pAUC: 0.097951 - Val pAUC: 0.129929 | Train Loss: 4.791054 - Val Loss: 6.502014\n",
      "\n"
     ]
    },
    {
     "name": "stderr",
     "output_type": "stream",
     "text": [
      "Epoch 33: 100%|██████████| 211/211 [02:14<00:00,  1.57it/s, train_loss=0.139]\n",
      "Epoch 33: 100%|██████████| 24/24 [00:03<00:00,  7.28it/s, val_loss=0.1]\n"
     ]
    },
    {
     "name": "stdout",
     "output_type": "stream",
     "text": [
      "Early stopping triggered at epoch 33. Best pAUC = 0.139627\n",
      "Epoch 33: Train pAUC: 0.108923 - Val pAUC: 0.123740 | Train Loss: 4.447903 - Val Loss: 6.313452\n",
      "\n"
     ]
    },
    {
     "name": "stderr",
     "output_type": "stream",
     "text": [
      "Prediction: 100%|██████████| 1091/1091 [02:06<00:00,  8.59it/s]\n"
     ]
    },
    {
     "name": "stdout",
     "output_type": "stream",
     "text": [
      "---------------------------------- Fold 4 ----------------------------------\n",
      "\n",
      "\n",
      "---------------------------------- Fold 5 ----------------------------------\n"
     ]
    },
    {
     "name": "stderr",
     "output_type": "stream",
     "text": [
      "Epoch 1: 100%|██████████| 212/212 [02:14<00:00,  1.57it/s, train_loss=0.237]\n",
      "Epoch 1: 100%|██████████| 24/24 [00:03<00:00,  7.30it/s, val_loss=0.191]\n"
     ]
    },
    {
     "name": "stdout",
     "output_type": "stream",
     "text": [
      "Epoch 1: Train pAUC: 0.028989 - Val pAUC: 0.042064 | Train Loss: 7.569595 - Val Loss: 11.810243\n",
      "\n"
     ]
    },
    {
     "name": "stderr",
     "output_type": "stream",
     "text": [
      "Epoch 2: 100%|██████████| 212/212 [02:14<00:00,  1.57it/s, train_loss=0.192]\n",
      "Epoch 2: 100%|██████████| 24/24 [00:03<00:00,  7.39it/s, val_loss=0.189]\n"
     ]
    },
    {
     "name": "stdout",
     "output_type": "stream",
     "text": [
      "New best model found: pAUC = 0.064726 (previous best: 0.042064)\n",
      "Epoch 2: Train pAUC: 0.024828 - Val pAUC: 0.064726 | Train Loss: 6.141230 - Val Loss: 11.701337\n",
      "\n"
     ]
    },
    {
     "name": "stderr",
     "output_type": "stream",
     "text": [
      "Epoch 3: 100%|██████████| 212/212 [02:14<00:00,  1.57it/s, train_loss=0.187]\n",
      "Epoch 3: 100%|██████████| 24/24 [00:03<00:00,  7.39it/s, val_loss=0.172]\n"
     ]
    },
    {
     "name": "stdout",
     "output_type": "stream",
     "text": [
      "Epoch 3: Train pAUC: 0.041160 - Val pAUC: 0.061125 | Train Loss: 5.973221 - Val Loss: 10.668153\n",
      "\n"
     ]
    },
    {
     "name": "stderr",
     "output_type": "stream",
     "text": [
      "Epoch 4: 100%|██████████| 212/212 [02:14<00:00,  1.57it/s, train_loss=0.185]\n",
      "Epoch 4: 100%|██████████| 24/24 [00:03<00:00,  7.47it/s, val_loss=0.165]\n"
     ]
    },
    {
     "name": "stdout",
     "output_type": "stream",
     "text": [
      "New best model found: pAUC = 0.078464 (previous best: 0.064726)\n",
      "Epoch 4: Train pAUC: 0.037617 - Val pAUC: 0.078464 | Train Loss: 5.891224 - Val Loss: 10.227357\n",
      "\n"
     ]
    },
    {
     "name": "stderr",
     "output_type": "stream",
     "text": [
      "Epoch 5: 100%|██████████| 212/212 [02:14<00:00,  1.57it/s, train_loss=0.176]\n",
      "Epoch 5: 100%|██████████| 24/24 [00:03<00:00,  7.22it/s, val_loss=0.153]\n"
     ]
    },
    {
     "name": "stdout",
     "output_type": "stream",
     "text": [
      "New best model found: pAUC = 0.097108 (previous best: 0.078464)\n",
      "Epoch 5: Train pAUC: 0.057655 - Val pAUC: 0.097108 | Train Loss: 5.624516 - Val Loss: 9.444804\n",
      "\n"
     ]
    },
    {
     "name": "stderr",
     "output_type": "stream",
     "text": [
      "Epoch 6: 100%|██████████| 212/212 [02:14<00:00,  1.57it/s, train_loss=0.168]\n",
      "Epoch 6: 100%|██████████| 24/24 [00:03<00:00,  7.45it/s, val_loss=0.15]\n"
     ]
    },
    {
     "name": "stdout",
     "output_type": "stream",
     "text": [
      "New best model found: pAUC = 0.100283 (previous best: 0.097108)\n",
      "Epoch 6: Train pAUC: 0.061321 - Val pAUC: 0.100283 | Train Loss: 5.355318 - Val Loss: 9.274127\n",
      "\n"
     ]
    },
    {
     "name": "stderr",
     "output_type": "stream",
     "text": [
      "Epoch 7: 100%|██████████| 212/212 [02:14<00:00,  1.57it/s, train_loss=0.163]\n",
      "Epoch 7: 100%|██████████| 24/24 [00:03<00:00,  7.34it/s, val_loss=0.148]\n"
     ]
    },
    {
     "name": "stdout",
     "output_type": "stream",
     "text": [
      "Epoch 7: Train pAUC: 0.058798 - Val pAUC: 0.088299 | Train Loss: 5.217558 - Val Loss: 9.188084\n",
      "\n"
     ]
    },
    {
     "name": "stderr",
     "output_type": "stream",
     "text": [
      "Epoch 8: 100%|██████████| 212/212 [02:14<00:00,  1.57it/s, train_loss=0.167]\n",
      "Epoch 8: 100%|██████████| 24/24 [00:03<00:00,  7.38it/s, val_loss=0.151]\n"
     ]
    },
    {
     "name": "stdout",
     "output_type": "stream",
     "text": [
      "Epoch 8: Train pAUC: 0.064012 - Val pAUC: 0.095840 | Train Loss: 5.328579 - Val Loss: 9.372551\n",
      "\n"
     ]
    },
    {
     "name": "stderr",
     "output_type": "stream",
     "text": [
      "Epoch 9: 100%|██████████| 212/212 [02:14<00:00,  1.57it/s, train_loss=0.165]\n",
      "Epoch 9: 100%|██████████| 24/24 [00:03<00:00,  7.43it/s, val_loss=0.14]\n"
     ]
    },
    {
     "name": "stdout",
     "output_type": "stream",
     "text": [
      "New best model found: pAUC = 0.105156 (previous best: 0.100283)\n",
      "Epoch 9: Train pAUC: 0.068917 - Val pAUC: 0.105156 | Train Loss: 5.269186 - Val Loss: 8.682576\n",
      "\n"
     ]
    },
    {
     "name": "stderr",
     "output_type": "stream",
     "text": [
      "Epoch 10: 100%|██████████| 212/212 [02:14<00:00,  1.58it/s, train_loss=0.163]\n",
      "Epoch 10: 100%|██████████| 24/24 [00:03<00:00,  7.45it/s, val_loss=0.15]\n"
     ]
    },
    {
     "name": "stdout",
     "output_type": "stream",
     "text": [
      "New best model found: pAUC = 0.108642 (previous best: 0.105156)\n",
      "Epoch 10: Train pAUC: 0.075254 - Val pAUC: 0.108642 | Train Loss: 5.215059 - Val Loss: 9.300995\n",
      "\n"
     ]
    },
    {
     "name": "stderr",
     "output_type": "stream",
     "text": [
      "Epoch 11: 100%|██████████| 212/212 [02:14<00:00,  1.57it/s, train_loss=0.161]\n",
      "Epoch 11: 100%|██████████| 24/24 [00:03<00:00,  7.42it/s, val_loss=0.164]\n"
     ]
    },
    {
     "name": "stdout",
     "output_type": "stream",
     "text": [
      "New best model found: pAUC = 0.114724 (previous best: 0.108642)\n",
      "Epoch 11: Train pAUC: 0.070044 - Val pAUC: 0.114724 | Train Loss: 5.134999 - Val Loss: 10.170231\n",
      "\n"
     ]
    },
    {
     "name": "stderr",
     "output_type": "stream",
     "text": [
      "Epoch 12: 100%|██████████| 212/212 [02:14<00:00,  1.58it/s, train_loss=0.157]\n",
      "Epoch 12: 100%|██████████| 24/24 [00:03<00:00,  7.49it/s, val_loss=0.137]\n"
     ]
    },
    {
     "name": "stdout",
     "output_type": "stream",
     "text": [
      "New best model found: pAUC = 0.116619 (previous best: 0.114724)\n",
      "Epoch 12: Train pAUC: 0.080119 - Val pAUC: 0.116619 | Train Loss: 5.019976 - Val Loss: 8.471556\n",
      "\n"
     ]
    },
    {
     "name": "stderr",
     "output_type": "stream",
     "text": [
      "Epoch 13: 100%|██████████| 212/212 [02:14<00:00,  1.58it/s, train_loss=0.158]\n",
      "Epoch 13: 100%|██████████| 24/24 [00:03<00:00,  7.41it/s, val_loss=0.141]\n"
     ]
    },
    {
     "name": "stdout",
     "output_type": "stream",
     "text": [
      "Epoch 13: Train pAUC: 0.077330 - Val pAUC: 0.105599 | Train Loss: 5.041869 - Val Loss: 8.719173\n",
      "\n"
     ]
    },
    {
     "name": "stderr",
     "output_type": "stream",
     "text": [
      "Epoch 14: 100%|██████████| 212/212 [02:14<00:00,  1.58it/s, train_loss=0.154]\n",
      "Epoch 14: 100%|██████████| 24/24 [00:03<00:00,  7.48it/s, val_loss=0.134]\n"
     ]
    },
    {
     "name": "stdout",
     "output_type": "stream",
     "text": [
      "Epoch 14: Train pAUC: 0.083390 - Val pAUC: 0.115996 | Train Loss: 4.912923 - Val Loss: 8.285241\n",
      "\n"
     ]
    },
    {
     "name": "stderr",
     "output_type": "stream",
     "text": [
      "Epoch 15: 100%|██████████| 212/212 [02:14<00:00,  1.57it/s, train_loss=0.15]\n",
      "Epoch 15: 100%|██████████| 24/24 [00:03<00:00,  7.42it/s, val_loss=0.133]\n"
     ]
    },
    {
     "name": "stdout",
     "output_type": "stream",
     "text": [
      "New best model found: pAUC = 0.127607 (previous best: 0.116619)\n",
      "Epoch 15: Train pAUC: 0.087824 - Val pAUC: 0.127607 | Train Loss: 4.789687 - Val Loss: 8.250682\n",
      "\n"
     ]
    },
    {
     "name": "stderr",
     "output_type": "stream",
     "text": [
      "Epoch 16: 100%|██████████| 212/212 [02:14<00:00,  1.57it/s, train_loss=0.157]\n",
      "Epoch 16: 100%|██████████| 24/24 [00:03<00:00,  7.53it/s, val_loss=0.141]\n"
     ]
    },
    {
     "name": "stdout",
     "output_type": "stream",
     "text": [
      "Epoch 16: Train pAUC: 0.074612 - Val pAUC: 0.100545 | Train Loss: 5.007262 - Val Loss: 8.699016\n",
      "\n"
     ]
    },
    {
     "name": "stderr",
     "output_type": "stream",
     "text": [
      "Epoch 17: 100%|██████████| 212/212 [02:14<00:00,  1.58it/s, train_loss=0.152]\n",
      "Epoch 17: 100%|██████████| 24/24 [00:03<00:00,  7.36it/s, val_loss=0.142]\n"
     ]
    },
    {
     "name": "stdout",
     "output_type": "stream",
     "text": [
      "Epoch 17: Train pAUC: 0.089483 - Val pAUC: 0.102762 | Train Loss: 4.858042 - Val Loss: 8.799593\n",
      "\n"
     ]
    },
    {
     "name": "stderr",
     "output_type": "stream",
     "text": [
      "Epoch 18: 100%|██████████| 212/212 [02:14<00:00,  1.58it/s, train_loss=0.152]\n",
      "Epoch 18: 100%|██████████| 24/24 [00:03<00:00,  7.16it/s, val_loss=0.131]\n"
     ]
    },
    {
     "name": "stdout",
     "output_type": "stream",
     "text": [
      "New best model found: pAUC = 0.128277 (previous best: 0.127607)\n",
      "Epoch 18: Train pAUC: 0.089217 - Val pAUC: 0.128277 | Train Loss: 4.853032 - Val Loss: 8.085979\n",
      "\n"
     ]
    },
    {
     "name": "stderr",
     "output_type": "stream",
     "text": [
      "Epoch 19: 100%|██████████| 212/212 [02:14<00:00,  1.58it/s, train_loss=0.153]\n",
      "Epoch 19: 100%|██████████| 24/24 [00:03<00:00,  7.45it/s, val_loss=0.13]\n"
     ]
    },
    {
     "name": "stdout",
     "output_type": "stream",
     "text": [
      "Epoch 19: Train pAUC: 0.086261 - Val pAUC: 0.111943 | Train Loss: 4.870397 - Val Loss: 8.045950\n",
      "\n"
     ]
    },
    {
     "name": "stderr",
     "output_type": "stream",
     "text": [
      "Epoch 20: 100%|██████████| 212/212 [02:14<00:00,  1.58it/s, train_loss=0.149]\n",
      "Epoch 20: 100%|██████████| 24/24 [00:03<00:00,  7.48it/s, val_loss=0.133]\n"
     ]
    },
    {
     "name": "stdout",
     "output_type": "stream",
     "text": [
      "Epoch 20: Train pAUC: 0.094900 - Val pAUC: 0.117927 | Train Loss: 4.770749 - Val Loss: 8.248898\n",
      "\n"
     ]
    },
    {
     "name": "stderr",
     "output_type": "stream",
     "text": [
      "Epoch 21: 100%|██████████| 212/212 [02:14<00:00,  1.58it/s, train_loss=0.15]\n",
      "Epoch 21: 100%|██████████| 24/24 [00:03<00:00,  7.47it/s, val_loss=0.123]\n"
     ]
    },
    {
     "name": "stdout",
     "output_type": "stream",
     "text": [
      "Epoch 21: Train pAUC: 0.080685 - Val pAUC: 0.113205 | Train Loss: 4.788644 - Val Loss: 7.626625\n",
      "\n"
     ]
    },
    {
     "name": "stderr",
     "output_type": "stream",
     "text": [
      "Epoch 22: 100%|██████████| 212/212 [02:14<00:00,  1.58it/s, train_loss=0.151]\n",
      "Epoch 22: 100%|██████████| 24/24 [00:03<00:00,  7.46it/s, val_loss=0.141]\n"
     ]
    },
    {
     "name": "stdout",
     "output_type": "stream",
     "text": [
      "Epoch 22: Train pAUC: 0.088261 - Val pAUC: 0.083691 | Train Loss: 4.814379 - Val Loss: 8.732029\n",
      "\n"
     ]
    },
    {
     "name": "stderr",
     "output_type": "stream",
     "text": [
      "Epoch 23: 100%|██████████| 212/212 [02:14<00:00,  1.57it/s, train_loss=0.148]\n",
      "Epoch 23: 100%|██████████| 24/24 [00:03<00:00,  7.41it/s, val_loss=0.135]\n"
     ]
    },
    {
     "name": "stdout",
     "output_type": "stream",
     "text": [
      "Epoch 23: Train pAUC: 0.090377 - Val pAUC: 0.106348 | Train Loss: 4.728347 - Val Loss: 8.344889\n",
      "\n"
     ]
    },
    {
     "name": "stderr",
     "output_type": "stream",
     "text": [
      "Epoch 24: 100%|██████████| 212/212 [02:14<00:00,  1.58it/s, train_loss=0.15]\n",
      "Epoch 24: 100%|██████████| 24/24 [00:03<00:00,  7.50it/s, val_loss=0.125]\n"
     ]
    },
    {
     "name": "stdout",
     "output_type": "stream",
     "text": [
      "Epoch 24: Train pAUC: 0.095147 - Val pAUC: 0.122692 | Train Loss: 4.788704 - Val Loss: 7.705484\n",
      "\n"
     ]
    },
    {
     "name": "stderr",
     "output_type": "stream",
     "text": [
      "Epoch 25: 100%|██████████| 212/212 [02:14<00:00,  1.58it/s, train_loss=0.145]\n",
      "Epoch 25: 100%|██████████| 24/24 [00:03<00:00,  7.45it/s, val_loss=0.124]\n"
     ]
    },
    {
     "name": "stdout",
     "output_type": "stream",
     "text": [
      "Epoch 25: Train pAUC: 0.100126 - Val pAUC: 0.122975 | Train Loss: 4.644016 - Val Loss: 7.703220\n",
      "\n"
     ]
    },
    {
     "name": "stderr",
     "output_type": "stream",
     "text": [
      "Epoch 26: 100%|██████████| 212/212 [02:14<00:00,  1.58it/s, train_loss=0.144]\n",
      "Epoch 26: 100%|██████████| 24/24 [00:03<00:00,  7.13it/s, val_loss=0.126]\n"
     ]
    },
    {
     "name": "stdout",
     "output_type": "stream",
     "text": [
      "Epoch 26: Train pAUC: 0.102242 - Val pAUC: 0.116853 | Train Loss: 4.592628 - Val Loss: 7.818355\n",
      "\n"
     ]
    },
    {
     "name": "stderr",
     "output_type": "stream",
     "text": [
      "Epoch 27: 100%|██████████| 212/212 [02:14<00:00,  1.57it/s, train_loss=0.143]\n",
      "Epoch 27: 100%|██████████| 24/24 [00:03<00:00,  7.03it/s, val_loss=0.128]\n"
     ]
    },
    {
     "name": "stdout",
     "output_type": "stream",
     "text": [
      "Epoch 27: Train pAUC: 0.095382 - Val pAUC: 0.122043 | Train Loss: 4.578079 - Val Loss: 7.904888\n",
      "\n"
     ]
    },
    {
     "name": "stderr",
     "output_type": "stream",
     "text": [
      "Epoch 28: 100%|██████████| 212/212 [02:14<00:00,  1.57it/s, train_loss=0.143]\n",
      "Epoch 28: 100%|██████████| 24/24 [00:03<00:00,  7.00it/s, val_loss=0.126]\n"
     ]
    },
    {
     "name": "stdout",
     "output_type": "stream",
     "text": [
      "Early stopping triggered at epoch 28. Best pAUC = 0.128277\n",
      "Epoch 28: Train pAUC: 0.094831 - Val pAUC: 0.114247 | Train Loss: 4.568078 - Val Loss: 7.824717\n",
      "\n"
     ]
    },
    {
     "name": "stderr",
     "output_type": "stream",
     "text": [
      "Prediction: 100%|██████████| 1053/1053 [02:02<00:00,  8.58it/s]\n"
     ]
    },
    {
     "name": "stdout",
     "output_type": "stream",
     "text": [
      "---------------------------------- Fold 5 ----------------------------------\n",
      "\n",
      "\n",
      "---------------------------------- Fold 6 ----------------------------------\n"
     ]
    },
    {
     "name": "stderr",
     "output_type": "stream",
     "text": [
      "Epoch 1: 100%|██████████| 222/222 [02:21<00:00,  1.57it/s, train_loss=0.245]\n",
      "Epoch 1: 100%|██████████| 19/19 [00:02<00:00,  6.69it/s, val_loss=0.151]\n"
     ]
    },
    {
     "name": "stdout",
     "output_type": "stream",
     "text": [
      "Epoch 1: Train pAUC: 0.020558 - Val pAUC: 0.054807 | Train Loss: 7.845478 - Val Loss: 9.200207\n",
      "\n"
     ]
    },
    {
     "name": "stderr",
     "output_type": "stream",
     "text": [
      "Epoch 2: 100%|██████████| 222/222 [02:21<00:00,  1.57it/s, train_loss=0.196]\n",
      "Epoch 2: 100%|██████████| 19/19 [00:02<00:00,  7.11it/s, val_loss=0.162]\n"
     ]
    },
    {
     "name": "stdout",
     "output_type": "stream",
     "text": [
      "Epoch 2: Train pAUC: 0.029321 - Val pAUC: 0.040081 | Train Loss: 6.274171 - Val Loss: 9.858921\n",
      "\n"
     ]
    },
    {
     "name": "stderr",
     "output_type": "stream",
     "text": [
      "Epoch 3: 100%|██████████| 222/222 [02:21<00:00,  1.57it/s, train_loss=0.194]\n",
      "Epoch 3: 100%|██████████| 19/19 [00:02<00:00,  7.24it/s, val_loss=0.145]\n"
     ]
    },
    {
     "name": "stdout",
     "output_type": "stream",
     "text": [
      "New best model found: pAUC = 0.074640 (previous best: 0.054807)\n",
      "Epoch 3: Train pAUC: 0.033954 - Val pAUC: 0.074640 | Train Loss: 6.197083 - Val Loss: 8.839384\n",
      "\n"
     ]
    },
    {
     "name": "stderr",
     "output_type": "stream",
     "text": [
      "Epoch 4: 100%|██████████| 222/222 [02:21<00:00,  1.57it/s, train_loss=0.188]\n",
      "Epoch 4: 100%|██████████| 19/19 [00:02<00:00,  6.81it/s, val_loss=0.143]\n"
     ]
    },
    {
     "name": "stdout",
     "output_type": "stream",
     "text": [
      "Epoch 4: Train pAUC: 0.047780 - Val pAUC: 0.071510 | Train Loss: 5.995909 - Val Loss: 8.719352\n",
      "\n"
     ]
    },
    {
     "name": "stderr",
     "output_type": "stream",
     "text": [
      "Epoch 5: 100%|██████████| 222/222 [02:21<00:00,  1.57it/s, train_loss=0.181]\n",
      "Epoch 5: 100%|██████████| 19/19 [00:02<00:00,  7.17it/s, val_loss=0.141]\n"
     ]
    },
    {
     "name": "stdout",
     "output_type": "stream",
     "text": [
      "Epoch 5: Train pAUC: 0.049746 - Val pAUC: 0.069977 | Train Loss: 5.772716 - Val Loss: 8.613659\n",
      "\n"
     ]
    },
    {
     "name": "stderr",
     "output_type": "stream",
     "text": [
      "Epoch 6: 100%|██████████| 222/222 [02:21<00:00,  1.57it/s, train_loss=0.177]\n",
      "Epoch 6: 100%|██████████| 19/19 [00:02<00:00,  6.85it/s, val_loss=0.142]\n"
     ]
    },
    {
     "name": "stdout",
     "output_type": "stream",
     "text": [
      "Epoch 6: Train pAUC: 0.054554 - Val pAUC: 0.057779 | Train Loss: 5.650426 - Val Loss: 8.658483\n",
      "\n"
     ]
    },
    {
     "name": "stderr",
     "output_type": "stream",
     "text": [
      "Epoch 7: 100%|██████████| 222/222 [02:21<00:00,  1.57it/s, train_loss=0.176]\n",
      "Epoch 7: 100%|██████████| 19/19 [00:02<00:00,  7.26it/s, val_loss=0.145]\n"
     ]
    },
    {
     "name": "stdout",
     "output_type": "stream",
     "text": [
      "New best model found: pAUC = 0.082191 (previous best: 0.074640)\n",
      "Epoch 7: Train pAUC: 0.052371 - Val pAUC: 0.082191 | Train Loss: 5.626019 - Val Loss: 8.804755\n",
      "\n"
     ]
    },
    {
     "name": "stderr",
     "output_type": "stream",
     "text": [
      "Epoch 8: 100%|██████████| 222/222 [02:21<00:00,  1.57it/s, train_loss=0.169]\n",
      "Epoch 8: 100%|██████████| 19/19 [00:02<00:00,  7.29it/s, val_loss=0.152]\n"
     ]
    },
    {
     "name": "stdout",
     "output_type": "stream",
     "text": [
      "New best model found: pAUC = 0.093385 (previous best: 0.082191)\n",
      "Epoch 8: Train pAUC: 0.061329 - Val pAUC: 0.093385 | Train Loss: 5.416616 - Val Loss: 9.228240\n",
      "\n"
     ]
    },
    {
     "name": "stderr",
     "output_type": "stream",
     "text": [
      "Epoch 9: 100%|██████████| 222/222 [02:21<00:00,  1.57it/s, train_loss=0.168]\n",
      "Epoch 9: 100%|██████████| 19/19 [00:02<00:00,  7.20it/s, val_loss=0.124]\n"
     ]
    },
    {
     "name": "stdout",
     "output_type": "stream",
     "text": [
      "New best model found: pAUC = 0.100478 (previous best: 0.093385)\n",
      "Epoch 9: Train pAUC: 0.063560 - Val pAUC: 0.100478 | Train Loss: 5.375234 - Val Loss: 7.539838\n",
      "\n"
     ]
    },
    {
     "name": "stderr",
     "output_type": "stream",
     "text": [
      "Epoch 10: 100%|██████████| 222/222 [02:21<00:00,  1.57it/s, train_loss=0.162]\n",
      "Epoch 10: 100%|██████████| 19/19 [00:02<00:00,  7.21it/s, val_loss=0.15]\n"
     ]
    },
    {
     "name": "stdout",
     "output_type": "stream",
     "text": [
      "Epoch 10: Train pAUC: 0.079533 - Val pAUC: 0.099086 | Train Loss: 5.189460 - Val Loss: 9.104731\n",
      "\n"
     ]
    },
    {
     "name": "stderr",
     "output_type": "stream",
     "text": [
      "Epoch 11: 100%|██████████| 222/222 [02:21<00:00,  1.57it/s, train_loss=0.159]\n",
      "Epoch 11: 100%|██████████| 19/19 [00:02<00:00,  6.84it/s, val_loss=0.142]\n"
     ]
    },
    {
     "name": "stdout",
     "output_type": "stream",
     "text": [
      "Epoch 11: Train pAUC: 0.080238 - Val pAUC: 0.094811 | Train Loss: 5.083982 - Val Loss: 8.636445\n",
      "\n"
     ]
    },
    {
     "name": "stderr",
     "output_type": "stream",
     "text": [
      "Epoch 12: 100%|██████████| 222/222 [02:21<00:00,  1.57it/s, train_loss=0.163]\n",
      "Epoch 12: 100%|██████████| 19/19 [00:02<00:00,  7.22it/s, val_loss=0.145]\n"
     ]
    },
    {
     "name": "stdout",
     "output_type": "stream",
     "text": [
      "Epoch 12: Train pAUC: 0.065842 - Val pAUC: 0.090028 | Train Loss: 5.197831 - Val Loss: 8.859850\n",
      "\n"
     ]
    },
    {
     "name": "stderr",
     "output_type": "stream",
     "text": [
      "Epoch 13: 100%|██████████| 222/222 [02:21<00:00,  1.57it/s, train_loss=0.162]\n",
      "Epoch 13: 100%|██████████| 19/19 [00:02<00:00,  7.09it/s, val_loss=0.128]\n"
     ]
    },
    {
     "name": "stdout",
     "output_type": "stream",
     "text": [
      "New best model found: pAUC = 0.100628 (previous best: 0.100478)\n",
      "Epoch 13: Train pAUC: 0.074116 - Val pAUC: 0.100628 | Train Loss: 5.163181 - Val Loss: 7.774590\n",
      "\n"
     ]
    },
    {
     "name": "stderr",
     "output_type": "stream",
     "text": [
      "Epoch 14: 100%|██████████| 222/222 [02:21<00:00,  1.57it/s, train_loss=0.156]\n",
      "Epoch 14: 100%|██████████| 19/19 [00:02<00:00,  7.26it/s, val_loss=0.134]\n"
     ]
    },
    {
     "name": "stdout",
     "output_type": "stream",
     "text": [
      "Epoch 14: Train pAUC: 0.087459 - Val pAUC: 0.091958 | Train Loss: 4.996145 - Val Loss: 8.130654\n",
      "\n"
     ]
    },
    {
     "name": "stderr",
     "output_type": "stream",
     "text": [
      "Epoch 15: 100%|██████████| 222/222 [02:21<00:00,  1.57it/s, train_loss=0.153]\n",
      "Epoch 15: 100%|██████████| 19/19 [00:02<00:00,  7.19it/s, val_loss=0.131]\n"
     ]
    },
    {
     "name": "stdout",
     "output_type": "stream",
     "text": [
      "Epoch 15: Train pAUC: 0.090674 - Val pAUC: 0.083173 | Train Loss: 4.898120 - Val Loss: 7.977674\n",
      "\n"
     ]
    },
    {
     "name": "stderr",
     "output_type": "stream",
     "text": [
      "Epoch 16: 100%|██████████| 222/222 [02:21<00:00,  1.57it/s, train_loss=0.156]\n",
      "Epoch 16: 100%|██████████| 19/19 [00:02<00:00,  7.11it/s, val_loss=0.125]\n"
     ]
    },
    {
     "name": "stdout",
     "output_type": "stream",
     "text": [
      "Epoch 16: Train pAUC: 0.090765 - Val pAUC: 0.081913 | Train Loss: 4.984541 - Val Loss: 7.587020\n",
      "\n"
     ]
    },
    {
     "name": "stderr",
     "output_type": "stream",
     "text": [
      "Epoch 17: 100%|██████████| 222/222 [02:21<00:00,  1.57it/s, train_loss=0.151]\n",
      "Epoch 17: 100%|██████████| 19/19 [00:02<00:00,  6.79it/s, val_loss=0.13]\n"
     ]
    },
    {
     "name": "stdout",
     "output_type": "stream",
     "text": [
      "Epoch 17: Train pAUC: 0.094206 - Val pAUC: 0.085266 | Train Loss: 4.831938 - Val Loss: 7.888434\n",
      "\n"
     ]
    },
    {
     "name": "stderr",
     "output_type": "stream",
     "text": [
      "Epoch 18: 100%|██████████| 222/222 [02:21<00:00,  1.57it/s, train_loss=0.152]\n",
      "Epoch 18: 100%|██████████| 19/19 [00:02<00:00,  6.64it/s, val_loss=0.139]\n"
     ]
    },
    {
     "name": "stdout",
     "output_type": "stream",
     "text": [
      "New best model found: pAUC = 0.112193 (previous best: 0.100628)\n",
      "Epoch 18: Train pAUC: 0.088946 - Val pAUC: 0.112193 | Train Loss: 4.842581 - Val Loss: 8.456099\n",
      "\n"
     ]
    },
    {
     "name": "stderr",
     "output_type": "stream",
     "text": [
      "Epoch 19: 100%|██████████| 222/222 [02:21<00:00,  1.57it/s, train_loss=0.156]\n",
      "Epoch 19: 100%|██████████| 19/19 [00:02<00:00,  7.26it/s, val_loss=0.127]\n"
     ]
    },
    {
     "name": "stdout",
     "output_type": "stream",
     "text": [
      "Epoch 19: Train pAUC: 0.084810 - Val pAUC: 0.100419 | Train Loss: 4.974528 - Val Loss: 7.729822\n",
      "\n"
     ]
    },
    {
     "name": "stderr",
     "output_type": "stream",
     "text": [
      "Epoch 20: 100%|██████████| 222/222 [02:21<00:00,  1.57it/s, train_loss=0.155]\n",
      "Epoch 20: 100%|██████████| 19/19 [00:02<00:00,  7.20it/s, val_loss=0.141]\n"
     ]
    },
    {
     "name": "stdout",
     "output_type": "stream",
     "text": [
      "Epoch 20: Train pAUC: 0.083505 - Val pAUC: 0.101034 | Train Loss: 4.968630 - Val Loss: 8.595038\n",
      "\n"
     ]
    },
    {
     "name": "stderr",
     "output_type": "stream",
     "text": [
      "Epoch 21: 100%|██████████| 222/222 [02:21<00:00,  1.57it/s, train_loss=0.152]\n",
      "Epoch 21: 100%|██████████| 19/19 [00:02<00:00,  7.28it/s, val_loss=0.119]\n"
     ]
    },
    {
     "name": "stdout",
     "output_type": "stream",
     "text": [
      "Epoch 21: Train pAUC: 0.090326 - Val pAUC: 0.107709 | Train Loss: 4.863258 - Val Loss: 7.224418\n",
      "\n"
     ]
    },
    {
     "name": "stderr",
     "output_type": "stream",
     "text": [
      "Epoch 22: 100%|██████████| 222/222 [02:21<00:00,  1.57it/s, train_loss=0.149]\n",
      "Epoch 22: 100%|██████████| 19/19 [00:02<00:00,  7.25it/s, val_loss=0.142]\n"
     ]
    },
    {
     "name": "stdout",
     "output_type": "stream",
     "text": [
      "Epoch 22: Train pAUC: 0.098021 - Val pAUC: 0.088114 | Train Loss: 4.778310 - Val Loss: 8.675404\n",
      "\n"
     ]
    },
    {
     "name": "stderr",
     "output_type": "stream",
     "text": [
      "Epoch 23: 100%|██████████| 222/222 [02:20<00:00,  1.57it/s, train_loss=0.152]\n",
      "Epoch 23: 100%|██████████| 19/19 [00:02<00:00,  7.26it/s, val_loss=0.127]\n"
     ]
    },
    {
     "name": "stdout",
     "output_type": "stream",
     "text": [
      "Epoch 23: Train pAUC: 0.087668 - Val pAUC: 0.104395 | Train Loss: 4.859107 - Val Loss: 7.734521\n",
      "\n"
     ]
    },
    {
     "name": "stderr",
     "output_type": "stream",
     "text": [
      "Epoch 24: 100%|██████████| 222/222 [02:21<00:00,  1.57it/s, train_loss=0.148]\n",
      "Epoch 24: 100%|██████████| 19/19 [00:02<00:00,  7.27it/s, val_loss=0.126]\n"
     ]
    },
    {
     "name": "stdout",
     "output_type": "stream",
     "text": [
      "Epoch 24: Train pAUC: 0.094432 - Val pAUC: 0.098847 | Train Loss: 4.746121 - Val Loss: 7.655420\n",
      "\n"
     ]
    },
    {
     "name": "stderr",
     "output_type": "stream",
     "text": [
      "Epoch 25: 100%|██████████| 222/222 [02:21<00:00,  1.57it/s, train_loss=0.147]\n",
      "Epoch 25: 100%|██████████| 19/19 [00:02<00:00,  7.16it/s, val_loss=0.128]\n"
     ]
    },
    {
     "name": "stdout",
     "output_type": "stream",
     "text": [
      "Epoch 25: Train pAUC: 0.093572 - Val pAUC: 0.095785 | Train Loss: 4.707682 - Val Loss: 7.800351\n",
      "\n"
     ]
    },
    {
     "name": "stderr",
     "output_type": "stream",
     "text": [
      "Epoch 26: 100%|██████████| 222/222 [02:21<00:00,  1.57it/s, train_loss=0.144]\n",
      "Epoch 26: 100%|██████████| 19/19 [00:02<00:00,  7.33it/s, val_loss=0.12]\n"
     ]
    },
    {
     "name": "stdout",
     "output_type": "stream",
     "text": [
      "New best model found: pAUC = 0.112364 (previous best: 0.112193)\n",
      "Epoch 26: Train pAUC: 0.092755 - Val pAUC: 0.112364 | Train Loss: 4.613804 - Val Loss: 7.282186\n",
      "\n"
     ]
    },
    {
     "name": "stderr",
     "output_type": "stream",
     "text": [
      "Epoch 27: 100%|██████████| 222/222 [02:21<00:00,  1.57it/s, train_loss=0.145]\n",
      "Epoch 27: 100%|██████████| 19/19 [00:02<00:00,  7.29it/s, val_loss=0.111]\n"
     ]
    },
    {
     "name": "stdout",
     "output_type": "stream",
     "text": [
      "New best model found: pAUC = 0.114076 (previous best: 0.112364)\n",
      "Epoch 27: Train pAUC: 0.089466 - Val pAUC: 0.114076 | Train Loss: 4.619789 - Val Loss: 6.775348\n",
      "\n"
     ]
    },
    {
     "name": "stderr",
     "output_type": "stream",
     "text": [
      "Epoch 28: 100%|██████████| 222/222 [02:21<00:00,  1.57it/s, train_loss=0.142]\n",
      "Epoch 28: 100%|██████████| 19/19 [00:02<00:00,  6.60it/s, val_loss=0.112]\n"
     ]
    },
    {
     "name": "stdout",
     "output_type": "stream",
     "text": [
      "New best model found: pAUC = 0.116558 (previous best: 0.114076)\n",
      "Epoch 28: Train pAUC: 0.097784 - Val pAUC: 0.116558 | Train Loss: 4.530809 - Val Loss: 6.841494\n",
      "\n"
     ]
    },
    {
     "name": "stderr",
     "output_type": "stream",
     "text": [
      "Epoch 29: 100%|██████████| 222/222 [02:21<00:00,  1.57it/s, train_loss=0.148]\n",
      "Epoch 29: 100%|██████████| 19/19 [00:02<00:00,  7.18it/s, val_loss=0.125]\n"
     ]
    },
    {
     "name": "stdout",
     "output_type": "stream",
     "text": [
      "Epoch 29: Train pAUC: 0.091080 - Val pAUC: 0.115648 | Train Loss: 4.733277 - Val Loss: 7.615821\n",
      "\n"
     ]
    },
    {
     "name": "stderr",
     "output_type": "stream",
     "text": [
      "Epoch 30: 100%|██████████| 222/222 [02:21<00:00,  1.57it/s, train_loss=0.142]\n",
      "Epoch 30: 100%|██████████| 19/19 [00:02<00:00,  7.10it/s, val_loss=0.115]\n"
     ]
    },
    {
     "name": "stdout",
     "output_type": "stream",
     "text": [
      "New best model found: pAUC = 0.129725 (previous best: 0.116558)\n",
      "Epoch 30: Train pAUC: 0.097282 - Val pAUC: 0.129725 | Train Loss: 4.548234 - Val Loss: 6.984927\n",
      "\n"
     ]
    },
    {
     "name": "stderr",
     "output_type": "stream",
     "text": [
      "Epoch 31: 100%|██████████| 222/222 [02:21<00:00,  1.57it/s, train_loss=0.144]\n",
      "Epoch 31: 100%|██████████| 19/19 [00:02<00:00,  7.36it/s, val_loss=0.113]\n"
     ]
    },
    {
     "name": "stdout",
     "output_type": "stream",
     "text": [
      "Epoch 31: Train pAUC: 0.091562 - Val pAUC: 0.114973 | Train Loss: 4.617159 - Val Loss: 6.869934\n",
      "\n"
     ]
    },
    {
     "name": "stderr",
     "output_type": "stream",
     "text": [
      "Epoch 32: 100%|██████████| 222/222 [02:21<00:00,  1.57it/s, train_loss=0.144]\n",
      "Epoch 32: 100%|██████████| 19/19 [00:02<00:00,  7.20it/s, val_loss=0.129]\n"
     ]
    },
    {
     "name": "stdout",
     "output_type": "stream",
     "text": [
      "Epoch 32: Train pAUC: 0.104871 - Val pAUC: 0.123664 | Train Loss: 4.592949 - Val Loss: 7.873219\n",
      "\n"
     ]
    },
    {
     "name": "stderr",
     "output_type": "stream",
     "text": [
      "Epoch 33: 100%|██████████| 222/222 [02:21<00:00,  1.57it/s, train_loss=0.142]\n",
      "Epoch 33: 100%|██████████| 19/19 [00:02<00:00,  7.13it/s, val_loss=0.117]\n"
     ]
    },
    {
     "name": "stdout",
     "output_type": "stream",
     "text": [
      "New best model found: pAUC = 0.131561 (previous best: 0.129725)\n",
      "Epoch 33: Train pAUC: 0.098242 - Val pAUC: 0.131561 | Train Loss: 4.553097 - Val Loss: 7.153943\n",
      "\n"
     ]
    },
    {
     "name": "stderr",
     "output_type": "stream",
     "text": [
      "Epoch 34: 100%|██████████| 222/222 [02:21<00:00,  1.57it/s, train_loss=0.144]\n",
      "Epoch 34: 100%|██████████| 19/19 [00:02<00:00,  7.24it/s, val_loss=0.109]\n"
     ]
    },
    {
     "name": "stdout",
     "output_type": "stream",
     "text": [
      "New best model found: pAUC = 0.132394 (previous best: 0.131561)\n",
      "Epoch 34: Train pAUC: 0.103891 - Val pAUC: 0.132394 | Train Loss: 4.603300 - Val Loss: 6.634262\n",
      "\n"
     ]
    },
    {
     "name": "stderr",
     "output_type": "stream",
     "text": [
      "Epoch 35: 100%|██████████| 222/222 [02:21<00:00,  1.57it/s, train_loss=0.145]\n",
      "Epoch 35: 100%|██████████| 19/19 [00:02<00:00,  7.22it/s, val_loss=0.123]\n"
     ]
    },
    {
     "name": "stdout",
     "output_type": "stream",
     "text": [
      "Epoch 35: Train pAUC: 0.096237 - Val pAUC: 0.132334 | Train Loss: 4.630993 - Val Loss: 7.471307\n",
      "\n"
     ]
    },
    {
     "name": "stderr",
     "output_type": "stream",
     "text": [
      "Epoch 36: 100%|██████████| 222/222 [02:21<00:00,  1.57it/s, train_loss=0.145]\n",
      "Epoch 36: 100%|██████████| 19/19 [00:02<00:00,  7.26it/s, val_loss=0.113]\n"
     ]
    },
    {
     "name": "stdout",
     "output_type": "stream",
     "text": [
      "Epoch 36: Train pAUC: 0.108605 - Val pAUC: 0.124950 | Train Loss: 4.634093 - Val Loss: 6.878937\n",
      "\n"
     ]
    },
    {
     "name": "stderr",
     "output_type": "stream",
     "text": [
      "Epoch 37: 100%|██████████| 222/222 [02:21<00:00,  1.57it/s, train_loss=0.143]\n",
      "Epoch 37: 100%|██████████| 19/19 [00:02<00:00,  7.25it/s, val_loss=0.119]\n"
     ]
    },
    {
     "name": "stdout",
     "output_type": "stream",
     "text": [
      "Epoch 37: Train pAUC: 0.102160 - Val pAUC: 0.128302 | Train Loss: 4.558522 - Val Loss: 7.240447\n",
      "\n"
     ]
    },
    {
     "name": "stderr",
     "output_type": "stream",
     "text": [
      "Epoch 38: 100%|██████████| 222/222 [02:21<00:00,  1.57it/s, train_loss=0.141]\n",
      "Epoch 38: 100%|██████████| 19/19 [00:02<00:00,  7.13it/s, val_loss=0.108]\n"
     ]
    },
    {
     "name": "stdout",
     "output_type": "stream",
     "text": [
      "Epoch 38: Train pAUC: 0.108445 - Val pAUC: 0.125889 | Train Loss: 4.509545 - Val Loss: 6.548517\n",
      "\n"
     ]
    },
    {
     "name": "stderr",
     "output_type": "stream",
     "text": [
      "Epoch 39: 100%|██████████| 222/222 [02:21<00:00,  1.57it/s, train_loss=0.14]\n",
      "Epoch 39: 100%|██████████| 19/19 [00:02<00:00,  7.17it/s, val_loss=0.113]\n"
     ]
    },
    {
     "name": "stdout",
     "output_type": "stream",
     "text": [
      "Epoch 39: Train pAUC: 0.111453 - Val pAUC: 0.131087 | Train Loss: 4.468422 - Val Loss: 6.860621\n",
      "\n"
     ]
    },
    {
     "name": "stderr",
     "output_type": "stream",
     "text": [
      "Epoch 40: 100%|██████████| 222/222 [02:21<00:00,  1.57it/s, train_loss=0.141]\n",
      "Epoch 40: 100%|██████████| 19/19 [00:02<00:00,  7.22it/s, val_loss=0.117]\n"
     ]
    },
    {
     "name": "stdout",
     "output_type": "stream",
     "text": [
      "Epoch 40: Train pAUC: 0.102434 - Val pAUC: 0.123903 | Train Loss: 4.507566 - Val Loss: 7.096396\n",
      "\n"
     ]
    },
    {
     "name": "stderr",
     "output_type": "stream",
     "text": [
      "Epoch 41: 100%|██████████| 222/222 [02:21<00:00,  1.57it/s, train_loss=0.138]\n",
      "Epoch 41: 100%|██████████| 19/19 [00:02<00:00,  6.88it/s, val_loss=0.113]\n"
     ]
    },
    {
     "name": "stdout",
     "output_type": "stream",
     "text": [
      "New best model found: pAUC = 0.134115 (previous best: 0.132394)\n",
      "Epoch 41: Train pAUC: 0.107820 - Val pAUC: 0.134115 | Train Loss: 4.424837 - Val Loss: 6.876180\n",
      "\n"
     ]
    },
    {
     "name": "stderr",
     "output_type": "stream",
     "text": [
      "Epoch 42: 100%|██████████| 222/222 [02:21<00:00,  1.57it/s, train_loss=0.14]\n",
      "Epoch 42: 100%|██████████| 19/19 [00:02<00:00,  7.26it/s, val_loss=0.109]\n"
     ]
    },
    {
     "name": "stdout",
     "output_type": "stream",
     "text": [
      "New best model found: pAUC = 0.134260 (previous best: 0.134115)\n",
      "Epoch 42: Train pAUC: 0.106218 - Val pAUC: 0.134260 | Train Loss: 4.463342 - Val Loss: 6.622389\n",
      "\n"
     ]
    },
    {
     "name": "stderr",
     "output_type": "stream",
     "text": [
      "Epoch 43: 100%|██████████| 222/222 [02:21<00:00,  1.57it/s, train_loss=0.141]\n",
      "Epoch 43: 100%|██████████| 19/19 [00:02<00:00,  7.23it/s, val_loss=0.115]\n"
     ]
    },
    {
     "name": "stdout",
     "output_type": "stream",
     "text": [
      "Epoch 43: Train pAUC: 0.102590 - Val pAUC: 0.133731 | Train Loss: 4.496080 - Val Loss: 6.981473\n",
      "\n"
     ]
    },
    {
     "name": "stderr",
     "output_type": "stream",
     "text": [
      "Epoch 44: 100%|██████████| 222/222 [02:21<00:00,  1.57it/s, train_loss=0.142]\n",
      "Epoch 44: 100%|██████████| 19/19 [00:02<00:00,  7.29it/s, val_loss=0.117]\n"
     ]
    },
    {
     "name": "stdout",
     "output_type": "stream",
     "text": [
      "New best model found: pAUC = 0.139748 (previous best: 0.134260)\n",
      "Epoch 44: Train pAUC: 0.110595 - Val pAUC: 0.139748 | Train Loss: 4.536657 - Val Loss: 7.101918\n",
      "\n"
     ]
    },
    {
     "name": "stderr",
     "output_type": "stream",
     "text": [
      "Epoch 45: 100%|██████████| 222/222 [02:21<00:00,  1.57it/s, train_loss=0.135]\n",
      "Epoch 45: 100%|██████████| 19/19 [00:02<00:00,  7.20it/s, val_loss=0.113]\n"
     ]
    },
    {
     "name": "stdout",
     "output_type": "stream",
     "text": [
      "Epoch 45: Train pAUC: 0.112763 - Val pAUC: 0.135443 | Train Loss: 4.304226 - Val Loss: 6.863720\n",
      "\n"
     ]
    },
    {
     "name": "stderr",
     "output_type": "stream",
     "text": [
      "Epoch 46: 100%|██████████| 222/222 [02:21<00:00,  1.57it/s, train_loss=0.138]\n",
      "Epoch 46: 100%|██████████| 19/19 [00:02<00:00,  6.92it/s, val_loss=0.119]\n"
     ]
    },
    {
     "name": "stdout",
     "output_type": "stream",
     "text": [
      "Epoch 46: Train pAUC: 0.102783 - Val pAUC: 0.132236 | Train Loss: 4.405151 - Val Loss: 7.274748\n",
      "\n"
     ]
    },
    {
     "name": "stderr",
     "output_type": "stream",
     "text": [
      "Epoch 47: 100%|██████████| 222/222 [02:21<00:00,  1.57it/s, train_loss=0.139]\n",
      "Epoch 47: 100%|██████████| 19/19 [00:02<00:00,  7.17it/s, val_loss=0.112]\n"
     ]
    },
    {
     "name": "stdout",
     "output_type": "stream",
     "text": [
      "Epoch 47: Train pAUC: 0.107308 - Val pAUC: 0.132308 | Train Loss: 4.450508 - Val Loss: 6.831438\n",
      "\n"
     ]
    },
    {
     "name": "stderr",
     "output_type": "stream",
     "text": [
      "Epoch 48: 100%|██████████| 222/222 [02:21<00:00,  1.57it/s, train_loss=0.14]\n",
      "Epoch 48: 100%|██████████| 19/19 [00:02<00:00,  7.17it/s, val_loss=0.107]\n"
     ]
    },
    {
     "name": "stdout",
     "output_type": "stream",
     "text": [
      "New best model found: pAUC = 0.140243 (previous best: 0.139748)\n",
      "Epoch 48: Train pAUC: 0.103101 - Val pAUC: 0.140243 | Train Loss: 4.472420 - Val Loss: 6.512695\n",
      "\n"
     ]
    },
    {
     "name": "stderr",
     "output_type": "stream",
     "text": [
      "Epoch 49: 100%|██████████| 222/222 [02:21<00:00,  1.57it/s, train_loss=0.138]\n",
      "Epoch 49: 100%|██████████| 19/19 [00:02<00:00,  7.08it/s, val_loss=0.108]\n"
     ]
    },
    {
     "name": "stdout",
     "output_type": "stream",
     "text": [
      "Epoch 49: Train pAUC: 0.106794 - Val pAUC: 0.134132 | Train Loss: 4.419891 - Val Loss: 6.572368\n",
      "\n"
     ]
    },
    {
     "name": "stderr",
     "output_type": "stream",
     "text": [
      "Epoch 50: 100%|██████████| 222/222 [02:21<00:00,  1.57it/s, train_loss=0.143]\n",
      "Epoch 50: 100%|██████████| 19/19 [00:02<00:00,  7.25it/s, val_loss=0.115]\n"
     ]
    },
    {
     "name": "stdout",
     "output_type": "stream",
     "text": [
      "Epoch 50: Train pAUC: 0.100983 - Val pAUC: 0.126940 | Train Loss: 4.580756 - Val Loss: 6.975841\n",
      "\n"
     ]
    },
    {
     "name": "stderr",
     "output_type": "stream",
     "text": [
      "Prediction: 100%|██████████| 915/915 [01:46<00:00,  8.62it/s]\n"
     ]
    },
    {
     "name": "stdout",
     "output_type": "stream",
     "text": [
      "---------------------------------- Fold 6 ----------------------------------\n",
      "\n",
      "\n"
     ]
    }
   ],
   "source": [
    "histories = {}\n",
    "oof_pred_probs_df = []\n",
    "\n",
    "for fold_idx in range(CFG.n_folds):\n",
    "    print(f'---------------------------------- Fold {fold_idx + 1} ----------------------------------')\n",
    "\n",
    "    _train = train_metadata[train_metadata['fold'] != fold_idx]\n",
    "    train_dataset = ISICDataset(CFG.train_img_path, _train, transforms['train'])\n",
    "    train_dataloader = DataLoader(train_dataset, batch_size=CFG.train_batch_size, shuffle=True,  num_workers=4)\n",
    "\n",
    "    _val = train_metadata[train_metadata['fold'] == fold_idx]\n",
    "    val_dataset = ISICDataset(CFG.train_img_path, _val, transforms['val'])\n",
    "    val_dataloader = DataLoader(val_dataset, batch_size=CFG.val_batch_size, shuffle=False, num_workers=4)\n",
    "\n",
    "    _val2 = train_metadata2[train_metadata2['fold'] == fold_idx]\n",
    "    val_dataset2 = ISICDataset(CFG.train_img_path, _val2, transforms['val'])\n",
    "    val_dataloader2 = DataLoader(val_dataset2, batch_size=CFG.val_batch_size, shuffle=False, num_workers=4)\n",
    "\n",
    "    model = ResNet50(CFG.model_name).to(CFG.device)\n",
    "    criterion = nn.CrossEntropyLoss()\n",
    "    optimizer = optim.Adam(model.parameters(), lr=CFG.learning_rate)\n",
    "    t_max = len(train_dataloader) * CFG.max_epochs\n",
    "    scheduler = optim.lr_scheduler.CosineAnnealingLR(optimizer, T_max=t_max, eta_min=1e-6)\n",
    "\n",
    "    trainer = Trainer(\n",
    "        device=CFG.device,\n",
    "        model=model,\n",
    "        criterion=criterion,\n",
    "        optimizer=optimizer,\n",
    "        scheduler=scheduler,\n",
    "        train_dataloader=train_dataloader,\n",
    "        val_dataloader=val_dataloader,\n",
    "        checkpoint_path=CFG.checkpoint_path,\n",
    "        fold_idx=fold_idx,\n",
    "        es_patience=CFG.es_patience\n",
    "    )\n",
    "\n",
    "    history = {\n",
    "        'epoch': [],\n",
    "        'train_pauc': [],\n",
    "        'train_loss': [],\n",
    "        'val_pauc': [],\n",
    "        'val_loss': []\n",
    "    }\n",
    "    for epoch in range(1, CFG.max_epochs + 1):\n",
    "        train_pauc, train_loss = trainer.train(current_epoch_nr=epoch)\n",
    "        val_pauc, val_loss, es_triggered = trainer.evaluate(current_epoch_nr=epoch)\n",
    "\n",
    "        print(f\"Epoch {epoch}: Train pAUC: {train_pauc:.6f} - Val pAUC: {val_pauc:.6f} | Train Loss: {train_loss:.6f} - Val Loss: {val_loss:.6f}\\n\")\n",
    "\n",
    "        history['epoch'].append(epoch)\n",
    "        history['train_pauc'].append(train_pauc)\n",
    "        history['train_loss'].append(train_loss)\n",
    "        history['val_pauc'].append(val_pauc)\n",
    "        history['val_loss'].append(val_loss)\n",
    "\n",
    "        if es_triggered:\n",
    "            break\n",
    "\n",
    "    histories[f'Fold {fold_idx + 1}'] = history\n",
    "\n",
    "    pred_probs = trainer.predict(val_dataloader2)\n",
    "    cols = ['p0', 'p1']\n",
    "    _val2[cols] = pred_probs\n",
    "    oof_pred_probs_df.append(_val2)\n",
    "\n",
    "    del _train, _val, train_dataset, val_dataset, model, criterion, optimizer, scheduler, trainer\n",
    "    gc.collect()\n",
    "    torch.cuda.empty_cache()\n",
    "\n",
    "    print(f'---------------------------------- Fold {fold_idx + 1} ----------------------------------\\n\\n')"
   ]
  },
  {
   "cell_type": "code",
   "execution_count": 12,
   "id": "f9a6d168",
   "metadata": {
    "execution": {
     "iopub.execute_input": "2024-08-10T19:26:31.211802Z",
     "iopub.status.busy": "2024-08-10T19:26:31.210909Z",
     "iopub.status.idle": "2024-08-10T19:26:33.275211Z",
     "shell.execute_reply": "2024-08-10T19:26:33.274323Z"
    },
    "id": "jNqTO4uvCZwF",
    "papermill": {
     "duration": 14.901914,
     "end_time": "2024-08-10T19:26:33.277402",
     "exception": false,
     "start_time": "2024-08-10T19:26:18.375488",
     "status": "completed"
    },
    "tags": []
   },
   "outputs": [
    {
     "data": {
      "text/html": [
       "<div>\n",
       "<style scoped>\n",
       "    .dataframe tbody tr th:only-of-type {\n",
       "        vertical-align: middle;\n",
       "    }\n",
       "\n",
       "    .dataframe tbody tr th {\n",
       "        vertical-align: top;\n",
       "    }\n",
       "\n",
       "    .dataframe thead th {\n",
       "        text-align: right;\n",
       "    }\n",
       "</style>\n",
       "<table border=\"1\" class=\"dataframe\">\n",
       "  <thead>\n",
       "    <tr style=\"text-align: right;\">\n",
       "      <th></th>\n",
       "      <th>isic_id</th>\n",
       "      <th>fold</th>\n",
       "      <th>target</th>\n",
       "      <th>p0</th>\n",
       "      <th>p1</th>\n",
       "    </tr>\n",
       "  </thead>\n",
       "  <tbody>\n",
       "    <tr>\n",
       "      <th>2</th>\n",
       "      <td>ISIC_0015864</td>\n",
       "      <td>0.0</td>\n",
       "      <td>0</td>\n",
       "      <td>0.993868</td>\n",
       "      <td>0.006132</td>\n",
       "    </tr>\n",
       "    <tr>\n",
       "      <th>14</th>\n",
       "      <td>ISIC_0051958</td>\n",
       "      <td>0.0</td>\n",
       "      <td>0</td>\n",
       "      <td>0.994270</td>\n",
       "      <td>0.005730</td>\n",
       "    </tr>\n",
       "    <tr>\n",
       "      <th>20</th>\n",
       "      <td>ISIC_0052068</td>\n",
       "      <td>0.0</td>\n",
       "      <td>0</td>\n",
       "      <td>0.997494</td>\n",
       "      <td>0.002506</td>\n",
       "    </tr>\n",
       "    <tr>\n",
       "      <th>23</th>\n",
       "      <td>ISIC_0052122</td>\n",
       "      <td>0.0</td>\n",
       "      <td>0</td>\n",
       "      <td>0.990815</td>\n",
       "      <td>0.009185</td>\n",
       "    </tr>\n",
       "    <tr>\n",
       "      <th>30</th>\n",
       "      <td>ISIC_0052259</td>\n",
       "      <td>0.0</td>\n",
       "      <td>0</td>\n",
       "      <td>0.995258</td>\n",
       "      <td>0.004742</td>\n",
       "    </tr>\n",
       "  </tbody>\n",
       "</table>\n",
       "</div>"
      ],
      "text/plain": [
       "         isic_id  fold  target        p0        p1\n",
       "2   ISIC_0015864   0.0       0  0.993868  0.006132\n",
       "14  ISIC_0051958   0.0       0  0.994270  0.005730\n",
       "20  ISIC_0052068   0.0       0  0.997494  0.002506\n",
       "23  ISIC_0052122   0.0       0  0.990815  0.009185\n",
       "30  ISIC_0052259   0.0       0  0.995258  0.004742"
      ]
     },
     "execution_count": 12,
     "metadata": {},
     "output_type": "execute_result"
    }
   ],
   "source": [
    "oof_pred_probs_df = pd.concat(oof_pred_probs_df)[['isic_id', 'fold', 'target', 'p0', 'p1']]\n",
    "oof_pred_probs_df.to_csv(f'{CFG.model_name}_oof_preds.csv', index=False)\n",
    "oof_pred_probs_df.head()"
   ]
  },
  {
   "cell_type": "markdown",
   "id": "326e7a3a",
   "metadata": {
    "papermill": {
     "duration": 12.724552,
     "end_time": "2024-08-10T19:26:59.132375",
     "exception": false,
     "start_time": "2024-08-10T19:26:46.407823",
     "status": "completed"
    },
    "tags": []
   },
   "source": [
    "# Results"
   ]
  },
  {
   "cell_type": "code",
   "execution_count": 13,
   "id": "0203b3cc",
   "metadata": {
    "execution": {
     "iopub.execute_input": "2024-08-10T19:27:25.161077Z",
     "iopub.status.busy": "2024-08-10T19:27:25.160398Z",
     "iopub.status.idle": "2024-08-10T19:27:25.172101Z",
     "shell.execute_reply": "2024-08-10T19:27:25.171205Z"
    },
    "id": "Qkcd2V7W-_GW",
    "papermill": {
     "duration": 13.1417,
     "end_time": "2024-08-10T19:27:25.173940",
     "exception": false,
     "start_time": "2024-08-10T19:27:12.032240",
     "status": "completed"
    },
    "tags": []
   },
   "outputs": [],
   "source": [
    "histories = pd.concat([pd.DataFrame(data).assign(Fold=fold) for fold, data in histories.items()])"
   ]
  },
  {
   "cell_type": "code",
   "execution_count": 14,
   "id": "f6e95baa",
   "metadata": {
    "execution": {
     "iopub.execute_input": "2024-08-10T19:27:50.785346Z",
     "iopub.status.busy": "2024-08-10T19:27:50.784969Z",
     "iopub.status.idle": "2024-08-10T19:27:51.813219Z",
     "shell.execute_reply": "2024-08-10T19:27:51.812355Z"
    },
    "id": "lATwCeDXdsHG",
    "papermill": {
     "duration": 14.000782,
     "end_time": "2024-08-10T19:27:51.816822",
     "exception": false,
     "start_time": "2024-08-10T19:27:37.816040",
     "status": "completed"
    },
    "tags": []
   },
   "outputs": [
    {
     "data": {
      "image/png": "[encoded data removed]",
      "text/plain": [
       "<Figure size 1600x600 with 2 Axes>"
      ]
     },
     "metadata": {},
     "output_type": "display_data"
    }
   ],
   "source": [
    "sns.set(style=\"whitegrid\")\n",
    "\n",
    "fig, axes = plt.subplots(1, 2, figsize=(16, 6))\n",
    "\n",
    "sns.lineplot(x='epoch', y='train_pauc', hue='Fold', data=histories, ax=axes[0])\n",
    "axes[0].set_title('Training pAUC')\n",
    "axes[0].set_xlabel('Epoch')\n",
    "axes[0].set_ylabel('pAUC')\n",
    "axes[0].legend(loc='best')\n",
    "\n",
    "sns.lineplot(x='epoch', y='val_pauc', hue='Fold', data=histories, ax=axes[1])\n",
    "axes[1].set_title('Validation pAUC')\n",
    "axes[1].set_xlabel('Epoch')\n",
    "axes[1].set_ylabel('pAUC')\n",
    "axes[1].legend(loc='best')\n",
    "\n",
    "fig.tight_layout()\n",
    "plt.show()"
   ]
  },
  {
   "cell_type": "code",
   "execution_count": 15,
   "id": "91669a73",
   "metadata": {
    "execution": {
     "iopub.execute_input": "2024-08-10T19:28:17.579706Z",
     "iopub.status.busy": "2024-08-10T19:28:17.579318Z",
     "iopub.status.idle": "2024-08-10T19:28:18.547792Z",
     "shell.execute_reply": "2024-08-10T19:28:18.546857Z"
    },
    "id": "iCSgE4wX7NtK",
    "papermill": {
     "duration": 13.947076,
     "end_time": "2024-08-10T19:28:18.550341",
     "exception": false,
     "start_time": "2024-08-10T19:28:04.603265",
     "status": "completed"
    },
    "tags": []
   },
   "outputs": [
    {
     "data": {
      "image/png": "[encoded data removed]",
      "text/plain": [
       "<Figure size 1600x600 with 2 Axes>"
      ]
     },
     "metadata": {},
     "output_type": "display_data"
    }
   ],
   "source": [
    "fig, axes = plt.subplots(1, 2, figsize=(16, 6))\n",
    "\n",
    "sns.lineplot(x='epoch', y='train_loss', hue='Fold', data=histories, ax=axes[0])\n",
    "axes[0].set_title('Training Loss')\n",
    "axes[0].set_xlabel('Epoch')\n",
    "axes[0].set_ylabel('Loss')\n",
    "axes[0].legend(loc='best')\n",
    "\n",
    "sns.lineplot(x='epoch', y='val_loss', hue='Fold', data=histories, ax=axes[1])\n",
    "axes[1].set_title('Validation Loss')\n",
    "axes[1].set_xlabel('Epoch')\n",
    "axes[1].set_ylabel('Loss')\n",
    "axes[1].legend(loc='best')\n",
    "\n",
    "fig.tight_layout()\n",
    "plt.show()"
   ]
  }
 ],
 "metadata": {
  "accelerator": "GPU",
  "colab": {
   "gpuType": "L4",
   "provenance": []
  },
  "kaggle": {
   "accelerator": "gpu",
   "dataSources": [
    {
     "databundleVersionId": 9094797,
     "sourceId": 63056,
     "sourceType": "competition"
    }
   ],
   "dockerImageVersionId": 30747,
   "isGpuEnabled": true,
   "isInternetEnabled": true,
   "language": "python",
   "sourceType": "notebook"
  },
  "kernelspec": {
   "display_name": "Python 3",
   "language": "python",
   "name": "python3"
  },
  "language_info": {
   "codemirror_mode": {
    "name": "ipython",
    "version": 3
   },
   "file_extension": ".py",
   "mimetype": "text/x-python",
   "name": "python",
   "nbconvert_exporter": "python",
   "pygments_lexer": "ipython3",
   "version": "3.10.13"
  },
  "papermill": {
   "default_parameters": {},
   "duration": 29242.362936,
   "end_time": "2024-08-10T19:28:34.427473",
   "environment_variables": {},
   "exception": null,
   "input_path": "__notebook__.ipynb",
   "output_path": "__notebook__.ipynb",
   "parameters": {},
   "start_time": "2024-08-10T11:21:12.064537",
   "version": "2.5.0"
  },
  "widgets": {
   "application/vnd.jupyter.widget-state+json": {
    "state": {
     "08524090ef5e459ea7aca09a37214c96": {
      "model_module": "@jupyter-widgets/base",
      "model_module_version": "1.2.0",
      "model_name": "LayoutModel",
      "state": {
       "_model_module": "@jupyter-widgets/base",
       "_model_module_version": "1.2.0",
       "_model_name": "LayoutModel",
       "_view_count": null,
       "_view_module": "@jupyter-widgets/base",
       "_view_module_version": "1.2.0",
       "_view_name": "LayoutView",
       "align_content": null,
       "align_items": null,
       "align_self": null,
       "border": null,
       "bottom": null,
       "display": null,
       "flex": null,
       "flex_flow": null,
       "grid_area": null,
       "grid_auto_columns": null,
       "grid_auto_flow": null,
       "grid_auto_rows": null,
       "grid_column": null,
       "grid_gap": null,
       "grid_row": null,
       "grid_template_areas": null,
       "grid_template_columns": null,
       "grid_template_rows": null,
       "height": null,
       "justify_content": null,
       "justify_items": null,
       "left": null,
       "margin": null,
       "max_height": null,
       "max_width": null,
       "min_height": null,
       "min_width": null,
       "object_fit": null,
       "object_position": null,
       "order": null,
       "overflow": null,
       "overflow_x": null,
       "overflow_y": null,
       "padding": null,
       "right": null,
       "top": null,
       "visibility": null,
       "width": null
      }
     },
     "18ca0cf338b249f3baf8cd8d9d093b99": {
      "model_module": "@jupyter-widgets/base",
      "model_module_version": "1.2.0",
      "model_name": "LayoutModel",
      "state": {
       "_model_module": "@jupyter-widgets/base",
       "_model_module_version": "1.2.0",
       "_model_name": "LayoutModel",
       "_view_count": null,
       "_view_module": "@jupyter-widgets/base",
       "_view_module_version": "1.2.0",
       "_view_name": "LayoutView",
       "align_content": null,
       "align_items": null,
       "align_self": null,
       "border": null,
       "bottom": null,
       "display": null,
       "flex": null,
       "flex_flow": null,
       "grid_area": null,
       "grid_auto_columns": null,
       "grid_auto_flow": null,
       "grid_auto_rows": null,
       "grid_column": null,
       "grid_gap": null,
       "grid_row": null,
       "grid_template_areas": null,
       "grid_template_columns": null,
       "grid_template_rows": null,
       "height": null,
       "justify_content": null,
       "justify_items": null,
       "left": null,
       "margin": null,
       "max_height": null,
       "max_width": null,
       "min_height": null,
       "min_width": null,
       "object_fit": null,
       "object_position": null,
       "order": null,
       "overflow": null,
       "overflow_x": null,
       "overflow_y": null,
       "padding": null,
       "right": null,
       "top": null,
       "visibility": null,
       "width": null
      }
     },
     "2ece1bafd142458f80ede93fe279f9a8": {
      "model_module": "@jupyter-widgets/base",
      "model_module_version": "1.2.0",
      "model_name": "LayoutModel",
      "state": {
       "_model_module": "@jupyter-widgets/base",
       "_model_module_version": "1.2.0",
       "_model_name": "LayoutModel",
       "_view_count": null,
       "_view_module": "@jupyter-widgets/base",
       "_view_module_version": "1.2.0",
       "_view_name": "LayoutView",
       "align_content": null,
       "align_items": null,
       "align_self": null,
       "border": null,
       "bottom": null,
       "display": null,
       "flex": null,
       "flex_flow": null,
       "grid_area": null,
       "grid_auto_columns": null,
       "grid_auto_flow": null,
       "grid_auto_rows": null,
       "grid_column": null,
       "grid_gap": null,
       "grid_row": null,
       "grid_template_areas": null,
       "grid_template_columns": null,
       "grid_template_rows": null,
       "height": null,
       "justify_content": null,
       "justify_items": null,
       "left": null,
       "margin": null,
       "max_height": null,
       "max_width": null,
       "min_height": null,
       "min_width": null,
       "object_fit": null,
       "object_position": null,
       "order": null,
       "overflow": null,
       "overflow_x": null,
       "overflow_y": null,
       "padding": null,
       "right": null,
       "top": null,
       "visibility": null,
       "width": null
      }
     },
     "329b0e85428d4c1da975b70690ca363d": {
      "model_module": "@jupyter-widgets/controls",
      "model_module_version": "1.5.0",
      "model_name": "HBoxModel",
      "state": {
       "_dom_classes": [],
       "_model_module": "@jupyter-widgets/controls",
       "_model_module_version": "1.5.0",
       "_model_name": "HBoxModel",
       "_view_count": null,
       "_view_module": "@jupyter-widgets/controls",
       "_view_module_version": "1.5.0",
       "_view_name": "HBoxView",
       "box_style": "",
       "children": [
        "IPY_MODEL_f6ed3b9ecad34c75b88a1963089f2a80",
        "IPY_MODEL_482365c7c5bf4dbfa64424acb678a5dc",
        "IPY_MODEL_4df6c3c95552452cac6ef1615fbd8343"
       ],
       "layout": "IPY_MODEL_f940502a8063462493224c9fef67cd17"
      }
     },
     "482365c7c5bf4dbfa64424acb678a5dc": {
      "model_module": "@jupyter-widgets/controls",
      "model_module_version": "1.5.0",
      "model_name": "FloatProgressModel",
      "state": {
       "_dom_classes": [],
       "_model_module": "@jupyter-widgets/controls",
       "_model_module_version": "1.5.0",
       "_model_name": "FloatProgressModel",
       "_view_count": null,
       "_view_module": "@jupyter-widgets/controls",
       "_view_module_version": "1.5.0",
       "_view_name": "ProgressView",
       "bar_style": "success",
       "description": "",
       "description_tooltip": null,
       "layout": "IPY_MODEL_2ece1bafd142458f80ede93fe279f9a8",
       "max": 102469840.0,
       "min": 0.0,
       "orientation": "horizontal",
       "style": "IPY_MODEL_c5e01eaba47747db9dae89e853c4faee",
       "value": 102469840.0
      }
     },
     "4df6c3c95552452cac6ef1615fbd8343": {
      "model_module": "@jupyter-widgets/controls",
      "model_module_version": "1.5.0",
      "model_name": "HTMLModel",
      "state": {
       "_dom_classes": [],
       "_model_module": "@jupyter-widgets/controls",
       "_model_module_version": "1.5.0",
       "_model_name": "HTMLModel",
       "_view_count": null,
       "_view_module": "@jupyter-widgets/controls",
       "_view_module_version": "1.5.0",
       "_view_name": "HTMLView",
       "description": "",
       "description_tooltip": null,
       "layout": "IPY_MODEL_18ca0cf338b249f3baf8cd8d9d093b99",
       "placeholder": "​",
       "style": "IPY_MODEL_f4904ab272c64375b77d5515937a2e3f",
       "value": " 102M/102M [00:01&lt;00:00, 57.7MB/s]"
      }
     },
     "c5e01eaba47747db9dae89e853c4faee": {
      "model_module": "@jupyter-widgets/controls",
      "model_module_version": "1.5.0",
      "model_name": "ProgressStyleModel",
      "state": {
       "_model_module": "@jupyter-widgets/controls",
       "_model_module_version": "1.5.0",
       "_model_name": "ProgressStyleModel",
       "_view_count": null,
       "_view_module": "@jupyter-widgets/base",
       "_view_module_version": "1.2.0",
       "_view_name": "StyleView",
       "bar_color": null,
       "description_width": ""
      }
     },
     "d9aa87fb691b4de9b2ee759b2e404243": {
      "model_module": "@jupyter-widgets/controls",
      "model_module_version": "1.5.0",
      "model_name": "DescriptionStyleModel",
      "state": {
       "_model_module": "@jupyter-widgets/controls",
       "_model_module_version": "1.5.0",
       "_model_name": "DescriptionStyleModel",
       "_view_count": null,
       "_view_module": "@jupyter-widgets/base",
       "_view_module_version": "1.2.0",
       "_view_name": "StyleView",
       "description_width": ""
      }
     },
     "f4904ab272c64375b77d5515937a2e3f": {
      "model_module": "@jupyter-widgets/controls",
      "model_module_version": "1.5.0",
      "model_name": "DescriptionStyleModel",
      "state": {
       "_model_module": "@jupyter-widgets/controls",
       "_model_module_version": "1.5.0",
       "_model_name": "DescriptionStyleModel",
       "_view_count": null,
       "_view_module": "@jupyter-widgets/base",
       "_view_module_version": "1.2.0",
       "_view_name": "StyleView",
       "description_width": ""
      }
     },
     "f6ed3b9ecad34c75b88a1963089f2a80": {
      "model_module": "@jupyter-widgets/controls",
      "model_module_version": "1.5.0",
      "model_name": "HTMLModel",
      "state": {
       "_dom_classes": [],
       "_model_module": "@jupyter-widgets/controls",
       "_model_module_version": "1.5.0",
       "_model_name": "HTMLModel",
       "_view_count": null,
       "_view_module": "@jupyter-widgets/controls",
       "_view_module_version": "1.5.0",
       "_view_name": "HTMLView",
       "description": "",
       "description_tooltip": null,
       "layout": "IPY_MODEL_08524090ef5e459ea7aca09a37214c96",
       "placeholder": "​",
       "style": "IPY_MODEL_d9aa87fb691b4de9b2ee759b2e404243",
       "value": "model.safetensors: 100%"
      }
     },
     "f940502a8063462493224c9fef67cd17": {
      "model_module": "@jupyter-widgets/base",
      "model_module_version": "1.2.0",
      "model_name": "LayoutModel",
      "state": {
       "_model_module": "@jupyter-widgets/base",
       "_model_module_version": "1.2.0",
       "_model_name": "LayoutModel",
       "_view_count": null,
       "_view_module": "@jupyter-widgets/base",
       "_view_module_version": "1.2.0",
       "_view_name": "LayoutView",
       "align_content": null,
       "align_items": null,
       "align_self": null,
       "border": null,
       "bottom": null,
       "display": null,
       "flex": null,
       "flex_flow": null,
       "grid_area": null,
       "grid_auto_columns": null,
       "grid_auto_flow": null,
       "grid_auto_rows": null,
       "grid_column": null,
       "grid_gap": null,
       "grid_row": null,
       "grid_template_areas": null,
       "grid_template_columns": null,
       "grid_template_rows": null,
       "height": null,
       "justify_content": null,
       "justify_items": null,
       "left": null,
       "margin": null,
       "max_height": null,
       "max_width": null,
       "min_height": null,
       "min_width": null,
       "object_fit": null,
       "object_position": null,
       "order": null,
       "overflow": null,
       "overflow_x": null,
       "overflow_y": null,
       "padding": null,
       "right": null,
       "top": null,
       "visibility": null,
       "width": null
      }
     }
    },
    "version_major": 2,
    "version_minor": 0
   }
  }
 },
 "nbformat": 4,
 "nbformat_minor": 5
}
