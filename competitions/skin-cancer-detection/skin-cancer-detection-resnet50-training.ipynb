{
 "cells": [
  {
   "cell_type": "markdown",
   "id": "4250d326",
   "metadata": {
    "papermill": {
     "duration": 0.005894,
     "end_time": "2024-08-17T14:39:03.238303",
     "exception": false,
     "start_time": "2024-08-17T14:39:03.232409",
     "status": "completed"
    },
    "tags": []
   },
   "source": [
    "### Inference notebook:\n",
    "- https://www.kaggle.com/code/ravaghi/skin-cancer-detection-resnet50-inference"
   ]
  },
  {
   "cell_type": "markdown",
   "id": "0f20d5d2",
   "metadata": {
    "id": "1dDypZ7k-v-d",
    "papermill": {
     "duration": 0.005129,
     "end_time": "2024-08-17T14:39:03.249051",
     "exception": false,
     "start_time": "2024-08-17T14:39:03.243922",
     "status": "completed"
    },
    "tags": []
   },
   "source": [
    "# Imports and configs"
   ]
  },
  {
   "cell_type": "code",
   "execution_count": 1,
   "id": "a3f12b9a",
   "metadata": {
    "execution": {
     "iopub.execute_input": "2024-08-17T14:39:03.261081Z",
     "iopub.status.busy": "2024-08-17T14:39:03.260773Z",
     "iopub.status.idle": "2024-08-17T14:39:12.145461Z",
     "shell.execute_reply": "2024-08-17T14:39:12.144649Z"
    },
    "id": "mqguadtYvxPn",
    "papermill": {
     "duration": 8.893521,
     "end_time": "2024-08-17T14:39:12.147838",
     "exception": false,
     "start_time": "2024-08-17T14:39:03.254317",
     "status": "completed"
    },
    "tags": []
   },
   "outputs": [],
   "source": [
    "from sklearn.model_selection import StratifiedGroupKFold\n",
    "from sklearn.metrics import roc_curve, auc\n",
    "from torch.utils.data import DataLoader, Dataset\n",
    "from albumentations.pytorch import ToTensorV2\n",
    "import matplotlib.pyplot as plt\n",
    "import torch.optim as optim\n",
    "import torch.nn.functional as F\n",
    "import albumentations as A\n",
    "import seaborn as sns\n",
    "from tqdm import tqdm\n",
    "from PIL import Image\n",
    "import torch.nn as nn\n",
    "import pandas as pd\n",
    "import numpy as np\n",
    "import warnings\n",
    "import h5py\n",
    "import torch\n",
    "import random\n",
    "import timm\n",
    "import io\n",
    "import os\n",
    "import gc\n",
    "\n",
    "warnings.filterwarnings('ignore')"
   ]
  },
  {
   "cell_type": "code",
   "execution_count": 2,
   "id": "94273490",
   "metadata": {
    "execution": {
     "iopub.execute_input": "2024-08-17T14:39:12.161041Z",
     "iopub.status.busy": "2024-08-17T14:39:12.160711Z",
     "iopub.status.idle": "2024-08-17T14:39:12.222343Z",
     "shell.execute_reply": "2024-08-17T14:39:12.221391Z"
    },
    "id": "xOBgLd7--v-h",
    "papermill": {
     "duration": 0.070296,
     "end_time": "2024-08-17T14:39:12.224383",
     "exception": false,
     "start_time": "2024-08-17T14:39:12.154087",
     "status": "completed"
    },
    "tags": []
   },
   "outputs": [],
   "source": [
    "class CFG:\n",
    "    train_metadata_path = '/kaggle/input/isic-2024-challenge/train-metadata.csv'\n",
    "    test_metadata_path = '/kaggle/input/isic-2024-challenge/test-metadata.csv'\n",
    "    train_img_path = '/kaggle/input/isic-2024-challenge/train-image.hdf5'\n",
    "    test_img_path = '/kaggle/input/isic-2024-challenge/test-image.hdf5'\n",
    "    sample_sub_path = '/kaggle/input/isic-2024-challenge/sample_submission.csv'\n",
    "    checkpoint_path = '/kaggle/working/checkpoints'\n",
    "\n",
    "    device = torch.device('cuda' if torch.cuda.is_available() else 'cpu')\n",
    "    max_epochs = 50\n",
    "    learning_rate = 1e-4\n",
    "    train_batch_size = 32\n",
    "    val_batch_size = 64\n",
    "    n_folds = 5\n",
    "    seed = 35555\n",
    "    model_name = \"resnet50\"\n",
    "    es_patience = 10"
   ]
  },
  {
   "cell_type": "code",
   "execution_count": 3,
   "id": "cfff8cc9",
   "metadata": {
    "execution": {
     "iopub.execute_input": "2024-08-17T14:39:12.237628Z",
     "iopub.status.busy": "2024-08-17T14:39:12.236954Z",
     "iopub.status.idle": "2024-08-17T14:39:12.244515Z",
     "shell.execute_reply": "2024-08-17T14:39:12.243824Z"
    },
    "id": "5a6g1bxI-v-i",
    "papermill": {
     "duration": 0.01605,
     "end_time": "2024-08-17T14:39:12.246361",
     "exception": false,
     "start_time": "2024-08-17T14:39:12.230311",
     "status": "completed"
    },
    "tags": []
   },
   "outputs": [],
   "source": [
    "def seed_everything(seed):\n",
    "    random.seed(seed)\n",
    "    os.environ['PYTHONHASHSEED'] = str(seed)\n",
    "    np.random.seed(seed)\n",
    "    torch.manual_seed(seed)\n",
    "    torch.cuda.manual_seed(seed)\n",
    "    torch.backends.cudnn.deterministic = True\n",
    "    torch.backends.cudnn.benchmark = False\n",
    "\n",
    "seed_everything(CFG.seed)"
   ]
  },
  {
   "cell_type": "markdown",
   "id": "ff5d2a52",
   "metadata": {
    "id": "vM_js2t2-v-i",
    "papermill": {
     "duration": 0.005411,
     "end_time": "2024-08-17T14:39:12.257509",
     "exception": false,
     "start_time": "2024-08-17T14:39:12.252098",
     "status": "completed"
    },
    "tags": []
   },
   "source": [
    "# Loading and splitting the datasets"
   ]
  },
  {
   "cell_type": "code",
   "execution_count": 4,
   "id": "3d453ca8",
   "metadata": {
    "execution": {
     "iopub.execute_input": "2024-08-17T14:39:12.270021Z",
     "iopub.status.busy": "2024-08-17T14:39:12.269724Z",
     "iopub.status.idle": "2024-08-17T14:39:19.706972Z",
     "shell.execute_reply": "2024-08-17T14:39:19.706163Z"
    },
    "id": "X7yXnRQG-v-i",
    "papermill": {
     "duration": 7.446073,
     "end_time": "2024-08-17T14:39:19.709223",
     "exception": false,
     "start_time": "2024-08-17T14:39:12.263150",
     "status": "completed"
    },
    "tags": []
   },
   "outputs": [],
   "source": [
    "train_metadata = pd.read_csv(CFG.train_metadata_path)\n",
    "\n",
    "positives = train_metadata[train_metadata.target == 1]\n",
    "negatives = train_metadata[train_metadata.target == 0]\n",
    "train_metadata = pd.concat([positives, negatives.sample(n=20 * len(positives), random_state=CFG.seed)])\n",
    "train_metadata = train_metadata.sample(frac=1, random_state=CFG.seed).reset_index(drop=True)"
   ]
  },
  {
   "cell_type": "code",
   "execution_count": 5,
   "id": "f86be10f",
   "metadata": {
    "execution": {
     "iopub.execute_input": "2024-08-17T14:39:19.722313Z",
     "iopub.status.busy": "2024-08-17T14:39:19.722036Z",
     "iopub.status.idle": "2024-08-17T14:39:20.162975Z",
     "shell.execute_reply": "2024-08-17T14:39:20.162216Z"
    },
    "id": "BhUgevhz-v-i",
    "papermill": {
     "duration": 0.450069,
     "end_time": "2024-08-17T14:39:20.165317",
     "exception": false,
     "start_time": "2024-08-17T14:39:19.715248",
     "status": "completed"
    },
    "tags": []
   },
   "outputs": [],
   "source": [
    "sgkf = StratifiedGroupKFold(n_splits=CFG.n_folds, random_state=CFG.seed, shuffle=True)\n",
    "split = sgkf.split(train_metadata, train_metadata.target, groups=train_metadata.patient_id)\n",
    "for i, (_, val_index) in enumerate(split):\n",
    "    train_metadata.loc[val_index, 'fold'] = i"
   ]
  },
  {
   "cell_type": "code",
   "execution_count": 6,
   "id": "128a6a56",
   "metadata": {
    "execution": {
     "iopub.execute_input": "2024-08-17T14:39:20.178363Z",
     "iopub.status.busy": "2024-08-17T14:39:20.178078Z",
     "iopub.status.idle": "2024-08-17T14:39:27.067782Z",
     "shell.execute_reply": "2024-08-17T14:39:27.066514Z"
    },
    "id": "IF-0HJKr5Ub-",
    "papermill": {
     "duration": 6.898925,
     "end_time": "2024-08-17T14:39:27.070345",
     "exception": false,
     "start_time": "2024-08-17T14:39:20.171420",
     "status": "completed"
    },
    "tags": []
   },
   "outputs": [],
   "source": [
    "train_metadata2 = pd.read_csv(CFG.train_metadata_path)\n",
    "\n",
    "sgkf = StratifiedGroupKFold(n_splits=CFG.n_folds, random_state=CFG.seed, shuffle=True)\n",
    "split = sgkf.split(train_metadata2, train_metadata2.target, groups=train_metadata2.patient_id)\n",
    "for i, (_, val_index) in enumerate(split):\n",
    "    train_metadata2.loc[val_index, 'fold'] = i"
   ]
  },
  {
   "cell_type": "markdown",
   "id": "8a33acac",
   "metadata": {
    "id": "D6JNsMWX-v-i",
    "papermill": {
     "duration": 0.006695,
     "end_time": "2024-08-17T14:39:27.083387",
     "exception": false,
     "start_time": "2024-08-17T14:39:27.076692",
     "status": "completed"
    },
    "tags": []
   },
   "source": [
    "# Creating a custom image dataset"
   ]
  },
  {
   "cell_type": "code",
   "execution_count": 7,
   "id": "0fb35467",
   "metadata": {
    "execution": {
     "iopub.execute_input": "2024-08-17T14:39:27.097101Z",
     "iopub.status.busy": "2024-08-17T14:39:27.096469Z",
     "iopub.status.idle": "2024-08-17T14:39:27.104505Z",
     "shell.execute_reply": "2024-08-17T14:39:27.103608Z"
    },
    "id": "DxAgokRgvxPr",
    "papermill": {
     "duration": 0.016944,
     "end_time": "2024-08-17T14:39:27.106573",
     "exception": false,
     "start_time": "2024-08-17T14:39:27.089629",
     "status": "completed"
    },
    "tags": []
   },
   "outputs": [],
   "source": [
    "class ISICDataset(Dataset):\n",
    "    def __init__(self, data_path, metadata, transform=None):\n",
    "        self.data = h5py.File(data_path, 'r')\n",
    "        self.metadata = metadata\n",
    "        self.transform = transform\n",
    "\n",
    "    def __len__(self):\n",
    "        return len(self.metadata)\n",
    "\n",
    "    def __getitem__(self, idx):\n",
    "        img_name = self.metadata.iloc[idx]['isic_id']\n",
    "        image = np.array(self.data[img_name])\n",
    "        image = np.array(Image.open(io.BytesIO(image)), dtype=np.float32)\n",
    "\n",
    "        if self.transform:\n",
    "            augmented = self.transform(image=image)\n",
    "            image = augmented['image']\n",
    "\n",
    "        if 'target' in self.metadata.columns:\n",
    "            label = int(self.metadata['target'].iloc[idx])\n",
    "            return image, label\n",
    "        else:\n",
    "            return image, 0"
   ]
  },
  {
   "cell_type": "code",
   "execution_count": 8,
   "id": "b12242d7",
   "metadata": {
    "execution": {
     "iopub.execute_input": "2024-08-17T14:39:27.119560Z",
     "iopub.status.busy": "2024-08-17T14:39:27.119236Z",
     "iopub.status.idle": "2024-08-17T14:39:27.128973Z",
     "shell.execute_reply": "2024-08-17T14:39:27.128106Z"
    },
    "id": "6tUJogKp-v-j",
    "papermill": {
     "duration": 0.018369,
     "end_time": "2024-08-17T14:39:27.130900",
     "exception": false,
     "start_time": "2024-08-17T14:39:27.112531",
     "status": "completed"
    },
    "tags": []
   },
   "outputs": [],
   "source": [
    "# Reference: https://www.kaggle.com/code/motono0223/isic-pytorch-training-baseline-image-only\n",
    "\n",
    "transforms = {\n",
    "    \"train\": A.Compose([\n",
    "        A.Resize(224, 224),\n",
    "        A.RandomRotate90(p=0.5),\n",
    "        A.Flip(p=0.5),\n",
    "        A.Downscale(p=0.25),\n",
    "        A.ShiftScaleRotate(\n",
    "            shift_limit=0.1,\n",
    "            scale_limit=0.15,\n",
    "            rotate_limit=60,\n",
    "            p=0.5\n",
    "        ),\n",
    "        A.HueSaturationValue(\n",
    "            hue_shift_limit=0.2,\n",
    "            sat_shift_limit=0.2,\n",
    "            val_shift_limit=0.2,\n",
    "            p=0.5\n",
    "        ),\n",
    "        A.RandomBrightnessContrast(\n",
    "            brightness_limit=(-0.1, 0.1),\n",
    "            contrast_limit=(-0.1, 0.1),\n",
    "            p=0.5\n",
    "        ),\n",
    "        A.Normalize(\n",
    "            mean=[0.485, 0.456, 0.406],\n",
    "            std=[0.229, 0.224, 0.225],\n",
    "            max_pixel_value=255.0,\n",
    "            p=1.0\n",
    "        ),\n",
    "        ToTensorV2()], p=1.),\n",
    "\n",
    "    \"val\": A.Compose([\n",
    "        A.Resize(224, 224),\n",
    "        A.Normalize(\n",
    "            mean=[0.485, 0.456, 0.406],\n",
    "            std=[0.229, 0.224, 0.225],\n",
    "            max_pixel_value=255.0,\n",
    "            p=1.0\n",
    "        ),\n",
    "        ToTensorV2()], p=1.)\n",
    "}"
   ]
  },
  {
   "cell_type": "markdown",
   "id": "416ccf12",
   "metadata": {
    "id": "QSzebgg8-v-j",
    "papermill": {
     "duration": 0.0057,
     "end_time": "2024-08-17T14:39:27.142624",
     "exception": false,
     "start_time": "2024-08-17T14:39:27.136924",
     "status": "completed"
    },
    "tags": []
   },
   "source": [
    "# Customizing the image model"
   ]
  },
  {
   "cell_type": "code",
   "execution_count": 9,
   "id": "932373b2",
   "metadata": {
    "execution": {
     "iopub.execute_input": "2024-08-17T14:39:27.156564Z",
     "iopub.status.busy": "2024-08-17T14:39:27.156208Z",
     "iopub.status.idle": "2024-08-17T14:39:27.161921Z",
     "shell.execute_reply": "2024-08-17T14:39:27.161060Z"
    },
    "id": "uhUwzYAHRelB",
    "papermill": {
     "duration": 0.014502,
     "end_time": "2024-08-17T14:39:27.163786",
     "exception": false,
     "start_time": "2024-08-17T14:39:27.149284",
     "status": "completed"
    },
    "tags": []
   },
   "outputs": [],
   "source": [
    "class ResNet50(nn.Module):\n",
    "    def __init__(self, model_name, num_classes=2, pretrained=True):\n",
    "        super(ResNet50, self).__init__()\n",
    "        self.model = timm.create_model(model_name, pretrained=pretrained, in_chans=3)\n",
    "        self.model.reset_classifier(num_classes=num_classes, global_pool='avg')\n",
    "\n",
    "    def forward(self, x):\n",
    "        return self.model(x)"
   ]
  },
  {
   "cell_type": "markdown",
   "id": "e5ce3fdb",
   "metadata": {
    "id": "NbENY6cl-v-j",
    "papermill": {
     "duration": 0.005753,
     "end_time": "2024-08-17T14:39:27.175667",
     "exception": false,
     "start_time": "2024-08-17T14:39:27.169914",
     "status": "completed"
    },
    "tags": []
   },
   "source": [
    "# Creating a trainer class"
   ]
  },
  {
   "cell_type": "code",
   "execution_count": 10,
   "id": "3e985b65",
   "metadata": {
    "execution": {
     "iopub.execute_input": "2024-08-17T14:39:27.189356Z",
     "iopub.status.busy": "2024-08-17T14:39:27.189068Z",
     "iopub.status.idle": "2024-08-17T14:39:27.217162Z",
     "shell.execute_reply": "2024-08-17T14:39:27.216245Z"
    },
    "id": "yWUV5TeWvxPs",
    "papermill": {
     "duration": 0.03746,
     "end_time": "2024-08-17T14:39:27.219083",
     "exception": false,
     "start_time": "2024-08-17T14:39:27.181623",
     "status": "completed"
    },
    "tags": []
   },
   "outputs": [],
   "source": [
    "class Trainer:\n",
    "    def __init__(\n",
    "        self,\n",
    "        device,\n",
    "        model,\n",
    "        criterion,\n",
    "        optimizer,\n",
    "        scheduler,\n",
    "        train_dataloader,\n",
    "        val_dataloader,\n",
    "        checkpoint_path,\n",
    "        fold_idx,\n",
    "        es_patience\n",
    "    ):\n",
    "        self.device = device\n",
    "        self.model = model\n",
    "        self.criterion = criterion\n",
    "        self.optimizer = optimizer\n",
    "        self.scheduler = scheduler\n",
    "        self.train_dataloader = train_dataloader\n",
    "        self.val_dataloader = val_dataloader\n",
    "        self.checkpoint_path = checkpoint_path\n",
    "        self.best_pauc = 0.0\n",
    "        self.best_model_path = None\n",
    "        self.fold_idx = fold_idx\n",
    "        self.es_patience = es_patience\n",
    "        self.create_checkpoint_path()\n",
    "\n",
    "    def create_checkpoint_path(self):\n",
    "        if not os.path.exists(self.checkpoint_path):\n",
    "            os.makedirs(self.checkpoint_path)\n",
    "\n",
    "    @staticmethod\n",
    "    def p_roc_auc_score(y_true, y_preds, min_tpr: float = 0.80):\n",
    "        v_gt = abs(np.asarray(y_true)-1)\n",
    "        v_pred = -1.0 * np.asarray(y_preds)\n",
    "        max_fpr = abs(1-min_tpr)\n",
    "        fpr, tpr, _ = roc_curve(v_gt, v_pred, sample_weight=None)\n",
    "        if max_fpr is None or max_fpr == 1:\n",
    "            return auc(fpr, tpr)\n",
    "        if max_fpr <= 0 or max_fpr > 1:\n",
    "            raise ValueError(\"Expected min_tpr in range [0, 1), got: %r\" % min_tpr)\n",
    "        stop = np.searchsorted(fpr, max_fpr, \"right\")\n",
    "        x_interp = [fpr[stop - 1], fpr[stop]]\n",
    "        y_interp = [tpr[stop - 1], tpr[stop]]\n",
    "        tpr = np.append(tpr[:stop], np.interp(max_fpr, x_interp, y_interp))\n",
    "        fpr = np.append(fpr[:stop], max_fpr)\n",
    "        partial_auc = auc(fpr, tpr)\n",
    "        return partial_auc\n",
    "\n",
    "    def train(self, current_epoch_nr):\n",
    "        self.model.train()\n",
    "\n",
    "        num_batches = len(self.train_dataloader)\n",
    "\n",
    "        running_loss = 0.0\n",
    "        total = 0\n",
    "\n",
    "        preds = []\n",
    "        targets = []\n",
    "\n",
    "        loop = tqdm(self.train_dataloader, total=num_batches)\n",
    "        for batch in loop:\n",
    "            x, y = batch\n",
    "            x, y = x.to(self.device), y.to(self.device)\n",
    "\n",
    "            self.optimizer.zero_grad()\n",
    "\n",
    "            y_hat = self.model(x)\n",
    "            pred_probs = F.softmax(y_hat, dim=1)\n",
    "\n",
    "            preds.extend(pred_probs[:, 1].detach().cpu().numpy())\n",
    "            targets.extend(y.detach().cpu().numpy())\n",
    "\n",
    "            loss = self.criterion(y_hat, y)\n",
    "            loss.backward()\n",
    "            self.optimizer.step()\n",
    "\n",
    "            running_loss += loss.item() * x.size(0)\n",
    "            total += y.size(0)\n",
    "\n",
    "            loop.set_description(f'Epoch {current_epoch_nr}')\n",
    "            loop.set_postfix(train_loss=round(running_loss / total, 6))\n",
    "\n",
    "            if self.scheduler is not None:\n",
    "                self.scheduler.step()\n",
    "\n",
    "        train_pauc = self.p_roc_auc_score(targets, preds)\n",
    "        train_loss = running_loss / num_batches\n",
    "\n",
    "        return train_pauc, train_loss\n",
    "\n",
    "    def evaluate(self, current_epoch_nr):\n",
    "        self.model.eval()\n",
    "\n",
    "        num_batches = len(self.val_dataloader)\n",
    "\n",
    "        running_loss = 0.0\n",
    "        total = 0\n",
    "\n",
    "        preds = []\n",
    "        targets = []\n",
    "\n",
    "        with torch.no_grad():\n",
    "            loop = tqdm(self.val_dataloader, total=num_batches)\n",
    "            for batch in loop:\n",
    "                x, y = batch\n",
    "                x, y = x.to(self.device), y.to(self.device)\n",
    "\n",
    "                self.optimizer.zero_grad()\n",
    "\n",
    "                y_hat = self.model(x)\n",
    "                pred_probs = F.softmax(y_hat, dim=1)\n",
    "\n",
    "                preds.extend(pred_probs[:, 1].detach().cpu().numpy())\n",
    "                targets.extend(y.detach().cpu().numpy())\n",
    "\n",
    "                loss = self.criterion(y_hat, y)\n",
    "                running_loss += loss.item() * x.size(0)\n",
    "                total += y.size(0)\n",
    "\n",
    "                loop.set_description(f'Epoch {current_epoch_nr}')\n",
    "                loop.set_postfix(val_loss=round(running_loss / total, 6))\n",
    "\n",
    "        val_pauc = self.p_roc_auc_score(targets, preds)\n",
    "        val_loss = running_loss / num_batches\n",
    "\n",
    "        if val_pauc > self.best_pauc:\n",
    "            self.es_patience = CFG.es_patience\n",
    "            if self.best_pauc != 0.0:\n",
    "                print(f'New best model found: pAUC = {val_pauc:.6f} (previous best: {self.best_pauc:.6f})')\n",
    "            self.best_pauc = val_pauc\n",
    "            checkpoint_name = f'fold_{self.fold_idx}_epoch_{current_epoch_nr}_pauc_{round(val_pauc, 6)}.pth'\n",
    "\n",
    "            for file in os.listdir(self.checkpoint_path):\n",
    "                if file.startswith(f'fold_{self.fold_idx}_epoch_'):\n",
    "                    os.remove(os.path.join(self.checkpoint_path, file))\n",
    "\n",
    "            torch.save(\n",
    "                self.model.state_dict(),\n",
    "                os.path.join(self.checkpoint_path, checkpoint_name)\n",
    "            )\n",
    "            self.best_model_path = os.path.join(\n",
    "                self.checkpoint_path, checkpoint_name)\n",
    "\n",
    "        else:\n",
    "            self.es_patience -= 1\n",
    "            if self.es_patience == 0:\n",
    "                print(f'Early stopping triggered at epoch {current_epoch_nr}. Best pAUC = {self.best_pauc:.6f}')\n",
    "                return val_pauc, val_loss, True\n",
    "\n",
    "        return val_pauc, val_loss, False\n",
    "\n",
    "    def predict(self, dataloader):\n",
    "        model = self.model.to(self.device)\n",
    "        model.load_state_dict(torch.load(self.best_model_path))\n",
    "        model.eval()\n",
    "\n",
    "        preds = []\n",
    "        with torch.no_grad():\n",
    "            loop = tqdm(dataloader, total=len(dataloader))\n",
    "            for batch in loop:\n",
    "                x, _ = batch\n",
    "                x = x.to(self.device)\n",
    "                y_hat = model(x)\n",
    "                pred_probs = F.softmax(y_hat, dim=1)\n",
    "                preds.extend(pred_probs.detach().cpu().numpy())\n",
    "                loop.set_description(f'Prediction')\n",
    "\n",
    "        return preds"
   ]
  },
  {
   "cell_type": "markdown",
   "id": "e19dcd06",
   "metadata": {
    "id": "uE7oYGyR-v-j",
    "papermill": {
     "duration": 0.005982,
     "end_time": "2024-08-17T14:39:27.231316",
     "exception": false,
     "start_time": "2024-08-17T14:39:27.225334",
     "status": "completed"
    },
    "tags": []
   },
   "source": [
    "# Training and cross-validation"
   ]
  },
  {
   "cell_type": "code",
   "execution_count": 11,
   "id": "da8aab36",
   "metadata": {
    "_kg_hide-output": true,
    "execution": {
     "iopub.execute_input": "2024-08-17T14:39:27.244857Z",
     "iopub.status.busy": "2024-08-17T14:39:27.244541Z",
     "iopub.status.idle": "2024-08-17T22:17:06.702342Z",
     "shell.execute_reply": "2024-08-17T22:17:06.701411Z"
    },
    "id": "z6ry0OmfyEmZ",
    "outputId": "be79b77b-0941-4759-b0c8-635e6c72b19e",
    "papermill": {
     "duration": 27466.970923,
     "end_time": "2024-08-17T22:17:14.208288",
     "exception": false,
     "start_time": "2024-08-17T14:39:27.237365",
     "status": "completed"
    },
    "tags": []
   },
   "outputs": [
    {
     "name": "stdout",
     "output_type": "stream",
     "text": [
      "---------------------------------- Fold 1 ----------------------------------\n"
     ]
    },
    {
     "data": {
      "application/vnd.jupyter.widget-view+json": {
       "model_id": "2d928670f2664804895298a8c547dcf2",
       "version_major": 2,
       "version_minor": 0
      },
      "text/plain": [
       "model.safetensors:   0%|          | 0.00/102M [00:00<?, ?B/s]"
      ]
     },
     "metadata": {},
     "output_type": "display_data"
    },
    {
     "name": "stderr",
     "output_type": "stream",
     "text": [
      "Epoch 1: 100%|██████████| 209/209 [02:13<00:00,  1.56it/s, train_loss=0.244]\n",
      "Epoch 1: 100%|██████████| 25/25 [00:03<00:00,  6.77it/s, val_loss=0.168]\n"
     ]
    },
    {
     "name": "stdout",
     "output_type": "stream",
     "text": [
      "Epoch 1: Train pAUC: 0.022008 - Val pAUC: 0.029528 | Train Loss: 7.763242 - Val Loss: 10.698905\n",
      "\n"
     ]
    },
    {
     "name": "stderr",
     "output_type": "stream",
     "text": [
      "Epoch 2: 100%|██████████| 209/209 [02:12<00:00,  1.58it/s, train_loss=0.196]\n",
      "Epoch 2: 100%|██████████| 25/25 [00:03<00:00,  7.40it/s, val_loss=0.162]\n"
     ]
    },
    {
     "name": "stdout",
     "output_type": "stream",
     "text": [
      "New best model found: pAUC = 0.047828 (previous best: 0.029528)\n",
      "Epoch 2: Train pAUC: 0.026744 - Val pAUC: 0.047828 | Train Loss: 6.249670 - Val Loss: 10.332029\n",
      "\n"
     ]
    },
    {
     "name": "stderr",
     "output_type": "stream",
     "text": [
      "Epoch 3: 100%|██████████| 209/209 [02:12<00:00,  1.58it/s, train_loss=0.195]\n",
      "Epoch 3: 100%|██████████| 25/25 [00:03<00:00,  7.35it/s, val_loss=0.161]\n"
     ]
    },
    {
     "name": "stdout",
     "output_type": "stream",
     "text": [
      "New best model found: pAUC = 0.062941 (previous best: 0.047828)\n",
      "Epoch 3: Train pAUC: 0.030094 - Val pAUC: 0.062941 | Train Loss: 6.201594 - Val Loss: 10.238343\n",
      "\n"
     ]
    },
    {
     "name": "stderr",
     "output_type": "stream",
     "text": [
      "Epoch 4: 100%|██████████| 209/209 [02:12<00:00,  1.58it/s, train_loss=0.186]\n",
      "Epoch 4: 100%|██████████| 25/25 [00:03<00:00,  7.37it/s, val_loss=0.151]\n"
     ]
    },
    {
     "name": "stdout",
     "output_type": "stream",
     "text": [
      "Epoch 4: Train pAUC: 0.050102 - Val pAUC: 0.055455 | Train Loss: 5.918973 - Val Loss: 9.634905\n",
      "\n"
     ]
    },
    {
     "name": "stderr",
     "output_type": "stream",
     "text": [
      "Epoch 5: 100%|██████████| 209/209 [02:12<00:00,  1.58it/s, train_loss=0.174]\n",
      "Epoch 5: 100%|██████████| 25/25 [00:03<00:00,  7.28it/s, val_loss=0.158]\n"
     ]
    },
    {
     "name": "stdout",
     "output_type": "stream",
     "text": [
      "New best model found: pAUC = 0.065291 (previous best: 0.062941)\n",
      "Epoch 5: Train pAUC: 0.065630 - Val pAUC: 0.065291 | Train Loss: 5.538768 - Val Loss: 10.066680\n",
      "\n"
     ]
    },
    {
     "name": "stderr",
     "output_type": "stream",
     "text": [
      "Epoch 6: 100%|██████████| 209/209 [02:12<00:00,  1.58it/s, train_loss=0.173]\n",
      "Epoch 6: 100%|██████████| 25/25 [00:03<00:00,  7.46it/s, val_loss=0.146]\n"
     ]
    },
    {
     "name": "stdout",
     "output_type": "stream",
     "text": [
      "New best model found: pAUC = 0.069246 (previous best: 0.065291)\n",
      "Epoch 6: Train pAUC: 0.060898 - Val pAUC: 0.069246 | Train Loss: 5.525241 - Val Loss: 9.279743\n",
      "\n"
     ]
    },
    {
     "name": "stderr",
     "output_type": "stream",
     "text": [
      "Epoch 7: 100%|██████████| 209/209 [02:12<00:00,  1.58it/s, train_loss=0.174]\n",
      "Epoch 7: 100%|██████████| 25/25 [00:03<00:00,  7.46it/s, val_loss=0.151]\n"
     ]
    },
    {
     "name": "stdout",
     "output_type": "stream",
     "text": [
      "Epoch 7: Train pAUC: 0.059958 - Val pAUC: 0.064938 | Train Loss: 5.551812 - Val Loss: 9.591415\n",
      "\n"
     ]
    },
    {
     "name": "stderr",
     "output_type": "stream",
     "text": [
      "Epoch 8: 100%|██████████| 209/209 [02:12<00:00,  1.58it/s, train_loss=0.166]\n",
      "Epoch 8: 100%|██████████| 25/25 [00:03<00:00,  7.37it/s, val_loss=0.143]\n"
     ]
    },
    {
     "name": "stdout",
     "output_type": "stream",
     "text": [
      "New best model found: pAUC = 0.072333 (previous best: 0.069246)\n",
      "Epoch 8: Train pAUC: 0.070827 - Val pAUC: 0.072333 | Train Loss: 5.301683 - Val Loss: 9.077581\n",
      "\n"
     ]
    },
    {
     "name": "stderr",
     "output_type": "stream",
     "text": [
      "Epoch 9: 100%|██████████| 209/209 [02:12<00:00,  1.58it/s, train_loss=0.166]\n",
      "Epoch 9: 100%|██████████| 25/25 [00:03<00:00,  7.43it/s, val_loss=0.135]\n"
     ]
    },
    {
     "name": "stdout",
     "output_type": "stream",
     "text": [
      "New best model found: pAUC = 0.072353 (previous best: 0.072333)\n",
      "Epoch 9: Train pAUC: 0.082731 - Val pAUC: 0.072353 | Train Loss: 5.295858 - Val Loss: 8.587551\n",
      "\n"
     ]
    },
    {
     "name": "stderr",
     "output_type": "stream",
     "text": [
      "Epoch 10: 100%|██████████| 209/209 [02:12<00:00,  1.58it/s, train_loss=0.164]\n",
      "Epoch 10: 100%|██████████| 25/25 [00:03<00:00,  7.15it/s, val_loss=0.148]\n"
     ]
    },
    {
     "name": "stdout",
     "output_type": "stream",
     "text": [
      "Epoch 10: Train pAUC: 0.072914 - Val pAUC: 0.063536 | Train Loss: 5.225863 - Val Loss: 9.384813\n",
      "\n"
     ]
    },
    {
     "name": "stderr",
     "output_type": "stream",
     "text": [
      "Epoch 11: 100%|██████████| 209/209 [02:12<00:00,  1.58it/s, train_loss=0.16]\n",
      "Epoch 11: 100%|██████████| 25/25 [00:03<00:00,  7.39it/s, val_loss=0.154]\n"
     ]
    },
    {
     "name": "stdout",
     "output_type": "stream",
     "text": [
      "Epoch 11: Train pAUC: 0.078353 - Val pAUC: 0.070265 | Train Loss: 5.114578 - Val Loss: 9.816151\n",
      "\n"
     ]
    },
    {
     "name": "stderr",
     "output_type": "stream",
     "text": [
      "Epoch 12: 100%|██████████| 209/209 [02:12<00:00,  1.58it/s, train_loss=0.159]\n",
      "Epoch 12: 100%|██████████| 25/25 [00:03<00:00,  7.52it/s, val_loss=0.152]\n"
     ]
    },
    {
     "name": "stdout",
     "output_type": "stream",
     "text": [
      "Epoch 12: Train pAUC: 0.085034 - Val pAUC: 0.066451 | Train Loss: 5.055805 - Val Loss: 9.666915\n",
      "\n"
     ]
    },
    {
     "name": "stderr",
     "output_type": "stream",
     "text": [
      "Epoch 13: 100%|██████████| 209/209 [02:12<00:00,  1.58it/s, train_loss=0.164]\n",
      "Epoch 13: 100%|██████████| 25/25 [00:03<00:00,  7.40it/s, val_loss=0.15]\n"
     ]
    },
    {
     "name": "stdout",
     "output_type": "stream",
     "text": [
      "Epoch 13: Train pAUC: 0.078677 - Val pAUC: 0.063122 | Train Loss: 5.224875 - Val Loss: 9.527437\n",
      "\n"
     ]
    },
    {
     "name": "stderr",
     "output_type": "stream",
     "text": [
      "Epoch 14: 100%|██████████| 209/209 [02:12<00:00,  1.58it/s, train_loss=0.157]\n",
      "Epoch 14: 100%|██████████| 25/25 [00:03<00:00,  7.26it/s, val_loss=0.137]\n"
     ]
    },
    {
     "name": "stdout",
     "output_type": "stream",
     "text": [
      "New best model found: pAUC = 0.086255 (previous best: 0.072353)\n",
      "Epoch 14: Train pAUC: 0.085682 - Val pAUC: 0.086255 | Train Loss: 5.002964 - Val Loss: 8.686573\n",
      "\n"
     ]
    },
    {
     "name": "stderr",
     "output_type": "stream",
     "text": [
      "Epoch 15: 100%|██████████| 209/209 [02:12<00:00,  1.58it/s, train_loss=0.152]\n",
      "Epoch 15: 100%|██████████| 25/25 [00:03<00:00,  7.29it/s, val_loss=0.13]\n"
     ]
    },
    {
     "name": "stdout",
     "output_type": "stream",
     "text": [
      "New best model found: pAUC = 0.086608 (previous best: 0.086255)\n",
      "Epoch 15: Train pAUC: 0.091729 - Val pAUC: 0.086608 | Train Loss: 4.859760 - Val Loss: 8.249038\n",
      "\n"
     ]
    },
    {
     "name": "stderr",
     "output_type": "stream",
     "text": [
      "Epoch 16: 100%|██████████| 209/209 [02:12<00:00,  1.58it/s, train_loss=0.157]\n",
      "Epoch 16: 100%|██████████| 25/25 [00:03<00:00,  7.28it/s, val_loss=0.144]\n"
     ]
    },
    {
     "name": "stdout",
     "output_type": "stream",
     "text": [
      "Epoch 16: Train pAUC: 0.080996 - Val pAUC: 0.081201 | Train Loss: 5.017016 - Val Loss: 9.168263\n",
      "\n"
     ]
    },
    {
     "name": "stderr",
     "output_type": "stream",
     "text": [
      "Epoch 17: 100%|██████████| 209/209 [02:12<00:00,  1.58it/s, train_loss=0.155]\n",
      "Epoch 17: 100%|██████████| 25/25 [00:03<00:00,  7.19it/s, val_loss=0.137]\n"
     ]
    },
    {
     "name": "stdout",
     "output_type": "stream",
     "text": [
      "New best model found: pAUC = 0.092106 (previous best: 0.086608)\n",
      "Epoch 17: Train pAUC: 0.086000 - Val pAUC: 0.092106 | Train Loss: 4.928026 - Val Loss: 8.700130\n",
      "\n"
     ]
    },
    {
     "name": "stderr",
     "output_type": "stream",
     "text": [
      "Epoch 18: 100%|██████████| 209/209 [02:12<00:00,  1.58it/s, train_loss=0.15]\n",
      "Epoch 18: 100%|██████████| 25/25 [00:03<00:00,  7.30it/s, val_loss=0.138]\n"
     ]
    },
    {
     "name": "stdout",
     "output_type": "stream",
     "text": [
      "Epoch 18: Train pAUC: 0.089162 - Val pAUC: 0.082361 | Train Loss: 4.782991 - Val Loss: 8.750450\n",
      "\n"
     ]
    },
    {
     "name": "stderr",
     "output_type": "stream",
     "text": [
      "Epoch 19: 100%|██████████| 209/209 [02:12<00:00,  1.58it/s, train_loss=0.15]\n",
      "Epoch 19: 100%|██████████| 25/25 [00:03<00:00,  7.30it/s, val_loss=0.143]\n"
     ]
    },
    {
     "name": "stdout",
     "output_type": "stream",
     "text": [
      "Epoch 19: Train pAUC: 0.095148 - Val pAUC: 0.086578 | Train Loss: 4.779680 - Val Loss: 9.117110\n",
      "\n"
     ]
    },
    {
     "name": "stderr",
     "output_type": "stream",
     "text": [
      "Epoch 20: 100%|██████████| 209/209 [02:12<00:00,  1.58it/s, train_loss=0.151]\n",
      "Epoch 20: 100%|██████████| 25/25 [00:03<00:00,  7.25it/s, val_loss=0.164]\n"
     ]
    },
    {
     "name": "stdout",
     "output_type": "stream",
     "text": [
      "New best model found: pAUC = 0.101871 (previous best: 0.092106)\n",
      "Epoch 20: Train pAUC: 0.088986 - Val pAUC: 0.101871 | Train Loss: 4.803114 - Val Loss: 10.440059\n",
      "\n"
     ]
    },
    {
     "name": "stderr",
     "output_type": "stream",
     "text": [
      "Epoch 21: 100%|██████████| 209/209 [02:12<00:00,  1.58it/s, train_loss=0.148]\n",
      "Epoch 21: 100%|██████████| 25/25 [00:03<00:00,  7.35it/s, val_loss=0.131]\n"
     ]
    },
    {
     "name": "stdout",
     "output_type": "stream",
     "text": [
      "Epoch 21: Train pAUC: 0.094114 - Val pAUC: 0.096918 | Train Loss: 4.704720 - Val Loss: 8.322789\n",
      "\n"
     ]
    },
    {
     "name": "stderr",
     "output_type": "stream",
     "text": [
      "Epoch 22: 100%|██████████| 209/209 [02:12<00:00,  1.58it/s, train_loss=0.153]\n",
      "Epoch 22: 100%|██████████| 25/25 [00:03<00:00,  7.16it/s, val_loss=0.139]\n"
     ]
    },
    {
     "name": "stdout",
     "output_type": "stream",
     "text": [
      "Epoch 22: Train pAUC: 0.081932 - Val pAUC: 0.080706 | Train Loss: 4.866446 - Val Loss: 8.819071\n",
      "\n"
     ]
    },
    {
     "name": "stderr",
     "output_type": "stream",
     "text": [
      "Epoch 23: 100%|██████████| 209/209 [02:12<00:00,  1.58it/s, train_loss=0.151]\n",
      "Epoch 23: 100%|██████████| 25/25 [00:03<00:00,  7.36it/s, val_loss=0.132]\n"
     ]
    },
    {
     "name": "stdout",
     "output_type": "stream",
     "text": [
      "Epoch 23: Train pAUC: 0.092780 - Val pAUC: 0.097261 | Train Loss: 4.827883 - Val Loss: 8.393734\n",
      "\n"
     ]
    },
    {
     "name": "stderr",
     "output_type": "stream",
     "text": [
      "Epoch 24: 100%|██████████| 209/209 [02:12<00:00,  1.58it/s, train_loss=0.151]\n",
      "Epoch 24: 100%|██████████| 25/25 [00:03<00:00,  7.39it/s, val_loss=0.133]\n"
     ]
    },
    {
     "name": "stdout",
     "output_type": "stream",
     "text": [
      "Epoch 24: Train pAUC: 0.093055 - Val pAUC: 0.092741 | Train Loss: 4.812542 - Val Loss: 8.431140\n",
      "\n"
     ]
    },
    {
     "name": "stderr",
     "output_type": "stream",
     "text": [
      "Epoch 25: 100%|██████████| 209/209 [02:12<00:00,  1.58it/s, train_loss=0.148]\n",
      "Epoch 25: 100%|██████████| 25/25 [00:03<00:00,  7.20it/s, val_loss=0.149]\n"
     ]
    },
    {
     "name": "stdout",
     "output_type": "stream",
     "text": [
      "Epoch 25: Train pAUC: 0.095265 - Val pAUC: 0.081019 | Train Loss: 4.703785 - Val Loss: 9.460194\n",
      "\n"
     ]
    },
    {
     "name": "stderr",
     "output_type": "stream",
     "text": [
      "Epoch 26: 100%|██████████| 209/209 [02:12<00:00,  1.58it/s, train_loss=0.145]\n",
      "Epoch 26: 100%|██████████| 25/25 [00:03<00:00,  7.43it/s, val_loss=0.136]\n"
     ]
    },
    {
     "name": "stdout",
     "output_type": "stream",
     "text": [
      "Epoch 26: Train pAUC: 0.098497 - Val pAUC: 0.093407 | Train Loss: 4.616134 - Val Loss: 8.630754\n",
      "\n"
     ]
    },
    {
     "name": "stderr",
     "output_type": "stream",
     "text": [
      "Epoch 27: 100%|██████████| 209/209 [02:12<00:00,  1.58it/s, train_loss=0.148]\n",
      "Epoch 27: 100%|██████████| 25/25 [00:03<00:00,  7.38it/s, val_loss=0.135]\n"
     ]
    },
    {
     "name": "stdout",
     "output_type": "stream",
     "text": [
      "Epoch 27: Train pAUC: 0.093833 - Val pAUC: 0.082583 | Train Loss: 4.710534 - Val Loss: 8.598554\n",
      "\n"
     ]
    },
    {
     "name": "stderr",
     "output_type": "stream",
     "text": [
      "Epoch 28: 100%|██████████| 209/209 [02:12<00:00,  1.58it/s, train_loss=0.149]\n",
      "Epoch 28: 100%|██████████| 25/25 [00:03<00:00,  7.23it/s, val_loss=0.136]\n"
     ]
    },
    {
     "name": "stdout",
     "output_type": "stream",
     "text": [
      "Epoch 28: Train pAUC: 0.089629 - Val pAUC: 0.078931 | Train Loss: 4.759837 - Val Loss: 8.646253\n",
      "\n"
     ]
    },
    {
     "name": "stderr",
     "output_type": "stream",
     "text": [
      "Epoch 29: 100%|██████████| 209/209 [02:12<00:00,  1.58it/s, train_loss=0.145]\n",
      "Epoch 29: 100%|██████████| 25/25 [00:03<00:00,  7.31it/s, val_loss=0.134]\n"
     ]
    },
    {
     "name": "stdout",
     "output_type": "stream",
     "text": [
      "Epoch 29: Train pAUC: 0.094991 - Val pAUC: 0.084419 | Train Loss: 4.615564 - Val Loss: 8.503216\n",
      "\n"
     ]
    },
    {
     "name": "stderr",
     "output_type": "stream",
     "text": [
      "Epoch 30: 100%|██████████| 209/209 [02:12<00:00,  1.58it/s, train_loss=0.142]\n",
      "Epoch 30: 100%|██████████| 25/25 [00:03<00:00,  7.26it/s, val_loss=0.131]\n"
     ]
    },
    {
     "name": "stdout",
     "output_type": "stream",
     "text": [
      "Early stopping triggered at epoch 30. Best pAUC = 0.101871\n",
      "Epoch 30: Train pAUC: 0.094809 - Val pAUC: 0.081544 | Train Loss: 4.529262 - Val Loss: 8.360148\n",
      "\n"
     ]
    },
    {
     "name": "stderr",
     "output_type": "stream",
     "text": [
      "Prediction: 100%|██████████| 1211/1211 [02:18<00:00,  8.73it/s]\n"
     ]
    },
    {
     "name": "stdout",
     "output_type": "stream",
     "text": [
      "---------------------------------- Fold 1 ----------------------------------\n",
      "\n",
      "\n",
      "---------------------------------- Fold 2 ----------------------------------\n"
     ]
    },
    {
     "name": "stderr",
     "output_type": "stream",
     "text": [
      "Epoch 1: 100%|██████████| 201/201 [02:07<00:00,  1.57it/s, train_loss=0.246]\n",
      "Epoch 1: 100%|██████████| 29/29 [00:03<00:00,  7.55it/s, val_loss=0.161]\n"
     ]
    },
    {
     "name": "stdout",
     "output_type": "stream",
     "text": [
      "Epoch 1: Train pAUC: 0.026886 - Val pAUC: 0.055624 | Train Loss: 7.857931 - Val Loss: 10.130006\n",
      "\n"
     ]
    },
    {
     "name": "stderr",
     "output_type": "stream",
     "text": [
      "Epoch 2: 100%|██████████| 201/201 [02:07<00:00,  1.57it/s, train_loss=0.2]\n",
      "Epoch 2: 100%|██████████| 29/29 [00:03<00:00,  7.53it/s, val_loss=0.167]\n"
     ]
    },
    {
     "name": "stdout",
     "output_type": "stream",
     "text": [
      "Epoch 2: Train pAUC: 0.034606 - Val pAUC: 0.037403 | Train Loss: 6.399959 - Val Loss: 10.504891\n",
      "\n"
     ]
    },
    {
     "name": "stderr",
     "output_type": "stream",
     "text": [
      "Epoch 3: 100%|██████████| 201/201 [02:07<00:00,  1.57it/s, train_loss=0.191]\n",
      "Epoch 3: 100%|██████████| 29/29 [00:03<00:00,  7.48it/s, val_loss=0.144]\n"
     ]
    },
    {
     "name": "stdout",
     "output_type": "stream",
     "text": [
      "New best model found: pAUC = 0.076261 (previous best: 0.055624)\n",
      "Epoch 3: Train pAUC: 0.039130 - Val pAUC: 0.076261 | Train Loss: 6.121019 - Val Loss: 9.098647\n",
      "\n"
     ]
    },
    {
     "name": "stderr",
     "output_type": "stream",
     "text": [
      "Epoch 4: 100%|██████████| 201/201 [02:07<00:00,  1.57it/s, train_loss=0.188]\n",
      "Epoch 4: 100%|██████████| 29/29 [00:04<00:00,  7.12it/s, val_loss=0.133]\n"
     ]
    },
    {
     "name": "stdout",
     "output_type": "stream",
     "text": [
      "New best model found: pAUC = 0.083385 (previous best: 0.076261)\n",
      "Epoch 4: Train pAUC: 0.044962 - Val pAUC: 0.083385 | Train Loss: 6.003269 - Val Loss: 8.355353\n",
      "\n"
     ]
    },
    {
     "name": "stderr",
     "output_type": "stream",
     "text": [
      "Epoch 5: 100%|██████████| 201/201 [02:07<00:00,  1.57it/s, train_loss=0.18]\n",
      "Epoch 5: 100%|██████████| 29/29 [00:04<00:00,  6.93it/s, val_loss=0.123]\n"
     ]
    },
    {
     "name": "stdout",
     "output_type": "stream",
     "text": [
      "New best model found: pAUC = 0.106889 (previous best: 0.083385)\n",
      "Epoch 5: Train pAUC: 0.055580 - Val pAUC: 0.106889 | Train Loss: 5.745895 - Val Loss: 7.775718\n",
      "\n"
     ]
    },
    {
     "name": "stderr",
     "output_type": "stream",
     "text": [
      "Epoch 6: 100%|██████████| 201/201 [02:07<00:00,  1.57it/s, train_loss=0.179]\n",
      "Epoch 6: 100%|██████████| 29/29 [00:03<00:00,  7.31it/s, val_loss=0.127]\n"
     ]
    },
    {
     "name": "stdout",
     "output_type": "stream",
     "text": [
      "Epoch 6: Train pAUC: 0.061747 - Val pAUC: 0.087057 | Train Loss: 5.735954 - Val Loss: 7.974105\n",
      "\n"
     ]
    },
    {
     "name": "stderr",
     "output_type": "stream",
     "text": [
      "Epoch 7: 100%|██████████| 201/201 [02:07<00:00,  1.57it/s, train_loss=0.175]\n",
      "Epoch 7: 100%|██████████| 29/29 [00:03<00:00,  7.26it/s, val_loss=0.132]\n"
     ]
    },
    {
     "name": "stdout",
     "output_type": "stream",
     "text": [
      "Epoch 7: Train pAUC: 0.050965 - Val pAUC: 0.103897 | Train Loss: 5.589538 - Val Loss: 8.351236\n",
      "\n"
     ]
    },
    {
     "name": "stderr",
     "output_type": "stream",
     "text": [
      "Epoch 8: 100%|██████████| 201/201 [02:07<00:00,  1.57it/s, train_loss=0.172]\n",
      "Epoch 8: 100%|██████████| 29/29 [00:03<00:00,  7.33it/s, val_loss=0.121]\n"
     ]
    },
    {
     "name": "stdout",
     "output_type": "stream",
     "text": [
      "Epoch 8: Train pAUC: 0.062004 - Val pAUC: 0.098262 | Train Loss: 5.493869 - Val Loss: 7.612808\n",
      "\n"
     ]
    },
    {
     "name": "stderr",
     "output_type": "stream",
     "text": [
      "Epoch 9: 100%|██████████| 201/201 [02:07<00:00,  1.57it/s, train_loss=0.172]\n",
      "Epoch 9: 100%|██████████| 29/29 [00:03<00:00,  7.43it/s, val_loss=0.116]\n"
     ]
    },
    {
     "name": "stdout",
     "output_type": "stream",
     "text": [
      "New best model found: pAUC = 0.110236 (previous best: 0.106889)\n",
      "Epoch 9: Train pAUC: 0.064248 - Val pAUC: 0.110236 | Train Loss: 5.503306 - Val Loss: 7.315844\n",
      "\n"
     ]
    },
    {
     "name": "stderr",
     "output_type": "stream",
     "text": [
      "Epoch 10: 100%|██████████| 201/201 [02:07<00:00,  1.57it/s, train_loss=0.161]\n",
      "Epoch 10: 100%|██████████| 29/29 [00:03<00:00,  7.44it/s, val_loss=0.136]\n"
     ]
    },
    {
     "name": "stdout",
     "output_type": "stream",
     "text": [
      "New best model found: pAUC = 0.130784 (previous best: 0.110236)\n",
      "Epoch 10: Train pAUC: 0.082346 - Val pAUC: 0.130784 | Train Loss: 5.153182 - Val Loss: 8.601704\n",
      "\n"
     ]
    },
    {
     "name": "stderr",
     "output_type": "stream",
     "text": [
      "Epoch 11: 100%|██████████| 201/201 [02:07<00:00,  1.57it/s, train_loss=0.168]\n",
      "Epoch 11: 100%|██████████| 29/29 [00:03<00:00,  7.56it/s, val_loss=0.117]\n"
     ]
    },
    {
     "name": "stdout",
     "output_type": "stream",
     "text": [
      "Epoch 11: Train pAUC: 0.073205 - Val pAUC: 0.098565 | Train Loss: 5.379664 - Val Loss: 7.400924\n",
      "\n"
     ]
    },
    {
     "name": "stderr",
     "output_type": "stream",
     "text": [
      "Epoch 12: 100%|██████████| 201/201 [02:07<00:00,  1.57it/s, train_loss=0.161]\n",
      "Epoch 12: 100%|██████████| 29/29 [00:03<00:00,  7.47it/s, val_loss=0.111]\n"
     ]
    },
    {
     "name": "stdout",
     "output_type": "stream",
     "text": [
      "New best model found: pAUC = 0.137237 (previous best: 0.130784)\n",
      "Epoch 12: Train pAUC: 0.084161 - Val pAUC: 0.137237 | Train Loss: 5.132183 - Val Loss: 7.021449\n",
      "\n"
     ]
    },
    {
     "name": "stderr",
     "output_type": "stream",
     "text": [
      "Epoch 13: 100%|██████████| 201/201 [02:07<00:00,  1.57it/s, train_loss=0.163]\n",
      "Epoch 13: 100%|██████████| 29/29 [00:03<00:00,  7.47it/s, val_loss=0.117]\n"
     ]
    },
    {
     "name": "stdout",
     "output_type": "stream",
     "text": [
      "Epoch 13: Train pAUC: 0.080558 - Val pAUC: 0.130007 | Train Loss: 5.201625 - Val Loss: 7.352920\n",
      "\n"
     ]
    },
    {
     "name": "stderr",
     "output_type": "stream",
     "text": [
      "Epoch 14: 100%|██████████| 201/201 [02:07<00:00,  1.57it/s, train_loss=0.168]\n",
      "Epoch 14: 100%|██████████| 29/29 [00:03<00:00,  7.43it/s, val_loss=0.109]\n"
     ]
    },
    {
     "name": "stdout",
     "output_type": "stream",
     "text": [
      "Epoch 14: Train pAUC: 0.066133 - Val pAUC: 0.131002 | Train Loss: 5.355933 - Val Loss: 6.888454\n",
      "\n"
     ]
    },
    {
     "name": "stderr",
     "output_type": "stream",
     "text": [
      "Epoch 15: 100%|██████████| 201/201 [02:08<00:00,  1.57it/s, train_loss=0.166]\n",
      "Epoch 15: 100%|██████████| 29/29 [00:03<00:00,  7.56it/s, val_loss=0.11]\n"
     ]
    },
    {
     "name": "stdout",
     "output_type": "stream",
     "text": [
      "Epoch 15: Train pAUC: 0.074636 - Val pAUC: 0.132414 | Train Loss: 5.317452 - Val Loss: 6.958937\n",
      "\n"
     ]
    },
    {
     "name": "stderr",
     "output_type": "stream",
     "text": [
      "Epoch 16: 100%|██████████| 201/201 [02:07<00:00,  1.57it/s, train_loss=0.159]\n",
      "Epoch 16: 100%|██████████| 29/29 [00:03<00:00,  7.53it/s, val_loss=0.115]\n"
     ]
    },
    {
     "name": "stdout",
     "output_type": "stream",
     "text": [
      "Epoch 16: Train pAUC: 0.081677 - Val pAUC: 0.108509 | Train Loss: 5.084194 - Val Loss: 7.226337\n",
      "\n"
     ]
    },
    {
     "name": "stderr",
     "output_type": "stream",
     "text": [
      "Epoch 17: 100%|██████████| 201/201 [02:07<00:00,  1.57it/s, train_loss=0.16]\n",
      "Epoch 17: 100%|██████████| 29/29 [00:03<00:00,  7.50it/s, val_loss=0.116]\n"
     ]
    },
    {
     "name": "stdout",
     "output_type": "stream",
     "text": [
      "New best model found: pAUC = 0.139568 (previous best: 0.137237)\n",
      "Epoch 17: Train pAUC: 0.079481 - Val pAUC: 0.139568 | Train Loss: 5.116001 - Val Loss: 7.312271\n",
      "\n"
     ]
    },
    {
     "name": "stderr",
     "output_type": "stream",
     "text": [
      "Epoch 18: 100%|██████████| 201/201 [02:07<00:00,  1.57it/s, train_loss=0.158]\n",
      "Epoch 18: 100%|██████████| 29/29 [00:03<00:00,  7.58it/s, val_loss=0.109]\n"
     ]
    },
    {
     "name": "stdout",
     "output_type": "stream",
     "text": [
      "Epoch 18: Train pAUC: 0.085728 - Val pAUC: 0.137750 | Train Loss: 5.048643 - Val Loss: 6.866408\n",
      "\n"
     ]
    },
    {
     "name": "stderr",
     "output_type": "stream",
     "text": [
      "Epoch 19: 100%|██████████| 201/201 [02:07<00:00,  1.57it/s, train_loss=0.158]\n",
      "Epoch 19: 100%|██████████| 29/29 [00:03<00:00,  7.49it/s, val_loss=0.106]\n"
     ]
    },
    {
     "name": "stdout",
     "output_type": "stream",
     "text": [
      "Epoch 19: Train pAUC: 0.088564 - Val pAUC: 0.134315 | Train Loss: 5.038508 - Val Loss: 6.672865\n",
      "\n"
     ]
    },
    {
     "name": "stderr",
     "output_type": "stream",
     "text": [
      "Epoch 20: 100%|██████████| 201/201 [02:07<00:00,  1.57it/s, train_loss=0.157]\n",
      "Epoch 20: 100%|██████████| 29/29 [00:03<00:00,  7.60it/s, val_loss=0.11]\n"
     ]
    },
    {
     "name": "stdout",
     "output_type": "stream",
     "text": [
      "Epoch 20: Train pAUC: 0.083457 - Val pAUC: 0.125386 | Train Loss: 5.011297 - Val Loss: 6.914997\n",
      "\n"
     ]
    },
    {
     "name": "stderr",
     "output_type": "stream",
     "text": [
      "Epoch 21: 100%|██████████| 201/201 [02:07<00:00,  1.57it/s, train_loss=0.16]\n",
      "Epoch 21: 100%|██████████| 29/29 [00:03<00:00,  7.56it/s, val_loss=0.114]\n"
     ]
    },
    {
     "name": "stdout",
     "output_type": "stream",
     "text": [
      "Epoch 21: Train pAUC: 0.082822 - Val pAUC: 0.135282 | Train Loss: 5.100728 - Val Loss: 7.163593\n",
      "\n"
     ]
    },
    {
     "name": "stderr",
     "output_type": "stream",
     "text": [
      "Epoch 22: 100%|██████████| 201/201 [02:07<00:00,  1.57it/s, train_loss=0.156]\n",
      "Epoch 22: 100%|██████████| 29/29 [00:03<00:00,  7.54it/s, val_loss=0.117]\n"
     ]
    },
    {
     "name": "stdout",
     "output_type": "stream",
     "text": [
      "Epoch 22: Train pAUC: 0.091470 - Val pAUC: 0.133471 | Train Loss: 4.990090 - Val Loss: 7.381636\n",
      "\n"
     ]
    },
    {
     "name": "stderr",
     "output_type": "stream",
     "text": [
      "Epoch 23: 100%|██████████| 201/201 [02:07<00:00,  1.57it/s, train_loss=0.158]\n",
      "Epoch 23: 100%|██████████| 29/29 [00:03<00:00,  7.53it/s, val_loss=0.109]\n"
     ]
    },
    {
     "name": "stdout",
     "output_type": "stream",
     "text": [
      "Epoch 23: Train pAUC: 0.083113 - Val pAUC: 0.134033 | Train Loss: 5.053798 - Val Loss: 6.888806\n",
      "\n"
     ]
    },
    {
     "name": "stderr",
     "output_type": "stream",
     "text": [
      "Epoch 24: 100%|██████████| 201/201 [02:07<00:00,  1.57it/s, train_loss=0.158]\n",
      "Epoch 24: 100%|██████████| 29/29 [00:03<00:00,  7.51it/s, val_loss=0.103]\n"
     ]
    },
    {
     "name": "stdout",
     "output_type": "stream",
     "text": [
      "Epoch 24: Train pAUC: 0.088414 - Val pAUC: 0.137118 | Train Loss: 5.046437 - Val Loss: 6.509316\n",
      "\n"
     ]
    },
    {
     "name": "stderr",
     "output_type": "stream",
     "text": [
      "Epoch 25: 100%|██████████| 201/201 [02:07<00:00,  1.57it/s, train_loss=0.155]\n",
      "Epoch 25: 100%|██████████| 29/29 [00:03<00:00,  7.41it/s, val_loss=0.106]\n"
     ]
    },
    {
     "name": "stdout",
     "output_type": "stream",
     "text": [
      "Epoch 25: Train pAUC: 0.090535 - Val pAUC: 0.128901 | Train Loss: 4.946501 - Val Loss: 6.683941\n",
      "\n"
     ]
    },
    {
     "name": "stderr",
     "output_type": "stream",
     "text": [
      "Epoch 26: 100%|██████████| 201/201 [02:07<00:00,  1.57it/s, train_loss=0.159]\n",
      "Epoch 26: 100%|██████████| 29/29 [00:03<00:00,  7.44it/s, val_loss=0.116]\n"
     ]
    },
    {
     "name": "stdout",
     "output_type": "stream",
     "text": [
      "Epoch 26: Train pAUC: 0.075805 - Val pAUC: 0.134602 | Train Loss: 5.090531 - Val Loss: 7.309753\n",
      "\n"
     ]
    },
    {
     "name": "stderr",
     "output_type": "stream",
     "text": [
      "Epoch 27: 100%|██████████| 201/201 [02:07<00:00,  1.57it/s, train_loss=0.156]\n",
      "Epoch 27: 100%|██████████| 29/29 [00:03<00:00,  7.56it/s, val_loss=0.102]\n"
     ]
    },
    {
     "name": "stdout",
     "output_type": "stream",
     "text": [
      "New best model found: pAUC = 0.143621 (previous best: 0.139568)\n",
      "Epoch 27: Train pAUC: 0.089621 - Val pAUC: 0.143621 | Train Loss: 4.998450 - Val Loss: 6.447698\n",
      "\n"
     ]
    },
    {
     "name": "stderr",
     "output_type": "stream",
     "text": [
      "Epoch 28: 100%|██████████| 201/201 [02:07<00:00,  1.57it/s, train_loss=0.157]\n",
      "Epoch 28: 100%|██████████| 29/29 [00:03<00:00,  7.56it/s, val_loss=0.101]\n"
     ]
    },
    {
     "name": "stdout",
     "output_type": "stream",
     "text": [
      "Epoch 28: Train pAUC: 0.078824 - Val pAUC: 0.139448 | Train Loss: 5.011683 - Val Loss: 6.341943\n",
      "\n"
     ]
    },
    {
     "name": "stderr",
     "output_type": "stream",
     "text": [
      "Epoch 29: 100%|██████████| 201/201 [02:07<00:00,  1.57it/s, train_loss=0.152]\n",
      "Epoch 29: 100%|██████████| 29/29 [00:03<00:00,  7.52it/s, val_loss=0.0964]\n"
     ]
    },
    {
     "name": "stdout",
     "output_type": "stream",
     "text": [
      "Epoch 29: Train pAUC: 0.092855 - Val pAUC: 0.141846 | Train Loss: 4.852069 - Val Loss: 6.074528\n",
      "\n"
     ]
    },
    {
     "name": "stderr",
     "output_type": "stream",
     "text": [
      "Epoch 30: 100%|██████████| 201/201 [02:07<00:00,  1.57it/s, train_loss=0.156]\n",
      "Epoch 30: 100%|██████████| 29/29 [00:03<00:00,  7.53it/s, val_loss=0.1]\n"
     ]
    },
    {
     "name": "stdout",
     "output_type": "stream",
     "text": [
      "Epoch 30: Train pAUC: 0.090415 - Val pAUC: 0.141060 | Train Loss: 4.988363 - Val Loss: 6.302254\n",
      "\n"
     ]
    },
    {
     "name": "stderr",
     "output_type": "stream",
     "text": [
      "Epoch 31: 100%|██████████| 201/201 [02:07<00:00,  1.57it/s, train_loss=0.153]\n",
      "Epoch 31: 100%|██████████| 29/29 [00:03<00:00,  7.58it/s, val_loss=0.0962]\n"
     ]
    },
    {
     "name": "stdout",
     "output_type": "stream",
     "text": [
      "New best model found: pAUC = 0.145037 (previous best: 0.143621)\n",
      "Epoch 31: Train pAUC: 0.096536 - Val pAUC: 0.145037 | Train Loss: 4.884501 - Val Loss: 6.061394\n",
      "\n"
     ]
    },
    {
     "name": "stderr",
     "output_type": "stream",
     "text": [
      "Epoch 32: 100%|██████████| 201/201 [02:07<00:00,  1.57it/s, train_loss=0.151]\n",
      "Epoch 32: 100%|██████████| 29/29 [00:03<00:00,  7.29it/s, val_loss=0.1]\n"
     ]
    },
    {
     "name": "stdout",
     "output_type": "stream",
     "text": [
      "Epoch 32: Train pAUC: 0.102285 - Val pAUC: 0.140283 | Train Loss: 4.819832 - Val Loss: 6.302291\n",
      "\n"
     ]
    },
    {
     "name": "stderr",
     "output_type": "stream",
     "text": [
      "Epoch 33: 100%|██████████| 201/201 [02:07<00:00,  1.57it/s, train_loss=0.152]\n",
      "Epoch 33: 100%|██████████| 29/29 [00:03<00:00,  7.39it/s, val_loss=0.103]\n"
     ]
    },
    {
     "name": "stdout",
     "output_type": "stream",
     "text": [
      "Epoch 33: Train pAUC: 0.102375 - Val pAUC: 0.135665 | Train Loss: 4.867030 - Val Loss: 6.496496\n",
      "\n"
     ]
    },
    {
     "name": "stderr",
     "output_type": "stream",
     "text": [
      "Epoch 34: 100%|██████████| 201/201 [02:08<00:00,  1.57it/s, train_loss=0.154]\n",
      "Epoch 34: 100%|██████████| 29/29 [00:03<00:00,  7.48it/s, val_loss=0.103]\n"
     ]
    },
    {
     "name": "stdout",
     "output_type": "stream",
     "text": [
      "Epoch 34: Train pAUC: 0.094389 - Val pAUC: 0.140596 | Train Loss: 4.927490 - Val Loss: 6.468168\n",
      "\n"
     ]
    },
    {
     "name": "stderr",
     "output_type": "stream",
     "text": [
      "Epoch 35: 100%|██████████| 201/201 [02:07<00:00,  1.57it/s, train_loss=0.154]\n",
      "Epoch 35: 100%|██████████| 29/29 [00:03<00:00,  7.54it/s, val_loss=0.0971]\n"
     ]
    },
    {
     "name": "stdout",
     "output_type": "stream",
     "text": [
      "Epoch 35: Train pAUC: 0.090552 - Val pAUC: 0.142746 | Train Loss: 4.924880 - Val Loss: 6.121404\n",
      "\n"
     ]
    },
    {
     "name": "stderr",
     "output_type": "stream",
     "text": [
      "Epoch 36: 100%|██████████| 201/201 [02:07<00:00,  1.57it/s, train_loss=0.152]\n",
      "Epoch 36: 100%|██████████| 29/29 [00:03<00:00,  7.44it/s, val_loss=0.0948]\n"
     ]
    },
    {
     "name": "stdout",
     "output_type": "stream",
     "text": [
      "New best model found: pAUC = 0.145689 (previous best: 0.145037)\n",
      "Epoch 36: Train pAUC: 0.094979 - Val pAUC: 0.145689 | Train Loss: 4.860126 - Val Loss: 5.975943\n",
      "\n"
     ]
    },
    {
     "name": "stderr",
     "output_type": "stream",
     "text": [
      "Epoch 37: 100%|██████████| 201/201 [02:08<00:00,  1.57it/s, train_loss=0.149]\n",
      "Epoch 37: 100%|██████████| 29/29 [00:04<00:00,  7.18it/s, val_loss=0.0984]\n"
     ]
    },
    {
     "name": "stdout",
     "output_type": "stream",
     "text": [
      "New best model found: pAUC = 0.155610 (previous best: 0.145689)\n",
      "Epoch 37: Train pAUC: 0.098660 - Val pAUC: 0.155610 | Train Loss: 4.759776 - Val Loss: 6.204057\n",
      "\n"
     ]
    },
    {
     "name": "stderr",
     "output_type": "stream",
     "text": [
      "Epoch 38: 100%|██████████| 201/201 [02:07<00:00,  1.57it/s, train_loss=0.151]\n",
      "Epoch 38: 100%|██████████| 29/29 [00:03<00:00,  7.33it/s, val_loss=0.0963]\n"
     ]
    },
    {
     "name": "stdout",
     "output_type": "stream",
     "text": [
      "Epoch 38: Train pAUC: 0.095450 - Val pAUC: 0.146821 | Train Loss: 4.820564 - Val Loss: 6.072780\n",
      "\n"
     ]
    },
    {
     "name": "stderr",
     "output_type": "stream",
     "text": [
      "Epoch 39: 100%|██████████| 201/201 [02:07<00:00,  1.57it/s, train_loss=0.149]\n",
      "Epoch 39: 100%|██████████| 29/29 [00:03<00:00,  7.47it/s, val_loss=0.096]\n"
     ]
    },
    {
     "name": "stdout",
     "output_type": "stream",
     "text": [
      "Epoch 39: Train pAUC: 0.101089 - Val pAUC: 0.150804 | Train Loss: 4.762498 - Val Loss: 6.051155\n",
      "\n"
     ]
    },
    {
     "name": "stderr",
     "output_type": "stream",
     "text": [
      "Epoch 40: 100%|██████████| 201/201 [02:08<00:00,  1.57it/s, train_loss=0.15]\n",
      "Epoch 40: 100%|██████████| 29/29 [00:03<00:00,  7.48it/s, val_loss=0.094]\n"
     ]
    },
    {
     "name": "stdout",
     "output_type": "stream",
     "text": [
      "Epoch 40: Train pAUC: 0.102018 - Val pAUC: 0.154526 | Train Loss: 4.792115 - Val Loss: 5.924979\n",
      "\n"
     ]
    },
    {
     "name": "stderr",
     "output_type": "stream",
     "text": [
      "Epoch 41: 100%|██████████| 201/201 [02:07<00:00,  1.57it/s, train_loss=0.146]\n",
      "Epoch 41: 100%|██████████| 29/29 [00:03<00:00,  7.52it/s, val_loss=0.099]\n"
     ]
    },
    {
     "name": "stdout",
     "output_type": "stream",
     "text": [
      "Epoch 41: Train pAUC: 0.101308 - Val pAUC: 0.149139 | Train Loss: 4.676711 - Val Loss: 6.243225\n",
      "\n"
     ]
    },
    {
     "name": "stderr",
     "output_type": "stream",
     "text": [
      "Epoch 42: 100%|██████████| 201/201 [02:07<00:00,  1.57it/s, train_loss=0.15]\n",
      "Epoch 42: 100%|██████████| 29/29 [00:03<00:00,  7.44it/s, val_loss=0.0948]\n"
     ]
    },
    {
     "name": "stdout",
     "output_type": "stream",
     "text": [
      "Epoch 42: Train pAUC: 0.099124 - Val pAUC: 0.147793 | Train Loss: 4.797860 - Val Loss: 5.975740\n",
      "\n"
     ]
    },
    {
     "name": "stderr",
     "output_type": "stream",
     "text": [
      "Epoch 43: 100%|██████████| 201/201 [02:08<00:00,  1.57it/s, train_loss=0.146]\n",
      "Epoch 43: 100%|██████████| 29/29 [00:03<00:00,  7.37it/s, val_loss=0.0967]\n"
     ]
    },
    {
     "name": "stdout",
     "output_type": "stream",
     "text": [
      "Epoch 43: Train pAUC: 0.103890 - Val pAUC: 0.143072 | Train Loss: 4.653005 - Val Loss: 6.097246\n",
      "\n"
     ]
    },
    {
     "name": "stderr",
     "output_type": "stream",
     "text": [
      "Epoch 44: 100%|██████████| 201/201 [02:07<00:00,  1.57it/s, train_loss=0.146]\n",
      "Epoch 44: 100%|██████████| 29/29 [00:03<00:00,  7.48it/s, val_loss=0.0974]\n"
     ]
    },
    {
     "name": "stdout",
     "output_type": "stream",
     "text": [
      "Epoch 44: Train pAUC: 0.104802 - Val pAUC: 0.142484 | Train Loss: 4.652982 - Val Loss: 6.141334\n",
      "\n"
     ]
    },
    {
     "name": "stderr",
     "output_type": "stream",
     "text": [
      "Epoch 45: 100%|██████████| 201/201 [02:08<00:00,  1.57it/s, train_loss=0.146]\n",
      "Epoch 45: 100%|██████████| 29/29 [00:03<00:00,  7.42it/s, val_loss=0.0954]\n"
     ]
    },
    {
     "name": "stdout",
     "output_type": "stream",
     "text": [
      "Epoch 45: Train pAUC: 0.107445 - Val pAUC: 0.144793 | Train Loss: 4.651070 - Val Loss: 6.014408\n",
      "\n"
     ]
    },
    {
     "name": "stderr",
     "output_type": "stream",
     "text": [
      "Epoch 46: 100%|██████████| 201/201 [02:07<00:00,  1.57it/s, train_loss=0.15]\n",
      "Epoch 46: 100%|██████████| 29/29 [00:03<00:00,  7.38it/s, val_loss=0.0979]\n"
     ]
    },
    {
     "name": "stdout",
     "output_type": "stream",
     "text": [
      "Epoch 46: Train pAUC: 0.101148 - Val pAUC: 0.140997 | Train Loss: 4.795138 - Val Loss: 6.169816\n",
      "\n"
     ]
    },
    {
     "name": "stderr",
     "output_type": "stream",
     "text": [
      "Epoch 47: 100%|██████████| 201/201 [02:07<00:00,  1.57it/s, train_loss=0.153]\n",
      "Epoch 47: 100%|██████████| 29/29 [00:03<00:00,  7.47it/s, val_loss=0.0958]\n"
     ]
    },
    {
     "name": "stdout",
     "output_type": "stream",
     "text": [
      "Early stopping triggered at epoch 47. Best pAUC = 0.155610\n",
      "Epoch 47: Train pAUC: 0.100617 - Val pAUC: 0.151963 | Train Loss: 4.889484 - Val Loss: 6.041736\n",
      "\n"
     ]
    },
    {
     "name": "stderr",
     "output_type": "stream",
     "text": [
      "Prediction: 100%|██████████| 1310/1310 [02:32<00:00,  8.58it/s]\n"
     ]
    },
    {
     "name": "stdout",
     "output_type": "stream",
     "text": [
      "---------------------------------- Fold 2 ----------------------------------\n",
      "\n",
      "\n",
      "---------------------------------- Fold 3 ----------------------------------\n"
     ]
    },
    {
     "name": "stderr",
     "output_type": "stream",
     "text": [
      "Epoch 1: 100%|██████████| 218/218 [02:18<00:00,  1.58it/s, train_loss=0.242]\n",
      "Epoch 1: 100%|██████████| 21/21 [00:02<00:00,  7.25it/s, val_loss=0.225]\n"
     ]
    },
    {
     "name": "stdout",
     "output_type": "stream",
     "text": [
      "Epoch 1: Train pAUC: 0.026919 - Val pAUC: 0.035180 | Train Loss: 7.724167 - Val Loss: 13.985561\n",
      "\n"
     ]
    },
    {
     "name": "stderr",
     "output_type": "stream",
     "text": [
      "Epoch 2: 100%|██████████| 218/218 [02:18<00:00,  1.58it/s, train_loss=0.19]\n",
      "Epoch 2: 100%|██████████| 21/21 [00:02<00:00,  7.22it/s, val_loss=0.192]\n"
     ]
    },
    {
     "name": "stdout",
     "output_type": "stream",
     "text": [
      "New best model found: pAUC = 0.042958 (previous best: 0.035180)\n",
      "Epoch 2: Train pAUC: 0.025390 - Val pAUC: 0.042958 | Train Loss: 6.044238 - Val Loss: 11.920655\n",
      "\n"
     ]
    },
    {
     "name": "stderr",
     "output_type": "stream",
     "text": [
      "Epoch 3: 100%|██████████| 218/218 [02:18<00:00,  1.58it/s, train_loss=0.178]\n",
      "Epoch 3: 100%|██████████| 21/21 [00:02<00:00,  7.21it/s, val_loss=0.191]\n"
     ]
    },
    {
     "name": "stdout",
     "output_type": "stream",
     "text": [
      "New best model found: pAUC = 0.053825 (previous best: 0.042958)\n",
      "Epoch 3: Train pAUC: 0.048104 - Val pAUC: 0.053825 | Train Loss: 5.685735 - Val Loss: 11.842504\n",
      "\n"
     ]
    },
    {
     "name": "stderr",
     "output_type": "stream",
     "text": [
      "Epoch 4: 100%|██████████| 218/218 [02:18<00:00,  1.58it/s, train_loss=0.176]\n",
      "Epoch 4: 100%|██████████| 21/21 [00:02<00:00,  7.21it/s, val_loss=0.197]\n"
     ]
    },
    {
     "name": "stdout",
     "output_type": "stream",
     "text": [
      "New best model found: pAUC = 0.067309 (previous best: 0.053825)\n",
      "Epoch 4: Train pAUC: 0.045370 - Val pAUC: 0.067309 | Train Loss: 5.618382 - Val Loss: 12.254427\n",
      "\n"
     ]
    },
    {
     "name": "stderr",
     "output_type": "stream",
     "text": [
      "Epoch 5: 100%|██████████| 218/218 [02:18<00:00,  1.58it/s, train_loss=0.169]\n",
      "Epoch 5: 100%|██████████| 21/21 [00:02<00:00,  7.15it/s, val_loss=0.164]\n"
     ]
    },
    {
     "name": "stdout",
     "output_type": "stream",
     "text": [
      "New best model found: pAUC = 0.086837 (previous best: 0.067309)\n",
      "Epoch 5: Train pAUC: 0.057524 - Val pAUC: 0.086837 | Train Loss: 5.370944 - Val Loss: 10.192186\n",
      "\n"
     ]
    },
    {
     "name": "stderr",
     "output_type": "stream",
     "text": [
      "Epoch 6: 100%|██████████| 218/218 [02:18<00:00,  1.58it/s, train_loss=0.169]\n",
      "Epoch 6: 100%|██████████| 21/21 [00:02<00:00,  7.09it/s, val_loss=0.169]\n"
     ]
    },
    {
     "name": "stdout",
     "output_type": "stream",
     "text": [
      "Epoch 6: Train pAUC: 0.056880 - Val pAUC: 0.070822 | Train Loss: 5.400781 - Val Loss: 10.499911\n",
      "\n"
     ]
    },
    {
     "name": "stderr",
     "output_type": "stream",
     "text": [
      "Epoch 7: 100%|██████████| 218/218 [02:18<00:00,  1.57it/s, train_loss=0.164]\n",
      "Epoch 7: 100%|██████████| 21/21 [00:02<00:00,  7.19it/s, val_loss=0.184]\n"
     ]
    },
    {
     "name": "stdout",
     "output_type": "stream",
     "text": [
      "Epoch 7: Train pAUC: 0.066889 - Val pAUC: 0.085861 | Train Loss: 5.211367 - Val Loss: 11.423273\n",
      "\n"
     ]
    },
    {
     "name": "stderr",
     "output_type": "stream",
     "text": [
      "Epoch 8: 100%|██████████| 218/218 [02:18<00:00,  1.58it/s, train_loss=0.164]\n",
      "Epoch 8: 100%|██████████| 21/21 [00:02<00:00,  7.22it/s, val_loss=0.155]\n"
     ]
    },
    {
     "name": "stdout",
     "output_type": "stream",
     "text": [
      "New best model found: pAUC = 0.128701 (previous best: 0.086837)\n",
      "Epoch 8: Train pAUC: 0.061800 - Val pAUC: 0.128701 | Train Loss: 5.213463 - Val Loss: 9.643167\n",
      "\n"
     ]
    },
    {
     "name": "stderr",
     "output_type": "stream",
     "text": [
      "Epoch 9: 100%|██████████| 218/218 [02:18<00:00,  1.58it/s, train_loss=0.16]\n",
      "Epoch 9: 100%|██████████| 21/21 [00:02<00:00,  7.31it/s, val_loss=0.163]\n"
     ]
    },
    {
     "name": "stdout",
     "output_type": "stream",
     "text": [
      "Epoch 9: Train pAUC: 0.076567 - Val pAUC: 0.073559 | Train Loss: 5.092595 - Val Loss: 10.108977\n",
      "\n"
     ]
    },
    {
     "name": "stderr",
     "output_type": "stream",
     "text": [
      "Epoch 10: 100%|██████████| 218/218 [02:18<00:00,  1.58it/s, train_loss=0.161]\n",
      "Epoch 10: 100%|██████████| 21/21 [00:02<00:00,  7.28it/s, val_loss=0.15]\n"
     ]
    },
    {
     "name": "stdout",
     "output_type": "stream",
     "text": [
      "Epoch 10: Train pAUC: 0.069882 - Val pAUC: 0.113303 | Train Loss: 5.138382 - Val Loss: 9.335180\n",
      "\n"
     ]
    },
    {
     "name": "stderr",
     "output_type": "stream",
     "text": [
      "Epoch 11: 100%|██████████| 218/218 [02:18<00:00,  1.58it/s, train_loss=0.161]\n",
      "Epoch 11: 100%|██████████| 21/21 [00:02<00:00,  7.12it/s, val_loss=0.148]\n"
     ]
    },
    {
     "name": "stdout",
     "output_type": "stream",
     "text": [
      "Epoch 11: Train pAUC: 0.070695 - Val pAUC: 0.102585 | Train Loss: 5.130253 - Val Loss: 9.224972\n",
      "\n"
     ]
    },
    {
     "name": "stderr",
     "output_type": "stream",
     "text": [
      "Epoch 12: 100%|██████████| 218/218 [02:18<00:00,  1.57it/s, train_loss=0.162]\n",
      "Epoch 12: 100%|██████████| 21/21 [00:02<00:00,  7.22it/s, val_loss=0.141]\n"
     ]
    },
    {
     "name": "stdout",
     "output_type": "stream",
     "text": [
      "Epoch 12: Train pAUC: 0.067419 - Val pAUC: 0.114154 | Train Loss: 5.156329 - Val Loss: 8.766553\n",
      "\n"
     ]
    },
    {
     "name": "stderr",
     "output_type": "stream",
     "text": [
      "Epoch 13: 100%|██████████| 218/218 [02:18<00:00,  1.58it/s, train_loss=0.158]\n",
      "Epoch 13: 100%|██████████| 21/21 [00:02<00:00,  7.18it/s, val_loss=0.142]\n"
     ]
    },
    {
     "name": "stdout",
     "output_type": "stream",
     "text": [
      "Epoch 13: Train pAUC: 0.073894 - Val pAUC: 0.120826 | Train Loss: 5.045959 - Val Loss: 8.836671\n",
      "\n"
     ]
    },
    {
     "name": "stderr",
     "output_type": "stream",
     "text": [
      "Epoch 14: 100%|██████████| 218/218 [02:18<00:00,  1.58it/s, train_loss=0.153]\n",
      "Epoch 14: 100%|██████████| 21/21 [00:03<00:00,  6.73it/s, val_loss=0.146]\n"
     ]
    },
    {
     "name": "stdout",
     "output_type": "stream",
     "text": [
      "Epoch 14: Train pAUC: 0.077834 - Val pAUC: 0.103757 | Train Loss: 4.891979 - Val Loss: 9.078392\n",
      "\n"
     ]
    },
    {
     "name": "stderr",
     "output_type": "stream",
     "text": [
      "Epoch 15: 100%|██████████| 218/218 [02:18<00:00,  1.57it/s, train_loss=0.157]\n",
      "Epoch 15: 100%|██████████| 21/21 [00:02<00:00,  7.21it/s, val_loss=0.135]\n"
     ]
    },
    {
     "name": "stdout",
     "output_type": "stream",
     "text": [
      "Epoch 15: Train pAUC: 0.069114 - Val pAUC: 0.128185 | Train Loss: 5.016753 - Val Loss: 8.363194\n",
      "\n"
     ]
    },
    {
     "name": "stderr",
     "output_type": "stream",
     "text": [
      "Epoch 16: 100%|██████████| 218/218 [02:18<00:00,  1.58it/s, train_loss=0.153]\n",
      "Epoch 16: 100%|██████████| 21/21 [00:02<00:00,  7.26it/s, val_loss=0.136]\n"
     ]
    },
    {
     "name": "stdout",
     "output_type": "stream",
     "text": [
      "New best model found: pAUC = 0.134097 (previous best: 0.128701)\n",
      "Epoch 16: Train pAUC: 0.074293 - Val pAUC: 0.134097 | Train Loss: 4.873025 - Val Loss: 8.462163\n",
      "\n"
     ]
    },
    {
     "name": "stderr",
     "output_type": "stream",
     "text": [
      "Epoch 17: 100%|██████████| 218/218 [02:18<00:00,  1.58it/s, train_loss=0.157]\n",
      "Epoch 17: 100%|██████████| 21/21 [00:02<00:00,  7.23it/s, val_loss=0.133]\n"
     ]
    },
    {
     "name": "stdout",
     "output_type": "stream",
     "text": [
      "New best model found: pAUC = 0.142329 (previous best: 0.134097)\n",
      "Epoch 17: Train pAUC: 0.070202 - Val pAUC: 0.142329 | Train Loss: 5.000870 - Val Loss: 8.278544\n",
      "\n"
     ]
    },
    {
     "name": "stderr",
     "output_type": "stream",
     "text": [
      "Epoch 18: 100%|██████████| 218/218 [02:18<00:00,  1.58it/s, train_loss=0.156]\n",
      "Epoch 18: 100%|██████████| 21/21 [00:02<00:00,  7.32it/s, val_loss=0.16]\n"
     ]
    },
    {
     "name": "stdout",
     "output_type": "stream",
     "text": [
      "Epoch 18: Train pAUC: 0.082889 - Val pAUC: 0.134958 | Train Loss: 4.972437 - Val Loss: 9.964767\n",
      "\n"
     ]
    },
    {
     "name": "stderr",
     "output_type": "stream",
     "text": [
      "Epoch 19: 100%|██████████| 218/218 [02:18<00:00,  1.58it/s, train_loss=0.15]\n",
      "Epoch 19: 100%|██████████| 21/21 [00:02<00:00,  7.13it/s, val_loss=0.14]\n"
     ]
    },
    {
     "name": "stdout",
     "output_type": "stream",
     "text": [
      "Epoch 19: Train pAUC: 0.085119 - Val pAUC: 0.139312 | Train Loss: 4.785473 - Val Loss: 8.671303\n",
      "\n"
     ]
    },
    {
     "name": "stderr",
     "output_type": "stream",
     "text": [
      "Epoch 20: 100%|██████████| 218/218 [02:18<00:00,  1.58it/s, train_loss=0.155]\n",
      "Epoch 20: 100%|██████████| 21/21 [00:02<00:00,  7.19it/s, val_loss=0.152]\n"
     ]
    },
    {
     "name": "stdout",
     "output_type": "stream",
     "text": [
      "Epoch 20: Train pAUC: 0.083861 - Val pAUC: 0.111419 | Train Loss: 4.929391 - Val Loss: 9.458694\n",
      "\n"
     ]
    },
    {
     "name": "stderr",
     "output_type": "stream",
     "text": [
      "Epoch 21: 100%|██████████| 218/218 [02:18<00:00,  1.58it/s, train_loss=0.146]\n",
      "Epoch 21: 100%|██████████| 21/21 [00:02<00:00,  7.29it/s, val_loss=0.14]\n"
     ]
    },
    {
     "name": "stdout",
     "output_type": "stream",
     "text": [
      "Epoch 21: Train pAUC: 0.083495 - Val pAUC: 0.108543 | Train Loss: 4.651206 - Val Loss: 8.717820\n",
      "\n"
     ]
    },
    {
     "name": "stderr",
     "output_type": "stream",
     "text": [
      "Epoch 22: 100%|██████████| 218/218 [02:18<00:00,  1.57it/s, train_loss=0.147]\n",
      "Epoch 22: 100%|██████████| 21/21 [00:03<00:00,  6.78it/s, val_loss=0.137]\n"
     ]
    },
    {
     "name": "stdout",
     "output_type": "stream",
     "text": [
      "Epoch 22: Train pAUC: 0.092988 - Val pAUC: 0.121792 | Train Loss: 4.673764 - Val Loss: 8.486270\n",
      "\n"
     ]
    },
    {
     "name": "stderr",
     "output_type": "stream",
     "text": [
      "Epoch 23: 100%|██████████| 218/218 [02:18<00:00,  1.57it/s, train_loss=0.151]\n",
      "Epoch 23: 100%|██████████| 21/21 [00:02<00:00,  7.22it/s, val_loss=0.133]\n"
     ]
    },
    {
     "name": "stdout",
     "output_type": "stream",
     "text": [
      "Epoch 23: Train pAUC: 0.081213 - Val pAUC: 0.122178 | Train Loss: 4.800426 - Val Loss: 8.241944\n",
      "\n"
     ]
    },
    {
     "name": "stderr",
     "output_type": "stream",
     "text": [
      "Epoch 24: 100%|██████████| 218/218 [02:18<00:00,  1.58it/s, train_loss=0.142]\n",
      "Epoch 24: 100%|██████████| 21/21 [00:02<00:00,  7.14it/s, val_loss=0.132]\n"
     ]
    },
    {
     "name": "stdout",
     "output_type": "stream",
     "text": [
      "Epoch 24: Train pAUC: 0.092239 - Val pAUC: 0.124315 | Train Loss: 4.513317 - Val Loss: 8.196358\n",
      "\n"
     ]
    },
    {
     "name": "stderr",
     "output_type": "stream",
     "text": [
      "Epoch 25: 100%|██████████| 218/218 [02:18<00:00,  1.58it/s, train_loss=0.149]\n",
      "Epoch 25: 100%|██████████| 21/21 [00:02<00:00,  7.05it/s, val_loss=0.139]\n"
     ]
    },
    {
     "name": "stdout",
     "output_type": "stream",
     "text": [
      "Epoch 25: Train pAUC: 0.086056 - Val pAUC: 0.126868 | Train Loss: 4.758907 - Val Loss: 8.664789\n",
      "\n"
     ]
    },
    {
     "name": "stderr",
     "output_type": "stream",
     "text": [
      "Epoch 26: 100%|██████████| 218/218 [02:18<00:00,  1.58it/s, train_loss=0.149]\n",
      "Epoch 26: 100%|██████████| 21/21 [00:02<00:00,  7.21it/s, val_loss=0.14]\n"
     ]
    },
    {
     "name": "stdout",
     "output_type": "stream",
     "text": [
      "Epoch 26: Train pAUC: 0.090228 - Val pAUC: 0.139626 | Train Loss: 4.759382 - Val Loss: 8.728284\n",
      "\n"
     ]
    },
    {
     "name": "stderr",
     "output_type": "stream",
     "text": [
      "Epoch 27: 100%|██████████| 218/218 [02:18<00:00,  1.58it/s, train_loss=0.148]\n",
      "Epoch 27: 100%|██████████| 21/21 [00:02<00:00,  7.17it/s, val_loss=0.137]\n"
     ]
    },
    {
     "name": "stdout",
     "output_type": "stream",
     "text": [
      "Early stopping triggered at epoch 27. Best pAUC = 0.142329\n",
      "Epoch 27: Train pAUC: 0.086598 - Val pAUC: 0.113966 | Train Loss: 4.731022 - Val Loss: 8.505972\n",
      "\n"
     ]
    },
    {
     "name": "stderr",
     "output_type": "stream",
     "text": [
      "Prediction: 100%|██████████| 1191/1191 [02:19<00:00,  8.57it/s]\n"
     ]
    },
    {
     "name": "stdout",
     "output_type": "stream",
     "text": [
      "---------------------------------- Fold 3 ----------------------------------\n",
      "\n",
      "\n",
      "---------------------------------- Fold 4 ----------------------------------\n"
     ]
    },
    {
     "name": "stderr",
     "output_type": "stream",
     "text": [
      "Epoch 1: 100%|██████████| 205/205 [02:10<00:00,  1.57it/s, train_loss=0.253]\n",
      "Epoch 1: 100%|██████████| 27/27 [00:03<00:00,  7.39it/s, val_loss=0.215]\n"
     ]
    },
    {
     "name": "stdout",
     "output_type": "stream",
     "text": [
      "Epoch 1: Train pAUC: 0.019786 - Val pAUC: 0.023552 | Train Loss: 8.085283 - Val Loss: 13.541826\n",
      "\n"
     ]
    },
    {
     "name": "stderr",
     "output_type": "stream",
     "text": [
      "Epoch 2: 100%|██████████| 205/205 [02:10<00:00,  1.57it/s, train_loss=0.196]\n",
      "Epoch 2: 100%|██████████| 27/27 [00:03<00:00,  7.25it/s, val_loss=0.201]\n"
     ]
    },
    {
     "name": "stdout",
     "output_type": "stream",
     "text": [
      "New best model found: pAUC = 0.029816 (previous best: 0.023552)\n",
      "Epoch 2: Train pAUC: 0.026076 - Val pAUC: 0.029816 | Train Loss: 6.255755 - Val Loss: 12.647809\n",
      "\n"
     ]
    },
    {
     "name": "stderr",
     "output_type": "stream",
     "text": [
      "Epoch 3: 100%|██████████| 205/205 [02:10<00:00,  1.57it/s, train_loss=0.196]\n",
      "Epoch 3: 100%|██████████| 27/27 [00:03<00:00,  7.35it/s, val_loss=0.16]\n"
     ]
    },
    {
     "name": "stdout",
     "output_type": "stream",
     "text": [
      "New best model found: pAUC = 0.068516 (previous best: 0.029816)\n",
      "Epoch 3: Train pAUC: 0.031718 - Val pAUC: 0.068516 | Train Loss: 6.264500 - Val Loss: 10.098508\n",
      "\n"
     ]
    },
    {
     "name": "stderr",
     "output_type": "stream",
     "text": [
      "Epoch 4: 100%|██████████| 205/205 [02:10<00:00,  1.57it/s, train_loss=0.193]\n",
      "Epoch 4: 100%|██████████| 27/27 [00:03<00:00,  7.42it/s, val_loss=0.159]\n"
     ]
    },
    {
     "name": "stdout",
     "output_type": "stream",
     "text": [
      "Epoch 4: Train pAUC: 0.033042 - Val pAUC: 0.047975 | Train Loss: 6.161012 - Val Loss: 10.059852\n",
      "\n"
     ]
    },
    {
     "name": "stderr",
     "output_type": "stream",
     "text": [
      "Epoch 5: 100%|██████████| 205/205 [02:10<00:00,  1.57it/s, train_loss=0.19]\n",
      "Epoch 5: 100%|██████████| 27/27 [00:03<00:00,  7.30it/s, val_loss=0.166]\n"
     ]
    },
    {
     "name": "stdout",
     "output_type": "stream",
     "text": [
      "Epoch 5: Train pAUC: 0.036583 - Val pAUC: 0.057104 | Train Loss: 6.072660 - Val Loss: 10.463314\n",
      "\n"
     ]
    },
    {
     "name": "stderr",
     "output_type": "stream",
     "text": [
      "Epoch 6: 100%|██████████| 205/205 [02:10<00:00,  1.57it/s, train_loss=0.183]\n",
      "Epoch 6: 100%|██████████| 27/27 [00:03<00:00,  7.05it/s, val_loss=0.147]\n"
     ]
    },
    {
     "name": "stdout",
     "output_type": "stream",
     "text": [
      "New best model found: pAUC = 0.090461 (previous best: 0.068516)\n",
      "Epoch 6: Train pAUC: 0.050726 - Val pAUC: 0.090461 | Train Loss: 5.839897 - Val Loss: 9.249145\n",
      "\n"
     ]
    },
    {
     "name": "stderr",
     "output_type": "stream",
     "text": [
      "Epoch 7: 100%|██████████| 205/205 [02:10<00:00,  1.57it/s, train_loss=0.177]\n",
      "Epoch 7: 100%|██████████| 27/27 [00:03<00:00,  7.49it/s, val_loss=0.157]\n"
     ]
    },
    {
     "name": "stdout",
     "output_type": "stream",
     "text": [
      "Epoch 7: Train pAUC: 0.062392 - Val pAUC: 0.058686 | Train Loss: 5.643883 - Val Loss: 9.879868\n",
      "\n"
     ]
    },
    {
     "name": "stderr",
     "output_type": "stream",
     "text": [
      "Epoch 8: 100%|██████████| 205/205 [02:10<00:00,  1.57it/s, train_loss=0.174]\n",
      "Epoch 8: 100%|██████████| 27/27 [00:03<00:00,  7.42it/s, val_loss=0.138]\n"
     ]
    },
    {
     "name": "stdout",
     "output_type": "stream",
     "text": [
      "Epoch 8: Train pAUC: 0.063271 - Val pAUC: 0.073857 | Train Loss: 5.573149 - Val Loss: 8.696722\n",
      "\n"
     ]
    },
    {
     "name": "stderr",
     "output_type": "stream",
     "text": [
      "Epoch 9: 100%|██████████| 205/205 [02:10<00:00,  1.57it/s, train_loss=0.17]\n",
      "Epoch 9: 100%|██████████| 27/27 [00:03<00:00,  7.48it/s, val_loss=0.136]\n"
     ]
    },
    {
     "name": "stdout",
     "output_type": "stream",
     "text": [
      "New best model found: pAUC = 0.096951 (previous best: 0.090461)\n",
      "Epoch 9: Train pAUC: 0.070306 - Val pAUC: 0.096951 | Train Loss: 5.417434 - Val Loss: 8.578788\n",
      "\n"
     ]
    },
    {
     "name": "stderr",
     "output_type": "stream",
     "text": [
      "Epoch 10: 100%|██████████| 205/205 [02:10<00:00,  1.57it/s, train_loss=0.17]\n",
      "Epoch 10: 100%|██████████| 27/27 [00:03<00:00,  7.34it/s, val_loss=0.128]\n"
     ]
    },
    {
     "name": "stdout",
     "output_type": "stream",
     "text": [
      "Epoch 10: Train pAUC: 0.057496 - Val pAUC: 0.082170 | Train Loss: 5.430712 - Val Loss: 8.091351\n",
      "\n"
     ]
    },
    {
     "name": "stderr",
     "output_type": "stream",
     "text": [
      "Epoch 11: 100%|██████████| 205/205 [02:10<00:00,  1.57it/s, train_loss=0.166]\n",
      "Epoch 11: 100%|██████████| 27/27 [00:03<00:00,  7.43it/s, val_loss=0.136]\n"
     ]
    },
    {
     "name": "stdout",
     "output_type": "stream",
     "text": [
      "Epoch 11: Train pAUC: 0.072047 - Val pAUC: 0.089493 | Train Loss: 5.303160 - Val Loss: 8.556470\n",
      "\n"
     ]
    },
    {
     "name": "stderr",
     "output_type": "stream",
     "text": [
      "Epoch 12: 100%|██████████| 205/205 [02:10<00:00,  1.57it/s, train_loss=0.166]\n",
      "Epoch 12: 100%|██████████| 27/27 [00:03<00:00,  7.32it/s, val_loss=0.14]\n"
     ]
    },
    {
     "name": "stdout",
     "output_type": "stream",
     "text": [
      "Epoch 12: Train pAUC: 0.065165 - Val pAUC: 0.084737 | Train Loss: 5.294973 - Val Loss: 8.827374\n",
      "\n"
     ]
    },
    {
     "name": "stderr",
     "output_type": "stream",
     "text": [
      "Epoch 13: 100%|██████████| 205/205 [02:10<00:00,  1.57it/s, train_loss=0.161]\n",
      "Epoch 13: 100%|██████████| 27/27 [00:03<00:00,  7.26it/s, val_loss=0.136]\n"
     ]
    },
    {
     "name": "stdout",
     "output_type": "stream",
     "text": [
      "Epoch 13: Train pAUC: 0.080402 - Val pAUC: 0.076918 | Train Loss: 5.143747 - Val Loss: 8.589893\n",
      "\n"
     ]
    },
    {
     "name": "stderr",
     "output_type": "stream",
     "text": [
      "Epoch 14: 100%|██████████| 205/205 [02:10<00:00,  1.57it/s, train_loss=0.157]\n",
      "Epoch 14: 100%|██████████| 27/27 [00:03<00:00,  7.44it/s, val_loss=0.13]\n"
     ]
    },
    {
     "name": "stdout",
     "output_type": "stream",
     "text": [
      "Epoch 14: Train pAUC: 0.077379 - Val pAUC: 0.087196 | Train Loss: 5.020940 - Val Loss: 8.193993\n",
      "\n"
     ]
    },
    {
     "name": "stderr",
     "output_type": "stream",
     "text": [
      "Epoch 15: 100%|██████████| 205/205 [02:10<00:00,  1.57it/s, train_loss=0.161]\n",
      "Epoch 15: 100%|██████████| 27/27 [00:03<00:00,  7.49it/s, val_loss=0.127]\n"
     ]
    },
    {
     "name": "stdout",
     "output_type": "stream",
     "text": [
      "New best model found: pAUC = 0.125000 (previous best: 0.096951)\n",
      "Epoch 15: Train pAUC: 0.075801 - Val pAUC: 0.125000 | Train Loss: 5.138090 - Val Loss: 8.035823\n",
      "\n"
     ]
    },
    {
     "name": "stderr",
     "output_type": "stream",
     "text": [
      "Epoch 16: 100%|██████████| 205/205 [02:10<00:00,  1.57it/s, train_loss=0.158]\n",
      "Epoch 16: 100%|██████████| 27/27 [00:03<00:00,  7.55it/s, val_loss=0.125]\n"
     ]
    },
    {
     "name": "stdout",
     "output_type": "stream",
     "text": [
      "Epoch 16: Train pAUC: 0.084412 - Val pAUC: 0.079815 | Train Loss: 5.063186 - Val Loss: 7.915679\n",
      "\n"
     ]
    },
    {
     "name": "stderr",
     "output_type": "stream",
     "text": [
      "Epoch 17: 100%|██████████| 205/205 [02:10<00:00,  1.57it/s, train_loss=0.161]\n",
      "Epoch 17: 100%|██████████| 27/27 [00:03<00:00,  6.79it/s, val_loss=0.123]\n"
     ]
    },
    {
     "name": "stdout",
     "output_type": "stream",
     "text": [
      "Epoch 17: Train pAUC: 0.065691 - Val pAUC: 0.109907 | Train Loss: 5.148755 - Val Loss: 7.756413\n",
      "\n"
     ]
    },
    {
     "name": "stderr",
     "output_type": "stream",
     "text": [
      "Epoch 18: 100%|██████████| 205/205 [02:10<00:00,  1.57it/s, train_loss=0.16]\n",
      "Epoch 18: 100%|██████████| 27/27 [00:03<00:00,  7.09it/s, val_loss=0.121]\n"
     ]
    },
    {
     "name": "stdout",
     "output_type": "stream",
     "text": [
      "Epoch 18: Train pAUC: 0.077143 - Val pAUC: 0.098663 | Train Loss: 5.113036 - Val Loss: 7.626773\n",
      "\n"
     ]
    },
    {
     "name": "stderr",
     "output_type": "stream",
     "text": [
      "Epoch 19: 100%|██████████| 205/205 [02:10<00:00,  1.57it/s, train_loss=0.156]\n",
      "Epoch 19: 100%|██████████| 27/27 [00:03<00:00,  6.98it/s, val_loss=0.122]\n"
     ]
    },
    {
     "name": "stdout",
     "output_type": "stream",
     "text": [
      "Epoch 19: Train pAUC: 0.080666 - Val pAUC: 0.120138 | Train Loss: 4.989146 - Val Loss: 7.691012\n",
      "\n"
     ]
    },
    {
     "name": "stderr",
     "output_type": "stream",
     "text": [
      "Epoch 20: 100%|██████████| 205/205 [02:10<00:00,  1.57it/s, train_loss=0.158]\n",
      "Epoch 20: 100%|██████████| 27/27 [00:03<00:00,  7.39it/s, val_loss=0.117]\n"
     ]
    },
    {
     "name": "stdout",
     "output_type": "stream",
     "text": [
      "Epoch 20: Train pAUC: 0.078490 - Val pAUC: 0.122561 | Train Loss: 5.040522 - Val Loss: 7.410978\n",
      "\n"
     ]
    },
    {
     "name": "stderr",
     "output_type": "stream",
     "text": [
      "Epoch 21: 100%|██████████| 205/205 [02:10<00:00,  1.57it/s, train_loss=0.154]\n",
      "Epoch 21: 100%|██████████| 27/27 [00:03<00:00,  7.41it/s, val_loss=0.123]\n"
     ]
    },
    {
     "name": "stdout",
     "output_type": "stream",
     "text": [
      "New best model found: pAUC = 0.136469 (previous best: 0.125000)\n",
      "Epoch 21: Train pAUC: 0.091560 - Val pAUC: 0.136469 | Train Loss: 4.921326 - Val Loss: 7.739053\n",
      "\n"
     ]
    },
    {
     "name": "stderr",
     "output_type": "stream",
     "text": [
      "Epoch 22: 100%|██████████| 205/205 [02:10<00:00,  1.57it/s, train_loss=0.148]\n",
      "Epoch 22: 100%|██████████| 27/27 [00:03<00:00,  7.39it/s, val_loss=0.129]\n"
     ]
    },
    {
     "name": "stdout",
     "output_type": "stream",
     "text": [
      "Epoch 22: Train pAUC: 0.094607 - Val pAUC: 0.124974 | Train Loss: 4.739499 - Val Loss: 8.138601\n",
      "\n"
     ]
    },
    {
     "name": "stderr",
     "output_type": "stream",
     "text": [
      "Epoch 23: 100%|██████████| 205/205 [02:10<00:00,  1.57it/s, train_loss=0.153]\n",
      "Epoch 23: 100%|██████████| 27/27 [00:03<00:00,  7.47it/s, val_loss=0.118]\n"
     ]
    },
    {
     "name": "stdout",
     "output_type": "stream",
     "text": [
      "New best model found: pAUC = 0.138865 (previous best: 0.136469)\n",
      "Epoch 23: Train pAUC: 0.090326 - Val pAUC: 0.138865 | Train Loss: 4.884827 - Val Loss: 7.420828\n",
      "\n"
     ]
    },
    {
     "name": "stderr",
     "output_type": "stream",
     "text": [
      "Epoch 24: 100%|██████████| 205/205 [02:10<00:00,  1.57it/s, train_loss=0.151]\n",
      "Epoch 24: 100%|██████████| 27/27 [00:03<00:00,  7.09it/s, val_loss=0.114]\n"
     ]
    },
    {
     "name": "stdout",
     "output_type": "stream",
     "text": [
      "Epoch 24: Train pAUC: 0.080743 - Val pAUC: 0.136251 | Train Loss: 4.815725 - Val Loss: 7.212600\n",
      "\n"
     ]
    },
    {
     "name": "stderr",
     "output_type": "stream",
     "text": [
      "Epoch 25: 100%|██████████| 205/205 [02:10<00:00,  1.57it/s, train_loss=0.151]\n",
      "Epoch 25: 100%|██████████| 27/27 [00:03<00:00,  7.38it/s, val_loss=0.121]\n"
     ]
    },
    {
     "name": "stdout",
     "output_type": "stream",
     "text": [
      "New best model found: pAUC = 0.139092 (previous best: 0.138865)\n",
      "Epoch 25: Train pAUC: 0.086192 - Val pAUC: 0.139092 | Train Loss: 4.810478 - Val Loss: 7.632775\n",
      "\n"
     ]
    },
    {
     "name": "stderr",
     "output_type": "stream",
     "text": [
      "Epoch 26: 100%|██████████| 205/205 [02:10<00:00,  1.57it/s, train_loss=0.15]\n",
      "Epoch 26: 100%|██████████| 27/27 [00:03<00:00,  7.39it/s, val_loss=0.118]\n"
     ]
    },
    {
     "name": "stdout",
     "output_type": "stream",
     "text": [
      "Epoch 26: Train pAUC: 0.090110 - Val pAUC: 0.133626 | Train Loss: 4.785337 - Val Loss: 7.436253\n",
      "\n"
     ]
    },
    {
     "name": "stderr",
     "output_type": "stream",
     "text": [
      "Epoch 27: 100%|██████████| 205/205 [02:10<00:00,  1.57it/s, train_loss=0.152]\n",
      "Epoch 27: 100%|██████████| 27/27 [00:03<00:00,  7.41it/s, val_loss=0.114]\n"
     ]
    },
    {
     "name": "stdout",
     "output_type": "stream",
     "text": [
      "New best model found: pAUC = 0.141318 (previous best: 0.139092)\n",
      "Epoch 27: Train pAUC: 0.091305 - Val pAUC: 0.141318 | Train Loss: 4.851243 - Val Loss: 7.173655\n",
      "\n"
     ]
    },
    {
     "name": "stderr",
     "output_type": "stream",
     "text": [
      "Epoch 28: 100%|██████████| 205/205 [02:10<00:00,  1.57it/s, train_loss=0.149]\n",
      "Epoch 28: 100%|██████████| 27/27 [00:03<00:00,  7.31it/s, val_loss=0.113]\n"
     ]
    },
    {
     "name": "stdout",
     "output_type": "stream",
     "text": [
      "Epoch 28: Train pAUC: 0.095569 - Val pAUC: 0.129074 | Train Loss: 4.775603 - Val Loss: 7.157088\n",
      "\n"
     ]
    },
    {
     "name": "stderr",
     "output_type": "stream",
     "text": [
      "Epoch 29: 100%|██████████| 205/205 [02:10<00:00,  1.57it/s, train_loss=0.152]\n",
      "Epoch 29: 100%|██████████| 27/27 [00:03<00:00,  7.35it/s, val_loss=0.117]\n"
     ]
    },
    {
     "name": "stdout",
     "output_type": "stream",
     "text": [
      "Epoch 29: Train pAUC: 0.091786 - Val pAUC: 0.124664 | Train Loss: 4.863238 - Val Loss: 7.409496\n",
      "\n"
     ]
    },
    {
     "name": "stderr",
     "output_type": "stream",
     "text": [
      "Epoch 30: 100%|██████████| 205/205 [02:10<00:00,  1.57it/s, train_loss=0.151]\n",
      "Epoch 30: 100%|██████████| 27/27 [00:03<00:00,  7.47it/s, val_loss=0.123]\n"
     ]
    },
    {
     "name": "stdout",
     "output_type": "stream",
     "text": [
      "Epoch 30: Train pAUC: 0.087853 - Val pAUC: 0.141052 | Train Loss: 4.826582 - Val Loss: 7.743160\n",
      "\n"
     ]
    },
    {
     "name": "stderr",
     "output_type": "stream",
     "text": [
      "Epoch 31: 100%|██████████| 205/205 [02:10<00:00,  1.57it/s, train_loss=0.15]\n",
      "Epoch 31: 100%|██████████| 27/27 [00:03<00:00,  7.39it/s, val_loss=0.113]\n"
     ]
    },
    {
     "name": "stdout",
     "output_type": "stream",
     "text": [
      "Epoch 31: Train pAUC: 0.099758 - Val pAUC: 0.139437 | Train Loss: 4.784093 - Val Loss: 7.155450\n",
      "\n"
     ]
    },
    {
     "name": "stderr",
     "output_type": "stream",
     "text": [
      "Epoch 32: 100%|██████████| 205/205 [02:10<00:00,  1.57it/s, train_loss=0.147]\n",
      "Epoch 32: 100%|██████████| 27/27 [00:03<00:00,  7.46it/s, val_loss=0.109]\n"
     ]
    },
    {
     "name": "stdout",
     "output_type": "stream",
     "text": [
      "Epoch 32: Train pAUC: 0.097278 - Val pAUC: 0.137750 | Train Loss: 4.693722 - Val Loss: 6.871392\n",
      "\n"
     ]
    },
    {
     "name": "stderr",
     "output_type": "stream",
     "text": [
      "Epoch 33: 100%|██████████| 205/205 [02:10<00:00,  1.57it/s, train_loss=0.147]\n",
      "Epoch 33: 100%|██████████| 27/27 [00:03<00:00,  7.35it/s, val_loss=0.111]\n"
     ]
    },
    {
     "name": "stdout",
     "output_type": "stream",
     "text": [
      "New best model found: pAUC = 0.146819 (previous best: 0.141318)\n",
      "Epoch 33: Train pAUC: 0.092101 - Val pAUC: 0.146819 | Train Loss: 4.704795 - Val Loss: 6.992707\n",
      "\n"
     ]
    },
    {
     "name": "stderr",
     "output_type": "stream",
     "text": [
      "Epoch 34: 100%|██████████| 205/205 [02:10<00:00,  1.57it/s, train_loss=0.149]\n",
      "Epoch 34: 100%|██████████| 27/27 [00:03<00:00,  7.17it/s, val_loss=0.112]\n"
     ]
    },
    {
     "name": "stdout",
     "output_type": "stream",
     "text": [
      "Epoch 34: Train pAUC: 0.092211 - Val pAUC: 0.138022 | Train Loss: 4.776623 - Val Loss: 7.056457\n",
      "\n"
     ]
    },
    {
     "name": "stderr",
     "output_type": "stream",
     "text": [
      "Epoch 35: 100%|██████████| 205/205 [02:10<00:00,  1.57it/s, train_loss=0.148]\n",
      "Epoch 35: 100%|██████████| 27/27 [00:03<00:00,  6.96it/s, val_loss=0.112]\n"
     ]
    },
    {
     "name": "stdout",
     "output_type": "stream",
     "text": [
      "Epoch 35: Train pAUC: 0.100553 - Val pAUC: 0.139533 | Train Loss: 4.735036 - Val Loss: 7.033549\n",
      "\n"
     ]
    },
    {
     "name": "stderr",
     "output_type": "stream",
     "text": [
      "Epoch 36: 100%|██████████| 205/205 [02:10<00:00,  1.57it/s, train_loss=0.147]\n",
      "Epoch 36: 100%|██████████| 27/27 [00:03<00:00,  7.49it/s, val_loss=0.109]\n"
     ]
    },
    {
     "name": "stdout",
     "output_type": "stream",
     "text": [
      "Epoch 36: Train pAUC: 0.100178 - Val pAUC: 0.145640 | Train Loss: 4.709714 - Val Loss: 6.859674\n",
      "\n"
     ]
    },
    {
     "name": "stderr",
     "output_type": "stream",
     "text": [
      "Epoch 37: 100%|██████████| 205/205 [02:10<00:00,  1.57it/s, train_loss=0.146]\n",
      "Epoch 37: 100%|██████████| 27/27 [00:03<00:00,  7.47it/s, val_loss=0.114]\n"
     ]
    },
    {
     "name": "stdout",
     "output_type": "stream",
     "text": [
      "Epoch 37: Train pAUC: 0.093941 - Val pAUC: 0.142844 | Train Loss: 4.676178 - Val Loss: 7.216859\n",
      "\n"
     ]
    },
    {
     "name": "stderr",
     "output_type": "stream",
     "text": [
      "Epoch 38: 100%|██████████| 205/205 [02:10<00:00,  1.57it/s, train_loss=0.148]\n",
      "Epoch 38: 100%|██████████| 27/27 [00:03<00:00,  7.48it/s, val_loss=0.11]\n"
     ]
    },
    {
     "name": "stdout",
     "output_type": "stream",
     "text": [
      "Epoch 38: Train pAUC: 0.100272 - Val pAUC: 0.141612 | Train Loss: 4.715055 - Val Loss: 6.968127\n",
      "\n"
     ]
    },
    {
     "name": "stderr",
     "output_type": "stream",
     "text": [
      "Epoch 39: 100%|██████████| 205/205 [02:10<00:00,  1.57it/s, train_loss=0.146]\n",
      "Epoch 39: 100%|██████████| 27/27 [00:03<00:00,  7.31it/s, val_loss=0.107]\n"
     ]
    },
    {
     "name": "stdout",
     "output_type": "stream",
     "text": [
      "Epoch 39: Train pAUC: 0.094526 - Val pAUC: 0.144530 | Train Loss: 4.652571 - Val Loss: 6.764644\n",
      "\n"
     ]
    },
    {
     "name": "stderr",
     "output_type": "stream",
     "text": [
      "Epoch 40: 100%|██████████| 205/205 [02:10<00:00,  1.57it/s, train_loss=0.143]\n",
      "Epoch 40: 100%|██████████| 27/27 [00:03<00:00,  7.53it/s, val_loss=0.111]\n"
     ]
    },
    {
     "name": "stdout",
     "output_type": "stream",
     "text": [
      "New best model found: pAUC = 0.148469 (previous best: 0.146819)\n",
      "Epoch 40: Train pAUC: 0.106156 - Val pAUC: 0.148469 | Train Loss: 4.583829 - Val Loss: 7.027087\n",
      "\n"
     ]
    },
    {
     "name": "stderr",
     "output_type": "stream",
     "text": [
      "Epoch 41: 100%|██████████| 205/205 [02:10<00:00,  1.57it/s, train_loss=0.144]\n",
      "Epoch 41: 100%|██████████| 27/27 [00:03<00:00,  7.38it/s, val_loss=0.108]\n"
     ]
    },
    {
     "name": "stdout",
     "output_type": "stream",
     "text": [
      "Epoch 41: Train pAUC: 0.098820 - Val pAUC: 0.146446 | Train Loss: 4.609949 - Val Loss: 6.831196\n",
      "\n"
     ]
    },
    {
     "name": "stderr",
     "output_type": "stream",
     "text": [
      "Epoch 42: 100%|██████████| 205/205 [02:10<00:00,  1.57it/s, train_loss=0.135]\n",
      "Epoch 42: 100%|██████████| 27/27 [00:03<00:00,  7.50it/s, val_loss=0.113]\n"
     ]
    },
    {
     "name": "stdout",
     "output_type": "stream",
     "text": [
      "Epoch 42: Train pAUC: 0.103789 - Val pAUC: 0.141638 | Train Loss: 4.323080 - Val Loss: 7.124335\n",
      "\n"
     ]
    },
    {
     "name": "stderr",
     "output_type": "stream",
     "text": [
      "Epoch 43: 100%|██████████| 205/205 [02:10<00:00,  1.57it/s, train_loss=0.146]\n",
      "Epoch 43: 100%|██████████| 27/27 [00:03<00:00,  7.28it/s, val_loss=0.11]\n"
     ]
    },
    {
     "name": "stdout",
     "output_type": "stream",
     "text": [
      "Epoch 43: Train pAUC: 0.106554 - Val pAUC: 0.140771 | Train Loss: 4.667330 - Val Loss: 6.911521\n",
      "\n"
     ]
    },
    {
     "name": "stderr",
     "output_type": "stream",
     "text": [
      "Epoch 44: 100%|██████████| 205/205 [02:10<00:00,  1.57it/s, train_loss=0.144]\n",
      "Epoch 44: 100%|██████████| 27/27 [00:03<00:00,  7.48it/s, val_loss=0.106]\n"
     ]
    },
    {
     "name": "stdout",
     "output_type": "stream",
     "text": [
      "New best model found: pAUC = 0.149137 (previous best: 0.148469)\n",
      "Epoch 44: Train pAUC: 0.094819 - Val pAUC: 0.149137 | Train Loss: 4.593693 - Val Loss: 6.674748\n",
      "\n"
     ]
    },
    {
     "name": "stderr",
     "output_type": "stream",
     "text": [
      "Epoch 45: 100%|██████████| 205/205 [02:10<00:00,  1.57it/s, train_loss=0.142]\n",
      "Epoch 45: 100%|██████████| 27/27 [00:03<00:00,  7.39it/s, val_loss=0.11]\n"
     ]
    },
    {
     "name": "stdout",
     "output_type": "stream",
     "text": [
      "Epoch 45: Train pAUC: 0.096518 - Val pAUC: 0.144436 | Train Loss: 4.534025 - Val Loss: 6.907353\n",
      "\n"
     ]
    },
    {
     "name": "stderr",
     "output_type": "stream",
     "text": [
      "Epoch 46: 100%|██████████| 205/205 [02:10<00:00,  1.57it/s, train_loss=0.148]\n",
      "Epoch 46: 100%|██████████| 27/27 [00:03<00:00,  6.84it/s, val_loss=0.107]\n"
     ]
    },
    {
     "name": "stdout",
     "output_type": "stream",
     "text": [
      "Epoch 46: Train pAUC: 0.099971 - Val pAUC: 0.148832 | Train Loss: 4.738441 - Val Loss: 6.742695\n",
      "\n"
     ]
    },
    {
     "name": "stderr",
     "output_type": "stream",
     "text": [
      "Epoch 47: 100%|██████████| 205/205 [02:10<00:00,  1.57it/s, train_loss=0.148]\n",
      "Epoch 47: 100%|██████████| 27/27 [00:03<00:00,  7.39it/s, val_loss=0.11]\n"
     ]
    },
    {
     "name": "stdout",
     "output_type": "stream",
     "text": [
      "Epoch 47: Train pAUC: 0.100139 - Val pAUC: 0.144599 | Train Loss: 4.730529 - Val Loss: 6.924539\n",
      "\n"
     ]
    },
    {
     "name": "stderr",
     "output_type": "stream",
     "text": [
      "Epoch 48: 100%|██████████| 205/205 [02:10<00:00,  1.57it/s, train_loss=0.142]\n",
      "Epoch 48: 100%|██████████| 27/27 [00:03<00:00,  7.29it/s, val_loss=0.109]\n"
     ]
    },
    {
     "name": "stdout",
     "output_type": "stream",
     "text": [
      "Epoch 48: Train pAUC: 0.094316 - Val pAUC: 0.140687 | Train Loss: 4.543164 - Val Loss: 6.858676\n",
      "\n"
     ]
    },
    {
     "name": "stderr",
     "output_type": "stream",
     "text": [
      "Epoch 49: 100%|██████████| 205/205 [02:10<00:00,  1.57it/s, train_loss=0.141]\n",
      "Epoch 49: 100%|██████████| 27/27 [00:03<00:00,  7.41it/s, val_loss=0.107]\n"
     ]
    },
    {
     "name": "stdout",
     "output_type": "stream",
     "text": [
      "Epoch 49: Train pAUC: 0.110599 - Val pAUC: 0.140532 | Train Loss: 4.498398 - Val Loss: 6.724817\n",
      "\n"
     ]
    },
    {
     "name": "stderr",
     "output_type": "stream",
     "text": [
      "Epoch 50: 100%|██████████| 205/205 [02:10<00:00,  1.57it/s, train_loss=0.144]\n",
      "Epoch 50: 100%|██████████| 27/27 [00:03<00:00,  7.35it/s, val_loss=0.108]\n"
     ]
    },
    {
     "name": "stdout",
     "output_type": "stream",
     "text": [
      "Epoch 50: Train pAUC: 0.098487 - Val pAUC: 0.148891 | Train Loss: 4.598920 - Val Loss: 6.824628\n",
      "\n"
     ]
    },
    {
     "name": "stderr",
     "output_type": "stream",
     "text": [
      "Prediction: 100%|██████████| 1167/1167 [02:16<00:00,  8.58it/s]\n"
     ]
    },
    {
     "name": "stdout",
     "output_type": "stream",
     "text": [
      "---------------------------------- Fold 4 ----------------------------------\n",
      "\n",
      "\n",
      "---------------------------------- Fold 5 ----------------------------------\n"
     ]
    },
    {
     "name": "stderr",
     "output_type": "stream",
     "text": [
      "Epoch 1: 100%|██████████| 201/201 [02:08<00:00,  1.57it/s, train_loss=0.233]\n",
      "Epoch 1: 100%|██████████| 29/29 [00:03<00:00,  7.46it/s, val_loss=0.222]\n"
     ]
    },
    {
     "name": "stdout",
     "output_type": "stream",
     "text": [
      "Epoch 1: Train pAUC: 0.026368 - Val pAUC: 0.066030 | Train Loss: 7.444750 - Val Loss: 13.980613\n",
      "\n"
     ]
    },
    {
     "name": "stderr",
     "output_type": "stream",
     "text": [
      "Epoch 2: 100%|██████████| 201/201 [02:07<00:00,  1.57it/s, train_loss=0.18]\n",
      "Epoch 2: 100%|██████████| 29/29 [00:03<00:00,  7.60it/s, val_loss=0.233]\n"
     ]
    },
    {
     "name": "stdout",
     "output_type": "stream",
     "text": [
      "Epoch 2: Train pAUC: 0.027411 - Val pAUC: 0.059590 | Train Loss: 5.750183 - Val Loss: 14.661061\n",
      "\n"
     ]
    },
    {
     "name": "stderr",
     "output_type": "stream",
     "text": [
      "Epoch 3: 100%|██████████| 201/201 [02:07<00:00,  1.57it/s, train_loss=0.176]\n",
      "Epoch 3: 100%|██████████| 29/29 [00:04<00:00,  6.68it/s, val_loss=0.207]\n"
     ]
    },
    {
     "name": "stdout",
     "output_type": "stream",
     "text": [
      "New best model found: pAUC = 0.071084 (previous best: 0.066030)\n",
      "Epoch 3: Train pAUC: 0.031513 - Val pAUC: 0.071084 | Train Loss: 5.618904 - Val Loss: 13.048191\n",
      "\n"
     ]
    },
    {
     "name": "stderr",
     "output_type": "stream",
     "text": [
      "Epoch 4: 100%|██████████| 201/201 [02:07<00:00,  1.57it/s, train_loss=0.167]\n",
      "Epoch 4: 100%|██████████| 29/29 [00:03<00:00,  7.66it/s, val_loss=0.214]\n"
     ]
    },
    {
     "name": "stdout",
     "output_type": "stream",
     "text": [
      "Epoch 4: Train pAUC: 0.044603 - Val pAUC: 0.070876 | Train Loss: 5.350085 - Val Loss: 13.499294\n",
      "\n"
     ]
    },
    {
     "name": "stderr",
     "output_type": "stream",
     "text": [
      "Epoch 5: 100%|██████████| 201/201 [02:07<00:00,  1.57it/s, train_loss=0.163]\n",
      "Epoch 5: 100%|██████████| 29/29 [00:03<00:00,  7.60it/s, val_loss=0.203]\n"
     ]
    },
    {
     "name": "stdout",
     "output_type": "stream",
     "text": [
      "New best model found: pAUC = 0.085773 (previous best: 0.071084)\n",
      "Epoch 5: Train pAUC: 0.049694 - Val pAUC: 0.085773 | Train Loss: 5.222975 - Val Loss: 12.804286\n",
      "\n"
     ]
    },
    {
     "name": "stderr",
     "output_type": "stream",
     "text": [
      "Epoch 6: 100%|██████████| 201/201 [02:07<00:00,  1.57it/s, train_loss=0.159]\n",
      "Epoch 6: 100%|██████████| 29/29 [00:03<00:00,  7.67it/s, val_loss=0.183]\n"
     ]
    },
    {
     "name": "stdout",
     "output_type": "stream",
     "text": [
      "New best model found: pAUC = 0.091167 (previous best: 0.085773)\n",
      "Epoch 6: Train pAUC: 0.053988 - Val pAUC: 0.091167 | Train Loss: 5.072965 - Val Loss: 11.528078\n",
      "\n"
     ]
    },
    {
     "name": "stderr",
     "output_type": "stream",
     "text": [
      "Epoch 7: 100%|██████████| 201/201 [02:07<00:00,  1.57it/s, train_loss=0.155]\n",
      "Epoch 7: 100%|██████████| 29/29 [00:03<00:00,  7.74it/s, val_loss=0.173]\n"
     ]
    },
    {
     "name": "stdout",
     "output_type": "stream",
     "text": [
      "New best model found: pAUC = 0.108305 (previous best: 0.091167)\n",
      "Epoch 7: Train pAUC: 0.062218 - Val pAUC: 0.108305 | Train Loss: 4.962078 - Val Loss: 10.910775\n",
      "\n"
     ]
    },
    {
     "name": "stderr",
     "output_type": "stream",
     "text": [
      "Epoch 8: 100%|██████████| 201/201 [02:07<00:00,  1.57it/s, train_loss=0.153]\n",
      "Epoch 8: 100%|██████████| 29/29 [00:03<00:00,  7.57it/s, val_loss=0.18]\n"
     ]
    },
    {
     "name": "stdout",
     "output_type": "stream",
     "text": [
      "Epoch 8: Train pAUC: 0.058856 - Val pAUC: 0.103261 | Train Loss: 4.895693 - Val Loss: 11.345611\n",
      "\n"
     ]
    },
    {
     "name": "stderr",
     "output_type": "stream",
     "text": [
      "Epoch 9: 100%|██████████| 201/201 [02:07<00:00,  1.57it/s, train_loss=0.148]\n",
      "Epoch 9: 100%|██████████| 29/29 [00:03<00:00,  7.67it/s, val_loss=0.179]\n"
     ]
    },
    {
     "name": "stdout",
     "output_type": "stream",
     "text": [
      "Epoch 9: Train pAUC: 0.066801 - Val pAUC: 0.094098 | Train Loss: 4.739814 - Val Loss: 11.264874\n",
      "\n"
     ]
    },
    {
     "name": "stderr",
     "output_type": "stream",
     "text": [
      "Epoch 10: 100%|██████████| 201/201 [02:07<00:00,  1.57it/s, train_loss=0.148]\n",
      "Epoch 10: 100%|██████████| 29/29 [00:03<00:00,  7.35it/s, val_loss=0.162]\n"
     ]
    },
    {
     "name": "stdout",
     "output_type": "stream",
     "text": [
      "New best model found: pAUC = 0.114836 (previous best: 0.108305)\n",
      "Epoch 10: Train pAUC: 0.078013 - Val pAUC: 0.114836 | Train Loss: 4.718613 - Val Loss: 10.214540\n",
      "\n"
     ]
    },
    {
     "name": "stderr",
     "output_type": "stream",
     "text": [
      "Epoch 11: 100%|██████████| 201/201 [02:07<00:00,  1.57it/s, train_loss=0.149]\n",
      "Epoch 11: 100%|██████████| 29/29 [00:03<00:00,  7.63it/s, val_loss=0.165]\n"
     ]
    },
    {
     "name": "stdout",
     "output_type": "stream",
     "text": [
      "Epoch 11: Train pAUC: 0.066300 - Val pAUC: 0.107167 | Train Loss: 4.758542 - Val Loss: 10.390168\n",
      "\n"
     ]
    },
    {
     "name": "stderr",
     "output_type": "stream",
     "text": [
      "Epoch 12: 100%|██████████| 201/201 [02:07<00:00,  1.57it/s, train_loss=0.147]\n",
      "Epoch 12: 100%|██████████| 29/29 [00:03<00:00,  7.80it/s, val_loss=0.163]\n"
     ]
    },
    {
     "name": "stdout",
     "output_type": "stream",
     "text": [
      "New best model found: pAUC = 0.123989 (previous best: 0.114836)\n",
      "Epoch 12: Train pAUC: 0.082677 - Val pAUC: 0.123989 | Train Loss: 4.707786 - Val Loss: 10.253844\n",
      "\n"
     ]
    },
    {
     "name": "stderr",
     "output_type": "stream",
     "text": [
      "Epoch 13: 100%|██████████| 201/201 [02:07<00:00,  1.57it/s, train_loss=0.145]\n",
      "Epoch 13: 100%|██████████| 29/29 [00:03<00:00,  7.61it/s, val_loss=0.169]\n"
     ]
    },
    {
     "name": "stdout",
     "output_type": "stream",
     "text": [
      "Epoch 13: Train pAUC: 0.086868 - Val pAUC: 0.122481 | Train Loss: 4.629924 - Val Loss: 10.678211\n",
      "\n"
     ]
    },
    {
     "name": "stderr",
     "output_type": "stream",
     "text": [
      "Epoch 14: 100%|██████████| 201/201 [02:07<00:00,  1.58it/s, train_loss=0.146]\n",
      "Epoch 14: 100%|██████████| 29/29 [00:03<00:00,  7.69it/s, val_loss=0.162]\n"
     ]
    },
    {
     "name": "stdout",
     "output_type": "stream",
     "text": [
      "Epoch 14: Train pAUC: 0.078808 - Val pAUC: 0.123385 | Train Loss: 4.679374 - Val Loss: 10.175095\n",
      "\n"
     ]
    },
    {
     "name": "stderr",
     "output_type": "stream",
     "text": [
      "Epoch 15: 100%|██████████| 201/201 [02:07<00:00,  1.57it/s, train_loss=0.145]\n",
      "Epoch 15: 100%|██████████| 29/29 [00:03<00:00,  7.59it/s, val_loss=0.167]\n"
     ]
    },
    {
     "name": "stdout",
     "output_type": "stream",
     "text": [
      "Epoch 15: Train pAUC: 0.073684 - Val pAUC: 0.117854 | Train Loss: 4.636042 - Val Loss: 10.539746\n",
      "\n"
     ]
    },
    {
     "name": "stderr",
     "output_type": "stream",
     "text": [
      "Epoch 16: 100%|██████████| 201/201 [02:07<00:00,  1.57it/s, train_loss=0.146]\n",
      "Epoch 16: 100%|██████████| 29/29 [00:03<00:00,  7.34it/s, val_loss=0.161]\n"
     ]
    },
    {
     "name": "stdout",
     "output_type": "stream",
     "text": [
      "Epoch 16: Train pAUC: 0.080339 - Val pAUC: 0.123618 | Train Loss: 4.654282 - Val Loss: 10.150097\n",
      "\n"
     ]
    },
    {
     "name": "stderr",
     "output_type": "stream",
     "text": [
      "Epoch 17: 100%|██████████| 201/201 [02:07<00:00,  1.57it/s, train_loss=0.14]\n",
      "Epoch 17: 100%|██████████| 29/29 [00:03<00:00,  7.56it/s, val_loss=0.157]\n"
     ]
    },
    {
     "name": "stdout",
     "output_type": "stream",
     "text": [
      "New best model found: pAUC = 0.127072 (previous best: 0.123989)\n",
      "Epoch 17: Train pAUC: 0.079714 - Val pAUC: 0.127072 | Train Loss: 4.462575 - Val Loss: 9.873010\n",
      "\n"
     ]
    },
    {
     "name": "stderr",
     "output_type": "stream",
     "text": [
      "Epoch 18: 100%|██████████| 201/201 [02:07<00:00,  1.57it/s, train_loss=0.144]\n",
      "Epoch 18: 100%|██████████| 29/29 [00:03<00:00,  7.62it/s, val_loss=0.163]\n"
     ]
    },
    {
     "name": "stdout",
     "output_type": "stream",
     "text": [
      "Epoch 18: Train pAUC: 0.082441 - Val pAUC: 0.123126 | Train Loss: 4.598701 - Val Loss: 10.242250\n",
      "\n"
     ]
    },
    {
     "name": "stderr",
     "output_type": "stream",
     "text": [
      "Epoch 19: 100%|██████████| 201/201 [02:07<00:00,  1.57it/s, train_loss=0.146]\n",
      "Epoch 19: 100%|██████████| 29/29 [00:03<00:00,  7.74it/s, val_loss=0.16]\n"
     ]
    },
    {
     "name": "stdout",
     "output_type": "stream",
     "text": [
      "Epoch 19: Train pAUC: 0.072509 - Val pAUC: 0.126981 | Train Loss: 4.652283 - Val Loss: 10.049562\n",
      "\n"
     ]
    },
    {
     "name": "stderr",
     "output_type": "stream",
     "text": [
      "Epoch 20: 100%|██████████| 201/201 [02:07<00:00,  1.57it/s, train_loss=0.14]\n",
      "Epoch 20: 100%|██████████| 29/29 [00:03<00:00,  7.68it/s, val_loss=0.166]\n"
     ]
    },
    {
     "name": "stdout",
     "output_type": "stream",
     "text": [
      "New best model found: pAUC = 0.134717 (previous best: 0.127072)\n",
      "Epoch 20: Train pAUC: 0.085304 - Val pAUC: 0.134717 | Train Loss: 4.486573 - Val Loss: 10.484944\n",
      "\n"
     ]
    },
    {
     "name": "stderr",
     "output_type": "stream",
     "text": [
      "Epoch 21: 100%|██████████| 201/201 [02:07<00:00,  1.57it/s, train_loss=0.141]\n",
      "Epoch 21: 100%|██████████| 29/29 [00:03<00:00,  7.62it/s, val_loss=0.161]\n"
     ]
    },
    {
     "name": "stdout",
     "output_type": "stream",
     "text": [
      "Epoch 21: Train pAUC: 0.087423 - Val pAUC: 0.124319 | Train Loss: 4.496057 - Val Loss: 10.160006\n",
      "\n"
     ]
    },
    {
     "name": "stderr",
     "output_type": "stream",
     "text": [
      "Epoch 22: 100%|██████████| 201/201 [02:07<00:00,  1.57it/s, train_loss=0.141]\n",
      "Epoch 22: 100%|██████████| 29/29 [00:03<00:00,  7.41it/s, val_loss=0.158]\n"
     ]
    },
    {
     "name": "stdout",
     "output_type": "stream",
     "text": [
      "Epoch 22: Train pAUC: 0.088478 - Val pAUC: 0.127865 | Train Loss: 4.523558 - Val Loss: 9.922707\n",
      "\n"
     ]
    },
    {
     "name": "stderr",
     "output_type": "stream",
     "text": [
      "Epoch 23: 100%|██████████| 201/201 [02:07<00:00,  1.57it/s, train_loss=0.142]\n",
      "Epoch 23: 100%|██████████| 29/29 [00:03<00:00,  7.61it/s, val_loss=0.157]\n"
     ]
    },
    {
     "name": "stdout",
     "output_type": "stream",
     "text": [
      "New best model found: pAUC = 0.137764 (previous best: 0.134717)\n",
      "Epoch 23: Train pAUC: 0.086522 - Val pAUC: 0.137764 | Train Loss: 4.534002 - Val Loss: 9.911828\n",
      "\n"
     ]
    },
    {
     "name": "stderr",
     "output_type": "stream",
     "text": [
      "Epoch 24: 100%|██████████| 201/201 [02:07<00:00,  1.57it/s, train_loss=0.139]\n",
      "Epoch 24: 100%|██████████| 29/29 [00:03<00:00,  7.58it/s, val_loss=0.16]\n"
     ]
    },
    {
     "name": "stdout",
     "output_type": "stream",
     "text": [
      "New best model found: pAUC = 0.138170 (previous best: 0.137764)\n",
      "Epoch 24: Train pAUC: 0.090052 - Val pAUC: 0.138170 | Train Loss: 4.450649 - Val Loss: 10.064649\n",
      "\n"
     ]
    },
    {
     "name": "stderr",
     "output_type": "stream",
     "text": [
      "Epoch 25: 100%|██████████| 201/201 [02:07<00:00,  1.57it/s, train_loss=0.136]\n",
      "Epoch 25: 100%|██████████| 29/29 [00:03<00:00,  7.64it/s, val_loss=0.153]\n"
     ]
    },
    {
     "name": "stdout",
     "output_type": "stream",
     "text": [
      "Epoch 25: Train pAUC: 0.095476 - Val pAUC: 0.133579 | Train Loss: 4.340634 - Val Loss: 9.616037\n",
      "\n"
     ]
    },
    {
     "name": "stderr",
     "output_type": "stream",
     "text": [
      "Epoch 26: 100%|██████████| 201/201 [02:07<00:00,  1.58it/s, train_loss=0.135]\n",
      "Epoch 26: 100%|██████████| 29/29 [00:03<00:00,  7.66it/s, val_loss=0.161]\n"
     ]
    },
    {
     "name": "stdout",
     "output_type": "stream",
     "text": [
      "Epoch 26: Train pAUC: 0.093012 - Val pAUC: 0.134178 | Train Loss: 4.309431 - Val Loss: 10.167905\n",
      "\n"
     ]
    },
    {
     "name": "stderr",
     "output_type": "stream",
     "text": [
      "Epoch 27: 100%|██████████| 201/201 [02:07<00:00,  1.57it/s, train_loss=0.14]\n",
      "Epoch 27: 100%|██████████| 29/29 [00:03<00:00,  7.76it/s, val_loss=0.149]\n"
     ]
    },
    {
     "name": "stdout",
     "output_type": "stream",
     "text": [
      "Epoch 27: Train pAUC: 0.083306 - Val pAUC: 0.135788 | Train Loss: 4.464519 - Val Loss: 9.387585\n",
      "\n"
     ]
    },
    {
     "name": "stderr",
     "output_type": "stream",
     "text": [
      "Epoch 28: 100%|██████████| 201/201 [02:07<00:00,  1.57it/s, train_loss=0.134]\n",
      "Epoch 28: 100%|██████████| 29/29 [00:03<00:00,  7.28it/s, val_loss=0.148]\n"
     ]
    },
    {
     "name": "stdout",
     "output_type": "stream",
     "text": [
      "New best model found: pAUC = 0.138470 (previous best: 0.138170)\n",
      "Epoch 28: Train pAUC: 0.094328 - Val pAUC: 0.138470 | Train Loss: 4.278587 - Val Loss: 9.351816\n",
      "\n"
     ]
    },
    {
     "name": "stderr",
     "output_type": "stream",
     "text": [
      "Epoch 29: 100%|██████████| 201/201 [02:07<00:00,  1.57it/s, train_loss=0.135]\n",
      "Epoch 29: 100%|██████████| 29/29 [00:04<00:00,  7.24it/s, val_loss=0.158]\n"
     ]
    },
    {
     "name": "stdout",
     "output_type": "stream",
     "text": [
      "Epoch 29: Train pAUC: 0.094316 - Val pAUC: 0.132766 | Train Loss: 4.320210 - Val Loss: 9.969221\n",
      "\n"
     ]
    },
    {
     "name": "stderr",
     "output_type": "stream",
     "text": [
      "Epoch 30: 100%|██████████| 201/201 [02:07<00:00,  1.57it/s, train_loss=0.139]\n",
      "Epoch 30: 100%|██████████| 29/29 [00:03<00:00,  7.66it/s, val_loss=0.156]\n"
     ]
    },
    {
     "name": "stdout",
     "output_type": "stream",
     "text": [
      "Epoch 30: Train pAUC: 0.088659 - Val pAUC: 0.133386 | Train Loss: 4.439467 - Val Loss: 9.813098\n",
      "\n"
     ]
    },
    {
     "name": "stderr",
     "output_type": "stream",
     "text": [
      "Epoch 31: 100%|██████████| 201/201 [02:07<00:00,  1.57it/s, train_loss=0.138]\n",
      "Epoch 31: 100%|██████████| 29/29 [00:03<00:00,  7.72it/s, val_loss=0.158]\n"
     ]
    },
    {
     "name": "stdout",
     "output_type": "stream",
     "text": [
      "Epoch 31: Train pAUC: 0.085710 - Val pAUC: 0.131004 | Train Loss: 4.414183 - Val Loss: 9.969483\n",
      "\n"
     ]
    },
    {
     "name": "stderr",
     "output_type": "stream",
     "text": [
      "Epoch 32: 100%|██████████| 201/201 [02:07<00:00,  1.57it/s, train_loss=0.135]\n",
      "Epoch 32: 100%|██████████| 29/29 [00:03<00:00,  7.68it/s, val_loss=0.157]\n"
     ]
    },
    {
     "name": "stdout",
     "output_type": "stream",
     "text": [
      "New best model found: pAUC = 0.140121 (previous best: 0.138470)\n",
      "Epoch 32: Train pAUC: 0.096575 - Val pAUC: 0.140121 | Train Loss: 4.312438 - Val Loss: 9.872072\n",
      "\n"
     ]
    },
    {
     "name": "stderr",
     "output_type": "stream",
     "text": [
      "Epoch 33: 100%|██████████| 201/201 [02:07<00:00,  1.57it/s, train_loss=0.132]\n",
      "Epoch 33: 100%|██████████| 29/29 [00:04<00:00,  7.25it/s, val_loss=0.158]\n"
     ]
    },
    {
     "name": "stdout",
     "output_type": "stream",
     "text": [
      "Epoch 33: Train pAUC: 0.088069 - Val pAUC: 0.136957 | Train Loss: 4.207962 - Val Loss: 9.977406\n",
      "\n"
     ]
    },
    {
     "name": "stderr",
     "output_type": "stream",
     "text": [
      "Epoch 34: 100%|██████████| 201/201 [02:07<00:00,  1.57it/s, train_loss=0.138]\n",
      "Epoch 34: 100%|██████████| 29/29 [00:03<00:00,  7.61it/s, val_loss=0.157]\n"
     ]
    },
    {
     "name": "stdout",
     "output_type": "stream",
     "text": [
      "Epoch 34: Train pAUC: 0.090384 - Val pAUC: 0.133919 | Train Loss: 4.409162 - Val Loss: 9.865806\n",
      "\n"
     ]
    },
    {
     "name": "stderr",
     "output_type": "stream",
     "text": [
      "Epoch 35: 100%|██████████| 201/201 [02:07<00:00,  1.57it/s, train_loss=0.133]\n",
      "Epoch 35: 100%|██████████| 29/29 [00:03<00:00,  7.57it/s, val_loss=0.153]\n"
     ]
    },
    {
     "name": "stdout",
     "output_type": "stream",
     "text": [
      "New best model found: pAUC = 0.142046 (previous best: 0.140121)\n",
      "Epoch 35: Train pAUC: 0.093680 - Val pAUC: 0.142046 | Train Loss: 4.243246 - Val Loss: 9.640093\n",
      "\n"
     ]
    },
    {
     "name": "stderr",
     "output_type": "stream",
     "text": [
      "Epoch 36: 100%|██████████| 201/201 [02:07<00:00,  1.57it/s, train_loss=0.134]\n",
      "Epoch 36: 100%|██████████| 29/29 [00:03<00:00,  7.67it/s, val_loss=0.152]\n"
     ]
    },
    {
     "name": "stdout",
     "output_type": "stream",
     "text": [
      "Epoch 36: Train pAUC: 0.097456 - Val pAUC: 0.136317 | Train Loss: 4.295981 - Val Loss: 9.605257\n",
      "\n"
     ]
    },
    {
     "name": "stderr",
     "output_type": "stream",
     "text": [
      "Epoch 37: 100%|██████████| 201/201 [02:07<00:00,  1.57it/s, train_loss=0.134]\n",
      "Epoch 37: 100%|██████████| 29/29 [00:03<00:00,  7.70it/s, val_loss=0.154]\n"
     ]
    },
    {
     "name": "stdout",
     "output_type": "stream",
     "text": [
      "Epoch 37: Train pAUC: 0.098956 - Val pAUC: 0.132035 | Train Loss: 4.291251 - Val Loss: 9.713554\n",
      "\n"
     ]
    },
    {
     "name": "stderr",
     "output_type": "stream",
     "text": [
      "Epoch 38: 100%|██████████| 201/201 [02:07<00:00,  1.57it/s, train_loss=0.132]\n",
      "Epoch 38: 100%|██████████| 29/29 [00:03<00:00,  7.36it/s, val_loss=0.159]\n"
     ]
    },
    {
     "name": "stdout",
     "output_type": "stream",
     "text": [
      "Epoch 38: Train pAUC: 0.103448 - Val pAUC: 0.132202 | Train Loss: 4.213075 - Val Loss: 9.988264\n",
      "\n"
     ]
    },
    {
     "name": "stderr",
     "output_type": "stream",
     "text": [
      "Epoch 39: 100%|██████████| 201/201 [02:07<00:00,  1.57it/s, train_loss=0.13]\n",
      "Epoch 39: 100%|██████████| 29/29 [00:03<00:00,  7.51it/s, val_loss=0.158]\n"
     ]
    },
    {
     "name": "stdout",
     "output_type": "stream",
     "text": [
      "Epoch 39: Train pAUC: 0.105027 - Val pAUC: 0.127616 | Train Loss: 4.169626 - Val Loss: 9.923796\n",
      "\n"
     ]
    },
    {
     "name": "stderr",
     "output_type": "stream",
     "text": [
      "Epoch 40: 100%|██████████| 201/201 [02:07<00:00,  1.58it/s, train_loss=0.134]\n",
      "Epoch 40: 100%|██████████| 29/29 [00:03<00:00,  7.65it/s, val_loss=0.153]\n"
     ]
    },
    {
     "name": "stdout",
     "output_type": "stream",
     "text": [
      "Epoch 40: Train pAUC: 0.102583 - Val pAUC: 0.130460 | Train Loss: 4.278329 - Val Loss: 9.657928\n",
      "\n"
     ]
    },
    {
     "name": "stderr",
     "output_type": "stream",
     "text": [
      "Epoch 41: 100%|██████████| 201/201 [02:07<00:00,  1.57it/s, train_loss=0.134]\n",
      "Epoch 41: 100%|██████████| 29/29 [00:03<00:00,  7.58it/s, val_loss=0.152]\n"
     ]
    },
    {
     "name": "stdout",
     "output_type": "stream",
     "text": [
      "Epoch 41: Train pAUC: 0.084265 - Val pAUC: 0.134011 | Train Loss: 4.296998 - Val Loss: 9.601448\n",
      "\n"
     ]
    },
    {
     "name": "stderr",
     "output_type": "stream",
     "text": [
      "Epoch 42: 100%|██████████| 201/201 [02:07<00:00,  1.57it/s, train_loss=0.127]\n",
      "Epoch 42: 100%|██████████| 29/29 [00:03<00:00,  7.67it/s, val_loss=0.15]\n"
     ]
    },
    {
     "name": "stdout",
     "output_type": "stream",
     "text": [
      "Epoch 42: Train pAUC: 0.110268 - Val pAUC: 0.136855 | Train Loss: 4.073176 - Val Loss: 9.421097\n",
      "\n"
     ]
    },
    {
     "name": "stderr",
     "output_type": "stream",
     "text": [
      "Epoch 43: 100%|██████████| 201/201 [02:07<00:00,  1.57it/s, train_loss=0.133]\n",
      "Epoch 43: 100%|██████████| 29/29 [00:03<00:00,  7.43it/s, val_loss=0.156]\n"
     ]
    },
    {
     "name": "stdout",
     "output_type": "stream",
     "text": [
      "Epoch 43: Train pAUC: 0.094875 - Val pAUC: 0.131781 | Train Loss: 4.264398 - Val Loss: 9.843082\n",
      "\n"
     ]
    },
    {
     "name": "stderr",
     "output_type": "stream",
     "text": [
      "Epoch 44: 100%|██████████| 201/201 [02:07<00:00,  1.58it/s, train_loss=0.133]\n",
      "Epoch 44: 100%|██████████| 29/29 [00:03<00:00,  7.62it/s, val_loss=0.153]\n"
     ]
    },
    {
     "name": "stdout",
     "output_type": "stream",
     "text": [
      "Epoch 44: Train pAUC: 0.101141 - Val pAUC: 0.130734 | Train Loss: 4.239945 - Val Loss: 9.623846\n",
      "\n"
     ]
    },
    {
     "name": "stderr",
     "output_type": "stream",
     "text": [
      "Epoch 45: 100%|██████████| 201/201 [02:07<00:00,  1.57it/s, train_loss=0.13]\n",
      "Epoch 45: 100%|██████████| 29/29 [00:03<00:00,  7.68it/s, val_loss=0.154]\n"
     ]
    },
    {
     "name": "stdout",
     "output_type": "stream",
     "text": [
      "Early stopping triggered at epoch 45. Best pAUC = 0.142046\n",
      "Epoch 45: Train pAUC: 0.095906 - Val pAUC: 0.131319 | Train Loss: 4.148406 - Val Loss: 9.677733\n",
      "\n"
     ]
    },
    {
     "name": "stderr",
     "output_type": "stream",
     "text": [
      "Prediction: 100%|██████████| 1389/1389 [02:40<00:00,  8.66it/s]\n"
     ]
    },
    {
     "name": "stdout",
     "output_type": "stream",
     "text": [
      "---------------------------------- Fold 5 ----------------------------------\n",
      "\n",
      "\n"
     ]
    }
   ],
   "source": [
    "histories = {}\n",
    "oof_pred_probs_df = []\n",
    "\n",
    "for fold_idx in range(CFG.n_folds):\n",
    "    print(f'---------------------------------- Fold {fold_idx + 1} ----------------------------------')\n",
    "\n",
    "    _train = train_metadata[train_metadata['fold'] != fold_idx]\n",
    "    train_dataset = ISICDataset(CFG.train_img_path, _train, transforms['train'])\n",
    "    train_dataloader = DataLoader(train_dataset, batch_size=CFG.train_batch_size, shuffle=True,  num_workers=4)\n",
    "\n",
    "    _val = train_metadata[train_metadata['fold'] == fold_idx]\n",
    "    val_dataset = ISICDataset(CFG.train_img_path, _val, transforms['val'])\n",
    "    val_dataloader = DataLoader(val_dataset, batch_size=CFG.val_batch_size, shuffle=False, num_workers=4)\n",
    "\n",
    "    _val2 = train_metadata2[train_metadata2['fold'] == fold_idx]\n",
    "    val_dataset2 = ISICDataset(CFG.train_img_path, _val2, transforms['val'])\n",
    "    val_dataloader2 = DataLoader(val_dataset2, batch_size=CFG.val_batch_size, shuffle=False, num_workers=4)\n",
    "\n",
    "    model = ResNet50(CFG.model_name).to(CFG.device)\n",
    "    criterion = nn.CrossEntropyLoss()\n",
    "    optimizer = optim.Adam(model.parameters(), lr=CFG.learning_rate)\n",
    "    t_max = len(train_dataloader) * CFG.max_epochs\n",
    "    scheduler = optim.lr_scheduler.CosineAnnealingLR(optimizer, T_max=t_max, eta_min=1e-6)\n",
    "\n",
    "    trainer = Trainer(\n",
    "        device=CFG.device,\n",
    "        model=model,\n",
    "        criterion=criterion,\n",
    "        optimizer=optimizer,\n",
    "        scheduler=scheduler,\n",
    "        train_dataloader=train_dataloader,\n",
    "        val_dataloader=val_dataloader,\n",
    "        checkpoint_path=CFG.checkpoint_path,\n",
    "        fold_idx=fold_idx,\n",
    "        es_patience=CFG.es_patience\n",
    "    )\n",
    "\n",
    "    history = {\n",
    "        'epoch': [],\n",
    "        'train_pauc': [],\n",
    "        'train_loss': [],\n",
    "        'val_pauc': [],\n",
    "        'val_loss': []\n",
    "    }\n",
    "    for epoch in range(1, CFG.max_epochs + 1):\n",
    "        train_pauc, train_loss = trainer.train(current_epoch_nr=epoch)\n",
    "        val_pauc, val_loss, es_triggered = trainer.evaluate(current_epoch_nr=epoch)\n",
    "\n",
    "        print(f\"Epoch {epoch}: Train pAUC: {train_pauc:.6f} - Val pAUC: {val_pauc:.6f} | Train Loss: {train_loss:.6f} - Val Loss: {val_loss:.6f}\\n\")\n",
    "\n",
    "        history['epoch'].append(epoch)\n",
    "        history['train_pauc'].append(train_pauc)\n",
    "        history['train_loss'].append(train_loss)\n",
    "        history['val_pauc'].append(val_pauc)\n",
    "        history['val_loss'].append(val_loss)\n",
    "\n",
    "        if es_triggered:\n",
    "            break\n",
    "\n",
    "    histories[f'Fold {fold_idx + 1}'] = history\n",
    "\n",
    "    pred_probs = trainer.predict(val_dataloader2)\n",
    "    cols = ['p0', 'p1']\n",
    "    _val2[cols] = pred_probs\n",
    "    oof_pred_probs_df.append(_val2)\n",
    "\n",
    "    del _train, _val, train_dataset, val_dataset, model, criterion, optimizer, scheduler, trainer\n",
    "    gc.collect()\n",
    "    torch.cuda.empty_cache()\n",
    "\n",
    "    print(f'---------------------------------- Fold {fold_idx + 1} ----------------------------------\\n\\n')"
   ]
  },
  {
   "cell_type": "code",
   "execution_count": 12,
   "id": "52f83259",
   "metadata": {
    "execution": {
     "iopub.execute_input": "2024-08-17T22:17:39.080692Z",
     "iopub.status.busy": "2024-08-17T22:17:39.080291Z",
     "iopub.status.idle": "2024-08-17T22:17:41.127678Z",
     "shell.execute_reply": "2024-08-17T22:17:41.126750Z"
    },
    "id": "jNqTO4uvCZwF",
    "papermill": {
     "duration": 14.725692,
     "end_time": "2024-08-17T22:17:41.129706",
     "exception": false,
     "start_time": "2024-08-17T22:17:26.404014",
     "status": "completed"
    },
    "tags": []
   },
   "outputs": [
    {
     "data": {
      "text/html": [
       "<div>\n",
       "<style scoped>\n",
       "    .dataframe tbody tr th:only-of-type {\n",
       "        vertical-align: middle;\n",
       "    }\n",
       "\n",
       "    .dataframe tbody tr th {\n",
       "        vertical-align: top;\n",
       "    }\n",
       "\n",
       "    .dataframe thead th {\n",
       "        text-align: right;\n",
       "    }\n",
       "</style>\n",
       "<table border=\"1\" class=\"dataframe\">\n",
       "  <thead>\n",
       "    <tr style=\"text-align: right;\">\n",
       "      <th></th>\n",
       "      <th>isic_id</th>\n",
       "      <th>fold</th>\n",
       "      <th>target</th>\n",
       "      <th>p0</th>\n",
       "      <th>p1</th>\n",
       "    </tr>\n",
       "  </thead>\n",
       "  <tbody>\n",
       "    <tr>\n",
       "      <th>10</th>\n",
       "      <td>ISIC_0051812</td>\n",
       "      <td>0.0</td>\n",
       "      <td>0</td>\n",
       "      <td>0.999735</td>\n",
       "      <td>0.000265</td>\n",
       "    </tr>\n",
       "    <tr>\n",
       "      <th>18</th>\n",
       "      <td>ISIC_0052026</td>\n",
       "      <td>0.0</td>\n",
       "      <td>0</td>\n",
       "      <td>0.621805</td>\n",
       "      <td>0.378195</td>\n",
       "    </tr>\n",
       "    <tr>\n",
       "      <th>30</th>\n",
       "      <td>ISIC_0052259</td>\n",
       "      <td>0.0</td>\n",
       "      <td>0</td>\n",
       "      <td>0.995200</td>\n",
       "      <td>0.004800</td>\n",
       "    </tr>\n",
       "    <tr>\n",
       "      <th>32</th>\n",
       "      <td>ISIC_0052310</td>\n",
       "      <td>0.0</td>\n",
       "      <td>0</td>\n",
       "      <td>0.950522</td>\n",
       "      <td>0.049478</td>\n",
       "    </tr>\n",
       "    <tr>\n",
       "      <th>33</th>\n",
       "      <td>ISIC_0052313</td>\n",
       "      <td>0.0</td>\n",
       "      <td>0</td>\n",
       "      <td>0.996584</td>\n",
       "      <td>0.003416</td>\n",
       "    </tr>\n",
       "  </tbody>\n",
       "</table>\n",
       "</div>"
      ],
      "text/plain": [
       "         isic_id  fold  target        p0        p1\n",
       "10  ISIC_0051812   0.0       0  0.999735  0.000265\n",
       "18  ISIC_0052026   0.0       0  0.621805  0.378195\n",
       "30  ISIC_0052259   0.0       0  0.995200  0.004800\n",
       "32  ISIC_0052310   0.0       0  0.950522  0.049478\n",
       "33  ISIC_0052313   0.0       0  0.996584  0.003416"
      ]
     },
     "execution_count": 12,
     "metadata": {},
     "output_type": "execute_result"
    }
   ],
   "source": [
    "oof_pred_probs_df = pd.concat(oof_pred_probs_df)[['isic_id', 'fold', 'target', 'p0', 'p1']]\n",
    "oof_pred_probs_df.to_csv(f'{CFG.model_name}_oof_preds.csv', index=False)\n",
    "oof_pred_probs_df.head()"
   ]
  },
  {
   "cell_type": "markdown",
   "id": "1aea8667",
   "metadata": {
    "papermill": {
     "duration": 12.369762,
     "end_time": "2024-08-17T22:18:05.574976",
     "exception": false,
     "start_time": "2024-08-17T22:17:53.205214",
     "status": "completed"
    },
    "tags": []
   },
   "source": [
    "# Results"
   ]
  },
  {
   "cell_type": "code",
   "execution_count": 13,
   "id": "7e0f5a81",
   "metadata": {
    "execution": {
     "iopub.execute_input": "2024-08-17T22:18:30.302890Z",
     "iopub.status.busy": "2024-08-17T22:18:30.302533Z",
     "iopub.status.idle": "2024-08-17T22:18:30.314029Z",
     "shell.execute_reply": "2024-08-17T22:18:30.313111Z"
    },
    "id": "Qkcd2V7W-_GW",
    "papermill": {
     "duration": 12.157236,
     "end_time": "2024-08-17T22:18:30.315998",
     "exception": false,
     "start_time": "2024-08-17T22:18:18.158762",
     "status": "completed"
    },
    "tags": []
   },
   "outputs": [],
   "source": [
    "histories = pd.concat([pd.DataFrame(data).assign(Fold=fold) for fold, data in histories.items()])"
   ]
  },
  {
   "cell_type": "code",
   "execution_count": 14,
   "id": "73fd93e6",
   "metadata": {
    "execution": {
     "iopub.execute_input": "2024-08-17T22:18:55.268809Z",
     "iopub.status.busy": "2024-08-17T22:18:55.267810Z",
     "iopub.status.idle": "2024-08-17T22:18:56.229711Z",
     "shell.execute_reply": "2024-08-17T22:18:56.228661Z"
    },
    "id": "lATwCeDXdsHG",
    "papermill": {
     "duration": 13.509681,
     "end_time": "2024-08-17T22:18:56.233476",
     "exception": false,
     "start_time": "2024-08-17T22:18:42.723795",
     "status": "completed"
    },
    "tags": []
   },
   "outputs": [
    {
     "data": {
      "image/png": "[encoded data removed]",
      "text/plain": [
       "<Figure size 1600x600 with 2 Axes>"
      ]
     },
     "metadata": {},
     "output_type": "display_data"
    }
   ],
   "source": [
    "sns.set(style=\"whitegrid\")\n",
    "\n",
    "fig, axes = plt.subplots(1, 2, figsize=(16, 6))\n",
    "\n",
    "sns.lineplot(x='epoch', y='train_pauc', hue='Fold', data=histories, ax=axes[0])\n",
    "axes[0].set_title('Training pAUC')\n",
    "axes[0].set_xlabel('Epoch')\n",
    "axes[0].set_ylabel('pAUC')\n",
    "axes[0].legend(loc='best')\n",
    "\n",
    "sns.lineplot(x='epoch', y='val_pauc', hue='Fold', data=histories, ax=axes[1])\n",
    "axes[1].set_title('Validation pAUC')\n",
    "axes[1].set_xlabel('Epoch')\n",
    "axes[1].set_ylabel('pAUC')\n",
    "axes[1].legend(loc='best')\n",
    "\n",
    "fig.tight_layout()\n",
    "plt.show()"
   ]
  },
  {
   "cell_type": "code",
   "execution_count": 15,
   "id": "76863203",
   "metadata": {
    "execution": {
     "iopub.execute_input": "2024-08-17T22:19:20.710930Z",
     "iopub.status.busy": "2024-08-17T22:19:20.710472Z",
     "iopub.status.idle": "2024-08-17T22:19:21.651219Z",
     "shell.execute_reply": "2024-08-17T22:19:21.650353Z"
    },
    "id": "iCSgE4wX7NtK",
    "papermill": {
     "duration": 13.281628,
     "end_time": "2024-08-17T22:19:21.654306",
     "exception": false,
     "start_time": "2024-08-17T22:19:08.372678",
     "status": "completed"
    },
    "tags": []
   },
   "outputs": [
    {
     "data": {
      "image/png": "[encoded data removed]",
      "text/plain": [
       "<Figure size 1600x600 with 2 Axes>"
      ]
     },
     "metadata": {},
     "output_type": "display_data"
    }
   ],
   "source": [
    "fig, axes = plt.subplots(1, 2, figsize=(16, 6))\n",
    "\n",
    "sns.lineplot(x='epoch', y='train_loss', hue='Fold', data=histories, ax=axes[0])\n",
    "axes[0].set_title('Training Loss')\n",
    "axes[0].set_xlabel('Epoch')\n",
    "axes[0].set_ylabel('Loss')\n",
    "axes[0].legend(loc='best')\n",
    "\n",
    "sns.lineplot(x='epoch', y='val_loss', hue='Fold', data=histories, ax=axes[1])\n",
    "axes[1].set_title('Validation Loss')\n",
    "axes[1].set_xlabel('Epoch')\n",
    "axes[1].set_ylabel('Loss')\n",
    "axes[1].legend(loc='best')\n",
    "\n",
    "fig.tight_layout()\n",
    "plt.show()"
   ]
  }
 ],
 "metadata": {
  "accelerator": "GPU",
  "colab": {
   "gpuType": "L4",
   "provenance": []
  },
  "kaggle": {
   "accelerator": "gpu",
   "dataSources": [
    {
     "databundleVersionId": 9094797,
     "sourceId": 63056,
     "sourceType": "competition"
    }
   ],
   "dockerImageVersionId": 30747,
   "isGpuEnabled": true,
   "isInternetEnabled": true,
   "language": "python",
   "sourceType": "notebook"
  },
  "kernelspec": {
   "display_name": "Python 3",
   "language": "python",
   "name": "python3"
  },
  "language_info": {
   "codemirror_mode": {
    "name": "ipython",
    "version": 3
   },
   "file_extension": ".py",
   "mimetype": "text/x-python",
   "name": "python",
   "nbconvert_exporter": "python",
   "pygments_lexer": "ipython3",
   "version": "3.10.13"
  },
  "papermill": {
   "default_parameters": {},
   "duration": 27636.576504,
   "end_time": "2024-08-17T22:19:37.115925",
   "environment_variables": {},
   "exception": null,
   "input_path": "__notebook__.ipynb",
   "output_path": "__notebook__.ipynb",
   "parameters": {},
   "start_time": "2024-08-17T14:39:00.539421",
   "version": "2.5.0"
  },
  "widgets": {
   "application/vnd.jupyter.widget-state+json": {
    "state": {
     "01ab87a093194e6d8e3421f12b339ab6": {
      "model_module": "@jupyter-widgets/controls",
      "model_module_version": "1.5.0",
      "model_name": "FloatProgressModel",
      "state": {
       "_dom_classes": [],
       "_model_module": "@jupyter-widgets/controls",
       "_model_module_version": "1.5.0",
       "_model_name": "FloatProgressModel",
       "_view_count": null,
       "_view_module": "@jupyter-widgets/controls",
       "_view_module_version": "1.5.0",
       "_view_name": "ProgressView",
       "bar_style": "success",
       "description": "",
       "description_tooltip": null,
       "layout": "IPY_MODEL_8a3b9110dbc1493d9851cacaddce9212",
       "max": 102469840.0,
       "min": 0.0,
       "orientation": "horizontal",
       "style": "IPY_MODEL_d1d3963fb7f34d20833e66c0a7be5978",
       "value": 102469840.0
      }
     },
     "2d928670f2664804895298a8c547dcf2": {
      "model_module": "@jupyter-widgets/controls",
      "model_module_version": "1.5.0",
      "model_name": "HBoxModel",
      "state": {
       "_dom_classes": [],
       "_model_module": "@jupyter-widgets/controls",
       "_model_module_version": "1.5.0",
       "_model_name": "HBoxModel",
       "_view_count": null,
       "_view_module": "@jupyter-widgets/controls",
       "_view_module_version": "1.5.0",
       "_view_name": "HBoxView",
       "box_style": "",
       "children": [
        "IPY_MODEL_a3cb1c8e80e340feb53ad2fd5d1bfc80",
        "IPY_MODEL_01ab87a093194e6d8e3421f12b339ab6",
        "IPY_MODEL_5b510d24728f428492aea3af6d358184"
       ],
       "layout": "IPY_MODEL_614cb5219a2c47b88a5a6dff7d66437c"
      }
     },
     "4667f59fe3524de6bd2abb8ee8775e0c": {
      "model_module": "@jupyter-widgets/controls",
      "model_module_version": "1.5.0",
      "model_name": "DescriptionStyleModel",
      "state": {
       "_model_module": "@jupyter-widgets/controls",
       "_model_module_version": "1.5.0",
       "_model_name": "DescriptionStyleModel",
       "_view_count": null,
       "_view_module": "@jupyter-widgets/base",
       "_view_module_version": "1.2.0",
       "_view_name": "StyleView",
       "description_width": ""
      }
     },
     "466b9a4ac4c1448e803f22b061b2fcc8": {
      "model_module": "@jupyter-widgets/controls",
      "model_module_version": "1.5.0",
      "model_name": "DescriptionStyleModel",
      "state": {
       "_model_module": "@jupyter-widgets/controls",
       "_model_module_version": "1.5.0",
       "_model_name": "DescriptionStyleModel",
       "_view_count": null,
       "_view_module": "@jupyter-widgets/base",
       "_view_module_version": "1.2.0",
       "_view_name": "StyleView",
       "description_width": ""
      }
     },
     "5b510d24728f428492aea3af6d358184": {
      "model_module": "@jupyter-widgets/controls",
      "model_module_version": "1.5.0",
      "model_name": "HTMLModel",
      "state": {
       "_dom_classes": [],
       "_model_module": "@jupyter-widgets/controls",
       "_model_module_version": "1.5.0",
       "_model_name": "HTMLModel",
       "_view_count": null,
       "_view_module": "@jupyter-widgets/controls",
       "_view_module_version": "1.5.0",
       "_view_name": "HTMLView",
       "description": "",
       "description_tooltip": null,
       "layout": "IPY_MODEL_93bbd40542594e038edf0fa003ebaf74",
       "placeholder": "​",
       "style": "IPY_MODEL_466b9a4ac4c1448e803f22b061b2fcc8",
       "value": " 102M/102M [00:00&lt;00:00, 146MB/s]"
      }
     },
     "614cb5219a2c47b88a5a6dff7d66437c": {
      "model_module": "@jupyter-widgets/base",
      "model_module_version": "1.2.0",
      "model_name": "LayoutModel",
      "state": {
       "_model_module": "@jupyter-widgets/base",
       "_model_module_version": "1.2.0",
       "_model_name": "LayoutModel",
       "_view_count": null,
       "_view_module": "@jupyter-widgets/base",
       "_view_module_version": "1.2.0",
       "_view_name": "LayoutView",
       "align_content": null,
       "align_items": null,
       "align_self": null,
       "border": null,
       "bottom": null,
       "display": null,
       "flex": null,
       "flex_flow": null,
       "grid_area": null,
       "grid_auto_columns": null,
       "grid_auto_flow": null,
       "grid_auto_rows": null,
       "grid_column": null,
       "grid_gap": null,
       "grid_row": null,
       "grid_template_areas": null,
       "grid_template_columns": null,
       "grid_template_rows": null,
       "height": null,
       "justify_content": null,
       "justify_items": null,
       "left": null,
       "margin": null,
       "max_height": null,
       "max_width": null,
       "min_height": null,
       "min_width": null,
       "object_fit": null,
       "object_position": null,
       "order": null,
       "overflow": null,
       "overflow_x": null,
       "overflow_y": null,
       "padding": null,
       "right": null,
       "top": null,
       "visibility": null,
       "width": null
      }
     },
     "7249c82a42294074905324e45ef6179b": {
      "model_module": "@jupyter-widgets/base",
      "model_module_version": "1.2.0",
      "model_name": "LayoutModel",
      "state": {
       "_model_module": "@jupyter-widgets/base",
       "_model_module_version": "1.2.0",
       "_model_name": "LayoutModel",
       "_view_count": null,
       "_view_module": "@jupyter-widgets/base",
       "_view_module_version": "1.2.0",
       "_view_name": "LayoutView",
       "align_content": null,
       "align_items": null,
       "align_self": null,
       "border": null,
       "bottom": null,
       "display": null,
       "flex": null,
       "flex_flow": null,
       "grid_area": null,
       "grid_auto_columns": null,
       "grid_auto_flow": null,
       "grid_auto_rows": null,
       "grid_column": null,
       "grid_gap": null,
       "grid_row": null,
       "grid_template_areas": null,
       "grid_template_columns": null,
       "grid_template_rows": null,
       "height": null,
       "justify_content": null,
       "justify_items": null,
       "left": null,
       "margin": null,
       "max_height": null,
       "max_width": null,
       "min_height": null,
       "min_width": null,
       "object_fit": null,
       "object_position": null,
       "order": null,
       "overflow": null,
       "overflow_x": null,
       "overflow_y": null,
       "padding": null,
       "right": null,
       "top": null,
       "visibility": null,
       "width": null
      }
     },
     "8a3b9110dbc1493d9851cacaddce9212": {
      "model_module": "@jupyter-widgets/base",
      "model_module_version": "1.2.0",
      "model_name": "LayoutModel",
      "state": {
       "_model_module": "@jupyter-widgets/base",
       "_model_module_version": "1.2.0",
       "_model_name": "LayoutModel",
       "_view_count": null,
       "_view_module": "@jupyter-widgets/base",
       "_view_module_version": "1.2.0",
       "_view_name": "LayoutView",
       "align_content": null,
       "align_items": null,
       "align_self": null,
       "border": null,
       "bottom": null,
       "display": null,
       "flex": null,
       "flex_flow": null,
       "grid_area": null,
       "grid_auto_columns": null,
       "grid_auto_flow": null,
       "grid_auto_rows": null,
       "grid_column": null,
       "grid_gap": null,
       "grid_row": null,
       "grid_template_areas": null,
       "grid_template_columns": null,
       "grid_template_rows": null,
       "height": null,
       "justify_content": null,
       "justify_items": null,
       "left": null,
       "margin": null,
       "max_height": null,
       "max_width": null,
       "min_height": null,
       "min_width": null,
       "object_fit": null,
       "object_position": null,
       "order": null,
       "overflow": null,
       "overflow_x": null,
       "overflow_y": null,
       "padding": null,
       "right": null,
       "top": null,
       "visibility": null,
       "width": null
      }
     },
     "93bbd40542594e038edf0fa003ebaf74": {
      "model_module": "@jupyter-widgets/base",
      "model_module_version": "1.2.0",
      "model_name": "LayoutModel",
      "state": {
       "_model_module": "@jupyter-widgets/base",
       "_model_module_version": "1.2.0",
       "_model_name": "LayoutModel",
       "_view_count": null,
       "_view_module": "@jupyter-widgets/base",
       "_view_module_version": "1.2.0",
       "_view_name": "LayoutView",
       "align_content": null,
       "align_items": null,
       "align_self": null,
       "border": null,
       "bottom": null,
       "display": null,
       "flex": null,
       "flex_flow": null,
       "grid_area": null,
       "grid_auto_columns": null,
       "grid_auto_flow": null,
       "grid_auto_rows": null,
       "grid_column": null,
       "grid_gap": null,
       "grid_row": null,
       "grid_template_areas": null,
       "grid_template_columns": null,
       "grid_template_rows": null,
       "height": null,
       "justify_content": null,
       "justify_items": null,
       "left": null,
       "margin": null,
       "max_height": null,
       "max_width": null,
       "min_height": null,
       "min_width": null,
       "object_fit": null,
       "object_position": null,
       "order": null,
       "overflow": null,
       "overflow_x": null,
       "overflow_y": null,
       "padding": null,
       "right": null,
       "top": null,
       "visibility": null,
       "width": null
      }
     },
     "a3cb1c8e80e340feb53ad2fd5d1bfc80": {
      "model_module": "@jupyter-widgets/controls",
      "model_module_version": "1.5.0",
      "model_name": "HTMLModel",
      "state": {
       "_dom_classes": [],
       "_model_module": "@jupyter-widgets/controls",
       "_model_module_version": "1.5.0",
       "_model_name": "HTMLModel",
       "_view_count": null,
       "_view_module": "@jupyter-widgets/controls",
       "_view_module_version": "1.5.0",
       "_view_name": "HTMLView",
       "description": "",
       "description_tooltip": null,
       "layout": "IPY_MODEL_7249c82a42294074905324e45ef6179b",
       "placeholder": "​",
       "style": "IPY_MODEL_4667f59fe3524de6bd2abb8ee8775e0c",
       "value": "model.safetensors: 100%"
      }
     },
     "d1d3963fb7f34d20833e66c0a7be5978": {
      "model_module": "@jupyter-widgets/controls",
      "model_module_version": "1.5.0",
      "model_name": "ProgressStyleModel",
      "state": {
       "_model_module": "@jupyter-widgets/controls",
       "_model_module_version": "1.5.0",
       "_model_name": "ProgressStyleModel",
       "_view_count": null,
       "_view_module": "@jupyter-widgets/base",
       "_view_module_version": "1.2.0",
       "_view_name": "StyleView",
       "bar_color": null,
       "description_width": ""
      }
     }
    },
    "version_major": 2,
    "version_minor": 0
   }
  }
 },
 "nbformat": 4,
 "nbformat_minor": 5
}
