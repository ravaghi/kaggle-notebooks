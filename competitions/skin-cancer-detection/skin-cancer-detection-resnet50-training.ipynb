{
 "cells": [
  {
   "cell_type": "markdown",
   "id": "e565272e",
   "metadata": {
    "papermill": {
     "duration": 0.006216,
     "end_time": "2024-08-23T10:46:18.086461",
     "exception": false,
     "start_time": "2024-08-23T10:46:18.080245",
     "status": "completed"
    },
    "tags": []
   },
   "source": [
    "### Inference notebook:\n",
    "- https://www.kaggle.com/code/ravaghi/skin-cancer-detection-resnet50-inference"
   ]
  },
  {
   "cell_type": "markdown",
   "id": "4fffbdbd",
   "metadata": {
    "id": "1dDypZ7k-v-d",
    "papermill": {
     "duration": 0.005294,
     "end_time": "2024-08-23T10:46:18.097420",
     "exception": false,
     "start_time": "2024-08-23T10:46:18.092126",
     "status": "completed"
    },
    "tags": []
   },
   "source": [
    "# Imports and configs"
   ]
  },
  {
   "cell_type": "code",
   "execution_count": 1,
   "id": "c41301a4",
   "metadata": {
    "execution": {
     "iopub.execute_input": "2024-08-23T10:46:18.109950Z",
     "iopub.status.busy": "2024-08-23T10:46:18.109591Z",
     "iopub.status.idle": "2024-08-23T10:46:27.200783Z",
     "shell.execute_reply": "2024-08-23T10:46:27.199762Z"
    },
    "id": "mqguadtYvxPn",
    "papermill": {
     "duration": 9.100163,
     "end_time": "2024-08-23T10:46:27.203121",
     "exception": false,
     "start_time": "2024-08-23T10:46:18.102958",
     "status": "completed"
    },
    "tags": []
   },
   "outputs": [],
   "source": [
    "from sklearn.model_selection import StratifiedGroupKFold\n",
    "from sklearn.metrics import roc_curve, auc\n",
    "from torch.utils.data import DataLoader, Dataset\n",
    "from albumentations.pytorch import ToTensorV2\n",
    "import matplotlib.pyplot as plt\n",
    "import torch.optim as optim\n",
    "import torch.nn.functional as F\n",
    "import albumentations as A\n",
    "import seaborn as sns\n",
    "from tqdm import tqdm\n",
    "from PIL import Image\n",
    "import torch.nn as nn\n",
    "import pandas as pd\n",
    "import numpy as np\n",
    "import warnings\n",
    "import h5py\n",
    "import torch\n",
    "import random\n",
    "import timm\n",
    "import cv2\n",
    "import io\n",
    "import os\n",
    "import gc\n",
    "\n",
    "warnings.filterwarnings('ignore')"
   ]
  },
  {
   "cell_type": "code",
   "execution_count": 2,
   "id": "9e328874",
   "metadata": {
    "execution": {
     "iopub.execute_input": "2024-08-23T10:46:27.216159Z",
     "iopub.status.busy": "2024-08-23T10:46:27.215873Z",
     "iopub.status.idle": "2024-08-23T10:46:27.279218Z",
     "shell.execute_reply": "2024-08-23T10:46:27.278319Z"
    },
    "id": "xOBgLd7--v-h",
    "papermill": {
     "duration": 0.071894,
     "end_time": "2024-08-23T10:46:27.281120",
     "exception": false,
     "start_time": "2024-08-23T10:46:27.209226",
     "status": "completed"
    },
    "tags": []
   },
   "outputs": [],
   "source": [
    "class CFG:\n",
    "    train_metadata_path = '/kaggle/input/isic-2024-challenge/train-metadata.csv'\n",
    "    test_metadata_path = '/kaggle/input/isic-2024-challenge/test-metadata.csv'\n",
    "    train_img_path = '/kaggle/input/isic-2024-challenge/train-image.hdf5'\n",
    "    test_img_path = '/kaggle/input/isic-2024-challenge/test-image.hdf5'\n",
    "    sample_sub_path = '/kaggle/input/isic-2024-challenge/sample_submission.csv'\n",
    "    checkpoint_path = '/kaggle/working/checkpoints'\n",
    "\n",
    "    device = torch.device('cuda' if torch.cuda.is_available() else 'cpu')\n",
    "    max_epochs = 100\n",
    "    learning_rate = 5e-4\n",
    "    weight_decay = 1e-6\n",
    "    min_lr = 1e-7\n",
    "    train_batch_size = 32\n",
    "    val_batch_size = 64\n",
    "    n_folds = 5\n",
    "    seed = 35555\n",
    "    model_name = \"resnet50\"\n",
    "    es_patience = 15"
   ]
  },
  {
   "cell_type": "code",
   "execution_count": 3,
   "id": "08b2d97e",
   "metadata": {
    "execution": {
     "iopub.execute_input": "2024-08-23T10:46:27.294421Z",
     "iopub.status.busy": "2024-08-23T10:46:27.293748Z",
     "iopub.status.idle": "2024-08-23T10:46:27.301310Z",
     "shell.execute_reply": "2024-08-23T10:46:27.300600Z"
    },
    "id": "5a6g1bxI-v-i",
    "papermill": {
     "duration": 0.016146,
     "end_time": "2024-08-23T10:46:27.303123",
     "exception": false,
     "start_time": "2024-08-23T10:46:27.286977",
     "status": "completed"
    },
    "tags": []
   },
   "outputs": [],
   "source": [
    "def seed_everything(seed):\n",
    "    random.seed(seed)\n",
    "    os.environ['PYTHONHASHSEED'] = str(seed)\n",
    "    np.random.seed(seed)\n",
    "    torch.manual_seed(seed)\n",
    "    torch.cuda.manual_seed(seed)\n",
    "    torch.backends.cudnn.deterministic = True\n",
    "    torch.backends.cudnn.benchmark = False\n",
    "\n",
    "seed_everything(CFG.seed)"
   ]
  },
  {
   "cell_type": "markdown",
   "id": "d5935c9e",
   "metadata": {
    "id": "vM_js2t2-v-i",
    "papermill": {
     "duration": 0.005628,
     "end_time": "2024-08-23T10:46:27.314734",
     "exception": false,
     "start_time": "2024-08-23T10:46:27.309106",
     "status": "completed"
    },
    "tags": []
   },
   "source": [
    "# Loading and splitting the datasets"
   ]
  },
  {
   "cell_type": "code",
   "execution_count": 4,
   "id": "462887cc",
   "metadata": {
    "execution": {
     "iopub.execute_input": "2024-08-23T10:46:27.327379Z",
     "iopub.status.busy": "2024-08-23T10:46:27.326910Z",
     "iopub.status.idle": "2024-08-23T10:46:34.527830Z",
     "shell.execute_reply": "2024-08-23T10:46:34.526851Z"
    },
    "id": "X7yXnRQG-v-i",
    "papermill": {
     "duration": 7.209675,
     "end_time": "2024-08-23T10:46:34.530146",
     "exception": false,
     "start_time": "2024-08-23T10:46:27.320471",
     "status": "completed"
    },
    "tags": []
   },
   "outputs": [],
   "source": [
    "train_metadata = pd.read_csv(CFG.train_metadata_path)\n",
    "\n",
    "positives = train_metadata[train_metadata.target == 1]\n",
    "negatives = train_metadata[train_metadata.target == 0]\n",
    "train_metadata = pd.concat([positives, negatives.sample(n=20 * len(positives), random_state=CFG.seed)])\n",
    "train_metadata = train_metadata.sample(frac=1, random_state=CFG.seed).reset_index(drop=True)"
   ]
  },
  {
   "cell_type": "code",
   "execution_count": 5,
   "id": "ca31b9cc",
   "metadata": {
    "execution": {
     "iopub.execute_input": "2024-08-23T10:46:34.543974Z",
     "iopub.status.busy": "2024-08-23T10:46:34.543243Z",
     "iopub.status.idle": "2024-08-23T10:46:34.988477Z",
     "shell.execute_reply": "2024-08-23T10:46:34.987743Z"
    },
    "id": "BhUgevhz-v-i",
    "papermill": {
     "duration": 0.454083,
     "end_time": "2024-08-23T10:46:34.990492",
     "exception": false,
     "start_time": "2024-08-23T10:46:34.536409",
     "status": "completed"
    },
    "tags": []
   },
   "outputs": [],
   "source": [
    "sgkf = StratifiedGroupKFold(n_splits=CFG.n_folds, random_state=CFG.seed, shuffle=True)\n",
    "split = sgkf.split(train_metadata, train_metadata.target, groups=train_metadata.patient_id)\n",
    "for i, (_, val_index) in enumerate(split):\n",
    "    train_metadata.loc[val_index, 'fold'] = i"
   ]
  },
  {
   "cell_type": "code",
   "execution_count": 6,
   "id": "a171ce15",
   "metadata": {
    "execution": {
     "iopub.execute_input": "2024-08-23T10:46:35.004011Z",
     "iopub.status.busy": "2024-08-23T10:46:35.003310Z",
     "iopub.status.idle": "2024-08-23T10:46:41.884329Z",
     "shell.execute_reply": "2024-08-23T10:46:41.883384Z"
    },
    "id": "IF-0HJKr5Ub-",
    "papermill": {
     "duration": 6.89048,
     "end_time": "2024-08-23T10:46:41.886983",
     "exception": false,
     "start_time": "2024-08-23T10:46:34.996503",
     "status": "completed"
    },
    "tags": []
   },
   "outputs": [],
   "source": [
    "train_metadata2 = pd.read_csv(CFG.train_metadata_path)\n",
    "\n",
    "sgkf = StratifiedGroupKFold(n_splits=CFG.n_folds, random_state=CFG.seed, shuffle=True)\n",
    "split = sgkf.split(train_metadata2, train_metadata2.target, groups=train_metadata2.patient_id)\n",
    "for i, (_, val_index) in enumerate(split):\n",
    "    train_metadata2.loc[val_index, 'fold'] = i"
   ]
  },
  {
   "cell_type": "code",
   "execution_count": 7,
   "id": "038e1585",
   "metadata": {
    "execution": {
     "iopub.execute_input": "2024-08-23T10:46:41.902863Z",
     "iopub.status.busy": "2024-08-23T10:46:41.902537Z",
     "iopub.status.idle": "2024-08-23T10:46:41.907521Z",
     "shell.execute_reply": "2024-08-23T10:46:41.906513Z"
    },
    "papermill": {
     "duration": 0.015431,
     "end_time": "2024-08-23T10:46:41.909774",
     "exception": false,
     "start_time": "2024-08-23T10:46:41.894343",
     "status": "completed"
    },
    "tags": []
   },
   "outputs": [],
   "source": [
    "CFG.t_max = train_metadata.shape[0] * (CFG.n_folds-1) * CFG.max_epochs // CFG.train_batch_size // CFG.n_folds"
   ]
  },
  {
   "cell_type": "markdown",
   "id": "23532a92",
   "metadata": {
    "id": "D6JNsMWX-v-i",
    "papermill": {
     "duration": 0.006829,
     "end_time": "2024-08-23T10:46:41.923734",
     "exception": false,
     "start_time": "2024-08-23T10:46:41.916905",
     "status": "completed"
    },
    "tags": []
   },
   "source": [
    "# Creating a custom image dataset"
   ]
  },
  {
   "cell_type": "code",
   "execution_count": 8,
   "id": "714c7851",
   "metadata": {
    "execution": {
     "iopub.execute_input": "2024-08-23T10:46:41.939662Z",
     "iopub.status.busy": "2024-08-23T10:46:41.939367Z",
     "iopub.status.idle": "2024-08-23T10:46:41.948031Z",
     "shell.execute_reply": "2024-08-23T10:46:41.947053Z"
    },
    "id": "DxAgokRgvxPr",
    "papermill": {
     "duration": 0.019432,
     "end_time": "2024-08-23T10:46:41.950081",
     "exception": false,
     "start_time": "2024-08-23T10:46:41.930649",
     "status": "completed"
    },
    "tags": []
   },
   "outputs": [],
   "source": [
    "class ISICDataset(Dataset):\n",
    "    def __init__(self, data_path, metadata, transform=None):\n",
    "        self.data = h5py.File(data_path, 'r')\n",
    "        self.metadata = metadata\n",
    "        self.transform = transform\n",
    "\n",
    "    def __len__(self):\n",
    "        return len(self.metadata)\n",
    "\n",
    "    def __getitem__(self, idx):\n",
    "        img_name = self.metadata.iloc[idx]['isic_id']\n",
    "        image = np.array(self.data[img_name])\n",
    "        image = np.array(Image.open(io.BytesIO(image)))\n",
    "        image = cv2.cvtColor(image, cv2.COLOR_BGR2RGB)\n",
    "\n",
    "        if self.transform:\n",
    "            augmented = self.transform(image=image)\n",
    "            image = augmented['image']\n",
    "\n",
    "        if 'target' in self.metadata.columns:\n",
    "            label = int(self.metadata['target'].iloc[idx])\n",
    "            return image, label\n",
    "        else:\n",
    "            return image, 0"
   ]
  },
  {
   "cell_type": "code",
   "execution_count": 9,
   "id": "c5a31c43",
   "metadata": {
    "execution": {
     "iopub.execute_input": "2024-08-23T10:46:41.965183Z",
     "iopub.status.busy": "2024-08-23T10:46:41.964902Z",
     "iopub.status.idle": "2024-08-23T10:46:41.974818Z",
     "shell.execute_reply": "2024-08-23T10:46:41.973955Z"
    },
    "id": "6tUJogKp-v-j",
    "papermill": {
     "duration": 0.01957,
     "end_time": "2024-08-23T10:46:41.976691",
     "exception": false,
     "start_time": "2024-08-23T10:46:41.957121",
     "status": "completed"
    },
    "tags": []
   },
   "outputs": [],
   "source": [
    "# Reference: https://www.kaggle.com/code/motono0223/isic-pytorch-training-baseline-image-only\n",
    "\n",
    "transforms = {\n",
    "    \"train\": A.Compose([\n",
    "        A.Resize(224, 224),\n",
    "        A.RandomRotate90(p=0.5),\n",
    "        A.Flip(p=0.5),\n",
    "        A.Downscale(p=0.25),\n",
    "        A.ShiftScaleRotate(\n",
    "            shift_limit=0.1,\n",
    "            scale_limit=0.15,\n",
    "            rotate_limit=60,\n",
    "            p=0.5\n",
    "        ),\n",
    "        A.HueSaturationValue(\n",
    "            hue_shift_limit=0.2,\n",
    "            sat_shift_limit=0.2,\n",
    "            val_shift_limit=0.2,\n",
    "            p=0.5\n",
    "        ),\n",
    "        A.RandomBrightnessContrast(\n",
    "            brightness_limit=(-0.1, 0.1),\n",
    "            contrast_limit=(-0.1, 0.1),\n",
    "            p=0.5\n",
    "        ),\n",
    "        A.Normalize(\n",
    "            mean=[0.4815, 0.4578, 0.4082],\n",
    "            std=[0.2686, 0.2613, 0.2758],\n",
    "            max_pixel_value=255.0,\n",
    "            p=1.0\n",
    "        ),\n",
    "        ToTensorV2()], p=1.),\n",
    "\n",
    "    \"val\": A.Compose([\n",
    "        A.Resize(224, 224),\n",
    "        A.Normalize(\n",
    "            mean=[0.4815, 0.4578, 0.4082],\n",
    "            std=[0.2686, 0.2613, 0.2758],\n",
    "            max_pixel_value=255.0,\n",
    "            p=1.0\n",
    "        ),\n",
    "        ToTensorV2()], p=1.)\n",
    "}"
   ]
  },
  {
   "cell_type": "markdown",
   "id": "6e42af8a",
   "metadata": {
    "id": "QSzebgg8-v-j",
    "papermill": {
     "duration": 0.005824,
     "end_time": "2024-08-23T10:46:41.988903",
     "exception": false,
     "start_time": "2024-08-23T10:46:41.983079",
     "status": "completed"
    },
    "tags": []
   },
   "source": [
    "# Customizing the image model"
   ]
  },
  {
   "cell_type": "code",
   "execution_count": 10,
   "id": "1f727320",
   "metadata": {
    "execution": {
     "iopub.execute_input": "2024-08-23T10:46:42.002031Z",
     "iopub.status.busy": "2024-08-23T10:46:42.001744Z",
     "iopub.status.idle": "2024-08-23T10:46:42.008122Z",
     "shell.execute_reply": "2024-08-23T10:46:42.007374Z"
    },
    "id": "uhUwzYAHRelB",
    "papermill": {
     "duration": 0.015,
     "end_time": "2024-08-23T10:46:42.010016",
     "exception": false,
     "start_time": "2024-08-23T10:46:41.995016",
     "status": "completed"
    },
    "tags": []
   },
   "outputs": [],
   "source": [
    "class ResNet(nn.Module):\n",
    "    def __init__(self, model_name, pretrained=True):\n",
    "        super(ResNet, self).__init__()\n",
    "        self.model = timm.create_model(model_name, pretrained=pretrained, in_chans=3)\n",
    "        num_features = 1000\n",
    "        self.classifier = nn.Sequential(\n",
    "            nn.Linear(num_features, 512),\n",
    "            nn.BatchNorm1d(512),\n",
    "            nn.ReLU(),\n",
    "            nn.Dropout(0.5),\n",
    "            nn.Linear(512, 1),\n",
    "            nn.Sigmoid()\n",
    "        )\n",
    "\n",
    "    def forward(self, x):\n",
    "        x = self.model(x)\n",
    "        x = self.classifier(x)\n",
    "        return x"
   ]
  },
  {
   "cell_type": "markdown",
   "id": "c6b18d17",
   "metadata": {
    "id": "NbENY6cl-v-j",
    "papermill": {
     "duration": 0.005925,
     "end_time": "2024-08-23T10:46:42.022114",
     "exception": false,
     "start_time": "2024-08-23T10:46:42.016189",
     "status": "completed"
    },
    "tags": []
   },
   "source": [
    "# Creating a trainer class"
   ]
  },
  {
   "cell_type": "code",
   "execution_count": 11,
   "id": "c7684caa",
   "metadata": {
    "execution": {
     "iopub.execute_input": "2024-08-23T10:46:42.035764Z",
     "iopub.status.busy": "2024-08-23T10:46:42.035500Z",
     "iopub.status.idle": "2024-08-23T10:46:42.062402Z",
     "shell.execute_reply": "2024-08-23T10:46:42.061542Z"
    },
    "id": "yWUV5TeWvxPs",
    "papermill": {
     "duration": 0.036053,
     "end_time": "2024-08-23T10:46:42.064251",
     "exception": false,
     "start_time": "2024-08-23T10:46:42.028198",
     "status": "completed"
    },
    "tags": []
   },
   "outputs": [],
   "source": [
    "class Trainer:\n",
    "    def __init__(\n",
    "        self,\n",
    "        device,\n",
    "        model,\n",
    "        criterion,\n",
    "        optimizer,\n",
    "        scheduler,\n",
    "        train_dataloader,\n",
    "        val_dataloader,\n",
    "        checkpoint_path,\n",
    "        fold_idx,\n",
    "        es_patience\n",
    "    ):\n",
    "        self.device = device\n",
    "        self.model = model\n",
    "        self.criterion = criterion\n",
    "        self.optimizer = optimizer\n",
    "        self.scheduler = scheduler\n",
    "        self.train_dataloader = train_dataloader\n",
    "        self.val_dataloader = val_dataloader\n",
    "        self.checkpoint_path = checkpoint_path\n",
    "        self.best_pauc = 0.0\n",
    "        self.best_model_path = None\n",
    "        self.fold_idx = fold_idx\n",
    "        self.es_patience = es_patience\n",
    "        self.create_checkpoint_path()\n",
    "\n",
    "    def create_checkpoint_path(self):\n",
    "        if not os.path.exists(self.checkpoint_path):\n",
    "            os.makedirs(self.checkpoint_path)\n",
    "\n",
    "    @staticmethod\n",
    "    def p_roc_auc_score(y_true, y_preds, min_tpr: float = 0.80):\n",
    "        v_gt = abs(np.asarray(y_true)-1)\n",
    "        v_pred = -1.0 * np.asarray(y_preds)\n",
    "        max_fpr = abs(1-min_tpr)\n",
    "        fpr, tpr, _ = roc_curve(v_gt, v_pred, sample_weight=None)\n",
    "        if max_fpr is None or max_fpr == 1:\n",
    "            return auc(fpr, tpr)\n",
    "        if max_fpr <= 0 or max_fpr > 1:\n",
    "            raise ValueError(\"Expected min_tpr in range [0, 1), got: %r\" % min_tpr)\n",
    "        stop = np.searchsorted(fpr, max_fpr, \"right\")\n",
    "        x_interp = [fpr[stop - 1], fpr[stop]]\n",
    "        y_interp = [tpr[stop - 1], tpr[stop]]\n",
    "        tpr = np.append(tpr[:stop], np.interp(max_fpr, x_interp, y_interp))\n",
    "        fpr = np.append(fpr[:stop], max_fpr)\n",
    "        partial_auc = auc(fpr, tpr)\n",
    "        return partial_auc\n",
    "\n",
    "    def train(self, current_epoch_nr):\n",
    "        self.model.train()\n",
    "\n",
    "        num_batches = len(self.train_dataloader)\n",
    "\n",
    "        running_loss = 0.0\n",
    "        total = 0\n",
    "\n",
    "        preds = []\n",
    "        targets = []\n",
    "\n",
    "        loop = tqdm(self.train_dataloader, total=num_batches)\n",
    "        for batch in loop:\n",
    "            x, y = batch\n",
    "            x, y = x.to(self.device, dtype=torch.float), y.to(self.device, dtype=torch.float)\n",
    "\n",
    "            self.optimizer.zero_grad()\n",
    "\n",
    "            y_hat = self.model(x).squeeze()\n",
    "\n",
    "            preds.extend(y_hat.detach().cpu().numpy())\n",
    "            targets.extend(y.detach().cpu().numpy())\n",
    "\n",
    "            loss = self.criterion(y_hat, y)\n",
    "            loss.backward()\n",
    "            self.optimizer.step()\n",
    "\n",
    "            running_loss += loss.item() * x.size(0)\n",
    "            total += y.size(0)\n",
    "\n",
    "            loop.set_description(f'Epoch {current_epoch_nr}')\n",
    "            loop.set_postfix(train_loss=round(running_loss / total, 6))\n",
    "\n",
    "            if self.scheduler is not None:\n",
    "                self.scheduler.step()\n",
    "\n",
    "        train_pauc = self.p_roc_auc_score(targets, preds)\n",
    "        train_loss = running_loss / num_batches\n",
    "\n",
    "        return train_pauc, train_loss\n",
    "\n",
    "    def evaluate(self, current_epoch_nr):\n",
    "        self.model.eval()\n",
    "\n",
    "        num_batches = len(self.val_dataloader)\n",
    "\n",
    "        running_loss = 0.0\n",
    "        total = 0\n",
    "\n",
    "        preds = []\n",
    "        targets = []\n",
    "\n",
    "        with torch.no_grad():\n",
    "            loop = tqdm(self.val_dataloader, total=num_batches)\n",
    "            for batch in loop:\n",
    "                x, y = batch\n",
    "                x, y = x.to(self.device, dtype=torch.float), y.to(self.device, dtype=torch.float)\n",
    "\n",
    "                self.optimizer.zero_grad()\n",
    "\n",
    "                y_hat = self.model(x).squeeze()\n",
    "                \n",
    "                preds.extend(y_hat.detach().cpu().numpy())\n",
    "                targets.extend(y.detach().cpu().numpy())\n",
    "\n",
    "                loss = self.criterion(y_hat, y)\n",
    "                running_loss += loss.item() * x.size(0)\n",
    "                total += y.size(0)\n",
    "\n",
    "                loop.set_description(f'Epoch {current_epoch_nr}')\n",
    "                loop.set_postfix(val_loss=round(running_loss / total, 6))\n",
    "\n",
    "        val_pauc = self.p_roc_auc_score(targets, preds)\n",
    "        val_loss = running_loss / num_batches\n",
    "\n",
    "        if val_pauc > self.best_pauc:\n",
    "            self.es_patience = CFG.es_patience\n",
    "            if self.best_pauc != 0.0:\n",
    "                print(f'New best model found: pAUC = {val_pauc:.6f} (previous best: {self.best_pauc:.6f})')\n",
    "            self.best_pauc = val_pauc\n",
    "            checkpoint_name = f'fold_{self.fold_idx}_epoch_{current_epoch_nr}_pauc_{round(val_pauc, 6)}.pth'\n",
    "\n",
    "            for file in os.listdir(self.checkpoint_path):\n",
    "                if file.startswith(f'fold_{self.fold_idx}_epoch_'):\n",
    "                    os.remove(os.path.join(self.checkpoint_path, file))\n",
    "\n",
    "            torch.save(\n",
    "                self.model.state_dict(),\n",
    "                os.path.join(self.checkpoint_path, checkpoint_name)\n",
    "            )\n",
    "            self.best_model_path = os.path.join(\n",
    "                self.checkpoint_path, checkpoint_name)\n",
    "\n",
    "        else:\n",
    "            self.es_patience -= 1\n",
    "            if self.es_patience == 0:\n",
    "                print(f'Early stopping triggered at epoch {current_epoch_nr}. Best pAUC = {self.best_pauc:.6f}')\n",
    "                return val_pauc, val_loss, True\n",
    "\n",
    "        return val_pauc, val_loss, False\n",
    "\n",
    "    def predict(self, dataloader):\n",
    "        model = self.model.to(self.device)\n",
    "        model.load_state_dict(torch.load(self.best_model_path))\n",
    "        model.eval()\n",
    "\n",
    "        preds = []\n",
    "        with torch.no_grad():\n",
    "            loop = tqdm(dataloader, total=len(dataloader))\n",
    "            for batch in loop:\n",
    "                x, _ = batch\n",
    "                x = x.to(self.device, dtype=torch.float)\n",
    "                y_hat = model(x).squeeze()\n",
    "                preds.extend(y_hat.detach().cpu().numpy())\n",
    "                loop.set_description(f'Prediction')\n",
    "\n",
    "        return preds"
   ]
  },
  {
   "cell_type": "markdown",
   "id": "00b8a454",
   "metadata": {
    "id": "uE7oYGyR-v-j",
    "papermill": {
     "duration": 0.005933,
     "end_time": "2024-08-23T10:46:42.076302",
     "exception": false,
     "start_time": "2024-08-23T10:46:42.070369",
     "status": "completed"
    },
    "tags": []
   },
   "source": [
    "# Training and cross-validation"
   ]
  },
  {
   "cell_type": "code",
   "execution_count": 12,
   "id": "68a27d32",
   "metadata": {
    "_kg_hide-output": true,
    "execution": {
     "iopub.execute_input": "2024-08-23T10:46:42.089767Z",
     "iopub.status.busy": "2024-08-23T10:46:42.089300Z",
     "iopub.status.idle": "2024-08-23T17:58:34.031917Z",
     "shell.execute_reply": "2024-08-23T17:58:34.030859Z"
    },
    "id": "z6ry0OmfyEmZ",
    "outputId": "be79b77b-0941-4759-b0c8-635e6c72b19e",
    "papermill": {
     "duration": 25914.538568,
     "end_time": "2024-08-23T17:58:36.620957",
     "exception": false,
     "start_time": "2024-08-23T10:46:42.082389",
     "status": "completed"
    },
    "tags": []
   },
   "outputs": [
    {
     "name": "stdout",
     "output_type": "stream",
     "text": [
      "---------------------------------- Fold 1 ----------------------------------\n"
     ]
    },
    {
     "data": {
      "application/vnd.jupyter.widget-view+json": {
       "model_id": "756edd57788c4597946a51b79f2c835d",
       "version_major": 2,
       "version_minor": 0
      },
      "text/plain": [
       "model.safetensors:   0%|          | 0.00/102M [00:00<?, ?B/s]"
      ]
     },
     "metadata": {},
     "output_type": "display_data"
    },
    {
     "name": "stderr",
     "output_type": "stream",
     "text": [
      "Epoch 1: 100%|██████████| 209/209 [02:14<00:00,  1.56it/s, train_loss=0.221]\n",
      "Epoch 1: 100%|██████████| 25/25 [00:03<00:00,  6.57it/s, val_loss=0.152]\n"
     ]
    },
    {
     "name": "stdout",
     "output_type": "stream",
     "text": [
      "Epoch 1: Train pAUC: 0.052074 - Val pAUC: 0.069680 | Train Loss: 7.047657 - Val Loss: 9.664161\n",
      "\n"
     ]
    },
    {
     "name": "stderr",
     "output_type": "stream",
     "text": [
      "Epoch 2: 100%|██████████| 209/209 [02:12<00:00,  1.57it/s, train_loss=0.161]\n",
      "Epoch 2: 100%|██████████| 25/25 [00:03<00:00,  7.36it/s, val_loss=0.143]\n"
     ]
    },
    {
     "name": "stdout",
     "output_type": "stream",
     "text": [
      "New best model found: pAUC = 0.098542 (previous best: 0.069680)\n",
      "Epoch 2: Train pAUC: 0.077319 - Val pAUC: 0.098542 | Train Loss: 5.127893 - Val Loss: 9.116517\n",
      "\n"
     ]
    },
    {
     "name": "stderr",
     "output_type": "stream",
     "text": [
      "Epoch 3: 100%|██████████| 209/209 [02:12<00:00,  1.58it/s, train_loss=0.144]\n",
      "Epoch 3: 100%|██████████| 25/25 [00:03<00:00,  7.36it/s, val_loss=0.134]\n"
     ]
    },
    {
     "name": "stdout",
     "output_type": "stream",
     "text": [
      "Epoch 3: Train pAUC: 0.100911 - Val pAUC: 0.084651 | Train Loss: 4.582252 - Val Loss: 8.518811\n",
      "\n"
     ]
    },
    {
     "name": "stderr",
     "output_type": "stream",
     "text": [
      "Epoch 4: 100%|██████████| 209/209 [02:12<00:00,  1.57it/s, train_loss=0.133]\n",
      "Epoch 4: 100%|██████████| 25/25 [00:03<00:00,  7.34it/s, val_loss=0.165]\n"
     ]
    },
    {
     "name": "stdout",
     "output_type": "stream",
     "text": [
      "Epoch 4: Train pAUC: 0.115448 - Val pAUC: 0.070598 | Train Loss: 4.233697 - Val Loss: 10.462660\n",
      "\n"
     ]
    },
    {
     "name": "stderr",
     "output_type": "stream",
     "text": [
      "Epoch 5: 100%|██████████| 209/209 [02:12<00:00,  1.58it/s, train_loss=0.128]\n",
      "Epoch 5: 100%|██████████| 25/25 [00:03<00:00,  7.42it/s, val_loss=0.139]\n"
     ]
    },
    {
     "name": "stdout",
     "output_type": "stream",
     "text": [
      "New best model found: pAUC = 0.109770 (previous best: 0.098542)\n",
      "Epoch 5: Train pAUC: 0.127390 - Val pAUC: 0.109770 | Train Loss: 4.082265 - Val Loss: 8.863545\n",
      "\n"
     ]
    },
    {
     "name": "stderr",
     "output_type": "stream",
     "text": [
      "Epoch 6: 100%|██████████| 209/209 [02:12<00:00,  1.58it/s, train_loss=0.129]\n",
      "Epoch 6: 100%|██████████| 25/25 [00:03<00:00,  7.43it/s, val_loss=0.123]\n"
     ]
    },
    {
     "name": "stdout",
     "output_type": "stream",
     "text": [
      "New best model found: pAUC = 0.112868 (previous best: 0.109770)\n",
      "Epoch 6: Train pAUC: 0.124307 - Val pAUC: 0.112868 | Train Loss: 4.104859 - Val Loss: 7.822858\n",
      "\n"
     ]
    },
    {
     "name": "stderr",
     "output_type": "stream",
     "text": [
      "Epoch 7: 100%|██████████| 209/209 [02:12<00:00,  1.57it/s, train_loss=0.124]\n",
      "Epoch 7: 100%|██████████| 25/25 [00:03<00:00,  7.44it/s, val_loss=0.12]\n"
     ]
    },
    {
     "name": "stdout",
     "output_type": "stream",
     "text": [
      "Epoch 7: Train pAUC: 0.131561 - Val pAUC: 0.110648 | Train Loss: 3.968179 - Val Loss: 7.603316\n",
      "\n"
     ]
    },
    {
     "name": "stderr",
     "output_type": "stream",
     "text": [
      "Epoch 8: 100%|██████████| 209/209 [02:12<00:00,  1.58it/s, train_loss=0.119]\n",
      "Epoch 8: 100%|██████████| 25/25 [00:03<00:00,  7.34it/s, val_loss=0.118]\n"
     ]
    },
    {
     "name": "stdout",
     "output_type": "stream",
     "text": [
      "New best model found: pAUC = 0.116126 (previous best: 0.112868)\n",
      "Epoch 8: Train pAUC: 0.133561 - Val pAUC: 0.116126 | Train Loss: 3.807569 - Val Loss: 7.488785\n",
      "\n"
     ]
    },
    {
     "name": "stderr",
     "output_type": "stream",
     "text": [
      "Epoch 9: 100%|██████████| 209/209 [02:12<00:00,  1.58it/s, train_loss=0.115]\n",
      "Epoch 9: 100%|██████████| 25/25 [00:03<00:00,  7.52it/s, val_loss=0.115]\n"
     ]
    },
    {
     "name": "stdout",
     "output_type": "stream",
     "text": [
      "Epoch 9: Train pAUC: 0.142759 - Val pAUC: 0.109559 | Train Loss: 3.651906 - Val Loss: 7.343095\n",
      "\n"
     ]
    },
    {
     "name": "stderr",
     "output_type": "stream",
     "text": [
      "Epoch 10: 100%|██████████| 209/209 [02:12<00:00,  1.58it/s, train_loss=0.113]\n",
      "Epoch 10: 100%|██████████| 25/25 [00:03<00:00,  7.49it/s, val_loss=0.13]\n"
     ]
    },
    {
     "name": "stdout",
     "output_type": "stream",
     "text": [
      "Epoch 10: Train pAUC: 0.141387 - Val pAUC: 0.114784 | Train Loss: 3.608823 - Val Loss: 8.292560\n",
      "\n"
     ]
    },
    {
     "name": "stderr",
     "output_type": "stream",
     "text": [
      "Epoch 11: 100%|██████████| 209/209 [02:12<00:00,  1.57it/s, train_loss=0.107]\n",
      "Epoch 11: 100%|██████████| 25/25 [00:03<00:00,  7.43it/s, val_loss=0.119]\n"
     ]
    },
    {
     "name": "stdout",
     "output_type": "stream",
     "text": [
      "New best model found: pAUC = 0.134144 (previous best: 0.116126)\n",
      "Epoch 11: Train pAUC: 0.150673 - Val pAUC: 0.134144 | Train Loss: 3.406003 - Val Loss: 7.542065\n",
      "\n"
     ]
    },
    {
     "name": "stderr",
     "output_type": "stream",
     "text": [
      "Epoch 12: 100%|██████████| 209/209 [02:12<00:00,  1.58it/s, train_loss=0.11]\n",
      "Epoch 12: 100%|██████████| 25/25 [00:03<00:00,  7.52it/s, val_loss=0.128]\n"
     ]
    },
    {
     "name": "stdout",
     "output_type": "stream",
     "text": [
      "Epoch 12: Train pAUC: 0.153585 - Val pAUC: 0.109821 | Train Loss: 3.512422 - Val Loss: 8.123756\n",
      "\n"
     ]
    },
    {
     "name": "stderr",
     "output_type": "stream",
     "text": [
      "Epoch 13: 100%|██████████| 209/209 [02:12<00:00,  1.58it/s, train_loss=0.106]\n",
      "Epoch 13: 100%|██████████| 25/25 [00:03<00:00,  7.34it/s, val_loss=0.123]\n"
     ]
    },
    {
     "name": "stdout",
     "output_type": "stream",
     "text": [
      "Epoch 13: Train pAUC: 0.155870 - Val pAUC: 0.119193 | Train Loss: 3.373959 - Val Loss: 7.830372\n",
      "\n"
     ]
    },
    {
     "name": "stderr",
     "output_type": "stream",
     "text": [
      "Epoch 14: 100%|██████████| 209/209 [02:12<00:00,  1.58it/s, train_loss=0.103]\n",
      "Epoch 14: 100%|██████████| 25/25 [00:03<00:00,  7.45it/s, val_loss=0.115]\n"
     ]
    },
    {
     "name": "stdout",
     "output_type": "stream",
     "text": [
      "Epoch 14: Train pAUC: 0.156077 - Val pAUC: 0.119828 | Train Loss: 3.286717 - Val Loss: 7.342367\n",
      "\n"
     ]
    },
    {
     "name": "stderr",
     "output_type": "stream",
     "text": [
      "Epoch 15: 100%|██████████| 209/209 [02:12<00:00,  1.57it/s, train_loss=0.105]\n",
      "Epoch 15: 100%|██████████| 25/25 [00:03<00:00,  7.53it/s, val_loss=0.108]\n"
     ]
    },
    {
     "name": "stdout",
     "output_type": "stream",
     "text": [
      "New best model found: pAUC = 0.139047 (previous best: 0.134144)\n",
      "Epoch 15: Train pAUC: 0.154068 - Val pAUC: 0.139047 | Train Loss: 3.334767 - Val Loss: 6.864036\n",
      "\n"
     ]
    },
    {
     "name": "stderr",
     "output_type": "stream",
     "text": [
      "Epoch 16: 100%|██████████| 209/209 [02:12<00:00,  1.57it/s, train_loss=0.0987]\n",
      "Epoch 16: 100%|██████████| 25/25 [00:03<00:00,  7.37it/s, val_loss=0.128]\n"
     ]
    },
    {
     "name": "stdout",
     "output_type": "stream",
     "text": [
      "Epoch 16: Train pAUC: 0.159990 - Val pAUC: 0.132398 | Train Loss: 3.145783 - Val Loss: 8.146438\n",
      "\n"
     ]
    },
    {
     "name": "stderr",
     "output_type": "stream",
     "text": [
      "Epoch 17: 100%|██████████| 209/209 [02:12<00:00,  1.58it/s, train_loss=0.0972]\n",
      "Epoch 17: 100%|██████████| 25/25 [00:03<00:00,  7.47it/s, val_loss=0.129]\n"
     ]
    },
    {
     "name": "stdout",
     "output_type": "stream",
     "text": [
      "Epoch 17: Train pAUC: 0.164695 - Val pAUC: 0.122754 | Train Loss: 3.097978 - Val Loss: 8.204182\n",
      "\n"
     ]
    },
    {
     "name": "stderr",
     "output_type": "stream",
     "text": [
      "Epoch 18: 100%|██████████| 209/209 [02:12<00:00,  1.58it/s, train_loss=0.101]\n",
      "Epoch 18: 100%|██████████| 25/25 [00:03<00:00,  7.44it/s, val_loss=0.121]\n"
     ]
    },
    {
     "name": "stdout",
     "output_type": "stream",
     "text": [
      "Epoch 18: Train pAUC: 0.157604 - Val pAUC: 0.132429 | Train Loss: 3.212541 - Val Loss: 7.676479\n",
      "\n"
     ]
    },
    {
     "name": "stderr",
     "output_type": "stream",
     "text": [
      "Epoch 19: 100%|██████████| 209/209 [02:12<00:00,  1.57it/s, train_loss=0.0933]\n",
      "Epoch 19: 100%|██████████| 25/25 [00:03<00:00,  7.49it/s, val_loss=0.125]\n"
     ]
    },
    {
     "name": "stdout",
     "output_type": "stream",
     "text": [
      "Epoch 19: Train pAUC: 0.160272 - Val pAUC: 0.119677 | Train Loss: 2.973844 - Val Loss: 7.930865\n",
      "\n"
     ]
    },
    {
     "name": "stderr",
     "output_type": "stream",
     "text": [
      "Epoch 20: 100%|██████████| 209/209 [02:12<00:00,  1.57it/s, train_loss=0.0875]\n",
      "Epoch 20: 100%|██████████| 25/25 [00:03<00:00,  7.39it/s, val_loss=0.128]\n"
     ]
    },
    {
     "name": "stdout",
     "output_type": "stream",
     "text": [
      "Epoch 20: Train pAUC: 0.167787 - Val pAUC: 0.123692 | Train Loss: 2.790458 - Val Loss: 8.128161\n",
      "\n"
     ]
    },
    {
     "name": "stderr",
     "output_type": "stream",
     "text": [
      "Epoch 21: 100%|██████████| 209/209 [02:12<00:00,  1.58it/s, train_loss=0.0889]\n",
      "Epoch 21: 100%|██████████| 25/25 [00:03<00:00,  7.47it/s, val_loss=0.128]\n"
     ]
    },
    {
     "name": "stdout",
     "output_type": "stream",
     "text": [
      "New best model found: pAUC = 0.143919 (previous best: 0.139047)\n",
      "Epoch 21: Train pAUC: 0.162524 - Val pAUC: 0.143919 | Train Loss: 2.834538 - Val Loss: 8.141475\n",
      "\n"
     ]
    },
    {
     "name": "stderr",
     "output_type": "stream",
     "text": [
      "Epoch 22: 100%|██████████| 209/209 [02:12<00:00,  1.57it/s, train_loss=0.097]\n",
      "Epoch 22: 100%|██████████| 25/25 [00:03<00:00,  7.49it/s, val_loss=0.129]\n"
     ]
    },
    {
     "name": "stdout",
     "output_type": "stream",
     "text": [
      "New best model found: pAUC = 0.146260 (previous best: 0.143919)\n",
      "Epoch 22: Train pAUC: 0.155166 - Val pAUC: 0.146260 | Train Loss: 3.092126 - Val Loss: 8.229552\n",
      "\n"
     ]
    },
    {
     "name": "stderr",
     "output_type": "stream",
     "text": [
      "Epoch 23: 100%|██████████| 209/209 [02:12<00:00,  1.58it/s, train_loss=0.087]\n",
      "Epoch 23: 100%|██████████| 25/25 [00:03<00:00,  7.38it/s, val_loss=0.131]\n"
     ]
    },
    {
     "name": "stdout",
     "output_type": "stream",
     "text": [
      "Epoch 23: Train pAUC: 0.165507 - Val pAUC: 0.136979 | Train Loss: 2.774631 - Val Loss: 8.314970\n",
      "\n"
     ]
    },
    {
     "name": "stderr",
     "output_type": "stream",
     "text": [
      "Epoch 24: 100%|██████████| 209/209 [02:12<00:00,  1.58it/s, train_loss=0.0759]\n",
      "Epoch 24: 100%|██████████| 25/25 [00:03<00:00,  7.36it/s, val_loss=0.116]\n"
     ]
    },
    {
     "name": "stdout",
     "output_type": "stream",
     "text": [
      "New best model found: pAUC = 0.150043 (previous best: 0.146260)\n",
      "Epoch 24: Train pAUC: 0.176825 - Val pAUC: 0.150043 | Train Loss: 2.420111 - Val Loss: 7.355912\n",
      "\n"
     ]
    },
    {
     "name": "stderr",
     "output_type": "stream",
     "text": [
      "Epoch 25: 100%|██████████| 209/209 [02:12<00:00,  1.57it/s, train_loss=0.079]\n",
      "Epoch 25: 100%|██████████| 25/25 [00:03<00:00,  7.44it/s, val_loss=0.145]\n"
     ]
    },
    {
     "name": "stdout",
     "output_type": "stream",
     "text": [
      "Epoch 25: Train pAUC: 0.170467 - Val pAUC: 0.133337 | Train Loss: 2.519713 - Val Loss: 9.208832\n",
      "\n"
     ]
    },
    {
     "name": "stderr",
     "output_type": "stream",
     "text": [
      "Epoch 26: 100%|██████████| 209/209 [02:12<00:00,  1.58it/s, train_loss=0.0728]\n",
      "Epoch 26: 100%|██████████| 25/25 [00:03<00:00,  7.31it/s, val_loss=0.134]\n"
     ]
    },
    {
     "name": "stdout",
     "output_type": "stream",
     "text": [
      "Epoch 26: Train pAUC: 0.176879 - Val pAUC: 0.134759 | Train Loss: 2.319622 - Val Loss: 8.517562\n",
      "\n"
     ]
    },
    {
     "name": "stderr",
     "output_type": "stream",
     "text": [
      "Epoch 27: 100%|██████████| 209/209 [02:12<00:00,  1.57it/s, train_loss=0.0774]\n",
      "Epoch 27: 100%|██████████| 25/25 [00:03<00:00,  7.42it/s, val_loss=0.128]\n"
     ]
    },
    {
     "name": "stdout",
     "output_type": "stream",
     "text": [
      "New best model found: pAUC = 0.150436 (previous best: 0.150043)\n",
      "Epoch 27: Train pAUC: 0.175807 - Val pAUC: 0.150436 | Train Loss: 2.467710 - Val Loss: 8.131591\n",
      "\n"
     ]
    },
    {
     "name": "stderr",
     "output_type": "stream",
     "text": [
      "Epoch 28: 100%|██████████| 209/209 [02:12<00:00,  1.58it/s, train_loss=0.0703]\n",
      "Epoch 28: 100%|██████████| 25/25 [00:03<00:00,  7.47it/s, val_loss=0.131]\n"
     ]
    },
    {
     "name": "stdout",
     "output_type": "stream",
     "text": [
      "Epoch 28: Train pAUC: 0.180139 - Val pAUC: 0.125095 | Train Loss: 2.239840 - Val Loss: 8.325198\n",
      "\n"
     ]
    },
    {
     "name": "stderr",
     "output_type": "stream",
     "text": [
      "Epoch 29: 100%|██████████| 209/209 [02:12<00:00,  1.58it/s, train_loss=0.0705]\n",
      "Epoch 29: 100%|██████████| 25/25 [00:03<00:00,  7.46it/s, val_loss=0.125]\n"
     ]
    },
    {
     "name": "stdout",
     "output_type": "stream",
     "text": [
      "Epoch 29: Train pAUC: 0.182110 - Val pAUC: 0.140852 | Train Loss: 2.247512 - Val Loss: 7.921723\n",
      "\n"
     ]
    },
    {
     "name": "stderr",
     "output_type": "stream",
     "text": [
      "Epoch 30: 100%|██████████| 209/209 [02:12<00:00,  1.57it/s, train_loss=0.065]\n",
      "Epoch 30: 100%|██████████| 25/25 [00:03<00:00,  6.77it/s, val_loss=0.151]\n"
     ]
    },
    {
     "name": "stdout",
     "output_type": "stream",
     "text": [
      "Epoch 30: Train pAUC: 0.183742 - Val pAUC: 0.126789 | Train Loss: 2.071706 - Val Loss: 9.606470\n",
      "\n"
     ]
    },
    {
     "name": "stderr",
     "output_type": "stream",
     "text": [
      "Epoch 31: 100%|██████████| 209/209 [02:12<00:00,  1.57it/s, train_loss=0.0576]\n",
      "Epoch 31: 100%|██████████| 25/25 [00:03<00:00,  7.42it/s, val_loss=0.149]\n"
     ]
    },
    {
     "name": "stdout",
     "output_type": "stream",
     "text": [
      "Epoch 31: Train pAUC: 0.187413 - Val pAUC: 0.133256 | Train Loss: 1.835932 - Val Loss: 9.475526\n",
      "\n"
     ]
    },
    {
     "name": "stderr",
     "output_type": "stream",
     "text": [
      "Epoch 32: 100%|██████████| 209/209 [02:12<00:00,  1.57it/s, train_loss=0.0638]\n",
      "Epoch 32: 100%|██████████| 25/25 [00:03<00:00,  7.44it/s, val_loss=0.173]\n"
     ]
    },
    {
     "name": "stdout",
     "output_type": "stream",
     "text": [
      "Epoch 32: Train pAUC: 0.186127 - Val pAUC: 0.130673 | Train Loss: 2.034743 - Val Loss: 11.018596\n",
      "\n"
     ]
    },
    {
     "name": "stderr",
     "output_type": "stream",
     "text": [
      "Epoch 33: 100%|██████████| 209/209 [02:12<00:00,  1.58it/s, train_loss=0.0591]\n",
      "Epoch 33: 100%|██████████| 25/25 [00:03<00:00,  7.03it/s, val_loss=0.162]\n"
     ]
    },
    {
     "name": "stdout",
     "output_type": "stream",
     "text": [
      "Epoch 33: Train pAUC: 0.185328 - Val pAUC: 0.139894 | Train Loss: 1.884452 - Val Loss: 10.290600\n",
      "\n"
     ]
    },
    {
     "name": "stderr",
     "output_type": "stream",
     "text": [
      "Epoch 34: 100%|██████████| 209/209 [02:12<00:00,  1.58it/s, train_loss=0.0536]\n",
      "Epoch 34: 100%|██████████| 25/25 [00:03<00:00,  7.37it/s, val_loss=0.149]\n"
     ]
    },
    {
     "name": "stdout",
     "output_type": "stream",
     "text": [
      "Epoch 34: Train pAUC: 0.190472 - Val pAUC: 0.139571 | Train Loss: 1.707961 - Val Loss: 9.458932\n",
      "\n"
     ]
    },
    {
     "name": "stderr",
     "output_type": "stream",
     "text": [
      "Epoch 35: 100%|██████████| 209/209 [02:12<00:00,  1.57it/s, train_loss=0.0561]\n",
      "Epoch 35: 100%|██████████| 25/25 [00:03<00:00,  7.06it/s, val_loss=0.168]\n"
     ]
    },
    {
     "name": "stdout",
     "output_type": "stream",
     "text": [
      "Epoch 35: Train pAUC: 0.185549 - Val pAUC: 0.121725 | Train Loss: 1.789401 - Val Loss: 10.702170\n",
      "\n"
     ]
    },
    {
     "name": "stderr",
     "output_type": "stream",
     "text": [
      "Epoch 36: 100%|██████████| 209/209 [02:12<00:00,  1.58it/s, train_loss=0.0526]\n",
      "Epoch 36: 100%|██████████| 25/25 [00:03<00:00,  7.32it/s, val_loss=0.152]\n"
     ]
    },
    {
     "name": "stdout",
     "output_type": "stream",
     "text": [
      "Epoch 36: Train pAUC: 0.188787 - Val pAUC: 0.118305 | Train Loss: 1.675678 - Val Loss: 9.637612\n",
      "\n"
     ]
    },
    {
     "name": "stderr",
     "output_type": "stream",
     "text": [
      "Epoch 37: 100%|██████████| 209/209 [02:12<00:00,  1.57it/s, train_loss=0.0541]\n",
      "Epoch 37: 100%|██████████| 25/25 [00:03<00:00,  7.45it/s, val_loss=0.141]\n"
     ]
    },
    {
     "name": "stdout",
     "output_type": "stream",
     "text": [
      "Epoch 37: Train pAUC: 0.190305 - Val pAUC: 0.133397 | Train Loss: 1.724689 - Val Loss: 8.954341\n",
      "\n"
     ]
    },
    {
     "name": "stderr",
     "output_type": "stream",
     "text": [
      "Epoch 38: 100%|██████████| 209/209 [02:12<00:00,  1.57it/s, train_loss=0.0461]\n",
      "Epoch 38: 100%|██████████| 25/25 [00:03<00:00,  7.48it/s, val_loss=0.152]\n"
     ]
    },
    {
     "name": "stdout",
     "output_type": "stream",
     "text": [
      "Epoch 38: Train pAUC: 0.191553 - Val pAUC: 0.132661 | Train Loss: 1.468370 - Val Loss: 9.680774\n",
      "\n"
     ]
    },
    {
     "name": "stderr",
     "output_type": "stream",
     "text": [
      "Epoch 39: 100%|██████████| 209/209 [02:12<00:00,  1.57it/s, train_loss=0.0434]\n",
      "Epoch 39: 100%|██████████| 25/25 [00:03<00:00,  7.03it/s, val_loss=0.164]\n"
     ]
    },
    {
     "name": "stdout",
     "output_type": "stream",
     "text": [
      "Epoch 39: Train pAUC: 0.193468 - Val pAUC: 0.126144 | Train Loss: 1.382452 - Val Loss: 10.460773\n",
      "\n"
     ]
    },
    {
     "name": "stderr",
     "output_type": "stream",
     "text": [
      "Epoch 40: 100%|██████████| 209/209 [02:12<00:00,  1.57it/s, train_loss=0.0469]\n",
      "Epoch 40: 100%|██████████| 25/25 [00:03<00:00,  7.37it/s, val_loss=0.169]\n"
     ]
    },
    {
     "name": "stdout",
     "output_type": "stream",
     "text": [
      "Epoch 40: Train pAUC: 0.192088 - Val pAUC: 0.139511 | Train Loss: 1.494244 - Val Loss: 10.737002\n",
      "\n"
     ]
    },
    {
     "name": "stderr",
     "output_type": "stream",
     "text": [
      "Epoch 41: 100%|██████████| 209/209 [02:12<00:00,  1.57it/s, train_loss=0.0381]\n",
      "Epoch 41: 100%|██████████| 25/25 [00:03<00:00,  6.98it/s, val_loss=0.195]\n"
     ]
    },
    {
     "name": "stdout",
     "output_type": "stream",
     "text": [
      "Epoch 41: Train pAUC: 0.193520 - Val pAUC: 0.145211 | Train Loss: 1.214986 - Val Loss: 12.380279\n",
      "\n"
     ]
    },
    {
     "name": "stderr",
     "output_type": "stream",
     "text": [
      "Epoch 42: 100%|██████████| 209/209 [02:12<00:00,  1.57it/s, train_loss=0.0366]\n",
      "Epoch 42: 100%|██████████| 25/25 [00:03<00:00,  7.45it/s, val_loss=0.19]\n"
     ]
    },
    {
     "name": "stdout",
     "output_type": "stream",
     "text": [
      "Early stopping triggered at epoch 42. Best pAUC = 0.150436\n",
      "Epoch 42: Train pAUC: 0.195116 - Val pAUC: 0.135677 | Train Loss: 1.166981 - Val Loss: 12.071528\n",
      "\n"
     ]
    },
    {
     "name": "stderr",
     "output_type": "stream",
     "text": [
      "Prediction: 100%|██████████| 1211/1211 [02:18<00:00,  8.72it/s]\n"
     ]
    },
    {
     "name": "stdout",
     "output_type": "stream",
     "text": [
      "---------------------------------- Fold 1 ----------------------------------\n",
      "\n",
      "\n",
      "---------------------------------- Fold 2 ----------------------------------\n"
     ]
    },
    {
     "name": "stderr",
     "output_type": "stream",
     "text": [
      "Epoch 1: 100%|██████████| 201/201 [02:07<00:00,  1.57it/s, train_loss=0.221]\n",
      "Epoch 1: 100%|██████████| 29/29 [00:03<00:00,  7.60it/s, val_loss=0.144]\n"
     ]
    },
    {
     "name": "stdout",
     "output_type": "stream",
     "text": [
      "Epoch 1: Train pAUC: 0.049246 - Val pAUC: 0.078781 | Train Loss: 7.077338 - Val Loss: 9.087627\n",
      "\n"
     ]
    },
    {
     "name": "stderr",
     "output_type": "stream",
     "text": [
      "Epoch 2: 100%|██████████| 201/201 [02:07<00:00,  1.57it/s, train_loss=0.16]\n",
      "Epoch 2: 100%|██████████| 29/29 [00:03<00:00,  7.61it/s, val_loss=0.133]\n"
     ]
    },
    {
     "name": "stdout",
     "output_type": "stream",
     "text": [
      "New best model found: pAUC = 0.112148 (previous best: 0.078781)\n",
      "Epoch 2: Train pAUC: 0.091848 - Val pAUC: 0.112148 | Train Loss: 5.110620 - Val Loss: 8.374949\n",
      "\n"
     ]
    },
    {
     "name": "stderr",
     "output_type": "stream",
     "text": [
      "Epoch 3: 100%|██████████| 201/201 [02:07<00:00,  1.57it/s, train_loss=0.151]\n",
      "Epoch 3: 100%|██████████| 29/29 [00:03<00:00,  7.67it/s, val_loss=0.116]\n"
     ]
    },
    {
     "name": "stdout",
     "output_type": "stream",
     "text": [
      "New best model found: pAUC = 0.122261 (previous best: 0.112148)\n",
      "Epoch 3: Train pAUC: 0.090811 - Val pAUC: 0.122261 | Train Loss: 4.840625 - Val Loss: 7.311854\n",
      "\n"
     ]
    },
    {
     "name": "stderr",
     "output_type": "stream",
     "text": [
      "Epoch 4: 100%|██████████| 201/201 [02:07<00:00,  1.57it/s, train_loss=0.141]\n",
      "Epoch 4: 100%|██████████| 29/29 [00:03<00:00,  7.61it/s, val_loss=0.107]\n"
     ]
    },
    {
     "name": "stdout",
     "output_type": "stream",
     "text": [
      "New best model found: pAUC = 0.138109 (previous best: 0.122261)\n",
      "Epoch 4: Train pAUC: 0.111786 - Val pAUC: 0.138109 | Train Loss: 4.492480 - Val Loss: 6.723204\n",
      "\n"
     ]
    },
    {
     "name": "stderr",
     "output_type": "stream",
     "text": [
      "Epoch 5: 100%|██████████| 201/201 [02:08<00:00,  1.57it/s, train_loss=0.133]\n",
      "Epoch 5: 100%|██████████| 29/29 [00:03<00:00,  7.58it/s, val_loss=0.132]\n"
     ]
    },
    {
     "name": "stdout",
     "output_type": "stream",
     "text": [
      "Epoch 5: Train pAUC: 0.108534 - Val pAUC: 0.135704 | Train Loss: 4.251321 - Val Loss: 8.327551\n",
      "\n"
     ]
    },
    {
     "name": "stderr",
     "output_type": "stream",
     "text": [
      "Epoch 6: 100%|██████████| 201/201 [02:08<00:00,  1.57it/s, train_loss=0.131]\n",
      "Epoch 6: 100%|██████████| 29/29 [00:03<00:00,  7.59it/s, val_loss=0.108]\n"
     ]
    },
    {
     "name": "stdout",
     "output_type": "stream",
     "text": [
      "Epoch 6: Train pAUC: 0.119867 - Val pAUC: 0.131309 | Train Loss: 4.195783 - Val Loss: 6.778249\n",
      "\n"
     ]
    },
    {
     "name": "stderr",
     "output_type": "stream",
     "text": [
      "Epoch 7: 100%|██████████| 201/201 [02:08<00:00,  1.57it/s, train_loss=0.125]\n",
      "Epoch 7: 100%|██████████| 29/29 [00:03<00:00,  7.60it/s, val_loss=0.104]\n"
     ]
    },
    {
     "name": "stdout",
     "output_type": "stream",
     "text": [
      "Epoch 7: Train pAUC: 0.136012 - Val pAUC: 0.118800 | Train Loss: 4.003351 - Val Loss: 6.571244\n",
      "\n"
     ]
    },
    {
     "name": "stderr",
     "output_type": "stream",
     "text": [
      "Epoch 8: 100%|██████████| 201/201 [02:08<00:00,  1.57it/s, train_loss=0.119]\n",
      "Epoch 8: 100%|██████████| 29/29 [00:03<00:00,  7.45it/s, val_loss=0.108]\n"
     ]
    },
    {
     "name": "stdout",
     "output_type": "stream",
     "text": [
      "Epoch 8: Train pAUC: 0.140930 - Val pAUC: 0.134936 | Train Loss: 3.813325 - Val Loss: 6.825875\n",
      "\n"
     ]
    },
    {
     "name": "stderr",
     "output_type": "stream",
     "text": [
      "Epoch 9: 100%|██████████| 201/201 [02:07<00:00,  1.57it/s, train_loss=0.124]\n",
      "Epoch 9: 100%|██████████| 29/29 [00:03<00:00,  7.60it/s, val_loss=0.0961]\n"
     ]
    },
    {
     "name": "stdout",
     "output_type": "stream",
     "text": [
      "New best model found: pAUC = 0.143497 (previous best: 0.138109)\n",
      "Epoch 9: Train pAUC: 0.138948 - Val pAUC: 0.143497 | Train Loss: 3.971427 - Val Loss: 6.056166\n",
      "\n"
     ]
    },
    {
     "name": "stderr",
     "output_type": "stream",
     "text": [
      "Epoch 10: 100%|██████████| 201/201 [02:08<00:00,  1.57it/s, train_loss=0.114]\n",
      "Epoch 10: 100%|██████████| 29/29 [00:03<00:00,  7.63it/s, val_loss=0.113]\n"
     ]
    },
    {
     "name": "stdout",
     "output_type": "stream",
     "text": [
      "Epoch 10: Train pAUC: 0.153174 - Val pAUC: 0.127901 | Train Loss: 3.649617 - Val Loss: 7.152601\n",
      "\n"
     ]
    },
    {
     "name": "stderr",
     "output_type": "stream",
     "text": [
      "Epoch 11: 100%|██████████| 201/201 [02:07<00:00,  1.57it/s, train_loss=0.115]\n",
      "Epoch 11: 100%|██████████| 29/29 [00:03<00:00,  7.46it/s, val_loss=0.101]\n"
     ]
    },
    {
     "name": "stdout",
     "output_type": "stream",
     "text": [
      "Epoch 11: Train pAUC: 0.148719 - Val pAUC: 0.132753 | Train Loss: 3.675413 - Val Loss: 6.384163\n",
      "\n"
     ]
    },
    {
     "name": "stderr",
     "output_type": "stream",
     "text": [
      "Epoch 12: 100%|██████████| 201/201 [02:08<00:00,  1.57it/s, train_loss=0.112]\n",
      "Epoch 12: 100%|██████████| 29/29 [00:03<00:00,  7.63it/s, val_loss=0.105]\n"
     ]
    },
    {
     "name": "stdout",
     "output_type": "stream",
     "text": [
      "Epoch 12: Train pAUC: 0.156183 - Val pAUC: 0.141889 | Train Loss: 3.591408 - Val Loss: 6.625782\n",
      "\n"
     ]
    },
    {
     "name": "stderr",
     "output_type": "stream",
     "text": [
      "Epoch 13: 100%|██████████| 201/201 [02:08<00:00,  1.57it/s, train_loss=0.112]\n",
      "Epoch 13: 100%|██████████| 29/29 [00:03<00:00,  7.63it/s, val_loss=0.103]\n"
     ]
    },
    {
     "name": "stdout",
     "output_type": "stream",
     "text": [
      "Epoch 13: Train pAUC: 0.149015 - Val pAUC: 0.134130 | Train Loss: 3.592804 - Val Loss: 6.485759\n",
      "\n"
     ]
    },
    {
     "name": "stderr",
     "output_type": "stream",
     "text": [
      "Epoch 14: 100%|██████████| 201/201 [02:07<00:00,  1.57it/s, train_loss=0.109]\n",
      "Epoch 14: 100%|██████████| 29/29 [00:03<00:00,  7.59it/s, val_loss=0.101]\n"
     ]
    },
    {
     "name": "stdout",
     "output_type": "stream",
     "text": [
      "New best model found: pAUC = 0.156022 (previous best: 0.143497)\n",
      "Epoch 14: Train pAUC: 0.157510 - Val pAUC: 0.156022 | Train Loss: 3.494318 - Val Loss: 6.347137\n",
      "\n"
     ]
    },
    {
     "name": "stderr",
     "output_type": "stream",
     "text": [
      "Epoch 15: 100%|██████████| 201/201 [02:08<00:00,  1.57it/s, train_loss=0.106]\n",
      "Epoch 15: 100%|██████████| 29/29 [00:03<00:00,  7.55it/s, val_loss=0.0954]\n"
     ]
    },
    {
     "name": "stdout",
     "output_type": "stream",
     "text": [
      "Epoch 15: Train pAUC: 0.158346 - Val pAUC: 0.146417 | Train Loss: 3.400235 - Val Loss: 6.012766\n",
      "\n"
     ]
    },
    {
     "name": "stderr",
     "output_type": "stream",
     "text": [
      "Epoch 16: 100%|██████████| 201/201 [02:08<00:00,  1.57it/s, train_loss=0.103]\n",
      "Epoch 16: 100%|██████████| 29/29 [00:03<00:00,  7.56it/s, val_loss=0.101]\n"
     ]
    },
    {
     "name": "stdout",
     "output_type": "stream",
     "text": [
      "Epoch 16: Train pAUC: 0.162829 - Val pAUC: 0.144340 | Train Loss: 3.288303 - Val Loss: 6.383876\n",
      "\n"
     ]
    },
    {
     "name": "stderr",
     "output_type": "stream",
     "text": [
      "Epoch 17: 100%|██████████| 201/201 [02:08<00:00,  1.57it/s, train_loss=0.0953]\n",
      "Epoch 17: 100%|██████████| 29/29 [00:03<00:00,  7.59it/s, val_loss=0.112]\n"
     ]
    },
    {
     "name": "stdout",
     "output_type": "stream",
     "text": [
      "Epoch 17: Train pAUC: 0.170538 - Val pAUC: 0.148943 | Train Loss: 3.044849 - Val Loss: 7.048805\n",
      "\n"
     ]
    },
    {
     "name": "stderr",
     "output_type": "stream",
     "text": [
      "Epoch 18: 100%|██████████| 201/201 [02:08<00:00,  1.57it/s, train_loss=0.0997]\n",
      "Epoch 18: 100%|██████████| 29/29 [00:03<00:00,  7.43it/s, val_loss=0.105]\n"
     ]
    },
    {
     "name": "stdout",
     "output_type": "stream",
     "text": [
      "Epoch 18: Train pAUC: 0.166782 - Val pAUC: 0.137890 | Train Loss: 3.186758 - Val Loss: 6.631644\n",
      "\n"
     ]
    },
    {
     "name": "stderr",
     "output_type": "stream",
     "text": [
      "Epoch 19: 100%|██████████| 201/201 [02:08<00:00,  1.57it/s, train_loss=0.0956]\n",
      "Epoch 19: 100%|██████████| 29/29 [00:03<00:00,  7.60it/s, val_loss=0.127]\n"
     ]
    },
    {
     "name": "stdout",
     "output_type": "stream",
     "text": [
      "Epoch 19: Train pAUC: 0.164679 - Val pAUC: 0.110988 | Train Loss: 3.055601 - Val Loss: 7.997150\n",
      "\n"
     ]
    },
    {
     "name": "stderr",
     "output_type": "stream",
     "text": [
      "Epoch 20: 100%|██████████| 201/201 [02:08<00:00,  1.57it/s, train_loss=0.103]\n",
      "Epoch 20: 100%|██████████| 29/29 [00:03<00:00,  7.62it/s, val_loss=0.111]\n"
     ]
    },
    {
     "name": "stdout",
     "output_type": "stream",
     "text": [
      "Epoch 20: Train pAUC: 0.162561 - Val pAUC: 0.145679 | Train Loss: 3.286959 - Val Loss: 7.017832\n",
      "\n"
     ]
    },
    {
     "name": "stderr",
     "output_type": "stream",
     "text": [
      "Epoch 21: 100%|██████████| 201/201 [02:08<00:00,  1.57it/s, train_loss=0.0924]\n",
      "Epoch 21: 100%|██████████| 29/29 [00:03<00:00,  7.61it/s, val_loss=0.107]\n"
     ]
    },
    {
     "name": "stdout",
     "output_type": "stream",
     "text": [
      "Epoch 21: Train pAUC: 0.168139 - Val pAUC: 0.148541 | Train Loss: 2.953584 - Val Loss: 6.737812\n",
      "\n"
     ]
    },
    {
     "name": "stderr",
     "output_type": "stream",
     "text": [
      "Epoch 22: 100%|██████████| 201/201 [02:07<00:00,  1.57it/s, train_loss=0.0916]\n",
      "Epoch 22: 100%|██████████| 29/29 [00:03<00:00,  7.58it/s, val_loss=0.0968]\n"
     ]
    },
    {
     "name": "stdout",
     "output_type": "stream",
     "text": [
      "Epoch 22: Train pAUC: 0.171623 - Val pAUC: 0.145989 | Train Loss: 2.928839 - Val Loss: 6.100681\n",
      "\n"
     ]
    },
    {
     "name": "stderr",
     "output_type": "stream",
     "text": [
      "Epoch 23: 100%|██████████| 201/201 [02:08<00:00,  1.57it/s, train_loss=0.0884]\n",
      "Epoch 23: 100%|██████████| 29/29 [00:03<00:00,  7.60it/s, val_loss=0.106]\n"
     ]
    },
    {
     "name": "stdout",
     "output_type": "stream",
     "text": [
      "Epoch 23: Train pAUC: 0.174641 - Val pAUC: 0.132930 | Train Loss: 2.827011 - Val Loss: 6.695894\n",
      "\n"
     ]
    },
    {
     "name": "stderr",
     "output_type": "stream",
     "text": [
      "Epoch 24: 100%|██████████| 201/201 [02:08<00:00,  1.57it/s, train_loss=0.0865]\n",
      "Epoch 24: 100%|██████████| 29/29 [00:03<00:00,  7.52it/s, val_loss=0.108]\n"
     ]
    },
    {
     "name": "stdout",
     "output_type": "stream",
     "text": [
      "New best model found: pAUC = 0.157117 (previous best: 0.156022)\n",
      "Epoch 24: Train pAUC: 0.172714 - Val pAUC: 0.157117 | Train Loss: 2.763722 - Val Loss: 6.827051\n",
      "\n"
     ]
    },
    {
     "name": "stderr",
     "output_type": "stream",
     "text": [
      "Epoch 25: 100%|██████████| 201/201 [02:08<00:00,  1.57it/s, train_loss=0.0846]\n",
      "Epoch 25: 100%|██████████| 29/29 [00:03<00:00,  7.64it/s, val_loss=0.107]\n"
     ]
    },
    {
     "name": "stdout",
     "output_type": "stream",
     "text": [
      "Epoch 25: Train pAUC: 0.173411 - Val pAUC: 0.149706 | Train Loss: 2.703730 - Val Loss: 6.750143\n",
      "\n"
     ]
    },
    {
     "name": "stderr",
     "output_type": "stream",
     "text": [
      "Epoch 26: 100%|██████████| 201/201 [02:07<00:00,  1.57it/s, train_loss=0.0809]\n",
      "Epoch 26: 100%|██████████| 29/29 [00:03<00:00,  7.68it/s, val_loss=0.122]\n"
     ]
    },
    {
     "name": "stdout",
     "output_type": "stream",
     "text": [
      "Epoch 26: Train pAUC: 0.178569 - Val pAUC: 0.141548 | Train Loss: 2.586975 - Val Loss: 7.696052\n",
      "\n"
     ]
    },
    {
     "name": "stderr",
     "output_type": "stream",
     "text": [
      "Epoch 27: 100%|██████████| 201/201 [02:08<00:00,  1.57it/s, train_loss=0.0806]\n",
      "Epoch 27: 100%|██████████| 29/29 [00:03<00:00,  7.61it/s, val_loss=0.0985]\n"
     ]
    },
    {
     "name": "stdout",
     "output_type": "stream",
     "text": [
      "Epoch 27: Train pAUC: 0.177681 - Val pAUC: 0.146122 | Train Loss: 2.576155 - Val Loss: 6.205787\n",
      "\n"
     ]
    },
    {
     "name": "stderr",
     "output_type": "stream",
     "text": [
      "Epoch 28: 100%|██████████| 201/201 [02:08<00:00,  1.57it/s, train_loss=0.0797]\n",
      "Epoch 28: 100%|██████████| 29/29 [00:03<00:00,  7.63it/s, val_loss=0.126]\n"
     ]
    },
    {
     "name": "stdout",
     "output_type": "stream",
     "text": [
      "Epoch 28: Train pAUC: 0.177434 - Val pAUC: 0.143474 | Train Loss: 2.548236 - Val Loss: 7.969172\n",
      "\n"
     ]
    },
    {
     "name": "stderr",
     "output_type": "stream",
     "text": [
      "Epoch 29: 100%|██████████| 201/201 [02:07<00:00,  1.57it/s, train_loss=0.0691]\n",
      "Epoch 29: 100%|██████████| 29/29 [00:04<00:00,  7.21it/s, val_loss=0.137]\n"
     ]
    },
    {
     "name": "stdout",
     "output_type": "stream",
     "text": [
      "Epoch 29: Train pAUC: 0.185689 - Val pAUC: 0.129716 | Train Loss: 2.207294 - Val Loss: 8.607513\n",
      "\n"
     ]
    },
    {
     "name": "stderr",
     "output_type": "stream",
     "text": [
      "Epoch 30: 100%|██████████| 201/201 [02:08<00:00,  1.57it/s, train_loss=0.0743]\n",
      "Epoch 30: 100%|██████████| 29/29 [00:03<00:00,  7.62it/s, val_loss=0.117]\n"
     ]
    },
    {
     "name": "stdout",
     "output_type": "stream",
     "text": [
      "Epoch 30: Train pAUC: 0.180306 - Val pAUC: 0.150096 | Train Loss: 2.374030 - Val Loss: 7.372219\n",
      "\n"
     ]
    },
    {
     "name": "stderr",
     "output_type": "stream",
     "text": [
      "Epoch 31: 100%|██████████| 201/201 [02:08<00:00,  1.57it/s, train_loss=0.0645]\n",
      "Epoch 31: 100%|██████████| 29/29 [00:03<00:00,  7.64it/s, val_loss=0.126]\n"
     ]
    },
    {
     "name": "stdout",
     "output_type": "stream",
     "text": [
      "Epoch 31: Train pAUC: 0.188234 - Val pAUC: 0.129497 | Train Loss: 2.062608 - Val Loss: 7.921511\n",
      "\n"
     ]
    },
    {
     "name": "stderr",
     "output_type": "stream",
     "text": [
      "Epoch 32: 100%|██████████| 201/201 [02:08<00:00,  1.57it/s, train_loss=0.0753]\n",
      "Epoch 32: 100%|██████████| 29/29 [00:03<00:00,  7.46it/s, val_loss=0.114]\n"
     ]
    },
    {
     "name": "stdout",
     "output_type": "stream",
     "text": [
      "Epoch 32: Train pAUC: 0.180346 - Val pAUC: 0.143453 | Train Loss: 2.406351 - Val Loss: 7.214619\n",
      "\n"
     ]
    },
    {
     "name": "stderr",
     "output_type": "stream",
     "text": [
      "Epoch 33: 100%|██████████| 201/201 [02:08<00:00,  1.57it/s, train_loss=0.0602]\n",
      "Epoch 33: 100%|██████████| 29/29 [00:04<00:00,  7.22it/s, val_loss=0.135]\n"
     ]
    },
    {
     "name": "stdout",
     "output_type": "stream",
     "text": [
      "Epoch 33: Train pAUC: 0.189701 - Val pAUC: 0.132308 | Train Loss: 1.924224 - Val Loss: 8.519804\n",
      "\n"
     ]
    },
    {
     "name": "stderr",
     "output_type": "stream",
     "text": [
      "Epoch 34: 100%|██████████| 201/201 [02:08<00:00,  1.57it/s, train_loss=0.0625]\n",
      "Epoch 34: 100%|██████████| 29/29 [00:03<00:00,  7.59it/s, val_loss=0.111]\n"
     ]
    },
    {
     "name": "stdout",
     "output_type": "stream",
     "text": [
      "Epoch 34: Train pAUC: 0.184289 - Val pAUC: 0.141359 | Train Loss: 1.999164 - Val Loss: 7.009325\n",
      "\n"
     ]
    },
    {
     "name": "stderr",
     "output_type": "stream",
     "text": [
      "Epoch 35: 100%|██████████| 201/201 [02:07<00:00,  1.57it/s, train_loss=0.0594]\n",
      "Epoch 35: 100%|██████████| 29/29 [00:03<00:00,  7.61it/s, val_loss=0.119]\n"
     ]
    },
    {
     "name": "stdout",
     "output_type": "stream",
     "text": [
      "Epoch 35: Train pAUC: 0.188287 - Val pAUC: 0.134485 | Train Loss: 1.899832 - Val Loss: 7.499899\n",
      "\n"
     ]
    },
    {
     "name": "stderr",
     "output_type": "stream",
     "text": [
      "Epoch 36: 100%|██████████| 201/201 [02:08<00:00,  1.57it/s, train_loss=0.0522]\n",
      "Epoch 36: 100%|██████████| 29/29 [00:03<00:00,  7.59it/s, val_loss=0.13]\n"
     ]
    },
    {
     "name": "stdout",
     "output_type": "stream",
     "text": [
      "Epoch 36: Train pAUC: 0.189888 - Val pAUC: 0.134130 | Train Loss: 1.670168 - Val Loss: 8.182531\n",
      "\n"
     ]
    },
    {
     "name": "stderr",
     "output_type": "stream",
     "text": [
      "Epoch 37: 100%|██████████| 201/201 [02:08<00:00,  1.57it/s, train_loss=0.0592]\n",
      "Epoch 37: 100%|██████████| 29/29 [00:03<00:00,  7.39it/s, val_loss=0.14]\n"
     ]
    },
    {
     "name": "stdout",
     "output_type": "stream",
     "text": [
      "Epoch 37: Train pAUC: 0.189054 - Val pAUC: 0.121802 | Train Loss: 1.891592 - Val Loss: 8.802789\n",
      "\n"
     ]
    },
    {
     "name": "stderr",
     "output_type": "stream",
     "text": [
      "Epoch 38: 100%|██████████| 201/201 [02:08<00:00,  1.57it/s, train_loss=0.0567]\n",
      "Epoch 38: 100%|██████████| 29/29 [00:03<00:00,  7.65it/s, val_loss=0.136]\n"
     ]
    },
    {
     "name": "stdout",
     "output_type": "stream",
     "text": [
      "Epoch 38: Train pAUC: 0.186833 - Val pAUC: 0.123657 | Train Loss: 1.812630 - Val Loss: 8.588269\n",
      "\n"
     ]
    },
    {
     "name": "stderr",
     "output_type": "stream",
     "text": [
      "Epoch 39: 100%|██████████| 201/201 [02:08<00:00,  1.57it/s, train_loss=0.0567]\n",
      "Epoch 39: 100%|██████████| 29/29 [00:03<00:00,  7.65it/s, val_loss=0.134]\n"
     ]
    },
    {
     "name": "stdout",
     "output_type": "stream",
     "text": [
      "Early stopping triggered at epoch 39. Best pAUC = 0.157117\n",
      "Epoch 39: Train pAUC: 0.187899 - Val pAUC: 0.144339 | Train Loss: 1.813736 - Val Loss: 8.449919\n",
      "\n"
     ]
    },
    {
     "name": "stderr",
     "output_type": "stream",
     "text": [
      "Prediction: 100%|██████████| 1310/1310 [02:31<00:00,  8.64it/s]\n"
     ]
    },
    {
     "name": "stdout",
     "output_type": "stream",
     "text": [
      "---------------------------------- Fold 2 ----------------------------------\n",
      "\n",
      "\n",
      "---------------------------------- Fold 3 ----------------------------------\n"
     ]
    },
    {
     "name": "stderr",
     "output_type": "stream",
     "text": [
      "Epoch 1: 100%|██████████| 218/218 [02:18<00:00,  1.57it/s, train_loss=0.21]\n",
      "Epoch 1: 100%|██████████| 21/21 [00:02<00:00,  7.34it/s, val_loss=0.185]\n"
     ]
    },
    {
     "name": "stdout",
     "output_type": "stream",
     "text": [
      "Epoch 1: Train pAUC: 0.049936 - Val pAUC: 0.094194 | Train Loss: 6.703091 - Val Loss: 11.505826\n",
      "\n"
     ]
    },
    {
     "name": "stderr",
     "output_type": "stream",
     "text": [
      "Epoch 2: 100%|██████████| 218/218 [02:18<00:00,  1.57it/s, train_loss=0.151]\n",
      "Epoch 2: 100%|██████████| 21/21 [00:02<00:00,  7.33it/s, val_loss=0.161]\n"
     ]
    },
    {
     "name": "stdout",
     "output_type": "stream",
     "text": [
      "New best model found: pAUC = 0.106165 (previous best: 0.094194)\n",
      "Epoch 2: Train pAUC: 0.082020 - Val pAUC: 0.106165 | Train Loss: 4.815678 - Val Loss: 9.985475\n",
      "\n"
     ]
    },
    {
     "name": "stderr",
     "output_type": "stream",
     "text": [
      "Epoch 3: 100%|██████████| 218/218 [02:18<00:00,  1.57it/s, train_loss=0.141]\n",
      "Epoch 3: 100%|██████████| 21/21 [00:02<00:00,  7.32it/s, val_loss=0.143]\n"
     ]
    },
    {
     "name": "stdout",
     "output_type": "stream",
     "text": [
      "New best model found: pAUC = 0.110614 (previous best: 0.106165)\n",
      "Epoch 3: Train pAUC: 0.096794 - Val pAUC: 0.110614 | Train Loss: 4.489910 - Val Loss: 8.868734\n",
      "\n"
     ]
    },
    {
     "name": "stderr",
     "output_type": "stream",
     "text": [
      "Epoch 4: 100%|██████████| 218/218 [02:18<00:00,  1.57it/s, train_loss=0.129]\n",
      "Epoch 4: 100%|██████████| 21/21 [00:02<00:00,  7.08it/s, val_loss=0.154]\n"
     ]
    },
    {
     "name": "stdout",
     "output_type": "stream",
     "text": [
      "New best model found: pAUC = 0.113008 (previous best: 0.110614)\n",
      "Epoch 4: Train pAUC: 0.116306 - Val pAUC: 0.113008 | Train Loss: 4.123896 - Val Loss: 9.558457\n",
      "\n"
     ]
    },
    {
     "name": "stderr",
     "output_type": "stream",
     "text": [
      "Epoch 5: 100%|██████████| 218/218 [02:18<00:00,  1.57it/s, train_loss=0.126]\n",
      "Epoch 5: 100%|██████████| 21/21 [00:02<00:00,  7.38it/s, val_loss=0.132]\n"
     ]
    },
    {
     "name": "stdout",
     "output_type": "stream",
     "text": [
      "New best model found: pAUC = 0.141953 (previous best: 0.113008)\n",
      "Epoch 5: Train pAUC: 0.121505 - Val pAUC: 0.141953 | Train Loss: 4.024015 - Val Loss: 8.226170\n",
      "\n"
     ]
    },
    {
     "name": "stderr",
     "output_type": "stream",
     "text": [
      "Epoch 6: 100%|██████████| 218/218 [02:18<00:00,  1.58it/s, train_loss=0.127]\n",
      "Epoch 6: 100%|██████████| 21/21 [00:02<00:00,  7.31it/s, val_loss=0.142]\n"
     ]
    },
    {
     "name": "stdout",
     "output_type": "stream",
     "text": [
      "Epoch 6: Train pAUC: 0.126407 - Val pAUC: 0.107513 | Train Loss: 4.043385 - Val Loss: 8.833256\n",
      "\n"
     ]
    },
    {
     "name": "stderr",
     "output_type": "stream",
     "text": [
      "Epoch 7: 100%|██████████| 218/218 [02:18<00:00,  1.57it/s, train_loss=0.12]\n",
      "Epoch 7: 100%|██████████| 21/21 [00:02<00:00,  7.30it/s, val_loss=0.136]\n"
     ]
    },
    {
     "name": "stdout",
     "output_type": "stream",
     "text": [
      "Epoch 7: Train pAUC: 0.141988 - Val pAUC: 0.135047 | Train Loss: 3.815765 - Val Loss: 8.450433\n",
      "\n"
     ]
    },
    {
     "name": "stderr",
     "output_type": "stream",
     "text": [
      "Epoch 8: 100%|██████████| 218/218 [02:18<00:00,  1.57it/s, train_loss=0.116]\n",
      "Epoch 8: 100%|██████████| 21/21 [00:02<00:00,  7.30it/s, val_loss=0.153]\n"
     ]
    },
    {
     "name": "stdout",
     "output_type": "stream",
     "text": [
      "Epoch 8: Train pAUC: 0.145068 - Val pAUC: 0.101811 | Train Loss: 3.710499 - Val Loss: 9.517305\n",
      "\n"
     ]
    },
    {
     "name": "stderr",
     "output_type": "stream",
     "text": [
      "Epoch 9: 100%|██████████| 218/218 [02:18<00:00,  1.58it/s, train_loss=0.117]\n",
      "Epoch 9: 100%|██████████| 21/21 [00:02<00:00,  7.25it/s, val_loss=0.155]\n"
     ]
    },
    {
     "name": "stdout",
     "output_type": "stream",
     "text": [
      "Epoch 9: Train pAUC: 0.137545 - Val pAUC: 0.109505 | Train Loss: 3.742601 - Val Loss: 9.631216\n",
      "\n"
     ]
    },
    {
     "name": "stderr",
     "output_type": "stream",
     "text": [
      "Epoch 10: 100%|██████████| 218/218 [02:18<00:00,  1.57it/s, train_loss=0.114]\n",
      "Epoch 10: 100%|██████████| 21/21 [00:02<00:00,  7.27it/s, val_loss=0.122]\n"
     ]
    },
    {
     "name": "stdout",
     "output_type": "stream",
     "text": [
      "New best model found: pAUC = 0.152480 (previous best: 0.141953)\n",
      "Epoch 10: Train pAUC: 0.140260 - Val pAUC: 0.152480 | Train Loss: 3.633859 - Val Loss: 7.554316\n",
      "\n"
     ]
    },
    {
     "name": "stderr",
     "output_type": "stream",
     "text": [
      "Epoch 11: 100%|██████████| 218/218 [02:18<00:00,  1.57it/s, train_loss=0.112]\n",
      "Epoch 11: 100%|██████████| 21/21 [00:02<00:00,  7.00it/s, val_loss=0.122]\n"
     ]
    },
    {
     "name": "stdout",
     "output_type": "stream",
     "text": [
      "Epoch 11: Train pAUC: 0.141622 - Val pAUC: 0.146688 | Train Loss: 3.576350 - Val Loss: 7.565533\n",
      "\n"
     ]
    },
    {
     "name": "stderr",
     "output_type": "stream",
     "text": [
      "Epoch 12: 100%|██████████| 218/218 [02:18<00:00,  1.58it/s, train_loss=0.108]\n",
      "Epoch 12: 100%|██████████| 21/21 [00:02<00:00,  7.29it/s, val_loss=0.125]\n"
     ]
    },
    {
     "name": "stdout",
     "output_type": "stream",
     "text": [
      "Epoch 12: Train pAUC: 0.153420 - Val pAUC: 0.144882 | Train Loss: 3.448456 - Val Loss: 7.762383\n",
      "\n"
     ]
    },
    {
     "name": "stderr",
     "output_type": "stream",
     "text": [
      "Epoch 13: 100%|██████████| 218/218 [02:18<00:00,  1.58it/s, train_loss=0.104]\n",
      "Epoch 13: 100%|██████████| 21/21 [00:02<00:00,  7.29it/s, val_loss=0.13]\n"
     ]
    },
    {
     "name": "stdout",
     "output_type": "stream",
     "text": [
      "Epoch 13: Train pAUC: 0.151278 - Val pAUC: 0.138567 | Train Loss: 3.323743 - Val Loss: 8.054839\n",
      "\n"
     ]
    },
    {
     "name": "stderr",
     "output_type": "stream",
     "text": [
      "Epoch 14: 100%|██████████| 218/218 [02:18<00:00,  1.58it/s, train_loss=0.105]\n",
      "Epoch 14: 100%|██████████| 21/21 [00:02<00:00,  7.39it/s, val_loss=0.141]\n"
     ]
    },
    {
     "name": "stdout",
     "output_type": "stream",
     "text": [
      "Epoch 14: Train pAUC: 0.157035 - Val pAUC: 0.150652 | Train Loss: 3.350685 - Val Loss: 8.786274\n",
      "\n"
     ]
    },
    {
     "name": "stderr",
     "output_type": "stream",
     "text": [
      "Epoch 15: 100%|██████████| 218/218 [02:18<00:00,  1.58it/s, train_loss=0.102]\n",
      "Epoch 15: 100%|██████████| 21/21 [00:02<00:00,  7.33it/s, val_loss=0.141]\n"
     ]
    },
    {
     "name": "stdout",
     "output_type": "stream",
     "text": [
      "Epoch 15: Train pAUC: 0.152822 - Val pAUC: 0.128334 | Train Loss: 3.244253 - Val Loss: 8.777962\n",
      "\n"
     ]
    },
    {
     "name": "stderr",
     "output_type": "stream",
     "text": [
      "Epoch 16: 100%|██████████| 218/218 [02:18<00:00,  1.58it/s, train_loss=0.0987]\n",
      "Epoch 16: 100%|██████████| 21/21 [00:02<00:00,  7.31it/s, val_loss=0.133]\n"
     ]
    },
    {
     "name": "stdout",
     "output_type": "stream",
     "text": [
      "Epoch 16: Train pAUC: 0.158783 - Val pAUC: 0.145950 | Train Loss: 3.146624 - Val Loss: 8.269869\n",
      "\n"
     ]
    },
    {
     "name": "stderr",
     "output_type": "stream",
     "text": [
      "Epoch 17: 100%|██████████| 218/218 [02:18<00:00,  1.57it/s, train_loss=0.0953]\n",
      "Epoch 17: 100%|██████████| 21/21 [00:02<00:00,  7.26it/s, val_loss=0.199]\n"
     ]
    },
    {
     "name": "stdout",
     "output_type": "stream",
     "text": [
      "Epoch 17: Train pAUC: 0.161960 - Val pAUC: 0.141473 | Train Loss: 3.038170 - Val Loss: 12.391833\n",
      "\n"
     ]
    },
    {
     "name": "stderr",
     "output_type": "stream",
     "text": [
      "Epoch 18: 100%|██████████| 218/218 [02:18<00:00,  1.57it/s, train_loss=0.0986]\n",
      "Epoch 18: 100%|██████████| 21/21 [00:02<00:00,  7.34it/s, val_loss=0.138]\n"
     ]
    },
    {
     "name": "stdout",
     "output_type": "stream",
     "text": [
      "Epoch 18: Train pAUC: 0.158101 - Val pAUC: 0.139281 | Train Loss: 3.141648 - Val Loss: 8.606474\n",
      "\n"
     ]
    },
    {
     "name": "stderr",
     "output_type": "stream",
     "text": [
      "Epoch 19: 100%|██████████| 218/218 [02:18<00:00,  1.57it/s, train_loss=0.0973]\n",
      "Epoch 19: 100%|██████████| 21/21 [00:02<00:00,  7.12it/s, val_loss=0.127]\n"
     ]
    },
    {
     "name": "stdout",
     "output_type": "stream",
     "text": [
      "Epoch 19: Train pAUC: 0.164270 - Val pAUC: 0.142994 | Train Loss: 3.102392 - Val Loss: 7.899370\n",
      "\n"
     ]
    },
    {
     "name": "stderr",
     "output_type": "stream",
     "text": [
      "Epoch 20: 100%|██████████| 218/218 [02:18<00:00,  1.57it/s, train_loss=0.0883]\n",
      "Epoch 20: 100%|██████████| 21/21 [00:02<00:00,  7.27it/s, val_loss=0.123]\n"
     ]
    },
    {
     "name": "stdout",
     "output_type": "stream",
     "text": [
      "Epoch 20: Train pAUC: 0.167161 - Val pAUC: 0.141791 | Train Loss: 2.814628 - Val Loss: 7.622542\n",
      "\n"
     ]
    },
    {
     "name": "stderr",
     "output_type": "stream",
     "text": [
      "Epoch 21: 100%|██████████| 218/218 [02:18<00:00,  1.57it/s, train_loss=0.0896]\n",
      "Epoch 21: 100%|██████████| 21/21 [00:02<00:00,  7.28it/s, val_loss=0.119]\n"
     ]
    },
    {
     "name": "stdout",
     "output_type": "stream",
     "text": [
      "Epoch 21: Train pAUC: 0.163396 - Val pAUC: 0.152147 | Train Loss: 2.855150 - Val Loss: 7.369514\n",
      "\n"
     ]
    },
    {
     "name": "stderr",
     "output_type": "stream",
     "text": [
      "Epoch 22: 100%|██████████| 218/218 [02:18<00:00,  1.57it/s, train_loss=0.083]\n",
      "Epoch 22: 100%|██████████| 21/21 [00:02<00:00,  7.25it/s, val_loss=0.123]\n"
     ]
    },
    {
     "name": "stdout",
     "output_type": "stream",
     "text": [
      "Epoch 22: Train pAUC: 0.173300 - Val pAUC: 0.145258 | Train Loss: 2.643851 - Val Loss: 7.624988\n",
      "\n"
     ]
    },
    {
     "name": "stderr",
     "output_type": "stream",
     "text": [
      "Epoch 23: 100%|██████████| 218/218 [02:18<00:00,  1.57it/s, train_loss=0.0859]\n",
      "Epoch 23: 100%|██████████| 21/21 [00:02<00:00,  7.26it/s, val_loss=0.12]\n"
     ]
    },
    {
     "name": "stdout",
     "output_type": "stream",
     "text": [
      "Epoch 23: Train pAUC: 0.165755 - Val pAUC: 0.142162 | Train Loss: 2.736300 - Val Loss: 7.448355\n",
      "\n"
     ]
    },
    {
     "name": "stderr",
     "output_type": "stream",
     "text": [
      "Epoch 24: 100%|██████████| 218/218 [02:18<00:00,  1.57it/s, train_loss=0.0819]\n",
      "Epoch 24: 100%|██████████| 21/21 [00:02<00:00,  7.31it/s, val_loss=0.119]\n"
     ]
    },
    {
     "name": "stdout",
     "output_type": "stream",
     "text": [
      "New best model found: pAUC = 0.159436 (previous best: 0.152480)\n",
      "Epoch 24: Train pAUC: 0.172079 - Val pAUC: 0.159436 | Train Loss: 2.609521 - Val Loss: 7.412380\n",
      "\n"
     ]
    },
    {
     "name": "stderr",
     "output_type": "stream",
     "text": [
      "Epoch 25: 100%|██████████| 218/218 [02:18<00:00,  1.58it/s, train_loss=0.0777]\n",
      "Epoch 25: 100%|██████████| 21/21 [00:02<00:00,  7.29it/s, val_loss=0.128]\n"
     ]
    },
    {
     "name": "stdout",
     "output_type": "stream",
     "text": [
      "Epoch 25: Train pAUC: 0.177399 - Val pAUC: 0.140489 | Train Loss: 2.478006 - Val Loss: 7.932204\n",
      "\n"
     ]
    },
    {
     "name": "stderr",
     "output_type": "stream",
     "text": [
      "Epoch 26: 100%|██████████| 218/218 [02:18<00:00,  1.58it/s, train_loss=0.0765]\n",
      "Epoch 26: 100%|██████████| 21/21 [00:02<00:00,  7.20it/s, val_loss=0.131]\n"
     ]
    },
    {
     "name": "stdout",
     "output_type": "stream",
     "text": [
      "Epoch 26: Train pAUC: 0.174377 - Val pAUC: 0.132621 | Train Loss: 2.439341 - Val Loss: 8.114777\n",
      "\n"
     ]
    },
    {
     "name": "stderr",
     "output_type": "stream",
     "text": [
      "Epoch 27: 100%|██████████| 218/218 [02:18<00:00,  1.57it/s, train_loss=0.0793]\n",
      "Epoch 27: 100%|██████████| 21/21 [00:02<00:00,  7.32it/s, val_loss=0.131]\n"
     ]
    },
    {
     "name": "stdout",
     "output_type": "stream",
     "text": [
      "Epoch 27: Train pAUC: 0.180300 - Val pAUC: 0.145251 | Train Loss: 2.526889 - Val Loss: 8.113667\n",
      "\n"
     ]
    },
    {
     "name": "stderr",
     "output_type": "stream",
     "text": [
      "Epoch 28: 100%|██████████| 218/218 [02:18<00:00,  1.57it/s, train_loss=0.0712]\n",
      "Epoch 28: 100%|██████████| 21/21 [00:02<00:00,  7.27it/s, val_loss=0.132]\n"
     ]
    },
    {
     "name": "stdout",
     "output_type": "stream",
     "text": [
      "Epoch 28: Train pAUC: 0.179839 - Val pAUC: 0.146481 | Train Loss: 2.270320 - Val Loss: 8.219883\n",
      "\n"
     ]
    },
    {
     "name": "stderr",
     "output_type": "stream",
     "text": [
      "Epoch 29: 100%|██████████| 218/218 [02:18<00:00,  1.57it/s, train_loss=0.0666]\n",
      "Epoch 29: 100%|██████████| 21/21 [00:02<00:00,  7.03it/s, val_loss=0.129]\n"
     ]
    },
    {
     "name": "stdout",
     "output_type": "stream",
     "text": [
      "Epoch 29: Train pAUC: 0.184760 - Val pAUC: 0.145637 | Train Loss: 2.121103 - Val Loss: 7.997348\n",
      "\n"
     ]
    },
    {
     "name": "stderr",
     "output_type": "stream",
     "text": [
      "Epoch 30: 100%|██████████| 218/218 [02:18<00:00,  1.57it/s, train_loss=0.0636]\n",
      "Epoch 30: 100%|██████████| 21/21 [00:02<00:00,  7.21it/s, val_loss=0.147]\n"
     ]
    },
    {
     "name": "stdout",
     "output_type": "stream",
     "text": [
      "Epoch 30: Train pAUC: 0.184361 - Val pAUC: 0.134203 | Train Loss: 2.025672 - Val Loss: 9.150287\n",
      "\n"
     ]
    },
    {
     "name": "stderr",
     "output_type": "stream",
     "text": [
      "Epoch 31: 100%|██████████| 218/218 [02:18<00:00,  1.57it/s, train_loss=0.0804]\n",
      "Epoch 31: 100%|██████████| 21/21 [00:02<00:00,  7.22it/s, val_loss=0.131]\n"
     ]
    },
    {
     "name": "stdout",
     "output_type": "stream",
     "text": [
      "Epoch 31: Train pAUC: 0.169979 - Val pAUC: 0.139295 | Train Loss: 2.563012 - Val Loss: 8.152818\n",
      "\n"
     ]
    },
    {
     "name": "stderr",
     "output_type": "stream",
     "text": [
      "Epoch 32: 100%|██████████| 218/218 [02:18<00:00,  1.58it/s, train_loss=0.0654]\n",
      "Epoch 32: 100%|██████████| 21/21 [00:02<00:00,  7.34it/s, val_loss=0.14]\n"
     ]
    },
    {
     "name": "stdout",
     "output_type": "stream",
     "text": [
      "Epoch 32: Train pAUC: 0.186073 - Val pAUC: 0.127736 | Train Loss: 2.085821 - Val Loss: 8.715183\n",
      "\n"
     ]
    },
    {
     "name": "stderr",
     "output_type": "stream",
     "text": [
      "Epoch 33: 100%|██████████| 218/218 [02:18<00:00,  1.58it/s, train_loss=0.0619]\n",
      "Epoch 33: 100%|██████████| 21/21 [00:02<00:00,  7.34it/s, val_loss=0.13]\n"
     ]
    },
    {
     "name": "stdout",
     "output_type": "stream",
     "text": [
      "Epoch 33: Train pAUC: 0.182907 - Val pAUC: 0.148407 | Train Loss: 1.974190 - Val Loss: 8.053934\n",
      "\n"
     ]
    },
    {
     "name": "stderr",
     "output_type": "stream",
     "text": [
      "Epoch 34: 100%|██████████| 218/218 [02:18<00:00,  1.57it/s, train_loss=0.0529]\n",
      "Epoch 34: 100%|██████████| 21/21 [00:02<00:00,  7.33it/s, val_loss=0.143]\n"
     ]
    },
    {
     "name": "stdout",
     "output_type": "stream",
     "text": [
      "Epoch 34: Train pAUC: 0.190688 - Val pAUC: 0.142830 | Train Loss: 1.686800 - Val Loss: 8.906117\n",
      "\n"
     ]
    },
    {
     "name": "stderr",
     "output_type": "stream",
     "text": [
      "Epoch 35: 100%|██████████| 218/218 [02:18<00:00,  1.58it/s, train_loss=0.0617]\n",
      "Epoch 35: 100%|██████████| 21/21 [00:02<00:00,  7.24it/s, val_loss=0.145]\n"
     ]
    },
    {
     "name": "stdout",
     "output_type": "stream",
     "text": [
      "Epoch 35: Train pAUC: 0.185587 - Val pAUC: 0.152873 | Train Loss: 1.965555 - Val Loss: 8.987924\n",
      "\n"
     ]
    },
    {
     "name": "stderr",
     "output_type": "stream",
     "text": [
      "Epoch 36: 100%|██████████| 218/218 [02:18<00:00,  1.58it/s, train_loss=0.0544]\n",
      "Epoch 36: 100%|██████████| 21/21 [00:02<00:00,  7.33it/s, val_loss=0.139]\n"
     ]
    },
    {
     "name": "stdout",
     "output_type": "stream",
     "text": [
      "Epoch 36: Train pAUC: 0.189125 - Val pAUC: 0.146618 | Train Loss: 1.735092 - Val Loss: 8.651104\n",
      "\n"
     ]
    },
    {
     "name": "stderr",
     "output_type": "stream",
     "text": [
      "Epoch 37: 100%|██████████| 218/218 [02:18<00:00,  1.58it/s, train_loss=0.0504]\n",
      "Epoch 37: 100%|██████████| 21/21 [00:02<00:00,  7.25it/s, val_loss=0.137]\n"
     ]
    },
    {
     "name": "stdout",
     "output_type": "stream",
     "text": [
      "Epoch 37: Train pAUC: 0.189042 - Val pAUC: 0.151653 | Train Loss: 1.607015 - Val Loss: 8.514817\n",
      "\n"
     ]
    },
    {
     "name": "stderr",
     "output_type": "stream",
     "text": [
      "Epoch 38: 100%|██████████| 218/218 [02:18<00:00,  1.57it/s, train_loss=0.0488]\n",
      "Epoch 38: 100%|██████████| 21/21 [00:02<00:00,  7.25it/s, val_loss=0.148]\n"
     ]
    },
    {
     "name": "stdout",
     "output_type": "stream",
     "text": [
      "Epoch 38: Train pAUC: 0.191088 - Val pAUC: 0.146703 | Train Loss: 1.556667 - Val Loss: 9.197211\n",
      "\n"
     ]
    },
    {
     "name": "stderr",
     "output_type": "stream",
     "text": [
      "Epoch 39: 100%|██████████| 218/218 [02:18<00:00,  1.58it/s, train_loss=0.0499]\n",
      "Epoch 39: 100%|██████████| 21/21 [00:02<00:00,  7.21it/s, val_loss=0.167]\n"
     ]
    },
    {
     "name": "stdout",
     "output_type": "stream",
     "text": [
      "Early stopping triggered at epoch 39. Best pAUC = 0.159436\n",
      "Epoch 39: Train pAUC: 0.190630 - Val pAUC: 0.145215 | Train Loss: 1.589060 - Val Loss: 10.376961\n",
      "\n"
     ]
    },
    {
     "name": "stderr",
     "output_type": "stream",
     "text": [
      "Prediction: 100%|██████████| 1191/1191 [02:17<00:00,  8.64it/s]\n"
     ]
    },
    {
     "name": "stdout",
     "output_type": "stream",
     "text": [
      "---------------------------------- Fold 3 ----------------------------------\n",
      "\n",
      "\n",
      "---------------------------------- Fold 4 ----------------------------------\n"
     ]
    },
    {
     "name": "stderr",
     "output_type": "stream",
     "text": [
      "Epoch 1: 100%|██████████| 205/205 [02:10<00:00,  1.57it/s, train_loss=0.22]\n",
      "Epoch 1: 100%|██████████| 27/27 [00:03<00:00,  7.48it/s, val_loss=0.156]\n"
     ]
    },
    {
     "name": "stdout",
     "output_type": "stream",
     "text": [
      "Epoch 1: Train pAUC: 0.046783 - Val pAUC: 0.076933 | Train Loss: 7.031541 - Val Loss: 9.826257\n",
      "\n"
     ]
    },
    {
     "name": "stderr",
     "output_type": "stream",
     "text": [
      "Epoch 2: 100%|██████████| 205/205 [02:10<00:00,  1.57it/s, train_loss=0.161]\n",
      "Epoch 2: 100%|██████████| 27/27 [00:03<00:00,  7.05it/s, val_loss=0.155]\n"
     ]
    },
    {
     "name": "stdout",
     "output_type": "stream",
     "text": [
      "New best model found: pAUC = 0.082661 (previous best: 0.076933)\n",
      "Epoch 2: Train pAUC: 0.084814 - Val pAUC: 0.082661 | Train Loss: 5.146645 - Val Loss: 9.803248\n",
      "\n"
     ]
    },
    {
     "name": "stderr",
     "output_type": "stream",
     "text": [
      "Epoch 3: 100%|██████████| 205/205 [02:10<00:00,  1.57it/s, train_loss=0.148]\n",
      "Epoch 3: 100%|██████████| 27/27 [00:03<00:00,  7.45it/s, val_loss=0.13]\n"
     ]
    },
    {
     "name": "stdout",
     "output_type": "stream",
     "text": [
      "New best model found: pAUC = 0.107424 (previous best: 0.082661)\n",
      "Epoch 3: Train pAUC: 0.102565 - Val pAUC: 0.107424 | Train Loss: 4.718700 - Val Loss: 8.229442\n",
      "\n"
     ]
    },
    {
     "name": "stderr",
     "output_type": "stream",
     "text": [
      "Epoch 4: 100%|██████████| 205/205 [02:10<00:00,  1.57it/s, train_loss=0.139]\n",
      "Epoch 4: 100%|██████████| 27/27 [00:03<00:00,  7.42it/s, val_loss=0.125]\n"
     ]
    },
    {
     "name": "stdout",
     "output_type": "stream",
     "text": [
      "New best model found: pAUC = 0.111343 (previous best: 0.107424)\n",
      "Epoch 4: Train pAUC: 0.100417 - Val pAUC: 0.111343 | Train Loss: 4.436247 - Val Loss: 7.907625\n",
      "\n"
     ]
    },
    {
     "name": "stderr",
     "output_type": "stream",
     "text": [
      "Epoch 5: 100%|██████████| 205/205 [02:10<00:00,  1.57it/s, train_loss=0.128]\n",
      "Epoch 5: 100%|██████████| 27/27 [00:03<00:00,  7.45it/s, val_loss=0.121]\n"
     ]
    },
    {
     "name": "stdout",
     "output_type": "stream",
     "text": [
      "New best model found: pAUC = 0.122563 (previous best: 0.111343)\n",
      "Epoch 5: Train pAUC: 0.123033 - Val pAUC: 0.122563 | Train Loss: 4.103220 - Val Loss: 7.615010\n",
      "\n"
     ]
    },
    {
     "name": "stderr",
     "output_type": "stream",
     "text": [
      "Epoch 6: 100%|██████████| 205/205 [02:10<00:00,  1.57it/s, train_loss=0.124]\n",
      "Epoch 6: 100%|██████████| 27/27 [00:03<00:00,  7.48it/s, val_loss=0.127]\n"
     ]
    },
    {
     "name": "stdout",
     "output_type": "stream",
     "text": [
      "Epoch 6: Train pAUC: 0.123880 - Val pAUC: 0.115520 | Train Loss: 3.951179 - Val Loss: 7.989039\n",
      "\n"
     ]
    },
    {
     "name": "stderr",
     "output_type": "stream",
     "text": [
      "Epoch 7: 100%|██████████| 205/205 [02:10<00:00,  1.57it/s, train_loss=0.124]\n",
      "Epoch 7: 100%|██████████| 27/27 [00:03<00:00,  7.46it/s, val_loss=0.109]\n"
     ]
    },
    {
     "name": "stdout",
     "output_type": "stream",
     "text": [
      "New best model found: pAUC = 0.143036 (previous best: 0.122563)\n",
      "Epoch 7: Train pAUC: 0.124171 - Val pAUC: 0.143036 | Train Loss: 3.959619 - Val Loss: 6.852090\n",
      "\n"
     ]
    },
    {
     "name": "stderr",
     "output_type": "stream",
     "text": [
      "Epoch 8: 100%|██████████| 205/205 [02:10<00:00,  1.57it/s, train_loss=0.115]\n",
      "Epoch 8: 100%|██████████| 27/27 [00:03<00:00,  7.57it/s, val_loss=0.119]\n"
     ]
    },
    {
     "name": "stdout",
     "output_type": "stream",
     "text": [
      "Epoch 8: Train pAUC: 0.139642 - Val pAUC: 0.140357 | Train Loss: 3.658933 - Val Loss: 7.477955\n",
      "\n"
     ]
    },
    {
     "name": "stderr",
     "output_type": "stream",
     "text": [
      "Epoch 9: 100%|██████████| 205/205 [02:10<00:00,  1.57it/s, train_loss=0.112]\n",
      "Epoch 9: 100%|██████████| 27/27 [00:03<00:00,  7.44it/s, val_loss=0.114]\n"
     ]
    },
    {
     "name": "stdout",
     "output_type": "stream",
     "text": [
      "Epoch 9: Train pAUC: 0.141901 - Val pAUC: 0.136843 | Train Loss: 3.569588 - Val Loss: 7.161953\n",
      "\n"
     ]
    },
    {
     "name": "stderr",
     "output_type": "stream",
     "text": [
      "Epoch 10: 100%|██████████| 205/205 [02:10<00:00,  1.57it/s, train_loss=0.113]\n",
      "Epoch 10: 100%|██████████| 27/27 [00:03<00:00,  7.49it/s, val_loss=0.111]\n"
     ]
    },
    {
     "name": "stdout",
     "output_type": "stream",
     "text": [
      "Epoch 10: Train pAUC: 0.141596 - Val pAUC: 0.141939 | Train Loss: 3.595533 - Val Loss: 6.990721\n",
      "\n"
     ]
    },
    {
     "name": "stderr",
     "output_type": "stream",
     "text": [
      "Epoch 11: 100%|██████████| 205/205 [02:10<00:00,  1.57it/s, train_loss=0.107]\n",
      "Epoch 11: 100%|██████████| 27/27 [00:03<00:00,  7.48it/s, val_loss=0.112]\n"
     ]
    },
    {
     "name": "stdout",
     "output_type": "stream",
     "text": [
      "Epoch 11: Train pAUC: 0.153089 - Val pAUC: 0.137099 | Train Loss: 3.417026 - Val Loss: 7.086392\n",
      "\n"
     ]
    },
    {
     "name": "stderr",
     "output_type": "stream",
     "text": [
      "Epoch 12: 100%|██████████| 205/205 [02:10<00:00,  1.57it/s, train_loss=0.106]\n",
      "Epoch 12: 100%|██████████| 27/27 [00:03<00:00,  7.59it/s, val_loss=0.116]\n"
     ]
    },
    {
     "name": "stdout",
     "output_type": "stream",
     "text": [
      "Epoch 12: Train pAUC: 0.149297 - Val pAUC: 0.132780 | Train Loss: 3.402710 - Val Loss: 7.331387\n",
      "\n"
     ]
    },
    {
     "name": "stderr",
     "output_type": "stream",
     "text": [
      "Epoch 13: 100%|██████████| 205/205 [02:10<00:00,  1.57it/s, train_loss=0.105]\n",
      "Epoch 13: 100%|██████████| 27/27 [00:03<00:00,  7.15it/s, val_loss=0.113]\n"
     ]
    },
    {
     "name": "stdout",
     "output_type": "stream",
     "text": [
      "New best model found: pAUC = 0.143094 (previous best: 0.143036)\n",
      "Epoch 13: Train pAUC: 0.146788 - Val pAUC: 0.143094 | Train Loss: 3.348941 - Val Loss: 7.112420\n",
      "\n"
     ]
    },
    {
     "name": "stderr",
     "output_type": "stream",
     "text": [
      "Epoch 14: 100%|██████████| 205/205 [02:10<00:00,  1.57it/s, train_loss=0.1]\n",
      "Epoch 14: 100%|██████████| 27/27 [00:03<00:00,  7.49it/s, val_loss=0.117]\n"
     ]
    },
    {
     "name": "stdout",
     "output_type": "stream",
     "text": [
      "Epoch 14: Train pAUC: 0.156385 - Val pAUC: 0.142193 | Train Loss: 3.200547 - Val Loss: 7.384615\n",
      "\n"
     ]
    },
    {
     "name": "stderr",
     "output_type": "stream",
     "text": [
      "Epoch 15: 100%|██████████| 205/205 [02:10<00:00,  1.57it/s, train_loss=0.0979]\n",
      "Epoch 15: 100%|██████████| 27/27 [00:03<00:00,  7.48it/s, val_loss=0.107]\n"
     ]
    },
    {
     "name": "stdout",
     "output_type": "stream",
     "text": [
      "New best model found: pAUC = 0.148305 (previous best: 0.143094)\n",
      "Epoch 15: Train pAUC: 0.161349 - Val pAUC: 0.148305 | Train Loss: 3.126676 - Val Loss: 6.742841\n",
      "\n"
     ]
    },
    {
     "name": "stderr",
     "output_type": "stream",
     "text": [
      "Epoch 16: 100%|██████████| 205/205 [02:10<00:00,  1.57it/s, train_loss=0.0965]\n",
      "Epoch 16: 100%|██████████| 27/27 [00:03<00:00,  7.31it/s, val_loss=0.12]\n"
     ]
    },
    {
     "name": "stdout",
     "output_type": "stream",
     "text": [
      "New best model found: pAUC = 0.154304 (previous best: 0.148305)\n",
      "Epoch 16: Train pAUC: 0.159308 - Val pAUC: 0.154304 | Train Loss: 3.084071 - Val Loss: 7.551630\n",
      "\n"
     ]
    },
    {
     "name": "stderr",
     "output_type": "stream",
     "text": [
      "Epoch 17: 100%|██████████| 205/205 [02:10<00:00,  1.57it/s, train_loss=0.094]\n",
      "Epoch 17: 100%|██████████| 27/27 [00:03<00:00,  7.24it/s, val_loss=0.112]\n"
     ]
    },
    {
     "name": "stdout",
     "output_type": "stream",
     "text": [
      "Epoch 17: Train pAUC: 0.167157 - Val pAUC: 0.150010 | Train Loss: 3.002549 - Val Loss: 7.043628\n",
      "\n"
     ]
    },
    {
     "name": "stderr",
     "output_type": "stream",
     "text": [
      "Epoch 18: 100%|██████████| 205/205 [02:10<00:00,  1.57it/s, train_loss=0.0894]\n",
      "Epoch 18: 100%|██████████| 27/27 [00:03<00:00,  7.48it/s, val_loss=0.115]\n"
     ]
    },
    {
     "name": "stdout",
     "output_type": "stream",
     "text": [
      "Epoch 18: Train pAUC: 0.166558 - Val pAUC: 0.146023 | Train Loss: 2.854949 - Val Loss: 7.256200\n",
      "\n"
     ]
    },
    {
     "name": "stderr",
     "output_type": "stream",
     "text": [
      "Epoch 19: 100%|██████████| 205/205 [02:10<00:00,  1.57it/s, train_loss=0.0892]\n",
      "Epoch 19: 100%|██████████| 27/27 [00:03<00:00,  7.47it/s, val_loss=0.121]\n"
     ]
    },
    {
     "name": "stdout",
     "output_type": "stream",
     "text": [
      "Epoch 19: Train pAUC: 0.164695 - Val pAUC: 0.142004 | Train Loss: 2.850302 - Val Loss: 7.650952\n",
      "\n"
     ]
    },
    {
     "name": "stderr",
     "output_type": "stream",
     "text": [
      "Epoch 20: 100%|██████████| 205/205 [02:10<00:00,  1.57it/s, train_loss=0.086]\n",
      "Epoch 20: 100%|██████████| 27/27 [00:03<00:00,  7.42it/s, val_loss=0.109]\n"
     ]
    },
    {
     "name": "stdout",
     "output_type": "stream",
     "text": [
      "Epoch 20: Train pAUC: 0.170905 - Val pAUC: 0.153972 | Train Loss: 2.748186 - Val Loss: 6.888161\n",
      "\n"
     ]
    },
    {
     "name": "stderr",
     "output_type": "stream",
     "text": [
      "Epoch 21: 100%|██████████| 205/205 [02:10<00:00,  1.57it/s, train_loss=0.0841]\n",
      "Epoch 21: 100%|██████████| 27/27 [00:03<00:00,  7.43it/s, val_loss=0.121]\n"
     ]
    },
    {
     "name": "stdout",
     "output_type": "stream",
     "text": [
      "Epoch 21: Train pAUC: 0.171875 - Val pAUC: 0.146478 | Train Loss: 2.687867 - Val Loss: 7.612847\n",
      "\n"
     ]
    },
    {
     "name": "stderr",
     "output_type": "stream",
     "text": [
      "Epoch 22: 100%|██████████| 205/205 [02:10<00:00,  1.57it/s, train_loss=0.0816]\n",
      "Epoch 22: 100%|██████████| 27/27 [00:03<00:00,  7.48it/s, val_loss=0.12]\n"
     ]
    },
    {
     "name": "stdout",
     "output_type": "stream",
     "text": [
      "Epoch 22: Train pAUC: 0.169570 - Val pAUC: 0.140001 | Train Loss: 2.607891 - Val Loss: 7.549302\n",
      "\n"
     ]
    },
    {
     "name": "stderr",
     "output_type": "stream",
     "text": [
      "Epoch 23: 100%|██████████| 205/205 [02:10<00:00,  1.57it/s, train_loss=0.0745]\n",
      "Epoch 23: 100%|██████████| 27/27 [00:03<00:00,  7.45it/s, val_loss=0.129]\n"
     ]
    },
    {
     "name": "stdout",
     "output_type": "stream",
     "text": [
      "Epoch 23: Train pAUC: 0.177205 - Val pAUC: 0.130498 | Train Loss: 2.380226 - Val Loss: 8.116780\n",
      "\n"
     ]
    },
    {
     "name": "stderr",
     "output_type": "stream",
     "text": [
      "Epoch 24: 100%|██████████| 205/205 [02:10<00:00,  1.57it/s, train_loss=0.0738]\n",
      "Epoch 24: 100%|██████████| 27/27 [00:03<00:00,  7.52it/s, val_loss=0.114]\n"
     ]
    },
    {
     "name": "stdout",
     "output_type": "stream",
     "text": [
      "New best model found: pAUC = 0.154394 (previous best: 0.154304)\n",
      "Epoch 24: Train pAUC: 0.178007 - Val pAUC: 0.154394 | Train Loss: 2.356521 - Val Loss: 7.163894\n",
      "\n"
     ]
    },
    {
     "name": "stderr",
     "output_type": "stream",
     "text": [
      "Epoch 25: 100%|██████████| 205/205 [02:10<00:00,  1.57it/s, train_loss=0.0722]\n",
      "Epoch 25: 100%|██████████| 27/27 [00:03<00:00,  7.45it/s, val_loss=0.125]\n"
     ]
    },
    {
     "name": "stdout",
     "output_type": "stream",
     "text": [
      "Epoch 25: Train pAUC: 0.179977 - Val pAUC: 0.132969 | Train Loss: 2.306701 - Val Loss: 7.891782\n",
      "\n"
     ]
    },
    {
     "name": "stderr",
     "output_type": "stream",
     "text": [
      "Epoch 26: 100%|██████████| 205/205 [02:10<00:00,  1.57it/s, train_loss=0.073]\n",
      "Epoch 26: 100%|██████████| 27/27 [00:03<00:00,  7.42it/s, val_loss=0.127]\n"
     ]
    },
    {
     "name": "stdout",
     "output_type": "stream",
     "text": [
      "Epoch 26: Train pAUC: 0.178601 - Val pAUC: 0.132017 | Train Loss: 2.331841 - Val Loss: 7.999562\n",
      "\n"
     ]
    },
    {
     "name": "stderr",
     "output_type": "stream",
     "text": [
      "Epoch 27: 100%|██████████| 205/205 [02:10<00:00,  1.57it/s, train_loss=0.0717]\n",
      "Epoch 27: 100%|██████████| 27/27 [00:03<00:00,  7.51it/s, val_loss=0.127]\n"
     ]
    },
    {
     "name": "stdout",
     "output_type": "stream",
     "text": [
      "Epoch 27: Train pAUC: 0.176219 - Val pAUC: 0.137549 | Train Loss: 2.289728 - Val Loss: 8.031871\n",
      "\n"
     ]
    },
    {
     "name": "stderr",
     "output_type": "stream",
     "text": [
      "Epoch 28: 100%|██████████| 205/205 [02:10<00:00,  1.57it/s, train_loss=0.0688]\n",
      "Epoch 28: 100%|██████████| 27/27 [00:03<00:00,  7.50it/s, val_loss=0.118]\n"
     ]
    },
    {
     "name": "stdout",
     "output_type": "stream",
     "text": [
      "Epoch 28: Train pAUC: 0.181268 - Val pAUC: 0.146183 | Train Loss: 2.196849 - Val Loss: 7.469479\n",
      "\n"
     ]
    },
    {
     "name": "stderr",
     "output_type": "stream",
     "text": [
      "Epoch 29: 100%|██████████| 205/205 [02:10<00:00,  1.57it/s, train_loss=0.0577]\n",
      "Epoch 29: 100%|██████████| 27/27 [00:03<00:00,  7.54it/s, val_loss=0.123]\n"
     ]
    },
    {
     "name": "stdout",
     "output_type": "stream",
     "text": [
      "Epoch 29: Train pAUC: 0.187237 - Val pAUC: 0.137073 | Train Loss: 1.843777 - Val Loss: 7.736731\n",
      "\n"
     ]
    },
    {
     "name": "stderr",
     "output_type": "stream",
     "text": [
      "Epoch 30: 100%|██████████| 205/205 [02:10<00:00,  1.57it/s, train_loss=0.0569]\n",
      "Epoch 30: 100%|██████████| 27/27 [00:03<00:00,  7.14it/s, val_loss=0.138]\n"
     ]
    },
    {
     "name": "stdout",
     "output_type": "stream",
     "text": [
      "Epoch 30: Train pAUC: 0.187796 - Val pAUC: 0.119494 | Train Loss: 1.819482 - Val Loss: 8.677648\n",
      "\n"
     ]
    },
    {
     "name": "stderr",
     "output_type": "stream",
     "text": [
      "Epoch 31: 100%|██████████| 205/205 [02:10<00:00,  1.57it/s, train_loss=0.0595]\n",
      "Epoch 31: 100%|██████████| 27/27 [00:03<00:00,  6.86it/s, val_loss=0.14]\n"
     ]
    },
    {
     "name": "stdout",
     "output_type": "stream",
     "text": [
      "Epoch 31: Train pAUC: 0.184802 - Val pAUC: 0.134801 | Train Loss: 1.901721 - Val Loss: 8.852129\n",
      "\n"
     ]
    },
    {
     "name": "stderr",
     "output_type": "stream",
     "text": [
      "Epoch 32: 100%|██████████| 205/205 [02:10<00:00,  1.57it/s, train_loss=0.0547]\n",
      "Epoch 32: 100%|██████████| 27/27 [00:03<00:00,  7.47it/s, val_loss=0.157]\n"
     ]
    },
    {
     "name": "stdout",
     "output_type": "stream",
     "text": [
      "Epoch 32: Train pAUC: 0.188471 - Val pAUC: 0.117198 | Train Loss: 1.748767 - Val Loss: 9.911353\n",
      "\n"
     ]
    },
    {
     "name": "stderr",
     "output_type": "stream",
     "text": [
      "Epoch 33: 100%|██████████| 205/205 [02:10<00:00,  1.57it/s, train_loss=0.0509]\n",
      "Epoch 33: 100%|██████████| 27/27 [00:03<00:00,  7.53it/s, val_loss=0.158]\n"
     ]
    },
    {
     "name": "stdout",
     "output_type": "stream",
     "text": [
      "Epoch 33: Train pAUC: 0.188360 - Val pAUC: 0.115325 | Train Loss: 1.624784 - Val Loss: 9.992908\n",
      "\n"
     ]
    },
    {
     "name": "stderr",
     "output_type": "stream",
     "text": [
      "Epoch 34: 100%|██████████| 205/205 [02:10<00:00,  1.57it/s, train_loss=0.055]\n",
      "Epoch 34: 100%|██████████| 27/27 [00:03<00:00,  7.44it/s, val_loss=0.144]\n"
     ]
    },
    {
     "name": "stdout",
     "output_type": "stream",
     "text": [
      "Epoch 34: Train pAUC: 0.188472 - Val pAUC: 0.124745 | Train Loss: 1.758022 - Val Loss: 9.055951\n",
      "\n"
     ]
    },
    {
     "name": "stderr",
     "output_type": "stream",
     "text": [
      "Epoch 35: 100%|██████████| 205/205 [02:10<00:00,  1.57it/s, train_loss=0.0508]\n",
      "Epoch 35: 100%|██████████| 27/27 [00:03<00:00,  7.55it/s, val_loss=0.153]\n"
     ]
    },
    {
     "name": "stdout",
     "output_type": "stream",
     "text": [
      "Epoch 35: Train pAUC: 0.189892 - Val pAUC: 0.135382 | Train Loss: 1.621721 - Val Loss: 9.668196\n",
      "\n"
     ]
    },
    {
     "name": "stderr",
     "output_type": "stream",
     "text": [
      "Epoch 36: 100%|██████████| 205/205 [02:10<00:00,  1.57it/s, train_loss=0.0447]\n",
      "Epoch 36: 100%|██████████| 27/27 [00:03<00:00,  7.45it/s, val_loss=0.197]\n"
     ]
    },
    {
     "name": "stdout",
     "output_type": "stream",
     "text": [
      "Epoch 36: Train pAUC: 0.194099 - Val pAUC: 0.147089 | Train Loss: 1.428444 - Val Loss: 12.419250\n",
      "\n"
     ]
    },
    {
     "name": "stderr",
     "output_type": "stream",
     "text": [
      "Epoch 37: 100%|██████████| 205/205 [02:10<00:00,  1.57it/s, train_loss=0.0495]\n",
      "Epoch 37: 100%|██████████| 27/27 [00:03<00:00,  7.45it/s, val_loss=0.139]\n"
     ]
    },
    {
     "name": "stdout",
     "output_type": "stream",
     "text": [
      "Epoch 37: Train pAUC: 0.189287 - Val pAUC: 0.101277 | Train Loss: 1.582274 - Val Loss: 8.750133\n",
      "\n"
     ]
    },
    {
     "name": "stderr",
     "output_type": "stream",
     "text": [
      "Epoch 38: 100%|██████████| 205/205 [02:10<00:00,  1.57it/s, train_loss=0.0395]\n",
      "Epoch 38: 100%|██████████| 27/27 [00:03<00:00,  7.64it/s, val_loss=0.158]\n"
     ]
    },
    {
     "name": "stdout",
     "output_type": "stream",
     "text": [
      "Epoch 38: Train pAUC: 0.195377 - Val pAUC: 0.098062 | Train Loss: 1.263037 - Val Loss: 9.975671\n",
      "\n"
     ]
    },
    {
     "name": "stderr",
     "output_type": "stream",
     "text": [
      "Epoch 39: 100%|██████████| 205/205 [02:10<00:00,  1.57it/s, train_loss=0.0458]\n",
      "Epoch 39: 100%|██████████| 27/27 [00:03<00:00,  7.52it/s, val_loss=0.14]\n"
     ]
    },
    {
     "name": "stdout",
     "output_type": "stream",
     "text": [
      "Early stopping triggered at epoch 39. Best pAUC = 0.154394\n",
      "Epoch 39: Train pAUC: 0.190710 - Val pAUC: 0.137623 | Train Loss: 1.462682 - Val Loss: 8.806421\n",
      "\n"
     ]
    },
    {
     "name": "stderr",
     "output_type": "stream",
     "text": [
      "Prediction: 100%|██████████| 1167/1167 [02:15<00:00,  8.64it/s]\n"
     ]
    },
    {
     "name": "stdout",
     "output_type": "stream",
     "text": [
      "---------------------------------- Fold 4 ----------------------------------\n",
      "\n",
      "\n",
      "---------------------------------- Fold 5 ----------------------------------\n"
     ]
    },
    {
     "name": "stderr",
     "output_type": "stream",
     "text": [
      "Epoch 1: 100%|██████████| 201/201 [02:08<00:00,  1.57it/s, train_loss=0.2]\n",
      "Epoch 1: 100%|██████████| 29/29 [00:03<00:00,  7.52it/s, val_loss=0.314]\n"
     ]
    },
    {
     "name": "stdout",
     "output_type": "stream",
     "text": [
      "Epoch 1: Train pAUC: 0.040840 - Val pAUC: 0.035092 | Train Loss: 6.409529 - Val Loss: 19.812192\n",
      "\n"
     ]
    },
    {
     "name": "stderr",
     "output_type": "stream",
     "text": [
      "Epoch 2: 100%|██████████| 201/201 [02:08<00:00,  1.57it/s, train_loss=0.158]\n",
      "Epoch 2: 100%|██████████| 29/29 [00:03<00:00,  7.63it/s, val_loss=0.185]\n"
     ]
    },
    {
     "name": "stdout",
     "output_type": "stream",
     "text": [
      "New best model found: pAUC = 0.113226 (previous best: 0.035092)\n",
      "Epoch 2: Train pAUC: 0.066637 - Val pAUC: 0.113226 | Train Loss: 5.045846 - Val Loss: 11.673322\n",
      "\n"
     ]
    },
    {
     "name": "stderr",
     "output_type": "stream",
     "text": [
      "Epoch 3: 100%|██████████| 201/201 [02:08<00:00,  1.57it/s, train_loss=0.134]\n",
      "Epoch 3: 100%|██████████| 29/29 [00:03<00:00,  7.54it/s, val_loss=0.155]\n"
     ]
    },
    {
     "name": "stdout",
     "output_type": "stream",
     "text": [
      "New best model found: pAUC = 0.134158 (previous best: 0.113226)\n",
      "Epoch 3: Train pAUC: 0.100570 - Val pAUC: 0.134158 | Train Loss: 4.284677 - Val Loss: 9.791655\n",
      "\n"
     ]
    },
    {
     "name": "stderr",
     "output_type": "stream",
     "text": [
      "Epoch 4: 100%|██████████| 201/201 [02:08<00:00,  1.57it/s, train_loss=0.129]\n",
      "Epoch 4: 100%|██████████| 29/29 [00:03<00:00,  7.57it/s, val_loss=0.165]\n"
     ]
    },
    {
     "name": "stdout",
     "output_type": "stream",
     "text": [
      "Epoch 4: Train pAUC: 0.108284 - Val pAUC: 0.105684 | Train Loss: 4.138972 - Val Loss: 10.397654\n",
      "\n"
     ]
    },
    {
     "name": "stderr",
     "output_type": "stream",
     "text": [
      "Epoch 5: 100%|██████████| 201/201 [02:08<00:00,  1.57it/s, train_loss=0.121]\n",
      "Epoch 5: 100%|██████████| 29/29 [00:03<00:00,  7.65it/s, val_loss=0.175]\n"
     ]
    },
    {
     "name": "stdout",
     "output_type": "stream",
     "text": [
      "Epoch 5: Train pAUC: 0.125157 - Val pAUC: 0.104002 | Train Loss: 3.863293 - Val Loss: 11.023488\n",
      "\n"
     ]
    },
    {
     "name": "stderr",
     "output_type": "stream",
     "text": [
      "Epoch 6: 100%|██████████| 201/201 [02:08<00:00,  1.57it/s, train_loss=0.114]\n",
      "Epoch 6: 100%|██████████| 29/29 [00:03<00:00,  7.62it/s, val_loss=0.156]\n"
     ]
    },
    {
     "name": "stdout",
     "output_type": "stream",
     "text": [
      "Epoch 6: Train pAUC: 0.126792 - Val pAUC: 0.125858 | Train Loss: 3.658453 - Val Loss: 9.814988\n",
      "\n"
     ]
    },
    {
     "name": "stderr",
     "output_type": "stream",
     "text": [
      "Epoch 7: 100%|██████████| 201/201 [02:08<00:00,  1.57it/s, train_loss=0.117]\n",
      "Epoch 7: 100%|██████████| 29/29 [00:04<00:00,  7.15it/s, val_loss=0.161]\n"
     ]
    },
    {
     "name": "stdout",
     "output_type": "stream",
     "text": [
      "Epoch 7: Train pAUC: 0.129254 - Val pAUC: 0.124457 | Train Loss: 3.746044 - Val Loss: 10.119248\n",
      "\n"
     ]
    },
    {
     "name": "stderr",
     "output_type": "stream",
     "text": [
      "Epoch 8: 100%|██████████| 201/201 [02:08<00:00,  1.57it/s, train_loss=0.113]\n",
      "Epoch 8: 100%|██████████| 29/29 [00:03<00:00,  7.57it/s, val_loss=0.159]\n"
     ]
    },
    {
     "name": "stdout",
     "output_type": "stream",
     "text": [
      "Epoch 8: Train pAUC: 0.132105 - Val pAUC: 0.115593 | Train Loss: 3.615819 - Val Loss: 10.037399\n",
      "\n"
     ]
    },
    {
     "name": "stderr",
     "output_type": "stream",
     "text": [
      "Epoch 9: 100%|██████████| 201/201 [02:08<00:00,  1.57it/s, train_loss=0.104]\n",
      "Epoch 9: 100%|██████████| 29/29 [00:03<00:00,  7.60it/s, val_loss=0.173]\n"
     ]
    },
    {
     "name": "stdout",
     "output_type": "stream",
     "text": [
      "Epoch 9: Train pAUC: 0.141563 - Val pAUC: 0.104023 | Train Loss: 3.311615 - Val Loss: 10.891982\n",
      "\n"
     ]
    },
    {
     "name": "stderr",
     "output_type": "stream",
     "text": [
      "Epoch 10: 100%|██████████| 201/201 [02:08<00:00,  1.57it/s, train_loss=0.105]\n",
      "Epoch 10: 100%|██████████| 29/29 [00:03<00:00,  7.56it/s, val_loss=0.166]\n"
     ]
    },
    {
     "name": "stdout",
     "output_type": "stream",
     "text": [
      "Epoch 10: Train pAUC: 0.137437 - Val pAUC: 0.126945 | Train Loss: 3.371127 - Val Loss: 10.462095\n",
      "\n"
     ]
    },
    {
     "name": "stderr",
     "output_type": "stream",
     "text": [
      "Epoch 11: 100%|██████████| 201/201 [02:08<00:00,  1.57it/s, train_loss=0.1]\n",
      "Epoch 11: 100%|██████████| 29/29 [00:03<00:00,  7.54it/s, val_loss=0.166]\n"
     ]
    },
    {
     "name": "stdout",
     "output_type": "stream",
     "text": [
      "Epoch 11: Train pAUC: 0.151354 - Val pAUC: 0.132279 | Train Loss: 3.202218 - Val Loss: 10.476165\n",
      "\n"
     ]
    },
    {
     "name": "stderr",
     "output_type": "stream",
     "text": [
      "Epoch 12: 100%|██████████| 201/201 [02:08<00:00,  1.57it/s, train_loss=0.0999]\n",
      "Epoch 12: 100%|██████████| 29/29 [00:03<00:00,  7.55it/s, val_loss=0.141]\n"
     ]
    },
    {
     "name": "stdout",
     "output_type": "stream",
     "text": [
      "New best model found: pAUC = 0.138963 (previous best: 0.134158)\n",
      "Epoch 12: Train pAUC: 0.156169 - Val pAUC: 0.138963 | Train Loss: 3.195009 - Val Loss: 8.899617\n",
      "\n"
     ]
    },
    {
     "name": "stderr",
     "output_type": "stream",
     "text": [
      "Epoch 13: 100%|██████████| 201/201 [02:08<00:00,  1.57it/s, train_loss=0.0967]\n",
      "Epoch 13: 100%|██████████| 29/29 [00:03<00:00,  7.57it/s, val_loss=0.157]\n"
     ]
    },
    {
     "name": "stdout",
     "output_type": "stream",
     "text": [
      "Epoch 13: Train pAUC: 0.158419 - Val pAUC: 0.132710 | Train Loss: 3.092482 - Val Loss: 9.895221\n",
      "\n"
     ]
    },
    {
     "name": "stderr",
     "output_type": "stream",
     "text": [
      "Epoch 14: 100%|██████████| 201/201 [02:08<00:00,  1.57it/s, train_loss=0.0932]\n",
      "Epoch 14: 100%|██████████| 29/29 [00:03<00:00,  7.28it/s, val_loss=0.166]\n"
     ]
    },
    {
     "name": "stdout",
     "output_type": "stream",
     "text": [
      "Epoch 14: Train pAUC: 0.165273 - Val pAUC: 0.134290 | Train Loss: 2.980290 - Val Loss: 10.474453\n",
      "\n"
     ]
    },
    {
     "name": "stderr",
     "output_type": "stream",
     "text": [
      "Epoch 15: 100%|██████████| 201/201 [02:08<00:00,  1.57it/s, train_loss=0.0863]\n",
      "Epoch 15: 100%|██████████| 29/29 [00:03<00:00,  7.62it/s, val_loss=0.189]\n"
     ]
    },
    {
     "name": "stdout",
     "output_type": "stream",
     "text": [
      "Epoch 15: Train pAUC: 0.165471 - Val pAUC: 0.099589 | Train Loss: 2.757673 - Val Loss: 11.919600\n",
      "\n"
     ]
    },
    {
     "name": "stderr",
     "output_type": "stream",
     "text": [
      "Epoch 16: 100%|██████████| 201/201 [02:08<00:00,  1.57it/s, train_loss=0.0892]\n",
      "Epoch 16: 100%|██████████| 29/29 [00:03<00:00,  7.54it/s, val_loss=0.168]\n"
     ]
    },
    {
     "name": "stdout",
     "output_type": "stream",
     "text": [
      "Epoch 16: Train pAUC: 0.159763 - Val pAUC: 0.127347 | Train Loss: 2.851651 - Val Loss: 10.612486\n",
      "\n"
     ]
    },
    {
     "name": "stderr",
     "output_type": "stream",
     "text": [
      "Epoch 17: 100%|██████████| 201/201 [02:08<00:00,  1.57it/s, train_loss=0.0831]\n",
      "Epoch 17: 100%|██████████| 29/29 [00:03<00:00,  7.49it/s, val_loss=0.18]\n"
     ]
    },
    {
     "name": "stdout",
     "output_type": "stream",
     "text": [
      "Epoch 17: Train pAUC: 0.168205 - Val pAUC: 0.135641 | Train Loss: 2.656485 - Val Loss: 11.336484\n",
      "\n"
     ]
    },
    {
     "name": "stderr",
     "output_type": "stream",
     "text": [
      "Epoch 18: 100%|██████████| 201/201 [02:08<00:00,  1.57it/s, train_loss=0.0778]\n",
      "Epoch 18: 100%|██████████| 29/29 [00:03<00:00,  7.58it/s, val_loss=0.188]\n"
     ]
    },
    {
     "name": "stdout",
     "output_type": "stream",
     "text": [
      "Epoch 18: Train pAUC: 0.169759 - Val pAUC: 0.107014 | Train Loss: 2.487437 - Val Loss: 11.862283\n",
      "\n"
     ]
    },
    {
     "name": "stderr",
     "output_type": "stream",
     "text": [
      "Epoch 19: 100%|██████████| 201/201 [02:08<00:00,  1.57it/s, train_loss=0.0769]\n",
      "Epoch 19: 100%|██████████| 29/29 [00:03<00:00,  7.47it/s, val_loss=0.181]\n"
     ]
    },
    {
     "name": "stdout",
     "output_type": "stream",
     "text": [
      "Epoch 19: Train pAUC: 0.172326 - Val pAUC: 0.118641 | Train Loss: 2.460063 - Val Loss: 11.430367\n",
      "\n"
     ]
    },
    {
     "name": "stderr",
     "output_type": "stream",
     "text": [
      "Epoch 20: 100%|██████████| 201/201 [02:08<00:00,  1.57it/s, train_loss=0.076]\n",
      "Epoch 20: 100%|██████████| 29/29 [00:04<00:00,  7.17it/s, val_loss=0.171]\n"
     ]
    },
    {
     "name": "stdout",
     "output_type": "stream",
     "text": [
      "Epoch 20: Train pAUC: 0.171884 - Val pAUC: 0.124345 | Train Loss: 2.429661 - Val Loss: 10.744875\n",
      "\n"
     ]
    },
    {
     "name": "stderr",
     "output_type": "stream",
     "text": [
      "Epoch 21: 100%|██████████| 201/201 [02:08<00:00,  1.57it/s, train_loss=0.08]\n",
      "Epoch 21: 100%|██████████| 29/29 [00:03<00:00,  7.53it/s, val_loss=0.173]\n"
     ]
    },
    {
     "name": "stdout",
     "output_type": "stream",
     "text": [
      "Epoch 21: Train pAUC: 0.167544 - Val pAUC: 0.117569 | Train Loss: 2.557975 - Val Loss: 10.925737\n",
      "\n"
     ]
    },
    {
     "name": "stderr",
     "output_type": "stream",
     "text": [
      "Epoch 22: 100%|██████████| 201/201 [02:08<00:00,  1.57it/s, train_loss=0.0772]\n",
      "Epoch 22: 100%|██████████| 29/29 [00:03<00:00,  7.61it/s, val_loss=0.205]\n"
     ]
    },
    {
     "name": "stdout",
     "output_type": "stream",
     "text": [
      "Epoch 22: Train pAUC: 0.177380 - Val pAUC: 0.108792 | Train Loss: 2.468104 - Val Loss: 12.904797\n",
      "\n"
     ]
    },
    {
     "name": "stderr",
     "output_type": "stream",
     "text": [
      "Epoch 23: 100%|██████████| 201/201 [02:08<00:00,  1.57it/s, train_loss=0.0703]\n",
      "Epoch 23: 100%|██████████| 29/29 [00:03<00:00,  7.54it/s, val_loss=0.164]\n"
     ]
    },
    {
     "name": "stdout",
     "output_type": "stream",
     "text": [
      "Epoch 23: Train pAUC: 0.181113 - Val pAUC: 0.124578 | Train Loss: 2.247747 - Val Loss: 10.307964\n",
      "\n"
     ]
    },
    {
     "name": "stderr",
     "output_type": "stream",
     "text": [
      "Epoch 24: 100%|██████████| 201/201 [02:08<00:00,  1.57it/s, train_loss=0.0684]\n",
      "Epoch 24: 100%|██████████| 29/29 [00:03<00:00,  7.43it/s, val_loss=0.182]\n"
     ]
    },
    {
     "name": "stdout",
     "output_type": "stream",
     "text": [
      "Epoch 24: Train pAUC: 0.181126 - Val pAUC: 0.105140 | Train Loss: 2.187804 - Val Loss: 11.478868\n",
      "\n"
     ]
    },
    {
     "name": "stderr",
     "output_type": "stream",
     "text": [
      "Epoch 25: 100%|██████████| 201/201 [02:08<00:00,  1.57it/s, train_loss=0.0681]\n",
      "Epoch 25: 100%|██████████| 29/29 [00:03<00:00,  7.35it/s, val_loss=0.205]\n"
     ]
    },
    {
     "name": "stdout",
     "output_type": "stream",
     "text": [
      "Epoch 25: Train pAUC: 0.176666 - Val pAUC: 0.119931 | Train Loss: 2.177300 - Val Loss: 12.911250\n",
      "\n"
     ]
    },
    {
     "name": "stderr",
     "output_type": "stream",
     "text": [
      "Epoch 26: 100%|██████████| 201/201 [02:08<00:00,  1.57it/s, train_loss=0.0624]\n",
      "Epoch 26: 100%|██████████| 29/29 [00:04<00:00,  7.25it/s, val_loss=0.216]\n"
     ]
    },
    {
     "name": "stdout",
     "output_type": "stream",
     "text": [
      "Epoch 26: Train pAUC: 0.182453 - Val pAUC: 0.105145 | Train Loss: 1.995521 - Val Loss: 13.633960\n",
      "\n"
     ]
    },
    {
     "name": "stderr",
     "output_type": "stream",
     "text": [
      "Epoch 27: 100%|██████████| 201/201 [02:08<00:00,  1.57it/s, train_loss=0.0605]\n",
      "Epoch 27: 100%|██████████| 29/29 [00:03<00:00,  7.55it/s, val_loss=0.192]\n"
     ]
    },
    {
     "name": "stdout",
     "output_type": "stream",
     "text": [
      "Early stopping triggered at epoch 27. Best pAUC = 0.138963\n",
      "Epoch 27: Train pAUC: 0.181813 - Val pAUC: 0.114369 | Train Loss: 1.933181 - Val Loss: 12.112109\n",
      "\n"
     ]
    },
    {
     "name": "stderr",
     "output_type": "stream",
     "text": [
      "Prediction: 100%|██████████| 1389/1389 [02:41<00:00,  8.62it/s]\n"
     ]
    },
    {
     "name": "stdout",
     "output_type": "stream",
     "text": [
      "---------------------------------- Fold 5 ----------------------------------\n",
      "\n",
      "\n"
     ]
    }
   ],
   "source": [
    "histories = {}\n",
    "oof_pred_probs_df = []\n",
    "\n",
    "for fold_idx in range(CFG.n_folds):\n",
    "    print(f'---------------------------------- Fold {fold_idx + 1} ----------------------------------')\n",
    "\n",
    "    _train = train_metadata[train_metadata['fold'] != fold_idx]\n",
    "    train_dataset = ISICDataset(CFG.train_img_path, _train, transforms['train'])\n",
    "    train_dataloader = DataLoader(train_dataset, batch_size=CFG.train_batch_size, shuffle=True,  num_workers=4)\n",
    "\n",
    "    _val = train_metadata[train_metadata['fold'] == fold_idx]\n",
    "    val_dataset = ISICDataset(CFG.train_img_path, _val, transforms['val'])\n",
    "    val_dataloader = DataLoader(val_dataset, batch_size=CFG.val_batch_size, shuffle=False, num_workers=4)\n",
    "\n",
    "    _val2 = train_metadata2[train_metadata2['fold'] == fold_idx]\n",
    "    val_dataset2 = ISICDataset(CFG.train_img_path, _val2, transforms['val'])\n",
    "    val_dataloader2 = DataLoader(val_dataset2, batch_size=CFG.val_batch_size, shuffle=False, num_workers=4)\n",
    "\n",
    "    model = ResNet(CFG.model_name).to(CFG.device)\n",
    "    criterion = nn.BCELoss()\n",
    "    optimizer = optim.Adam(model.parameters(), lr=CFG.learning_rate, weight_decay=CFG.weight_decay)\n",
    "    t_max = len(train_dataloader) * CFG.max_epochs\n",
    "    scheduler = optim.lr_scheduler.CosineAnnealingLR(optimizer, T_max=CFG.t_max, eta_min=CFG.min_lr)\n",
    "\n",
    "    trainer = Trainer(\n",
    "        device=CFG.device,\n",
    "        model=model,\n",
    "        criterion=criterion,\n",
    "        optimizer=optimizer,\n",
    "        scheduler=scheduler,\n",
    "        train_dataloader=train_dataloader,\n",
    "        val_dataloader=val_dataloader,\n",
    "        checkpoint_path=CFG.checkpoint_path,\n",
    "        fold_idx=fold_idx,\n",
    "        es_patience=CFG.es_patience\n",
    "    )\n",
    "\n",
    "    history = {\n",
    "        'epoch': [],\n",
    "        'train_pauc': [],\n",
    "        'train_loss': [],\n",
    "        'val_pauc': [],\n",
    "        'val_loss': []\n",
    "    }\n",
    "    for epoch in range(1, CFG.max_epochs + 1):\n",
    "        train_pauc, train_loss = trainer.train(current_epoch_nr=epoch)\n",
    "        val_pauc, val_loss, es_triggered = trainer.evaluate(current_epoch_nr=epoch)\n",
    "\n",
    "        print(f\"Epoch {epoch}: Train pAUC: {train_pauc:.6f} - Val pAUC: {val_pauc:.6f} | Train Loss: {train_loss:.6f} - Val Loss: {val_loss:.6f}\\n\")\n",
    "\n",
    "        history['epoch'].append(epoch)\n",
    "        history['train_pauc'].append(train_pauc)\n",
    "        history['train_loss'].append(train_loss)\n",
    "        history['val_pauc'].append(val_pauc)\n",
    "        history['val_loss'].append(val_loss)\n",
    "\n",
    "        if es_triggered:\n",
    "            break\n",
    "\n",
    "    histories[f'Fold {fold_idx + 1}'] = history\n",
    "\n",
    "    pred_probs = trainer.predict(val_dataloader2)\n",
    "    _val2[CFG.model_name] = pred_probs\n",
    "    oof_pred_probs_df.append(_val2)\n",
    "\n",
    "    del _train, _val, train_dataset, val_dataset, model, criterion, optimizer, scheduler, trainer\n",
    "    gc.collect()\n",
    "    torch.cuda.empty_cache()\n",
    "\n",
    "    print(f'---------------------------------- Fold {fold_idx + 1} ----------------------------------\\n\\n')"
   ]
  },
  {
   "cell_type": "code",
   "execution_count": 13,
   "id": "7c93375c",
   "metadata": {
    "execution": {
     "iopub.execute_input": "2024-08-23T17:59:00.104221Z",
     "iopub.status.busy": "2024-08-23T17:59:00.103820Z",
     "iopub.status.idle": "2024-08-23T17:59:01.765203Z",
     "shell.execute_reply": "2024-08-23T17:59:01.764211Z"
    },
    "id": "jNqTO4uvCZwF",
    "papermill": {
     "duration": 13.24382,
     "end_time": "2024-08-23T17:59:01.767303",
     "exception": false,
     "start_time": "2024-08-23T17:58:48.523483",
     "status": "completed"
    },
    "tags": []
   },
   "outputs": [
    {
     "data": {
      "text/html": [
       "<div>\n",
       "<style scoped>\n",
       "    .dataframe tbody tr th:only-of-type {\n",
       "        vertical-align: middle;\n",
       "    }\n",
       "\n",
       "    .dataframe tbody tr th {\n",
       "        vertical-align: top;\n",
       "    }\n",
       "\n",
       "    .dataframe thead th {\n",
       "        text-align: right;\n",
       "    }\n",
       "</style>\n",
       "<table border=\"1\" class=\"dataframe\">\n",
       "  <thead>\n",
       "    <tr style=\"text-align: right;\">\n",
       "      <th></th>\n",
       "      <th>isic_id</th>\n",
       "      <th>fold</th>\n",
       "      <th>target</th>\n",
       "      <th>resnet50</th>\n",
       "    </tr>\n",
       "  </thead>\n",
       "  <tbody>\n",
       "    <tr>\n",
       "      <th>10</th>\n",
       "      <td>ISIC_0051812</td>\n",
       "      <td>0.0</td>\n",
       "      <td>0</td>\n",
       "      <td>0.000460</td>\n",
       "    </tr>\n",
       "    <tr>\n",
       "      <th>18</th>\n",
       "      <td>ISIC_0052026</td>\n",
       "      <td>0.0</td>\n",
       "      <td>0</td>\n",
       "      <td>0.022244</td>\n",
       "    </tr>\n",
       "    <tr>\n",
       "      <th>30</th>\n",
       "      <td>ISIC_0052259</td>\n",
       "      <td>0.0</td>\n",
       "      <td>0</td>\n",
       "      <td>0.000677</td>\n",
       "    </tr>\n",
       "    <tr>\n",
       "      <th>32</th>\n",
       "      <td>ISIC_0052310</td>\n",
       "      <td>0.0</td>\n",
       "      <td>0</td>\n",
       "      <td>0.000370</td>\n",
       "    </tr>\n",
       "    <tr>\n",
       "      <th>33</th>\n",
       "      <td>ISIC_0052313</td>\n",
       "      <td>0.0</td>\n",
       "      <td>0</td>\n",
       "      <td>0.004150</td>\n",
       "    </tr>\n",
       "  </tbody>\n",
       "</table>\n",
       "</div>"
      ],
      "text/plain": [
       "         isic_id  fold  target  resnet50\n",
       "10  ISIC_0051812   0.0       0  0.000460\n",
       "18  ISIC_0052026   0.0       0  0.022244\n",
       "30  ISIC_0052259   0.0       0  0.000677\n",
       "32  ISIC_0052310   0.0       0  0.000370\n",
       "33  ISIC_0052313   0.0       0  0.004150"
      ]
     },
     "execution_count": 13,
     "metadata": {},
     "output_type": "execute_result"
    }
   ],
   "source": [
    "oof_pred_probs_df = pd.concat(oof_pred_probs_df)[['isic_id', 'fold', 'target', CFG.model_name]]\n",
    "oof_pred_probs_df.to_csv(f'{CFG.model_name}_oof_preds.csv', index=False)\n",
    "oof_pred_probs_df.head()"
   ]
  },
  {
   "cell_type": "markdown",
   "id": "211213e2",
   "metadata": {
    "papermill": {
     "duration": 11.75228,
     "end_time": "2024-08-23T17:59:25.339542",
     "exception": false,
     "start_time": "2024-08-23T17:59:13.587262",
     "status": "completed"
    },
    "tags": []
   },
   "source": [
    "# Results"
   ]
  },
  {
   "cell_type": "code",
   "execution_count": 14,
   "id": "e4e1e069",
   "metadata": {
    "execution": {
     "iopub.execute_input": "2024-08-23T17:59:48.707597Z",
     "iopub.status.busy": "2024-08-23T17:59:48.707239Z",
     "iopub.status.idle": "2024-08-23T17:59:48.717704Z",
     "shell.execute_reply": "2024-08-23T17:59:48.716838Z"
    },
    "id": "Qkcd2V7W-_GW",
    "papermill": {
     "duration": 11.677716,
     "end_time": "2024-08-23T17:59:48.719552",
     "exception": false,
     "start_time": "2024-08-23T17:59:37.041836",
     "status": "completed"
    },
    "tags": []
   },
   "outputs": [],
   "source": [
    "histories = pd.concat([pd.DataFrame(data).assign(Fold=fold) for fold, data in histories.items()])"
   ]
  },
  {
   "cell_type": "code",
   "execution_count": 15,
   "id": "2427fda3",
   "metadata": {
    "execution": {
     "iopub.execute_input": "2024-08-23T18:00:12.247664Z",
     "iopub.status.busy": "2024-08-23T18:00:12.246705Z",
     "iopub.status.idle": "2024-08-23T18:00:13.202368Z",
     "shell.execute_reply": "2024-08-23T18:00:13.201536Z"
    },
    "id": "lATwCeDXdsHG",
    "papermill": {
     "duration": 12.744846,
     "end_time": "2024-08-23T18:00:13.206077",
     "exception": false,
     "start_time": "2024-08-23T18:00:00.461231",
     "status": "completed"
    },
    "tags": []
   },
   "outputs": [
    {
     "data": {
      "image/png": "[encoded data removed]",
      "text/plain": [
       "<Figure size 1600x600 with 2 Axes>"
      ]
     },
     "metadata": {},
     "output_type": "display_data"
    }
   ],
   "source": [
    "sns.set(style=\"whitegrid\")\n",
    "\n",
    "fig, axes = plt.subplots(1, 2, figsize=(16, 6))\n",
    "\n",
    "sns.lineplot(x='epoch', y='train_pauc', hue='Fold', data=histories, ax=axes[0])\n",
    "axes[0].set_title('Training pAUC')\n",
    "axes[0].set_xlabel('Epoch')\n",
    "axes[0].set_ylabel('pAUC')\n",
    "axes[0].legend(loc='best')\n",
    "\n",
    "sns.lineplot(x='epoch', y='val_pauc', hue='Fold', data=histories, ax=axes[1])\n",
    "axes[1].set_title('Validation pAUC')\n",
    "axes[1].set_xlabel('Epoch')\n",
    "axes[1].set_ylabel('pAUC')\n",
    "axes[1].legend(loc='best')\n",
    "\n",
    "fig.tight_layout()\n",
    "plt.show()"
   ]
  },
  {
   "cell_type": "code",
   "execution_count": 16,
   "id": "ea4de072",
   "metadata": {
    "execution": {
     "iopub.execute_input": "2024-08-23T18:00:36.635235Z",
     "iopub.status.busy": "2024-08-23T18:00:36.634873Z",
     "iopub.status.idle": "2024-08-23T18:00:37.434700Z",
     "shell.execute_reply": "2024-08-23T18:00:37.433781Z"
    },
    "id": "iCSgE4wX7NtK",
    "papermill": {
     "duration": 12.317323,
     "end_time": "2024-08-23T18:00:37.438189",
     "exception": false,
     "start_time": "2024-08-23T18:00:25.120866",
     "status": "completed"
    },
    "tags": []
   },
   "outputs": [
    {
     "data": {
      "image/png": "[encoded data removed]",
      "text/plain": [
       "<Figure size 1600x600 with 2 Axes>"
      ]
     },
     "metadata": {},
     "output_type": "display_data"
    }
   ],
   "source": [
    "fig, axes = plt.subplots(1, 2, figsize=(16, 6))\n",
    "\n",
    "sns.lineplot(x='epoch', y='train_loss', hue='Fold', data=histories, ax=axes[0])\n",
    "axes[0].set_title('Training Loss')\n",
    "axes[0].set_xlabel('Epoch')\n",
    "axes[0].set_ylabel('Loss')\n",
    "axes[0].legend(loc='best')\n",
    "\n",
    "sns.lineplot(x='epoch', y='val_loss', hue='Fold', data=histories, ax=axes[1])\n",
    "axes[1].set_title('Validation Loss')\n",
    "axes[1].set_xlabel('Epoch')\n",
    "axes[1].set_ylabel('Loss')\n",
    "axes[1].legend(loc='best')\n",
    "\n",
    "fig.tight_layout()\n",
    "plt.show()"
   ]
  }
 ],
 "metadata": {
  "accelerator": "GPU",
  "colab": {
   "gpuType": "L4",
   "provenance": []
  },
  "kaggle": {
   "accelerator": "gpu",
   "dataSources": [
    {
     "databundleVersionId": 9094797,
     "sourceId": 63056,
     "sourceType": "competition"
    }
   ],
   "dockerImageVersionId": 30747,
   "isGpuEnabled": true,
   "isInternetEnabled": true,
   "language": "python",
   "sourceType": "notebook"
  },
  "kernelspec": {
   "display_name": "Python 3",
   "language": "python",
   "name": "python3"
  },
  "language_info": {
   "codemirror_mode": {
    "name": "ipython",
    "version": 3
   },
   "file_extension": ".py",
   "mimetype": "text/x-python",
   "name": "python",
   "nbconvert_exporter": "python",
   "pygments_lexer": "ipython3",
   "version": "3.10.13"
  },
  "papermill": {
   "default_parameters": {},
   "duration": 26076.436035,
   "end_time": "2024-08-23T18:00:51.743009",
   "environment_variables": {},
   "exception": null,
   "input_path": "__notebook__.ipynb",
   "output_path": "__notebook__.ipynb",
   "parameters": {},
   "start_time": "2024-08-23T10:46:15.306974",
   "version": "2.5.0"
  },
  "widgets": {
   "application/vnd.jupyter.widget-state+json": {
    "state": {
     "0702879701b34132afbc6e23f066ab6d": {
      "model_module": "@jupyter-widgets/controls",
      "model_module_version": "1.5.0",
      "model_name": "HTMLModel",
      "state": {
       "_dom_classes": [],
       "_model_module": "@jupyter-widgets/controls",
       "_model_module_version": "1.5.0",
       "_model_name": "HTMLModel",
       "_view_count": null,
       "_view_module": "@jupyter-widgets/controls",
       "_view_module_version": "1.5.0",
       "_view_name": "HTMLView",
       "description": "",
       "description_tooltip": null,
       "layout": "IPY_MODEL_477af9ed28aa44fb99ee2611a3802eea",
       "placeholder": "​",
       "style": "IPY_MODEL_3cb9b3f7b1e8418b9eb4fa832c9ed46c",
       "value": " 102M/102M [00:00&lt;00:00, 181MB/s]"
      }
     },
     "3bb3ea2137264f6e8de526c58fb2bfe6": {
      "model_module": "@jupyter-widgets/base",
      "model_module_version": "1.2.0",
      "model_name": "LayoutModel",
      "state": {
       "_model_module": "@jupyter-widgets/base",
       "_model_module_version": "1.2.0",
       "_model_name": "LayoutModel",
       "_view_count": null,
       "_view_module": "@jupyter-widgets/base",
       "_view_module_version": "1.2.0",
       "_view_name": "LayoutView",
       "align_content": null,
       "align_items": null,
       "align_self": null,
       "border": null,
       "bottom": null,
       "display": null,
       "flex": null,
       "flex_flow": null,
       "grid_area": null,
       "grid_auto_columns": null,
       "grid_auto_flow": null,
       "grid_auto_rows": null,
       "grid_column": null,
       "grid_gap": null,
       "grid_row": null,
       "grid_template_areas": null,
       "grid_template_columns": null,
       "grid_template_rows": null,
       "height": null,
       "justify_content": null,
       "justify_items": null,
       "left": null,
       "margin": null,
       "max_height": null,
       "max_width": null,
       "min_height": null,
       "min_width": null,
       "object_fit": null,
       "object_position": null,
       "order": null,
       "overflow": null,
       "overflow_x": null,
       "overflow_y": null,
       "padding": null,
       "right": null,
       "top": null,
       "visibility": null,
       "width": null
      }
     },
     "3cb9b3f7b1e8418b9eb4fa832c9ed46c": {
      "model_module": "@jupyter-widgets/controls",
      "model_module_version": "1.5.0",
      "model_name": "DescriptionStyleModel",
      "state": {
       "_model_module": "@jupyter-widgets/controls",
       "_model_module_version": "1.5.0",
       "_model_name": "DescriptionStyleModel",
       "_view_count": null,
       "_view_module": "@jupyter-widgets/base",
       "_view_module_version": "1.2.0",
       "_view_name": "StyleView",
       "description_width": ""
      }
     },
     "43772e5f8d324b748928374a37f10601": {
      "model_module": "@jupyter-widgets/controls",
      "model_module_version": "1.5.0",
      "model_name": "FloatProgressModel",
      "state": {
       "_dom_classes": [],
       "_model_module": "@jupyter-widgets/controls",
       "_model_module_version": "1.5.0",
       "_model_name": "FloatProgressModel",
       "_view_count": null,
       "_view_module": "@jupyter-widgets/controls",
       "_view_module_version": "1.5.0",
       "_view_name": "ProgressView",
       "bar_style": "success",
       "description": "",
       "description_tooltip": null,
       "layout": "IPY_MODEL_c2e81da28045409684e06c63c516050e",
       "max": 102469840.0,
       "min": 0.0,
       "orientation": "horizontal",
       "style": "IPY_MODEL_df2d0f33e4684a23a012c118fb9b665b",
       "value": 102469840.0
      }
     },
     "477af9ed28aa44fb99ee2611a3802eea": {
      "model_module": "@jupyter-widgets/base",
      "model_module_version": "1.2.0",
      "model_name": "LayoutModel",
      "state": {
       "_model_module": "@jupyter-widgets/base",
       "_model_module_version": "1.2.0",
       "_model_name": "LayoutModel",
       "_view_count": null,
       "_view_module": "@jupyter-widgets/base",
       "_view_module_version": "1.2.0",
       "_view_name": "LayoutView",
       "align_content": null,
       "align_items": null,
       "align_self": null,
       "border": null,
       "bottom": null,
       "display": null,
       "flex": null,
       "flex_flow": null,
       "grid_area": null,
       "grid_auto_columns": null,
       "grid_auto_flow": null,
       "grid_auto_rows": null,
       "grid_column": null,
       "grid_gap": null,
       "grid_row": null,
       "grid_template_areas": null,
       "grid_template_columns": null,
       "grid_template_rows": null,
       "height": null,
       "justify_content": null,
       "justify_items": null,
       "left": null,
       "margin": null,
       "max_height": null,
       "max_width": null,
       "min_height": null,
       "min_width": null,
       "object_fit": null,
       "object_position": null,
       "order": null,
       "overflow": null,
       "overflow_x": null,
       "overflow_y": null,
       "padding": null,
       "right": null,
       "top": null,
       "visibility": null,
       "width": null
      }
     },
     "756edd57788c4597946a51b79f2c835d": {
      "model_module": "@jupyter-widgets/controls",
      "model_module_version": "1.5.0",
      "model_name": "HBoxModel",
      "state": {
       "_dom_classes": [],
       "_model_module": "@jupyter-widgets/controls",
       "_model_module_version": "1.5.0",
       "_model_name": "HBoxModel",
       "_view_count": null,
       "_view_module": "@jupyter-widgets/controls",
       "_view_module_version": "1.5.0",
       "_view_name": "HBoxView",
       "box_style": "",
       "children": [
        "IPY_MODEL_9eeb61fd0b9a401ba94d13b9638a58ab",
        "IPY_MODEL_43772e5f8d324b748928374a37f10601",
        "IPY_MODEL_0702879701b34132afbc6e23f066ab6d"
       ],
       "layout": "IPY_MODEL_b4ffbc3cfb2c444db63b60d803ef8efa"
      }
     },
     "77731455af9b4fc588a78bdaddb2c561": {
      "model_module": "@jupyter-widgets/controls",
      "model_module_version": "1.5.0",
      "model_name": "DescriptionStyleModel",
      "state": {
       "_model_module": "@jupyter-widgets/controls",
       "_model_module_version": "1.5.0",
       "_model_name": "DescriptionStyleModel",
       "_view_count": null,
       "_view_module": "@jupyter-widgets/base",
       "_view_module_version": "1.2.0",
       "_view_name": "StyleView",
       "description_width": ""
      }
     },
     "9eeb61fd0b9a401ba94d13b9638a58ab": {
      "model_module": "@jupyter-widgets/controls",
      "model_module_version": "1.5.0",
      "model_name": "HTMLModel",
      "state": {
       "_dom_classes": [],
       "_model_module": "@jupyter-widgets/controls",
       "_model_module_version": "1.5.0",
       "_model_name": "HTMLModel",
       "_view_count": null,
       "_view_module": "@jupyter-widgets/controls",
       "_view_module_version": "1.5.0",
       "_view_name": "HTMLView",
       "description": "",
       "description_tooltip": null,
       "layout": "IPY_MODEL_3bb3ea2137264f6e8de526c58fb2bfe6",
       "placeholder": "​",
       "style": "IPY_MODEL_77731455af9b4fc588a78bdaddb2c561",
       "value": "model.safetensors: 100%"
      }
     },
     "b4ffbc3cfb2c444db63b60d803ef8efa": {
      "model_module": "@jupyter-widgets/base",
      "model_module_version": "1.2.0",
      "model_name": "LayoutModel",
      "state": {
       "_model_module": "@jupyter-widgets/base",
       "_model_module_version": "1.2.0",
       "_model_name": "LayoutModel",
       "_view_count": null,
       "_view_module": "@jupyter-widgets/base",
       "_view_module_version": "1.2.0",
       "_view_name": "LayoutView",
       "align_content": null,
       "align_items": null,
       "align_self": null,
       "border": null,
       "bottom": null,
       "display": null,
       "flex": null,
       "flex_flow": null,
       "grid_area": null,
       "grid_auto_columns": null,
       "grid_auto_flow": null,
       "grid_auto_rows": null,
       "grid_column": null,
       "grid_gap": null,
       "grid_row": null,
       "grid_template_areas": null,
       "grid_template_columns": null,
       "grid_template_rows": null,
       "height": null,
       "justify_content": null,
       "justify_items": null,
       "left": null,
       "margin": null,
       "max_height": null,
       "max_width": null,
       "min_height": null,
       "min_width": null,
       "object_fit": null,
       "object_position": null,
       "order": null,
       "overflow": null,
       "overflow_x": null,
       "overflow_y": null,
       "padding": null,
       "right": null,
       "top": null,
       "visibility": null,
       "width": null
      }
     },
     "c2e81da28045409684e06c63c516050e": {
      "model_module": "@jupyter-widgets/base",
      "model_module_version": "1.2.0",
      "model_name": "LayoutModel",
      "state": {
       "_model_module": "@jupyter-widgets/base",
       "_model_module_version": "1.2.0",
       "_model_name": "LayoutModel",
       "_view_count": null,
       "_view_module": "@jupyter-widgets/base",
       "_view_module_version": "1.2.0",
       "_view_name": "LayoutView",
       "align_content": null,
       "align_items": null,
       "align_self": null,
       "border": null,
       "bottom": null,
       "display": null,
       "flex": null,
       "flex_flow": null,
       "grid_area": null,
       "grid_auto_columns": null,
       "grid_auto_flow": null,
       "grid_auto_rows": null,
       "grid_column": null,
       "grid_gap": null,
       "grid_row": null,
       "grid_template_areas": null,
       "grid_template_columns": null,
       "grid_template_rows": null,
       "height": null,
       "justify_content": null,
       "justify_items": null,
       "left": null,
       "margin": null,
       "max_height": null,
       "max_width": null,
       "min_height": null,
       "min_width": null,
       "object_fit": null,
       "object_position": null,
       "order": null,
       "overflow": null,
       "overflow_x": null,
       "overflow_y": null,
       "padding": null,
       "right": null,
       "top": null,
       "visibility": null,
       "width": null
      }
     },
     "df2d0f33e4684a23a012c118fb9b665b": {
      "model_module": "@jupyter-widgets/controls",
      "model_module_version": "1.5.0",
      "model_name": "ProgressStyleModel",
      "state": {
       "_model_module": "@jupyter-widgets/controls",
       "_model_module_version": "1.5.0",
       "_model_name": "ProgressStyleModel",
       "_view_count": null,
       "_view_module": "@jupyter-widgets/base",
       "_view_module_version": "1.2.0",
       "_view_name": "StyleView",
       "bar_color": null,
       "description_width": ""
      }
     }
    },
    "version_major": 2,
    "version_minor": 0
   }
  }
 },
 "nbformat": 4,
 "nbformat_minor": 5
}
