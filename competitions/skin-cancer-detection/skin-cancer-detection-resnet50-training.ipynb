{
 "cells": [
  {
   "cell_type": "markdown",
   "id": "38a2142e",
   "metadata": {
    "papermill": {
     "duration": 0.00944,
     "end_time": "2024-08-24T12:53:16.730023",
     "exception": false,
     "start_time": "2024-08-24T12:53:16.720583",
     "status": "completed"
    },
    "tags": []
   },
   "source": [
    "### Inference notebook:\n",
    "- https://www.kaggle.com/code/ravaghi/skin-cancer-detection-resnet50-inference"
   ]
  },
  {
   "cell_type": "markdown",
   "id": "cb48311c",
   "metadata": {
    "id": "1dDypZ7k-v-d",
    "papermill": {
     "duration": 0.00826,
     "end_time": "2024-08-24T12:53:16.745038",
     "exception": false,
     "start_time": "2024-08-24T12:53:16.736778",
     "status": "completed"
    },
    "tags": []
   },
   "source": [
    "# Imports and configs"
   ]
  },
  {
   "cell_type": "code",
   "execution_count": 1,
   "id": "7f466c42",
   "metadata": {
    "execution": {
     "iopub.execute_input": "2024-08-24T12:53:16.762722Z",
     "iopub.status.busy": "2024-08-24T12:53:16.762004Z",
     "iopub.status.idle": "2024-08-24T12:53:26.068961Z",
     "shell.execute_reply": "2024-08-24T12:53:26.067979Z"
    },
    "id": "mqguadtYvxPn",
    "papermill": {
     "duration": 9.31867,
     "end_time": "2024-08-24T12:53:26.071601",
     "exception": false,
     "start_time": "2024-08-24T12:53:16.752931",
     "status": "completed"
    },
    "tags": []
   },
   "outputs": [],
   "source": [
    "from sklearn.model_selection import StratifiedGroupKFold\n",
    "from sklearn.metrics import roc_curve, auc\n",
    "from torch.utils.data import DataLoader, Dataset\n",
    "from albumentations.pytorch import ToTensorV2\n",
    "import matplotlib.pyplot as plt\n",
    "import torch.optim as optim\n",
    "import torch.nn.functional as F\n",
    "import albumentations as A\n",
    "import seaborn as sns\n",
    "from tqdm import tqdm\n",
    "from PIL import Image\n",
    "import torch.nn as nn\n",
    "import pandas as pd\n",
    "import numpy as np\n",
    "import warnings\n",
    "import h5py\n",
    "import torch\n",
    "import random\n",
    "import timm\n",
    "import cv2\n",
    "import io\n",
    "import os\n",
    "import gc\n",
    "\n",
    "warnings.filterwarnings('ignore')"
   ]
  },
  {
   "cell_type": "code",
   "execution_count": 2,
   "id": "8d7c0f09",
   "metadata": {
    "execution": {
     "iopub.execute_input": "2024-08-24T12:53:26.085386Z",
     "iopub.status.busy": "2024-08-24T12:53:26.085032Z",
     "iopub.status.idle": "2024-08-24T12:53:26.149571Z",
     "shell.execute_reply": "2024-08-24T12:53:26.148616Z"
    },
    "id": "xOBgLd7--v-h",
    "papermill": {
     "duration": 0.073865,
     "end_time": "2024-08-24T12:53:26.151685",
     "exception": false,
     "start_time": "2024-08-24T12:53:26.077820",
     "status": "completed"
    },
    "tags": []
   },
   "outputs": [],
   "source": [
    "class CFG:\n",
    "    train_metadata_path = '/kaggle/input/isic-2024-challenge/train-metadata.csv'\n",
    "    test_metadata_path = '/kaggle/input/isic-2024-challenge/test-metadata.csv'\n",
    "    train_img_path = '/kaggle/input/isic-2024-challenge/train-image.hdf5'\n",
    "    test_img_path = '/kaggle/input/isic-2024-challenge/test-image.hdf5'\n",
    "    sample_sub_path = '/kaggle/input/isic-2024-challenge/sample_submission.csv'\n",
    "    checkpoint_path = '/kaggle/working/checkpoints'\n",
    "\n",
    "    device = torch.device('cuda' if torch.cuda.is_available() else 'cpu')\n",
    "    image_size = 224\n",
    "    max_epochs = 100\n",
    "    learning_rate = 5e-4\n",
    "    weight_decay = 1e-6\n",
    "    min_lr = 1e-6\n",
    "    train_batch_size = 32\n",
    "    val_batch_size = 64\n",
    "    n_folds = 5\n",
    "    seed = 35555\n",
    "    model_name = \"resnet50\"\n",
    "    es_patience = 15"
   ]
  },
  {
   "cell_type": "code",
   "execution_count": 3,
   "id": "0764a3f8",
   "metadata": {
    "execution": {
     "iopub.execute_input": "2024-08-24T12:53:26.164935Z",
     "iopub.status.busy": "2024-08-24T12:53:26.164631Z",
     "iopub.status.idle": "2024-08-24T12:53:26.172725Z",
     "shell.execute_reply": "2024-08-24T12:53:26.171801Z"
    },
    "id": "5a6g1bxI-v-i",
    "papermill": {
     "duration": 0.016981,
     "end_time": "2024-08-24T12:53:26.174743",
     "exception": false,
     "start_time": "2024-08-24T12:53:26.157762",
     "status": "completed"
    },
    "tags": []
   },
   "outputs": [],
   "source": [
    "def seed_everything(seed):\n",
    "    random.seed(seed)\n",
    "    os.environ['PYTHONHASHSEED'] = str(seed)\n",
    "    np.random.seed(seed)\n",
    "    torch.manual_seed(seed)\n",
    "    torch.cuda.manual_seed(seed)\n",
    "    torch.backends.cudnn.deterministic = True\n",
    "    torch.backends.cudnn.benchmark = False\n",
    "\n",
    "seed_everything(CFG.seed)"
   ]
  },
  {
   "cell_type": "markdown",
   "id": "c87ebdb8",
   "metadata": {
    "id": "vM_js2t2-v-i",
    "papermill": {
     "duration": 0.005869,
     "end_time": "2024-08-24T12:53:26.186698",
     "exception": false,
     "start_time": "2024-08-24T12:53:26.180829",
     "status": "completed"
    },
    "tags": []
   },
   "source": [
    "# Loading and splitting the datasets"
   ]
  },
  {
   "cell_type": "code",
   "execution_count": 4,
   "id": "79f45237",
   "metadata": {
    "execution": {
     "iopub.execute_input": "2024-08-24T12:53:26.200324Z",
     "iopub.status.busy": "2024-08-24T12:53:26.199617Z",
     "iopub.status.idle": "2024-08-24T12:53:33.179540Z",
     "shell.execute_reply": "2024-08-24T12:53:33.178753Z"
    },
    "id": "X7yXnRQG-v-i",
    "papermill": {
     "duration": 6.989377,
     "end_time": "2024-08-24T12:53:33.181926",
     "exception": false,
     "start_time": "2024-08-24T12:53:26.192549",
     "status": "completed"
    },
    "tags": []
   },
   "outputs": [],
   "source": [
    "train_metadata = pd.read_csv(CFG.train_metadata_path)\n",
    "\n",
    "positives = train_metadata[train_metadata.target == 1]\n",
    "negatives = train_metadata[train_metadata.target == 0]\n",
    "train_metadata = pd.concat([positives, negatives.sample(n=20 * len(positives), random_state=CFG.seed)])\n",
    "train_metadata = train_metadata.sample(frac=1, random_state=CFG.seed).reset_index(drop=True)"
   ]
  },
  {
   "cell_type": "code",
   "execution_count": 5,
   "id": "f6bc25d2",
   "metadata": {
    "execution": {
     "iopub.execute_input": "2024-08-24T12:53:33.195828Z",
     "iopub.status.busy": "2024-08-24T12:53:33.195459Z",
     "iopub.status.idle": "2024-08-24T12:53:33.657748Z",
     "shell.execute_reply": "2024-08-24T12:53:33.656956Z"
    },
    "id": "BhUgevhz-v-i",
    "papermill": {
     "duration": 0.471883,
     "end_time": "2024-08-24T12:53:33.660138",
     "exception": false,
     "start_time": "2024-08-24T12:53:33.188255",
     "status": "completed"
    },
    "tags": []
   },
   "outputs": [],
   "source": [
    "sgkf = StratifiedGroupKFold(n_splits=CFG.n_folds, random_state=CFG.seed, shuffle=True)\n",
    "split = sgkf.split(train_metadata, train_metadata.target, groups=train_metadata.patient_id)\n",
    "for i, (_, val_index) in enumerate(split):\n",
    "    train_metadata.loc[val_index, 'fold'] = i"
   ]
  },
  {
   "cell_type": "code",
   "execution_count": 6,
   "id": "b5294202",
   "metadata": {
    "execution": {
     "iopub.execute_input": "2024-08-24T12:53:33.674151Z",
     "iopub.status.busy": "2024-08-24T12:53:33.673846Z",
     "iopub.status.idle": "2024-08-24T12:53:40.647449Z",
     "shell.execute_reply": "2024-08-24T12:53:40.646452Z"
    },
    "id": "IF-0HJKr5Ub-",
    "papermill": {
     "duration": 6.983136,
     "end_time": "2024-08-24T12:53:40.649822",
     "exception": false,
     "start_time": "2024-08-24T12:53:33.666686",
     "status": "completed"
    },
    "tags": []
   },
   "outputs": [],
   "source": [
    "train_metadata2 = pd.read_csv(CFG.train_metadata_path)\n",
    "\n",
    "sgkf = StratifiedGroupKFold(n_splits=CFG.n_folds, random_state=CFG.seed, shuffle=True)\n",
    "split = sgkf.split(train_metadata2, train_metadata2.target, groups=train_metadata2.patient_id)\n",
    "for i, (_, val_index) in enumerate(split):\n",
    "    train_metadata2.loc[val_index, 'fold'] = i"
   ]
  },
  {
   "cell_type": "code",
   "execution_count": 7,
   "id": "507e2430",
   "metadata": {
    "execution": {
     "iopub.execute_input": "2024-08-24T12:53:40.664207Z",
     "iopub.status.busy": "2024-08-24T12:53:40.663419Z",
     "iopub.status.idle": "2024-08-24T12:53:40.668288Z",
     "shell.execute_reply": "2024-08-24T12:53:40.667405Z"
    },
    "papermill": {
     "duration": 0.013966,
     "end_time": "2024-08-24T12:53:40.670226",
     "exception": false,
     "start_time": "2024-08-24T12:53:40.656260",
     "status": "completed"
    },
    "tags": []
   },
   "outputs": [],
   "source": [
    "CFG.t_max = train_metadata.shape[0] * (CFG.n_folds-1) * CFG.max_epochs // CFG.train_batch_size // CFG.n_folds"
   ]
  },
  {
   "cell_type": "markdown",
   "id": "a847a1db",
   "metadata": {
    "id": "D6JNsMWX-v-i",
    "papermill": {
     "duration": 0.00588,
     "end_time": "2024-08-24T12:53:40.682481",
     "exception": false,
     "start_time": "2024-08-24T12:53:40.676601",
     "status": "completed"
    },
    "tags": []
   },
   "source": [
    "# Creating a custom image dataset"
   ]
  },
  {
   "cell_type": "code",
   "execution_count": 8,
   "id": "415bc617",
   "metadata": {
    "execution": {
     "iopub.execute_input": "2024-08-24T12:53:40.697147Z",
     "iopub.status.busy": "2024-08-24T12:53:40.696520Z",
     "iopub.status.idle": "2024-08-24T12:53:40.704450Z",
     "shell.execute_reply": "2024-08-24T12:53:40.703593Z"
    },
    "id": "DxAgokRgvxPr",
    "papermill": {
     "duration": 0.017672,
     "end_time": "2024-08-24T12:53:40.706333",
     "exception": false,
     "start_time": "2024-08-24T12:53:40.688661",
     "status": "completed"
    },
    "tags": []
   },
   "outputs": [],
   "source": [
    "class ISICDataset(Dataset):\n",
    "    def __init__(self, data_path, metadata, transform=None):\n",
    "        self.data = h5py.File(data_path, 'r')\n",
    "        self.metadata = metadata\n",
    "        self.transform = transform\n",
    "\n",
    "    def __len__(self):\n",
    "        return len(self.metadata)\n",
    "\n",
    "    def __getitem__(self, idx):\n",
    "        img_name = self.metadata.iloc[idx]['isic_id']\n",
    "        image = np.array(self.data[img_name])\n",
    "        image = np.array(Image.open(io.BytesIO(image)))\n",
    "        image = cv2.cvtColor(image, cv2.COLOR_BGR2RGB)\n",
    "\n",
    "        if self.transform:\n",
    "            augmented = self.transform(image=image)\n",
    "            image = augmented['image']\n",
    "\n",
    "        if 'target' in self.metadata.columns:\n",
    "            label = int(self.metadata['target'].iloc[idx])\n",
    "            return image, label\n",
    "        else:\n",
    "            return image, 0"
   ]
  },
  {
   "cell_type": "code",
   "execution_count": 9,
   "id": "15114164",
   "metadata": {
    "execution": {
     "iopub.execute_input": "2024-08-24T12:53:40.719834Z",
     "iopub.status.busy": "2024-08-24T12:53:40.719299Z",
     "iopub.status.idle": "2024-08-24T12:53:40.729169Z",
     "shell.execute_reply": "2024-08-24T12:53:40.728305Z"
    },
    "id": "6tUJogKp-v-j",
    "papermill": {
     "duration": 0.018894,
     "end_time": "2024-08-24T12:53:40.731273",
     "exception": false,
     "start_time": "2024-08-24T12:53:40.712379",
     "status": "completed"
    },
    "tags": []
   },
   "outputs": [],
   "source": [
    "transforms = {\n",
    "    'train': A.Compose([\n",
    "        A.RandomRotate90(p=0.5),\n",
    "        A.Flip(p=0.5),\n",
    "        A.Transpose(p=0.5),\n",
    "        A.ShiftScaleRotate(shift_limit=0.1, scale_limit=0.1, rotate_limit=45, p=0.5),\n",
    "        A.OneOf([\n",
    "            A.HueSaturationValue(p=0.5),\n",
    "            A.RandomBrightnessContrast(p=0.5),\n",
    "        ], p=0.5),\n",
    "        A.OneOf([\n",
    "            A.GaussNoise(p=0.5),\n",
    "            A.GaussianBlur(p=0.5),\n",
    "            A.MotionBlur(p=0.5),\n",
    "        ], p=0.5),\n",
    "        A.Resize(CFG.image_size, CFG.image_size),\n",
    "        A.Normalize(\n",
    "            mean=[0.4815, 0.4578, 0.4082],\n",
    "            std=[0.2686, 0.2613, 0.2758],\n",
    "            max_pixel_value=255.0),\n",
    "        ToTensorV2(),\n",
    "    ]),\n",
    "\n",
    "    'val': A.Compose([\n",
    "        A.Resize(CFG.image_size, CFG.image_size),\n",
    "        A.Normalize(\n",
    "            mean=[0.4815, 0.4578, 0.4082],\n",
    "            std=[0.2686, 0.2613, 0.2758],\n",
    "            max_pixel_value=255.0),\n",
    "        ToTensorV2(),\n",
    "    ])\n",
    "}"
   ]
  },
  {
   "cell_type": "markdown",
   "id": "f7afc935",
   "metadata": {
    "id": "QSzebgg8-v-j",
    "papermill": {
     "duration": 0.006972,
     "end_time": "2024-08-24T12:53:40.744949",
     "exception": false,
     "start_time": "2024-08-24T12:53:40.737977",
     "status": "completed"
    },
    "tags": []
   },
   "source": [
    "# Customizing the image model"
   ]
  },
  {
   "cell_type": "code",
   "execution_count": 10,
   "id": "b95b6eca",
   "metadata": {
    "execution": {
     "iopub.execute_input": "2024-08-24T12:53:40.759490Z",
     "iopub.status.busy": "2024-08-24T12:53:40.758670Z",
     "iopub.status.idle": "2024-08-24T12:53:40.765588Z",
     "shell.execute_reply": "2024-08-24T12:53:40.764728Z"
    },
    "id": "uhUwzYAHRelB",
    "papermill": {
     "duration": 0.016097,
     "end_time": "2024-08-24T12:53:40.767457",
     "exception": false,
     "start_time": "2024-08-24T12:53:40.751360",
     "status": "completed"
    },
    "tags": []
   },
   "outputs": [],
   "source": [
    "class ResNet(nn.Module):\n",
    "    def __init__(self, model_name, pretrained=True):\n",
    "        super(ResNet, self).__init__()\n",
    "        self.model = timm.create_model(model_name, pretrained=pretrained, in_chans=3)\n",
    "        num_features = 1000\n",
    "        self.classifier = nn.Sequential(\n",
    "            nn.Linear(num_features, 512),\n",
    "            nn.BatchNorm1d(512),\n",
    "            nn.ReLU(),\n",
    "            nn.Dropout(0.5),\n",
    "            nn.Linear(512, 1),\n",
    "            nn.Sigmoid()\n",
    "        )\n",
    "\n",
    "    def forward(self, x):\n",
    "        x = self.model(x)\n",
    "        x = self.classifier(x)\n",
    "        return x"
   ]
  },
  {
   "cell_type": "markdown",
   "id": "61701017",
   "metadata": {
    "id": "NbENY6cl-v-j",
    "papermill": {
     "duration": 0.006239,
     "end_time": "2024-08-24T12:53:40.780218",
     "exception": false,
     "start_time": "2024-08-24T12:53:40.773979",
     "status": "completed"
    },
    "tags": []
   },
   "source": [
    "# Creating a trainer class"
   ]
  },
  {
   "cell_type": "code",
   "execution_count": 11,
   "id": "cbcb4c88",
   "metadata": {
    "execution": {
     "iopub.execute_input": "2024-08-24T12:53:40.795404Z",
     "iopub.status.busy": "2024-08-24T12:53:40.794967Z",
     "iopub.status.idle": "2024-08-24T12:53:40.834649Z",
     "shell.execute_reply": "2024-08-24T12:53:40.832613Z"
    },
    "id": "yWUV5TeWvxPs",
    "papermill": {
     "duration": 0.050821,
     "end_time": "2024-08-24T12:53:40.837357",
     "exception": false,
     "start_time": "2024-08-24T12:53:40.786536",
     "status": "completed"
    },
    "tags": []
   },
   "outputs": [],
   "source": [
    "class Trainer:\n",
    "    def __init__(\n",
    "        self,\n",
    "        device,\n",
    "        model,\n",
    "        criterion,\n",
    "        optimizer,\n",
    "        scheduler,\n",
    "        train_dataloader,\n",
    "        val_dataloader,\n",
    "        checkpoint_path,\n",
    "        fold_idx,\n",
    "        es_patience\n",
    "    ):\n",
    "        self.device = device\n",
    "        self.model = model\n",
    "        self.criterion = criterion\n",
    "        self.optimizer = optimizer\n",
    "        self.scheduler = scheduler\n",
    "        self.train_dataloader = train_dataloader\n",
    "        self.val_dataloader = val_dataloader\n",
    "        self.checkpoint_path = checkpoint_path\n",
    "        self.best_pauc = 0.0\n",
    "        self.best_model_path = None\n",
    "        self.fold_idx = fold_idx\n",
    "        self.es_patience = es_patience\n",
    "        self.create_checkpoint_path()\n",
    "\n",
    "    def create_checkpoint_path(self):\n",
    "        if not os.path.exists(self.checkpoint_path):\n",
    "            os.makedirs(self.checkpoint_path)\n",
    "\n",
    "    @staticmethod\n",
    "    def p_roc_auc_score(y_true, y_preds, min_tpr: float = 0.80):\n",
    "        v_gt = abs(np.asarray(y_true)-1)\n",
    "        v_pred = -1.0 * np.asarray(y_preds)\n",
    "        max_fpr = abs(1-min_tpr)\n",
    "        fpr, tpr, _ = roc_curve(v_gt, v_pred, sample_weight=None)\n",
    "        if max_fpr is None or max_fpr == 1:\n",
    "            return auc(fpr, tpr)\n",
    "        if max_fpr <= 0 or max_fpr > 1:\n",
    "            raise ValueError(\"Expected min_tpr in range [0, 1), got: %r\" % min_tpr)\n",
    "        stop = np.searchsorted(fpr, max_fpr, \"right\")\n",
    "        x_interp = [fpr[stop - 1], fpr[stop]]\n",
    "        y_interp = [tpr[stop - 1], tpr[stop]]\n",
    "        tpr = np.append(tpr[:stop], np.interp(max_fpr, x_interp, y_interp))\n",
    "        fpr = np.append(fpr[:stop], max_fpr)\n",
    "        partial_auc = auc(fpr, tpr)\n",
    "        return partial_auc\n",
    "\n",
    "    def train(self, current_epoch_nr):\n",
    "        self.model.train()\n",
    "\n",
    "        num_batches = len(self.train_dataloader)\n",
    "\n",
    "        running_loss = 0.0\n",
    "        total = 0\n",
    "\n",
    "        preds = []\n",
    "        targets = []\n",
    "\n",
    "        loop = tqdm(self.train_dataloader, total=num_batches)\n",
    "        for batch in loop:\n",
    "            x, y = batch\n",
    "            x, y = x.to(self.device, dtype=torch.float), y.to(self.device, dtype=torch.float)\n",
    "\n",
    "            self.optimizer.zero_grad()\n",
    "\n",
    "            y_hat = self.model(x).squeeze()\n",
    "\n",
    "            preds.extend(y_hat.detach().cpu().numpy())\n",
    "            targets.extend(y.detach().cpu().numpy())\n",
    "\n",
    "            loss = self.criterion(y_hat, y)\n",
    "            loss.backward()\n",
    "            self.optimizer.step()\n",
    "\n",
    "            running_loss += loss.item() * x.size(0)\n",
    "            total += y.size(0)\n",
    "\n",
    "            loop.set_description(f'Epoch {current_epoch_nr}')\n",
    "            loop.set_postfix(train_loss=round(running_loss / total, 6))\n",
    "\n",
    "            if self.scheduler is not None:\n",
    "                self.scheduler.step()\n",
    "\n",
    "        train_pauc = self.p_roc_auc_score(targets, preds)\n",
    "        train_loss = running_loss / num_batches\n",
    "\n",
    "        return train_pauc, train_loss\n",
    "\n",
    "    def evaluate(self, current_epoch_nr):\n",
    "        self.model.eval()\n",
    "\n",
    "        num_batches = len(self.val_dataloader)\n",
    "\n",
    "        running_loss = 0.0\n",
    "        total = 0\n",
    "\n",
    "        preds = []\n",
    "        targets = []\n",
    "\n",
    "        with torch.no_grad():\n",
    "            loop = tqdm(self.val_dataloader, total=num_batches)\n",
    "            for batch in loop:\n",
    "                x, y = batch\n",
    "                x, y = x.to(self.device, dtype=torch.float), y.to(self.device, dtype=torch.float)\n",
    "\n",
    "                self.optimizer.zero_grad()\n",
    "\n",
    "                y_hat = self.model(x).squeeze()\n",
    "                \n",
    "                preds.extend(y_hat.detach().cpu().numpy())\n",
    "                targets.extend(y.detach().cpu().numpy())\n",
    "\n",
    "                loss = self.criterion(y_hat, y)\n",
    "                running_loss += loss.item() * x.size(0)\n",
    "                total += y.size(0)\n",
    "\n",
    "                loop.set_description(f'Epoch {current_epoch_nr}')\n",
    "                loop.set_postfix(val_loss=round(running_loss / total, 6))\n",
    "\n",
    "        val_pauc = self.p_roc_auc_score(targets, preds)\n",
    "        val_loss = running_loss / num_batches\n",
    "\n",
    "        if val_pauc > self.best_pauc:\n",
    "            self.es_patience = CFG.es_patience\n",
    "            if self.best_pauc != 0.0:\n",
    "                print(f'New best model found: pAUC = {val_pauc:.6f} (previous best: {self.best_pauc:.6f})')\n",
    "            self.best_pauc = val_pauc\n",
    "            checkpoint_name = f'fold_{self.fold_idx}_epoch_{current_epoch_nr}_pauc_{round(val_pauc, 6)}.pth'\n",
    "\n",
    "            for file in os.listdir(self.checkpoint_path):\n",
    "                if file.startswith(f'fold_{self.fold_idx}_epoch_'):\n",
    "                    os.remove(os.path.join(self.checkpoint_path, file))\n",
    "\n",
    "            torch.save(\n",
    "                self.model.state_dict(),\n",
    "                os.path.join(self.checkpoint_path, checkpoint_name)\n",
    "            )\n",
    "            self.best_model_path = os.path.join(\n",
    "                self.checkpoint_path, checkpoint_name)\n",
    "\n",
    "        else:\n",
    "            self.es_patience -= 1\n",
    "            if self.es_patience == 0:\n",
    "                print(f'Early stopping triggered at epoch {current_epoch_nr}. Best pAUC = {self.best_pauc:.6f}')\n",
    "                return val_pauc, val_loss, True\n",
    "\n",
    "        return val_pauc, val_loss, False\n",
    "\n",
    "    def predict(self, dataloader):\n",
    "        model = self.model.to(self.device)\n",
    "        model.load_state_dict(torch.load(self.best_model_path))\n",
    "        model.eval()\n",
    "\n",
    "        preds = []\n",
    "        with torch.no_grad():\n",
    "            loop = tqdm(dataloader, total=len(dataloader))\n",
    "            for batch in loop:\n",
    "                x, _ = batch\n",
    "                x = x.to(self.device, dtype=torch.float)\n",
    "                y_hat = model(x).squeeze()\n",
    "                preds.extend(y_hat.detach().cpu().numpy())\n",
    "                loop.set_description(f'Prediction')\n",
    "\n",
    "        return preds"
   ]
  },
  {
   "cell_type": "markdown",
   "id": "c16ef896",
   "metadata": {
    "id": "uE7oYGyR-v-j",
    "papermill": {
     "duration": 0.006926,
     "end_time": "2024-08-24T12:53:40.852780",
     "exception": false,
     "start_time": "2024-08-24T12:53:40.845854",
     "status": "completed"
    },
    "tags": []
   },
   "source": [
    "# Training and cross-validation"
   ]
  },
  {
   "cell_type": "code",
   "execution_count": 12,
   "id": "79d59469",
   "metadata": {
    "_kg_hide-output": true,
    "execution": {
     "iopub.execute_input": "2024-08-24T12:53:40.872486Z",
     "iopub.status.busy": "2024-08-24T12:53:40.871675Z",
     "iopub.status.idle": "2024-08-24T20:44:00.092547Z",
     "shell.execute_reply": "2024-08-24T20:44:00.091623Z"
    },
    "id": "z6ry0OmfyEmZ",
    "outputId": "be79b77b-0941-4759-b0c8-635e6c72b19e",
    "papermill": {
     "duration": 28225.137684,
     "end_time": "2024-08-24T20:44:05.999825",
     "exception": false,
     "start_time": "2024-08-24T12:53:40.862141",
     "status": "completed"
    },
    "tags": []
   },
   "outputs": [
    {
     "name": "stdout",
     "output_type": "stream",
     "text": [
      "---------------------------------- Fold 1 ----------------------------------\n"
     ]
    },
    {
     "data": {
      "application/vnd.jupyter.widget-view+json": {
       "model_id": "f58b5672a9e34739bb24429b7dca0bf9",
       "version_major": 2,
       "version_minor": 0
      },
      "text/plain": [
       "model.safetensors:   0%|          | 0.00/102M [00:00<?, ?B/s]"
      ]
     },
     "metadata": {},
     "output_type": "display_data"
    },
    {
     "name": "stderr",
     "output_type": "stream",
     "text": [
      "Epoch 1: 100%|██████████| 209/209 [02:14<00:00,  1.55it/s, train_loss=0.222]\n",
      "Epoch 1: 100%|██████████| 25/25 [00:03<00:00,  6.71it/s, val_loss=0.151]\n"
     ]
    },
    {
     "name": "stdout",
     "output_type": "stream",
     "text": [
      "Epoch 1: Train pAUC: 0.051812 - Val pAUC: 0.061770 | Train Loss: 7.072705 - Val Loss: 9.628714\n",
      "\n"
     ]
    },
    {
     "name": "stderr",
     "output_type": "stream",
     "text": [
      "Epoch 2: 100%|██████████| 209/209 [02:12<00:00,  1.57it/s, train_loss=0.166]\n",
      "Epoch 2: 100%|██████████| 25/25 [00:03<00:00,  7.36it/s, val_loss=0.145]\n"
     ]
    },
    {
     "name": "stdout",
     "output_type": "stream",
     "text": [
      "New best model found: pAUC = 0.099511 (previous best: 0.061770)\n",
      "Epoch 2: Train pAUC: 0.080981 - Val pAUC: 0.099511 | Train Loss: 5.300417 - Val Loss: 9.218716\n",
      "\n"
     ]
    },
    {
     "name": "stderr",
     "output_type": "stream",
     "text": [
      "Epoch 3: 100%|██████████| 209/209 [02:12<00:00,  1.57it/s, train_loss=0.156]\n",
      "Epoch 3: 100%|██████████| 25/25 [00:03<00:00,  7.16it/s, val_loss=0.137]\n"
     ]
    },
    {
     "name": "stdout",
     "output_type": "stream",
     "text": [
      "New best model found: pAUC = 0.101851 (previous best: 0.099511)\n",
      "Epoch 3: Train pAUC: 0.098104 - Val pAUC: 0.101851 | Train Loss: 4.959954 - Val Loss: 8.704678\n",
      "\n"
     ]
    },
    {
     "name": "stderr",
     "output_type": "stream",
     "text": [
      "Epoch 4: 100%|██████████| 209/209 [02:12<00:00,  1.57it/s, train_loss=0.152]\n",
      "Epoch 4: 100%|██████████| 25/25 [00:03<00:00,  7.30it/s, val_loss=0.122]\n"
     ]
    },
    {
     "name": "stdout",
     "output_type": "stream",
     "text": [
      "New best model found: pAUC = 0.112383 (previous best: 0.101851)\n",
      "Epoch 4: Train pAUC: 0.094199 - Val pAUC: 0.112383 | Train Loss: 4.856074 - Val Loss: 7.782387\n",
      "\n"
     ]
    },
    {
     "name": "stderr",
     "output_type": "stream",
     "text": [
      "Epoch 5: 100%|██████████| 209/209 [02:13<00:00,  1.57it/s, train_loss=0.139]\n",
      "Epoch 5: 100%|██████████| 25/25 [00:03<00:00,  7.33it/s, val_loss=0.122]\n"
     ]
    },
    {
     "name": "stdout",
     "output_type": "stream",
     "text": [
      "New best model found: pAUC = 0.114260 (previous best: 0.112383)\n",
      "Epoch 5: Train pAUC: 0.106983 - Val pAUC: 0.114260 | Train Loss: 4.420383 - Val Loss: 7.758001\n",
      "\n"
     ]
    },
    {
     "name": "stderr",
     "output_type": "stream",
     "text": [
      "Epoch 6: 100%|██████████| 209/209 [02:12<00:00,  1.57it/s, train_loss=0.141]\n",
      "Epoch 6: 100%|██████████| 25/25 [00:03<00:00,  7.15it/s, val_loss=0.122]\n"
     ]
    },
    {
     "name": "stdout",
     "output_type": "stream",
     "text": [
      "New best model found: pAUC = 0.128837 (previous best: 0.114260)\n",
      "Epoch 6: Train pAUC: 0.108219 - Val pAUC: 0.128837 | Train Loss: 4.495279 - Val Loss: 7.750842\n",
      "\n"
     ]
    },
    {
     "name": "stderr",
     "output_type": "stream",
     "text": [
      "Epoch 7: 100%|██████████| 209/209 [02:13<00:00,  1.57it/s, train_loss=0.136]\n",
      "Epoch 7: 100%|██████████| 25/25 [00:03<00:00,  7.32it/s, val_loss=0.116]\n"
     ]
    },
    {
     "name": "stdout",
     "output_type": "stream",
     "text": [
      "Epoch 7: Train pAUC: 0.124005 - Val pAUC: 0.124388 | Train Loss: 4.326774 - Val Loss: 7.392895\n",
      "\n"
     ]
    },
    {
     "name": "stderr",
     "output_type": "stream",
     "text": [
      "Epoch 8: 100%|██████████| 209/209 [02:13<00:00,  1.57it/s, train_loss=0.132]\n",
      "Epoch 8: 100%|██████████| 25/25 [00:03<00:00,  7.41it/s, val_loss=0.123]\n"
     ]
    },
    {
     "name": "stdout",
     "output_type": "stream",
     "text": [
      "Epoch 8: Train pAUC: 0.131941 - Val pAUC: 0.117660 | Train Loss: 4.215705 - Val Loss: 7.804639\n",
      "\n"
     ]
    },
    {
     "name": "stderr",
     "output_type": "stream",
     "text": [
      "Epoch 9: 100%|██████████| 209/209 [02:13<00:00,  1.57it/s, train_loss=0.134]\n",
      "Epoch 9: 100%|██████████| 25/25 [00:03<00:00,  6.95it/s, val_loss=0.118]\n"
     ]
    },
    {
     "name": "stdout",
     "output_type": "stream",
     "text": [
      "New best model found: pAUC = 0.132409 (previous best: 0.128837)\n",
      "Epoch 9: Train pAUC: 0.115672 - Val pAUC: 0.132409 | Train Loss: 4.261281 - Val Loss: 7.533880\n",
      "\n"
     ]
    },
    {
     "name": "stderr",
     "output_type": "stream",
     "text": [
      "Epoch 10: 100%|██████████| 209/209 [02:12<00:00,  1.57it/s, train_loss=0.131]\n",
      "Epoch 10: 100%|██████████| 25/25 [00:03<00:00,  7.35it/s, val_loss=0.142]\n"
     ]
    },
    {
     "name": "stdout",
     "output_type": "stream",
     "text": [
      "Epoch 10: Train pAUC: 0.127400 - Val pAUC: 0.119778 | Train Loss: 4.176535 - Val Loss: 9.012150\n",
      "\n"
     ]
    },
    {
     "name": "stderr",
     "output_type": "stream",
     "text": [
      "Epoch 11: 100%|██████████| 209/209 [02:13<00:00,  1.57it/s, train_loss=0.125]\n",
      "Epoch 11: 100%|██████████| 25/25 [00:03<00:00,  7.11it/s, val_loss=0.122]\n"
     ]
    },
    {
     "name": "stdout",
     "output_type": "stream",
     "text": [
      "Epoch 11: Train pAUC: 0.129288 - Val pAUC: 0.127778 | Train Loss: 3.978659 - Val Loss: 7.759785\n",
      "\n"
     ]
    },
    {
     "name": "stderr",
     "output_type": "stream",
     "text": [
      "Epoch 12: 100%|██████████| 209/209 [02:12<00:00,  1.57it/s, train_loss=0.121]\n",
      "Epoch 12: 100%|██████████| 25/25 [00:03<00:00,  7.23it/s, val_loss=0.143]\n"
     ]
    },
    {
     "name": "stdout",
     "output_type": "stream",
     "text": [
      "Epoch 12: Train pAUC: 0.136731 - Val pAUC: 0.128141 | Train Loss: 3.855312 - Val Loss: 9.102569\n",
      "\n"
     ]
    },
    {
     "name": "stderr",
     "output_type": "stream",
     "text": [
      "Epoch 13: 100%|██████████| 209/209 [02:13<00:00,  1.57it/s, train_loss=0.125]\n",
      "Epoch 13: 100%|██████████| 25/25 [00:03<00:00,  7.37it/s, val_loss=0.122]\n"
     ]
    },
    {
     "name": "stdout",
     "output_type": "stream",
     "text": [
      "Epoch 13: Train pAUC: 0.128858 - Val pAUC: 0.108883 | Train Loss: 3.981350 - Val Loss: 7.746649\n",
      "\n"
     ]
    },
    {
     "name": "stderr",
     "output_type": "stream",
     "text": [
      "Epoch 14: 100%|██████████| 209/209 [02:13<00:00,  1.57it/s, train_loss=0.118]\n",
      "Epoch 14: 100%|██████████| 25/25 [00:03<00:00,  7.34it/s, val_loss=0.113]\n"
     ]
    },
    {
     "name": "stdout",
     "output_type": "stream",
     "text": [
      "New best model found: pAUC = 0.133801 (previous best: 0.132409)\n",
      "Epoch 14: Train pAUC: 0.141774 - Val pAUC: 0.133801 | Train Loss: 3.771945 - Val Loss: 7.216801\n",
      "\n"
     ]
    },
    {
     "name": "stderr",
     "output_type": "stream",
     "text": [
      "Epoch 15: 100%|██████████| 209/209 [02:13<00:00,  1.57it/s, train_loss=0.12]\n",
      "Epoch 15: 100%|██████████| 25/25 [00:03<00:00,  7.35it/s, val_loss=0.113]\n"
     ]
    },
    {
     "name": "stdout",
     "output_type": "stream",
     "text": [
      "New best model found: pAUC = 0.149478 (previous best: 0.133801)\n",
      "Epoch 15: Train pAUC: 0.145487 - Val pAUC: 0.149478 | Train Loss: 3.818867 - Val Loss: 7.214452\n",
      "\n"
     ]
    },
    {
     "name": "stderr",
     "output_type": "stream",
     "text": [
      "Epoch 16: 100%|██████████| 209/209 [02:12<00:00,  1.57it/s, train_loss=0.118]\n",
      "Epoch 16: 100%|██████████| 25/25 [00:03<00:00,  7.33it/s, val_loss=0.114]\n"
     ]
    },
    {
     "name": "stdout",
     "output_type": "stream",
     "text": [
      "Epoch 16: Train pAUC: 0.140854 - Val pAUC: 0.142910 | Train Loss: 3.758980 - Val Loss: 7.279975\n",
      "\n"
     ]
    },
    {
     "name": "stderr",
     "output_type": "stream",
     "text": [
      "Epoch 17: 100%|██████████| 209/209 [02:13<00:00,  1.57it/s, train_loss=0.119]\n",
      "Epoch 17: 100%|██████████| 25/25 [00:03<00:00,  7.30it/s, val_loss=0.12]\n"
     ]
    },
    {
     "name": "stdout",
     "output_type": "stream",
     "text": [
      "Epoch 17: Train pAUC: 0.136795 - Val pAUC: 0.137574 | Train Loss: 3.803948 - Val Loss: 7.619934\n",
      "\n"
     ]
    },
    {
     "name": "stderr",
     "output_type": "stream",
     "text": [
      "Epoch 18: 100%|██████████| 209/209 [02:13<00:00,  1.57it/s, train_loss=0.117]\n",
      "Epoch 18: 100%|██████████| 25/25 [00:03<00:00,  7.32it/s, val_loss=0.115]\n"
     ]
    },
    {
     "name": "stdout",
     "output_type": "stream",
     "text": [
      "Epoch 18: Train pAUC: 0.138856 - Val pAUC: 0.143455 | Train Loss: 3.720408 - Val Loss: 7.318373\n",
      "\n"
     ]
    },
    {
     "name": "stderr",
     "output_type": "stream",
     "text": [
      "Epoch 19: 100%|██████████| 209/209 [02:13<00:00,  1.57it/s, train_loss=0.113]\n",
      "Epoch 19: 100%|██████████| 25/25 [00:03<00:00,  7.33it/s, val_loss=0.119]\n"
     ]
    },
    {
     "name": "stdout",
     "output_type": "stream",
     "text": [
      "Epoch 19: Train pAUC: 0.142051 - Val pAUC: 0.147148 | Train Loss: 3.613674 - Val Loss: 7.558409\n",
      "\n"
     ]
    },
    {
     "name": "stderr",
     "output_type": "stream",
     "text": [
      "Epoch 20: 100%|██████████| 209/209 [02:13<00:00,  1.57it/s, train_loss=0.116]\n",
      "Epoch 20: 100%|██████████| 25/25 [00:03<00:00,  7.35it/s, val_loss=0.133]\n"
     ]
    },
    {
     "name": "stdout",
     "output_type": "stream",
     "text": [
      "Epoch 20: Train pAUC: 0.137803 - Val pAUC: 0.122522 | Train Loss: 3.705379 - Val Loss: 8.473498\n",
      "\n"
     ]
    },
    {
     "name": "stderr",
     "output_type": "stream",
     "text": [
      "Epoch 21: 100%|██████████| 209/209 [02:13<00:00,  1.57it/s, train_loss=0.11]\n",
      "Epoch 21: 100%|██████████| 25/25 [00:03<00:00,  7.29it/s, val_loss=0.126]\n"
     ]
    },
    {
     "name": "stdout",
     "output_type": "stream",
     "text": [
      "Epoch 21: Train pAUC: 0.149334 - Val pAUC: 0.127617 | Train Loss: 3.515864 - Val Loss: 8.028858\n",
      "\n"
     ]
    },
    {
     "name": "stderr",
     "output_type": "stream",
     "text": [
      "Epoch 22: 100%|██████████| 209/209 [02:13<00:00,  1.57it/s, train_loss=0.119]\n",
      "Epoch 22: 100%|██████████| 25/25 [00:03<00:00,  7.37it/s, val_loss=0.118]\n"
     ]
    },
    {
     "name": "stdout",
     "output_type": "stream",
     "text": [
      "Epoch 22: Train pAUC: 0.134904 - Val pAUC: 0.129513 | Train Loss: 3.796947 - Val Loss: 7.535414\n",
      "\n"
     ]
    },
    {
     "name": "stderr",
     "output_type": "stream",
     "text": [
      "Epoch 23: 100%|██████████| 209/209 [02:13<00:00,  1.57it/s, train_loss=0.108]\n",
      "Epoch 23: 100%|██████████| 25/25 [00:03<00:00,  7.33it/s, val_loss=0.126]\n"
     ]
    },
    {
     "name": "stdout",
     "output_type": "stream",
     "text": [
      "Epoch 23: Train pAUC: 0.150788 - Val pAUC: 0.132671 | Train Loss: 3.428735 - Val Loss: 7.994138\n",
      "\n"
     ]
    },
    {
     "name": "stderr",
     "output_type": "stream",
     "text": [
      "Epoch 24: 100%|██████████| 209/209 [02:13<00:00,  1.57it/s, train_loss=0.101]\n",
      "Epoch 24: 100%|██████████| 25/25 [00:03<00:00,  7.30it/s, val_loss=0.126]\n"
     ]
    },
    {
     "name": "stdout",
     "output_type": "stream",
     "text": [
      "Epoch 24: Train pAUC: 0.160203 - Val pAUC: 0.123289 | Train Loss: 3.214956 - Val Loss: 7.983300\n",
      "\n"
     ]
    },
    {
     "name": "stderr",
     "output_type": "stream",
     "text": [
      "Epoch 25: 100%|██████████| 209/209 [02:13<00:00,  1.57it/s, train_loss=0.103]\n",
      "Epoch 25: 100%|██████████| 25/25 [00:03<00:00,  7.35it/s, val_loss=0.116]\n"
     ]
    },
    {
     "name": "stdout",
     "output_type": "stream",
     "text": [
      "Epoch 25: Train pAUC: 0.155001 - Val pAUC: 0.139198 | Train Loss: 3.295279 - Val Loss: 7.369693\n",
      "\n"
     ]
    },
    {
     "name": "stderr",
     "output_type": "stream",
     "text": [
      "Epoch 26: 100%|██████████| 209/209 [02:13<00:00,  1.57it/s, train_loss=0.0995]\n",
      "Epoch 26: 100%|██████████| 25/25 [00:03<00:00,  6.41it/s, val_loss=0.12]\n"
     ]
    },
    {
     "name": "stdout",
     "output_type": "stream",
     "text": [
      "New best model found: pAUC = 0.149801 (previous best: 0.149478)\n",
      "Epoch 26: Train pAUC: 0.162944 - Val pAUC: 0.149801 | Train Loss: 3.172471 - Val Loss: 7.622853\n",
      "\n"
     ]
    },
    {
     "name": "stderr",
     "output_type": "stream",
     "text": [
      "Epoch 27: 100%|██████████| 209/209 [02:13<00:00,  1.57it/s, train_loss=0.102]\n",
      "Epoch 27: 100%|██████████| 25/25 [00:03<00:00,  7.32it/s, val_loss=0.12]\n"
     ]
    },
    {
     "name": "stdout",
     "output_type": "stream",
     "text": [
      "Epoch 27: Train pAUC: 0.159059 - Val pAUC: 0.138431 | Train Loss: 3.266369 - Val Loss: 7.616871\n",
      "\n"
     ]
    },
    {
     "name": "stderr",
     "output_type": "stream",
     "text": [
      "Epoch 28: 100%|██████████| 209/209 [02:12<00:00,  1.57it/s, train_loss=0.101]\n",
      "Epoch 28: 100%|██████████| 25/25 [00:03<00:00,  7.15it/s, val_loss=0.112]\n"
     ]
    },
    {
     "name": "stdout",
     "output_type": "stream",
     "text": [
      "Epoch 28: Train pAUC: 0.158951 - Val pAUC: 0.138714 | Train Loss: 3.224449 - Val Loss: 7.136262\n",
      "\n"
     ]
    },
    {
     "name": "stderr",
     "output_type": "stream",
     "text": [
      "Epoch 29: 100%|██████████| 209/209 [02:13<00:00,  1.57it/s, train_loss=0.0983]\n",
      "Epoch 29: 100%|██████████| 25/25 [00:03<00:00,  6.98it/s, val_loss=0.111]\n"
     ]
    },
    {
     "name": "stdout",
     "output_type": "stream",
     "text": [
      "Epoch 29: Train pAUC: 0.159847 - Val pAUC: 0.147208 | Train Loss: 3.132618 - Val Loss: 7.060250\n",
      "\n"
     ]
    },
    {
     "name": "stderr",
     "output_type": "stream",
     "text": [
      "Epoch 30: 100%|██████████| 209/209 [02:13<00:00,  1.57it/s, train_loss=0.0984]\n",
      "Epoch 30: 100%|██████████| 25/25 [00:03<00:00,  6.88it/s, val_loss=0.115]\n"
     ]
    },
    {
     "name": "stdout",
     "output_type": "stream",
     "text": [
      "Epoch 30: Train pAUC: 0.159057 - Val pAUC: 0.120585 | Train Loss: 3.138554 - Val Loss: 7.284608\n",
      "\n"
     ]
    },
    {
     "name": "stderr",
     "output_type": "stream",
     "text": [
      "Epoch 31: 100%|██████████| 209/209 [02:13<00:00,  1.57it/s, train_loss=0.0966]\n",
      "Epoch 31: 100%|██████████| 25/25 [00:03<00:00,  7.37it/s, val_loss=0.118]\n"
     ]
    },
    {
     "name": "stdout",
     "output_type": "stream",
     "text": [
      "Epoch 31: Train pAUC: 0.159912 - Val pAUC: 0.138916 | Train Loss: 3.079640 - Val Loss: 7.512456\n",
      "\n"
     ]
    },
    {
     "name": "stderr",
     "output_type": "stream",
     "text": [
      "Epoch 32: 100%|██████████| 209/209 [02:13<00:00,  1.57it/s, train_loss=0.0903]\n",
      "Epoch 32: 100%|██████████| 25/25 [00:03<00:00,  7.32it/s, val_loss=0.138]\n"
     ]
    },
    {
     "name": "stdout",
     "output_type": "stream",
     "text": [
      "Epoch 32: Train pAUC: 0.165984 - Val pAUC: 0.138068 | Train Loss: 2.878654 - Val Loss: 8.760847\n",
      "\n"
     ]
    },
    {
     "name": "stderr",
     "output_type": "stream",
     "text": [
      "Epoch 33: 100%|██████████| 209/209 [02:13<00:00,  1.57it/s, train_loss=0.0884]\n",
      "Epoch 33: 100%|██████████| 25/25 [00:03<00:00,  7.25it/s, val_loss=0.126]\n"
     ]
    },
    {
     "name": "stdout",
     "output_type": "stream",
     "text": [
      "Epoch 33: Train pAUC: 0.169315 - Val pAUC: 0.144131 | Train Loss: 2.817933 - Val Loss: 7.981814\n",
      "\n"
     ]
    },
    {
     "name": "stderr",
     "output_type": "stream",
     "text": [
      "Epoch 34: 100%|██████████| 209/209 [02:12<00:00,  1.57it/s, train_loss=0.091]\n",
      "Epoch 34: 100%|██████████| 25/25 [00:03<00:00,  7.38it/s, val_loss=0.136]\n"
     ]
    },
    {
     "name": "stdout",
     "output_type": "stream",
     "text": [
      "Epoch 34: Train pAUC: 0.164861 - Val pAUC: 0.134456 | Train Loss: 2.899639 - Val Loss: 8.634681\n",
      "\n"
     ]
    },
    {
     "name": "stderr",
     "output_type": "stream",
     "text": [
      "Epoch 35: 100%|██████████| 209/209 [02:13<00:00,  1.57it/s, train_loss=0.089]\n",
      "Epoch 35: 100%|██████████| 25/25 [00:03<00:00,  6.92it/s, val_loss=0.126]\n"
     ]
    },
    {
     "name": "stdout",
     "output_type": "stream",
     "text": [
      "Epoch 35: Train pAUC: 0.169041 - Val pAUC: 0.144968 | Train Loss: 2.838697 - Val Loss: 8.017243\n",
      "\n"
     ]
    },
    {
     "name": "stderr",
     "output_type": "stream",
     "text": [
      "Epoch 36: 100%|██████████| 209/209 [02:12<00:00,  1.57it/s, train_loss=0.0832]\n",
      "Epoch 36: 100%|██████████| 25/25 [00:03<00:00,  7.30it/s, val_loss=0.133]\n"
     ]
    },
    {
     "name": "stdout",
     "output_type": "stream",
     "text": [
      "Epoch 36: Train pAUC: 0.171809 - Val pAUC: 0.140328 | Train Loss: 2.651797 - Val Loss: 8.474770\n",
      "\n"
     ]
    },
    {
     "name": "stderr",
     "output_type": "stream",
     "text": [
      "Epoch 37: 100%|██████████| 209/209 [02:12<00:00,  1.57it/s, train_loss=0.0832]\n",
      "Epoch 37: 100%|██████████| 25/25 [00:03<00:00,  7.39it/s, val_loss=0.12]\n"
     ]
    },
    {
     "name": "stdout",
     "output_type": "stream",
     "text": [
      "Epoch 37: Train pAUC: 0.173907 - Val pAUC: 0.131733 | Train Loss: 2.652354 - Val Loss: 7.602399\n",
      "\n"
     ]
    },
    {
     "name": "stderr",
     "output_type": "stream",
     "text": [
      "Epoch 38: 100%|██████████| 209/209 [02:13<00:00,  1.57it/s, train_loss=0.0821]\n",
      "Epoch 38: 100%|██████████| 25/25 [00:03<00:00,  7.32it/s, val_loss=0.111]\n"
     ]
    },
    {
     "name": "stdout",
     "output_type": "stream",
     "text": [
      "Epoch 38: Train pAUC: 0.170779 - Val pAUC: 0.135334 | Train Loss: 2.618561 - Val Loss: 7.035163\n",
      "\n"
     ]
    },
    {
     "name": "stderr",
     "output_type": "stream",
     "text": [
      "Epoch 39: 100%|██████████| 209/209 [02:12<00:00,  1.57it/s, train_loss=0.0734]\n",
      "Epoch 39: 100%|██████████| 25/25 [00:03<00:00,  7.32it/s, val_loss=0.128]\n"
     ]
    },
    {
     "name": "stdout",
     "output_type": "stream",
     "text": [
      "Epoch 39: Train pAUC: 0.179467 - Val pAUC: 0.143778 | Train Loss: 2.339521 - Val Loss: 8.142588\n",
      "\n"
     ]
    },
    {
     "name": "stderr",
     "output_type": "stream",
     "text": [
      "Epoch 40: 100%|██████████| 209/209 [02:12<00:00,  1.57it/s, train_loss=0.0733]\n",
      "Epoch 40: 100%|██████████| 25/25 [00:03<00:00,  7.18it/s, val_loss=0.124]\n"
     ]
    },
    {
     "name": "stdout",
     "output_type": "stream",
     "text": [
      "Epoch 40: Train pAUC: 0.177764 - Val pAUC: 0.145362 | Train Loss: 2.336487 - Val Loss: 7.913398\n",
      "\n"
     ]
    },
    {
     "name": "stderr",
     "output_type": "stream",
     "text": [
      "Epoch 41: 100%|██████████| 209/209 [02:13<00:00,  1.57it/s, train_loss=0.0715]\n",
      "Epoch 41: 100%|██████████| 25/25 [00:03<00:00,  7.30it/s, val_loss=0.136]\n"
     ]
    },
    {
     "name": "stdout",
     "output_type": "stream",
     "text": [
      "Early stopping triggered at epoch 41. Best pAUC = 0.149801\n",
      "Epoch 41: Train pAUC: 0.180005 - Val pAUC: 0.141801 | Train Loss: 2.278969 - Val Loss: 8.650189\n",
      "\n"
     ]
    },
    {
     "name": "stderr",
     "output_type": "stream",
     "text": [
      "Prediction: 100%|██████████| 1211/1211 [02:19<00:00,  8.71it/s]\n"
     ]
    },
    {
     "name": "stdout",
     "output_type": "stream",
     "text": [
      "---------------------------------- Fold 1 ----------------------------------\n",
      "\n",
      "\n",
      "---------------------------------- Fold 2 ----------------------------------\n"
     ]
    },
    {
     "name": "stderr",
     "output_type": "stream",
     "text": [
      "Epoch 1: 100%|██████████| 201/201 [02:08<00:00,  1.57it/s, train_loss=0.234]\n",
      "Epoch 1: 100%|██████████| 29/29 [00:03<00:00,  7.52it/s, val_loss=0.143]\n"
     ]
    },
    {
     "name": "stdout",
     "output_type": "stream",
     "text": [
      "Epoch 1: Train pAUC: 0.034142 - Val pAUC: 0.076890 | Train Loss: 7.479569 - Val Loss: 9.004036\n",
      "\n"
     ]
    },
    {
     "name": "stderr",
     "output_type": "stream",
     "text": [
      "Epoch 2: 100%|██████████| 201/201 [02:08<00:00,  1.57it/s, train_loss=0.174]\n",
      "Epoch 2: 100%|██████████| 29/29 [00:03<00:00,  7.52it/s, val_loss=0.135]\n"
     ]
    },
    {
     "name": "stdout",
     "output_type": "stream",
     "text": [
      "New best model found: pAUC = 0.082500 (previous best: 0.076890)\n",
      "Epoch 2: Train pAUC: 0.066986 - Val pAUC: 0.082500 | Train Loss: 5.568219 - Val Loss: 8.488283\n",
      "\n"
     ]
    },
    {
     "name": "stderr",
     "output_type": "stream",
     "text": [
      "Epoch 3: 100%|██████████| 201/201 [02:08<00:00,  1.57it/s, train_loss=0.167]\n",
      "Epoch 3: 100%|██████████| 29/29 [00:03<00:00,  7.49it/s, val_loss=0.126]\n"
     ]
    },
    {
     "name": "stdout",
     "output_type": "stream",
     "text": [
      "New best model found: pAUC = 0.106564 (previous best: 0.082500)\n",
      "Epoch 3: Train pAUC: 0.079469 - Val pAUC: 0.106564 | Train Loss: 5.338510 - Val Loss: 7.969644\n",
      "\n"
     ]
    },
    {
     "name": "stderr",
     "output_type": "stream",
     "text": [
      "Epoch 4: 100%|██████████| 201/201 [02:08<00:00,  1.57it/s, train_loss=0.149]\n",
      "Epoch 4: 100%|██████████| 29/29 [00:03<00:00,  7.45it/s, val_loss=0.111]\n"
     ]
    },
    {
     "name": "stdout",
     "output_type": "stream",
     "text": [
      "Epoch 4: Train pAUC: 0.103101 - Val pAUC: 0.103114 | Train Loss: 4.776442 - Val Loss: 7.011851\n",
      "\n"
     ]
    },
    {
     "name": "stderr",
     "output_type": "stream",
     "text": [
      "Epoch 5: 100%|██████████| 201/201 [02:08<00:00,  1.57it/s, train_loss=0.151]\n",
      "Epoch 5: 100%|██████████| 29/29 [00:03<00:00,  7.50it/s, val_loss=0.111]\n"
     ]
    },
    {
     "name": "stdout",
     "output_type": "stream",
     "text": [
      "New best model found: pAUC = 0.112486 (previous best: 0.106564)\n",
      "Epoch 5: Train pAUC: 0.100515 - Val pAUC: 0.112486 | Train Loss: 4.842001 - Val Loss: 7.007884\n",
      "\n"
     ]
    },
    {
     "name": "stderr",
     "output_type": "stream",
     "text": [
      "Epoch 6: 100%|██████████| 201/201 [02:08<00:00,  1.57it/s, train_loss=0.143]\n",
      "Epoch 6: 100%|██████████| 29/29 [00:04<00:00,  7.16it/s, val_loss=0.1]\n"
     ]
    },
    {
     "name": "stdout",
     "output_type": "stream",
     "text": [
      "New best model found: pAUC = 0.131613 (previous best: 0.112486)\n",
      "Epoch 6: Train pAUC: 0.101446 - Val pAUC: 0.131613 | Train Loss: 4.585205 - Val Loss: 6.319854\n",
      "\n"
     ]
    },
    {
     "name": "stderr",
     "output_type": "stream",
     "text": [
      "Epoch 7: 100%|██████████| 201/201 [02:08<00:00,  1.57it/s, train_loss=0.143]\n",
      "Epoch 7: 100%|██████████| 29/29 [00:04<00:00,  7.08it/s, val_loss=0.108]\n"
     ]
    },
    {
     "name": "stdout",
     "output_type": "stream",
     "text": [
      "Epoch 7: Train pAUC: 0.108069 - Val pAUC: 0.114158 | Train Loss: 4.577962 - Val Loss: 6.789950\n",
      "\n"
     ]
    },
    {
     "name": "stderr",
     "output_type": "stream",
     "text": [
      "Epoch 8: 100%|██████████| 201/201 [02:08<00:00,  1.57it/s, train_loss=0.137]\n",
      "Epoch 8: 100%|██████████| 29/29 [00:03<00:00,  7.45it/s, val_loss=0.103]\n"
     ]
    },
    {
     "name": "stdout",
     "output_type": "stream",
     "text": [
      "Epoch 8: Train pAUC: 0.118982 - Val pAUC: 0.116601 | Train Loss: 4.367958 - Val Loss: 6.511096\n",
      "\n"
     ]
    },
    {
     "name": "stderr",
     "output_type": "stream",
     "text": [
      "Epoch 9: 100%|██████████| 201/201 [02:08<00:00,  1.57it/s, train_loss=0.127]\n",
      "Epoch 9: 100%|██████████| 29/29 [00:03<00:00,  7.34it/s, val_loss=0.0946]\n"
     ]
    },
    {
     "name": "stdout",
     "output_type": "stream",
     "text": [
      "New best model found: pAUC = 0.140923 (previous best: 0.131613)\n",
      "Epoch 9: Train pAUC: 0.129822 - Val pAUC: 0.140923 | Train Loss: 4.071737 - Val Loss: 5.961751\n",
      "\n"
     ]
    },
    {
     "name": "stderr",
     "output_type": "stream",
     "text": [
      "Epoch 10: 100%|██████████| 201/201 [02:08<00:00,  1.57it/s, train_loss=0.136]\n",
      "Epoch 10: 100%|██████████| 29/29 [00:03<00:00,  7.44it/s, val_loss=0.106]\n"
     ]
    },
    {
     "name": "stdout",
     "output_type": "stream",
     "text": [
      "Epoch 10: Train pAUC: 0.122128 - Val pAUC: 0.136154 | Train Loss: 4.358959 - Val Loss: 6.698001\n",
      "\n"
     ]
    },
    {
     "name": "stderr",
     "output_type": "stream",
     "text": [
      "Epoch 11: 100%|██████████| 201/201 [02:08<00:00,  1.57it/s, train_loss=0.133]\n",
      "Epoch 11: 100%|██████████| 29/29 [00:04<00:00,  7.16it/s, val_loss=0.0987]\n"
     ]
    },
    {
     "name": "stdout",
     "output_type": "stream",
     "text": [
      "Epoch 11: Train pAUC: 0.124467 - Val pAUC: 0.130480 | Train Loss: 4.237566 - Val Loss: 6.218885\n",
      "\n"
     ]
    },
    {
     "name": "stderr",
     "output_type": "stream",
     "text": [
      "Epoch 12: 100%|██████████| 201/201 [02:08<00:00,  1.57it/s, train_loss=0.125]\n",
      "Epoch 12: 100%|██████████| 29/29 [00:03<00:00,  7.42it/s, val_loss=0.103]\n"
     ]
    },
    {
     "name": "stdout",
     "output_type": "stream",
     "text": [
      "Epoch 12: Train pAUC: 0.141180 - Val pAUC: 0.128368 | Train Loss: 3.993906 - Val Loss: 6.491967\n",
      "\n"
     ]
    },
    {
     "name": "stderr",
     "output_type": "stream",
     "text": [
      "Epoch 13: 100%|██████████| 201/201 [02:08<00:00,  1.57it/s, train_loss=0.128]\n",
      "Epoch 13: 100%|██████████| 29/29 [00:03<00:00,  7.50it/s, val_loss=0.0976]\n"
     ]
    },
    {
     "name": "stdout",
     "output_type": "stream",
     "text": [
      "Epoch 13: Train pAUC: 0.133516 - Val pAUC: 0.130913 | Train Loss: 4.076782 - Val Loss: 6.153252\n",
      "\n"
     ]
    },
    {
     "name": "stderr",
     "output_type": "stream",
     "text": [
      "Epoch 14: 100%|██████████| 201/201 [02:08<00:00,  1.57it/s, train_loss=0.122]\n",
      "Epoch 14: 100%|██████████| 29/29 [00:03<00:00,  7.49it/s, val_loss=0.106]\n"
     ]
    },
    {
     "name": "stdout",
     "output_type": "stream",
     "text": [
      "Epoch 14: Train pAUC: 0.141155 - Val pAUC: 0.120663 | Train Loss: 3.896497 - Val Loss: 6.669553\n",
      "\n"
     ]
    },
    {
     "name": "stderr",
     "output_type": "stream",
     "text": [
      "Epoch 15: 100%|██████████| 201/201 [02:08<00:00,  1.57it/s, train_loss=0.123]\n",
      "Epoch 15: 100%|██████████| 29/29 [00:03<00:00,  7.48it/s, val_loss=0.1]\n"
     ]
    },
    {
     "name": "stdout",
     "output_type": "stream",
     "text": [
      "Epoch 15: Train pAUC: 0.142618 - Val pAUC: 0.134613 | Train Loss: 3.934977 - Val Loss: 6.308443\n",
      "\n"
     ]
    },
    {
     "name": "stderr",
     "output_type": "stream",
     "text": [
      "Epoch 16: 100%|██████████| 201/201 [02:08<00:00,  1.57it/s, train_loss=0.12]\n",
      "Epoch 16: 100%|██████████| 29/29 [00:03<00:00,  7.46it/s, val_loss=0.106]\n"
     ]
    },
    {
     "name": "stdout",
     "output_type": "stream",
     "text": [
      "Epoch 16: Train pAUC: 0.144881 - Val pAUC: 0.126730 | Train Loss: 3.837484 - Val Loss: 6.662074\n",
      "\n"
     ]
    },
    {
     "name": "stderr",
     "output_type": "stream",
     "text": [
      "Epoch 17: 100%|██████████| 201/201 [02:08<00:00,  1.57it/s, train_loss=0.121]\n",
      "Epoch 17: 100%|██████████| 29/29 [00:03<00:00,  7.29it/s, val_loss=0.102]\n"
     ]
    },
    {
     "name": "stdout",
     "output_type": "stream",
     "text": [
      "Epoch 17: Train pAUC: 0.145813 - Val pAUC: 0.122375 | Train Loss: 3.877272 - Val Loss: 6.432013\n",
      "\n"
     ]
    },
    {
     "name": "stderr",
     "output_type": "stream",
     "text": [
      "Epoch 18: 100%|██████████| 201/201 [02:08<00:00,  1.57it/s, train_loss=0.114]\n",
      "Epoch 18: 100%|██████████| 29/29 [00:03<00:00,  7.55it/s, val_loss=0.0943]\n"
     ]
    },
    {
     "name": "stdout",
     "output_type": "stream",
     "text": [
      "Epoch 18: Train pAUC: 0.153084 - Val pAUC: 0.136466 | Train Loss: 3.641127 - Val Loss: 5.945629\n",
      "\n"
     ]
    },
    {
     "name": "stderr",
     "output_type": "stream",
     "text": [
      "Epoch 19: 100%|██████████| 201/201 [02:08<00:00,  1.57it/s, train_loss=0.118]\n",
      "Epoch 19: 100%|██████████| 29/29 [00:03<00:00,  7.47it/s, val_loss=0.0968]\n"
     ]
    },
    {
     "name": "stdout",
     "output_type": "stream",
     "text": [
      "Epoch 19: Train pAUC: 0.150487 - Val pAUC: 0.129525 | Train Loss: 3.761310 - Val Loss: 6.104184\n",
      "\n"
     ]
    },
    {
     "name": "stderr",
     "output_type": "stream",
     "text": [
      "Epoch 20: 100%|██████████| 201/201 [02:08<00:00,  1.57it/s, train_loss=0.117]\n",
      "Epoch 20: 100%|██████████| 29/29 [00:03<00:00,  7.43it/s, val_loss=0.0945]\n"
     ]
    },
    {
     "name": "stdout",
     "output_type": "stream",
     "text": [
      "Epoch 20: Train pAUC: 0.147400 - Val pAUC: 0.135839 | Train Loss: 3.730030 - Val Loss: 5.958096\n",
      "\n"
     ]
    },
    {
     "name": "stderr",
     "output_type": "stream",
     "text": [
      "Epoch 21: 100%|██████████| 201/201 [02:08<00:00,  1.57it/s, train_loss=0.123]\n",
      "Epoch 21: 100%|██████████| 29/29 [00:03<00:00,  7.49it/s, val_loss=0.0964]\n"
     ]
    },
    {
     "name": "stdout",
     "output_type": "stream",
     "text": [
      "New best model found: pAUC = 0.144550 (previous best: 0.140923)\n",
      "Epoch 21: Train pAUC: 0.137907 - Val pAUC: 0.144550 | Train Loss: 3.945995 - Val Loss: 6.078517\n",
      "\n"
     ]
    },
    {
     "name": "stderr",
     "output_type": "stream",
     "text": [
      "Epoch 22: 100%|██████████| 201/201 [02:08<00:00,  1.57it/s, train_loss=0.115]\n",
      "Epoch 22: 100%|██████████| 29/29 [00:03<00:00,  7.48it/s, val_loss=0.0926]\n"
     ]
    },
    {
     "name": "stdout",
     "output_type": "stream",
     "text": [
      "New best model found: pAUC = 0.145118 (previous best: 0.144550)\n",
      "Epoch 22: Train pAUC: 0.149167 - Val pAUC: 0.145118 | Train Loss: 3.673664 - Val Loss: 5.835938\n",
      "\n"
     ]
    },
    {
     "name": "stderr",
     "output_type": "stream",
     "text": [
      "Epoch 23: 100%|██████████| 201/201 [02:08<00:00,  1.57it/s, train_loss=0.101]\n",
      "Epoch 23: 100%|██████████| 29/29 [00:04<00:00,  7.23it/s, val_loss=0.0954]\n"
     ]
    },
    {
     "name": "stdout",
     "output_type": "stream",
     "text": [
      "Epoch 23: Train pAUC: 0.167194 - Val pAUC: 0.135530 | Train Loss: 3.244030 - Val Loss: 6.010786\n",
      "\n"
     ]
    },
    {
     "name": "stderr",
     "output_type": "stream",
     "text": [
      "Epoch 24: 100%|██████████| 201/201 [02:08<00:00,  1.57it/s, train_loss=0.107]\n",
      "Epoch 24: 100%|██████████| 29/29 [00:03<00:00,  7.56it/s, val_loss=0.104]\n"
     ]
    },
    {
     "name": "stdout",
     "output_type": "stream",
     "text": [
      "New best model found: pAUC = 0.145817 (previous best: 0.145118)\n",
      "Epoch 24: Train pAUC: 0.155931 - Val pAUC: 0.145817 | Train Loss: 3.411078 - Val Loss: 6.578479\n",
      "\n"
     ]
    },
    {
     "name": "stderr",
     "output_type": "stream",
     "text": [
      "Epoch 25: 100%|██████████| 201/201 [02:08<00:00,  1.57it/s, train_loss=0.101]\n",
      "Epoch 25: 100%|██████████| 29/29 [00:04<00:00,  7.23it/s, val_loss=0.103]\n"
     ]
    },
    {
     "name": "stdout",
     "output_type": "stream",
     "text": [
      "Epoch 25: Train pAUC: 0.164230 - Val pAUC: 0.120924 | Train Loss: 3.219125 - Val Loss: 6.491374\n",
      "\n"
     ]
    },
    {
     "name": "stderr",
     "output_type": "stream",
     "text": [
      "Epoch 26: 100%|██████████| 201/201 [02:08<00:00,  1.57it/s, train_loss=0.102]\n",
      "Epoch 26: 100%|██████████| 29/29 [00:03<00:00,  7.57it/s, val_loss=0.101]\n"
     ]
    },
    {
     "name": "stdout",
     "output_type": "stream",
     "text": [
      "Epoch 26: Train pAUC: 0.162146 - Val pAUC: 0.138017 | Train Loss: 3.271646 - Val Loss: 6.365648\n",
      "\n"
     ]
    },
    {
     "name": "stderr",
     "output_type": "stream",
     "text": [
      "Epoch 27: 100%|██████████| 201/201 [02:08<00:00,  1.57it/s, train_loss=0.098]\n",
      "Epoch 27: 100%|██████████| 29/29 [00:03<00:00,  7.59it/s, val_loss=0.106]\n"
     ]
    },
    {
     "name": "stdout",
     "output_type": "stream",
     "text": [
      "Epoch 27: Train pAUC: 0.164162 - Val pAUC: 0.128078 | Train Loss: 3.131839 - Val Loss: 6.653654\n",
      "\n"
     ]
    },
    {
     "name": "stderr",
     "output_type": "stream",
     "text": [
      "Epoch 28: 100%|██████████| 201/201 [02:08<00:00,  1.57it/s, train_loss=0.099]\n",
      "Epoch 28: 100%|██████████| 29/29 [00:03<00:00,  7.38it/s, val_loss=0.103]\n"
     ]
    },
    {
     "name": "stdout",
     "output_type": "stream",
     "text": [
      "Epoch 28: Train pAUC: 0.166384 - Val pAUC: 0.145545 | Train Loss: 3.163274 - Val Loss: 6.484281\n",
      "\n"
     ]
    },
    {
     "name": "stderr",
     "output_type": "stream",
     "text": [
      "Epoch 29: 100%|██████████| 201/201 [02:08<00:00,  1.57it/s, train_loss=0.0963]\n",
      "Epoch 29: 100%|██████████| 29/29 [00:03<00:00,  7.54it/s, val_loss=0.104]\n"
     ]
    },
    {
     "name": "stdout",
     "output_type": "stream",
     "text": [
      "Epoch 29: Train pAUC: 0.163532 - Val pAUC: 0.133069 | Train Loss: 3.078089 - Val Loss: 6.580256\n",
      "\n"
     ]
    },
    {
     "name": "stderr",
     "output_type": "stream",
     "text": [
      "Epoch 30: 100%|██████████| 201/201 [02:08<00:00,  1.57it/s, train_loss=0.0964]\n",
      "Epoch 30: 100%|██████████| 29/29 [00:03<00:00,  7.51it/s, val_loss=0.102]\n"
     ]
    },
    {
     "name": "stdout",
     "output_type": "stream",
     "text": [
      "Epoch 30: Train pAUC: 0.163913 - Val pAUC: 0.131220 | Train Loss: 3.081218 - Val Loss: 6.416140\n",
      "\n"
     ]
    },
    {
     "name": "stderr",
     "output_type": "stream",
     "text": [
      "Epoch 31: 100%|██████████| 201/201 [02:08<00:00,  1.57it/s, train_loss=0.093]\n",
      "Epoch 31: 100%|██████████| 29/29 [00:03<00:00,  7.48it/s, val_loss=0.109]\n"
     ]
    },
    {
     "name": "stdout",
     "output_type": "stream",
     "text": [
      "Epoch 31: Train pAUC: 0.166722 - Val pAUC: 0.139012 | Train Loss: 2.974363 - Val Loss: 6.878360\n",
      "\n"
     ]
    },
    {
     "name": "stderr",
     "output_type": "stream",
     "text": [
      "Epoch 32: 100%|██████████| 201/201 [02:08<00:00,  1.57it/s, train_loss=0.0928]\n",
      "Epoch 32: 100%|██████████| 29/29 [00:03<00:00,  7.60it/s, val_loss=0.0993]\n"
     ]
    },
    {
     "name": "stdout",
     "output_type": "stream",
     "text": [
      "Epoch 32: Train pAUC: 0.170210 - Val pAUC: 0.145297 | Train Loss: 2.967473 - Val Loss: 6.260018\n",
      "\n"
     ]
    },
    {
     "name": "stderr",
     "output_type": "stream",
     "text": [
      "Epoch 33: 100%|██████████| 201/201 [02:08<00:00,  1.57it/s, train_loss=0.089]\n",
      "Epoch 33: 100%|██████████| 29/29 [00:03<00:00,  7.55it/s, val_loss=0.0958]\n"
     ]
    },
    {
     "name": "stdout",
     "output_type": "stream",
     "text": [
      "Epoch 33: Train pAUC: 0.172011 - Val pAUC: 0.143118 | Train Loss: 2.845446 - Val Loss: 6.036667\n",
      "\n"
     ]
    },
    {
     "name": "stderr",
     "output_type": "stream",
     "text": [
      "Epoch 34: 100%|██████████| 201/201 [02:08<00:00,  1.57it/s, train_loss=0.0913]\n",
      "Epoch 34: 100%|██████████| 29/29 [00:03<00:00,  7.61it/s, val_loss=0.0976]\n"
     ]
    },
    {
     "name": "stdout",
     "output_type": "stream",
     "text": [
      "New best model found: pAUC = 0.151643 (previous best: 0.145817)\n",
      "Epoch 34: Train pAUC: 0.166804 - Val pAUC: 0.151643 | Train Loss: 2.918387 - Val Loss: 6.153280\n",
      "\n"
     ]
    },
    {
     "name": "stderr",
     "output_type": "stream",
     "text": [
      "Epoch 35: 100%|██████████| 201/201 [02:08<00:00,  1.57it/s, train_loss=0.0902]\n",
      "Epoch 35: 100%|██████████| 29/29 [00:03<00:00,  7.66it/s, val_loss=0.099]\n"
     ]
    },
    {
     "name": "stdout",
     "output_type": "stream",
     "text": [
      "Epoch 35: Train pAUC: 0.171615 - Val pAUC: 0.147698 | Train Loss: 2.884280 - Val Loss: 6.238078\n",
      "\n"
     ]
    },
    {
     "name": "stderr",
     "output_type": "stream",
     "text": [
      "Epoch 36: 100%|██████████| 201/201 [02:08<00:00,  1.57it/s, train_loss=0.0891]\n",
      "Epoch 36: 100%|██████████| 29/29 [00:03<00:00,  7.61it/s, val_loss=0.0954]\n"
     ]
    },
    {
     "name": "stdout",
     "output_type": "stream",
     "text": [
      "Epoch 36: Train pAUC: 0.165531 - Val pAUC: 0.129677 | Train Loss: 2.846500 - Val Loss: 6.013895\n",
      "\n"
     ]
    },
    {
     "name": "stderr",
     "output_type": "stream",
     "text": [
      "Epoch 37: 100%|██████████| 201/201 [02:08<00:00,  1.57it/s, train_loss=0.0788]\n",
      "Epoch 37: 100%|██████████| 29/29 [00:03<00:00,  7.54it/s, val_loss=0.117]\n"
     ]
    },
    {
     "name": "stdout",
     "output_type": "stream",
     "text": [
      "Epoch 37: Train pAUC: 0.175352 - Val pAUC: 0.147530 | Train Loss: 2.518604 - Val Loss: 7.344112\n",
      "\n"
     ]
    },
    {
     "name": "stderr",
     "output_type": "stream",
     "text": [
      "Epoch 38: 100%|██████████| 201/201 [02:08<00:00,  1.57it/s, train_loss=0.0827]\n",
      "Epoch 38: 100%|██████████| 29/29 [00:03<00:00,  7.66it/s, val_loss=0.114]\n"
     ]
    },
    {
     "name": "stdout",
     "output_type": "stream",
     "text": [
      "Epoch 38: Train pAUC: 0.169851 - Val pAUC: 0.144776 | Train Loss: 2.642542 - Val Loss: 7.194007\n",
      "\n"
     ]
    },
    {
     "name": "stderr",
     "output_type": "stream",
     "text": [
      "Epoch 39: 100%|██████████| 201/201 [02:08<00:00,  1.57it/s, train_loss=0.0767]\n",
      "Epoch 39: 100%|██████████| 29/29 [00:03<00:00,  7.62it/s, val_loss=0.0976]\n"
     ]
    },
    {
     "name": "stdout",
     "output_type": "stream",
     "text": [
      "Epoch 39: Train pAUC: 0.177741 - Val pAUC: 0.142601 | Train Loss: 2.451594 - Val Loss: 6.153074\n",
      "\n"
     ]
    },
    {
     "name": "stderr",
     "output_type": "stream",
     "text": [
      "Epoch 40: 100%|██████████| 201/201 [02:08<00:00,  1.57it/s, train_loss=0.0748]\n",
      "Epoch 40: 100%|██████████| 29/29 [00:03<00:00,  7.46it/s, val_loss=0.114]\n"
     ]
    },
    {
     "name": "stdout",
     "output_type": "stream",
     "text": [
      "Epoch 40: Train pAUC: 0.178694 - Val pAUC: 0.134075 | Train Loss: 2.391080 - Val Loss: 7.165620\n",
      "\n"
     ]
    },
    {
     "name": "stderr",
     "output_type": "stream",
     "text": [
      "Epoch 41: 100%|██████████| 201/201 [02:08<00:00,  1.57it/s, train_loss=0.0721]\n",
      "Epoch 41: 100%|██████████| 29/29 [00:03<00:00,  7.54it/s, val_loss=0.114]\n"
     ]
    },
    {
     "name": "stdout",
     "output_type": "stream",
     "text": [
      "Epoch 41: Train pAUC: 0.178957 - Val pAUC: 0.126520 | Train Loss: 2.304590 - Val Loss: 7.172156\n",
      "\n"
     ]
    },
    {
     "name": "stderr",
     "output_type": "stream",
     "text": [
      "Epoch 42: 100%|██████████| 201/201 [02:08<00:00,  1.57it/s, train_loss=0.0719]\n",
      "Epoch 42: 100%|██████████| 29/29 [00:03<00:00,  7.60it/s, val_loss=0.0967]\n"
     ]
    },
    {
     "name": "stdout",
     "output_type": "stream",
     "text": [
      "Epoch 42: Train pAUC: 0.176742 - Val pAUC: 0.146490 | Train Loss: 2.296929 - Val Loss: 6.092960\n",
      "\n"
     ]
    },
    {
     "name": "stderr",
     "output_type": "stream",
     "text": [
      "Epoch 43: 100%|██████████| 201/201 [02:08<00:00,  1.57it/s, train_loss=0.0679]\n",
      "Epoch 43: 100%|██████████| 29/29 [00:03<00:00,  7.59it/s, val_loss=0.123]\n"
     ]
    },
    {
     "name": "stdout",
     "output_type": "stream",
     "text": [
      "Epoch 43: Train pAUC: 0.182244 - Val pAUC: 0.150946 | Train Loss: 2.171543 - Val Loss: 7.735447\n",
      "\n"
     ]
    },
    {
     "name": "stderr",
     "output_type": "stream",
     "text": [
      "Epoch 44: 100%|██████████| 201/201 [02:08<00:00,  1.57it/s, train_loss=0.0716]\n",
      "Epoch 44: 100%|██████████| 29/29 [00:03<00:00,  7.39it/s, val_loss=0.11]\n"
     ]
    },
    {
     "name": "stdout",
     "output_type": "stream",
     "text": [
      "Epoch 44: Train pAUC: 0.179559 - Val pAUC: 0.132502 | Train Loss: 2.288330 - Val Loss: 6.924960\n",
      "\n"
     ]
    },
    {
     "name": "stderr",
     "output_type": "stream",
     "text": [
      "Epoch 45: 100%|██████████| 201/201 [02:08<00:00,  1.57it/s, train_loss=0.061]\n",
      "Epoch 45: 100%|██████████| 29/29 [00:03<00:00,  7.53it/s, val_loss=0.11]\n"
     ]
    },
    {
     "name": "stdout",
     "output_type": "stream",
     "text": [
      "Epoch 45: Train pAUC: 0.184960 - Val pAUC: 0.135263 | Train Loss: 1.951115 - Val Loss: 6.956969\n",
      "\n"
     ]
    },
    {
     "name": "stderr",
     "output_type": "stream",
     "text": [
      "Epoch 46: 100%|██████████| 201/201 [02:08<00:00,  1.57it/s, train_loss=0.0535]\n",
      "Epoch 46: 100%|██████████| 29/29 [00:03<00:00,  7.66it/s, val_loss=0.118]\n"
     ]
    },
    {
     "name": "stdout",
     "output_type": "stream",
     "text": [
      "Epoch 46: Train pAUC: 0.188647 - Val pAUC: 0.136516 | Train Loss: 1.710247 - Val Loss: 7.435348\n",
      "\n"
     ]
    },
    {
     "name": "stderr",
     "output_type": "stream",
     "text": [
      "Epoch 47: 100%|██████████| 201/201 [02:08<00:00,  1.57it/s, train_loss=0.0597]\n",
      "Epoch 47: 100%|██████████| 29/29 [00:03<00:00,  7.30it/s, val_loss=0.116]\n"
     ]
    },
    {
     "name": "stdout",
     "output_type": "stream",
     "text": [
      "Epoch 47: Train pAUC: 0.186757 - Val pAUC: 0.142582 | Train Loss: 1.909397 - Val Loss: 7.308315\n",
      "\n"
     ]
    },
    {
     "name": "stderr",
     "output_type": "stream",
     "text": [
      "Epoch 48: 100%|██████████| 201/201 [02:08<00:00,  1.57it/s, train_loss=0.0577]\n",
      "Epoch 48: 100%|██████████| 29/29 [00:03<00:00,  7.59it/s, val_loss=0.126]\n"
     ]
    },
    {
     "name": "stdout",
     "output_type": "stream",
     "text": [
      "Epoch 48: Train pAUC: 0.187528 - Val pAUC: 0.136228 | Train Loss: 1.843139 - Val Loss: 7.970121\n",
      "\n"
     ]
    },
    {
     "name": "stderr",
     "output_type": "stream",
     "text": [
      "Epoch 49: 100%|██████████| 201/201 [02:08<00:00,  1.57it/s, train_loss=0.0583]\n",
      "Epoch 49: 100%|██████████| 29/29 [00:03<00:00,  7.55it/s, val_loss=0.122]\n"
     ]
    },
    {
     "name": "stdout",
     "output_type": "stream",
     "text": [
      "Early stopping triggered at epoch 49. Best pAUC = 0.151643\n",
      "Epoch 49: Train pAUC: 0.186555 - Val pAUC: 0.148635 | Train Loss: 1.864654 - Val Loss: 7.711548\n",
      "\n"
     ]
    },
    {
     "name": "stderr",
     "output_type": "stream",
     "text": [
      "Prediction: 100%|██████████| 1310/1310 [02:31<00:00,  8.65it/s]\n"
     ]
    },
    {
     "name": "stdout",
     "output_type": "stream",
     "text": [
      "---------------------------------- Fold 2 ----------------------------------\n",
      "\n",
      "\n",
      "---------------------------------- Fold 3 ----------------------------------\n"
     ]
    },
    {
     "name": "stderr",
     "output_type": "stream",
     "text": [
      "Epoch 1: 100%|██████████| 218/218 [02:18<00:00,  1.57it/s, train_loss=0.221]\n",
      "Epoch 1: 100%|██████████| 21/21 [00:03<00:00,  6.91it/s, val_loss=0.234]\n"
     ]
    },
    {
     "name": "stdout",
     "output_type": "stream",
     "text": [
      "Epoch 1: Train pAUC: 0.044725 - Val pAUC: 0.063940 | Train Loss: 7.051363 - Val Loss: 14.540475\n",
      "\n"
     ]
    },
    {
     "name": "stderr",
     "output_type": "stream",
     "text": [
      "Epoch 2: 100%|██████████| 218/218 [02:18<00:00,  1.57it/s, train_loss=0.165]\n",
      "Epoch 2: 100%|██████████| 21/21 [00:02<00:00,  7.25it/s, val_loss=0.15]\n"
     ]
    },
    {
     "name": "stdout",
     "output_type": "stream",
     "text": [
      "New best model found: pAUC = 0.120201 (previous best: 0.063940)\n",
      "Epoch 2: Train pAUC: 0.076938 - Val pAUC: 0.120201 | Train Loss: 5.270506 - Val Loss: 9.348022\n",
      "\n"
     ]
    },
    {
     "name": "stderr",
     "output_type": "stream",
     "text": [
      "Epoch 3: 100%|██████████| 218/218 [02:18<00:00,  1.57it/s, train_loss=0.158]\n",
      "Epoch 3: 100%|██████████| 21/21 [00:02<00:00,  7.25it/s, val_loss=0.171]\n"
     ]
    },
    {
     "name": "stdout",
     "output_type": "stream",
     "text": [
      "Epoch 3: Train pAUC: 0.072069 - Val pAUC: 0.111989 | Train Loss: 5.033764 - Val Loss: 10.612620\n",
      "\n"
     ]
    },
    {
     "name": "stderr",
     "output_type": "stream",
     "text": [
      "Epoch 4: 100%|██████████| 218/218 [02:18<00:00,  1.57it/s, train_loss=0.148]\n",
      "Epoch 4: 100%|██████████| 21/21 [00:02<00:00,  7.34it/s, val_loss=0.142]\n"
     ]
    },
    {
     "name": "stdout",
     "output_type": "stream",
     "text": [
      "New best model found: pAUC = 0.135319 (previous best: 0.120201)\n",
      "Epoch 4: Train pAUC: 0.098212 - Val pAUC: 0.135319 | Train Loss: 4.719166 - Val Loss: 8.831224\n",
      "\n"
     ]
    },
    {
     "name": "stderr",
     "output_type": "stream",
     "text": [
      "Epoch 5: 100%|██████████| 218/218 [02:18<00:00,  1.57it/s, train_loss=0.142]\n",
      "Epoch 5: 100%|██████████| 21/21 [00:02<00:00,  7.16it/s, val_loss=0.133]\n"
     ]
    },
    {
     "name": "stdout",
     "output_type": "stream",
     "text": [
      "New best model found: pAUC = 0.139997 (previous best: 0.135319)\n",
      "Epoch 5: Train pAUC: 0.099069 - Val pAUC: 0.139997 | Train Loss: 4.511760 - Val Loss: 8.239992\n",
      "\n"
     ]
    },
    {
     "name": "stderr",
     "output_type": "stream",
     "text": [
      "Epoch 6: 100%|██████████| 218/218 [02:18<00:00,  1.57it/s, train_loss=0.136]\n",
      "Epoch 6: 100%|██████████| 21/21 [00:02<00:00,  7.24it/s, val_loss=0.153]\n"
     ]
    },
    {
     "name": "stdout",
     "output_type": "stream",
     "text": [
      "Epoch 6: Train pAUC: 0.105097 - Val pAUC: 0.111887 | Train Loss: 4.332327 - Val Loss: 9.483927\n",
      "\n"
     ]
    },
    {
     "name": "stderr",
     "output_type": "stream",
     "text": [
      "Epoch 7: 100%|██████████| 218/218 [02:18<00:00,  1.57it/s, train_loss=0.131]\n",
      "Epoch 7: 100%|██████████| 21/21 [00:02<00:00,  7.21it/s, val_loss=0.138]\n"
     ]
    },
    {
     "name": "stdout",
     "output_type": "stream",
     "text": [
      "Epoch 7: Train pAUC: 0.122095 - Val pAUC: 0.126427 | Train Loss: 4.178681 - Val Loss: 8.590719\n",
      "\n"
     ]
    },
    {
     "name": "stderr",
     "output_type": "stream",
     "text": [
      "Epoch 8: 100%|██████████| 218/218 [02:18<00:00,  1.57it/s, train_loss=0.129]\n",
      "Epoch 8: 100%|██████████| 21/21 [00:02<00:00,  7.29it/s, val_loss=0.135]\n"
     ]
    },
    {
     "name": "stdout",
     "output_type": "stream",
     "text": [
      "Epoch 8: Train pAUC: 0.117759 - Val pAUC: 0.106590 | Train Loss: 4.109474 - Val Loss: 8.407777\n",
      "\n"
     ]
    },
    {
     "name": "stderr",
     "output_type": "stream",
     "text": [
      "Epoch 9: 100%|██████████| 218/218 [02:18<00:00,  1.57it/s, train_loss=0.124]\n",
      "Epoch 9: 100%|██████████| 21/21 [00:03<00:00,  6.65it/s, val_loss=0.132]\n"
     ]
    },
    {
     "name": "stdout",
     "output_type": "stream",
     "text": [
      "Epoch 9: Train pAUC: 0.126459 - Val pAUC: 0.130376 | Train Loss: 3.943363 - Val Loss: 8.181703\n",
      "\n"
     ]
    },
    {
     "name": "stderr",
     "output_type": "stream",
     "text": [
      "Epoch 10: 100%|██████████| 218/218 [02:18<00:00,  1.57it/s, train_loss=0.122]\n",
      "Epoch 10: 100%|██████████| 21/21 [00:02<00:00,  7.15it/s, val_loss=0.142]\n"
     ]
    },
    {
     "name": "stdout",
     "output_type": "stream",
     "text": [
      "Epoch 10: Train pAUC: 0.134511 - Val pAUC: 0.122996 | Train Loss: 3.894672 - Val Loss: 8.849914\n",
      "\n"
     ]
    },
    {
     "name": "stderr",
     "output_type": "stream",
     "text": [
      "Epoch 11: 100%|██████████| 218/218 [02:18<00:00,  1.57it/s, train_loss=0.121]\n",
      "Epoch 11: 100%|██████████| 21/21 [00:02<00:00,  7.18it/s, val_loss=0.129]\n"
     ]
    },
    {
     "name": "stdout",
     "output_type": "stream",
     "text": [
      "Epoch 11: Train pAUC: 0.130450 - Val pAUC: 0.135884 | Train Loss: 3.848689 - Val Loss: 8.037980\n",
      "\n"
     ]
    },
    {
     "name": "stderr",
     "output_type": "stream",
     "text": [
      "Epoch 12: 100%|██████████| 218/218 [02:18<00:00,  1.57it/s, train_loss=0.118]\n",
      "Epoch 12: 100%|██████████| 21/21 [00:02<00:00,  7.24it/s, val_loss=0.127]\n"
     ]
    },
    {
     "name": "stdout",
     "output_type": "stream",
     "text": [
      "Epoch 12: Train pAUC: 0.134180 - Val pAUC: 0.136330 | Train Loss: 3.772451 - Val Loss: 7.911222\n",
      "\n"
     ]
    },
    {
     "name": "stderr",
     "output_type": "stream",
     "text": [
      "Epoch 13: 100%|██████████| 218/218 [02:18<00:00,  1.57it/s, train_loss=0.12]\n",
      "Epoch 13: 100%|██████████| 21/21 [00:02<00:00,  7.27it/s, val_loss=0.125]\n"
     ]
    },
    {
     "name": "stdout",
     "output_type": "stream",
     "text": [
      "New best model found: pAUC = 0.141793 (previous best: 0.139997)\n",
      "Epoch 13: Train pAUC: 0.133005 - Val pAUC: 0.141793 | Train Loss: 3.831551 - Val Loss: 7.739020\n",
      "\n"
     ]
    },
    {
     "name": "stderr",
     "output_type": "stream",
     "text": [
      "Epoch 14: 100%|██████████| 218/218 [02:18<00:00,  1.57it/s, train_loss=0.118]\n",
      "Epoch 14: 100%|██████████| 21/21 [00:03<00:00,  6.92it/s, val_loss=0.126]\n"
     ]
    },
    {
     "name": "stdout",
     "output_type": "stream",
     "text": [
      "Epoch 14: Train pAUC: 0.140218 - Val pAUC: 0.135840 | Train Loss: 3.757281 - Val Loss: 7.809136\n",
      "\n"
     ]
    },
    {
     "name": "stderr",
     "output_type": "stream",
     "text": [
      "Epoch 15: 100%|██████████| 218/218 [02:18<00:00,  1.57it/s, train_loss=0.113]\n",
      "Epoch 15: 100%|██████████| 21/21 [00:02<00:00,  7.41it/s, val_loss=0.147]\n"
     ]
    },
    {
     "name": "stdout",
     "output_type": "stream",
     "text": [
      "Epoch 15: Train pAUC: 0.140826 - Val pAUC: 0.130687 | Train Loss: 3.616747 - Val Loss: 9.165008\n",
      "\n"
     ]
    },
    {
     "name": "stderr",
     "output_type": "stream",
     "text": [
      "Epoch 16: 100%|██████████| 218/218 [02:18<00:00,  1.57it/s, train_loss=0.11]\n",
      "Epoch 16: 100%|██████████| 21/21 [00:03<00:00,  6.93it/s, val_loss=0.14]\n"
     ]
    },
    {
     "name": "stdout",
     "output_type": "stream",
     "text": [
      "Epoch 16: Train pAUC: 0.150654 - Val pAUC: 0.139691 | Train Loss: 3.509010 - Val Loss: 8.698652\n",
      "\n"
     ]
    },
    {
     "name": "stderr",
     "output_type": "stream",
     "text": [
      "Epoch 17: 100%|██████████| 218/218 [02:18<00:00,  1.57it/s, train_loss=0.112]\n",
      "Epoch 17: 100%|██████████| 21/21 [00:02<00:00,  7.32it/s, val_loss=0.129]\n"
     ]
    },
    {
     "name": "stdout",
     "output_type": "stream",
     "text": [
      "Epoch 17: Train pAUC: 0.142876 - Val pAUC: 0.122538 | Train Loss: 3.566582 - Val Loss: 8.035494\n",
      "\n"
     ]
    },
    {
     "name": "stderr",
     "output_type": "stream",
     "text": [
      "Epoch 18: 100%|██████████| 218/218 [02:18<00:00,  1.57it/s, train_loss=0.11]\n",
      "Epoch 18: 100%|██████████| 21/21 [00:02<00:00,  7.09it/s, val_loss=0.119]\n"
     ]
    },
    {
     "name": "stdout",
     "output_type": "stream",
     "text": [
      "New best model found: pAUC = 0.153466 (previous best: 0.141793)\n",
      "Epoch 18: Train pAUC: 0.147752 - Val pAUC: 0.153466 | Train Loss: 3.502621 - Val Loss: 7.405103\n",
      "\n"
     ]
    },
    {
     "name": "stderr",
     "output_type": "stream",
     "text": [
      "Epoch 19: 100%|██████████| 218/218 [02:18<00:00,  1.57it/s, train_loss=0.111]\n",
      "Epoch 19: 100%|██████████| 21/21 [00:03<00:00,  6.98it/s, val_loss=0.126]\n"
     ]
    },
    {
     "name": "stdout",
     "output_type": "stream",
     "text": [
      "Epoch 19: Train pAUC: 0.139857 - Val pAUC: 0.127386 | Train Loss: 3.542284 - Val Loss: 7.800060\n",
      "\n"
     ]
    },
    {
     "name": "stderr",
     "output_type": "stream",
     "text": [
      "Epoch 20: 100%|██████████| 218/218 [02:18<00:00,  1.57it/s, train_loss=0.105]\n",
      "Epoch 20: 100%|██████████| 21/21 [00:02<00:00,  7.35it/s, val_loss=0.15]\n"
     ]
    },
    {
     "name": "stdout",
     "output_type": "stream",
     "text": [
      "Epoch 20: Train pAUC: 0.153105 - Val pAUC: 0.126043 | Train Loss: 3.338433 - Val Loss: 9.336368\n",
      "\n"
     ]
    },
    {
     "name": "stderr",
     "output_type": "stream",
     "text": [
      "Epoch 21: 100%|██████████| 218/218 [02:18<00:00,  1.57it/s, train_loss=0.108]\n",
      "Epoch 21: 100%|██████████| 21/21 [00:02<00:00,  7.22it/s, val_loss=0.122]\n"
     ]
    },
    {
     "name": "stdout",
     "output_type": "stream",
     "text": [
      "Epoch 21: Train pAUC: 0.147668 - Val pAUC: 0.129959 | Train Loss: 3.429498 - Val Loss: 7.582875\n",
      "\n"
     ]
    },
    {
     "name": "stderr",
     "output_type": "stream",
     "text": [
      "Epoch 22: 100%|██████████| 218/218 [02:18<00:00,  1.57it/s, train_loss=0.109]\n",
      "Epoch 22: 100%|██████████| 21/21 [00:02<00:00,  7.24it/s, val_loss=0.124]\n"
     ]
    },
    {
     "name": "stdout",
     "output_type": "stream",
     "text": [
      "Epoch 22: Train pAUC: 0.143989 - Val pAUC: 0.138124 | Train Loss: 3.458116 - Val Loss: 7.704023\n",
      "\n"
     ]
    },
    {
     "name": "stderr",
     "output_type": "stream",
     "text": [
      "Epoch 23: 100%|██████████| 218/218 [02:18<00:00,  1.57it/s, train_loss=0.101]\n",
      "Epoch 23: 100%|██████████| 21/21 [00:02<00:00,  7.34it/s, val_loss=0.122]\n"
     ]
    },
    {
     "name": "stdout",
     "output_type": "stream",
     "text": [
      "Epoch 23: Train pAUC: 0.158333 - Val pAUC: 0.145627 | Train Loss: 3.211961 - Val Loss: 7.584369\n",
      "\n"
     ]
    },
    {
     "name": "stderr",
     "output_type": "stream",
     "text": [
      "Epoch 24: 100%|██████████| 218/218 [02:18<00:00,  1.57it/s, train_loss=0.107]\n",
      "Epoch 24: 100%|██████████| 21/21 [00:02<00:00,  7.24it/s, val_loss=0.122]\n"
     ]
    },
    {
     "name": "stdout",
     "output_type": "stream",
     "text": [
      "Epoch 24: Train pAUC: 0.146325 - Val pAUC: 0.150949 | Train Loss: 3.421749 - Val Loss: 7.560263\n",
      "\n"
     ]
    },
    {
     "name": "stderr",
     "output_type": "stream",
     "text": [
      "Epoch 25: 100%|██████████| 218/218 [02:18<00:00,  1.57it/s, train_loss=0.105]\n",
      "Epoch 25: 100%|██████████| 21/21 [00:02<00:00,  7.28it/s, val_loss=0.12]\n"
     ]
    },
    {
     "name": "stdout",
     "output_type": "stream",
     "text": [
      "Epoch 25: Train pAUC: 0.156617 - Val pAUC: 0.138919 | Train Loss: 3.340546 - Val Loss: 7.447004\n",
      "\n"
     ]
    },
    {
     "name": "stderr",
     "output_type": "stream",
     "text": [
      "Epoch 26: 100%|██████████| 218/218 [02:18<00:00,  1.57it/s, train_loss=0.102]\n",
      "Epoch 26: 100%|██████████| 21/21 [00:02<00:00,  7.18it/s, val_loss=0.124]\n"
     ]
    },
    {
     "name": "stdout",
     "output_type": "stream",
     "text": [
      "Epoch 26: Train pAUC: 0.155792 - Val pAUC: 0.149454 | Train Loss: 3.265750 - Val Loss: 7.736547\n",
      "\n"
     ]
    },
    {
     "name": "stderr",
     "output_type": "stream",
     "text": [
      "Epoch 27: 100%|██████████| 218/218 [02:18<00:00,  1.57it/s, train_loss=0.0981]\n",
      "Epoch 27: 100%|██████████| 21/21 [00:02<00:00,  7.24it/s, val_loss=0.116]\n"
     ]
    },
    {
     "name": "stdout",
     "output_type": "stream",
     "text": [
      "New best model found: pAUC = 0.158040 (previous best: 0.153466)\n",
      "Epoch 27: Train pAUC: 0.155003 - Val pAUC: 0.158040 | Train Loss: 3.126269 - Val Loss: 7.230402\n",
      "\n"
     ]
    },
    {
     "name": "stderr",
     "output_type": "stream",
     "text": [
      "Epoch 28: 100%|██████████| 218/218 [02:18<00:00,  1.57it/s, train_loss=0.103]\n",
      "Epoch 28: 100%|██████████| 21/21 [00:02<00:00,  7.24it/s, val_loss=0.112]\n"
     ]
    },
    {
     "name": "stdout",
     "output_type": "stream",
     "text": [
      "New best model found: pAUC = 0.160078 (previous best: 0.158040)\n",
      "Epoch 28: Train pAUC: 0.146803 - Val pAUC: 0.160078 | Train Loss: 3.270137 - Val Loss: 6.981712\n",
      "\n"
     ]
    },
    {
     "name": "stderr",
     "output_type": "stream",
     "text": [
      "Epoch 29: 100%|██████████| 218/218 [02:18<00:00,  1.57it/s, train_loss=0.095]\n",
      "Epoch 29: 100%|██████████| 21/21 [00:02<00:00,  7.26it/s, val_loss=0.127]\n"
     ]
    },
    {
     "name": "stdout",
     "output_type": "stream",
     "text": [
      "Epoch 29: Train pAUC: 0.162983 - Val pAUC: 0.139604 | Train Loss: 3.027910 - Val Loss: 7.889746\n",
      "\n"
     ]
    },
    {
     "name": "stderr",
     "output_type": "stream",
     "text": [
      "Epoch 30: 100%|██████████| 218/218 [02:18<00:00,  1.57it/s, train_loss=0.0969]\n",
      "Epoch 30: 100%|██████████| 21/21 [00:03<00:00,  6.98it/s, val_loss=0.125]\n"
     ]
    },
    {
     "name": "stdout",
     "output_type": "stream",
     "text": [
      "Epoch 30: Train pAUC: 0.156450 - Val pAUC: 0.152408 | Train Loss: 3.089031 - Val Loss: 7.747543\n",
      "\n"
     ]
    },
    {
     "name": "stderr",
     "output_type": "stream",
     "text": [
      "Epoch 31: 100%|██████████| 218/218 [02:18<00:00,  1.57it/s, train_loss=0.106]\n",
      "Epoch 31: 100%|██████████| 21/21 [00:02<00:00,  7.04it/s, val_loss=0.125]\n"
     ]
    },
    {
     "name": "stdout",
     "output_type": "stream",
     "text": [
      "Epoch 31: Train pAUC: 0.139336 - Val pAUC: 0.145618 | Train Loss: 3.362710 - Val Loss: 7.789392\n",
      "\n"
     ]
    },
    {
     "name": "stderr",
     "output_type": "stream",
     "text": [
      "Epoch 32: 100%|██████████| 218/218 [02:18<00:00,  1.57it/s, train_loss=0.0954]\n",
      "Epoch 32: 100%|██████████| 21/21 [00:02<00:00,  7.27it/s, val_loss=0.123]\n"
     ]
    },
    {
     "name": "stdout",
     "output_type": "stream",
     "text": [
      "Epoch 32: Train pAUC: 0.152342 - Val pAUC: 0.142220 | Train Loss: 3.041651 - Val Loss: 7.628401\n",
      "\n"
     ]
    },
    {
     "name": "stderr",
     "output_type": "stream",
     "text": [
      "Epoch 33: 100%|██████████| 218/218 [02:18<00:00,  1.57it/s, train_loss=0.0948]\n",
      "Epoch 33: 100%|██████████| 21/21 [00:02<00:00,  7.32it/s, val_loss=0.119]\n"
     ]
    },
    {
     "name": "stdout",
     "output_type": "stream",
     "text": [
      "Epoch 33: Train pAUC: 0.160336 - Val pAUC: 0.154812 | Train Loss: 3.022483 - Val Loss: 7.391300\n",
      "\n"
     ]
    },
    {
     "name": "stderr",
     "output_type": "stream",
     "text": [
      "Epoch 34: 100%|██████████| 218/218 [02:18<00:00,  1.57it/s, train_loss=0.0879]\n",
      "Epoch 34: 100%|██████████| 21/21 [00:02<00:00,  7.25it/s, val_loss=0.12]\n"
     ]
    },
    {
     "name": "stdout",
     "output_type": "stream",
     "text": [
      "Epoch 34: Train pAUC: 0.168579 - Val pAUC: 0.155554 | Train Loss: 2.801687 - Val Loss: 7.480127\n",
      "\n"
     ]
    },
    {
     "name": "stderr",
     "output_type": "stream",
     "text": [
      "Epoch 35: 100%|██████████| 218/218 [02:18<00:00,  1.57it/s, train_loss=0.0877]\n",
      "Epoch 35: 100%|██████████| 21/21 [00:02<00:00,  7.33it/s, val_loss=0.131]\n"
     ]
    },
    {
     "name": "stdout",
     "output_type": "stream",
     "text": [
      "Epoch 35: Train pAUC: 0.166597 - Val pAUC: 0.149372 | Train Loss: 2.796372 - Val Loss: 8.130397\n",
      "\n"
     ]
    },
    {
     "name": "stderr",
     "output_type": "stream",
     "text": [
      "Epoch 36: 100%|██████████| 218/218 [02:18<00:00,  1.57it/s, train_loss=0.0855]\n",
      "Epoch 36: 100%|██████████| 21/21 [00:02<00:00,  7.23it/s, val_loss=0.126]\n"
     ]
    },
    {
     "name": "stdout",
     "output_type": "stream",
     "text": [
      "Epoch 36: Train pAUC: 0.161010 - Val pAUC: 0.124778 | Train Loss: 2.725025 - Val Loss: 7.830634\n",
      "\n"
     ]
    },
    {
     "name": "stderr",
     "output_type": "stream",
     "text": [
      "Epoch 37: 100%|██████████| 218/218 [02:18<00:00,  1.57it/s, train_loss=0.0795]\n",
      "Epoch 37: 100%|██████████| 21/21 [00:02<00:00,  7.31it/s, val_loss=0.128]\n"
     ]
    },
    {
     "name": "stdout",
     "output_type": "stream",
     "text": [
      "Epoch 37: Train pAUC: 0.178104 - Val pAUC: 0.131054 | Train Loss: 2.533540 - Val Loss: 7.955167\n",
      "\n"
     ]
    },
    {
     "name": "stderr",
     "output_type": "stream",
     "text": [
      "Epoch 38: 100%|██████████| 218/218 [02:18<00:00,  1.57it/s, train_loss=0.078]\n",
      "Epoch 38: 100%|██████████| 21/21 [00:02<00:00,  7.26it/s, val_loss=0.123]\n"
     ]
    },
    {
     "name": "stdout",
     "output_type": "stream",
     "text": [
      "Epoch 38: Train pAUC: 0.176628 - Val pAUC: 0.146599 | Train Loss: 2.484834 - Val Loss: 7.616971\n",
      "\n"
     ]
    },
    {
     "name": "stderr",
     "output_type": "stream",
     "text": [
      "Epoch 39: 100%|██████████| 218/218 [02:18<00:00,  1.57it/s, train_loss=0.0751]\n",
      "Epoch 39: 100%|██████████| 21/21 [00:02<00:00,  7.34it/s, val_loss=0.116]\n"
     ]
    },
    {
     "name": "stdout",
     "output_type": "stream",
     "text": [
      "Epoch 39: Train pAUC: 0.176364 - Val pAUC: 0.150020 | Train Loss: 2.395009 - Val Loss: 7.239237\n",
      "\n"
     ]
    },
    {
     "name": "stderr",
     "output_type": "stream",
     "text": [
      "Epoch 40: 100%|██████████| 218/218 [02:18<00:00,  1.57it/s, train_loss=0.0776]\n",
      "Epoch 40: 100%|██████████| 21/21 [00:02<00:00,  7.32it/s, val_loss=0.139]\n"
     ]
    },
    {
     "name": "stdout",
     "output_type": "stream",
     "text": [
      "Epoch 40: Train pAUC: 0.174417 - Val pAUC: 0.139185 | Train Loss: 2.471776 - Val Loss: 8.666135\n",
      "\n"
     ]
    },
    {
     "name": "stderr",
     "output_type": "stream",
     "text": [
      "Epoch 41: 100%|██████████| 218/218 [02:18<00:00,  1.57it/s, train_loss=0.0803]\n",
      "Epoch 41: 100%|██████████| 21/21 [00:02<00:00,  7.29it/s, val_loss=0.117]\n"
     ]
    },
    {
     "name": "stdout",
     "output_type": "stream",
     "text": [
      "Epoch 41: Train pAUC: 0.169641 - Val pAUC: 0.155434 | Train Loss: 2.558451 - Val Loss: 7.274185\n",
      "\n"
     ]
    },
    {
     "name": "stderr",
     "output_type": "stream",
     "text": [
      "Epoch 42: 100%|██████████| 218/218 [02:18<00:00,  1.57it/s, train_loss=0.0714]\n",
      "Epoch 42: 100%|██████████| 21/21 [00:02<00:00,  7.37it/s, val_loss=0.124]\n"
     ]
    },
    {
     "name": "stdout",
     "output_type": "stream",
     "text": [
      "Epoch 42: Train pAUC: 0.180120 - Val pAUC: 0.156955 | Train Loss: 2.274657 - Val Loss: 7.718105\n",
      "\n"
     ]
    },
    {
     "name": "stderr",
     "output_type": "stream",
     "text": [
      "Epoch 43: 100%|██████████| 218/218 [02:18<00:00,  1.57it/s, train_loss=0.0712]\n",
      "Epoch 43: 100%|██████████| 21/21 [00:02<00:00,  7.30it/s, val_loss=0.14]\n"
     ]
    },
    {
     "name": "stdout",
     "output_type": "stream",
     "text": [
      "Early stopping triggered at epoch 43. Best pAUC = 0.160078\n",
      "Epoch 43: Train pAUC: 0.175257 - Val pAUC: 0.157396 | Train Loss: 2.268782 - Val Loss: 8.695425\n",
      "\n"
     ]
    },
    {
     "name": "stderr",
     "output_type": "stream",
     "text": [
      "Prediction: 100%|██████████| 1191/1191 [02:17<00:00,  8.65it/s]\n"
     ]
    },
    {
     "name": "stdout",
     "output_type": "stream",
     "text": [
      "---------------------------------- Fold 3 ----------------------------------\n",
      "\n",
      "\n",
      "---------------------------------- Fold 4 ----------------------------------\n"
     ]
    },
    {
     "name": "stderr",
     "output_type": "stream",
     "text": [
      "Epoch 1: 100%|██████████| 205/205 [02:10<00:00,  1.57it/s, train_loss=0.233]\n",
      "Epoch 1: 100%|██████████| 27/27 [00:03<00:00,  7.49it/s, val_loss=0.17]\n"
     ]
    },
    {
     "name": "stdout",
     "output_type": "stream",
     "text": [
      "Epoch 1: Train pAUC: 0.035674 - Val pAUC: 0.045616 | Train Loss: 7.432745 - Val Loss: 10.702635\n",
      "\n"
     ]
    },
    {
     "name": "stderr",
     "output_type": "stream",
     "text": [
      "Epoch 2: 100%|██████████| 205/205 [02:10<00:00,  1.57it/s, train_loss=0.185]\n",
      "Epoch 2: 100%|██████████| 27/27 [00:03<00:00,  7.44it/s, val_loss=0.157]\n"
     ]
    },
    {
     "name": "stdout",
     "output_type": "stream",
     "text": [
      "New best model found: pAUC = 0.063879 (previous best: 0.045616)\n",
      "Epoch 2: Train pAUC: 0.049928 - Val pAUC: 0.063879 | Train Loss: 5.904048 - Val Loss: 9.910469\n",
      "\n"
     ]
    },
    {
     "name": "stderr",
     "output_type": "stream",
     "text": [
      "Epoch 3: 100%|██████████| 205/205 [02:10<00:00,  1.57it/s, train_loss=0.166]\n",
      "Epoch 3: 100%|██████████| 27/27 [00:03<00:00,  7.48it/s, val_loss=0.141]\n"
     ]
    },
    {
     "name": "stdout",
     "output_type": "stream",
     "text": [
      "New best model found: pAUC = 0.096962 (previous best: 0.063879)\n",
      "Epoch 3: Train pAUC: 0.074604 - Val pAUC: 0.096962 | Train Loss: 5.309614 - Val Loss: 8.911862\n",
      "\n"
     ]
    },
    {
     "name": "stderr",
     "output_type": "stream",
     "text": [
      "Epoch 4: 100%|██████████| 205/205 [02:10<00:00,  1.57it/s, train_loss=0.156]\n",
      "Epoch 4: 100%|██████████| 27/27 [00:03<00:00,  7.48it/s, val_loss=0.128]\n"
     ]
    },
    {
     "name": "stdout",
     "output_type": "stream",
     "text": [
      "New best model found: pAUC = 0.103127 (previous best: 0.096962)\n",
      "Epoch 4: Train pAUC: 0.081869 - Val pAUC: 0.103127 | Train Loss: 4.981633 - Val Loss: 8.045148\n",
      "\n"
     ]
    },
    {
     "name": "stderr",
     "output_type": "stream",
     "text": [
      "Epoch 5: 100%|██████████| 205/205 [02:10<00:00,  1.57it/s, train_loss=0.148]\n",
      "Epoch 5: 100%|██████████| 27/27 [00:03<00:00,  7.52it/s, val_loss=0.133]\n"
     ]
    },
    {
     "name": "stdout",
     "output_type": "stream",
     "text": [
      "Epoch 5: Train pAUC: 0.093161 - Val pAUC: 0.100763 | Train Loss: 4.720280 - Val Loss: 8.413190\n",
      "\n"
     ]
    },
    {
     "name": "stderr",
     "output_type": "stream",
     "text": [
      "Epoch 6: 100%|██████████| 205/205 [02:10<00:00,  1.57it/s, train_loss=0.142]\n",
      "Epoch 6: 100%|██████████| 27/27 [00:03<00:00,  7.54it/s, val_loss=0.121]\n"
     ]
    },
    {
     "name": "stdout",
     "output_type": "stream",
     "text": [
      "New best model found: pAUC = 0.126563 (previous best: 0.103127)\n",
      "Epoch 6: Train pAUC: 0.101532 - Val pAUC: 0.126563 | Train Loss: 4.546232 - Val Loss: 7.660713\n",
      "\n"
     ]
    },
    {
     "name": "stderr",
     "output_type": "stream",
     "text": [
      "Epoch 7: 100%|██████████| 205/205 [02:10<00:00,  1.57it/s, train_loss=0.137]\n",
      "Epoch 7: 100%|██████████| 27/27 [00:03<00:00,  7.48it/s, val_loss=0.116]\n"
     ]
    },
    {
     "name": "stdout",
     "output_type": "stream",
     "text": [
      "New best model found: pAUC = 0.143337 (previous best: 0.126563)\n",
      "Epoch 7: Train pAUC: 0.116869 - Val pAUC: 0.143337 | Train Loss: 4.366852 - Val Loss: 7.313995\n",
      "\n"
     ]
    },
    {
     "name": "stderr",
     "output_type": "stream",
     "text": [
      "Epoch 8: 100%|██████████| 205/205 [02:10<00:00,  1.57it/s, train_loss=0.136]\n",
      "Epoch 8: 100%|██████████| 27/27 [00:03<00:00,  7.44it/s, val_loss=0.119]\n"
     ]
    },
    {
     "name": "stdout",
     "output_type": "stream",
     "text": [
      "Epoch 8: Train pAUC: 0.110012 - Val pAUC: 0.131768 | Train Loss: 4.347410 - Val Loss: 7.522222\n",
      "\n"
     ]
    },
    {
     "name": "stderr",
     "output_type": "stream",
     "text": [
      "Epoch 9: 100%|██████████| 205/205 [02:10<00:00,  1.57it/s, train_loss=0.124]\n",
      "Epoch 9: 100%|██████████| 27/27 [00:03<00:00,  7.47it/s, val_loss=0.125]\n"
     ]
    },
    {
     "name": "stdout",
     "output_type": "stream",
     "text": [
      "Epoch 9: Train pAUC: 0.128821 - Val pAUC: 0.136709 | Train Loss: 3.969745 - Val Loss: 7.869691\n",
      "\n"
     ]
    },
    {
     "name": "stderr",
     "output_type": "stream",
     "text": [
      "Epoch 10: 100%|██████████| 205/205 [02:10<00:00,  1.57it/s, train_loss=0.126]\n",
      "Epoch 10: 100%|██████████| 27/27 [00:03<00:00,  6.82it/s, val_loss=0.113]\n"
     ]
    },
    {
     "name": "stdout",
     "output_type": "stream",
     "text": [
      "Epoch 10: Train pAUC: 0.129537 - Val pAUC: 0.133873 | Train Loss: 4.028793 - Val Loss: 7.154172\n",
      "\n"
     ]
    },
    {
     "name": "stderr",
     "output_type": "stream",
     "text": [
      "Epoch 11: 100%|██████████| 205/205 [02:10<00:00,  1.57it/s, train_loss=0.125]\n",
      "Epoch 11: 100%|██████████| 27/27 [00:03<00:00,  7.49it/s, val_loss=0.111]\n"
     ]
    },
    {
     "name": "stdout",
     "output_type": "stream",
     "text": [
      "New best model found: pAUC = 0.153411 (previous best: 0.143337)\n",
      "Epoch 11: Train pAUC: 0.135844 - Val pAUC: 0.153411 | Train Loss: 4.007008 - Val Loss: 7.010855\n",
      "\n"
     ]
    },
    {
     "name": "stderr",
     "output_type": "stream",
     "text": [
      "Epoch 12: 100%|██████████| 205/205 [02:10<00:00,  1.57it/s, train_loss=0.119]\n",
      "Epoch 12: 100%|██████████| 27/27 [00:03<00:00,  7.46it/s, val_loss=0.11]\n"
     ]
    },
    {
     "name": "stdout",
     "output_type": "stream",
     "text": [
      "Epoch 12: Train pAUC: 0.135225 - Val pAUC: 0.148569 | Train Loss: 3.814075 - Val Loss: 6.929290\n",
      "\n"
     ]
    },
    {
     "name": "stderr",
     "output_type": "stream",
     "text": [
      "Epoch 13: 100%|██████████| 205/205 [02:10<00:00,  1.57it/s, train_loss=0.12]\n",
      "Epoch 13: 100%|██████████| 27/27 [00:03<00:00,  7.49it/s, val_loss=0.109]\n"
     ]
    },
    {
     "name": "stdout",
     "output_type": "stream",
     "text": [
      "Epoch 13: Train pAUC: 0.135009 - Val pAUC: 0.147084 | Train Loss: 3.840454 - Val Loss: 6.880646\n",
      "\n"
     ]
    },
    {
     "name": "stderr",
     "output_type": "stream",
     "text": [
      "Epoch 14: 100%|██████████| 205/205 [02:10<00:00,  1.57it/s, train_loss=0.122]\n",
      "Epoch 14: 100%|██████████| 27/27 [00:03<00:00,  7.52it/s, val_loss=0.11]\n"
     ]
    },
    {
     "name": "stdout",
     "output_type": "stream",
     "text": [
      "Epoch 14: Train pAUC: 0.127719 - Val pAUC: 0.140560 | Train Loss: 3.893333 - Val Loss: 6.907481\n",
      "\n"
     ]
    },
    {
     "name": "stderr",
     "output_type": "stream",
     "text": [
      "Epoch 15: 100%|██████████| 205/205 [02:10<00:00,  1.57it/s, train_loss=0.117]\n",
      "Epoch 15: 100%|██████████| 27/27 [00:03<00:00,  7.52it/s, val_loss=0.112]\n"
     ]
    },
    {
     "name": "stdout",
     "output_type": "stream",
     "text": [
      "Epoch 15: Train pAUC: 0.139949 - Val pAUC: 0.146081 | Train Loss: 3.737455 - Val Loss: 7.053050\n",
      "\n"
     ]
    },
    {
     "name": "stderr",
     "output_type": "stream",
     "text": [
      "Epoch 16: 100%|██████████| 205/205 [02:10<00:00,  1.57it/s, train_loss=0.111]\n",
      "Epoch 16: 100%|██████████| 27/27 [00:03<00:00,  7.47it/s, val_loss=0.111]\n"
     ]
    },
    {
     "name": "stdout",
     "output_type": "stream",
     "text": [
      "New best model found: pAUC = 0.162460 (previous best: 0.153411)\n",
      "Epoch 16: Train pAUC: 0.146637 - Val pAUC: 0.162460 | Train Loss: 3.534671 - Val Loss: 7.023124\n",
      "\n"
     ]
    },
    {
     "name": "stderr",
     "output_type": "stream",
     "text": [
      "Epoch 17: 100%|██████████| 205/205 [02:10<00:00,  1.57it/s, train_loss=0.109]\n",
      "Epoch 17: 100%|██████████| 27/27 [00:03<00:00,  7.31it/s, val_loss=0.124]\n"
     ]
    },
    {
     "name": "stdout",
     "output_type": "stream",
     "text": [
      "Epoch 17: Train pAUC: 0.158248 - Val pAUC: 0.134187 | Train Loss: 3.466849 - Val Loss: 7.798617\n",
      "\n"
     ]
    },
    {
     "name": "stderr",
     "output_type": "stream",
     "text": [
      "Epoch 18: 100%|██████████| 205/205 [02:10<00:00,  1.57it/s, train_loss=0.109]\n",
      "Epoch 18: 100%|██████████| 27/27 [00:03<00:00,  7.46it/s, val_loss=0.117]\n"
     ]
    },
    {
     "name": "stdout",
     "output_type": "stream",
     "text": [
      "Epoch 18: Train pAUC: 0.149997 - Val pAUC: 0.140192 | Train Loss: 3.482933 - Val Loss: 7.358958\n",
      "\n"
     ]
    },
    {
     "name": "stderr",
     "output_type": "stream",
     "text": [
      "Epoch 19: 100%|██████████| 205/205 [02:10<00:00,  1.57it/s, train_loss=0.107]\n",
      "Epoch 19: 100%|██████████| 27/27 [00:03<00:00,  7.49it/s, val_loss=0.13]\n"
     ]
    },
    {
     "name": "stdout",
     "output_type": "stream",
     "text": [
      "Epoch 19: Train pAUC: 0.149734 - Val pAUC: 0.123557 | Train Loss: 3.425634 - Val Loss: 8.221819\n",
      "\n"
     ]
    },
    {
     "name": "stderr",
     "output_type": "stream",
     "text": [
      "Epoch 20: 100%|██████████| 205/205 [02:10<00:00,  1.57it/s, train_loss=0.106]\n",
      "Epoch 20: 100%|██████████| 27/27 [00:03<00:00,  7.50it/s, val_loss=0.108]\n"
     ]
    },
    {
     "name": "stdout",
     "output_type": "stream",
     "text": [
      "Epoch 20: Train pAUC: 0.155416 - Val pAUC: 0.149487 | Train Loss: 3.397771 - Val Loss: 6.830014\n",
      "\n"
     ]
    },
    {
     "name": "stderr",
     "output_type": "stream",
     "text": [
      "Epoch 21: 100%|██████████| 205/205 [02:10<00:00,  1.57it/s, train_loss=0.11]\n",
      "Epoch 21: 100%|██████████| 27/27 [00:03<00:00,  7.19it/s, val_loss=0.117]\n"
     ]
    },
    {
     "name": "stdout",
     "output_type": "stream",
     "text": [
      "Epoch 21: Train pAUC: 0.143832 - Val pAUC: 0.145356 | Train Loss: 3.498691 - Val Loss: 7.380943\n",
      "\n"
     ]
    },
    {
     "name": "stderr",
     "output_type": "stream",
     "text": [
      "Epoch 22: 100%|██████████| 205/205 [02:10<00:00,  1.57it/s, train_loss=0.104]\n",
      "Epoch 22: 100%|██████████| 27/27 [00:03<00:00,  7.13it/s, val_loss=0.116]\n"
     ]
    },
    {
     "name": "stdout",
     "output_type": "stream",
     "text": [
      "Epoch 22: Train pAUC: 0.152027 - Val pAUC: 0.146369 | Train Loss: 3.331482 - Val Loss: 7.337587\n",
      "\n"
     ]
    },
    {
     "name": "stderr",
     "output_type": "stream",
     "text": [
      "Epoch 23: 100%|██████████| 205/205 [02:10<00:00,  1.57it/s, train_loss=0.1]\n",
      "Epoch 23: 100%|██████████| 27/27 [00:03<00:00,  7.51it/s, val_loss=0.115]\n"
     ]
    },
    {
     "name": "stdout",
     "output_type": "stream",
     "text": [
      "Epoch 23: Train pAUC: 0.161028 - Val pAUC: 0.153493 | Train Loss: 3.195935 - Val Loss: 7.282035\n",
      "\n"
     ]
    },
    {
     "name": "stderr",
     "output_type": "stream",
     "text": [
      "Epoch 24: 100%|██████████| 205/205 [02:10<00:00,  1.57it/s, train_loss=0.1]\n",
      "Epoch 24: 100%|██████████| 27/27 [00:03<00:00,  7.33it/s, val_loss=0.113]\n"
     ]
    },
    {
     "name": "stdout",
     "output_type": "stream",
     "text": [
      "Epoch 24: Train pAUC: 0.155477 - Val pAUC: 0.141415 | Train Loss: 3.199735 - Val Loss: 7.118031\n",
      "\n"
     ]
    },
    {
     "name": "stderr",
     "output_type": "stream",
     "text": [
      "Epoch 25: 100%|██████████| 205/205 [02:10<00:00,  1.57it/s, train_loss=0.101]\n",
      "Epoch 25: 100%|██████████| 27/27 [00:03<00:00,  7.53it/s, val_loss=0.122]\n"
     ]
    },
    {
     "name": "stdout",
     "output_type": "stream",
     "text": [
      "Epoch 25: Train pAUC: 0.157376 - Val pAUC: 0.144465 | Train Loss: 3.230209 - Val Loss: 7.718692\n",
      "\n"
     ]
    },
    {
     "name": "stderr",
     "output_type": "stream",
     "text": [
      "Epoch 26: 100%|██████████| 205/205 [02:10<00:00,  1.57it/s, train_loss=0.0945]\n",
      "Epoch 26: 100%|██████████| 27/27 [00:03<00:00,  7.44it/s, val_loss=0.109]\n"
     ]
    },
    {
     "name": "stdout",
     "output_type": "stream",
     "text": [
      "Epoch 26: Train pAUC: 0.163046 - Val pAUC: 0.144225 | Train Loss: 3.019786 - Val Loss: 6.873543\n",
      "\n"
     ]
    },
    {
     "name": "stderr",
     "output_type": "stream",
     "text": [
      "Epoch 27: 100%|██████████| 205/205 [02:10<00:00,  1.57it/s, train_loss=0.0922]\n",
      "Epoch 27: 100%|██████████| 27/27 [00:03<00:00,  7.50it/s, val_loss=0.108]\n"
     ]
    },
    {
     "name": "stdout",
     "output_type": "stream",
     "text": [
      "Epoch 27: Train pAUC: 0.161971 - Val pAUC: 0.156979 | Train Loss: 2.945791 - Val Loss: 6.812931\n",
      "\n"
     ]
    },
    {
     "name": "stderr",
     "output_type": "stream",
     "text": [
      "Epoch 28: 100%|██████████| 205/205 [02:10<00:00,  1.57it/s, train_loss=0.0839]\n",
      "Epoch 28: 100%|██████████| 27/27 [00:03<00:00,  7.45it/s, val_loss=0.121]\n"
     ]
    },
    {
     "name": "stdout",
     "output_type": "stream",
     "text": [
      "Epoch 28: Train pAUC: 0.169034 - Val pAUC: 0.144272 | Train Loss: 2.682195 - Val Loss: 7.637442\n",
      "\n"
     ]
    },
    {
     "name": "stderr",
     "output_type": "stream",
     "text": [
      "Epoch 29: 100%|██████████| 205/205 [02:10<00:00,  1.57it/s, train_loss=0.0932]\n",
      "Epoch 29: 100%|██████████| 27/27 [00:03<00:00,  7.58it/s, val_loss=0.115]\n"
     ]
    },
    {
     "name": "stdout",
     "output_type": "stream",
     "text": [
      "Epoch 29: Train pAUC: 0.159604 - Val pAUC: 0.145490 | Train Loss: 2.977815 - Val Loss: 7.275393\n",
      "\n"
     ]
    },
    {
     "name": "stderr",
     "output_type": "stream",
     "text": [
      "Epoch 30: 100%|██████████| 205/205 [02:10<00:00,  1.57it/s, train_loss=0.0912]\n",
      "Epoch 30: 100%|██████████| 27/27 [00:03<00:00,  7.45it/s, val_loss=0.127]\n"
     ]
    },
    {
     "name": "stdout",
     "output_type": "stream",
     "text": [
      "Epoch 30: Train pAUC: 0.165681 - Val pAUC: 0.133619 | Train Loss: 2.912491 - Val Loss: 8.007869\n",
      "\n"
     ]
    },
    {
     "name": "stderr",
     "output_type": "stream",
     "text": [
      "Epoch 31: 100%|██████████| 205/205 [02:10<00:00,  1.57it/s, train_loss=0.0875]\n",
      "Epoch 31: 100%|██████████| 27/27 [00:03<00:00,  7.15it/s, val_loss=0.123]\n"
     ]
    },
    {
     "name": "stdout",
     "output_type": "stream",
     "text": [
      "Early stopping triggered at epoch 31. Best pAUC = 0.162460\n",
      "Epoch 31: Train pAUC: 0.168285 - Val pAUC: 0.145478 | Train Loss: 2.796512 - Val Loss: 7.768737\n",
      "\n"
     ]
    },
    {
     "name": "stderr",
     "output_type": "stream",
     "text": [
      "Prediction: 100%|██████████| 1167/1167 [02:15<00:00,  8.63it/s]\n"
     ]
    },
    {
     "name": "stdout",
     "output_type": "stream",
     "text": [
      "---------------------------------- Fold 4 ----------------------------------\n",
      "\n",
      "\n",
      "---------------------------------- Fold 5 ----------------------------------\n"
     ]
    },
    {
     "name": "stderr",
     "output_type": "stream",
     "text": [
      "Epoch 1: 100%|██████████| 201/201 [02:08<00:00,  1.57it/s, train_loss=0.199]\n",
      "Epoch 1: 100%|██████████| 29/29 [00:03<00:00,  7.50it/s, val_loss=0.219]\n"
     ]
    },
    {
     "name": "stdout",
     "output_type": "stream",
     "text": [
      "Epoch 1: Train pAUC: 0.034615 - Val pAUC: 0.071201 | Train Loss: 6.354853 - Val Loss: 13.782678\n",
      "\n"
     ]
    },
    {
     "name": "stderr",
     "output_type": "stream",
     "text": [
      "Epoch 2: 100%|██████████| 201/201 [02:08<00:00,  1.57it/s, train_loss=0.164]\n",
      "Epoch 2: 100%|██████████| 29/29 [00:03<00:00,  7.60it/s, val_loss=0.236]\n"
     ]
    },
    {
     "name": "stdout",
     "output_type": "stream",
     "text": [
      "New best model found: pAUC = 0.085052 (previous best: 0.071201)\n",
      "Epoch 2: Train pAUC: 0.067479 - Val pAUC: 0.085052 | Train Loss: 5.229190 - Val Loss: 14.882866\n",
      "\n"
     ]
    },
    {
     "name": "stderr",
     "output_type": "stream",
     "text": [
      "Epoch 3: 100%|██████████| 201/201 [02:08<00:00,  1.57it/s, train_loss=0.149]\n",
      "Epoch 3: 100%|██████████| 29/29 [00:03<00:00,  7.65it/s, val_loss=0.174]\n"
     ]
    },
    {
     "name": "stdout",
     "output_type": "stream",
     "text": [
      "New best model found: pAUC = 0.098796 (previous best: 0.085052)\n",
      "Epoch 3: Train pAUC: 0.070909 - Val pAUC: 0.098796 | Train Loss: 4.773770 - Val Loss: 10.981291\n",
      "\n"
     ]
    },
    {
     "name": "stderr",
     "output_type": "stream",
     "text": [
      "Epoch 4: 100%|██████████| 201/201 [02:08<00:00,  1.57it/s, train_loss=0.134]\n",
      "Epoch 4: 100%|██████████| 29/29 [00:03<00:00,  7.54it/s, val_loss=0.195]\n"
     ]
    },
    {
     "name": "stdout",
     "output_type": "stream",
     "text": [
      "Epoch 4: Train pAUC: 0.097086 - Val pAUC: 0.098451 | Train Loss: 4.277264 - Val Loss: 12.283404\n",
      "\n"
     ]
    },
    {
     "name": "stderr",
     "output_type": "stream",
     "text": [
      "Epoch 5: 100%|██████████| 201/201 [02:08<00:00,  1.57it/s, train_loss=0.135]\n",
      "Epoch 5: 100%|██████████| 29/29 [00:04<00:00,  7.20it/s, val_loss=0.164]\n"
     ]
    },
    {
     "name": "stdout",
     "output_type": "stream",
     "text": [
      "New best model found: pAUC = 0.119352 (previous best: 0.098796)\n",
      "Epoch 5: Train pAUC: 0.088040 - Val pAUC: 0.119352 | Train Loss: 4.315620 - Val Loss: 10.353978\n",
      "\n"
     ]
    },
    {
     "name": "stderr",
     "output_type": "stream",
     "text": [
      "Epoch 6: 100%|██████████| 201/201 [02:08<00:00,  1.57it/s, train_loss=0.129]\n",
      "Epoch 6: 100%|██████████| 29/29 [00:03<00:00,  7.56it/s, val_loss=0.162]\n"
     ]
    },
    {
     "name": "stdout",
     "output_type": "stream",
     "text": [
      "Epoch 6: Train pAUC: 0.105504 - Val pAUC: 0.113170 | Train Loss: 4.112908 - Val Loss: 10.222034\n",
      "\n"
     ]
    },
    {
     "name": "stderr",
     "output_type": "stream",
     "text": [
      "Epoch 7: 100%|██████████| 201/201 [02:08<00:00,  1.57it/s, train_loss=0.126]\n",
      "Epoch 7: 100%|██████████| 29/29 [00:03<00:00,  7.55it/s, val_loss=0.166]\n"
     ]
    },
    {
     "name": "stdout",
     "output_type": "stream",
     "text": [
      "New best model found: pAUC = 0.127194 (previous best: 0.119352)\n",
      "Epoch 7: Train pAUC: 0.105849 - Val pAUC: 0.127194 | Train Loss: 4.016992 - Val Loss: 10.442507\n",
      "\n"
     ]
    },
    {
     "name": "stderr",
     "output_type": "stream",
     "text": [
      "Epoch 8: 100%|██████████| 201/201 [02:08<00:00,  1.57it/s, train_loss=0.125]\n",
      "Epoch 8: 100%|██████████| 29/29 [00:03<00:00,  7.45it/s, val_loss=0.151]\n"
     ]
    },
    {
     "name": "stdout",
     "output_type": "stream",
     "text": [
      "New best model found: pAUC = 0.140050 (previous best: 0.127194)\n",
      "Epoch 8: Train pAUC: 0.118071 - Val pAUC: 0.140050 | Train Loss: 3.986930 - Val Loss: 9.539438\n",
      "\n"
     ]
    },
    {
     "name": "stderr",
     "output_type": "stream",
     "text": [
      "Epoch 9: 100%|██████████| 201/201 [02:08<00:00,  1.57it/s, train_loss=0.115]\n",
      "Epoch 9: 100%|██████████| 29/29 [00:03<00:00,  7.48it/s, val_loss=0.161]\n"
     ]
    },
    {
     "name": "stdout",
     "output_type": "stream",
     "text": [
      "Epoch 9: Train pAUC: 0.135748 - Val pAUC: 0.126991 | Train Loss: 3.667236 - Val Loss: 10.127518\n",
      "\n"
     ]
    },
    {
     "name": "stderr",
     "output_type": "stream",
     "text": [
      "Epoch 10: 100%|██████████| 201/201 [02:08<00:00,  1.57it/s, train_loss=0.11]\n",
      "Epoch 10: 100%|██████████| 29/29 [00:03<00:00,  7.58it/s, val_loss=0.157]\n"
     ]
    },
    {
     "name": "stdout",
     "output_type": "stream",
     "text": [
      "Epoch 10: Train pAUC: 0.132905 - Val pAUC: 0.115426 | Train Loss: 3.532187 - Val Loss: 9.921119\n",
      "\n"
     ]
    },
    {
     "name": "stderr",
     "output_type": "stream",
     "text": [
      "Epoch 11: 100%|██████████| 201/201 [02:08<00:00,  1.57it/s, train_loss=0.112]\n",
      "Epoch 11: 100%|██████████| 29/29 [00:03<00:00,  7.31it/s, val_loss=0.164]\n"
     ]
    },
    {
     "name": "stdout",
     "output_type": "stream",
     "text": [
      "Epoch 11: Train pAUC: 0.141247 - Val pAUC: 0.131623 | Train Loss: 3.586339 - Val Loss: 10.348015\n",
      "\n"
     ]
    },
    {
     "name": "stderr",
     "output_type": "stream",
     "text": [
      "Epoch 12: 100%|██████████| 201/201 [02:08<00:00,  1.57it/s, train_loss=0.11]\n",
      "Epoch 12: 100%|██████████| 29/29 [00:03<00:00,  7.57it/s, val_loss=0.154]\n"
     ]
    },
    {
     "name": "stdout",
     "output_type": "stream",
     "text": [
      "New best model found: pAUC = 0.141208 (previous best: 0.140050)\n",
      "Epoch 12: Train pAUC: 0.140503 - Val pAUC: 0.141208 | Train Loss: 3.503200 - Val Loss: 9.695487\n",
      "\n"
     ]
    },
    {
     "name": "stderr",
     "output_type": "stream",
     "text": [
      "Epoch 13: 100%|██████████| 201/201 [02:08<00:00,  1.57it/s, train_loss=0.106]\n",
      "Epoch 13: 100%|██████████| 29/29 [00:03<00:00,  7.34it/s, val_loss=0.154]\n"
     ]
    },
    {
     "name": "stdout",
     "output_type": "stream",
     "text": [
      "Epoch 13: Train pAUC: 0.143488 - Val pAUC: 0.128093 | Train Loss: 3.404730 - Val Loss: 9.731721\n",
      "\n"
     ]
    },
    {
     "name": "stderr",
     "output_type": "stream",
     "text": [
      "Epoch 14: 100%|██████████| 201/201 [02:08<00:00,  1.57it/s, train_loss=0.104]\n",
      "Epoch 14: 100%|██████████| 29/29 [00:03<00:00,  7.57it/s, val_loss=0.162]\n"
     ]
    },
    {
     "name": "stdout",
     "output_type": "stream",
     "text": [
      "Epoch 14: Train pAUC: 0.146837 - Val pAUC: 0.120799 | Train Loss: 3.326400 - Val Loss: 10.191035\n",
      "\n"
     ]
    },
    {
     "name": "stderr",
     "output_type": "stream",
     "text": [
      "Epoch 15: 100%|██████████| 201/201 [02:08<00:00,  1.57it/s, train_loss=0.102]\n",
      "Epoch 15: 100%|██████████| 29/29 [00:03<00:00,  7.59it/s, val_loss=0.161]\n"
     ]
    },
    {
     "name": "stdout",
     "output_type": "stream",
     "text": [
      "Epoch 15: Train pAUC: 0.148003 - Val pAUC: 0.135077 | Train Loss: 3.264972 - Val Loss: 10.146897\n",
      "\n"
     ]
    },
    {
     "name": "stderr",
     "output_type": "stream",
     "text": [
      "Epoch 16: 100%|██████████| 201/201 [02:08<00:00,  1.57it/s, train_loss=0.102]\n",
      "Epoch 16: 100%|██████████| 29/29 [00:03<00:00,  7.52it/s, val_loss=0.147]\n"
     ]
    },
    {
     "name": "stdout",
     "output_type": "stream",
     "text": [
      "Epoch 16: Train pAUC: 0.147927 - Val pAUC: 0.139217 | Train Loss: 3.252418 - Val Loss: 9.240113\n",
      "\n"
     ]
    },
    {
     "name": "stderr",
     "output_type": "stream",
     "text": [
      "Epoch 17: 100%|██████████| 201/201 [02:08<00:00,  1.57it/s, train_loss=0.0992]\n",
      "Epoch 17: 100%|██████████| 29/29 [00:04<00:00,  7.10it/s, val_loss=0.162]\n"
     ]
    },
    {
     "name": "stdout",
     "output_type": "stream",
     "text": [
      "Epoch 17: Train pAUC: 0.151907 - Val pAUC: 0.136296 | Train Loss: 3.172363 - Val Loss: 10.189488\n",
      "\n"
     ]
    },
    {
     "name": "stderr",
     "output_type": "stream",
     "text": [
      "Epoch 18: 100%|██████████| 201/201 [02:08<00:00,  1.57it/s, train_loss=0.0994]\n",
      "Epoch 18: 100%|██████████| 29/29 [00:04<00:00,  7.05it/s, val_loss=0.151]\n"
     ]
    },
    {
     "name": "stdout",
     "output_type": "stream",
     "text": [
      "Epoch 18: Train pAUC: 0.153099 - Val pAUC: 0.137947 | Train Loss: 3.176625 - Val Loss: 9.505801\n",
      "\n"
     ]
    },
    {
     "name": "stderr",
     "output_type": "stream",
     "text": [
      "Epoch 19: 100%|██████████| 201/201 [02:08<00:00,  1.57it/s, train_loss=0.0994]\n",
      "Epoch 19: 100%|██████████| 29/29 [00:03<00:00,  7.64it/s, val_loss=0.172]\n"
     ]
    },
    {
     "name": "stdout",
     "output_type": "stream",
     "text": [
      "Epoch 19: Train pAUC: 0.147103 - Val pAUC: 0.121841 | Train Loss: 3.177417 - Val Loss: 10.846266\n",
      "\n"
     ]
    },
    {
     "name": "stderr",
     "output_type": "stream",
     "text": [
      "Epoch 20: 100%|██████████| 201/201 [02:08<00:00,  1.57it/s, train_loss=0.0978]\n",
      "Epoch 20: 100%|██████████| 29/29 [00:03<00:00,  7.56it/s, val_loss=0.172]\n"
     ]
    },
    {
     "name": "stdout",
     "output_type": "stream",
     "text": [
      "Epoch 20: Train pAUC: 0.152447 - Val pAUC: 0.119098 | Train Loss: 3.127650 - Val Loss: 10.855810\n",
      "\n"
     ]
    },
    {
     "name": "stderr",
     "output_type": "stream",
     "text": [
      "Epoch 21: 100%|██████████| 201/201 [02:08<00:00,  1.57it/s, train_loss=0.0934]\n",
      "Epoch 21: 100%|██████████| 29/29 [00:03<00:00,  7.63it/s, val_loss=0.178]\n"
     ]
    },
    {
     "name": "stdout",
     "output_type": "stream",
     "text": [
      "Epoch 21: Train pAUC: 0.158998 - Val pAUC: 0.131085 | Train Loss: 2.985812 - Val Loss: 11.230229\n",
      "\n"
     ]
    },
    {
     "name": "stderr",
     "output_type": "stream",
     "text": [
      "Epoch 22: 100%|██████████| 201/201 [02:08<00:00,  1.57it/s, train_loss=0.0962]\n",
      "Epoch 22: 100%|██████████| 29/29 [00:03<00:00,  7.51it/s, val_loss=0.164]\n"
     ]
    },
    {
     "name": "stdout",
     "output_type": "stream",
     "text": [
      "New best model found: pAUC = 0.143575 (previous best: 0.141208)\n",
      "Epoch 22: Train pAUC: 0.152481 - Val pAUC: 0.143575 | Train Loss: 3.075995 - Val Loss: 10.361940\n",
      "\n"
     ]
    },
    {
     "name": "stderr",
     "output_type": "stream",
     "text": [
      "Epoch 23: 100%|██████████| 201/201 [02:08<00:00,  1.57it/s, train_loss=0.0855]\n",
      "Epoch 23: 100%|██████████| 29/29 [00:03<00:00,  7.42it/s, val_loss=0.165]\n"
     ]
    },
    {
     "name": "stdout",
     "output_type": "stream",
     "text": [
      "Epoch 23: Train pAUC: 0.164051 - Val pAUC: 0.132995 | Train Loss: 2.733111 - Val Loss: 10.384903\n",
      "\n"
     ]
    },
    {
     "name": "stderr",
     "output_type": "stream",
     "text": [
      "Epoch 24: 100%|██████████| 201/201 [02:08<00:00,  1.57it/s, train_loss=0.0927]\n",
      "Epoch 24: 100%|██████████| 29/29 [00:03<00:00,  7.59it/s, val_loss=0.152]\n"
     ]
    },
    {
     "name": "stdout",
     "output_type": "stream",
     "text": [
      "New best model found: pAUC = 0.147912 (previous best: 0.143575)\n",
      "Epoch 24: Train pAUC: 0.160946 - Val pAUC: 0.147912 | Train Loss: 2.965041 - Val Loss: 9.564166\n",
      "\n"
     ]
    },
    {
     "name": "stderr",
     "output_type": "stream",
     "text": [
      "Epoch 25: 100%|██████████| 201/201 [02:08<00:00,  1.57it/s, train_loss=0.0836]\n",
      "Epoch 25: 100%|██████████| 29/29 [00:03<00:00,  7.50it/s, val_loss=0.162]\n"
     ]
    },
    {
     "name": "stdout",
     "output_type": "stream",
     "text": [
      "Epoch 25: Train pAUC: 0.166567 - Val pAUC: 0.137277 | Train Loss: 2.674050 - Val Loss: 10.210960\n",
      "\n"
     ]
    },
    {
     "name": "stderr",
     "output_type": "stream",
     "text": [
      "Epoch 26: 100%|██████████| 201/201 [02:08<00:00,  1.57it/s, train_loss=0.0847]\n",
      "Epoch 26: 100%|██████████| 29/29 [00:03<00:00,  7.55it/s, val_loss=0.174]\n"
     ]
    },
    {
     "name": "stdout",
     "output_type": "stream",
     "text": [
      "Epoch 26: Train pAUC: 0.161156 - Val pAUC: 0.137876 | Train Loss: 2.708094 - Val Loss: 10.987981\n",
      "\n"
     ]
    },
    {
     "name": "stderr",
     "output_type": "stream",
     "text": [
      "Epoch 27: 100%|██████████| 201/201 [02:08<00:00,  1.57it/s, train_loss=0.0831]\n",
      "Epoch 27: 100%|██████████| 29/29 [00:03<00:00,  7.55it/s, val_loss=0.182]\n"
     ]
    },
    {
     "name": "stdout",
     "output_type": "stream",
     "text": [
      "Epoch 27: Train pAUC: 0.171657 - Val pAUC: 0.118813 | Train Loss: 2.657347 - Val Loss: 11.492513\n",
      "\n"
     ]
    },
    {
     "name": "stderr",
     "output_type": "stream",
     "text": [
      "Epoch 28: 100%|██████████| 201/201 [02:08<00:00,  1.57it/s, train_loss=0.0853]\n",
      "Epoch 28: 100%|██████████| 29/29 [00:03<00:00,  7.34it/s, val_loss=0.171]\n"
     ]
    },
    {
     "name": "stdout",
     "output_type": "stream",
     "text": [
      "Epoch 28: Train pAUC: 0.159596 - Val pAUC: 0.117198 | Train Loss: 2.725537 - Val Loss: 10.778780\n",
      "\n"
     ]
    },
    {
     "name": "stderr",
     "output_type": "stream",
     "text": [
      "Epoch 29: 100%|██████████| 201/201 [02:08<00:00,  1.57it/s, train_loss=0.0814]\n",
      "Epoch 29: 100%|██████████| 29/29 [00:03<00:00,  7.53it/s, val_loss=0.18]\n"
     ]
    },
    {
     "name": "stdout",
     "output_type": "stream",
     "text": [
      "Epoch 29: Train pAUC: 0.171665 - Val pAUC: 0.124040 | Train Loss: 2.603640 - Val Loss: 11.312126\n",
      "\n"
     ]
    },
    {
     "name": "stderr",
     "output_type": "stream",
     "text": [
      "Epoch 30: 100%|██████████| 201/201 [02:08<00:00,  1.57it/s, train_loss=0.0813]\n",
      "Epoch 30: 100%|██████████| 29/29 [00:03<00:00,  7.62it/s, val_loss=0.165]\n"
     ]
    },
    {
     "name": "stdout",
     "output_type": "stream",
     "text": [
      "Epoch 30: Train pAUC: 0.168166 - Val pAUC: 0.142569 | Train Loss: 2.599717 - Val Loss: 10.369718\n",
      "\n"
     ]
    },
    {
     "name": "stderr",
     "output_type": "stream",
     "text": [
      "Epoch 31: 100%|██████████| 201/201 [02:08<00:00,  1.57it/s, train_loss=0.0815]\n",
      "Epoch 31: 100%|██████████| 29/29 [00:03<00:00,  7.53it/s, val_loss=0.168]\n"
     ]
    },
    {
     "name": "stdout",
     "output_type": "stream",
     "text": [
      "Epoch 31: Train pAUC: 0.165832 - Val pAUC: 0.136774 | Train Loss: 2.605368 - Val Loss: 10.563095\n",
      "\n"
     ]
    },
    {
     "name": "stderr",
     "output_type": "stream",
     "text": [
      "Epoch 32: 100%|██████████| 201/201 [02:08<00:00,  1.57it/s, train_loss=0.0761]\n",
      "Epoch 32: 100%|██████████| 29/29 [00:03<00:00,  7.42it/s, val_loss=0.194]\n"
     ]
    },
    {
     "name": "stdout",
     "output_type": "stream",
     "text": [
      "Epoch 32: Train pAUC: 0.168795 - Val pAUC: 0.127961 | Train Loss: 2.432685 - Val Loss: 12.226451\n",
      "\n"
     ]
    },
    {
     "name": "stderr",
     "output_type": "stream",
     "text": [
      "Epoch 33: 100%|██████████| 201/201 [02:08<00:00,  1.57it/s, train_loss=0.0718]\n",
      "Epoch 33: 100%|██████████| 29/29 [00:03<00:00,  7.29it/s, val_loss=0.185]\n"
     ]
    },
    {
     "name": "stdout",
     "output_type": "stream",
     "text": [
      "Epoch 33: Train pAUC: 0.177255 - Val pAUC: 0.114567 | Train Loss: 2.294267 - Val Loss: 11.626704\n",
      "\n"
     ]
    },
    {
     "name": "stderr",
     "output_type": "stream",
     "text": [
      "Epoch 34: 100%|██████████| 201/201 [02:08<00:00,  1.57it/s, train_loss=0.0726]\n",
      "Epoch 34: 100%|██████████| 29/29 [00:03<00:00,  7.62it/s, val_loss=0.176]\n"
     ]
    },
    {
     "name": "stdout",
     "output_type": "stream",
     "text": [
      "Epoch 34: Train pAUC: 0.169148 - Val pAUC: 0.137627 | Train Loss: 2.321412 - Val Loss: 11.118632\n",
      "\n"
     ]
    },
    {
     "name": "stderr",
     "output_type": "stream",
     "text": [
      "Epoch 35: 100%|██████████| 201/201 [02:08<00:00,  1.57it/s, train_loss=0.0689]\n",
      "Epoch 35: 100%|██████████| 29/29 [00:03<00:00,  7.47it/s, val_loss=0.216]\n"
     ]
    },
    {
     "name": "stdout",
     "output_type": "stream",
     "text": [
      "Epoch 35: Train pAUC: 0.177772 - Val pAUC: 0.121714 | Train Loss: 2.203778 - Val Loss: 13.596098\n",
      "\n"
     ]
    },
    {
     "name": "stderr",
     "output_type": "stream",
     "text": [
      "Epoch 36: 100%|██████████| 201/201 [02:08<00:00,  1.57it/s, train_loss=0.069]\n",
      "Epoch 36: 100%|██████████| 29/29 [00:03<00:00,  7.63it/s, val_loss=0.193]\n"
     ]
    },
    {
     "name": "stdout",
     "output_type": "stream",
     "text": [
      "Epoch 36: Train pAUC: 0.175797 - Val pAUC: 0.125295 | Train Loss: 2.205831 - Val Loss: 12.186060\n",
      "\n"
     ]
    },
    {
     "name": "stderr",
     "output_type": "stream",
     "text": [
      "Epoch 37: 100%|██████████| 201/201 [02:08<00:00,  1.57it/s, train_loss=0.0653]\n",
      "Epoch 37: 100%|██████████| 29/29 [00:03<00:00,  7.49it/s, val_loss=0.174]\n"
     ]
    },
    {
     "name": "stdout",
     "output_type": "stream",
     "text": [
      "Epoch 37: Train pAUC: 0.179500 - Val pAUC: 0.144565 | Train Loss: 2.086348 - Val Loss: 10.981208\n",
      "\n"
     ]
    },
    {
     "name": "stderr",
     "output_type": "stream",
     "text": [
      "Epoch 38: 100%|██████████| 201/201 [02:08<00:00,  1.57it/s, train_loss=0.0672]\n",
      "Epoch 38: 100%|██████████| 29/29 [00:03<00:00,  7.42it/s, val_loss=0.225]\n"
     ]
    },
    {
     "name": "stdout",
     "output_type": "stream",
     "text": [
      "Epoch 38: Train pAUC: 0.179340 - Val pAUC: 0.121028 | Train Loss: 2.148204 - Val Loss: 14.189970\n",
      "\n"
     ]
    },
    {
     "name": "stderr",
     "output_type": "stream",
     "text": [
      "Epoch 39: 100%|██████████| 201/201 [02:08<00:00,  1.57it/s, train_loss=0.0636]\n",
      "Epoch 39: 100%|██████████| 29/29 [00:03<00:00,  7.67it/s, val_loss=0.197]\n"
     ]
    },
    {
     "name": "stdout",
     "output_type": "stream",
     "text": [
      "Early stopping triggered at epoch 39. Best pAUC = 0.147912\n",
      "Epoch 39: Train pAUC: 0.183036 - Val pAUC: 0.129013 | Train Loss: 2.034287 - Val Loss: 12.403728\n",
      "\n"
     ]
    },
    {
     "name": "stderr",
     "output_type": "stream",
     "text": [
      "Prediction: 100%|██████████| 1389/1389 [02:40<00:00,  8.63it/s]\n"
     ]
    },
    {
     "name": "stdout",
     "output_type": "stream",
     "text": [
      "---------------------------------- Fold 5 ----------------------------------\n",
      "\n",
      "\n"
     ]
    }
   ],
   "source": [
    "histories = {}\n",
    "oof_pred_probs_df = []\n",
    "\n",
    "for fold_idx in range(CFG.n_folds):\n",
    "    print(f'---------------------------------- Fold {fold_idx + 1} ----------------------------------')\n",
    "\n",
    "    _train = train_metadata[train_metadata['fold'] != fold_idx]\n",
    "    train_dataset = ISICDataset(CFG.train_img_path, _train, transforms['train'])\n",
    "    train_dataloader = DataLoader(train_dataset, batch_size=CFG.train_batch_size, shuffle=True,  num_workers=4)\n",
    "\n",
    "    _val = train_metadata[train_metadata['fold'] == fold_idx]\n",
    "    val_dataset = ISICDataset(CFG.train_img_path, _val, transforms['val'])\n",
    "    val_dataloader = DataLoader(val_dataset, batch_size=CFG.val_batch_size, shuffle=False, num_workers=4)\n",
    "\n",
    "    _val2 = train_metadata2[train_metadata2['fold'] == fold_idx]\n",
    "    val_dataset2 = ISICDataset(CFG.train_img_path, _val2, transforms['val'])\n",
    "    val_dataloader2 = DataLoader(val_dataset2, batch_size=CFG.val_batch_size, shuffle=False, num_workers=4)\n",
    "\n",
    "    model = ResNet(CFG.model_name).to(CFG.device)\n",
    "    criterion = nn.BCELoss()\n",
    "    optimizer = optim.Adam(model.parameters(), lr=CFG.learning_rate, weight_decay=CFG.weight_decay)\n",
    "    scheduler = optim.lr_scheduler.CosineAnnealingLR(optimizer, T_max=CFG.t_max, eta_min=CFG.min_lr)\n",
    "\n",
    "    trainer = Trainer(\n",
    "        device=CFG.device,\n",
    "        model=model,\n",
    "        criterion=criterion,\n",
    "        optimizer=optimizer,\n",
    "        scheduler=scheduler,\n",
    "        train_dataloader=train_dataloader,\n",
    "        val_dataloader=val_dataloader,\n",
    "        checkpoint_path=CFG.checkpoint_path,\n",
    "        fold_idx=fold_idx,\n",
    "        es_patience=CFG.es_patience\n",
    "    )\n",
    "\n",
    "    history = {\n",
    "        'epoch': [],\n",
    "        'train_pauc': [],\n",
    "        'train_loss': [],\n",
    "        'val_pauc': [],\n",
    "        'val_loss': []\n",
    "    }\n",
    "    for epoch in range(1, CFG.max_epochs + 1):\n",
    "        train_pauc, train_loss = trainer.train(current_epoch_nr=epoch)\n",
    "        val_pauc, val_loss, es_triggered = trainer.evaluate(current_epoch_nr=epoch)\n",
    "\n",
    "        print(f\"Epoch {epoch}: Train pAUC: {train_pauc:.6f} - Val pAUC: {val_pauc:.6f} | Train Loss: {train_loss:.6f} - Val Loss: {val_loss:.6f}\\n\")\n",
    "\n",
    "        history['epoch'].append(epoch)\n",
    "        history['train_pauc'].append(train_pauc)\n",
    "        history['train_loss'].append(train_loss)\n",
    "        history['val_pauc'].append(val_pauc)\n",
    "        history['val_loss'].append(val_loss)\n",
    "\n",
    "        if es_triggered:\n",
    "            break\n",
    "\n",
    "    histories[f'Fold {fold_idx + 1}'] = history\n",
    "\n",
    "    pred_probs = trainer.predict(val_dataloader2)\n",
    "    _val2[CFG.model_name] = pred_probs\n",
    "    oof_pred_probs_df.append(_val2)\n",
    "\n",
    "    del _train, _val, train_dataset, val_dataset, model, criterion, optimizer, scheduler, trainer\n",
    "    gc.collect()\n",
    "    torch.cuda.empty_cache()\n",
    "\n",
    "    print(f'---------------------------------- Fold {fold_idx + 1} ----------------------------------\\n\\n')"
   ]
  },
  {
   "cell_type": "code",
   "execution_count": 13,
   "id": "b52d4fd2",
   "metadata": {
    "execution": {
     "iopub.execute_input": "2024-08-24T20:44:31.500488Z",
     "iopub.status.busy": "2024-08-24T20:44:31.500144Z",
     "iopub.status.idle": "2024-08-24T20:44:33.143261Z",
     "shell.execute_reply": "2024-08-24T20:44:33.142392Z"
    },
    "id": "jNqTO4uvCZwF",
    "papermill": {
     "duration": 14.164305,
     "end_time": "2024-08-24T20:44:33.145350",
     "exception": false,
     "start_time": "2024-08-24T20:44:18.981045",
     "status": "completed"
    },
    "tags": []
   },
   "outputs": [
    {
     "data": {
      "text/html": [
       "<div>\n",
       "<style scoped>\n",
       "    .dataframe tbody tr th:only-of-type {\n",
       "        vertical-align: middle;\n",
       "    }\n",
       "\n",
       "    .dataframe tbody tr th {\n",
       "        vertical-align: top;\n",
       "    }\n",
       "\n",
       "    .dataframe thead th {\n",
       "        text-align: right;\n",
       "    }\n",
       "</style>\n",
       "<table border=\"1\" class=\"dataframe\">\n",
       "  <thead>\n",
       "    <tr style=\"text-align: right;\">\n",
       "      <th></th>\n",
       "      <th>isic_id</th>\n",
       "      <th>fold</th>\n",
       "      <th>target</th>\n",
       "      <th>resnet50</th>\n",
       "    </tr>\n",
       "  </thead>\n",
       "  <tbody>\n",
       "    <tr>\n",
       "      <th>10</th>\n",
       "      <td>ISIC_0051812</td>\n",
       "      <td>0.0</td>\n",
       "      <td>0</td>\n",
       "      <td>0.003222</td>\n",
       "    </tr>\n",
       "    <tr>\n",
       "      <th>18</th>\n",
       "      <td>ISIC_0052026</td>\n",
       "      <td>0.0</td>\n",
       "      <td>0</td>\n",
       "      <td>0.004057</td>\n",
       "    </tr>\n",
       "    <tr>\n",
       "      <th>30</th>\n",
       "      <td>ISIC_0052259</td>\n",
       "      <td>0.0</td>\n",
       "      <td>0</td>\n",
       "      <td>0.000846</td>\n",
       "    </tr>\n",
       "    <tr>\n",
       "      <th>32</th>\n",
       "      <td>ISIC_0052310</td>\n",
       "      <td>0.0</td>\n",
       "      <td>0</td>\n",
       "      <td>0.000409</td>\n",
       "    </tr>\n",
       "    <tr>\n",
       "      <th>33</th>\n",
       "      <td>ISIC_0052313</td>\n",
       "      <td>0.0</td>\n",
       "      <td>0</td>\n",
       "      <td>0.002866</td>\n",
       "    </tr>\n",
       "  </tbody>\n",
       "</table>\n",
       "</div>"
      ],
      "text/plain": [
       "         isic_id  fold  target  resnet50\n",
       "10  ISIC_0051812   0.0       0  0.003222\n",
       "18  ISIC_0052026   0.0       0  0.004057\n",
       "30  ISIC_0052259   0.0       0  0.000846\n",
       "32  ISIC_0052310   0.0       0  0.000409\n",
       "33  ISIC_0052313   0.0       0  0.002866"
      ]
     },
     "execution_count": 13,
     "metadata": {},
     "output_type": "execute_result"
    }
   ],
   "source": [
    "oof_pred_probs_df = pd.concat(oof_pred_probs_df)[['isic_id', 'fold', 'target', CFG.model_name]]\n",
    "oof_pred_probs_df.to_csv(f'{CFG.model_name}_oof_preds.csv', index=False)\n",
    "oof_pred_probs_df.head()"
   ]
  },
  {
   "cell_type": "markdown",
   "id": "d21d7e1e",
   "metadata": {
    "papermill": {
     "duration": 12.521221,
     "end_time": "2024-08-24T20:44:58.609078",
     "exception": false,
     "start_time": "2024-08-24T20:44:46.087857",
     "status": "completed"
    },
    "tags": []
   },
   "source": [
    "# Results"
   ]
  },
  {
   "cell_type": "code",
   "execution_count": 14,
   "id": "cbd8aaf2",
   "metadata": {
    "execution": {
     "iopub.execute_input": "2024-08-24T20:45:24.025998Z",
     "iopub.status.busy": "2024-08-24T20:45:24.025635Z",
     "iopub.status.idle": "2024-08-24T20:45:24.036266Z",
     "shell.execute_reply": "2024-08-24T20:45:24.035425Z"
    },
    "id": "Qkcd2V7W-_GW",
    "papermill": {
     "duration": 12.685631,
     "end_time": "2024-08-24T20:45:24.038060",
     "exception": false,
     "start_time": "2024-08-24T20:45:11.352429",
     "status": "completed"
    },
    "tags": []
   },
   "outputs": [],
   "source": [
    "histories = pd.concat([pd.DataFrame(data).assign(Fold=fold) for fold, data in histories.items()])"
   ]
  },
  {
   "cell_type": "code",
   "execution_count": 15,
   "id": "2e1a7647",
   "metadata": {
    "execution": {
     "iopub.execute_input": "2024-08-24T20:45:49.611585Z",
     "iopub.status.busy": "2024-08-24T20:45:49.610872Z",
     "iopub.status.idle": "2024-08-24T20:45:50.620378Z",
     "shell.execute_reply": "2024-08-24T20:45:50.619458Z"
    },
    "id": "lATwCeDXdsHG",
    "papermill": {
     "duration": 13.535612,
     "end_time": "2024-08-24T20:45:50.624986",
     "exception": false,
     "start_time": "2024-08-24T20:45:37.089374",
     "status": "completed"
    },
    "tags": []
   },
   "outputs": [
    {
     "data": {
      "image/png": "[encoded data removed]",
      "text/plain": [
       "<Figure size 1600x600 with 2 Axes>"
      ]
     },
     "metadata": {},
     "output_type": "display_data"
    }
   ],
   "source": [
    "sns.set(style=\"whitegrid\")\n",
    "\n",
    "fig, axes = plt.subplots(1, 2, figsize=(16, 6))\n",
    "\n",
    "sns.lineplot(x='epoch', y='train_pauc', hue='Fold', data=histories, ax=axes[0])\n",
    "axes[0].set_title('Training pAUC')\n",
    "axes[0].set_xlabel('Epoch')\n",
    "axes[0].set_ylabel('pAUC')\n",
    "axes[0].legend(loc='best')\n",
    "\n",
    "sns.lineplot(x='epoch', y='val_pauc', hue='Fold', data=histories, ax=axes[1])\n",
    "axes[1].set_title('Validation pAUC')\n",
    "axes[1].set_xlabel('Epoch')\n",
    "axes[1].set_ylabel('pAUC')\n",
    "axes[1].legend(loc='best')\n",
    "\n",
    "fig.tight_layout()\n",
    "plt.show()"
   ]
  },
  {
   "cell_type": "code",
   "execution_count": 16,
   "id": "8f8a7e94",
   "metadata": {
    "execution": {
     "iopub.execute_input": "2024-08-24T20:46:16.127520Z",
     "iopub.status.busy": "2024-08-24T20:46:16.126922Z",
     "iopub.status.idle": "2024-08-24T20:46:17.058376Z",
     "shell.execute_reply": "2024-08-24T20:46:17.057459Z"
    },
    "id": "iCSgE4wX7NtK",
    "papermill": {
     "duration": 13.65783,
     "end_time": "2024-08-24T20:46:17.061197",
     "exception": false,
     "start_time": "2024-08-24T20:46:03.403367",
     "status": "completed"
    },
    "tags": []
   },
   "outputs": [
    {
     "data": {
      "image/png": "[encoded data removed]",
      "text/plain": [
       "<Figure size 1600x600 with 2 Axes>"
      ]
     },
     "metadata": {},
     "output_type": "display_data"
    }
   ],
   "source": [
    "fig, axes = plt.subplots(1, 2, figsize=(16, 6))\n",
    "\n",
    "sns.lineplot(x='epoch', y='train_loss', hue='Fold', data=histories, ax=axes[0])\n",
    "axes[0].set_title('Training Loss')\n",
    "axes[0].set_xlabel('Epoch')\n",
    "axes[0].set_ylabel('Loss')\n",
    "axes[0].legend(loc='best')\n",
    "\n",
    "sns.lineplot(x='epoch', y='val_loss', hue='Fold', data=histories, ax=axes[1])\n",
    "axes[1].set_title('Validation Loss')\n",
    "axes[1].set_xlabel('Epoch')\n",
    "axes[1].set_ylabel('Loss')\n",
    "axes[1].legend(loc='best')\n",
    "\n",
    "fig.tight_layout()\n",
    "plt.show()"
   ]
  }
 ],
 "metadata": {
  "accelerator": "GPU",
  "colab": {
   "gpuType": "L4",
   "provenance": []
  },
  "kaggle": {
   "accelerator": "gpu",
   "dataSources": [
    {
     "databundleVersionId": 9094797,
     "sourceId": 63056,
     "sourceType": "competition"
    }
   ],
   "dockerImageVersionId": 30747,
   "isGpuEnabled": true,
   "isInternetEnabled": true,
   "language": "python",
   "sourceType": "notebook"
  },
  "kernelspec": {
   "display_name": "Python 3",
   "language": "python",
   "name": "python3"
  },
  "language_info": {
   "codemirror_mode": {
    "name": "ipython",
    "version": 3
   },
   "file_extension": ".py",
   "mimetype": "text/x-python",
   "name": "python",
   "nbconvert_exporter": "python",
   "pygments_lexer": "ipython3",
   "version": "3.10.13"
  },
  "papermill": {
   "default_parameters": {},
   "duration": 28398.964373,
   "end_time": "2024-08-24T20:46:32.767367",
   "environment_variables": {},
   "exception": null,
   "input_path": "__notebook__.ipynb",
   "output_path": "__notebook__.ipynb",
   "parameters": {},
   "start_time": "2024-08-24T12:53:13.802994",
   "version": "2.5.0"
  },
  "widgets": {
   "application/vnd.jupyter.widget-state+json": {
    "state": {
     "1bc29880449d4dcfa64be28aadda237b": {
      "model_module": "@jupyter-widgets/controls",
      "model_module_version": "1.5.0",
      "model_name": "HTMLModel",
      "state": {
       "_dom_classes": [],
       "_model_module": "@jupyter-widgets/controls",
       "_model_module_version": "1.5.0",
       "_model_name": "HTMLModel",
       "_view_count": null,
       "_view_module": "@jupyter-widgets/controls",
       "_view_module_version": "1.5.0",
       "_view_name": "HTMLView",
       "description": "",
       "description_tooltip": null,
       "layout": "IPY_MODEL_39dd93241b1440efbc0d88b6bcb194f3",
       "placeholder": "​",
       "style": "IPY_MODEL_1dbd047e3e274cb9af92b6c9368377f6",
       "value": " 102M/102M [00:00&lt;00:00, 205MB/s]"
      }
     },
     "1dbd047e3e274cb9af92b6c9368377f6": {
      "model_module": "@jupyter-widgets/controls",
      "model_module_version": "1.5.0",
      "model_name": "DescriptionStyleModel",
      "state": {
       "_model_module": "@jupyter-widgets/controls",
       "_model_module_version": "1.5.0",
       "_model_name": "DescriptionStyleModel",
       "_view_count": null,
       "_view_module": "@jupyter-widgets/base",
       "_view_module_version": "1.2.0",
       "_view_name": "StyleView",
       "description_width": ""
      }
     },
     "2cb18d9dcafb49ed8e10e27e489d1efd": {
      "model_module": "@jupyter-widgets/controls",
      "model_module_version": "1.5.0",
      "model_name": "DescriptionStyleModel",
      "state": {
       "_model_module": "@jupyter-widgets/controls",
       "_model_module_version": "1.5.0",
       "_model_name": "DescriptionStyleModel",
       "_view_count": null,
       "_view_module": "@jupyter-widgets/base",
       "_view_module_version": "1.2.0",
       "_view_name": "StyleView",
       "description_width": ""
      }
     },
     "39dd93241b1440efbc0d88b6bcb194f3": {
      "model_module": "@jupyter-widgets/base",
      "model_module_version": "1.2.0",
      "model_name": "LayoutModel",
      "state": {
       "_model_module": "@jupyter-widgets/base",
       "_model_module_version": "1.2.0",
       "_model_name": "LayoutModel",
       "_view_count": null,
       "_view_module": "@jupyter-widgets/base",
       "_view_module_version": "1.2.0",
       "_view_name": "LayoutView",
       "align_content": null,
       "align_items": null,
       "align_self": null,
       "border": null,
       "bottom": null,
       "display": null,
       "flex": null,
       "flex_flow": null,
       "grid_area": null,
       "grid_auto_columns": null,
       "grid_auto_flow": null,
       "grid_auto_rows": null,
       "grid_column": null,
       "grid_gap": null,
       "grid_row": null,
       "grid_template_areas": null,
       "grid_template_columns": null,
       "grid_template_rows": null,
       "height": null,
       "justify_content": null,
       "justify_items": null,
       "left": null,
       "margin": null,
       "max_height": null,
       "max_width": null,
       "min_height": null,
       "min_width": null,
       "object_fit": null,
       "object_position": null,
       "order": null,
       "overflow": null,
       "overflow_x": null,
       "overflow_y": null,
       "padding": null,
       "right": null,
       "top": null,
       "visibility": null,
       "width": null
      }
     },
     "4037914978824b21baf036fbae7b3a69": {
      "model_module": "@jupyter-widgets/controls",
      "model_module_version": "1.5.0",
      "model_name": "HTMLModel",
      "state": {
       "_dom_classes": [],
       "_model_module": "@jupyter-widgets/controls",
       "_model_module_version": "1.5.0",
       "_model_name": "HTMLModel",
       "_view_count": null,
       "_view_module": "@jupyter-widgets/controls",
       "_view_module_version": "1.5.0",
       "_view_name": "HTMLView",
       "description": "",
       "description_tooltip": null,
       "layout": "IPY_MODEL_afcf28fe2326431eb2890f336ed2ae43",
       "placeholder": "​",
       "style": "IPY_MODEL_2cb18d9dcafb49ed8e10e27e489d1efd",
       "value": "model.safetensors: 100%"
      }
     },
     "a3d736341b96491fbf439bbbd7053ae4": {
      "model_module": "@jupyter-widgets/base",
      "model_module_version": "1.2.0",
      "model_name": "LayoutModel",
      "state": {
       "_model_module": "@jupyter-widgets/base",
       "_model_module_version": "1.2.0",
       "_model_name": "LayoutModel",
       "_view_count": null,
       "_view_module": "@jupyter-widgets/base",
       "_view_module_version": "1.2.0",
       "_view_name": "LayoutView",
       "align_content": null,
       "align_items": null,
       "align_self": null,
       "border": null,
       "bottom": null,
       "display": null,
       "flex": null,
       "flex_flow": null,
       "grid_area": null,
       "grid_auto_columns": null,
       "grid_auto_flow": null,
       "grid_auto_rows": null,
       "grid_column": null,
       "grid_gap": null,
       "grid_row": null,
       "grid_template_areas": null,
       "grid_template_columns": null,
       "grid_template_rows": null,
       "height": null,
       "justify_content": null,
       "justify_items": null,
       "left": null,
       "margin": null,
       "max_height": null,
       "max_width": null,
       "min_height": null,
       "min_width": null,
       "object_fit": null,
       "object_position": null,
       "order": null,
       "overflow": null,
       "overflow_x": null,
       "overflow_y": null,
       "padding": null,
       "right": null,
       "top": null,
       "visibility": null,
       "width": null
      }
     },
     "afcf28fe2326431eb2890f336ed2ae43": {
      "model_module": "@jupyter-widgets/base",
      "model_module_version": "1.2.0",
      "model_name": "LayoutModel",
      "state": {
       "_model_module": "@jupyter-widgets/base",
       "_model_module_version": "1.2.0",
       "_model_name": "LayoutModel",
       "_view_count": null,
       "_view_module": "@jupyter-widgets/base",
       "_view_module_version": "1.2.0",
       "_view_name": "LayoutView",
       "align_content": null,
       "align_items": null,
       "align_self": null,
       "border": null,
       "bottom": null,
       "display": null,
       "flex": null,
       "flex_flow": null,
       "grid_area": null,
       "grid_auto_columns": null,
       "grid_auto_flow": null,
       "grid_auto_rows": null,
       "grid_column": null,
       "grid_gap": null,
       "grid_row": null,
       "grid_template_areas": null,
       "grid_template_columns": null,
       "grid_template_rows": null,
       "height": null,
       "justify_content": null,
       "justify_items": null,
       "left": null,
       "margin": null,
       "max_height": null,
       "max_width": null,
       "min_height": null,
       "min_width": null,
       "object_fit": null,
       "object_position": null,
       "order": null,
       "overflow": null,
       "overflow_x": null,
       "overflow_y": null,
       "padding": null,
       "right": null,
       "top": null,
       "visibility": null,
       "width": null
      }
     },
     "c9f17bdcdab246a380b9a9ab77658eeb": {
      "model_module": "@jupyter-widgets/controls",
      "model_module_version": "1.5.0",
      "model_name": "FloatProgressModel",
      "state": {
       "_dom_classes": [],
       "_model_module": "@jupyter-widgets/controls",
       "_model_module_version": "1.5.0",
       "_model_name": "FloatProgressModel",
       "_view_count": null,
       "_view_module": "@jupyter-widgets/controls",
       "_view_module_version": "1.5.0",
       "_view_name": "ProgressView",
       "bar_style": "success",
       "description": "",
       "description_tooltip": null,
       "layout": "IPY_MODEL_cf1cee9bf24b4533af17e7e61a603278",
       "max": 102469840.0,
       "min": 0.0,
       "orientation": "horizontal",
       "style": "IPY_MODEL_f53882a5575e4b73a26680f94b1cfc2c",
       "value": 102469840.0
      }
     },
     "cf1cee9bf24b4533af17e7e61a603278": {
      "model_module": "@jupyter-widgets/base",
      "model_module_version": "1.2.0",
      "model_name": "LayoutModel",
      "state": {
       "_model_module": "@jupyter-widgets/base",
       "_model_module_version": "1.2.0",
       "_model_name": "LayoutModel",
       "_view_count": null,
       "_view_module": "@jupyter-widgets/base",
       "_view_module_version": "1.2.0",
       "_view_name": "LayoutView",
       "align_content": null,
       "align_items": null,
       "align_self": null,
       "border": null,
       "bottom": null,
       "display": null,
       "flex": null,
       "flex_flow": null,
       "grid_area": null,
       "grid_auto_columns": null,
       "grid_auto_flow": null,
       "grid_auto_rows": null,
       "grid_column": null,
       "grid_gap": null,
       "grid_row": null,
       "grid_template_areas": null,
       "grid_template_columns": null,
       "grid_template_rows": null,
       "height": null,
       "justify_content": null,
       "justify_items": null,
       "left": null,
       "margin": null,
       "max_height": null,
       "max_width": null,
       "min_height": null,
       "min_width": null,
       "object_fit": null,
       "object_position": null,
       "order": null,
       "overflow": null,
       "overflow_x": null,
       "overflow_y": null,
       "padding": null,
       "right": null,
       "top": null,
       "visibility": null,
       "width": null
      }
     },
     "f53882a5575e4b73a26680f94b1cfc2c": {
      "model_module": "@jupyter-widgets/controls",
      "model_module_version": "1.5.0",
      "model_name": "ProgressStyleModel",
      "state": {
       "_model_module": "@jupyter-widgets/controls",
       "_model_module_version": "1.5.0",
       "_model_name": "ProgressStyleModel",
       "_view_count": null,
       "_view_module": "@jupyter-widgets/base",
       "_view_module_version": "1.2.0",
       "_view_name": "StyleView",
       "bar_color": null,
       "description_width": ""
      }
     },
     "f58b5672a9e34739bb24429b7dca0bf9": {
      "model_module": "@jupyter-widgets/controls",
      "model_module_version": "1.5.0",
      "model_name": "HBoxModel",
      "state": {
       "_dom_classes": [],
       "_model_module": "@jupyter-widgets/controls",
       "_model_module_version": "1.5.0",
       "_model_name": "HBoxModel",
       "_view_count": null,
       "_view_module": "@jupyter-widgets/controls",
       "_view_module_version": "1.5.0",
       "_view_name": "HBoxView",
       "box_style": "",
       "children": [
        "IPY_MODEL_4037914978824b21baf036fbae7b3a69",
        "IPY_MODEL_c9f17bdcdab246a380b9a9ab77658eeb",
        "IPY_MODEL_1bc29880449d4dcfa64be28aadda237b"
       ],
       "layout": "IPY_MODEL_a3d736341b96491fbf439bbbd7053ae4"
      }
     }
    },
    "version_major": 2,
    "version_minor": 0
   }
  }
 },
 "nbformat": 4,
 "nbformat_minor": 5
}
