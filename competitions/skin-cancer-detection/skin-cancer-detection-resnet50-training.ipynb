{
 "cells": [
  {
   "cell_type": "markdown",
   "id": "e6f51d10",
   "metadata": {
    "papermill": {
     "duration": 0.006658,
     "end_time": "2024-08-30T11:26:56.928642",
     "exception": false,
     "start_time": "2024-08-30T11:26:56.921984",
     "status": "completed"
    },
    "tags": []
   },
   "source": [
    "### Inference notebook:\n",
    "- https://www.kaggle.com/code/ravaghi/skin-cancer-detection-resnet50-inference"
   ]
  },
  {
   "cell_type": "markdown",
   "id": "57b9c2d3",
   "metadata": {
    "id": "1dDypZ7k-v-d",
    "papermill": {
     "duration": 0.005837,
     "end_time": "2024-08-30T11:26:56.940919",
     "exception": false,
     "start_time": "2024-08-30T11:26:56.935082",
     "status": "completed"
    },
    "tags": []
   },
   "source": [
    "# Imports and configs"
   ]
  },
  {
   "cell_type": "code",
   "execution_count": 1,
   "id": "4c50f739",
   "metadata": {
    "execution": {
     "iopub.execute_input": "2024-08-30T11:26:56.955100Z",
     "iopub.status.busy": "2024-08-30T11:26:56.954662Z",
     "iopub.status.idle": "2024-08-30T11:27:07.472346Z",
     "shell.execute_reply": "2024-08-30T11:27:07.471235Z"
    },
    "id": "mqguadtYvxPn",
    "papermill": {
     "duration": 10.528096,
     "end_time": "2024-08-30T11:27:07.475094",
     "exception": false,
     "start_time": "2024-08-30T11:26:56.946998",
     "status": "completed"
    },
    "tags": []
   },
   "outputs": [],
   "source": [
    "from sklearn.model_selection import StratifiedGroupKFold\n",
    "from sklearn.metrics import roc_curve, auc\n",
    "from torch.utils.data import DataLoader, Dataset\n",
    "from albumentations.pytorch import ToTensorV2\n",
    "import matplotlib.pyplot as plt\n",
    "import torch.optim as optim\n",
    "import torch.nn.functional as F\n",
    "import albumentations as A\n",
    "import seaborn as sns\n",
    "from tqdm import tqdm\n",
    "from PIL import Image\n",
    "import torch.nn as nn\n",
    "import pandas as pd\n",
    "import numpy as np\n",
    "import warnings\n",
    "import h5py\n",
    "import torch\n",
    "import random\n",
    "import timm\n",
    "import cv2\n",
    "import io\n",
    "import os\n",
    "import gc\n",
    "\n",
    "warnings.filterwarnings('ignore')"
   ]
  },
  {
   "cell_type": "code",
   "execution_count": 2,
   "id": "3254c626",
   "metadata": {
    "execution": {
     "iopub.execute_input": "2024-08-30T11:27:07.489597Z",
     "iopub.status.busy": "2024-08-30T11:27:07.488875Z",
     "iopub.status.idle": "2024-08-30T11:27:07.557538Z",
     "shell.execute_reply": "2024-08-30T11:27:07.556502Z"
    },
    "id": "xOBgLd7--v-h",
    "papermill": {
     "duration": 0.078073,
     "end_time": "2024-08-30T11:27:07.559819",
     "exception": false,
     "start_time": "2024-08-30T11:27:07.481746",
     "status": "completed"
    },
    "tags": []
   },
   "outputs": [],
   "source": [
    "class CFG:\n",
    "    train_metadata_path = '/kaggle/input/isic-2024-challenge/train-metadata.csv'\n",
    "    test_metadata_path = '/kaggle/input/isic-2024-challenge/test-metadata.csv'\n",
    "    train_img_path = '/kaggle/input/isic-2024-challenge/train-image.hdf5'\n",
    "    test_img_path = '/kaggle/input/isic-2024-challenge/test-image.hdf5'\n",
    "    sample_sub_path = '/kaggle/input/isic-2024-challenge/sample_submission.csv'\n",
    "    checkpoint_path = '/kaggle/working/checkpoints'\n",
    "\n",
    "    device = torch.device('cuda' if torch.cuda.is_available() else 'cpu')\n",
    "    image_size = 224\n",
    "    max_epochs = 100\n",
    "    learning_rate = 5e-4\n",
    "    weight_decay = 1e-6\n",
    "    min_lr = 1e-6\n",
    "    train_batch_size = 32\n",
    "    val_batch_size = 64\n",
    "    n_folds = 5\n",
    "    seed = 35555\n",
    "    model_name = \"resnet50\"\n",
    "    es_patience = 15"
   ]
  },
  {
   "cell_type": "code",
   "execution_count": 3,
   "id": "6e139d6d",
   "metadata": {
    "execution": {
     "iopub.execute_input": "2024-08-30T11:27:07.574247Z",
     "iopub.status.busy": "2024-08-30T11:27:07.573417Z",
     "iopub.status.idle": "2024-08-30T11:27:07.584017Z",
     "shell.execute_reply": "2024-08-30T11:27:07.583187Z"
    },
    "id": "5a6g1bxI-v-i",
    "papermill": {
     "duration": 0.020003,
     "end_time": "2024-08-30T11:27:07.586239",
     "exception": false,
     "start_time": "2024-08-30T11:27:07.566236",
     "status": "completed"
    },
    "tags": []
   },
   "outputs": [],
   "source": [
    "def seed_everything(seed):\n",
    "    random.seed(seed)\n",
    "    os.environ['PYTHONHASHSEED'] = str(seed)\n",
    "    np.random.seed(seed)\n",
    "    torch.manual_seed(seed)\n",
    "    torch.cuda.manual_seed(seed)\n",
    "    torch.backends.cudnn.deterministic = True\n",
    "    torch.backends.cudnn.benchmark = False\n",
    "\n",
    "seed_everything(CFG.seed)"
   ]
  },
  {
   "cell_type": "markdown",
   "id": "a4cf661c",
   "metadata": {
    "id": "vM_js2t2-v-i",
    "papermill": {
     "duration": 0.006164,
     "end_time": "2024-08-30T11:27:07.598809",
     "exception": false,
     "start_time": "2024-08-30T11:27:07.592645",
     "status": "completed"
    },
    "tags": []
   },
   "source": [
    "# Loading and splitting the datasets"
   ]
  },
  {
   "cell_type": "code",
   "execution_count": 4,
   "id": "37a7b4e2",
   "metadata": {
    "execution": {
     "iopub.execute_input": "2024-08-30T11:27:07.613158Z",
     "iopub.status.busy": "2024-08-30T11:27:07.612420Z",
     "iopub.status.idle": "2024-08-30T11:27:18.198184Z",
     "shell.execute_reply": "2024-08-30T11:27:18.197193Z"
    },
    "id": "BhUgevhz-v-i",
    "papermill": {
     "duration": 10.595676,
     "end_time": "2024-08-30T11:27:18.200759",
     "exception": false,
     "start_time": "2024-08-30T11:27:07.605083",
     "status": "completed"
    },
    "tags": []
   },
   "outputs": [],
   "source": [
    "train_metadata = pd.read_csv(CFG.train_metadata_path)\n",
    "\n",
    "sgkf = StratifiedGroupKFold(n_splits=CFG.n_folds, random_state=CFG.seed, shuffle=True)\n",
    "split = sgkf.split(train_metadata, train_metadata.target, groups=train_metadata.patient_id)\n",
    "for i, (_, val_index) in enumerate(split):\n",
    "    train_metadata.loc[val_index, 'fold'] = i"
   ]
  },
  {
   "cell_type": "markdown",
   "id": "3e65f7cf",
   "metadata": {
    "id": "D6JNsMWX-v-i",
    "papermill": {
     "duration": 0.005991,
     "end_time": "2024-08-30T11:27:18.213095",
     "exception": false,
     "start_time": "2024-08-30T11:27:18.207104",
     "status": "completed"
    },
    "tags": []
   },
   "source": [
    "# Creating a custom image dataset"
   ]
  },
  {
   "cell_type": "code",
   "execution_count": 5,
   "id": "0f412462",
   "metadata": {
    "execution": {
     "iopub.execute_input": "2024-08-30T11:27:18.227321Z",
     "iopub.status.busy": "2024-08-30T11:27:18.226457Z",
     "iopub.status.idle": "2024-08-30T11:27:18.235288Z",
     "shell.execute_reply": "2024-08-30T11:27:18.234425Z"
    },
    "id": "DxAgokRgvxPr",
    "papermill": {
     "duration": 0.018071,
     "end_time": "2024-08-30T11:27:18.237410",
     "exception": false,
     "start_time": "2024-08-30T11:27:18.219339",
     "status": "completed"
    },
    "tags": []
   },
   "outputs": [],
   "source": [
    "class ISICDataset(Dataset):\n",
    "    def __init__(self, data_path, metadata, transform=None):\n",
    "        self.data = h5py.File(data_path, 'r')\n",
    "        self.metadata = metadata\n",
    "        self.transform = transform\n",
    "\n",
    "    def __len__(self):\n",
    "        return len(self.metadata)\n",
    "\n",
    "    def __getitem__(self, idx):\n",
    "        img_name = self.metadata.iloc[idx]['isic_id']\n",
    "        image = np.array(self.data[img_name])\n",
    "        image = np.array(Image.open(io.BytesIO(image)))\n",
    "        image = cv2.cvtColor(image, cv2.COLOR_BGR2RGB)\n",
    "\n",
    "        if self.transform:\n",
    "            augmented = self.transform(image=image)\n",
    "            image = augmented['image']\n",
    "\n",
    "        if 'target' in self.metadata.columns:\n",
    "            label = int(self.metadata['target'].iloc[idx])\n",
    "            return image, label\n",
    "        else:\n",
    "            return image, 0"
   ]
  },
  {
   "cell_type": "code",
   "execution_count": 6,
   "id": "07a47090",
   "metadata": {
    "execution": {
     "iopub.execute_input": "2024-08-30T11:27:18.252221Z",
     "iopub.status.busy": "2024-08-30T11:27:18.251179Z",
     "iopub.status.idle": "2024-08-30T11:27:18.262450Z",
     "shell.execute_reply": "2024-08-30T11:27:18.261646Z"
    },
    "id": "6tUJogKp-v-j",
    "papermill": {
     "duration": 0.020892,
     "end_time": "2024-08-30T11:27:18.264697",
     "exception": false,
     "start_time": "2024-08-30T11:27:18.243805",
     "status": "completed"
    },
    "tags": []
   },
   "outputs": [],
   "source": [
    "transforms = {\n",
    "    'train': A.Compose([\n",
    "        A.RandomRotate90(p=0.5),\n",
    "        A.Flip(p=0.5),\n",
    "        A.Transpose(p=0.5),\n",
    "        A.ShiftScaleRotate(shift_limit=0.1, scale_limit=0.1, rotate_limit=45, p=0.5),\n",
    "        A.OneOf([\n",
    "            A.HueSaturationValue(p=0.5),\n",
    "            A.RandomBrightnessContrast(p=0.5),\n",
    "        ], p=0.5),\n",
    "        A.OneOf([\n",
    "            A.GaussNoise(p=0.5),\n",
    "            A.GaussianBlur(p=0.5),\n",
    "            A.MotionBlur(p=0.5),\n",
    "        ], p=0.5),\n",
    "        A.Resize(CFG.image_size, CFG.image_size),\n",
    "        A.Normalize(\n",
    "            mean=[0.4815, 0.4578, 0.4082],\n",
    "            std=[0.2686, 0.2613, 0.2758],\n",
    "            max_pixel_value=255.0),\n",
    "        ToTensorV2(),\n",
    "    ]),\n",
    "\n",
    "    'val': A.Compose([\n",
    "        A.Resize(CFG.image_size, CFG.image_size),\n",
    "        A.Normalize(\n",
    "            mean=[0.4815, 0.4578, 0.4082],\n",
    "            std=[0.2686, 0.2613, 0.2758],\n",
    "            max_pixel_value=255.0),\n",
    "        ToTensorV2(),\n",
    "    ])\n",
    "}"
   ]
  },
  {
   "cell_type": "markdown",
   "id": "16e7f6a6",
   "metadata": {
    "id": "QSzebgg8-v-j",
    "papermill": {
     "duration": 0.006353,
     "end_time": "2024-08-30T11:27:18.277634",
     "exception": false,
     "start_time": "2024-08-30T11:27:18.271281",
     "status": "completed"
    },
    "tags": []
   },
   "source": [
    "# Customizing the image model"
   ]
  },
  {
   "cell_type": "code",
   "execution_count": 7,
   "id": "1c3b1ba2",
   "metadata": {
    "execution": {
     "iopub.execute_input": "2024-08-30T11:27:18.292489Z",
     "iopub.status.busy": "2024-08-30T11:27:18.291905Z",
     "iopub.status.idle": "2024-08-30T11:27:18.299579Z",
     "shell.execute_reply": "2024-08-30T11:27:18.298672Z"
    },
    "id": "uhUwzYAHRelB",
    "papermill": {
     "duration": 0.017545,
     "end_time": "2024-08-30T11:27:18.301814",
     "exception": false,
     "start_time": "2024-08-30T11:27:18.284269",
     "status": "completed"
    },
    "tags": []
   },
   "outputs": [],
   "source": [
    "class ResNet(nn.Module):\n",
    "    def __init__(self, model_name, pretrained=True):\n",
    "        super(ResNet, self).__init__()\n",
    "        self.model = timm.create_model(model_name, pretrained=pretrained, in_chans=3)\n",
    "        num_features = 1000\n",
    "        self.classifier = nn.Sequential(\n",
    "            nn.Linear(num_features, 512),\n",
    "            nn.BatchNorm1d(512),\n",
    "            nn.ReLU(),\n",
    "            nn.Dropout(0.5),\n",
    "            nn.Linear(512, 1),\n",
    "            nn.Sigmoid()\n",
    "        )\n",
    "\n",
    "    def forward(self, x):\n",
    "        x = self.model(x)\n",
    "        x = self.classifier(x)\n",
    "        return x"
   ]
  },
  {
   "cell_type": "markdown",
   "id": "73c9a106",
   "metadata": {
    "id": "NbENY6cl-v-j",
    "papermill": {
     "duration": 0.006333,
     "end_time": "2024-08-30T11:27:18.314652",
     "exception": false,
     "start_time": "2024-08-30T11:27:18.308319",
     "status": "completed"
    },
    "tags": []
   },
   "source": [
    "# Creating a trainer class"
   ]
  },
  {
   "cell_type": "code",
   "execution_count": 8,
   "id": "4aef8f65",
   "metadata": {
    "execution": {
     "iopub.execute_input": "2024-08-30T11:27:18.329577Z",
     "iopub.status.busy": "2024-08-30T11:27:18.329219Z",
     "iopub.status.idle": "2024-08-30T11:27:18.361816Z",
     "shell.execute_reply": "2024-08-30T11:27:18.360703Z"
    },
    "id": "yWUV5TeWvxPs",
    "papermill": {
     "duration": 0.043026,
     "end_time": "2024-08-30T11:27:18.364270",
     "exception": false,
     "start_time": "2024-08-30T11:27:18.321244",
     "status": "completed"
    },
    "tags": []
   },
   "outputs": [],
   "source": [
    "class Trainer:\n",
    "    def __init__(\n",
    "        self,\n",
    "        device,\n",
    "        model,\n",
    "        criterion,\n",
    "        optimizer,\n",
    "        scheduler,\n",
    "        train_dataloader,\n",
    "        val_dataloader,\n",
    "        checkpoint_path,\n",
    "        fold_idx,\n",
    "        es_patience\n",
    "    ):\n",
    "        self.device = device\n",
    "        self.model = model\n",
    "        self.criterion = criterion\n",
    "        self.optimizer = optimizer\n",
    "        self.scheduler = scheduler\n",
    "        self.train_dataloader = train_dataloader\n",
    "        self.val_dataloader = val_dataloader\n",
    "        self.checkpoint_path = checkpoint_path\n",
    "        self.best_pauc = 0.0\n",
    "        self.best_model_path = None\n",
    "        self.fold_idx = fold_idx\n",
    "        self.es_patience = es_patience\n",
    "        self.create_checkpoint_path()\n",
    "\n",
    "    def create_checkpoint_path(self):\n",
    "        if not os.path.exists(self.checkpoint_path):\n",
    "            os.makedirs(self.checkpoint_path)\n",
    "\n",
    "    @staticmethod\n",
    "    def p_roc_auc_score(y_true, y_preds, min_tpr: float = 0.80):\n",
    "        v_gt = abs(np.asarray(y_true)-1)\n",
    "        v_pred = -1.0 * np.asarray(y_preds)\n",
    "        max_fpr = abs(1-min_tpr)\n",
    "        fpr, tpr, _ = roc_curve(v_gt, v_pred, sample_weight=None)\n",
    "        if max_fpr is None or max_fpr == 1:\n",
    "            return auc(fpr, tpr)\n",
    "        if max_fpr <= 0 or max_fpr > 1:\n",
    "            raise ValueError(\"Expected min_tpr in range [0, 1), got: %r\" % min_tpr)\n",
    "        stop = np.searchsorted(fpr, max_fpr, \"right\")\n",
    "        x_interp = [fpr[stop - 1], fpr[stop]]\n",
    "        y_interp = [tpr[stop - 1], tpr[stop]]\n",
    "        tpr = np.append(tpr[:stop], np.interp(max_fpr, x_interp, y_interp))\n",
    "        fpr = np.append(fpr[:stop], max_fpr)\n",
    "        partial_auc = auc(fpr, tpr)\n",
    "        return partial_auc\n",
    "\n",
    "    def train(self, current_epoch_nr):\n",
    "        self.model.train()\n",
    "\n",
    "        num_batches = len(self.train_dataloader)\n",
    "\n",
    "        running_loss = 0.0\n",
    "        total = 0\n",
    "\n",
    "        preds = []\n",
    "        targets = []\n",
    "\n",
    "        loop = tqdm(self.train_dataloader, total=num_batches)\n",
    "        for batch in loop:\n",
    "            x, y = batch\n",
    "            x, y = x.to(self.device, dtype=torch.float), y.to(self.device, dtype=torch.float)\n",
    "\n",
    "            self.optimizer.zero_grad()\n",
    "\n",
    "            y_hat = self.model(x).squeeze()\n",
    "\n",
    "            preds.extend(y_hat.detach().cpu().numpy())\n",
    "            targets.extend(y.detach().cpu().numpy())\n",
    "\n",
    "            loss = self.criterion(y_hat, y)\n",
    "            loss.backward()\n",
    "            self.optimizer.step()\n",
    "\n",
    "            running_loss += loss.item() * x.size(0)\n",
    "            total += y.size(0)\n",
    "\n",
    "            loop.set_description(f'Epoch {current_epoch_nr}')\n",
    "            loop.set_postfix(train_loss=round(running_loss / total, 6))\n",
    "\n",
    "            if self.scheduler is not None:\n",
    "                self.scheduler.step()\n",
    "\n",
    "        train_pauc = self.p_roc_auc_score(targets, preds)\n",
    "        train_loss = running_loss / num_batches\n",
    "\n",
    "        return train_pauc, train_loss\n",
    "\n",
    "    def evaluate(self, current_epoch_nr):\n",
    "        self.model.eval()\n",
    "\n",
    "        num_batches = len(self.val_dataloader)\n",
    "\n",
    "        running_loss = 0.0\n",
    "        total = 0\n",
    "\n",
    "        preds = []\n",
    "        targets = []\n",
    "\n",
    "        with torch.no_grad():\n",
    "            loop = tqdm(self.val_dataloader, total=num_batches)\n",
    "            for batch in loop:\n",
    "                x, y = batch\n",
    "                x, y = x.to(self.device, dtype=torch.float), y.to(self.device, dtype=torch.float)\n",
    "\n",
    "                self.optimizer.zero_grad()\n",
    "\n",
    "                y_hat = self.model(x).squeeze()\n",
    "\n",
    "                preds.extend(y_hat.detach().cpu().numpy())\n",
    "                targets.extend(y.detach().cpu().numpy())\n",
    "\n",
    "                loss = self.criterion(y_hat, y)\n",
    "                running_loss += loss.item() * x.size(0)\n",
    "                total += y.size(0)\n",
    "\n",
    "                loop.set_description(f'Epoch {current_epoch_nr}')\n",
    "                loop.set_postfix(val_loss=round(running_loss / total, 6))\n",
    "\n",
    "        val_pauc = self.p_roc_auc_score(targets, preds)\n",
    "        val_loss = running_loss / num_batches\n",
    "\n",
    "        if val_pauc > self.best_pauc:\n",
    "            self.es_patience = CFG.es_patience\n",
    "            if self.best_pauc != 0.0:\n",
    "                print(f'New best model found: pAUC = {val_pauc:.6f} (previous best: {self.best_pauc:.6f})')\n",
    "            self.best_pauc = val_pauc\n",
    "            checkpoint_name = f'fold_{self.fold_idx}_epoch_{current_epoch_nr}_pauc_{round(val_pauc, 6)}.pth'\n",
    "\n",
    "            for file in os.listdir(self.checkpoint_path):\n",
    "                if file.startswith(f'fold_{self.fold_idx}_epoch_'):\n",
    "                    os.remove(os.path.join(self.checkpoint_path, file))\n",
    "\n",
    "            torch.save(\n",
    "                self.model.state_dict(),\n",
    "                os.path.join(self.checkpoint_path, checkpoint_name)\n",
    "            )\n",
    "            self.best_model_path = os.path.join(\n",
    "                self.checkpoint_path, checkpoint_name)\n",
    "\n",
    "        else:\n",
    "            self.es_patience -= 1\n",
    "            if self.es_patience == 0:\n",
    "                print(f'Early stopping triggered at epoch {current_epoch_nr}. Best pAUC = {self.best_pauc:.6f}')\n",
    "                return val_pauc, val_loss, True\n",
    "\n",
    "        return val_pauc, val_loss, False\n",
    "\n",
    "    def predict(self, dataloader):\n",
    "        model = self.model.to(self.device)\n",
    "        model.load_state_dict(torch.load(self.best_model_path))\n",
    "        model.eval()\n",
    "\n",
    "        preds = []\n",
    "        with torch.no_grad():\n",
    "            loop = tqdm(dataloader, total=len(dataloader))\n",
    "            for batch in loop:\n",
    "                x, _ = batch\n",
    "                x = x.to(self.device, dtype=torch.float)\n",
    "                y_hat = model(x).squeeze()\n",
    "                preds.extend(y_hat.detach().cpu().numpy())\n",
    "                loop.set_description(f'Prediction')\n",
    "\n",
    "        return preds"
   ]
  },
  {
   "cell_type": "markdown",
   "id": "f1241148",
   "metadata": {
    "id": "uE7oYGyR-v-j",
    "papermill": {
     "duration": 0.006187,
     "end_time": "2024-08-30T11:27:18.377116",
     "exception": false,
     "start_time": "2024-08-30T11:27:18.370929",
     "status": "completed"
    },
    "tags": []
   },
   "source": [
    "# Training and cross-validation"
   ]
  },
  {
   "cell_type": "code",
   "execution_count": 9,
   "id": "9de1f0b5",
   "metadata": {
    "_kg_hide-output": true,
    "execution": {
     "iopub.execute_input": "2024-08-30T11:27:18.391902Z",
     "iopub.status.busy": "2024-08-30T11:27:18.391044Z",
     "iopub.status.idle": "2024-08-30T18:17:45.792389Z",
     "shell.execute_reply": "2024-08-30T18:17:45.791147Z"
    },
    "id": "z6ry0OmfyEmZ",
    "outputId": "be79b77b-0941-4759-b0c8-635e6c72b19e",
    "papermill": {
     "duration": 24627.411476,
     "end_time": "2024-08-30T18:17:45.795076",
     "exception": false,
     "start_time": "2024-08-30T11:27:18.383600",
     "status": "completed"
    },
    "tags": []
   },
   "outputs": [
    {
     "name": "stdout",
     "output_type": "stream",
     "text": [
      "---------------------------------- Fold 1 ----------------------------------\n"
     ]
    },
    {
     "data": {
      "application/vnd.jupyter.widget-view+json": {
       "model_id": "35344fb82fb24d43acc83d53eb821e0c",
       "version_major": 2,
       "version_minor": 0
      },
      "text/plain": [
       "model.safetensors:   0%|          | 0.00/102M [00:00<?, ?B/s]"
      ]
     },
     "metadata": {},
     "output_type": "display_data"
    },
    {
     "name": "stderr",
     "output_type": "stream",
     "text": [
      "Epoch 1: 100%|██████████| 207/207 [02:11<00:00,  1.57it/s, train_loss=0.224]\n",
      "Epoch 1: 100%|██████████| 26/26 [00:04<00:00,  6.26it/s, val_loss=0.176]\n"
     ]
    },
    {
     "name": "stdout",
     "output_type": "stream",
     "text": [
      "Epoch 1: Train pAUC: 0.040874 - Val pAUC: 0.055717 | Train Loss: 7.133722 - Val Loss: 11.203990\n",
      "\n"
     ]
    },
    {
     "name": "stderr",
     "output_type": "stream",
     "text": [
      "Epoch 2: 100%|██████████| 207/207 [02:09<00:00,  1.59it/s, train_loss=0.169]\n",
      "Epoch 2: 100%|██████████| 26/26 [00:03<00:00,  7.79it/s, val_loss=0.182]\n"
     ]
    },
    {
     "name": "stdout",
     "output_type": "stream",
     "text": [
      "New best model found: pAUC = 0.056494 (previous best: 0.055717)\n",
      "Epoch 2: Train pAUC: 0.063389 - Val pAUC: 0.056494 | Train Loss: 5.380829 - Val Loss: 11.635239\n",
      "\n"
     ]
    },
    {
     "name": "stderr",
     "output_type": "stream",
     "text": [
      "Epoch 3: 100%|██████████| 207/207 [02:09<00:00,  1.59it/s, train_loss=0.157]\n",
      "Epoch 3: 100%|██████████| 26/26 [00:03<00:00,  7.85it/s, val_loss=0.167]\n"
     ]
    },
    {
     "name": "stdout",
     "output_type": "stream",
     "text": [
      "New best model found: pAUC = 0.073116 (previous best: 0.056494)\n",
      "Epoch 3: Train pAUC: 0.086811 - Val pAUC: 0.073116 | Train Loss: 4.992704 - Val Loss: 10.675984\n",
      "\n"
     ]
    },
    {
     "name": "stderr",
     "output_type": "stream",
     "text": [
      "Epoch 4: 100%|██████████| 207/207 [02:09<00:00,  1.59it/s, train_loss=0.141]\n",
      "Epoch 4: 100%|██████████| 26/26 [00:03<00:00,  8.12it/s, val_loss=0.18]\n"
     ]
    },
    {
     "name": "stdout",
     "output_type": "stream",
     "text": [
      "New best model found: pAUC = 0.090058 (previous best: 0.073116)\n",
      "Epoch 4: Train pAUC: 0.103911 - Val pAUC: 0.090058 | Train Loss: 4.494509 - Val Loss: 11.456254\n",
      "\n"
     ]
    },
    {
     "name": "stderr",
     "output_type": "stream",
     "text": [
      "Epoch 5: 100%|██████████| 207/207 [02:09<00:00,  1.60it/s, train_loss=0.144]\n",
      "Epoch 5: 100%|██████████| 26/26 [00:03<00:00,  8.17it/s, val_loss=0.154]\n"
     ]
    },
    {
     "name": "stdout",
     "output_type": "stream",
     "text": [
      "Epoch 5: Train pAUC: 0.108508 - Val pAUC: 0.089907 | Train Loss: 4.601378 - Val Loss: 9.845540\n",
      "\n"
     ]
    },
    {
     "name": "stderr",
     "output_type": "stream",
     "text": [
      "Epoch 6: 100%|██████████| 207/207 [02:09<00:00,  1.59it/s, train_loss=0.137]\n",
      "Epoch 6: 100%|██████████| 26/26 [00:03<00:00,  8.00it/s, val_loss=0.16]\n"
     ]
    },
    {
     "name": "stdout",
     "output_type": "stream",
     "text": [
      "Epoch 6: Train pAUC: 0.110747 - Val pAUC: 0.084459 | Train Loss: 4.373215 - Val Loss: 10.199611\n",
      "\n"
     ]
    },
    {
     "name": "stderr",
     "output_type": "stream",
     "text": [
      "Epoch 7: 100%|██████████| 207/207 [02:09<00:00,  1.60it/s, train_loss=0.138]\n",
      "Epoch 7: 100%|██████████| 26/26 [00:03<00:00,  8.15it/s, val_loss=0.152]\n"
     ]
    },
    {
     "name": "stdout",
     "output_type": "stream",
     "text": [
      "Epoch 7: Train pAUC: 0.115177 - Val pAUC: 0.078082 | Train Loss: 4.381727 - Val Loss: 9.680041\n",
      "\n"
     ]
    },
    {
     "name": "stderr",
     "output_type": "stream",
     "text": [
      "Epoch 8: 100%|██████████| 207/207 [02:09<00:00,  1.60it/s, train_loss=0.133]\n",
      "Epoch 8: 100%|██████████| 26/26 [00:03<00:00,  8.29it/s, val_loss=0.159]\n"
     ]
    },
    {
     "name": "stdout",
     "output_type": "stream",
     "text": [
      "New best model found: pAUC = 0.091298 (previous best: 0.090058)\n",
      "Epoch 8: Train pAUC: 0.121285 - Val pAUC: 0.091298 | Train Loss: 4.223407 - Val Loss: 10.170503\n",
      "\n"
     ]
    },
    {
     "name": "stderr",
     "output_type": "stream",
     "text": [
      "Epoch 9: 100%|██████████| 207/207 [02:09<00:00,  1.59it/s, train_loss=0.132]\n",
      "Epoch 9: 100%|██████████| 26/26 [00:03<00:00,  8.18it/s, val_loss=0.141]\n"
     ]
    },
    {
     "name": "stdout",
     "output_type": "stream",
     "text": [
      "New best model found: pAUC = 0.117254 (previous best: 0.091298)\n",
      "Epoch 9: Train pAUC: 0.118382 - Val pAUC: 0.117254 | Train Loss: 4.206985 - Val Loss: 8.990828\n",
      "\n"
     ]
    },
    {
     "name": "stderr",
     "output_type": "stream",
     "text": [
      "Epoch 10: 100%|██████████| 207/207 [02:09<00:00,  1.59it/s, train_loss=0.133]\n",
      "Epoch 10: 100%|██████████| 26/26 [00:03<00:00,  8.34it/s, val_loss=0.136]\n"
     ]
    },
    {
     "name": "stdout",
     "output_type": "stream",
     "text": [
      "New best model found: pAUC = 0.119877 (previous best: 0.117254)\n",
      "Epoch 10: Train pAUC: 0.117048 - Val pAUC: 0.119877 | Train Loss: 4.245768 - Val Loss: 8.694202\n",
      "\n"
     ]
    },
    {
     "name": "stderr",
     "output_type": "stream",
     "text": [
      "Epoch 11: 100%|██████████| 207/207 [02:09<00:00,  1.59it/s, train_loss=0.129]\n",
      "Epoch 11: 100%|██████████| 26/26 [00:03<00:00,  8.25it/s, val_loss=0.15]\n"
     ]
    },
    {
     "name": "stdout",
     "output_type": "stream",
     "text": [
      "Epoch 11: Train pAUC: 0.125342 - Val pAUC: 0.108007 | Train Loss: 4.116966 - Val Loss: 9.568602\n",
      "\n"
     ]
    },
    {
     "name": "stderr",
     "output_type": "stream",
     "text": [
      "Epoch 12: 100%|██████████| 207/207 [02:09<00:00,  1.60it/s, train_loss=0.124]\n",
      "Epoch 12: 100%|██████████| 26/26 [00:03<00:00,  8.34it/s, val_loss=0.145]\n"
     ]
    },
    {
     "name": "stdout",
     "output_type": "stream",
     "text": [
      "Epoch 12: Train pAUC: 0.127320 - Val pAUC: 0.105238 | Train Loss: 3.962811 - Val Loss: 9.280358\n",
      "\n"
     ]
    },
    {
     "name": "stderr",
     "output_type": "stream",
     "text": [
      "Epoch 13: 100%|██████████| 207/207 [02:09<00:00,  1.60it/s, train_loss=0.127]\n",
      "Epoch 13: 100%|██████████| 26/26 [00:03<00:00,  8.13it/s, val_loss=0.151]\n"
     ]
    },
    {
     "name": "stdout",
     "output_type": "stream",
     "text": [
      "Epoch 13: Train pAUC: 0.131207 - Val pAUC: 0.114764 | Train Loss: 4.043106 - Val Loss: 9.639033\n",
      "\n"
     ]
    },
    {
     "name": "stderr",
     "output_type": "stream",
     "text": [
      "Epoch 14: 100%|██████████| 207/207 [02:09<00:00,  1.59it/s, train_loss=0.119]\n",
      "Epoch 14: 100%|██████████| 26/26 [00:03<00:00,  8.21it/s, val_loss=0.138]\n"
     ]
    },
    {
     "name": "stdout",
     "output_type": "stream",
     "text": [
      "Epoch 14: Train pAUC: 0.138105 - Val pAUC: 0.104972 | Train Loss: 3.785653 - Val Loss: 8.827988\n",
      "\n"
     ]
    },
    {
     "name": "stderr",
     "output_type": "stream",
     "text": [
      "Epoch 15: 100%|██████████| 207/207 [02:09<00:00,  1.59it/s, train_loss=0.118]\n",
      "Epoch 15: 100%|██████████| 26/26 [00:03<00:00,  8.29it/s, val_loss=0.136]\n"
     ]
    },
    {
     "name": "stdout",
     "output_type": "stream",
     "text": [
      "Epoch 15: Train pAUC: 0.140124 - Val pAUC: 0.117576 | Train Loss: 3.762336 - Val Loss: 8.687482\n",
      "\n"
     ]
    },
    {
     "name": "stderr",
     "output_type": "stream",
     "text": [
      "Epoch 16: 100%|██████████| 207/207 [02:09<00:00,  1.60it/s, train_loss=0.116]\n",
      "Epoch 16: 100%|██████████| 26/26 [00:03<00:00,  7.70it/s, val_loss=0.144]\n"
     ]
    },
    {
     "name": "stdout",
     "output_type": "stream",
     "text": [
      "Epoch 16: Train pAUC: 0.135520 - Val pAUC: 0.105217 | Train Loss: 3.695649 - Val Loss: 9.195826\n",
      "\n"
     ]
    },
    {
     "name": "stderr",
     "output_type": "stream",
     "text": [
      "Epoch 17: 100%|██████████| 207/207 [02:09<00:00,  1.59it/s, train_loss=0.114]\n",
      "Epoch 17: 100%|██████████| 26/26 [00:03<00:00,  8.39it/s, val_loss=0.158]\n"
     ]
    },
    {
     "name": "stdout",
     "output_type": "stream",
     "text": [
      "Epoch 17: Train pAUC: 0.144609 - Val pAUC: 0.105571 | Train Loss: 3.616860 - Val Loss: 10.065620\n",
      "\n"
     ]
    },
    {
     "name": "stderr",
     "output_type": "stream",
     "text": [
      "Epoch 18: 100%|██████████| 207/207 [02:09<00:00,  1.60it/s, train_loss=0.111]\n",
      "Epoch 18: 100%|██████████| 26/26 [00:03<00:00,  7.65it/s, val_loss=0.149]\n"
     ]
    },
    {
     "name": "stdout",
     "output_type": "stream",
     "text": [
      "Epoch 18: Train pAUC: 0.145332 - Val pAUC: 0.115840 | Train Loss: 3.547702 - Val Loss: 9.534632\n",
      "\n"
     ]
    },
    {
     "name": "stderr",
     "output_type": "stream",
     "text": [
      "Epoch 19: 100%|██████████| 207/207 [02:09<00:00,  1.60it/s, train_loss=0.109]\n",
      "Epoch 19: 100%|██████████| 26/26 [00:03<00:00,  8.19it/s, val_loss=0.137]\n"
     ]
    },
    {
     "name": "stdout",
     "output_type": "stream",
     "text": [
      "Epoch 19: Train pAUC: 0.152299 - Val pAUC: 0.112831 | Train Loss: 3.476585 - Val Loss: 8.729303\n",
      "\n"
     ]
    },
    {
     "name": "stderr",
     "output_type": "stream",
     "text": [
      "Epoch 20: 100%|██████████| 207/207 [02:09<00:00,  1.60it/s, train_loss=0.106]\n",
      "Epoch 20: 100%|██████████| 26/26 [00:03<00:00,  8.06it/s, val_loss=0.143]\n"
     ]
    },
    {
     "name": "stdout",
     "output_type": "stream",
     "text": [
      "Epoch 20: Train pAUC: 0.149418 - Val pAUC: 0.105650 | Train Loss: 3.361067 - Val Loss: 9.125481\n",
      "\n"
     ]
    },
    {
     "name": "stderr",
     "output_type": "stream",
     "text": [
      "Epoch 21: 100%|██████████| 207/207 [02:09<00:00,  1.60it/s, train_loss=0.112]\n",
      "Epoch 21: 100%|██████████| 26/26 [00:03<00:00,  8.40it/s, val_loss=0.146]\n"
     ]
    },
    {
     "name": "stdout",
     "output_type": "stream",
     "text": [
      "Epoch 21: Train pAUC: 0.143151 - Val pAUC: 0.091285 | Train Loss: 3.577996 - Val Loss: 9.335503\n",
      "\n"
     ]
    },
    {
     "name": "stderr",
     "output_type": "stream",
     "text": [
      "Epoch 22: 100%|██████████| 207/207 [02:09<00:00,  1.60it/s, train_loss=0.104]\n",
      "Epoch 22: 100%|██████████| 26/26 [00:03<00:00,  8.10it/s, val_loss=0.149]\n"
     ]
    },
    {
     "name": "stdout",
     "output_type": "stream",
     "text": [
      "Epoch 22: Train pAUC: 0.159344 - Val pAUC: 0.103971 | Train Loss: 3.312649 - Val Loss: 9.533712\n",
      "\n"
     ]
    },
    {
     "name": "stderr",
     "output_type": "stream",
     "text": [
      "Epoch 23: 100%|██████████| 207/207 [02:09<00:00,  1.59it/s, train_loss=0.0998]\n",
      "Epoch 23: 100%|██████████| 26/26 [00:03<00:00,  7.35it/s, val_loss=0.15]\n"
     ]
    },
    {
     "name": "stdout",
     "output_type": "stream",
     "text": [
      "Epoch 23: Train pAUC: 0.155869 - Val pAUC: 0.105695 | Train Loss: 3.179135 - Val Loss: 9.569366\n",
      "\n"
     ]
    },
    {
     "name": "stderr",
     "output_type": "stream",
     "text": [
      "Epoch 24: 100%|██████████| 207/207 [02:09<00:00,  1.59it/s, train_loss=0.101]\n",
      "Epoch 24: 100%|██████████| 26/26 [00:03<00:00,  8.25it/s, val_loss=0.146]\n"
     ]
    },
    {
     "name": "stdout",
     "output_type": "stream",
     "text": [
      "Epoch 24: Train pAUC: 0.159668 - Val pAUC: 0.109665 | Train Loss: 3.213269 - Val Loss: 9.314581\n",
      "\n"
     ]
    },
    {
     "name": "stderr",
     "output_type": "stream",
     "text": [
      "Epoch 25: 100%|██████████| 207/207 [02:09<00:00,  1.59it/s, train_loss=0.103]\n",
      "Epoch 25: 100%|██████████| 26/26 [00:03<00:00,  8.17it/s, val_loss=0.138]\n"
     ]
    },
    {
     "name": "stdout",
     "output_type": "stream",
     "text": [
      "Early stopping triggered at epoch 25. Best pAUC = 0.119877\n",
      "Epoch 25: Train pAUC: 0.153534 - Val pAUC: 0.119285 | Train Loss: 3.284744 - Val Loss: 8.780957\n",
      "\n"
     ]
    },
    {
     "name": "stderr",
     "output_type": "stream",
     "text": [
      "Prediction: 100%|██████████| 1211/1211 [02:00<00:00, 10.02it/s]\n"
     ]
    },
    {
     "name": "stdout",
     "output_type": "stream",
     "text": [
      "---------------------------------- Fold 2 ----------------------------------\n"
     ]
    },
    {
     "name": "stderr",
     "output_type": "stream",
     "text": [
      "Epoch 1: 100%|██████████| 215/215 [02:15<00:00,  1.59it/s, train_loss=0.222]\n",
      "Epoch 1: 100%|██████████| 22/22 [00:02<00:00,  7.56it/s, val_loss=0.172]\n"
     ]
    },
    {
     "name": "stdout",
     "output_type": "stream",
     "text": [
      "Epoch 1: Train pAUC: 0.039496 - Val pAUC: 0.072932 | Train Loss: 7.100747 - Val Loss: 10.817678\n",
      "\n"
     ]
    },
    {
     "name": "stderr",
     "output_type": "stream",
     "text": [
      "Epoch 2: 100%|██████████| 215/215 [02:15<00:00,  1.59it/s, train_loss=0.172]\n",
      "Epoch 2: 100%|██████████| 22/22 [00:02<00:00,  7.48it/s, val_loss=0.155]\n"
     ]
    },
    {
     "name": "stdout",
     "output_type": "stream",
     "text": [
      "New best model found: pAUC = 0.106006 (previous best: 0.072932)\n",
      "Epoch 2: Train pAUC: 0.058129 - Val pAUC: 0.106006 | Train Loss: 5.481589 - Val Loss: 9.790263\n",
      "\n"
     ]
    },
    {
     "name": "stderr",
     "output_type": "stream",
     "text": [
      "Epoch 3: 100%|██████████| 215/215 [02:15<00:00,  1.59it/s, train_loss=0.156]\n",
      "Epoch 3: 100%|██████████| 22/22 [00:02<00:00,  7.84it/s, val_loss=0.154]\n"
     ]
    },
    {
     "name": "stdout",
     "output_type": "stream",
     "text": [
      "Epoch 3: Train pAUC: 0.075685 - Val pAUC: 0.102165 | Train Loss: 4.995267 - Val Loss: 9.675282\n",
      "\n"
     ]
    },
    {
     "name": "stderr",
     "output_type": "stream",
     "text": [
      "Epoch 4: 100%|██████████| 215/215 [02:15<00:00,  1.59it/s, train_loss=0.152]\n",
      "Epoch 4: 100%|██████████| 22/22 [00:02<00:00,  7.78it/s, val_loss=0.139]\n"
     ]
    },
    {
     "name": "stdout",
     "output_type": "stream",
     "text": [
      "New best model found: pAUC = 0.120962 (previous best: 0.106006)\n",
      "Epoch 4: Train pAUC: 0.086223 - Val pAUC: 0.120962 | Train Loss: 4.862446 - Val Loss: 8.763135\n",
      "\n"
     ]
    },
    {
     "name": "stderr",
     "output_type": "stream",
     "text": [
      "Epoch 5: 100%|██████████| 215/215 [02:15<00:00,  1.59it/s, train_loss=0.144]\n",
      "Epoch 5: 100%|██████████| 22/22 [00:03<00:00,  7.14it/s, val_loss=0.122]\n"
     ]
    },
    {
     "name": "stdout",
     "output_type": "stream",
     "text": [
      "New best model found: pAUC = 0.144275 (previous best: 0.120962)\n",
      "Epoch 5: Train pAUC: 0.087327 - Val pAUC: 0.144275 | Train Loss: 4.607624 - Val Loss: 7.700978\n",
      "\n"
     ]
    },
    {
     "name": "stderr",
     "output_type": "stream",
     "text": [
      "Epoch 6: 100%|██████████| 215/215 [02:15<00:00,  1.59it/s, train_loss=0.133]\n",
      "Epoch 6: 100%|██████████| 22/22 [00:02<00:00,  7.75it/s, val_loss=0.127]\n"
     ]
    },
    {
     "name": "stdout",
     "output_type": "stream",
     "text": [
      "Epoch 6: Train pAUC: 0.106964 - Val pAUC: 0.128072 | Train Loss: 4.241541 - Val Loss: 7.980492\n",
      "\n"
     ]
    },
    {
     "name": "stderr",
     "output_type": "stream",
     "text": [
      "Epoch 7: 100%|██████████| 215/215 [02:15<00:00,  1.59it/s, train_loss=0.131]\n",
      "Epoch 7: 100%|██████████| 22/22 [00:02<00:00,  7.50it/s, val_loss=0.127]\n"
     ]
    },
    {
     "name": "stdout",
     "output_type": "stream",
     "text": [
      "Epoch 7: Train pAUC: 0.105987 - Val pAUC: 0.130865 | Train Loss: 4.187077 - Val Loss: 7.977860\n",
      "\n"
     ]
    },
    {
     "name": "stderr",
     "output_type": "stream",
     "text": [
      "Epoch 8: 100%|██████████| 215/215 [02:15<00:00,  1.59it/s, train_loss=0.125]\n",
      "Epoch 8: 100%|██████████| 22/22 [00:02<00:00,  7.81it/s, val_loss=0.132]\n"
     ]
    },
    {
     "name": "stdout",
     "output_type": "stream",
     "text": [
      "Epoch 8: Train pAUC: 0.120531 - Val pAUC: 0.122339 | Train Loss: 3.997022 - Val Loss: 8.302119\n",
      "\n"
     ]
    },
    {
     "name": "stderr",
     "output_type": "stream",
     "text": [
      "Epoch 9: 100%|██████████| 215/215 [02:15<00:00,  1.59it/s, train_loss=0.123]\n",
      "Epoch 9: 100%|██████████| 22/22 [00:02<00:00,  7.73it/s, val_loss=0.128]\n"
     ]
    },
    {
     "name": "stdout",
     "output_type": "stream",
     "text": [
      "Epoch 9: Train pAUC: 0.127124 - Val pAUC: 0.138625 | Train Loss: 3.917451 - Val Loss: 8.078705\n",
      "\n"
     ]
    },
    {
     "name": "stderr",
     "output_type": "stream",
     "text": [
      "Epoch 10: 100%|██████████| 215/215 [02:15<00:00,  1.59it/s, train_loss=0.123]\n",
      "Epoch 10: 100%|██████████| 22/22 [00:02<00:00,  7.79it/s, val_loss=0.118]\n"
     ]
    },
    {
     "name": "stdout",
     "output_type": "stream",
     "text": [
      "Epoch 10: Train pAUC: 0.126053 - Val pAUC: 0.136458 | Train Loss: 3.919363 - Val Loss: 7.449952\n",
      "\n"
     ]
    },
    {
     "name": "stderr",
     "output_type": "stream",
     "text": [
      "Epoch 11: 100%|██████████| 215/215 [02:15<00:00,  1.59it/s, train_loss=0.122]\n",
      "Epoch 11: 100%|██████████| 22/22 [00:02<00:00,  7.69it/s, val_loss=0.121]\n"
     ]
    },
    {
     "name": "stdout",
     "output_type": "stream",
     "text": [
      "Epoch 11: Train pAUC: 0.122700 - Val pAUC: 0.140666 | Train Loss: 3.895456 - Val Loss: 7.614349\n",
      "\n"
     ]
    },
    {
     "name": "stderr",
     "output_type": "stream",
     "text": [
      "Epoch 12: 100%|██████████| 215/215 [02:15<00:00,  1.59it/s, train_loss=0.117]\n",
      "Epoch 12: 100%|██████████| 22/22 [00:02<00:00,  7.43it/s, val_loss=0.141]\n"
     ]
    },
    {
     "name": "stdout",
     "output_type": "stream",
     "text": [
      "Epoch 12: Train pAUC: 0.139085 - Val pAUC: 0.116724 | Train Loss: 3.743077 - Val Loss: 8.882961\n",
      "\n"
     ]
    },
    {
     "name": "stderr",
     "output_type": "stream",
     "text": [
      "Epoch 13: 100%|██████████| 215/215 [02:15<00:00,  1.59it/s, train_loss=0.115]\n",
      "Epoch 13: 100%|██████████| 22/22 [00:02<00:00,  7.57it/s, val_loss=0.133]\n"
     ]
    },
    {
     "name": "stdout",
     "output_type": "stream",
     "text": [
      "Epoch 13: Train pAUC: 0.136659 - Val pAUC: 0.129922 | Train Loss: 3.677943 - Val Loss: 8.405208\n",
      "\n"
     ]
    },
    {
     "name": "stderr",
     "output_type": "stream",
     "text": [
      "Epoch 14: 100%|██████████| 215/215 [02:15<00:00,  1.59it/s, train_loss=0.111]\n",
      "Epoch 14: 100%|██████████| 22/22 [00:02<00:00,  7.49it/s, val_loss=0.131]\n"
     ]
    },
    {
     "name": "stdout",
     "output_type": "stream",
     "text": [
      "Epoch 14: Train pAUC: 0.141943 - Val pAUC: 0.126979 | Train Loss: 3.549760 - Val Loss: 8.256404\n",
      "\n"
     ]
    },
    {
     "name": "stderr",
     "output_type": "stream",
     "text": [
      "Epoch 15: 100%|██████████| 215/215 [02:15<00:00,  1.59it/s, train_loss=0.111]\n",
      "Epoch 15: 100%|██████████| 22/22 [00:02<00:00,  7.65it/s, val_loss=0.148]\n"
     ]
    },
    {
     "name": "stdout",
     "output_type": "stream",
     "text": [
      "Epoch 15: Train pAUC: 0.140495 - Val pAUC: 0.135055 | Train Loss: 3.535425 - Val Loss: 9.348295\n",
      "\n"
     ]
    },
    {
     "name": "stderr",
     "output_type": "stream",
     "text": [
      "Epoch 16: 100%|██████████| 215/215 [02:15<00:00,  1.59it/s, train_loss=0.112]\n",
      "Epoch 16: 100%|██████████| 22/22 [00:02<00:00,  7.74it/s, val_loss=0.144]\n"
     ]
    },
    {
     "name": "stdout",
     "output_type": "stream",
     "text": [
      "New best model found: pAUC = 0.152112 (previous best: 0.144275)\n",
      "Epoch 16: Train pAUC: 0.142943 - Val pAUC: 0.152112 | Train Loss: 3.574072 - Val Loss: 9.056115\n",
      "\n"
     ]
    },
    {
     "name": "stderr",
     "output_type": "stream",
     "text": [
      "Epoch 17: 100%|██████████| 215/215 [02:15<00:00,  1.59it/s, train_loss=0.11]\n",
      "Epoch 17: 100%|██████████| 22/22 [00:02<00:00,  7.93it/s, val_loss=0.129]\n"
     ]
    },
    {
     "name": "stdout",
     "output_type": "stream",
     "text": [
      "Epoch 17: Train pAUC: 0.139355 - Val pAUC: 0.134160 | Train Loss: 3.511820 - Val Loss: 8.138721\n",
      "\n"
     ]
    },
    {
     "name": "stderr",
     "output_type": "stream",
     "text": [
      "Epoch 18: 100%|██████████| 215/215 [02:15<00:00,  1.59it/s, train_loss=0.112]\n",
      "Epoch 18: 100%|██████████| 22/22 [00:02<00:00,  7.48it/s, val_loss=0.127]\n"
     ]
    },
    {
     "name": "stdout",
     "output_type": "stream",
     "text": [
      "Epoch 18: Train pAUC: 0.145538 - Val pAUC: 0.150188 | Train Loss: 3.566832 - Val Loss: 7.993136\n",
      "\n"
     ]
    },
    {
     "name": "stderr",
     "output_type": "stream",
     "text": [
      "Epoch 19: 100%|██████████| 215/215 [02:15<00:00,  1.59it/s, train_loss=0.106]\n",
      "Epoch 19: 100%|██████████| 22/22 [00:02<00:00,  7.34it/s, val_loss=0.13]\n"
     ]
    },
    {
     "name": "stdout",
     "output_type": "stream",
     "text": [
      "Epoch 19: Train pAUC: 0.145567 - Val pAUC: 0.131609 | Train Loss: 3.374789 - Val Loss: 8.206439\n",
      "\n"
     ]
    },
    {
     "name": "stderr",
     "output_type": "stream",
     "text": [
      "Epoch 20: 100%|██████████| 215/215 [02:15<00:00,  1.59it/s, train_loss=0.0971]\n",
      "Epoch 20: 100%|██████████| 22/22 [00:02<00:00,  7.72it/s, val_loss=0.131]\n"
     ]
    },
    {
     "name": "stdout",
     "output_type": "stream",
     "text": [
      "Epoch 20: Train pAUC: 0.156024 - Val pAUC: 0.143827 | Train Loss: 3.101781 - Val Loss: 8.264671\n",
      "\n"
     ]
    },
    {
     "name": "stderr",
     "output_type": "stream",
     "text": [
      "Epoch 21: 100%|██████████| 215/215 [02:15<00:00,  1.59it/s, train_loss=0.0958]\n",
      "Epoch 21: 100%|██████████| 22/22 [00:02<00:00,  7.35it/s, val_loss=0.123]\n"
     ]
    },
    {
     "name": "stdout",
     "output_type": "stream",
     "text": [
      "Epoch 21: Train pAUC: 0.153050 - Val pAUC: 0.136816 | Train Loss: 3.058606 - Val Loss: 7.737798\n",
      "\n"
     ]
    },
    {
     "name": "stderr",
     "output_type": "stream",
     "text": [
      "Epoch 22: 100%|██████████| 215/215 [02:15<00:00,  1.59it/s, train_loss=0.104]\n",
      "Epoch 22: 100%|██████████| 22/22 [00:03<00:00,  6.82it/s, val_loss=0.123]\n"
     ]
    },
    {
     "name": "stdout",
     "output_type": "stream",
     "text": [
      "Epoch 22: Train pAUC: 0.149449 - Val pAUC: 0.150491 | Train Loss: 3.328640 - Val Loss: 7.767799\n",
      "\n"
     ]
    },
    {
     "name": "stderr",
     "output_type": "stream",
     "text": [
      "Epoch 23: 100%|██████████| 215/215 [02:15<00:00,  1.59it/s, train_loss=0.0969]\n",
      "Epoch 23: 100%|██████████| 22/22 [00:02<00:00,  7.64it/s, val_loss=0.143]\n"
     ]
    },
    {
     "name": "stdout",
     "output_type": "stream",
     "text": [
      "Epoch 23: Train pAUC: 0.155264 - Val pAUC: 0.108903 | Train Loss: 3.094505 - Val Loss: 9.018951\n",
      "\n"
     ]
    },
    {
     "name": "stderr",
     "output_type": "stream",
     "text": [
      "Epoch 24: 100%|██████████| 215/215 [02:15<00:00,  1.59it/s, train_loss=0.0904]\n",
      "Epoch 24: 100%|██████████| 22/22 [00:02<00:00,  7.49it/s, val_loss=0.139]\n"
     ]
    },
    {
     "name": "stdout",
     "output_type": "stream",
     "text": [
      "Epoch 24: Train pAUC: 0.161161 - Val pAUC: 0.129431 | Train Loss: 2.888250 - Val Loss: 8.752159\n",
      "\n"
     ]
    },
    {
     "name": "stderr",
     "output_type": "stream",
     "text": [
      "Epoch 25: 100%|██████████| 215/215 [02:15<00:00,  1.59it/s, train_loss=0.089]\n",
      "Epoch 25: 100%|██████████| 22/22 [00:02<00:00,  7.65it/s, val_loss=0.143]\n"
     ]
    },
    {
     "name": "stdout",
     "output_type": "stream",
     "text": [
      "Epoch 25: Train pAUC: 0.167841 - Val pAUC: 0.133976 | Train Loss: 2.842558 - Val Loss: 9.028912\n",
      "\n"
     ]
    },
    {
     "name": "stderr",
     "output_type": "stream",
     "text": [
      "Epoch 26: 100%|██████████| 215/215 [02:15<00:00,  1.59it/s, train_loss=0.0894]\n",
      "Epoch 26: 100%|██████████| 22/22 [00:02<00:00,  7.64it/s, val_loss=0.149]\n"
     ]
    },
    {
     "name": "stdout",
     "output_type": "stream",
     "text": [
      "Epoch 26: Train pAUC: 0.161509 - Val pAUC: 0.114977 | Train Loss: 2.855046 - Val Loss: 9.375125\n",
      "\n"
     ]
    },
    {
     "name": "stderr",
     "output_type": "stream",
     "text": [
      "Epoch 27: 100%|██████████| 215/215 [02:15<00:00,  1.59it/s, train_loss=0.0855]\n",
      "Epoch 27: 100%|██████████| 22/22 [00:02<00:00,  7.74it/s, val_loss=0.155]\n"
     ]
    },
    {
     "name": "stdout",
     "output_type": "stream",
     "text": [
      "Epoch 27: Train pAUC: 0.163284 - Val pAUC: 0.113510 | Train Loss: 2.730524 - Val Loss: 9.770880\n",
      "\n"
     ]
    },
    {
     "name": "stderr",
     "output_type": "stream",
     "text": [
      "Epoch 28: 100%|██████████| 215/215 [02:15<00:00,  1.59it/s, train_loss=0.0844]\n",
      "Epoch 28: 100%|██████████| 22/22 [00:02<00:00,  7.71it/s, val_loss=0.135]\n"
     ]
    },
    {
     "name": "stdout",
     "output_type": "stream",
     "text": [
      "Epoch 28: Train pAUC: 0.166348 - Val pAUC: 0.130916 | Train Loss: 2.696123 - Val Loss: 8.481534\n",
      "\n"
     ]
    },
    {
     "name": "stderr",
     "output_type": "stream",
     "text": [
      "Epoch 29: 100%|██████████| 215/215 [02:15<00:00,  1.59it/s, train_loss=0.082]\n",
      "Epoch 29: 100%|██████████| 22/22 [00:02<00:00,  7.70it/s, val_loss=0.145]\n"
     ]
    },
    {
     "name": "stdout",
     "output_type": "stream",
     "text": [
      "Epoch 29: Train pAUC: 0.169722 - Val pAUC: 0.119366 | Train Loss: 2.619855 - Val Loss: 9.119545\n",
      "\n"
     ]
    },
    {
     "name": "stderr",
     "output_type": "stream",
     "text": [
      "Epoch 30: 100%|██████████| 215/215 [02:15<00:00,  1.59it/s, train_loss=0.0826]\n",
      "Epoch 30: 100%|██████████| 22/22 [00:02<00:00,  7.95it/s, val_loss=0.138]\n"
     ]
    },
    {
     "name": "stdout",
     "output_type": "stream",
     "text": [
      "Epoch 30: Train pAUC: 0.167240 - Val pAUC: 0.116887 | Train Loss: 2.639542 - Val Loss: 8.722680\n",
      "\n"
     ]
    },
    {
     "name": "stderr",
     "output_type": "stream",
     "text": [
      "Epoch 31: 100%|██████████| 215/215 [02:15<00:00,  1.59it/s, train_loss=0.0742]\n",
      "Epoch 31: 100%|██████████| 22/22 [00:02<00:00,  7.65it/s, val_loss=0.161]\n"
     ]
    },
    {
     "name": "stdout",
     "output_type": "stream",
     "text": [
      "Early stopping triggered at epoch 31. Best pAUC = 0.152112\n",
      "Epoch 31: Train pAUC: 0.172939 - Val pAUC: 0.118262 | Train Loss: 2.369286 - Val Loss: 10.137564\n",
      "\n"
     ]
    },
    {
     "name": "stderr",
     "output_type": "stream",
     "text": [
      "Prediction: 100%|██████████| 1310/1310 [02:09<00:00, 10.08it/s]\n"
     ]
    },
    {
     "name": "stdout",
     "output_type": "stream",
     "text": [
      "---------------------------------- Fold 3 ----------------------------------\n"
     ]
    },
    {
     "name": "stderr",
     "output_type": "stream",
     "text": [
      "Epoch 1: 100%|██████████| 201/201 [02:06<00:00,  1.59it/s, train_loss=0.217]\n",
      "Epoch 1: 100%|██████████| 29/29 [00:03<00:00,  8.14it/s, val_loss=0.224]\n"
     ]
    },
    {
     "name": "stdout",
     "output_type": "stream",
     "text": [
      "Epoch 1: Train pAUC: 0.043752 - Val pAUC: 0.086316 | Train Loss: 6.910716 - Val Loss: 14.295297\n",
      "\n"
     ]
    },
    {
     "name": "stderr",
     "output_type": "stream",
     "text": [
      "Epoch 2: 100%|██████████| 201/201 [02:06<00:00,  1.59it/s, train_loss=0.171]\n",
      "Epoch 2: 100%|██████████| 29/29 [00:03<00:00,  8.15it/s, val_loss=0.157]\n"
     ]
    },
    {
     "name": "stdout",
     "output_type": "stream",
     "text": [
      "New best model found: pAUC = 0.091658 (previous best: 0.086316)\n",
      "Epoch 2: Train pAUC: 0.060588 - Val pAUC: 0.091658 | Train Loss: 5.442595 - Val Loss: 9.992737\n",
      "\n"
     ]
    },
    {
     "name": "stderr",
     "output_type": "stream",
     "text": [
      "Epoch 3: 100%|██████████| 201/201 [02:06<00:00,  1.59it/s, train_loss=0.164]\n",
      "Epoch 3: 100%|██████████| 29/29 [00:03<00:00,  7.92it/s, val_loss=0.163]\n"
     ]
    },
    {
     "name": "stdout",
     "output_type": "stream",
     "text": [
      "Epoch 3: Train pAUC: 0.073608 - Val pAUC: 0.084641 | Train Loss: 5.238149 - Val Loss: 10.388438\n",
      "\n"
     ]
    },
    {
     "name": "stderr",
     "output_type": "stream",
     "text": [
      "Epoch 4: 100%|██████████| 201/201 [02:06<00:00,  1.59it/s, train_loss=0.153]\n",
      "Epoch 4: 100%|██████████| 29/29 [00:03<00:00,  8.20it/s, val_loss=0.151]\n"
     ]
    },
    {
     "name": "stdout",
     "output_type": "stream",
     "text": [
      "Epoch 4: Train pAUC: 0.076287 - Val pAUC: 0.087962 | Train Loss: 4.885175 - Val Loss: 9.605067\n",
      "\n"
     ]
    },
    {
     "name": "stderr",
     "output_type": "stream",
     "text": [
      "Epoch 5: 100%|██████████| 201/201 [02:06<00:00,  1.59it/s, train_loss=0.146]\n",
      "Epoch 5: 100%|██████████| 29/29 [00:03<00:00,  7.91it/s, val_loss=0.138]\n"
     ]
    },
    {
     "name": "stdout",
     "output_type": "stream",
     "text": [
      "New best model found: pAUC = 0.123170 (previous best: 0.091658)\n",
      "Epoch 5: Train pAUC: 0.090428 - Val pAUC: 0.123170 | Train Loss: 4.660585 - Val Loss: 8.771512\n",
      "\n"
     ]
    },
    {
     "name": "stderr",
     "output_type": "stream",
     "text": [
      "Epoch 6: 100%|██████████| 201/201 [02:06<00:00,  1.59it/s, train_loss=0.135]\n",
      "Epoch 6: 100%|██████████| 29/29 [00:03<00:00,  8.10it/s, val_loss=0.129]\n"
     ]
    },
    {
     "name": "stdout",
     "output_type": "stream",
     "text": [
      "New best model found: pAUC = 0.135252 (previous best: 0.123170)\n",
      "Epoch 6: Train pAUC: 0.104738 - Val pAUC: 0.135252 | Train Loss: 4.297513 - Val Loss: 8.192882\n",
      "\n"
     ]
    },
    {
     "name": "stderr",
     "output_type": "stream",
     "text": [
      "Epoch 7: 100%|██████████| 201/201 [02:06<00:00,  1.59it/s, train_loss=0.139]\n",
      "Epoch 7: 100%|██████████| 29/29 [00:03<00:00,  8.10it/s, val_loss=0.136]\n"
     ]
    },
    {
     "name": "stdout",
     "output_type": "stream",
     "text": [
      "Epoch 7: Train pAUC: 0.113922 - Val pAUC: 0.114596 | Train Loss: 4.427343 - Val Loss: 8.683136\n",
      "\n"
     ]
    },
    {
     "name": "stderr",
     "output_type": "stream",
     "text": [
      "Epoch 8: 100%|██████████| 201/201 [02:06<00:00,  1.59it/s, train_loss=0.134]\n",
      "Epoch 8: 100%|██████████| 29/29 [00:04<00:00,  7.14it/s, val_loss=0.122]\n"
     ]
    },
    {
     "name": "stdout",
     "output_type": "stream",
     "text": [
      "Epoch 8: Train pAUC: 0.119701 - Val pAUC: 0.133878 | Train Loss: 4.272189 - Val Loss: 7.793066\n",
      "\n"
     ]
    },
    {
     "name": "stderr",
     "output_type": "stream",
     "text": [
      "Epoch 9: 100%|██████████| 201/201 [02:06<00:00,  1.59it/s, train_loss=0.13]\n",
      "Epoch 9: 100%|██████████| 29/29 [00:03<00:00,  8.21it/s, val_loss=0.129]\n"
     ]
    },
    {
     "name": "stdout",
     "output_type": "stream",
     "text": [
      "New best model found: pAUC = 0.136639 (previous best: 0.135252)\n",
      "Epoch 9: Train pAUC: 0.123239 - Val pAUC: 0.136639 | Train Loss: 4.132553 - Val Loss: 8.233336\n",
      "\n"
     ]
    },
    {
     "name": "stderr",
     "output_type": "stream",
     "text": [
      "Epoch 10: 100%|██████████| 201/201 [02:06<00:00,  1.59it/s, train_loss=0.118]\n",
      "Epoch 10: 100%|██████████| 29/29 [00:03<00:00,  7.97it/s, val_loss=0.123]\n"
     ]
    },
    {
     "name": "stdout",
     "output_type": "stream",
     "text": [
      "New best model found: pAUC = 0.137230 (previous best: 0.136639)\n",
      "Epoch 10: Train pAUC: 0.141169 - Val pAUC: 0.137230 | Train Loss: 3.754560 - Val Loss: 7.812684\n",
      "\n"
     ]
    },
    {
     "name": "stderr",
     "output_type": "stream",
     "text": [
      "Epoch 11: 100%|██████████| 201/201 [02:06<00:00,  1.59it/s, train_loss=0.12]\n",
      "Epoch 11: 100%|██████████| 29/29 [00:03<00:00,  8.04it/s, val_loss=0.114]\n"
     ]
    },
    {
     "name": "stdout",
     "output_type": "stream",
     "text": [
      "New best model found: pAUC = 0.146086 (previous best: 0.137230)\n",
      "Epoch 11: Train pAUC: 0.132714 - Val pAUC: 0.146086 | Train Loss: 3.822260 - Val Loss: 7.245358\n",
      "\n"
     ]
    },
    {
     "name": "stderr",
     "output_type": "stream",
     "text": [
      "Epoch 12: 100%|██████████| 201/201 [02:06<00:00,  1.59it/s, train_loss=0.114]\n",
      "Epoch 12: 100%|██████████| 29/29 [00:03<00:00,  8.00it/s, val_loss=0.144]\n"
     ]
    },
    {
     "name": "stdout",
     "output_type": "stream",
     "text": [
      "Epoch 12: Train pAUC: 0.144817 - Val pAUC: 0.106746 | Train Loss: 3.625371 - Val Loss: 9.173549\n",
      "\n"
     ]
    },
    {
     "name": "stderr",
     "output_type": "stream",
     "text": [
      "Epoch 13: 100%|██████████| 201/201 [02:06<00:00,  1.59it/s, train_loss=0.115]\n",
      "Epoch 13: 100%|██████████| 29/29 [00:03<00:00,  7.96it/s, val_loss=0.113]\n"
     ]
    },
    {
     "name": "stdout",
     "output_type": "stream",
     "text": [
      "Epoch 13: Train pAUC: 0.144285 - Val pAUC: 0.138166 | Train Loss: 3.677128 - Val Loss: 7.183644\n",
      "\n"
     ]
    },
    {
     "name": "stderr",
     "output_type": "stream",
     "text": [
      "Epoch 14: 100%|██████████| 201/201 [02:06<00:00,  1.59it/s, train_loss=0.117]\n",
      "Epoch 14: 100%|██████████| 29/29 [00:03<00:00,  8.06it/s, val_loss=0.12]\n"
     ]
    },
    {
     "name": "stdout",
     "output_type": "stream",
     "text": [
      "Epoch 14: Train pAUC: 0.142362 - Val pAUC: 0.132515 | Train Loss: 3.721279 - Val Loss: 7.657473\n",
      "\n"
     ]
    },
    {
     "name": "stderr",
     "output_type": "stream",
     "text": [
      "Epoch 15: 100%|██████████| 201/201 [02:06<00:00,  1.59it/s, train_loss=0.116]\n",
      "Epoch 15: 100%|██████████| 29/29 [00:03<00:00,  8.07it/s, val_loss=0.113]\n"
     ]
    },
    {
     "name": "stdout",
     "output_type": "stream",
     "text": [
      "Epoch 15: Train pAUC: 0.140185 - Val pAUC: 0.146023 | Train Loss: 3.681039 - Val Loss: 7.188038\n",
      "\n"
     ]
    },
    {
     "name": "stderr",
     "output_type": "stream",
     "text": [
      "Epoch 16: 100%|██████████| 201/201 [02:06<00:00,  1.59it/s, train_loss=0.109]\n",
      "Epoch 16: 100%|██████████| 29/29 [00:03<00:00,  8.13it/s, val_loss=0.119]\n"
     ]
    },
    {
     "name": "stdout",
     "output_type": "stream",
     "text": [
      "Epoch 16: Train pAUC: 0.151912 - Val pAUC: 0.133656 | Train Loss: 3.466257 - Val Loss: 7.607060\n",
      "\n"
     ]
    },
    {
     "name": "stderr",
     "output_type": "stream",
     "text": [
      "Epoch 17: 100%|██████████| 201/201 [02:06<00:00,  1.59it/s, train_loss=0.112]\n",
      "Epoch 17: 100%|██████████| 29/29 [00:03<00:00,  8.09it/s, val_loss=0.123]\n"
     ]
    },
    {
     "name": "stdout",
     "output_type": "stream",
     "text": [
      "Epoch 17: Train pAUC: 0.143651 - Val pAUC: 0.125409 | Train Loss: 3.565723 - Val Loss: 7.827493\n",
      "\n"
     ]
    },
    {
     "name": "stderr",
     "output_type": "stream",
     "text": [
      "Epoch 18: 100%|██████████| 201/201 [02:06<00:00,  1.59it/s, train_loss=0.107]\n",
      "Epoch 18: 100%|██████████| 29/29 [00:03<00:00,  7.73it/s, val_loss=0.118]\n"
     ]
    },
    {
     "name": "stdout",
     "output_type": "stream",
     "text": [
      "Epoch 18: Train pAUC: 0.148282 - Val pAUC: 0.135921 | Train Loss: 3.396178 - Val Loss: 7.515852\n",
      "\n"
     ]
    },
    {
     "name": "stderr",
     "output_type": "stream",
     "text": [
      "Epoch 19: 100%|██████████| 201/201 [02:06<00:00,  1.59it/s, train_loss=0.108]\n",
      "Epoch 19: 100%|██████████| 29/29 [00:03<00:00,  7.82it/s, val_loss=0.13]\n"
     ]
    },
    {
     "name": "stdout",
     "output_type": "stream",
     "text": [
      "Epoch 19: Train pAUC: 0.147209 - Val pAUC: 0.122113 | Train Loss: 3.455689 - Val Loss: 8.270809\n",
      "\n"
     ]
    },
    {
     "name": "stderr",
     "output_type": "stream",
     "text": [
      "Epoch 20: 100%|██████████| 201/201 [02:06<00:00,  1.59it/s, train_loss=0.106]\n",
      "Epoch 20: 100%|██████████| 29/29 [00:03<00:00,  8.02it/s, val_loss=0.137]\n"
     ]
    },
    {
     "name": "stdout",
     "output_type": "stream",
     "text": [
      "Epoch 20: Train pAUC: 0.155896 - Val pAUC: 0.134815 | Train Loss: 3.367816 - Val Loss: 8.700243\n",
      "\n"
     ]
    },
    {
     "name": "stderr",
     "output_type": "stream",
     "text": [
      "Epoch 21: 100%|██████████| 201/201 [02:06<00:00,  1.59it/s, train_loss=0.103]\n",
      "Epoch 21: 100%|██████████| 29/29 [00:03<00:00,  7.79it/s, val_loss=0.119]\n"
     ]
    },
    {
     "name": "stdout",
     "output_type": "stream",
     "text": [
      "Epoch 21: Train pAUC: 0.152508 - Val pAUC: 0.135981 | Train Loss: 3.290888 - Val Loss: 7.586703\n",
      "\n"
     ]
    },
    {
     "name": "stderr",
     "output_type": "stream",
     "text": [
      "Epoch 22: 100%|██████████| 201/201 [02:06<00:00,  1.59it/s, train_loss=0.098]\n",
      "Epoch 22: 100%|██████████| 29/29 [00:03<00:00,  7.79it/s, val_loss=0.112]\n"
     ]
    },
    {
     "name": "stdout",
     "output_type": "stream",
     "text": [
      "Epoch 22: Train pAUC: 0.160021 - Val pAUC: 0.141440 | Train Loss: 3.123379 - Val Loss: 7.160877\n",
      "\n"
     ]
    },
    {
     "name": "stderr",
     "output_type": "stream",
     "text": [
      "Epoch 23: 100%|██████████| 201/201 [02:06<00:00,  1.59it/s, train_loss=0.0964]\n",
      "Epoch 23: 100%|██████████| 29/29 [00:03<00:00,  8.16it/s, val_loss=0.138]\n"
     ]
    },
    {
     "name": "stdout",
     "output_type": "stream",
     "text": [
      "Epoch 23: Train pAUC: 0.162482 - Val pAUC: 0.111304 | Train Loss: 3.070456 - Val Loss: 8.817862\n",
      "\n"
     ]
    },
    {
     "name": "stderr",
     "output_type": "stream",
     "text": [
      "Epoch 24: 100%|██████████| 201/201 [02:06<00:00,  1.59it/s, train_loss=0.0969]\n",
      "Epoch 24: 100%|██████████| 29/29 [00:03<00:00,  7.96it/s, val_loss=0.122]\n"
     ]
    },
    {
     "name": "stdout",
     "output_type": "stream",
     "text": [
      "Epoch 24: Train pAUC: 0.162697 - Val pAUC: 0.130045 | Train Loss: 3.089324 - Val Loss: 7.772489\n",
      "\n"
     ]
    },
    {
     "name": "stderr",
     "output_type": "stream",
     "text": [
      "Epoch 25: 100%|██████████| 201/201 [02:06<00:00,  1.59it/s, train_loss=0.0963]\n",
      "Epoch 25: 100%|██████████| 29/29 [00:03<00:00,  8.27it/s, val_loss=0.12]\n"
     ]
    },
    {
     "name": "stdout",
     "output_type": "stream",
     "text": [
      "Epoch 25: Train pAUC: 0.163439 - Val pAUC: 0.134021 | Train Loss: 3.068654 - Val Loss: 7.671305\n",
      "\n"
     ]
    },
    {
     "name": "stderr",
     "output_type": "stream",
     "text": [
      "Epoch 26: 100%|██████████| 201/201 [02:06<00:00,  1.59it/s, train_loss=0.0926]\n",
      "Epoch 26: 100%|██████████| 29/29 [00:03<00:00,  8.05it/s, val_loss=0.132]\n"
     ]
    },
    {
     "name": "stdout",
     "output_type": "stream",
     "text": [
      "Early stopping triggered at epoch 26. Best pAUC = 0.146086\n",
      "Epoch 26: Train pAUC: 0.168740 - Val pAUC: 0.121734 | Train Loss: 2.952183 - Val Loss: 8.402851\n",
      "\n"
     ]
    },
    {
     "name": "stderr",
     "output_type": "stream",
     "text": [
      "Prediction: 100%|██████████| 1191/1191 [01:58<00:00, 10.02it/s]\n"
     ]
    },
    {
     "name": "stdout",
     "output_type": "stream",
     "text": [
      "---------------------------------- Fold 4 ----------------------------------\n"
     ]
    },
    {
     "name": "stderr",
     "output_type": "stream",
     "text": [
      "Epoch 1: 100%|██████████| 208/208 [02:10<00:00,  1.59it/s, train_loss=0.219]\n",
      "Epoch 1: 100%|██████████| 26/26 [00:03<00:00,  8.03it/s, val_loss=0.245]\n"
     ]
    },
    {
     "name": "stdout",
     "output_type": "stream",
     "text": [
      "Epoch 1: Train pAUC: 0.045916 - Val pAUC: 0.075488 | Train Loss: 7.002217 - Val Loss: 15.217159\n",
      "\n"
     ]
    },
    {
     "name": "stderr",
     "output_type": "stream",
     "text": [
      "Epoch 2: 100%|██████████| 208/208 [02:10<00:00,  1.59it/s, train_loss=0.171]\n",
      "Epoch 2: 100%|██████████| 26/26 [00:03<00:00,  8.15it/s, val_loss=0.15]\n"
     ]
    },
    {
     "name": "stdout",
     "output_type": "stream",
     "text": [
      "New best model found: pAUC = 0.082339 (previous best: 0.075488)\n",
      "Epoch 2: Train pAUC: 0.061970 - Val pAUC: 0.082339 | Train Loss: 5.450562 - Val Loss: 9.335551\n",
      "\n"
     ]
    },
    {
     "name": "stderr",
     "output_type": "stream",
     "text": [
      "Epoch 3: 100%|██████████| 208/208 [02:10<00:00,  1.59it/s, train_loss=0.157]\n",
      "Epoch 3: 100%|██████████| 26/26 [00:03<00:00,  8.13it/s, val_loss=0.128]\n"
     ]
    },
    {
     "name": "stdout",
     "output_type": "stream",
     "text": [
      "New best model found: pAUC = 0.124716 (previous best: 0.082339)\n",
      "Epoch 3: Train pAUC: 0.077136 - Val pAUC: 0.124716 | Train Loss: 5.009896 - Val Loss: 7.936629\n",
      "\n"
     ]
    },
    {
     "name": "stderr",
     "output_type": "stream",
     "text": [
      "Epoch 4: 100%|██████████| 208/208 [02:10<00:00,  1.59it/s, train_loss=0.147]\n",
      "Epoch 4: 100%|██████████| 26/26 [00:03<00:00,  8.04it/s, val_loss=0.118]\n"
     ]
    },
    {
     "name": "stdout",
     "output_type": "stream",
     "text": [
      "New best model found: pAUC = 0.130614 (previous best: 0.124716)\n",
      "Epoch 4: Train pAUC: 0.095754 - Val pAUC: 0.130614 | Train Loss: 4.681875 - Val Loss: 7.345680\n",
      "\n"
     ]
    },
    {
     "name": "stderr",
     "output_type": "stream",
     "text": [
      "Epoch 5: 100%|██████████| 208/208 [02:10<00:00,  1.59it/s, train_loss=0.141]\n",
      "Epoch 5: 100%|██████████| 26/26 [00:03<00:00,  7.93it/s, val_loss=0.11]\n"
     ]
    },
    {
     "name": "stdout",
     "output_type": "stream",
     "text": [
      "New best model found: pAUC = 0.136806 (previous best: 0.130614)\n",
      "Epoch 5: Train pAUC: 0.101558 - Val pAUC: 0.136806 | Train Loss: 4.491977 - Val Loss: 6.860100\n",
      "\n"
     ]
    },
    {
     "name": "stderr",
     "output_type": "stream",
     "text": [
      "Epoch 6: 100%|██████████| 208/208 [02:10<00:00,  1.59it/s, train_loss=0.138]\n",
      "Epoch 6: 100%|██████████| 26/26 [00:03<00:00,  8.00it/s, val_loss=0.123]\n"
     ]
    },
    {
     "name": "stdout",
     "output_type": "stream",
     "text": [
      "Epoch 6: Train pAUC: 0.114349 - Val pAUC: 0.100867 | Train Loss: 4.410055 - Val Loss: 7.622544\n",
      "\n"
     ]
    },
    {
     "name": "stderr",
     "output_type": "stream",
     "text": [
      "Epoch 7: 100%|██████████| 208/208 [02:10<00:00,  1.59it/s, train_loss=0.138]\n",
      "Epoch 7: 100%|██████████| 26/26 [00:03<00:00,  7.13it/s, val_loss=0.12]\n"
     ]
    },
    {
     "name": "stdout",
     "output_type": "stream",
     "text": [
      "New best model found: pAUC = 0.141160 (previous best: 0.136806)\n",
      "Epoch 7: Train pAUC: 0.108117 - Val pAUC: 0.141160 | Train Loss: 4.388474 - Val Loss: 7.476805\n",
      "\n"
     ]
    },
    {
     "name": "stderr",
     "output_type": "stream",
     "text": [
      "Epoch 8: 100%|██████████| 208/208 [02:10<00:00,  1.59it/s, train_loss=0.132]\n",
      "Epoch 8: 100%|██████████| 26/26 [00:03<00:00,  8.10it/s, val_loss=0.122]\n"
     ]
    },
    {
     "name": "stdout",
     "output_type": "stream",
     "text": [
      "Epoch 8: Train pAUC: 0.115133 - Val pAUC: 0.109970 | Train Loss: 4.226696 - Val Loss: 7.607793\n",
      "\n"
     ]
    },
    {
     "name": "stderr",
     "output_type": "stream",
     "text": [
      "Epoch 9: 100%|██████████| 208/208 [02:10<00:00,  1.59it/s, train_loss=0.126]\n",
      "Epoch 9: 100%|██████████| 26/26 [00:03<00:00,  8.09it/s, val_loss=0.117]\n"
     ]
    },
    {
     "name": "stdout",
     "output_type": "stream",
     "text": [
      "Epoch 9: Train pAUC: 0.132930 - Val pAUC: 0.130196 | Train Loss: 4.030181 - Val Loss: 7.307624\n",
      "\n"
     ]
    },
    {
     "name": "stderr",
     "output_type": "stream",
     "text": [
      "Epoch 10: 100%|██████████| 208/208 [02:10<00:00,  1.59it/s, train_loss=0.128]\n",
      "Epoch 10: 100%|██████████| 26/26 [00:03<00:00,  8.17it/s, val_loss=0.116]\n"
     ]
    },
    {
     "name": "stdout",
     "output_type": "stream",
     "text": [
      "Epoch 10: Train pAUC: 0.121873 - Val pAUC: 0.127617 | Train Loss: 4.075971 - Val Loss: 7.208128\n",
      "\n"
     ]
    },
    {
     "name": "stderr",
     "output_type": "stream",
     "text": [
      "Epoch 11: 100%|██████████| 208/208 [02:10<00:00,  1.59it/s, train_loss=0.118]\n",
      "Epoch 11: 100%|██████████| 26/26 [00:03<00:00,  7.93it/s, val_loss=0.117]\n"
     ]
    },
    {
     "name": "stdout",
     "output_type": "stream",
     "text": [
      "Epoch 11: Train pAUC: 0.133048 - Val pAUC: 0.140891 | Train Loss: 3.773215 - Val Loss: 7.306193\n",
      "\n"
     ]
    },
    {
     "name": "stderr",
     "output_type": "stream",
     "text": [
      "Epoch 12: 100%|██████████| 208/208 [02:10<00:00,  1.59it/s, train_loss=0.12]\n",
      "Epoch 12: 100%|██████████| 26/26 [00:03<00:00,  7.97it/s, val_loss=0.112]\n"
     ]
    },
    {
     "name": "stdout",
     "output_type": "stream",
     "text": [
      "Epoch 12: Train pAUC: 0.130617 - Val pAUC: 0.134466 | Train Loss: 3.843669 - Val Loss: 6.976962\n",
      "\n"
     ]
    },
    {
     "name": "stderr",
     "output_type": "stream",
     "text": [
      "Epoch 13: 100%|██████████| 208/208 [02:10<00:00,  1.59it/s, train_loss=0.121]\n",
      "Epoch 13: 100%|██████████| 26/26 [00:03<00:00,  8.05it/s, val_loss=0.101]\n"
     ]
    },
    {
     "name": "stdout",
     "output_type": "stream",
     "text": [
      "New best model found: pAUC = 0.148124 (previous best: 0.141160)\n",
      "Epoch 13: Train pAUC: 0.128721 - Val pAUC: 0.148124 | Train Loss: 3.847794 - Val Loss: 6.270058\n",
      "\n"
     ]
    },
    {
     "name": "stderr",
     "output_type": "stream",
     "text": [
      "Epoch 14: 100%|██████████| 208/208 [02:10<00:00,  1.59it/s, train_loss=0.112]\n",
      "Epoch 14: 100%|██████████| 26/26 [00:03<00:00,  8.29it/s, val_loss=0.106]\n"
     ]
    },
    {
     "name": "stdout",
     "output_type": "stream",
     "text": [
      "New best model found: pAUC = 0.149255 (previous best: 0.148124)\n",
      "Epoch 14: Train pAUC: 0.140221 - Val pAUC: 0.149255 | Train Loss: 3.585000 - Val Loss: 6.604616\n",
      "\n"
     ]
    },
    {
     "name": "stderr",
     "output_type": "stream",
     "text": [
      "Epoch 15: 100%|██████████| 208/208 [02:10<00:00,  1.59it/s, train_loss=0.115]\n",
      "Epoch 15: 100%|██████████| 26/26 [00:03<00:00,  8.15it/s, val_loss=0.114]\n"
     ]
    },
    {
     "name": "stdout",
     "output_type": "stream",
     "text": [
      "Epoch 15: Train pAUC: 0.138492 - Val pAUC: 0.133955 | Train Loss: 3.659197 - Val Loss: 7.087048\n",
      "\n"
     ]
    },
    {
     "name": "stderr",
     "output_type": "stream",
     "text": [
      "Epoch 16: 100%|██████████| 208/208 [02:10<00:00,  1.59it/s, train_loss=0.116]\n",
      "Epoch 16: 100%|██████████| 26/26 [00:03<00:00,  7.48it/s, val_loss=0.109]\n"
     ]
    },
    {
     "name": "stdout",
     "output_type": "stream",
     "text": [
      "Epoch 16: Train pAUC: 0.141103 - Val pAUC: 0.141749 | Train Loss: 3.713861 - Val Loss: 6.796033\n",
      "\n"
     ]
    },
    {
     "name": "stderr",
     "output_type": "stream",
     "text": [
      "Epoch 17: 100%|██████████| 208/208 [02:10<00:00,  1.59it/s, train_loss=0.116]\n",
      "Epoch 17: 100%|██████████| 26/26 [00:03<00:00,  7.98it/s, val_loss=0.115]\n"
     ]
    },
    {
     "name": "stdout",
     "output_type": "stream",
     "text": [
      "Epoch 17: Train pAUC: 0.136339 - Val pAUC: 0.141562 | Train Loss: 3.690273 - Val Loss: 7.127092\n",
      "\n"
     ]
    },
    {
     "name": "stderr",
     "output_type": "stream",
     "text": [
      "Epoch 18: 100%|██████████| 208/208 [02:10<00:00,  1.59it/s, train_loss=0.109]\n",
      "Epoch 18: 100%|██████████| 26/26 [00:03<00:00,  8.10it/s, val_loss=0.0989]\n"
     ]
    },
    {
     "name": "stdout",
     "output_type": "stream",
     "text": [
      "New best model found: pAUC = 0.153711 (previous best: 0.149255)\n",
      "Epoch 18: Train pAUC: 0.149480 - Val pAUC: 0.153711 | Train Loss: 3.493319 - Val Loss: 6.151276\n",
      "\n"
     ]
    },
    {
     "name": "stderr",
     "output_type": "stream",
     "text": [
      "Epoch 19: 100%|██████████| 208/208 [02:10<00:00,  1.59it/s, train_loss=0.107]\n",
      "Epoch 19: 100%|██████████| 26/26 [00:03<00:00,  7.80it/s, val_loss=0.13]\n"
     ]
    },
    {
     "name": "stdout",
     "output_type": "stream",
     "text": [
      "Epoch 19: Train pAUC: 0.145348 - Val pAUC: 0.117659 | Train Loss: 3.419373 - Val Loss: 8.109275\n",
      "\n"
     ]
    },
    {
     "name": "stderr",
     "output_type": "stream",
     "text": [
      "Epoch 20: 100%|██████████| 208/208 [02:10<00:00,  1.59it/s, train_loss=0.107]\n",
      "Epoch 20: 100%|██████████| 26/26 [00:03<00:00,  7.77it/s, val_loss=0.0989]\n"
     ]
    },
    {
     "name": "stdout",
     "output_type": "stream",
     "text": [
      "New best model found: pAUC = 0.161103 (previous best: 0.153711)\n",
      "Epoch 20: Train pAUC: 0.142890 - Val pAUC: 0.161103 | Train Loss: 3.423358 - Val Loss: 6.151093\n",
      "\n"
     ]
    },
    {
     "name": "stderr",
     "output_type": "stream",
     "text": [
      "Epoch 21: 100%|██████████| 208/208 [02:11<00:00,  1.58it/s, train_loss=0.102]\n",
      "Epoch 21: 100%|██████████| 26/26 [00:03<00:00,  7.52it/s, val_loss=0.103]\n"
     ]
    },
    {
     "name": "stdout",
     "output_type": "stream",
     "text": [
      "Epoch 21: Train pAUC: 0.161868 - Val pAUC: 0.151366 | Train Loss: 3.252697 - Val Loss: 6.394610\n",
      "\n"
     ]
    },
    {
     "name": "stderr",
     "output_type": "stream",
     "text": [
      "Epoch 22: 100%|██████████| 208/208 [02:10<00:00,  1.59it/s, train_loss=0.099]\n",
      "Epoch 22: 100%|██████████| 26/26 [00:03<00:00,  7.85it/s, val_loss=0.106]\n"
     ]
    },
    {
     "name": "stdout",
     "output_type": "stream",
     "text": [
      "Epoch 22: Train pAUC: 0.160473 - Val pAUC: 0.150950 | Train Loss: 3.157740 - Val Loss: 6.577191\n",
      "\n"
     ]
    },
    {
     "name": "stderr",
     "output_type": "stream",
     "text": [
      "Epoch 23: 100%|██████████| 208/208 [02:10<00:00,  1.59it/s, train_loss=0.0989]\n",
      "Epoch 23: 100%|██████████| 26/26 [00:03<00:00,  7.79it/s, val_loss=0.117]\n"
     ]
    },
    {
     "name": "stdout",
     "output_type": "stream",
     "text": [
      "Epoch 23: Train pAUC: 0.157177 - Val pAUC: 0.139902 | Train Loss: 3.156784 - Val Loss: 7.307412\n",
      "\n"
     ]
    },
    {
     "name": "stderr",
     "output_type": "stream",
     "text": [
      "Epoch 24: 100%|██████████| 208/208 [02:10<00:00,  1.59it/s, train_loss=0.0958]\n",
      "Epoch 24: 100%|██████████| 26/26 [00:03<00:00,  8.17it/s, val_loss=0.111]\n"
     ]
    },
    {
     "name": "stdout",
     "output_type": "stream",
     "text": [
      "Epoch 24: Train pAUC: 0.161625 - Val pAUC: 0.147487 | Train Loss: 3.055363 - Val Loss: 6.888630\n",
      "\n"
     ]
    },
    {
     "name": "stderr",
     "output_type": "stream",
     "text": [
      "Epoch 25: 100%|██████████| 208/208 [02:10<00:00,  1.59it/s, train_loss=0.096]\n",
      "Epoch 25: 100%|██████████| 26/26 [00:03<00:00,  8.24it/s, val_loss=0.124]\n"
     ]
    },
    {
     "name": "stdout",
     "output_type": "stream",
     "text": [
      "Epoch 25: Train pAUC: 0.155803 - Val pAUC: 0.131521 | Train Loss: 3.063306 - Val Loss: 7.689442\n",
      "\n"
     ]
    },
    {
     "name": "stderr",
     "output_type": "stream",
     "text": [
      "Epoch 26: 100%|██████████| 208/208 [02:10<00:00,  1.59it/s, train_loss=0.09]\n",
      "Epoch 26: 100%|██████████| 26/26 [00:03<00:00,  8.14it/s, val_loss=0.127]\n"
     ]
    },
    {
     "name": "stdout",
     "output_type": "stream",
     "text": [
      "Epoch 26: Train pAUC: 0.166259 - Val pAUC: 0.110462 | Train Loss: 2.870844 - Val Loss: 7.899083\n",
      "\n"
     ]
    },
    {
     "name": "stderr",
     "output_type": "stream",
     "text": [
      "Epoch 27: 100%|██████████| 208/208 [02:10<00:00,  1.59it/s, train_loss=0.0973]\n",
      "Epoch 27: 100%|██████████| 26/26 [00:03<00:00,  8.28it/s, val_loss=0.118]\n"
     ]
    },
    {
     "name": "stdout",
     "output_type": "stream",
     "text": [
      "Epoch 27: Train pAUC: 0.157470 - Val pAUC: 0.138130 | Train Loss: 3.104249 - Val Loss: 7.308822\n",
      "\n"
     ]
    },
    {
     "name": "stderr",
     "output_type": "stream",
     "text": [
      "Epoch 28: 100%|██████████| 208/208 [02:10<00:00,  1.59it/s, train_loss=0.0843]\n",
      "Epoch 28: 100%|██████████| 26/26 [00:03<00:00,  8.18it/s, val_loss=0.108]\n"
     ]
    },
    {
     "name": "stdout",
     "output_type": "stream",
     "text": [
      "Epoch 28: Train pAUC: 0.170288 - Val pAUC: 0.151319 | Train Loss: 2.690603 - Val Loss: 6.727564\n",
      "\n"
     ]
    },
    {
     "name": "stderr",
     "output_type": "stream",
     "text": [
      "Epoch 29: 100%|██████████| 208/208 [02:10<00:00,  1.59it/s, train_loss=0.0881]\n",
      "Epoch 29: 100%|██████████| 26/26 [00:03<00:00,  7.47it/s, val_loss=0.119]\n"
     ]
    },
    {
     "name": "stdout",
     "output_type": "stream",
     "text": [
      "Epoch 29: Train pAUC: 0.161881 - Val pAUC: 0.146574 | Train Loss: 2.811018 - Val Loss: 7.380000\n",
      "\n"
     ]
    },
    {
     "name": "stderr",
     "output_type": "stream",
     "text": [
      "Epoch 30: 100%|██████████| 208/208 [02:10<00:00,  1.59it/s, train_loss=0.0863]\n",
      "Epoch 30: 100%|██████████| 26/26 [00:03<00:00,  8.22it/s, val_loss=0.109]\n"
     ]
    },
    {
     "name": "stdout",
     "output_type": "stream",
     "text": [
      "Epoch 30: Train pAUC: 0.166431 - Val pAUC: 0.154888 | Train Loss: 2.753107 - Val Loss: 6.795540\n",
      "\n"
     ]
    },
    {
     "name": "stderr",
     "output_type": "stream",
     "text": [
      "Epoch 31: 100%|██████████| 208/208 [02:10<00:00,  1.59it/s, train_loss=0.0792]\n",
      "Epoch 31: 100%|██████████| 26/26 [00:03<00:00,  8.07it/s, val_loss=0.113]\n"
     ]
    },
    {
     "name": "stdout",
     "output_type": "stream",
     "text": [
      "Epoch 31: Train pAUC: 0.172692 - Val pAUC: 0.134647 | Train Loss: 2.526868 - Val Loss: 7.011689\n",
      "\n"
     ]
    },
    {
     "name": "stderr",
     "output_type": "stream",
     "text": [
      "Epoch 32: 100%|██████████| 208/208 [02:10<00:00,  1.59it/s, train_loss=0.0816]\n",
      "Epoch 32: 100%|██████████| 26/26 [00:03<00:00,  8.21it/s, val_loss=0.112]\n"
     ]
    },
    {
     "name": "stdout",
     "output_type": "stream",
     "text": [
      "Epoch 32: Train pAUC: 0.173494 - Val pAUC: 0.151123 | Train Loss: 2.603924 - Val Loss: 6.963455\n",
      "\n"
     ]
    },
    {
     "name": "stderr",
     "output_type": "stream",
     "text": [
      "Epoch 33: 100%|██████████| 208/208 [02:10<00:00,  1.59it/s, train_loss=0.0745]\n",
      "Epoch 33: 100%|██████████| 26/26 [00:03<00:00,  8.16it/s, val_loss=0.116]\n"
     ]
    },
    {
     "name": "stdout",
     "output_type": "stream",
     "text": [
      "Epoch 33: Train pAUC: 0.173755 - Val pAUC: 0.146713 | Train Loss: 2.375511 - Val Loss: 7.228179\n",
      "\n"
     ]
    },
    {
     "name": "stderr",
     "output_type": "stream",
     "text": [
      "Epoch 34: 100%|██████████| 208/208 [02:10<00:00,  1.59it/s, train_loss=0.073]\n",
      "Epoch 34: 100%|██████████| 26/26 [00:03<00:00,  7.81it/s, val_loss=0.117]\n"
     ]
    },
    {
     "name": "stdout",
     "output_type": "stream",
     "text": [
      "Epoch 34: Train pAUC: 0.174653 - Val pAUC: 0.142616 | Train Loss: 2.327454 - Val Loss: 7.302697\n",
      "\n"
     ]
    },
    {
     "name": "stderr",
     "output_type": "stream",
     "text": [
      "Epoch 35: 100%|██████████| 208/208 [02:10<00:00,  1.59it/s, train_loss=0.07]\n",
      "Epoch 35: 100%|██████████| 26/26 [00:03<00:00,  8.15it/s, val_loss=0.135]\n"
     ]
    },
    {
     "name": "stdout",
     "output_type": "stream",
     "text": [
      "Early stopping triggered at epoch 35. Best pAUC = 0.161103\n",
      "Epoch 35: Train pAUC: 0.180219 - Val pAUC: 0.118595 | Train Loss: 2.233867 - Val Loss: 8.390348\n",
      "\n"
     ]
    },
    {
     "name": "stderr",
     "output_type": "stream",
     "text": [
      "Prediction: 100%|██████████| 1167/1167 [01:56<00:00, 10.01it/s]\n"
     ]
    },
    {
     "name": "stdout",
     "output_type": "stream",
     "text": [
      "---------------------------------- Fold 5 ----------------------------------\n"
     ]
    },
    {
     "name": "stderr",
     "output_type": "stream",
     "text": [
      "Epoch 1: 100%|██████████| 204/204 [02:08<00:00,  1.58it/s, train_loss=0.232]\n",
      "Epoch 1: 100%|██████████| 28/28 [00:03<00:00,  8.00it/s, val_loss=0.206]\n"
     ]
    },
    {
     "name": "stdout",
     "output_type": "stream",
     "text": [
      "Epoch 1: Train pAUC: 0.027965 - Val pAUC: 0.072039 | Train Loss: 7.411900 - Val Loss: 12.843102\n",
      "\n"
     ]
    },
    {
     "name": "stderr",
     "output_type": "stream",
     "text": [
      "Epoch 2: 100%|██████████| 204/204 [02:08<00:00,  1.59it/s, train_loss=0.172]\n",
      "Epoch 2: 100%|██████████| 28/28 [00:03<00:00,  7.99it/s, val_loss=0.156]\n"
     ]
    },
    {
     "name": "stdout",
     "output_type": "stream",
     "text": [
      "New best model found: pAUC = 0.090957 (previous best: 0.072039)\n",
      "Epoch 2: Train pAUC: 0.069606 - Val pAUC: 0.090957 | Train Loss: 5.474547 - Val Loss: 9.731377\n",
      "\n"
     ]
    },
    {
     "name": "stderr",
     "output_type": "stream",
     "text": [
      "Epoch 3: 100%|██████████| 204/204 [02:08<00:00,  1.59it/s, train_loss=0.157]\n",
      "Epoch 3: 100%|██████████| 28/28 [00:03<00:00,  8.24it/s, val_loss=0.156]\n"
     ]
    },
    {
     "name": "stdout",
     "output_type": "stream",
     "text": [
      "New best model found: pAUC = 0.123342 (previous best: 0.090957)\n",
      "Epoch 3: Train pAUC: 0.081579 - Val pAUC: 0.123342 | Train Loss: 5.024636 - Val Loss: 9.689989\n",
      "\n"
     ]
    },
    {
     "name": "stderr",
     "output_type": "stream",
     "text": [
      "Epoch 4: 100%|██████████| 204/204 [02:08<00:00,  1.59it/s, train_loss=0.151]\n",
      "Epoch 4: 100%|██████████| 28/28 [00:03<00:00,  8.16it/s, val_loss=0.123]\n"
     ]
    },
    {
     "name": "stdout",
     "output_type": "stream",
     "text": [
      "New best model found: pAUC = 0.138175 (previous best: 0.123342)\n",
      "Epoch 4: Train pAUC: 0.095768 - Val pAUC: 0.138175 | Train Loss: 4.805488 - Val Loss: 7.639512\n",
      "\n"
     ]
    },
    {
     "name": "stderr",
     "output_type": "stream",
     "text": [
      "Epoch 5: 100%|██████████| 204/204 [02:08<00:00,  1.59it/s, train_loss=0.144]\n",
      "Epoch 5: 100%|██████████| 28/28 [00:03<00:00,  8.31it/s, val_loss=0.134]\n"
     ]
    },
    {
     "name": "stdout",
     "output_type": "stream",
     "text": [
      "Epoch 5: Train pAUC: 0.111741 - Val pAUC: 0.116445 | Train Loss: 4.598841 - Val Loss: 8.349997\n",
      "\n"
     ]
    },
    {
     "name": "stderr",
     "output_type": "stream",
     "text": [
      "Epoch 6: 100%|██████████| 204/204 [02:08<00:00,  1.59it/s, train_loss=0.136]\n",
      "Epoch 6: 100%|██████████| 28/28 [00:03<00:00,  8.04it/s, val_loss=0.117]\n"
     ]
    },
    {
     "name": "stdout",
     "output_type": "stream",
     "text": [
      "New best model found: pAUC = 0.155840 (previous best: 0.138175)\n",
      "Epoch 6: Train pAUC: 0.119713 - Val pAUC: 0.155840 | Train Loss: 4.339392 - Val Loss: 7.296460\n",
      "\n"
     ]
    },
    {
     "name": "stderr",
     "output_type": "stream",
     "text": [
      "Epoch 7: 100%|██████████| 204/204 [02:08<00:00,  1.59it/s, train_loss=0.134]\n",
      "Epoch 7: 100%|██████████| 28/28 [00:03<00:00,  7.75it/s, val_loss=0.117]\n"
     ]
    },
    {
     "name": "stdout",
     "output_type": "stream",
     "text": [
      "Epoch 7: Train pAUC: 0.122198 - Val pAUC: 0.146467 | Train Loss: 4.292079 - Val Loss: 7.273964\n",
      "\n"
     ]
    },
    {
     "name": "stderr",
     "output_type": "stream",
     "text": [
      "Epoch 8: 100%|██████████| 204/204 [02:08<00:00,  1.59it/s, train_loss=0.133]\n",
      "Epoch 8: 100%|██████████| 28/28 [00:03<00:00,  8.13it/s, val_loss=0.13]\n"
     ]
    },
    {
     "name": "stdout",
     "output_type": "stream",
     "text": [
      "Epoch 8: Train pAUC: 0.119727 - Val pAUC: 0.120157 | Train Loss: 4.229996 - Val Loss: 8.111777\n",
      "\n"
     ]
    },
    {
     "name": "stderr",
     "output_type": "stream",
     "text": [
      "Epoch 9: 100%|██████████| 204/204 [02:08<00:00,  1.59it/s, train_loss=0.131]\n",
      "Epoch 9: 100%|██████████| 28/28 [00:03<00:00,  7.94it/s, val_loss=0.129]\n"
     ]
    },
    {
     "name": "stdout",
     "output_type": "stream",
     "text": [
      "Epoch 9: Train pAUC: 0.111308 - Val pAUC: 0.138942 | Train Loss: 4.169644 - Val Loss: 8.000220\n",
      "\n"
     ]
    },
    {
     "name": "stderr",
     "output_type": "stream",
     "text": [
      "Epoch 10: 100%|██████████| 204/204 [02:08<00:00,  1.59it/s, train_loss=0.131]\n",
      "Epoch 10: 100%|██████████| 28/28 [00:03<00:00,  8.18it/s, val_loss=0.117]\n"
     ]
    },
    {
     "name": "stdout",
     "output_type": "stream",
     "text": [
      "Epoch 10: Train pAUC: 0.117636 - Val pAUC: 0.150948 | Train Loss: 4.194505 - Val Loss: 7.297576\n",
      "\n"
     ]
    },
    {
     "name": "stderr",
     "output_type": "stream",
     "text": [
      "Epoch 11: 100%|██████████| 204/204 [02:08<00:00,  1.59it/s, train_loss=0.124]\n",
      "Epoch 11: 100%|██████████| 28/28 [00:03<00:00,  8.28it/s, val_loss=0.109]\n"
     ]
    },
    {
     "name": "stdout",
     "output_type": "stream",
     "text": [
      "Epoch 11: Train pAUC: 0.131976 - Val pAUC: 0.151563 | Train Loss: 3.947143 - Val Loss: 6.757293\n",
      "\n"
     ]
    },
    {
     "name": "stderr",
     "output_type": "stream",
     "text": [
      "Epoch 12: 100%|██████████| 204/204 [02:08<00:00,  1.59it/s, train_loss=0.128]\n",
      "Epoch 12: 100%|██████████| 28/28 [00:03<00:00,  8.23it/s, val_loss=0.112]\n"
     ]
    },
    {
     "name": "stdout",
     "output_type": "stream",
     "text": [
      "New best model found: pAUC = 0.158268 (previous best: 0.155840)\n",
      "Epoch 12: Train pAUC: 0.121684 - Val pAUC: 0.158268 | Train Loss: 4.080176 - Val Loss: 6.951969\n",
      "\n"
     ]
    },
    {
     "name": "stderr",
     "output_type": "stream",
     "text": [
      "Epoch 13: 100%|██████████| 204/204 [02:08<00:00,  1.59it/s, train_loss=0.124]\n",
      "Epoch 13: 100%|██████████| 28/28 [00:03<00:00,  7.98it/s, val_loss=0.108]\n"
     ]
    },
    {
     "name": "stdout",
     "output_type": "stream",
     "text": [
      "Epoch 13: Train pAUC: 0.128967 - Val pAUC: 0.154435 | Train Loss: 3.945847 - Val Loss: 6.746919\n",
      "\n"
     ]
    },
    {
     "name": "stderr",
     "output_type": "stream",
     "text": [
      "Epoch 14: 100%|██████████| 204/204 [02:08<00:00,  1.59it/s, train_loss=0.122]\n",
      "Epoch 14: 100%|██████████| 28/28 [00:03<00:00,  8.01it/s, val_loss=0.114]\n"
     ]
    },
    {
     "name": "stdout",
     "output_type": "stream",
     "text": [
      "Epoch 14: Train pAUC: 0.136450 - Val pAUC: 0.144234 | Train Loss: 3.894633 - Val Loss: 7.089169\n",
      "\n"
     ]
    },
    {
     "name": "stderr",
     "output_type": "stream",
     "text": [
      "Epoch 15: 100%|██████████| 204/204 [02:08<00:00,  1.59it/s, train_loss=0.121]\n",
      "Epoch 15: 100%|██████████| 28/28 [00:03<00:00,  8.10it/s, val_loss=0.108]\n"
     ]
    },
    {
     "name": "stdout",
     "output_type": "stream",
     "text": [
      "Epoch 15: Train pAUC: 0.130903 - Val pAUC: 0.152482 | Train Loss: 3.871154 - Val Loss: 6.750423\n",
      "\n"
     ]
    },
    {
     "name": "stderr",
     "output_type": "stream",
     "text": [
      "Epoch 16: 100%|██████████| 204/204 [02:08<00:00,  1.59it/s, train_loss=0.12]\n",
      "Epoch 16: 100%|██████████| 28/28 [00:03<00:00,  8.14it/s, val_loss=0.104]\n"
     ]
    },
    {
     "name": "stdout",
     "output_type": "stream",
     "text": [
      "New best model found: pAUC = 0.164525 (previous best: 0.158268)\n",
      "Epoch 16: Train pAUC: 0.131541 - Val pAUC: 0.164525 | Train Loss: 3.828994 - Val Loss: 6.484381\n",
      "\n"
     ]
    },
    {
     "name": "stderr",
     "output_type": "stream",
     "text": [
      "Epoch 17: 100%|██████████| 204/204 [02:08<00:00,  1.59it/s, train_loss=0.112]\n",
      "Epoch 17: 100%|██████████| 28/28 [00:03<00:00,  8.14it/s, val_loss=0.103]\n"
     ]
    },
    {
     "name": "stdout",
     "output_type": "stream",
     "text": [
      "Epoch 17: Train pAUC: 0.143716 - Val pAUC: 0.158705 | Train Loss: 3.580896 - Val Loss: 6.437140\n",
      "\n"
     ]
    },
    {
     "name": "stderr",
     "output_type": "stream",
     "text": [
      "Epoch 18: 100%|██████████| 204/204 [02:08<00:00,  1.59it/s, train_loss=0.11]\n",
      "Epoch 18: 100%|██████████| 28/28 [00:03<00:00,  8.30it/s, val_loss=0.11]\n"
     ]
    },
    {
     "name": "stdout",
     "output_type": "stream",
     "text": [
      "New best model found: pAUC = 0.166316 (previous best: 0.164525)\n",
      "Epoch 18: Train pAUC: 0.143010 - Val pAUC: 0.166316 | Train Loss: 3.512868 - Val Loss: 6.865541\n",
      "\n"
     ]
    },
    {
     "name": "stderr",
     "output_type": "stream",
     "text": [
      "Epoch 19: 100%|██████████| 204/204 [02:08<00:00,  1.59it/s, train_loss=0.111]\n",
      "Epoch 19: 100%|██████████| 28/28 [00:03<00:00,  8.14it/s, val_loss=0.104]\n"
     ]
    },
    {
     "name": "stdout",
     "output_type": "stream",
     "text": [
      "Epoch 19: Train pAUC: 0.144081 - Val pAUC: 0.158741 | Train Loss: 3.554224 - Val Loss: 6.457059\n",
      "\n"
     ]
    },
    {
     "name": "stderr",
     "output_type": "stream",
     "text": [
      "Epoch 20: 100%|██████████| 204/204 [02:08<00:00,  1.59it/s, train_loss=0.114]\n",
      "Epoch 20: 100%|██████████| 28/28 [00:03<00:00,  7.99it/s, val_loss=0.121]\n"
     ]
    },
    {
     "name": "stdout",
     "output_type": "stream",
     "text": [
      "Epoch 20: Train pAUC: 0.139226 - Val pAUC: 0.150038 | Train Loss: 3.628455 - Val Loss: 7.558122\n",
      "\n"
     ]
    },
    {
     "name": "stderr",
     "output_type": "stream",
     "text": [
      "Epoch 21: 100%|██████████| 204/204 [02:08<00:00,  1.59it/s, train_loss=0.108]\n",
      "Epoch 21: 100%|██████████| 28/28 [00:03<00:00,  8.05it/s, val_loss=0.115]\n"
     ]
    },
    {
     "name": "stdout",
     "output_type": "stream",
     "text": [
      "Epoch 21: Train pAUC: 0.146194 - Val pAUC: 0.135131 | Train Loss: 3.440091 - Val Loss: 7.157990\n",
      "\n"
     ]
    },
    {
     "name": "stderr",
     "output_type": "stream",
     "text": [
      "Epoch 22: 100%|██████████| 204/204 [02:08<00:00,  1.59it/s, train_loss=0.111]\n",
      "Epoch 22: 100%|██████████| 28/28 [00:03<00:00,  8.23it/s, val_loss=0.119]\n"
     ]
    },
    {
     "name": "stdout",
     "output_type": "stream",
     "text": [
      "Epoch 22: Train pAUC: 0.143036 - Val pAUC: 0.146971 | Train Loss: 3.529844 - Val Loss: 7.401167\n",
      "\n"
     ]
    },
    {
     "name": "stderr",
     "output_type": "stream",
     "text": [
      "Epoch 23: 100%|██████████| 204/204 [02:08<00:00,  1.59it/s, train_loss=0.103]\n",
      "Epoch 23: 100%|██████████| 28/28 [00:03<00:00,  8.14it/s, val_loss=0.104]\n"
     ]
    },
    {
     "name": "stdout",
     "output_type": "stream",
     "text": [
      "Epoch 23: Train pAUC: 0.151354 - Val pAUC: 0.165533 | Train Loss: 3.283067 - Val Loss: 6.453358\n",
      "\n"
     ]
    },
    {
     "name": "stderr",
     "output_type": "stream",
     "text": [
      "Epoch 24: 100%|██████████| 204/204 [02:08<00:00,  1.59it/s, train_loss=0.104]\n",
      "Epoch 24: 100%|██████████| 28/28 [00:03<00:00,  8.12it/s, val_loss=0.112]\n"
     ]
    },
    {
     "name": "stdout",
     "output_type": "stream",
     "text": [
      "Epoch 24: Train pAUC: 0.156444 - Val pAUC: 0.160855 | Train Loss: 3.313924 - Val Loss: 6.957754\n",
      "\n"
     ]
    },
    {
     "name": "stderr",
     "output_type": "stream",
     "text": [
      "Epoch 25: 100%|██████████| 204/204 [02:08<00:00,  1.59it/s, train_loss=0.102]\n",
      "Epoch 25: 100%|██████████| 28/28 [00:03<00:00,  8.11it/s, val_loss=0.142]\n"
     ]
    },
    {
     "name": "stdout",
     "output_type": "stream",
     "text": [
      "Epoch 25: Train pAUC: 0.156749 - Val pAUC: 0.150282 | Train Loss: 3.248908 - Val Loss: 8.848155\n",
      "\n"
     ]
    },
    {
     "name": "stderr",
     "output_type": "stream",
     "text": [
      "Epoch 26: 100%|██████████| 204/204 [02:08<00:00,  1.59it/s, train_loss=0.0981]\n",
      "Epoch 26: 100%|██████████| 28/28 [00:03<00:00,  7.94it/s, val_loss=0.101]\n"
     ]
    },
    {
     "name": "stdout",
     "output_type": "stream",
     "text": [
      "Epoch 26: Train pAUC: 0.158304 - Val pAUC: 0.165144 | Train Loss: 3.128986 - Val Loss: 6.267949\n",
      "\n"
     ]
    },
    {
     "name": "stderr",
     "output_type": "stream",
     "text": [
      "Epoch 27: 100%|██████████| 204/204 [02:08<00:00,  1.59it/s, train_loss=0.0985]\n",
      "Epoch 27: 100%|██████████| 28/28 [00:03<00:00,  8.17it/s, val_loss=0.11]\n"
     ]
    },
    {
     "name": "stdout",
     "output_type": "stream",
     "text": [
      "Epoch 27: Train pAUC: 0.155872 - Val pAUC: 0.156100 | Train Loss: 3.144290 - Val Loss: 6.853363\n",
      "\n"
     ]
    },
    {
     "name": "stderr",
     "output_type": "stream",
     "text": [
      "Epoch 28: 100%|██████████| 204/204 [02:08<00:00,  1.59it/s, train_loss=0.0993]\n",
      "Epoch 28: 100%|██████████| 28/28 [00:03<00:00,  8.34it/s, val_loss=0.106]\n"
     ]
    },
    {
     "name": "stdout",
     "output_type": "stream",
     "text": [
      "Epoch 28: Train pAUC: 0.154622 - Val pAUC: 0.165385 | Train Loss: 3.167375 - Val Loss: 6.568305\n",
      "\n"
     ]
    },
    {
     "name": "stderr",
     "output_type": "stream",
     "text": [
      "Epoch 29: 100%|██████████| 204/204 [02:08<00:00,  1.59it/s, train_loss=0.0996]\n",
      "Epoch 29: 100%|██████████| 28/28 [00:03<00:00,  8.08it/s, val_loss=0.104]\n"
     ]
    },
    {
     "name": "stdout",
     "output_type": "stream",
     "text": [
      "Epoch 29: Train pAUC: 0.156663 - Val pAUC: 0.161691 | Train Loss: 3.177724 - Val Loss: 6.464212\n",
      "\n"
     ]
    },
    {
     "name": "stderr",
     "output_type": "stream",
     "text": [
      "Epoch 30: 100%|██████████| 204/204 [02:08<00:00,  1.59it/s, train_loss=0.0873]\n",
      "Epoch 30: 100%|██████████| 28/28 [00:03<00:00,  8.02it/s, val_loss=0.108]\n"
     ]
    },
    {
     "name": "stdout",
     "output_type": "stream",
     "text": [
      "Epoch 30: Train pAUC: 0.168411 - Val pAUC: 0.157121 | Train Loss: 2.785568 - Val Loss: 6.745655\n",
      "\n"
     ]
    },
    {
     "name": "stderr",
     "output_type": "stream",
     "text": [
      "Epoch 31: 100%|██████████| 204/204 [02:08<00:00,  1.59it/s, train_loss=0.0914]\n",
      "Epoch 31: 100%|██████████| 28/28 [00:03<00:00,  8.20it/s, val_loss=0.106]\n"
     ]
    },
    {
     "name": "stdout",
     "output_type": "stream",
     "text": [
      "Epoch 31: Train pAUC: 0.163647 - Val pAUC: 0.152813 | Train Loss: 2.916098 - Val Loss: 6.623687\n",
      "\n"
     ]
    },
    {
     "name": "stderr",
     "output_type": "stream",
     "text": [
      "Epoch 32: 100%|██████████| 204/204 [02:08<00:00,  1.59it/s, train_loss=0.0878]\n",
      "Epoch 32: 100%|██████████| 28/28 [00:03<00:00,  8.23it/s, val_loss=0.0978]\n"
     ]
    },
    {
     "name": "stdout",
     "output_type": "stream",
     "text": [
      "New best model found: pAUC = 0.167069 (previous best: 0.166316)\n",
      "Epoch 32: Train pAUC: 0.164671 - Val pAUC: 0.167069 | Train Loss: 2.803399 - Val Loss: 6.085281\n",
      "\n"
     ]
    },
    {
     "name": "stderr",
     "output_type": "stream",
     "text": [
      "Epoch 33: 100%|██████████| 204/204 [02:08<00:00,  1.59it/s, train_loss=0.083]\n",
      "Epoch 33: 100%|██████████| 28/28 [00:03<00:00,  7.78it/s, val_loss=0.103]\n"
     ]
    },
    {
     "name": "stdout",
     "output_type": "stream",
     "text": [
      "Epoch 33: Train pAUC: 0.168596 - Val pAUC: 0.157900 | Train Loss: 2.649124 - Val Loss: 6.431514\n",
      "\n"
     ]
    },
    {
     "name": "stderr",
     "output_type": "stream",
     "text": [
      "Epoch 34: 100%|██████████| 204/204 [02:08<00:00,  1.59it/s, train_loss=0.0818]\n",
      "Epoch 34: 100%|██████████| 28/28 [00:03<00:00,  8.25it/s, val_loss=0.102]\n"
     ]
    },
    {
     "name": "stdout",
     "output_type": "stream",
     "text": [
      "Epoch 34: Train pAUC: 0.166827 - Val pAUC: 0.164362 | Train Loss: 2.611819 - Val Loss: 6.376384\n",
      "\n"
     ]
    },
    {
     "name": "stderr",
     "output_type": "stream",
     "text": [
      "Epoch 35: 100%|██████████| 204/204 [02:08<00:00,  1.59it/s, train_loss=0.0897]\n",
      "Epoch 35: 100%|██████████| 28/28 [00:03<00:00,  8.25it/s, val_loss=0.103]\n"
     ]
    },
    {
     "name": "stdout",
     "output_type": "stream",
     "text": [
      "New best model found: pAUC = 0.167631 (previous best: 0.167069)\n",
      "Epoch 35: Train pAUC: 0.163921 - Val pAUC: 0.167631 | Train Loss: 2.862934 - Val Loss: 6.404767\n",
      "\n"
     ]
    },
    {
     "name": "stderr",
     "output_type": "stream",
     "text": [
      "Epoch 36: 100%|██████████| 204/204 [02:08<00:00,  1.59it/s, train_loss=0.0751]\n",
      "Epoch 36: 100%|██████████| 28/28 [00:03<00:00,  8.37it/s, val_loss=0.104]\n"
     ]
    },
    {
     "name": "stdout",
     "output_type": "stream",
     "text": [
      "Epoch 36: Train pAUC: 0.176613 - Val pAUC: 0.162447 | Train Loss: 2.397397 - Val Loss: 6.497487\n",
      "\n"
     ]
    },
    {
     "name": "stderr",
     "output_type": "stream",
     "text": [
      "Epoch 37: 100%|██████████| 204/204 [02:08<00:00,  1.59it/s, train_loss=0.0734]\n",
      "Epoch 37: 100%|██████████| 28/28 [00:03<00:00,  8.28it/s, val_loss=0.107]\n"
     ]
    },
    {
     "name": "stdout",
     "output_type": "stream",
     "text": [
      "Epoch 37: Train pAUC: 0.177137 - Val pAUC: 0.153056 | Train Loss: 2.341363 - Val Loss: 6.680981\n",
      "\n"
     ]
    },
    {
     "name": "stderr",
     "output_type": "stream",
     "text": [
      "Epoch 38: 100%|██████████| 204/204 [02:08<00:00,  1.59it/s, train_loss=0.0716]\n",
      "Epoch 38: 100%|██████████| 28/28 [00:03<00:00,  8.13it/s, val_loss=0.111]\n"
     ]
    },
    {
     "name": "stdout",
     "output_type": "stream",
     "text": [
      "Epoch 38: Train pAUC: 0.178400 - Val pAUC: 0.157956 | Train Loss: 2.283979 - Val Loss: 6.880431\n",
      "\n"
     ]
    },
    {
     "name": "stderr",
     "output_type": "stream",
     "text": [
      "Epoch 39: 100%|██████████| 204/204 [02:08<00:00,  1.59it/s, train_loss=0.0636]\n",
      "Epoch 39: 100%|██████████| 28/28 [00:03<00:00,  8.23it/s, val_loss=0.11]\n"
     ]
    },
    {
     "name": "stdout",
     "output_type": "stream",
     "text": [
      "Epoch 39: Train pAUC: 0.180285 - Val pAUC: 0.161170 | Train Loss: 2.029038 - Val Loss: 6.826604\n",
      "\n"
     ]
    },
    {
     "name": "stderr",
     "output_type": "stream",
     "text": [
      "Epoch 40: 100%|██████████| 204/204 [02:08<00:00,  1.59it/s, train_loss=0.064]\n",
      "Epoch 40: 100%|██████████| 28/28 [00:03<00:00,  8.17it/s, val_loss=0.115]\n"
     ]
    },
    {
     "name": "stdout",
     "output_type": "stream",
     "text": [
      "Epoch 40: Train pAUC: 0.182841 - Val pAUC: 0.160790 | Train Loss: 2.042159 - Val Loss: 7.184133\n",
      "\n"
     ]
    },
    {
     "name": "stderr",
     "output_type": "stream",
     "text": [
      "Epoch 41: 100%|██████████| 204/204 [02:08<00:00,  1.59it/s, train_loss=0.0699]\n",
      "Epoch 41: 100%|██████████| 28/28 [00:03<00:00,  8.30it/s, val_loss=0.111]\n"
     ]
    },
    {
     "name": "stdout",
     "output_type": "stream",
     "text": [
      "Epoch 41: Train pAUC: 0.176197 - Val pAUC: 0.152533 | Train Loss: 2.231552 - Val Loss: 6.936867\n",
      "\n"
     ]
    },
    {
     "name": "stderr",
     "output_type": "stream",
     "text": [
      "Epoch 42: 100%|██████████| 204/204 [02:08<00:00,  1.59it/s, train_loss=0.0596]\n",
      "Epoch 42: 100%|██████████| 28/28 [00:03<00:00,  8.21it/s, val_loss=0.103]\n"
     ]
    },
    {
     "name": "stdout",
     "output_type": "stream",
     "text": [
      "Epoch 42: Train pAUC: 0.184716 - Val pAUC: 0.158749 | Train Loss: 1.903366 - Val Loss: 6.408290\n",
      "\n"
     ]
    },
    {
     "name": "stderr",
     "output_type": "stream",
     "text": [
      "Epoch 43: 100%|██████████| 204/204 [02:08<00:00,  1.59it/s, train_loss=0.0515]\n",
      "Epoch 43: 100%|██████████| 28/28 [00:03<00:00,  8.41it/s, val_loss=0.125]\n"
     ]
    },
    {
     "name": "stdout",
     "output_type": "stream",
     "text": [
      "Epoch 43: Train pAUC: 0.187975 - Val pAUC: 0.153617 | Train Loss: 1.643011 - Val Loss: 7.766018\n",
      "\n"
     ]
    },
    {
     "name": "stderr",
     "output_type": "stream",
     "text": [
      "Epoch 44: 100%|██████████| 204/204 [02:08<00:00,  1.59it/s, train_loss=0.0554]\n",
      "Epoch 44: 100%|██████████| 28/28 [00:03<00:00,  8.42it/s, val_loss=0.109]\n"
     ]
    },
    {
     "name": "stdout",
     "output_type": "stream",
     "text": [
      "Epoch 44: Train pAUC: 0.187148 - Val pAUC: 0.158913 | Train Loss: 1.767770 - Val Loss: 6.778725\n",
      "\n"
     ]
    },
    {
     "name": "stderr",
     "output_type": "stream",
     "text": [
      "Epoch 45: 100%|██████████| 204/204 [02:08<00:00,  1.59it/s, train_loss=0.0503]\n",
      "Epoch 45: 100%|██████████| 28/28 [00:03<00:00,  8.31it/s, val_loss=0.116]\n"
     ]
    },
    {
     "name": "stdout",
     "output_type": "stream",
     "text": [
      "Epoch 45: Train pAUC: 0.189696 - Val pAUC: 0.159827 | Train Loss: 1.606605 - Val Loss: 7.234050\n",
      "\n"
     ]
    },
    {
     "name": "stderr",
     "output_type": "stream",
     "text": [
      "Epoch 46: 100%|██████████| 204/204 [02:08<00:00,  1.59it/s, train_loss=0.0517]\n",
      "Epoch 46: 100%|██████████| 28/28 [00:03<00:00,  7.99it/s, val_loss=0.117]\n"
     ]
    },
    {
     "name": "stdout",
     "output_type": "stream",
     "text": [
      "Epoch 46: Train pAUC: 0.186413 - Val pAUC: 0.163696 | Train Loss: 1.650273 - Val Loss: 7.287940\n",
      "\n"
     ]
    },
    {
     "name": "stderr",
     "output_type": "stream",
     "text": [
      "Epoch 47: 100%|██████████| 204/204 [02:08<00:00,  1.59it/s, train_loss=0.0543]\n",
      "Epoch 47: 100%|██████████| 28/28 [00:03<00:00,  8.30it/s, val_loss=0.11]\n"
     ]
    },
    {
     "name": "stdout",
     "output_type": "stream",
     "text": [
      "Epoch 47: Train pAUC: 0.188234 - Val pAUC: 0.163606 | Train Loss: 1.731402 - Val Loss: 6.838507\n",
      "\n"
     ]
    },
    {
     "name": "stderr",
     "output_type": "stream",
     "text": [
      "Epoch 48: 100%|██████████| 204/204 [02:08<00:00,  1.59it/s, train_loss=0.0498]\n",
      "Epoch 48: 100%|██████████| 28/28 [00:03<00:00,  8.41it/s, val_loss=0.137]\n"
     ]
    },
    {
     "name": "stdout",
     "output_type": "stream",
     "text": [
      "New best model found: pAUC = 0.169901 (previous best: 0.167631)\n",
      "Epoch 48: Train pAUC: 0.185079 - Val pAUC: 0.169901 | Train Loss: 1.590563 - Val Loss: 8.555900\n",
      "\n"
     ]
    },
    {
     "name": "stderr",
     "output_type": "stream",
     "text": [
      "Epoch 49: 100%|██████████| 204/204 [02:08<00:00,  1.59it/s, train_loss=0.0515]\n",
      "Epoch 49: 100%|██████████| 28/28 [00:03<00:00,  8.28it/s, val_loss=0.109]\n"
     ]
    },
    {
     "name": "stdout",
     "output_type": "stream",
     "text": [
      "Epoch 49: Train pAUC: 0.185530 - Val pAUC: 0.165830 | Train Loss: 1.642926 - Val Loss: 6.788108\n",
      "\n"
     ]
    },
    {
     "name": "stderr",
     "output_type": "stream",
     "text": [
      "Epoch 50: 100%|██████████| 204/204 [02:08<00:00,  1.59it/s, train_loss=0.0395]\n",
      "Epoch 50: 100%|██████████| 28/28 [00:03<00:00,  8.57it/s, val_loss=0.128]\n"
     ]
    },
    {
     "name": "stdout",
     "output_type": "stream",
     "text": [
      "Epoch 50: Train pAUC: 0.194257 - Val pAUC: 0.160611 | Train Loss: 1.261773 - Val Loss: 7.939043\n",
      "\n"
     ]
    },
    {
     "name": "stderr",
     "output_type": "stream",
     "text": [
      "Epoch 51: 100%|██████████| 204/204 [02:08<00:00,  1.59it/s, train_loss=0.0412]\n",
      "Epoch 51: 100%|██████████| 28/28 [00:03<00:00,  8.45it/s, val_loss=0.118]\n"
     ]
    },
    {
     "name": "stdout",
     "output_type": "stream",
     "text": [
      "Epoch 51: Train pAUC: 0.191980 - Val pAUC: 0.163909 | Train Loss: 1.315393 - Val Loss: 7.314431\n",
      "\n"
     ]
    },
    {
     "name": "stderr",
     "output_type": "stream",
     "text": [
      "Epoch 52: 100%|██████████| 204/204 [02:08<00:00,  1.59it/s, train_loss=0.0368]\n",
      "Epoch 52: 100%|██████████| 28/28 [00:03<00:00,  7.91it/s, val_loss=0.132]\n"
     ]
    },
    {
     "name": "stdout",
     "output_type": "stream",
     "text": [
      "Epoch 52: Train pAUC: 0.194960 - Val pAUC: 0.160041 | Train Loss: 1.174383 - Val Loss: 8.205771\n",
      "\n"
     ]
    },
    {
     "name": "stderr",
     "output_type": "stream",
     "text": [
      "Epoch 53: 100%|██████████| 204/204 [02:08<00:00,  1.59it/s, train_loss=0.0368]\n",
      "Epoch 53: 100%|██████████| 28/28 [00:03<00:00,  8.09it/s, val_loss=0.121]\n"
     ]
    },
    {
     "name": "stdout",
     "output_type": "stream",
     "text": [
      "Epoch 53: Train pAUC: 0.193961 - Val pAUC: 0.162116 | Train Loss: 1.172982 - Val Loss: 7.524256\n",
      "\n"
     ]
    },
    {
     "name": "stderr",
     "output_type": "stream",
     "text": [
      "Epoch 54: 100%|██████████| 204/204 [02:08<00:00,  1.59it/s, train_loss=0.0333]\n",
      "Epoch 54: 100%|██████████| 28/28 [00:03<00:00,  8.35it/s, val_loss=0.147]\n"
     ]
    },
    {
     "name": "stdout",
     "output_type": "stream",
     "text": [
      "Epoch 54: Train pAUC: 0.195753 - Val pAUC: 0.152346 | Train Loss: 1.062163 - Val Loss: 9.174651\n",
      "\n"
     ]
    },
    {
     "name": "stderr",
     "output_type": "stream",
     "text": [
      "Epoch 55: 100%|██████████| 204/204 [02:08<00:00,  1.59it/s, train_loss=0.0334]\n",
      "Epoch 55: 100%|██████████| 28/28 [00:03<00:00,  8.30it/s, val_loss=0.141]\n"
     ]
    },
    {
     "name": "stdout",
     "output_type": "stream",
     "text": [
      "Epoch 55: Train pAUC: 0.193822 - Val pAUC: 0.156063 | Train Loss: 1.065571 - Val Loss: 8.786529\n",
      "\n"
     ]
    },
    {
     "name": "stderr",
     "output_type": "stream",
     "text": [
      "Epoch 56: 100%|██████████| 204/204 [02:08<00:00,  1.59it/s, train_loss=0.0326]\n",
      "Epoch 56: 100%|██████████| 28/28 [00:03<00:00,  8.28it/s, val_loss=0.153]\n"
     ]
    },
    {
     "name": "stdout",
     "output_type": "stream",
     "text": [
      "Epoch 56: Train pAUC: 0.195858 - Val pAUC: 0.157188 | Train Loss: 1.039449 - Val Loss: 9.523872\n",
      "\n"
     ]
    },
    {
     "name": "stderr",
     "output_type": "stream",
     "text": [
      "Epoch 57: 100%|██████████| 204/204 [02:08<00:00,  1.59it/s, train_loss=0.0278]\n",
      "Epoch 57: 100%|██████████| 28/28 [00:03<00:00,  8.23it/s, val_loss=0.158]\n"
     ]
    },
    {
     "name": "stdout",
     "output_type": "stream",
     "text": [
      "Epoch 57: Train pAUC: 0.194732 - Val pAUC: 0.160784 | Train Loss: 0.885816 - Val Loss: 9.828919\n",
      "\n"
     ]
    },
    {
     "name": "stderr",
     "output_type": "stream",
     "text": [
      "Epoch 58: 100%|██████████| 204/204 [02:08<00:00,  1.59it/s, train_loss=0.0259]\n",
      "Epoch 58: 100%|██████████| 28/28 [00:03<00:00,  8.23it/s, val_loss=0.151]\n"
     ]
    },
    {
     "name": "stdout",
     "output_type": "stream",
     "text": [
      "Epoch 58: Train pAUC: 0.197491 - Val pAUC: 0.163925 | Train Loss: 0.825125 - Val Loss: 9.417998\n",
      "\n"
     ]
    },
    {
     "name": "stderr",
     "output_type": "stream",
     "text": [
      "Epoch 59: 100%|██████████| 204/204 [02:08<00:00,  1.59it/s, train_loss=0.0309]\n",
      "Epoch 59: 100%|██████████| 28/28 [00:03<00:00,  8.08it/s, val_loss=0.153]\n"
     ]
    },
    {
     "name": "stdout",
     "output_type": "stream",
     "text": [
      "Epoch 59: Train pAUC: 0.195958 - Val pAUC: 0.158654 | Train Loss: 0.987191 - Val Loss: 9.515885\n",
      "\n"
     ]
    },
    {
     "name": "stderr",
     "output_type": "stream",
     "text": [
      "Epoch 60: 100%|██████████| 204/204 [02:08<00:00,  1.59it/s, train_loss=0.0265]\n",
      "Epoch 60: 100%|██████████| 28/28 [00:03<00:00,  8.24it/s, val_loss=0.153]\n"
     ]
    },
    {
     "name": "stdout",
     "output_type": "stream",
     "text": [
      "Epoch 60: Train pAUC: 0.195352 - Val pAUC: 0.159296 | Train Loss: 0.844570 - Val Loss: 9.496747\n",
      "\n"
     ]
    },
    {
     "name": "stderr",
     "output_type": "stream",
     "text": [
      "Epoch 61: 100%|██████████| 204/204 [02:08<00:00,  1.59it/s, train_loss=0.025]\n",
      "Epoch 61: 100%|██████████| 28/28 [00:03<00:00,  8.17it/s, val_loss=0.156]\n"
     ]
    },
    {
     "name": "stdout",
     "output_type": "stream",
     "text": [
      "Epoch 61: Train pAUC: 0.195546 - Val pAUC: 0.161463 | Train Loss: 0.796877 - Val Loss: 9.697452\n",
      "\n"
     ]
    },
    {
     "name": "stderr",
     "output_type": "stream",
     "text": [
      "Epoch 62: 100%|██████████| 204/204 [02:08<00:00,  1.59it/s, train_loss=0.0224]\n",
      "Epoch 62: 100%|██████████| 28/28 [00:03<00:00,  8.35it/s, val_loss=0.166]\n"
     ]
    },
    {
     "name": "stdout",
     "output_type": "stream",
     "text": [
      "Epoch 62: Train pAUC: 0.197814 - Val pAUC: 0.154645 | Train Loss: 0.715551 - Val Loss: 10.311749\n",
      "\n"
     ]
    },
    {
     "name": "stderr",
     "output_type": "stream",
     "text": [
      "Epoch 63: 100%|██████████| 204/204 [02:08<00:00,  1.59it/s, train_loss=0.0274]\n",
      "Epoch 63: 100%|██████████| 28/28 [00:03<00:00,  8.27it/s, val_loss=0.161]\n"
     ]
    },
    {
     "name": "stdout",
     "output_type": "stream",
     "text": [
      "Early stopping triggered at epoch 63. Best pAUC = 0.169901\n",
      "Epoch 63: Train pAUC: 0.197143 - Val pAUC: 0.159968 | Train Loss: 0.874402 - Val Loss: 10.044911\n",
      "\n"
     ]
    },
    {
     "name": "stderr",
     "output_type": "stream",
     "text": [
      "Prediction: 100%|██████████| 1389/1389 [02:18<00:00, 10.06it/s]\n"
     ]
    }
   ],
   "source": [
    "histories = {}\n",
    "oof_pred_probs_df = []\n",
    "test_preds = []\n",
    "for fold_idx in range(CFG.n_folds):\n",
    "    print(f'---------------------------------- Fold {fold_idx + 1} ----------------------------------')\n",
    "\n",
    "    _train = train_metadata[train_metadata['fold'] != fold_idx]\n",
    "    _train_positives = _train[_train.target == 1]\n",
    "    _train_negatives = _train[_train.target == 0]\n",
    "    _train = pd.concat([_train_positives, _train_negatives.sample(n=20 * len(_train_positives), random_state=CFG.seed)])\n",
    "    _train = _train.sample(frac=1, random_state=CFG.seed).reset_index(drop=True)\n",
    "    train_dataset = ISICDataset(CFG.train_img_path, _train, transforms['train'])\n",
    "    train_dataloader = DataLoader(train_dataset, batch_size=CFG.train_batch_size, shuffle=True,  num_workers=4, pin_memory=True)\n",
    "\n",
    "    _val = train_metadata[train_metadata['fold'] == fold_idx]\n",
    "    _val_positives = _val[_val.target == 1]\n",
    "    _val_negatives = _val[_val.target == 0]\n",
    "    _val = pd.concat([_val_positives, _val_negatives.sample(n=20 * len(_val_positives), random_state=CFG.seed)])\n",
    "    _val = _val.sample(frac=1, random_state=CFG.seed).reset_index(drop=True)\n",
    "    val_dataset = ISICDataset(CFG.train_img_path, _val, transforms['val'])\n",
    "    val_dataloader = DataLoader(val_dataset, batch_size=CFG.val_batch_size, shuffle=False, num_workers=4, pin_memory=True)\n",
    "\n",
    "    _val_oof = train_metadata[train_metadata['fold'] == fold_idx]\n",
    "    val_oof_dataset = ISICDataset(CFG.train_img_path, _val_oof, transforms['val'])\n",
    "    val_oof_dataloader = DataLoader(val_oof_dataset, batch_size=CFG.val_batch_size, shuffle=False, num_workers=4, pin_memory=True)\n",
    "\n",
    "    CFG.t_max = _train.shape[0] * (CFG.n_folds-1) * CFG.max_epochs // CFG.train_batch_size // CFG.n_folds\n",
    "\n",
    "    model = ResNet(CFG.model_name).to(CFG.device)\n",
    "    criterion = nn.BCELoss()\n",
    "    optimizer = optim.Adam(model.parameters(), lr=CFG.learning_rate, weight_decay=CFG.weight_decay)\n",
    "    scheduler = optim.lr_scheduler.CosineAnnealingLR(optimizer, T_max=CFG.t_max, eta_min=CFG.min_lr)\n",
    "\n",
    "    trainer = Trainer(\n",
    "        device=CFG.device,\n",
    "        model=model,\n",
    "        criterion=criterion,\n",
    "        optimizer=optimizer,\n",
    "        scheduler=scheduler,\n",
    "        train_dataloader=train_dataloader,\n",
    "        val_dataloader=val_dataloader,\n",
    "        checkpoint_path=CFG.checkpoint_path,\n",
    "        fold_idx=fold_idx,\n",
    "        es_patience=CFG.es_patience\n",
    "    )\n",
    "\n",
    "    history = {\n",
    "        'epoch': [],\n",
    "        'train_pauc': [],\n",
    "        'train_loss': [],\n",
    "        'val_pauc': [],\n",
    "        'val_loss': []\n",
    "    }\n",
    "    for epoch in range(1, CFG.max_epochs + 1):\n",
    "        train_pauc, train_loss = trainer.train(current_epoch_nr=epoch)\n",
    "        val_pauc, val_loss, es_triggered = trainer.evaluate(current_epoch_nr=epoch)\n",
    "\n",
    "        print(f\"Epoch {epoch}: Train pAUC: {train_pauc:.6f} - Val pAUC: {val_pauc:.6f} | Train Loss: {train_loss:.6f} - Val Loss: {val_loss:.6f}\\n\")\n",
    "\n",
    "        history['epoch'].append(epoch)\n",
    "        history['train_pauc'].append(train_pauc)\n",
    "        history['train_loss'].append(train_loss)\n",
    "        history['val_pauc'].append(val_pauc)\n",
    "        history['val_loss'].append(val_loss)\n",
    "\n",
    "        if es_triggered:\n",
    "            break\n",
    "\n",
    "    histories[f'Fold {fold_idx + 1}'] = history\n",
    "\n",
    "    pred_probs = trainer.predict(val_oof_dataloader)\n",
    "    _val_oof[CFG.model_name] = pred_probs\n",
    "    oof_pred_probs_df.append(_val_oof)\n",
    "\n",
    "    del _train, _val, _val_oof, train_dataset, val_dataset, model, criterion, optimizer, scheduler, trainer\n",
    "    gc.collect()\n",
    "    torch.cuda.empty_cache()"
   ]
  },
  {
   "cell_type": "code",
   "execution_count": 10,
   "id": "4e74bf9a",
   "metadata": {
    "execution": {
     "iopub.execute_input": "2024-08-30T18:18:10.889137Z",
     "iopub.status.busy": "2024-08-30T18:18:10.888437Z",
     "iopub.status.idle": "2024-08-30T18:18:12.796218Z",
     "shell.execute_reply": "2024-08-30T18:18:12.795263Z"
    },
    "id": "jNqTO4uvCZwF",
    "papermill": {
     "duration": 14.488239,
     "end_time": "2024-08-30T18:18:12.798613",
     "exception": false,
     "start_time": "2024-08-30T18:17:58.310374",
     "status": "completed"
    },
    "tags": []
   },
   "outputs": [
    {
     "data": {
      "text/html": [
       "<div>\n",
       "<style scoped>\n",
       "    .dataframe tbody tr th:only-of-type {\n",
       "        vertical-align: middle;\n",
       "    }\n",
       "\n",
       "    .dataframe tbody tr th {\n",
       "        vertical-align: top;\n",
       "    }\n",
       "\n",
       "    .dataframe thead th {\n",
       "        text-align: right;\n",
       "    }\n",
       "</style>\n",
       "<table border=\"1\" class=\"dataframe\">\n",
       "  <thead>\n",
       "    <tr style=\"text-align: right;\">\n",
       "      <th></th>\n",
       "      <th>isic_id</th>\n",
       "      <th>fold</th>\n",
       "      <th>target</th>\n",
       "      <th>resnet50</th>\n",
       "    </tr>\n",
       "  </thead>\n",
       "  <tbody>\n",
       "    <tr>\n",
       "      <th>10</th>\n",
       "      <td>ISIC_0051812</td>\n",
       "      <td>0.0</td>\n",
       "      <td>0</td>\n",
       "      <td>5.516189e-03</td>\n",
       "    </tr>\n",
       "    <tr>\n",
       "      <th>18</th>\n",
       "      <td>ISIC_0052026</td>\n",
       "      <td>0.0</td>\n",
       "      <td>0</td>\n",
       "      <td>5.463998e-02</td>\n",
       "    </tr>\n",
       "    <tr>\n",
       "      <th>30</th>\n",
       "      <td>ISIC_0052259</td>\n",
       "      <td>0.0</td>\n",
       "      <td>0</td>\n",
       "      <td>2.161432e-03</td>\n",
       "    </tr>\n",
       "    <tr>\n",
       "      <th>32</th>\n",
       "      <td>ISIC_0052310</td>\n",
       "      <td>0.0</td>\n",
       "      <td>0</td>\n",
       "      <td>8.218593e-07</td>\n",
       "    </tr>\n",
       "    <tr>\n",
       "      <th>33</th>\n",
       "      <td>ISIC_0052313</td>\n",
       "      <td>0.0</td>\n",
       "      <td>0</td>\n",
       "      <td>8.476642e-03</td>\n",
       "    </tr>\n",
       "  </tbody>\n",
       "</table>\n",
       "</div>"
      ],
      "text/plain": [
       "         isic_id  fold  target      resnet50\n",
       "10  ISIC_0051812   0.0       0  5.516189e-03\n",
       "18  ISIC_0052026   0.0       0  5.463998e-02\n",
       "30  ISIC_0052259   0.0       0  2.161432e-03\n",
       "32  ISIC_0052310   0.0       0  8.218593e-07\n",
       "33  ISIC_0052313   0.0       0  8.476642e-03"
      ]
     },
     "execution_count": 10,
     "metadata": {},
     "output_type": "execute_result"
    }
   ],
   "source": [
    "oof_pred_probs_df = pd.concat(oof_pred_probs_df)[['isic_id', 'fold', 'target', CFG.model_name]]\n",
    "oof_pred_probs_df.to_csv(f'{CFG.model_name}_oof_preds.csv', index=False)\n",
    "oof_pred_probs_df.head()"
   ]
  },
  {
   "cell_type": "markdown",
   "id": "a3421cb1",
   "metadata": {
    "papermill": {
     "duration": 12.217615,
     "end_time": "2024-08-30T18:18:37.658805",
     "exception": false,
     "start_time": "2024-08-30T18:18:25.441190",
     "status": "completed"
    },
    "tags": []
   },
   "source": [
    "# Results"
   ]
  },
  {
   "cell_type": "code",
   "execution_count": 11,
   "id": "f41e6076",
   "metadata": {
    "execution": {
     "iopub.execute_input": "2024-08-30T18:19:02.387803Z",
     "iopub.status.busy": "2024-08-30T18:19:02.387452Z",
     "iopub.status.idle": "2024-08-30T18:19:02.398628Z",
     "shell.execute_reply": "2024-08-30T18:19:02.397570Z"
    },
    "id": "Qkcd2V7W-_GW",
    "papermill": {
     "duration": 12.489875,
     "end_time": "2024-08-30T18:19:02.400830",
     "exception": false,
     "start_time": "2024-08-30T18:18:49.910955",
     "status": "completed"
    },
    "tags": []
   },
   "outputs": [],
   "source": [
    "histories = pd.concat([pd.DataFrame(data).assign(Fold=fold) for fold, data in histories.items()])"
   ]
  },
  {
   "cell_type": "code",
   "execution_count": 12,
   "id": "e6d35834",
   "metadata": {
    "execution": {
     "iopub.execute_input": "2024-08-30T18:19:27.527401Z",
     "iopub.status.busy": "2024-08-30T18:19:27.526767Z",
     "iopub.status.idle": "2024-08-30T18:19:28.733976Z",
     "shell.execute_reply": "2024-08-30T18:19:28.732950Z"
    },
    "id": "lATwCeDXdsHG",
    "papermill": {
     "duration": 13.764019,
     "end_time": "2024-08-30T18:19:28.738160",
     "exception": false,
     "start_time": "2024-08-30T18:19:14.974141",
     "status": "completed"
    },
    "tags": []
   },
   "outputs": [
    {
     "data": {
      "image/png": "[encoded data removed]",
      "text/plain": [
       "<Figure size 1600x600 with 2 Axes>"
      ]
     },
     "metadata": {},
     "output_type": "display_data"
    }
   ],
   "source": [
    "sns.set(style=\"whitegrid\")\n",
    "\n",
    "fig, axes = plt.subplots(1, 2, figsize=(16, 6))\n",
    "\n",
    "sns.lineplot(x='epoch', y='train_pauc', hue='Fold', data=histories, ax=axes[0])\n",
    "axes[0].set_title('Training pAUC')\n",
    "axes[0].set_xlabel('Epoch')\n",
    "axes[0].set_ylabel('pAUC')\n",
    "axes[0].legend(loc='best')\n",
    "\n",
    "sns.lineplot(x='epoch', y='val_pauc', hue='Fold', data=histories, ax=axes[1])\n",
    "axes[1].set_title('Validation pAUC')\n",
    "axes[1].set_xlabel('Epoch')\n",
    "axes[1].set_ylabel('pAUC')\n",
    "axes[1].legend(loc='best')\n",
    "\n",
    "fig.tight_layout()\n",
    "plt.show()"
   ]
  },
  {
   "cell_type": "code",
   "execution_count": 13,
   "id": "69eea126",
   "metadata": {
    "execution": {
     "iopub.execute_input": "2024-08-30T18:19:53.950146Z",
     "iopub.status.busy": "2024-08-30T18:19:53.949217Z",
     "iopub.status.idle": "2024-08-30T18:19:55.106676Z",
     "shell.execute_reply": "2024-08-30T18:19:55.105727Z"
    },
    "id": "iCSgE4wX7NtK",
    "papermill": {
     "duration": 13.909393,
     "end_time": "2024-08-30T18:19:55.109000",
     "exception": false,
     "start_time": "2024-08-30T18:19:41.199607",
     "status": "completed"
    },
    "tags": []
   },
   "outputs": [
    {
     "data": {
      "image/png": "[encoded data removed]",
      "text/plain": [
       "<Figure size 1600x600 with 2 Axes>"
      ]
     },
     "metadata": {},
     "output_type": "display_data"
    }
   ],
   "source": [
    "fig, axes = plt.subplots(1, 2, figsize=(16, 6))\n",
    "\n",
    "sns.lineplot(x='epoch', y='train_loss', hue='Fold', data=histories, ax=axes[0])\n",
    "axes[0].set_title('Training Loss')\n",
    "axes[0].set_xlabel('Epoch')\n",
    "axes[0].set_ylabel('Loss')\n",
    "axes[0].legend(loc='best')\n",
    "\n",
    "sns.lineplot(x='epoch', y='val_loss', hue='Fold', data=histories, ax=axes[1])\n",
    "axes[1].set_title('Validation Loss')\n",
    "axes[1].set_xlabel('Epoch')\n",
    "axes[1].set_ylabel('Loss')\n",
    "axes[1].legend(loc='best')\n",
    "\n",
    "fig.tight_layout()\n",
    "plt.show()"
   ]
  }
 ],
 "metadata": {
  "accelerator": "GPU",
  "colab": {
   "gpuType": "L4",
   "provenance": []
  },
  "kaggle": {
   "accelerator": "gpu",
   "dataSources": [
    {
     "databundleVersionId": 9094797,
     "sourceId": 63056,
     "sourceType": "competition"
    }
   ],
   "dockerImageVersionId": 30747,
   "isGpuEnabled": true,
   "isInternetEnabled": true,
   "language": "python",
   "sourceType": "notebook"
  },
  "kernelspec": {
   "display_name": "Python 3",
   "language": "python",
   "name": "python3"
  },
  "language_info": {
   "codemirror_mode": {
    "name": "ipython",
    "version": 3
   },
   "file_extension": ".py",
   "mimetype": "text/x-python",
   "name": "python",
   "nbconvert_exporter": "python",
   "pygments_lexer": "ipython3",
   "version": "3.10.13"
  },
  "papermill": {
   "default_parameters": {},
   "duration": 24797.06318,
   "end_time": "2024-08-30T18:20:10.820647",
   "environment_variables": {},
   "exception": null,
   "input_path": "__notebook__.ipynb",
   "output_path": "__notebook__.ipynb",
   "parameters": {},
   "start_time": "2024-08-30T11:26:53.757467",
   "version": "2.5.0"
  },
  "widgets": {
   "application/vnd.jupyter.widget-state+json": {
    "state": {
     "15b194acd4e44659ba8077f3a69b8eef": {
      "model_module": "@jupyter-widgets/controls",
      "model_module_version": "1.5.0",
      "model_name": "HTMLModel",
      "state": {
       "_dom_classes": [],
       "_model_module": "@jupyter-widgets/controls",
       "_model_module_version": "1.5.0",
       "_model_name": "HTMLModel",
       "_view_count": null,
       "_view_module": "@jupyter-widgets/controls",
       "_view_module_version": "1.5.0",
       "_view_name": "HTMLView",
       "description": "",
       "description_tooltip": null,
       "layout": "IPY_MODEL_9405d4824c524d47808dc4eecd1a3911",
       "placeholder": "​",
       "style": "IPY_MODEL_8f3d42e7e4ca4047ad122b488d7d9dab",
       "value": " 102M/102M [00:00&lt;00:00, 193MB/s]"
      }
     },
     "35344fb82fb24d43acc83d53eb821e0c": {
      "model_module": "@jupyter-widgets/controls",
      "model_module_version": "1.5.0",
      "model_name": "HBoxModel",
      "state": {
       "_dom_classes": [],
       "_model_module": "@jupyter-widgets/controls",
       "_model_module_version": "1.5.0",
       "_model_name": "HBoxModel",
       "_view_count": null,
       "_view_module": "@jupyter-widgets/controls",
       "_view_module_version": "1.5.0",
       "_view_name": "HBoxView",
       "box_style": "",
       "children": [
        "IPY_MODEL_9e0359fb3b794eb0b3240e22af1213e9",
        "IPY_MODEL_891e2dee81ee4296a37b63d3229f802e",
        "IPY_MODEL_15b194acd4e44659ba8077f3a69b8eef"
       ],
       "layout": "IPY_MODEL_dd8d567bbb9f4f22b115ee4bd53413fb"
      }
     },
     "35b9241aff034c5ba329746fab17c7c1": {
      "model_module": "@jupyter-widgets/base",
      "model_module_version": "1.2.0",
      "model_name": "LayoutModel",
      "state": {
       "_model_module": "@jupyter-widgets/base",
       "_model_module_version": "1.2.0",
       "_model_name": "LayoutModel",
       "_view_count": null,
       "_view_module": "@jupyter-widgets/base",
       "_view_module_version": "1.2.0",
       "_view_name": "LayoutView",
       "align_content": null,
       "align_items": null,
       "align_self": null,
       "border": null,
       "bottom": null,
       "display": null,
       "flex": null,
       "flex_flow": null,
       "grid_area": null,
       "grid_auto_columns": null,
       "grid_auto_flow": null,
       "grid_auto_rows": null,
       "grid_column": null,
       "grid_gap": null,
       "grid_row": null,
       "grid_template_areas": null,
       "grid_template_columns": null,
       "grid_template_rows": null,
       "height": null,
       "justify_content": null,
       "justify_items": null,
       "left": null,
       "margin": null,
       "max_height": null,
       "max_width": null,
       "min_height": null,
       "min_width": null,
       "object_fit": null,
       "object_position": null,
       "order": null,
       "overflow": null,
       "overflow_x": null,
       "overflow_y": null,
       "padding": null,
       "right": null,
       "top": null,
       "visibility": null,
       "width": null
      }
     },
     "476ab64ca3ec452f972b59277a04b17e": {
      "model_module": "@jupyter-widgets/controls",
      "model_module_version": "1.5.0",
      "model_name": "DescriptionStyleModel",
      "state": {
       "_model_module": "@jupyter-widgets/controls",
       "_model_module_version": "1.5.0",
       "_model_name": "DescriptionStyleModel",
       "_view_count": null,
       "_view_module": "@jupyter-widgets/base",
       "_view_module_version": "1.2.0",
       "_view_name": "StyleView",
       "description_width": ""
      }
     },
     "580d50f0a5b145a1a3d3e1cd2e937966": {
      "model_module": "@jupyter-widgets/controls",
      "model_module_version": "1.5.0",
      "model_name": "ProgressStyleModel",
      "state": {
       "_model_module": "@jupyter-widgets/controls",
       "_model_module_version": "1.5.0",
       "_model_name": "ProgressStyleModel",
       "_view_count": null,
       "_view_module": "@jupyter-widgets/base",
       "_view_module_version": "1.2.0",
       "_view_name": "StyleView",
       "bar_color": null,
       "description_width": ""
      }
     },
     "891e2dee81ee4296a37b63d3229f802e": {
      "model_module": "@jupyter-widgets/controls",
      "model_module_version": "1.5.0",
      "model_name": "FloatProgressModel",
      "state": {
       "_dom_classes": [],
       "_model_module": "@jupyter-widgets/controls",
       "_model_module_version": "1.5.0",
       "_model_name": "FloatProgressModel",
       "_view_count": null,
       "_view_module": "@jupyter-widgets/controls",
       "_view_module_version": "1.5.0",
       "_view_name": "ProgressView",
       "bar_style": "success",
       "description": "",
       "description_tooltip": null,
       "layout": "IPY_MODEL_35b9241aff034c5ba329746fab17c7c1",
       "max": 102469840.0,
       "min": 0.0,
       "orientation": "horizontal",
       "style": "IPY_MODEL_580d50f0a5b145a1a3d3e1cd2e937966",
       "value": 102469840.0
      }
     },
     "8f3d42e7e4ca4047ad122b488d7d9dab": {
      "model_module": "@jupyter-widgets/controls",
      "model_module_version": "1.5.0",
      "model_name": "DescriptionStyleModel",
      "state": {
       "_model_module": "@jupyter-widgets/controls",
       "_model_module_version": "1.5.0",
       "_model_name": "DescriptionStyleModel",
       "_view_count": null,
       "_view_module": "@jupyter-widgets/base",
       "_view_module_version": "1.2.0",
       "_view_name": "StyleView",
       "description_width": ""
      }
     },
     "9405d4824c524d47808dc4eecd1a3911": {
      "model_module": "@jupyter-widgets/base",
      "model_module_version": "1.2.0",
      "model_name": "LayoutModel",
      "state": {
       "_model_module": "@jupyter-widgets/base",
       "_model_module_version": "1.2.0",
       "_model_name": "LayoutModel",
       "_view_count": null,
       "_view_module": "@jupyter-widgets/base",
       "_view_module_version": "1.2.0",
       "_view_name": "LayoutView",
       "align_content": null,
       "align_items": null,
       "align_self": null,
       "border": null,
       "bottom": null,
       "display": null,
       "flex": null,
       "flex_flow": null,
       "grid_area": null,
       "grid_auto_columns": null,
       "grid_auto_flow": null,
       "grid_auto_rows": null,
       "grid_column": null,
       "grid_gap": null,
       "grid_row": null,
       "grid_template_areas": null,
       "grid_template_columns": null,
       "grid_template_rows": null,
       "height": null,
       "justify_content": null,
       "justify_items": null,
       "left": null,
       "margin": null,
       "max_height": null,
       "max_width": null,
       "min_height": null,
       "min_width": null,
       "object_fit": null,
       "object_position": null,
       "order": null,
       "overflow": null,
       "overflow_x": null,
       "overflow_y": null,
       "padding": null,
       "right": null,
       "top": null,
       "visibility": null,
       "width": null
      }
     },
     "9e0359fb3b794eb0b3240e22af1213e9": {
      "model_module": "@jupyter-widgets/controls",
      "model_module_version": "1.5.0",
      "model_name": "HTMLModel",
      "state": {
       "_dom_classes": [],
       "_model_module": "@jupyter-widgets/controls",
       "_model_module_version": "1.5.0",
       "_model_name": "HTMLModel",
       "_view_count": null,
       "_view_module": "@jupyter-widgets/controls",
       "_view_module_version": "1.5.0",
       "_view_name": "HTMLView",
       "description": "",
       "description_tooltip": null,
       "layout": "IPY_MODEL_efa1e1ab60cf43e58e07f016622e27cb",
       "placeholder": "​",
       "style": "IPY_MODEL_476ab64ca3ec452f972b59277a04b17e",
       "value": "model.safetensors: 100%"
      }
     },
     "dd8d567bbb9f4f22b115ee4bd53413fb": {
      "model_module": "@jupyter-widgets/base",
      "model_module_version": "1.2.0",
      "model_name": "LayoutModel",
      "state": {
       "_model_module": "@jupyter-widgets/base",
       "_model_module_version": "1.2.0",
       "_model_name": "LayoutModel",
       "_view_count": null,
       "_view_module": "@jupyter-widgets/base",
       "_view_module_version": "1.2.0",
       "_view_name": "LayoutView",
       "align_content": null,
       "align_items": null,
       "align_self": null,
       "border": null,
       "bottom": null,
       "display": null,
       "flex": null,
       "flex_flow": null,
       "grid_area": null,
       "grid_auto_columns": null,
       "grid_auto_flow": null,
       "grid_auto_rows": null,
       "grid_column": null,
       "grid_gap": null,
       "grid_row": null,
       "grid_template_areas": null,
       "grid_template_columns": null,
       "grid_template_rows": null,
       "height": null,
       "justify_content": null,
       "justify_items": null,
       "left": null,
       "margin": null,
       "max_height": null,
       "max_width": null,
       "min_height": null,
       "min_width": null,
       "object_fit": null,
       "object_position": null,
       "order": null,
       "overflow": null,
       "overflow_x": null,
       "overflow_y": null,
       "padding": null,
       "right": null,
       "top": null,
       "visibility": null,
       "width": null
      }
     },
     "efa1e1ab60cf43e58e07f016622e27cb": {
      "model_module": "@jupyter-widgets/base",
      "model_module_version": "1.2.0",
      "model_name": "LayoutModel",
      "state": {
       "_model_module": "@jupyter-widgets/base",
       "_model_module_version": "1.2.0",
       "_model_name": "LayoutModel",
       "_view_count": null,
       "_view_module": "@jupyter-widgets/base",
       "_view_module_version": "1.2.0",
       "_view_name": "LayoutView",
       "align_content": null,
       "align_items": null,
       "align_self": null,
       "border": null,
       "bottom": null,
       "display": null,
       "flex": null,
       "flex_flow": null,
       "grid_area": null,
       "grid_auto_columns": null,
       "grid_auto_flow": null,
       "grid_auto_rows": null,
       "grid_column": null,
       "grid_gap": null,
       "grid_row": null,
       "grid_template_areas": null,
       "grid_template_columns": null,
       "grid_template_rows": null,
       "height": null,
       "justify_content": null,
       "justify_items": null,
       "left": null,
       "margin": null,
       "max_height": null,
       "max_width": null,
       "min_height": null,
       "min_width": null,
       "object_fit": null,
       "object_position": null,
       "order": null,
       "overflow": null,
       "overflow_x": null,
       "overflow_y": null,
       "padding": null,
       "right": null,
       "top": null,
       "visibility": null,
       "width": null
      }
     }
    },
    "version_major": 2,
    "version_minor": 0
   }
  }
 },
 "nbformat": 4,
 "nbformat_minor": 5
}
