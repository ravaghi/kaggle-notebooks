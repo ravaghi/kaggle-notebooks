{
 "cells": [
  {
   "cell_type": "markdown",
   "id": "cfc5db26",
   "metadata": {
    "papermill": {
     "duration": 0.008701,
     "end_time": "2024-08-17T12:14:43.984543",
     "exception": false,
     "start_time": "2024-08-17T12:14:43.975842",
     "status": "completed"
    },
    "tags": []
   },
   "source": [
    "# Imports and configs"
   ]
  },
  {
   "cell_type": "code",
   "execution_count": 1,
   "id": "c9deb4d1",
   "metadata": {
    "execution": {
     "iopub.execute_input": "2024-08-17T12:14:44.003988Z",
     "iopub.status.busy": "2024-08-17T12:14:44.003624Z",
     "iopub.status.idle": "2024-08-17T12:14:58.415497Z",
     "shell.execute_reply": "2024-08-17T12:14:58.414434Z"
    },
    "papermill": {
     "duration": 14.42468,
     "end_time": "2024-08-17T12:14:58.418249",
     "exception": false,
     "start_time": "2024-08-17T12:14:43.993569",
     "status": "completed"
    },
    "tags": []
   },
   "outputs": [],
   "source": [
    "from sklearn.model_selection import StratifiedGroupKFold\n",
    "from sklearn.metrics import roc_curve, auc, confusion_matrix\n",
    "from sklearn.base import BaseEstimator, ClassifierMixin\n",
    "from sklearn.preprocessing import OneHotEncoder\n",
    "from sklearn.ensemble import StackingClassifier\n",
    "from sklearn.utils import check_array\n",
    "from imblearn.under_sampling import RandomUnderSampler\n",
    "from imblearn.pipeline import Pipeline\n",
    "from sklearn.base import clone\n",
    "from lightgbm import LGBMClassifier\n",
    "from catboost import CatBoostClassifier\n",
    "from xgboost import XGBClassifier\n",
    "from torch.utils.data import DataLoader, Dataset\n",
    "from albumentations.pytorch import ToTensorV2\n",
    "import torch.nn.functional as F\n",
    "import albumentations as A\n",
    "import torch.nn as nn\n",
    "from tqdm import tqdm\n",
    "from PIL import Image\n",
    "import matplotlib.pyplot as plt\n",
    "import seaborn as sns\n",
    "import pandas as pd\n",
    "import numpy as np\n",
    "import polars as pl\n",
    "import warnings\n",
    "import h5py\n",
    "import torch\n",
    "import random\n",
    "import timm\n",
    "import io\n",
    "import os\n",
    "import shutil\n",
    "import gc\n",
    "\n",
    "warnings.filterwarnings('ignore')"
   ]
  },
  {
   "cell_type": "code",
   "execution_count": 2,
   "id": "419fc839",
   "metadata": {
    "execution": {
     "iopub.execute_input": "2024-08-17T12:14:58.436160Z",
     "iopub.status.busy": "2024-08-17T12:14:58.435772Z",
     "iopub.status.idle": "2024-08-17T12:14:58.505208Z",
     "shell.execute_reply": "2024-08-17T12:14:58.504229Z"
    },
    "papermill": {
     "duration": 0.08066,
     "end_time": "2024-08-17T12:14:58.507331",
     "exception": false,
     "start_time": "2024-08-17T12:14:58.426671",
     "status": "completed"
    },
    "tags": []
   },
   "outputs": [],
   "source": [
    "class CFG:\n",
    "    test_img_path = '/kaggle/input/isic-2024-challenge/test-image.hdf5'\n",
    "    train_path = '/kaggle/input/isic-2024-challenge/train-metadata.csv'\n",
    "    test_path = '/kaggle/input/isic-2024-challenge/test-metadata.csv'\n",
    "    sample_sub_path = '/kaggle/input/isic-2024-challenge/sample_submission.csv'\n",
    "    checkpoint_path = '/kaggle/input/skin-cancer-detection-resnet50-training/checkpoints/'\n",
    "\n",
    "    checkpoints = [\n",
    "        'fold_0_epoch_22_pauc_0.162757.pth',\n",
    "        'fold_1_epoch_11_pauc_0.12434.pth',\n",
    "        'fold_2_epoch_28_pauc_0.145016.pth',\n",
    "        'fold_3_epoch_23_pauc_0.139627.pth',\n",
    "        'fold_4_epoch_18_pauc_0.128277.pth',\n",
    "        'fold_5_epoch_48_pauc_0.140243.pth'\n",
    "    ]\n",
    "    \n",
    "    device = torch.device('cuda' if torch.cuda.is_available() else 'cpu')\n",
    "    val_batch_size = 64\n",
    "    model_name = \"resnet50\"\n",
    "    target = 'target'\n",
    "    n_folds = 6\n",
    "    seed = 3"
   ]
  },
  {
   "cell_type": "code",
   "execution_count": 3,
   "id": "1e87ad16",
   "metadata": {
    "execution": {
     "iopub.execute_input": "2024-08-17T12:14:58.526255Z",
     "iopub.status.busy": "2024-08-17T12:14:58.524985Z",
     "iopub.status.idle": "2024-08-17T12:14:58.534124Z",
     "shell.execute_reply": "2024-08-17T12:14:58.533334Z"
    },
    "papermill": {
     "duration": 0.020526,
     "end_time": "2024-08-17T12:14:58.536245",
     "exception": false,
     "start_time": "2024-08-17T12:14:58.515719",
     "status": "completed"
    },
    "tags": []
   },
   "outputs": [],
   "source": [
    "def seed_everything(seed):\n",
    "    random.seed(seed)\n",
    "    os.environ['PYTHONHASHSEED'] = str(seed)\n",
    "    np.random.seed(seed)\n",
    "    torch.manual_seed(seed)\n",
    "    torch.cuda.manual_seed(seed)\n",
    "    torch.backends.cudnn.deterministic = True\n",
    "    torch.backends.cudnn.benchmark = False\n",
    "\n",
    "\n",
    "seed_everything(CFG.seed)"
   ]
  },
  {
   "cell_type": "markdown",
   "id": "17928319",
   "metadata": {
    "papermill": {
     "duration": 0.008172,
     "end_time": "2024-08-17T12:14:58.552907",
     "exception": false,
     "start_time": "2024-08-17T12:14:58.544735",
     "status": "completed"
    },
    "tags": []
   },
   "source": [
    "# Loading and processing the datasets"
   ]
  },
  {
   "cell_type": "code",
   "execution_count": 4,
   "id": "e9bd3a49",
   "metadata": {
    "execution": {
     "iopub.execute_input": "2024-08-17T12:14:58.570990Z",
     "iopub.status.busy": "2024-08-17T12:14:58.570085Z",
     "iopub.status.idle": "2024-08-17T12:14:58.580003Z",
     "shell.execute_reply": "2024-08-17T12:14:58.579073Z"
    },
    "papermill": {
     "duration": 0.021324,
     "end_time": "2024-08-17T12:14:58.582102",
     "exception": false,
     "start_time": "2024-08-17T12:14:58.560778",
     "status": "completed"
    },
    "tags": []
   },
   "outputs": [],
   "source": [
    "# Reference: https://www.kaggle.com/code/greysky/isic-2024-only-tabular-data\n",
    "num_cols = [\n",
    "    'age_approx', 'clin_size_long_diam_mm', 'tbp_lv_A', 'tbp_lv_Aext', 'tbp_lv_B', \n",
    "    'tbp_lv_Bext', 'tbp_lv_C', 'tbp_lv_Cext', 'tbp_lv_H', 'tbp_lv_Hext', \n",
    "    'tbp_lv_L', 'tbp_lv_Lext', 'tbp_lv_areaMM2', 'tbp_lv_area_perim_ratio', \n",
    "    'tbp_lv_color_std_mean', 'tbp_lv_deltaA', 'tbp_lv_deltaB', 'tbp_lv_deltaL', \n",
    "    'tbp_lv_deltaLB', 'tbp_lv_deltaLBnorm', 'tbp_lv_eccentricity', 'tbp_lv_minorAxisMM', \n",
    "    'tbp_lv_nevi_confidence', 'tbp_lv_norm_border', 'tbp_lv_norm_color', \n",
    "    'tbp_lv_perimeterMM', 'tbp_lv_radial_color_std_max', 'tbp_lv_stdL', \n",
    "    'tbp_lv_stdLExt', 'tbp_lv_symm_2axis', 'tbp_lv_symm_2axis_angle', \n",
    "    'tbp_lv_x', 'tbp_lv_y', 'tbp_lv_z'\n",
    "]\n",
    "\n",
    "new_num_cols = [\n",
    "    'lesion_size_ratio', 'lesion_shape_index', 'hue_contrast', 'luminance_contrast', \n",
    "    'lesion_color_difference', 'border_complexity', 'color_uniformity', \n",
    "    'position_distance_3d', 'perimeter_to_area_ratio', 'area_to_perimeter_ratio', \n",
    "    'lesion_visibility_score', 'symmetry_border_consistency', 'consistency_symmetry_border', \n",
    "    'color_consistency', 'consistency_color', 'size_age_interaction', \n",
    "    'hue_color_std_interaction', 'lesion_severity_index', 'shape_complexity_index', \n",
    "    'color_contrast_index', 'log_lesion_area', 'normalized_lesion_size', \n",
    "    'mean_hue_difference', 'std_dev_contrast', 'color_shape_composite_index', \n",
    "    'lesion_orientation_3d', 'overall_color_difference', 'symmetry_perimeter_interaction', \n",
    "    'comprehensive_lesion_index', 'color_variance_ratio', 'border_color_interaction', \n",
    "    'border_color_interaction_2', 'size_color_contrast_ratio', 'age_normalized_nevi_confidence', \n",
    "    'age_normalized_nevi_confidence_2', 'color_asymmetry_index', 'volume_approximation_3d', \n",
    "    'color_range', 'shape_color_consistency', 'border_length_ratio', \n",
    "    'age_size_symmetry_index', 'index_age_size_symmetry'\n",
    "]\n",
    "\n",
    "cat_cols = [\n",
    "    'sex', 'anatom_site_general', 'tbp_tile_type', 'tbp_lv_location', \n",
    "    'tbp_lv_location_simple', 'attribution'\n",
    "]\n",
    "\n",
    "norm_cols = [f'{col}_patient_norm' for col in num_cols + new_num_cols]\n",
    "special_cols = ['count_per_patient']\n",
    "feature_cols = num_cols + new_num_cols + cat_cols + norm_cols + special_cols"
   ]
  },
  {
   "cell_type": "code",
   "execution_count": 5,
   "id": "81ddecbd",
   "metadata": {
    "execution": {
     "iopub.execute_input": "2024-08-17T12:14:58.601591Z",
     "iopub.status.busy": "2024-08-17T12:14:58.601243Z",
     "iopub.status.idle": "2024-08-17T12:14:58.630720Z",
     "shell.execute_reply": "2024-08-17T12:14:58.629805Z"
    },
    "papermill": {
     "duration": 0.04207,
     "end_time": "2024-08-17T12:14:58.632756",
     "exception": false,
     "start_time": "2024-08-17T12:14:58.590686",
     "status": "completed"
    },
    "tags": []
   },
   "outputs": [],
   "source": [
    "# Reference: https://www.kaggle.com/code/greysky/isic-2024-only-tabular-data\n",
    "def read_data(path):\n",
    "    return (\n",
    "        pl.read_csv(path)\n",
    "        .with_columns(\n",
    "            pl.col('age_approx').cast(pl.String).replace('NA', np.nan).cast(pl.Float64),\n",
    "        )\n",
    "        .with_columns(\n",
    "            pl.col(pl.Float64).fill_nan(pl.col(pl.Float64).median()),\n",
    "        )\n",
    "        .with_columns(\n",
    "            lesion_size_ratio              = pl.col('tbp_lv_minorAxisMM') / pl.col('clin_size_long_diam_mm'),\n",
    "            lesion_shape_index             = pl.col('tbp_lv_areaMM2') / (pl.col('tbp_lv_perimeterMM') ** 2),\n",
    "            hue_contrast                   = (pl.col('tbp_lv_H') - pl.col('tbp_lv_Hext')).abs(),\n",
    "            luminance_contrast             = (pl.col('tbp_lv_L') - pl.col('tbp_lv_Lext')).abs(),\n",
    "            lesion_color_difference        = (pl.col('tbp_lv_deltaA') ** 2 + pl.col('tbp_lv_deltaB') ** 2 + pl.col('tbp_lv_deltaL') ** 2).sqrt(),\n",
    "            border_complexity              = pl.col('tbp_lv_norm_border') + pl.col('tbp_lv_symm_2axis'),\n",
    "            color_uniformity               = pl.col('tbp_lv_color_std_mean') / (pl.col('tbp_lv_radial_color_std_max') + 1e-5),\n",
    "        )\n",
    "        .with_columns(\n",
    "            position_distance_3d           = (pl.col('tbp_lv_x') ** 2 + pl.col('tbp_lv_y') ** 2 + pl.col('tbp_lv_z') ** 2).sqrt(),\n",
    "            perimeter_to_area_ratio        = pl.col('tbp_lv_perimeterMM') / pl.col('tbp_lv_areaMM2'),\n",
    "            area_to_perimeter_ratio        = pl.col('tbp_lv_areaMM2') / pl.col('tbp_lv_perimeterMM'),\n",
    "            lesion_visibility_score        = pl.col('tbp_lv_deltaLBnorm') + pl.col('tbp_lv_norm_color'),\n",
    "            combined_anatomical_site       = pl.col('anatom_site_general') + '_' + pl.col('tbp_lv_location'),\n",
    "            symmetry_border_consistency    = pl.col('tbp_lv_symm_2axis') * pl.col('tbp_lv_norm_border'),\n",
    "            consistency_symmetry_border    = pl.col('tbp_lv_symm_2axis') * pl.col('tbp_lv_norm_border') / (pl.col('tbp_lv_symm_2axis') + pl.col('tbp_lv_norm_border')),\n",
    "        )\n",
    "        .with_columns(\n",
    "            color_consistency              = pl.col('tbp_lv_stdL') / pl.col('tbp_lv_Lext'),\n",
    "            consistency_color              = pl.col('tbp_lv_stdL') * pl.col('tbp_lv_Lext') / (pl.col('tbp_lv_stdL') + pl.col('tbp_lv_Lext')),\n",
    "            size_age_interaction           = pl.col('clin_size_long_diam_mm') * pl.col('age_approx'),\n",
    "            hue_color_std_interaction      = pl.col('tbp_lv_H') * pl.col('tbp_lv_color_std_mean'),\n",
    "            lesion_severity_index          = (pl.col('tbp_lv_norm_border') + pl.col('tbp_lv_norm_color') + pl.col('tbp_lv_eccentricity')) / 3,\n",
    "            shape_complexity_index         = pl.col('border_complexity') + pl.col('lesion_shape_index'),\n",
    "            color_contrast_index           = pl.col('tbp_lv_deltaA') + pl.col('tbp_lv_deltaB') + pl.col('tbp_lv_deltaL') + pl.col('tbp_lv_deltaLBnorm'),\n",
    "        )\n",
    "        .with_columns(\n",
    "            log_lesion_area                = (pl.col('tbp_lv_areaMM2') + 1).log(),\n",
    "            normalized_lesion_size         = pl.col('clin_size_long_diam_mm') / pl.col('age_approx'),\n",
    "            mean_hue_difference            = (pl.col('tbp_lv_H') + pl.col('tbp_lv_Hext')) / 2,\n",
    "            std_dev_contrast               = ((pl.col('tbp_lv_deltaA') ** 2 + pl.col('tbp_lv_deltaB') ** 2 + pl.col('tbp_lv_deltaL') ** 2) / 3).sqrt(),\n",
    "            color_shape_composite_index    = (pl.col('tbp_lv_color_std_mean') + pl.col('tbp_lv_area_perim_ratio') + pl.col('tbp_lv_symm_2axis')) / 3,\n",
    "            lesion_orientation_3d          = pl.arctan2(pl.col('tbp_lv_y'), pl.col('tbp_lv_x')),\n",
    "            overall_color_difference       = (pl.col('tbp_lv_deltaA') + pl.col('tbp_lv_deltaB') + pl.col('tbp_lv_deltaL')) / 3,\n",
    "        )\n",
    "        .with_columns(\n",
    "            symmetry_perimeter_interaction = pl.col('tbp_lv_symm_2axis') * pl.col('tbp_lv_perimeterMM'),\n",
    "            comprehensive_lesion_index     = (pl.col('tbp_lv_area_perim_ratio') + pl.col('tbp_lv_eccentricity') + pl.col('tbp_lv_norm_color') + pl.col('tbp_lv_symm_2axis')) / 4,\n",
    "            color_variance_ratio           = pl.col('tbp_lv_color_std_mean') / pl.col('tbp_lv_stdLExt'),\n",
    "            border_color_interaction       = pl.col('tbp_lv_norm_border') * pl.col('tbp_lv_norm_color'),\n",
    "            border_color_interaction_2     = pl.col('tbp_lv_norm_border') * pl.col('tbp_lv_norm_color') / (pl.col('tbp_lv_norm_border') + pl.col('tbp_lv_norm_color')),\n",
    "            size_color_contrast_ratio      = pl.col('clin_size_long_diam_mm') / pl.col('tbp_lv_deltaLBnorm'),\n",
    "            age_normalized_nevi_confidence = pl.col('tbp_lv_nevi_confidence') / pl.col('age_approx'),\n",
    "            age_normalized_nevi_confidence_2 = (pl.col('clin_size_long_diam_mm')**2 + pl.col('age_approx')**2).sqrt(),\n",
    "            color_asymmetry_index          = pl.col('tbp_lv_radial_color_std_max') * pl.col('tbp_lv_symm_2axis'),\n",
    "        )\n",
    "        .with_columns(\n",
    "            volume_approximation_3d        = pl.col('tbp_lv_areaMM2') * (pl.col('tbp_lv_x')**2 + pl.col('tbp_lv_y')**2 + pl.col('tbp_lv_z')**2).sqrt(),\n",
    "            color_range                    = (pl.col('tbp_lv_L') - pl.col('tbp_lv_Lext')).abs() + (pl.col('tbp_lv_A') - pl.col('tbp_lv_Aext')).abs() + (pl.col('tbp_lv_B') - pl.col('tbp_lv_Bext')).abs(),\n",
    "            shape_color_consistency        = pl.col('tbp_lv_eccentricity') * pl.col('tbp_lv_color_std_mean'),\n",
    "            border_length_ratio            = pl.col('tbp_lv_perimeterMM') / (2 * np.pi * (pl.col('tbp_lv_areaMM2') / np.pi).sqrt()),\n",
    "            age_size_symmetry_index        = pl.col('age_approx') * pl.col('clin_size_long_diam_mm') * pl.col('tbp_lv_symm_2axis'),\n",
    "            index_age_size_symmetry        = pl.col('age_approx') * pl.col('tbp_lv_areaMM2') * pl.col('tbp_lv_symm_2axis'),\n",
    "        )\n",
    "        .with_columns(\n",
    "            ((pl.col(col) - pl.col(col).mean().over('patient_id')) / (pl.col(col).std().over('patient_id') + 1e-5)).alias(f'{col}_patient_norm') for col in (num_cols + new_num_cols)\n",
    "        )\n",
    "        .with_columns(\n",
    "            count_per_patient = pl.col('isic_id').count().over('patient_id'),\n",
    "        )\n",
    "        .with_columns(\n",
    "            pl.col(cat_cols).cast(pl.Categorical),\n",
    "        )\n",
    "        .to_pandas()\n",
    "        .set_index('isic_id')\n",
    "    )"
   ]
  },
  {
   "cell_type": "code",
   "execution_count": 6,
   "id": "2d9261cc",
   "metadata": {
    "execution": {
     "iopub.execute_input": "2024-08-17T12:14:58.651870Z",
     "iopub.status.busy": "2024-08-17T12:14:58.651119Z",
     "iopub.status.idle": "2024-08-17T12:14:58.658835Z",
     "shell.execute_reply": "2024-08-17T12:14:58.657858Z"
    },
    "papermill": {
     "duration": 0.019696,
     "end_time": "2024-08-17T12:14:58.660944",
     "exception": false,
     "start_time": "2024-08-17T12:14:58.641248",
     "status": "completed"
    },
    "tags": []
   },
   "outputs": [],
   "source": [
    "# Reference: https://www.kaggle.com/code/greysky/isic-2024-only-tabular-data\n",
    "def preprocess(df_train, df_test):\n",
    "    global cat_cols\n",
    "    \n",
    "    encoder = OneHotEncoder(sparse_output=False, dtype=np.int32, handle_unknown='ignore')\n",
    "    encoder.fit(df_train[cat_cols])\n",
    "    \n",
    "    new_cat_cols = [f'onehot_{i}' for i in range(len(encoder.get_feature_names_out()))]\n",
    "\n",
    "    df_train[new_cat_cols] = encoder.transform(df_train[cat_cols])\n",
    "    df_train[new_cat_cols] = df_train[new_cat_cols].astype('category')\n",
    "\n",
    "    df_test[new_cat_cols] = encoder.transform(df_test[cat_cols])\n",
    "    df_test[new_cat_cols] = df_test[new_cat_cols].astype('category')\n",
    "\n",
    "    for col in cat_cols:\n",
    "        feature_cols.remove(col)\n",
    "\n",
    "    feature_cols.extend(new_cat_cols)\n",
    "    cat_cols = new_cat_cols\n",
    "    \n",
    "    return df_train, df_test"
   ]
  },
  {
   "cell_type": "code",
   "execution_count": 7,
   "id": "3962cb52",
   "metadata": {
    "execution": {
     "iopub.execute_input": "2024-08-17T12:14:58.679936Z",
     "iopub.status.busy": "2024-08-17T12:14:58.679302Z",
     "iopub.status.idle": "2024-08-17T12:15:05.856134Z",
     "shell.execute_reply": "2024-08-17T12:15:05.855247Z"
    },
    "papermill": {
     "duration": 7.189212,
     "end_time": "2024-08-17T12:15:05.858798",
     "exception": false,
     "start_time": "2024-08-17T12:14:58.669586",
     "status": "completed"
    },
    "tags": []
   },
   "outputs": [],
   "source": [
    "train = read_data(CFG.train_path)\n",
    "test = read_data(CFG.test_path)\n",
    "train, test = preprocess(train, test)"
   ]
  },
  {
   "cell_type": "markdown",
   "id": "faa67c7a",
   "metadata": {
    "papermill": {
     "duration": 0.008614,
     "end_time": "2024-08-17T12:15:05.876232",
     "exception": false,
     "start_time": "2024-08-17T12:15:05.867618",
     "status": "completed"
    },
    "tags": []
   },
   "source": [
    "# Adding OOF Predictions of ResNet"
   ]
  },
  {
   "cell_type": "code",
   "execution_count": 8,
   "id": "0c39845a",
   "metadata": {
    "execution": {
     "iopub.execute_input": "2024-08-17T12:15:05.895717Z",
     "iopub.status.busy": "2024-08-17T12:15:05.895233Z",
     "iopub.status.idle": "2024-08-17T12:15:05.903844Z",
     "shell.execute_reply": "2024-08-17T12:15:05.902847Z"
    },
    "papermill": {
     "duration": 0.020811,
     "end_time": "2024-08-17T12:15:05.905990",
     "exception": false,
     "start_time": "2024-08-17T12:15:05.885179",
     "status": "completed"
    },
    "tags": []
   },
   "outputs": [],
   "source": [
    "class ISICDataset(Dataset):\n",
    "    def __init__(self, data_path, metadata, transform=None):\n",
    "        self.data = h5py.File(data_path, 'r')\n",
    "        self.metadata = metadata\n",
    "        self.transform = transform\n",
    "\n",
    "    def __len__(self):\n",
    "        return len(self.metadata)\n",
    "\n",
    "    def __getitem__(self, idx):\n",
    "        img_name = self.metadata.iloc[idx]['isic_id']\n",
    "        image = np.array(self.data[img_name])\n",
    "        image = np.array(Image.open(io.BytesIO(image)), dtype=np.float32)\n",
    "\n",
    "        if self.transform:\n",
    "            augmented = self.transform(image=image)\n",
    "            image = augmented['image']\n",
    "\n",
    "        if 'target' in self.metadata.columns:\n",
    "            label = int(self.metadata['target'].iloc[idx])\n",
    "            return image, label\n",
    "        else:\n",
    "            return image, 0"
   ]
  },
  {
   "cell_type": "code",
   "execution_count": 9,
   "id": "b49171bf",
   "metadata": {
    "execution": {
     "iopub.execute_input": "2024-08-17T12:15:05.924692Z",
     "iopub.status.busy": "2024-08-17T12:15:05.924335Z",
     "iopub.status.idle": "2024-08-17T12:15:05.930156Z",
     "shell.execute_reply": "2024-08-17T12:15:05.929231Z"
    },
    "papermill": {
     "duration": 0.017689,
     "end_time": "2024-08-17T12:15:05.932351",
     "exception": false,
     "start_time": "2024-08-17T12:15:05.914662",
     "status": "completed"
    },
    "tags": []
   },
   "outputs": [],
   "source": [
    "transforms = A.Compose([\n",
    "    A.Resize(224, 224),\n",
    "    A.Normalize(\n",
    "        mean=[0.485, 0.456, 0.406],\n",
    "        std=[0.229, 0.224, 0.225],\n",
    "        max_pixel_value=255.0,\n",
    "        p=1.0\n",
    "    ),\n",
    "    ToTensorV2()\n",
    "], p=1.)"
   ]
  },
  {
   "cell_type": "code",
   "execution_count": 10,
   "id": "13b9a196",
   "metadata": {
    "execution": {
     "iopub.execute_input": "2024-08-17T12:15:05.951907Z",
     "iopub.status.busy": "2024-08-17T12:15:05.951222Z",
     "iopub.status.idle": "2024-08-17T12:15:05.957126Z",
     "shell.execute_reply": "2024-08-17T12:15:05.956295Z"
    },
    "papermill": {
     "duration": 0.018023,
     "end_time": "2024-08-17T12:15:05.959084",
     "exception": false,
     "start_time": "2024-08-17T12:15:05.941061",
     "status": "completed"
    },
    "tags": []
   },
   "outputs": [],
   "source": [
    "class ResNet50(nn.Module):\n",
    "    def __init__(self, model_name):\n",
    "        super(ResNet50, self).__init__()\n",
    "        self.model = timm.create_model(model_name, pretrained=False, in_chans=3)\n",
    "        self.model.reset_classifier(num_classes=2, global_pool='avg')\n",
    "\n",
    "    def forward(self, x):\n",
    "        return self.model(x)"
   ]
  },
  {
   "cell_type": "code",
   "execution_count": 11,
   "id": "81b66459",
   "metadata": {
    "execution": {
     "iopub.execute_input": "2024-08-17T12:15:05.977858Z",
     "iopub.status.busy": "2024-08-17T12:15:05.977572Z",
     "iopub.status.idle": "2024-08-17T12:15:05.986080Z",
     "shell.execute_reply": "2024-08-17T12:15:05.985162Z"
    },
    "papermill": {
     "duration": 0.020203,
     "end_time": "2024-08-17T12:15:05.988103",
     "exception": false,
     "start_time": "2024-08-17T12:15:05.967900",
     "status": "completed"
    },
    "tags": []
   },
   "outputs": [],
   "source": [
    "class Trainer:\n",
    "    def __init__(self, device, model, test_dataloader, checkpoint_path, fold_idx):\n",
    "        self.device = device\n",
    "        self.model = model\n",
    "        self.test_dataloader = test_dataloader\n",
    "        self.checkpoint_path = checkpoint_path\n",
    "        self.fold_idx = fold_idx\n",
    "\n",
    "    def predict(self):\n",
    "        model.load_state_dict(torch.load(self.checkpoint_path))\n",
    "        model.eval()\n",
    "\n",
    "        preds = []\n",
    "        with torch.no_grad():\n",
    "            loop = tqdm(self.test_dataloader, total=len(self.test_dataloader))\n",
    "            for batch in loop:\n",
    "                x, _ = batch\n",
    "                x = x.to(self.device)\n",
    "                y_hat = model(x)\n",
    "                pred_probs = F.softmax(y_hat, dim=1)\n",
    "                preds.extend(pred_probs.detach().cpu().numpy())\n",
    "                loop.set_description(f'Prediction')\n",
    "\n",
    "        return preds"
   ]
  },
  {
   "cell_type": "code",
   "execution_count": 12,
   "id": "e95ff6b0",
   "metadata": {
    "execution": {
     "iopub.execute_input": "2024-08-17T12:15:06.007630Z",
     "iopub.status.busy": "2024-08-17T12:15:06.007060Z",
     "iopub.status.idle": "2024-08-17T12:15:18.170437Z",
     "shell.execute_reply": "2024-08-17T12:15:18.169182Z"
    },
    "papermill": {
     "duration": 12.176,
     "end_time": "2024-08-17T12:15:18.172893",
     "exception": false,
     "start_time": "2024-08-17T12:15:05.996893",
     "status": "completed"
    },
    "tags": []
   },
   "outputs": [
    {
     "name": "stderr",
     "output_type": "stream",
     "text": [
      "Prediction: 100%|██████████| 1/1 [00:01<00:00,  1.01s/it]\n",
      "Prediction: 100%|██████████| 1/1 [00:00<00:00,  4.39it/s]\n",
      "Prediction: 100%|██████████| 1/1 [00:00<00:00,  4.49it/s]\n",
      "Prediction: 100%|██████████| 1/1 [00:00<00:00,  4.61it/s]\n",
      "Prediction: 100%|██████████| 1/1 [00:00<00:00,  4.54it/s]\n",
      "Prediction: 100%|██████████| 1/1 [00:00<00:00,  4.74it/s]\n"
     ]
    }
   ],
   "source": [
    "test_metadata = pd.read_csv(CFG.test_path)\n",
    "\n",
    "test_pred_probs = []\n",
    "for fold_idx in range(CFG.n_folds):\n",
    "\n",
    "    test_dataset = ISICDataset(CFG.test_img_path, test_metadata, transforms)\n",
    "    test_dataloader = DataLoader(test_dataset, batch_size=CFG.val_batch_size, shuffle=False, num_workers=4)\n",
    "\n",
    "    model = ResNet50(CFG.model_name).to(CFG.device)\n",
    "\n",
    "    trainer = Trainer(\n",
    "        device=CFG.device,\n",
    "        model=model,\n",
    "        test_dataloader=test_dataloader,\n",
    "        checkpoint_path=CFG.checkpoint_path + CFG.checkpoints[fold_idx],\n",
    "        fold_idx=fold_idx\n",
    "    )\n",
    "\n",
    "    preds = trainer.predict()\n",
    "    test_pred_probs.append(preds)\n",
    "\n",
    "    del test_dataset, test_dataloader, model, trainer\n",
    "    gc.collect()\n",
    "    torch.cuda.empty_cache()"
   ]
  },
  {
   "cell_type": "code",
   "execution_count": 13,
   "id": "ec4162c8",
   "metadata": {
    "execution": {
     "iopub.execute_input": "2024-08-17T12:15:18.200397Z",
     "iopub.status.busy": "2024-08-17T12:15:18.199453Z",
     "iopub.status.idle": "2024-08-17T12:15:20.353293Z",
     "shell.execute_reply": "2024-08-17T12:15:20.352463Z"
    },
    "papermill": {
     "duration": 2.170127,
     "end_time": "2024-08-17T12:15:20.355792",
     "exception": false,
     "start_time": "2024-08-17T12:15:18.185665",
     "status": "completed"
    },
    "tags": []
   },
   "outputs": [],
   "source": [
    "sample_sub = test_metadata.copy()\n",
    "sample_sub[['p0', 'p1']] = np.mean(test_pred_probs, axis=0)\n",
    "sample_sub = sample_sub[['isic_id', 'p0', 'p1']].set_index('isic_id')\n",
    "test = pd.merge(test, sample_sub, left_index=True, right_index=True)\n",
    "\n",
    "oof_pred_probs = pd.read_csv('/kaggle/input/skin-cancer-detection-resnet50-training/resnet50_oof_preds.csv', index_col='isic_id')[['p0', 'p1']]\n",
    "train = pd.merge(train, oof_pred_probs, left_index=True, right_index=True)"
   ]
  },
  {
   "cell_type": "code",
   "execution_count": 14,
   "id": "54e3f020",
   "metadata": {
    "execution": {
     "iopub.execute_input": "2024-08-17T12:15:20.381030Z",
     "iopub.status.busy": "2024-08-17T12:15:20.380664Z",
     "iopub.status.idle": "2024-08-17T12:15:20.385319Z",
     "shell.execute_reply": "2024-08-17T12:15:20.384278Z"
    },
    "papermill": {
     "duration": 0.019987,
     "end_time": "2024-08-17T12:15:20.387387",
     "exception": false,
     "start_time": "2024-08-17T12:15:20.367400",
     "status": "completed"
    },
    "tags": []
   },
   "outputs": [],
   "source": [
    "feature_cols = feature_cols + ['p0', 'p1']"
   ]
  },
  {
   "cell_type": "code",
   "execution_count": 15,
   "id": "d7907a88",
   "metadata": {
    "execution": {
     "iopub.execute_input": "2024-08-17T12:15:20.412983Z",
     "iopub.status.busy": "2024-08-17T12:15:20.412106Z",
     "iopub.status.idle": "2024-08-17T12:15:20.845110Z",
     "shell.execute_reply": "2024-08-17T12:15:20.843951Z"
    },
    "papermill": {
     "duration": 0.448636,
     "end_time": "2024-08-17T12:15:20.847819",
     "exception": false,
     "start_time": "2024-08-17T12:15:20.399183",
     "status": "completed"
    },
    "tags": []
   },
   "outputs": [],
   "source": [
    "X = train.drop(CFG.target, axis=1)[feature_cols]\n",
    "y = train[CFG.target]\n",
    "\n",
    "X_test = test[feature_cols]\n",
    "\n",
    "groups = train['patient_id']"
   ]
  },
  {
   "cell_type": "markdown",
   "id": "e1ea98e4",
   "metadata": {
    "papermill": {
     "duration": 0.012193,
     "end_time": "2024-08-17T12:15:20.872912",
     "exception": false,
     "start_time": "2024-08-17T12:15:20.860719",
     "status": "completed"
    },
    "tags": []
   },
   "source": [
    "# Training base models"
   ]
  },
  {
   "cell_type": "code",
   "execution_count": 16,
   "id": "b753322d",
   "metadata": {
    "execution": {
     "iopub.execute_input": "2024-08-17T12:15:20.900879Z",
     "iopub.status.busy": "2024-08-17T12:15:20.899875Z",
     "iopub.status.idle": "2024-08-17T12:15:20.912635Z",
     "shell.execute_reply": "2024-08-17T12:15:20.911496Z"
    },
    "papermill": {
     "duration": 0.029521,
     "end_time": "2024-08-17T12:15:20.914848",
     "exception": false,
     "start_time": "2024-08-17T12:15:20.885327",
     "status": "completed"
    },
    "tags": []
   },
   "outputs": [],
   "source": [
    "def p_roc_auc_score(y_true, y_pred):\n",
    "    min_tpr = 0.80\n",
    "    v_gt = abs(np.asarray(y_true) - 1)\n",
    "    v_pred = -1.0*np.asarray(y_pred)\n",
    "    max_fpr = abs(1-min_tpr)\n",
    "    fpr, tpr, _ = roc_curve(v_gt, v_pred, sample_weight=None)\n",
    "    if max_fpr is None or max_fpr == 1:\n",
    "        return auc(fpr, tpr)\n",
    "    if max_fpr <= 0 or max_fpr > 1:\n",
    "        raise ValueError('Expected min_tpr in range [0, 1), got: %r' % min_tpr)\n",
    "\n",
    "    stop = np.searchsorted(fpr, max_fpr, 'right')\n",
    "    x_interp = [fpr[stop - 1], fpr[stop]]\n",
    "    y_interp = [tpr[stop - 1], tpr[stop]]\n",
    "    tpr = np.append(tpr[:stop], np.interp(max_fpr, x_interp, y_interp))\n",
    "    fpr = np.append(fpr[:stop], max_fpr)\n",
    "    partial_auc = auc(fpr, tpr)\n",
    "\n",
    "    return partial_auc"
   ]
  },
  {
   "cell_type": "code",
   "execution_count": 17,
   "id": "1414a4df",
   "metadata": {
    "execution": {
     "iopub.execute_input": "2024-08-17T12:15:20.943296Z",
     "iopub.status.busy": "2024-08-17T12:15:20.942203Z",
     "iopub.status.idle": "2024-08-17T12:15:20.959665Z",
     "shell.execute_reply": "2024-08-17T12:15:20.958631Z"
    },
    "papermill": {
     "duration": 0.034368,
     "end_time": "2024-08-17T12:15:20.961922",
     "exception": false,
     "start_time": "2024-08-17T12:15:20.927554",
     "status": "completed"
    },
    "tags": []
   },
   "outputs": [],
   "source": [
    "class Trainer:\n",
    "    def __init__(self, model, n_folds=CFG.n_folds):\n",
    "        self.model = model\n",
    "        self.n_folds = n_folds\n",
    "\n",
    "    def fit_predict(self, X, y, X_test):\n",
    "        if isinstance(self.model, Pipeline):\n",
    "            print(f'Training {self.model.steps[1][1].__class__.__name__}\\n')\n",
    "        else:\n",
    "            print(f'Training {self.model.__class__.__name__}\\n')\n",
    "\n",
    "        scores = []\n",
    "        oof_pred_probs = np.zeros((X.shape[0], len(np.unique(y))))\n",
    "        test_pred_probs = np.zeros((X_test.shape[0], len(np.unique(y))))\n",
    "\n",
    "        split = StratifiedGroupKFold(n_splits=self.n_folds, random_state=CFG.seed, shuffle=True).split(X, y, groups=groups)            \n",
    "        for fold_idx, (train_idx, val_idx) in enumerate(split):\n",
    "            X_train, X_val = X.iloc[train_idx], X.iloc[val_idx]\n",
    "            y_train, y_val = y[train_idx], y[val_idx]\n",
    "\n",
    "            model = clone(self.model)\n",
    "            model.fit(X_train, y_train)\n",
    "\n",
    "            y_pred_probs = model.predict_proba(X_val)\n",
    "            oof_pred_probs[val_idx] = y_pred_probs\n",
    "\n",
    "            temp_test_pred_probs = model.predict_proba(X_test)\n",
    "            test_pred_probs += temp_test_pred_probs / self.n_folds\n",
    "\n",
    "            score = p_roc_auc_score(y_val, y_pred_probs[:, 1])\n",
    "            scores.append(score)\n",
    "\n",
    "            del model\n",
    "            gc.collect()\n",
    "\n",
    "            print(f'--- Fold {fold_idx + 1} - pAUC: {score:.6f}')\n",
    "\n",
    "        print(f'\\n\\n------ pAUC: {np.mean(scores):.6f} ± {np.std(scores):.6f}')\n",
    "\n",
    "        return oof_pred_probs, test_pred_probs, scores"
   ]
  },
  {
   "cell_type": "code",
   "execution_count": 18,
   "id": "905d7a06",
   "metadata": {
    "_kg_hide-input": true,
    "execution": {
     "iopub.execute_input": "2024-08-17T12:15:20.989773Z",
     "iopub.status.busy": "2024-08-17T12:15:20.989211Z",
     "iopub.status.idle": "2024-08-17T12:15:21.003920Z",
     "shell.execute_reply": "2024-08-17T12:15:21.002663Z"
    },
    "papermill": {
     "duration": 0.031615,
     "end_time": "2024-08-17T12:15:21.006323",
     "exception": false,
     "start_time": "2024-08-17T12:15:20.974708",
     "status": "completed"
    },
    "tags": []
   },
   "outputs": [],
   "source": [
    "lgbm_params = {\n",
    "    \"bagging_fraction\": 0.9007218710531112,\n",
    "    \"bagging_freq\": 4,\n",
    "    \"colsample_bynode\": 0.2381453416030141,\n",
    "    \"colsample_bytree\": 0.49418917537503504,\n",
    "    \"lambda_l1\": 0.04337990105177958,\n",
    "    \"lambda_l2\": 0.0023443880502719283,\n",
    "    \"learning_rate\": 0.005300512535534986,\n",
    "    \"max_depth\": 7,\n",
    "    \"min_data_in_leaf\": 27,\n",
    "    \"n_iter\": 1456, \n",
    "    \"n_jobs\": -1,\n",
    "    \"num_leaves\": 421,\n",
    "    \"objective\": \"binary\",\n",
    "    \"random_state\": 892,\n",
    "    \"scale_pos_weight\": 1.9231047459934425,\n",
    "    \"verbosity\": -1\n",
    "}\n",
    "\n",
    "cb_params = {\n",
    "    \"iterations\": 902,\n",
    "    \"l2_leaf_reg\": 7.0474927472942355,\n",
    "    \"learning_rate\": 0.06885521744885491,\n",
    "    \"max_depth\": 10,\n",
    "    \"min_data_in_leaf\": 13,\n",
    "    \"random_state\": 892,\n",
    "    \"random_strength\": 0.9914882706847749,\n",
    "    \"scale_pos_weight\": 2.9220937211432343,\n",
    "    \"subsample\": 0.42534120502641126,\n",
    "    \"thread_count\": -1,\n",
    "    \"verbose\": False,\n",
    "    \"cat_features\": cat_cols \n",
    "}\n",
    "\n",
    "xgb_params = {\n",
    "    \"alpha\": 1.1610992199194614,\n",
    "    \"colsample_bylevel\": 0.6278567935952657,\n",
    "    \"colsample_bynode\": 0.9735369762750642,\n",
    "    \"colsample_bytree\": 0.6434007648925373,\n",
    "    \"enable_categorical\": True,\n",
    "    \"lambda\": 0.7058926956623301,\n",
    "    \"learning_rate\": 0.0146653675305976,\n",
    "    \"max_depth\": 7,\n",
    "    \"n_estimators\": 1006,\n",
    "    \"n_jobs\": -1,\n",
    "    \"random_state\": 892,\n",
    "    \"scale_pos_weight\": 2.056292799351813,\n",
    "    \"subsample\": 0.4498333641913759,\n",
    "    \"verbosity\": 0\n",
    "}"
   ]
  },
  {
   "cell_type": "code",
   "execution_count": 19,
   "id": "91f154ba",
   "metadata": {
    "execution": {
     "iopub.execute_input": "2024-08-17T12:15:21.041499Z",
     "iopub.status.busy": "2024-08-17T12:15:21.041002Z",
     "iopub.status.idle": "2024-08-17T12:15:21.059739Z",
     "shell.execute_reply": "2024-08-17T12:15:21.058694Z"
    },
    "papermill": {
     "duration": 0.042616,
     "end_time": "2024-08-17T12:15:21.062320",
     "exception": false,
     "start_time": "2024-08-17T12:15:21.019704",
     "status": "completed"
    },
    "tags": []
   },
   "outputs": [],
   "source": [
    "paucs = {}\n",
    "\n",
    "test_pred_probs = {}\n",
    "oof_pred_probs = {}"
   ]
  },
  {
   "cell_type": "code",
   "execution_count": 20,
   "id": "5ad3762b",
   "metadata": {
    "execution": {
     "iopub.execute_input": "2024-08-17T12:15:21.090879Z",
     "iopub.status.busy": "2024-08-17T12:15:21.090193Z",
     "iopub.status.idle": "2024-08-17T12:18:49.278648Z",
     "shell.execute_reply": "2024-08-17T12:18:49.277522Z"
    },
    "papermill": {
     "duration": 208.217965,
     "end_time": "2024-08-17T12:18:49.293964",
     "exception": false,
     "start_time": "2024-08-17T12:15:21.075999",
     "status": "completed"
    },
    "tags": []
   },
   "outputs": [
    {
     "name": "stdout",
     "output_type": "stream",
     "text": [
      "Training LGBMClassifier\n",
      "\n",
      "--- Fold 1 - pAUC: 0.176499\n",
      "--- Fold 2 - pAUC: 0.179539\n",
      "--- Fold 3 - pAUC: 0.173292\n",
      "--- Fold 4 - pAUC: 0.183827\n",
      "--- Fold 5 - pAUC: 0.174156\n",
      "--- Fold 6 - pAUC: 0.175830\n",
      "\n",
      "\n",
      "------ pAUC: 0.177191 ± 0.003566\n"
     ]
    }
   ],
   "source": [
    "lgbm_model = Pipeline([\n",
    "    ('sampler', RandomUnderSampler(sampling_strategy=0.01, random_state=CFG.seed)),\n",
    "    ('classifier', LGBMClassifier(**lgbm_params)),\n",
    "])\n",
    "lgbm_trainer = Trainer(lgbm_model)\n",
    "lgbm_oof_pred_probs, lgbm_test_pred_probs, lgbm_scores = lgbm_trainer.fit_predict(X, y, X_test)\n",
    "oof_pred_probs['LightGBM'] = lgbm_oof_pred_probs\n",
    "test_pred_probs['LightGBM'] = lgbm_test_pred_probs\n",
    "paucs['LightGBM'] = lgbm_scores"
   ]
  },
  {
   "cell_type": "code",
   "execution_count": 21,
   "id": "2a6f382c",
   "metadata": {
    "execution": {
     "iopub.execute_input": "2024-08-17T12:18:49.323344Z",
     "iopub.status.busy": "2024-08-17T12:18:49.322448Z",
     "iopub.status.idle": "2024-08-17T12:40:25.164061Z",
     "shell.execute_reply": "2024-08-17T12:40:25.162929Z"
    },
    "papermill": {
     "duration": 1295.872419,
     "end_time": "2024-08-17T12:40:25.180538",
     "exception": false,
     "start_time": "2024-08-17T12:18:49.308119",
     "status": "completed"
    },
    "tags": []
   },
   "outputs": [
    {
     "name": "stdout",
     "output_type": "stream",
     "text": [
      "Training CatBoostClassifier\n",
      "\n",
      "--- Fold 1 - pAUC: 0.172110\n",
      "--- Fold 2 - pAUC: 0.176318\n",
      "--- Fold 3 - pAUC: 0.183168\n",
      "--- Fold 4 - pAUC: 0.182684\n",
      "--- Fold 5 - pAUC: 0.172684\n",
      "--- Fold 6 - pAUC: 0.175628\n",
      "\n",
      "\n",
      "------ pAUC: 0.177099 ± 0.004381\n"
     ]
    }
   ],
   "source": [
    "cb_model = Pipeline([\n",
    "    ('sampler', RandomUnderSampler(sampling_strategy=0.01, random_state=CFG.seed)),\n",
    "    ('classifier', CatBoostClassifier(**cb_params)),\n",
    "])\n",
    "cb_trainer = Trainer(cb_model)\n",
    "cb_oof_pred_probs, cb_test_pred_probs, cb_scores = cb_trainer.fit_predict(X, y, X_test)\n",
    "oof_pred_probs['CatBoost'] = cb_oof_pred_probs\n",
    "test_pred_probs['CatBoost'] = cb_test_pred_probs\n",
    "paucs['CatBoost'] = cb_scores"
   ]
  },
  {
   "cell_type": "code",
   "execution_count": 22,
   "id": "0dc193b3",
   "metadata": {
    "execution": {
     "iopub.execute_input": "2024-08-17T12:40:25.210020Z",
     "iopub.status.busy": "2024-08-17T12:40:25.209206Z",
     "iopub.status.idle": "2024-08-17T12:43:42.818900Z",
     "shell.execute_reply": "2024-08-17T12:43:42.817803Z"
    },
    "papermill": {
     "duration": 197.639944,
     "end_time": "2024-08-17T12:43:42.834401",
     "exception": false,
     "start_time": "2024-08-17T12:40:25.194457",
     "status": "completed"
    },
    "tags": []
   },
   "outputs": [
    {
     "name": "stdout",
     "output_type": "stream",
     "text": [
      "Training XGBClassifier\n",
      "\n",
      "--- Fold 1 - pAUC: 0.175711\n",
      "--- Fold 2 - pAUC: 0.181413\n",
      "--- Fold 3 - pAUC: 0.179845\n",
      "--- Fold 4 - pAUC: 0.183396\n",
      "--- Fold 5 - pAUC: 0.171871\n",
      "--- Fold 6 - pAUC: 0.174326\n",
      "\n",
      "\n",
      "------ pAUC: 0.177760 ± 0.004085\n"
     ]
    }
   ],
   "source": [
    "xgb_model = Pipeline([\n",
    "    ('sampler', RandomUnderSampler(sampling_strategy=0.01, random_state=CFG.seed)),\n",
    "    ('classifier', XGBClassifier(**xgb_params)),\n",
    "])\n",
    "xgb_trainer = Trainer(xgb_model)\n",
    "xgb_oof_pred_probs, xgb_test_pred_probs, xgb_scores = xgb_trainer.fit_predict(X, y, X_test)\n",
    "oof_pred_probs['XGBoost'] = xgb_oof_pred_probs\n",
    "test_pred_probs['XGBoost'] = xgb_test_pred_probs\n",
    "paucs['XGBoost'] = xgb_scores"
   ]
  },
  {
   "cell_type": "markdown",
   "id": "29cb1302",
   "metadata": {
    "papermill": {
     "duration": 0.013355,
     "end_time": "2024-08-17T12:43:42.861260",
     "exception": false,
     "start_time": "2024-08-17T12:43:42.847905",
     "status": "completed"
    },
    "tags": []
   },
   "source": [
    "# Training a stacking classifier using oof predictions"
   ]
  },
  {
   "cell_type": "code",
   "execution_count": 23,
   "id": "4aad0f39",
   "metadata": {
    "execution": {
     "iopub.execute_input": "2024-08-17T12:43:42.890016Z",
     "iopub.status.busy": "2024-08-17T12:43:42.889334Z",
     "iopub.status.idle": "2024-08-17T12:43:51.962196Z",
     "shell.execute_reply": "2024-08-17T12:43:51.961243Z"
    },
    "papermill": {
     "duration": 9.089834,
     "end_time": "2024-08-17T12:43:51.964602",
     "exception": false,
     "start_time": "2024-08-17T12:43:42.874768",
     "status": "completed"
    },
    "tags": []
   },
   "outputs": [
    {
     "name": "stdout",
     "output_type": "stream",
     "text": [
      "Training StackingClassifier\n",
      "\n",
      "--- Fold 1 - pAUC: 0.176926\n",
      "--- Fold 2 - pAUC: 0.179978\n",
      "--- Fold 3 - pAUC: 0.179469\n",
      "--- Fold 4 - pAUC: 0.184501\n",
      "--- Fold 5 - pAUC: 0.174778\n",
      "--- Fold 6 - pAUC: 0.177604\n",
      "\n",
      "\n",
      "------ pAUC: 0.178876 ± 0.003039\n"
     ]
    }
   ],
   "source": [
    "class PassThroughClassifier(BaseEstimator, ClassifierMixin):\n",
    "    def __init__(self, idx_cols):\n",
    "        self.idx_cols = idx_cols\n",
    "        self.is_fitted_ = True\n",
    "\n",
    "    def fit(self, X, y=None):\n",
    "        return self\n",
    "\n",
    "    def predict_proba(self, X):\n",
    "        return check_array(X)[:, self.idx_cols]\n",
    "\n",
    "\n",
    "X_oof_pred_probs = np.log(pd.DataFrame(np.hstack(list(oof_pred_probs.values()))) + 1e-7)\n",
    "X_test_pred_probs = np.log(pd.DataFrame(np.hstack(list(test_pred_probs.values()))) + 1e-7)\n",
    "\n",
    "estimators = [\n",
    "    ('LightGBM', PassThroughClassifier(list(range(0, 2)))),\n",
    "    ('CatBoost', PassThroughClassifier(list(range(2, 4)))),\n",
    "    ('XGBoost',  PassThroughClassifier(list(range(4, 6)))),\n",
    "]\n",
    "\n",
    "stacking_model = StackingClassifier(estimators, cv='prefit', n_jobs=-1)\n",
    "stacking_trainer = Trainer(stacking_model)\n",
    "stacking_oof_pred_probs, stacking_oof_preds, stacking_scores = stacking_trainer.fit_predict(X_oof_pred_probs, y, X_test_pred_probs)\n",
    "oof_pred_probs['Stacking'] = stacking_oof_pred_probs\n",
    "test_pred_probs['Stacking'] = stacking_oof_preds\n",
    "paucs['Stacking'] = stacking_scores"
   ]
  },
  {
   "cell_type": "markdown",
   "id": "84ad4927",
   "metadata": {
    "papermill": {
     "duration": 0.013884,
     "end_time": "2024-08-17T12:43:51.993198",
     "exception": false,
     "start_time": "2024-08-17T12:43:51.979314",
     "status": "completed"
    },
    "tags": []
   },
   "source": [
    "# Visualizing the results"
   ]
  },
  {
   "cell_type": "code",
   "execution_count": 24,
   "id": "907edb84",
   "metadata": {
    "execution": {
     "iopub.execute_input": "2024-08-17T12:43:52.023059Z",
     "iopub.status.busy": "2024-08-17T12:43:52.022310Z",
     "iopub.status.idle": "2024-08-17T12:43:52.840624Z",
     "shell.execute_reply": "2024-08-17T12:43:52.839620Z"
    },
    "papermill": {
     "duration": 0.835451,
     "end_time": "2024-08-17T12:43:52.842809",
     "exception": false,
     "start_time": "2024-08-17T12:43:52.007358",
     "status": "completed"
    },
    "tags": []
   },
   "outputs": [
    {
     "data": {
      "image/png": "[encoded data removed]",
      "text/plain": [
       "<Figure size 1400x700 with 2 Axes>"
      ]
     },
     "metadata": {},
     "output_type": "display_data"
    }
   ],
   "source": [
    "fig, axes = plt.subplots(nrows=1, ncols=2, figsize=(14, 7))\n",
    "\n",
    "fpr, tpr, _ = roc_curve(y, oof_pred_probs['Stacking'][:, 1])\n",
    "axes[0].plot(fpr, tpr, color='#651FFF')\n",
    "axes[0].plot([0, 1], [0, 1], color='black', linestyle='--')\n",
    "axes[0].fill_between(fpr, tpr, 0.8, where=(tpr >= 0.8), color='#651FFF', alpha=0.4, label=f'pAUC: {np.mean(stacking_scores):.6f}')\n",
    "axes[0].axhline(y=0.8, color='#651FFF', linestyle='--')\n",
    "axes[0].set_xlabel('False Positive Rate')\n",
    "axes[0].set_ylabel('True Positive Rate')\n",
    "axes[0].legend()\n",
    "axes[0].grid(True)\n",
    "axes[0].set_aspect('equal', adjustable='box')\n",
    "\n",
    "y_pred = oof_pred_probs['Stacking'].argmax(axis=1)\n",
    "cm = confusion_matrix(y, y_pred)\n",
    "sns.heatmap(\n",
    "    cm, \n",
    "    annot=True, \n",
    "    fmt=',', \n",
    "    ax=axes[1], \n",
    "    cbar=False,\n",
    "    cmap=sns.light_palette('#651FFF', reverse=False, as_cmap=True), \n",
    ")\n",
    "axes[1].set_xlabel('Predicted')\n",
    "axes[1].set_ylabel('Actual')\n",
    "axes[1].set_aspect('equal', adjustable='box')\n",
    "\n",
    "plt.tight_layout()\n",
    "plt.show()"
   ]
  },
  {
   "cell_type": "code",
   "execution_count": 25,
   "id": "82ea4644",
   "metadata": {
    "execution": {
     "iopub.execute_input": "2024-08-17T12:43:52.873276Z",
     "iopub.status.busy": "2024-08-17T12:43:52.872700Z",
     "iopub.status.idle": "2024-08-17T12:43:53.418782Z",
     "shell.execute_reply": "2024-08-17T12:43:53.417889Z"
    },
    "papermill": {
     "duration": 0.56373,
     "end_time": "2024-08-17T12:43:53.421077",
     "exception": false,
     "start_time": "2024-08-17T12:43:52.857347",
     "status": "completed"
    },
    "tags": []
   },
   "outputs": [
    {
     "data": {
      "image/png": "[encoded data removed]",
      "text/plain": [
       "<Figure size 1500x500 with 2 Axes>"
      ]
     },
     "metadata": {},
     "output_type": "display_data"
    }
   ],
   "source": [
    "paucs = pd.DataFrame(paucs)\n",
    "mean_paucs = paucs.mean().sort_values(ascending=False)\n",
    "order = paucs.mean().sort_values(ascending=False).index.tolist()\n",
    "\n",
    "min_pauc = mean_paucs.min()\n",
    "max_pauc = mean_paucs.max()\n",
    "padding = (max_pauc - min_pauc) * 0.1\n",
    "lower_limit = min_pauc - padding\n",
    "upper_limit = max_pauc + padding\n",
    "\n",
    "fig, axs = plt.subplots(1, 2, figsize=(15, 5))\n",
    "\n",
    "sns.boxplot(data=paucs, order=order, ax=axs[0], orient='h', color='#651FFF')\n",
    "axs[0].set_title('Fold pAUC')\n",
    "axs[0].set_xlabel('')\n",
    "axs[0].set_ylabel('')\n",
    "\n",
    "barplot = sns.barplot(x=mean_paucs.values, y=mean_paucs.index, ax=axs[1], color='#651FFF')\n",
    "axs[1].set_title('Average pAUC')\n",
    "axs[1].set_xlabel('')\n",
    "axs[1].set_xlim(left=lower_limit, right=upper_limit)\n",
    "axs[1].set_ylabel('')\n",
    "\n",
    "for i, score in enumerate(mean_paucs.values):\n",
    "    barplot.text(score, i, round(score, 4), va='center')\n",
    "\n",
    "plt.tight_layout()\n",
    "plt.show()"
   ]
  },
  {
   "cell_type": "markdown",
   "id": "631cdfa8",
   "metadata": {
    "papermill": {
     "duration": 0.014954,
     "end_time": "2024-08-17T12:43:53.451073",
     "exception": false,
     "start_time": "2024-08-17T12:43:53.436119",
     "status": "completed"
    },
    "tags": []
   },
   "source": [
    "# Submission"
   ]
  },
  {
   "cell_type": "code",
   "execution_count": 26,
   "id": "4dce2c27",
   "metadata": {
    "execution": {
     "iopub.execute_input": "2024-08-17T12:43:53.484626Z",
     "iopub.status.busy": "2024-08-17T12:43:53.483942Z",
     "iopub.status.idle": "2024-08-17T12:43:53.506902Z",
     "shell.execute_reply": "2024-08-17T12:43:53.505907Z"
    },
    "papermill": {
     "duration": 0.043165,
     "end_time": "2024-08-17T12:43:53.509147",
     "exception": false,
     "start_time": "2024-08-17T12:43:53.465982",
     "status": "completed"
    },
    "tags": []
   },
   "outputs": [
    {
     "data": {
      "text/html": [
       "<div>\n",
       "<style scoped>\n",
       "    .dataframe tbody tr th:only-of-type {\n",
       "        vertical-align: middle;\n",
       "    }\n",
       "\n",
       "    .dataframe tbody tr th {\n",
       "        vertical-align: top;\n",
       "    }\n",
       "\n",
       "    .dataframe thead th {\n",
       "        text-align: right;\n",
       "    }\n",
       "</style>\n",
       "<table border=\"1\" class=\"dataframe\">\n",
       "  <thead>\n",
       "    <tr style=\"text-align: right;\">\n",
       "      <th></th>\n",
       "      <th>isic_id</th>\n",
       "      <th>target</th>\n",
       "    </tr>\n",
       "  </thead>\n",
       "  <tbody>\n",
       "    <tr>\n",
       "      <th>0</th>\n",
       "      <td>ISIC_0015657</td>\n",
       "      <td>0.144363</td>\n",
       "    </tr>\n",
       "    <tr>\n",
       "      <th>1</th>\n",
       "      <td>ISIC_0015729</td>\n",
       "      <td>0.111427</td>\n",
       "    </tr>\n",
       "    <tr>\n",
       "      <th>2</th>\n",
       "      <td>ISIC_0015740</td>\n",
       "      <td>0.150806</td>\n",
       "    </tr>\n",
       "  </tbody>\n",
       "</table>\n",
       "</div>"
      ],
      "text/plain": [
       "        isic_id    target\n",
       "0  ISIC_0015657  0.144363\n",
       "1  ISIC_0015729  0.111427\n",
       "2  ISIC_0015740  0.150806"
      ]
     },
     "execution_count": 26,
     "metadata": {},
     "output_type": "execute_result"
    }
   ],
   "source": [
    "sub = pd.read_csv('/kaggle/input/isic-2024-challenge/sample_submission.csv')\n",
    "sub['isic_id'] = sub['isic_id']\n",
    "sub[CFG.target] = test_pred_probs['Stacking'][:, 1]\n",
    "sub.to_csv('submission.csv', index=False)\n",
    "sub.head()"
   ]
  },
  {
   "cell_type": "code",
   "execution_count": 27,
   "id": "f9a92efd",
   "metadata": {
    "execution": {
     "iopub.execute_input": "2024-08-17T12:43:53.541053Z",
     "iopub.status.busy": "2024-08-17T12:43:53.540742Z",
     "iopub.status.idle": "2024-08-17T12:43:53.545677Z",
     "shell.execute_reply": "2024-08-17T12:43:53.544874Z"
    },
    "papermill": {
     "duration": 0.023149,
     "end_time": "2024-08-17T12:43:53.547828",
     "exception": false,
     "start_time": "2024-08-17T12:43:53.524679",
     "status": "completed"
    },
    "tags": []
   },
   "outputs": [],
   "source": [
    "shutil.rmtree('catboost_info')"
   ]
  }
 ],
 "metadata": {
  "kaggle": {
   "accelerator": "gpu",
   "dataSources": [
    {
     "databundleVersionId": 9094797,
     "sourceId": 63056,
     "sourceType": "competition"
    },
    {
     "sourceId": 191912180,
     "sourceType": "kernelVersion"
    }
   ],
   "dockerImageVersionId": 30746,
   "isGpuEnabled": true,
   "isInternetEnabled": false,
   "language": "python",
   "sourceType": "notebook"
  },
  "kernelspec": {
   "display_name": "Python 3",
   "language": "python",
   "name": "python3"
  },
  "language_info": {
   "codemirror_mode": {
    "name": "ipython",
    "version": 3
   },
   "file_extension": ".py",
   "mimetype": "text/x-python",
   "name": "python",
   "nbconvert_exporter": "python",
   "pygments_lexer": "ipython3",
   "version": "3.10.13"
  },
  "papermill": {
   "default_parameters": {},
   "duration": 1755.230206,
   "end_time": "2024-08-17T12:43:56.148797",
   "environment_variables": {},
   "exception": null,
   "input_path": "__notebook__.ipynb",
   "output_path": "__notebook__.ipynb",
   "parameters": {},
   "start_time": "2024-08-17T12:14:40.918591",
   "version": "2.5.0"
  }
 },
 "nbformat": 4,
 "nbformat_minor": 5
}
