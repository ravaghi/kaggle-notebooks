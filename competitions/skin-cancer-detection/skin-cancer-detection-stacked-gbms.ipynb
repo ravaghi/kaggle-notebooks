{
 "cells": [
  {
   "cell_type": "code",
   "execution_count": 1,
   "id": "882a98db",
   "metadata": {
    "execution": {
     "iopub.execute_input": "2024-07-15T14:44:15.053033Z",
     "iopub.status.busy": "2024-07-15T14:44:15.052541Z",
     "iopub.status.idle": "2024-07-15T14:44:18.928836Z",
     "shell.execute_reply": "2024-07-15T14:44:18.927865Z"
    },
    "papermill": {
     "duration": 3.891036,
     "end_time": "2024-07-15T14:44:18.931395",
     "exception": false,
     "start_time": "2024-07-15T14:44:15.040359",
     "status": "completed"
    },
    "tags": []
   },
   "outputs": [],
   "source": [
    "from sklearn.model_selection import StratifiedGroupKFold, StratifiedKFold\n",
    "from sklearn.metrics import roc_curve, auc, confusion_matrix\n",
    "from sklearn.feature_selection import mutual_info_classif\n",
    "from sklearn.base import BaseEstimator, ClassifierMixin\n",
    "from sklearn.preprocessing import OrdinalEncoder\n",
    "from sklearn.ensemble import StackingClassifier\n",
    "from sklearn.utils import check_array\n",
    "from sklearn.base import clone\n",
    "from lightgbm import LGBMClassifier\n",
    "from catboost import CatBoostClassifier\n",
    "from xgboost import XGBClassifier\n",
    "import matplotlib.pyplot as plt\n",
    "import seaborn as sns\n",
    "import pandas as pd\n",
    "import numpy as np\n",
    "import warnings\n",
    "import shutil\n",
    "import gc\n",
    "\n",
    "warnings.filterwarnings('ignore')"
   ]
  },
  {
   "cell_type": "code",
   "execution_count": 2,
   "id": "9acd1bfe",
   "metadata": {
    "execution": {
     "iopub.execute_input": "2024-07-15T14:44:18.948436Z",
     "iopub.status.busy": "2024-07-15T14:44:18.947470Z",
     "iopub.status.idle": "2024-07-15T14:44:18.952538Z",
     "shell.execute_reply": "2024-07-15T14:44:18.951471Z"
    },
    "papermill": {
     "duration": 0.01579,
     "end_time": "2024-07-15T14:44:18.954759",
     "exception": false,
     "start_time": "2024-07-15T14:44:18.938969",
     "status": "completed"
    },
    "tags": []
   },
   "outputs": [],
   "source": [
    "SEED = 892\n",
    "N_FOLDS = 6\n",
    "TARGET = 'target'"
   ]
  },
  {
   "cell_type": "markdown",
   "id": "14f81241",
   "metadata": {
    "papermill": {
     "duration": 0.006891,
     "end_time": "2024-07-15T14:44:18.969059",
     "exception": false,
     "start_time": "2024-07-15T14:44:18.962168",
     "status": "completed"
    },
    "tags": []
   },
   "source": [
    "# Loading the datasets"
   ]
  },
  {
   "cell_type": "code",
   "execution_count": 3,
   "id": "80216c34",
   "metadata": {
    "execution": {
     "iopub.execute_input": "2024-07-15T14:44:18.985652Z",
     "iopub.status.busy": "2024-07-15T14:44:18.984641Z",
     "iopub.status.idle": "2024-07-15T14:44:27.265547Z",
     "shell.execute_reply": "2024-07-15T14:44:27.264474Z"
    },
    "papermill": {
     "duration": 8.29157,
     "end_time": "2024-07-15T14:44:27.267806",
     "exception": false,
     "start_time": "2024-07-15T14:44:18.976236",
     "status": "completed"
    },
    "tags": []
   },
   "outputs": [
    {
     "data": {
      "text/plain": [
       "((401059, 54), (3, 43))"
      ]
     },
     "execution_count": 3,
     "metadata": {},
     "output_type": "execute_result"
    }
   ],
   "source": [
    "train = pd.read_csv('/kaggle/input/isic-2024-challenge/train-metadata.csv', index_col='isic_id')\n",
    "test = pd.read_csv('/kaggle/input/isic-2024-challenge/test-metadata.csv', index_col='isic_id')\n",
    "\n",
    "train.shape, test.shape"
   ]
  },
  {
   "cell_type": "code",
   "execution_count": 4,
   "id": "0ad6f47e",
   "metadata": {
    "execution": {
     "iopub.execute_input": "2024-07-15T14:44:27.284799Z",
     "iopub.status.busy": "2024-07-15T14:44:27.284397Z",
     "iopub.status.idle": "2024-07-15T14:44:27.369673Z",
     "shell.execute_reply": "2024-07-15T14:44:27.368660Z"
    },
    "papermill": {
     "duration": 0.096686,
     "end_time": "2024-07-15T14:44:27.372055",
     "exception": false,
     "start_time": "2024-07-15T14:44:27.275369",
     "status": "completed"
    },
    "tags": []
   },
   "outputs": [
    {
     "data": {
      "text/plain": [
       "((401059, 41), (3, 40))"
      ]
     },
     "execution_count": 4,
     "metadata": {},
     "output_type": "execute_result"
    }
   ],
   "source": [
    "cols_to_drop = [\n",
    "    # Not in test\n",
    "    'lesion_id', 'mel_mitotic_index', 'mel_thick_mm', \n",
    "    'tbp_lv_dnn_lesion_confidence', 'iddx_full', \n",
    "    'iddx_1', 'iddx_2', 'iddx_3', 'iddx_4', 'iddx_5',\n",
    "    # Not useful\n",
    "    'image_type', 'attribution', 'copyright_license'\n",
    "]\n",
    "\n",
    "train = train.drop(cols_to_drop, axis=1, errors='ignore')\n",
    "test = test.drop(cols_to_drop, axis=1, errors='ignore')\n",
    "\n",
    "train.shape, test.shape"
   ]
  },
  {
   "cell_type": "markdown",
   "id": "6d6a797c",
   "metadata": {
    "papermill": {
     "duration": 0.007475,
     "end_time": "2024-07-15T14:44:27.387554",
     "exception": false,
     "start_time": "2024-07-15T14:44:27.380079",
     "status": "completed"
    },
    "tags": []
   },
   "source": [
    "# Imputing missing values in the original features"
   ]
  },
  {
   "cell_type": "code",
   "execution_count": 5,
   "id": "b68525cd",
   "metadata": {
    "execution": {
     "iopub.execute_input": "2024-07-15T14:44:27.405718Z",
     "iopub.status.busy": "2024-07-15T14:44:27.404777Z",
     "iopub.status.idle": "2024-07-15T14:44:27.532755Z",
     "shell.execute_reply": "2024-07-15T14:44:27.531539Z"
    },
    "papermill": {
     "duration": 0.139622,
     "end_time": "2024-07-15T14:44:27.534988",
     "exception": false,
     "start_time": "2024-07-15T14:44:27.395366",
     "status": "completed"
    },
    "tags": []
   },
   "outputs": [
    {
     "name": "stdout",
     "output_type": "stream",
     "text": [
      "Index(['age_approx', 'sex', 'anatom_site_general'], dtype='object')\n",
      "Index([], dtype='object')\n"
     ]
    }
   ],
   "source": [
    "print(train.columns[train.isnull().any()])\n",
    "print(test.columns[test.isnull().any()])"
   ]
  },
  {
   "cell_type": "code",
   "execution_count": 6,
   "id": "e83287f7",
   "metadata": {
    "execution": {
     "iopub.execute_input": "2024-07-15T14:44:27.553400Z",
     "iopub.status.busy": "2024-07-15T14:44:27.552616Z",
     "iopub.status.idle": "2024-07-15T14:44:27.654370Z",
     "shell.execute_reply": "2024-07-15T14:44:27.653229Z"
    },
    "papermill": {
     "duration": 0.113322,
     "end_time": "2024-07-15T14:44:27.656956",
     "exception": false,
     "start_time": "2024-07-15T14:44:27.543634",
     "status": "completed"
    },
    "tags": []
   },
   "outputs": [],
   "source": [
    "train['age_approx'].fillna(train['age_approx'].median(), inplace=True)\n",
    "test['age_approx'].fillna(test['age_approx'].median(), inplace=True)\n",
    "\n",
    "train['anatom_site_general'] = train['anatom_site_general'].fillna('')\n",
    "test['anatom_site_general'] = test['anatom_site_general'].fillna('')\n",
    "\n",
    "train['sex'].fillna(train['sex'].mode()[0], inplace=True)\n",
    "test['sex'].fillna(test['sex'].mode()[0], inplace=True)"
   ]
  },
  {
   "cell_type": "code",
   "execution_count": 7,
   "id": "06528d36",
   "metadata": {
    "execution": {
     "iopub.execute_input": "2024-07-15T14:44:27.674162Z",
     "iopub.status.busy": "2024-07-15T14:44:27.673764Z",
     "iopub.status.idle": "2024-07-15T14:44:27.802363Z",
     "shell.execute_reply": "2024-07-15T14:44:27.801208Z"
    },
    "papermill": {
     "duration": 0.139838,
     "end_time": "2024-07-15T14:44:27.804682",
     "exception": false,
     "start_time": "2024-07-15T14:44:27.664844",
     "status": "completed"
    },
    "tags": []
   },
   "outputs": [
    {
     "name": "stdout",
     "output_type": "stream",
     "text": [
      "Index([], dtype='object')\n",
      "Index([], dtype='object')\n"
     ]
    }
   ],
   "source": [
    "print(train.columns[train.isnull().any()])\n",
    "print(test.columns[test.isnull().any()])"
   ]
  },
  {
   "cell_type": "markdown",
   "id": "389f13a0",
   "metadata": {
    "papermill": {
     "duration": 0.007637,
     "end_time": "2024-07-15T14:44:27.820161",
     "exception": false,
     "start_time": "2024-07-15T14:44:27.812524",
     "status": "completed"
    },
    "tags": []
   },
   "source": [
    "# Adding new features"
   ]
  },
  {
   "cell_type": "code",
   "execution_count": 8,
   "id": "5cfbb35d",
   "metadata": {
    "execution": {
     "iopub.execute_input": "2024-07-15T14:44:27.837703Z",
     "iopub.status.busy": "2024-07-15T14:44:27.837301Z",
     "iopub.status.idle": "2024-07-15T14:44:27.854613Z",
     "shell.execute_reply": "2024-07-15T14:44:27.853632Z"
    },
    "papermill": {
     "duration": 0.028886,
     "end_time": "2024-07-15T14:44:27.856850",
     "exception": false,
     "start_time": "2024-07-15T14:44:27.827964",
     "status": "completed"
    },
    "tags": []
   },
   "outputs": [],
   "source": [
    "def add_features(df):\n",
    "    # Reference: https://www.kaggle.com/code/snnclsr/tabular-ensemble-lgbm-catboost\n",
    "    df['lesion_size_ratio'] = df['tbp_lv_minorAxisMM'] / df['clin_size_long_diam_mm']\n",
    "    df['lesion_shape_index'] = df['tbp_lv_areaMM2'] / (df['tbp_lv_perimeterMM'] ** 2)\n",
    "    df['hue_contrast'] = (df['tbp_lv_H'] - df['tbp_lv_Hext']).abs()\n",
    "    df['luminance_contrast'] = (df['tbp_lv_L'] - df['tbp_lv_Lext']).abs()\n",
    "    df['lesion_color_difference'] = np.sqrt(df['tbp_lv_deltaA'] ** 2 + df['tbp_lv_deltaB'] ** 2 + df['tbp_lv_deltaL'] ** 2)\n",
    "    df['border_complexity'] = df['tbp_lv_norm_border'] + df['tbp_lv_symm_2axis']\n",
    "    df['color_uniformity'] = df['tbp_lv_color_std_mean'] / df['tbp_lv_radial_color_std_max']\n",
    "    df['3d_position_distance'] = np.sqrt(df['tbp_lv_x'] ** 2 + df['tbp_lv_y'] ** 2 + df['tbp_lv_z'] ** 2)\n",
    "    df['perimeter_to_area_ratio'] = df['tbp_lv_perimeterMM'] / df['tbp_lv_areaMM2']\n",
    "    df['lesion_visibility_score'] = df['tbp_lv_deltaLBnorm'] + df['tbp_lv_norm_color']\n",
    "    df['combined_anatomical_site'] = df['anatom_site_general'] + '_' + df['tbp_lv_location']\n",
    "    df['symmetry_border_consistency'] = df['tbp_lv_symm_2axis'] * df['tbp_lv_norm_border']\n",
    "    df['color_consistency'] = df['tbp_lv_stdL'] / df['tbp_lv_Lext']\n",
    "    df['size_age_interaction'] = df['clin_size_long_diam_mm'] * df['age_approx']\n",
    "    df['hue_color_std_interaction'] = df['tbp_lv_H'] * df['tbp_lv_color_std_mean']\n",
    "    df['lesion_severity_index'] = (df['tbp_lv_norm_border'] + df['tbp_lv_norm_color'] + df['tbp_lv_eccentricity']) / 3\n",
    "    df['shape_complexity_index'] = df['border_complexity'] + df['lesion_shape_index']\n",
    "    df['color_contrast_index'] = df['tbp_lv_deltaA'] + df['tbp_lv_deltaB'] + df['tbp_lv_deltaL'] + df['tbp_lv_deltaLBnorm']\n",
    "    df['log_lesion_area'] = np.log(df['tbp_lv_areaMM2'] + 1)\n",
    "    df['normalized_lesion_size'] = df['clin_size_long_diam_mm'] / df['age_approx']\n",
    "    df['mean_hue_difference'] = (df['tbp_lv_H'] + df['tbp_lv_Hext']) / 2\n",
    "    df['std_dev_contrast'] = np.sqrt((df['tbp_lv_deltaA'] ** 2 + df['tbp_lv_deltaB'] ** 2 + df['tbp_lv_deltaL'] ** 2) / 3)\n",
    "    df['color_shape_composite_index'] = (df['tbp_lv_color_std_mean'] + df['tbp_lv_area_perim_ratio'] + df['tbp_lv_symm_2axis']) / 3\n",
    "    df['3d_lesion_orientation'] = np.arctan2(df['tbp_lv_y'], df['tbp_lv_x'])\n",
    "    df['overall_color_difference'] = (df['tbp_lv_deltaA'] + df['tbp_lv_deltaB'] + df['tbp_lv_deltaL']) / 3\n",
    "    df['symmetry_perimeter_interaction'] = df['tbp_lv_symm_2axis'] * df['tbp_lv_perimeterMM']\n",
    "    df['comprehensive_lesion_index'] = (df['tbp_lv_area_perim_ratio'] + df['tbp_lv_eccentricity'] + df['tbp_lv_norm_color'] + df['tbp_lv_symm_2axis']) / 4\n",
    "\n",
    "    # Reference: https://www.kaggle.com/code/dschettler8845/isic-detect-skin-cancer-let-s-learn-together\n",
    "    df['color_variance_ratio'] = df['tbp_lv_color_std_mean'] / df['tbp_lv_stdLExt']\n",
    "    df['border_color_interaction'] = df['tbp_lv_norm_border'] * df['tbp_lv_norm_color']\n",
    "    df['size_color_contrast_ratio'] = df['clin_size_long_diam_mm'] / df['tbp_lv_deltaLBnorm']\n",
    "    df['age_normalized_nevi_confidence'] = df['tbp_lv_nevi_confidence'] / df['age_approx']\n",
    "    df['color_asymmetry_index'] = df['tbp_lv_radial_color_std_max'] * df['tbp_lv_symm_2axis']\n",
    "    df['3d_volume_approximation'] = df['tbp_lv_areaMM2'] * np.sqrt(df['tbp_lv_x']**2 + df['tbp_lv_y']**2 + df['tbp_lv_z']**2)\n",
    "    df['color_range'] = (df['tbp_lv_L'] - df['tbp_lv_Lext']).abs() + (df['tbp_lv_A'] - df['tbp_lv_Aext']).abs() + (df['tbp_lv_B'] - df['tbp_lv_Bext']).abs()\n",
    "    df['shape_color_consistency'] = df['tbp_lv_eccentricity'] * df['tbp_lv_color_std_mean']\n",
    "    df['border_length_ratio'] = df['tbp_lv_perimeterMM'] / (2 * np.pi * np.sqrt(df['tbp_lv_areaMM2'] / np.pi))\n",
    "    df['age_size_symmetry_index'] = df['age_approx'] * df['clin_size_long_diam_mm'] * df['tbp_lv_symm_2axis']\n",
    "\n",
    "    return df"
   ]
  },
  {
   "cell_type": "code",
   "execution_count": 9,
   "id": "d1eaa3d7",
   "metadata": {
    "execution": {
     "iopub.execute_input": "2024-07-15T14:44:27.874633Z",
     "iopub.status.busy": "2024-07-15T14:44:27.874241Z",
     "iopub.status.idle": "2024-07-15T14:44:28.137303Z",
     "shell.execute_reply": "2024-07-15T14:44:28.136180Z"
    },
    "papermill": {
     "duration": 0.274582,
     "end_time": "2024-07-15T14:44:28.139596",
     "exception": false,
     "start_time": "2024-07-15T14:44:27.865014",
     "status": "completed"
    },
    "tags": []
   },
   "outputs": [
    {
     "data": {
      "text/plain": [
       "((401059, 78), (3, 77))"
      ]
     },
     "execution_count": 9,
     "metadata": {},
     "output_type": "execute_result"
    }
   ],
   "source": [
    "train = add_features(train)\n",
    "test = add_features(test)\n",
    "\n",
    "train.shape, test.shape"
   ]
  },
  {
   "cell_type": "code",
   "execution_count": 10,
   "id": "a8e19029",
   "metadata": {
    "execution": {
     "iopub.execute_input": "2024-07-15T14:44:28.158039Z",
     "iopub.status.busy": "2024-07-15T14:44:28.157605Z",
     "iopub.status.idle": "2024-07-15T14:44:28.166002Z",
     "shell.execute_reply": "2024-07-15T14:44:28.164787Z"
    },
    "papermill": {
     "duration": 0.020528,
     "end_time": "2024-07-15T14:44:28.168324",
     "exception": false,
     "start_time": "2024-07-15T14:44:28.147796",
     "status": "completed"
    },
    "tags": []
   },
   "outputs": [],
   "source": [
    "num_cols = [\n",
    "    # Original features\n",
    "    'age_approx', 'clin_size_long_diam_mm', 'tbp_lv_A', 'tbp_lv_Aext', 'tbp_lv_B', 'tbp_lv_Bext', \n",
    "    'tbp_lv_C', 'tbp_lv_Cext', 'tbp_lv_H', 'tbp_lv_Hext', 'tbp_lv_L', \n",
    "    'tbp_lv_Lext', 'tbp_lv_areaMM2', 'tbp_lv_area_perim_ratio', 'tbp_lv_color_std_mean', \n",
    "    'tbp_lv_deltaA', 'tbp_lv_deltaB', 'tbp_lv_deltaL', 'tbp_lv_deltaLB',\n",
    "    'tbp_lv_deltaLBnorm', 'tbp_lv_eccentricity', 'tbp_lv_minorAxisMM',\n",
    "    'tbp_lv_nevi_confidence', 'tbp_lv_norm_border', 'tbp_lv_norm_color',\n",
    "    'tbp_lv_perimeterMM', 'tbp_lv_radial_color_std_max', 'tbp_lv_stdL',\n",
    "    'tbp_lv_stdLExt', 'tbp_lv_symm_2axis', 'tbp_lv_symm_2axis_angle',\n",
    "    'tbp_lv_x', 'tbp_lv_y', 'tbp_lv_z',\n",
    "    # Added features\n",
    "    'lesion_size_ratio', 'lesion_shape_index', 'hue_contrast',\n",
    "    'luminance_contrast', 'lesion_color_difference', 'border_complexity',\n",
    "    'color_uniformity', '3d_position_distance', 'perimeter_to_area_ratio',\n",
    "    'lesion_visibility_score', 'symmetry_border_consistency', 'color_consistency',\n",
    "    'size_age_interaction', 'hue_color_std_interaction', 'lesion_severity_index', \n",
    "    'shape_complexity_index', 'color_contrast_index', 'log_lesion_area',\n",
    "    'normalized_lesion_size', 'mean_hue_difference', 'std_dev_contrast',\n",
    "    'color_shape_composite_index', '3d_lesion_orientation', 'overall_color_difference',\n",
    "    'symmetry_perimeter_interaction', 'comprehensive_lesion_index',\n",
    "    'color_variance_ratio', 'border_color_interaction', 'size_color_contrast_ratio',\n",
    "    'age_normalized_nevi_confidence', 'color_asymmetry_index', '3d_volume_approximation',\n",
    "    'color_range', 'shape_color_consistency', 'border_length_ratio', 'age_size_symmetry_index',\n",
    "]\n",
    "cat_cols = [\n",
    "    # Original features\n",
    "    'sex', \n",
    "    'tbp_tile_type',\n",
    "    'tbp_lv_location',\n",
    "    'tbp_lv_location_simple',\n",
    "    'anatom_site_general',\n",
    "    'patient_id',\n",
    "    # Added feature\n",
    "    'combined_anatomical_site',\n",
    "]"
   ]
  },
  {
   "cell_type": "markdown",
   "id": "4d14151a",
   "metadata": {
    "papermill": {
     "duration": 0.007933,
     "end_time": "2024-07-15T14:44:28.184534",
     "exception": false,
     "start_time": "2024-07-15T14:44:28.176601",
     "status": "completed"
    },
    "tags": []
   },
   "source": [
    "# Filling in the missing values in the new features"
   ]
  },
  {
   "cell_type": "code",
   "execution_count": 11,
   "id": "b71f0481",
   "metadata": {
    "execution": {
     "iopub.execute_input": "2024-07-15T14:44:28.203479Z",
     "iopub.status.busy": "2024-07-15T14:44:28.202255Z",
     "iopub.status.idle": "2024-07-15T14:44:28.377772Z",
     "shell.execute_reply": "2024-07-15T14:44:28.376549Z"
    },
    "papermill": {
     "duration": 0.187262,
     "end_time": "2024-07-15T14:44:28.380108",
     "exception": false,
     "start_time": "2024-07-15T14:44:28.192846",
     "status": "completed"
    },
    "tags": []
   },
   "outputs": [
    {
     "name": "stdout",
     "output_type": "stream",
     "text": [
      "Index(['color_uniformity'], dtype='object')\n",
      "Index(['color_uniformity'], dtype='object')\n"
     ]
    }
   ],
   "source": [
    "print(train.columns[train.isnull().any()])\n",
    "print(test.columns[test.isnull().any()])"
   ]
  },
  {
   "cell_type": "code",
   "execution_count": 12,
   "id": "a7957b8e",
   "metadata": {
    "execution": {
     "iopub.execute_input": "2024-07-15T14:44:28.398371Z",
     "iopub.status.busy": "2024-07-15T14:44:28.397603Z",
     "iopub.status.idle": "2024-07-15T14:44:30.502867Z",
     "shell.execute_reply": "2024-07-15T14:44:30.501956Z"
    },
    "papermill": {
     "duration": 2.117137,
     "end_time": "2024-07-15T14:44:30.505463",
     "exception": false,
     "start_time": "2024-07-15T14:44:28.388326",
     "status": "completed"
    },
    "tags": []
   },
   "outputs": [],
   "source": [
    "train[num_cols] = train[num_cols].replace([np.inf, -np.inf], np.nan)\n",
    "test[num_cols] = test[num_cols].replace([np.inf, -np.inf], np.nan)\n",
    "train[num_cols] = train[num_cols].fillna(train[num_cols].median())\n",
    "test[num_cols] = test[num_cols].fillna(test[num_cols].median())"
   ]
  },
  {
   "cell_type": "code",
   "execution_count": 13,
   "id": "07c0b5da",
   "metadata": {
    "execution": {
     "iopub.execute_input": "2024-07-15T14:44:30.524383Z",
     "iopub.status.busy": "2024-07-15T14:44:30.523699Z",
     "iopub.status.idle": "2024-07-15T14:44:30.687475Z",
     "shell.execute_reply": "2024-07-15T14:44:30.686418Z"
    },
    "papermill": {
     "duration": 0.175497,
     "end_time": "2024-07-15T14:44:30.689766",
     "exception": false,
     "start_time": "2024-07-15T14:44:30.514269",
     "status": "completed"
    },
    "tags": []
   },
   "outputs": [
    {
     "name": "stdout",
     "output_type": "stream",
     "text": [
      "Index([], dtype='object')\n",
      "Index([], dtype='object')\n"
     ]
    }
   ],
   "source": [
    "print(train.columns[train.isnull().any()])\n",
    "print(test.columns[test.isnull().any()])"
   ]
  },
  {
   "cell_type": "markdown",
   "id": "59c0982e",
   "metadata": {
    "papermill": {
     "duration": 0.008043,
     "end_time": "2024-07-15T14:44:30.706322",
     "exception": false,
     "start_time": "2024-07-15T14:44:30.698279",
     "status": "completed"
    },
    "tags": []
   },
   "source": [
    "# Encoding categorical features"
   ]
  },
  {
   "cell_type": "code",
   "execution_count": 14,
   "id": "a7345d9a",
   "metadata": {
    "execution": {
     "iopub.execute_input": "2024-07-15T14:44:30.725330Z",
     "iopub.status.busy": "2024-07-15T14:44:30.724390Z",
     "iopub.status.idle": "2024-07-15T14:44:31.595168Z",
     "shell.execute_reply": "2024-07-15T14:44:31.594099Z"
    },
    "papermill": {
     "duration": 0.88291,
     "end_time": "2024-07-15T14:44:31.597669",
     "exception": false,
     "start_time": "2024-07-15T14:44:30.714759",
     "status": "completed"
    },
    "tags": []
   },
   "outputs": [
    {
     "data": {
      "text/plain": [
       "((401059, 78), (3, 77))"
      ]
     },
     "execution_count": 14,
     "metadata": {},
     "output_type": "execute_result"
    }
   ],
   "source": [
    "category_encoder = OrdinalEncoder(\n",
    "    categories='auto',\n",
    "    dtype=int,\n",
    "    handle_unknown='use_encoded_value',\n",
    "    unknown_value=-2,\n",
    "    encoded_missing_value=-1,\n",
    ")\n",
    "\n",
    "X_train_cat = category_encoder.fit_transform(train[cat_cols])\n",
    "X_test_cat = category_encoder.transform(test[cat_cols])\n",
    "\n",
    "for c, cat_col in enumerate(cat_cols):\n",
    "    train[cat_col] = X_train_cat[:, c]\n",
    "    test[cat_col] = X_test_cat[:, c]\n",
    "    \n",
    "train.shape, test.shape"
   ]
  },
  {
   "cell_type": "markdown",
   "id": "e7721adb",
   "metadata": {
    "papermill": {
     "duration": 0.008138,
     "end_time": "2024-07-15T14:44:31.614517",
     "exception": false,
     "start_time": "2024-07-15T14:44:31.606379",
     "status": "completed"
    },
    "tags": []
   },
   "source": [
    "# Using mutual information to detect useless features"
   ]
  },
  {
   "cell_type": "code",
   "execution_count": 15,
   "id": "0b2a2823",
   "metadata": {
    "execution": {
     "iopub.execute_input": "2024-07-15T14:44:31.633599Z",
     "iopub.status.busy": "2024-07-15T14:44:31.632909Z",
     "iopub.status.idle": "2024-07-15T14:48:37.904024Z",
     "shell.execute_reply": "2024-07-15T14:48:37.902948Z"
    },
    "papermill": {
     "duration": 246.28373,
     "end_time": "2024-07-15T14:48:37.906778",
     "exception": false,
     "start_time": "2024-07-15T14:44:31.623048",
     "status": "completed"
    },
    "tags": []
   },
   "outputs": [],
   "source": [
    "mi_train = train.copy()\n",
    "X_mi = mi_train.drop(columns=[TARGET])\n",
    "X_mi = X_mi.replace([np.inf, -np.inf], np.nan)\n",
    "X_mi = X_mi.fillna(X_mi.median())\n",
    "y_mi = mi_train[TARGET]\n",
    "\n",
    "mi_scores = mutual_info_classif(X_mi, y_mi, random_state=SEED)\n",
    "mutual_info = pd.DataFrame(mi_scores, index=X_mi.columns, columns=['Mutual Information']).sort_values(by='Mutual Information', ascending=False)"
   ]
  },
  {
   "cell_type": "code",
   "execution_count": 16,
   "id": "8fe2e46a",
   "metadata": {
    "execution": {
     "iopub.execute_input": "2024-07-15T14:48:37.926718Z",
     "iopub.status.busy": "2024-07-15T14:48:37.925862Z",
     "iopub.status.idle": "2024-07-15T14:48:37.985898Z",
     "shell.execute_reply": "2024-07-15T14:48:37.984855Z"
    },
    "papermill": {
     "duration": 0.072739,
     "end_time": "2024-07-15T14:48:37.988358",
     "exception": false,
     "start_time": "2024-07-15T14:48:37.915619",
     "status": "completed"
    },
    "tags": []
   },
   "outputs": [
    {
     "data": {
      "text/html": [
       "<style type=\"text/css\">\n",
       "#T_74238_row0_col0 {\n",
       "  background-color: #006837;\n",
       "  color: #f1f1f1;\n",
       "}\n",
       "#T_74238_row1_col0 {\n",
       "  background-color: #fa9b58;\n",
       "  color: #000000;\n",
       "}\n",
       "#T_74238_row2_col0 {\n",
       "  background-color: #f88c51;\n",
       "  color: #f1f1f1;\n",
       "}\n",
       "#T_74238_row3_col0 {\n",
       "  background-color: #f67a49;\n",
       "  color: #f1f1f1;\n",
       "}\n",
       "#T_74238_row4_col0 {\n",
       "  background-color: #dc3b2c;\n",
       "  color: #f1f1f1;\n",
       "}\n",
       "#T_74238_row5_col0 {\n",
       "  background-color: #da362a;\n",
       "  color: #f1f1f1;\n",
       "}\n",
       "#T_74238_row6_col0 {\n",
       "  background-color: #d83128;\n",
       "  color: #f1f1f1;\n",
       "}\n",
       "#T_74238_row7_col0 {\n",
       "  background-color: #ab0626;\n",
       "  color: #f1f1f1;\n",
       "}\n",
       "#T_74238_row8_col0, #T_74238_row9_col0 {\n",
       "  background-color: #a50026;\n",
       "  color: #f1f1f1;\n",
       "}\n",
       "</style>\n",
       "<table id=\"T_74238\">\n",
       "  <thead>\n",
       "    <tr>\n",
       "      <th class=\"blank level0\" >&nbsp;</th>\n",
       "      <th id=\"T_74238_level0_col0\" class=\"col_heading level0 col0\" >Mutual Information</th>\n",
       "    </tr>\n",
       "  </thead>\n",
       "  <tbody>\n",
       "    <tr>\n",
       "      <th id=\"T_74238_level0_row0\" class=\"row_heading level0 row0\" >sex</th>\n",
       "      <td id=\"T_74238_row0_col0\" class=\"data row0 col0\" >0.084402</td>\n",
       "    </tr>\n",
       "    <tr>\n",
       "      <th id=\"T_74238_level0_row1\" class=\"row_heading level0 row1\" >anatom_site_general</th>\n",
       "      <td id=\"T_74238_row1_col0\" class=\"data row1 col0\" >0.023958</td>\n",
       "    </tr>\n",
       "    <tr>\n",
       "      <th id=\"T_74238_level0_row2\" class=\"row_heading level0 row2\" >tbp_tile_type</th>\n",
       "      <td id=\"T_74238_row2_col0\" class=\"data row2 col0\" >0.022019</td>\n",
       "    </tr>\n",
       "    <tr>\n",
       "      <th id=\"T_74238_level0_row3\" class=\"row_heading level0 row3\" >tbp_lv_location_simple</th>\n",
       "      <td id=\"T_74238_row3_col0\" class=\"data row3 col0\" >0.019773</td>\n",
       "    </tr>\n",
       "    <tr>\n",
       "      <th id=\"T_74238_level0_row4\" class=\"row_heading level0 row4\" >age_approx</th>\n",
       "      <td id=\"T_74238_row4_col0\" class=\"data row4 col0\" >0.011212</td>\n",
       "    </tr>\n",
       "    <tr>\n",
       "      <th id=\"T_74238_level0_row5\" class=\"row_heading level0 row5\" >tbp_lv_location</th>\n",
       "      <td id=\"T_74238_row5_col0\" class=\"data row5 col0\" >0.010741</td>\n",
       "    </tr>\n",
       "    <tr>\n",
       "      <th id=\"T_74238_level0_row6\" class=\"row_heading level0 row6\" >combined_anatomical_site</th>\n",
       "      <td id=\"T_74238_row6_col0\" class=\"data row6 col0\" >0.010050</td>\n",
       "    </tr>\n",
       "    <tr>\n",
       "      <th id=\"T_74238_level0_row7\" class=\"row_heading level0 row7\" >tbp_lv_symm_2axis_angle</th>\n",
       "      <td id=\"T_74238_row7_col0\" class=\"data row7 col0\" >0.002608</td>\n",
       "    </tr>\n",
       "    <tr>\n",
       "      <th id=\"T_74238_level0_row8\" class=\"row_heading level0 row8\" >clin_size_long_diam_mm</th>\n",
       "      <td id=\"T_74238_row8_col0\" class=\"data row8 col0\" >0.001645</td>\n",
       "    </tr>\n",
       "    <tr>\n",
       "      <th id=\"T_74238_level0_row9\" class=\"row_heading level0 row9\" >log_lesion_area</th>\n",
       "      <td id=\"T_74238_row9_col0\" class=\"data row9 col0\" >0.001344</td>\n",
       "    </tr>\n",
       "  </tbody>\n",
       "</table>\n"
      ],
      "text/plain": [
       "<pandas.io.formats.style.Styler at 0x7b15a28ad060>"
      ]
     },
     "execution_count": 16,
     "metadata": {},
     "output_type": "execute_result"
    }
   ],
   "source": [
    "mutual_info.iloc[:10].style.background_gradient('RdYlGn')"
   ]
  },
  {
   "cell_type": "code",
   "execution_count": 17,
   "id": "66bf2a8a",
   "metadata": {
    "execution": {
     "iopub.execute_input": "2024-07-15T14:48:38.008192Z",
     "iopub.status.busy": "2024-07-15T14:48:38.007781Z",
     "iopub.status.idle": "2024-07-15T14:48:38.020831Z",
     "shell.execute_reply": "2024-07-15T14:48:38.019780Z"
    },
    "papermill": {
     "duration": 0.025522,
     "end_time": "2024-07-15T14:48:38.022933",
     "exception": false,
     "start_time": "2024-07-15T14:48:37.997411",
     "status": "completed"
    },
    "tags": []
   },
   "outputs": [
    {
     "data": {
      "text/html": [
       "<style type=\"text/css\">\n",
       "#T_df5fb_row0_col0 {\n",
       "  background-color: #006837;\n",
       "  color: #f1f1f1;\n",
       "}\n",
       "#T_df5fb_row1_col0 {\n",
       "  background-color: #18954f;\n",
       "  color: #f1f1f1;\n",
       "}\n",
       "#T_df5fb_row2_col0 {\n",
       "  background-color: #fdfebc;\n",
       "  color: #000000;\n",
       "}\n",
       "#T_df5fb_row3_col0 {\n",
       "  background-color: #fba35c;\n",
       "  color: #000000;\n",
       "}\n",
       "#T_df5fb_row4_col0 {\n",
       "  background-color: #f26841;\n",
       "  color: #f1f1f1;\n",
       "}\n",
       "#T_df5fb_row5_col0 {\n",
       "  background-color: #ed5f3c;\n",
       "  color: #f1f1f1;\n",
       "}\n",
       "#T_df5fb_row6_col0, #T_df5fb_row7_col0, #T_df5fb_row8_col0, #T_df5fb_row9_col0 {\n",
       "  background-color: #a50026;\n",
       "  color: #f1f1f1;\n",
       "}\n",
       "</style>\n",
       "<table id=\"T_df5fb\">\n",
       "  <thead>\n",
       "    <tr>\n",
       "      <th class=\"blank level0\" >&nbsp;</th>\n",
       "      <th id=\"T_df5fb_level0_col0\" class=\"col_heading level0 col0\" >Mutual Information</th>\n",
       "    </tr>\n",
       "  </thead>\n",
       "  <tbody>\n",
       "    <tr>\n",
       "      <th id=\"T_df5fb_level0_row0\" class=\"row_heading level0 row0\" >tbp_lv_eccentricity</th>\n",
       "      <td id=\"T_df5fb_row0_col0\" class=\"data row0 col0\" >0.000066</td>\n",
       "    </tr>\n",
       "    <tr>\n",
       "      <th id=\"T_df5fb_level0_row1\" class=\"row_heading level0 row1\" >symmetry_border_consistency</th>\n",
       "      <td id=\"T_df5fb_row1_col0\" class=\"data row1 col0\" >0.000060</td>\n",
       "    </tr>\n",
       "    <tr>\n",
       "      <th id=\"T_df5fb_level0_row2\" class=\"row_heading level0 row2\" >tbp_lv_z</th>\n",
       "      <td id=\"T_df5fb_row2_col0\" class=\"data row2 col0\" >0.000033</td>\n",
       "    </tr>\n",
       "    <tr>\n",
       "      <th id=\"T_df5fb_level0_row3\" class=\"row_heading level0 row3\" >tbp_lv_norm_border</th>\n",
       "      <td id=\"T_df5fb_row3_col0\" class=\"data row3 col0\" >0.000019</td>\n",
       "    </tr>\n",
       "    <tr>\n",
       "      <th id=\"T_df5fb_level0_row4\" class=\"row_heading level0 row4\" >tbp_lv_L</th>\n",
       "      <td id=\"T_df5fb_row4_col0\" class=\"data row4 col0\" >0.000013</td>\n",
       "    </tr>\n",
       "    <tr>\n",
       "      <th id=\"T_df5fb_level0_row5\" class=\"row_heading level0 row5\" >tbp_lv_x</th>\n",
       "      <td id=\"T_df5fb_row5_col0\" class=\"data row5 col0\" >0.000012</td>\n",
       "    </tr>\n",
       "    <tr>\n",
       "      <th id=\"T_df5fb_level0_row6\" class=\"row_heading level0 row6\" >tbp_lv_Lext</th>\n",
       "      <td id=\"T_df5fb_row6_col0\" class=\"data row6 col0\" >0.000000</td>\n",
       "    </tr>\n",
       "    <tr>\n",
       "      <th id=\"T_df5fb_level0_row7\" class=\"row_heading level0 row7\" >tbp_lv_Cext</th>\n",
       "      <td id=\"T_df5fb_row7_col0\" class=\"data row7 col0\" >0.000000</td>\n",
       "    </tr>\n",
       "    <tr>\n",
       "      <th id=\"T_df5fb_level0_row8\" class=\"row_heading level0 row8\" >shape_complexity_index</th>\n",
       "      <td id=\"T_df5fb_row8_col0\" class=\"data row8 col0\" >0.000000</td>\n",
       "    </tr>\n",
       "    <tr>\n",
       "      <th id=\"T_df5fb_level0_row9\" class=\"row_heading level0 row9\" >border_complexity</th>\n",
       "      <td id=\"T_df5fb_row9_col0\" class=\"data row9 col0\" >0.000000</td>\n",
       "    </tr>\n",
       "  </tbody>\n",
       "</table>\n"
      ],
      "text/plain": [
       "<pandas.io.formats.style.Styler at 0x7b1578337a90>"
      ]
     },
     "execution_count": 17,
     "metadata": {},
     "output_type": "execute_result"
    }
   ],
   "source": [
    "mutual_info.iloc[-10:].style.background_gradient('RdYlGn')"
   ]
  },
  {
   "cell_type": "code",
   "execution_count": 18,
   "id": "8c0b54cd",
   "metadata": {
    "execution": {
     "iopub.execute_input": "2024-07-15T14:48:38.042811Z",
     "iopub.status.busy": "2024-07-15T14:48:38.042435Z",
     "iopub.status.idle": "2024-07-15T14:48:38.057397Z",
     "shell.execute_reply": "2024-07-15T14:48:38.055494Z"
    },
    "papermill": {
     "duration": 0.028399,
     "end_time": "2024-07-15T14:48:38.060477",
     "exception": false,
     "start_time": "2024-07-15T14:48:38.032078",
     "status": "completed"
    },
    "tags": []
   },
   "outputs": [
    {
     "data": {
      "text/html": [
       "<div>\n",
       "<style scoped>\n",
       "    .dataframe tbody tr th:only-of-type {\n",
       "        vertical-align: middle;\n",
       "    }\n",
       "\n",
       "    .dataframe tbody tr th {\n",
       "        vertical-align: top;\n",
       "    }\n",
       "\n",
       "    .dataframe thead th {\n",
       "        text-align: right;\n",
       "    }\n",
       "</style>\n",
       "<table border=\"1\" class=\"dataframe\">\n",
       "  <thead>\n",
       "    <tr style=\"text-align: right;\">\n",
       "      <th></th>\n",
       "      <th>Mutual Information</th>\n",
       "    </tr>\n",
       "  </thead>\n",
       "  <tbody>\n",
       "    <tr>\n",
       "      <th>tbp_lv_Lext</th>\n",
       "      <td>0.0</td>\n",
       "    </tr>\n",
       "    <tr>\n",
       "      <th>tbp_lv_Cext</th>\n",
       "      <td>0.0</td>\n",
       "    </tr>\n",
       "    <tr>\n",
       "      <th>shape_complexity_index</th>\n",
       "      <td>0.0</td>\n",
       "    </tr>\n",
       "    <tr>\n",
       "      <th>border_complexity</th>\n",
       "      <td>0.0</td>\n",
       "    </tr>\n",
       "  </tbody>\n",
       "</table>\n",
       "</div>"
      ],
      "text/plain": [
       "                        Mutual Information\n",
       "tbp_lv_Lext                            0.0\n",
       "tbp_lv_Cext                            0.0\n",
       "shape_complexity_index                 0.0\n",
       "border_complexity                      0.0"
      ]
     },
     "execution_count": 18,
     "metadata": {},
     "output_type": "execute_result"
    }
   ],
   "source": [
    "mutual_info[mutual_info['Mutual Information'] <= 0]"
   ]
  },
  {
   "cell_type": "code",
   "execution_count": 19,
   "id": "fa4a44d4",
   "metadata": {
    "execution": {
     "iopub.execute_input": "2024-07-15T14:48:38.081521Z",
     "iopub.status.busy": "2024-07-15T14:48:38.080630Z",
     "iopub.status.idle": "2024-07-15T14:48:38.273697Z",
     "shell.execute_reply": "2024-07-15T14:48:38.272701Z"
    },
    "papermill": {
     "duration": 0.205946,
     "end_time": "2024-07-15T14:48:38.275996",
     "exception": false,
     "start_time": "2024-07-15T14:48:38.070050",
     "status": "completed"
    },
    "tags": []
   },
   "outputs": [
    {
     "data": {
      "text/plain": [
       "((401059, 74), (3, 73))"
      ]
     },
     "execution_count": 19,
     "metadata": {},
     "output_type": "execute_result"
    }
   ],
   "source": [
    "# cols_to_drop = mutual_info[mutual_info['Mutual Information'] <= 0].index\n",
    "cols_to_drop = ['tbp_lv_Lext', 'tbp_lv_Cext', 'shape_complexity_index', 'border_complexity']\n",
    "train = train.drop(cols_to_drop, axis=1)\n",
    "test = test.drop(cols_to_drop, axis=1)\n",
    "\n",
    "train.shape, test.shape"
   ]
  },
  {
   "cell_type": "markdown",
   "id": "4895bc12",
   "metadata": {
    "papermill": {
     "duration": 0.00951,
     "end_time": "2024-07-15T14:48:38.295480",
     "exception": false,
     "start_time": "2024-07-15T14:48:38.285970",
     "status": "completed"
    },
    "tags": []
   },
   "source": [
    "# Training base models"
   ]
  },
  {
   "cell_type": "code",
   "execution_count": 20,
   "id": "ba6340e9",
   "metadata": {
    "execution": {
     "iopub.execute_input": "2024-07-15T14:48:38.316755Z",
     "iopub.status.busy": "2024-07-15T14:48:38.316374Z",
     "iopub.status.idle": "2024-07-15T14:48:38.406715Z",
     "shell.execute_reply": "2024-07-15T14:48:38.405755Z"
    },
    "papermill": {
     "duration": 0.104061,
     "end_time": "2024-07-15T14:48:38.409278",
     "exception": false,
     "start_time": "2024-07-15T14:48:38.305217",
     "status": "completed"
    },
    "tags": []
   },
   "outputs": [],
   "source": [
    "X = train.drop(TARGET, axis=1)\n",
    "y = train[TARGET]"
   ]
  },
  {
   "cell_type": "code",
   "execution_count": 21,
   "id": "6e54fd45",
   "metadata": {
    "execution": {
     "iopub.execute_input": "2024-07-15T14:48:38.430693Z",
     "iopub.status.busy": "2024-07-15T14:48:38.429824Z",
     "iopub.status.idle": "2024-07-15T14:48:38.438374Z",
     "shell.execute_reply": "2024-07-15T14:48:38.437273Z"
    },
    "papermill": {
     "duration": 0.021698,
     "end_time": "2024-07-15T14:48:38.440684",
     "exception": false,
     "start_time": "2024-07-15T14:48:38.418986",
     "status": "completed"
    },
    "tags": []
   },
   "outputs": [],
   "source": [
    "def p_roc_auc_score(y_true, y_pred):\n",
    "    min_tpr = 0.80\n",
    "    v_gt = abs(np.asarray(y_true) - 1)\n",
    "    v_pred = -1.0*np.asarray(y_pred)\n",
    "    max_fpr = abs(1-min_tpr)\n",
    "    fpr, tpr, _ = roc_curve(v_gt, v_pred, sample_weight=None)\n",
    "    if max_fpr is None or max_fpr == 1:\n",
    "        return auc(fpr, tpr)\n",
    "    if max_fpr <= 0 or max_fpr > 1:\n",
    "        raise ValueError('Expected min_tpr in range [0, 1), got: %r' % min_tpr)\n",
    "\n",
    "    stop = np.searchsorted(fpr, max_fpr, 'right')\n",
    "    x_interp = [fpr[stop - 1], fpr[stop]]\n",
    "    y_interp = [tpr[stop - 1], tpr[stop]]\n",
    "    tpr = np.append(tpr[:stop], np.interp(max_fpr, x_interp, y_interp))\n",
    "    fpr = np.append(fpr[:stop], max_fpr)\n",
    "    partial_auc = auc(fpr, tpr)\n",
    "\n",
    "    return partial_auc"
   ]
  },
  {
   "cell_type": "code",
   "execution_count": 22,
   "id": "8b30f5f1",
   "metadata": {
    "execution": {
     "iopub.execute_input": "2024-07-15T14:48:38.462616Z",
     "iopub.status.busy": "2024-07-15T14:48:38.461783Z",
     "iopub.status.idle": "2024-07-15T14:48:38.473053Z",
     "shell.execute_reply": "2024-07-15T14:48:38.471660Z"
    },
    "papermill": {
     "duration": 0.024985,
     "end_time": "2024-07-15T14:48:38.475552",
     "exception": false,
     "start_time": "2024-07-15T14:48:38.450567",
     "status": "completed"
    },
    "tags": []
   },
   "outputs": [],
   "source": [
    "class Trainer:\n",
    "    def __init__(self, model, n_folds=N_FOLDS):\n",
    "        self.model = model\n",
    "        self.n_folds = n_folds\n",
    "\n",
    "    def fit_predict(self, X, y, X_test):\n",
    "        print(f'Training {self.model.__class__.__name__}\\n')\n",
    "\n",
    "        scores = []\n",
    "        oof_pred_probs = np.zeros((X.shape[0], len(np.unique(y))))\n",
    "        test_pred_probs = np.zeros((X_test.shape[0], len(np.unique(y))))\n",
    "\n",
    "        if isinstance(self.model, StackingClassifier):\n",
    "            split = StratifiedKFold(n_splits=self.n_folds, random_state=SEED, shuffle=True).split(X, y)\n",
    "        else:\n",
    "            split = StratifiedGroupKFold(n_splits=self.n_folds, random_state=SEED, shuffle=True).split(X, y, groups=X['patient_id'])\n",
    "            \n",
    "        for fold_idx, (train_idx, val_idx) in enumerate(split):\n",
    "            X_train, X_val = X.iloc[train_idx], X.iloc[val_idx]\n",
    "            y_train, y_val = y[train_idx], y[val_idx]\n",
    "\n",
    "            model = clone(self.model)\n",
    "            model.fit(X_train, y_train)\n",
    "\n",
    "            y_pred_probs = model.predict_proba(X_val)\n",
    "            oof_pred_probs[val_idx] = y_pred_probs\n",
    "\n",
    "            temp_test_pred_probs = model.predict_proba(X_test)\n",
    "            test_pred_probs += temp_test_pred_probs / self.n_folds\n",
    "\n",
    "            score = p_roc_auc_score(y_val, y_pred_probs[:, 1])\n",
    "            scores.append(score)\n",
    "\n",
    "            del model\n",
    "            gc.collect()\n",
    "\n",
    "            print(f'--- Fold {fold_idx + 1} - pAUC: {score:.6f}')\n",
    "\n",
    "        print(f'\\n\\n------ pAUC: {np.mean(scores):.6f} ± {np.std(scores):.6f}')\n",
    "\n",
    "        return oof_pred_probs, test_pred_probs, scores"
   ]
  },
  {
   "cell_type": "code",
   "execution_count": 23,
   "id": "34dda76c",
   "metadata": {
    "_kg_hide-input": true,
    "execution": {
     "iopub.execute_input": "2024-07-15T14:48:38.497129Z",
     "iopub.status.busy": "2024-07-15T14:48:38.496326Z",
     "iopub.status.idle": "2024-07-15T14:48:38.505134Z",
     "shell.execute_reply": "2024-07-15T14:48:38.503950Z"
    },
    "papermill": {
     "duration": 0.02195,
     "end_time": "2024-07-15T14:48:38.507299",
     "exception": false,
     "start_time": "2024-07-15T14:48:38.485349",
     "status": "completed"
    },
    "tags": []
   },
   "outputs": [],
   "source": [
    "lgbm_params = {\n",
    "    'bagging_freq': 24,\n",
    "    'colsample_bytree': 0.7541525353471568,\n",
    "    'feature_fraction': 0.7688021725290676,\n",
    "    'learning_rate': 0.005997256896212735,\n",
    "    'min_child_samples': 496,\n",
    "    'min_child_weight': 0.647104423492814,\n",
    "    'min_data_in_leaf': 258,\n",
    "    'n_estimators': 887,\n",
    "    'n_jobs': -1,\n",
    "    'neg_bagging_fraction': 0.8005023678328916,\n",
    "    'num_leaves': 86,\n",
    "    'pos_bagging_fraction': 0.6192773269592262,\n",
    "    'random_state': SEED,\n",
    "    'reg_alpha': 1.0185910556158455,\n",
    "    'reg_lambda': 1.3095105210312386,\n",
    "    'subsample': 0.9862959438134352,\n",
    "    'verbose': -1\n",
    "}\n",
    "\n",
    "cb_params = {\n",
    "    'border_count': 227,\n",
    "    'colsample_bylevel': 0.12178980071308863,\n",
    "    'depth': 6,\n",
    "    'iterations': 1376, \n",
    "    'l2_leaf_reg': 4.471534829351237,\n",
    "    'min_child_samples': 6,\n",
    "    'random_state': SEED,\n",
    "    'random_strength': 0.8050235453536225,\n",
    "    'thread_count': -1,\n",
    "    'verbose': False \n",
    "}\n",
    "\n",
    "xgb_params = {\n",
    "    'colsample_bylevel': 0.962986503689716,\n",
    "    'colsample_bynode': 0.6576399423866222,\n",
    "    'colsample_bytree': 0.7984758994982696,\n",
    "    'gamma': 0.9922687709778374,\n",
    "    'max_delta_step': 18.162821129177154,\n",
    "    'max_depth': 360,\n",
    "    'min_child_weight': 0.1438779386014249,\n",
    "    'n_estimators': 1389, \n",
    "    'n_jobs': -1,\n",
    "    'random_state': SEED,\n",
    "    'reg_alpha': 4.9517201818734815,\n",
    "    'reg_lambda': 3.255381390484911,\n",
    "    'subsample': 0.8828484803696559,\n",
    "    'verbosity': 0\n",
    "}"
   ]
  },
  {
   "cell_type": "code",
   "execution_count": 24,
   "id": "9a7b7d54",
   "metadata": {
    "execution": {
     "iopub.execute_input": "2024-07-15T14:48:38.528434Z",
     "iopub.status.busy": "2024-07-15T14:48:38.528023Z",
     "iopub.status.idle": "2024-07-15T14:48:38.533068Z",
     "shell.execute_reply": "2024-07-15T14:48:38.531975Z"
    },
    "papermill": {
     "duration": 0.018237,
     "end_time": "2024-07-15T14:48:38.535375",
     "exception": false,
     "start_time": "2024-07-15T14:48:38.517138",
     "status": "completed"
    },
    "tags": []
   },
   "outputs": [],
   "source": [
    "paucs = {}\n",
    "\n",
    "test_pred_probs = {}\n",
    "oof_pred_probs = {}"
   ]
  },
  {
   "cell_type": "code",
   "execution_count": 25,
   "id": "2bd9cb29",
   "metadata": {
    "execution": {
     "iopub.execute_input": "2024-07-15T14:48:38.558037Z",
     "iopub.status.busy": "2024-07-15T14:48:38.556673Z",
     "iopub.status.idle": "2024-07-15T15:08:10.878517Z",
     "shell.execute_reply": "2024-07-15T15:08:10.877314Z"
    },
    "papermill": {
     "duration": 1172.345711,
     "end_time": "2024-07-15T15:08:10.891254",
     "exception": false,
     "start_time": "2024-07-15T14:48:38.545543",
     "status": "completed"
    },
    "tags": []
   },
   "outputs": [
    {
     "name": "stdout",
     "output_type": "stream",
     "text": [
      "Training LGBMClassifier\n",
      "\n",
      "--- Fold 1 - pAUC: 0.177499\n",
      "--- Fold 2 - pAUC: 0.169872\n",
      "--- Fold 3 - pAUC: 0.149318\n",
      "--- Fold 4 - pAUC: 0.150246\n",
      "--- Fold 5 - pAUC: 0.161557\n",
      "--- Fold 6 - pAUC: 0.170050\n",
      "\n",
      "\n",
      "------ pAUC: 0.163090 ± 0.010481\n"
     ]
    }
   ],
   "source": [
    "lgbm_model = LGBMClassifier(**lgbm_params)\n",
    "lgbm_trainer = Trainer(lgbm_model)\n",
    "lgbm_oof_pred_probs, lgbm_test_pred_probs, lgbm_scores = lgbm_trainer.fit_predict(X, y, test)\n",
    "oof_pred_probs['LightGBM'] = lgbm_oof_pred_probs\n",
    "test_pred_probs['LightGBM'] = lgbm_test_pred_probs\n",
    "paucs['LightGBM'] = lgbm_scores"
   ]
  },
  {
   "cell_type": "code",
   "execution_count": 26,
   "id": "76be58d5",
   "metadata": {
    "execution": {
     "iopub.execute_input": "2024-07-15T15:08:10.977306Z",
     "iopub.status.busy": "2024-07-15T15:08:10.976879Z",
     "iopub.status.idle": "2024-07-15T15:16:43.755361Z",
     "shell.execute_reply": "2024-07-15T15:16:43.753982Z"
    },
    "papermill": {
     "duration": 512.803739,
     "end_time": "2024-07-15T15:16:43.768612",
     "exception": false,
     "start_time": "2024-07-15T15:08:10.964873",
     "status": "completed"
    },
    "tags": []
   },
   "outputs": [
    {
     "name": "stdout",
     "output_type": "stream",
     "text": [
      "Training CatBoostClassifier\n",
      "\n",
      "--- Fold 1 - pAUC: 0.177501\n",
      "--- Fold 2 - pAUC: 0.164272\n",
      "--- Fold 3 - pAUC: 0.153970\n",
      "--- Fold 4 - pAUC: 0.146620\n",
      "--- Fold 5 - pAUC: 0.168160\n",
      "--- Fold 6 - pAUC: 0.167190\n",
      "\n",
      "\n",
      "------ pAUC: 0.162952 ± 0.010049\n"
     ]
    }
   ],
   "source": [
    "cb_model = CatBoostClassifier(**cb_params)\n",
    "cb_trainer = Trainer(cb_model)\n",
    "cb_oof_pred_probs, cb_test_pred_probs, cb_scores = cb_trainer.fit_predict(X, y, test)\n",
    "oof_pred_probs['CatBoost'] = cb_oof_pred_probs\n",
    "test_pred_probs['CatBoost'] = cb_test_pred_probs\n",
    "paucs['CatBoost'] = cb_scores"
   ]
  },
  {
   "cell_type": "code",
   "execution_count": 27,
   "id": "f7748a7b",
   "metadata": {
    "execution": {
     "iopub.execute_input": "2024-07-15T15:16:43.792739Z",
     "iopub.status.busy": "2024-07-15T15:16:43.791817Z",
     "iopub.status.idle": "2024-07-15T15:33:14.954047Z",
     "shell.execute_reply": "2024-07-15T15:33:14.952870Z"
    },
    "papermill": {
     "duration": 991.187468,
     "end_time": "2024-07-15T15:33:14.966967",
     "exception": false,
     "start_time": "2024-07-15T15:16:43.779499",
     "status": "completed"
    },
    "tags": []
   },
   "outputs": [
    {
     "name": "stdout",
     "output_type": "stream",
     "text": [
      "Training XGBClassifier\n",
      "\n",
      "--- Fold 1 - pAUC: 0.166526\n",
      "--- Fold 2 - pAUC: 0.160811\n",
      "--- Fold 3 - pAUC: 0.151106\n",
      "--- Fold 4 - pAUC: 0.137483\n",
      "--- Fold 5 - pAUC: 0.162081\n",
      "--- Fold 6 - pAUC: 0.164615\n",
      "\n",
      "\n",
      "------ pAUC: 0.157104 ± 0.010039\n"
     ]
    }
   ],
   "source": [
    "xgb_model = XGBClassifier(**xgb_params)\n",
    "xgb_trainer = Trainer(xgb_model)\n",
    "xgb_oof_pred_probs, xgb_test_pred_probs, xgb_scores = xgb_trainer.fit_predict(X, y, test)\n",
    "oof_pred_probs['XGBoost'] = xgb_oof_pred_probs\n",
    "test_pred_probs['XGBoost'] = xgb_test_pred_probs\n",
    "paucs['XGBoost'] = xgb_scores"
   ]
  },
  {
   "cell_type": "markdown",
   "id": "a31c5aeb",
   "metadata": {
    "papermill": {
     "duration": 0.011764,
     "end_time": "2024-07-15T15:33:14.990089",
     "exception": false,
     "start_time": "2024-07-15T15:33:14.978325",
     "status": "completed"
    },
    "tags": []
   },
   "source": [
    "# Training a stacking classifier using oof predictions"
   ]
  },
  {
   "cell_type": "code",
   "execution_count": 28,
   "id": "885c31f1",
   "metadata": {
    "execution": {
     "iopub.execute_input": "2024-07-15T15:33:15.016047Z",
     "iopub.status.busy": "2024-07-15T15:33:15.015636Z",
     "iopub.status.idle": "2024-07-15T15:33:21.562997Z",
     "shell.execute_reply": "2024-07-15T15:33:21.561785Z"
    },
    "papermill": {
     "duration": 6.563047,
     "end_time": "2024-07-15T15:33:21.565499",
     "exception": false,
     "start_time": "2024-07-15T15:33:15.002452",
     "status": "completed"
    },
    "tags": []
   },
   "outputs": [
    {
     "name": "stdout",
     "output_type": "stream",
     "text": [
      "Training StackingClassifier\n",
      "\n",
      "--- Fold 1 - pAUC: 0.163680\n",
      "--- Fold 2 - pAUC: 0.165265\n",
      "--- Fold 3 - pAUC: 0.159261\n",
      "--- Fold 4 - pAUC: 0.170503\n",
      "--- Fold 5 - pAUC: 0.159600\n",
      "--- Fold 6 - pAUC: 0.166542\n",
      "\n",
      "\n",
      "------ pAUC: 0.164142 ± 0.003919\n"
     ]
    }
   ],
   "source": [
    "class PassThroughClassifier(BaseEstimator, ClassifierMixin):\n",
    "    def __init__(self, idx_cols):\n",
    "        self.idx_cols = idx_cols\n",
    "        self.is_fitted_ = True\n",
    "\n",
    "    def fit(self, X, y=None):\n",
    "        return self\n",
    "\n",
    "    def predict_proba(self, X):\n",
    "        return check_array(X)[:, self.idx_cols]\n",
    "\n",
    "\n",
    "X_oof_pred_probs = np.log(pd.DataFrame(np.hstack(list(oof_pred_probs.values()))) + 1e-7)\n",
    "X_test_pred_probs = np.log(pd.DataFrame(np.hstack(list(test_pred_probs.values()))) + 1e-7)\n",
    "\n",
    "estimators = [\n",
    "    ('LightGBM', PassThroughClassifier(list(range(2)))),\n",
    "    ('CatBoost', PassThroughClassifier(list(range(2, 4)))),\n",
    "    ('XGBoost', PassThroughClassifier(list(range(4, 6)))),\n",
    "]\n",
    "\n",
    "stacking_model = StackingClassifier(estimators, cv='prefit', n_jobs=-1)\n",
    "stacking_trainer = Trainer(stacking_model)\n",
    "stacking_oof_pred_probs, stacking_oof_preds, stacking_scores = stacking_trainer.fit_predict(X_oof_pred_probs, y, X_test_pred_probs)\n",
    "oof_pred_probs['Stacking'] = stacking_oof_pred_probs\n",
    "test_pred_probs['Stacking'] = stacking_oof_preds\n",
    "paucs['Stacking'] = stacking_scores"
   ]
  },
  {
   "cell_type": "code",
   "execution_count": 29,
   "id": "f577c8e8",
   "metadata": {
    "execution": {
     "iopub.execute_input": "2024-07-15T15:33:21.591707Z",
     "iopub.status.busy": "2024-07-15T15:33:21.590741Z",
     "iopub.status.idle": "2024-07-15T15:33:22.347747Z",
     "shell.execute_reply": "2024-07-15T15:33:22.346693Z"
    },
    "papermill": {
     "duration": 0.772487,
     "end_time": "2024-07-15T15:33:22.350021",
     "exception": false,
     "start_time": "2024-07-15T15:33:21.577534",
     "status": "completed"
    },
    "tags": []
   },
   "outputs": [
    {
     "data": {
      "image/png": "[encoded data removed]",
      "text/plain": [
       "<Figure size 1400x700 with 2 Axes>"
      ]
     },
     "metadata": {},
     "output_type": "display_data"
    }
   ],
   "source": [
    "fig, axes = plt.subplots(nrows=1, ncols=2, figsize=(14, 7))\n",
    "\n",
    "fpr, tpr, _ = roc_curve(y, oof_pred_probs['Stacking'][:, 1])\n",
    "axes[0].plot(fpr, tpr, color='#651FFF')\n",
    "axes[0].plot([0, 1], [0, 1], color='black', linestyle='--')\n",
    "axes[0].fill_between(fpr, tpr, 0.8, where=(tpr >= 0.8), color='#651FFF', alpha=0.4, label=f'pAUC: {np.mean(stacking_scores):.6f}')\n",
    "axes[0].axhline(y=0.8, color='#651FFF', linestyle='--')\n",
    "axes[0].set_xlabel('False Positive Rate')\n",
    "axes[0].set_ylabel('True Positive Rate')\n",
    "axes[0].legend()\n",
    "axes[0].grid(True)\n",
    "axes[0].set_aspect('equal', adjustable='box')\n",
    "\n",
    "y_pred = oof_pred_probs['Stacking'].argmax(axis=1)\n",
    "cm = confusion_matrix(y, y_pred)\n",
    "sns.heatmap(\n",
    "    cm, \n",
    "    annot=True, \n",
    "    fmt=',', \n",
    "    ax=axes[1], \n",
    "    cbar=False,\n",
    "    cmap=sns.light_palette('#651FFF', reverse=False, as_cmap=True), \n",
    ")\n",
    "axes[1].set_xlabel('Predicted')\n",
    "axes[1].set_ylabel('Actual')\n",
    "axes[1].set_aspect('equal', adjustable='box')\n",
    "\n",
    "plt.tight_layout()\n",
    "plt.show()"
   ]
  },
  {
   "cell_type": "code",
   "execution_count": 30,
   "id": "8abd9b20",
   "metadata": {
    "execution": {
     "iopub.execute_input": "2024-07-15T15:33:22.377323Z",
     "iopub.status.busy": "2024-07-15T15:33:22.376561Z",
     "iopub.status.idle": "2024-07-15T15:33:22.868324Z",
     "shell.execute_reply": "2024-07-15T15:33:22.867154Z"
    },
    "papermill": {
     "duration": 0.508443,
     "end_time": "2024-07-15T15:33:22.871085",
     "exception": false,
     "start_time": "2024-07-15T15:33:22.362642",
     "status": "completed"
    },
    "tags": []
   },
   "outputs": [
    {
     "data": {
      "image/png": "[encoded data removed]",
      "text/plain": [
       "<Figure size 1500x500 with 2 Axes>"
      ]
     },
     "metadata": {},
     "output_type": "display_data"
    }
   ],
   "source": [
    "paucs = pd.DataFrame(paucs)\n",
    "mean_paucs = paucs.mean().sort_values(ascending=False)\n",
    "order = paucs.mean().sort_values(ascending=False).index.tolist()\n",
    "\n",
    "min_pauc = mean_paucs.min()\n",
    "max_pauc = mean_paucs.max()\n",
    "padding = (max_pauc - min_pauc) * 0.1\n",
    "lower_limit = min_pauc - padding\n",
    "upper_limit = max_pauc + padding\n",
    "\n",
    "fig, axs = plt.subplots(1, 2, figsize=(15, 5))\n",
    "\n",
    "sns.boxplot(data=paucs, order=order, ax=axs[0], orient='h', color='#651FFF')\n",
    "axs[0].set_title('Fold pAUC')\n",
    "axs[0].set_xlabel('')\n",
    "axs[0].set_ylabel('')\n",
    "\n",
    "barplot = sns.barplot(x=mean_paucs.values, y=mean_paucs.index, ax=axs[1], color='#651FFF')\n",
    "axs[1].set_title('Average pAUC')\n",
    "axs[1].set_xlabel('')\n",
    "axs[1].set_xlim(left=lower_limit, right=upper_limit)\n",
    "axs[1].set_ylabel('')\n",
    "\n",
    "for i, score in enumerate(mean_paucs.values):\n",
    "    barplot.text(score, i, round(score, 4), va='center')\n",
    "\n",
    "plt.tight_layout()\n",
    "plt.show()"
   ]
  },
  {
   "cell_type": "code",
   "execution_count": 31,
   "id": "f7f98abd",
   "metadata": {
    "execution": {
     "iopub.execute_input": "2024-07-15T15:33:22.899986Z",
     "iopub.status.busy": "2024-07-15T15:33:22.899567Z",
     "iopub.status.idle": "2024-07-15T15:33:22.934161Z",
     "shell.execute_reply": "2024-07-15T15:33:22.933113Z"
    },
    "papermill": {
     "duration": 0.051893,
     "end_time": "2024-07-15T15:33:22.936672",
     "exception": false,
     "start_time": "2024-07-15T15:33:22.884779",
     "status": "completed"
    },
    "tags": []
   },
   "outputs": [
    {
     "data": {
      "text/html": [
       "<div>\n",
       "<style scoped>\n",
       "    .dataframe tbody tr th:only-of-type {\n",
       "        vertical-align: middle;\n",
       "    }\n",
       "\n",
       "    .dataframe tbody tr th {\n",
       "        vertical-align: top;\n",
       "    }\n",
       "\n",
       "    .dataframe thead th {\n",
       "        text-align: right;\n",
       "    }\n",
       "</style>\n",
       "<table border=\"1\" class=\"dataframe\">\n",
       "  <thead>\n",
       "    <tr style=\"text-align: right;\">\n",
       "      <th></th>\n",
       "      <th>isic_id</th>\n",
       "      <th>target</th>\n",
       "    </tr>\n",
       "  </thead>\n",
       "  <tbody>\n",
       "    <tr>\n",
       "      <th>0</th>\n",
       "      <td>ISIC_0015657</td>\n",
       "      <td>0.000150</td>\n",
       "    </tr>\n",
       "    <tr>\n",
       "      <th>1</th>\n",
       "      <td>ISIC_0015729</td>\n",
       "      <td>0.000025</td>\n",
       "    </tr>\n",
       "    <tr>\n",
       "      <th>2</th>\n",
       "      <td>ISIC_0015740</td>\n",
       "      <td>0.000285</td>\n",
       "    </tr>\n",
       "  </tbody>\n",
       "</table>\n",
       "</div>"
      ],
      "text/plain": [
       "        isic_id    target\n",
       "0  ISIC_0015657  0.000150\n",
       "1  ISIC_0015729  0.000025\n",
       "2  ISIC_0015740  0.000285"
      ]
     },
     "execution_count": 31,
     "metadata": {},
     "output_type": "execute_result"
    }
   ],
   "source": [
    "sub = pd.read_csv('/kaggle/input/isic-2024-challenge/sample_submission.csv')\n",
    "sub['isic_id'] = sub['isic_id']\n",
    "sub[TARGET] = test_pred_probs['Stacking'][:, 1]\n",
    "sub.to_csv('submission.csv', index=False)\n",
    "sub.head()"
   ]
  },
  {
   "cell_type": "code",
   "execution_count": 32,
   "id": "9260748e",
   "metadata": {
    "execution": {
     "iopub.execute_input": "2024-07-15T15:33:22.965479Z",
     "iopub.status.busy": "2024-07-15T15:33:22.965068Z",
     "iopub.status.idle": "2024-07-15T15:33:22.972837Z",
     "shell.execute_reply": "2024-07-15T15:33:22.971591Z"
    },
    "papermill": {
     "duration": 0.02477,
     "end_time": "2024-07-15T15:33:22.975187",
     "exception": false,
     "start_time": "2024-07-15T15:33:22.950417",
     "status": "completed"
    },
    "tags": []
   },
   "outputs": [],
   "source": [
    "shutil.rmtree('catboost_info')"
   ]
  }
 ],
 "metadata": {
  "kaggle": {
   "accelerator": "none",
   "dataSources": [
    {
     "databundleVersionId": 9094797,
     "sourceId": 63056,
     "sourceType": "competition"
    }
   ],
   "dockerImageVersionId": 30746,
   "isGpuEnabled": false,
   "isInternetEnabled": false,
   "language": "python",
   "sourceType": "notebook"
  },
  "kernelspec": {
   "display_name": "Python 3",
   "language": "python",
   "name": "python3"
  },
  "language_info": {
   "codemirror_mode": {
    "name": "ipython",
    "version": 3
   },
   "file_extension": ".py",
   "mimetype": "text/x-python",
   "name": "python",
   "nbconvert_exporter": "python",
   "pygments_lexer": "ipython3",
   "version": "3.10.13"
  },
  "papermill": {
   "default_parameters": {},
   "duration": 2951.416999,
   "end_time": "2024-07-15T15:33:23.816353",
   "environment_variables": {},
   "exception": null,
   "input_path": "__notebook__.ipynb",
   "output_path": "__notebook__.ipynb",
   "parameters": {},
   "start_time": "2024-07-15T14:44:12.399354",
   "version": "2.5.0"
  }
 },
 "nbformat": 4,
 "nbformat_minor": 5
}
