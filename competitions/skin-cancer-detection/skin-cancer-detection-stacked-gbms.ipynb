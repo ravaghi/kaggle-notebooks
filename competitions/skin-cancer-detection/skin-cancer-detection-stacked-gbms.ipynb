{
 "cells": [
  {
   "cell_type": "markdown",
   "id": "6b8cd72d",
   "metadata": {
    "papermill": {
     "duration": 0.005737,
     "end_time": "2024-08-14T06:27:00.150543",
     "exception": false,
     "start_time": "2024-08-14T06:27:00.144806",
     "status": "completed"
    },
    "tags": []
   },
   "source": [
    "# Imports and configs"
   ]
  },
  {
   "cell_type": "code",
   "execution_count": 1,
   "id": "3546de13",
   "metadata": {
    "execution": {
     "iopub.execute_input": "2024-08-14T06:27:00.163110Z",
     "iopub.status.busy": "2024-08-14T06:27:00.162684Z",
     "iopub.status.idle": "2024-08-14T06:27:05.067383Z",
     "shell.execute_reply": "2024-08-14T06:27:05.065999Z"
    },
    "papermill": {
     "duration": 4.913893,
     "end_time": "2024-08-14T06:27:05.069903",
     "exception": false,
     "start_time": "2024-08-14T06:27:00.156010",
     "status": "completed"
    },
    "tags": []
   },
   "outputs": [],
   "source": [
    "from sklearn.model_selection import StratifiedGroupKFold\n",
    "from sklearn.metrics import roc_curve, auc, confusion_matrix\n",
    "from sklearn.base import BaseEstimator, ClassifierMixin\n",
    "from sklearn.preprocessing import OneHotEncoder\n",
    "from sklearn.ensemble import StackingClassifier\n",
    "from sklearn.utils import check_array\n",
    "from imblearn.under_sampling import RandomUnderSampler\n",
    "from imblearn.pipeline import Pipeline\n",
    "from sklearn.base import clone\n",
    "from lightgbm import LGBMClassifier\n",
    "from catboost import CatBoostClassifier\n",
    "from xgboost import XGBClassifier\n",
    "import matplotlib.pyplot as plt\n",
    "import seaborn as sns\n",
    "import pandas as pd\n",
    "import numpy as np\n",
    "import polars as pl\n",
    "import warnings\n",
    "import shutil\n",
    "import gc\n",
    "\n",
    "warnings.filterwarnings('ignore')"
   ]
  },
  {
   "cell_type": "code",
   "execution_count": 2,
   "id": "91c9e8f7",
   "metadata": {
    "execution": {
     "iopub.execute_input": "2024-08-14T06:27:05.082987Z",
     "iopub.status.busy": "2024-08-14T06:27:05.082090Z",
     "iopub.status.idle": "2024-08-14T06:27:05.088039Z",
     "shell.execute_reply": "2024-08-14T06:27:05.086924Z"
    },
    "papermill": {
     "duration": 0.014813,
     "end_time": "2024-08-14T06:27:05.090310",
     "exception": false,
     "start_time": "2024-08-14T06:27:05.075497",
     "status": "completed"
    },
    "tags": []
   },
   "outputs": [],
   "source": [
    "class CFG:\n",
    "    train_path = '/kaggle/input/isic-2024-challenge/train-metadata.csv'\n",
    "    test_path = '/kaggle/input/isic-2024-challenge/test-metadata.csv'\n",
    "    \n",
    "    target = 'target'\n",
    "    n_folds = 6\n",
    "    seed = 892"
   ]
  },
  {
   "cell_type": "markdown",
   "id": "f221fdf8",
   "metadata": {
    "papermill": {
     "duration": 0.005526,
     "end_time": "2024-08-14T06:27:05.101283",
     "exception": false,
     "start_time": "2024-08-14T06:27:05.095757",
     "status": "completed"
    },
    "tags": []
   },
   "source": [
    "# Loading and processing the datasets"
   ]
  },
  {
   "cell_type": "code",
   "execution_count": 3,
   "id": "b07c8bbf",
   "metadata": {
    "execution": {
     "iopub.execute_input": "2024-08-14T06:27:05.114772Z",
     "iopub.status.busy": "2024-08-14T06:27:05.113835Z",
     "iopub.status.idle": "2024-08-14T06:27:05.123611Z",
     "shell.execute_reply": "2024-08-14T06:27:05.122341Z"
    },
    "papermill": {
     "duration": 0.018904,
     "end_time": "2024-08-14T06:27:05.125916",
     "exception": false,
     "start_time": "2024-08-14T06:27:05.107012",
     "status": "completed"
    },
    "tags": []
   },
   "outputs": [],
   "source": [
    "# Reference: https://www.kaggle.com/code/greysky/isic-2024-only-tabular-data\n",
    "num_cols = [\n",
    "    'age_approx', 'clin_size_long_diam_mm', 'tbp_lv_A', 'tbp_lv_Aext', 'tbp_lv_B', \n",
    "    'tbp_lv_Bext', 'tbp_lv_C', 'tbp_lv_Cext', 'tbp_lv_H', 'tbp_lv_Hext', \n",
    "    'tbp_lv_L', 'tbp_lv_Lext', 'tbp_lv_areaMM2', 'tbp_lv_area_perim_ratio', \n",
    "    'tbp_lv_color_std_mean', 'tbp_lv_deltaA', 'tbp_lv_deltaB', 'tbp_lv_deltaL', \n",
    "    'tbp_lv_deltaLB', 'tbp_lv_deltaLBnorm', 'tbp_lv_eccentricity', 'tbp_lv_minorAxisMM', \n",
    "    'tbp_lv_nevi_confidence', 'tbp_lv_norm_border', 'tbp_lv_norm_color', \n",
    "    'tbp_lv_perimeterMM', 'tbp_lv_radial_color_std_max', 'tbp_lv_stdL', \n",
    "    'tbp_lv_stdLExt', 'tbp_lv_symm_2axis', 'tbp_lv_symm_2axis_angle', \n",
    "    'tbp_lv_x', 'tbp_lv_y', 'tbp_lv_z'\n",
    "]\n",
    "\n",
    "new_num_cols = [\n",
    "    'lesion_size_ratio', 'lesion_shape_index', 'hue_contrast', 'luminance_contrast', \n",
    "    'lesion_color_difference', 'border_complexity', 'color_uniformity', \n",
    "    'position_distance_3d', 'perimeter_to_area_ratio', 'area_to_perimeter_ratio', \n",
    "    'lesion_visibility_score', 'symmetry_border_consistency', 'consistency_symmetry_border', \n",
    "    'color_consistency', 'consistency_color', 'size_age_interaction', \n",
    "    'hue_color_std_interaction', 'lesion_severity_index', 'shape_complexity_index', \n",
    "    'color_contrast_index', 'log_lesion_area', 'normalized_lesion_size', \n",
    "    'mean_hue_difference', 'std_dev_contrast', 'color_shape_composite_index', \n",
    "    'lesion_orientation_3d', 'overall_color_difference', 'symmetry_perimeter_interaction', \n",
    "    'comprehensive_lesion_index', 'color_variance_ratio', 'border_color_interaction', \n",
    "    'border_color_interaction_2', 'size_color_contrast_ratio', 'age_normalized_nevi_confidence', \n",
    "    'age_normalized_nevi_confidence_2', 'color_asymmetry_index', 'volume_approximation_3d', \n",
    "    'color_range', 'shape_color_consistency', 'border_length_ratio', \n",
    "    'age_size_symmetry_index', 'index_age_size_symmetry'\n",
    "]\n",
    "\n",
    "cat_cols = [\n",
    "    'sex', 'anatom_site_general', 'tbp_tile_type', 'tbp_lv_location', \n",
    "    'tbp_lv_location_simple', 'attribution'\n",
    "]\n",
    "\n",
    "norm_cols = [f'{col}_patient_norm' for col in num_cols + new_num_cols]\n",
    "special_cols = ['count_per_patient']\n",
    "feature_cols = num_cols + new_num_cols + cat_cols + norm_cols + special_cols"
   ]
  },
  {
   "cell_type": "code",
   "execution_count": 4,
   "id": "64190e3c",
   "metadata": {
    "execution": {
     "iopub.execute_input": "2024-08-14T06:27:05.139719Z",
     "iopub.status.busy": "2024-08-14T06:27:05.139049Z",
     "iopub.status.idle": "2024-08-14T06:27:05.164288Z",
     "shell.execute_reply": "2024-08-14T06:27:05.163155Z"
    },
    "papermill": {
     "duration": 0.035248,
     "end_time": "2024-08-14T06:27:05.166682",
     "exception": false,
     "start_time": "2024-08-14T06:27:05.131434",
     "status": "completed"
    },
    "tags": []
   },
   "outputs": [],
   "source": [
    "# Reference: https://www.kaggle.com/code/greysky/isic-2024-only-tabular-data\n",
    "def read_data(path):\n",
    "    return (\n",
    "        pl.read_csv(path)\n",
    "        .with_columns(\n",
    "            pl.col('age_approx').cast(pl.String).replace('NA', np.nan).cast(pl.Float64),\n",
    "        )\n",
    "        .with_columns(\n",
    "            pl.col(pl.Float64).fill_nan(pl.col(pl.Float64).median()),\n",
    "        )\n",
    "        .with_columns(\n",
    "            lesion_size_ratio              = pl.col('tbp_lv_minorAxisMM') / pl.col('clin_size_long_diam_mm'),\n",
    "            lesion_shape_index             = pl.col('tbp_lv_areaMM2') / (pl.col('tbp_lv_perimeterMM') ** 2),\n",
    "            hue_contrast                   = (pl.col('tbp_lv_H') - pl.col('tbp_lv_Hext')).abs(),\n",
    "            luminance_contrast             = (pl.col('tbp_lv_L') - pl.col('tbp_lv_Lext')).abs(),\n",
    "            lesion_color_difference        = (pl.col('tbp_lv_deltaA') ** 2 + pl.col('tbp_lv_deltaB') ** 2 + pl.col('tbp_lv_deltaL') ** 2).sqrt(),\n",
    "            border_complexity              = pl.col('tbp_lv_norm_border') + pl.col('tbp_lv_symm_2axis'),\n",
    "            color_uniformity               = pl.col('tbp_lv_color_std_mean') / (pl.col('tbp_lv_radial_color_std_max') + 1e-5),\n",
    "        )\n",
    "        .with_columns(\n",
    "            position_distance_3d           = (pl.col('tbp_lv_x') ** 2 + pl.col('tbp_lv_y') ** 2 + pl.col('tbp_lv_z') ** 2).sqrt(),\n",
    "            perimeter_to_area_ratio        = pl.col('tbp_lv_perimeterMM') / pl.col('tbp_lv_areaMM2'),\n",
    "            area_to_perimeter_ratio        = pl.col('tbp_lv_areaMM2') / pl.col('tbp_lv_perimeterMM'),\n",
    "            lesion_visibility_score        = pl.col('tbp_lv_deltaLBnorm') + pl.col('tbp_lv_norm_color'),\n",
    "            combined_anatomical_site       = pl.col('anatom_site_general') + '_' + pl.col('tbp_lv_location'),\n",
    "            symmetry_border_consistency    = pl.col('tbp_lv_symm_2axis') * pl.col('tbp_lv_norm_border'),\n",
    "            consistency_symmetry_border    = pl.col('tbp_lv_symm_2axis') * pl.col('tbp_lv_norm_border') / (pl.col('tbp_lv_symm_2axis') + pl.col('tbp_lv_norm_border')),\n",
    "        )\n",
    "        .with_columns(\n",
    "            color_consistency              = pl.col('tbp_lv_stdL') / pl.col('tbp_lv_Lext'),\n",
    "            consistency_color              = pl.col('tbp_lv_stdL') * pl.col('tbp_lv_Lext') / (pl.col('tbp_lv_stdL') + pl.col('tbp_lv_Lext')),\n",
    "            size_age_interaction           = pl.col('clin_size_long_diam_mm') * pl.col('age_approx'),\n",
    "            hue_color_std_interaction      = pl.col('tbp_lv_H') * pl.col('tbp_lv_color_std_mean'),\n",
    "            lesion_severity_index          = (pl.col('tbp_lv_norm_border') + pl.col('tbp_lv_norm_color') + pl.col('tbp_lv_eccentricity')) / 3,\n",
    "            shape_complexity_index         = pl.col('border_complexity') + pl.col('lesion_shape_index'),\n",
    "            color_contrast_index           = pl.col('tbp_lv_deltaA') + pl.col('tbp_lv_deltaB') + pl.col('tbp_lv_deltaL') + pl.col('tbp_lv_deltaLBnorm'),\n",
    "        )\n",
    "        .with_columns(\n",
    "            log_lesion_area                = (pl.col('tbp_lv_areaMM2') + 1).log(),\n",
    "            normalized_lesion_size         = pl.col('clin_size_long_diam_mm') / pl.col('age_approx'),\n",
    "            mean_hue_difference            = (pl.col('tbp_lv_H') + pl.col('tbp_lv_Hext')) / 2,\n",
    "            std_dev_contrast               = ((pl.col('tbp_lv_deltaA') ** 2 + pl.col('tbp_lv_deltaB') ** 2 + pl.col('tbp_lv_deltaL') ** 2) / 3).sqrt(),\n",
    "            color_shape_composite_index    = (pl.col('tbp_lv_color_std_mean') + pl.col('tbp_lv_area_perim_ratio') + pl.col('tbp_lv_symm_2axis')) / 3,\n",
    "            lesion_orientation_3d          = pl.arctan2(pl.col('tbp_lv_y'), pl.col('tbp_lv_x')),\n",
    "            overall_color_difference       = (pl.col('tbp_lv_deltaA') + pl.col('tbp_lv_deltaB') + pl.col('tbp_lv_deltaL')) / 3,\n",
    "        )\n",
    "        .with_columns(\n",
    "            symmetry_perimeter_interaction = pl.col('tbp_lv_symm_2axis') * pl.col('tbp_lv_perimeterMM'),\n",
    "            comprehensive_lesion_index     = (pl.col('tbp_lv_area_perim_ratio') + pl.col('tbp_lv_eccentricity') + pl.col('tbp_lv_norm_color') + pl.col('tbp_lv_symm_2axis')) / 4,\n",
    "            color_variance_ratio           = pl.col('tbp_lv_color_std_mean') / pl.col('tbp_lv_stdLExt'),\n",
    "            border_color_interaction       = pl.col('tbp_lv_norm_border') * pl.col('tbp_lv_norm_color'),\n",
    "            border_color_interaction_2     = pl.col('tbp_lv_norm_border') * pl.col('tbp_lv_norm_color') / (pl.col('tbp_lv_norm_border') + pl.col('tbp_lv_norm_color')),\n",
    "            size_color_contrast_ratio      = pl.col('clin_size_long_diam_mm') / pl.col('tbp_lv_deltaLBnorm'),\n",
    "            age_normalized_nevi_confidence = pl.col('tbp_lv_nevi_confidence') / pl.col('age_approx'),\n",
    "            age_normalized_nevi_confidence_2 = (pl.col('clin_size_long_diam_mm')**2 + pl.col('age_approx')**2).sqrt(),\n",
    "            color_asymmetry_index          = pl.col('tbp_lv_radial_color_std_max') * pl.col('tbp_lv_symm_2axis'),\n",
    "        )\n",
    "        .with_columns(\n",
    "            volume_approximation_3d        = pl.col('tbp_lv_areaMM2') * (pl.col('tbp_lv_x')**2 + pl.col('tbp_lv_y')**2 + pl.col('tbp_lv_z')**2).sqrt(),\n",
    "            color_range                    = (pl.col('tbp_lv_L') - pl.col('tbp_lv_Lext')).abs() + (pl.col('tbp_lv_A') - pl.col('tbp_lv_Aext')).abs() + (pl.col('tbp_lv_B') - pl.col('tbp_lv_Bext')).abs(),\n",
    "            shape_color_consistency        = pl.col('tbp_lv_eccentricity') * pl.col('tbp_lv_color_std_mean'),\n",
    "            border_length_ratio            = pl.col('tbp_lv_perimeterMM') / (2 * np.pi * (pl.col('tbp_lv_areaMM2') / np.pi).sqrt()),\n",
    "            age_size_symmetry_index        = pl.col('age_approx') * pl.col('clin_size_long_diam_mm') * pl.col('tbp_lv_symm_2axis'),\n",
    "            index_age_size_symmetry        = pl.col('age_approx') * pl.col('tbp_lv_areaMM2') * pl.col('tbp_lv_symm_2axis'),\n",
    "        )\n",
    "        .with_columns(\n",
    "            ((pl.col(col) - pl.col(col).mean().over('patient_id')) / (pl.col(col).std().over('patient_id') + 1e-5)).alias(f'{col}_patient_norm') for col in (num_cols + new_num_cols)\n",
    "        )\n",
    "        .with_columns(\n",
    "            count_per_patient = pl.col('isic_id').count().over('patient_id'),\n",
    "        )\n",
    "        .with_columns(\n",
    "            pl.col(cat_cols).cast(pl.Categorical),\n",
    "        )\n",
    "        .to_pandas()\n",
    "        .set_index('isic_id')\n",
    "    )"
   ]
  },
  {
   "cell_type": "code",
   "execution_count": 5,
   "id": "06d32fbd",
   "metadata": {
    "execution": {
     "iopub.execute_input": "2024-08-14T06:27:05.180865Z",
     "iopub.status.busy": "2024-08-14T06:27:05.179621Z",
     "iopub.status.idle": "2024-08-14T06:27:05.187754Z",
     "shell.execute_reply": "2024-08-14T06:27:05.186508Z"
    },
    "papermill": {
     "duration": 0.017895,
     "end_time": "2024-08-14T06:27:05.190199",
     "exception": false,
     "start_time": "2024-08-14T06:27:05.172304",
     "status": "completed"
    },
    "tags": []
   },
   "outputs": [],
   "source": [
    "# Reference: https://www.kaggle.com/code/greysky/isic-2024-only-tabular-data\n",
    "def preprocess(df_train, df_test):\n",
    "    global cat_cols\n",
    "    \n",
    "    encoder = OneHotEncoder(sparse_output=False, dtype=np.int32, handle_unknown='ignore')\n",
    "    encoder.fit(df_train[cat_cols])\n",
    "    \n",
    "    new_cat_cols = [f'onehot_{i}' for i in range(len(encoder.get_feature_names_out()))]\n",
    "\n",
    "    df_train[new_cat_cols] = encoder.transform(df_train[cat_cols])\n",
    "    df_train[new_cat_cols] = df_train[new_cat_cols].astype('category')\n",
    "\n",
    "    df_test[new_cat_cols] = encoder.transform(df_test[cat_cols])\n",
    "    df_test[new_cat_cols] = df_test[new_cat_cols].astype('category')\n",
    "\n",
    "    for col in cat_cols:\n",
    "        feature_cols.remove(col)\n",
    "\n",
    "    feature_cols.extend(new_cat_cols)\n",
    "    cat_cols = new_cat_cols\n",
    "    \n",
    "    return df_train, df_test"
   ]
  },
  {
   "cell_type": "code",
   "execution_count": 6,
   "id": "7749028f",
   "metadata": {
    "execution": {
     "iopub.execute_input": "2024-08-14T06:27:05.203128Z",
     "iopub.status.busy": "2024-08-14T06:27:05.202685Z",
     "iopub.status.idle": "2024-08-14T06:27:13.239856Z",
     "shell.execute_reply": "2024-08-14T06:27:13.238435Z"
    },
    "papermill": {
     "duration": 8.046926,
     "end_time": "2024-08-14T06:27:13.242817",
     "exception": false,
     "start_time": "2024-08-14T06:27:05.195891",
     "status": "completed"
    },
    "tags": []
   },
   "outputs": [],
   "source": [
    "train = read_data(CFG.train_path)\n",
    "test = read_data(CFG.test_path)\n",
    "train, test = preprocess(train, test)"
   ]
  },
  {
   "cell_type": "code",
   "execution_count": 7,
   "id": "77c68ac1",
   "metadata": {
    "execution": {
     "iopub.execute_input": "2024-08-14T06:27:13.256135Z",
     "iopub.status.busy": "2024-08-14T06:27:13.255688Z",
     "iopub.status.idle": "2024-08-14T06:27:13.749554Z",
     "shell.execute_reply": "2024-08-14T06:27:13.748013Z"
    },
    "papermill": {
     "duration": 0.503605,
     "end_time": "2024-08-14T06:27:13.752213",
     "exception": false,
     "start_time": "2024-08-14T06:27:13.248608",
     "status": "completed"
    },
    "tags": []
   },
   "outputs": [],
   "source": [
    "X = train.drop(CFG.target, axis=1)[feature_cols]\n",
    "y = train[CFG.target]\n",
    "\n",
    "X_test = test[feature_cols]\n",
    "\n",
    "groups = train['patient_id']"
   ]
  },
  {
   "cell_type": "markdown",
   "id": "29a53899",
   "metadata": {
    "papermill": {
     "duration": 0.00545,
     "end_time": "2024-08-14T06:27:13.763553",
     "exception": false,
     "start_time": "2024-08-14T06:27:13.758103",
     "status": "completed"
    },
    "tags": []
   },
   "source": [
    "# Training base models"
   ]
  },
  {
   "cell_type": "code",
   "execution_count": 8,
   "id": "09b3b86c",
   "metadata": {
    "execution": {
     "iopub.execute_input": "2024-08-14T06:27:13.776651Z",
     "iopub.status.busy": "2024-08-14T06:27:13.776218Z",
     "iopub.status.idle": "2024-08-14T06:27:13.784795Z",
     "shell.execute_reply": "2024-08-14T06:27:13.783651Z"
    },
    "papermill": {
     "duration": 0.018005,
     "end_time": "2024-08-14T06:27:13.787218",
     "exception": false,
     "start_time": "2024-08-14T06:27:13.769213",
     "status": "completed"
    },
    "tags": []
   },
   "outputs": [],
   "source": [
    "def p_roc_auc_score(y_true, y_pred):\n",
    "    min_tpr = 0.80\n",
    "    v_gt = abs(np.asarray(y_true) - 1)\n",
    "    v_pred = -1.0*np.asarray(y_pred)\n",
    "    max_fpr = abs(1-min_tpr)\n",
    "    fpr, tpr, _ = roc_curve(v_gt, v_pred, sample_weight=None)\n",
    "    if max_fpr is None or max_fpr == 1:\n",
    "        return auc(fpr, tpr)\n",
    "    if max_fpr <= 0 or max_fpr > 1:\n",
    "        raise ValueError('Expected min_tpr in range [0, 1), got: %r' % min_tpr)\n",
    "\n",
    "    stop = np.searchsorted(fpr, max_fpr, 'right')\n",
    "    x_interp = [fpr[stop - 1], fpr[stop]]\n",
    "    y_interp = [tpr[stop - 1], tpr[stop]]\n",
    "    tpr = np.append(tpr[:stop], np.interp(max_fpr, x_interp, y_interp))\n",
    "    fpr = np.append(fpr[:stop], max_fpr)\n",
    "    partial_auc = auc(fpr, tpr)\n",
    "\n",
    "    return partial_auc"
   ]
  },
  {
   "cell_type": "code",
   "execution_count": 9,
   "id": "cf160d2b",
   "metadata": {
    "execution": {
     "iopub.execute_input": "2024-08-14T06:27:13.800637Z",
     "iopub.status.busy": "2024-08-14T06:27:13.800202Z",
     "iopub.status.idle": "2024-08-14T06:27:13.811669Z",
     "shell.execute_reply": "2024-08-14T06:27:13.810488Z"
    },
    "papermill": {
     "duration": 0.021226,
     "end_time": "2024-08-14T06:27:13.814354",
     "exception": false,
     "start_time": "2024-08-14T06:27:13.793128",
     "status": "completed"
    },
    "tags": []
   },
   "outputs": [],
   "source": [
    "class Trainer:\n",
    "    def __init__(self, model, n_folds=CFG.n_folds):\n",
    "        self.model = model\n",
    "        self.n_folds = n_folds\n",
    "\n",
    "    def fit_predict(self, X, y, X_test):\n",
    "        if isinstance(self.model, Pipeline):\n",
    "            print(f'Training {self.model.steps[1][1].__class__.__name__}\\n')\n",
    "        else:\n",
    "            print(f'Training {self.model.__class__.__name__}\\n')\n",
    "\n",
    "        scores = []\n",
    "        oof_pred_probs = np.zeros((X.shape[0], len(np.unique(y))))\n",
    "        test_pred_probs = np.zeros((X_test.shape[0], len(np.unique(y))))\n",
    "\n",
    "        split = StratifiedGroupKFold(n_splits=self.n_folds, random_state=CFG.seed, shuffle=True).split(X, y, groups=groups)            \n",
    "        for fold_idx, (train_idx, val_idx) in enumerate(split):\n",
    "            X_train, X_val = X.iloc[train_idx], X.iloc[val_idx]\n",
    "            y_train, y_val = y[train_idx], y[val_idx]\n",
    "\n",
    "            model = clone(self.model)\n",
    "            model.fit(X_train, y_train)\n",
    "\n",
    "            y_pred_probs = model.predict_proba(X_val)\n",
    "            oof_pred_probs[val_idx] = y_pred_probs\n",
    "\n",
    "            temp_test_pred_probs = model.predict_proba(X_test)\n",
    "            test_pred_probs += temp_test_pred_probs / self.n_folds\n",
    "\n",
    "            score = p_roc_auc_score(y_val, y_pred_probs[:, 1])\n",
    "            scores.append(score)\n",
    "\n",
    "            del model\n",
    "            gc.collect()\n",
    "\n",
    "            print(f'--- Fold {fold_idx + 1} - pAUC: {score:.6f}')\n",
    "\n",
    "        print(f'\\n\\n------ pAUC: {np.mean(scores):.6f} ± {np.std(scores):.6f}')\n",
    "\n",
    "        return oof_pred_probs, test_pred_probs, scores"
   ]
  },
  {
   "cell_type": "code",
   "execution_count": 10,
   "id": "ad8eb4cc",
   "metadata": {
    "_kg_hide-input": true,
    "execution": {
     "iopub.execute_input": "2024-08-14T06:27:13.828068Z",
     "iopub.status.busy": "2024-08-14T06:27:13.827238Z",
     "iopub.status.idle": "2024-08-14T06:27:13.836784Z",
     "shell.execute_reply": "2024-08-14T06:27:13.835438Z"
    },
    "papermill": {
     "duration": 0.01917,
     "end_time": "2024-08-14T06:27:13.839281",
     "exception": false,
     "start_time": "2024-08-14T06:27:13.820111",
     "status": "completed"
    },
    "tags": []
   },
   "outputs": [],
   "source": [
    "# Reference: https://www.kaggle.com/code/greysky/isic-2024-only-tabular-data\n",
    "lgbm_params = {\n",
    "    'objective':        'binary',\n",
    "    'verbosity':        -1,\n",
    "    'n_iter':           200,\n",
    "    'boosting_type':    'gbdt',\n",
    "    'random_state':     CFG.seed,\n",
    "    'lambda_l1':        0.08758718919397321, \n",
    "    'lambda_l2':        0.0039689175176025465, \n",
    "    'learning_rate':    0.03231007103195577, \n",
    "    'max_depth':        4, \n",
    "    'num_leaves':       103, \n",
    "    'colsample_bytree': 0.8329551585827726, \n",
    "    'colsample_bynode': 0.4025961355653304, \n",
    "    'bagging_fraction': 0.7738954452473223, \n",
    "    'bagging_freq':     4, \n",
    "    'min_data_in_leaf': 85, \n",
    "    'scale_pos_weight': 2.7984184778875543,\n",
    "}\n",
    "\n",
    "cb_params = {\n",
    "    'loss_function':     'Logloss',\n",
    "    'iterations':        200,\n",
    "    'verbose':           False,\n",
    "    'random_state':      CFG.seed,\n",
    "    'max_depth':         7, \n",
    "    'learning_rate':     0.06936242010150652, \n",
    "    'scale_pos_weight':  2.6149345838209532, \n",
    "    'l2_leaf_reg':       6.216113851699493, \n",
    "    'subsample':         0.6249261779711819, \n",
    "    'min_data_in_leaf':  24,\n",
    "    'cat_features':      cat_cols,\n",
    "}\n",
    "\n",
    "xgb_params = {\n",
    "    'enable_categorical': True,\n",
    "    'tree_method':        'hist',\n",
    "    'random_state':       CFG.seed,\n",
    "    'learning_rate':      0.08501257473292347, \n",
    "    'lambda':             8.879624125465703, \n",
    "    'alpha':              0.6779926606782505, \n",
    "    'max_depth':          6, \n",
    "    'subsample':          0.6012681388711075, \n",
    "    'colsample_bytree':   0.8437772277074493, \n",
    "    'colsample_bylevel':  0.5476090898823716, \n",
    "    'colsample_bynode':   0.9928601203635129, \n",
    "    'scale_pos_weight':   3.29440313334688,\n",
    "}"
   ]
  },
  {
   "cell_type": "code",
   "execution_count": 11,
   "id": "bb0852a0",
   "metadata": {
    "execution": {
     "iopub.execute_input": "2024-08-14T06:27:13.853715Z",
     "iopub.status.busy": "2024-08-14T06:27:13.853280Z",
     "iopub.status.idle": "2024-08-14T06:27:13.858588Z",
     "shell.execute_reply": "2024-08-14T06:27:13.857439Z"
    },
    "papermill": {
     "duration": 0.015843,
     "end_time": "2024-08-14T06:27:13.860983",
     "exception": false,
     "start_time": "2024-08-14T06:27:13.845140",
     "status": "completed"
    },
    "tags": []
   },
   "outputs": [],
   "source": [
    "paucs = {}\n",
    "\n",
    "test_pred_probs = {}\n",
    "oof_pred_probs = {}"
   ]
  },
  {
   "cell_type": "code",
   "execution_count": 12,
   "id": "4d96f859",
   "metadata": {
    "execution": {
     "iopub.execute_input": "2024-08-14T06:27:13.874720Z",
     "iopub.status.busy": "2024-08-14T06:27:13.873820Z",
     "iopub.status.idle": "2024-08-14T06:28:21.936080Z",
     "shell.execute_reply": "2024-08-14T06:28:21.934713Z"
    },
    "papermill": {
     "duration": 68.073435,
     "end_time": "2024-08-14T06:28:21.940220",
     "exception": false,
     "start_time": "2024-08-14T06:27:13.866785",
     "status": "completed"
    },
    "tags": []
   },
   "outputs": [
    {
     "name": "stdout",
     "output_type": "stream",
     "text": [
      "Training LGBMClassifier\n",
      "\n",
      "--- Fold 1 - pAUC: 0.182931\n",
      "--- Fold 2 - pAUC: 0.167739\n",
      "--- Fold 3 - pAUC: 0.166918\n",
      "--- Fold 4 - pAUC: 0.168298\n",
      "--- Fold 5 - pAUC: 0.177184\n",
      "--- Fold 6 - pAUC: 0.166954\n",
      "\n",
      "\n",
      "------ pAUC: 0.171671 ± 0.006176\n"
     ]
    }
   ],
   "source": [
    "lgbm_model = Pipeline([\n",
    "    ('sampler', RandomUnderSampler(sampling_strategy=0.01, random_state=CFG.seed)),\n",
    "    ('classifier', LGBMClassifier(**lgbm_params)),\n",
    "])\n",
    "lgbm_trainer = Trainer(lgbm_model)\n",
    "lgbm_oof_pred_probs, lgbm_test_pred_probs, lgbm_scores = lgbm_trainer.fit_predict(X, y, X_test)\n",
    "oof_pred_probs['LightGBM'] = lgbm_oof_pred_probs\n",
    "test_pred_probs['LightGBM'] = lgbm_test_pred_probs\n",
    "paucs['LightGBM'] = lgbm_scores"
   ]
  },
  {
   "cell_type": "code",
   "execution_count": 13,
   "id": "4df690c4",
   "metadata": {
    "execution": {
     "iopub.execute_input": "2024-08-14T06:28:21.954705Z",
     "iopub.status.busy": "2024-08-14T06:28:21.954344Z",
     "iopub.status.idle": "2024-08-14T06:29:31.427423Z",
     "shell.execute_reply": "2024-08-14T06:29:31.426047Z"
    },
    "papermill": {
     "duration": 69.489888,
     "end_time": "2024-08-14T06:29:31.436390",
     "exception": false,
     "start_time": "2024-08-14T06:28:21.946502",
     "status": "completed"
    },
    "tags": []
   },
   "outputs": [
    {
     "name": "stdout",
     "output_type": "stream",
     "text": [
      "Training CatBoostClassifier\n",
      "\n",
      "--- Fold 1 - pAUC: 0.178451\n",
      "--- Fold 2 - pAUC: 0.157620\n",
      "--- Fold 3 - pAUC: 0.155305\n",
      "--- Fold 4 - pAUC: 0.166511\n",
      "--- Fold 5 - pAUC: 0.174913\n",
      "--- Fold 6 - pAUC: 0.162113\n",
      "\n",
      "\n",
      "------ pAUC: 0.165819 ± 0.008507\n"
     ]
    }
   ],
   "source": [
    "cb_model = Pipeline([\n",
    "    ('sampler', RandomUnderSampler(sampling_strategy=0.01, random_state=CFG.seed)),\n",
    "    ('classifier', CatBoostClassifier(**cb_params)),\n",
    "])\n",
    "cb_trainer = Trainer(cb_model)\n",
    "cb_oof_pred_probs, cb_test_pred_probs, cb_scores = cb_trainer.fit_predict(X, y, X_test)\n",
    "oof_pred_probs['CatBoost'] = cb_oof_pred_probs\n",
    "test_pred_probs['CatBoost'] = cb_test_pred_probs\n",
    "paucs['CatBoost'] = cb_scores"
   ]
  },
  {
   "cell_type": "code",
   "execution_count": 14,
   "id": "8ae84a2c",
   "metadata": {
    "execution": {
     "iopub.execute_input": "2024-08-14T06:29:31.452337Z",
     "iopub.status.busy": "2024-08-14T06:29:31.451917Z",
     "iopub.status.idle": "2024-08-14T06:30:25.048472Z",
     "shell.execute_reply": "2024-08-14T06:30:25.047056Z"
    },
    "papermill": {
     "duration": 53.607568,
     "end_time": "2024-08-14T06:30:25.051161",
     "exception": false,
     "start_time": "2024-08-14T06:29:31.443593",
     "status": "completed"
    },
    "tags": []
   },
   "outputs": [
    {
     "name": "stdout",
     "output_type": "stream",
     "text": [
      "Training XGBClassifier\n",
      "\n",
      "--- Fold 1 - pAUC: 0.181849\n",
      "--- Fold 2 - pAUC: 0.166393\n",
      "--- Fold 3 - pAUC: 0.154403\n",
      "--- Fold 4 - pAUC: 0.168948\n",
      "--- Fold 5 - pAUC: 0.175093\n",
      "--- Fold 6 - pAUC: 0.167391\n",
      "\n",
      "\n",
      "------ pAUC: 0.169013 ± 0.008413\n"
     ]
    }
   ],
   "source": [
    "xgb_model = Pipeline([\n",
    "    ('sampler', RandomUnderSampler(sampling_strategy=0.01, random_state=CFG.seed)),\n",
    "    ('classifier', XGBClassifier(**xgb_params)),\n",
    "])\n",
    "xgb_trainer = Trainer(xgb_model)\n",
    "xgb_oof_pred_probs, xgb_test_pred_probs, xgb_scores = xgb_trainer.fit_predict(X, y, X_test)\n",
    "oof_pred_probs['XGBoost'] = xgb_oof_pred_probs\n",
    "test_pred_probs['XGBoost'] = xgb_test_pred_probs\n",
    "paucs['XGBoost'] = xgb_scores"
   ]
  },
  {
   "cell_type": "markdown",
   "id": "9ab0816a",
   "metadata": {
    "papermill": {
     "duration": 0.007013,
     "end_time": "2024-08-14T06:30:25.065554",
     "exception": false,
     "start_time": "2024-08-14T06:30:25.058541",
     "status": "completed"
    },
    "tags": []
   },
   "source": [
    "# Training a stacking classifier using oof predictions"
   ]
  },
  {
   "cell_type": "code",
   "execution_count": 15,
   "id": "e6c8da51",
   "metadata": {
    "execution": {
     "iopub.execute_input": "2024-08-14T06:30:25.081931Z",
     "iopub.status.busy": "2024-08-14T06:30:25.081549Z",
     "iopub.status.idle": "2024-08-14T06:30:31.959749Z",
     "shell.execute_reply": "2024-08-14T06:30:31.958251Z"
    },
    "papermill": {
     "duration": 6.889631,
     "end_time": "2024-08-14T06:30:31.962331",
     "exception": false,
     "start_time": "2024-08-14T06:30:25.072700",
     "status": "completed"
    },
    "tags": []
   },
   "outputs": [
    {
     "name": "stdout",
     "output_type": "stream",
     "text": [
      "Training StackingClassifier\n",
      "\n",
      "--- Fold 1 - pAUC: 0.182928\n",
      "--- Fold 2 - pAUC: 0.165068\n",
      "--- Fold 3 - pAUC: 0.159927\n",
      "--- Fold 4 - pAUC: 0.170651\n",
      "--- Fold 5 - pAUC: 0.177947\n",
      "--- Fold 6 - pAUC: 0.167741\n",
      "\n",
      "\n",
      "------ pAUC: 0.170710 ± 0.007731\n"
     ]
    }
   ],
   "source": [
    "class PassThroughClassifier(BaseEstimator, ClassifierMixin):\n",
    "    def __init__(self, idx_cols):\n",
    "        self.idx_cols = idx_cols\n",
    "        self.is_fitted_ = True\n",
    "\n",
    "    def fit(self, X, y=None):\n",
    "        return self\n",
    "\n",
    "    def predict_proba(self, X):\n",
    "        return check_array(X)[:, self.idx_cols]\n",
    "\n",
    "\n",
    "X_oof_pred_probs = np.log(pd.DataFrame(np.hstack(list(oof_pred_probs.values()))) + 1e-7)\n",
    "X_test_pred_probs = np.log(pd.DataFrame(np.hstack(list(test_pred_probs.values()))) + 1e-7)\n",
    "\n",
    "estimators = [\n",
    "    ('LightGBM', PassThroughClassifier(list(range(0, 2)))),\n",
    "    ('CatBoost', PassThroughClassifier(list(range(2, 4)))),\n",
    "    ('XGBoost',  PassThroughClassifier(list(range(4, 6)))),\n",
    "]\n",
    "\n",
    "stacking_model = StackingClassifier(estimators, cv='prefit', n_jobs=-1)\n",
    "stacking_trainer = Trainer(stacking_model)\n",
    "stacking_oof_pred_probs, stacking_oof_preds, stacking_scores = stacking_trainer.fit_predict(X_oof_pred_probs, y, X_test_pred_probs)\n",
    "oof_pred_probs['Stacking'] = stacking_oof_pred_probs\n",
    "test_pred_probs['Stacking'] = stacking_oof_preds\n",
    "paucs['Stacking'] = stacking_scores"
   ]
  },
  {
   "cell_type": "markdown",
   "id": "c89f72ae",
   "metadata": {
    "papermill": {
     "duration": 0.007581,
     "end_time": "2024-08-14T06:30:31.977823",
     "exception": false,
     "start_time": "2024-08-14T06:30:31.970242",
     "status": "completed"
    },
    "tags": []
   },
   "source": [
    "# Visualizing the results"
   ]
  },
  {
   "cell_type": "code",
   "execution_count": 16,
   "id": "520a9083",
   "metadata": {
    "execution": {
     "iopub.execute_input": "2024-08-14T06:30:31.995740Z",
     "iopub.status.busy": "2024-08-14T06:30:31.995367Z",
     "iopub.status.idle": "2024-08-14T06:30:32.761606Z",
     "shell.execute_reply": "2024-08-14T06:30:32.760282Z"
    },
    "papermill": {
     "duration": 0.778042,
     "end_time": "2024-08-14T06:30:32.764212",
     "exception": false,
     "start_time": "2024-08-14T06:30:31.986170",
     "status": "completed"
    },
    "tags": []
   },
   "outputs": [
    {
     "data": {
      "image/png": "[encoded data removed]",
      "text/plain": [
       "<Figure size 1400x700 with 2 Axes>"
      ]
     },
     "metadata": {},
     "output_type": "display_data"
    }
   ],
   "source": [
    "fig, axes = plt.subplots(nrows=1, ncols=2, figsize=(14, 7))\n",
    "\n",
    "fpr, tpr, _ = roc_curve(y, oof_pred_probs['Stacking'][:, 1])\n",
    "axes[0].plot(fpr, tpr, color='#651FFF')\n",
    "axes[0].plot([0, 1], [0, 1], color='black', linestyle='--')\n",
    "axes[0].fill_between(fpr, tpr, 0.8, where=(tpr >= 0.8), color='#651FFF', alpha=0.4, label=f'pAUC: {np.mean(stacking_scores):.6f}')\n",
    "axes[0].axhline(y=0.8, color='#651FFF', linestyle='--')\n",
    "axes[0].set_xlabel('False Positive Rate')\n",
    "axes[0].set_ylabel('True Positive Rate')\n",
    "axes[0].legend()\n",
    "axes[0].grid(True)\n",
    "axes[0].set_aspect('equal', adjustable='box')\n",
    "\n",
    "y_pred = oof_pred_probs['Stacking'].argmax(axis=1)\n",
    "cm = confusion_matrix(y, y_pred)\n",
    "sns.heatmap(\n",
    "    cm, \n",
    "    annot=True, \n",
    "    fmt=',', \n",
    "    ax=axes[1], \n",
    "    cbar=False,\n",
    "    cmap=sns.light_palette('#651FFF', reverse=False, as_cmap=True), \n",
    ")\n",
    "axes[1].set_xlabel('Predicted')\n",
    "axes[1].set_ylabel('Actual')\n",
    "axes[1].set_aspect('equal', adjustable='box')\n",
    "\n",
    "plt.tight_layout()\n",
    "plt.show()"
   ]
  },
  {
   "cell_type": "code",
   "execution_count": 17,
   "id": "8019d1bf",
   "metadata": {
    "execution": {
     "iopub.execute_input": "2024-08-14T06:30:32.783651Z",
     "iopub.status.busy": "2024-08-14T06:30:32.783240Z",
     "iopub.status.idle": "2024-08-14T06:30:33.267566Z",
     "shell.execute_reply": "2024-08-14T06:30:33.266255Z"
    },
    "papermill": {
     "duration": 0.497212,
     "end_time": "2024-08-14T06:30:33.270334",
     "exception": false,
     "start_time": "2024-08-14T06:30:32.773122",
     "status": "completed"
    },
    "tags": []
   },
   "outputs": [
    {
     "data": {
      "image/png": "[encoded data removed]",
      "text/plain": [
       "<Figure size 1500x500 with 2 Axes>"
      ]
     },
     "metadata": {},
     "output_type": "display_data"
    }
   ],
   "source": [
    "paucs = pd.DataFrame(paucs)\n",
    "mean_paucs = paucs.mean().sort_values(ascending=False)\n",
    "order = paucs.mean().sort_values(ascending=False).index.tolist()\n",
    "\n",
    "min_pauc = mean_paucs.min()\n",
    "max_pauc = mean_paucs.max()\n",
    "padding = (max_pauc - min_pauc) * 0.1\n",
    "lower_limit = min_pauc - padding\n",
    "upper_limit = max_pauc + padding\n",
    "\n",
    "fig, axs = plt.subplots(1, 2, figsize=(15, 5))\n",
    "\n",
    "sns.boxplot(data=paucs, order=order, ax=axs[0], orient='h', color='#651FFF')\n",
    "axs[0].set_title('Fold pAUC')\n",
    "axs[0].set_xlabel('')\n",
    "axs[0].set_ylabel('')\n",
    "\n",
    "barplot = sns.barplot(x=mean_paucs.values, y=mean_paucs.index, ax=axs[1], color='#651FFF')\n",
    "axs[1].set_title('Average pAUC')\n",
    "axs[1].set_xlabel('')\n",
    "axs[1].set_xlim(left=lower_limit, right=upper_limit)\n",
    "axs[1].set_ylabel('')\n",
    "\n",
    "for i, score in enumerate(mean_paucs.values):\n",
    "    barplot.text(score, i, round(score, 4), va='center')\n",
    "\n",
    "plt.tight_layout()\n",
    "plt.show()"
   ]
  },
  {
   "cell_type": "markdown",
   "id": "a37b5c1f",
   "metadata": {
    "papermill": {
     "duration": 0.008902,
     "end_time": "2024-08-14T06:30:33.288619",
     "exception": false,
     "start_time": "2024-08-14T06:30:33.279717",
     "status": "completed"
    },
    "tags": []
   },
   "source": [
    "# Submission"
   ]
  },
  {
   "cell_type": "code",
   "execution_count": 18,
   "id": "092c4d30",
   "metadata": {
    "execution": {
     "iopub.execute_input": "2024-08-14T06:30:33.308689Z",
     "iopub.status.busy": "2024-08-14T06:30:33.308277Z",
     "iopub.status.idle": "2024-08-14T06:30:33.334215Z",
     "shell.execute_reply": "2024-08-14T06:30:33.332863Z"
    },
    "papermill": {
     "duration": 0.039054,
     "end_time": "2024-08-14T06:30:33.336862",
     "exception": false,
     "start_time": "2024-08-14T06:30:33.297808",
     "status": "completed"
    },
    "tags": []
   },
   "outputs": [
    {
     "data": {
      "text/html": [
       "<div>\n",
       "<style scoped>\n",
       "    .dataframe tbody tr th:only-of-type {\n",
       "        vertical-align: middle;\n",
       "    }\n",
       "\n",
       "    .dataframe tbody tr th {\n",
       "        vertical-align: top;\n",
       "    }\n",
       "\n",
       "    .dataframe thead th {\n",
       "        text-align: right;\n",
       "    }\n",
       "</style>\n",
       "<table border=\"1\" class=\"dataframe\">\n",
       "  <thead>\n",
       "    <tr style=\"text-align: right;\">\n",
       "      <th></th>\n",
       "      <th>isic_id</th>\n",
       "      <th>target</th>\n",
       "    </tr>\n",
       "  </thead>\n",
       "  <tbody>\n",
       "    <tr>\n",
       "      <th>0</th>\n",
       "      <td>ISIC_0015657</td>\n",
       "      <td>0.085255</td>\n",
       "    </tr>\n",
       "    <tr>\n",
       "      <th>1</th>\n",
       "      <td>ISIC_0015729</td>\n",
       "      <td>0.056662</td>\n",
       "    </tr>\n",
       "    <tr>\n",
       "      <th>2</th>\n",
       "      <td>ISIC_0015740</td>\n",
       "      <td>0.110044</td>\n",
       "    </tr>\n",
       "  </tbody>\n",
       "</table>\n",
       "</div>"
      ],
      "text/plain": [
       "        isic_id    target\n",
       "0  ISIC_0015657  0.085255\n",
       "1  ISIC_0015729  0.056662\n",
       "2  ISIC_0015740  0.110044"
      ]
     },
     "execution_count": 18,
     "metadata": {},
     "output_type": "execute_result"
    }
   ],
   "source": [
    "sub = pd.read_csv('/kaggle/input/isic-2024-challenge/sample_submission.csv')\n",
    "sub['isic_id'] = sub['isic_id']\n",
    "sub[CFG.target] = test_pred_probs['Stacking'][:, 1]\n",
    "sub.to_csv('submission.csv', index=False)\n",
    "sub.head()"
   ]
  },
  {
   "cell_type": "code",
   "execution_count": 19,
   "id": "15f64a7f",
   "metadata": {
    "execution": {
     "iopub.execute_input": "2024-08-14T06:30:33.358916Z",
     "iopub.status.busy": "2024-08-14T06:30:33.358320Z",
     "iopub.status.idle": "2024-08-14T06:30:33.365080Z",
     "shell.execute_reply": "2024-08-14T06:30:33.363910Z"
    },
    "papermill": {
     "duration": 0.020463,
     "end_time": "2024-08-14T06:30:33.367412",
     "exception": false,
     "start_time": "2024-08-14T06:30:33.346949",
     "status": "completed"
    },
    "tags": []
   },
   "outputs": [],
   "source": [
    "shutil.rmtree('catboost_info')"
   ]
  }
 ],
 "metadata": {
  "kaggle": {
   "accelerator": "none",
   "dataSources": [
    {
     "databundleVersionId": 9094797,
     "sourceId": 63056,
     "sourceType": "competition"
    }
   ],
   "dockerImageVersionId": 30746,
   "isGpuEnabled": false,
   "isInternetEnabled": false,
   "language": "python",
   "sourceType": "notebook"
  },
  "kernelspec": {
   "display_name": "Python 3",
   "language": "python",
   "name": "python3"
  },
  "language_info": {
   "codemirror_mode": {
    "name": "ipython",
    "version": 3
   },
   "file_extension": ".py",
   "mimetype": "text/x-python",
   "name": "python",
   "nbconvert_exporter": "python",
   "pygments_lexer": "ipython3",
   "version": "3.10.13"
  },
  "papermill": {
   "default_parameters": {},
   "duration": 217.069641,
   "end_time": "2024-08-14T06:30:34.299753",
   "environment_variables": {},
   "exception": null,
   "input_path": "__notebook__.ipynb",
   "output_path": "__notebook__.ipynb",
   "parameters": {},
   "start_time": "2024-08-14T06:26:57.230112",
   "version": "2.5.0"
  }
 },
 "nbformat": 4,
 "nbformat_minor": 5
}
