{
 "cells": [
  {
   "cell_type": "markdown",
   "id": "60b046ba",
   "metadata": {
    "papermill": {
     "duration": 0.008879,
     "end_time": "2024-09-07T15:07:58.518555",
     "exception": false,
     "start_time": "2024-09-07T15:07:58.509676",
     "status": "completed"
    },
    "tags": []
   },
   "source": [
    "# Imports and configs"
   ]
  },
  {
   "cell_type": "code",
   "execution_count": 1,
   "id": "65afaacb",
   "metadata": {
    "_kg_hide-input": true,
    "execution": {
     "iopub.execute_input": "2024-09-07T15:07:58.537060Z",
     "iopub.status.busy": "2024-09-07T15:07:58.536687Z",
     "iopub.status.idle": "2024-09-07T15:08:11.175984Z",
     "shell.execute_reply": "2024-09-07T15:08:11.174952Z"
    },
    "papermill": {
     "duration": 12.651226,
     "end_time": "2024-09-07T15:08:11.178526",
     "exception": false,
     "start_time": "2024-09-07T15:07:58.527300",
     "status": "completed"
    },
    "tags": []
   },
   "outputs": [],
   "source": [
    "from sklearn.model_selection import StratifiedGroupKFold\n",
    "from sklearn.metrics import roc_curve, auc, confusion_matrix\n",
    "from sklearn.linear_model import LogisticRegression\n",
    "from sklearn.pipeline import make_pipeline\n",
    "from sklearn.preprocessing import FunctionTransformer, OneHotEncoder\n",
    "from sklearn.base import clone\n",
    "from lightgbm import LGBMClassifier\n",
    "from catboost import CatBoostClassifier\n",
    "from xgboost import XGBClassifier\n",
    "from torch.utils.data import DataLoader, Dataset\n",
    "from albumentations.pytorch import ToTensorV2\n",
    "import albumentations as A\n",
    "import torch.nn as nn\n",
    "from tqdm import tqdm\n",
    "from PIL import Image\n",
    "import matplotlib.pyplot as plt\n",
    "import seaborn as sns\n",
    "import pandas as pd\n",
    "import numpy as np\n",
    "import polars as pl\n",
    "import warnings\n",
    "import h5py\n",
    "import torch\n",
    "import random\n",
    "import timm\n",
    "import io\n",
    "import os\n",
    "import shutil\n",
    "import scipy\n",
    "import cv2\n",
    "import gc\n",
    "\n",
    "warnings.filterwarnings('ignore')"
   ]
  },
  {
   "cell_type": "code",
   "execution_count": 2,
   "id": "df664a43",
   "metadata": {
    "execution": {
     "iopub.execute_input": "2024-09-07T15:08:11.197072Z",
     "iopub.status.busy": "2024-09-07T15:08:11.196699Z",
     "iopub.status.idle": "2024-09-07T15:08:11.269651Z",
     "shell.execute_reply": "2024-09-07T15:08:11.268666Z"
    },
    "papermill": {
     "duration": 0.084566,
     "end_time": "2024-09-07T15:08:11.271584",
     "exception": false,
     "start_time": "2024-09-07T15:08:11.187018",
     "status": "completed"
    },
    "tags": []
   },
   "outputs": [],
   "source": [
    "class CFG:\n",
    "    test_img_path = '/kaggle/input/isic-2024-challenge/test-image.hdf5'\n",
    "    train_path = '/kaggle/input/isic-2024-challenge/train-metadata.csv'\n",
    "    test_path = '/kaggle/input/isic-2024-challenge/test-metadata.csv'\n",
    "    sample_sub_path = '/kaggle/input/isic-2024-challenge/sample_submission.csv'\n",
    "    \n",
    "    resnet_checkpoint_path = '/kaggle/input/skin-cancer-detection-resnet50-training/checkpoints/'\n",
    "    swin_checkpoint_path = '/kaggle/input/skin-cancer-detection-swin-transformer-training/checkpoints/'\n",
    "    \n",
    "    resnet_oof_path = '/kaggle/input/skin-cancer-detection-resnet50-training/resnet50_oof_preds.csv'\n",
    "    swin_oof_path = '/kaggle/input/skin-cancer-detection-swin-transformer-training/swin_base_patch4_window7_224_oof_preds.csv'\n",
    "\n",
    "    resnet_checkpoints = [\n",
    "        'fold_0_epoch_10_pauc_0.119877.pth',\n",
    "        'fold_1_epoch_16_pauc_0.152112.pth',\n",
    "        'fold_2_epoch_11_pauc_0.146086.pth',\n",
    "        'fold_3_epoch_20_pauc_0.161103.pth',\n",
    "        'fold_4_epoch_48_pauc_0.169901.pth'\n",
    "    ]\n",
    "    \n",
    "    swin_checkpoints = [\n",
    "        'fold_0_epoch_24_pauc_0.129003.pth',\n",
    "        'fold_1_epoch_16_pauc_0.162821.pth',\n",
    "        'fold_2_epoch_30_pauc_0.160597.pth',\n",
    "        'fold_3_epoch_18_pauc_0.167431.pth',\n",
    "        'fold_4_epoch_20_pauc_0.169827.pth'\n",
    "    ]\n",
    "    \n",
    "    device = torch.device('cuda' if torch.cuda.is_available() else 'cpu')\n",
    "    swin_model_name = 'swin_base_patch4_window7_224'\n",
    "    resnet_model_name = \"resnet50\"\n",
    "    target = 'target'\n",
    "    image_size = 224\n",
    "    val_batch_size = 64\n",
    "    n_folds = 5\n",
    "    seed = 35555"
   ]
  },
  {
   "cell_type": "code",
   "execution_count": 3,
   "id": "b09ca1b9",
   "metadata": {
    "execution": {
     "iopub.execute_input": "2024-09-07T15:08:11.289931Z",
     "iopub.status.busy": "2024-09-07T15:08:11.289398Z",
     "iopub.status.idle": "2024-09-07T15:08:11.297338Z",
     "shell.execute_reply": "2024-09-07T15:08:11.296653Z"
    },
    "papermill": {
     "duration": 0.019155,
     "end_time": "2024-09-07T15:08:11.299298",
     "exception": false,
     "start_time": "2024-09-07T15:08:11.280143",
     "status": "completed"
    },
    "tags": []
   },
   "outputs": [],
   "source": [
    "def seed_everything(seed):\n",
    "    random.seed(seed)\n",
    "    os.environ['PYTHONHASHSEED'] = str(seed)\n",
    "    np.random.seed(seed)\n",
    "    torch.manual_seed(seed)\n",
    "    torch.cuda.manual_seed(seed)\n",
    "    torch.backends.cudnn.deterministic = True\n",
    "    torch.backends.cudnn.benchmark = False\n",
    "\n",
    "\n",
    "seed_everything(CFG.seed)"
   ]
  },
  {
   "cell_type": "markdown",
   "id": "dfdd4379",
   "metadata": {
    "papermill": {
     "duration": 0.00835,
     "end_time": "2024-09-07T15:08:11.316333",
     "exception": false,
     "start_time": "2024-09-07T15:08:11.307983",
     "status": "completed"
    },
    "tags": []
   },
   "source": [
    "# Loading and processing the datasets"
   ]
  },
  {
   "cell_type": "code",
   "execution_count": 4,
   "id": "c8467e9d",
   "metadata": {
    "execution": {
     "iopub.execute_input": "2024-09-07T15:08:11.335037Z",
     "iopub.status.busy": "2024-09-07T15:08:11.334192Z",
     "iopub.status.idle": "2024-09-07T15:08:11.343621Z",
     "shell.execute_reply": "2024-09-07T15:08:11.342722Z"
    },
    "papermill": {
     "duration": 0.020852,
     "end_time": "2024-09-07T15:08:11.345513",
     "exception": false,
     "start_time": "2024-09-07T15:08:11.324661",
     "status": "completed"
    },
    "tags": []
   },
   "outputs": [],
   "source": [
    "# Reference: https://www.kaggle.com/code/greysky/isic-2024-only-tabular-data\n",
    "num_cols = [\n",
    "    'age_approx', 'clin_size_long_diam_mm', 'tbp_lv_A', 'tbp_lv_Aext', 'tbp_lv_B', 'tbp_lv_Bext',\n",
    "    'tbp_lv_C', 'tbp_lv_Cext', 'tbp_lv_H', 'tbp_lv_Hext', 'tbp_lv_L', 'tbp_lv_Lext', 'tbp_lv_areaMM2',\n",
    "    'tbp_lv_area_perim_ratio', 'tbp_lv_color_std_mean', 'tbp_lv_deltaA', 'tbp_lv_deltaB', 'tbp_lv_deltaL',\n",
    "    'tbp_lv_deltaLB', 'tbp_lv_deltaLBnorm', 'tbp_lv_eccentricity', 'tbp_lv_minorAxisMM', 'tbp_lv_nevi_confidence',\n",
    "    'tbp_lv_norm_border', 'tbp_lv_norm_color', 'tbp_lv_perimeterMM', 'tbp_lv_radial_color_std_max', 'tbp_lv_stdL',\n",
    "    'tbp_lv_stdLExt', 'tbp_lv_symm_2axis', 'tbp_lv_symm_2axis_angle', 'tbp_lv_x', 'tbp_lv_y', 'tbp_lv_z'\n",
    "]\n",
    "\n",
    "new_num_cols = [\n",
    "    'lesion_size_ratio', 'lesion_shape_index', 'hue_contrast', 'luminance_contrast', 'lesion_color_difference',\n",
    "    'border_complexity', 'color_uniformity', 'position_distance_3d', 'perimeter_to_area_ratio', 'area_to_perimeter_ratio',\n",
    "    'lesion_visibility_score', 'symmetry_border_consistency', 'consistency_symmetry_border', 'color_consistency',\n",
    "    'consistency_color', 'size_age_interaction', 'hue_color_std_interaction', 'lesion_severity_index', 'shape_complexity_index',\n",
    "    'color_contrast_index', 'log_lesion_area', 'normalized_lesion_size', 'mean_hue_difference', 'std_dev_contrast',\n",
    "    'color_shape_composite_index', 'lesion_orientation_3d', 'overall_color_difference', 'symmetry_perimeter_interaction',\n",
    "    'comprehensive_lesion_index', 'color_variance_ratio', 'border_color_interaction', 'border_color_interaction_2',\n",
    "    'size_color_contrast_ratio', 'age_normalized_nevi_confidence', 'age_normalized_nevi_confidence_2', 'color_asymmetry_index',\n",
    "    'volume_approximation_3d', 'color_range', 'shape_color_consistency', 'border_length_ratio', 'age_size_symmetry_index',\n",
    "    'index_age_size_symmetry'\n",
    "]\n",
    "\n",
    "cat_cols = [\n",
    "    'sex', 'anatom_site_general', 'tbp_tile_type',\n",
    "    'tbp_lv_location', 'tbp_lv_location_simple', 'attribution'\n",
    "]\n",
    "\n",
    "image_cols = [\n",
    "    CFG.resnet_model_name,\n",
    "    CFG.swin_model_name,\n",
    "]\n",
    "\n",
    "norm_cols = [f'{col}_patient_norm' for col in num_cols + new_num_cols]\n",
    "special_cols = ['count_per_patient']\n",
    "feature_cols = num_cols + new_num_cols + cat_cols + norm_cols + special_cols + image_cols"
   ]
  },
  {
   "cell_type": "code",
   "execution_count": 5,
   "id": "e6b323ab",
   "metadata": {
    "execution": {
     "iopub.execute_input": "2024-09-07T15:08:11.365072Z",
     "iopub.status.busy": "2024-09-07T15:08:11.364716Z",
     "iopub.status.idle": "2024-09-07T15:08:11.391445Z",
     "shell.execute_reply": "2024-09-07T15:08:11.390560Z"
    },
    "papermill": {
     "duration": 0.039306,
     "end_time": "2024-09-07T15:08:11.393287",
     "exception": false,
     "start_time": "2024-09-07T15:08:11.353981",
     "status": "completed"
    },
    "tags": []
   },
   "outputs": [],
   "source": [
    "# Reference: https://www.kaggle.com/code/greysky/isic-2024-only-tabular-data\n",
    "def read_data(path):\n",
    "    return (\n",
    "        pl.read_csv(path)\n",
    "        .with_columns(\n",
    "            pl.col('age_approx').cast(pl.String).replace('NA', np.nan).cast(pl.Float64),\n",
    "        )\n",
    "        .with_columns(\n",
    "            pl.col(pl.Float64).fill_nan(pl.col(pl.Float64).median()),\n",
    "        )\n",
    "        .with_columns(\n",
    "            lesion_size_ratio=pl.col('tbp_lv_minorAxisMM') / pl.col('clin_size_long_diam_mm'),\n",
    "            lesion_shape_index=pl.col('tbp_lv_areaMM2') / (pl.col('tbp_lv_perimeterMM') ** 2),\n",
    "            hue_contrast=(pl.col('tbp_lv_H') - pl.col('tbp_lv_Hext')).abs(),\n",
    "            luminance_contrast=(pl.col('tbp_lv_L') - pl.col('tbp_lv_Lext')).abs(),\n",
    "            lesion_color_difference=(pl.col('tbp_lv_deltaA') ** 2 + pl.col('tbp_lv_deltaB') ** 2 + pl.col('tbp_lv_deltaL') ** 2).sqrt(),\n",
    "            border_complexity=pl.col('tbp_lv_norm_border') + pl.col('tbp_lv_symm_2axis'),\n",
    "            color_uniformity=pl.col('tbp_lv_color_std_mean') / (pl.col('tbp_lv_radial_color_std_max') + 1e-5),\n",
    "        )\n",
    "        .with_columns(\n",
    "            position_distance_3d=(pl.col('tbp_lv_x') ** 2 + pl.col('tbp_lv_y') ** 2 + pl.col('tbp_lv_z') ** 2).sqrt(),\n",
    "            perimeter_to_area_ratio=pl.col('tbp_lv_perimeterMM') / pl.col('tbp_lv_areaMM2'),\n",
    "            area_to_perimeter_ratio=pl.col('tbp_lv_areaMM2') / pl.col('tbp_lv_perimeterMM'),\n",
    "            lesion_visibility_score=pl.col('tbp_lv_deltaLBnorm') + pl.col('tbp_lv_norm_color'),\n",
    "            combined_anatomical_site=pl.col('anatom_site_general') + '_' + pl.col('tbp_lv_location'),\n",
    "            symmetry_border_consistency=pl.col('tbp_lv_symm_2axis') * pl.col('tbp_lv_norm_border'),\n",
    "            consistency_symmetry_border=pl.col('tbp_lv_symm_2axis') * pl.col('tbp_lv_norm_border') / (pl.col('tbp_lv_symm_2axis') + pl.col('tbp_lv_norm_border')),\n",
    "        )\n",
    "        .with_columns(\n",
    "            color_consistency=pl.col('tbp_lv_stdL') / pl.col('tbp_lv_Lext'),\n",
    "            consistency_color=pl.col('tbp_lv_stdL') * pl.col('tbp_lv_Lext') / (pl.col('tbp_lv_stdL') + pl.col('tbp_lv_Lext')),\n",
    "            size_age_interaction=pl.col('clin_size_long_diam_mm') * pl.col('age_approx'),\n",
    "            hue_color_std_interaction=pl.col('tbp_lv_H') * pl.col('tbp_lv_color_std_mean'),\n",
    "            lesion_severity_index=(pl.col('tbp_lv_norm_border') + pl.col('tbp_lv_norm_color') + pl.col('tbp_lv_eccentricity')) / 3,\n",
    "            shape_complexity_index=pl.col('border_complexity') + pl.col('lesion_shape_index'),\n",
    "            color_contrast_index=pl.col('tbp_lv_deltaA') + pl.col('tbp_lv_deltaB') + pl.col('tbp_lv_deltaL') + pl.col('tbp_lv_deltaLBnorm'),\n",
    "        )\n",
    "        .with_columns(\n",
    "            log_lesion_area=(pl.col('tbp_lv_areaMM2') + 1).log(),\n",
    "            normalized_lesion_size=pl.col('clin_size_long_diam_mm') / pl.col('age_approx'),\n",
    "            mean_hue_difference=(pl.col('tbp_lv_H') + pl.col('tbp_lv_Hext')) / 2,\n",
    "            std_dev_contrast=((pl.col('tbp_lv_deltaA') ** 2 + pl.col('tbp_lv_deltaB') ** 2 + pl.col('tbp_lv_deltaL') ** 2) / 3).sqrt(),\n",
    "            color_shape_composite_index=(pl.col('tbp_lv_color_std_mean') + pl.col('tbp_lv_area_perim_ratio') + pl.col('tbp_lv_symm_2axis')) / 3,\n",
    "            lesion_orientation_3d=pl.arctan2(pl.col('tbp_lv_y'), pl.col('tbp_lv_x')),\n",
    "            overall_color_difference=(pl.col('tbp_lv_deltaA') + pl.col('tbp_lv_deltaB') + pl.col('tbp_lv_deltaL')) / 3,\n",
    "        )\n",
    "        .with_columns(\n",
    "            symmetry_perimeter_interaction=pl.col('tbp_lv_symm_2axis') * pl.col('tbp_lv_perimeterMM'),\n",
    "            comprehensive_lesion_index=(pl.col('tbp_lv_area_perim_ratio') + pl.col('tbp_lv_eccentricity') + pl.col('tbp_lv_norm_color') + pl.col('tbp_lv_symm_2axis')) / 4,\n",
    "            color_variance_ratio=pl.col('tbp_lv_color_std_mean') / pl.col('tbp_lv_stdLExt'),\n",
    "            border_color_interaction=pl.col('tbp_lv_norm_border') * pl.col('tbp_lv_norm_color'),\n",
    "            border_color_interaction_2=pl.col('tbp_lv_norm_border') * pl.col('tbp_lv_norm_color') / (pl.col('tbp_lv_norm_border') + pl.col('tbp_lv_norm_color')),\n",
    "            size_color_contrast_ratio=pl.col('clin_size_long_diam_mm') / pl.col('tbp_lv_deltaLBnorm'),\n",
    "            age_normalized_nevi_confidence=pl.col('tbp_lv_nevi_confidence') / pl.col('age_approx'),\n",
    "            age_normalized_nevi_confidence_2=(pl.col('clin_size_long_diam_mm')**2 + pl.col('age_approx')**2).sqrt(),\n",
    "            color_asymmetry_index=pl.col('tbp_lv_radial_color_std_max') * pl.col('tbp_lv_symm_2axis'),\n",
    "        )\n",
    "        .with_columns(\n",
    "            volume_approximation_3d=pl.col('tbp_lv_areaMM2') * (pl.col('tbp_lv_x')**2 + pl.col('tbp_lv_y')**2 + pl.col('tbp_lv_z')**2).sqrt(),\n",
    "            color_range=(pl.col('tbp_lv_L') - pl.col('tbp_lv_Lext')).abs() + (pl.col('tbp_lv_A') - pl.col('tbp_lv_Aext')).abs() + (pl.col('tbp_lv_B') - pl.col('tbp_lv_Bext')).abs(),\n",
    "            shape_color_consistency=pl.col('tbp_lv_eccentricity') * pl.col('tbp_lv_color_std_mean'),\n",
    "            border_length_ratio=pl.col('tbp_lv_perimeterMM') / (2 * np.pi * (pl.col('tbp_lv_areaMM2') / np.pi).sqrt()),\n",
    "            age_size_symmetry_index=pl.col('age_approx') * pl.col('clin_size_long_diam_mm') * pl.col('tbp_lv_symm_2axis'),\n",
    "            index_age_size_symmetry=pl.col('age_approx') * pl.col('tbp_lv_areaMM2') * pl.col('tbp_lv_symm_2axis'),\n",
    "        )\n",
    "        .with_columns(\n",
    "            ((pl.col(col) - pl.col(col).mean().over('patient_id')) / (pl.col(col).std().over('patient_id') + 1e-5)).alias(f'{col}_patient_norm') for col in (num_cols + new_num_cols)\n",
    "        )\n",
    "        .with_columns(\n",
    "            count_per_patient=pl.col('isic_id').count().over('patient_id'),\n",
    "        )\n",
    "        .with_columns(\n",
    "            pl.col(cat_cols).cast(pl.Categorical),\n",
    "        )\n",
    "        .to_pandas()\n",
    "        .set_index('isic_id')\n",
    "    )"
   ]
  },
  {
   "cell_type": "code",
   "execution_count": 6,
   "id": "d089110f",
   "metadata": {
    "execution": {
     "iopub.execute_input": "2024-09-07T15:08:11.411968Z",
     "iopub.status.busy": "2024-09-07T15:08:11.411645Z",
     "iopub.status.idle": "2024-09-07T15:08:11.417999Z",
     "shell.execute_reply": "2024-09-07T15:08:11.417058Z"
    },
    "papermill": {
     "duration": 0.017926,
     "end_time": "2024-09-07T15:08:11.419924",
     "exception": false,
     "start_time": "2024-09-07T15:08:11.401998",
     "status": "completed"
    },
    "tags": []
   },
   "outputs": [],
   "source": [
    "# Reference: https://www.kaggle.com/code/greysky/isic-2024-only-tabular-data\n",
    "def preprocess(df_train, df_test, cat_cols):\n",
    "    encoder = OneHotEncoder(sparse_output=False, dtype=np.int32, handle_unknown='ignore')\n",
    "    encoder.fit(df_train[cat_cols])\n",
    "\n",
    "    ohe_cols = [f'onehot_{i}' for i in range(len(encoder.get_feature_names_out()))]\n",
    "\n",
    "    df_train[ohe_cols] = encoder.transform(df_train[cat_cols])\n",
    "    df_test[ohe_cols] = encoder.transform(df_test[cat_cols])\n",
    "\n",
    "    for col in cat_cols:\n",
    "        feature_cols.remove(col)\n",
    "\n",
    "    feature_cols.extend(ohe_cols)\n",
    "\n",
    "    return df_train, df_test"
   ]
  },
  {
   "cell_type": "code",
   "execution_count": 7,
   "id": "a591ddfc",
   "metadata": {
    "execution": {
     "iopub.execute_input": "2024-09-07T15:08:11.438028Z",
     "iopub.status.busy": "2024-09-07T15:08:11.437722Z",
     "iopub.status.idle": "2024-09-07T15:08:17.733946Z",
     "shell.execute_reply": "2024-09-07T15:08:17.732946Z"
    },
    "papermill": {
     "duration": 6.308372,
     "end_time": "2024-09-07T15:08:17.736724",
     "exception": false,
     "start_time": "2024-09-07T15:08:11.428352",
     "status": "completed"
    },
    "tags": []
   },
   "outputs": [],
   "source": [
    "train = read_data(CFG.train_path)\n",
    "test = read_data(CFG.test_path)\n",
    "train, test = preprocess(train, test, cat_cols)"
   ]
  },
  {
   "cell_type": "code",
   "execution_count": 8,
   "id": "1a43cab6",
   "metadata": {
    "execution": {
     "iopub.execute_input": "2024-09-07T15:08:17.756730Z",
     "iopub.status.busy": "2024-09-07T15:08:17.756307Z",
     "iopub.status.idle": "2024-09-07T15:08:18.072446Z",
     "shell.execute_reply": "2024-09-07T15:08:18.071646Z"
    },
    "papermill": {
     "duration": 0.328367,
     "end_time": "2024-09-07T15:08:18.074697",
     "exception": false,
     "start_time": "2024-09-07T15:08:17.746330",
     "status": "completed"
    },
    "tags": []
   },
   "outputs": [],
   "source": [
    "# Reference: https://www.kaggle.com/code/murashow/tabular-with-image-features-lightgbm?scriptVersionId=192586844\n",
    "least_important_features = ['onehot_32', 'onehot_6', 'onehot_33', 'onehot_30', 'onehot_26', 'onehot_22', 'onehot_36', 'onehot_4']\n",
    "train.drop(columns=least_important_features, inplace=True)\n",
    "for feature in least_important_features:\n",
    "    feature_cols.remove(feature)"
   ]
  },
  {
   "cell_type": "markdown",
   "id": "053563ee",
   "metadata": {
    "papermill": {
     "duration": 0.008709,
     "end_time": "2024-09-07T15:08:18.092340",
     "exception": false,
     "start_time": "2024-09-07T15:08:18.083631",
     "status": "completed"
    },
    "tags": []
   },
   "source": [
    "# Adding image model features"
   ]
  },
  {
   "cell_type": "code",
   "execution_count": 9,
   "id": "87d8dbc6",
   "metadata": {
    "execution": {
     "iopub.execute_input": "2024-09-07T15:08:18.111064Z",
     "iopub.status.busy": "2024-09-07T15:08:18.110685Z",
     "iopub.status.idle": "2024-09-07T15:08:18.119364Z",
     "shell.execute_reply": "2024-09-07T15:08:18.118445Z"
    },
    "papermill": {
     "duration": 0.020357,
     "end_time": "2024-09-07T15:08:18.121213",
     "exception": false,
     "start_time": "2024-09-07T15:08:18.100856",
     "status": "completed"
    },
    "tags": []
   },
   "outputs": [],
   "source": [
    "class ISICDataset(Dataset):\n",
    "    def __init__(self, data_path, metadata, transform=None):\n",
    "        self.data = h5py.File(data_path, 'r')\n",
    "        self.metadata = metadata\n",
    "        self.transform = transform\n",
    "\n",
    "    def __len__(self):\n",
    "        return len(self.metadata)\n",
    "\n",
    "    def __getitem__(self, idx):\n",
    "        img_name = self.metadata.iloc[idx]['isic_id']\n",
    "        image = np.array(self.data[img_name])\n",
    "        image = np.array(Image.open(io.BytesIO(image)))\n",
    "        image = cv2.cvtColor(image, cv2.COLOR_BGR2RGB)\n",
    "\n",
    "        if self.transform:\n",
    "            augmented = self.transform(image=image)\n",
    "            image = augmented['image']\n",
    "\n",
    "        if 'target' in self.metadata.columns:\n",
    "            label = int(self.metadata['target'].iloc[idx])\n",
    "            return image, label\n",
    "        else:\n",
    "            return image, 0"
   ]
  },
  {
   "cell_type": "code",
   "execution_count": 10,
   "id": "a6180a46",
   "metadata": {
    "execution": {
     "iopub.execute_input": "2024-09-07T15:08:18.140223Z",
     "iopub.status.busy": "2024-09-07T15:08:18.139670Z",
     "iopub.status.idle": "2024-09-07T15:08:18.144804Z",
     "shell.execute_reply": "2024-09-07T15:08:18.143978Z"
    },
    "papermill": {
     "duration": 0.01666,
     "end_time": "2024-09-07T15:08:18.146626",
     "exception": false,
     "start_time": "2024-09-07T15:08:18.129966",
     "status": "completed"
    },
    "tags": []
   },
   "outputs": [],
   "source": [
    "transforms = A.Compose([\n",
    "    A.Resize(CFG.image_size, CFG.image_size),\n",
    "    A.Normalize(\n",
    "        mean=[0.4815, 0.4578, 0.4082],\n",
    "        std=[0.2686, 0.2613, 0.2758],\n",
    "        max_pixel_value=255.0),\n",
    "    ToTensorV2(),\n",
    "])"
   ]
  },
  {
   "cell_type": "code",
   "execution_count": 11,
   "id": "02c40103",
   "metadata": {
    "execution": {
     "iopub.execute_input": "2024-09-07T15:08:18.165799Z",
     "iopub.status.busy": "2024-09-07T15:08:18.165493Z",
     "iopub.status.idle": "2024-09-07T15:08:18.172189Z",
     "shell.execute_reply": "2024-09-07T15:08:18.171361Z"
    },
    "papermill": {
     "duration": 0.018457,
     "end_time": "2024-09-07T15:08:18.174083",
     "exception": false,
     "start_time": "2024-09-07T15:08:18.155626",
     "status": "completed"
    },
    "tags": []
   },
   "outputs": [],
   "source": [
    "class ResNet(nn.Module):\n",
    "    def __init__(self, model_name, pretrained=False):\n",
    "        super(ResNet, self).__init__()\n",
    "        self.model = timm.create_model(model_name, pretrained=pretrained, in_chans=3)\n",
    "        num_features = 1000\n",
    "        self.classifier = nn.Sequential(\n",
    "            nn.Linear(num_features, 512),\n",
    "            nn.BatchNorm1d(512),\n",
    "            nn.ReLU(),\n",
    "            nn.Dropout(0.5),\n",
    "            nn.Linear(512, 1),\n",
    "            nn.Sigmoid()\n",
    "        )\n",
    "\n",
    "    def forward(self, x):\n",
    "        x = self.model(x)\n",
    "        x = self.classifier(x)\n",
    "        return x"
   ]
  },
  {
   "cell_type": "code",
   "execution_count": 12,
   "id": "007b390b",
   "metadata": {
    "execution": {
     "iopub.execute_input": "2024-09-07T15:08:18.192733Z",
     "iopub.status.busy": "2024-09-07T15:08:18.192457Z",
     "iopub.status.idle": "2024-09-07T15:08:18.198999Z",
     "shell.execute_reply": "2024-09-07T15:08:18.198205Z"
    },
    "papermill": {
     "duration": 0.018155,
     "end_time": "2024-09-07T15:08:18.200999",
     "exception": false,
     "start_time": "2024-09-07T15:08:18.182844",
     "status": "completed"
    },
    "tags": []
   },
   "outputs": [],
   "source": [
    "class SwinTransformer(nn.Module):\n",
    "    def __init__(self, model_name, pretrained=False):\n",
    "        super(SwinTransformer, self).__init__()\n",
    "        self.model = timm.create_model(model_name, pretrained=pretrained)\n",
    "        self.model.head = nn.Sequential(\n",
    "            nn.Flatten(),\n",
    "            nn.Linear(self.model.num_features * 7 * 7, 512),\n",
    "            nn.BatchNorm1d(512),\n",
    "            nn.ReLU(),\n",
    "            nn.Dropout(0.5),\n",
    "            nn.Linear(512, 1),\n",
    "            nn.Sigmoid()\n",
    "        )\n",
    "\n",
    "    def forward(self, x):\n",
    "        return self.model(x)"
   ]
  },
  {
   "cell_type": "code",
   "execution_count": 13,
   "id": "1687ae6d",
   "metadata": {
    "execution": {
     "iopub.execute_input": "2024-09-07T15:08:18.220786Z",
     "iopub.status.busy": "2024-09-07T15:08:18.220234Z",
     "iopub.status.idle": "2024-09-07T15:08:18.227604Z",
     "shell.execute_reply": "2024-09-07T15:08:18.226715Z"
    },
    "papermill": {
     "duration": 0.019346,
     "end_time": "2024-09-07T15:08:18.229503",
     "exception": false,
     "start_time": "2024-09-07T15:08:18.210157",
     "status": "completed"
    },
    "tags": []
   },
   "outputs": [],
   "source": [
    "class Trainer:\n",
    "    def __init__(self, device, model, test_dataloader, checkpoint_path):\n",
    "        self.device = device\n",
    "        self.model = model\n",
    "        self.test_dataloader = test_dataloader\n",
    "        self.checkpoint_path = checkpoint_path\n",
    "\n",
    "    def predict(self):\n",
    "        self.model.load_state_dict(torch.load(self.checkpoint_path))\n",
    "        self.model.eval()\n",
    "\n",
    "        preds = []\n",
    "        with torch.no_grad():\n",
    "            loop = tqdm(self.test_dataloader, total=len(self.test_dataloader))\n",
    "            for batch in loop:\n",
    "                x, _ = batch\n",
    "                x = x.to(self.device)\n",
    "                y_hat = self.model(x).squeeze()\n",
    "                preds.extend(y_hat.detach().cpu().numpy())\n",
    "                loop.set_description(f'Prediction')\n",
    "\n",
    "        return preds"
   ]
  },
  {
   "cell_type": "code",
   "execution_count": 14,
   "id": "ab949ae5",
   "metadata": {
    "execution": {
     "iopub.execute_input": "2024-09-07T15:08:18.249347Z",
     "iopub.status.busy": "2024-09-07T15:08:18.248747Z",
     "iopub.status.idle": "2024-09-07T15:08:18.255821Z",
     "shell.execute_reply": "2024-09-07T15:08:18.255015Z"
    },
    "papermill": {
     "duration": 0.019246,
     "end_time": "2024-09-07T15:08:18.257746",
     "exception": false,
     "start_time": "2024-09-07T15:08:18.238500",
     "status": "completed"
    },
    "tags": []
   },
   "outputs": [],
   "source": [
    "def get_image_test_preds(model, checkpoint_path, checkpoints):\n",
    "    test_metadata = pd.read_csv(CFG.test_path)\n",
    "    test_preds = []\n",
    "\n",
    "    for i in range(len(checkpoints)):\n",
    "        test_dataset = ISICDataset(CFG.test_img_path, test_metadata, transforms)\n",
    "        test_dataloader = DataLoader(test_dataset, batch_size=CFG.val_batch_size, shuffle=False, num_workers=4)\n",
    "        \n",
    "        _model = model.to(CFG.device)\n",
    "        \n",
    "        trainer = Trainer(\n",
    "            device=CFG.device,\n",
    "            model=_model,\n",
    "            test_dataloader=test_dataloader,\n",
    "            checkpoint_path=checkpoint_path + checkpoints[i]\n",
    "        )\n",
    "\n",
    "        preds = trainer.predict()\n",
    "        test_preds.append(preds)\n",
    "\n",
    "        del test_dataset, test_dataloader, _model, trainer\n",
    "        gc.collect()\n",
    "        torch.cuda.empty_cache()\n",
    "\n",
    "    return test_preds"
   ]
  },
  {
   "cell_type": "code",
   "execution_count": 15,
   "id": "a29cc31f",
   "metadata": {
    "execution": {
     "iopub.execute_input": "2024-09-07T15:08:18.276938Z",
     "iopub.status.busy": "2024-09-07T15:08:18.276666Z",
     "iopub.status.idle": "2024-09-07T15:08:21.258444Z",
     "shell.execute_reply": "2024-09-07T15:08:21.257626Z"
    },
    "papermill": {
     "duration": 2.993937,
     "end_time": "2024-09-07T15:08:21.260776",
     "exception": false,
     "start_time": "2024-09-07T15:08:18.266839",
     "status": "completed"
    },
    "tags": []
   },
   "outputs": [],
   "source": [
    "resnet_oof_pred_probs = pd.read_csv(CFG.resnet_oof_path, index_col='isic_id')[[CFG.resnet_model_name]]\n",
    "swin_oof_pred_probs = pd.read_csv(CFG.swin_oof_path, index_col='isic_id')[[CFG.swin_model_name]]\n",
    "\n",
    "train = pd.merge(train, resnet_oof_pred_probs, left_index=True, right_index=True, how=\"left\")\n",
    "train = pd.merge(train, swin_oof_pred_probs, left_index=True, right_index=True, how=\"left\")"
   ]
  },
  {
   "cell_type": "code",
   "execution_count": 16,
   "id": "7e2f07be",
   "metadata": {
    "execution": {
     "iopub.execute_input": "2024-09-07T15:08:21.281199Z",
     "iopub.status.busy": "2024-09-07T15:08:21.280628Z",
     "iopub.status.idle": "2024-09-07T15:09:02.180150Z",
     "shell.execute_reply": "2024-09-07T15:09:02.179177Z"
    },
    "papermill": {
     "duration": 40.912276,
     "end_time": "2024-09-07T15:09:02.182571",
     "exception": false,
     "start_time": "2024-09-07T15:08:21.270295",
     "status": "completed"
    },
    "tags": []
   },
   "outputs": [
    {
     "name": "stderr",
     "output_type": "stream",
     "text": [
      "Prediction: 100%|██████████| 1/1 [00:01<00:00,  1.05s/it]\n",
      "Prediction: 100%|██████████| 1/1 [00:00<00:00,  5.07it/s]\n",
      "Prediction: 100%|██████████| 1/1 [00:00<00:00,  4.72it/s]\n",
      "Prediction: 100%|██████████| 1/1 [00:00<00:00,  4.90it/s]\n",
      "Prediction: 100%|██████████| 1/1 [00:00<00:00,  4.96it/s]\n",
      "Prediction: 100%|██████████| 1/1 [00:00<00:00,  2.76it/s]\n",
      "Prediction: 100%|██████████| 1/1 [00:00<00:00,  4.09it/s]\n",
      "Prediction: 100%|██████████| 1/1 [00:00<00:00,  4.24it/s]\n",
      "Prediction: 100%|██████████| 1/1 [00:00<00:00,  3.94it/s]\n",
      "Prediction: 100%|██████████| 1/1 [00:00<00:00,  4.21it/s]\n"
     ]
    }
   ],
   "source": [
    "resnet_test_preds = get_image_test_preds(ResNet(CFG.resnet_model_name), CFG.resnet_checkpoint_path, CFG.resnet_checkpoints)\n",
    "swin_test_preds = get_image_test_preds(SwinTransformer(CFG.swin_model_name), CFG.swin_checkpoint_path, CFG.swin_checkpoints)\n",
    "\n",
    "sample_sub = pd.read_csv(CFG.test_path)\n",
    "sample_sub[CFG.resnet_model_name] = np.mean(resnet_test_preds, axis=0)\n",
    "sample_sub[CFG.swin_model_name] = np.mean(swin_test_preds, axis=0)\n",
    "sample_sub = sample_sub[['isic_id', CFG.resnet_model_name, CFG.swin_model_name]].set_index('isic_id')\n",
    "test = pd.merge(test, sample_sub, left_index=True, right_index=True)"
   ]
  },
  {
   "cell_type": "code",
   "execution_count": 17,
   "id": "fdf3623e",
   "metadata": {
    "execution": {
     "iopub.execute_input": "2024-09-07T15:09:02.212568Z",
     "iopub.status.busy": "2024-09-07T15:09:02.211728Z",
     "iopub.status.idle": "2024-09-07T15:09:02.631811Z",
     "shell.execute_reply": "2024-09-07T15:09:02.630896Z"
    },
    "papermill": {
     "duration": 0.43719,
     "end_time": "2024-09-07T15:09:02.634156",
     "exception": false,
     "start_time": "2024-09-07T15:09:02.196966",
     "status": "completed"
    },
    "tags": []
   },
   "outputs": [],
   "source": [
    "X = train.drop(CFG.target, axis=1)[feature_cols]\n",
    "y = train[CFG.target]\n",
    "\n",
    "X_test = test[feature_cols]\n",
    "\n",
    "groups = train['patient_id']"
   ]
  },
  {
   "cell_type": "markdown",
   "id": "1b5e4e6a",
   "metadata": {
    "papermill": {
     "duration": 0.012997,
     "end_time": "2024-09-07T15:09:02.660583",
     "exception": false,
     "start_time": "2024-09-07T15:09:02.647586",
     "status": "completed"
    },
    "tags": []
   },
   "source": [
    "# Training base models"
   ]
  },
  {
   "cell_type": "code",
   "execution_count": 18,
   "id": "cee8b76e",
   "metadata": {
    "execution": {
     "iopub.execute_input": "2024-09-07T15:09:02.688309Z",
     "iopub.status.busy": "2024-09-07T15:09:02.687689Z",
     "iopub.status.idle": "2024-09-07T15:09:02.695907Z",
     "shell.execute_reply": "2024-09-07T15:09:02.695059Z"
    },
    "papermill": {
     "duration": 0.024193,
     "end_time": "2024-09-07T15:09:02.697761",
     "exception": false,
     "start_time": "2024-09-07T15:09:02.673568",
     "status": "completed"
    },
    "tags": []
   },
   "outputs": [],
   "source": [
    "def p_roc_auc_score(y_true, y_pred):\n",
    "    min_tpr = 0.80\n",
    "    v_gt = abs(np.asarray(y_true) - 1)\n",
    "    v_pred = -1.0*np.asarray(y_pred)\n",
    "    max_fpr = abs(1-min_tpr)\n",
    "    fpr, tpr, _ = roc_curve(v_gt, v_pred, sample_weight=None)\n",
    "    if max_fpr is None or max_fpr == 1:\n",
    "        return auc(fpr, tpr)\n",
    "    if max_fpr <= 0 or max_fpr > 1:\n",
    "        raise ValueError('Expected min_tpr in range [0, 1), got: %r' % min_tpr)\n",
    "\n",
    "    stop = np.searchsorted(fpr, max_fpr, 'right')\n",
    "    x_interp = [fpr[stop - 1], fpr[stop]]\n",
    "    y_interp = [tpr[stop - 1], tpr[stop]]\n",
    "    tpr = np.append(tpr[:stop], np.interp(max_fpr, x_interp, y_interp))\n",
    "    fpr = np.append(fpr[:stop], max_fpr)\n",
    "    partial_auc = auc(fpr, tpr)\n",
    "\n",
    "    return partial_auc"
   ]
  },
  {
   "cell_type": "code",
   "execution_count": 19,
   "id": "6a91fc4c",
   "metadata": {
    "execution": {
     "iopub.execute_input": "2024-09-07T15:09:02.725355Z",
     "iopub.status.busy": "2024-09-07T15:09:02.725027Z",
     "iopub.status.idle": "2024-09-07T15:09:02.736561Z",
     "shell.execute_reply": "2024-09-07T15:09:02.735684Z"
    },
    "papermill": {
     "duration": 0.027517,
     "end_time": "2024-09-07T15:09:02.738444",
     "exception": false,
     "start_time": "2024-09-07T15:09:02.710927",
     "status": "completed"
    },
    "tags": []
   },
   "outputs": [],
   "source": [
    "class Trainer:\n",
    "    def __init__(self, model, n_folds=CFG.n_folds):\n",
    "        self.model = model\n",
    "        self.n_folds = n_folds\n",
    "\n",
    "    def fit_predict(self, X, y, X_test):\n",
    "        print(f'Training {self.model.__class__.__name__}\\n')\n",
    "\n",
    "        scores = []\n",
    "        coeffs = np.zeros((1, X.shape[1]))\n",
    "        oof_pred_probs = np.zeros((X.shape[0], len(np.unique(y))))\n",
    "        test_pred_probs = np.zeros((X_test.shape[0], len(np.unique(y))))\n",
    "\n",
    "        split = StratifiedGroupKFold(n_splits=self.n_folds, random_state=CFG.seed, shuffle=True).split(X, y, groups=groups)    \n",
    "        for fold_idx, (train_idx, val_idx) in enumerate(split):\n",
    "            X_train, X_val = X.iloc[train_idx], X.iloc[val_idx]\n",
    "            y_train, y_val = y[train_idx], y[val_idx]\n",
    "\n",
    "            model = clone(self.model)\n",
    "            model.fit(X_train, y_train)\n",
    "            \n",
    "            if isinstance(model, LogisticRegression):\n",
    "                n_iter = model.n_iter_\n",
    "                coeffs += model.coef_ / self.n_folds\n",
    "\n",
    "            y_pred_probs = model.predict_proba(X_val)\n",
    "            oof_pred_probs[val_idx] = y_pred_probs\n",
    "\n",
    "            temp_test_pred_probs = model.predict_proba(X_test)\n",
    "            test_pred_probs += temp_test_pred_probs / self.n_folds\n",
    "\n",
    "            score = p_roc_auc_score(y_val, y_pred_probs[:, 1])\n",
    "            scores.append(score)\n",
    "\n",
    "            del model\n",
    "            gc.collect()\n",
    "\n",
    "            if isinstance(self.model, LogisticRegression):\n",
    "                print(f'--- Fold {fold_idx + 1} - pAUC: {score:.6f} (iterations: {n_iter[0]})')\n",
    "            else:\n",
    "                print(f'--- Fold {fold_idx + 1} - pAUC: {score:.6f}')\n",
    "\n",
    "        print(f'\\n\\n------ pAUC: {np.mean(scores):.6f} ± {np.std(scores):.6f}')\n",
    "\n",
    "        return oof_pred_probs[:, 1], test_pred_probs[:, 1], scores, coeffs"
   ]
  },
  {
   "cell_type": "code",
   "execution_count": 20,
   "id": "6a42708e",
   "metadata": {
    "_kg_hide-input": true,
    "execution": {
     "iopub.execute_input": "2024-09-07T15:09:02.765865Z",
     "iopub.status.busy": "2024-09-07T15:09:02.765568Z",
     "iopub.status.idle": "2024-09-07T15:09:02.773792Z",
     "shell.execute_reply": "2024-09-07T15:09:02.772808Z"
    },
    "papermill": {
     "duration": 0.024178,
     "end_time": "2024-09-07T15:09:02.775704",
     "exception": false,
     "start_time": "2024-09-07T15:09:02.751526",
     "status": "completed"
    },
    "tags": []
   },
   "outputs": [],
   "source": [
    "lgbm_params = {\n",
    "    'bagging_fraction': 0.3465000550081851,\n",
    "    'bagging_freq': 8,\n",
    "    'colsample_bynode': 0.4167820599704415,\n",
    "    'colsample_bytree': 0.4421463443520458,\n",
    "    'learning_rate': 0.001811692225603902,\n",
    "    'max_depth': 35,\n",
    "    'min_data_in_leaf': 81,\n",
    "    'n_estimators': 863,\n",
    "    'num_leaves': 67,\n",
    "    'random_state': CFG.seed,\n",
    "    'reg_alpha': 7.968656148568324,\n",
    "    'reg_lambda': 9.88332614486686,\n",
    "    'scale_pos_weight': 7.56776875175158,\n",
    "    'verbosity': -1\n",
    "}\n",
    "\n",
    "cb_params = {\n",
    "    'iterations': 342,\n",
    "    'l2_leaf_reg': 8.039344289318391,\n",
    "    'learning_rate': 0.006520436774676923,\n",
    "    'max_depth': 9,\n",
    "    'min_data_in_leaf': 433,\n",
    "    'random_state': CFG.seed,\n",
    "    'random_strength': 0.33854201785212,\n",
    "    'scale_pos_weight': 35.28515757349715,\n",
    "    'verbose': False\n",
    "}\n",
    "\n",
    "xgb_params = {\n",
    "    'alpha': 2.46087333598469,\n",
    "    'colsample_bylevel': 0.4550137505808455,\n",
    "    'colsample_bynode': 0.8906112494040207,\n",
    "    'colsample_bytree': 0.3871006242590642,\n",
    "    'lambda': 7.262864094940608,\n",
    "    'learning_rate': 0.020978075381692652,\n",
    "    'max_depth': 86,\n",
    "    'n_estimators': 693,\n",
    "    'random_state': CFG.seed,\n",
    "    'scale_pos_weight': 12.73805076866774,\n",
    "    'subsample': 0.8094914802673989,\n",
    "    'verbosity': 0\n",
    "}"
   ]
  },
  {
   "cell_type": "code",
   "execution_count": 21,
   "id": "55dbc404",
   "metadata": {
    "execution": {
     "iopub.execute_input": "2024-09-07T15:09:02.804621Z",
     "iopub.status.busy": "2024-09-07T15:09:02.804287Z",
     "iopub.status.idle": "2024-09-07T15:09:02.808486Z",
     "shell.execute_reply": "2024-09-07T15:09:02.807615Z"
    },
    "papermill": {
     "duration": 0.020807,
     "end_time": "2024-09-07T15:09:02.810463",
     "exception": false,
     "start_time": "2024-09-07T15:09:02.789656",
     "status": "completed"
    },
    "tags": []
   },
   "outputs": [],
   "source": [
    "paucs = {}\n",
    "\n",
    "test_pred_probs = {}\n",
    "oof_pred_probs = {}"
   ]
  },
  {
   "cell_type": "code",
   "execution_count": 22,
   "id": "ae753d15",
   "metadata": {
    "execution": {
     "iopub.execute_input": "2024-09-07T15:09:02.838388Z",
     "iopub.status.busy": "2024-09-07T15:09:02.837641Z",
     "iopub.status.idle": "2024-09-07T15:14:02.258116Z",
     "shell.execute_reply": "2024-09-07T15:14:02.257119Z"
    },
    "papermill": {
     "duration": 299.449608,
     "end_time": "2024-09-07T15:14:02.273156",
     "exception": false,
     "start_time": "2024-09-07T15:09:02.823548",
     "status": "completed"
    },
    "tags": []
   },
   "outputs": [
    {
     "name": "stdout",
     "output_type": "stream",
     "text": [
      "Training LGBMClassifier\n",
      "\n",
      "--- Fold 1 - pAUC: 0.160580\n",
      "--- Fold 2 - pAUC: 0.172507\n",
      "--- Fold 3 - pAUC: 0.176409\n",
      "--- Fold 4 - pAUC: 0.174373\n",
      "--- Fold 5 - pAUC: 0.178895\n",
      "\n",
      "\n",
      "------ pAUC: 0.172553 ± 0.006352\n"
     ]
    }
   ],
   "source": [
    "lgbm_model = LGBMClassifier(**lgbm_params)\n",
    "lgbm_trainer = Trainer(lgbm_model)\n",
    "lgbm_oof_pred_probs, lgbm_test_pred_probs, lgbm_scores, _ = lgbm_trainer.fit_predict(X, y, X_test)\n",
    "oof_pred_probs['LightGBM'] = lgbm_oof_pred_probs\n",
    "test_pred_probs['LightGBM'] = lgbm_test_pred_probs\n",
    "paucs['LightGBM'] = lgbm_scores"
   ]
  },
  {
   "cell_type": "code",
   "execution_count": 23,
   "id": "a26fd23d",
   "metadata": {
    "execution": {
     "iopub.execute_input": "2024-09-07T15:14:02.302379Z",
     "iopub.status.busy": "2024-09-07T15:14:02.301713Z",
     "iopub.status.idle": "2024-09-07T15:22:37.409387Z",
     "shell.execute_reply": "2024-09-07T15:22:37.408413Z"
    },
    "papermill": {
     "duration": 515.13849,
     "end_time": "2024-09-07T15:22:37.425293",
     "exception": false,
     "start_time": "2024-09-07T15:14:02.286803",
     "status": "completed"
    },
    "tags": []
   },
   "outputs": [
    {
     "name": "stdout",
     "output_type": "stream",
     "text": [
      "Training CatBoostClassifier\n",
      "\n",
      "--- Fold 1 - pAUC: 0.163279\n",
      "--- Fold 2 - pAUC: 0.180127\n",
      "--- Fold 3 - pAUC: 0.174964\n",
      "--- Fold 4 - pAUC: 0.173076\n",
      "--- Fold 5 - pAUC: 0.185970\n",
      "\n",
      "\n",
      "------ pAUC: 0.175483 ± 0.007570\n"
     ]
    }
   ],
   "source": [
    "cb_model = CatBoostClassifier(**cb_params)\n",
    "cb_trainer = Trainer(cb_model)\n",
    "cb_oof_pred_probs, cb_test_pred_probs, cb_scores, _ = cb_trainer.fit_predict(X, y, X_test)\n",
    "oof_pred_probs['CatBoost'] = cb_oof_pred_probs\n",
    "test_pred_probs['CatBoost'] = cb_test_pred_probs\n",
    "paucs['CatBoost'] = cb_scores"
   ]
  },
  {
   "cell_type": "code",
   "execution_count": 24,
   "id": "7101bfd7",
   "metadata": {
    "execution": {
     "iopub.execute_input": "2024-09-07T15:22:37.455556Z",
     "iopub.status.busy": "2024-09-07T15:22:37.454686Z",
     "iopub.status.idle": "2024-09-07T15:34:24.626740Z",
     "shell.execute_reply": "2024-09-07T15:34:24.625793Z"
    },
    "papermill": {
     "duration": 707.204177,
     "end_time": "2024-09-07T15:34:24.643583",
     "exception": false,
     "start_time": "2024-09-07T15:22:37.439406",
     "status": "completed"
    },
    "tags": []
   },
   "outputs": [
    {
     "name": "stdout",
     "output_type": "stream",
     "text": [
      "Training XGBClassifier\n",
      "\n",
      "--- Fold 1 - pAUC: 0.170216\n",
      "--- Fold 2 - pAUC: 0.169767\n",
      "--- Fold 3 - pAUC: 0.175603\n",
      "--- Fold 4 - pAUC: 0.176382\n",
      "--- Fold 5 - pAUC: 0.181127\n",
      "\n",
      "\n",
      "------ pAUC: 0.174619 ± 0.004227\n"
     ]
    }
   ],
   "source": [
    "xgb_model = XGBClassifier(**xgb_params)\n",
    "xgb_trainer = Trainer(xgb_model)\n",
    "xgb_oof_pred_probs, xgb_test_pred_probs, xgb_scores, _ = xgb_trainer.fit_predict(X, y, X_test)\n",
    "oof_pred_probs['XGBoost'] = xgb_oof_pred_probs\n",
    "test_pred_probs['XGBoost'] = xgb_test_pred_probs\n",
    "paucs['XGBoost'] = xgb_scores"
   ]
  },
  {
   "cell_type": "markdown",
   "id": "31ccec51",
   "metadata": {
    "papermill": {
     "duration": 0.014482,
     "end_time": "2024-09-07T15:34:24.672858",
     "exception": false,
     "start_time": "2024-09-07T15:34:24.658376",
     "status": "completed"
    },
    "tags": []
   },
   "source": [
    "# Stacking with logistic regression"
   ]
  },
  {
   "cell_type": "code",
   "execution_count": 25,
   "id": "c34cb058",
   "metadata": {
    "execution": {
     "iopub.execute_input": "2024-09-07T15:34:24.704029Z",
     "iopub.status.busy": "2024-09-07T15:34:24.703661Z",
     "iopub.status.idle": "2024-09-07T15:34:24.921098Z",
     "shell.execute_reply": "2024-09-07T15:34:24.920300Z"
    },
    "papermill": {
     "duration": 0.235502,
     "end_time": "2024-09-07T15:34:24.923445",
     "exception": false,
     "start_time": "2024-09-07T15:34:24.687943",
     "status": "completed"
    },
    "tags": []
   },
   "outputs": [],
   "source": [
    "X = pd.DataFrame(oof_pred_probs).rank(pct=True)\n",
    "X_test = pd.DataFrame(test_pred_probs).rank(pct=True)"
   ]
  },
  {
   "cell_type": "code",
   "execution_count": 26,
   "id": "de15cf4b",
   "metadata": {
    "execution": {
     "iopub.execute_input": "2024-09-07T15:34:24.954874Z",
     "iopub.status.busy": "2024-09-07T15:34:24.954570Z",
     "iopub.status.idle": "2024-09-07T15:34:31.667144Z",
     "shell.execute_reply": "2024-09-07T15:34:31.666175Z"
    },
    "papermill": {
     "duration": 6.730574,
     "end_time": "2024-09-07T15:34:31.669241",
     "exception": false,
     "start_time": "2024-09-07T15:34:24.938667",
     "status": "completed"
    },
    "tags": []
   },
   "outputs": [
    {
     "name": "stdout",
     "output_type": "stream",
     "text": [
      "Training LogisticRegression\n",
      "\n",
      "--- Fold 1 - pAUC: 0.167547 (iterations: 13)\n",
      "--- Fold 2 - pAUC: 0.177272 (iterations: 13)\n",
      "--- Fold 3 - pAUC: 0.178009 (iterations: 13)\n",
      "--- Fold 4 - pAUC: 0.177127 (iterations: 13)\n",
      "--- Fold 5 - pAUC: 0.183489 (iterations: 13)\n",
      "\n",
      "\n",
      "------ pAUC: 0.176689 ± 0.005140\n"
     ]
    }
   ],
   "source": [
    "lr_model = LogisticRegression(max_iter=150, random_state=CFG.seed, solver='liblinear')\n",
    "\n",
    "ensemble_trainer = Trainer(lr_model)\n",
    "ensemble_oof_pred_probs, ensemble_test_pred_probs, ensemble_scores, coeffs = ensemble_trainer.fit_predict(X, y, X_test)\n",
    "paucs['Ensemble'] = ensemble_scores"
   ]
  },
  {
   "cell_type": "code",
   "execution_count": 27,
   "id": "31a164f2",
   "metadata": {
    "execution": {
     "iopub.execute_input": "2024-09-07T15:34:31.702065Z",
     "iopub.status.busy": "2024-09-07T15:34:31.701500Z",
     "iopub.status.idle": "2024-09-07T15:34:31.987733Z",
     "shell.execute_reply": "2024-09-07T15:34:31.986877Z"
    },
    "papermill": {
     "duration": 0.30456,
     "end_time": "2024-09-07T15:34:31.989886",
     "exception": false,
     "start_time": "2024-09-07T15:34:31.685326",
     "status": "completed"
    },
    "tags": []
   },
   "outputs": [
    {
     "data": {
      "image/png": "[encoded data removed]",
      "text/plain": [
       "<Figure size 800x300 with 1 Axes>"
      ]
     },
     "metadata": {},
     "output_type": "display_data"
    }
   ],
   "source": [
    "sorted_indices = np.argsort(coeffs[0])[::-1]\n",
    "sorted_coeffs = np.array(coeffs[0])[sorted_indices]\n",
    "sorted_model_names = np.array(list(oof_pred_probs.keys()))[sorted_indices]\n",
    "\n",
    "plt.figure(figsize=(8, 3))\n",
    "ax = sns.barplot(x=sorted_coeffs, y=sorted_model_names, palette=\"RdYlGn_r\")\n",
    "\n",
    "for i, (value, name) in enumerate(zip(sorted_coeffs, sorted_model_names)):\n",
    "    if value > 0:\n",
    "        ax.text(value, i, f'{value:.3f}', va='center', ha='left', color='black')\n",
    "    else:\n",
    "        ax.text(value, i, f'{value:.3f}', va='center', ha='right', color='black')\n",
    "\n",
    "xlim = ax.get_xlim()\n",
    "ax.set_xlim(xlim[0] - 0.1 * abs(xlim[0]), xlim[1] + 0.1 * abs(xlim[1]))\n",
    "        \n",
    "plt.title('Model Coefficients')\n",
    "plt.xlabel('')\n",
    "plt.ylabel('')\n",
    "plt.tight_layout()\n",
    "plt.show()"
   ]
  },
  {
   "cell_type": "markdown",
   "id": "971e6871",
   "metadata": {
    "papermill": {
     "duration": 0.015526,
     "end_time": "2024-09-07T15:34:32.021303",
     "exception": false,
     "start_time": "2024-09-07T15:34:32.005777",
     "status": "completed"
    },
    "tags": []
   },
   "source": [
    "# Visualizing the results"
   ]
  },
  {
   "cell_type": "code",
   "execution_count": 28,
   "id": "bc520204",
   "metadata": {
    "execution": {
     "iopub.execute_input": "2024-09-07T15:34:32.054627Z",
     "iopub.status.busy": "2024-09-07T15:34:32.054003Z",
     "iopub.status.idle": "2024-09-07T15:34:32.836246Z",
     "shell.execute_reply": "2024-09-07T15:34:32.835269Z"
    },
    "papermill": {
     "duration": 0.801645,
     "end_time": "2024-09-07T15:34:32.838639",
     "exception": false,
     "start_time": "2024-09-07T15:34:32.036994",
     "status": "completed"
    },
    "tags": []
   },
   "outputs": [
    {
     "data": {
      "image/png": "[encoded data removed]",
      "text/plain": [
       "<Figure size 1400x700 with 2 Axes>"
      ]
     },
     "metadata": {},
     "output_type": "display_data"
    }
   ],
   "source": [
    "fig, axes = plt.subplots(nrows=1, ncols=2, figsize=(14, 7))\n",
    "\n",
    "fpr, tpr, thresholds = roc_curve(y, ensemble_oof_pred_probs)\n",
    "axes[0].plot(fpr, tpr)\n",
    "axes[0].plot([0, 1], [0, 1], color='black', linestyle='--')\n",
    "axes[0].fill_between(fpr, tpr, 0.8, where=(tpr >= 0.8), alpha=0.4, label=f'pAUC: {np.mean(ensemble_scores):.6f}')\n",
    "axes[0].axhline(y=0.8, color='black', linestyle='--')\n",
    "axes[0].set_xlabel('False Positive Rate')\n",
    "axes[0].set_ylabel('True Positive Rate')\n",
    "axes[0].legend()\n",
    "axes[0].grid(True)\n",
    "axes[0].set_aspect('equal', adjustable='box')\n",
    "\n",
    "specificity = 1 - fpr\n",
    "threshold_index = np.where(specificity >= 0.80)[0][-1]\n",
    "optimal_threshold = thresholds[threshold_index]\n",
    "\n",
    "y_pred = (ensemble_oof_pred_probs >= optimal_threshold).astype(int)\n",
    "cm = confusion_matrix(y, y_pred)\n",
    "sns.heatmap(\n",
    "    cm, \n",
    "    annot=True, \n",
    "    fmt=',', \n",
    "    ax=axes[1], \n",
    "    cbar=False,\n",
    "    cmap=sns.light_palette(sns.color_palette()[0], reverse=False, as_cmap=True), \n",
    ")\n",
    "axes[1].set_xlabel('Predicted')\n",
    "axes[1].set_ylabel('Actual')\n",
    "axes[1].set_aspect('equal', adjustable='box')\n",
    "\n",
    "plt.tight_layout()\n",
    "plt.show()"
   ]
  },
  {
   "cell_type": "code",
   "execution_count": 29,
   "id": "d4e76d64",
   "metadata": {
    "execution": {
     "iopub.execute_input": "2024-09-07T15:34:32.873940Z",
     "iopub.status.busy": "2024-09-07T15:34:32.873230Z",
     "iopub.status.idle": "2024-09-07T15:34:33.335883Z",
     "shell.execute_reply": "2024-09-07T15:34:33.334936Z"
    },
    "papermill": {
     "duration": 0.482093,
     "end_time": "2024-09-07T15:34:33.337848",
     "exception": false,
     "start_time": "2024-09-07T15:34:32.855755",
     "status": "completed"
    },
    "tags": []
   },
   "outputs": [
    {
     "data": {
      "image/png": "[encoded data removed]",
      "text/plain": [
       "<Figure size 1500x500 with 2 Axes>"
      ]
     },
     "metadata": {},
     "output_type": "display_data"
    }
   ],
   "source": [
    "paucs = pd.DataFrame(paucs)\n",
    "mean_paucs = paucs.mean().sort_values(ascending=False)\n",
    "order = paucs.mean().sort_values(ascending=False).index.tolist()\n",
    "\n",
    "min_pauc = mean_paucs.min()\n",
    "max_pauc = mean_paucs.max()\n",
    "padding = (max_pauc - min_pauc) * 0.1\n",
    "lower_limit = min_pauc - padding\n",
    "upper_limit = max_pauc + padding\n",
    "\n",
    "fig, axs = plt.subplots(1, 2, figsize=(15, 5))\n",
    "\n",
    "sns.boxplot(data=paucs, order=order, ax=axs[0], orient='h', palette=\"RdYlGn_r\")\n",
    "axs[0].set_title('Fold pAUC')\n",
    "axs[0].set_xlabel('')\n",
    "axs[0].set_ylabel('')\n",
    "\n",
    "barplot = sns.barplot(x=mean_paucs.values, y=mean_paucs.index, ax=axs[1], palette=\"RdYlGn_r\")\n",
    "axs[1].set_title('Average pAUC')\n",
    "axs[1].set_xlabel('')\n",
    "axs[1].set_xlim(left=lower_limit, right=upper_limit)\n",
    "axs[1].set_ylabel('')\n",
    "\n",
    "for i, score in enumerate(mean_paucs.values):\n",
    "    barplot.text(score, i, round(score, 4), va='center')\n",
    "\n",
    "plt.tight_layout()\n",
    "plt.show()"
   ]
  },
  {
   "cell_type": "markdown",
   "id": "891b7b21",
   "metadata": {
    "papermill": {
     "duration": 0.016708,
     "end_time": "2024-09-07T15:34:33.371743",
     "exception": false,
     "start_time": "2024-09-07T15:34:33.355035",
     "status": "completed"
    },
    "tags": []
   },
   "source": [
    "# Submission"
   ]
  },
  {
   "cell_type": "code",
   "execution_count": 30,
   "id": "0c205713",
   "metadata": {
    "execution": {
     "iopub.execute_input": "2024-09-07T15:34:33.407327Z",
     "iopub.status.busy": "2024-09-07T15:34:33.406509Z",
     "iopub.status.idle": "2024-09-07T15:34:33.435499Z",
     "shell.execute_reply": "2024-09-07T15:34:33.434601Z"
    },
    "papermill": {
     "duration": 0.048928,
     "end_time": "2024-09-07T15:34:33.437439",
     "exception": false,
     "start_time": "2024-09-07T15:34:33.388511",
     "status": "completed"
    },
    "tags": []
   },
   "outputs": [
    {
     "data": {
      "text/html": [
       "<div>\n",
       "<style scoped>\n",
       "    .dataframe tbody tr th:only-of-type {\n",
       "        vertical-align: middle;\n",
       "    }\n",
       "\n",
       "    .dataframe tbody tr th {\n",
       "        vertical-align: top;\n",
       "    }\n",
       "\n",
       "    .dataframe thead th {\n",
       "        text-align: right;\n",
       "    }\n",
       "</style>\n",
       "<table border=\"1\" class=\"dataframe\">\n",
       "  <thead>\n",
       "    <tr style=\"text-align: right;\">\n",
       "      <th></th>\n",
       "      <th>isic_id</th>\n",
       "      <th>target</th>\n",
       "    </tr>\n",
       "  </thead>\n",
       "  <tbody>\n",
       "    <tr>\n",
       "      <th>0</th>\n",
       "      <td>ISIC_0015657</td>\n",
       "      <td>0.013004</td>\n",
       "    </tr>\n",
       "    <tr>\n",
       "      <th>1</th>\n",
       "      <td>ISIC_0015729</td>\n",
       "      <td>0.000006</td>\n",
       "    </tr>\n",
       "    <tr>\n",
       "      <th>2</th>\n",
       "      <td>ISIC_0015740</td>\n",
       "      <td>0.000279</td>\n",
       "    </tr>\n",
       "  </tbody>\n",
       "</table>\n",
       "</div>"
      ],
      "text/plain": [
       "        isic_id    target\n",
       "0  ISIC_0015657  0.013004\n",
       "1  ISIC_0015729  0.000006\n",
       "2  ISIC_0015740  0.000279"
      ]
     },
     "execution_count": 30,
     "metadata": {},
     "output_type": "execute_result"
    }
   ],
   "source": [
    "sub = pd.read_csv(CFG.sample_sub_path)\n",
    "sub['isic_id'] = sub['isic_id']\n",
    "sub[CFG.target] = ensemble_test_pred_probs\n",
    "sub.to_csv('submission.csv', index=False)\n",
    "sub.head()"
   ]
  },
  {
   "cell_type": "code",
   "execution_count": 31,
   "id": "95166431",
   "metadata": {
    "execution": {
     "iopub.execute_input": "2024-09-07T15:34:33.473100Z",
     "iopub.status.busy": "2024-09-07T15:34:33.472772Z",
     "iopub.status.idle": "2024-09-07T15:34:33.477721Z",
     "shell.execute_reply": "2024-09-07T15:34:33.476841Z"
    },
    "papermill": {
     "duration": 0.024853,
     "end_time": "2024-09-07T15:34:33.479599",
     "exception": false,
     "start_time": "2024-09-07T15:34:33.454746",
     "status": "completed"
    },
    "tags": []
   },
   "outputs": [],
   "source": [
    "shutil.rmtree('catboost_info')"
   ]
  }
 ],
 "metadata": {
  "kaggle": {
   "accelerator": "gpu",
   "dataSources": [
    {
     "databundleVersionId": 9094797,
     "sourceId": 63056,
     "sourceType": "competition"
    },
    {
     "sourceId": 194683254,
     "sourceType": "kernelVersion"
    },
    {
     "sourceId": 194683335,
     "sourceType": "kernelVersion"
    }
   ],
   "dockerImageVersionId": 30746,
   "isGpuEnabled": true,
   "isInternetEnabled": false,
   "language": "python",
   "sourceType": "notebook"
  },
  "kernelspec": {
   "display_name": "Python 3",
   "language": "python",
   "name": "python3"
  },
  "language_info": {
   "codemirror_mode": {
    "name": "ipython",
    "version": 3
   },
   "file_extension": ".py",
   "mimetype": "text/x-python",
   "name": "python",
   "nbconvert_exporter": "python",
   "pygments_lexer": "ipython3",
   "version": "3.10.13"
  },
  "papermill": {
   "default_parameters": {},
   "duration": 1600.101896,
   "end_time": "2024-09-07T15:34:35.825366",
   "environment_variables": {},
   "exception": null,
   "input_path": "__notebook__.ipynb",
   "output_path": "__notebook__.ipynb",
   "parameters": {},
   "start_time": "2024-09-07T15:07:55.723470",
   "version": "2.5.0"
  }
 },
 "nbformat": 4,
 "nbformat_minor": 5
}
