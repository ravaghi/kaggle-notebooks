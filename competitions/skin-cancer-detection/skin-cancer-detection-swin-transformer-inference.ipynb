{
 "cells": [
  {
   "cell_type": "markdown",
   "id": "bdfe70f9",
   "metadata": {
    "papermill": {
     "duration": 0.003717,
     "end_time": "2024-08-18T07:10:31.145294",
     "exception": false,
     "start_time": "2024-08-18T07:10:31.141577",
     "status": "completed"
    },
    "tags": []
   },
   "source": [
    "### Training notebook\n",
    "- https://www.kaggle.com/code/ravaghi/skin-cancer-detection-swin-transformer-training"
   ]
  },
  {
   "cell_type": "code",
   "execution_count": 1,
   "id": "5e05dd5b",
   "metadata": {
    "execution": {
     "iopub.execute_input": "2024-08-18T07:10:31.153298Z",
     "iopub.status.busy": "2024-08-18T07:10:31.152993Z",
     "iopub.status.idle": "2024-08-18T07:10:39.686131Z",
     "shell.execute_reply": "2024-08-18T07:10:39.685304Z"
    },
    "id": "mqguadtYvxPn",
    "papermill": {
     "duration": 8.540067,
     "end_time": "2024-08-18T07:10:39.688759",
     "exception": false,
     "start_time": "2024-08-18T07:10:31.148692",
     "status": "completed"
    },
    "tags": []
   },
   "outputs": [],
   "source": [
    "from torch.utils.data import DataLoader, Dataset\n",
    "from albumentations.pytorch import ToTensorV2\n",
    "import torch.nn.functional as F\n",
    "import albumentations as A\n",
    "from tqdm import tqdm\n",
    "from PIL import Image\n",
    "import torch.nn as nn\n",
    "import pandas as pd\n",
    "import numpy as np\n",
    "import warnings\n",
    "import h5py\n",
    "import torch\n",
    "import random\n",
    "import timm\n",
    "import io\n",
    "import os\n",
    "import gc\n",
    "\n",
    "warnings.filterwarnings('ignore')"
   ]
  },
  {
   "cell_type": "code",
   "execution_count": 2,
   "id": "9b493421",
   "metadata": {
    "execution": {
     "iopub.execute_input": "2024-08-18T07:10:39.696940Z",
     "iopub.status.busy": "2024-08-18T07:10:39.696614Z",
     "iopub.status.idle": "2024-08-18T07:10:39.757583Z",
     "shell.execute_reply": "2024-08-18T07:10:39.756695Z"
    },
    "id": "xOBgLd7--v-h",
    "papermill": {
     "duration": 0.067073,
     "end_time": "2024-08-18T07:10:39.759427",
     "exception": false,
     "start_time": "2024-08-18T07:10:39.692354",
     "status": "completed"
    },
    "tags": []
   },
   "outputs": [],
   "source": [
    "class CFG:\n",
    "    test_metadata_path = '/kaggle/input/isic-2024-challenge/test-metadata.csv'\n",
    "    test_img_path = '/kaggle/input/isic-2024-challenge/test-image.hdf5'\n",
    "    sample_sub_path = '/kaggle/input/isic-2024-challenge/sample_submission.csv'\n",
    "    checkpoint_path = '/kaggle/input/skin-cancer-detection-swin-transformer-training/checkpoints/'\n",
    "\n",
    "    checkpoints = [\n",
    "        'fold_0_epoch_9_pauc_0.161594.pth',\n",
    "        'fold_1_epoch_27_pauc_0.167341.pth',\n",
    "        'fold_2_epoch_15_pauc_0.160637.pth',\n",
    "        'fold_3_epoch_17_pauc_0.171427.pth',\n",
    "        'fold_4_epoch_15_pauc_0.156126.pth'\n",
    "    ]\n",
    "\n",
    "    device = torch.device('cuda' if torch.cuda.is_available() else 'cpu')\n",
    "    val_batch_size = 64\n",
    "    n_folds = 5\n",
    "    seed = 35555\n",
    "    model_name = \"swin_base_patch4_window7_224\""
   ]
  },
  {
   "cell_type": "code",
   "execution_count": 3,
   "id": "5635cf7d",
   "metadata": {
    "execution": {
     "iopub.execute_input": "2024-08-18T07:10:39.767398Z",
     "iopub.status.busy": "2024-08-18T07:10:39.767099Z",
     "iopub.status.idle": "2024-08-18T07:10:39.774863Z",
     "shell.execute_reply": "2024-08-18T07:10:39.774003Z"
    },
    "id": "5a6g1bxI-v-i",
    "papermill": {
     "duration": 0.013928,
     "end_time": "2024-08-18T07:10:39.776777",
     "exception": false,
     "start_time": "2024-08-18T07:10:39.762849",
     "status": "completed"
    },
    "tags": []
   },
   "outputs": [],
   "source": [
    "def seed_everything(seed):\n",
    "    random.seed(seed)\n",
    "    os.environ['PYTHONHASHSEED'] = str(seed)\n",
    "    np.random.seed(seed)\n",
    "    torch.manual_seed(seed)\n",
    "    torch.cuda.manual_seed(seed)\n",
    "    torch.backends.cudnn.deterministic = True\n",
    "    torch.backends.cudnn.benchmark = False\n",
    "\n",
    "\n",
    "seed_everything(CFG.seed)"
   ]
  },
  {
   "cell_type": "code",
   "execution_count": 4,
   "id": "ae89f2a6",
   "metadata": {
    "execution": {
     "iopub.execute_input": "2024-08-18T07:10:39.784605Z",
     "iopub.status.busy": "2024-08-18T07:10:39.784347Z",
     "iopub.status.idle": "2024-08-18T07:10:39.801020Z",
     "shell.execute_reply": "2024-08-18T07:10:39.800267Z"
    },
    "id": "X7yXnRQG-v-i",
    "papermill": {
     "duration": 0.022818,
     "end_time": "2024-08-18T07:10:39.803061",
     "exception": false,
     "start_time": "2024-08-18T07:10:39.780243",
     "status": "completed"
    },
    "tags": []
   },
   "outputs": [],
   "source": [
    "test_metadata = pd.read_csv(CFG.test_metadata_path)"
   ]
  },
  {
   "cell_type": "code",
   "execution_count": 5,
   "id": "b4b222ba",
   "metadata": {
    "execution": {
     "iopub.execute_input": "2024-08-18T07:10:39.811255Z",
     "iopub.status.busy": "2024-08-18T07:10:39.810991Z",
     "iopub.status.idle": "2024-08-18T07:10:39.818436Z",
     "shell.execute_reply": "2024-08-18T07:10:39.817619Z"
    },
    "id": "DxAgokRgvxPr",
    "papermill": {
     "duration": 0.013878,
     "end_time": "2024-08-18T07:10:39.820346",
     "exception": false,
     "start_time": "2024-08-18T07:10:39.806468",
     "status": "completed"
    },
    "tags": []
   },
   "outputs": [],
   "source": [
    "class ISICDataset(Dataset):\n",
    "    def __init__(self, data_path, metadata, transform=None):\n",
    "        self.data = h5py.File(data_path, 'r')\n",
    "        self.metadata = metadata\n",
    "        self.transform = transform\n",
    "\n",
    "    def __len__(self):\n",
    "        return len(self.metadata)\n",
    "\n",
    "    def __getitem__(self, idx):\n",
    "        img_name = self.metadata.iloc[idx]['isic_id']\n",
    "        image = np.array(self.data[img_name])\n",
    "        image = np.array(Image.open(io.BytesIO(image)), dtype=np.float32)\n",
    "\n",
    "        if self.transform:\n",
    "            augmented = self.transform(image=image)\n",
    "            image = augmented['image']\n",
    "\n",
    "        if 'target' in self.metadata.columns:\n",
    "            label = int(self.metadata['target'].iloc[idx])\n",
    "            return image, label\n",
    "        else:\n",
    "            return image, 0"
   ]
  },
  {
   "cell_type": "code",
   "execution_count": 6,
   "id": "ab030fe7",
   "metadata": {
    "execution": {
     "iopub.execute_input": "2024-08-18T07:10:39.828296Z",
     "iopub.status.busy": "2024-08-18T07:10:39.827862Z",
     "iopub.status.idle": "2024-08-18T07:10:39.832965Z",
     "shell.execute_reply": "2024-08-18T07:10:39.831963Z"
    },
    "id": "6tUJogKp-v-j",
    "papermill": {
     "duration": 0.011099,
     "end_time": "2024-08-18T07:10:39.834884",
     "exception": false,
     "start_time": "2024-08-18T07:10:39.823785",
     "status": "completed"
    },
    "tags": []
   },
   "outputs": [],
   "source": [
    "transforms = A.Compose([\n",
    "    A.Resize(224, 224),\n",
    "    A.Normalize(\n",
    "        mean=[0.4815, 0.4578, 0.4082], \n",
    "        std=[0.2686, 0.2613, 0.2758], \n",
    "        max_pixel_value=255.0),\n",
    "    ToTensorV2(),\n",
    "])"
   ]
  },
  {
   "cell_type": "code",
   "execution_count": 7,
   "id": "baf91cc9",
   "metadata": {
    "execution": {
     "iopub.execute_input": "2024-08-18T07:10:39.842887Z",
     "iopub.status.busy": "2024-08-18T07:10:39.842627Z",
     "iopub.status.idle": "2024-08-18T07:10:39.848636Z",
     "shell.execute_reply": "2024-08-18T07:10:39.847900Z"
    },
    "id": "uhUwzYAHRelB",
    "papermill": {
     "duration": 0.011996,
     "end_time": "2024-08-18T07:10:39.850451",
     "exception": false,
     "start_time": "2024-08-18T07:10:39.838455",
     "status": "completed"
    },
    "tags": []
   },
   "outputs": [],
   "source": [
    "class SwinTransformer(nn.Module):\n",
    "    def __init__(self, model_name):\n",
    "        super(SwinTransformer, self).__init__()\n",
    "        self.model = timm.create_model(model_name, pretrained=False, in_chans=3)\n",
    "        self.model.head = nn.Sequential(\n",
    "            nn.Flatten(),\n",
    "            nn.Linear(self.model.num_features * 7 * 7, 2)\n",
    "        )\n",
    "\n",
    "    def forward(self, x):\n",
    "        return self.model(x)"
   ]
  },
  {
   "cell_type": "code",
   "execution_count": 8,
   "id": "ced9d774",
   "metadata": {
    "execution": {
     "iopub.execute_input": "2024-08-18T07:10:39.858601Z",
     "iopub.status.busy": "2024-08-18T07:10:39.858335Z",
     "iopub.status.idle": "2024-08-18T07:10:39.865359Z",
     "shell.execute_reply": "2024-08-18T07:10:39.864559Z"
    },
    "id": "yWUV5TeWvxPs",
    "papermill": {
     "duration": 0.013081,
     "end_time": "2024-08-18T07:10:39.867184",
     "exception": false,
     "start_time": "2024-08-18T07:10:39.854103",
     "status": "completed"
    },
    "tags": []
   },
   "outputs": [],
   "source": [
    "class Trainer:\n",
    "    def __init__(self, device, model, test_dataloader, checkpoint_path, fold_idx):\n",
    "        self.device = device\n",
    "        self.model = model\n",
    "        self.test_dataloader = test_dataloader\n",
    "        self.checkpoint_path = checkpoint_path\n",
    "        self.fold_idx = fold_idx\n",
    "\n",
    "    def predict(self):\n",
    "        model.load_state_dict(torch.load(self.checkpoint_path))\n",
    "        model.eval()\n",
    "\n",
    "        preds = []\n",
    "        with torch.no_grad():\n",
    "            loop = tqdm(self.test_dataloader, total=len(self.test_dataloader))\n",
    "            for batch in loop:\n",
    "                x, _ = batch\n",
    "                x = x.to(self.device)\n",
    "                y_hat = model(x)\n",
    "                pred_probs = F.softmax(y_hat, dim=1)\n",
    "                preds.extend(pred_probs.detach().cpu().numpy())\n",
    "                loop.set_description(f'Prediction')\n",
    "\n",
    "        return preds"
   ]
  },
  {
   "cell_type": "code",
   "execution_count": 9,
   "id": "59190677",
   "metadata": {
    "execution": {
     "iopub.execute_input": "2024-08-18T07:10:39.875357Z",
     "iopub.status.busy": "2024-08-18T07:10:39.875090Z",
     "iopub.status.idle": "2024-08-18T07:11:03.682812Z",
     "shell.execute_reply": "2024-08-18T07:11:03.681642Z"
    },
    "id": "z6ry0OmfyEmZ",
    "outputId": "be79b77b-0941-4759-b0c8-635e6c72b19e",
    "papermill": {
     "duration": 23.814268,
     "end_time": "2024-08-18T07:11:03.685073",
     "exception": false,
     "start_time": "2024-08-18T07:10:39.870805",
     "status": "completed"
    },
    "tags": []
   },
   "outputs": [
    {
     "name": "stderr",
     "output_type": "stream",
     "text": [
      "Prediction: 100%|██████████| 1/1 [00:00<00:00,  1.26it/s]\n",
      "Prediction: 100%|██████████| 1/1 [00:00<00:00,  6.20it/s]\n",
      "Prediction: 100%|██████████| 1/1 [00:00<00:00,  5.76it/s]\n",
      "Prediction: 100%|██████████| 1/1 [00:00<00:00,  5.94it/s]\n",
      "Prediction: 100%|██████████| 1/1 [00:00<00:00,  5.61it/s]\n"
     ]
    }
   ],
   "source": [
    "test_preds = []\n",
    "for fold_idx in range(CFG.n_folds):\n",
    "\n",
    "    test_dataset = ISICDataset(CFG.test_img_path, test_metadata, transforms)\n",
    "    test_dataloader = DataLoader(test_dataset, batch_size=CFG.val_batch_size, shuffle=False, num_workers=4)\n",
    "\n",
    "    model = SwinTransformer(CFG.model_name).to(CFG.device)\n",
    "\n",
    "    trainer = Trainer(\n",
    "        device=CFG.device,\n",
    "        model=model,\n",
    "        test_dataloader=test_dataloader,\n",
    "        checkpoint_path=CFG.checkpoint_path + CFG.checkpoints[fold_idx],\n",
    "        fold_idx=fold_idx\n",
    "    )\n",
    "\n",
    "    test_pred_probs = trainer.predict()\n",
    "    test_preds.append(test_pred_probs)\n",
    "\n",
    "    del test_dataset, test_dataloader, model, trainer\n",
    "    gc.collect()\n",
    "    torch.cuda.empty_cache()"
   ]
  },
  {
   "cell_type": "code",
   "execution_count": 10,
   "id": "c04340b3",
   "metadata": {
    "execution": {
     "iopub.execute_input": "2024-08-18T07:11:03.698580Z",
     "iopub.status.busy": "2024-08-18T07:11:03.697628Z",
     "iopub.status.idle": "2024-08-18T07:11:03.722157Z",
     "shell.execute_reply": "2024-08-18T07:11:03.721279Z"
    },
    "id": "35WyumonIliL",
    "papermill": {
     "duration": 0.033081,
     "end_time": "2024-08-18T07:11:03.724120",
     "exception": false,
     "start_time": "2024-08-18T07:11:03.691039",
     "status": "completed"
    },
    "tags": []
   },
   "outputs": [
    {
     "data": {
      "text/html": [
       "<div>\n",
       "<style scoped>\n",
       "    .dataframe tbody tr th:only-of-type {\n",
       "        vertical-align: middle;\n",
       "    }\n",
       "\n",
       "    .dataframe tbody tr th {\n",
       "        vertical-align: top;\n",
       "    }\n",
       "\n",
       "    .dataframe thead th {\n",
       "        text-align: right;\n",
       "    }\n",
       "</style>\n",
       "<table border=\"1\" class=\"dataframe\">\n",
       "  <thead>\n",
       "    <tr style=\"text-align: right;\">\n",
       "      <th></th>\n",
       "      <th>isic_id</th>\n",
       "      <th>target</th>\n",
       "    </tr>\n",
       "  </thead>\n",
       "  <tbody>\n",
       "    <tr>\n",
       "      <th>0</th>\n",
       "      <td>ISIC_0015657</td>\n",
       "      <td>0.008449</td>\n",
       "    </tr>\n",
       "    <tr>\n",
       "      <th>1</th>\n",
       "      <td>ISIC_0015729</td>\n",
       "      <td>0.007734</td>\n",
       "    </tr>\n",
       "    <tr>\n",
       "      <th>2</th>\n",
       "      <td>ISIC_0015740</td>\n",
       "      <td>0.002987</td>\n",
       "    </tr>\n",
       "  </tbody>\n",
       "</table>\n",
       "</div>"
      ],
      "text/plain": [
       "        isic_id    target\n",
       "0  ISIC_0015657  0.008449\n",
       "1  ISIC_0015729  0.007734\n",
       "2  ISIC_0015740  0.002987"
      ]
     },
     "execution_count": 10,
     "metadata": {},
     "output_type": "execute_result"
    }
   ],
   "source": [
    "sub = test_metadata.copy()\n",
    "sub['target'] = np.mean(test_preds, axis=0)[:, 1]\n",
    "sub = sub[['isic_id', 'target']]\n",
    "sub.to_csv('submission.csv', index=False)\n",
    "sub.head()"
   ]
  }
 ],
 "metadata": {
  "accelerator": "GPU",
  "colab": {
   "gpuType": "L4",
   "provenance": []
  },
  "kaggle": {
   "accelerator": "gpu",
   "dataSources": [
    {
     "databundleVersionId": 9094797,
     "sourceId": 63056,
     "sourceType": "competition"
    },
    {
     "sourceId": 192996023,
     "sourceType": "kernelVersion"
    }
   ],
   "dockerImageVersionId": 30747,
   "isGpuEnabled": true,
   "isInternetEnabled": false,
   "language": "python",
   "sourceType": "notebook"
  },
  "kernelspec": {
   "display_name": "Python 3",
   "language": "python",
   "name": "python3"
  },
  "language_info": {
   "codemirror_mode": {
    "name": "ipython",
    "version": 3
   },
   "file_extension": ".py",
   "mimetype": "text/x-python",
   "name": "python",
   "nbconvert_exporter": "python",
   "pygments_lexer": "ipython3",
   "version": "3.10.13"
  },
  "papermill": {
   "default_parameters": {},
   "duration": 37.029018,
   "end_time": "2024-08-18T07:11:05.453988",
   "environment_variables": {},
   "exception": null,
   "input_path": "__notebook__.ipynb",
   "output_path": "__notebook__.ipynb",
   "parameters": {},
   "start_time": "2024-08-18T07:10:28.424970",
   "version": "2.5.0"
  }
 },
 "nbformat": 4,
 "nbformat_minor": 5
}
