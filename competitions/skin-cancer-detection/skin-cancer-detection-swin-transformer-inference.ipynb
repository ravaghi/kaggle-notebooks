{
 "cells": [
  {
   "cell_type": "markdown",
   "id": "740fa2d1",
   "metadata": {
    "papermill": {
     "duration": 0.003694,
     "end_time": "2024-09-07T15:07:04.848218",
     "exception": false,
     "start_time": "2024-09-07T15:07:04.844524",
     "status": "completed"
    },
    "tags": []
   },
   "source": [
    "### Training notebook\n",
    "- https://www.kaggle.com/code/ravaghi/skin-cancer-detection-swin-transformer-training"
   ]
  },
  {
   "cell_type": "code",
   "execution_count": 1,
   "id": "189eb08b",
   "metadata": {
    "execution": {
     "iopub.execute_input": "2024-09-07T15:07:04.856389Z",
     "iopub.status.busy": "2024-09-07T15:07:04.855658Z",
     "iopub.status.idle": "2024-09-07T15:07:13.604119Z",
     "shell.execute_reply": "2024-09-07T15:07:13.603348Z"
    },
    "id": "mqguadtYvxPn",
    "papermill": {
     "duration": 8.754884,
     "end_time": "2024-09-07T15:07:13.606433",
     "exception": false,
     "start_time": "2024-09-07T15:07:04.851549",
     "status": "completed"
    },
    "tags": []
   },
   "outputs": [],
   "source": [
    "from torch.utils.data import DataLoader, Dataset\n",
    "from albumentations.pytorch import ToTensorV2\n",
    "import torch.nn.functional as F\n",
    "import albumentations as A\n",
    "from tqdm import tqdm\n",
    "from PIL import Image\n",
    "import torch.nn as nn\n",
    "import pandas as pd\n",
    "import numpy as np\n",
    "import warnings\n",
    "import h5py\n",
    "import torch\n",
    "import random\n",
    "import timm\n",
    "import cv2\n",
    "import io\n",
    "import os\n",
    "import gc\n",
    "\n",
    "warnings.filterwarnings('ignore')"
   ]
  },
  {
   "cell_type": "code",
   "execution_count": 2,
   "id": "1d17317d",
   "metadata": {
    "execution": {
     "iopub.execute_input": "2024-09-07T15:07:13.615327Z",
     "iopub.status.busy": "2024-09-07T15:07:13.615026Z",
     "iopub.status.idle": "2024-09-07T15:07:13.683983Z",
     "shell.execute_reply": "2024-09-07T15:07:13.683083Z"
    },
    "id": "xOBgLd7--v-h",
    "papermill": {
     "duration": 0.075315,
     "end_time": "2024-09-07T15:07:13.685867",
     "exception": false,
     "start_time": "2024-09-07T15:07:13.610552",
     "status": "completed"
    },
    "tags": []
   },
   "outputs": [],
   "source": [
    "class CFG:\n",
    "    test_metadata_path = '/kaggle/input/isic-2024-challenge/test-metadata.csv'\n",
    "    test_img_path = '/kaggle/input/isic-2024-challenge/test-image.hdf5'\n",
    "    sample_sub_path = '/kaggle/input/isic-2024-challenge/sample_submission.csv'\n",
    "    checkpoint_path = '/kaggle/input/skin-cancer-detection-swin-transformer-training/checkpoints/'\n",
    "\n",
    "    checkpoints = [\n",
    "        'fold_0_epoch_24_pauc_0.129003.pth',\n",
    "        'fold_1_epoch_16_pauc_0.162821.pth',\n",
    "        'fold_2_epoch_30_pauc_0.160597.pth',\n",
    "        'fold_3_epoch_18_pauc_0.167431.pth',\n",
    "        'fold_4_epoch_20_pauc_0.169827.pth'\n",
    "    ]\n",
    "\n",
    "    device = torch.device('cuda' if torch.cuda.is_available() else 'cpu')\n",
    "    image_size = 224\n",
    "    val_batch_size = 64\n",
    "    n_folds = 5\n",
    "    seed = 35555\n",
    "    model_name = \"swin_base_patch4_window7_224\""
   ]
  },
  {
   "cell_type": "code",
   "execution_count": 3,
   "id": "fce077bf",
   "metadata": {
    "execution": {
     "iopub.execute_input": "2024-09-07T15:07:13.693776Z",
     "iopub.status.busy": "2024-09-07T15:07:13.693477Z",
     "iopub.status.idle": "2024-09-07T15:07:13.701737Z",
     "shell.execute_reply": "2024-09-07T15:07:13.701063Z"
    },
    "id": "5a6g1bxI-v-i",
    "papermill": {
     "duration": 0.014287,
     "end_time": "2024-09-07T15:07:13.703601",
     "exception": false,
     "start_time": "2024-09-07T15:07:13.689314",
     "status": "completed"
    },
    "tags": []
   },
   "outputs": [],
   "source": [
    "def seed_everything(seed):\n",
    "    random.seed(seed)\n",
    "    os.environ['PYTHONHASHSEED'] = str(seed)\n",
    "    np.random.seed(seed)\n",
    "    torch.manual_seed(seed)\n",
    "    torch.cuda.manual_seed(seed)\n",
    "    torch.backends.cudnn.deterministic = True\n",
    "    torch.backends.cudnn.benchmark = False\n",
    "\n",
    "\n",
    "seed_everything(CFG.seed)"
   ]
  },
  {
   "cell_type": "code",
   "execution_count": 4,
   "id": "9d337274",
   "metadata": {
    "execution": {
     "iopub.execute_input": "2024-09-07T15:07:13.711380Z",
     "iopub.status.busy": "2024-09-07T15:07:13.711121Z",
     "iopub.status.idle": "2024-09-07T15:07:13.728307Z",
     "shell.execute_reply": "2024-09-07T15:07:13.727411Z"
    },
    "id": "X7yXnRQG-v-i",
    "papermill": {
     "duration": 0.023181,
     "end_time": "2024-09-07T15:07:13.730255",
     "exception": false,
     "start_time": "2024-09-07T15:07:13.707074",
     "status": "completed"
    },
    "tags": []
   },
   "outputs": [],
   "source": [
    "test_metadata = pd.read_csv(CFG.test_metadata_path)"
   ]
  },
  {
   "cell_type": "code",
   "execution_count": 5,
   "id": "5c20383e",
   "metadata": {
    "execution": {
     "iopub.execute_input": "2024-09-07T15:07:13.737969Z",
     "iopub.status.busy": "2024-09-07T15:07:13.737712Z",
     "iopub.status.idle": "2024-09-07T15:07:13.745003Z",
     "shell.execute_reply": "2024-09-07T15:07:13.744171Z"
    },
    "id": "DxAgokRgvxPr",
    "papermill": {
     "duration": 0.013204,
     "end_time": "2024-09-07T15:07:13.746843",
     "exception": false,
     "start_time": "2024-09-07T15:07:13.733639",
     "status": "completed"
    },
    "tags": []
   },
   "outputs": [],
   "source": [
    "class ISICDataset(Dataset):\n",
    "    def __init__(self, data_path, metadata, transform=None):\n",
    "        self.data = h5py.File(data_path, 'r')\n",
    "        self.metadata = metadata\n",
    "        self.transform = transform\n",
    "\n",
    "    def __len__(self):\n",
    "        return len(self.metadata)\n",
    "\n",
    "    def __getitem__(self, idx):\n",
    "        img_name = self.metadata.iloc[idx]['isic_id']\n",
    "        image = np.array(self.data[img_name])\n",
    "        image = np.array(Image.open(io.BytesIO(image)))\n",
    "        image = cv2.cvtColor(image, cv2.COLOR_BGR2RGB)\n",
    "\n",
    "        if self.transform:\n",
    "            augmented = self.transform(image=image)\n",
    "            image = augmented['image']\n",
    "\n",
    "        if 'target' in self.metadata.columns:\n",
    "            label = int(self.metadata['target'].iloc[idx])\n",
    "            return image, label\n",
    "        else:\n",
    "            return image, 0"
   ]
  },
  {
   "cell_type": "code",
   "execution_count": 6,
   "id": "88ba4dbd",
   "metadata": {
    "execution": {
     "iopub.execute_input": "2024-09-07T15:07:13.754663Z",
     "iopub.status.busy": "2024-09-07T15:07:13.754410Z",
     "iopub.status.idle": "2024-09-07T15:07:13.759453Z",
     "shell.execute_reply": "2024-09-07T15:07:13.758662Z"
    },
    "id": "6tUJogKp-v-j",
    "papermill": {
     "duration": 0.010949,
     "end_time": "2024-09-07T15:07:13.761209",
     "exception": false,
     "start_time": "2024-09-07T15:07:13.750260",
     "status": "completed"
    },
    "tags": []
   },
   "outputs": [],
   "source": [
    "transforms = A.Compose([\n",
    "    A.Resize(CFG.image_size, CFG.image_size),\n",
    "    A.Normalize(\n",
    "        mean=[0.4815, 0.4578, 0.4082],\n",
    "        std=[0.2686, 0.2613, 0.2758],\n",
    "        max_pixel_value=255.0),\n",
    "    ToTensorV2(),\n",
    "])"
   ]
  },
  {
   "cell_type": "code",
   "execution_count": 7,
   "id": "4dd7fbdd",
   "metadata": {
    "execution": {
     "iopub.execute_input": "2024-09-07T15:07:13.769227Z",
     "iopub.status.busy": "2024-09-07T15:07:13.768963Z",
     "iopub.status.idle": "2024-09-07T15:07:13.775066Z",
     "shell.execute_reply": "2024-09-07T15:07:13.774252Z"
    },
    "id": "uhUwzYAHRelB",
    "papermill": {
     "duration": 0.012223,
     "end_time": "2024-09-07T15:07:13.777053",
     "exception": false,
     "start_time": "2024-09-07T15:07:13.764830",
     "status": "completed"
    },
    "tags": []
   },
   "outputs": [],
   "source": [
    "class SwinTransformer(nn.Module):\n",
    "    def __init__(self, model_name, pretrained=False):\n",
    "        super(SwinTransformer, self).__init__()\n",
    "        self.model = timm.create_model(model_name, pretrained=pretrained)\n",
    "        self.model.head = nn.Sequential(\n",
    "            nn.Flatten(),\n",
    "            nn.Linear(self.model.num_features * 7 * 7, 512),\n",
    "            nn.BatchNorm1d(512),\n",
    "            nn.ReLU(),\n",
    "            nn.Dropout(0.5),\n",
    "            nn.Linear(512, 1),\n",
    "            nn.Sigmoid()\n",
    "        )\n",
    "\n",
    "    def forward(self, x):\n",
    "        return self.model(x)"
   ]
  },
  {
   "cell_type": "code",
   "execution_count": 8,
   "id": "b05233bd",
   "metadata": {
    "execution": {
     "iopub.execute_input": "2024-09-07T15:07:13.785567Z",
     "iopub.status.busy": "2024-09-07T15:07:13.784960Z",
     "iopub.status.idle": "2024-09-07T15:07:13.791869Z",
     "shell.execute_reply": "2024-09-07T15:07:13.791042Z"
    },
    "id": "yWUV5TeWvxPs",
    "papermill": {
     "duration": 0.013152,
     "end_time": "2024-09-07T15:07:13.793756",
     "exception": false,
     "start_time": "2024-09-07T15:07:13.780604",
     "status": "completed"
    },
    "tags": []
   },
   "outputs": [],
   "source": [
    "class Trainer:\n",
    "    def __init__(self, device, model, test_dataloader, checkpoint_path):\n",
    "        self.device = device\n",
    "        self.model = model\n",
    "        self.test_dataloader = test_dataloader\n",
    "        self.checkpoint_path = checkpoint_path\n",
    "\n",
    "    def predict(self):\n",
    "        self.model.load_state_dict(torch.load(self.checkpoint_path))\n",
    "        self.model.eval()\n",
    "\n",
    "        preds = []\n",
    "        with torch.no_grad():\n",
    "            loop = tqdm(self.test_dataloader, total=len(self.test_dataloader))\n",
    "            for batch in loop:\n",
    "                x, _ = batch\n",
    "                x = x.to(self.device)\n",
    "                y_hat = self.model(x).squeeze()\n",
    "                preds.extend(y_hat.detach().cpu().numpy())\n",
    "                loop.set_description(f'Prediction')\n",
    "\n",
    "        return preds"
   ]
  },
  {
   "cell_type": "code",
   "execution_count": 9,
   "id": "2f03e9d3",
   "metadata": {
    "execution": {
     "iopub.execute_input": "2024-09-07T15:07:13.801924Z",
     "iopub.status.busy": "2024-09-07T15:07:13.801657Z",
     "iopub.status.idle": "2024-09-07T15:07:44.641929Z",
     "shell.execute_reply": "2024-09-07T15:07:44.640646Z"
    },
    "id": "z6ry0OmfyEmZ",
    "outputId": "be79b77b-0941-4759-b0c8-635e6c72b19e",
    "papermill": {
     "duration": 30.853235,
     "end_time": "2024-09-07T15:07:44.650663",
     "exception": false,
     "start_time": "2024-09-07T15:07:13.797428",
     "status": "completed"
    },
    "tags": []
   },
   "outputs": [
    {
     "name": "stderr",
     "output_type": "stream",
     "text": [
      "Prediction: 100%|██████████| 1/1 [00:00<00:00,  1.05it/s]\n",
      "Prediction: 100%|██████████| 1/1 [00:00<00:00,  5.67it/s]\n",
      "Prediction: 100%|██████████| 1/1 [00:00<00:00,  6.09it/s]\n",
      "Prediction: 100%|██████████| 1/1 [00:00<00:00,  5.85it/s]\n",
      "Prediction: 100%|██████████| 1/1 [00:00<00:00,  5.86it/s]\n"
     ]
    }
   ],
   "source": [
    "test_preds = []\n",
    "for fold_idx in range(CFG.n_folds):\n",
    "\n",
    "    test_dataset = ISICDataset(CFG.test_img_path, test_metadata, transforms)\n",
    "    test_dataloader = DataLoader(test_dataset, batch_size=CFG.val_batch_size, shuffle=False, num_workers=4)\n",
    "\n",
    "    model = SwinTransformer(CFG.model_name).to(CFG.device)\n",
    "\n",
    "    trainer = Trainer(\n",
    "        device=CFG.device,\n",
    "        model=model,\n",
    "        test_dataloader=test_dataloader,\n",
    "        checkpoint_path=CFG.checkpoint_path + CFG.checkpoints[fold_idx]\n",
    "    )\n",
    "\n",
    "    preds = trainer.predict()\n",
    "    test_preds.append(preds)\n",
    "\n",
    "    del test_dataset, test_dataloader, model, trainer\n",
    "    gc.collect()\n",
    "    torch.cuda.empty_cache()"
   ]
  },
  {
   "cell_type": "code",
   "execution_count": 10,
   "id": "2a940d48",
   "metadata": {
    "execution": {
     "iopub.execute_input": "2024-09-07T15:07:44.663651Z",
     "iopub.status.busy": "2024-09-07T15:07:44.663348Z",
     "iopub.status.idle": "2024-09-07T15:07:44.688877Z",
     "shell.execute_reply": "2024-09-07T15:07:44.687980Z"
    },
    "id": "35WyumonIliL",
    "papermill": {
     "duration": 0.034367,
     "end_time": "2024-09-07T15:07:44.690807",
     "exception": false,
     "start_time": "2024-09-07T15:07:44.656440",
     "status": "completed"
    },
    "tags": []
   },
   "outputs": [
    {
     "data": {
      "text/html": [
       "<div>\n",
       "<style scoped>\n",
       "    .dataframe tbody tr th:only-of-type {\n",
       "        vertical-align: middle;\n",
       "    }\n",
       "\n",
       "    .dataframe tbody tr th {\n",
       "        vertical-align: top;\n",
       "    }\n",
       "\n",
       "    .dataframe thead th {\n",
       "        text-align: right;\n",
       "    }\n",
       "</style>\n",
       "<table border=\"1\" class=\"dataframe\">\n",
       "  <thead>\n",
       "    <tr style=\"text-align: right;\">\n",
       "      <th></th>\n",
       "      <th>isic_id</th>\n",
       "      <th>target</th>\n",
       "    </tr>\n",
       "  </thead>\n",
       "  <tbody>\n",
       "    <tr>\n",
       "      <th>0</th>\n",
       "      <td>ISIC_0015657</td>\n",
       "      <td>0.016146</td>\n",
       "    </tr>\n",
       "    <tr>\n",
       "      <th>1</th>\n",
       "      <td>ISIC_0015729</td>\n",
       "      <td>0.010816</td>\n",
       "    </tr>\n",
       "    <tr>\n",
       "      <th>2</th>\n",
       "      <td>ISIC_0015740</td>\n",
       "      <td>0.010691</td>\n",
       "    </tr>\n",
       "  </tbody>\n",
       "</table>\n",
       "</div>"
      ],
      "text/plain": [
       "        isic_id    target\n",
       "0  ISIC_0015657  0.016146\n",
       "1  ISIC_0015729  0.010816\n",
       "2  ISIC_0015740  0.010691"
      ]
     },
     "execution_count": 10,
     "metadata": {},
     "output_type": "execute_result"
    }
   ],
   "source": [
    "sub = test_metadata.copy()\n",
    "sub['target'] = np.mean(test_preds, axis=0)\n",
    "sub = sub[['isic_id', 'target']]\n",
    "sub.to_csv('submission.csv', index=False)\n",
    "sub.head()"
   ]
  }
 ],
 "metadata": {
  "accelerator": "GPU",
  "colab": {
   "gpuType": "L4",
   "provenance": []
  },
  "kaggle": {
   "accelerator": "gpu",
   "dataSources": [
    {
     "databundleVersionId": 9094797,
     "sourceId": 63056,
     "sourceType": "competition"
    },
    {
     "sourceId": 194683335,
     "sourceType": "kernelVersion"
    }
   ],
   "dockerImageVersionId": 30747,
   "isGpuEnabled": true,
   "isInternetEnabled": false,
   "language": "python",
   "sourceType": "notebook"
  },
  "kernelspec": {
   "display_name": "Python 3",
   "language": "python",
   "name": "python3"
  },
  "language_info": {
   "codemirror_mode": {
    "name": "ipython",
    "version": 3
   },
   "file_extension": ".py",
   "mimetype": "text/x-python",
   "name": "python",
   "nbconvert_exporter": "python",
   "pygments_lexer": "ipython3",
   "version": "3.10.13"
  },
  "papermill": {
   "default_parameters": {},
   "duration": 45.190784,
   "end_time": "2024-09-07T15:07:47.287463",
   "environment_variables": {},
   "exception": null,
   "input_path": "__notebook__.ipynb",
   "output_path": "__notebook__.ipynb",
   "parameters": {},
   "start_time": "2024-09-07T15:07:02.096679",
   "version": "2.5.0"
  }
 },
 "nbformat": 4,
 "nbformat_minor": 5
}
