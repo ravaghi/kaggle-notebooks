{
 "cells": [
  {
   "cell_type": "markdown",
   "id": "cc1b4b77",
   "metadata": {
    "papermill": {
     "duration": 0.004456,
     "end_time": "2024-08-25T08:21:06.531505",
     "exception": false,
     "start_time": "2024-08-25T08:21:06.527049",
     "status": "completed"
    },
    "tags": []
   },
   "source": [
    "### Training notebook\n",
    "- https://www.kaggle.com/code/ravaghi/skin-cancer-detection-swin-transformer-training"
   ]
  },
  {
   "cell_type": "code",
   "execution_count": 1,
   "id": "8cc36b9d",
   "metadata": {
    "execution": {
     "iopub.execute_input": "2024-08-25T08:21:06.540790Z",
     "iopub.status.busy": "2024-08-25T08:21:06.540407Z",
     "iopub.status.idle": "2024-08-25T08:21:14.976490Z",
     "shell.execute_reply": "2024-08-25T08:21:14.975682Z"
    },
    "id": "mqguadtYvxPn",
    "papermill": {
     "duration": 8.443371,
     "end_time": "2024-08-25T08:21:14.978891",
     "exception": false,
     "start_time": "2024-08-25T08:21:06.535520",
     "status": "completed"
    },
    "tags": []
   },
   "outputs": [],
   "source": [
    "from torch.utils.data import DataLoader, Dataset\n",
    "from albumentations.pytorch import ToTensorV2\n",
    "import torch.nn.functional as F\n",
    "import albumentations as A\n",
    "from tqdm import tqdm\n",
    "from PIL import Image\n",
    "import torch.nn as nn\n",
    "import pandas as pd\n",
    "import numpy as np\n",
    "import warnings\n",
    "import h5py\n",
    "import torch\n",
    "import random\n",
    "import timm\n",
    "import io\n",
    "import os\n",
    "import gc\n",
    "\n",
    "warnings.filterwarnings('ignore')"
   ]
  },
  {
   "cell_type": "code",
   "execution_count": 2,
   "id": "8a570d69",
   "metadata": {
    "execution": {
     "iopub.execute_input": "2024-08-25T08:21:14.988237Z",
     "iopub.status.busy": "2024-08-25T08:21:14.987925Z",
     "iopub.status.idle": "2024-08-25T08:21:15.047205Z",
     "shell.execute_reply": "2024-08-25T08:21:15.046209Z"
    },
    "id": "xOBgLd7--v-h",
    "papermill": {
     "duration": 0.066136,
     "end_time": "2024-08-25T08:21:15.049240",
     "exception": false,
     "start_time": "2024-08-25T08:21:14.983104",
     "status": "completed"
    },
    "tags": []
   },
   "outputs": [],
   "source": [
    "class CFG:\n",
    "    test_metadata_path = '/kaggle/input/isic-2024-challenge/test-metadata.csv'\n",
    "    test_img_path = '/kaggle/input/isic-2024-challenge/test-image.hdf5'\n",
    "    sample_sub_path = '/kaggle/input/isic-2024-challenge/sample_submission.csv'\n",
    "    checkpoint_path = '/kaggle/input/skin-cancer-detection-swin-transformer-training/checkpoints/'\n",
    "\n",
    "    checkpoints = [\n",
    "        'fold_0_epoch_13_pauc_0.142971.pth',\n",
    "        'fold_1_epoch_17_pauc_0.165583.pth',\n",
    "        'fold_2_epoch_14_pauc_0.160994.pth',\n",
    "        'fold_3_epoch_11_pauc_0.143164.pth',\n",
    "        'fold_4_epoch_13_pauc_0.158716.pth'\n",
    "    ]\n",
    "\n",
    "    device = torch.device('cuda' if torch.cuda.is_available() else 'cpu')\n",
    "    val_batch_size = 64\n",
    "    n_folds = 5\n",
    "    seed = 35555\n",
    "    model_name = \"swin_base_patch4_window7_224\""
   ]
  },
  {
   "cell_type": "code",
   "execution_count": 3,
   "id": "34ecb6cf",
   "metadata": {
    "execution": {
     "iopub.execute_input": "2024-08-25T08:21:15.058850Z",
     "iopub.status.busy": "2024-08-25T08:21:15.058283Z",
     "iopub.status.idle": "2024-08-25T08:21:15.066393Z",
     "shell.execute_reply": "2024-08-25T08:21:15.065711Z"
    },
    "id": "5a6g1bxI-v-i",
    "papermill": {
     "duration": 0.01493,
     "end_time": "2024-08-25T08:21:15.068297",
     "exception": false,
     "start_time": "2024-08-25T08:21:15.053367",
     "status": "completed"
    },
    "tags": []
   },
   "outputs": [],
   "source": [
    "def seed_everything(seed):\n",
    "    random.seed(seed)\n",
    "    os.environ['PYTHONHASHSEED'] = str(seed)\n",
    "    np.random.seed(seed)\n",
    "    torch.manual_seed(seed)\n",
    "    torch.cuda.manual_seed(seed)\n",
    "    torch.backends.cudnn.deterministic = True\n",
    "    torch.backends.cudnn.benchmark = False\n",
    "\n",
    "\n",
    "seed_everything(CFG.seed)"
   ]
  },
  {
   "cell_type": "code",
   "execution_count": 4,
   "id": "ed3271c9",
   "metadata": {
    "execution": {
     "iopub.execute_input": "2024-08-25T08:21:15.077078Z",
     "iopub.status.busy": "2024-08-25T08:21:15.076769Z",
     "iopub.status.idle": "2024-08-25T08:21:15.094222Z",
     "shell.execute_reply": "2024-08-25T08:21:15.093466Z"
    },
    "id": "X7yXnRQG-v-i",
    "papermill": {
     "duration": 0.024009,
     "end_time": "2024-08-25T08:21:15.096193",
     "exception": false,
     "start_time": "2024-08-25T08:21:15.072184",
     "status": "completed"
    },
    "tags": []
   },
   "outputs": [],
   "source": [
    "test_metadata = pd.read_csv(CFG.test_metadata_path)"
   ]
  },
  {
   "cell_type": "code",
   "execution_count": 5,
   "id": "2b4b5c60",
   "metadata": {
    "execution": {
     "iopub.execute_input": "2024-08-25T08:21:15.105254Z",
     "iopub.status.busy": "2024-08-25T08:21:15.104967Z",
     "iopub.status.idle": "2024-08-25T08:21:15.112604Z",
     "shell.execute_reply": "2024-08-25T08:21:15.111788Z"
    },
    "id": "DxAgokRgvxPr",
    "papermill": {
     "duration": 0.014194,
     "end_time": "2024-08-25T08:21:15.114473",
     "exception": false,
     "start_time": "2024-08-25T08:21:15.100279",
     "status": "completed"
    },
    "tags": []
   },
   "outputs": [],
   "source": [
    "class ISICDataset(Dataset):\n",
    "    def __init__(self, data_path, metadata, transform=None):\n",
    "        self.data = h5py.File(data_path, 'r')\n",
    "        self.metadata = metadata\n",
    "        self.transform = transform\n",
    "\n",
    "    def __len__(self):\n",
    "        return len(self.metadata)\n",
    "\n",
    "    def __getitem__(self, idx):\n",
    "        img_name = self.metadata.iloc[idx]['isic_id']\n",
    "        image = np.array(self.data[img_name])\n",
    "        image = np.array(Image.open(io.BytesIO(image)), dtype=np.float32)\n",
    "\n",
    "        if self.transform:\n",
    "            augmented = self.transform(image=image)\n",
    "            image = augmented['image']\n",
    "\n",
    "        if 'target' in self.metadata.columns:\n",
    "            label = int(self.metadata['target'].iloc[idx])\n",
    "            return image, label\n",
    "        else:\n",
    "            return image, 0"
   ]
  },
  {
   "cell_type": "code",
   "execution_count": 6,
   "id": "cb8c7a48",
   "metadata": {
    "execution": {
     "iopub.execute_input": "2024-08-25T08:21:15.123422Z",
     "iopub.status.busy": "2024-08-25T08:21:15.123137Z",
     "iopub.status.idle": "2024-08-25T08:21:15.128249Z",
     "shell.execute_reply": "2024-08-25T08:21:15.127475Z"
    },
    "id": "6tUJogKp-v-j",
    "papermill": {
     "duration": 0.011718,
     "end_time": "2024-08-25T08:21:15.130055",
     "exception": false,
     "start_time": "2024-08-25T08:21:15.118337",
     "status": "completed"
    },
    "tags": []
   },
   "outputs": [],
   "source": [
    "transforms = A.Compose([\n",
    "    A.Resize(224, 224),\n",
    "    A.Normalize(\n",
    "        mean=[0.4815, 0.4578, 0.4082], \n",
    "        std=[0.2686, 0.2613, 0.2758], \n",
    "        max_pixel_value=255.0),\n",
    "    ToTensorV2(),\n",
    "])"
   ]
  },
  {
   "cell_type": "code",
   "execution_count": 7,
   "id": "9da345bb",
   "metadata": {
    "execution": {
     "iopub.execute_input": "2024-08-25T08:21:15.138694Z",
     "iopub.status.busy": "2024-08-25T08:21:15.138397Z",
     "iopub.status.idle": "2024-08-25T08:21:15.144836Z",
     "shell.execute_reply": "2024-08-25T08:21:15.143980Z"
    },
    "id": "uhUwzYAHRelB",
    "papermill": {
     "duration": 0.012833,
     "end_time": "2024-08-25T08:21:15.146668",
     "exception": false,
     "start_time": "2024-08-25T08:21:15.133835",
     "status": "completed"
    },
    "tags": []
   },
   "outputs": [],
   "source": [
    "class SwinTransformer(nn.Module):\n",
    "    def __init__(self, model_name, pretrained=False):\n",
    "        super(SwinTransformer, self).__init__()\n",
    "        self.model = timm.create_model(model_name, pretrained=pretrained)\n",
    "        self.model.head = nn.Sequential(\n",
    "            nn.Flatten(),\n",
    "            nn.Linear(self.model.num_features * 7 * 7, 512),\n",
    "            nn.BatchNorm1d(512),\n",
    "            nn.ReLU(),\n",
    "            nn.Dropout(0.5),\n",
    "            nn.Linear(512, 1),\n",
    "            nn.Sigmoid()\n",
    "        )\n",
    "\n",
    "    def forward(self, x):\n",
    "        return self.model(x)"
   ]
  },
  {
   "cell_type": "code",
   "execution_count": 8,
   "id": "cc9c5435",
   "metadata": {
    "execution": {
     "iopub.execute_input": "2024-08-25T08:21:15.155214Z",
     "iopub.status.busy": "2024-08-25T08:21:15.154940Z",
     "iopub.status.idle": "2024-08-25T08:21:15.162163Z",
     "shell.execute_reply": "2024-08-25T08:21:15.161297Z"
    },
    "id": "yWUV5TeWvxPs",
    "papermill": {
     "duration": 0.013825,
     "end_time": "2024-08-25T08:21:15.164220",
     "exception": false,
     "start_time": "2024-08-25T08:21:15.150395",
     "status": "completed"
    },
    "tags": []
   },
   "outputs": [],
   "source": [
    "class Trainer:\n",
    "    def __init__(self, device, model, test_dataloader, checkpoint_path, fold_idx):\n",
    "        self.device = device\n",
    "        self.model = model\n",
    "        self.test_dataloader = test_dataloader\n",
    "        self.checkpoint_path = checkpoint_path\n",
    "        self.fold_idx = fold_idx\n",
    "\n",
    "    def predict(self):\n",
    "        model.load_state_dict(torch.load(self.checkpoint_path))\n",
    "        model.eval()\n",
    "\n",
    "        preds = []\n",
    "        with torch.no_grad():\n",
    "            loop = tqdm(self.test_dataloader, total=len(self.test_dataloader))\n",
    "            for batch in loop:\n",
    "                x, _ = batch\n",
    "                x = x.to(self.device)\n",
    "                y_hat = model(x).squeeze()\n",
    "                preds.extend(y_hat.detach().cpu().numpy())\n",
    "                loop.set_description(f'Prediction')\n",
    "\n",
    "        return preds"
   ]
  },
  {
   "cell_type": "code",
   "execution_count": 9,
   "id": "03c6cb6b",
   "metadata": {
    "execution": {
     "iopub.execute_input": "2024-08-25T08:21:15.172843Z",
     "iopub.status.busy": "2024-08-25T08:21:15.172538Z",
     "iopub.status.idle": "2024-08-25T08:21:47.255132Z",
     "shell.execute_reply": "2024-08-25T08:21:47.254068Z"
    },
    "id": "z6ry0OmfyEmZ",
    "outputId": "be79b77b-0941-4759-b0c8-635e6c72b19e",
    "papermill": {
     "duration": 32.089448,
     "end_time": "2024-08-25T08:21:47.257355",
     "exception": false,
     "start_time": "2024-08-25T08:21:15.167907",
     "status": "completed"
    },
    "tags": []
   },
   "outputs": [
    {
     "name": "stderr",
     "output_type": "stream",
     "text": [
      "Prediction: 100%|██████████| 1/1 [00:00<00:00,  1.07it/s]\n",
      "Prediction: 100%|██████████| 1/1 [00:00<00:00,  6.01it/s]\n",
      "Prediction: 100%|██████████| 1/1 [00:00<00:00,  5.48it/s]\n",
      "Prediction: 100%|██████████| 1/1 [00:00<00:00,  5.68it/s]\n",
      "Prediction: 100%|██████████| 1/1 [00:00<00:00,  5.78it/s]\n"
     ]
    }
   ],
   "source": [
    "test_preds = []\n",
    "for fold_idx in range(CFG.n_folds):\n",
    "\n",
    "    test_dataset = ISICDataset(CFG.test_img_path, test_metadata, transforms)\n",
    "    test_dataloader = DataLoader(test_dataset, batch_size=CFG.val_batch_size, shuffle=False, num_workers=4)\n",
    "\n",
    "    model = SwinTransformer(CFG.model_name).to(CFG.device)\n",
    "\n",
    "    trainer = Trainer(\n",
    "        device=CFG.device,\n",
    "        model=model,\n",
    "        test_dataloader=test_dataloader,\n",
    "        checkpoint_path=CFG.checkpoint_path + CFG.checkpoints[fold_idx],\n",
    "        fold_idx=fold_idx\n",
    "    )\n",
    "\n",
    "    preds = trainer.predict()\n",
    "    test_preds.append(preds)\n",
    "\n",
    "    del test_dataset, test_dataloader, model, trainer\n",
    "    gc.collect()\n",
    "    torch.cuda.empty_cache()"
   ]
  },
  {
   "cell_type": "code",
   "execution_count": 10,
   "id": "8c3a863f",
   "metadata": {
    "execution": {
     "iopub.execute_input": "2024-08-25T08:21:47.270607Z",
     "iopub.status.busy": "2024-08-25T08:21:47.270021Z",
     "iopub.status.idle": "2024-08-25T08:21:47.295585Z",
     "shell.execute_reply": "2024-08-25T08:21:47.294718Z"
    },
    "id": "35WyumonIliL",
    "papermill": {
     "duration": 0.034193,
     "end_time": "2024-08-25T08:21:47.297543",
     "exception": false,
     "start_time": "2024-08-25T08:21:47.263350",
     "status": "completed"
    },
    "tags": []
   },
   "outputs": [
    {
     "data": {
      "text/html": [
       "<div>\n",
       "<style scoped>\n",
       "    .dataframe tbody tr th:only-of-type {\n",
       "        vertical-align: middle;\n",
       "    }\n",
       "\n",
       "    .dataframe tbody tr th {\n",
       "        vertical-align: top;\n",
       "    }\n",
       "\n",
       "    .dataframe thead th {\n",
       "        text-align: right;\n",
       "    }\n",
       "</style>\n",
       "<table border=\"1\" class=\"dataframe\">\n",
       "  <thead>\n",
       "    <tr style=\"text-align: right;\">\n",
       "      <th></th>\n",
       "      <th>isic_id</th>\n",
       "      <th>target</th>\n",
       "    </tr>\n",
       "  </thead>\n",
       "  <tbody>\n",
       "    <tr>\n",
       "      <th>0</th>\n",
       "      <td>ISIC_0015657</td>\n",
       "      <td>0.031418</td>\n",
       "    </tr>\n",
       "    <tr>\n",
       "      <th>1</th>\n",
       "      <td>ISIC_0015729</td>\n",
       "      <td>0.054445</td>\n",
       "    </tr>\n",
       "    <tr>\n",
       "      <th>2</th>\n",
       "      <td>ISIC_0015740</td>\n",
       "      <td>0.013952</td>\n",
       "    </tr>\n",
       "  </tbody>\n",
       "</table>\n",
       "</div>"
      ],
      "text/plain": [
       "        isic_id    target\n",
       "0  ISIC_0015657  0.031418\n",
       "1  ISIC_0015729  0.054445\n",
       "2  ISIC_0015740  0.013952"
      ]
     },
     "execution_count": 10,
     "metadata": {},
     "output_type": "execute_result"
    }
   ],
   "source": [
    "sub = test_metadata.copy()\n",
    "sub['target'] = np.mean(test_preds, axis=0)\n",
    "sub = sub[['isic_id', 'target']]\n",
    "sub.to_csv('submission.csv', index=False)\n",
    "sub.head()"
   ]
  }
 ],
 "metadata": {
  "accelerator": "GPU",
  "colab": {
   "gpuType": "L4",
   "provenance": []
  },
  "kaggle": {
   "accelerator": "gpu",
   "dataSources": [
    {
     "databundleVersionId": 9094797,
     "sourceId": 63056,
     "sourceType": "competition"
    },
    {
     "sourceId": 193871040,
     "sourceType": "kernelVersion"
    }
   ],
   "dockerImageVersionId": 30747,
   "isGpuEnabled": true,
   "isInternetEnabled": false,
   "language": "python",
   "sourceType": "notebook"
  },
  "kernelspec": {
   "display_name": "Python 3",
   "language": "python",
   "name": "python3"
  },
  "language_info": {
   "codemirror_mode": {
    "name": "ipython",
    "version": 3
   },
   "file_extension": ".py",
   "mimetype": "text/x-python",
   "name": "python",
   "nbconvert_exporter": "python",
   "pygments_lexer": "ipython3",
   "version": "3.10.13"
  },
  "papermill": {
   "default_parameters": {},
   "duration": 46.16401,
   "end_time": "2024-08-25T08:21:49.959780",
   "environment_variables": {},
   "exception": null,
   "input_path": "__notebook__.ipynb",
   "output_path": "__notebook__.ipynb",
   "parameters": {},
   "start_time": "2024-08-25T08:21:03.795770",
   "version": "2.5.0"
  }
 },
 "nbformat": 4,
 "nbformat_minor": 5
}
