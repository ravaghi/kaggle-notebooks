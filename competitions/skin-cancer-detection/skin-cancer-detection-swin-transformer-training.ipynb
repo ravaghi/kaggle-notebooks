{
 "cells": [
  {
   "cell_type": "markdown",
   "id": "02dd409f",
   "metadata": {
    "papermill": {
     "duration": 0.00573,
     "end_time": "2024-08-30T11:27:45.329714",
     "exception": false,
     "start_time": "2024-08-30T11:27:45.323984",
     "status": "completed"
    },
    "tags": []
   },
   "source": [
    "### Inference notebook:\n",
    "- https://www.kaggle.com/code/ravaghi/isic-2024-swin-transformer-inference"
   ]
  },
  {
   "cell_type": "markdown",
   "id": "415196e0",
   "metadata": {
    "id": "1dDypZ7k-v-d",
    "papermill": {
     "duration": 0.004832,
     "end_time": "2024-08-30T11:27:45.339887",
     "exception": false,
     "start_time": "2024-08-30T11:27:45.335055",
     "status": "completed"
    },
    "tags": []
   },
   "source": [
    "# Imports and configs"
   ]
  },
  {
   "cell_type": "code",
   "execution_count": 1,
   "id": "44bc9f49",
   "metadata": {
    "execution": {
     "iopub.execute_input": "2024-08-30T11:27:45.352103Z",
     "iopub.status.busy": "2024-08-30T11:27:45.351271Z",
     "iopub.status.idle": "2024-08-30T11:27:54.429928Z",
     "shell.execute_reply": "2024-08-30T11:27:54.429118Z"
    },
    "id": "mqguadtYvxPn",
    "papermill": {
     "duration": 9.087408,
     "end_time": "2024-08-30T11:27:54.432307",
     "exception": false,
     "start_time": "2024-08-30T11:27:45.344899",
     "status": "completed"
    },
    "tags": []
   },
   "outputs": [],
   "source": [
    "from sklearn.model_selection import StratifiedGroupKFold\n",
    "from sklearn.metrics import roc_curve, auc\n",
    "from torch.utils.data import DataLoader, Dataset\n",
    "from albumentations.pytorch import ToTensorV2\n",
    "import matplotlib.pyplot as plt\n",
    "import torch.optim as optim\n",
    "import torch.nn.functional as F\n",
    "import albumentations as A\n",
    "import seaborn as sns\n",
    "from tqdm import tqdm\n",
    "from PIL import Image\n",
    "import torch.nn as nn\n",
    "import pandas as pd\n",
    "import numpy as np\n",
    "import warnings\n",
    "import h5py\n",
    "import torch\n",
    "import random\n",
    "import timm\n",
    "import cv2\n",
    "import io\n",
    "import os\n",
    "import gc\n",
    "\n",
    "warnings.filterwarnings('ignore')"
   ]
  },
  {
   "cell_type": "code",
   "execution_count": 2,
   "id": "10822251",
   "metadata": {
    "execution": {
     "iopub.execute_input": "2024-08-30T11:27:54.444348Z",
     "iopub.status.busy": "2024-08-30T11:27:54.444012Z",
     "iopub.status.idle": "2024-08-30T11:27:54.508647Z",
     "shell.execute_reply": "2024-08-30T11:27:54.507682Z"
    },
    "id": "xOBgLd7--v-h",
    "papermill": {
     "duration": 0.072667,
     "end_time": "2024-08-30T11:27:54.510544",
     "exception": false,
     "start_time": "2024-08-30T11:27:54.437877",
     "status": "completed"
    },
    "tags": []
   },
   "outputs": [],
   "source": [
    "class CFG:\n",
    "    train_metadata_path = '/kaggle/input/isic-2024-challenge/train-metadata.csv'\n",
    "    test_metadata_path = '/kaggle/input/isic-2024-challenge/test-metadata.csv'\n",
    "    train_img_path = '/kaggle/input/isic-2024-challenge/train-image.hdf5'\n",
    "    test_img_path = '/kaggle/input/isic-2024-challenge/test-image.hdf5'\n",
    "    sample_sub_path = '/kaggle/input/isic-2024-challenge/sample_submission.csv'\n",
    "    checkpoint_path = '/kaggle/working/checkpoints'\n",
    "\n",
    "    device = torch.device('cuda' if torch.cuda.is_available() else 'cpu')\n",
    "    image_size = 224\n",
    "    max_epochs = 50\n",
    "    learning_rate = 1e-5\n",
    "    weight_decay = 1e-6\n",
    "    min_lr = 1e-10\n",
    "    t_max = 1000\n",
    "    train_batch_size = 32\n",
    "    val_batch_size = 64\n",
    "    n_folds = 5\n",
    "    seed = 35555\n",
    "    model_name = \"swin_base_patch4_window7_224\"\n",
    "    es_patience = 15"
   ]
  },
  {
   "cell_type": "code",
   "execution_count": 3,
   "id": "0f40a9b8",
   "metadata": {
    "execution": {
     "iopub.execute_input": "2024-08-30T11:27:54.522662Z",
     "iopub.status.busy": "2024-08-30T11:27:54.522115Z",
     "iopub.status.idle": "2024-08-30T11:27:54.531804Z",
     "shell.execute_reply": "2024-08-30T11:27:54.531086Z"
    },
    "id": "5a6g1bxI-v-i",
    "papermill": {
     "duration": 0.01767,
     "end_time": "2024-08-30T11:27:54.533656",
     "exception": false,
     "start_time": "2024-08-30T11:27:54.515986",
     "status": "completed"
    },
    "tags": []
   },
   "outputs": [],
   "source": [
    "def seed_everything(seed):\n",
    "    random.seed(seed)\n",
    "    os.environ['PYTHONHASHSEED'] = str(seed)\n",
    "    np.random.seed(seed)\n",
    "    torch.manual_seed(seed)\n",
    "    torch.cuda.manual_seed(seed)\n",
    "    torch.backends.cudnn.deterministic = True\n",
    "    torch.backends.cudnn.benchmark = False\n",
    "\n",
    "seed_everything(CFG.seed)"
   ]
  },
  {
   "cell_type": "markdown",
   "id": "e61b6b63",
   "metadata": {
    "id": "vM_js2t2-v-i",
    "papermill": {
     "duration": 0.004961,
     "end_time": "2024-08-30T11:27:54.543875",
     "exception": false,
     "start_time": "2024-08-30T11:27:54.538914",
     "status": "completed"
    },
    "tags": []
   },
   "source": [
    "# Loading and splitting the datasets"
   ]
  },
  {
   "cell_type": "code",
   "execution_count": 4,
   "id": "c3df5096",
   "metadata": {
    "execution": {
     "iopub.execute_input": "2024-08-30T11:27:54.555187Z",
     "iopub.status.busy": "2024-08-30T11:27:54.554930Z",
     "iopub.status.idle": "2024-08-30T11:28:03.630804Z",
     "shell.execute_reply": "2024-08-30T11:28:03.629769Z"
    },
    "id": "X7yXnRQG-v-i",
    "papermill": {
     "duration": 9.084319,
     "end_time": "2024-08-30T11:28:03.633344",
     "exception": false,
     "start_time": "2024-08-30T11:27:54.549025",
     "status": "completed"
    },
    "tags": []
   },
   "outputs": [],
   "source": [
    "train_metadata = pd.read_csv(CFG.train_metadata_path)\n",
    "\n",
    "sgkf = StratifiedGroupKFold(n_splits=CFG.n_folds, random_state=CFG.seed, shuffle=True)\n",
    "split = sgkf.split(train_metadata, train_metadata.target, groups=train_metadata.patient_id)\n",
    "for i, (_, val_index) in enumerate(split):\n",
    "    train_metadata.loc[val_index, 'fold'] = i"
   ]
  },
  {
   "cell_type": "markdown",
   "id": "5f5cf067",
   "metadata": {
    "id": "D6JNsMWX-v-i",
    "papermill": {
     "duration": 0.005134,
     "end_time": "2024-08-30T11:28:03.644193",
     "exception": false,
     "start_time": "2024-08-30T11:28:03.639059",
     "status": "completed"
    },
    "tags": []
   },
   "source": [
    "# Creating a custom image dataset"
   ]
  },
  {
   "cell_type": "code",
   "execution_count": 5,
   "id": "b7f150b3",
   "metadata": {
    "execution": {
     "iopub.execute_input": "2024-08-30T11:28:03.656495Z",
     "iopub.status.busy": "2024-08-30T11:28:03.655743Z",
     "iopub.status.idle": "2024-08-30T11:28:03.663870Z",
     "shell.execute_reply": "2024-08-30T11:28:03.663045Z"
    },
    "id": "DxAgokRgvxPr",
    "papermill": {
     "duration": 0.016287,
     "end_time": "2024-08-30T11:28:03.665765",
     "exception": false,
     "start_time": "2024-08-30T11:28:03.649478",
     "status": "completed"
    },
    "tags": []
   },
   "outputs": [],
   "source": [
    "class ISICDataset(Dataset):\n",
    "    def __init__(self, data_path, metadata, transform=None):\n",
    "        self.data = h5py.File(data_path, 'r')\n",
    "        self.metadata = metadata\n",
    "        self.transform = transform\n",
    "\n",
    "    def __len__(self):\n",
    "        return len(self.metadata)\n",
    "\n",
    "    def __getitem__(self, idx):\n",
    "        img_name = self.metadata.iloc[idx]['isic_id']\n",
    "        image = np.array(self.data[img_name])\n",
    "        image = np.array(Image.open(io.BytesIO(image)))\n",
    "        image = cv2.cvtColor(image, cv2.COLOR_BGR2RGB)\n",
    "\n",
    "        if self.transform:\n",
    "            augmented = self.transform(image=image)\n",
    "            image = augmented['image']\n",
    "\n",
    "        if 'target' in self.metadata.columns:\n",
    "            label = int(self.metadata['target'].iloc[idx])\n",
    "            return image, label\n",
    "        else:\n",
    "            return image, 0"
   ]
  },
  {
   "cell_type": "code",
   "execution_count": 6,
   "id": "1563fb5c",
   "metadata": {
    "execution": {
     "iopub.execute_input": "2024-08-30T11:28:03.678413Z",
     "iopub.status.busy": "2024-08-30T11:28:03.677654Z",
     "iopub.status.idle": "2024-08-30T11:28:03.687442Z",
     "shell.execute_reply": "2024-08-30T11:28:03.686596Z"
    },
    "id": "6tUJogKp-v-j",
    "papermill": {
     "duration": 0.01816,
     "end_time": "2024-08-30T11:28:03.689287",
     "exception": false,
     "start_time": "2024-08-30T11:28:03.671127",
     "status": "completed"
    },
    "tags": []
   },
   "outputs": [],
   "source": [
    "transforms = {\n",
    "    'train': A.Compose([\n",
    "        A.RandomRotate90(p=0.5),\n",
    "        A.Flip(p=0.5),\n",
    "        A.Transpose(p=0.5),\n",
    "        A.ShiftScaleRotate(shift_limit=0.1, scale_limit=0.1, rotate_limit=45, p=0.5),\n",
    "        A.OneOf([\n",
    "            A.HueSaturationValue(p=0.5),\n",
    "            A.RandomBrightnessContrast(p=0.5),\n",
    "        ], p=0.5),\n",
    "        A.OneOf([\n",
    "            A.GaussNoise(p=0.5),\n",
    "            A.GaussianBlur(p=0.5),\n",
    "            A.MotionBlur(p=0.5),\n",
    "        ], p=0.5),\n",
    "        A.Resize(CFG.image_size, CFG.image_size),\n",
    "        A.Normalize(\n",
    "            mean=[0.4815, 0.4578, 0.4082],\n",
    "            std=[0.2686, 0.2613, 0.2758],\n",
    "            max_pixel_value=255.0),\n",
    "        ToTensorV2(),\n",
    "    ]),\n",
    "\n",
    "    'val': A.Compose([\n",
    "        A.Resize(CFG.image_size, CFG.image_size),\n",
    "        A.Normalize(\n",
    "            mean=[0.4815, 0.4578, 0.4082],\n",
    "            std=[0.2686, 0.2613, 0.2758],\n",
    "            max_pixel_value=255.0),\n",
    "        ToTensorV2(),\n",
    "    ])\n",
    "}"
   ]
  },
  {
   "cell_type": "markdown",
   "id": "21c821f9",
   "metadata": {
    "id": "QSzebgg8-v-j",
    "papermill": {
     "duration": 0.005336,
     "end_time": "2024-08-30T11:28:03.699992",
     "exception": false,
     "start_time": "2024-08-30T11:28:03.694656",
     "status": "completed"
    },
    "tags": []
   },
   "source": [
    "# Customizing the image model"
   ]
  },
  {
   "cell_type": "code",
   "execution_count": 7,
   "id": "c2e9d939",
   "metadata": {
    "execution": {
     "iopub.execute_input": "2024-08-30T11:28:03.712029Z",
     "iopub.status.busy": "2024-08-30T11:28:03.711769Z",
     "iopub.status.idle": "2024-08-30T11:28:03.717973Z",
     "shell.execute_reply": "2024-08-30T11:28:03.717191Z"
    },
    "id": "uhUwzYAHRelB",
    "papermill": {
     "duration": 0.014318,
     "end_time": "2024-08-30T11:28:03.719804",
     "exception": false,
     "start_time": "2024-08-30T11:28:03.705486",
     "status": "completed"
    },
    "tags": []
   },
   "outputs": [],
   "source": [
    "class SwinTransformer(nn.Module):\n",
    "    def __init__(self, model_name, pretrained=True):\n",
    "        super(SwinTransformer, self).__init__()\n",
    "        self.model = timm.create_model(model_name, pretrained=pretrained)\n",
    "        self.model.head = nn.Sequential(\n",
    "            nn.Flatten(),\n",
    "            nn.Linear(self.model.num_features * 7 * 7, 512),\n",
    "            nn.BatchNorm1d(512),\n",
    "            nn.ReLU(),\n",
    "            nn.Dropout(0.5),\n",
    "            nn.Linear(512, 1),\n",
    "            nn.Sigmoid()\n",
    "        )\n",
    "\n",
    "    def forward(self, x):\n",
    "        return self.model(x)"
   ]
  },
  {
   "cell_type": "markdown",
   "id": "83364111",
   "metadata": {
    "id": "NbENY6cl-v-j",
    "papermill": {
     "duration": 0.00522,
     "end_time": "2024-08-30T11:28:03.730753",
     "exception": false,
     "start_time": "2024-08-30T11:28:03.725533",
     "status": "completed"
    },
    "tags": []
   },
   "source": [
    "# Creating a trainer class"
   ]
  },
  {
   "cell_type": "code",
   "execution_count": 8,
   "id": "169583d5",
   "metadata": {
    "execution": {
     "iopub.execute_input": "2024-08-30T11:28:03.743515Z",
     "iopub.status.busy": "2024-08-30T11:28:03.742899Z",
     "iopub.status.idle": "2024-08-30T11:28:03.770631Z",
     "shell.execute_reply": "2024-08-30T11:28:03.769858Z"
    },
    "id": "yWUV5TeWvxPs",
    "papermill": {
     "duration": 0.036562,
     "end_time": "2024-08-30T11:28:03.772822",
     "exception": false,
     "start_time": "2024-08-30T11:28:03.736260",
     "status": "completed"
    },
    "tags": []
   },
   "outputs": [],
   "source": [
    "class Trainer:\n",
    "    def __init__(\n",
    "        self,\n",
    "        device,\n",
    "        model,\n",
    "        criterion,\n",
    "        optimizer,\n",
    "        scheduler,\n",
    "        train_dataloader,\n",
    "        val_dataloader,\n",
    "        checkpoint_path,\n",
    "        fold_idx,\n",
    "        es_patience\n",
    "    ):\n",
    "        self.device = device\n",
    "        self.model = model\n",
    "        self.criterion = criterion\n",
    "        self.optimizer = optimizer\n",
    "        self.scheduler = scheduler\n",
    "        self.train_dataloader = train_dataloader\n",
    "        self.val_dataloader = val_dataloader\n",
    "        self.checkpoint_path = checkpoint_path\n",
    "        self.best_pauc = 0.0\n",
    "        self.best_model_path = None\n",
    "        self.fold_idx = fold_idx\n",
    "        self.es_patience = es_patience\n",
    "        self.create_checkpoint_path()\n",
    "\n",
    "    def create_checkpoint_path(self):\n",
    "        if not os.path.exists(self.checkpoint_path):\n",
    "            os.makedirs(self.checkpoint_path)\n",
    "\n",
    "    @staticmethod\n",
    "    def p_roc_auc_score(y_true, y_preds, min_tpr: float = 0.80):\n",
    "        v_gt = abs(np.asarray(y_true)-1)\n",
    "        v_pred = -1.0 * np.asarray(y_preds)\n",
    "        max_fpr = abs(1-min_tpr)\n",
    "        fpr, tpr, _ = roc_curve(v_gt, v_pred, sample_weight=None)\n",
    "        if max_fpr is None or max_fpr == 1:\n",
    "            return auc(fpr, tpr)\n",
    "        if max_fpr <= 0 or max_fpr > 1:\n",
    "            raise ValueError(\"Expected min_tpr in range [0, 1), got: %r\" % min_tpr)\n",
    "        stop = np.searchsorted(fpr, max_fpr, \"right\")\n",
    "        x_interp = [fpr[stop - 1], fpr[stop]]\n",
    "        y_interp = [tpr[stop - 1], tpr[stop]]\n",
    "        tpr = np.append(tpr[:stop], np.interp(max_fpr, x_interp, y_interp))\n",
    "        fpr = np.append(fpr[:stop], max_fpr)\n",
    "        partial_auc = auc(fpr, tpr)\n",
    "        return partial_auc\n",
    "\n",
    "    def train(self, current_epoch_nr):\n",
    "        self.model.train()\n",
    "\n",
    "        num_batches = len(self.train_dataloader)\n",
    "\n",
    "        running_loss = 0.0\n",
    "        total = 0\n",
    "\n",
    "        preds = []\n",
    "        targets = []\n",
    "\n",
    "        loop = tqdm(self.train_dataloader, total=num_batches)\n",
    "        for batch in loop:\n",
    "            x, y = batch\n",
    "            x, y = x.to(self.device, dtype=torch.float), y.to(self.device, dtype=torch.float)\n",
    "\n",
    "            self.optimizer.zero_grad()\n",
    "\n",
    "            y_hat = self.model(x).squeeze()\n",
    "\n",
    "            preds.extend(y_hat.detach().cpu().numpy())\n",
    "            targets.extend(y.detach().cpu().numpy())\n",
    "\n",
    "            loss = self.criterion(y_hat, y)\n",
    "            loss.backward()\n",
    "            self.optimizer.step()\n",
    "\n",
    "            running_loss += loss.item() * x.size(0)\n",
    "            total += y.size(0)\n",
    "\n",
    "            loop.set_description(f'Epoch {current_epoch_nr}')\n",
    "            loop.set_postfix(train_loss=round(running_loss / total, 6))\n",
    "\n",
    "            if self.scheduler is not None:\n",
    "                self.scheduler.step()\n",
    "\n",
    "        train_pauc = self.p_roc_auc_score(targets, preds)\n",
    "        train_loss = running_loss / num_batches\n",
    "\n",
    "        return train_pauc, train_loss\n",
    "\n",
    "    def evaluate(self, current_epoch_nr):\n",
    "        self.model.eval()\n",
    "\n",
    "        num_batches = len(self.val_dataloader)\n",
    "\n",
    "        running_loss = 0.0\n",
    "        total = 0\n",
    "\n",
    "        preds = []\n",
    "        targets = []\n",
    "\n",
    "        with torch.no_grad():\n",
    "            loop = tqdm(self.val_dataloader, total=num_batches)\n",
    "            for batch in loop:\n",
    "                x, y = batch\n",
    "                x, y = x.to(self.device, dtype=torch.float), y.to(self.device, dtype=torch.float)\n",
    "\n",
    "                self.optimizer.zero_grad()\n",
    "\n",
    "                y_hat = self.model(x).squeeze()\n",
    "\n",
    "                preds.extend(y_hat.detach().cpu().numpy())\n",
    "                targets.extend(y.detach().cpu().numpy())\n",
    "\n",
    "                loss = self.criterion(y_hat, y)\n",
    "                running_loss += loss.item() * x.size(0)\n",
    "                total += y.size(0)\n",
    "\n",
    "                loop.set_description(f'Epoch {current_epoch_nr}')\n",
    "                loop.set_postfix(val_loss=round(running_loss / total, 6))\n",
    "\n",
    "        val_pauc = self.p_roc_auc_score(targets, preds)\n",
    "        val_loss = running_loss / num_batches\n",
    "\n",
    "        if val_pauc > self.best_pauc:\n",
    "            self.es_patience = CFG.es_patience\n",
    "            if self.best_pauc != 0.0:\n",
    "                print(f'New best model found: pAUC = {val_pauc:.6f} (previous best: {self.best_pauc:.6f})')\n",
    "            self.best_pauc = val_pauc\n",
    "            checkpoint_name = f'fold_{self.fold_idx}_epoch_{current_epoch_nr}_pauc_{round(val_pauc, 6)}.pth'\n",
    "\n",
    "            for file in os.listdir(self.checkpoint_path):\n",
    "                if file.startswith(f'fold_{self.fold_idx}_epoch_'):\n",
    "                    os.remove(os.path.join(self.checkpoint_path, file))\n",
    "\n",
    "            torch.save(\n",
    "                self.model.state_dict(),\n",
    "                os.path.join(self.checkpoint_path, checkpoint_name)\n",
    "            )\n",
    "            self.best_model_path = os.path.join(\n",
    "                self.checkpoint_path, checkpoint_name)\n",
    "\n",
    "        else:\n",
    "            self.es_patience -= 1\n",
    "            if self.es_patience == 0:\n",
    "                print(f'Early stopping triggered at epoch {current_epoch_nr}. Best pAUC = {self.best_pauc:.6f}')\n",
    "                return val_pauc, val_loss, True\n",
    "\n",
    "        return val_pauc, val_loss, False\n",
    "\n",
    "    def predict(self, dataloader):\n",
    "        model = self.model.to(self.device)\n",
    "        model.load_state_dict(torch.load(self.best_model_path))\n",
    "        model.eval()\n",
    "\n",
    "        preds = []\n",
    "        with torch.no_grad():\n",
    "            loop = tqdm(dataloader, total=len(dataloader))\n",
    "            for batch in loop:\n",
    "                x, _ = batch\n",
    "                x = x.to(self.device, dtype=torch.float)\n",
    "                y_hat = model(x).squeeze()\n",
    "                preds.extend(y_hat.detach().cpu().numpy())\n",
    "                loop.set_description(f'Prediction')\n",
    "\n",
    "        return preds"
   ]
  },
  {
   "cell_type": "markdown",
   "id": "a9b97adb",
   "metadata": {
    "id": "uE7oYGyR-v-j",
    "papermill": {
     "duration": 0.005344,
     "end_time": "2024-08-30T11:28:03.783964",
     "exception": false,
     "start_time": "2024-08-30T11:28:03.778620",
     "status": "completed"
    },
    "tags": []
   },
   "source": [
    "# Training and cross-validation"
   ]
  },
  {
   "cell_type": "code",
   "execution_count": 9,
   "id": "60f5d491",
   "metadata": {
    "_kg_hide-output": true,
    "execution": {
     "iopub.execute_input": "2024-08-30T11:28:03.796831Z",
     "iopub.status.busy": "2024-08-30T11:28:03.796282Z",
     "iopub.status.idle": "2024-08-30T19:26:30.451249Z",
     "shell.execute_reply": "2024-08-30T19:26:30.450377Z"
    },
    "id": "z6ry0OmfyEmZ",
    "outputId": "be79b77b-0941-4759-b0c8-635e6c72b19e",
    "papermill": {
     "duration": 28706.664949,
     "end_time": "2024-08-30T19:26:30.454410",
     "exception": false,
     "start_time": "2024-08-30T11:28:03.789461",
     "status": "completed"
    },
    "tags": []
   },
   "outputs": [
    {
     "name": "stdout",
     "output_type": "stream",
     "text": [
      "---------------------------------- Fold 1 ----------------------------------\n"
     ]
    },
    {
     "data": {
      "application/vnd.jupyter.widget-view+json": {
       "model_id": "eff4108843104416b08f6a29670cf2bd",
       "version_major": 2,
       "version_minor": 0
      },
      "text/plain": [
       "model.safetensors:   0%|          | 0.00/353M [00:00<?, ?B/s]"
      ]
     },
     "metadata": {},
     "output_type": "display_data"
    },
    {
     "name": "stderr",
     "output_type": "stream",
     "text": [
      "Epoch 1: 100%|██████████| 207/207 [02:12<00:00,  1.56it/s, train_loss=0.645]\n",
      "Epoch 1: 100%|██████████| 26/26 [00:11<00:00,  2.19it/s, val_loss=0.511]\n"
     ]
    },
    {
     "name": "stdout",
     "output_type": "stream",
     "text": [
      "Epoch 1: Train pAUC: 0.050212 - Val pAUC: 0.061066 | Train Loss: 20.552592 - Val Loss: 32.581442\n",
      "\n"
     ]
    },
    {
     "name": "stderr",
     "output_type": "stream",
     "text": [
      "Epoch 2: 100%|██████████| 207/207 [02:10<00:00,  1.58it/s, train_loss=0.449]\n",
      "Epoch 2: 100%|██████████| 26/26 [00:11<00:00,  2.31it/s, val_loss=0.291]\n"
     ]
    },
    {
     "name": "stdout",
     "output_type": "stream",
     "text": [
      "New best model found: pAUC = 0.081639 (previous best: 0.061066)\n",
      "Epoch 2: Train pAUC: 0.062353 - Val pAUC: 0.081639 | Train Loss: 14.300601 - Val Loss: 18.557488\n",
      "\n"
     ]
    },
    {
     "name": "stderr",
     "output_type": "stream",
     "text": [
      "Epoch 3: 100%|██████████| 207/207 [02:10<00:00,  1.58it/s, train_loss=0.316]\n",
      "Epoch 3: 100%|██████████| 26/26 [00:11<00:00,  2.29it/s, val_loss=0.229]\n"
     ]
    },
    {
     "name": "stdout",
     "output_type": "stream",
     "text": [
      "New best model found: pAUC = 0.093092 (previous best: 0.081639)\n",
      "Epoch 3: Train pAUC: 0.062438 - Val pAUC: 0.093092 | Train Loss: 10.058597 - Val Loss: 14.605235\n",
      "\n"
     ]
    },
    {
     "name": "stderr",
     "output_type": "stream",
     "text": [
      "Epoch 4: 100%|██████████| 207/207 [02:10<00:00,  1.58it/s, train_loss=0.236]\n",
      "Epoch 4: 100%|██████████| 26/26 [00:11<00:00,  2.30it/s, val_loss=0.186]\n"
     ]
    },
    {
     "name": "stdout",
     "output_type": "stream",
     "text": [
      "Epoch 4: Train pAUC: 0.071442 - Val pAUC: 0.089458 | Train Loss: 7.517815 - Val Loss: 11.856162\n",
      "\n"
     ]
    },
    {
     "name": "stderr",
     "output_type": "stream",
     "text": [
      "Epoch 5: 100%|██████████| 207/207 [02:10<00:00,  1.58it/s, train_loss=0.205]\n",
      "Epoch 5: 100%|██████████| 26/26 [00:11<00:00,  2.31it/s, val_loss=0.15]\n"
     ]
    },
    {
     "name": "stdout",
     "output_type": "stream",
     "text": [
      "Epoch 5: Train pAUC: 0.073606 - Val pAUC: 0.083455 | Train Loss: 6.519325 - Val Loss: 9.541587\n",
      "\n"
     ]
    },
    {
     "name": "stderr",
     "output_type": "stream",
     "text": [
      "Epoch 6: 100%|██████████| 207/207 [02:10<00:00,  1.58it/s, train_loss=0.188]\n",
      "Epoch 6: 100%|██████████| 26/26 [00:11<00:00,  2.30it/s, val_loss=0.164]\n"
     ]
    },
    {
     "name": "stdout",
     "output_type": "stream",
     "text": [
      "New best model found: pAUC = 0.102168 (previous best: 0.093092)\n",
      "Epoch 6: Train pAUC: 0.064783 - Val pAUC: 0.102168 | Train Loss: 6.000356 - Val Loss: 10.479238\n",
      "\n"
     ]
    },
    {
     "name": "stderr",
     "output_type": "stream",
     "text": [
      "Epoch 7: 100%|██████████| 207/207 [02:10<00:00,  1.58it/s, train_loss=0.163]\n",
      "Epoch 7: 100%|██████████| 26/26 [00:11<00:00,  2.28it/s, val_loss=0.138]\n"
     ]
    },
    {
     "name": "stdout",
     "output_type": "stream",
     "text": [
      "Epoch 7: Train pAUC: 0.090019 - Val pAUC: 0.094414 | Train Loss: 5.198977 - Val Loss: 8.785572\n",
      "\n"
     ]
    },
    {
     "name": "stderr",
     "output_type": "stream",
     "text": [
      "Epoch 8: 100%|██████████| 207/207 [02:10<00:00,  1.58it/s, train_loss=0.158]\n",
      "Epoch 8: 100%|██████████| 26/26 [00:11<00:00,  2.28it/s, val_loss=0.142]\n"
     ]
    },
    {
     "name": "stdout",
     "output_type": "stream",
     "text": [
      "Epoch 8: Train pAUC: 0.097772 - Val pAUC: 0.086747 | Train Loss: 5.029030 - Val Loss: 9.063874\n",
      "\n"
     ]
    },
    {
     "name": "stderr",
     "output_type": "stream",
     "text": [
      "Epoch 9: 100%|██████████| 207/207 [02:10<00:00,  1.58it/s, train_loss=0.148]\n",
      "Epoch 9: 100%|██████████| 26/26 [00:11<00:00,  2.29it/s, val_loss=0.151]\n"
     ]
    },
    {
     "name": "stdout",
     "output_type": "stream",
     "text": [
      "New best model found: pAUC = 0.112807 (previous best: 0.102168)\n",
      "Epoch 9: Train pAUC: 0.110435 - Val pAUC: 0.112807 | Train Loss: 4.710838 - Val Loss: 9.605000\n",
      "\n"
     ]
    },
    {
     "name": "stderr",
     "output_type": "stream",
     "text": [
      "Epoch 10: 100%|██████████| 207/207 [02:10<00:00,  1.58it/s, train_loss=0.143]\n",
      "Epoch 10: 100%|██████████| 26/26 [00:11<00:00,  2.29it/s, val_loss=0.141]\n"
     ]
    },
    {
     "name": "stdout",
     "output_type": "stream",
     "text": [
      "Epoch 10: Train pAUC: 0.110592 - Val pAUC: 0.110115 | Train Loss: 4.559643 - Val Loss: 9.006226\n",
      "\n"
     ]
    },
    {
     "name": "stderr",
     "output_type": "stream",
     "text": [
      "Epoch 11: 100%|██████████| 207/207 [02:10<00:00,  1.58it/s, train_loss=0.132]\n",
      "Epoch 11: 100%|██████████| 26/26 [00:11<00:00,  2.31it/s, val_loss=0.143]\n"
     ]
    },
    {
     "name": "stdout",
     "output_type": "stream",
     "text": [
      "Epoch 11: Train pAUC: 0.104054 - Val pAUC: 0.110309 | Train Loss: 4.193615 - Val Loss: 9.101969\n",
      "\n"
     ]
    },
    {
     "name": "stderr",
     "output_type": "stream",
     "text": [
      "Epoch 12: 100%|██████████| 207/207 [02:10<00:00,  1.58it/s, train_loss=0.126]\n",
      "Epoch 12: 100%|██████████| 26/26 [00:11<00:00,  2.28it/s, val_loss=0.131]\n"
     ]
    },
    {
     "name": "stdout",
     "output_type": "stream",
     "text": [
      "Epoch 12: Train pAUC: 0.124030 - Val pAUC: 0.101779 | Train Loss: 4.011059 - Val Loss: 8.358750\n",
      "\n"
     ]
    },
    {
     "name": "stderr",
     "output_type": "stream",
     "text": [
      "Epoch 13: 100%|██████████| 207/207 [02:10<00:00,  1.58it/s, train_loss=0.122]\n",
      "Epoch 13: 100%|██████████| 26/26 [00:11<00:00,  2.29it/s, val_loss=0.127]\n"
     ]
    },
    {
     "name": "stdout",
     "output_type": "stream",
     "text": [
      "Epoch 13: Train pAUC: 0.131782 - Val pAUC: 0.106235 | Train Loss: 3.870447 - Val Loss: 8.109815\n",
      "\n"
     ]
    },
    {
     "name": "stderr",
     "output_type": "stream",
     "text": [
      "Epoch 14: 100%|██████████| 207/207 [02:10<00:00,  1.58it/s, train_loss=0.116]\n",
      "Epoch 14: 100%|██████████| 26/26 [00:11<00:00,  2.31it/s, val_loss=0.134]\n"
     ]
    },
    {
     "name": "stdout",
     "output_type": "stream",
     "text": [
      "New best model found: pAUC = 0.119470 (previous best: 0.112807)\n",
      "Epoch 14: Train pAUC: 0.124004 - Val pAUC: 0.119470 | Train Loss: 3.687757 - Val Loss: 8.539247\n",
      "\n"
     ]
    },
    {
     "name": "stderr",
     "output_type": "stream",
     "text": [
      "Epoch 15: 100%|██████████| 207/207 [02:10<00:00,  1.58it/s, train_loss=0.113]\n",
      "Epoch 15: 100%|██████████| 26/26 [00:11<00:00,  2.30it/s, val_loss=0.132]\n"
     ]
    },
    {
     "name": "stdout",
     "output_type": "stream",
     "text": [
      "New best model found: pAUC = 0.124097 (previous best: 0.119470)\n",
      "Epoch 15: Train pAUC: 0.126176 - Val pAUC: 0.124097 | Train Loss: 3.604120 - Val Loss: 8.417101\n",
      "\n"
     ]
    },
    {
     "name": "stderr",
     "output_type": "stream",
     "text": [
      "Epoch 16: 100%|██████████| 207/207 [02:10<00:00,  1.58it/s, train_loss=0.107]\n",
      "Epoch 16: 100%|██████████| 26/26 [00:11<00:00,  2.30it/s, val_loss=0.137]\n"
     ]
    },
    {
     "name": "stdout",
     "output_type": "stream",
     "text": [
      "Epoch 16: Train pAUC: 0.129977 - Val pAUC: 0.108652 | Train Loss: 3.401265 - Val Loss: 8.771842\n",
      "\n"
     ]
    },
    {
     "name": "stderr",
     "output_type": "stream",
     "text": [
      "Epoch 17: 100%|██████████| 207/207 [02:10<00:00,  1.58it/s, train_loss=0.105]\n",
      "Epoch 17: 100%|██████████| 26/26 [00:11<00:00,  2.31it/s, val_loss=0.13]\n"
     ]
    },
    {
     "name": "stdout",
     "output_type": "stream",
     "text": [
      "Epoch 17: Train pAUC: 0.139846 - Val pAUC: 0.119787 | Train Loss: 3.345740 - Val Loss: 8.266369\n",
      "\n"
     ]
    },
    {
     "name": "stderr",
     "output_type": "stream",
     "text": [
      "Epoch 18: 100%|██████████| 207/207 [02:10<00:00,  1.58it/s, train_loss=0.0963]\n",
      "Epoch 18: 100%|██████████| 26/26 [00:11<00:00,  2.30it/s, val_loss=0.13]\n"
     ]
    },
    {
     "name": "stdout",
     "output_type": "stream",
     "text": [
      "Epoch 18: Train pAUC: 0.143560 - Val pAUC: 0.107896 | Train Loss: 3.066709 - Val Loss: 8.265856\n",
      "\n"
     ]
    },
    {
     "name": "stderr",
     "output_type": "stream",
     "text": [
      "Epoch 19: 100%|██████████| 207/207 [02:10<00:00,  1.58it/s, train_loss=0.0921]\n",
      "Epoch 19: 100%|██████████| 26/26 [00:11<00:00,  2.31it/s, val_loss=0.133]\n"
     ]
    },
    {
     "name": "stdout",
     "output_type": "stream",
     "text": [
      "Epoch 19: Train pAUC: 0.143124 - Val pAUC: 0.106313 | Train Loss: 2.935132 - Val Loss: 8.462645\n",
      "\n"
     ]
    },
    {
     "name": "stderr",
     "output_type": "stream",
     "text": [
      "Epoch 20: 100%|██████████| 207/207 [02:10<00:00,  1.58it/s, train_loss=0.0905]\n",
      "Epoch 20: 100%|██████████| 26/26 [00:11<00:00,  2.29it/s, val_loss=0.122]\n"
     ]
    },
    {
     "name": "stdout",
     "output_type": "stream",
     "text": [
      "Epoch 20: Train pAUC: 0.150034 - Val pAUC: 0.120155 | Train Loss: 2.882715 - Val Loss: 7.810787\n",
      "\n"
     ]
    },
    {
     "name": "stderr",
     "output_type": "stream",
     "text": [
      "Epoch 21: 100%|██████████| 207/207 [02:10<00:00,  1.58it/s, train_loss=0.0843]\n",
      "Epoch 21: 100%|██████████| 26/26 [00:11<00:00,  2.30it/s, val_loss=0.145]\n"
     ]
    },
    {
     "name": "stdout",
     "output_type": "stream",
     "text": [
      "Epoch 21: Train pAUC: 0.153243 - Val pAUC: 0.119406 | Train Loss: 2.685895 - Val Loss: 9.228716\n",
      "\n"
     ]
    },
    {
     "name": "stderr",
     "output_type": "stream",
     "text": [
      "Epoch 22: 100%|██████████| 207/207 [02:10<00:00,  1.58it/s, train_loss=0.0806]\n",
      "Epoch 22: 100%|██████████| 26/26 [00:11<00:00,  2.29it/s, val_loss=0.13]\n"
     ]
    },
    {
     "name": "stdout",
     "output_type": "stream",
     "text": [
      "Epoch 22: Train pAUC: 0.159412 - Val pAUC: 0.098411 | Train Loss: 2.567658 - Val Loss: 8.309549\n",
      "\n"
     ]
    },
    {
     "name": "stderr",
     "output_type": "stream",
     "text": [
      "Epoch 23: 100%|██████████| 207/207 [02:10<00:00,  1.58it/s, train_loss=0.0843]\n",
      "Epoch 23: 100%|██████████| 26/26 [00:11<00:00,  2.29it/s, val_loss=0.142]\n"
     ]
    },
    {
     "name": "stdout",
     "output_type": "stream",
     "text": [
      "Epoch 23: Train pAUC: 0.143541 - Val pAUC: 0.112017 | Train Loss: 2.686213 - Val Loss: 9.041602\n",
      "\n"
     ]
    },
    {
     "name": "stderr",
     "output_type": "stream",
     "text": [
      "Epoch 24: 100%|██████████| 207/207 [02:10<00:00,  1.58it/s, train_loss=0.0792]\n",
      "Epoch 24: 100%|██████████| 26/26 [00:11<00:00,  2.29it/s, val_loss=0.148]\n"
     ]
    },
    {
     "name": "stdout",
     "output_type": "stream",
     "text": [
      "New best model found: pAUC = 0.129003 (previous best: 0.124097)\n",
      "Epoch 24: Train pAUC: 0.156003 - Val pAUC: 0.129003 | Train Loss: 2.522980 - Val Loss: 9.457127\n",
      "\n"
     ]
    },
    {
     "name": "stderr",
     "output_type": "stream",
     "text": [
      "Epoch 25: 100%|██████████| 207/207 [02:10<00:00,  1.58it/s, train_loss=0.0759]\n",
      "Epoch 25: 100%|██████████| 26/26 [00:11<00:00,  2.31it/s, val_loss=0.142]\n"
     ]
    },
    {
     "name": "stdout",
     "output_type": "stream",
     "text": [
      "Epoch 25: Train pAUC: 0.150717 - Val pAUC: 0.104523 | Train Loss: 2.417026 - Val Loss: 9.049774\n",
      "\n"
     ]
    },
    {
     "name": "stderr",
     "output_type": "stream",
     "text": [
      "Epoch 26: 100%|██████████| 207/207 [02:10<00:00,  1.58it/s, train_loss=0.0741]\n",
      "Epoch 26: 100%|██████████| 26/26 [00:11<00:00,  2.30it/s, val_loss=0.136]\n"
     ]
    },
    {
     "name": "stdout",
     "output_type": "stream",
     "text": [
      "Epoch 26: Train pAUC: 0.152621 - Val pAUC: 0.105055 | Train Loss: 2.361854 - Val Loss: 8.654178\n",
      "\n"
     ]
    },
    {
     "name": "stderr",
     "output_type": "stream",
     "text": [
      "Epoch 27: 100%|██████████| 207/207 [02:10<00:00,  1.58it/s, train_loss=0.0857]\n",
      "Epoch 27: 100%|██████████| 26/26 [00:11<00:00,  2.29it/s, val_loss=0.134]\n"
     ]
    },
    {
     "name": "stdout",
     "output_type": "stream",
     "text": [
      "Epoch 27: Train pAUC: 0.156725 - Val pAUC: 0.118422 | Train Loss: 2.731466 - Val Loss: 8.531695\n",
      "\n"
     ]
    },
    {
     "name": "stderr",
     "output_type": "stream",
     "text": [
      "Epoch 28: 100%|██████████| 207/207 [02:10<00:00,  1.58it/s, train_loss=0.0739]\n",
      "Epoch 28: 100%|██████████| 26/26 [00:11<00:00,  2.30it/s, val_loss=0.136]\n"
     ]
    },
    {
     "name": "stdout",
     "output_type": "stream",
     "text": [
      "Epoch 28: Train pAUC: 0.160787 - Val pAUC: 0.108539 | Train Loss: 2.354706 - Val Loss: 8.674229\n",
      "\n"
     ]
    },
    {
     "name": "stderr",
     "output_type": "stream",
     "text": [
      "Epoch 29: 100%|██████████| 207/207 [02:10<00:00,  1.58it/s, train_loss=0.0677]\n",
      "Epoch 29: 100%|██████████| 26/26 [00:11<00:00,  2.31it/s, val_loss=0.146]\n"
     ]
    },
    {
     "name": "stdout",
     "output_type": "stream",
     "text": [
      "Epoch 29: Train pAUC: 0.167789 - Val pAUC: 0.121000 | Train Loss: 2.155434 - Val Loss: 9.344424\n",
      "\n"
     ]
    },
    {
     "name": "stderr",
     "output_type": "stream",
     "text": [
      "Epoch 30: 100%|██████████| 207/207 [02:10<00:00,  1.58it/s, train_loss=0.0716]\n",
      "Epoch 30: 100%|██████████| 26/26 [00:11<00:00,  2.28it/s, val_loss=0.136]\n"
     ]
    },
    {
     "name": "stdout",
     "output_type": "stream",
     "text": [
      "Epoch 30: Train pAUC: 0.158364 - Val pAUC: 0.104124 | Train Loss: 2.280881 - Val Loss: 8.661675\n",
      "\n"
     ]
    },
    {
     "name": "stderr",
     "output_type": "stream",
     "text": [
      "Epoch 31: 100%|██████████| 207/207 [02:10<00:00,  1.58it/s, train_loss=0.0704]\n",
      "Epoch 31: 100%|██████████| 26/26 [00:11<00:00,  2.31it/s, val_loss=0.137]\n"
     ]
    },
    {
     "name": "stdout",
     "output_type": "stream",
     "text": [
      "Epoch 31: Train pAUC: 0.163537 - Val pAUC: 0.102331 | Train Loss: 2.243643 - Val Loss: 8.748659\n",
      "\n"
     ]
    },
    {
     "name": "stderr",
     "output_type": "stream",
     "text": [
      "Epoch 32: 100%|██████████| 207/207 [02:10<00:00,  1.58it/s, train_loss=0.0723]\n",
      "Epoch 32: 100%|██████████| 26/26 [00:11<00:00,  2.30it/s, val_loss=0.139]\n"
     ]
    },
    {
     "name": "stdout",
     "output_type": "stream",
     "text": [
      "Epoch 32: Train pAUC: 0.159389 - Val pAUC: 0.106502 | Train Loss: 2.302468 - Val Loss: 8.898677\n",
      "\n"
     ]
    },
    {
     "name": "stderr",
     "output_type": "stream",
     "text": [
      "Epoch 33: 100%|██████████| 207/207 [02:10<00:00,  1.58it/s, train_loss=0.0622]\n",
      "Epoch 33: 100%|██████████| 26/26 [00:11<00:00,  2.29it/s, val_loss=0.14]\n"
     ]
    },
    {
     "name": "stdout",
     "output_type": "stream",
     "text": [
      "Epoch 33: Train pAUC: 0.172910 - Val pAUC: 0.104443 | Train Loss: 1.979865 - Val Loss: 8.929343\n",
      "\n"
     ]
    },
    {
     "name": "stderr",
     "output_type": "stream",
     "text": [
      "Epoch 34: 100%|██████████| 207/207 [02:10<00:00,  1.58it/s, train_loss=0.0671]\n",
      "Epoch 34: 100%|██████████| 26/26 [00:11<00:00,  2.31it/s, val_loss=0.146]\n"
     ]
    },
    {
     "name": "stdout",
     "output_type": "stream",
     "text": [
      "Epoch 34: Train pAUC: 0.162376 - Val pAUC: 0.098378 | Train Loss: 2.138296 - Val Loss: 9.337980\n",
      "\n"
     ]
    },
    {
     "name": "stderr",
     "output_type": "stream",
     "text": [
      "Epoch 35: 100%|██████████| 207/207 [02:10<00:00,  1.58it/s, train_loss=0.0653]\n",
      "Epoch 35: 100%|██████████| 26/26 [00:11<00:00,  2.29it/s, val_loss=0.146]\n"
     ]
    },
    {
     "name": "stdout",
     "output_type": "stream",
     "text": [
      "Epoch 35: Train pAUC: 0.157895 - Val pAUC: 0.109805 | Train Loss: 2.081630 - Val Loss: 9.335440\n",
      "\n"
     ]
    },
    {
     "name": "stderr",
     "output_type": "stream",
     "text": [
      "Epoch 36: 100%|██████████| 207/207 [02:10<00:00,  1.58it/s, train_loss=0.0668]\n",
      "Epoch 36: 100%|██████████| 26/26 [00:11<00:00,  2.30it/s, val_loss=0.143]\n"
     ]
    },
    {
     "name": "stdout",
     "output_type": "stream",
     "text": [
      "Epoch 36: Train pAUC: 0.164384 - Val pAUC: 0.096414 | Train Loss: 2.126918 - Val Loss: 9.125330\n",
      "\n"
     ]
    },
    {
     "name": "stderr",
     "output_type": "stream",
     "text": [
      "Epoch 37: 100%|██████████| 207/207 [02:10<00:00,  1.58it/s, train_loss=0.0706]\n",
      "Epoch 37: 100%|██████████| 26/26 [00:11<00:00,  2.29it/s, val_loss=0.142]\n"
     ]
    },
    {
     "name": "stdout",
     "output_type": "stream",
     "text": [
      "Epoch 37: Train pAUC: 0.156858 - Val pAUC: 0.108907 | Train Loss: 2.250046 - Val Loss: 9.067390\n",
      "\n"
     ]
    },
    {
     "name": "stderr",
     "output_type": "stream",
     "text": [
      "Epoch 38: 100%|██████████| 207/207 [02:10<00:00,  1.58it/s, train_loss=0.0643]\n",
      "Epoch 38: 100%|██████████| 26/26 [00:11<00:00,  2.28it/s, val_loss=0.136]\n"
     ]
    },
    {
     "name": "stdout",
     "output_type": "stream",
     "text": [
      "Epoch 38: Train pAUC: 0.172356 - Val pAUC: 0.110683 | Train Loss: 2.047214 - Val Loss: 8.707849\n",
      "\n"
     ]
    },
    {
     "name": "stderr",
     "output_type": "stream",
     "text": [
      "Epoch 39: 100%|██████████| 207/207 [02:10<00:00,  1.58it/s, train_loss=0.0652]\n",
      "Epoch 39: 100%|██████████| 26/26 [00:11<00:00,  2.27it/s, val_loss=0.142]\n"
     ]
    },
    {
     "name": "stdout",
     "output_type": "stream",
     "text": [
      "Early stopping triggered at epoch 39. Best pAUC = 0.129003\n",
      "Epoch 39: Train pAUC: 0.164176 - Val pAUC: 0.109455 | Train Loss: 2.077051 - Val Loss: 9.040343\n",
      "\n"
     ]
    },
    {
     "name": "stderr",
     "output_type": "stream",
     "text": [
      "Prediction: 100%|██████████| 1211/1211 [08:20<00:00,  2.42it/s]\n"
     ]
    },
    {
     "name": "stdout",
     "output_type": "stream",
     "text": [
      "---------------------------------- Fold 2 ----------------------------------\n"
     ]
    },
    {
     "name": "stderr",
     "output_type": "stream",
     "text": [
      "Epoch 1: 100%|██████████| 215/215 [02:16<00:00,  1.58it/s, train_loss=0.691]\n",
      "Epoch 1: 100%|██████████| 22/22 [00:09<00:00,  2.30it/s, val_loss=0.549]\n"
     ]
    },
    {
     "name": "stdout",
     "output_type": "stream",
     "text": [
      "Epoch 1: Train pAUC: 0.038898 - Val pAUC: 0.090223 | Train Loss: 22.063371 - Val Loss: 34.565660\n",
      "\n"
     ]
    },
    {
     "name": "stderr",
     "output_type": "stream",
     "text": [
      "Epoch 2: 100%|██████████| 215/215 [02:16<00:00,  1.58it/s, train_loss=0.513]\n",
      "Epoch 2: 100%|██████████| 22/22 [00:09<00:00,  2.29it/s, val_loss=0.394]\n"
     ]
    },
    {
     "name": "stdout",
     "output_type": "stream",
     "text": [
      "New best model found: pAUC = 0.091614 (previous best: 0.090223)\n",
      "Epoch 2: Train pAUC: 0.077442 - Val pAUC: 0.091614 | Train Loss: 16.397456 - Val Loss: 24.831766\n",
      "\n"
     ]
    },
    {
     "name": "stderr",
     "output_type": "stream",
     "text": [
      "Epoch 3: 100%|██████████| 215/215 [02:16<00:00,  1.58it/s, train_loss=0.362]\n",
      "Epoch 3: 100%|██████████| 22/22 [00:09<00:00,  2.29it/s, val_loss=0.268]\n"
     ]
    },
    {
     "name": "stdout",
     "output_type": "stream",
     "text": [
      "Epoch 3: Train pAUC: 0.075528 - Val pAUC: 0.077739 | Train Loss: 11.559663 - Val Loss: 16.908193\n",
      "\n"
     ]
    },
    {
     "name": "stderr",
     "output_type": "stream",
     "text": [
      "Epoch 4: 100%|██████████| 215/215 [02:16<00:00,  1.58it/s, train_loss=0.268]\n",
      "Epoch 4: 100%|██████████| 22/22 [00:09<00:00,  2.28it/s, val_loss=0.232]\n"
     ]
    },
    {
     "name": "stdout",
     "output_type": "stream",
     "text": [
      "Epoch 4: Train pAUC: 0.066620 - Val pAUC: 0.088554 | Train Loss: 8.556437 - Val Loss: 14.632112\n",
      "\n"
     ]
    },
    {
     "name": "stderr",
     "output_type": "stream",
     "text": [
      "Epoch 5: 100%|██████████| 215/215 [02:16<00:00,  1.58it/s, train_loss=0.222]\n",
      "Epoch 5: 100%|██████████| 22/22 [00:09<00:00,  2.30it/s, val_loss=0.208]\n"
     ]
    },
    {
     "name": "stdout",
     "output_type": "stream",
     "text": [
      "New best model found: pAUC = 0.105271 (previous best: 0.091614)\n",
      "Epoch 5: Train pAUC: 0.073795 - Val pAUC: 0.105271 | Train Loss: 7.090825 - Val Loss: 13.110722\n",
      "\n"
     ]
    },
    {
     "name": "stderr",
     "output_type": "stream",
     "text": [
      "Epoch 6: 100%|██████████| 215/215 [02:16<00:00,  1.58it/s, train_loss=0.196]\n",
      "Epoch 6: 100%|██████████| 22/22 [00:09<00:00,  2.28it/s, val_loss=0.185]\n"
     ]
    },
    {
     "name": "stdout",
     "output_type": "stream",
     "text": [
      "Epoch 6: Train pAUC: 0.076652 - Val pAUC: 0.099548 | Train Loss: 6.256224 - Val Loss: 11.665038\n",
      "\n"
     ]
    },
    {
     "name": "stderr",
     "output_type": "stream",
     "text": [
      "Epoch 7: 100%|██████████| 215/215 [02:16<00:00,  1.58it/s, train_loss=0.18]\n",
      "Epoch 7: 100%|██████████| 22/22 [00:09<00:00,  2.29it/s, val_loss=0.175]\n"
     ]
    },
    {
     "name": "stdout",
     "output_type": "stream",
     "text": [
      "New best model found: pAUC = 0.143455 (previous best: 0.105271)\n",
      "Epoch 7: Train pAUC: 0.090304 - Val pAUC: 0.143455 | Train Loss: 5.736017 - Val Loss: 11.053973\n",
      "\n"
     ]
    },
    {
     "name": "stderr",
     "output_type": "stream",
     "text": [
      "Epoch 8: 100%|██████████| 215/215 [02:16<00:00,  1.58it/s, train_loss=0.158]\n",
      "Epoch 8: 100%|██████████| 22/22 [00:09<00:00,  2.31it/s, val_loss=0.153]\n"
     ]
    },
    {
     "name": "stdout",
     "output_type": "stream",
     "text": [
      "Epoch 8: Train pAUC: 0.094181 - Val pAUC: 0.099614 | Train Loss: 5.046547 - Val Loss: 9.648089\n",
      "\n"
     ]
    },
    {
     "name": "stderr",
     "output_type": "stream",
     "text": [
      "Epoch 9: 100%|██████████| 215/215 [02:16<00:00,  1.58it/s, train_loss=0.149]\n",
      "Epoch 9: 100%|██████████| 22/22 [00:09<00:00,  2.30it/s, val_loss=0.148]\n"
     ]
    },
    {
     "name": "stdout",
     "output_type": "stream",
     "text": [
      "Epoch 9: Train pAUC: 0.093379 - Val pAUC: 0.142801 | Train Loss: 4.764829 - Val Loss: 9.341892\n",
      "\n"
     ]
    },
    {
     "name": "stderr",
     "output_type": "stream",
     "text": [
      "Epoch 10: 100%|██████████| 215/215 [02:16<00:00,  1.58it/s, train_loss=0.143]\n",
      "Epoch 10: 100%|██████████| 22/22 [00:09<00:00,  2.30it/s, val_loss=0.166]\n"
     ]
    },
    {
     "name": "stdout",
     "output_type": "stream",
     "text": [
      "Epoch 10: Train pAUC: 0.096349 - Val pAUC: 0.112652 | Train Loss: 4.564924 - Val Loss: 10.438643\n",
      "\n"
     ]
    },
    {
     "name": "stderr",
     "output_type": "stream",
     "text": [
      "Epoch 11: 100%|██████████| 215/215 [02:16<00:00,  1.58it/s, train_loss=0.133]\n",
      "Epoch 11: 100%|██████████| 22/22 [00:09<00:00,  2.30it/s, val_loss=0.151]\n"
     ]
    },
    {
     "name": "stdout",
     "output_type": "stream",
     "text": [
      "Epoch 11: Train pAUC: 0.099065 - Val pAUC: 0.111047 | Train Loss: 4.246441 - Val Loss: 9.510469\n",
      "\n"
     ]
    },
    {
     "name": "stderr",
     "output_type": "stream",
     "text": [
      "Epoch 12: 100%|██████████| 215/215 [02:16<00:00,  1.58it/s, train_loss=0.125]\n",
      "Epoch 12: 100%|██████████| 22/22 [00:09<00:00,  2.29it/s, val_loss=0.142]\n"
     ]
    },
    {
     "name": "stdout",
     "output_type": "stream",
     "text": [
      "Epoch 12: Train pAUC: 0.117422 - Val pAUC: 0.135815 | Train Loss: 3.989867 - Val Loss: 8.915682\n",
      "\n"
     ]
    },
    {
     "name": "stderr",
     "output_type": "stream",
     "text": [
      "Epoch 13: 100%|██████████| 215/215 [02:16<00:00,  1.58it/s, train_loss=0.12]\n",
      "Epoch 13: 100%|██████████| 22/22 [00:09<00:00,  2.30it/s, val_loss=0.137]\n"
     ]
    },
    {
     "name": "stdout",
     "output_type": "stream",
     "text": [
      "New best model found: pAUC = 0.150583 (previous best: 0.143455)\n",
      "Epoch 13: Train pAUC: 0.121505 - Val pAUC: 0.150583 | Train Loss: 3.822322 - Val Loss: 8.660773\n",
      "\n"
     ]
    },
    {
     "name": "stderr",
     "output_type": "stream",
     "text": [
      "Epoch 14: 100%|██████████| 215/215 [02:16<00:00,  1.58it/s, train_loss=0.111]\n",
      "Epoch 14: 100%|██████████| 22/22 [00:09<00:00,  2.29it/s, val_loss=0.137]\n"
     ]
    },
    {
     "name": "stdout",
     "output_type": "stream",
     "text": [
      "Epoch 14: Train pAUC: 0.119758 - Val pAUC: 0.124690 | Train Loss: 3.546636 - Val Loss: 8.599944\n",
      "\n"
     ]
    },
    {
     "name": "stderr",
     "output_type": "stream",
     "text": [
      "Epoch 15: 100%|██████████| 215/215 [02:16<00:00,  1.58it/s, train_loss=0.107]\n",
      "Epoch 15: 100%|██████████| 22/22 [00:09<00:00,  2.29it/s, val_loss=0.143]\n"
     ]
    },
    {
     "name": "stdout",
     "output_type": "stream",
     "text": [
      "Epoch 15: Train pAUC: 0.121857 - Val pAUC: 0.101827 | Train Loss: 3.425206 - Val Loss: 9.007682\n",
      "\n"
     ]
    },
    {
     "name": "stderr",
     "output_type": "stream",
     "text": [
      "Epoch 16: 100%|██████████| 215/215 [02:16<00:00,  1.58it/s, train_loss=0.1]\n",
      "Epoch 16: 100%|██████████| 22/22 [00:09<00:00,  2.31it/s, val_loss=0.13]\n"
     ]
    },
    {
     "name": "stdout",
     "output_type": "stream",
     "text": [
      "New best model found: pAUC = 0.162821 (previous best: 0.150583)\n",
      "Epoch 16: Train pAUC: 0.140626 - Val pAUC: 0.162821 | Train Loss: 3.208529 - Val Loss: 8.160838\n",
      "\n"
     ]
    },
    {
     "name": "stderr",
     "output_type": "stream",
     "text": [
      "Epoch 17: 100%|██████████| 215/215 [02:16<00:00,  1.58it/s, train_loss=0.0979]\n",
      "Epoch 17: 100%|██████████| 22/22 [00:09<00:00,  2.28it/s, val_loss=0.132]\n"
     ]
    },
    {
     "name": "stdout",
     "output_type": "stream",
     "text": [
      "Epoch 17: Train pAUC: 0.137901 - Val pAUC: 0.136855 | Train Loss: 3.128435 - Val Loss: 8.306867\n",
      "\n"
     ]
    },
    {
     "name": "stderr",
     "output_type": "stream",
     "text": [
      "Epoch 18: 100%|██████████| 215/215 [02:16<00:00,  1.58it/s, train_loss=0.0959]\n",
      "Epoch 18: 100%|██████████| 22/22 [00:09<00:00,  2.29it/s, val_loss=0.124]\n"
     ]
    },
    {
     "name": "stdout",
     "output_type": "stream",
     "text": [
      "Epoch 18: Train pAUC: 0.140800 - Val pAUC: 0.157975 | Train Loss: 3.063960 - Val Loss: 7.798834\n",
      "\n"
     ]
    },
    {
     "name": "stderr",
     "output_type": "stream",
     "text": [
      "Epoch 19: 100%|██████████| 215/215 [02:16<00:00,  1.58it/s, train_loss=0.0864]\n",
      "Epoch 19: 100%|██████████| 22/22 [00:09<00:00,  2.29it/s, val_loss=0.127]\n"
     ]
    },
    {
     "name": "stdout",
     "output_type": "stream",
     "text": [
      "Epoch 19: Train pAUC: 0.143071 - Val pAUC: 0.143939 | Train Loss: 2.759753 - Val Loss: 7.992395\n",
      "\n"
     ]
    },
    {
     "name": "stderr",
     "output_type": "stream",
     "text": [
      "Epoch 20: 100%|██████████| 215/215 [02:16<00:00,  1.58it/s, train_loss=0.0842]\n",
      "Epoch 20: 100%|██████████| 22/22 [00:09<00:00,  2.30it/s, val_loss=0.129]\n"
     ]
    },
    {
     "name": "stdout",
     "output_type": "stream",
     "text": [
      "Epoch 20: Train pAUC: 0.160280 - Val pAUC: 0.145328 | Train Loss: 2.688556 - Val Loss: 8.129696\n",
      "\n"
     ]
    },
    {
     "name": "stderr",
     "output_type": "stream",
     "text": [
      "Epoch 21: 100%|██████████| 215/215 [02:16<00:00,  1.58it/s, train_loss=0.0779]\n",
      "Epoch 21: 100%|██████████| 22/22 [00:09<00:00,  2.30it/s, val_loss=0.131]\n"
     ]
    },
    {
     "name": "stdout",
     "output_type": "stream",
     "text": [
      "Epoch 21: Train pAUC: 0.159179 - Val pAUC: 0.133035 | Train Loss: 2.488094 - Val Loss: 8.259047\n",
      "\n"
     ]
    },
    {
     "name": "stderr",
     "output_type": "stream",
     "text": [
      "Epoch 22: 100%|██████████| 215/215 [02:16<00:00,  1.58it/s, train_loss=0.0755]\n",
      "Epoch 22: 100%|██████████| 22/22 [00:09<00:00,  2.30it/s, val_loss=0.139]\n"
     ]
    },
    {
     "name": "stdout",
     "output_type": "stream",
     "text": [
      "Epoch 22: Train pAUC: 0.160811 - Val pAUC: 0.144731 | Train Loss: 2.410997 - Val Loss: 8.740070\n",
      "\n"
     ]
    },
    {
     "name": "stderr",
     "output_type": "stream",
     "text": [
      "Epoch 23: 100%|██████████| 215/215 [02:16<00:00,  1.58it/s, train_loss=0.0737]\n",
      "Epoch 23: 100%|██████████| 22/22 [00:09<00:00,  2.27it/s, val_loss=0.127]\n"
     ]
    },
    {
     "name": "stdout",
     "output_type": "stream",
     "text": [
      "Epoch 23: Train pAUC: 0.160054 - Val pAUC: 0.152982 | Train Loss: 2.353986 - Val Loss: 7.972450\n",
      "\n"
     ]
    },
    {
     "name": "stderr",
     "output_type": "stream",
     "text": [
      "Epoch 24: 100%|██████████| 215/215 [02:16<00:00,  1.58it/s, train_loss=0.0677]\n",
      "Epoch 24: 100%|██████████| 22/22 [00:09<00:00,  2.29it/s, val_loss=0.13]\n"
     ]
    },
    {
     "name": "stdout",
     "output_type": "stream",
     "text": [
      "Epoch 24: Train pAUC: 0.165521 - Val pAUC: 0.143522 | Train Loss: 2.160966 - Val Loss: 8.211110\n",
      "\n"
     ]
    },
    {
     "name": "stderr",
     "output_type": "stream",
     "text": [
      "Epoch 25: 100%|██████████| 215/215 [02:16<00:00,  1.58it/s, train_loss=0.0671]\n",
      "Epoch 25: 100%|██████████| 22/22 [00:09<00:00,  2.31it/s, val_loss=0.147]\n"
     ]
    },
    {
     "name": "stdout",
     "output_type": "stream",
     "text": [
      "Epoch 25: Train pAUC: 0.170609 - Val pAUC: 0.136129 | Train Loss: 2.142943 - Val Loss: 9.260678\n",
      "\n"
     ]
    },
    {
     "name": "stderr",
     "output_type": "stream",
     "text": [
      "Epoch 26: 100%|██████████| 215/215 [02:16<00:00,  1.58it/s, train_loss=0.0664]\n",
      "Epoch 26: 100%|██████████| 22/22 [00:09<00:00,  2.30it/s, val_loss=0.129]\n"
     ]
    },
    {
     "name": "stdout",
     "output_type": "stream",
     "text": [
      "Epoch 26: Train pAUC: 0.166285 - Val pAUC: 0.137482 | Train Loss: 2.119308 - Val Loss: 8.120542\n",
      "\n"
     ]
    },
    {
     "name": "stderr",
     "output_type": "stream",
     "text": [
      "Epoch 27: 100%|██████████| 215/215 [02:16<00:00,  1.58it/s, train_loss=0.0649]\n",
      "Epoch 27: 100%|██████████| 22/22 [00:09<00:00,  2.29it/s, val_loss=0.143]\n"
     ]
    },
    {
     "name": "stdout",
     "output_type": "stream",
     "text": [
      "Epoch 27: Train pAUC: 0.170649 - Val pAUC: 0.142837 | Train Loss: 2.072098 - Val Loss: 8.998428\n",
      "\n"
     ]
    },
    {
     "name": "stderr",
     "output_type": "stream",
     "text": [
      "Epoch 28: 100%|██████████| 215/215 [02:16<00:00,  1.58it/s, train_loss=0.061]\n",
      "Epoch 28: 100%|██████████| 22/22 [00:09<00:00,  2.28it/s, val_loss=0.134]\n"
     ]
    },
    {
     "name": "stdout",
     "output_type": "stream",
     "text": [
      "Epoch 28: Train pAUC: 0.167151 - Val pAUC: 0.141373 | Train Loss: 1.947068 - Val Loss: 8.444223\n",
      "\n"
     ]
    },
    {
     "name": "stderr",
     "output_type": "stream",
     "text": [
      "Epoch 29: 100%|██████████| 215/215 [02:16<00:00,  1.58it/s, train_loss=0.06]\n",
      "Epoch 29: 100%|██████████| 22/22 [00:09<00:00,  2.31it/s, val_loss=0.131]\n"
     ]
    },
    {
     "name": "stdout",
     "output_type": "stream",
     "text": [
      "Epoch 29: Train pAUC: 0.172827 - Val pAUC: 0.133618 | Train Loss: 1.915357 - Val Loss: 8.272230\n",
      "\n"
     ]
    },
    {
     "name": "stderr",
     "output_type": "stream",
     "text": [
      "Epoch 30: 100%|██████████| 215/215 [02:16<00:00,  1.58it/s, train_loss=0.0594]\n",
      "Epoch 30: 100%|██████████| 22/22 [00:09<00:00,  2.29it/s, val_loss=0.132]\n"
     ]
    },
    {
     "name": "stdout",
     "output_type": "stream",
     "text": [
      "Epoch 30: Train pAUC: 0.176238 - Val pAUC: 0.136056 | Train Loss: 1.897028 - Val Loss: 8.322872\n",
      "\n"
     ]
    },
    {
     "name": "stderr",
     "output_type": "stream",
     "text": [
      "Epoch 31: 100%|██████████| 215/215 [02:16<00:00,  1.58it/s, train_loss=0.0563]\n",
      "Epoch 31: 100%|██████████| 22/22 [00:09<00:00,  2.31it/s, val_loss=0.131]\n"
     ]
    },
    {
     "name": "stdout",
     "output_type": "stream",
     "text": [
      "Early stopping triggered at epoch 31. Best pAUC = 0.162821\n",
      "Epoch 31: Train pAUC: 0.175858 - Val pAUC: 0.145764 | Train Loss: 1.796923 - Val Loss: 8.250734\n",
      "\n"
     ]
    },
    {
     "name": "stderr",
     "output_type": "stream",
     "text": [
      "Prediction: 100%|██████████| 1310/1310 [09:01<00:00,  2.42it/s]\n"
     ]
    },
    {
     "name": "stdout",
     "output_type": "stream",
     "text": [
      "---------------------------------- Fold 3 ----------------------------------\n"
     ]
    },
    {
     "name": "stderr",
     "output_type": "stream",
     "text": [
      "Epoch 1: 100%|██████████| 201/201 [02:07<00:00,  1.58it/s, train_loss=0.618]\n",
      "Epoch 1: 100%|██████████| 29/29 [00:12<00:00,  2.30it/s, val_loss=0.491]\n"
     ]
    },
    {
     "name": "stdout",
     "output_type": "stream",
     "text": [
      "Epoch 1: Train pAUC: 0.037379 - Val pAUC: 0.104811 | Train Loss: 19.691982 - Val Loss: 31.309786\n",
      "\n"
     ]
    },
    {
     "name": "stderr",
     "output_type": "stream",
     "text": [
      "Epoch 2: 100%|██████████| 201/201 [02:07<00:00,  1.58it/s, train_loss=0.479]\n",
      "Epoch 2: 100%|██████████| 29/29 [00:12<00:00,  2.31it/s, val_loss=0.404]\n"
     ]
    },
    {
     "name": "stdout",
     "output_type": "stream",
     "text": [
      "New best model found: pAUC = 0.122602 (previous best: 0.104811)\n",
      "Epoch 2: Train pAUC: 0.057826 - Val pAUC: 0.122602 | Train Loss: 15.274302 - Val Loss: 25.752780\n",
      "\n"
     ]
    },
    {
     "name": "stderr",
     "output_type": "stream",
     "text": [
      "Epoch 3: 100%|██████████| 201/201 [02:07<00:00,  1.58it/s, train_loss=0.375]\n",
      "Epoch 3: 100%|██████████| 29/29 [00:12<00:00,  2.31it/s, val_loss=0.285]\n"
     ]
    },
    {
     "name": "stdout",
     "output_type": "stream",
     "text": [
      "New best model found: pAUC = 0.133917 (previous best: 0.122602)\n",
      "Epoch 3: Train pAUC: 0.081883 - Val pAUC: 0.133917 | Train Loss: 11.962842 - Val Loss: 18.160096\n",
      "\n"
     ]
    },
    {
     "name": "stderr",
     "output_type": "stream",
     "text": [
      "Epoch 4: 100%|██████████| 201/201 [02:07<00:00,  1.58it/s, train_loss=0.298]\n",
      "Epoch 4: 100%|██████████| 29/29 [00:12<00:00,  2.30it/s, val_loss=0.262]\n"
     ]
    },
    {
     "name": "stdout",
     "output_type": "stream",
     "text": [
      "Epoch 4: Train pAUC: 0.087932 - Val pAUC: 0.133352 | Train Loss: 9.487656 - Val Loss: 16.684491\n",
      "\n"
     ]
    },
    {
     "name": "stderr",
     "output_type": "stream",
     "text": [
      "Epoch 5: 100%|██████████| 201/201 [02:07<00:00,  1.58it/s, train_loss=0.238]\n",
      "Epoch 5: 100%|██████████| 29/29 [00:12<00:00,  2.30it/s, val_loss=0.175]\n"
     ]
    },
    {
     "name": "stdout",
     "output_type": "stream",
     "text": [
      "New best model found: pAUC = 0.136286 (previous best: 0.133917)\n",
      "Epoch 5: Train pAUC: 0.070834 - Val pAUC: 0.136286 | Train Loss: 7.598355 - Val Loss: 11.177880\n",
      "\n"
     ]
    },
    {
     "name": "stderr",
     "output_type": "stream",
     "text": [
      "Epoch 6: 100%|██████████| 201/201 [02:07<00:00,  1.58it/s, train_loss=0.2]\n",
      "Epoch 6: 100%|██████████| 29/29 [00:12<00:00,  2.30it/s, val_loss=0.174]\n"
     ]
    },
    {
     "name": "stdout",
     "output_type": "stream",
     "text": [
      "Epoch 6: Train pAUC: 0.080361 - Val pAUC: 0.129662 | Train Loss: 6.361863 - Val Loss: 11.095238\n",
      "\n"
     ]
    },
    {
     "name": "stderr",
     "output_type": "stream",
     "text": [
      "Epoch 7: 100%|██████████| 201/201 [02:07<00:00,  1.58it/s, train_loss=0.181]\n",
      "Epoch 7: 100%|██████████| 29/29 [00:12<00:00,  2.29it/s, val_loss=0.151]\n"
     ]
    },
    {
     "name": "stdout",
     "output_type": "stream",
     "text": [
      "New best model found: pAUC = 0.147651 (previous best: 0.136286)\n",
      "Epoch 7: Train pAUC: 0.088736 - Val pAUC: 0.147651 | Train Loss: 5.771603 - Val Loss: 9.648042\n",
      "\n"
     ]
    },
    {
     "name": "stderr",
     "output_type": "stream",
     "text": [
      "Epoch 8: 100%|██████████| 201/201 [02:07<00:00,  1.58it/s, train_loss=0.162]\n",
      "Epoch 8: 100%|██████████| 29/29 [00:12<00:00,  2.29it/s, val_loss=0.125]\n"
     ]
    },
    {
     "name": "stdout",
     "output_type": "stream",
     "text": [
      "New best model found: pAUC = 0.151446 (previous best: 0.147651)\n",
      "Epoch 8: Train pAUC: 0.082152 - Val pAUC: 0.151446 | Train Loss: 5.160501 - Val Loss: 7.972780\n",
      "\n"
     ]
    },
    {
     "name": "stderr",
     "output_type": "stream",
     "text": [
      "Epoch 9: 100%|██████████| 201/201 [02:07<00:00,  1.58it/s, train_loss=0.151]\n",
      "Epoch 9: 100%|██████████| 29/29 [00:12<00:00,  2.31it/s, val_loss=0.128]\n"
     ]
    },
    {
     "name": "stdout",
     "output_type": "stream",
     "text": [
      "Epoch 9: Train pAUC: 0.101951 - Val pAUC: 0.151099 | Train Loss: 4.816110 - Val Loss: 8.172852\n",
      "\n"
     ]
    },
    {
     "name": "stderr",
     "output_type": "stream",
     "text": [
      "Epoch 10: 100%|██████████| 201/201 [02:07<00:00,  1.58it/s, train_loss=0.148]\n",
      "Epoch 10: 100%|██████████| 29/29 [00:12<00:00,  2.30it/s, val_loss=0.123]\n"
     ]
    },
    {
     "name": "stdout",
     "output_type": "stream",
     "text": [
      "Epoch 10: Train pAUC: 0.094349 - Val pAUC: 0.146852 | Train Loss: 4.714911 - Val Loss: 7.830288\n",
      "\n"
     ]
    },
    {
     "name": "stderr",
     "output_type": "stream",
     "text": [
      "Epoch 11: 100%|██████████| 201/201 [02:07<00:00,  1.58it/s, train_loss=0.143]\n",
      "Epoch 11: 100%|██████████| 29/29 [00:12<00:00,  2.29it/s, val_loss=0.119]\n"
     ]
    },
    {
     "name": "stdout",
     "output_type": "stream",
     "text": [
      "Epoch 11: Train pAUC: 0.096468 - Val pAUC: 0.132426 | Train Loss: 4.562695 - Val Loss: 7.566450\n",
      "\n"
     ]
    },
    {
     "name": "stderr",
     "output_type": "stream",
     "text": [
      "Epoch 12: 100%|██████████| 201/201 [02:07<00:00,  1.58it/s, train_loss=0.134]\n",
      "Epoch 12: 100%|██████████| 29/29 [00:12<00:00,  2.27it/s, val_loss=0.119]\n"
     ]
    },
    {
     "name": "stdout",
     "output_type": "stream",
     "text": [
      "New best model found: pAUC = 0.154330 (previous best: 0.151446)\n",
      "Epoch 12: Train pAUC: 0.095532 - Val pAUC: 0.154330 | Train Loss: 4.270703 - Val Loss: 7.599838\n",
      "\n"
     ]
    },
    {
     "name": "stderr",
     "output_type": "stream",
     "text": [
      "Epoch 13: 100%|██████████| 201/201 [02:07<00:00,  1.58it/s, train_loss=0.125]\n",
      "Epoch 13: 100%|██████████| 29/29 [00:12<00:00,  2.28it/s, val_loss=0.121]\n"
     ]
    },
    {
     "name": "stdout",
     "output_type": "stream",
     "text": [
      "Epoch 13: Train pAUC: 0.105641 - Val pAUC: 0.148042 | Train Loss: 3.985970 - Val Loss: 7.719239\n",
      "\n"
     ]
    },
    {
     "name": "stderr",
     "output_type": "stream",
     "text": [
      "Epoch 14: 100%|██████████| 201/201 [02:07<00:00,  1.58it/s, train_loss=0.112]\n",
      "Epoch 14: 100%|██████████| 29/29 [00:12<00:00,  2.31it/s, val_loss=0.109]\n"
     ]
    },
    {
     "name": "stdout",
     "output_type": "stream",
     "text": [
      "Epoch 14: Train pAUC: 0.136787 - Val pAUC: 0.149787 | Train Loss: 3.554048 - Val Loss: 6.972715\n",
      "\n"
     ]
    },
    {
     "name": "stderr",
     "output_type": "stream",
     "text": [
      "Epoch 15: 100%|██████████| 201/201 [02:07<00:00,  1.58it/s, train_loss=0.111]\n",
      "Epoch 15: 100%|██████████| 29/29 [00:12<00:00,  2.30it/s, val_loss=0.115]\n"
     ]
    },
    {
     "name": "stdout",
     "output_type": "stream",
     "text": [
      "Epoch 15: Train pAUC: 0.128418 - Val pAUC: 0.146185 | Train Loss: 3.523076 - Val Loss: 7.344583\n",
      "\n"
     ]
    },
    {
     "name": "stderr",
     "output_type": "stream",
     "text": [
      "Epoch 16: 100%|██████████| 201/201 [02:07<00:00,  1.58it/s, train_loss=0.105]\n",
      "Epoch 16: 100%|██████████| 29/29 [00:12<00:00,  2.30it/s, val_loss=0.115]\n"
     ]
    },
    {
     "name": "stdout",
     "output_type": "stream",
     "text": [
      "New best model found: pAUC = 0.158849 (previous best: 0.154330)\n",
      "Epoch 16: Train pAUC: 0.138962 - Val pAUC: 0.158849 | Train Loss: 3.350525 - Val Loss: 7.341666\n",
      "\n"
     ]
    },
    {
     "name": "stderr",
     "output_type": "stream",
     "text": [
      "Epoch 17: 100%|██████████| 201/201 [02:07<00:00,  1.58it/s, train_loss=0.096]\n",
      "Epoch 17: 100%|██████████| 29/29 [00:12<00:00,  2.31it/s, val_loss=0.113]\n"
     ]
    },
    {
     "name": "stdout",
     "output_type": "stream",
     "text": [
      "Epoch 17: Train pAUC: 0.133524 - Val pAUC: 0.148281 | Train Loss: 3.058881 - Val Loss: 7.189130\n",
      "\n"
     ]
    },
    {
     "name": "stderr",
     "output_type": "stream",
     "text": [
      "Epoch 18: 100%|██████████| 201/201 [02:07<00:00,  1.58it/s, train_loss=0.0937]\n",
      "Epoch 18: 100%|██████████| 29/29 [00:12<00:00,  2.28it/s, val_loss=0.11]\n"
     ]
    },
    {
     "name": "stdout",
     "output_type": "stream",
     "text": [
      "Epoch 18: Train pAUC: 0.151744 - Val pAUC: 0.146627 | Train Loss: 2.986919 - Val Loss: 6.987347\n",
      "\n"
     ]
    },
    {
     "name": "stderr",
     "output_type": "stream",
     "text": [
      "Epoch 19: 100%|██████████| 201/201 [02:07<00:00,  1.58it/s, train_loss=0.0965]\n",
      "Epoch 19: 100%|██████████| 29/29 [00:12<00:00,  2.29it/s, val_loss=0.11]\n"
     ]
    },
    {
     "name": "stdout",
     "output_type": "stream",
     "text": [
      "Epoch 19: Train pAUC: 0.130168 - Val pAUC: 0.156206 | Train Loss: 3.073779 - Val Loss: 7.030247\n",
      "\n"
     ]
    },
    {
     "name": "stderr",
     "output_type": "stream",
     "text": [
      "Epoch 20: 100%|██████████| 201/201 [02:07<00:00,  1.58it/s, train_loss=0.0903]\n",
      "Epoch 20: 100%|██████████| 29/29 [00:12<00:00,  2.30it/s, val_loss=0.111]\n"
     ]
    },
    {
     "name": "stdout",
     "output_type": "stream",
     "text": [
      "Epoch 20: Train pAUC: 0.135823 - Val pAUC: 0.125730 | Train Loss: 2.878996 - Val Loss: 7.082347\n",
      "\n"
     ]
    },
    {
     "name": "stderr",
     "output_type": "stream",
     "text": [
      "Epoch 21: 100%|██████████| 201/201 [02:07<00:00,  1.58it/s, train_loss=0.0888]\n",
      "Epoch 21: 100%|██████████| 29/29 [00:12<00:00,  2.29it/s, val_loss=0.103]\n"
     ]
    },
    {
     "name": "stdout",
     "output_type": "stream",
     "text": [
      "New best model found: pAUC = 0.159985 (previous best: 0.158849)\n",
      "Epoch 21: Train pAUC: 0.147719 - Val pAUC: 0.159985 | Train Loss: 2.828249 - Val Loss: 6.587915\n",
      "\n"
     ]
    },
    {
     "name": "stderr",
     "output_type": "stream",
     "text": [
      "Epoch 22: 100%|██████████| 201/201 [02:07<00:00,  1.58it/s, train_loss=0.0789]\n",
      "Epoch 22: 100%|██████████| 29/29 [00:12<00:00,  2.31it/s, val_loss=0.107]\n"
     ]
    },
    {
     "name": "stdout",
     "output_type": "stream",
     "text": [
      "Epoch 22: Train pAUC: 0.165237 - Val pAUC: 0.146249 | Train Loss: 2.513785 - Val Loss: 6.819143\n",
      "\n"
     ]
    },
    {
     "name": "stderr",
     "output_type": "stream",
     "text": [
      "Epoch 23: 100%|██████████| 201/201 [02:07<00:00,  1.58it/s, train_loss=0.0735]\n",
      "Epoch 23: 100%|██████████| 29/29 [00:12<00:00,  2.31it/s, val_loss=0.107]\n"
     ]
    },
    {
     "name": "stdout",
     "output_type": "stream",
     "text": [
      "Epoch 23: Train pAUC: 0.164347 - Val pAUC: 0.155201 | Train Loss: 2.343436 - Val Loss: 6.831079\n",
      "\n"
     ]
    },
    {
     "name": "stderr",
     "output_type": "stream",
     "text": [
      "Epoch 24: 100%|██████████| 201/201 [02:07<00:00,  1.58it/s, train_loss=0.0701]\n",
      "Epoch 24: 100%|██████████| 29/29 [00:12<00:00,  2.25it/s, val_loss=0.112]\n"
     ]
    },
    {
     "name": "stdout",
     "output_type": "stream",
     "text": [
      "Epoch 24: Train pAUC: 0.154426 - Val pAUC: 0.141767 | Train Loss: 2.235230 - Val Loss: 7.106390\n",
      "\n"
     ]
    },
    {
     "name": "stderr",
     "output_type": "stream",
     "text": [
      "Epoch 25: 100%|██████████| 201/201 [02:07<00:00,  1.58it/s, train_loss=0.0669]\n",
      "Epoch 25: 100%|██████████| 29/29 [00:12<00:00,  2.28it/s, val_loss=0.109]\n"
     ]
    },
    {
     "name": "stdout",
     "output_type": "stream",
     "text": [
      "Epoch 25: Train pAUC: 0.166150 - Val pAUC: 0.145832 | Train Loss: 2.132303 - Val Loss: 6.957713\n",
      "\n"
     ]
    },
    {
     "name": "stderr",
     "output_type": "stream",
     "text": [
      "Epoch 26: 100%|██████████| 201/201 [02:07<00:00,  1.58it/s, train_loss=0.0658]\n",
      "Epoch 26: 100%|██████████| 29/29 [00:12<00:00,  2.30it/s, val_loss=0.112]\n"
     ]
    },
    {
     "name": "stdout",
     "output_type": "stream",
     "text": [
      "Epoch 26: Train pAUC: 0.173287 - Val pAUC: 0.139861 | Train Loss: 2.098179 - Val Loss: 7.124132\n",
      "\n"
     ]
    },
    {
     "name": "stderr",
     "output_type": "stream",
     "text": [
      "Epoch 27: 100%|██████████| 201/201 [02:07<00:00,  1.58it/s, train_loss=0.0615]\n",
      "Epoch 27: 100%|██████████| 29/29 [00:12<00:00,  2.30it/s, val_loss=0.124]\n"
     ]
    },
    {
     "name": "stdout",
     "output_type": "stream",
     "text": [
      "Epoch 27: Train pAUC: 0.167124 - Val pAUC: 0.145743 | Train Loss: 1.960548 - Val Loss: 7.881404\n",
      "\n"
     ]
    },
    {
     "name": "stderr",
     "output_type": "stream",
     "text": [
      "Epoch 28: 100%|██████████| 201/201 [02:07<00:00,  1.58it/s, train_loss=0.0642]\n",
      "Epoch 28: 100%|██████████| 29/29 [00:12<00:00,  2.28it/s, val_loss=0.122]\n"
     ]
    },
    {
     "name": "stdout",
     "output_type": "stream",
     "text": [
      "Epoch 28: Train pAUC: 0.160512 - Val pAUC: 0.144370 | Train Loss: 2.045384 - Val Loss: 7.770154\n",
      "\n"
     ]
    },
    {
     "name": "stderr",
     "output_type": "stream",
     "text": [
      "Epoch 29: 100%|██████████| 201/201 [02:07<00:00,  1.58it/s, train_loss=0.0606]\n",
      "Epoch 29: 100%|██████████| 29/29 [00:12<00:00,  2.27it/s, val_loss=0.117]\n"
     ]
    },
    {
     "name": "stdout",
     "output_type": "stream",
     "text": [
      "Epoch 29: Train pAUC: 0.173307 - Val pAUC: 0.145125 | Train Loss: 1.932310 - Val Loss: 7.468121\n",
      "\n"
     ]
    },
    {
     "name": "stderr",
     "output_type": "stream",
     "text": [
      "Epoch 30: 100%|██████████| 201/201 [02:07<00:00,  1.58it/s, train_loss=0.0567]\n",
      "Epoch 30: 100%|██████████| 29/29 [00:12<00:00,  2.30it/s, val_loss=0.125]\n"
     ]
    },
    {
     "name": "stdout",
     "output_type": "stream",
     "text": [
      "New best model found: pAUC = 0.160597 (previous best: 0.159985)\n",
      "Epoch 30: Train pAUC: 0.173072 - Val pAUC: 0.160597 | Train Loss: 1.807379 - Val Loss: 7.944548\n",
      "\n"
     ]
    },
    {
     "name": "stderr",
     "output_type": "stream",
     "text": [
      "Epoch 31: 100%|██████████| 201/201 [02:07<00:00,  1.58it/s, train_loss=0.0588]\n",
      "Epoch 31: 100%|██████████| 29/29 [00:12<00:00,  2.29it/s, val_loss=0.116]\n"
     ]
    },
    {
     "name": "stdout",
     "output_type": "stream",
     "text": [
      "Epoch 31: Train pAUC: 0.168297 - Val pAUC: 0.154148 | Train Loss: 1.874638 - Val Loss: 7.391240\n",
      "\n"
     ]
    },
    {
     "name": "stderr",
     "output_type": "stream",
     "text": [
      "Epoch 32: 100%|██████████| 201/201 [02:07<00:00,  1.58it/s, train_loss=0.0577]\n",
      "Epoch 32: 100%|██████████| 29/29 [00:12<00:00,  2.29it/s, val_loss=0.119]\n"
     ]
    },
    {
     "name": "stdout",
     "output_type": "stream",
     "text": [
      "Epoch 32: Train pAUC: 0.173741 - Val pAUC: 0.146763 | Train Loss: 1.839470 - Val Loss: 7.597256\n",
      "\n"
     ]
    },
    {
     "name": "stderr",
     "output_type": "stream",
     "text": [
      "Epoch 33: 100%|██████████| 201/201 [02:07<00:00,  1.58it/s, train_loss=0.0535]\n",
      "Epoch 33: 100%|██████████| 29/29 [00:12<00:00,  2.31it/s, val_loss=0.115]\n"
     ]
    },
    {
     "name": "stdout",
     "output_type": "stream",
     "text": [
      "Epoch 33: Train pAUC: 0.175495 - Val pAUC: 0.151411 | Train Loss: 1.705105 - Val Loss: 7.324737\n",
      "\n"
     ]
    },
    {
     "name": "stderr",
     "output_type": "stream",
     "text": [
      "Epoch 34: 100%|██████████| 201/201 [02:07<00:00,  1.58it/s, train_loss=0.0552]\n",
      "Epoch 34: 100%|██████████| 29/29 [00:12<00:00,  2.31it/s, val_loss=0.114]\n"
     ]
    },
    {
     "name": "stdout",
     "output_type": "stream",
     "text": [
      "Epoch 34: Train pAUC: 0.178447 - Val pAUC: 0.149092 | Train Loss: 1.757516 - Val Loss: 7.250641\n",
      "\n"
     ]
    },
    {
     "name": "stderr",
     "output_type": "stream",
     "text": [
      "Epoch 35: 100%|██████████| 201/201 [02:07<00:00,  1.58it/s, train_loss=0.0506]\n",
      "Epoch 35: 100%|██████████| 29/29 [00:12<00:00,  2.31it/s, val_loss=0.12]\n"
     ]
    },
    {
     "name": "stdout",
     "output_type": "stream",
     "text": [
      "Epoch 35: Train pAUC: 0.181724 - Val pAUC: 0.145634 | Train Loss: 1.611429 - Val Loss: 7.666175\n",
      "\n"
     ]
    },
    {
     "name": "stderr",
     "output_type": "stream",
     "text": [
      "Epoch 36: 100%|██████████| 201/201 [02:07<00:00,  1.58it/s, train_loss=0.0508]\n",
      "Epoch 36: 100%|██████████| 29/29 [00:12<00:00,  2.30it/s, val_loss=0.122]\n"
     ]
    },
    {
     "name": "stdout",
     "output_type": "stream",
     "text": [
      "Epoch 36: Train pAUC: 0.182254 - Val pAUC: 0.149189 | Train Loss: 1.617213 - Val Loss: 7.753465\n",
      "\n"
     ]
    },
    {
     "name": "stderr",
     "output_type": "stream",
     "text": [
      "Epoch 37: 100%|██████████| 201/201 [02:07<00:00,  1.58it/s, train_loss=0.051]\n",
      "Epoch 37: 100%|██████████| 29/29 [00:12<00:00,  2.29it/s, val_loss=0.122]\n"
     ]
    },
    {
     "name": "stdout",
     "output_type": "stream",
     "text": [
      "Epoch 37: Train pAUC: 0.184859 - Val pAUC: 0.126635 | Train Loss: 1.625489 - Val Loss: 7.780444\n",
      "\n"
     ]
    },
    {
     "name": "stderr",
     "output_type": "stream",
     "text": [
      "Epoch 38: 100%|██████████| 201/201 [02:07<00:00,  1.58it/s, train_loss=0.0521]\n",
      "Epoch 38: 100%|██████████| 29/29 [00:12<00:00,  2.28it/s, val_loss=0.12]\n"
     ]
    },
    {
     "name": "stdout",
     "output_type": "stream",
     "text": [
      "Epoch 38: Train pAUC: 0.176070 - Val pAUC: 0.149607 | Train Loss: 1.658769 - Val Loss: 7.673128\n",
      "\n"
     ]
    },
    {
     "name": "stderr",
     "output_type": "stream",
     "text": [
      "Epoch 39: 100%|██████████| 201/201 [02:07<00:00,  1.58it/s, train_loss=0.0533]\n",
      "Epoch 39: 100%|██████████| 29/29 [00:12<00:00,  2.30it/s, val_loss=0.119]\n"
     ]
    },
    {
     "name": "stdout",
     "output_type": "stream",
     "text": [
      "Epoch 39: Train pAUC: 0.178685 - Val pAUC: 0.151130 | Train Loss: 1.698746 - Val Loss: 7.594459\n",
      "\n"
     ]
    },
    {
     "name": "stderr",
     "output_type": "stream",
     "text": [
      "Epoch 40: 100%|██████████| 201/201 [02:07<00:00,  1.58it/s, train_loss=0.0518]\n",
      "Epoch 40: 100%|██████████| 29/29 [00:12<00:00,  2.29it/s, val_loss=0.123]\n"
     ]
    },
    {
     "name": "stdout",
     "output_type": "stream",
     "text": [
      "Epoch 40: Train pAUC: 0.179804 - Val pAUC: 0.144974 | Train Loss: 1.650568 - Val Loss: 7.869141\n",
      "\n"
     ]
    },
    {
     "name": "stderr",
     "output_type": "stream",
     "text": [
      "Epoch 41: 100%|██████████| 201/201 [02:07<00:00,  1.57it/s, train_loss=0.0507]\n",
      "Epoch 41: 100%|██████████| 29/29 [00:12<00:00,  2.28it/s, val_loss=0.124]\n"
     ]
    },
    {
     "name": "stdout",
     "output_type": "stream",
     "text": [
      "Epoch 41: Train pAUC: 0.174058 - Val pAUC: 0.151052 | Train Loss: 1.614472 - Val Loss: 7.889943\n",
      "\n"
     ]
    },
    {
     "name": "stderr",
     "output_type": "stream",
     "text": [
      "Epoch 42: 100%|██████████| 201/201 [02:07<00:00,  1.58it/s, train_loss=0.0504]\n",
      "Epoch 42: 100%|██████████| 29/29 [00:12<00:00,  2.26it/s, val_loss=0.122]\n"
     ]
    },
    {
     "name": "stdout",
     "output_type": "stream",
     "text": [
      "Epoch 42: Train pAUC: 0.173077 - Val pAUC: 0.137785 | Train Loss: 1.606429 - Val Loss: 7.793908\n",
      "\n"
     ]
    },
    {
     "name": "stderr",
     "output_type": "stream",
     "text": [
      "Epoch 43: 100%|██████████| 201/201 [02:07<00:00,  1.58it/s, train_loss=0.0507]\n",
      "Epoch 43: 100%|██████████| 29/29 [00:12<00:00,  2.29it/s, val_loss=0.12]\n"
     ]
    },
    {
     "name": "stdout",
     "output_type": "stream",
     "text": [
      "Epoch 43: Train pAUC: 0.180146 - Val pAUC: 0.150021 | Train Loss: 1.616642 - Val Loss: 7.660212\n",
      "\n"
     ]
    },
    {
     "name": "stderr",
     "output_type": "stream",
     "text": [
      "Epoch 44: 100%|██████████| 201/201 [02:07<00:00,  1.57it/s, train_loss=0.0519]\n",
      "Epoch 44: 100%|██████████| 29/29 [00:12<00:00,  2.27it/s, val_loss=0.121]\n"
     ]
    },
    {
     "name": "stdout",
     "output_type": "stream",
     "text": [
      "Epoch 44: Train pAUC: 0.177728 - Val pAUC: 0.142862 | Train Loss: 1.653475 - Val Loss: 7.736020\n",
      "\n"
     ]
    },
    {
     "name": "stderr",
     "output_type": "stream",
     "text": [
      "Epoch 45: 100%|██████████| 201/201 [02:07<00:00,  1.57it/s, train_loss=0.0533]\n",
      "Epoch 45: 100%|██████████| 29/29 [00:12<00:00,  2.26it/s, val_loss=0.126]\n"
     ]
    },
    {
     "name": "stdout",
     "output_type": "stream",
     "text": [
      "Early stopping triggered at epoch 45. Best pAUC = 0.160597\n",
      "Epoch 45: Train pAUC: 0.175144 - Val pAUC: 0.147464 | Train Loss: 1.697635 - Val Loss: 8.056448\n",
      "\n"
     ]
    },
    {
     "name": "stderr",
     "output_type": "stream",
     "text": [
      "Prediction: 100%|██████████| 1191/1191 [08:12<00:00,  2.42it/s]\n"
     ]
    },
    {
     "name": "stdout",
     "output_type": "stream",
     "text": [
      "---------------------------------- Fold 4 ----------------------------------\n"
     ]
    },
    {
     "name": "stderr",
     "output_type": "stream",
     "text": [
      "Epoch 1: 100%|██████████| 208/208 [02:12<00:00,  1.57it/s, train_loss=0.55]\n",
      "Epoch 1: 100%|██████████| 26/26 [00:11<00:00,  2.29it/s, val_loss=0.404]\n"
     ]
    },
    {
     "name": "stdout",
     "output_type": "stream",
     "text": [
      "Epoch 1: Train pAUC: 0.045575 - Val pAUC: 0.104152 | Train Loss: 17.536920 - Val Loss: 25.100760\n",
      "\n"
     ]
    },
    {
     "name": "stderr",
     "output_type": "stream",
     "text": [
      "Epoch 2: 100%|██████████| 208/208 [02:12<00:00,  1.57it/s, train_loss=0.4]\n",
      "Epoch 2: 100%|██████████| 26/26 [00:11<00:00,  2.30it/s, val_loss=0.298]\n"
     ]
    },
    {
     "name": "stdout",
     "output_type": "stream",
     "text": [
      "Epoch 2: Train pAUC: 0.060316 - Val pAUC: 0.089491 | Train Loss: 12.755973 - Val Loss: 18.553679\n",
      "\n"
     ]
    },
    {
     "name": "stderr",
     "output_type": "stream",
     "text": [
      "Epoch 3: 100%|██████████| 208/208 [02:12<00:00,  1.57it/s, train_loss=0.294]\n",
      "Epoch 3: 100%|██████████| 26/26 [00:11<00:00,  2.32it/s, val_loss=0.214]\n"
     ]
    },
    {
     "name": "stdout",
     "output_type": "stream",
     "text": [
      "New best model found: pAUC = 0.111749 (previous best: 0.104152)\n",
      "Epoch 3: Train pAUC: 0.070826 - Val pAUC: 0.111749 | Train Loss: 9.378696 - Val Loss: 13.286872\n",
      "\n"
     ]
    },
    {
     "name": "stderr",
     "output_type": "stream",
     "text": [
      "Epoch 4: 100%|██████████| 208/208 [02:12<00:00,  1.57it/s, train_loss=0.232]\n",
      "Epoch 4: 100%|██████████| 26/26 [00:11<00:00,  2.32it/s, val_loss=0.172]\n"
     ]
    },
    {
     "name": "stdout",
     "output_type": "stream",
     "text": [
      "Epoch 4: Train pAUC: 0.065981 - Val pAUC: 0.089469 | Train Loss: 7.408456 - Val Loss: 10.670621\n",
      "\n"
     ]
    },
    {
     "name": "stderr",
     "output_type": "stream",
     "text": [
      "Epoch 5: 100%|██████████| 208/208 [02:12<00:00,  1.57it/s, train_loss=0.206]\n",
      "Epoch 5: 100%|██████████| 26/26 [00:11<00:00,  2.32it/s, val_loss=0.144]\n"
     ]
    },
    {
     "name": "stdout",
     "output_type": "stream",
     "text": [
      "New best model found: pAUC = 0.123282 (previous best: 0.111749)\n",
      "Epoch 5: Train pAUC: 0.073883 - Val pAUC: 0.123282 | Train Loss: 6.576232 - Val Loss: 8.979739\n",
      "\n"
     ]
    },
    {
     "name": "stderr",
     "output_type": "stream",
     "text": [
      "Epoch 6: 100%|██████████| 208/208 [02:12<00:00,  1.57it/s, train_loss=0.181]\n",
      "Epoch 6: 100%|██████████| 26/26 [00:11<00:00,  2.33it/s, val_loss=0.146]\n"
     ]
    },
    {
     "name": "stdout",
     "output_type": "stream",
     "text": [
      "Epoch 6: Train pAUC: 0.083227 - Val pAUC: 0.100916 | Train Loss: 5.767037 - Val Loss: 9.075722\n",
      "\n"
     ]
    },
    {
     "name": "stderr",
     "output_type": "stream",
     "text": [
      "Epoch 7: 100%|██████████| 208/208 [02:12<00:00,  1.57it/s, train_loss=0.166]\n",
      "Epoch 7: 100%|██████████| 26/26 [00:11<00:00,  2.33it/s, val_loss=0.138]\n"
     ]
    },
    {
     "name": "stdout",
     "output_type": "stream",
     "text": [
      "New best model found: pAUC = 0.147435 (previous best: 0.123282)\n",
      "Epoch 7: Train pAUC: 0.082927 - Val pAUC: 0.147435 | Train Loss: 5.292064 - Val Loss: 8.571005\n",
      "\n"
     ]
    },
    {
     "name": "stderr",
     "output_type": "stream",
     "text": [
      "Epoch 8: 100%|██████████| 208/208 [02:12<00:00,  1.57it/s, train_loss=0.149]\n",
      "Epoch 8: 100%|██████████| 26/26 [00:11<00:00,  2.31it/s, val_loss=0.125]\n"
     ]
    },
    {
     "name": "stdout",
     "output_type": "stream",
     "text": [
      "Epoch 8: Train pAUC: 0.096108 - Val pAUC: 0.137064 | Train Loss: 4.768813 - Val Loss: 7.781211\n",
      "\n"
     ]
    },
    {
     "name": "stderr",
     "output_type": "stream",
     "text": [
      "Epoch 9: 100%|██████████| 208/208 [02:12<00:00,  1.57it/s, train_loss=0.136]\n",
      "Epoch 9: 100%|██████████| 26/26 [00:11<00:00,  2.32it/s, val_loss=0.121]\n"
     ]
    },
    {
     "name": "stdout",
     "output_type": "stream",
     "text": [
      "New best model found: pAUC = 0.154228 (previous best: 0.147435)\n",
      "Epoch 9: Train pAUC: 0.102198 - Val pAUC: 0.154228 | Train Loss: 4.352384 - Val Loss: 7.544572\n",
      "\n"
     ]
    },
    {
     "name": "stderr",
     "output_type": "stream",
     "text": [
      "Epoch 10: 100%|██████████| 208/208 [02:12<00:00,  1.57it/s, train_loss=0.132]\n",
      "Epoch 10: 100%|██████████| 26/26 [00:11<00:00,  2.33it/s, val_loss=0.117]\n"
     ]
    },
    {
     "name": "stdout",
     "output_type": "stream",
     "text": [
      "Epoch 10: Train pAUC: 0.103104 - Val pAUC: 0.130305 | Train Loss: 4.201423 - Val Loss: 7.250823\n",
      "\n"
     ]
    },
    {
     "name": "stderr",
     "output_type": "stream",
     "text": [
      "Epoch 11: 100%|██████████| 208/208 [02:12<00:00,  1.57it/s, train_loss=0.125]\n",
      "Epoch 11: 100%|██████████| 26/26 [00:11<00:00,  2.30it/s, val_loss=0.115]\n"
     ]
    },
    {
     "name": "stdout",
     "output_type": "stream",
     "text": [
      "Epoch 11: Train pAUC: 0.117659 - Val pAUC: 0.153143 | Train Loss: 3.988940 - Val Loss: 7.161970\n",
      "\n"
     ]
    },
    {
     "name": "stderr",
     "output_type": "stream",
     "text": [
      "Epoch 12: 100%|██████████| 208/208 [02:12<00:00,  1.57it/s, train_loss=0.117]\n",
      "Epoch 12: 100%|██████████| 26/26 [00:11<00:00,  2.32it/s, val_loss=0.11]\n"
     ]
    },
    {
     "name": "stdout",
     "output_type": "stream",
     "text": [
      "New best model found: pAUC = 0.164389 (previous best: 0.154228)\n",
      "Epoch 12: Train pAUC: 0.121756 - Val pAUC: 0.164389 | Train Loss: 3.740754 - Val Loss: 6.823794\n",
      "\n"
     ]
    },
    {
     "name": "stderr",
     "output_type": "stream",
     "text": [
      "Epoch 13: 100%|██████████| 208/208 [02:12<00:00,  1.57it/s, train_loss=0.109]\n",
      "Epoch 13: 100%|██████████| 26/26 [00:11<00:00,  2.32it/s, val_loss=0.132]\n"
     ]
    },
    {
     "name": "stdout",
     "output_type": "stream",
     "text": [
      "Epoch 13: Train pAUC: 0.128299 - Val pAUC: 0.159916 | Train Loss: 3.484337 - Val Loss: 8.207551\n",
      "\n"
     ]
    },
    {
     "name": "stderr",
     "output_type": "stream",
     "text": [
      "Epoch 14: 100%|██████████| 208/208 [02:12<00:00,  1.57it/s, train_loss=0.109]\n",
      "Epoch 14: 100%|██████████| 26/26 [00:11<00:00,  2.33it/s, val_loss=0.105]\n"
     ]
    },
    {
     "name": "stdout",
     "output_type": "stream",
     "text": [
      "Epoch 14: Train pAUC: 0.127814 - Val pAUC: 0.137173 | Train Loss: 3.469181 - Val Loss: 6.530335\n",
      "\n"
     ]
    },
    {
     "name": "stderr",
     "output_type": "stream",
     "text": [
      "Epoch 15: 100%|██████████| 208/208 [02:12<00:00,  1.57it/s, train_loss=0.0965]\n",
      "Epoch 15: 100%|██████████| 26/26 [00:11<00:00,  2.33it/s, val_loss=0.101]\n"
     ]
    },
    {
     "name": "stdout",
     "output_type": "stream",
     "text": [
      "Epoch 15: Train pAUC: 0.146576 - Val pAUC: 0.145460 | Train Loss: 3.080044 - Val Loss: 6.264464\n",
      "\n"
     ]
    },
    {
     "name": "stderr",
     "output_type": "stream",
     "text": [
      "Epoch 16: 100%|██████████| 208/208 [02:12<00:00,  1.57it/s, train_loss=0.0929]\n",
      "Epoch 16: 100%|██████████| 26/26 [00:11<00:00,  2.33it/s, val_loss=0.11]\n"
     ]
    },
    {
     "name": "stdout",
     "output_type": "stream",
     "text": [
      "Epoch 16: Train pAUC: 0.149699 - Val pAUC: 0.160970 | Train Loss: 2.962571 - Val Loss: 6.850462\n",
      "\n"
     ]
    },
    {
     "name": "stderr",
     "output_type": "stream",
     "text": [
      "Epoch 17: 100%|██████████| 208/208 [02:12<00:00,  1.57it/s, train_loss=0.0896]\n",
      "Epoch 17: 100%|██████████| 26/26 [00:11<00:00,  2.33it/s, val_loss=0.0999]\n"
     ]
    },
    {
     "name": "stdout",
     "output_type": "stream",
     "text": [
      "Epoch 17: Train pAUC: 0.156869 - Val pAUC: 0.163663 | Train Loss: 2.858639 - Val Loss: 6.215077\n",
      "\n"
     ]
    },
    {
     "name": "stderr",
     "output_type": "stream",
     "text": [
      "Epoch 18: 100%|██████████| 208/208 [02:12<00:00,  1.57it/s, train_loss=0.0859]\n",
      "Epoch 18: 100%|██████████| 26/26 [00:11<00:00,  2.32it/s, val_loss=0.104]\n"
     ]
    },
    {
     "name": "stdout",
     "output_type": "stream",
     "text": [
      "New best model found: pAUC = 0.167431 (previous best: 0.164389)\n",
      "Epoch 18: Train pAUC: 0.139272 - Val pAUC: 0.167431 | Train Loss: 2.739743 - Val Loss: 6.482525\n",
      "\n"
     ]
    },
    {
     "name": "stderr",
     "output_type": "stream",
     "text": [
      "Epoch 19: 100%|██████████| 208/208 [02:12<00:00,  1.57it/s, train_loss=0.0809]\n",
      "Epoch 19: 100%|██████████| 26/26 [00:11<00:00,  2.30it/s, val_loss=0.112]\n"
     ]
    },
    {
     "name": "stdout",
     "output_type": "stream",
     "text": [
      "Epoch 19: Train pAUC: 0.157434 - Val pAUC: 0.154635 | Train Loss: 2.579850 - Val Loss: 6.948585\n",
      "\n"
     ]
    },
    {
     "name": "stderr",
     "output_type": "stream",
     "text": [
      "Epoch 20: 100%|██████████| 208/208 [02:12<00:00,  1.57it/s, train_loss=0.0789]\n",
      "Epoch 20: 100%|██████████| 26/26 [00:11<00:00,  2.33it/s, val_loss=0.105]\n"
     ]
    },
    {
     "name": "stdout",
     "output_type": "stream",
     "text": [
      "Epoch 20: Train pAUC: 0.159061 - Val pAUC: 0.161670 | Train Loss: 2.516797 - Val Loss: 6.544352\n",
      "\n"
     ]
    },
    {
     "name": "stderr",
     "output_type": "stream",
     "text": [
      "Epoch 21: 100%|██████████| 208/208 [02:12<00:00,  1.57it/s, train_loss=0.072]\n",
      "Epoch 21: 100%|██████████| 26/26 [00:11<00:00,  2.32it/s, val_loss=0.108]\n"
     ]
    },
    {
     "name": "stdout",
     "output_type": "stream",
     "text": [
      "Epoch 21: Train pAUC: 0.150443 - Val pAUC: 0.121884 | Train Loss: 2.296428 - Val Loss: 6.711072\n",
      "\n"
     ]
    },
    {
     "name": "stderr",
     "output_type": "stream",
     "text": [
      "Epoch 22: 100%|██████████| 208/208 [02:12<00:00,  1.57it/s, train_loss=0.0678]\n",
      "Epoch 22: 100%|██████████| 26/26 [00:11<00:00,  2.31it/s, val_loss=0.109]\n"
     ]
    },
    {
     "name": "stdout",
     "output_type": "stream",
     "text": [
      "Epoch 22: Train pAUC: 0.166079 - Val pAUC: 0.152554 | Train Loss: 2.163877 - Val Loss: 6.786475\n",
      "\n"
     ]
    },
    {
     "name": "stderr",
     "output_type": "stream",
     "text": [
      "Epoch 23: 100%|██████████| 208/208 [02:12<00:00,  1.57it/s, train_loss=0.0699]\n",
      "Epoch 23: 100%|██████████| 26/26 [00:11<00:00,  2.33it/s, val_loss=0.112]\n"
     ]
    },
    {
     "name": "stdout",
     "output_type": "stream",
     "text": [
      "Epoch 23: Train pAUC: 0.166769 - Val pAUC: 0.132306 | Train Loss: 2.229841 - Val Loss: 6.994673\n",
      "\n"
     ]
    },
    {
     "name": "stderr",
     "output_type": "stream",
     "text": [
      "Epoch 24: 100%|██████████| 208/208 [02:12<00:00,  1.58it/s, train_loss=0.0668]\n",
      "Epoch 24: 100%|██████████| 26/26 [00:11<00:00,  2.28it/s, val_loss=0.106]\n"
     ]
    },
    {
     "name": "stdout",
     "output_type": "stream",
     "text": [
      "Epoch 24: Train pAUC: 0.167578 - Val pAUC: 0.152879 | Train Loss: 2.130955 - Val Loss: 6.579548\n",
      "\n"
     ]
    },
    {
     "name": "stderr",
     "output_type": "stream",
     "text": [
      "Epoch 25: 100%|██████████| 208/208 [02:12<00:00,  1.57it/s, train_loss=0.0608]\n",
      "Epoch 25: 100%|██████████| 26/26 [00:11<00:00,  2.31it/s, val_loss=0.116]\n"
     ]
    },
    {
     "name": "stdout",
     "output_type": "stream",
     "text": [
      "Epoch 25: Train pAUC: 0.175907 - Val pAUC: 0.119413 | Train Loss: 1.939742 - Val Loss: 7.185507\n",
      "\n"
     ]
    },
    {
     "name": "stderr",
     "output_type": "stream",
     "text": [
      "Epoch 26: 100%|██████████| 208/208 [02:12<00:00,  1.57it/s, train_loss=0.061]\n",
      "Epoch 26: 100%|██████████| 26/26 [00:11<00:00,  2.26it/s, val_loss=0.113]\n"
     ]
    },
    {
     "name": "stdout",
     "output_type": "stream",
     "text": [
      "Epoch 26: Train pAUC: 0.172970 - Val pAUC: 0.147868 | Train Loss: 1.944997 - Val Loss: 7.020423\n",
      "\n"
     ]
    },
    {
     "name": "stderr",
     "output_type": "stream",
     "text": [
      "Epoch 27: 100%|██████████| 208/208 [02:12<00:00,  1.57it/s, train_loss=0.0584]\n",
      "Epoch 27: 100%|██████████| 26/26 [00:11<00:00,  2.33it/s, val_loss=0.113]\n"
     ]
    },
    {
     "name": "stdout",
     "output_type": "stream",
     "text": [
      "Epoch 27: Train pAUC: 0.170025 - Val pAUC: 0.152272 | Train Loss: 1.861766 - Val Loss: 7.009249\n",
      "\n"
     ]
    },
    {
     "name": "stderr",
     "output_type": "stream",
     "text": [
      "Epoch 28: 100%|██████████| 208/208 [02:12<00:00,  1.57it/s, train_loss=0.0533]\n",
      "Epoch 28: 100%|██████████| 26/26 [00:11<00:00,  2.32it/s, val_loss=0.117]\n"
     ]
    },
    {
     "name": "stdout",
     "output_type": "stream",
     "text": [
      "Epoch 28: Train pAUC: 0.172635 - Val pAUC: 0.125940 | Train Loss: 1.698967 - Val Loss: 7.248151\n",
      "\n"
     ]
    },
    {
     "name": "stderr",
     "output_type": "stream",
     "text": [
      "Epoch 29: 100%|██████████| 208/208 [02:12<00:00,  1.57it/s, train_loss=0.0554]\n",
      "Epoch 29: 100%|██████████| 26/26 [00:11<00:00,  2.32it/s, val_loss=0.108]\n"
     ]
    },
    {
     "name": "stdout",
     "output_type": "stream",
     "text": [
      "Epoch 29: Train pAUC: 0.174917 - Val pAUC: 0.138595 | Train Loss: 1.766499 - Val Loss: 6.703004\n",
      "\n"
     ]
    },
    {
     "name": "stderr",
     "output_type": "stream",
     "text": [
      "Epoch 30: 100%|██████████| 208/208 [02:12<00:00,  1.58it/s, train_loss=0.0554]\n",
      "Epoch 30: 100%|██████████| 26/26 [00:11<00:00,  2.33it/s, val_loss=0.113]\n"
     ]
    },
    {
     "name": "stdout",
     "output_type": "stream",
     "text": [
      "Epoch 30: Train pAUC: 0.174555 - Val pAUC: 0.125920 | Train Loss: 1.766705 - Val Loss: 7.025713\n",
      "\n"
     ]
    },
    {
     "name": "stderr",
     "output_type": "stream",
     "text": [
      "Epoch 31: 100%|██████████| 208/208 [02:12<00:00,  1.57it/s, train_loss=0.0492]\n",
      "Epoch 31: 100%|██████████| 26/26 [00:11<00:00,  2.33it/s, val_loss=0.116]\n"
     ]
    },
    {
     "name": "stdout",
     "output_type": "stream",
     "text": [
      "Epoch 31: Train pAUC: 0.176384 - Val pAUC: 0.108732 | Train Loss: 1.570249 - Val Loss: 7.189679\n",
      "\n"
     ]
    },
    {
     "name": "stderr",
     "output_type": "stream",
     "text": [
      "Epoch 32: 100%|██████████| 208/208 [02:12<00:00,  1.57it/s, train_loss=0.0451]\n",
      "Epoch 32: 100%|██████████| 26/26 [00:11<00:00,  2.31it/s, val_loss=0.118]\n"
     ]
    },
    {
     "name": "stdout",
     "output_type": "stream",
     "text": [
      "Epoch 32: Train pAUC: 0.180702 - Val pAUC: 0.131558 | Train Loss: 1.438644 - Val Loss: 7.340654\n",
      "\n"
     ]
    },
    {
     "name": "stderr",
     "output_type": "stream",
     "text": [
      "Epoch 33: 100%|██████████| 208/208 [02:12<00:00,  1.57it/s, train_loss=0.0475]\n",
      "Epoch 33: 100%|██████████| 26/26 [00:11<00:00,  2.32it/s, val_loss=0.115]\n"
     ]
    },
    {
     "name": "stdout",
     "output_type": "stream",
     "text": [
      "Early stopping triggered at epoch 33. Best pAUC = 0.167431\n",
      "Epoch 33: Train pAUC: 0.180815 - Val pAUC: 0.138882 | Train Loss: 1.516263 - Val Loss: 7.156393\n",
      "\n"
     ]
    },
    {
     "name": "stderr",
     "output_type": "stream",
     "text": [
      "Prediction: 100%|██████████| 1167/1167 [08:02<00:00,  2.42it/s]\n"
     ]
    },
    {
     "name": "stdout",
     "output_type": "stream",
     "text": [
      "---------------------------------- Fold 5 ----------------------------------\n"
     ]
    },
    {
     "name": "stderr",
     "output_type": "stream",
     "text": [
      "Epoch 1: 100%|██████████| 204/204 [02:09<00:00,  1.57it/s, train_loss=0.616]\n",
      "Epoch 1: 100%|██████████| 28/28 [00:11<00:00,  2.35it/s, val_loss=0.526]\n"
     ]
    },
    {
     "name": "stdout",
     "output_type": "stream",
     "text": [
      "Epoch 1: Train pAUC: 0.039529 - Val pAUC: 0.123532 | Train Loss: 19.641891 - Val Loss: 32.747965\n",
      "\n"
     ]
    },
    {
     "name": "stderr",
     "output_type": "stream",
     "text": [
      "Epoch 2: 100%|██████████| 204/204 [02:09<00:00,  1.57it/s, train_loss=0.467]\n",
      "Epoch 2: 100%|██████████| 28/28 [00:11<00:00,  2.35it/s, val_loss=0.418]\n"
     ]
    },
    {
     "name": "stdout",
     "output_type": "stream",
     "text": [
      "New best model found: pAUC = 0.135046 (previous best: 0.123532)\n",
      "Epoch 2: Train pAUC: 0.075383 - Val pAUC: 0.135046 | Train Loss: 14.908652 - Val Loss: 26.009766\n",
      "\n"
     ]
    },
    {
     "name": "stderr",
     "output_type": "stream",
     "text": [
      "Epoch 3: 100%|██████████| 204/204 [02:09<00:00,  1.58it/s, train_loss=0.359]\n",
      "Epoch 3: 100%|██████████| 28/28 [00:11<00:00,  2.35it/s, val_loss=0.243]\n"
     ]
    },
    {
     "name": "stdout",
     "output_type": "stream",
     "text": [
      "Epoch 3: Train pAUC: 0.079208 - Val pAUC: 0.129509 | Train Loss: 11.465742 - Val Loss: 15.132430\n",
      "\n"
     ]
    },
    {
     "name": "stderr",
     "output_type": "stream",
     "text": [
      "Epoch 4: 100%|██████████| 204/204 [02:09<00:00,  1.58it/s, train_loss=0.273]\n",
      "Epoch 4: 100%|██████████| 28/28 [00:12<00:00,  2.33it/s, val_loss=0.172]\n"
     ]
    },
    {
     "name": "stdout",
     "output_type": "stream",
     "text": [
      "Epoch 4: Train pAUC: 0.067190 - Val pAUC: 0.099254 | Train Loss: 8.701752 - Val Loss: 10.683976\n",
      "\n"
     ]
    },
    {
     "name": "stderr",
     "output_type": "stream",
     "text": [
      "Epoch 5: 100%|██████████| 204/204 [02:09<00:00,  1.58it/s, train_loss=0.216]\n",
      "Epoch 5: 100%|██████████| 28/28 [00:11<00:00,  2.35it/s, val_loss=0.151]\n"
     ]
    },
    {
     "name": "stdout",
     "output_type": "stream",
     "text": [
      "Epoch 5: Train pAUC: 0.079279 - Val pAUC: 0.128306 | Train Loss: 6.890784 - Val Loss: 9.409487\n",
      "\n"
     ]
    },
    {
     "name": "stderr",
     "output_type": "stream",
     "text": [
      "Epoch 6: 100%|██████████| 204/204 [02:09<00:00,  1.58it/s, train_loss=0.191]\n",
      "Epoch 6: 100%|██████████| 28/28 [00:11<00:00,  2.35it/s, val_loss=0.134]\n"
     ]
    },
    {
     "name": "stdout",
     "output_type": "stream",
     "text": [
      "New best model found: pAUC = 0.137135 (previous best: 0.135046)\n",
      "Epoch 6: Train pAUC: 0.075723 - Val pAUC: 0.137135 | Train Loss: 6.106983 - Val Loss: 8.317252\n",
      "\n"
     ]
    },
    {
     "name": "stderr",
     "output_type": "stream",
     "text": [
      "Epoch 7: 100%|██████████| 204/204 [02:09<00:00,  1.58it/s, train_loss=0.171]\n",
      "Epoch 7: 100%|██████████| 28/28 [00:11<00:00,  2.33it/s, val_loss=0.132]\n"
     ]
    },
    {
     "name": "stdout",
     "output_type": "stream",
     "text": [
      "Epoch 7: Train pAUC: 0.078249 - Val pAUC: 0.123477 | Train Loss: 5.456874 - Val Loss: 8.186388\n",
      "\n"
     ]
    },
    {
     "name": "stderr",
     "output_type": "stream",
     "text": [
      "Epoch 8: 100%|██████████| 204/204 [02:09<00:00,  1.57it/s, train_loss=0.159]\n",
      "Epoch 8: 100%|██████████| 28/28 [00:11<00:00,  2.34it/s, val_loss=0.116]\n"
     ]
    },
    {
     "name": "stdout",
     "output_type": "stream",
     "text": [
      "New best model found: pAUC = 0.150433 (previous best: 0.137135)\n",
      "Epoch 8: Train pAUC: 0.088767 - Val pAUC: 0.150433 | Train Loss: 5.067160 - Val Loss: 7.237013\n",
      "\n"
     ]
    },
    {
     "name": "stderr",
     "output_type": "stream",
     "text": [
      "Epoch 9: 100%|██████████| 204/204 [02:09<00:00,  1.57it/s, train_loss=0.144]\n",
      "Epoch 9: 100%|██████████| 28/28 [00:12<00:00,  2.33it/s, val_loss=0.111]\n"
     ]
    },
    {
     "name": "stdout",
     "output_type": "stream",
     "text": [
      "New best model found: pAUC = 0.156881 (previous best: 0.150433)\n",
      "Epoch 9: Train pAUC: 0.094888 - Val pAUC: 0.156881 | Train Loss: 4.586440 - Val Loss: 6.939263\n",
      "\n"
     ]
    },
    {
     "name": "stderr",
     "output_type": "stream",
     "text": [
      "Epoch 10: 100%|██████████| 204/204 [02:09<00:00,  1.57it/s, train_loss=0.144]\n",
      "Epoch 10: 100%|██████████| 28/28 [00:12<00:00,  2.33it/s, val_loss=0.112]\n"
     ]
    },
    {
     "name": "stdout",
     "output_type": "stream",
     "text": [
      "Epoch 10: Train pAUC: 0.092219 - Val pAUC: 0.153540 | Train Loss: 4.608731 - Val Loss: 6.971772\n",
      "\n"
     ]
    },
    {
     "name": "stderr",
     "output_type": "stream",
     "text": [
      "Epoch 11: 100%|██████████| 204/204 [02:09<00:00,  1.57it/s, train_loss=0.135]\n",
      "Epoch 11: 100%|██████████| 28/28 [00:11<00:00,  2.34it/s, val_loss=0.104]\n"
     ]
    },
    {
     "name": "stdout",
     "output_type": "stream",
     "text": [
      "Epoch 11: Train pAUC: 0.095372 - Val pAUC: 0.154342 | Train Loss: 4.297689 - Val Loss: 6.454146\n",
      "\n"
     ]
    },
    {
     "name": "stderr",
     "output_type": "stream",
     "text": [
      "Epoch 12: 100%|██████████| 204/204 [02:09<00:00,  1.57it/s, train_loss=0.124]\n",
      "Epoch 12: 100%|██████████| 28/28 [00:12<00:00,  2.33it/s, val_loss=0.0984]\n"
     ]
    },
    {
     "name": "stdout",
     "output_type": "stream",
     "text": [
      "New best model found: pAUC = 0.161200 (previous best: 0.156881)\n",
      "Epoch 12: Train pAUC: 0.113990 - Val pAUC: 0.161200 | Train Loss: 3.971351 - Val Loss: 6.126373\n",
      "\n"
     ]
    },
    {
     "name": "stderr",
     "output_type": "stream",
     "text": [
      "Epoch 13: 100%|██████████| 204/204 [02:09<00:00,  1.58it/s, train_loss=0.125]\n",
      "Epoch 13: 100%|██████████| 28/28 [00:12<00:00,  2.32it/s, val_loss=0.112]\n"
     ]
    },
    {
     "name": "stdout",
     "output_type": "stream",
     "text": [
      "Epoch 13: Train pAUC: 0.104794 - Val pAUC: 0.128940 | Train Loss: 4.002018 - Val Loss: 6.958619\n",
      "\n"
     ]
    },
    {
     "name": "stderr",
     "output_type": "stream",
     "text": [
      "Epoch 14: 100%|██████████| 204/204 [02:09<00:00,  1.58it/s, train_loss=0.118]\n",
      "Epoch 14: 100%|██████████| 28/28 [00:12<00:00,  2.33it/s, val_loss=0.1]\n"
     ]
    },
    {
     "name": "stdout",
     "output_type": "stream",
     "text": [
      "Epoch 14: Train pAUC: 0.118913 - Val pAUC: 0.158258 | Train Loss: 3.759924 - Val Loss: 6.229546\n",
      "\n"
     ]
    },
    {
     "name": "stderr",
     "output_type": "stream",
     "text": [
      "Epoch 15: 100%|██████████| 204/204 [02:09<00:00,  1.57it/s, train_loss=0.111]\n",
      "Epoch 15: 100%|██████████| 28/28 [00:12<00:00,  2.30it/s, val_loss=0.103]\n"
     ]
    },
    {
     "name": "stdout",
     "output_type": "stream",
     "text": [
      "Epoch 15: Train pAUC: 0.114605 - Val pAUC: 0.151679 | Train Loss: 3.553856 - Val Loss: 6.437270\n",
      "\n"
     ]
    },
    {
     "name": "stderr",
     "output_type": "stream",
     "text": [
      "Epoch 16: 100%|██████████| 204/204 [02:09<00:00,  1.57it/s, train_loss=0.105]\n",
      "Epoch 16: 100%|██████████| 28/28 [00:12<00:00,  2.33it/s, val_loss=0.101]\n"
     ]
    },
    {
     "name": "stdout",
     "output_type": "stream",
     "text": [
      "Epoch 16: Train pAUC: 0.134055 - Val pAUC: 0.158453 | Train Loss: 3.345819 - Val Loss: 6.273206\n",
      "\n"
     ]
    },
    {
     "name": "stderr",
     "output_type": "stream",
     "text": [
      "Epoch 17: 100%|██████████| 204/204 [02:09<00:00,  1.57it/s, train_loss=0.104]\n",
      "Epoch 17: 100%|██████████| 28/28 [00:12<00:00,  2.31it/s, val_loss=0.103]\n"
     ]
    },
    {
     "name": "stdout",
     "output_type": "stream",
     "text": [
      "New best model found: pAUC = 0.167833 (previous best: 0.161200)\n",
      "Epoch 17: Train pAUC: 0.127797 - Val pAUC: 0.167833 | Train Loss: 3.333275 - Val Loss: 6.435755\n",
      "\n"
     ]
    },
    {
     "name": "stderr",
     "output_type": "stream",
     "text": [
      "Epoch 18: 100%|██████████| 204/204 [02:09<00:00,  1.57it/s, train_loss=0.099]\n",
      "Epoch 18: 100%|██████████| 28/28 [00:12<00:00,  2.33it/s, val_loss=0.1]\n"
     ]
    },
    {
     "name": "stdout",
     "output_type": "stream",
     "text": [
      "Epoch 18: Train pAUC: 0.133643 - Val pAUC: 0.152855 | Train Loss: 3.160448 - Val Loss: 6.249810\n",
      "\n"
     ]
    },
    {
     "name": "stderr",
     "output_type": "stream",
     "text": [
      "Epoch 19: 100%|██████████| 204/204 [02:09<00:00,  1.57it/s, train_loss=0.0993]\n",
      "Epoch 19: 100%|██████████| 28/28 [00:12<00:00,  2.32it/s, val_loss=0.0958]\n"
     ]
    },
    {
     "name": "stdout",
     "output_type": "stream",
     "text": [
      "New best model found: pAUC = 0.169019 (previous best: 0.167833)\n",
      "Epoch 19: Train pAUC: 0.125127 - Val pAUC: 0.169019 | Train Loss: 3.168506 - Val Loss: 5.961680\n",
      "\n"
     ]
    },
    {
     "name": "stderr",
     "output_type": "stream",
     "text": [
      "Epoch 20: 100%|██████████| 204/204 [02:09<00:00,  1.57it/s, train_loss=0.0916]\n",
      "Epoch 20: 100%|██████████| 28/28 [00:12<00:00,  2.31it/s, val_loss=0.101]\n"
     ]
    },
    {
     "name": "stdout",
     "output_type": "stream",
     "text": [
      "New best model found: pAUC = 0.169827 (previous best: 0.169019)\n",
      "Epoch 20: Train pAUC: 0.134725 - Val pAUC: 0.169827 | Train Loss: 2.921580 - Val Loss: 6.308802\n",
      "\n"
     ]
    },
    {
     "name": "stderr",
     "output_type": "stream",
     "text": [
      "Epoch 21: 100%|██████████| 204/204 [02:09<00:00,  1.57it/s, train_loss=0.0859]\n",
      "Epoch 21: 100%|██████████| 28/28 [00:11<00:00,  2.34it/s, val_loss=0.0981]\n"
     ]
    },
    {
     "name": "stdout",
     "output_type": "stream",
     "text": [
      "Epoch 21: Train pAUC: 0.145171 - Val pAUC: 0.152304 | Train Loss: 2.742818 - Val Loss: 6.104789\n",
      "\n"
     ]
    },
    {
     "name": "stderr",
     "output_type": "stream",
     "text": [
      "Epoch 22: 100%|██████████| 204/204 [02:09<00:00,  1.57it/s, train_loss=0.0866]\n",
      "Epoch 22: 100%|██████████| 28/28 [00:11<00:00,  2.34it/s, val_loss=0.0978]\n"
     ]
    },
    {
     "name": "stdout",
     "output_type": "stream",
     "text": [
      "Epoch 22: Train pAUC: 0.136969 - Val pAUC: 0.156629 | Train Loss: 2.763406 - Val Loss: 6.090011\n",
      "\n"
     ]
    },
    {
     "name": "stderr",
     "output_type": "stream",
     "text": [
      "Epoch 23: 100%|██████████| 204/204 [02:09<00:00,  1.57it/s, train_loss=0.0793]\n",
      "Epoch 23: 100%|██████████| 28/28 [00:11<00:00,  2.34it/s, val_loss=0.0989]\n"
     ]
    },
    {
     "name": "stdout",
     "output_type": "stream",
     "text": [
      "Epoch 23: Train pAUC: 0.149845 - Val pAUC: 0.140171 | Train Loss: 2.532145 - Val Loss: 6.154090\n",
      "\n"
     ]
    },
    {
     "name": "stderr",
     "output_type": "stream",
     "text": [
      "Epoch 24: 100%|██████████| 204/204 [02:09<00:00,  1.57it/s, train_loss=0.0759]\n",
      "Epoch 24: 100%|██████████| 28/28 [00:11<00:00,  2.34it/s, val_loss=0.0973]\n"
     ]
    },
    {
     "name": "stdout",
     "output_type": "stream",
     "text": [
      "Epoch 24: Train pAUC: 0.152985 - Val pAUC: 0.154676 | Train Loss: 2.421084 - Val Loss: 6.059555\n",
      "\n"
     ]
    },
    {
     "name": "stderr",
     "output_type": "stream",
     "text": [
      "Epoch 25: 100%|██████████| 204/204 [02:09<00:00,  1.57it/s, train_loss=0.0801]\n",
      "Epoch 25: 100%|██████████| 28/28 [00:12<00:00,  2.31it/s, val_loss=0.0935]\n"
     ]
    },
    {
     "name": "stdout",
     "output_type": "stream",
     "text": [
      "Epoch 25: Train pAUC: 0.140864 - Val pAUC: 0.138248 | Train Loss: 2.555551 - Val Loss: 5.821497\n",
      "\n"
     ]
    },
    {
     "name": "stderr",
     "output_type": "stream",
     "text": [
      "Epoch 26: 100%|██████████| 204/204 [02:09<00:00,  1.57it/s, train_loss=0.0743]\n",
      "Epoch 26: 100%|██████████| 28/28 [00:12<00:00,  2.32it/s, val_loss=0.094]\n"
     ]
    },
    {
     "name": "stdout",
     "output_type": "stream",
     "text": [
      "Epoch 26: Train pAUC: 0.150447 - Val pAUC: 0.158978 | Train Loss: 2.372612 - Val Loss: 5.851556\n",
      "\n"
     ]
    },
    {
     "name": "stderr",
     "output_type": "stream",
     "text": [
      "Epoch 27: 100%|██████████| 204/204 [02:09<00:00,  1.57it/s, train_loss=0.0737]\n",
      "Epoch 27: 100%|██████████| 28/28 [00:12<00:00,  2.30it/s, val_loss=0.0996]\n"
     ]
    },
    {
     "name": "stdout",
     "output_type": "stream",
     "text": [
      "Epoch 27: Train pAUC: 0.142669 - Val pAUC: 0.160398 | Train Loss: 2.352777 - Val Loss: 6.202617\n",
      "\n"
     ]
    },
    {
     "name": "stderr",
     "output_type": "stream",
     "text": [
      "Epoch 28: 100%|██████████| 204/204 [02:09<00:00,  1.58it/s, train_loss=0.073]\n",
      "Epoch 28: 100%|██████████| 28/28 [00:11<00:00,  2.34it/s, val_loss=0.094]\n"
     ]
    },
    {
     "name": "stdout",
     "output_type": "stream",
     "text": [
      "Epoch 28: Train pAUC: 0.149858 - Val pAUC: 0.159435 | Train Loss: 2.330418 - Val Loss: 5.849321\n",
      "\n"
     ]
    },
    {
     "name": "stderr",
     "output_type": "stream",
     "text": [
      "Epoch 29: 100%|██████████| 204/204 [02:09<00:00,  1.57it/s, train_loss=0.0666]\n",
      "Epoch 29: 100%|██████████| 28/28 [00:11<00:00,  2.34it/s, val_loss=0.0941]\n"
     ]
    },
    {
     "name": "stdout",
     "output_type": "stream",
     "text": [
      "Epoch 29: Train pAUC: 0.159199 - Val pAUC: 0.161491 | Train Loss: 2.125738 - Val Loss: 5.859585\n",
      "\n"
     ]
    },
    {
     "name": "stderr",
     "output_type": "stream",
     "text": [
      "Epoch 30: 100%|██████████| 204/204 [02:09<00:00,  1.58it/s, train_loss=0.068]\n",
      "Epoch 30: 100%|██████████| 28/28 [00:12<00:00,  2.33it/s, val_loss=0.098]\n"
     ]
    },
    {
     "name": "stdout",
     "output_type": "stream",
     "text": [
      "Epoch 30: Train pAUC: 0.154027 - Val pAUC: 0.155862 | Train Loss: 2.170482 - Val Loss: 6.102855\n",
      "\n"
     ]
    },
    {
     "name": "stderr",
     "output_type": "stream",
     "text": [
      "Epoch 31: 100%|██████████| 204/204 [02:09<00:00,  1.57it/s, train_loss=0.0655]\n",
      "Epoch 31: 100%|██████████| 28/28 [00:11<00:00,  2.34it/s, val_loss=0.0966]\n"
     ]
    },
    {
     "name": "stdout",
     "output_type": "stream",
     "text": [
      "Epoch 31: Train pAUC: 0.158354 - Val pAUC: 0.142352 | Train Loss: 2.091384 - Val Loss: 6.011021\n",
      "\n"
     ]
    },
    {
     "name": "stderr",
     "output_type": "stream",
     "text": [
      "Epoch 32: 100%|██████████| 204/204 [02:09<00:00,  1.57it/s, train_loss=0.0618]\n",
      "Epoch 32: 100%|██████████| 28/28 [00:11<00:00,  2.34it/s, val_loss=0.0957]\n"
     ]
    },
    {
     "name": "stdout",
     "output_type": "stream",
     "text": [
      "Epoch 32: Train pAUC: 0.171350 - Val pAUC: 0.151086 | Train Loss: 1.971734 - Val Loss: 5.957806\n",
      "\n"
     ]
    },
    {
     "name": "stderr",
     "output_type": "stream",
     "text": [
      "Epoch 33: 100%|██████████| 204/204 [02:09<00:00,  1.58it/s, train_loss=0.0614]\n",
      "Epoch 33: 100%|██████████| 28/28 [00:11<00:00,  2.34it/s, val_loss=0.097]\n"
     ]
    },
    {
     "name": "stdout",
     "output_type": "stream",
     "text": [
      "Epoch 33: Train pAUC: 0.169106 - Val pAUC: 0.153302 | Train Loss: 1.957805 - Val Loss: 6.039663\n",
      "\n"
     ]
    },
    {
     "name": "stderr",
     "output_type": "stream",
     "text": [
      "Epoch 34: 100%|██████████| 204/204 [02:09<00:00,  1.57it/s, train_loss=0.06]\n",
      "Epoch 34: 100%|██████████| 28/28 [00:11<00:00,  2.34it/s, val_loss=0.0998]\n"
     ]
    },
    {
     "name": "stdout",
     "output_type": "stream",
     "text": [
      "Epoch 34: Train pAUC: 0.171915 - Val pAUC: 0.154069 | Train Loss: 1.915010 - Val Loss: 6.212746\n",
      "\n"
     ]
    },
    {
     "name": "stderr",
     "output_type": "stream",
     "text": [
      "Epoch 35: 100%|██████████| 204/204 [02:09<00:00,  1.58it/s, train_loss=0.0624]\n",
      "Epoch 35: 100%|██████████| 28/28 [00:11<00:00,  2.33it/s, val_loss=0.0989]\n"
     ]
    },
    {
     "name": "stdout",
     "output_type": "stream",
     "text": [
      "Early stopping triggered at epoch 35. Best pAUC = 0.169827\n",
      "Epoch 35: Train pAUC: 0.162401 - Val pAUC: 0.159074 | Train Loss: 1.991978 - Val Loss: 6.154531\n",
      "\n"
     ]
    },
    {
     "name": "stderr",
     "output_type": "stream",
     "text": [
      "Prediction: 100%|██████████| 1389/1389 [09:34<00:00,  2.42it/s]\n"
     ]
    }
   ],
   "source": [
    "histories = {}\n",
    "oof_pred_probs_df = []\n",
    "test_preds = []\n",
    "for fold_idx in range(CFG.n_folds):\n",
    "    print(f'---------------------------------- Fold {fold_idx + 1} ----------------------------------')\n",
    "\n",
    "    _train = train_metadata[train_metadata['fold'] != fold_idx]\n",
    "    _train_positives = _train[_train.target == 1]\n",
    "    _train_negatives = _train[_train.target == 0]\n",
    "    _train = pd.concat([_train_positives, _train_negatives.sample(n=20 * len(_train_positives), random_state=CFG.seed)])\n",
    "    _train = _train.sample(frac=1, random_state=CFG.seed).reset_index(drop=True)\n",
    "    train_dataset = ISICDataset(CFG.train_img_path, _train, transforms['train'])\n",
    "    train_dataloader = DataLoader(train_dataset, batch_size=CFG.train_batch_size, shuffle=True,  num_workers=4, pin_memory=True)\n",
    "\n",
    "    _val = train_metadata[train_metadata['fold'] == fold_idx]\n",
    "    _val_positives = _val[_val.target == 1]\n",
    "    _val_negatives = _val[_val.target == 0]\n",
    "    _val = pd.concat([_val_positives, _val_negatives.sample(n=20 * len(_val_positives), random_state=CFG.seed)])\n",
    "    _val = _val.sample(frac=1, random_state=CFG.seed).reset_index(drop=True)\n",
    "    val_dataset = ISICDataset(CFG.train_img_path, _val, transforms['val'])\n",
    "    val_dataloader = DataLoader(val_dataset, batch_size=CFG.val_batch_size, shuffle=False, num_workers=4, pin_memory=True)\n",
    "\n",
    "    _val_oof = train_metadata[train_metadata['fold'] == fold_idx]\n",
    "    val_oof_dataset = ISICDataset(CFG.train_img_path, _val_oof, transforms['val'])\n",
    "    val_oof_dataloader = DataLoader(val_oof_dataset, batch_size=CFG.val_batch_size, shuffle=False, num_workers=4, pin_memory=True)\n",
    "\n",
    "    CFG.t_max = _train.shape[0] * (CFG.n_folds-1) * CFG.max_epochs // CFG.train_batch_size // CFG.n_folds\n",
    "\n",
    "    model = SwinTransformer(CFG.model_name).to(CFG.device)\n",
    "    criterion = nn.BCELoss()\n",
    "    optimizer = optim.Adam(model.parameters(), lr=CFG.learning_rate, weight_decay=CFG.weight_decay)\n",
    "    scheduler = optim.lr_scheduler.CosineAnnealingLR(optimizer, T_max=CFG.t_max, eta_min=CFG.min_lr)\n",
    "\n",
    "    trainer = Trainer(\n",
    "        device=CFG.device,\n",
    "        model=model,\n",
    "        criterion=criterion,\n",
    "        optimizer=optimizer,\n",
    "        scheduler=scheduler,\n",
    "        train_dataloader=train_dataloader,\n",
    "        val_dataloader=val_dataloader,\n",
    "        checkpoint_path=CFG.checkpoint_path,\n",
    "        fold_idx=fold_idx,\n",
    "        es_patience=CFG.es_patience\n",
    "    )\n",
    "\n",
    "    history = {\n",
    "        'epoch': [],\n",
    "        'train_pauc': [],\n",
    "        'train_loss': [],\n",
    "        'val_pauc': [],\n",
    "        'val_loss': []\n",
    "    }\n",
    "    for epoch in range(1, CFG.max_epochs + 1):\n",
    "        train_pauc, train_loss = trainer.train(current_epoch_nr=epoch)\n",
    "        val_pauc, val_loss, es_triggered = trainer.evaluate(current_epoch_nr=epoch)\n",
    "\n",
    "        print(f\"Epoch {epoch}: Train pAUC: {train_pauc:.6f} - Val pAUC: {val_pauc:.6f} | Train Loss: {train_loss:.6f} - Val Loss: {val_loss:.6f}\\n\")\n",
    "\n",
    "        history['epoch'].append(epoch)\n",
    "        history['train_pauc'].append(train_pauc)\n",
    "        history['train_loss'].append(train_loss)\n",
    "        history['val_pauc'].append(val_pauc)\n",
    "        history['val_loss'].append(val_loss)\n",
    "\n",
    "        if es_triggered:\n",
    "            break\n",
    "\n",
    "    histories[f'Fold {fold_idx + 1}'] = history\n",
    "\n",
    "    pred_probs = trainer.predict(val_oof_dataloader)\n",
    "    _val_oof[CFG.model_name] = pred_probs\n",
    "    oof_pred_probs_df.append(_val_oof)\n",
    "\n",
    "    del _train, _val, _val_oof, train_dataset, val_dataset, model, criterion, optimizer, scheduler, trainer\n",
    "    gc.collect()\n",
    "    torch.cuda.empty_cache()"
   ]
  },
  {
   "cell_type": "code",
   "execution_count": 10,
   "id": "77b42058",
   "metadata": {
    "execution": {
     "iopub.execute_input": "2024-08-30T19:26:56.933001Z",
     "iopub.status.busy": "2024-08-30T19:26:56.932615Z",
     "iopub.status.idle": "2024-08-30T19:26:58.798876Z",
     "shell.execute_reply": "2024-08-30T19:26:58.797852Z"
    },
    "id": "jNqTO4uvCZwF",
    "papermill": {
     "duration": 15.072383,
     "end_time": "2024-08-30T19:26:58.801394",
     "exception": false,
     "start_time": "2024-08-30T19:26:43.729011",
     "status": "completed"
    },
    "tags": []
   },
   "outputs": [
    {
     "data": {
      "text/html": [
       "<div>\n",
       "<style scoped>\n",
       "    .dataframe tbody tr th:only-of-type {\n",
       "        vertical-align: middle;\n",
       "    }\n",
       "\n",
       "    .dataframe tbody tr th {\n",
       "        vertical-align: top;\n",
       "    }\n",
       "\n",
       "    .dataframe thead th {\n",
       "        text-align: right;\n",
       "    }\n",
       "</style>\n",
       "<table border=\"1\" class=\"dataframe\">\n",
       "  <thead>\n",
       "    <tr style=\"text-align: right;\">\n",
       "      <th></th>\n",
       "      <th>isic_id</th>\n",
       "      <th>fold</th>\n",
       "      <th>target</th>\n",
       "      <th>swin_base_patch4_window7_224</th>\n",
       "    </tr>\n",
       "  </thead>\n",
       "  <tbody>\n",
       "    <tr>\n",
       "      <th>10</th>\n",
       "      <td>ISIC_0051812</td>\n",
       "      <td>0.0</td>\n",
       "      <td>0</td>\n",
       "      <td>0.008632</td>\n",
       "    </tr>\n",
       "    <tr>\n",
       "      <th>18</th>\n",
       "      <td>ISIC_0052026</td>\n",
       "      <td>0.0</td>\n",
       "      <td>0</td>\n",
       "      <td>0.129371</td>\n",
       "    </tr>\n",
       "    <tr>\n",
       "      <th>30</th>\n",
       "      <td>ISIC_0052259</td>\n",
       "      <td>0.0</td>\n",
       "      <td>0</td>\n",
       "      <td>0.058466</td>\n",
       "    </tr>\n",
       "    <tr>\n",
       "      <th>32</th>\n",
       "      <td>ISIC_0052310</td>\n",
       "      <td>0.0</td>\n",
       "      <td>0</td>\n",
       "      <td>0.008232</td>\n",
       "    </tr>\n",
       "    <tr>\n",
       "      <th>33</th>\n",
       "      <td>ISIC_0052313</td>\n",
       "      <td>0.0</td>\n",
       "      <td>0</td>\n",
       "      <td>0.007417</td>\n",
       "    </tr>\n",
       "  </tbody>\n",
       "</table>\n",
       "</div>"
      ],
      "text/plain": [
       "         isic_id  fold  target  swin_base_patch4_window7_224\n",
       "10  ISIC_0051812   0.0       0                      0.008632\n",
       "18  ISIC_0052026   0.0       0                      0.129371\n",
       "30  ISIC_0052259   0.0       0                      0.058466\n",
       "32  ISIC_0052310   0.0       0                      0.008232\n",
       "33  ISIC_0052313   0.0       0                      0.007417"
      ]
     },
     "execution_count": 10,
     "metadata": {},
     "output_type": "execute_result"
    }
   ],
   "source": [
    "oof_pred_probs_df = pd.concat(oof_pred_probs_df)[['isic_id', 'fold', 'target', CFG.model_name]]\n",
    "oof_pred_probs_df.to_csv(f'{CFG.model_name}_oof_preds.csv', index=False)\n",
    "oof_pred_probs_df.head()"
   ]
  },
  {
   "cell_type": "markdown",
   "id": "54e75080",
   "metadata": {
    "papermill": {
     "duration": 13.2753,
     "end_time": "2024-08-30T19:27:25.433974",
     "exception": false,
     "start_time": "2024-08-30T19:27:12.158674",
     "status": "completed"
    },
    "tags": []
   },
   "source": [
    "# Results"
   ]
  },
  {
   "cell_type": "code",
   "execution_count": 11,
   "id": "d6a02962",
   "metadata": {
    "execution": {
     "iopub.execute_input": "2024-08-30T19:27:51.724785Z",
     "iopub.status.busy": "2024-08-30T19:27:51.724416Z",
     "iopub.status.idle": "2024-08-30T19:27:51.736289Z",
     "shell.execute_reply": "2024-08-30T19:27:51.735178Z"
    },
    "id": "Qkcd2V7W-_GW",
    "papermill": {
     "duration": 13.073889,
     "end_time": "2024-08-30T19:27:51.738891",
     "exception": false,
     "start_time": "2024-08-30T19:27:38.665002",
     "status": "completed"
    },
    "tags": []
   },
   "outputs": [],
   "source": [
    "histories = pd.concat([pd.DataFrame(data).assign(Fold=fold) for fold, data in histories.items()])"
   ]
  },
  {
   "cell_type": "code",
   "execution_count": 12,
   "id": "e7c5786d",
   "metadata": {
    "execution": {
     "iopub.execute_input": "2024-08-30T19:28:18.099260Z",
     "iopub.status.busy": "2024-08-30T19:28:18.098349Z",
     "iopub.status.idle": "2024-08-30T19:28:19.255536Z",
     "shell.execute_reply": "2024-08-30T19:28:19.254457Z"
    },
    "id": "lATwCeDXdsHG",
    "papermill": {
     "duration": 14.225155,
     "end_time": "2024-08-30T19:28:19.259332",
     "exception": false,
     "start_time": "2024-08-30T19:28:05.034177",
     "status": "completed"
    },
    "tags": []
   },
   "outputs": [
    {
     "data": {
      "image/png": "[encoded data removed]",
      "text/plain": [
       "<Figure size 1600x600 with 2 Axes>"
      ]
     },
     "metadata": {},
     "output_type": "display_data"
    }
   ],
   "source": [
    "sns.set(style=\"whitegrid\")\n",
    "\n",
    "fig, axes = plt.subplots(1, 2, figsize=(16, 6))\n",
    "\n",
    "sns.lineplot(x='epoch', y='train_pauc', hue='Fold', data=histories, ax=axes[0])\n",
    "axes[0].set_title('Training pAUC')\n",
    "axes[0].set_xlabel('Epoch')\n",
    "axes[0].set_ylabel('pAUC')\n",
    "axes[0].legend(loc='best')\n",
    "\n",
    "sns.lineplot(x='epoch', y='val_pauc', hue='Fold', data=histories, ax=axes[1])\n",
    "axes[1].set_title('Validation pAUC')\n",
    "axes[1].set_xlabel('Epoch')\n",
    "axes[1].set_ylabel('pAUC')\n",
    "axes[1].legend(loc='best')\n",
    "\n",
    "fig.tight_layout()\n",
    "plt.show()"
   ]
  },
  {
   "cell_type": "code",
   "execution_count": 13,
   "id": "1cdaa323",
   "metadata": {
    "execution": {
     "iopub.execute_input": "2024-08-30T19:28:45.319424Z",
     "iopub.status.busy": "2024-08-30T19:28:45.318695Z",
     "iopub.status.idle": "2024-08-30T19:28:46.372275Z",
     "shell.execute_reply": "2024-08-30T19:28:46.371287Z"
    },
    "id": "iCSgE4wX7NtK",
    "papermill": {
     "duration": 14.204429,
     "end_time": "2024-08-30T19:28:46.375490",
     "exception": false,
     "start_time": "2024-08-30T19:28:32.171061",
     "status": "completed"
    },
    "tags": []
   },
   "outputs": [
    {
     "data": {
      "image/png": "[encoded data removed]",
      "text/plain": [
       "<Figure size 1600x600 with 2 Axes>"
      ]
     },
     "metadata": {},
     "output_type": "display_data"
    }
   ],
   "source": [
    "fig, axes = plt.subplots(1, 2, figsize=(16, 6))\n",
    "\n",
    "sns.lineplot(x='epoch', y='train_loss', hue='Fold', data=histories, ax=axes[0])\n",
    "axes[0].set_title('Training Loss')\n",
    "axes[0].set_xlabel('Epoch')\n",
    "axes[0].set_ylabel('Loss')\n",
    "axes[0].legend(loc='best')\n",
    "\n",
    "sns.lineplot(x='epoch', y='val_loss', hue='Fold', data=histories, ax=axes[1])\n",
    "axes[1].set_title('Validation Loss')\n",
    "axes[1].set_xlabel('Epoch')\n",
    "axes[1].set_ylabel('Loss')\n",
    "axes[1].legend(loc='best')\n",
    "\n",
    "fig.tight_layout()\n",
    "plt.show()"
   ]
  }
 ],
 "metadata": {
  "accelerator": "GPU",
  "colab": {
   "gpuType": "L4",
   "provenance": []
  },
  "kaggle": {
   "accelerator": "gpu",
   "dataSources": [
    {
     "databundleVersionId": 9094797,
     "sourceId": 63056,
     "sourceType": "competition"
    }
   ],
   "dockerImageVersionId": 30747,
   "isGpuEnabled": true,
   "isInternetEnabled": true,
   "language": "python",
   "sourceType": "notebook"
  },
  "kernelspec": {
   "display_name": "Python 3",
   "language": "python",
   "name": "python3"
  },
  "language_info": {
   "codemirror_mode": {
    "name": "ipython",
    "version": 3
   },
   "file_extension": ".py",
   "mimetype": "text/x-python",
   "name": "python",
   "nbconvert_exporter": "python",
   "pygments_lexer": "ipython3",
   "version": "3.10.13"
  },
  "papermill": {
   "default_parameters": {},
   "duration": 28880.118516,
   "end_time": "2024-08-30T19:29:02.610304",
   "environment_variables": {},
   "exception": null,
   "input_path": "__notebook__.ipynb",
   "output_path": "__notebook__.ipynb",
   "parameters": {},
   "start_time": "2024-08-30T11:27:42.491788",
   "version": "2.5.0"
  },
  "widgets": {
   "application/vnd.jupyter.widget-state+json": {
    "state": {
     "0df4c1946e28496881ebd0c8ceb52ff9": {
      "model_module": "@jupyter-widgets/controls",
      "model_module_version": "1.5.0",
      "model_name": "FloatProgressModel",
      "state": {
       "_dom_classes": [],
       "_model_module": "@jupyter-widgets/controls",
       "_model_module_version": "1.5.0",
       "_model_name": "FloatProgressModel",
       "_view_count": null,
       "_view_module": "@jupyter-widgets/controls",
       "_view_module_version": "1.5.0",
       "_view_name": "ProgressView",
       "bar_style": "success",
       "description": "",
       "description_tooltip": null,
       "layout": "IPY_MODEL_c92ceed7d4744b44b3215490505ac704",
       "max": 352685652.0,
       "min": 0.0,
       "orientation": "horizontal",
       "style": "IPY_MODEL_cb47275700c34574b7e3fa98b7a2ad58",
       "value": 352685652.0
      }
     },
     "33ca1c7f00ff450f90c985d007e21a8e": {
      "model_module": "@jupyter-widgets/controls",
      "model_module_version": "1.5.0",
      "model_name": "DescriptionStyleModel",
      "state": {
       "_model_module": "@jupyter-widgets/controls",
       "_model_module_version": "1.5.0",
       "_model_name": "DescriptionStyleModel",
       "_view_count": null,
       "_view_module": "@jupyter-widgets/base",
       "_view_module_version": "1.2.0",
       "_view_name": "StyleView",
       "description_width": ""
      }
     },
     "475ffa24d6a947d19df6a44b1ac9c000": {
      "model_module": "@jupyter-widgets/base",
      "model_module_version": "1.2.0",
      "model_name": "LayoutModel",
      "state": {
       "_model_module": "@jupyter-widgets/base",
       "_model_module_version": "1.2.0",
       "_model_name": "LayoutModel",
       "_view_count": null,
       "_view_module": "@jupyter-widgets/base",
       "_view_module_version": "1.2.0",
       "_view_name": "LayoutView",
       "align_content": null,
       "align_items": null,
       "align_self": null,
       "border": null,
       "bottom": null,
       "display": null,
       "flex": null,
       "flex_flow": null,
       "grid_area": null,
       "grid_auto_columns": null,
       "grid_auto_flow": null,
       "grid_auto_rows": null,
       "grid_column": null,
       "grid_gap": null,
       "grid_row": null,
       "grid_template_areas": null,
       "grid_template_columns": null,
       "grid_template_rows": null,
       "height": null,
       "justify_content": null,
       "justify_items": null,
       "left": null,
       "margin": null,
       "max_height": null,
       "max_width": null,
       "min_height": null,
       "min_width": null,
       "object_fit": null,
       "object_position": null,
       "order": null,
       "overflow": null,
       "overflow_x": null,
       "overflow_y": null,
       "padding": null,
       "right": null,
       "top": null,
       "visibility": null,
       "width": null
      }
     },
     "566ea3f1b24e4fd3ace02262ecebd262": {
      "model_module": "@jupyter-widgets/base",
      "model_module_version": "1.2.0",
      "model_name": "LayoutModel",
      "state": {
       "_model_module": "@jupyter-widgets/base",
       "_model_module_version": "1.2.0",
       "_model_name": "LayoutModel",
       "_view_count": null,
       "_view_module": "@jupyter-widgets/base",
       "_view_module_version": "1.2.0",
       "_view_name": "LayoutView",
       "align_content": null,
       "align_items": null,
       "align_self": null,
       "border": null,
       "bottom": null,
       "display": null,
       "flex": null,
       "flex_flow": null,
       "grid_area": null,
       "grid_auto_columns": null,
       "grid_auto_flow": null,
       "grid_auto_rows": null,
       "grid_column": null,
       "grid_gap": null,
       "grid_row": null,
       "grid_template_areas": null,
       "grid_template_columns": null,
       "grid_template_rows": null,
       "height": null,
       "justify_content": null,
       "justify_items": null,
       "left": null,
       "margin": null,
       "max_height": null,
       "max_width": null,
       "min_height": null,
       "min_width": null,
       "object_fit": null,
       "object_position": null,
       "order": null,
       "overflow": null,
       "overflow_x": null,
       "overflow_y": null,
       "padding": null,
       "right": null,
       "top": null,
       "visibility": null,
       "width": null
      }
     },
     "743a5ee01af24d589c514f5ebeb25d90": {
      "model_module": "@jupyter-widgets/controls",
      "model_module_version": "1.5.0",
      "model_name": "HTMLModel",
      "state": {
       "_dom_classes": [],
       "_model_module": "@jupyter-widgets/controls",
       "_model_module_version": "1.5.0",
       "_model_name": "HTMLModel",
       "_view_count": null,
       "_view_module": "@jupyter-widgets/controls",
       "_view_module_version": "1.5.0",
       "_view_name": "HTMLView",
       "description": "",
       "description_tooltip": null,
       "layout": "IPY_MODEL_475ffa24d6a947d19df6a44b1ac9c000",
       "placeholder": "​",
       "style": "IPY_MODEL_f4167529d0e04843b044c49e267dd0f1",
       "value": "model.safetensors: 100%"
      }
     },
     "81dc1ed12eb04526bcf1bd9fd1676432": {
      "model_module": "@jupyter-widgets/controls",
      "model_module_version": "1.5.0",
      "model_name": "HTMLModel",
      "state": {
       "_dom_classes": [],
       "_model_module": "@jupyter-widgets/controls",
       "_model_module_version": "1.5.0",
       "_model_name": "HTMLModel",
       "_view_count": null,
       "_view_module": "@jupyter-widgets/controls",
       "_view_module_version": "1.5.0",
       "_view_name": "HTMLView",
       "description": "",
       "description_tooltip": null,
       "layout": "IPY_MODEL_a649084226594841b796ee70422286c1",
       "placeholder": "​",
       "style": "IPY_MODEL_33ca1c7f00ff450f90c985d007e21a8e",
       "value": " 353M/353M [00:01&lt;00:00, 215MB/s]"
      }
     },
     "a649084226594841b796ee70422286c1": {
      "model_module": "@jupyter-widgets/base",
      "model_module_version": "1.2.0",
      "model_name": "LayoutModel",
      "state": {
       "_model_module": "@jupyter-widgets/base",
       "_model_module_version": "1.2.0",
       "_model_name": "LayoutModel",
       "_view_count": null,
       "_view_module": "@jupyter-widgets/base",
       "_view_module_version": "1.2.0",
       "_view_name": "LayoutView",
       "align_content": null,
       "align_items": null,
       "align_self": null,
       "border": null,
       "bottom": null,
       "display": null,
       "flex": null,
       "flex_flow": null,
       "grid_area": null,
       "grid_auto_columns": null,
       "grid_auto_flow": null,
       "grid_auto_rows": null,
       "grid_column": null,
       "grid_gap": null,
       "grid_row": null,
       "grid_template_areas": null,
       "grid_template_columns": null,
       "grid_template_rows": null,
       "height": null,
       "justify_content": null,
       "justify_items": null,
       "left": null,
       "margin": null,
       "max_height": null,
       "max_width": null,
       "min_height": null,
       "min_width": null,
       "object_fit": null,
       "object_position": null,
       "order": null,
       "overflow": null,
       "overflow_x": null,
       "overflow_y": null,
       "padding": null,
       "right": null,
       "top": null,
       "visibility": null,
       "width": null
      }
     },
     "c92ceed7d4744b44b3215490505ac704": {
      "model_module": "@jupyter-widgets/base",
      "model_module_version": "1.2.0",
      "model_name": "LayoutModel",
      "state": {
       "_model_module": "@jupyter-widgets/base",
       "_model_module_version": "1.2.0",
       "_model_name": "LayoutModel",
       "_view_count": null,
       "_view_module": "@jupyter-widgets/base",
       "_view_module_version": "1.2.0",
       "_view_name": "LayoutView",
       "align_content": null,
       "align_items": null,
       "align_self": null,
       "border": null,
       "bottom": null,
       "display": null,
       "flex": null,
       "flex_flow": null,
       "grid_area": null,
       "grid_auto_columns": null,
       "grid_auto_flow": null,
       "grid_auto_rows": null,
       "grid_column": null,
       "grid_gap": null,
       "grid_row": null,
       "grid_template_areas": null,
       "grid_template_columns": null,
       "grid_template_rows": null,
       "height": null,
       "justify_content": null,
       "justify_items": null,
       "left": null,
       "margin": null,
       "max_height": null,
       "max_width": null,
       "min_height": null,
       "min_width": null,
       "object_fit": null,
       "object_position": null,
       "order": null,
       "overflow": null,
       "overflow_x": null,
       "overflow_y": null,
       "padding": null,
       "right": null,
       "top": null,
       "visibility": null,
       "width": null
      }
     },
     "cb47275700c34574b7e3fa98b7a2ad58": {
      "model_module": "@jupyter-widgets/controls",
      "model_module_version": "1.5.0",
      "model_name": "ProgressStyleModel",
      "state": {
       "_model_module": "@jupyter-widgets/controls",
       "_model_module_version": "1.5.0",
       "_model_name": "ProgressStyleModel",
       "_view_count": null,
       "_view_module": "@jupyter-widgets/base",
       "_view_module_version": "1.2.0",
       "_view_name": "StyleView",
       "bar_color": null,
       "description_width": ""
      }
     },
     "eff4108843104416b08f6a29670cf2bd": {
      "model_module": "@jupyter-widgets/controls",
      "model_module_version": "1.5.0",
      "model_name": "HBoxModel",
      "state": {
       "_dom_classes": [],
       "_model_module": "@jupyter-widgets/controls",
       "_model_module_version": "1.5.0",
       "_model_name": "HBoxModel",
       "_view_count": null,
       "_view_module": "@jupyter-widgets/controls",
       "_view_module_version": "1.5.0",
       "_view_name": "HBoxView",
       "box_style": "",
       "children": [
        "IPY_MODEL_743a5ee01af24d589c514f5ebeb25d90",
        "IPY_MODEL_0df4c1946e28496881ebd0c8ceb52ff9",
        "IPY_MODEL_81dc1ed12eb04526bcf1bd9fd1676432"
       ],
       "layout": "IPY_MODEL_566ea3f1b24e4fd3ace02262ecebd262"
      }
     },
     "f4167529d0e04843b044c49e267dd0f1": {
      "model_module": "@jupyter-widgets/controls",
      "model_module_version": "1.5.0",
      "model_name": "DescriptionStyleModel",
      "state": {
       "_model_module": "@jupyter-widgets/controls",
       "_model_module_version": "1.5.0",
       "_model_name": "DescriptionStyleModel",
       "_view_count": null,
       "_view_module": "@jupyter-widgets/base",
       "_view_module_version": "1.2.0",
       "_view_name": "StyleView",
       "description_width": ""
      }
     }
    },
    "version_major": 2,
    "version_minor": 0
   }
  }
 },
 "nbformat": 4,
 "nbformat_minor": 5
}
