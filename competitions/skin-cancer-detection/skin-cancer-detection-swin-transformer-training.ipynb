{
 "cells": [
  {
   "cell_type": "markdown",
   "id": "f54fba87",
   "metadata": {
    "id": "1dDypZ7k-v-d",
    "papermill": {
     "duration": 0.006055,
     "end_time": "2024-08-17T17:07:15.436781",
     "exception": false,
     "start_time": "2024-08-17T17:07:15.430726",
     "status": "completed"
    },
    "tags": []
   },
   "source": [
    "# Imports and configs"
   ]
  },
  {
   "cell_type": "code",
   "execution_count": 1,
   "id": "df223a5f",
   "metadata": {
    "execution": {
     "iopub.execute_input": "2024-08-17T17:07:15.450228Z",
     "iopub.status.busy": "2024-08-17T17:07:15.449315Z",
     "iopub.status.idle": "2024-08-17T17:07:24.161635Z",
     "shell.execute_reply": "2024-08-17T17:07:24.160612Z"
    },
    "id": "mqguadtYvxPn",
    "papermill": {
     "duration": 8.721642,
     "end_time": "2024-08-17T17:07:24.164141",
     "exception": false,
     "start_time": "2024-08-17T17:07:15.442499",
     "status": "completed"
    },
    "tags": []
   },
   "outputs": [],
   "source": [
    "from sklearn.model_selection import StratifiedGroupKFold\n",
    "from sklearn.metrics import roc_curve, auc\n",
    "from torch.utils.data import DataLoader, Dataset\n",
    "from albumentations.pytorch import ToTensorV2\n",
    "import matplotlib.pyplot as plt\n",
    "import torch.optim as optim\n",
    "import torch.nn.functional as F\n",
    "import albumentations as A\n",
    "import seaborn as sns\n",
    "from tqdm import tqdm\n",
    "from PIL import Image\n",
    "import torch.nn as nn\n",
    "import pandas as pd\n",
    "import numpy as np\n",
    "import warnings\n",
    "import h5py\n",
    "import torch\n",
    "import random\n",
    "import timm\n",
    "import cv2\n",
    "import io\n",
    "import os\n",
    "import gc\n",
    "\n",
    "warnings.filterwarnings('ignore')"
   ]
  },
  {
   "cell_type": "code",
   "execution_count": 2,
   "id": "b32c62c1",
   "metadata": {
    "execution": {
     "iopub.execute_input": "2024-08-17T17:07:24.177804Z",
     "iopub.status.busy": "2024-08-17T17:07:24.176938Z",
     "iopub.status.idle": "2024-08-17T17:07:24.236901Z",
     "shell.execute_reply": "2024-08-17T17:07:24.235868Z"
    },
    "id": "xOBgLd7--v-h",
    "papermill": {
     "duration": 0.069048,
     "end_time": "2024-08-17T17:07:24.238989",
     "exception": false,
     "start_time": "2024-08-17T17:07:24.169941",
     "status": "completed"
    },
    "tags": []
   },
   "outputs": [],
   "source": [
    "class CFG:\n",
    "    train_metadata_path = '/kaggle/input/isic-2024-challenge/train-metadata.csv'\n",
    "    test_metadata_path = '/kaggle/input/isic-2024-challenge/test-metadata.csv'\n",
    "    train_img_path = '/kaggle/input/isic-2024-challenge/train-image.hdf5'\n",
    "    test_img_path = '/kaggle/input/isic-2024-challenge/test-image.hdf5'\n",
    "    sample_sub_path = '/kaggle/input/isic-2024-challenge/sample_submission.csv'\n",
    "    checkpoint_path = '/kaggle/working/checkpoints'\n",
    "\n",
    "    device = torch.device('cuda' if torch.cuda.is_available() else 'cpu')\n",
    "    max_epochs = 50\n",
    "    learning_rate = 1e-5\n",
    "    train_batch_size = 32\n",
    "    val_batch_size = 64\n",
    "    n_folds = 5\n",
    "    seed = 35555\n",
    "    model_name = \"swin_base_patch4_window7_224\"\n",
    "    es_patience = 10"
   ]
  },
  {
   "cell_type": "code",
   "execution_count": 3,
   "id": "53891a3d",
   "metadata": {
    "execution": {
     "iopub.execute_input": "2024-08-17T17:07:24.253255Z",
     "iopub.status.busy": "2024-08-17T17:07:24.252413Z",
     "iopub.status.idle": "2024-08-17T17:07:24.262230Z",
     "shell.execute_reply": "2024-08-17T17:07:24.261377Z"
    },
    "id": "5a6g1bxI-v-i",
    "papermill": {
     "duration": 0.019351,
     "end_time": "2024-08-17T17:07:24.264399",
     "exception": false,
     "start_time": "2024-08-17T17:07:24.245048",
     "status": "completed"
    },
    "tags": []
   },
   "outputs": [],
   "source": [
    "def seed_everything(seed):\n",
    "    random.seed(seed)\n",
    "    os.environ['PYTHONHASHSEED'] = str(seed)\n",
    "    np.random.seed(seed)\n",
    "    torch.manual_seed(seed)\n",
    "    torch.cuda.manual_seed(seed)\n",
    "    torch.backends.cudnn.deterministic = True\n",
    "    torch.backends.cudnn.benchmark = False\n",
    "\n",
    "seed_everything(CFG.seed)"
   ]
  },
  {
   "cell_type": "markdown",
   "id": "5e0d6654",
   "metadata": {
    "id": "vM_js2t2-v-i",
    "papermill": {
     "duration": 0.005912,
     "end_time": "2024-08-17T17:07:24.276762",
     "exception": false,
     "start_time": "2024-08-17T17:07:24.270850",
     "status": "completed"
    },
    "tags": []
   },
   "source": [
    "# Loading and splitting the datasets"
   ]
  },
  {
   "cell_type": "code",
   "execution_count": 4,
   "id": "4db7ae37",
   "metadata": {
    "execution": {
     "iopub.execute_input": "2024-08-17T17:07:24.290681Z",
     "iopub.status.busy": "2024-08-17T17:07:24.289927Z",
     "iopub.status.idle": "2024-08-17T17:07:33.554634Z",
     "shell.execute_reply": "2024-08-17T17:07:33.553636Z"
    },
    "id": "X7yXnRQG-v-i",
    "papermill": {
     "duration": 9.274182,
     "end_time": "2024-08-17T17:07:33.557116",
     "exception": false,
     "start_time": "2024-08-17T17:07:24.282934",
     "status": "completed"
    },
    "tags": []
   },
   "outputs": [],
   "source": [
    "train_metadata = pd.read_csv(CFG.train_metadata_path)\n",
    "\n",
    "positives = train_metadata[train_metadata.target == 1]\n",
    "negatives = train_metadata[train_metadata.target == 0]\n",
    "train_metadata = pd.concat([positives, negatives.sample(n=20 * len(positives), random_state=CFG.seed)])\n",
    "train_metadata = train_metadata.sample(frac=1, random_state=CFG.seed).reset_index(drop=True)"
   ]
  },
  {
   "cell_type": "code",
   "execution_count": 5,
   "id": "1c3ef2ee",
   "metadata": {
    "execution": {
     "iopub.execute_input": "2024-08-17T17:07:33.570713Z",
     "iopub.status.busy": "2024-08-17T17:07:33.570379Z",
     "iopub.status.idle": "2024-08-17T17:07:34.060900Z",
     "shell.execute_reply": "2024-08-17T17:07:34.060114Z"
    },
    "id": "BhUgevhz-v-i",
    "papermill": {
     "duration": 0.499967,
     "end_time": "2024-08-17T17:07:34.063236",
     "exception": false,
     "start_time": "2024-08-17T17:07:33.563269",
     "status": "completed"
    },
    "tags": []
   },
   "outputs": [],
   "source": [
    "sgkf = StratifiedGroupKFold(n_splits=CFG.n_folds, random_state=CFG.seed, shuffle=True)\n",
    "split = sgkf.split(train_metadata, train_metadata.target, groups=train_metadata.patient_id)\n",
    "for i, (_, val_index) in enumerate(split):\n",
    "    train_metadata.loc[val_index, 'fold'] = i"
   ]
  },
  {
   "cell_type": "code",
   "execution_count": 6,
   "id": "e96a0ab8",
   "metadata": {
    "execution": {
     "iopub.execute_input": "2024-08-17T17:07:34.077011Z",
     "iopub.status.busy": "2024-08-17T17:07:34.076358Z",
     "iopub.status.idle": "2024-08-17T17:07:41.241434Z",
     "shell.execute_reply": "2024-08-17T17:07:41.240555Z"
    },
    "id": "IF-0HJKr5Ub-",
    "papermill": {
     "duration": 7.174848,
     "end_time": "2024-08-17T17:07:41.244113",
     "exception": false,
     "start_time": "2024-08-17T17:07:34.069265",
     "status": "completed"
    },
    "tags": []
   },
   "outputs": [],
   "source": [
    "train_metadata2 = pd.read_csv(CFG.train_metadata_path)\n",
    "\n",
    "sgkf = StratifiedGroupKFold(n_splits=CFG.n_folds, random_state=CFG.seed, shuffle=True)\n",
    "split = sgkf.split(train_metadata2, train_metadata2.target, groups=train_metadata2.patient_id)\n",
    "for i, (_, val_index) in enumerate(split):\n",
    "    train_metadata2.loc[val_index, 'fold'] = i"
   ]
  },
  {
   "cell_type": "markdown",
   "id": "5a447739",
   "metadata": {
    "id": "D6JNsMWX-v-i",
    "papermill": {
     "duration": 0.006253,
     "end_time": "2024-08-17T17:07:41.256948",
     "exception": false,
     "start_time": "2024-08-17T17:07:41.250695",
     "status": "completed"
    },
    "tags": []
   },
   "source": [
    "# Creating a custom image dataset"
   ]
  },
  {
   "cell_type": "code",
   "execution_count": 7,
   "id": "19f6b00a",
   "metadata": {
    "execution": {
     "iopub.execute_input": "2024-08-17T17:07:41.271158Z",
     "iopub.status.busy": "2024-08-17T17:07:41.270371Z",
     "iopub.status.idle": "2024-08-17T17:07:41.278695Z",
     "shell.execute_reply": "2024-08-17T17:07:41.277817Z"
    },
    "id": "DxAgokRgvxPr",
    "papermill": {
     "duration": 0.017514,
     "end_time": "2024-08-17T17:07:41.280699",
     "exception": false,
     "start_time": "2024-08-17T17:07:41.263185",
     "status": "completed"
    },
    "tags": []
   },
   "outputs": [],
   "source": [
    "class ISICDataset(Dataset):\n",
    "    def __init__(self, data_path, metadata, transform=None):\n",
    "        self.data = h5py.File(data_path, 'r')\n",
    "        self.metadata = metadata\n",
    "        self.transform = transform\n",
    "\n",
    "    def __len__(self):\n",
    "        return len(self.metadata)\n",
    "\n",
    "    def __getitem__(self, idx):\n",
    "        img_name = self.metadata.iloc[idx]['isic_id']\n",
    "        image = np.array(self.data[img_name])\n",
    "        image = np.array(Image.open(io.BytesIO(image)), dtype=np.float32)\n",
    "        image = cv2.cvtColor(image, cv2.COLOR_BGR2RGB)\n",
    "\n",
    "        if self.transform:\n",
    "            augmented = self.transform(image=image)\n",
    "            image = augmented['image']\n",
    "\n",
    "        if 'target' in self.metadata.columns:\n",
    "            label = int(self.metadata['target'].iloc[idx])\n",
    "            return image, label\n",
    "        else:\n",
    "            return image, 0"
   ]
  },
  {
   "cell_type": "code",
   "execution_count": 8,
   "id": "22011f09",
   "metadata": {
    "execution": {
     "iopub.execute_input": "2024-08-17T17:07:41.294439Z",
     "iopub.status.busy": "2024-08-17T17:07:41.294064Z",
     "iopub.status.idle": "2024-08-17T17:07:41.304409Z",
     "shell.execute_reply": "2024-08-17T17:07:41.303471Z"
    },
    "id": "6tUJogKp-v-j",
    "papermill": {
     "duration": 0.019217,
     "end_time": "2024-08-17T17:07:41.306345",
     "exception": false,
     "start_time": "2024-08-17T17:07:41.287128",
     "status": "completed"
    },
    "tags": []
   },
   "outputs": [],
   "source": [
    "# Reference: https://www.kaggle.com/code/qiaoyingzhang/isic-2024-pytorch-training-baseline-swin#Data-Augmentation-&-Helper-Functions\n",
    "\n",
    "transforms = {\n",
    "    'train': A.Compose([\n",
    "        A.RandomRotate90(p=0.5),\n",
    "        A.Flip(p=0.5),\n",
    "        A.Transpose(p=0.5),\n",
    "        A.ShiftScaleRotate(shift_limit=0.1, scale_limit=0.1, rotate_limit=45, p=0.5),\n",
    "        A.OneOf([\n",
    "            A.HueSaturationValue(p=0.5),\n",
    "            A.RandomBrightnessContrast(p=0.5),\n",
    "        ], p=0.5),\n",
    "        A.OneOf([\n",
    "            A.GaussNoise(p=0.5),\n",
    "            A.GaussianBlur(p=0.5),\n",
    "            A.MotionBlur(p=0.5),\n",
    "        ], p=0.5),\n",
    "        A.Resize(224, 224),\n",
    "        A.Normalize(\n",
    "            mean=[0.4815, 0.4578, 0.4082], \n",
    "            std=[0.2686, 0.2613, 0.2758], \n",
    "            max_pixel_value=255.0),\n",
    "        ToTensorV2(),\n",
    "    ]),\n",
    "    \n",
    "    'val': A.Compose([\n",
    "        A.Resize(224, 224),\n",
    "        A.Normalize(\n",
    "            mean=[0.4815, 0.4578, 0.4082], \n",
    "            std=[0.2686, 0.2613, 0.2758], \n",
    "            max_pixel_value=255.0),\n",
    "        ToTensorV2(),\n",
    "    ])\n",
    "}"
   ]
  },
  {
   "cell_type": "markdown",
   "id": "0fc4ca29",
   "metadata": {
    "id": "QSzebgg8-v-j",
    "papermill": {
     "duration": 0.006065,
     "end_time": "2024-08-17T17:07:41.318777",
     "exception": false,
     "start_time": "2024-08-17T17:07:41.312712",
     "status": "completed"
    },
    "tags": []
   },
   "source": [
    "# Customizing the image model"
   ]
  },
  {
   "cell_type": "code",
   "execution_count": 9,
   "id": "8809fe90",
   "metadata": {
    "execution": {
     "iopub.execute_input": "2024-08-17T17:07:41.339689Z",
     "iopub.status.busy": "2024-08-17T17:07:41.339202Z",
     "iopub.status.idle": "2024-08-17T17:07:41.347623Z",
     "shell.execute_reply": "2024-08-17T17:07:41.346140Z"
    },
    "id": "uhUwzYAHRelB",
    "papermill": {
     "duration": 0.022316,
     "end_time": "2024-08-17T17:07:41.350218",
     "exception": false,
     "start_time": "2024-08-17T17:07:41.327902",
     "status": "completed"
    },
    "tags": []
   },
   "outputs": [],
   "source": [
    "class SwinTransformer(nn.Module):\n",
    "    def __init__(self, model_name, num_classes=2, pretrained=True):\n",
    "        super(SwinTransformer, self).__init__()\n",
    "        self.model = timm.create_model(model_name, pretrained=pretrained, in_chans=3)\n",
    "        self.model.head = nn.Sequential(\n",
    "            nn.Flatten(),\n",
    "            nn.Linear(self.model.num_features * 7 * 7, num_classes)\n",
    "        )\n",
    "\n",
    "    def forward(self, x):\n",
    "        return self.model(x)"
   ]
  },
  {
   "cell_type": "markdown",
   "id": "609da46e",
   "metadata": {
    "id": "NbENY6cl-v-j",
    "papermill": {
     "duration": 0.00815,
     "end_time": "2024-08-17T17:07:41.368472",
     "exception": false,
     "start_time": "2024-08-17T17:07:41.360322",
     "status": "completed"
    },
    "tags": []
   },
   "source": [
    "# Creating a trainer class"
   ]
  },
  {
   "cell_type": "code",
   "execution_count": 10,
   "id": "8a266c1f",
   "metadata": {
    "execution": {
     "iopub.execute_input": "2024-08-17T17:07:41.385921Z",
     "iopub.status.busy": "2024-08-17T17:07:41.385464Z",
     "iopub.status.idle": "2024-08-17T17:07:41.421238Z",
     "shell.execute_reply": "2024-08-17T17:07:41.420361Z"
    },
    "id": "yWUV5TeWvxPs",
    "papermill": {
     "duration": 0.048811,
     "end_time": "2024-08-17T17:07:41.423808",
     "exception": false,
     "start_time": "2024-08-17T17:07:41.374997",
     "status": "completed"
    },
    "tags": []
   },
   "outputs": [],
   "source": [
    "class Trainer:\n",
    "    def __init__(\n",
    "        self,\n",
    "        device,\n",
    "        model,\n",
    "        criterion,\n",
    "        optimizer,\n",
    "        scheduler,\n",
    "        train_dataloader,\n",
    "        val_dataloader,\n",
    "        checkpoint_path,\n",
    "        fold_idx,\n",
    "        es_patience\n",
    "    ):\n",
    "        self.device = device\n",
    "        self.model = model\n",
    "        self.criterion = criterion\n",
    "        self.optimizer = optimizer\n",
    "        self.scheduler = scheduler\n",
    "        self.train_dataloader = train_dataloader\n",
    "        self.val_dataloader = val_dataloader\n",
    "        self.checkpoint_path = checkpoint_path\n",
    "        self.best_pauc = 0.0\n",
    "        self.best_model_path = None\n",
    "        self.fold_idx = fold_idx\n",
    "        self.es_patience = es_patience\n",
    "        self.create_checkpoint_path()\n",
    "\n",
    "    def create_checkpoint_path(self):\n",
    "        if not os.path.exists(self.checkpoint_path):\n",
    "            os.makedirs(self.checkpoint_path)\n",
    "\n",
    "    @staticmethod\n",
    "    def p_roc_auc_score(y_true, y_preds, min_tpr: float = 0.80):\n",
    "        v_gt = abs(np.asarray(y_true)-1)\n",
    "        v_pred = -1.0 * np.asarray(y_preds)\n",
    "        max_fpr = abs(1-min_tpr)\n",
    "        fpr, tpr, _ = roc_curve(v_gt, v_pred, sample_weight=None)\n",
    "        if max_fpr is None or max_fpr == 1:\n",
    "            return auc(fpr, tpr)\n",
    "        if max_fpr <= 0 or max_fpr > 1:\n",
    "            raise ValueError(\"Expected min_tpr in range [0, 1), got: %r\" % min_tpr)\n",
    "        stop = np.searchsorted(fpr, max_fpr, \"right\")\n",
    "        x_interp = [fpr[stop - 1], fpr[stop]]\n",
    "        y_interp = [tpr[stop - 1], tpr[stop]]\n",
    "        tpr = np.append(tpr[:stop], np.interp(max_fpr, x_interp, y_interp))\n",
    "        fpr = np.append(fpr[:stop], max_fpr)\n",
    "        partial_auc = auc(fpr, tpr)\n",
    "        return partial_auc\n",
    "\n",
    "    def train(self, current_epoch_nr):\n",
    "        self.model.train()\n",
    "\n",
    "        num_batches = len(self.train_dataloader)\n",
    "\n",
    "        running_loss = 0.0\n",
    "        total = 0\n",
    "\n",
    "        preds = []\n",
    "        targets = []\n",
    "\n",
    "        loop = tqdm(self.train_dataloader, total=num_batches)\n",
    "        for batch in loop:\n",
    "            x, y = batch\n",
    "            x, y = x.to(self.device), y.to(self.device)\n",
    "\n",
    "            self.optimizer.zero_grad()\n",
    "\n",
    "            y_hat = self.model(x)\n",
    "            pred_probs = F.softmax(y_hat, dim=1)\n",
    "\n",
    "            preds.extend(pred_probs[:, 1].detach().cpu().numpy())\n",
    "            targets.extend(y.detach().cpu().numpy())\n",
    "\n",
    "            loss = self.criterion(y_hat, y)\n",
    "            loss.backward()\n",
    "            self.optimizer.step()\n",
    "\n",
    "            running_loss += loss.item() * x.size(0)\n",
    "            total += y.size(0)\n",
    "\n",
    "            loop.set_description(f'Epoch {current_epoch_nr}')\n",
    "            loop.set_postfix(train_loss=round(running_loss / total, 6))\n",
    "\n",
    "            if self.scheduler is not None:\n",
    "                self.scheduler.step()\n",
    "\n",
    "        train_pauc = self.p_roc_auc_score(targets, preds)\n",
    "        train_loss = running_loss / num_batches\n",
    "\n",
    "        return train_pauc, train_loss\n",
    "\n",
    "    def evaluate(self, current_epoch_nr):\n",
    "        self.model.eval()\n",
    "\n",
    "        num_batches = len(self.val_dataloader)\n",
    "\n",
    "        running_loss = 0.0\n",
    "        total = 0\n",
    "\n",
    "        preds = []\n",
    "        targets = []\n",
    "\n",
    "        with torch.no_grad():\n",
    "            loop = tqdm(self.val_dataloader, total=num_batches)\n",
    "            for batch in loop:\n",
    "                x, y = batch\n",
    "                x, y = x.to(self.device), y.to(self.device)\n",
    "\n",
    "                self.optimizer.zero_grad()\n",
    "\n",
    "                y_hat = self.model(x)\n",
    "                pred_probs = F.softmax(y_hat, dim=1)\n",
    "\n",
    "                preds.extend(pred_probs[:, 1].detach().cpu().numpy())\n",
    "                targets.extend(y.detach().cpu().numpy())\n",
    "\n",
    "                loss = self.criterion(y_hat, y)\n",
    "                running_loss += loss.item() * x.size(0)\n",
    "                total += y.size(0)\n",
    "\n",
    "                loop.set_description(f'Epoch {current_epoch_nr}')\n",
    "                loop.set_postfix(val_loss=round(running_loss / total, 6))\n",
    "\n",
    "        val_pauc = self.p_roc_auc_score(targets, preds)\n",
    "        val_loss = running_loss / num_batches\n",
    "\n",
    "        if val_pauc > self.best_pauc:\n",
    "            self.es_patience = CFG.es_patience\n",
    "            if self.best_pauc != 0.0:\n",
    "                print(f'New best model found: pAUC = {val_pauc:.6f} (previous best: {self.best_pauc:.6f})')\n",
    "            self.best_pauc = val_pauc\n",
    "            checkpoint_name = f'fold_{self.fold_idx}_epoch_{current_epoch_nr}_pauc_{round(val_pauc, 6)}.pth'\n",
    "\n",
    "            for file in os.listdir(self.checkpoint_path):\n",
    "                if file.startswith(f'fold_{self.fold_idx}_epoch_'):\n",
    "                    os.remove(os.path.join(self.checkpoint_path, file))\n",
    "\n",
    "            torch.save(\n",
    "                self.model.state_dict(),\n",
    "                os.path.join(self.checkpoint_path, checkpoint_name)\n",
    "            )\n",
    "            self.best_model_path = os.path.join(\n",
    "                self.checkpoint_path, checkpoint_name)\n",
    "\n",
    "        else:\n",
    "            self.es_patience -= 1\n",
    "            if self.es_patience == 0:\n",
    "                print(f'Early stopping triggered at epoch {current_epoch_nr}. Best pAUC = {self.best_pauc:.6f}')\n",
    "                return val_pauc, val_loss, True\n",
    "\n",
    "        return val_pauc, val_loss, False\n",
    "\n",
    "    def predict(self, dataloader):\n",
    "        model = self.model.to(self.device)\n",
    "        model.load_state_dict(torch.load(self.best_model_path))\n",
    "        model.eval()\n",
    "\n",
    "        preds = []\n",
    "        with torch.no_grad():\n",
    "            loop = tqdm(dataloader, total=len(dataloader))\n",
    "            for batch in loop:\n",
    "                x, _ = batch\n",
    "                x = x.to(self.device)\n",
    "                y_hat = model(x)\n",
    "                pred_probs = F.softmax(y_hat, dim=1)\n",
    "                preds.extend(pred_probs.detach().cpu().numpy())\n",
    "                loop.set_description(f'Prediction')\n",
    "\n",
    "        return preds"
   ]
  },
  {
   "cell_type": "markdown",
   "id": "429389ae",
   "metadata": {
    "id": "uE7oYGyR-v-j",
    "papermill": {
     "duration": 0.006072,
     "end_time": "2024-08-17T17:07:41.436510",
     "exception": false,
     "start_time": "2024-08-17T17:07:41.430438",
     "status": "completed"
    },
    "tags": []
   },
   "source": [
    "# Training and cross-validation"
   ]
  },
  {
   "cell_type": "code",
   "execution_count": 11,
   "id": "70306970",
   "metadata": {
    "_kg_hide-output": true,
    "execution": {
     "iopub.execute_input": "2024-08-17T17:07:41.451704Z",
     "iopub.status.busy": "2024-08-17T17:07:41.450860Z",
     "iopub.status.idle": "2024-08-17T23:09:30.487416Z",
     "shell.execute_reply": "2024-08-17T23:09:30.486434Z"
    },
    "id": "z6ry0OmfyEmZ",
    "outputId": "be79b77b-0941-4759-b0c8-635e6c72b19e",
    "papermill": {
     "duration": 21709.046447,
     "end_time": "2024-08-17T23:09:30.489594",
     "exception": false,
     "start_time": "2024-08-17T17:07:41.443147",
     "status": "completed"
    },
    "tags": []
   },
   "outputs": [
    {
     "name": "stdout",
     "output_type": "stream",
     "text": [
      "---------------------------------- Fold 1 ----------------------------------\n"
     ]
    },
    {
     "data": {
      "application/vnd.jupyter.widget-view+json": {
       "model_id": "ba11064a3fa845e7a24744443733567e",
       "version_major": 2,
       "version_minor": 0
      },
      "text/plain": [
       "model.safetensors:   0%|          | 0.00/353M [00:00<?, ?B/s]"
      ]
     },
     "metadata": {},
     "output_type": "display_data"
    },
    {
     "name": "stderr",
     "output_type": "stream",
     "text": [
      "Epoch 1: 100%|██████████| 209/209 [02:14<00:00,  1.56it/s, train_loss=0.196]\n",
      "Epoch 1: 100%|██████████| 25/25 [00:11<00:00,  2.17it/s, val_loss=0.13]\n"
     ]
    },
    {
     "name": "stdout",
     "output_type": "stream",
     "text": [
      "Epoch 1: Train pAUC: 0.040930 - Val pAUC: 0.098290 | Train Loss: 6.257861 - Val Loss: 8.256366\n",
      "\n"
     ]
    },
    {
     "name": "stderr",
     "output_type": "stream",
     "text": [
      "Epoch 2: 100%|██████████| 209/209 [02:12<00:00,  1.58it/s, train_loss=0.178]\n",
      "Epoch 2: 100%|██████████| 25/25 [00:11<00:00,  2.24it/s, val_loss=0.141]\n"
     ]
    },
    {
     "name": "stdout",
     "output_type": "stream",
     "text": [
      "New best model found: pAUC = 0.117972 (previous best: 0.098290)\n",
      "Epoch 2: Train pAUC: 0.058611 - Val pAUC: 0.117972 | Train Loss: 5.673096 - Val Loss: 8.973595\n",
      "\n"
     ]
    },
    {
     "name": "stderr",
     "output_type": "stream",
     "text": [
      "Epoch 3: 100%|██████████| 209/209 [02:12<00:00,  1.58it/s, train_loss=0.174]\n",
      "Epoch 3: 100%|██████████| 25/25 [00:11<00:00,  2.24it/s, val_loss=0.148]\n"
     ]
    },
    {
     "name": "stdout",
     "output_type": "stream",
     "text": [
      "Epoch 3: Train pAUC: 0.064494 - Val pAUC: 0.116096 | Train Loss: 5.547453 - Val Loss: 9.391682\n",
      "\n"
     ]
    },
    {
     "name": "stderr",
     "output_type": "stream",
     "text": [
      "Epoch 4: 100%|██████████| 209/209 [02:12<00:00,  1.58it/s, train_loss=0.169]\n",
      "Epoch 4: 100%|██████████| 25/25 [00:11<00:00,  2.23it/s, val_loss=0.139]\n"
     ]
    },
    {
     "name": "stdout",
     "output_type": "stream",
     "text": [
      "New best model found: pAUC = 0.126810 (previous best: 0.117972)\n",
      "Epoch 4: Train pAUC: 0.072888 - Val pAUC: 0.126810 | Train Loss: 5.381975 - Val Loss: 8.823573\n",
      "\n"
     ]
    },
    {
     "name": "stderr",
     "output_type": "stream",
     "text": [
      "Epoch 5: 100%|██████████| 209/209 [02:12<00:00,  1.58it/s, train_loss=0.17]\n",
      "Epoch 5: 100%|██████████| 25/25 [00:11<00:00,  2.23it/s, val_loss=0.116]\n"
     ]
    },
    {
     "name": "stdout",
     "output_type": "stream",
     "text": [
      "New best model found: pAUC = 0.139148 (previous best: 0.126810)\n",
      "Epoch 5: Train pAUC: 0.070829 - Val pAUC: 0.139148 | Train Loss: 5.424368 - Val Loss: 7.380934\n",
      "\n"
     ]
    },
    {
     "name": "stderr",
     "output_type": "stream",
     "text": [
      "Epoch 6: 100%|██████████| 209/209 [02:12<00:00,  1.58it/s, train_loss=0.158]\n",
      "Epoch 6: 100%|██████████| 25/25 [00:11<00:00,  2.23it/s, val_loss=0.124]\n"
     ]
    },
    {
     "name": "stdout",
     "output_type": "stream",
     "text": [
      "Epoch 6: Train pAUC: 0.075243 - Val pAUC: 0.130694 | Train Loss: 5.034362 - Val Loss: 7.854873\n",
      "\n"
     ]
    },
    {
     "name": "stderr",
     "output_type": "stream",
     "text": [
      "Epoch 7: 100%|██████████| 209/209 [02:12<00:00,  1.58it/s, train_loss=0.162]\n",
      "Epoch 7: 100%|██████████| 25/25 [00:11<00:00,  2.23it/s, val_loss=0.124]\n"
     ]
    },
    {
     "name": "stdout",
     "output_type": "stream",
     "text": [
      "New best model found: pAUC = 0.140136 (previous best: 0.139148)\n",
      "Epoch 7: Train pAUC: 0.072768 - Val pAUC: 0.140136 | Train Loss: 5.166187 - Val Loss: 7.884091\n",
      "\n"
     ]
    },
    {
     "name": "stderr",
     "output_type": "stream",
     "text": [
      "Epoch 8: 100%|██████████| 209/209 [02:12<00:00,  1.58it/s, train_loss=0.157]\n",
      "Epoch 8: 100%|██████████| 25/25 [00:11<00:00,  2.24it/s, val_loss=0.116]\n"
     ]
    },
    {
     "name": "stdout",
     "output_type": "stream",
     "text": [
      "New best model found: pAUC = 0.147410 (previous best: 0.140136)\n",
      "Epoch 8: Train pAUC: 0.077392 - Val pAUC: 0.147410 | Train Loss: 5.001734 - Val Loss: 7.364972\n",
      "\n"
     ]
    },
    {
     "name": "stderr",
     "output_type": "stream",
     "text": [
      "Epoch 9: 100%|██████████| 209/209 [02:12<00:00,  1.58it/s, train_loss=0.158]\n",
      "Epoch 9: 100%|██████████| 25/25 [00:11<00:00,  2.20it/s, val_loss=0.107]\n"
     ]
    },
    {
     "name": "stdout",
     "output_type": "stream",
     "text": [
      "New best model found: pAUC = 0.161594 (previous best: 0.147410)\n",
      "Epoch 9: Train pAUC: 0.080755 - Val pAUC: 0.161594 | Train Loss: 5.034613 - Val Loss: 6.784874\n",
      "\n"
     ]
    },
    {
     "name": "stderr",
     "output_type": "stream",
     "text": [
      "Epoch 10: 100%|██████████| 209/209 [02:12<00:00,  1.58it/s, train_loss=0.154]\n",
      "Epoch 10: 100%|██████████| 25/25 [00:11<00:00,  2.23it/s, val_loss=0.127]\n"
     ]
    },
    {
     "name": "stdout",
     "output_type": "stream",
     "text": [
      "Epoch 10: Train pAUC: 0.077354 - Val pAUC: 0.154714 | Train Loss: 4.910121 - Val Loss: 8.098278\n",
      "\n"
     ]
    },
    {
     "name": "stderr",
     "output_type": "stream",
     "text": [
      "Epoch 11: 100%|██████████| 209/209 [02:12<00:00,  1.58it/s, train_loss=0.152]\n",
      "Epoch 11: 100%|██████████| 25/25 [00:11<00:00,  2.23it/s, val_loss=0.122]\n"
     ]
    },
    {
     "name": "stdout",
     "output_type": "stream",
     "text": [
      "Epoch 11: Train pAUC: 0.084675 - Val pAUC: 0.155874 | Train Loss: 4.842066 - Val Loss: 7.752348\n",
      "\n"
     ]
    },
    {
     "name": "stderr",
     "output_type": "stream",
     "text": [
      "Epoch 12: 100%|██████████| 209/209 [02:12<00:00,  1.58it/s, train_loss=0.157]\n",
      "Epoch 12: 100%|██████████| 25/25 [00:11<00:00,  2.23it/s, val_loss=0.117]\n"
     ]
    },
    {
     "name": "stdout",
     "output_type": "stream",
     "text": [
      "Epoch 12: Train pAUC: 0.081195 - Val pAUC: 0.149549 | Train Loss: 5.000847 - Val Loss: 7.459943\n",
      "\n"
     ]
    },
    {
     "name": "stderr",
     "output_type": "stream",
     "text": [
      "Epoch 13: 100%|██████████| 209/209 [02:12<00:00,  1.58it/s, train_loss=0.156]\n",
      "Epoch 13: 100%|██████████| 25/25 [00:11<00:00,  2.23it/s, val_loss=0.107]\n"
     ]
    },
    {
     "name": "stdout",
     "output_type": "stream",
     "text": [
      "Epoch 13: Train pAUC: 0.085790 - Val pAUC: 0.148852 | Train Loss: 4.968358 - Val Loss: 6.828837\n",
      "\n"
     ]
    },
    {
     "name": "stderr",
     "output_type": "stream",
     "text": [
      "Epoch 14: 100%|██████████| 209/209 [02:12<00:00,  1.58it/s, train_loss=0.152]\n",
      "Epoch 14: 100%|██████████| 25/25 [00:11<00:00,  2.24it/s, val_loss=0.11]\n"
     ]
    },
    {
     "name": "stdout",
     "output_type": "stream",
     "text": [
      "Epoch 14: Train pAUC: 0.085345 - Val pAUC: 0.149155 | Train Loss: 4.833910 - Val Loss: 6.991646\n",
      "\n"
     ]
    },
    {
     "name": "stderr",
     "output_type": "stream",
     "text": [
      "Epoch 15: 100%|██████████| 209/209 [02:12<00:00,  1.58it/s, train_loss=0.152]\n",
      "Epoch 15: 100%|██████████| 25/25 [00:11<00:00,  2.24it/s, val_loss=0.122]\n"
     ]
    },
    {
     "name": "stdout",
     "output_type": "stream",
     "text": [
      "Epoch 15: Train pAUC: 0.085762 - Val pAUC: 0.148146 | Train Loss: 4.835133 - Val Loss: 7.733778\n",
      "\n"
     ]
    },
    {
     "name": "stderr",
     "output_type": "stream",
     "text": [
      "Epoch 16: 100%|██████████| 209/209 [02:12<00:00,  1.58it/s, train_loss=0.152]\n",
      "Epoch 16: 100%|██████████| 25/25 [00:11<00:00,  2.23it/s, val_loss=0.116]\n"
     ]
    },
    {
     "name": "stdout",
     "output_type": "stream",
     "text": [
      "Epoch 16: Train pAUC: 0.080542 - Val pAUC: 0.151415 | Train Loss: 4.838936 - Val Loss: 7.369252\n",
      "\n"
     ]
    },
    {
     "name": "stderr",
     "output_type": "stream",
     "text": [
      "Epoch 17: 100%|██████████| 209/209 [02:12<00:00,  1.58it/s, train_loss=0.149]\n",
      "Epoch 17: 100%|██████████| 25/25 [00:11<00:00,  2.24it/s, val_loss=0.111]\n"
     ]
    },
    {
     "name": "stdout",
     "output_type": "stream",
     "text": [
      "Epoch 17: Train pAUC: 0.082296 - Val pAUC: 0.146784 | Train Loss: 4.741076 - Val Loss: 7.081877\n",
      "\n"
     ]
    },
    {
     "name": "stderr",
     "output_type": "stream",
     "text": [
      "Epoch 18: 100%|██████████| 209/209 [02:12<00:00,  1.58it/s, train_loss=0.156]\n",
      "Epoch 18: 100%|██████████| 25/25 [00:11<00:00,  2.23it/s, val_loss=0.108]\n"
     ]
    },
    {
     "name": "stdout",
     "output_type": "stream",
     "text": [
      "Epoch 18: Train pAUC: 0.082199 - Val pAUC: 0.155692 | Train Loss: 4.984258 - Val Loss: 6.851286\n",
      "\n"
     ]
    },
    {
     "name": "stderr",
     "output_type": "stream",
     "text": [
      "Epoch 19: 100%|██████████| 209/209 [02:12<00:00,  1.58it/s, train_loss=0.152]\n",
      "Epoch 19: 100%|██████████| 25/25 [00:11<00:00,  2.23it/s, val_loss=0.113]\n"
     ]
    },
    {
     "name": "stdout",
     "output_type": "stream",
     "text": [
      "Early stopping triggered at epoch 19. Best pAUC = 0.161594\n",
      "Epoch 19: Train pAUC: 0.084278 - Val pAUC: 0.146805 | Train Loss: 4.843409 - Val Loss: 7.200200\n",
      "\n"
     ]
    },
    {
     "name": "stderr",
     "output_type": "stream",
     "text": [
      "Prediction: 100%|██████████| 1211/1211 [08:37<00:00,  2.34it/s]\n"
     ]
    },
    {
     "name": "stdout",
     "output_type": "stream",
     "text": [
      "---------------------------------- Fold 1 ----------------------------------\n",
      "\n",
      "\n",
      "---------------------------------- Fold 2 ----------------------------------\n"
     ]
    },
    {
     "name": "stderr",
     "output_type": "stream",
     "text": [
      "Epoch 1: 100%|██████████| 201/201 [02:08<00:00,  1.57it/s, train_loss=0.206]\n",
      "Epoch 1: 100%|██████████| 29/29 [00:12<00:00,  2.26it/s, val_loss=0.13]\n"
     ]
    },
    {
     "name": "stdout",
     "output_type": "stream",
     "text": [
      "Epoch 1: Train pAUC: 0.029794 - Val pAUC: 0.107479 | Train Loss: 6.593627 - Val Loss: 8.221131\n",
      "\n"
     ]
    },
    {
     "name": "stderr",
     "output_type": "stream",
     "text": [
      "Epoch 2: 100%|██████████| 201/201 [02:07<00:00,  1.57it/s, train_loss=0.182]\n",
      "Epoch 2: 100%|██████████| 29/29 [00:12<00:00,  2.26it/s, val_loss=0.103]\n"
     ]
    },
    {
     "name": "stdout",
     "output_type": "stream",
     "text": [
      "New best model found: pAUC = 0.138363 (previous best: 0.107479)\n",
      "Epoch 2: Train pAUC: 0.056213 - Val pAUC: 0.138363 | Train Loss: 5.826500 - Val Loss: 6.521438\n",
      "\n"
     ]
    },
    {
     "name": "stderr",
     "output_type": "stream",
     "text": [
      "Epoch 3: 100%|██████████| 201/201 [02:07<00:00,  1.57it/s, train_loss=0.173]\n",
      "Epoch 3: 100%|██████████| 29/29 [00:12<00:00,  2.26it/s, val_loss=0.0975]\n"
     ]
    },
    {
     "name": "stdout",
     "output_type": "stream",
     "text": [
      "New best model found: pAUC = 0.146948 (previous best: 0.138363)\n",
      "Epoch 3: Train pAUC: 0.068179 - Val pAUC: 0.146948 | Train Loss: 5.544945 - Val Loss: 6.145171\n",
      "\n"
     ]
    },
    {
     "name": "stderr",
     "output_type": "stream",
     "text": [
      "Epoch 4: 100%|██████████| 201/201 [02:08<00:00,  1.57it/s, train_loss=0.171]\n",
      "Epoch 4: 100%|██████████| 29/29 [00:12<00:00,  2.25it/s, val_loss=0.11]\n"
     ]
    },
    {
     "name": "stdout",
     "output_type": "stream",
     "text": [
      "New best model found: pAUC = 0.155527 (previous best: 0.146948)\n",
      "Epoch 4: Train pAUC: 0.072347 - Val pAUC: 0.155527 | Train Loss: 5.457829 - Val Loss: 6.930209\n",
      "\n"
     ]
    },
    {
     "name": "stderr",
     "output_type": "stream",
     "text": [
      "Epoch 5: 100%|██████████| 201/201 [02:07<00:00,  1.57it/s, train_loss=0.163]\n",
      "Epoch 5: 100%|██████████| 29/29 [00:12<00:00,  2.26it/s, val_loss=0.0905]\n"
     ]
    },
    {
     "name": "stdout",
     "output_type": "stream",
     "text": [
      "Epoch 5: Train pAUC: 0.077590 - Val pAUC: 0.154838 | Train Loss: 5.196335 - Val Loss: 5.705998\n",
      "\n"
     ]
    },
    {
     "name": "stderr",
     "output_type": "stream",
     "text": [
      "Epoch 6: 100%|██████████| 201/201 [02:07<00:00,  1.57it/s, train_loss=0.157]\n",
      "Epoch 6: 100%|██████████| 29/29 [00:12<00:00,  2.26it/s, val_loss=0.0929]\n"
     ]
    },
    {
     "name": "stdout",
     "output_type": "stream",
     "text": [
      "Epoch 6: Train pAUC: 0.075620 - Val pAUC: 0.153085 | Train Loss: 5.005445 - Val Loss: 5.858650\n",
      "\n"
     ]
    },
    {
     "name": "stderr",
     "output_type": "stream",
     "text": [
      "Epoch 7: 100%|██████████| 201/201 [02:08<00:00,  1.57it/s, train_loss=0.163]\n",
      "Epoch 7: 100%|██████████| 29/29 [00:12<00:00,  2.25it/s, val_loss=0.0911]\n"
     ]
    },
    {
     "name": "stdout",
     "output_type": "stream",
     "text": [
      "Epoch 7: Train pAUC: 0.076345 - Val pAUC: 0.144746 | Train Loss: 5.216997 - Val Loss: 5.743774\n",
      "\n"
     ]
    },
    {
     "name": "stderr",
     "output_type": "stream",
     "text": [
      "Epoch 8: 100%|██████████| 201/201 [02:08<00:00,  1.57it/s, train_loss=0.165]\n",
      "Epoch 8: 100%|██████████| 29/29 [00:12<00:00,  2.26it/s, val_loss=0.0787]\n"
     ]
    },
    {
     "name": "stdout",
     "output_type": "stream",
     "text": [
      "New best model found: pAUC = 0.159062 (previous best: 0.155527)\n",
      "Epoch 8: Train pAUC: 0.076207 - Val pAUC: 0.159062 | Train Loss: 5.265836 - Val Loss: 4.958847\n",
      "\n"
     ]
    },
    {
     "name": "stderr",
     "output_type": "stream",
     "text": [
      "Epoch 9: 100%|██████████| 201/201 [02:07<00:00,  1.57it/s, train_loss=0.156]\n",
      "Epoch 9: 100%|██████████| 29/29 [00:12<00:00,  2.26it/s, val_loss=0.0917]\n"
     ]
    },
    {
     "name": "stdout",
     "output_type": "stream",
     "text": [
      "Epoch 9: Train pAUC: 0.083677 - Val pAUC: 0.154091 | Train Loss: 4.978721 - Val Loss: 5.780424\n",
      "\n"
     ]
    },
    {
     "name": "stderr",
     "output_type": "stream",
     "text": [
      "Epoch 10: 100%|██████████| 201/201 [02:07<00:00,  1.57it/s, train_loss=0.158]\n",
      "Epoch 10: 100%|██████████| 29/29 [00:12<00:00,  2.27it/s, val_loss=0.0881]\n"
     ]
    },
    {
     "name": "stdout",
     "output_type": "stream",
     "text": [
      "Epoch 10: Train pAUC: 0.080599 - Val pAUC: 0.154917 | Train Loss: 5.064829 - Val Loss: 5.556096\n",
      "\n"
     ]
    },
    {
     "name": "stderr",
     "output_type": "stream",
     "text": [
      "Epoch 11: 100%|██████████| 201/201 [02:07<00:00,  1.57it/s, train_loss=0.151]\n",
      "Epoch 11: 100%|██████████| 29/29 [00:12<00:00,  2.26it/s, val_loss=0.102]\n"
     ]
    },
    {
     "name": "stdout",
     "output_type": "stream",
     "text": [
      "Epoch 11: Train pAUC: 0.083125 - Val pAUC: 0.147172 | Train Loss: 4.838175 - Val Loss: 6.449054\n",
      "\n"
     ]
    },
    {
     "name": "stderr",
     "output_type": "stream",
     "text": [
      "Epoch 12: 100%|██████████| 201/201 [02:08<00:00,  1.57it/s, train_loss=0.16]\n",
      "Epoch 12: 100%|██████████| 29/29 [00:12<00:00,  2.26it/s, val_loss=0.0918]\n"
     ]
    },
    {
     "name": "stdout",
     "output_type": "stream",
     "text": [
      "Epoch 12: Train pAUC: 0.083479 - Val pAUC: 0.150835 | Train Loss: 5.105596 - Val Loss: 5.788306\n",
      "\n"
     ]
    },
    {
     "name": "stderr",
     "output_type": "stream",
     "text": [
      "Epoch 13: 100%|██████████| 201/201 [02:08<00:00,  1.57it/s, train_loss=0.153]\n",
      "Epoch 13: 100%|██████████| 29/29 [00:13<00:00,  2.22it/s, val_loss=0.0837]\n"
     ]
    },
    {
     "name": "stdout",
     "output_type": "stream",
     "text": [
      "New best model found: pAUC = 0.159584 (previous best: 0.159062)\n",
      "Epoch 13: Train pAUC: 0.085615 - Val pAUC: 0.159584 | Train Loss: 4.883789 - Val Loss: 5.273936\n",
      "\n"
     ]
    },
    {
     "name": "stderr",
     "output_type": "stream",
     "text": [
      "Epoch 14: 100%|██████████| 201/201 [02:07<00:00,  1.57it/s, train_loss=0.148]\n",
      "Epoch 14: 100%|██████████| 29/29 [00:12<00:00,  2.27it/s, val_loss=0.0869]\n"
     ]
    },
    {
     "name": "stdout",
     "output_type": "stream",
     "text": [
      "Epoch 14: Train pAUC: 0.091199 - Val pAUC: 0.156521 | Train Loss: 4.726853 - Val Loss: 5.478805\n",
      "\n"
     ]
    },
    {
     "name": "stderr",
     "output_type": "stream",
     "text": [
      "Epoch 15: 100%|██████████| 201/201 [02:07<00:00,  1.58it/s, train_loss=0.152]\n",
      "Epoch 15: 100%|██████████| 29/29 [00:12<00:00,  2.27it/s, val_loss=0.0836]\n"
     ]
    },
    {
     "name": "stdout",
     "output_type": "stream",
     "text": [
      "Epoch 15: Train pAUC: 0.084620 - Val pAUC: 0.153116 | Train Loss: 4.859136 - Val Loss: 5.270330\n",
      "\n"
     ]
    },
    {
     "name": "stderr",
     "output_type": "stream",
     "text": [
      "Epoch 16: 100%|██████████| 201/201 [02:07<00:00,  1.57it/s, train_loss=0.146]\n",
      "Epoch 16: 100%|██████████| 29/29 [00:12<00:00,  2.28it/s, val_loss=0.0924]\n"
     ]
    },
    {
     "name": "stdout",
     "output_type": "stream",
     "text": [
      "Epoch 16: Train pAUC: 0.085845 - Val pAUC: 0.141413 | Train Loss: 4.666113 - Val Loss: 5.823980\n",
      "\n"
     ]
    },
    {
     "name": "stderr",
     "output_type": "stream",
     "text": [
      "Epoch 17: 100%|██████████| 201/201 [02:07<00:00,  1.57it/s, train_loss=0.147]\n",
      "Epoch 17: 100%|██████████| 29/29 [00:12<00:00,  2.26it/s, val_loss=0.0873]\n"
     ]
    },
    {
     "name": "stdout",
     "output_type": "stream",
     "text": [
      "Epoch 17: Train pAUC: 0.087031 - Val pAUC: 0.155774 | Train Loss: 4.684801 - Val Loss: 5.501806\n",
      "\n"
     ]
    },
    {
     "name": "stderr",
     "output_type": "stream",
     "text": [
      "Epoch 18: 100%|██████████| 201/201 [02:07<00:00,  1.57it/s, train_loss=0.146]\n",
      "Epoch 18: 100%|██████████| 29/29 [00:13<00:00,  2.23it/s, val_loss=0.0975]\n"
     ]
    },
    {
     "name": "stdout",
     "output_type": "stream",
     "text": [
      "Epoch 18: Train pAUC: 0.089993 - Val pAUC: 0.155170 | Train Loss: 4.668007 - Val Loss: 6.146062\n",
      "\n"
     ]
    },
    {
     "name": "stderr",
     "output_type": "stream",
     "text": [
      "Epoch 19: 100%|██████████| 201/201 [02:07<00:00,  1.57it/s, train_loss=0.147]\n",
      "Epoch 19: 100%|██████████| 29/29 [00:12<00:00,  2.27it/s, val_loss=0.0906]\n"
     ]
    },
    {
     "name": "stdout",
     "output_type": "stream",
     "text": [
      "Epoch 19: Train pAUC: 0.086569 - Val pAUC: 0.155475 | Train Loss: 4.692766 - Val Loss: 5.709024\n",
      "\n"
     ]
    },
    {
     "name": "stderr",
     "output_type": "stream",
     "text": [
      "Epoch 20: 100%|██████████| 201/201 [02:07<00:00,  1.57it/s, train_loss=0.146]\n",
      "Epoch 20: 100%|██████████| 29/29 [00:12<00:00,  2.26it/s, val_loss=0.0838]\n"
     ]
    },
    {
     "name": "stdout",
     "output_type": "stream",
     "text": [
      "New best model found: pAUC = 0.163099 (previous best: 0.159584)\n",
      "Epoch 20: Train pAUC: 0.087294 - Val pAUC: 0.163099 | Train Loss: 4.679108 - Val Loss: 5.280661\n",
      "\n"
     ]
    },
    {
     "name": "stderr",
     "output_type": "stream",
     "text": [
      "Epoch 21: 100%|██████████| 201/201 [02:07<00:00,  1.57it/s, train_loss=0.145]\n",
      "Epoch 21: 100%|██████████| 29/29 [00:12<00:00,  2.26it/s, val_loss=0.0842]\n"
     ]
    },
    {
     "name": "stdout",
     "output_type": "stream",
     "text": [
      "Epoch 21: Train pAUC: 0.092676 - Val pAUC: 0.162757 | Train Loss: 4.622547 - Val Loss: 5.307683\n",
      "\n"
     ]
    },
    {
     "name": "stderr",
     "output_type": "stream",
     "text": [
      "Epoch 22: 100%|██████████| 201/201 [02:07<00:00,  1.57it/s, train_loss=0.143]\n",
      "Epoch 22: 100%|██████████| 29/29 [00:12<00:00,  2.27it/s, val_loss=0.086]\n"
     ]
    },
    {
     "name": "stdout",
     "output_type": "stream",
     "text": [
      "Epoch 22: Train pAUC: 0.094098 - Val pAUC: 0.161745 | Train Loss: 4.573633 - Val Loss: 5.423027\n",
      "\n"
     ]
    },
    {
     "name": "stderr",
     "output_type": "stream",
     "text": [
      "Epoch 23: 100%|██████████| 201/201 [02:07<00:00,  1.57it/s, train_loss=0.145]\n",
      "Epoch 23: 100%|██████████| 29/29 [00:12<00:00,  2.26it/s, val_loss=0.087]\n"
     ]
    },
    {
     "name": "stdout",
     "output_type": "stream",
     "text": [
      "Epoch 23: Train pAUC: 0.092117 - Val pAUC: 0.158814 | Train Loss: 4.646805 - Val Loss: 5.483983\n",
      "\n"
     ]
    },
    {
     "name": "stderr",
     "output_type": "stream",
     "text": [
      "Epoch 24: 100%|██████████| 201/201 [02:07<00:00,  1.57it/s, train_loss=0.142]\n",
      "Epoch 24: 100%|██████████| 29/29 [00:12<00:00,  2.25it/s, val_loss=0.0877]\n"
     ]
    },
    {
     "name": "stdout",
     "output_type": "stream",
     "text": [
      "Epoch 24: Train pAUC: 0.087973 - Val pAUC: 0.156823 | Train Loss: 4.526981 - Val Loss: 5.528867\n",
      "\n"
     ]
    },
    {
     "name": "stderr",
     "output_type": "stream",
     "text": [
      "Epoch 25: 100%|██████████| 201/201 [02:07<00:00,  1.57it/s, train_loss=0.138]\n",
      "Epoch 25: 100%|██████████| 29/29 [00:12<00:00,  2.27it/s, val_loss=0.087]\n"
     ]
    },
    {
     "name": "stdout",
     "output_type": "stream",
     "text": [
      "Epoch 25: Train pAUC: 0.091914 - Val pAUC: 0.157510 | Train Loss: 4.415640 - Val Loss: 5.486142\n",
      "\n"
     ]
    },
    {
     "name": "stderr",
     "output_type": "stream",
     "text": [
      "Epoch 26: 100%|██████████| 201/201 [02:07<00:00,  1.57it/s, train_loss=0.141]\n",
      "Epoch 26: 100%|██████████| 29/29 [00:12<00:00,  2.27it/s, val_loss=0.11]\n"
     ]
    },
    {
     "name": "stdout",
     "output_type": "stream",
     "text": [
      "Epoch 26: Train pAUC: 0.092143 - Val pAUC: 0.155677 | Train Loss: 4.507255 - Val Loss: 6.944996\n",
      "\n"
     ]
    },
    {
     "name": "stderr",
     "output_type": "stream",
     "text": [
      "Epoch 27: 100%|██████████| 201/201 [02:07<00:00,  1.57it/s, train_loss=0.137]\n",
      "Epoch 27: 100%|██████████| 29/29 [00:12<00:00,  2.26it/s, val_loss=0.0849]\n"
     ]
    },
    {
     "name": "stdout",
     "output_type": "stream",
     "text": [
      "New best model found: pAUC = 0.167341 (previous best: 0.163099)\n",
      "Epoch 27: Train pAUC: 0.094795 - Val pAUC: 0.167341 | Train Loss: 4.366434 - Val Loss: 5.351746\n",
      "\n"
     ]
    },
    {
     "name": "stderr",
     "output_type": "stream",
     "text": [
      "Epoch 28: 100%|██████████| 201/201 [02:07<00:00,  1.57it/s, train_loss=0.136]\n",
      "Epoch 28: 100%|██████████| 29/29 [00:12<00:00,  2.27it/s, val_loss=0.0939]\n"
     ]
    },
    {
     "name": "stdout",
     "output_type": "stream",
     "text": [
      "Epoch 28: Train pAUC: 0.093199 - Val pAUC: 0.161885 | Train Loss: 4.354452 - Val Loss: 5.918208\n",
      "\n"
     ]
    },
    {
     "name": "stderr",
     "output_type": "stream",
     "text": [
      "Epoch 29: 100%|██████████| 201/201 [02:07<00:00,  1.57it/s, train_loss=0.131]\n",
      "Epoch 29: 100%|██████████| 29/29 [00:12<00:00,  2.26it/s, val_loss=0.0924]\n"
     ]
    },
    {
     "name": "stdout",
     "output_type": "stream",
     "text": [
      "Epoch 29: Train pAUC: 0.101890 - Val pAUC: 0.159533 | Train Loss: 4.197837 - Val Loss: 5.822047\n",
      "\n"
     ]
    },
    {
     "name": "stderr",
     "output_type": "stream",
     "text": [
      "Epoch 30: 100%|██████████| 201/201 [02:07<00:00,  1.57it/s, train_loss=0.131]\n",
      "Epoch 30: 100%|██████████| 29/29 [00:12<00:00,  2.27it/s, val_loss=0.0906]\n"
     ]
    },
    {
     "name": "stdout",
     "output_type": "stream",
     "text": [
      "Epoch 30: Train pAUC: 0.097059 - Val pAUC: 0.162355 | Train Loss: 4.190019 - Val Loss: 5.708566\n",
      "\n"
     ]
    },
    {
     "name": "stderr",
     "output_type": "stream",
     "text": [
      "Epoch 31: 100%|██████████| 201/201 [02:07<00:00,  1.57it/s, train_loss=0.136]\n",
      "Epoch 31: 100%|██████████| 29/29 [00:12<00:00,  2.27it/s, val_loss=0.099]\n"
     ]
    },
    {
     "name": "stdout",
     "output_type": "stream",
     "text": [
      "Epoch 31: Train pAUC: 0.098292 - Val pAUC: 0.157789 | Train Loss: 4.360888 - Val Loss: 6.243498\n",
      "\n"
     ]
    },
    {
     "name": "stderr",
     "output_type": "stream",
     "text": [
      "Epoch 32: 100%|██████████| 201/201 [02:07<00:00,  1.57it/s, train_loss=0.128]\n",
      "Epoch 32: 100%|██████████| 29/29 [00:12<00:00,  2.27it/s, val_loss=0.0964]\n"
     ]
    },
    {
     "name": "stdout",
     "output_type": "stream",
     "text": [
      "Epoch 32: Train pAUC: 0.102630 - Val pAUC: 0.161025 | Train Loss: 4.088972 - Val Loss: 6.076250\n",
      "\n"
     ]
    },
    {
     "name": "stderr",
     "output_type": "stream",
     "text": [
      "Epoch 33: 100%|██████████| 201/201 [02:07<00:00,  1.57it/s, train_loss=0.13]\n",
      "Epoch 33: 100%|██████████| 29/29 [00:12<00:00,  2.26it/s, val_loss=0.101]\n"
     ]
    },
    {
     "name": "stdout",
     "output_type": "stream",
     "text": [
      "Epoch 33: Train pAUC: 0.101189 - Val pAUC: 0.160466 | Train Loss: 4.154697 - Val Loss: 6.380336\n",
      "\n"
     ]
    },
    {
     "name": "stderr",
     "output_type": "stream",
     "text": [
      "Epoch 34: 100%|██████████| 201/201 [02:07<00:00,  1.57it/s, train_loss=0.125]\n",
      "Epoch 34: 100%|██████████| 29/29 [00:12<00:00,  2.25it/s, val_loss=0.115]\n"
     ]
    },
    {
     "name": "stdout",
     "output_type": "stream",
     "text": [
      "Epoch 34: Train pAUC: 0.106814 - Val pAUC: 0.162512 | Train Loss: 4.000829 - Val Loss: 7.255835\n",
      "\n"
     ]
    },
    {
     "name": "stderr",
     "output_type": "stream",
     "text": [
      "Epoch 35: 100%|██████████| 201/201 [02:07<00:00,  1.57it/s, train_loss=0.125]\n",
      "Epoch 35: 100%|██████████| 29/29 [00:12<00:00,  2.26it/s, val_loss=0.0998]\n"
     ]
    },
    {
     "name": "stdout",
     "output_type": "stream",
     "text": [
      "Epoch 35: Train pAUC: 0.101619 - Val pAUC: 0.159774 | Train Loss: 4.008536 - Val Loss: 6.292774\n",
      "\n"
     ]
    },
    {
     "name": "stderr",
     "output_type": "stream",
     "text": [
      "Epoch 36: 100%|██████████| 201/201 [02:07<00:00,  1.57it/s, train_loss=0.134]\n",
      "Epoch 36: 100%|██████████| 29/29 [00:12<00:00,  2.26it/s, val_loss=0.106]\n"
     ]
    },
    {
     "name": "stdout",
     "output_type": "stream",
     "text": [
      "Epoch 36: Train pAUC: 0.101071 - Val pAUC: 0.156603 | Train Loss: 4.276839 - Val Loss: 6.681470\n",
      "\n"
     ]
    },
    {
     "name": "stderr",
     "output_type": "stream",
     "text": [
      "Epoch 37: 100%|██████████| 201/201 [02:07<00:00,  1.57it/s, train_loss=0.124]\n",
      "Epoch 37: 100%|██████████| 29/29 [00:12<00:00,  2.26it/s, val_loss=0.104]\n"
     ]
    },
    {
     "name": "stdout",
     "output_type": "stream",
     "text": [
      "Early stopping triggered at epoch 37. Best pAUC = 0.167341\n",
      "Epoch 37: Train pAUC: 0.099379 - Val pAUC: 0.157042 | Train Loss: 3.950541 - Val Loss: 6.527862\n",
      "\n"
     ]
    },
    {
     "name": "stderr",
     "output_type": "stream",
     "text": [
      "Prediction: 100%|██████████| 1310/1310 [09:19<00:00,  2.34it/s]\n"
     ]
    },
    {
     "name": "stdout",
     "output_type": "stream",
     "text": [
      "---------------------------------- Fold 2 ----------------------------------\n",
      "\n",
      "\n",
      "---------------------------------- Fold 3 ----------------------------------\n"
     ]
    },
    {
     "name": "stderr",
     "output_type": "stream",
     "text": [
      "Epoch 1: 100%|██████████| 218/218 [02:18<00:00,  1.58it/s, train_loss=0.197]\n",
      "Epoch 1: 100%|██████████| 21/21 [00:09<00:00,  2.26it/s, val_loss=0.167]\n"
     ]
    },
    {
     "name": "stdout",
     "output_type": "stream",
     "text": [
      "Epoch 1: Train pAUC: 0.027265 - Val pAUC: 0.078649 | Train Loss: 6.285912 - Val Loss: 10.378246\n",
      "\n"
     ]
    },
    {
     "name": "stderr",
     "output_type": "stream",
     "text": [
      "Epoch 2: 100%|██████████| 218/218 [02:18<00:00,  1.58it/s, train_loss=0.174]\n",
      "Epoch 2: 100%|██████████| 21/21 [00:09<00:00,  2.24it/s, val_loss=0.141]\n"
     ]
    },
    {
     "name": "stdout",
     "output_type": "stream",
     "text": [
      "New best model found: pAUC = 0.142633 (previous best: 0.078649)\n",
      "Epoch 2: Train pAUC: 0.049792 - Val pAUC: 0.142633 | Train Loss: 5.538953 - Val Loss: 8.737057\n",
      "\n"
     ]
    },
    {
     "name": "stderr",
     "output_type": "stream",
     "text": [
      "Epoch 3: 100%|██████████| 218/218 [02:18<00:00,  1.58it/s, train_loss=0.169]\n",
      "Epoch 3: 100%|██████████| 21/21 [00:09<00:00,  2.24it/s, val_loss=0.119]\n"
     ]
    },
    {
     "name": "stdout",
     "output_type": "stream",
     "text": [
      "New best model found: pAUC = 0.150592 (previous best: 0.142633)\n",
      "Epoch 3: Train pAUC: 0.060752 - Val pAUC: 0.150592 | Train Loss: 5.373040 - Val Loss: 7.415165\n",
      "\n"
     ]
    },
    {
     "name": "stderr",
     "output_type": "stream",
     "text": [
      "Epoch 4: 100%|██████████| 218/218 [02:18<00:00,  1.58it/s, train_loss=0.158]\n",
      "Epoch 4: 100%|██████████| 21/21 [00:09<00:00,  2.26it/s, val_loss=0.116]\n"
     ]
    },
    {
     "name": "stdout",
     "output_type": "stream",
     "text": [
      "New best model found: pAUC = 0.152089 (previous best: 0.150592)\n",
      "Epoch 4: Train pAUC: 0.072723 - Val pAUC: 0.152089 | Train Loss: 5.030961 - Val Loss: 7.197959\n",
      "\n"
     ]
    },
    {
     "name": "stderr",
     "output_type": "stream",
     "text": [
      "Epoch 5: 100%|██████████| 218/218 [02:18<00:00,  1.58it/s, train_loss=0.161]\n",
      "Epoch 5: 100%|██████████| 21/21 [00:09<00:00,  2.26it/s, val_loss=0.116]\n"
     ]
    },
    {
     "name": "stdout",
     "output_type": "stream",
     "text": [
      "Epoch 5: Train pAUC: 0.072266 - Val pAUC: 0.152017 | Train Loss: 5.133823 - Val Loss: 7.228395\n",
      "\n"
     ]
    },
    {
     "name": "stderr",
     "output_type": "stream",
     "text": [
      "Epoch 6: 100%|██████████| 218/218 [02:18<00:00,  1.58it/s, train_loss=0.155]\n",
      "Epoch 6: 100%|██████████| 21/21 [00:09<00:00,  2.25it/s, val_loss=0.118]\n"
     ]
    },
    {
     "name": "stdout",
     "output_type": "stream",
     "text": [
      "Epoch 6: Train pAUC: 0.076348 - Val pAUC: 0.144979 | Train Loss: 4.953937 - Val Loss: 7.361530\n",
      "\n"
     ]
    },
    {
     "name": "stderr",
     "output_type": "stream",
     "text": [
      "Epoch 7: 100%|██████████| 218/218 [02:18<00:00,  1.58it/s, train_loss=0.159]\n",
      "Epoch 7: 100%|██████████| 21/21 [00:09<00:00,  2.26it/s, val_loss=0.129]\n"
     ]
    },
    {
     "name": "stdout",
     "output_type": "stream",
     "text": [
      "Epoch 7: Train pAUC: 0.073210 - Val pAUC: 0.137287 | Train Loss: 5.082779 - Val Loss: 8.045815\n",
      "\n"
     ]
    },
    {
     "name": "stderr",
     "output_type": "stream",
     "text": [
      "Epoch 8: 100%|██████████| 218/218 [02:18<00:00,  1.58it/s, train_loss=0.158]\n",
      "Epoch 8: 100%|██████████| 21/21 [00:09<00:00,  2.25it/s, val_loss=0.116]\n"
     ]
    },
    {
     "name": "stdout",
     "output_type": "stream",
     "text": [
      "New best model found: pAUC = 0.155774 (previous best: 0.152089)\n",
      "Epoch 8: Train pAUC: 0.076379 - Val pAUC: 0.155774 | Train Loss: 5.041096 - Val Loss: 7.208906\n",
      "\n"
     ]
    },
    {
     "name": "stderr",
     "output_type": "stream",
     "text": [
      "Epoch 9: 100%|██████████| 218/218 [02:18<00:00,  1.58it/s, train_loss=0.152]\n",
      "Epoch 9: 100%|██████████| 21/21 [00:09<00:00,  2.25it/s, val_loss=0.122]\n"
     ]
    },
    {
     "name": "stdout",
     "output_type": "stream",
     "text": [
      "Epoch 9: Train pAUC: 0.077291 - Val pAUC: 0.142625 | Train Loss: 4.844033 - Val Loss: 7.601840\n",
      "\n"
     ]
    },
    {
     "name": "stderr",
     "output_type": "stream",
     "text": [
      "Epoch 10: 100%|██████████| 218/218 [02:18<00:00,  1.58it/s, train_loss=0.153]\n",
      "Epoch 10: 100%|██████████| 21/21 [00:09<00:00,  2.25it/s, val_loss=0.155]\n"
     ]
    },
    {
     "name": "stdout",
     "output_type": "stream",
     "text": [
      "Epoch 10: Train pAUC: 0.081667 - Val pAUC: 0.146023 | Train Loss: 4.866996 - Val Loss: 9.630248\n",
      "\n"
     ]
    },
    {
     "name": "stderr",
     "output_type": "stream",
     "text": [
      "Epoch 11: 100%|██████████| 218/218 [02:18<00:00,  1.58it/s, train_loss=0.154]\n",
      "Epoch 11: 100%|██████████| 21/21 [00:09<00:00,  2.23it/s, val_loss=0.124]\n"
     ]
    },
    {
     "name": "stdout",
     "output_type": "stream",
     "text": [
      "Epoch 11: Train pAUC: 0.083441 - Val pAUC: 0.149254 | Train Loss: 4.912595 - Val Loss: 7.707639\n",
      "\n"
     ]
    },
    {
     "name": "stderr",
     "output_type": "stream",
     "text": [
      "Epoch 12: 100%|██████████| 218/218 [02:18<00:00,  1.58it/s, train_loss=0.155]\n",
      "Epoch 12: 100%|██████████| 21/21 [00:09<00:00,  2.27it/s, val_loss=0.106]\n"
     ]
    },
    {
     "name": "stdout",
     "output_type": "stream",
     "text": [
      "New best model found: pAUC = 0.157534 (previous best: 0.155774)\n",
      "Epoch 12: Train pAUC: 0.078139 - Val pAUC: 0.157534 | Train Loss: 4.931622 - Val Loss: 6.603936\n",
      "\n"
     ]
    },
    {
     "name": "stderr",
     "output_type": "stream",
     "text": [
      "Epoch 13: 100%|██████████| 218/218 [02:18<00:00,  1.58it/s, train_loss=0.151]\n",
      "Epoch 13: 100%|██████████| 21/21 [00:09<00:00,  2.27it/s, val_loss=0.104]\n"
     ]
    },
    {
     "name": "stdout",
     "output_type": "stream",
     "text": [
      "New best model found: pAUC = 0.158554 (previous best: 0.157534)\n",
      "Epoch 13: Train pAUC: 0.080277 - Val pAUC: 0.158554 | Train Loss: 4.797416 - Val Loss: 6.457917\n",
      "\n"
     ]
    },
    {
     "name": "stderr",
     "output_type": "stream",
     "text": [
      "Epoch 14: 100%|██████████| 218/218 [02:18<00:00,  1.58it/s, train_loss=0.151]\n",
      "Epoch 14: 100%|██████████| 21/21 [00:09<00:00,  2.25it/s, val_loss=0.114]\n"
     ]
    },
    {
     "name": "stdout",
     "output_type": "stream",
     "text": [
      "Epoch 14: Train pAUC: 0.078240 - Val pAUC: 0.153755 | Train Loss: 4.803065 - Val Loss: 7.054672\n",
      "\n"
     ]
    },
    {
     "name": "stderr",
     "output_type": "stream",
     "text": [
      "Epoch 15: 100%|██████████| 218/218 [02:18<00:00,  1.58it/s, train_loss=0.152]\n",
      "Epoch 15: 100%|██████████| 21/21 [00:09<00:00,  2.26it/s, val_loss=0.103]\n"
     ]
    },
    {
     "name": "stdout",
     "output_type": "stream",
     "text": [
      "New best model found: pAUC = 0.160637 (previous best: 0.158554)\n",
      "Epoch 15: Train pAUC: 0.080905 - Val pAUC: 0.160637 | Train Loss: 4.842803 - Val Loss: 6.383469\n",
      "\n"
     ]
    },
    {
     "name": "stderr",
     "output_type": "stream",
     "text": [
      "Epoch 16: 100%|██████████| 218/218 [02:18<00:00,  1.58it/s, train_loss=0.146]\n",
      "Epoch 16: 100%|██████████| 21/21 [00:09<00:00,  2.26it/s, val_loss=0.115]\n"
     ]
    },
    {
     "name": "stdout",
     "output_type": "stream",
     "text": [
      "Epoch 16: Train pAUC: 0.076455 - Val pAUC: 0.144677 | Train Loss: 4.668881 - Val Loss: 7.169396\n",
      "\n"
     ]
    },
    {
     "name": "stderr",
     "output_type": "stream",
     "text": [
      "Epoch 17: 100%|██████████| 218/218 [02:18<00:00,  1.58it/s, train_loss=0.145]\n",
      "Epoch 17: 100%|██████████| 21/21 [00:09<00:00,  2.27it/s, val_loss=0.12]\n"
     ]
    },
    {
     "name": "stdout",
     "output_type": "stream",
     "text": [
      "Epoch 17: Train pAUC: 0.090146 - Val pAUC: 0.138365 | Train Loss: 4.617701 - Val Loss: 7.434224\n",
      "\n"
     ]
    },
    {
     "name": "stderr",
     "output_type": "stream",
     "text": [
      "Epoch 18: 100%|██████████| 218/218 [02:18<00:00,  1.58it/s, train_loss=0.143]\n",
      "Epoch 18: 100%|██████████| 21/21 [00:09<00:00,  2.26it/s, val_loss=0.122]\n"
     ]
    },
    {
     "name": "stdout",
     "output_type": "stream",
     "text": [
      "Epoch 18: Train pAUC: 0.092441 - Val pAUC: 0.142594 | Train Loss: 4.556341 - Val Loss: 7.582045\n",
      "\n"
     ]
    },
    {
     "name": "stderr",
     "output_type": "stream",
     "text": [
      "Epoch 19: 100%|██████████| 218/218 [02:18<00:00,  1.58it/s, train_loss=0.148]\n",
      "Epoch 19: 100%|██████████| 21/21 [00:09<00:00,  2.26it/s, val_loss=0.117]\n"
     ]
    },
    {
     "name": "stdout",
     "output_type": "stream",
     "text": [
      "Epoch 19: Train pAUC: 0.088250 - Val pAUC: 0.144610 | Train Loss: 4.731077 - Val Loss: 7.272406\n",
      "\n"
     ]
    },
    {
     "name": "stderr",
     "output_type": "stream",
     "text": [
      "Epoch 20: 100%|██████████| 218/218 [02:18<00:00,  1.58it/s, train_loss=0.136]\n",
      "Epoch 20: 100%|██████████| 21/21 [00:09<00:00,  2.26it/s, val_loss=0.113]\n"
     ]
    },
    {
     "name": "stdout",
     "output_type": "stream",
     "text": [
      "Epoch 20: Train pAUC: 0.084527 - Val pAUC: 0.150344 | Train Loss: 4.319491 - Val Loss: 7.038208\n",
      "\n"
     ]
    },
    {
     "name": "stderr",
     "output_type": "stream",
     "text": [
      "Epoch 21: 100%|██████████| 218/218 [02:18<00:00,  1.58it/s, train_loss=0.142]\n",
      "Epoch 21: 100%|██████████| 21/21 [00:09<00:00,  2.25it/s, val_loss=0.118]\n"
     ]
    },
    {
     "name": "stdout",
     "output_type": "stream",
     "text": [
      "Epoch 21: Train pAUC: 0.086571 - Val pAUC: 0.149676 | Train Loss: 4.516769 - Val Loss: 7.328855\n",
      "\n"
     ]
    },
    {
     "name": "stderr",
     "output_type": "stream",
     "text": [
      "Epoch 22: 100%|██████████| 218/218 [02:18<00:00,  1.58it/s, train_loss=0.143]\n",
      "Epoch 22: 100%|██████████| 21/21 [00:09<00:00,  2.26it/s, val_loss=0.105]\n"
     ]
    },
    {
     "name": "stdout",
     "output_type": "stream",
     "text": [
      "Epoch 22: Train pAUC: 0.084854 - Val pAUC: 0.158028 | Train Loss: 4.559152 - Val Loss: 6.512688\n",
      "\n"
     ]
    },
    {
     "name": "stderr",
     "output_type": "stream",
     "text": [
      "Epoch 23: 100%|██████████| 218/218 [02:18<00:00,  1.58it/s, train_loss=0.141]\n",
      "Epoch 23: 100%|██████████| 21/21 [00:09<00:00,  2.26it/s, val_loss=0.107]\n"
     ]
    },
    {
     "name": "stdout",
     "output_type": "stream",
     "text": [
      "Epoch 23: Train pAUC: 0.084398 - Val pAUC: 0.158674 | Train Loss: 4.496190 - Val Loss: 6.618657\n",
      "\n"
     ]
    },
    {
     "name": "stderr",
     "output_type": "stream",
     "text": [
      "Epoch 24: 100%|██████████| 218/218 [02:18<00:00,  1.58it/s, train_loss=0.14]\n",
      "Epoch 24: 100%|██████████| 21/21 [00:09<00:00,  2.24it/s, val_loss=0.106]\n"
     ]
    },
    {
     "name": "stdout",
     "output_type": "stream",
     "text": [
      "Epoch 24: Train pAUC: 0.087197 - Val pAUC: 0.157025 | Train Loss: 4.465270 - Val Loss: 6.586890\n",
      "\n"
     ]
    },
    {
     "name": "stderr",
     "output_type": "stream",
     "text": [
      "Epoch 25: 100%|██████████| 218/218 [02:18<00:00,  1.58it/s, train_loss=0.142]\n",
      "Epoch 25: 100%|██████████| 21/21 [00:09<00:00,  2.26it/s, val_loss=0.111]\n"
     ]
    },
    {
     "name": "stdout",
     "output_type": "stream",
     "text": [
      "Early stopping triggered at epoch 25. Best pAUC = 0.160637\n",
      "Epoch 25: Train pAUC: 0.084693 - Val pAUC: 0.155176 | Train Loss: 4.521690 - Val Loss: 6.901576\n",
      "\n"
     ]
    },
    {
     "name": "stderr",
     "output_type": "stream",
     "text": [
      "Prediction: 100%|██████████| 1191/1191 [08:28<00:00,  2.34it/s]\n"
     ]
    },
    {
     "name": "stdout",
     "output_type": "stream",
     "text": [
      "---------------------------------- Fold 3 ----------------------------------\n",
      "\n",
      "\n",
      "---------------------------------- Fold 4 ----------------------------------\n"
     ]
    },
    {
     "name": "stderr",
     "output_type": "stream",
     "text": [
      "Epoch 1: 100%|██████████| 205/205 [02:10<00:00,  1.57it/s, train_loss=0.203]\n",
      "Epoch 1: 100%|██████████| 27/27 [00:11<00:00,  2.25it/s, val_loss=0.139]\n"
     ]
    },
    {
     "name": "stdout",
     "output_type": "stream",
     "text": [
      "Epoch 1: Train pAUC: 0.025862 - Val pAUC: 0.098494 | Train Loss: 6.490809 - Val Loss: 8.763265\n",
      "\n"
     ]
    },
    {
     "name": "stderr",
     "output_type": "stream",
     "text": [
      "Epoch 2: 100%|██████████| 205/205 [02:10<00:00,  1.57it/s, train_loss=0.179]\n",
      "Epoch 2: 100%|██████████| 27/27 [00:11<00:00,  2.26it/s, val_loss=0.114]\n"
     ]
    },
    {
     "name": "stdout",
     "output_type": "stream",
     "text": [
      "New best model found: pAUC = 0.151792 (previous best: 0.098494)\n",
      "Epoch 2: Train pAUC: 0.049629 - Val pAUC: 0.151792 | Train Loss: 5.715987 - Val Loss: 7.216704\n",
      "\n"
     ]
    },
    {
     "name": "stderr",
     "output_type": "stream",
     "text": [
      "Epoch 3: 100%|██████████| 205/205 [02:10<00:00,  1.58it/s, train_loss=0.172]\n",
      "Epoch 3: 100%|██████████| 27/27 [00:11<00:00,  2.26it/s, val_loss=0.112]\n"
     ]
    },
    {
     "name": "stdout",
     "output_type": "stream",
     "text": [
      "New best model found: pAUC = 0.155515 (previous best: 0.151792)\n",
      "Epoch 3: Train pAUC: 0.064603 - Val pAUC: 0.155515 | Train Loss: 5.487322 - Val Loss: 7.052174\n",
      "\n"
     ]
    },
    {
     "name": "stderr",
     "output_type": "stream",
     "text": [
      "Epoch 4: 100%|██████████| 205/205 [02:10<00:00,  1.58it/s, train_loss=0.169]\n",
      "Epoch 4: 100%|██████████| 27/27 [00:11<00:00,  2.27it/s, val_loss=0.115]\n"
     ]
    },
    {
     "name": "stdout",
     "output_type": "stream",
     "text": [
      "New best model found: pAUC = 0.164800 (previous best: 0.155515)\n",
      "Epoch 4: Train pAUC: 0.066942 - Val pAUC: 0.164800 | Train Loss: 5.411505 - Val Loss: 7.236675\n",
      "\n"
     ]
    },
    {
     "name": "stderr",
     "output_type": "stream",
     "text": [
      "Epoch 5: 100%|██████████| 205/205 [02:10<00:00,  1.57it/s, train_loss=0.163]\n",
      "Epoch 5: 100%|██████████| 27/27 [00:11<00:00,  2.27it/s, val_loss=0.107]\n"
     ]
    },
    {
     "name": "stdout",
     "output_type": "stream",
     "text": [
      "Epoch 5: Train pAUC: 0.076366 - Val pAUC: 0.153544 | Train Loss: 5.215669 - Val Loss: 6.720627\n",
      "\n"
     ]
    },
    {
     "name": "stderr",
     "output_type": "stream",
     "text": [
      "Epoch 6: 100%|██████████| 205/205 [02:10<00:00,  1.57it/s, train_loss=0.161]\n",
      "Epoch 6: 100%|██████████| 27/27 [00:11<00:00,  2.25it/s, val_loss=0.108]\n"
     ]
    },
    {
     "name": "stdout",
     "output_type": "stream",
     "text": [
      "Epoch 6: Train pAUC: 0.075691 - Val pAUC: 0.161803 | Train Loss: 5.153454 - Val Loss: 6.819303\n",
      "\n"
     ]
    },
    {
     "name": "stderr",
     "output_type": "stream",
     "text": [
      "Epoch 7: 100%|██████████| 205/205 [02:10<00:00,  1.57it/s, train_loss=0.166]\n",
      "Epoch 7: 100%|██████████| 27/27 [00:11<00:00,  2.26it/s, val_loss=0.103]\n"
     ]
    },
    {
     "name": "stdout",
     "output_type": "stream",
     "text": [
      "New best model found: pAUC = 0.167591 (previous best: 0.164800)\n",
      "Epoch 7: Train pAUC: 0.070005 - Val pAUC: 0.167591 | Train Loss: 5.293028 - Val Loss: 6.514255\n",
      "\n"
     ]
    },
    {
     "name": "stderr",
     "output_type": "stream",
     "text": [
      "Epoch 8: 100%|██████████| 205/205 [02:10<00:00,  1.57it/s, train_loss=0.159]\n",
      "Epoch 8: 100%|██████████| 27/27 [00:12<00:00,  2.22it/s, val_loss=0.0978]\n"
     ]
    },
    {
     "name": "stdout",
     "output_type": "stream",
     "text": [
      "Epoch 8: Train pAUC: 0.080590 - Val pAUC: 0.163644 | Train Loss: 5.071997 - Val Loss: 6.166469\n",
      "\n"
     ]
    },
    {
     "name": "stderr",
     "output_type": "stream",
     "text": [
      "Epoch 9: 100%|██████████| 205/205 [02:10<00:00,  1.58it/s, train_loss=0.159]\n",
      "Epoch 9: 100%|██████████| 27/27 [00:11<00:00,  2.25it/s, val_loss=0.102]\n"
     ]
    },
    {
     "name": "stdout",
     "output_type": "stream",
     "text": [
      "Epoch 9: Train pAUC: 0.085953 - Val pAUC: 0.161750 | Train Loss: 5.079486 - Val Loss: 6.410566\n",
      "\n"
     ]
    },
    {
     "name": "stderr",
     "output_type": "stream",
     "text": [
      "Epoch 10: 100%|██████████| 205/205 [02:10<00:00,  1.57it/s, train_loss=0.159]\n",
      "Epoch 10: 100%|██████████| 27/27 [00:12<00:00,  2.24it/s, val_loss=0.102]\n"
     ]
    },
    {
     "name": "stdout",
     "output_type": "stream",
     "text": [
      "Epoch 10: Train pAUC: 0.078680 - Val pAUC: 0.160346 | Train Loss: 5.088330 - Val Loss: 6.448965\n",
      "\n"
     ]
    },
    {
     "name": "stderr",
     "output_type": "stream",
     "text": [
      "Epoch 11: 100%|██████████| 205/205 [02:10<00:00,  1.57it/s, train_loss=0.154]\n",
      "Epoch 11: 100%|██████████| 27/27 [00:11<00:00,  2.25it/s, val_loss=0.096]\n"
     ]
    },
    {
     "name": "stdout",
     "output_type": "stream",
     "text": [
      "Epoch 11: Train pAUC: 0.078634 - Val pAUC: 0.165902 | Train Loss: 4.910035 - Val Loss: 6.052072\n",
      "\n"
     ]
    },
    {
     "name": "stderr",
     "output_type": "stream",
     "text": [
      "Epoch 12: 100%|██████████| 205/205 [02:10<00:00,  1.57it/s, train_loss=0.15]\n",
      "Epoch 12: 100%|██████████| 27/27 [00:12<00:00,  2.24it/s, val_loss=0.0991]\n"
     ]
    },
    {
     "name": "stdout",
     "output_type": "stream",
     "text": [
      "Epoch 12: Train pAUC: 0.083110 - Val pAUC: 0.162814 | Train Loss: 4.786197 - Val Loss: 6.251927\n",
      "\n"
     ]
    },
    {
     "name": "stderr",
     "output_type": "stream",
     "text": [
      "Epoch 13: 100%|██████████| 205/205 [02:10<00:00,  1.57it/s, train_loss=0.158]\n",
      "Epoch 13: 100%|██████████| 27/27 [00:11<00:00,  2.25it/s, val_loss=0.0938]\n"
     ]
    },
    {
     "name": "stdout",
     "output_type": "stream",
     "text": [
      "Epoch 13: Train pAUC: 0.078750 - Val pAUC: 0.166314 | Train Loss: 5.058102 - Val Loss: 5.915853\n",
      "\n"
     ]
    },
    {
     "name": "stderr",
     "output_type": "stream",
     "text": [
      "Epoch 14: 100%|██████████| 205/205 [02:10<00:00,  1.57it/s, train_loss=0.147]\n",
      "Epoch 14: 100%|██████████| 27/27 [00:12<00:00,  2.24it/s, val_loss=0.0946]\n"
     ]
    },
    {
     "name": "stdout",
     "output_type": "stream",
     "text": [
      "New best model found: pAUC = 0.169933 (previous best: 0.167591)\n",
      "Epoch 14: Train pAUC: 0.086968 - Val pAUC: 0.169933 | Train Loss: 4.700097 - Val Loss: 5.968351\n",
      "\n"
     ]
    },
    {
     "name": "stderr",
     "output_type": "stream",
     "text": [
      "Epoch 15: 100%|██████████| 205/205 [02:10<00:00,  1.57it/s, train_loss=0.151]\n",
      "Epoch 15: 100%|██████████| 27/27 [00:11<00:00,  2.25it/s, val_loss=0.103]\n"
     ]
    },
    {
     "name": "stdout",
     "output_type": "stream",
     "text": [
      "New best model found: pAUC = 0.170919 (previous best: 0.169933)\n",
      "Epoch 15: Train pAUC: 0.087008 - Val pAUC: 0.170919 | Train Loss: 4.834247 - Val Loss: 6.482757\n",
      "\n"
     ]
    },
    {
     "name": "stderr",
     "output_type": "stream",
     "text": [
      "Epoch 16: 100%|██████████| 205/205 [02:10<00:00,  1.57it/s, train_loss=0.147]\n",
      "Epoch 16: 100%|██████████| 27/27 [00:12<00:00,  2.19it/s, val_loss=0.101]\n"
     ]
    },
    {
     "name": "stdout",
     "output_type": "stream",
     "text": [
      "Epoch 16: Train pAUC: 0.087959 - Val pAUC: 0.169228 | Train Loss: 4.700362 - Val Loss: 6.390819\n",
      "\n"
     ]
    },
    {
     "name": "stderr",
     "output_type": "stream",
     "text": [
      "Epoch 17: 100%|██████████| 205/205 [02:10<00:00,  1.57it/s, train_loss=0.15]\n",
      "Epoch 17: 100%|██████████| 27/27 [00:11<00:00,  2.25it/s, val_loss=0.109]\n"
     ]
    },
    {
     "name": "stdout",
     "output_type": "stream",
     "text": [
      "New best model found: pAUC = 0.171427 (previous best: 0.170919)\n",
      "Epoch 17: Train pAUC: 0.083992 - Val pAUC: 0.171427 | Train Loss: 4.788092 - Val Loss: 6.871166\n",
      "\n"
     ]
    },
    {
     "name": "stderr",
     "output_type": "stream",
     "text": [
      "Epoch 18: 100%|██████████| 205/205 [02:10<00:00,  1.57it/s, train_loss=0.142]\n",
      "Epoch 18: 100%|██████████| 27/27 [00:12<00:00,  2.25it/s, val_loss=0.124]\n"
     ]
    },
    {
     "name": "stdout",
     "output_type": "stream",
     "text": [
      "Epoch 18: Train pAUC: 0.093346 - Val pAUC: 0.165972 | Train Loss: 4.544161 - Val Loss: 7.830315\n",
      "\n"
     ]
    },
    {
     "name": "stderr",
     "output_type": "stream",
     "text": [
      "Epoch 19: 100%|██████████| 205/205 [02:10<00:00,  1.57it/s, train_loss=0.146]\n",
      "Epoch 19: 100%|██████████| 27/27 [00:11<00:00,  2.25it/s, val_loss=0.104]\n"
     ]
    },
    {
     "name": "stdout",
     "output_type": "stream",
     "text": [
      "Epoch 19: Train pAUC: 0.084389 - Val pAUC: 0.163007 | Train Loss: 4.662353 - Val Loss: 6.575971\n",
      "\n"
     ]
    },
    {
     "name": "stderr",
     "output_type": "stream",
     "text": [
      "Epoch 20: 100%|██████████| 205/205 [02:10<00:00,  1.57it/s, train_loss=0.143]\n",
      "Epoch 20: 100%|██████████| 27/27 [00:11<00:00,  2.26it/s, val_loss=0.124]\n"
     ]
    },
    {
     "name": "stdout",
     "output_type": "stream",
     "text": [
      "Epoch 20: Train pAUC: 0.090291 - Val pAUC: 0.156230 | Train Loss: 4.562014 - Val Loss: 7.805031\n",
      "\n"
     ]
    },
    {
     "name": "stderr",
     "output_type": "stream",
     "text": [
      "Epoch 21: 100%|██████████| 205/205 [02:10<00:00,  1.58it/s, train_loss=0.146]\n",
      "Epoch 21: 100%|██████████| 27/27 [00:11<00:00,  2.27it/s, val_loss=0.122]\n"
     ]
    },
    {
     "name": "stdout",
     "output_type": "stream",
     "text": [
      "Epoch 21: Train pAUC: 0.092608 - Val pAUC: 0.155721 | Train Loss: 4.653921 - Val Loss: 7.667799\n",
      "\n"
     ]
    },
    {
     "name": "stderr",
     "output_type": "stream",
     "text": [
      "Epoch 22: 100%|██████████| 205/205 [02:10<00:00,  1.58it/s, train_loss=0.137]\n",
      "Epoch 22: 100%|██████████| 27/27 [00:11<00:00,  2.26it/s, val_loss=0.12]\n"
     ]
    },
    {
     "name": "stdout",
     "output_type": "stream",
     "text": [
      "Epoch 22: Train pAUC: 0.091695 - Val pAUC: 0.158722 | Train Loss: 4.376350 - Val Loss: 7.560930\n",
      "\n"
     ]
    },
    {
     "name": "stderr",
     "output_type": "stream",
     "text": [
      "Epoch 23: 100%|██████████| 205/205 [02:10<00:00,  1.58it/s, train_loss=0.143]\n",
      "Epoch 23: 100%|██████████| 27/27 [00:11<00:00,  2.26it/s, val_loss=0.12]\n"
     ]
    },
    {
     "name": "stdout",
     "output_type": "stream",
     "text": [
      "Epoch 23: Train pAUC: 0.092127 - Val pAUC: 0.157969 | Train Loss: 4.576032 - Val Loss: 7.547040\n",
      "\n"
     ]
    },
    {
     "name": "stderr",
     "output_type": "stream",
     "text": [
      "Epoch 24: 100%|██████████| 205/205 [02:10<00:00,  1.57it/s, train_loss=0.14]\n",
      "Epoch 24: 100%|██████████| 27/27 [00:12<00:00,  2.25it/s, val_loss=0.129]\n"
     ]
    },
    {
     "name": "stdout",
     "output_type": "stream",
     "text": [
      "Epoch 24: Train pAUC: 0.089725 - Val pAUC: 0.153003 | Train Loss: 4.465740 - Val Loss: 8.148419\n",
      "\n"
     ]
    },
    {
     "name": "stderr",
     "output_type": "stream",
     "text": [
      "Epoch 25: 100%|██████████| 205/205 [02:10<00:00,  1.57it/s, train_loss=0.14]\n",
      "Epoch 25: 100%|██████████| 27/27 [00:12<00:00,  2.23it/s, val_loss=0.118]\n"
     ]
    },
    {
     "name": "stdout",
     "output_type": "stream",
     "text": [
      "Epoch 25: Train pAUC: 0.088946 - Val pAUC: 0.155367 | Train Loss: 4.488894 - Val Loss: 7.421841\n",
      "\n"
     ]
    },
    {
     "name": "stderr",
     "output_type": "stream",
     "text": [
      "Epoch 26: 100%|██████████| 205/205 [02:10<00:00,  1.57it/s, train_loss=0.136]\n",
      "Epoch 26: 100%|██████████| 27/27 [00:11<00:00,  2.26it/s, val_loss=0.115]\n"
     ]
    },
    {
     "name": "stdout",
     "output_type": "stream",
     "text": [
      "Epoch 26: Train pAUC: 0.092737 - Val pAUC: 0.165021 | Train Loss: 4.360918 - Val Loss: 7.230713\n",
      "\n"
     ]
    },
    {
     "name": "stderr",
     "output_type": "stream",
     "text": [
      "Epoch 27: 100%|██████████| 205/205 [02:10<00:00,  1.57it/s, train_loss=0.139]\n",
      "Epoch 27: 100%|██████████| 27/27 [00:11<00:00,  2.26it/s, val_loss=0.133]\n"
     ]
    },
    {
     "name": "stdout",
     "output_type": "stream",
     "text": [
      "Early stopping triggered at epoch 27. Best pAUC = 0.171427\n",
      "Epoch 27: Train pAUC: 0.096394 - Val pAUC: 0.161150 | Train Loss: 4.455485 - Val Loss: 8.379142\n",
      "\n"
     ]
    },
    {
     "name": "stderr",
     "output_type": "stream",
     "text": [
      "Prediction: 100%|██████████| 1167/1167 [08:18<00:00,  2.34it/s]\n"
     ]
    },
    {
     "name": "stdout",
     "output_type": "stream",
     "text": [
      "---------------------------------- Fold 4 ----------------------------------\n",
      "\n",
      "\n",
      "---------------------------------- Fold 5 ----------------------------------\n"
     ]
    },
    {
     "name": "stderr",
     "output_type": "stream",
     "text": [
      "Epoch 1: 100%|██████████| 201/201 [02:07<00:00,  1.57it/s, train_loss=0.183]\n",
      "Epoch 1: 100%|██████████| 29/29 [00:12<00:00,  2.25it/s, val_loss=0.185]\n"
     ]
    },
    {
     "name": "stdout",
     "output_type": "stream",
     "text": [
      "Epoch 1: Train pAUC: 0.039658 - Val pAUC: 0.099954 | Train Loss: 5.863972 - Val Loss: 11.665500\n",
      "\n"
     ]
    },
    {
     "name": "stderr",
     "output_type": "stream",
     "text": [
      "Epoch 2: 100%|██████████| 201/201 [02:07<00:00,  1.57it/s, train_loss=0.165]\n",
      "Epoch 2: 100%|██████████| 29/29 [00:12<00:00,  2.27it/s, val_loss=0.2]\n"
     ]
    },
    {
     "name": "stdout",
     "output_type": "stream",
     "text": [
      "New best model found: pAUC = 0.122897 (previous best: 0.099954)\n",
      "Epoch 2: Train pAUC: 0.054463 - Val pAUC: 0.122897 | Train Loss: 5.262797 - Val Loss: 12.605314\n",
      "\n"
     ]
    },
    {
     "name": "stderr",
     "output_type": "stream",
     "text": [
      "Epoch 3: 100%|██████████| 201/201 [02:07<00:00,  1.57it/s, train_loss=0.157]\n",
      "Epoch 3: 100%|██████████| 29/29 [00:12<00:00,  2.26it/s, val_loss=0.161]\n"
     ]
    },
    {
     "name": "stdout",
     "output_type": "stream",
     "text": [
      "New best model found: pAUC = 0.135732 (previous best: 0.122897)\n",
      "Epoch 3: Train pAUC: 0.072143 - Val pAUC: 0.135732 | Train Loss: 5.014017 - Val Loss: 10.135005\n",
      "\n"
     ]
    },
    {
     "name": "stderr",
     "output_type": "stream",
     "text": [
      "Epoch 4: 100%|██████████| 201/201 [02:07<00:00,  1.57it/s, train_loss=0.155]\n",
      "Epoch 4: 100%|██████████| 29/29 [00:12<00:00,  2.27it/s, val_loss=0.156]\n"
     ]
    },
    {
     "name": "stdout",
     "output_type": "stream",
     "text": [
      "New best model found: pAUC = 0.137749 (previous best: 0.135732)\n",
      "Epoch 4: Train pAUC: 0.068815 - Val pAUC: 0.137749 | Train Loss: 4.969202 - Val Loss: 9.820139\n",
      "\n"
     ]
    },
    {
     "name": "stderr",
     "output_type": "stream",
     "text": [
      "Epoch 5: 100%|██████████| 201/201 [02:07<00:00,  1.57it/s, train_loss=0.152]\n",
      "Epoch 5: 100%|██████████| 29/29 [00:12<00:00,  2.25it/s, val_loss=0.143]\n"
     ]
    },
    {
     "name": "stdout",
     "output_type": "stream",
     "text": [
      "New best model found: pAUC = 0.149355 (previous best: 0.137749)\n",
      "Epoch 5: Train pAUC: 0.076832 - Val pAUC: 0.149355 | Train Loss: 4.846383 - Val Loss: 9.022206\n",
      "\n"
     ]
    },
    {
     "name": "stderr",
     "output_type": "stream",
     "text": [
      "Epoch 6: 100%|██████████| 201/201 [02:07<00:00,  1.58it/s, train_loss=0.146]\n",
      "Epoch 6: 100%|██████████| 29/29 [00:12<00:00,  2.26it/s, val_loss=0.145]\n"
     ]
    },
    {
     "name": "stdout",
     "output_type": "stream",
     "text": [
      "New best model found: pAUC = 0.149665 (previous best: 0.149355)\n",
      "Epoch 6: Train pAUC: 0.077373 - Val pAUC: 0.149665 | Train Loss: 4.663710 - Val Loss: 9.104932\n",
      "\n"
     ]
    },
    {
     "name": "stderr",
     "output_type": "stream",
     "text": [
      "Epoch 7: 100%|██████████| 201/201 [02:07<00:00,  1.57it/s, train_loss=0.147]\n",
      "Epoch 7: 100%|██████████| 29/29 [00:12<00:00,  2.25it/s, val_loss=0.181]\n"
     ]
    },
    {
     "name": "stdout",
     "output_type": "stream",
     "text": [
      "Epoch 7: Train pAUC: 0.083142 - Val pAUC: 0.144433 | Train Loss: 4.714370 - Val Loss: 11.388302\n",
      "\n"
     ]
    },
    {
     "name": "stderr",
     "output_type": "stream",
     "text": [
      "Epoch 8: 100%|██████████| 201/201 [02:07<00:00,  1.57it/s, train_loss=0.147]\n",
      "Epoch 8: 100%|██████████| 29/29 [00:12<00:00,  2.27it/s, val_loss=0.186]\n"
     ]
    },
    {
     "name": "stdout",
     "output_type": "stream",
     "text": [
      "Epoch 8: Train pAUC: 0.084354 - Val pAUC: 0.137139 | Train Loss: 4.708186 - Val Loss: 11.713613\n",
      "\n"
     ]
    },
    {
     "name": "stderr",
     "output_type": "stream",
     "text": [
      "Epoch 9: 100%|██████████| 201/201 [02:07<00:00,  1.57it/s, train_loss=0.144]\n",
      "Epoch 9: 100%|██████████| 29/29 [00:12<00:00,  2.27it/s, val_loss=0.142]\n"
     ]
    },
    {
     "name": "stdout",
     "output_type": "stream",
     "text": [
      "New best model found: pAUC = 0.150335 (previous best: 0.149665)\n",
      "Epoch 9: Train pAUC: 0.086603 - Val pAUC: 0.150335 | Train Loss: 4.619656 - Val Loss: 8.936657\n",
      "\n"
     ]
    },
    {
     "name": "stderr",
     "output_type": "stream",
     "text": [
      "Epoch 10: 100%|██████████| 201/201 [02:07<00:00,  1.58it/s, train_loss=0.146]\n",
      "Epoch 10: 100%|██████████| 29/29 [00:12<00:00,  2.27it/s, val_loss=0.168]\n"
     ]
    },
    {
     "name": "stdout",
     "output_type": "stream",
     "text": [
      "New best model found: pAUC = 0.151869 (previous best: 0.150335)\n",
      "Epoch 10: Train pAUC: 0.079355 - Val pAUC: 0.151869 | Train Loss: 4.677422 - Val Loss: 10.602193\n",
      "\n"
     ]
    },
    {
     "name": "stderr",
     "output_type": "stream",
     "text": [
      "Epoch 11: 100%|██████████| 201/201 [02:07<00:00,  1.58it/s, train_loss=0.144]\n",
      "Epoch 11: 100%|██████████| 29/29 [00:12<00:00,  2.27it/s, val_loss=0.147]\n"
     ]
    },
    {
     "name": "stdout",
     "output_type": "stream",
     "text": [
      "Epoch 11: Train pAUC: 0.079291 - Val pAUC: 0.149446 | Train Loss: 4.596367 - Val Loss: 9.237092\n",
      "\n"
     ]
    },
    {
     "name": "stderr",
     "output_type": "stream",
     "text": [
      "Epoch 12: 100%|██████████| 201/201 [02:07<00:00,  1.57it/s, train_loss=0.147]\n",
      "Epoch 12: 100%|██████████| 29/29 [00:12<00:00,  2.27it/s, val_loss=0.147]\n"
     ]
    },
    {
     "name": "stdout",
     "output_type": "stream",
     "text": [
      "Epoch 12: Train pAUC: 0.075073 - Val pAUC: 0.151229 | Train Loss: 4.703992 - Val Loss: 9.251919\n",
      "\n"
     ]
    },
    {
     "name": "stderr",
     "output_type": "stream",
     "text": [
      "Epoch 13: 100%|██████████| 201/201 [02:07<00:00,  1.58it/s, train_loss=0.144]\n",
      "Epoch 13: 100%|██████████| 29/29 [00:12<00:00,  2.28it/s, val_loss=0.145]\n"
     ]
    },
    {
     "name": "stdout",
     "output_type": "stream",
     "text": [
      "Epoch 13: Train pAUC: 0.087195 - Val pAUC: 0.151397 | Train Loss: 4.606170 - Val Loss: 9.128705\n",
      "\n"
     ]
    },
    {
     "name": "stderr",
     "output_type": "stream",
     "text": [
      "Epoch 14: 100%|██████████| 201/201 [02:07<00:00,  1.57it/s, train_loss=0.138]\n",
      "Epoch 14: 100%|██████████| 29/29 [00:12<00:00,  2.27it/s, val_loss=0.169]\n"
     ]
    },
    {
     "name": "stdout",
     "output_type": "stream",
     "text": [
      "New best model found: pAUC = 0.152159 (previous best: 0.151869)\n",
      "Epoch 14: Train pAUC: 0.084174 - Val pAUC: 0.152159 | Train Loss: 4.413708 - Val Loss: 10.659792\n",
      "\n"
     ]
    },
    {
     "name": "stderr",
     "output_type": "stream",
     "text": [
      "Epoch 15: 100%|██████████| 201/201 [02:07<00:00,  1.57it/s, train_loss=0.134]\n",
      "Epoch 15: 100%|██████████| 29/29 [00:12<00:00,  2.27it/s, val_loss=0.168]\n"
     ]
    },
    {
     "name": "stdout",
     "output_type": "stream",
     "text": [
      "New best model found: pAUC = 0.156126 (previous best: 0.152159)\n",
      "Epoch 15: Train pAUC: 0.084883 - Val pAUC: 0.156126 | Train Loss: 4.297807 - Val Loss: 10.565114\n",
      "\n"
     ]
    },
    {
     "name": "stderr",
     "output_type": "stream",
     "text": [
      "Epoch 16: 100%|██████████| 201/201 [02:07<00:00,  1.57it/s, train_loss=0.134]\n",
      "Epoch 16: 100%|██████████| 29/29 [00:12<00:00,  2.27it/s, val_loss=0.161]\n"
     ]
    },
    {
     "name": "stdout",
     "output_type": "stream",
     "text": [
      "Epoch 16: Train pAUC: 0.087469 - Val pAUC: 0.142518 | Train Loss: 4.291288 - Val Loss: 10.172794\n",
      "\n"
     ]
    },
    {
     "name": "stderr",
     "output_type": "stream",
     "text": [
      "Epoch 17: 100%|██████████| 201/201 [02:07<00:00,  1.58it/s, train_loss=0.133]\n",
      "Epoch 17: 100%|██████████| 29/29 [00:12<00:00,  2.27it/s, val_loss=0.158]\n"
     ]
    },
    {
     "name": "stdout",
     "output_type": "stream",
     "text": [
      "Epoch 17: Train pAUC: 0.088370 - Val pAUC: 0.127489 | Train Loss: 4.243684 - Val Loss: 9.938981\n",
      "\n"
     ]
    },
    {
     "name": "stderr",
     "output_type": "stream",
     "text": [
      "Epoch 18: 100%|██████████| 201/201 [02:07<00:00,  1.58it/s, train_loss=0.144]\n",
      "Epoch 18: 100%|██████████| 29/29 [00:12<00:00,  2.27it/s, val_loss=0.148]\n"
     ]
    },
    {
     "name": "stdout",
     "output_type": "stream",
     "text": [
      "Epoch 18: Train pAUC: 0.081053 - Val pAUC: 0.149457 | Train Loss: 4.590063 - Val Loss: 9.305934\n",
      "\n"
     ]
    },
    {
     "name": "stderr",
     "output_type": "stream",
     "text": [
      "Epoch 19: 100%|██████████| 201/201 [02:07<00:00,  1.57it/s, train_loss=0.134]\n",
      "Epoch 19: 100%|██████████| 29/29 [00:12<00:00,  2.27it/s, val_loss=0.157]\n"
     ]
    },
    {
     "name": "stdout",
     "output_type": "stream",
     "text": [
      "Epoch 19: Train pAUC: 0.085942 - Val pAUC: 0.140822 | Train Loss: 4.297351 - Val Loss: 9.896558\n",
      "\n"
     ]
    },
    {
     "name": "stderr",
     "output_type": "stream",
     "text": [
      "Epoch 20: 100%|██████████| 201/201 [02:07<00:00,  1.57it/s, train_loss=0.128]\n",
      "Epoch 20: 100%|██████████| 29/29 [00:12<00:00,  2.27it/s, val_loss=0.151]\n"
     ]
    },
    {
     "name": "stdout",
     "output_type": "stream",
     "text": [
      "Epoch 20: Train pAUC: 0.090858 - Val pAUC: 0.139384 | Train Loss: 4.096792 - Val Loss: 9.527215\n",
      "\n"
     ]
    },
    {
     "name": "stderr",
     "output_type": "stream",
     "text": [
      "Epoch 21: 100%|██████████| 201/201 [02:07<00:00,  1.58it/s, train_loss=0.136]\n",
      "Epoch 21: 100%|██████████| 29/29 [00:12<00:00,  2.27it/s, val_loss=0.152]\n"
     ]
    },
    {
     "name": "stdout",
     "output_type": "stream",
     "text": [
      "Epoch 21: Train pAUC: 0.089360 - Val pAUC: 0.143367 | Train Loss: 4.361326 - Val Loss: 9.586643\n",
      "\n"
     ]
    },
    {
     "name": "stderr",
     "output_type": "stream",
     "text": [
      "Epoch 22: 100%|██████████| 201/201 [02:07<00:00,  1.58it/s, train_loss=0.131]\n",
      "Epoch 22: 100%|██████████| 29/29 [00:12<00:00,  2.27it/s, val_loss=0.17]\n"
     ]
    },
    {
     "name": "stdout",
     "output_type": "stream",
     "text": [
      "Epoch 22: Train pAUC: 0.089874 - Val pAUC: 0.150015 | Train Loss: 4.200122 - Val Loss: 10.684946\n",
      "\n"
     ]
    },
    {
     "name": "stderr",
     "output_type": "stream",
     "text": [
      "Epoch 23: 100%|██████████| 201/201 [02:07<00:00,  1.58it/s, train_loss=0.13]\n",
      "Epoch 23: 100%|██████████| 29/29 [00:12<00:00,  2.27it/s, val_loss=0.159]\n"
     ]
    },
    {
     "name": "stdout",
     "output_type": "stream",
     "text": [
      "Epoch 23: Train pAUC: 0.093681 - Val pAUC: 0.148370 | Train Loss: 4.170347 - Val Loss: 10.024994\n",
      "\n"
     ]
    },
    {
     "name": "stderr",
     "output_type": "stream",
     "text": [
      "Epoch 24: 100%|██████████| 201/201 [02:07<00:00,  1.57it/s, train_loss=0.133]\n",
      "Epoch 24: 100%|██████████| 29/29 [00:12<00:00,  2.26it/s, val_loss=0.166]\n"
     ]
    },
    {
     "name": "stdout",
     "output_type": "stream",
     "text": [
      "Epoch 24: Train pAUC: 0.088025 - Val pAUC: 0.152138 | Train Loss: 4.254626 - Val Loss: 10.452486\n",
      "\n"
     ]
    },
    {
     "name": "stderr",
     "output_type": "stream",
     "text": [
      "Epoch 25: 100%|██████████| 201/201 [02:07<00:00,  1.57it/s, train_loss=0.127]\n",
      "Epoch 25: 100%|██████████| 29/29 [00:12<00:00,  2.27it/s, val_loss=0.153]\n"
     ]
    },
    {
     "name": "stdout",
     "output_type": "stream",
     "text": [
      "Early stopping triggered at epoch 25. Best pAUC = 0.156126\n",
      "Epoch 25: Train pAUC: 0.085073 - Val pAUC: 0.143107 | Train Loss: 4.059456 - Val Loss: 9.658798\n",
      "\n"
     ]
    },
    {
     "name": "stderr",
     "output_type": "stream",
     "text": [
      "Prediction: 100%|██████████| 1389/1389 [09:53<00:00,  2.34it/s]\n"
     ]
    },
    {
     "name": "stdout",
     "output_type": "stream",
     "text": [
      "---------------------------------- Fold 5 ----------------------------------\n",
      "\n",
      "\n"
     ]
    }
   ],
   "source": [
    "histories = {}\n",
    "oof_pred_probs_df = []\n",
    "\n",
    "for fold_idx in range(CFG.n_folds):\n",
    "    print(f'---------------------------------- Fold {fold_idx + 1} ----------------------------------')\n",
    "\n",
    "    _train = train_metadata[train_metadata['fold'] != fold_idx]\n",
    "    train_dataset = ISICDataset(CFG.train_img_path, _train, transforms['train'])\n",
    "    train_dataloader = DataLoader(train_dataset, batch_size=CFG.train_batch_size, shuffle=True,  num_workers=4)\n",
    "\n",
    "    _val = train_metadata[train_metadata['fold'] == fold_idx]\n",
    "    val_dataset = ISICDataset(CFG.train_img_path, _val, transforms['val'])\n",
    "    val_dataloader = DataLoader(val_dataset, batch_size=CFG.val_batch_size, shuffle=False, num_workers=4)\n",
    "\n",
    "    _val2 = train_metadata2[train_metadata2['fold'] == fold_idx]\n",
    "    val_dataset2 = ISICDataset(CFG.train_img_path, _val2, transforms['val'])\n",
    "    val_dataloader2 = DataLoader(val_dataset2, batch_size=CFG.val_batch_size, shuffle=False, num_workers=4)\n",
    "\n",
    "    model = SwinTransformer(CFG.model_name).to(CFG.device)\n",
    "    criterion = nn.CrossEntropyLoss()\n",
    "    optimizer = optim.Adam(model.parameters(), lr=CFG.learning_rate)\n",
    "    t_max = len(train_dataloader) * CFG.max_epochs\n",
    "    scheduler = optim.lr_scheduler.CosineAnnealingLR(optimizer, T_max=t_max, eta_min=1e-10)\n",
    "\n",
    "    trainer = Trainer(\n",
    "        device=CFG.device,\n",
    "        model=model,\n",
    "        criterion=criterion,\n",
    "        optimizer=optimizer,\n",
    "        scheduler=scheduler,\n",
    "        train_dataloader=train_dataloader,\n",
    "        val_dataloader=val_dataloader,\n",
    "        checkpoint_path=CFG.checkpoint_path,\n",
    "        fold_idx=fold_idx,\n",
    "        es_patience=CFG.es_patience\n",
    "    )\n",
    "\n",
    "    history = {\n",
    "        'epoch': [],\n",
    "        'train_pauc': [],\n",
    "        'train_loss': [],\n",
    "        'val_pauc': [],\n",
    "        'val_loss': []\n",
    "    }\n",
    "    for epoch in range(1, CFG.max_epochs + 1):\n",
    "        train_pauc, train_loss = trainer.train(current_epoch_nr=epoch)\n",
    "        val_pauc, val_loss, es_triggered = trainer.evaluate(current_epoch_nr=epoch)\n",
    "\n",
    "        print(f\"Epoch {epoch}: Train pAUC: {train_pauc:.6f} - Val pAUC: {val_pauc:.6f} | Train Loss: {train_loss:.6f} - Val Loss: {val_loss:.6f}\\n\")\n",
    "\n",
    "        history['epoch'].append(epoch)\n",
    "        history['train_pauc'].append(train_pauc)\n",
    "        history['train_loss'].append(train_loss)\n",
    "        history['val_pauc'].append(val_pauc)\n",
    "        history['val_loss'].append(val_loss)\n",
    "\n",
    "        if es_triggered:\n",
    "            break\n",
    "\n",
    "    histories[f'Fold {fold_idx + 1}'] = history\n",
    "\n",
    "    pred_probs = trainer.predict(val_dataloader2)\n",
    "    cols = ['p0', 'p1']\n",
    "    _val2[cols] = pred_probs\n",
    "    oof_pred_probs_df.append(_val2)\n",
    "\n",
    "    del _train, _val, train_dataset, val_dataset, model, criterion, optimizer, scheduler, trainer\n",
    "    gc.collect()\n",
    "    torch.cuda.empty_cache()\n",
    "\n",
    "    print(f'---------------------------------- Fold {fold_idx + 1} ----------------------------------\\n\\n')"
   ]
  },
  {
   "cell_type": "code",
   "execution_count": 12,
   "id": "b61efcbd",
   "metadata": {
    "execution": {
     "iopub.execute_input": "2024-08-17T23:09:48.098154Z",
     "iopub.status.busy": "2024-08-17T23:09:48.097296Z",
     "iopub.status.idle": "2024-08-17T23:09:50.221890Z",
     "shell.execute_reply": "2024-08-17T23:09:50.220976Z"
    },
    "id": "jNqTO4uvCZwF",
    "papermill": {
     "duration": 10.93054,
     "end_time": "2024-08-17T23:09:50.224046",
     "exception": false,
     "start_time": "2024-08-17T23:09:39.293506",
     "status": "completed"
    },
    "tags": []
   },
   "outputs": [
    {
     "data": {
      "text/html": [
       "<div>\n",
       "<style scoped>\n",
       "    .dataframe tbody tr th:only-of-type {\n",
       "        vertical-align: middle;\n",
       "    }\n",
       "\n",
       "    .dataframe tbody tr th {\n",
       "        vertical-align: top;\n",
       "    }\n",
       "\n",
       "    .dataframe thead th {\n",
       "        text-align: right;\n",
       "    }\n",
       "</style>\n",
       "<table border=\"1\" class=\"dataframe\">\n",
       "  <thead>\n",
       "    <tr style=\"text-align: right;\">\n",
       "      <th></th>\n",
       "      <th>isic_id</th>\n",
       "      <th>fold</th>\n",
       "      <th>target</th>\n",
       "      <th>p0</th>\n",
       "      <th>p1</th>\n",
       "    </tr>\n",
       "  </thead>\n",
       "  <tbody>\n",
       "    <tr>\n",
       "      <th>10</th>\n",
       "      <td>ISIC_0051812</td>\n",
       "      <td>0.0</td>\n",
       "      <td>0</td>\n",
       "      <td>0.999469</td>\n",
       "      <td>0.000531</td>\n",
       "    </tr>\n",
       "    <tr>\n",
       "      <th>18</th>\n",
       "      <td>ISIC_0052026</td>\n",
       "      <td>0.0</td>\n",
       "      <td>0</td>\n",
       "      <td>0.997517</td>\n",
       "      <td>0.002483</td>\n",
       "    </tr>\n",
       "    <tr>\n",
       "      <th>30</th>\n",
       "      <td>ISIC_0052259</td>\n",
       "      <td>0.0</td>\n",
       "      <td>0</td>\n",
       "      <td>0.997468</td>\n",
       "      <td>0.002532</td>\n",
       "    </tr>\n",
       "    <tr>\n",
       "      <th>32</th>\n",
       "      <td>ISIC_0052310</td>\n",
       "      <td>0.0</td>\n",
       "      <td>0</td>\n",
       "      <td>0.999331</td>\n",
       "      <td>0.000669</td>\n",
       "    </tr>\n",
       "    <tr>\n",
       "      <th>33</th>\n",
       "      <td>ISIC_0052313</td>\n",
       "      <td>0.0</td>\n",
       "      <td>0</td>\n",
       "      <td>0.997589</td>\n",
       "      <td>0.002411</td>\n",
       "    </tr>\n",
       "  </tbody>\n",
       "</table>\n",
       "</div>"
      ],
      "text/plain": [
       "         isic_id  fold  target        p0        p1\n",
       "10  ISIC_0051812   0.0       0  0.999469  0.000531\n",
       "18  ISIC_0052026   0.0       0  0.997517  0.002483\n",
       "30  ISIC_0052259   0.0       0  0.997468  0.002532\n",
       "32  ISIC_0052310   0.0       0  0.999331  0.000669\n",
       "33  ISIC_0052313   0.0       0  0.997589  0.002411"
      ]
     },
     "execution_count": 12,
     "metadata": {},
     "output_type": "execute_result"
    }
   ],
   "source": [
    "oof_pred_probs_df = pd.concat(oof_pred_probs_df)[['isic_id', 'fold', 'target', 'p0', 'p1']]\n",
    "oof_pred_probs_df.to_csv(f'{CFG.model_name}_oof_preds.csv', index=False)\n",
    "oof_pred_probs_df.head()"
   ]
  },
  {
   "cell_type": "markdown",
   "id": "cbc9515d",
   "metadata": {
    "papermill": {
     "duration": 8.742029,
     "end_time": "2024-08-17T23:10:07.599434",
     "exception": false,
     "start_time": "2024-08-17T23:09:58.857405",
     "status": "completed"
    },
    "tags": []
   },
   "source": [
    "# Results"
   ]
  },
  {
   "cell_type": "code",
   "execution_count": 13,
   "id": "8f8e4ea1",
   "metadata": {
    "execution": {
     "iopub.execute_input": "2024-08-17T23:10:25.326562Z",
     "iopub.status.busy": "2024-08-17T23:10:25.325761Z",
     "iopub.status.idle": "2024-08-17T23:10:25.335285Z",
     "shell.execute_reply": "2024-08-17T23:10:25.334588Z"
    },
    "id": "Qkcd2V7W-_GW",
    "papermill": {
     "duration": 8.917936,
     "end_time": "2024-08-17T23:10:25.337211",
     "exception": false,
     "start_time": "2024-08-17T23:10:16.419275",
     "status": "completed"
    },
    "tags": []
   },
   "outputs": [],
   "source": [
    "histories = pd.concat([pd.DataFrame(data).assign(Fold=fold) for fold, data in histories.items()])"
   ]
  },
  {
   "cell_type": "code",
   "execution_count": 14,
   "id": "68baf3dd",
   "metadata": {
    "execution": {
     "iopub.execute_input": "2024-08-17T23:10:42.751967Z",
     "iopub.status.busy": "2024-08-17T23:10:42.751123Z",
     "iopub.status.idle": "2024-08-17T23:10:43.801545Z",
     "shell.execute_reply": "2024-08-17T23:10:43.800593Z"
    },
    "id": "lATwCeDXdsHG",
    "papermill": {
     "duration": 9.840704,
     "end_time": "2024-08-17T23:10:43.804918",
     "exception": false,
     "start_time": "2024-08-17T23:10:33.964214",
     "status": "completed"
    },
    "tags": []
   },
   "outputs": [
    {
     "data": {
      "image/png": "[encoded data removed]",
      "text/plain": [
       "<Figure size 1600x600 with 2 Axes>"
      ]
     },
     "metadata": {},
     "output_type": "display_data"
    }
   ],
   "source": [
    "sns.set(style=\"whitegrid\")\n",
    "\n",
    "fig, axes = plt.subplots(1, 2, figsize=(16, 6))\n",
    "\n",
    "sns.lineplot(x='epoch', y='train_pauc', hue='Fold', data=histories, ax=axes[0])\n",
    "axes[0].set_title('Training pAUC')\n",
    "axes[0].set_xlabel('Epoch')\n",
    "axes[0].set_ylabel('pAUC')\n",
    "axes[0].legend(loc='best')\n",
    "\n",
    "sns.lineplot(x='epoch', y='val_pauc', hue='Fold', data=histories, ax=axes[1])\n",
    "axes[1].set_title('Validation pAUC')\n",
    "axes[1].set_xlabel('Epoch')\n",
    "axes[1].set_ylabel('pAUC')\n",
    "axes[1].legend(loc='best')\n",
    "\n",
    "fig.tight_layout()\n",
    "plt.show()"
   ]
  },
  {
   "cell_type": "code",
   "execution_count": 15,
   "id": "fc2e558f",
   "metadata": {
    "execution": {
     "iopub.execute_input": "2024-08-17T23:11:01.443458Z",
     "iopub.status.busy": "2024-08-17T23:11:01.442633Z",
     "iopub.status.idle": "2024-08-17T23:11:02.436335Z",
     "shell.execute_reply": "2024-08-17T23:11:02.435448Z"
    },
    "id": "iCSgE4wX7NtK",
    "papermill": {
     "duration": 9.778328,
     "end_time": "2024-08-17T23:11:02.439470",
     "exception": false,
     "start_time": "2024-08-17T23:10:52.661142",
     "status": "completed"
    },
    "tags": []
   },
   "outputs": [
    {
     "data": {
      "image/png": "[encoded data removed]",
      "text/plain": [
       "<Figure size 1600x600 with 2 Axes>"
      ]
     },
     "metadata": {},
     "output_type": "display_data"
    }
   ],
   "source": [
    "fig, axes = plt.subplots(1, 2, figsize=(16, 6))\n",
    "\n",
    "sns.lineplot(x='epoch', y='train_loss', hue='Fold', data=histories, ax=axes[0])\n",
    "axes[0].set_title('Training Loss')\n",
    "axes[0].set_xlabel('Epoch')\n",
    "axes[0].set_ylabel('Loss')\n",
    "axes[0].legend(loc='best')\n",
    "\n",
    "sns.lineplot(x='epoch', y='val_loss', hue='Fold', data=histories, ax=axes[1])\n",
    "axes[1].set_title('Validation Loss')\n",
    "axes[1].set_xlabel('Epoch')\n",
    "axes[1].set_ylabel('Loss')\n",
    "axes[1].legend(loc='best')\n",
    "\n",
    "fig.tight_layout()\n",
    "plt.show()"
   ]
  }
 ],
 "metadata": {
  "accelerator": "GPU",
  "colab": {
   "gpuType": "L4",
   "provenance": []
  },
  "kaggle": {
   "accelerator": "gpu",
   "dataSources": [
    {
     "databundleVersionId": 9094797,
     "sourceId": 63056,
     "sourceType": "competition"
    }
   ],
   "dockerImageVersionId": 30747,
   "isGpuEnabled": true,
   "isInternetEnabled": true,
   "language": "python",
   "sourceType": "notebook"
  },
  "kernelspec": {
   "display_name": "Python 3",
   "language": "python",
   "name": "python3"
  },
  "language_info": {
   "codemirror_mode": {
    "name": "ipython",
    "version": 3
   },
   "file_extension": ".py",
   "mimetype": "text/x-python",
   "name": "python",
   "nbconvert_exporter": "python",
   "pygments_lexer": "ipython3",
   "version": "3.10.13"
  },
  "papermill": {
   "default_parameters": {},
   "duration": 21841.00048,
   "end_time": "2024-08-17T23:11:13.548438",
   "environment_variables": {},
   "exception": null,
   "input_path": "__notebook__.ipynb",
   "output_path": "__notebook__.ipynb",
   "parameters": {},
   "start_time": "2024-08-17T17:07:12.547958",
   "version": "2.5.0"
  },
  "widgets": {
   "application/vnd.jupyter.widget-state+json": {
    "state": {
     "0eb4f7ef41be415998ac0306fb0bffa2": {
      "model_module": "@jupyter-widgets/controls",
      "model_module_version": "1.5.0",
      "model_name": "DescriptionStyleModel",
      "state": {
       "_model_module": "@jupyter-widgets/controls",
       "_model_module_version": "1.5.0",
       "_model_name": "DescriptionStyleModel",
       "_view_count": null,
       "_view_module": "@jupyter-widgets/base",
       "_view_module_version": "1.2.0",
       "_view_name": "StyleView",
       "description_width": ""
      }
     },
     "1b002ec31f6f4a7b9d80cd8437b7d62a": {
      "model_module": "@jupyter-widgets/base",
      "model_module_version": "1.2.0",
      "model_name": "LayoutModel",
      "state": {
       "_model_module": "@jupyter-widgets/base",
       "_model_module_version": "1.2.0",
       "_model_name": "LayoutModel",
       "_view_count": null,
       "_view_module": "@jupyter-widgets/base",
       "_view_module_version": "1.2.0",
       "_view_name": "LayoutView",
       "align_content": null,
       "align_items": null,
       "align_self": null,
       "border": null,
       "bottom": null,
       "display": null,
       "flex": null,
       "flex_flow": null,
       "grid_area": null,
       "grid_auto_columns": null,
       "grid_auto_flow": null,
       "grid_auto_rows": null,
       "grid_column": null,
       "grid_gap": null,
       "grid_row": null,
       "grid_template_areas": null,
       "grid_template_columns": null,
       "grid_template_rows": null,
       "height": null,
       "justify_content": null,
       "justify_items": null,
       "left": null,
       "margin": null,
       "max_height": null,
       "max_width": null,
       "min_height": null,
       "min_width": null,
       "object_fit": null,
       "object_position": null,
       "order": null,
       "overflow": null,
       "overflow_x": null,
       "overflow_y": null,
       "padding": null,
       "right": null,
       "top": null,
       "visibility": null,
       "width": null
      }
     },
     "1b5ddc353bfd49e4a5eed6770e8083d4": {
      "model_module": "@jupyter-widgets/controls",
      "model_module_version": "1.5.0",
      "model_name": "FloatProgressModel",
      "state": {
       "_dom_classes": [],
       "_model_module": "@jupyter-widgets/controls",
       "_model_module_version": "1.5.0",
       "_model_name": "FloatProgressModel",
       "_view_count": null,
       "_view_module": "@jupyter-widgets/controls",
       "_view_module_version": "1.5.0",
       "_view_name": "ProgressView",
       "bar_style": "success",
       "description": "",
       "description_tooltip": null,
       "layout": "IPY_MODEL_efcdc3866bab454fa75816035d789156",
       "max": 352685652.0,
       "min": 0.0,
       "orientation": "horizontal",
       "style": "IPY_MODEL_5d6513512cb84f7fb7dd751740bae132",
       "value": 352685652.0
      }
     },
     "5a6434fffded477697c0193b0d81539e": {
      "model_module": "@jupyter-widgets/base",
      "model_module_version": "1.2.0",
      "model_name": "LayoutModel",
      "state": {
       "_model_module": "@jupyter-widgets/base",
       "_model_module_version": "1.2.0",
       "_model_name": "LayoutModel",
       "_view_count": null,
       "_view_module": "@jupyter-widgets/base",
       "_view_module_version": "1.2.0",
       "_view_name": "LayoutView",
       "align_content": null,
       "align_items": null,
       "align_self": null,
       "border": null,
       "bottom": null,
       "display": null,
       "flex": null,
       "flex_flow": null,
       "grid_area": null,
       "grid_auto_columns": null,
       "grid_auto_flow": null,
       "grid_auto_rows": null,
       "grid_column": null,
       "grid_gap": null,
       "grid_row": null,
       "grid_template_areas": null,
       "grid_template_columns": null,
       "grid_template_rows": null,
       "height": null,
       "justify_content": null,
       "justify_items": null,
       "left": null,
       "margin": null,
       "max_height": null,
       "max_width": null,
       "min_height": null,
       "min_width": null,
       "object_fit": null,
       "object_position": null,
       "order": null,
       "overflow": null,
       "overflow_x": null,
       "overflow_y": null,
       "padding": null,
       "right": null,
       "top": null,
       "visibility": null,
       "width": null
      }
     },
     "5d6513512cb84f7fb7dd751740bae132": {
      "model_module": "@jupyter-widgets/controls",
      "model_module_version": "1.5.0",
      "model_name": "ProgressStyleModel",
      "state": {
       "_model_module": "@jupyter-widgets/controls",
       "_model_module_version": "1.5.0",
       "_model_name": "ProgressStyleModel",
       "_view_count": null,
       "_view_module": "@jupyter-widgets/base",
       "_view_module_version": "1.2.0",
       "_view_name": "StyleView",
       "bar_color": null,
       "description_width": ""
      }
     },
     "af82db6445f64280a073138e2dd89736": {
      "model_module": "@jupyter-widgets/controls",
      "model_module_version": "1.5.0",
      "model_name": "DescriptionStyleModel",
      "state": {
       "_model_module": "@jupyter-widgets/controls",
       "_model_module_version": "1.5.0",
       "_model_name": "DescriptionStyleModel",
       "_view_count": null,
       "_view_module": "@jupyter-widgets/base",
       "_view_module_version": "1.2.0",
       "_view_name": "StyleView",
       "description_width": ""
      }
     },
     "b6288e2b4f4e48cea49299c980e6ab6c": {
      "model_module": "@jupyter-widgets/controls",
      "model_module_version": "1.5.0",
      "model_name": "HTMLModel",
      "state": {
       "_dom_classes": [],
       "_model_module": "@jupyter-widgets/controls",
       "_model_module_version": "1.5.0",
       "_model_name": "HTMLModel",
       "_view_count": null,
       "_view_module": "@jupyter-widgets/controls",
       "_view_module_version": "1.5.0",
       "_view_name": "HTMLView",
       "description": "",
       "description_tooltip": null,
       "layout": "IPY_MODEL_5a6434fffded477697c0193b0d81539e",
       "placeholder": "​",
       "style": "IPY_MODEL_af82db6445f64280a073138e2dd89736",
       "value": " 353M/353M [00:08&lt;00:00, 43.1MB/s]"
      }
     },
     "ba11064a3fa845e7a24744443733567e": {
      "model_module": "@jupyter-widgets/controls",
      "model_module_version": "1.5.0",
      "model_name": "HBoxModel",
      "state": {
       "_dom_classes": [],
       "_model_module": "@jupyter-widgets/controls",
       "_model_module_version": "1.5.0",
       "_model_name": "HBoxModel",
       "_view_count": null,
       "_view_module": "@jupyter-widgets/controls",
       "_view_module_version": "1.5.0",
       "_view_name": "HBoxView",
       "box_style": "",
       "children": [
        "IPY_MODEL_d2471a795140453c84c29b90ce624d39",
        "IPY_MODEL_1b5ddc353bfd49e4a5eed6770e8083d4",
        "IPY_MODEL_b6288e2b4f4e48cea49299c980e6ab6c"
       ],
       "layout": "IPY_MODEL_ccbb2ab0ddfa4922916755c122ee1f88"
      }
     },
     "ccbb2ab0ddfa4922916755c122ee1f88": {
      "model_module": "@jupyter-widgets/base",
      "model_module_version": "1.2.0",
      "model_name": "LayoutModel",
      "state": {
       "_model_module": "@jupyter-widgets/base",
       "_model_module_version": "1.2.0",
       "_model_name": "LayoutModel",
       "_view_count": null,
       "_view_module": "@jupyter-widgets/base",
       "_view_module_version": "1.2.0",
       "_view_name": "LayoutView",
       "align_content": null,
       "align_items": null,
       "align_self": null,
       "border": null,
       "bottom": null,
       "display": null,
       "flex": null,
       "flex_flow": null,
       "grid_area": null,
       "grid_auto_columns": null,
       "grid_auto_flow": null,
       "grid_auto_rows": null,
       "grid_column": null,
       "grid_gap": null,
       "grid_row": null,
       "grid_template_areas": null,
       "grid_template_columns": null,
       "grid_template_rows": null,
       "height": null,
       "justify_content": null,
       "justify_items": null,
       "left": null,
       "margin": null,
       "max_height": null,
       "max_width": null,
       "min_height": null,
       "min_width": null,
       "object_fit": null,
       "object_position": null,
       "order": null,
       "overflow": null,
       "overflow_x": null,
       "overflow_y": null,
       "padding": null,
       "right": null,
       "top": null,
       "visibility": null,
       "width": null
      }
     },
     "d2471a795140453c84c29b90ce624d39": {
      "model_module": "@jupyter-widgets/controls",
      "model_module_version": "1.5.0",
      "model_name": "HTMLModel",
      "state": {
       "_dom_classes": [],
       "_model_module": "@jupyter-widgets/controls",
       "_model_module_version": "1.5.0",
       "_model_name": "HTMLModel",
       "_view_count": null,
       "_view_module": "@jupyter-widgets/controls",
       "_view_module_version": "1.5.0",
       "_view_name": "HTMLView",
       "description": "",
       "description_tooltip": null,
       "layout": "IPY_MODEL_1b002ec31f6f4a7b9d80cd8437b7d62a",
       "placeholder": "​",
       "style": "IPY_MODEL_0eb4f7ef41be415998ac0306fb0bffa2",
       "value": "model.safetensors: 100%"
      }
     },
     "efcdc3866bab454fa75816035d789156": {
      "model_module": "@jupyter-widgets/base",
      "model_module_version": "1.2.0",
      "model_name": "LayoutModel",
      "state": {
       "_model_module": "@jupyter-widgets/base",
       "_model_module_version": "1.2.0",
       "_model_name": "LayoutModel",
       "_view_count": null,
       "_view_module": "@jupyter-widgets/base",
       "_view_module_version": "1.2.0",
       "_view_name": "LayoutView",
       "align_content": null,
       "align_items": null,
       "align_self": null,
       "border": null,
       "bottom": null,
       "display": null,
       "flex": null,
       "flex_flow": null,
       "grid_area": null,
       "grid_auto_columns": null,
       "grid_auto_flow": null,
       "grid_auto_rows": null,
       "grid_column": null,
       "grid_gap": null,
       "grid_row": null,
       "grid_template_areas": null,
       "grid_template_columns": null,
       "grid_template_rows": null,
       "height": null,
       "justify_content": null,
       "justify_items": null,
       "left": null,
       "margin": null,
       "max_height": null,
       "max_width": null,
       "min_height": null,
       "min_width": null,
       "object_fit": null,
       "object_position": null,
       "order": null,
       "overflow": null,
       "overflow_x": null,
       "overflow_y": null,
       "padding": null,
       "right": null,
       "top": null,
       "visibility": null,
       "width": null
      }
     }
    },
    "version_major": 2,
    "version_minor": 0
   }
  }
 },
 "nbformat": 4,
 "nbformat_minor": 5
}
