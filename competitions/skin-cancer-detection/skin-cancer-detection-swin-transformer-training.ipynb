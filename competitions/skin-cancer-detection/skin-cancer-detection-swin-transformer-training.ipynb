{
 "cells": [
  {
   "cell_type": "markdown",
   "id": "7fbddbee",
   "metadata": {
    "papermill": {
     "duration": 0.006356,
     "end_time": "2024-08-24T12:52:40.083073",
     "exception": false,
     "start_time": "2024-08-24T12:52:40.076717",
     "status": "completed"
    },
    "tags": []
   },
   "source": [
    "### Inference notebook:\n",
    "- https://www.kaggle.com/code/ravaghi/isic-2024-swin-transformer-inference"
   ]
  },
  {
   "cell_type": "markdown",
   "id": "1856e212",
   "metadata": {
    "id": "1dDypZ7k-v-d",
    "papermill": {
     "duration": 0.00548,
     "end_time": "2024-08-24T12:52:40.094325",
     "exception": false,
     "start_time": "2024-08-24T12:52:40.088845",
     "status": "completed"
    },
    "tags": []
   },
   "source": [
    "# Imports and configs"
   ]
  },
  {
   "cell_type": "code",
   "execution_count": 1,
   "id": "eefdaa82",
   "metadata": {
    "execution": {
     "iopub.execute_input": "2024-08-24T12:52:40.107957Z",
     "iopub.status.busy": "2024-08-24T12:52:40.107292Z",
     "iopub.status.idle": "2024-08-24T12:52:49.024247Z",
     "shell.execute_reply": "2024-08-24T12:52:49.023276Z"
    },
    "id": "mqguadtYvxPn",
    "papermill": {
     "duration": 8.926721,
     "end_time": "2024-08-24T12:52:49.026643",
     "exception": false,
     "start_time": "2024-08-24T12:52:40.099922",
     "status": "completed"
    },
    "tags": []
   },
   "outputs": [],
   "source": [
    "from sklearn.model_selection import StratifiedGroupKFold\n",
    "from sklearn.metrics import roc_curve, auc\n",
    "from torch.utils.data import DataLoader, Dataset\n",
    "from albumentations.pytorch import ToTensorV2\n",
    "import matplotlib.pyplot as plt\n",
    "import torch.optim as optim\n",
    "import torch.nn.functional as F\n",
    "import albumentations as A\n",
    "import seaborn as sns\n",
    "from tqdm import tqdm\n",
    "from PIL import Image\n",
    "import torch.nn as nn\n",
    "import pandas as pd\n",
    "import numpy as np\n",
    "import warnings\n",
    "import h5py\n",
    "import torch\n",
    "import random\n",
    "import timm\n",
    "import cv2\n",
    "import io\n",
    "import os\n",
    "import gc\n",
    "\n",
    "warnings.filterwarnings('ignore')"
   ]
  },
  {
   "cell_type": "code",
   "execution_count": 2,
   "id": "36e3ec87",
   "metadata": {
    "execution": {
     "iopub.execute_input": "2024-08-24T12:52:49.040784Z",
     "iopub.status.busy": "2024-08-24T12:52:49.039967Z",
     "iopub.status.idle": "2024-08-24T12:52:49.100848Z",
     "shell.execute_reply": "2024-08-24T12:52:49.099831Z"
    },
    "id": "xOBgLd7--v-h",
    "papermill": {
     "duration": 0.070171,
     "end_time": "2024-08-24T12:52:49.102896",
     "exception": false,
     "start_time": "2024-08-24T12:52:49.032725",
     "status": "completed"
    },
    "tags": []
   },
   "outputs": [],
   "source": [
    "class CFG:\n",
    "    train_metadata_path = '/kaggle/input/isic-2024-challenge/train-metadata.csv'\n",
    "    test_metadata_path = '/kaggle/input/isic-2024-challenge/test-metadata.csv'\n",
    "    train_img_path = '/kaggle/input/isic-2024-challenge/train-image.hdf5'\n",
    "    test_img_path = '/kaggle/input/isic-2024-challenge/test-image.hdf5'\n",
    "    sample_sub_path = '/kaggle/input/isic-2024-challenge/sample_submission.csv'\n",
    "    checkpoint_path = '/kaggle/working/checkpoints'\n",
    "\n",
    "    device = torch.device('cuda' if torch.cuda.is_available() else 'cpu')\n",
    "    image_size = 224\n",
    "    max_epochs = 50\n",
    "    learning_rate = 1e-5\n",
    "    weight_decay = 1e-6\n",
    "    min_lr = 1e-10\n",
    "    t_max = 1000\n",
    "    train_batch_size = 32\n",
    "    val_batch_size = 64\n",
    "    n_folds = 5\n",
    "    seed = 35555\n",
    "    model_name = \"swin_base_patch4_window7_224\"\n",
    "    es_patience = 10"
   ]
  },
  {
   "cell_type": "code",
   "execution_count": 3,
   "id": "9d043aaa",
   "metadata": {
    "execution": {
     "iopub.execute_input": "2024-08-24T12:52:49.116248Z",
     "iopub.status.busy": "2024-08-24T12:52:49.115915Z",
     "iopub.status.idle": "2024-08-24T12:52:49.124304Z",
     "shell.execute_reply": "2024-08-24T12:52:49.123423Z"
    },
    "id": "5a6g1bxI-v-i",
    "papermill": {
     "duration": 0.017197,
     "end_time": "2024-08-24T12:52:49.126262",
     "exception": false,
     "start_time": "2024-08-24T12:52:49.109065",
     "status": "completed"
    },
    "tags": []
   },
   "outputs": [],
   "source": [
    "def seed_everything(seed):\n",
    "    random.seed(seed)\n",
    "    os.environ['PYTHONHASHSEED'] = str(seed)\n",
    "    np.random.seed(seed)\n",
    "    torch.manual_seed(seed)\n",
    "    torch.cuda.manual_seed(seed)\n",
    "    torch.backends.cudnn.deterministic = True\n",
    "    torch.backends.cudnn.benchmark = False\n",
    "\n",
    "seed_everything(CFG.seed)"
   ]
  },
  {
   "cell_type": "markdown",
   "id": "7134ea41",
   "metadata": {
    "id": "vM_js2t2-v-i",
    "papermill": {
     "duration": 0.005863,
     "end_time": "2024-08-24T12:52:49.138197",
     "exception": false,
     "start_time": "2024-08-24T12:52:49.132334",
     "status": "completed"
    },
    "tags": []
   },
   "source": [
    "# Loading and splitting the datasets"
   ]
  },
  {
   "cell_type": "code",
   "execution_count": 4,
   "id": "9e927883",
   "metadata": {
    "execution": {
     "iopub.execute_input": "2024-08-24T12:52:49.151630Z",
     "iopub.status.busy": "2024-08-24T12:52:49.150970Z",
     "iopub.status.idle": "2024-08-24T12:52:56.564142Z",
     "shell.execute_reply": "2024-08-24T12:52:56.563310Z"
    },
    "id": "X7yXnRQG-v-i",
    "papermill": {
     "duration": 7.422415,
     "end_time": "2024-08-24T12:52:56.566510",
     "exception": false,
     "start_time": "2024-08-24T12:52:49.144095",
     "status": "completed"
    },
    "tags": []
   },
   "outputs": [],
   "source": [
    "train_metadata = pd.read_csv(CFG.train_metadata_path)\n",
    "\n",
    "positives = train_metadata[train_metadata.target == 1]\n",
    "negatives = train_metadata[train_metadata.target == 0]\n",
    "train_metadata = pd.concat([positives, negatives.sample(n=20 * len(positives), random_state=CFG.seed)])\n",
    "train_metadata = train_metadata.sample(frac=1, random_state=CFG.seed).reset_index(drop=True)"
   ]
  },
  {
   "cell_type": "code",
   "execution_count": 5,
   "id": "b31eb0df",
   "metadata": {
    "execution": {
     "iopub.execute_input": "2024-08-24T12:52:56.580528Z",
     "iopub.status.busy": "2024-08-24T12:52:56.580167Z",
     "iopub.status.idle": "2024-08-24T12:52:57.055108Z",
     "shell.execute_reply": "2024-08-24T12:52:57.054222Z"
    },
    "id": "BhUgevhz-v-i",
    "papermill": {
     "duration": 0.484654,
     "end_time": "2024-08-24T12:52:57.057533",
     "exception": false,
     "start_time": "2024-08-24T12:52:56.572879",
     "status": "completed"
    },
    "tags": []
   },
   "outputs": [],
   "source": [
    "sgkf = StratifiedGroupKFold(n_splits=CFG.n_folds, random_state=CFG.seed, shuffle=True)\n",
    "split = sgkf.split(train_metadata, train_metadata.target, groups=train_metadata.patient_id)\n",
    "for i, (_, val_index) in enumerate(split):\n",
    "    train_metadata.loc[val_index, 'fold'] = i"
   ]
  },
  {
   "cell_type": "code",
   "execution_count": 6,
   "id": "63811686",
   "metadata": {
    "execution": {
     "iopub.execute_input": "2024-08-24T12:52:57.071896Z",
     "iopub.status.busy": "2024-08-24T12:52:57.071560Z",
     "iopub.status.idle": "2024-08-24T12:53:04.129266Z",
     "shell.execute_reply": "2024-08-24T12:53:04.128447Z"
    },
    "id": "IF-0HJKr5Ub-",
    "papermill": {
     "duration": 7.067832,
     "end_time": "2024-08-24T12:53:04.131749",
     "exception": false,
     "start_time": "2024-08-24T12:52:57.063917",
     "status": "completed"
    },
    "tags": []
   },
   "outputs": [],
   "source": [
    "train_metadata2 = pd.read_csv(CFG.train_metadata_path)\n",
    "\n",
    "sgkf = StratifiedGroupKFold(n_splits=CFG.n_folds, random_state=CFG.seed, shuffle=True)\n",
    "split = sgkf.split(train_metadata2, train_metadata2.target, groups=train_metadata2.patient_id)\n",
    "for i, (_, val_index) in enumerate(split):\n",
    "    train_metadata2.loc[val_index, 'fold'] = i"
   ]
  },
  {
   "cell_type": "code",
   "execution_count": 7,
   "id": "1cc49056",
   "metadata": {
    "execution": {
     "iopub.execute_input": "2024-08-24T12:53:04.146929Z",
     "iopub.status.busy": "2024-08-24T12:53:04.146298Z",
     "iopub.status.idle": "2024-08-24T12:53:04.150947Z",
     "shell.execute_reply": "2024-08-24T12:53:04.150057Z"
    },
    "papermill": {
     "duration": 0.014095,
     "end_time": "2024-08-24T12:53:04.152833",
     "exception": false,
     "start_time": "2024-08-24T12:53:04.138738",
     "status": "completed"
    },
    "tags": []
   },
   "outputs": [],
   "source": [
    "CFG.t_max = train_metadata.shape[0] * (CFG.n_folds-1) * CFG.max_epochs // CFG.train_batch_size // CFG.n_folds"
   ]
  },
  {
   "cell_type": "markdown",
   "id": "469ef409",
   "metadata": {
    "id": "D6JNsMWX-v-i",
    "papermill": {
     "duration": 0.00581,
     "end_time": "2024-08-24T12:53:04.164999",
     "exception": false,
     "start_time": "2024-08-24T12:53:04.159189",
     "status": "completed"
    },
    "tags": []
   },
   "source": [
    "# Creating a custom image dataset"
   ]
  },
  {
   "cell_type": "code",
   "execution_count": 8,
   "id": "0514307b",
   "metadata": {
    "execution": {
     "iopub.execute_input": "2024-08-24T12:53:04.179780Z",
     "iopub.status.busy": "2024-08-24T12:53:04.179009Z",
     "iopub.status.idle": "2024-08-24T12:53:04.186887Z",
     "shell.execute_reply": "2024-08-24T12:53:04.186001Z"
    },
    "id": "DxAgokRgvxPr",
    "papermill": {
     "duration": 0.017737,
     "end_time": "2024-08-24T12:53:04.188730",
     "exception": false,
     "start_time": "2024-08-24T12:53:04.170993",
     "status": "completed"
    },
    "tags": []
   },
   "outputs": [],
   "source": [
    "class ISICDataset(Dataset):\n",
    "    def __init__(self, data_path, metadata, transform=None):\n",
    "        self.data = h5py.File(data_path, 'r')\n",
    "        self.metadata = metadata\n",
    "        self.transform = transform\n",
    "\n",
    "    def __len__(self):\n",
    "        return len(self.metadata)\n",
    "\n",
    "    def __getitem__(self, idx):\n",
    "        img_name = self.metadata.iloc[idx]['isic_id']\n",
    "        image = np.array(self.data[img_name])\n",
    "        image = np.array(Image.open(io.BytesIO(image)))\n",
    "        image = cv2.cvtColor(image, cv2.COLOR_BGR2RGB)\n",
    "\n",
    "        if self.transform:\n",
    "            augmented = self.transform(image=image)\n",
    "            image = augmented['image']\n",
    "\n",
    "        if 'target' in self.metadata.columns:\n",
    "            label = int(self.metadata['target'].iloc[idx])\n",
    "            return image, label\n",
    "        else:\n",
    "            return image, 0"
   ]
  },
  {
   "cell_type": "code",
   "execution_count": 9,
   "id": "8fb115e8",
   "metadata": {
    "execution": {
     "iopub.execute_input": "2024-08-24T12:53:04.202301Z",
     "iopub.status.busy": "2024-08-24T12:53:04.202007Z",
     "iopub.status.idle": "2024-08-24T12:53:04.212561Z",
     "shell.execute_reply": "2024-08-24T12:53:04.211807Z"
    },
    "id": "6tUJogKp-v-j",
    "papermill": {
     "duration": 0.019545,
     "end_time": "2024-08-24T12:53:04.214506",
     "exception": false,
     "start_time": "2024-08-24T12:53:04.194961",
     "status": "completed"
    },
    "tags": []
   },
   "outputs": [],
   "source": [
    "transforms = {\n",
    "    'train': A.Compose([\n",
    "        A.RandomRotate90(p=0.5),\n",
    "        A.Flip(p=0.5),\n",
    "        A.Transpose(p=0.5),\n",
    "        A.ShiftScaleRotate(shift_limit=0.1, scale_limit=0.1, rotate_limit=45, p=0.5),\n",
    "        A.OneOf([\n",
    "            A.HueSaturationValue(p=0.5),\n",
    "            A.RandomBrightnessContrast(p=0.5),\n",
    "        ], p=0.5),\n",
    "        A.OneOf([\n",
    "            A.GaussNoise(p=0.5),\n",
    "            A.GaussianBlur(p=0.5),\n",
    "            A.MotionBlur(p=0.5),\n",
    "        ], p=0.5),\n",
    "        A.Resize(CFG.image_size, CFG.image_size),\n",
    "        A.Normalize(\n",
    "            mean=[0.4815, 0.4578, 0.4082],\n",
    "            std=[0.2686, 0.2613, 0.2758],\n",
    "            max_pixel_value=255.0),\n",
    "        ToTensorV2(),\n",
    "    ]),\n",
    "\n",
    "    'val': A.Compose([\n",
    "        A.Resize(CFG.image_size, CFG.image_size),\n",
    "        A.Normalize(\n",
    "            mean=[0.4815, 0.4578, 0.4082],\n",
    "            std=[0.2686, 0.2613, 0.2758],\n",
    "            max_pixel_value=255.0),\n",
    "        ToTensorV2(),\n",
    "    ])\n",
    "}"
   ]
  },
  {
   "cell_type": "markdown",
   "id": "e974110f",
   "metadata": {
    "id": "QSzebgg8-v-j",
    "papermill": {
     "duration": 0.006019,
     "end_time": "2024-08-24T12:53:04.226743",
     "exception": false,
     "start_time": "2024-08-24T12:53:04.220724",
     "status": "completed"
    },
    "tags": []
   },
   "source": [
    "# Customizing the image model"
   ]
  },
  {
   "cell_type": "code",
   "execution_count": 10,
   "id": "ba7466e0",
   "metadata": {
    "execution": {
     "iopub.execute_input": "2024-08-24T12:53:04.240522Z",
     "iopub.status.busy": "2024-08-24T12:53:04.240177Z",
     "iopub.status.idle": "2024-08-24T12:53:04.246889Z",
     "shell.execute_reply": "2024-08-24T12:53:04.246026Z"
    },
    "id": "uhUwzYAHRelB",
    "papermill": {
     "duration": 0.015803,
     "end_time": "2024-08-24T12:53:04.248754",
     "exception": false,
     "start_time": "2024-08-24T12:53:04.232951",
     "status": "completed"
    },
    "tags": []
   },
   "outputs": [],
   "source": [
    "class SwinTransformer(nn.Module):\n",
    "    def __init__(self, model_name, pretrained=True):\n",
    "        super(SwinTransformer, self).__init__()\n",
    "        self.model = timm.create_model(model_name, pretrained=pretrained)\n",
    "        self.model.head = nn.Sequential(\n",
    "            nn.Flatten(),\n",
    "            nn.Linear(self.model.num_features * 7 * 7, 512),\n",
    "            nn.BatchNorm1d(512),\n",
    "            nn.ReLU(),\n",
    "            nn.Dropout(0.5),\n",
    "            nn.Linear(512, 1),\n",
    "            nn.Sigmoid()\n",
    "        )\n",
    "\n",
    "    def forward(self, x):\n",
    "        return self.model(x)"
   ]
  },
  {
   "cell_type": "markdown",
   "id": "cd890fe2",
   "metadata": {
    "id": "NbENY6cl-v-j",
    "papermill": {
     "duration": 0.007265,
     "end_time": "2024-08-24T12:53:04.262318",
     "exception": false,
     "start_time": "2024-08-24T12:53:04.255053",
     "status": "completed"
    },
    "tags": []
   },
   "source": [
    "# Creating a trainer class"
   ]
  },
  {
   "cell_type": "code",
   "execution_count": 11,
   "id": "61464052",
   "metadata": {
    "execution": {
     "iopub.execute_input": "2024-08-24T12:53:04.277133Z",
     "iopub.status.busy": "2024-08-24T12:53:04.276792Z",
     "iopub.status.idle": "2024-08-24T12:53:04.305611Z",
     "shell.execute_reply": "2024-08-24T12:53:04.304685Z"
    },
    "id": "yWUV5TeWvxPs",
    "papermill": {
     "duration": 0.038821,
     "end_time": "2024-08-24T12:53:04.307676",
     "exception": false,
     "start_time": "2024-08-24T12:53:04.268855",
     "status": "completed"
    },
    "tags": []
   },
   "outputs": [],
   "source": [
    "class Trainer:\n",
    "    def __init__(\n",
    "        self,\n",
    "        device,\n",
    "        model,\n",
    "        criterion,\n",
    "        optimizer,\n",
    "        scheduler,\n",
    "        train_dataloader,\n",
    "        val_dataloader,\n",
    "        checkpoint_path,\n",
    "        fold_idx,\n",
    "        es_patience\n",
    "    ):\n",
    "        self.device = device\n",
    "        self.model = model\n",
    "        self.criterion = criterion\n",
    "        self.optimizer = optimizer\n",
    "        self.scheduler = scheduler\n",
    "        self.train_dataloader = train_dataloader\n",
    "        self.val_dataloader = val_dataloader\n",
    "        self.checkpoint_path = checkpoint_path\n",
    "        self.best_pauc = 0.0\n",
    "        self.best_model_path = None\n",
    "        self.fold_idx = fold_idx\n",
    "        self.es_patience = es_patience\n",
    "        self.create_checkpoint_path()\n",
    "\n",
    "    def create_checkpoint_path(self):\n",
    "        if not os.path.exists(self.checkpoint_path):\n",
    "            os.makedirs(self.checkpoint_path)\n",
    "\n",
    "    @staticmethod\n",
    "    def p_roc_auc_score(y_true, y_preds, min_tpr: float = 0.80):\n",
    "        v_gt = abs(np.asarray(y_true)-1)\n",
    "        v_pred = -1.0 * np.asarray(y_preds)\n",
    "        max_fpr = abs(1-min_tpr)\n",
    "        fpr, tpr, _ = roc_curve(v_gt, v_pred, sample_weight=None)\n",
    "        if max_fpr is None or max_fpr == 1:\n",
    "            return auc(fpr, tpr)\n",
    "        if max_fpr <= 0 or max_fpr > 1:\n",
    "            raise ValueError(\"Expected min_tpr in range [0, 1), got: %r\" % min_tpr)\n",
    "        stop = np.searchsorted(fpr, max_fpr, \"right\")\n",
    "        x_interp = [fpr[stop - 1], fpr[stop]]\n",
    "        y_interp = [tpr[stop - 1], tpr[stop]]\n",
    "        tpr = np.append(tpr[:stop], np.interp(max_fpr, x_interp, y_interp))\n",
    "        fpr = np.append(fpr[:stop], max_fpr)\n",
    "        partial_auc = auc(fpr, tpr)\n",
    "        return partial_auc\n",
    "\n",
    "    def train(self, current_epoch_nr):\n",
    "        self.model.train()\n",
    "\n",
    "        num_batches = len(self.train_dataloader)\n",
    "\n",
    "        running_loss = 0.0\n",
    "        total = 0\n",
    "\n",
    "        preds = []\n",
    "        targets = []\n",
    "\n",
    "        loop = tqdm(self.train_dataloader, total=num_batches)\n",
    "        for batch in loop:\n",
    "            x, y = batch\n",
    "            x, y = x.to(self.device, dtype=torch.float), y.to(self.device, dtype=torch.float)\n",
    "\n",
    "            self.optimizer.zero_grad()\n",
    "\n",
    "            y_hat = self.model(x).squeeze()\n",
    "\n",
    "            preds.extend(y_hat.detach().cpu().numpy())\n",
    "            targets.extend(y.detach().cpu().numpy())\n",
    "\n",
    "            loss = self.criterion(y_hat, y)\n",
    "            loss.backward()\n",
    "            self.optimizer.step()\n",
    "\n",
    "            running_loss += loss.item() * x.size(0)\n",
    "            total += y.size(0)\n",
    "\n",
    "            loop.set_description(f'Epoch {current_epoch_nr}')\n",
    "            loop.set_postfix(train_loss=round(running_loss / total, 6))\n",
    "\n",
    "            if self.scheduler is not None:\n",
    "                self.scheduler.step()\n",
    "\n",
    "        train_pauc = self.p_roc_auc_score(targets, preds)\n",
    "        train_loss = running_loss / num_batches\n",
    "\n",
    "        return train_pauc, train_loss\n",
    "\n",
    "    def evaluate(self, current_epoch_nr):\n",
    "        self.model.eval()\n",
    "\n",
    "        num_batches = len(self.val_dataloader)\n",
    "\n",
    "        running_loss = 0.0\n",
    "        total = 0\n",
    "\n",
    "        preds = []\n",
    "        targets = []\n",
    "\n",
    "        with torch.no_grad():\n",
    "            loop = tqdm(self.val_dataloader, total=num_batches)\n",
    "            for batch in loop:\n",
    "                x, y = batch\n",
    "                x, y = x.to(self.device, dtype=torch.float), y.to(self.device, dtype=torch.float)\n",
    "\n",
    "                self.optimizer.zero_grad()\n",
    "\n",
    "                y_hat = self.model(x).squeeze()\n",
    "\n",
    "                preds.extend(y_hat.detach().cpu().numpy())\n",
    "                targets.extend(y.detach().cpu().numpy())\n",
    "\n",
    "                loss = self.criterion(y_hat, y)\n",
    "                running_loss += loss.item() * x.size(0)\n",
    "                total += y.size(0)\n",
    "\n",
    "                loop.set_description(f'Epoch {current_epoch_nr}')\n",
    "                loop.set_postfix(val_loss=round(running_loss / total, 6))\n",
    "\n",
    "        val_pauc = self.p_roc_auc_score(targets, preds)\n",
    "        val_loss = running_loss / num_batches\n",
    "\n",
    "        if val_pauc > self.best_pauc:\n",
    "            self.es_patience = CFG.es_patience\n",
    "            if self.best_pauc != 0.0:\n",
    "                print(f'New best model found: pAUC = {val_pauc:.6f} (previous best: {self.best_pauc:.6f})')\n",
    "            self.best_pauc = val_pauc\n",
    "            checkpoint_name = f'fold_{self.fold_idx}_epoch_{current_epoch_nr}_pauc_{round(val_pauc, 6)}.pth'\n",
    "\n",
    "            for file in os.listdir(self.checkpoint_path):\n",
    "                if file.startswith(f'fold_{self.fold_idx}_epoch_'):\n",
    "                    os.remove(os.path.join(self.checkpoint_path, file))\n",
    "\n",
    "            torch.save(\n",
    "                self.model.state_dict(),\n",
    "                os.path.join(self.checkpoint_path, checkpoint_name)\n",
    "            )\n",
    "            self.best_model_path = os.path.join(\n",
    "                self.checkpoint_path, checkpoint_name)\n",
    "\n",
    "        else:\n",
    "            self.es_patience -= 1\n",
    "            if self.es_patience == 0:\n",
    "                print(f'Early stopping triggered at epoch {current_epoch_nr}. Best pAUC = {self.best_pauc:.6f}')\n",
    "                return val_pauc, val_loss, True\n",
    "\n",
    "        return val_pauc, val_loss, False\n",
    "\n",
    "    def predict(self, dataloader):\n",
    "        model = self.model.to(self.device)\n",
    "        model.load_state_dict(torch.load(self.best_model_path))\n",
    "        model.eval()\n",
    "\n",
    "        preds = []\n",
    "        with torch.no_grad():\n",
    "            loop = tqdm(dataloader, total=len(dataloader))\n",
    "            for batch in loop:\n",
    "                x, _ = batch\n",
    "                x = x.to(self.device, dtype=torch.float)\n",
    "                y_hat = model(x).squeeze()\n",
    "                preds.extend(y_hat.detach().cpu().numpy())\n",
    "                loop.set_description(f'Prediction')\n",
    "\n",
    "        return preds"
   ]
  },
  {
   "cell_type": "markdown",
   "id": "e9969862",
   "metadata": {
    "id": "uE7oYGyR-v-j",
    "papermill": {
     "duration": 0.006092,
     "end_time": "2024-08-24T12:53:04.320251",
     "exception": false,
     "start_time": "2024-08-24T12:53:04.314159",
     "status": "completed"
    },
    "tags": []
   },
   "source": [
    "# Training and cross-validation"
   ]
  },
  {
   "cell_type": "code",
   "execution_count": 12,
   "id": "5776ec25",
   "metadata": {
    "_kg_hide-output": true,
    "execution": {
     "iopub.execute_input": "2024-08-24T12:53:04.334568Z",
     "iopub.status.busy": "2024-08-24T12:53:04.334223Z",
     "iopub.status.idle": "2024-08-24T18:16:59.479339Z",
     "shell.execute_reply": "2024-08-24T18:16:59.478443Z"
    },
    "id": "z6ry0OmfyEmZ",
    "outputId": "be79b77b-0941-4759-b0c8-635e6c72b19e",
    "papermill": {
     "duration": 19438.449155,
     "end_time": "2024-08-24T18:17:02.775823",
     "exception": false,
     "start_time": "2024-08-24T12:53:04.326668",
     "status": "completed"
    },
    "tags": []
   },
   "outputs": [
    {
     "name": "stdout",
     "output_type": "stream",
     "text": [
      "---------------------------------- Fold 1 ----------------------------------\n"
     ]
    },
    {
     "data": {
      "application/vnd.jupyter.widget-view+json": {
       "model_id": "c30d66b157554a379c02688e0348cd1c",
       "version_major": 2,
       "version_minor": 0
      },
      "text/plain": [
       "model.safetensors:   0%|          | 0.00/353M [00:00<?, ?B/s]"
      ]
     },
     "metadata": {},
     "output_type": "display_data"
    },
    {
     "name": "stderr",
     "output_type": "stream",
     "text": [
      "Epoch 1: 100%|██████████| 209/209 [02:13<00:00,  1.56it/s, train_loss=0.633]\n",
      "Epoch 1: 100%|██████████| 25/25 [00:11<00:00,  2.19it/s, val_loss=0.42]\n"
     ]
    },
    {
     "name": "stdout",
     "output_type": "stream",
     "text": [
      "Epoch 1: Train pAUC: 0.060355 - Val pAUC: 0.096757 | Train Loss: 20.171516 - Val Loss: 26.687074\n",
      "\n"
     ]
    },
    {
     "name": "stderr",
     "output_type": "stream",
     "text": [
      "Epoch 2: 100%|██████████| 209/209 [02:12<00:00,  1.58it/s, train_loss=0.426]\n",
      "Epoch 2: 100%|██████████| 25/25 [00:10<00:00,  2.30it/s, val_loss=0.336]\n"
     ]
    },
    {
     "name": "stdout",
     "output_type": "stream",
     "text": [
      "Epoch 2: Train pAUC: 0.063273 - Val pAUC: 0.058371 | Train Loss: 13.594063 - Val Loss: 21.360553\n",
      "\n"
     ]
    },
    {
     "name": "stderr",
     "output_type": "stream",
     "text": [
      "Epoch 3: 100%|██████████| 209/209 [02:12<00:00,  1.58it/s, train_loss=0.311]\n",
      "Epoch 3: 100%|██████████| 25/25 [00:10<00:00,  2.31it/s, val_loss=0.251]\n"
     ]
    },
    {
     "name": "stdout",
     "output_type": "stream",
     "text": [
      "Epoch 3: Train pAUC: 0.056973 - Val pAUC: 0.085438 | Train Loss: 9.913862 - Val Loss: 15.936643\n",
      "\n"
     ]
    },
    {
     "name": "stderr",
     "output_type": "stream",
     "text": [
      "Epoch 4: 100%|██████████| 209/209 [02:12<00:00,  1.58it/s, train_loss=0.24]\n",
      "Epoch 4: 100%|██████████| 25/25 [00:10<00:00,  2.30it/s, val_loss=0.194]\n"
     ]
    },
    {
     "name": "stdout",
     "output_type": "stream",
     "text": [
      "Epoch 4: Train pAUC: 0.067504 - Val pAUC: 0.067934 | Train Loss: 7.643136 - Val Loss: 12.331368\n",
      "\n"
     ]
    },
    {
     "name": "stderr",
     "output_type": "stream",
     "text": [
      "Epoch 5: 100%|██████████| 209/209 [02:12<00:00,  1.58it/s, train_loss=0.207]\n",
      "Epoch 5: 100%|██████████| 25/25 [00:10<00:00,  2.29it/s, val_loss=0.183]\n"
     ]
    },
    {
     "name": "stdout",
     "output_type": "stream",
     "text": [
      "Epoch 5: Train pAUC: 0.074282 - Val pAUC: 0.038729 | Train Loss: 6.613239 - Val Loss: 11.665074\n",
      "\n"
     ]
    },
    {
     "name": "stderr",
     "output_type": "stream",
     "text": [
      "Epoch 6: 100%|██████████| 209/209 [02:12<00:00,  1.58it/s, train_loss=0.182]\n",
      "Epoch 6: 100%|██████████| 25/25 [00:10<00:00,  2.31it/s, val_loss=0.162]\n"
     ]
    },
    {
     "name": "stdout",
     "output_type": "stream",
     "text": [
      "New best model found: pAUC = 0.121897 (previous best: 0.096757)\n",
      "Epoch 6: Train pAUC: 0.077998 - Val pAUC: 0.121897 | Train Loss: 5.811027 - Val Loss: 10.275550\n",
      "\n"
     ]
    },
    {
     "name": "stderr",
     "output_type": "stream",
     "text": [
      "Epoch 7: 100%|██████████| 209/209 [02:11<00:00,  1.58it/s, train_loss=0.167]\n",
      "Epoch 7: 100%|██████████| 25/25 [00:10<00:00,  2.31it/s, val_loss=0.151]\n"
     ]
    },
    {
     "name": "stdout",
     "output_type": "stream",
     "text": [
      "Epoch 7: Train pAUC: 0.089860 - Val pAUC: 0.069165 | Train Loss: 5.311050 - Val Loss: 9.599828\n",
      "\n"
     ]
    },
    {
     "name": "stderr",
     "output_type": "stream",
     "text": [
      "Epoch 8: 100%|██████████| 209/209 [02:12<00:00,  1.58it/s, train_loss=0.161]\n",
      "Epoch 8: 100%|██████████| 25/25 [00:10<00:00,  2.29it/s, val_loss=0.163]\n"
     ]
    },
    {
     "name": "stdout",
     "output_type": "stream",
     "text": [
      "Epoch 8: Train pAUC: 0.096479 - Val pAUC: 0.078779 | Train Loss: 5.127233 - Val Loss: 10.355164\n",
      "\n"
     ]
    },
    {
     "name": "stderr",
     "output_type": "stream",
     "text": [
      "Epoch 9: 100%|██████████| 209/209 [02:12<00:00,  1.58it/s, train_loss=0.145]\n",
      "Epoch 9: 100%|██████████| 25/25 [00:10<00:00,  2.29it/s, val_loss=0.14]\n"
     ]
    },
    {
     "name": "stdout",
     "output_type": "stream",
     "text": [
      "Epoch 9: Train pAUC: 0.095207 - Val pAUC: 0.106875 | Train Loss: 4.632948 - Val Loss: 8.874778\n",
      "\n"
     ]
    },
    {
     "name": "stderr",
     "output_type": "stream",
     "text": [
      "Epoch 10: 100%|██████████| 209/209 [02:12<00:00,  1.58it/s, train_loss=0.139]\n",
      "Epoch 10: 100%|██████████| 25/25 [00:10<00:00,  2.30it/s, val_loss=0.137]\n"
     ]
    },
    {
     "name": "stdout",
     "output_type": "stream",
     "text": [
      "Epoch 10: Train pAUC: 0.105056 - Val pAUC: 0.110598 | Train Loss: 4.431770 - Val Loss: 8.711991\n",
      "\n"
     ]
    },
    {
     "name": "stderr",
     "output_type": "stream",
     "text": [
      "Epoch 11: 100%|██████████| 209/209 [02:12<00:00,  1.58it/s, train_loss=0.131]\n",
      "Epoch 11: 100%|██████████| 25/25 [00:10<00:00,  2.29it/s, val_loss=0.123]\n"
     ]
    },
    {
     "name": "stdout",
     "output_type": "stream",
     "text": [
      "Epoch 11: Train pAUC: 0.116454 - Val pAUC: 0.112898 | Train Loss: 4.164711 - Val Loss: 7.825048\n",
      "\n"
     ]
    },
    {
     "name": "stderr",
     "output_type": "stream",
     "text": [
      "Epoch 12: 100%|██████████| 209/209 [02:12<00:00,  1.58it/s, train_loss=0.122]\n",
      "Epoch 12: 100%|██████████| 25/25 [00:10<00:00,  2.31it/s, val_loss=0.128]\n"
     ]
    },
    {
     "name": "stdout",
     "output_type": "stream",
     "text": [
      "Epoch 12: Train pAUC: 0.115004 - Val pAUC: 0.110335 | Train Loss: 3.897502 - Val Loss: 8.160666\n",
      "\n"
     ]
    },
    {
     "name": "stderr",
     "output_type": "stream",
     "text": [
      "Epoch 13: 100%|██████████| 209/209 [02:12<00:00,  1.58it/s, train_loss=0.111]\n",
      "Epoch 13: 100%|██████████| 25/25 [00:10<00:00,  2.30it/s, val_loss=0.133]\n"
     ]
    },
    {
     "name": "stdout",
     "output_type": "stream",
     "text": [
      "New best model found: pAUC = 0.142971 (previous best: 0.121897)\n",
      "Epoch 13: Train pAUC: 0.132923 - Val pAUC: 0.142971 | Train Loss: 3.539600 - Val Loss: 8.474535\n",
      "\n"
     ]
    },
    {
     "name": "stderr",
     "output_type": "stream",
     "text": [
      "Epoch 14: 100%|██████████| 209/209 [02:12<00:00,  1.58it/s, train_loss=0.113]\n",
      "Epoch 14: 100%|██████████| 25/25 [00:10<00:00,  2.31it/s, val_loss=0.13]\n"
     ]
    },
    {
     "name": "stdout",
     "output_type": "stream",
     "text": [
      "Epoch 14: Train pAUC: 0.117273 - Val pAUC: 0.142840 | Train Loss: 3.605028 - Val Loss: 8.276883\n",
      "\n"
     ]
    },
    {
     "name": "stderr",
     "output_type": "stream",
     "text": [
      "Epoch 15: 100%|██████████| 209/209 [02:12<00:00,  1.58it/s, train_loss=0.105]\n",
      "Epoch 15: 100%|██████████| 25/25 [00:10<00:00,  2.30it/s, val_loss=0.133]\n"
     ]
    },
    {
     "name": "stdout",
     "output_type": "stream",
     "text": [
      "Epoch 15: Train pAUC: 0.131467 - Val pAUC: 0.136888 | Train Loss: 3.360717 - Val Loss: 8.480121\n",
      "\n"
     ]
    },
    {
     "name": "stderr",
     "output_type": "stream",
     "text": [
      "Epoch 16: 100%|██████████| 209/209 [02:12<00:00,  1.58it/s, train_loss=0.0997]\n",
      "Epoch 16: 100%|██████████| 25/25 [00:10<00:00,  2.29it/s, val_loss=0.122]\n"
     ]
    },
    {
     "name": "stdout",
     "output_type": "stream",
     "text": [
      "Epoch 16: Train pAUC: 0.132955 - Val pAUC: 0.124984 | Train Loss: 3.177160 - Val Loss: 7.739378\n",
      "\n"
     ]
    },
    {
     "name": "stderr",
     "output_type": "stream",
     "text": [
      "Epoch 17: 100%|██████████| 209/209 [02:12<00:00,  1.58it/s, train_loss=0.0977]\n",
      "Epoch 17: 100%|██████████| 25/25 [00:10<00:00,  2.31it/s, val_loss=0.132]\n"
     ]
    },
    {
     "name": "stdout",
     "output_type": "stream",
     "text": [
      "Epoch 17: Train pAUC: 0.140681 - Val pAUC: 0.104393 | Train Loss: 3.114439 - Val Loss: 8.415193\n",
      "\n"
     ]
    },
    {
     "name": "stderr",
     "output_type": "stream",
     "text": [
      "Epoch 18: 100%|██████████| 209/209 [02:12<00:00,  1.58it/s, train_loss=0.0959]\n",
      "Epoch 18: 100%|██████████| 25/25 [00:10<00:00,  2.29it/s, val_loss=0.129]\n"
     ]
    },
    {
     "name": "stdout",
     "output_type": "stream",
     "text": [
      "Epoch 18: Train pAUC: 0.134143 - Val pAUC: 0.116772 | Train Loss: 3.057112 - Val Loss: 8.216269\n",
      "\n"
     ]
    },
    {
     "name": "stderr",
     "output_type": "stream",
     "text": [
      "Epoch 19: 100%|██████████| 209/209 [02:12<00:00,  1.58it/s, train_loss=0.0865]\n",
      "Epoch 19: 100%|██████████| 25/25 [00:10<00:00,  2.31it/s, val_loss=0.122]\n"
     ]
    },
    {
     "name": "stdout",
     "output_type": "stream",
     "text": [
      "Epoch 19: Train pAUC: 0.147380 - Val pAUC: 0.127445 | Train Loss: 2.756930 - Val Loss: 7.747703\n",
      "\n"
     ]
    },
    {
     "name": "stderr",
     "output_type": "stream",
     "text": [
      "Epoch 20: 100%|██████████| 209/209 [02:12<00:00,  1.58it/s, train_loss=0.0867]\n",
      "Epoch 20: 100%|██████████| 25/25 [00:10<00:00,  2.31it/s, val_loss=0.143]\n"
     ]
    },
    {
     "name": "stdout",
     "output_type": "stream",
     "text": [
      "Epoch 20: Train pAUC: 0.151129 - Val pAUC: 0.114865 | Train Loss: 2.763865 - Val Loss: 9.098796\n",
      "\n"
     ]
    },
    {
     "name": "stderr",
     "output_type": "stream",
     "text": [
      "Epoch 21: 100%|██████████| 209/209 [02:12<00:00,  1.58it/s, train_loss=0.0829]\n",
      "Epoch 21: 100%|██████████| 25/25 [00:10<00:00,  2.30it/s, val_loss=0.116]\n"
     ]
    },
    {
     "name": "stdout",
     "output_type": "stream",
     "text": [
      "Epoch 21: Train pAUC: 0.155014 - Val pAUC: 0.127980 | Train Loss: 2.642291 - Val Loss: 7.364326\n",
      "\n"
     ]
    },
    {
     "name": "stderr",
     "output_type": "stream",
     "text": [
      "Epoch 22: 100%|██████████| 209/209 [02:12<00:00,  1.58it/s, train_loss=0.0796]\n",
      "Epoch 22: 100%|██████████| 25/25 [00:10<00:00,  2.31it/s, val_loss=0.12]\n"
     ]
    },
    {
     "name": "stdout",
     "output_type": "stream",
     "text": [
      "Epoch 22: Train pAUC: 0.150464 - Val pAUC: 0.115400 | Train Loss: 2.538144 - Val Loss: 7.661901\n",
      "\n"
     ]
    },
    {
     "name": "stderr",
     "output_type": "stream",
     "text": [
      "Epoch 23: 100%|██████████| 209/209 [02:12<00:00,  1.58it/s, train_loss=0.07]\n",
      "Epoch 23: 100%|██████████| 25/25 [00:11<00:00,  2.27it/s, val_loss=0.14]\n"
     ]
    },
    {
     "name": "stdout",
     "output_type": "stream",
     "text": [
      "Early stopping triggered at epoch 23. Best pAUC = 0.142971\n",
      "Epoch 23: Train pAUC: 0.158324 - Val pAUC: 0.119415 | Train Loss: 2.230845 - Val Loss: 8.917535\n",
      "\n"
     ]
    },
    {
     "name": "stderr",
     "output_type": "stream",
     "text": [
      "Prediction: 100%|██████████| 1211/1211 [08:20<00:00,  2.42it/s]\n"
     ]
    },
    {
     "name": "stdout",
     "output_type": "stream",
     "text": [
      "---------------------------------- Fold 1 ----------------------------------\n",
      "\n",
      "\n",
      "---------------------------------- Fold 2 ----------------------------------\n"
     ]
    },
    {
     "name": "stderr",
     "output_type": "stream",
     "text": [
      "Epoch 1: 100%|██████████| 201/201 [02:07<00:00,  1.57it/s, train_loss=0.679]\n",
      "Epoch 1: 100%|██████████| 29/29 [00:12<00:00,  2.31it/s, val_loss=0.57]\n"
     ]
    },
    {
     "name": "stdout",
     "output_type": "stream",
     "text": [
      "Epoch 1: Train pAUC: 0.050265 - Val pAUC: 0.105106 | Train Loss: 21.699125 - Val Loss: 35.953681\n",
      "\n"
     ]
    },
    {
     "name": "stderr",
     "output_type": "stream",
     "text": [
      "Epoch 2: 100%|██████████| 201/201 [02:07<00:00,  1.58it/s, train_loss=0.524]\n",
      "Epoch 2: 100%|██████████| 29/29 [00:12<00:00,  2.33it/s, val_loss=0.453]\n"
     ]
    },
    {
     "name": "stdout",
     "output_type": "stream",
     "text": [
      "New best model found: pAUC = 0.108345 (previous best: 0.105106)\n",
      "Epoch 2: Train pAUC: 0.057409 - Val pAUC: 0.108345 | Train Loss: 16.735705 - Val Loss: 28.555647\n",
      "\n"
     ]
    },
    {
     "name": "stderr",
     "output_type": "stream",
     "text": [
      "Epoch 3: 100%|██████████| 201/201 [02:07<00:00,  1.58it/s, train_loss=0.399]\n",
      "Epoch 3: 100%|██████████| 29/29 [00:12<00:00,  2.33it/s, val_loss=0.318]\n"
     ]
    },
    {
     "name": "stdout",
     "output_type": "stream",
     "text": [
      "Epoch 3: Train pAUC: 0.060040 - Val pAUC: 0.093306 | Train Loss: 12.766679 - Val Loss: 20.035596\n",
      "\n"
     ]
    },
    {
     "name": "stderr",
     "output_type": "stream",
     "text": [
      "Epoch 4: 100%|██████████| 201/201 [02:07<00:00,  1.57it/s, train_loss=0.305]\n",
      "Epoch 4: 100%|██████████| 29/29 [00:12<00:00,  2.33it/s, val_loss=0.196]\n"
     ]
    },
    {
     "name": "stdout",
     "output_type": "stream",
     "text": [
      "Epoch 4: Train pAUC: 0.069698 - Val pAUC: 0.088818 | Train Loss: 9.733991 - Val Loss: 12.355728\n",
      "\n"
     ]
    },
    {
     "name": "stderr",
     "output_type": "stream",
     "text": [
      "Epoch 5: 100%|██████████| 201/201 [02:07<00:00,  1.58it/s, train_loss=0.25]\n",
      "Epoch 5: 100%|██████████| 29/29 [00:12<00:00,  2.34it/s, val_loss=0.166]\n"
     ]
    },
    {
     "name": "stdout",
     "output_type": "stream",
     "text": [
      "New best model found: pAUC = 0.127950 (previous best: 0.108345)\n",
      "Epoch 5: Train pAUC: 0.052281 - Val pAUC: 0.127950 | Train Loss: 7.986668 - Val Loss: 10.455413\n",
      "\n"
     ]
    },
    {
     "name": "stderr",
     "output_type": "stream",
     "text": [
      "Epoch 6: 100%|██████████| 201/201 [02:07<00:00,  1.58it/s, train_loss=0.217]\n",
      "Epoch 6: 100%|██████████| 29/29 [00:12<00:00,  2.33it/s, val_loss=0.142]\n"
     ]
    },
    {
     "name": "stdout",
     "output_type": "stream",
     "text": [
      "New best model found: pAUC = 0.132747 (previous best: 0.127950)\n",
      "Epoch 6: Train pAUC: 0.079228 - Val pAUC: 0.132747 | Train Loss: 6.938234 - Val Loss: 8.922760\n",
      "\n"
     ]
    },
    {
     "name": "stderr",
     "output_type": "stream",
     "text": [
      "Epoch 7: 100%|██████████| 201/201 [02:07<00:00,  1.57it/s, train_loss=0.194]\n",
      "Epoch 7: 100%|██████████| 29/29 [00:12<00:00,  2.34it/s, val_loss=0.127]\n"
     ]
    },
    {
     "name": "stdout",
     "output_type": "stream",
     "text": [
      "New best model found: pAUC = 0.146535 (previous best: 0.132747)\n",
      "Epoch 7: Train pAUC: 0.080571 - Val pAUC: 0.146535 | Train Loss: 6.196305 - Val Loss: 7.989458\n",
      "\n"
     ]
    },
    {
     "name": "stderr",
     "output_type": "stream",
     "text": [
      "Epoch 8: 100%|██████████| 201/201 [02:07<00:00,  1.58it/s, train_loss=0.177]\n",
      "Epoch 8: 100%|██████████| 29/29 [00:12<00:00,  2.32it/s, val_loss=0.108]\n"
     ]
    },
    {
     "name": "stdout",
     "output_type": "stream",
     "text": [
      "Epoch 8: Train pAUC: 0.089377 - Val pAUC: 0.142917 | Train Loss: 5.656922 - Val Loss: 6.796200\n",
      "\n"
     ]
    },
    {
     "name": "stderr",
     "output_type": "stream",
     "text": [
      "Epoch 9: 100%|██████████| 201/201 [02:07<00:00,  1.58it/s, train_loss=0.174]\n",
      "Epoch 9: 100%|██████████| 29/29 [00:12<00:00,  2.33it/s, val_loss=0.104]\n"
     ]
    },
    {
     "name": "stdout",
     "output_type": "stream",
     "text": [
      "Epoch 9: Train pAUC: 0.077612 - Val pAUC: 0.139957 | Train Loss: 5.553910 - Val Loss: 6.546937\n",
      "\n"
     ]
    },
    {
     "name": "stderr",
     "output_type": "stream",
     "text": [
      "Epoch 10: 100%|██████████| 201/201 [02:07<00:00,  1.58it/s, train_loss=0.159]\n",
      "Epoch 10: 100%|██████████| 29/29 [00:12<00:00,  2.32it/s, val_loss=0.113]\n"
     ]
    },
    {
     "name": "stdout",
     "output_type": "stream",
     "text": [
      "Epoch 10: Train pAUC: 0.101354 - Val pAUC: 0.139497 | Train Loss: 5.094201 - Val Loss: 7.134242\n",
      "\n"
     ]
    },
    {
     "name": "stderr",
     "output_type": "stream",
     "text": [
      "Epoch 11: 100%|██████████| 201/201 [02:07<00:00,  1.58it/s, train_loss=0.147]\n",
      "Epoch 11: 100%|██████████| 29/29 [00:12<00:00,  2.30it/s, val_loss=0.115]\n"
     ]
    },
    {
     "name": "stdout",
     "output_type": "stream",
     "text": [
      "New best model found: pAUC = 0.153234 (previous best: 0.146535)\n",
      "Epoch 11: Train pAUC: 0.093289 - Val pAUC: 0.153234 | Train Loss: 4.704634 - Val Loss: 7.223351\n",
      "\n"
     ]
    },
    {
     "name": "stderr",
     "output_type": "stream",
     "text": [
      "Epoch 12: 100%|██████████| 201/201 [02:07<00:00,  1.58it/s, train_loss=0.138]\n",
      "Epoch 12: 100%|██████████| 29/29 [00:12<00:00,  2.32it/s, val_loss=0.11]\n"
     ]
    },
    {
     "name": "stdout",
     "output_type": "stream",
     "text": [
      "Epoch 12: Train pAUC: 0.103330 - Val pAUC: 0.083540 | Train Loss: 4.405506 - Val Loss: 6.931395\n",
      "\n"
     ]
    },
    {
     "name": "stderr",
     "output_type": "stream",
     "text": [
      "Epoch 13: 100%|██████████| 201/201 [02:07<00:00,  1.58it/s, train_loss=0.137]\n",
      "Epoch 13: 100%|██████████| 29/29 [00:12<00:00,  2.33it/s, val_loss=0.103]\n"
     ]
    },
    {
     "name": "stdout",
     "output_type": "stream",
     "text": [
      "Epoch 13: Train pAUC: 0.102074 - Val pAUC: 0.151119 | Train Loss: 4.373810 - Val Loss: 6.499662\n",
      "\n"
     ]
    },
    {
     "name": "stderr",
     "output_type": "stream",
     "text": [
      "Epoch 14: 100%|██████████| 201/201 [02:07<00:00,  1.57it/s, train_loss=0.131]\n",
      "Epoch 14: 100%|██████████| 29/29 [00:12<00:00,  2.32it/s, val_loss=0.109]\n"
     ]
    },
    {
     "name": "stdout",
     "output_type": "stream",
     "text": [
      "Epoch 14: Train pAUC: 0.121559 - Val pAUC: 0.142977 | Train Loss: 4.191490 - Val Loss: 6.850071\n",
      "\n"
     ]
    },
    {
     "name": "stderr",
     "output_type": "stream",
     "text": [
      "Epoch 15: 100%|██████████| 201/201 [02:07<00:00,  1.57it/s, train_loss=0.122]\n",
      "Epoch 15: 100%|██████████| 29/29 [00:12<00:00,  2.31it/s, val_loss=0.089]\n"
     ]
    },
    {
     "name": "stdout",
     "output_type": "stream",
     "text": [
      "Epoch 15: Train pAUC: 0.115384 - Val pAUC: 0.148746 | Train Loss: 3.909365 - Val Loss: 5.607065\n",
      "\n"
     ]
    },
    {
     "name": "stderr",
     "output_type": "stream",
     "text": [
      "Epoch 16: 100%|██████████| 201/201 [02:07<00:00,  1.57it/s, train_loss=0.116]\n",
      "Epoch 16: 100%|██████████| 29/29 [00:12<00:00,  2.33it/s, val_loss=0.0999]\n"
     ]
    },
    {
     "name": "stdout",
     "output_type": "stream",
     "text": [
      "Epoch 16: Train pAUC: 0.129520 - Val pAUC: 0.150798 | Train Loss: 3.699835 - Val Loss: 6.299580\n",
      "\n"
     ]
    },
    {
     "name": "stderr",
     "output_type": "stream",
     "text": [
      "Epoch 17: 100%|██████████| 201/201 [02:07<00:00,  1.58it/s, train_loss=0.112]\n",
      "Epoch 17: 100%|██████████| 29/29 [00:12<00:00,  2.31it/s, val_loss=0.0871]\n"
     ]
    },
    {
     "name": "stdout",
     "output_type": "stream",
     "text": [
      "New best model found: pAUC = 0.165583 (previous best: 0.153234)\n",
      "Epoch 17: Train pAUC: 0.120229 - Val pAUC: 0.165583 | Train Loss: 3.571389 - Val Loss: 5.487682\n",
      "\n"
     ]
    },
    {
     "name": "stderr",
     "output_type": "stream",
     "text": [
      "Epoch 18: 100%|██████████| 201/201 [02:07<00:00,  1.58it/s, train_loss=0.107]\n",
      "Epoch 18: 100%|██████████| 29/29 [00:12<00:00,  2.31it/s, val_loss=0.0966]\n"
     ]
    },
    {
     "name": "stdout",
     "output_type": "stream",
     "text": [
      "Epoch 18: Train pAUC: 0.131953 - Val pAUC: 0.151983 | Train Loss: 3.433535 - Val Loss: 6.088037\n",
      "\n"
     ]
    },
    {
     "name": "stderr",
     "output_type": "stream",
     "text": [
      "Epoch 19: 100%|██████████| 201/201 [02:07<00:00,  1.58it/s, train_loss=0.109]\n",
      "Epoch 19: 100%|██████████| 29/29 [00:12<00:00,  2.33it/s, val_loss=0.109]\n"
     ]
    },
    {
     "name": "stdout",
     "output_type": "stream",
     "text": [
      "Epoch 19: Train pAUC: 0.138016 - Val pAUC: 0.135866 | Train Loss: 3.480818 - Val Loss: 6.890181\n",
      "\n"
     ]
    },
    {
     "name": "stderr",
     "output_type": "stream",
     "text": [
      "Epoch 20: 100%|██████████| 201/201 [02:07<00:00,  1.58it/s, train_loss=0.104]\n",
      "Epoch 20: 100%|██████████| 29/29 [00:12<00:00,  2.32it/s, val_loss=0.0972]\n"
     ]
    },
    {
     "name": "stdout",
     "output_type": "stream",
     "text": [
      "Epoch 20: Train pAUC: 0.139924 - Val pAUC: 0.146298 | Train Loss: 3.334782 - Val Loss: 6.125359\n",
      "\n"
     ]
    },
    {
     "name": "stderr",
     "output_type": "stream",
     "text": [
      "Epoch 21: 100%|██████████| 201/201 [02:07<00:00,  1.57it/s, train_loss=0.0978]\n",
      "Epoch 21: 100%|██████████| 29/29 [00:12<00:00,  2.31it/s, val_loss=0.101]\n"
     ]
    },
    {
     "name": "stdout",
     "output_type": "stream",
     "text": [
      "Epoch 21: Train pAUC: 0.151371 - Val pAUC: 0.134144 | Train Loss: 3.126881 - Val Loss: 6.343907\n",
      "\n"
     ]
    },
    {
     "name": "stderr",
     "output_type": "stream",
     "text": [
      "Epoch 22: 100%|██████████| 201/201 [02:07<00:00,  1.58it/s, train_loss=0.0933]\n",
      "Epoch 22: 100%|██████████| 29/29 [00:12<00:00,  2.33it/s, val_loss=0.0924]\n"
     ]
    },
    {
     "name": "stdout",
     "output_type": "stream",
     "text": [
      "Epoch 22: Train pAUC: 0.144020 - Val pAUC: 0.147328 | Train Loss: 2.982230 - Val Loss: 5.823698\n",
      "\n"
     ]
    },
    {
     "name": "stderr",
     "output_type": "stream",
     "text": [
      "Epoch 23: 100%|██████████| 201/201 [02:07<00:00,  1.58it/s, train_loss=0.0913]\n",
      "Epoch 23: 100%|██████████| 29/29 [00:12<00:00,  2.34it/s, val_loss=0.0938]\n"
     ]
    },
    {
     "name": "stdout",
     "output_type": "stream",
     "text": [
      "Epoch 23: Train pAUC: 0.159215 - Val pAUC: 0.150826 | Train Loss: 2.918365 - Val Loss: 5.915625\n",
      "\n"
     ]
    },
    {
     "name": "stderr",
     "output_type": "stream",
     "text": [
      "Epoch 24: 100%|██████████| 201/201 [02:07<00:00,  1.57it/s, train_loss=0.091]\n",
      "Epoch 24: 100%|██████████| 29/29 [00:12<00:00,  2.33it/s, val_loss=0.094]\n"
     ]
    },
    {
     "name": "stdout",
     "output_type": "stream",
     "text": [
      "Epoch 24: Train pAUC: 0.150881 - Val pAUC: 0.143591 | Train Loss: 2.908710 - Val Loss: 5.925623\n",
      "\n"
     ]
    },
    {
     "name": "stderr",
     "output_type": "stream",
     "text": [
      "Epoch 25: 100%|██████████| 201/201 [02:07<00:00,  1.57it/s, train_loss=0.0804]\n",
      "Epoch 25: 100%|██████████| 29/29 [00:12<00:00,  2.32it/s, val_loss=0.0933]\n"
     ]
    },
    {
     "name": "stdout",
     "output_type": "stream",
     "text": [
      "Epoch 25: Train pAUC: 0.149398 - Val pAUC: 0.156912 | Train Loss: 2.570930 - Val Loss: 5.880433\n",
      "\n"
     ]
    },
    {
     "name": "stderr",
     "output_type": "stream",
     "text": [
      "Epoch 26: 100%|██████████| 201/201 [02:07<00:00,  1.57it/s, train_loss=0.0852]\n",
      "Epoch 26: 100%|██████████| 29/29 [00:12<00:00,  2.32it/s, val_loss=0.0938]\n"
     ]
    },
    {
     "name": "stdout",
     "output_type": "stream",
     "text": [
      "Epoch 26: Train pAUC: 0.150687 - Val pAUC: 0.137693 | Train Loss: 2.724820 - Val Loss: 5.910054\n",
      "\n"
     ]
    },
    {
     "name": "stderr",
     "output_type": "stream",
     "text": [
      "Epoch 27: 100%|██████████| 201/201 [02:07<00:00,  1.58it/s, train_loss=0.0782]\n",
      "Epoch 27: 100%|██████████| 29/29 [00:12<00:00,  2.30it/s, val_loss=0.0936]\n"
     ]
    },
    {
     "name": "stdout",
     "output_type": "stream",
     "text": [
      "Early stopping triggered at epoch 27. Best pAUC = 0.165583\n",
      "Epoch 27: Train pAUC: 0.160345 - Val pAUC: 0.139556 | Train Loss: 2.499533 - Val Loss: 5.898833\n",
      "\n"
     ]
    },
    {
     "name": "stderr",
     "output_type": "stream",
     "text": [
      "Prediction: 100%|██████████| 1310/1310 [09:01<00:00,  2.42it/s]\n"
     ]
    },
    {
     "name": "stdout",
     "output_type": "stream",
     "text": [
      "---------------------------------- Fold 2 ----------------------------------\n",
      "\n",
      "\n",
      "---------------------------------- Fold 3 ----------------------------------\n"
     ]
    },
    {
     "name": "stderr",
     "output_type": "stream",
     "text": [
      "Epoch 1: 100%|██████████| 218/218 [02:18<00:00,  1.58it/s, train_loss=0.546]\n",
      "Epoch 1: 100%|██████████| 21/21 [00:09<00:00,  2.33it/s, val_loss=0.432]\n"
     ]
    },
    {
     "name": "stdout",
     "output_type": "stream",
     "text": [
      "Epoch 1: Train pAUC: 0.063864 - Val pAUC: 0.106464 | Train Loss: 17.390451 - Val Loss: 26.865743\n",
      "\n"
     ]
    },
    {
     "name": "stderr",
     "output_type": "stream",
     "text": [
      "Epoch 2: 100%|██████████| 218/218 [02:17<00:00,  1.58it/s, train_loss=0.414]\n",
      "Epoch 2: 100%|██████████| 21/21 [00:09<00:00,  2.33it/s, val_loss=0.295]\n"
     ]
    },
    {
     "name": "stdout",
     "output_type": "stream",
     "text": [
      "New best model found: pAUC = 0.114757 (previous best: 0.106464)\n",
      "Epoch 2: Train pAUC: 0.068300 - Val pAUC: 0.114757 | Train Loss: 13.182521 - Val Loss: 18.315795\n",
      "\n"
     ]
    },
    {
     "name": "stderr",
     "output_type": "stream",
     "text": [
      "Epoch 3: 100%|██████████| 218/218 [02:18<00:00,  1.58it/s, train_loss=0.32]\n",
      "Epoch 3: 100%|██████████| 21/21 [00:09<00:00,  2.31it/s, val_loss=0.232]\n"
     ]
    },
    {
     "name": "stdout",
     "output_type": "stream",
     "text": [
      "New best model found: pAUC = 0.141955 (previous best: 0.114757)\n",
      "Epoch 3: Train pAUC: 0.083636 - Val pAUC: 0.141955 | Train Loss: 10.187272 - Val Loss: 14.437998\n",
      "\n"
     ]
    },
    {
     "name": "stderr",
     "output_type": "stream",
     "text": [
      "Epoch 4: 100%|██████████| 218/218 [02:17<00:00,  1.58it/s, train_loss=0.245]\n",
      "Epoch 4: 100%|██████████| 21/21 [00:09<00:00,  2.32it/s, val_loss=0.222]\n"
     ]
    },
    {
     "name": "stdout",
     "output_type": "stream",
     "text": [
      "Epoch 4: Train pAUC: 0.081098 - Val pAUC: 0.141357 | Train Loss: 7.801500 - Val Loss: 13.775472\n",
      "\n"
     ]
    },
    {
     "name": "stderr",
     "output_type": "stream",
     "text": [
      "Epoch 5: 100%|██████████| 218/218 [02:17<00:00,  1.58it/s, train_loss=0.204]\n",
      "Epoch 5: 100%|██████████| 21/21 [00:09<00:00,  2.32it/s, val_loss=0.166]\n"
     ]
    },
    {
     "name": "stdout",
     "output_type": "stream",
     "text": [
      "Epoch 5: Train pAUC: 0.079369 - Val pAUC: 0.140757 | Train Loss: 6.497484 - Val Loss: 10.343202\n",
      "\n"
     ]
    },
    {
     "name": "stderr",
     "output_type": "stream",
     "text": [
      "Epoch 6: 100%|██████████| 218/218 [02:17<00:00,  1.58it/s, train_loss=0.176]\n",
      "Epoch 6: 100%|██████████| 21/21 [00:09<00:00,  2.31it/s, val_loss=0.144]\n"
     ]
    },
    {
     "name": "stdout",
     "output_type": "stream",
     "text": [
      "New best model found: pAUC = 0.152410 (previous best: 0.141955)\n",
      "Epoch 6: Train pAUC: 0.090701 - Val pAUC: 0.152410 | Train Loss: 5.598421 - Val Loss: 8.954406\n",
      "\n"
     ]
    },
    {
     "name": "stderr",
     "output_type": "stream",
     "text": [
      "Epoch 7: 100%|██████████| 218/218 [02:17<00:00,  1.58it/s, train_loss=0.161]\n",
      "Epoch 7: 100%|██████████| 21/21 [00:09<00:00,  2.33it/s, val_loss=0.137]\n"
     ]
    },
    {
     "name": "stdout",
     "output_type": "stream",
     "text": [
      "Epoch 7: Train pAUC: 0.089893 - Val pAUC: 0.124462 | Train Loss: 5.145878 - Val Loss: 8.527782\n",
      "\n"
     ]
    },
    {
     "name": "stderr",
     "output_type": "stream",
     "text": [
      "Epoch 8: 100%|██████████| 218/218 [02:18<00:00,  1.58it/s, train_loss=0.147]\n",
      "Epoch 8: 100%|██████████| 21/21 [00:09<00:00,  2.32it/s, val_loss=0.126]\n"
     ]
    },
    {
     "name": "stdout",
     "output_type": "stream",
     "text": [
      "Epoch 8: Train pAUC: 0.094033 - Val pAUC: 0.143886 | Train Loss: 4.678982 - Val Loss: 7.850964\n",
      "\n"
     ]
    },
    {
     "name": "stderr",
     "output_type": "stream",
     "text": [
      "Epoch 9: 100%|██████████| 218/218 [02:18<00:00,  1.58it/s, train_loss=0.14]\n",
      "Epoch 9: 100%|██████████| 21/21 [00:09<00:00,  2.31it/s, val_loss=0.125]\n"
     ]
    },
    {
     "name": "stdout",
     "output_type": "stream",
     "text": [
      "Epoch 9: Train pAUC: 0.098157 - Val pAUC: 0.149266 | Train Loss: 4.463978 - Val Loss: 7.750357\n",
      "\n"
     ]
    },
    {
     "name": "stderr",
     "output_type": "stream",
     "text": [
      "Epoch 10: 100%|██████████| 218/218 [02:17<00:00,  1.58it/s, train_loss=0.13]\n",
      "Epoch 10: 100%|██████████| 21/21 [00:09<00:00,  2.33it/s, val_loss=0.126]\n"
     ]
    },
    {
     "name": "stdout",
     "output_type": "stream",
     "text": [
      "Epoch 10: Train pAUC: 0.108411 - Val pAUC: 0.140925 | Train Loss: 4.143644 - Val Loss: 7.805924\n",
      "\n"
     ]
    },
    {
     "name": "stderr",
     "output_type": "stream",
     "text": [
      "Epoch 11: 100%|██████████| 218/218 [02:18<00:00,  1.58it/s, train_loss=0.125]\n",
      "Epoch 11: 100%|██████████| 21/21 [00:09<00:00,  2.32it/s, val_loss=0.129]\n"
     ]
    },
    {
     "name": "stdout",
     "output_type": "stream",
     "text": [
      "Epoch 11: Train pAUC: 0.121212 - Val pAUC: 0.139983 | Train Loss: 3.990433 - Val Loss: 8.009087\n",
      "\n"
     ]
    },
    {
     "name": "stderr",
     "output_type": "stream",
     "text": [
      "Epoch 12: 100%|██████████| 218/218 [02:17<00:00,  1.58it/s, train_loss=0.119]\n",
      "Epoch 12: 100%|██████████| 21/21 [00:09<00:00,  2.31it/s, val_loss=0.116]\n"
     ]
    },
    {
     "name": "stdout",
     "output_type": "stream",
     "text": [
      "Epoch 12: Train pAUC: 0.120287 - Val pAUC: 0.129605 | Train Loss: 3.786083 - Val Loss: 7.187898\n",
      "\n"
     ]
    },
    {
     "name": "stderr",
     "output_type": "stream",
     "text": [
      "Epoch 13: 100%|██████████| 218/218 [02:18<00:00,  1.58it/s, train_loss=0.115]\n",
      "Epoch 13: 100%|██████████| 21/21 [00:09<00:00,  2.31it/s, val_loss=0.115]\n"
     ]
    },
    {
     "name": "stdout",
     "output_type": "stream",
     "text": [
      "Epoch 13: Train pAUC: 0.126061 - Val pAUC: 0.135339 | Train Loss: 3.672070 - Val Loss: 7.133572\n",
      "\n"
     ]
    },
    {
     "name": "stderr",
     "output_type": "stream",
     "text": [
      "Epoch 14: 100%|██████████| 218/218 [02:17<00:00,  1.58it/s, train_loss=0.106]\n",
      "Epoch 14: 100%|██████████| 21/21 [00:09<00:00,  2.30it/s, val_loss=0.113]\n"
     ]
    },
    {
     "name": "stdout",
     "output_type": "stream",
     "text": [
      "New best model found: pAUC = 0.160994 (previous best: 0.152410)\n",
      "Epoch 14: Train pAUC: 0.133330 - Val pAUC: 0.160994 | Train Loss: 3.380303 - Val Loss: 7.046650\n",
      "\n"
     ]
    },
    {
     "name": "stderr",
     "output_type": "stream",
     "text": [
      "Epoch 15: 100%|██████████| 218/218 [02:18<00:00,  1.58it/s, train_loss=0.0992]\n",
      "Epoch 15: 100%|██████████| 21/21 [00:09<00:00,  2.33it/s, val_loss=0.118]\n"
     ]
    },
    {
     "name": "stdout",
     "output_type": "stream",
     "text": [
      "Epoch 15: Train pAUC: 0.143157 - Val pAUC: 0.137863 | Train Loss: 3.160507 - Val Loss: 7.362247\n",
      "\n"
     ]
    },
    {
     "name": "stderr",
     "output_type": "stream",
     "text": [
      "Epoch 16: 100%|██████████| 218/218 [02:17<00:00,  1.58it/s, train_loss=0.0993]\n",
      "Epoch 16: 100%|██████████| 21/21 [00:09<00:00,  2.32it/s, val_loss=0.119]\n"
     ]
    },
    {
     "name": "stdout",
     "output_type": "stream",
     "text": [
      "Epoch 16: Train pAUC: 0.135986 - Val pAUC: 0.149922 | Train Loss: 3.163517 - Val Loss: 7.372103\n",
      "\n"
     ]
    },
    {
     "name": "stderr",
     "output_type": "stream",
     "text": [
      "Epoch 17: 100%|██████████| 218/218 [02:18<00:00,  1.58it/s, train_loss=0.0917]\n",
      "Epoch 17: 100%|██████████| 21/21 [00:09<00:00,  2.33it/s, val_loss=0.117]\n"
     ]
    },
    {
     "name": "stdout",
     "output_type": "stream",
     "text": [
      "Epoch 17: Train pAUC: 0.143073 - Val pAUC: 0.148106 | Train Loss: 2.924090 - Val Loss: 7.264939\n",
      "\n"
     ]
    },
    {
     "name": "stderr",
     "output_type": "stream",
     "text": [
      "Epoch 18: 100%|██████████| 218/218 [02:18<00:00,  1.58it/s, train_loss=0.0861]\n",
      "Epoch 18: 100%|██████████| 21/21 [00:09<00:00,  2.32it/s, val_loss=0.112]\n"
     ]
    },
    {
     "name": "stdout",
     "output_type": "stream",
     "text": [
      "Epoch 18: Train pAUC: 0.145951 - Val pAUC: 0.130171 | Train Loss: 2.742987 - Val Loss: 6.969130\n",
      "\n"
     ]
    },
    {
     "name": "stderr",
     "output_type": "stream",
     "text": [
      "Epoch 19: 100%|██████████| 218/218 [02:17<00:00,  1.58it/s, train_loss=0.0839]\n",
      "Epoch 19: 100%|██████████| 21/21 [00:09<00:00,  2.31it/s, val_loss=0.127]\n"
     ]
    },
    {
     "name": "stdout",
     "output_type": "stream",
     "text": [
      "Epoch 19: Train pAUC: 0.156683 - Val pAUC: 0.154655 | Train Loss: 2.674522 - Val Loss: 7.899576\n",
      "\n"
     ]
    },
    {
     "name": "stderr",
     "output_type": "stream",
     "text": [
      "Epoch 20: 100%|██████████| 218/218 [02:17<00:00,  1.58it/s, train_loss=0.0821]\n",
      "Epoch 20: 100%|██████████| 21/21 [00:09<00:00,  2.31it/s, val_loss=0.13]\n"
     ]
    },
    {
     "name": "stdout",
     "output_type": "stream",
     "text": [
      "Epoch 20: Train pAUC: 0.150920 - Val pAUC: 0.097639 | Train Loss: 2.616903 - Val Loss: 8.057187\n",
      "\n"
     ]
    },
    {
     "name": "stderr",
     "output_type": "stream",
     "text": [
      "Epoch 21: 100%|██████████| 218/218 [02:18<00:00,  1.58it/s, train_loss=0.0771]\n",
      "Epoch 21: 100%|██████████| 21/21 [00:09<00:00,  2.30it/s, val_loss=0.121]\n"
     ]
    },
    {
     "name": "stdout",
     "output_type": "stream",
     "text": [
      "Epoch 21: Train pAUC: 0.157182 - Val pAUC: 0.106718 | Train Loss: 2.457999 - Val Loss: 7.543027\n",
      "\n"
     ]
    },
    {
     "name": "stderr",
     "output_type": "stream",
     "text": [
      "Epoch 22: 100%|██████████| 218/218 [02:17<00:00,  1.58it/s, train_loss=0.0722]\n",
      "Epoch 22: 100%|██████████| 21/21 [00:09<00:00,  2.31it/s, val_loss=0.128]\n"
     ]
    },
    {
     "name": "stdout",
     "output_type": "stream",
     "text": [
      "Epoch 22: Train pAUC: 0.162489 - Val pAUC: 0.089022 | Train Loss: 2.299801 - Val Loss: 7.948323\n",
      "\n"
     ]
    },
    {
     "name": "stderr",
     "output_type": "stream",
     "text": [
      "Epoch 23: 100%|██████████| 218/218 [02:17<00:00,  1.58it/s, train_loss=0.07]\n",
      "Epoch 23: 100%|██████████| 21/21 [00:09<00:00,  2.30it/s, val_loss=0.126]\n"
     ]
    },
    {
     "name": "stdout",
     "output_type": "stream",
     "text": [
      "Epoch 23: Train pAUC: 0.168174 - Val pAUC: 0.093902 | Train Loss: 2.230375 - Val Loss: 7.836786\n",
      "\n"
     ]
    },
    {
     "name": "stderr",
     "output_type": "stream",
     "text": [
      "Epoch 24: 100%|██████████| 218/218 [02:17<00:00,  1.58it/s, train_loss=0.0678]\n",
      "Epoch 24: 100%|██████████| 21/21 [00:08<00:00,  2.34it/s, val_loss=0.129]\n"
     ]
    },
    {
     "name": "stdout",
     "output_type": "stream",
     "text": [
      "Early stopping triggered at epoch 24. Best pAUC = 0.160994\n",
      "Epoch 24: Train pAUC: 0.175815 - Val pAUC: 0.094575 | Train Loss: 2.159891 - Val Loss: 8.047452\n",
      "\n"
     ]
    },
    {
     "name": "stderr",
     "output_type": "stream",
     "text": [
      "Prediction: 100%|██████████| 1191/1191 [08:12<00:00,  2.42it/s]\n"
     ]
    },
    {
     "name": "stdout",
     "output_type": "stream",
     "text": [
      "---------------------------------- Fold 3 ----------------------------------\n",
      "\n",
      "\n",
      "---------------------------------- Fold 4 ----------------------------------\n"
     ]
    },
    {
     "name": "stderr",
     "output_type": "stream",
     "text": [
      "Epoch 1: 100%|██████████| 205/205 [02:10<00:00,  1.57it/s, train_loss=0.52]\n",
      "Epoch 1: 100%|██████████| 27/27 [00:11<00:00,  2.31it/s, val_loss=0.377]\n"
     ]
    },
    {
     "name": "stdout",
     "output_type": "stream",
     "text": [
      "Epoch 1: Train pAUC: 0.045436 - Val pAUC: 0.073646 | Train Loss: 16.618189 - Val Loss: 23.789413\n",
      "\n"
     ]
    },
    {
     "name": "stderr",
     "output_type": "stream",
     "text": [
      "Epoch 2: 100%|██████████| 205/205 [02:10<00:00,  1.58it/s, train_loss=0.394]\n",
      "Epoch 2: 100%|██████████| 27/27 [00:11<00:00,  2.28it/s, val_loss=0.298]\n"
     ]
    },
    {
     "name": "stdout",
     "output_type": "stream",
     "text": [
      "Epoch 2: Train pAUC: 0.060093 - Val pAUC: 0.069395 | Train Loss: 12.586162 - Val Loss: 18.787679\n",
      "\n"
     ]
    },
    {
     "name": "stderr",
     "output_type": "stream",
     "text": [
      "Epoch 3: 100%|██████████| 205/205 [02:10<00:00,  1.57it/s, train_loss=0.306]\n",
      "Epoch 3: 100%|██████████| 27/27 [00:11<00:00,  2.32it/s, val_loss=0.232]\n"
     ]
    },
    {
     "name": "stdout",
     "output_type": "stream",
     "text": [
      "New best model found: pAUC = 0.082596 (previous best: 0.073646)\n",
      "Epoch 3: Train pAUC: 0.065832 - Val pAUC: 0.082596 | Train Loss: 9.780871 - Val Loss: 14.657529\n",
      "\n"
     ]
    },
    {
     "name": "stderr",
     "output_type": "stream",
     "text": [
      "Epoch 4: 100%|██████████| 205/205 [02:10<00:00,  1.58it/s, train_loss=0.248]\n",
      "Epoch 4: 100%|██████████| 27/27 [00:11<00:00,  2.32it/s, val_loss=0.19]\n"
     ]
    },
    {
     "name": "stdout",
     "output_type": "stream",
     "text": [
      "New best model found: pAUC = 0.139987 (previous best: 0.082596)\n",
      "Epoch 4: Train pAUC: 0.070977 - Val pAUC: 0.139987 | Train Loss: 7.927708 - Val Loss: 11.989898\n",
      "\n"
     ]
    },
    {
     "name": "stderr",
     "output_type": "stream",
     "text": [
      "Epoch 5: 100%|██████████| 205/205 [02:10<00:00,  1.58it/s, train_loss=0.209]\n",
      "Epoch 5: 100%|██████████| 27/27 [00:11<00:00,  2.33it/s, val_loss=0.162]\n"
     ]
    },
    {
     "name": "stdout",
     "output_type": "stream",
     "text": [
      "Epoch 5: Train pAUC: 0.087418 - Val pAUC: 0.130583 | Train Loss: 6.667969 - Val Loss: 10.212936\n",
      "\n"
     ]
    },
    {
     "name": "stderr",
     "output_type": "stream",
     "text": [
      "Epoch 6: 100%|██████████| 205/205 [02:10<00:00,  1.58it/s, train_loss=0.187]\n",
      "Epoch 6: 100%|██████████| 27/27 [00:11<00:00,  2.32it/s, val_loss=0.138]\n"
     ]
    },
    {
     "name": "stdout",
     "output_type": "stream",
     "text": [
      "Epoch 6: Train pAUC: 0.091995 - Val pAUC: 0.133982 | Train Loss: 5.988719 - Val Loss: 8.687514\n",
      "\n"
     ]
    },
    {
     "name": "stderr",
     "output_type": "stream",
     "text": [
      "Epoch 7: 100%|██████████| 205/205 [02:10<00:00,  1.58it/s, train_loss=0.167]\n",
      "Epoch 7: 100%|██████████| 27/27 [00:11<00:00,  2.31it/s, val_loss=0.124]\n"
     ]
    },
    {
     "name": "stdout",
     "output_type": "stream",
     "text": [
      "Epoch 7: Train pAUC: 0.103341 - Val pAUC: 0.125794 | Train Loss: 5.351249 - Val Loss: 7.845535\n",
      "\n"
     ]
    },
    {
     "name": "stderr",
     "output_type": "stream",
     "text": [
      "Epoch 8: 100%|██████████| 205/205 [02:10<00:00,  1.57it/s, train_loss=0.151]\n",
      "Epoch 8: 100%|██████████| 27/27 [00:11<00:00,  2.31it/s, val_loss=0.119]\n"
     ]
    },
    {
     "name": "stdout",
     "output_type": "stream",
     "text": [
      "Epoch 8: Train pAUC: 0.110226 - Val pAUC: 0.137884 | Train Loss: 4.838459 - Val Loss: 7.519355\n",
      "\n"
     ]
    },
    {
     "name": "stderr",
     "output_type": "stream",
     "text": [
      "Epoch 9: 100%|██████████| 205/205 [02:10<00:00,  1.58it/s, train_loss=0.147]\n",
      "Epoch 9: 100%|██████████| 27/27 [00:11<00:00,  2.33it/s, val_loss=0.124]\n"
     ]
    },
    {
     "name": "stdout",
     "output_type": "stream",
     "text": [
      "Epoch 9: Train pAUC: 0.103135 - Val pAUC: 0.130634 | Train Loss: 4.708387 - Val Loss: 7.796959\n",
      "\n"
     ]
    },
    {
     "name": "stderr",
     "output_type": "stream",
     "text": [
      "Epoch 10: 100%|██████████| 205/205 [02:10<00:00,  1.58it/s, train_loss=0.137]\n",
      "Epoch 10: 100%|██████████| 27/27 [00:11<00:00,  2.32it/s, val_loss=0.111]\n"
     ]
    },
    {
     "name": "stdout",
     "output_type": "stream",
     "text": [
      "Epoch 10: Train pAUC: 0.114300 - Val pAUC: 0.135033 | Train Loss: 4.385260 - Val Loss: 6.982653\n",
      "\n"
     ]
    },
    {
     "name": "stderr",
     "output_type": "stream",
     "text": [
      "Epoch 11: 100%|██████████| 205/205 [02:10<00:00,  1.58it/s, train_loss=0.131]\n",
      "Epoch 11: 100%|██████████| 27/27 [00:11<00:00,  2.30it/s, val_loss=0.115]\n"
     ]
    },
    {
     "name": "stdout",
     "output_type": "stream",
     "text": [
      "New best model found: pAUC = 0.143164 (previous best: 0.139987)\n",
      "Epoch 11: Train pAUC: 0.116795 - Val pAUC: 0.143164 | Train Loss: 4.187520 - Val Loss: 7.250649\n",
      "\n"
     ]
    },
    {
     "name": "stderr",
     "output_type": "stream",
     "text": [
      "Epoch 12: 100%|██████████| 205/205 [02:10<00:00,  1.58it/s, train_loss=0.121]\n",
      "Epoch 12: 100%|██████████| 27/27 [00:11<00:00,  2.30it/s, val_loss=0.113]\n"
     ]
    },
    {
     "name": "stdout",
     "output_type": "stream",
     "text": [
      "Epoch 12: Train pAUC: 0.119479 - Val pAUC: 0.130225 | Train Loss: 3.876575 - Val Loss: 7.099041\n",
      "\n"
     ]
    },
    {
     "name": "stderr",
     "output_type": "stream",
     "text": [
      "Epoch 13: 100%|██████████| 205/205 [02:10<00:00,  1.58it/s, train_loss=0.118]\n",
      "Epoch 13: 100%|██████████| 27/27 [00:11<00:00,  2.30it/s, val_loss=0.102]\n"
     ]
    },
    {
     "name": "stdout",
     "output_type": "stream",
     "text": [
      "Epoch 13: Train pAUC: 0.143939 - Val pAUC: 0.137564 | Train Loss: 3.769511 - Val Loss: 6.436486\n",
      "\n"
     ]
    },
    {
     "name": "stderr",
     "output_type": "stream",
     "text": [
      "Epoch 14: 100%|██████████| 205/205 [02:10<00:00,  1.58it/s, train_loss=0.114]\n",
      "Epoch 14: 100%|██████████| 27/27 [00:11<00:00,  2.30it/s, val_loss=0.105]\n"
     ]
    },
    {
     "name": "stdout",
     "output_type": "stream",
     "text": [
      "Epoch 14: Train pAUC: 0.124628 - Val pAUC: 0.129736 | Train Loss: 3.657336 - Val Loss: 6.643562\n",
      "\n"
     ]
    },
    {
     "name": "stderr",
     "output_type": "stream",
     "text": [
      "Epoch 15: 100%|██████████| 205/205 [02:10<00:00,  1.58it/s, train_loss=0.112]\n",
      "Epoch 15: 100%|██████████| 27/27 [00:11<00:00,  2.31it/s, val_loss=0.112]\n"
     ]
    },
    {
     "name": "stdout",
     "output_type": "stream",
     "text": [
      "Epoch 15: Train pAUC: 0.128617 - Val pAUC: 0.107403 | Train Loss: 3.572559 - Val Loss: 7.082792\n",
      "\n"
     ]
    },
    {
     "name": "stderr",
     "output_type": "stream",
     "text": [
      "Epoch 16: 100%|██████████| 205/205 [02:10<00:00,  1.57it/s, train_loss=0.0993]\n",
      "Epoch 16: 100%|██████████| 27/27 [00:11<00:00,  2.32it/s, val_loss=0.117]\n"
     ]
    },
    {
     "name": "stdout",
     "output_type": "stream",
     "text": [
      "Epoch 16: Train pAUC: 0.146103 - Val pAUC: 0.130186 | Train Loss: 3.172601 - Val Loss: 7.400302\n",
      "\n"
     ]
    },
    {
     "name": "stderr",
     "output_type": "stream",
     "text": [
      "Epoch 17: 100%|██████████| 205/205 [02:10<00:00,  1.58it/s, train_loss=0.103]\n",
      "Epoch 17: 100%|██████████| 27/27 [00:11<00:00,  2.31it/s, val_loss=0.106]\n"
     ]
    },
    {
     "name": "stdout",
     "output_type": "stream",
     "text": [
      "Epoch 17: Train pAUC: 0.148461 - Val pAUC: 0.134367 | Train Loss: 3.291354 - Val Loss: 6.701071\n",
      "\n"
     ]
    },
    {
     "name": "stderr",
     "output_type": "stream",
     "text": [
      "Epoch 18: 100%|██████████| 205/205 [02:10<00:00,  1.58it/s, train_loss=0.0967]\n",
      "Epoch 18: 100%|██████████| 27/27 [00:11<00:00,  2.31it/s, val_loss=0.112]\n"
     ]
    },
    {
     "name": "stdout",
     "output_type": "stream",
     "text": [
      "Epoch 18: Train pAUC: 0.138390 - Val pAUC: 0.106986 | Train Loss: 3.089608 - Val Loss: 7.054809\n",
      "\n"
     ]
    },
    {
     "name": "stderr",
     "output_type": "stream",
     "text": [
      "Epoch 19: 100%|██████████| 205/205 [02:10<00:00,  1.58it/s, train_loss=0.0897]\n",
      "Epoch 19: 100%|██████████| 27/27 [00:11<00:00,  2.32it/s, val_loss=0.108]\n"
     ]
    },
    {
     "name": "stdout",
     "output_type": "stream",
     "text": [
      "Epoch 19: Train pAUC: 0.152131 - Val pAUC: 0.097536 | Train Loss: 2.865047 - Val Loss: 6.817659\n",
      "\n"
     ]
    },
    {
     "name": "stderr",
     "output_type": "stream",
     "text": [
      "Epoch 20: 100%|██████████| 205/205 [02:10<00:00,  1.58it/s, train_loss=0.0884]\n",
      "Epoch 20: 100%|██████████| 27/27 [00:11<00:00,  2.30it/s, val_loss=0.104]\n"
     ]
    },
    {
     "name": "stdout",
     "output_type": "stream",
     "text": [
      "Epoch 20: Train pAUC: 0.153057 - Val pAUC: 0.139855 | Train Loss: 2.823746 - Val Loss: 6.587691\n",
      "\n"
     ]
    },
    {
     "name": "stderr",
     "output_type": "stream",
     "text": [
      "Epoch 21: 100%|██████████| 205/205 [02:10<00:00,  1.58it/s, train_loss=0.0882]\n",
      "Epoch 21: 100%|██████████| 27/27 [00:11<00:00,  2.32it/s, val_loss=0.112]\n"
     ]
    },
    {
     "name": "stdout",
     "output_type": "stream",
     "text": [
      "Early stopping triggered at epoch 21. Best pAUC = 0.143164\n",
      "Epoch 21: Train pAUC: 0.147519 - Val pAUC: 0.108872 | Train Loss: 2.816586 - Val Loss: 7.075755\n",
      "\n"
     ]
    },
    {
     "name": "stderr",
     "output_type": "stream",
     "text": [
      "Prediction: 100%|██████████| 1167/1167 [08:02<00:00,  2.42it/s]\n"
     ]
    },
    {
     "name": "stdout",
     "output_type": "stream",
     "text": [
      "---------------------------------- Fold 4 ----------------------------------\n",
      "\n",
      "\n",
      "---------------------------------- Fold 5 ----------------------------------\n"
     ]
    },
    {
     "name": "stderr",
     "output_type": "stream",
     "text": [
      "Epoch 1: 100%|██████████| 201/201 [02:07<00:00,  1.57it/s, train_loss=0.497]\n",
      "Epoch 1: 100%|██████████| 29/29 [00:12<00:00,  2.30it/s, val_loss=0.376]\n"
     ]
    },
    {
     "name": "stdout",
     "output_type": "stream",
     "text": [
      "Epoch 1: Train pAUC: 0.040322 - Val pAUC: 0.099980 | Train Loss: 15.886528 - Val Loss: 23.671460\n",
      "\n"
     ]
    },
    {
     "name": "stderr",
     "output_type": "stream",
     "text": [
      "Epoch 2: 100%|██████████| 201/201 [02:07<00:00,  1.57it/s, train_loss=0.371]\n",
      "Epoch 2: 100%|██████████| 29/29 [00:12<00:00,  2.33it/s, val_loss=0.277]\n"
     ]
    },
    {
     "name": "stdout",
     "output_type": "stream",
     "text": [
      "New best model found: pAUC = 0.114151 (previous best: 0.099980)\n",
      "Epoch 2: Train pAUC: 0.071639 - Val pAUC: 0.114151 | Train Loss: 11.866708 - Val Loss: 17.420359\n",
      "\n"
     ]
    },
    {
     "name": "stderr",
     "output_type": "stream",
     "text": [
      "Epoch 3: 100%|██████████| 201/201 [02:07<00:00,  1.58it/s, train_loss=0.275]\n",
      "Epoch 3: 100%|██████████| 29/29 [00:12<00:00,  2.34it/s, val_loss=0.206]\n"
     ]
    },
    {
     "name": "stdout",
     "output_type": "stream",
     "text": [
      "New best model found: pAUC = 0.122836 (previous best: 0.114151)\n",
      "Epoch 3: Train pAUC: 0.064452 - Val pAUC: 0.122836 | Train Loss: 8.807615 - Val Loss: 12.998299\n",
      "\n"
     ]
    },
    {
     "name": "stderr",
     "output_type": "stream",
     "text": [
      "Epoch 4: 100%|██████████| 201/201 [02:07<00:00,  1.58it/s, train_loss=0.208]\n",
      "Epoch 4: 100%|██████████| 29/29 [00:12<00:00,  2.31it/s, val_loss=0.185]\n"
     ]
    },
    {
     "name": "stdout",
     "output_type": "stream",
     "text": [
      "Epoch 4: Train pAUC: 0.082772 - Val pAUC: 0.120144 | Train Loss: 6.650153 - Val Loss: 11.627124\n",
      "\n"
     ]
    },
    {
     "name": "stderr",
     "output_type": "stream",
     "text": [
      "Epoch 5: 100%|██████████| 201/201 [02:07<00:00,  1.57it/s, train_loss=0.179]\n",
      "Epoch 5: 100%|██████████| 29/29 [00:12<00:00,  2.33it/s, val_loss=0.18]\n"
     ]
    },
    {
     "name": "stdout",
     "output_type": "stream",
     "text": [
      "Epoch 5: Train pAUC: 0.078227 - Val pAUC: 0.117798 | Train Loss: 5.726706 - Val Loss: 11.310876\n",
      "\n"
     ]
    },
    {
     "name": "stderr",
     "output_type": "stream",
     "text": [
      "Epoch 6: 100%|██████████| 201/201 [02:07<00:00,  1.58it/s, train_loss=0.164]\n",
      "Epoch 6: 100%|██████████| 29/29 [00:12<00:00,  2.33it/s, val_loss=0.166]\n"
     ]
    },
    {
     "name": "stdout",
     "output_type": "stream",
     "text": [
      "New best model found: pAUC = 0.131532 (previous best: 0.122836)\n",
      "Epoch 6: Train pAUC: 0.076139 - Val pAUC: 0.131532 | Train Loss: 5.234732 - Val Loss: 10.434703\n",
      "\n"
     ]
    },
    {
     "name": "stderr",
     "output_type": "stream",
     "text": [
      "Epoch 7: 100%|██████████| 201/201 [02:07<00:00,  1.57it/s, train_loss=0.149]\n",
      "Epoch 7: 100%|██████████| 29/29 [00:12<00:00,  2.32it/s, val_loss=0.158]\n"
     ]
    },
    {
     "name": "stdout",
     "output_type": "stream",
     "text": [
      "New best model found: pAUC = 0.154917 (previous best: 0.131532)\n",
      "Epoch 7: Train pAUC: 0.084314 - Val pAUC: 0.154917 | Train Loss: 4.756010 - Val Loss: 9.927427\n",
      "\n"
     ]
    },
    {
     "name": "stderr",
     "output_type": "stream",
     "text": [
      "Epoch 8: 100%|██████████| 201/201 [02:07<00:00,  1.57it/s, train_loss=0.143]\n",
      "Epoch 8: 100%|██████████| 29/29 [00:12<00:00,  2.33it/s, val_loss=0.15]\n"
     ]
    },
    {
     "name": "stdout",
     "output_type": "stream",
     "text": [
      "Epoch 8: Train pAUC: 0.079029 - Val pAUC: 0.137383 | Train Loss: 4.556033 - Val Loss: 9.474861\n",
      "\n"
     ]
    },
    {
     "name": "stderr",
     "output_type": "stream",
     "text": [
      "Epoch 9: 100%|██████████| 201/201 [02:07<00:00,  1.57it/s, train_loss=0.128]\n",
      "Epoch 9: 100%|██████████| 29/29 [00:12<00:00,  2.33it/s, val_loss=0.153]\n"
     ]
    },
    {
     "name": "stdout",
     "output_type": "stream",
     "text": [
      "Epoch 9: Train pAUC: 0.113155 - Val pAUC: 0.123156 | Train Loss: 4.103330 - Val Loss: 9.610029\n",
      "\n"
     ]
    },
    {
     "name": "stderr",
     "output_type": "stream",
     "text": [
      "Epoch 10: 100%|██████████| 201/201 [02:07<00:00,  1.57it/s, train_loss=0.125]\n",
      "Epoch 10: 100%|██████████| 29/29 [00:12<00:00,  2.33it/s, val_loss=0.14]\n"
     ]
    },
    {
     "name": "stdout",
     "output_type": "stream",
     "text": [
      "Epoch 10: Train pAUC: 0.104940 - Val pAUC: 0.146480 | Train Loss: 3.987299 - Val Loss: 8.814565\n",
      "\n"
     ]
    },
    {
     "name": "stderr",
     "output_type": "stream",
     "text": [
      "Epoch 11: 100%|██████████| 201/201 [02:07<00:00,  1.58it/s, train_loss=0.114]\n",
      "Epoch 11: 100%|██████████| 29/29 [00:12<00:00,  2.33it/s, val_loss=0.143]\n"
     ]
    },
    {
     "name": "stdout",
     "output_type": "stream",
     "text": [
      "Epoch 11: Train pAUC: 0.121049 - Val pAUC: 0.151407 | Train Loss: 3.636691 - Val Loss: 8.990384\n",
      "\n"
     ]
    },
    {
     "name": "stderr",
     "output_type": "stream",
     "text": [
      "Epoch 12: 100%|██████████| 201/201 [02:07<00:00,  1.58it/s, train_loss=0.11]\n",
      "Epoch 12: 100%|██████████| 29/29 [00:12<00:00,  2.34it/s, val_loss=0.148]\n"
     ]
    },
    {
     "name": "stdout",
     "output_type": "stream",
     "text": [
      "Epoch 12: Train pAUC: 0.122060 - Val pAUC: 0.146958 | Train Loss: 3.504037 - Val Loss: 9.308928\n",
      "\n"
     ]
    },
    {
     "name": "stderr",
     "output_type": "stream",
     "text": [
      "Epoch 13: 100%|██████████| 201/201 [02:07<00:00,  1.57it/s, train_loss=0.105]\n",
      "Epoch 13: 100%|██████████| 29/29 [00:12<00:00,  2.31it/s, val_loss=0.145]\n"
     ]
    },
    {
     "name": "stdout",
     "output_type": "stream",
     "text": [
      "New best model found: pAUC = 0.158716 (previous best: 0.154917)\n",
      "Epoch 13: Train pAUC: 0.120417 - Val pAUC: 0.158716 | Train Loss: 3.365987 - Val Loss: 9.161136\n",
      "\n"
     ]
    },
    {
     "name": "stderr",
     "output_type": "stream",
     "text": [
      "Epoch 14: 100%|██████████| 201/201 [02:07<00:00,  1.57it/s, train_loss=0.0983]\n",
      "Epoch 14: 100%|██████████| 29/29 [00:12<00:00,  2.31it/s, val_loss=0.148]\n"
     ]
    },
    {
     "name": "stdout",
     "output_type": "stream",
     "text": [
      "Epoch 14: Train pAUC: 0.134159 - Val pAUC: 0.138450 | Train Loss: 3.142054 - Val Loss: 9.319921\n",
      "\n"
     ]
    },
    {
     "name": "stderr",
     "output_type": "stream",
     "text": [
      "Epoch 15: 100%|██████████| 201/201 [02:07<00:00,  1.57it/s, train_loss=0.0956]\n",
      "Epoch 15: 100%|██████████| 29/29 [00:12<00:00,  2.32it/s, val_loss=0.151]\n"
     ]
    },
    {
     "name": "stdout",
     "output_type": "stream",
     "text": [
      "Epoch 15: Train pAUC: 0.135724 - Val pAUC: 0.156928 | Train Loss: 3.054917 - Val Loss: 9.493764\n",
      "\n"
     ]
    },
    {
     "name": "stderr",
     "output_type": "stream",
     "text": [
      "Epoch 16: 100%|██████████| 201/201 [02:07<00:00,  1.57it/s, train_loss=0.0928]\n",
      "Epoch 16: 100%|██████████| 29/29 [00:12<00:00,  2.34it/s, val_loss=0.146]\n"
     ]
    },
    {
     "name": "stdout",
     "output_type": "stream",
     "text": [
      "Epoch 16: Train pAUC: 0.135700 - Val pAUC: 0.143102 | Train Loss: 2.967858 - Val Loss: 9.227248\n",
      "\n"
     ]
    },
    {
     "name": "stderr",
     "output_type": "stream",
     "text": [
      "Epoch 17: 100%|██████████| 201/201 [02:07<00:00,  1.58it/s, train_loss=0.0867]\n",
      "Epoch 17: 100%|██████████| 29/29 [00:12<00:00,  2.33it/s, val_loss=0.158]\n"
     ]
    },
    {
     "name": "stdout",
     "output_type": "stream",
     "text": [
      "Epoch 17: Train pAUC: 0.138136 - Val pAUC: 0.154018 | Train Loss: 2.770894 - Val Loss: 9.932587\n",
      "\n"
     ]
    },
    {
     "name": "stderr",
     "output_type": "stream",
     "text": [
      "Epoch 18: 100%|██████████| 201/201 [02:07<00:00,  1.57it/s, train_loss=0.0848]\n",
      "Epoch 18: 100%|██████████| 29/29 [00:12<00:00,  2.33it/s, val_loss=0.151]\n"
     ]
    },
    {
     "name": "stdout",
     "output_type": "stream",
     "text": [
      "Epoch 18: Train pAUC: 0.145632 - Val pAUC: 0.148832 | Train Loss: 2.710113 - Val Loss: 9.482545\n",
      "\n"
     ]
    },
    {
     "name": "stderr",
     "output_type": "stream",
     "text": [
      "Epoch 19: 100%|██████████| 201/201 [02:07<00:00,  1.58it/s, train_loss=0.0825]\n",
      "Epoch 19: 100%|██████████| 29/29 [00:12<00:00,  2.32it/s, val_loss=0.161]\n"
     ]
    },
    {
     "name": "stdout",
     "output_type": "stream",
     "text": [
      "Epoch 19: Train pAUC: 0.150133 - Val pAUC: 0.142518 | Train Loss: 2.637198 - Val Loss: 10.142327\n",
      "\n"
     ]
    },
    {
     "name": "stderr",
     "output_type": "stream",
     "text": [
      "Epoch 20: 100%|██████████| 201/201 [02:07<00:00,  1.58it/s, train_loss=0.0771]\n",
      "Epoch 20: 100%|██████████| 29/29 [00:12<00:00,  2.33it/s, val_loss=0.161]\n"
     ]
    },
    {
     "name": "stdout",
     "output_type": "stream",
     "text": [
      "Epoch 20: Train pAUC: 0.144245 - Val pAUC: 0.138521 | Train Loss: 2.464411 - Val Loss: 10.134523\n",
      "\n"
     ]
    },
    {
     "name": "stderr",
     "output_type": "stream",
     "text": [
      "Epoch 21: 100%|██████████| 201/201 [02:07<00:00,  1.57it/s, train_loss=0.0792]\n",
      "Epoch 21: 100%|██████████| 29/29 [00:12<00:00,  2.31it/s, val_loss=0.158]\n"
     ]
    },
    {
     "name": "stdout",
     "output_type": "stream",
     "text": [
      "Epoch 21: Train pAUC: 0.142231 - Val pAUC: 0.151300 | Train Loss: 2.533598 - Val Loss: 9.926166\n",
      "\n"
     ]
    },
    {
     "name": "stderr",
     "output_type": "stream",
     "text": [
      "Epoch 22: 100%|██████████| 201/201 [02:07<00:00,  1.58it/s, train_loss=0.07]\n",
      "Epoch 22: 100%|██████████| 29/29 [00:12<00:00,  2.31it/s, val_loss=0.164]\n"
     ]
    },
    {
     "name": "stdout",
     "output_type": "stream",
     "text": [
      "Epoch 22: Train pAUC: 0.163462 - Val pAUC: 0.141767 | Train Loss: 2.237175 - Val Loss: 10.308794\n",
      "\n"
     ]
    },
    {
     "name": "stderr",
     "output_type": "stream",
     "text": [
      "Epoch 23: 100%|██████████| 201/201 [02:07<00:00,  1.57it/s, train_loss=0.068]\n",
      "Epoch 23: 100%|██████████| 29/29 [00:12<00:00,  2.30it/s, val_loss=0.171]\n"
     ]
    },
    {
     "name": "stdout",
     "output_type": "stream",
     "text": [
      "Early stopping triggered at epoch 23. Best pAUC = 0.158716\n",
      "Epoch 23: Train pAUC: 0.162118 - Val pAUC: 0.124553 | Train Loss: 2.174650 - Val Loss: 10.748553\n",
      "\n"
     ]
    },
    {
     "name": "stderr",
     "output_type": "stream",
     "text": [
      "Prediction: 100%|██████████| 1389/1389 [09:34<00:00,  2.42it/s]\n"
     ]
    },
    {
     "name": "stdout",
     "output_type": "stream",
     "text": [
      "---------------------------------- Fold 5 ----------------------------------\n",
      "\n",
      "\n"
     ]
    }
   ],
   "source": [
    "histories = {}\n",
    "oof_pred_probs_df = []\n",
    "\n",
    "for fold_idx in range(CFG.n_folds):\n",
    "    print(f'---------------------------------- Fold {fold_idx + 1} ----------------------------------')\n",
    "\n",
    "    _train = train_metadata[train_metadata['fold'] != fold_idx]\n",
    "    train_dataset = ISICDataset(CFG.train_img_path, _train, transforms['train'])\n",
    "    train_dataloader = DataLoader(train_dataset, batch_size=CFG.train_batch_size, shuffle=True,  num_workers=4, pin_memory=True)\n",
    "\n",
    "    _val = train_metadata[train_metadata['fold'] == fold_idx]\n",
    "    val_dataset = ISICDataset(CFG.train_img_path, _val, transforms['val'])\n",
    "    val_dataloader = DataLoader(val_dataset, batch_size=CFG.val_batch_size, shuffle=False, num_workers=4, pin_memory=True)\n",
    "\n",
    "    _val2 = train_metadata2[train_metadata2['fold'] == fold_idx]\n",
    "    val_dataset2 = ISICDataset(CFG.train_img_path, _val2, transforms['val'])\n",
    "    val_dataloader2 = DataLoader(val_dataset2, batch_size=CFG.val_batch_size, shuffle=False, num_workers=4, pin_memory=True)\n",
    "\n",
    "    model = SwinTransformer(CFG.model_name).to(CFG.device)\n",
    "    criterion = nn.BCELoss()\n",
    "    optimizer = optim.Adam(model.parameters(), lr=CFG.learning_rate, weight_decay=CFG.weight_decay)\n",
    "    scheduler = optim.lr_scheduler.CosineAnnealingLR(optimizer, T_max=CFG.t_max, eta_min=CFG.min_lr)\n",
    "\n",
    "    trainer = Trainer(\n",
    "        device=CFG.device,\n",
    "        model=model,\n",
    "        criterion=criterion,\n",
    "        optimizer=optimizer,\n",
    "        scheduler=scheduler,\n",
    "        train_dataloader=train_dataloader,\n",
    "        val_dataloader=val_dataloader,\n",
    "        checkpoint_path=CFG.checkpoint_path,\n",
    "        fold_idx=fold_idx,\n",
    "        es_patience=CFG.es_patience\n",
    "    )\n",
    "\n",
    "    history = {\n",
    "        'epoch': [],\n",
    "        'train_pauc': [],\n",
    "        'train_loss': [],\n",
    "        'val_pauc': [],\n",
    "        'val_loss': []\n",
    "    }\n",
    "    for epoch in range(1, CFG.max_epochs + 1):\n",
    "        train_pauc, train_loss = trainer.train(current_epoch_nr=epoch)\n",
    "        val_pauc, val_loss, es_triggered = trainer.evaluate(current_epoch_nr=epoch)\n",
    "\n",
    "        print(f\"Epoch {epoch}: Train pAUC: {train_pauc:.6f} - Val pAUC: {val_pauc:.6f} | Train Loss: {train_loss:.6f} - Val Loss: {val_loss:.6f}\\n\")\n",
    "\n",
    "        history['epoch'].append(epoch)\n",
    "        history['train_pauc'].append(train_pauc)\n",
    "        history['train_loss'].append(train_loss)\n",
    "        history['val_pauc'].append(val_pauc)\n",
    "        history['val_loss'].append(val_loss)\n",
    "\n",
    "        if es_triggered:\n",
    "            break\n",
    "\n",
    "    histories[f'Fold {fold_idx + 1}'] = history\n",
    "\n",
    "    pred_probs = trainer.predict(val_dataloader2)\n",
    "    _val2[CFG.model_name] = pred_probs\n",
    "    oof_pred_probs_df.append(_val2)\n",
    "\n",
    "    del _train, _val, train_dataset, val_dataset, model, criterion, optimizer, scheduler, trainer\n",
    "    gc.collect()\n",
    "    torch.cuda.empty_cache()\n",
    "\n",
    "    print(f'---------------------------------- Fold {fold_idx + 1} ----------------------------------\\n\\n')"
   ]
  },
  {
   "cell_type": "code",
   "execution_count": 13,
   "id": "953af2c6",
   "metadata": {
    "execution": {
     "iopub.execute_input": "2024-08-24T18:17:18.371640Z",
     "iopub.status.busy": "2024-08-24T18:17:18.370865Z",
     "iopub.status.idle": "2024-08-24T18:17:19.999120Z",
     "shell.execute_reply": "2024-08-24T18:17:19.998231Z"
    },
    "id": "jNqTO4uvCZwF",
    "papermill": {
     "duration": 9.475421,
     "end_time": "2024-08-24T18:17:20.001353",
     "exception": false,
     "start_time": "2024-08-24T18:17:10.525932",
     "status": "completed"
    },
    "tags": []
   },
   "outputs": [
    {
     "data": {
      "text/html": [
       "<div>\n",
       "<style scoped>\n",
       "    .dataframe tbody tr th:only-of-type {\n",
       "        vertical-align: middle;\n",
       "    }\n",
       "\n",
       "    .dataframe tbody tr th {\n",
       "        vertical-align: top;\n",
       "    }\n",
       "\n",
       "    .dataframe thead th {\n",
       "        text-align: right;\n",
       "    }\n",
       "</style>\n",
       "<table border=\"1\" class=\"dataframe\">\n",
       "  <thead>\n",
       "    <tr style=\"text-align: right;\">\n",
       "      <th></th>\n",
       "      <th>isic_id</th>\n",
       "      <th>fold</th>\n",
       "      <th>target</th>\n",
       "      <th>swin_base_patch4_window7_224</th>\n",
       "    </tr>\n",
       "  </thead>\n",
       "  <tbody>\n",
       "    <tr>\n",
       "      <th>10</th>\n",
       "      <td>ISIC_0051812</td>\n",
       "      <td>0.0</td>\n",
       "      <td>0</td>\n",
       "      <td>0.013184</td>\n",
       "    </tr>\n",
       "    <tr>\n",
       "      <th>18</th>\n",
       "      <td>ISIC_0052026</td>\n",
       "      <td>0.0</td>\n",
       "      <td>0</td>\n",
       "      <td>0.030961</td>\n",
       "    </tr>\n",
       "    <tr>\n",
       "      <th>30</th>\n",
       "      <td>ISIC_0052259</td>\n",
       "      <td>0.0</td>\n",
       "      <td>0</td>\n",
       "      <td>0.018420</td>\n",
       "    </tr>\n",
       "    <tr>\n",
       "      <th>32</th>\n",
       "      <td>ISIC_0052310</td>\n",
       "      <td>0.0</td>\n",
       "      <td>0</td>\n",
       "      <td>0.014017</td>\n",
       "    </tr>\n",
       "    <tr>\n",
       "      <th>33</th>\n",
       "      <td>ISIC_0052313</td>\n",
       "      <td>0.0</td>\n",
       "      <td>0</td>\n",
       "      <td>0.017571</td>\n",
       "    </tr>\n",
       "  </tbody>\n",
       "</table>\n",
       "</div>"
      ],
      "text/plain": [
       "         isic_id  fold  target  swin_base_patch4_window7_224\n",
       "10  ISIC_0051812   0.0       0                      0.013184\n",
       "18  ISIC_0052026   0.0       0                      0.030961\n",
       "30  ISIC_0052259   0.0       0                      0.018420\n",
       "32  ISIC_0052310   0.0       0                      0.014017\n",
       "33  ISIC_0052313   0.0       0                      0.017571"
      ]
     },
     "execution_count": 13,
     "metadata": {},
     "output_type": "execute_result"
    }
   ],
   "source": [
    "oof_pred_probs_df = pd.concat(oof_pred_probs_df)[['isic_id', 'fold', 'target', CFG.model_name]]\n",
    "oof_pred_probs_df.to_csv(f'{CFG.model_name}_oof_preds.csv', index=False)\n",
    "oof_pred_probs_df.head()"
   ]
  },
  {
   "cell_type": "markdown",
   "id": "8f38c9c3",
   "metadata": {
    "papermill": {
     "duration": 7.920932,
     "end_time": "2024-08-24T18:17:35.776997",
     "exception": false,
     "start_time": "2024-08-24T18:17:27.856065",
     "status": "completed"
    },
    "tags": []
   },
   "source": [
    "# Results"
   ]
  },
  {
   "cell_type": "code",
   "execution_count": 14,
   "id": "ba77c5c5",
   "metadata": {
    "execution": {
     "iopub.execute_input": "2024-08-24T18:17:51.502761Z",
     "iopub.status.busy": "2024-08-24T18:17:51.502377Z",
     "iopub.status.idle": "2024-08-24T18:17:51.512351Z",
     "shell.execute_reply": "2024-08-24T18:17:51.511655Z"
    },
    "id": "Qkcd2V7W-_GW",
    "papermill": {
     "duration": 7.995961,
     "end_time": "2024-08-24T18:17:51.514192",
     "exception": false,
     "start_time": "2024-08-24T18:17:43.518231",
     "status": "completed"
    },
    "tags": []
   },
   "outputs": [],
   "source": [
    "histories = pd.concat([pd.DataFrame(data).assign(Fold=fold) for fold, data in histories.items()])"
   ]
  },
  {
   "cell_type": "code",
   "execution_count": 15,
   "id": "2e598a62",
   "metadata": {
    "execution": {
     "iopub.execute_input": "2024-08-24T18:18:07.109851Z",
     "iopub.status.busy": "2024-08-24T18:18:07.109008Z",
     "iopub.status.idle": "2024-08-24T18:18:08.117552Z",
     "shell.execute_reply": "2024-08-24T18:18:08.116626Z"
    },
    "id": "lATwCeDXdsHG",
    "papermill": {
     "duration": 8.909154,
     "end_time": "2024-08-24T18:18:08.120612",
     "exception": false,
     "start_time": "2024-08-24T18:17:59.211458",
     "status": "completed"
    },
    "tags": []
   },
   "outputs": [
    {
     "data": {
      "image/png": "[encoded data removed]",
      "text/plain": [
       "<Figure size 1600x600 with 2 Axes>"
      ]
     },
     "metadata": {},
     "output_type": "display_data"
    }
   ],
   "source": [
    "sns.set(style=\"whitegrid\")\n",
    "\n",
    "fig, axes = plt.subplots(1, 2, figsize=(16, 6))\n",
    "\n",
    "sns.lineplot(x='epoch', y='train_pauc', hue='Fold', data=histories, ax=axes[0])\n",
    "axes[0].set_title('Training pAUC')\n",
    "axes[0].set_xlabel('Epoch')\n",
    "axes[0].set_ylabel('pAUC')\n",
    "axes[0].legend(loc='best')\n",
    "\n",
    "sns.lineplot(x='epoch', y='val_pauc', hue='Fold', data=histories, ax=axes[1])\n",
    "axes[1].set_title('Validation pAUC')\n",
    "axes[1].set_xlabel('Epoch')\n",
    "axes[1].set_ylabel('pAUC')\n",
    "axes[1].legend(loc='best')\n",
    "\n",
    "fig.tight_layout()\n",
    "plt.show()"
   ]
  },
  {
   "cell_type": "code",
   "execution_count": 16,
   "id": "a33a2d12",
   "metadata": {
    "execution": {
     "iopub.execute_input": "2024-08-24T18:18:23.799536Z",
     "iopub.status.busy": "2024-08-24T18:18:23.798695Z",
     "iopub.status.idle": "2024-08-24T18:18:24.736442Z",
     "shell.execute_reply": "2024-08-24T18:18:24.735521Z"
    },
    "id": "iCSgE4wX7NtK",
    "papermill": {
     "duration": 8.820328,
     "end_time": "2024-08-24T18:18:24.738689",
     "exception": false,
     "start_time": "2024-08-24T18:18:15.918361",
     "status": "completed"
    },
    "tags": []
   },
   "outputs": [
    {
     "data": {
      "image/png": "[encoded data removed]",
      "text/plain": [
       "<Figure size 1600x600 with 2 Axes>"
      ]
     },
     "metadata": {},
     "output_type": "display_data"
    }
   ],
   "source": [
    "fig, axes = plt.subplots(1, 2, figsize=(16, 6))\n",
    "\n",
    "sns.lineplot(x='epoch', y='train_loss', hue='Fold', data=histories, ax=axes[0])\n",
    "axes[0].set_title('Training Loss')\n",
    "axes[0].set_xlabel('Epoch')\n",
    "axes[0].set_ylabel('Loss')\n",
    "axes[0].legend(loc='best')\n",
    "\n",
    "sns.lineplot(x='epoch', y='val_loss', hue='Fold', data=histories, ax=axes[1])\n",
    "axes[1].set_title('Validation Loss')\n",
    "axes[1].set_xlabel('Epoch')\n",
    "axes[1].set_ylabel('Loss')\n",
    "axes[1].legend(loc='best')\n",
    "\n",
    "fig.tight_layout()\n",
    "plt.show()"
   ]
  }
 ],
 "metadata": {
  "accelerator": "GPU",
  "colab": {
   "gpuType": "L4",
   "provenance": []
  },
  "kaggle": {
   "accelerator": "gpu",
   "dataSources": [
    {
     "databundleVersionId": 9094797,
     "sourceId": 63056,
     "sourceType": "competition"
    }
   ],
   "dockerImageVersionId": 30747,
   "isGpuEnabled": true,
   "isInternetEnabled": true,
   "language": "python",
   "sourceType": "notebook"
  },
  "kernelspec": {
   "display_name": "Python 3",
   "language": "python",
   "name": "python3"
  },
  "language_info": {
   "codemirror_mode": {
    "name": "ipython",
    "version": 3
   },
   "file_extension": ".py",
   "mimetype": "text/x-python",
   "name": "python",
   "nbconvert_exporter": "python",
   "pygments_lexer": "ipython3",
   "version": "3.10.13"
  },
  "papermill": {
   "default_parameters": {},
   "duration": 19558.133958,
   "end_time": "2024-08-24T18:18:35.416003",
   "environment_variables": {},
   "exception": null,
   "input_path": "__notebook__.ipynb",
   "output_path": "__notebook__.ipynb",
   "parameters": {},
   "start_time": "2024-08-24T12:52:37.282045",
   "version": "2.5.0"
  },
  "widgets": {
   "application/vnd.jupyter.widget-state+json": {
    "state": {
     "02d00c27daab4033b0c3874793535cfe": {
      "model_module": "@jupyter-widgets/controls",
      "model_module_version": "1.5.0",
      "model_name": "ProgressStyleModel",
      "state": {
       "_model_module": "@jupyter-widgets/controls",
       "_model_module_version": "1.5.0",
       "_model_name": "ProgressStyleModel",
       "_view_count": null,
       "_view_module": "@jupyter-widgets/base",
       "_view_module_version": "1.2.0",
       "_view_name": "StyleView",
       "bar_color": null,
       "description_width": ""
      }
     },
     "1e1ac05a38b24658986e487a2b236c8c": {
      "model_module": "@jupyter-widgets/base",
      "model_module_version": "1.2.0",
      "model_name": "LayoutModel",
      "state": {
       "_model_module": "@jupyter-widgets/base",
       "_model_module_version": "1.2.0",
       "_model_name": "LayoutModel",
       "_view_count": null,
       "_view_module": "@jupyter-widgets/base",
       "_view_module_version": "1.2.0",
       "_view_name": "LayoutView",
       "align_content": null,
       "align_items": null,
       "align_self": null,
       "border": null,
       "bottom": null,
       "display": null,
       "flex": null,
       "flex_flow": null,
       "grid_area": null,
       "grid_auto_columns": null,
       "grid_auto_flow": null,
       "grid_auto_rows": null,
       "grid_column": null,
       "grid_gap": null,
       "grid_row": null,
       "grid_template_areas": null,
       "grid_template_columns": null,
       "grid_template_rows": null,
       "height": null,
       "justify_content": null,
       "justify_items": null,
       "left": null,
       "margin": null,
       "max_height": null,
       "max_width": null,
       "min_height": null,
       "min_width": null,
       "object_fit": null,
       "object_position": null,
       "order": null,
       "overflow": null,
       "overflow_x": null,
       "overflow_y": null,
       "padding": null,
       "right": null,
       "top": null,
       "visibility": null,
       "width": null
      }
     },
     "2ac1263f4ac6466d93042838b26611ac": {
      "model_module": "@jupyter-widgets/controls",
      "model_module_version": "1.5.0",
      "model_name": "FloatProgressModel",
      "state": {
       "_dom_classes": [],
       "_model_module": "@jupyter-widgets/controls",
       "_model_module_version": "1.5.0",
       "_model_name": "FloatProgressModel",
       "_view_count": null,
       "_view_module": "@jupyter-widgets/controls",
       "_view_module_version": "1.5.0",
       "_view_name": "ProgressView",
       "bar_style": "success",
       "description": "",
       "description_tooltip": null,
       "layout": "IPY_MODEL_bf911154f6e44a70a2c4560bd4c305d4",
       "max": 352685652.0,
       "min": 0.0,
       "orientation": "horizontal",
       "style": "IPY_MODEL_02d00c27daab4033b0c3874793535cfe",
       "value": 352685652.0
      }
     },
     "63f6d8de880341fa95142dbe1e56d7de": {
      "model_module": "@jupyter-widgets/controls",
      "model_module_version": "1.5.0",
      "model_name": "DescriptionStyleModel",
      "state": {
       "_model_module": "@jupyter-widgets/controls",
       "_model_module_version": "1.5.0",
       "_model_name": "DescriptionStyleModel",
       "_view_count": null,
       "_view_module": "@jupyter-widgets/base",
       "_view_module_version": "1.2.0",
       "_view_name": "StyleView",
       "description_width": ""
      }
     },
     "7b2922b424d84e128c9dfda6480add7a": {
      "model_module": "@jupyter-widgets/controls",
      "model_module_version": "1.5.0",
      "model_name": "DescriptionStyleModel",
      "state": {
       "_model_module": "@jupyter-widgets/controls",
       "_model_module_version": "1.5.0",
       "_model_name": "DescriptionStyleModel",
       "_view_count": null,
       "_view_module": "@jupyter-widgets/base",
       "_view_module_version": "1.2.0",
       "_view_name": "StyleView",
       "description_width": ""
      }
     },
     "a5da64f1cc1b4ee1bd9f5c86d6c3f60d": {
      "model_module": "@jupyter-widgets/base",
      "model_module_version": "1.2.0",
      "model_name": "LayoutModel",
      "state": {
       "_model_module": "@jupyter-widgets/base",
       "_model_module_version": "1.2.0",
       "_model_name": "LayoutModel",
       "_view_count": null,
       "_view_module": "@jupyter-widgets/base",
       "_view_module_version": "1.2.0",
       "_view_name": "LayoutView",
       "align_content": null,
       "align_items": null,
       "align_self": null,
       "border": null,
       "bottom": null,
       "display": null,
       "flex": null,
       "flex_flow": null,
       "grid_area": null,
       "grid_auto_columns": null,
       "grid_auto_flow": null,
       "grid_auto_rows": null,
       "grid_column": null,
       "grid_gap": null,
       "grid_row": null,
       "grid_template_areas": null,
       "grid_template_columns": null,
       "grid_template_rows": null,
       "height": null,
       "justify_content": null,
       "justify_items": null,
       "left": null,
       "margin": null,
       "max_height": null,
       "max_width": null,
       "min_height": null,
       "min_width": null,
       "object_fit": null,
       "object_position": null,
       "order": null,
       "overflow": null,
       "overflow_x": null,
       "overflow_y": null,
       "padding": null,
       "right": null,
       "top": null,
       "visibility": null,
       "width": null
      }
     },
     "b25a5daba8cc43469bb0f504212f69ce": {
      "model_module": "@jupyter-widgets/controls",
      "model_module_version": "1.5.0",
      "model_name": "HTMLModel",
      "state": {
       "_dom_classes": [],
       "_model_module": "@jupyter-widgets/controls",
       "_model_module_version": "1.5.0",
       "_model_name": "HTMLModel",
       "_view_count": null,
       "_view_module": "@jupyter-widgets/controls",
       "_view_module_version": "1.5.0",
       "_view_name": "HTMLView",
       "description": "",
       "description_tooltip": null,
       "layout": "IPY_MODEL_a5da64f1cc1b4ee1bd9f5c86d6c3f60d",
       "placeholder": "​",
       "style": "IPY_MODEL_63f6d8de880341fa95142dbe1e56d7de",
       "value": " 353M/353M [00:01&lt;00:00, 356MB/s]"
      }
     },
     "bf911154f6e44a70a2c4560bd4c305d4": {
      "model_module": "@jupyter-widgets/base",
      "model_module_version": "1.2.0",
      "model_name": "LayoutModel",
      "state": {
       "_model_module": "@jupyter-widgets/base",
       "_model_module_version": "1.2.0",
       "_model_name": "LayoutModel",
       "_view_count": null,
       "_view_module": "@jupyter-widgets/base",
       "_view_module_version": "1.2.0",
       "_view_name": "LayoutView",
       "align_content": null,
       "align_items": null,
       "align_self": null,
       "border": null,
       "bottom": null,
       "display": null,
       "flex": null,
       "flex_flow": null,
       "grid_area": null,
       "grid_auto_columns": null,
       "grid_auto_flow": null,
       "grid_auto_rows": null,
       "grid_column": null,
       "grid_gap": null,
       "grid_row": null,
       "grid_template_areas": null,
       "grid_template_columns": null,
       "grid_template_rows": null,
       "height": null,
       "justify_content": null,
       "justify_items": null,
       "left": null,
       "margin": null,
       "max_height": null,
       "max_width": null,
       "min_height": null,
       "min_width": null,
       "object_fit": null,
       "object_position": null,
       "order": null,
       "overflow": null,
       "overflow_x": null,
       "overflow_y": null,
       "padding": null,
       "right": null,
       "top": null,
       "visibility": null,
       "width": null
      }
     },
     "c30d66b157554a379c02688e0348cd1c": {
      "model_module": "@jupyter-widgets/controls",
      "model_module_version": "1.5.0",
      "model_name": "HBoxModel",
      "state": {
       "_dom_classes": [],
       "_model_module": "@jupyter-widgets/controls",
       "_model_module_version": "1.5.0",
       "_model_name": "HBoxModel",
       "_view_count": null,
       "_view_module": "@jupyter-widgets/controls",
       "_view_module_version": "1.5.0",
       "_view_name": "HBoxView",
       "box_style": "",
       "children": [
        "IPY_MODEL_d46566d1c8284ddd98be7826653bc5bb",
        "IPY_MODEL_2ac1263f4ac6466d93042838b26611ac",
        "IPY_MODEL_b25a5daba8cc43469bb0f504212f69ce"
       ],
       "layout": "IPY_MODEL_ff643e580ca849808763db32d6680e76"
      }
     },
     "d46566d1c8284ddd98be7826653bc5bb": {
      "model_module": "@jupyter-widgets/controls",
      "model_module_version": "1.5.0",
      "model_name": "HTMLModel",
      "state": {
       "_dom_classes": [],
       "_model_module": "@jupyter-widgets/controls",
       "_model_module_version": "1.5.0",
       "_model_name": "HTMLModel",
       "_view_count": null,
       "_view_module": "@jupyter-widgets/controls",
       "_view_module_version": "1.5.0",
       "_view_name": "HTMLView",
       "description": "",
       "description_tooltip": null,
       "layout": "IPY_MODEL_1e1ac05a38b24658986e487a2b236c8c",
       "placeholder": "​",
       "style": "IPY_MODEL_7b2922b424d84e128c9dfda6480add7a",
       "value": "model.safetensors: 100%"
      }
     },
     "ff643e580ca849808763db32d6680e76": {
      "model_module": "@jupyter-widgets/base",
      "model_module_version": "1.2.0",
      "model_name": "LayoutModel",
      "state": {
       "_model_module": "@jupyter-widgets/base",
       "_model_module_version": "1.2.0",
       "_model_name": "LayoutModel",
       "_view_count": null,
       "_view_module": "@jupyter-widgets/base",
       "_view_module_version": "1.2.0",
       "_view_name": "LayoutView",
       "align_content": null,
       "align_items": null,
       "align_self": null,
       "border": null,
       "bottom": null,
       "display": null,
       "flex": null,
       "flex_flow": null,
       "grid_area": null,
       "grid_auto_columns": null,
       "grid_auto_flow": null,
       "grid_auto_rows": null,
       "grid_column": null,
       "grid_gap": null,
       "grid_row": null,
       "grid_template_areas": null,
       "grid_template_columns": null,
       "grid_template_rows": null,
       "height": null,
       "justify_content": null,
       "justify_items": null,
       "left": null,
       "margin": null,
       "max_height": null,
       "max_width": null,
       "min_height": null,
       "min_width": null,
       "object_fit": null,
       "object_position": null,
       "order": null,
       "overflow": null,
       "overflow_x": null,
       "overflow_y": null,
       "padding": null,
       "right": null,
       "top": null,
       "visibility": null,
       "width": null
      }
     }
    },
    "version_major": 2,
    "version_minor": 0
   }
  }
 },
 "nbformat": 4,
 "nbformat_minor": 5
}
