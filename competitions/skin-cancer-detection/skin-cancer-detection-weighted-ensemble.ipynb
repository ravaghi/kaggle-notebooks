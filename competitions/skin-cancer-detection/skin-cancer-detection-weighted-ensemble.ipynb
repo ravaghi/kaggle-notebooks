{
 "cells": [
  {
   "cell_type": "markdown",
   "id": "4512ebb8",
   "metadata": {
    "papermill": {
     "duration": 0.009921,
     "end_time": "2024-09-07T16:26:30.795308",
     "exception": false,
     "start_time": "2024-09-07T16:26:30.785387",
     "status": "completed"
    },
    "tags": []
   },
   "source": [
    "# Imports and configs"
   ]
  },
  {
   "cell_type": "code",
   "execution_count": 1,
   "id": "797df51e",
   "metadata": {
    "_kg_hide-input": true,
    "_kg_hide-output": true,
    "execution": {
     "iopub.execute_input": "2024-09-07T16:26:30.816631Z",
     "iopub.status.busy": "2024-09-07T16:26:30.815802Z",
     "iopub.status.idle": "2024-09-07T16:26:45.109575Z",
     "shell.execute_reply": "2024-09-07T16:26:45.108489Z"
    },
    "papermill": {
     "duration": 14.307639,
     "end_time": "2024-09-07T16:26:45.112429",
     "exception": false,
     "start_time": "2024-09-07T16:26:30.804790",
     "status": "completed"
    },
    "tags": []
   },
   "outputs": [],
   "source": [
    "from sklearn.model_selection import StratifiedGroupKFold\n",
    "from sklearn.metrics import roc_curve, auc, confusion_matrix\n",
    "from sklearn.base import clone\n",
    "from sklearn.preprocessing import OneHotEncoder\n",
    "from optuna.samplers import TPESampler\n",
    "from lightgbm import LGBMClassifier\n",
    "from catboost import CatBoostClassifier\n",
    "from xgboost import XGBClassifier\n",
    "from torch.utils.data import DataLoader, Dataset\n",
    "from albumentations.pytorch import ToTensorV2\n",
    "import albumentations as A\n",
    "import torch.nn as nn\n",
    "from tqdm import tqdm\n",
    "from PIL import Image\n",
    "import matplotlib.pyplot as plt\n",
    "import seaborn as sns\n",
    "import pandas as pd\n",
    "import numpy as np\n",
    "import polars as pl\n",
    "import warnings\n",
    "import h5py\n",
    "import torch\n",
    "import random\n",
    "import timm\n",
    "import cv2\n",
    "import io\n",
    "import os\n",
    "import optuna\n",
    "import shutil\n",
    "import gc\n",
    "\n",
    "warnings.filterwarnings('ignore')"
   ]
  },
  {
   "cell_type": "code",
   "execution_count": 2,
   "id": "dc96581d",
   "metadata": {
    "execution": {
     "iopub.execute_input": "2024-09-07T16:26:45.133562Z",
     "iopub.status.busy": "2024-09-07T16:26:45.133214Z",
     "iopub.status.idle": "2024-09-07T16:26:45.201157Z",
     "shell.execute_reply": "2024-09-07T16:26:45.200258Z"
    },
    "papermill": {
     "duration": 0.080987,
     "end_time": "2024-09-07T16:26:45.203387",
     "exception": false,
     "start_time": "2024-09-07T16:26:45.122400",
     "status": "completed"
    },
    "tags": []
   },
   "outputs": [],
   "source": [
    "class CFG:\n",
    "    test_img_path = '/kaggle/input/isic-2024-challenge/test-image.hdf5'\n",
    "    train_path = '/kaggle/input/isic-2024-challenge/train-metadata.csv'\n",
    "    test_path = '/kaggle/input/isic-2024-challenge/test-metadata.csv'\n",
    "    sample_sub_path = '/kaggle/input/isic-2024-challenge/sample_submission.csv'\n",
    "    \n",
    "    resnet_checkpoint_path = '/kaggle/input/skin-cancer-detection-resnet50-training/checkpoints/'\n",
    "    swin_checkpoint_path = '/kaggle/input/skin-cancer-detection-swin-transformer-training/checkpoints/'\n",
    "    \n",
    "    resnet_oof_path = '/kaggle/input/skin-cancer-detection-resnet50-training/resnet50_oof_preds.csv'\n",
    "    swin_oof_path = '/kaggle/input/skin-cancer-detection-swin-transformer-training/swin_base_patch4_window7_224_oof_preds.csv'\n",
    "\n",
    "    resnet_checkpoints = [\n",
    "        'fold_0_epoch_10_pauc_0.119877.pth',\n",
    "        'fold_1_epoch_16_pauc_0.152112.pth',\n",
    "        'fold_2_epoch_11_pauc_0.146086.pth',\n",
    "        'fold_3_epoch_20_pauc_0.161103.pth',\n",
    "        'fold_4_epoch_48_pauc_0.169901.pth'\n",
    "    ]\n",
    "    \n",
    "    swin_checkpoints = [\n",
    "        'fold_0_epoch_24_pauc_0.129003.pth',\n",
    "        'fold_1_epoch_16_pauc_0.162821.pth',\n",
    "        'fold_2_epoch_30_pauc_0.160597.pth',\n",
    "        'fold_3_epoch_18_pauc_0.167431.pth',\n",
    "        'fold_4_epoch_20_pauc_0.169827.pth'\n",
    "    ]\n",
    "    \n",
    "    device = torch.device('cuda' if torch.cuda.is_available() else 'cpu')\n",
    "    swin_model_name = 'swin_base_patch4_window7_224'\n",
    "    resnet_model_name = \"resnet50\"\n",
    "    target = 'target'\n",
    "    image_size = 224\n",
    "    val_batch_size = 64\n",
    "    n_folds = 5\n",
    "    seed = 35555"
   ]
  },
  {
   "cell_type": "code",
   "execution_count": 3,
   "id": "d8bf69b5",
   "metadata": {
    "execution": {
     "iopub.execute_input": "2024-09-07T16:26:45.224163Z",
     "iopub.status.busy": "2024-09-07T16:26:45.223824Z",
     "iopub.status.idle": "2024-09-07T16:26:45.232512Z",
     "shell.execute_reply": "2024-09-07T16:26:45.231747Z"
    },
    "papermill": {
     "duration": 0.021579,
     "end_time": "2024-09-07T16:26:45.234736",
     "exception": false,
     "start_time": "2024-09-07T16:26:45.213157",
     "status": "completed"
    },
    "tags": []
   },
   "outputs": [],
   "source": [
    "def seed_everything(seed):\n",
    "    random.seed(seed)\n",
    "    os.environ['PYTHONHASHSEED'] = str(seed)\n",
    "    np.random.seed(seed)\n",
    "    torch.manual_seed(seed)\n",
    "    torch.cuda.manual_seed(seed)\n",
    "    torch.backends.cudnn.deterministic = True\n",
    "    torch.backends.cudnn.benchmark = False\n",
    "\n",
    "\n",
    "seed_everything(CFG.seed)"
   ]
  },
  {
   "cell_type": "markdown",
   "id": "8fe33d09",
   "metadata": {
    "papermill": {
     "duration": 0.009374,
     "end_time": "2024-09-07T16:26:45.253965",
     "exception": false,
     "start_time": "2024-09-07T16:26:45.244591",
     "status": "completed"
    },
    "tags": []
   },
   "source": [
    "# Loading and processing the datasets"
   ]
  },
  {
   "cell_type": "code",
   "execution_count": 4,
   "id": "fb834962",
   "metadata": {
    "execution": {
     "iopub.execute_input": "2024-09-07T16:26:45.274370Z",
     "iopub.status.busy": "2024-09-07T16:26:45.274056Z",
     "iopub.status.idle": "2024-09-07T16:26:45.285392Z",
     "shell.execute_reply": "2024-09-07T16:26:45.284530Z"
    },
    "papermill": {
     "duration": 0.024183,
     "end_time": "2024-09-07T16:26:45.287606",
     "exception": false,
     "start_time": "2024-09-07T16:26:45.263423",
     "status": "completed"
    },
    "tags": []
   },
   "outputs": [],
   "source": [
    "# Reference: https://www.kaggle.com/code/greysky/isic-2024-only-tabular-data\n",
    "num_cols = [\n",
    "    'age_approx', 'clin_size_long_diam_mm', 'tbp_lv_A', 'tbp_lv_Aext', 'tbp_lv_B', 'tbp_lv_Bext',\n",
    "    'tbp_lv_C', 'tbp_lv_Cext', 'tbp_lv_H', 'tbp_lv_Hext', 'tbp_lv_L', 'tbp_lv_Lext', 'tbp_lv_areaMM2',\n",
    "    'tbp_lv_area_perim_ratio', 'tbp_lv_color_std_mean', 'tbp_lv_deltaA', 'tbp_lv_deltaB', 'tbp_lv_deltaL',\n",
    "    'tbp_lv_deltaLB', 'tbp_lv_deltaLBnorm', 'tbp_lv_eccentricity', 'tbp_lv_minorAxisMM', 'tbp_lv_nevi_confidence',\n",
    "    'tbp_lv_norm_border', 'tbp_lv_norm_color', 'tbp_lv_perimeterMM', 'tbp_lv_radial_color_std_max', 'tbp_lv_stdL',\n",
    "    'tbp_lv_stdLExt', 'tbp_lv_symm_2axis', 'tbp_lv_symm_2axis_angle', 'tbp_lv_x', 'tbp_lv_y', 'tbp_lv_z'\n",
    "]\n",
    "\n",
    "new_num_cols = [\n",
    "    'lesion_size_ratio', 'lesion_shape_index', 'hue_contrast', 'luminance_contrast', 'lesion_color_difference',\n",
    "    'border_complexity', 'color_uniformity', 'position_distance_3d', 'perimeter_to_area_ratio', 'area_to_perimeter_ratio',\n",
    "    'lesion_visibility_score', 'symmetry_border_consistency', 'consistency_symmetry_border', 'color_consistency',\n",
    "    'consistency_color', 'size_age_interaction', 'hue_color_std_interaction', 'lesion_severity_index', 'shape_complexity_index',\n",
    "    'color_contrast_index', 'log_lesion_area', 'normalized_lesion_size', 'mean_hue_difference', 'std_dev_contrast',\n",
    "    'color_shape_composite_index', 'lesion_orientation_3d', 'overall_color_difference', 'symmetry_perimeter_interaction',\n",
    "    'comprehensive_lesion_index', 'color_variance_ratio', 'border_color_interaction', 'border_color_interaction_2',\n",
    "    'size_color_contrast_ratio', 'age_normalized_nevi_confidence', 'age_normalized_nevi_confidence_2', 'color_asymmetry_index',\n",
    "    'volume_approximation_3d', 'color_range', 'shape_color_consistency', 'border_length_ratio', 'age_size_symmetry_index',\n",
    "    'index_age_size_symmetry'\n",
    "]\n",
    "\n",
    "cat_cols = [\n",
    "    'sex', 'anatom_site_general', 'tbp_tile_type',\n",
    "    'tbp_lv_location', 'tbp_lv_location_simple', 'attribution'\n",
    "]\n",
    "\n",
    "image_cols = [\n",
    "    CFG.resnet_model_name,\n",
    "    CFG.swin_model_name,\n",
    "]\n",
    "\n",
    "norm_cols = [f'{col}_patient_norm' for col in num_cols + new_num_cols]\n",
    "special_cols = ['count_per_patient']\n",
    "feature_cols = num_cols + new_num_cols + cat_cols + norm_cols + special_cols + image_cols"
   ]
  },
  {
   "cell_type": "code",
   "execution_count": 5,
   "id": "295e288c",
   "metadata": {
    "execution": {
     "iopub.execute_input": "2024-09-07T16:26:45.309222Z",
     "iopub.status.busy": "2024-09-07T16:26:45.308911Z",
     "iopub.status.idle": "2024-09-07T16:26:45.340397Z",
     "shell.execute_reply": "2024-09-07T16:26:45.339446Z"
    },
    "papermill": {
     "duration": 0.045539,
     "end_time": "2024-09-07T16:26:45.342753",
     "exception": false,
     "start_time": "2024-09-07T16:26:45.297214",
     "status": "completed"
    },
    "tags": []
   },
   "outputs": [],
   "source": [
    "# Reference: https://www.kaggle.com/code/greysky/isic-2024-only-tabular-data\n",
    "def read_data(path):\n",
    "    return (\n",
    "        pl.read_csv(path)\n",
    "        .with_columns(\n",
    "            pl.col('age_approx').cast(pl.String).replace('NA', np.nan).cast(pl.Float64),\n",
    "        )\n",
    "        .with_columns(\n",
    "            pl.col(pl.Float64).fill_nan(pl.col(pl.Float64).median()),\n",
    "        )\n",
    "        .with_columns(\n",
    "            lesion_size_ratio=pl.col('tbp_lv_minorAxisMM') / pl.col('clin_size_long_diam_mm'),\n",
    "            lesion_shape_index=pl.col('tbp_lv_areaMM2') / (pl.col('tbp_lv_perimeterMM') ** 2),\n",
    "            hue_contrast=(pl.col('tbp_lv_H') - pl.col('tbp_lv_Hext')).abs(),\n",
    "            luminance_contrast=(pl.col('tbp_lv_L') - pl.col('tbp_lv_Lext')).abs(),\n",
    "            lesion_color_difference=(pl.col('tbp_lv_deltaA') ** 2 + pl.col('tbp_lv_deltaB') ** 2 + pl.col('tbp_lv_deltaL') ** 2).sqrt(),\n",
    "            border_complexity=pl.col('tbp_lv_norm_border') + pl.col('tbp_lv_symm_2axis'),\n",
    "            color_uniformity=pl.col('tbp_lv_color_std_mean') / (pl.col('tbp_lv_radial_color_std_max') + 1e-5),\n",
    "        )\n",
    "        .with_columns(\n",
    "            position_distance_3d=(pl.col('tbp_lv_x') ** 2 + pl.col('tbp_lv_y') ** 2 + pl.col('tbp_lv_z') ** 2).sqrt(),\n",
    "            perimeter_to_area_ratio=pl.col('tbp_lv_perimeterMM') / pl.col('tbp_lv_areaMM2'),\n",
    "            area_to_perimeter_ratio=pl.col('tbp_lv_areaMM2') / pl.col('tbp_lv_perimeterMM'),\n",
    "            lesion_visibility_score=pl.col('tbp_lv_deltaLBnorm') + pl.col('tbp_lv_norm_color'),\n",
    "            combined_anatomical_site=pl.col('anatom_site_general') + '_' + pl.col('tbp_lv_location'),\n",
    "            symmetry_border_consistency=pl.col('tbp_lv_symm_2axis') * pl.col('tbp_lv_norm_border'),\n",
    "            consistency_symmetry_border=pl.col('tbp_lv_symm_2axis') * pl.col('tbp_lv_norm_border') / (pl.col('tbp_lv_symm_2axis') + pl.col('tbp_lv_norm_border')),\n",
    "        )\n",
    "        .with_columns(\n",
    "            color_consistency=pl.col('tbp_lv_stdL') / pl.col('tbp_lv_Lext'),\n",
    "            consistency_color=pl.col('tbp_lv_stdL') * pl.col('tbp_lv_Lext') / (pl.col('tbp_lv_stdL') + pl.col('tbp_lv_Lext')),\n",
    "            size_age_interaction=pl.col('clin_size_long_diam_mm') * pl.col('age_approx'),\n",
    "            hue_color_std_interaction=pl.col('tbp_lv_H') * pl.col('tbp_lv_color_std_mean'),\n",
    "            lesion_severity_index=(pl.col('tbp_lv_norm_border') + pl.col('tbp_lv_norm_color') + pl.col('tbp_lv_eccentricity')) / 3,\n",
    "            shape_complexity_index=pl.col('border_complexity') + pl.col('lesion_shape_index'),\n",
    "            color_contrast_index=pl.col('tbp_lv_deltaA') + pl.col('tbp_lv_deltaB') + pl.col('tbp_lv_deltaL') + pl.col('tbp_lv_deltaLBnorm'),\n",
    "        )\n",
    "        .with_columns(\n",
    "            log_lesion_area=(pl.col('tbp_lv_areaMM2') + 1).log(),\n",
    "            normalized_lesion_size=pl.col('clin_size_long_diam_mm') / pl.col('age_approx'),\n",
    "            mean_hue_difference=(pl.col('tbp_lv_H') + pl.col('tbp_lv_Hext')) / 2,\n",
    "            std_dev_contrast=((pl.col('tbp_lv_deltaA') ** 2 + pl.col('tbp_lv_deltaB') ** 2 + pl.col('tbp_lv_deltaL') ** 2) / 3).sqrt(),\n",
    "            color_shape_composite_index=(pl.col('tbp_lv_color_std_mean') + pl.col('tbp_lv_area_perim_ratio') + pl.col('tbp_lv_symm_2axis')) / 3,\n",
    "            lesion_orientation_3d=pl.arctan2(pl.col('tbp_lv_y'), pl.col('tbp_lv_x')),\n",
    "            overall_color_difference=(pl.col('tbp_lv_deltaA') + pl.col('tbp_lv_deltaB') + pl.col('tbp_lv_deltaL')) / 3,\n",
    "        )\n",
    "        .with_columns(\n",
    "            symmetry_perimeter_interaction=pl.col('tbp_lv_symm_2axis') * pl.col('tbp_lv_perimeterMM'),\n",
    "            comprehensive_lesion_index=(pl.col('tbp_lv_area_perim_ratio') + pl.col('tbp_lv_eccentricity') + pl.col('tbp_lv_norm_color') + pl.col('tbp_lv_symm_2axis')) / 4,\n",
    "            color_variance_ratio=pl.col('tbp_lv_color_std_mean') / pl.col('tbp_lv_stdLExt'),\n",
    "            border_color_interaction=pl.col('tbp_lv_norm_border') * pl.col('tbp_lv_norm_color'),\n",
    "            border_color_interaction_2=pl.col('tbp_lv_norm_border') * pl.col('tbp_lv_norm_color') / (pl.col('tbp_lv_norm_border') + pl.col('tbp_lv_norm_color')),\n",
    "            size_color_contrast_ratio=pl.col('clin_size_long_diam_mm') / pl.col('tbp_lv_deltaLBnorm'),\n",
    "            age_normalized_nevi_confidence=pl.col('tbp_lv_nevi_confidence') / pl.col('age_approx'),\n",
    "            age_normalized_nevi_confidence_2=(pl.col('clin_size_long_diam_mm')**2 + pl.col('age_approx')**2).sqrt(),\n",
    "            color_asymmetry_index=pl.col('tbp_lv_radial_color_std_max') * pl.col('tbp_lv_symm_2axis'),\n",
    "        )\n",
    "        .with_columns(\n",
    "            volume_approximation_3d=pl.col('tbp_lv_areaMM2') * (pl.col('tbp_lv_x')**2 + pl.col('tbp_lv_y')**2 + pl.col('tbp_lv_z')**2).sqrt(),\n",
    "            color_range=(pl.col('tbp_lv_L') - pl.col('tbp_lv_Lext')).abs() + (pl.col('tbp_lv_A') - pl.col('tbp_lv_Aext')).abs() + (pl.col('tbp_lv_B') - pl.col('tbp_lv_Bext')).abs(),\n",
    "            shape_color_consistency=pl.col('tbp_lv_eccentricity') * pl.col('tbp_lv_color_std_mean'),\n",
    "            border_length_ratio=pl.col('tbp_lv_perimeterMM') / (2 * np.pi * (pl.col('tbp_lv_areaMM2') / np.pi).sqrt()),\n",
    "            age_size_symmetry_index=pl.col('age_approx') * pl.col('clin_size_long_diam_mm') * pl.col('tbp_lv_symm_2axis'),\n",
    "            index_age_size_symmetry=pl.col('age_approx') * pl.col('tbp_lv_areaMM2') * pl.col('tbp_lv_symm_2axis'),\n",
    "        )\n",
    "        .with_columns(\n",
    "            ((pl.col(col) - pl.col(col).mean().over('patient_id')) / (pl.col(col).std().over('patient_id') + 1e-5)).alias(f'{col}_patient_norm') for col in (num_cols + new_num_cols)\n",
    "        )\n",
    "        .with_columns(\n",
    "            count_per_patient=pl.col('isic_id').count().over('patient_id'),\n",
    "        )\n",
    "        .with_columns(\n",
    "            pl.col(cat_cols).cast(pl.Categorical),\n",
    "        )\n",
    "        .to_pandas()\n",
    "        .set_index('isic_id')\n",
    "    )"
   ]
  },
  {
   "cell_type": "code",
   "execution_count": 6,
   "id": "7e54214b",
   "metadata": {
    "execution": {
     "iopub.execute_input": "2024-09-07T16:26:45.363861Z",
     "iopub.status.busy": "2024-09-07T16:26:45.363564Z",
     "iopub.status.idle": "2024-09-07T16:26:45.370979Z",
     "shell.execute_reply": "2024-09-07T16:26:45.370045Z"
    },
    "papermill": {
     "duration": 0.020533,
     "end_time": "2024-09-07T16:26:45.373135",
     "exception": false,
     "start_time": "2024-09-07T16:26:45.352602",
     "status": "completed"
    },
    "tags": []
   },
   "outputs": [],
   "source": [
    "# Reference: https://www.kaggle.com/code/greysky/isic-2024-only-tabular-data\n",
    "def preprocess(df_train, df_test, cat_cols):\n",
    "    encoder = OneHotEncoder(sparse_output=False, dtype=np.int32, handle_unknown='ignore')\n",
    "    encoder.fit(df_train[cat_cols])\n",
    "\n",
    "    new_cat_cols = [f'onehot_{i}' for i in range(\n",
    "        len(encoder.get_feature_names_out()))]\n",
    "\n",
    "    df_train[new_cat_cols] = encoder.transform(df_train[cat_cols])\n",
    "    df_train[new_cat_cols] = df_train[new_cat_cols].astype('category')\n",
    "\n",
    "    df_test[new_cat_cols] = encoder.transform(df_test[cat_cols])\n",
    "    df_test[new_cat_cols] = df_test[new_cat_cols].astype('category')\n",
    "\n",
    "    for col in cat_cols:\n",
    "        feature_cols.remove(col)\n",
    "\n",
    "    feature_cols.extend(new_cat_cols)\n",
    "    cat_cols = new_cat_cols\n",
    "\n",
    "    return df_train, df_test, cat_cols"
   ]
  },
  {
   "cell_type": "code",
   "execution_count": 7,
   "id": "7039aa11",
   "metadata": {
    "execution": {
     "iopub.execute_input": "2024-09-07T16:26:45.394068Z",
     "iopub.status.busy": "2024-09-07T16:26:45.393771Z",
     "iopub.status.idle": "2024-09-07T16:26:52.513736Z",
     "shell.execute_reply": "2024-09-07T16:26:52.512852Z"
    },
    "papermill": {
     "duration": 7.133575,
     "end_time": "2024-09-07T16:26:52.516641",
     "exception": false,
     "start_time": "2024-09-07T16:26:45.383066",
     "status": "completed"
    },
    "tags": []
   },
   "outputs": [],
   "source": [
    "train = read_data(CFG.train_path)\n",
    "test = read_data(CFG.test_path)\n",
    "train, test, cat_cols = preprocess(train, test, cat_cols)"
   ]
  },
  {
   "cell_type": "code",
   "execution_count": 8,
   "id": "02106109",
   "metadata": {
    "execution": {
     "iopub.execute_input": "2024-09-07T16:26:52.540629Z",
     "iopub.status.busy": "2024-09-07T16:26:52.540267Z",
     "iopub.status.idle": "2024-09-07T16:26:52.773348Z",
     "shell.execute_reply": "2024-09-07T16:26:52.772437Z"
    },
    "papermill": {
     "duration": 0.247698,
     "end_time": "2024-09-07T16:26:52.775959",
     "exception": false,
     "start_time": "2024-09-07T16:26:52.528261",
     "status": "completed"
    },
    "tags": []
   },
   "outputs": [],
   "source": [
    "# Reference: https://www.kaggle.com/code/murashow/tabular-with-image-features-lightgbm?scriptVersionId=192586844\n",
    "least_important_features = ['onehot_32', 'onehot_6', 'onehot_33', 'onehot_30', 'onehot_26', 'onehot_22', 'onehot_36', 'onehot_4']\n",
    "train.drop(columns=least_important_features, inplace=True)\n",
    "for feature in least_important_features:\n",
    "    cat_cols.remove(feature)\n",
    "    feature_cols.remove(feature)"
   ]
  },
  {
   "cell_type": "markdown",
   "id": "8729c6e1",
   "metadata": {
    "papermill": {
     "duration": 0.009734,
     "end_time": "2024-09-07T16:26:52.795905",
     "exception": false,
     "start_time": "2024-09-07T16:26:52.786171",
     "status": "completed"
    },
    "tags": []
   },
   "source": [
    "# Adding image model features"
   ]
  },
  {
   "cell_type": "code",
   "execution_count": 9,
   "id": "39c834ec",
   "metadata": {
    "execution": {
     "iopub.execute_input": "2024-09-07T16:26:52.817143Z",
     "iopub.status.busy": "2024-09-07T16:26:52.816605Z",
     "iopub.status.idle": "2024-09-07T16:26:52.825476Z",
     "shell.execute_reply": "2024-09-07T16:26:52.824718Z"
    },
    "papermill": {
     "duration": 0.0218,
     "end_time": "2024-09-07T16:26:52.827584",
     "exception": false,
     "start_time": "2024-09-07T16:26:52.805784",
     "status": "completed"
    },
    "tags": []
   },
   "outputs": [],
   "source": [
    "class ISICDataset(Dataset):\n",
    "    def __init__(self, data_path, metadata, transform=None):\n",
    "        self.data = h5py.File(data_path, 'r')\n",
    "        self.metadata = metadata\n",
    "        self.transform = transform\n",
    "\n",
    "    def __len__(self):\n",
    "        return len(self.metadata)\n",
    "\n",
    "    def __getitem__(self, idx):\n",
    "        img_name = self.metadata.iloc[idx]['isic_id']\n",
    "        image = np.array(self.data[img_name])\n",
    "        image = np.array(Image.open(io.BytesIO(image)))\n",
    "        image = cv2.cvtColor(image, cv2.COLOR_BGR2RGB)\n",
    "\n",
    "        if self.transform:\n",
    "            augmented = self.transform(image=image)\n",
    "            image = augmented['image']\n",
    "\n",
    "        if 'target' in self.metadata.columns:\n",
    "            label = int(self.metadata['target'].iloc[idx])\n",
    "            return image, label\n",
    "        else:\n",
    "            return image, 0"
   ]
  },
  {
   "cell_type": "code",
   "execution_count": 10,
   "id": "0db1a76a",
   "metadata": {
    "execution": {
     "iopub.execute_input": "2024-09-07T16:26:52.848942Z",
     "iopub.status.busy": "2024-09-07T16:26:52.848640Z",
     "iopub.status.idle": "2024-09-07T16:26:52.854305Z",
     "shell.execute_reply": "2024-09-07T16:26:52.853355Z"
    },
    "papermill": {
     "duration": 0.018672,
     "end_time": "2024-09-07T16:26:52.856375",
     "exception": false,
     "start_time": "2024-09-07T16:26:52.837703",
     "status": "completed"
    },
    "tags": []
   },
   "outputs": [],
   "source": [
    "transforms = A.Compose([\n",
    "    A.Resize(CFG.image_size, CFG.image_size),\n",
    "    A.Normalize(\n",
    "        mean=[0.4815, 0.4578, 0.4082],\n",
    "        std=[0.2686, 0.2613, 0.2758],\n",
    "        max_pixel_value=255.0),\n",
    "    ToTensorV2(),\n",
    "])"
   ]
  },
  {
   "cell_type": "code",
   "execution_count": 11,
   "id": "eb4912d7",
   "metadata": {
    "execution": {
     "iopub.execute_input": "2024-09-07T16:26:52.877853Z",
     "iopub.status.busy": "2024-09-07T16:26:52.877544Z",
     "iopub.status.idle": "2024-09-07T16:26:52.884879Z",
     "shell.execute_reply": "2024-09-07T16:26:52.883944Z"
    },
    "papermill": {
     "duration": 0.02061,
     "end_time": "2024-09-07T16:26:52.887086",
     "exception": false,
     "start_time": "2024-09-07T16:26:52.866476",
     "status": "completed"
    },
    "tags": []
   },
   "outputs": [],
   "source": [
    "class ResNet(nn.Module):\n",
    "    def __init__(self, model_name, pretrained=False):\n",
    "        super(ResNet, self).__init__()\n",
    "        self.model = timm.create_model(model_name, pretrained=pretrained, in_chans=3)\n",
    "        num_features = 1000\n",
    "        self.classifier = nn.Sequential(\n",
    "            nn.Linear(num_features, 512),\n",
    "            nn.BatchNorm1d(512),\n",
    "            nn.ReLU(),\n",
    "            nn.Dropout(0.5),\n",
    "            nn.Linear(512, 1),\n",
    "            nn.Sigmoid()\n",
    "        )\n",
    "\n",
    "    def forward(self, x):\n",
    "        x = self.model(x)\n",
    "        x = self.classifier(x)\n",
    "        return x"
   ]
  },
  {
   "cell_type": "code",
   "execution_count": 12,
   "id": "71fd20bf",
   "metadata": {
    "execution": {
     "iopub.execute_input": "2024-09-07T16:26:52.908391Z",
     "iopub.status.busy": "2024-09-07T16:26:52.908085Z",
     "iopub.status.idle": "2024-09-07T16:26:52.915321Z",
     "shell.execute_reply": "2024-09-07T16:26:52.914411Z"
    },
    "papermill": {
     "duration": 0.02046,
     "end_time": "2024-09-07T16:26:52.917502",
     "exception": false,
     "start_time": "2024-09-07T16:26:52.897042",
     "status": "completed"
    },
    "tags": []
   },
   "outputs": [],
   "source": [
    "class SwinTransformer(nn.Module):\n",
    "    def __init__(self, model_name, pretrained=False):\n",
    "        super(SwinTransformer, self).__init__()\n",
    "        self.model = timm.create_model(model_name, pretrained=pretrained)\n",
    "        self.model.head = nn.Sequential(\n",
    "            nn.Flatten(),\n",
    "            nn.Linear(self.model.num_features * 7 * 7, 512),\n",
    "            nn.BatchNorm1d(512),\n",
    "            nn.ReLU(),\n",
    "            nn.Dropout(0.5),\n",
    "            nn.Linear(512, 1),\n",
    "            nn.Sigmoid()\n",
    "        )\n",
    "\n",
    "    def forward(self, x):\n",
    "        return self.model(x)"
   ]
  },
  {
   "cell_type": "code",
   "execution_count": 13,
   "id": "09b1b0e0",
   "metadata": {
    "execution": {
     "iopub.execute_input": "2024-09-07T16:26:52.939484Z",
     "iopub.status.busy": "2024-09-07T16:26:52.938913Z",
     "iopub.status.idle": "2024-09-07T16:26:52.947069Z",
     "shell.execute_reply": "2024-09-07T16:26:52.946168Z"
    },
    "papermill": {
     "duration": 0.021221,
     "end_time": "2024-09-07T16:26:52.949244",
     "exception": false,
     "start_time": "2024-09-07T16:26:52.928023",
     "status": "completed"
    },
    "tags": []
   },
   "outputs": [],
   "source": [
    "class Trainer:\n",
    "    def __init__(self, device, model, test_dataloader, checkpoint_path):\n",
    "        self.device = device\n",
    "        self.model = model\n",
    "        self.test_dataloader = test_dataloader\n",
    "        self.checkpoint_path = checkpoint_path\n",
    "\n",
    "    def predict(self):\n",
    "        self.model.load_state_dict(torch.load(self.checkpoint_path))\n",
    "        self.model.eval()\n",
    "\n",
    "        preds = []\n",
    "        with torch.no_grad():\n",
    "            loop = tqdm(self.test_dataloader, total=len(self.test_dataloader))\n",
    "            for batch in loop:\n",
    "                x, _ = batch\n",
    "                x = x.to(self.device)\n",
    "                y_hat = self.model(x).squeeze()\n",
    "                preds.extend(y_hat.detach().cpu().numpy())\n",
    "                loop.set_description(f'Prediction')\n",
    "\n",
    "        return preds"
   ]
  },
  {
   "cell_type": "code",
   "execution_count": 14,
   "id": "ca06b7a2",
   "metadata": {
    "execution": {
     "iopub.execute_input": "2024-09-07T16:26:52.971361Z",
     "iopub.status.busy": "2024-09-07T16:26:52.970806Z",
     "iopub.status.idle": "2024-09-07T16:26:52.978266Z",
     "shell.execute_reply": "2024-09-07T16:26:52.977303Z"
    },
    "papermill": {
     "duration": 0.02071,
     "end_time": "2024-09-07T16:26:52.980409",
     "exception": false,
     "start_time": "2024-09-07T16:26:52.959699",
     "status": "completed"
    },
    "tags": []
   },
   "outputs": [],
   "source": [
    "def get_image_test_preds(model, checkpoint_path, checkpoints):\n",
    "    test_metadata = pd.read_csv(CFG.test_path)\n",
    "    test_preds = []\n",
    "\n",
    "    for i in range(len(checkpoints)):\n",
    "        test_dataset = ISICDataset(CFG.test_img_path, test_metadata, transforms)\n",
    "        test_dataloader = DataLoader(test_dataset, batch_size=CFG.val_batch_size, shuffle=False, num_workers=4)\n",
    "        \n",
    "        _model = model.to(CFG.device)\n",
    "        \n",
    "        trainer = Trainer(\n",
    "            device=CFG.device,\n",
    "            model=_model,\n",
    "            test_dataloader=test_dataloader,\n",
    "            checkpoint_path=checkpoint_path + checkpoints[i]\n",
    "        )\n",
    "\n",
    "        preds = trainer.predict()\n",
    "        test_preds.append(preds)\n",
    "\n",
    "        del test_dataset, test_dataloader, _model, trainer\n",
    "        gc.collect()\n",
    "        torch.cuda.empty_cache()\n",
    "\n",
    "    return test_preds"
   ]
  },
  {
   "cell_type": "code",
   "execution_count": 15,
   "id": "9878480f",
   "metadata": {
    "execution": {
     "iopub.execute_input": "2024-09-07T16:26:53.006429Z",
     "iopub.status.busy": "2024-09-07T16:26:53.005892Z",
     "iopub.status.idle": "2024-09-07T16:26:56.261488Z",
     "shell.execute_reply": "2024-09-07T16:26:56.260339Z"
    },
    "papermill": {
     "duration": 3.270484,
     "end_time": "2024-09-07T16:26:56.264159",
     "exception": false,
     "start_time": "2024-09-07T16:26:52.993675",
     "status": "completed"
    },
    "tags": []
   },
   "outputs": [],
   "source": [
    "resnet_oof_pred_probs = pd.read_csv(CFG.resnet_oof_path, index_col='isic_id')[[CFG.resnet_model_name]]\n",
    "swin_oof_pred_probs = pd.read_csv(CFG.swin_oof_path, index_col='isic_id')[[CFG.swin_model_name]]\n",
    "\n",
    "train = pd.merge(train, resnet_oof_pred_probs, left_index=True, right_index=True, how=\"left\")\n",
    "train = pd.merge(train, swin_oof_pred_probs, left_index=True, right_index=True, how=\"left\")"
   ]
  },
  {
   "cell_type": "code",
   "execution_count": 16,
   "id": "3c1ba027",
   "metadata": {
    "execution": {
     "iopub.execute_input": "2024-09-07T16:26:56.286830Z",
     "iopub.status.busy": "2024-09-07T16:26:56.286180Z",
     "iopub.status.idle": "2024-09-07T16:27:43.507207Z",
     "shell.execute_reply": "2024-09-07T16:27:43.506053Z"
    },
    "papermill": {
     "duration": 47.234995,
     "end_time": "2024-09-07T16:27:43.509827",
     "exception": false,
     "start_time": "2024-09-07T16:26:56.274832",
     "status": "completed"
    },
    "tags": []
   },
   "outputs": [
    {
     "name": "stderr",
     "output_type": "stream",
     "text": [
      "Prediction: 100%|██████████| 1/1 [00:01<00:00,  1.06s/it]\n",
      "Prediction: 100%|██████████| 1/1 [00:00<00:00,  4.69it/s]\n",
      "Prediction: 100%|██████████| 1/1 [00:00<00:00,  4.59it/s]\n",
      "Prediction: 100%|██████████| 1/1 [00:00<00:00,  4.60it/s]\n",
      "Prediction: 100%|██████████| 1/1 [00:00<00:00,  4.46it/s]\n",
      "Prediction: 100%|██████████| 1/1 [00:00<00:00,  2.59it/s]\n",
      "Prediction: 100%|██████████| 1/1 [00:00<00:00,  4.06it/s]\n",
      "Prediction: 100%|██████████| 1/1 [00:00<00:00,  3.93it/s]\n",
      "Prediction: 100%|██████████| 1/1 [00:00<00:00,  3.85it/s]\n",
      "Prediction: 100%|██████████| 1/1 [00:00<00:00,  3.94it/s]\n"
     ]
    }
   ],
   "source": [
    "resnet_test_preds = get_image_test_preds(ResNet(CFG.resnet_model_name), CFG.resnet_checkpoint_path, CFG.resnet_checkpoints)\n",
    "swin_test_preds = get_image_test_preds(SwinTransformer(CFG.swin_model_name), CFG.swin_checkpoint_path, CFG.swin_checkpoints)\n",
    "\n",
    "sample_sub = pd.read_csv(CFG.test_path)\n",
    "sample_sub[CFG.resnet_model_name] = np.mean(resnet_test_preds, axis=0)\n",
    "sample_sub[CFG.swin_model_name] = np.mean(swin_test_preds, axis=0)\n",
    "sample_sub = sample_sub[['isic_id', CFG.resnet_model_name, CFG.swin_model_name]].set_index('isic_id')\n",
    "test = pd.merge(test, sample_sub, left_index=True, right_index=True)"
   ]
  },
  {
   "cell_type": "code",
   "execution_count": 17,
   "id": "dd113a12",
   "metadata": {
    "execution": {
     "iopub.execute_input": "2024-09-07T16:27:43.541787Z",
     "iopub.status.busy": "2024-09-07T16:27:43.541416Z",
     "iopub.status.idle": "2024-09-07T16:27:43.964895Z",
     "shell.execute_reply": "2024-09-07T16:27:43.963976Z"
    },
    "papermill": {
     "duration": 0.442251,
     "end_time": "2024-09-07T16:27:43.967455",
     "exception": false,
     "start_time": "2024-09-07T16:27:43.525204",
     "status": "completed"
    },
    "tags": []
   },
   "outputs": [],
   "source": [
    "X = train.drop(CFG.target, axis=1)[feature_cols]\n",
    "y = train[CFG.target]\n",
    "\n",
    "X_test = test[feature_cols]\n",
    "\n",
    "groups = train['patient_id']"
   ]
  },
  {
   "cell_type": "markdown",
   "id": "235201f2",
   "metadata": {
    "papermill": {
     "duration": 0.015147,
     "end_time": "2024-09-07T16:27:43.997980",
     "exception": false,
     "start_time": "2024-09-07T16:27:43.982833",
     "status": "completed"
    },
    "tags": []
   },
   "source": [
    "# Training base models"
   ]
  },
  {
   "cell_type": "code",
   "execution_count": 18,
   "id": "d01bda30",
   "metadata": {
    "execution": {
     "iopub.execute_input": "2024-09-07T16:27:44.029566Z",
     "iopub.status.busy": "2024-09-07T16:27:44.029218Z",
     "iopub.status.idle": "2024-09-07T16:27:44.037909Z",
     "shell.execute_reply": "2024-09-07T16:27:44.036931Z"
    },
    "papermill": {
     "duration": 0.026473,
     "end_time": "2024-09-07T16:27:44.039961",
     "exception": false,
     "start_time": "2024-09-07T16:27:44.013488",
     "status": "completed"
    },
    "tags": []
   },
   "outputs": [],
   "source": [
    "def p_roc_auc_score(y_true, y_pred):\n",
    "    min_tpr = 0.80\n",
    "    v_gt = abs(np.asarray(y_true) - 1)\n",
    "    v_pred = -1.0*np.asarray(y_pred)\n",
    "    max_fpr = abs(1-min_tpr)\n",
    "    fpr, tpr, _ = roc_curve(v_gt, v_pred, sample_weight=None)\n",
    "    if max_fpr is None or max_fpr == 1:\n",
    "        return auc(fpr, tpr)\n",
    "    if max_fpr <= 0 or max_fpr > 1:\n",
    "        raise ValueError('Expected min_tpr in range [0, 1), got: %r' % min_tpr)\n",
    "\n",
    "    stop = np.searchsorted(fpr, max_fpr, 'right')\n",
    "    x_interp = [fpr[stop - 1], fpr[stop]]\n",
    "    y_interp = [tpr[stop - 1], tpr[stop]]\n",
    "    tpr = np.append(tpr[:stop], np.interp(max_fpr, x_interp, y_interp))\n",
    "    fpr = np.append(fpr[:stop], max_fpr)\n",
    "    partial_auc = auc(fpr, tpr)\n",
    "\n",
    "    return partial_auc"
   ]
  },
  {
   "cell_type": "code",
   "execution_count": 19,
   "id": "733b71cd",
   "metadata": {
    "execution": {
     "iopub.execute_input": "2024-09-07T16:27:44.071539Z",
     "iopub.status.busy": "2024-09-07T16:27:44.071227Z",
     "iopub.status.idle": "2024-09-07T16:27:44.082029Z",
     "shell.execute_reply": "2024-09-07T16:27:44.081082Z"
    },
    "papermill": {
     "duration": 0.028883,
     "end_time": "2024-09-07T16:27:44.084123",
     "exception": false,
     "start_time": "2024-09-07T16:27:44.055240",
     "status": "completed"
    },
    "tags": []
   },
   "outputs": [],
   "source": [
    "class Trainer:\n",
    "    def __init__(self, model, n_folds=CFG.n_folds):\n",
    "        self.model = model\n",
    "        self.n_folds = n_folds\n",
    "\n",
    "    def fit_predict(self, X, y, X_test):\n",
    "        print(f'Training {self.model.__class__.__name__}\\n')\n",
    "\n",
    "        scores = []\n",
    "        oof_pred_probs = np.zeros((X.shape[0], len(np.unique(y))))\n",
    "        test_pred_probs = np.zeros((X_test.shape[0], len(np.unique(y))))\n",
    "\n",
    "        split = StratifiedGroupKFold(n_splits=self.n_folds, random_state=CFG.seed, shuffle=True).split(X, y, groups=groups)    \n",
    "        for fold_idx, (train_idx, val_idx) in enumerate(split):\n",
    "            X_train, X_val = X.iloc[train_idx], X.iloc[val_idx]\n",
    "            y_train, y_val = y[train_idx], y[val_idx]\n",
    "\n",
    "            model = clone(self.model)\n",
    "            model.fit(X_train, y_train)\n",
    "\n",
    "            y_pred_probs = model.predict_proba(X_val)\n",
    "            oof_pred_probs[val_idx] = y_pred_probs\n",
    "\n",
    "            temp_test_pred_probs = model.predict_proba(X_test)\n",
    "            test_pred_probs += temp_test_pred_probs / self.n_folds\n",
    "\n",
    "            score = p_roc_auc_score(y_val, y_pred_probs[:, 1])\n",
    "            scores.append(score)\n",
    "\n",
    "            del model\n",
    "            gc.collect()\n",
    "\n",
    "            print(f'--- Fold {fold_idx + 1} - pAUC: {score:.6f}')\n",
    "\n",
    "        print(f'\\n\\n------ pAUC: {np.mean(scores):.6f} ± {np.std(scores):.6f}')\n",
    "\n",
    "        return oof_pred_probs, test_pred_probs, scores"
   ]
  },
  {
   "cell_type": "code",
   "execution_count": 20,
   "id": "91e1ef6e",
   "metadata": {
    "_kg_hide-input": true,
    "execution": {
     "iopub.execute_input": "2024-09-07T16:27:44.115201Z",
     "iopub.status.busy": "2024-09-07T16:27:44.114880Z",
     "iopub.status.idle": "2024-09-07T16:27:44.123733Z",
     "shell.execute_reply": "2024-09-07T16:27:44.122799Z"
    },
    "papermill": {
     "duration": 0.026995,
     "end_time": "2024-09-07T16:27:44.125866",
     "exception": false,
     "start_time": "2024-09-07T16:27:44.098871",
     "status": "completed"
    },
    "tags": []
   },
   "outputs": [],
   "source": [
    "lgbm_params = {\n",
    "    'bagging_fraction': 0.3465000550081851,\n",
    "    'bagging_freq': 8,\n",
    "    'colsample_bynode': 0.4167820599704415,\n",
    "    'colsample_bytree': 0.4421463443520458,\n",
    "    'learning_rate': 0.001811692225603902,\n",
    "    'max_depth': 35,\n",
    "    'min_data_in_leaf': 81,\n",
    "    'n_estimators': 863,\n",
    "    'num_leaves': 67,\n",
    "    'random_state': CFG.seed,\n",
    "    'reg_alpha': 7.968656148568324,\n",
    "    'reg_lambda': 9.88332614486686,\n",
    "    'scale_pos_weight': 7.56776875175158,\n",
    "    'verbosity': -1\n",
    "}\n",
    "\n",
    "cb_params = {\n",
    "    'iterations': 342,\n",
    "    'l2_leaf_reg': 8.039344289318391,\n",
    "    'learning_rate': 0.006520436774676923,\n",
    "    'max_depth': 9,\n",
    "    'min_data_in_leaf': 433,\n",
    "    'random_state': CFG.seed,\n",
    "    'random_strength': 0.33854201785212,\n",
    "    'scale_pos_weight': 35.28515757349715,\n",
    "    'verbose': False,\n",
    "    'cat_features': cat_cols\n",
    "}\n",
    "\n",
    "xgb_params = {\n",
    "    'alpha': 2.46087333598469,\n",
    "    'colsample_bylevel': 0.4550137505808455,\n",
    "    'colsample_bynode': 0.8906112494040207,\n",
    "    'colsample_bytree': 0.3871006242590642,\n",
    "    'enable_categorical': True,\n",
    "    'lambda': 7.262864094940608,\n",
    "    'learning_rate': 0.020978075381692652,\n",
    "    'max_depth': 86,\n",
    "    'n_estimators': 693,\n",
    "    'random_state': CFG.seed,\n",
    "    'scale_pos_weight': 12.73805076866774,\n",
    "    'subsample': 0.8094914802673989,\n",
    "    'verbosity': 0\n",
    "}"
   ]
  },
  {
   "cell_type": "code",
   "execution_count": 21,
   "id": "263925e7",
   "metadata": {
    "execution": {
     "iopub.execute_input": "2024-09-07T16:27:44.157814Z",
     "iopub.status.busy": "2024-09-07T16:27:44.157528Z",
     "iopub.status.idle": "2024-09-07T16:27:44.161914Z",
     "shell.execute_reply": "2024-09-07T16:27:44.161070Z"
    },
    "papermill": {
     "duration": 0.022824,
     "end_time": "2024-09-07T16:27:44.164090",
     "exception": false,
     "start_time": "2024-09-07T16:27:44.141266",
     "status": "completed"
    },
    "tags": []
   },
   "outputs": [],
   "source": [
    "paucs = {}\n",
    "\n",
    "test_pred_probs = {}\n",
    "oof_pred_probs = {}"
   ]
  },
  {
   "cell_type": "code",
   "execution_count": 22,
   "id": "91a2249a",
   "metadata": {
    "execution": {
     "iopub.execute_input": "2024-09-07T16:27:44.195688Z",
     "iopub.status.busy": "2024-09-07T16:27:44.195265Z",
     "iopub.status.idle": "2024-09-07T16:33:25.442219Z",
     "shell.execute_reply": "2024-09-07T16:33:25.441122Z"
    },
    "papermill": {
     "duration": 341.281493,
     "end_time": "2024-09-07T16:33:25.460593",
     "exception": false,
     "start_time": "2024-09-07T16:27:44.179100",
     "status": "completed"
    },
    "tags": []
   },
   "outputs": [
    {
     "name": "stdout",
     "output_type": "stream",
     "text": [
      "Training LGBMClassifier\n",
      "\n",
      "--- Fold 1 - pAUC: 0.160580\n",
      "--- Fold 2 - pAUC: 0.172507\n",
      "--- Fold 3 - pAUC: 0.176406\n",
      "--- Fold 4 - pAUC: 0.174372\n",
      "--- Fold 5 - pAUC: 0.178895\n",
      "\n",
      "\n",
      "------ pAUC: 0.172552 ± 0.006352\n"
     ]
    }
   ],
   "source": [
    "lgbm_model = LGBMClassifier(**lgbm_params)\n",
    "lgbm_trainer = Trainer(lgbm_model)\n",
    "lgbm_oof_pred_probs, lgbm_test_pred_probs, lgbm_scores = lgbm_trainer.fit_predict(X, y, X_test)\n",
    "oof_pred_probs['LightGBM'] = lgbm_oof_pred_probs\n",
    "test_pred_probs['LightGBM'] = lgbm_test_pred_probs\n",
    "paucs['LightGBM'] = lgbm_scores"
   ]
  },
  {
   "cell_type": "code",
   "execution_count": 23,
   "id": "d22eba45",
   "metadata": {
    "execution": {
     "iopub.execute_input": "2024-09-07T16:33:25.494080Z",
     "iopub.status.busy": "2024-09-07T16:33:25.493722Z",
     "iopub.status.idle": "2024-09-07T16:43:08.330332Z",
     "shell.execute_reply": "2024-09-07T16:43:08.329289Z"
    },
    "papermill": {
     "duration": 582.872663,
     "end_time": "2024-09-07T16:43:08.349326",
     "exception": false,
     "start_time": "2024-09-07T16:33:25.476663",
     "status": "completed"
    },
    "tags": []
   },
   "outputs": [
    {
     "name": "stdout",
     "output_type": "stream",
     "text": [
      "Training CatBoostClassifier\n",
      "\n",
      "--- Fold 1 - pAUC: 0.163566\n",
      "--- Fold 2 - pAUC: 0.177451\n",
      "--- Fold 3 - pAUC: 0.172377\n",
      "--- Fold 4 - pAUC: 0.172614\n",
      "--- Fold 5 - pAUC: 0.184837\n",
      "\n",
      "\n",
      "------ pAUC: 0.174169 ± 0.006966\n"
     ]
    }
   ],
   "source": [
    "cb_model = CatBoostClassifier(**cb_params)\n",
    "cb_trainer = Trainer(cb_model)\n",
    "cb_oof_pred_probs, cb_test_pred_probs, cb_scores = cb_trainer.fit_predict(X, y, X_test)\n",
    "oof_pred_probs['CatBoost'] = cb_oof_pred_probs\n",
    "test_pred_probs['CatBoost'] = cb_test_pred_probs\n",
    "paucs['CatBoost'] = cb_scores"
   ]
  },
  {
   "cell_type": "code",
   "execution_count": 24,
   "id": "b626fe7f",
   "metadata": {
    "execution": {
     "iopub.execute_input": "2024-09-07T16:43:08.385540Z",
     "iopub.status.busy": "2024-09-07T16:43:08.384896Z",
     "iopub.status.idle": "2024-09-07T16:56:24.620417Z",
     "shell.execute_reply": "2024-09-07T16:56:24.619364Z"
    },
    "papermill": {
     "duration": 796.274057,
     "end_time": "2024-09-07T16:56:24.639949",
     "exception": false,
     "start_time": "2024-09-07T16:43:08.365892",
     "status": "completed"
    },
    "tags": []
   },
   "outputs": [
    {
     "name": "stdout",
     "output_type": "stream",
     "text": [
      "Training XGBClassifier\n",
      "\n",
      "--- Fold 1 - pAUC: 0.172100\n",
      "--- Fold 2 - pAUC: 0.169514\n",
      "--- Fold 3 - pAUC: 0.175891\n",
      "--- Fold 4 - pAUC: 0.176509\n",
      "--- Fold 5 - pAUC: 0.181154\n",
      "\n",
      "\n",
      "------ pAUC: 0.175034 ± 0.003986\n"
     ]
    }
   ],
   "source": [
    "xgb_model = XGBClassifier(**xgb_params)\n",
    "xgb_trainer = Trainer(xgb_model)\n",
    "xgb_oof_pred_probs, xgb_test_pred_probs, xgb_scores = xgb_trainer.fit_predict(X, y, X_test)\n",
    "oof_pred_probs['XGBoost'] = xgb_oof_pred_probs\n",
    "test_pred_probs['XGBoost'] = xgb_test_pred_probs\n",
    "paucs['XGBoost'] = xgb_scores"
   ]
  },
  {
   "cell_type": "markdown",
   "id": "74a1ebd5",
   "metadata": {
    "papermill": {
     "duration": 0.016879,
     "end_time": "2024-09-07T16:56:24.674227",
     "exception": false,
     "start_time": "2024-09-07T16:56:24.657348",
     "status": "completed"
    },
    "tags": []
   },
   "source": [
    "# Training and tuning the ensemble"
   ]
  },
  {
   "cell_type": "code",
   "execution_count": 25,
   "id": "2e450f61",
   "metadata": {
    "_kg_hide-output": true,
    "execution": {
     "iopub.execute_input": "2024-09-07T16:56:24.710399Z",
     "iopub.status.busy": "2024-09-07T16:56:24.710029Z",
     "iopub.status.idle": "2024-09-07T16:56:39.958559Z",
     "shell.execute_reply": "2024-09-07T16:56:39.957523Z"
    },
    "papermill": {
     "duration": 15.269157,
     "end_time": "2024-09-07T16:56:39.960890",
     "exception": false,
     "start_time": "2024-09-07T16:56:24.691733",
     "status": "completed"
    },
    "scrolled": true,
    "tags": []
   },
   "outputs": [
    {
     "name": "stderr",
     "output_type": "stream",
     "text": [
      "[I 2024-09-07 16:56:24,718] A new study created in memory with name: no-name-2fce09d4-d60a-427a-ba86-46acefce3777\n",
      "[I 2024-09-07 16:56:24,882] Trial 1 finished with value: 0.17481950948617114 and parameters: {'lgbm_weight': 2.0702713991841732, 'cb_weight': 0.07780893273008738, 'xgb_weight': 0.9457843790877585}. Best is trial 1 with value: 0.17481950948617114.\n",
      "[I 2024-09-07 16:56:24,900] Trial 3 finished with value: 0.17473113754148956 and parameters: {'lgbm_weight': 1.5297327252611925, 'cb_weight': 0.8299332846760865, 'xgb_weight': 3.2231906458868407}. Best is trial 1 with value: 0.17481950948617114.\n",
      "[I 2024-09-07 16:56:24,929] Trial 2 finished with value: 0.17407189040425805 and parameters: {'lgbm_weight': 4.671965692895145, 'cb_weight': 3.4284182257371403, 'xgb_weight': 4.368749909671751}. Best is trial 1 with value: 0.17481950948617114.\n",
      "[I 2024-09-07 16:56:24,942] Trial 0 finished with value: 0.1749235068140807 and parameters: {'lgbm_weight': 3.3415164139065223, 'cb_weight': 0.42632699443208966, 'xgb_weight': 1.2614761787051276}. Best is trial 0 with value: 0.1749235068140807.\n",
      "[I 2024-09-07 16:56:25,067] Trial 4 finished with value: 0.17443377133307136 and parameters: {'lgbm_weight': 1.7575674197504614, 'cb_weight': 0.8804581951404389, 'xgb_weight': 1.7545595658743336}. Best is trial 0 with value: 0.1749235068140807.\n",
      "[I 2024-09-07 16:56:25,076] Trial 5 finished with value: 0.17373127686422457 and parameters: {'lgbm_weight': 3.9755375124581036, 'cb_weight': 4.768913044606318, 'xgb_weight': 4.775056367920356}. Best is trial 0 with value: 0.1749235068140807.\n",
      "[I 2024-09-07 16:56:25,082] Trial 6 finished with value: 0.17512416127402322 and parameters: {'lgbm_weight': 3.3397316424822194, 'cb_weight': 0.29871012866619306, 'xgb_weight': 1.9576578248708647}. Best is trial 6 with value: 0.17512416127402322.\n",
      "[I 2024-09-07 16:56:25,107] Trial 7 finished with value: 0.1728184735265655 and parameters: {'lgbm_weight': 0.3310834414849634, 'cb_weight': 3.12163983228698, 'xgb_weight': 0.5956983959275314}. Best is trial 6 with value: 0.17512416127402322.\n",
      "[I 2024-09-07 16:56:25,218] Trial 8 finished with value: 0.1737857866143964 and parameters: {'lgbm_weight': 4.849078827946119, 'cb_weight': 4.933703568913578, 'xgb_weight': 4.283233865756923}. Best is trial 6 with value: 0.17512416127402322.\n",
      "[I 2024-09-07 16:56:25,236] Trial 9 finished with value: 0.1743760887486203 and parameters: {'lgbm_weight': 4.710771587358721, 'cb_weight': 0.049301545178944695, 'xgb_weight': 1.8774359814546733}. Best is trial 6 with value: 0.17512416127402322.\n",
      "[I 2024-09-07 16:56:25,282] Trial 10 finished with value: 0.1757046235575019 and parameters: {'lgbm_weight': 2.3966686444122987, 'cb_weight': 0.40349079143296607, 'xgb_weight': 4.677511290239765}. Best is trial 10 with value: 0.1757046235575019.\n",
      "[I 2024-09-07 16:56:25,310] Trial 11 finished with value: 0.17399670515512786 and parameters: {'lgbm_weight': 1.1776256260879197, 'cb_weight': 1.6103950047491955, 'xgb_weight': 3.6741964844256616}. Best is trial 10 with value: 0.1757046235575019.\n",
      "[I 2024-09-07 16:56:25,387] Trial 12 finished with value: 0.17335511945130438 and parameters: {'lgbm_weight': 0.9166645550020369, 'cb_weight': 2.8799392905510173, 'xgb_weight': 3.042897951069529}. Best is trial 10 with value: 0.1757046235575019.\n",
      "[I 2024-09-07 16:56:25,464] Trial 13 finished with value: 0.17428134446223367 and parameters: {'lgbm_weight': 3.0605726218800067, 'cb_weight': 1.7932848950250635, 'xgb_weight': 2.9598964473967504}. Best is trial 10 with value: 0.1757046235575019.\n",
      "[I 2024-09-07 16:56:25,493] Trial 14 finished with value: 0.17427572150892934 and parameters: {'lgbm_weight': 2.883423065405157, 'cb_weight': 1.745065814969836, 'xgb_weight': 2.975387566314315}. Best is trial 10 with value: 0.1757046235575019.\n",
      "[I 2024-09-07 16:56:25,546] Trial 15 finished with value: 0.17424922872374235 and parameters: {'lgbm_weight': 2.8753467781780047, 'cb_weight': 1.7283887598889736, 'xgb_weight': 2.7078655636831437}. Best is trial 10 with value: 0.1757046235575019.\n",
      "[I 2024-09-07 16:56:25,583] Trial 16 finished with value: 0.17386905128660524 and parameters: {'lgbm_weight': 2.8793152596788887, 'cb_weight': 1.7707659900369181, 'xgb_weight': 0.03771756662770365}. Best is trial 10 with value: 0.1757046235575019.\n",
      "[I 2024-09-07 16:56:25,642] Trial 17 finished with value: 0.1741018011626418 and parameters: {'lgbm_weight': 2.6097193915699473, 'cb_weight': 1.6923647728795166, 'xgb_weight': 1.8574304016291312}. Best is trial 10 with value: 0.1757046235575019.\n",
      "[I 2024-09-07 16:56:25,735] Trial 18 finished with value: 0.1741412990119542 and parameters: {'lgbm_weight': 2.5371111186395745, 'cb_weight': 1.014624179667526, 'xgb_weight': 0.015061217341254984}. Best is trial 10 with value: 0.1757046235575019.\n",
      "[I 2024-09-07 16:56:25,739] Trial 19 finished with value: 0.17475765954012265 and parameters: {'lgbm_weight': 3.6690374877595575, 'cb_weight': 0.9885619840057025, 'xgb_weight': 2.224510620994062}. Best is trial 10 with value: 0.1757046235575019.\n",
      "[I 2024-09-07 16:56:25,821] Trial 20 finished with value: 0.17479258103959194 and parameters: {'lgbm_weight': 3.827928330823944, 'cb_weight': 0.935450061032174, 'xgb_weight': 2.124930727775291}. Best is trial 10 with value: 0.1757046235575019.\n",
      "[I 2024-09-07 16:56:25,852] Trial 21 finished with value: 0.174781713637633 and parameters: {'lgbm_weight': 3.6099338278054467, 'cb_weight': 0.969099899635002, 'xgb_weight': 2.3237835985164614}. Best is trial 10 with value: 0.1757046235575019.\n",
      "[I 2024-09-07 16:56:25,999] Trial 23 finished with value: 0.17385466556961282 and parameters: {'lgbm_weight': 3.958220886302583, 'cb_weight': 3.815258119358262, 'xgb_weight': 3.874286562315382}. Best is trial 10 with value: 0.1757046235575019.\n",
      "[I 2024-09-07 16:56:26,007] Trial 22 finished with value: 0.1743100003125838 and parameters: {'lgbm_weight': 3.9274949555066114, 'cb_weight': 2.2364213907068473, 'xgb_weight': 3.833488109107316}. Best is trial 10 with value: 0.1757046235575019.\n",
      "[I 2024-09-07 16:56:26,021] Trial 24 finished with value: 0.17493344065591343 and parameters: {'lgbm_weight': 3.4520589639732613, 'cb_weight': 0.3385457692847522, 'xgb_weight': 1.2825294279173372}. Best is trial 10 with value: 0.1757046235575019.\n",
      "[I 2024-09-07 16:56:26,100] Trial 25 finished with value: 0.17490203874162744 and parameters: {'lgbm_weight': 3.3512456127397328, 'cb_weight': 0.23279375276038494, 'xgb_weight': 1.2488802110290655}. Best is trial 10 with value: 0.1757046235575019.\n",
      "[I 2024-09-07 16:56:26,239] Trial 26 finished with value: 0.17495355855909575 and parameters: {'lgbm_weight': 3.3338001316765693, 'cb_weight': 0.35911506888449823, 'xgb_weight': 1.3184556472721827}. Best is trial 10 with value: 0.1757046235575019.\n",
      "[I 2024-09-07 16:56:26,278] Trial 27 finished with value: 0.17487504424725703 and parameters: {'lgbm_weight': 3.315809220488974, 'cb_weight': 0.44037603911875567, 'xgb_weight': 1.095469372444278}. Best is trial 10 with value: 0.1757046235575019.\n",
      "[I 2024-09-07 16:56:26,282] Trial 28 finished with value: 0.17500409274029471 and parameters: {'lgbm_weight': 2.126647982027129, 'cb_weight': 0.4086498025560578, 'xgb_weight': 1.416146589543577}. Best is trial 10 with value: 0.1757046235575019.\n",
      "[I 2024-09-07 16:56:26,340] Trial 29 finished with value: 0.1749231283094309 and parameters: {'lgbm_weight': 2.0458189338081896, 'cb_weight': 0.46730616151444965, 'xgb_weight': 1.432307080908673}. Best is trial 10 with value: 0.1757046235575019.\n",
      "[I 2024-09-07 16:56:26,475] Trial 30 finished with value: 0.17466030128538268 and parameters: {'lgbm_weight': 2.1371055733863478, 'cb_weight': 0.4880908378303552, 'xgb_weight': 0.6363920825381455}. Best is trial 10 with value: 0.1757046235575019.\n",
      "[I 2024-09-07 16:56:26,516] Trial 31 finished with value: 0.17408026196179793 and parameters: {'lgbm_weight': 2.320867061031652, 'cb_weight': 1.2568943370004817, 'xgb_weight': 0.6845407038669316}. Best is trial 10 with value: 0.1757046235575019.\n",
      "[I 2024-09-07 16:56:26,520] Trial 32 finished with value: 0.1739883234363893 and parameters: {'lgbm_weight': 2.1479229480024333, 'cb_weight': 1.3563890038016364, 'xgb_weight': 0.7547719693547164}. Best is trial 10 with value: 0.1757046235575019.\n",
      "[I 2024-09-07 16:56:26,581] Trial 33 finished with value: 0.17397352873115116 and parameters: {'lgbm_weight': 2.1690171010386825, 'cb_weight': 1.299806722198936, 'xgb_weight': 0.4765514310878194}. Best is trial 10 with value: 0.1757046235575019.\n",
      "[I 2024-09-07 16:56:26,728] Trial 34 finished with value: 0.17429918752706763 and parameters: {'lgbm_weight': 2.4311399010055554, 'cb_weight': 1.1990403903019287, 'xgb_weight': 1.545026285846647}. Best is trial 10 with value: 0.1757046235575019.\n",
      "[I 2024-09-07 16:56:26,765] Trial 36 finished with value: 0.17488741423646673 and parameters: {'lgbm_weight': 4.415574642846108, 'cb_weight': 0.6354928394255079, 'xgb_weight': 1.6012185725958885}. Best is trial 10 with value: 0.1757046235575019.\n",
      "[I 2024-09-07 16:56:26,769] Trial 35 finished with value: 0.17493034022017456 and parameters: {'lgbm_weight': 1.781645870714606, 'cb_weight': 0.018847808440519143, 'xgb_weight': 1.5905061660954827}. Best is trial 10 with value: 0.1757046235575019.\n",
      "[I 2024-09-07 16:56:26,830] Trial 37 finished with value: 0.1746298570640697 and parameters: {'lgbm_weight': 1.7160791380496543, 'cb_weight': 0.6629357998089649, 'xgb_weight': 1.5668895601934332}. Best is trial 10 with value: 0.1757046235575019.\n",
      "[I 2024-09-07 16:56:26,948] Trial 38 finished with value: 0.1750541683974045 and parameters: {'lgbm_weight': 4.366691177268674, 'cb_weight': 0.6346379560939156, 'xgb_weight': 2.5403291709621896}. Best is trial 10 with value: 0.1757046235575019.\n",
      "[I 2024-09-07 16:56:27,000] Trial 40 finished with value: 0.17489072678722745 and parameters: {'lgbm_weight': 1.5043759002523125, 'cb_weight': 0.6219182045300816, 'xgb_weight': 2.6043063145600174}. Best is trial 10 with value: 0.1757046235575019.\n",
      "[I 2024-09-07 16:56:27,004] Trial 39 finished with value: 0.1750257576859719 and parameters: {'lgbm_weight': 4.325856883984917, 'cb_weight': 0.6633368820976759, 'xgb_weight': 2.4455932080589164}. Best is trial 10 with value: 0.1757046235575019.\n",
      "[I 2024-09-07 16:56:27,072] Trial 41 finished with value: 0.17437891864244504 and parameters: {'lgbm_weight': 4.305525259072394, 'cb_weight': 2.4033980018781866, 'xgb_weight': 4.813555962304079}. Best is trial 10 with value: 0.1757046235575019.\n",
      "[I 2024-09-07 16:56:27,180] Trial 42 finished with value: 0.17434258346621317 and parameters: {'lgbm_weight': 4.247342898977205, 'cb_weight': 2.1522245205258312, 'xgb_weight': 3.369200152086481}. Best is trial 10 with value: 0.1757046235575019.\n",
      "[I 2024-09-07 16:56:27,232] Trial 43 finished with value: 0.1755090128625406 and parameters: {'lgbm_weight': 4.266122310340628, 'cb_weight': 0.2712386104817767, 'xgb_weight': 4.936536644098579}. Best is trial 10 with value: 0.1757046235575019.\n",
      "[I 2024-09-07 16:56:27,238] Trial 44 finished with value: 0.17519689132352897 and parameters: {'lgbm_weight': 4.228787027027362, 'cb_weight': 0.1934294950944931, 'xgb_weight': 3.3885820507948825}. Best is trial 10 with value: 0.1757046235575019.\n",
      "[I 2024-09-07 16:56:27,305] Trial 45 finished with value: 0.1747108316561322 and parameters: {'lgbm_weight': 4.973938306699226, 'cb_weight': 0.15628868641720417, 'xgb_weight': 2.0529715582610155}. Best is trial 10 with value: 0.1757046235575019.\n",
      "[I 2024-09-07 16:56:27,410] Trial 46 finished with value: 0.1751920774556673 and parameters: {'lgbm_weight': 4.979040592452302, 'cb_weight': 0.1706247062717645, 'xgb_weight': 4.405317246658451}. Best is trial 10 with value: 0.1757046235575019.\n",
      "[I 2024-09-07 16:56:27,467] Trial 47 finished with value: 0.17533226770302762 and parameters: {'lgbm_weight': 4.62164134522375, 'cb_weight': 0.227732428642573, 'xgb_weight': 4.430514926636118}. Best is trial 10 with value: 0.1757046235575019.\n",
      "[I 2024-09-07 16:56:27,471] Trial 48 finished with value: 0.17524012214319645 and parameters: {'lgbm_weight': 4.880907347473778, 'cb_weight': 0.16971037193023825, 'xgb_weight': 4.595145290859167}. Best is trial 10 with value: 0.1757046235575019.\n",
      "[I 2024-09-07 16:56:27,528] Trial 49 finished with value: 0.17476561321836798 and parameters: {'lgbm_weight': 4.59124275457057, 'cb_weight': 0.00187424757429, 'xgb_weight': 4.4121260934889195}. Best is trial 10 with value: 0.1757046235575019.\n",
      "[I 2024-09-07 16:56:27,682] Trial 50 finished with value: 0.17489074837977464 and parameters: {'lgbm_weight': 4.657617388228839, 'cb_weight': 0.02475130882273896, 'xgb_weight': 4.4922064006507405}. Best is trial 10 with value: 0.1757046235575019.\n",
      "[I 2024-09-07 16:56:27,718] Trial 52 finished with value: 0.17389487851328045 and parameters: {'lgbm_weight': 4.707702296213165, 'cb_weight': 4.288856674112887, 'xgb_weight': 4.488839529305649}. Best is trial 10 with value: 0.1757046235575019.\n",
      "[I 2024-09-07 16:56:27,734] Trial 51 finished with value: 0.17406145866369133 and parameters: {'lgbm_weight': 4.588945354345677, 'cb_weight': 3.594662900671177, 'xgb_weight': 4.99145899543133}. Best is trial 10 with value: 0.1757046235575019.\n",
      "[I 2024-09-07 16:56:27,788] Trial 53 finished with value: 0.1739512464926558 and parameters: {'lgbm_weight': 4.699689684040335, 'cb_weight': 4.145901407795216, 'xgb_weight': 4.97456449558554}. Best is trial 10 with value: 0.1757046235575019.\n",
      "[I 2024-09-07 16:56:27,903] Trial 54 finished with value: 0.1752802563375745 and parameters: {'lgbm_weight': 4.97933718316697, 'cb_weight': 0.811626836731506, 'xgb_weight': 4.964304835456231}. Best is trial 10 with value: 0.1757046235575019.\n",
      "[I 2024-09-07 16:56:27,953] Trial 55 finished with value: 0.17551510069068327 and parameters: {'lgbm_weight': 4.126460823862218, 'cb_weight': 0.22831667772209374, 'xgb_weight': 4.961827724492286}. Best is trial 10 with value: 0.1757046235575019.\n",
      "[I 2024-09-07 16:56:27,968] Trial 56 finished with value: 0.17518462675675534 and parameters: {'lgbm_weight': 4.999768897958687, 'cb_weight': 0.8186581512293041, 'xgb_weight': 4.179393406787857}. Best is trial 10 with value: 0.1757046235575019.\n",
      "[I 2024-09-07 16:56:27,994] Trial 57 finished with value: 0.17516808559549873 and parameters: {'lgbm_weight': 4.998508093546422, 'cb_weight': 0.1892696034895981, 'xgb_weight': 4.11505451273906}. Best is trial 10 with value: 0.1757046235575019.\n",
      "[I 2024-09-07 16:56:28,147] Trial 58 finished with value: 0.1751772370250352 and parameters: {'lgbm_weight': 4.092049341968115, 'cb_weight': 0.8168182248030704, 'xgb_weight': 4.068802956928555}. Best is trial 10 with value: 0.1757046235575019.\n",
      "[I 2024-09-07 16:56:28,195] Trial 59 finished with value: 0.17522620003089254 and parameters: {'lgbm_weight': 4.105909369902297, 'cb_weight': 0.7679673892798395, 'xgb_weight': 4.181897148131689}. Best is trial 10 with value: 0.1757046235575019.\n",
      "[I 2024-09-07 16:56:28,210] Trial 60 finished with value: 0.17526301151331122 and parameters: {'lgbm_weight': 4.139410358657376, 'cb_weight': 0.8105534602996989, 'xgb_weight': 4.711309963139649}. Best is trial 10 with value: 0.1757046235575019.\n",
      "[I 2024-09-07 16:56:28,234] Trial 61 finished with value: 0.17427002488693472 and parameters: {'lgbm_weight': 0.09862539294966499, 'cb_weight': 0.860833753168652, 'xgb_weight': 4.692380329169654}. Best is trial 10 with value: 0.1757046235575019.\n",
      "[I 2024-09-07 16:56:28,400] Trial 62 finished with value: 0.1741926371979966 and parameters: {'lgbm_weight': 4.4938843965271005, 'cb_weight': 3.003219710279784, 'xgb_weight': 4.716233265549379}. Best is trial 10 with value: 0.1757046235575019.\n",
      "[I 2024-09-07 16:56:28,441] Trial 63 finished with value: 0.1748130596653264 and parameters: {'lgbm_weight': 4.482597675397991, 'cb_weight': 1.4984274291308255, 'xgb_weight': 4.676952739819481}. Best is trial 10 with value: 0.1757046235575019.\n",
      "[I 2024-09-07 16:56:28,478] Trial 65 finished with value: 0.1750977866127706 and parameters: {'lgbm_weight': 4.4621070598526105, 'cb_weight': 1.048398433862593, 'xgb_weight': 4.681700043408571}. Best is trial 10 with value: 0.1757046235575019.\n",
      "[I 2024-09-07 16:56:28,494] Trial 64 finished with value: 0.17412408086083742 and parameters: {'lgbm_weight': 3.7824377740382533, 'cb_weight': 2.923631207816639, 'xgb_weight': 4.7382462934723355}. Best is trial 10 with value: 0.1757046235575019.\n",
      "[I 2024-09-07 16:56:28,644] Trial 66 finished with value: 0.1746061929025577 and parameters: {'lgbm_weight': 2.7004367517764405, 'cb_weight': 1.4745456582708842, 'xgb_weight': 4.657256851322375}. Best is trial 10 with value: 0.1757046235575019.\n",
      "[I 2024-09-07 16:56:28,683] Trial 67 finished with value: 0.1754252998274412 and parameters: {'lgbm_weight': 4.809193533105362, 'cb_weight': 0.32554474010773926, 'xgb_weight': 4.868336313663242}. Best is trial 10 with value: 0.1757046235575019.\n",
      "[I 2024-09-07 16:56:28,724] Trial 69 finished with value: 0.1754269332401246 and parameters: {'lgbm_weight': 4.795561205927298, 'cb_weight': 0.31660483259653355, 'xgb_weight': 4.893791546239832}. Best is trial 10 with value: 0.1757046235575019.\n",
      "[I 2024-09-07 16:56:28,728] Trial 68 finished with value: 0.1755897143723893 and parameters: {'lgbm_weight': 3.766908420145534, 'cb_weight': 0.3569329921460167, 'xgb_weight': 4.883685200100695}. Best is trial 10 with value: 0.1757046235575019.\n",
      "[I 2024-09-07 16:56:28,883] Trial 70 finished with value: 0.17542777280916327 and parameters: {'lgbm_weight': 4.822102190879328, 'cb_weight': 0.3244685503408636, 'xgb_weight': 4.907763908544068}. Best is trial 10 with value: 0.1757046235575019.\n",
      "[I 2024-09-07 16:56:28,929] Trial 71 finished with value: 0.17543842428565087 and parameters: {'lgbm_weight': 4.782677913854809, 'cb_weight': 0.35672018785078674, 'xgb_weight': 4.8719349738593145}. Best is trial 10 with value: 0.1757046235575019.\n",
      "[I 2024-09-07 16:56:28,969] Trial 72 finished with value: 0.175546353997439 and parameters: {'lgbm_weight': 3.5386358092827743, 'cb_weight': 0.4842127601896412, 'xgb_weight': 4.8427390484690385}. Best is trial 10 with value: 0.1757046235575019.\n",
      "[I 2024-09-07 16:56:28,973] Trial 73 finished with value: 0.17542065361935733 and parameters: {'lgbm_weight': 4.816323590949169, 'cb_weight': 0.31665930185635077, 'xgb_weight': 4.8737734491816305}. Best is trial 10 with value: 0.1757046235575019.\n",
      "[I 2024-09-07 16:56:29,105] Trial 74 finished with value: 0.17543707919697923 and parameters: {'lgbm_weight': 4.788320644128552, 'cb_weight': 0.34062831530908, 'xgb_weight': 4.898620137480442}. Best is trial 10 with value: 0.1757046235575019.\n",
      "[I 2024-09-07 16:56:29,164] Trial 75 finished with value: 0.17542774867631647 and parameters: {'lgbm_weight': 4.812650539342653, 'cb_weight': 0.45131322964981235, 'xgb_weight': 4.883661347594728}. Best is trial 10 with value: 0.1757046235575019.\n",
      "[I 2024-09-07 16:56:29,211] Trial 76 finished with value: 0.17541981405031865 and parameters: {'lgbm_weight': 3.1446611751029643, 'cb_weight': 0.5028028302584491, 'xgb_weight': 3.904483919146}. Best is trial 10 with value: 0.1757046235575019.\n",
      "[I 2024-09-07 16:56:29,225] Trial 77 finished with value: 0.17545036623436733 and parameters: {'lgbm_weight': 3.6852133164267236, 'cb_weight': 0.49664079466963296, 'xgb_weight': 4.3145575856779566}. Best is trial 10 with value: 0.1757046235575019.\n",
      "[I 2024-09-07 16:56:29,333] Trial 78 finished with value: 0.17540967317406336 and parameters: {'lgbm_weight': 3.170865499623348, 'cb_weight': 0.572631513933631, 'xgb_weight': 4.264660969273776}. Best is trial 10 with value: 0.1757046235575019.\n",
      "[I 2024-09-07 16:56:29,393] Trial 79 finished with value: 0.17544612647422952 and parameters: {'lgbm_weight': 3.5607317016069393, 'cb_weight': 0.44019373550947816, 'xgb_weight': 3.982872536487955}. Best is trial 10 with value: 0.1757046235575019.\n",
      "[I 2024-09-07 16:56:29,445] Trial 80 finished with value: 0.17541717086851916 and parameters: {'lgbm_weight': 3.5153896960419266, 'cb_weight': 0.5545704247298027, 'xgb_weight': 4.300135831278562}. Best is trial 10 with value: 0.1757046235575019.\n",
      "[I 2024-09-07 16:56:29,474] Trial 81 finished with value: 0.17540839794363247 and parameters: {'lgbm_weight': 3.59226984008188, 'cb_weight': 0.5567415154622009, 'xgb_weight': 4.284658420705625}. Best is trial 10 with value: 0.1757046235575019.\n",
      "[I 2024-09-07 16:56:29,540] Trial 82 finished with value: 0.17496883465112006 and parameters: {'lgbm_weight': 3.8399575396484833, 'cb_weight': 1.1558971277629726, 'xgb_weight': 4.549830169488921}. Best is trial 10 with value: 0.1757046235575019.\n",
      "[I 2024-09-07 16:56:29,625] Trial 83 finished with value: 0.1750132670325282 and parameters: {'lgbm_weight': 3.5642135610606838, 'cb_weight': 1.067323985258823, 'xgb_weight': 4.548887512062002}. Best is trial 10 with value: 0.1757046235575019.\n",
      "[I 2024-09-07 16:56:29,667] Trial 84 finished with value: 0.17498596262159888 and parameters: {'lgbm_weight': 3.8384890227854487, 'cb_weight': 1.1275329121784505, 'xgb_weight': 4.50610579301874}. Best is trial 10 with value: 0.1757046235575019.\n",
      "[I 2024-09-07 16:56:29,711] Trial 85 finished with value: 0.17496814368961172 and parameters: {'lgbm_weight': 3.7563530419077145, 'cb_weight': 1.1528635693040201, 'xgb_weight': 4.590593982247692}. Best is trial 10 with value: 0.1757046235575019.\n",
      "[I 2024-09-07 16:56:29,754] Trial 86 finished with value: 0.17503967090722694 and parameters: {'lgbm_weight': 3.701439075203553, 'cb_weight': 1.051272980435031, 'xgb_weight': 4.554442464307576}. Best is trial 10 with value: 0.1757046235575019.\n",
      "[I 2024-09-07 16:56:29,850] Trial 87 finished with value: 0.17524602833991326 and parameters: {'lgbm_weight': 3.699598694114978, 'cb_weight': 0.6998065230777603, 'xgb_weight': 3.9490373081357903}. Best is trial 10 with value: 0.1757046235575019.\n",
      "[I 2024-09-07 16:56:29,902] Trial 88 finished with value: 0.17522038655511343 and parameters: {'lgbm_weight': 2.76907562118221, 'cb_weight': 0.7085809774232459, 'xgb_weight': 4.013406931759342}. Best is trial 10 with value: 0.1757046235575019.\n",
      "[I 2024-09-07 16:56:29,932] Trial 89 finished with value: 0.1753451927477137 and parameters: {'lgbm_weight': 4.002759921465125, 'cb_weight': 0.09558698098252591, 'xgb_weight': 4.82942588016248}. Best is trial 10 with value: 0.1757046235575019.\n",
      "[I 2024-09-07 16:56:29,983] Trial 90 finished with value: 0.1751697901365727 and parameters: {'lgbm_weight': 3.9506927175913815, 'cb_weight': 0.0989915232616298, 'xgb_weight': 3.7619361757555048}. Best is trial 10 with value: 0.1757046235575019.\n",
      "[I 2024-09-07 16:56:30,094] Trial 91 finished with value: 0.17444204127862473 and parameters: {'lgbm_weight': 3.99437573465297, 'cb_weight': 1.9205226918116587, 'xgb_weight': 3.699994420870106}. Best is trial 10 with value: 0.1757046235575019.\n",
      "[I 2024-09-07 16:56:30,148] Trial 92 finished with value: 0.17436347870109242 and parameters: {'lgbm_weight': 3.4229596485349827, 'cb_weight': 1.905021325389495, 'xgb_weight': 3.6609467934085638}. Best is trial 10 with value: 0.1757046235575019.\n",
      "[I 2024-09-07 16:56:30,153] Trial 93 finished with value: 0.17560698459964919 and parameters: {'lgbm_weight': 3.356535444771375, 'cb_weight': 0.4106094956197479, 'xgb_weight': 4.775105105285663}. Best is trial 10 with value: 0.1757046235575019.\n",
      "[I 2024-09-07 16:56:30,228] Trial 94 finished with value: 0.17563881709472806 and parameters: {'lgbm_weight': 3.4004403887962624, 'cb_weight': 0.3547782381873227, 'xgb_weight': 4.814311583906939}. Best is trial 10 with value: 0.1757046235575019.\n",
      "[I 2024-09-07 16:56:30,327] Trial 95 finished with value: 0.17563491265414582 and parameters: {'lgbm_weight': 3.418611236173463, 'cb_weight': 0.402722956559884, 'xgb_weight': 4.995749694368192}. Best is trial 10 with value: 0.1757046235575019.\n",
      "[I 2024-09-07 16:56:30,386] Trial 97 finished with value: 0.17567610488333357 and parameters: {'lgbm_weight': 3.001212042253448, 'cb_weight': 0.38416369499163894, 'xgb_weight': 4.8060267915429815}. Best is trial 10 with value: 0.1757046235575019.\n",
      "[I 2024-09-07 16:56:30,389] Trial 96 finished with value: 0.1756537184925521 and parameters: {'lgbm_weight': 2.965711218550571, 'cb_weight': 0.4163461795852407, 'xgb_weight': 4.811247992664115}. Best is trial 10 with value: 0.1757046235575019.\n",
      "[I 2024-09-07 16:56:30,467] Trial 98 finished with value: 0.17560588973049435 and parameters: {'lgbm_weight': 3.208285319398208, 'cb_weight': 0.4350049695713422, 'xgb_weight': 4.771490504025127}. Best is trial 10 with value: 0.1757046235575019.\n",
      "[I 2024-09-07 16:56:30,555] Trial 99 finished with value: 0.17551340123020864 and parameters: {'lgbm_weight': 2.950142204909841, 'cb_weight': 0.4948537466357507, 'xgb_weight': 4.368664973815918}. Best is trial 10 with value: 0.1757046235575019.\n",
      "[I 2024-09-07 16:56:30,618] Trial 100 finished with value: 0.17579334987398648 and parameters: {'lgbm_weight': 2.951782202550223, 'cb_weight': 0.19683232033591463, 'xgb_weight': 4.996195013164631}. Best is trial 100 with value: 0.17579334987398648.\n",
      "[I 2024-09-07 16:56:30,625] Trial 101 finished with value: 0.17510980350032712 and parameters: {'lgbm_weight': 3.013209822583597, 'cb_weight': 0.9369397364733467, 'xgb_weight': 4.77063878201939}. Best is trial 100 with value: 0.17579334987398648.\n",
      "[I 2024-09-07 16:56:30,696] Trial 102 finished with value: 0.17515190261649466 and parameters: {'lgbm_weight': 3.0587308432804075, 'cb_weight': 0.9006530384602649, 'xgb_weight': 4.785982731111087}. Best is trial 100 with value: 0.17579334987398648.\n",
      "[I 2024-09-07 16:56:30,790] Trial 103 finished with value: 0.17513814181321935 and parameters: {'lgbm_weight': 3.1896203644564523, 'cb_weight': 0.9231323250772082, 'xgb_weight': 4.76695541741732}. Best is trial 100 with value: 0.17579334987398648.\n",
      "[I 2024-09-07 16:56:30,850] Trial 104 finished with value: 0.17558407744743676 and parameters: {'lgbm_weight': 3.2243643188668036, 'cb_weight': 0.10878293944908574, 'xgb_weight': 4.7800850378943105}. Best is trial 100 with value: 0.17579334987398648.\n",
      "[I 2024-09-07 16:56:30,853] Trial 105 finished with value: 0.17572815435328165 and parameters: {'lgbm_weight': 3.218242032663436, 'cb_weight': 0.22293909122547068, 'xgb_weight': 4.984489727554886}. Best is trial 100 with value: 0.17579334987398648.\n",
      "[I 2024-09-07 16:56:30,927] Trial 106 finished with value: 0.17567752364069547 and parameters: {'lgbm_weight': 3.224673732198894, 'cb_weight': 0.24522373274685305, 'xgb_weight': 4.637522196091838}. Best is trial 100 with value: 0.17579334987398648.\n",
      "[I 2024-09-07 16:56:31,030] Trial 107 finished with value: 0.1759011665424396 and parameters: {'lgbm_weight': 2.476186597846232, 'cb_weight': 0.24560647838090038, 'xgb_weight': 4.971473571077187}. Best is trial 107 with value: 0.1759011665424396.\n",
      "[I 2024-09-07 16:56:31,087] Trial 109 finished with value: 0.17395790715837262 and parameters: {'lgbm_weight': 3.243256791708802, 'cb_weight': 2.659476212489914, 'xgb_weight': 2.8233232318204498}. Best is trial 107 with value: 0.1759011665424396.\n",
      "[I 2024-09-07 16:56:31,103] Trial 108 finished with value: 0.17547914147880161 and parameters: {'lgbm_weight': 3.2511055797797, 'cb_weight': 0.07616040838315569, 'xgb_weight': 4.643686507175499}. Best is trial 107 with value: 0.1759011665424396.\n",
      "[I 2024-09-07 16:56:31,149] Trial 110 finished with value: 0.17533093150540477 and parameters: {'lgbm_weight': 2.7962394960074928, 'cb_weight': 0.008587612780287718, 'xgb_weight': 4.650694780371657}. Best is trial 107 with value: 0.1759011665424396.\n",
      "[I 2024-09-07 16:56:31,276] Trial 111 finished with value: 0.1755433043676934 and parameters: {'lgbm_weight': 2.393857946476548, 'cb_weight': 0.017321412109114448, 'xgb_weight': 4.654711682287807}. Best is trial 107 with value: 0.1759011665424396.\n",
      "[I 2024-09-07 16:56:31,324] Trial 112 finished with value: 0.1759055942847525 and parameters: {'lgbm_weight': 2.4756797780197637, 'cb_weight': 0.2425886252818556, 'xgb_weight': 4.987154124886339}. Best is trial 112 with value: 0.1759055942847525.\n",
      "[I 2024-09-07 16:56:31,342] Trial 113 finished with value: 0.175914247815555 and parameters: {'lgbm_weight': 2.5202525003263796, 'cb_weight': 0.1984874487909071, 'xgb_weight': 4.999734035117791}. Best is trial 113 with value: 0.175914247815555.\n",
      "[I 2024-09-07 16:56:31,404] Trial 114 finished with value: 0.17593100998288225 and parameters: {'lgbm_weight': 2.4488447327514233, 'cb_weight': 0.20581315206814974, 'xgb_weight': 4.9986211938165805}. Best is trial 114 with value: 0.17593100998288225.\n",
      "[I 2024-09-07 16:56:31,497] Trial 115 finished with value: 0.17587847912614807 and parameters: {'lgbm_weight': 2.6030680527679104, 'cb_weight': 0.2174833152496041, 'xgb_weight': 4.9470943486242875}. Best is trial 114 with value: 0.17593100998288225.\n",
      "[I 2024-09-07 16:56:31,559] Trial 117 finished with value: 0.17589462527080701 and parameters: {'lgbm_weight': 2.5655264550637433, 'cb_weight': 0.2115764728548254, 'xgb_weight': 4.972027339403259}. Best is trial 114 with value: 0.17593100998288225.\n",
      "[I 2024-09-07 16:56:31,577] Trial 116 finished with value: 0.17591317326879746 and parameters: {'lgbm_weight': 2.5162241898503837, 'cb_weight': 0.1760708123207147, 'xgb_weight': 4.984974354073192}. Best is trial 114 with value: 0.17593100998288225.\n",
      "[I 2024-09-07 16:56:31,637] Trial 118 finished with value: 0.17588970217005984 and parameters: {'lgbm_weight': 2.5817581319891016, 'cb_weight': 0.22027709148016486, 'xgb_weight': 4.996716192324486}. Best is trial 114 with value: 0.17593100998288225.\n",
      "[I 2024-09-07 16:56:31,736] Trial 119 finished with value: 0.17579153737017683 and parameters: {'lgbm_weight': 2.6050631060749745, 'cb_weight': 0.2332141215178475, 'xgb_weight': 4.436576727916736}. Best is trial 114 with value: 0.17593100998288225.\n",
      "[I 2024-09-07 16:56:31,793] Trial 120 finished with value: 0.17590017074497166 and parameters: {'lgbm_weight': 2.525330451024067, 'cb_weight': 0.2166287121117081, 'xgb_weight': 4.958518541090179}. Best is trial 114 with value: 0.17593100998288225.\n",
      "[I 2024-09-07 16:56:31,799] Trial 121 finished with value: 0.1758769994015943 and parameters: {'lgbm_weight': 2.5808998561502747, 'cb_weight': 0.23858103266579733, 'xgb_weight': 4.953010276551242}. Best is trial 114 with value: 0.17593100998288225.\n",
      "[I 2024-09-07 16:56:31,870] Trial 122 finished with value: 0.17589375140772287 and parameters: {'lgbm_weight': 2.5749476155935827, 'cb_weight': 0.20510479502634632, 'xgb_weight': 4.9749698162703115}. Best is trial 114 with value: 0.17593100998288225.\n",
      "[I 2024-09-07 16:56:31,971] Trial 123 finished with value: 0.17580356822938148 and parameters: {'lgbm_weight': 2.600282688446308, 'cb_weight': 0.17912440389878848, 'xgb_weight': 4.455588701956667}. Best is trial 114 with value: 0.17593100998288225.\n",
      "[I 2024-09-07 16:56:32,031] Trial 124 finished with value: 0.17589824646797686 and parameters: {'lgbm_weight': 2.5688804854237914, 'cb_weight': 0.17622237550797126, 'xgb_weight': 4.991598723564531}. Best is trial 114 with value: 0.17593100998288225.\n",
      "[I 2024-09-07 16:56:32,034] Trial 125 finished with value: 0.17588876098903464 and parameters: {'lgbm_weight': 2.5762221605245292, 'cb_weight': 0.17177601201594894, 'xgb_weight': 4.949462153881011}. Best is trial 114 with value: 0.17593100998288225.\n",
      "[I 2024-09-07 16:56:32,104] Trial 126 finished with value: 0.1758909672392921 and parameters: {'lgbm_weight': 2.5455683798246826, 'cb_weight': 0.21809185211454174, 'xgb_weight': 4.934417865828158}. Best is trial 114 with value: 0.17593100998288225.\n",
      "[I 2024-09-07 16:56:32,208] Trial 127 finished with value: 0.17600072342653805 and parameters: {'lgbm_weight': 2.235386434190124, 'cb_weight': 0.15182928911525972, 'xgb_weight': 4.993797395890517}. Best is trial 127 with value: 0.17600072342653805.\n",
      "[I 2024-09-07 16:56:32,267] Trial 129 finished with value: 0.17593008277350525 and parameters: {'lgbm_weight': 2.2752903129758, 'cb_weight': 0.0942848052692668, 'xgb_weight': 4.97352738152444}. Best is trial 127 with value: 0.17600072342653805.\n",
      "[I 2024-09-07 16:56:32,270] Trial 128 finished with value: 0.1759484745430664 and parameters: {'lgbm_weight': 2.276048808319441, 'cb_weight': 0.105589048018097, 'xgb_weight': 4.988600587718299}. Best is trial 127 with value: 0.17600072342653805.\n",
      "[I 2024-09-07 16:56:32,340] Trial 130 finished with value: 0.17593033680347153 and parameters: {'lgbm_weight': 2.293195508964469, 'cb_weight': 0.10621584506553827, 'xgb_weight': 4.91155685034191}. Best is trial 127 with value: 0.17600072342653805.\n",
      "[I 2024-09-07 16:56:32,460] Trial 131 finished with value: 0.17597052561429238 and parameters: {'lgbm_weight': 2.2782489219653823, 'cb_weight': 0.12385485039549066, 'xgb_weight': 4.9958915547453815}. Best is trial 127 with value: 0.17600072342653805.\n",
      "[I 2024-09-07 16:56:32,510] Trial 133 finished with value: 0.1759242680275763 and parameters: {'lgbm_weight': 2.2632104727649076, 'cb_weight': 0.09681900456123387, 'xgb_weight': 4.870643977459052}. Best is trial 127 with value: 0.17600072342653805.\n",
      "[I 2024-09-07 16:56:32,527] Trial 132 finished with value: 0.17591635372397574 and parameters: {'lgbm_weight': 2.245435520543176, 'cb_weight': 0.08941443132377015, 'xgb_weight': 4.8560763304323435}. Best is trial 127 with value: 0.17600072342653805.\n",
      "[I 2024-09-07 16:56:32,583] Trial 134 finished with value: 0.17590833653823884 and parameters: {'lgbm_weight': 2.287137471883805, 'cb_weight': 0.09081455724797266, 'xgb_weight': 4.900185794669233}. Best is trial 127 with value: 0.17600072342653805.\n",
      "[I 2024-09-07 16:56:32,708] Trial 135 finished with value: 0.17553575205679486 and parameters: {'lgbm_weight': 2.2479457505334284, 'cb_weight': 0.0018445451707001792, 'xgb_weight': 4.8709163854775674}. Best is trial 127 with value: 0.17600072342653805.\n",
      "[I 2024-09-07 16:56:32,759] Trial 136 finished with value: 0.17590548251156732 and parameters: {'lgbm_weight': 2.2900717585840407, 'cb_weight': 0.09163671795937438, 'xgb_weight': 4.878869184257219}. Best is trial 127 with value: 0.17600072342653805.\n",
      "[I 2024-09-07 16:56:32,762] Trial 137 finished with value: 0.17549176930842714 and parameters: {'lgbm_weight': 2.3089189750302976, 'cb_weight': 0.00015312590144073157, 'xgb_weight': 4.854469966551397}. Best is trial 127 with value: 0.17600072342653805.\n",
      "[I 2024-09-07 16:56:32,820] Trial 138 finished with value: 0.17585825707067956 and parameters: {'lgbm_weight': 2.2707029050048577, 'cb_weight': 0.07658011156676602, 'xgb_weight': 4.723259107438232}. Best is trial 127 with value: 0.17600072342653805.\n",
      "[I 2024-09-07 16:56:32,971] Trial 139 finished with value: 0.17596642557063605 and parameters: {'lgbm_weight': 1.9756639706525714, 'cb_weight': 0.06786270191308269, 'xgb_weight': 4.716785795884462}. Best is trial 127 with value: 0.17600072342653805.\n",
      "[I 2024-09-07 16:56:33,015] Trial 140 finished with value: 0.17602101915069673 and parameters: {'lgbm_weight': 1.9334834582188996, 'cb_weight': 0.08438601202302815, 'xgb_weight': 4.732927299430776}. Best is trial 140 with value: 0.17602101915069673.\n",
      "[I 2024-09-07 16:56:33,040] Trial 141 finished with value: 0.17597882731359155 and parameters: {'lgbm_weight': 1.975401343087949, 'cb_weight': 0.0858438746594309, 'xgb_weight': 4.568696279521056}. Best is trial 140 with value: 0.17602101915069673.\n",
      "[I 2024-09-07 16:56:33,063] Trial 142 finished with value: 0.17603660642942984 and parameters: {'lgbm_weight': 1.8991688881813935, 'cb_weight': 0.09985628092496832, 'xgb_weight': 4.597761165415671}. Best is trial 142 with value: 0.17603660642942984.\n",
      "[I 2024-09-07 16:56:33,229] Trial 143 finished with value: 0.17597691700824486 and parameters: {'lgbm_weight': 2.0411600975659963, 'cb_weight': 0.10460873223213374, 'xgb_weight': 4.570343333147635}. Best is trial 142 with value: 0.17603660642942984.\n",
      "[I 2024-09-07 16:56:33,270] Trial 144 finished with value: 0.17601312643964334 and parameters: {'lgbm_weight': 1.9912051591106756, 'cb_weight': 0.09843647358780584, 'xgb_weight': 4.704532658281377}. Best is trial 142 with value: 0.17603660642942984.\n",
      "[I 2024-09-07 16:56:33,311] Trial 146 finished with value: 0.1760093401229954 and parameters: {'lgbm_weight': 1.9728415762263412, 'cb_weight': 0.10418341843108944, 'xgb_weight': 4.5942995883359306}. Best is trial 142 with value: 0.17603660642942984.\n",
      "[I 2024-09-07 16:56:33,315] Trial 145 finished with value: 0.1759968532800012 and parameters: {'lgbm_weight': 1.949246311730627, 'cb_weight': 0.08962774927712065, 'xgb_weight': 4.577524300446293}. Best is trial 142 with value: 0.17603660642942984.\n",
      "[I 2024-09-07 16:56:33,447] Trial 147 finished with value: 0.17368489988342434 and parameters: {'lgbm_weight': 1.9821839957010714, 'cb_weight': 3.293220149381476, 'xgb_weight': 4.571320537204105}. Best is trial 142 with value: 0.17603660642942984.\n",
      "[I 2024-09-07 16:56:33,503] Trial 148 finished with value: 0.17600601360058654 and parameters: {'lgbm_weight': 1.9703863973671987, 'cb_weight': 0.10847168360969771, 'xgb_weight': 4.534182377456734}. Best is trial 142 with value: 0.17603660642942984.\n",
      "[I 2024-09-07 16:56:33,556] Trial 150 finished with value: 0.17561805268528152 and parameters: {'lgbm_weight': 1.9700147392056064, 'cb_weight': 0.004610309115017641, 'xgb_weight': 4.537982003283575}. Best is trial 142 with value: 0.17603660642942984.\n",
      "[I 2024-09-07 16:56:33,565] Trial 149 finished with value: 0.17599920432733945 and parameters: {'lgbm_weight': 1.9299243467687313, 'cb_weight': 0.08947465529016457, 'xgb_weight': 4.538520133142774}. Best is trial 142 with value: 0.17603660642942984.\n",
      "[I 2024-09-07 16:56:33,653] Trial 151 finished with value: 0.175639119390388 and parameters: {'lgbm_weight': 1.9401919788176003, 'cb_weight': 0.005636046312162121, 'xgb_weight': 4.529269541384585}. Best is trial 142 with value: 0.17603660642942984.\n",
      "[I 2024-09-07 16:56:33,736] Trial 152 finished with value: 0.17556118299672263 and parameters: {'lgbm_weight': 1.888324598690005, 'cb_weight': 0.00181804033767137, 'xgb_weight': 4.191388935484216}. Best is trial 142 with value: 0.17603660642942984.\n",
      "[I 2024-09-07 16:56:33,800] Trial 154 finished with value: 0.17578653679028994 and parameters: {'lgbm_weight': 1.8217651413914973, 'cb_weight': 0.332068698381987, 'xgb_weight': 4.203150361586395}. Best is trial 142 with value: 0.17603660642942984.\n",
      "[I 2024-09-07 16:56:33,806] Trial 153 finished with value: 0.17575449472048882 and parameters: {'lgbm_weight': 1.8371875965614752, 'cb_weight': 0.35266186948189954, 'xgb_weight': 4.232348789546299}. Best is trial 142 with value: 0.17603660642942984.\n",
      "[I 2024-09-07 16:56:33,877] Trial 155 finished with value: 0.17587764717800836 and parameters: {'lgbm_weight': 1.656158282170202, 'cb_weight': 0.3055804422485552, 'xgb_weight': 4.328269754267507}. Best is trial 142 with value: 0.17603660642942984.\n",
      "[I 2024-09-07 16:56:33,976] Trial 156 finished with value: 0.17587191372166866 and parameters: {'lgbm_weight': 1.5404554923179767, 'cb_weight': 0.3167857690564898, 'xgb_weight': 4.357626207481074}. Best is trial 142 with value: 0.17603660642942984.\n",
      "[I 2024-09-07 16:56:34,035] Trial 157 finished with value: 0.17333963124425816 and parameters: {'lgbm_weight': 1.6137838350020706, 'cb_weight': 4.694055620223619, 'xgb_weight': 4.375271243402371}. Best is trial 142 with value: 0.17603660642942984.\n",
      "[I 2024-09-07 16:56:34,055] Trial 158 finished with value: 0.17613476487856367 and parameters: {'lgbm_weight': 1.6412311344604948, 'cb_weight': 0.11180097234981853, 'xgb_weight': 4.415926901843913}. Best is trial 158 with value: 0.17613476487856367.\n",
      "[I 2024-09-07 16:56:34,113] Trial 159 finished with value: 0.17594903340899232 and parameters: {'lgbm_weight': 2.067552876334134, 'cb_weight': 0.11426199171500054, 'xgb_weight': 4.391045383772892}. Best is trial 158 with value: 0.17613476487856367.\n",
      "[I 2024-09-07 16:56:34,219] Trial 160 finished with value: 0.17592897901330157 and parameters: {'lgbm_weight': 2.102654582045183, 'cb_weight': 0.08483096235526584, 'xgb_weight': 4.614707628736884}. Best is trial 158 with value: 0.17613476487856367.\n",
      "[I 2024-09-07 16:56:34,279] Trial 162 finished with value: 0.1759257414013809 and parameters: {'lgbm_weight': 2.10615135656092, 'cb_weight': 0.0993586557153977, 'xgb_weight': 4.46501475529592}. Best is trial 158 with value: 0.17613476487856367.\n",
      "[I 2024-09-07 16:56:34,298] Trial 161 finished with value: 0.1759827927213657 and parameters: {'lgbm_weight': 2.09854420234555, 'cb_weight': 0.12379362884460655, 'xgb_weight': 4.629950819034053}. Best is trial 158 with value: 0.17613476487856367.\n",
      "[I 2024-09-07 16:56:34,343] Trial 163 finished with value: 0.17538276504988148 and parameters: {'lgbm_weight': 2.075153280119952, 'cb_weight': 0.5967319992704878, 'xgb_weight': 4.444555722922581}. Best is trial 158 with value: 0.17613476487856367.\n",
      "[I 2024-09-07 16:56:34,480] Trial 164 finished with value: 0.17597585389283582 and parameters: {'lgbm_weight': 2.053353991765535, 'cb_weight': 0.12507063146186698, 'xgb_weight': 4.48019876852968}. Best is trial 158 with value: 0.17613476487856367.\n",
      "[I 2024-09-07 16:56:34,540] Trial 166 finished with value: 0.1753594501795731 and parameters: {'lgbm_weight': 1.4042365423490917, 'cb_weight': 0.5831711112409155, 'xgb_weight': 4.681113224330822}. Best is trial 158 with value: 0.17613476487856367.\n",
      "[I 2024-09-07 16:56:34,556] Trial 165 finished with value: 0.17632922608792742 and parameters: {'lgbm_weight': 1.2879872845701266, 'cb_weight': 0.12350759125267968, 'xgb_weight': 4.71403226233443}. Best is trial 165 with value: 0.17632922608792742.\n",
      "[I 2024-09-07 16:56:34,599] Trial 167 finished with value: 0.1759368602930065 and parameters: {'lgbm_weight': 1.7389820733875814, 'cb_weight': 0.30327358844423435, 'xgb_weight': 4.699803416311047}. Best is trial 165 with value: 0.17632922608792742.\n",
      "[I 2024-09-07 16:56:34,767] Trial 168 finished with value: 0.17590388212277952 and parameters: {'lgbm_weight': 1.7521090713534146, 'cb_weight': 0.319585952186344, 'xgb_weight': 4.688440438930849}. Best is trial 165 with value: 0.17632922608792742.\n",
      "[I 2024-09-07 16:56:34,812] Trial 169 finished with value: 0.17587846642464972 and parameters: {'lgbm_weight': 1.1728491118271407, 'cb_weight': 0.33055307280020024, 'xgb_weight': 4.51949639913608}. Best is trial 165 with value: 0.17632922608792742.\n",
      "[I 2024-09-07 16:56:34,852] Trial 170 finished with value: 0.17592792224864173 and parameters: {'lgbm_weight': 0.7910291037025559, 'cb_weight': 0.30888597863096745, 'xgb_weight': 4.584297642038367}. Best is trial 165 with value: 0.17632922608792742.\n",
      "[I 2024-09-07 16:56:34,856] Trial 171 finished with value: 0.1754898615433801 and parameters: {'lgbm_weight': 0.8594884379343997, 'cb_weight': 0.4604149086078986, 'xgb_weight': 4.570602186239712}. Best is trial 165 with value: 0.17632922608792742.\n",
      "[I 2024-09-07 16:56:35,030] Trial 172 finished with value: 0.17556263985857945 and parameters: {'lgbm_weight': 1.9895931240548321, 'cb_weight': 0.44308834183343304, 'xgb_weight': 4.075347618564339}. Best is trial 165 with value: 0.17632922608792742.\n",
      "[I 2024-09-07 16:56:35,049] Trial 173 finished with value: 0.17558696322785405 and parameters: {'lgbm_weight': 1.975839941160773, 'cb_weight': 0.46168772192999696, 'xgb_weight': 4.392662304388752}. Best is trial 165 with value: 0.17632922608792742.\n",
      "[I 2024-09-07 16:56:35,111] Trial 175 finished with value: 0.17597677348131388 and parameters: {'lgbm_weight': 2.023858272326703, 'cb_weight': 0.12664237979529344, 'xgb_weight': 4.405602702176483}. Best is trial 165 with value: 0.17632922608792742.\n",
      "[I 2024-09-07 16:56:35,114] Trial 174 finished with value: 0.17554478790269668 and parameters: {'lgbm_weight': 2.0310067167088577, 'cb_weight': 0.0025359240468316308, 'xgb_weight': 4.406448763083508}. Best is trial 165 with value: 0.17632922608792742.\n",
      "[I 2024-09-07 16:56:35,297] Trial 177 finished with value: 0.175683605118089 and parameters: {'lgbm_weight': 2.145749509124947, 'cb_weight': 0.12736422683314064, 'xgb_weight': 3.1787808112402614}. Best is trial 165 with value: 0.17632922608792742.\n",
      "[I 2024-09-07 16:56:35,300] Trial 176 finished with value: 0.1760366508846739 and parameters: {'lgbm_weight': 1.8936565550273718, 'cb_weight': 0.1313683608196754, 'xgb_weight': 4.436573001983428}. Best is trial 165 with value: 0.17632922608792742.\n",
      "[I 2024-09-07 16:56:35,376] Trial 179 finished with value: 0.17594056404991537 and parameters: {'lgbm_weight': 2.1586774573559757, 'cb_weight': 0.1282957707867733, 'xgb_weight': 4.488338364133569}. Best is trial 165 with value: 0.17632922608792742.\n",
      "[I 2024-09-07 16:56:35,380] Trial 178 finished with value: 0.1760456638678788 and parameters: {'lgbm_weight': 1.884154192961743, 'cb_weight': 0.1579209149832767, 'xgb_weight': 4.480029554491177}. Best is trial 165 with value: 0.17632922608792742.\n",
      "[I 2024-09-07 16:56:35,558] Trial 181 finished with value: 0.17601517900177116 and parameters: {'lgbm_weight': 1.8770237348729972, 'cb_weight': 0.13253869244911345, 'xgb_weight': 4.267428332840951}. Best is trial 165 with value: 0.17632922608792742.\n",
      "[I 2024-09-07 16:56:35,561] Trial 180 finished with value: 0.17605715237310535 and parameters: {'lgbm_weight': 1.873995400976402, 'cb_weight': 0.144628328208793, 'xgb_weight': 4.502081159541472}. Best is trial 165 with value: 0.17632922608792742.\n",
      "[I 2024-09-07 16:56:35,624] Trial 183 finished with value: 0.1760115184299566 and parameters: {'lgbm_weight': 1.863537379860948, 'cb_weight': 0.16303392680030449, 'xgb_weight': 4.252313810583857}. Best is trial 165 with value: 0.17632922608792742.\n",
      "[I 2024-09-07 16:56:35,626] Trial 182 finished with value: 0.17459846785128202 and parameters: {'lgbm_weight': 1.8604854655634362, 'cb_weight': 0.1500060163995111, 'xgb_weight': 0.14848726943319157}. Best is trial 165 with value: 0.17632922608792742.\n",
      "[I 2024-09-07 16:56:35,816] Trial 184 finished with value: 0.17587935171908234 and parameters: {'lgbm_weight': 1.8518949465650962, 'cb_weight': 0.27832531067536864, 'xgb_weight': 4.246756633867878}. Best is trial 165 with value: 0.17632922608792742.\n",
      "[I 2024-09-07 16:56:35,817] Trial 185 finished with value: 0.17591681605851445 and parameters: {'lgbm_weight': 1.809019797976935, 'cb_weight': 0.26246050627343864, 'xgb_weight': 4.278563768864931}. Best is trial 165 with value: 0.17632922608792742.\n",
      "[I 2024-09-07 16:56:35,895] Trial 186 finished with value: 0.17592546577886747 and parameters: {'lgbm_weight': 1.4297391740918104, 'cb_weight': 0.29194885437087026, 'xgb_weight': 4.29808311224174}. Best is trial 165 with value: 0.17632922608792742.\n",
      "[I 2024-09-07 16:56:35,901] Trial 187 finished with value: 0.17593289996583167 and parameters: {'lgbm_weight': 1.6640691978039122, 'cb_weight': 0.27021042157083464, 'xgb_weight': 4.280905415431114}. Best is trial 165 with value: 0.17632922608792742.\n",
      "[I 2024-09-07 16:56:36,080] Trial 188 finished with value: 0.17580141786571662 and parameters: {'lgbm_weight': 1.417164354398865, 'cb_weight': 0.001491828498163733, 'xgb_weight': 4.160228447064716}. Best is trial 165 with value: 0.17632922608792742.\n",
      "[I 2024-09-07 16:56:36,084] Trial 189 finished with value: 0.17574890479108005 and parameters: {'lgbm_weight': 1.6426437131781342, 'cb_weight': 0.009091402647329591, 'xgb_weight': 4.163087075892984}. Best is trial 165 with value: 0.17632922608792742.\n",
      "[I 2024-09-07 16:56:36,155] Trial 190 finished with value: 0.17595895454932675 and parameters: {'lgbm_weight': 1.923013578437092, 'cb_weight': 0.17849660684612684, 'xgb_weight': 4.138359226091543}. Best is trial 165 with value: 0.17632922608792742.\n",
      "[I 2024-09-07 16:56:36,166] Trial 191 finished with value: 0.17610939109537832 and parameters: {'lgbm_weight': 1.7196422273565537, 'cb_weight': 0.1689014249819296, 'xgb_weight': 4.571230102513211}. Best is trial 165 with value: 0.17632922608792742.\n",
      "[I 2024-09-07 16:56:36,328] Trial 193 finished with value: 0.17605419165384795 and parameters: {'lgbm_weight': 1.9039856561468482, 'cb_weight': 0.15854537453355555, 'xgb_weight': 4.576285151058722}. Best is trial 165 with value: 0.17632922608792742.\n",
      "[I 2024-09-07 16:56:36,333] Trial 192 finished with value: 0.17605759057479725 and parameters: {'lgbm_weight': 1.8868609000086694, 'cb_weight': 0.17548322052332502, 'xgb_weight': 4.624175738482679}. Best is trial 165 with value: 0.17632922608792742.\n",
      "[I 2024-09-07 16:56:36,405] Trial 195 finished with value: 0.17608700597474664 and parameters: {'lgbm_weight': 1.733819948209541, 'cb_weight': 0.18730230643716989, 'xgb_weight': 4.560444010861652}. Best is trial 165 with value: 0.17632922608792742.\n",
      "[I 2024-09-07 16:56:36,408] Trial 194 finished with value: 0.17611595014910858 and parameters: {'lgbm_weight': 1.7226870557955212, 'cb_weight': 0.1306851843180143, 'xgb_weight': 4.4849927165103995}. Best is trial 165 with value: 0.17632922608792742.\n",
      "[I 2024-09-07 16:56:36,586] Trial 197 finished with value: 0.17609471197377483 and parameters: {'lgbm_weight': 1.7571634887575758, 'cb_weight': 0.17469352059872126, 'xgb_weight': 4.580941377052118}. Best is trial 165 with value: 0.17632922608792742.\n",
      "[I 2024-09-07 16:56:36,589] Trial 196 finished with value: 0.17572064522747738 and parameters: {'lgbm_weight': 1.7581590624409191, 'cb_weight': 0.40913039386803496, 'xgb_weight': 4.6189994780436034}. Best is trial 165 with value: 0.17632922608792742.\n",
      "[I 2024-09-07 16:56:36,657] Trial 198 finished with value: 0.1760998560805927 and parameters: {'lgbm_weight': 1.5459377606502531, 'cb_weight': 0.2102080306986715, 'xgb_weight': 4.486403765752968}. Best is trial 165 with value: 0.17632922608792742.\n",
      "[I 2024-09-07 16:56:36,660] Trial 199 finished with value: 0.17570970669712788 and parameters: {'lgbm_weight': 1.7438874103287125, 'cb_weight': 0.40530067631286937, 'xgb_weight': 4.514938075359865}. Best is trial 165 with value: 0.17632922608792742.\n",
      "[I 2024-09-07 16:56:36,836] Trial 201 finished with value: 0.17607372909855723 and parameters: {'lgbm_weight': 1.5305117705769535, 'cb_weight': 0.22523320695459786, 'xgb_weight': 4.44952266183035}. Best is trial 165 with value: 0.17632922608792742.\n",
      "[I 2024-09-07 16:56:36,838] Trial 200 finished with value: 0.17606572461431863 and parameters: {'lgbm_weight': 1.5049451190804595, 'cb_weight': 0.23194972132632402, 'xgb_weight': 4.442870427689018}. Best is trial 165 with value: 0.17632922608792742.\n",
      "[I 2024-09-07 16:56:36,910] Trial 203 finished with value: 0.1760554376708327 and parameters: {'lgbm_weight': 1.5635998194427656, 'cb_weight': 0.23140865709106417, 'xgb_weight': 4.453741828601195}. Best is trial 165 with value: 0.17632922608792742.\n",
      "[I 2024-09-07 16:56:36,912] Trial 202 finished with value: 0.17610583975644922 and parameters: {'lgbm_weight': 1.239239050762518, 'cb_weight': 0.23724825339495403, 'xgb_weight': 4.452256430167386}. Best is trial 165 with value: 0.17632922608792742.\n",
      "[I 2024-09-07 16:56:37,091] Trial 205 finished with value: 0.17611439548571473 and parameters: {'lgbm_weight': 1.2402170066939913, 'cb_weight': 0.22619156172838448, 'xgb_weight': 4.353613601157913}. Best is trial 165 with value: 0.17632922608792742.\n",
      "[I 2024-09-07 16:56:37,105] Trial 204 finished with value: 0.17600880157946686 and parameters: {'lgbm_weight': 1.1910148712020154, 'cb_weight': 0.2758507498273054, 'xgb_weight': 4.41080374321982}. Best is trial 165 with value: 0.17632922608792742.\n",
      "[I 2024-09-07 16:56:37,169] Trial 206 finished with value: 0.17600765971476826 and parameters: {'lgbm_weight': 1.290416164716604, 'cb_weight': 0.2686573323466872, 'xgb_weight': 4.353235521959645}. Best is trial 165 with value: 0.17632922608792742.\n",
      "[I 2024-09-07 16:56:37,184] Trial 207 finished with value: 0.17603151439875503 and parameters: {'lgbm_weight': 1.2277088197511306, 'cb_weight': 0.26192000414861105, 'xgb_weight': 4.359416553063915}. Best is trial 165 with value: 0.17632922608792742.\n",
      "[I 2024-09-07 16:56:37,350] Trial 208 finished with value: 0.17603049192814063 and parameters: {'lgbm_weight': 1.2764622112408521, 'cb_weight': 0.2614386238910157, 'xgb_weight': 4.375510501034251}. Best is trial 165 with value: 0.17632922608792742.\n",
      "[I 2024-09-07 16:56:37,365] Trial 209 finished with value: 0.17569125269022495 and parameters: {'lgbm_weight': 1.2640559487093657, 'cb_weight': 0.3932051517636813, 'xgb_weight': 4.363687526434122}. Best is trial 165 with value: 0.17632922608792742.\n",
      "[I 2024-09-07 16:56:37,433] Trial 211 finished with value: 0.1757308673933219 and parameters: {'lgbm_weight': 1.071863964056228, 'cb_weight': 0.37733608062588, 'xgb_weight': 4.458617648863529}. Best is trial 165 with value: 0.17632922608792742.\n",
      "[I 2024-09-07 16:56:37,436] Trial 210 finished with value: 0.1757004117406604 and parameters: {'lgbm_weight': 1.54003145992547, 'cb_weight': 0.4035829473419816, 'xgb_weight': 4.460988292739537}. Best is trial 165 with value: 0.17632922608792742.\n",
      "[I 2024-09-07 16:56:37,612] Trial 212 finished with value: 0.17530663607942643 and parameters: {'lgbm_weight': 1.0341793091797085, 'cb_weight': 0.5470803202067444, 'xgb_weight': 4.451986167478423}. Best is trial 165 with value: 0.17632922608792742.\n",
      "[I 2024-09-07 16:56:37,631] Trial 213 finished with value: 0.17540047601913294 and parameters: {'lgbm_weight': 1.1030823213387313, 'cb_weight': 0.5122995501420469, 'xgb_weight': 4.459838615358922}. Best is trial 165 with value: 0.17632922608792742.\n",
      "[I 2024-09-07 16:56:37,699] Trial 215 finished with value: 0.17610758494231782 and parameters: {'lgbm_weight': 1.028562200977996, 'cb_weight': 0.23816466757808438, 'xgb_weight': 4.326614515264055}. Best is trial 165 with value: 0.17632922608792742.\n",
      "[I 2024-09-07 16:56:37,708] Trial 214 finished with value: 0.1761319540369864 and parameters: {'lgbm_weight': 0.9915431279818048, 'cb_weight': 0.2391322765546101, 'xgb_weight': 4.460660437211957}. Best is trial 165 with value: 0.17632922608792742.\n",
      "[I 2024-09-07 16:56:37,887] Trial 216 finished with value: 0.17604111419118207 and parameters: {'lgbm_weight': 1.353973487697588, 'cb_weight': 0.24907004587684872, 'xgb_weight': 4.333407284908176}. Best is trial 165 with value: 0.17632922608792742.\n",
      "[I 2024-09-07 16:56:37,890] Trial 217 finished with value: 0.1760453399796717 and parameters: {'lgbm_weight': 1.3614685254395047, 'cb_weight': 0.24427654811874502, 'xgb_weight': 4.306576151226165}. Best is trial 165 with value: 0.17632922608792742.\n",
      "[I 2024-09-07 16:56:37,973] Trial 218 finished with value: 0.17606039506562537 and parameters: {'lgbm_weight': 1.372917585020631, 'cb_weight': 0.23855343937889667, 'xgb_weight': 4.340471144252871}. Best is trial 165 with value: 0.17632922608792742.\n",
      "[I 2024-09-07 16:56:37,976] Trial 219 finished with value: 0.1760052870748829 and parameters: {'lgbm_weight': 1.2937965230088864, 'cb_weight': 0.26698471052859823, 'xgb_weight': 4.3222589140927905}. Best is trial 165 with value: 0.17632922608792742.\n",
      "[I 2024-09-07 16:56:38,158] Trial 220 finished with value: 0.17611907852814374 and parameters: {'lgbm_weight': 0.660655066494704, 'cb_weight': 0.22022502773816538, 'xgb_weight': 4.016964278063475}. Best is trial 165 with value: 0.17632922608792742.\n",
      "[I 2024-09-07 16:56:38,161] Trial 221 finished with value: 0.17603371810871282 and parameters: {'lgbm_weight': 1.4982317341667888, 'cb_weight': 0.20651896656510157, 'xgb_weight': 4.009973136420367}. Best is trial 165 with value: 0.17632922608792742.\n",
      "[I 2024-09-07 16:56:38,241] Trial 223 finished with value: 0.1757447336190332 and parameters: {'lgbm_weight': 1.5123202179250363, 'cb_weight': 0.34724554661406093, 'xgb_weight': 4.041510596300945}. Best is trial 165 with value: 0.17632922608792742.\n",
      "[I 2024-09-07 16:56:38,244] Trial 222 finished with value: 0.1756268306907675 and parameters: {'lgbm_weight': 0.7086965059014574, 'cb_weight': 0.36383738628807, 'xgb_weight': 4.122448988427572}. Best is trial 165 with value: 0.17632922608792742.\n",
      "[I 2024-09-07 16:56:38,418] Trial 225 finished with value: 0.17552950800022282 and parameters: {'lgbm_weight': 0.3747926648151889, 'cb_weight': 0.35535773798929626, 'xgb_weight': 4.207923506120721}. Best is trial 165 with value: 0.17632922608792742.\n",
      "[I 2024-09-07 16:56:38,434] Trial 224 finished with value: 0.17574034398121527 and parameters: {'lgbm_weight': 1.384218361329226, 'cb_weight': 0.3518444504209441, 'xgb_weight': 4.072287111111075}. Best is trial 165 with value: 0.17632922608792742.\n",
      "[I 2024-09-07 16:56:38,501] Trial 226 finished with value: 0.17613784245160558 and parameters: {'lgbm_weight': 1.372495788045114, 'cb_weight': 0.212037847684544, 'xgb_weight': 4.463582238608448}. Best is trial 165 with value: 0.17632922608792742.\n",
      "[I 2024-09-07 16:56:38,505] Trial 227 finished with value: 0.1762876159794451 and parameters: {'lgbm_weight': 0.5435949017200559, 'cb_weight': 0.19827881156864352, 'xgb_weight': 4.473025722446156}. Best is trial 165 with value: 0.17632922608792742.\n",
      "[I 2024-09-07 16:56:38,684] Trial 228 finished with value: 0.17607243989647817 and parameters: {'lgbm_weight': 1.4159689519171144, 'cb_weight': 0.24255097545383264, 'xgb_weight': 4.500551971637318}. Best is trial 165 with value: 0.17632922608792742.\n",
      "[I 2024-09-07 16:56:38,700] Trial 229 finished with value: 0.17608871178597046 and parameters: {'lgbm_weight': 1.6119051787386058, 'cb_weight': 0.20457735670418364, 'xgb_weight': 4.482985610121804}. Best is trial 165 with value: 0.17632922608792742.\n",
      "[I 2024-09-07 16:56:38,757] Trial 230 finished with value: 0.17584303051449862 and parameters: {'lgbm_weight': 1.5879675708248147, 'cb_weight': 0.2402396445606255, 'xgb_weight': 3.4874820260000923}. Best is trial 165 with value: 0.17632922608792742.\n",
      "[I 2024-09-07 16:56:38,774] Trial 231 finished with value: 0.1762324800454063 and parameters: {'lgbm_weight': 0.6604389785827757, 'cb_weight': 0.21477841960935912, 'xgb_weight': 4.499904315068959}. Best is trial 165 with value: 0.17632922608792742.\n",
      "[I 2024-09-07 16:56:38,955] Trial 232 finished with value: 0.17521098236576044 and parameters: {'lgbm_weight': 0.44933154095886535, 'cb_weight': 0.49466705026163726, 'xgb_weight': 4.525231194516764}. Best is trial 165 with value: 0.17632922608792742.\n",
      "[I 2024-09-07 16:56:38,971] Trial 233 finished with value: 0.17526880847714252 and parameters: {'lgbm_weight': 0.5405058338950555, 'cb_weight': 0.5015430444327748, 'xgb_weight': 4.641178642637904}. Best is trial 165 with value: 0.17632922608792742.\n",
      "[I 2024-09-07 16:56:39,035] Trial 234 finished with value: 0.1762381068091602 and parameters: {'lgbm_weight': 0.9873670581852354, 'cb_weight': 0.2034465071233307, 'xgb_weight': 4.492523420256635}. Best is trial 165 with value: 0.17632922608792742.\n",
      "[I 2024-09-07 16:56:39,039] Trial 235 finished with value: 0.17629442525269212 and parameters: {'lgbm_weight': 0.564358136491886, 'cb_weight': 0.2037408825549695, 'xgb_weight': 4.635276038530586}. Best is trial 165 with value: 0.17632922608792742.\n",
      "[I 2024-09-07 16:56:39,224] Trial 236 finished with value: 0.1760591338068426 and parameters: {'lgbm_weight': 0.9163247890219014, 'cb_weight': 0.2743633204121698, 'xgb_weight': 4.64449145533491}. Best is trial 165 with value: 0.17632922608792742.\n",
      "[I 2024-09-07 16:56:39,241] Trial 237 finished with value: 0.1763061144415921 and parameters: {'lgbm_weight': 0.5816446476060555, 'cb_weight': 0.19584164153364714, 'xgb_weight': 4.51397596279575}. Best is trial 165 with value: 0.17632922608792742.\n",
      "[I 2024-09-07 16:56:39,293] Trial 238 finished with value: 0.17365701882447146 and parameters: {'lgbm_weight': 0.6198259892100313, 'cb_weight': 2.1373735252928743, 'xgb_weight': 4.653329248712621}. Best is trial 165 with value: 0.17632922608792742.\n",
      "[I 2024-09-07 16:56:39,323] Trial 239 finished with value: 0.17627360622680283 and parameters: {'lgbm_weight': 0.5370170654186995, 'cb_weight': 0.20923404350994784, 'xgb_weight': 4.653744771932313}. Best is trial 165 with value: 0.17632922608792742.\n",
      "[I 2024-09-07 16:56:39,490] Trial 240 finished with value: 0.17593883410584477 and parameters: {'lgbm_weight': 0.9544604155898077, 'cb_weight': 0.31496226251015197, 'xgb_weight': 4.660404206497562}. Best is trial 165 with value: 0.17632922608792742.\n",
      "[I 2024-09-07 16:56:39,509] Trial 241 finished with value: 0.17325549905971438 and parameters: {'lgbm_weight': 0.6604166875922123, 'cb_weight': 3.846267625542517, 'xgb_weight': 4.65183330469227}. Best is trial 165 with value: 0.17632922608792742.\n",
      "[I 2024-09-07 16:56:39,573] Trial 243 finished with value: 0.17538761956253773 and parameters: {'lgbm_weight': 0.24667063029547281, 'cb_weight': 0.3859036680944029, 'xgb_weight': 4.403936004176663}. Best is trial 165 with value: 0.17632922608792742.\n",
      "[I 2024-09-07 16:56:39,576] Trial 242 finished with value: 0.17589551183538943 and parameters: {'lgbm_weight': 0.9636137362660104, 'cb_weight': 0.3203019992718412, 'xgb_weight': 4.520090716136147}. Best is trial 165 with value: 0.17632922608792742.\n",
      "[I 2024-09-07 16:56:39,754] Trial 244 finished with value: 0.17615897012390397 and parameters: {'lgbm_weight': 0.6310278954603373, 'cb_weight': 0.23378633664963813, 'xgb_weight': 4.509168492429458}. Best is trial 165 with value: 0.17632922608792742.\n",
      "[I 2024-09-07 16:56:39,758] Trial 245 finished with value: 0.17622488327926367 and parameters: {'lgbm_weight': 0.7777795996688271, 'cb_weight': 0.21751448155211606, 'xgb_weight': 4.517188454827892}. Best is trial 165 with value: 0.17632922608792742.\n",
      "[I 2024-09-07 16:56:39,833] Trial 246 finished with value: 0.17560899905728206 and parameters: {'lgbm_weight': 0.5618982809020151, 'cb_weight': 0.2242270801585288, 'xgb_weight': 2.368793826610283}. Best is trial 165 with value: 0.17632922608792742.\n",
      "[I 2024-09-07 16:56:39,838] Trial 247 finished with value: 0.1762658214784851 and parameters: {'lgbm_weight': 0.5154130734902893, 'cb_weight': 0.21402961494810596, 'xgb_weight': 4.740906967840935}. Best is trial 165 with value: 0.17632922608792742.\n",
      "[I 2024-09-07 16:56:39,948] Trial 248 finished with value: 0.1762789243441476 and parameters: {'lgbm_weight': 0.8180241176625856, 'cb_weight': 0.2000250670106843, 'xgb_weight': 4.520056371978059}. Best is trial 165 with value: 0.17632922608792742.\n",
      "[I 2024-09-07 16:56:39,953] Trial 249 finished with value: 0.17624872018115278 and parameters: {'lgbm_weight': 0.5281651850707599, 'cb_weight': 0.20937287597073026, 'xgb_weight': 4.518777249393726}. Best is trial 165 with value: 0.17632922608792742.\n"
     ]
    }
   ],
   "source": [
    "def objective(trial):\n",
    "    lgbm_weight = trial.suggest_float('lgbm_weight', 0.0, 5.0)\n",
    "    cb_weight = trial.suggest_float('cb_weight', 0.0, 5.0)\n",
    "    xgb_weight = trial.suggest_float('xgb_weight', 0.0, 5.0)\n",
    "\n",
    "    weights = [\n",
    "        lgbm_weight, \n",
    "        cb_weight, \n",
    "        xgb_weight, \n",
    "    ]\n",
    "    weights /= np.sum(weights)\n",
    "\n",
    "    pred_probs = np.zeros((X.shape[0], len(np.unique(y))))\n",
    "    for model, weight in zip(oof_pred_probs.keys(), weights):\n",
    "        pred_probs += oof_pred_probs[model] * weight\n",
    "\n",
    "    return p_roc_auc_score(y, pred_probs[:, 1])\n",
    "\n",
    "\n",
    "sampler = TPESampler(seed=CFG.seed)\n",
    "study = optuna.create_study(direction='maximize', sampler=sampler)\n",
    "study.optimize(objective, n_trials=250, n_jobs=-1)\n",
    "\n",
    "best_weights = study.best_params\n",
    "best_weights = [best_weights[f'{model}_weight'] for model in ['lgbm', 'cb', 'xgb']]\n",
    "best_weights /= np.sum(best_weights)"
   ]
  },
  {
   "cell_type": "code",
   "execution_count": 26,
   "id": "106558eb",
   "metadata": {
    "execution": {
     "iopub.execute_input": "2024-09-07T16:56:40.043149Z",
     "iopub.status.busy": "2024-09-07T16:56:40.042292Z",
     "iopub.status.idle": "2024-09-07T16:56:40.047960Z",
     "shell.execute_reply": "2024-09-07T16:56:40.046972Z"
    },
    "papermill": {
     "duration": 0.050058,
     "end_time": "2024-09-07T16:56:40.051180",
     "exception": false,
     "start_time": "2024-09-07T16:56:40.001122",
     "status": "completed"
    },
    "tags": []
   },
   "outputs": [
    {
     "name": "stdout",
     "output_type": "stream",
     "text": [
      "[0.21026554 0.02016277 0.76957169]\n"
     ]
    }
   ],
   "source": [
    "print(best_weights)"
   ]
  },
  {
   "cell_type": "code",
   "execution_count": 27,
   "id": "f55b6bea",
   "metadata": {
    "execution": {
     "iopub.execute_input": "2024-09-07T16:56:40.137021Z",
     "iopub.status.busy": "2024-09-07T16:56:40.136687Z",
     "iopub.status.idle": "2024-09-07T16:56:40.239211Z",
     "shell.execute_reply": "2024-09-07T16:56:40.237978Z"
    },
    "papermill": {
     "duration": 0.147577,
     "end_time": "2024-09-07T16:56:40.242148",
     "exception": false,
     "start_time": "2024-09-07T16:56:40.094571",
     "status": "completed"
    },
    "tags": []
   },
   "outputs": [],
   "source": [
    "ensemble_oof_pred_probs = np.zeros((X.shape[0], len(np.unique(y))))\n",
    "for model, weight in zip(oof_pred_probs.keys(), best_weights):\n",
    "    ensemble_oof_pred_probs += oof_pred_probs[model] * weight\n",
    "    \n",
    "ensemble_scores = p_roc_auc_score(y, ensemble_oof_pred_probs[:, 1])\n",
    "oof_pred_probs['Ensemble'] = ensemble_oof_pred_probs\n",
    "paucs['Ensemble'] = ensemble_scores"
   ]
  },
  {
   "cell_type": "markdown",
   "id": "fc45beb8",
   "metadata": {
    "papermill": {
     "duration": 0.039592,
     "end_time": "2024-09-07T16:56:40.323586",
     "exception": false,
     "start_time": "2024-09-07T16:56:40.283994",
     "status": "completed"
    },
    "tags": []
   },
   "source": [
    "# Visualizing the results"
   ]
  },
  {
   "cell_type": "code",
   "execution_count": 28,
   "id": "e41be971",
   "metadata": {
    "execution": {
     "iopub.execute_input": "2024-09-07T16:56:40.405509Z",
     "iopub.status.busy": "2024-09-07T16:56:40.404758Z",
     "iopub.status.idle": "2024-09-07T16:56:41.346129Z",
     "shell.execute_reply": "2024-09-07T16:56:41.345038Z"
    },
    "papermill": {
     "duration": 0.985205,
     "end_time": "2024-09-07T16:56:41.348621",
     "exception": false,
     "start_time": "2024-09-07T16:56:40.363416",
     "status": "completed"
    },
    "tags": []
   },
   "outputs": [
    {
     "data": {
      "image/png": "[encoded data removed]",
      "text/plain": [
       "<Figure size 1400x700 with 2 Axes>"
      ]
     },
     "metadata": {},
     "output_type": "display_data"
    }
   ],
   "source": [
    "fig, axes = plt.subplots(nrows=1, ncols=2, figsize=(14, 7))\n",
    "\n",
    "fpr, tpr, thresholds = roc_curve(y, ensemble_oof_pred_probs[:,1])\n",
    "axes[0].plot(fpr, tpr)\n",
    "axes[0].plot([0, 1], [0, 1], color='black', linestyle='--')\n",
    "axes[0].fill_between(fpr, tpr, 0.8, where=(tpr >= 0.8), alpha=0.4, label=f'pAUC: {np.mean(ensemble_scores):.6f}')\n",
    "axes[0].axhline(y=0.8, color='black', linestyle='--')\n",
    "axes[0].set_xlabel('False Positive Rate')\n",
    "axes[0].set_ylabel('True Positive Rate')\n",
    "axes[0].legend()\n",
    "axes[0].grid(True)\n",
    "axes[0].set_aspect('equal', adjustable='box')\n",
    "\n",
    "specificity = 1 - fpr\n",
    "threshold_index = np.where(specificity >= 0.80)[0][-1]\n",
    "optimal_threshold = thresholds[threshold_index]\n",
    "\n",
    "y_pred = (ensemble_oof_pred_probs[:,1] >= optimal_threshold).astype(int)\n",
    "cm = confusion_matrix(y, y_pred)\n",
    "sns.heatmap(\n",
    "    cm, \n",
    "    annot=True, \n",
    "    fmt=',', \n",
    "    ax=axes[1], \n",
    "    cbar=False,\n",
    "    cmap=sns.light_palette(sns.color_palette()[0], reverse=False, as_cmap=True), \n",
    ")\n",
    "axes[1].set_xlabel('Predicted')\n",
    "axes[1].set_ylabel('Actual')\n",
    "axes[1].set_aspect('equal', adjustable='box')\n",
    "\n",
    "plt.tight_layout()\n",
    "plt.show()"
   ]
  },
  {
   "cell_type": "code",
   "execution_count": 29,
   "id": "f69a7704",
   "metadata": {
    "execution": {
     "iopub.execute_input": "2024-09-07T16:56:41.433679Z",
     "iopub.status.busy": "2024-09-07T16:56:41.433047Z",
     "iopub.status.idle": "2024-09-07T16:56:42.008412Z",
     "shell.execute_reply": "2024-09-07T16:56:42.007200Z"
    },
    "papermill": {
     "duration": 0.620556,
     "end_time": "2024-09-07T16:56:42.010698",
     "exception": false,
     "start_time": "2024-09-07T16:56:41.390142",
     "status": "completed"
    },
    "tags": []
   },
   "outputs": [
    {
     "data": {
      "image/png": "[encoded data removed]",
      "text/plain": [
       "<Figure size 1500x500 with 2 Axes>"
      ]
     },
     "metadata": {},
     "output_type": "display_data"
    }
   ],
   "source": [
    "paucs = pd.DataFrame(paucs)\n",
    "mean_paucs = paucs.mean().sort_values(ascending=False)\n",
    "order = paucs.mean().sort_values(ascending=False).index.tolist()\n",
    "\n",
    "min_pauc = mean_paucs.min()\n",
    "max_pauc = mean_paucs.max()\n",
    "padding = (max_pauc - min_pauc) * 0.1\n",
    "lower_limit = min_pauc - padding\n",
    "upper_limit = max_pauc + padding\n",
    "\n",
    "fig, axs = plt.subplots(1, 2, figsize=(15, 5))\n",
    "\n",
    "sns.boxplot(data=paucs, order=order, ax=axs[0], orient='h', palette=\"RdYlGn_r\")\n",
    "axs[0].set_title('Fold pAUC')\n",
    "axs[0].set_xlabel('')\n",
    "axs[0].set_ylabel('')\n",
    "\n",
    "barplot = sns.barplot(x=mean_paucs.values, y=mean_paucs.index, ax=axs[1], palette=\"RdYlGn_r\")\n",
    "axs[1].set_title('Average pAUC')\n",
    "axs[1].set_xlabel('')\n",
    "axs[1].set_xlim(left=lower_limit, right=upper_limit)\n",
    "axs[1].set_ylabel('')\n",
    "\n",
    "for i, score in enumerate(mean_paucs.values):\n",
    "    barplot.text(score, i, round(score, 4), va='center')\n",
    "\n",
    "plt.tight_layout()\n",
    "plt.show()"
   ]
  },
  {
   "cell_type": "markdown",
   "id": "0cab2337",
   "metadata": {
    "papermill": {
     "duration": 0.04198,
     "end_time": "2024-09-07T16:56:42.094996",
     "exception": false,
     "start_time": "2024-09-07T16:56:42.053016",
     "status": "completed"
    },
    "tags": []
   },
   "source": [
    "# Submission"
   ]
  },
  {
   "cell_type": "code",
   "execution_count": 30,
   "id": "c0918a78",
   "metadata": {
    "execution": {
     "iopub.execute_input": "2024-09-07T16:56:42.181150Z",
     "iopub.status.busy": "2024-09-07T16:56:42.180246Z",
     "iopub.status.idle": "2024-09-07T16:56:42.225627Z",
     "shell.execute_reply": "2024-09-07T16:56:42.224549Z"
    },
    "papermill": {
     "duration": 0.091055,
     "end_time": "2024-09-07T16:56:42.228323",
     "exception": false,
     "start_time": "2024-09-07T16:56:42.137268",
     "status": "completed"
    },
    "tags": []
   },
   "outputs": [
    {
     "data": {
      "text/html": [
       "<div>\n",
       "<style scoped>\n",
       "    .dataframe tbody tr th:only-of-type {\n",
       "        vertical-align: middle;\n",
       "    }\n",
       "\n",
       "    .dataframe tbody tr th {\n",
       "        vertical-align: top;\n",
       "    }\n",
       "\n",
       "    .dataframe thead th {\n",
       "        text-align: right;\n",
       "    }\n",
       "</style>\n",
       "<table border=\"1\" class=\"dataframe\">\n",
       "  <thead>\n",
       "    <tr style=\"text-align: right;\">\n",
       "      <th></th>\n",
       "      <th>isic_id</th>\n",
       "      <th>target</th>\n",
       "    </tr>\n",
       "  </thead>\n",
       "  <tbody>\n",
       "    <tr>\n",
       "      <th>0</th>\n",
       "      <td>ISIC_0015657</td>\n",
       "      <td>0.016695</td>\n",
       "    </tr>\n",
       "    <tr>\n",
       "      <th>1</th>\n",
       "      <td>ISIC_0015729</td>\n",
       "      <td>0.005073</td>\n",
       "    </tr>\n",
       "    <tr>\n",
       "      <th>2</th>\n",
       "      <td>ISIC_0015740</td>\n",
       "      <td>0.011107</td>\n",
       "    </tr>\n",
       "  </tbody>\n",
       "</table>\n",
       "</div>"
      ],
      "text/plain": [
       "        isic_id    target\n",
       "0  ISIC_0015657  0.016695\n",
       "1  ISIC_0015729  0.005073\n",
       "2  ISIC_0015740  0.011107"
      ]
     },
     "execution_count": 30,
     "metadata": {},
     "output_type": "execute_result"
    }
   ],
   "source": [
    "ensemble_test_pred_probs = np.zeros((test.shape[0], len(np.unique(y))))\n",
    "for model, weight in zip(test_pred_probs.keys(), best_weights):\n",
    "    ensemble_test_pred_probs += test_pred_probs[model] * weight\n",
    "\n",
    "sub = pd.read_csv('/kaggle/input/isic-2024-challenge/sample_submission.csv')\n",
    "sub['isic_id'] = sub['isic_id']\n",
    "sub[CFG.target] = ensemble_test_pred_probs[:, 1]\n",
    "sub.to_csv('submission.csv', index=False)\n",
    "sub.head()"
   ]
  },
  {
   "cell_type": "code",
   "execution_count": 31,
   "id": "115abf74",
   "metadata": {
    "execution": {
     "iopub.execute_input": "2024-09-07T16:56:42.317008Z",
     "iopub.status.busy": "2024-09-07T16:56:42.316122Z",
     "iopub.status.idle": "2024-09-07T16:56:42.321487Z",
     "shell.execute_reply": "2024-09-07T16:56:42.320664Z"
    },
    "papermill": {
     "duration": 0.05046,
     "end_time": "2024-09-07T16:56:42.323536",
     "exception": false,
     "start_time": "2024-09-07T16:56:42.273076",
     "status": "completed"
    },
    "tags": []
   },
   "outputs": [],
   "source": [
    "shutil.rmtree('catboost_info')"
   ]
  }
 ],
 "metadata": {
  "kaggle": {
   "accelerator": "gpu",
   "dataSources": [
    {
     "databundleVersionId": 9094797,
     "sourceId": 63056,
     "sourceType": "competition"
    },
    {
     "sourceId": 194683254,
     "sourceType": "kernelVersion"
    },
    {
     "sourceId": 194683335,
     "sourceType": "kernelVersion"
    }
   ],
   "dockerImageVersionId": 30746,
   "isGpuEnabled": true,
   "isInternetEnabled": false,
   "language": "python",
   "sourceType": "notebook"
  },
  "kernelspec": {
   "display_name": "Python 3",
   "language": "python",
   "name": "python3"
  },
  "language_info": {
   "codemirror_mode": {
    "name": "ipython",
    "version": 3
   },
   "file_extension": ".py",
   "mimetype": "text/x-python",
   "name": "python",
   "nbconvert_exporter": "python",
   "pygments_lexer": "ipython3",
   "version": "3.10.13"
  },
  "papermill": {
   "default_parameters": {},
   "duration": 1817.455606,
   "end_time": "2024-09-07T16:56:45.137877",
   "environment_variables": {},
   "exception": null,
   "input_path": "__notebook__.ipynb",
   "output_path": "__notebook__.ipynb",
   "parameters": {},
   "start_time": "2024-09-07T16:26:27.682271",
   "version": "2.5.0"
  }
 },
 "nbformat": 4,
 "nbformat_minor": 5
}
