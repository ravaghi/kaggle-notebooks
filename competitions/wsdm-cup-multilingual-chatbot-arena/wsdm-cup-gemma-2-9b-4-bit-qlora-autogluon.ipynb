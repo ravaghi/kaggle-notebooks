{
 "cells": [
  {
   "cell_type": "markdown",
   "id": "670e39ed",
   "metadata": {
    "papermill": {
     "duration": 0.00573,
     "end_time": "2025-02-04T11:55:59.334929",
     "exception": false,
     "start_time": "2025-02-04T11:55:59.329199",
     "status": "completed"
    },
    "tags": []
   },
   "source": [
    "- Training notebook: https://www.kaggle.com/code/ravaghi/wsdm-cup-autogluon-training"
   ]
  },
  {
   "cell_type": "markdown",
   "id": "2f36426c",
   "metadata": {
    "papermill": {
     "duration": 0.004668,
     "end_time": "2025-02-04T11:55:59.344762",
     "exception": false,
     "start_time": "2025-02-04T11:55:59.340094",
     "status": "completed"
    },
    "tags": []
   },
   "source": [
    "# Imports and configs"
   ]
  },
  {
   "cell_type": "code",
   "execution_count": 1,
   "id": "d26f88d4",
   "metadata": {
    "execution": {
     "iopub.execute_input": "2025-02-04T11:55:59.355345Z",
     "iopub.status.busy": "2025-02-04T11:55:59.355056Z",
     "iopub.status.idle": "2025-02-04T11:56:13.564684Z",
     "shell.execute_reply": "2025-02-04T11:56:13.563988Z"
    },
    "papermill": {
     "duration": 14.216822,
     "end_time": "2025-02-04T11:56:13.566450",
     "exception": false,
     "start_time": "2025-02-04T11:55:59.349628",
     "status": "completed"
    },
    "tags": []
   },
   "outputs": [],
   "source": [
    "from transformers import Gemma2ForSequenceClassification, GemmaTokenizerFast\n",
    "from transformers.data.data_collator import pad_without_fast_tokenizer_warning\n",
    "from concurrent.futures import ThreadPoolExecutor\n",
    "from autogluon.tabular import TabularPredictor\n",
    "from timeit import default_timer as timer\n",
    "from nltk.tokenize import sent_tokenize\n",
    "from peft import PeftModel\n",
    "from tqdm import tqdm\n",
    "import pandas as pd\n",
    "import numpy as np\n",
    "import warnings\n",
    "import joblib\n",
    "import torch\n",
    "import gc\n",
    "\n",
    "warnings.filterwarnings(\"ignore\")"
   ]
  },
  {
   "cell_type": "code",
   "execution_count": 2,
   "id": "e0fda2e2",
   "metadata": {
    "execution": {
     "iopub.execute_input": "2025-02-04T11:56:13.578283Z",
     "iopub.status.busy": "2025-02-04T11:56:13.577813Z",
     "iopub.status.idle": "2025-02-04T11:56:13.582403Z",
     "shell.execute_reply": "2025-02-04T11:56:13.581766Z"
    },
    "papermill": {
     "duration": 0.011502,
     "end_time": "2025-02-04T11:56:13.583567",
     "exception": false,
     "start_time": "2025-02-04T11:56:13.572065",
     "status": "completed"
    },
    "tags": []
   },
   "outputs": [],
   "source": [
    "class CFG:\n",
    "    train_path = '/kaggle/input/wsdm-cup-multilingual-chatbot-arena/train.parquet'\n",
    "    test_path = '/kaggle/input/wsdm-cup-multilingual-chatbot-arena/test.parquet'\n",
    "    sample_sub_path = '/kaggle/input/wsdm-cup-multilingual-chatbot-arena/sample_submission.csv'\n",
    "    \n",
    "    gemma_dir = \"/kaggle/input/gemma-2-9b-4bit-it-unsloth/transformers/default/1/gemma-2-9b-it-4bit-unsloth_old\"\n",
    "    lora_dir = \"/kaggle/input/wsdm-cup-gemma-2-9b-4-bit-qlora/gemma2-9b-4bit/fold-0/gemma-2-9b-it-bnb-4bit-3072-8-f0/checkpoint-2700\"\n",
    "\n",
    "    data_path = '/kaggle/input/wsdm-cup-gemma-2-9b-4-bit-qlora'\n",
    "\n",
    "    target = 'winner'\n",
    "    n_folds = 5\n",
    "    seed = 42\n",
    "    \n",
    "    max_length = 3072\n",
    "    batch_size = 4\n",
    "\n",
    "    char_vectorizer_params = {\n",
    "        'analyzer': \"char\",\n",
    "        \"lowercase\": False,\n",
    "        \"max_df\": 0.605,\n",
    "        \"max_features\": 331,\n",
    "        \"min_df\": 0.075,\n",
    "        \"ngram_range\": (1, 3),\n",
    "        \"strip_accents\": \"unicode\"\n",
    "    }\n",
    "\n",
    "    word_vectorizer_params = {\n",
    "        \"analyzer\": \"word\",\n",
    "        \"lowercase\": True,\n",
    "        \"max_df\": 0.985,\n",
    "        \"max_features\": 769,\n",
    "        \"min_df\": 0.01,\n",
    "        \"ngram_range\": (1, 2),\n",
    "        \"strip_accents\": \"unicode\"\n",
    "    }"
   ]
  },
  {
   "cell_type": "markdown",
   "id": "b6d9e22e",
   "metadata": {
    "papermill": {
     "duration": 0.004953,
     "end_time": "2025-02-04T11:56:13.593628",
     "exception": false,
     "start_time": "2025-02-04T11:56:13.588675",
     "status": "completed"
    },
    "tags": []
   },
   "source": [
    "# Gemma-2 9b 4-bit"
   ]
  },
  {
   "cell_type": "markdown",
   "id": "332e7ce9",
   "metadata": {
    "papermill": {
     "duration": 0.004831,
     "end_time": "2025-02-04T11:56:13.603525",
     "exception": false,
     "start_time": "2025-02-04T11:56:13.598694",
     "status": "completed"
    },
    "tags": []
   },
   "source": [
    "## Loading data"
   ]
  },
  {
   "cell_type": "code",
   "execution_count": 3,
   "id": "ded4692c",
   "metadata": {
    "execution": {
     "iopub.execute_input": "2025-02-04T11:56:13.614247Z",
     "iopub.status.busy": "2025-02-04T11:56:13.614035Z",
     "iopub.status.idle": "2025-02-04T11:56:13.739379Z",
     "shell.execute_reply": "2025-02-04T11:56:13.738549Z"
    },
    "papermill": {
     "duration": 0.132312,
     "end_time": "2025-02-04T11:56:13.740900",
     "exception": false,
     "start_time": "2025-02-04T11:56:13.608588",
     "status": "completed"
    },
    "tags": []
   },
   "outputs": [],
   "source": [
    "test = pd.read_parquet(CFG.test_path).fillna('')"
   ]
  },
  {
   "cell_type": "code",
   "execution_count": 4,
   "id": "a83c5c09",
   "metadata": {
    "execution": {
     "iopub.execute_input": "2025-02-04T11:56:13.751999Z",
     "iopub.status.busy": "2025-02-04T11:56:13.751775Z",
     "iopub.status.idle": "2025-02-04T11:56:13.754958Z",
     "shell.execute_reply": "2025-02-04T11:56:13.754343Z"
    },
    "papermill": {
     "duration": 0.009897,
     "end_time": "2025-02-04T11:56:13.756061",
     "exception": false,
     "start_time": "2025-02-04T11:56:13.746164",
     "status": "completed"
    },
    "tags": []
   },
   "outputs": [],
   "source": [
    "if len(test) > 10_000:\n",
    "    time_limit = int(3600 * 12) \n",
    "else:\n",
    "    time_limit = int(3600 * 4.75)"
   ]
  },
  {
   "cell_type": "markdown",
   "id": "ff0f561b",
   "metadata": {
    "papermill": {
     "duration": 0.00508,
     "end_time": "2025-02-04T11:56:13.766282",
     "exception": false,
     "start_time": "2025-02-04T11:56:13.761202",
     "status": "completed"
    },
    "tags": []
   },
   "source": [
    "## Tokenizing"
   ]
  },
  {
   "cell_type": "code",
   "execution_count": 5,
   "id": "adec8812",
   "metadata": {
    "execution": {
     "iopub.execute_input": "2025-02-04T11:56:13.777071Z",
     "iopub.status.busy": "2025-02-04T11:56:13.776843Z",
     "iopub.status.idle": "2025-02-04T11:56:13.780982Z",
     "shell.execute_reply": "2025-02-04T11:56:13.780210Z"
    },
    "papermill": {
     "duration": 0.010756,
     "end_time": "2025-02-04T11:56:13.782061",
     "exception": false,
     "start_time": "2025-02-04T11:56:13.771305",
     "status": "completed"
    },
    "tags": []
   },
   "outputs": [],
   "source": [
    "def tokenize(tokenizer, prompt, response_a, response_b, max_length=CFG.max_length):\n",
    "    prompt = [\"<prompt>: \" + t for t in prompt]\n",
    "    response_a = [\"\\n\\n<response_a>: \" + t for t in response_a]\n",
    "    response_b = [\"\\n\\n<response_b>: \" + t for t in response_b]\n",
    "    \n",
    "    texts = [p + r_a + r_b for p, r_a, r_b in zip(prompt, response_a, response_b)]\n",
    "    tokenized = tokenizer(texts, max_length=max_length, truncation=True)\n",
    "    \n",
    "    return tokenized['input_ids'], tokenized['attention_mask']"
   ]
  },
  {
   "cell_type": "code",
   "execution_count": 6,
   "id": "ca7c3155",
   "metadata": {
    "execution": {
     "iopub.execute_input": "2025-02-04T11:56:13.793286Z",
     "iopub.status.busy": "2025-02-04T11:56:13.793057Z",
     "iopub.status.idle": "2025-02-04T11:56:14.826871Z",
     "shell.execute_reply": "2025-02-04T11:56:14.826161Z"
    },
    "papermill": {
     "duration": 1.040713,
     "end_time": "2025-02-04T11:56:14.828299",
     "exception": false,
     "start_time": "2025-02-04T11:56:13.787586",
     "status": "completed"
    },
    "tags": []
   },
   "outputs": [],
   "source": [
    "tokenizer = GemmaTokenizerFast.from_pretrained(CFG.gemma_dir)\n",
    "tokenizer.add_eos_token = True\n",
    "tokenizer.padding_side = \"right\""
   ]
  },
  {
   "cell_type": "code",
   "execution_count": 7,
   "id": "cbe73e53",
   "metadata": {
    "execution": {
     "iopub.execute_input": "2025-02-04T11:56:14.840167Z",
     "iopub.status.busy": "2025-02-04T11:56:14.839934Z",
     "iopub.status.idle": "2025-02-04T11:56:14.872213Z",
     "shell.execute_reply": "2025-02-04T11:56:14.871342Z"
    },
    "papermill": {
     "duration": 0.039453,
     "end_time": "2025-02-04T11:56:14.873382",
     "exception": false,
     "start_time": "2025-02-04T11:56:14.833929",
     "status": "completed"
    },
    "tags": []
   },
   "outputs": [
    {
     "name": "stderr",
     "output_type": "stream",
     "text": [
      "100%|██████████| 3/3 [00:00<00:00, 879.37it/s]\n",
      "100%|██████████| 3/3 [00:00<00:00, 735.33it/s]\n",
      "100%|██████████| 3/3 [00:00<00:00, 622.98it/s]\n"
     ]
    }
   ],
   "source": [
    "for col in ['prompt', 'response_a', 'response_b']:\n",
    "    test[col] = test[col].fillna('')\n",
    "    text_list = []\n",
    "    if col == \"prompt\":\n",
    "        max_no = 512\n",
    "        s_no = 255\n",
    "        e_no = -256\n",
    "    else:\n",
    "        max_no = 3072\n",
    "        s_no = 1535\n",
    "        e_no = -1536\n",
    "    for text in tqdm(test[col]):\n",
    "        encoded = tokenizer(text, return_offsets_mapping=True)\n",
    "        if len(encoded['input_ids']) > max_no:\n",
    "            start_idx, end_idx = encoded['offset_mapping'][s_no]\n",
    "            new_text = text[:end_idx]\n",
    "            start_idx, end_idx = encoded['offset_mapping'][e_no]\n",
    "            new_text = new_text + \"\\n(snip)\\n\" + text[start_idx:]\n",
    "            text = new_text\n",
    "        text_list.append(text)\n",
    "    test[col] = text_list"
   ]
  },
  {
   "cell_type": "code",
   "execution_count": 8,
   "id": "22137c65",
   "metadata": {
    "execution": {
     "iopub.execute_input": "2025-02-04T11:56:14.885634Z",
     "iopub.status.busy": "2025-02-04T11:56:14.885379Z",
     "iopub.status.idle": "2025-02-04T11:56:14.901085Z",
     "shell.execute_reply": "2025-02-04T11:56:14.900537Z"
    },
    "papermill": {
     "duration": 0.023092,
     "end_time": "2025-02-04T11:56:14.902253",
     "exception": false,
     "start_time": "2025-02-04T11:56:14.879161",
     "status": "completed"
    },
    "tags": []
   },
   "outputs": [],
   "source": [
    "data = pd.DataFrame()\n",
    "data[\"id\"] = test[\"id\"]\n",
    "data[\"input_ids\"], data[\"attention_mask\"] = tokenize(tokenizer, test[\"prompt\"], test[\"response_a\"], test[\"response_b\"])\n",
    "data[\"length\"] = data[\"input_ids\"].apply(len)\n",
    "\n",
    "aug_data = pd.DataFrame()\n",
    "aug_data[\"id\"] = test[\"id\"]\n",
    "# swap response_a & response_b\n",
    "aug_data['input_ids'], aug_data['attention_mask'] = tokenize(tokenizer, test[\"prompt\"], test[\"response_b\"], test[\"response_a\"])\n",
    "aug_data[\"length\"] = aug_data[\"input_ids\"].apply(len)"
   ]
  },
  {
   "cell_type": "markdown",
   "id": "d8e75aa1",
   "metadata": {
    "papermill": {
     "duration": 0.005521,
     "end_time": "2025-02-04T11:56:14.913467",
     "exception": false,
     "start_time": "2025-02-04T11:56:14.907946",
     "status": "completed"
    },
    "tags": []
   },
   "source": [
    "## Model"
   ]
  },
  {
   "cell_type": "code",
   "execution_count": 9,
   "id": "1d2daedc",
   "metadata": {
    "_kg_hide-output": true,
    "execution": {
     "iopub.execute_input": "2025-02-04T11:56:14.925730Z",
     "iopub.status.busy": "2025-02-04T11:56:14.925521Z",
     "iopub.status.idle": "2025-02-04T11:57:03.293873Z",
     "shell.execute_reply": "2025-02-04T11:57:03.292979Z"
    },
    "papermill": {
     "duration": 48.376343,
     "end_time": "2025-02-04T11:57:03.295712",
     "exception": false,
     "start_time": "2025-02-04T11:56:14.919369",
     "status": "completed"
    },
    "tags": []
   },
   "outputs": [
    {
     "name": "stderr",
     "output_type": "stream",
     "text": [
      "Unused kwargs: ['_load_in_4bit', '_load_in_8bit', 'quant_method']. These kwargs are not used in <class 'transformers.utils.quantization_config.BitsAndBytesConfig'>.\n",
      "Some weights of Gemma2ForSequenceClassification were not initialized from the model checkpoint at /kaggle/input/gemma-2-9b-4bit-it-unsloth/transformers/default/1/gemma-2-9b-it-4bit-unsloth_old and are newly initialized: ['score.weight']\n",
      "You should probably TRAIN this model on a down-stream task to be able to use it for predictions and inference.\n",
      "Unused kwargs: ['_load_in_4bit', '_load_in_8bit', 'quant_method']. These kwargs are not used in <class 'transformers.utils.quantization_config.BitsAndBytesConfig'>.\n",
      "Some weights of Gemma2ForSequenceClassification were not initialized from the model checkpoint at /kaggle/input/gemma-2-9b-4bit-it-unsloth/transformers/default/1/gemma-2-9b-it-4bit-unsloth_old and are newly initialized: ['score.weight']\n",
      "You should probably TRAIN this model on a down-stream task to be able to use it for predictions and inference.\n"
     ]
    }
   ],
   "source": [
    "model_0 = Gemma2ForSequenceClassification.from_pretrained(\n",
    "    CFG.gemma_dir,\n",
    "    device_map=torch.device(\"cuda:0\"),\n",
    "    use_cache=False,\n",
    ")\n",
    "\n",
    "model_1 = Gemma2ForSequenceClassification.from_pretrained(\n",
    "    CFG.gemma_dir,\n",
    "    device_map=torch.device(\"cuda:1\"),\n",
    "    use_cache=False,\n",
    ")"
   ]
  },
  {
   "cell_type": "code",
   "execution_count": 10,
   "id": "ac020e07",
   "metadata": {
    "execution": {
     "iopub.execute_input": "2025-02-04T11:57:03.309658Z",
     "iopub.status.busy": "2025-02-04T11:57:03.309362Z",
     "iopub.status.idle": "2025-02-04T11:57:04.562255Z",
     "shell.execute_reply": "2025-02-04T11:57:04.561340Z"
    },
    "papermill": {
     "duration": 1.261677,
     "end_time": "2025-02-04T11:57:04.564002",
     "exception": false,
     "start_time": "2025-02-04T11:57:03.302325",
     "status": "completed"
    },
    "tags": []
   },
   "outputs": [],
   "source": [
    "model_0 = PeftModel.from_pretrained(model_0, CFG.lora_dir)\n",
    "model_1 = PeftModel.from_pretrained(model_1, CFG.lora_dir)"
   ]
  },
  {
   "cell_type": "code",
   "execution_count": 11,
   "id": "4c3d4ef1",
   "metadata": {
    "_kg_hide-output": true,
    "execution": {
     "iopub.execute_input": "2025-02-04T11:57:04.577097Z",
     "iopub.status.busy": "2025-02-04T11:57:04.576863Z",
     "iopub.status.idle": "2025-02-04T11:57:04.596190Z",
     "shell.execute_reply": "2025-02-04T11:57:04.595490Z"
    },
    "papermill": {
     "duration": 0.027046,
     "end_time": "2025-02-04T11:57:04.597392",
     "exception": false,
     "start_time": "2025-02-04T11:57:04.570346",
     "status": "completed"
    },
    "scrolled": true,
    "tags": []
   },
   "outputs": [
    {
     "data": {
      "text/plain": [
       "PeftModelForSequenceClassification(\n",
       "  (base_model): LoraModel(\n",
       "    (model): Gemma2ForSequenceClassification(\n",
       "      (model): Gemma2Model(\n",
       "        (embed_tokens): Embedding(256000, 3584, padding_idx=0)\n",
       "        (layers): ModuleList(\n",
       "          (0-15): 16 x Gemma2DecoderLayer(\n",
       "            (self_attn): Gemma2SdpaAttention(\n",
       "              (q_proj): Linear4bit(in_features=3584, out_features=4096, bias=False)\n",
       "              (k_proj): Linear4bit(in_features=3584, out_features=2048, bias=False)\n",
       "              (v_proj): Linear4bit(in_features=3584, out_features=2048, bias=False)\n",
       "              (o_proj): Linear4bit(in_features=4096, out_features=3584, bias=False)\n",
       "              (rotary_emb): Gemma2RotaryEmbedding()\n",
       "            )\n",
       "            (mlp): Gemma2MLP(\n",
       "              (gate_proj): Linear4bit(in_features=3584, out_features=14336, bias=False)\n",
       "              (up_proj): Linear4bit(in_features=3584, out_features=14336, bias=False)\n",
       "              (down_proj): Linear4bit(in_features=14336, out_features=3584, bias=False)\n",
       "              (act_fn): PytorchGELUTanh()\n",
       "            )\n",
       "            (input_layernorm): Gemma2RMSNorm((3584,), eps=1e-06)\n",
       "            (post_attention_layernorm): Gemma2RMSNorm((3584,), eps=1e-06)\n",
       "            (pre_feedforward_layernorm): Gemma2RMSNorm((3584,), eps=1e-06)\n",
       "            (post_feedforward_layernorm): Gemma2RMSNorm((3584,), eps=1e-06)\n",
       "          )\n",
       "          (16-41): 26 x Gemma2DecoderLayer(\n",
       "            (self_attn): Gemma2SdpaAttention(\n",
       "              (q_proj): lora.Linear4bit(\n",
       "                (base_layer): Linear4bit(in_features=3584, out_features=4096, bias=False)\n",
       "                (lora_dropout): ModuleDict(\n",
       "                  (default): Dropout(p=0.05, inplace=False)\n",
       "                )\n",
       "                (lora_A): ModuleDict(\n",
       "                  (default): Linear(in_features=3584, out_features=16, bias=False)\n",
       "                )\n",
       "                (lora_B): ModuleDict(\n",
       "                  (default): Linear(in_features=16, out_features=4096, bias=False)\n",
       "                )\n",
       "                (lora_embedding_A): ParameterDict()\n",
       "                (lora_embedding_B): ParameterDict()\n",
       "                (lora_magnitude_vector): ModuleDict()\n",
       "              )\n",
       "              (k_proj): lora.Linear4bit(\n",
       "                (base_layer): Linear4bit(in_features=3584, out_features=2048, bias=False)\n",
       "                (lora_dropout): ModuleDict(\n",
       "                  (default): Dropout(p=0.05, inplace=False)\n",
       "                )\n",
       "                (lora_A): ModuleDict(\n",
       "                  (default): Linear(in_features=3584, out_features=16, bias=False)\n",
       "                )\n",
       "                (lora_B): ModuleDict(\n",
       "                  (default): Linear(in_features=16, out_features=2048, bias=False)\n",
       "                )\n",
       "                (lora_embedding_A): ParameterDict()\n",
       "                (lora_embedding_B): ParameterDict()\n",
       "                (lora_magnitude_vector): ModuleDict()\n",
       "              )\n",
       "              (v_proj): lora.Linear4bit(\n",
       "                (base_layer): Linear4bit(in_features=3584, out_features=2048, bias=False)\n",
       "                (lora_dropout): ModuleDict(\n",
       "                  (default): Dropout(p=0.05, inplace=False)\n",
       "                )\n",
       "                (lora_A): ModuleDict(\n",
       "                  (default): Linear(in_features=3584, out_features=16, bias=False)\n",
       "                )\n",
       "                (lora_B): ModuleDict(\n",
       "                  (default): Linear(in_features=16, out_features=2048, bias=False)\n",
       "                )\n",
       "                (lora_embedding_A): ParameterDict()\n",
       "                (lora_embedding_B): ParameterDict()\n",
       "                (lora_magnitude_vector): ModuleDict()\n",
       "              )\n",
       "              (o_proj): Linear4bit(in_features=4096, out_features=3584, bias=False)\n",
       "              (rotary_emb): Gemma2RotaryEmbedding()\n",
       "            )\n",
       "            (mlp): Gemma2MLP(\n",
       "              (gate_proj): Linear4bit(in_features=3584, out_features=14336, bias=False)\n",
       "              (up_proj): Linear4bit(in_features=3584, out_features=14336, bias=False)\n",
       "              (down_proj): Linear4bit(in_features=14336, out_features=3584, bias=False)\n",
       "              (act_fn): PytorchGELUTanh()\n",
       "            )\n",
       "            (input_layernorm): Gemma2RMSNorm((3584,), eps=1e-06)\n",
       "            (post_attention_layernorm): Gemma2RMSNorm((3584,), eps=1e-06)\n",
       "            (pre_feedforward_layernorm): Gemma2RMSNorm((3584,), eps=1e-06)\n",
       "            (post_feedforward_layernorm): Gemma2RMSNorm((3584,), eps=1e-06)\n",
       "          )\n",
       "        )\n",
       "        (norm): Gemma2RMSNorm((3584,), eps=1e-06)\n",
       "      )\n",
       "      (score): ModulesToSaveWrapper(\n",
       "        (original_module): Linear(in_features=3584, out_features=2, bias=False)\n",
       "        (modules_to_save): ModuleDict(\n",
       "          (default): Linear(in_features=3584, out_features=2, bias=False)\n",
       "        )\n",
       "      )\n",
       "    )\n",
       "  )\n",
       ")"
      ]
     },
     "execution_count": 11,
     "metadata": {},
     "output_type": "execute_result"
    }
   ],
   "source": [
    "model_0.eval()\n",
    "model_1.eval()"
   ]
  },
  {
   "cell_type": "markdown",
   "id": "56e09053",
   "metadata": {
    "papermill": {
     "duration": 0.006203,
     "end_time": "2025-02-04T11:57:04.609830",
     "exception": false,
     "start_time": "2025-02-04T11:57:04.603627",
     "status": "completed"
    },
    "tags": []
   },
   "source": [
    "## Inference"
   ]
  },
  {
   "cell_type": "code",
   "execution_count": 12,
   "id": "4c2d05f9",
   "metadata": {
    "_kg_hide-output": true,
    "execution": {
     "iopub.execute_input": "2025-02-04T11:57:04.622787Z",
     "iopub.status.busy": "2025-02-04T11:57:04.622570Z",
     "iopub.status.idle": "2025-02-04T11:57:04.627385Z",
     "shell.execute_reply": "2025-02-04T11:57:04.626793Z"
    },
    "papermill": {
     "duration": 0.012789,
     "end_time": "2025-02-04T11:57:04.628671",
     "exception": false,
     "start_time": "2025-02-04T11:57:04.615882",
     "status": "completed"
    },
    "tags": []
   },
   "outputs": [],
   "source": [
    "@torch.no_grad()\n",
    "@torch.cuda.amp.autocast()\n",
    "def inference(df, model, device, batch_size, max_length=CFG.max_length):\n",
    "    winners = []\n",
    "    \n",
    "    for start_idx in range(0, len(df), batch_size):\n",
    "        end_idx = min(start_idx + batch_size, len(df))\n",
    "        tmp = df.iloc[start_idx:end_idx]\n",
    "        input_ids = tmp[\"input_ids\"].to_list()\n",
    "        attention_mask = tmp[\"attention_mask\"].to_list()\n",
    "        inputs = pad_without_fast_tokenizer_warning(\n",
    "            tokenizer,\n",
    "            {\"input_ids\": input_ids, \"attention_mask\": attention_mask},\n",
    "            padding=\"longest\",\n",
    "            pad_to_multiple_of=None,\n",
    "            return_tensors=\"pt\",\n",
    "        )\n",
    "        outputs = model(**inputs.to(device))\n",
    "        proba = outputs.logits.softmax(-1).cpu()\n",
    "        \n",
    "        winners.extend(proba[:, 1].tolist())\n",
    "    \n",
    "    df['winner'] = winners\n",
    "    \n",
    "    return df"
   ]
  },
  {
   "cell_type": "code",
   "execution_count": 13,
   "id": "a842bb7e",
   "metadata": {
    "execution": {
     "iopub.execute_input": "2025-02-04T11:57:04.641639Z",
     "iopub.status.busy": "2025-02-04T11:57:04.641386Z",
     "iopub.status.idle": "2025-02-04T11:57:04.644241Z",
     "shell.execute_reply": "2025-02-04T11:57:04.643660Z"
    },
    "papermill": {
     "duration": 0.010617,
     "end_time": "2025-02-04T11:57:04.645385",
     "exception": false,
     "start_time": "2025-02-04T11:57:04.634768",
     "status": "completed"
    },
    "tags": []
   },
   "outputs": [],
   "source": [
    "global_timer = timer()"
   ]
  },
  {
   "cell_type": "code",
   "execution_count": 14,
   "id": "e2ea8217",
   "metadata": {
    "execution": {
     "iopub.execute_input": "2025-02-04T11:57:04.658364Z",
     "iopub.status.busy": "2025-02-04T11:57:04.658154Z",
     "iopub.status.idle": "2025-02-04T11:57:04.668987Z",
     "shell.execute_reply": "2025-02-04T11:57:04.668443Z"
    },
    "papermill": {
     "duration": 0.018696,
     "end_time": "2025-02-04T11:57:04.670199",
     "exception": false,
     "start_time": "2025-02-04T11:57:04.651503",
     "status": "completed"
    },
    "tags": []
   },
   "outputs": [],
   "source": [
    "data['index'] = np.arange(len(data), dtype=np.int32)\n",
    "data = data.sort_values(\"length\", ascending=False)"
   ]
  },
  {
   "cell_type": "code",
   "execution_count": 15,
   "id": "202bc739",
   "metadata": {
    "execution": {
     "iopub.execute_input": "2025-02-04T11:57:04.683216Z",
     "iopub.status.busy": "2025-02-04T11:57:04.683015Z",
     "iopub.status.idle": "2025-02-04T11:57:04.688006Z",
     "shell.execute_reply": "2025-02-04T11:57:04.687357Z"
    },
    "papermill": {
     "duration": 0.012706,
     "end_time": "2025-02-04T11:57:04.689033",
     "exception": false,
     "start_time": "2025-02-04T11:57:04.676327",
     "status": "completed"
    },
    "tags": []
   },
   "outputs": [],
   "source": [
    "data_dict = {}\n",
    "data_dict[0] = data[data[\"length\"] > 1024].reset_index(drop=True)\n",
    "data_dict[1] = data[data[\"length\"] <= 1024].reset_index(drop=True)"
   ]
  },
  {
   "cell_type": "code",
   "execution_count": 16,
   "id": "a7ba4542",
   "metadata": {
    "execution": {
     "iopub.execute_input": "2025-02-04T11:57:04.702045Z",
     "iopub.status.busy": "2025-02-04T11:57:04.701845Z",
     "iopub.status.idle": "2025-02-04T11:57:07.969521Z",
     "shell.execute_reply": "2025-02-04T11:57:07.968519Z"
    },
    "papermill": {
     "duration": 3.276181,
     "end_time": "2025-02-04T11:57:07.971325",
     "exception": false,
     "start_time": "2025-02-04T11:57:04.695144",
     "status": "completed"
    },
    "tags": []
   },
   "outputs": [],
   "source": [
    "result_df = []\n",
    "for i, batch_size in enumerate([CFG.batch_size, CFG.batch_size]):\n",
    "    if len(data_dict[i]) == 0:\n",
    "        continue\n",
    "        \n",
    "    sub_1 = data_dict[i].iloc[0::2].copy()\n",
    "    sub_2 = data_dict[i].iloc[1::2].copy()\n",
    "    \n",
    "    with ThreadPoolExecutor(max_workers=2) as executor:\n",
    "        results = executor.map(\n",
    "            inference, \n",
    "            (sub_1, sub_2), \n",
    "            (model_0, model_1), \n",
    "            (torch.device(\"cuda:0\"), torch.device(\"cuda:1\")), \n",
    "            (batch_size, batch_size)\n",
    "        )\n",
    "        \n",
    "    result_df.append(pd.concat(list(results), axis=0))"
   ]
  },
  {
   "cell_type": "code",
   "execution_count": 17,
   "id": "f66d987a",
   "metadata": {
    "execution": {
     "iopub.execute_input": "2025-02-04T11:57:07.992644Z",
     "iopub.status.busy": "2025-02-04T11:57:07.992355Z",
     "iopub.status.idle": "2025-02-04T11:57:07.997943Z",
     "shell.execute_reply": "2025-02-04T11:57:07.997054Z"
    },
    "papermill": {
     "duration": 0.015542,
     "end_time": "2025-02-04T11:57:07.999495",
     "exception": false,
     "start_time": "2025-02-04T11:57:07.983953",
     "status": "completed"
    },
    "tags": []
   },
   "outputs": [],
   "source": [
    "result_df = pd.concat(result_df).sort_values('index').reset_index(drop=True)"
   ]
  },
  {
   "cell_type": "code",
   "execution_count": 18,
   "id": "8db6974b",
   "metadata": {
    "execution": {
     "iopub.execute_input": "2025-02-04T11:57:08.019358Z",
     "iopub.status.busy": "2025-02-04T11:57:08.019125Z",
     "iopub.status.idle": "2025-02-04T11:57:08.023648Z",
     "shell.execute_reply": "2025-02-04T11:57:08.022901Z"
    },
    "papermill": {
     "duration": 0.013301,
     "end_time": "2025-02-04T11:57:08.024940",
     "exception": false,
     "start_time": "2025-02-04T11:57:08.011639",
     "status": "completed"
    },
    "tags": []
   },
   "outputs": [],
   "source": [
    "aug_data['index'] = np.arange(len(aug_data), dtype=np.int32)\n",
    "aug_data = aug_data.sort_values(\"length\", ascending=False)"
   ]
  },
  {
   "cell_type": "code",
   "execution_count": 19,
   "id": "a4cdd81a",
   "metadata": {
    "execution": {
     "iopub.execute_input": "2025-02-04T11:57:08.038558Z",
     "iopub.status.busy": "2025-02-04T11:57:08.038318Z",
     "iopub.status.idle": "2025-02-04T11:57:08.047129Z",
     "shell.execute_reply": "2025-02-04T11:57:08.046378Z"
    },
    "papermill": {
     "duration": 0.017096,
     "end_time": "2025-02-04T11:57:08.048395",
     "exception": false,
     "start_time": "2025-02-04T11:57:08.031299",
     "status": "completed"
    },
    "tags": []
   },
   "outputs": [],
   "source": [
    "CONFIDENCE_THRESHOLD = 0.2\n",
    "not_confident_mask = abs(result_df['winner'] - 0.5) < CONFIDENCE_THRESHOLD\n",
    "\n",
    "aug_data = aug_data[aug_data['index'].isin(result_df[not_confident_mask]['index'])]"
   ]
  },
  {
   "cell_type": "code",
   "execution_count": 20,
   "id": "3390beab",
   "metadata": {
    "execution": {
     "iopub.execute_input": "2025-02-04T11:57:08.061983Z",
     "iopub.status.busy": "2025-02-04T11:57:08.061763Z",
     "iopub.status.idle": "2025-02-04T11:57:08.067113Z",
     "shell.execute_reply": "2025-02-04T11:57:08.066399Z"
    },
    "papermill": {
     "duration": 0.013585,
     "end_time": "2025-02-04T11:57:08.068446",
     "exception": false,
     "start_time": "2025-02-04T11:57:08.054861",
     "status": "completed"
    },
    "tags": []
   },
   "outputs": [],
   "source": [
    "aug_data_dict = {}\n",
    "aug_data_dict[0] = aug_data[aug_data[\"length\"] > 1024].reset_index(drop=True)\n",
    "aug_data_dict[1] = aug_data[aug_data[\"length\"] <= 1024].reset_index(drop=True)"
   ]
  },
  {
   "cell_type": "code",
   "execution_count": 21,
   "id": "fde55bf0",
   "metadata": {
    "execution": {
     "iopub.execute_input": "2025-02-04T11:57:08.082211Z",
     "iopub.status.busy": "2025-02-04T11:57:08.081933Z",
     "iopub.status.idle": "2025-02-04T11:57:10.369426Z",
     "shell.execute_reply": "2025-02-04T11:57:10.368502Z"
    },
    "papermill": {
     "duration": 2.296121,
     "end_time": "2025-02-04T11:57:10.370967",
     "exception": false,
     "start_time": "2025-02-04T11:57:08.074846",
     "status": "completed"
    },
    "tags": []
   },
   "outputs": [],
   "source": [
    "aug_result_df = []\n",
    "for i, batch_size in enumerate([CFG.batch_size, CFG.batch_size]):\n",
    "    if len(aug_data_dict[i]) == 0:\n",
    "        continue\n",
    "\n",
    "    if timer() - global_timer > (time_limit - 1800):\n",
    "        break\n",
    "        \n",
    "    sub_1 = aug_data_dict[i].iloc[0::2].copy()\n",
    "    sub_2 = aug_data_dict[i].iloc[1::2].copy()\n",
    "    \n",
    "    with ThreadPoolExecutor(max_workers=2) as executor:\n",
    "        results = executor.map(\n",
    "            inference, \n",
    "            (sub_1, sub_2), \n",
    "            (model_0, model_1), \n",
    "            (torch.device(\"cuda:0\"), torch.device(\"cuda:1\")), \n",
    "            (batch_size, batch_size)\n",
    "        )\n",
    "        \n",
    "    aug_result_df.append(pd.concat(list(results), axis=0))"
   ]
  },
  {
   "cell_type": "code",
   "execution_count": 22,
   "id": "e9f4a453",
   "metadata": {
    "execution": {
     "iopub.execute_input": "2025-02-04T11:57:10.385248Z",
     "iopub.status.busy": "2025-02-04T11:57:10.384981Z",
     "iopub.status.idle": "2025-02-04T11:57:10.389252Z",
     "shell.execute_reply": "2025-02-04T11:57:10.388593Z"
    },
    "papermill": {
     "duration": 0.012369,
     "end_time": "2025-02-04T11:57:10.390290",
     "exception": false,
     "start_time": "2025-02-04T11:57:10.377921",
     "status": "completed"
    },
    "tags": []
   },
   "outputs": [
    {
     "name": "stdout",
     "output_type": "stream",
     "text": [
      "time for 10_000 (max  4.5 hr):  5.3\n",
      "time for 25_000 (max 12.0 hr): 13.3\n"
     ]
    }
   ],
   "source": [
    "time_taken = timer() - global_timer\n",
    "\n",
    "print(f'time for 10_000 (max  4.5 hr): {10_000/3*time_taken/60/60:4.1f}')\n",
    "print(f'time for 25_000 (max 12.0 hr): {25_000/3*time_taken/60/60:4.1f}')"
   ]
  },
  {
   "cell_type": "code",
   "execution_count": 23,
   "id": "22e04b37",
   "metadata": {
    "execution": {
     "iopub.execute_input": "2025-02-04T11:57:10.404398Z",
     "iopub.status.busy": "2025-02-04T11:57:10.404164Z",
     "iopub.status.idle": "2025-02-04T11:57:10.422621Z",
     "shell.execute_reply": "2025-02-04T11:57:10.421981Z"
    },
    "papermill": {
     "duration": 0.026766,
     "end_time": "2025-02-04T11:57:10.423742",
     "exception": false,
     "start_time": "2025-02-04T11:57:10.396976",
     "status": "completed"
    },
    "tags": []
   },
   "outputs": [],
   "source": [
    "if len(aug_result_df) > 0:\n",
    "    aug_result_df = pd.concat(aug_result_df).sort_values('index').reset_index(drop=True)\n",
    "    aug_result_df[\"winner\"] = 1 - aug_result_df['winner']\n",
    "    \n",
    "    result_df = result_df.merge(\n",
    "        aug_result_df[['index', 'winner']], \n",
    "        on='index', \n",
    "        how='left', \n",
    "        suffixes=('', '_aug')\n",
    "    )\n",
    "    \n",
    "    mask = result_df['winner_aug'].notna()\n",
    "    result_df.loc[mask, 'winner'] = (result_df.loc[mask, 'winner'] + result_df.loc[mask, 'winner_aug']) / 2\n",
    "    \n",
    "    result_df = result_df.drop('winner_aug', axis=1)"
   ]
  },
  {
   "cell_type": "code",
   "execution_count": 24,
   "id": "3f7ca461",
   "metadata": {
    "execution": {
     "iopub.execute_input": "2025-02-04T11:57:10.437628Z",
     "iopub.status.busy": "2025-02-04T11:57:10.437407Z",
     "iopub.status.idle": "2025-02-04T11:57:10.440586Z",
     "shell.execute_reply": "2025-02-04T11:57:10.439907Z"
    },
    "papermill": {
     "duration": 0.011304,
     "end_time": "2025-02-04T11:57:10.441684",
     "exception": false,
     "start_time": "2025-02-04T11:57:10.430380",
     "status": "completed"
    },
    "tags": []
   },
   "outputs": [],
   "source": [
    "gemma_test_pred_probs = result_df[\"winner\"].values"
   ]
  },
  {
   "cell_type": "markdown",
   "id": "efabeb50",
   "metadata": {
    "papermill": {
     "duration": 0.006322,
     "end_time": "2025-02-04T11:57:10.454631",
     "exception": false,
     "start_time": "2025-02-04T11:57:10.448309",
     "status": "completed"
    },
    "tags": []
   },
   "source": [
    "# AutoGluon"
   ]
  },
  {
   "cell_type": "code",
   "execution_count": 25,
   "id": "99b61729",
   "metadata": {
    "_kg_hide-input": true,
    "execution": {
     "iopub.execute_input": "2025-02-04T11:57:10.468491Z",
     "iopub.status.busy": "2025-02-04T11:57:10.468272Z",
     "iopub.status.idle": "2025-02-04T11:57:10.493506Z",
     "shell.execute_reply": "2025-02-04T11:57:10.492936Z"
    },
    "papermill": {
     "duration": 0.033679,
     "end_time": "2025-02-04T11:57:10.494754",
     "exception": false,
     "start_time": "2025-02-04T11:57:10.461075",
     "status": "completed"
    },
    "tags": []
   },
   "outputs": [],
   "source": [
    "def reduce_mem_usage(dataframe):\n",
    "    print('--- Reducing memory usage')\n",
    "    initial_mem_usage = dataframe.memory_usage().sum() / 1024**2\n",
    "    \n",
    "    for col in dataframe.columns:\n",
    "        col_type = dataframe[col].dtype\n",
    "\n",
    "        if col_type.name in ['category', 'object']:\n",
    "            continue\n",
    "\n",
    "        c_min = dataframe[col].min()\n",
    "        c_max = dataframe[col].max()\n",
    "        if str(col_type)[:3] == 'int':\n",
    "            if c_min > np.iinfo(np.int8).min and c_max < np.iinfo(np.int8).max:\n",
    "                dataframe[col] = dataframe[col].astype(np.int8)\n",
    "            elif c_min > np.iinfo(np.int16).min and c_max < np.iinfo(np.int16).max:\n",
    "                dataframe[col] = dataframe[col].astype(np.int16)\n",
    "            elif c_min > np.iinfo(np.int32).min and c_max < np.iinfo(np.int32).max:\n",
    "                dataframe[col] = dataframe[col].astype(np.int32)\n",
    "            elif c_min > np.iinfo(np.int64).min and c_max < np.iinfo(np.int64).max:\n",
    "                dataframe[col] = dataframe[col].astype(np.int64)\n",
    "        else:\n",
    "            if c_min > np.finfo(np.float16).min and c_max < np.finfo(np.float16).max:\n",
    "                dataframe[col] = dataframe[col].astype(np.float16)\n",
    "            elif c_min > np.finfo(np.float32).min and c_max < np.finfo(np.float32).max:\n",
    "                dataframe[col] = dataframe[col].astype(np.float32)\n",
    "            else:\n",
    "                dataframe[col] = dataframe[col].astype(np.float64)\n",
    "\n",
    "    final_mem_usage = dataframe.memory_usage().sum() / 1024**2\n",
    "    print('------ Memory usage before: {:.2f} MB'.format(initial_mem_usage))\n",
    "    print('------ Memory usage after: {:.2f} MB'.format(final_mem_usage))\n",
    "    print('------ Decreased memory usage by {:.1f}%'.format(100 * (initial_mem_usage - final_mem_usage) / initial_mem_usage))\n",
    "\n",
    "    return dataframe\n",
    "\n",
    "def add_word_features(df, column):\n",
    "    # Basic word counts\n",
    "    df[f'{column}_word_count'] = df[column].apply(lambda x: len(x.split()))\n",
    "    df[f'{column}_unique_word_count'] = df[column].apply(lambda x: len(set(x.lower().split())))\n",
    "    \n",
    "    # Word length statistics\n",
    "    def safe_word_stats(text):\n",
    "        words = str(text).split()\n",
    "        if not words:\n",
    "            return 0, 0  # avg_length, max_length for empty text\n",
    "        word_lengths = [len(word) for word in words]\n",
    "        return np.mean(word_lengths), max(word_lengths)\n",
    "    \n",
    "    word_stats = df[column].apply(safe_word_stats)\n",
    "    df[f'{column}_avg_word_length'] = word_stats.apply(lambda x: x[0])\n",
    "    df[f'{column}_max_word_length'] = word_stats.apply(lambda x: x[1])\n",
    "    \n",
    "    # Lexical diversity (unique words / total words)\n",
    "    df[f'{column}_lexical_diversity'] = df.apply(\n",
    "        lambda x: x[f'{column}_unique_word_count'] / x[f'{column}_word_count'] \n",
    "        if x[f'{column}_word_count'] > 0 else 0, axis=1\n",
    "    )\n",
    "    \n",
    "    # Count specific word types\n",
    "    df[f'{column}_uppercase_word_count'] = df[column].apply(lambda x: sum(1 for word in x.split() if word.isupper()))\n",
    "    df[f'{column}_title_case_word_count'] = df[column].apply(lambda x: sum(1 for word in x.split() if word.istitle()))\n",
    "    \n",
    "    return df\n",
    "\n",
    "def add_char_features(df, column):\n",
    "    # Basic character counts\n",
    "    df[f'{column}_char_count'] = df[column].str.len()\n",
    "    df[f'{column}_letter_count'] = df[column].apply(lambda x: sum(c.isalpha() for c in x))\n",
    "    df[f'{column}_digit_count'] = df[column].apply(lambda x: sum(c.isdigit() for c in x))\n",
    "    df[f'{column}_whitespace_count'] = df[column].apply(lambda x: sum(c.isspace() for c in x))\n",
    "    \n",
    "    # Punctuation counts\n",
    "    df[f'{column}_punctuation_count'] = df[column].apply(lambda x: sum(c in '.,!?;:' for c in x))\n",
    "    df[f'{column}_special_char_count'] = df[column].apply(lambda x: sum(not (c.isalnum() or c.isspace()) for c in x))\n",
    "    \n",
    "    # Character ratios with safe division\n",
    "    df[f'{column}_uppercase_ratio'] = df[column].apply(lambda x: sum(c.isupper() for c in x) / max(len(x), 1))\n",
    "    df[f'{column}_lowercase_ratio'] = df[column].apply(lambda x: sum(c.islower() for c in x) / max(len(x), 1))\n",
    "    \n",
    "    return df\n",
    "\n",
    "def add_sentence_features(df, column):\n",
    "    # Sentence counts\n",
    "    df[f'{column}_sentence_count'] = df[column].apply(lambda x: len(sent_tokenize(x)))\n",
    "    \n",
    "    # Average sentence length with safe division\n",
    "    df[f'{column}_avg_sentence_length'] = df[column].apply(\n",
    "        lambda x: np.mean([len(sent.split()) for sent in sent_tokenize(x)])\n",
    "        if len(sent_tokenize(x)) > 0 else 0\n",
    "    )\n",
    "    \n",
    "    # Sentence length variation with safe handling\n",
    "    df[f'{column}_sentence_length_std'] = df[column].apply(\n",
    "        lambda x: np.std([len(sent.split()) for sent in sent_tokenize(x)]) \n",
    "        if len(sent_tokenize(x)) > 1 else 0\n",
    "    )\n",
    "    \n",
    "    # Question and exclamation counts\n",
    "    df[f'{column}_question_count'] = df[column].str.count('\\?')\n",
    "    df[f'{column}_exclamation_count'] = df[column].str.count('!')\n",
    "    \n",
    "    return df\n",
    "\n",
    "def add_stats_features(df, column):\n",
    "    # Readability metrics (simplified Flesch Reading Ease)\n",
    "    def calculate_readability(text):\n",
    "        sentences = sent_tokenize(text)\n",
    "        words = text.split()\n",
    "        if not words or not sentences:\n",
    "            return 0\n",
    "        avg_sentence_length = len(words) / len(sentences)\n",
    "        avg_syllables_per_word = sum(count_syllables(word) for word in words) / len(words)\n",
    "        return 206.835 - (1.015 * avg_sentence_length) - (84.6 * avg_syllables_per_word)\n",
    "    \n",
    "    def count_syllables(word):\n",
    "        word = word.lower()\n",
    "        count = 0\n",
    "        vowels = 'aeiouy'\n",
    "        if word[0] in vowels:\n",
    "            count += 1\n",
    "        for index in range(1, len(word)):\n",
    "            if word[index] in vowels and word[index-1] not in vowels:\n",
    "                count += 1\n",
    "        if word.endswith('e'):\n",
    "            count -= 1\n",
    "        if count == 0:\n",
    "            count = 1\n",
    "        return count\n",
    "    \n",
    "    df[f'{column}_readability_score'] = df[column].apply(calculate_readability)\n",
    "    \n",
    "    # Text complexity features with safe division\n",
    "    df[f'{column}_avg_word_per_sentence'] = df.apply(\n",
    "        lambda x: x[f'{column}_word_count'] / x[f'{column}_sentence_count']\n",
    "        if x[f'{column}_sentence_count'] > 0 else 0, axis=1\n",
    "    )\n",
    "    \n",
    "    df[f'{column}_char_per_word'] = df.apply(\n",
    "        lambda x: x[f'{column}_char_count'] / x[f'{column}_word_count']\n",
    "        if x[f'{column}_word_count'] > 0 else 0, axis=1\n",
    "    )\n",
    "    \n",
    "    return df\n",
    "\n",
    "def get_text_similarity(text1, text2):\n",
    "    text1, text2 = str(text1), str(text2)\n",
    "    \n",
    "    chars1, chars2 = set(text1.lower()), set(text2.lower())\n",
    "    char_similarity = len(chars1 & chars2) / max(len(chars1 | chars2), 1)\n",
    "    \n",
    "    words1 = set(text1.lower().split())\n",
    "    words2 = set(text2.lower().split())\n",
    "    word_similarity = len(words1 & words2) / max(len(words1 | words2), 1)\n",
    "    \n",
    "    length_ratio = len(text1) / max(len(text2), 1)\n",
    "    \n",
    "    return char_similarity, word_similarity, length_ratio\n",
    "\n",
    "def add_features(df, is_train):\n",
    "    if is_train:\n",
    "        features = joblib.load(f'{CFG.data_path}/features/train_features.pkl')\n",
    "        df = df.merge(features, on='id', how='left')\n",
    "        return df\n",
    "    \n",
    "    for column in ['prompt', 'response_a', 'response_b']:\n",
    "        df = add_word_features(df, column)\n",
    "        df = add_char_features(df, column)\n",
    "        df = add_sentence_features(df, column)\n",
    "        df = add_stats_features(df, column)\n",
    "        \n",
    "    # Add text similarity features between prompt and response_a/response_b\n",
    "    similarities_a = df.apply(lambda row: get_text_similarity(row['prompt'], row['response_a']), axis=1)\n",
    "    similarities_b = df.apply(lambda row: get_text_similarity(row['prompt'], row['response_b']), axis=1)\n",
    "    df['prompt_response_a_char_sim'], df['prompt_response_a_word_sim'], df['prompt_response_a_length_ratio'] = zip(*similarities_a)\n",
    "    df['prompt_response_b_char_sim'], df['prompt_response_b_word_sim'], df['prompt_response_b_length_ratio'] = zip(*similarities_b)\n",
    "        \n",
    "    # Add comparative features between response_a and response_b with safe division\n",
    "    for feature in df.columns:\n",
    "        if feature.startswith('response_a_'):\n",
    "            corresponding_b = feature.replace('response_a_', 'response_b_')\n",
    "            if corresponding_b in df.columns:\n",
    "                df[f'diff_{feature.replace(\"response_a_\", \"\")}'] = df[feature] - df[corresponding_b]\n",
    "                df[f'ratio_{feature.replace(\"response_a_\", \"\")}'] = df.apply(\n",
    "                    lambda x: x[feature] / x[corresponding_b] \n",
    "                    if x[corresponding_b] != 0 else 0, axis=1\n",
    "                )\n",
    "    \n",
    "    return df\n",
    "\n",
    "def add_tfidf_features(df, is_train):\n",
    "    if is_train:\n",
    "        tfidf_features = joblib.load(f'{CFG.data_path}/features/train_tfidf_features.pkl')\n",
    "        df = df.merge(tfidf_features, on='id', how='left')\n",
    "        return df\n",
    "\n",
    "    for column in ['prompt', 'response_a', 'response_b']:\n",
    "        for params in [CFG.char_vectorizer_params, CFG.word_vectorizer_params]:\n",
    "            \n",
    "            tfidf_vectorizer = joblib.load(f'{CFG.data_path}/vectorizers/{column}_{params[\"analyzer\"]}_tfidf_vectorizer.pkl')\n",
    "            tfidf_matrix = tfidf_vectorizer.transform(df[column].fillna(''))\n",
    "            tfidf_dense = tfidf_matrix.toarray()\n",
    "            \n",
    "            feature_names = tfidf_vectorizer.get_feature_names_out()\n",
    "            for i in range(len(feature_names)):\n",
    "                df[f'{column}_{params[\"analyzer\"]}_tfidf_{i}'] = tfidf_dense[:, i]\n",
    "            \n",
    "            del tfidf_vectorizer, tfidf_matrix, tfidf_dense\n",
    "            \n",
    "            gc.collect()\n",
    "            \n",
    "    return df"
   ]
  },
  {
   "cell_type": "markdown",
   "id": "63e840cf",
   "metadata": {
    "papermill": {
     "duration": 0.006478,
     "end_time": "2025-02-04T11:57:10.508311",
     "exception": false,
     "start_time": "2025-02-04T11:57:10.501833",
     "status": "completed"
    },
    "tags": []
   },
   "source": [
    "## Processing the data"
   ]
  },
  {
   "cell_type": "code",
   "execution_count": 26,
   "id": "01083a99",
   "metadata": {
    "execution": {
     "iopub.execute_input": "2025-02-04T11:57:10.522054Z",
     "iopub.status.busy": "2025-02-04T11:57:10.521844Z",
     "iopub.status.idle": "2025-02-04T11:57:10.530263Z",
     "shell.execute_reply": "2025-02-04T11:57:10.529480Z"
    },
    "papermill": {
     "duration": 0.016765,
     "end_time": "2025-02-04T11:57:10.531594",
     "exception": false,
     "start_time": "2025-02-04T11:57:10.514829",
     "status": "completed"
    },
    "tags": []
   },
   "outputs": [],
   "source": [
    "test = pd.read_parquet(CFG.test_path)\n",
    "test = test.drop(columns=['scored'])"
   ]
  },
  {
   "cell_type": "code",
   "execution_count": 27,
   "id": "da7abbee",
   "metadata": {
    "_kg_hide-output": true,
    "execution": {
     "iopub.execute_input": "2025-02-04T11:57:10.545570Z",
     "iopub.status.busy": "2025-02-04T11:57:10.545333Z",
     "iopub.status.idle": "2025-02-04T11:57:14.357323Z",
     "shell.execute_reply": "2025-02-04T11:57:14.356389Z"
    },
    "papermill": {
     "duration": 3.820621,
     "end_time": "2025-02-04T11:57:14.358953",
     "exception": false,
     "start_time": "2025-02-04T11:57:10.538332",
     "status": "completed"
    },
    "scrolled": true,
    "tags": []
   },
   "outputs": [],
   "source": [
    "test = add_features(test, is_train=False)\n",
    "test = add_tfidf_features(test, is_train=False)\n",
    "test['tta_oof'] = gemma_test_pred_probs"
   ]
  },
  {
   "cell_type": "code",
   "execution_count": 28,
   "id": "9a00a706",
   "metadata": {
    "execution": {
     "iopub.execute_input": "2025-02-04T11:57:14.374672Z",
     "iopub.status.busy": "2025-02-04T11:57:14.374394Z",
     "iopub.status.idle": "2025-02-04T11:57:14.424747Z",
     "shell.execute_reply": "2025-02-04T11:57:14.423710Z"
    },
    "papermill": {
     "duration": 0.05953,
     "end_time": "2025-02-04T11:57:14.426252",
     "exception": false,
     "start_time": "2025-02-04T11:57:14.366722",
     "status": "completed"
    },
    "tags": []
   },
   "outputs": [],
   "source": [
    "test = test.drop(columns=['id', 'prompt', 'response_a', 'response_b'])"
   ]
  },
  {
   "cell_type": "markdown",
   "id": "23d55767",
   "metadata": {
    "papermill": {
     "duration": 0.006668,
     "end_time": "2025-02-04T11:57:14.440058",
     "exception": false,
     "start_time": "2025-02-04T11:57:14.433390",
     "status": "completed"
    },
    "tags": []
   },
   "source": [
    "## Running inference"
   ]
  },
  {
   "cell_type": "code",
   "execution_count": 29,
   "id": "6b40cf80",
   "metadata": {
    "execution": {
     "iopub.execute_input": "2025-02-04T11:57:14.455129Z",
     "iopub.status.busy": "2025-02-04T11:57:14.454904Z",
     "iopub.status.idle": "2025-02-04T11:57:14.782530Z",
     "shell.execute_reply": "2025-02-04T11:57:14.781803Z"
    },
    "papermill": {
     "duration": 0.337508,
     "end_time": "2025-02-04T11:57:14.784257",
     "exception": false,
     "start_time": "2025-02-04T11:57:14.446749",
     "status": "completed"
    },
    "tags": []
   },
   "outputs": [],
   "source": [
    "predictor = TabularPredictor.load('/kaggle/input/wsdm-cup-gemma-2-9b-4-bit-qlora/autogluon')"
   ]
  },
  {
   "cell_type": "code",
   "execution_count": 30,
   "id": "e457c094",
   "metadata": {
    "_kg_hide-output": true,
    "execution": {
     "iopub.execute_input": "2025-02-04T11:57:14.799553Z",
     "iopub.status.busy": "2025-02-04T11:57:14.799278Z",
     "iopub.status.idle": "2025-02-04T11:59:02.802182Z",
     "shell.execute_reply": "2025-02-04T11:59:02.801233Z"
    },
    "papermill": {
     "duration": 108.012514,
     "end_time": "2025-02-04T11:59:02.803872",
     "exception": false,
     "start_time": "2025-02-04T11:57:14.791358",
     "status": "completed"
    },
    "scrolled": true,
    "tags": []
   },
   "outputs": [],
   "source": [
    "ag_test_preds = predictor.predict(test).values"
   ]
  },
  {
   "cell_type": "markdown",
   "id": "bc3785fe",
   "metadata": {
    "papermill": {
     "duration": 0.006633,
     "end_time": "2025-02-04T11:59:02.818119",
     "exception": false,
     "start_time": "2025-02-04T11:59:02.811486",
     "status": "completed"
    },
    "tags": []
   },
   "source": [
    "# Submission"
   ]
  },
  {
   "cell_type": "code",
   "execution_count": 31,
   "id": "43f87d03",
   "metadata": {
    "execution": {
     "iopub.execute_input": "2025-02-04T11:59:02.832810Z",
     "iopub.status.busy": "2025-02-04T11:59:02.832119Z",
     "iopub.status.idle": "2025-02-04T11:59:02.845946Z",
     "shell.execute_reply": "2025-02-04T11:59:02.845281Z"
    },
    "papermill": {
     "duration": 0.022319,
     "end_time": "2025-02-04T11:59:02.847081",
     "exception": false,
     "start_time": "2025-02-04T11:59:02.824762",
     "status": "completed"
    },
    "tags": []
   },
   "outputs": [
    {
     "data": {
      "text/html": [
       "<div>\n",
       "<style scoped>\n",
       "    .dataframe tbody tr th:only-of-type {\n",
       "        vertical-align: middle;\n",
       "    }\n",
       "\n",
       "    .dataframe tbody tr th {\n",
       "        vertical-align: top;\n",
       "    }\n",
       "\n",
       "    .dataframe thead th {\n",
       "        text-align: right;\n",
       "    }\n",
       "</style>\n",
       "<table border=\"1\" class=\"dataframe\">\n",
       "  <thead>\n",
       "    <tr style=\"text-align: right;\">\n",
       "      <th></th>\n",
       "      <th>id</th>\n",
       "      <th>winner</th>\n",
       "    </tr>\n",
       "  </thead>\n",
       "  <tbody>\n",
       "    <tr>\n",
       "      <th>0</th>\n",
       "      <td>327228</td>\n",
       "      <td>model_b</td>\n",
       "    </tr>\n",
       "    <tr>\n",
       "      <th>1</th>\n",
       "      <td>1139415</td>\n",
       "      <td>model_a</td>\n",
       "    </tr>\n",
       "    <tr>\n",
       "      <th>2</th>\n",
       "      <td>1235630</td>\n",
       "      <td>model_a</td>\n",
       "    </tr>\n",
       "  </tbody>\n",
       "</table>\n",
       "</div>"
      ],
      "text/plain": [
       "        id   winner\n",
       "0   327228  model_b\n",
       "1  1139415  model_a\n",
       "2  1235630  model_a"
      ]
     },
     "execution_count": 31,
     "metadata": {},
     "output_type": "execute_result"
    }
   ],
   "source": [
    "sub = result_df[['id', 'winner']].copy()\n",
    "sub['winner'] = np.where(ag_test_preds == 0, 'model_a', 'model_b')\n",
    "sub.to_csv('submission.csv', index=False)\n",
    "sub.head()"
   ]
  }
 ],
 "metadata": {
  "kaggle": {
   "accelerator": "nvidiaTeslaT4",
   "dataSources": [
    {
     "databundleVersionId": 10131489,
     "sourceId": 86946,
     "sourceType": "competition"
    },
    {
     "datasetId": 6447806,
     "sourceId": 10601275,
     "sourceType": "datasetVersion"
    },
    {
     "modelId": 193770,
     "modelInstanceId": 171453,
     "sourceId": 200971,
     "sourceType": "modelInstanceVersion"
    }
   ],
   "dockerImageVersionId": 30823,
   "isGpuEnabled": true,
   "isInternetEnabled": false,
   "language": "python",
   "sourceType": "notebook"
  },
  "kernelspec": {
   "display_name": "Python 3",
   "language": "python",
   "name": "python3"
  },
  "language_info": {
   "codemirror_mode": {
    "name": "ipython",
    "version": 3
   },
   "file_extension": ".py",
   "mimetype": "text/x-python",
   "name": "python",
   "nbconvert_exporter": "python",
   "pygments_lexer": "ipython3",
   "version": "3.10.12"
  },
  "papermill": {
   "default_parameters": {},
   "duration": 188.770593,
   "end_time": "2025-02-04T11:59:05.984410",
   "environment_variables": {},
   "exception": null,
   "input_path": "__notebook__.ipynb",
   "output_path": "__notebook__.ipynb",
   "parameters": {},
   "start_time": "2025-02-04T11:55:57.213817",
   "version": "2.6.0"
  }
 },
 "nbformat": 4,
 "nbformat_minor": 5
}
