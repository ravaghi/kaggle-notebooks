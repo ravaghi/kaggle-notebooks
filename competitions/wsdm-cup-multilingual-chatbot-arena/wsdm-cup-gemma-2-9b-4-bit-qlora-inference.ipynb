{
 "cells": [
  {
   "cell_type": "markdown",
   "id": "78c6476e",
   "metadata": {
    "papermill": {
     "duration": 0.005071,
     "end_time": "2025-01-27T09:14:38.185220",
     "exception": false,
     "start_time": "2025-01-27T09:14:38.180149",
     "status": "completed"
    },
    "tags": []
   },
   "source": [
    "# Imports and configs"
   ]
  },
  {
   "cell_type": "code",
   "execution_count": 1,
   "id": "559bff30",
   "metadata": {
    "execution": {
     "iopub.execute_input": "2025-01-27T09:14:38.194426Z",
     "iopub.status.busy": "2025-01-27T09:14:38.194220Z",
     "iopub.status.idle": "2025-01-27T09:15:04.325120Z",
     "shell.execute_reply": "2025-01-27T09:15:04.324380Z"
    },
    "papermill": {
     "duration": 26.137157,
     "end_time": "2025-01-27T09:15:04.326628",
     "exception": false,
     "start_time": "2025-01-27T09:14:38.189471",
     "status": "completed"
    },
    "tags": []
   },
   "outputs": [],
   "source": [
    "from transformers import Gemma2ForSequenceClassification, GemmaTokenizerFast\n",
    "from transformers.data.data_collator import pad_without_fast_tokenizer_warning\n",
    "from concurrent.futures import ThreadPoolExecutor\n",
    "from timeit import default_timer as timer\n",
    "from peft import PeftModel\n",
    "from tqdm import tqdm\n",
    "import pandas as pd\n",
    "import numpy as np\n",
    "import torch"
   ]
  },
  {
   "cell_type": "code",
   "execution_count": 2,
   "id": "62129cfc",
   "metadata": {
    "execution": {
     "iopub.execute_input": "2025-01-27T09:15:04.336455Z",
     "iopub.status.busy": "2025-01-27T09:15:04.335952Z",
     "iopub.status.idle": "2025-01-27T09:15:04.339743Z",
     "shell.execute_reply": "2025-01-27T09:15:04.338906Z"
    },
    "papermill": {
     "duration": 0.009702,
     "end_time": "2025-01-27T09:15:04.340882",
     "exception": false,
     "start_time": "2025-01-27T09:15:04.331180",
     "status": "completed"
    },
    "tags": []
   },
   "outputs": [],
   "source": [
    "class CFG:\n",
    "    test_path = \"/kaggle/input/wsdm-cup-multilingual-chatbot-arena/test.parquet\"\n",
    "    \n",
    "    gemma_dir = \"/kaggle/input/gemma-2-9b-4bit-it-unsloth/transformers/default/1/gemma-2-9b-it-4bit-unsloth_old\"\n",
    "    lora_dir = \"/kaggle/input/wsdm-cup-gemma-2-9b-4-bit-qlora/gemma2-9b-4bit/gemma-2-9b-it-bnb-4bit-3072-8/checkpoint-3027\"\n",
    "    \n",
    "    max_length = 3072\n",
    "    batch_size = 4"
   ]
  },
  {
   "cell_type": "markdown",
   "id": "7af3d72f",
   "metadata": {
    "papermill": {
     "duration": 0.003849,
     "end_time": "2025-01-27T09:15:04.349038",
     "exception": false,
     "start_time": "2025-01-27T09:15:04.345189",
     "status": "completed"
    },
    "tags": []
   },
   "source": [
    "# Loading data"
   ]
  },
  {
   "cell_type": "code",
   "execution_count": 3,
   "id": "dec2df66",
   "metadata": {
    "execution": {
     "iopub.execute_input": "2025-01-27T09:15:04.358083Z",
     "iopub.status.busy": "2025-01-27T09:15:04.357806Z",
     "iopub.status.idle": "2025-01-27T09:15:04.600535Z",
     "shell.execute_reply": "2025-01-27T09:15:04.599827Z"
    },
    "papermill": {
     "duration": 0.24897,
     "end_time": "2025-01-27T09:15:04.602116",
     "exception": false,
     "start_time": "2025-01-27T09:15:04.353146",
     "status": "completed"
    },
    "tags": []
   },
   "outputs": [],
   "source": [
    "test = pd.read_parquet(CFG.test_path).fillna('')"
   ]
  },
  {
   "cell_type": "code",
   "execution_count": 4,
   "id": "a31f01d0",
   "metadata": {
    "execution": {
     "iopub.execute_input": "2025-01-27T09:15:04.611589Z",
     "iopub.status.busy": "2025-01-27T09:15:04.611380Z",
     "iopub.status.idle": "2025-01-27T09:15:04.614455Z",
     "shell.execute_reply": "2025-01-27T09:15:04.613875Z"
    },
    "papermill": {
     "duration": 0.009149,
     "end_time": "2025-01-27T09:15:04.615821",
     "exception": false,
     "start_time": "2025-01-27T09:15:04.606672",
     "status": "completed"
    },
    "tags": []
   },
   "outputs": [],
   "source": [
    "if len(test) > 10_000:\n",
    "    time_limit = int(3600 * 12) \n",
    "else:\n",
    "    time_limit = int(3600 * 4.75)"
   ]
  },
  {
   "cell_type": "markdown",
   "id": "55f0641e",
   "metadata": {
    "papermill": {
     "duration": 0.003907,
     "end_time": "2025-01-27T09:15:04.623879",
     "exception": false,
     "start_time": "2025-01-27T09:15:04.619972",
     "status": "completed"
    },
    "tags": []
   },
   "source": [
    "# Tokenizing"
   ]
  },
  {
   "cell_type": "code",
   "execution_count": 5,
   "id": "87bcf79c",
   "metadata": {
    "execution": {
     "iopub.execute_input": "2025-01-27T09:15:04.632601Z",
     "iopub.status.busy": "2025-01-27T09:15:04.632401Z",
     "iopub.status.idle": "2025-01-27T09:15:04.636500Z",
     "shell.execute_reply": "2025-01-27T09:15:04.635835Z"
    },
    "papermill": {
     "duration": 0.009655,
     "end_time": "2025-01-27T09:15:04.637615",
     "exception": false,
     "start_time": "2025-01-27T09:15:04.627960",
     "status": "completed"
    },
    "tags": []
   },
   "outputs": [],
   "source": [
    "def tokenize(tokenizer, prompt, response_a, response_b, max_length=CFG.max_length):\n",
    "    prompt = [\"<prompt>: \" + t for t in prompt]\n",
    "    response_a = [\"\\n\\n<response_a>: \" + t for t in response_a]\n",
    "    response_b = [\"\\n\\n<response_b>: \" + t for t in response_b]\n",
    "    \n",
    "    texts = [p + r_a + r_b for p, r_a, r_b in zip(prompt, response_a, response_b)]\n",
    "    tokenized = tokenizer(texts, max_length=max_length, truncation=True)\n",
    "    \n",
    "    return tokenized['input_ids'], tokenized['attention_mask']"
   ]
  },
  {
   "cell_type": "code",
   "execution_count": 6,
   "id": "e1bca973",
   "metadata": {
    "execution": {
     "iopub.execute_input": "2025-01-27T09:15:04.646827Z",
     "iopub.status.busy": "2025-01-27T09:15:04.646624Z",
     "iopub.status.idle": "2025-01-27T09:15:05.612386Z",
     "shell.execute_reply": "2025-01-27T09:15:05.611601Z"
    },
    "papermill": {
     "duration": 0.972154,
     "end_time": "2025-01-27T09:15:05.613977",
     "exception": false,
     "start_time": "2025-01-27T09:15:04.641823",
     "status": "completed"
    },
    "tags": []
   },
   "outputs": [],
   "source": [
    "tokenizer = GemmaTokenizerFast.from_pretrained(CFG.gemma_dir)\n",
    "tokenizer.add_eos_token = True\n",
    "tokenizer.padding_side = \"right\""
   ]
  },
  {
   "cell_type": "code",
   "execution_count": 7,
   "id": "21ea6346",
   "metadata": {
    "execution": {
     "iopub.execute_input": "2025-01-27T09:15:05.624111Z",
     "iopub.status.busy": "2025-01-27T09:15:05.623840Z",
     "iopub.status.idle": "2025-01-27T09:15:05.664190Z",
     "shell.execute_reply": "2025-01-27T09:15:05.663322Z"
    },
    "papermill": {
     "duration": 0.046656,
     "end_time": "2025-01-27T09:15:05.665444",
     "exception": false,
     "start_time": "2025-01-27T09:15:05.618788",
     "status": "completed"
    },
    "tags": []
   },
   "outputs": [
    {
     "name": "stderr",
     "output_type": "stream",
     "text": [
      "100%|██████████| 3/3 [00:00<00:00, 691.41it/s]\n",
      "100%|██████████| 3/3 [00:00<00:00, 717.02it/s]\n",
      "100%|██████████| 3/3 [00:00<00:00, 584.87it/s]\n"
     ]
    }
   ],
   "source": [
    "for col in ['prompt', 'response_a', 'response_b']:\n",
    "    test[col] = test[col].fillna('')\n",
    "    text_list = []\n",
    "    if col == \"prompt\":\n",
    "        max_no = 512\n",
    "        s_no = 255\n",
    "        e_no = -256\n",
    "    else:\n",
    "        max_no = 3072\n",
    "        s_no = 1535\n",
    "        e_no = -1536\n",
    "    for text in tqdm(test[col]):\n",
    "        encoded = tokenizer(text, return_offsets_mapping=True)\n",
    "        if len(encoded['input_ids']) > max_no:\n",
    "            start_idx, end_idx = encoded['offset_mapping'][s_no]\n",
    "            new_text = text[:end_idx]\n",
    "            start_idx, end_idx = encoded['offset_mapping'][e_no]\n",
    "            new_text = new_text + \"\\n(snip)\\n\" + text[start_idx:]\n",
    "            text = new_text\n",
    "        text_list.append(text)\n",
    "    test[col] = text_list"
   ]
  },
  {
   "cell_type": "code",
   "execution_count": 8,
   "id": "e1633bcf",
   "metadata": {
    "execution": {
     "iopub.execute_input": "2025-01-27T09:15:05.676128Z",
     "iopub.status.busy": "2025-01-27T09:15:05.675831Z",
     "iopub.status.idle": "2025-01-27T09:15:05.695405Z",
     "shell.execute_reply": "2025-01-27T09:15:05.694685Z"
    },
    "papermill": {
     "duration": 0.026571,
     "end_time": "2025-01-27T09:15:05.696882",
     "exception": false,
     "start_time": "2025-01-27T09:15:05.670311",
     "status": "completed"
    },
    "tags": []
   },
   "outputs": [],
   "source": [
    "data = pd.DataFrame()\n",
    "data[\"id\"] = test[\"id\"]\n",
    "data[\"input_ids\"], data[\"attention_mask\"] = tokenize(tokenizer, test[\"prompt\"], test[\"response_a\"], test[\"response_b\"])\n",
    "data[\"length\"] = data[\"input_ids\"].apply(len)\n",
    "\n",
    "aug_data = pd.DataFrame()\n",
    "aug_data[\"id\"] = test[\"id\"]\n",
    "# swap response_a & response_b\n",
    "aug_data['input_ids'], aug_data['attention_mask'] = tokenize(tokenizer, test[\"prompt\"], test[\"response_b\"], test[\"response_a\"])\n",
    "aug_data[\"length\"] = aug_data[\"input_ids\"].apply(len)"
   ]
  },
  {
   "cell_type": "markdown",
   "id": "32eceb1b",
   "metadata": {
    "papermill": {
     "duration": 0.004577,
     "end_time": "2025-01-27T09:15:05.706932",
     "exception": false,
     "start_time": "2025-01-27T09:15:05.702355",
     "status": "completed"
    },
    "tags": []
   },
   "source": [
    "# Model"
   ]
  },
  {
   "cell_type": "code",
   "execution_count": 9,
   "id": "6b16320a",
   "metadata": {
    "_kg_hide-output": true,
    "execution": {
     "iopub.execute_input": "2025-01-27T09:15:05.717369Z",
     "iopub.status.busy": "2025-01-27T09:15:05.717150Z",
     "iopub.status.idle": "2025-01-27T09:16:02.643730Z",
     "shell.execute_reply": "2025-01-27T09:16:02.642748Z"
    },
    "papermill": {
     "duration": 56.933827,
     "end_time": "2025-01-27T09:16:02.645386",
     "exception": false,
     "start_time": "2025-01-27T09:15:05.711559",
     "status": "completed"
    },
    "tags": []
   },
   "outputs": [
    {
     "name": "stderr",
     "output_type": "stream",
     "text": [
      "Unused kwargs: ['_load_in_4bit', '_load_in_8bit', 'quant_method']. These kwargs are not used in <class 'transformers.utils.quantization_config.BitsAndBytesConfig'>.\n",
      "Some weights of Gemma2ForSequenceClassification were not initialized from the model checkpoint at /kaggle/input/gemma-2-9b-4bit-it-unsloth/transformers/default/1/gemma-2-9b-it-4bit-unsloth_old and are newly initialized: ['score.weight']\n",
      "You should probably TRAIN this model on a down-stream task to be able to use it for predictions and inference.\n",
      "Unused kwargs: ['_load_in_4bit', '_load_in_8bit', 'quant_method']. These kwargs are not used in <class 'transformers.utils.quantization_config.BitsAndBytesConfig'>.\n",
      "Some weights of Gemma2ForSequenceClassification were not initialized from the model checkpoint at /kaggle/input/gemma-2-9b-4bit-it-unsloth/transformers/default/1/gemma-2-9b-it-4bit-unsloth_old and are newly initialized: ['score.weight']\n",
      "You should probably TRAIN this model on a down-stream task to be able to use it for predictions and inference.\n"
     ]
    }
   ],
   "source": [
    "model_0 = Gemma2ForSequenceClassification.from_pretrained(\n",
    "    CFG.gemma_dir,\n",
    "    device_map=torch.device(\"cuda:0\"),\n",
    "    use_cache=False,\n",
    ")\n",
    "\n",
    "model_1 = Gemma2ForSequenceClassification.from_pretrained(\n",
    "    CFG.gemma_dir,\n",
    "    device_map=torch.device(\"cuda:1\"),\n",
    "    use_cache=False,\n",
    ")"
   ]
  },
  {
   "cell_type": "code",
   "execution_count": 10,
   "id": "abe173c0",
   "metadata": {
    "execution": {
     "iopub.execute_input": "2025-01-27T09:16:02.656799Z",
     "iopub.status.busy": "2025-01-27T09:16:02.656517Z",
     "iopub.status.idle": "2025-01-27T09:16:03.624028Z",
     "shell.execute_reply": "2025-01-27T09:16:03.623127Z"
    },
    "papermill": {
     "duration": 0.974683,
     "end_time": "2025-01-27T09:16:03.625608",
     "exception": false,
     "start_time": "2025-01-27T09:16:02.650925",
     "status": "completed"
    },
    "tags": []
   },
   "outputs": [],
   "source": [
    "model_0 = PeftModel.from_pretrained(model_0, CFG.lora_dir)\n",
    "model_1 = PeftModel.from_pretrained(model_1, CFG.lora_dir)"
   ]
  },
  {
   "cell_type": "code",
   "execution_count": 11,
   "id": "28da5890",
   "metadata": {
    "_kg_hide-output": true,
    "execution": {
     "iopub.execute_input": "2025-01-27T09:16:03.637335Z",
     "iopub.status.busy": "2025-01-27T09:16:03.637032Z",
     "iopub.status.idle": "2025-01-27T09:16:03.657808Z",
     "shell.execute_reply": "2025-01-27T09:16:03.657062Z"
    },
    "papermill": {
     "duration": 0.027722,
     "end_time": "2025-01-27T09:16:03.659029",
     "exception": false,
     "start_time": "2025-01-27T09:16:03.631307",
     "status": "completed"
    },
    "scrolled": true,
    "tags": []
   },
   "outputs": [
    {
     "data": {
      "text/plain": [
       "PeftModelForSequenceClassification(\n",
       "  (base_model): LoraModel(\n",
       "    (model): Gemma2ForSequenceClassification(\n",
       "      (model): Gemma2Model(\n",
       "        (embed_tokens): Embedding(256000, 3584, padding_idx=0)\n",
       "        (layers): ModuleList(\n",
       "          (0-15): 16 x Gemma2DecoderLayer(\n",
       "            (self_attn): Gemma2SdpaAttention(\n",
       "              (q_proj): Linear4bit(in_features=3584, out_features=4096, bias=False)\n",
       "              (k_proj): Linear4bit(in_features=3584, out_features=2048, bias=False)\n",
       "              (v_proj): Linear4bit(in_features=3584, out_features=2048, bias=False)\n",
       "              (o_proj): Linear4bit(in_features=4096, out_features=3584, bias=False)\n",
       "              (rotary_emb): Gemma2RotaryEmbedding()\n",
       "            )\n",
       "            (mlp): Gemma2MLP(\n",
       "              (gate_proj): Linear4bit(in_features=3584, out_features=14336, bias=False)\n",
       "              (up_proj): Linear4bit(in_features=3584, out_features=14336, bias=False)\n",
       "              (down_proj): Linear4bit(in_features=14336, out_features=3584, bias=False)\n",
       "              (act_fn): PytorchGELUTanh()\n",
       "            )\n",
       "            (input_layernorm): Gemma2RMSNorm((3584,), eps=1e-06)\n",
       "            (post_attention_layernorm): Gemma2RMSNorm((3584,), eps=1e-06)\n",
       "            (pre_feedforward_layernorm): Gemma2RMSNorm((3584,), eps=1e-06)\n",
       "            (post_feedforward_layernorm): Gemma2RMSNorm((3584,), eps=1e-06)\n",
       "          )\n",
       "          (16-41): 26 x Gemma2DecoderLayer(\n",
       "            (self_attn): Gemma2SdpaAttention(\n",
       "              (q_proj): lora.Linear4bit(\n",
       "                (base_layer): Linear4bit(in_features=3584, out_features=4096, bias=False)\n",
       "                (lora_dropout): ModuleDict(\n",
       "                  (default): Dropout(p=0.05, inplace=False)\n",
       "                )\n",
       "                (lora_A): ModuleDict(\n",
       "                  (default): Linear(in_features=3584, out_features=16, bias=False)\n",
       "                )\n",
       "                (lora_B): ModuleDict(\n",
       "                  (default): Linear(in_features=16, out_features=4096, bias=False)\n",
       "                )\n",
       "                (lora_embedding_A): ParameterDict()\n",
       "                (lora_embedding_B): ParameterDict()\n",
       "                (lora_magnitude_vector): ModuleDict()\n",
       "              )\n",
       "              (k_proj): lora.Linear4bit(\n",
       "                (base_layer): Linear4bit(in_features=3584, out_features=2048, bias=False)\n",
       "                (lora_dropout): ModuleDict(\n",
       "                  (default): Dropout(p=0.05, inplace=False)\n",
       "                )\n",
       "                (lora_A): ModuleDict(\n",
       "                  (default): Linear(in_features=3584, out_features=16, bias=False)\n",
       "                )\n",
       "                (lora_B): ModuleDict(\n",
       "                  (default): Linear(in_features=16, out_features=2048, bias=False)\n",
       "                )\n",
       "                (lora_embedding_A): ParameterDict()\n",
       "                (lora_embedding_B): ParameterDict()\n",
       "                (lora_magnitude_vector): ModuleDict()\n",
       "              )\n",
       "              (v_proj): lora.Linear4bit(\n",
       "                (base_layer): Linear4bit(in_features=3584, out_features=2048, bias=False)\n",
       "                (lora_dropout): ModuleDict(\n",
       "                  (default): Dropout(p=0.05, inplace=False)\n",
       "                )\n",
       "                (lora_A): ModuleDict(\n",
       "                  (default): Linear(in_features=3584, out_features=16, bias=False)\n",
       "                )\n",
       "                (lora_B): ModuleDict(\n",
       "                  (default): Linear(in_features=16, out_features=2048, bias=False)\n",
       "                )\n",
       "                (lora_embedding_A): ParameterDict()\n",
       "                (lora_embedding_B): ParameterDict()\n",
       "                (lora_magnitude_vector): ModuleDict()\n",
       "              )\n",
       "              (o_proj): Linear4bit(in_features=4096, out_features=3584, bias=False)\n",
       "              (rotary_emb): Gemma2RotaryEmbedding()\n",
       "            )\n",
       "            (mlp): Gemma2MLP(\n",
       "              (gate_proj): Linear4bit(in_features=3584, out_features=14336, bias=False)\n",
       "              (up_proj): Linear4bit(in_features=3584, out_features=14336, bias=False)\n",
       "              (down_proj): Linear4bit(in_features=14336, out_features=3584, bias=False)\n",
       "              (act_fn): PytorchGELUTanh()\n",
       "            )\n",
       "            (input_layernorm): Gemma2RMSNorm((3584,), eps=1e-06)\n",
       "            (post_attention_layernorm): Gemma2RMSNorm((3584,), eps=1e-06)\n",
       "            (pre_feedforward_layernorm): Gemma2RMSNorm((3584,), eps=1e-06)\n",
       "            (post_feedforward_layernorm): Gemma2RMSNorm((3584,), eps=1e-06)\n",
       "          )\n",
       "        )\n",
       "        (norm): Gemma2RMSNorm((3584,), eps=1e-06)\n",
       "      )\n",
       "      (score): ModulesToSaveWrapper(\n",
       "        (original_module): Linear(in_features=3584, out_features=2, bias=False)\n",
       "        (modules_to_save): ModuleDict(\n",
       "          (default): Linear(in_features=3584, out_features=2, bias=False)\n",
       "        )\n",
       "      )\n",
       "    )\n",
       "  )\n",
       ")"
      ]
     },
     "execution_count": 11,
     "metadata": {},
     "output_type": "execute_result"
    }
   ],
   "source": [
    "model_0.eval()\n",
    "model_1.eval()"
   ]
  },
  {
   "cell_type": "markdown",
   "id": "29625bc5",
   "metadata": {
    "papermill": {
     "duration": 0.005238,
     "end_time": "2025-01-27T09:16:03.669556",
     "exception": false,
     "start_time": "2025-01-27T09:16:03.664318",
     "status": "completed"
    },
    "tags": []
   },
   "source": [
    "# Inference"
   ]
  },
  {
   "cell_type": "code",
   "execution_count": 12,
   "id": "5a1fe520",
   "metadata": {
    "_kg_hide-output": true,
    "execution": {
     "iopub.execute_input": "2025-01-27T09:16:03.681005Z",
     "iopub.status.busy": "2025-01-27T09:16:03.680745Z",
     "iopub.status.idle": "2025-01-27T09:16:03.686657Z",
     "shell.execute_reply": "2025-01-27T09:16:03.685778Z"
    },
    "papermill": {
     "duration": 0.013088,
     "end_time": "2025-01-27T09:16:03.687878",
     "exception": false,
     "start_time": "2025-01-27T09:16:03.674790",
     "status": "completed"
    },
    "tags": []
   },
   "outputs": [
    {
     "name": "stderr",
     "output_type": "stream",
     "text": [
      "<ipython-input-12-aeb673b51808>:2: FutureWarning: `torch.cuda.amp.autocast(args...)` is deprecated. Please use `torch.amp.autocast('cuda', args...)` instead.\n",
      "  @torch.cuda.amp.autocast()\n"
     ]
    }
   ],
   "source": [
    "@torch.no_grad()\n",
    "@torch.cuda.amp.autocast()\n",
    "def inference(df, model, device, batch_size, max_length=CFG.max_length):\n",
    "    winners = []\n",
    "    \n",
    "    for start_idx in range(0, len(df), batch_size):\n",
    "        end_idx = min(start_idx + batch_size, len(df))\n",
    "        tmp = df.iloc[start_idx:end_idx]\n",
    "        input_ids = tmp[\"input_ids\"].to_list()\n",
    "        attention_mask = tmp[\"attention_mask\"].to_list()\n",
    "        inputs = pad_without_fast_tokenizer_warning(\n",
    "            tokenizer,\n",
    "            {\"input_ids\": input_ids, \"attention_mask\": attention_mask},\n",
    "            padding=\"longest\",\n",
    "            pad_to_multiple_of=None,\n",
    "            return_tensors=\"pt\",\n",
    "        )\n",
    "        outputs = model(**inputs.to(device))\n",
    "        proba = outputs.logits.softmax(-1).cpu()\n",
    "        \n",
    "        winners.extend(proba[:, 1].tolist())\n",
    "    \n",
    "    df['winner'] = winners\n",
    "    \n",
    "    return df"
   ]
  },
  {
   "cell_type": "markdown",
   "id": "08c76537",
   "metadata": {
    "papermill": {
     "duration": 0.005158,
     "end_time": "2025-01-27T09:16:03.698515",
     "exception": false,
     "start_time": "2025-01-27T09:16:03.693357",
     "status": "completed"
    },
    "tags": []
   },
   "source": [
    "## No TTA"
   ]
  },
  {
   "cell_type": "code",
   "execution_count": 13,
   "id": "924e243d",
   "metadata": {
    "execution": {
     "iopub.execute_input": "2025-01-27T09:16:03.709790Z",
     "iopub.status.busy": "2025-01-27T09:16:03.709579Z",
     "iopub.status.idle": "2025-01-27T09:16:03.712665Z",
     "shell.execute_reply": "2025-01-27T09:16:03.712035Z"
    },
    "papermill": {
     "duration": 0.010085,
     "end_time": "2025-01-27T09:16:03.713881",
     "exception": false,
     "start_time": "2025-01-27T09:16:03.703796",
     "status": "completed"
    },
    "tags": []
   },
   "outputs": [],
   "source": [
    "global_timer = timer()"
   ]
  },
  {
   "cell_type": "code",
   "execution_count": 14,
   "id": "503e0892",
   "metadata": {
    "execution": {
     "iopub.execute_input": "2025-01-27T09:16:03.725486Z",
     "iopub.status.busy": "2025-01-27T09:16:03.725270Z",
     "iopub.status.idle": "2025-01-27T09:16:03.740241Z",
     "shell.execute_reply": "2025-01-27T09:16:03.739666Z"
    },
    "papermill": {
     "duration": 0.021953,
     "end_time": "2025-01-27T09:16:03.741464",
     "exception": false,
     "start_time": "2025-01-27T09:16:03.719511",
     "status": "completed"
    },
    "tags": []
   },
   "outputs": [],
   "source": [
    "data['index'] = np.arange(len(data), dtype=np.int32)\n",
    "data = data.sort_values(\"length\", ascending=False)"
   ]
  },
  {
   "cell_type": "code",
   "execution_count": 15,
   "id": "3a56f3c6",
   "metadata": {
    "execution": {
     "iopub.execute_input": "2025-01-27T09:16:03.753007Z",
     "iopub.status.busy": "2025-01-27T09:16:03.752785Z",
     "iopub.status.idle": "2025-01-27T09:16:03.758018Z",
     "shell.execute_reply": "2025-01-27T09:16:03.757390Z"
    },
    "papermill": {
     "duration": 0.012537,
     "end_time": "2025-01-27T09:16:03.759329",
     "exception": false,
     "start_time": "2025-01-27T09:16:03.746792",
     "status": "completed"
    },
    "tags": []
   },
   "outputs": [],
   "source": [
    "data_dict = {}\n",
    "data_dict[0] = data[data[\"length\"] > 1024].reset_index(drop=True)\n",
    "data_dict[1] = data[data[\"length\"] <= 1024].reset_index(drop=True)"
   ]
  },
  {
   "cell_type": "code",
   "execution_count": 16,
   "id": "9c00f81f",
   "metadata": {
    "execution": {
     "iopub.execute_input": "2025-01-27T09:16:03.771200Z",
     "iopub.status.busy": "2025-01-27T09:16:03.770955Z",
     "iopub.status.idle": "2025-01-27T09:16:07.684882Z",
     "shell.execute_reply": "2025-01-27T09:16:07.684141Z"
    },
    "papermill": {
     "duration": 3.921893,
     "end_time": "2025-01-27T09:16:07.686578",
     "exception": false,
     "start_time": "2025-01-27T09:16:03.764685",
     "status": "completed"
    },
    "tags": []
   },
   "outputs": [],
   "source": [
    "result_df = []\n",
    "for i, batch_size in enumerate([CFG.batch_size, CFG.batch_size]):\n",
    "    if len(data_dict[i]) == 0:\n",
    "        continue\n",
    "        \n",
    "    sub_1 = data_dict[i].iloc[0::2].copy()\n",
    "    sub_2 = data_dict[i].iloc[1::2].copy()\n",
    "    \n",
    "    with ThreadPoolExecutor(max_workers=2) as executor:\n",
    "        results = executor.map(\n",
    "            inference, \n",
    "            (sub_1, sub_2), \n",
    "            (model_0, model_1), \n",
    "            (torch.device(\"cuda:0\"), torch.device(\"cuda:1\")), \n",
    "            (batch_size, batch_size)\n",
    "        )\n",
    "        \n",
    "    result_df.append(pd.concat(list(results), axis=0))"
   ]
  },
  {
   "cell_type": "code",
   "execution_count": 17,
   "id": "1589c8ba",
   "metadata": {
    "execution": {
     "iopub.execute_input": "2025-01-27T09:16:07.699772Z",
     "iopub.status.busy": "2025-01-27T09:16:07.699462Z",
     "iopub.status.idle": "2025-01-27T09:16:07.704473Z",
     "shell.execute_reply": "2025-01-27T09:16:07.703791Z"
    },
    "papermill": {
     "duration": 0.013037,
     "end_time": "2025-01-27T09:16:07.705717",
     "exception": false,
     "start_time": "2025-01-27T09:16:07.692680",
     "status": "completed"
    },
    "tags": []
   },
   "outputs": [],
   "source": [
    "result_df = pd.concat(result_df).sort_values('index').reset_index(drop=True)"
   ]
  },
  {
   "cell_type": "markdown",
   "id": "e25a382b",
   "metadata": {
    "papermill": {
     "duration": 0.005138,
     "end_time": "2025-01-27T09:16:07.716634",
     "exception": false,
     "start_time": "2025-01-27T09:16:07.711496",
     "status": "completed"
    },
    "tags": []
   },
   "source": [
    "## TTA"
   ]
  },
  {
   "cell_type": "code",
   "execution_count": 18,
   "id": "1e36e26c",
   "metadata": {
    "execution": {
     "iopub.execute_input": "2025-01-27T09:16:07.728394Z",
     "iopub.status.busy": "2025-01-27T09:16:07.728173Z",
     "iopub.status.idle": "2025-01-27T09:16:07.732649Z",
     "shell.execute_reply": "2025-01-27T09:16:07.731922Z"
    },
    "papermill": {
     "duration": 0.011888,
     "end_time": "2025-01-27T09:16:07.734018",
     "exception": false,
     "start_time": "2025-01-27T09:16:07.722130",
     "status": "completed"
    },
    "tags": []
   },
   "outputs": [],
   "source": [
    "aug_data['index'] = np.arange(len(aug_data), dtype=np.int32)\n",
    "aug_data = aug_data.sort_values(\"length\", ascending=False)"
   ]
  },
  {
   "cell_type": "code",
   "execution_count": 19,
   "id": "9952082b",
   "metadata": {
    "execution": {
     "iopub.execute_input": "2025-01-27T09:16:07.746380Z",
     "iopub.status.busy": "2025-01-27T09:16:07.746152Z",
     "iopub.status.idle": "2025-01-27T09:16:07.759447Z",
     "shell.execute_reply": "2025-01-27T09:16:07.758746Z"
    },
    "papermill": {
     "duration": 0.020778,
     "end_time": "2025-01-27T09:16:07.760712",
     "exception": false,
     "start_time": "2025-01-27T09:16:07.739934",
     "status": "completed"
    },
    "tags": []
   },
   "outputs": [],
   "source": [
    "CONFIDENCE_THRESHOLD = 0.2\n",
    "not_confident_mask = abs(result_df['winner'] - 0.5) < CONFIDENCE_THRESHOLD\n",
    "\n",
    "aug_data = aug_data[aug_data['index'].isin(result_df[not_confident_mask]['index'])]"
   ]
  },
  {
   "cell_type": "code",
   "execution_count": 20,
   "id": "ba204a9d",
   "metadata": {
    "execution": {
     "iopub.execute_input": "2025-01-27T09:16:07.773222Z",
     "iopub.status.busy": "2025-01-27T09:16:07.772974Z",
     "iopub.status.idle": "2025-01-27T09:16:07.778212Z",
     "shell.execute_reply": "2025-01-27T09:16:07.777577Z"
    },
    "papermill": {
     "duration": 0.012686,
     "end_time": "2025-01-27T09:16:07.779415",
     "exception": false,
     "start_time": "2025-01-27T09:16:07.766729",
     "status": "completed"
    },
    "tags": []
   },
   "outputs": [],
   "source": [
    "aug_data_dict = {}\n",
    "aug_data_dict[0] = aug_data[aug_data[\"length\"] > 1024].reset_index(drop=True)\n",
    "aug_data_dict[1] = aug_data[aug_data[\"length\"] <= 1024].reset_index(drop=True)"
   ]
  },
  {
   "cell_type": "code",
   "execution_count": 21,
   "id": "cecd7cbd",
   "metadata": {
    "execution": {
     "iopub.execute_input": "2025-01-27T09:16:07.791607Z",
     "iopub.status.busy": "2025-01-27T09:16:07.791402Z",
     "iopub.status.idle": "2025-01-27T09:16:10.140413Z",
     "shell.execute_reply": "2025-01-27T09:16:10.139339Z"
    },
    "papermill": {
     "duration": 2.35689,
     "end_time": "2025-01-27T09:16:10.142126",
     "exception": false,
     "start_time": "2025-01-27T09:16:07.785236",
     "status": "completed"
    },
    "tags": []
   },
   "outputs": [],
   "source": [
    "aug_result_df = []\n",
    "for i, batch_size in enumerate([CFG.batch_size, CFG.batch_size]):\n",
    "    if len(aug_data_dict[i]) == 0:\n",
    "        continue\n",
    "\n",
    "    if timer() - global_timer > (time_limit - 300):\n",
    "        break\n",
    "        \n",
    "    sub_1 = aug_data_dict[i].iloc[0::2].copy()\n",
    "    sub_2 = aug_data_dict[i].iloc[1::2].copy()\n",
    "    \n",
    "    with ThreadPoolExecutor(max_workers=2) as executor:\n",
    "        results = executor.map(\n",
    "            inference, \n",
    "            (sub_1, sub_2), \n",
    "            (model_0, model_1), \n",
    "            (torch.device(\"cuda:0\"), torch.device(\"cuda:1\")), \n",
    "            (batch_size, batch_size)\n",
    "        )\n",
    "        \n",
    "    aug_result_df.append(pd.concat(list(results), axis=0))"
   ]
  },
  {
   "cell_type": "code",
   "execution_count": 22,
   "id": "e2037156",
   "metadata": {
    "execution": {
     "iopub.execute_input": "2025-01-27T09:16:10.154707Z",
     "iopub.status.busy": "2025-01-27T09:16:10.154465Z",
     "iopub.status.idle": "2025-01-27T09:16:10.159435Z",
     "shell.execute_reply": "2025-01-27T09:16:10.158491Z"
    },
    "papermill": {
     "duration": 0.012633,
     "end_time": "2025-01-27T09:16:10.160746",
     "exception": false,
     "start_time": "2025-01-27T09:16:10.148113",
     "status": "completed"
    },
    "tags": []
   },
   "outputs": [
    {
     "name": "stdout",
     "output_type": "stream",
     "text": [
      "time for 10_000 (max  4.5 hr):  6.0\n",
      "time for 25_000 (max 12.0 hr): 14.9\n"
     ]
    }
   ],
   "source": [
    "time_taken = timer() - global_timer\n",
    "\n",
    "print(f'time for 10_000 (max  4.5 hr): {10_000/3*time_taken/60/60:4.1f}')\n",
    "print(f'time for 25_000 (max 12.0 hr): {25_000/3*time_taken/60/60:4.1f}')"
   ]
  },
  {
   "cell_type": "markdown",
   "id": "2dffe4bc",
   "metadata": {
    "papermill": {
     "duration": 0.005462,
     "end_time": "2025-01-27T09:16:10.171791",
     "exception": false,
     "start_time": "2025-01-27T09:16:10.166329",
     "status": "completed"
    },
    "tags": []
   },
   "source": [
    "## Combining the results"
   ]
  },
  {
   "cell_type": "code",
   "execution_count": 23,
   "id": "f432e602",
   "metadata": {
    "execution": {
     "iopub.execute_input": "2025-01-27T09:16:10.183841Z",
     "iopub.status.busy": "2025-01-27T09:16:10.183636Z",
     "iopub.status.idle": "2025-01-27T09:16:10.210872Z",
     "shell.execute_reply": "2025-01-27T09:16:10.210087Z"
    },
    "papermill": {
     "duration": 0.034605,
     "end_time": "2025-01-27T09:16:10.212039",
     "exception": false,
     "start_time": "2025-01-27T09:16:10.177434",
     "status": "completed"
    },
    "tags": []
   },
   "outputs": [],
   "source": [
    "if len(aug_result_df) > 0:\n",
    "    aug_result_df = pd.concat(aug_result_df).sort_values('index').reset_index(drop=True)\n",
    "    aug_result_df[\"winner\"] = 1 - aug_result_df['winner']\n",
    "    \n",
    "    result_df = result_df.merge(\n",
    "        aug_result_df[['index', 'winner']], \n",
    "        on='index', \n",
    "        how='left', \n",
    "        suffixes=('', '_aug')\n",
    "    )\n",
    "    \n",
    "    mask = result_df['winner_aug'].notna()\n",
    "    result_df.loc[mask, 'winner'] = (result_df.loc[mask, 'winner'] + result_df.loc[mask, 'winner_aug']) / 2\n",
    "    \n",
    "    result_df = result_df.drop('winner_aug', axis=1)"
   ]
  },
  {
   "cell_type": "markdown",
   "id": "937c8405",
   "metadata": {
    "papermill": {
     "duration": 0.00546,
     "end_time": "2025-01-27T09:16:10.223318",
     "exception": false,
     "start_time": "2025-01-27T09:16:10.217858",
     "status": "completed"
    },
    "tags": []
   },
   "source": [
    "# Submission"
   ]
  },
  {
   "cell_type": "code",
   "execution_count": 24,
   "id": "a3a5fcd2",
   "metadata": {
    "execution": {
     "iopub.execute_input": "2025-01-27T09:16:10.235441Z",
     "iopub.status.busy": "2025-01-27T09:16:10.235214Z",
     "iopub.status.idle": "2025-01-27T09:16:10.253012Z",
     "shell.execute_reply": "2025-01-27T09:16:10.252325Z"
    },
    "papermill": {
     "duration": 0.025414,
     "end_time": "2025-01-27T09:16:10.254397",
     "exception": false,
     "start_time": "2025-01-27T09:16:10.228983",
     "status": "completed"
    },
    "tags": []
   },
   "outputs": [
    {
     "data": {
      "text/html": [
       "<div>\n",
       "<style scoped>\n",
       "    .dataframe tbody tr th:only-of-type {\n",
       "        vertical-align: middle;\n",
       "    }\n",
       "\n",
       "    .dataframe tbody tr th {\n",
       "        vertical-align: top;\n",
       "    }\n",
       "\n",
       "    .dataframe thead th {\n",
       "        text-align: right;\n",
       "    }\n",
       "</style>\n",
       "<table border=\"1\" class=\"dataframe\">\n",
       "  <thead>\n",
       "    <tr style=\"text-align: right;\">\n",
       "      <th></th>\n",
       "      <th>id</th>\n",
       "      <th>winner</th>\n",
       "    </tr>\n",
       "  </thead>\n",
       "  <tbody>\n",
       "    <tr>\n",
       "      <th>0</th>\n",
       "      <td>327228</td>\n",
       "      <td>model_b</td>\n",
       "    </tr>\n",
       "    <tr>\n",
       "      <th>1</th>\n",
       "      <td>1139415</td>\n",
       "      <td>model_a</td>\n",
       "    </tr>\n",
       "    <tr>\n",
       "      <th>2</th>\n",
       "      <td>1235630</td>\n",
       "      <td>model_a</td>\n",
       "    </tr>\n",
       "  </tbody>\n",
       "</table>\n",
       "</div>"
      ],
      "text/plain": [
       "        id   winner\n",
       "0   327228  model_b\n",
       "1  1139415  model_a\n",
       "2  1235630  model_a"
      ]
     },
     "execution_count": 24,
     "metadata": {},
     "output_type": "execute_result"
    }
   ],
   "source": [
    "sub = result_df[['id', 'winner']].copy()\n",
    "sub['winner'] = np.where(sub['winner'] < 0.5, 'model_a', 'model_b')\n",
    "sub.to_csv('submission.csv', index=False)\n",
    "sub.head()"
   ]
  }
 ],
 "metadata": {
  "kaggle": {
   "accelerator": "nvidiaTeslaT4",
   "dataSources": [
    {
     "databundleVersionId": 10131489,
     "sourceId": 86946,
     "sourceType": "competition"
    },
    {
     "datasetId": 6447806,
     "sourceId": 10576723,
     "sourceType": "datasetVersion"
    },
    {
     "modelId": 193770,
     "modelInstanceId": 171453,
     "sourceId": 200971,
     "sourceType": "modelInstanceVersion"
    }
   ],
   "dockerImageVersionId": 30823,
   "isGpuEnabled": true,
   "isInternetEnabled": false,
   "language": "python",
   "sourceType": "notebook"
  },
  "kernelspec": {
   "display_name": "Python 3",
   "language": "python",
   "name": "python3"
  },
  "language_info": {
   "codemirror_mode": {
    "name": "ipython",
    "version": 3
   },
   "file_extension": ".py",
   "mimetype": "text/x-python",
   "name": "python",
   "nbconvert_exporter": "python",
   "pygments_lexer": "ipython3",
   "version": "3.10.12"
  },
  "papermill": {
   "default_parameters": {},
   "duration": 98.262173,
   "end_time": "2025-01-27T09:16:13.343373",
   "environment_variables": {},
   "exception": null,
   "input_path": "__notebook__.ipynb",
   "output_path": "__notebook__.ipynb",
   "parameters": {},
   "start_time": "2025-01-27T09:14:35.081200",
   "version": "2.6.0"
  }
 },
 "nbformat": 4,
 "nbformat_minor": 5
}
