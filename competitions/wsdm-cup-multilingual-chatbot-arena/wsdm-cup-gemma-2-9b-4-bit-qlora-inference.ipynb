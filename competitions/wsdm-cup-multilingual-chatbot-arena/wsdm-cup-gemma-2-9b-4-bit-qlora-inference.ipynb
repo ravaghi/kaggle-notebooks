{
 "cells": [
  {
   "cell_type": "markdown",
   "id": "464a1205",
   "metadata": {
    "papermill": {
     "duration": 0.006285,
     "end_time": "2025-01-27T17:09:01.776103",
     "exception": false,
     "start_time": "2025-01-27T17:09:01.769818",
     "status": "completed"
    },
    "tags": []
   },
   "source": [
    "# Imports and configs"
   ]
  },
  {
   "cell_type": "code",
   "execution_count": 1,
   "id": "1fa4746e",
   "metadata": {
    "execution": {
     "iopub.execute_input": "2025-01-27T17:09:01.785676Z",
     "iopub.status.busy": "2025-01-27T17:09:01.785398Z",
     "iopub.status.idle": "2025-01-27T17:09:15.762923Z",
     "shell.execute_reply": "2025-01-27T17:09:15.762249Z"
    },
    "papermill": {
     "duration": 13.983931,
     "end_time": "2025-01-27T17:09:15.764526",
     "exception": false,
     "start_time": "2025-01-27T17:09:01.780595",
     "status": "completed"
    },
    "tags": []
   },
   "outputs": [],
   "source": [
    "from transformers import Gemma2ForSequenceClassification, GemmaTokenizerFast\n",
    "from transformers.data.data_collator import pad_without_fast_tokenizer_warning\n",
    "from concurrent.futures import ThreadPoolExecutor\n",
    "from timeit import default_timer as timer\n",
    "from peft import PeftModel\n",
    "from tqdm import tqdm\n",
    "import pandas as pd\n",
    "import numpy as np\n",
    "import torch"
   ]
  },
  {
   "cell_type": "code",
   "execution_count": 2,
   "id": "ae64a90e",
   "metadata": {
    "execution": {
     "iopub.execute_input": "2025-01-27T17:09:15.774272Z",
     "iopub.status.busy": "2025-01-27T17:09:15.773780Z",
     "iopub.status.idle": "2025-01-27T17:09:15.777128Z",
     "shell.execute_reply": "2025-01-27T17:09:15.776574Z"
    },
    "papermill": {
     "duration": 0.009205,
     "end_time": "2025-01-27T17:09:15.778227",
     "exception": false,
     "start_time": "2025-01-27T17:09:15.769022",
     "status": "completed"
    },
    "tags": []
   },
   "outputs": [],
   "source": [
    "class CFG:\n",
    "    test_path = \"/kaggle/input/wsdm-cup-multilingual-chatbot-arena/test.parquet\"\n",
    "    \n",
    "    gemma_dir = \"/kaggle/input/gemma-2-9b-4bit-it-unsloth/transformers/default/1/gemma-2-9b-it-4bit-unsloth_old\"\n",
    "    lora_dir = \"/kaggle/input/wsdm-cup-gemma-2-9b-4-bit-qlora/gemma2-9b-4bit/gemma-2-9b-it-bnb-4bit-3072-8/checkpoint-3027\"\n",
    "    \n",
    "    max_length = 3072\n",
    "    batch_size = 4"
   ]
  },
  {
   "cell_type": "markdown",
   "id": "1fb2e905",
   "metadata": {
    "papermill": {
     "duration": 0.003802,
     "end_time": "2025-01-27T17:09:15.786103",
     "exception": false,
     "start_time": "2025-01-27T17:09:15.782301",
     "status": "completed"
    },
    "tags": []
   },
   "source": [
    "# Loading data"
   ]
  },
  {
   "cell_type": "code",
   "execution_count": 3,
   "id": "92d9b853",
   "metadata": {
    "execution": {
     "iopub.execute_input": "2025-01-27T17:09:15.794814Z",
     "iopub.status.busy": "2025-01-27T17:09:15.794611Z",
     "iopub.status.idle": "2025-01-27T17:09:15.930870Z",
     "shell.execute_reply": "2025-01-27T17:09:15.930210Z"
    },
    "papermill": {
     "duration": 0.142214,
     "end_time": "2025-01-27T17:09:15.932331",
     "exception": false,
     "start_time": "2025-01-27T17:09:15.790117",
     "status": "completed"
    },
    "tags": []
   },
   "outputs": [],
   "source": [
    "test = pd.read_parquet(CFG.test_path).fillna('')"
   ]
  },
  {
   "cell_type": "code",
   "execution_count": 4,
   "id": "a5af3e68",
   "metadata": {
    "execution": {
     "iopub.execute_input": "2025-01-27T17:09:15.941744Z",
     "iopub.status.busy": "2025-01-27T17:09:15.941521Z",
     "iopub.status.idle": "2025-01-27T17:09:15.944612Z",
     "shell.execute_reply": "2025-01-27T17:09:15.944035Z"
    },
    "papermill": {
     "duration": 0.008993,
     "end_time": "2025-01-27T17:09:15.945764",
     "exception": false,
     "start_time": "2025-01-27T17:09:15.936771",
     "status": "completed"
    },
    "tags": []
   },
   "outputs": [],
   "source": [
    "if len(test) > 10_000:\n",
    "    time_limit = int(3600 * 12) \n",
    "else:\n",
    "    time_limit = int(3600 * 4.75)"
   ]
  },
  {
   "cell_type": "markdown",
   "id": "66393283",
   "metadata": {
    "papermill": {
     "duration": 0.004011,
     "end_time": "2025-01-27T17:09:15.953930",
     "exception": false,
     "start_time": "2025-01-27T17:09:15.949919",
     "status": "completed"
    },
    "tags": []
   },
   "source": [
    "# Tokenizing"
   ]
  },
  {
   "cell_type": "code",
   "execution_count": 5,
   "id": "debedd3b",
   "metadata": {
    "execution": {
     "iopub.execute_input": "2025-01-27T17:09:15.962844Z",
     "iopub.status.busy": "2025-01-27T17:09:15.962628Z",
     "iopub.status.idle": "2025-01-27T17:09:15.966470Z",
     "shell.execute_reply": "2025-01-27T17:09:15.965903Z"
    },
    "papermill": {
     "duration": 0.009552,
     "end_time": "2025-01-27T17:09:15.967583",
     "exception": false,
     "start_time": "2025-01-27T17:09:15.958031",
     "status": "completed"
    },
    "tags": []
   },
   "outputs": [],
   "source": [
    "def tokenize(tokenizer, prompt, response_a, response_b, max_length=CFG.max_length):\n",
    "    prompt = [\"<prompt>: \" + t for t in prompt]\n",
    "    response_a = [\"\\n\\n<response_a>: \" + t for t in response_a]\n",
    "    response_b = [\"\\n\\n<response_b>: \" + t for t in response_b]\n",
    "    \n",
    "    texts = [p + r_a + r_b for p, r_a, r_b in zip(prompt, response_a, response_b)]\n",
    "    tokenized = tokenizer(texts, max_length=max_length, truncation=True)\n",
    "    \n",
    "    return tokenized['input_ids'], tokenized['attention_mask']"
   ]
  },
  {
   "cell_type": "code",
   "execution_count": 6,
   "id": "427fd847",
   "metadata": {
    "execution": {
     "iopub.execute_input": "2025-01-27T17:09:15.976535Z",
     "iopub.status.busy": "2025-01-27T17:09:15.976337Z",
     "iopub.status.idle": "2025-01-27T17:09:16.889943Z",
     "shell.execute_reply": "2025-01-27T17:09:16.889271Z"
    },
    "papermill": {
     "duration": 0.919824,
     "end_time": "2025-01-27T17:09:16.891583",
     "exception": false,
     "start_time": "2025-01-27T17:09:15.971759",
     "status": "completed"
    },
    "tags": []
   },
   "outputs": [],
   "source": [
    "tokenizer = GemmaTokenizerFast.from_pretrained(CFG.gemma_dir)\n",
    "tokenizer.add_eos_token = True\n",
    "tokenizer.padding_side = \"right\""
   ]
  },
  {
   "cell_type": "code",
   "execution_count": 7,
   "id": "e6d532c9",
   "metadata": {
    "execution": {
     "iopub.execute_input": "2025-01-27T17:09:16.901370Z",
     "iopub.status.busy": "2025-01-27T17:09:16.901092Z",
     "iopub.status.idle": "2025-01-27T17:09:16.933162Z",
     "shell.execute_reply": "2025-01-27T17:09:16.932437Z"
    },
    "papermill": {
     "duration": 0.038085,
     "end_time": "2025-01-27T17:09:16.934329",
     "exception": false,
     "start_time": "2025-01-27T17:09:16.896244",
     "status": "completed"
    },
    "tags": []
   },
   "outputs": [
    {
     "name": "stderr",
     "output_type": "stream",
     "text": [
      "100%|██████████| 3/3 [00:00<00:00, 856.04it/s]\n",
      "100%|██████████| 3/3 [00:00<00:00, 786.43it/s]\n",
      "100%|██████████| 3/3 [00:00<00:00, 665.87it/s]\n"
     ]
    }
   ],
   "source": [
    "for col in ['prompt', 'response_a', 'response_b']:\n",
    "    test[col] = test[col].fillna('')\n",
    "    text_list = []\n",
    "    if col == \"prompt\":\n",
    "        max_no = 512\n",
    "        s_no = 255\n",
    "        e_no = -256\n",
    "    else:\n",
    "        max_no = 3072\n",
    "        s_no = 1535\n",
    "        e_no = -1536\n",
    "    for text in tqdm(test[col]):\n",
    "        encoded = tokenizer(text, return_offsets_mapping=True)\n",
    "        if len(encoded['input_ids']) > max_no:\n",
    "            start_idx, end_idx = encoded['offset_mapping'][s_no]\n",
    "            new_text = text[:end_idx]\n",
    "            start_idx, end_idx = encoded['offset_mapping'][e_no]\n",
    "            new_text = new_text + \"\\n(snip)\\n\" + text[start_idx:]\n",
    "            text = new_text\n",
    "        text_list.append(text)\n",
    "    test[col] = text_list"
   ]
  },
  {
   "cell_type": "code",
   "execution_count": 8,
   "id": "3efed85e",
   "metadata": {
    "execution": {
     "iopub.execute_input": "2025-01-27T17:09:16.944530Z",
     "iopub.status.busy": "2025-01-27T17:09:16.944302Z",
     "iopub.status.idle": "2025-01-27T17:09:16.961107Z",
     "shell.execute_reply": "2025-01-27T17:09:16.960297Z"
    },
    "papermill": {
     "duration": 0.023361,
     "end_time": "2025-01-27T17:09:16.962515",
     "exception": false,
     "start_time": "2025-01-27T17:09:16.939154",
     "status": "completed"
    },
    "tags": []
   },
   "outputs": [],
   "source": [
    "data = pd.DataFrame()\n",
    "data[\"id\"] = test[\"id\"]\n",
    "data[\"input_ids\"], data[\"attention_mask\"] = tokenize(tokenizer, test[\"prompt\"], test[\"response_a\"], test[\"response_b\"])\n",
    "data[\"length\"] = data[\"input_ids\"].apply(len)\n",
    "\n",
    "aug_data = pd.DataFrame()\n",
    "aug_data[\"id\"] = test[\"id\"]\n",
    "# swap response_a & response_b\n",
    "aug_data['input_ids'], aug_data['attention_mask'] = tokenize(tokenizer, test[\"prompt\"], test[\"response_b\"], test[\"response_a\"])\n",
    "aug_data[\"length\"] = aug_data[\"input_ids\"].apply(len)"
   ]
  },
  {
   "cell_type": "markdown",
   "id": "cdbdcafa",
   "metadata": {
    "papermill": {
     "duration": 0.004582,
     "end_time": "2025-01-27T17:09:16.973609",
     "exception": false,
     "start_time": "2025-01-27T17:09:16.969027",
     "status": "completed"
    },
    "tags": []
   },
   "source": [
    "# Model"
   ]
  },
  {
   "cell_type": "code",
   "execution_count": 9,
   "id": "68e6ee2d",
   "metadata": {
    "_kg_hide-output": true,
    "execution": {
     "iopub.execute_input": "2025-01-27T17:09:16.983776Z",
     "iopub.status.busy": "2025-01-27T17:09:16.983540Z",
     "iopub.status.idle": "2025-01-27T17:10:04.710724Z",
     "shell.execute_reply": "2025-01-27T17:10:04.709997Z"
    },
    "papermill": {
     "duration": 47.734182,
     "end_time": "2025-01-27T17:10:04.712482",
     "exception": false,
     "start_time": "2025-01-27T17:09:16.978300",
     "status": "completed"
    },
    "tags": []
   },
   "outputs": [
    {
     "name": "stderr",
     "output_type": "stream",
     "text": [
      "Unused kwargs: ['_load_in_4bit', '_load_in_8bit', 'quant_method']. These kwargs are not used in <class 'transformers.utils.quantization_config.BitsAndBytesConfig'>.\n",
      "Some weights of Gemma2ForSequenceClassification were not initialized from the model checkpoint at /kaggle/input/gemma-2-9b-4bit-it-unsloth/transformers/default/1/gemma-2-9b-it-4bit-unsloth_old and are newly initialized: ['score.weight']\n",
      "You should probably TRAIN this model on a down-stream task to be able to use it for predictions and inference.\n",
      "Unused kwargs: ['_load_in_4bit', '_load_in_8bit', 'quant_method']. These kwargs are not used in <class 'transformers.utils.quantization_config.BitsAndBytesConfig'>.\n",
      "Some weights of Gemma2ForSequenceClassification were not initialized from the model checkpoint at /kaggle/input/gemma-2-9b-4bit-it-unsloth/transformers/default/1/gemma-2-9b-it-4bit-unsloth_old and are newly initialized: ['score.weight']\n",
      "You should probably TRAIN this model on a down-stream task to be able to use it for predictions and inference.\n"
     ]
    }
   ],
   "source": [
    "model_0 = Gemma2ForSequenceClassification.from_pretrained(\n",
    "    CFG.gemma_dir,\n",
    "    device_map=torch.device(\"cuda:0\"),\n",
    "    use_cache=False,\n",
    ")\n",
    "\n",
    "model_1 = Gemma2ForSequenceClassification.from_pretrained(\n",
    "    CFG.gemma_dir,\n",
    "    device_map=torch.device(\"cuda:1\"),\n",
    "    use_cache=False,\n",
    ")"
   ]
  },
  {
   "cell_type": "code",
   "execution_count": 10,
   "id": "965df906",
   "metadata": {
    "execution": {
     "iopub.execute_input": "2025-01-27T17:10:04.724443Z",
     "iopub.status.busy": "2025-01-27T17:10:04.724201Z",
     "iopub.status.idle": "2025-01-27T17:10:05.780944Z",
     "shell.execute_reply": "2025-01-27T17:10:05.779934Z"
    },
    "papermill": {
     "duration": 1.0645,
     "end_time": "2025-01-27T17:10:05.782623",
     "exception": false,
     "start_time": "2025-01-27T17:10:04.718123",
     "status": "completed"
    },
    "tags": []
   },
   "outputs": [],
   "source": [
    "model_0 = PeftModel.from_pretrained(model_0, CFG.lora_dir)\n",
    "model_1 = PeftModel.from_pretrained(model_1, CFG.lora_dir)"
   ]
  },
  {
   "cell_type": "code",
   "execution_count": 11,
   "id": "74d4c686",
   "metadata": {
    "_kg_hide-output": true,
    "execution": {
     "iopub.execute_input": "2025-01-27T17:10:05.794569Z",
     "iopub.status.busy": "2025-01-27T17:10:05.794321Z",
     "iopub.status.idle": "2025-01-27T17:10:05.815492Z",
     "shell.execute_reply": "2025-01-27T17:10:05.814814Z"
    },
    "papermill": {
     "duration": 0.028304,
     "end_time": "2025-01-27T17:10:05.816657",
     "exception": false,
     "start_time": "2025-01-27T17:10:05.788353",
     "status": "completed"
    },
    "scrolled": true,
    "tags": []
   },
   "outputs": [
    {
     "data": {
      "text/plain": [
       "PeftModelForSequenceClassification(\n",
       "  (base_model): LoraModel(\n",
       "    (model): Gemma2ForSequenceClassification(\n",
       "      (model): Gemma2Model(\n",
       "        (embed_tokens): Embedding(256000, 3584, padding_idx=0)\n",
       "        (layers): ModuleList(\n",
       "          (0-15): 16 x Gemma2DecoderLayer(\n",
       "            (self_attn): Gemma2SdpaAttention(\n",
       "              (q_proj): Linear4bit(in_features=3584, out_features=4096, bias=False)\n",
       "              (k_proj): Linear4bit(in_features=3584, out_features=2048, bias=False)\n",
       "              (v_proj): Linear4bit(in_features=3584, out_features=2048, bias=False)\n",
       "              (o_proj): Linear4bit(in_features=4096, out_features=3584, bias=False)\n",
       "              (rotary_emb): Gemma2RotaryEmbedding()\n",
       "            )\n",
       "            (mlp): Gemma2MLP(\n",
       "              (gate_proj): Linear4bit(in_features=3584, out_features=14336, bias=False)\n",
       "              (up_proj): Linear4bit(in_features=3584, out_features=14336, bias=False)\n",
       "              (down_proj): Linear4bit(in_features=14336, out_features=3584, bias=False)\n",
       "              (act_fn): PytorchGELUTanh()\n",
       "            )\n",
       "            (input_layernorm): Gemma2RMSNorm((3584,), eps=1e-06)\n",
       "            (post_attention_layernorm): Gemma2RMSNorm((3584,), eps=1e-06)\n",
       "            (pre_feedforward_layernorm): Gemma2RMSNorm((3584,), eps=1e-06)\n",
       "            (post_feedforward_layernorm): Gemma2RMSNorm((3584,), eps=1e-06)\n",
       "          )\n",
       "          (16-41): 26 x Gemma2DecoderLayer(\n",
       "            (self_attn): Gemma2SdpaAttention(\n",
       "              (q_proj): lora.Linear4bit(\n",
       "                (base_layer): Linear4bit(in_features=3584, out_features=4096, bias=False)\n",
       "                (lora_dropout): ModuleDict(\n",
       "                  (default): Dropout(p=0.05, inplace=False)\n",
       "                )\n",
       "                (lora_A): ModuleDict(\n",
       "                  (default): Linear(in_features=3584, out_features=16, bias=False)\n",
       "                )\n",
       "                (lora_B): ModuleDict(\n",
       "                  (default): Linear(in_features=16, out_features=4096, bias=False)\n",
       "                )\n",
       "                (lora_embedding_A): ParameterDict()\n",
       "                (lora_embedding_B): ParameterDict()\n",
       "                (lora_magnitude_vector): ModuleDict()\n",
       "              )\n",
       "              (k_proj): lora.Linear4bit(\n",
       "                (base_layer): Linear4bit(in_features=3584, out_features=2048, bias=False)\n",
       "                (lora_dropout): ModuleDict(\n",
       "                  (default): Dropout(p=0.05, inplace=False)\n",
       "                )\n",
       "                (lora_A): ModuleDict(\n",
       "                  (default): Linear(in_features=3584, out_features=16, bias=False)\n",
       "                )\n",
       "                (lora_B): ModuleDict(\n",
       "                  (default): Linear(in_features=16, out_features=2048, bias=False)\n",
       "                )\n",
       "                (lora_embedding_A): ParameterDict()\n",
       "                (lora_embedding_B): ParameterDict()\n",
       "                (lora_magnitude_vector): ModuleDict()\n",
       "              )\n",
       "              (v_proj): lora.Linear4bit(\n",
       "                (base_layer): Linear4bit(in_features=3584, out_features=2048, bias=False)\n",
       "                (lora_dropout): ModuleDict(\n",
       "                  (default): Dropout(p=0.05, inplace=False)\n",
       "                )\n",
       "                (lora_A): ModuleDict(\n",
       "                  (default): Linear(in_features=3584, out_features=16, bias=False)\n",
       "                )\n",
       "                (lora_B): ModuleDict(\n",
       "                  (default): Linear(in_features=16, out_features=2048, bias=False)\n",
       "                )\n",
       "                (lora_embedding_A): ParameterDict()\n",
       "                (lora_embedding_B): ParameterDict()\n",
       "                (lora_magnitude_vector): ModuleDict()\n",
       "              )\n",
       "              (o_proj): Linear4bit(in_features=4096, out_features=3584, bias=False)\n",
       "              (rotary_emb): Gemma2RotaryEmbedding()\n",
       "            )\n",
       "            (mlp): Gemma2MLP(\n",
       "              (gate_proj): Linear4bit(in_features=3584, out_features=14336, bias=False)\n",
       "              (up_proj): Linear4bit(in_features=3584, out_features=14336, bias=False)\n",
       "              (down_proj): Linear4bit(in_features=14336, out_features=3584, bias=False)\n",
       "              (act_fn): PytorchGELUTanh()\n",
       "            )\n",
       "            (input_layernorm): Gemma2RMSNorm((3584,), eps=1e-06)\n",
       "            (post_attention_layernorm): Gemma2RMSNorm((3584,), eps=1e-06)\n",
       "            (pre_feedforward_layernorm): Gemma2RMSNorm((3584,), eps=1e-06)\n",
       "            (post_feedforward_layernorm): Gemma2RMSNorm((3584,), eps=1e-06)\n",
       "          )\n",
       "        )\n",
       "        (norm): Gemma2RMSNorm((3584,), eps=1e-06)\n",
       "      )\n",
       "      (score): ModulesToSaveWrapper(\n",
       "        (original_module): Linear(in_features=3584, out_features=2, bias=False)\n",
       "        (modules_to_save): ModuleDict(\n",
       "          (default): Linear(in_features=3584, out_features=2, bias=False)\n",
       "        )\n",
       "      )\n",
       "    )\n",
       "  )\n",
       ")"
      ]
     },
     "execution_count": 11,
     "metadata": {},
     "output_type": "execute_result"
    }
   ],
   "source": [
    "model_0.eval()\n",
    "model_1.eval()"
   ]
  },
  {
   "cell_type": "markdown",
   "id": "037baccc",
   "metadata": {
    "papermill": {
     "duration": 0.005372,
     "end_time": "2025-01-27T17:10:05.827411",
     "exception": false,
     "start_time": "2025-01-27T17:10:05.822039",
     "status": "completed"
    },
    "tags": []
   },
   "source": [
    "# Inference"
   ]
  },
  {
   "cell_type": "code",
   "execution_count": 12,
   "id": "cae381c2",
   "metadata": {
    "_kg_hide-output": true,
    "execution": {
     "iopub.execute_input": "2025-01-27T17:10:05.839359Z",
     "iopub.status.busy": "2025-01-27T17:10:05.839076Z",
     "iopub.status.idle": "2025-01-27T17:10:05.845036Z",
     "shell.execute_reply": "2025-01-27T17:10:05.844209Z"
    },
    "papermill": {
     "duration": 0.013219,
     "end_time": "2025-01-27T17:10:05.846409",
     "exception": false,
     "start_time": "2025-01-27T17:10:05.833190",
     "status": "completed"
    },
    "tags": []
   },
   "outputs": [
    {
     "name": "stderr",
     "output_type": "stream",
     "text": [
      "<ipython-input-12-aeb673b51808>:2: FutureWarning: `torch.cuda.amp.autocast(args...)` is deprecated. Please use `torch.amp.autocast('cuda', args...)` instead.\n",
      "  @torch.cuda.amp.autocast()\n"
     ]
    }
   ],
   "source": [
    "@torch.no_grad()\n",
    "@torch.cuda.amp.autocast()\n",
    "def inference(df, model, device, batch_size, max_length=CFG.max_length):\n",
    "    winners = []\n",
    "    \n",
    "    for start_idx in range(0, len(df), batch_size):\n",
    "        end_idx = min(start_idx + batch_size, len(df))\n",
    "        tmp = df.iloc[start_idx:end_idx]\n",
    "        input_ids = tmp[\"input_ids\"].to_list()\n",
    "        attention_mask = tmp[\"attention_mask\"].to_list()\n",
    "        inputs = pad_without_fast_tokenizer_warning(\n",
    "            tokenizer,\n",
    "            {\"input_ids\": input_ids, \"attention_mask\": attention_mask},\n",
    "            padding=\"longest\",\n",
    "            pad_to_multiple_of=None,\n",
    "            return_tensors=\"pt\",\n",
    "        )\n",
    "        outputs = model(**inputs.to(device))\n",
    "        proba = outputs.logits.softmax(-1).cpu()\n",
    "        \n",
    "        winners.extend(proba[:, 1].tolist())\n",
    "    \n",
    "    df['winner'] = winners\n",
    "    \n",
    "    return df"
   ]
  },
  {
   "cell_type": "markdown",
   "id": "b8e6be39",
   "metadata": {
    "papermill": {
     "duration": 0.00503,
     "end_time": "2025-01-27T17:10:05.856714",
     "exception": false,
     "start_time": "2025-01-27T17:10:05.851684",
     "status": "completed"
    },
    "tags": []
   },
   "source": [
    "## No TTA"
   ]
  },
  {
   "cell_type": "code",
   "execution_count": 13,
   "id": "0f8c81ee",
   "metadata": {
    "execution": {
     "iopub.execute_input": "2025-01-27T17:10:05.867773Z",
     "iopub.status.busy": "2025-01-27T17:10:05.867570Z",
     "iopub.status.idle": "2025-01-27T17:10:05.870661Z",
     "shell.execute_reply": "2025-01-27T17:10:05.870014Z"
    },
    "papermill": {
     "duration": 0.00993,
     "end_time": "2025-01-27T17:10:05.871790",
     "exception": false,
     "start_time": "2025-01-27T17:10:05.861860",
     "status": "completed"
    },
    "tags": []
   },
   "outputs": [],
   "source": [
    "global_timer = timer()"
   ]
  },
  {
   "cell_type": "code",
   "execution_count": 14,
   "id": "67f7375b",
   "metadata": {
    "execution": {
     "iopub.execute_input": "2025-01-27T17:10:05.882973Z",
     "iopub.status.busy": "2025-01-27T17:10:05.882762Z",
     "iopub.status.idle": "2025-01-27T17:10:05.892624Z",
     "shell.execute_reply": "2025-01-27T17:10:05.891973Z"
    },
    "papermill": {
     "duration": 0.016754,
     "end_time": "2025-01-27T17:10:05.893778",
     "exception": false,
     "start_time": "2025-01-27T17:10:05.877024",
     "status": "completed"
    },
    "tags": []
   },
   "outputs": [],
   "source": [
    "data['index'] = np.arange(len(data), dtype=np.int32)\n",
    "data = data.sort_values(\"length\", ascending=False)"
   ]
  },
  {
   "cell_type": "code",
   "execution_count": 15,
   "id": "da756dc4",
   "metadata": {
    "execution": {
     "iopub.execute_input": "2025-01-27T17:10:05.905262Z",
     "iopub.status.busy": "2025-01-27T17:10:05.905020Z",
     "iopub.status.idle": "2025-01-27T17:10:05.909955Z",
     "shell.execute_reply": "2025-01-27T17:10:05.909315Z"
    },
    "papermill": {
     "duration": 0.012193,
     "end_time": "2025-01-27T17:10:05.911379",
     "exception": false,
     "start_time": "2025-01-27T17:10:05.899186",
     "status": "completed"
    },
    "tags": []
   },
   "outputs": [],
   "source": [
    "data_dict = {}\n",
    "data_dict[0] = data[data[\"length\"] > 1024].reset_index(drop=True)\n",
    "data_dict[1] = data[data[\"length\"] <= 1024].reset_index(drop=True)"
   ]
  },
  {
   "cell_type": "code",
   "execution_count": 16,
   "id": "4e27e1c6",
   "metadata": {
    "execution": {
     "iopub.execute_input": "2025-01-27T17:10:05.923127Z",
     "iopub.status.busy": "2025-01-27T17:10:05.922922Z",
     "iopub.status.idle": "2025-01-27T17:10:09.279450Z",
     "shell.execute_reply": "2025-01-27T17:10:09.278745Z"
    },
    "papermill": {
     "duration": 3.364257,
     "end_time": "2025-01-27T17:10:09.280981",
     "exception": false,
     "start_time": "2025-01-27T17:10:05.916724",
     "status": "completed"
    },
    "tags": []
   },
   "outputs": [],
   "source": [
    "result_df = []\n",
    "for i, batch_size in enumerate([CFG.batch_size, CFG.batch_size]):\n",
    "    if len(data_dict[i]) == 0:\n",
    "        continue\n",
    "        \n",
    "    sub_1 = data_dict[i].iloc[0::2].copy()\n",
    "    sub_2 = data_dict[i].iloc[1::2].copy()\n",
    "    \n",
    "    with ThreadPoolExecutor(max_workers=2) as executor:\n",
    "        results = executor.map(\n",
    "            inference, \n",
    "            (sub_1, sub_2), \n",
    "            (model_0, model_1), \n",
    "            (torch.device(\"cuda:0\"), torch.device(\"cuda:1\")), \n",
    "            (batch_size, batch_size)\n",
    "        )\n",
    "        \n",
    "    result_df.append(pd.concat(list(results), axis=0))"
   ]
  },
  {
   "cell_type": "code",
   "execution_count": 17,
   "id": "af4d1fea",
   "metadata": {
    "execution": {
     "iopub.execute_input": "2025-01-27T17:10:09.293097Z",
     "iopub.status.busy": "2025-01-27T17:10:09.292873Z",
     "iopub.status.idle": "2025-01-27T17:10:09.297604Z",
     "shell.execute_reply": "2025-01-27T17:10:09.296926Z"
    },
    "papermill": {
     "duration": 0.011818,
     "end_time": "2025-01-27T17:10:09.298760",
     "exception": false,
     "start_time": "2025-01-27T17:10:09.286942",
     "status": "completed"
    },
    "tags": []
   },
   "outputs": [],
   "source": [
    "result_df = pd.concat(result_df).sort_values('index').reset_index(drop=True)"
   ]
  },
  {
   "cell_type": "markdown",
   "id": "2f4ac11a",
   "metadata": {
    "papermill": {
     "duration": 0.005145,
     "end_time": "2025-01-27T17:10:09.309457",
     "exception": false,
     "start_time": "2025-01-27T17:10:09.304312",
     "status": "completed"
    },
    "tags": []
   },
   "source": [
    "## TTA"
   ]
  },
  {
   "cell_type": "code",
   "execution_count": 18,
   "id": "8d8e66c6",
   "metadata": {
    "execution": {
     "iopub.execute_input": "2025-01-27T17:10:09.320809Z",
     "iopub.status.busy": "2025-01-27T17:10:09.320609Z",
     "iopub.status.idle": "2025-01-27T17:10:09.324445Z",
     "shell.execute_reply": "2025-01-27T17:10:09.323813Z"
    },
    "papermill": {
     "duration": 0.010768,
     "end_time": "2025-01-27T17:10:09.325525",
     "exception": false,
     "start_time": "2025-01-27T17:10:09.314757",
     "status": "completed"
    },
    "tags": []
   },
   "outputs": [],
   "source": [
    "aug_data['index'] = np.arange(len(aug_data), dtype=np.int32)\n",
    "aug_data = aug_data.sort_values(\"length\", ascending=False)"
   ]
  },
  {
   "cell_type": "code",
   "execution_count": 19,
   "id": "f71dc359",
   "metadata": {
    "execution": {
     "iopub.execute_input": "2025-01-27T17:10:09.336840Z",
     "iopub.status.busy": "2025-01-27T17:10:09.336642Z",
     "iopub.status.idle": "2025-01-27T17:10:09.344765Z",
     "shell.execute_reply": "2025-01-27T17:10:09.344175Z"
    },
    "papermill": {
     "duration": 0.014985,
     "end_time": "2025-01-27T17:10:09.345812",
     "exception": false,
     "start_time": "2025-01-27T17:10:09.330827",
     "status": "completed"
    },
    "tags": []
   },
   "outputs": [],
   "source": [
    "CONFIDENCE_THRESHOLD = 0.2\n",
    "not_confident_mask = abs(result_df['winner'] - 0.5) < CONFIDENCE_THRESHOLD\n",
    "\n",
    "aug_data = aug_data[aug_data['index'].isin(result_df[not_confident_mask]['index'])]"
   ]
  },
  {
   "cell_type": "code",
   "execution_count": 20,
   "id": "82273d65",
   "metadata": {
    "execution": {
     "iopub.execute_input": "2025-01-27T17:10:09.357478Z",
     "iopub.status.busy": "2025-01-27T17:10:09.357282Z",
     "iopub.status.idle": "2025-01-27T17:10:09.362128Z",
     "shell.execute_reply": "2025-01-27T17:10:09.361377Z"
    },
    "papermill": {
     "duration": 0.011877,
     "end_time": "2025-01-27T17:10:09.363283",
     "exception": false,
     "start_time": "2025-01-27T17:10:09.351406",
     "status": "completed"
    },
    "tags": []
   },
   "outputs": [],
   "source": [
    "aug_data_dict = {}\n",
    "aug_data_dict[0] = aug_data[aug_data[\"length\"] > 1024].reset_index(drop=True)\n",
    "aug_data_dict[1] = aug_data[aug_data[\"length\"] <= 1024].reset_index(drop=True)"
   ]
  },
  {
   "cell_type": "code",
   "execution_count": 21,
   "id": "2b22c0a1",
   "metadata": {
    "execution": {
     "iopub.execute_input": "2025-01-27T17:10:09.374972Z",
     "iopub.status.busy": "2025-01-27T17:10:09.374767Z",
     "iopub.status.idle": "2025-01-27T17:10:11.688064Z",
     "shell.execute_reply": "2025-01-27T17:10:11.687079Z"
    },
    "papermill": {
     "duration": 2.320862,
     "end_time": "2025-01-27T17:10:11.689749",
     "exception": false,
     "start_time": "2025-01-27T17:10:09.368887",
     "status": "completed"
    },
    "tags": []
   },
   "outputs": [],
   "source": [
    "aug_result_df = []\n",
    "for i, batch_size in enumerate([CFG.batch_size, CFG.batch_size]):\n",
    "    if len(aug_data_dict[i]) == 0:\n",
    "        continue\n",
    "\n",
    "    if timer() - global_timer > (time_limit - 300):\n",
    "        break\n",
    "        \n",
    "    sub_1 = aug_data_dict[i].iloc[0::2].copy()\n",
    "    sub_2 = aug_data_dict[i].iloc[1::2].copy()\n",
    "    \n",
    "    with ThreadPoolExecutor(max_workers=2) as executor:\n",
    "        results = executor.map(\n",
    "            inference, \n",
    "            (sub_1, sub_2), \n",
    "            (model_0, model_1), \n",
    "            (torch.device(\"cuda:0\"), torch.device(\"cuda:1\")), \n",
    "            (batch_size, batch_size)\n",
    "        )\n",
    "        \n",
    "    aug_result_df.append(pd.concat(list(results), axis=0))"
   ]
  },
  {
   "cell_type": "code",
   "execution_count": 22,
   "id": "5c906ce6",
   "metadata": {
    "execution": {
     "iopub.execute_input": "2025-01-27T17:10:11.702278Z",
     "iopub.status.busy": "2025-01-27T17:10:11.702009Z",
     "iopub.status.idle": "2025-01-27T17:10:11.706355Z",
     "shell.execute_reply": "2025-01-27T17:10:11.705611Z"
    },
    "papermill": {
     "duration": 0.011737,
     "end_time": "2025-01-27T17:10:11.707473",
     "exception": false,
     "start_time": "2025-01-27T17:10:11.695736",
     "status": "completed"
    },
    "tags": []
   },
   "outputs": [
    {
     "name": "stdout",
     "output_type": "stream",
     "text": [
      "time for 10_000 (max  4.5 hr):  5.4\n",
      "time for 25_000 (max 12.0 hr): 13.5\n"
     ]
    }
   ],
   "source": [
    "time_taken = timer() - global_timer\n",
    "\n",
    "print(f'time for 10_000 (max  4.5 hr): {10_000/3*time_taken/60/60:4.1f}')\n",
    "print(f'time for 25_000 (max 12.0 hr): {25_000/3*time_taken/60/60:4.1f}')"
   ]
  },
  {
   "cell_type": "markdown",
   "id": "a487c4cc",
   "metadata": {
    "papermill": {
     "duration": 0.005657,
     "end_time": "2025-01-27T17:10:11.718787",
     "exception": false,
     "start_time": "2025-01-27T17:10:11.713130",
     "status": "completed"
    },
    "tags": []
   },
   "source": [
    "## Combining the results"
   ]
  },
  {
   "cell_type": "code",
   "execution_count": 23,
   "id": "4d21c684",
   "metadata": {
    "execution": {
     "iopub.execute_input": "2025-01-27T17:10:11.730970Z",
     "iopub.status.busy": "2025-01-27T17:10:11.730754Z",
     "iopub.status.idle": "2025-01-27T17:10:11.749786Z",
     "shell.execute_reply": "2025-01-27T17:10:11.748966Z"
    },
    "papermill": {
     "duration": 0.02651,
     "end_time": "2025-01-27T17:10:11.751013",
     "exception": false,
     "start_time": "2025-01-27T17:10:11.724503",
     "status": "completed"
    },
    "tags": []
   },
   "outputs": [],
   "source": [
    "if len(aug_result_df) > 0:\n",
    "    aug_result_df = pd.concat(aug_result_df).sort_values('index').reset_index(drop=True)\n",
    "    aug_result_df[\"winner\"] = 1 - aug_result_df['winner']\n",
    "    \n",
    "    result_df = result_df.merge(\n",
    "        aug_result_df[['index', 'winner']], \n",
    "        on='index', \n",
    "        how='left', \n",
    "        suffixes=('', '_aug')\n",
    "    )\n",
    "    \n",
    "    mask = result_df['winner_aug'].notna()\n",
    "    result_df.loc[mask, 'winner'] = (result_df.loc[mask, 'winner'] + result_df.loc[mask, 'winner_aug']) / 2\n",
    "    \n",
    "    result_df = result_df.drop('winner_aug', axis=1)"
   ]
  },
  {
   "cell_type": "markdown",
   "id": "fcd360bb",
   "metadata": {
    "papermill": {
     "duration": 0.0055,
     "end_time": "2025-01-27T17:10:11.762359",
     "exception": false,
     "start_time": "2025-01-27T17:10:11.756859",
     "status": "completed"
    },
    "tags": []
   },
   "source": [
    "# Submission"
   ]
  },
  {
   "cell_type": "code",
   "execution_count": 24,
   "id": "7974f838",
   "metadata": {
    "execution": {
     "iopub.execute_input": "2025-01-27T17:10:11.774307Z",
     "iopub.status.busy": "2025-01-27T17:10:11.774061Z",
     "iopub.status.idle": "2025-01-27T17:10:11.787382Z",
     "shell.execute_reply": "2025-01-27T17:10:11.786574Z"
    },
    "papermill": {
     "duration": 0.020775,
     "end_time": "2025-01-27T17:10:11.788660",
     "exception": false,
     "start_time": "2025-01-27T17:10:11.767885",
     "status": "completed"
    },
    "tags": []
   },
   "outputs": [
    {
     "data": {
      "text/html": [
       "<div>\n",
       "<style scoped>\n",
       "    .dataframe tbody tr th:only-of-type {\n",
       "        vertical-align: middle;\n",
       "    }\n",
       "\n",
       "    .dataframe tbody tr th {\n",
       "        vertical-align: top;\n",
       "    }\n",
       "\n",
       "    .dataframe thead th {\n",
       "        text-align: right;\n",
       "    }\n",
       "</style>\n",
       "<table border=\"1\" class=\"dataframe\">\n",
       "  <thead>\n",
       "    <tr style=\"text-align: right;\">\n",
       "      <th></th>\n",
       "      <th>id</th>\n",
       "      <th>winner</th>\n",
       "    </tr>\n",
       "  </thead>\n",
       "  <tbody>\n",
       "    <tr>\n",
       "      <th>0</th>\n",
       "      <td>327228</td>\n",
       "      <td>model_b</td>\n",
       "    </tr>\n",
       "    <tr>\n",
       "      <th>1</th>\n",
       "      <td>1139415</td>\n",
       "      <td>model_a</td>\n",
       "    </tr>\n",
       "    <tr>\n",
       "      <th>2</th>\n",
       "      <td>1235630</td>\n",
       "      <td>model_a</td>\n",
       "    </tr>\n",
       "  </tbody>\n",
       "</table>\n",
       "</div>"
      ],
      "text/plain": [
       "        id   winner\n",
       "0   327228  model_b\n",
       "1  1139415  model_a\n",
       "2  1235630  model_a"
      ]
     },
     "execution_count": 24,
     "metadata": {},
     "output_type": "execute_result"
    }
   ],
   "source": [
    "sub = result_df[['id', 'winner']].copy()\n",
    "sub['winner'] = np.where(sub['winner'] < 0.5, 'model_a', 'model_b')\n",
    "sub.to_csv('submission.csv', index=False)\n",
    "sub.head()"
   ]
  }
 ],
 "metadata": {
  "kaggle": {
   "accelerator": "nvidiaTeslaT4",
   "dataSources": [
    {
     "databundleVersionId": 10131489,
     "sourceId": 86946,
     "sourceType": "competition"
    },
    {
     "datasetId": 6447806,
     "sourceId": 10576723,
     "sourceType": "datasetVersion"
    },
    {
     "modelId": 193770,
     "modelInstanceId": 171453,
     "sourceId": 200971,
     "sourceType": "modelInstanceVersion"
    }
   ],
   "dockerImageVersionId": 30823,
   "isGpuEnabled": true,
   "isInternetEnabled": false,
   "language": "python",
   "sourceType": "notebook"
  },
  "kernelspec": {
   "display_name": "Python 3",
   "language": "python",
   "name": "python3"
  },
  "language_info": {
   "codemirror_mode": {
    "name": "ipython",
    "version": 3
   },
   "file_extension": ".py",
   "mimetype": "text/x-python",
   "name": "python",
   "nbconvert_exporter": "python",
   "pygments_lexer": "ipython3",
   "version": "3.10.12"
  },
  "papermill": {
   "default_parameters": {},
   "duration": 74.735959,
   "end_time": "2025-01-27T17:10:14.371328",
   "environment_variables": {},
   "exception": null,
   "input_path": "__notebook__.ipynb",
   "output_path": "__notebook__.ipynb",
   "parameters": {},
   "start_time": "2025-01-27T17:08:59.635369",
   "version": "2.6.0"
  }
 },
 "nbformat": 4,
 "nbformat_minor": 5
}
