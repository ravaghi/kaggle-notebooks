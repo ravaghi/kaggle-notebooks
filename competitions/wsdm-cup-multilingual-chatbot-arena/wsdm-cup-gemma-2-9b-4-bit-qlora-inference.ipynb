{
 "cells": [
  {
   "cell_type": "markdown",
   "id": "b4ad5616",
   "metadata": {
    "papermill": {
     "duration": 0.005747,
     "end_time": "2025-02-04T12:00:28.808837",
     "exception": false,
     "start_time": "2025-02-04T12:00:28.803090",
     "status": "completed"
    },
    "tags": []
   },
   "source": [
    "- Training notebook: https://www.kaggle.com/code/ravaghi/wsdm-cup-gemma-2-9b-4-bit-qlora-training"
   ]
  },
  {
   "cell_type": "markdown",
   "id": "9c3c214d",
   "metadata": {
    "papermill": {
     "duration": 0.003879,
     "end_time": "2025-02-04T12:00:28.817421",
     "exception": false,
     "start_time": "2025-02-04T12:00:28.813542",
     "status": "completed"
    },
    "tags": []
   },
   "source": [
    "# Imports and configs"
   ]
  },
  {
   "cell_type": "code",
   "execution_count": 1,
   "id": "6020f039",
   "metadata": {
    "execution": {
     "iopub.execute_input": "2025-02-04T12:00:28.826371Z",
     "iopub.status.busy": "2025-02-04T12:00:28.826150Z",
     "iopub.status.idle": "2025-02-04T12:00:42.909131Z",
     "shell.execute_reply": "2025-02-04T12:00:42.908407Z"
    },
    "papermill": {
     "duration": 14.08935,
     "end_time": "2025-02-04T12:00:42.910764",
     "exception": false,
     "start_time": "2025-02-04T12:00:28.821414",
     "status": "completed"
    },
    "tags": []
   },
   "outputs": [],
   "source": [
    "from transformers import Gemma2ForSequenceClassification, GemmaTokenizerFast\n",
    "from transformers.data.data_collator import pad_without_fast_tokenizer_warning\n",
    "from concurrent.futures import ThreadPoolExecutor\n",
    "from timeit import default_timer as timer\n",
    "from peft import PeftModel\n",
    "from tqdm import tqdm\n",
    "import pandas as pd\n",
    "import numpy as np\n",
    "import torch"
   ]
  },
  {
   "cell_type": "code",
   "execution_count": 2,
   "id": "c230f1ca",
   "metadata": {
    "execution": {
     "iopub.execute_input": "2025-02-04T12:00:42.920954Z",
     "iopub.status.busy": "2025-02-04T12:00:42.920442Z",
     "iopub.status.idle": "2025-02-04T12:00:42.924254Z",
     "shell.execute_reply": "2025-02-04T12:00:42.923408Z"
    },
    "papermill": {
     "duration": 0.010137,
     "end_time": "2025-02-04T12:00:42.925603",
     "exception": false,
     "start_time": "2025-02-04T12:00:42.915466",
     "status": "completed"
    },
    "tags": []
   },
   "outputs": [],
   "source": [
    "class CFG:\n",
    "    test_path = \"/kaggle/input/wsdm-cup-multilingual-chatbot-arena/test.parquet\"\n",
    "    \n",
    "    gemma_dir = \"/kaggle/input/gemma-2-9b-4bit-it-unsloth/transformers/default/1/gemma-2-9b-it-4bit-unsloth_old\"\n",
    "    lora_dir = \"/kaggle/input/wsdm-cup-gemma-2-9b-4-bit-qlora/gemma2-9b-4bit/fold-4/gemma-2-9b-it-bnb-4bit-3072-8-f4/checkpoint-2900\"\n",
    "    \n",
    "    max_length = 3072\n",
    "    batch_size = 4"
   ]
  },
  {
   "cell_type": "markdown",
   "id": "08534e9e",
   "metadata": {
    "papermill": {
     "duration": 0.003865,
     "end_time": "2025-02-04T12:00:42.933944",
     "exception": false,
     "start_time": "2025-02-04T12:00:42.930079",
     "status": "completed"
    },
    "tags": []
   },
   "source": [
    "# Loading data"
   ]
  },
  {
   "cell_type": "code",
   "execution_count": 3,
   "id": "f179e89d",
   "metadata": {
    "execution": {
     "iopub.execute_input": "2025-02-04T12:00:42.943129Z",
     "iopub.status.busy": "2025-02-04T12:00:42.942852Z",
     "iopub.status.idle": "2025-02-04T12:00:43.083689Z",
     "shell.execute_reply": "2025-02-04T12:00:43.082823Z"
    },
    "papermill": {
     "duration": 0.147132,
     "end_time": "2025-02-04T12:00:43.085263",
     "exception": false,
     "start_time": "2025-02-04T12:00:42.938131",
     "status": "completed"
    },
    "tags": []
   },
   "outputs": [],
   "source": [
    "test = pd.read_parquet(CFG.test_path).fillna('')"
   ]
  },
  {
   "cell_type": "code",
   "execution_count": 4,
   "id": "473d8344",
   "metadata": {
    "execution": {
     "iopub.execute_input": "2025-02-04T12:00:43.095807Z",
     "iopub.status.busy": "2025-02-04T12:00:43.095547Z",
     "iopub.status.idle": "2025-02-04T12:00:43.099066Z",
     "shell.execute_reply": "2025-02-04T12:00:43.098230Z"
    },
    "papermill": {
     "duration": 0.010258,
     "end_time": "2025-02-04T12:00:43.100479",
     "exception": false,
     "start_time": "2025-02-04T12:00:43.090221",
     "status": "completed"
    },
    "tags": []
   },
   "outputs": [],
   "source": [
    "if len(test) > 10_000:\n",
    "    time_limit = int(3600 * 12) \n",
    "else:\n",
    "    time_limit = int(3600 * 4.75)"
   ]
  },
  {
   "cell_type": "markdown",
   "id": "3e20bf3c",
   "metadata": {
    "papermill": {
     "duration": 0.004062,
     "end_time": "2025-02-04T12:00:43.108772",
     "exception": false,
     "start_time": "2025-02-04T12:00:43.104710",
     "status": "completed"
    },
    "tags": []
   },
   "source": [
    "# Tokenizing"
   ]
  },
  {
   "cell_type": "code",
   "execution_count": 5,
   "id": "503b4104",
   "metadata": {
    "execution": {
     "iopub.execute_input": "2025-02-04T12:00:43.118146Z",
     "iopub.status.busy": "2025-02-04T12:00:43.117856Z",
     "iopub.status.idle": "2025-02-04T12:00:43.122334Z",
     "shell.execute_reply": "2025-02-04T12:00:43.121560Z"
    },
    "papermill": {
     "duration": 0.010282,
     "end_time": "2025-02-04T12:00:43.123484",
     "exception": false,
     "start_time": "2025-02-04T12:00:43.113202",
     "status": "completed"
    },
    "tags": []
   },
   "outputs": [],
   "source": [
    "def tokenize(tokenizer, prompt, response_a, response_b, max_length=CFG.max_length):\n",
    "    prompt = [\"<prompt>: \" + t for t in prompt]\n",
    "    response_a = [\"\\n\\n<response_a>: \" + t for t in response_a]\n",
    "    response_b = [\"\\n\\n<response_b>: \" + t for t in response_b]\n",
    "    \n",
    "    texts = [p + r_a + r_b for p, r_a, r_b in zip(prompt, response_a, response_b)]\n",
    "    tokenized = tokenizer(texts, max_length=max_length, truncation=True)\n",
    "    \n",
    "    return tokenized['input_ids'], tokenized['attention_mask']"
   ]
  },
  {
   "cell_type": "code",
   "execution_count": 6,
   "id": "712e428f",
   "metadata": {
    "execution": {
     "iopub.execute_input": "2025-02-04T12:00:43.132373Z",
     "iopub.status.busy": "2025-02-04T12:00:43.132167Z",
     "iopub.status.idle": "2025-02-04T12:00:44.382351Z",
     "shell.execute_reply": "2025-02-04T12:00:44.381563Z"
    },
    "papermill": {
     "duration": 1.256429,
     "end_time": "2025-02-04T12:00:44.384000",
     "exception": false,
     "start_time": "2025-02-04T12:00:43.127571",
     "status": "completed"
    },
    "tags": []
   },
   "outputs": [],
   "source": [
    "tokenizer = GemmaTokenizerFast.from_pretrained(CFG.gemma_dir)\n",
    "tokenizer.add_eos_token = True\n",
    "tokenizer.padding_side = \"right\""
   ]
  },
  {
   "cell_type": "code",
   "execution_count": 7,
   "id": "ea0444f7",
   "metadata": {
    "execution": {
     "iopub.execute_input": "2025-02-04T12:00:44.394614Z",
     "iopub.status.busy": "2025-02-04T12:00:44.394334Z",
     "iopub.status.idle": "2025-02-04T12:00:44.427530Z",
     "shell.execute_reply": "2025-02-04T12:00:44.426647Z"
    },
    "papermill": {
     "duration": 0.039607,
     "end_time": "2025-02-04T12:00:44.428706",
     "exception": false,
     "start_time": "2025-02-04T12:00:44.389099",
     "status": "completed"
    },
    "tags": []
   },
   "outputs": [
    {
     "name": "stderr",
     "output_type": "stream",
     "text": [
      "100%|██████████| 3/3 [00:00<00:00, 858.26it/s]\n",
      "100%|██████████| 3/3 [00:00<00:00, 778.93it/s]\n",
      "100%|██████████| 3/3 [00:00<00:00, 685.38it/s]\n"
     ]
    }
   ],
   "source": [
    "for col in ['prompt', 'response_a', 'response_b']:\n",
    "    test[col] = test[col].fillna('')\n",
    "    text_list = []\n",
    "    if col == \"prompt\":\n",
    "        max_no = 512\n",
    "        s_no = 255\n",
    "        e_no = -256\n",
    "    else:\n",
    "        max_no = 3072\n",
    "        s_no = 1535\n",
    "        e_no = -1536\n",
    "    for text in tqdm(test[col]):\n",
    "        encoded = tokenizer(text, return_offsets_mapping=True)\n",
    "        if len(encoded['input_ids']) > max_no:\n",
    "            start_idx, end_idx = encoded['offset_mapping'][s_no]\n",
    "            new_text = text[:end_idx]\n",
    "            start_idx, end_idx = encoded['offset_mapping'][e_no]\n",
    "            new_text = new_text + \"\\n(snip)\\n\" + text[start_idx:]\n",
    "            text = new_text\n",
    "        text_list.append(text)\n",
    "    test[col] = text_list"
   ]
  },
  {
   "cell_type": "code",
   "execution_count": 8,
   "id": "0b3bc711",
   "metadata": {
    "execution": {
     "iopub.execute_input": "2025-02-04T12:00:44.439201Z",
     "iopub.status.busy": "2025-02-04T12:00:44.438958Z",
     "iopub.status.idle": "2025-02-04T12:00:44.455989Z",
     "shell.execute_reply": "2025-02-04T12:00:44.455102Z"
    },
    "papermill": {
     "duration": 0.023632,
     "end_time": "2025-02-04T12:00:44.457249",
     "exception": false,
     "start_time": "2025-02-04T12:00:44.433617",
     "status": "completed"
    },
    "tags": []
   },
   "outputs": [],
   "source": [
    "data = pd.DataFrame()\n",
    "data[\"id\"] = test[\"id\"]\n",
    "data[\"input_ids\"], data[\"attention_mask\"] = tokenize(tokenizer, test[\"prompt\"], test[\"response_a\"], test[\"response_b\"])\n",
    "data[\"length\"] = data[\"input_ids\"].apply(len)\n",
    "\n",
    "aug_data = pd.DataFrame()\n",
    "aug_data[\"id\"] = test[\"id\"]\n",
    "# swap response_a & response_b\n",
    "aug_data['input_ids'], aug_data['attention_mask'] = tokenize(tokenizer, test[\"prompt\"], test[\"response_b\"], test[\"response_a\"])\n",
    "aug_data[\"length\"] = aug_data[\"input_ids\"].apply(len)"
   ]
  },
  {
   "cell_type": "markdown",
   "id": "04a204a3",
   "metadata": {
    "papermill": {
     "duration": 0.004816,
     "end_time": "2025-02-04T12:00:44.466796",
     "exception": false,
     "start_time": "2025-02-04T12:00:44.461980",
     "status": "completed"
    },
    "tags": []
   },
   "source": [
    "# Model"
   ]
  },
  {
   "cell_type": "code",
   "execution_count": 9,
   "id": "a1168aad",
   "metadata": {
    "_kg_hide-output": true,
    "execution": {
     "iopub.execute_input": "2025-02-04T12:00:44.477129Z",
     "iopub.status.busy": "2025-02-04T12:00:44.476834Z",
     "iopub.status.idle": "2025-02-04T12:01:51.289647Z",
     "shell.execute_reply": "2025-02-04T12:01:51.288972Z"
    },
    "papermill": {
     "duration": 66.81968,
     "end_time": "2025-02-04T12:01:51.291265",
     "exception": false,
     "start_time": "2025-02-04T12:00:44.471585",
     "status": "completed"
    },
    "tags": []
   },
   "outputs": [
    {
     "name": "stderr",
     "output_type": "stream",
     "text": [
      "Unused kwargs: ['_load_in_4bit', '_load_in_8bit', 'quant_method']. These kwargs are not used in <class 'transformers.utils.quantization_config.BitsAndBytesConfig'>.\n",
      "Some weights of Gemma2ForSequenceClassification were not initialized from the model checkpoint at /kaggle/input/gemma-2-9b-4bit-it-unsloth/transformers/default/1/gemma-2-9b-it-4bit-unsloth_old and are newly initialized: ['score.weight']\n",
      "You should probably TRAIN this model on a down-stream task to be able to use it for predictions and inference.\n",
      "Unused kwargs: ['_load_in_4bit', '_load_in_8bit', 'quant_method']. These kwargs are not used in <class 'transformers.utils.quantization_config.BitsAndBytesConfig'>.\n",
      "Some weights of Gemma2ForSequenceClassification were not initialized from the model checkpoint at /kaggle/input/gemma-2-9b-4bit-it-unsloth/transformers/default/1/gemma-2-9b-it-4bit-unsloth_old and are newly initialized: ['score.weight']\n",
      "You should probably TRAIN this model on a down-stream task to be able to use it for predictions and inference.\n"
     ]
    }
   ],
   "source": [
    "model_0 = Gemma2ForSequenceClassification.from_pretrained(\n",
    "    CFG.gemma_dir,\n",
    "    device_map=torch.device(\"cuda:0\"),\n",
    "    use_cache=False,\n",
    ")\n",
    "\n",
    "model_1 = Gemma2ForSequenceClassification.from_pretrained(\n",
    "    CFG.gemma_dir,\n",
    "    device_map=torch.device(\"cuda:1\"),\n",
    "    use_cache=False,\n",
    ")"
   ]
  },
  {
   "cell_type": "code",
   "execution_count": 10,
   "id": "ab87c420",
   "metadata": {
    "execution": {
     "iopub.execute_input": "2025-02-04T12:01:51.302562Z",
     "iopub.status.busy": "2025-02-04T12:01:51.302335Z",
     "iopub.status.idle": "2025-02-04T12:01:53.111815Z",
     "shell.execute_reply": "2025-02-04T12:01:53.111142Z"
    },
    "papermill": {
     "duration": 1.816736,
     "end_time": "2025-02-04T12:01:53.113425",
     "exception": false,
     "start_time": "2025-02-04T12:01:51.296689",
     "status": "completed"
    },
    "tags": []
   },
   "outputs": [],
   "source": [
    "model_0 = PeftModel.from_pretrained(model_0, CFG.lora_dir)\n",
    "model_1 = PeftModel.from_pretrained(model_1, CFG.lora_dir)"
   ]
  },
  {
   "cell_type": "code",
   "execution_count": 11,
   "id": "707dd022",
   "metadata": {
    "_kg_hide-output": true,
    "execution": {
     "iopub.execute_input": "2025-02-04T12:01:53.124842Z",
     "iopub.status.busy": "2025-02-04T12:01:53.124615Z",
     "iopub.status.idle": "2025-02-04T12:01:53.145086Z",
     "shell.execute_reply": "2025-02-04T12:01:53.144341Z"
    },
    "papermill": {
     "duration": 0.027359,
     "end_time": "2025-02-04T12:01:53.146341",
     "exception": false,
     "start_time": "2025-02-04T12:01:53.118982",
     "status": "completed"
    },
    "scrolled": true,
    "tags": []
   },
   "outputs": [
    {
     "data": {
      "text/plain": [
       "PeftModelForSequenceClassification(\n",
       "  (base_model): LoraModel(\n",
       "    (model): Gemma2ForSequenceClassification(\n",
       "      (model): Gemma2Model(\n",
       "        (embed_tokens): Embedding(256000, 3584, padding_idx=0)\n",
       "        (layers): ModuleList(\n",
       "          (0-15): 16 x Gemma2DecoderLayer(\n",
       "            (self_attn): Gemma2SdpaAttention(\n",
       "              (q_proj): Linear4bit(in_features=3584, out_features=4096, bias=False)\n",
       "              (k_proj): Linear4bit(in_features=3584, out_features=2048, bias=False)\n",
       "              (v_proj): Linear4bit(in_features=3584, out_features=2048, bias=False)\n",
       "              (o_proj): Linear4bit(in_features=4096, out_features=3584, bias=False)\n",
       "              (rotary_emb): Gemma2RotaryEmbedding()\n",
       "            )\n",
       "            (mlp): Gemma2MLP(\n",
       "              (gate_proj): Linear4bit(in_features=3584, out_features=14336, bias=False)\n",
       "              (up_proj): Linear4bit(in_features=3584, out_features=14336, bias=False)\n",
       "              (down_proj): Linear4bit(in_features=14336, out_features=3584, bias=False)\n",
       "              (act_fn): PytorchGELUTanh()\n",
       "            )\n",
       "            (input_layernorm): Gemma2RMSNorm((3584,), eps=1e-06)\n",
       "            (post_attention_layernorm): Gemma2RMSNorm((3584,), eps=1e-06)\n",
       "            (pre_feedforward_layernorm): Gemma2RMSNorm((3584,), eps=1e-06)\n",
       "            (post_feedforward_layernorm): Gemma2RMSNorm((3584,), eps=1e-06)\n",
       "          )\n",
       "          (16-41): 26 x Gemma2DecoderLayer(\n",
       "            (self_attn): Gemma2SdpaAttention(\n",
       "              (q_proj): lora.Linear4bit(\n",
       "                (base_layer): Linear4bit(in_features=3584, out_features=4096, bias=False)\n",
       "                (lora_dropout): ModuleDict(\n",
       "                  (default): Dropout(p=0.05, inplace=False)\n",
       "                )\n",
       "                (lora_A): ModuleDict(\n",
       "                  (default): Linear(in_features=3584, out_features=16, bias=False)\n",
       "                )\n",
       "                (lora_B): ModuleDict(\n",
       "                  (default): Linear(in_features=16, out_features=4096, bias=False)\n",
       "                )\n",
       "                (lora_embedding_A): ParameterDict()\n",
       "                (lora_embedding_B): ParameterDict()\n",
       "                (lora_magnitude_vector): ModuleDict()\n",
       "              )\n",
       "              (k_proj): lora.Linear4bit(\n",
       "                (base_layer): Linear4bit(in_features=3584, out_features=2048, bias=False)\n",
       "                (lora_dropout): ModuleDict(\n",
       "                  (default): Dropout(p=0.05, inplace=False)\n",
       "                )\n",
       "                (lora_A): ModuleDict(\n",
       "                  (default): Linear(in_features=3584, out_features=16, bias=False)\n",
       "                )\n",
       "                (lora_B): ModuleDict(\n",
       "                  (default): Linear(in_features=16, out_features=2048, bias=False)\n",
       "                )\n",
       "                (lora_embedding_A): ParameterDict()\n",
       "                (lora_embedding_B): ParameterDict()\n",
       "                (lora_magnitude_vector): ModuleDict()\n",
       "              )\n",
       "              (v_proj): lora.Linear4bit(\n",
       "                (base_layer): Linear4bit(in_features=3584, out_features=2048, bias=False)\n",
       "                (lora_dropout): ModuleDict(\n",
       "                  (default): Dropout(p=0.05, inplace=False)\n",
       "                )\n",
       "                (lora_A): ModuleDict(\n",
       "                  (default): Linear(in_features=3584, out_features=16, bias=False)\n",
       "                )\n",
       "                (lora_B): ModuleDict(\n",
       "                  (default): Linear(in_features=16, out_features=2048, bias=False)\n",
       "                )\n",
       "                (lora_embedding_A): ParameterDict()\n",
       "                (lora_embedding_B): ParameterDict()\n",
       "                (lora_magnitude_vector): ModuleDict()\n",
       "              )\n",
       "              (o_proj): Linear4bit(in_features=4096, out_features=3584, bias=False)\n",
       "              (rotary_emb): Gemma2RotaryEmbedding()\n",
       "            )\n",
       "            (mlp): Gemma2MLP(\n",
       "              (gate_proj): Linear4bit(in_features=3584, out_features=14336, bias=False)\n",
       "              (up_proj): Linear4bit(in_features=3584, out_features=14336, bias=False)\n",
       "              (down_proj): Linear4bit(in_features=14336, out_features=3584, bias=False)\n",
       "              (act_fn): PytorchGELUTanh()\n",
       "            )\n",
       "            (input_layernorm): Gemma2RMSNorm((3584,), eps=1e-06)\n",
       "            (post_attention_layernorm): Gemma2RMSNorm((3584,), eps=1e-06)\n",
       "            (pre_feedforward_layernorm): Gemma2RMSNorm((3584,), eps=1e-06)\n",
       "            (post_feedforward_layernorm): Gemma2RMSNorm((3584,), eps=1e-06)\n",
       "          )\n",
       "        )\n",
       "        (norm): Gemma2RMSNorm((3584,), eps=1e-06)\n",
       "      )\n",
       "      (score): ModulesToSaveWrapper(\n",
       "        (original_module): Linear(in_features=3584, out_features=2, bias=False)\n",
       "        (modules_to_save): ModuleDict(\n",
       "          (default): Linear(in_features=3584, out_features=2, bias=False)\n",
       "        )\n",
       "      )\n",
       "    )\n",
       "  )\n",
       ")"
      ]
     },
     "execution_count": 11,
     "metadata": {},
     "output_type": "execute_result"
    }
   ],
   "source": [
    "model_0.eval()\n",
    "model_1.eval()"
   ]
  },
  {
   "cell_type": "markdown",
   "id": "2fcf6852",
   "metadata": {
    "papermill": {
     "duration": 0.005109,
     "end_time": "2025-02-04T12:01:53.157005",
     "exception": false,
     "start_time": "2025-02-04T12:01:53.151896",
     "status": "completed"
    },
    "tags": []
   },
   "source": [
    "# Inference"
   ]
  },
  {
   "cell_type": "code",
   "execution_count": 12,
   "id": "e2534408",
   "metadata": {
    "_kg_hide-output": true,
    "execution": {
     "iopub.execute_input": "2025-02-04T12:01:53.167882Z",
     "iopub.status.busy": "2025-02-04T12:01:53.167674Z",
     "iopub.status.idle": "2025-02-04T12:01:53.172815Z",
     "shell.execute_reply": "2025-02-04T12:01:53.172105Z"
    },
    "papermill": {
     "duration": 0.012236,
     "end_time": "2025-02-04T12:01:53.174299",
     "exception": false,
     "start_time": "2025-02-04T12:01:53.162063",
     "status": "completed"
    },
    "tags": []
   },
   "outputs": [
    {
     "name": "stderr",
     "output_type": "stream",
     "text": [
      "<ipython-input-12-aeb673b51808>:2: FutureWarning: `torch.cuda.amp.autocast(args...)` is deprecated. Please use `torch.amp.autocast('cuda', args...)` instead.\n",
      "  @torch.cuda.amp.autocast()\n"
     ]
    }
   ],
   "source": [
    "@torch.no_grad()\n",
    "@torch.cuda.amp.autocast()\n",
    "def inference(df, model, device, batch_size, max_length=CFG.max_length):\n",
    "    winners = []\n",
    "    \n",
    "    for start_idx in range(0, len(df), batch_size):\n",
    "        end_idx = min(start_idx + batch_size, len(df))\n",
    "        tmp = df.iloc[start_idx:end_idx]\n",
    "        input_ids = tmp[\"input_ids\"].to_list()\n",
    "        attention_mask = tmp[\"attention_mask\"].to_list()\n",
    "        inputs = pad_without_fast_tokenizer_warning(\n",
    "            tokenizer,\n",
    "            {\"input_ids\": input_ids, \"attention_mask\": attention_mask},\n",
    "            padding=\"longest\",\n",
    "            pad_to_multiple_of=None,\n",
    "            return_tensors=\"pt\",\n",
    "        )\n",
    "        outputs = model(**inputs.to(device))\n",
    "        proba = outputs.logits.softmax(-1).cpu()\n",
    "        \n",
    "        winners.extend(proba[:, 1].tolist())\n",
    "    \n",
    "    df['winner'] = winners\n",
    "    \n",
    "    return df"
   ]
  },
  {
   "cell_type": "markdown",
   "id": "946dc3c2",
   "metadata": {
    "papermill": {
     "duration": 0.005013,
     "end_time": "2025-02-04T12:01:53.184574",
     "exception": false,
     "start_time": "2025-02-04T12:01:53.179561",
     "status": "completed"
    },
    "tags": []
   },
   "source": [
    "## No TTA"
   ]
  },
  {
   "cell_type": "code",
   "execution_count": 13,
   "id": "3fd995a7",
   "metadata": {
    "execution": {
     "iopub.execute_input": "2025-02-04T12:01:53.195695Z",
     "iopub.status.busy": "2025-02-04T12:01:53.195483Z",
     "iopub.status.idle": "2025-02-04T12:01:53.198261Z",
     "shell.execute_reply": "2025-02-04T12:01:53.197642Z"
    },
    "papermill": {
     "duration": 0.00962,
     "end_time": "2025-02-04T12:01:53.199386",
     "exception": false,
     "start_time": "2025-02-04T12:01:53.189766",
     "status": "completed"
    },
    "tags": []
   },
   "outputs": [],
   "source": [
    "global_timer = timer()"
   ]
  },
  {
   "cell_type": "code",
   "execution_count": 14,
   "id": "cc8b68ac",
   "metadata": {
    "execution": {
     "iopub.execute_input": "2025-02-04T12:01:53.210628Z",
     "iopub.status.busy": "2025-02-04T12:01:53.210429Z",
     "iopub.status.idle": "2025-02-04T12:01:53.219573Z",
     "shell.execute_reply": "2025-02-04T12:01:53.218953Z"
    },
    "papermill": {
     "duration": 0.016127,
     "end_time": "2025-02-04T12:01:53.220769",
     "exception": false,
     "start_time": "2025-02-04T12:01:53.204642",
     "status": "completed"
    },
    "tags": []
   },
   "outputs": [],
   "source": [
    "data['index'] = np.arange(len(data), dtype=np.int32)\n",
    "data = data.sort_values(\"length\", ascending=False)"
   ]
  },
  {
   "cell_type": "code",
   "execution_count": 15,
   "id": "ece2b6ed",
   "metadata": {
    "execution": {
     "iopub.execute_input": "2025-02-04T12:01:53.232270Z",
     "iopub.status.busy": "2025-02-04T12:01:53.232059Z",
     "iopub.status.idle": "2025-02-04T12:01:53.236994Z",
     "shell.execute_reply": "2025-02-04T12:01:53.236395Z"
    },
    "papermill": {
     "duration": 0.012101,
     "end_time": "2025-02-04T12:01:53.238342",
     "exception": false,
     "start_time": "2025-02-04T12:01:53.226241",
     "status": "completed"
    },
    "tags": []
   },
   "outputs": [],
   "source": [
    "data_dict = {}\n",
    "data_dict[0] = data[data[\"length\"] > 1024].reset_index(drop=True)\n",
    "data_dict[1] = data[data[\"length\"] <= 1024].reset_index(drop=True)"
   ]
  },
  {
   "cell_type": "code",
   "execution_count": 16,
   "id": "2b506aab",
   "metadata": {
    "execution": {
     "iopub.execute_input": "2025-02-04T12:01:53.250557Z",
     "iopub.status.busy": "2025-02-04T12:01:53.250312Z",
     "iopub.status.idle": "2025-02-04T12:01:56.781393Z",
     "shell.execute_reply": "2025-02-04T12:01:56.780442Z"
    },
    "papermill": {
     "duration": 3.539267,
     "end_time": "2025-02-04T12:01:56.783077",
     "exception": false,
     "start_time": "2025-02-04T12:01:53.243810",
     "status": "completed"
    },
    "tags": []
   },
   "outputs": [],
   "source": [
    "result_df = []\n",
    "for i, batch_size in enumerate([CFG.batch_size, CFG.batch_size]):\n",
    "    if len(data_dict[i]) == 0:\n",
    "        continue\n",
    "        \n",
    "    sub_1 = data_dict[i].iloc[0::2].copy()\n",
    "    sub_2 = data_dict[i].iloc[1::2].copy()\n",
    "    \n",
    "    with ThreadPoolExecutor(max_workers=2) as executor:\n",
    "        results = executor.map(\n",
    "            inference, \n",
    "            (sub_1, sub_2), \n",
    "            (model_0, model_1), \n",
    "            (torch.device(\"cuda:0\"), torch.device(\"cuda:1\")), \n",
    "            (batch_size, batch_size)\n",
    "        )\n",
    "        \n",
    "    result_df.append(pd.concat(list(results), axis=0))"
   ]
  },
  {
   "cell_type": "code",
   "execution_count": 17,
   "id": "9de8dd02",
   "metadata": {
    "execution": {
     "iopub.execute_input": "2025-02-04T12:01:56.795322Z",
     "iopub.status.busy": "2025-02-04T12:01:56.795089Z",
     "iopub.status.idle": "2025-02-04T12:01:56.799694Z",
     "shell.execute_reply": "2025-02-04T12:01:56.799068Z"
    },
    "papermill": {
     "duration": 0.011709,
     "end_time": "2025-02-04T12:01:56.800755",
     "exception": false,
     "start_time": "2025-02-04T12:01:56.789046",
     "status": "completed"
    },
    "tags": []
   },
   "outputs": [],
   "source": [
    "result_df = pd.concat(result_df).sort_values('index').reset_index(drop=True)"
   ]
  },
  {
   "cell_type": "markdown",
   "id": "d9233e62",
   "metadata": {
    "papermill": {
     "duration": 0.005274,
     "end_time": "2025-02-04T12:01:56.811743",
     "exception": false,
     "start_time": "2025-02-04T12:01:56.806469",
     "status": "completed"
    },
    "tags": []
   },
   "source": [
    "## TTA"
   ]
  },
  {
   "cell_type": "code",
   "execution_count": 18,
   "id": "eaa77641",
   "metadata": {
    "execution": {
     "iopub.execute_input": "2025-02-04T12:01:56.824037Z",
     "iopub.status.busy": "2025-02-04T12:01:56.823787Z",
     "iopub.status.idle": "2025-02-04T12:01:56.828580Z",
     "shell.execute_reply": "2025-02-04T12:01:56.827672Z"
    },
    "papermill": {
     "duration": 0.012651,
     "end_time": "2025-02-04T12:01:56.829831",
     "exception": false,
     "start_time": "2025-02-04T12:01:56.817180",
     "status": "completed"
    },
    "tags": []
   },
   "outputs": [],
   "source": [
    "aug_data['index'] = np.arange(len(aug_data), dtype=np.int32)\n",
    "aug_data = aug_data.sort_values(\"length\", ascending=False)"
   ]
  },
  {
   "cell_type": "code",
   "execution_count": 19,
   "id": "0573b3e9",
   "metadata": {
    "execution": {
     "iopub.execute_input": "2025-02-04T12:01:56.841702Z",
     "iopub.status.busy": "2025-02-04T12:01:56.841486Z",
     "iopub.status.idle": "2025-02-04T12:01:56.849820Z",
     "shell.execute_reply": "2025-02-04T12:01:56.849204Z"
    },
    "papermill": {
     "duration": 0.015886,
     "end_time": "2025-02-04T12:01:56.851201",
     "exception": false,
     "start_time": "2025-02-04T12:01:56.835315",
     "status": "completed"
    },
    "tags": []
   },
   "outputs": [],
   "source": [
    "CONFIDENCE_THRESHOLD = 0.2\n",
    "not_confident_mask = abs(result_df['winner'] - 0.5) < CONFIDENCE_THRESHOLD\n",
    "\n",
    "aug_data = aug_data[aug_data['index'].isin(result_df[not_confident_mask]['index'])]"
   ]
  },
  {
   "cell_type": "code",
   "execution_count": 20,
   "id": "ac8b4dda",
   "metadata": {
    "execution": {
     "iopub.execute_input": "2025-02-04T12:01:56.863386Z",
     "iopub.status.busy": "2025-02-04T12:01:56.863165Z",
     "iopub.status.idle": "2025-02-04T12:01:56.868275Z",
     "shell.execute_reply": "2025-02-04T12:01:56.867661Z"
    },
    "papermill": {
     "duration": 0.012343,
     "end_time": "2025-02-04T12:01:56.869411",
     "exception": false,
     "start_time": "2025-02-04T12:01:56.857068",
     "status": "completed"
    },
    "tags": []
   },
   "outputs": [],
   "source": [
    "aug_data_dict = {}\n",
    "aug_data_dict[0] = aug_data[aug_data[\"length\"] > 1024].reset_index(drop=True)\n",
    "aug_data_dict[1] = aug_data[aug_data[\"length\"] <= 1024].reset_index(drop=True)"
   ]
  },
  {
   "cell_type": "code",
   "execution_count": 21,
   "id": "1a68f85f",
   "metadata": {
    "execution": {
     "iopub.execute_input": "2025-02-04T12:01:56.881555Z",
     "iopub.status.busy": "2025-02-04T12:01:56.881311Z",
     "iopub.status.idle": "2025-02-04T12:01:59.330846Z",
     "shell.execute_reply": "2025-02-04T12:01:59.330140Z"
    },
    "papermill": {
     "duration": 2.457328,
     "end_time": "2025-02-04T12:01:59.332474",
     "exception": false,
     "start_time": "2025-02-04T12:01:56.875146",
     "status": "completed"
    },
    "tags": []
   },
   "outputs": [],
   "source": [
    "aug_result_df = []\n",
    "for i, batch_size in enumerate([CFG.batch_size, CFG.batch_size]):\n",
    "    if len(aug_data_dict[i]) == 0:\n",
    "        continue\n",
    "\n",
    "    if timer() - global_timer > (time_limit - 300):\n",
    "        break\n",
    "        \n",
    "    sub_1 = aug_data_dict[i].iloc[0::2].copy()\n",
    "    sub_2 = aug_data_dict[i].iloc[1::2].copy()\n",
    "    \n",
    "    with ThreadPoolExecutor(max_workers=2) as executor:\n",
    "        results = executor.map(\n",
    "            inference, \n",
    "            (sub_1, sub_2), \n",
    "            (model_0, model_1), \n",
    "            (torch.device(\"cuda:0\"), torch.device(\"cuda:1\")), \n",
    "            (batch_size, batch_size)\n",
    "        )\n",
    "        \n",
    "    aug_result_df.append(pd.concat(list(results), axis=0))"
   ]
  },
  {
   "cell_type": "code",
   "execution_count": 22,
   "id": "47915cf6",
   "metadata": {
    "execution": {
     "iopub.execute_input": "2025-02-04T12:01:59.345290Z",
     "iopub.status.busy": "2025-02-04T12:01:59.345044Z",
     "iopub.status.idle": "2025-02-04T12:01:59.349330Z",
     "shell.execute_reply": "2025-02-04T12:01:59.348563Z"
    },
    "papermill": {
     "duration": 0.011723,
     "end_time": "2025-02-04T12:01:59.350460",
     "exception": false,
     "start_time": "2025-02-04T12:01:59.338737",
     "status": "completed"
    },
    "tags": []
   },
   "outputs": [
    {
     "name": "stdout",
     "output_type": "stream",
     "text": [
      "time for 10_000 (max  4.5 hr):  5.7\n",
      "time for 25_000 (max 12.0 hr): 14.2\n"
     ]
    }
   ],
   "source": [
    "time_taken = timer() - global_timer\n",
    "\n",
    "print(f'time for 10_000 (max  4.5 hr): {10_000/3*time_taken/60/60:4.1f}')\n",
    "print(f'time for 25_000 (max 12.0 hr): {25_000/3*time_taken/60/60:4.1f}')"
   ]
  },
  {
   "cell_type": "markdown",
   "id": "99fdf48c",
   "metadata": {
    "papermill": {
     "duration": 0.005754,
     "end_time": "2025-02-04T12:01:59.362024",
     "exception": false,
     "start_time": "2025-02-04T12:01:59.356270",
     "status": "completed"
    },
    "tags": []
   },
   "source": [
    "## Combining the results"
   ]
  },
  {
   "cell_type": "code",
   "execution_count": 23,
   "id": "1aef3b58",
   "metadata": {
    "execution": {
     "iopub.execute_input": "2025-02-04T12:01:59.374182Z",
     "iopub.status.busy": "2025-02-04T12:01:59.373941Z",
     "iopub.status.idle": "2025-02-04T12:01:59.393193Z",
     "shell.execute_reply": "2025-02-04T12:01:59.392380Z"
    },
    "papermill": {
     "duration": 0.026808,
     "end_time": "2025-02-04T12:01:59.394477",
     "exception": false,
     "start_time": "2025-02-04T12:01:59.367669",
     "status": "completed"
    },
    "tags": []
   },
   "outputs": [],
   "source": [
    "if len(aug_result_df) > 0:\n",
    "    aug_result_df = pd.concat(aug_result_df).sort_values('index').reset_index(drop=True)\n",
    "    aug_result_df[\"winner\"] = 1 - aug_result_df['winner']\n",
    "    \n",
    "    result_df = result_df.merge(\n",
    "        aug_result_df[['index', 'winner']], \n",
    "        on='index', \n",
    "        how='left', \n",
    "        suffixes=('', '_aug')\n",
    "    )\n",
    "    \n",
    "    mask = result_df['winner_aug'].notna()\n",
    "    result_df.loc[mask, 'winner'] = (result_df.loc[mask, 'winner'] + result_df.loc[mask, 'winner_aug']) / 2\n",
    "    \n",
    "    result_df = result_df.drop('winner_aug', axis=1)"
   ]
  },
  {
   "cell_type": "markdown",
   "id": "fcfae50e",
   "metadata": {
    "papermill": {
     "duration": 0.005507,
     "end_time": "2025-02-04T12:01:59.405627",
     "exception": false,
     "start_time": "2025-02-04T12:01:59.400120",
     "status": "completed"
    },
    "tags": []
   },
   "source": [
    "# Submission"
   ]
  },
  {
   "cell_type": "code",
   "execution_count": 24,
   "id": "592f568a",
   "metadata": {
    "execution": {
     "iopub.execute_input": "2025-02-04T12:01:59.417799Z",
     "iopub.status.busy": "2025-02-04T12:01:59.417562Z",
     "iopub.status.idle": "2025-02-04T12:01:59.430808Z",
     "shell.execute_reply": "2025-02-04T12:01:59.430133Z"
    },
    "papermill": {
     "duration": 0.020657,
     "end_time": "2025-02-04T12:01:59.432038",
     "exception": false,
     "start_time": "2025-02-04T12:01:59.411381",
     "status": "completed"
    },
    "tags": []
   },
   "outputs": [
    {
     "data": {
      "text/html": [
       "<div>\n",
       "<style scoped>\n",
       "    .dataframe tbody tr th:only-of-type {\n",
       "        vertical-align: middle;\n",
       "    }\n",
       "\n",
       "    .dataframe tbody tr th {\n",
       "        vertical-align: top;\n",
       "    }\n",
       "\n",
       "    .dataframe thead th {\n",
       "        text-align: right;\n",
       "    }\n",
       "</style>\n",
       "<table border=\"1\" class=\"dataframe\">\n",
       "  <thead>\n",
       "    <tr style=\"text-align: right;\">\n",
       "      <th></th>\n",
       "      <th>id</th>\n",
       "      <th>winner</th>\n",
       "    </tr>\n",
       "  </thead>\n",
       "  <tbody>\n",
       "    <tr>\n",
       "      <th>0</th>\n",
       "      <td>327228</td>\n",
       "      <td>model_b</td>\n",
       "    </tr>\n",
       "    <tr>\n",
       "      <th>1</th>\n",
       "      <td>1139415</td>\n",
       "      <td>model_a</td>\n",
       "    </tr>\n",
       "    <tr>\n",
       "      <th>2</th>\n",
       "      <td>1235630</td>\n",
       "      <td>model_a</td>\n",
       "    </tr>\n",
       "  </tbody>\n",
       "</table>\n",
       "</div>"
      ],
      "text/plain": [
       "        id   winner\n",
       "0   327228  model_b\n",
       "1  1139415  model_a\n",
       "2  1235630  model_a"
      ]
     },
     "execution_count": 24,
     "metadata": {},
     "output_type": "execute_result"
    }
   ],
   "source": [
    "sub = result_df[['id', 'winner']].copy()\n",
    "sub['winner'] = np.where(sub['winner'] < 0.5, 'model_a', 'model_b')\n",
    "sub.to_csv('submission.csv', index=False)\n",
    "sub.head()"
   ]
  }
 ],
 "metadata": {
  "kaggle": {
   "accelerator": "nvidiaTeslaT4",
   "dataSources": [
    {
     "databundleVersionId": 10131489,
     "sourceId": 86946,
     "sourceType": "competition"
    },
    {
     "datasetId": 6447806,
     "sourceId": 10576723,
     "sourceType": "datasetVersion"
    },
    {
     "modelId": 193770,
     "modelInstanceId": 171453,
     "sourceId": 200971,
     "sourceType": "modelInstanceVersion"
    }
   ],
   "dockerImageVersionId": 30823,
   "isGpuEnabled": true,
   "isInternetEnabled": false,
   "language": "python",
   "sourceType": "notebook"
  },
  "kernelspec": {
   "display_name": "Python 3",
   "language": "python",
   "name": "python3"
  },
  "language_info": {
   "codemirror_mode": {
    "name": "ipython",
    "version": 3
   },
   "file_extension": ".py",
   "mimetype": "text/x-python",
   "name": "python",
   "nbconvert_exporter": "python",
   "pygments_lexer": "ipython3",
   "version": "3.10.12"
  },
  "papermill": {
   "default_parameters": {},
   "duration": 95.773909,
   "end_time": "2025-02-04T12:02:02.420977",
   "environment_variables": {},
   "exception": null,
   "input_path": "__notebook__.ipynb",
   "output_path": "__notebook__.ipynb",
   "parameters": {},
   "start_time": "2025-02-04T12:00:26.647068",
   "version": "2.6.0"
  }
 },
 "nbformat": 4,
 "nbformat_minor": 5
}
