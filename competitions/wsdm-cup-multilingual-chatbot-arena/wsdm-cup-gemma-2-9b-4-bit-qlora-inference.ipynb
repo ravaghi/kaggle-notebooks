{
 "cells": [
  {
   "cell_type": "markdown",
   "id": "5e202a47",
   "metadata": {
    "papermill": {
     "duration": 0.003806,
     "end_time": "2025-01-24T09:08:03.446387",
     "exception": false,
     "start_time": "2025-01-24T09:08:03.442581",
     "status": "completed"
    },
    "tags": []
   },
   "source": [
    "# Imports and configs"
   ]
  },
  {
   "cell_type": "code",
   "execution_count": 1,
   "id": "fbad4ad3",
   "metadata": {
    "execution": {
     "iopub.execute_input": "2025-01-24T09:08:03.453635Z",
     "iopub.status.busy": "2025-01-24T09:08:03.453318Z",
     "iopub.status.idle": "2025-01-24T09:08:16.816946Z",
     "shell.execute_reply": "2025-01-24T09:08:16.816025Z"
    },
    "papermill": {
     "duration": 13.368933,
     "end_time": "2025-01-24T09:08:16.818623",
     "exception": false,
     "start_time": "2025-01-24T09:08:03.449690",
     "status": "completed"
    },
    "tags": []
   },
   "outputs": [],
   "source": [
    "from transformers import Gemma2ForSequenceClassification, GemmaTokenizerFast\n",
    "from transformers.data.data_collator import pad_without_fast_tokenizer_warning\n",
    "from concurrent.futures import ThreadPoolExecutor\n",
    "from timeit import default_timer as timer\n",
    "from peft import PeftModel\n",
    "from tqdm import tqdm\n",
    "import pandas as pd\n",
    "import numpy as np\n",
    "import torch"
   ]
  },
  {
   "cell_type": "code",
   "execution_count": 2,
   "id": "9d4fce63",
   "metadata": {
    "execution": {
     "iopub.execute_input": "2025-01-24T09:08:16.826548Z",
     "iopub.status.busy": "2025-01-24T09:08:16.826045Z",
     "iopub.status.idle": "2025-01-24T09:08:16.829708Z",
     "shell.execute_reply": "2025-01-24T09:08:16.829040Z"
    },
    "papermill": {
     "duration": 0.008771,
     "end_time": "2025-01-24T09:08:16.831005",
     "exception": false,
     "start_time": "2025-01-24T09:08:16.822234",
     "status": "completed"
    },
    "tags": []
   },
   "outputs": [],
   "source": [
    "class CFG:\n",
    "    test_path = \"/kaggle/input/wsdm-cup-multilingual-chatbot-arena/test.parquet\"\n",
    "    \n",
    "    gemma_dir = \"/kaggle/input/gemma-2-9b-4bit-it-unsloth/transformers/default/1/gemma-2-9b-it-4bit-unsloth_old\"\n",
    "    lora_dir = \"/kaggle/input/wsdm-cup-gemma-2-9b-4-bit-qlora/gemma2-9b-4bit/gemma-2-9b-it-bnb-4bit-3072-8/checkpoint-3027\"\n",
    "    \n",
    "    max_length = 3072\n",
    "    batch_size = 4"
   ]
  },
  {
   "cell_type": "markdown",
   "id": "d782dc2b",
   "metadata": {
    "papermill": {
     "duration": 0.003163,
     "end_time": "2025-01-24T09:08:16.837348",
     "exception": false,
     "start_time": "2025-01-24T09:08:16.834185",
     "status": "completed"
    },
    "tags": []
   },
   "source": [
    "# Loading data"
   ]
  },
  {
   "cell_type": "code",
   "execution_count": 3,
   "id": "9141a4c6",
   "metadata": {
    "execution": {
     "iopub.execute_input": "2025-01-24T09:08:16.844097Z",
     "iopub.status.busy": "2025-01-24T09:08:16.843896Z",
     "iopub.status.idle": "2025-01-24T09:08:16.965271Z",
     "shell.execute_reply": "2025-01-24T09:08:16.964377Z"
    },
    "papermill": {
     "duration": 0.126387,
     "end_time": "2025-01-24T09:08:16.966782",
     "exception": false,
     "start_time": "2025-01-24T09:08:16.840395",
     "status": "completed"
    },
    "tags": []
   },
   "outputs": [],
   "source": [
    "test = pd.read_parquet(CFG.test_path).fillna('')"
   ]
  },
  {
   "cell_type": "markdown",
   "id": "7b80ea9d",
   "metadata": {
    "papermill": {
     "duration": 0.003038,
     "end_time": "2025-01-24T09:08:16.973101",
     "exception": false,
     "start_time": "2025-01-24T09:08:16.970063",
     "status": "completed"
    },
    "tags": []
   },
   "source": [
    "# Tokenizing"
   ]
  },
  {
   "cell_type": "code",
   "execution_count": 4,
   "id": "0c0a18b3",
   "metadata": {
    "execution": {
     "iopub.execute_input": "2025-01-24T09:08:16.980144Z",
     "iopub.status.busy": "2025-01-24T09:08:16.979929Z",
     "iopub.status.idle": "2025-01-24T09:08:16.983838Z",
     "shell.execute_reply": "2025-01-24T09:08:16.983233Z"
    },
    "papermill": {
     "duration": 0.008871,
     "end_time": "2025-01-24T09:08:16.985099",
     "exception": false,
     "start_time": "2025-01-24T09:08:16.976228",
     "status": "completed"
    },
    "tags": []
   },
   "outputs": [],
   "source": [
    "def tokenize(tokenizer, prompt, response_a, response_b, max_length=CFG.max_length):\n",
    "    prompt = [\"<prompt>: \" + t for t in prompt]\n",
    "    response_a = [\"\\n\\n<response_a>: \" + t for t in response_a]\n",
    "    response_b = [\"\\n\\n<response_b>: \" + t for t in response_b]\n",
    "    \n",
    "    texts = [p + r_a + r_b for p, r_a, r_b in zip(prompt, response_a, response_b)]\n",
    "    tokenized = tokenizer(texts, max_length=max_length, truncation=True)\n",
    "    \n",
    "    return tokenized['input_ids'], tokenized['attention_mask']"
   ]
  },
  {
   "cell_type": "code",
   "execution_count": 5,
   "id": "97afa9ca",
   "metadata": {
    "execution": {
     "iopub.execute_input": "2025-01-24T09:08:16.992354Z",
     "iopub.status.busy": "2025-01-24T09:08:16.992156Z",
     "iopub.status.idle": "2025-01-24T09:08:17.953205Z",
     "shell.execute_reply": "2025-01-24T09:08:17.952506Z"
    },
    "papermill": {
     "duration": 0.966402,
     "end_time": "2025-01-24T09:08:17.954722",
     "exception": false,
     "start_time": "2025-01-24T09:08:16.988320",
     "status": "completed"
    },
    "tags": []
   },
   "outputs": [],
   "source": [
    "tokenizer = GemmaTokenizerFast.from_pretrained(CFG.gemma_dir)\n",
    "tokenizer.add_eos_token = True\n",
    "tokenizer.padding_side = \"right\""
   ]
  },
  {
   "cell_type": "code",
   "execution_count": 6,
   "id": "88935da5",
   "metadata": {
    "execution": {
     "iopub.execute_input": "2025-01-24T09:08:17.962304Z",
     "iopub.status.busy": "2025-01-24T09:08:17.962060Z",
     "iopub.status.idle": "2025-01-24T09:08:17.995981Z",
     "shell.execute_reply": "2025-01-24T09:08:17.995105Z"
    },
    "papermill": {
     "duration": 0.039274,
     "end_time": "2025-01-24T09:08:17.997548",
     "exception": false,
     "start_time": "2025-01-24T09:08:17.958274",
     "status": "completed"
    },
    "tags": []
   },
   "outputs": [
    {
     "name": "stderr",
     "output_type": "stream",
     "text": [
      "100%|██████████| 3/3 [00:00<00:00, 909.70it/s]\n",
      "100%|██████████| 3/3 [00:00<00:00, 712.35it/s]\n",
      "100%|██████████| 3/3 [00:00<00:00, 579.91it/s]\n"
     ]
    }
   ],
   "source": [
    "for col in ['prompt', 'response_a', 'response_b']:\n",
    "    test[col] = test[col].fillna('')\n",
    "    text_list = []\n",
    "    if col == 'prompt':\n",
    "        max_no = 1024\n",
    "        s_no = 511\n",
    "        e_no = -512\n",
    "    else:\n",
    "        max_no = 3072\n",
    "        s_no = 1535\n",
    "        e_no = -1536\n",
    "    for text in tqdm(test[col]):\n",
    "        encoded = tokenizer(text, return_offsets_mapping=True)\n",
    "        if len(encoded['input_ids']) > max_no:\n",
    "            start_idx, end_idx = encoded['offset_mapping'][s_no]\n",
    "            new_text = text[:end_idx]\n",
    "            start_idx, end_idx = encoded['offset_mapping'][e_no]\n",
    "            new_text = new_text + \"\\n(snip)\\n\" + text[start_idx:]\n",
    "            text = new_text\n",
    "        text_list.append(text)\n",
    "    test[col] = text_list"
   ]
  },
  {
   "cell_type": "code",
   "execution_count": 7,
   "id": "44ea8468",
   "metadata": {
    "execution": {
     "iopub.execute_input": "2025-01-24T09:08:18.007539Z",
     "iopub.status.busy": "2025-01-24T09:08:18.007001Z",
     "iopub.status.idle": "2025-01-24T09:08:18.026038Z",
     "shell.execute_reply": "2025-01-24T09:08:18.025301Z"
    },
    "papermill": {
     "duration": 0.025483,
     "end_time": "2025-01-24T09:08:18.027401",
     "exception": false,
     "start_time": "2025-01-24T09:08:18.001918",
     "status": "completed"
    },
    "tags": []
   },
   "outputs": [],
   "source": [
    "data = pd.DataFrame()\n",
    "data[\"id\"] = test[\"id\"]\n",
    "data[\"input_ids\"], data[\"attention_mask\"] = tokenize(tokenizer, test[\"prompt\"], test[\"response_a\"], test[\"response_b\"])\n",
    "data[\"length\"] = data[\"input_ids\"].apply(len)\n",
    "\n",
    "aug_data = pd.DataFrame()\n",
    "aug_data[\"id\"] = test[\"id\"]\n",
    "# swap response_a & response_b\n",
    "aug_data['input_ids'], aug_data['attention_mask'] = tokenize(tokenizer, test[\"prompt\"], test[\"response_b\"], test[\"response_a\"])\n",
    "aug_data[\"length\"] = aug_data[\"input_ids\"].apply(len)"
   ]
  },
  {
   "cell_type": "markdown",
   "id": "28f889f1",
   "metadata": {
    "papermill": {
     "duration": 0.004284,
     "end_time": "2025-01-24T09:08:18.036131",
     "exception": false,
     "start_time": "2025-01-24T09:08:18.031847",
     "status": "completed"
    },
    "tags": []
   },
   "source": [
    "# Model"
   ]
  },
  {
   "cell_type": "code",
   "execution_count": 8,
   "id": "ddd6af3c",
   "metadata": {
    "_kg_hide-output": true,
    "execution": {
     "iopub.execute_input": "2025-01-24T09:08:18.045559Z",
     "iopub.status.busy": "2025-01-24T09:08:18.045286Z",
     "iopub.status.idle": "2025-01-24T09:09:03.528891Z",
     "shell.execute_reply": "2025-01-24T09:09:03.528224Z"
    },
    "papermill": {
     "duration": 45.489945,
     "end_time": "2025-01-24T09:09:03.530376",
     "exception": false,
     "start_time": "2025-01-24T09:08:18.040431",
     "status": "completed"
    },
    "tags": []
   },
   "outputs": [
    {
     "name": "stderr",
     "output_type": "stream",
     "text": [
      "Unused kwargs: ['_load_in_4bit', '_load_in_8bit', 'quant_method']. These kwargs are not used in <class 'transformers.utils.quantization_config.BitsAndBytesConfig'>.\n",
      "Some weights of Gemma2ForSequenceClassification were not initialized from the model checkpoint at /kaggle/input/gemma-2-9b-4bit-it-unsloth/transformers/default/1/gemma-2-9b-it-4bit-unsloth_old and are newly initialized: ['score.weight']\n",
      "You should probably TRAIN this model on a down-stream task to be able to use it for predictions and inference.\n",
      "Unused kwargs: ['_load_in_4bit', '_load_in_8bit', 'quant_method']. These kwargs are not used in <class 'transformers.utils.quantization_config.BitsAndBytesConfig'>.\n",
      "Some weights of Gemma2ForSequenceClassification were not initialized from the model checkpoint at /kaggle/input/gemma-2-9b-4bit-it-unsloth/transformers/default/1/gemma-2-9b-it-4bit-unsloth_old and are newly initialized: ['score.weight']\n",
      "You should probably TRAIN this model on a down-stream task to be able to use it for predictions and inference.\n"
     ]
    }
   ],
   "source": [
    "model_0 = Gemma2ForSequenceClassification.from_pretrained(\n",
    "    CFG.gemma_dir,\n",
    "    device_map=torch.device(\"cuda:0\"),\n",
    "    use_cache=False,\n",
    ")\n",
    "\n",
    "\n",
    "model_1 = Gemma2ForSequenceClassification.from_pretrained(\n",
    "    CFG.gemma_dir,\n",
    "    device_map=torch.device(\"cuda:1\"),\n",
    "    use_cache=False,\n",
    ")"
   ]
  },
  {
   "cell_type": "code",
   "execution_count": 9,
   "id": "b59c133c",
   "metadata": {
    "execution": {
     "iopub.execute_input": "2025-01-24T09:09:03.540333Z",
     "iopub.status.busy": "2025-01-24T09:09:03.540089Z",
     "iopub.status.idle": "2025-01-24T09:09:04.569770Z",
     "shell.execute_reply": "2025-01-24T09:09:04.569034Z"
    },
    "papermill": {
     "duration": 1.036312,
     "end_time": "2025-01-24T09:09:04.571291",
     "exception": false,
     "start_time": "2025-01-24T09:09:03.534979",
     "status": "completed"
    },
    "tags": []
   },
   "outputs": [],
   "source": [
    "model_0 = PeftModel.from_pretrained(model_0, CFG.lora_dir)\n",
    "model_1 = PeftModel.from_pretrained(model_1, CFG.lora_dir)"
   ]
  },
  {
   "cell_type": "code",
   "execution_count": 10,
   "id": "03ad92d3",
   "metadata": {
    "_kg_hide-output": true,
    "execution": {
     "iopub.execute_input": "2025-01-24T09:09:04.580674Z",
     "iopub.status.busy": "2025-01-24T09:09:04.580379Z",
     "iopub.status.idle": "2025-01-24T09:09:04.600257Z",
     "shell.execute_reply": "2025-01-24T09:09:04.599475Z"
    },
    "papermill": {
     "duration": 0.025776,
     "end_time": "2025-01-24T09:09:04.601516",
     "exception": false,
     "start_time": "2025-01-24T09:09:04.575740",
     "status": "completed"
    },
    "scrolled": true,
    "tags": []
   },
   "outputs": [
    {
     "data": {
      "text/plain": [
       "PeftModelForSequenceClassification(\n",
       "  (base_model): LoraModel(\n",
       "    (model): Gemma2ForSequenceClassification(\n",
       "      (model): Gemma2Model(\n",
       "        (embed_tokens): Embedding(256000, 3584, padding_idx=0)\n",
       "        (layers): ModuleList(\n",
       "          (0-15): 16 x Gemma2DecoderLayer(\n",
       "            (self_attn): Gemma2SdpaAttention(\n",
       "              (q_proj): Linear4bit(in_features=3584, out_features=4096, bias=False)\n",
       "              (k_proj): Linear4bit(in_features=3584, out_features=2048, bias=False)\n",
       "              (v_proj): Linear4bit(in_features=3584, out_features=2048, bias=False)\n",
       "              (o_proj): Linear4bit(in_features=4096, out_features=3584, bias=False)\n",
       "              (rotary_emb): Gemma2RotaryEmbedding()\n",
       "            )\n",
       "            (mlp): Gemma2MLP(\n",
       "              (gate_proj): Linear4bit(in_features=3584, out_features=14336, bias=False)\n",
       "              (up_proj): Linear4bit(in_features=3584, out_features=14336, bias=False)\n",
       "              (down_proj): Linear4bit(in_features=14336, out_features=3584, bias=False)\n",
       "              (act_fn): PytorchGELUTanh()\n",
       "            )\n",
       "            (input_layernorm): Gemma2RMSNorm((3584,), eps=1e-06)\n",
       "            (post_attention_layernorm): Gemma2RMSNorm((3584,), eps=1e-06)\n",
       "            (pre_feedforward_layernorm): Gemma2RMSNorm((3584,), eps=1e-06)\n",
       "            (post_feedforward_layernorm): Gemma2RMSNorm((3584,), eps=1e-06)\n",
       "          )\n",
       "          (16-41): 26 x Gemma2DecoderLayer(\n",
       "            (self_attn): Gemma2SdpaAttention(\n",
       "              (q_proj): lora.Linear4bit(\n",
       "                (base_layer): Linear4bit(in_features=3584, out_features=4096, bias=False)\n",
       "                (lora_dropout): ModuleDict(\n",
       "                  (default): Dropout(p=0.05, inplace=False)\n",
       "                )\n",
       "                (lora_A): ModuleDict(\n",
       "                  (default): Linear(in_features=3584, out_features=16, bias=False)\n",
       "                )\n",
       "                (lora_B): ModuleDict(\n",
       "                  (default): Linear(in_features=16, out_features=4096, bias=False)\n",
       "                )\n",
       "                (lora_embedding_A): ParameterDict()\n",
       "                (lora_embedding_B): ParameterDict()\n",
       "                (lora_magnitude_vector): ModuleDict()\n",
       "              )\n",
       "              (k_proj): lora.Linear4bit(\n",
       "                (base_layer): Linear4bit(in_features=3584, out_features=2048, bias=False)\n",
       "                (lora_dropout): ModuleDict(\n",
       "                  (default): Dropout(p=0.05, inplace=False)\n",
       "                )\n",
       "                (lora_A): ModuleDict(\n",
       "                  (default): Linear(in_features=3584, out_features=16, bias=False)\n",
       "                )\n",
       "                (lora_B): ModuleDict(\n",
       "                  (default): Linear(in_features=16, out_features=2048, bias=False)\n",
       "                )\n",
       "                (lora_embedding_A): ParameterDict()\n",
       "                (lora_embedding_B): ParameterDict()\n",
       "                (lora_magnitude_vector): ModuleDict()\n",
       "              )\n",
       "              (v_proj): lora.Linear4bit(\n",
       "                (base_layer): Linear4bit(in_features=3584, out_features=2048, bias=False)\n",
       "                (lora_dropout): ModuleDict(\n",
       "                  (default): Dropout(p=0.05, inplace=False)\n",
       "                )\n",
       "                (lora_A): ModuleDict(\n",
       "                  (default): Linear(in_features=3584, out_features=16, bias=False)\n",
       "                )\n",
       "                (lora_B): ModuleDict(\n",
       "                  (default): Linear(in_features=16, out_features=2048, bias=False)\n",
       "                )\n",
       "                (lora_embedding_A): ParameterDict()\n",
       "                (lora_embedding_B): ParameterDict()\n",
       "                (lora_magnitude_vector): ModuleDict()\n",
       "              )\n",
       "              (o_proj): Linear4bit(in_features=4096, out_features=3584, bias=False)\n",
       "              (rotary_emb): Gemma2RotaryEmbedding()\n",
       "            )\n",
       "            (mlp): Gemma2MLP(\n",
       "              (gate_proj): Linear4bit(in_features=3584, out_features=14336, bias=False)\n",
       "              (up_proj): Linear4bit(in_features=3584, out_features=14336, bias=False)\n",
       "              (down_proj): Linear4bit(in_features=14336, out_features=3584, bias=False)\n",
       "              (act_fn): PytorchGELUTanh()\n",
       "            )\n",
       "            (input_layernorm): Gemma2RMSNorm((3584,), eps=1e-06)\n",
       "            (post_attention_layernorm): Gemma2RMSNorm((3584,), eps=1e-06)\n",
       "            (pre_feedforward_layernorm): Gemma2RMSNorm((3584,), eps=1e-06)\n",
       "            (post_feedforward_layernorm): Gemma2RMSNorm((3584,), eps=1e-06)\n",
       "          )\n",
       "        )\n",
       "        (norm): Gemma2RMSNorm((3584,), eps=1e-06)\n",
       "      )\n",
       "      (score): ModulesToSaveWrapper(\n",
       "        (original_module): Linear(in_features=3584, out_features=2, bias=False)\n",
       "        (modules_to_save): ModuleDict(\n",
       "          (default): Linear(in_features=3584, out_features=2, bias=False)\n",
       "        )\n",
       "      )\n",
       "    )\n",
       "  )\n",
       ")"
      ]
     },
     "execution_count": 10,
     "metadata": {},
     "output_type": "execute_result"
    }
   ],
   "source": [
    "model_0.eval()\n",
    "model_1.eval()"
   ]
  },
  {
   "cell_type": "markdown",
   "id": "bbe12579",
   "metadata": {
    "papermill": {
     "duration": 0.003974,
     "end_time": "2025-01-24T09:09:04.609734",
     "exception": false,
     "start_time": "2025-01-24T09:09:04.605760",
     "status": "completed"
    },
    "tags": []
   },
   "source": [
    "# Inference"
   ]
  },
  {
   "cell_type": "code",
   "execution_count": 11,
   "id": "7b323ef0",
   "metadata": {
    "_kg_hide-output": true,
    "execution": {
     "iopub.execute_input": "2025-01-24T09:09:04.618752Z",
     "iopub.status.busy": "2025-01-24T09:09:04.618547Z",
     "iopub.status.idle": "2025-01-24T09:09:04.623994Z",
     "shell.execute_reply": "2025-01-24T09:09:04.623270Z"
    },
    "papermill": {
     "duration": 0.011243,
     "end_time": "2025-01-24T09:09:04.625144",
     "exception": false,
     "start_time": "2025-01-24T09:09:04.613901",
     "status": "completed"
    },
    "tags": []
   },
   "outputs": [
    {
     "name": "stderr",
     "output_type": "stream",
     "text": [
      "<ipython-input-11-aeb673b51808>:2: FutureWarning: `torch.cuda.amp.autocast(args...)` is deprecated. Please use `torch.amp.autocast('cuda', args...)` instead.\n",
      "  @torch.cuda.amp.autocast()\n"
     ]
    }
   ],
   "source": [
    "@torch.no_grad()\n",
    "@torch.cuda.amp.autocast()\n",
    "def inference(df, model, device, batch_size, max_length=CFG.max_length):\n",
    "    winners = []\n",
    "    \n",
    "    for start_idx in range(0, len(df), batch_size):\n",
    "        end_idx = min(start_idx + batch_size, len(df))\n",
    "        tmp = df.iloc[start_idx:end_idx]\n",
    "        input_ids = tmp[\"input_ids\"].to_list()\n",
    "        attention_mask = tmp[\"attention_mask\"].to_list()\n",
    "        inputs = pad_without_fast_tokenizer_warning(\n",
    "            tokenizer,\n",
    "            {\"input_ids\": input_ids, \"attention_mask\": attention_mask},\n",
    "            padding=\"longest\",\n",
    "            pad_to_multiple_of=None,\n",
    "            return_tensors=\"pt\",\n",
    "        )\n",
    "        outputs = model(**inputs.to(device))\n",
    "        proba = outputs.logits.softmax(-1).cpu()\n",
    "        \n",
    "        winners.extend(proba[:, 1].tolist())\n",
    "    \n",
    "    df['winner'] = winners\n",
    "    \n",
    "    return df"
   ]
  },
  {
   "cell_type": "code",
   "execution_count": 12,
   "id": "cf467847",
   "metadata": {
    "execution": {
     "iopub.execute_input": "2025-01-24T09:09:04.634199Z",
     "iopub.status.busy": "2025-01-24T09:09:04.633999Z",
     "iopub.status.idle": "2025-01-24T09:09:04.645311Z",
     "shell.execute_reply": "2025-01-24T09:09:04.644743Z"
    },
    "papermill": {
     "duration": 0.017138,
     "end_time": "2025-01-24T09:09:04.646475",
     "exception": false,
     "start_time": "2025-01-24T09:09:04.629337",
     "status": "completed"
    },
    "tags": []
   },
   "outputs": [],
   "source": [
    "data = pd.concat([data, aug_data]).reset_index(drop=True)\n",
    "data['index'] = np.arange(len(data), dtype=np.int32)\n",
    "data = data.sort_values(\"length\", ascending=False)"
   ]
  },
  {
   "cell_type": "code",
   "execution_count": 13,
   "id": "b9edc900",
   "metadata": {
    "execution": {
     "iopub.execute_input": "2025-01-24T09:09:04.655549Z",
     "iopub.status.busy": "2025-01-24T09:09:04.655317Z",
     "iopub.status.idle": "2025-01-24T09:09:04.659962Z",
     "shell.execute_reply": "2025-01-24T09:09:04.659163Z"
    },
    "papermill": {
     "duration": 0.010418,
     "end_time": "2025-01-24T09:09:04.661135",
     "exception": false,
     "start_time": "2025-01-24T09:09:04.650717",
     "status": "completed"
    },
    "tags": []
   },
   "outputs": [],
   "source": [
    "data_dict = {}\n",
    "data_dict[0] = data[data[\"length\"] > 1024].reset_index(drop=True)\n",
    "data_dict[1] = data[data[\"length\"] <= 1024].reset_index(drop=True)"
   ]
  },
  {
   "cell_type": "code",
   "execution_count": 14,
   "id": "d3792978",
   "metadata": {
    "execution": {
     "iopub.execute_input": "2025-01-24T09:09:04.670521Z",
     "iopub.status.busy": "2025-01-24T09:09:04.670236Z",
     "iopub.status.idle": "2025-01-24T09:09:09.748561Z",
     "shell.execute_reply": "2025-01-24T09:09:09.747826Z"
    },
    "papermill": {
     "duration": 5.084708,
     "end_time": "2025-01-24T09:09:09.750230",
     "exception": false,
     "start_time": "2025-01-24T09:09:04.665522",
     "status": "completed"
    },
    "tags": []
   },
   "outputs": [],
   "source": [
    "start_timer = timer()\n",
    "\n",
    "result_df = []\n",
    "for i, batch_size in enumerate([CFG.batch_size, CFG.batch_size]):\n",
    "    if len(data_dict[i]) == 0:\n",
    "        continue\n",
    "        \n",
    "    sub_1 = data_dict[i].iloc[0::2].copy()\n",
    "    sub_2 = data_dict[i].iloc[1::2].copy()\n",
    "    \n",
    "    with ThreadPoolExecutor(max_workers=2) as executor:\n",
    "        results = executor.map(\n",
    "            inference, \n",
    "            (sub_1, sub_2), \n",
    "            (model_0, model_1), \n",
    "            (torch.device(\"cuda:0\"), torch.device(\"cuda:1\")), \n",
    "            (batch_size, batch_size)\n",
    "        )\n",
    "        \n",
    "    result_df.append(pd.concat(list(results), axis=0))\n",
    "\n",
    "time_taken = timer() - start_timer"
   ]
  },
  {
   "cell_type": "code",
   "execution_count": 15,
   "id": "0ca721b6",
   "metadata": {
    "execution": {
     "iopub.execute_input": "2025-01-24T09:09:09.760789Z",
     "iopub.status.busy": "2025-01-24T09:09:09.760550Z",
     "iopub.status.idle": "2025-01-24T09:09:09.764886Z",
     "shell.execute_reply": "2025-01-24T09:09:09.764061Z"
    },
    "papermill": {
     "duration": 0.010563,
     "end_time": "2025-01-24T09:09:09.766071",
     "exception": false,
     "start_time": "2025-01-24T09:09:09.755508",
     "status": "completed"
    },
    "tags": []
   },
   "outputs": [
    {
     "name": "stdout",
     "output_type": "stream",
     "text": [
      "time for 10_000 (max  4.5 hr):  4.7\n",
      "time for 25_000 (max 12.0 hr): 11.7\n"
     ]
    }
   ],
   "source": [
    "print(f'time for 10_000 (max  4.5 hr): {10_000/3*time_taken/60/60:4.1f}')\n",
    "print(f'time for 25_000 (max 12.0 hr): {25_000/3*time_taken/60/60:4.1f}')"
   ]
  },
  {
   "cell_type": "code",
   "execution_count": 16,
   "id": "0c3c934a",
   "metadata": {
    "execution": {
     "iopub.execute_input": "2025-01-24T09:09:09.775967Z",
     "iopub.status.busy": "2025-01-24T09:09:09.775736Z",
     "iopub.status.idle": "2025-01-24T09:09:09.781640Z",
     "shell.execute_reply": "2025-01-24T09:09:09.780942Z"
    },
    "papermill": {
     "duration": 0.012152,
     "end_time": "2025-01-24T09:09:09.782935",
     "exception": false,
     "start_time": "2025-01-24T09:09:09.770783",
     "status": "completed"
    },
    "tags": []
   },
   "outputs": [],
   "source": [
    "result_df = pd.concat(result_df).sort_values('index').reset_index(drop=True)\n",
    "proba = result_df['winner'].values[:len(aug_data)]\n",
    "tta_proba = 1 - result_df['winner'].values[len(aug_data):]\n",
    "proba = (proba + tta_proba) / 2\n",
    "result_df = result_df[:len(aug_data)].copy()\n",
    "result_df['winner'] = proba"
   ]
  },
  {
   "cell_type": "markdown",
   "id": "cb23c2eb",
   "metadata": {
    "papermill": {
     "duration": 0.004328,
     "end_time": "2025-01-24T09:09:09.791892",
     "exception": false,
     "start_time": "2025-01-24T09:09:09.787564",
     "status": "completed"
    },
    "tags": []
   },
   "source": [
    "# Submission"
   ]
  },
  {
   "cell_type": "code",
   "execution_count": 17,
   "id": "08b05d4c",
   "metadata": {
    "execution": {
     "iopub.execute_input": "2025-01-24T09:09:09.801871Z",
     "iopub.status.busy": "2025-01-24T09:09:09.801674Z",
     "iopub.status.idle": "2025-01-24T09:09:09.818186Z",
     "shell.execute_reply": "2025-01-24T09:09:09.817499Z"
    },
    "papermill": {
     "duration": 0.023093,
     "end_time": "2025-01-24T09:09:09.819356",
     "exception": false,
     "start_time": "2025-01-24T09:09:09.796263",
     "status": "completed"
    },
    "tags": []
   },
   "outputs": [
    {
     "data": {
      "text/html": [
       "<div>\n",
       "<style scoped>\n",
       "    .dataframe tbody tr th:only-of-type {\n",
       "        vertical-align: middle;\n",
       "    }\n",
       "\n",
       "    .dataframe tbody tr th {\n",
       "        vertical-align: top;\n",
       "    }\n",
       "\n",
       "    .dataframe thead th {\n",
       "        text-align: right;\n",
       "    }\n",
       "</style>\n",
       "<table border=\"1\" class=\"dataframe\">\n",
       "  <thead>\n",
       "    <tr style=\"text-align: right;\">\n",
       "      <th></th>\n",
       "      <th>id</th>\n",
       "      <th>winner</th>\n",
       "    </tr>\n",
       "  </thead>\n",
       "  <tbody>\n",
       "    <tr>\n",
       "      <th>0</th>\n",
       "      <td>327228</td>\n",
       "      <td>model_b</td>\n",
       "    </tr>\n",
       "    <tr>\n",
       "      <th>1</th>\n",
       "      <td>1139415</td>\n",
       "      <td>model_a</td>\n",
       "    </tr>\n",
       "    <tr>\n",
       "      <th>2</th>\n",
       "      <td>1235630</td>\n",
       "      <td>model_a</td>\n",
       "    </tr>\n",
       "  </tbody>\n",
       "</table>\n",
       "</div>"
      ],
      "text/plain": [
       "        id   winner\n",
       "0   327228  model_b\n",
       "1  1139415  model_a\n",
       "2  1235630  model_a"
      ]
     },
     "execution_count": 17,
     "metadata": {},
     "output_type": "execute_result"
    }
   ],
   "source": [
    "sub = result_df[['id', 'winner']].copy()\n",
    "sub['winner'] = np.where(sub['winner'] < 0.476, 'model_a', 'model_b')\n",
    "sub.to_csv('submission.csv', index=False)\n",
    "sub.head()"
   ]
  }
 ],
 "metadata": {
  "kaggle": {
   "accelerator": "nvidiaTeslaT4",
   "dataSources": [
    {
     "databundleVersionId": 10131489,
     "sourceId": 86946,
     "sourceType": "competition"
    },
    {
     "datasetId": 6447806,
     "sourceId": 10561876,
     "sourceType": "datasetVersion"
    },
    {
     "modelId": 193770,
     "modelInstanceId": 171453,
     "sourceId": 200971,
     "sourceType": "modelInstanceVersion"
    }
   ],
   "dockerImageVersionId": 30823,
   "isGpuEnabled": true,
   "isInternetEnabled": false,
   "language": "python",
   "sourceType": "notebook"
  },
  "kernelspec": {
   "display_name": "Python 3",
   "language": "python",
   "name": "python3"
  },
  "language_info": {
   "codemirror_mode": {
    "name": "ipython",
    "version": 3
   },
   "file_extension": ".py",
   "mimetype": "text/x-python",
   "name": "python",
   "nbconvert_exporter": "python",
   "pygments_lexer": "ipython3",
   "version": "3.10.12"
  },
  "papermill": {
   "default_parameters": {},
   "duration": 71.7242,
   "end_time": "2025-01-24T09:09:13.046681",
   "environment_variables": {},
   "exception": null,
   "input_path": "__notebook__.ipynb",
   "output_path": "__notebook__.ipynb",
   "parameters": {},
   "start_time": "2025-01-24T09:08:01.322481",
   "version": "2.6.0"
  }
 },
 "nbformat": 4,
 "nbformat_minor": 5
}
