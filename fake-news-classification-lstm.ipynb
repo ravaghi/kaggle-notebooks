{
 "cells": [
  {
   "cell_type": "code",
   "execution_count": 1,
   "id": "fb876897",
   "metadata": {
    "_cell_guid": "b1076dfc-b9ad-4769-8c92-a6c4dae69d19",
    "_kg_hide-input": true,
    "_kg_hide-output": true,
    "_uuid": "8f2839f25d086af736a60e9eeb907d3b93b6e0e5",
    "execution": {
     "iopub.execute_input": "2024-03-08T19:18:41.951922Z",
     "iopub.status.busy": "2024-03-08T19:18:41.951548Z",
     "iopub.status.idle": "2024-03-08T19:18:49.392093Z",
     "shell.execute_reply": "2024-03-08T19:18:49.391341Z"
    },
    "papermill": {
     "duration": 7.450769,
     "end_time": "2024-03-08T19:18:49.394465",
     "exception": false,
     "start_time": "2024-03-08T19:18:41.943696",
     "status": "completed"
    },
    "tags": []
   },
   "outputs": [],
   "source": [
    "import os\n",
    "import random\n",
    "import re\n",
    "import numpy as np\n",
    "import pandas as pd\n",
    "import torch\n",
    "from torchtext.data.utils import get_tokenizer\n",
    "from torchtext.vocab import build_vocab_from_iterator\n",
    "from nltk.corpus import stopwords\n",
    "from torch.utils.data import TensorDataset, DataLoader\n",
    "import torch.nn as nn\n",
    "from torch.nn import CrossEntropyLoss\n",
    "from torch.optim import Adam\n",
    "from torch.optim.lr_scheduler import ReduceLROnPlateau\n",
    "from sklearn import metrics\n",
    "from sklearn.utils.class_weight import compute_class_weight\n",
    "from tqdm import tqdm\n",
    "import torch.nn.functional as F\n",
    "import matplotlib.pyplot as plt\n",
    "import matplotlib\n",
    "\n",
    "matplotlib.style.use('ggplot')\n",
    "pd.options.mode.chained_assignment = None"
   ]
  },
  {
   "cell_type": "code",
   "execution_count": 2,
   "id": "3716f3a5",
   "metadata": {
    "execution": {
     "iopub.execute_input": "2024-03-08T19:18:49.407683Z",
     "iopub.status.busy": "2024-03-08T19:18:49.407182Z",
     "iopub.status.idle": "2024-03-08T19:18:49.416090Z",
     "shell.execute_reply": "2024-03-08T19:18:49.415361Z"
    },
    "papermill": {
     "duration": 0.017442,
     "end_time": "2024-03-08T19:18:49.418075",
     "exception": false,
     "start_time": "2024-03-08T19:18:49.400633",
     "status": "completed"
    },
    "tags": []
   },
   "outputs": [],
   "source": [
    "# For reproducibility\n",
    "seed = 27\n",
    "\n",
    "random.seed(seed)\n",
    "os.environ['PYTHONHASHSEED'] = str(seed)\n",
    "np.random.seed(seed)\n",
    "torch.manual_seed(seed)\n",
    "torch.cuda.manual_seed(seed)"
   ]
  },
  {
   "cell_type": "code",
   "execution_count": 3,
   "id": "a51d30ed",
   "metadata": {
    "execution": {
     "iopub.execute_input": "2024-03-08T19:18:49.430280Z",
     "iopub.status.busy": "2024-03-08T19:18:49.429960Z",
     "iopub.status.idle": "2024-03-08T19:18:49.435024Z",
     "shell.execute_reply": "2024-03-08T19:18:49.434031Z"
    },
    "papermill": {
     "duration": 0.013438,
     "end_time": "2024-03-08T19:18:49.437104",
     "exception": false,
     "start_time": "2024-03-08T19:18:49.423666",
     "status": "completed"
    },
    "tags": []
   },
   "outputs": [],
   "source": [
    "# Hyperparameters\n",
    "vocab_size = 160_000\n",
    "embedding_dim = 300\n",
    "hidden_dim = 128\n",
    "n_layers = 2\n",
    "seq_len = 2000\n",
    "learning_rate = 0.0025\n",
    "max_epochs = 10\n",
    "batch_size = 40"
   ]
  },
  {
   "cell_type": "markdown",
   "id": "f6dda66e",
   "metadata": {
    "papermill": {
     "duration": 0.005412,
     "end_time": "2024-03-08T19:18:49.448375",
     "exception": false,
     "start_time": "2024-03-08T19:18:49.442963",
     "status": "completed"
    },
    "tags": []
   },
   "source": [
    "# Loading Data"
   ]
  },
  {
   "cell_type": "code",
   "execution_count": 4,
   "id": "54a5a784",
   "metadata": {
    "execution": {
     "iopub.execute_input": "2024-03-08T19:18:49.460930Z",
     "iopub.status.busy": "2024-03-08T19:18:49.460519Z",
     "iopub.status.idle": "2024-03-08T19:18:52.582198Z",
     "shell.execute_reply": "2024-03-08T19:18:52.581215Z"
    },
    "papermill": {
     "duration": 3.130734,
     "end_time": "2024-03-08T19:18:52.584547",
     "exception": false,
     "start_time": "2024-03-08T19:18:49.453813",
     "status": "completed"
    },
    "tags": []
   },
   "outputs": [
    {
     "data": {
      "text/plain": [
       "((20800, 5), (5200, 4))"
      ]
     },
     "execution_count": 4,
     "metadata": {},
     "output_type": "execute_result"
    }
   ],
   "source": [
    "train_ds = pd.read_csv(\"/kaggle/input/fake-news/train.csv\")\n",
    "test_ds = pd.read_csv(\"/kaggle/input/fake-news/test.csv\")\n",
    "\n",
    "# Used for creating the submission file later on\n",
    "test_ds_ids = test_ds['id']\n",
    "\n",
    "train_ds.shape, test_ds.shape"
   ]
  },
  {
   "cell_type": "code",
   "execution_count": 5,
   "id": "dcd873e8",
   "metadata": {
    "execution": {
     "iopub.execute_input": "2024-03-08T19:18:52.598040Z",
     "iopub.status.busy": "2024-03-08T19:18:52.597459Z",
     "iopub.status.idle": "2024-03-08T19:18:53.182360Z",
     "shell.execute_reply": "2024-03-08T19:18:53.181551Z"
    },
    "papermill": {
     "duration": 0.594031,
     "end_time": "2024-03-08T19:18:53.184696",
     "exception": false,
     "start_time": "2024-03-08T19:18:52.590665",
     "status": "completed"
    },
    "tags": []
   },
   "outputs": [],
   "source": [
    "def combine_text_and_title(row):\n",
    "    return row[\"title\"] + \" - \" + row[\"text\"]\n",
    "\n",
    "train_ds[\"title\"] = train_ds[\"title\"].fillna(\"\")\n",
    "train_ds[\"text\"] = train_ds[\"text\"].fillna(\"\")\n",
    "train_ds[\"title_and_text\"] = train_ds.apply(combine_text_and_title, axis=1)\n",
    "\n",
    "test_ds[\"title\"] = test_ds[\"title\"].fillna(\"\")\n",
    "test_ds[\"text\"] = test_ds[\"text\"].fillna(\"\")\n",
    "test_ds[\"title_and_text\"] = test_ds.apply(combine_text_and_title, axis=1)"
   ]
  },
  {
   "cell_type": "code",
   "execution_count": 6,
   "id": "ee9671bf",
   "metadata": {
    "execution": {
     "iopub.execute_input": "2024-03-08T19:18:53.198097Z",
     "iopub.status.busy": "2024-03-08T19:18:53.197759Z",
     "iopub.status.idle": "2024-03-08T19:18:53.223691Z",
     "shell.execute_reply": "2024-03-08T19:18:53.222851Z"
    },
    "papermill": {
     "duration": 0.034951,
     "end_time": "2024-03-08T19:18:53.225730",
     "exception": false,
     "start_time": "2024-03-08T19:18:53.190779",
     "status": "completed"
    },
    "tags": []
   },
   "outputs": [
    {
     "data": {
      "text/plain": [
       "((19760, 6), (1040, 6), (5200, 5))"
      ]
     },
     "execution_count": 6,
     "metadata": {},
     "output_type": "execute_result"
    }
   ],
   "source": [
    "dataset = train_ds.sample(frac=1).reset_index(drop=True)\n",
    "\n",
    "train = dataset[:int(0.95 * len(dataset))]\n",
    "val = dataset[int(0.95 * len(dataset)):]\n",
    "test = test_ds\n",
    "\n",
    "train.shape, val.shape, test.shape"
   ]
  },
  {
   "cell_type": "markdown",
   "id": "bf283a89",
   "metadata": {
    "papermill": {
     "duration": 0.005877,
     "end_time": "2024-03-08T19:18:53.237514",
     "exception": false,
     "start_time": "2024-03-08T19:18:53.231637",
     "status": "completed"
    },
    "tags": []
   },
   "source": [
    "# Processing the Dataset and Creating Dataloaders"
   ]
  },
  {
   "cell_type": "code",
   "execution_count": 7,
   "id": "ec6e076a",
   "metadata": {
    "_kg_hide-input": true,
    "_kg_hide-output": true,
    "execution": {
     "iopub.execute_input": "2024-03-08T19:18:53.251187Z",
     "iopub.status.busy": "2024-03-08T19:18:53.250368Z",
     "iopub.status.idle": "2024-03-08T19:18:53.264522Z",
     "shell.execute_reply": "2024-03-08T19:18:53.263526Z"
    },
    "papermill": {
     "duration": 0.023055,
     "end_time": "2024-03-08T19:18:53.266502",
     "exception": false,
     "start_time": "2024-03-08T19:18:53.243447",
     "status": "completed"
    },
    "tags": []
   },
   "outputs": [],
   "source": [
    "def build_vocabulary():\n",
    "    train_iterator = list(zip(train['title_and_text'], train['label']))\n",
    "    tokenizer = get_tokenizer(\"basic_english\")\n",
    "\n",
    "    def tokenizer_fn(data_iterator):\n",
    "        for text, _ in data_iterator:\n",
    "            yield tokenizer(text)\n",
    "\n",
    "    vocab = build_vocab_from_iterator(tokenizer_fn(train_iterator), specials=[\"<unk>\"], max_tokens=vocab_size)\n",
    "    vocab.set_default_index(vocab[\"<unk>\"])\n",
    "\n",
    "    return vocab, tokenizer\n",
    "\n",
    "def clean_text(dataframe):\n",
    "    stop_words = list(set(stopwords.words('english')))\n",
    "\n",
    "    def _process_text(text):\n",
    "        text = text.lower()\n",
    "        text = \" \".join([word for word in text.split() if word not in stop_words])\n",
    "        text = re.sub(r\"[^\\w\\s]\", '', text)\n",
    "        return text\n",
    "\n",
    "    dataframe['title_and_text'] = dataframe['title_and_text'].apply(_process_text)\n",
    "\n",
    "    return dataframe\n",
    "\n",
    "\n",
    "def tokenize_text(dataframe, vocab, tokenizer):\n",
    "    dataframe[\"title_and_text\"] = dataframe[\"title_and_text\"].apply(lambda x: np.array(vocab(tokenizer(x)), dtype=np.int64))\n",
    "    if \"label\" in dataframe.columns:\n",
    "        return dataframe[['title_and_text', 'label']]\n",
    "    return dataframe[['title_and_text']]\n",
    "\n",
    "\n",
    "def pad_tokens(dataframe, vocab, max_len):\n",
    "    dataframe['title_and_text'] = dataframe['title_and_text'].apply(\n",
    "        lambda x: np.pad(x, (0, max(0, max_len - len(x))), 'constant', constant_values=vocab[\"<unk>\"]))\n",
    "    dataframe[\"title_and_text\"] = dataframe[\"title_and_text\"].apply(lambda x: x[:max_len])\n",
    "    return dataframe\n",
    "\n",
    "def create_dataloader(dataframe, vocab, tokenizer, seq_len, batch_size):\n",
    "    dataframe = clean_text(dataframe)\n",
    "    dataframe = tokenize_text(dataframe, vocab, tokenizer)\n",
    "    dataframe = pad_tokens(dataframe=dataframe, vocab=vocab, max_len=seq_len)\n",
    "\n",
    "    if \"label\" in dataframe.columns:\n",
    "        dataset = TensorDataset(\n",
    "            torch.from_numpy(np.vstack(dataframe[\"title_and_text\"].values)),\n",
    "            torch.from_numpy(dataframe[\"label\"].values)\n",
    "        )\n",
    "    else:\n",
    "        dataset = TensorDataset(\n",
    "            torch.from_numpy(np.vstack(dataframe[\"title_and_text\"].values))\n",
    "        )\n",
    "\n",
    "    return DataLoader(\n",
    "        dataset,\n",
    "        batch_size=batch_size,\n",
    "        num_workers=2\n",
    "    )"
   ]
  },
  {
   "cell_type": "code",
   "execution_count": 8,
   "id": "434dd933",
   "metadata": {
    "execution": {
     "iopub.execute_input": "2024-03-08T19:18:53.279965Z",
     "iopub.status.busy": "2024-03-08T19:18:53.279350Z",
     "iopub.status.idle": "2024-03-08T19:20:05.217159Z",
     "shell.execute_reply": "2024-03-08T19:20:05.216334Z"
    },
    "papermill": {
     "duration": 71.946909,
     "end_time": "2024-03-08T19:20:05.219534",
     "exception": false,
     "start_time": "2024-03-08T19:18:53.272625",
     "status": "completed"
    },
    "tags": []
   },
   "outputs": [],
   "source": [
    "vocab, tokenizer = build_vocabulary()\n",
    "\n",
    "train_dataloader = create_dataloader(\n",
    "    dataframe=train, \n",
    "    vocab=vocab, \n",
    "    tokenizer=tokenizer, \n",
    "    seq_len=seq_len, \n",
    "    batch_size=batch_size\n",
    ")\n",
    "\n",
    "val_dataloader = create_dataloader(\n",
    "    dataframe=val, \n",
    "    vocab=vocab, \n",
    "    tokenizer=tokenizer, \n",
    "    seq_len=seq_len, \n",
    "    batch_size=batch_size\n",
    ")\n",
    "\n",
    "test_dataloader = create_dataloader(\n",
    "    dataframe=test, \n",
    "    vocab=vocab, \n",
    "    tokenizer=tokenizer, \n",
    "    seq_len=seq_len, \n",
    "    batch_size=batch_size\n",
    ")"
   ]
  },
  {
   "cell_type": "markdown",
   "id": "7c565466",
   "metadata": {
    "papermill": {
     "duration": 0.005803,
     "end_time": "2024-03-08T19:20:05.231505",
     "exception": false,
     "start_time": "2024-03-08T19:20:05.225702",
     "status": "completed"
    },
    "tags": []
   },
   "source": [
    "# Creating Model and Trainer"
   ]
  },
  {
   "cell_type": "code",
   "execution_count": 9,
   "id": "dbb0d75b",
   "metadata": {
    "execution": {
     "iopub.execute_input": "2024-03-08T19:20:05.246009Z",
     "iopub.status.busy": "2024-03-08T19:20:05.245205Z",
     "iopub.status.idle": "2024-03-08T19:20:05.252687Z",
     "shell.execute_reply": "2024-03-08T19:20:05.251829Z"
    },
    "papermill": {
     "duration": 0.016323,
     "end_time": "2024-03-08T19:20:05.254639",
     "exception": false,
     "start_time": "2024-03-08T19:20:05.238316",
     "status": "completed"
    },
    "tags": []
   },
   "outputs": [],
   "source": [
    "class LSTM(nn.Module):\n",
    "    def __init__(self, vocab_size, embedding_dim, hidden_dim, n_layers, seq_len):\n",
    "        super(LSTM, self).__init__()\n",
    "        self.embedding = nn.Embedding(vocab_size, embedding_dim)\n",
    "        self.lstm = nn.LSTM(input_size=embedding_dim, hidden_size=hidden_dim, num_layers=n_layers, batch_first=True)\n",
    "        self.fc = nn.Linear(seq_len * hidden_dim, 2)\n",
    "\n",
    "    def forward(self, x):\n",
    "        x = self.embedding(x)\n",
    "        x, _ = self.lstm(x)\n",
    "        x = torch.reshape(x, (x.size(0), -1,))\n",
    "        x = self.fc(x)\n",
    "        return F.log_softmax(x, dim=-1)"
   ]
  },
  {
   "cell_type": "code",
   "execution_count": 10,
   "id": "f3035582",
   "metadata": {
    "execution": {
     "iopub.execute_input": "2024-03-08T19:20:05.268145Z",
     "iopub.status.busy": "2024-03-08T19:20:05.267581Z",
     "iopub.status.idle": "2024-03-08T19:20:05.288108Z",
     "shell.execute_reply": "2024-03-08T19:20:05.287246Z"
    },
    "papermill": {
     "duration": 0.029323,
     "end_time": "2024-03-08T19:20:05.290080",
     "exception": false,
     "start_time": "2024-03-08T19:20:05.260757",
     "status": "completed"
    },
    "tags": []
   },
   "outputs": [],
   "source": [
    "class Trainer:\n",
    "    def __init__(self, model, train_dataloader, val_dataloader, test_dataloader, device, criterion, optimizer):\n",
    "        self.model = model\n",
    "        self.train_dataloader = train_dataloader\n",
    "        self.val_dataloader = val_dataloader\n",
    "        self.test_dataloader = test_dataloader\n",
    "        self.device = device\n",
    "        self.criterion = criterion\n",
    "        self.optimizer = optimizer\n",
    "\n",
    "    def train(self, current_epoch_nr):\n",
    "        self.model.train()\n",
    "\n",
    "        num_batches = len(self.train_dataloader)\n",
    "\n",
    "        preds = []\n",
    "        targets = []\n",
    "        correct = 0\n",
    "        running_loss = 0.0\n",
    "        items_processed = 0\n",
    "\n",
    "        loop = tqdm(enumerate(self.train_dataloader), total=num_batches)\n",
    "        for idx, (x, y) in loop:\n",
    "            x = x.to(self.device)\n",
    "            y = y.to(self.device)\n",
    "\n",
    "            y_hat = self.model(x)\n",
    "\n",
    "            loss = self.criterion(y_hat, y)\n",
    "            loss.backward()\n",
    "\n",
    "            self.optimizer.step()\n",
    "            self.optimizer.zero_grad()\n",
    "\n",
    "            running_loss += loss.item()\n",
    "\n",
    "            _, predicted = y_hat.max(1)\n",
    "            items_processed += y.size(0)\n",
    "            correct += predicted.eq(y).sum().item()\n",
    "\n",
    "            targets.extend(y.detach().cpu().numpy().flatten())\n",
    "            preds.extend(predicted.detach().cpu().numpy().flatten())\n",
    "\n",
    "            loop.set_description(f'Epoch {current_epoch_nr + 1}')\n",
    "            loop.set_postfix(train_acc=round(correct / items_processed, 4),\n",
    "                             train_loss=round(running_loss / items_processed, 4))\n",
    "\n",
    "        train_auc = metrics.roc_auc_score(targets, preds)\n",
    "        train_accuracy = correct / items_processed\n",
    "        train_loss = running_loss / items_processed\n",
    "        \n",
    "        return train_auc, train_accuracy, train_loss\n",
    "\n",
    "    def evaluate(self, current_epoch_nr, scheduler):\n",
    "        self.model.eval()\n",
    "\n",
    "        num_batches = len(self.val_dataloader)\n",
    "\n",
    "        preds = []\n",
    "        targets = []\n",
    "        correct = 0\n",
    "        running_loss = 0.0\n",
    "        items_processed = 0\n",
    "\n",
    "        with torch.no_grad():\n",
    "            loop = tqdm(enumerate(self.val_dataloader), total=num_batches)\n",
    "            for idx, (x, y) in loop:\n",
    "                x = x.to(self.device)\n",
    "                y = y.to(self.device)\n",
    "\n",
    "                y_hat = self.model(x)\n",
    "\n",
    "                loss = self.criterion(y_hat, y)\n",
    "\n",
    "                running_loss += loss.item()\n",
    "\n",
    "                _, predicted = y_hat.max(1)\n",
    "                items_processed += y.size(0)\n",
    "                correct += predicted.eq(y).sum().item()\n",
    "\n",
    "                targets.extend(y.detach().cpu().numpy().flatten())\n",
    "                preds.extend(predicted.detach().cpu().numpy().flatten())\n",
    "\n",
    "                loop.set_description(f'Epoch {current_epoch_nr + 1}')\n",
    "                loop.set_postfix(val_acc=round(correct / items_processed, 4),\n",
    "                                 val_loss=round(running_loss / items_processed, 4))\n",
    "\n",
    "        val_auc = metrics.roc_auc_score(targets, preds)\n",
    "        validation_accuracy = correct / items_processed\n",
    "        validation_loss = running_loss / num_batches\n",
    "\n",
    "        scheduler.step(validation_accuracy)\n",
    "        \n",
    "        return val_auc, validation_accuracy, validation_loss\n",
    "    \n",
    "    def predict(self):\n",
    "        self.model.eval()\n",
    "\n",
    "        num_batches = len(self.test_dataloader)\n",
    "\n",
    "        preds = []\n",
    "\n",
    "        with torch.no_grad():\n",
    "            loop = tqdm(enumerate(self.test_dataloader), total=num_batches)\n",
    "            for idx, x in loop:               \n",
    "                x = x[0].to(self.device)\n",
    "                y_hat = self.model(x)\n",
    "                _, predicted = y_hat.max(1)\n",
    "                preds.extend(predicted.detach().cpu().numpy().flatten())\n",
    "\n",
    "        return preds"
   ]
  },
  {
   "cell_type": "markdown",
   "id": "7f7a880d",
   "metadata": {
    "papermill": {
     "duration": 0.00571,
     "end_time": "2024-03-08T19:20:05.301827",
     "exception": false,
     "start_time": "2024-03-08T19:20:05.296117",
     "status": "completed"
    },
    "tags": []
   },
   "source": [
    "# Training"
   ]
  },
  {
   "cell_type": "code",
   "execution_count": 11,
   "id": "5e3862a5",
   "metadata": {
    "execution": {
     "iopub.execute_input": "2024-03-08T19:20:05.314864Z",
     "iopub.status.busy": "2024-03-08T19:20:05.314443Z",
     "iopub.status.idle": "2024-03-08T19:27:55.463810Z",
     "shell.execute_reply": "2024-03-08T19:27:55.462495Z"
    },
    "papermill": {
     "duration": 470.15803,
     "end_time": "2024-03-08T19:27:55.465864",
     "exception": false,
     "start_time": "2024-03-08T19:20:05.307834",
     "status": "completed"
    },
    "tags": []
   },
   "outputs": [
    {
     "name": "stderr",
     "output_type": "stream",
     "text": [
      "Epoch 1: 100%|██████████| 494/494 [00:46<00:00, 10.66it/s, train_acc=0.941, train_loss=0.0096]\n",
      "Epoch 1: 100%|██████████| 26/26 [00:00<00:00, 27.45it/s, val_acc=0.987, val_loss=0.001]\n",
      "Epoch 2: 100%|██████████| 494/494 [00:45<00:00, 10.84it/s, train_acc=0.996, train_loss=0.0003]\n",
      "Epoch 2: 100%|██████████| 26/26 [00:00<00:00, 27.46it/s, val_acc=0.986, val_loss=0.0014]\n",
      "Epoch 3: 100%|██████████| 494/494 [00:45<00:00, 10.84it/s, train_acc=0.998, train_loss=0.0001]\n",
      "Epoch 3: 100%|██████████| 26/26 [00:00<00:00, 27.67it/s, val_acc=0.979, val_loss=0.003]\n",
      "Epoch 4: 100%|██████████| 494/494 [00:45<00:00, 10.82it/s, train_acc=0.995, train_loss=0.0004]\n",
      "Epoch 4: 100%|██████████| 26/26 [00:00<00:00, 27.56it/s, val_acc=0.978, val_loss=0.0024]\n",
      "Epoch 5: 100%|██████████| 494/494 [00:45<00:00, 10.85it/s, train_acc=0.998, train_loss=0.0002]\n",
      "Epoch 5: 100%|██████████| 26/26 [00:00<00:00, 26.86it/s, val_acc=0.977, val_loss=0.0027]\n",
      "Epoch 6: 100%|██████████| 494/494 [00:45<00:00, 10.84it/s, train_acc=1, train_loss=0]\n",
      "Epoch 6: 100%|██████████| 26/26 [00:00<00:00, 27.29it/s, val_acc=0.989, val_loss=0.002]\n",
      "Epoch 7: 100%|██████████| 494/494 [00:45<00:00, 10.84it/s, train_acc=1, train_loss=0]\n",
      "Epoch 7: 100%|██████████| 26/26 [00:00<00:00, 26.71it/s, val_acc=0.989, val_loss=0.002]\n",
      "Epoch 8: 100%|██████████| 494/494 [00:45<00:00, 10.84it/s, train_acc=1, train_loss=0]\n",
      "Epoch 8: 100%|██████████| 26/26 [00:00<00:00, 27.46it/s, val_acc=0.989, val_loss=0.002]\n",
      "Epoch 9: 100%|██████████| 494/494 [00:45<00:00, 10.84it/s, train_acc=1, train_loss=0]\n",
      "Epoch 9: 100%|██████████| 26/26 [00:00<00:00, 27.09it/s, val_acc=0.988, val_loss=0.0021]\n",
      "Epoch 10: 100%|██████████| 494/494 [00:45<00:00, 10.84it/s, train_acc=1, train_loss=0]\n",
      "Epoch 10: 100%|██████████| 26/26 [00:00<00:00, 27.31it/s, val_acc=0.988, val_loss=0.0021]\n"
     ]
    }
   ],
   "source": [
    "device = \"cuda:0\"\n",
    "\n",
    "model = LSTM(\n",
    "    vocab_size=vocab_size, \n",
    "    embedding_dim=embedding_dim, \n",
    "    hidden_dim=hidden_dim, \n",
    "    n_layers=n_layers, \n",
    "    seq_len=seq_len\n",
    ").to(device)\n",
    "\n",
    "class_weights = compute_class_weight('balanced', classes=np.array([0, 1]), y=train[\"label\"])\n",
    "class_weights = torch.tensor(class_weights, dtype=torch.float).to(device)\n",
    "\n",
    "criterion = CrossEntropyLoss(weight=class_weights, reduction=\"mean\")\n",
    "optimizer = Adam(lr=learning_rate, params=model.parameters())\n",
    "scheduler = ReduceLROnPlateau(optimizer, mode=\"max\", factor=0.5, patience=2)\n",
    "\n",
    "trainer = Trainer(\n",
    "    model=model,\n",
    "    train_dataloader=train_dataloader,\n",
    "    val_dataloader=val_dataloader,\n",
    "    test_dataloader=test_dataloader,\n",
    "    device=device,\n",
    "    criterion=criterion,\n",
    "    optimizer=optimizer\n",
    ")\n",
    "\n",
    "train_aucs = []\n",
    "train_accs = []\n",
    "train_losses = []\n",
    "\n",
    "val_aucs = []\n",
    "val_accs = []\n",
    "val_losses = []\n",
    "\n",
    "for epoch in range(max_epochs):\n",
    "    train_auc, train_accuracy, train_loss = trainer.train(current_epoch_nr=epoch)\n",
    "    train_aucs.append(train_auc)\n",
    "    train_accs.append(train_accuracy)\n",
    "    train_losses.append(train_loss)\n",
    "    \n",
    "    val_auc, val_accuracy, val_loss = trainer.evaluate(current_epoch_nr=epoch, scheduler=scheduler)\n",
    "    val_aucs.append(val_auc)\n",
    "    val_accs.append(val_accuracy)\n",
    "    val_losses.append(val_loss)"
   ]
  },
  {
   "cell_type": "markdown",
   "id": "ce030d1b",
   "metadata": {
    "papermill": {
     "duration": 1.088575,
     "end_time": "2024-03-08T19:27:57.598336",
     "exception": false,
     "start_time": "2024-03-08T19:27:56.509761",
     "status": "completed"
    },
    "tags": []
   },
   "source": [
    "# Plotting Training History"
   ]
  },
  {
   "cell_type": "code",
   "execution_count": 12,
   "id": "1f333fec",
   "metadata": {
    "execution": {
     "iopub.execute_input": "2024-03-08T19:27:59.733420Z",
     "iopub.status.busy": "2024-03-08T19:27:59.732130Z",
     "iopub.status.idle": "2024-03-08T19:28:00.580338Z",
     "shell.execute_reply": "2024-03-08T19:28:00.579401Z"
    },
    "papermill": {
     "duration": 1.940197,
     "end_time": "2024-03-08T19:28:00.582590",
     "exception": false,
     "start_time": "2024-03-08T19:27:58.642393",
     "status": "completed"
    },
    "tags": []
   },
   "outputs": [
    {
     "data": {
      "image/png": "[encoded data removed]",
      "text/plain": [
       "<Figure size 1200x400 with 3 Axes>"
      ]
     },
     "metadata": {},
     "output_type": "display_data"
    }
   ],
   "source": [
    "fig, axs = plt.subplots(1, 3, figsize=(12, 4))\n",
    "\n",
    "axs[0].plot(train_aucs, label='train')\n",
    "axs[0].plot(val_aucs, label='val')\n",
    "axs[0].set_xlabel('Epochs')\n",
    "axs[0].set_title('AUC')\n",
    "axs[0].legend()\n",
    "\n",
    "axs[1].plot(train_accs, label='train')\n",
    "axs[1].plot(val_accs, label='val')\n",
    "axs[1].set_xlabel('Epochs')\n",
    "axs[1].set_title('Accuracy')\n",
    "axs[1].legend()\n",
    "\n",
    "axs[2].plot(train_losses, label='train')\n",
    "axs[2].plot(val_losses, label='val')\n",
    "axs[2].set_xlabel('Epochs')\n",
    "axs[2].set_title('Loss')\n",
    "axs[2].legend()\n",
    "\n",
    "plt.tight_layout()\n",
    "plt.show()"
   ]
  },
  {
   "cell_type": "markdown",
   "id": "dff82006",
   "metadata": {
    "papermill": {
     "duration": 1.037522,
     "end_time": "2024-03-08T19:28:02.707683",
     "exception": false,
     "start_time": "2024-03-08T19:28:01.670161",
     "status": "completed"
    },
    "tags": []
   },
   "source": [
    "# Creating Submission"
   ]
  },
  {
   "cell_type": "code",
   "execution_count": 13,
   "id": "86303eb9",
   "metadata": {
    "execution": {
     "iopub.execute_input": "2024-03-08T19:28:04.826152Z",
     "iopub.status.busy": "2024-03-08T19:28:04.825781Z",
     "iopub.status.idle": "2024-03-08T19:28:09.119612Z",
     "shell.execute_reply": "2024-03-08T19:28:09.118423Z"
    },
    "papermill": {
     "duration": 5.321562,
     "end_time": "2024-03-08T19:28:09.121570",
     "exception": false,
     "start_time": "2024-03-08T19:28:03.800008",
     "status": "completed"
    },
    "tags": []
   },
   "outputs": [
    {
     "name": "stderr",
     "output_type": "stream",
     "text": [
      "100%|██████████| 130/130 [00:04<00:00, 31.01it/s]\n"
     ]
    },
    {
     "data": {
      "text/html": [
       "<div>\n",
       "<style scoped>\n",
       "    .dataframe tbody tr th:only-of-type {\n",
       "        vertical-align: middle;\n",
       "    }\n",
       "\n",
       "    .dataframe tbody tr th {\n",
       "        vertical-align: top;\n",
       "    }\n",
       "\n",
       "    .dataframe thead th {\n",
       "        text-align: right;\n",
       "    }\n",
       "</style>\n",
       "<table border=\"1\" class=\"dataframe\">\n",
       "  <thead>\n",
       "    <tr style=\"text-align: right;\">\n",
       "      <th></th>\n",
       "      <th>id</th>\n",
       "      <th>label</th>\n",
       "    </tr>\n",
       "  </thead>\n",
       "  <tbody>\n",
       "    <tr>\n",
       "      <th>0</th>\n",
       "      <td>20800</td>\n",
       "      <td>0</td>\n",
       "    </tr>\n",
       "    <tr>\n",
       "      <th>1</th>\n",
       "      <td>20801</td>\n",
       "      <td>1</td>\n",
       "    </tr>\n",
       "    <tr>\n",
       "      <th>2</th>\n",
       "      <td>20802</td>\n",
       "      <td>1</td>\n",
       "    </tr>\n",
       "    <tr>\n",
       "      <th>3</th>\n",
       "      <td>20803</td>\n",
       "      <td>0</td>\n",
       "    </tr>\n",
       "    <tr>\n",
       "      <th>4</th>\n",
       "      <td>20804</td>\n",
       "      <td>1</td>\n",
       "    </tr>\n",
       "  </tbody>\n",
       "</table>\n",
       "</div>"
      ],
      "text/plain": [
       "      id  label\n",
       "0  20800      0\n",
       "1  20801      1\n",
       "2  20802      1\n",
       "3  20803      0\n",
       "4  20804      1"
      ]
     },
     "execution_count": 13,
     "metadata": {},
     "output_type": "execute_result"
    }
   ],
   "source": [
    "predictions = trainer.predict()\n",
    "submission = pd.DataFrame({'id': test_ds_ids, 'label': predictions})\n",
    "submission.to_csv('submission.csv', index=False)\n",
    "submission.head()"
   ]
  },
  {
   "cell_type": "code",
   "execution_count": null,
   "id": "3eb47d88",
   "metadata": {
    "papermill": {
     "duration": 1.025302,
     "end_time": "2024-03-08T19:28:11.244437",
     "exception": false,
     "start_time": "2024-03-08T19:28:10.219135",
     "status": "completed"
    },
    "tags": []
   },
   "outputs": [],
   "source": []
  }
 ],
 "metadata": {
  "kaggle": {
   "accelerator": "gpu",
   "dataSources": [
    {
     "databundleVersionId": 109592,
     "sourceId": 8317,
     "sourceType": "competition"
    }
   ],
   "isGpuEnabled": true,
   "isInternetEnabled": true,
   "language": "python",
   "sourceType": "notebook"
  },
  "kernelspec": {
   "display_name": "Python 3",
   "language": "python",
   "name": "python3"
  },
  "language_info": {
   "codemirror_mode": {
    "name": "ipython",
    "version": 3
   },
   "file_extension": ".py",
   "mimetype": "text/x-python",
   "name": "python",
   "nbconvert_exporter": "python",
   "pygments_lexer": "ipython3",
   "version": "3.10.13"
  },
  "papermill": {
   "default_parameters": {},
   "duration": 575.803204,
   "end_time": "2024-03-08T19:28:14.856022",
   "environment_variables": {},
   "exception": null,
   "input_path": "__notebook__.ipynb",
   "output_path": "__notebook__.ipynb",
   "parameters": {},
   "start_time": "2024-03-08T19:18:39.052818",
   "version": "2.5.0"
  }
 },
 "nbformat": 4,
 "nbformat_minor": 5
}
