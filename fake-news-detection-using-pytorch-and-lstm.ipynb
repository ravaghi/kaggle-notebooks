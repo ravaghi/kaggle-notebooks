{
 "cells": [
  {
   "cell_type": "code",
   "execution_count": 1,
   "id": "dd4dd778",
   "metadata": {
    "_cell_guid": "b1076dfc-b9ad-4769-8c92-a6c4dae69d19",
    "_uuid": "8f2839f25d086af736a60e9eeb907d3b93b6e0e5",
    "execution": {
     "iopub.execute_input": "2023-08-03T10:12:02.375286Z",
     "iopub.status.busy": "2023-08-03T10:12:02.374850Z",
     "iopub.status.idle": "2023-08-03T10:12:02.395449Z",
     "shell.execute_reply": "2023-08-03T10:12:02.394560Z"
    },
    "papermill": {
     "duration": 0.030261,
     "end_time": "2023-08-03T10:12:02.397624",
     "exception": false,
     "start_time": "2023-08-03T10:12:02.367363",
     "status": "completed"
    },
    "tags": []
   },
   "outputs": [
    {
     "name": "stdout",
     "output_type": "stream",
     "text": [
      "/kaggle/input/fake-and-real-news-dataset/True.csv\n",
      "/kaggle/input/fake-and-real-news-dataset/Fake.csv\n"
     ]
    }
   ],
   "source": [
    "# This Python 3 environment comes with many helpful analytics libraries installed\n",
    "# It is defined by the kaggle/python Docker image: https://github.com/kaggle/docker-python\n",
    "# For example, here's several helpful packages to load\n",
    "\n",
    "import numpy as np # linear algebra\n",
    "import pandas as pd # data processing, CSV file I/O (e.g. pd.read_csv)\n",
    "\n",
    "# Input data files are available in the read-only \"../input/\" directory\n",
    "# For example, running this (by clicking run or pressing Shift+Enter) will list all files under the input directory\n",
    "\n",
    "import os\n",
    "\n",
    "for dirname, _, filenames in os.walk('/kaggle/input'):\n",
    "    for filename in filenames:\n",
    "        print(os.path.join(dirname, filename))\n",
    "\n",
    "# You can write up to 20GB to the current directory (/kaggle/working/) that gets preserved as output when you create a version using \"Save & Run All\" \n",
    "# You can also write temporary files to /kaggle/temp/, but they won't be saved outside of the current session"
   ]
  },
  {
   "cell_type": "code",
   "execution_count": 2,
   "id": "f0af16c6",
   "metadata": {
    "execution": {
     "iopub.execute_input": "2023-08-03T10:12:02.409267Z",
     "iopub.status.busy": "2023-08-03T10:12:02.408996Z",
     "iopub.status.idle": "2023-08-03T10:12:07.927920Z",
     "shell.execute_reply": "2023-08-03T10:12:07.926945Z"
    },
    "papermill": {
     "duration": 5.527389,
     "end_time": "2023-08-03T10:12:07.930345",
     "exception": false,
     "start_time": "2023-08-03T10:12:02.402956",
     "status": "completed"
    },
    "tags": []
   },
   "outputs": [
    {
     "name": "stderr",
     "output_type": "stream",
     "text": [
      "/opt/conda/lib/python3.10/site-packages/scipy/__init__.py:146: UserWarning: A NumPy version >=1.16.5 and <1.23.0 is required for this version of SciPy (detected version 1.23.5\n",
      "  warnings.warn(f\"A NumPy version >={np_minversion} and <{np_maxversion}\"\n"
     ]
    }
   ],
   "source": [
    "import os\n",
    "import random\n",
    "import re\n",
    "import numpy as np\n",
    "import pandas as pd\n",
    "import torch\n",
    "from torchtext.data.utils import get_tokenizer\n",
    "from torchtext.vocab import build_vocab_from_iterator\n",
    "from nltk.corpus import stopwords\n",
    "from torch.utils.data import TensorDataset, DataLoader\n",
    "import torch.nn as nn\n",
    "from torch.nn import CrossEntropyLoss\n",
    "from torch.optim import Adam\n",
    "from torch.optim.lr_scheduler import ReduceLROnPlateau\n",
    "from sklearn import metrics\n",
    "from sklearn.utils.class_weight import compute_class_weight\n",
    "from tqdm import tqdm\n",
    "import torch.nn.functional as F\n",
    "import matplotlib.pyplot as plt\n",
    "\n",
    "pd.options.mode.chained_assignment = None"
   ]
  },
  {
   "cell_type": "code",
   "execution_count": 3,
   "id": "bbbd016a",
   "metadata": {
    "execution": {
     "iopub.execute_input": "2023-08-03T10:12:07.943758Z",
     "iopub.status.busy": "2023-08-03T10:12:07.942506Z",
     "iopub.status.idle": "2023-08-03T10:12:07.951940Z",
     "shell.execute_reply": "2023-08-03T10:12:07.951096Z"
    },
    "papermill": {
     "duration": 0.018111,
     "end_time": "2023-08-03T10:12:07.954058",
     "exception": false,
     "start_time": "2023-08-03T10:12:07.935947",
     "status": "completed"
    },
    "tags": []
   },
   "outputs": [],
   "source": [
    "# For reproducibility\n",
    "seed = 42\n",
    "\n",
    "random.seed(seed)\n",
    "os.environ['PYTHONHASHSEED'] = str(seed)\n",
    "np.random.seed(seed)\n",
    "torch.manual_seed(seed)\n",
    "torch.cuda.manual_seed(seed)"
   ]
  },
  {
   "cell_type": "code",
   "execution_count": 4,
   "id": "5d49a84d",
   "metadata": {
    "execution": {
     "iopub.execute_input": "2023-08-03T10:12:07.965526Z",
     "iopub.status.busy": "2023-08-03T10:12:07.965265Z",
     "iopub.status.idle": "2023-08-03T10:12:07.970095Z",
     "shell.execute_reply": "2023-08-03T10:12:07.969152Z"
    },
    "papermill": {
     "duration": 0.012963,
     "end_time": "2023-08-03T10:12:07.972176",
     "exception": false,
     "start_time": "2023-08-03T10:12:07.959213",
     "status": "completed"
    },
    "tags": []
   },
   "outputs": [],
   "source": [
    "# Hyperparameters\n",
    "vocab_size = 160_000\n",
    "embedding_dim = 300\n",
    "hidden_dim = 128\n",
    "n_layers = 2\n",
    "seq_len = 2000\n",
    "learning_rate = 0.0025\n",
    "max_epochs = 10\n",
    "batch_size = 40"
   ]
  },
  {
   "cell_type": "markdown",
   "id": "76c3dc8a",
   "metadata": {
    "papermill": {
     "duration": 0.004897,
     "end_time": "2023-08-03T10:12:07.982616",
     "exception": false,
     "start_time": "2023-08-03T10:12:07.977719",
     "status": "completed"
    },
    "tags": []
   },
   "source": [
    "# Data loading and preprocessing"
   ]
  },
  {
   "cell_type": "code",
   "execution_count": 5,
   "id": "1f496e9e",
   "metadata": {
    "execution": {
     "iopub.execute_input": "2023-08-03T10:12:07.995087Z",
     "iopub.status.busy": "2023-08-03T10:12:07.993703Z",
     "iopub.status.idle": "2023-08-03T10:12:10.530572Z",
     "shell.execute_reply": "2023-08-03T10:12:10.529604Z"
    },
    "papermill": {
     "duration": 2.545369,
     "end_time": "2023-08-03T10:12:10.533140",
     "exception": false,
     "start_time": "2023-08-03T10:12:07.987771",
     "status": "completed"
    },
    "tags": []
   },
   "outputs": [],
   "source": [
    "# Read data\n",
    "real = pd.read_csv(\"/kaggle/input/fake-and-real-news-dataset/True.csv\")\n",
    "fake = pd.read_csv(\"/kaggle/input/fake-and-real-news-dataset/Fake.csv\")\n",
    "\n",
    "# Create labels\n",
    "real[\"label\"] = 1\n",
    "fake[\"label\"] = 0\n",
    "\n",
    "# Combine and shuffle\n",
    "combined = pd.concat([fake, real], axis=0)\n",
    "combined = combined.sample(frac=1).reset_index(drop=True)\n",
    "\n",
    "# Split dataset into train, val and test with a ratio of 80-10-10\n",
    "train = combined[:int(0.8 * len(combined))]\n",
    "val = combined[int(0.8 * len(combined)):int(0.9 * len(combined))]\n",
    "test = combined[int(0.9 * len(combined)):]"
   ]
  },
  {
   "cell_type": "code",
   "execution_count": 6,
   "id": "7716bfd0",
   "metadata": {
    "execution": {
     "iopub.execute_input": "2023-08-03T10:12:10.545873Z",
     "iopub.status.busy": "2023-08-03T10:12:10.545523Z",
     "iopub.status.idle": "2023-08-03T10:12:10.552525Z",
     "shell.execute_reply": "2023-08-03T10:12:10.551675Z"
    },
    "papermill": {
     "duration": 0.015615,
     "end_time": "2023-08-03T10:12:10.554549",
     "exception": false,
     "start_time": "2023-08-03T10:12:10.538934",
     "status": "completed"
    },
    "tags": []
   },
   "outputs": [
    {
     "data": {
      "text/plain": [
       "((35918, 5), (4490, 5), (4490, 5))"
      ]
     },
     "execution_count": 6,
     "metadata": {},
     "output_type": "execute_result"
    }
   ],
   "source": [
    "train.shape, val.shape, test.shape"
   ]
  },
  {
   "cell_type": "code",
   "execution_count": 7,
   "id": "b123f1d0",
   "metadata": {
    "execution": {
     "iopub.execute_input": "2023-08-03T10:12:10.567718Z",
     "iopub.status.busy": "2023-08-03T10:12:10.566321Z",
     "iopub.status.idle": "2023-08-03T10:13:21.885178Z",
     "shell.execute_reply": "2023-08-03T10:13:21.884188Z"
    },
    "papermill": {
     "duration": 71.327658,
     "end_time": "2023-08-03T10:13:21.887609",
     "exception": false,
     "start_time": "2023-08-03T10:12:10.559951",
     "status": "completed"
    },
    "tags": []
   },
   "outputs": [],
   "source": [
    "def build_vocabulary():\n",
    "    train_iterator = list(zip(train['text'], train['label']))\n",
    "    tokenizer = get_tokenizer(\"basic_english\")\n",
    "\n",
    "    def tokenizer_fn(data_iterator):\n",
    "        for text, _ in data_iterator:\n",
    "            yield tokenizer(text)\n",
    "\n",
    "    vocab = build_vocab_from_iterator(tokenizer_fn(train_iterator), specials=[\"<unk>\"])\n",
    "    vocab.set_default_index(vocab[\"<unk>\"])\n",
    "\n",
    "    return vocab, tokenizer\n",
    "\n",
    "def clean_text(dataframe):\n",
    "    dataframe[\"text\"] = dataframe[\"subject\"] + \" \" + dataframe[\"title\"] + \" \" + dataframe[\"text\"]\n",
    "\n",
    "    del dataframe['title']\n",
    "    del dataframe['subject']\n",
    "    del dataframe['date']\n",
    "\n",
    "    stop_words = list(set(stopwords.words('english')))\n",
    "\n",
    "    def _process_text(text):\n",
    "        text = text.lower()\n",
    "        text = \" \".join([word for word in text.split() if word not in stop_words])\n",
    "        text = re.sub(r\"[^\\w\\s]\", '', text)\n",
    "        return text\n",
    "\n",
    "    dataframe['text'] = dataframe['text'].apply(_process_text)\n",
    "\n",
    "    return dataframe\n",
    "\n",
    "\n",
    "def tokenize_text(dataframe, vocab, tokenizer):\n",
    "    dataframe[\"text\"] = dataframe[\"text\"].apply(lambda x: np.array(vocab(tokenizer(x)), dtype=np.int64))\n",
    "    return dataframe[['text', 'label']]\n",
    "\n",
    "\n",
    "def pad_tokens(dataframe, vocab, max_len):\n",
    "    dataframe['text'] = dataframe['text'].apply(\n",
    "        lambda x: np.pad(x, (0, max(0, max_len - len(x))), 'constant', constant_values=vocab[\"<unk>\"]))\n",
    "    dataframe[\"text\"] = dataframe[\"text\"].apply(lambda x: x[:max_len])\n",
    "    return dataframe\n",
    "\n",
    "def create_dataloader(dataframe, vocab, tokenizer, seq_len, batch_size):\n",
    "    dataframe = clean_text(dataframe)\n",
    "    dataframe = tokenize_text(dataframe, vocab, tokenizer)\n",
    "    dataframe = pad_tokens(dataframe=dataframe, vocab=vocab, max_len=seq_len)\n",
    "\n",
    "    dataset = TensorDataset(\n",
    "        torch.from_numpy(np.vstack(dataframe[\"text\"].values)),\n",
    "        torch.from_numpy(dataframe[\"label\"].values)\n",
    "    )\n",
    "\n",
    "    return DataLoader(\n",
    "        dataset,\n",
    "        batch_size=batch_size,\n",
    "        num_workers=1\n",
    "    )\n",
    "\n",
    "vocab, tokenizer = build_vocabulary()\n",
    "\n",
    "train_dataloader = create_dataloader(\n",
    "    dataframe=train, \n",
    "    vocab=vocab, \n",
    "    tokenizer=tokenizer, \n",
    "    seq_len=seq_len, \n",
    "    batch_size=batch_size\n",
    ")\n",
    "\n",
    "val_dataloader = create_dataloader(\n",
    "    dataframe=val, \n",
    "    vocab=vocab, \n",
    "    tokenizer=tokenizer, \n",
    "    seq_len=seq_len, \n",
    "    batch_size=batch_size\n",
    ")\n",
    "\n",
    "test_dataloader = create_dataloader(\n",
    "    dataframe=test, \n",
    "    vocab=vocab, \n",
    "    tokenizer=tokenizer, \n",
    "    seq_len=seq_len, \n",
    "    batch_size=batch_size\n",
    ")"
   ]
  },
  {
   "cell_type": "markdown",
   "id": "52b831c9",
   "metadata": {
    "papermill": {
     "duration": 0.005166,
     "end_time": "2023-08-03T10:13:21.898455",
     "exception": false,
     "start_time": "2023-08-03T10:13:21.893289",
     "status": "completed"
    },
    "tags": []
   },
   "source": [
    "# Trainer"
   ]
  },
  {
   "cell_type": "code",
   "execution_count": 8,
   "id": "13a76ceb",
   "metadata": {
    "execution": {
     "iopub.execute_input": "2023-08-03T10:13:21.910973Z",
     "iopub.status.busy": "2023-08-03T10:13:21.910671Z",
     "iopub.status.idle": "2023-08-03T10:13:21.933847Z",
     "shell.execute_reply": "2023-08-03T10:13:21.932843Z"
    },
    "papermill": {
     "duration": 0.032224,
     "end_time": "2023-08-03T10:13:21.936015",
     "exception": false,
     "start_time": "2023-08-03T10:13:21.903791",
     "status": "completed"
    },
    "tags": []
   },
   "outputs": [],
   "source": [
    "class Trainer:\n",
    "    def __init__(self, model, train_dataloader, val_dataloader, test_dataloader, device, criterion, optimizer):\n",
    "        self.model = model\n",
    "        self.train_dataloader = train_dataloader\n",
    "        self.val_dataloader = val_dataloader\n",
    "        self.test_dataloader = test_dataloader\n",
    "        self.device = device\n",
    "        self.criterion = criterion\n",
    "        self.optimizer = optimizer\n",
    "\n",
    "    def train(self, current_epoch_nr):\n",
    "        self.model.train()\n",
    "\n",
    "        num_batches = len(self.train_dataloader)\n",
    "\n",
    "        preds = []\n",
    "        targets = []\n",
    "        correct = 0\n",
    "        running_loss = 0.0\n",
    "        items_processed = 0\n",
    "\n",
    "        loop = tqdm(enumerate(self.train_dataloader), total=num_batches)\n",
    "        for idx, (x, y) in loop:\n",
    "            x = x.to(self.device)\n",
    "            y = y.to(self.device)\n",
    "\n",
    "            y_hat = self.model(x)\n",
    "\n",
    "            loss = self.criterion(y_hat, y)\n",
    "            loss.backward()\n",
    "\n",
    "            self.optimizer.step()\n",
    "            self.optimizer.zero_grad()\n",
    "\n",
    "            running_loss += loss.item()\n",
    "\n",
    "            _, predicted = y_hat.max(1)\n",
    "            items_processed += y.size(0)\n",
    "            correct += predicted.eq(y).sum().item()\n",
    "\n",
    "            targets.extend(y.detach().cpu().numpy().flatten())\n",
    "            preds.extend(predicted.detach().cpu().numpy().flatten())\n",
    "\n",
    "            loop.set_description(f'Epoch {current_epoch_nr + 1}')\n",
    "            loop.set_postfix(train_acc=round(correct / items_processed, 4),\n",
    "                             train_loss=round(running_loss / items_processed, 4))\n",
    "\n",
    "        train_auc = metrics.roc_auc_score(targets, preds)\n",
    "        train_accuracy = correct / items_processed\n",
    "        train_loss = running_loss / items_processed\n",
    "        \n",
    "        return train_auc, train_accuracy, train_loss\n",
    "\n",
    "    def evaluate(self, current_epoch_nr, scheduler):\n",
    "        self.model.eval()\n",
    "\n",
    "        num_batches = len(self.val_dataloader)\n",
    "\n",
    "        preds = []\n",
    "        targets = []\n",
    "        correct = 0\n",
    "        running_loss = 0.0\n",
    "        items_processed = 0\n",
    "\n",
    "        with torch.no_grad():\n",
    "            loop = tqdm(enumerate(self.val_dataloader), total=num_batches)\n",
    "            for idx, (x, y) in loop:\n",
    "                x = x.to(self.device)\n",
    "                y = y.to(self.device)\n",
    "\n",
    "                y_hat = self.model(x)\n",
    "\n",
    "                loss = self.criterion(y_hat, y)\n",
    "\n",
    "                running_loss += loss.item()\n",
    "\n",
    "                _, predicted = y_hat.max(1)\n",
    "                items_processed += y.size(0)\n",
    "                correct += predicted.eq(y).sum().item()\n",
    "\n",
    "                targets.extend(y.detach().cpu().numpy().flatten())\n",
    "                preds.extend(predicted.detach().cpu().numpy().flatten())\n",
    "\n",
    "                loop.set_description(f'Epoch {current_epoch_nr + 1}')\n",
    "                loop.set_postfix(val_acc=round(correct / items_processed, 4),\n",
    "                                 val_loss=round(running_loss / items_processed, 4))\n",
    "\n",
    "        val_auc = metrics.roc_auc_score(targets, preds)\n",
    "        validation_accuracy = correct / items_processed\n",
    "        validation_loss = running_loss / num_batches\n",
    "\n",
    "        scheduler.step(validation_accuracy)\n",
    "        \n",
    "        return val_auc, validation_accuracy, validation_loss\n",
    "\n",
    "    def test(self):\n",
    "        self.model.eval()\n",
    "\n",
    "        num_batches = len(self.test_dataloader)\n",
    "\n",
    "        preds = []\n",
    "        targets = []\n",
    "        running_loss = 0.0\n",
    "        correct = 0\n",
    "        total = 0\n",
    "\n",
    "        with torch.no_grad():\n",
    "            loop = tqdm(enumerate(self.test_dataloader), total=num_batches)\n",
    "            for idx, (x, y) in loop:\n",
    "                x = x.to(self.device)\n",
    "                y = y.to(self.device)\n",
    "\n",
    "                y_hat = self.model(x)\n",
    "\n",
    "                loss = self.criterion(y_hat, y)\n",
    "\n",
    "                running_loss += loss.item()\n",
    "\n",
    "                _, predicted = y_hat.max(1)\n",
    "                total += y.size(0)\n",
    "                correct += predicted.eq(y).sum().item()\n",
    "\n",
    "                targets.extend(y.detach().cpu().numpy().flatten())\n",
    "                preds.extend(predicted.detach().cpu().numpy().flatten())\n",
    "\n",
    "                loop.set_description('Testing')\n",
    "                loop.set_postfix(test_acc=round(correct / total, 4),\n",
    "                                 test_loss=round(running_loss / total, 4))\n",
    "\n",
    "        test_auc = metrics.roc_auc_score(targets, preds)\n",
    "        test_accuracy = correct / total\n",
    "        test_loss = running_loss / num_batches\n",
    "        \n",
    "        return test_auc, test_accuracy, test_loss"
   ]
  },
  {
   "cell_type": "markdown",
   "id": "db6df2a1",
   "metadata": {
    "papermill": {
     "duration": 0.005082,
     "end_time": "2023-08-03T10:13:21.946412",
     "exception": false,
     "start_time": "2023-08-03T10:13:21.941330",
     "status": "completed"
    },
    "tags": []
   },
   "source": [
    "# Model"
   ]
  },
  {
   "cell_type": "code",
   "execution_count": 9,
   "id": "d6ebd21e",
   "metadata": {
    "execution": {
     "iopub.execute_input": "2023-08-03T10:13:21.958203Z",
     "iopub.status.busy": "2023-08-03T10:13:21.957920Z",
     "iopub.status.idle": "2023-08-03T10:13:21.964559Z",
     "shell.execute_reply": "2023-08-03T10:13:21.963708Z"
    },
    "papermill": {
     "duration": 0.014969,
     "end_time": "2023-08-03T10:13:21.966685",
     "exception": false,
     "start_time": "2023-08-03T10:13:21.951716",
     "status": "completed"
    },
    "tags": []
   },
   "outputs": [],
   "source": [
    "class LSTM(nn.Module):\n",
    "    def __init__(self, vocab_size, embedding_dim, hidden_dim, n_layers, seq_len):\n",
    "        super(LSTM, self).__init__()\n",
    "        self.embedding = nn.Embedding(vocab_size, embedding_dim)\n",
    "        self.lstm = nn.LSTM(input_size=embedding_dim, hidden_size=hidden_dim, num_layers=n_layers, batch_first=True)\n",
    "        self.fc = nn.Linear(seq_len * hidden_dim, 2)\n",
    "\n",
    "    def forward(self, x):\n",
    "        x = self.embedding(x)\n",
    "        x, _ = self.lstm(x)\n",
    "        x = torch.reshape(x, (x.size(0), -1,))\n",
    "        x = self.fc(x)\n",
    "        return F.log_softmax(x, dim=-1)"
   ]
  },
  {
   "cell_type": "markdown",
   "id": "30526aa6",
   "metadata": {
    "papermill": {
     "duration": 0.00506,
     "end_time": "2023-08-03T10:13:21.976930",
     "exception": false,
     "start_time": "2023-08-03T10:13:21.971870",
     "status": "completed"
    },
    "tags": []
   },
   "source": [
    "# Training"
   ]
  },
  {
   "cell_type": "code",
   "execution_count": 10,
   "id": "08870f1e",
   "metadata": {
    "execution": {
     "iopub.execute_input": "2023-08-03T10:13:21.988621Z",
     "iopub.status.busy": "2023-08-03T10:13:21.988355Z",
     "iopub.status.idle": "2023-08-03T10:26:20.654450Z",
     "shell.execute_reply": "2023-08-03T10:26:20.653286Z"
    },
    "papermill": {
     "duration": 778.674736,
     "end_time": "2023-08-03T10:26:20.656974",
     "exception": false,
     "start_time": "2023-08-03T10:13:21.982238",
     "status": "completed"
    },
    "tags": []
   },
   "outputs": [
    {
     "name": "stderr",
     "output_type": "stream",
     "text": [
      "Epoch 1: 100%|██████████| 898/898 [01:13<00:00, 12.24it/s, train_acc=0.979, train_loss=0.0083]\n",
      "Epoch 1: 100%|██████████| 113/113 [00:03<00:00, 28.75it/s, val_acc=0.997, val_loss=0.0002]\n",
      "Epoch 2: 100%|██████████| 898/898 [01:12<00:00, 12.32it/s, train_acc=1, train_loss=0]\n",
      "Epoch 2: 100%|██████████| 113/113 [00:03<00:00, 30.08it/s, val_acc=1, val_loss=0.0001]\n",
      "Epoch 3: 100%|██████████| 898/898 [01:12<00:00, 12.33it/s, train_acc=1, train_loss=0]\n",
      "Epoch 3: 100%|██████████| 113/113 [00:03<00:00, 30.42it/s, val_acc=1, val_loss=0.0001]\n",
      "Epoch 4: 100%|██████████| 898/898 [01:12<00:00, 12.30it/s, train_acc=1, train_loss=0]\n",
      "Epoch 4: 100%|██████████| 113/113 [00:03<00:00, 30.51it/s, val_acc=1, val_loss=0.0001]\n",
      "Epoch 5: 100%|██████████| 898/898 [01:12<00:00, 12.32it/s, train_acc=1, train_loss=0]\n",
      "Epoch 5: 100%|██████████| 113/113 [00:03<00:00, 29.31it/s, val_acc=1, val_loss=0.0001]\n",
      "Epoch 6: 100%|██████████| 898/898 [01:13<00:00, 12.27it/s, train_acc=1, train_loss=0]\n",
      "Epoch 6: 100%|██████████| 113/113 [00:03<00:00, 29.77it/s, val_acc=1, val_loss=0.0001]\n",
      "Epoch 7: 100%|██████████| 898/898 [01:12<00:00, 12.32it/s, train_acc=1, train_loss=0]\n",
      "Epoch 7: 100%|██████████| 113/113 [00:03<00:00, 30.60it/s, val_acc=1, val_loss=0.0001]\n",
      "Epoch 8: 100%|██████████| 898/898 [01:12<00:00, 12.33it/s, train_acc=1, train_loss=0]\n",
      "Epoch 8: 100%|██████████| 113/113 [00:03<00:00, 29.51it/s, val_acc=1, val_loss=0.0001]\n",
      "Epoch 9: 100%|██████████| 898/898 [01:13<00:00, 12.21it/s, train_acc=1, train_loss=0]\n",
      "Epoch 9: 100%|██████████| 113/113 [00:03<00:00, 29.89it/s, val_acc=1, val_loss=0.0001]\n",
      "Epoch 10: 100%|██████████| 898/898 [01:13<00:00, 12.27it/s, train_acc=1, train_loss=0]\n",
      "Epoch 10: 100%|██████████| 113/113 [00:03<00:00, 29.68it/s, val_acc=1, val_loss=0.0001]\n",
      "Testing: 100%|██████████| 113/113 [00:03<00:00, 28.99it/s, test_acc=1, test_loss=0.0001]\n"
     ]
    }
   ],
   "source": [
    "device = \"cuda\"\n",
    "\n",
    "model = LSTM(\n",
    "    vocab_size=vocab_size, \n",
    "    embedding_dim=embedding_dim, \n",
    "    hidden_dim=hidden_dim, \n",
    "    n_layers=n_layers, \n",
    "    seq_len=seq_len\n",
    ").to(device)\n",
    "\n",
    "\n",
    "class_weights = compute_class_weight('balanced', classes=[0, 1], y=train[\"label\"])\n",
    "class_weights = torch.tensor(class_weights, dtype=torch.float).to(device)\n",
    "\n",
    "criterion = CrossEntropyLoss(weight=class_weights, reduction=\"mean\")\n",
    "optimizer = Adam(lr=learning_rate, params=model.parameters())\n",
    "scheduler = ReduceLROnPlateau(optimizer, mode=\"max\", factor=0.5, patience=2)\n",
    "\n",
    "trainer = Trainer(\n",
    "    model=model,\n",
    "    train_dataloader=train_dataloader,\n",
    "    val_dataloader=val_dataloader,\n",
    "    test_dataloader=test_dataloader,\n",
    "    device=device,\n",
    "    criterion=criterion,\n",
    "    optimizer=optimizer\n",
    ")\n",
    "\n",
    "train_aucs = []\n",
    "train_accs = []\n",
    "train_losses = []\n",
    "\n",
    "val_aucs = []\n",
    "val_accs = []\n",
    "val_losses = []\n",
    "\n",
    "for epoch in range(max_epochs):\n",
    "    train_auc, train_accuracy, train_loss = trainer.train(current_epoch_nr=epoch)\n",
    "    train_aucs.append(train_auc)\n",
    "    train_accs.append(train_accuracy)\n",
    "    train_losses.append(train_loss)\n",
    "    \n",
    "    val_auc, val_accuracy, val_loss = trainer.evaluate(current_epoch_nr=epoch, scheduler=scheduler)\n",
    "    val_aucs.append(val_auc)\n",
    "    val_accs.append(val_accuracy)\n",
    "    val_losses.append(val_loss)\n",
    "\n",
    "test_auc, test_accuracy, test_loss = trainer.test()"
   ]
  },
  {
   "cell_type": "markdown",
   "id": "1b3bd728",
   "metadata": {
    "papermill": {
     "duration": 2.143082,
     "end_time": "2023-08-03T10:26:25.230551",
     "exception": false,
     "start_time": "2023-08-03T10:26:23.087469",
     "status": "completed"
    },
    "tags": []
   },
   "source": [
    "# Results"
   ]
  },
  {
   "cell_type": "code",
   "execution_count": 11,
   "id": "21ff06b0",
   "metadata": {
    "execution": {
     "iopub.execute_input": "2023-08-03T10:26:29.239191Z",
     "iopub.status.busy": "2023-08-03T10:26:29.238826Z",
     "iopub.status.idle": "2023-08-03T10:26:30.104568Z",
     "shell.execute_reply": "2023-08-03T10:26:30.103613Z"
    },
    "papermill": {
     "duration": 2.86889,
     "end_time": "2023-08-03T10:26:30.107315",
     "exception": false,
     "start_time": "2023-08-03T10:26:27.238425",
     "status": "completed"
    },
    "tags": []
   },
   "outputs": [
    {
     "data": {
      "image/png": "[encoded data removed]",
      "text/plain": [
       "<Figure size 1200x400 with 3 Axes>"
      ]
     },
     "metadata": {},
     "output_type": "display_data"
    }
   ],
   "source": [
    "fig, axs = plt.subplots(1, 3, figsize=(12, 4))\n",
    "\n",
    "axs[0].plot(train_aucs, label='train')\n",
    "axs[0].plot(val_aucs, label='val')\n",
    "axs[0].set_xlabel('Epochs')\n",
    "axs[0].set_title('AUC')\n",
    "axs[0].legend()\n",
    "\n",
    "axs[1].plot(train_accs, label='train')\n",
    "axs[1].plot(val_accs, label='val')\n",
    "axs[1].set_xlabel('Epochs')\n",
    "axs[1].set_title('Accuracy')\n",
    "axs[1].legend()\n",
    "\n",
    "axs[2].plot(train_losses, label='train')\n",
    "axs[2].plot(val_losses, label='val')\n",
    "axs[2].set_xlabel('Epochs')\n",
    "axs[2].set_title('Loss')\n",
    "axs[2].legend()\n",
    "\n",
    "plt.tight_layout()\n",
    "plt.show()"
   ]
  },
  {
   "cell_type": "code",
   "execution_count": 12,
   "id": "54cb2f1a",
   "metadata": {
    "execution": {
     "iopub.execute_input": "2023-08-03T10:26:34.102813Z",
     "iopub.status.busy": "2023-08-03T10:26:34.102424Z",
     "iopub.status.idle": "2023-08-03T10:26:34.108780Z",
     "shell.execute_reply": "2023-08-03T10:26:34.107872Z"
    },
    "papermill": {
     "duration": 1.962853,
     "end_time": "2023-08-03T10:26:34.110783",
     "exception": false,
     "start_time": "2023-08-03T10:26:32.147930",
     "status": "completed"
    },
    "tags": []
   },
   "outputs": [
    {
     "data": {
      "text/plain": [
       "(0.9995300751879699, 0.999554565701559, 0.002900876553756485)"
      ]
     },
     "execution_count": 12,
     "metadata": {},
     "output_type": "execute_result"
    }
   ],
   "source": [
    "test_auc, test_accuracy, test_loss"
   ]
  },
  {
   "cell_type": "code",
   "execution_count": null,
   "id": "d2a527dd",
   "metadata": {
    "papermill": {
     "duration": 1.947488,
     "end_time": "2023-08-03T10:26:38.162262",
     "exception": false,
     "start_time": "2023-08-03T10:26:36.214774",
     "status": "completed"
    },
    "tags": []
   },
   "outputs": [],
   "source": []
  }
 ],
 "metadata": {
  "kernelspec": {
   "display_name": "Python 3",
   "language": "python",
   "name": "python3"
  },
  "language_info": {
   "codemirror_mode": {
    "name": "ipython",
    "version": 3
   },
   "file_extension": ".py",
   "mimetype": "text/x-python",
   "name": "python",
   "nbconvert_exporter": "python",
   "pygments_lexer": "ipython3",
   "version": "3.10.12"
  },
  "papermill": {
   "default_parameters": {},
   "duration": 891.572039,
   "end_time": "2023-08-03T10:26:43.303592",
   "environment_variables": {},
   "exception": null,
   "input_path": "__notebook__.ipynb",
   "output_path": "__notebook__.ipynb",
   "parameters": {},
   "start_time": "2023-08-03T10:11:51.731553",
   "version": "2.4.0"
  }
 },
 "nbformat": 4,
 "nbformat_minor": 5
}
