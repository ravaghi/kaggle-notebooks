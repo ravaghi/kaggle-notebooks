{
 "cells": [
  {
   "cell_type": "code",
   "execution_count": 1,
   "id": "31530c4f",
   "metadata": {
    "execution": {
     "iopub.execute_input": "2024-03-24T13:48:00.808208Z",
     "iopub.status.busy": "2024-03-24T13:48:00.807358Z",
     "iopub.status.idle": "2024-03-24T13:48:01.795999Z",
     "shell.execute_reply": "2024-03-24T13:48:01.794477Z"
    },
    "papermill": {
     "duration": 0.997043,
     "end_time": "2024-03-24T13:48:01.799236",
     "exception": false,
     "start_time": "2024-03-24T13:48:00.802193",
     "status": "completed"
    },
    "tags": []
   },
   "outputs": [],
   "source": [
    "import pandas as pd"
   ]
  },
  {
   "cell_type": "code",
   "execution_count": 2,
   "id": "850ac099",
   "metadata": {
    "_cell_guid": "b1076dfc-b9ad-4769-8c92-a6c4dae69d19",
    "_uuid": "8f2839f25d086af736a60e9eeb907d3b93b6e0e5",
    "execution": {
     "iopub.execute_input": "2024-03-24T13:48:01.806634Z",
     "iopub.status.busy": "2024-03-24T13:48:01.806124Z",
     "iopub.status.idle": "2024-03-24T13:48:08.523801Z",
     "shell.execute_reply": "2024-03-24T13:48:08.522621Z"
    },
    "papermill": {
     "duration": 6.724211,
     "end_time": "2024-03-24T13:48:08.526380",
     "exception": false,
     "start_time": "2024-03-24T13:48:01.802169",
     "status": "completed"
    },
    "tags": []
   },
   "outputs": [
    {
     "name": "stdout",
     "output_type": "stream",
     "text": [
      "Train dataset shape: (42000, 785)\n",
      "Test dataset shape: (28000, 784)\n"
     ]
    }
   ],
   "source": [
    "train = pd.read_csv('/kaggle/input/digit-recognizer/train.csv')\n",
    "X_test = pd.read_csv('/kaggle/input/digit-recognizer/test.csv')\n",
    "\n",
    "print(f\"Train dataset shape: {train.shape}\")\n",
    "print(f\"Test dataset shape: {X_test.shape}\")"
   ]
  },
  {
   "cell_type": "code",
   "execution_count": 3,
   "id": "9eaa16b1",
   "metadata": {
    "execution": {
     "iopub.execute_input": "2024-03-24T13:48:08.534188Z",
     "iopub.status.busy": "2024-03-24T13:48:08.533120Z",
     "iopub.status.idle": "2024-03-24T13:48:08.669030Z",
     "shell.execute_reply": "2024-03-24T13:48:08.667440Z"
    },
    "papermill": {
     "duration": 0.142465,
     "end_time": "2024-03-24T13:48:08.671705",
     "exception": false,
     "start_time": "2024-03-24T13:48:08.529240",
     "status": "completed"
    },
    "tags": []
   },
   "outputs": [
    {
     "name": "stdout",
     "output_type": "stream",
     "text": [
      "X_train shape: (42000, 784)\n",
      "y_train shape: (42000,)\n",
      "\n",
      "X_test shape: (28000, 784)\n"
     ]
    }
   ],
   "source": [
    "X_train = train.drop('label', axis=1)\n",
    "y_train = train['label']\n",
    "\n",
    "print(f\"X_train shape: {X_train.shape}\")\n",
    "print(f\"y_train shape: {y_train.shape}\")\n",
    "\n",
    "print(f\"\\nX_test shape: {X_test.shape}\")"
   ]
  },
  {
   "cell_type": "code",
   "execution_count": null,
   "id": "9d9c0411",
   "metadata": {
    "papermill": {
     "duration": 0.002418,
     "end_time": "2024-03-24T13:48:08.676868",
     "exception": false,
     "start_time": "2024-03-24T13:48:08.674450",
     "status": "completed"
    },
    "tags": []
   },
   "outputs": [],
   "source": []
  }
 ],
 "metadata": {
  "kaggle": {
   "accelerator": "none",
   "dataSources": [
    {
     "databundleVersionId": 861823,
     "sourceId": 3004,
     "sourceType": "competition"
    }
   ],
   "dockerImageVersionId": 30673,
   "isGpuEnabled": false,
   "isInternetEnabled": true,
   "language": "python",
   "sourceType": "notebook"
  },
  "kernelspec": {
   "display_name": "Python 3",
   "language": "python",
   "name": "python3"
  },
  "language_info": {
   "codemirror_mode": {
    "name": "ipython",
    "version": 3
   },
   "file_extension": ".py",
   "mimetype": "text/x-python",
   "name": "python",
   "nbconvert_exporter": "python",
   "pygments_lexer": "ipython3",
   "version": "3.10.13"
  },
  "papermill": {
   "default_parameters": {},
   "duration": 11.515981,
   "end_time": "2024-03-24T13:48:09.199746",
   "environment_variables": {},
   "exception": null,
   "input_path": "__notebook__.ipynb",
   "output_path": "__notebook__.ipynb",
   "parameters": {},
   "start_time": "2024-03-24T13:47:57.683765",
   "version": "2.5.0"
  }
 },
 "nbformat": 4,
 "nbformat_minor": 5
}
