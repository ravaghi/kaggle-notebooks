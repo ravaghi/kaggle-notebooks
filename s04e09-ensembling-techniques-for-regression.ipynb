{
 "cells": [
  {
   "cell_type": "markdown",
   "id": "9a27f70c",
   "metadata": {
    "papermill": {
     "duration": 0.012661,
     "end_time": "2024-09-16T08:13:15.783798",
     "exception": false,
     "start_time": "2024-09-16T08:13:15.771137",
     "status": "completed"
    },
    "tags": []
   },
   "source": [
    "# Introduction\n",
    "\n",
    "Ensembling is a commonly used technique in Kaggle competitions to combine predictions of multiple models and get stronger predictions that hopefully achieve better score on the leaderboard. The idea is that combining different models with varying strengths and weaknesses can lead to better generalization on unseen data. There are various approaches to ensembling. In this notebook, we will explore a few of these approaches and evaluate their effectiveness in a regression task, and see how they compare to each other. While the focus in this notebook is on regression, with small adjustments, many of the techniques discussed here can be easily adapted for classification problems."
   ]
  },
  {
   "cell_type": "markdown",
   "id": "72b661d3",
   "metadata": {
    "papermill": {
     "duration": 0.010925,
     "end_time": "2024-09-16T08:13:15.806565",
     "exception": false,
     "start_time": "2024-09-16T08:13:15.795640",
     "status": "completed"
    },
    "tags": []
   },
   "source": [
    "# Imports and configs"
   ]
  },
  {
   "cell_type": "code",
   "execution_count": 1,
   "id": "8007f342",
   "metadata": {
    "_kg_hide-output": true,
    "execution": {
     "iopub.execute_input": "2024-09-16T08:13:15.831018Z",
     "iopub.status.busy": "2024-09-16T08:13:15.830630Z",
     "iopub.status.idle": "2024-09-16T08:13:32.211043Z",
     "shell.execute_reply": "2024-09-16T08:13:32.209473Z"
    },
    "papermill": {
     "duration": 16.396636,
     "end_time": "2024-09-16T08:13:32.214493",
     "exception": false,
     "start_time": "2024-09-16T08:13:15.817857",
     "status": "completed"
    },
    "tags": []
   },
   "outputs": [],
   "source": [
    "!pip install -q hillclimbers"
   ]
  },
  {
   "cell_type": "code",
   "execution_count": 2,
   "id": "6673fe4a",
   "metadata": {
    "_cell_guid": "b1076dfc-b9ad-4769-8c92-a6c4dae69d19",
    "_uuid": "8f2839f25d086af736a60e9eeb907d3b93b6e0e5",
    "execution": {
     "iopub.execute_input": "2024-09-16T08:13:32.249214Z",
     "iopub.status.busy": "2024-09-16T08:13:32.248710Z",
     "iopub.status.idle": "2024-09-16T08:13:37.377508Z",
     "shell.execute_reply": "2024-09-16T08:13:37.376523Z"
    },
    "papermill": {
     "duration": 5.146817,
     "end_time": "2024-09-16T08:13:37.379994",
     "exception": false,
     "start_time": "2024-09-16T08:13:32.233177",
     "status": "completed"
    },
    "tags": []
   },
   "outputs": [],
   "source": [
    "from sklearn.ensemble import HistGradientBoostingRegressor, VotingRegressor, StackingRegressor\n",
    "from sklearn.feature_selection import mutual_info_regression\n",
    "from sklearn.preprocessing import MinMaxScaler\n",
    "from sklearn.metrics import mean_squared_error\n",
    "from sklearn.linear_model import Ridge, Lasso\n",
    "from sklearn.model_selection import KFold\n",
    "from sklearn.base import clone\n",
    "from hillclimbers import climb_hill, partial\n",
    "from category_encoders import TargetEncoder\n",
    "from xgboost import XGBRFRegressor, XGBRegressor\n",
    "from catboost import CatBoostRegressor\n",
    "from lightgbm import LGBMRegressor\n",
    "import matplotlib.pyplot as plt\n",
    "import seaborn as sns\n",
    "import pandas as pd\n",
    "import numpy as np\n",
    "import warnings\n",
    "import optuna\n",
    "import shutil\n",
    "import pickle\n",
    "import gc\n",
    "import os\n",
    "\n",
    "warnings.filterwarnings('ignore')"
   ]
  },
  {
   "cell_type": "code",
   "execution_count": 3,
   "id": "7c283cb1",
   "metadata": {
    "execution": {
     "iopub.execute_input": "2024-09-16T08:13:37.405229Z",
     "iopub.status.busy": "2024-09-16T08:13:37.404617Z",
     "iopub.status.idle": "2024-09-16T08:13:37.410004Z",
     "shell.execute_reply": "2024-09-16T08:13:37.408968Z"
    },
    "papermill": {
     "duration": 0.02013,
     "end_time": "2024-09-16T08:13:37.411992",
     "exception": false,
     "start_time": "2024-09-16T08:13:37.391862",
     "status": "completed"
    },
    "tags": []
   },
   "outputs": [],
   "source": [
    "class CFG:\n",
    "    train_path = '/kaggle/input/playground-series-s4e9/train.csv'\n",
    "    test_path = '/kaggle/input/playground-series-s4e9/test.csv'\n",
    "    sample_sub_path = '/kaggle/input/playground-series-s4e9/sample_submission.csv'\n",
    "\n",
    "    target = 'price'\n",
    "    n_folds = 5\n",
    "    seed = 228"
   ]
  },
  {
   "cell_type": "markdown",
   "id": "fa654681",
   "metadata": {
    "papermill": {
     "duration": 0.011145,
     "end_time": "2024-09-16T08:13:37.434875",
     "exception": false,
     "start_time": "2024-09-16T08:13:37.423730",
     "status": "completed"
    },
    "tags": []
   },
   "source": [
    "# Data preprocessing and feature engineering\n",
    "\n",
    "The dataset in this competition contains only two numerical features: `model_year` and `mileage`. The rest are categorical and need to be processed accordingly. Additionally, three of the columns—`fuel_type`, `clean_title`, and `accident`—contain missing values and need to be handled for models that can't deal with missing values on their own. We will also add some additional features and evaluate their usefulness with mutual information. \n",
    "\n",
    "Feature engineering is usually not used in playground competitions due to the synthetic nature of the dataset, which contains noise, and engineering new features often just adds to this noise. However, in this particular competition, I have seen improvements to the CV score when adding new features."
   ]
  },
  {
   "cell_type": "code",
   "execution_count": 4,
   "id": "73e4d90b",
   "metadata": {
    "execution": {
     "iopub.execute_input": "2024-09-16T08:13:37.459304Z",
     "iopub.status.busy": "2024-09-16T08:13:37.458923Z",
     "iopub.status.idle": "2024-09-16T08:13:38.761669Z",
     "shell.execute_reply": "2024-09-16T08:13:38.760445Z"
    },
    "papermill": {
     "duration": 1.317896,
     "end_time": "2024-09-16T08:13:38.764227",
     "exception": false,
     "start_time": "2024-09-16T08:13:37.446331",
     "status": "completed"
    },
    "tags": []
   },
   "outputs": [],
   "source": [
    "train = pd.read_csv(CFG.train_path, index_col='id')\n",
    "test = pd.read_csv(CFG.test_path, index_col='id')"
   ]
  },
  {
   "cell_type": "markdown",
   "id": "616b30cd",
   "metadata": {
    "papermill": {
     "duration": 0.011164,
     "end_time": "2024-09-16T08:13:38.786920",
     "exception": false,
     "start_time": "2024-09-16T08:13:38.775756",
     "status": "completed"
    },
    "tags": []
   },
   "source": [
    "The `engine` column contains a lot of information about the car's engine, such as horsepower, size, number of cylinders, etc. Intuitively, this information affects car prices—cars with bigger engines, more horsepower, and more cylinders tend to be more expensive. Here, I have taken inspiration from [this discussion post](https://www.kaggle.com/competitions/playground-series-s4e9/discussion/531434#2977971) and added a few features based on the information available in the `engine` column."
   ]
  },
  {
   "cell_type": "code",
   "execution_count": 5,
   "id": "127750c8",
   "metadata": {
    "execution": {
     "iopub.execute_input": "2024-09-16T08:13:38.811326Z",
     "iopub.status.busy": "2024-09-16T08:13:38.810934Z",
     "iopub.status.idle": "2024-09-16T08:13:38.818879Z",
     "shell.execute_reply": "2024-09-16T08:13:38.817640Z"
    },
    "papermill": {
     "duration": 0.022658,
     "end_time": "2024-09-16T08:13:38.821020",
     "exception": false,
     "start_time": "2024-09-16T08:13:38.798362",
     "status": "completed"
    },
    "tags": []
   },
   "outputs": [],
   "source": [
    "def add_engine_features(df):\n",
    "    cylinder_mapping = {\n",
    "        'i4': '4',\n",
    "        'v6': '6',\n",
    "        'v8': '8',\n",
    "        'v10': '10',\n",
    "        'v12': '12'\n",
    "    }\n",
    "    df['engine'] = df['engine'].replace('–', np.nan)\n",
    "    df['engine_lower'] = df['engine'].str.lower()\n",
    "    df['horsepower'] = df['engine_lower'].str.extract(r'(\\d+\\.?\\d*)hp', expand=False).astype(float)\n",
    "    df['liters'] = df['engine'].str.extract(r'(\\d+(\\.\\d+)?)\\s*L(?:iter)?', expand=False)[0].astype(float)\n",
    "    df['cylinders'] = df['engine_lower'].str.extract(r'\\b(i4|v6|v8|v10|v12)\\b', expand=False)\n",
    "    df['cylinders'] = df['cylinders'].replace(cylinder_mapping)\n",
    "    df['cylinders'] = df['cylinders'].fillna(df['engine_lower'].str.extract(r'(\\d+)\\s*cylinder', expand=False)).astype(float)\n",
    "    df = df.drop('engine_lower', axis=1)\n",
    "\n",
    "    return df"
   ]
  },
  {
   "cell_type": "code",
   "execution_count": 6,
   "id": "ace1faf2",
   "metadata": {
    "execution": {
     "iopub.execute_input": "2024-09-16T08:13:38.845846Z",
     "iopub.status.busy": "2024-09-16T08:13:38.845412Z",
     "iopub.status.idle": "2024-09-16T08:13:38.850374Z",
     "shell.execute_reply": "2024-09-16T08:13:38.849092Z"
    },
    "papermill": {
     "duration": 0.020202,
     "end_time": "2024-09-16T08:13:38.852644",
     "exception": false,
     "start_time": "2024-09-16T08:13:38.832442",
     "status": "completed"
    },
    "tags": []
   },
   "outputs": [],
   "source": [
    "# train = add_engine_features(train)\n",
    "# test = add_engine_features(test)"
   ]
  },
  {
   "cell_type": "markdown",
   "id": "48f48148",
   "metadata": {
    "papermill": {
     "duration": 0.011209,
     "end_time": "2024-09-16T08:13:38.875478",
     "exception": false,
     "start_time": "2024-09-16T08:13:38.864269",
     "status": "completed"
    },
    "tags": []
   },
   "source": [
    "As shown in [this discussion post](https://www.kaggle.com/competitions/playground-series-s4e9/discussion/531698), there are interesting signals in the `ext_col` and `int_col` columns. Cars with 'metallic' or 'pearl' in their color name tend to have higher prices. In addition to incorporating these featuers, I have also added a feature that captures how many words are in the car's color name. My intuition is that colors with more fancier names tend to have more words, and therefore, cars with these colors may have higher prices."
   ]
  },
  {
   "cell_type": "code",
   "execution_count": 7,
   "id": "318f6583",
   "metadata": {
    "execution": {
     "iopub.execute_input": "2024-09-16T08:13:38.900020Z",
     "iopub.status.busy": "2024-09-16T08:13:38.899625Z",
     "iopub.status.idle": "2024-09-16T08:13:38.907045Z",
     "shell.execute_reply": "2024-09-16T08:13:38.905946Z"
    },
    "papermill": {
     "duration": 0.022328,
     "end_time": "2024-09-16T08:13:38.909206",
     "exception": false,
     "start_time": "2024-09-16T08:13:38.886878",
     "status": "completed"
    },
    "tags": []
   },
   "outputs": [],
   "source": [
    "def add_color_features(df):   \n",
    "    df['is_metalic'] = df['ext_col'].str.lower().str.contains('metallic').astype(int)\n",
    "    df['is_pearl'] = df['ext_col'].str.lower().str.contains('pearl').astype(int)\n",
    "    df['ext_col'] = df['ext_col'].replace('–', '')\n",
    "    df['words_in_ext_col'] = df['ext_col'].str.lower().str.split().apply(len)\n",
    "    df['ext_col'] = df['ext_col'].replace('', np.nan)\n",
    "\n",
    "    df['int_col'] = df['int_col'].replace('–', '')\n",
    "    df['words_in_int_col'] = df['int_col'].str.lower().str.split().apply(len)\n",
    "    df['int_col'] = df['int_col'].replace('', np.nan)  \n",
    "\n",
    "    return df"
   ]
  },
  {
   "cell_type": "code",
   "execution_count": 8,
   "id": "dbe66a73",
   "metadata": {
    "execution": {
     "iopub.execute_input": "2024-09-16T08:13:38.933850Z",
     "iopub.status.busy": "2024-09-16T08:13:38.933382Z",
     "iopub.status.idle": "2024-09-16T08:13:38.937802Z",
     "shell.execute_reply": "2024-09-16T08:13:38.936840Z"
    },
    "papermill": {
     "duration": 0.019093,
     "end_time": "2024-09-16T08:13:38.939834",
     "exception": false,
     "start_time": "2024-09-16T08:13:38.920741",
     "status": "completed"
    },
    "tags": []
   },
   "outputs": [],
   "source": [
    "# train = add_color_features(train)\n",
    "# test = add_color_features(test)"
   ]
  },
  {
   "cell_type": "markdown",
   "id": "9a3b9be8",
   "metadata": {
    "papermill": {
     "duration": 0.011442,
     "end_time": "2024-09-16T08:13:38.962686",
     "exception": false,
     "start_time": "2024-09-16T08:13:38.951244",
     "status": "completed"
    },
    "tags": []
   },
   "source": [
    "The car's age also affects its price—older cars are usually cheaper. The age can be inferred from the `model_year`. \n",
    "I've also added a feature for how many miles a car has driven on average per year, which is another factor that influences the price."
   ]
  },
  {
   "cell_type": "code",
   "execution_count": 9,
   "id": "9e593982",
   "metadata": {
    "execution": {
     "iopub.execute_input": "2024-09-16T08:13:38.987779Z",
     "iopub.status.busy": "2024-09-16T08:13:38.987091Z",
     "iopub.status.idle": "2024-09-16T08:13:38.992466Z",
     "shell.execute_reply": "2024-09-16T08:13:38.991472Z"
    },
    "papermill": {
     "duration": 0.020316,
     "end_time": "2024-09-16T08:13:38.994511",
     "exception": false,
     "start_time": "2024-09-16T08:13:38.974195",
     "status": "completed"
    },
    "tags": []
   },
   "outputs": [],
   "source": [
    "def add_age_features(df):\n",
    "    df['age'] = 2024 - df['model_year']\n",
    "    df['age'] = df['age'].replace(0, 1)\n",
    "    df['miles_per_year'] = df['milage'] // df['age']\n",
    "    return df"
   ]
  },
  {
   "cell_type": "code",
   "execution_count": 10,
   "id": "943fb777",
   "metadata": {
    "execution": {
     "iopub.execute_input": "2024-09-16T08:13:39.019936Z",
     "iopub.status.busy": "2024-09-16T08:13:39.018955Z",
     "iopub.status.idle": "2024-09-16T08:13:39.023490Z",
     "shell.execute_reply": "2024-09-16T08:13:39.022578Z"
    },
    "papermill": {
     "duration": 0.01955,
     "end_time": "2024-09-16T08:13:39.025685",
     "exception": false,
     "start_time": "2024-09-16T08:13:39.006135",
     "status": "completed"
    },
    "tags": []
   },
   "outputs": [],
   "source": [
    "# train = add_age_features(train)\n",
    "# test = add_age_features(test)"
   ]
  },
  {
   "cell_type": "markdown",
   "id": "ddd24f2f",
   "metadata": {
    "papermill": {
     "duration": 0.011233,
     "end_time": "2024-09-16T08:13:39.048490",
     "exception": false,
     "start_time": "2024-09-16T08:13:39.037257",
     "status": "completed"
    },
    "tags": []
   },
   "source": [
    "As the final preprocessing step, I will impute the missing values in the categorical features with 'missing' and target encode these features. For the numerical features that have missing values, I will simply impute them with the mean value."
   ]
  },
  {
   "cell_type": "code",
   "execution_count": 11,
   "id": "191a8ba5",
   "metadata": {
    "execution": {
     "iopub.execute_input": "2024-09-16T08:13:39.073234Z",
     "iopub.status.busy": "2024-09-16T08:13:39.072848Z",
     "iopub.status.idle": "2024-09-16T08:13:39.573897Z",
     "shell.execute_reply": "2024-09-16T08:13:39.572889Z"
    },
    "papermill": {
     "duration": 0.517093,
     "end_time": "2024-09-16T08:13:39.577081",
     "exception": false,
     "start_time": "2024-09-16T08:13:39.059988",
     "status": "completed"
    },
    "tags": []
   },
   "outputs": [],
   "source": [
    "cat_cols = train.select_dtypes(include=['object']).columns.tolist()\n",
    "num_cols = train.select_dtypes(include=['int64', 'float64']).columns.tolist()\n",
    "num_cols = [col for col in num_cols if col not in [CFG.target, 'id']]\n",
    "\n",
    "for col in cat_cols:\n",
    "    train[col] = train[col].fillna('missing')\n",
    "    test[col] = test[col].fillna('missing')\n",
    "    train[col] = train[col].astype('category')\n",
    "    test[col] = test[col].astype('category')\n",
    "    \n",
    "for col in num_cols:\n",
    "    train[col] = train[col].fillna(train[col].mean())\n",
    "    test[col] = test[col].fillna(train[col].mean())"
   ]
  },
  {
   "cell_type": "code",
   "execution_count": 12,
   "id": "8f3b911a",
   "metadata": {
    "execution": {
     "iopub.execute_input": "2024-09-16T08:13:39.602453Z",
     "iopub.status.busy": "2024-09-16T08:13:39.602058Z",
     "iopub.status.idle": "2024-09-16T08:13:40.826906Z",
     "shell.execute_reply": "2024-09-16T08:13:40.825431Z"
    },
    "papermill": {
     "duration": 1.240684,
     "end_time": "2024-09-16T08:13:40.829633",
     "exception": false,
     "start_time": "2024-09-16T08:13:39.588949",
     "status": "completed"
    },
    "tags": []
   },
   "outputs": [],
   "source": [
    "encoder = TargetEncoder()\n",
    "train[cat_cols] = encoder.fit_transform(train[cat_cols], train[CFG.target])\n",
    "test[cat_cols] = encoder.transform(test[cat_cols])    "
   ]
  },
  {
   "cell_type": "code",
   "execution_count": 13,
   "id": "7b0b18d8",
   "metadata": {
    "execution": {
     "iopub.execute_input": "2024-09-16T08:13:40.855471Z",
     "iopub.status.busy": "2024-09-16T08:13:40.855082Z",
     "iopub.status.idle": "2024-09-16T08:13:40.879374Z",
     "shell.execute_reply": "2024-09-16T08:13:40.878220Z"
    },
    "papermill": {
     "duration": 0.040111,
     "end_time": "2024-09-16T08:13:40.882024",
     "exception": false,
     "start_time": "2024-09-16T08:13:40.841913",
     "status": "completed"
    },
    "tags": []
   },
   "outputs": [],
   "source": [
    "X = train.drop(CFG.target, axis=1)\n",
    "y = train[CFG.target]\n",
    "X_test = test.copy()"
   ]
  },
  {
   "cell_type": "markdown",
   "id": "9e7ffe2a",
   "metadata": {
    "papermill": {
     "duration": 0.011443,
     "end_time": "2024-09-16T08:13:40.905440",
     "exception": false,
     "start_time": "2024-09-16T08:13:40.893997",
     "status": "completed"
    },
    "tags": []
   },
   "source": [
    "Here, we can see that the features we have created contain good signal, and can be used."
   ]
  },
  {
   "cell_type": "code",
   "execution_count": 14,
   "id": "45f4b85a",
   "metadata": {
    "execution": {
     "iopub.execute_input": "2024-09-16T08:13:40.930696Z",
     "iopub.status.busy": "2024-09-16T08:13:40.930251Z",
     "iopub.status.idle": "2024-09-16T08:13:59.812296Z",
     "shell.execute_reply": "2024-09-16T08:13:59.811286Z"
    },
    "papermill": {
     "duration": 18.897184,
     "end_time": "2024-09-16T08:13:59.814337",
     "exception": false,
     "start_time": "2024-09-16T08:13:40.917153",
     "status": "completed"
    },
    "tags": []
   },
   "outputs": [
    {
     "data": {
      "text/html": [
       "<style type=\"text/css\">\n",
       "#T_0d16e_row0_col0 {\n",
       "  width: 10em;\n",
       "  background: linear-gradient(90deg, #006837 100.0%, transparent 100.0%);\n",
       "}\n",
       "#T_0d16e_row1_col0 {\n",
       "  width: 10em;\n",
       "  background: linear-gradient(90deg, #138c4a 92.5%, transparent 92.5%);\n",
       "}\n",
       "#T_0d16e_row2_col0 {\n",
       "  width: 10em;\n",
       "  background: linear-gradient(90deg, #51b35e 82.6%, transparent 82.6%);\n",
       "}\n",
       "#T_0d16e_row3_col0 {\n",
       "  width: 10em;\n",
       "  background: linear-gradient(90deg, #b3df72 67.5%, transparent 67.5%);\n",
       "}\n",
       "#T_0d16e_row4_col0 {\n",
       "  width: 10em;\n",
       "  background: linear-gradient(90deg, #b9e176 66.3%, transparent 66.3%);\n",
       "}\n",
       "#T_0d16e_row5_col0 {\n",
       "  width: 10em;\n",
       "  background: linear-gradient(90deg, #f88c51 24.8%, transparent 24.8%);\n",
       "}\n",
       "#T_0d16e_row6_col0 {\n",
       "  width: 10em;\n",
       "  background: linear-gradient(90deg, #f67f4b 23.0%, transparent 23.0%);\n",
       "}\n",
       "#T_0d16e_row7_col0 {\n",
       "  width: 10em;\n",
       "  background: linear-gradient(90deg, #f57245 20.8%, transparent 20.8%);\n",
       "}\n",
       "#T_0d16e_row8_col0 {\n",
       "  width: 10em;\n",
       "  background: linear-gradient(90deg, #f36b42 19.8%, transparent 19.8%);\n",
       "}\n",
       "#T_0d16e_row9_col0 {\n",
       "  width: 10em;\n",
       "  background: linear-gradient(90deg, #d62f27 9.8%, transparent 9.8%);\n",
       "}\n",
       "#T_0d16e_row10_col0 {\n",
       "  width: 10em;\n",
       "  background: linear-gradient(90deg, #bd1726 4.9%, transparent 4.9%);\n",
       "}\n",
       "</style>\n",
       "<table id=\"T_0d16e\">\n",
       "  <thead>\n",
       "    <tr>\n",
       "      <th class=\"blank level0\" >&nbsp;</th>\n",
       "      <th id=\"T_0d16e_level0_col0\" class=\"col_heading level0 col0\" >Mutual Information</th>\n",
       "    </tr>\n",
       "  </thead>\n",
       "  <tbody>\n",
       "    <tr>\n",
       "      <th id=\"T_0d16e_level0_row0\" class=\"row_heading level0 row0\" >milage</th>\n",
       "      <td id=\"T_0d16e_row0_col0\" class=\"data row0 col0\" >0.659162</td>\n",
       "    </tr>\n",
       "    <tr>\n",
       "      <th id=\"T_0d16e_level0_row1\" class=\"row_heading level0 row1\" >engine</th>\n",
       "      <td id=\"T_0d16e_row1_col0\" class=\"data row1 col0\" >0.609784</td>\n",
       "    </tr>\n",
       "    <tr>\n",
       "      <th id=\"T_0d16e_level0_row2\" class=\"row_heading level0 row2\" >model_year</th>\n",
       "      <td id=\"T_0d16e_row2_col0\" class=\"data row2 col0\" >0.544162</td>\n",
       "    </tr>\n",
       "    <tr>\n",
       "      <th id=\"T_0d16e_level0_row3\" class=\"row_heading level0 row3\" >transmission</th>\n",
       "      <td id=\"T_0d16e_row3_col0\" class=\"data row3 col0\" >0.444706</td>\n",
       "    </tr>\n",
       "    <tr>\n",
       "      <th id=\"T_0d16e_level0_row4\" class=\"row_heading level0 row4\" >model</th>\n",
       "      <td id=\"T_0d16e_row4_col0\" class=\"data row4 col0\" >0.437193</td>\n",
       "    </tr>\n",
       "    <tr>\n",
       "      <th id=\"T_0d16e_level0_row5\" class=\"row_heading level0 row5\" >clean_title</th>\n",
       "      <td id=\"T_0d16e_row5_col0\" class=\"data row5 col0\" >0.163645</td>\n",
       "    </tr>\n",
       "    <tr>\n",
       "      <th id=\"T_0d16e_level0_row6\" class=\"row_heading level0 row6\" >brand</th>\n",
       "      <td id=\"T_0d16e_row6_col0\" class=\"data row6 col0\" >0.151283</td>\n",
       "    </tr>\n",
       "    <tr>\n",
       "      <th id=\"T_0d16e_level0_row7\" class=\"row_heading level0 row7\" >ext_col</th>\n",
       "      <td id=\"T_0d16e_row7_col0\" class=\"data row7 col0\" >0.136787</td>\n",
       "    </tr>\n",
       "    <tr>\n",
       "      <th id=\"T_0d16e_level0_row8\" class=\"row_heading level0 row8\" >int_col</th>\n",
       "      <td id=\"T_0d16e_row8_col0\" class=\"data row8 col0\" >0.130236</td>\n",
       "    </tr>\n",
       "    <tr>\n",
       "      <th id=\"T_0d16e_level0_row9\" class=\"row_heading level0 row9\" >accident</th>\n",
       "      <td id=\"T_0d16e_row9_col0\" class=\"data row9 col0\" >0.064520</td>\n",
       "    </tr>\n",
       "    <tr>\n",
       "      <th id=\"T_0d16e_level0_row10\" class=\"row_heading level0 row10\" >fuel_type</th>\n",
       "      <td id=\"T_0d16e_row10_col0\" class=\"data row10 col0\" >0.032286</td>\n",
       "    </tr>\n",
       "  </tbody>\n",
       "</table>\n"
      ],
      "text/plain": [
       "<pandas.io.formats.style.Styler at 0x7ad332055630>"
      ]
     },
     "execution_count": 14,
     "metadata": {},
     "output_type": "execute_result"
    }
   ],
   "source": [
    "_X_mi = X.copy()\n",
    "\n",
    "mutual_info = mutual_info_regression(_X_mi, y, random_state=CFG.seed)\n",
    "\n",
    "mutual_info = pd.Series(mutual_info)\n",
    "mutual_info.index = _X_mi.columns\n",
    "mutual_info = pd.DataFrame(mutual_info.sort_values(ascending=False), columns=['Mutual Information'])\n",
    "mutual_info.style.bar(subset=['Mutual Information'], cmap='RdYlGn')"
   ]
  },
  {
   "cell_type": "markdown",
   "id": "7f7233cf",
   "metadata": {
    "papermill": {
     "duration": 0.01196,
     "end_time": "2024-09-16T08:13:59.838729",
     "exception": false,
     "start_time": "2024-09-16T08:13:59.826769",
     "status": "completed"
    },
    "tags": []
   },
   "source": [
    "# Training base models\n",
    "\n",
    "Here, I have created a class to train and cross-validate the base models. I will use this class to train all five of my base models, as well as some of the ensemble models. The class also contains a function that saves oof predictions of the base models. Feel free to use these OOF files in your own ensemble."
   ]
  },
  {
   "cell_type": "code",
   "execution_count": 15,
   "id": "40687931",
   "metadata": {
    "execution": {
     "iopub.execute_input": "2024-09-16T08:13:59.864333Z",
     "iopub.status.busy": "2024-09-16T08:13:59.863941Z",
     "iopub.status.idle": "2024-09-16T08:13:59.868982Z",
     "shell.execute_reply": "2024-09-16T08:13:59.867915Z"
    },
    "papermill": {
     "duration": 0.020322,
     "end_time": "2024-09-16T08:13:59.871032",
     "exception": false,
     "start_time": "2024-09-16T08:13:59.850710",
     "status": "completed"
    },
    "tags": []
   },
   "outputs": [],
   "source": [
    "os.mkdir('oof_preds')\n",
    "os.mkdir('test_preds')"
   ]
  },
  {
   "cell_type": "code",
   "execution_count": 16,
   "id": "b7469c25",
   "metadata": {
    "execution": {
     "iopub.execute_input": "2024-09-16T08:13:59.897016Z",
     "iopub.status.busy": "2024-09-16T08:13:59.896625Z",
     "iopub.status.idle": "2024-09-16T08:13:59.909673Z",
     "shell.execute_reply": "2024-09-16T08:13:59.908631Z"
    },
    "papermill": {
     "duration": 0.028719,
     "end_time": "2024-09-16T08:13:59.911903",
     "exception": false,
     "start_time": "2024-09-16T08:13:59.883184",
     "status": "completed"
    },
    "tags": []
   },
   "outputs": [],
   "source": [
    "class Trainer:\n",
    "    def __init__(self, model, CFG, is_ensemble=False, save_preds=False):\n",
    "        self.model = model\n",
    "        self.config = CFG\n",
    "        self.is_ensemble = is_ensemble\n",
    "        self.save_preds = save_preds\n",
    "\n",
    "    def fit_predict(self, X, y, X_test):\n",
    "        print(f'Training {self.model.__class__.__name__}\\n')\n",
    "        \n",
    "        scores = []        \n",
    "        coeffs = np.zeros((1, X.shape[1]))\n",
    "        oof_preds = np.zeros(len(X), dtype=np.float32)\n",
    "        test_preds = np.zeros(len(X_test), dtype=np.float32)\n",
    "        \n",
    "        skf = KFold(n_splits=self.config.n_folds, random_state=self.config.seed, shuffle=True)\n",
    "        for fold_idx, (train_idx, val_idx) in enumerate(skf.split(X, y)):\n",
    "            X_train, X_val = X.iloc[train_idx], X.iloc[val_idx]\n",
    "            y_train, y_val = y[train_idx], y[val_idx]\n",
    "            \n",
    "            model = clone(self.model)\n",
    "            model.fit(X_train, y_train)\n",
    "            \n",
    "            if self.is_ensemble:\n",
    "                coeffs += model.coef_ / self.config.n_folds\n",
    "            \n",
    "            y_preds = model.predict(X_val)\n",
    "            oof_preds[val_idx] = y_preds\n",
    "            \n",
    "            temp_test_preds = model.predict(X_test)\n",
    "            test_preds += temp_test_preds / self.config.n_folds\n",
    "            \n",
    "            score = mean_squared_error(y_val, y_preds, squared=False)\n",
    "            scores.append(score)\n",
    "            \n",
    "            del model, X_train, y_train, X_val, y_val, y_preds, temp_test_preds\n",
    "            gc.collect()\n",
    "            \n",
    "            print(f'--- Fold {fold_idx + 1} - RMSE: {round(score)}')\n",
    "            \n",
    "        overall_score = mean_squared_error(y, oof_preds, squared=False)\n",
    "        \n",
    "        print(f'\\nOverall RMSE: {round(overall_score)} ± {round(np.std(scores))}')\n",
    "        \n",
    "        if self.save_preds:\n",
    "            self._save_preds(oof_preds, overall_score, 'oof')\n",
    "            self._save_preds(test_preds, overall_score, 'test')\n",
    "        \n",
    "        if self.is_ensemble:\n",
    "            return oof_preds, test_preds, scores, coeffs[0]\n",
    "        else:\n",
    "            return oof_preds, test_preds, scores\n",
    "        \n",
    "    def _save_preds(self, preds, cv_score, name):\n",
    "        model_name = self.model.__class__.__name__.lower().replace('regressor', '')\n",
    "        with open(f'{name}_preds/{model_name}_{name}_preds_{round(cv_score)}.pkl', 'wb') as f:\n",
    "            pickle.dump(preds, f)"
   ]
  },
  {
   "cell_type": "code",
   "execution_count": 17,
   "id": "1fe32ffc",
   "metadata": {
    "execution": {
     "iopub.execute_input": "2024-09-16T08:13:59.938413Z",
     "iopub.status.busy": "2024-09-16T08:13:59.937733Z",
     "iopub.status.idle": "2024-09-16T08:13:59.943265Z",
     "shell.execute_reply": "2024-09-16T08:13:59.942316Z"
    },
    "papermill": {
     "duration": 0.021036,
     "end_time": "2024-09-16T08:13:59.945228",
     "exception": false,
     "start_time": "2024-09-16T08:13:59.924192",
     "status": "completed"
    },
    "tags": []
   },
   "outputs": [],
   "source": [
    "def save_submission(test_preds, name, score):\n",
    "    sub = pd.read_csv(CFG.sample_sub_path)\n",
    "    sub[CFG.target] = test_preds\n",
    "    sub.to_csv(f'sub_{name}_{round(score)}.csv', index=False)\n",
    "    return sub"
   ]
  },
  {
   "cell_type": "code",
   "execution_count": 18,
   "id": "e8f5ba63",
   "metadata": {
    "_kg_hide-input": true,
    "execution": {
     "iopub.execute_input": "2024-09-16T08:13:59.971301Z",
     "iopub.status.busy": "2024-09-16T08:13:59.970919Z",
     "iopub.status.idle": "2024-09-16T08:13:59.981116Z",
     "shell.execute_reply": "2024-09-16T08:13:59.980035Z"
    },
    "papermill": {
     "duration": 0.025836,
     "end_time": "2024-09-16T08:13:59.983321",
     "exception": false,
     "start_time": "2024-09-16T08:13:59.957485",
     "status": "completed"
    },
    "tags": []
   },
   "outputs": [],
   "source": [
    "lgbm_params = {\n",
    "    'boosting_type': 'gbdt',\n",
    "    'colsample_bytree': 0.40393559882328256,\n",
    "    'learning_rate': 0.017738701693592488,\n",
    "    'min_child_samples': 185,\n",
    "    'min_child_weight': 0.656209628468257,\n",
    "    'n_estimators': 231,\n",
    "    'n_jobs': -1,\n",
    "    'num_leaves': 83,\n",
    "    'random_state': 228,\n",
    "    'reg_alpha': 6.7373512856443805,\n",
    "    'reg_lambda': 2.063542414559403,\n",
    "    'subsample': 0.7169621141700278,\n",
    "    'verbose': -1\n",
    "}\n",
    "\n",
    "xgb_params = {\n",
    "    'colsample_bylevel': 0.13665282976246984,\n",
    "    'colsample_bynode': 0.12605056749858132,\n",
    "    'colsample_bytree': 0.9941217525562732,\n",
    "    'gamma': 9.239828692282227,\n",
    "    'learning_rate': 0.01262391624428664,\n",
    "    'max_depth': 353,\n",
    "    'max_leaves': 292,\n",
    "    'min_child_weight': 122.81561865572444,\n",
    "    'n_estimators': 617,\n",
    "    'n_jobs': -1,\n",
    "    'random_state': 228,\n",
    "    'reg_alpha': 87.75157765322994,\n",
    "    'reg_lambda': 7.721723554535909,\n",
    "    'subsample': 0.9870379246817588,\n",
    "    'verbosity': 0\n",
    "}\n",
    "\n",
    "xgbrf_params = {\n",
    "    'colsample_bylevel': 0.9926650439792628,\n",
    "    'colsample_bynode': 0.7650708472856718,\n",
    "    'colsample_bytree': 0.8751058243688384,\n",
    "    'gamma': 0.6241795915715864,\n",
    "    'max_depth': 67,\n",
    "    'min_child_weight': 57.058282876478934,\n",
    "    'n_jobs': -1,\n",
    "    'num_parallel_tree': 2705,\n",
    "    'random_state': 228,\n",
    "    'reg_alpha': 42.01217756370723,\n",
    "    'reg_lambda': 0.912084080329384,\n",
    "    'subsample': 0.5029448381425498,\n",
    "    'verbosity': 0\n",
    "}\n",
    "\n",
    "cb_params = {\n",
    "    'border_count': 252,\n",
    "    'colsample_bylevel': 0.40061161445911886,\n",
    "    'depth': 7,\n",
    "    'iterations': 1264,\n",
    "    'l2_leaf_reg': 6.719412529662209,\n",
    "    'learning_rate': 0.018044156749677225,\n",
    "    'loss_function': \"RMSE\",\n",
    "    'min_child_samples': 38,\n",
    "    'random_state': 228,\n",
    "    'random_strength': 0.49384849397762776,\n",
    "    'subsample': 0.5728869797927224,\n",
    "    'verbose': False\n",
    "}\n",
    "\n",
    "hgb_params = {\n",
    "    'l2_regularization': 30.379626515131864,\n",
    "    'learning_rate': 0.057316365702868174,\n",
    "    'max_depth': 465,\n",
    "    'max_iter': 2837,\n",
    "    'max_leaf_nodes': 23,\n",
    "    'min_samples_leaf': 410,\n",
    "    'random_state': 228\n",
    "}"
   ]
  },
  {
   "cell_type": "code",
   "execution_count": 19,
   "id": "c2f3b648",
   "metadata": {
    "execution": {
     "iopub.execute_input": "2024-09-16T08:14:00.010395Z",
     "iopub.status.busy": "2024-09-16T08:14:00.010017Z",
     "iopub.status.idle": "2024-09-16T08:14:00.014689Z",
     "shell.execute_reply": "2024-09-16T08:14:00.013674Z"
    },
    "papermill": {
     "duration": 0.020941,
     "end_time": "2024-09-16T08:14:00.016978",
     "exception": false,
     "start_time": "2024-09-16T08:13:59.996037",
     "status": "completed"
    },
    "tags": []
   },
   "outputs": [],
   "source": [
    "oof_preds = {}\n",
    "test_preds = {}\n",
    "scores = {}"
   ]
  },
  {
   "cell_type": "code",
   "execution_count": 20,
   "id": "4642a8a2",
   "metadata": {
    "execution": {
     "iopub.execute_input": "2024-09-16T08:14:00.044249Z",
     "iopub.status.busy": "2024-09-16T08:14:00.043286Z",
     "iopub.status.idle": "2024-09-16T08:14:44.385148Z",
     "shell.execute_reply": "2024-09-16T08:14:44.384136Z"
    },
    "papermill": {
     "duration": 44.35788,
     "end_time": "2024-09-16T08:14:44.387445",
     "exception": false,
     "start_time": "2024-09-16T08:14:00.029565",
     "status": "completed"
    },
    "tags": []
   },
   "outputs": [
    {
     "name": "stdout",
     "output_type": "stream",
     "text": [
      "Training LGBMRegressor\n",
      "\n",
      "--- Fold 1 - RMSE: 71624\n",
      "--- Fold 2 - RMSE: 72794\n",
      "--- Fold 3 - RMSE: 72494\n",
      "--- Fold 4 - RMSE: 71849\n",
      "--- Fold 5 - RMSE: 73109\n",
      "\n",
      "Overall RMSE: 72376 ± 560\n"
     ]
    }
   ],
   "source": [
    "lgbm_model = LGBMRegressor(**lgbm_params)\n",
    "lgbm_trainer = Trainer(lgbm_model, CFG, save_preds=True)\n",
    "oof_preds['LightGBM'], test_preds['LightGBM'], scores['LightGBM'] = lgbm_trainer.fit_predict(X, y, X_test)"
   ]
  },
  {
   "cell_type": "code",
   "execution_count": 21,
   "id": "3e8da064",
   "metadata": {
    "execution": {
     "iopub.execute_input": "2024-09-16T08:14:44.414990Z",
     "iopub.status.busy": "2024-09-16T08:14:44.414550Z",
     "iopub.status.idle": "2024-09-16T08:16:54.654708Z",
     "shell.execute_reply": "2024-09-16T08:16:54.653601Z"
    },
    "papermill": {
     "duration": 130.25651,
     "end_time": "2024-09-16T08:16:54.657052",
     "exception": false,
     "start_time": "2024-09-16T08:14:44.400542",
     "status": "completed"
    },
    "tags": []
   },
   "outputs": [
    {
     "name": "stdout",
     "output_type": "stream",
     "text": [
      "Training XGBRegressor\n",
      "\n",
      "--- Fold 1 - RMSE: 71651\n",
      "--- Fold 2 - RMSE: 72817\n",
      "--- Fold 3 - RMSE: 72339\n",
      "--- Fold 4 - RMSE: 71683\n",
      "--- Fold 5 - RMSE: 73092\n",
      "\n",
      "Overall RMSE: 72319 ± 583\n"
     ]
    }
   ],
   "source": [
    "xgb_model = XGBRegressor(**xgb_params)\n",
    "xgb_trainer = Trainer(xgb_model, CFG, save_preds=True)\n",
    "oof_preds['XGBoost'], test_preds['XGBoost'], scores['XGBoost'] = xgb_trainer.fit_predict(X, y, X_test)"
   ]
  },
  {
   "cell_type": "code",
   "execution_count": 22,
   "id": "abb5aa40",
   "metadata": {
    "execution": {
     "iopub.execute_input": "2024-09-16T08:16:54.685798Z",
     "iopub.status.busy": "2024-09-16T08:16:54.685369Z",
     "iopub.status.idle": "2024-09-16T08:17:40.689717Z",
     "shell.execute_reply": "2024-09-16T08:17:40.688639Z"
    },
    "papermill": {
     "duration": 46.02123,
     "end_time": "2024-09-16T08:17:40.691988",
     "exception": false,
     "start_time": "2024-09-16T08:16:54.670758",
     "status": "completed"
    },
    "tags": []
   },
   "outputs": [
    {
     "name": "stdout",
     "output_type": "stream",
     "text": [
      "Training XGBRFRegressor\n",
      "\n",
      "--- Fold 1 - RMSE: 71651\n",
      "--- Fold 2 - RMSE: 72825\n",
      "--- Fold 3 - RMSE: 72444\n",
      "--- Fold 4 - RMSE: 71802\n",
      "--- Fold 5 - RMSE: 73059\n",
      "\n",
      "Overall RMSE: 72358 ± 552\n"
     ]
    }
   ],
   "source": [
    "xgbrf_model = XGBRFRegressor(**xgbrf_params)\n",
    "xgbrf_trainer = Trainer(xgbrf_model, CFG, save_preds=True)\n",
    "oof_preds['XGBoost (RF)'], test_preds['XGBoost (RF)'], scores['XGBoost (RF)'] = xgbrf_trainer.fit_predict(X, y, X_test)"
   ]
  },
  {
   "cell_type": "code",
   "execution_count": 23,
   "id": "625fe205",
   "metadata": {
    "execution": {
     "iopub.execute_input": "2024-09-16T08:17:40.721849Z",
     "iopub.status.busy": "2024-09-16T08:17:40.721303Z",
     "iopub.status.idle": "2024-09-16T08:19:13.344381Z",
     "shell.execute_reply": "2024-09-16T08:19:13.343046Z"
    },
    "papermill": {
     "duration": 92.640946,
     "end_time": "2024-09-16T08:19:13.346882",
     "exception": false,
     "start_time": "2024-09-16T08:17:40.705936",
     "status": "completed"
    },
    "tags": []
   },
   "outputs": [
    {
     "name": "stdout",
     "output_type": "stream",
     "text": [
      "Training CatBoostRegressor\n",
      "\n",
      "--- Fold 1 - RMSE: 71801\n",
      "--- Fold 2 - RMSE: 72463\n",
      "--- Fold 3 - RMSE: 72528\n",
      "--- Fold 4 - RMSE: 71581\n",
      "--- Fold 5 - RMSE: 73392\n",
      "\n",
      "Overall RMSE: 72356 ± 636\n"
     ]
    }
   ],
   "source": [
    "cb_model = CatBoostRegressor(**cb_params)\n",
    "cb_trainer = Trainer(cb_model, CFG, save_preds=True)\n",
    "oof_preds['CatBoost'], test_preds['CatBoost'], scores['CatBoost'] = cb_trainer.fit_predict(X, y, X_test)"
   ]
  },
  {
   "cell_type": "code",
   "execution_count": 24,
   "id": "f7bd51f9",
   "metadata": {
    "execution": {
     "iopub.execute_input": "2024-09-16T08:19:13.432288Z",
     "iopub.status.busy": "2024-09-16T08:19:13.431388Z",
     "iopub.status.idle": "2024-09-16T08:19:37.987537Z",
     "shell.execute_reply": "2024-09-16T08:19:37.986072Z"
    },
    "papermill": {
     "duration": 24.62838,
     "end_time": "2024-09-16T08:19:37.989742",
     "exception": false,
     "start_time": "2024-09-16T08:19:13.361362",
     "status": "completed"
    },
    "tags": []
   },
   "outputs": [
    {
     "name": "stdout",
     "output_type": "stream",
     "text": [
      "Training HistGradientBoostingRegressor\n",
      "\n",
      "--- Fold 1 - RMSE: 71733\n",
      "--- Fold 2 - RMSE: 72925\n",
      "--- Fold 3 - RMSE: 72454\n",
      "--- Fold 4 - RMSE: 71766\n",
      "--- Fold 5 - RMSE: 73054\n",
      "\n",
      "Overall RMSE: 72388 ± 557\n"
     ]
    }
   ],
   "source": [
    "hgb_model = HistGradientBoostingRegressor(**hgb_params)\n",
    "hgb_trainer = Trainer(hgb_model, CFG, save_preds=True)\n",
    "oof_preds['HistGB'], test_preds['HistGB'], scores['HistGB'] = hgb_trainer.fit_predict(X, y, X_test)"
   ]
  },
  {
   "cell_type": "markdown",
   "id": "a68e45c4",
   "metadata": {
    "papermill": {
     "duration": 0.014338,
     "end_time": "2024-09-16T08:19:38.018854",
     "exception": false,
     "start_time": "2024-09-16T08:19:38.004516",
     "status": "completed"
    },
    "tags": []
   },
   "source": [
    "# Ensembling base models"
   ]
  },
  {
   "cell_type": "code",
   "execution_count": 25,
   "id": "b277421c",
   "metadata": {
    "execution": {
     "iopub.execute_input": "2024-09-16T08:19:38.050841Z",
     "iopub.status.busy": "2024-09-16T08:19:38.049555Z",
     "iopub.status.idle": "2024-09-16T08:19:38.058937Z",
     "shell.execute_reply": "2024-09-16T08:19:38.057648Z"
    },
    "papermill": {
     "duration": 0.027356,
     "end_time": "2024-09-16T08:19:38.061112",
     "exception": false,
     "start_time": "2024-09-16T08:19:38.033756",
     "status": "completed"
    },
    "tags": []
   },
   "outputs": [],
   "source": [
    "def plot_weights(title, weights):\n",
    "    plt.figure(figsize=(10, 4))\n",
    "\n",
    "    weights = pd.Series(weights, index=test_preds.keys()).sort_values(ascending=False)\n",
    "    sns.barplot(y=weights.index, x=weights.values, palette='RdYlGn_r')\n",
    "    plt.title(title)\n",
    "    plt.ylabel('')\n",
    "    plt.xlabel('')\n",
    "\n",
    "    for i, (value, name) in enumerate(zip(weights, test_preds.keys())):\n",
    "        if value > 0:\n",
    "            plt.text(value, i, f'{value:.3f}', va='center', ha='left', color='black')\n",
    "        else:\n",
    "            plt.text(value, i, f'{value:.3f}', va='center', ha='right', color='black')\n",
    "\n",
    "    xlim = plt.xlim()\n",
    "    plt.xlim(xlim[0] - 1.2 * abs(xlim[0]), xlim[1] + 0.1 * abs(xlim[1]))\n",
    "\n",
    "    plt.tight_layout()\n",
    "    plt.show()"
   ]
  },
  {
   "cell_type": "markdown",
   "id": "d425af2e",
   "metadata": {
    "papermill": {
     "duration": 0.014423,
     "end_time": "2024-09-16T08:19:38.090822",
     "exception": false,
     "start_time": "2024-09-16T08:19:38.076399",
     "status": "completed"
    },
    "tags": []
   },
   "source": [
    "## Weighted Averaging\n",
    "\n",
    "One simple way to combine the predictions of multiple models is to assign a weight to each model and take the weighted average of the predictions. To find the optimal weights, we can use a hyperparameter optimization tool such as Optuna. Here, I've defined an Optuna run that optimizes the weights assigned to each model based on the overall RMSE achieved for each set of weights.\n"
   ]
  },
  {
   "cell_type": "code",
   "execution_count": 26,
   "id": "2b7e65ea",
   "metadata": {
    "execution": {
     "iopub.execute_input": "2024-09-16T08:19:38.121928Z",
     "iopub.status.busy": "2024-09-16T08:19:38.121479Z",
     "iopub.status.idle": "2024-09-16T08:19:38.128923Z",
     "shell.execute_reply": "2024-09-16T08:19:38.127875Z"
    },
    "papermill": {
     "duration": 0.025417,
     "end_time": "2024-09-16T08:19:38.131016",
     "exception": false,
     "start_time": "2024-09-16T08:19:38.105599",
     "status": "completed"
    },
    "tags": []
   },
   "outputs": [],
   "source": [
    "def objective(trial):\n",
    "    lgbm_weight = trial.suggest_float('lgbm_weight', 0.0, 1.0)\n",
    "    xgb_weight = trial.suggest_float('xgb_weight', 0.0, 1.0)\n",
    "    xgbrf_weight = trial.suggest_float('xgbrf_weight', 0.0, 1.0)\n",
    "    cb_weight = trial.suggest_float('cb_weight', 0.0, 1.0)\n",
    "    hgb_weight = trial.suggest_float('hgb_weight', 0.0, 1.0)\n",
    "\n",
    "    weights = [\n",
    "        lgbm_weight,\n",
    "        xgb_weight,\n",
    "        xgbrf_weight, \n",
    "        cb_weight, \n",
    "        hgb_weight\n",
    "    ]\n",
    "    weights /= np.sum(weights)\n",
    "\n",
    "    preds = np.zeros((X.shape[0]))\n",
    "    for model, weight in zip(oof_preds.keys(), weights):\n",
    "        preds += oof_preds[model] * weight\n",
    "\n",
    "    return mean_squared_error(preds, y, squared=False)"
   ]
  },
  {
   "cell_type": "code",
   "execution_count": 27,
   "id": "60d76a05",
   "metadata": {
    "_kg_hide-output": true,
    "execution": {
     "iopub.execute_input": "2024-09-16T08:19:38.164087Z",
     "iopub.status.busy": "2024-09-16T08:19:38.163203Z",
     "iopub.status.idle": "2024-09-16T08:19:57.151118Z",
     "shell.execute_reply": "2024-09-16T08:19:57.149840Z"
    },
    "papermill": {
     "duration": 19.006571,
     "end_time": "2024-09-16T08:19:57.153235",
     "exception": false,
     "start_time": "2024-09-16T08:19:38.146664",
     "status": "completed"
    },
    "scrolled": true,
    "tags": []
   },
   "outputs": [
    {
     "name": "stderr",
     "output_type": "stream",
     "text": [
      "[I 2024-09-16 08:19:38,166] A new study created in memory with name: no-name-d0c9f26d-3f34-4c36-b685-32fbcc72a829\n",
      "[I 2024-09-16 08:19:38,173] Trial 0 finished with value: 72275.3127128141 and parameters: {'lgbm_weight': 0.4238108114695278, 'xgb_weight': 0.5417427669021565, 'xgbrf_weight': 0.6885548977177369, 'cb_weight': 0.34608302515355915, 'hgb_weight': 0.4390290042342089}. Best is trial 0 with value: 72275.3127128141.\n",
      "[I 2024-09-16 08:19:38,178] Trial 1 finished with value: 72296.72820345349 and parameters: {'lgbm_weight': 0.5890490882552291, 'xgb_weight': 0.6536621729379826, 'xgbrf_weight': 0.11026583566095016, 'cb_weight': 0.14290265496795074, 'hgb_weight': 0.8741773566676976}. Best is trial 0 with value: 72275.3127128141.\n",
      "[I 2024-09-16 08:19:38,183] Trial 2 finished with value: 72274.59295802933 and parameters: {'lgbm_weight': 0.3370017886945007, 'xgb_weight': 0.0690762632890779, 'xgbrf_weight': 0.3119193394222002, 'cb_weight': 0.6127806231598824, 'hgb_weight': 0.6540414802670811}. Best is trial 2 with value: 72274.59295802933.\n",
      "[I 2024-09-16 08:19:38,188] Trial 3 finished with value: 72302.50397401897 and parameters: {'lgbm_weight': 0.9019173161265741, 'xgb_weight': 0.09308366220543696, 'xgbrf_weight': 0.9244497226698039, 'cb_weight': 0.18210112807430978, 'hgb_weight': 0.049038918177003565}. Best is trial 2 with value: 72274.59295802933.\n",
      "[I 2024-09-16 08:19:38,193] Trial 4 finished with value: 72261.74327676915 and parameters: {'lgbm_weight': 0.2527441719989775, 'xgb_weight': 0.1826865086609536, 'xgbrf_weight': 0.44111359306734066, 'cb_weight': 0.7383970181535947, 'hgb_weight': 0.29166448974847015}. Best is trial 4 with value: 72261.74327676915.\n",
      "[I 2024-09-16 08:19:38,198] Trial 5 finished with value: 72302.92505191591 and parameters: {'lgbm_weight': 0.2833477186170118, 'xgb_weight': 0.1298766880433775, 'xgbrf_weight': 0.6457086389716167, 'cb_weight': 0.05455697208908716, 'hgb_weight': 0.28154316530908785}. Best is trial 4 with value: 72261.74327676915.\n",
      "[I 2024-09-16 08:19:38,203] Trial 6 finished with value: 72277.89739059068 and parameters: {'lgbm_weight': 0.3434105184743179, 'xgb_weight': 0.21657858910800498, 'xgbrf_weight': 0.12818860512945918, 'cb_weight': 0.4152257525979104, 'hgb_weight': 0.6072169320209568}. Best is trial 4 with value: 72261.74327676915.\n",
      "[I 2024-09-16 08:19:38,208] Trial 7 finished with value: 72306.57360748872 and parameters: {'lgbm_weight': 0.48208289394067116, 'xgb_weight': 0.0056310875634181246, 'xgbrf_weight': 0.47664683270455677, 'cb_weight': 0.09416782637433863, 'hgb_weight': 0.4739188545206965}. Best is trial 4 with value: 72261.74327676915.\n",
      "[I 2024-09-16 08:19:38,213] Trial 8 finished with value: 72269.49194112724 and parameters: {'lgbm_weight': 0.39475752051885105, 'xgb_weight': 0.2725631144869781, 'xgbrf_weight': 0.6919906081588489, 'cb_weight': 0.6287500848087164, 'hgb_weight': 0.5407462328199973}. Best is trial 4 with value: 72261.74327676915.\n",
      "[I 2024-09-16 08:19:38,218] Trial 9 finished with value: 72307.51391818229 and parameters: {'lgbm_weight': 0.9245543572376594, 'xgb_weight': 0.28561500460894307, 'xgbrf_weight': 0.5732866384964466, 'cb_weight': 0.034174307904028534, 'hgb_weight': 0.5758903071098127}. Best is trial 4 with value: 72261.74327676915.\n",
      "[I 2024-09-16 08:19:38,245] Trial 10 finished with value: 72256.43368795159 and parameters: {'lgbm_weight': 0.004762007673694113, 'xgb_weight': 0.9270568148823798, 'xgbrf_weight': 0.4159399021260968, 'cb_weight': 0.9741267888836131, 'hgb_weight': 0.05588005456087858}. Best is trial 10 with value: 72256.43368795159.\n",
      "[I 2024-09-16 08:19:38,275] Trial 11 finished with value: 72257.11474385926 and parameters: {'lgbm_weight': 0.0047314747904396316, 'xgb_weight': 0.9862573772324289, 'xgbrf_weight': 0.3668636200630175, 'cb_weight': 0.990316088182729, 'hgb_weight': 0.026952422275169474}. Best is trial 10 with value: 72256.43368795159.\n",
      "[I 2024-09-16 08:19:38,302] Trial 12 finished with value: 72258.54790647511 and parameters: {'lgbm_weight': 0.00047932666241837577, 'xgb_weight': 0.9449691550118053, 'xgbrf_weight': 0.2869193626772146, 'cb_weight': 0.9870276285414096, 'hgb_weight': 0.02212050521144237}. Best is trial 10 with value: 72256.43368795159.\n",
      "[I 2024-09-16 08:19:38,334] Trial 13 finished with value: 72258.80456275489 and parameters: {'lgbm_weight': 0.002903909786092302, 'xgb_weight': 0.9980636648257238, 'xgbrf_weight': 0.3120976894731038, 'cb_weight': 0.9864421161609362, 'hgb_weight': 0.22749029883995908}. Best is trial 10 with value: 72256.43368795159.\n",
      "[I 2024-09-16 08:19:38,362] Trial 14 finished with value: 72257.54574613392 and parameters: {'lgbm_weight': 0.1404447077173092, 'xgb_weight': 0.8071760393130815, 'xgbrf_weight': 0.8812349849841559, 'cb_weight': 0.8235003618098525, 'hgb_weight': 0.14002931660607618}. Best is trial 10 with value: 72256.43368795159.\n",
      "[I 2024-09-16 08:19:38,391] Trial 15 finished with value: 72262.2637067335 and parameters: {'lgbm_weight': 0.6475105864202128, 'xgb_weight': 0.8184374145301796, 'xgbrf_weight': 0.016201512889604475, 'cb_weight': 0.8481040414141063, 'hgb_weight': 0.1635744862187094}. Best is trial 10 with value: 72256.43368795159.\n",
      "[I 2024-09-16 08:19:38,420] Trial 16 finished with value: 72254.89201416585 and parameters: {'lgbm_weight': 0.14326811828046007, 'xgb_weight': 0.8353245490056762, 'xgbrf_weight': 0.4086728962820074, 'cb_weight': 0.8727735172295714, 'hgb_weight': 0.0015497308291963774}. Best is trial 16 with value: 72254.89201416585.\n",
      "[I 2024-09-16 08:19:38,449] Trial 17 finished with value: 72260.7609754036 and parameters: {'lgbm_weight': 0.16211161093466803, 'xgb_weight': 0.7348739930837644, 'xgbrf_weight': 0.18035824909058218, 'cb_weight': 0.8401382396022988, 'hgb_weight': 0.3699769116202711}. Best is trial 16 with value: 72254.89201416585.\n",
      "[I 2024-09-16 08:19:38,477] Trial 18 finished with value: 72274.71224407556 and parameters: {'lgbm_weight': 0.1339939135846805, 'xgb_weight': 0.4487072229062461, 'xgbrf_weight': 0.8035156308834785, 'cb_weight': 0.7048584288512426, 'hgb_weight': 0.9878208965213204}. Best is trial 16 with value: 72254.89201416585.\n",
      "[I 2024-09-16 08:19:38,506] Trial 19 finished with value: 72260.94771976635 and parameters: {'lgbm_weight': 0.19889385578251523, 'xgb_weight': 0.872309324893584, 'xgbrf_weight': 0.5480636522327114, 'cb_weight': 0.5348450980219948, 'hgb_weight': 0.17666361723098492}. Best is trial 16 with value: 72254.89201416585.\n",
      "[I 2024-09-16 08:19:38,537] Trial 20 finished with value: 72258.78845407454 and parameters: {'lgbm_weight': 0.6444733042489869, 'xgb_weight': 0.6325558481659227, 'xgbrf_weight': 0.4116262860628185, 'cb_weight': 0.8905406340908286, 'hgb_weight': 0.11616919448743604}. Best is trial 16 with value: 72254.89201416585.\n",
      "[I 2024-09-16 08:19:38,566] Trial 21 finished with value: 72255.90828792461 and parameters: {'lgbm_weight': 0.06807706541690493, 'xgb_weight': 0.8977162527797518, 'xgbrf_weight': 0.3794355740152908, 'cb_weight': 0.9275432740917036, 'hgb_weight': 0.018735302274175178}. Best is trial 16 with value: 72254.89201416585.\n",
      "[I 2024-09-16 08:19:38,595] Trial 22 finished with value: 72257.3756445066 and parameters: {'lgbm_weight': 0.07947558732543859, 'xgb_weight': 0.8926891883147533, 'xgbrf_weight': 0.27436732139565334, 'cb_weight': 0.9047082967519732, 'hgb_weight': 0.08957046840409352}. Best is trial 16 with value: 72254.89201416585.\n",
      "[I 2024-09-16 08:19:38,626] Trial 23 finished with value: 72254.56391028268 and parameters: {'lgbm_weight': 0.07979145476863331, 'xgb_weight': 0.7278979429975264, 'xgbrf_weight': 0.5269547599351518, 'cb_weight': 0.7336196924126883, 'hgb_weight': 0.006885554415680419}. Best is trial 23 with value: 72254.56391028268.\n",
      "[I 2024-09-16 08:19:38,656] Trial 24 finished with value: 72255.1289098313 and parameters: {'lgbm_weight': 0.2367445191190405, 'xgb_weight': 0.7308999783232117, 'xgbrf_weight': 0.5482553176333688, 'cb_weight': 0.7341871306956667, 'hgb_weight': 0.011499724980145728}. Best is trial 23 with value: 72254.56391028268.\n",
      "[I 2024-09-16 08:19:38,684] Trial 25 finished with value: 72258.25397599289 and parameters: {'lgbm_weight': 0.25180826296481773, 'xgb_weight': 0.7004601651372109, 'xgbrf_weight': 0.56373366007083, 'cb_weight': 0.7389394346462287, 'hgb_weight': 0.24893346733310515}. Best is trial 23 with value: 72254.56391028268.\n",
      "[I 2024-09-16 08:19:38,713] Trial 26 finished with value: 72274.48177769285 and parameters: {'lgbm_weight': 0.8142997524492838, 'xgb_weight': 0.5321150333064378, 'xgbrf_weight': 0.7808777380697949, 'cb_weight': 0.6575475585951046, 'hgb_weight': 0.7666317779928336}. Best is trial 23 with value: 72254.56391028268.\n",
      "[I 2024-09-16 08:19:38,742] Trial 27 finished with value: 72266.28829746002 and parameters: {'lgbm_weight': 0.21476907063844294, 'xgb_weight': 0.39135567872902577, 'xgbrf_weight': 0.5136543765647441, 'cb_weight': 0.46626673014505393, 'hgb_weight': 0.38341893511060743}. Best is trial 23 with value: 72254.56391028268.\n",
      "[I 2024-09-16 08:19:38,771] Trial 28 finished with value: 72257.00734600938 and parameters: {'lgbm_weight': 0.07964370011064045, 'xgb_weight': 0.7639710336897257, 'xgbrf_weight': 0.6271547899458176, 'cb_weight': 0.7750634600417526, 'hgb_weight': 0.20357910664360124}. Best is trial 23 with value: 72254.56391028268.\n",
      "[I 2024-09-16 08:19:38,800] Trial 29 finished with value: 72276.91850644189 and parameters: {'lgbm_weight': 0.4609805759625325, 'xgb_weight': 0.6299531666063001, 'xgbrf_weight': 0.7139440093946983, 'cb_weight': 0.2783056866567565, 'hgb_weight': 0.328903658651497}. Best is trial 23 with value: 72254.56391028268.\n",
      "[I 2024-09-16 08:19:38,831] Trial 30 finished with value: 72258.05462472036 and parameters: {'lgbm_weight': 0.3218261209573437, 'xgb_weight': 0.57937201244856, 'xgbrf_weight': 0.22042175268902553, 'cb_weight': 0.5643926372956937, 'hgb_weight': 0.10812102722909214}. Best is trial 23 with value: 72254.56391028268.\n",
      "[I 2024-09-16 08:19:38,861] Trial 31 finished with value: 72255.73193347109 and parameters: {'lgbm_weight': 0.07050189865750396, 'xgb_weight': 0.8205448538575372, 'xgbrf_weight': 0.3723118606085807, 'cb_weight': 0.8989696919195184, 'hgb_weight': 0.005685228232019956}. Best is trial 23 with value: 72254.56391028268.\n",
      "[I 2024-09-16 08:19:38,891] Trial 32 finished with value: 72254.5937229305 and parameters: {'lgbm_weight': 0.101502645434452, 'xgb_weight': 0.8110714794870567, 'xgbrf_weight': 0.4988555909188871, 'cb_weight': 0.7869922530513742, 'hgb_weight': 0.002464990589162693}. Best is trial 23 with value: 72254.56391028268.\n",
      "[I 2024-09-16 08:19:38,920] Trial 33 finished with value: 72255.56764636749 and parameters: {'lgbm_weight': 0.16048209843669703, 'xgb_weight': 0.7364221383493111, 'xgbrf_weight': 0.6185930314695314, 'cb_weight': 0.8002038024526059, 'hgb_weight': 0.10201563044033311}. Best is trial 23 with value: 72254.56391028268.\n",
      "[I 2024-09-16 08:19:38,950] Trial 34 finished with value: 72254.4226957466 and parameters: {'lgbm_weight': 0.11042123677435567, 'xgb_weight': 0.6514133811538794, 'xgbrf_weight': 0.4848511892539194, 'cb_weight': 0.6862778024935978, 'hgb_weight': 0.002906512344730732}. Best is trial 34 with value: 72254.4226957466.\n",
      "[I 2024-09-16 08:19:38,981] Trial 35 finished with value: 72255.35870104423 and parameters: {'lgbm_weight': 0.10378404436475318, 'xgb_weight': 0.672306907180912, 'xgbrf_weight': 0.4793444626715149, 'cb_weight': 0.672444611658159, 'hgb_weight': 0.07690735459530405}. Best is trial 34 with value: 72254.4226957466.\n",
      "[I 2024-09-16 08:19:39,011] Trial 36 finished with value: 72259.95360645777 and parameters: {'lgbm_weight': 0.39273586434675684, 'xgb_weight': 0.5996769306026987, 'xgbrf_weight': 0.48328853745353995, 'cb_weight': 0.5933289226019077, 'hgb_weight': 0.16318824617921815}. Best is trial 34 with value: 72254.4226957466.\n",
      "[I 2024-09-16 08:19:39,040] Trial 37 finished with value: 72258.02886083805 and parameters: {'lgbm_weight': 0.5337318505587847, 'xgb_weight': 0.7922977843394983, 'xgbrf_weight': 0.43825554059748173, 'cb_weight': 0.7717808729266644, 'hgb_weight': 0.0656314640111285}. Best is trial 34 with value: 72254.4226957466.\n",
      "[I 2024-09-16 08:19:39,071] Trial 38 finished with value: 72277.43638409446 and parameters: {'lgbm_weight': 0.31046301056500325, 'xgb_weight': 0.5042241910157323, 'xgbrf_weight': 0.9849029923045495, 'cb_weight': 0.4756038397033374, 'hgb_weight': 0.7231226417009697}. Best is trial 34 with value: 72254.4226957466.\n",
      "[I 2024-09-16 08:19:39,101] Trial 39 finished with value: 72258.16498154447 and parameters: {'lgbm_weight': 0.19267949289533767, 'xgb_weight': 0.6806011933168536, 'xgbrf_weight': 0.3446422145853516, 'cb_weight': 0.6936489032022732, 'hgb_weight': 0.25443578180442683}. Best is trial 34 with value: 72254.4226957466.\n",
      "[I 2024-09-16 08:19:39,131] Trial 40 finished with value: 72273.53493603674 and parameters: {'lgbm_weight': 0.8358535202482841, 'xgb_weight': 0.8502524698719451, 'xgbrf_weight': 0.6045470412185856, 'cb_weight': 0.37304437531705786, 'hgb_weight': 0.0008377529153367163}. Best is trial 34 with value: 72254.4226957466.\n",
      "[I 2024-09-16 08:19:39,162] Trial 41 finished with value: 72255.67969297398 and parameters: {'lgbm_weight': 0.2507047762040976, 'xgb_weight': 0.7307987626227718, 'xgbrf_weight': 0.528466887665484, 'cb_weight': 0.7440008852842157, 'hgb_weight': 0.07051230370100803}. Best is trial 34 with value: 72254.4226957466.\n",
      "[I 2024-09-16 08:19:39,192] Trial 42 finished with value: 72256.04234854787 and parameters: {'lgbm_weight': 0.11772873573654759, 'xgb_weight': 0.5701314019220154, 'xgbrf_weight': 0.6662457595184547, 'cb_weight': 0.8560827147086884, 'hgb_weight': 0.13991078663427797}. Best is trial 34 with value: 72254.4226957466.\n",
      "[I 2024-09-16 08:19:39,223] Trial 43 finished with value: 72255.40856150424 and parameters: {'lgbm_weight': 0.05809013154663459, 'xgb_weight': 0.7754203424332092, 'xgbrf_weight': 0.44532237722846363, 'cb_weight': 0.6250010868929107, 'hgb_weight': 0.0014947828334208803}. Best is trial 34 with value: 72254.4226957466.\n",
      "[I 2024-09-16 08:19:39,253] Trial 44 finished with value: 72255.71657140479 and parameters: {'lgbm_weight': 0.21456607086774718, 'xgb_weight': 0.7079773693960182, 'xgbrf_weight': 0.5833294589313555, 'cb_weight': 0.7160726267940412, 'hgb_weight': 0.053957477226758636}. Best is trial 34 with value: 72254.4226957466.\n",
      "[I 2024-09-16 08:19:39,284] Trial 45 finished with value: 72256.76937748143 and parameters: {'lgbm_weight': 0.04368904415862693, 'xgb_weight': 0.8448019382397682, 'xgbrf_weight': 0.5197855113083669, 'cb_weight': 0.7910451624579117, 'hgb_weight': 0.19176076035673806}. Best is trial 34 with value: 72254.4226957466.\n",
      "[I 2024-09-16 08:19:39,314] Trial 46 finished with value: 72260.82058166384 and parameters: {'lgbm_weight': 0.274438025576909, 'xgb_weight': 0.9414223801609198, 'xgbrf_weight': 0.4600737448335798, 'cb_weight': 0.5313656531189923, 'hgb_weight': 0.1174752637255518}. Best is trial 34 with value: 72254.4226957466.\n",
      "[I 2024-09-16 08:19:39,344] Trial 47 finished with value: 72259.22349896505 and parameters: {'lgbm_weight': 0.3568216429897879, 'xgb_weight': 0.6466903272205387, 'xgbrf_weight': 0.7208655250194007, 'cb_weight': 0.6375688612428125, 'hgb_weight': 0.04618885606955341}. Best is trial 34 with value: 72254.4226957466.\n",
      "[I 2024-09-16 08:19:39,374] Trial 48 finished with value: 72261.0000849544 and parameters: {'lgbm_weight': 0.15136628760412235, 'xgb_weight': 0.7676729157004796, 'xgbrf_weight': 0.40533001974397703, 'cb_weight': 0.755202110573048, 'hgb_weight': 0.4461264069423483}. Best is trial 34 with value: 72254.4226957466.\n",
      "[I 2024-09-16 08:19:39,405] Trial 49 finished with value: 72260.33467560269 and parameters: {'lgbm_weight': 0.032650384852875386, 'xgb_weight': 0.43276290046289045, 'xgbrf_weight': 0.3238246560176741, 'cb_weight': 0.8161054644549441, 'hgb_weight': 0.30422366918497895}. Best is trial 34 with value: 72254.4226957466.\n",
      "[I 2024-09-16 08:19:39,437] Trial 50 finished with value: 72257.57992085286 and parameters: {'lgbm_weight': 0.22110084239597222, 'xgb_weight': 0.6036469484100067, 'xgbrf_weight': 0.23695205605531192, 'cb_weight': 0.9275090908474088, 'hgb_weight': 0.030949907381002166}. Best is trial 34 with value: 72254.4226957466.\n",
      "[I 2024-09-16 08:19:39,468] Trial 51 finished with value: 72255.36004357123 and parameters: {'lgbm_weight': 0.11602986587178965, 'xgb_weight': 0.6858188852158743, 'xgbrf_weight': 0.4846951596219287, 'cb_weight': 0.6772856577033746, 'hgb_weight': 0.07341486907152833}. Best is trial 34 with value: 72254.4226957466.\n",
      "[I 2024-09-16 08:19:39,499] Trial 52 finished with value: 72256.48468146625 and parameters: {'lgbm_weight': 0.10715174389660267, 'xgb_weight': 0.6666361465708341, 'xgbrf_weight': 0.5158114160920518, 'cb_weight': 0.5869535795238157, 'hgb_weight': 0.08200102070042126}. Best is trial 34 with value: 72254.4226957466.\n",
      "[I 2024-09-16 08:19:39,528] Trial 53 finished with value: 72257.01354104388 and parameters: {'lgbm_weight': 0.10133839629275264, 'xgb_weight': 0.7420435673298125, 'xgbrf_weight': 0.5696077003241158, 'cb_weight': 0.6665871019260344, 'hgb_weight': 0.14577199643536734}. Best is trial 34 with value: 72254.4226957466.\n",
      "[I 2024-09-16 08:19:39,558] Trial 54 finished with value: 72254.76719473262 and parameters: {'lgbm_weight': 0.1807138851737904, 'xgb_weight': 0.8285598834080328, 'xgbrf_weight': 0.481948519590345, 'cb_weight': 0.8634092865823584, 'hgb_weight': 0.03979590457990666}. Best is trial 34 with value: 72254.4226957466.\n",
      "[I 2024-09-16 08:19:39,589] Trial 55 finished with value: 72255.2389205867 and parameters: {'lgbm_weight': 0.1666541676299695, 'xgb_weight': 0.9099456574665659, 'xgbrf_weight': 0.4161912861525913, 'cb_weight': 0.863253273817544, 'hgb_weight': 0.03500906530846211}. Best is trial 34 with value: 72254.4226957466.\n",
      "[I 2024-09-16 08:19:39,620] Trial 56 finished with value: 72254.30464974583 and parameters: {'lgbm_weight': 0.18103322375431768, 'xgb_weight': 0.8583953616530285, 'xgbrf_weight': 0.656572347800463, 'cb_weight': 0.9662143600938432, 'hgb_weight': 0.0006657832750794686}. Best is trial 56 with value: 72254.30464974583.\n",
      "[I 2024-09-16 08:19:39,651] Trial 57 finished with value: 72260.80316151584 and parameters: {'lgbm_weight': 0.18530915049661106, 'xgb_weight': 0.8335481160125223, 'xgbrf_weight': 0.6615934027587731, 'cb_weight': 0.9306288134151157, 'hgb_weight': 0.539474648369344}. Best is trial 56 with value: 72254.30464974583.\n",
      "[I 2024-09-16 08:19:39,682] Trial 58 finished with value: 72256.63801722601 and parameters: {'lgbm_weight': 0.27814093397609047, 'xgb_weight': 0.949958824501915, 'xgbrf_weight': 0.8319254408215058, 'cb_weight': 0.939390401907321, 'hgb_weight': 0.1331880651549251}. Best is trial 56 with value: 72254.30464974583.\n",
      "[I 2024-09-16 08:19:39,715] Trial 59 finished with value: 72255.28360540174 and parameters: {'lgbm_weight': 0.03998628374708585, 'xgb_weight': 0.865180733821364, 'xgbrf_weight': 0.761621016705968, 'cb_weight': 0.8780733149743509, 'hgb_weight': 0.04362497159359235}. Best is trial 56 with value: 72254.30464974583.\n",
      "[I 2024-09-16 08:19:39,746] Trial 60 finished with value: 72267.81489849415 and parameters: {'lgbm_weight': 0.14131276825425335, 'xgb_weight': 0.7949745199544573, 'xgbrf_weight': 0.3787969672610071, 'cb_weight': 0.9654893762692527, 'hgb_weight': 0.9435963305725034}. Best is trial 56 with value: 72254.30464974583.\n",
      "[I 2024-09-16 08:19:39,777] Trial 61 finished with value: 72255.09997424438 and parameters: {'lgbm_weight': 0.2350072497790605, 'xgb_weight': 0.8884034698876955, 'xgbrf_weight': 0.6093399825391856, 'cb_weight': 0.8222134811285722, 'hgb_weight': 0.0040173959845604176}. Best is trial 56 with value: 72254.30464974583.\n",
      "[I 2024-09-16 08:19:39,808] Trial 62 finished with value: 72254.87356125072 and parameters: {'lgbm_weight': 0.19469479775236004, 'xgb_weight': 0.8798825841187738, 'xgbrf_weight': 0.5969909204451439, 'cb_weight': 0.8193138651566487, 'hgb_weight': 0.0009851086348579507}. Best is trial 56 with value: 72254.30464974583.\n",
      "[I 2024-09-16 08:19:39,840] Trial 63 finished with value: 72256.07096191299 and parameters: {'lgbm_weight': 0.029578595037682155, 'xgb_weight': 0.9928352098253667, 'xgbrf_weight': 0.5519332391626729, 'cb_weight': 0.8395914760914822, 'hgb_weight': 0.09686920489439965}. Best is trial 56 with value: 72254.30464974583.\n",
      "[I 2024-09-16 08:19:39,871] Trial 64 finished with value: 72255.30382386033 and parameters: {'lgbm_weight': 0.19081036994850556, 'xgb_weight': 0.9642612134776305, 'xgbrf_weight': 0.6461266869726087, 'cb_weight': 0.8735756418556608, 'hgb_weight': 0.045534330822038546}. Best is trial 56 with value: 72254.30464974583.\n",
      "[I 2024-09-16 08:19:39,902] Trial 65 finished with value: 72256.7144718406 and parameters: {'lgbm_weight': 0.2939581607071178, 'xgb_weight': 0.9110651199958807, 'xgbrf_weight': 0.5876574113433782, 'cb_weight': 0.7856294531925854, 'hgb_weight': 0.10099942862347822}. Best is trial 56 with value: 72254.30464974583.\n",
      "[I 2024-09-16 08:19:39,933] Trial 66 finished with value: 72254.560961199 and parameters: {'lgbm_weight': 0.135881477943498, 'xgb_weight': 0.8154293020453036, 'xgbrf_weight': 0.6956387002881814, 'cb_weight': 0.961975335905498, 'hgb_weight': 0.03480152211230418}. Best is trial 56 with value: 72254.30464974583.\n",
      "[I 2024-09-16 08:19:39,964] Trial 67 finished with value: 72256.39136461994 and parameters: {'lgbm_weight': 0.08936725361087114, 'xgb_weight': 0.810834271320741, 'xgbrf_weight': 0.7065013088031797, 'cb_weight': 0.9611812416510287, 'hgb_weight': 0.22608043018741594}. Best is trial 56 with value: 72254.30464974583.\n",
      "[I 2024-09-16 08:19:39,996] Trial 68 finished with value: 72259.44062221023 and parameters: {'lgbm_weight': 0.6881847365750186, 'xgb_weight': 0.874334093374227, 'xgbrf_weight': 0.7407144315429133, 'cb_weight': 0.9543704639950089, 'hgb_weight': 0.16739580712740082}. Best is trial 56 with value: 72254.30464974583.\n",
      "[I 2024-09-16 08:19:40,026] Trial 69 finished with value: 72254.55137952013 and parameters: {'lgbm_weight': 0.16408814464598226, 'xgb_weight': 0.7681424878865162, 'xgbrf_weight': 0.693793800206332, 'cb_weight': 0.9915902279017674, 'hgb_weight': 0.03583091080123592}. Best is trial 56 with value: 72254.30464974583.\n",
      "[I 2024-09-16 08:19:40,057] Trial 70 finished with value: 72262.69782884767 and parameters: {'lgbm_weight': 0.0022409740806014766, 'xgb_weight': 0.770919923779164, 'xgbrf_weight': 0.8227302488715074, 'cb_weight': 0.9887985696547525, 'hgb_weight': 0.6637936995484384}. Best is trial 56 with value: 72254.30464974583.\n",
      "[I 2024-09-16 08:19:40,089] Trial 71 finished with value: 72254.73009003526 and parameters: {'lgbm_weight': 0.1792306763073253, 'xgb_weight': 0.8101101647849871, 'xgbrf_weight': 0.6804128201761415, 'cb_weight': 0.9032785680852601, 'hgb_weight': 0.0334308601311}. Best is trial 56 with value: 72254.30464974583.\n",
      "[I 2024-09-16 08:19:40,120] Trial 72 finished with value: 72254.71130649644 and parameters: {'lgbm_weight': 0.16671691255597637, 'xgb_weight': 0.7156319473029533, 'xgbrf_weight': 0.6834899688006058, 'cb_weight': 0.9112327036904281, 'hgb_weight': 0.036616564324135514}. Best is trial 56 with value: 72254.30464974583.\n",
      "[I 2024-09-16 08:19:40,151] Trial 73 finished with value: 72255.02065722419 and parameters: {'lgbm_weight': 0.13932918507691122, 'xgb_weight': 0.698482045564712, 'xgbrf_weight': 0.6900501265228972, 'cb_weight': 0.9134653570367016, 'hgb_weight': 0.07308386973158977}. Best is trial 56 with value: 72254.30464974583.\n",
      "[I 2024-09-16 08:19:40,182] Trial 74 finished with value: 72256.04949395188 and parameters: {'lgbm_weight': 0.13084323718896296, 'xgb_weight': 0.7121078811154998, 'xgbrf_weight': 0.8844611240904158, 'cb_weight': 0.9994205156852778, 'hgb_weight': 0.12150822188389575}. Best is trial 56 with value: 72254.30464974583.\n",
      "[I 2024-09-16 08:19:40,213] Trial 75 finished with value: 72254.91806225806 and parameters: {'lgbm_weight': 0.06532261174823409, 'xgb_weight': 0.7920818847396823, 'xgbrf_weight': 0.750765927264577, 'cb_weight': 0.9007650237331145, 'hgb_weight': 0.030086692760496355}. Best is trial 56 with value: 72254.30464974583.\n",
      "[I 2024-09-16 08:19:40,245] Trial 76 finished with value: 72254.74636423671 and parameters: {'lgbm_weight': 0.09336039689984707, 'xgb_weight': 0.7610567590802337, 'xgbrf_weight': 0.635731039943827, 'cb_weight': 0.9541295600009907, 'hgb_weight': 0.06112926239240915}. Best is trial 56 with value: 72254.30464974583.\n",
      "[I 2024-09-16 08:19:40,278] Trial 77 finished with value: 72273.13832017375 and parameters: {'lgbm_weight': 0.3583120637368471, 'xgb_weight': 0.6245900050971329, 'xgbrf_weight': 0.7789623607456588, 'cb_weight': 0.27188167626458276, 'hgb_weight': 0.02696507392905558}. Best is trial 56 with value: 72254.30464974583.\n",
      "[I 2024-09-16 08:19:40,310] Trial 78 finished with value: 72268.58544628412 and parameters: {'lgbm_weight': 0.9938837833637858, 'xgb_weight': 0.13987673660410238, 'xgbrf_weight': 0.6770705696924143, 'cb_weight': 0.9050964883565297, 'hgb_weight': 0.09368428454933034}. Best is trial 56 with value: 72254.30464974583.\n",
      "[I 2024-09-16 08:19:40,342] Trial 79 finished with value: 72255.93545010587 and parameters: {'lgbm_weight': 0.16400877844005712, 'xgb_weight': 0.7411927078285679, 'xgbrf_weight': 0.651944005441558, 'cb_weight': 0.9942850350732007, 'hgb_weight': 0.2000936655470027}. Best is trial 56 with value: 72254.30464974583.\n",
      "[I 2024-09-16 08:19:40,374] Trial 80 finished with value: 72258.21504286941 and parameters: {'lgbm_weight': 0.2585649946042894, 'xgb_weight': 0.33770591198102085, 'xgbrf_weight': 0.7317770788678492, 'cb_weight': 0.9322507888090662, 'hgb_weight': 0.14643890509830462}. Best is trial 56 with value: 72254.30464974583.\n",
      "[I 2024-09-16 08:19:40,406] Trial 81 finished with value: 72254.76534857866 and parameters: {'lgbm_weight': 0.08136506113348718, 'xgb_weight': 0.7565534993871641, 'xgbrf_weight': 0.6213897993629194, 'cb_weight': 0.9539921278996132, 'hgb_weight': 0.05853913402866773}. Best is trial 56 with value: 72254.30464974583.\n",
      "[I 2024-09-16 08:19:40,437] Trial 82 finished with value: 72254.76784580185 and parameters: {'lgbm_weight': 0.10283391237901764, 'xgb_weight': 0.7975612383690941, 'xgbrf_weight': 0.6976473720570336, 'cb_weight': 0.9590888424683965, 'hgb_weight': 0.05910919892963147}. Best is trial 56 with value: 72254.30464974583.\n",
      "[I 2024-09-16 08:19:40,469] Trial 83 finished with value: 72254.7424121833 and parameters: {'lgbm_weight': 0.025837740622966565, 'xgb_weight': 0.8473228768590171, 'xgbrf_weight': 0.6320689717564894, 'cb_weight': 0.9724035128304148, 'hgb_weight': 0.0217806877997235}. Best is trial 56 with value: 72254.30464974583.\n",
      "[I 2024-09-16 08:19:40,500] Trial 84 finished with value: 72254.82563939324 and parameters: {'lgbm_weight': 0.027844237574555314, 'xgb_weight': 0.8535035887832705, 'xgbrf_weight': 0.6696234896187179, 'cb_weight': 0.8927605335189748, 'hgb_weight': 0.02714879507069615}. Best is trial 56 with value: 72254.30464974583.\n",
      "[I 2024-09-16 08:19:40,531] Trial 85 finished with value: 72256.00837170145 and parameters: {'lgbm_weight': 0.12442978316569679, 'xgb_weight': 0.8199678631482004, 'xgbrf_weight': 0.5505834462048582, 'cb_weight': 0.7244023568014866, 'hgb_weight': 0.09592172730295041}. Best is trial 56 with value: 72254.30464974583.\n",
      "[I 2024-09-16 08:19:40,562] Trial 86 finished with value: 72267.52025828336 and parameters: {'lgbm_weight': 0.058791371530311845, 'xgb_weight': 0.7139794677410658, 'xgbrf_weight': 0.7945948069514405, 'cb_weight': 0.8399124379048272, 'hgb_weight': 0.8373419347761755}. Best is trial 56 with value: 72254.30464974583.\n",
      "[I 2024-09-16 08:19:40,593] Trial 87 finished with value: 72254.52755259807 and parameters: {'lgbm_weight': 0.20926614284383468, 'xgb_weight': 0.653465255012008, 'xgbrf_weight': 0.6353932227586226, 'cb_weight': 0.9754956285121622, 'hgb_weight': 8.807074710966145e-06}. Best is trial 56 with value: 72254.30464974583.\n",
      "[I 2024-09-16 08:19:40,627] Trial 88 finished with value: 72254.87460966174 and parameters: {'lgbm_weight': 0.21962785914757027, 'xgb_weight': 0.6117992278434639, 'xgbrf_weight': 0.7074162948242132, 'cb_weight': 0.9260876039244842, 'hgb_weight': 0.0007014704412657766}. Best is trial 56 with value: 72254.30464974583.\n",
      "[I 2024-09-16 08:19:40,660] Trial 89 finished with value: 72255.18905766025 and parameters: {'lgbm_weight': 0.16665257953838788, 'xgb_weight': 0.5632771107289597, 'xgbrf_weight': 0.5335651571256145, 'cb_weight': 0.7590135308800092, 'hgb_weight': 0.07929034834218777}. Best is trial 56 with value: 72254.30464974583.\n",
      "[I 2024-09-16 08:19:40,692] Trial 90 finished with value: 72255.41593389442 and parameters: {'lgbm_weight': 0.21326813295180094, 'xgb_weight': 0.6690170000928743, 'xgbrf_weight': 0.5717259123986155, 'cb_weight': 0.8808317955718844, 'hgb_weight': 0.12238815468665454}. Best is trial 56 with value: 72254.30464974583.\n",
      "[I 2024-09-16 08:19:40,724] Trial 91 finished with value: 72254.74112232852 and parameters: {'lgbm_weight': 0.13962407334043514, 'xgb_weight': 0.6475562406292652, 'xgbrf_weight': 0.6817654839944095, 'cb_weight': 0.9772908181001289, 'hgb_weight': 0.022577274420337103}. Best is trial 56 with value: 72254.30464974583.\n",
      "[I 2024-09-16 08:19:40,755] Trial 92 finished with value: 72255.24746220556 and parameters: {'lgbm_weight': 0.15245107624496596, 'xgb_weight': 0.6482433352278838, 'xgbrf_weight': 0.5016278044375311, 'cb_weight': 0.9995004316879316, 'hgb_weight': 0.04600460949171563}. Best is trial 56 with value: 72254.30464974583.\n",
      "[I 2024-09-16 08:19:40,787] Trial 93 finished with value: 72255.4785167608 and parameters: {'lgbm_weight': 0.1191231103295302, 'xgb_weight': 0.5274353956054445, 'xgbrf_weight': 0.6868682568050457, 'cb_weight': 0.9797481647300944, 'hgb_weight': 0.017729792608057016}. Best is trial 56 with value: 72254.30464974583.\n",
      "[I 2024-09-16 08:19:40,818] Trial 94 finished with value: 72261.1136516287 and parameters: {'lgbm_weight': 0.24084765214946108, 'xgb_weight': 0.7174018150385303, 'xgbrf_weight': 0.06247043446342604, 'cb_weight': 0.941209921028676, 'hgb_weight': 0.05831975007696461}. Best is trial 56 with value: 72254.30464974583.\n",
      "[I 2024-09-16 08:19:40,849] Trial 95 finished with value: 72286.56472915826 and parameters: {'lgbm_weight': 0.5323651282100265, 'xgb_weight': 0.6892549968759728, 'xgbrf_weight': 0.7301409659984437, 'cb_weight': 0.09913214055195652, 'hgb_weight': 0.024697403626694255}. Best is trial 56 with value: 72254.30464974583.\n",
      "[I 2024-09-16 08:19:40,880] Trial 96 finished with value: 72255.82193599822 and parameters: {'lgbm_weight': 0.17499447432836007, 'xgb_weight': 0.636495710618015, 'xgbrf_weight': 0.754308882885208, 'cb_weight': 0.9198471645579064, 'hgb_weight': 0.11128723239898544}. Best is trial 56 with value: 72254.30464974583.\n",
      "[I 2024-09-16 08:19:40,911] Trial 97 finished with value: 72258.2585836837 and parameters: {'lgbm_weight': 0.2034406264338265, 'xgb_weight': 0.7852480979998194, 'xgbrf_weight': 0.6591515900650154, 'cb_weight': 0.9761664431632228, 'hgb_weight': 0.38463825934177565}. Best is trial 56 with value: 72254.30464974583.\n",
      "[I 2024-09-16 08:19:40,941] Trial 98 finished with value: 72254.55841284928 and parameters: {'lgbm_weight': 0.13991638135303772, 'xgb_weight': 0.5882398957055389, 'xgbrf_weight': 0.6166338931808392, 'cb_weight': 0.8543079640122584, 'hgb_weight': 0.00023669548061555808}. Best is trial 56 with value: 72254.30464974583.\n",
      "[I 2024-09-16 08:19:40,972] Trial 99 finished with value: 72255.5824849498 and parameters: {'lgbm_weight': 0.07612258492952094, 'xgb_weight': 0.5500245124031817, 'xgbrf_weight': 0.4488800431879569, 'cb_weight': 0.8474282300399333, 'hgb_weight': 0.0694188928163149}. Best is trial 56 with value: 72254.30464974583.\n",
      "[I 2024-09-16 08:19:41,005] Trial 100 finished with value: 72255.2854137192 and parameters: {'lgbm_weight': 0.12027203309642656, 'xgb_weight': 0.4838032641707132, 'xgbrf_weight': 0.5994691059738598, 'cb_weight': 0.7948521743932091, 'hgb_weight': 0.04240177398540894}. Best is trial 56 with value: 72254.30464974583.\n",
      "[I 2024-09-16 08:19:41,036] Trial 101 finished with value: 72254.70780027684 and parameters: {'lgbm_weight': 0.17814235016688854, 'xgb_weight': 0.5956253998428984, 'xgbrf_weight': 0.6387012457954077, 'cb_weight': 0.8972423441367646, 'hgb_weight': 0.012890369536157098}. Best is trial 56 with value: 72254.30464974583.\n",
      "[I 2024-09-16 08:19:41,068] Trial 102 finished with value: 72254.610454845 and parameters: {'lgbm_weight': 0.15478458251736535, 'xgb_weight': 0.5923642008155763, 'xgbrf_weight': 0.6205022107812861, 'cb_weight': 0.8921983931204194, 'hgb_weight': 0.0039028777999472212}. Best is trial 56 with value: 72254.30464974583.\n",
      "[I 2024-09-16 08:19:41,101] Trial 103 finished with value: 72255.2866842195 and parameters: {'lgbm_weight': 0.15233850972162458, 'xgb_weight': 0.5934052878018814, 'xgbrf_weight': 0.6379333923336734, 'cb_weight': 0.6976675146405238, 'hgb_weight': 0.002832655604414375}. Best is trial 56 with value: 72254.30464974583.\n",
      "[I 2024-09-16 08:19:41,135] Trial 104 finished with value: 72255.86170358343 and parameters: {'lgbm_weight': 0.056528376635567396, 'xgb_weight': 0.5083064305224034, 'xgbrf_weight': 0.6093593688819254, 'cb_weight': 0.8807854649977562, 'hgb_weight': 0.08686530710784325}. Best is trial 56 with value: 72254.30464974583.\n",
      "[I 2024-09-16 08:19:41,168] Trial 105 finished with value: 72254.67235625173 and parameters: {'lgbm_weight': 0.23102662015263287, 'xgb_weight': 0.5816649850538077, 'xgbrf_weight': 0.5373065904338741, 'cb_weight': 0.8155559909798695, 'hgb_weight': 0.014513726930376539}. Best is trial 56 with value: 72254.30464974583.\n",
      "[I 2024-09-16 08:19:41,202] Trial 106 finished with value: 72255.06354382573 and parameters: {'lgbm_weight': 0.3011606950477636, 'xgb_weight': 0.5864262117067943, 'xgbrf_weight': 0.5309500194958816, 'cb_weight': 0.8135030833606226, 'hgb_weight': 0.017256868145282368}. Best is trial 56 with value: 72254.30464974583.\n",
      "[I 2024-09-16 08:19:41,235] Trial 107 finished with value: 72255.226528152 and parameters: {'lgbm_weight': 0.25332578379241544, 'xgb_weight': 0.5591742991223382, 'xgbrf_weight': 0.5036606177213436, 'cb_weight': 0.7595501568781013, 'hgb_weight': 0.0536908624665801}. Best is trial 56 with value: 72254.30464974583.\n",
      "[I 2024-09-16 08:19:41,268] Trial 108 finished with value: 72255.03863787545 and parameters: {'lgbm_weight': 0.3268438598046802, 'xgb_weight': 0.620218730324313, 'xgbrf_weight': 0.5696878140687697, 'cb_weight': 0.8558017486518983, 'hgb_weight': 0.0027245548565206414}. Best is trial 56 with value: 72254.30464974583.\n",
      "[I 2024-09-16 08:19:41,301] Trial 109 finished with value: 72255.50030683864 and parameters: {'lgbm_weight': 0.19482536287424707, 'xgb_weight': 0.4868386712047294, 'xgbrf_weight': 0.5464840034181301, 'cb_weight': 0.8053648045281848, 'hgb_weight': 0.0790556902583115}. Best is trial 56 with value: 72254.30464974583.\n",
      "[I 2024-09-16 08:19:41,333] Trial 110 finished with value: 72255.32356405952 and parameters: {'lgbm_weight': 0.23190097666688145, 'xgb_weight': 0.5298658018347112, 'xgbrf_weight': 0.5858042714828516, 'cb_weight': 0.9436716522307881, 'hgb_weight': 0.048967944411213514}. Best is trial 56 with value: 72254.30464974583.\n",
      "[I 2024-09-16 08:19:41,365] Trial 111 finished with value: 72254.95310761261 and parameters: {'lgbm_weight': 0.10266687727081547, 'xgb_weight': 0.576695239954161, 'xgbrf_weight': 0.6572022941909095, 'cb_weight': 0.9133609271589505, 'hgb_weight': 0.018597912201115507}. Best is trial 56 with value: 72254.30464974583.\n",
      "[I 2024-09-16 08:19:41,398] Trial 112 finished with value: 72254.64715722256 and parameters: {'lgbm_weight': 0.13275346656489337, 'xgb_weight': 0.6579608710401432, 'xgbrf_weight': 0.4718125293422974, 'cb_weight': 0.8379922590694626, 'hgb_weight': 0.040508902034293866}. Best is trial 56 with value: 72254.30464974583.\n",
      "[I 2024-09-16 08:19:41,432] Trial 113 finished with value: 72269.10973110356 and parameters: {'lgbm_weight': 0.08777010934367004, 'xgb_weight': 0.006568346475382403, 'xgbrf_weight': 0.4635484827862202, 'cb_weight': 0.827652277512508, 'hgb_weight': 0.07104654089813106}. Best is trial 56 with value: 72254.30464974583.\n",
      "[I 2024-09-16 08:19:41,465] Trial 114 finished with value: 72254.29906430724 and parameters: {'lgbm_weight': 0.12998977667245454, 'xgb_weight': 0.6028380757151967, 'xgbrf_weight': 0.42932525514227143, 'cb_weight': 0.7335437146731787, 'hgb_weight': 0.0009849315157794913}. Best is trial 114 with value: 72254.29906430724.\n",
      "[I 2024-09-16 08:19:41,501] Trial 115 finished with value: 72254.79178473183 and parameters: {'lgbm_weight': 0.13180458079799065, 'xgb_weight': 0.6681069196373371, 'xgbrf_weight': 0.4001815007974824, 'cb_weight': 0.7752918172390575, 'hgb_weight': 0.0409806713748591}. Best is trial 114 with value: 72254.29906430724.\n",
      "[I 2024-09-16 08:19:41,533] Trial 116 finished with value: 72254.33476474369 and parameters: {'lgbm_weight': 0.14829053320634958, 'xgb_weight': 0.6585245583621632, 'xgbrf_weight': 0.4262049621140631, 'cb_weight': 0.7390684873256352, 'hgb_weight': 7.209367511560325e-05}. Best is trial 114 with value: 72254.29906430724.\n",
      "[I 2024-09-16 08:19:41,567] Trial 117 finished with value: 72255.64354834272 and parameters: {'lgbm_weight': 0.14538963703428476, 'xgb_weight': 0.6856822644286948, 'xgbrf_weight': 0.35311646991599493, 'cb_weight': 0.7087091706807284, 'hgb_weight': 0.09899740594908914}. Best is trial 114 with value: 72254.29906430724.\n",
      "[I 2024-09-16 08:19:41,598] Trial 118 finished with value: 72256.79831723095 and parameters: {'lgbm_weight': 0.43910949894833984, 'xgb_weight': 0.6585369088006329, 'xgbrf_weight': 0.4227104366792831, 'cb_weight': 0.7359970399593018, 'hgb_weight': 0.0390240948037483}. Best is trial 114 with value: 72254.29906430724.\n",
      "[I 2024-09-16 08:19:41,633] Trial 119 finished with value: 72254.498658605 and parameters: {'lgbm_weight': 0.04738504564094447, 'xgb_weight': 0.6115127434783051, 'xgbrf_weight': 0.4290548582647072, 'cb_weight': 0.6904032616015445, 'hgb_weight': 0.0011801960965197936}. Best is trial 114 with value: 72254.29906430724.\n",
      "[I 2024-09-16 08:19:41,666] Trial 120 finished with value: 72254.53244812442 and parameters: {'lgbm_weight': 0.04623257594658421, 'xgb_weight': 0.6296299560817652, 'xgbrf_weight': 0.4325391422306141, 'cb_weight': 0.6436650000074291, 'hgb_weight': 0.00016120517371927354}. Best is trial 114 with value: 72254.29906430724.\n",
      "[I 2024-09-16 08:19:41,699] Trial 121 finished with value: 72254.49738864151 and parameters: {'lgbm_weight': 0.04854415587872496, 'xgb_weight': 0.6160354082063361, 'xgbrf_weight': 0.4262316325142257, 'cb_weight': 0.641778388276496, 'hgb_weight': 0.0007271953715777652}. Best is trial 114 with value: 72254.29906430724.\n",
      "[I 2024-09-16 08:19:41,732] Trial 122 finished with value: 72254.78845297018 and parameters: {'lgbm_weight': 0.008681201436533247, 'xgb_weight': 0.6225904411311478, 'xgbrf_weight': 0.42552892294230343, 'cb_weight': 0.6373975758177175, 'hgb_weight': 0.0032980716440632403}. Best is trial 114 with value: 72254.29906430724.\n",
      "[I 2024-09-16 08:19:41,764] Trial 123 finished with value: 72255.78002754235 and parameters: {'lgbm_weight': 0.05968225851009345, 'xgb_weight': 0.751809796685656, 'xgbrf_weight': 0.3629641539195223, 'cb_weight': 0.6575522753287363, 'hgb_weight': 0.05711814719697648}. Best is trial 114 with value: 72254.29906430724.\n",
      "[I 2024-09-16 08:19:41,796] Trial 124 finished with value: 72264.69690062155 and parameters: {'lgbm_weight': 0.09596038772385115, 'xgb_weight': 0.6256960393706184, 'xgbrf_weight': 0.38849019903066323, 'cb_weight': 0.5991359819648409, 'hgb_weight': 0.5113229540355994}. Best is trial 114 with value: 72254.29906430724.\n",
      "[I 2024-09-16 08:19:41,828] Trial 125 finished with value: 72255.07701460418 and parameters: {'lgbm_weight': 0.03746793666108386, 'xgb_weight': 0.7290269187246742, 'xgbrf_weight': 0.4311355360907606, 'cb_weight': 0.6915853915169929, 'hgb_weight': 0.028508322777268936}. Best is trial 114 with value: 72254.29906430724.\n",
      "[I 2024-09-16 08:19:41,861] Trial 126 finished with value: 72255.66804201422 and parameters: {'lgbm_weight': 0.04874595455446707, 'xgb_weight': 0.6976464988445928, 'xgbrf_weight': 0.3373598839877, 'cb_weight': 0.5512158091152, 'hgb_weight': 0.0015617333684002975}. Best is trial 114 with value: 72254.29906430724.\n",
      "[I 2024-09-16 08:19:41,893] Trial 127 finished with value: 72255.35945991873 and parameters: {'lgbm_weight': 0.01641277578329943, 'xgb_weight': 0.6084178555339692, 'xgbrf_weight': 0.48892561938966145, 'cb_weight': 0.6780467535093472, 'hgb_weight': 0.07717157620761096}. Best is trial 114 with value: 72254.29906430724.\n",
      "[I 2024-09-16 08:19:41,925] Trial 128 finished with value: 72254.66071670673 and parameters: {'lgbm_weight': 0.11252992766860712, 'xgb_weight': 0.5416503254994642, 'xgbrf_weight': 0.44883717824514846, 'cb_weight': 0.6156252757410349, 'hgb_weight': 0.02599381747659002}. Best is trial 114 with value: 72254.29906430724.\n",
      "[I 2024-09-16 08:19:41,957] Trial 129 finished with value: 72255.11189554345 and parameters: {'lgbm_weight': 0.07664257590983037, 'xgb_weight': 0.6564050562020419, 'xgbrf_weight': 0.39259007406722907, 'cb_weight': 0.720443689697485, 'hgb_weight': 0.0639214756315726}. Best is trial 114 with value: 72254.29906430724.\n",
      "[I 2024-09-16 08:19:41,989] Trial 130 finished with value: 72258.55871525251 and parameters: {'lgbm_weight': 0.073559803933107, 'xgb_weight': 0.24203577306391677, 'xgbrf_weight': 0.4576083357263563, 'cb_weight': 0.7420337168978989, 'hgb_weight': 0.025296925001342847}. Best is trial 114 with value: 72254.29906430724.\n",
      "[I 2024-09-16 08:19:42,022] Trial 131 finished with value: 72254.47605994636 and parameters: {'lgbm_weight': 0.10997627186701582, 'xgb_weight': 0.6372037810787033, 'xgbrf_weight': 0.43224331716620396, 'cb_weight': 0.6398033134801775, 'hgb_weight': 0.0010135652087864414}. Best is trial 114 with value: 72254.29906430724.\n",
      "[I 2024-09-16 08:19:42,055] Trial 132 finished with value: 72255.01220375768 and parameters: {'lgbm_weight': 0.04585748651755662, 'xgb_weight': 0.6344233199432492, 'xgbrf_weight': 0.4136692479827495, 'cb_weight': 0.68324498386022, 'hgb_weight': 0.05196699834937706}. Best is trial 114 with value: 72254.29906430724.\n",
      "[I 2024-09-16 08:19:42,090] Trial 133 finished with value: 72255.29931058567 and parameters: {'lgbm_weight': 0.10130638368503089, 'xgb_weight': 0.6811493324244505, 'xgbrf_weight': 0.28908230927497675, 'cb_weight': 0.6440773499853732, 'hgb_weight': 0.0008946238580941155}. Best is trial 114 with value: 72254.29906430724.\n",
      "[I 2024-09-16 08:19:42,124] Trial 134 finished with value: 72255.46371965739 and parameters: {'lgbm_weight': 0.08562591560215213, 'xgb_weight': 0.6142449638662593, 'xgbrf_weight': 0.4988840799195678, 'cb_weight': 0.5735602031218496, 'hgb_weight': 0.02769059248673819}. Best is trial 114 with value: 72254.29906430724.\n",
      "[I 2024-09-16 08:19:42,158] Trial 135 finished with value: 72254.89834857416 and parameters: {'lgbm_weight': 0.10828567520070477, 'xgb_weight': 0.639729868176895, 'xgbrf_weight': 0.42874708745298784, 'cb_weight': 0.6477563115363484, 'hgb_weight': 0.04371609529762591}. Best is trial 114 with value: 72254.29906430724.\n",
      "[I 2024-09-16 08:19:42,192] Trial 136 finished with value: 72262.3073761717 and parameters: {'lgbm_weight': 0.7145082678859138, 'xgb_weight': 0.5650883997570634, 'xgbrf_weight': 0.46909757564018895, 'cb_weight': 0.663777216936053, 'hgb_weight': 0.01940408825605703}. Best is trial 114 with value: 72254.29906430724.\n",
      "[I 2024-09-16 08:19:42,227] Trial 137 finished with value: 72255.77563496536 and parameters: {'lgbm_weight': 0.11837579351307417, 'xgb_weight': 0.7769163496480089, 'xgbrf_weight': 0.3813161718616654, 'cb_weight': 0.7052630038123496, 'hgb_weight': 0.0843208382930726}. Best is trial 114 with value: 72254.29906430724.\n",
      "[I 2024-09-16 08:19:42,259] Trial 138 finished with value: 72256.808496304 and parameters: {'lgbm_weight': 0.06348484724149714, 'xgb_weight': 0.8641200947868949, 'xgbrf_weight': 0.4451290130443787, 'cb_weight': 0.6215973650257021, 'hgb_weight': 0.062338484970353034}. Best is trial 114 with value: 72254.29906430724.\n",
      "[I 2024-09-16 08:19:42,293] Trial 139 finished with value: 72255.10923011374 and parameters: {'lgbm_weight': 0.13085585423485332, 'xgb_weight': 0.8270975957397547, 'xgbrf_weight': 0.4349241762257535, 'cb_weight': 0.7337572694585436, 'hgb_weight': 0.020331522167901538}. Best is trial 114 with value: 72254.29906430724.\n",
      "[I 2024-09-16 08:19:42,327] Trial 140 finished with value: 72255.36496932332 and parameters: {'lgbm_weight': 0.02469960186546845, 'xgb_weight': 0.6772591413932099, 'xgbrf_weight': 0.4033651658134292, 'cb_weight': 0.763803469026634, 'hgb_weight': 0.04886187884426785}. Best is trial 114 with value: 72254.29906430724.\n",
      "[I 2024-09-16 08:19:42,360] Trial 141 finished with value: 72254.40140630437 and parameters: {'lgbm_weight': 0.1584606685063994, 'xgb_weight': 0.586866319620508, 'xgbrf_weight': 0.509051507810069, 'cb_weight': 0.712332861473057, 'hgb_weight': 0.0009061733066589865}. Best is trial 114 with value: 72254.29906430724.\n",
      "[I 2024-09-16 08:19:42,397] Trial 142 finished with value: 72270.16011089008 and parameters: {'lgbm_weight': 0.1621294438691734, 'xgb_weight': 0.6051980826541079, 'xgbrf_weight': 0.5101671715665235, 'cb_weight': 0.5055219740929215, 'hgb_weight': 0.6272930619690462}. Best is trial 114 with value: 72254.29906430724.\n",
      "[I 2024-09-16 08:19:42,434] Trial 143 finished with value: 72254.59816938943 and parameters: {'lgbm_weight': 0.20213867499805527, 'xgb_weight': 0.6474667754464336, 'xgbrf_weight': 0.47973674378941733, 'cb_weight': 0.703347889409664, 'hgb_weight': 0.001861295199345149}. Best is trial 114 with value: 72254.29906430724.\n",
      "[I 2024-09-16 08:19:42,471] Trial 144 finished with value: 72254.70480756456 and parameters: {'lgbm_weight': 0.089248167712086, 'xgb_weight': 0.5755010355474522, 'xgbrf_weight': 0.46358794592496994, 'cb_weight': 0.7829902286844057, 'hgb_weight': 0.029783044369939657}. Best is trial 114 with value: 72254.29906430724.\n",
      "[I 2024-09-16 08:19:42,506] Trial 145 finished with value: 72254.61327675823 and parameters: {'lgbm_weight': 0.18290272877539546, 'xgb_weight': 0.5131389441469064, 'xgbrf_weight': 0.5182552231099694, 'cb_weight': 0.7527958014389601, 'hgb_weight': 0.003493691391948145}. Best is trial 114 with value: 72254.29906430724.\n",
      "[I 2024-09-16 08:19:42,543] Trial 146 finished with value: 72254.83137322392 and parameters: {'lgbm_weight': 0.14436346486483653, 'xgb_weight': 0.7019852600045706, 'xgbrf_weight': 0.49524819292393085, 'cb_weight': 0.7176957123686936, 'hgb_weight': 0.03755993624807358}. Best is trial 114 with value: 72254.29906430724.\n",
      "[I 2024-09-16 08:19:42,578] Trial 147 finished with value: 72254.90842745145 and parameters: {'lgbm_weight': 0.04045039229503857, 'xgb_weight': 0.6039662785483517, 'xgbrf_weight': 0.37160700952643344, 'cb_weight': 0.6737815933502372, 'hgb_weight': 0.020060868577736035}. Best is trial 114 with value: 72254.29906430724.\n",
      "[I 2024-09-16 08:19:42,613] Trial 148 finished with value: 72255.3680852326 and parameters: {'lgbm_weight': 0.11708490529978163, 'xgb_weight': 0.7313075809122443, 'xgbrf_weight': 0.41156779537970506, 'cb_weight': 0.6895896594090205, 'hgb_weight': 0.06845423406713612}. Best is trial 114 with value: 72254.29906430724.\n",
      "[I 2024-09-16 08:19:42,648] Trial 149 finished with value: 72259.06586525937 and parameters: {'lgbm_weight': 0.15740325442418474, 'xgb_weight': 0.5495255155837444, 'xgbrf_weight': 0.7170936264909975, 'cb_weight': 0.5947359650316797, 'hgb_weight': 0.1121563893514671}. Best is trial 114 with value: 72254.29906430724.\n",
      "[I 2024-09-16 08:19:42,682] Trial 150 finished with value: 72254.90651410515 and parameters: {'lgbm_weight': 0.0015030281302826562, 'xgb_weight': 0.6350633283605533, 'xgbrf_weight': 0.44746923073301786, 'cb_weight': 0.7283520987066053, 'hgb_weight': 0.002300683326200571}. Best is trial 114 with value: 72254.29906430724.\n",
      "[I 2024-09-16 08:19:42,715] Trial 151 finished with value: 72254.70555773198 and parameters: {'lgbm_weight': 0.18277293370816775, 'xgb_weight': 0.6498393952490908, 'xgbrf_weight': 0.4820580376803908, 'cb_weight': 0.7015659110505025, 'hgb_weight': 0.020516281812400013}. Best is trial 114 with value: 72254.29906430724.\n",
      "[I 2024-09-16 08:19:42,747] Trial 152 finished with value: 72254.87898867749 and parameters: {'lgbm_weight': 0.2043422306986204, 'xgb_weight': 0.6697254499754717, 'xgbrf_weight': 0.48001850227035636, 'cb_weight': 0.6711515216208941, 'hgb_weight': 0.0018373856866570936}. Best is trial 114 with value: 72254.29906430724.\n",
      "[I 2024-09-16 08:19:42,783] Trial 153 finished with value: 72255.0847564822 and parameters: {'lgbm_weight': 0.2066162713274726, 'xgb_weight': 0.6231632282469609, 'xgbrf_weight': 0.5285566218941415, 'cb_weight': 0.71116102281312, 'hgb_weight': 0.037434792860066485}. Best is trial 114 with value: 72254.29906430724.\n",
      "[I 2024-09-16 08:19:42,817] Trial 154 finished with value: 72254.41986922058 and parameters: {'lgbm_weight': 0.07134907313974154, 'xgb_weight': 0.5896306923364956, 'xgbrf_weight': 0.46881663181026706, 'cb_weight': 0.7441573388672241, 'hgb_weight': 0.0020942753783753498}. Best is trial 114 with value: 72254.29906430724.\n",
      "[I 2024-09-16 08:19:42,850] Trial 155 finished with value: 72254.85311782412 and parameters: {'lgbm_weight': 0.07260810973902142, 'xgb_weight': 0.5856061058337882, 'xgbrf_weight': 0.5623544621173194, 'cb_weight': 0.75118543282866, 'hgb_weight': 0.04495530644420847}. Best is trial 114 with value: 72254.29906430724.\n",
      "[I 2024-09-16 08:19:42,884] Trial 156 finished with value: 72255.3912335506 and parameters: {'lgbm_weight': 0.05693385146287798, 'xgb_weight': 0.8133354520488867, 'xgbrf_weight': 0.4297867484892826, 'cb_weight': 0.7786994296830656, 'hgb_weight': 0.05773323729699444}. Best is trial 114 with value: 72254.29906430724.\n",
      "[I 2024-09-16 08:19:42,918] Trial 157 finished with value: 72254.73082624754 and parameters: {'lgbm_weight': 0.1316470126842112, 'xgb_weight': 0.6018384979088087, 'xgbrf_weight': 0.459624667321399, 'cb_weight': 0.6356832923269322, 'hgb_weight': 0.02346226310049435}. Best is trial 114 with value: 72254.29906430724.\n",
      "[I 2024-09-16 08:19:42,950] Trial 158 finished with value: 72254.36564022447 and parameters: {'lgbm_weight': 0.09565135997192423, 'xgb_weight': 0.5624466562311703, 'xgbrf_weight': 0.5103041157279211, 'cb_weight': 0.741608643407891, 'hgb_weight': 0.000505390863117215}. Best is trial 114 with value: 72254.29906430724.\n",
      "[I 2024-09-16 08:19:42,985] Trial 159 finished with value: 72255.1990742733 and parameters: {'lgbm_weight': 0.09913653231295468, 'xgb_weight': 0.5621965327447811, 'xgbrf_weight': 0.3923139510395763, 'cb_weight': 0.6574625752769977, 'hgb_weight': 0.08492811127688939}. Best is trial 114 with value: 72254.29906430724.\n",
      "[I 2024-09-16 08:19:43,019] Trial 160 finished with value: 72254.5717034542 and parameters: {'lgbm_weight': 0.08017773059554205, 'xgb_weight': 0.5477911548997099, 'xgbrf_weight': 0.5040192185441522, 'cb_weight': 0.7394130345982565, 'hgb_weight': 0.019328863381953068}. Best is trial 114 with value: 72254.29906430724.\n",
      "[I 2024-09-16 08:19:43,054] Trial 161 finished with value: 72254.47150868161 and parameters: {'lgbm_weight': 0.08040968088847192, 'xgb_weight': 0.537879599982215, 'xgbrf_weight': 0.5181188406076838, 'cb_weight': 0.7341866679117284, 'hgb_weight': 0.00028752483009497084}. Best is trial 114 with value: 72254.29906430724.\n",
      "[I 2024-09-16 08:19:43,089] Trial 162 finished with value: 72254.82206862922 and parameters: {'lgbm_weight': 0.04744012608850166, 'xgb_weight': 0.579633966158431, 'xgbrf_weight': 0.45099580802979916, 'cb_weight': 0.7199426372609465, 'hgb_weight': 0.04150006326147284}. Best is trial 114 with value: 72254.29906430724.\n",
      "[I 2024-09-16 08:19:43,125] Trial 163 finished with value: 72254.53084679328 and parameters: {'lgbm_weight': 0.1182440983408213, 'xgb_weight': 0.5301153150821593, 'xgbrf_weight': 0.5401248557692018, 'cb_weight': 0.767246779035003, 'hgb_weight': 0.0017714838489753968}. Best is trial 114 with value: 72254.29906430724.\n",
      "[I 2024-09-16 08:19:43,167] Trial 164 finished with value: 72254.46561599862 and parameters: {'lgbm_weight': 0.1203076325530689, 'xgb_weight': 0.5312548813856393, 'xgbrf_weight': 0.5200430918128347, 'cb_weight': 0.755178557272077, 'hgb_weight': 0.0014475805771147672}. Best is trial 114 with value: 72254.29906430724.\n",
      "[I 2024-09-16 08:19:43,203] Trial 165 finished with value: 72254.64950554734 and parameters: {'lgbm_weight': 0.11254842550390701, 'xgb_weight': 0.5205283519150513, 'xgbrf_weight': 0.5457284153864717, 'cb_weight': 0.7966458832484842, 'hgb_weight': 2.1464487388316673e-05}. Best is trial 114 with value: 72254.29906430724.\n",
      "[I 2024-09-16 08:19:43,241] Trial 166 finished with value: 72254.59577623002 and parameters: {'lgbm_weight': 0.1405404114889184, 'xgb_weight': 0.5042193185050983, 'xgbrf_weight': 0.5168789674563697, 'cb_weight': 0.7697791999081792, 'hgb_weight': 0.0010401851840548058}. Best is trial 114 with value: 72254.29906430724.\n",
      "[I 2024-09-16 08:19:43,288] Trial 167 finished with value: 72255.0387498111 and parameters: {'lgbm_weight': 0.09434533699239814, 'xgb_weight': 0.4691763071822147, 'xgbrf_weight': 0.5560942854061357, 'cb_weight': 0.7536512148978493, 'hgb_weight': 0.019938848512795166}. Best is trial 114 with value: 72254.29906430724.\n",
      "[I 2024-09-16 08:19:43,332] Trial 168 finished with value: 72255.00676219269 and parameters: {'lgbm_weight': 0.1623800095159725, 'xgb_weight': 0.5337047718870438, 'xgbrf_weight': 0.49379251480384445, 'cb_weight': 0.6944359953148569, 'hgb_weight': 0.05502364826238464}. Best is trial 114 with value: 72254.29906430724.\n",
      "[I 2024-09-16 08:19:43,367] Trial 169 finished with value: 72255.63203751127 and parameters: {'lgbm_weight': 0.06634770848206727, 'xgb_weight': 0.42783849299374144, 'xgbrf_weight': 0.5894783032047657, 'cb_weight': 0.7325331075287647, 'hgb_weight': 0.03144014176245535}. Best is trial 114 with value: 72254.29906430724.\n",
      "[I 2024-09-16 08:19:43,401] Trial 170 finished with value: 72261.50288649078 and parameters: {'lgbm_weight': 0.5979432161467433, 'xgb_weight': 0.4562648752175189, 'xgbrf_weight': 0.47198636092113555, 'cb_weight': 0.615770912882142, 'hgb_weight': 0.020174984154937806}. Best is trial 114 with value: 72254.29906430724.\n",
      "[I 2024-09-16 08:19:43,436] Trial 171 finished with value: 72256.41965422039 and parameters: {'lgbm_weight': 0.12228507459091449, 'xgb_weight': 0.5606651093849888, 'xgbrf_weight': 0.4173064979528727, 'cb_weight': 0.9676768663539809, 'hgb_weight': 0.038909428026883276}. Best is trial 114 with value: 72254.29906430724.\n",
      "[I 2024-09-16 08:19:43,471] Trial 172 finished with value: 72255.68730950674 and parameters: {'lgbm_weight': 0.14560758697339793, 'xgb_weight': 0.5459063640604344, 'xgbrf_weight': 0.6635519941147782, 'cb_weight': 0.6828637503614745, 'hgb_weight': 0.0014258078509530277}. Best is trial 114 with value: 72254.29906430724.\n",
      "[I 2024-09-16 08:19:43,506] Trial 173 finished with value: 72255.60883053059 and parameters: {'lgbm_weight': 0.023914598295816936, 'xgb_weight': 0.5919655906718375, 'xgbrf_weight': 0.7004025886808772, 'cb_weight': 0.9989862386702398, 'hgb_weight': 0.017168392408217884}. Best is trial 114 with value: 72254.29906430724.\n",
      "[I 2024-09-16 08:19:43,540] Trial 174 finished with value: 72254.85963295291 and parameters: {'lgbm_weight': 0.17347473148545986, 'xgb_weight': 0.6151983442735913, 'xgbrf_weight': 0.5261033901693368, 'cb_weight': 0.7747217716900631, 'hgb_weight': 0.058398852867363786}. Best is trial 114 with value: 72254.29906430724.\n",
      "[I 2024-09-16 08:19:43,573] Trial 175 finished with value: 72254.64222784563 and parameters: {'lgbm_weight': 0.11407466381669498, 'xgb_weight': 0.5268826452242567, 'xgbrf_weight': 0.43813794197711187, 'cb_weight': 0.7223183220818999, 'hgb_weight': 0.03337213798305349}. Best is trial 114 with value: 72254.29906430724.\n",
      "[I 2024-09-16 08:19:43,607] Trial 176 finished with value: 72255.01414479876 and parameters: {'lgbm_weight': 0.09172680853813404, 'xgb_weight': 0.4916761776508402, 'xgbrf_weight': 0.5780789699591704, 'cb_weight': 0.6634770449185371, 'hgb_weight': 0.001112856569221762}. Best is trial 114 with value: 72254.29906430724.\n",
      "[I 2024-09-16 08:19:43,644] Trial 177 finished with value: 72254.99968708122 and parameters: {'lgbm_weight': 0.12424380188940148, 'xgb_weight': 0.5716385670042103, 'xgbrf_weight': 0.6069410028472885, 'cb_weight': 0.7577252380286037, 'hgb_weight': 0.039092075106415033}. Best is trial 114 with value: 72254.29906430724.\n",
      "[I 2024-09-16 08:19:43,678] Trial 178 finished with value: 72258.4704620783 and parameters: {'lgbm_weight': 0.07431804431785681, 'xgb_weight': 0.6326029972290029, 'xgbrf_weight': 0.46541898271409204, 'cb_weight': 0.7955364042612596, 'hgb_weight': 0.3276746654475365}. Best is trial 114 with value: 72254.29906430724.\n",
      "[I 2024-09-16 08:19:43,714] Trial 179 finished with value: 72265.29262209298 and parameters: {'lgbm_weight': 0.14777027954472685, 'xgb_weight': 0.5911590145676687, 'xgbrf_weight': 0.5091868054339431, 'cb_weight': 0.9442954415856616, 'hgb_weight': 0.7744153870661528}. Best is trial 114 with value: 72254.29906430724.\n",
      "[I 2024-09-16 08:19:43,750] Trial 180 finished with value: 72255.26561317912 and parameters: {'lgbm_weight': 0.04197173668909323, 'xgb_weight': 0.540784083864429, 'xgbrf_weight': 0.6479161214718765, 'cb_weight': 0.7451308869715486, 'hgb_weight': 0.019378096854267376}. Best is trial 114 with value: 72254.29906430724.\n",
      "[I 2024-09-16 08:19:43,784] Trial 181 finished with value: 72254.3836941764 and parameters: {'lgbm_weight': 0.09304586660983867, 'xgb_weight': 0.6098994294962164, 'xgbrf_weight': 0.5420159524192193, 'cb_weight': 0.7317042311727722, 'hgb_weight': 0.001208796832966773}. Best is trial 114 with value: 72254.29906430724.\n",
      "[I 2024-09-16 08:19:43,819] Trial 182 finished with value: 72254.57683293048 and parameters: {'lgbm_weight': 0.10381398776260942, 'xgb_weight': 0.6143027035875319, 'xgbrf_weight': 0.537719505508057, 'cb_weight': 0.7083292476949986, 'hgb_weight': 0.01739199190912375}. Best is trial 114 with value: 72254.29906430724.\n",
      "[I 2024-09-16 08:19:43,854] Trial 183 finished with value: 72259.5661579638 and parameters: {'lgbm_weight': 0.13316754514653126, 'xgb_weight': 0.5649124871913819, 'xgbrf_weight': 0.5630262971050382, 'cb_weight': 0.4076147415630905, 'hgb_weight': 2.1229685136820646e-05}. Best is trial 114 with value: 72254.29906430724.\n",
      "[I 2024-09-16 08:19:43,888] Trial 184 finished with value: 72254.69938020436 and parameters: {'lgbm_weight': 0.08493181676253732, 'xgb_weight': 0.6035828943615327, 'xgbrf_weight': 0.48622814336987336, 'cb_weight': 0.6910033983457473, 'hgb_weight': 0.040395328333579436}. Best is trial 114 with value: 72254.29906430724.\n",
      "[I 2024-09-16 08:19:43,922] Trial 185 finished with value: 72255.65756051625 and parameters: {'lgbm_weight': 0.16012989519787485, 'xgb_weight': 0.6338478052811851, 'xgbrf_weight': 0.4379824829107804, 'cb_weight': 0.975626057201964, 'hgb_weight': 0.07044055952676215}. Best is trial 114 with value: 72254.29906430724.\n",
      "[I 2024-09-16 08:19:43,957] Trial 186 finished with value: 72255.69862702703 and parameters: {'lgbm_weight': 0.10361246243793518, 'xgb_weight': 0.5754282018197001, 'xgbrf_weight': 0.6272680330771947, 'cb_weight': 0.643536480667621, 'hgb_weight': 0.01940498881676462}. Best is trial 114 with value: 72254.29906430724.\n",
      "[I 2024-09-16 08:19:43,993] Trial 187 finished with value: 72291.90367545398 and parameters: {'lgbm_weight': 0.064913903460719, 'xgb_weight': 0.5197218860776105, 'xgbrf_weight': 0.5148836628930112, 'cb_weight': 0.010389414523079843, 'hgb_weight': 0.0522090626636325}. Best is trial 114 with value: 72254.29906430724.\n",
      "[I 2024-09-16 08:19:44,028] Trial 188 finished with value: 72255.6550259692 and parameters: {'lgbm_weight': 0.12914095241307938, 'xgb_weight': 0.8986313755297273, 'xgbrf_weight': 0.40231816856673036, 'cb_weight': 0.734661208588688, 'hgb_weight': 0.021407406292367585}. Best is trial 114 with value: 72254.29906430724.\n",
      "[I 2024-09-16 08:19:44,063] Trial 189 finished with value: 72254.33471365515 and parameters: {'lgbm_weight': 0.17598989945891083, 'xgb_weight': 0.5942182273915386, 'xgbrf_weight': 0.4929476995459038, 'cb_weight': 0.7658876693217563, 'hgb_weight': 0.0020361403383822134}. Best is trial 114 with value: 72254.29906430724.\n",
      "[I 2024-09-16 08:19:44,098] Trial 190 finished with value: 72254.34291173525 and parameters: {'lgbm_weight': 0.18260362072023373, 'xgb_weight': 0.5865394396692328, 'xgbrf_weight': 0.48324988468398694, 'cb_weight': 0.7677618608605611, 'hgb_weight': 0.0006513859520672692}. Best is trial 114 with value: 72254.29906430724.\n",
      "[I 2024-09-16 08:19:44,133] Trial 191 finished with value: 72254.3313517741 and parameters: {'lgbm_weight': 0.17138819443469483, 'xgb_weight': 0.590715333461847, 'xgbrf_weight': 0.49735120037762887, 'cb_weight': 0.7699185150773842, 'hgb_weight': 0.0017231988249290005}. Best is trial 114 with value: 72254.29906430724.\n",
      "[I 2024-09-16 08:19:44,168] Trial 192 finished with value: 72254.30680110602 and parameters: {'lgbm_weight': 0.17545186304523244, 'xgb_weight': 0.6211422406462994, 'xgbrf_weight': 0.49716585604649716, 'cb_weight': 0.7725684983983979, 'hgb_weight': 0.0014020281846230302}. Best is trial 114 with value: 72254.29906430724.\n",
      "[I 2024-09-16 08:19:44,204] Trial 193 finished with value: 72254.34144674742 and parameters: {'lgbm_weight': 0.18862614988925144, 'xgb_weight': 0.619888958823399, 'xgbrf_weight': 0.4883711183535657, 'cb_weight': 0.7709135745944997, 'hgb_weight': 0.002337053601981597}. Best is trial 114 with value: 72254.29906430724.\n",
      "[I 2024-09-16 08:19:44,239] Trial 194 finished with value: 72254.49760141397 and parameters: {'lgbm_weight': 0.18669209425116548, 'xgb_weight': 0.6080534630687092, 'xgbrf_weight': 0.4943122921412995, 'cb_weight': 0.7746688791509704, 'hgb_weight': 0.021240815727085673}. Best is trial 114 with value: 72254.29906430724.\n",
      "[I 2024-09-16 08:19:44,274] Trial 195 finished with value: 72254.48527887347 and parameters: {'lgbm_weight': 0.19142357275672173, 'xgb_weight': 0.6096394671191954, 'xgbrf_weight': 0.498277457167276, 'cb_weight': 0.8027582695231862, 'hgb_weight': 0.01951099747517691}. Best is trial 114 with value: 72254.29906430724.\n",
      "[I 2024-09-16 08:19:44,308] Trial 196 finished with value: 72254.5389555007 and parameters: {'lgbm_weight': 0.197344580562063, 'xgb_weight': 0.6111391602618228, 'xgbrf_weight': 0.4867736622925977, 'cb_weight': 0.800032419788108, 'hgb_weight': 0.025093996179817824}. Best is trial 114 with value: 72254.29906430724.\n",
      "[I 2024-09-16 08:19:44,342] Trial 197 finished with value: 72254.586558124 and parameters: {'lgbm_weight': 0.17873146360669073, 'xgb_weight': 0.5893841846610701, 'xgbrf_weight': 0.4970032322119703, 'cb_weight': 0.7871893735687397, 'hgb_weight': 0.0317382327006653}. Best is trial 114 with value: 72254.29906430724.\n",
      "[I 2024-09-16 08:19:44,376] Trial 198 finished with value: 72254.79187507651 and parameters: {'lgbm_weight': 0.18647132950456768, 'xgb_weight': 0.6086322071665448, 'xgbrf_weight': 0.46272738783279654, 'cb_weight': 0.7551305460425722, 'hgb_weight': 0.053133780166789955}. Best is trial 114 with value: 72254.29906430724.\n",
      "[I 2024-09-16 08:19:44,411] Trial 199 finished with value: 72254.6453411751 and parameters: {'lgbm_weight': 0.208378057010159, 'xgb_weight': 0.5633056217974538, 'xgbrf_weight': 0.5174046552923189, 'cb_weight': 0.767111434497087, 'hgb_weight': 0.016053339785527712}. Best is trial 114 with value: 72254.29906430724.\n",
      "[I 2024-09-16 08:19:44,446] Trial 200 finished with value: 72254.41412332006 and parameters: {'lgbm_weight': 0.22289803049152412, 'xgb_weight': 0.6246389380894801, 'xgbrf_weight': 0.4976762475844582, 'cb_weight': 0.8108407246833051, 'hgb_weight': 0.0003476891944557245}. Best is trial 114 with value: 72254.29906430724.\n",
      "[I 2024-09-16 08:19:44,481] Trial 201 finished with value: 72259.76223255179 and parameters: {'lgbm_weight': 0.1755876040444976, 'xgb_weight': 0.6430863004863099, 'xgbrf_weight': 0.47819944171606055, 'cb_weight': 0.8063536071335342, 'hgb_weight': 0.40962944590405004}. Best is trial 114 with value: 72254.29906430724.\n",
      "[I 2024-09-16 08:19:44,516] Trial 202 finished with value: 72254.68582226052 and parameters: {'lgbm_weight': 0.24333113298829379, 'xgb_weight': 0.6196576700789275, 'xgbrf_weight': 0.49900344837810573, 'cb_weight': 0.7867552143115688, 'hgb_weight': 0.0193119484290162}. Best is trial 114 with value: 72254.29906430724.\n",
      "[I 2024-09-16 08:19:44,551] Trial 203 finished with value: 72254.8029177432 and parameters: {'lgbm_weight': 0.22134547755839112, 'xgb_weight': 0.5884841051335605, 'xgbrf_weight': 0.4587622443563767, 'cb_weight': 0.7436148385226878, 'hgb_weight': 0.03763133009453021}. Best is trial 114 with value: 72254.29906430724.\n",
      "[I 2024-09-16 08:19:44,586] Trial 204 finished with value: 72254.31996077961 and parameters: {'lgbm_weight': 0.1892345880204641, 'xgb_weight': 0.6570135361647593, 'xgbrf_weight': 0.5204327060828515, 'cb_weight': 0.8138120331670231, 'hgb_weight': 0.0024968567907456087}. Best is trial 114 with value: 72254.29906430724.\n",
      "[I 2024-09-16 08:19:44,621] Trial 205 finished with value: 72254.51364876598 and parameters: {'lgbm_weight': 0.22188824450115843, 'xgb_weight': 0.6648852118977578, 'xgbrf_weight': 0.5254137569810109, 'cb_weight': 0.8255204387394821, 'hgb_weight': 0.016955976450105437}. Best is trial 114 with value: 72254.29906430724.\n",
      "[I 2024-09-16 08:19:44,657] Trial 206 finished with value: 72254.59703723395 and parameters: {'lgbm_weight': 0.18359515417218472, 'xgb_weight': 0.6410929868048753, 'xgbrf_weight': 0.5043281896402462, 'cb_weight': 0.8135318465829453, 'hgb_weight': 0.03920204998176729}. Best is trial 114 with value: 72254.29906430724.\n",
      "[I 2024-09-16 08:19:44,693] Trial 207 finished with value: 72254.35065130479 and parameters: {'lgbm_weight': 0.162018081059984, 'xgb_weight': 0.577481934980421, 'xgbrf_weight': 0.47918168055359006, 'cb_weight': 0.7790721072495486, 'hgb_weight': 0.0021342228288321824}. Best is trial 114 with value: 72254.29906430724.\n",
      "[I 2024-09-16 08:19:44,728] Trial 208 finished with value: 72254.35538764134 and parameters: {'lgbm_weight': 0.15988230862779867, 'xgb_weight': 0.575642007739924, 'xgbrf_weight': 0.4763812613345182, 'cb_weight': 0.7848465742563987, 'hgb_weight': 0.0002239864717037826}. Best is trial 114 with value: 72254.29906430724.\n",
      "[I 2024-09-16 08:19:44,764] Trial 209 finished with value: 72254.42917867396 and parameters: {'lgbm_weight': 0.16472590464053513, 'xgb_weight': 0.5517706107454754, 'xgbrf_weight': 0.47410936510731905, 'cb_weight': 0.7845583971713892, 'hgb_weight': 0.00041631879463724375}. Best is trial 114 with value: 72254.29906430724.\n",
      "[I 2024-09-16 08:19:44,799] Trial 210 finished with value: 72254.3851573978 and parameters: {'lgbm_weight': 0.16158991725438393, 'xgb_weight': 0.5569686584449713, 'xgbrf_weight': 0.4746630247867082, 'cb_weight': 0.7753318493736244, 'hgb_weight': 0.00020556358061445622}. Best is trial 114 with value: 72254.29906430724.\n",
      "[I 2024-09-16 08:19:44,836] Trial 211 finished with value: 72254.37921482211 and parameters: {'lgbm_weight': 0.15264276536284033, 'xgb_weight': 0.5573268690040415, 'xgbrf_weight': 0.48195551125548186, 'cb_weight': 0.7766091642234322, 'hgb_weight': 2.8867061518244837e-05}. Best is trial 114 with value: 72254.29906430724.\n",
      "[I 2024-09-16 08:19:44,871] Trial 212 finished with value: 72254.43167041776 and parameters: {'lgbm_weight': 0.16205134370175625, 'xgb_weight': 0.5473914085150141, 'xgbrf_weight': 0.4719304811087352, 'cb_weight': 0.7802403376716457, 'hgb_weight': 0.0002287629329110941}. Best is trial 114 with value: 72254.29906430724.\n",
      "[I 2024-09-16 08:19:44,906] Trial 213 finished with value: 72254.66391068509 and parameters: {'lgbm_weight': 0.15987037828564793, 'xgb_weight': 0.5564430350570221, 'xgbrf_weight': 0.47164954515018764, 'cb_weight': 0.7818486518823738, 'hgb_weight': 0.03606184582526229}. Best is trial 114 with value: 72254.29906430724.\n",
      "[I 2024-09-16 08:19:44,941] Trial 214 finished with value: 72254.56915921145 and parameters: {'lgbm_weight': 0.15566791284273943, 'xgb_weight': 0.5686102501311708, 'xgbrf_weight': 0.46721021198105056, 'cb_weight': 0.8303214584702918, 'hgb_weight': 0.00046757142364037795}. Best is trial 114 with value: 72254.29906430724.\n",
      "[I 2024-09-16 08:19:44,976] Trial 215 finished with value: 72254.55569638438 and parameters: {'lgbm_weight': 0.16794994835563093, 'xgb_weight': 0.549991500417726, 'xgbrf_weight': 0.4823348149367219, 'cb_weight': 0.7626472650418868, 'hgb_weight': 0.02285339438700546}. Best is trial 114 with value: 72254.29906430724.\n",
      "[I 2024-09-16 08:19:45,012] Trial 216 finished with value: 72254.7243123602 and parameters: {'lgbm_weight': 0.16797120873481386, 'xgb_weight': 0.5785656277809301, 'xgbrf_weight': 0.4811666840524965, 'cb_weight': 0.7813522905175173, 'hgb_weight': 0.04839894005982795}. Best is trial 114 with value: 72254.29906430724.\n",
      "[I 2024-09-16 08:19:45,049] Trial 217 finished with value: 72254.52301114044 and parameters: {'lgbm_weight': 0.15121364913209406, 'xgb_weight': 0.5771098713880862, 'xgbrf_weight': 0.538358854294563, 'cb_weight': 0.8093946690500857, 'hgb_weight': 0.017874723728563774}. Best is trial 114 with value: 72254.29906430724.\n",
      "[I 2024-09-16 08:19:45,085] Trial 218 finished with value: 72254.64294789126 and parameters: {'lgbm_weight': 0.218300925037406, 'xgb_weight': 0.5512046360002064, 'xgbrf_weight': 0.4516817388112282, 'cb_weight': 0.757885151325917, 'hgb_weight': 0.017850345063206676}. Best is trial 114 with value: 72254.29906430724.\n",
      "[I 2024-09-16 08:19:45,121] Trial 219 finished with value: 72254.65695862263 and parameters: {'lgbm_weight': 0.19472416160498074, 'xgb_weight': 0.5138466881912005, 'xgbrf_weight': 0.5128939523476692, 'cb_weight': 0.7955063918114509, 'hgb_weight': 0.001663525386411994}. Best is trial 114 with value: 72254.29906430724.\n",
      "[I 2024-09-16 08:19:45,157] Trial 220 finished with value: 72254.80507035092 and parameters: {'lgbm_weight': 0.15022953665222433, 'xgb_weight': 0.5870101860437827, 'xgbrf_weight': 0.4511611299586307, 'cb_weight': 0.7711398853434605, 'hgb_weight': 0.05942917810424921}. Best is trial 114 with value: 72254.29906430724.\n",
      "[I 2024-09-16 08:19:45,192] Trial 221 finished with value: 72254.57208287907 and parameters: {'lgbm_weight': 0.1724500406582205, 'xgb_weight': 0.5533731976946037, 'xgbrf_weight': 0.5107220677643884, 'cb_weight': 0.740846538805077, 'hgb_weight': 0.017856121491147924}. Best is trial 114 with value: 72254.29906430724.\n",
      "[I 2024-09-16 08:19:45,229] Trial 222 finished with value: 72254.51227763189 and parameters: {'lgbm_weight': 0.14137011097770777, 'xgb_weight': 0.5265355982406679, 'xgbrf_weight': 0.5276784403044876, 'cb_weight': 0.7285098252783268, 'hgb_weight': 0.003296098133742757}. Best is trial 114 with value: 72254.29906430724.\n",
      "[I 2024-09-16 08:19:45,263] Trial 223 finished with value: 72255.14975682483 and parameters: {'lgbm_weight': 0.26686649841579047, 'xgb_weight': 0.5390902687861829, 'xgbrf_weight': 0.4878664055740744, 'cb_weight': 0.7527998498532247, 'hgb_weight': 0.034955752569198695}. Best is trial 114 with value: 72254.29906430724.\n",
      "[I 2024-09-16 08:19:45,298] Trial 224 finished with value: 72254.65532473747 and parameters: {'lgbm_weight': 0.1884860536681017, 'xgb_weight': 0.5014579711116198, 'xgbrf_weight': 0.4683515314091284, 'cb_weight': 0.7808261736472747, 'hgb_weight': 0.00029656012593370744}. Best is trial 114 with value: 72254.29906430724.\n",
      "[I 2024-09-16 08:19:45,334] Trial 225 finished with value: 72254.39538608039 and parameters: {'lgbm_weight': 0.16332410473604617, 'xgb_weight': 0.5743676631266633, 'xgbrf_weight': 0.5100962915553202, 'cb_weight': 0.7233133905406541, 'hgb_weight': 0.0005625620181132056}. Best is trial 114 with value: 72254.29906430724.\n",
      "[I 2024-09-16 08:19:45,370] Trial 226 finished with value: 72254.70539251428 and parameters: {'lgbm_weight': 0.2046664588651541, 'xgb_weight': 0.5700569508174081, 'xgbrf_weight': 0.49883821969666375, 'cb_weight': 0.7579452553607456, 'hgb_weight': 0.029400776496876432}. Best is trial 114 with value: 72254.29906430724.\n",
      "[I 2024-09-16 08:19:45,405] Trial 227 finished with value: 72264.14347639623 and parameters: {'lgbm_weight': 0.16887059324289636, 'xgb_weight': 0.5913238555523519, 'xgbrf_weight': 0.48045050128907885, 'cb_weight': 0.7194743178725869, 'hgb_weight': 0.5760360207456199}. Best is trial 114 with value: 72254.29906430724.\n",
      "[I 2024-09-16 08:19:45,441] Trial 228 finished with value: 72254.65311428392 and parameters: {'lgbm_weight': 0.14852053752572558, 'xgb_weight': 0.593592029574674, 'xgbrf_weight': 0.5298607937442126, 'cb_weight': 0.8174579402938805, 'hgb_weight': 0.040537132701566586}. Best is trial 114 with value: 72254.29906430724.\n",
      "[I 2024-09-16 08:19:45,477] Trial 229 finished with value: 72254.46429781201 and parameters: {'lgbm_weight': 0.17288850380765433, 'xgb_weight': 0.5712338031018491, 'xgbrf_weight': 0.5507462312877873, 'cb_weight': 0.7881232449011188, 'hgb_weight': 0.0010986587300969406}. Best is trial 114 with value: 72254.29906430724.\n",
      "[I 2024-09-16 08:19:45,512] Trial 230 finished with value: 72254.46979345632 and parameters: {'lgbm_weight': 0.17476056862881958, 'xgb_weight': 0.5681063858982903, 'xgbrf_weight': 0.5511499878483844, 'cb_weight': 0.7908076066276569, 'hgb_weight': 0.00016417306236934308}. Best is trial 114 with value: 72254.29906430724.\n",
      "[I 2024-09-16 08:19:45,547] Trial 231 finished with value: 72254.55985135055 and parameters: {'lgbm_weight': 0.1592915195415517, 'xgb_weight': 0.5545986911412941, 'xgbrf_weight': 0.5084242792816559, 'cb_weight': 0.7690584451604205, 'hgb_weight': 0.022536325686708467}. Best is trial 114 with value: 72254.29906430724.\n",
      "[I 2024-09-16 08:19:45,582] Trial 232 finished with value: 72254.26194550845 and parameters: {'lgbm_weight': 0.13721162474495296, 'xgb_weight': 0.594888658818957, 'xgbrf_weight': 0.46362197554206114, 'cb_weight': 0.7430489485053281, 'hgb_weight': 0.0005429348900695403}. Best is trial 232 with value: 72254.26194550845.\n",
      "[I 2024-09-16 08:19:45,619] Trial 233 finished with value: 72271.00306285205 and parameters: {'lgbm_weight': 0.19992331430590693, 'xgb_weight': 0.5943010007917449, 'xgbrf_weight': 0.4546507571929018, 'cb_weight': 0.8382815541102733, 'hgb_weight': 0.9983320854480355}. Best is trial 232 with value: 72254.26194550845.\n",
      "[I 2024-09-16 08:19:45,657] Trial 234 finished with value: 72254.43217660268 and parameters: {'lgbm_weight': 0.1447351984980839, 'xgb_weight': 0.5758828803530854, 'xgbrf_weight': 0.47322795131164536, 'cb_weight': 0.7391195676439672, 'hgb_weight': 0.019548142443797118}. Best is trial 232 with value: 72254.26194550845.\n",
      "[I 2024-09-16 08:19:45,694] Trial 235 finished with value: 72254.42660095805 and parameters: {'lgbm_weight': 0.1406905510560248, 'xgb_weight': 0.5984304556035269, 'xgbrf_weight': 0.4714110984596064, 'cb_weight': 0.7375413932073063, 'hgb_weight': 0.021378837091499892}. Best is trial 232 with value: 72254.26194550845.\n",
      "[I 2024-09-16 08:19:45,731] Trial 236 finished with value: 72254.6115014303 and parameters: {'lgbm_weight': 0.13542160695736719, 'xgb_weight': 0.6183831333041783, 'xgbrf_weight': 0.4881547872447227, 'cb_weight': 0.7178673564396839, 'hgb_weight': 0.03548991699933819}. Best is trial 232 with value: 72254.26194550845.\n",
      "[I 2024-09-16 08:19:45,767] Trial 237 finished with value: 72254.42827260114 and parameters: {'lgbm_weight': 0.15829955688467887, 'xgb_weight': 0.5966771632274711, 'xgbrf_weight': 0.4521112179670624, 'cb_weight': 0.7408882326291314, 'hgb_weight': 0.019347775189454172}. Best is trial 232 with value: 72254.26194550845.\n",
      "[I 2024-09-16 08:19:45,803] Trial 238 finished with value: 72263.12851986845 and parameters: {'lgbm_weight': 0.13209400431766272, 'xgb_weight': 0.6009921507746911, 'xgbrf_weight': 0.4469355078442281, 'cb_weight': 0.29831220946651743, 'hgb_weight': 0.04848087172984099}. Best is trial 232 with value: 72254.26194550845.\n",
      "[I 2024-09-16 08:19:45,840] Trial 239 finished with value: 72254.56539618093 and parameters: {'lgbm_weight': 0.18883730955419836, 'xgb_weight': 0.6360766594796416, 'xgbrf_weight': 0.45519426444505967, 'cb_weight': 0.7329945399936186, 'hgb_weight': 0.023174652937426547}. Best is trial 232 with value: 72254.26194550845.\n",
      "[I 2024-09-16 08:19:45,878] Trial 240 finished with value: 72254.74199980895 and parameters: {'lgbm_weight': 0.22745736072400483, 'xgb_weight': 0.6228494924905016, 'xgbrf_weight': 0.4960722677399849, 'cb_weight': 0.7453532063936207, 'hgb_weight': 0.021477499985569463}. Best is trial 232 with value: 72254.26194550845.\n",
      "[I 2024-09-16 08:19:45,914] Trial 241 finished with value: 72256.21865264083 and parameters: {'lgbm_weight': 0.16144222957669635, 'xgb_weight': 0.3353733183241161, 'xgbrf_weight': 0.46459730460698606, 'cb_weight': 0.769146706838429, 'hgb_weight': 0.0015654767668387493}. Best is trial 232 with value: 72254.26194550845.\n",
      "[I 2024-09-16 08:19:45,952] Trial 242 finished with value: 72254.45304958911 and parameters: {'lgbm_weight': 0.1518867647630583, 'xgb_weight': 0.5964689223643949, 'xgbrf_weight': 0.47744530270003815, 'cb_weight': 0.7118650417251129, 'hgb_weight': 0.01769814809854272}. Best is trial 232 with value: 72254.26194550845.\n",
      "[I 2024-09-16 08:19:45,996] Trial 243 finished with value: 72254.46138426465 and parameters: {'lgbm_weight': 0.17479135937891613, 'xgb_weight': 0.5844013475428799, 'xgbrf_weight': 0.4408709953583285, 'cb_weight': 0.749148480563525, 'hgb_weight': 0.01775846953363684}. Best is trial 232 with value: 72254.26194550845.\n",
      "[I 2024-09-16 08:19:46,037] Trial 244 finished with value: 72254.26448182431 and parameters: {'lgbm_weight': 0.13558642910932658, 'xgb_weight': 0.6580736261517784, 'xgbrf_weight': 0.4917401280796086, 'cb_weight': 0.8005248308379191, 'hgb_weight': 0.0007725021497801468}. Best is trial 232 with value: 72254.26194550845.\n",
      "[I 2024-09-16 08:19:46,077] Trial 245 finished with value: 72254.53285311305 and parameters: {'lgbm_weight': 0.13278078643566396, 'xgb_weight': 0.6593951999290456, 'xgbrf_weight': 0.4986486864451263, 'cb_weight': 0.8048995477570983, 'hgb_weight': 0.03701832000092066}. Best is trial 232 with value: 72254.26194550845.\n",
      "[I 2024-09-16 08:19:46,116] Trial 246 finished with value: 72254.41095221942 and parameters: {'lgbm_weight': 0.12838444052949738, 'xgb_weight': 0.6244201624859768, 'xgbrf_weight': 0.4888062514875869, 'cb_weight': 0.7237408806908308, 'hgb_weight': 0.01634601088229991}. Best is trial 232 with value: 72254.26194550845.\n",
      "[I 2024-09-16 08:19:46,160] Trial 247 finished with value: 72254.71997482283 and parameters: {'lgbm_weight': 0.12618015756117745, 'xgb_weight': 0.6527715155492241, 'xgbrf_weight': 0.5054144322949368, 'cb_weight': 0.7202382066108304, 'hgb_weight': 0.04030390653249556}. Best is trial 232 with value: 72254.26194550845.\n",
      "[I 2024-09-16 08:19:46,207] Trial 248 finished with value: 72254.4151478971 and parameters: {'lgbm_weight': 0.13917480619588407, 'xgb_weight': 0.6261109960348872, 'xgbrf_weight': 0.4897097694888828, 'cb_weight': 0.7424561292502171, 'hgb_weight': 0.019054394346353608}. Best is trial 232 with value: 72254.26194550845.\n",
      "[I 2024-09-16 08:19:46,255] Trial 249 finished with value: 72255.06641461271 and parameters: {'lgbm_weight': 0.11295731541449103, 'xgb_weight': 0.6837870834865618, 'xgbrf_weight': 0.5177527234442811, 'cb_weight': 0.7091186386121759, 'hgb_weight': 0.059364955176188255}. Best is trial 232 with value: 72254.26194550845.\n",
      "[I 2024-09-16 08:19:46,297] Trial 250 finished with value: 72254.51948237378 and parameters: {'lgbm_weight': 0.13438893913967762, 'xgb_weight': 0.6278643941959389, 'xgbrf_weight': 0.4933029301001178, 'cb_weight': 0.7588742124044654, 'hgb_weight': 0.03307593043074028}. Best is trial 232 with value: 72254.26194550845.\n",
      "[I 2024-09-16 08:19:46,341] Trial 251 finished with value: 72254.74189794881 and parameters: {'lgbm_weight': 0.19577160941247485, 'xgb_weight': 0.6255890840084455, 'xgbrf_weight': 0.5310675739063404, 'cb_weight': 0.7288830339062733, 'hgb_weight': 0.01866733836639649}. Best is trial 232 with value: 72254.26194550845.\n",
      "[I 2024-09-16 08:19:46,382] Trial 252 finished with value: 72259.09166493632 and parameters: {'lgbm_weight': 0.3883767837258413, 'xgb_weight': 0.664559613977723, 'xgbrf_weight': 0.4874804064525605, 'cb_weight': 0.7623246402810884, 'hgb_weight': 0.2730168690930124}. Best is trial 232 with value: 72254.26194550845.\n",
      "[I 2024-09-16 08:19:46,422] Trial 253 finished with value: 72257.2994368382 and parameters: {'lgbm_weight': 0.48837157471533266, 'xgb_weight': 0.646542639842951, 'xgbrf_weight': 0.513402885037942, 'cb_weight': 0.7385866117748238, 'hgb_weight': 0.00045974863507771194}. Best is trial 232 with value: 72254.26194550845.\n",
      "[I 2024-09-16 08:19:46,465] Trial 254 finished with value: 72254.7384641756 and parameters: {'lgbm_weight': 0.12164773965360695, 'xgb_weight': 0.6056331006371557, 'xgbrf_weight': 0.48538690271193746, 'cb_weight': 0.8031309089836408, 'hgb_weight': 0.053118591799944395}. Best is trial 232 with value: 72254.26194550845.\n",
      "[I 2024-09-16 08:19:46,509] Trial 255 finished with value: 72254.50272982962 and parameters: {'lgbm_weight': 0.1446465537818174, 'xgb_weight': 0.6346320369892978, 'xgbrf_weight': 0.46235859586204026, 'cb_weight': 0.7015289666921493, 'hgb_weight': 0.019917505782378695}. Best is trial 232 with value: 72254.26194550845.\n",
      "[I 2024-09-16 08:19:46,548] Trial 256 finished with value: 72254.61982537241 and parameters: {'lgbm_weight': 0.18146231688400005, 'xgb_weight': 0.6177310303816383, 'xgbrf_weight': 0.5020449107051221, 'cb_weight': 0.8222894241090878, 'hgb_weight': 0.03943680668123449}. Best is trial 232 with value: 72254.26194550845.\n",
      "[I 2024-09-16 08:19:46,584] Trial 257 finished with value: 72254.46320976828 and parameters: {'lgbm_weight': 0.11284701540987264, 'xgb_weight': 0.6010622021997335, 'xgbrf_weight': 0.533630567015534, 'cb_weight': 0.7522593891620803, 'hgb_weight': 0.01767354772447946}. Best is trial 232 with value: 72254.26194550845.\n",
      "[I 2024-09-16 08:19:46,622] Trial 258 finished with value: 72254.39864335825 and parameters: {'lgbm_weight': 0.1430044894998819, 'xgb_weight': 0.6731161236385075, 'xgbrf_weight': 0.4198820297203374, 'cb_weight': 0.7733676114230369, 'hgb_weight': 2.0141012706288437e-05}. Best is trial 232 with value: 72254.26194550845.\n",
      "[I 2024-09-16 08:19:46,660] Trial 259 finished with value: 72254.48384848016 and parameters: {'lgbm_weight': 0.2081444117523966, 'xgb_weight': 0.6767506217195083, 'xgbrf_weight': 0.41676794471096656, 'cb_weight': 0.7726745231466939, 'hgb_weight': 0.002220851822888725}. Best is trial 232 with value: 72254.26194550845.\n",
      "[I 2024-09-16 08:19:46,698] Trial 260 finished with value: 72254.70757275546 and parameters: {'lgbm_weight': 0.09771356593733581, 'xgb_weight': 0.6545231703339515, 'xgbrf_weight': 0.4399868046596952, 'cb_weight': 0.7942676488206623, 'hgb_weight': 0.035786492727907786}. Best is trial 232 with value: 72254.26194550845.\n",
      "[I 2024-09-16 08:19:46,738] Trial 261 finished with value: 72254.43933290368 and parameters: {'lgbm_weight': 0.14808130207979506, 'xgb_weight': 0.6965658435129166, 'xgbrf_weight': 0.41690051753327645, 'cb_weight': 0.7731381321870864, 'hgb_weight': 0.0007386068319429823}. Best is trial 232 with value: 72254.26194550845.\n",
      "[I 2024-09-16 08:19:46,781] Trial 262 finished with value: 72254.45844598212 and parameters: {'lgbm_weight': 0.18669479588856577, 'xgb_weight': 0.638994602507531, 'xgbrf_weight': 0.5129938532523571, 'cb_weight': 0.8441938657730076, 'hgb_weight': 0.019914252775595505}. Best is trial 232 with value: 72254.26194550845.\n",
      "[I 2024-09-16 08:19:46,824] Trial 263 finished with value: 72257.48889179436 and parameters: {'lgbm_weight': 0.12234698193198704, 'xgb_weight': 0.6710604923959228, 'xgbrf_weight': 0.17454397358967277, 'cb_weight': 0.7153258132672858, 'hgb_weight': 0.05618526520183376}. Best is trial 232 with value: 72254.26194550845.\n",
      "[I 2024-09-16 08:19:46,867] Trial 264 finished with value: 72255.479141036 and parameters: {'lgbm_weight': 0.17762940838349114, 'xgb_weight': 0.9709623092872126, 'xgbrf_weight': 0.4898235004235906, 'cb_weight': 0.8182089687755205, 'hgb_weight': 0.03488035759890341}. Best is trial 232 with value: 72254.26194550845.\n",
      "[I 2024-09-16 08:19:46,905] Trial 265 finished with value: 72258.42349644199 and parameters: {'lgbm_weight': 0.1393599806066778, 'xgb_weight': 0.6215254828676042, 'xgbrf_weight': 0.9846327100563894, 'cb_weight': 0.7591737920284948, 'hgb_weight': 0.000673724387046534}. Best is trial 232 with value: 72254.26194550845.\n",
      "[I 2024-09-16 08:19:46,944] Trial 266 finished with value: 72254.4504946705 and parameters: {'lgbm_weight': 0.16055938768557088, 'xgb_weight': 0.5776787396603178, 'xgbrf_weight': 0.4391771366482562, 'cb_weight': 0.7907819514331975, 'hgb_weight': 0.0009180072389851195}. Best is trial 232 with value: 72254.26194550845.\n",
      "[I 2024-09-16 08:19:46,985] Trial 267 finished with value: 72254.4462767504 and parameters: {'lgbm_weight': 0.1030989208446063, 'xgb_weight': 0.6432433878354582, 'xgbrf_weight': 0.4679135720824684, 'cb_weight': 0.7665883133573531, 'hgb_weight': 0.0201456138021228}. Best is trial 232 with value: 72254.26194550845.\n",
      "[I 2024-09-16 08:19:47,025] Trial 268 finished with value: 72266.11401455529 and parameters: {'lgbm_weight': 0.21767957984599878, 'xgb_weight': 0.61279231011063, 'xgbrf_weight': 0.53970872979012, 'cb_weight': 0.7267060777484226, 'hgb_weight': 0.6725701825069841}. Best is trial 232 with value: 72254.26194550845.\n",
      "[I 2024-09-16 08:19:47,063] Trial 269 finished with value: 72264.14483651314 and parameters: {'lgbm_weight': 0.8817926101071085, 'xgb_weight': 0.5817149988499477, 'xgbrf_weight': 0.5029159877909962, 'cb_weight': 0.7466393056902417, 'hgb_weight': 0.07318684652016871}. Best is trial 232 with value: 72254.26194550845.\n",
      "[I 2024-09-16 08:19:47,101] Trial 270 finished with value: 72261.05425194843 and parameters: {'lgbm_weight': 0.7728828110049447, 'xgb_weight': 0.655359751588859, 'xgbrf_weight': 0.48229708150190953, 'cb_weight': 0.7924699835663043, 'hgb_weight': 0.04322800344923475}. Best is trial 232 with value: 72254.26194550845.\n",
      "[I 2024-09-16 08:19:47,140] Trial 271 finished with value: 72254.51049349528 and parameters: {'lgbm_weight': 0.1926689997600619, 'xgb_weight': 0.6220210924433914, 'xgbrf_weight': 0.5211337477440791, 'cb_weight': 0.7714597472889643, 'hgb_weight': 0.015532668556047466}. Best is trial 232 with value: 72254.26194550845.\n",
      "[I 2024-09-16 08:19:47,179] Trial 272 finished with value: 72269.77376002261 and parameters: {'lgbm_weight': 0.15256337938915207, 'xgb_weight': 0.5700291319483977, 'xgbrf_weight': 0.44986617605027285, 'cb_weight': 0.8611275313209577, 'hgb_weight': 0.9394125347445275}. Best is trial 232 with value: 72254.26194550845.\n",
      "[I 2024-09-16 08:19:47,218] Trial 273 finished with value: 72254.66594424313 and parameters: {'lgbm_weight': 0.17264987896247475, 'xgb_weight': 0.6029564137658712, 'xgbrf_weight': 0.46660516912851524, 'cb_weight': 0.6950281451655, 'hgb_weight': 0.029150851279909518}. Best is trial 232 with value: 72254.26194550845.\n",
      "[I 2024-09-16 08:19:47,257] Trial 274 finished with value: 72254.39817138769 and parameters: {'lgbm_weight': 0.11896586476970664, 'xgb_weight': 0.6860468950653957, 'xgbrf_weight': 0.49345640488487874, 'cb_weight': 0.8090955252013233, 'hgb_weight': 0.0167670905915497}. Best is trial 232 with value: 72254.26194550845.\n",
      "[I 2024-09-16 08:19:47,298] Trial 275 finished with value: 72254.7361647315 and parameters: {'lgbm_weight': 0.12771141867933183, 'xgb_weight': 0.6898333507820824, 'xgbrf_weight': 0.4943198711525958, 'cb_weight': 0.8311088517652689, 'hgb_weight': 0.05962746664508903}. Best is trial 232 with value: 72254.26194550845.\n",
      "[I 2024-09-16 08:19:47,339] Trial 276 finished with value: 72254.4154923355 and parameters: {'lgbm_weight': 0.15060715987652065, 'xgb_weight': 0.5813543870075095, 'xgbrf_weight': 0.5577662994587221, 'cb_weight': 0.8043351068960326, 'hgb_weight': 0.0002529825520633938}. Best is trial 232 with value: 72254.26194550845.\n",
      "[I 2024-09-16 08:19:47,379] Trial 277 finished with value: 72254.32925473936 and parameters: {'lgbm_weight': 0.1497768671235063, 'xgb_weight': 0.630447105661114, 'xgbrf_weight': 0.5649935327971837, 'cb_weight': 0.8135947367365979, 'hgb_weight': 0.00035865549837443193}. Best is trial 232 with value: 72254.26194550845.\n",
      "[I 2024-09-16 08:19:47,418] Trial 278 finished with value: 72255.26304784864 and parameters: {'lgbm_weight': 0.17713897685823934, 'xgb_weight': 0.9271857102785726, 'xgbrf_weight': 0.565683988785486, 'cb_weight': 0.8179828227591996, 'hgb_weight': 0.03556632792985734}. Best is trial 232 with value: 72254.26194550845.\n",
      "[I 2024-09-16 08:19:47,459] Trial 279 finished with value: 72254.4700791256 and parameters: {'lgbm_weight': 0.20584116382315093, 'xgb_weight': 0.6768273712628836, 'xgbrf_weight': 0.5347987473460966, 'cb_weight': 0.8342718799574159, 'hgb_weight': 0.018680713482362304}. Best is trial 232 with value: 72254.26194550845.\n",
      "[I 2024-09-16 08:19:47,499] Trial 280 finished with value: 72254.88884923985 and parameters: {'lgbm_weight': 0.24318639917706913, 'xgb_weight': 0.6360040589398068, 'xgbrf_weight': 0.5162402662866166, 'cb_weight': 0.8057785651893261, 'hgb_weight': 0.04540721106715632}. Best is trial 232 with value: 72254.26194550845.\n",
      "[I 2024-09-16 08:19:47,537] Trial 281 finished with value: 72254.45612077041 and parameters: {'lgbm_weight': 0.1607114876428532, 'xgb_weight': 0.6486728977059819, 'xgbrf_weight': 0.5250405232199595, 'cb_weight': 0.7838792305932447, 'hgb_weight': 0.021661526260263853}. Best is trial 232 with value: 72254.26194550845.\n",
      "[I 2024-09-16 08:19:47,576] Trial 282 finished with value: 72254.38047324259 and parameters: {'lgbm_weight': 0.13353451192829202, 'xgb_weight': 0.7137382814917789, 'xgbrf_weight': 0.543469354766781, 'cb_weight': 0.856454664779177, 'hgb_weight': 0.01902884869259774}. Best is trial 232 with value: 72254.26194550845.\n",
      "[I 2024-09-16 08:19:47,616] Trial 283 finished with value: 72254.28589021212 and parameters: {'lgbm_weight': 0.11200367519853889, 'xgb_weight': 0.6901341358898615, 'xgbrf_weight': 0.5472467077993526, 'cb_weight': 0.8447429190585578, 'hgb_weight': 0.0009587301101872025}. Best is trial 232 with value: 72254.26194550845.\n",
      "[I 2024-09-16 08:19:47,659] Trial 284 finished with value: 72254.56906773613 and parameters: {'lgbm_weight': 0.10917222880536841, 'xgb_weight': 0.6914197505446743, 'xgbrf_weight': 0.5787070207673057, 'cb_weight': 0.8565291056710118, 'hgb_weight': 0.038806363156227694}. Best is trial 232 with value: 72254.26194550845.\n",
      "[I 2024-09-16 08:19:47,700] Trial 285 finished with value: 72254.28250514001 and parameters: {'lgbm_weight': 0.1233454180898697, 'xgb_weight': 0.7121893128359921, 'xgbrf_weight': 0.5612205365026611, 'cb_weight': 0.819467483716197, 'hgb_weight': 0.0005089900487675321}. Best is trial 232 with value: 72254.26194550845.\n",
      "[I 2024-09-16 08:19:47,738] Trial 286 finished with value: 72254.29557690013 and parameters: {'lgbm_weight': 0.10383115582084039, 'xgb_weight': 0.7126871258555407, 'xgbrf_weight': 0.5565048241385244, 'cb_weight': 0.8534816283581454, 'hgb_weight': 0.0008009071775095544}. Best is trial 232 with value: 72254.26194550845.\n",
      "[I 2024-09-16 08:19:47,778] Trial 287 finished with value: 72254.33589653831 and parameters: {'lgbm_weight': 0.09548926782370043, 'xgb_weight': 0.7337658930058321, 'xgbrf_weight': 0.5420734511686608, 'cb_weight': 0.8655792701588494, 'hgb_weight': 0.00021300693334877995}. Best is trial 232 with value: 72254.26194550845.\n",
      "[I 2024-09-16 08:19:47,816] Trial 288 finished with value: 72254.78411894392 and parameters: {'lgbm_weight': 0.09219291100631645, 'xgb_weight': 0.6762722298617927, 'xgbrf_weight': 0.5843913332639196, 'cb_weight': 0.8639501519983094, 'hgb_weight': 0.0598664698748189}. Best is trial 232 with value: 72254.26194550845.\n",
      "[I 2024-09-16 08:19:47,855] Trial 289 finished with value: 72260.4502679284 and parameters: {'lgbm_weight': 0.10319789420619231, 'xgb_weight': 0.7201190947073222, 'xgbrf_weight': 0.5636390915016114, 'cb_weight': 0.8504086373710097, 'hgb_weight': 0.47519061427099957}. Best is trial 232 with value: 72254.26194550845.\n",
      "[I 2024-09-16 08:19:47,893] Trial 290 finished with value: 72254.51191956228 and parameters: {'lgbm_weight': 0.11238687535787381, 'xgb_weight': 0.703966509570293, 'xgbrf_weight': 0.5511111964873489, 'cb_weight': 0.8809778354987332, 'hgb_weight': 0.03141318043098198}. Best is trial 232 with value: 72254.26194550845.\n",
      "[I 2024-09-16 08:19:47,932] Trial 291 finished with value: 72254.43502988704 and parameters: {'lgbm_weight': 0.09509892238565223, 'xgb_weight': 0.7534041246412312, 'xgbrf_weight': 0.593208870138719, 'cb_weight': 0.8762519138965743, 'hgb_weight': 0.018520033112551213}. Best is trial 232 with value: 72254.26194550845.\n",
      "[I 2024-09-16 08:19:47,971] Trial 292 finished with value: 72254.65233772532 and parameters: {'lgbm_weight': 0.08669688674682152, 'xgb_weight': 0.724126524879757, 'xgbrf_weight': 0.5743000940055478, 'cb_weight': 0.8438908662263269, 'hgb_weight': 0.044763162367356016}. Best is trial 232 with value: 72254.26194550845.\n",
      "[I 2024-09-16 08:19:48,011] Trial 293 finished with value: 72254.38728602539 and parameters: {'lgbm_weight': 0.12232287394146468, 'xgb_weight': 0.7140284395520903, 'xgbrf_weight': 0.5462423184687071, 'cb_weight': 0.8315054321373194, 'hgb_weight': 0.017904668783053954}. Best is trial 232 with value: 72254.26194550845.\n",
      "[I 2024-09-16 08:19:48,052] Trial 294 finished with value: 72254.26631333194 and parameters: {'lgbm_weight': 0.1247168971244433, 'xgb_weight': 0.6951578528834594, 'xgbrf_weight': 0.5587999338442798, 'cb_weight': 0.8337175954743649, 'hgb_weight': 0.0008120088596559564}. Best is trial 232 with value: 72254.26194550845.\n",
      "[I 2024-09-16 08:19:48,091] Trial 295 finished with value: 72254.53931595471 and parameters: {'lgbm_weight': 0.12397758419040349, 'xgb_weight': 0.7426027331450512, 'xgbrf_weight': 0.5806008804114858, 'cb_weight': 0.844985330105003, 'hgb_weight': 0.03342826169578039}. Best is trial 232 with value: 72254.26194550845.\n",
      "[I 2024-09-16 08:19:48,130] Trial 296 finished with value: 72254.80010381085 and parameters: {'lgbm_weight': 0.09625730360066484, 'xgb_weight': 0.7154711587468308, 'xgbrf_weight': 0.5512036601989331, 'cb_weight': 0.874005080240437, 'hgb_weight': 0.06659593603733574}. Best is trial 232 with value: 72254.26194550845.\n",
      "[I 2024-09-16 08:19:48,170] Trial 297 finished with value: 72254.26345329636 and parameters: {'lgbm_weight': 0.12222297567900778, 'xgb_weight': 0.7037726634161345, 'xgbrf_weight': 0.5538798411774274, 'cb_weight': 0.8373030824864476, 'hgb_weight': 0.0006529762444624142}. Best is trial 232 with value: 72254.26194550845.\n",
      "[I 2024-09-16 08:19:48,211] Trial 298 finished with value: 72273.19678154461 and parameters: {'lgbm_weight': 0.07732982085049844, 'xgb_weight': 0.7018625542633671, 'xgbrf_weight': 0.5433959231474853, 'cb_weight': 0.1665069401622601, 'hgb_weight': 0.0013176023185136375}. Best is trial 232 with value: 72254.26194550845.\n",
      "[I 2024-09-16 08:19:48,250] Trial 299 finished with value: 72254.51572875478 and parameters: {'lgbm_weight': 0.13306142302338214, 'xgb_weight': 0.737295486329189, 'xgbrf_weight': 0.6031172997221848, 'cb_weight': 0.8651289374828697, 'hgb_weight': 0.031250505126356486}. Best is trial 232 with value: 72254.26194550845.\n",
      "[I 2024-09-16 08:19:48,289] Trial 300 finished with value: 72254.29393630444 and parameters: {'lgbm_weight': 0.11163872070764677, 'xgb_weight': 0.6821186394022165, 'xgbrf_weight': 0.5699956498129753, 'cb_weight': 0.8305702146370546, 'hgb_weight': 0.0010114363579774809}. Best is trial 232 with value: 72254.26194550845.\n",
      "[I 2024-09-16 08:19:48,328] Trial 301 finished with value: 72254.29176412884 and parameters: {'lgbm_weight': 0.10291582431523356, 'xgb_weight': 0.7050583969316646, 'xgbrf_weight': 0.5667839641566431, 'cb_weight': 0.8321211736757314, 'hgb_weight': 0.00018994934717755067}. Best is trial 232 with value: 72254.26194550845.\n",
      "[I 2024-09-16 08:19:48,367] Trial 302 finished with value: 72254.44100287712 and parameters: {'lgbm_weight': 0.09843748281632693, 'xgb_weight': 0.7208016364536256, 'xgbrf_weight': 0.5505267594555302, 'cb_weight': 0.8370513998177571, 'hgb_weight': 0.020990521012324945}. Best is trial 232 with value: 72254.26194550845.\n",
      "[I 2024-09-16 08:19:48,405] Trial 303 finished with value: 72254.68923747019 and parameters: {'lgbm_weight': 0.11116931605899769, 'xgb_weight': 0.7095118157168159, 'xgbrf_weight': 0.5712337693942345, 'cb_weight': 0.8290354103080435, 'hgb_weight': 0.05113510877080264}. Best is trial 232 with value: 72254.26194550845.\n",
      "[I 2024-09-16 08:19:48,445] Trial 304 finished with value: 72254.29039479575 and parameters: {'lgbm_weight': 0.13389363748025238, 'xgb_weight': 0.7529931833290193, 'xgbrf_weight': 0.5908446403243425, 'cb_weight': 0.856615053967741, 'hgb_weight': 0.0001676405222401844}. Best is trial 232 with value: 72254.26194550845.\n",
      "[I 2024-09-16 08:19:48,483] Trial 305 finished with value: 72254.69085815328 and parameters: {'lgbm_weight': 0.07926634443154192, 'xgb_weight': 0.7418781042956712, 'xgbrf_weight': 0.6101632184526727, 'cb_weight': 0.8232990976727937, 'hgb_weight': 0.034798648638169394}. Best is trial 232 with value: 72254.26194550845.\n",
      "[I 2024-09-16 08:19:48,521] Trial 306 finished with value: 72256.52379607901 and parameters: {'lgbm_weight': 0.5171373398464589, 'xgb_weight': 0.6965469180994274, 'xgbrf_weight': 0.5932124251239064, 'cb_weight': 0.8870672607430439, 'hgb_weight': 0.00034610918113094194}. Best is trial 232 with value: 72254.26194550845.\n",
      "[I 2024-09-16 08:19:48,559] Trial 307 finished with value: 72254.432626631 and parameters: {'lgbm_weight': 0.11679740137156767, 'xgb_weight': 0.7391681645367267, 'xgbrf_weight': 0.5831755021738849, 'cb_weight': 0.84493128918894, 'hgb_weight': 0.01949581355229367}. Best is trial 232 with value: 72254.26194550845.\n",
      "[I 2024-09-16 08:19:48,599] Trial 308 finished with value: 72254.63866649356 and parameters: {'lgbm_weight': 0.14242969017769813, 'xgb_weight': 0.7747364103766572, 'xgbrf_weight': 0.5605780229094504, 'cb_weight': 0.863575799149318, 'hgb_weight': 0.047652115704116996}. Best is trial 232 with value: 72254.26194550845.\n",
      "[I 2024-09-16 08:19:48,637] Trial 309 finished with value: 72254.98188036257 and parameters: {'lgbm_weight': 0.10878973881512506, 'xgb_weight': 0.6970942406400055, 'xgbrf_weight': 0.5675175990270951, 'cb_weight': 0.813331442917883, 'hgb_weight': 0.07937318799677928}. Best is trial 232 with value: 72254.26194550845.\n",
      "[I 2024-09-16 08:19:48,680] Trial 310 finished with value: 72254.2583374437 and parameters: {'lgbm_weight': 0.14306706522956136, 'xgb_weight': 0.7615357654721391, 'xgbrf_weight': 0.5961258204544176, 'cb_weight': 0.8981210844828893, 'hgb_weight': 0.0006535753928735677}. Best is trial 310 with value: 72254.2583374437.\n",
      "[I 2024-09-16 08:19:48,721] Trial 311 finished with value: 72254.47926245727 and parameters: {'lgbm_weight': 0.12942531066396776, 'xgb_weight': 0.7508140987312836, 'xgbrf_weight': 0.5638653630862903, 'cb_weight': 0.8995364974066064, 'hgb_weight': 0.03253447853808403}. Best is trial 310 with value: 72254.2583374437.\n",
      "[I 2024-09-16 08:19:48,761] Trial 312 finished with value: 72254.45231670688 and parameters: {'lgbm_weight': 0.08541081160125907, 'xgb_weight': 0.7641517348361363, 'xgbrf_weight': 0.60188440893489, 'cb_weight': 0.877140723953872, 'hgb_weight': 0.016954350961655172}. Best is trial 310 with value: 72254.2583374437.\n",
      "[I 2024-09-16 08:19:48,807] Trial 313 finished with value: 72256.79542646563 and parameters: {'lgbm_weight': 0.5563555343075892, 'xgb_weight': 0.7878721539267338, 'xgbrf_weight': 0.5879882484553375, 'cb_weight': 0.9111388781445673, 'hgb_weight': 0.016941976956119063}. Best is trial 310 with value: 72254.2583374437.\n",
      "[I 2024-09-16 08:19:48,851] Trial 314 finished with value: 72254.72810647923 and parameters: {'lgbm_weight': 0.10736459171507298, 'xgb_weight': 0.7234757293191864, 'xgbrf_weight': 0.6143352015990358, 'cb_weight': 0.849764455090519, 'hgb_weight': 0.05033698662454926}. Best is trial 310 with value: 72254.2583374437.\n",
      "[I 2024-09-16 08:19:48,894] Trial 315 finished with value: 72254.29296856 and parameters: {'lgbm_weight': 0.13880257537406232, 'xgb_weight': 0.6708431600740903, 'xgbrf_weight': 0.5732456773938209, 'cb_weight': 0.8287592917671704, 'hgb_weight': 0.0008960476505413869}. Best is trial 310 with value: 72254.2583374437.\n",
      "[I 2024-09-16 08:19:48,937] Trial 316 finished with value: 72254.6265512028 and parameters: {'lgbm_weight': 0.14506529388540326, 'xgb_weight': 0.6799021837976045, 'xgbrf_weight': 0.6227916384374158, 'cb_weight': 0.8407159287894356, 'hgb_weight': 0.030385714349175905}. Best is trial 310 with value: 72254.2583374437.\n",
      "[I 2024-09-16 08:19:48,981] Trial 317 finished with value: 72254.38440245543 and parameters: {'lgbm_weight': 0.17643299333165904, 'xgb_weight': 0.6650965324902584, 'xgbrf_weight': 0.5878295407608983, 'cb_weight': 0.8261200452643324, 'hgb_weight': 0.0013403112751200594}. Best is trial 310 with value: 72254.2583374437.\n",
      "[I 2024-09-16 08:19:49,028] Trial 318 finished with value: 72254.26558082529 and parameters: {'lgbm_weight': 0.13565608607475693, 'xgb_weight': 0.6960103824549577, 'xgbrf_weight': 0.557534868203977, 'cb_weight': 0.865489142632983, 'hgb_weight': 0.0007912121380461545}. Best is trial 310 with value: 72254.2583374437.\n",
      "[I 2024-09-16 08:19:49,073] Trial 319 finished with value: 72254.51775162124 and parameters: {'lgbm_weight': 0.1325914689239265, 'xgb_weight': 0.700485756501293, 'xgbrf_weight': 0.5690862003555437, 'cb_weight': 0.8697610230434315, 'hgb_weight': 0.036766313473272666}. Best is trial 310 with value: 72254.2583374437.\n",
      "[I 2024-09-16 08:19:49,118] Trial 320 finished with value: 72254.78678576292 and parameters: {'lgbm_weight': 0.12509797071450818, 'xgb_weight': 0.7269483842473972, 'xgbrf_weight': 0.5990492065038222, 'cb_weight': 0.8920654490541079, 'hgb_weight': 0.06954593981528802}. Best is trial 310 with value: 72254.2583374437.\n",
      "[I 2024-09-16 08:19:49,160] Trial 321 finished with value: 72254.38036281936 and parameters: {'lgbm_weight': 0.14994507850034292, 'xgb_weight': 0.6891381132269716, 'xgbrf_weight': 0.5621142011072541, 'cb_weight': 0.8576562452490522, 'hgb_weight': 0.01802891732788707}. Best is trial 310 with value: 72254.2583374437.\n",
      "[I 2024-09-16 08:19:49,204] Trial 322 finished with value: 72254.54064367725 and parameters: {'lgbm_weight': 0.1913478310901515, 'xgb_weight': 0.7574733549434102, 'xgbrf_weight': 0.5681946303340041, 'cb_weight': 0.830360563216641, 'hgb_weight': 0.017422854713462305}. Best is trial 310 with value: 72254.2583374437.\n",
      "[I 2024-09-16 08:19:49,248] Trial 323 finished with value: 72266.63526704465 and parameters: {'lgbm_weight': 0.11956474447183131, 'xgb_weight': 0.6598035704639015, 'xgbrf_weight': 0.5884665100503205, 'cb_weight': 0.8794920544208406, 'hgb_weight': 0.828179764705111}. Best is trial 310 with value: 72254.2583374437.\n",
      "[I 2024-09-16 08:19:49,288] Trial 324 finished with value: 72254.25311483745 and parameters: {'lgbm_weight': 0.14235582729864008, 'xgb_weight': 0.7018946257218828, 'xgbrf_weight': 0.5406136516658072, 'cb_weight': 0.8541867927758082, 'hgb_weight': 0.0005440079065621436}. Best is trial 324 with value: 72254.25311483745.\n",
      "[I 2024-09-16 08:19:49,331] Trial 325 finished with value: 72256.12506948906 and parameters: {'lgbm_weight': 0.4601091207062037, 'xgb_weight': 0.7042540494946922, 'xgbrf_weight': 0.5382998496377692, 'cb_weight': 0.8991418547557698, 'hgb_weight': 0.05030525690316052}. Best is trial 324 with value: 72254.25311483745.\n",
      "[I 2024-09-16 08:19:49,373] Trial 326 finished with value: 72254.50400951068 and parameters: {'lgbm_weight': 0.13326131848037814, 'xgb_weight': 0.7287256045555603, 'xgbrf_weight': 0.5726786104240852, 'cb_weight': 0.9282056555671738, 'hgb_weight': 0.03294372249812353}. Best is trial 324 with value: 72254.25311483745.\n",
      "[I 2024-09-16 08:19:49,417] Trial 327 finished with value: 72254.44098910003 and parameters: {'lgbm_weight': 0.10377928291094883, 'xgb_weight': 0.6808240388019408, 'xgbrf_weight': 0.5497205355445332, 'cb_weight': 0.8526942626528862, 'hgb_weight': 0.020097237691107297}. Best is trial 324 with value: 72254.25311483745.\n",
      "[I 2024-09-16 08:19:49,460] Trial 328 finished with value: 72254.41899514945 and parameters: {'lgbm_weight': 0.07403451157929462, 'xgb_weight': 0.7068198255356554, 'xgbrf_weight': 0.6274501144872632, 'cb_weight': 0.8682947385888405, 'hgb_weight': 0.0007938976255329244}. Best is trial 324 with value: 72254.25311483745.\n",
      "[I 2024-09-16 08:19:49,505] Trial 329 finished with value: 72258.63754145961 and parameters: {'lgbm_weight': 0.634657451666, 'xgb_weight': 0.6787404115636115, 'xgbrf_weight': 0.5348053885658902, 'cb_weight': 0.8252123166451856, 'hgb_weight': 0.03743306960776027}. Best is trial 324 with value: 72254.25311483745.\n",
      "[I 2024-09-16 08:19:49,548] Trial 330 finished with value: 72256.70687690981 and parameters: {'lgbm_weight': 0.14453018707607782, 'xgb_weight': 0.7396782557775029, 'xgbrf_weight': 0.6081570710016665, 'cb_weight': 0.8454436802822418, 'hgb_weight': 0.22319058433017525}. Best is trial 324 with value: 72254.25311483745.\n",
      "[I 2024-09-16 08:19:49,592] Trial 331 finished with value: 72254.31081145178 and parameters: {'lgbm_weight': 0.11653682359618044, 'xgb_weight': 0.6604686858389447, 'xgbrf_weight': 0.5769494370456427, 'cb_weight': 0.8233402189182395, 'hgb_weight': 0.0002419348498743913}. Best is trial 324 with value: 72254.25311483745.\n",
      "[I 2024-09-16 08:19:49,633] Trial 332 finished with value: 72254.3037668214 and parameters: {'lgbm_weight': 0.11263808058930573, 'xgb_weight': 0.6951753563195765, 'xgbrf_weight': 0.5769822425760661, 'cb_weight': 0.8183284695657093, 'hgb_weight': 0.00029906242646683245}. Best is trial 324 with value: 72254.25311483745.\n",
      "[I 2024-09-16 08:19:49,675] Trial 333 finished with value: 72254.79814789623 and parameters: {'lgbm_weight': 0.10765132454964917, 'xgb_weight': 0.6954670654744807, 'xgbrf_weight': 0.584577315193841, 'cb_weight': 0.818080611513727, 'hgb_weight': 0.05807456490336418}. Best is trial 324 with value: 72254.25311483745.\n",
      "[I 2024-09-16 08:19:49,715] Trial 334 finished with value: 72254.4769641761 and parameters: {'lgbm_weight': 0.08808162672884881, 'xgb_weight': 0.6677760283806794, 'xgbrf_weight': 0.5617038155772288, 'cb_weight': 0.8426939078463124, 'hgb_weight': 0.019478581272791437}. Best is trial 324 with value: 72254.25311483745.\n",
      "[I 2024-09-16 08:19:49,756] Trial 335 finished with value: 72254.50768678446 and parameters: {'lgbm_weight': 0.11422913159820054, 'xgb_weight': 0.7076902622756831, 'xgbrf_weight': 0.5745949291569351, 'cb_weight': 0.8635839428502583, 'hgb_weight': 0.03327869211532146}. Best is trial 324 with value: 72254.25311483745.\n",
      "[I 2024-09-16 08:19:49,795] Trial 336 finished with value: 72254.39242785228 and parameters: {'lgbm_weight': 0.09209909096298563, 'xgb_weight': 0.6849966145407645, 'xgbrf_weight': 0.6002847739508189, 'cb_weight': 0.8896502013309849, 'hgb_weight': 0.0009356978170761795}. Best is trial 324 with value: 72254.25311483745.\n",
      "[I 2024-09-16 08:19:49,834] Trial 337 finished with value: 72254.5559923449 and parameters: {'lgbm_weight': 0.06434909544828356, 'xgb_weight': 0.662955858659964, 'xgbrf_weight': 0.5586505715030227, 'cb_weight': 0.8341032926393847, 'hgb_weight': 0.019930221551315748}. Best is trial 324 with value: 72254.25311483745.\n",
      "[I 2024-09-16 08:19:49,873] Trial 338 finished with value: 72254.73340568405 and parameters: {'lgbm_weight': 0.12565252540736, 'xgb_weight': 0.7282188821235016, 'xgbrf_weight': 0.5824334942649518, 'cb_weight': 0.8126738840765546, 'hgb_weight': 0.04686613249390208}. Best is trial 324 with value: 72254.25311483745.\n",
      "[I 2024-09-16 08:19:49,913] Trial 339 finished with value: 72258.33901868339 and parameters: {'lgbm_weight': 0.10569725914818562, 'xgb_weight': 0.7124865969988217, 'xgbrf_weight': 0.6185909188521941, 'cb_weight': 0.8550603131405976, 'hgb_weight': 0.34190720242145883}. Best is trial 324 with value: 72254.25311483745.\n",
      "[I 2024-09-16 08:19:49,953] Trial 340 finished with value: 72254.45458672995 and parameters: {'lgbm_weight': 0.135099461772794, 'xgb_weight': 0.7670862097491608, 'xgbrf_weight': 0.5460290669355171, 'cb_weight': 0.8264324961793102, 'hgb_weight': 0.017689684477989444}. Best is trial 324 with value: 72254.25311483745.\n",
      "[I 2024-09-16 08:19:49,995] Trial 341 finished with value: 72264.37023828962 and parameters: {'lgbm_weight': 0.11529240028994148, 'xgb_weight': 0.6895591667713897, 'xgbrf_weight': 0.018878846957529505, 'cb_weight': 0.8051262228185078, 'hgb_weight': 3.549474575298395e-05}. Best is trial 324 with value: 72254.25311483745.\n",
      "[I 2024-09-16 08:19:50,035] Trial 342 finished with value: 72255.04745934659 and parameters: {'lgbm_weight': 0.07048399262246838, 'xgb_weight': 0.6624524160107577, 'xgbrf_weight': 0.5963726035183303, 'cb_weight': 0.9097986489024836, 'hgb_weight': 0.07595537986033984}. Best is trial 324 with value: 72254.25311483745.\n",
      "[I 2024-09-16 08:19:50,075] Trial 343 finished with value: 72254.56937793939 and parameters: {'lgbm_weight': 0.14714914917117788, 'xgb_weight': 0.7374300266275619, 'xgbrf_weight': 0.63440944200075, 'cb_weight': 0.8790261538055504, 'hgb_weight': 0.03210233345002998}. Best is trial 324 with value: 72254.25311483745.\n",
      "[I 2024-09-16 08:19:50,115] Trial 344 finished with value: 72254.35941756048 and parameters: {'lgbm_weight': 0.08606619209214794, 'xgb_weight': 0.6889258997926333, 'xgbrf_weight': 0.5360607942973069, 'cb_weight': 0.8437694247088287, 'hgb_weight': 0.0003937433811602263}. Best is trial 324 with value: 72254.25311483745.\n",
      "[I 2024-09-16 08:19:50,155] Trial 345 finished with value: 72254.67728835008 and parameters: {'lgbm_weight': 0.13291038171115654, 'xgb_weight': 0.7108025811400694, 'xgbrf_weight': 0.5726612781401973, 'cb_weight': 0.8206387900340967, 'hgb_weight': 0.0470769845224579}. Best is trial 324 with value: 72254.25311483745.\n",
      "[I 2024-09-16 08:19:50,194] Trial 346 finished with value: 72258.07544725291 and parameters: {'lgbm_weight': 0.11417670676915558, 'xgb_weight': 0.6658136522455479, 'xgbrf_weight': 0.5546249062534374, 'cb_weight': 0.47813563507588674, 'hgb_weight': 0.019829266270450476}. Best is trial 324 with value: 72254.25311483745.\n",
      "[I 2024-09-16 08:19:50,235] Trial 347 finished with value: 72254.42394675734 and parameters: {'lgbm_weight': 0.15227373253733564, 'xgb_weight': 0.7468422846218541, 'xgbrf_weight': 0.5781658891990343, 'cb_weight': 0.8631314699871607, 'hgb_weight': 0.021858016856582143}. Best is trial 324 with value: 72254.25311483745.\n",
      "[I 2024-09-16 08:19:50,278] Trial 348 finished with value: 72254.30588775867 and parameters: {'lgbm_weight': 0.1031527113997145, 'xgb_weight': 0.7228528457184697, 'xgbrf_weight': 0.53102993891592, 'cb_weight': 0.8038708094118812, 'hgb_weight': 0.00010302693897123311}. Best is trial 324 with value: 72254.25311483745.\n",
      "[I 2024-09-16 08:19:50,324] Trial 349 finished with value: 72254.49620397981 and parameters: {'lgbm_weight': 0.12975679054949674, 'xgb_weight': 0.6520851454110601, 'xgbrf_weight': 0.5295435085628207, 'cb_weight': 0.8173802211193025, 'hgb_weight': 0.031991501718368794}. Best is trial 324 with value: 72254.25311483745.\n",
      "[I 2024-09-16 08:19:50,367] Trial 350 finished with value: 72255.12908480229 and parameters: {'lgbm_weight': 0.14839060598293174, 'xgb_weight': 0.6792402913237021, 'xgbrf_weight': 0.6438896686707267, 'cb_weight': 0.8024888267858962, 'hgb_weight': 0.05814450374034446}. Best is trial 324 with value: 72254.25311483745.\n",
      "[I 2024-09-16 08:19:50,410] Trial 351 finished with value: 72254.46443142569 and parameters: {'lgbm_weight': 0.11360919553259227, 'xgb_weight': 0.7028209759295951, 'xgbrf_weight': 0.6061072571421562, 'cb_weight': 0.8340982853386252, 'hgb_weight': 0.01709992630852436}. Best is trial 324 with value: 72254.25311483745.\n",
      "[I 2024-09-16 08:19:50,451] Trial 352 finished with value: 72259.11688078477 and parameters: {'lgbm_weight': 0.16927025666090134, 'xgb_weight': 0.19568934357234868, 'xgbrf_weight': 0.5500963200785061, 'cb_weight': 0.800823284918592, 'hgb_weight': 0.03709512724940622}. Best is trial 324 with value: 72254.25311483745.\n",
      "[I 2024-09-16 08:19:50,492] Trial 353 finished with value: 72254.49891021579 and parameters: {'lgbm_weight': 0.13445662213872223, 'xgb_weight': 0.7970081819282304, 'xgbrf_weight': 0.5653717690651212, 'cb_weight': 0.8437825623625772, 'hgb_weight': 0.019756162453441764}. Best is trial 324 with value: 72254.25311483745.\n",
      "[I 2024-09-16 08:19:50,533] Trial 354 finished with value: 72254.39638720367 and parameters: {'lgbm_weight': 0.09781991974020712, 'xgb_weight': 0.7165932103740243, 'xgbrf_weight': 0.5927333401461992, 'cb_weight': 0.7988845891668784, 'hgb_weight': 0.00027870274245298443}. Best is trial 324 with value: 72254.25311483745.\n",
      "[I 2024-09-16 08:19:50,574] Trial 355 finished with value: 72259.99070012486 and parameters: {'lgbm_weight': 0.1594398772694778, 'xgb_weight': 0.6690630057226247, 'xgbrf_weight': 0.5274845228280599, 'cb_weight': 0.8229309667960574, 'hgb_weight': 0.43237057607285073}. Best is trial 324 with value: 72254.25311483745.\n",
      "[I 2024-09-16 08:19:50,618] Trial 356 finished with value: 72254.65693453945 and parameters: {'lgbm_weight': 0.1183676743909312, 'xgb_weight': 0.6928220638078157, 'xgbrf_weight': 0.5579406838487179, 'cb_weight': 0.8503147471926544, 'hgb_weight': 0.052513142276458376}. Best is trial 324 with value: 72254.25311483745.\n",
      "[I 2024-09-16 08:19:50,659] Trial 357 finished with value: 72254.51616078845 and parameters: {'lgbm_weight': 0.06735986917541423, 'xgb_weight': 0.6498169508813686, 'xgbrf_weight': 0.6169890635317521, 'cb_weight': 0.8024277844712102, 'hgb_weight': 0.0007634031853053812}. Best is trial 324 with value: 72254.25311483745.\n",
      "[I 2024-09-16 08:19:50,702] Trial 358 finished with value: 72254.5698036469 and parameters: {'lgbm_weight': 0.14089273412468215, 'xgb_weight': 0.7199697600124865, 'xgbrf_weight': 0.5755045926641278, 'cb_weight': 0.8269593288373078, 'hgb_weight': 0.03459713098144252}. Best is trial 324 with value: 72254.25311483745.\n",
      "[I 2024-09-16 08:19:50,742] Trial 359 finished with value: 72255.02682108202 and parameters: {'lgbm_weight': 0.16693083528765684, 'xgb_weight': 0.6861344470245322, 'xgbrf_weight': 0.5263184087605678, 'cb_weight': 0.8856575910239078, 'hgb_weight': 0.09602405561949054}. Best is trial 324 with value: 72254.25311483745.\n",
      "[I 2024-09-16 08:19:50,783] Trial 360 finished with value: 72265.12374085246 and parameters: {'lgbm_weight': 0.08716584343313466, 'xgb_weight': 0.7559484087269296, 'xgbrf_weight': 0.5498673198968653, 'cb_weight': 0.8387127108763096, 'hgb_weight': 0.7285085226636538}. Best is trial 324 with value: 72254.25311483745.\n",
      "[I 2024-09-16 08:19:50,825] Trial 361 finished with value: 72254.5435437819 and parameters: {'lgbm_weight': 0.1201002914095583, 'xgb_weight': 0.66346443806543, 'xgbrf_weight': 0.5941467575923589, 'cb_weight': 0.8164939010494854, 'hgb_weight': 0.025507980084943854}. Best is trial 324 with value: 72254.25311483745.\n",
      "[I 2024-09-16 08:19:50,867] Trial 362 finished with value: 72254.36634955343 and parameters: {'lgbm_weight': 0.14681664283818915, 'xgb_weight': 0.697025971392705, 'xgbrf_weight': 0.5348344671612344, 'cb_weight': 0.860420257619889, 'hgb_weight': 0.01677879083601826}. Best is trial 324 with value: 72254.25311483745.\n",
      "[I 2024-09-16 08:19:50,907] Trial 363 finished with value: 72263.60860646548 and parameters: {'lgbm_weight': 0.9574823362520156, 'xgb_weight': 0.7239304734802905, 'xgbrf_weight': 0.5797390139247841, 'cb_weight': 0.7997400602820971, 'hgb_weight': 0.0006536445235827698}. Best is trial 324 with value: 72254.25311483745.\n",
      "[I 2024-09-16 08:19:50,946] Trial 364 finished with value: 72264.27254625526 and parameters: {'lgbm_weight': 0.1024088472944294, 'xgb_weight': 0.0987335515116633, 'xgbrf_weight': 0.5633869647502869, 'cb_weight': 0.9313063950901488, 'hgb_weight': 0.06724712035456397}. Best is trial 324 with value: 72254.25311483745.\n",
      "[I 2024-09-16 08:19:50,986] Trial 365 finished with value: 72254.80032852317 and parameters: {'lgbm_weight': 0.12791162675257192, 'xgb_weight': 0.8422420320385581, 'xgbrf_weight': 0.5311615277978693, 'cb_weight': 0.8454044215833099, 'hgb_weight': 0.043820915119854024}. Best is trial 324 with value: 72254.25311483745.\n",
      "[I 2024-09-16 08:19:51,029] Trial 366 finished with value: 72254.47245327865 and parameters: {'lgbm_weight': 0.17704085153300395, 'xgb_weight': 0.6478735644873528, 'xgbrf_weight': 0.5520499419184736, 'cb_weight': 0.8148372603730759, 'hgb_weight': 0.01973572917746431}. Best is trial 324 with value: 72254.25311483745.\n",
      "[I 2024-09-16 08:19:51,075] Trial 367 finished with value: 72261.19433872451 and parameters: {'lgbm_weight': 0.15718092387522134, 'xgb_weight': 0.7776810242713281, 'xgbrf_weight': 0.6047298478051971, 'cb_weight': 0.8749296399503952, 'hgb_weight': 0.5338358291820272}. Best is trial 324 with value: 72254.25311483745.\n",
      "[I 2024-09-16 08:19:51,120] Trial 368 finished with value: 72254.49276769566 and parameters: {'lgbm_weight': 0.1069899767796126, 'xgb_weight': 0.6754524690353675, 'xgbrf_weight': 0.5783887657901204, 'cb_weight': 0.7936992638287966, 'hgb_weight': 0.019116440550055184}. Best is trial 324 with value: 72254.25311483745.\n",
      "[I 2024-09-16 08:19:51,167] Trial 369 finished with value: 72264.788725427 and parameters: {'lgbm_weight': 0.13757428694131799, 'xgb_weight': 0.703227703348615, 'xgbrf_weight': 0.6560915880229956, 'cb_weight': 0.34698890751094713, 'hgb_weight': 0.03910346057802778}. Best is trial 324 with value: 72254.25311483745.\n",
      "[I 2024-09-16 08:19:51,210] Trial 370 finished with value: 72258.90654947804 and parameters: {'lgbm_weight': 0.07847859784744621, 'xgb_weight': 0.6477485917966721, 'xgbrf_weight': 0.5257782006044874, 'cb_weight': 0.4225520567957416, 'hgb_weight': 0.01996102086920284}. Best is trial 324 with value: 72254.25311483745.\n",
      "[I 2024-09-16 08:19:51,255] Trial 371 finished with value: 72254.32913431728 and parameters: {'lgbm_weight': 0.17051390763668686, 'xgb_weight': 0.6764051637188472, 'xgbrf_weight': 0.5558112917733836, 'cb_weight': 0.9037533297106776, 'hgb_weight': 0.0014785154305526284}. Best is trial 324 with value: 72254.25311483745.\n",
      "[I 2024-09-16 08:19:51,297] Trial 372 finished with value: 72254.60965381641 and parameters: {'lgbm_weight': 0.19905570504529788, 'xgb_weight': 0.7304497066278277, 'xgbrf_weight': 0.5583017514417252, 'cb_weight': 0.9112131621343519, 'hgb_weight': 0.04780068005274928}. Best is trial 324 with value: 72254.25311483745.\n",
      "[I 2024-09-16 08:19:51,340] Trial 373 finished with value: 72255.55892190032 and parameters: {'lgbm_weight': 0.4080013792994496, 'xgb_weight': 0.6821081177346694, 'xgbrf_weight': 0.5863608596623631, 'cb_weight': 0.8907540481660506, 'hgb_weight': 0.014328056076689815}. Best is trial 324 with value: 72254.25311483745.\n",
      "[I 2024-09-16 08:19:51,381] Trial 374 finished with value: 72254.27963913184 and parameters: {'lgbm_weight': 0.17323769924555818, 'xgb_weight': 0.752932220730534, 'xgbrf_weight': 0.6211198694473234, 'cb_weight': 0.9145626098061023, 'hgb_weight': 0.0003888117068775291}. Best is trial 324 with value: 72254.25311483745.\n",
      "[I 2024-09-16 08:19:51,422] Trial 375 finished with value: 72254.45228536813 and parameters: {'lgbm_weight': 0.05836945025815764, 'xgb_weight': 0.763515668526865, 'xgbrf_weight': 0.6341782153935087, 'cb_weight': 0.9234935541852044, 'hgb_weight': 0.0006890816908624294}. Best is trial 324 with value: 72254.25311483745.\n",
      "[I 2024-09-16 08:19:51,464] Trial 376 finished with value: 72254.53830387561 and parameters: {'lgbm_weight': 0.1618394995621367, 'xgb_weight': 0.7500655005494101, 'xgbrf_weight': 0.6179948874522045, 'cb_weight': 0.8877732732468521, 'hgb_weight': 0.03325378368752585}. Best is trial 324 with value: 72254.25311483745.\n",
      "[I 2024-09-16 08:19:51,509] Trial 377 finished with value: 72255.03754943475 and parameters: {'lgbm_weight': 0.12658431636474538, 'xgb_weight': 0.7853508923130689, 'xgbrf_weight': 0.6715930451708073, 'cb_weight': 0.8622620393566984, 'hgb_weight': 0.06426226784172957}. Best is trial 324 with value: 72254.25311483745.\n",
      "[I 2024-09-16 08:19:51,554] Trial 378 finished with value: 72254.462412279 and parameters: {'lgbm_weight': 0.1010812001646591, 'xgb_weight': 0.7163752751434322, 'xgbrf_weight': 0.6346301963084112, 'cb_weight': 0.9141852993011083, 'hgb_weight': 0.01690527336844386}. Best is trial 324 with value: 72254.25311483745.\n",
      "[I 2024-09-16 08:19:51,600] Trial 379 finished with value: 72254.50640346699 and parameters: {'lgbm_weight': 0.1761255441183638, 'xgb_weight': 0.7422711607288215, 'xgbrf_weight': 0.606702847116612, 'cb_weight': 0.9587202219490915, 'hgb_weight': 0.03704440953394345}. Best is trial 324 with value: 72254.25311483745.\n",
      "[I 2024-09-16 08:19:51,647] Trial 380 finished with value: 72255.02638977466 and parameters: {'lgbm_weight': 0.35543116502096833, 'xgb_weight': 0.6907218693159188, 'xgbrf_weight': 0.5992665630713786, 'cb_weight': 0.9054150707828372, 'hgb_weight': 0.0007736069083205146}. Best is trial 324 with value: 72254.25311483745.\n",
      "[I 2024-09-16 08:19:51,691] Trial 381 finished with value: 72254.38652748571 and parameters: {'lgbm_weight': 0.13540578274955656, 'xgb_weight': 0.7059816286802935, 'xgbrf_weight': 0.5736034941287642, 'cb_weight': 0.9448785636572422, 'hgb_weight': 0.0007925246911188497}. Best is trial 324 with value: 72254.25311483745.\n",
      "[I 2024-09-16 08:19:51,734] Trial 382 finished with value: 72254.59145347003 and parameters: {'lgbm_weight': 0.15507982135153708, 'xgb_weight': 0.7271669036995824, 'xgbrf_weight': 0.6532298702831996, 'cb_weight': 0.8920343681742502, 'hgb_weight': 0.030904824403222477}. Best is trial 324 with value: 72254.25311483745.\n",
      "[I 2024-09-16 08:19:51,777] Trial 383 finished with value: 72254.99590650467 and parameters: {'lgbm_weight': 0.08688603353611071, 'xgb_weight': 0.8855679082295632, 'xgbrf_weight': 0.620004529644157, 'cb_weight': 0.9259528458756147, 'hgb_weight': 0.07794069165482084}. Best is trial 324 with value: 72254.25311483745.\n",
      "[I 2024-09-16 08:19:51,819] Trial 384 finished with value: 72254.45007865236 and parameters: {'lgbm_weight': 0.11400793850103175, 'xgb_weight': 0.6736557697506252, 'xgbrf_weight': 0.5532859605682809, 'cb_weight': 0.8750743474919276, 'hgb_weight': 0.018678521386556627}. Best is trial 324 with value: 72254.25311483745.\n",
      "[I 2024-09-16 08:19:51,861] Trial 385 finished with value: 72254.97697219206 and parameters: {'lgbm_weight': 0.18702303902083733, 'xgb_weight': 0.8065416924457982, 'xgbrf_weight': 0.590366875911286, 'cb_weight': 0.8333393641142841, 'hgb_weight': 0.05296356856294115}. Best is trial 324 with value: 72254.25311483745.\n",
      "[I 2024-09-16 08:19:51,904] Trial 386 finished with value: 72254.3763998637 and parameters: {'lgbm_weight': 0.14442692112812655, 'xgb_weight': 0.7034518089578048, 'xgbrf_weight': 0.5719309356611254, 'cb_weight': 0.8537310619811836, 'hgb_weight': 0.016947144216271658}. Best is trial 324 with value: 72254.25311483745.\n",
      "[I 2024-09-16 08:19:51,946] Trial 387 finished with value: 72254.59964775837 and parameters: {'lgbm_weight': 0.11494690435098498, 'xgb_weight': 0.7581075989005087, 'xgbrf_weight': 0.550955737637506, 'cb_weight': 0.9444404734896809, 'hgb_weight': 0.03572236013664354}. Best is trial 324 with value: 72254.25311483745.\n",
      "[I 2024-09-16 08:19:51,988] Trial 388 finished with value: 72254.33217082497 and parameters: {'lgbm_weight': 0.20175395862824966, 'xgb_weight': 0.6581888267062002, 'xgbrf_weight': 0.5381555045658128, 'cb_weight': 0.8372645221008347, 'hgb_weight': 0.00010500100406019694}. Best is trial 324 with value: 72254.25311483745.\n",
      "[I 2024-09-16 08:19:52,031] Trial 389 finished with value: 72254.27939289866 and parameters: {'lgbm_weight': 0.16683939712901194, 'xgb_weight': 0.7273939229945482, 'xgbrf_weight': 0.5869729958783629, 'cb_weight': 0.8686185926135139, 'hgb_weight': 0.0006745717274726248}. Best is trial 324 with value: 72254.25311483745.\n",
      "[I 2024-09-16 08:19:52,074] Trial 390 finished with value: 72254.39579442886 and parameters: {'lgbm_weight': 0.1365995279482227, 'xgb_weight': 0.7326210719778002, 'xgbrf_weight': 0.5998661255413823, 'cb_weight': 0.9010228367140924, 'hgb_weight': 0.020457542117861643}. Best is trial 324 with value: 72254.25311483745.\n",
      "[I 2024-09-16 08:19:52,118] Trial 391 finished with value: 72280.31952590254 and parameters: {'lgbm_weight': 0.09491937477337584, 'xgb_weight': 0.7169849993931096, 'xgbrf_weight': 0.5824886905886643, 'cb_weight': 0.10116664968524436, 'hgb_weight': 0.051153926302818904}. Best is trial 324 with value: 72254.25311483745.\n",
      "[I 2024-09-16 08:19:52,161] Trial 392 finished with value: 72254.66730348783 and parameters: {'lgbm_weight': 0.1619940674217939, 'xgb_weight': 0.7787405832955929, 'xgbrf_weight': 0.6381020623623784, 'cb_weight': 0.868076357846312, 'hgb_weight': 0.03320521259927149}. Best is trial 324 with value: 72254.25311483745.\n",
      "[I 2024-09-16 08:19:52,204] Trial 393 finished with value: 72254.42195678748 and parameters: {'lgbm_weight': 0.12228516417583186, 'xgb_weight': 0.7436326070832123, 'xgbrf_weight': 0.6164328519801916, 'cb_weight': 0.8768985928855271, 'hgb_weight': 0.017969072764729904}. Best is trial 324 with value: 72254.25311483745.\n",
      "[I 2024-09-16 08:19:52,247] Trial 394 finished with value: 72254.42151805323 and parameters: {'lgbm_weight': 0.0656203668494067, 'xgb_weight': 0.6921397743955037, 'xgbrf_weight': 0.5703542407101563, 'cb_weight': 0.8521384491484612, 'hgb_weight': 0.001202604509881692}. Best is trial 324 with value: 72254.25311483745.\n",
      "[I 2024-09-16 08:19:52,289] Trial 395 finished with value: 72254.62058199763 and parameters: {'lgbm_weight': 0.14863574091771964, 'xgb_weight': 0.7127165938652669, 'xgbrf_weight': 0.593418960744095, 'cb_weight': 0.8295163452954364, 'hgb_weight': 0.03601955710127405}. Best is trial 324 with value: 72254.25311483745.\n",
      "[I 2024-09-16 08:19:52,333] Trial 396 finished with value: 72254.52989095857 and parameters: {'lgbm_weight': 0.10222797385030678, 'xgb_weight': 0.6709228707969308, 'xgbrf_weight': 0.5626498187037395, 'cb_weight': 0.8968020201512537, 'hgb_weight': 0.0192239519255388}. Best is trial 324 with value: 72254.25311483745.\n",
      "[I 2024-09-16 08:19:52,377] Trial 397 finished with value: 72254.28069641315 and parameters: {'lgbm_weight': 0.1671028031330809, 'xgb_weight': 0.7584181124647869, 'xgbrf_weight': 0.5452400579642779, 'cb_weight': 0.8579881768984728, 'hgb_weight': 0.0006072812587039709}. Best is trial 324 with value: 72254.25311483745.\n",
      "[I 2024-09-16 08:19:52,424] Trial 398 finished with value: 72254.76929053322 and parameters: {'lgbm_weight': 0.2142165544628939, 'xgb_weight': 0.7668505922707035, 'xgbrf_weight': 0.5236528124276346, 'cb_weight': 0.8600115253161623, 'hgb_weight': 0.05174925334067071}. Best is trial 324 with value: 72254.25311483745.\n",
      "[I 2024-09-16 08:19:52,469] Trial 399 finished with value: 72254.40589537355 and parameters: {'lgbm_weight': 0.17643735769889005, 'xgb_weight': 0.8023172563785179, 'xgbrf_weight': 0.5506949117084634, 'cb_weight': 0.9184690185642983, 'hgb_weight': 0.019191708413213566}. Best is trial 324 with value: 72254.25311483745.\n",
      "[I 2024-09-16 08:19:52,518] Trial 400 finished with value: 72254.35288253055 and parameters: {'lgbm_weight': 0.1892564605123613, 'xgb_weight': 0.7556330162714456, 'xgbrf_weight': 0.6171298792458302, 'cb_weight': 0.8824139034593624, 'hgb_weight': 0.0006767721124032697}. Best is trial 324 with value: 72254.25311483745.\n",
      "[I 2024-09-16 08:19:52,564] Trial 401 finished with value: 72268.3897760656 and parameters: {'lgbm_weight': 0.12722481639816507, 'xgb_weight': 0.7358357598659956, 'xgbrf_weight': 0.542874316361255, 'cb_weight': 0.2540606038832842, 'hgb_weight': 0.0686747365899239}. Best is trial 324 with value: 72254.25311483745.\n",
      "[I 2024-09-16 08:19:52,612] Trial 402 finished with value: 72260.15156581662 and parameters: {'lgbm_weight': 0.7814741043996963, 'xgb_weight': 0.7239527345636787, 'xgbrf_weight': 0.5845472256669216, 'cb_weight': 0.852018129337047, 'hgb_weight': 0.0004403084930181115}. Best is trial 324 with value: 72254.25311483745.\n",
      "[I 2024-09-16 08:19:52,658] Trial 403 finished with value: 72254.65096003418 and parameters: {'lgbm_weight': 0.08814769900761017, 'xgb_weight': 0.6923606822718088, 'xgbrf_weight': 0.5195488904593912, 'cb_weight': 0.8718396291876278, 'hgb_weight': 0.03453905815572167}. Best is trial 324 with value: 72254.25311483745.\n",
      "[I 2024-09-16 08:19:52,704] Trial 404 finished with value: 72254.49428352568 and parameters: {'lgbm_weight': 0.16724163633484895, 'xgb_weight': 0.7832505360403709, 'xgbrf_weight': 0.5411938056683572, 'cb_weight': 0.8391491203919981, 'hgb_weight': 0.019671806659672383}. Best is trial 324 with value: 72254.25311483745.\n",
      "[I 2024-09-16 08:19:52,749] Trial 405 finished with value: 72262.0307459652 and parameters: {'lgbm_weight': 0.11971898602234489, 'xgb_weight': 0.743495035659031, 'xgbrf_weight': 0.5982128081892565, 'cb_weight': 0.8911812348439658, 'hgb_weight': 0.5921293861109701}. Best is trial 324 with value: 72254.25311483745.\n",
      "[I 2024-09-16 08:19:52,793] Trial 406 finished with value: 72254.62195473028 and parameters: {'lgbm_weight': 0.1416615707596476, 'xgb_weight': 0.7066069840879431, 'xgbrf_weight': 0.5697894362021411, 'cb_weight': 0.8242683277052549, 'hgb_weight': 0.04207101184435253}. Best is trial 324 with value: 72254.25311483745.\n",
      "[I 2024-09-16 08:19:52,840] Trial 407 finished with value: 72254.3557664435 and parameters: {'lgbm_weight': 0.08350354654178466, 'xgb_weight': 0.7581773088458802, 'xgbrf_weight': 0.5575606438923697, 'cb_weight': 0.8607497311225315, 'hgb_weight': 0.00012022404376659261}. Best is trial 324 with value: 72254.25311483745.\n",
      "[I 2024-09-16 08:19:52,884] Trial 408 finished with value: 72254.77314652831 and parameters: {'lgbm_weight': 0.16712731522666147, 'xgb_weight': 0.721848101743585, 'xgbrf_weight': 0.6730970506292187, 'cb_weight': 0.8441515835425738, 'hgb_weight': 0.02057990922845642}. Best is trial 324 with value: 72254.25311483745.\n",
      "[I 2024-09-16 08:19:52,927] Trial 409 finished with value: 72254.64446292346 and parameters: {'lgbm_weight': 0.11144509996296317, 'xgb_weight': 0.6851097471156701, 'xgbrf_weight': 0.6480028304272867, 'cb_weight': 0.9361998730840426, 'hgb_weight': 0.03468186861204768}. Best is trial 324 with value: 72254.25311483745.\n",
      "[I 2024-09-16 08:19:52,971] Trial 410 finished with value: 72255.14231252622 and parameters: {'lgbm_weight': 0.2304820019517144, 'xgb_weight': 0.825895623499435, 'xgbrf_weight': 0.5213316606573977, 'cb_weight': 0.9036639728168265, 'hgb_weight': 0.09138638279334492}. Best is trial 324 with value: 72254.25311483745.\n",
      "[I 2024-09-16 08:19:53,014] Trial 411 finished with value: 72254.76080108438 and parameters: {'lgbm_weight': 0.19440205191624704, 'xgb_weight': 0.6726858372511806, 'xgbrf_weight': 0.5864043957149134, 'cb_weight': 0.8713365416685653, 'hgb_weight': 0.05439170110377563}. Best is trial 324 with value: 72254.25311483745.\n",
      "[I 2024-09-16 08:19:53,058] Trial 412 finished with value: 72254.61371127136 and parameters: {'lgbm_weight': 0.147878406122482, 'xgb_weight': 0.701359017578891, 'xgbrf_weight': 0.6240559996536643, 'cb_weight': 0.8188419377349997, 'hgb_weight': 0.01992622403752381}. Best is trial 324 with value: 72254.25311483745.\n",
      "[I 2024-09-16 08:19:53,104] Trial 413 finished with value: 72254.26382687945 and parameters: {'lgbm_weight': 0.12850807015180613, 'xgb_weight': 0.7319074610428697, 'xgbrf_weight': 0.5410894731493098, 'cb_weight': 0.8434949294805171, 'hgb_weight': 0.0002961633080765148}. Best is trial 324 with value: 72254.25311483745.\n",
      "[I 2024-09-16 08:19:53,153] Trial 414 finished with value: 72254.348362989 and parameters: {'lgbm_weight': 0.10313249064310975, 'xgb_weight': 0.767946097425889, 'xgbrf_weight': 0.5372675287204648, 'cb_weight': 0.8286063647976174, 'hgb_weight': 0.00039381843260290726}. Best is trial 324 with value: 72254.25311483745.\n",
      "[I 2024-09-16 08:19:53,202] Trial 415 finished with value: 72254.51629924933 and parameters: {'lgbm_weight': 0.1260937005624964, 'xgb_weight': 0.7265531277728393, 'xgbrf_weight': 0.518225878865807, 'cb_weight': 0.8458807222934361, 'hgb_weight': 0.033962331097627994}. Best is trial 324 with value: 72254.25311483745.\n",
      "[I 2024-09-16 08:19:53,252] Trial 416 finished with value: 72254.5551619997 and parameters: {'lgbm_weight': 0.07548773763459563, 'xgb_weight': 0.7439332105154112, 'xgbrf_weight': 0.577618898631118, 'cb_weight': 0.8062852646369671, 'hgb_weight': 0.01940031890055868}. Best is trial 324 with value: 72254.25311483745.\n",
      "[I 2024-09-16 08:19:53,315] Trial 417 finished with value: 72257.81556811825 and parameters: {'lgbm_weight': 0.05566259661980795, 'xgb_weight': 0.7432066399971071, 'xgbrf_weight': 0.5384060817004751, 'cb_weight': 0.5205472610909394, 'hgb_weight': 0.0591895808508281}. Best is trial 324 with value: 72254.25311483745.\n",
      "[I 2024-09-16 08:19:53,366] Trial 418 finished with value: 72257.72295815774 and parameters: {'lgbm_weight': 0.13103096697367894, 'xgb_weight': 0.7154044322278363, 'xgbrf_weight': 0.6127631099535676, 'cb_weight': 0.8410351619855523, 'hgb_weight': 0.2941243203242923}. Best is trial 324 with value: 72254.25311483745.\n",
      "[I 2024-09-16 08:19:53,411] Trial 419 finished with value: 72254.55747981553 and parameters: {'lgbm_weight': 0.1010235000752421, 'xgb_weight': 0.7762405941467866, 'xgbrf_weight': 0.5649267446062548, 'cb_weight': 0.8054248983077948, 'hgb_weight': 0.017873454456780142}. Best is trial 324 with value: 72254.25311483745.\n",
      "[I 2024-09-16 08:19:53,458] Trial 420 finished with value: 72256.42981868719 and parameters: {'lgbm_weight': 0.3154185226811609, 'xgb_weight': 0.6976038440610409, 'xgbrf_weight': 0.5941739762422185, 'cb_weight': 0.8580345954231223, 'hgb_weight': 0.15604577793659613}. Best is trial 324 with value: 72254.25311483745.\n",
      "[I 2024-09-16 08:19:53,504] Trial 421 finished with value: 72254.58537796477 and parameters: {'lgbm_weight': 0.11780925988844634, 'xgb_weight': 0.730158206266291, 'xgbrf_weight': 0.5417699227139423, 'cb_weight': 0.8239869725297473, 'hgb_weight': 0.039984253813945436}. Best is trial 324 with value: 72254.25311483745.\n",
      "[I 2024-09-16 08:19:53,551] Trial 422 finished with value: 72254.397119126 and parameters: {'lgbm_weight': 0.14184023610900687, 'xgb_weight': 0.7482353089129536, 'xgbrf_weight': 0.5172826045255986, 'cb_weight': 0.8756796472369114, 'hgb_weight': 0.01605924450635141}. Best is trial 324 with value: 72254.25311483745.\n",
      "[I 2024-09-16 08:19:53,598] Trial 423 finished with value: 72257.00381456777 and parameters: {'lgbm_weight': 0.0861489540466816, 'xgb_weight': 0.7130209338637087, 'xgbrf_weight': 0.25627270819444403, 'cb_weight': 0.8336815767037504, 'hgb_weight': 0.03432101737728777}. Best is trial 324 with value: 72254.25311483745.\n",
      "[I 2024-09-16 08:19:53,646] Trial 424 finished with value: 72254.51516592839 and parameters: {'lgbm_weight': 0.11481764112201813, 'xgb_weight': 0.7968812179486492, 'xgbrf_weight': 0.5748527601083514, 'cb_weight': 0.7988658905657964, 'hgb_weight': 0.001157882631362535}. Best is trial 324 with value: 72254.25311483745.\n",
      "[I 2024-09-16 08:19:53,697] Trial 425 finished with value: 72254.33153157757 and parameters: {'lgbm_weight': 0.15359484525108305, 'xgb_weight': 0.75995695230786, 'xgbrf_weight': 0.6022465580566309, 'cb_weight': 0.8552976942681292, 'hgb_weight': 0.0004750570497666853}. Best is trial 324 with value: 72254.25311483745.\n",
      "[I 2024-09-16 08:19:53,743] Trial 426 finished with value: 72269.3425725142 and parameters: {'lgbm_weight': 0.13562857190339944, 'xgb_weight': 0.863791418922179, 'xgbrf_weight': 0.5518266806030169, 'cb_weight': 0.8210292387488916, 'hgb_weight': 0.9597872080061163}. Best is trial 324 with value: 72254.25311483745.\n",
      "[I 2024-09-16 08:19:53,791] Trial 427 finished with value: 72255.07026946993 and parameters: {'lgbm_weight': 0.10434524540307535, 'xgb_weight': 0.921230555404774, 'xgbrf_weight': 0.5297339024564565, 'cb_weight': 0.9809424287653851, 'hgb_weight': 0.07261282527071668}. Best is trial 324 with value: 72254.25311483745.\n",
      "[I 2024-09-16 08:19:53,840] Trial 428 finished with value: 72254.80753525981 and parameters: {'lgbm_weight': 0.1272218194859839, 'xgb_weight': 0.6545268009784728, 'xgbrf_weight': 0.6411304328306021, 'cb_weight': 0.8752781666743825, 'hgb_weight': 0.05052289688997402}. Best is trial 324 with value: 72254.25311483745.\n",
      "[I 2024-09-16 08:19:53,887] Trial 429 finished with value: 72254.53405205229 and parameters: {'lgbm_weight': 0.1561778763731687, 'xgb_weight': 0.6940191081513868, 'xgbrf_weight': 0.5711606549228703, 'cb_weight': 0.7946126134265986, 'hgb_weight': 0.020267450553660065}. Best is trial 324 with value: 72254.25311483745.\n",
      "[I 2024-09-16 08:19:53,933] Trial 430 finished with value: 72260.44858739167 and parameters: {'lgbm_weight': 0.6783872099123757, 'xgb_weight': 0.9443011744845388, 'xgbrf_weight': 0.5849538759129724, 'cb_weight': 0.843565353350901, 'hgb_weight': 0.18749245530089986}. Best is trial 324 with value: 72254.25311483745.\n",
      "[I 2024-09-16 08:19:53,982] Trial 431 finished with value: 72265.9518290858 and parameters: {'lgbm_weight': 0.07302233506360219, 'xgb_weight': 0.40963305867721866, 'xgbrf_weight': 0.11328445438568602, 'cb_weight': 0.8147410491848663, 'hgb_weight': 0.03334452151714735}. Best is trial 324 with value: 72254.25311483745.\n",
      "[I 2024-09-16 08:19:54,031] Trial 432 finished with value: 72254.36445514846 and parameters: {'lgbm_weight': 0.09810742266486618, 'xgb_weight': 0.7280420186647332, 'xgbrf_weight': 0.5157994736448216, 'cb_weight': 0.8561579615311378, 'hgb_weight': 0.00022905748923668064}. Best is trial 324 with value: 72254.25311483745.\n",
      "[I 2024-09-16 08:19:54,077] Trial 433 finished with value: 72254.44621933157 and parameters: {'lgbm_weight': 0.17950187134329285, 'xgb_weight': 0.6781271683400237, 'xgbrf_weight': 0.5550069864820988, 'cb_weight': 0.8311719290513625, 'hgb_weight': 0.01983752246884271}. Best is trial 324 with value: 72254.25311483745.\n",
      "[I 2024-09-16 08:19:54,125] Trial 434 finished with value: 72255.26381297018 and parameters: {'lgbm_weight': 0.13809053012851502, 'xgb_weight': 0.9990116564243203, 'xgbrf_weight': 0.6141891941816984, 'cb_weight': 0.8872937105411294, 'hgb_weight': 0.05126676384742807}. Best is trial 324 with value: 72254.25311483745.\n",
      "[I 2024-09-16 08:19:54,172] Trial 435 finished with value: 72254.30607645542 and parameters: {'lgbm_weight': 0.11728368661550456, 'xgb_weight': 0.7161396762757194, 'xgbrf_weight': 0.5383578963827097, 'cb_weight': 0.7916556816586696, 'hgb_weight': 0.00033609885766112805}. Best is trial 324 with value: 72254.25311483745.\n",
      "[I 2024-09-16 08:19:54,220] Trial 436 finished with value: 72267.92949976695 and parameters: {'lgbm_weight': 0.08826713883269385, 'xgb_weight': 0.0004322785220495229, 'xgbrf_weight': 0.5629919130714306, 'cb_weight': 0.7925540047894524, 'hgb_weight': 0.019717355003229853}. Best is trial 324 with value: 72254.25311483745.\n",
      "[I 2024-09-16 08:19:54,265] Trial 437 finished with value: 72254.51063223458 and parameters: {'lgbm_weight': 0.11602916790272319, 'xgb_weight': 0.7108529316828734, 'xgbrf_weight': 0.5424974249883091, 'cb_weight': 0.8691773516737884, 'hgb_weight': 0.03343059930009159}. Best is trial 324 with value: 72254.25311483745.\n",
      "[I 2024-09-16 08:19:54,309] Trial 438 finished with value: 72254.47693054251 and parameters: {'lgbm_weight': 0.04486599603078694, 'xgb_weight': 0.7378698313479705, 'xgbrf_weight': 0.5960372476879755, 'cb_weight': 0.8430923410600184, 'hgb_weight': 0.000297559821871176}. Best is trial 324 with value: 72254.25311483745.\n",
      "[I 2024-09-16 08:19:54,353] Trial 439 finished with value: 72256.78150446471 and parameters: {'lgbm_weight': 0.1096177410264006, 'xgb_weight': 0.7653760861752268, 'xgbrf_weight': 0.8981360570998845, 'cb_weight': 0.7913559312370338, 'hgb_weight': 0.018760911303270577}. Best is trial 324 with value: 72254.25311483745.\n",
      "[I 2024-09-16 08:19:54,397] Trial 440 finished with value: 72254.72977892308 and parameters: {'lgbm_weight': 0.06808386304460233, 'xgb_weight': 0.7109147394417034, 'xgbrf_weight': 0.5789629715237001, 'cb_weight': 0.8151604721646308, 'hgb_weight': 0.044613413002641156}. Best is trial 324 with value: 72254.25311483745.\n",
      "[I 2024-09-16 08:19:54,443] Trial 441 finished with value: 72254.26138605307 and parameters: {'lgbm_weight': 0.12875334752524148, 'xgb_weight': 0.7301831320152672, 'xgbrf_weight': 0.5408618705152379, 'cb_weight': 0.8556952773226676, 'hgb_weight': 7.503736568129473e-06}. Best is trial 324 with value: 72254.25311483745.\n",
      "[I 2024-09-16 08:19:54,488] Trial 442 finished with value: 72254.4133212104 and parameters: {'lgbm_weight': 0.1390969757790734, 'xgb_weight': 0.7346918778970647, 'xgbrf_weight': 0.5327415401673006, 'cb_weight': 0.8779447024247264, 'hgb_weight': 0.021936633013142894}. Best is trial 324 with value: 72254.25311483745.\n",
      "[I 2024-09-16 08:19:54,534] Trial 443 finished with value: 72254.4804338935 and parameters: {'lgbm_weight': 0.15458217673983576, 'xgb_weight': 0.7535065182248705, 'xgbrf_weight': 0.5102885905227819, 'cb_weight': 0.9560052177869316, 'hgb_weight': 1.37093901321656e-05}. Best is trial 324 with value: 72254.25311483745.\n",
      "[I 2024-09-16 08:19:54,578] Trial 444 finished with value: 72254.8044021915 and parameters: {'lgbm_weight': 0.12857015372325106, 'xgb_weight': 0.7763523189637446, 'xgbrf_weight': 0.5472765062718739, 'cb_weight': 0.9201495063182333, 'hgb_weight': 0.07251570265143435}. Best is trial 324 with value: 72254.25311483745.\n",
      "[I 2024-09-16 08:19:54,624] Trial 445 finished with value: 72254.55764786643 and parameters: {'lgbm_weight': 0.0934465393106981, 'xgb_weight': 0.7240506810874919, 'xgbrf_weight': 0.5347432362441404, 'cb_weight': 0.8536616077275666, 'hgb_weight': 0.033789334853759526}. Best is trial 324 with value: 72254.25311483745.\n",
      "[I 2024-09-16 08:19:54,670] Trial 446 finished with value: 72254.42417523927 and parameters: {'lgbm_weight': 0.12716838663477506, 'xgb_weight': 0.7034808235504247, 'xgbrf_weight': 0.5590377462983023, 'cb_weight': 0.8858426139672907, 'hgb_weight': 0.02211280060494012}. Best is trial 324 with value: 72254.25311483745.\n",
      "[I 2024-09-16 08:19:54,718] Trial 447 finished with value: 72263.17251917001 and parameters: {'lgbm_weight': 0.15081971967821856, 'xgb_weight': 0.7540360589458157, 'xgbrf_weight': 0.5180593924528466, 'cb_weight': 0.8642089001195878, 'hgb_weight': 0.6419620504216774}. Best is trial 324 with value: 72254.25311483745.\n",
      "[I 2024-09-16 08:19:54,765] Trial 448 finished with value: 72259.04341853848 and parameters: {'lgbm_weight': 0.10407116065735822, 'xgb_weight': 0.7308342786822809, 'xgbrf_weight': 0.6260165480296139, 'cb_weight': 0.839606280281887, 'hgb_weight': 0.378164120421141}. Best is trial 324 with value: 72254.25311483745.\n",
      "[I 2024-09-16 08:19:54,813] Trial 449 finished with value: 72254.82593958345 and parameters: {'lgbm_weight': 0.08214906700930723, 'xgb_weight': 0.785004119406259, 'xgbrf_weight': 0.6623866854631961, 'cb_weight': 0.8876908095652749, 'hgb_weight': 0.05391442044166399}. Best is trial 324 with value: 72254.25311483745.\n",
      "[I 2024-09-16 08:19:54,859] Trial 450 finished with value: 72254.25887847012 and parameters: {'lgbm_weight': 0.15852389842806983, 'xgb_weight': 0.6905921471417416, 'xgbrf_weight': 0.5590009141831686, 'cb_weight': 0.8568286399181599, 'hgb_weight': 0.00032871114325334666}. Best is trial 324 with value: 72254.25311483745.\n",
      "[I 2024-09-16 08:19:54,905] Trial 451 finished with value: 72254.36899374767 and parameters: {'lgbm_weight': 0.13156100201094836, 'xgb_weight': 0.7024269797738067, 'xgbrf_weight': 0.5592985518290663, 'cb_weight': 0.8575409315637514, 'hgb_weight': 0.01695369660197137}. Best is trial 324 with value: 72254.25311483745.\n",
      "[I 2024-09-16 08:19:54,950] Trial 452 finished with value: 72254.51690842817 and parameters: {'lgbm_weight': 0.154987322573708, 'xgb_weight': 0.7165094540929824, 'xgbrf_weight': 0.5923358492049297, 'cb_weight': 0.9009842292938408, 'hgb_weight': 0.037304653968802864}. Best is trial 324 with value: 72254.25311483745.\n",
      "[I 2024-09-16 08:19:54,997] Trial 453 finished with value: 72254.4167421113 and parameters: {'lgbm_weight': 0.11286568442517474, 'xgb_weight': 0.6918865504042715, 'xgbrf_weight': 0.5682889575806958, 'cb_weight': 0.8690244439769175, 'hgb_weight': 0.018853809805472087}. Best is trial 324 with value: 72254.25311483745.\n",
      "[I 2024-09-16 08:19:55,041] Trial 454 finished with value: 72267.61709996236 and parameters: {'lgbm_weight': 0.14043403364051538, 'xgb_weight': 0.7400559534630037, 'xgbrf_weight': 0.543324278595883, 'cb_weight': 0.8387038523454428, 'hgb_weight': 0.864277550971766}. Best is trial 324 with value: 72254.25311483745.\n",
      "[I 2024-09-16 08:19:55,087] Trial 455 finished with value: 72254.68152276543 and parameters: {'lgbm_weight': 0.09941536973204958, 'xgb_weight': 0.6877773582964772, 'xgbrf_weight': 0.5804630531760044, 'cb_weight': 0.866646374960724, 'hgb_weight': 0.05079128742996654}. Best is trial 324 with value: 72254.25311483745.\n",
      "[I 2024-09-16 08:19:55,131] Trial 456 finished with value: 72254.38355505008 and parameters: {'lgbm_weight': 0.16437803411645405, 'xgb_weight': 0.7192222752886173, 'xgbrf_weight': 0.6024642857514781, 'cb_weight': 0.9096310286478432, 'hgb_weight': 0.017434386391397265}. Best is trial 324 with value: 72254.25311483745.\n",
      "[I 2024-09-16 08:19:55,174] Trial 457 finished with value: 72254.59288604878 and parameters: {'lgbm_weight': 0.12625448992482913, 'xgb_weight': 0.74389205430692, 'xgbrf_weight': 0.6894029771677205, 'cb_weight': 0.8518727679551107, 'hgb_weight': 0.000699014273413396}. Best is trial 324 with value: 72254.25311483745.\n",
      "[I 2024-09-16 08:19:55,220] Trial 458 finished with value: 72273.61320100739 and parameters: {'lgbm_weight': 0.06579438370390786, 'xgb_weight': 0.7054560755933483, 'xgbrf_weight': 0.5545004952499234, 'cb_weight': 0.22526341232448144, 'hgb_weight': 0.2634034098699073}. Best is trial 324 with value: 72254.25311483745.\n",
      "[I 2024-09-16 08:19:55,264] Trial 459 finished with value: 72265.82828377269 and parameters: {'lgbm_weight': 0.11779126776197252, 'xgb_weight': 0.03567960312900342, 'xgbrf_weight': 0.5440754840246629, 'cb_weight': 0.8309098256958639, 'hgb_weight': 0.03432865094411259}. Best is trial 324 with value: 72254.25311483745.\n",
      "[I 2024-09-16 08:19:55,310] Trial 460 finished with value: 72254.75023685332 and parameters: {'lgbm_weight': 0.1459886525224202, 'xgb_weight': 0.7656514897751696, 'xgbrf_weight': 0.572074032542103, 'cb_weight': 0.893509350025862, 'hgb_weight': 0.06735492592211959}. Best is trial 324 with value: 72254.25311483745.\n",
      "[I 2024-09-16 08:19:55,358] Trial 461 finished with value: 72254.59851699849 and parameters: {'lgbm_weight': 0.08365822749974518, 'xgb_weight': 0.8106714495460995, 'xgbrf_weight': 0.6098903275747267, 'cb_weight': 0.845733014489408, 'hgb_weight': 0.019415040516247165}. Best is trial 324 with value: 72254.25311483745.\n",
      "[I 2024-09-16 08:19:55,403] Trial 462 finished with value: 72254.2859662855 and parameters: {'lgbm_weight': 0.16449030373418702, 'xgb_weight': 0.6881273774774266, 'xgbrf_weight': 0.5269726612720842, 'cb_weight': 0.8755367597817959, 'hgb_weight': 0.0002797429398617594}. Best is trial 324 with value: 72254.25311483745.\n",
      "[I 2024-09-16 08:19:55,449] Trial 463 finished with value: 72254.63831398568 and parameters: {'lgbm_weight': 0.17707065316525306, 'xgb_weight': 0.6840325379102433, 'xgbrf_weight': 0.5255268328263993, 'cb_weight': 0.9359197474560303, 'hgb_weight': 0.03654269508759812}. Best is trial 324 with value: 72254.25311483745.\n",
      "[I 2024-09-16 08:19:55,493] Trial 464 finished with value: 72254.50620307108 and parameters: {'lgbm_weight': 0.1616066256584298, 'xgb_weight': 0.6813533838052668, 'xgbrf_weight': 0.6356998960170033, 'cb_weight': 0.8809670199515965, 'hgb_weight': 0.017634049345657488}. Best is trial 324 with value: 72254.25311483745.\n",
      "[I 2024-09-16 08:19:55,540] Trial 465 finished with value: 72257.02409565072 and parameters: {'lgbm_weight': 0.585625795768624, 'xgb_weight': 0.7028386565267647, 'xgbrf_weight': 0.5879027722085035, 'cb_weight': 0.9170482847610817, 'hgb_weight': 0.00013902883378338454}. Best is trial 324 with value: 72254.25311483745.\n",
      "[I 2024-09-16 08:19:55,588] Trial 466 finished with value: 72256.76380567685 and parameters: {'lgbm_weight': 0.20410742975981444, 'xgb_weight': 0.3478457592668048, 'xgbrf_weight': 0.5601657586882819, 'cb_weight': 0.8760951889752792, 'hgb_weight': 0.05123820741761924}. Best is trial 324 with value: 72254.25311483745.\n",
      "[I 2024-09-16 08:19:55,637] Trial 467 finished with value: 72258.79755429066 and parameters: {'lgbm_weight': 0.17830879991964496, 'xgb_weight': 0.6733375906255573, 'xgbrf_weight': 0.16509018680253618, 'cb_weight': 0.8992197956583484, 'hgb_weight': 0.032950461158946}. Best is trial 324 with value: 72254.25311483745.\n",
      "[I 2024-09-16 08:19:55,686] Trial 468 finished with value: 72254.99069007016 and parameters: {'lgbm_weight': 0.149252930466424, 'xgb_weight': 0.7474200892944749, 'xgbrf_weight': 0.5149454837478574, 'cb_weight': 0.860427897756455, 'hgb_weight': 0.08933338331620534}. Best is trial 324 with value: 72254.25311483745.\n",
      "[I 2024-09-16 08:19:55,734] Trial 469 finished with value: 72254.81672406079 and parameters: {'lgbm_weight': 0.2948318944859211, 'xgb_weight': 0.7277772127892199, 'xgbrf_weight': 0.5702300704052685, 'cb_weight': 0.8680170396530381, 'hgb_weight': 0.016753914807573253}. Best is trial 324 with value: 72254.25311483745.\n",
      "[I 2024-09-16 08:19:55,785] Trial 470 finished with value: 72254.39391261149 and parameters: {'lgbm_weight': 0.16669626564948375, 'xgb_weight': 0.6980963872207296, 'xgbrf_weight': 0.5337620503388262, 'cb_weight': 0.8889214467876403, 'hgb_weight': 0.017567848771010787}. Best is trial 324 with value: 72254.25311483745.\n",
      "[I 2024-09-16 08:19:55,832] Trial 471 finished with value: 72254.3198398967 and parameters: {'lgbm_weight': 0.1339197649560361, 'xgb_weight': 0.7241378764911678, 'xgbrf_weight': 0.6050038483027098, 'cb_weight': 0.8449352930550343, 'hgb_weight': 0.00016652082503593738}. Best is trial 324 with value: 72254.25311483745.\n",
      "[I 2024-09-16 08:19:55,878] Trial 472 finished with value: 72254.67791004883 and parameters: {'lgbm_weight': 0.14436110309205846, 'xgb_weight': 0.7938249248857618, 'xgbrf_weight': 0.5565271768757707, 'cb_weight': 0.8316132015946442, 'hgb_weight': 0.03819148750161844}. Best is trial 324 with value: 72254.25311483745.\n",
      "[I 2024-09-16 08:19:55,925] Trial 473 finished with value: 72254.83514409233 and parameters: {'lgbm_weight': 0.18545543392484512, 'xgb_weight': 0.6682085313614761, 'xgbrf_weight': 0.5777702432207332, 'cb_weight': 0.8510374716849319, 'hgb_weight': 0.0623848699558082}. Best is trial 324 with value: 72254.25311483745.\n",
      "[I 2024-09-16 08:19:55,971] Trial 474 finished with value: 72254.7017804104 and parameters: {'lgbm_weight': 0.10246954989189666, 'xgb_weight': 0.6901467340486118, 'xgbrf_weight': 0.6264235758132927, 'cb_weight': 0.9980911952175666, 'hgb_weight': 0.016890376269578882}. Best is trial 324 with value: 72254.25311483745.\n",
      "[I 2024-09-16 08:19:56,019] Trial 475 finished with value: 72260.81591083978 and parameters: {'lgbm_weight': 0.8567614251848087, 'xgb_weight': 0.8364809381457619, 'xgbrf_weight': 0.5289189974281675, 'cb_weight': 0.8758379794089183, 'hgb_weight': 0.03458761058068431}. Best is trial 324 with value: 72254.25311483745.\n",
      "[I 2024-09-16 08:19:56,070] Trial 476 finished with value: 72254.46992751304 and parameters: {'lgbm_weight': 0.15829274441744173, 'xgb_weight': 0.765433638319938, 'xgbrf_weight': 0.5100131627547706, 'cb_weight': 0.9175487014756724, 'hgb_weight': 0.019344178412719366}. Best is trial 324 with value: 72254.25311483745.\n",
      "[I 2024-09-16 08:19:56,117] Trial 477 finished with value: 72254.75044289095 and parameters: {'lgbm_weight': 0.13556370931053935, 'xgb_weight': 0.7048367703604089, 'xgbrf_weight': 0.5880388742679539, 'cb_weight': 0.8168419245907962, 'hgb_weight': 0.04997167120692838}. Best is trial 324 with value: 72254.25311483745.\n",
      "[I 2024-09-16 08:19:56,162] Trial 478 finished with value: 72254.38914227518 and parameters: {'lgbm_weight': 0.12155363137244324, 'xgb_weight': 0.7485048363780101, 'xgbrf_weight': 0.5471800271505675, 'cb_weight': 0.8551378395545448, 'hgb_weight': 0.01689188836430178}. Best is trial 324 with value: 72254.25311483745.\n",
      "[I 2024-09-16 08:19:56,209] Trial 479 finished with value: 72260.17509868974 and parameters: {'lgbm_weight': 0.164126882438467, 'xgb_weight': 0.7261224101398663, 'xgbrf_weight': 0.6077120928071267, 'cb_weight': 0.8989396781644954, 'hgb_weight': 0.48187842974618555}. Best is trial 324 with value: 72254.25311483745.\n",
      "[I 2024-09-16 08:19:56,256] Trial 480 finished with value: 72254.5706180591 and parameters: {'lgbm_weight': 0.09262795868063728, 'xgb_weight': 0.6691975236021014, 'xgbrf_weight': 0.5622045702684929, 'cb_weight': 0.8359751988672728, 'hgb_weight': 0.034741257120653644}. Best is trial 324 with value: 72254.25311483745.\n",
      "[I 2024-09-16 08:19:56,302] Trial 481 finished with value: 72254.64128924622 and parameters: {'lgbm_weight': 0.05234456710882717, 'xgb_weight': 0.6841252790234374, 'xgbrf_weight': 0.5331532673531225, 'cb_weight': 0.8750070629960133, 'hgb_weight': 0.0024944544687848045}. Best is trial 324 with value: 72254.25311483745.\n",
      "[I 2024-09-16 08:19:56,348] Trial 482 finished with value: 72256.49838549101 and parameters: {'lgbm_weight': 0.2035291921580949, 'xgb_weight': 0.9717679778758405, 'xgbrf_weight': 0.8469533700787916, 'cb_weight': 0.8203661106788822, 'hgb_weight': 0.0004938395325689033}. Best is trial 324 with value: 72254.25311483745.\n",
      "[I 2024-09-16 08:19:56,396] Trial 483 finished with value: 72259.711696137 and parameters: {'lgbm_weight': 0.3836914365210126, 'xgb_weight': 0.7121375284318967, 'xgbrf_weight': 0.6519582403292863, 'cb_weight': 0.5746071113461579, 'hgb_weight': 7.915690761619925e-05}. Best is trial 324 with value: 72254.25311483745.\n",
      "[I 2024-09-16 08:19:56,446] Trial 484 finished with value: 72255.69901444743 and parameters: {'lgbm_weight': 0.44110068508206995, 'xgb_weight': 0.6942049465093845, 'xgbrf_weight': 0.585150618605182, 'cb_weight': 0.9479947623385039, 'hgb_weight': 0.03322207028924115}. Best is trial 324 with value: 72254.25311483745.\n",
      "[I 2024-09-16 08:19:56,494] Trial 485 finished with value: 72254.30087202077 and parameters: {'lgbm_weight': 0.1389213585664907, 'xgb_weight': 0.7350917284314509, 'xgbrf_weight': 0.5088436297684051, 'cb_weight': 0.8601447767462232, 'hgb_weight': 0.0006879182765553516}. Best is trial 324 with value: 72254.25311483745.\n",
      "[I 2024-09-16 08:19:56,539] Trial 486 finished with value: 72254.8018995147 and parameters: {'lgbm_weight': 0.15166526903491973, 'xgb_weight': 0.7756993475117321, 'xgbrf_weight': 0.5080773917701008, 'cb_weight': 0.8610280283124272, 'hgb_weight': 0.06380932978384718}. Best is trial 324 with value: 72254.25311483745.\n",
      "[I 2024-09-16 08:19:56,583] Trial 487 finished with value: 72254.38383511937 and parameters: {'lgbm_weight': 0.18434712575486276, 'xgb_weight': 0.7439460471157721, 'xgbrf_weight': 0.5526907418061593, 'cb_weight': 0.8948035681250538, 'hgb_weight': 0.01860250099676355}. Best is trial 324 with value: 72254.25311483745.\n",
      "[I 2024-09-16 08:19:56,630] Trial 488 finished with value: 72254.26723803465 and parameters: {'lgbm_weight': 0.1355488373102444, 'xgb_weight': 0.7382478942106523, 'xgbrf_weight': 0.5986479574725471, 'cb_weight': 0.8796220383596752, 'hgb_weight': 0.00011948236570401185}. Best is trial 324 with value: 72254.25311483745.\n",
      "[I 2024-09-16 08:19:56,677] Trial 489 finished with value: 72254.56659524467 and parameters: {'lgbm_weight': 0.1300382240750116, 'xgb_weight': 0.7605585305360802, 'xgbrf_weight': 0.5978624961791184, 'cb_weight': 0.8840826482958865, 'hgb_weight': 0.04136655920221292}. Best is trial 324 with value: 72254.25311483745.\n",
      "[I 2024-09-16 08:19:56,727] Trial 490 finished with value: 72254.45647127499 and parameters: {'lgbm_weight': 0.1397420811615513, 'xgb_weight': 0.786775753066396, 'xgbrf_weight': 0.5759005114783032, 'cb_weight': 0.859350862127502, 'hgb_weight': 0.020344276926170177}. Best is trial 324 with value: 72254.25311483745.\n",
      "[I 2024-09-16 08:19:56,774] Trial 491 finished with value: 72256.51460501527 and parameters: {'lgbm_weight': 0.11974434202236146, 'xgb_weight': 0.7463151384360504, 'xgbrf_weight': 0.60480327600121, 'cb_weight': 0.9007553084328211, 'hgb_weight': 0.23252111705196188}. Best is trial 324 with value: 72254.25311483745.\n",
      "[I 2024-09-16 08:19:56,824] Trial 492 finished with value: 72254.25187922035 and parameters: {'lgbm_weight': 0.1457740782134535, 'xgb_weight': 0.7245638361900633, 'xgbrf_weight': 0.5700510150713913, 'cb_weight': 0.8759384451189755, 'hgb_weight': 0.0006618037859819831}. Best is trial 492 with value: 72254.25187922035.\n",
      "[I 2024-09-16 08:19:56,871] Trial 493 finished with value: 72254.49993127519 and parameters: {'lgbm_weight': 0.1656417286449628, 'xgb_weight': 0.7613913843242975, 'xgbrf_weight': 0.5066621991425918, 'cb_weight': 0.9224101938159298, 'hgb_weight': 0.022677344481430634}. Best is trial 492 with value: 72254.25187922035.\n",
      "[I 2024-09-16 08:19:56,918] Trial 494 finished with value: 72254.25158285825 and parameters: {'lgbm_weight': 0.14741028361153555, 'xgb_weight': 0.7321723970967171, 'xgbrf_weight': 0.5588902498617073, 'cb_weight': 0.8881946022282741, 'hgb_weight': 0.0001285123771897129}. Best is trial 494 with value: 72254.25158285825.\n",
      "[I 2024-09-16 08:19:56,964] Trial 495 finished with value: 72254.59015213665 and parameters: {'lgbm_weight': 0.15569318555407632, 'xgb_weight': 0.732143921120253, 'xgbrf_weight': 0.5588828124144651, 'cb_weight': 0.9103621260101236, 'hgb_weight': 0.049002437840701074}. Best is trial 494 with value: 72254.25158285825.\n",
      "[I 2024-09-16 08:19:57,010] Trial 496 finished with value: 72268.52490605575 and parameters: {'lgbm_weight': 0.1695442543968291, 'xgb_weight': 0.2625748675684876, 'xgbrf_weight': 0.5898568906162858, 'cb_weight': 0.9216739507676199, 'hgb_weight': 0.7892519462033998}. Best is trial 494 with value: 72254.25158285825.\n",
      "[I 2024-09-16 08:19:57,056] Trial 497 finished with value: 72254.48394892551 and parameters: {'lgbm_weight': 0.14791465038736382, 'xgb_weight': 0.7817707871560062, 'xgbrf_weight': 0.5639979860095377, 'cb_weight': 0.8830719307949957, 'hgb_weight': 0.030830987338335412}. Best is trial 494 with value: 72254.25158285825.\n",
      "[I 2024-09-16 08:19:57,101] Trial 498 finished with value: 72254.29160003888 and parameters: {'lgbm_weight': 0.12857258133665395, 'xgb_weight': 0.7476272284205416, 'xgbrf_weight': 0.6202269812290944, 'cb_weight': 0.8865964290258671, 'hgb_weight': 0.00015470713674701754}. Best is trial 494 with value: 72254.25158285825.\n",
      "[I 2024-09-16 08:19:57,147] Trial 499 finished with value: 72254.86278374497 and parameters: {'lgbm_weight': 0.1304252631009226, 'xgb_weight': 0.7577647738726724, 'xgbrf_weight': 0.6178753233734586, 'cb_weight': 0.8928755096213148, 'hgb_weight': 0.07536859219727073}. Best is trial 494 with value: 72254.25158285825.\n"
     ]
    }
   ],
   "source": [
    "sampler = optuna.samplers.TPESampler(seed=CFG.seed)\n",
    "study = optuna.create_study(direction='minimize', sampler=sampler)\n",
    "study.optimize(objective, n_trials=500)"
   ]
  },
  {
   "cell_type": "code",
   "execution_count": 28,
   "id": "04ee4a6c",
   "metadata": {
    "execution": {
     "iopub.execute_input": "2024-09-16T08:19:57.251475Z",
     "iopub.status.busy": "2024-09-16T08:19:57.250515Z",
     "iopub.status.idle": "2024-09-16T08:19:57.256088Z",
     "shell.execute_reply": "2024-09-16T08:19:57.255063Z"
    },
    "papermill": {
     "duration": 0.056414,
     "end_time": "2024-09-16T08:19:57.258421",
     "exception": false,
     "start_time": "2024-09-16T08:19:57.202007",
     "status": "completed"
    },
    "tags": []
   },
   "outputs": [],
   "source": [
    "scores['Weighted Averaging'] = [study.best_value] * CFG.n_folds"
   ]
  },
  {
   "cell_type": "code",
   "execution_count": 29,
   "id": "69830a36",
   "metadata": {
    "execution": {
     "iopub.execute_input": "2024-09-16T08:19:57.355762Z",
     "iopub.status.busy": "2024-09-16T08:19:57.355274Z",
     "iopub.status.idle": "2024-09-16T08:19:57.361189Z",
     "shell.execute_reply": "2024-09-16T08:19:57.360091Z"
    },
    "papermill": {
     "duration": 0.057426,
     "end_time": "2024-09-16T08:19:57.363503",
     "exception": false,
     "start_time": "2024-09-16T08:19:57.306077",
     "status": "completed"
    },
    "tags": []
   },
   "outputs": [],
   "source": [
    "best_weights = study.best_params\n",
    "best_weights = [best_weights[f'{model}_weight'] for model in ['lgbm', 'xgb', 'xgbrf', 'cb', 'hgb']]\n",
    "best_weights /= np.sum(best_weights)"
   ]
  },
  {
   "cell_type": "code",
   "execution_count": 30,
   "id": "e115bb58",
   "metadata": {
    "execution": {
     "iopub.execute_input": "2024-09-16T08:19:57.460410Z",
     "iopub.status.busy": "2024-09-16T08:19:57.459985Z",
     "iopub.status.idle": "2024-09-16T08:19:57.934295Z",
     "shell.execute_reply": "2024-09-16T08:19:57.933115Z"
    },
    "papermill": {
     "duration": 0.526688,
     "end_time": "2024-09-16T08:19:57.937726",
     "exception": false,
     "start_time": "2024-09-16T08:19:57.411038",
     "status": "completed"
    },
    "tags": []
   },
   "outputs": [
    {
     "data": {
      "image/png": "[encoded data removed]",
      "text/plain": [
       "<Figure size 1000x400 with 1 Axes>"
      ]
     },
     "metadata": {},
     "output_type": "display_data"
    }
   ],
   "source": [
    "plot_weights('Optuna Weights', best_weights)"
   ]
  },
  {
   "cell_type": "markdown",
   "id": "f26b0091",
   "metadata": {
    "papermill": {
     "duration": 0.067587,
     "end_time": "2024-09-16T08:19:58.062245",
     "exception": false,
     "start_time": "2024-09-16T08:19:57.994658",
     "status": "completed"
    },
    "tags": []
   },
   "source": [
    "To make predictions with this 'model', we can simply use the weights that we found and take the weighted average of the test predictions of each base model."
   ]
  },
  {
   "cell_type": "code",
   "execution_count": 31,
   "id": "13d26da9",
   "metadata": {
    "execution": {
     "iopub.execute_input": "2024-09-16T08:19:58.162382Z",
     "iopub.status.busy": "2024-09-16T08:19:58.161862Z",
     "iopub.status.idle": "2024-09-16T08:19:58.169858Z",
     "shell.execute_reply": "2024-09-16T08:19:58.168790Z"
    },
    "papermill": {
     "duration": 0.060931,
     "end_time": "2024-09-16T08:19:58.172257",
     "exception": false,
     "start_time": "2024-09-16T08:19:58.111326",
     "status": "completed"
    },
    "tags": []
   },
   "outputs": [],
   "source": [
    "weighted_test_preds = np.zeros((test.shape[0]))\n",
    "for model, weight in zip(test_preds.keys(), best_weights):\n",
    "    weighted_test_preds += test_preds[model] * weight"
   ]
  },
  {
   "cell_type": "code",
   "execution_count": 32,
   "id": "0c610d2f",
   "metadata": {
    "execution": {
     "iopub.execute_input": "2024-09-16T08:19:58.283081Z",
     "iopub.status.busy": "2024-09-16T08:19:58.282531Z",
     "iopub.status.idle": "2024-09-16T08:19:58.629901Z",
     "shell.execute_reply": "2024-09-16T08:19:58.628683Z"
    },
    "papermill": {
     "duration": 0.402986,
     "end_time": "2024-09-16T08:19:58.632462",
     "exception": false,
     "start_time": "2024-09-16T08:19:58.229476",
     "status": "completed"
    },
    "tags": []
   },
   "outputs": [
    {
     "data": {
      "text/html": [
       "<div>\n",
       "<style scoped>\n",
       "    .dataframe tbody tr th:only-of-type {\n",
       "        vertical-align: middle;\n",
       "    }\n",
       "\n",
       "    .dataframe tbody tr th {\n",
       "        vertical-align: top;\n",
       "    }\n",
       "\n",
       "    .dataframe thead th {\n",
       "        text-align: right;\n",
       "    }\n",
       "</style>\n",
       "<table border=\"1\" class=\"dataframe\">\n",
       "  <thead>\n",
       "    <tr style=\"text-align: right;\">\n",
       "      <th></th>\n",
       "      <th>id</th>\n",
       "      <th>price</th>\n",
       "    </tr>\n",
       "  </thead>\n",
       "  <tbody>\n",
       "    <tr>\n",
       "      <th>0</th>\n",
       "      <td>188533</td>\n",
       "      <td>16957.038544</td>\n",
       "    </tr>\n",
       "    <tr>\n",
       "      <th>1</th>\n",
       "      <td>188534</td>\n",
       "      <td>82339.869926</td>\n",
       "    </tr>\n",
       "    <tr>\n",
       "      <th>2</th>\n",
       "      <td>188535</td>\n",
       "      <td>52180.091732</td>\n",
       "    </tr>\n",
       "    <tr>\n",
       "      <th>3</th>\n",
       "      <td>188536</td>\n",
       "      <td>28530.255370</td>\n",
       "    </tr>\n",
       "    <tr>\n",
       "      <th>4</th>\n",
       "      <td>188537</td>\n",
       "      <td>30598.180711</td>\n",
       "    </tr>\n",
       "  </tbody>\n",
       "</table>\n",
       "</div>"
      ],
      "text/plain": [
       "       id         price\n",
       "0  188533  16957.038544\n",
       "1  188534  82339.869926\n",
       "2  188535  52180.091732\n",
       "3  188536  28530.255370\n",
       "4  188537  30598.180711"
      ]
     },
     "execution_count": 32,
     "metadata": {},
     "output_type": "execute_result"
    }
   ],
   "source": [
    "save_submission(weighted_test_preds, 'weighted-averaging', study.best_value).head()"
   ]
  },
  {
   "cell_type": "markdown",
   "id": "722d9513",
   "metadata": {
    "papermill": {
     "duration": 0.050576,
     "end_time": "2024-09-16T08:19:58.738328",
     "exception": false,
     "start_time": "2024-09-16T08:19:58.687752",
     "status": "completed"
    },
    "tags": []
   },
   "source": [
    "## Ridge\n",
    "\n",
    "Instead of tuning ensemble weights, we can use a meta-model that uses the predictions of the base models as features and learns the best way to combine them. The regularized linear model, Ridge, is a popular choice for this purpose. It learns a linear combination of the features and assigns weights to each model that minimizes its error. The L2 regularization term in Ridge penalizes large weights (coefficients), ensuring that no single model dominates the ensemble.\n",
    "\n",
    "Since we are using the predictions as features, it is likely that these features are highly correlated with each other. Ridge is especially effective at handling this multicollinearity.\n",
    "\n",
    "Before feeding the predictions to the model, I will create a dataframe out of the prediction and scale the values using `MinMaxScaler`. This gives a small boost to the CV score."
   ]
  },
  {
   "cell_type": "code",
   "execution_count": 33,
   "id": "50440c14",
   "metadata": {
    "execution": {
     "iopub.execute_input": "2024-09-16T08:19:58.837586Z",
     "iopub.status.busy": "2024-09-16T08:19:58.836420Z",
     "iopub.status.idle": "2024-09-16T08:19:58.856748Z",
     "shell.execute_reply": "2024-09-16T08:19:58.855595Z"
    },
    "papermill": {
     "duration": 0.07253,
     "end_time": "2024-09-16T08:19:58.859230",
     "exception": false,
     "start_time": "2024-09-16T08:19:58.786700",
     "status": "completed"
    },
    "tags": []
   },
   "outputs": [],
   "source": [
    "_X = pd.DataFrame(oof_preds)\n",
    "_X_test = pd.DataFrame(test_preds)\n",
    "\n",
    "scaler = MinMaxScaler().set_output(transform='pandas')\n",
    "_X = scaler.fit_transform(_X)\n",
    "_X_test = scaler.transform(_X_test)"
   ]
  },
  {
   "cell_type": "code",
   "execution_count": 34,
   "id": "96fe7b2d",
   "metadata": {
    "execution": {
     "iopub.execute_input": "2024-09-16T08:19:58.959336Z",
     "iopub.status.busy": "2024-09-16T08:19:58.958808Z",
     "iopub.status.idle": "2024-09-16T08:20:00.404778Z",
     "shell.execute_reply": "2024-09-16T08:20:00.403436Z"
    },
    "papermill": {
     "duration": 1.498455,
     "end_time": "2024-09-16T08:20:00.406996",
     "exception": false,
     "start_time": "2024-09-16T08:19:58.908541",
     "status": "completed"
    },
    "tags": []
   },
   "outputs": [
    {
     "name": "stdout",
     "output_type": "stream",
     "text": [
      "Training Ridge\n",
      "\n",
      "--- Fold 1 - RMSE: 71621\n",
      "--- Fold 2 - RMSE: 72686\n",
      "--- Fold 3 - RMSE: 72375\n",
      "--- Fold 4 - RMSE: 71651\n",
      "--- Fold 5 - RMSE: 73149\n",
      "\n",
      "Overall RMSE: 72299 ± 593\n"
     ]
    }
   ],
   "source": [
    "ridge_model = Ridge()\n",
    "ridge_trainer = Trainer(ridge_model, CFG, True)\n",
    "_, ridge_test_preds, scores['Ridge'], ridge_coeffs = ridge_trainer.fit_predict(_X, y, _X_test)"
   ]
  },
  {
   "cell_type": "code",
   "execution_count": 35,
   "id": "1ea51059",
   "metadata": {
    "execution": {
     "iopub.execute_input": "2024-09-16T08:20:00.507270Z",
     "iopub.status.busy": "2024-09-16T08:20:00.506545Z",
     "iopub.status.idle": "2024-09-16T08:20:00.910248Z",
     "shell.execute_reply": "2024-09-16T08:20:00.909139Z"
    },
    "papermill": {
     "duration": 0.456492,
     "end_time": "2024-09-16T08:20:00.912714",
     "exception": false,
     "start_time": "2024-09-16T08:20:00.456222",
     "status": "completed"
    },
    "tags": []
   },
   "outputs": [
    {
     "data": {
      "image/png": "[encoded data removed]",
      "text/plain": [
       "<Figure size 1000x400 with 1 Axes>"
      ]
     },
     "metadata": {},
     "output_type": "display_data"
    }
   ],
   "source": [
    "plot_weights('Ridge coefficients', ridge_coeffs)"
   ]
  },
  {
   "cell_type": "code",
   "execution_count": 36,
   "id": "6b75ec85",
   "metadata": {
    "execution": {
     "iopub.execute_input": "2024-09-16T08:20:01.013622Z",
     "iopub.status.busy": "2024-09-16T08:20:01.013189Z",
     "iopub.status.idle": "2024-09-16T08:20:01.253177Z",
     "shell.execute_reply": "2024-09-16T08:20:01.252180Z"
    },
    "papermill": {
     "duration": 0.292921,
     "end_time": "2024-09-16T08:20:01.255508",
     "exception": false,
     "start_time": "2024-09-16T08:20:00.962587",
     "status": "completed"
    },
    "tags": []
   },
   "outputs": [
    {
     "data": {
      "text/html": [
       "<div>\n",
       "<style scoped>\n",
       "    .dataframe tbody tr th:only-of-type {\n",
       "        vertical-align: middle;\n",
       "    }\n",
       "\n",
       "    .dataframe tbody tr th {\n",
       "        vertical-align: top;\n",
       "    }\n",
       "\n",
       "    .dataframe thead th {\n",
       "        text-align: right;\n",
       "    }\n",
       "</style>\n",
       "<table border=\"1\" class=\"dataframe\">\n",
       "  <thead>\n",
       "    <tr style=\"text-align: right;\">\n",
       "      <th></th>\n",
       "      <th>id</th>\n",
       "      <th>price</th>\n",
       "    </tr>\n",
       "  </thead>\n",
       "  <tbody>\n",
       "    <tr>\n",
       "      <th>0</th>\n",
       "      <td>188533</td>\n",
       "      <td>16419.505859</td>\n",
       "    </tr>\n",
       "    <tr>\n",
       "      <th>1</th>\n",
       "      <td>188534</td>\n",
       "      <td>83983.054688</td>\n",
       "    </tr>\n",
       "    <tr>\n",
       "      <th>2</th>\n",
       "      <td>188535</td>\n",
       "      <td>52220.691406</td>\n",
       "    </tr>\n",
       "    <tr>\n",
       "      <th>3</th>\n",
       "      <td>188536</td>\n",
       "      <td>28589.988281</td>\n",
       "    </tr>\n",
       "    <tr>\n",
       "      <th>4</th>\n",
       "      <td>188537</td>\n",
       "      <td>30266.531250</td>\n",
       "    </tr>\n",
       "  </tbody>\n",
       "</table>\n",
       "</div>"
      ],
      "text/plain": [
       "       id         price\n",
       "0  188533  16419.505859\n",
       "1  188534  83983.054688\n",
       "2  188535  52220.691406\n",
       "3  188536  28589.988281\n",
       "4  188537  30266.531250"
      ]
     },
     "execution_count": 36,
     "metadata": {},
     "output_type": "execute_result"
    }
   ],
   "source": [
    "save_submission(ridge_test_preds, 'ridge', np.mean(scores['Ridge'])).head()"
   ]
  },
  {
   "cell_type": "markdown",
   "id": "04875116",
   "metadata": {
    "papermill": {
     "duration": 0.049142,
     "end_time": "2024-09-16T08:20:01.353915",
     "exception": false,
     "start_time": "2024-09-16T08:20:01.304773",
     "status": "completed"
    },
    "tags": []
   },
   "source": [
    "## Lasso\n",
    "\n",
    "Lasso is another good option when choosing a meta-model for ensembling. Similar to Ridge, Lasso is a regularized linear model. However, unlike Ridge, which includes an L2 regularization term, Lasso has an inbuilt L1 regularization. One interesting property of Lasso is that it can set a models weight to zero, meaning it essentially performs feature selection and discards the least useful features."
   ]
  },
  {
   "cell_type": "code",
   "execution_count": 37,
   "id": "38a9fe7e",
   "metadata": {
    "execution": {
     "iopub.execute_input": "2024-09-16T08:20:01.454865Z",
     "iopub.status.busy": "2024-09-16T08:20:01.454026Z",
     "iopub.status.idle": "2024-09-16T08:20:04.175167Z",
     "shell.execute_reply": "2024-09-16T08:20:04.173677Z"
    },
    "papermill": {
     "duration": 2.773903,
     "end_time": "2024-09-16T08:20:04.177546",
     "exception": false,
     "start_time": "2024-09-16T08:20:01.403643",
     "status": "completed"
    },
    "tags": []
   },
   "outputs": [
    {
     "name": "stdout",
     "output_type": "stream",
     "text": [
      "Training Lasso\n",
      "\n",
      "--- Fold 1 - RMSE: 71626\n",
      "--- Fold 2 - RMSE: 72688\n",
      "--- Fold 3 - RMSE: 72378\n",
      "--- Fold 4 - RMSE: 71648\n",
      "--- Fold 5 - RMSE: 73159\n",
      "\n",
      "Overall RMSE: 72302 ± 596\n"
     ]
    }
   ],
   "source": [
    "lasso_model = Lasso()\n",
    "lasso_trainer = Trainer(lasso_model, CFG, True)\n",
    "_, lasso_test_preds, scores['Lasso'], lasso_coeffs = lasso_trainer.fit_predict(_X, y, _X_test)"
   ]
  },
  {
   "cell_type": "code",
   "execution_count": 38,
   "id": "4388eb48",
   "metadata": {
    "execution": {
     "iopub.execute_input": "2024-09-16T08:20:04.280335Z",
     "iopub.status.busy": "2024-09-16T08:20:04.279906Z",
     "iopub.status.idle": "2024-09-16T08:20:04.693019Z",
     "shell.execute_reply": "2024-09-16T08:20:04.691993Z"
    },
    "papermill": {
     "duration": 0.466264,
     "end_time": "2024-09-16T08:20:04.695142",
     "exception": false,
     "start_time": "2024-09-16T08:20:04.228878",
     "status": "completed"
    },
    "tags": []
   },
   "outputs": [
    {
     "data": {
      "image/png": "[encoded data removed]",
      "text/plain": [
       "<Figure size 1000x400 with 1 Axes>"
      ]
     },
     "metadata": {},
     "output_type": "display_data"
    }
   ],
   "source": [
    "plot_weights('Lasso coefficients', lasso_coeffs)"
   ]
  },
  {
   "cell_type": "code",
   "execution_count": 39,
   "id": "923ae935",
   "metadata": {
    "execution": {
     "iopub.execute_input": "2024-09-16T08:20:04.799556Z",
     "iopub.status.busy": "2024-09-16T08:20:04.798520Z",
     "iopub.status.idle": "2024-09-16T08:20:05.028480Z",
     "shell.execute_reply": "2024-09-16T08:20:05.027409Z"
    },
    "papermill": {
     "duration": 0.284137,
     "end_time": "2024-09-16T08:20:05.030672",
     "exception": false,
     "start_time": "2024-09-16T08:20:04.746535",
     "status": "completed"
    },
    "tags": []
   },
   "outputs": [
    {
     "data": {
      "text/html": [
       "<div>\n",
       "<style scoped>\n",
       "    .dataframe tbody tr th:only-of-type {\n",
       "        vertical-align: middle;\n",
       "    }\n",
       "\n",
       "    .dataframe tbody tr th {\n",
       "        vertical-align: top;\n",
       "    }\n",
       "\n",
       "    .dataframe thead th {\n",
       "        text-align: right;\n",
       "    }\n",
       "</style>\n",
       "<table border=\"1\" class=\"dataframe\">\n",
       "  <thead>\n",
       "    <tr style=\"text-align: right;\">\n",
       "      <th></th>\n",
       "      <th>id</th>\n",
       "      <th>price</th>\n",
       "    </tr>\n",
       "  </thead>\n",
       "  <tbody>\n",
       "    <tr>\n",
       "      <th>0</th>\n",
       "      <td>188533</td>\n",
       "      <td>16449.412109</td>\n",
       "    </tr>\n",
       "    <tr>\n",
       "      <th>1</th>\n",
       "      <td>188534</td>\n",
       "      <td>83745.429688</td>\n",
       "    </tr>\n",
       "    <tr>\n",
       "      <th>2</th>\n",
       "      <td>188535</td>\n",
       "      <td>52264.125000</td>\n",
       "    </tr>\n",
       "    <tr>\n",
       "      <th>3</th>\n",
       "      <td>188536</td>\n",
       "      <td>28539.117188</td>\n",
       "    </tr>\n",
       "    <tr>\n",
       "      <th>4</th>\n",
       "      <td>188537</td>\n",
       "      <td>30304.632812</td>\n",
       "    </tr>\n",
       "  </tbody>\n",
       "</table>\n",
       "</div>"
      ],
      "text/plain": [
       "       id         price\n",
       "0  188533  16449.412109\n",
       "1  188534  83745.429688\n",
       "2  188535  52264.125000\n",
       "3  188536  28539.117188\n",
       "4  188537  30304.632812"
      ]
     },
     "execution_count": 39,
     "metadata": {},
     "output_type": "execute_result"
    }
   ],
   "source": [
    "save_submission(lasso_test_preds, 'lasso', np.mean(scores['Lasso'])).head()"
   ]
  },
  {
   "cell_type": "markdown",
   "id": "b7213d22",
   "metadata": {
    "papermill": {
     "duration": 0.050735,
     "end_time": "2024-09-16T08:20:05.131680",
     "exception": false,
     "start_time": "2024-09-16T08:20:05.080945",
     "status": "completed"
    },
    "tags": []
   },
   "source": [
    "## Hill climbing\n",
    "\n",
    "In my opinion, hill climbing is an underused ensembling method in competitions. It is a simple, yet effective method to create an ensemble from OOF files. I will use the implementation from a fellow Kaggler. You can learn more about this library [here](https://github.com/Matt-OP/hillclimbers/)."
   ]
  },
  {
   "cell_type": "code",
   "execution_count": 40,
   "id": "d53199c4",
   "metadata": {
    "execution": {
     "iopub.execute_input": "2024-09-16T08:20:05.233792Z",
     "iopub.status.busy": "2024-09-16T08:20:05.233014Z",
     "iopub.status.idle": "2024-09-16T08:20:05.237991Z",
     "shell.execute_reply": "2024-09-16T08:20:05.236921Z"
    },
    "papermill": {
     "duration": 0.058644,
     "end_time": "2024-09-16T08:20:05.240227",
     "exception": false,
     "start_time": "2024-09-16T08:20:05.181583",
     "status": "completed"
    },
    "tags": []
   },
   "outputs": [],
   "source": [
    "def rmse(y_true, y_pred):\n",
    "    return mean_squared_error(y_true, y_pred, squared=False)"
   ]
  },
  {
   "cell_type": "code",
   "execution_count": 41,
   "id": "a7b1fea5",
   "metadata": {
    "execution": {
     "iopub.execute_input": "2024-09-16T08:20:05.343341Z",
     "iopub.status.busy": "2024-09-16T08:20:05.342423Z",
     "iopub.status.idle": "2024-09-16T08:20:24.438205Z",
     "shell.execute_reply": "2024-09-16T08:20:24.437127Z"
    },
    "papermill": {
     "duration": 19.149779,
     "end_time": "2024-09-16T08:20:24.440435",
     "exception": false,
     "start_time": "2024-09-16T08:20:05.290656",
     "status": "completed"
    },
    "tags": []
   },
   "outputs": [
    {
     "name": "stdout",
     "output_type": "stream",
     "text": [
      "\u001b[1m\u001b[34m   /\\  \n",
      "  /__\\  hillclimbers\u001b[0m\u001b[1m \n",
      " /    \\\n",
      "/______\\ \n",
      "\u001b[0m\n",
      "\u001b[1m\u001b[33mModels to be ensembled | (5 total):\u001b[0m \n",
      "\n",
      "\u001b[1m\u001b[32mXGBoost:      72318.60799 (best solo model)\u001b[0m\n",
      "\u001b[1mCatBoost:     72355.88526\u001b[0m\n",
      "\u001b[1mXGBoost (RF): 72358.37124\u001b[0m\n",
      "\u001b[1mLightGBM:     72376.02655\u001b[0m\n",
      "\u001b[1mHistGB:       72388.48847\u001b[0m\n",
      "\n",
      "\u001b[1m\u001b[33m[Data preparation completed successfully] - [Initiate hill climbing]\u001b[0m \n",
      "\n",
      "\u001b[1m\u001b[32mIteration: 1 | Model added: CatBoost | Best weight: 0.432 | Best rmse: 72267.23454\u001b[0m\n",
      "\u001b[1m\u001b[32mIteration: 2 | Model added: XGBoost (RF) | Best weight: 0.249 | Best rmse: 72255.96349\u001b[0m\n",
      "\u001b[1m\u001b[31mIteration: 3 | Model added: HistGB | Best weight: -0.072 | Best rmse: 72255.35333\u001b[0m\n",
      "\u001b[1m\u001b[32mIteration: 4 | Model added: LightGBM | Best weight: 0.056 | Best rmse: 72254.92998\u001b[0m\n"
     ]
    },
    {
     "data": {
      "text/html": [
       "        <script type=\"text/javascript\">\n",
       "        window.PlotlyConfig = {MathJaxConfig: 'local'};\n",
       "        if (window.MathJax && window.MathJax.Hub && window.MathJax.Hub.Config) {window.MathJax.Hub.Config({SVG: {font: \"STIX-Web\"}});}\n",
       "        if (typeof require !== 'undefined') {\n",
       "        require.undef(\"plotly\");\n",
       "        requirejs.config({\n",
       "            paths: {\n",
       "                'plotly': ['https://cdn.plot.ly/plotly-2.32.0.min']\n",
       "            }\n",
       "        });\n",
       "        require(['plotly'], function(Plotly) {\n",
       "            window._Plotly = Plotly;\n",
       "        });\n",
       "        }\n",
       "        </script>\n",
       "        "
      ]
     },
     "metadata": {},
     "output_type": "display_data"
    },
    {
     "data": {
      "text/html": [
       "<div>                            <div id=\"e1f111d7-6381-4e72-b64e-d6ff9cc5d9e9\" class=\"plotly-graph-div\" style=\"height:500px; width:900px;\"></div>            <script type=\"text/javascript\">                require([\"plotly\"], function(Plotly) {                    window.PLOTLYENV=window.PLOTLYENV || {};                                    if (document.getElementById(\"e1f111d7-6381-4e72-b64e-d6ff9cc5d9e9\")) {                    Plotly.newPlot(                        \"e1f111d7-6381-4e72-b64e-d6ff9cc5d9e9\",                        [{\"hovertemplate\":\"Number of Models: %{x}\\u003cbr\\u003eCV: %{y}\",\"legendgroup\":\"\",\"line\":{\"color\":\"#009933\",\"dash\":\"solid\"},\"marker\":{\"symbol\":\"circle\",\"line\":{\"color\":\"#FFFFFF\",\"width\":1.5},\"color\":\"#33cc33\",\"size\":10},\"mode\":\"lines+markers+text\",\"name\":\"\",\"orientation\":\"v\",\"showlegend\":false,\"text\":[72318.60799,72267.23454,72255.96349,72255.35333,72254.92998],\"x\":[1,2,3,4,5],\"xaxis\":\"x\",\"y\":[72318.60799362695,72267.23453770067,72255.96348893053,72255.35333051789,72254.9299813215],\"yaxis\":\"y\",\"type\":\"scatter\",\"textfont\":{\"size\":10},\"textposition\":\"top center\"}],                        {\"template\":{\"data\":{\"barpolar\":[{\"marker\":{\"line\":{\"color\":\"rgb(17,17,17)\",\"width\":0.5},\"pattern\":{\"fillmode\":\"overlay\",\"size\":10,\"solidity\":0.2}},\"type\":\"barpolar\"}],\"bar\":[{\"error_x\":{\"color\":\"#f2f5fa\"},\"error_y\":{\"color\":\"#f2f5fa\"},\"marker\":{\"line\":{\"color\":\"rgb(17,17,17)\",\"width\":0.5},\"pattern\":{\"fillmode\":\"overlay\",\"size\":10,\"solidity\":0.2}},\"type\":\"bar\"}],\"carpet\":[{\"aaxis\":{\"endlinecolor\":\"#A2B1C6\",\"gridcolor\":\"#506784\",\"linecolor\":\"#506784\",\"minorgridcolor\":\"#506784\",\"startlinecolor\":\"#A2B1C6\"},\"baxis\":{\"endlinecolor\":\"#A2B1C6\",\"gridcolor\":\"#506784\",\"linecolor\":\"#506784\",\"minorgridcolor\":\"#506784\",\"startlinecolor\":\"#A2B1C6\"},\"type\":\"carpet\"}],\"choropleth\":[{\"colorbar\":{\"outlinewidth\":0,\"ticks\":\"\"},\"type\":\"choropleth\"}],\"contourcarpet\":[{\"colorbar\":{\"outlinewidth\":0,\"ticks\":\"\"},\"type\":\"contourcarpet\"}],\"contour\":[{\"colorbar\":{\"outlinewidth\":0,\"ticks\":\"\"},\"colorscale\":[[0.0,\"#0d0887\"],[0.1111111111111111,\"#46039f\"],[0.2222222222222222,\"#7201a8\"],[0.3333333333333333,\"#9c179e\"],[0.4444444444444444,\"#bd3786\"],[0.5555555555555556,\"#d8576b\"],[0.6666666666666666,\"#ed7953\"],[0.7777777777777778,\"#fb9f3a\"],[0.8888888888888888,\"#fdca26\"],[1.0,\"#f0f921\"]],\"type\":\"contour\"}],\"heatmapgl\":[{\"colorbar\":{\"outlinewidth\":0,\"ticks\":\"\"},\"colorscale\":[[0.0,\"#0d0887\"],[0.1111111111111111,\"#46039f\"],[0.2222222222222222,\"#7201a8\"],[0.3333333333333333,\"#9c179e\"],[0.4444444444444444,\"#bd3786\"],[0.5555555555555556,\"#d8576b\"],[0.6666666666666666,\"#ed7953\"],[0.7777777777777778,\"#fb9f3a\"],[0.8888888888888888,\"#fdca26\"],[1.0,\"#f0f921\"]],\"type\":\"heatmapgl\"}],\"heatmap\":[{\"colorbar\":{\"outlinewidth\":0,\"ticks\":\"\"},\"colorscale\":[[0.0,\"#0d0887\"],[0.1111111111111111,\"#46039f\"],[0.2222222222222222,\"#7201a8\"],[0.3333333333333333,\"#9c179e\"],[0.4444444444444444,\"#bd3786\"],[0.5555555555555556,\"#d8576b\"],[0.6666666666666666,\"#ed7953\"],[0.7777777777777778,\"#fb9f3a\"],[0.8888888888888888,\"#fdca26\"],[1.0,\"#f0f921\"]],\"type\":\"heatmap\"}],\"histogram2dcontour\":[{\"colorbar\":{\"outlinewidth\":0,\"ticks\":\"\"},\"colorscale\":[[0.0,\"#0d0887\"],[0.1111111111111111,\"#46039f\"],[0.2222222222222222,\"#7201a8\"],[0.3333333333333333,\"#9c179e\"],[0.4444444444444444,\"#bd3786\"],[0.5555555555555556,\"#d8576b\"],[0.6666666666666666,\"#ed7953\"],[0.7777777777777778,\"#fb9f3a\"],[0.8888888888888888,\"#fdca26\"],[1.0,\"#f0f921\"]],\"type\":\"histogram2dcontour\"}],\"histogram2d\":[{\"colorbar\":{\"outlinewidth\":0,\"ticks\":\"\"},\"colorscale\":[[0.0,\"#0d0887\"],[0.1111111111111111,\"#46039f\"],[0.2222222222222222,\"#7201a8\"],[0.3333333333333333,\"#9c179e\"],[0.4444444444444444,\"#bd3786\"],[0.5555555555555556,\"#d8576b\"],[0.6666666666666666,\"#ed7953\"],[0.7777777777777778,\"#fb9f3a\"],[0.8888888888888888,\"#fdca26\"],[1.0,\"#f0f921\"]],\"type\":\"histogram2d\"}],\"histogram\":[{\"marker\":{\"pattern\":{\"fillmode\":\"overlay\",\"size\":10,\"solidity\":0.2}},\"type\":\"histogram\"}],\"mesh3d\":[{\"colorbar\":{\"outlinewidth\":0,\"ticks\":\"\"},\"type\":\"mesh3d\"}],\"parcoords\":[{\"line\":{\"colorbar\":{\"outlinewidth\":0,\"ticks\":\"\"}},\"type\":\"parcoords\"}],\"pie\":[{\"automargin\":true,\"type\":\"pie\"}],\"scatter3d\":[{\"line\":{\"colorbar\":{\"outlinewidth\":0,\"ticks\":\"\"}},\"marker\":{\"colorbar\":{\"outlinewidth\":0,\"ticks\":\"\"}},\"type\":\"scatter3d\"}],\"scattercarpet\":[{\"marker\":{\"colorbar\":{\"outlinewidth\":0,\"ticks\":\"\"}},\"type\":\"scattercarpet\"}],\"scattergeo\":[{\"marker\":{\"colorbar\":{\"outlinewidth\":0,\"ticks\":\"\"}},\"type\":\"scattergeo\"}],\"scattergl\":[{\"marker\":{\"line\":{\"color\":\"#283442\"}},\"type\":\"scattergl\"}],\"scattermapbox\":[{\"marker\":{\"colorbar\":{\"outlinewidth\":0,\"ticks\":\"\"}},\"type\":\"scattermapbox\"}],\"scatterpolargl\":[{\"marker\":{\"colorbar\":{\"outlinewidth\":0,\"ticks\":\"\"}},\"type\":\"scatterpolargl\"}],\"scatterpolar\":[{\"marker\":{\"colorbar\":{\"outlinewidth\":0,\"ticks\":\"\"}},\"type\":\"scatterpolar\"}],\"scatter\":[{\"marker\":{\"line\":{\"color\":\"#283442\"}},\"type\":\"scatter\"}],\"scatterternary\":[{\"marker\":{\"colorbar\":{\"outlinewidth\":0,\"ticks\":\"\"}},\"type\":\"scatterternary\"}],\"surface\":[{\"colorbar\":{\"outlinewidth\":0,\"ticks\":\"\"},\"colorscale\":[[0.0,\"#0d0887\"],[0.1111111111111111,\"#46039f\"],[0.2222222222222222,\"#7201a8\"],[0.3333333333333333,\"#9c179e\"],[0.4444444444444444,\"#bd3786\"],[0.5555555555555556,\"#d8576b\"],[0.6666666666666666,\"#ed7953\"],[0.7777777777777778,\"#fb9f3a\"],[0.8888888888888888,\"#fdca26\"],[1.0,\"#f0f921\"]],\"type\":\"surface\"}],\"table\":[{\"cells\":{\"fill\":{\"color\":\"#506784\"},\"line\":{\"color\":\"rgb(17,17,17)\"}},\"header\":{\"fill\":{\"color\":\"#2a3f5f\"},\"line\":{\"color\":\"rgb(17,17,17)\"}},\"type\":\"table\"}]},\"layout\":{\"annotationdefaults\":{\"arrowcolor\":\"#f2f5fa\",\"arrowhead\":0,\"arrowwidth\":1},\"autotypenumbers\":\"strict\",\"coloraxis\":{\"colorbar\":{\"outlinewidth\":0,\"ticks\":\"\"}},\"colorscale\":{\"diverging\":[[0,\"#8e0152\"],[0.1,\"#c51b7d\"],[0.2,\"#de77ae\"],[0.3,\"#f1b6da\"],[0.4,\"#fde0ef\"],[0.5,\"#f7f7f7\"],[0.6,\"#e6f5d0\"],[0.7,\"#b8e186\"],[0.8,\"#7fbc41\"],[0.9,\"#4d9221\"],[1,\"#276419\"]],\"sequential\":[[0.0,\"#0d0887\"],[0.1111111111111111,\"#46039f\"],[0.2222222222222222,\"#7201a8\"],[0.3333333333333333,\"#9c179e\"],[0.4444444444444444,\"#bd3786\"],[0.5555555555555556,\"#d8576b\"],[0.6666666666666666,\"#ed7953\"],[0.7777777777777778,\"#fb9f3a\"],[0.8888888888888888,\"#fdca26\"],[1.0,\"#f0f921\"]],\"sequentialminus\":[[0.0,\"#0d0887\"],[0.1111111111111111,\"#46039f\"],[0.2222222222222222,\"#7201a8\"],[0.3333333333333333,\"#9c179e\"],[0.4444444444444444,\"#bd3786\"],[0.5555555555555556,\"#d8576b\"],[0.6666666666666666,\"#ed7953\"],[0.7777777777777778,\"#fb9f3a\"],[0.8888888888888888,\"#fdca26\"],[1.0,\"#f0f921\"]]},\"colorway\":[\"#636efa\",\"#EF553B\",\"#00cc96\",\"#ab63fa\",\"#FFA15A\",\"#19d3f3\",\"#FF6692\",\"#B6E880\",\"#FF97FF\",\"#FECB52\"],\"font\":{\"color\":\"#f2f5fa\"},\"geo\":{\"bgcolor\":\"rgb(17,17,17)\",\"lakecolor\":\"rgb(17,17,17)\",\"landcolor\":\"rgb(17,17,17)\",\"showlakes\":true,\"showland\":true,\"subunitcolor\":\"#506784\"},\"hoverlabel\":{\"align\":\"left\"},\"hovermode\":\"closest\",\"mapbox\":{\"style\":\"dark\"},\"paper_bgcolor\":\"rgb(17,17,17)\",\"plot_bgcolor\":\"rgb(17,17,17)\",\"polar\":{\"angularaxis\":{\"gridcolor\":\"#506784\",\"linecolor\":\"#506784\",\"ticks\":\"\"},\"bgcolor\":\"rgb(17,17,17)\",\"radialaxis\":{\"gridcolor\":\"#506784\",\"linecolor\":\"#506784\",\"ticks\":\"\"}},\"scene\":{\"xaxis\":{\"backgroundcolor\":\"rgb(17,17,17)\",\"gridcolor\":\"#506784\",\"gridwidth\":2,\"linecolor\":\"#506784\",\"showbackground\":true,\"ticks\":\"\",\"zerolinecolor\":\"#C8D4E3\"},\"yaxis\":{\"backgroundcolor\":\"rgb(17,17,17)\",\"gridcolor\":\"#506784\",\"gridwidth\":2,\"linecolor\":\"#506784\",\"showbackground\":true,\"ticks\":\"\",\"zerolinecolor\":\"#C8D4E3\"},\"zaxis\":{\"backgroundcolor\":\"rgb(17,17,17)\",\"gridcolor\":\"#506784\",\"gridwidth\":2,\"linecolor\":\"#506784\",\"showbackground\":true,\"ticks\":\"\",\"zerolinecolor\":\"#C8D4E3\"}},\"shapedefaults\":{\"line\":{\"color\":\"#f2f5fa\"}},\"sliderdefaults\":{\"bgcolor\":\"#C8D4E3\",\"bordercolor\":\"rgb(17,17,17)\",\"borderwidth\":1,\"tickwidth\":0},\"ternary\":{\"aaxis\":{\"gridcolor\":\"#506784\",\"linecolor\":\"#506784\",\"ticks\":\"\"},\"baxis\":{\"gridcolor\":\"#506784\",\"linecolor\":\"#506784\",\"ticks\":\"\"},\"bgcolor\":\"rgb(17,17,17)\",\"caxis\":{\"gridcolor\":\"#506784\",\"linecolor\":\"#506784\",\"ticks\":\"\"}},\"title\":{\"x\":0.05},\"updatemenudefaults\":{\"bgcolor\":\"#506784\",\"borderwidth\":0},\"xaxis\":{\"automargin\":true,\"gridcolor\":\"#283442\",\"linecolor\":\"#506784\",\"ticks\":\"\",\"title\":{\"standoff\":15},\"zerolinecolor\":\"#283442\",\"zerolinewidth\":2},\"yaxis\":{\"automargin\":true,\"gridcolor\":\"#283442\",\"linecolor\":\"#506784\",\"ticks\":\"\",\"title\":{\"standoff\":15},\"zerolinecolor\":\"#283442\",\"zerolinewidth\":2}}},\"xaxis\":{\"anchor\":\"y\",\"domain\":[0.0,1.0],\"title\":{\"text\":\"Number of models\"},\"tickmode\":\"array\",\"tickvals\":[1,2,3,4,5]},\"yaxis\":{\"anchor\":\"x\",\"domain\":[0.0,1.0],\"title\":{\"text\":\"rmse\"}},\"legend\":{\"tracegroupgap\":0},\"title\":{\"text\":\"Cross Validation rmse vs. Number of Models with Hill Climbing\"},\"autosize\":false,\"width\":900,\"height\":500},                        {\"responsive\": true}                    ).then(function(){\n",
       "                            \n",
       "var gd = document.getElementById('e1f111d7-6381-4e72-b64e-d6ff9cc5d9e9');\n",
       "var x = new MutationObserver(function (mutations, observer) {{\n",
       "        var display = window.getComputedStyle(gd).display;\n",
       "        if (!display || display === 'none') {{\n",
       "            console.log([gd, 'removed!']);\n",
       "            Plotly.purge(gd);\n",
       "            observer.disconnect();\n",
       "        }}\n",
       "}});\n",
       "\n",
       "// Listen for the removal of the full notebook cells\n",
       "var notebookContainer = gd.closest('#notebook-container');\n",
       "if (notebookContainer) {{\n",
       "    x.observe(notebookContainer, {childList: true});\n",
       "}}\n",
       "\n",
       "// Listen for the clearing of the current output cell\n",
       "var outputEl = gd.closest('.output');\n",
       "if (outputEl) {{\n",
       "    x.observe(outputEl, {childList: true});\n",
       "}}\n",
       "\n",
       "                        })                };                });            </script>        </div>"
      ]
     },
     "metadata": {},
     "output_type": "display_data"
    }
   ],
   "source": [
    "hc_test_preds, hc_oof_preds = climb_hill(\n",
    "    train=train, \n",
    "    oof_pred_df=pd.DataFrame(oof_preds), \n",
    "    test_pred_df=pd.DataFrame(test_preds),\n",
    "    target=CFG.target,\n",
    "    objective='minimize', \n",
    "    eval_metric=partial(rmse),\n",
    "    negative_weights=True, \n",
    "    precision=0.001, \n",
    "    plot_hill=True, \n",
    "    plot_hist=False,\n",
    "    return_oof_preds=True\n",
    ")"
   ]
  },
  {
   "cell_type": "code",
   "execution_count": 42,
   "id": "fd28e0af",
   "metadata": {
    "execution": {
     "iopub.execute_input": "2024-09-16T08:20:24.544073Z",
     "iopub.status.busy": "2024-09-16T08:20:24.543653Z",
     "iopub.status.idle": "2024-09-16T08:20:24.550972Z",
     "shell.execute_reply": "2024-09-16T08:20:24.549764Z"
    },
    "papermill": {
     "duration": 0.061705,
     "end_time": "2024-09-16T08:20:24.553268",
     "exception": false,
     "start_time": "2024-09-16T08:20:24.491563",
     "status": "completed"
    },
    "tags": []
   },
   "outputs": [],
   "source": [
    "hc_score = mean_squared_error(hc_oof_preds, y, squared=False)\n",
    "scores['Hill Climbing'] = [hc_score] * CFG.n_folds"
   ]
  },
  {
   "cell_type": "code",
   "execution_count": 43,
   "id": "837a2094",
   "metadata": {
    "execution": {
     "iopub.execute_input": "2024-09-16T08:20:24.657518Z",
     "iopub.status.busy": "2024-09-16T08:20:24.657097Z",
     "iopub.status.idle": "2024-09-16T08:20:24.894208Z",
     "shell.execute_reply": "2024-09-16T08:20:24.893156Z"
    },
    "papermill": {
     "duration": 0.292145,
     "end_time": "2024-09-16T08:20:24.896422",
     "exception": false,
     "start_time": "2024-09-16T08:20:24.604277",
     "status": "completed"
    },
    "tags": []
   },
   "outputs": [
    {
     "data": {
      "text/html": [
       "<div>\n",
       "<style scoped>\n",
       "    .dataframe tbody tr th:only-of-type {\n",
       "        vertical-align: middle;\n",
       "    }\n",
       "\n",
       "    .dataframe tbody tr th {\n",
       "        vertical-align: top;\n",
       "    }\n",
       "\n",
       "    .dataframe thead th {\n",
       "        text-align: right;\n",
       "    }\n",
       "</style>\n",
       "<table border=\"1\" class=\"dataframe\">\n",
       "  <thead>\n",
       "    <tr style=\"text-align: right;\">\n",
       "      <th></th>\n",
       "      <th>id</th>\n",
       "      <th>price</th>\n",
       "    </tr>\n",
       "  </thead>\n",
       "  <tbody>\n",
       "    <tr>\n",
       "      <th>0</th>\n",
       "      <td>188533</td>\n",
       "      <td>16809.089844</td>\n",
       "    </tr>\n",
       "    <tr>\n",
       "      <th>1</th>\n",
       "      <td>188534</td>\n",
       "      <td>82756.195312</td>\n",
       "    </tr>\n",
       "    <tr>\n",
       "      <th>2</th>\n",
       "      <td>188535</td>\n",
       "      <td>52080.832031</td>\n",
       "    </tr>\n",
       "    <tr>\n",
       "      <th>3</th>\n",
       "      <td>188536</td>\n",
       "      <td>28385.003906</td>\n",
       "    </tr>\n",
       "    <tr>\n",
       "      <th>4</th>\n",
       "      <td>188537</td>\n",
       "      <td>30472.876953</td>\n",
       "    </tr>\n",
       "  </tbody>\n",
       "</table>\n",
       "</div>"
      ],
      "text/plain": [
       "       id         price\n",
       "0  188533  16809.089844\n",
       "1  188534  82756.195312\n",
       "2  188535  52080.832031\n",
       "3  188536  28385.003906\n",
       "4  188537  30472.876953"
      ]
     },
     "execution_count": 43,
     "metadata": {},
     "output_type": "execute_result"
    }
   ],
   "source": [
    "save_submission(hc_test_preds, 'hill-climbing', hc_score).head()"
   ]
  },
  {
   "cell_type": "markdown",
   "id": "dc8a8a7d",
   "metadata": {
    "papermill": {
     "duration": 0.051605,
     "end_time": "2024-09-16T08:20:24.999276",
     "exception": false,
     "start_time": "2024-09-16T08:20:24.947671",
     "status": "completed"
    },
    "tags": []
   },
   "source": [
    "## Voting\n",
    "\n",
    "The methods shown previously all use OOF predictions and are generally faster ways to ensemble. Voting, however, re-fits each model that it is given from scratch. The regression version of the voting model averages the predictions from the base models. It can also accept a list of weights and compute the weighted average. It is not very different from the simple averaging model shown earlier."
   ]
  },
  {
   "cell_type": "code",
   "execution_count": 44,
   "id": "bf8acecc",
   "metadata": {
    "execution": {
     "iopub.execute_input": "2024-09-16T08:20:25.104831Z",
     "iopub.status.busy": "2024-09-16T08:20:25.104391Z",
     "iopub.status.idle": "2024-09-16T08:20:25.110515Z",
     "shell.execute_reply": "2024-09-16T08:20:25.109429Z"
    },
    "papermill": {
     "duration": 0.06168,
     "end_time": "2024-09-16T08:20:25.112667",
     "exception": false,
     "start_time": "2024-09-16T08:20:25.050987",
     "status": "completed"
    },
    "tags": []
   },
   "outputs": [],
   "source": [
    "estimators = [\n",
    "    ('LightGBM', lgbm_model),\n",
    "    ('XGBoost', xgb_model),\n",
    "    ('XGBoost(rf)', xgbrf_model),\n",
    "    ('CatBoost', cb_model),\n",
    "    ('HistGB', hgb_model),\n",
    "]"
   ]
  },
  {
   "cell_type": "code",
   "execution_count": 45,
   "id": "fd5d979c",
   "metadata": {
    "execution": {
     "iopub.execute_input": "2024-09-16T08:20:25.217204Z",
     "iopub.status.busy": "2024-09-16T08:20:25.216788Z",
     "iopub.status.idle": "2024-09-16T08:25:56.984756Z",
     "shell.execute_reply": "2024-09-16T08:25:56.983665Z"
    },
    "papermill": {
     "duration": 331.876225,
     "end_time": "2024-09-16T08:25:57.040543",
     "exception": false,
     "start_time": "2024-09-16T08:20:25.164318",
     "status": "completed"
    },
    "tags": []
   },
   "outputs": [
    {
     "name": "stdout",
     "output_type": "stream",
     "text": [
      "Training VotingRegressor\n",
      "\n",
      "--- Fold 1 - RMSE: 71603\n",
      "--- Fold 2 - RMSE: 72662\n",
      "--- Fold 3 - RMSE: 72362\n",
      "--- Fold 4 - RMSE: 71667\n",
      "--- Fold 5 - RMSE: 73047\n",
      "\n",
      "Overall RMSE: 72270 ± 561\n"
     ]
    }
   ],
   "source": [
    "voting_model = VotingRegressor(estimators=estimators)\n",
    "voting_trainer = Trainer(voting_model, CFG)\n",
    "_, voting_test_preds, scores['Voting'] = voting_trainer.fit_predict(X, y, X_test)"
   ]
  },
  {
   "cell_type": "code",
   "execution_count": 46,
   "id": "2384275d",
   "metadata": {
    "execution": {
     "iopub.execute_input": "2024-09-16T08:25:57.152532Z",
     "iopub.status.busy": "2024-09-16T08:25:57.152088Z",
     "iopub.status.idle": "2024-09-16T08:25:57.393529Z",
     "shell.execute_reply": "2024-09-16T08:25:57.392490Z"
    },
    "papermill": {
     "duration": 0.299777,
     "end_time": "2024-09-16T08:25:57.396294",
     "exception": false,
     "start_time": "2024-09-16T08:25:57.096517",
     "status": "completed"
    },
    "tags": []
   },
   "outputs": [
    {
     "data": {
      "text/html": [
       "<div>\n",
       "<style scoped>\n",
       "    .dataframe tbody tr th:only-of-type {\n",
       "        vertical-align: middle;\n",
       "    }\n",
       "\n",
       "    .dataframe tbody tr th {\n",
       "        vertical-align: top;\n",
       "    }\n",
       "\n",
       "    .dataframe thead th {\n",
       "        text-align: right;\n",
       "    }\n",
       "</style>\n",
       "<table border=\"1\" class=\"dataframe\">\n",
       "  <thead>\n",
       "    <tr style=\"text-align: right;\">\n",
       "      <th></th>\n",
       "      <th>id</th>\n",
       "      <th>price</th>\n",
       "    </tr>\n",
       "  </thead>\n",
       "  <tbody>\n",
       "    <tr>\n",
       "      <th>0</th>\n",
       "      <td>188533</td>\n",
       "      <td>17300.671875</td>\n",
       "    </tr>\n",
       "    <tr>\n",
       "      <th>1</th>\n",
       "      <td>188534</td>\n",
       "      <td>83313.531250</td>\n",
       "    </tr>\n",
       "    <tr>\n",
       "      <th>2</th>\n",
       "      <td>188535</td>\n",
       "      <td>51707.992188</td>\n",
       "    </tr>\n",
       "    <tr>\n",
       "      <th>3</th>\n",
       "      <td>188536</td>\n",
       "      <td>29496.044922</td>\n",
       "    </tr>\n",
       "    <tr>\n",
       "      <th>4</th>\n",
       "      <td>188537</td>\n",
       "      <td>30529.115234</td>\n",
       "    </tr>\n",
       "  </tbody>\n",
       "</table>\n",
       "</div>"
      ],
      "text/plain": [
       "       id         price\n",
       "0  188533  17300.671875\n",
       "1  188534  83313.531250\n",
       "2  188535  51707.992188\n",
       "3  188536  29496.044922\n",
       "4  188537  30529.115234"
      ]
     },
     "execution_count": 46,
     "metadata": {},
     "output_type": "execute_result"
    }
   ],
   "source": [
    "save_submission(voting_test_preds, 'voting', np.mean(scores['Voting'])).head()"
   ]
  },
  {
   "cell_type": "code",
   "execution_count": 47,
   "id": "7e044ff9",
   "metadata": {
    "execution": {
     "iopub.execute_input": "2024-09-16T08:25:57.508371Z",
     "iopub.status.busy": "2024-09-16T08:25:57.507958Z",
     "iopub.status.idle": "2024-09-16T08:31:30.138008Z",
     "shell.execute_reply": "2024-09-16T08:31:30.136598Z"
    },
    "papermill": {
     "duration": 332.748811,
     "end_time": "2024-09-16T08:31:30.198829",
     "exception": false,
     "start_time": "2024-09-16T08:25:57.450018",
     "status": "completed"
    },
    "tags": []
   },
   "outputs": [
    {
     "name": "stdout",
     "output_type": "stream",
     "text": [
      "Training VotingRegressor\n",
      "\n",
      "--- Fold 1 - RMSE: 71619\n",
      "--- Fold 2 - RMSE: 72570\n",
      "--- Fold 3 - RMSE: 72352\n",
      "--- Fold 4 - RMSE: 71618\n",
      "--- Fold 5 - RMSE: 73101\n",
      "\n",
      "Overall RMSE: 72254 ± 572\n"
     ]
    }
   ],
   "source": [
    "weighted_voting_model = VotingRegressor(estimators=estimators, weights=best_weights)\n",
    "weighted_voting_trainer = Trainer(weighted_voting_model, CFG)\n",
    "_, weighted_voting_test_preds, scores['Weighted Voting'] = weighted_voting_trainer.fit_predict(X, y, X_test)"
   ]
  },
  {
   "cell_type": "code",
   "execution_count": 48,
   "id": "4d818e8e",
   "metadata": {
    "execution": {
     "iopub.execute_input": "2024-09-16T08:31:30.313747Z",
     "iopub.status.busy": "2024-09-16T08:31:30.313285Z",
     "iopub.status.idle": "2024-09-16T08:31:30.557994Z",
     "shell.execute_reply": "2024-09-16T08:31:30.556792Z"
    },
    "papermill": {
     "duration": 0.305153,
     "end_time": "2024-09-16T08:31:30.560392",
     "exception": false,
     "start_time": "2024-09-16T08:31:30.255239",
     "status": "completed"
    },
    "tags": []
   },
   "outputs": [
    {
     "data": {
      "text/html": [
       "<div>\n",
       "<style scoped>\n",
       "    .dataframe tbody tr th:only-of-type {\n",
       "        vertical-align: middle;\n",
       "    }\n",
       "\n",
       "    .dataframe tbody tr th {\n",
       "        vertical-align: top;\n",
       "    }\n",
       "\n",
       "    .dataframe thead th {\n",
       "        text-align: right;\n",
       "    }\n",
       "</style>\n",
       "<table border=\"1\" class=\"dataframe\">\n",
       "  <thead>\n",
       "    <tr style=\"text-align: right;\">\n",
       "      <th></th>\n",
       "      <th>id</th>\n",
       "      <th>price</th>\n",
       "    </tr>\n",
       "  </thead>\n",
       "  <tbody>\n",
       "    <tr>\n",
       "      <th>0</th>\n",
       "      <td>188533</td>\n",
       "      <td>16957.039062</td>\n",
       "    </tr>\n",
       "    <tr>\n",
       "      <th>1</th>\n",
       "      <td>188534</td>\n",
       "      <td>82339.867188</td>\n",
       "    </tr>\n",
       "    <tr>\n",
       "      <th>2</th>\n",
       "      <td>188535</td>\n",
       "      <td>52180.089844</td>\n",
       "    </tr>\n",
       "    <tr>\n",
       "      <th>3</th>\n",
       "      <td>188536</td>\n",
       "      <td>28530.253906</td>\n",
       "    </tr>\n",
       "    <tr>\n",
       "      <th>4</th>\n",
       "      <td>188537</td>\n",
       "      <td>30598.181641</td>\n",
       "    </tr>\n",
       "  </tbody>\n",
       "</table>\n",
       "</div>"
      ],
      "text/plain": [
       "       id         price\n",
       "0  188533  16957.039062\n",
       "1  188534  82339.867188\n",
       "2  188535  52180.089844\n",
       "3  188536  28530.253906\n",
       "4  188537  30598.181641"
      ]
     },
     "execution_count": 48,
     "metadata": {},
     "output_type": "execute_result"
    }
   ],
   "source": [
    "save_submission(weighted_voting_test_preds, 'weighted-voting', np.mean(scores['Weighted Voting'])).head()"
   ]
  },
  {
   "cell_type": "markdown",
   "id": "f984ed6f",
   "metadata": {
    "papermill": {
     "duration": 0.05228,
     "end_time": "2024-09-16T08:31:30.665971",
     "exception": false,
     "start_time": "2024-09-16T08:31:30.613691",
     "status": "completed"
    },
    "tags": []
   },
   "source": [
    "## Stacking\n",
    "\n",
    "Similar to a voting model, a stacking model re-fits a list of models from scratch, and ensembles their predictions. However, unlike voting, it is more complex and uses a meta-model to learn the best combination of the features instead of simply averaging the predictions. Under the hood, it uses `RidgeCV` to ensemble predictions of the base models, however, its meta-model is configurable and can be changed. Here, I will just leave it with the default parameters."
   ]
  },
  {
   "cell_type": "code",
   "execution_count": 49,
   "id": "b6de1dac",
   "metadata": {
    "execution": {
     "iopub.execute_input": "2024-09-16T08:31:30.774566Z",
     "iopub.status.busy": "2024-09-16T08:31:30.774138Z",
     "iopub.status.idle": "2024-09-16T08:54:40.585336Z",
     "shell.execute_reply": "2024-09-16T08:54:40.583314Z"
    },
    "papermill": {
     "duration": 1389.925456,
     "end_time": "2024-09-16T08:54:40.644338",
     "exception": false,
     "start_time": "2024-09-16T08:31:30.718882",
     "status": "completed"
    },
    "tags": []
   },
   "outputs": [
    {
     "name": "stdout",
     "output_type": "stream",
     "text": [
      "Training StackingRegressor\n",
      "\n",
      "--- Fold 1 - RMSE: 71637\n",
      "--- Fold 2 - RMSE: 72783\n",
      "--- Fold 3 - RMSE: 72389\n",
      "--- Fold 4 - RMSE: 71710\n",
      "--- Fold 5 - RMSE: 73184\n",
      "\n",
      "Overall RMSE: 72343 ± 600\n"
     ]
    }
   ],
   "source": [
    "stacking_model = StackingRegressor(estimators=estimators)\n",
    "stacking_trainer = Trainer(stacking_model, CFG)\n",
    "_, stacking_test_preds, scores['Stacking'] = stacking_trainer.fit_predict(X, y, X_test)"
   ]
  },
  {
   "cell_type": "code",
   "execution_count": 50,
   "id": "19c7965e",
   "metadata": {
    "execution": {
     "iopub.execute_input": "2024-09-16T08:54:40.758687Z",
     "iopub.status.busy": "2024-09-16T08:54:40.758258Z",
     "iopub.status.idle": "2024-09-16T08:54:41.036561Z",
     "shell.execute_reply": "2024-09-16T08:54:41.035207Z"
    },
    "papermill": {
     "duration": 0.340549,
     "end_time": "2024-09-16T08:54:41.038989",
     "exception": false,
     "start_time": "2024-09-16T08:54:40.698440",
     "status": "completed"
    },
    "tags": []
   },
   "outputs": [
    {
     "data": {
      "text/html": [
       "<div>\n",
       "<style scoped>\n",
       "    .dataframe tbody tr th:only-of-type {\n",
       "        vertical-align: middle;\n",
       "    }\n",
       "\n",
       "    .dataframe tbody tr th {\n",
       "        vertical-align: top;\n",
       "    }\n",
       "\n",
       "    .dataframe thead th {\n",
       "        text-align: right;\n",
       "    }\n",
       "</style>\n",
       "<table border=\"1\" class=\"dataframe\">\n",
       "  <thead>\n",
       "    <tr style=\"text-align: right;\">\n",
       "      <th></th>\n",
       "      <th>id</th>\n",
       "      <th>price</th>\n",
       "    </tr>\n",
       "  </thead>\n",
       "  <tbody>\n",
       "    <tr>\n",
       "      <th>0</th>\n",
       "      <td>188533</td>\n",
       "      <td>16976.775391</td>\n",
       "    </tr>\n",
       "    <tr>\n",
       "      <th>1</th>\n",
       "      <td>188534</td>\n",
       "      <td>82286.851562</td>\n",
       "    </tr>\n",
       "    <tr>\n",
       "      <th>2</th>\n",
       "      <td>188535</td>\n",
       "      <td>52486.304688</td>\n",
       "    </tr>\n",
       "    <tr>\n",
       "      <th>3</th>\n",
       "      <td>188536</td>\n",
       "      <td>29086.115234</td>\n",
       "    </tr>\n",
       "    <tr>\n",
       "      <th>4</th>\n",
       "      <td>188537</td>\n",
       "      <td>30606.152344</td>\n",
       "    </tr>\n",
       "  </tbody>\n",
       "</table>\n",
       "</div>"
      ],
      "text/plain": [
       "       id         price\n",
       "0  188533  16976.775391\n",
       "1  188534  82286.851562\n",
       "2  188535  52486.304688\n",
       "3  188536  29086.115234\n",
       "4  188537  30606.152344"
      ]
     },
     "execution_count": 50,
     "metadata": {},
     "output_type": "execute_result"
    }
   ],
   "source": [
    "save_submission(stacking_test_preds, 'stacking', np.mean(scores['Stacking'])).head()"
   ]
  },
  {
   "cell_type": "markdown",
   "id": "52a49f7e",
   "metadata": {
    "papermill": {
     "duration": 0.056806,
     "end_time": "2024-09-16T08:54:41.150874",
     "exception": false,
     "start_time": "2024-09-16T08:54:41.094068",
     "status": "completed"
    },
    "tags": []
   },
   "source": [
    "# Results"
   ]
  },
  {
   "cell_type": "markdown",
   "id": "5ad63ea3",
   "metadata": {
    "papermill": {
     "duration": 0.056062,
     "end_time": "2024-09-16T08:54:41.262223",
     "exception": false,
     "start_time": "2024-09-16T08:54:41.206161",
     "status": "completed"
    },
    "tags": []
   },
   "source": [
    "We can see that all of the ensemble models achieve better scores than the individual models. The difference is not much, but it is enough to give you an edge in the competition. \n",
    "\n",
    "We can also see that the models that average the prediction are slightly better than the models that use a meta-model. This is not a general outcome that is expected, but just a result that is achieved on this dataset. Some ensembling methods work better than others, and there are no general rules for what works best. One has to experiment with different methods and choose an ensembling technique that suits the competition."
   ]
  },
  {
   "cell_type": "code",
   "execution_count": 51,
   "id": "ba301f81",
   "metadata": {
    "execution": {
     "iopub.execute_input": "2024-09-16T08:54:41.380030Z",
     "iopub.status.busy": "2024-09-16T08:54:41.379626Z",
     "iopub.status.idle": "2024-09-16T08:54:42.275507Z",
     "shell.execute_reply": "2024-09-16T08:54:42.273278Z"
    },
    "papermill": {
     "duration": 0.959337,
     "end_time": "2024-09-16T08:54:42.279777",
     "exception": false,
     "start_time": "2024-09-16T08:54:41.320440",
     "status": "completed"
    },
    "tags": []
   },
   "outputs": [
    {
     "data": {
      "image/png": "[encoded data removed]",
      "text/plain": [
       "<Figure size 1500x500 with 2 Axes>"
      ]
     },
     "metadata": {},
     "output_type": "display_data"
    }
   ],
   "source": [
    "scores = pd.DataFrame(scores)\n",
    "mean_scores = scores.mean().sort_values(ascending=True)\n",
    "order = scores.mean().sort_values(ascending=True).index.tolist()\n",
    "\n",
    "min_score = mean_scores.min()\n",
    "max_score = mean_scores.max()\n",
    "padding = (max_score - min_score) * 0.5\n",
    "lower_limit = min_score - padding\n",
    "upper_limit = max_score + padding\n",
    "\n",
    "fig, axs = plt.subplots(1, 2, figsize=(15, 5))\n",
    "\n",
    "sns.boxplot(data=scores, order=order, ax=axs[0], orient='h', palette=\"RdYlGn_r\")\n",
    "axs[0].set_title('Fold RMSE')\n",
    "axs[0].set_xlabel('')\n",
    "axs[0].set_ylabel('')\n",
    "\n",
    "barplot = sns.barplot(x=mean_scores.values, y=mean_scores.index, ax=axs[1], palette=\"RdYlGn_r\")\n",
    "axs[1].set_title('Average RMSE')\n",
    "axs[1].set_xlabel('')\n",
    "axs[1].set_xlim(left=lower_limit, right=upper_limit)\n",
    "axs[1].set_ylabel('')\n",
    "\n",
    "for i, score in enumerate(mean_scores.values):\n",
    "    barplot.text(score, i, round(score, 2), va='center')\n",
    "\n",
    "plt.tight_layout()\n",
    "plt.show()"
   ]
  },
  {
   "cell_type": "code",
   "execution_count": 52,
   "id": "5d03b22c",
   "metadata": {
    "execution": {
     "iopub.execute_input": "2024-09-16T08:54:42.399915Z",
     "iopub.status.busy": "2024-09-16T08:54:42.399426Z",
     "iopub.status.idle": "2024-09-16T08:54:42.413053Z",
     "shell.execute_reply": "2024-09-16T08:54:42.411868Z"
    },
    "papermill": {
     "duration": 0.077639,
     "end_time": "2024-09-16T08:54:42.416676",
     "exception": false,
     "start_time": "2024-09-16T08:54:42.339037",
     "status": "completed"
    },
    "tags": []
   },
   "outputs": [],
   "source": [
    "shutil.rmtree('catboost_info')"
   ]
  }
 ],
 "metadata": {
  "kaggle": {
   "accelerator": "none",
   "dataSources": [
    {
     "databundleVersionId": 9057646,
     "sourceId": 76728,
     "sourceType": "competition"
    }
   ],
   "dockerImageVersionId": 30761,
   "isGpuEnabled": false,
   "isInternetEnabled": true,
   "language": "python",
   "sourceType": "notebook"
  },
  "kernelspec": {
   "display_name": "Python 3",
   "language": "python",
   "name": "python3"
  },
  "language_info": {
   "codemirror_mode": {
    "name": "ipython",
    "version": 3
   },
   "file_extension": ".py",
   "mimetype": "text/x-python",
   "name": "python",
   "nbconvert_exporter": "python",
   "pygments_lexer": "ipython3",
   "version": "3.10.14"
  },
  "papermill": {
   "default_parameters": {},
   "duration": 2490.422905,
   "end_time": "2024-09-16T08:54:43.603783",
   "environment_variables": {},
   "exception": null,
   "input_path": "__notebook__.ipynb",
   "output_path": "__notebook__.ipynb",
   "parameters": {},
   "start_time": "2024-09-16T08:13:13.180878",
   "version": "2.6.0"
  }
 },
 "nbformat": 4,
 "nbformat_minor": 5
}
