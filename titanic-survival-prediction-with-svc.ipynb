{
 "cells": [
  {
   "cell_type": "code",
   "execution_count": 1,
   "id": "648002c2",
   "metadata": {
    "_cell_guid": "b1076dfc-b9ad-4769-8c92-a6c4dae69d19",
    "_uuid": "8f2839f25d086af736a60e9eeb907d3b93b6e0e5",
    "execution": {
     "iopub.execute_input": "2024-02-26T08:09:12.570070Z",
     "iopub.status.busy": "2024-02-26T08:09:12.569573Z",
     "iopub.status.idle": "2024-02-26T08:09:13.616485Z",
     "shell.execute_reply": "2024-02-26T08:09:13.615289Z"
    },
    "papermill": {
     "duration": 1.061449,
     "end_time": "2024-02-26T08:09:13.619366",
     "exception": false,
     "start_time": "2024-02-26T08:09:12.557917",
     "status": "completed"
    },
    "tags": []
   },
   "outputs": [
    {
     "name": "stdout",
     "output_type": "stream",
     "text": [
      "/kaggle/input/titanic/train.csv\n",
      "/kaggle/input/titanic/test.csv\n",
      "/kaggle/input/titanic/gender_submission.csv\n"
     ]
    }
   ],
   "source": [
    "# This Python 3 environment comes with many helpful analytics libraries installed\n",
    "# It is defined by the kaggle/python Docker image: https://github.com/kaggle/docker-python\n",
    "# For example, here's several helpful packages to load\n",
    "\n",
    "import numpy as np # linear algebra\n",
    "import pandas as pd # data processing, CSV file I/O (e.g. pd.read_csv)\n",
    "\n",
    "# Input data files are available in the read-only \"../input/\" directory\n",
    "# For example, running this (by clicking run or pressing Shift+Enter) will list all files under the input directory\n",
    "\n",
    "import os\n",
    "for dirname, _, filenames in os.walk('/kaggle/input'):\n",
    "    for filename in filenames:\n",
    "        print(os.path.join(dirname, filename))\n",
    "\n",
    "# You can write up to 20GB to the current directory (/kaggle/working/) that gets preserved as output when you create a version using \"Save & Run All\" \n",
    "# You can also write temporary files to /kaggle/temp/, but they won't be saved outside of the current session"
   ]
  },
  {
   "cell_type": "code",
   "execution_count": 2,
   "id": "f31c6ffb",
   "metadata": {
    "execution": {
     "iopub.execute_input": "2024-02-26T08:09:13.640424Z",
     "iopub.status.busy": "2024-02-26T08:09:13.639431Z",
     "iopub.status.idle": "2024-02-26T08:09:15.879834Z",
     "shell.execute_reply": "2024-02-26T08:09:15.878912Z"
    },
    "papermill": {
     "duration": 2.254287,
     "end_time": "2024-02-26T08:09:15.882643",
     "exception": false,
     "start_time": "2024-02-26T08:09:13.628356",
     "status": "completed"
    },
    "tags": []
   },
   "outputs": [],
   "source": [
    "from sklearn.experimental import enable_iterative_imputer\n",
    "from sklearn.impute import IterativeImputer\n",
    "from sklearn.preprocessing import StandardScaler\n",
    "from sklearn.svm import SVC\n",
    "import pandas as pd\n",
    "import matplotlib.pyplot as plt\n",
    "import seaborn as sns\n",
    "import re\n",
    "\n",
    "plt.style.use('ggplot')"
   ]
  },
  {
   "cell_type": "code",
   "execution_count": 3,
   "id": "40fe9509",
   "metadata": {
    "execution": {
     "iopub.execute_input": "2024-02-26T08:09:15.903075Z",
     "iopub.status.busy": "2024-02-26T08:09:15.902046Z",
     "iopub.status.idle": "2024-02-26T08:09:15.937424Z",
     "shell.execute_reply": "2024-02-26T08:09:15.936396Z"
    },
    "papermill": {
     "duration": 0.048568,
     "end_time": "2024-02-26T08:09:15.940181",
     "exception": false,
     "start_time": "2024-02-26T08:09:15.891613",
     "status": "completed"
    },
    "tags": []
   },
   "outputs": [],
   "source": [
    "train_data = pd.read_csv(\"/kaggle/input/titanic/train.csv\")\n",
    "test_data = pd.read_csv(\"/kaggle/input/titanic/test.csv\")\n",
    "\n",
    "passenger_ids = test_data['PassengerId']"
   ]
  },
  {
   "cell_type": "code",
   "execution_count": 4,
   "id": "4cce176c",
   "metadata": {
    "execution": {
     "iopub.execute_input": "2024-02-26T08:09:15.960567Z",
     "iopub.status.busy": "2024-02-26T08:09:15.959923Z",
     "iopub.status.idle": "2024-02-26T08:09:15.981957Z",
     "shell.execute_reply": "2024-02-26T08:09:15.980715Z"
    },
    "papermill": {
     "duration": 0.034897,
     "end_time": "2024-02-26T08:09:15.984420",
     "exception": false,
     "start_time": "2024-02-26T08:09:15.949523",
     "status": "completed"
    },
    "tags": []
   },
   "outputs": [
    {
     "data": {
      "text/html": [
       "<div>\n",
       "<style scoped>\n",
       "    .dataframe tbody tr th:only-of-type {\n",
       "        vertical-align: middle;\n",
       "    }\n",
       "\n",
       "    .dataframe tbody tr th {\n",
       "        vertical-align: top;\n",
       "    }\n",
       "\n",
       "    .dataframe thead th {\n",
       "        text-align: right;\n",
       "    }\n",
       "</style>\n",
       "<table border=\"1\" class=\"dataframe\">\n",
       "  <thead>\n",
       "    <tr style=\"text-align: right;\">\n",
       "      <th></th>\n",
       "      <th>PassengerId</th>\n",
       "      <th>Survived</th>\n",
       "      <th>Pclass</th>\n",
       "      <th>Name</th>\n",
       "      <th>Sex</th>\n",
       "      <th>Age</th>\n",
       "      <th>SibSp</th>\n",
       "      <th>Parch</th>\n",
       "      <th>Ticket</th>\n",
       "      <th>Fare</th>\n",
       "      <th>Cabin</th>\n",
       "      <th>Embarked</th>\n",
       "    </tr>\n",
       "  </thead>\n",
       "  <tbody>\n",
       "    <tr>\n",
       "      <th>0</th>\n",
       "      <td>1</td>\n",
       "      <td>0</td>\n",
       "      <td>3</td>\n",
       "      <td>Braund, Mr. Owen Harris</td>\n",
       "      <td>male</td>\n",
       "      <td>22.0</td>\n",
       "      <td>1</td>\n",
       "      <td>0</td>\n",
       "      <td>A/5 21171</td>\n",
       "      <td>7.2500</td>\n",
       "      <td>NaN</td>\n",
       "      <td>S</td>\n",
       "    </tr>\n",
       "    <tr>\n",
       "      <th>1</th>\n",
       "      <td>2</td>\n",
       "      <td>1</td>\n",
       "      <td>1</td>\n",
       "      <td>Cumings, Mrs. John Bradley (Florence Briggs Th...</td>\n",
       "      <td>female</td>\n",
       "      <td>38.0</td>\n",
       "      <td>1</td>\n",
       "      <td>0</td>\n",
       "      <td>PC 17599</td>\n",
       "      <td>71.2833</td>\n",
       "      <td>C85</td>\n",
       "      <td>C</td>\n",
       "    </tr>\n",
       "    <tr>\n",
       "      <th>2</th>\n",
       "      <td>3</td>\n",
       "      <td>1</td>\n",
       "      <td>3</td>\n",
       "      <td>Heikkinen, Miss. Laina</td>\n",
       "      <td>female</td>\n",
       "      <td>26.0</td>\n",
       "      <td>0</td>\n",
       "      <td>0</td>\n",
       "      <td>STON/O2. 3101282</td>\n",
       "      <td>7.9250</td>\n",
       "      <td>NaN</td>\n",
       "      <td>S</td>\n",
       "    </tr>\n",
       "    <tr>\n",
       "      <th>3</th>\n",
       "      <td>4</td>\n",
       "      <td>1</td>\n",
       "      <td>1</td>\n",
       "      <td>Futrelle, Mrs. Jacques Heath (Lily May Peel)</td>\n",
       "      <td>female</td>\n",
       "      <td>35.0</td>\n",
       "      <td>1</td>\n",
       "      <td>0</td>\n",
       "      <td>113803</td>\n",
       "      <td>53.1000</td>\n",
       "      <td>C123</td>\n",
       "      <td>S</td>\n",
       "    </tr>\n",
       "    <tr>\n",
       "      <th>4</th>\n",
       "      <td>5</td>\n",
       "      <td>0</td>\n",
       "      <td>3</td>\n",
       "      <td>Allen, Mr. William Henry</td>\n",
       "      <td>male</td>\n",
       "      <td>35.0</td>\n",
       "      <td>0</td>\n",
       "      <td>0</td>\n",
       "      <td>373450</td>\n",
       "      <td>8.0500</td>\n",
       "      <td>NaN</td>\n",
       "      <td>S</td>\n",
       "    </tr>\n",
       "  </tbody>\n",
       "</table>\n",
       "</div>"
      ],
      "text/plain": [
       "   PassengerId  Survived  Pclass  \\\n",
       "0            1         0       3   \n",
       "1            2         1       1   \n",
       "2            3         1       3   \n",
       "3            4         1       1   \n",
       "4            5         0       3   \n",
       "\n",
       "                                                Name     Sex   Age  SibSp  \\\n",
       "0                            Braund, Mr. Owen Harris    male  22.0      1   \n",
       "1  Cumings, Mrs. John Bradley (Florence Briggs Th...  female  38.0      1   \n",
       "2                             Heikkinen, Miss. Laina  female  26.0      0   \n",
       "3       Futrelle, Mrs. Jacques Heath (Lily May Peel)  female  35.0      1   \n",
       "4                           Allen, Mr. William Henry    male  35.0      0   \n",
       "\n",
       "   Parch            Ticket     Fare Cabin Embarked  \n",
       "0      0         A/5 21171   7.2500   NaN        S  \n",
       "1      0          PC 17599  71.2833   C85        C  \n",
       "2      0  STON/O2. 3101282   7.9250   NaN        S  \n",
       "3      0            113803  53.1000  C123        S  \n",
       "4      0            373450   8.0500   NaN        S  "
      ]
     },
     "execution_count": 4,
     "metadata": {},
     "output_type": "execute_result"
    }
   ],
   "source": [
    "train_data.head() "
   ]
  },
  {
   "cell_type": "code",
   "execution_count": 5,
   "id": "fcecd908",
   "metadata": {
    "execution": {
     "iopub.execute_input": "2024-02-26T08:09:16.005456Z",
     "iopub.status.busy": "2024-02-26T08:09:16.005071Z",
     "iopub.status.idle": "2024-02-26T08:09:16.025266Z",
     "shell.execute_reply": "2024-02-26T08:09:16.024092Z"
    },
    "papermill": {
     "duration": 0.033836,
     "end_time": "2024-02-26T08:09:16.027527",
     "exception": false,
     "start_time": "2024-02-26T08:09:15.993691",
     "status": "completed"
    },
    "tags": []
   },
   "outputs": [
    {
     "data": {
      "text/html": [
       "<div>\n",
       "<style scoped>\n",
       "    .dataframe tbody tr th:only-of-type {\n",
       "        vertical-align: middle;\n",
       "    }\n",
       "\n",
       "    .dataframe tbody tr th {\n",
       "        vertical-align: top;\n",
       "    }\n",
       "\n",
       "    .dataframe thead th {\n",
       "        text-align: right;\n",
       "    }\n",
       "</style>\n",
       "<table border=\"1\" class=\"dataframe\">\n",
       "  <thead>\n",
       "    <tr style=\"text-align: right;\">\n",
       "      <th></th>\n",
       "      <th>Name</th>\n",
       "      <th>Sex</th>\n",
       "      <th>Ticket</th>\n",
       "      <th>Cabin</th>\n",
       "      <th>Embarked</th>\n",
       "    </tr>\n",
       "  </thead>\n",
       "  <tbody>\n",
       "    <tr>\n",
       "      <th>0</th>\n",
       "      <td>Braund, Mr. Owen Harris</td>\n",
       "      <td>male</td>\n",
       "      <td>A/5 21171</td>\n",
       "      <td>NaN</td>\n",
       "      <td>S</td>\n",
       "    </tr>\n",
       "    <tr>\n",
       "      <th>1</th>\n",
       "      <td>Cumings, Mrs. John Bradley (Florence Briggs Th...</td>\n",
       "      <td>female</td>\n",
       "      <td>PC 17599</td>\n",
       "      <td>C85</td>\n",
       "      <td>C</td>\n",
       "    </tr>\n",
       "    <tr>\n",
       "      <th>2</th>\n",
       "      <td>Heikkinen, Miss. Laina</td>\n",
       "      <td>female</td>\n",
       "      <td>STON/O2. 3101282</td>\n",
       "      <td>NaN</td>\n",
       "      <td>S</td>\n",
       "    </tr>\n",
       "    <tr>\n",
       "      <th>3</th>\n",
       "      <td>Futrelle, Mrs. Jacques Heath (Lily May Peel)</td>\n",
       "      <td>female</td>\n",
       "      <td>113803</td>\n",
       "      <td>C123</td>\n",
       "      <td>S</td>\n",
       "    </tr>\n",
       "    <tr>\n",
       "      <th>4</th>\n",
       "      <td>Allen, Mr. William Henry</td>\n",
       "      <td>male</td>\n",
       "      <td>373450</td>\n",
       "      <td>NaN</td>\n",
       "      <td>S</td>\n",
       "    </tr>\n",
       "    <tr>\n",
       "      <th>...</th>\n",
       "      <td>...</td>\n",
       "      <td>...</td>\n",
       "      <td>...</td>\n",
       "      <td>...</td>\n",
       "      <td>...</td>\n",
       "    </tr>\n",
       "    <tr>\n",
       "      <th>886</th>\n",
       "      <td>Montvila, Rev. Juozas</td>\n",
       "      <td>male</td>\n",
       "      <td>211536</td>\n",
       "      <td>NaN</td>\n",
       "      <td>S</td>\n",
       "    </tr>\n",
       "    <tr>\n",
       "      <th>887</th>\n",
       "      <td>Graham, Miss. Margaret Edith</td>\n",
       "      <td>female</td>\n",
       "      <td>112053</td>\n",
       "      <td>B42</td>\n",
       "      <td>S</td>\n",
       "    </tr>\n",
       "    <tr>\n",
       "      <th>888</th>\n",
       "      <td>Johnston, Miss. Catherine Helen \"Carrie\"</td>\n",
       "      <td>female</td>\n",
       "      <td>W./C. 6607</td>\n",
       "      <td>NaN</td>\n",
       "      <td>S</td>\n",
       "    </tr>\n",
       "    <tr>\n",
       "      <th>889</th>\n",
       "      <td>Behr, Mr. Karl Howell</td>\n",
       "      <td>male</td>\n",
       "      <td>111369</td>\n",
       "      <td>C148</td>\n",
       "      <td>C</td>\n",
       "    </tr>\n",
       "    <tr>\n",
       "      <th>890</th>\n",
       "      <td>Dooley, Mr. Patrick</td>\n",
       "      <td>male</td>\n",
       "      <td>370376</td>\n",
       "      <td>NaN</td>\n",
       "      <td>Q</td>\n",
       "    </tr>\n",
       "  </tbody>\n",
       "</table>\n",
       "<p>891 rows × 5 columns</p>\n",
       "</div>"
      ],
      "text/plain": [
       "                                                  Name     Sex  \\\n",
       "0                              Braund, Mr. Owen Harris    male   \n",
       "1    Cumings, Mrs. John Bradley (Florence Briggs Th...  female   \n",
       "2                               Heikkinen, Miss. Laina  female   \n",
       "3         Futrelle, Mrs. Jacques Heath (Lily May Peel)  female   \n",
       "4                             Allen, Mr. William Henry    male   \n",
       "..                                                 ...     ...   \n",
       "886                              Montvila, Rev. Juozas    male   \n",
       "887                       Graham, Miss. Margaret Edith  female   \n",
       "888           Johnston, Miss. Catherine Helen \"Carrie\"  female   \n",
       "889                              Behr, Mr. Karl Howell    male   \n",
       "890                                Dooley, Mr. Patrick    male   \n",
       "\n",
       "               Ticket Cabin Embarked  \n",
       "0           A/5 21171   NaN        S  \n",
       "1            PC 17599   C85        C  \n",
       "2    STON/O2. 3101282   NaN        S  \n",
       "3              113803  C123        S  \n",
       "4              373450   NaN        S  \n",
       "..                ...   ...      ...  \n",
       "886            211536   NaN        S  \n",
       "887            112053   B42        S  \n",
       "888        W./C. 6607   NaN        S  \n",
       "889            111369  C148        C  \n",
       "890            370376   NaN        Q  \n",
       "\n",
       "[891 rows x 5 columns]"
      ]
     },
     "execution_count": 5,
     "metadata": {},
     "output_type": "execute_result"
    }
   ],
   "source": [
    "# The categorical columns that need to be encoded\n",
    "train_data.select_dtypes(include=['object'])"
   ]
  },
  {
   "cell_type": "markdown",
   "id": "4dded64a",
   "metadata": {
    "papermill": {
     "duration": 0.009314,
     "end_time": "2024-02-26T08:09:16.046443",
     "exception": false,
     "start_time": "2024-02-26T08:09:16.037129",
     "status": "completed"
    },
    "tags": []
   },
   "source": [
    "# Handling missing values and creating synthetic featuers"
   ]
  },
  {
   "cell_type": "code",
   "execution_count": 6,
   "id": "b3cd3144",
   "metadata": {
    "execution": {
     "iopub.execute_input": "2024-02-26T08:09:16.068718Z",
     "iopub.status.busy": "2024-02-26T08:09:16.067952Z",
     "iopub.status.idle": "2024-02-26T08:09:16.086046Z",
     "shell.execute_reply": "2024-02-26T08:09:16.084862Z"
    },
    "papermill": {
     "duration": 0.032263,
     "end_time": "2024-02-26T08:09:16.088549",
     "exception": false,
     "start_time": "2024-02-26T08:09:16.056286",
     "status": "completed"
    },
    "tags": []
   },
   "outputs": [
    {
     "data": {
      "text/plain": [
       "PassengerId       0\n",
       "Survived        418\n",
       "Pclass            0\n",
       "Name              0\n",
       "Sex               0\n",
       "Age             263\n",
       "SibSp             0\n",
       "Parch             0\n",
       "Ticket            0\n",
       "Fare              1\n",
       "Cabin          1014\n",
       "Embarked          2\n",
       "dtype: int64"
      ]
     },
     "execution_count": 6,
     "metadata": {},
     "output_type": "execute_result"
    }
   ],
   "source": [
    "# Columns that have missing values\n",
    "pd.concat([train_data, test_data]).isnull().sum()"
   ]
  },
  {
   "cell_type": "code",
   "execution_count": 7,
   "id": "bdff52db",
   "metadata": {
    "execution": {
     "iopub.execute_input": "2024-02-26T08:09:16.111205Z",
     "iopub.status.busy": "2024-02-26T08:09:16.110724Z",
     "iopub.status.idle": "2024-02-26T08:09:16.134203Z",
     "shell.execute_reply": "2024-02-26T08:09:16.133202Z"
    },
    "papermill": {
     "duration": 0.038178,
     "end_time": "2024-02-26T08:09:16.136842",
     "exception": false,
     "start_time": "2024-02-26T08:09:16.098664",
     "status": "completed"
    },
    "tags": []
   },
   "outputs": [],
   "source": [
    "def get_deck(cabin):\n",
    "    deck_search = re.search('[A-Za-z]', cabin)\n",
    "    if deck_search:\n",
    "        return deck_search.group(0)\n",
    "    return \"\"\n",
    "\n",
    "train_data[\"Cabin\"] = train_data[\"Cabin\"].fillna(\"\")\n",
    "train_data['CabinDeck'] = train_data['Cabin'].apply(get_deck)\n",
    "train_data[\"CabinDeckCode\"] = train_data[\"CabinDeck\"]\n",
    "train_data[\"CabinDeck\"] = train_data[\"CabinDeck\"].map({'A': 1, 'B': 2, 'C': 3, 'D': 4, 'E': 5, 'F': 6, 'G': 7, 'T': 8})\n",
    "train_data = train_data.drop('Cabin', axis=1)\n",
    "\n",
    "test_data[\"Cabin\"] = test_data[\"Cabin\"].fillna(\"\")\n",
    "test_data['CabinDeck'] = test_data['Cabin'].apply(get_deck)\n",
    "test_data[\"CabinDeckCode\"] = test_data[\"CabinDeck\"]\n",
    "test_data[\"CabinDeck\"] = test_data[\"CabinDeck\"].map({'A': 1, 'B': 2, 'C': 3, 'D': 4, 'E': 5, 'F': 6, 'G': 7, 'T': 8})\n",
    "test_data = test_data.drop('Cabin', axis=1)"
   ]
  },
  {
   "cell_type": "code",
   "execution_count": 8,
   "id": "331c70b2",
   "metadata": {
    "execution": {
     "iopub.execute_input": "2024-02-26T08:09:16.159088Z",
     "iopub.status.busy": "2024-02-26T08:09:16.157953Z",
     "iopub.status.idle": "2024-02-26T08:09:16.259258Z",
     "shell.execute_reply": "2024-02-26T08:09:16.258089Z"
    },
    "papermill": {
     "duration": 0.115322,
     "end_time": "2024-02-26T08:09:16.262109",
     "exception": false,
     "start_time": "2024-02-26T08:09:16.146787",
     "status": "completed"
    },
    "tags": []
   },
   "outputs": [],
   "source": [
    "train_data['Embarked'] = train_data['Embarked'].fillna('S')\n",
    "test_data['Embarked'] = test_data['Embarked'].fillna('S')\n",
    "\n",
    "# There are a lot of missing values in the Age column. \n",
    "# So we will use the IterativeImputer to fill in the missing values,\n",
    "# instead of just using the median or mean value.\n",
    "imputer = IterativeImputer(max_iter=10, random_state=0)\n",
    "cols = ['Pclass', 'SibSp', 'Parch', 'Fare', 'Age', 'CabinDeck']\n",
    "train_data[cols] = imputer.fit_transform(train_data[cols])\n",
    "test_data[cols] = imputer.fit_transform(test_data[cols])"
   ]
  },
  {
   "cell_type": "code",
   "execution_count": 9,
   "id": "11c8dec2",
   "metadata": {
    "execution": {
     "iopub.execute_input": "2024-02-26T08:09:16.284224Z",
     "iopub.status.busy": "2024-02-26T08:09:16.283796Z",
     "iopub.status.idle": "2024-02-26T08:09:16.293892Z",
     "shell.execute_reply": "2024-02-26T08:09:16.292666Z"
    },
    "papermill": {
     "duration": 0.024716,
     "end_time": "2024-02-26T08:09:16.296448",
     "exception": false,
     "start_time": "2024-02-26T08:09:16.271732",
     "status": "completed"
    },
    "tags": []
   },
   "outputs": [
    {
     "data": {
      "text/plain": [
       "PassengerId      0\n",
       "Survived         0\n",
       "Pclass           0\n",
       "Name             0\n",
       "Sex              0\n",
       "Age              0\n",
       "SibSp            0\n",
       "Parch            0\n",
       "Ticket           0\n",
       "Fare             0\n",
       "Embarked         0\n",
       "CabinDeck        0\n",
       "CabinDeckCode    0\n",
       "dtype: int64"
      ]
     },
     "execution_count": 9,
     "metadata": {},
     "output_type": "execute_result"
    }
   ],
   "source": [
    "train_data.isnull().sum()"
   ]
  },
  {
   "cell_type": "code",
   "execution_count": 10,
   "id": "32ef4648",
   "metadata": {
    "execution": {
     "iopub.execute_input": "2024-02-26T08:09:16.319092Z",
     "iopub.status.busy": "2024-02-26T08:09:16.317837Z",
     "iopub.status.idle": "2024-02-26T08:09:16.340024Z",
     "shell.execute_reply": "2024-02-26T08:09:16.339041Z"
    },
    "papermill": {
     "duration": 0.036362,
     "end_time": "2024-02-26T08:09:16.342800",
     "exception": false,
     "start_time": "2024-02-26T08:09:16.306438",
     "status": "completed"
    },
    "tags": []
   },
   "outputs": [],
   "source": [
    "train_data[\"FamilySize\"] = train_data[\"SibSp\"] + train_data[\"Parch\"] + 1\n",
    "test_data[\"FamilySize\"] = test_data[\"SibSp\"] + test_data[\"Parch\"] + 1\n",
    "\n",
    "train_data['IsAlone'] = 0\n",
    "train_data.loc[train_data['FamilySize'] == 1, 'IsAlone'] = 1\n",
    "test_data['IsAlone'] = 0\n",
    "test_data.loc[test_data['FamilySize'] == 1, 'IsAlone'] = 1\n",
    "\n",
    "train_data[\"Title\"] = train_data.Name.str.extract(' ([A-Za-z]+)\\.', expand=False)\n",
    "train_data['Title'] = train_data['Title'].replace('Mlle', 'Miss')\n",
    "train_data['Title'] = train_data['Title'].replace('Ms', 'Miss')\n",
    "train_data['Title'] = train_data['Title'].replace('Mme', 'Mrs')\n",
    "test_data[\"Title\"] = test_data.Name.str.extract(' ([A-Za-z]+)\\.', expand=False)\n",
    "test_data['Title'] = test_data['Title'].replace('Mlle', 'Miss')\n",
    "test_data['Title'] = test_data['Title'].replace('Ms', 'Miss')\n",
    "test_data['Title'] = test_data['Title'].replace('Mme', 'Mrs')"
   ]
  },
  {
   "cell_type": "code",
   "execution_count": 11,
   "id": "f9c09025",
   "metadata": {
    "execution": {
     "iopub.execute_input": "2024-02-26T08:09:16.364610Z",
     "iopub.status.busy": "2024-02-26T08:09:16.364223Z",
     "iopub.status.idle": "2024-02-26T08:09:16.389111Z",
     "shell.execute_reply": "2024-02-26T08:09:16.387923Z"
    },
    "papermill": {
     "duration": 0.038993,
     "end_time": "2024-02-26T08:09:16.391689",
     "exception": false,
     "start_time": "2024-02-26T08:09:16.352696",
     "status": "completed"
    },
    "tags": []
   },
   "outputs": [
    {
     "data": {
      "text/html": [
       "<div>\n",
       "<style scoped>\n",
       "    .dataframe tbody tr th:only-of-type {\n",
       "        vertical-align: middle;\n",
       "    }\n",
       "\n",
       "    .dataframe tbody tr th {\n",
       "        vertical-align: top;\n",
       "    }\n",
       "\n",
       "    .dataframe thead th {\n",
       "        text-align: right;\n",
       "    }\n",
       "</style>\n",
       "<table border=\"1\" class=\"dataframe\">\n",
       "  <thead>\n",
       "    <tr style=\"text-align: right;\">\n",
       "      <th></th>\n",
       "      <th>PassengerId</th>\n",
       "      <th>Survived</th>\n",
       "      <th>Pclass</th>\n",
       "      <th>Name</th>\n",
       "      <th>Sex</th>\n",
       "      <th>Age</th>\n",
       "      <th>SibSp</th>\n",
       "      <th>Parch</th>\n",
       "      <th>Ticket</th>\n",
       "      <th>Fare</th>\n",
       "      <th>Embarked</th>\n",
       "      <th>CabinDeck</th>\n",
       "      <th>CabinDeckCode</th>\n",
       "      <th>FamilySize</th>\n",
       "      <th>IsAlone</th>\n",
       "      <th>Title</th>\n",
       "    </tr>\n",
       "  </thead>\n",
       "  <tbody>\n",
       "    <tr>\n",
       "      <th>0</th>\n",
       "      <td>1</td>\n",
       "      <td>0</td>\n",
       "      <td>3.0</td>\n",
       "      <td>Braund, Mr. Owen Harris</td>\n",
       "      <td>male</td>\n",
       "      <td>22.0</td>\n",
       "      <td>1.0</td>\n",
       "      <td>0.0</td>\n",
       "      <td>A/5 21171</td>\n",
       "      <td>7.2500</td>\n",
       "      <td>S</td>\n",
       "      <td>6.408382</td>\n",
       "      <td></td>\n",
       "      <td>2.0</td>\n",
       "      <td>0</td>\n",
       "      <td>Mr</td>\n",
       "    </tr>\n",
       "    <tr>\n",
       "      <th>1</th>\n",
       "      <td>2</td>\n",
       "      <td>1</td>\n",
       "      <td>1.0</td>\n",
       "      <td>Cumings, Mrs. John Bradley (Florence Briggs Th...</td>\n",
       "      <td>female</td>\n",
       "      <td>38.0</td>\n",
       "      <td>1.0</td>\n",
       "      <td>0.0</td>\n",
       "      <td>PC 17599</td>\n",
       "      <td>71.2833</td>\n",
       "      <td>C</td>\n",
       "      <td>3.000000</td>\n",
       "      <td>C</td>\n",
       "      <td>2.0</td>\n",
       "      <td>0</td>\n",
       "      <td>Mrs</td>\n",
       "    </tr>\n",
       "    <tr>\n",
       "      <th>2</th>\n",
       "      <td>3</td>\n",
       "      <td>1</td>\n",
       "      <td>3.0</td>\n",
       "      <td>Heikkinen, Miss. Laina</td>\n",
       "      <td>female</td>\n",
       "      <td>26.0</td>\n",
       "      <td>0.0</td>\n",
       "      <td>0.0</td>\n",
       "      <td>STON/O2. 3101282</td>\n",
       "      <td>7.9250</td>\n",
       "      <td>S</td>\n",
       "      <td>6.121712</td>\n",
       "      <td></td>\n",
       "      <td>1.0</td>\n",
       "      <td>1</td>\n",
       "      <td>Miss</td>\n",
       "    </tr>\n",
       "    <tr>\n",
       "      <th>3</th>\n",
       "      <td>4</td>\n",
       "      <td>1</td>\n",
       "      <td>1.0</td>\n",
       "      <td>Futrelle, Mrs. Jacques Heath (Lily May Peel)</td>\n",
       "      <td>female</td>\n",
       "      <td>35.0</td>\n",
       "      <td>1.0</td>\n",
       "      <td>0.0</td>\n",
       "      <td>113803</td>\n",
       "      <td>53.1000</td>\n",
       "      <td>S</td>\n",
       "      <td>3.000000</td>\n",
       "      <td>C</td>\n",
       "      <td>2.0</td>\n",
       "      <td>0</td>\n",
       "      <td>Mrs</td>\n",
       "    </tr>\n",
       "    <tr>\n",
       "      <th>4</th>\n",
       "      <td>5</td>\n",
       "      <td>0</td>\n",
       "      <td>3.0</td>\n",
       "      <td>Allen, Mr. William Henry</td>\n",
       "      <td>male</td>\n",
       "      <td>35.0</td>\n",
       "      <td>0.0</td>\n",
       "      <td>0.0</td>\n",
       "      <td>373450</td>\n",
       "      <td>8.0500</td>\n",
       "      <td>S</td>\n",
       "      <td>6.099914</td>\n",
       "      <td></td>\n",
       "      <td>1.0</td>\n",
       "      <td>1</td>\n",
       "      <td>Mr</td>\n",
       "    </tr>\n",
       "  </tbody>\n",
       "</table>\n",
       "</div>"
      ],
      "text/plain": [
       "   PassengerId  Survived  Pclass  \\\n",
       "0            1         0     3.0   \n",
       "1            2         1     1.0   \n",
       "2            3         1     3.0   \n",
       "3            4         1     1.0   \n",
       "4            5         0     3.0   \n",
       "\n",
       "                                                Name     Sex   Age  SibSp  \\\n",
       "0                            Braund, Mr. Owen Harris    male  22.0    1.0   \n",
       "1  Cumings, Mrs. John Bradley (Florence Briggs Th...  female  38.0    1.0   \n",
       "2                             Heikkinen, Miss. Laina  female  26.0    0.0   \n",
       "3       Futrelle, Mrs. Jacques Heath (Lily May Peel)  female  35.0    1.0   \n",
       "4                           Allen, Mr. William Henry    male  35.0    0.0   \n",
       "\n",
       "   Parch            Ticket     Fare Embarked  CabinDeck CabinDeckCode  \\\n",
       "0    0.0         A/5 21171   7.2500        S   6.408382                 \n",
       "1    0.0          PC 17599  71.2833        C   3.000000             C   \n",
       "2    0.0  STON/O2. 3101282   7.9250        S   6.121712                 \n",
       "3    0.0            113803  53.1000        S   3.000000             C   \n",
       "4    0.0            373450   8.0500        S   6.099914                 \n",
       "\n",
       "   FamilySize  IsAlone Title  \n",
       "0         2.0        0    Mr  \n",
       "1         2.0        0   Mrs  \n",
       "2         1.0        1  Miss  \n",
       "3         2.0        0   Mrs  \n",
       "4         1.0        1    Mr  "
      ]
     },
     "execution_count": 11,
     "metadata": {},
     "output_type": "execute_result"
    }
   ],
   "source": [
    "train_data.head()"
   ]
  },
  {
   "cell_type": "markdown",
   "id": "ea994854",
   "metadata": {
    "papermill": {
     "duration": 0.010579,
     "end_time": "2024-02-26T08:09:16.412593",
     "exception": false,
     "start_time": "2024-02-26T08:09:16.402014",
     "status": "completed"
    },
    "tags": []
   },
   "source": [
    "# Visualizing"
   ]
  },
  {
   "cell_type": "code",
   "execution_count": 12,
   "id": "c736c397",
   "metadata": {
    "execution": {
     "iopub.execute_input": "2024-02-26T08:09:16.436354Z",
     "iopub.status.busy": "2024-02-26T08:09:16.435914Z",
     "iopub.status.idle": "2024-02-26T08:09:17.966431Z",
     "shell.execute_reply": "2024-02-26T08:09:17.965496Z"
    },
    "papermill": {
     "duration": 1.546501,
     "end_time": "2024-02-26T08:09:17.969822",
     "exception": false,
     "start_time": "2024-02-26T08:09:16.423321",
     "status": "completed"
    },
    "tags": []
   },
   "outputs": [
    {
     "name": "stderr",
     "output_type": "stream",
     "text": [
      "/opt/conda/lib/python3.10/site-packages/seaborn/_oldcore.py:1119: FutureWarning: use_inf_as_na option is deprecated and will be removed in a future version. Convert inf values to NaN before operating instead.\n",
      "  with pd.option_context('mode.use_inf_as_na', True):\n",
      "/opt/conda/lib/python3.10/site-packages/seaborn/_oldcore.py:1119: FutureWarning: use_inf_as_na option is deprecated and will be removed in a future version. Convert inf values to NaN before operating instead.\n",
      "  with pd.option_context('mode.use_inf_as_na', True):\n",
      "/opt/conda/lib/python3.10/site-packages/seaborn/_oldcore.py:1119: FutureWarning: use_inf_as_na option is deprecated and will be removed in a future version. Convert inf values to NaN before operating instead.\n",
      "  with pd.option_context('mode.use_inf_as_na', True):\n",
      "/opt/conda/lib/python3.10/site-packages/seaborn/_oldcore.py:1119: FutureWarning: use_inf_as_na option is deprecated and will be removed in a future version. Convert inf values to NaN before operating instead.\n",
      "  with pd.option_context('mode.use_inf_as_na', True):\n",
      "/opt/conda/lib/python3.10/site-packages/seaborn/_oldcore.py:1119: FutureWarning: use_inf_as_na option is deprecated and will be removed in a future version. Convert inf values to NaN before operating instead.\n",
      "  with pd.option_context('mode.use_inf_as_na', True):\n",
      "/opt/conda/lib/python3.10/site-packages/seaborn/_oldcore.py:1119: FutureWarning: use_inf_as_na option is deprecated and will be removed in a future version. Convert inf values to NaN before operating instead.\n",
      "  with pd.option_context('mode.use_inf_as_na', True):\n"
     ]
    },
    {
     "data": {
      "image/png": "[encoded data removed]",
      "text/plain": [
       "<Figure size 1200x400 with 3 Axes>"
      ]
     },
     "metadata": {},
     "output_type": "display_data"
    }
   ],
   "source": [
    "survivors = train_data[train_data['Survived'] == 1]\n",
    "non_survivors = train_data[train_data['Survived'] == 0]\n",
    "\n",
    "fig, ax = plt.subplots(1, 3, figsize=(12, 4))\n",
    "for i, column_name in enumerate([\"Age\", \"Fare\", \"FamilySize\"]):\n",
    "    sns.histplot(non_survivors[column_name], bins=20, color='red', label='Did not survive', ax=ax[i], kde=True)\n",
    "    sns.histplot(survivors[column_name], bins=20, color='green', label='Survived', ax=ax[i], kde=True)\n",
    "    ax[i].set_xlabel(column_name)\n",
    "    ax[i].set_ylabel('Count')\n",
    "    ax[i].legend()\n",
    "\n",
    "plt.tight_layout()\n",
    "plt.show()"
   ]
  },
  {
   "cell_type": "code",
   "execution_count": 13,
   "id": "e4db1532",
   "metadata": {
    "execution": {
     "iopub.execute_input": "2024-02-26T08:09:17.996925Z",
     "iopub.status.busy": "2024-02-26T08:09:17.996267Z",
     "iopub.status.idle": "2024-02-26T08:09:18.771234Z",
     "shell.execute_reply": "2024-02-26T08:09:18.770086Z"
    },
    "papermill": {
     "duration": 0.791053,
     "end_time": "2024-02-26T08:09:18.773440",
     "exception": false,
     "start_time": "2024-02-26T08:09:17.982387",
     "status": "completed"
    },
    "tags": []
   },
   "outputs": [
    {
     "data": {
      "image/png": "[encoded data removed]",
      "text/plain": [
       "<Figure size 1200x400 with 3 Axes>"
      ]
     },
     "metadata": {},
     "output_type": "display_data"
    }
   ],
   "source": [
    "fig, ax = plt.subplots(1, 3, figsize=(12, 4))\n",
    "\n",
    "sns.countplot(x='Pclass', hue='Survived', data=train_data, palette={0: 'red', 1: 'green'}, ax=ax[0])\n",
    "ax[0].set_title('Survival by Ticket Class')\n",
    "ax[0].set_xticks([0, 1, 2])\n",
    "ax[0].set_xticklabels(['1st Class', '2nd Class', '3rd Class'])\n",
    "ax[0].legend(labels=[\"Did not survive\", \"Survived\"])\n",
    "\n",
    "sns.countplot(x='Sex', hue='Survived', data=train_data, palette={0: 'red', 1: 'green'}, ax=ax[1])\n",
    "ax[1].set_title('Survival by Sex')\n",
    "ax[1].legend(labels=[\"Did not survive\", \"Survived\"])\n",
    "\n",
    "sns.countplot(x='Embarked', hue='Survived', data=train_data, palette={0: 'red', 1: 'green'}, ax=ax[2])\n",
    "ax[2].set_title('Survival by Port of Embarkation')\n",
    "ax[2].set_xticks([0, 1, 2])\n",
    "ax[2].set_xticklabels([\"Cherbourg\", \"Queenstown\", \"Southampton\"])\n",
    "ax[2].legend(labels=[\"Did not survive\", \"Survived\"])\n",
    "\n",
    "plt.tight_layout()\n",
    "plt.show()"
   ]
  },
  {
   "cell_type": "code",
   "execution_count": 14,
   "id": "3047b469",
   "metadata": {
    "execution": {
     "iopub.execute_input": "2024-02-26T08:09:18.801450Z",
     "iopub.status.busy": "2024-02-26T08:09:18.801024Z",
     "iopub.status.idle": "2024-02-26T08:09:18.815811Z",
     "shell.execute_reply": "2024-02-26T08:09:18.814516Z"
    },
    "papermill": {
     "duration": 0.031857,
     "end_time": "2024-02-26T08:09:18.818461",
     "exception": false,
     "start_time": "2024-02-26T08:09:18.786604",
     "status": "completed"
    },
    "tags": []
   },
   "outputs": [],
   "source": [
    "title_mapping = {\"Mr\": 1, \"Miss\": 2, \"Mrs\": 3, \"Master\": 4, \"Rare\": 5}\n",
    "\n",
    "train_data['Title'] = train_data['Title'].map(title_mapping)\n",
    "train_data['Sex'] = train_data['Sex'].map({'female': 0, 'male': 1})\n",
    "train_data['Embarked'] = train_data['Embarked'].map( {'S': 0, 'C': 1, 'Q': 2} )\n",
    "\n",
    "test_data['Title'] = test_data['Title'].map(title_mapping)\n",
    "test_data['Sex'] = test_data['Sex'].map({'female': 0, 'male': 1})\n",
    "test_data['Embarked'] = test_data['Embarked'].map( {'S': 0, 'C': 1, 'Q': 2} )"
   ]
  },
  {
   "cell_type": "code",
   "execution_count": 15,
   "id": "86b5e474",
   "metadata": {
    "execution": {
     "iopub.execute_input": "2024-02-26T08:09:18.845880Z",
     "iopub.status.busy": "2024-02-26T08:09:18.845450Z",
     "iopub.status.idle": "2024-02-26T08:09:18.860919Z",
     "shell.execute_reply": "2024-02-26T08:09:18.860026Z"
    },
    "papermill": {
     "duration": 0.032129,
     "end_time": "2024-02-26T08:09:18.863354",
     "exception": false,
     "start_time": "2024-02-26T08:09:18.831225",
     "status": "completed"
    },
    "tags": []
   },
   "outputs": [],
   "source": [
    "train_data.loc[train_data['Fare'] <= 7.91, 'Fare'] = 0\n",
    "train_data.loc[(train_data['Fare'] > 7.91) & (\n",
    "    train_data['Fare'] <= 14.454), 'Fare'] = 1\n",
    "train_data.loc[(train_data['Fare'] > 14.454) & (\n",
    "    train_data['Fare'] <= 31), 'Fare'] = 2\n",
    "train_data.loc[train_data['Fare'] > 31, 'Fare'] = 3\n",
    "\n",
    "test_data.loc[test_data['Fare'] <= 7.91, 'Fare'] = 0\n",
    "test_data.loc[(test_data['Fare'] > 7.91) & (\n",
    "    test_data['Fare'] <= 14.454), 'Fare'] = 1\n",
    "test_data.loc[(test_data['Fare'] > 14.454) & (\n",
    "    test_data['Fare'] <= 31), 'Fare'] = 2\n",
    "test_data.loc[test_data['Fare'] > 31, 'Fare'] = 3"
   ]
  },
  {
   "cell_type": "code",
   "execution_count": 16,
   "id": "65162ae9",
   "metadata": {
    "execution": {
     "iopub.execute_input": "2024-02-26T08:09:18.891266Z",
     "iopub.status.busy": "2024-02-26T08:09:18.890404Z",
     "iopub.status.idle": "2024-02-26T08:09:18.907683Z",
     "shell.execute_reply": "2024-02-26T08:09:18.906694Z"
    },
    "papermill": {
     "duration": 0.033852,
     "end_time": "2024-02-26T08:09:18.910194",
     "exception": false,
     "start_time": "2024-02-26T08:09:18.876342",
     "status": "completed"
    },
    "tags": []
   },
   "outputs": [],
   "source": [
    "train_data.loc[train_data['Age'] <= 16, 'Age'] = 0\n",
    "train_data.loc[(train_data['Age'] > 16) & (train_data['Age'] <= 32), 'Age'] = 1\n",
    "train_data.loc[(train_data['Age'] > 32) & (train_data['Age'] <= 48), 'Age'] = 2\n",
    "train_data.loc[(train_data['Age'] > 48) & (train_data['Age'] <= 64), 'Age'] = 3\n",
    "train_data.loc[train_data['Age'] > 64, 'Age'] = 4\n",
    "\n",
    "test_data.loc[test_data['Age'] <= 16, 'Age'] = 0\n",
    "test_data.loc[(test_data['Age'] > 16) & (test_data['Age'] <= 32), 'Age'] = 1\n",
    "test_data.loc[(test_data['Age'] > 32) & (test_data['Age'] <= 48), 'Age'] = 2\n",
    "test_data.loc[(test_data['Age'] > 48) & (test_data['Age'] <= 64), 'Age'] = 3\n",
    "test_data.loc[test_data['Age'] > 64, 'Age'] = 4"
   ]
  },
  {
   "cell_type": "code",
   "execution_count": 17,
   "id": "2cc95fd4",
   "metadata": {
    "execution": {
     "iopub.execute_input": "2024-02-26T08:09:18.937807Z",
     "iopub.status.busy": "2024-02-26T08:09:18.937172Z",
     "iopub.status.idle": "2024-02-26T08:09:18.948585Z",
     "shell.execute_reply": "2024-02-26T08:09:18.947441Z"
    },
    "papermill": {
     "duration": 0.028703,
     "end_time": "2024-02-26T08:09:18.951319",
     "exception": false,
     "start_time": "2024-02-26T08:09:18.922616",
     "status": "completed"
    },
    "tags": []
   },
   "outputs": [],
   "source": [
    "train_data = train_data.ffill()\n",
    "test_data = test_data.ffill()\n",
    "# types = {\n",
    "#     \"Pclass\": \"int\",\n",
    "#     \"Sex\": \"int\",\n",
    "#     \"Age\": \"int\",\n",
    "#     \"SibSp\": \"int\",\n",
    "#     \"Parch\": \"int\",\n",
    "#     \"Fare\": \"int\",\n",
    "#     \"Embarked\": \"int\",\n",
    "#     \"CabinDeck\": \"int\",\n",
    "#     \"FamilySize\": \"int\",\n",
    "#     \"IsAlone\": \"int\",\n",
    "#     \"Title\": \"int\"\n",
    "# }\n",
    "# train_data = train_data.astype(types)\n",
    "# test_data = test_data.astype(types)"
   ]
  },
  {
   "cell_type": "code",
   "execution_count": 18,
   "id": "cf7aaed3",
   "metadata": {
    "execution": {
     "iopub.execute_input": "2024-02-26T08:09:18.978508Z",
     "iopub.status.busy": "2024-02-26T08:09:18.978125Z",
     "iopub.status.idle": "2024-02-26T08:09:19.002140Z",
     "shell.execute_reply": "2024-02-26T08:09:19.000758Z"
    },
    "papermill": {
     "duration": 0.040596,
     "end_time": "2024-02-26T08:09:19.004674",
     "exception": false,
     "start_time": "2024-02-26T08:09:18.964078",
     "status": "completed"
    },
    "tags": []
   },
   "outputs": [
    {
     "data": {
      "text/html": [
       "<div>\n",
       "<style scoped>\n",
       "    .dataframe tbody tr th:only-of-type {\n",
       "        vertical-align: middle;\n",
       "    }\n",
       "\n",
       "    .dataframe tbody tr th {\n",
       "        vertical-align: top;\n",
       "    }\n",
       "\n",
       "    .dataframe thead th {\n",
       "        text-align: right;\n",
       "    }\n",
       "</style>\n",
       "<table border=\"1\" class=\"dataframe\">\n",
       "  <thead>\n",
       "    <tr style=\"text-align: right;\">\n",
       "      <th></th>\n",
       "      <th>Survived</th>\n",
       "      <th>Pclass</th>\n",
       "      <th>Sex</th>\n",
       "      <th>Age</th>\n",
       "      <th>SibSp</th>\n",
       "      <th>Parch</th>\n",
       "      <th>Fare</th>\n",
       "      <th>Embarked</th>\n",
       "      <th>CabinDeck</th>\n",
       "      <th>FamilySize</th>\n",
       "      <th>IsAlone</th>\n",
       "      <th>Title</th>\n",
       "    </tr>\n",
       "  </thead>\n",
       "  <tbody>\n",
       "    <tr>\n",
       "      <th>0</th>\n",
       "      <td>0</td>\n",
       "      <td>3.0</td>\n",
       "      <td>1</td>\n",
       "      <td>1.0</td>\n",
       "      <td>1.0</td>\n",
       "      <td>0.0</td>\n",
       "      <td>0.0</td>\n",
       "      <td>0</td>\n",
       "      <td>6.408382</td>\n",
       "      <td>2.0</td>\n",
       "      <td>0</td>\n",
       "      <td>1.0</td>\n",
       "    </tr>\n",
       "    <tr>\n",
       "      <th>1</th>\n",
       "      <td>1</td>\n",
       "      <td>1.0</td>\n",
       "      <td>0</td>\n",
       "      <td>2.0</td>\n",
       "      <td>1.0</td>\n",
       "      <td>0.0</td>\n",
       "      <td>3.0</td>\n",
       "      <td>1</td>\n",
       "      <td>3.000000</td>\n",
       "      <td>2.0</td>\n",
       "      <td>0</td>\n",
       "      <td>3.0</td>\n",
       "    </tr>\n",
       "    <tr>\n",
       "      <th>2</th>\n",
       "      <td>1</td>\n",
       "      <td>3.0</td>\n",
       "      <td>0</td>\n",
       "      <td>1.0</td>\n",
       "      <td>0.0</td>\n",
       "      <td>0.0</td>\n",
       "      <td>1.0</td>\n",
       "      <td>0</td>\n",
       "      <td>6.121712</td>\n",
       "      <td>1.0</td>\n",
       "      <td>1</td>\n",
       "      <td>2.0</td>\n",
       "    </tr>\n",
       "    <tr>\n",
       "      <th>3</th>\n",
       "      <td>1</td>\n",
       "      <td>1.0</td>\n",
       "      <td>0</td>\n",
       "      <td>2.0</td>\n",
       "      <td>1.0</td>\n",
       "      <td>0.0</td>\n",
       "      <td>3.0</td>\n",
       "      <td>0</td>\n",
       "      <td>3.000000</td>\n",
       "      <td>2.0</td>\n",
       "      <td>0</td>\n",
       "      <td>3.0</td>\n",
       "    </tr>\n",
       "    <tr>\n",
       "      <th>4</th>\n",
       "      <td>0</td>\n",
       "      <td>3.0</td>\n",
       "      <td>1</td>\n",
       "      <td>2.0</td>\n",
       "      <td>0.0</td>\n",
       "      <td>0.0</td>\n",
       "      <td>1.0</td>\n",
       "      <td>0</td>\n",
       "      <td>6.099914</td>\n",
       "      <td>1.0</td>\n",
       "      <td>1</td>\n",
       "      <td>1.0</td>\n",
       "    </tr>\n",
       "  </tbody>\n",
       "</table>\n",
       "</div>"
      ],
      "text/plain": [
       "   Survived  Pclass  Sex  Age  SibSp  Parch  Fare  Embarked  CabinDeck  \\\n",
       "0         0     3.0    1  1.0    1.0    0.0   0.0         0   6.408382   \n",
       "1         1     1.0    0  2.0    1.0    0.0   3.0         1   3.000000   \n",
       "2         1     3.0    0  1.0    0.0    0.0   1.0         0   6.121712   \n",
       "3         1     1.0    0  2.0    1.0    0.0   3.0         0   3.000000   \n",
       "4         0     3.0    1  2.0    0.0    0.0   1.0         0   6.099914   \n",
       "\n",
       "   FamilySize  IsAlone  Title  \n",
       "0         2.0        0    1.0  \n",
       "1         2.0        0    3.0  \n",
       "2         1.0        1    2.0  \n",
       "3         2.0        0    3.0  \n",
       "4         1.0        1    1.0  "
      ]
     },
     "execution_count": 18,
     "metadata": {},
     "output_type": "execute_result"
    }
   ],
   "source": [
    "train_data = train_data.drop(['Name', 'Ticket', 'PassengerId', 'CabinDeckCode'], axis=1)\n",
    "test_data = test_data.drop(['Name', 'Ticket', 'PassengerId', 'CabinDeckCode'], axis=1)\n",
    "train_data.head()"
   ]
  },
  {
   "cell_type": "code",
   "execution_count": 19,
   "id": "ca641a0a",
   "metadata": {
    "execution": {
     "iopub.execute_input": "2024-02-26T08:09:19.033044Z",
     "iopub.status.busy": "2024-02-26T08:09:19.032650Z",
     "iopub.status.idle": "2024-02-26T08:09:19.040690Z",
     "shell.execute_reply": "2024-02-26T08:09:19.039330Z"
    },
    "papermill": {
     "duration": 0.025616,
     "end_time": "2024-02-26T08:09:19.043724",
     "exception": false,
     "start_time": "2024-02-26T08:09:19.018108",
     "status": "completed"
    },
    "tags": []
   },
   "outputs": [
    {
     "data": {
      "text/plain": [
       "((891, 12), (418, 11))"
      ]
     },
     "execution_count": 19,
     "metadata": {},
     "output_type": "execute_result"
    }
   ],
   "source": [
    "train_data.shape, test_data.shape"
   ]
  },
  {
   "cell_type": "code",
   "execution_count": 20,
   "id": "4f9ca6ed",
   "metadata": {
    "execution": {
     "iopub.execute_input": "2024-02-26T08:09:19.072050Z",
     "iopub.status.busy": "2024-02-26T08:09:19.071533Z",
     "iopub.status.idle": "2024-02-26T08:09:19.078942Z",
     "shell.execute_reply": "2024-02-26T08:09:19.077688Z"
    },
    "papermill": {
     "duration": 0.024333,
     "end_time": "2024-02-26T08:09:19.081322",
     "exception": false,
     "start_time": "2024-02-26T08:09:19.056989",
     "status": "completed"
    },
    "tags": []
   },
   "outputs": [],
   "source": [
    "y_train = train_data[\"Survived\"]\n",
    "X_train = train_data.drop([\"Survived\"], axis=1)\n",
    "\n",
    "# scaler = StandardScaler()\n",
    "\n",
    "# X_train = scaler.fit_transform(X_train)\n",
    "# y_train = y_train.to_numpy()\n",
    "\n",
    "# X_test = scaler.fit_transform(test_data)\n",
    "X_test = test_data"
   ]
  },
  {
   "cell_type": "code",
   "execution_count": 21,
   "id": "5788d5db",
   "metadata": {
    "execution": {
     "iopub.execute_input": "2024-02-26T08:09:19.110174Z",
     "iopub.status.busy": "2024-02-26T08:09:19.109714Z",
     "iopub.status.idle": "2024-02-26T08:09:19.117033Z",
     "shell.execute_reply": "2024-02-26T08:09:19.115733Z"
    },
    "papermill": {
     "duration": 0.024443,
     "end_time": "2024-02-26T08:09:19.119510",
     "exception": false,
     "start_time": "2024-02-26T08:09:19.095067",
     "status": "completed"
    },
    "tags": []
   },
   "outputs": [
    {
     "data": {
      "text/plain": [
       "((891, 11), (418, 11))"
      ]
     },
     "execution_count": 21,
     "metadata": {},
     "output_type": "execute_result"
    }
   ],
   "source": [
    "X_train.shape, X_test.shape"
   ]
  },
  {
   "cell_type": "code",
   "execution_count": 22,
   "id": "dec72b64",
   "metadata": {
    "execution": {
     "iopub.execute_input": "2024-02-26T08:09:19.147839Z",
     "iopub.status.busy": "2024-02-26T08:09:19.147411Z",
     "iopub.status.idle": "2024-02-26T08:09:19.195151Z",
     "shell.execute_reply": "2024-02-26T08:09:19.193991Z"
    },
    "papermill": {
     "duration": 0.064989,
     "end_time": "2024-02-26T08:09:19.198092",
     "exception": false,
     "start_time": "2024-02-26T08:09:19.133103",
     "status": "completed"
    },
    "tags": []
   },
   "outputs": [],
   "source": [
    "model = SVC()\n",
    "model.fit(X_train, y_train)\n",
    "\n",
    "predictions = model.predict(X_test)"
   ]
  },
  {
   "cell_type": "code",
   "execution_count": 23,
   "id": "5694cefa",
   "metadata": {
    "execution": {
     "iopub.execute_input": "2024-02-26T08:09:19.227902Z",
     "iopub.status.busy": "2024-02-26T08:09:19.227467Z",
     "iopub.status.idle": "2024-02-26T08:09:19.238512Z",
     "shell.execute_reply": "2024-02-26T08:09:19.237637Z"
    },
    "papermill": {
     "duration": 0.028688,
     "end_time": "2024-02-26T08:09:19.240897",
     "exception": false,
     "start_time": "2024-02-26T08:09:19.212209",
     "status": "completed"
    },
    "tags": []
   },
   "outputs": [],
   "source": [
    "submission = pd.DataFrame(passenger_ids, columns=[\"PassengerId\"])\n",
    "submission[\"Survived\"] = predictions\n",
    "submission.to_csv(\"submission.csv\", index=False)"
   ]
  },
  {
   "cell_type": "code",
   "execution_count": null,
   "id": "d4256d7d",
   "metadata": {
    "papermill": {
     "duration": 0.01267,
     "end_time": "2024-02-26T08:09:19.266889",
     "exception": false,
     "start_time": "2024-02-26T08:09:19.254219",
     "status": "completed"
    },
    "tags": []
   },
   "outputs": [],
   "source": []
  }
 ],
 "metadata": {
  "kaggle": {
   "accelerator": "none",
   "dataSources": [
    {
     "databundleVersionId": 26502,
     "sourceId": 3136,
     "sourceType": "competition"
    }
   ],
   "dockerImageVersionId": 30646,
   "isGpuEnabled": false,
   "isInternetEnabled": true,
   "language": "python",
   "sourceType": "notebook"
  },
  "kernelspec": {
   "display_name": "Python 3",
   "language": "python",
   "name": "python3"
  },
  "language_info": {
   "codemirror_mode": {
    "name": "ipython",
    "version": 3
   },
   "file_extension": ".py",
   "mimetype": "text/x-python",
   "name": "python",
   "nbconvert_exporter": "python",
   "pygments_lexer": "ipython3",
   "version": "3.10.13"
  },
  "papermill": {
   "default_parameters": {},
   "duration": 10.59939,
   "end_time": "2024-02-26T08:09:20.002059",
   "environment_variables": {},
   "exception": null,
   "input_path": "__notebook__.ipynb",
   "output_path": "__notebook__.ipynb",
   "parameters": {},
   "start_time": "2024-02-26T08:09:09.402669",
   "version": "2.5.0"
  }
 },
 "nbformat": 4,
 "nbformat_minor": 5
}
